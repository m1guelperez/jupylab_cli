{
 "cells": [
  {
   "cell_type": "code",
   "execution_count": 1,
   "metadata": {
    "_cell_guid": "b1076dfc-b9ad-4769-8c92-a6c4dae69d19",
    "_uuid": "8f2839f25d086af736a60e9eeb907d3b93b6e0e5"
   },
   "outputs": [
    {
     "name": "stderr",
     "output_type": "stream",
     "text": [
      "Using TensorFlow backend.\n"
     ]
    },
    {
     "name": "stdout",
     "output_type": "stream",
     "text": [
      "['ner_dataset.csv', 'ner.csv']\n"
     ]
    }
   ],
   "source": [
    "import numpy as np \n",
    "import pandas as pd\n",
    "import os\n",
    "\n",
    "import keras\n",
    "from keras.models import Sequential, Input, Model\n",
    "from keras.layers import Embedding, LSTM, Dense, Bidirectional, Dropout, TimeDistributed, Flatten\n",
    "from keras.preprocessing.sequence import pad_sequences\n",
    "\n",
    "print(os.listdir(\"../input\"))"
   ]
  },
  {
   "cell_type": "code",
   "execution_count": 2,
   "metadata": {
    "_cell_guid": "79c7e3d0-c299-4dcb-8224-4455121ee9b0",
    "_uuid": "d629ff2d2480ee46fbb7e2d37f6b5fab8052498a"
   },
   "outputs": [
    {
     "name": "stderr",
     "output_type": "stream",
     "text": [
      "b'Skipping line 281837: expected 25 fields, saw 34\\n'\n"
     ]
    },
    {
     "data": {
      "text/html": [
       "<div>\n",
       "<style scoped>\n",
       "    .dataframe tbody tr th:only-of-type {\n",
       "        vertical-align: middle;\n",
       "    }\n",
       "\n",
       "    .dataframe tbody tr th {\n",
       "        vertical-align: top;\n",
       "    }\n",
       "\n",
       "    .dataframe thead th {\n",
       "        text-align: right;\n",
       "    }\n",
       "</style>\n",
       "<table border=\"1\" class=\"dataframe\">\n",
       "  <thead>\n",
       "    <tr style=\"text-align: right;\">\n",
       "      <th></th>\n",
       "      <th>Unnamed: 0</th>\n",
       "      <th>lemma</th>\n",
       "      <th>next-lemma</th>\n",
       "      <th>next-next-lemma</th>\n",
       "      <th>next-next-pos</th>\n",
       "      <th>next-next-shape</th>\n",
       "      <th>next-next-word</th>\n",
       "      <th>next-pos</th>\n",
       "      <th>next-shape</th>\n",
       "      <th>next-word</th>\n",
       "      <th>pos</th>\n",
       "      <th>prev-iob</th>\n",
       "      <th>prev-lemma</th>\n",
       "      <th>prev-pos</th>\n",
       "      <th>prev-prev-iob</th>\n",
       "      <th>prev-prev-lemma</th>\n",
       "      <th>prev-prev-pos</th>\n",
       "      <th>prev-prev-shape</th>\n",
       "      <th>prev-prev-word</th>\n",
       "      <th>prev-shape</th>\n",
       "      <th>prev-word</th>\n",
       "      <th>sentence_idx</th>\n",
       "      <th>shape</th>\n",
       "      <th>word</th>\n",
       "      <th>tag</th>\n",
       "    </tr>\n",
       "  </thead>\n",
       "  <tbody>\n",
       "    <tr>\n",
       "      <th>0</th>\n",
       "      <td>0</td>\n",
       "      <td>thousand</td>\n",
       "      <td>of</td>\n",
       "      <td>demonstr</td>\n",
       "      <td>NNS</td>\n",
       "      <td>lowercase</td>\n",
       "      <td>demonstrators</td>\n",
       "      <td>IN</td>\n",
       "      <td>lowercase</td>\n",
       "      <td>of</td>\n",
       "      <td>NNS</td>\n",
       "      <td>__START1__</td>\n",
       "      <td>__start1__</td>\n",
       "      <td>__START1__</td>\n",
       "      <td>__START2__</td>\n",
       "      <td>__start2__</td>\n",
       "      <td>__START2__</td>\n",
       "      <td>wildcard</td>\n",
       "      <td>__START2__</td>\n",
       "      <td>wildcard</td>\n",
       "      <td>__START1__</td>\n",
       "      <td>1.0</td>\n",
       "      <td>capitalized</td>\n",
       "      <td>Thousands</td>\n",
       "      <td>O</td>\n",
       "    </tr>\n",
       "    <tr>\n",
       "      <th>1</th>\n",
       "      <td>1</td>\n",
       "      <td>of</td>\n",
       "      <td>demonstr</td>\n",
       "      <td>have</td>\n",
       "      <td>VBP</td>\n",
       "      <td>lowercase</td>\n",
       "      <td>have</td>\n",
       "      <td>NNS</td>\n",
       "      <td>lowercase</td>\n",
       "      <td>demonstrators</td>\n",
       "      <td>IN</td>\n",
       "      <td>O</td>\n",
       "      <td>thousand</td>\n",
       "      <td>NNS</td>\n",
       "      <td>__START1__</td>\n",
       "      <td>__start1__</td>\n",
       "      <td>__START1__</td>\n",
       "      <td>wildcard</td>\n",
       "      <td>__START1__</td>\n",
       "      <td>capitalized</td>\n",
       "      <td>Thousands</td>\n",
       "      <td>1.0</td>\n",
       "      <td>lowercase</td>\n",
       "      <td>of</td>\n",
       "      <td>O</td>\n",
       "    </tr>\n",
       "    <tr>\n",
       "      <th>2</th>\n",
       "      <td>2</td>\n",
       "      <td>demonstr</td>\n",
       "      <td>have</td>\n",
       "      <td>march</td>\n",
       "      <td>VBN</td>\n",
       "      <td>lowercase</td>\n",
       "      <td>marched</td>\n",
       "      <td>VBP</td>\n",
       "      <td>lowercase</td>\n",
       "      <td>have</td>\n",
       "      <td>NNS</td>\n",
       "      <td>O</td>\n",
       "      <td>of</td>\n",
       "      <td>IN</td>\n",
       "      <td>O</td>\n",
       "      <td>thousand</td>\n",
       "      <td>NNS</td>\n",
       "      <td>capitalized</td>\n",
       "      <td>Thousands</td>\n",
       "      <td>lowercase</td>\n",
       "      <td>of</td>\n",
       "      <td>1.0</td>\n",
       "      <td>lowercase</td>\n",
       "      <td>demonstrators</td>\n",
       "      <td>O</td>\n",
       "    </tr>\n",
       "    <tr>\n",
       "      <th>3</th>\n",
       "      <td>3</td>\n",
       "      <td>have</td>\n",
       "      <td>march</td>\n",
       "      <td>through</td>\n",
       "      <td>IN</td>\n",
       "      <td>lowercase</td>\n",
       "      <td>through</td>\n",
       "      <td>VBN</td>\n",
       "      <td>lowercase</td>\n",
       "      <td>marched</td>\n",
       "      <td>VBP</td>\n",
       "      <td>O</td>\n",
       "      <td>demonstr</td>\n",
       "      <td>NNS</td>\n",
       "      <td>O</td>\n",
       "      <td>of</td>\n",
       "      <td>IN</td>\n",
       "      <td>lowercase</td>\n",
       "      <td>of</td>\n",
       "      <td>lowercase</td>\n",
       "      <td>demonstrators</td>\n",
       "      <td>1.0</td>\n",
       "      <td>lowercase</td>\n",
       "      <td>have</td>\n",
       "      <td>O</td>\n",
       "    </tr>\n",
       "    <tr>\n",
       "      <th>4</th>\n",
       "      <td>4</td>\n",
       "      <td>march</td>\n",
       "      <td>through</td>\n",
       "      <td>london</td>\n",
       "      <td>NNP</td>\n",
       "      <td>capitalized</td>\n",
       "      <td>London</td>\n",
       "      <td>IN</td>\n",
       "      <td>lowercase</td>\n",
       "      <td>through</td>\n",
       "      <td>VBN</td>\n",
       "      <td>O</td>\n",
       "      <td>have</td>\n",
       "      <td>VBP</td>\n",
       "      <td>O</td>\n",
       "      <td>demonstr</td>\n",
       "      <td>NNS</td>\n",
       "      <td>lowercase</td>\n",
       "      <td>demonstrators</td>\n",
       "      <td>lowercase</td>\n",
       "      <td>have</td>\n",
       "      <td>1.0</td>\n",
       "      <td>lowercase</td>\n",
       "      <td>marched</td>\n",
       "      <td>O</td>\n",
       "    </tr>\n",
       "  </tbody>\n",
       "</table>\n",
       "</div>"
      ],
      "text/plain": [
       "   Unnamed: 0     lemma next-lemma ...        shape           word tag\n",
       "0           0  thousand         of ...  capitalized      Thousands   O\n",
       "1           1        of   demonstr ...    lowercase             of   O\n",
       "2           2  demonstr       have ...    lowercase  demonstrators   O\n",
       "3           3      have      march ...    lowercase           have   O\n",
       "4           4     march    through ...    lowercase        marched   O\n",
       "\n",
       "[5 rows x 25 columns]"
      ]
     },
     "execution_count": 2,
     "metadata": {},
     "output_type": "execute_result"
    }
   ],
   "source": [
    "dframe = pd.read_csv(\"../input/ner.csv\", encoding = \"ISO-8859-1\", error_bad_lines=False)\n",
    "dframe.head()"
   ]
  },
  {
   "cell_type": "code",
   "execution_count": 3,
   "metadata": {},
   "outputs": [],
   "source": [
    "dataset=dframe.drop(['Unnamed: 0', 'lemma', 'next-lemma', 'next-next-lemma', 'next-next-pos',\n",
    "       'next-next-shape', 'next-next-word', 'next-pos', 'next-shape',\n",
    "       'next-word', 'prev-iob', 'prev-lemma', 'prev-pos',\n",
    "       'prev-prev-iob', 'prev-prev-lemma', 'prev-prev-pos', 'prev-prev-shape',\n",
    "       'prev-prev-word', 'prev-shape', 'prev-word','shape'],axis=1)"
   ]
  },
  {
   "cell_type": "code",
   "execution_count": 4,
   "metadata": {},
   "outputs": [
    {
     "data": {
      "text/html": [
       "<div>\n",
       "<style scoped>\n",
       "    .dataframe tbody tr th:only-of-type {\n",
       "        vertical-align: middle;\n",
       "    }\n",
       "\n",
       "    .dataframe tbody tr th {\n",
       "        vertical-align: top;\n",
       "    }\n",
       "\n",
       "    .dataframe thead th {\n",
       "        text-align: right;\n",
       "    }\n",
       "</style>\n",
       "<table border=\"1\" class=\"dataframe\">\n",
       "  <thead>\n",
       "    <tr style=\"text-align: right;\">\n",
       "      <th></th>\n",
       "      <th>pos</th>\n",
       "      <th>sentence_idx</th>\n",
       "      <th>word</th>\n",
       "      <th>tag</th>\n",
       "    </tr>\n",
       "  </thead>\n",
       "  <tbody>\n",
       "    <tr>\n",
       "      <th>0</th>\n",
       "      <td>NNS</td>\n",
       "      <td>1.0</td>\n",
       "      <td>Thousands</td>\n",
       "      <td>O</td>\n",
       "    </tr>\n",
       "    <tr>\n",
       "      <th>1</th>\n",
       "      <td>IN</td>\n",
       "      <td>1.0</td>\n",
       "      <td>of</td>\n",
       "      <td>O</td>\n",
       "    </tr>\n",
       "    <tr>\n",
       "      <th>2</th>\n",
       "      <td>NNS</td>\n",
       "      <td>1.0</td>\n",
       "      <td>demonstrators</td>\n",
       "      <td>O</td>\n",
       "    </tr>\n",
       "    <tr>\n",
       "      <th>3</th>\n",
       "      <td>VBP</td>\n",
       "      <td>1.0</td>\n",
       "      <td>have</td>\n",
       "      <td>O</td>\n",
       "    </tr>\n",
       "    <tr>\n",
       "      <th>4</th>\n",
       "      <td>VBN</td>\n",
       "      <td>1.0</td>\n",
       "      <td>marched</td>\n",
       "      <td>O</td>\n",
       "    </tr>\n",
       "    <tr>\n",
       "      <th>5</th>\n",
       "      <td>IN</td>\n",
       "      <td>1.0</td>\n",
       "      <td>through</td>\n",
       "      <td>O</td>\n",
       "    </tr>\n",
       "    <tr>\n",
       "      <th>6</th>\n",
       "      <td>NNP</td>\n",
       "      <td>1.0</td>\n",
       "      <td>London</td>\n",
       "      <td>B-geo</td>\n",
       "    </tr>\n",
       "    <tr>\n",
       "      <th>7</th>\n",
       "      <td>TO</td>\n",
       "      <td>1.0</td>\n",
       "      <td>to</td>\n",
       "      <td>O</td>\n",
       "    </tr>\n",
       "    <tr>\n",
       "      <th>8</th>\n",
       "      <td>VB</td>\n",
       "      <td>1.0</td>\n",
       "      <td>protest</td>\n",
       "      <td>O</td>\n",
       "    </tr>\n",
       "    <tr>\n",
       "      <th>9</th>\n",
       "      <td>DT</td>\n",
       "      <td>1.0</td>\n",
       "      <td>the</td>\n",
       "      <td>O</td>\n",
       "    </tr>\n",
       "  </tbody>\n",
       "</table>\n",
       "</div>"
      ],
      "text/plain": [
       "   pos  sentence_idx           word    tag\n",
       "0  NNS           1.0      Thousands      O\n",
       "1   IN           1.0             of      O\n",
       "2  NNS           1.0  demonstrators      O\n",
       "3  VBP           1.0           have      O\n",
       "4  VBN           1.0        marched      O\n",
       "5   IN           1.0        through      O\n",
       "6  NNP           1.0         London  B-geo\n",
       "7   TO           1.0             to      O\n",
       "8   VB           1.0        protest      O\n",
       "9   DT           1.0            the      O"
      ]
     },
     "execution_count": 4,
     "metadata": {},
     "output_type": "execute_result"
    }
   ],
   "source": [
    "dataset.head(10)"
   ]
  },
  {
   "cell_type": "code",
   "execution_count": 5,
   "metadata": {},
   "outputs": [],
   "source": [
    "class SentenceGetter(object):\n",
    "    \n",
    "    def __init__(self, dataset):\n",
    "        self.n_sent = 1\n",
    "        self.dataset = dataset\n",
    "        self.empty = False\n",
    "        agg_func = lambda s: [(w, t) for w,t in zip(s[\"word\"].values.tolist(), s[\"tag\"].values.tolist())]\n",
    "        self.grouped = self.dataset.groupby(\"sentence_idx\").apply(agg_func)\n",
    "        self.sentences = [s for s in self.grouped]\n",
    "    \n",
    "    def get_next(self):\n",
    "        try:\n",
    "            s = self.grouped[\"Sentence: {}\".format(self.n_sent)]\n",
    "            self.n_sent += 1\n",
    "            return s\n",
    "        except:\n",
    "            return None"
   ]
  },
  {
   "cell_type": "code",
   "execution_count": 6,
   "metadata": {
    "collapsed": true
   },
   "outputs": [
    {
     "data": {
      "text/plain": [
       "[('Families', 'O'),\n",
       " ('of', 'O'),\n",
       " ('soldiers', 'O'),\n",
       " ('killed', 'O'),\n",
       " ('in', 'O'),\n",
       " ('the', 'O'),\n",
       " ('conflict', 'O'),\n",
       " ('joined', 'O'),\n",
       " ('the', 'O'),\n",
       " ('protesters', 'O'),\n",
       " ('who', 'O'),\n",
       " ('carried', 'O'),\n",
       " ('banners', 'O'),\n",
       " ('with', 'O'),\n",
       " ('such', 'O'),\n",
       " ('slogans', 'O'),\n",
       " ('as', 'O'),\n",
       " ('\"', 'O'),\n",
       " ('Bush', 'B-per'),\n",
       " ('Number', 'O'),\n",
       " ('One', 'O'),\n",
       " ('Terrorist', 'O'),\n",
       " ('\"', 'O'),\n",
       " ('and', 'O'),\n",
       " ('\"', 'O'),\n",
       " ('Stop', 'O'),\n",
       " ('the', 'O'),\n",
       " ('Bombings', 'O'),\n",
       " ('.', 'O'),\n",
       " ('\"', 'O'),\n",
       " ('Families', 'O'),\n",
       " ('of', 'O'),\n",
       " ('soldiers', 'O'),\n",
       " ('killed', 'O'),\n",
       " ('in', 'O'),\n",
       " ('the', 'O'),\n",
       " ('conflict', 'O'),\n",
       " ('joined', 'O'),\n",
       " ('the', 'O'),\n",
       " ('protesters', 'O'),\n",
       " ('who', 'O'),\n",
       " ('carried', 'O'),\n",
       " ('banners', 'O'),\n",
       " ('with', 'O'),\n",
       " ('such', 'O'),\n",
       " ('slogans', 'O'),\n",
       " ('as', 'O'),\n",
       " ('\"', 'O'),\n",
       " ('Bush', 'B-per'),\n",
       " ('Number', 'O'),\n",
       " ('One', 'O'),\n",
       " ('Terrorist', 'O'),\n",
       " ('\"', 'O'),\n",
       " ('and', 'O'),\n",
       " ('\"', 'O'),\n",
       " ('Stop', 'O'),\n",
       " ('the', 'O'),\n",
       " ('Bombings', 'O'),\n",
       " ('.', 'O'),\n",
       " ('\"', 'O')]"
      ]
     },
     "execution_count": 6,
     "metadata": {},
     "output_type": "execute_result"
    }
   ],
   "source": [
    "getter = SentenceGetter(dataset)\n",
    "sentences = getter.sentences\n",
    "sentences[1]"
   ]
  },
  {
   "cell_type": "code",
   "execution_count": 7,
   "metadata": {
    "collapsed": true
   },
   "outputs": [
    {
     "data": {
      "text/plain": [
       "['families',\n",
       " 'of',\n",
       " 'soldiers',\n",
       " 'killed',\n",
       " 'in',\n",
       " 'the',\n",
       " 'conflict',\n",
       " 'joined',\n",
       " 'the',\n",
       " 'protesters',\n",
       " 'who',\n",
       " 'carried',\n",
       " 'banners',\n",
       " 'with',\n",
       " 'such',\n",
       " 'slogans',\n",
       " 'as',\n",
       " '\"',\n",
       " 'bush',\n",
       " 'number',\n",
       " 'one',\n",
       " 'terrorist',\n",
       " '\"',\n",
       " 'and',\n",
       " '\"',\n",
       " 'stop',\n",
       " 'the',\n",
       " 'bombings',\n",
       " '.',\n",
       " '\"',\n",
       " 'families',\n",
       " 'of',\n",
       " 'soldiers',\n",
       " 'killed',\n",
       " 'in',\n",
       " 'the',\n",
       " 'conflict',\n",
       " 'joined',\n",
       " 'the',\n",
       " 'protesters',\n",
       " 'who',\n",
       " 'carried',\n",
       " 'banners',\n",
       " 'with',\n",
       " 'such',\n",
       " 'slogans',\n",
       " 'as',\n",
       " '\"',\n",
       " 'bush',\n",
       " 'number',\n",
       " 'one',\n",
       " 'terrorist',\n",
       " '\"',\n",
       " 'and',\n",
       " '\"',\n",
       " 'stop',\n",
       " 'the',\n",
       " 'bombings',\n",
       " '.',\n",
       " '\"']"
      ]
     },
     "execution_count": 7,
     "metadata": {},
     "output_type": "execute_result"
    }
   ],
   "source": [
    "sentences = [[s[0].lower() for s in sent] for sent in getter.sentences]\n",
    "sentences[1]"
   ]
  },
  {
   "cell_type": "code",
   "execution_count": 8,
   "metadata": {},
   "outputs": [
    {
     "name": "stdout",
     "output_type": "stream",
     "text": [
      "['O', 'O', 'O', 'O', 'O', 'O', 'O', 'O', 'O', 'O', 'O', 'O', 'O', 'O', 'O', 'O', 'O', 'O', 'B-per', 'O', 'O', 'O', 'O', 'O', 'O', 'O', 'O', 'O', 'O', 'O', 'O', 'O', 'O', 'O', 'O', 'O', 'O', 'O', 'O', 'O', 'O', 'O', 'O', 'O', 'O', 'O', 'O', 'O', 'B-per', 'O', 'O', 'O', 'O', 'O', 'O', 'O', 'O', 'O', 'O', 'O']\n"
     ]
    }
   ],
   "source": [
    "labels = [[s[1] for s in sent] for sent in getter.sentences]\n",
    "print(labels[1])"
   ]
  },
  {
   "cell_type": "code",
   "execution_count": 9,
   "metadata": {},
   "outputs": [
    {
     "name": "stdout",
     "output_type": "stream",
     "text": [
      "Maximum sequence length: 140\n"
     ]
    }
   ],
   "source": [
    "maxlen = max([len(s) for s in sentences])\n",
    "print ('Maximum sequence length:', maxlen)"
   ]
  },
  {
   "cell_type": "code",
   "execution_count": 10,
   "metadata": {},
   "outputs": [],
   "source": [
    "# Check how long sentences are so that we can pad them\n",
    "import matplotlib.pyplot as plt\n",
    "%matplotlib inline\n",
    "plt.style.use(\"ggplot\")"
   ]
  },
  {
   "cell_type": "code",
   "execution_count": 11,
   "metadata": {},
   "outputs": [
    {
     "data": {
      "image/png": "[encoded data removed]",
      "text/plain": [
       "<Figure size 432x288 with 1 Axes>"
      ]
     },
     "metadata": {},
     "output_type": "display_data"
    }
   ],
   "source": [
    "plt.hist([len(s) for s in sentences], bins=50)\n",
    "plt.show()"
   ]
  },
  {
   "cell_type": "code",
   "execution_count": 12,
   "metadata": {},
   "outputs": [
    {
     "data": {
      "text/plain": [
       "27422"
      ]
     },
     "execution_count": 12,
     "metadata": {},
     "output_type": "execute_result"
    }
   ],
   "source": [
    "words = np.array([x.lower() if isinstance(x, str) else x for x in dataset[\"word\"].values])\n",
    "words = list(set(words))\n",
    "words.append('unk')\n",
    "words.append('pad')\n",
    "n_words = len(words); n_words"
   ]
  },
  {
   "cell_type": "code",
   "execution_count": 13,
   "metadata": {},
   "outputs": [
    {
     "data": {
      "text/plain": [
       "18"
      ]
     },
     "execution_count": 13,
     "metadata": {},
     "output_type": "execute_result"
    }
   ],
   "source": [
    "tags = list(set(dataset[\"tag\"].values))\n",
    "n_tags = len(tags)\n",
    "n_tags"
   ]
  },
  {
   "cell_type": "code",
   "execution_count": 14,
   "metadata": {},
   "outputs": [],
   "source": [
    "word2idx = {w: i for i, w in enumerate(words)}\n",
    "tag2idx = {t: i for i, t in enumerate(tags)}"
   ]
  },
  {
   "cell_type": "code",
   "execution_count": 15,
   "metadata": {
    "collapsed": true
   },
   "outputs": [
    {
     "data": {
      "text/plain": [
       "{nan: 0,\n",
       " 'B-art': 1,\n",
       " 'I-org': 2,\n",
       " 'I-per': 3,\n",
       " 'I-eve': 4,\n",
       " 'B-tim': 5,\n",
       " 'B-org': 6,\n",
       " 'I-gpe': 7,\n",
       " 'I-tim': 8,\n",
       " 'B-eve': 9,\n",
       " 'B-geo': 10,\n",
       " 'I-art': 11,\n",
       " 'B-per': 12,\n",
       " 'B-gpe': 13,\n",
       " 'I-geo': 14,\n",
       " 'O': 15,\n",
       " 'I-nat': 16,\n",
       " 'B-nat': 17}"
      ]
     },
     "execution_count": 15,
     "metadata": {},
     "output_type": "execute_result"
    }
   ],
   "source": [
    "tag2idx"
   ]
  },
  {
   "cell_type": "code",
   "execution_count": 16,
   "metadata": {},
   "outputs": [
    {
     "data": {
      "text/plain": [
       "27420"
      ]
     },
     "execution_count": 16,
     "metadata": {},
     "output_type": "execute_result"
    }
   ],
   "source": [
    "word2idx['unk']"
   ]
  },
  {
   "cell_type": "code",
   "execution_count": 17,
   "metadata": {
    "collapsed": true
   },
   "outputs": [
    {
     "data": {
      "text/plain": [
       "[7503,\n",
       " 4230,\n",
       " 976,\n",
       " 5984,\n",
       " 20658,\n",
       " 15602,\n",
       " 5150,\n",
       " 10258,\n",
       " 15602,\n",
       " 8523,\n",
       " 10565,\n",
       " 25314,\n",
       " 25191,\n",
       " 11845,\n",
       " 9996,\n",
       " 6536,\n",
       " 3980,\n",
       " 11779,\n",
       " 26933,\n",
       " 22415,\n",
       " 10882,\n",
       " 10224,\n",
       " 11779,\n",
       " 1029,\n",
       " 11779,\n",
       " 7857,\n",
       " 15602,\n",
       " 2077,\n",
       " 20485,\n",
       " 11779,\n",
       " 7503,\n",
       " 4230,\n",
       " 976,\n",
       " 5984,\n",
       " 20658,\n",
       " 15602,\n",
       " 5150,\n",
       " 10258,\n",
       " 15602,\n",
       " 8523,\n",
       " 10565,\n",
       " 25314,\n",
       " 25191,\n",
       " 11845,\n",
       " 9996,\n",
       " 6536,\n",
       " 3980,\n",
       " 11779,\n",
       " 26933,\n",
       " 22415,\n",
       " 10882,\n",
       " 10224,\n",
       " 11779,\n",
       " 1029,\n",
       " 11779,\n",
       " 7857,\n",
       " 15602,\n",
       " 2077,\n",
       " 20485,\n",
       " 11779]"
      ]
     },
     "execution_count": 17,
     "metadata": {},
     "output_type": "execute_result"
    }
   ],
   "source": [
    "X = [[word2idx.get(w,'27420') for w in s] for s in sentences]\n",
    "X[1]"
   ]
  },
  {
   "cell_type": "code",
   "execution_count": 18,
   "metadata": {
    "collapsed": true
   },
   "outputs": [
    {
     "data": {
      "text/plain": [
       "[15,\n",
       " 15,\n",
       " 15,\n",
       " 15,\n",
       " 15,\n",
       " 15,\n",
       " 15,\n",
       " 15,\n",
       " 15,\n",
       " 15,\n",
       " 15,\n",
       " 15,\n",
       " 15,\n",
       " 15,\n",
       " 15,\n",
       " 15,\n",
       " 15,\n",
       " 15,\n",
       " 12,\n",
       " 15,\n",
       " 15,\n",
       " 15,\n",
       " 15,\n",
       " 15,\n",
       " 15,\n",
       " 15,\n",
       " 15,\n",
       " 15,\n",
       " 15,\n",
       " 15,\n",
       " 15,\n",
       " 15,\n",
       " 15,\n",
       " 15,\n",
       " 15,\n",
       " 15,\n",
       " 15,\n",
       " 15,\n",
       " 15,\n",
       " 15,\n",
       " 15,\n",
       " 15,\n",
       " 15,\n",
       " 15,\n",
       " 15,\n",
       " 15,\n",
       " 15,\n",
       " 15,\n",
       " 12,\n",
       " 15,\n",
       " 15,\n",
       " 15,\n",
       " 15,\n",
       " 15,\n",
       " 15,\n",
       " 15,\n",
       " 15,\n",
       " 15,\n",
       " 15,\n",
       " 15]"
      ]
     },
     "execution_count": 18,
     "metadata": {},
     "output_type": "execute_result"
    }
   ],
   "source": [
    "y = [[tag2idx.get(l) for l in lab] for lab in labels]\n",
    "y[1]"
   ]
  },
  {
   "cell_type": "code",
   "execution_count": 19,
   "metadata": {},
   "outputs": [],
   "source": [
    "X = pad_sequences(maxlen=140, sequences=X, padding=\"post\", value=n_words-1)"
   ]
  },
  {
   "cell_type": "code",
   "execution_count": 20,
   "metadata": {},
   "outputs": [
    {
     "data": {
      "text/plain": [
       "(27421, 27421)"
      ]
     },
     "execution_count": 20,
     "metadata": {},
     "output_type": "execute_result"
    }
   ],
   "source": [
    "word2idx['pad'], n_words-1"
   ]
  },
  {
   "cell_type": "code",
   "execution_count": 21,
   "metadata": {},
   "outputs": [],
   "source": [
    "y = pad_sequences(maxlen=140, sequences=y, padding=\"post\", value=tag2idx[\"O\"])"
   ]
  },
  {
   "cell_type": "code",
   "execution_count": 22,
   "metadata": {},
   "outputs": [
    {
     "data": {
      "text/plain": [
       "array([15, 15, 15, 15, 15, 15, 15, 15, 15, 15, 15, 15, 15, 15, 15, 15, 15,\n",
       "       15, 12, 15, 15, 15, 15, 15, 15, 15, 15, 15, 15, 15, 15, 15, 15, 15,\n",
       "       15, 15, 15, 15, 15, 15, 15, 15, 15, 15, 15, 15, 15, 15, 12, 15, 15,\n",
       "       15, 15, 15, 15, 15, 15, 15, 15, 15, 15, 15, 15, 15, 15, 15, 15, 15,\n",
       "       15, 15, 15, 15, 15, 15, 15, 15, 15, 15, 15, 15, 15, 15, 15, 15, 15,\n",
       "       15, 15, 15, 15, 15, 15, 15, 15, 15, 15, 15, 15, 15, 15, 15, 15, 15,\n",
       "       15, 15, 15, 15, 15, 15, 15, 15, 15, 15, 15, 15, 15, 15, 15, 15, 15,\n",
       "       15, 15, 15, 15, 15, 15, 15, 15, 15, 15, 15, 15, 15, 15, 15, 15, 15,\n",
       "       15, 15, 15, 15], dtype=int32)"
      ]
     },
     "execution_count": 22,
     "metadata": {},
     "output_type": "execute_result"
    }
   ],
   "source": [
    "y[1]"
   ]
  },
  {
   "cell_type": "code",
   "execution_count": 23,
   "metadata": {},
   "outputs": [
    {
     "data": {
      "text/plain": [
       "array([ 7503,  4230,   976,  5984, 20658, 15602,  5150, 10258, 15602,\n",
       "        8523, 10565, 25314, 25191, 11845,  9996,  6536,  3980, 11779,\n",
       "       26933, 22415, 10882, 10224, 11779,  1029, 11779,  7857, 15602,\n",
       "        2077, 20485, 11779,  7503,  4230,   976,  5984, 20658, 15602,\n",
       "        5150, 10258, 15602,  8523, 10565, 25314, 25191, 11845,  9996,\n",
       "        6536,  3980, 11779, 26933, 22415, 10882, 10224, 11779,  1029,\n",
       "       11779,  7857, 15602,  2077, 20485, 11779, 27421, 27421, 27421,\n",
       "       27421, 27421, 27421, 27421, 27421, 27421, 27421, 27421, 27421,\n",
       "       27421, 27421, 27421, 27421, 27421, 27421, 27421, 27421, 27421,\n",
       "       27421, 27421, 27421, 27421, 27421, 27421, 27421, 27421, 27421,\n",
       "       27421, 27421, 27421, 27421, 27421, 27421, 27421, 27421, 27421,\n",
       "       27421, 27421, 27421, 27421, 27421, 27421, 27421, 27421, 27421,\n",
       "       27421, 27421, 27421, 27421, 27421, 27421, 27421, 27421, 27421,\n",
       "       27421, 27421, 27421, 27421, 27421, 27421, 27421, 27421, 27421,\n",
       "       27421, 27421, 27421, 27421, 27421, 27421, 27421, 27421, 27421,\n",
       "       27421, 27421, 27421, 27421, 27421], dtype=int32)"
      ]
     },
     "execution_count": 23,
     "metadata": {},
     "output_type": "execute_result"
    }
   ],
   "source": [
    "X[1]"
   ]
  },
  {
   "cell_type": "code",
   "execution_count": 24,
   "metadata": {},
   "outputs": [],
   "source": [
    "from sklearn.model_selection import train_test_split\n",
    "X_train, X_test, y_train, y_test = train_test_split(X, y, test_size=0.20, random_state=0)"
   ]
  },
  {
   "cell_type": "code",
   "execution_count": 25,
   "metadata": {},
   "outputs": [
    {
     "name": "stdout",
     "output_type": "stream",
     "text": [
      "(28141, 140) (28141, 140, 18)\n"
     ]
    }
   ],
   "source": [
    "y_train = keras.utils.to_categorical(y_train)\n",
    "print(X_train.shape, y_train.shape)"
   ]
  },
  {
   "cell_type": "code",
   "execution_count": 26,
   "metadata": {},
   "outputs": [
    {
     "name": "stdout",
     "output_type": "stream",
     "text": [
      "WARNING:tensorflow:From /opt/conda/lib/python3.6/site-packages/tensorflow/python/framework/op_def_library.py:263: colocate_with (from tensorflow.python.framework.ops) is deprecated and will be removed in a future version.\n",
      "Instructions for updating:\n",
      "Colocations handled automatically by placer.\n",
      "WARNING:tensorflow:From /opt/conda/lib/python3.6/site-packages/tensorflow/python/ops/math_ops.py:3066: to_int32 (from tensorflow.python.ops.math_ops) is deprecated and will be removed in a future version.\n",
      "Instructions for updating:\n",
      "Use tf.cast instead.\n",
      "Train on 22512 samples, validate on 5629 samples\n",
      "Epoch 1/5\n",
      "22512/22512 [==============================] - 114s 5ms/step - loss: 0.2810 - acc: 0.9609 - val_loss: 0.1494 - val_acc: 0.9674\n",
      "Epoch 2/5\n",
      "22512/22512 [==============================] - 108s 5ms/step - loss: 0.1136 - acc: 0.9704 - val_loss: 0.0805 - val_acc: 0.9762\n",
      "Epoch 3/5\n",
      "22512/22512 [==============================] - 107s 5ms/step - loss: 0.0679 - acc: 0.9790 - val_loss: 0.0643 - val_acc: 0.9812\n",
      "Epoch 4/5\n",
      "22512/22512 [==============================] - 107s 5ms/step - loss: 0.0534 - acc: 0.9845 - val_loss: 0.0553 - val_acc: 0.9851\n",
      "Epoch 5/5\n",
      "22512/22512 [==============================] - 106s 5ms/step - loss: 0.0419 - acc: 0.9888 - val_loss: 0.0462 - val_acc: 0.9877\n"
     ]
    },
    {
     "data": {
      "text/plain": [
       "<keras.callbacks.History at 0x7f5a9f3c5be0>"
      ]
     },
     "execution_count": 26,
     "metadata": {},
     "output_type": "execute_result"
    }
   ],
   "source": [
    "model = Sequential()\n",
    "\n",
    "model.add(Embedding(n_words, 50))\n",
    "model.add(Bidirectional(LSTM(140, return_sequences=True)))\n",
    "model.add(Bidirectional(LSTM(140, return_sequences=True)))\n",
    "model.add(TimeDistributed(Dense(n_tags, activation=\"softmax\")))\n",
    "model.compile(optimizer=\"adam\", loss=\"categorical_crossentropy\", metrics=[\"accuracy\"])\n",
    "model.fit(X_train, y_train, batch_size=150, epochs=5, verbose=1, validation_split=0.2)"
   ]
  },
  {
   "cell_type": "code",
   "execution_count": 27,
   "metadata": {},
   "outputs": [],
   "source": [
    "pred = model.predict(X_test)   "
   ]
  },
  {
   "cell_type": "code",
   "execution_count": 28,
   "metadata": {},
   "outputs": [
    {
     "data": {
      "text/plain": [
       "array([[[4.6552694e-05, 7.9712179e-04, 1.5183000e-04, ...,\n",
       "         1.6866018e-04, 1.0348230e-04, 1.2616835e-04],\n",
       "        [3.2441440e-06, 3.4225752e-05, 2.5458969e-04, ...,\n",
       "         9.9751544e-01, 1.8300203e-05, 4.2048636e-05],\n",
       "        [7.6127174e-07, 2.9680346e-05, 1.0246923e-04, ...,\n",
       "         9.9861383e-01, 3.6924455e-06, 3.7627400e-05],\n",
       "        ...,\n",
       "        [2.2434350e-09, 2.2967736e-08, 1.0087494e-08, ...,\n",
       "         9.9999893e-01, 2.1012629e-09, 2.6517766e-08],\n",
       "        [5.5949125e-09, 5.6834885e-08, 2.3750808e-08, ...,\n",
       "         9.9999762e-01, 5.2062261e-09, 6.3506775e-08],\n",
       "        [1.9111563e-07, 2.1815590e-06, 9.0732220e-07, ...,\n",
       "         9.9994874e-01, 1.5598224e-07, 1.8049953e-06]],\n",
       "\n",
       "       [[3.9322335e-06, 6.3425527e-05, 2.7549872e-04, ...,\n",
       "         9.9772853e-01, 1.9363144e-05, 7.0020440e-05],\n",
       "        [5.6698241e-07, 1.9156483e-05, 6.7832778e-05, ...,\n",
       "         9.9914098e-01, 2.3533378e-06, 2.3468552e-05],\n",
       "        [2.2676536e-06, 1.4995440e-04, 3.1101663e-04, ...,\n",
       "         9.9107963e-01, 8.9632122e-06, 1.0666612e-04],\n",
       "        ...,\n",
       "        [2.1781892e-09, 2.2091017e-08, 9.7909263e-09, ...,\n",
       "         9.9999893e-01, 2.0173758e-09, 2.5585443e-08],\n",
       "        [5.3641083e-09, 5.4279003e-08, 2.2933255e-08, ...,\n",
       "         9.9999762e-01, 4.9707540e-09, 6.0793539e-08],\n",
       "        [1.8138209e-07, 2.0773070e-06, 8.6615859e-07, ...,\n",
       "         9.9995065e-01, 1.4801336e-07, 1.7174262e-06]],\n",
       "\n",
       "       [[7.2514566e-05, 1.2077235e-03, 5.2604376e-04, ...,\n",
       "         1.5390340e-04, 1.4343965e-04, 1.3160026e-04],\n",
       "        [4.2793501e-05, 8.2078076e-04, 2.4195727e-02, ...,\n",
       "         8.3234578e-01, 3.4324799e-04, 5.3515803e-04],\n",
       "        [2.8319662e-05, 2.0311119e-03, 1.0132693e-01, ...,\n",
       "         3.7732724e-02, 3.8673982e-04, 5.5328174e-04],\n",
       "        ...,\n",
       "        [2.2132758e-09, 2.2569255e-08, 9.9487538e-09, ...,\n",
       "         9.9999893e-01, 2.0629920e-09, 2.6088626e-08],\n",
       "        [5.4862266e-09, 5.5650940e-08, 2.3359583e-08, ...,\n",
       "         9.9999762e-01, 5.0959557e-09, 6.2232132e-08],\n",
       "        [1.8647540e-07, 2.1326066e-06, 8.8756690e-07, ...,\n",
       "         9.9994957e-01, 1.5215429e-07, 1.7633087e-06]],\n",
       "\n",
       "       ...,\n",
       "\n",
       "       [[6.7347846e-06, 1.6533761e-04, 1.1372425e-03, ...,\n",
       "         9.9373537e-01, 4.1585747e-05, 1.3417826e-04],\n",
       "        [2.8951877e-06, 1.8982271e-04, 9.1229408e-04, ...,\n",
       "         9.9278378e-01, 1.6497863e-05, 1.3882721e-04],\n",
       "        [7.6639225e-07, 4.3581680e-05, 4.8492767e-04, ...,\n",
       "         9.9821055e-01, 4.8263742e-06, 4.3543252e-05],\n",
       "        ...,\n",
       "        [2.1728945e-09, 2.2017696e-08, 9.7672554e-09, ...,\n",
       "         9.9999893e-01, 2.0104116e-09, 2.5509719e-08],\n",
       "        [5.3464064e-09, 5.4070174e-08, 2.2870136e-08, ...,\n",
       "         9.9999762e-01, 4.9523949e-09, 6.0581023e-08],\n",
       "        [1.8062896e-07, 2.0689779e-06, 8.6303112e-07, ...,\n",
       "         9.9995065e-01, 1.4740213e-07, 1.7106148e-06]],\n",
       "\n",
       "       [[3.6358524e-05, 5.4901018e-04, 6.9195557e-05, ...,\n",
       "         1.7610908e-04, 7.7483892e-05, 9.5076779e-05],\n",
       "        [1.1972199e-06, 1.1724071e-05, 6.2178580e-05, ...,\n",
       "         9.9903834e-01, 6.0826346e-06, 1.3921232e-05],\n",
       "        [1.9863988e-07, 6.4350515e-06, 1.7960516e-05, ...,\n",
       "         9.9969482e-01, 9.8046530e-07, 7.0532737e-06],\n",
       "        ...,\n",
       "        [2.1802173e-09, 2.2119096e-08, 9.7999688e-09, ...,\n",
       "         9.9999893e-01, 2.0200364e-09, 2.5614495e-08],\n",
       "        [5.3710902e-09, 5.4358367e-08, 2.2957282e-08, ...,\n",
       "         9.9999762e-01, 4.9779363e-09, 6.0875465e-08],\n",
       "        [1.8166996e-07, 2.0804810e-06, 8.6735213e-07, ...,\n",
       "         9.9995053e-01, 1.4824698e-07, 1.7200274e-06]],\n",
       "\n",
       "       [[7.8927769e-06, 1.5949438e-04, 8.7368622e-04, ...,\n",
       "         9.9422109e-01, 4.4298478e-05, 1.6457673e-04],\n",
       "        [1.5453597e-06, 6.2912703e-05, 2.2860947e-04, ...,\n",
       "         9.9730372e-01, 7.5920179e-06, 8.0648730e-05],\n",
       "        [1.1307335e-06, 4.9119750e-05, 1.0437310e-04, ...,\n",
       "         9.9726486e-01, 4.9050491e-06, 7.5033793e-05],\n",
       "        ...,\n",
       "        [2.1736324e-09, 2.2027903e-08, 9.7705728e-09, ...,\n",
       "         9.9999893e-01, 2.0113859e-09, 2.5520329e-08],\n",
       "        [5.3488849e-09, 5.4099370e-08, 2.2879080e-08, ...,\n",
       "         9.9999762e-01, 4.9549644e-09, 6.0610958e-08],\n",
       "        [1.8073457e-07, 2.0701343e-06, 8.6347080e-07, ...,\n",
       "         9.9995065e-01, 1.4748750e-07, 1.7115710e-06]]], dtype=float32)"
      ]
     },
     "execution_count": 28,
     "metadata": {},
     "output_type": "execute_result"
    }
   ],
   "source": [
    " pred"
   ]
  },
  {
   "cell_type": "markdown",
   "metadata": {},
   "source": [
    "**Functional API**"
   ]
  },
  {
   "cell_type": "code",
   "execution_count": 29,
   "metadata": {},
   "outputs": [],
   "source": [
    "# input = Input(shape=(140,))\n",
    "# model = Embedding(n_words, 50)(input)\n",
    "# model = Bidirectional(LSTM(units=140, return_sequences=True))(model)\n",
    "# model = Bidirectional(LSTM(units=140, return_sequences=True))(model)\n",
    "# # reshape = keras.layers.Reshape((-1, 140, 1))(model)\n",
    "\n",
    "# out = TimeDistributed(Dense(18, activation=\"softmax\"))(model)  # softmax output layer\n",
    "# model = Model(input, out)\n",
    "\n",
    "# model.compile(optimizer=\"adam\", loss=\"categorical_crossentropy\", metrics=[\"accuracy\"])\n",
    "\n",
    "# model.fit(X_train, y_train, batch_size=150, epochs=1, verbose=1)"
   ]
  },
  {
   "cell_type": "code",
   "execution_count": 30,
   "metadata": {},
   "outputs": [
    {
     "name": "stdout",
     "output_type": "stream",
     "text": [
      "_________________________________________________________________\n",
      "Layer (type)                 Output Shape              Param #   \n",
      "=================================================================\n",
      "embedding_1 (Embedding)      (None, None, 50)          1371100   \n",
      "_________________________________________________________________\n",
      "bidirectional_1 (Bidirection (None, None, 280)         213920    \n",
      "_________________________________________________________________\n",
      "bidirectional_2 (Bidirection (None, None, 280)         471520    \n",
      "_________________________________________________________________\n",
      "time_distributed_1 (TimeDist (None, None, 18)          5058      \n",
      "=================================================================\n",
      "Total params: 2,061,598\n",
      "Trainable params: 2,061,598\n",
      "Non-trainable params: 0\n",
      "_________________________________________________________________\n"
     ]
    }
   ],
   "source": [
    "model.summary()"
   ]
  },
  {
   "cell_type": "code",
   "execution_count": 31,
   "metadata": {},
   "outputs": [
    {
     "name": "stdout",
     "output_type": "stream",
     "text": [
      "Word           (True ): Pred\n",
      "the           : O\n",
      "u.s.          : B-geo\n",
      "official      : O\n",
      "stressed      : O\n",
      "the           : O\n",
      "only          : O\n",
      "way           : O\n",
      "to            : O\n",
      "successfully  : O\n",
      "counter       : O\n",
      "the           : O\n",
      "threat        : O\n",
      "is            : O\n",
      "to            : O\n",
      "learn         : O\n",
      "to            : O\n",
      "work          : O\n",
      "effectively   : O\n",
      "together      : O\n",
      ".             : O\n",
      "the           : O\n",
      "u.s.          : B-geo\n",
      "official      : O\n",
      "stressed      : O\n",
      "the           : O\n",
      "only          : O\n",
      "way           : O\n",
      "to            : O\n",
      "successfully  : O\n",
      "counter       : O\n",
      "the           : O\n",
      "threat        : O\n",
      "is            : O\n",
      "to            : O\n",
      "learn         : O\n",
      "to            : O\n",
      "work          : O\n",
      "effectively   : O\n",
      "together      : O\n",
      ".             : O\n",
      "pad           : O\n",
      "pad           : O\n",
      "pad           : O\n",
      "pad           : O\n",
      "pad           : O\n",
      "pad           : O\n",
      "pad           : O\n",
      "pad           : O\n",
      "pad           : O\n",
      "pad           : O\n",
      "pad           : O\n",
      "pad           : O\n",
      "pad           : O\n",
      "pad           : O\n",
      "pad           : O\n",
      "pad           : O\n",
      "pad           : O\n",
      "pad           : O\n",
      "pad           : O\n",
      "pad           : O\n",
      "pad           : O\n",
      "pad           : O\n",
      "pad           : O\n",
      "pad           : O\n",
      "pad           : O\n",
      "pad           : O\n",
      "pad           : O\n",
      "pad           : O\n",
      "pad           : O\n",
      "pad           : O\n",
      "pad           : O\n",
      "pad           : O\n",
      "pad           : O\n",
      "pad           : O\n",
      "pad           : O\n",
      "pad           : O\n",
      "pad           : O\n",
      "pad           : O\n",
      "pad           : O\n",
      "pad           : O\n",
      "pad           : O\n",
      "pad           : O\n",
      "pad           : O\n",
      "pad           : O\n",
      "pad           : O\n",
      "pad           : O\n",
      "pad           : O\n",
      "pad           : O\n",
      "pad           : O\n",
      "pad           : O\n",
      "pad           : O\n",
      "pad           : O\n",
      "pad           : O\n",
      "pad           : O\n",
      "pad           : O\n",
      "pad           : O\n",
      "pad           : O\n",
      "pad           : O\n",
      "pad           : O\n",
      "pad           : O\n",
      "pad           : O\n",
      "pad           : O\n",
      "pad           : O\n",
      "pad           : O\n",
      "pad           : O\n",
      "pad           : O\n",
      "pad           : O\n",
      "pad           : O\n",
      "pad           : O\n",
      "pad           : O\n",
      "pad           : O\n",
      "pad           : O\n",
      "pad           : O\n",
      "pad           : O\n",
      "pad           : O\n",
      "pad           : O\n",
      "pad           : O\n",
      "pad           : O\n",
      "pad           : O\n",
      "pad           : O\n",
      "pad           : O\n",
      "pad           : O\n",
      "pad           : O\n",
      "pad           : O\n",
      "pad           : O\n",
      "pad           : O\n",
      "pad           : O\n",
      "pad           : O\n",
      "pad           : O\n",
      "pad           : O\n",
      "pad           : O\n",
      "pad           : O\n",
      "pad           : O\n",
      "pad           : O\n",
      "pad           : O\n",
      "pad           : O\n",
      "pad           : O\n",
      "pad           : O\n",
      "pad           : O\n",
      "pad           : O\n"
     ]
    }
   ],
   "source": [
    "i = 5\n",
    "p = model.predict(np.array([X_test[i]]))\n",
    "p = np.argmax(p, axis=-1)\n",
    "print(\"{:14} ({:5}): {}\".format(\"Word\", \"True\", \"Pred\"))\n",
    "for w,pred in zip(X_test[i],p[0]):\n",
    "    print(\"{:14}: {}\".format(words[w],tags[pred]))"
   ]
  },
  {
   "cell_type": "code",
   "execution_count": 32,
   "metadata": {},
   "outputs": [],
   "source": []
  }
 ],
 "metadata": {
  "kernelspec": {
   "display_name": "Python 3",
   "language": "python",
   "name": "python3"
  },
  "language_info": {
   "codemirror_mode": {
    "name": "ipython",
    "version": 3
   },
   "file_extension": ".py",
   "mimetype": "text/x-python",
   "name": "python",
   "nbconvert_exporter": "python",
   "pygments_lexer": "ipython3",
   "version": "3.6.4"
  }
 },
 "nbformat": 4,
 "nbformat_minor": 1
}
