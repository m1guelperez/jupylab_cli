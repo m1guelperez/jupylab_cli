{
 "cells": [
  {
   "cell_type": "code",
   "execution_count": 1,
   "metadata": {
    "_cell_guid": "b1076dfc-b9ad-4769-8c92-a6c4dae69d19",
    "_uuid": "8f2839f25d086af736a60e9eeb907d3b93b6e0e5"
   },
   "outputs": [],
   "source": [
    "# This Python 3 environment comes with many helpful analytics libraries installed\n",
    "# It is defined by the kaggle/python docker image: https://github.com/kaggle/docker-python\n",
    "# For example, here's several helpful packages to load in \n",
    "\n",
    "import numpy as np # linear algebra\n",
    "import pandas as pd # data processing, CSV file I/O (e.g. pd.read_csv)\n",
    "import matplotlib.pyplot as plt\n",
    "import seaborn as sns\n",
    "from subprocess import check_output\n",
    "from wordcloud import WordCloud, STOPWORDS\n",
    "\n",
    "# Input data files are available in the \"../input/\" directory.\n",
    "# For example, running this (by clicking run or pressing Shift+Enter) will list all files under the input directory\n",
    "\n",
    "import os\n",
    "\n",
    "# Any results you write to the current directory are saved as output."
   ]
  },
  {
   "cell_type": "code",
   "execution_count": 2,
   "metadata": {
    "_cell_guid": "79c7e3d0-c299-4dcb-8224-4455121ee9b0",
    "_uuid": "d629ff2d2480ee46fbb7e2d37f6b5fab8052498a"
   },
   "outputs": [],
   "source": [
    "df_startups = pd.read_csv(\"../input/startups/startup_funding.csv\",index_col=0)"
   ]
  },
  {
   "cell_type": "code",
   "execution_count": 3,
   "metadata": {},
   "outputs": [
    {
     "name": "stdout",
     "output_type": "stream",
     "text": [
      "(3009, 9)\n",
      "Date                1009\n",
      "StartupName         2439\n",
      "IndustryVertical     811\n",
      "SubVertical         1912\n",
      "CityLocation         109\n",
      "InvestorsName       2380\n",
      "InvestmentnType       50\n",
      "AmountinUSD          458\n",
      "Remarks               72\n",
      "dtype: int64\n",
      "<class 'pandas.core.frame.DataFrame'>\n",
      "Int64Index: 3009 entries, 0 to 3057\n",
      "Data columns (total 9 columns):\n",
      "Date                3009 non-null object\n",
      "StartupName         3009 non-null object\n",
      "IndustryVertical    2838 non-null object\n",
      "SubVertical         2073 non-null object\n",
      "CityLocation        2829 non-null object\n",
      "InvestorsName       2986 non-null object\n",
      "InvestmentnType     3006 non-null object\n",
      "AmountinUSD         2049 non-null object\n",
      "Remarks             419 non-null object\n",
      "dtypes: object(9)\n",
      "memory usage: 235.1+ KB\n",
      "None\n"
     ]
    }
   ],
   "source": [
    "print(df_startups.shape)\n",
    "print(df_startups.nunique())\n",
    "print(df_startups.info())"
   ]
  },
  {
   "cell_type": "code",
   "execution_count": 4,
   "metadata": {},
   "outputs": [
    {
     "data": {
      "text/html": [
       "<div>\n",
       "<style scoped>\n",
       "    .dataframe tbody tr th:only-of-type {\n",
       "        vertical-align: middle;\n",
       "    }\n",
       "\n",
       "    .dataframe tbody tr th {\n",
       "        vertical-align: top;\n",
       "    }\n",
       "\n",
       "    .dataframe thead th {\n",
       "        text-align: right;\n",
       "    }\n",
       "</style>\n",
       "<table border=\"1\" class=\"dataframe\">\n",
       "  <thead>\n",
       "    <tr style=\"text-align: right;\">\n",
       "      <th></th>\n",
       "      <th>Date</th>\n",
       "      <th>StartupName</th>\n",
       "      <th>IndustryVertical</th>\n",
       "      <th>SubVertical</th>\n",
       "      <th>CityLocation</th>\n",
       "      <th>InvestorsName</th>\n",
       "      <th>InvestmentnType</th>\n",
       "      <th>AmountinUSD</th>\n",
       "      <th>Remarks</th>\n",
       "    </tr>\n",
       "    <tr>\n",
       "      <th>Sr No</th>\n",
       "      <th></th>\n",
       "      <th></th>\n",
       "      <th></th>\n",
       "      <th></th>\n",
       "      <th></th>\n",
       "      <th></th>\n",
       "      <th></th>\n",
       "      <th></th>\n",
       "      <th></th>\n",
       "    </tr>\n",
       "  </thead>\n",
       "  <tbody>\n",
       "    <tr>\n",
       "      <td>0</td>\n",
       "      <td>05-09-2019</td>\n",
       "      <td>FPL Technologies</td>\n",
       "      <td>FinTech</td>\n",
       "      <td>Financial Services</td>\n",
       "      <td>Pune</td>\n",
       "      <td>Matrix Partners India, Sequoia India</td>\n",
       "      <td>Maiden Round</td>\n",
       "      <td>45,00,000</td>\n",
       "      <td>NaN</td>\n",
       "    </tr>\n",
       "    <tr>\n",
       "      <td>1</td>\n",
       "      <td>04-09-2019</td>\n",
       "      <td>Cashflo</td>\n",
       "      <td>FinTech</td>\n",
       "      <td>Invoice discounting platform and SME lending m...</td>\n",
       "      <td>Mumbai</td>\n",
       "      <td>SAIF Partners</td>\n",
       "      <td>Series A</td>\n",
       "      <td>33,00,000</td>\n",
       "      <td>NaN</td>\n",
       "    </tr>\n",
       "    <tr>\n",
       "      <td>2</td>\n",
       "      <td>04-09-2019</td>\n",
       "      <td>Digital F5</td>\n",
       "      <td>Advertising, Marketing</td>\n",
       "      <td>Digital marketing firm</td>\n",
       "      <td>Mumbai</td>\n",
       "      <td>TIW Private Equity</td>\n",
       "      <td>Private Equity Round</td>\n",
       "      <td>60,00,000</td>\n",
       "      <td>NaN</td>\n",
       "    </tr>\n",
       "    <tr>\n",
       "      <td>3</td>\n",
       "      <td>04-09-2019</td>\n",
       "      <td>3rdFlix</td>\n",
       "      <td>SaaS</td>\n",
       "      <td>Education Technology</td>\n",
       "      <td>Hyderabad</td>\n",
       "      <td>Exfinity Venture Partners</td>\n",
       "      <td>pre-series A</td>\n",
       "      <td>50,00,000</td>\n",
       "      <td>NaN</td>\n",
       "    </tr>\n",
       "    <tr>\n",
       "      <td>4</td>\n",
       "      <td>04-09-2019</td>\n",
       "      <td>75F</td>\n",
       "      <td>IoT</td>\n",
       "      <td>Building automation system</td>\n",
       "      <td>Burnsville</td>\n",
       "      <td>Breakthrough Energy Ventures</td>\n",
       "      <td>Series A</td>\n",
       "      <td>1,80,00,000</td>\n",
       "      <td>NaN</td>\n",
       "    </tr>\n",
       "  </tbody>\n",
       "</table>\n",
       "</div>"
      ],
      "text/plain": [
       "             Date       StartupName        IndustryVertical  \\\n",
       "Sr No                                                         \n",
       "0      05-09-2019  FPL Technologies                 FinTech   \n",
       "1      04-09-2019           Cashflo                 FinTech   \n",
       "2      04-09-2019        Digital F5  Advertising, Marketing   \n",
       "3      04-09-2019           3rdFlix                    SaaS   \n",
       "4      04-09-2019               75F                     IoT   \n",
       "\n",
       "                                             SubVertical CityLocation  \\\n",
       "Sr No                                                                   \n",
       "0                                     Financial Services         Pune   \n",
       "1      Invoice discounting platform and SME lending m...       Mumbai   \n",
       "2                                 Digital marketing firm       Mumbai   \n",
       "3                                   Education Technology    Hyderabad   \n",
       "4                             Building automation system   Burnsville   \n",
       "\n",
       "                              InvestorsName       InvestmentnType  \\\n",
       "Sr No                                                               \n",
       "0      Matrix Partners India, Sequoia India          Maiden Round   \n",
       "1                             SAIF Partners              Series A   \n",
       "2                        TIW Private Equity  Private Equity Round   \n",
       "3                 Exfinity Venture Partners          pre-series A   \n",
       "4              Breakthrough Energy Ventures              Series A   \n",
       "\n",
       "       AmountinUSD Remarks  \n",
       "Sr No                       \n",
       "0        45,00,000     NaN  \n",
       "1        33,00,000     NaN  \n",
       "2        60,00,000     NaN  \n",
       "3        50,00,000     NaN  \n",
       "4      1,80,00,000     NaN  "
      ]
     },
     "execution_count": 4,
     "metadata": {},
     "output_type": "execute_result"
    }
   ],
   "source": [
    "df_startups.head()"
   ]
  },
  {
   "cell_type": "code",
   "execution_count": 5,
   "metadata": {},
   "outputs": [
    {
     "data": {
      "text/plain": [
       "(3009, 9)"
      ]
     },
     "execution_count": 5,
     "metadata": {},
     "output_type": "execute_result"
    }
   ],
   "source": [
    "df_startups.shape"
   ]
  },
  {
   "cell_type": "code",
   "execution_count": 6,
   "metadata": {},
   "outputs": [
    {
     "name": "stdout",
     "output_type": "stream",
     "text": [
      "Data discription\n",
      "Date                   0\n",
      "StartupName            0\n",
      "IndustryVertical     171\n",
      "SubVertical          936\n",
      "CityLocation         180\n",
      "InvestorsName         23\n",
      "InvestmentnType        3\n",
      "AmountinUSD          960\n",
      "Remarks             2590\n",
      "dtype: int64\n"
     ]
    }
   ],
   "source": [
    "print(\"Data discription\")\n",
    "print(df_startups.isnull().sum())\n",
    "\n"
   ]
  },
  {
   "cell_type": "markdown",
   "metadata": {},
   "source": [
    "Major ****Investors"
   ]
  },
  {
   "cell_type": "code",
   "execution_count": 7,
   "metadata": {},
   "outputs": [
    {
     "name": "stdout",
     "output_type": "stream",
     "text": [
      "Number of Investors\n",
      "Undisclosed Investors       104\n",
      "Ratan Tata                   25\n",
      "Indian Angel Network         23\n",
      "Kalaari Capital              16\n",
      "Group of Angel Investors     15\n",
      "Sequoia Capital              15\n",
      "Accel Partners               12\n",
      "Undisclosed                  11\n",
      "Brand Capital                11\n",
      "Venture Catalysts            11\n",
      "SAIF Partners                10\n",
      "RoundGlass Partners          10\n",
      "Info Edge (India) Ltd         9\n",
      "Nexus Venture Partners        9\n",
      "Blume Ventures                8\n",
      "Trifecta Capital              8\n",
      "Tiger Global                  8\n",
      "Unitus Seed Fund              8\n",
      "YouWeCan Ventures             7\n",
      "Matrix Partners               7\n",
      "Name: InvestorsName, dtype: int64\n"
     ]
    }
   ],
   "source": [
    "Investors = df_startups.InvestorsName.value_counts()\n",
    "\n",
    "print(\"Number of Investors\")\n",
    "print(Investors[:20])"
   ]
  },
  {
   "cell_type": "code",
   "execution_count": 8,
   "metadata": {},
   "outputs": [
    {
     "data": {
      "image/png": "[encoded data removed]",
      "text/plain": [
       "<Figure size 864x360 with 1 Axes>"
      ]
     },
     "metadata": {
      "needs_background": "light"
     },
     "output_type": "display_data"
    }
   ],
   "source": [
    "plt.figure(figsize = (12,5))\n",
    "plt.title(\"Major Investors\")\n",
    "g=sns.barplot(x=Investors.index[:10], y=Investors.values[:10])\n",
    "\n",
    "locs, labels = plt.xticks()\n",
    "plt.setp(labels, rotation =45)\n",
    "g.set_xlabel(\"Investor\", fontsize=17)\n",
    "g.set_ylabel(\"Count\", fontsize=17)\n",
    "plt.show()"
   ]
  },
  {
   "cell_type": "code",
   "execution_count": 9,
   "metadata": {},
   "outputs": [],
   "source": [
    "df_startups[\"CityLocation\"]= df_startups[\"CityLocation\"].replace(\"Gurugram\", \"Gurgaon\")\n",
    "#Formatting of data."
   ]
  },
  {
   "cell_type": "code",
   "execution_count": 10,
   "metadata": {},
   "outputs": [
    {
     "name": "stdout",
     "output_type": "stream",
     "text": [
      "Name of the city\n",
      "Bangalore    700\n",
      "Mumbai       564\n",
      "New Delhi    420\n",
      "Gurgaon      327\n",
      "Bengaluru    132\n",
      "Pune         103\n",
      "Hyderabad     99\n",
      "Chennai       96\n",
      "Noida         90\n",
      "Ahmedabad     38\n",
      "Name: CityLocation, dtype: int64\n"
     ]
    },
    {
     "data": {
      "image/png": "[encoded data removed]",
      "text/plain": [
       "<Figure size 864x360 with 1 Axes>"
      ]
     },
     "metadata": {
      "needs_background": "light"
     },
     "output_type": "display_data"
    }
   ],
   "source": [
    "City = df_startups.CityLocation.value_counts()\n",
    "print (\"Name of the city\")\n",
    "print (City[:10])\n",
    "\n",
    "plt.figure(figsize = (12, 5))\n",
    "plt.title (\"Major Cities\")\n",
    "sns.barplot(x=City.index[:10], y=City.values[:10])\n",
    "           \n",
    "plt.xticks(rotation = 45)\n",
    "plt.xlabel(\"City\", fontsize = 20)\n",
    "plt.ylabel(\"Count\", fontsize=20)\n",
    "plt.show()"
   ]
  },
  {
   "cell_type": "code",
   "execution_count": 11,
   "metadata": {},
   "outputs": [
    {
     "name": "stdout",
     "output_type": "stream",
     "text": [
      "Name of the Industry Veritcal\n",
      "Consumer Internet       941\n",
      "Technology              476\n",
      "eCommerce               186\n",
      "Healthcare               69\n",
      "Finance                  61\n",
      "ECommerce                61\n",
      "Logistics                31\n",
      "E-Commerce               25\n",
      "Food & Beverage          23\n",
      "Education                22\n",
      "Ed-Tech                  14\n",
      "E-commerce               11\n",
      "IT                        8\n",
      "Ecommerce                 8\n",
      "FinTech                   6\n",
      "Fin-Tech                  6\n",
      "Others                    6\n",
      "Real Estate               6\n",
      "Online Food Delivery      5\n",
      "Logistics Tech            5\n",
      "Name: IndustryVertical, dtype: int64\n"
     ]
    }
   ],
   "source": [
    "vertical = df_startups.IndustryVertical.value_counts()\n",
    "print(\"Name of the Industry Veritcal\")\n",
    "print(vertical[:20])"
   ]
  }
 ],
 "metadata": {
  "kernelspec": {
   "display_name": "Python 3",
   "language": "python",
   "name": "python3"
  },
  "language_info": {
   "codemirror_mode": {
    "name": "ipython",
    "version": 3
   },
   "file_extension": ".py",
   "mimetype": "text/x-python",
   "name": "python",
   "nbconvert_exporter": "python",
   "pygments_lexer": "ipython3",
   "version": "3.6.6"
  }
 },
 "nbformat": 4,
 "nbformat_minor": 1
}
