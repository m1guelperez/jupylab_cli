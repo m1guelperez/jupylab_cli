{
 "cells": [
  {
   "cell_type": "code",
   "execution_count": 1,
   "metadata": {
    "_cell_guid": "b1076dfc-b9ad-4769-8c92-a6c4dae69d19",
    "_uuid": "8f2839f25d086af736a60e9eeb907d3b93b6e0e5",
    "execution": {
     "iopub.execute_input": "2020-08-17T10:09:03.806571Z",
     "iopub.status.busy": "2020-08-17T10:09:03.805747Z",
     "iopub.status.idle": "2020-08-17T10:09:03.811408Z",
     "shell.execute_reply": "2020-08-17T10:09:03.812009Z"
    },
    "papermill": {
     "duration": 0.022763,
     "end_time": "2020-08-17T10:09:03.812208",
     "exception": false,
     "start_time": "2020-08-17T10:09:03.789445",
     "status": "completed"
    },
    "tags": []
   },
   "outputs": [
    {
     "name": "stdout",
     "output_type": "stream",
     "text": [
      "/kaggle/input/prediction-of-asteroid-diameter/Asteroid_Updated.csv\n",
      "/kaggle/input/prediction-of-asteroid-diameter/Asteroid.csv\n"
     ]
    }
   ],
   "source": [
    "# This Python 3 environment comes with many helpful analytics libraries installed\n",
    "# It is defined by the kaggle/python Docker image: https://github.com/kaggle/docker-python\n",
    "# For example, here's several helpful packages to load\n",
    "\n",
    "\n",
    "import numpy as np # linear algebra\n",
    "import pandas as pd # data processing, CSV file I/O (e.g. pd.read_csv)\n",
    "\n",
    "# Input data files are available in the read-only \"../input/\" directory\n",
    "# For example, running this (by clicking run or pressing Shift+Enter) will list all files under the input directory\n",
    "\n",
    "import os\n",
    "for dirname, _, filenames in os.walk('/kaggle/input'):\n",
    "    for filename in filenames:\n",
    "        print(os.path.join(dirname, filename))\n",
    "\n",
    "# You can write up to 5GB to the current directory (/kaggle/working/) that gets preserved as output when you create a version using \"Save & Run All\" \n",
    "# You can also write temporary files to /kaggle/temp/, but they won't be saved outside of the current session"
   ]
  },
  {
   "cell_type": "code",
   "execution_count": 2,
   "metadata": {
    "_cell_guid": "79c7e3d0-c299-4dcb-8224-4455121ee9b0",
    "_uuid": "d629ff2d2480ee46fbb7e2d37f6b5fab8052498a",
    "execution": {
     "iopub.execute_input": "2020-08-17T10:09:03.850706Z",
     "iopub.status.busy": "2020-08-17T10:09:03.849748Z",
     "iopub.status.idle": "2020-08-17T10:09:03.854002Z",
     "shell.execute_reply": "2020-08-17T10:09:03.853403Z"
    },
    "papermill": {
     "duration": 0.033894,
     "end_time": "2020-08-17T10:09:03.854135",
     "exception": false,
     "start_time": "2020-08-17T10:09:03.820241",
     "status": "completed"
    },
    "tags": []
   },
   "outputs": [
    {
     "name": "stdout",
     "output_type": "stream",
     "text": [
      "    a   b   c\n",
      "0   2  19  21\n",
      "1   3  23  26\n",
      "2   5  29  34\n",
      "3   7  31  38\n",
      "4  11  37  48\n",
      "5  13  41  54\n",
      "6  17  42  59\n"
     ]
    }
   ],
   "source": [
    "#Q.1 Write a Pandas program to get the powers of an array values element-wise.\n",
    "import pandas as pd\n",
    "df = pd.DataFrame({\"a\":[2,3,5,7,11,13,17],\"b\":[19,23,29,31,37,41,42],\"c\":[21,26,34,38,48,54,59]});\n",
    "print(df)"
   ]
  },
  {
   "cell_type": "code",
   "execution_count": 3,
   "metadata": {
    "execution": {
     "iopub.execute_input": "2020-08-17T10:09:03.873957Z",
     "iopub.status.busy": "2020-08-17T10:09:03.873197Z",
     "iopub.status.idle": "2020-08-17T10:09:03.876058Z",
     "shell.execute_reply": "2020-08-17T10:09:03.876704Z"
    },
    "papermill": {
     "duration": 0.015394,
     "end_time": "2020-08-17T10:09:03.876882",
     "exception": false,
     "start_time": "2020-08-17T10:09:03.861488",
     "status": "completed"
    },
    "tags": []
   },
   "outputs": [],
   "source": [
    "#Q.2 Write Pandas program to create and display a DataFramefrom a specified dictionary data which has \n",
    "#the index labels.\n",
    "\n"
   ]
  },
  {
   "cell_type": "code",
   "execution_count": 4,
   "metadata": {
    "execution": {
     "iopub.execute_input": "2020-08-17T10:09:03.902769Z",
     "iopub.status.busy": "2020-08-17T10:09:03.901977Z",
     "iopub.status.idle": "2020-08-17T10:09:08.580647Z",
     "shell.execute_reply": "2020-08-17T10:09:08.581358Z"
    },
    "papermill": {
     "duration": 4.697137,
     "end_time": "2020-08-17T10:09:08.581533",
     "exception": false,
     "start_time": "2020-08-17T10:09:03.884396",
     "status": "completed"
    },
    "tags": []
   },
   "outputs": [
    {
     "name": "stderr",
     "output_type": "stream",
     "text": [
      "/opt/conda/lib/python3.7/site-packages/IPython/core/interactiveshell.py:3063: DtypeWarning: Columns (11,14,15,22,23) have mixed types.Specify dtype option on import or set low_memory=False.\n",
      "  interactivity=interactivity, compiler=compiler, result=result)\n"
     ]
    },
    {
     "name": "stdout",
     "output_type": "stream",
     "text": [
      "       full_name         a         e     G          i          om           w  \\\n",
      "0        1 Ceres  2.769165  0.076009  0.12  10.594067   80.305532   73.597694   \n",
      "1       2 Pallas  2.772466  0.230337  0.11  34.836234  173.080063  310.048857   \n",
      "2         3 Juno  2.669150  0.256942  0.32  12.988919  169.852760  248.138626   \n",
      "\n",
      "          q        ad     per_y  ...  rot_per       GM     BV     UB  IR  \\\n",
      "0  2.558684  2.979647  4.608202  ...  9.07417  62.6284  0.713  0.426 NaN   \n",
      "1  2.133865  3.411067  4.616444  ...  7.81320  14.3000  0.635  0.284 NaN   \n",
      "2  1.983332  3.354967  4.360814  ...  7.21000      NaN  0.824  0.433 NaN   \n",
      "\n",
      "  spec_B  spec_T  neo  pha     moid  \n",
      "0      C       G    N    N  1.59478  \n",
      "1      B       B    N    N  1.23324  \n",
      "2     Sk       S    N    N  1.03454  \n",
      "\n",
      "[3 rows x 27 columns]\n"
     ]
    }
   ],
   "source": [
    "#Q.3 Write a panda sprogram to get the first three rows of a given DataFrame.\n",
    "import pandas as pd\n",
    "df = pd.read_csv(\"../input/prediction-of-asteroid-diameter/Asteroid.csv\");\n",
    "row = df[0:3];\n",
    "print(row)"
   ]
  },
  {
   "cell_type": "code",
   "execution_count": 5,
   "metadata": {
    "execution": {
     "iopub.execute_input": "2020-08-17T10:09:08.605618Z",
     "iopub.status.busy": "2020-08-17T10:09:08.604852Z",
     "iopub.status.idle": "2020-08-17T10:09:12.733299Z",
     "shell.execute_reply": "2020-08-17T10:09:12.732569Z"
    },
    "papermill": {
     "duration": 4.143064,
     "end_time": "2020-08-17T10:09:12.733456",
     "exception": false,
     "start_time": "2020-08-17T10:09:08.590392",
     "status": "completed"
    },
    "tags": []
   },
   "outputs": [
    {
     "name": "stderr",
     "output_type": "stream",
     "text": [
      "/opt/conda/lib/python3.7/site-packages/IPython/core/interactiveshell.py:3063: DtypeWarning: Columns (11,14,15,22,23) have mixed types.Specify dtype option on import or set low_memory=False.\n",
      "  interactivity=interactivity, compiler=compiler, result=result)\n"
     ]
    },
    {
     "name": "stdout",
     "output_type": "stream",
     "text": [
      "      G          i\n",
      "1  0.11  34.836234\n",
      "2  0.32  12.988919\n",
      "3  0.32   7.141771\n",
      "4   NaN   5.366988\n",
      "5  0.24  14.737901\n",
      "6   NaN   5.523651\n",
      "7  0.28   5.886955\n",
      "8  0.17   5.576816\n",
      "9   NaN   3.831560\n"
     ]
    }
   ],
   "source": [
    "#Q.4 Write a pandas program to select the specified columns and rows from a given DataFrame.\n",
    "import pandas as pd\n",
    "df = pd.read_csv(\"../input/prediction-of-asteroid-diameter/Asteroid.csv\");\n",
    "print(df.iloc[1:10,3:5])"
   ]
  },
  {
   "cell_type": "code",
   "execution_count": 6,
   "metadata": {
    "execution": {
     "iopub.execute_input": "2020-08-17T10:09:12.759615Z",
     "iopub.status.busy": "2020-08-17T10:09:12.758820Z",
     "iopub.status.idle": "2020-08-17T10:09:18.324385Z",
     "shell.execute_reply": "2020-08-17T10:09:18.323662Z"
    },
    "papermill": {
     "duration": 5.581384,
     "end_time": "2020-08-17T10:09:18.324538",
     "exception": false,
     "start_time": "2020-08-17T10:09:12.743154",
     "status": "completed"
    },
    "tags": []
   },
   "outputs": [
    {
     "name": "stderr",
     "output_type": "stream",
     "text": [
      "/opt/conda/lib/python3.7/site-packages/IPython/core/interactiveshell.py:3063: DtypeWarning: Columns (11,14,15,22,23) have mixed types.Specify dtype option on import or set low_memory=False.\n",
      "  interactivity=interactivity, compiler=compiler, result=result)\n"
     ]
    },
    {
     "name": "stdout",
     "output_type": "stream",
     "text": [
      "       full_name   a   e   G   i  om   w   q  ad  per_y  ...  rot_per  GM  BV  \\\n",
      "0            NaN NaN NaN NaN NaN NaN NaN NaN NaN    NaN  ...      NaN NaN NaN   \n",
      "1            NaN NaN NaN NaN NaN NaN NaN NaN NaN    NaN  ...      NaN NaN NaN   \n",
      "2            NaN NaN NaN NaN NaN NaN NaN NaN NaN    NaN  ...      NaN NaN NaN   \n",
      "3            NaN NaN NaN NaN NaN NaN NaN NaN NaN    NaN  ...      NaN NaN NaN   \n",
      "4            NaN NaN NaN NaN NaN NaN NaN NaN NaN    NaN  ...      NaN NaN NaN   \n",
      "...          ...  ..  ..  ..  ..  ..  ..  ..  ..    ...  ...      ...  ..  ..   \n",
      "839731       NaN NaN NaN NaN NaN NaN NaN NaN NaN    NaN  ...      NaN NaN NaN   \n",
      "839732       NaN NaN NaN NaN NaN NaN NaN NaN NaN    NaN  ...      NaN NaN NaN   \n",
      "839733       NaN NaN NaN NaN NaN NaN NaN NaN NaN    NaN  ...      NaN NaN NaN   \n",
      "839734       NaN NaN NaN NaN NaN NaN NaN NaN NaN    NaN  ...      NaN NaN NaN   \n",
      "839735       NaN NaN NaN NaN NaN NaN NaN NaN NaN    NaN  ...      NaN NaN NaN   \n",
      "\n",
      "        UB  IR spec_B  spec_T  neo  pha  moid  \n",
      "0      NaN NaN    NaN     NaN  NaN  NaN   NaN  \n",
      "1      NaN NaN    NaN     NaN  NaN  NaN   NaN  \n",
      "2      NaN NaN    NaN     NaN  NaN  NaN   NaN  \n",
      "3      NaN NaN    NaN     NaN  NaN  NaN   NaN  \n",
      "4      NaN NaN    NaN     NaN  NaN  NaN   NaN  \n",
      "...     ..  ..    ...     ...  ...  ...   ...  \n",
      "839731 NaN NaN    NaN     NaN  NaN  NaN   NaN  \n",
      "839732 NaN NaN    NaN     NaN  NaN  NaN   NaN  \n",
      "839733 NaN NaN    NaN     NaN  NaN  NaN   NaN  \n",
      "839734 NaN NaN    NaN     NaN  NaN  NaN   NaN  \n",
      "839735 NaN NaN    NaN     NaN  NaN  NaN   NaN  \n",
      "\n",
      "[839736 rows x 27 columns]\n"
     ]
    }
   ],
   "source": [
    "#Q.5 write a pandas program to select the rows where the score is mising.\n",
    "import pandas as pd\n",
    "df = pd.read_csv(\"../input/prediction-of-asteroid-diameter/Asteroid.csv\");\n",
    "print(df[df[:].isnull()])"
   ]
  }
 ],
 "metadata": {
  "kernelspec": {
   "display_name": "Python 3",
   "language": "python",
   "name": "python3"
  },
  "language_info": {
   "codemirror_mode": {
    "name": "ipython",
    "version": 3
   },
   "file_extension": ".py",
   "mimetype": "text/x-python",
   "name": "python",
   "nbconvert_exporter": "python",
   "pygments_lexer": "ipython3",
   "version": "3.7.6"
  },
  "papermill": {
   "duration": 20.308641,
   "end_time": "2020-08-17T10:09:18.443655",
   "environment_variables": {},
   "exception": null,
   "input_path": "__notebook__.ipynb",
   "output_path": "__notebook__.ipynb",
   "parameters": {},
   "start_time": "2020-08-17T10:08:58.135014",
   "version": "2.1.0"
  }
 },
 "nbformat": 4,
 "nbformat_minor": 4
}
