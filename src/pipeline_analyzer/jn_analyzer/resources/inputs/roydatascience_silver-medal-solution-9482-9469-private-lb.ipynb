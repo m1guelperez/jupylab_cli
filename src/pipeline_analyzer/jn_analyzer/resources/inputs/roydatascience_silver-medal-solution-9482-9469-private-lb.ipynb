{
 "cells": [
  {
   "cell_type": "markdown",
   "execution_count": null,
   "metadata": {},
   "source": [
    "Jigsaw's API, Perspective, serves toxicity models and others in a growing set of languages (see our documentation for the full list). Over the past year, the field has seen impressive multilingual capabilities from the latest model innovations, including few- and zero-shot learning. We're excited to learn whether these results \"translate\" (pun intended!) to toxicity classification. Your training data will be the English data provided for our previous two competitions and your test data will be Wikipedia talk page comments in several different languages."
   ]
  },
  {
   "cell_type": "markdown",
   "execution_count": null,
   "metadata": {},
   "source": [
    "I would like to thank my team members, for their awesome contribution in the competition.\n",
    "\n",
    "* Ashish Gupta (https://www.kaggle.com/roydatascience)\n",
    "* Mukharbek Organokov (https://www.kaggle.com/muhakabartay)\n",
    "* Firat Gonen (https://www.kaggle.com/frtgnn)\n",
    "* Atharva (https://www.kaggle.com/atharvap329)\n",
    "* Kirill Balakhonov (https://www.kaggle.com/kirill702b)"
   ]
  },
  {
   "cell_type": "markdown",
   "execution_count": null,
   "metadata": {},
   "source": [
    "Please note: Here I am testing jazivxt kernel (https://www.kaggle.com/jazivxt/howling-with-wolf-on-l-genpresse) on my best submissions."
   ]
  },
  {
   "cell_type": "code",
   "execution_count": 1,
   "metadata": {
    "_cell_guid": "b1076dfc-b9ad-4769-8c92-a6c4dae69d19",
    "_uuid": "8f2839f25d086af736a60e9eeb907d3b93b6e0e5"
   },
   "outputs": [],
   "source": [
    "from sklearn import *\n",
    "import numpy as np\n",
    "import pandas as pd\n",
    "import glob\n",
    "\n",
    "data = {k.split('/')[-1][:-4]:k for k in glob.glob('/kaggle/input/**/**.csv')}\n",
    "train = pd.read_csv(data['jigsaw-toxic-comment-train'], usecols=['id', 'comment_text', 'toxic'])\n",
    "val = pd.read_csv(data['validation'], usecols=['comment_text', 'toxic'])\n",
    "test = pd.read_csv(data['test'], usecols=['id', 'content'])\n",
    "test.columns = ['id', 'comment_text']\n",
    "test['toxic'] = 0.5\n",
    "\n",
    "##Our team second best submission (non normalized submission)\n",
    "sub2 = pd.read_csv('../input/finalsubmission/submission-.9480.csv')\n",
    "\n",
    "#Our team best submission : Taking ensemble of .9479 Kernel (Ashish) and .9480 (best stable submission Normalized)\n",
    "sub4 = pd.read_csv('../input/finalsubmission/submission-.9481.csv')"
   ]
  },
  {
   "cell_type": "code",
   "execution_count": 2,
   "metadata": {},
   "outputs": [
    {
     "data": {
      "text/html": [
       "<div>\n",
       "<style scoped>\n",
       "    .dataframe tbody tr th:only-of-type {\n",
       "        vertical-align: middle;\n",
       "    }\n",
       "\n",
       "    .dataframe tbody tr th {\n",
       "        vertical-align: top;\n",
       "    }\n",
       "\n",
       "    .dataframe thead th {\n",
       "        text-align: right;\n",
       "    }\n",
       "</style>\n",
       "<table border=\"1\" class=\"dataframe\">\n",
       "  <thead>\n",
       "    <tr style=\"text-align: right;\">\n",
       "      <th></th>\n",
       "      <th>id</th>\n",
       "      <th>toxic</th>\n",
       "    </tr>\n",
       "  </thead>\n",
       "  <tbody>\n",
       "    <tr>\n",
       "      <th>0</th>\n",
       "      <td>0</td>\n",
       "      <td>0.011510</td>\n",
       "    </tr>\n",
       "    <tr>\n",
       "      <th>1</th>\n",
       "      <td>1</td>\n",
       "      <td>0.018096</td>\n",
       "    </tr>\n",
       "    <tr>\n",
       "      <th>2</th>\n",
       "      <td>2</td>\n",
       "      <td>0.267872</td>\n",
       "    </tr>\n",
       "    <tr>\n",
       "      <th>3</th>\n",
       "      <td>3</td>\n",
       "      <td>0.010647</td>\n",
       "    </tr>\n",
       "    <tr>\n",
       "      <th>4</th>\n",
       "      <td>4</td>\n",
       "      <td>0.011961</td>\n",
       "    </tr>\n",
       "  </tbody>\n",
       "</table>\n",
       "</div>"
      ],
      "text/plain": [
       "   id     toxic\n",
       "0   0  0.011510\n",
       "1   1  0.018096\n",
       "2   2  0.267872\n",
       "3   3  0.010647\n",
       "4   4  0.011961"
      ]
     },
     "execution_count": 2,
     "metadata": {},
     "output_type": "execute_result"
    }
   ],
   "source": [
    "sub2.head(5)"
   ]
  },
  {
   "cell_type": "code",
   "execution_count": 3,
   "metadata": {},
   "outputs": [
    {
     "name": "stdout",
     "output_type": "stream",
     "text": [
      "CPU times: user 3min 1s, sys: 1.74 s, total: 3min 3s\n",
      "Wall time: 3min 3s\n"
     ]
    }
   ],
   "source": [
    "%%time\n",
    "def f_experience(c, s):\n",
    "    it = {'memory':10,\n",
    "        'influence':0.5,\n",
    "        'inference':0.5,\n",
    "        'interest':0.9,\n",
    "        'sentiment':1e-10,\n",
    "        'harmony':0.5}\n",
    "    \n",
    "    exp = {}\n",
    "    \n",
    "    for i in range(len(c)):\n",
    "        words = set([w for w in str(c[i]).lower().split(' ')])\n",
    "        for w in words:\n",
    "            try:\n",
    "                exp[w]['influence'] = exp[w]['influence'][1:] + [s[i]] #need to normalize\n",
    "                exp[w]['inference'] += 1\n",
    "                exp[w]['interest'] = exp[w]['interest'][1:] + [(exp[w]['interest'][it['memory']-1] + (s[i] * it['interest']))/2]\n",
    "                exp[w]['sentiment'] += s[i]\n",
    "                #exp[w]['harmony']\n",
    "            except:\n",
    "                m = [0. for m_ in range(it['memory'])]\n",
    "                exp[w] = {}\n",
    "                exp[w]['influence'] = m[1:] + [s[i]]\n",
    "                exp[w]['inference'] = 1\n",
    "                exp[w]['interest'] = m[1:] + [s[i] * it['interest'] / 2]\n",
    "                exp[w]['sentiment'] = s[i]\n",
    "                #exp[w]['harmony'] = 0\n",
    "                \n",
    "    for w in exp:\n",
    "        exp[w]['sentiment'] /= exp[w]['inference'] + it['sentiment']\n",
    "        exp[w]['inference'] /= len(c) * it['inference']\n",
    "\n",
    "    return exp\n",
    "\n",
    "exp = f_experience(train['comment_text'].values, train['toxic'].values)"
   ]
  },
  {
   "cell_type": "code",
   "execution_count": 4,
   "metadata": {},
   "outputs": [
    {
     "name": "stdout",
     "output_type": "stream",
     "text": [
      "CPU times: user 4min 18s, sys: 162 ms, total: 4min 18s\n",
      "Wall time: 4min 18s\n"
     ]
    }
   ],
   "source": [
    "%%time\n",
    "def features(df):\n",
    "    df['len'] = df['comment_text'].map(len)\n",
    "    df['wlen'] = df['comment_text'].map(lambda x: len(str(x).split(' ')))\n",
    "    \n",
    "    df['influence_sum'] = df['comment_text'].map(lambda x: np.sum([np.mean(exp[w]['influence']) if w in exp else 0 for w in str(x).lower().split(' ')]))\n",
    "    df['influence_mean'] = df['comment_text'].map(lambda x: np.mean([np.mean(exp[w]['influence']) if w in exp else 0 for w in str(x).lower().split(' ')]))\n",
    "    \n",
    "    df['inference_sum'] = df['comment_text'].map(lambda x: np.sum([exp[w]['inference'] if w in exp else 0 for w in str(x).lower().split(' ')]))\n",
    "    df['inference_mean'] = df['comment_text'].map(lambda x: np.mean([exp[w]['inference'] if w in exp else 0 for w in str(x).lower().split(' ')]))\n",
    "    \n",
    "    df['interest_sum'] = df['comment_text'].map(lambda x: np.sum([np.mean(exp[w]['interest']) if w in exp else 0 for w in str(x).lower().split(' ')]))\n",
    "    df['interest_mean'] = df['comment_text'].map(lambda x: np.mean([np.mean(exp[w]['interest']) if w in exp else 0 for w in str(x).lower().split(' ')]))\n",
    "    \n",
    "    df['sentiment_sum'] = df['comment_text'].map(lambda x: np.sum([exp[w]['sentiment'] if w in exp else 0.5 for w in str(x).lower().split(' ')]))\n",
    "    df['sentiment_mean'] = df['comment_text'].map(lambda x: np.mean([exp[w]['sentiment'] if w in exp else 0.5 for w in str(x).lower().split(' ')]))\n",
    "    return df\n",
    "\n",
    "val = features(val)\n",
    "test= features(test)"
   ]
  },
  {
   "cell_type": "code",
   "execution_count": 5,
   "metadata": {},
   "outputs": [
    {
     "name": "stdout",
     "output_type": "stream",
     "text": [
      "0.7103550873413887\n"
     ]
    }
   ],
   "source": [
    "col = [c for c in val if c not in ['id', 'comment_text', 'toxic']]\n",
    "x1, x2, y1, y2 = model_selection.train_test_split(val[col], val['toxic'], test_size=0.3, random_state=20)\n",
    "\n",
    "model = ensemble.ExtraTreesClassifier(n_estimators=1000, max_depth=7, n_jobs=-1, random_state=20)\n",
    "model.fit(x1, y1)\n",
    "print(metrics.roc_auc_score(y2, model.predict_proba(x2)[:,1].clip(0.,1.)))\n",
    "\n",
    "model.fit(val[col], val['toxic'])\n",
    "test['toxic'] = model.predict_proba(test[col])[:,1].clip(0.,1.)\n",
    "sub1 = test[['id', 'toxic']]"
   ]
  },
  {
   "cell_type": "code",
   "execution_count": 6,
   "metadata": {
    "_kg_hide-output": true
   },
   "outputs": [
    {
     "name": "stderr",
     "output_type": "stream",
     "text": [
      "/opt/conda/lib/python3.7/site-packages/pandas/core/frame.py:4133: SettingWithCopyWarning: \n",
      "A value is trying to be set on a copy of a slice from a DataFrame\n",
      "\n",
      "See the caveats in the documentation: https://pandas.pydata.org/pandas-docs/stable/user_guide/indexing.html#returning-a-view-versus-a-copy\n",
      "  errors=errors,\n"
     ]
    }
   ],
   "source": [
    "sub1.rename(columns={'toxic':'toxic1'}, inplace=True)\n",
    "sub2.rename(columns={'toxic':'toxic2'}, inplace=True)\n",
    "sub4.rename(columns={'toxic':'toxic4'}, inplace=True)\n",
    "\n",
    "sub3 = sub1.merge(sub2,on='id').merge(sub4,on='id')"
   ]
  },
  {
   "cell_type": "code",
   "execution_count": 7,
   "metadata": {},
   "outputs": [
    {
     "data": {
      "text/html": [
       "<div>\n",
       "<style scoped>\n",
       "    .dataframe tbody tr th:only-of-type {\n",
       "        vertical-align: middle;\n",
       "    }\n",
       "\n",
       "    .dataframe tbody tr th {\n",
       "        vertical-align: top;\n",
       "    }\n",
       "\n",
       "    .dataframe thead th {\n",
       "        text-align: right;\n",
       "    }\n",
       "</style>\n",
       "<table border=\"1\" class=\"dataframe\">\n",
       "  <thead>\n",
       "    <tr style=\"text-align: right;\">\n",
       "      <th></th>\n",
       "      <th>id</th>\n",
       "      <th>toxic1</th>\n",
       "      <th>toxic2</th>\n",
       "      <th>toxic4</th>\n",
       "    </tr>\n",
       "  </thead>\n",
       "  <tbody>\n",
       "    <tr>\n",
       "      <th>0</th>\n",
       "      <td>0</td>\n",
       "      <td>0.136369</td>\n",
       "      <td>0.011510</td>\n",
       "      <td>0.073287</td>\n",
       "    </tr>\n",
       "    <tr>\n",
       "      <th>1</th>\n",
       "      <td>1</td>\n",
       "      <td>0.134002</td>\n",
       "      <td>0.018096</td>\n",
       "      <td>0.166560</td>\n",
       "    </tr>\n",
       "    <tr>\n",
       "      <th>2</th>\n",
       "      <td>2</td>\n",
       "      <td>0.150677</td>\n",
       "      <td>0.267872</td>\n",
       "      <td>0.500090</td>\n",
       "    </tr>\n",
       "    <tr>\n",
       "      <th>3</th>\n",
       "      <td>3</td>\n",
       "      <td>0.075362</td>\n",
       "      <td>0.010647</td>\n",
       "      <td>0.065305</td>\n",
       "    </tr>\n",
       "    <tr>\n",
       "      <th>4</th>\n",
       "      <td>4</td>\n",
       "      <td>0.030821</td>\n",
       "      <td>0.011961</td>\n",
       "      <td>0.111355</td>\n",
       "    </tr>\n",
       "  </tbody>\n",
       "</table>\n",
       "</div>"
      ],
      "text/plain": [
       "   id    toxic1    toxic2    toxic4\n",
       "0   0  0.136369  0.011510  0.073287\n",
       "1   1  0.134002  0.018096  0.166560\n",
       "2   2  0.150677  0.267872  0.500090\n",
       "3   3  0.075362  0.010647  0.065305\n",
       "4   4  0.030821  0.011961  0.111355"
      ]
     },
     "execution_count": 7,
     "metadata": {},
     "output_type": "execute_result"
    }
   ],
   "source": [
    "sub3.head(5)"
   ]
  },
  {
   "cell_type": "code",
   "execution_count": 8,
   "metadata": {},
   "outputs": [],
   "source": [
    "sub3['toxic'] = (sub3['toxic1'] * 0.1) + (sub3['toxic4'] * 0.9) #blend 1\n",
    "sub3['toxic'] = (sub3['toxic2'] * 0.49) + (sub3['toxic'] * 0.51) #blend 2\n",
    "\n",
    "sub3[['id', 'toxic']].to_csv('submission.csv', index=False)"
   ]
  },
  {
   "cell_type": "code",
   "execution_count": 9,
   "metadata": {},
   "outputs": [
    {
     "data": {
      "text/html": [
       "<div>\n",
       "<style scoped>\n",
       "    .dataframe tbody tr th:only-of-type {\n",
       "        vertical-align: middle;\n",
       "    }\n",
       "\n",
       "    .dataframe tbody tr th {\n",
       "        vertical-align: top;\n",
       "    }\n",
       "\n",
       "    .dataframe thead th {\n",
       "        text-align: right;\n",
       "    }\n",
       "</style>\n",
       "<table border=\"1\" class=\"dataframe\">\n",
       "  <thead>\n",
       "    <tr style=\"text-align: right;\">\n",
       "      <th></th>\n",
       "      <th>id</th>\n",
       "      <th>comment_text</th>\n",
       "      <th>toxic</th>\n",
       "    </tr>\n",
       "  </thead>\n",
       "  <tbody>\n",
       "    <tr>\n",
       "      <th>0</th>\n",
       "      <td>0</td>\n",
       "      <td>Howling with Wolf on Lügenpresse</td>\n",
       "      <td>0.205481</td>\n",
       "    </tr>\n",
       "  </tbody>\n",
       "</table>\n",
       "</div>"
      ],
      "text/plain": [
       "   id                      comment_text     toxic\n",
       "0   0  Howling with Wolf on Lügenpresse  0.205481"
      ]
     },
     "execution_count": 9,
     "metadata": {},
     "output_type": "execute_result"
    }
   ],
   "source": [
    "#Is it toxic :)\n",
    "test = pd.DataFrame(['Howling with Wolf on Lügenpresse'], columns=['comment_text'])\n",
    "test['id'] = test.index\n",
    "test= features(test)\n",
    "test['toxic'] = model.predict_proba(test[col])[:,1].clip(0.,1.)\n",
    "test[['id', 'comment_text', 'toxic']].head()"
   ]
  }
 ],
 "metadata": {
  "kernelspec": {
   "display_name": "Python 3",
   "language": "python",
   "name": "python3"
  },
  "language_info": {
   "codemirror_mode": {
    "name": "ipython",
    "version": 3
   },
   "file_extension": ".py",
   "mimetype": "text/x-python",
   "name": "python",
   "nbconvert_exporter": "python",
   "pygments_lexer": "ipython3",
   "version": "3.7.6"
  }
 },
 "nbformat": 4,
 "nbformat_minor": 4
}
