{
 "cells": [
  {
   "cell_type": "code",
   "execution_count": 1,
   "metadata": {
    "_cell_guid": "b1076dfc-b9ad-4769-8c92-a6c4dae69d19",
    "_uuid": "8f2839f25d086af736a60e9eeb907d3b93b6e0e5"
   },
   "outputs": [
    {
     "data": {
      "text/plain": [
       "0.5522677269606644"
      ]
     },
     "execution_count": 1,
     "metadata": {},
     "output_type": "execute_result"
    }
   ],
   "source": [
    "import numpy as np # linear algebra\n",
    "import pandas as pd # data processing, CSV file I/O (e.g. pd.read_csv)\n",
    "from sklearn.linear_model import LinearRegression  \n",
    "\n",
    "\n",
    "#Estou selecionado só 10mil para ir mais rápido\n",
    "df_=pd.read_csv('/kaggle/input/exemplo-regresso-apostas/under.csv')[:10000]\n",
    "\n",
    "todas_colunas=['A','B','C','D','E','F','G','H','I','J','K','L','M','N','O','P']\n",
    "\n",
    "#Nossa função fit recebe um um string tamanho 16 de 0s e 1s, e retorna a lucratividade da combinação\n",
    "def somaLog(codigo_genetico):\n",
    "    global df_, todas_colunas\n",
    "    \n",
    "    #Quais colunas que entraram na regressão\n",
    "    #colunas='A,B,C,D,E,F,G,H,I,J,K,L,M,N,O,P'\n",
    "    colunas=','.join([ todas_colunas[i] for i,e in enumerate([int(c) for c in codigo_genetico]) if e])\n",
    "    \n",
    "    #Fitra o df baseado nas colunas\n",
    "    df=df_[(colunas+',PL').split(',')]\n",
    "\n",
    "\n",
    "    SLs=[] \n",
    "    for i in range(20):\n",
    "        #Embaralha o dataframe baseado no random_state i \n",
    "        df=df.sample(frac=1, random_state=i)\n",
    "\n",
    "        #Divide em 2 mil linhas para teste e o restante treinamento\n",
    "        df_test,df_train=df[:2000],df[2000:]\n",
    "\n",
    "        #Os Xs são todas as colunas exceto a PL que será o Y\n",
    "        X_train,Y_train = df_train.loc[:,(df_train.columns!='PL') ], df_train.PL\n",
    "        X_test, Y_test  = df_test.loc[:,(df_test.columns!='PL') ], df_test.PL\n",
    "\n",
    "        #Treina a regressão os dados de treinamento\n",
    "        reg=LinearRegression().fit(X_train,Y_train)\n",
    "\n",
    "        #Veifica a lucratividade nos dados de teste\n",
    "        SLs+=[sum(np.log(1+y*y_pred) for y_pred,y in zip(reg.predict(X_test),Y_test) if y_pred>0 ) ]\n",
    "\n",
    "\n",
    "    #Mostra a lucrativida média e colunas selecionadas que deram origem a essa lucratividade\n",
    "    return np.mean(SLs)\n",
    "\n",
    "\n",
    "#Exemplo de fit\n",
    "somaLog('1111010011110001')"
   ]
  },
  {
   "cell_type": "code",
   "execution_count": 2,
   "metadata": {
    "_cell_guid": "79c7e3d0-c299-4dcb-8224-4455121ee9b0",
    "_uuid": "d629ff2d2480ee46fbb7e2d37f6b5fab8052498a"
   },
   "outputs": [
    {
     "data": {
      "text/plain": [
       "[{'code': '1011000011101001', 'fit': 0.561068223157016},\n",
       " {'code': '1110001111110010', 'fit': 0.6093599248503377},\n",
       " {'code': '1111010000100001', 'fit': 0.041601337737974455},\n",
       " {'code': '0011010101010110', 'fit': 0.43974534045924846},\n",
       " {'code': '0000011011010101', 'fit': 0.05123050541551351},\n",
       " {'code': '0111101100001101', 'fit': 0.17913548706804383},\n",
       " {'code': '1101110001110111', 'fit': 0.7181267738465656},\n",
       " {'code': '1001011111010111', 'fit': 0.3698809227441048},\n",
       " {'code': '1111001001101101', 'fit': 0.6255077713989342},\n",
       " {'code': '1111100100100010', 'fit': 0.1899958378459047},\n",
       " {'code': '1001111100100011', 'fit': 0.1863756488427012},\n",
       " {'code': '1101101010111100', 'fit': -0.1370670315413314},\n",
       " {'code': '1111001100110100', 'fit': -0.10020815866333939},\n",
       " {'code': '0111111101110110', 'fit': 0.749642138773591},\n",
       " {'code': '1111110001100011', 'fit': 0.8373659181322868},\n",
       " {'code': '1001010100010000', 'fit': -0.02765477052335117},\n",
       " {'code': '0001000100110001', 'fit': -0.03836335731241204},\n",
       " {'code': '0101011001000100', 'fit': 0.3403920228628642},\n",
       " {'code': '1100110011110010', 'fit': 0.6782306030974066},\n",
       " {'code': '0110001100011101', 'fit': -0.07822383737406151}]"
      ]
     },
     "execution_count": 2,
     "metadata": {},
     "output_type": "execute_result"
    }
   ],
   "source": [
    "#Configurações\n",
    "TAM_POP=20  #Tamano da população (número para para não zuar o barraco, ok :)\n",
    "N_BITS=len(todas_colunas)  #´Números de 0s e 1s do cromossomo\n",
    "TAXA_DE_REPRODUCAO=0.95\n",
    "TAXA_DE_MUTACAO=0.05\n",
    "\n",
    "#Gera a população incial\n",
    "pop=[]\n",
    "for _ in range(TAM_POP):\n",
    "    code=''.join([ str(np.random.randint(2)) for i in range(N_BITS)  ])\n",
    "    pop+=[ {'code':code, 'fit':somaLog(code) } ]\n",
    "\n",
    "pop"
   ]
  },
  {
   "cell_type": "code",
   "execution_count": 3,
   "metadata": {},
   "outputs": [
    {
     "name": "stdout",
     "output_type": "stream",
     "text": [
      "Gera#: 0 Melhor fit: 0.8373659181322868\n",
      "Gera#: 1 Melhor fit: 0.869595155729515\n",
      "Gera#: 2 Melhor fit: 0.869595155729515\n",
      "Gera#: 3 Melhor fit: 0.9674205513034322\n",
      "Gera#: 4 Melhor fit: 0.9773952813453318\n",
      "Gera#: 5 Melhor fit: 1.0572481781422411\n",
      "Gera#: 6 Melhor fit: 1.0572481781422411\n",
      "Gera#: 7 Melhor fit: 1.0572481781422411\n",
      "Gera#: 8 Melhor fit: 1.0572481781422411\n",
      "Gera#: 9 Melhor fit: 1.065513719126025\n",
      "Gera#: 10 Melhor fit: 1.065513719126025\n",
      "Gera#: 11 Melhor fit: 1.0735612387836004\n",
      "Gera#: 12 Melhor fit: 1.0857059911288842\n",
      "Gera#: 13 Melhor fit: 1.0857059911288842\n",
      "Gera#: 14 Melhor fit: 1.0857059911288842\n",
      "Gera#: 15 Melhor fit: 1.0857059911288842\n",
      "Gera#: 16 Melhor fit: 1.0857059911288842\n",
      "Gera#: 17 Melhor fit: 1.0857059911288842\n",
      "Gera#: 18 Melhor fit: 1.0857059911288842\n",
      "Gera#: 19 Melhor fit: 1.0857059911288842\n",
      "Melhor combinação de colunas: A,B,C,D,E,I,J,O\n"
     ]
    }
   ],
   "source": [
    "for n_gera in range(20):\n",
    "    codes=[]\n",
    "    \n",
    "    #Para cada 2 indivudos gera novos 2 codigos genéticos a através do cruzamentos dada taxa de reprodução\n",
    "    for pai,mae in zip(pop[:TAM_POP//2],pop[TAM_POP//2:]):\n",
    "        corte=1+np.random.randint(N_BITS-1)\n",
    "        if np.random.random()<TAXA_DE_REPRODUCAO:\n",
    "            codes+=[pai['code'][:corte]+mae['code'][corte:corte+(N_BITS//2)]+pai['code'][corte+(N_BITS//2):],\n",
    "                    mae['code'][:corte]+pai['code'][corte:corte+(N_BITS//2)]+mae['code'][corte+(N_BITS//2):] ]\n",
    "        else:\n",
    "            codes+=[pai['code'], mae['code']]\n",
    "\n",
    "    #Para cada codigo genetico, toma bit a bit, troca os 0s por 1s, ou vice e versa dada taxa de mutação\n",
    "    codes=[''.join([str(int(not(int(bit)))) if np.random.random()<TAXA_DE_MUTACAO  else bit for bit in code]) for code in codes ]\n",
    "\n",
    "\n",
    "    #Adiciona os individuos a população, nesse momento pop tem 2*TAM_POP individuos\n",
    "    pop+=[ {'code':code, 'fit':somaLog(code)} for code in codes]\n",
    "\n",
    "\n",
    "    #Seleção por metodos do torneio para que pop tenha exatos TAM_POP individuos \n",
    "    pop=[ind1 if ind1['fit']>ind2['fit'] else ind2 for ind1,ind2 in zip(pop[:TAM_POP],pop[TAM_POP:])]\n",
    "\n",
    "    #Embaralha os individuos da população\n",
    "    np.random.shuffle(pop)\n",
    "\n",
    "    print('Gera#:',n_gera,'Melhor fit:', max([ ind['fit'] for ind in pop ] )  )\n",
    "\n",
    "\n",
    "print('Melhor combinação de colunas:', ','.join([ todas_colunas[i] for i,e in enumerate([int(c) for c in sorted(pop, key=lambda x: -x['fit'])[0]['code']]) if e]))"
   ]
  }
 ],
 "metadata": {
  "kernelspec": {
   "display_name": "Python 3",
   "language": "python",
   "name": "python3"
  },
  "language_info": {
   "codemirror_mode": {
    "name": "ipython",
    "version": 3
   },
   "file_extension": ".py",
   "mimetype": "text/x-python",
   "name": "python",
   "nbconvert_exporter": "python",
   "pygments_lexer": "ipython3",
   "version": "3.6.6"
  }
 },
 "nbformat": 4,
 "nbformat_minor": 4
}
