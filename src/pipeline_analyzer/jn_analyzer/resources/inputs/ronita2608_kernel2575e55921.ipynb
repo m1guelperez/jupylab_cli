{
 "cells": [
  {
   "cell_type": "code",
   "execution_count": 1,
   "metadata": {
    "_cell_guid": "b1076dfc-b9ad-4769-8c92-a6c4dae69d19",
    "_uuid": "8f2839f25d086af736a60e9eeb907d3b93b6e0e5",
    "execution": {
     "iopub.execute_input": "2020-08-07T14:05:59.742808Z",
     "iopub.status.busy": "2020-08-07T14:05:59.741603Z",
     "iopub.status.idle": "2020-08-07T14:05:59.745523Z",
     "shell.execute_reply": "2020-08-07T14:05:59.744691Z"
    },
    "papermill": {
     "duration": 0.017779,
     "end_time": "2020-08-07T14:05:59.745705",
     "exception": false,
     "start_time": "2020-08-07T14:05:59.727926",
     "status": "completed"
    },
    "tags": []
   },
   "outputs": [],
   "source": [
    "# This Python 3 environment comes with many helpful analytics libraries installed\n",
    "# It is defined by the kaggle/python Docker image: https://github.com/kaggle/docker-python\n",
    "# For example, here's several helpful packages to load\n",
    "\n",
    "import numpy as np # linear algebra\n",
    "import pandas as pd # data processing, CSV file I/O (e.g. pd.read_csv)\n",
    "\n",
    "# Input data files are available in the read-only \"../input/\" directory\n",
    "# For example, running this (by clicking run or pressing Shift+Enter) will list all files under the input directory\n",
    "\n",
    "import os\n",
    "for dirname, _, filenames in os.walk('/kaggle/input'):\n",
    "    for filename in filenames:\n",
    "        print(os.path.join(dirname, filename))\n",
    "\n",
    "# You can write up to 5GB to the current directory (/kaggle/working/) that gets preserved as output when you create a version using \"Save & Run All\" \n",
    "# You can also write temporary files to /kaggle/temp/, but they won't be saved outside of the current session"
   ]
  },
  {
   "cell_type": "code",
   "execution_count": 2,
   "metadata": {
    "_cell_guid": "79c7e3d0-c299-4dcb-8224-4455121ee9b0",
    "_uuid": "d629ff2d2480ee46fbb7e2d37f6b5fab8052498a",
    "execution": {
     "iopub.execute_input": "2020-08-07T14:05:59.761734Z",
     "iopub.status.busy": "2020-08-07T14:05:59.760772Z",
     "iopub.status.idle": "2020-08-07T14:05:59.764707Z",
     "shell.execute_reply": "2020-08-07T14:05:59.765294Z"
    },
    "papermill": {
     "duration": 0.015625,
     "end_time": "2020-08-07T14:05:59.765457",
     "exception": false,
     "start_time": "2020-08-07T14:05:59.749832",
     "status": "completed"
    },
    "tags": []
   },
   "outputs": [
    {
     "name": "stdout",
     "output_type": "stream",
     "text": [
      "['Python', 'Java', 'C++', 'C#']\n",
      "['Python', 'Java', 'Kotlin', 'C++', 'C#']\n",
      "['Python', 'Java', 'Kotlin', 'C++']\n"
     ]
    }
   ],
   "source": [
    "list_a = [\"Python\", \"C\", \"C++\", \"C#\"]\n",
    "\n",
    "# mutable and immutable functions on list\n",
    "\n",
    "list_a[1] = \"Java\" #mutable\n",
    "\n",
    "print(list_a)\n",
    "\n",
    "list_a.insert(2,\"Kotlin\") #immutable\n",
    "\n",
    "print(list_a)\n",
    "\n",
    "list_a.pop(4) #immutable\n",
    "\n",
    "print(list_a)\n"
   ]
  }
 ],
 "metadata": {
  "kernelspec": {
   "display_name": "Python 3",
   "language": "python",
   "name": "python3"
  },
  "language_info": {
   "codemirror_mode": {
    "name": "ipython",
    "version": 3
   },
   "file_extension": ".py",
   "mimetype": "text/x-python",
   "name": "python",
   "nbconvert_exporter": "python",
   "pygments_lexer": "ipython3",
   "version": "3.7.6"
  },
  "papermill": {
   "duration": 5.027328,
   "end_time": "2020-08-07T14:05:59.878432",
   "environment_variables": {},
   "exception": null,
   "input_path": "__notebook__.ipynb",
   "output_path": "__notebook__.ipynb",
   "parameters": {},
   "start_time": "2020-08-07T14:05:54.851104",
   "version": "2.1.0"
  }
 },
 "nbformat": 4,
 "nbformat_minor": 4
}
