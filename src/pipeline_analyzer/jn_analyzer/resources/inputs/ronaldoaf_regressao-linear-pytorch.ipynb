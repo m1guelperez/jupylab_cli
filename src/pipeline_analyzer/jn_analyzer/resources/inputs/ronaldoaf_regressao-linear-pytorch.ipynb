{
 "cells": [
  {
   "cell_type": "code",
   "execution_count": 1,
   "metadata": {
    "_cell_guid": "b1076dfc-b9ad-4769-8c92-a6c4dae69d19",
    "_uuid": "8f2839f25d086af736a60e9eeb907d3b93b6e0e5"
   },
   "outputs": [
    {
     "name": "stdout",
     "output_type": "stream",
     "text": [
      "NN: [46.07569]\n",
      "LR: [36.09714775]\n"
     ]
    }
   ],
   "source": [
    "import torch\n",
    "from torch import log,from_numpy,no_grad,nn,optim\n",
    "\n",
    "import numpy as np\n",
    "import pandas as pd\n",
    "\n",
    "from sklearn.linear_model import LinearRegression\n",
    "\n",
    "\n",
    "df=pd.read_csv('/kaggle/input/weka-scale/weka_scale.csv')\n",
    "\n",
    "#Embaralha o dataframe, apartir de um estado predefindo\n",
    "df=df.sample(frac=1.0, random_state=1)\n",
    "\n",
    "\n",
    "x=df.iloc[100000:,:8].values\n",
    "y=df.iloc[100000:,-1:].values\n",
    "reg=LinearRegression().fit(x, y)\n",
    "\n",
    "\n",
    "X=from_numpy(x).float()\n",
    "Y=from_numpy(y).float()\n",
    "\n",
    "#modelo=nn.Linear(8,1)\n",
    "modelo=nn.Sequential(\n",
    "    nn.Linear(8, 1)\n",
    ")\n",
    "\n",
    "\n",
    "#Otimiza para que o pred_y fique próximo do PL observado\n",
    "loss_func = torch.nn.MSELoss() \n",
    "otimizador = torch.optim.Adam(modelo.parameters(), lr = 0.1) \n",
    "\n",
    "for _ in range(500):\n",
    "    pred_y=modelo(X)\n",
    "\n",
    "    # Compute and print loss \n",
    "    loss = loss_func(pred_y, Y) \n",
    "\n",
    "    otimizador.zero_grad() \n",
    "    loss.backward() \n",
    "    otimizador.step()\n",
    "\n",
    "    \n",
    "    \n",
    "    \n",
    "#Otimiza para maximizar o crescimento da banca    \n",
    "def loss_somalog(y_pred,y):\n",
    "    return -log(1+y*y_pred.relu()).sum()\n",
    "\n",
    "otimizador = torch.optim.Adam(modelo.parameters(), lr = 0.01) \n",
    "for _ in range(300):\n",
    "    pred_y=modelo(X)\n",
    "\n",
    "    # Compute and print loss \n",
    "    loss = loss_somalog(pred_y, Y) \n",
    "\n",
    "    otimizador.zero_grad() \n",
    "    loss.backward() \n",
    "    otimizador.step()    \n",
    "    \n",
    "\n",
    "    \n",
    "    \n",
    "#Realiza o teste comparando a lucrativida da regressão linear com a rede neural    \n",
    "Y=df.iloc[:100000,-1].values   \n",
    "Y_nn=modelo(from_numpy(df.iloc[:100000,:8].values).float()).cpu().detach().numpy()\n",
    "Y_reg=reg.predict(df.iloc[:100000,:8].values)\n",
    "\n",
    "\n",
    "print('NN:', sum(np.log(1+y*y_pred) for y_pred,y in zip(Y_nn,Y) if y_pred>0) )\n",
    "print('LR:', sum(np.log(1+y*y_pred) for y_pred,y in zip(Y_reg,Y) if y_pred>0) )"
   ]
  }
 ],
 "metadata": {
  "kernelspec": {
   "display_name": "Python 3",
   "language": "python",
   "name": "python3"
  },
  "language_info": {
   "codemirror_mode": {
    "name": "ipython",
    "version": 3
   },
   "file_extension": ".py",
   "mimetype": "text/x-python",
   "name": "python",
   "nbconvert_exporter": "python",
   "pygments_lexer": "ipython3",
   "version": "3.6.6"
  }
 },
 "nbformat": 4,
 "nbformat_minor": 1
}
