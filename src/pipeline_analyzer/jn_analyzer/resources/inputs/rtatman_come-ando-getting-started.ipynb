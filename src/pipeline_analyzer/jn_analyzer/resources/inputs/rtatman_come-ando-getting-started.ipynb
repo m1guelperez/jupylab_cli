{
 "cells": [
  {
   "cell_type": "markdown",
   "execution_count": null,
   "metadata": {
    "_cell_guid": "e46f005d-7178-4661-9c70-f92157c8a68a",
    "_uuid": "4975c848a548d7b7fa5bc927a0f9bfa1c5b3aaa6"
   },
   "outputs": [],
   "source": [
    "First, a disclaimer: I only know about four words of Portugese. (It does, however, have [one of my very favorite vowel systems](http://www.unicamp.br/iel/site/docentes/plinio/BarbosaAlbano.pdf), so that's something!) \n",
    "\n",
    "It is a good language for showing you how to deal with character encodings, however, since there are a lot of diacrittics in it. \n",
    "\n",
    "> **Diacritics**: a sign, such as an accent or cedilla, which when written above or below a letter indicates a difference in pronunciation from the same letter when unmarked or differently marked.\n",
    "\n",
    "That means we're not going to be able to use UTF-8. Instead, these files are encoding with the ISO8859_1 encoding. \n",
    "\n",
    "Let's see what that means in practice. What happens when we just try to read in a file using open() and don't specify encoding?"
   ]
  },
  {
   "cell_type": "code",
   "execution_count": 1,
   "metadata": {
    "_cell_guid": "004da5f9-56d9-4e7c-b669-edf272373bfa",
    "_uuid": "330b8d52929588abe561824d9cff687344ee40cc"
   },
   "outputs": [
    {
     "ename": "UnicodeDecodeError",
     "evalue": "'utf-8' codec can't decode byte 0xe1 in position 1: invalid continuation byte",
     "output_type": "error",
     "traceback": [
      "\u001b[0;31m---------------------------------------------------------------------------\u001b[0m",
      "\u001b[0;31mUnicodeDecodeError\u001b[0m                        Traceback (most recent call last)",
      "\u001b[0;32m<ipython-input-1-51089823266e>\u001b[0m in \u001b[0;36m<module>\u001b[0;34m()\u001b[0m\n\u001b[1;32m      1\u001b[0m \u001b[0;31m# read in one of our files\u001b[0m\u001b[0;34m\u001b[0m\u001b[0;34m\u001b[0m\u001b[0m\n\u001b[1;32m      2\u001b[0m \u001b[0;32mwith\u001b[0m \u001b[0mopen\u001b[0m\u001b[0;34m(\u001b[0m\u001b[0;34m\"../input/Brazilian_Portugese_Corpus/Varias Historias.txt\"\u001b[0m\u001b[0;34m,\u001b[0m \u001b[0;34m\"r\"\u001b[0m\u001b[0;34m)\u001b[0m \u001b[0;32mas\u001b[0m \u001b[0mf\u001b[0m\u001b[0;34m:\u001b[0m\u001b[0;34m\u001b[0m\u001b[0m\n\u001b[0;32m----> 3\u001b[0;31m     \u001b[0mtext\u001b[0m \u001b[0;34m=\u001b[0m \u001b[0mf\u001b[0m\u001b[0;34m.\u001b[0m\u001b[0mreadlines\u001b[0m\u001b[0;34m(\u001b[0m\u001b[0;34m)\u001b[0m\u001b[0;34m\u001b[0m\u001b[0m\n\u001b[0m\u001b[1;32m      4\u001b[0m \u001b[0;34m\u001b[0m\u001b[0m\n\u001b[1;32m      5\u001b[0m \u001b[0mtext\u001b[0m\u001b[0;34m[\u001b[0m\u001b[0;34m:\u001b[0m\u001b[0;36m5\u001b[0m\u001b[0;34m]\u001b[0m\u001b[0;34m\u001b[0m\u001b[0m\n",
      "\u001b[0;32m/opt/conda/lib/python3.6/codecs.py\u001b[0m in \u001b[0;36mdecode\u001b[0;34m(self, input, final)\u001b[0m\n\u001b[1;32m    319\u001b[0m         \u001b[0;31m# decode input (taking the buffer into account)\u001b[0m\u001b[0;34m\u001b[0m\u001b[0;34m\u001b[0m\u001b[0m\n\u001b[1;32m    320\u001b[0m         \u001b[0mdata\u001b[0m \u001b[0;34m=\u001b[0m \u001b[0mself\u001b[0m\u001b[0;34m.\u001b[0m\u001b[0mbuffer\u001b[0m \u001b[0;34m+\u001b[0m \u001b[0minput\u001b[0m\u001b[0;34m\u001b[0m\u001b[0m\n\u001b[0;32m--> 321\u001b[0;31m         \u001b[0;34m(\u001b[0m\u001b[0mresult\u001b[0m\u001b[0;34m,\u001b[0m \u001b[0mconsumed\u001b[0m\u001b[0;34m)\u001b[0m \u001b[0;34m=\u001b[0m \u001b[0mself\u001b[0m\u001b[0;34m.\u001b[0m\u001b[0m_buffer_decode\u001b[0m\u001b[0;34m(\u001b[0m\u001b[0mdata\u001b[0m\u001b[0;34m,\u001b[0m \u001b[0mself\u001b[0m\u001b[0;34m.\u001b[0m\u001b[0merrors\u001b[0m\u001b[0;34m,\u001b[0m \u001b[0mfinal\u001b[0m\u001b[0;34m)\u001b[0m\u001b[0;34m\u001b[0m\u001b[0m\n\u001b[0m\u001b[1;32m    322\u001b[0m         \u001b[0;31m# keep undecoded input until the next call\u001b[0m\u001b[0;34m\u001b[0m\u001b[0;34m\u001b[0m\u001b[0m\n\u001b[1;32m    323\u001b[0m         \u001b[0mself\u001b[0m\u001b[0;34m.\u001b[0m\u001b[0mbuffer\u001b[0m \u001b[0;34m=\u001b[0m \u001b[0mdata\u001b[0m\u001b[0;34m[\u001b[0m\u001b[0mconsumed\u001b[0m\u001b[0;34m:\u001b[0m\u001b[0;34m]\u001b[0m\u001b[0;34m\u001b[0m\u001b[0m\n",
      "\u001b[0;31mUnicodeDecodeError\u001b[0m: 'utf-8' codec can't decode byte 0xe1 in position 1: invalid continuation byte"
     ]
    }
   ],
   "source": [
    "# read in one of our files\n",
    "with open(\"../input/Brazilian_Portugese_Corpus/Varias Historias.txt\", \"r\") as f:\n",
    "    text = f.readlines()\n",
    "    \n",
    "text[:5]"
   ]
  },
  {
   "cell_type": "markdown",
   "execution_count": null,
   "metadata": {
    "_cell_guid": "6786bd41-9259-429b-b2f4-715bd060b527",
    "_uuid": "3bbba59f02e8f9537469881dfaf605a0bdc00181"
   },
   "outputs": [],
   "source": [
    "We get a nasty-looking error that tells us that 'utf-8' is running into all sorts of problems. Fortunantley, the fix is really easy! Just add an \"encoding\" argument that specifies which encoding we *should* be using. "
   ]
  },
  {
   "cell_type": "code",
   "execution_count": 2,
   "metadata": {
    "_cell_guid": "8c923a4b-2e27-4716-9cf9-b24cf5914a4b",
    "_uuid": "925a32f5115516960e1af28142a869c1ec2ed0a5"
   },
   "outputs": [
    {
     "data": {
      "text/plain": [
       "['Várias Histórias\\n',\n",
       " 'Texto-fonte:\\n',\n",
       " 'Obra Completa, Machado de Assis, vol. II,\\n',\n",
       " 'Rio de Janeiro: Nova Aguilar, 1994.\\n',\n",
       " 'Publicado originalmente por Laemmert & C. Editores, Rio de Janeiro em 1896.\\n']"
      ]
     },
     "execution_count": 2,
     "metadata": {},
     "output_type": "execute_result"
    }
   ],
   "source": [
    "# read in one of our files but specificying the correct encoding!\n",
    "with open(\"../input/Brazilian_Portugese_Corpus/Varias Historias.txt\", \"r\", encoding='ISO8859_1') as f:\n",
    "    text = f.readlines()\n",
    "    \n",
    "text[:5]"
   ]
  },
  {
   "cell_type": "markdown",
   "execution_count": null,
   "metadata": {
    "_cell_guid": "4353694a-ff89-47eb-b16d-e8bc724df2ac",
    "_uuid": "2a5ead220aa7390098316b9fe4058ef7ae9731df"
   },
   "outputs": [],
   "source": [
    "There we go! That looks much better. Notice that the diacritics over the first \"a\" in the \"Várias\" and the \"o\" in \"Histórias\" have both rendered correctly. \n",
    "\n",
    "Now that you can read in your files correctly, you're all set to get to analyzing. *Divirta-se!*"
   ]
  }
 ],
 "metadata": {
  "kernelspec": {
   "display_name": "Python 3",
   "language": "python",
   "name": "python3"
  },
  "language_info": {
   "codemirror_mode": {
    "name": "ipython",
    "version": 3
   },
   "file_extension": ".py",
   "mimetype": "text/x-python",
   "name": "python",
   "nbconvert_exporter": "python",
   "pygments_lexer": "ipython3",
   "version": "3.6.1"
  }
 },
 "nbformat": 4,
 "nbformat_minor": 1
}
