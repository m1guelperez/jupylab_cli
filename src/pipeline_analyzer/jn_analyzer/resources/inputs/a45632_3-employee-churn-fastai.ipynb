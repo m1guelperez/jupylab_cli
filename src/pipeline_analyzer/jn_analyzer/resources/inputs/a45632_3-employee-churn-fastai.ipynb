{
 "cells": [
  {
   "cell_type": "markdown",
   "metadata": {},
   "source": [
    "# Part 3 : Can we predict employee churn uing deep learning ?\n",
    "\n",
    "After reading this article(https://towardsdatascience.com/building-an-employee-churn-model-in-python-to-develop-a-strategic-retention-plan-57d5bd882c2d), i was using the same dataset to verify potential added values using more advanced approach. \n",
    "\n",
    "## Overview:\n",
    "Dataset is unbalanced, this is not ideal for a deep learning approach.\n",
    "To solve this potential issue, i use oversampling technique using SMOTE.\n",
    "Then, i simply follow regular canevas described in the lesson 4 of the FastAI course v3.\n",
    "\n",
    "## Related work:\n",
    "Part 1 : Can we identify most important features using LOFO ?\n",
    "\n",
    "Part 2 : What would be the the best traditional modeling approach ?\n",
    "\n",
    "Part 3 : Can we predict employee churn uing deep learning ?"
   ]
  },
  {
   "cell_type": "code",
   "execution_count": 1,
   "metadata": {},
   "outputs": [
    {
     "name": "stderr",
     "output_type": "stream",
     "text": [
      "Using TensorFlow backend.\n"
     ]
    }
   ],
   "source": [
    "%matplotlib inline\n",
    "import numpy as np # linear algebra\n",
    "import pandas as pd # data processing, CSV file I/O (e.g. pd.read_csv)\n",
    "import matplotlib.pyplot as plt # drawing graph\n",
    "import warnings; warnings.filterwarnings(\"ignore\") \n",
    "import os; os.environ['OMP_NUM_THREADS'] = '4' # speed up using 4 cpu\n",
    "from fastai.tabular import *\n",
    "from sklearn.metrics import roc_auc_score\n",
    "from imblearn.over_sampling import SMOTE"
   ]
  },
  {
   "cell_type": "code",
   "execution_count": 2,
   "metadata": {},
   "outputs": [],
   "source": [
    "def auroc_score(input, target):\n",
    "    input, target = input.cpu().numpy()[:,1], target.cpu().numpy()\n",
    "    return roc_auc_score(target, input)\n",
    "\n",
    "class AUROC(Callback):\n",
    "    _order = -20 #Needs to run before the recorder\n",
    "\n",
    "    def __init__(self, learn, **kwargs): self.learn = learn\n",
    "    def on_train_begin(self, **kwargs): self.learn.recorder.add_metric_names(['AUROC'])\n",
    "    def on_epoch_begin(self, **kwargs): self.output, self.target = [], []\n",
    "    \n",
    "    def on_batch_end(self, last_target, last_output, train, **kwargs):\n",
    "        if not train:\n",
    "            self.output.append(last_output)\n",
    "            self.target.append(last_target)\n",
    "                \n",
    "    def on_epoch_end(self, last_metrics, **kwargs):\n",
    "        if len(self.output) > 0:\n",
    "            output = torch.cat(self.output)\n",
    "            target = torch.cat(self.target)\n",
    "            preds = F.softmax(output, dim=1)\n",
    "            metric = auroc_score(preds, target)\n",
    "            return add_metrics(last_metrics, [metric])"
   ]
  },
  {
   "cell_type": "code",
   "execution_count": 3,
   "metadata": {},
   "outputs": [],
   "source": [
    "dtypes={\n",
    "    'Age':                         'int64',\n",
    "    'Attrition':                   'category',\n",
    "    'BusinessTravel':              'category',\n",
    "    'DailyRate':                   'int64',\n",
    "    'Department':                  'category',\n",
    "    'DistanceFromHome':            'int64',\n",
    "    'Education':                   'int64',\n",
    "    'EducationField':              'category',\n",
    "    'EmployeeCount':               'int64',\n",
    "    'EmployeeNumber':              'int64',\n",
    "    'EnvironmentSatisfaction':     'int64',\n",
    "    'Gender':                      'category',\n",
    "    'HourlyRate':                  'int64',\n",
    "    'JobInvolvement':              'int64',\n",
    "    'JobLevel':                    'int64',\n",
    "    'JobRole':                     'category',\n",
    "    'JobSatisfaction':             'int64',\n",
    "    'MaritalStatus':               'category',\n",
    "    'MonthlyIncome':               'int64',\n",
    "    'MonthlyRate':                 'int64',\n",
    "    'NumCompaniesWorked':          'int64',\n",
    "    'Over18':                      'category',\n",
    "    'OverTime':                    'category',\n",
    "    'PercentSalaryHike':           'int64',\n",
    "    'PerformanceRating':           'int64',\n",
    "    'RelationshipSatisfaction':    'int64',\n",
    "    'StandardHours':               'int64',\n",
    "    'StockOptionLevel':            'int64',\n",
    "    'TotalWorkingYears':           'int64',\n",
    "    'TrainingTimesLastYear':       'int64',\n",
    "    'WorkLifeBalance':             'int64',\n",
    "    'YearsAtCompany':              'int64',\n",
    "    'YearsInCurrentRole':          'int64',\n",
    "    'YearsSinceLastPromotion':     'int64',\n",
    "    'YearsWithCurrManager':        'int64',}"
   ]
  },
  {
   "cell_type": "code",
   "execution_count": 4,
   "metadata": {},
   "outputs": [
    {
     "name": "stdout",
     "output_type": "stream",
     "text": [
      "Shape of dataframe is: (1470, 35)\n"
     ]
    }
   ],
   "source": [
    "# source : https://www.ibm.com/communities/analytics/watson-analytics-blog/hr-employee-attrition/\n",
    "df = pd.read_excel('../input/WA_Fn-UseC_-HR-Employee-Attrition.xlsx', sheet_name=0,dtype=dtypes)\n",
    "print(\"Shape of dataframe is: {}\".format(df.shape))"
   ]
  },
  {
   "cell_type": "code",
   "execution_count": 5,
   "metadata": {},
   "outputs": [],
   "source": [
    "# preprocessing : categorical encoding\n",
    "df['Attrition']=df.Attrition.eq('Yes').mul(1) # change target from Yes/no to 1/0\n",
    "cont=[]\n",
    "cat=[]\n",
    "for key, value in dtypes.items():\n",
    "    if key!='Attrition':\n",
    "        if value == \"int64\":\n",
    "            cont.append(key)\n",
    "        else:\n",
    "            cat.append(key)\n",
    "df = pd.get_dummies(df, columns=cat)"
   ]
  },
  {
   "cell_type": "code",
   "execution_count": 6,
   "metadata": {},
   "outputs": [],
   "source": [
    "# get train data\n",
    "col = df.columns\n",
    "cont=[]\n",
    "for i in range(0,len(col)):\n",
    "    if col[i]!='Attrition':\n",
    "        cont.append(col[i])"
   ]
  },
  {
   "cell_type": "code",
   "execution_count": 7,
   "metadata": {},
   "outputs": [],
   "source": [
    "#save the column name\n",
    "x_col = cont\n",
    "y_col = 'Attrition'\n",
    "\n",
    "X = df.drop('Attrition', axis=1)\n",
    "Y = df.Attrition\n",
    "X_res, Y_res = SMOTE().fit_resample(X, Y)"
   ]
  },
  {
   "cell_type": "code",
   "execution_count": 8,
   "metadata": {},
   "outputs": [],
   "source": [
    "smote_df = pd.DataFrame(X_res, columns = x_col)"
   ]
  },
  {
   "cell_type": "code",
   "execution_count": 9,
   "metadata": {},
   "outputs": [],
   "source": [
    "smote_df = smote_df.assign(Attrition = Y_res)"
   ]
  },
  {
   "cell_type": "code",
   "execution_count": 10,
   "metadata": {},
   "outputs": [
    {
     "data": {
      "text/plain": [
       "1    1233\n",
       "0    1233\n",
       "Name: Attrition, dtype: int64"
      ]
     },
     "execution_count": 10,
     "metadata": {},
     "output_type": "execute_result"
    }
   ],
   "source": [
    "smote_df.Attrition.value_counts()"
   ]
  },
  {
   "cell_type": "code",
   "execution_count": 11,
   "metadata": {
    "scrolled": true
   },
   "outputs": [
    {
     "data": {
      "text/plain": [
       "(2466, 56)"
      ]
     },
     "execution_count": 11,
     "metadata": {},
     "output_type": "execute_result"
    }
   ],
   "source": [
    "smote_df.shape"
   ]
  },
  {
   "cell_type": "code",
   "execution_count": 12,
   "metadata": {},
   "outputs": [],
   "source": [
    "dep_var='Attrition'\n",
    "procs=[ Normalize]\n",
    "data = (TabularList.from_df(smote_df, cont_names=col , procs=procs,)\n",
    "                .split_subsets(train_size=0.8, valid_size=0.2, seed=34)\n",
    "                .label_from_df(cols=dep_var)\n",
    "                .databunch())"
   ]
  },
  {
   "cell_type": "code",
   "execution_count": 13,
   "metadata": {},
   "outputs": [],
   "source": [
    "learn = tabular_learner(data, layers=[200,100],metrics=accuracy, callback_fns=AUROC)"
   ]
  },
  {
   "cell_type": "code",
   "execution_count": 14,
   "metadata": {},
   "outputs": [
    {
     "data": {
      "text/html": [],
      "text/plain": [
       "<IPython.core.display.HTML object>"
      ]
     },
     "metadata": {},
     "output_type": "display_data"
    },
    {
     "name": "stdout",
     "output_type": "stream",
     "text": [
      "LR Finder is complete, type {learner_name}.recorder.plot() to see the graph.\n",
      "Min numerical gradient: 6.31E-03\n"
     ]
    },
    {
     "data": {
      "image/png": "[encoded data removed]",
      "text/plain": [
       "<Figure size 432x288 with 1 Axes>"
      ]
     },
     "metadata": {},
     "output_type": "display_data"
    }
   ],
   "source": [
    "learn.lr_find()\n",
    "learn.recorder.plot(suggestion=True)"
   ]
  },
  {
   "cell_type": "code",
   "execution_count": 15,
   "metadata": {},
   "outputs": [
    {
     "data": {
      "text/html": [
       "<table border=\"1\" class=\"dataframe\">\n",
       "  <thead>\n",
       "    <tr style=\"text-align: left;\">\n",
       "      <th>epoch</th>\n",
       "      <th>train_loss</th>\n",
       "      <th>valid_loss</th>\n",
       "      <th>accuracy</th>\n",
       "      <th>AUROC</th>\n",
       "      <th>time</th>\n",
       "    </tr>\n",
       "  </thead>\n",
       "  <tbody>\n",
       "    <tr>\n",
       "      <td>0</td>\n",
       "      <td>0.233501</td>\n",
       "      <td>0.144441</td>\n",
       "      <td>0.987830</td>\n",
       "      <td>0.999951</td>\n",
       "      <td>00:00</td>\n",
       "    </tr>\n",
       "    <tr>\n",
       "      <td>1</td>\n",
       "      <td>0.103391</td>\n",
       "      <td>0.014968</td>\n",
       "      <td>1.000000</td>\n",
       "      <td>1.000000</td>\n",
       "      <td>00:00</td>\n",
       "    </tr>\n",
       "    <tr>\n",
       "      <td>2</td>\n",
       "      <td>0.051696</td>\n",
       "      <td>0.005557</td>\n",
       "      <td>1.000000</td>\n",
       "      <td>1.000000</td>\n",
       "      <td>00:00</td>\n",
       "    </tr>\n",
       "  </tbody>\n",
       "</table>"
      ],
      "text/plain": [
       "<IPython.core.display.HTML object>"
      ]
     },
     "metadata": {},
     "output_type": "display_data"
    }
   ],
   "source": [
    "learn.fit(3,lr=1e-3)"
   ]
  },
  {
   "cell_type": "code",
   "execution_count": 16,
   "metadata": {},
   "outputs": [
    {
     "data": {
      "text/html": [],
      "text/plain": [
       "<IPython.core.display.HTML object>"
      ]
     },
     "metadata": {},
     "output_type": "display_data"
    },
    {
     "name": "stdout",
     "output_type": "stream",
     "text": [
      "LR Finder is complete, type {learner_name}.recorder.plot() to see the graph.\n",
      "Min numerical gradient: 5.75E-06\n"
     ]
    },
    {
     "data": {
      "image/png": "[encoded data removed]",
      "text/plain": [
       "<Figure size 432x288 with 1 Axes>"
      ]
     },
     "metadata": {},
     "output_type": "display_data"
    }
   ],
   "source": [
    "learn.lr_find()\n",
    "learn.recorder.plot(suggestion=True)"
   ]
  },
  {
   "cell_type": "code",
   "execution_count": 17,
   "metadata": {},
   "outputs": [
    {
     "data": {
      "text/html": [
       "<table border=\"1\" class=\"dataframe\">\n",
       "  <thead>\n",
       "    <tr style=\"text-align: left;\">\n",
       "      <th>epoch</th>\n",
       "      <th>train_loss</th>\n",
       "      <th>valid_loss</th>\n",
       "      <th>accuracy</th>\n",
       "      <th>AUROC</th>\n",
       "      <th>time</th>\n",
       "    </tr>\n",
       "  </thead>\n",
       "  <tbody>\n",
       "    <tr>\n",
       "      <td>0</td>\n",
       "      <td>0.005414</td>\n",
       "      <td>0.005653</td>\n",
       "      <td>1.000000</td>\n",
       "      <td>1.000000</td>\n",
       "      <td>00:00</td>\n",
       "    </tr>\n",
       "    <tr>\n",
       "      <td>1</td>\n",
       "      <td>0.005207</td>\n",
       "      <td>0.006084</td>\n",
       "      <td>1.000000</td>\n",
       "      <td>1.000000</td>\n",
       "      <td>00:00</td>\n",
       "    </tr>\n",
       "  </tbody>\n",
       "</table>"
      ],
      "text/plain": [
       "<IPython.core.display.HTML object>"
      ]
     },
     "metadata": {},
     "output_type": "display_data"
    }
   ],
   "source": [
    "learn.fit_one_cycle(2,max_lr=1e-6)"
   ]
  },
  {
   "cell_type": "code",
   "execution_count": 18,
   "metadata": {},
   "outputs": [
    {
     "data": {
      "image/png": "[encoded data removed]",
      "text/plain": [
       "<Figure size 432x288 with 1 Axes>"
      ]
     },
     "metadata": {},
     "output_type": "display_data"
    }
   ],
   "source": [
    "learn.recorder.plot_losses()"
   ]
  },
  {
   "cell_type": "code",
   "execution_count": 19,
   "metadata": {},
   "outputs": [
    {
     "data": {
      "image/png": "[encoded data removed]",
      "text/plain": [
       "<Figure size 432x288 with 1 Axes>"
      ]
     },
     "metadata": {},
     "output_type": "display_data"
    }
   ],
   "source": [
    "interp = ClassificationInterpretation.from_learner(learn)\n",
    "interp.plot_confusion_matrix()"
   ]
  },
  {
   "cell_type": "code",
   "execution_count": 20,
   "metadata": {
    "collapsed": true
   },
   "outputs": [],
   "source": []
  }
 ],
 "metadata": {
  "kernelspec": {
   "display_name": "Python 3",
   "language": "python",
   "name": "python3"
  },
  "language_info": {
   "codemirror_mode": {
    "name": "ipython",
    "version": 3
   },
   "file_extension": ".py",
   "mimetype": "text/x-python",
   "name": "python",
   "nbconvert_exporter": "python",
   "pygments_lexer": "ipython3",
   "version": "3.6.3"
  }
 },
 "nbformat": 4,
 "nbformat_minor": 1
}
