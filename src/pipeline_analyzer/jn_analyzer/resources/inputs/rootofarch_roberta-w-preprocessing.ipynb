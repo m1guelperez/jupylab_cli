{
 "cells": [
  {
   "cell_type": "code",
   "execution_count": 1,
   "metadata": {
    "execution": {
     "iopub.execute_input": "2020-10-21T16:34:11.950637Z",
     "iopub.status.busy": "2020-10-21T16:34:11.949994Z",
     "iopub.status.idle": "2020-10-21T16:34:11.953886Z",
     "shell.execute_reply": "2020-10-21T16:34:11.953365Z"
    },
    "id": "7lPTDobFeVoS",
    "papermill": {
     "duration": 0.075133,
     "end_time": "2020-10-21T16:34:11.953992",
     "exception": false,
     "start_time": "2020-10-21T16:34:11.878859",
     "status": "completed"
    },
    "tags": []
   },
   "outputs": [],
   "source": [
    "import warnings\n",
    "warnings.filterwarnings('ignore')"
   ]
  },
  {
   "cell_type": "code",
   "execution_count": 2,
   "metadata": {
    "execution": {
     "iopub.execute_input": "2020-10-21T16:34:12.103021Z",
     "iopub.status.busy": "2020-10-21T16:34:12.097812Z",
     "iopub.status.idle": "2020-10-21T16:37:46.996590Z",
     "shell.execute_reply": "2020-10-21T16:37:46.997073Z"
    },
    "id": "Q59S0ImleYka",
    "outputId": "218e9a3d-7945-4cfa-8420-9161d6dcfc72",
    "papermill": {
     "duration": 214.97809,
     "end_time": "2020-10-21T16:37:46.997234",
     "exception": false,
     "start_time": "2020-10-21T16:34:12.019144",
     "status": "completed"
    },
    "tags": []
   },
   "outputs": [
    {
     "name": "stdout",
     "output_type": "stream",
     "text": [
      "/opt/conda/lib/python3.7/site-packages/setuptools/command/easy_install.py:343: UserWarning: Unbuilt egg for ekphrasis [unknown version] (/kaggle/working/pyspellchecker-and-ekpharasis-libs-for-python/ekphrasis-0.5.1/ekphrasis-0.5.1)\r\n",
      "  self.local_index = Environment(self.shadow_path + sys.path)\r\n",
      "warning: install_lib: 'build/lib' does not exist -- no Python modules to install\r\n",
      "\r\n",
      "zip_safe flag not set; analyzing archive contents...\r\n",
      "\u001b[33mWARNING: Retrying (Retry(total=4, connect=None, read=None, redirect=None, status=None)) after connection broken by 'NewConnectionError('<pip._vendor.urllib3.connection.VerifiedHTTPSConnection object at 0x7fc08e8abc10>: Failed to establish a new connection: [Errno -3] Temporary failure in name resolution')': /simple/tokenizers/\u001b[0m\r\n",
      "\u001b[33mWARNING: Retrying (Retry(total=3, connect=None, read=None, redirect=None, status=None)) after connection broken by 'NewConnectionError('<pip._vendor.urllib3.connection.VerifiedHTTPSConnection object at 0x7fc08e850550>: Failed to establish a new connection: [Errno -3] Temporary failure in name resolution')': /simple/tokenizers/\u001b[0m\r\n",
      "\u001b[33mWARNING: Retrying (Retry(total=2, connect=None, read=None, redirect=None, status=None)) after connection broken by 'NewConnectionError('<pip._vendor.urllib3.connection.VerifiedHTTPSConnection object at 0x7fc08e850290>: Failed to establish a new connection: [Errno -3] Temporary failure in name resolution')': /simple/tokenizers/\u001b[0m\r\n",
      "\u001b[33mWARNING: Retrying (Retry(total=1, connect=None, read=None, redirect=None, status=None)) after connection broken by 'NewConnectionError('<pip._vendor.urllib3.connection.VerifiedHTTPSConnection object at 0x7fc08e8500d0>: Failed to establish a new connection: [Errno -3] Temporary failure in name resolution')': /simple/tokenizers/\u001b[0m\r\n",
      "\u001b[33mWARNING: Retrying (Retry(total=0, connect=None, read=None, redirect=None, status=None)) after connection broken by 'NewConnectionError('<pip._vendor.urllib3.connection.VerifiedHTTPSConnection object at 0x7fc08e950f90>: Failed to establish a new connection: [Errno -3] Temporary failure in name resolution')': /simple/tokenizers/\u001b[0m\r\n",
      "\u001b[31mERROR: Could not find a version that satisfies the requirement tokenizers==0.5.2 (from transformers==2.8.0) (from versions: none)\u001b[0m\r\n",
      "\u001b[31mERROR: No matching distribution found for tokenizers==0.5.2 (from transformers==2.8.0)\u001b[0m\r\n"
     ]
    }
   ],
   "source": [
    "# installing libraries\n",
    "\n",
    "!cp -rp /kaggle/input/pyspellchecker-and-ekpharasis-libs-for-python /kaggle/working/\n",
    "!cp -rp /kaggle/input/transformers280 /kaggle/working/\n",
    "\n",
    "!pip install /kaggle/working/pyspellchecker-and-ekpharasis-libs-for-python/pyspellchecker-0.5.4-py2.py3-none-any.whl >> /dev/null\n",
    "\n",
    "!pip install /kaggle/working/pyspellchecker-and-ekpharasis-libs-for-python/ekphrasis-0.5.1/ekphrasis-0.5.1/ >> /dev/null\n",
    "!python /kaggle/working/pyspellchecker-and-ekpharasis-libs-for-python/ekphrasis-0.5.1/ekphrasis-0.5.1/setup.py install >> /dev/null\n",
    "!mkdir -p /root/.ekphrasis/stats \n",
    "!cp -r /kaggle/working/pyspellchecker-and-ekpharasis-libs-for-python/stats/* /root/.ekphrasis/stats >> /dev/null\n",
    "\n",
    "!pip install /kaggle/working/transformers280/transformers-2.8.0 >> /dev/null\n",
    "\n",
    "!rm -rf /kaggle/working/*"
   ]
  },
  {
   "cell_type": "markdown",
   "metadata": {
    "id": "y7i73QIlgu_A",
    "papermill": {
     "duration": 0.06728,
     "end_time": "2020-10-21T16:37:47.131867",
     "exception": false,
     "start_time": "2020-10-21T16:37:47.064587",
     "status": "completed"
    },
    "tags": []
   },
   "source": [
    "# Start"
   ]
  },
  {
   "cell_type": "markdown",
   "metadata": {
    "id": "937NcVxseF1J",
    "papermill": {
     "duration": 0.066135,
     "end_time": "2020-10-21T16:37:47.264622",
     "exception": false,
     "start_time": "2020-10-21T16:37:47.198487",
     "status": "completed"
    },
    "tags": []
   },
   "source": [
    "### Define Mode"
   ]
  },
  {
   "cell_type": "code",
   "execution_count": 3,
   "metadata": {
    "execution": {
     "iopub.execute_input": "2020-10-21T16:37:47.403704Z",
     "iopub.status.busy": "2020-10-21T16:37:47.402897Z",
     "iopub.status.idle": "2020-10-21T16:37:47.405870Z",
     "shell.execute_reply": "2020-10-21T16:37:47.405358Z"
    },
    "id": "2cByLy05eF1K",
    "papermill": {
     "duration": 0.073735,
     "end_time": "2020-10-21T16:37:47.405967",
     "exception": false,
     "start_time": "2020-10-21T16:37:47.332232",
     "status": "completed"
    },
    "tags": []
   },
   "outputs": [],
   "source": [
    "in_testing_mode = True"
   ]
  },
  {
   "cell_type": "markdown",
   "metadata": {
    "id": "x8vgluA6gx2F",
    "papermill": {
     "duration": 0.066607,
     "end_time": "2020-10-21T16:37:47.538804",
     "exception": false,
     "start_time": "2020-10-21T16:37:47.472197",
     "status": "completed"
    },
    "tags": []
   },
   "source": [
    "### import some useful libs"
   ]
  },
  {
   "cell_type": "code",
   "execution_count": 4,
   "metadata": {
    "_cell_guid": "b1076dfc-b9ad-4769-8c92-a6c4dae69d19",
    "_uuid": "8f2839f25d086af736a60e9eeb907d3b93b6e0e5",
    "execution": {
     "iopub.execute_input": "2020-10-21T16:37:47.682714Z",
     "iopub.status.busy": "2020-10-21T16:37:47.681879Z",
     "iopub.status.idle": "2020-10-21T16:37:55.766755Z",
     "shell.execute_reply": "2020-10-21T16:37:55.765693Z"
    },
    "id": "i7GbkSl84v0j",
    "papermill": {
     "duration": 8.161073,
     "end_time": "2020-10-21T16:37:55.766878",
     "exception": false,
     "start_time": "2020-10-21T16:37:47.605805",
     "status": "completed"
    },
    "tags": []
   },
   "outputs": [
    {
     "name": "stderr",
     "output_type": "stream",
     "text": [
      "\u001b[34m\u001b[1mwandb\u001b[0m: \u001b[33mWARNING\u001b[0m W&B installed but not logged in.  Run `wandb login` or set the WANDB_API_KEY env variable.\n"
     ]
    }
   ],
   "source": [
    "import numpy as np # linear algebra\n",
    "import pandas as pd # data processing, CSV file I/O (e.g. pd.read_csv)\n",
    "import random\n",
    "import copy\n",
    "import os\n",
    "import re # regular expression\n",
    "\n",
    "from nltk.tokenize import SpaceTokenizer\n",
    "\n",
    "from ekphrasis.classes.preprocessor import TextPreProcessor\n",
    "from ekphrasis.classes.tokenizer import SocialTokenizer\n",
    "from ekphrasis.dicts.emoticons import emoticons\n",
    "\n",
    "from spellchecker import SpellChecker\n",
    "\n",
    "import torch\n",
    "import torch.nn as nn\n",
    "from torch.utils.data import TensorDataset, DataLoader, RandomSampler, SequentialSampler\n",
    "\n",
    "from transformers import RobertaConfig, RobertaModel, BertPreTrainedModel, RobertaTokenizer, AdamW, get_linear_schedule_with_warmup\n",
    "\n",
    "import datetime, time\n",
    "\n",
    "import matplotlib.pyplot as plt\n",
    "import seaborn as sns\n",
    "from sklearn.model_selection import train_test_split"
   ]
  },
  {
   "cell_type": "code",
   "execution_count": 5,
   "metadata": {
    "execution": {
     "iopub.execute_input": "2020-10-21T16:37:55.909928Z",
     "iopub.status.busy": "2020-10-21T16:37:55.909202Z",
     "iopub.status.idle": "2020-10-21T16:37:55.913116Z",
     "shell.execute_reply": "2020-10-21T16:37:55.912618Z"
    },
    "id": "ol55mdxXeF1b",
    "papermill": {
     "duration": 0.078441,
     "end_time": "2020-10-21T16:37:55.913209",
     "exception": false,
     "start_time": "2020-10-21T16:37:55.834768",
     "status": "completed"
    },
    "tags": []
   },
   "outputs": [],
   "source": [
    "input_dir = '/kaggle/input'\n",
    "working_dir = '/kaggle/working'\n",
    "data_dir = os.path.join(input_dir, \"tweet-sentiment-extraction/\")\n",
    "model_dir = os.path.join(input_dir, \"robertabase/\")\n",
    "\n",
    "train_file = os.path.join(data_dir, \"train.csv\")\n",
    "test_file = os.path.join(data_dir, \"test.csv\")\n",
    "\n",
    "sample_submission_file = os.path.join(data_dir, \"sample_submission.csv\")\n",
    "submission_file = os.path.join(working_dir, \"submission.csv\")"
   ]
  },
  {
   "cell_type": "markdown",
   "metadata": {
    "id": "93OZ07_qg4YF",
    "papermill": {
     "duration": 0.067439,
     "end_time": "2020-10-21T16:37:56.048937",
     "exception": false,
     "start_time": "2020-10-21T16:37:55.981498",
     "status": "completed"
    },
    "tags": []
   },
   "source": [
    "### Load dataframes"
   ]
  },
  {
   "cell_type": "code",
   "execution_count": 6,
   "metadata": {
    "_cell_guid": "79c7e3d0-c299-4dcb-8224-4455121ee9b0",
    "_uuid": "d629ff2d2480ee46fbb7e2d37f6b5fab8052498a",
    "execution": {
     "iopub.execute_input": "2020-10-21T16:37:56.195473Z",
     "iopub.status.busy": "2020-10-21T16:37:56.194871Z",
     "iopub.status.idle": "2020-10-21T16:37:56.426171Z",
     "shell.execute_reply": "2020-10-21T16:37:56.426656Z"
    },
    "id": "ekf8DnTU4v0z",
    "outputId": "1ae384c5-aab1-4ce9-e21d-0659ade563d8",
    "papermill": {
     "duration": 0.30709,
     "end_time": "2020-10-21T16:37:56.426798",
     "exception": false,
     "start_time": "2020-10-21T16:37:56.119708",
     "status": "completed"
    },
    "tags": []
   },
   "outputs": [
    {
     "name": "stdout",
     "output_type": "stream",
     "text": [
      "dfTrain\n",
      "            textID                                               text  \\\n",
      "count        27481                                              27480   \n",
      "unique       27481                                              27480   \n",
      "top     a1d7825499   I can understand the fear. I feel that way ab...   \n",
      "freq             1                                                  1   \n",
      "\n",
      "       selected_text sentiment  \n",
      "count          27480     27481  \n",
      "unique         22463         3  \n",
      "top             good   neutral  \n",
      "freq             199     11118  \n",
      "\n",
      "====================================\n",
      "\n",
      "dfTest\n",
      "            textID                                               text  \\\n",
      "count         3534                                               3534   \n",
      "unique        3534                                               3534   \n",
      "top     e8bbfed756  _MileyCyrus it wont let me do it twitter keeps...   \n",
      "freq             1                                                  1   \n",
      "\n",
      "       sentiment  \n",
      "count       3534  \n",
      "unique         3  \n",
      "top      neutral  \n",
      "freq        1430  \n"
     ]
    }
   ],
   "source": [
    "dfTrain = pd.read_csv(train_file,encoding=\"utf-8\")\n",
    "dfTest = pd.read_csv(test_file,encoding=\"utf-8\")\n",
    "print(\"dfTrain\")\n",
    "print(dfTrain.describe())\n",
    "print(\"\\n====================================\\n\")\n",
    "print(\"dfTest\")\n",
    "print(dfTest.describe())"
   ]
  },
  {
   "cell_type": "code",
   "execution_count": 7,
   "metadata": {
    "execution": {
     "iopub.execute_input": "2020-10-21T16:37:56.584623Z",
     "iopub.status.busy": "2020-10-21T16:37:56.583964Z",
     "iopub.status.idle": "2020-10-21T16:37:56.599707Z",
     "shell.execute_reply": "2020-10-21T16:37:56.600139Z"
    },
    "id": "pCsv_g-Y4v1B",
    "outputId": "f68d24c3-807d-4e93-de1c-ad5a5dbdb075",
    "papermill": {
     "duration": 0.09996,
     "end_time": "2020-10-21T16:37:56.600258",
     "exception": false,
     "start_time": "2020-10-21T16:37:56.500298",
     "status": "completed"
    },
    "tags": []
   },
   "outputs": [
    {
     "name": "stdout",
     "output_type": "stream",
     "text": [
      "dfTrain\n",
      "<class 'pandas.core.frame.DataFrame'>\n",
      "RangeIndex: 27481 entries, 0 to 27480\n",
      "Data columns (total 4 columns):\n",
      " #   Column         Non-Null Count  Dtype \n",
      "---  ------         --------------  ----- \n",
      " 0   textID         27481 non-null  object\n",
      " 1   text           27480 non-null  object\n",
      " 2   selected_text  27480 non-null  object\n",
      " 3   sentiment      27481 non-null  object\n",
      "dtypes: object(4)\n",
      "memory usage: 858.9+ KB\n",
      "None\n",
      "\n",
      "====================================\n",
      "\n",
      "dfTest\n",
      "<class 'pandas.core.frame.DataFrame'>\n",
      "RangeIndex: 3534 entries, 0 to 3533\n",
      "Data columns (total 3 columns):\n",
      " #   Column     Non-Null Count  Dtype \n",
      "---  ------     --------------  ----- \n",
      " 0   textID     3534 non-null   object\n",
      " 1   text       3534 non-null   object\n",
      " 2   sentiment  3534 non-null   object\n",
      "dtypes: object(3)\n",
      "memory usage: 83.0+ KB\n",
      "None\n"
     ]
    }
   ],
   "source": [
    "print(\"dfTrain\")\n",
    "print(dfTrain.info())\n",
    "print(\"\\n====================================\\n\")\n",
    "print(\"dfTest\")\n",
    "print(dfTest.info())"
   ]
  },
  {
   "cell_type": "code",
   "execution_count": 8,
   "metadata": {
    "execution": {
     "iopub.execute_input": "2020-10-21T16:37:56.759356Z",
     "iopub.status.busy": "2020-10-21T16:37:56.758231Z",
     "iopub.status.idle": "2020-10-21T16:37:56.920709Z",
     "shell.execute_reply": "2020-10-21T16:37:56.921390Z"
    },
    "id": "hdFnpdKN4v1L",
    "outputId": "97246bc1-aa17-4f67-fa58-8ceca679a3f6",
    "papermill": {
     "duration": 0.250522,
     "end_time": "2020-10-21T16:37:56.921628",
     "exception": false,
     "start_time": "2020-10-21T16:37:56.671106",
     "status": "completed"
    },
    "tags": []
   },
   "outputs": [
    {
     "name": "stdout",
     "output_type": "stream",
     "text": [
      "dfTrain describe\n",
      "            textID                                               text  \\\n",
      "count        27325                                              27325   \n",
      "unique       27325                                              27325   \n",
      "top     a1d7825499   I can understand the fear. I feel that way ab...   \n",
      "freq             1                                                  1   \n",
      "\n",
      "       selected_text sentiment  \n",
      "count          27325     27325  \n",
      "unique         22332         3  \n",
      "top             good   neutral  \n",
      "freq             197     11039  \n",
      "\n",
      "====================================\n",
      "\n",
      "dfTrain info\n",
      "<class 'pandas.core.frame.DataFrame'>\n",
      "RangeIndex: 27325 entries, 0 to 27324\n",
      "Data columns (total 4 columns):\n",
      " #   Column         Non-Null Count  Dtype \n",
      "---  ------         --------------  ----- \n",
      " 0   textID         27325 non-null  object\n",
      " 1   text           27325 non-null  object\n",
      " 2   selected_text  27325 non-null  object\n",
      " 3   sentiment      27325 non-null  object\n",
      "dtypes: object(4)\n",
      "memory usage: 854.0+ KB\n",
      "None\n"
     ]
    }
   ],
   "source": [
    "dfTrain.dropna(inplace=True,axis=0)\n",
    "dfTrain = dfTrain[~dfTrain.text.str.contains(\"ï|¿|½\")] # drop columns that include some unknown chars(\"ï|¿|½\")\n",
    "dfTrain.reset_index(inplace=True,drop=True)\n",
    "\n",
    "print(\"dfTrain describe\")\n",
    "print(dfTrain.describe())\n",
    "print(\"\\n====================================\\n\")\n",
    "print(\"dfTrain info\")\n",
    "print(dfTrain.info())"
   ]
  },
  {
   "cell_type": "code",
   "execution_count": 9,
   "metadata": {
    "execution": {
     "iopub.execute_input": "2020-10-21T16:37:57.073767Z",
     "iopub.status.busy": "2020-10-21T16:37:57.072927Z",
     "iopub.status.idle": "2020-10-21T16:37:57.085704Z",
     "shell.execute_reply": "2020-10-21T16:37:57.086177Z"
    },
    "id": "TiFsheY24v1T",
    "outputId": "9226b846-ead0-4fb4-b80f-1803f5fcf01f",
    "papermill": {
     "duration": 0.093424,
     "end_time": "2020-10-21T16:37:57.086294",
     "exception": false,
     "start_time": "2020-10-21T16:37:56.992870",
     "status": "completed"
    },
    "tags": []
   },
   "outputs": [
    {
     "data": {
      "text/html": [
       "<div>\n",
       "<style scoped>\n",
       "    .dataframe tbody tr th:only-of-type {\n",
       "        vertical-align: middle;\n",
       "    }\n",
       "\n",
       "    .dataframe tbody tr th {\n",
       "        vertical-align: top;\n",
       "    }\n",
       "\n",
       "    .dataframe thead th {\n",
       "        text-align: right;\n",
       "    }\n",
       "</style>\n",
       "<table border=\"1\" class=\"dataframe\">\n",
       "  <thead>\n",
       "    <tr style=\"text-align: right;\">\n",
       "      <th></th>\n",
       "      <th>textID</th>\n",
       "      <th>text</th>\n",
       "      <th>selected_text</th>\n",
       "      <th>sentiment</th>\n",
       "    </tr>\n",
       "  </thead>\n",
       "  <tbody>\n",
       "    <tr>\n",
       "      <th>0</th>\n",
       "      <td>cb774db0d1</td>\n",
       "      <td>I`d have responded, if I were going</td>\n",
       "      <td>I`d have responded, if I were going</td>\n",
       "      <td>neutral</td>\n",
       "    </tr>\n",
       "    <tr>\n",
       "      <th>1</th>\n",
       "      <td>549e992a42</td>\n",
       "      <td>Sooo SAD I will miss you here in San Diego!!!</td>\n",
       "      <td>Sooo SAD</td>\n",
       "      <td>negative</td>\n",
       "    </tr>\n",
       "    <tr>\n",
       "      <th>2</th>\n",
       "      <td>088c60f138</td>\n",
       "      <td>my boss is bullying me...</td>\n",
       "      <td>bullying me</td>\n",
       "      <td>negative</td>\n",
       "    </tr>\n",
       "    <tr>\n",
       "      <th>3</th>\n",
       "      <td>9642c003ef</td>\n",
       "      <td>what interview! leave me alone</td>\n",
       "      <td>leave me alone</td>\n",
       "      <td>negative</td>\n",
       "    </tr>\n",
       "    <tr>\n",
       "      <th>4</th>\n",
       "      <td>358bd9e861</td>\n",
       "      <td>Sons of ****, why couldn`t they put them on t...</td>\n",
       "      <td>Sons of ****,</td>\n",
       "      <td>negative</td>\n",
       "    </tr>\n",
       "    <tr>\n",
       "      <th>5</th>\n",
       "      <td>28b57f3990</td>\n",
       "      <td>http://www.dothebouncy.com/smf - some shameles...</td>\n",
       "      <td>http://www.dothebouncy.com/smf - some shameles...</td>\n",
       "      <td>neutral</td>\n",
       "    </tr>\n",
       "    <tr>\n",
       "      <th>6</th>\n",
       "      <td>6e0c6d75b1</td>\n",
       "      <td>2am feedings for the baby are fun when he is a...</td>\n",
       "      <td>fun</td>\n",
       "      <td>positive</td>\n",
       "    </tr>\n",
       "    <tr>\n",
       "      <th>7</th>\n",
       "      <td>50e14c0bb8</td>\n",
       "      <td>Soooo high</td>\n",
       "      <td>Soooo high</td>\n",
       "      <td>neutral</td>\n",
       "    </tr>\n",
       "    <tr>\n",
       "      <th>8</th>\n",
       "      <td>e050245fbd</td>\n",
       "      <td>Both of you</td>\n",
       "      <td>Both of you</td>\n",
       "      <td>neutral</td>\n",
       "    </tr>\n",
       "    <tr>\n",
       "      <th>9</th>\n",
       "      <td>fc2cbefa9d</td>\n",
       "      <td>Journey!? Wow... u just became cooler.  hehe....</td>\n",
       "      <td>Wow... u just became cooler.</td>\n",
       "      <td>positive</td>\n",
       "    </tr>\n",
       "    <tr>\n",
       "      <th>10</th>\n",
       "      <td>2339a9b08b</td>\n",
       "      <td>as much as i love to be hopeful, i reckon the...</td>\n",
       "      <td>as much as i love to be hopeful, i reckon the ...</td>\n",
       "      <td>neutral</td>\n",
       "    </tr>\n",
       "    <tr>\n",
       "      <th>11</th>\n",
       "      <td>16fab9f95b</td>\n",
       "      <td>I really really like the song Love Story by Ta...</td>\n",
       "      <td>like</td>\n",
       "      <td>positive</td>\n",
       "    </tr>\n",
       "    <tr>\n",
       "      <th>12</th>\n",
       "      <td>74a76f6e0a</td>\n",
       "      <td>My Sharpie is running DANGERously low on ink</td>\n",
       "      <td>DANGERously</td>\n",
       "      <td>negative</td>\n",
       "    </tr>\n",
       "    <tr>\n",
       "      <th>13</th>\n",
       "      <td>04dd1d2e34</td>\n",
       "      <td>i want to go to music tonight but i lost my vo...</td>\n",
       "      <td>lost</td>\n",
       "      <td>negative</td>\n",
       "    </tr>\n",
       "    <tr>\n",
       "      <th>14</th>\n",
       "      <td>bbe3cbf620</td>\n",
       "      <td>test test from the LG enV2</td>\n",
       "      <td>test test from the LG enV2</td>\n",
       "      <td>neutral</td>\n",
       "    </tr>\n",
       "    <tr>\n",
       "      <th>15</th>\n",
       "      <td>8a939bfb59</td>\n",
       "      <td>Uh oh, I am sunburned</td>\n",
       "      <td>Uh oh, I am sunburned</td>\n",
       "      <td>negative</td>\n",
       "    </tr>\n",
       "    <tr>\n",
       "      <th>16</th>\n",
       "      <td>3440297f8b</td>\n",
       "      <td>S`ok, trying to plot alternatives as we speak...</td>\n",
       "      <td>*sigh*</td>\n",
       "      <td>negative</td>\n",
       "    </tr>\n",
       "    <tr>\n",
       "      <th>17</th>\n",
       "      <td>919fa93391</td>\n",
       "      <td>i`ve been sick for the past few days  and thus...</td>\n",
       "      <td>sick</td>\n",
       "      <td>negative</td>\n",
       "    </tr>\n",
       "    <tr>\n",
       "      <th>18</th>\n",
       "      <td>af3fed7fc3</td>\n",
       "      <td>is back home now      gonna miss every one</td>\n",
       "      <td>onna</td>\n",
       "      <td>negative</td>\n",
       "    </tr>\n",
       "    <tr>\n",
       "      <th>19</th>\n",
       "      <td>40e7becabf</td>\n",
       "      <td>Hes just not that into you</td>\n",
       "      <td>Hes just not that into you</td>\n",
       "      <td>neutral</td>\n",
       "    </tr>\n",
       "  </tbody>\n",
       "</table>\n",
       "</div>"
      ],
      "text/plain": [
       "        textID                                               text  \\\n",
       "0   cb774db0d1                I`d have responded, if I were going   \n",
       "1   549e992a42      Sooo SAD I will miss you here in San Diego!!!   \n",
       "2   088c60f138                          my boss is bullying me...   \n",
       "3   9642c003ef                     what interview! leave me alone   \n",
       "4   358bd9e861   Sons of ****, why couldn`t they put them on t...   \n",
       "5   28b57f3990  http://www.dothebouncy.com/smf - some shameles...   \n",
       "6   6e0c6d75b1  2am feedings for the baby are fun when he is a...   \n",
       "7   50e14c0bb8                                         Soooo high   \n",
       "8   e050245fbd                                        Both of you   \n",
       "9   fc2cbefa9d   Journey!? Wow... u just became cooler.  hehe....   \n",
       "10  2339a9b08b   as much as i love to be hopeful, i reckon the...   \n",
       "11  16fab9f95b  I really really like the song Love Story by Ta...   \n",
       "12  74a76f6e0a       My Sharpie is running DANGERously low on ink   \n",
       "13  04dd1d2e34  i want to go to music tonight but i lost my vo...   \n",
       "14  bbe3cbf620                         test test from the LG enV2   \n",
       "15  8a939bfb59                              Uh oh, I am sunburned   \n",
       "16  3440297f8b   S`ok, trying to plot alternatives as we speak...   \n",
       "17  919fa93391  i`ve been sick for the past few days  and thus...   \n",
       "18  af3fed7fc3         is back home now      gonna miss every one   \n",
       "19  40e7becabf                         Hes just not that into you   \n",
       "\n",
       "                                        selected_text sentiment  \n",
       "0                 I`d have responded, if I were going   neutral  \n",
       "1                                            Sooo SAD  negative  \n",
       "2                                         bullying me  negative  \n",
       "3                                      leave me alone  negative  \n",
       "4                                       Sons of ****,  negative  \n",
       "5   http://www.dothebouncy.com/smf - some shameles...   neutral  \n",
       "6                                                 fun  positive  \n",
       "7                                          Soooo high   neutral  \n",
       "8                                         Both of you   neutral  \n",
       "9                        Wow... u just became cooler.  positive  \n",
       "10  as much as i love to be hopeful, i reckon the ...   neutral  \n",
       "11                                               like  positive  \n",
       "12                                        DANGERously  negative  \n",
       "13                                               lost  negative  \n",
       "14                         test test from the LG enV2   neutral  \n",
       "15                              Uh oh, I am sunburned  negative  \n",
       "16                                             *sigh*  negative  \n",
       "17                                               sick  negative  \n",
       "18                                               onna  negative  \n",
       "19                         Hes just not that into you   neutral  "
      ]
     },
     "execution_count": 9,
     "metadata": {},
     "output_type": "execute_result"
    }
   ],
   "source": [
    "dfTrain.head(20)"
   ]
  },
  {
   "cell_type": "markdown",
   "metadata": {
    "id": "IzFmrZpmg9X_",
    "papermill": {
     "duration": 0.071133,
     "end_time": "2020-10-21T16:37:57.228851",
     "exception": false,
     "start_time": "2020-10-21T16:37:57.157718",
     "status": "completed"
    },
    "tags": []
   },
   "source": [
    "### visualize the sentiments"
   ]
  },
  {
   "cell_type": "markdown",
   "metadata": {
    "id": "KNYmu0hAHTIi",
    "papermill": {
     "duration": 0.071944,
     "end_time": "2020-10-21T16:37:57.373258",
     "exception": false,
     "start_time": "2020-10-21T16:37:57.301314",
     "status": "completed"
    },
    "tags": []
   },
   "source": [
    "As we can see below there is 3 sentiment type. Positive and negative sentiments distributed in close proportions."
   ]
  },
  {
   "cell_type": "code",
   "execution_count": 10,
   "metadata": {
    "execution": {
     "iopub.execute_input": "2020-10-21T16:37:57.522696Z",
     "iopub.status.busy": "2020-10-21T16:37:57.521814Z",
     "iopub.status.idle": "2020-10-21T16:37:57.675949Z",
     "shell.execute_reply": "2020-10-21T16:37:57.674922Z"
    },
    "id": "dCTF9deFesR2",
    "outputId": "ed294156-69cd-4662-d8fa-4d81dba115d8",
    "papermill": {
     "duration": 0.23244,
     "end_time": "2020-10-21T16:37:57.676062",
     "exception": false,
     "start_time": "2020-10-21T16:37:57.443622",
     "status": "completed"
    },
    "tags": []
   },
   "outputs": [
    {
     "data": {
      "text/plain": [
       "<matplotlib.axes._subplots.AxesSubplot at 0x7f080a22d2d0>"
      ]
     },
     "execution_count": 10,
     "metadata": {},
     "output_type": "execute_result"
    },
    {
     "data": {
      "image/png": "[encoded data removed]",
      "text/plain": [
       "<Figure size 432x288 with 1 Axes>"
      ]
     },
     "metadata": {
      "needs_background": "light"
     },
     "output_type": "display_data"
    }
   ],
   "source": [
    "sns.countplot(x= 'sentiment',data = dfTrain)"
   ]
  },
  {
   "cell_type": "markdown",
   "metadata": {
    "id": "wC3cqZsjH9SG",
    "papermill": {
     "duration": 0.076209,
     "end_time": "2020-10-21T16:37:57.828941",
     "exception": false,
     "start_time": "2020-10-21T16:37:57.752732",
     "status": "completed"
    },
    "tags": []
   },
   "source": [
    "Now let's find out how much the selected text keeps part of the text in different sentiments."
   ]
  },
  {
   "cell_type": "code",
   "execution_count": 11,
   "metadata": {
    "execution": {
     "iopub.execute_input": "2020-10-21T16:37:57.985186Z",
     "iopub.status.busy": "2020-10-21T16:37:57.984401Z",
     "iopub.status.idle": "2020-10-21T16:37:57.987785Z",
     "shell.execute_reply": "2020-10-21T16:37:57.988218Z"
    },
    "id": "z1Dx-QUJH6Xq",
    "papermill": {
     "duration": 0.083822,
     "end_time": "2020-10-21T16:37:57.988343",
     "exception": false,
     "start_time": "2020-10-21T16:37:57.904521",
     "status": "completed"
    },
    "tags": []
   },
   "outputs": [],
   "source": [
    "def jaccard(str1, str2):\n",
    "    a = set(str1.lower().split())\n",
    "    b = set(str2.lower().split())\n",
    "    c = a.intersection(b)\n",
    "    return float(len(c)) / (len(a) + len(b) - len(c))"
   ]
  },
  {
   "cell_type": "code",
   "execution_count": 12,
   "metadata": {
    "execution": {
     "iopub.execute_input": "2020-10-21T16:37:58.138625Z",
     "iopub.status.busy": "2020-10-21T16:37:58.137976Z",
     "iopub.status.idle": "2020-10-21T16:37:59.864076Z",
     "shell.execute_reply": "2020-10-21T16:37:59.862870Z"
    },
    "id": "Xbl8HjNpIoV2",
    "outputId": "189234b3-3a9a-4b33-8063-0c0e60fb1232",
    "papermill": {
     "duration": 1.804272,
     "end_time": "2020-10-21T16:37:59.864271",
     "exception": false,
     "start_time": "2020-10-21T16:37:58.059999",
     "status": "completed"
    },
    "tags": []
   },
   "outputs": [
    {
     "name": "stdout",
     "output_type": "stream",
     "text": [
      "Ratios of selected text in text\n"
     ]
    },
    {
     "data": {
      "text/html": [
       "<div>\n",
       "<style scoped>\n",
       "    .dataframe tbody tr th:only-of-type {\n",
       "        vertical-align: middle;\n",
       "    }\n",
       "\n",
       "    .dataframe tbody tr th {\n",
       "        vertical-align: top;\n",
       "    }\n",
       "\n",
       "    .dataframe thead th {\n",
       "        text-align: right;\n",
       "    }\n",
       "</style>\n",
       "<table border=\"1\" class=\"dataframe\">\n",
       "  <thead>\n",
       "    <tr style=\"text-align: right;\">\n",
       "      <th></th>\n",
       "      <th>jaccard</th>\n",
       "    </tr>\n",
       "    <tr>\n",
       "      <th>sentiment</th>\n",
       "      <th></th>\n",
       "    </tr>\n",
       "  </thead>\n",
       "  <tbody>\n",
       "    <tr>\n",
       "      <th>negative</th>\n",
       "      <td>0.339007</td>\n",
       "    </tr>\n",
       "    <tr>\n",
       "      <th>neutral</th>\n",
       "      <td>0.977046</td>\n",
       "    </tr>\n",
       "    <tr>\n",
       "      <th>positive</th>\n",
       "      <td>0.314537</td>\n",
       "    </tr>\n",
       "  </tbody>\n",
       "</table>\n",
       "</div>"
      ],
      "text/plain": [
       "            jaccard\n",
       "sentiment          \n",
       "negative   0.339007\n",
       "neutral    0.977046\n",
       "positive   0.314537"
      ]
     },
     "execution_count": 12,
     "metadata": {},
     "output_type": "execute_result"
    }
   ],
   "source": [
    "dfJaccards = copy.deepcopy(dfTrain)\n",
    "dfJaccards[\"jaccard\"] = dfJaccards.apply(lambda df: jaccard(df.text, df.selected_text), axis=1)\n",
    "print(\"Ratios of selected text in text\")\n",
    "dfJaccards = dfJaccards[['sentiment','jaccard']].groupby(['sentiment']).mean()\n",
    "dfJaccards"
   ]
  },
  {
   "cell_type": "code",
   "execution_count": 13,
   "metadata": {
    "execution": {
     "iopub.execute_input": "2020-10-21T16:38:00.127320Z",
     "iopub.status.busy": "2020-10-21T16:38:00.126401Z",
     "iopub.status.idle": "2020-10-21T16:38:00.287820Z",
     "shell.execute_reply": "2020-10-21T16:38:00.288258Z"
    },
    "id": "duF3vm3uLwK2",
    "outputId": "9e7dad36-6f3c-4bbf-c212-dd302c58a734",
    "papermill": {
     "duration": 0.31989,
     "end_time": "2020-10-21T16:38:00.288390",
     "exception": false,
     "start_time": "2020-10-21T16:37:59.968500",
     "status": "completed"
    },
    "tags": []
   },
   "outputs": [
    {
     "data": {
      "image/png": "[encoded data removed]",
      "text/plain": [
       "<Figure size 432x288 with 1 Axes>"
      ]
     },
     "metadata": {
      "needs_background": "light"
     },
     "output_type": "display_data"
    }
   ],
   "source": [
    "dfJaccards.plot.bar()\n",
    "del(dfJaccards)"
   ]
  },
  {
   "cell_type": "markdown",
   "metadata": {
    "id": "ll8aDlaoJ6Xr",
    "papermill": {
     "duration": 0.076038,
     "end_time": "2020-10-21T16:38:00.446241",
     "exception": false,
     "start_time": "2020-10-21T16:38:00.370203",
     "status": "completed"
    },
    "tags": []
   },
   "source": [
    "As we can see above the **selected text contains almost all text in Neutral Sentiment**"
   ]
  },
  {
   "cell_type": "markdown",
   "metadata": {
    "id": "FrHxc67hfEBJ",
    "papermill": {
     "duration": 0.077357,
     "end_time": "2020-10-21T16:38:00.601059",
     "exception": false,
     "start_time": "2020-10-21T16:38:00.523702",
     "status": "completed"
    },
    "tags": []
   },
   "source": [
    "# Data Cleaning"
   ]
  },
  {
   "cell_type": "markdown",
   "metadata": {
    "id": "KeVCdO0dfEBK",
    "papermill": {
     "duration": 0.081529,
     "end_time": "2020-10-21T16:38:00.761074",
     "exception": false,
     "start_time": "2020-10-21T16:38:00.679545",
     "status": "completed"
    },
    "tags": []
   },
   "source": [
    "### Split texts"
   ]
  },
  {
   "cell_type": "markdown",
   "metadata": {
    "id": "sGpobkODfEBM",
    "papermill": {
     "duration": 0.080755,
     "end_time": "2020-10-21T16:38:00.920335",
     "exception": false,
     "start_time": "2020-10-21T16:38:00.839580",
     "status": "completed"
    },
    "tags": []
   },
   "source": [
    "One of the most important points is here. We will divide the tweet text and selected text into words and put them into a list. Then we will assign a number to every word in the tweet text for accesing to orginal form after cleaning. However, since we will work word-based rather than character-based, we will extract the selected text list as it is in the tweet text list. In this way, even if the selected text is cropped in letters, it will appear in list as cropped in words."
   ]
  },
  {
   "cell_type": "code",
   "execution_count": 14,
   "metadata": {
    "execution": {
     "iopub.execute_input": "2020-10-21T16:38:01.104181Z",
     "iopub.status.busy": "2020-10-21T16:38:01.103280Z",
     "iopub.status.idle": "2020-10-21T16:38:01.106650Z",
     "shell.execute_reply": "2020-10-21T16:38:01.106101Z"
    },
    "id": "Z33RJ6dRfEBN",
    "papermill": {
     "duration": 0.090378,
     "end_time": "2020-10-21T16:38:01.106758",
     "exception": false,
     "start_time": "2020-10-21T16:38:01.016380",
     "status": "completed"
    },
    "tags": []
   },
   "outputs": [],
   "source": [
    "def stringtowords(text, selected_text):\n",
    "    text_words = str(text).lower().split()\n",
    "    selected_text_words = str(selected_text).lower().split()\n",
    "    selected_length = len(selected_text_words)\n",
    "    start_char = \"\".join(text_words).find(\"\".join(selected_text_words))\n",
    "    if(start_char >= 0 and selected_length > 0):\n",
    "        remaining_char = start_char\n",
    "        for i,word in enumerate(text_words):\n",
    "            remaining_char-=len(word)\n",
    "            if remaining_char < 0:\n",
    "                selected_text_words = text_words[i:i+selected_length]\n",
    "                break\n",
    "            \n",
    "    text_word_numbers = [i for i in range(len(text_words))]\n",
    "    return text_words, text_word_numbers ,selected_text_words"
   ]
  },
  {
   "cell_type": "code",
   "execution_count": 15,
   "metadata": {
    "execution": {
     "iopub.execute_input": "2020-10-21T16:38:01.265900Z",
     "iopub.status.busy": "2020-10-21T16:38:01.263670Z",
     "iopub.status.idle": "2020-10-21T16:38:01.268708Z",
     "shell.execute_reply": "2020-10-21T16:38:01.267926Z"
    },
    "id": "wJt5jcSPfEBU",
    "outputId": "d321d84f-6a0a-4cd8-edd4-1e8cfff511cc",
    "papermill": {
     "duration": 0.085716,
     "end_time": "2020-10-21T16:38:01.268876",
     "exception": false,
     "start_time": "2020-10-21T16:38:01.183160",
     "status": "completed"
    },
    "tags": []
   },
   "outputs": [
    {
     "name": "stdout",
     "output_type": "stream",
     "text": [
      "Sample text:\t is back home now gonna miss every one\n",
      "Sample selected text:\t onna mis\n",
      "\n",
      "stringtowords outputs\n",
      "output tweet list:  ['is', 'back', 'home', 'now', 'gonna', 'miss', 'every', 'one']\n",
      "output tweet word numbers: [0, 1, 2, 3, 4, 5, 6, 7]\n",
      "output selected text list:  ['gonna', 'miss']\n"
     ]
    }
   ],
   "source": [
    "test_string = \"is back home now gonna miss every one\" #dfTrain[dfTrain[\"textID\"] == \"af3fed7fc3\"]\n",
    "test_selected_string = \"onna mis\"\n",
    "print(\"Sample text:\\t\", test_string)\n",
    "print(\"Sample selected text:\\t\", test_selected_string)\n",
    "\n",
    "output_tweet_list, output_tweet_word_numbers, output_selected_list = stringtowords(test_string,test_selected_string)\n",
    "print(\"\\nstringtowords outputs\")\n",
    "print(\"output tweet list: \",output_tweet_list)\n",
    "print(\"output tweet word numbers:\",output_tweet_word_numbers)\n",
    "print(\"output selected text list: \",output_selected_list)"
   ]
  },
  {
   "cell_type": "code",
   "execution_count": 16,
   "metadata": {
    "execution": {
     "iopub.execute_input": "2020-10-21T16:38:01.440365Z",
     "iopub.status.busy": "2020-10-21T16:38:01.430105Z",
     "iopub.status.idle": "2020-10-21T16:38:03.274264Z",
     "shell.execute_reply": "2020-10-21T16:38:03.274808Z"
    },
    "id": "JlwN-tC_fEBb",
    "outputId": "fb0a9a0e-7f77-404c-bac8-33f5e7f5f17b",
    "papermill": {
     "duration": 1.930502,
     "end_time": "2020-10-21T16:38:03.274950",
     "exception": false,
     "start_time": "2020-10-21T16:38:01.344448",
     "status": "completed"
    },
    "tags": []
   },
   "outputs": [
    {
     "data": {
      "text/html": [
       "<div>\n",
       "<style scoped>\n",
       "    .dataframe tbody tr th:only-of-type {\n",
       "        vertical-align: middle;\n",
       "    }\n",
       "\n",
       "    .dataframe tbody tr th {\n",
       "        vertical-align: top;\n",
       "    }\n",
       "\n",
       "    .dataframe thead th {\n",
       "        text-align: right;\n",
       "    }\n",
       "</style>\n",
       "<table border=\"1\" class=\"dataframe\">\n",
       "  <thead>\n",
       "    <tr style=\"text-align: right;\">\n",
       "      <th></th>\n",
       "      <th>textID</th>\n",
       "      <th>text</th>\n",
       "      <th>selected_text</th>\n",
       "      <th>sentiment</th>\n",
       "      <th>text_w</th>\n",
       "      <th>text_w_n</th>\n",
       "      <th>selected_w</th>\n",
       "    </tr>\n",
       "  </thead>\n",
       "  <tbody>\n",
       "    <tr>\n",
       "      <th>0</th>\n",
       "      <td>cb774db0d1</td>\n",
       "      <td>I`d have responded, if I were going</td>\n",
       "      <td>I`d have responded, if I were going</td>\n",
       "      <td>neutral</td>\n",
       "      <td>[i`d, have, responded,, if, i, were, going]</td>\n",
       "      <td>[0, 1, 2, 3, 4, 5, 6]</td>\n",
       "      <td>[i`d, have, responded,, if, i, were, going]</td>\n",
       "    </tr>\n",
       "    <tr>\n",
       "      <th>1</th>\n",
       "      <td>549e992a42</td>\n",
       "      <td>Sooo SAD I will miss you here in San Diego!!!</td>\n",
       "      <td>Sooo SAD</td>\n",
       "      <td>negative</td>\n",
       "      <td>[sooo, sad, i, will, miss, you, here, in, san,...</td>\n",
       "      <td>[0, 1, 2, 3, 4, 5, 6, 7, 8, 9]</td>\n",
       "      <td>[sooo, sad]</td>\n",
       "    </tr>\n",
       "    <tr>\n",
       "      <th>2</th>\n",
       "      <td>088c60f138</td>\n",
       "      <td>my boss is bullying me...</td>\n",
       "      <td>bullying me</td>\n",
       "      <td>negative</td>\n",
       "      <td>[my, boss, is, bullying, me...]</td>\n",
       "      <td>[0, 1, 2, 3, 4]</td>\n",
       "      <td>[bullying, me...]</td>\n",
       "    </tr>\n",
       "    <tr>\n",
       "      <th>3</th>\n",
       "      <td>9642c003ef</td>\n",
       "      <td>what interview! leave me alone</td>\n",
       "      <td>leave me alone</td>\n",
       "      <td>negative</td>\n",
       "      <td>[what, interview!, leave, me, alone]</td>\n",
       "      <td>[0, 1, 2, 3, 4]</td>\n",
       "      <td>[leave, me, alone]</td>\n",
       "    </tr>\n",
       "    <tr>\n",
       "      <th>4</th>\n",
       "      <td>358bd9e861</td>\n",
       "      <td>Sons of ****, why couldn`t they put them on t...</td>\n",
       "      <td>Sons of ****,</td>\n",
       "      <td>negative</td>\n",
       "      <td>[sons, of, ****,, why, couldn`t, they, put, th...</td>\n",
       "      <td>[0, 1, 2, 3, 4, 5, 6, 7, 8, 9, 10, 11, 12, 13]</td>\n",
       "      <td>[sons, of, ****,]</td>\n",
       "    </tr>\n",
       "  </tbody>\n",
       "</table>\n",
       "</div>"
      ],
      "text/plain": [
       "       textID                                               text  \\\n",
       "0  cb774db0d1                I`d have responded, if I were going   \n",
       "1  549e992a42      Sooo SAD I will miss you here in San Diego!!!   \n",
       "2  088c60f138                          my boss is bullying me...   \n",
       "3  9642c003ef                     what interview! leave me alone   \n",
       "4  358bd9e861   Sons of ****, why couldn`t they put them on t...   \n",
       "\n",
       "                         selected_text sentiment  \\\n",
       "0  I`d have responded, if I were going   neutral   \n",
       "1                             Sooo SAD  negative   \n",
       "2                          bullying me  negative   \n",
       "3                       leave me alone  negative   \n",
       "4                        Sons of ****,  negative   \n",
       "\n",
       "                                              text_w  \\\n",
       "0        [i`d, have, responded,, if, i, were, going]   \n",
       "1  [sooo, sad, i, will, miss, you, here, in, san,...   \n",
       "2                    [my, boss, is, bullying, me...]   \n",
       "3               [what, interview!, leave, me, alone]   \n",
       "4  [sons, of, ****,, why, couldn`t, they, put, th...   \n",
       "\n",
       "                                         text_w_n  \\\n",
       "0                           [0, 1, 2, 3, 4, 5, 6]   \n",
       "1                  [0, 1, 2, 3, 4, 5, 6, 7, 8, 9]   \n",
       "2                                 [0, 1, 2, 3, 4]   \n",
       "3                                 [0, 1, 2, 3, 4]   \n",
       "4  [0, 1, 2, 3, 4, 5, 6, 7, 8, 9, 10, 11, 12, 13]   \n",
       "\n",
       "                                    selected_w  \n",
       "0  [i`d, have, responded,, if, i, were, going]  \n",
       "1                                  [sooo, sad]  \n",
       "2                            [bullying, me...]  \n",
       "3                           [leave, me, alone]  \n",
       "4                            [sons, of, ****,]  "
      ]
     },
     "execution_count": 16,
     "metadata": {},
     "output_type": "execute_result"
    }
   ],
   "source": [
    "dfTrain['text_w'], dfTrain['text_w_n'], dfTrain['selected_w'] = zip(*dfTrain.apply(lambda df: stringtowords(df.text,df.selected_text), axis=1))\n",
    "dfTrain.head()"
   ]
  },
  {
   "cell_type": "code",
   "execution_count": 17,
   "metadata": {
    "execution": {
     "iopub.execute_input": "2020-10-21T16:38:03.431132Z",
     "iopub.status.busy": "2020-10-21T16:38:03.430439Z",
     "iopub.status.idle": "2020-10-21T16:38:03.435440Z",
     "shell.execute_reply": "2020-10-21T16:38:03.434949Z"
    },
    "id": "rF5SDCjmfEBj",
    "outputId": "eb808b56-a1f2-4b00-b939-bef15d1d7222",
    "papermill": {
     "duration": 0.085129,
     "end_time": "2020-10-21T16:38:03.435542",
     "exception": false,
     "start_time": "2020-10-21T16:38:03.350413",
     "status": "completed"
    },
    "tags": []
   },
   "outputs": [
    {
     "name": "stdout",
     "output_type": "stream",
     "text": [
      "text\n",
      "['i`d', 'have', 'responded,', 'if', 'i', 'were', 'going']\n",
      "selected_text\n",
      "['i`d', 'have', 'responded,', 'if', 'i', 'were', 'going']\n"
     ]
    }
   ],
   "source": [
    "print(\"text\")\n",
    "print(dfTrain[\"text_w\"].iloc[0])\n",
    "print(\"selected_text\")\n",
    "print(dfTrain[\"selected_w\"].iloc[0])"
   ]
  },
  {
   "cell_type": "markdown",
   "metadata": {
    "id": "7N69YefefEBp",
    "papermill": {
     "duration": 0.074742,
     "end_time": "2020-10-21T16:38:03.584647",
     "exception": false,
     "start_time": "2020-10-21T16:38:03.509905",
     "status": "completed"
    },
    "tags": []
   },
   "source": [
    "### Defining difference fixer function"
   ]
  },
  {
   "cell_type": "markdown",
   "metadata": {
    "id": "bgYtpUu6fEBp",
    "papermill": {
     "duration": 0.074831,
     "end_time": "2020-10-21T16:38:03.735399",
     "exception": false,
     "start_time": "2020-10-21T16:38:03.660568",
     "status": "completed"
    },
    "tags": []
   },
   "source": [
    "With the help of the following function, the numbers of the words are arranged according to the old word and the processed word, so as an example\n",
    "\n",
    "**Before Processing**\n",
    "\n",
    "| text_w         | text_w_n |\n",
    "|----------------|----------|\n",
    "|[\"dont\",\"split\"]|  [0,1]   |\n",
    "\n",
    "**After Processing**\n",
    "\n",
    "| text_w             | text_w_n |\n",
    "|--------------------|----------|\n",
    "|[\"do\",\"not\",\"split\"]| [0,0,1]  |"
   ]
  },
  {
   "cell_type": "code",
   "execution_count": 18,
   "metadata": {
    "execution": {
     "iopub.execute_input": "2020-10-21T16:38:03.932933Z",
     "iopub.status.busy": "2020-10-21T16:38:03.932055Z",
     "iopub.status.idle": "2020-10-21T16:38:03.934304Z",
     "shell.execute_reply": "2020-10-21T16:38:03.934906Z"
    },
    "id": "F8qM1Nw_fEBr",
    "papermill": {
     "duration": 0.124986,
     "end_time": "2020-10-21T16:38:03.935024",
     "exception": false,
     "start_time": "2020-10-21T16:38:03.810038",
     "status": "completed"
    },
    "tags": []
   },
   "outputs": [],
   "source": [
    "def fix_difference(old_word, new_word, oldtext_w_n, newtext_w, newtext_w_n, word_ind, expand_number):\n",
    "    new_word = [word for word in new_word if word != \"\"] # simple empty word delete function\n",
    "    if len(new_word) == 0:\n",
    "        newtext_w.pop(word_ind+expand_number)\n",
    "        if newtext_w_n is not None:\n",
    "            newtext_w_n.pop(word_ind+expand_number)\n",
    "        expand_number -= 1\n",
    "    elif (len(new_word) > 1) | (new_word[0] != old_word):\n",
    "        for i, word in enumerate(new_word):\n",
    "            if i == 0:\n",
    "                newtext_w[word_ind+expand_number] = word\n",
    "            else:\n",
    "                expand_number += 1\n",
    "                newtext_w.insert(word_ind+expand_number,word)\n",
    "                if newtext_w_n is not None:\n",
    "                    newtext_w_n.insert(word_ind+expand_number,oldtext_w_n[word_ind])\n",
    "    return newtext_w, newtext_w_n, expand_number"
   ]
  },
  {
   "cell_type": "markdown",
   "metadata": {
    "id": "ywItWOiLhnQZ",
    "papermill": {
     "duration": 0.075554,
     "end_time": "2020-10-21T16:38:04.086046",
     "exception": false,
     "start_time": "2020-10-21T16:38:04.010492",
     "status": "completed"
    },
    "tags": []
   },
   "source": [
    "### Clean the missing quotes or some undefined word"
   ]
  },
  {
   "cell_type": "code",
   "execution_count": 19,
   "metadata": {
    "execution": {
     "iopub.execute_input": "2020-10-21T16:38:04.247063Z",
     "iopub.status.busy": "2020-10-21T16:38:04.246237Z",
     "iopub.status.idle": "2020-10-21T16:38:04.249198Z",
     "shell.execute_reply": "2020-10-21T16:38:04.248723Z"
    },
    "id": "9I3W2UaA4v2P",
    "papermill": {
     "duration": 0.086432,
     "end_time": "2020-10-21T16:38:04.249295",
     "exception": false,
     "start_time": "2020-10-21T16:38:04.162863",
     "status": "completed"
    },
    "tags": []
   },
   "outputs": [],
   "source": [
    "def cleanstring(oldtext_w, oldtext_w_n = None):\n",
    "    dictionary = {'w/':'with',\n",
    "                  'dont':'do not',\n",
    "                  'doesnt':'does not',\n",
    "                  'didnt':'did not',\n",
    "                  'cant':'can not',\n",
    "                  'couldnt':'could not',\n",
    "                  'wouldnt':'would not',\n",
    "                  'shouldnt':'should not'\n",
    "                 }\n",
    "    expand = 0\n",
    "    newtext_w = copy.deepcopy(oldtext_w)\n",
    "    newtext_w_n = copy.deepcopy(oldtext_w_n)\n",
    "    for word_ind ,current_word in enumerate(oldtext_w):\n",
    "        new_word = current_word\n",
    "        if current_word in dictionary:\n",
    "            new_word = dictionary[current_word]\n",
    "        \n",
    "        new_word = new_word.split()\n",
    "        newtext_w, newtext_w_n, expand = fix_difference(current_word, new_word, oldtext_w_n, newtext_w, newtext_w_n, word_ind, expand)\n",
    "    return newtext_w, newtext_w_n"
   ]
  },
  {
   "cell_type": "code",
   "execution_count": 20,
   "metadata": {
    "execution": {
     "iopub.execute_input": "2020-10-21T16:38:04.405140Z",
     "iopub.status.busy": "2020-10-21T16:38:04.404232Z",
     "iopub.status.idle": "2020-10-21T16:38:04.410369Z",
     "shell.execute_reply": "2020-10-21T16:38:04.409866Z"
    },
    "id": "vWv7j2f1gKFK",
    "outputId": "2e3b4844-c493-4dea-a920-588185f3d3f1",
    "papermill": {
     "duration": 0.086642,
     "end_time": "2020-10-21T16:38:04.410500",
     "exception": false,
     "start_time": "2020-10-21T16:38:04.323858",
     "status": "completed"
    },
    "tags": []
   },
   "outputs": [
    {
     "name": "stdout",
     "output_type": "stream",
     "text": [
      "Before cleanstring\n",
      "['u', 'cant', 'seperate', 'it', 'w/', 'this']\n",
      "After cleanstring\n",
      "['u', 'can', 'not', 'seperate', 'it', 'with', 'this']\n"
     ]
    }
   ],
   "source": [
    "test_string = [\"u\",\"cant\",\"seperate\",\"it\",\"w/\",\"this\"]\n",
    "print(\"Before cleanstring\")\n",
    "print(test_string)\n",
    "print(\"After cleanstring\")\n",
    "print(cleanstring(test_string)[0])"
   ]
  },
  {
   "cell_type": "code",
   "execution_count": 21,
   "metadata": {
    "execution": {
     "iopub.execute_input": "2020-10-21T16:38:04.568671Z",
     "iopub.status.busy": "2020-10-21T16:38:04.567769Z",
     "iopub.status.idle": "2020-10-21T16:38:09.793790Z",
     "shell.execute_reply": "2020-10-21T16:38:09.793097Z"
    },
    "id": "8xHLeM0b4v2X",
    "outputId": "d73abdce-0840-40ed-977e-03bd0ba21cb2",
    "papermill": {
     "duration": 5.308072,
     "end_time": "2020-10-21T16:38:09.793909",
     "exception": false,
     "start_time": "2020-10-21T16:38:04.485837",
     "status": "completed"
    },
    "tags": []
   },
   "outputs": [
    {
     "name": "stdout",
     "output_type": "stream",
     "text": [
      "===== E> Replaced unpunctuated texts with punctuated ones <3 =====\n"
     ]
    }
   ],
   "source": [
    "dfTrain['text_w'], dfTrain['text_w_n'] = zip(*dfTrain.apply(lambda df: cleanstring(df.text_w,df.text_w_n), axis=1))\n",
    "dfTrain['selected_w'], _ = zip(*dfTrain.apply(lambda df: cleanstring(df.selected_w), axis=1))\n",
    "print(\"===== E> Replaced unpunctuated texts with punctuated ones <3 =====\")"
   ]
  },
  {
   "cell_type": "markdown",
   "metadata": {
    "id": "jkwTA-Q8h2lr",
    "papermill": {
     "duration": 0.100969,
     "end_time": "2020-10-21T16:38:09.971874",
     "exception": false,
     "start_time": "2020-10-21T16:38:09.870905",
     "status": "completed"
    },
    "tags": []
   },
   "source": [
    "### Use ekphrasis to convert text like urls to tags"
   ]
  },
  {
   "cell_type": "code",
   "execution_count": 22,
   "metadata": {
    "execution": {
     "iopub.execute_input": "2020-10-21T16:38:10.227519Z",
     "iopub.status.busy": "2020-10-21T16:38:10.226379Z",
     "iopub.status.idle": "2020-10-21T16:38:10.827510Z",
     "shell.execute_reply": "2020-10-21T16:38:10.828207Z"
    },
    "id": "WScT_OZ64v2e",
    "outputId": "0ff1f8a9-50a0-41fb-dcd8-bbe19423cbf0",
    "papermill": {
     "duration": 0.729019,
     "end_time": "2020-10-21T16:38:10.828359",
     "exception": false,
     "start_time": "2020-10-21T16:38:10.099340",
     "status": "completed"
    },
    "tags": []
   },
   "outputs": [
    {
     "name": "stdout",
     "output_type": "stream",
     "text": [
      "Reading twitter - 1grams ...\n",
      "generating cache file for faster loading...\n",
      "reading ngrams /root/.ekphrasis/stats/twitter/counts_1grams.txt\n"
     ]
    }
   ],
   "source": [
    "text_processor = TextPreProcessor(\n",
    "    # terms that will be normalized\n",
    "    normalize=['url'],\n",
    "    # terms that will be annotated\n",
    "    annotate={},\n",
    "    fix_html=True,  # fix HTML tokens\n",
    "    \n",
    "    # corpus from which the word statistics are going to be used \n",
    "    # for word segmentation \n",
    "    segmenter=\"twitter\", \n",
    "    \n",
    "    # corpus from which the word statistics are going to be used \n",
    "    # for spell correction\n",
    "    corrector=\"twitter\", \n",
    "    \n",
    "    unpack_hashtags=False, #True, # perform word segmentation on hashtags\n",
    "    unpack_contractions=True,  # Unpack contractions (can't -> can not)\n",
    "    spell_correct_elong=True,  # spell correction for elongated words\n",
    "    \n",
    "    # select a tokenizer. We selected SpaceTokenizer, you can understand it in \n",
    "    # add spaces before word section\n",
    "    tokenizer=SpaceTokenizer().tokenize,\n",
    "    \n",
    "    # list of dictionaries, for replacing tokens extracted from the text,\n",
    "    dicts=[emoticons]\n",
    ")\n",
    "\n",
    "def tweetCleaner(oldtext_w, oldtext_w_n = None):\n",
    "    expand = 0\n",
    "    newtext_w = copy.deepcopy(oldtext_w)\n",
    "    newtext_w_n = copy.deepcopy(oldtext_w_n)\n",
    "    for word_ind ,current_word in enumerate(oldtext_w):\n",
    "        new_word = current_word\n",
    "        new_word = text_processor.pre_process_doc(current_word)\n",
    "        for i,word in enumerate(new_word):\n",
    "            if \"<\" in word and \">\" in word:  # unpack the tags that tweetcleaner created\n",
    "                new_word[i] = re.sub(\"[<>]\",\"\",word)\n",
    "        newtext_w, newtext_w_n, expand = fix_difference(current_word, new_word, oldtext_w_n, newtext_w, newtext_w_n, word_ind, expand)\n",
    "    return newtext_w, newtext_w_n"
   ]
  },
  {
   "cell_type": "code",
   "execution_count": 23,
   "metadata": {
    "execution": {
     "iopub.execute_input": "2020-10-21T16:38:11.075617Z",
     "iopub.status.busy": "2020-10-21T16:38:11.074790Z",
     "iopub.status.idle": "2020-10-21T16:38:11.080747Z",
     "shell.execute_reply": "2020-10-21T16:38:11.082024Z"
    },
    "id": "2WWuBqWnhIjB",
    "outputId": "42d5834c-f0d7-45ee-807f-ba0b2951ed44",
    "papermill": {
     "duration": 0.151916,
     "end_time": "2020-10-21T16:38:11.082175",
     "exception": false,
     "start_time": "2020-10-21T16:38:10.930259",
     "status": "completed"
    },
    "tags": []
   },
   "outputs": [
    {
     "name": "stdout",
     "output_type": "stream",
     "text": [
      "Before tweetCleaner\n",
      "['@rootofarch', 'https://kaggle.com', 'is', 'working!!!!', ':D', '#tbt']\n",
      "After tweetCleaner\n",
      "['@rootofarch', 'url', 'is', 'working!!!!', 'laugh', '#tbt']\n"
     ]
    }
   ],
   "source": [
    "test_string = [\"@rootofarch\",\"https://kaggle.com\",\"is\",\"working!!!!\",\":D\",\"#tbt\"]\n",
    "print(\"Before tweetCleaner\")\n",
    "print(test_string)\n",
    "print(\"After tweetCleaner\")\n",
    "print(tweetCleaner(test_string)[0])"
   ]
  },
  {
   "cell_type": "code",
   "execution_count": 24,
   "metadata": {
    "execution": {
     "iopub.execute_input": "2020-10-21T16:38:11.302657Z",
     "iopub.status.busy": "2020-10-21T16:38:11.297633Z",
     "iopub.status.idle": "2020-10-21T16:38:44.427694Z",
     "shell.execute_reply": "2020-10-21T16:38:44.428260Z"
    },
    "id": "-0zRB14l4v2k",
    "outputId": "b0bd17e4-33aa-4cf6-aedb-c89c4a5c9672",
    "papermill": {
     "duration": 33.230746,
     "end_time": "2020-10-21T16:38:44.428465",
     "exception": false,
     "start_time": "2020-10-21T16:38:11.197719",
     "status": "completed"
    },
    "tags": []
   },
   "outputs": [
    {
     "name": "stdout",
     "output_type": "stream",
     "text": [
      "===== E> Applied ekphrasis text preprocessor <3 =====\n"
     ]
    }
   ],
   "source": [
    "dfTrain['text_w'], dfTrain['text_w_n'] = zip(*dfTrain.apply(lambda df: tweetCleaner(df.text_w,df.text_w_n), axis=1))\n",
    "dfTrain['selected_w'], _ = zip(*dfTrain.apply(lambda df: tweetCleaner(df.selected_w), axis=1))\n",
    "print(\"===== E> Applied ekphrasis text preprocessor <3 =====\")"
   ]
  },
  {
   "cell_type": "markdown",
   "metadata": {
    "id": "zy48Q7M_iSD3",
    "papermill": {
     "duration": 0.080518,
     "end_time": "2020-10-21T16:38:44.589383",
     "exception": false,
     "start_time": "2020-10-21T16:38:44.508865",
     "status": "completed"
    },
    "tags": []
   },
   "source": [
    "### Convert some repeated text to a tag"
   ]
  },
  {
   "cell_type": "code",
   "execution_count": 25,
   "metadata": {
    "execution": {
     "iopub.execute_input": "2020-10-21T16:38:44.759958Z",
     "iopub.status.busy": "2020-10-21T16:38:44.757493Z",
     "iopub.status.idle": "2020-10-21T16:38:44.763012Z",
     "shell.execute_reply": "2020-10-21T16:38:44.762465Z"
    },
    "id": "yLcvMml24v2q",
    "papermill": {
     "duration": 0.094378,
     "end_time": "2020-10-21T16:38:44.763121",
     "exception": false,
     "start_time": "2020-10-21T16:38:44.668743",
     "status": "completed"
    },
    "tags": []
   },
   "outputs": [],
   "source": [
    "def cleanstring2(oldtext_w, oldtext_w_n = None):\n",
    "    dictionary = {'ahah':'laugh',\n",
    "                  'haha':'laugh',\n",
    "                  'ahhah':'laugh',\n",
    "                  'haaha':'laugh',\n",
    "                  'hahha':'laugh',\n",
    "                  'ahaah':'laugh',\n",
    "                  'oxox':'kiss',\n",
    "                  'xoxo':'kiss',\n",
    "                  'xxox':'kiss',\n",
    "                  'ooxo':'kiss'\n",
    "                 }\n",
    "    expand = 0\n",
    "    newtext_w = copy.deepcopy(oldtext_w)\n",
    "    newtext_w_n = copy.deepcopy(oldtext_w_n)\n",
    "    for word_ind ,current_word in enumerate(oldtext_w):\n",
    "        new_word = current_word\n",
    "        for repeated in dictionary.keys():\n",
    "            if repeated in current_word:\n",
    "                new_word = dictionary[repeated]\n",
    "\n",
    "        new_word = new_word.split()\n",
    "        newtext_w, newtext_w_n, expand = fix_difference(current_word, new_word, oldtext_w_n, newtext_w, newtext_w_n, word_ind, expand)\n",
    "    return newtext_w, newtext_w_n"
   ]
  },
  {
   "cell_type": "code",
   "execution_count": 26,
   "metadata": {
    "execution": {
     "iopub.execute_input": "2020-10-21T16:38:44.931208Z",
     "iopub.status.busy": "2020-10-21T16:38:44.930388Z",
     "iopub.status.idle": "2020-10-21T16:38:44.935760Z",
     "shell.execute_reply": "2020-10-21T16:38:44.935271Z"
    },
    "id": "SAy_2l_3hT3l",
    "outputId": "0409080a-1dfa-4bdd-b28a-4f62ce46b2a9",
    "papermill": {
     "duration": 0.091521,
     "end_time": "2020-10-21T16:38:44.935858",
     "exception": false,
     "start_time": "2020-10-21T16:38:44.844337",
     "status": "completed"
    },
    "tags": []
   },
   "outputs": [
    {
     "name": "stdout",
     "output_type": "stream",
     "text": [
      "Before cleanstring2\n",
      "['ahhahahahaha', 'it', 'is', 'a', 'dummy', 'string', 'xoxoxooxoxoxo']\n",
      "After cleanstring2\n",
      "['laugh', 'it', 'is', 'a', 'dummy', 'string', 'kiss']\n"
     ]
    }
   ],
   "source": [
    "test_string = [\"ahhahahahaha\",\"it\",\"is\",\"a\",\"dummy\",\"string\",\"xoxoxooxoxoxo\"]\n",
    "print(\"Before cleanstring2\")\n",
    "print(test_string)\n",
    "print(\"After cleanstring2\")\n",
    "print(cleanstring2(test_string)[0])"
   ]
  },
  {
   "cell_type": "code",
   "execution_count": 27,
   "metadata": {
    "execution": {
     "iopub.execute_input": "2020-10-21T16:38:45.110005Z",
     "iopub.status.busy": "2020-10-21T16:38:45.109226Z",
     "iopub.status.idle": "2020-10-21T16:38:50.687544Z",
     "shell.execute_reply": "2020-10-21T16:38:50.688097Z"
    },
    "id": "tup_61Py4v2w",
    "outputId": "c18969c9-315a-47f6-b694-2a3451dc6e1c",
    "papermill": {
     "duration": 5.66551,
     "end_time": "2020-10-21T16:38:50.688261",
     "exception": false,
     "start_time": "2020-10-21T16:38:45.022751",
     "status": "completed"
    },
    "tags": []
   },
   "outputs": [
    {
     "name": "stdout",
     "output_type": "stream",
     "text": [
      "===== E> Some repeated structures replaced with their meanings <3 =====\n"
     ]
    }
   ],
   "source": [
    "dfTrain['text_w'], dfTrain['text_w_n'] = zip(*dfTrain.apply(lambda df: cleanstring2(df.text_w,df.text_w_n), axis=1))\n",
    "dfTrain['selected_w'], _ = zip(*dfTrain.apply(lambda df: cleanstring2(df.selected_w), axis=1))\n",
    "print(\"===== E> Some repeated structures replaced with their meanings <3 =====\")"
   ]
  },
  {
   "cell_type": "markdown",
   "metadata": {
    "id": "vsYnn9aDioVD",
    "papermill": {
     "duration": 0.078233,
     "end_time": "2020-10-21T16:38:50.845639",
     "exception": false,
     "start_time": "2020-10-21T16:38:50.767406",
     "status": "completed"
    },
    "tags": []
   },
   "source": [
    "### Correct misspellings"
   ]
  },
  {
   "cell_type": "code",
   "execution_count": 28,
   "metadata": {
    "execution": {
     "iopub.execute_input": "2020-10-21T16:38:51.017531Z",
     "iopub.status.busy": "2020-10-21T16:38:51.016623Z",
     "iopub.status.idle": "2020-10-21T16:38:51.156317Z",
     "shell.execute_reply": "2020-10-21T16:38:51.155750Z"
    },
    "id": "57617bO94v21",
    "papermill": {
     "duration": 0.232504,
     "end_time": "2020-10-21T16:38:51.156436",
     "exception": false,
     "start_time": "2020-10-21T16:38:50.923932",
     "status": "completed"
    },
    "tags": []
   },
   "outputs": [],
   "source": [
    "spell = SpellChecker(distance=1) # Set max how many chars can be misstyped in a word\n",
    "\n",
    "def correctSpelling(oldtext_w, oldtext_w_n = None):\n",
    "    expand = 0\n",
    "    newtext_w = copy.deepcopy(oldtext_w)\n",
    "    newtext_w_n = copy.deepcopy(oldtext_w_n)\n",
    "    for word_ind ,current_word in enumerate(oldtext_w):\n",
    "        new_word = spell.correction(current_word)\n",
    "        new_word = new_word.split()\n",
    "        newtext_w, newtext_w_n, expand = fix_difference(current_word, new_word, oldtext_w_n, newtext_w, newtext_w_n, word_ind, expand)\n",
    "    return newtext_w, newtext_w_n"
   ]
  },
  {
   "cell_type": "code",
   "execution_count": 29,
   "metadata": {
    "execution": {
     "iopub.execute_input": "2020-10-21T16:38:51.323747Z",
     "iopub.status.busy": "2020-10-21T16:38:51.323019Z",
     "iopub.status.idle": "2020-10-21T16:38:51.327290Z",
     "shell.execute_reply": "2020-10-21T16:38:51.327791Z"
    },
    "id": "bBdl2SaNhm5m",
    "outputId": "e8301eaa-51b9-4d4a-8d67-849585d32698",
    "papermill": {
     "duration": 0.091572,
     "end_time": "2020-10-21T16:38:51.327905",
     "exception": false,
     "start_time": "2020-10-21T16:38:51.236333",
     "status": "completed"
    },
    "tags": []
   },
   "outputs": [
    {
     "name": "stdout",
     "output_type": "stream",
     "text": [
      "Before correctSpelling\n",
      "['it', 'is', 'not', 'an', 'englidh', 'wotd']\n",
      "After correctSpelling\n",
      "['it', 'is', 'not', 'an', 'english', 'word']\n"
     ]
    }
   ],
   "source": [
    "test_string = [\"it\",\"is\",\"not\",\"an\",\"englidh\",\"wotd\"]\n",
    "print(\"Before correctSpelling\")\n",
    "print(test_string)\n",
    "print(\"After correctSpelling\")\n",
    "print(correctSpelling(test_string)[0])"
   ]
  },
  {
   "cell_type": "code",
   "execution_count": 30,
   "metadata": {
    "execution": {
     "iopub.execute_input": "2020-10-21T16:38:51.569273Z",
     "iopub.status.busy": "2020-10-21T16:38:51.568367Z",
     "iopub.status.idle": "2020-10-21T16:40:42.148770Z",
     "shell.execute_reply": "2020-10-21T16:40:42.149474Z"
    },
    "id": "B6VujvX84v26",
    "outputId": "1ce4aa33-9915-4100-8acb-ea92d4acb83c",
    "papermill": {
     "duration": 110.700739,
     "end_time": "2020-10-21T16:40:42.149657",
     "exception": false,
     "start_time": "2020-10-21T16:38:51.448918",
     "status": "completed"
    },
    "tags": []
   },
   "outputs": [
    {
     "name": "stdout",
     "output_type": "stream",
     "text": [
      "===== E> Fixed 1 char typos <3 =====\n"
     ]
    }
   ],
   "source": [
    "dfTrain['text_w'], dfTrain['text_w_n'] = zip(*dfTrain.apply(lambda df: correctSpelling(df.text_w,df.text_w_n), axis=1))\n",
    "dfTrain['selected_w'], _ = zip(*dfTrain.apply(lambda df: correctSpelling(df.selected_w), axis=1))\n",
    "print(\"===== E> Fixed 1 char typos <3 =====\")"
   ]
  },
  {
   "cell_type": "markdown",
   "metadata": {
    "id": "S9zyMMYhW2Gs",
    "papermill": {
     "duration": 0.079863,
     "end_time": "2020-10-21T16:40:42.310049",
     "exception": false,
     "start_time": "2020-10-21T16:40:42.230186",
     "status": "completed"
    },
    "tags": []
   },
   "source": [
    "## Add spaces before words"
   ]
  },
  {
   "cell_type": "markdown",
   "metadata": {
    "id": "dX9aLiHzXNoh",
    "papermill": {
     "duration": 0.08224,
     "end_time": "2020-10-21T16:40:42.479089",
     "exception": false,
     "start_time": "2020-10-21T16:40:42.396849",
     "status": "completed"
    },
    "tags": []
   },
   "source": [
    "Roberta's tokenizer tokenizes the words \" world\" and \"world\" differently. Since we separated the words for cleaning, we lost the spaces between them. In other words, the input that we should normally give as \"Hello world\" is now as \"Helloworld\". Therefore, we should make our input as \" Hello world\" to make the tokenizer do its job more accurately."
   ]
  },
  {
   "cell_type": "code",
   "execution_count": 31,
   "metadata": {
    "execution": {
     "iopub.execute_input": "2020-10-21T16:40:42.646938Z",
     "iopub.status.busy": "2020-10-21T16:40:42.645144Z",
     "iopub.status.idle": "2020-10-21T16:40:42.647640Z",
     "shell.execute_reply": "2020-10-21T16:40:42.648101Z"
    },
    "id": "rVvyog34WuHv",
    "papermill": {
     "duration": 0.089011,
     "end_time": "2020-10-21T16:40:42.648217",
     "exception": false,
     "start_time": "2020-10-21T16:40:42.559206",
     "status": "completed"
    },
    "tags": []
   },
   "outputs": [],
   "source": [
    "def addSpace(oldtext_w):\n",
    "    newtext_w = copy.deepcopy(oldtext_w)\n",
    "    for word_ind ,current_word in enumerate(oldtext_w):\n",
    "            newtext_w[word_ind] = \" \"+current_word\n",
    "    return newtext_w"
   ]
  },
  {
   "cell_type": "code",
   "execution_count": 32,
   "metadata": {
    "execution": {
     "iopub.execute_input": "2020-10-21T16:40:42.821252Z",
     "iopub.status.busy": "2020-10-21T16:40:42.820493Z",
     "iopub.status.idle": "2020-10-21T16:40:42.825113Z",
     "shell.execute_reply": "2020-10-21T16:40:42.825589Z"
    },
    "id": "8NiECOnkhrqy",
    "outputId": "bce62286-19b1-48e3-c871-25cb400789ba",
    "papermill": {
     "duration": 0.097073,
     "end_time": "2020-10-21T16:40:42.825716",
     "exception": false,
     "start_time": "2020-10-21T16:40:42.728643",
     "status": "completed"
    },
    "tags": []
   },
   "outputs": [
    {
     "name": "stdout",
     "output_type": "stream",
     "text": [
      "Before addSpace\n",
      "['hello', 'world']\n",
      "After addSpace\n",
      "[' hello', ' world']\n"
     ]
    }
   ],
   "source": [
    "test_string = [\"hello\",\"world\"]\n",
    "print(\"Before addSpace\")\n",
    "print(test_string)\n",
    "print(\"After addSpace\")\n",
    "print(addSpace(test_string))"
   ]
  },
  {
   "cell_type": "code",
   "execution_count": 33,
   "metadata": {
    "execution": {
     "iopub.execute_input": "2020-10-21T16:40:43.001192Z",
     "iopub.status.busy": "2020-10-21T16:40:43.000395Z",
     "iopub.status.idle": "2020-10-21T16:40:51.124961Z",
     "shell.execute_reply": "2020-10-21T16:40:51.123986Z"
    },
    "id": "5j-MxeriWuEg",
    "outputId": "cfaa6e69-d901-47fe-fb79-f4dd380089f7",
    "papermill": {
     "duration": 8.212297,
     "end_time": "2020-10-21T16:40:51.125069",
     "exception": false,
     "start_time": "2020-10-21T16:40:42.912772",
     "status": "completed"
    },
    "tags": []
   },
   "outputs": [
    {
     "name": "stdout",
     "output_type": "stream",
     "text": [
      "===== E> Added spaces before every word <3 =====\n"
     ]
    }
   ],
   "source": [
    "dfTrain['text_w'] = dfTrain.apply(lambda df: addSpace(df.text_w), axis=1)\n",
    "dfTrain['selected_w'] = dfTrain.apply(lambda df: addSpace(df.selected_w), axis=1)\n",
    "print(\"===== E> Added spaces before every word <3 =====\")"
   ]
  },
  {
   "cell_type": "markdown",
   "metadata": {
    "id": "RLvxM8umiwcb",
    "papermill": {
     "duration": 0.081468,
     "end_time": "2020-10-21T16:40:51.289389",
     "exception": false,
     "start_time": "2020-10-21T16:40:51.207921",
     "status": "completed"
    },
    "tags": []
   },
   "source": [
    "## Apply all the cleanings to test dataframe"
   ]
  },
  {
   "cell_type": "code",
   "execution_count": 34,
   "metadata": {
    "execution": {
     "iopub.execute_input": "2020-10-21T16:40:51.515838Z",
     "iopub.status.busy": "2020-10-21T16:40:51.500363Z",
     "iopub.status.idle": "2020-10-21T16:41:04.554844Z",
     "shell.execute_reply": "2020-10-21T16:41:04.554303Z"
    },
    "id": "a2lkeWW4qg46",
    "outputId": "baed341e-26b2-4176-9fa5-9360e95bd323",
    "papermill": {
     "duration": 13.179122,
     "end_time": "2020-10-21T16:41:04.554948",
     "exception": false,
     "start_time": "2020-10-21T16:40:51.375826",
     "status": "completed"
    },
    "tags": []
   },
   "outputs": [
    {
     "data": {
      "text/html": [
       "<div>\n",
       "<style scoped>\n",
       "    .dataframe tbody tr th:only-of-type {\n",
       "        vertical-align: middle;\n",
       "    }\n",
       "\n",
       "    .dataframe tbody tr th {\n",
       "        vertical-align: top;\n",
       "    }\n",
       "\n",
       "    .dataframe thead th {\n",
       "        text-align: right;\n",
       "    }\n",
       "</style>\n",
       "<table border=\"1\" class=\"dataframe\">\n",
       "  <thead>\n",
       "    <tr style=\"text-align: right;\">\n",
       "      <th></th>\n",
       "      <th>textID</th>\n",
       "      <th>text</th>\n",
       "      <th>sentiment</th>\n",
       "      <th>text_w</th>\n",
       "      <th>text_w_n</th>\n",
       "    </tr>\n",
       "  </thead>\n",
       "  <tbody>\n",
       "    <tr>\n",
       "      <th>3173</th>\n",
       "      <td>23d8ccab77</td>\n",
       "      <td>did not sleep a wink last night  X</td>\n",
       "      <td>neutral</td>\n",
       "      <td>[ did,  not,  sleep,  a,  wink,  last,  night,...</td>\n",
       "      <td>[0, 1, 2, 3, 4, 5, 6, 7]</td>\n",
       "    </tr>\n",
       "    <tr>\n",
       "      <th>1759</th>\n",
       "      <td>ec8507eef4</td>\n",
       "      <td>haha. Thanks Shannon.  3 out of 5 boats got f...</td>\n",
       "      <td>positive</td>\n",
       "      <td>[ laugh,  thanks,  shannon,  3,  out,  of,  5,...</td>\n",
       "      <td>[0, 1, 2, 3, 4, 5, 6, 7, 8, 9]</td>\n",
       "    </tr>\n",
       "    <tr>\n",
       "      <th>1848</th>\n",
       "      <td>c9dfbf4275</td>\n",
       "      <td>I have a new found respect for you now that I...</td>\n",
       "      <td>neutral</td>\n",
       "      <td>[ i,  have,  a,  new,  found,  respect,  for, ...</td>\n",
       "      <td>[0, 1, 2, 3, 4, 5, 6, 7, 8, 9, 10, 11, 12, 13,...</td>\n",
       "    </tr>\n",
       "    <tr>\n",
       "      <th>3420</th>\n",
       "      <td>9ef3a57e41</td>\n",
       "      <td>I know! I miss her...</td>\n",
       "      <td>negative</td>\n",
       "      <td>[ i,  know,  i,  miss,  her...]</td>\n",
       "      <td>[0, 1, 2, 3, 4]</td>\n",
       "    </tr>\n",
       "    <tr>\n",
       "      <th>36</th>\n",
       "      <td>c7f9d559e2</td>\n",
       "      <td>Happy mothers day mumm  xoxo</td>\n",
       "      <td>positive</td>\n",
       "      <td>[ happy,  mothers,  day,  mumm,  kiss]</td>\n",
       "      <td>[0, 1, 2, 3, 4]</td>\n",
       "    </tr>\n",
       "  </tbody>\n",
       "</table>\n",
       "</div>"
      ],
      "text/plain": [
       "          textID                                               text sentiment  \\\n",
       "3173  23d8ccab77                 did not sleep a wink last night  X   neutral   \n",
       "1759  ec8507eef4   haha. Thanks Shannon.  3 out of 5 boats got f...  positive   \n",
       "1848  c9dfbf4275   I have a new found respect for you now that I...   neutral   \n",
       "3420  9ef3a57e41                              I know! I miss her...  negative   \n",
       "36    c7f9d559e2                       Happy mothers day mumm  xoxo  positive   \n",
       "\n",
       "                                                 text_w  \\\n",
       "3173  [ did,  not,  sleep,  a,  wink,  last,  night,...   \n",
       "1759  [ laugh,  thanks,  shannon,  3,  out,  of,  5,...   \n",
       "1848  [ i,  have,  a,  new,  found,  respect,  for, ...   \n",
       "3420                    [ i,  know,  i,  miss,  her...]   \n",
       "36               [ happy,  mothers,  day,  mumm,  kiss]   \n",
       "\n",
       "                                               text_w_n  \n",
       "3173                           [0, 1, 2, 3, 4, 5, 6, 7]  \n",
       "1759                     [0, 1, 2, 3, 4, 5, 6, 7, 8, 9]  \n",
       "1848  [0, 1, 2, 3, 4, 5, 6, 7, 8, 9, 10, 11, 12, 13,...  \n",
       "3420                                    [0, 1, 2, 3, 4]  \n",
       "36                                      [0, 1, 2, 3, 4]  "
      ]
     },
     "execution_count": 34,
     "metadata": {},
     "output_type": "execute_result"
    }
   ],
   "source": [
    "dfTest['text_w'], dfTest['text_w_n'], _ = zip(*dfTest.apply(lambda df: stringtowords(df.text,\"\")             , axis=1))\n",
    "dfTest['text_w'], dfTest['text_w_n']    = zip(*dfTest.apply(lambda df: cleanstring(df.text_w,df.text_w_n)    , axis=1))\n",
    "dfTest['text_w'], dfTest['text_w_n']    = zip(*dfTest.apply(lambda df: tweetCleaner(df.text_w,df.text_w_n)   , axis=1))\n",
    "dfTest['text_w'], dfTest['text_w_n']    = zip(*dfTest.apply(lambda df: cleanstring2(df.text_w,df.text_w_n)   , axis=1))\n",
    "dfTest['text_w'], dfTest['text_w_n']    = zip(*dfTest.apply(lambda df: correctSpelling(df.text_w,df.text_w_n), axis=1))\n",
    "dfTest['text_w']                        = dfTest.apply(lambda df: addSpace(df.text_w), axis=1)\n",
    "dfTest.sample(n=5, random_state=50)"
   ]
  },
  {
   "cell_type": "markdown",
   "metadata": {
    "id": "38LWYfNF4v2_",
    "papermill": {
     "duration": 0.082024,
     "end_time": "2020-10-21T16:41:04.718885",
     "exception": false,
     "start_time": "2020-10-21T16:41:04.636861",
     "status": "completed"
    },
    "tags": []
   },
   "source": [
    "# Roberta Tokenizer"
   ]
  },
  {
   "cell_type": "code",
   "execution_count": 35,
   "metadata": {
    "execution": {
     "iopub.execute_input": "2020-10-21T16:41:04.887130Z",
     "iopub.status.busy": "2020-10-21T16:41:04.886517Z",
     "iopub.status.idle": "2020-10-21T16:41:05.007109Z",
     "shell.execute_reply": "2020-10-21T16:41:05.007585Z"
    },
    "id": "AZ58eC1a3YcW",
    "outputId": "a96963b2-a146-472c-d758-6bd32074be29",
    "papermill": {
     "duration": 0.206744,
     "end_time": "2020-10-21T16:41:05.007726",
     "exception": false,
     "start_time": "2020-10-21T16:41:04.800982",
     "status": "completed"
    },
    "tags": []
   },
   "outputs": [
    {
     "name": "stdout",
     "output_type": "stream",
     "text": [
      "Loading RoBERTa tokenizer...\n"
     ]
    }
   ],
   "source": [
    "print('Loading RoBERTa tokenizer...')\n",
    "tokenizer = RobertaTokenizer.from_pretrained(model_dir)"
   ]
  },
  {
   "cell_type": "code",
   "execution_count": 36,
   "metadata": {
    "execution": {
     "iopub.execute_input": "2020-10-21T16:41:05.182848Z",
     "iopub.status.busy": "2020-10-21T16:41:05.182012Z",
     "iopub.status.idle": "2020-10-21T16:41:05.184888Z",
     "shell.execute_reply": "2020-10-21T16:41:05.184358Z"
    },
    "id": "ML3ToOIVuyvm",
    "papermill": {
     "duration": 0.094835,
     "end_time": "2020-10-21T16:41:05.184985",
     "exception": false,
     "start_time": "2020-10-21T16:41:05.090150",
     "status": "completed"
    },
    "tags": []
   },
   "outputs": [],
   "source": [
    "def robertaTokenize(oldtext_w, oldtext_w_n = None):\n",
    "    expand = 0\n",
    "    newtext_w = copy.deepcopy(oldtext_w)\n",
    "    newtext_w_n = copy.deepcopy(oldtext_w_n)\n",
    "    for word_ind ,current_word in enumerate(oldtext_w):\n",
    "        new_word = tokenizer.tokenize(current_word)\n",
    "        newtext_w, newtext_w_n, expand = fix_difference(current_word, new_word, oldtext_w_n, newtext_w, newtext_w_n, word_ind, expand)\n",
    "    return newtext_w, newtext_w_n"
   ]
  },
  {
   "cell_type": "code",
   "execution_count": 37,
   "metadata": {
    "execution": {
     "iopub.execute_input": "2020-10-21T16:41:05.357368Z",
     "iopub.status.busy": "2020-10-21T16:41:05.356326Z",
     "iopub.status.idle": "2020-10-21T16:41:05.362759Z",
     "shell.execute_reply": "2020-10-21T16:41:05.362195Z"
    },
    "id": "G9LclTRHiAkh",
    "outputId": "d44454cc-ab93-4275-e308-3932eebf2c0e",
    "papermill": {
     "duration": 0.095172,
     "end_time": "2020-10-21T16:41:05.362873",
     "exception": false,
     "start_time": "2020-10-21T16:41:05.267701",
     "status": "completed"
    },
    "tags": []
   },
   "outputs": [
    {
     "name": "stdout",
     "output_type": "stream",
     "text": [
      "Before robertaTokenize\n",
      "[' hello', ' worldasd']\n",
      "After robertaTokenize\n",
      "['Ġhello', 'Ġworld', 'as', 'd']\n"
     ]
    }
   ],
   "source": [
    "test_string = [\" hello\",\" worldasd\"]\n",
    "print(\"Before robertaTokenize\")\n",
    "print(test_string)\n",
    "print(\"After robertaTokenize\")\n",
    "print(robertaTokenize(test_string)[0])"
   ]
  },
  {
   "cell_type": "code",
   "execution_count": 38,
   "metadata": {
    "execution": {
     "iopub.execute_input": "2020-10-21T16:41:05.552677Z",
     "iopub.status.busy": "2020-10-21T16:41:05.538495Z",
     "iopub.status.idle": "2020-10-21T16:41:39.873486Z",
     "shell.execute_reply": "2020-10-21T16:41:39.874092Z"
    },
    "id": "Y3VPGlz3uypc",
    "outputId": "08682010-46fa-4aef-ccea-5e965c4f0563",
    "papermill": {
     "duration": 34.425392,
     "end_time": "2020-10-21T16:41:39.874248",
     "exception": false,
     "start_time": "2020-10-21T16:41:05.448856",
     "status": "completed"
    },
    "tags": []
   },
   "outputs": [
    {
     "name": "stdout",
     "output_type": "stream",
     "text": [
      "===== E> Tokenized every word using RoBERTa tokenization <3 =====\n"
     ]
    }
   ],
   "source": [
    "dfTrain['text_w'], dfTrain['text_w_n'] = zip(*dfTrain.apply(lambda df: robertaTokenize(df.text_w,df.text_w_n), axis=1))\n",
    "dfTrain['selected_w'], _ = zip(*dfTrain.apply(lambda df: robertaTokenize(df.selected_w), axis=1))\n",
    "print(\"===== E> Tokenized every word using RoBERTa tokenization <3 =====\")"
   ]
  },
  {
   "cell_type": "markdown",
   "metadata": {
    "id": "tTCa-zFWjTOd",
    "papermill": {
     "duration": 0.128224,
     "end_time": "2020-10-21T16:41:40.114605",
     "exception": false,
     "start_time": "2020-10-21T16:41:39.986381",
     "status": "completed"
    },
    "tags": []
   },
   "source": [
    "We should also apply this tokenization to the test dataframe"
   ]
  },
  {
   "cell_type": "code",
   "execution_count": 39,
   "metadata": {
    "execution": {
     "iopub.execute_input": "2020-10-21T16:41:40.304796Z",
     "iopub.status.busy": "2020-10-21T16:41:40.303881Z",
     "iopub.status.idle": "2020-10-21T16:41:42.870464Z",
     "shell.execute_reply": "2020-10-21T16:41:42.871007Z"
    },
    "id": "yxhpWPDRuygb",
    "outputId": "3f234848-6b05-479e-a178-da7eddc9706b",
    "papermill": {
     "duration": 2.65993,
     "end_time": "2020-10-21T16:41:42.871140",
     "exception": false,
     "start_time": "2020-10-21T16:41:40.211210",
     "status": "completed"
    },
    "tags": []
   },
   "outputs": [
    {
     "data": {
      "text/html": [
       "<div>\n",
       "<style scoped>\n",
       "    .dataframe tbody tr th:only-of-type {\n",
       "        vertical-align: middle;\n",
       "    }\n",
       "\n",
       "    .dataframe tbody tr th {\n",
       "        vertical-align: top;\n",
       "    }\n",
       "\n",
       "    .dataframe thead th {\n",
       "        text-align: right;\n",
       "    }\n",
       "</style>\n",
       "<table border=\"1\" class=\"dataframe\">\n",
       "  <thead>\n",
       "    <tr style=\"text-align: right;\">\n",
       "      <th></th>\n",
       "      <th>textID</th>\n",
       "      <th>text</th>\n",
       "      <th>sentiment</th>\n",
       "      <th>text_w</th>\n",
       "      <th>text_w_n</th>\n",
       "    </tr>\n",
       "  </thead>\n",
       "  <tbody>\n",
       "    <tr>\n",
       "      <th>3173</th>\n",
       "      <td>23d8ccab77</td>\n",
       "      <td>did not sleep a wink last night  X</td>\n",
       "      <td>neutral</td>\n",
       "      <td>[Ġdid, Ġnot, Ġsleep, Ġa, Ġwink, Ġlast, Ġnight,...</td>\n",
       "      <td>[0, 1, 2, 3, 4, 5, 6, 7]</td>\n",
       "    </tr>\n",
       "    <tr>\n",
       "      <th>1759</th>\n",
       "      <td>ec8507eef4</td>\n",
       "      <td>haha. Thanks Shannon.  3 out of 5 boats got f...</td>\n",
       "      <td>positive</td>\n",
       "      <td>[Ġlaugh, Ġthanks, Ġsh, annon, Ġ3, Ġout, Ġof, Ġ...</td>\n",
       "      <td>[0, 1, 2, 2, 3, 4, 5, 6, 7, 8, 9]</td>\n",
       "    </tr>\n",
       "    <tr>\n",
       "      <th>1848</th>\n",
       "      <td>c9dfbf4275</td>\n",
       "      <td>I have a new found respect for you now that I...</td>\n",
       "      <td>neutral</td>\n",
       "      <td>[Ġi, Ġhave, Ġa, Ġnew, Ġfound, Ġrespect, Ġfor, ...</td>\n",
       "      <td>[0, 1, 2, 3, 4, 5, 6, 7, 8, 9, 10, 11, 12, 13,...</td>\n",
       "    </tr>\n",
       "    <tr>\n",
       "      <th>3420</th>\n",
       "      <td>9ef3a57e41</td>\n",
       "      <td>I know! I miss her...</td>\n",
       "      <td>negative</td>\n",
       "      <td>[Ġi, Ġknow, Ġi, Ġmiss, Ġher, ...]</td>\n",
       "      <td>[0, 1, 2, 3, 4, 4]</td>\n",
       "    </tr>\n",
       "    <tr>\n",
       "      <th>36</th>\n",
       "      <td>c7f9d559e2</td>\n",
       "      <td>Happy mothers day mumm  xoxo</td>\n",
       "      <td>positive</td>\n",
       "      <td>[Ġhappy, Ġmothers, Ġday, Ġm, umm, Ġkiss]</td>\n",
       "      <td>[0, 1, 2, 3, 3, 4]</td>\n",
       "    </tr>\n",
       "  </tbody>\n",
       "</table>\n",
       "</div>"
      ],
      "text/plain": [
       "          textID                                               text sentiment  \\\n",
       "3173  23d8ccab77                 did not sleep a wink last night  X   neutral   \n",
       "1759  ec8507eef4   haha. Thanks Shannon.  3 out of 5 boats got f...  positive   \n",
       "1848  c9dfbf4275   I have a new found respect for you now that I...   neutral   \n",
       "3420  9ef3a57e41                              I know! I miss her...  negative   \n",
       "36    c7f9d559e2                       Happy mothers day mumm  xoxo  positive   \n",
       "\n",
       "                                                 text_w  \\\n",
       "3173  [Ġdid, Ġnot, Ġsleep, Ġa, Ġwink, Ġlast, Ġnight,...   \n",
       "1759  [Ġlaugh, Ġthanks, Ġsh, annon, Ġ3, Ġout, Ġof, Ġ...   \n",
       "1848  [Ġi, Ġhave, Ġa, Ġnew, Ġfound, Ġrespect, Ġfor, ...   \n",
       "3420                  [Ġi, Ġknow, Ġi, Ġmiss, Ġher, ...]   \n",
       "36             [Ġhappy, Ġmothers, Ġday, Ġm, umm, Ġkiss]   \n",
       "\n",
       "                                               text_w_n  \n",
       "3173                           [0, 1, 2, 3, 4, 5, 6, 7]  \n",
       "1759                  [0, 1, 2, 2, 3, 4, 5, 6, 7, 8, 9]  \n",
       "1848  [0, 1, 2, 3, 4, 5, 6, 7, 8, 9, 10, 11, 12, 13,...  \n",
       "3420                                 [0, 1, 2, 3, 4, 4]  \n",
       "36                                   [0, 1, 2, 3, 3, 4]  "
      ]
     },
     "execution_count": 39,
     "metadata": {},
     "output_type": "execute_result"
    }
   ],
   "source": [
    "dfTest['text_w'], dfTest['text_w_n'] = zip(*dfTest.apply(lambda df: robertaTokenize(df.text_w,df.text_w_n), axis=1))\n",
    "dfTest.sample(n=5, random_state=50)"
   ]
  },
  {
   "cell_type": "markdown",
   "metadata": {
    "id": "rak_JBSceF3v",
    "papermill": {
     "duration": 0.085399,
     "end_time": "2020-10-21T16:41:43.041513",
     "exception": false,
     "start_time": "2020-10-21T16:41:42.956114",
     "status": "completed"
    },
    "tags": []
   },
   "source": [
    "# Prepare Train Output"
   ]
  },
  {
   "cell_type": "markdown",
   "metadata": {
    "id": "O6iB8UJWjqR4",
    "papermill": {
     "duration": 0.085137,
     "end_time": "2020-10-21T16:41:43.211445",
     "exception": false,
     "start_time": "2020-10-21T16:41:43.126308",
     "status": "completed"
    },
    "tags": []
   },
   "source": [
    "After this point, we need to prepare the output we will expect from the model. Since we apply all operations to both tweet text and selected text, we can find the position of the selected text in the tweet text. The following function is defined for this job. This function returns the start and end word order of the selected text in the tweet text even if there are some errors and missings."
   ]
  },
  {
   "cell_type": "code",
   "execution_count": 40,
   "metadata": {
    "execution": {
     "iopub.execute_input": "2020-10-21T16:41:43.391736Z",
     "iopub.status.busy": "2020-10-21T16:41:43.390882Z",
     "iopub.status.idle": "2020-10-21T16:41:43.393304Z",
     "shell.execute_reply": "2020-10-21T16:41:43.393838Z"
    },
    "id": "p-jwWaBXeF3v",
    "papermill": {
     "duration": 0.09957,
     "end_time": "2020-10-21T16:41:43.393956",
     "exception": false,
     "start_time": "2020-10-21T16:41:43.294386",
     "status": "completed"
    },
    "tags": []
   },
   "outputs": [],
   "source": [
    "def find_sub_list(sub_list,super_list):\n",
    "    sub_list_length=len(sub_list)\n",
    "    matching_list = []\n",
    "    found_start = 0\n",
    "    for start in range(0,sub_list_length): # find first matching word\n",
    "        for ind in (j for j,e in enumerate(super_list) if e==sub_list[start]): # for every matched first word\n",
    "            found_start = ind-start\n",
    "            if sub_list_length < 2:\n",
    "                return [ind-start,ind-start+sub_list_length-1]\n",
    "            else:\n",
    "                for end in range(sub_list_length,start+1,-1): # from last to first every word as last word\n",
    "                    if super_list[ind:ind+end-start]==sub_list[start:end]: # if first to last matches\n",
    "                        return [ind-start,ind-start+sub_list_length-1] # return first(possible) and last(possible)+1 index\n",
    "    return [found_start, found_start+sub_list_length-1] # if you couldn't find the part you just return by any first match of super list"
   ]
  },
  {
   "cell_type": "code",
   "execution_count": 41,
   "metadata": {
    "execution": {
     "iopub.execute_input": "2020-10-21T16:41:43.568295Z",
     "iopub.status.busy": "2020-10-21T16:41:43.567451Z",
     "iopub.status.idle": "2020-10-21T16:41:43.572596Z",
     "shell.execute_reply": "2020-10-21T16:41:43.572107Z"
    },
    "id": "roX00-qDkrSX",
    "outputId": "d9314d81-b124-4c8c-efa5-049879fc2694",
    "papermill": {
     "duration": 0.095108,
     "end_time": "2020-10-21T16:41:43.572703",
     "exception": false,
     "start_time": "2020-10-21T16:41:43.477595",
     "status": "completed"
    },
    "tags": []
   },
   "outputs": [
    {
     "name": "stdout",
     "output_type": "stream",
     "text": [
      "super list\n",
      "['this', 'is', 'a', 'super', 'list']\n",
      "sub list\n",
      "['r', 'list']\n",
      "location that find_sub_list found\n",
      "[3, 4]\n"
     ]
    }
   ],
   "source": [
    "test_string = [\"this\",\"is\",\"a\",\"super\",\"list\"]\n",
    "test_selected_string = [\"r\",\"list\"]\n",
    "print(\"super list\")\n",
    "print(test_string)\n",
    "print(\"sub list\")\n",
    "print(test_selected_string)\n",
    "print(\"location that find_sub_list found\")\n",
    "print(find_sub_list(test_selected_string,test_string))"
   ]
  },
  {
   "cell_type": "code",
   "execution_count": 42,
   "metadata": {
    "execution": {
     "iopub.execute_input": "2020-10-21T16:41:43.748087Z",
     "iopub.status.busy": "2020-10-21T16:41:43.747285Z",
     "iopub.status.idle": "2020-10-21T16:41:45.492624Z",
     "shell.execute_reply": "2020-10-21T16:41:45.491996Z"
    },
    "id": "cVRhvUUWIM-f",
    "outputId": "a3e4cccd-2b37-47a5-e541-70cd6376dcfa",
    "papermill": {
     "duration": 1.836068,
     "end_time": "2020-10-21T16:41:45.492772",
     "exception": false,
     "start_time": "2020-10-21T16:41:43.656704",
     "status": "completed"
    },
    "tags": []
   },
   "outputs": [
    {
     "data": {
      "text/html": [
       "<div>\n",
       "<style scoped>\n",
       "    .dataframe tbody tr th:only-of-type {\n",
       "        vertical-align: middle;\n",
       "    }\n",
       "\n",
       "    .dataframe tbody tr th {\n",
       "        vertical-align: top;\n",
       "    }\n",
       "\n",
       "    .dataframe thead th {\n",
       "        text-align: right;\n",
       "    }\n",
       "</style>\n",
       "<table border=\"1\" class=\"dataframe\">\n",
       "  <thead>\n",
       "    <tr style=\"text-align: right;\">\n",
       "      <th></th>\n",
       "      <th>textID</th>\n",
       "      <th>text</th>\n",
       "      <th>selected_text</th>\n",
       "      <th>sentiment</th>\n",
       "      <th>text_w</th>\n",
       "      <th>text_w_n</th>\n",
       "      <th>selected_w</th>\n",
       "      <th>selected_start_end</th>\n",
       "    </tr>\n",
       "  </thead>\n",
       "  <tbody>\n",
       "    <tr>\n",
       "      <th>0</th>\n",
       "      <td>cb774db0d1</td>\n",
       "      <td>I`d have responded, if I were going</td>\n",
       "      <td>I`d have responded, if I were going</td>\n",
       "      <td>neutral</td>\n",
       "      <td>[Ġid, Ġhave, Ġresponded, Ġif, Ġi, Ġwere, Ġgoing]</td>\n",
       "      <td>[0, 1, 2, 3, 4, 5, 6]</td>\n",
       "      <td>[Ġid, Ġhave, Ġresponded, Ġif, Ġi, Ġwere, Ġgoing]</td>\n",
       "      <td>[0, 6]</td>\n",
       "    </tr>\n",
       "    <tr>\n",
       "      <th>1</th>\n",
       "      <td>549e992a42</td>\n",
       "      <td>Sooo SAD I will miss you here in San Diego!!!</td>\n",
       "      <td>Sooo SAD</td>\n",
       "      <td>negative</td>\n",
       "      <td>[Ġsoon, Ġsad, Ġi, Ġwill, Ġmiss, Ġyou, Ġhere, Ġ...</td>\n",
       "      <td>[0, 1, 2, 3, 4, 5, 6, 7, 8, 9, 9, 9]</td>\n",
       "      <td>[Ġsoon, Ġsad]</td>\n",
       "      <td>[0, 1]</td>\n",
       "    </tr>\n",
       "    <tr>\n",
       "      <th>2</th>\n",
       "      <td>088c60f138</td>\n",
       "      <td>my boss is bullying me...</td>\n",
       "      <td>bullying me</td>\n",
       "      <td>negative</td>\n",
       "      <td>[Ġmy, Ġboss, Ġis, Ġbullying, Ġme, ...]</td>\n",
       "      <td>[0, 1, 2, 3, 4, 4]</td>\n",
       "      <td>[Ġbullying, Ġme, ...]</td>\n",
       "      <td>[3, 5]</td>\n",
       "    </tr>\n",
       "    <tr>\n",
       "      <th>3</th>\n",
       "      <td>9642c003ef</td>\n",
       "      <td>what interview! leave me alone</td>\n",
       "      <td>leave me alone</td>\n",
       "      <td>negative</td>\n",
       "      <td>[Ġwhat, Ġinterview, Ġleave, Ġme, Ġalone]</td>\n",
       "      <td>[0, 1, 2, 3, 4]</td>\n",
       "      <td>[Ġleave, Ġme, Ġalone]</td>\n",
       "      <td>[2, 4]</td>\n",
       "    </tr>\n",
       "    <tr>\n",
       "      <th>4</th>\n",
       "      <td>358bd9e861</td>\n",
       "      <td>Sons of ****, why couldn`t they put them on t...</td>\n",
       "      <td>Sons of ****,</td>\n",
       "      <td>negative</td>\n",
       "      <td>[Ġsons, Ġof, Ġ****, ,, Ġwhy, Ġcould, nt, Ġthey...</td>\n",
       "      <td>[0, 1, 2, 2, 3, 4, 4, 5, 6, 7, 8, 9, 10, 11, 1...</td>\n",
       "      <td>[Ġsons, Ġof, Ġ****, ,]</td>\n",
       "      <td>[0, 3]</td>\n",
       "    </tr>\n",
       "  </tbody>\n",
       "</table>\n",
       "</div>"
      ],
      "text/plain": [
       "       textID                                               text  \\\n",
       "0  cb774db0d1                I`d have responded, if I were going   \n",
       "1  549e992a42      Sooo SAD I will miss you here in San Diego!!!   \n",
       "2  088c60f138                          my boss is bullying me...   \n",
       "3  9642c003ef                     what interview! leave me alone   \n",
       "4  358bd9e861   Sons of ****, why couldn`t they put them on t...   \n",
       "\n",
       "                         selected_text sentiment  \\\n",
       "0  I`d have responded, if I were going   neutral   \n",
       "1                             Sooo SAD  negative   \n",
       "2                          bullying me  negative   \n",
       "3                       leave me alone  negative   \n",
       "4                        Sons of ****,  negative   \n",
       "\n",
       "                                              text_w  \\\n",
       "0   [Ġid, Ġhave, Ġresponded, Ġif, Ġi, Ġwere, Ġgoing]   \n",
       "1  [Ġsoon, Ġsad, Ġi, Ġwill, Ġmiss, Ġyou, Ġhere, Ġ...   \n",
       "2             [Ġmy, Ġboss, Ġis, Ġbullying, Ġme, ...]   \n",
       "3           [Ġwhat, Ġinterview, Ġleave, Ġme, Ġalone]   \n",
       "4  [Ġsons, Ġof, Ġ****, ,, Ġwhy, Ġcould, nt, Ġthey...   \n",
       "\n",
       "                                            text_w_n  \\\n",
       "0                              [0, 1, 2, 3, 4, 5, 6]   \n",
       "1               [0, 1, 2, 3, 4, 5, 6, 7, 8, 9, 9, 9]   \n",
       "2                                 [0, 1, 2, 3, 4, 4]   \n",
       "3                                    [0, 1, 2, 3, 4]   \n",
       "4  [0, 1, 2, 2, 3, 4, 4, 5, 6, 7, 8, 9, 10, 11, 1...   \n",
       "\n",
       "                                         selected_w selected_start_end  \n",
       "0  [Ġid, Ġhave, Ġresponded, Ġif, Ġi, Ġwere, Ġgoing]             [0, 6]  \n",
       "1                                     [Ġsoon, Ġsad]             [0, 1]  \n",
       "2                             [Ġbullying, Ġme, ...]             [3, 5]  \n",
       "3                             [Ġleave, Ġme, Ġalone]             [2, 4]  \n",
       "4                            [Ġsons, Ġof, Ġ****, ,]             [0, 3]  "
      ]
     },
     "execution_count": 42,
     "metadata": {},
     "output_type": "execute_result"
    }
   ],
   "source": [
    "dfTrain['selected_start_end'] = dfTrain.apply(lambda df: find_sub_list(df.selected_w,df.text_w), axis=1)\n",
    "dfTrain.head()"
   ]
  },
  {
   "cell_type": "markdown",
   "metadata": {
    "id": "7vuFY6AFeF34",
    "papermill": {
     "duration": 0.08656,
     "end_time": "2020-10-21T16:41:45.665390",
     "exception": false,
     "start_time": "2020-10-21T16:41:45.578830",
     "status": "completed"
    },
    "tags": []
   },
   "source": [
    "# Split Train data to Train and Last Test"
   ]
  },
  {
   "cell_type": "markdown",
   "metadata": {
    "id": "bY_XZJOSl1S2",
    "papermill": {
     "duration": 0.086445,
     "end_time": "2020-10-21T16:41:45.837559",
     "exception": false,
     "start_time": "2020-10-21T16:41:45.751114",
     "status": "completed"
    },
    "tags": []
   },
   "source": [
    "if in_testing_mode allocate some of the data for testing purpose"
   ]
  },
  {
   "cell_type": "code",
   "execution_count": 43,
   "metadata": {
    "execution": {
     "iopub.execute_input": "2020-10-21T16:41:46.016786Z",
     "iopub.status.busy": "2020-10-21T16:41:46.015868Z",
     "iopub.status.idle": "2020-10-21T16:41:46.031850Z",
     "shell.execute_reply": "2020-10-21T16:41:46.031327Z"
    },
    "id": "sJO3s-GjeF34",
    "papermill": {
     "duration": 0.108927,
     "end_time": "2020-10-21T16:41:46.031958",
     "exception": false,
     "start_time": "2020-10-21T16:41:45.923031",
     "status": "completed"
    },
    "tags": []
   },
   "outputs": [],
   "source": [
    "if in_testing_mode:\n",
    "    dfTrain, dfLasttest = train_test_split(dfTrain, test_size=0.01, random_state=50)\n",
    "    dfTrain.reset_index(drop=True, inplace=True)\n",
    "    dfLasttest.reset_index(drop=True, inplace=True)"
   ]
  },
  {
   "cell_type": "markdown",
   "metadata": {
    "id": "5v3_27bA9X72",
    "papermill": {
     "duration": 0.086429,
     "end_time": "2020-10-21T16:41:46.204788",
     "exception": false,
     "start_time": "2020-10-21T16:41:46.118359",
     "status": "completed"
    },
    "tags": []
   },
   "source": [
    "# Hugging Face"
   ]
  },
  {
   "cell_type": "markdown",
   "metadata": {
    "id": "HV8-pS0BmNUl",
    "papermill": {
     "duration": 0.090679,
     "end_time": "2020-10-21T16:41:46.383143",
     "exception": false,
     "start_time": "2020-10-21T16:41:46.292464",
     "status": "completed"
    },
    "tags": []
   },
   "source": [
    "Detect the device that notebook runs on"
   ]
  },
  {
   "cell_type": "code",
   "execution_count": 44,
   "metadata": {
    "execution": {
     "iopub.execute_input": "2020-10-21T16:41:46.935536Z",
     "iopub.status.busy": "2020-10-21T16:41:46.934517Z",
     "iopub.status.idle": "2020-10-21T16:41:46.940201Z",
     "shell.execute_reply": "2020-10-21T16:41:46.939695Z"
    },
    "id": "HJXSEUvyuycx",
    "outputId": "1b6d9e11-6812-46d1-ebac-c834ef7a6e53",
    "papermill": {
     "duration": 0.468655,
     "end_time": "2020-10-21T16:41:46.940302",
     "exception": false,
     "start_time": "2020-10-21T16:41:46.471647",
     "status": "completed"
    },
    "tags": []
   },
   "outputs": [
    {
     "name": "stdout",
     "output_type": "stream",
     "text": [
      "the device we will run on is:  cuda:0\n",
      "the GPU is:  Tesla P100-PCIE-16GB\n"
     ]
    }
   ],
   "source": [
    "device = torch.device(\"cuda:0\" if torch.cuda.is_available() else \"cpu\")\n",
    "print(\"the device we will run on is: \",device)\n",
    "if device.type == \"cuda\":\n",
    "    print(\"the GPU is: \", torch.cuda.get_device_name(0))"
   ]
  },
  {
   "cell_type": "code",
   "execution_count": 45,
   "metadata": {
    "execution": {
     "iopub.execute_input": "2020-10-21T16:41:47.127974Z",
     "iopub.status.busy": "2020-10-21T16:41:47.127255Z",
     "iopub.status.idle": "2020-10-21T16:41:47.142930Z",
     "shell.execute_reply": "2020-10-21T16:41:47.143364Z"
    },
    "id": "lSvHOIqpuyXE",
    "outputId": "f5997739-c602-4661-bdfa-d5de0f488c70",
    "papermill": {
     "duration": 0.115464,
     "end_time": "2020-10-21T16:41:47.143506",
     "exception": false,
     "start_time": "2020-10-21T16:41:47.028042",
     "status": "completed"
    },
    "tags": []
   },
   "outputs": [
    {
     "name": "stdout",
     "output_type": "stream",
     "text": [
      "question:  positive\n",
      "context:  ['Ġhello', 'Ġworld']\n",
      "input_ids:  tensor([[    0, 22173,     2,     2, 20760,   232,     2,     1,     1,     1]])\n",
      "attention_mask:  tensor([[1, 1, 1, 1, 1, 1, 1, 0, 0, 0]])\n",
      "token_type_ids:  tensor([[0, 0, 0, 0, 0, 0, 0, 0, 0, 0]])\n",
      "decoded:  <s>positive</s></s> hello world</s><pad><pad><pad>\n"
     ]
    }
   ],
   "source": [
    "test_question = \"positive\"\n",
    "test_string = [\" hello\",\" world\"]\n",
    "test_context  = robertaTokenize(test_string)[0]\n",
    "print(\"question: \", test_question)\n",
    "print(\"context: \", test_context)\n",
    "test = tokenizer.encode_plus(\n",
    "                      [test_question],                # sentiment to encode\n",
    "                      test_context,                   # Sentence to encode.\n",
    "                      add_special_tokens = True,  # Add '[CLS]' and '[SEP]'\n",
    "                      max_length = 10,            # Pad & truncate all sentences.\n",
    "                      pad_to_max_length = True,\n",
    "                      return_token_type_ids = True,\n",
    "                      return_attention_mask = True,   # Construct attn. masks.\n",
    "                      device=device,\n",
    "                      return_tensors = 'pt',      # Return pytorch tensors.\n",
    "                      )\n",
    "print(\"input_ids: \",test[\"input_ids\"])\n",
    "print(\"attention_mask: \",test[\"attention_mask\"])\n",
    "print(\"token_type_ids: \",test[\"token_type_ids\"])\n",
    "print(\"decoded: \",tokenizer.decode(test[\"input_ids\"][0]))"
   ]
  },
  {
   "cell_type": "markdown",
   "metadata": {
    "id": "DfwLajtE_Ry1",
    "papermill": {
     "duration": 0.091927,
     "end_time": "2020-10-21T16:41:47.324264",
     "exception": false,
     "start_time": "2020-10-21T16:41:47.232337",
     "status": "completed"
    },
    "tags": []
   },
   "source": [
    "As we can see above we are using 5 additional tokens in roberta tokenizer. These are:\n",
    "\n",
    "*   1 * **0**\n",
    "*   1 * **sentiment's id**\n",
    "*   3 * **2** \n",
    "\n",
    "So we need to calculate the longest contexts length of tweet text and add 5 to it. Thus, we will have the max input size."
   ]
  },
  {
   "cell_type": "code",
   "execution_count": 46,
   "metadata": {
    "execution": {
     "iopub.execute_input": "2020-10-21T16:41:47.543021Z",
     "iopub.status.busy": "2020-10-21T16:41:47.542134Z",
     "iopub.status.idle": "2020-10-21T16:41:47.550090Z",
     "shell.execute_reply": "2020-10-21T16:41:47.550630Z"
    },
    "id": "TITDVmXnuya-",
    "outputId": "1db634fb-cd47-4c73-c63c-d69929308af3",
    "papermill": {
     "duration": 0.124896,
     "end_time": "2020-10-21T16:41:47.550750",
     "exception": false,
     "start_time": "2020-10-21T16:41:47.425854",
     "status": "completed"
    },
    "tags": []
   },
   "outputs": [
    {
     "name": "stdout",
     "output_type": "stream",
     "text": [
      "Max clean word count is 71\n"
     ]
    }
   ],
   "source": [
    "max_word_count = max(np.max(dfTrain[\"text_w\"].apply(lambda x: len(x))), np.max(dfTest[\"text_w\"].apply(lambda x: len(x))))\n",
    "max_word_count+=5\n",
    "print(\"Max clean word count is {}\".format(max_word_count))"
   ]
  },
  {
   "cell_type": "markdown",
   "metadata": {
    "id": "oX3QWvLZnZhV",
    "papermill": {
     "duration": 0.087514,
     "end_time": "2020-10-21T16:41:47.725869",
     "exception": false,
     "start_time": "2020-10-21T16:41:47.638355",
     "status": "completed"
    },
    "tags": []
   },
   "source": [
    "We will define a function that creates and collects the encoded values in lists"
   ]
  },
  {
   "cell_type": "code",
   "execution_count": 47,
   "metadata": {
    "execution": {
     "iopub.execute_input": "2020-10-21T16:41:47.912584Z",
     "iopub.status.busy": "2020-10-21T16:41:47.911655Z",
     "iopub.status.idle": "2020-10-21T16:41:47.913838Z",
     "shell.execute_reply": "2020-10-21T16:41:47.914467Z"
    },
    "id": "SZeyo-JCuyU9",
    "papermill": {
     "duration": 0.100451,
     "end_time": "2020-10-21T16:41:47.914597",
     "exception": false,
     "start_time": "2020-10-21T16:41:47.814146",
     "status": "completed"
    },
    "tags": []
   },
   "outputs": [],
   "source": [
    "def convert_text2ids(sentiment, word_list, output, max_word_count, input_ids, attention_masks, token_type_ids, start_positions, end_positions):\n",
    "    encoded_dict = tokenizer.encode_plus(\n",
    "                                          [sentiment],                  # sentiment to encode\n",
    "                                          word_list,                    # Sentence to encode.\n",
    "                                          add_special_tokens = True,    # Add '[CLS]' and '[SEP]'\n",
    "                                          max_length = max_word_count,  # Pad & truncate all sentences.\n",
    "                                          pad_to_max_length = True,     # Create with padding.\n",
    "                                          return_token_type_ids = True, # Construct token type ids.\n",
    "                                          return_attention_mask = True, # Construct attn. masks.\n",
    "                                          device=device,\n",
    "                                          return_tensors = 'pt',        # Return pytorch tensors.\n",
    "                                        )\n",
    "    input_ids.append(encoded_dict['input_ids'])\n",
    "    attention_masks.append(encoded_dict['attention_mask'])\n",
    "    token_type_ids.append(encoded_dict['token_type_ids'])\n",
    "    if output is not None:\n",
    "        start_positions.append(output[0])\n",
    "        end_positions.append(output[1])"
   ]
  },
  {
   "cell_type": "code",
   "execution_count": 48,
   "metadata": {
    "execution": {
     "iopub.execute_input": "2020-10-21T16:41:48.101785Z",
     "iopub.status.busy": "2020-10-21T16:41:48.100966Z",
     "iopub.status.idle": "2020-10-21T16:41:54.018026Z",
     "shell.execute_reply": "2020-10-21T16:41:54.017454Z"
    },
    "id": "6WEPtf7P3X_2",
    "papermill": {
     "duration": 6.013575,
     "end_time": "2020-10-21T16:41:54.018144",
     "exception": false,
     "start_time": "2020-10-21T16:41:48.004569",
     "status": "completed"
    },
    "tags": []
   },
   "outputs": [],
   "source": [
    "train_input_ids, train_attention_masks, train_token_type_ids, train_start_positions, train_end_positions  = [], [], [], [], []\n",
    "\n",
    "dfTrain.apply(lambda df: convert_text2ids(df.sentiment, df.text_w, df.selected_start_end, max_word_count, train_input_ids, train_attention_masks, train_token_type_ids, train_start_positions, train_end_positions), axis=1)\n",
    "\n",
    "# convert lists to torch tensors\n",
    "train_input_ids = torch.cat(train_input_ids, dim=0) \n",
    "train_attention_masks = torch.cat(train_attention_masks, dim=0)\n",
    "train_token_type_ids = torch.cat(train_token_type_ids, dim=0)\n",
    "train_start_positions = torch.tensor(train_start_positions, dtype = torch.long)\n",
    "train_end_positions = torch.tensor(train_end_positions, dtype = torch.long)"
   ]
  },
  {
   "cell_type": "code",
   "execution_count": 49,
   "metadata": {
    "execution": {
     "iopub.execute_input": "2020-10-21T16:41:54.202380Z",
     "iopub.status.busy": "2020-10-21T16:41:54.201532Z",
     "iopub.status.idle": "2020-10-21T16:41:54.206384Z",
     "shell.execute_reply": "2020-10-21T16:41:54.206872Z"
    },
    "id": "HCqrSsBOWWdU",
    "outputId": "14b6524d-5a3c-440e-98ee-7cace4219f4a",
    "papermill": {
     "duration": 0.100226,
     "end_time": "2020-10-21T16:41:54.206991",
     "exception": false,
     "start_time": "2020-10-21T16:41:54.106765",
     "status": "completed"
    },
    "tags": []
   },
   "outputs": [
    {
     "name": "stdout",
     "output_type": "stream",
     "text": [
      "Shape of train input ids:  torch.Size([27051, 71])\n",
      "Shape of train input masks:  torch.Size([27051, 71])\n",
      "Shape of train token type ids:  torch.Size([27051, 71])\n",
      "Shape of train output start positions:  torch.Size([27051])\n",
      "Shape of train output end positions:  torch.Size([27051])\n"
     ]
    }
   ],
   "source": [
    "print(\"Shape of train input ids: \", train_input_ids.size())\n",
    "print(\"Shape of train input masks: \", train_attention_masks.size())\n",
    "print(\"Shape of train token type ids: \", train_token_type_ids.size())\n",
    "print(\"Shape of train output start positions: \", train_start_positions.size())\n",
    "print(\"Shape of train output end positions: \", train_end_positions.size())"
   ]
  },
  {
   "cell_type": "markdown",
   "metadata": {
    "id": "ITY_QRkUpovd",
    "papermill": {
     "duration": 0.092032,
     "end_time": "2020-10-21T16:41:54.387168",
     "exception": false,
     "start_time": "2020-10-21T16:41:54.295136",
     "status": "completed"
    },
    "tags": []
   },
   "source": [
    "## RoBerta MODEL"
   ]
  },
  {
   "cell_type": "code",
   "execution_count": 50,
   "metadata": {
    "execution": {
     "iopub.execute_input": "2020-10-21T16:41:54.570245Z",
     "iopub.status.busy": "2020-10-21T16:41:54.568706Z",
     "iopub.status.idle": "2020-10-21T16:41:54.571052Z",
     "shell.execute_reply": "2020-10-21T16:41:54.571549Z"
    },
    "id": "OgBjzAIvJXvE",
    "papermill": {
     "duration": 0.097058,
     "end_time": "2020-10-21T16:41:54.571666",
     "exception": false,
     "start_time": "2020-10-21T16:41:54.474608",
     "status": "completed"
    },
    "tags": []
   },
   "outputs": [],
   "source": [
    "batch_size = 64\n",
    "\n",
    "# Number of training epochs.\n",
    "epochs = 4\n",
    "\n",
    "learning_rate = 5e-5\n",
    "adam_epsilon = 1e-8\n",
    "\n",
    "validation_size = 0.01\n",
    "\n",
    "# Set the seed value all over the place to make this reproducible.\n",
    "seed_val = 42\n",
    "random.seed(seed_val)\n",
    "np.random.seed(seed_val)\n",
    "torch.manual_seed(seed_val)\n",
    "torch.cuda.manual_seed_all(seed_val)"
   ]
  },
  {
   "cell_type": "markdown",
   "metadata": {
    "id": "LVDq2nTHSW9R",
    "papermill": {
     "duration": 0.087541,
     "end_time": "2020-10-21T16:41:54.747115",
     "exception": false,
     "start_time": "2020-10-21T16:41:54.659574",
     "status": "completed"
    },
    "tags": []
   },
   "source": [
    "#### Preparing tensor dataset\n"
   ]
  },
  {
   "cell_type": "code",
   "execution_count": 51,
   "metadata": {
    "execution": {
     "iopub.execute_input": "2020-10-21T16:41:54.934208Z",
     "iopub.status.busy": "2020-10-21T16:41:54.933519Z",
     "iopub.status.idle": "2020-10-21T16:41:54.944900Z",
     "shell.execute_reply": "2020-10-21T16:41:54.944398Z"
    },
    "id": "nIKgqBAyJXty",
    "outputId": "1cdf0a65-92b3-4ba8-ac34-5e9cf7e7313f",
    "papermill": {
     "duration": 0.10895,
     "end_time": "2020-10-21T16:41:54.945002",
     "exception": false,
     "start_time": "2020-10-21T16:41:54.836052",
     "status": "completed"
    },
    "tags": []
   },
   "outputs": [
    {
     "name": "stdout",
     "output_type": "stream",
     "text": [
      "train data length : 26780\n",
      "validation data length : 271\n"
     ]
    }
   ],
   "source": [
    "data = TensorDataset(train_input_ids,\n",
    "                     train_attention_masks,\n",
    "                     train_token_type_ids,\n",
    "                     train_start_positions,\n",
    "                     train_end_positions)\n",
    "\n",
    "train_data_size = int((1-validation_size) * len(data))\n",
    "val_data_size = len(data) - train_data_size\n",
    "train_dataset, val_dataset = torch.utils.data.random_split(data, [train_data_size, val_data_size])\n",
    "\n",
    "train_dataloader = DataLoader(train_dataset, # The train samples.\n",
    "                              sampler=RandomSampler(train_dataset), # Pull out batches randomly.\n",
    "                              batch_size = batch_size)# Evaluate with this batch size.\n",
    "\n",
    "val_dataloader   = DataLoader(val_dataset, # The validation samples.\n",
    "                              sampler=SequentialSampler(val_dataset), # Pull out batches sequentially.\n",
    "                              batch_size = batch_size)# Evaluate with this batch size.\n",
    "\n",
    "print(\"train data length :\", len(train_dataset))\n",
    "print(\"validation data length :\", len(val_dataset))"
   ]
  },
  {
   "cell_type": "code",
   "execution_count": 52,
   "metadata": {
    "execution": {
     "iopub.execute_input": "2020-10-21T16:41:55.135508Z",
     "iopub.status.busy": "2020-10-21T16:41:55.134800Z",
     "iopub.status.idle": "2020-10-21T16:41:55.492349Z",
     "shell.execute_reply": "2020-10-21T16:41:55.491849Z"
    },
    "id": "5ukGhY-dBByT",
    "outputId": "df1f9675-c771-435a-cab7-c292206b6b28",
    "papermill": {
     "duration": 0.457976,
     "end_time": "2020-10-21T16:41:55.492493",
     "exception": false,
     "start_time": "2020-10-21T16:41:55.034517",
     "status": "completed"
    },
    "tags": []
   },
   "outputs": [
    {
     "name": "stdout",
     "output_type": "stream",
     "text": [
      "sample_input_id\n",
      "\t tensor([    0, 33407,     2,     2, 45365,     5,   936,     5,  5567, 15797,\n",
      "          939,   120,   259, 33976,    94,    55,    87,   132,   377,   117,\n",
      "          948,    99,  1518,    50,   425,     2,     1,     1,     1,     1,\n",
      "            1,     1,     1,     1,     1,     1,     1,     1,     1,     1,\n",
      "            1,     1,     1,     1,     1,     1,     1,     1,     1,     1,\n",
      "            1,     1,     1,     1,     1,     1,     1,     1,     1,     1,\n",
      "            1,     1,     1,     1,     1,     1,     1,     1,     1,     1,\n",
      "            1])\n",
      "sample_attention_mask\n",
      "\t tensor([1, 1, 1, 1, 1, 1, 1, 1, 1, 1, 1, 1, 1, 1, 1, 1, 1, 1, 1, 1, 1, 1, 1, 1,\n",
      "        1, 1, 0, 0, 0, 0, 0, 0, 0, 0, 0, 0, 0, 0, 0, 0, 0, 0, 0, 0, 0, 0, 0, 0,\n",
      "        0, 0, 0, 0, 0, 0, 0, 0, 0, 0, 0, 0, 0, 0, 0, 0, 0, 0, 0, 0, 0, 0, 0])\n",
      "sample_token_type_id\n",
      "\t tensor([0, 0, 0, 0, 0, 0, 0, 0, 0, 0, 0, 0, 0, 0, 0, 0, 0, 0, 0, 0, 0, 0, 0, 0,\n",
      "        0, 0, 0, 0, 0, 0, 0, 0, 0, 0, 0, 0, 0, 0, 0, 0, 0, 0, 0, 0, 0, 0, 0, 0,\n",
      "        0, 0, 0, 0, 0, 0, 0, 0, 0, 0, 0, 0, 0, 0, 0, 0, 0, 0, 0, 0, 0, 0, 0])\n",
      "sample_start_position\n",
      "\t tensor(0)\n",
      "sample_end_position\n",
      "\t tensor(2)\n"
     ]
    }
   ],
   "source": [
    "random_step = random.randint(0,len(train_dataloader))\n",
    "for step, batch in enumerate(train_dataloader):\n",
    "    if step == random_step:\n",
    "        random_data = random.randint(0,len(batch[0]))\n",
    "        sample_input_id       = batch[0][random_data]\n",
    "        sample_attention_mask = batch[1][random_data]\n",
    "        sample_token_type_id  = batch[2][random_data]\n",
    "        sample_start_position = batch[3][random_data]\n",
    "        sample_end_position   = batch[4][random_data]\n",
    "        break\n",
    "\n",
    "print(\"sample_input_id\")\n",
    "print(\"\\t\",sample_input_id)\n",
    "print(\"sample_attention_mask\")\n",
    "print(\"\\t\",sample_attention_mask)\n",
    "print(\"sample_token_type_id\")\n",
    "print(\"\\t\",sample_token_type_id)\n",
    "print(\"sample_start_position\")\n",
    "print(\"\\t\",sample_start_position)\n",
    "print(\"sample_end_position\")\n",
    "print(\"\\t\",sample_end_position)"
   ]
  },
  {
   "cell_type": "markdown",
   "metadata": {
    "id": "atcUA44s7lia",
    "papermill": {
     "duration": 0.089007,
     "end_time": "2020-10-21T16:41:55.671653",
     "exception": false,
     "start_time": "2020-10-21T16:41:55.582646",
     "status": "completed"
    },
    "tags": []
   },
   "source": [
    "#### Preparing model"
   ]
  },
  {
   "cell_type": "code",
   "execution_count": 53,
   "metadata": {
    "execution": {
     "iopub.execute_input": "2020-10-21T16:41:55.871833Z",
     "iopub.status.busy": "2020-10-21T16:41:55.870880Z",
     "iopub.status.idle": "2020-10-21T16:41:55.873477Z",
     "shell.execute_reply": "2020-10-21T16:41:55.874015Z"
    },
    "id": "k_CIuKGzJXm1",
    "papermill": {
     "duration": 0.113258,
     "end_time": "2020-10-21T16:41:55.874148",
     "exception": false,
     "start_time": "2020-10-21T16:41:55.760890",
     "status": "completed"
    },
    "tags": []
   },
   "outputs": [],
   "source": [
    "class tweetModel(BertPreTrainedModel):\n",
    "    def __init__(self, conf):\n",
    "        super(tweetModel, self).__init__(conf)\n",
    "        self.roberta = RobertaModel.from_pretrained(model_dir, config=conf)\n",
    "        self.drop_out = nn.Dropout(0.1)\n",
    "        self.l0 = nn.Linear(768 * 2, 2)\n",
    "        torch.nn.init.normal_(self.l0.weight, std=0.02)\n",
    "    \n",
    "    def forward(self, dictionary):\n",
    "        outputs = self.roberta(\n",
    "            dictionary[\"input_ids\"],\n",
    "            attention_mask=dictionary[\"attention_mask\"],\n",
    "            token_type_ids=dictionary[\"token_type_ids\"]\n",
    "        )\n",
    "\n",
    "        out = torch.cat((outputs[2][-1], outputs[2][-2]), dim=-1)\n",
    "        out = self.drop_out(out)\n",
    "        logits = self.l0(out)\n",
    "\n",
    "        start_logits, end_logits = logits.split(1, dim=-1)\n",
    "\n",
    "        start_logits = start_logits.squeeze(-1)\n",
    "        end_logits = end_logits.squeeze(-1)\n",
    "\n",
    "        outputs = (start_logits, end_logits)\n",
    "        if \"start_positions\" in dictionary and \"end_positions\" in dictionary:  # if the output positions given also calculate and return the loss\n",
    "            if dictionary[\"start_positions\"] is not None and dictionary[\"end_positions\"] is not None:\n",
    "                if len(dictionary[\"start_positions\"].size()) > 1:\n",
    "                    dictionary[\"start_positions\"] = dictionary[\"start_positions\"].squeeze(-1)\n",
    "                if len(dictionary[\"end_positions\"].size()) > 1:\n",
    "                    dictionary[\"end_positions\"] = dictionary[\"end_positions\"].squeeze(-1)\n",
    "                # sometimes the start/end positions are outside our model inputs, we ignore these terms\n",
    "                ignored_index = start_logits.size(1)\n",
    "                dictionary[\"start_positions\"].clamp_(0, ignored_index)\n",
    "                dictionary[\"end_positions\"].clamp_(0, ignored_index)\n",
    "\n",
    "                loss_fct = nn.CrossEntropyLoss(ignore_index=ignored_index)\n",
    "                start_loss = loss_fct(start_logits, dictionary[\"start_positions\"])\n",
    "                end_loss = loss_fct(end_logits, dictionary[\"end_positions\"])\n",
    "                total_loss = (start_loss + end_loss) / 2 # basicly average of start positon and end positon loss\n",
    "                outputs = (total_loss,) + outputs\n",
    "\n",
    "        return outputs  # (loss), start_logits, end_logits"
   ]
  },
  {
   "cell_type": "code",
   "execution_count": 54,
   "metadata": {
    "execution": {
     "iopub.execute_input": "2020-10-21T16:41:56.069361Z",
     "iopub.status.busy": "2020-10-21T16:41:56.068721Z",
     "iopub.status.idle": "2020-10-21T16:42:07.555602Z",
     "shell.execute_reply": "2020-10-21T16:42:07.556122Z"
    },
    "id": "6F-tBYS2eF4i",
    "outputId": "f16a1280-75e7-45b0-f23e-f95f6da8fa07",
    "papermill": {
     "duration": 11.581444,
     "end_time": "2020-10-21T16:42:07.556270",
     "exception": false,
     "start_time": "2020-10-21T16:41:55.974826",
     "status": "completed"
    },
    "tags": []
   },
   "outputs": [
    {
     "data": {
      "text/plain": [
       "tweetModel(\n",
       "  (roberta): RobertaModel(\n",
       "    (embeddings): RobertaEmbeddings(\n",
       "      (word_embeddings): Embedding(50265, 768, padding_idx=1)\n",
       "      (position_embeddings): Embedding(514, 768, padding_idx=1)\n",
       "      (token_type_embeddings): Embedding(1, 768)\n",
       "      (LayerNorm): LayerNorm((768,), eps=1e-05, elementwise_affine=True)\n",
       "      (dropout): Dropout(p=0.1, inplace=False)\n",
       "    )\n",
       "    (encoder): BertEncoder(\n",
       "      (layer): ModuleList(\n",
       "        (0): BertLayer(\n",
       "          (attention): BertAttention(\n",
       "            (self): BertSelfAttention(\n",
       "              (query): Linear(in_features=768, out_features=768, bias=True)\n",
       "              (key): Linear(in_features=768, out_features=768, bias=True)\n",
       "              (value): Linear(in_features=768, out_features=768, bias=True)\n",
       "              (dropout): Dropout(p=0.1, inplace=False)\n",
       "            )\n",
       "            (output): BertSelfOutput(\n",
       "              (dense): Linear(in_features=768, out_features=768, bias=True)\n",
       "              (LayerNorm): LayerNorm((768,), eps=1e-05, elementwise_affine=True)\n",
       "              (dropout): Dropout(p=0.1, inplace=False)\n",
       "            )\n",
       "          )\n",
       "          (intermediate): BertIntermediate(\n",
       "            (dense): Linear(in_features=768, out_features=3072, bias=True)\n",
       "          )\n",
       "          (output): BertOutput(\n",
       "            (dense): Linear(in_features=3072, out_features=768, bias=True)\n",
       "            (LayerNorm): LayerNorm((768,), eps=1e-05, elementwise_affine=True)\n",
       "            (dropout): Dropout(p=0.1, inplace=False)\n",
       "          )\n",
       "        )\n",
       "        (1): BertLayer(\n",
       "          (attention): BertAttention(\n",
       "            (self): BertSelfAttention(\n",
       "              (query): Linear(in_features=768, out_features=768, bias=True)\n",
       "              (key): Linear(in_features=768, out_features=768, bias=True)\n",
       "              (value): Linear(in_features=768, out_features=768, bias=True)\n",
       "              (dropout): Dropout(p=0.1, inplace=False)\n",
       "            )\n",
       "            (output): BertSelfOutput(\n",
       "              (dense): Linear(in_features=768, out_features=768, bias=True)\n",
       "              (LayerNorm): LayerNorm((768,), eps=1e-05, elementwise_affine=True)\n",
       "              (dropout): Dropout(p=0.1, inplace=False)\n",
       "            )\n",
       "          )\n",
       "          (intermediate): BertIntermediate(\n",
       "            (dense): Linear(in_features=768, out_features=3072, bias=True)\n",
       "          )\n",
       "          (output): BertOutput(\n",
       "            (dense): Linear(in_features=3072, out_features=768, bias=True)\n",
       "            (LayerNorm): LayerNorm((768,), eps=1e-05, elementwise_affine=True)\n",
       "            (dropout): Dropout(p=0.1, inplace=False)\n",
       "          )\n",
       "        )\n",
       "        (2): BertLayer(\n",
       "          (attention): BertAttention(\n",
       "            (self): BertSelfAttention(\n",
       "              (query): Linear(in_features=768, out_features=768, bias=True)\n",
       "              (key): Linear(in_features=768, out_features=768, bias=True)\n",
       "              (value): Linear(in_features=768, out_features=768, bias=True)\n",
       "              (dropout): Dropout(p=0.1, inplace=False)\n",
       "            )\n",
       "            (output): BertSelfOutput(\n",
       "              (dense): Linear(in_features=768, out_features=768, bias=True)\n",
       "              (LayerNorm): LayerNorm((768,), eps=1e-05, elementwise_affine=True)\n",
       "              (dropout): Dropout(p=0.1, inplace=False)\n",
       "            )\n",
       "          )\n",
       "          (intermediate): BertIntermediate(\n",
       "            (dense): Linear(in_features=768, out_features=3072, bias=True)\n",
       "          )\n",
       "          (output): BertOutput(\n",
       "            (dense): Linear(in_features=3072, out_features=768, bias=True)\n",
       "            (LayerNorm): LayerNorm((768,), eps=1e-05, elementwise_affine=True)\n",
       "            (dropout): Dropout(p=0.1, inplace=False)\n",
       "          )\n",
       "        )\n",
       "        (3): BertLayer(\n",
       "          (attention): BertAttention(\n",
       "            (self): BertSelfAttention(\n",
       "              (query): Linear(in_features=768, out_features=768, bias=True)\n",
       "              (key): Linear(in_features=768, out_features=768, bias=True)\n",
       "              (value): Linear(in_features=768, out_features=768, bias=True)\n",
       "              (dropout): Dropout(p=0.1, inplace=False)\n",
       "            )\n",
       "            (output): BertSelfOutput(\n",
       "              (dense): Linear(in_features=768, out_features=768, bias=True)\n",
       "              (LayerNorm): LayerNorm((768,), eps=1e-05, elementwise_affine=True)\n",
       "              (dropout): Dropout(p=0.1, inplace=False)\n",
       "            )\n",
       "          )\n",
       "          (intermediate): BertIntermediate(\n",
       "            (dense): Linear(in_features=768, out_features=3072, bias=True)\n",
       "          )\n",
       "          (output): BertOutput(\n",
       "            (dense): Linear(in_features=3072, out_features=768, bias=True)\n",
       "            (LayerNorm): LayerNorm((768,), eps=1e-05, elementwise_affine=True)\n",
       "            (dropout): Dropout(p=0.1, inplace=False)\n",
       "          )\n",
       "        )\n",
       "        (4): BertLayer(\n",
       "          (attention): BertAttention(\n",
       "            (self): BertSelfAttention(\n",
       "              (query): Linear(in_features=768, out_features=768, bias=True)\n",
       "              (key): Linear(in_features=768, out_features=768, bias=True)\n",
       "              (value): Linear(in_features=768, out_features=768, bias=True)\n",
       "              (dropout): Dropout(p=0.1, inplace=False)\n",
       "            )\n",
       "            (output): BertSelfOutput(\n",
       "              (dense): Linear(in_features=768, out_features=768, bias=True)\n",
       "              (LayerNorm): LayerNorm((768,), eps=1e-05, elementwise_affine=True)\n",
       "              (dropout): Dropout(p=0.1, inplace=False)\n",
       "            )\n",
       "          )\n",
       "          (intermediate): BertIntermediate(\n",
       "            (dense): Linear(in_features=768, out_features=3072, bias=True)\n",
       "          )\n",
       "          (output): BertOutput(\n",
       "            (dense): Linear(in_features=3072, out_features=768, bias=True)\n",
       "            (LayerNorm): LayerNorm((768,), eps=1e-05, elementwise_affine=True)\n",
       "            (dropout): Dropout(p=0.1, inplace=False)\n",
       "          )\n",
       "        )\n",
       "        (5): BertLayer(\n",
       "          (attention): BertAttention(\n",
       "            (self): BertSelfAttention(\n",
       "              (query): Linear(in_features=768, out_features=768, bias=True)\n",
       "              (key): Linear(in_features=768, out_features=768, bias=True)\n",
       "              (value): Linear(in_features=768, out_features=768, bias=True)\n",
       "              (dropout): Dropout(p=0.1, inplace=False)\n",
       "            )\n",
       "            (output): BertSelfOutput(\n",
       "              (dense): Linear(in_features=768, out_features=768, bias=True)\n",
       "              (LayerNorm): LayerNorm((768,), eps=1e-05, elementwise_affine=True)\n",
       "              (dropout): Dropout(p=0.1, inplace=False)\n",
       "            )\n",
       "          )\n",
       "          (intermediate): BertIntermediate(\n",
       "            (dense): Linear(in_features=768, out_features=3072, bias=True)\n",
       "          )\n",
       "          (output): BertOutput(\n",
       "            (dense): Linear(in_features=3072, out_features=768, bias=True)\n",
       "            (LayerNorm): LayerNorm((768,), eps=1e-05, elementwise_affine=True)\n",
       "            (dropout): Dropout(p=0.1, inplace=False)\n",
       "          )\n",
       "        )\n",
       "        (6): BertLayer(\n",
       "          (attention): BertAttention(\n",
       "            (self): BertSelfAttention(\n",
       "              (query): Linear(in_features=768, out_features=768, bias=True)\n",
       "              (key): Linear(in_features=768, out_features=768, bias=True)\n",
       "              (value): Linear(in_features=768, out_features=768, bias=True)\n",
       "              (dropout): Dropout(p=0.1, inplace=False)\n",
       "            )\n",
       "            (output): BertSelfOutput(\n",
       "              (dense): Linear(in_features=768, out_features=768, bias=True)\n",
       "              (LayerNorm): LayerNorm((768,), eps=1e-05, elementwise_affine=True)\n",
       "              (dropout): Dropout(p=0.1, inplace=False)\n",
       "            )\n",
       "          )\n",
       "          (intermediate): BertIntermediate(\n",
       "            (dense): Linear(in_features=768, out_features=3072, bias=True)\n",
       "          )\n",
       "          (output): BertOutput(\n",
       "            (dense): Linear(in_features=3072, out_features=768, bias=True)\n",
       "            (LayerNorm): LayerNorm((768,), eps=1e-05, elementwise_affine=True)\n",
       "            (dropout): Dropout(p=0.1, inplace=False)\n",
       "          )\n",
       "        )\n",
       "        (7): BertLayer(\n",
       "          (attention): BertAttention(\n",
       "            (self): BertSelfAttention(\n",
       "              (query): Linear(in_features=768, out_features=768, bias=True)\n",
       "              (key): Linear(in_features=768, out_features=768, bias=True)\n",
       "              (value): Linear(in_features=768, out_features=768, bias=True)\n",
       "              (dropout): Dropout(p=0.1, inplace=False)\n",
       "            )\n",
       "            (output): BertSelfOutput(\n",
       "              (dense): Linear(in_features=768, out_features=768, bias=True)\n",
       "              (LayerNorm): LayerNorm((768,), eps=1e-05, elementwise_affine=True)\n",
       "              (dropout): Dropout(p=0.1, inplace=False)\n",
       "            )\n",
       "          )\n",
       "          (intermediate): BertIntermediate(\n",
       "            (dense): Linear(in_features=768, out_features=3072, bias=True)\n",
       "          )\n",
       "          (output): BertOutput(\n",
       "            (dense): Linear(in_features=3072, out_features=768, bias=True)\n",
       "            (LayerNorm): LayerNorm((768,), eps=1e-05, elementwise_affine=True)\n",
       "            (dropout): Dropout(p=0.1, inplace=False)\n",
       "          )\n",
       "        )\n",
       "        (8): BertLayer(\n",
       "          (attention): BertAttention(\n",
       "            (self): BertSelfAttention(\n",
       "              (query): Linear(in_features=768, out_features=768, bias=True)\n",
       "              (key): Linear(in_features=768, out_features=768, bias=True)\n",
       "              (value): Linear(in_features=768, out_features=768, bias=True)\n",
       "              (dropout): Dropout(p=0.1, inplace=False)\n",
       "            )\n",
       "            (output): BertSelfOutput(\n",
       "              (dense): Linear(in_features=768, out_features=768, bias=True)\n",
       "              (LayerNorm): LayerNorm((768,), eps=1e-05, elementwise_affine=True)\n",
       "              (dropout): Dropout(p=0.1, inplace=False)\n",
       "            )\n",
       "          )\n",
       "          (intermediate): BertIntermediate(\n",
       "            (dense): Linear(in_features=768, out_features=3072, bias=True)\n",
       "          )\n",
       "          (output): BertOutput(\n",
       "            (dense): Linear(in_features=3072, out_features=768, bias=True)\n",
       "            (LayerNorm): LayerNorm((768,), eps=1e-05, elementwise_affine=True)\n",
       "            (dropout): Dropout(p=0.1, inplace=False)\n",
       "          )\n",
       "        )\n",
       "        (9): BertLayer(\n",
       "          (attention): BertAttention(\n",
       "            (self): BertSelfAttention(\n",
       "              (query): Linear(in_features=768, out_features=768, bias=True)\n",
       "              (key): Linear(in_features=768, out_features=768, bias=True)\n",
       "              (value): Linear(in_features=768, out_features=768, bias=True)\n",
       "              (dropout): Dropout(p=0.1, inplace=False)\n",
       "            )\n",
       "            (output): BertSelfOutput(\n",
       "              (dense): Linear(in_features=768, out_features=768, bias=True)\n",
       "              (LayerNorm): LayerNorm((768,), eps=1e-05, elementwise_affine=True)\n",
       "              (dropout): Dropout(p=0.1, inplace=False)\n",
       "            )\n",
       "          )\n",
       "          (intermediate): BertIntermediate(\n",
       "            (dense): Linear(in_features=768, out_features=3072, bias=True)\n",
       "          )\n",
       "          (output): BertOutput(\n",
       "            (dense): Linear(in_features=3072, out_features=768, bias=True)\n",
       "            (LayerNorm): LayerNorm((768,), eps=1e-05, elementwise_affine=True)\n",
       "            (dropout): Dropout(p=0.1, inplace=False)\n",
       "          )\n",
       "        )\n",
       "        (10): BertLayer(\n",
       "          (attention): BertAttention(\n",
       "            (self): BertSelfAttention(\n",
       "              (query): Linear(in_features=768, out_features=768, bias=True)\n",
       "              (key): Linear(in_features=768, out_features=768, bias=True)\n",
       "              (value): Linear(in_features=768, out_features=768, bias=True)\n",
       "              (dropout): Dropout(p=0.1, inplace=False)\n",
       "            )\n",
       "            (output): BertSelfOutput(\n",
       "              (dense): Linear(in_features=768, out_features=768, bias=True)\n",
       "              (LayerNorm): LayerNorm((768,), eps=1e-05, elementwise_affine=True)\n",
       "              (dropout): Dropout(p=0.1, inplace=False)\n",
       "            )\n",
       "          )\n",
       "          (intermediate): BertIntermediate(\n",
       "            (dense): Linear(in_features=768, out_features=3072, bias=True)\n",
       "          )\n",
       "          (output): BertOutput(\n",
       "            (dense): Linear(in_features=3072, out_features=768, bias=True)\n",
       "            (LayerNorm): LayerNorm((768,), eps=1e-05, elementwise_affine=True)\n",
       "            (dropout): Dropout(p=0.1, inplace=False)\n",
       "          )\n",
       "        )\n",
       "        (11): BertLayer(\n",
       "          (attention): BertAttention(\n",
       "            (self): BertSelfAttention(\n",
       "              (query): Linear(in_features=768, out_features=768, bias=True)\n",
       "              (key): Linear(in_features=768, out_features=768, bias=True)\n",
       "              (value): Linear(in_features=768, out_features=768, bias=True)\n",
       "              (dropout): Dropout(p=0.1, inplace=False)\n",
       "            )\n",
       "            (output): BertSelfOutput(\n",
       "              (dense): Linear(in_features=768, out_features=768, bias=True)\n",
       "              (LayerNorm): LayerNorm((768,), eps=1e-05, elementwise_affine=True)\n",
       "              (dropout): Dropout(p=0.1, inplace=False)\n",
       "            )\n",
       "          )\n",
       "          (intermediate): BertIntermediate(\n",
       "            (dense): Linear(in_features=768, out_features=3072, bias=True)\n",
       "          )\n",
       "          (output): BertOutput(\n",
       "            (dense): Linear(in_features=3072, out_features=768, bias=True)\n",
       "            (LayerNorm): LayerNorm((768,), eps=1e-05, elementwise_affine=True)\n",
       "            (dropout): Dropout(p=0.1, inplace=False)\n",
       "          )\n",
       "        )\n",
       "      )\n",
       "    )\n",
       "    (pooler): BertPooler(\n",
       "      (dense): Linear(in_features=768, out_features=768, bias=True)\n",
       "      (activation): Tanh()\n",
       "    )\n",
       "  )\n",
       "  (drop_out): Dropout(p=0.1, inplace=False)\n",
       "  (l0): Linear(in_features=1536, out_features=2, bias=True)\n",
       ")"
      ]
     },
     "execution_count": 54,
     "metadata": {},
     "output_type": "execute_result"
    }
   ],
   "source": [
    "rb_config = RobertaConfig.from_pretrained(model_dir , output_hidden_states = True)\n",
    "\n",
    "# Initializing a model\n",
    "model = tweetModel(conf=rb_config)\n",
    "model.to(device)"
   ]
  },
  {
   "cell_type": "markdown",
   "metadata": {
    "id": "CjI30Pr27uCW",
    "papermill": {
     "duration": 0.093413,
     "end_time": "2020-10-21T16:42:07.742086",
     "exception": false,
     "start_time": "2020-10-21T16:42:07.648673",
     "status": "completed"
    },
    "tags": []
   },
   "source": [
    "#### Preparing optimizer"
   ]
  },
  {
   "cell_type": "code",
   "execution_count": 55,
   "metadata": {
    "execution": {
     "iopub.execute_input": "2020-10-21T16:42:07.939096Z",
     "iopub.status.busy": "2020-10-21T16:42:07.938282Z",
     "iopub.status.idle": "2020-10-21T16:42:07.942331Z",
     "shell.execute_reply": "2020-10-21T16:42:07.941764Z"
    },
    "id": "IefJxxe-JXlJ",
    "papermill": {
     "duration": 0.107449,
     "end_time": "2020-10-21T16:42:07.942450",
     "exception": false,
     "start_time": "2020-10-21T16:42:07.835001",
     "status": "completed"
    },
    "tags": []
   },
   "outputs": [],
   "source": [
    "# prepare optimizer\n",
    "param_optimizer = list(model.named_parameters())\n",
    "# hack to remove \"pooler\"  which is not used\n",
    "param_optimizer = [n for n in param_optimizer if 'pooler' not in n[0]]\n",
    "\n",
    "no_decay =['bias','LayerNorm.weight']\n",
    "optimizer_grouped_parameters =[\n",
    "    {'params':[ p for n , p in param_optimizer \n",
    "               if not any(nd in n for nd in no_decay)],'weight_decay':0.01},\n",
    "    {'params':[p for n, p in param_optimizer\n",
    "               if any(nd in n for nd in no_decay)],'weigth_decay':0.0}\n",
    "    ]\n",
    "\n",
    "optimizer = AdamW(optimizer_grouped_parameters,\n",
    "                  lr = learning_rate,\n",
    "                  eps = adam_epsilon\n",
    "                 )"
   ]
  },
  {
   "cell_type": "markdown",
   "metadata": {
    "id": "4nD2DCKo7x1P",
    "papermill": {
     "duration": 0.09173,
     "end_time": "2020-10-21T16:42:08.128588",
     "exception": false,
     "start_time": "2020-10-21T16:42:08.036858",
     "status": "completed"
    },
    "tags": []
   },
   "source": [
    "#### Preparing scheduler"
   ]
  },
  {
   "cell_type": "code",
   "execution_count": 56,
   "metadata": {
    "execution": {
     "iopub.execute_input": "2020-10-21T16:42:08.318687Z",
     "iopub.status.busy": "2020-10-21T16:42:08.317959Z",
     "iopub.status.idle": "2020-10-21T16:42:08.322252Z",
     "shell.execute_reply": "2020-10-21T16:42:08.321760Z"
    },
    "id": "PKPGb64498cC",
    "papermill": {
     "duration": 0.101465,
     "end_time": "2020-10-21T16:42:08.322346",
     "exception": false,
     "start_time": "2020-10-21T16:42:08.220881",
     "status": "completed"
    },
    "tags": []
   },
   "outputs": [],
   "source": [
    "# Total number of training steps is [number of batches] x [number of epochs]. \n",
    "total_steps = len(train_dataloader) * epochs\n",
    "\n",
    "# Create the learning rate scheduler.\n",
    "scheduler = get_linear_schedule_with_warmup(optimizer, \n",
    "                                            num_warmup_steps = 0, # Default value in run_squad.py\n",
    "                                            num_training_steps = total_steps)"
   ]
  },
  {
   "cell_type": "markdown",
   "metadata": {
    "id": "HOI7KVXDbyc6",
    "papermill": {
     "duration": 0.092107,
     "end_time": "2020-10-21T16:42:08.510221",
     "exception": false,
     "start_time": "2020-10-21T16:42:08.418114",
     "status": "completed"
    },
    "tags": []
   },
   "source": [
    "# TRAINING"
   ]
  },
  {
   "cell_type": "code",
   "execution_count": 57,
   "metadata": {
    "execution": {
     "iopub.execute_input": "2020-10-21T16:42:08.700721Z",
     "iopub.status.busy": "2020-10-21T16:42:08.698647Z",
     "iopub.status.idle": "2020-10-21T16:42:08.701527Z",
     "shell.execute_reply": "2020-10-21T16:42:08.702096Z"
    },
    "id": "Qj9IA7Vo98YG",
    "papermill": {
     "duration": 0.100335,
     "end_time": "2020-10-21T16:42:08.702217",
     "exception": false,
     "start_time": "2020-10-21T16:42:08.601882",
     "status": "completed"
    },
    "tags": []
   },
   "outputs": [],
   "source": [
    "def format_time(elapsed):\n",
    "    '''\n",
    "    Takes a time in seconds and returns a string hh:mm:ss\n",
    "    '''\n",
    "    # Round to the nearest second.\n",
    "    elapsed_rounded = int(round((elapsed)))\n",
    "    \n",
    "    # Format as hh:mm:ss\n",
    "    return str(datetime.timedelta(seconds=elapsed_rounded))"
   ]
  },
  {
   "cell_type": "markdown",
   "metadata": {
    "id": "Cam38Roqj9cA",
    "papermill": {
     "duration": 0.09406,
     "end_time": "2020-10-21T16:42:08.890314",
     "exception": false,
     "start_time": "2020-10-21T16:42:08.796254",
     "status": "completed"
    },
    "tags": []
   },
   "source": [
    "### Train function"
   ]
  },
  {
   "cell_type": "code",
   "execution_count": 58,
   "metadata": {
    "execution": {
     "iopub.execute_input": "2020-10-21T16:42:09.102580Z",
     "iopub.status.busy": "2020-10-21T16:42:09.101598Z",
     "iopub.status.idle": "2020-10-21T16:42:09.104396Z",
     "shell.execute_reply": "2020-10-21T16:42:09.103925Z"
    },
    "id": "G7SieB5J98VN",
    "papermill": {
     "duration": 0.121101,
     "end_time": "2020-10-21T16:42:09.104515",
     "exception": false,
     "start_time": "2020-10-21T16:42:08.983414",
     "status": "completed"
    },
    "tags": []
   },
   "outputs": [],
   "source": [
    "# This training code is based on the `run_squad.py` script here:\n",
    "# https://github.com/huggingface/transformers/blob/master/examples/question-answering/run_squad.py\n",
    "def train(model, optimizer, scheduler, epochs, train_dataloader, validation_dataloader, training_stats): \n",
    "    # Measure the total training time for the whole run.\n",
    "    total_t0 = time.time()\n",
    "\n",
    "    # For each epoch...\n",
    "    for epoch_i in range(0, epochs):\n",
    "        # ========================================\n",
    "        #               Training\n",
    "        # ========================================\n",
    "\n",
    "        # Perform one full pass over the training set.\n",
    "        print('\\n======== Epoch {:} / {:} ========'.format(epoch_i + 1, epochs))\n",
    "        print('Training...')\n",
    "\n",
    "        # Measure how long this training epoch takes.\n",
    "        t0 = time.time()\n",
    "\n",
    "        # Reset the total loss for this epoch.\n",
    "        total_train_loss = 0\n",
    "\n",
    "        # Put the model into training mode. Don't be mislead--the call to \n",
    "        # `train` just changes the *mode*, it doesn't *perform* the training.\n",
    "        # `dropout` and `batchnorm` layers behave differently during training\n",
    "        # vs. test (source: https://stackoverflow.com/questions/51433378/what-does-model-train-do-in-pytorch)\n",
    "        model.train()\n",
    "        # For each batch of training data...\n",
    "        for step, batch in enumerate(train_dataloader):\n",
    "          # we'll copy each tensor to the GPU using the `to` method.\n",
    "            batch_device = tuple(t.to(device) for t in batch)\n",
    "            # Progress update every 20 batches.\n",
    "            if step % 20 == 0 and not step == 0:\n",
    "                # Calculate elapsed time in minutes.\n",
    "                elapsed = format_time(time.time() - t0)\n",
    "                # Report progress.\n",
    "                print('  Batch {:>5,}  of  {:>5,}.    Elapsed: {:}.'.format(step, len(train_dataloader), elapsed))\n",
    "            # a `batch` contains five pytorch tensors:\n",
    "            #   [0]: input ids \n",
    "            #   [1]: attention masks\n",
    "            #   [2]: token type ids\n",
    "            #   [3]: selected text start position in text\n",
    "            #   [4]: selected text end position in text\n",
    "            inputs = {\n",
    "                      \"input_ids\": batch_device[0],\n",
    "                      \"attention_mask\": batch_device[1],\n",
    "                      \"token_type_ids\": batch_device[2],\n",
    "                      \"start_positions\": batch_device[3],\n",
    "                      \"end_positions\": batch_device[4],\n",
    "                      }\n",
    "\n",
    "            # Always clear any previously calculated gradients before performing a\n",
    "            # backward pass. PyTorch doesn't do this automatically because \n",
    "            # accumulating the gradients is \"convenient while training RNNs\". \n",
    "            # (source: https://stackoverflow.com/questions/48001598/why-do-we-need-to-call-zero-grad-in-pytorch)\n",
    "            model.zero_grad()        \n",
    "\n",
    "            # It returns different numbers of parameters depending on what arguments\n",
    "            # are given and what flags are set. For our useage here, it returns\n",
    "            # the loss (because we provided start and end positions) and the \"logits\"\n",
    "            # --the model outputs prior to activation.\n",
    "            outputs = model(inputs)\n",
    "            loss = outputs[0]\n",
    "\n",
    "            # Accumulate the training loss over all of the batches so that we can\n",
    "            # calculate the average loss at the end. `loss` is a Tensor containing a\n",
    "            # single value; the `.item()` function just returns the Python value \n",
    "            # from the tensor.\n",
    "            total_train_loss += loss.item()\n",
    "\n",
    "            # Perform a backward pass to calculate the gradients.\n",
    "            loss.backward()\n",
    "\n",
    "            # Clip the norm of the gradients to 1.0.\n",
    "            # This is to help prevent the \"exploding gradients\" problem.\n",
    "            torch.nn.utils.clip_grad_norm_(model.parameters(), 1.0)\n",
    "\n",
    "            # Update parameters and take a step using the computed gradient.\n",
    "            # The optimizer dictates the \"update rule\"--how the parameters are\n",
    "            # modified based on their gradients, the learning rate, etc.\n",
    "            optimizer.step()\n",
    "\n",
    "            # Update the learning rate.\n",
    "            scheduler.step()\n",
    "\n",
    "        # Calculate the average loss over all of the batches.\n",
    "        avg_train_loss = total_train_loss / len(train_dataloader)            \n",
    "\n",
    "        # Measure how long this epoch took.\n",
    "        training_time = format_time(time.time() - t0)\n",
    "\n",
    "        print(\"\\n  Average training loss: {0:.2f}\".format(avg_train_loss))\n",
    "        print(\"  Training epoch took: {:}\".format(training_time))\n",
    "\n",
    "        # ========================================\n",
    "        #               Validation\n",
    "        # ========================================\n",
    "        # After the completion of each training epoch, measure our performance on\n",
    "        # our validation set.\n",
    "        print(\"\\nRunning Validation...\")\n",
    "\n",
    "        t0 = time.time()\n",
    "\n",
    "        # Put the model in evaluation mode--the dropout layers behave differently\n",
    "        # during evaluation.\n",
    "        model.eval()\n",
    "\n",
    "        # Tracking variables\n",
    "        total_eval_accuracy = 0\n",
    "        total_eval_loss = 0\n",
    "        nb_eval_steps = 0\n",
    "\n",
    "        # Evaluate data for one epoch and unpack the batches from the dataloader.\n",
    "        for batch in validation_dataloader:\n",
    "            batch_device = tuple(t.to(device) for t in batch)\n",
    "            inputs = {\n",
    "                      \"input_ids\": batch_device[0],\n",
    "                      \"attention_mask\": batch_device[1],\n",
    "                      \"token_type_ids\": batch_device[2],\n",
    "                      \"start_positions\": batch_device[3],\n",
    "                      \"end_positions\": batch_device[4],\n",
    "                      }\n",
    "\n",
    "            # Tell pytorch not to bother with constructing the compute graph during\n",
    "            # the forward pass, since this is only needed for backprop (training).\n",
    "            with torch.no_grad():        \n",
    "                outputs = model(inputs)\n",
    "                loss = outputs[0]\n",
    "\n",
    "            # Accumulate the validation loss.\n",
    "            total_eval_loss += loss.item()\n",
    "\n",
    "        # Calculate the average loss over all of the batches.\n",
    "        avg_val_loss = total_eval_loss / len(validation_dataloader)\n",
    "\n",
    "        # Measure how long the validation run took.\n",
    "        validation_time = format_time(time.time() - t0)\n",
    "\n",
    "        print(\"  Validation Loss: {0:.2f}\".format(avg_val_loss))\n",
    "        print(\"  Validation took: {:}\".format(validation_time))\n",
    "\n",
    "        # Record all statistics from this epoch.\n",
    "        training_stats.append({\n",
    "                                'epoch': epoch_i + 1,\n",
    "                                'Training Loss': avg_train_loss,\n",
    "                                'Valid. Loss': avg_val_loss,\n",
    "                                'Training Time': training_time,\n",
    "                                'Validation Time': validation_time\n",
    "                              })\n",
    "\n",
    "    print(\"\")\n",
    "    print(\"Training complete!\")\n",
    "\n",
    "    print(\"Total training took {:} (h:mm:ss)\".format(format_time(time.time()-total_t0)))"
   ]
  },
  {
   "cell_type": "markdown",
   "metadata": {
    "id": "dLYkLjXHkCOv",
    "papermill": {
     "duration": 0.091733,
     "end_time": "2020-10-21T16:42:09.288761",
     "exception": false,
     "start_time": "2020-10-21T16:42:09.197028",
     "status": "completed"
    },
    "tags": []
   },
   "source": [
    "### Train process"
   ]
  },
  {
   "cell_type": "code",
   "execution_count": 59,
   "metadata": {
    "execution": {
     "iopub.execute_input": "2020-10-21T16:42:09.483829Z",
     "iopub.status.busy": "2020-10-21T16:42:09.482965Z",
     "iopub.status.idle": "2020-10-21T16:53:31.968671Z",
     "shell.execute_reply": "2020-10-21T16:53:31.968073Z"
    },
    "id": "3Fv4lY8Wfg5q",
    "outputId": "a665e7cf-44f3-4dd2-ec9a-1fb747931d6d",
    "papermill": {
     "duration": 682.58414,
     "end_time": "2020-10-21T16:53:31.968801",
     "exception": false,
     "start_time": "2020-10-21T16:42:09.384661",
     "status": "completed"
    },
    "tags": []
   },
   "outputs": [
    {
     "name": "stdout",
     "output_type": "stream",
     "text": [
      "\n",
      "======== Epoch 1 / 4 ========\n",
      "Training...\n",
      "  Batch    20  of    419.    Elapsed: 0:00:09.\n",
      "  Batch    40  of    419.    Elapsed: 0:00:17.\n",
      "  Batch    60  of    419.    Elapsed: 0:00:25.\n",
      "  Batch    80  of    419.    Elapsed: 0:00:33.\n",
      "  Batch   100  of    419.    Elapsed: 0:00:41.\n",
      "  Batch   120  of    419.    Elapsed: 0:00:49.\n",
      "  Batch   140  of    419.    Elapsed: 0:00:57.\n",
      "  Batch   160  of    419.    Elapsed: 0:01:06.\n",
      "  Batch   180  of    419.    Elapsed: 0:01:14.\n",
      "  Batch   200  of    419.    Elapsed: 0:01:22.\n",
      "  Batch   220  of    419.    Elapsed: 0:01:30.\n",
      "  Batch   240  of    419.    Elapsed: 0:01:38.\n",
      "  Batch   260  of    419.    Elapsed: 0:01:46.\n",
      "  Batch   280  of    419.    Elapsed: 0:01:55.\n",
      "  Batch   300  of    419.    Elapsed: 0:02:03.\n",
      "  Batch   320  of    419.    Elapsed: 0:02:11.\n",
      "  Batch   340  of    419.    Elapsed: 0:02:19.\n",
      "  Batch   360  of    419.    Elapsed: 0:02:27.\n",
      "  Batch   380  of    419.    Elapsed: 0:02:35.\n",
      "  Batch   400  of    419.    Elapsed: 0:02:43.\n",
      "\n",
      "  Average training loss: 1.23\n",
      "  Training epoch took: 0:02:51\n",
      "\n",
      "Running Validation...\n",
      "  Validation Loss: 0.90\n",
      "  Validation took: 0:00:01\n",
      "\n",
      "======== Epoch 2 / 4 ========\n",
      "Training...\n",
      "  Batch    20  of    419.    Elapsed: 0:00:08.\n",
      "  Batch    40  of    419.    Elapsed: 0:00:16.\n",
      "  Batch    60  of    419.    Elapsed: 0:00:24.\n",
      "  Batch    80  of    419.    Elapsed: 0:00:33.\n",
      "  Batch   100  of    419.    Elapsed: 0:00:41.\n",
      "  Batch   120  of    419.    Elapsed: 0:00:49.\n",
      "  Batch   140  of    419.    Elapsed: 0:00:57.\n",
      "  Batch   160  of    419.    Elapsed: 0:01:05.\n",
      "  Batch   180  of    419.    Elapsed: 0:01:13.\n",
      "  Batch   200  of    419.    Elapsed: 0:01:21.\n",
      "  Batch   220  of    419.    Elapsed: 0:01:29.\n",
      "  Batch   240  of    419.    Elapsed: 0:01:38.\n",
      "  Batch   260  of    419.    Elapsed: 0:01:46.\n",
      "  Batch   280  of    419.    Elapsed: 0:01:54.\n",
      "  Batch   300  of    419.    Elapsed: 0:02:02.\n",
      "  Batch   320  of    419.    Elapsed: 0:02:10.\n",
      "  Batch   340  of    419.    Elapsed: 0:02:18.\n",
      "  Batch   360  of    419.    Elapsed: 0:02:26.\n",
      "  Batch   380  of    419.    Elapsed: 0:02:34.\n",
      "  Batch   400  of    419.    Elapsed: 0:02:42.\n",
      "\n",
      "  Average training loss: 0.81\n",
      "  Training epoch took: 0:02:50\n",
      "\n",
      "Running Validation...\n",
      "  Validation Loss: 0.85\n",
      "  Validation took: 0:00:01\n",
      "\n",
      "======== Epoch 3 / 4 ========\n",
      "Training...\n",
      "  Batch    20  of    419.    Elapsed: 0:00:08.\n",
      "  Batch    40  of    419.    Elapsed: 0:00:16.\n",
      "  Batch    60  of    419.    Elapsed: 0:00:24.\n",
      "  Batch    80  of    419.    Elapsed: 0:00:32.\n",
      "  Batch   100  of    419.    Elapsed: 0:00:41.\n",
      "  Batch   120  of    419.    Elapsed: 0:00:49.\n",
      "  Batch   140  of    419.    Elapsed: 0:00:57.\n",
      "  Batch   160  of    419.    Elapsed: 0:01:05.\n",
      "  Batch   180  of    419.    Elapsed: 0:01:13.\n",
      "  Batch   200  of    419.    Elapsed: 0:01:21.\n",
      "  Batch   220  of    419.    Elapsed: 0:01:29.\n",
      "  Batch   240  of    419.    Elapsed: 0:01:37.\n",
      "  Batch   260  of    419.    Elapsed: 0:01:46.\n",
      "  Batch   280  of    419.    Elapsed: 0:01:54.\n",
      "  Batch   300  of    419.    Elapsed: 0:02:02.\n",
      "  Batch   320  of    419.    Elapsed: 0:02:10.\n",
      "  Batch   340  of    419.    Elapsed: 0:02:18.\n",
      "  Batch   360  of    419.    Elapsed: 0:02:26.\n",
      "  Batch   380  of    419.    Elapsed: 0:02:34.\n",
      "  Batch   400  of    419.    Elapsed: 0:02:42.\n",
      "\n",
      "  Average training loss: 0.71\n",
      "  Training epoch took: 0:02:50\n",
      "\n",
      "Running Validation...\n",
      "  Validation Loss: 0.87\n",
      "  Validation took: 0:00:01\n",
      "\n",
      "======== Epoch 4 / 4 ========\n",
      "Training...\n",
      "  Batch    20  of    419.    Elapsed: 0:00:08.\n",
      "  Batch    40  of    419.    Elapsed: 0:00:16.\n",
      "  Batch    60  of    419.    Elapsed: 0:00:24.\n",
      "  Batch    80  of    419.    Elapsed: 0:00:32.\n",
      "  Batch   100  of    419.    Elapsed: 0:00:41.\n",
      "  Batch   120  of    419.    Elapsed: 0:00:49.\n",
      "  Batch   140  of    419.    Elapsed: 0:00:57.\n",
      "  Batch   160  of    419.    Elapsed: 0:01:05.\n",
      "  Batch   180  of    419.    Elapsed: 0:01:13.\n",
      "  Batch   200  of    419.    Elapsed: 0:01:21.\n",
      "  Batch   220  of    419.    Elapsed: 0:01:29.\n",
      "  Batch   240  of    419.    Elapsed: 0:01:38.\n",
      "  Batch   260  of    419.    Elapsed: 0:01:46.\n",
      "  Batch   280  of    419.    Elapsed: 0:01:54.\n",
      "  Batch   300  of    419.    Elapsed: 0:02:02.\n",
      "  Batch   320  of    419.    Elapsed: 0:02:10.\n",
      "  Batch   340  of    419.    Elapsed: 0:02:18.\n",
      "  Batch   360  of    419.    Elapsed: 0:02:26.\n",
      "  Batch   380  of    419.    Elapsed: 0:02:34.\n",
      "  Batch   400  of    419.    Elapsed: 0:02:42.\n",
      "\n",
      "  Average training loss: 0.63\n",
      "  Training epoch took: 0:02:50\n",
      "\n",
      "Running Validation...\n",
      "  Validation Loss: 0.90\n",
      "  Validation took: 0:00:01\n",
      "\n",
      "Training complete!\n",
      "Total training took 0:11:22 (h:mm:ss)\n"
     ]
    }
   ],
   "source": [
    "training_stats = []\n",
    "train(model, optimizer, scheduler, epochs, train_dataloader, val_dataloader, training_stats)"
   ]
  },
  {
   "cell_type": "markdown",
   "metadata": {
    "id": "QfzpYhsEkKhb",
    "papermill": {
     "duration": 0.128824,
     "end_time": "2020-10-21T16:53:32.225905",
     "exception": false,
     "start_time": "2020-10-21T16:53:32.097081",
     "status": "completed"
    },
    "tags": []
   },
   "source": [
    "### Train process visualization"
   ]
  },
  {
   "cell_type": "code",
   "execution_count": 60,
   "metadata": {
    "execution": {
     "iopub.execute_input": "2020-10-21T16:53:32.493879Z",
     "iopub.status.busy": "2020-10-21T16:53:32.492945Z",
     "iopub.status.idle": "2020-10-21T16:53:32.497053Z",
     "shell.execute_reply": "2020-10-21T16:53:32.497553Z"
    },
    "id": "YCKHxWhfbv9Y",
    "outputId": "ce6d3aa2-7ea9-4cb9-b157-1493797a4c75",
    "papermill": {
     "duration": 0.151423,
     "end_time": "2020-10-21T16:53:32.497678",
     "exception": false,
     "start_time": "2020-10-21T16:53:32.346255",
     "status": "completed"
    },
    "tags": []
   },
   "outputs": [
    {
     "data": {
      "text/html": [
       "<div>\n",
       "<style scoped>\n",
       "    .dataframe tbody tr th:only-of-type {\n",
       "        vertical-align: middle;\n",
       "    }\n",
       "\n",
       "    .dataframe tbody tr th {\n",
       "        vertical-align: top;\n",
       "    }\n",
       "\n",
       "    .dataframe thead th {\n",
       "        text-align: right;\n",
       "    }\n",
       "</style>\n",
       "<table border=\"1\" class=\"dataframe\">\n",
       "  <thead>\n",
       "    <tr style=\"text-align: right;\">\n",
       "      <th></th>\n",
       "      <th>Training Loss</th>\n",
       "      <th>Valid. Loss</th>\n",
       "      <th>Training Time</th>\n",
       "      <th>Validation Time</th>\n",
       "    </tr>\n",
       "    <tr>\n",
       "      <th>epoch</th>\n",
       "      <th></th>\n",
       "      <th></th>\n",
       "      <th></th>\n",
       "      <th></th>\n",
       "    </tr>\n",
       "  </thead>\n",
       "  <tbody>\n",
       "    <tr>\n",
       "      <th>1</th>\n",
       "      <td>1.23</td>\n",
       "      <td>0.90</td>\n",
       "      <td>0:02:51</td>\n",
       "      <td>0:00:01</td>\n",
       "    </tr>\n",
       "    <tr>\n",
       "      <th>2</th>\n",
       "      <td>0.81</td>\n",
       "      <td>0.85</td>\n",
       "      <td>0:02:50</td>\n",
       "      <td>0:00:01</td>\n",
       "    </tr>\n",
       "    <tr>\n",
       "      <th>3</th>\n",
       "      <td>0.71</td>\n",
       "      <td>0.87</td>\n",
       "      <td>0:02:50</td>\n",
       "      <td>0:00:01</td>\n",
       "    </tr>\n",
       "    <tr>\n",
       "      <th>4</th>\n",
       "      <td>0.63</td>\n",
       "      <td>0.90</td>\n",
       "      <td>0:02:50</td>\n",
       "      <td>0:00:01</td>\n",
       "    </tr>\n",
       "  </tbody>\n",
       "</table>\n",
       "</div>"
      ],
      "text/plain": [
       "       Training Loss  Valid. Loss Training Time Validation Time\n",
       "epoch                                                          \n",
       "1               1.23         0.90       0:02:51         0:00:01\n",
       "2               0.81         0.85       0:02:50         0:00:01\n",
       "3               0.71         0.87       0:02:50         0:00:01\n",
       "4               0.63         0.90       0:02:50         0:00:01"
      ]
     },
     "execution_count": 60,
     "metadata": {},
     "output_type": "execute_result"
    }
   ],
   "source": [
    "# Display floats with two decimal places.\n",
    "pd.set_option('precision', 2)\n",
    "\n",
    "# Create a DataFrame from our training statistics.\n",
    "df_stats = pd.DataFrame(data=training_stats)\n",
    "\n",
    "# Use the 'epoch' as the index values.\n",
    "df_stats = df_stats.set_index('epoch')\n",
    "\n",
    "# Display the table.\n",
    "df_stats"
   ]
  },
  {
   "cell_type": "code",
   "execution_count": 61,
   "metadata": {
    "execution": {
     "iopub.execute_input": "2020-10-21T16:53:32.787047Z",
     "iopub.status.busy": "2020-10-21T16:53:32.786163Z",
     "iopub.status.idle": "2020-10-21T16:53:32.984475Z",
     "shell.execute_reply": "2020-10-21T16:53:32.985004Z"
    },
    "id": "QiJgH_6heQgW",
    "outputId": "3228827f-f891-4ddf-f368-7e1b3aed5721",
    "papermill": {
     "duration": 0.343152,
     "end_time": "2020-10-21T16:53:32.985150",
     "exception": false,
     "start_time": "2020-10-21T16:53:32.641998",
     "status": "completed"
    },
    "tags": []
   },
   "outputs": [
    {
     "data": {
      "image/png": "[encoded data removed]",
      "text/plain": [
       "<Figure size 864x432 with 1 Axes>"
      ]
     },
     "metadata": {},
     "output_type": "display_data"
    }
   ],
   "source": [
    "# Use plot styling from seaborn.\n",
    "sns.set(style='darkgrid')\n",
    "\n",
    "# Increase the plot size and font size.\n",
    "sns.set(font_scale=1.5)\n",
    "plt.rcParams[\"figure.figsize\"] = (12,6)\n",
    "\n",
    "# Plot the learning curve.\n",
    "plt.plot(df_stats['Training Loss'], 'b-o', label=\"Training\")\n",
    "plt.plot(df_stats['Valid. Loss'], 'g-o', label=\"Validation\")\n",
    "\n",
    "# Label the plot.\n",
    "plt.title(\"Training & Validation Loss\")\n",
    "plt.xlabel(\"Epoch\")\n",
    "plt.ylabel(\"Loss\")\n",
    "plt.legend()\n",
    "plt.xticks(list(range(1,epochs+1)))\n",
    "\n",
    "plt.show()"
   ]
  },
  {
   "cell_type": "markdown",
   "metadata": {
    "id": "JeWwpVvf9E9R",
    "papermill": {
     "duration": 0.129222,
     "end_time": "2020-10-21T16:53:33.237606",
     "exception": false,
     "start_time": "2020-10-21T16:53:33.108384",
     "status": "completed"
    },
    "tags": []
   },
   "source": [
    "### Prediction sampling"
   ]
  },
  {
   "cell_type": "code",
   "execution_count": 62,
   "metadata": {
    "execution": {
     "iopub.execute_input": "2020-10-21T16:53:33.506043Z",
     "iopub.status.busy": "2020-10-21T16:53:33.504539Z",
     "iopub.status.idle": "2020-10-21T16:53:33.549140Z",
     "shell.execute_reply": "2020-10-21T16:53:33.548450Z"
    },
    "id": "uQQ35sE93WCs",
    "outputId": "5dfc33df-aac7-44a3-88cc-07e7c8b6c3ec",
    "papermill": {
     "duration": 0.189243,
     "end_time": "2020-10-21T16:53:33.549282",
     "exception": false,
     "start_time": "2020-10-21T16:53:33.360039",
     "status": "completed"
    },
    "tags": []
   },
   "outputs": [
    {
     "name": "stdout",
     "output_type": "stream",
     "text": [
      "sample_input_id\n",
      "\t tensor([    0, 33407,     2,     2,  7464,    59,   164,    66,  3859, 12793,\n",
      "           63,     5,    78,    86,   187,   127,  1354,    21,  2421, 27834,\n",
      "          132, 16506,   244,     2,     1,     1,     1,     1,     1,     1,\n",
      "            1,     1,     1,     1,     1,     1,     1,     1,     1,     1,\n",
      "            1,     1,     1,     1,     1,     1,     1,     1,     1,     1,\n",
      "            1,     1,     1,     1,     1,     1,     1,     1,     1,     1,\n",
      "            1,     1,     1,     1,     1,     1,     1,     1,     1,     1,\n",
      "            1], device='cuda:0')\n",
      "sample_attention_mask\n",
      "\t tensor([1, 1, 1, 1, 1, 1, 1, 1, 1, 1, 1, 1, 1, 1, 1, 1, 1, 1, 1, 1, 1, 1, 1, 1,\n",
      "        0, 0, 0, 0, 0, 0, 0, 0, 0, 0, 0, 0, 0, 0, 0, 0, 0, 0, 0, 0, 0, 0, 0, 0,\n",
      "        0, 0, 0, 0, 0, 0, 0, 0, 0, 0, 0, 0, 0, 0, 0, 0, 0, 0, 0, 0, 0, 0, 0],\n",
      "       device='cuda:0')\n",
      "sample_token_type_id\n",
      "\t tensor([0, 0, 0, 0, 0, 0, 0, 0, 0, 0, 0, 0, 0, 0, 0, 0, 0, 0, 0, 0, 0, 0, 0, 0,\n",
      "        0, 0, 0, 0, 0, 0, 0, 0, 0, 0, 0, 0, 0, 0, 0, 0, 0, 0, 0, 0, 0, 0, 0, 0,\n",
      "        0, 0, 0, 0, 0, 0, 0, 0, 0, 0, 0, 0, 0, 0, 0, 0, 0, 0, 0, 0, 0, 0, 0],\n",
      "       device='cuda:0')\n",
      "\n",
      "\n",
      "Real start:  tensor(0, device='cuda:0') Predicted start:  tensor(0, device='cuda:0', grad_fn=<NotImplemented>)\n",
      "Real end:  tensor(0, device='cuda:0') Predicted end:  tensor(0, device='cuda:0', grad_fn=<NotImplemented>)\n"
     ]
    }
   ],
   "source": [
    "random_step = random.randint(0,len(val_dataloader))\n",
    "for step, batch in enumerate(val_dataloader):\n",
    "    if step == random_step:\n",
    "        random_data = random.randint(0,len(batch[0]))\n",
    "        sample_input_id       = batch[0][random_data].to(device)\n",
    "        sample_attention_mask = batch[1][random_data].to(device)\n",
    "        sample_token_type_id  = batch[2][random_data].to(device)\n",
    "        sample_start_position = batch[3][random_data].to(device)\n",
    "        sample_end_position   = batch[4][random_data].to(device)\n",
    "        break\n",
    "\n",
    "print(\"sample_input_id\")\n",
    "print(\"\\t\",sample_input_id)\n",
    "print(\"sample_attention_mask\")\n",
    "print(\"\\t\",sample_attention_mask)\n",
    "print(\"sample_token_type_id\")\n",
    "print(\"\\t\",sample_token_type_id)\n",
    "\n",
    "# Prepare a test input for sample prediction\n",
    "test_inputs = {\n",
    "               \"input_ids\": sample_input_id.view(1,-1).to(device),\n",
    "               \"attention_mask\": sample_attention_mask.view(1,-1).to(device),\n",
    "               \"token_type_ids\": sample_token_type_id.view(1,-1).to(device)\n",
    "              }\n",
    "# Give the tokens representing our input text to our model and take the predictions.\n",
    "sample_answer_start_scores, sample_answer_end_scores = model(test_inputs)\n",
    "\n",
    "# Find the tokens with the highest `start` and `end` scores.\n",
    "answer_start = torch.argmax(sample_answer_start_scores)\n",
    "answer_end = torch.argmax(sample_answer_end_scores)\n",
    "\n",
    "print(\"\\n\\nReal start: \", sample_start_position, 'Predicted start: ', answer_start)\n",
    "print(\"Real end: \", sample_end_position, 'Predicted end: ', answer_end)"
   ]
  },
  {
   "cell_type": "markdown",
   "metadata": {
    "id": "CKg6MVpn4-Sq",
    "papermill": {
     "duration": 0.124535,
     "end_time": "2020-10-21T16:53:33.834931",
     "exception": false,
     "start_time": "2020-10-21T16:53:33.710396",
     "status": "completed"
    },
    "tags": []
   },
   "source": [
    "### Predicting"
   ]
  },
  {
   "cell_type": "code",
   "execution_count": 63,
   "metadata": {
    "execution": {
     "iopub.execute_input": "2020-10-21T16:53:34.100762Z",
     "iopub.status.busy": "2020-10-21T16:53:34.098982Z",
     "iopub.status.idle": "2020-10-21T16:53:34.101567Z",
     "shell.execute_reply": "2020-10-21T16:53:34.102034Z"
    },
    "id": "8SxHCi1d4-Sq",
    "papermill": {
     "duration": 0.143793,
     "end_time": "2020-10-21T16:53:34.102162",
     "exception": false,
     "start_time": "2020-10-21T16:53:33.958369",
     "status": "completed"
    },
    "tags": []
   },
   "outputs": [],
   "source": [
    "def getSelected(text, text_w_n, answer_start_scores, answer_end_scores):\n",
    "    # Find the tokens with the highest start and end scores.\n",
    "    start_sorted_indexes = np.argsort(-answer_start_scores, kind='quicksort', order=None)[0]\n",
    "    end_sorted_indexes   = np.argsort(-answer_end_scores, kind='quicksort', order=None)[0]\n",
    "    found_start_end = False\n",
    "    for i in range(0,len(start_sorted_indexes)):\n",
    "        current_start = start_sorted_indexes[i]\n",
    "        if current_start >= len(text_w_n):\n",
    "            continue\n",
    "        for j in range(0,i+2 if i+2<len(end_sorted_indexes) else len(end_sorted_indexes)):\n",
    "            current_end = end_sorted_indexes[j]\n",
    "            if current_end >= len(text_w_n):\n",
    "                continue\n",
    "            if current_start <= current_end:\n",
    "                found_start_end = True\n",
    "                real_start = text_w_n[current_start]\n",
    "                real_end   = text_w_n[current_end]\n",
    "                break\n",
    "        if found_start_end:\n",
    "            break\n",
    "\n",
    "    if not found_start_end:\n",
    "        return text\n",
    "\n",
    "    splitted_text = text.split()\n",
    "    selected_text = splitted_text[real_start:real_end+1]\n",
    "    selected_text = \" \".join(selected_text)\n",
    "\n",
    "    return selected_text\n",
    "\n",
    "def predict_test(text, sentiment, text_w, text_w_n):\n",
    "    encoded_dict = tokenizer.encode_plus(\n",
    "                                        [sentiment],                  # sentiment to encode\n",
    "                                        text_w,                       # Sentence to encode.\n",
    "                                        add_special_tokens = True,    # Add '[CLS]' and '[SEP]'\n",
    "                                        max_length = max_word_count,  # Pad & truncate all sentences.\n",
    "                                        pad_to_max_length = True,\n",
    "                                        return_token_type_ids = True,\n",
    "                                        return_attention_mask = True, # Construct attn. masks.\n",
    "                                        device=device,\n",
    "                                        return_tensors = 'pt',        # Return pytorch tensors.\n",
    "                                        )\n",
    "    encoded_dict[\"input_ids\"]       = encoded_dict[\"input_ids\"].to(device)\n",
    "    encoded_dict[\"token_type_ids\"]  = encoded_dict[\"token_type_ids\"].to(device)\n",
    "    encoded_dict[\"attention_mask\"]  = encoded_dict[\"attention_mask\"].to(device)\n",
    "\n",
    "\n",
    "    answer_start_scores, answer_end_scores = model(encoded_dict)\n",
    "    answer_start_scores = answer_start_scores.cpu().detach().numpy()\n",
    "    answer_end_scores   = answer_end_scores.cpu().detach().numpy()\n",
    "    selected_text = getSelected(text, text_w_n, answer_start_scores, answer_end_scores)\n",
    "    return selected_text"
   ]
  },
  {
   "cell_type": "code",
   "execution_count": 64,
   "metadata": {
    "execution": {
     "iopub.execute_input": "2020-10-21T16:53:34.358208Z",
     "iopub.status.busy": "2020-10-21T16:53:34.357321Z",
     "iopub.status.idle": "2020-10-21T16:53:34.386013Z",
     "shell.execute_reply": "2020-10-21T16:53:34.385532Z"
    },
    "id": "rF4XtjyDQgIK",
    "outputId": "3fb06fa6-b456-4b01-ceeb-67ed781183f7",
    "papermill": {
     "duration": 0.160759,
     "end_time": "2020-10-21T16:53:34.386119",
     "exception": false,
     "start_time": "2020-10-21T16:53:34.225360",
     "status": "completed"
    },
    "tags": []
   },
   "outputs": [
    {
     "name": "stdout",
     "output_type": "stream",
     "text": [
      "Succesfully following Tayla!!\n",
      "positive\n"
     ]
    },
    {
     "data": {
      "text/plain": [
       "'Succesfully'"
      ]
     },
     "execution_count": 64,
     "metadata": {},
     "output_type": "execute_result"
    }
   ],
   "source": [
    "x = random.randint(0,len(dfTest))\n",
    "while dfTest.iloc[x].sentiment == \"neutral\":\n",
    "    x = random.randint(0,len(dfTest))\n",
    "print(dfTest.iloc[x].text)\n",
    "print(dfTest.iloc[x].sentiment)\n",
    "predict_test(dfTest.iloc[x].text, dfTest.iloc[x].sentiment, dfTest.iloc[x].text_w, dfTest.iloc[x].text_w_n)"
   ]
  },
  {
   "cell_type": "markdown",
   "metadata": {
    "id": "wnAj3BdaeF5P",
    "papermill": {
     "duration": 0.154066,
     "end_time": "2020-10-21T16:53:34.675644",
     "exception": false,
     "start_time": "2020-10-21T16:53:34.521578",
     "status": "completed"
    },
    "tags": []
   },
   "source": [
    "# Submission"
   ]
  },
  {
   "cell_type": "code",
   "execution_count": 65,
   "metadata": {
    "execution": {
     "iopub.execute_input": "2020-10-21T16:53:35.125336Z",
     "iopub.status.busy": "2020-10-21T16:53:35.124460Z",
     "iopub.status.idle": "2020-10-21T16:54:22.005543Z",
     "shell.execute_reply": "2020-10-21T16:54:22.006095Z"
    },
    "id": "rWDyMDMF4-Sx",
    "outputId": "1e33174b-5276-44b6-d797-ef03b07b03cd",
    "papermill": {
     "duration": 47.110256,
     "end_time": "2020-10-21T16:54:22.006227",
     "exception": false,
     "start_time": "2020-10-21T16:53:34.895971",
     "status": "completed"
    },
    "scrolled": true,
    "tags": []
   },
   "outputs": [
    {
     "data": {
      "text/html": [
       "<div>\n",
       "<style scoped>\n",
       "    .dataframe tbody tr th:only-of-type {\n",
       "        vertical-align: middle;\n",
       "    }\n",
       "\n",
       "    .dataframe tbody tr th {\n",
       "        vertical-align: top;\n",
       "    }\n",
       "\n",
       "    .dataframe thead th {\n",
       "        text-align: right;\n",
       "    }\n",
       "</style>\n",
       "<table border=\"1\" class=\"dataframe\">\n",
       "  <thead>\n",
       "    <tr style=\"text-align: right;\">\n",
       "      <th></th>\n",
       "      <th>textID</th>\n",
       "      <th>text</th>\n",
       "      <th>sentiment</th>\n",
       "      <th>selected_text</th>\n",
       "    </tr>\n",
       "  </thead>\n",
       "  <tbody>\n",
       "    <tr>\n",
       "      <th>0</th>\n",
       "      <td>f87dea47db</td>\n",
       "      <td>Last session of the day  http://twitpic.com/67ezh</td>\n",
       "      <td>neutral</td>\n",
       "      <td>Last session of the day</td>\n",
       "    </tr>\n",
       "    <tr>\n",
       "      <th>1</th>\n",
       "      <td>96d74cb729</td>\n",
       "      <td>Shanghai is also really exciting (precisely -...</td>\n",
       "      <td>positive</td>\n",
       "      <td>exciting</td>\n",
       "    </tr>\n",
       "    <tr>\n",
       "      <th>2</th>\n",
       "      <td>eee518ae67</td>\n",
       "      <td>Recession hit Veronique Branquinho, she has to...</td>\n",
       "      <td>negative</td>\n",
       "      <td>such a shame!</td>\n",
       "    </tr>\n",
       "    <tr>\n",
       "      <th>3</th>\n",
       "      <td>01082688c6</td>\n",
       "      <td>happy bday!</td>\n",
       "      <td>positive</td>\n",
       "      <td>happy bday!</td>\n",
       "    </tr>\n",
       "    <tr>\n",
       "      <th>4</th>\n",
       "      <td>33987a8ee5</td>\n",
       "      <td>http://twitpic.com/4w75p - I like it!!</td>\n",
       "      <td>positive</td>\n",
       "      <td>I like it!!</td>\n",
       "    </tr>\n",
       "    <tr>\n",
       "      <th>5</th>\n",
       "      <td>726e501993</td>\n",
       "      <td>that`s great!! weee!! visitors!</td>\n",
       "      <td>positive</td>\n",
       "      <td>that`s great!!</td>\n",
       "    </tr>\n",
       "    <tr>\n",
       "      <th>6</th>\n",
       "      <td>261932614e</td>\n",
       "      <td>I THINK EVERYONE HATES ME ON HERE   lol</td>\n",
       "      <td>negative</td>\n",
       "      <td>HATES</td>\n",
       "    </tr>\n",
       "    <tr>\n",
       "      <th>7</th>\n",
       "      <td>afa11da83f</td>\n",
       "      <td>soooooo wish i could, but im in school and my...</td>\n",
       "      <td>negative</td>\n",
       "      <td>blocked</td>\n",
       "    </tr>\n",
       "    <tr>\n",
       "      <th>8</th>\n",
       "      <td>e64208b4ef</td>\n",
       "      <td>and within a short time of the last clue all ...</td>\n",
       "      <td>neutral</td>\n",
       "      <td>and within a short time of the last clue all o...</td>\n",
       "    </tr>\n",
       "    <tr>\n",
       "      <th>9</th>\n",
       "      <td>37bcad24ca</td>\n",
       "      <td>What did you get?  My day is alright.. haven`...</td>\n",
       "      <td>neutral</td>\n",
       "      <td>What did you get? My day is alright.. haven`t ...</td>\n",
       "    </tr>\n",
       "    <tr>\n",
       "      <th>10</th>\n",
       "      <td>24c92644a4</td>\n",
       "      <td>My bike was put on hold...should have known th...</td>\n",
       "      <td>negative</td>\n",
       "      <td>argh total bummer</td>\n",
       "    </tr>\n",
       "    <tr>\n",
       "      <th>11</th>\n",
       "      <td>43b390b336</td>\n",
       "      <td>I checked.  We didn`t win</td>\n",
       "      <td>neutral</td>\n",
       "      <td>I checked. We didn`t win</td>\n",
       "    </tr>\n",
       "    <tr>\n",
       "      <th>12</th>\n",
       "      <td>69d6b5d93e</td>\n",
       "      <td>.. and you`re on twitter! Did the tavern bore...</td>\n",
       "      <td>neutral</td>\n",
       "      <td>.. and you`re on twitter! Did the tavern bore ...</td>\n",
       "    </tr>\n",
       "    <tr>\n",
       "      <th>13</th>\n",
       "      <td>5c1e0b61a1</td>\n",
       "      <td>I`m in VA for the weekend, my youngest son tur...</td>\n",
       "      <td>negative</td>\n",
       "      <td>sad,</td>\n",
       "    </tr>\n",
       "    <tr>\n",
       "      <th>14</th>\n",
       "      <td>504e45d9d9</td>\n",
       "      <td>Its coming out the socket  I feel like my phon...</td>\n",
       "      <td>negative</td>\n",
       "      <td>I feel like my phones hole is not a virgin. Th...</td>\n",
       "    </tr>\n",
       "    <tr>\n",
       "      <th>15</th>\n",
       "      <td>ae93ad52a0</td>\n",
       "      <td>So hot today =_=  don`t like it and i hate my ...</td>\n",
       "      <td>negative</td>\n",
       "      <td>i hate my new timetable, having such a bad week</td>\n",
       "    </tr>\n",
       "    <tr>\n",
       "      <th>16</th>\n",
       "      <td>9fce30159a</td>\n",
       "      <td>Miss you</td>\n",
       "      <td>negative</td>\n",
       "      <td>Miss you</td>\n",
       "    </tr>\n",
       "    <tr>\n",
       "      <th>17</th>\n",
       "      <td>00d5195223</td>\n",
       "      <td>Cramps . . .</td>\n",
       "      <td>negative</td>\n",
       "      <td>Cramps</td>\n",
       "    </tr>\n",
       "    <tr>\n",
       "      <th>18</th>\n",
       "      <td>33f19050cf</td>\n",
       "      <td>you guys didn`t say hi or answer my questions...</td>\n",
       "      <td>positive</td>\n",
       "      <td>nice songs.</td>\n",
       "    </tr>\n",
       "    <tr>\n",
       "      <th>19</th>\n",
       "      <td>f7718b3c23</td>\n",
       "      <td>I`m going into a spiritual stagnentation, its ...</td>\n",
       "      <td>neutral</td>\n",
       "      <td>I`m going into a spiritual stagnentation, its ...</td>\n",
       "    </tr>\n",
       "  </tbody>\n",
       "</table>\n",
       "</div>"
      ],
      "text/plain": [
       "        textID                                               text sentiment  \\\n",
       "0   f87dea47db  Last session of the day  http://twitpic.com/67ezh   neutral   \n",
       "1   96d74cb729   Shanghai is also really exciting (precisely -...  positive   \n",
       "2   eee518ae67  Recession hit Veronique Branquinho, she has to...  negative   \n",
       "3   01082688c6                                        happy bday!  positive   \n",
       "4   33987a8ee5             http://twitpic.com/4w75p - I like it!!  positive   \n",
       "5   726e501993                    that`s great!! weee!! visitors!  positive   \n",
       "6   261932614e            I THINK EVERYONE HATES ME ON HERE   lol  negative   \n",
       "7   afa11da83f   soooooo wish i could, but im in school and my...  negative   \n",
       "8   e64208b4ef   and within a short time of the last clue all ...   neutral   \n",
       "9   37bcad24ca   What did you get?  My day is alright.. haven`...   neutral   \n",
       "10  24c92644a4  My bike was put on hold...should have known th...  negative   \n",
       "11  43b390b336                          I checked.  We didn`t win   neutral   \n",
       "12  69d6b5d93e   .. and you`re on twitter! Did the tavern bore...   neutral   \n",
       "13  5c1e0b61a1  I`m in VA for the weekend, my youngest son tur...  negative   \n",
       "14  504e45d9d9  Its coming out the socket  I feel like my phon...  negative   \n",
       "15  ae93ad52a0  So hot today =_=  don`t like it and i hate my ...  negative   \n",
       "16  9fce30159a                                           Miss you  negative   \n",
       "17  00d5195223                                       Cramps . . .  negative   \n",
       "18  33f19050cf   you guys didn`t say hi or answer my questions...  positive   \n",
       "19  f7718b3c23  I`m going into a spiritual stagnentation, its ...   neutral   \n",
       "\n",
       "                                        selected_text  \n",
       "0                             Last session of the day  \n",
       "1                                            exciting  \n",
       "2                                       such a shame!  \n",
       "3                                         happy bday!  \n",
       "4                                         I like it!!  \n",
       "5                                      that`s great!!  \n",
       "6                                               HATES  \n",
       "7                                             blocked  \n",
       "8   and within a short time of the last clue all o...  \n",
       "9   What did you get? My day is alright.. haven`t ...  \n",
       "10                                  argh total bummer  \n",
       "11                           I checked. We didn`t win  \n",
       "12  .. and you`re on twitter! Did the tavern bore ...  \n",
       "13                                               sad,  \n",
       "14  I feel like my phones hole is not a virgin. Th...  \n",
       "15    i hate my new timetable, having such a bad week  \n",
       "16                                           Miss you  \n",
       "17                                             Cramps  \n",
       "18                                        nice songs.  \n",
       "19  I`m going into a spiritual stagnentation, its ...  "
      ]
     },
     "execution_count": 65,
     "metadata": {},
     "output_type": "execute_result"
    }
   ],
   "source": [
    "dfTest[\"selected_text\"] = dfTest.apply(lambda df: predict_test(df.text, df.sentiment, df.text_w, df.text_w_n), axis=1)\n",
    "dfTest['selected_text'] = dfTest['selected_text'].apply(lambda x: x.replace('!!!!', '!') if len(x.split())==1 else x)\n",
    "dfTest['selected_text'] = dfTest['selected_text'].apply(lambda x: x.replace('..', '.') if len(x.split())==1 else x)\n",
    "dfTest['selected_text'] = dfTest['selected_text'].apply(lambda x: x.replace('...', '.') if len(x.split())==1 else x)\n",
    "dfTest[[\"textID\", \"text\", \"sentiment\", \"selected_text\"]].head(20)"
   ]
  },
  {
   "cell_type": "code",
   "execution_count": 66,
   "metadata": {
    "execution": {
     "iopub.execute_input": "2020-10-21T16:54:22.270862Z",
     "iopub.status.busy": "2020-10-21T16:54:22.268921Z",
     "iopub.status.idle": "2020-10-21T16:54:22.283103Z",
     "shell.execute_reply": "2020-10-21T16:54:22.283609Z"
    },
    "id": "i3DQvUCb4-S0",
    "outputId": "e9a4fff3-51e9-415e-f899-8547e53450b6",
    "papermill": {
     "duration": 0.149557,
     "end_time": "2020-10-21T16:54:22.283733",
     "exception": false,
     "start_time": "2020-10-21T16:54:22.134176",
     "status": "completed"
    },
    "tags": []
   },
   "outputs": [
    {
     "data": {
      "text/html": [
       "<div>\n",
       "<style scoped>\n",
       "    .dataframe tbody tr th:only-of-type {\n",
       "        vertical-align: middle;\n",
       "    }\n",
       "\n",
       "    .dataframe tbody tr th {\n",
       "        vertical-align: top;\n",
       "    }\n",
       "\n",
       "    .dataframe thead th {\n",
       "        text-align: right;\n",
       "    }\n",
       "</style>\n",
       "<table border=\"1\" class=\"dataframe\">\n",
       "  <thead>\n",
       "    <tr style=\"text-align: right;\">\n",
       "      <th></th>\n",
       "      <th>textID</th>\n",
       "      <th>selected_text</th>\n",
       "    </tr>\n",
       "  </thead>\n",
       "  <tbody>\n",
       "    <tr>\n",
       "      <th>0</th>\n",
       "      <td>f87dea47db</td>\n",
       "      <td>NaN</td>\n",
       "    </tr>\n",
       "    <tr>\n",
       "      <th>1</th>\n",
       "      <td>96d74cb729</td>\n",
       "      <td>NaN</td>\n",
       "    </tr>\n",
       "    <tr>\n",
       "      <th>2</th>\n",
       "      <td>eee518ae67</td>\n",
       "      <td>NaN</td>\n",
       "    </tr>\n",
       "    <tr>\n",
       "      <th>3</th>\n",
       "      <td>01082688c6</td>\n",
       "      <td>NaN</td>\n",
       "    </tr>\n",
       "    <tr>\n",
       "      <th>4</th>\n",
       "      <td>33987a8ee5</td>\n",
       "      <td>NaN</td>\n",
       "    </tr>\n",
       "  </tbody>\n",
       "</table>\n",
       "</div>"
      ],
      "text/plain": [
       "       textID  selected_text\n",
       "0  f87dea47db            NaN\n",
       "1  96d74cb729            NaN\n",
       "2  eee518ae67            NaN\n",
       "3  01082688c6            NaN\n",
       "4  33987a8ee5            NaN"
      ]
     },
     "execution_count": 66,
     "metadata": {},
     "output_type": "execute_result"
    }
   ],
   "source": [
    "dfContrib = pd.read_csv(sample_submission_file)\n",
    "dfContrib.head()"
   ]
  },
  {
   "cell_type": "code",
   "execution_count": 67,
   "metadata": {
    "execution": {
     "iopub.execute_input": "2020-10-21T16:54:22.559931Z",
     "iopub.status.busy": "2020-10-21T16:54:22.559190Z",
     "iopub.status.idle": "2020-10-21T16:54:22.642666Z",
     "shell.execute_reply": "2020-10-21T16:54:22.641336Z"
    },
    "id": "vcuflrXQ4-S6",
    "outputId": "debeb2a9-66e2-4c4a-8d19-f151ecbcb62e",
    "papermill": {
     "duration": 0.22563,
     "end_time": "2020-10-21T16:54:22.642770",
     "exception": false,
     "start_time": "2020-10-21T16:54:22.417140",
     "status": "completed"
    },
    "tags": []
   },
   "outputs": [
    {
     "data": {
      "text/html": [
       "<div>\n",
       "<style scoped>\n",
       "    .dataframe tbody tr th:only-of-type {\n",
       "        vertical-align: middle;\n",
       "    }\n",
       "\n",
       "    .dataframe tbody tr th {\n",
       "        vertical-align: top;\n",
       "    }\n",
       "\n",
       "    .dataframe thead th {\n",
       "        text-align: right;\n",
       "    }\n",
       "</style>\n",
       "<table border=\"1\" class=\"dataframe\">\n",
       "  <thead>\n",
       "    <tr style=\"text-align: right;\">\n",
       "      <th></th>\n",
       "      <th>textID</th>\n",
       "      <th>selected_text</th>\n",
       "    </tr>\n",
       "  </thead>\n",
       "  <tbody>\n",
       "    <tr>\n",
       "      <th>0</th>\n",
       "      <td>f87dea47db</td>\n",
       "      <td>Last session of the day</td>\n",
       "    </tr>\n",
       "    <tr>\n",
       "      <th>1</th>\n",
       "      <td>96d74cb729</td>\n",
       "      <td>exciting</td>\n",
       "    </tr>\n",
       "    <tr>\n",
       "      <th>2</th>\n",
       "      <td>eee518ae67</td>\n",
       "      <td>such a shame!</td>\n",
       "    </tr>\n",
       "    <tr>\n",
       "      <th>3</th>\n",
       "      <td>01082688c6</td>\n",
       "      <td>happy bday!</td>\n",
       "    </tr>\n",
       "    <tr>\n",
       "      <th>4</th>\n",
       "      <td>33987a8ee5</td>\n",
       "      <td>I like it!!</td>\n",
       "    </tr>\n",
       "  </tbody>\n",
       "</table>\n",
       "</div>"
      ],
      "text/plain": [
       "       textID            selected_text\n",
       "0  f87dea47db  Last session of the day\n",
       "1  96d74cb729                 exciting\n",
       "2  eee518ae67            such a shame!\n",
       "3  01082688c6              happy bday!\n",
       "4  33987a8ee5              I like it!!"
      ]
     },
     "execution_count": 67,
     "metadata": {},
     "output_type": "execute_result"
    }
   ],
   "source": [
    "dfContrib = pd.merge(dfContrib[[\"textID\"]], dfTest[[\"textID\",\"selected_text\"]], on='textID')\n",
    "dfContrib.to_csv(submission_file,index=False)\n",
    "pd.read_csv(submission_file).head()"
   ]
  },
  {
   "cell_type": "markdown",
   "metadata": {
    "id": "93Dzf-WfeF5p",
    "papermill": {
     "duration": 0.136471,
     "end_time": "2020-10-21T16:54:22.911069",
     "exception": false,
     "start_time": "2020-10-21T16:54:22.774598",
     "status": "completed"
    },
    "tags": []
   },
   "source": [
    "# Predicting Jaccards\n",
    "(if in testing mode)"
   ]
  },
  {
   "cell_type": "code",
   "execution_count": 68,
   "metadata": {
    "execution": {
     "iopub.execute_input": "2020-10-21T16:54:23.174739Z",
     "iopub.status.busy": "2020-10-21T16:54:23.173946Z",
     "iopub.status.idle": "2020-10-21T16:54:23.178123Z",
     "shell.execute_reply": "2020-10-21T16:54:23.177662Z"
    },
    "id": "bsMTPzxf4-TA",
    "papermill": {
     "duration": 0.139196,
     "end_time": "2020-10-21T16:54:23.178258",
     "exception": false,
     "start_time": "2020-10-21T16:54:23.039062",
     "status": "completed"
    },
    "scrolled": false,
    "tags": []
   },
   "outputs": [],
   "source": [
    "def jaccard(str1, str2):\n",
    "    a = set(str1.lower().split())\n",
    "    b = set(str2.lower().split())\n",
    "    c = a.intersection(b)\n",
    "    return float(len(c)) / (len(a) + len(b) - len(c))"
   ]
  },
  {
   "cell_type": "code",
   "execution_count": 69,
   "metadata": {
    "execution": {
     "iopub.execute_input": "2020-10-21T16:54:23.445659Z",
     "iopub.status.busy": "2020-10-21T16:54:23.444930Z",
     "iopub.status.idle": "2020-10-21T16:56:47.187347Z",
     "shell.execute_reply": "2020-10-21T16:56:47.187932Z"
    },
    "id": "GqWikOsJeF5r",
    "outputId": "0f07ef12-8422-41f4-bde8-7de1765d370b",
    "papermill": {
     "duration": 143.884246,
     "end_time": "2020-10-21T16:56:47.188080",
     "exception": false,
     "start_time": "2020-10-21T16:54:23.303834",
     "status": "completed"
    },
    "tags": []
   },
   "outputs": [
    {
     "name": "stdout",
     "output_type": "stream",
     "text": [
      "Average jaccard score of neutral data when text used as selected text:  0.9772720940455113\n",
      "Average jaccard score of neutral data when models prediction used as selected text:  0.9791214980419659\n"
     ]
    }
   ],
   "source": [
    "dfNeutral = dfTrain[dfTrain['sentiment'] == 'neutral']\n",
    "dfNeutral['jaccard'] = dfNeutral.apply(lambda df: jaccard(df.selected_text, df.text), axis=1)\n",
    "print(\"Average jaccard score of neutral data when text used as selected text: \",dfNeutral[\"jaccard\"].mean())\n",
    "dfNeutral[\"predicted_selected_text\"] = dfNeutral.apply(lambda df: predict_test(df.text, df.sentiment, df.text_w, df.text_w_n), axis=1)\n",
    "dfNeutral['predicted_jaccard'] = dfNeutral.apply(lambda df: jaccard(df.selected_text, df.predicted_selected_text), axis=1)\n",
    "print(\"Average jaccard score of neutral data when models prediction used as selected text: \",dfNeutral[\"predicted_jaccard\"].mean())\n",
    "del(dfNeutral)"
   ]
  },
  {
   "cell_type": "code",
   "execution_count": 70,
   "metadata": {
    "execution": {
     "iopub.execute_input": "2020-10-21T16:56:47.454398Z",
     "iopub.status.busy": "2020-10-21T16:56:47.453337Z",
     "iopub.status.idle": "2020-10-21T16:56:50.787791Z",
     "shell.execute_reply": "2020-10-21T16:56:50.788261Z"
    },
    "id": "Jbpmpk3A4-TG",
    "outputId": "fd5aae81-1421-4f9a-d8f6-64c440272937",
    "papermill": {
     "duration": 3.473073,
     "end_time": "2020-10-21T16:56:50.788399",
     "exception": false,
     "start_time": "2020-10-21T16:56:47.315326",
     "status": "completed"
    },
    "tags": []
   },
   "outputs": [
    {
     "name": "stdout",
     "output_type": "stream",
     "text": [
      "average jaccard score of test data is:  0.7337112721963396\n",
      "average jaccard score of positive test data is:  0.622980232618787\n",
      "average jaccard score of negative test data is:  0.5206013221459447\n",
      "average jaccard score of neutral test data is:  0.9544680764464865\n"
     ]
    }
   ],
   "source": [
    "if in_testing_mode:\n",
    "    dfLasttest[\"predicted_selected_text\"] = dfLasttest.apply(lambda df: predict_test(df.text, df.sentiment, df.text_w, df.text_w_n), axis=1)\n",
    "    dfLasttest[\"jaccard\"] = dfLasttest.apply(lambda df: jaccard(df.selected_text, df.predicted_selected_text), axis=1)\n",
    "    print(\"average jaccard score of test data is: \",dfLasttest[\"jaccard\"].mean())\n",
    "    print(\"average jaccard score of positive test data is: \",dfLasttest[dfLasttest['sentiment'] == 'positive'][\"jaccard\"].mean())\n",
    "    print(\"average jaccard score of negative test data is: \",dfLasttest[dfLasttest['sentiment'] == 'negative'][\"jaccard\"].mean())\n",
    "    print(\"average jaccard score of neutral test data is: \",dfLasttest[dfLasttest['sentiment'] == 'neutral'][\"jaccard\"].mean())"
   ]
  },
  {
   "cell_type": "code",
   "execution_count": 71,
   "metadata": {
    "execution": {
     "iopub.execute_input": "2020-10-21T16:56:51.055580Z",
     "iopub.status.busy": "2020-10-21T16:56:51.054740Z",
     "iopub.status.idle": "2020-10-21T17:02:40.843300Z",
     "shell.execute_reply": "2020-10-21T17:02:40.844091Z"
    },
    "id": "pEco8Q1peF52",
    "outputId": "40d409df-1a6e-49b6-af99-f731b818163d",
    "papermill": {
     "duration": 349.926297,
     "end_time": "2020-10-21T17:02:40.844237",
     "exception": false,
     "start_time": "2020-10-21T16:56:50.917940",
     "status": "completed"
    },
    "tags": []
   },
   "outputs": [
    {
     "name": "stdout",
     "output_type": "stream",
     "text": [
      "average jaccard score of train data is:  0.7637730827639575\n",
      "average jaccard score of positive train data is:  0.6051903875478585\n",
      "average jaccard score of negative train data is:  0.6319209961347587\n",
      "average jaccard score of neutral train data is:  0.9791214980419659\n"
     ]
    }
   ],
   "source": [
    "if in_testing_mode:\n",
    "    dfTrain[\"predicted_selected_text\"] = dfTrain.apply(lambda df: predict_test(df.text, df.sentiment, df.text_w, df.text_w_n), axis=1)\n",
    "    dfTrain[\"jaccard\"] = dfTrain.apply(lambda df: jaccard(df.selected_text, df.predicted_selected_text), axis=1)\n",
    "    print(\"average jaccard score of train data is: \",dfTrain[\"jaccard\"].mean())\n",
    "    print(\"average jaccard score of positive train data is: \",dfTrain[dfTrain['sentiment'] == 'positive'][\"jaccard\"].mean())\n",
    "    print(\"average jaccard score of negative train data is: \",dfTrain[dfTrain['sentiment'] == 'negative'][\"jaccard\"].mean())\n",
    "    print(\"average jaccard score of neutral train data is: \",dfTrain[dfTrain['sentiment'] == 'neutral'][\"jaccard\"].mean())"
   ]
  }
 ],
 "metadata": {
  "kernelspec": {
   "display_name": "Python 3",
   "language": "python",
   "name": "python3"
  },
  "language_info": {
   "codemirror_mode": {
    "name": "ipython",
    "version": 3
   },
   "file_extension": ".py",
   "mimetype": "text/x-python",
   "name": "python",
   "nbconvert_exporter": "python",
   "pygments_lexer": "ipython3",
   "version": "3.7.6"
  },
  "papermill": {
   "duration": 1713.640949,
   "end_time": "2020-10-21T17:02:41.682777",
   "environment_variables": {},
   "exception": null,
   "input_path": "__notebook__.ipynb",
   "output_path": "__notebook__.ipynb",
   "parameters": {},
   "start_time": "2020-10-21T16:34:08.041828",
   "version": "2.1.0"
  }
 },
 "nbformat": 4,
 "nbformat_minor": 4
}
