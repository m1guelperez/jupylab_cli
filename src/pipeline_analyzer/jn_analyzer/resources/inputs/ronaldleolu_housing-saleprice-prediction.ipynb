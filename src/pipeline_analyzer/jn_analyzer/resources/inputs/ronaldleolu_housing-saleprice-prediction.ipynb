{
 "cells": [
  {
   "cell_type": "code",
   "execution_count": 1,
   "metadata": {
    "_cell_guid": "39376768-cfa5-4612-80fb-75dad432092d",
    "_uuid": "b1843a8becac15b9798f97226a8532d607e97bd8"
   },
   "outputs": [
    {
     "name": "stdout",
     "output_type": "stream",
     "text": [
      "sample_submission.csv\n",
      "test.csv\n",
      "train.csv\n",
      "\n"
     ]
    }
   ],
   "source": [
    "# This Python 3 environment comes with many helpful analytics libraries installed\n",
    "# It is defined by the kaggle/python docker image: https://github.com/kaggle/docker-python\n",
    "# For example, here's several helpful packages to load in \n",
    "\n",
    "import numpy as np # linear algebra\n",
    "import pandas as pd # data processing, CSV file I/O (e.g. pd.read_csv)\n",
    "%matplotlib inline\n",
    "import matplotlib.pyplot as plt\n",
    "import seaborn as sns\n",
    "from scipy.stats import norm\n",
    "# Input data files are available in the \"../input/\" directory.\n",
    "# For example, running this (by clicking run or pressing Shift+Enter) will list the files in the input directory\n",
    "\n",
    "from subprocess import check_output\n",
    "print(check_output([\"ls\", \"../input\"]).decode(\"utf8\"))\n",
    "\n",
    "# Any results you write to the current directory are saved as output."
   ]
  },
  {
   "cell_type": "code",
   "execution_count": 2,
   "metadata": {
    "_cell_guid": "951ff0a7-8605-4383-a96e-bc503e07868d",
    "_uuid": "adbdbf352614e6ad610a35fc1ecba1fd34a027e4"
   },
   "outputs": [
    {
     "name": "stdout",
     "output_type": "stream",
     "text": [
      "(1460, 81)\n",
      "(1459, 80)\n"
     ]
    }
   ],
   "source": [
    "train_ori_df = pd.read_csv('../input/train.csv')\n",
    "test_ori_df = pd.read_csv('../input/test.csv')\n",
    "\n",
    "print(train_ori_df.shape)\n",
    "print(test_ori_df.shape)"
   ]
  },
  {
   "cell_type": "markdown",
   "metadata": {
    "_cell_guid": "bc6182e8-e6da-4503-9b26-ac168b188e55",
    "_uuid": "62bcd566095af48f72840050b2ab3eaf31b9a7aa"
   },
   "source": [
    "<font size=5>\n",
    "**0. Description**\n",
    "</font>"
   ]
  },
  {
   "cell_type": "markdown",
   "metadata": {
    "_cell_guid": "29094460-7304-446c-94b0-b68f65642c9e",
    "_uuid": "2b60c8523dc0b1c46faf8933af26c4bc54a6988e"
   },
   "source": [
    "&emsp;&emsp;Before starting my job, I'll get an initial impression from dataset."
   ]
  },
  {
   "cell_type": "code",
   "execution_count": 3,
   "metadata": {
    "_cell_guid": "f275cfba-fa75-419a-a583-0eb0516be158",
    "_uuid": "8414782cca7316635c340e81bd90835c05133457"
   },
   "outputs": [
    {
     "name": "stdout",
     "output_type": "stream",
     "text": [
      "<class 'pandas.core.frame.DataFrame'>\n",
      "RangeIndex: 1460 entries, 0 to 1459\n",
      "Data columns (total 81 columns):\n",
      "Id               1460 non-null int64\n",
      "MSSubClass       1460 non-null int64\n",
      "MSZoning         1460 non-null object\n",
      "LotFrontage      1201 non-null float64\n",
      "LotArea          1460 non-null int64\n",
      "Street           1460 non-null object\n",
      "Alley            91 non-null object\n",
      "LotShape         1460 non-null object\n",
      "LandContour      1460 non-null object\n",
      "Utilities        1460 non-null object\n",
      "LotConfig        1460 non-null object\n",
      "LandSlope        1460 non-null object\n",
      "Neighborhood     1460 non-null object\n",
      "Condition1       1460 non-null object\n",
      "Condition2       1460 non-null object\n",
      "BldgType         1460 non-null object\n",
      "HouseStyle       1460 non-null object\n",
      "OverallQual      1460 non-null int64\n",
      "OverallCond      1460 non-null int64\n",
      "YearBuilt        1460 non-null int64\n",
      "YearRemodAdd     1460 non-null int64\n",
      "RoofStyle        1460 non-null object\n",
      "RoofMatl         1460 non-null object\n",
      "Exterior1st      1460 non-null object\n",
      "Exterior2nd      1460 non-null object\n",
      "MasVnrType       1452 non-null object\n",
      "MasVnrArea       1452 non-null float64\n",
      "ExterQual        1460 non-null object\n",
      "ExterCond        1460 non-null object\n",
      "Foundation       1460 non-null object\n",
      "BsmtQual         1423 non-null object\n",
      "BsmtCond         1423 non-null object\n",
      "BsmtExposure     1422 non-null object\n",
      "BsmtFinType1     1423 non-null object\n",
      "BsmtFinSF1       1460 non-null int64\n",
      "BsmtFinType2     1422 non-null object\n",
      "BsmtFinSF2       1460 non-null int64\n",
      "BsmtUnfSF        1460 non-null int64\n",
      "TotalBsmtSF      1460 non-null int64\n",
      "Heating          1460 non-null object\n",
      "HeatingQC        1460 non-null object\n",
      "CentralAir       1460 non-null object\n",
      "Electrical       1459 non-null object\n",
      "1stFlrSF         1460 non-null int64\n",
      "2ndFlrSF         1460 non-null int64\n",
      "LowQualFinSF     1460 non-null int64\n",
      "GrLivArea        1460 non-null int64\n",
      "BsmtFullBath     1460 non-null int64\n",
      "BsmtHalfBath     1460 non-null int64\n",
      "FullBath         1460 non-null int64\n",
      "HalfBath         1460 non-null int64\n",
      "BedroomAbvGr     1460 non-null int64\n",
      "KitchenAbvGr     1460 non-null int64\n",
      "KitchenQual      1460 non-null object\n",
      "TotRmsAbvGrd     1460 non-null int64\n",
      "Functional       1460 non-null object\n",
      "Fireplaces       1460 non-null int64\n",
      "FireplaceQu      770 non-null object\n",
      "GarageType       1379 non-null object\n",
      "GarageYrBlt      1379 non-null float64\n",
      "GarageFinish     1379 non-null object\n",
      "GarageCars       1460 non-null int64\n",
      "GarageArea       1460 non-null int64\n",
      "GarageQual       1379 non-null object\n",
      "GarageCond       1379 non-null object\n",
      "PavedDrive       1460 non-null object\n",
      "WoodDeckSF       1460 non-null int64\n",
      "OpenPorchSF      1460 non-null int64\n",
      "EnclosedPorch    1460 non-null int64\n",
      "3SsnPorch        1460 non-null int64\n",
      "ScreenPorch      1460 non-null int64\n",
      "PoolArea         1460 non-null int64\n",
      "PoolQC           7 non-null object\n",
      "Fence            281 non-null object\n",
      "MiscFeature      54 non-null object\n",
      "MiscVal          1460 non-null int64\n",
      "MoSold           1460 non-null int64\n",
      "YrSold           1460 non-null int64\n",
      "SaleType         1460 non-null object\n",
      "SaleCondition    1460 non-null object\n",
      "SalePrice        1460 non-null int64\n",
      "dtypes: float64(3), int64(35), object(43)\n",
      "memory usage: 924.0+ KB\n"
     ]
    }
   ],
   "source": [
    "train_ori_df.info()"
   ]
  },
  {
   "cell_type": "code",
   "execution_count": 4,
   "metadata": {
    "_cell_guid": "442ae7a6-dc74-4009-ae54-1a50fe791c38",
    "_uuid": "091775338538bd5aecf0df8e9b1a4baa16f7f811"
   },
   "outputs": [
    {
     "data": {
      "text/html": [
       "<div>\n",
       "<style>\n",
       "    .dataframe thead tr:only-child th {\n",
       "        text-align: right;\n",
       "    }\n",
       "\n",
       "    .dataframe thead th {\n",
       "        text-align: left;\n",
       "    }\n",
       "\n",
       "    .dataframe tbody tr th {\n",
       "        vertical-align: top;\n",
       "    }\n",
       "</style>\n",
       "<table border=\"1\" class=\"dataframe\">\n",
       "  <thead>\n",
       "    <tr style=\"text-align: right;\">\n",
       "      <th></th>\n",
       "      <th>Id</th>\n",
       "      <th>MSSubClass</th>\n",
       "      <th>LotFrontage</th>\n",
       "      <th>LotArea</th>\n",
       "      <th>OverallQual</th>\n",
       "      <th>OverallCond</th>\n",
       "      <th>YearBuilt</th>\n",
       "      <th>YearRemodAdd</th>\n",
       "      <th>MasVnrArea</th>\n",
       "      <th>BsmtFinSF1</th>\n",
       "      <th>...</th>\n",
       "      <th>WoodDeckSF</th>\n",
       "      <th>OpenPorchSF</th>\n",
       "      <th>EnclosedPorch</th>\n",
       "      <th>3SsnPorch</th>\n",
       "      <th>ScreenPorch</th>\n",
       "      <th>PoolArea</th>\n",
       "      <th>MiscVal</th>\n",
       "      <th>MoSold</th>\n",
       "      <th>YrSold</th>\n",
       "      <th>SalePrice</th>\n",
       "    </tr>\n",
       "  </thead>\n",
       "  <tbody>\n",
       "    <tr>\n",
       "      <th>count</th>\n",
       "      <td>1460.000000</td>\n",
       "      <td>1460.000000</td>\n",
       "      <td>1201.000000</td>\n",
       "      <td>1460.000000</td>\n",
       "      <td>1460.000000</td>\n",
       "      <td>1460.000000</td>\n",
       "      <td>1460.000000</td>\n",
       "      <td>1460.000000</td>\n",
       "      <td>1452.000000</td>\n",
       "      <td>1460.000000</td>\n",
       "      <td>...</td>\n",
       "      <td>1460.000000</td>\n",
       "      <td>1460.000000</td>\n",
       "      <td>1460.000000</td>\n",
       "      <td>1460.000000</td>\n",
       "      <td>1460.000000</td>\n",
       "      <td>1460.000000</td>\n",
       "      <td>1460.000000</td>\n",
       "      <td>1460.000000</td>\n",
       "      <td>1460.000000</td>\n",
       "      <td>1460.000000</td>\n",
       "    </tr>\n",
       "    <tr>\n",
       "      <th>mean</th>\n",
       "      <td>730.500000</td>\n",
       "      <td>56.897260</td>\n",
       "      <td>70.049958</td>\n",
       "      <td>10516.828082</td>\n",
       "      <td>6.099315</td>\n",
       "      <td>5.575342</td>\n",
       "      <td>1971.267808</td>\n",
       "      <td>1984.865753</td>\n",
       "      <td>103.685262</td>\n",
       "      <td>443.639726</td>\n",
       "      <td>...</td>\n",
       "      <td>94.244521</td>\n",
       "      <td>46.660274</td>\n",
       "      <td>21.954110</td>\n",
       "      <td>3.409589</td>\n",
       "      <td>15.060959</td>\n",
       "      <td>2.758904</td>\n",
       "      <td>43.489041</td>\n",
       "      <td>6.321918</td>\n",
       "      <td>2007.815753</td>\n",
       "      <td>180921.195890</td>\n",
       "    </tr>\n",
       "    <tr>\n",
       "      <th>std</th>\n",
       "      <td>421.610009</td>\n",
       "      <td>42.300571</td>\n",
       "      <td>24.284752</td>\n",
       "      <td>9981.264932</td>\n",
       "      <td>1.382997</td>\n",
       "      <td>1.112799</td>\n",
       "      <td>30.202904</td>\n",
       "      <td>20.645407</td>\n",
       "      <td>181.066207</td>\n",
       "      <td>456.098091</td>\n",
       "      <td>...</td>\n",
       "      <td>125.338794</td>\n",
       "      <td>66.256028</td>\n",
       "      <td>61.119149</td>\n",
       "      <td>29.317331</td>\n",
       "      <td>55.757415</td>\n",
       "      <td>40.177307</td>\n",
       "      <td>496.123024</td>\n",
       "      <td>2.703626</td>\n",
       "      <td>1.328095</td>\n",
       "      <td>79442.502883</td>\n",
       "    </tr>\n",
       "    <tr>\n",
       "      <th>min</th>\n",
       "      <td>1.000000</td>\n",
       "      <td>20.000000</td>\n",
       "      <td>21.000000</td>\n",
       "      <td>1300.000000</td>\n",
       "      <td>1.000000</td>\n",
       "      <td>1.000000</td>\n",
       "      <td>1872.000000</td>\n",
       "      <td>1950.000000</td>\n",
       "      <td>0.000000</td>\n",
       "      <td>0.000000</td>\n",
       "      <td>...</td>\n",
       "      <td>0.000000</td>\n",
       "      <td>0.000000</td>\n",
       "      <td>0.000000</td>\n",
       "      <td>0.000000</td>\n",
       "      <td>0.000000</td>\n",
       "      <td>0.000000</td>\n",
       "      <td>0.000000</td>\n",
       "      <td>1.000000</td>\n",
       "      <td>2006.000000</td>\n",
       "      <td>34900.000000</td>\n",
       "    </tr>\n",
       "    <tr>\n",
       "      <th>25%</th>\n",
       "      <td>365.750000</td>\n",
       "      <td>20.000000</td>\n",
       "      <td>59.000000</td>\n",
       "      <td>7553.500000</td>\n",
       "      <td>5.000000</td>\n",
       "      <td>5.000000</td>\n",
       "      <td>1954.000000</td>\n",
       "      <td>1967.000000</td>\n",
       "      <td>0.000000</td>\n",
       "      <td>0.000000</td>\n",
       "      <td>...</td>\n",
       "      <td>0.000000</td>\n",
       "      <td>0.000000</td>\n",
       "      <td>0.000000</td>\n",
       "      <td>0.000000</td>\n",
       "      <td>0.000000</td>\n",
       "      <td>0.000000</td>\n",
       "      <td>0.000000</td>\n",
       "      <td>5.000000</td>\n",
       "      <td>2007.000000</td>\n",
       "      <td>129975.000000</td>\n",
       "    </tr>\n",
       "    <tr>\n",
       "      <th>50%</th>\n",
       "      <td>730.500000</td>\n",
       "      <td>50.000000</td>\n",
       "      <td>69.000000</td>\n",
       "      <td>9478.500000</td>\n",
       "      <td>6.000000</td>\n",
       "      <td>5.000000</td>\n",
       "      <td>1973.000000</td>\n",
       "      <td>1994.000000</td>\n",
       "      <td>0.000000</td>\n",
       "      <td>383.500000</td>\n",
       "      <td>...</td>\n",
       "      <td>0.000000</td>\n",
       "      <td>25.000000</td>\n",
       "      <td>0.000000</td>\n",
       "      <td>0.000000</td>\n",
       "      <td>0.000000</td>\n",
       "      <td>0.000000</td>\n",
       "      <td>0.000000</td>\n",
       "      <td>6.000000</td>\n",
       "      <td>2008.000000</td>\n",
       "      <td>163000.000000</td>\n",
       "    </tr>\n",
       "    <tr>\n",
       "      <th>75%</th>\n",
       "      <td>1095.250000</td>\n",
       "      <td>70.000000</td>\n",
       "      <td>80.000000</td>\n",
       "      <td>11601.500000</td>\n",
       "      <td>7.000000</td>\n",
       "      <td>6.000000</td>\n",
       "      <td>2000.000000</td>\n",
       "      <td>2004.000000</td>\n",
       "      <td>166.000000</td>\n",
       "      <td>712.250000</td>\n",
       "      <td>...</td>\n",
       "      <td>168.000000</td>\n",
       "      <td>68.000000</td>\n",
       "      <td>0.000000</td>\n",
       "      <td>0.000000</td>\n",
       "      <td>0.000000</td>\n",
       "      <td>0.000000</td>\n",
       "      <td>0.000000</td>\n",
       "      <td>8.000000</td>\n",
       "      <td>2009.000000</td>\n",
       "      <td>214000.000000</td>\n",
       "    </tr>\n",
       "    <tr>\n",
       "      <th>max</th>\n",
       "      <td>1460.000000</td>\n",
       "      <td>190.000000</td>\n",
       "      <td>313.000000</td>\n",
       "      <td>215245.000000</td>\n",
       "      <td>10.000000</td>\n",
       "      <td>9.000000</td>\n",
       "      <td>2010.000000</td>\n",
       "      <td>2010.000000</td>\n",
       "      <td>1600.000000</td>\n",
       "      <td>5644.000000</td>\n",
       "      <td>...</td>\n",
       "      <td>857.000000</td>\n",
       "      <td>547.000000</td>\n",
       "      <td>552.000000</td>\n",
       "      <td>508.000000</td>\n",
       "      <td>480.000000</td>\n",
       "      <td>738.000000</td>\n",
       "      <td>15500.000000</td>\n",
       "      <td>12.000000</td>\n",
       "      <td>2010.000000</td>\n",
       "      <td>755000.000000</td>\n",
       "    </tr>\n",
       "  </tbody>\n",
       "</table>\n",
       "<p>8 rows × 38 columns</p>\n",
       "</div>"
      ],
      "text/plain": [
       "                Id   MSSubClass  LotFrontage        LotArea  OverallQual  \\\n",
       "count  1460.000000  1460.000000  1201.000000    1460.000000  1460.000000   \n",
       "mean    730.500000    56.897260    70.049958   10516.828082     6.099315   \n",
       "std     421.610009    42.300571    24.284752    9981.264932     1.382997   \n",
       "min       1.000000    20.000000    21.000000    1300.000000     1.000000   \n",
       "25%     365.750000    20.000000    59.000000    7553.500000     5.000000   \n",
       "50%     730.500000    50.000000    69.000000    9478.500000     6.000000   \n",
       "75%    1095.250000    70.000000    80.000000   11601.500000     7.000000   \n",
       "max    1460.000000   190.000000   313.000000  215245.000000    10.000000   \n",
       "\n",
       "       OverallCond    YearBuilt  YearRemodAdd   MasVnrArea   BsmtFinSF1  \\\n",
       "count  1460.000000  1460.000000   1460.000000  1452.000000  1460.000000   \n",
       "mean      5.575342  1971.267808   1984.865753   103.685262   443.639726   \n",
       "std       1.112799    30.202904     20.645407   181.066207   456.098091   \n",
       "min       1.000000  1872.000000   1950.000000     0.000000     0.000000   \n",
       "25%       5.000000  1954.000000   1967.000000     0.000000     0.000000   \n",
       "50%       5.000000  1973.000000   1994.000000     0.000000   383.500000   \n",
       "75%       6.000000  2000.000000   2004.000000   166.000000   712.250000   \n",
       "max       9.000000  2010.000000   2010.000000  1600.000000  5644.000000   \n",
       "\n",
       "           ...         WoodDeckSF  OpenPorchSF  EnclosedPorch    3SsnPorch  \\\n",
       "count      ...        1460.000000  1460.000000    1460.000000  1460.000000   \n",
       "mean       ...          94.244521    46.660274      21.954110     3.409589   \n",
       "std        ...         125.338794    66.256028      61.119149    29.317331   \n",
       "min        ...           0.000000     0.000000       0.000000     0.000000   \n",
       "25%        ...           0.000000     0.000000       0.000000     0.000000   \n",
       "50%        ...           0.000000    25.000000       0.000000     0.000000   \n",
       "75%        ...         168.000000    68.000000       0.000000     0.000000   \n",
       "max        ...         857.000000   547.000000     552.000000   508.000000   \n",
       "\n",
       "       ScreenPorch     PoolArea       MiscVal       MoSold       YrSold  \\\n",
       "count  1460.000000  1460.000000   1460.000000  1460.000000  1460.000000   \n",
       "mean     15.060959     2.758904     43.489041     6.321918  2007.815753   \n",
       "std      55.757415    40.177307    496.123024     2.703626     1.328095   \n",
       "min       0.000000     0.000000      0.000000     1.000000  2006.000000   \n",
       "25%       0.000000     0.000000      0.000000     5.000000  2007.000000   \n",
       "50%       0.000000     0.000000      0.000000     6.000000  2008.000000   \n",
       "75%       0.000000     0.000000      0.000000     8.000000  2009.000000   \n",
       "max     480.000000   738.000000  15500.000000    12.000000  2010.000000   \n",
       "\n",
       "           SalePrice  \n",
       "count    1460.000000  \n",
       "mean   180921.195890  \n",
       "std     79442.502883  \n",
       "min     34900.000000  \n",
       "25%    129975.000000  \n",
       "50%    163000.000000  \n",
       "75%    214000.000000  \n",
       "max    755000.000000  \n",
       "\n",
       "[8 rows x 38 columns]"
      ]
     },
     "execution_count": 4,
     "metadata": {},
     "output_type": "execute_result"
    }
   ],
   "source": [
    "train_ori_df.describe()"
   ]
  },
  {
   "cell_type": "markdown",
   "metadata": {
    "_cell_guid": "ba17b05a-e7af-4ee3-88ec-659b30268bee",
    "_uuid": "83c26ceab555f17a7a01b122489364aff8e21d80"
   },
   "source": [
    "&emsp;&emsp;Let's figure out  category and numeric variables."
   ]
  },
  {
   "cell_type": "code",
   "execution_count": 5,
   "metadata": {
    "_cell_guid": "fcb6b300-bd8a-4b60-a027-223e14243c0d",
    "_uuid": "842d76e86a54d2899425c12ac482527b5c5decda"
   },
   "outputs": [
    {
     "name": "stdout",
     "output_type": "stream",
     "text": [
      "Category VAriables:\n",
      "['MSZoning', 'Street', 'Alley', 'LotShape', 'LandContour', 'Utilities', 'LotConfig', 'LandSlope', 'Neighborhood', 'Condition1', 'Condition2', 'BldgType', 'HouseStyle', 'RoofStyle', 'RoofMatl', 'Exterior1st', 'Exterior2nd', 'MasVnrType', 'ExterQual', 'ExterCond', 'Foundation', 'BsmtQual', 'BsmtCond', 'BsmtExposure', 'BsmtFinType1', 'BsmtFinType2', 'Heating', 'HeatingQC', 'CentralAir', 'Electrical', 'KitchenQual', 'Functional', 'FireplaceQu', 'GarageType', 'GarageFinish', 'GarageQual', 'GarageCond', 'PavedDrive', 'PoolQC', 'Fence', 'MiscFeature', 'SaleType', 'SaleCondition']\n",
      "------------------------------\n",
      "Numeric Variables:\n",
      "['Id', 'MSSubClass', 'LotFrontage', 'LotArea', 'OverallQual', 'OverallCond', 'YearBuilt', 'YearRemodAdd', 'MasVnrArea', 'BsmtFinSF1', 'BsmtFinSF2', 'BsmtUnfSF', 'TotalBsmtSF', '1stFlrSF', '2ndFlrSF', 'LowQualFinSF', 'GrLivArea', 'BsmtFullBath', 'BsmtHalfBath', 'FullBath', 'HalfBath', 'BedroomAbvGr', 'KitchenAbvGr', 'TotRmsAbvGrd', 'Fireplaces', 'GarageYrBlt', 'GarageCars', 'GarageArea', 'WoodDeckSF', 'OpenPorchSF', 'EnclosedPorch', '3SsnPorch', 'ScreenPorch', 'PoolArea', 'MiscVal', 'MoSold', 'YrSold', 'SalePrice']\n"
     ]
    }
   ],
   "source": [
    "object_var = train_ori_df.dtypes[train_ori_df.dtypes == 'object'].index\n",
    "numeric_var = train_ori_df.dtypes[train_ori_df.dtypes != 'object'].index\n",
    "print('Category VAriables:')\n",
    "print(list(object_var))\n",
    "print('-'*30)\n",
    "print('Numeric Variables:')\n",
    "print(list(numeric_var))"
   ]
  },
  {
   "cell_type": "code",
   "execution_count": 6,
   "metadata": {
    "_cell_guid": "8011372e-5e54-4c4d-893d-5c7a6ec8083f",
    "_uuid": "2787cb37061c06973b452e3d0299681483da1006"
   },
   "outputs": [
    {
     "data": {
      "text/plain": [
       "Text(0,0.5,'SalePrice')"
      ]
     },
     "execution_count": 6,
     "metadata": {},
     "output_type": "execute_result"
    },
    {
     "data": {
      "image/png": "[encoded data removed]",
      "text/plain": [
       "<matplotlib.figure.Figure at 0x7fef68e47518>"
      ]
     },
     "metadata": {},
     "output_type": "display_data"
    }
   ],
   "source": [
    "sns.boxplot(x='MSZoning',y='SalePrice',data=train_ori_df)\n",
    "plt.title('MSZoning vs SalePrice')\n",
    "plt.xlabel('MSZoning')\n",
    "plt.ylabel('SalePrice')"
   ]
  },
  {
   "cell_type": "markdown",
   "metadata": {
    "_cell_guid": "27b1ca57-7f19-4d15-82e8-ddf4445c9d67",
    "_uuid": "725bfbb6687e67ece87db0b333ac5408860913dd"
   },
   "source": [
    "<font size=5>**1. Data Preprocessing**</font>"
   ]
  },
  {
   "cell_type": "markdown",
   "metadata": {
    "_cell_guid": "e895ff9d-b619-4fc2-9a06-6968d95a63b3",
    "_uuid": "21e72e3d333424f860c86ec46ab4c11e21a79902"
   },
   "source": [
    "<font size=4>1.1 Deal with missing values</font>"
   ]
  },
  {
   "cell_type": "code",
   "execution_count": 7,
   "metadata": {
    "_cell_guid": "cbbac800-3406-4b74-b497-3c75afc5eac1",
    "_uuid": "1c5ee354d87a99bf4978a2a79e2b555e1a16a38b",
    "scrolled": true
   },
   "outputs": [
    {
     "name": "stdout",
     "output_type": "stream",
     "text": [
      "There are 19 columns with missing values.\n"
     ]
    }
   ],
   "source": [
    "print('There are {} columns with missing values.'.format(len(train_ori_df.isnull().sum()[lambda x:x!=0])))"
   ]
  },
  {
   "cell_type": "code",
   "execution_count": 8,
   "metadata": {
    "_cell_guid": "ea365b70-2132-47f3-bc58-ff55c6b218a3",
    "_uuid": "22088e42bc3e233f53715a1c920873e4437cb3c5"
   },
   "outputs": [
    {
     "name": "stdout",
     "output_type": "stream",
     "text": [
      "There are 33 columns with missing values.\n"
     ]
    }
   ],
   "source": [
    "print('There are {} columns with missing values.'.format(len(test_ori_df.isnull().sum()[lambda x:x!=0])))"
   ]
  },
  {
   "cell_type": "markdown",
   "metadata": {
    "_cell_guid": "57dc8398-3f4a-4b6e-9f62-3e63419b220d",
    "_uuid": "178d7251a101491122279c67d3c260365c049efa"
   },
   "source": [
    "As the output shows, there are 19 columns in trainset and 33 in testset  with missing values. What I want to do is:\n",
    "           1. Find the common features, and fill in missing values together.\n",
    "           2. Fill in their own missing values one after another."
   ]
  },
  {
   "cell_type": "code",
   "execution_count": 9,
   "metadata": {
    "_cell_guid": "4230ede3-5de8-4eff-862f-2f3201dc9bb5",
    "_uuid": "96f52bcc3a97436e1b64b7c8f9574239f7f55870"
   },
   "outputs": [
    {
     "name": "stdout",
     "output_type": "stream",
     "text": [
      "There are 18 columns which have missing values in both train and test\n",
      "['LotFrontage', 'Alley', 'MasVnrType', 'MasVnrArea', 'BsmtQual', 'BsmtCond', 'BsmtExposure', 'BsmtFinType1', 'BsmtFinType2', 'FireplaceQu', 'GarageType', 'GarageYrBlt', 'GarageFinish', 'GarageQual', 'GarageCond', 'PoolQC', 'Fence', 'MiscFeature']\n",
      "--------------------------------------------------\n",
      "There are 1 column(s) which only have missing values in train.\n",
      "['Electrical']\n",
      "--------------------------------------------------\n",
      "There are 15 column(s) which only have missing values in test.\n",
      "['MSZoning', 'Utilities', 'Exterior1st', 'Exterior2nd', 'BsmtFinSF1', 'BsmtFinSF2', 'BsmtUnfSF', 'TotalBsmtSF', 'BsmtFullBath', 'BsmtHalfBath', 'KitchenQual', 'Functional', 'GarageCars', 'GarageArea', 'SaleType']\n"
     ]
    }
   ],
   "source": [
    "#find common features\n",
    "train_miss_fea_list = train_ori_df.isnull().sum()[lambda x:x!=0].index\n",
    "test_miss_fea_list = test_ori_df.isnull().sum()[lambda x:x!=0].index\n",
    "common_miss_fea_list = [ x for x in train_miss_fea_list if x in test_miss_fea_list ]\n",
    "\n",
    "#find own features\n",
    "train_own_na_list = [ x for x in train_miss_fea_list if x not in common_miss_fea_list ]\n",
    "test_own_na_list = [ x for x in test_miss_fea_list if x not in common_miss_fea_list ]\n",
    "\n",
    "print('There are {} columns which have missing values in both train and test'.format(\n",
    "    len(common_miss_fea_list)))\n",
    "print(common_miss_fea_list)\n",
    "print('-'*50)\n",
    "print('There are {} column(s) which only have missing values in train.'.format(len(train_own_na_list)))\n",
    "print(train_own_na_list)\n",
    "print('-'*50)\n",
    "print('There are {} column(s) which only have missing values in test.'.format(len(test_own_na_list)))\n",
    "print(test_own_na_list)"
   ]
  },
  {
   "cell_type": "markdown",
   "metadata": {
    "_cell_guid": "96a348da-f9c7-4464-9743-6e2863f4de11",
    "_uuid": "3b9fe9e8286d62a4971c1314d001dfc6c824fcab"
   },
   "source": [
    "Thanks to [Serigne][1]. I learned a lot from his wonderful job. And I improved some of my methods.\n",
    "[1]:https://www.kaggle.com/serigne/stacked-regressions-top-4-on-leaderboard"
   ]
  },
  {
   "cell_type": "code",
   "execution_count": 10,
   "metadata": {
    "_cell_guid": "e2ce33b4-df4f-4e0d-9a99-f1b197d39b3b",
    "_uuid": "0995de04fb442247567c2f88606764857f6a1814",
    "collapsed": true
   },
   "outputs": [],
   "source": [
    "#fillna for common features\n",
    "datasets = [train_ori_df,test_ori_df]\n",
    "\n",
    "for i in range(len(datasets)):\n",
    "    dataset = datasets[i]\n",
    "    \n",
    "    dataset['LotFrontage'] = dataset.groupby(\"Neighborhood\")['LotFrontage'].transform(\n",
    "        lambda x:x.fillna(x.median()))\n",
    "    dataset['MasVnrType'] = dataset.groupby(\"Neighborhood\")['MasVnrType'].transform(\n",
    "        lambda x:x.fillna(x.mode()[0]))\n",
    "        \n",
    "    for feat in ['MasVnrArea','GarageYrBlt']:\n",
    "        dataset[feat] = dataset[feat].fillna(0)\n",
    "    \n",
    "    collist = ['Alley','BsmtQual','BsmtCond','BsmtExposure','BsmtFinType1','BsmtFinType2','FireplaceQu',\n",
    "               'GarageType','GarageFinish','GarageQual','GarageCond','PoolQC','Fence','MiscFeature']\n",
    "    for feat in collist:\n",
    "        dataset[feat] = dataset[feat].fillna('None')\n",
    "        \n",
    "    datasets[i] = dataset\n",
    "    \n",
    "train_fillna_df,test_fillna_df = datasets[0],datasets[1]"
   ]
  },
  {
   "cell_type": "code",
   "execution_count": 11,
   "metadata": {
    "_cell_guid": "99e084a2-afc3-457c-acf1-1c238ee2f673",
    "_uuid": "4c1ba62e1a8093f8370a43d1d30ce097b50f7203",
    "collapsed": true
   },
   "outputs": [],
   "source": [
    "#deal with train own\n",
    "train_fillna_df['Electrical'] = train_fillna_df.groupby(\"Neighborhood\")['Electrical'].transform(\n",
    "    lambda x:x.fillna(x.mode()[0]))"
   ]
  },
  {
   "cell_type": "code",
   "execution_count": 12,
   "metadata": {
    "_cell_guid": "132275cb-b1b7-41f4-974c-57b0393c9398",
    "_uuid": "609653c7c7286d6d17cfffa31e1c399648e45ee8",
    "collapsed": true
   },
   "outputs": [],
   "source": [
    "#deal with test own\n",
    "test_fillna_df['BsmtFinSF1'] = test_fillna_df.groupby('BsmtFinType1')['BsmtFinSF1'].transform(\n",
    "    lambda x:x.fillna(x.median()))\n",
    "test_fillna_df['BsmtFinSF2'] = test_fillna_df.groupby('BsmtFinType2')['BsmtFinSF2'].transform(\n",
    "    lambda x:x.fillna(x.median()))\n",
    "test_fillna_df['MSZoning'] = test_fillna_df.groupby(\"Neighborhood\")['MSZoning'].transform(\n",
    "    lambda x:x.fillna(x.mode()[0]))\n",
    "test_fillna_df['Utilities'] = test_fillna_df['Utilities'].fillna('AllPub')\n",
    "test_fillna_df['Exterior1st'] = test_fillna_df.groupby(\"Neighborhood\")['Exterior1st'].transform(\n",
    "    lambda x:x.fillna(x.mode()[0]))\n",
    "test_fillna_df['Exterior2nd'] = test_fillna_df.groupby(\"Exterior1st\")['Exterior2nd'].transform(\n",
    "    lambda x:x.fillna(x.mode()[0]))\n",
    "\n",
    "for feat in ['BsmtHalfBath','KitchenQual','Functional','SaleType']:\n",
    "    test_fillna_df[feat] = test_fillna_df[feat].fillna(test_fillna_df[feat].mode()[0])\n",
    "for feat in ['BsmtUnfSF','BsmtFullBath','TotalBsmtSF']:\n",
    "    test_fillna_df[feat] = test_fillna_df[feat].fillna(test_fillna_df[feat].median())\n",
    "for feat in ['GarageArea','GarageCars']:\n",
    "    test_fillna_df[feat] = test_fillna_df[feat].fillna(0)"
   ]
  },
  {
   "cell_type": "code",
   "execution_count": 13,
   "metadata": {
    "_cell_guid": "62099565-fe13-4e39-973c-725b782b611e",
    "_uuid": "1108f899a8a90d19538ce9b66acdc2e44e65658b",
    "scrolled": true
   },
   "outputs": [
    {
     "name": "stdout",
     "output_type": "stream",
     "text": [
      "Trainset missing value: 0\n",
      "Testset missing value: 0\n"
     ]
    }
   ],
   "source": [
    "print('Trainset missing value: %d'%train_fillna_df.isnull().sum().sum())\n",
    "print('Testset missing value: %d'%test_fillna_df.isnull().sum().sum())"
   ]
  },
  {
   "cell_type": "markdown",
   "metadata": {
    "_cell_guid": "e37e9636-37f8-429e-89e4-09e13ef6677d",
    "_uuid": "5dd927ec9b7246e1c4881164e813f89689726747"
   },
   "source": [
    "<font size=4>1.2 Drop Outliers</font>"
   ]
  },
  {
   "cell_type": "markdown",
   "metadata": {
    "_cell_guid": "63d4923a-1121-4583-9c5e-7ada915772a3",
    "_uuid": "4fd784f7b6daef9223a995876f7c755d8bf211d3"
   },
   "source": [
    "&emsp;&emsp;At first, I didn't do this job because there are 80 features, I have no idea how to define the outliers and I also think this is unnecessary for this work. However, I found that lots of people figure out the points below. And obviously they are right!"
   ]
  },
  {
   "cell_type": "markdown",
   "metadata": {
    "_cell_guid": "0115b013-c34c-4006-aff1-adc9833cc0d2",
    "_uuid": "d5413211ddf5fe799ab90fc2a4571b5ed8f3d254"
   },
   "source": [
    "&emsp;&emsp;For more imformation, you can read the document [*AmesHousing.txt*][1]\n",
    "[1]:http://ww2.amstat.org/publications/jse/v19n3/Decock/DataDocumentation.txt"
   ]
  },
  {
   "cell_type": "code",
   "execution_count": 14,
   "metadata": {
    "_cell_guid": "f6391de1-3461-4c59-80b6-ec78a510966e",
    "_uuid": "186ae89767fc80270b964d0171dfedd6fc66e3fb"
   },
   "outputs": [
    {
     "data": {
      "text/plain": [
       "Text(0.5,0,'GrLivArea')"
      ]
     },
     "execution_count": 14,
     "metadata": {},
     "output_type": "execute_result"
    },
    {
     "data": {
      "image/png": "[encoded data removed]",
      "text/plain": [
       "<matplotlib.figure.Figure at 0x7fef68e9d2e8>"
      ]
     },
     "metadata": {},
     "output_type": "display_data"
    }
   ],
   "source": [
    "plt.scatter(x = train_fillna_df['GrLivArea'], y = train_fillna_df['SalePrice'])\n",
    "plt.ylabel('SalePrice', fontsize=13)\n",
    "plt.xlabel('GrLivArea', fontsize=13)"
   ]
  },
  {
   "cell_type": "markdown",
   "metadata": {
    "_cell_guid": "50052ef8-893e-4e29-948f-da541948bc91",
    "_uuid": "fa20e8d89968c856ffe68b7fef2d824de64a6adb"
   },
   "source": [
    "&emsp;&emsp;Yep! Quite clearly! There are two outliers that are of a low price with extremely large GrLivArea. It's ridiculous! However I wish they are actually existed!  Remove them!"
   ]
  },
  {
   "cell_type": "code",
   "execution_count": 15,
   "metadata": {
    "_cell_guid": "eef79bc3-adef-4ec9-9f69-6e6f2f638da9",
    "_uuid": "634d18c7e5230cebda4217b8fb6540b4eeb460d9",
    "collapsed": true
   },
   "outputs": [],
   "source": [
    "train_fillna_df = train_fillna_df.drop(\n",
    "    train_fillna_df[(train_fillna_df['GrLivArea']>4000) & (train_fillna_df['SalePrice']<300000)].index)"
   ]
  },
  {
   "cell_type": "code",
   "execution_count": 16,
   "metadata": {
    "_cell_guid": "bd0e9f1f-df71-4c04-b730-893d492b5ddd",
    "_uuid": "0de0646a107ff7f61c8e2ca31b38507cd5253b61"
   },
   "outputs": [
    {
     "data": {
      "text/plain": [
       "Text(0.5,0,'GrLivArea')"
      ]
     },
     "execution_count": 16,
     "metadata": {},
     "output_type": "execute_result"
    },
    {
     "data": {
      "image/png": "[encoded data removed]",
      "text/plain": [
       "<matplotlib.figure.Figure at 0x7fef68b5bac8>"
      ]
     },
     "metadata": {},
     "output_type": "display_data"
    }
   ],
   "source": [
    "plt.scatter(x = train_fillna_df['GrLivArea'], y = train_fillna_df['SalePrice'])\n",
    "plt.ylabel('SalePrice', fontsize=13)\n",
    "plt.xlabel('GrLivArea', fontsize=13)"
   ]
  },
  {
   "cell_type": "markdown",
   "metadata": {
    "_cell_guid": "8c43e2b4-45ae-4590-b265-5d042c32496e",
    "_uuid": "d3b1de51a7b18a9176ce9470e9de351d12069d86"
   },
   "source": [
    "&emsp;&emsp;Take a look at corr-heatplot"
   ]
  },
  {
   "cell_type": "code",
   "execution_count": 17,
   "metadata": {
    "_cell_guid": "f579ee50-1fa5-403d-89f3-3e0d0e9b7358",
    "_uuid": "deb21589836052e6912e431c1e92cd0319e836e6"
   },
   "outputs": [
    {
     "data": {
      "image/png": "[encoded data removed]",
      "text/plain": [
       "<matplotlib.figure.Figure at 0x7fef68aa9eb8>"
      ]
     },
     "metadata": {},
     "output_type": "display_data"
    }
   ],
   "source": [
    "plt.subplots(figsize=(12,10))\n",
    "corrmat = train_fillna_df.corr()\n",
    "g = sns.heatmap(train_fillna_df.corr())"
   ]
  },
  {
   "cell_type": "markdown",
   "metadata": {
    "_cell_guid": "2ba88126-2c73-49e3-beb1-1087dabdbcfb",
    "_uuid": "ad4c8d04f0143631a04d48952ee51be36e9cfc65"
   },
   "source": [
    "<font size=5>2. Feature Engining</font>"
   ]
  },
  {
   "cell_type": "markdown",
   "metadata": {
    "_cell_guid": "636566c8-604b-47cb-9a62-21538ff4279a",
    "_uuid": "67ff3dab40ccebbb97566263c47928b9e74d96ae"
   },
   "source": [
    "&emsp;&emsp;There are different types of values in the dataset. What I need to do is to divide all features into groups of category, label and just float or integer. "
   ]
  },
  {
   "cell_type": "markdown",
   "metadata": {
    "_cell_guid": "09f56985-8bb6-400d-bfb7-20db8d91653e",
    "_uuid": "ef40f99d8911924b25d40752ec680b3407f4e8fa"
   },
   "source": [
    "&emsp;&emsp;And I also need to prepare the y_train."
   ]
  },
  {
   "cell_type": "code",
   "execution_count": 18,
   "metadata": {
    "_cell_guid": "d3402f43-52fa-461f-8744-aeb427b066cf",
    "_uuid": "37ffdca2a9d6835fda5d988bc9d09b0afb1e2084"
   },
   "outputs": [
    {
     "data": {
      "text/plain": [
       "<matplotlib.axes._subplots.AxesSubplot at 0x7fef68928940>"
      ]
     },
     "execution_count": 18,
     "metadata": {},
     "output_type": "execute_result"
    },
    {
     "data": {
      "image/png": "[encoded data removed]",
      "text/plain": [
       "<matplotlib.figure.Figure at 0x7fef689d1160>"
      ]
     },
     "metadata": {},
     "output_type": "display_data"
    }
   ],
   "source": [
    "y_train = train_fillna_df['SalePrice']\n",
    "\n",
    "sns.distplot(y_train,rug=True)"
   ]
  },
  {
   "cell_type": "markdown",
   "metadata": {
    "_cell_guid": "fb73a5f5-9067-46fb-b595-05811518050e",
    "_uuid": "6f61fd6a106aa99d512627fa1ec916ed9a6822d7"
   },
   "source": [
    "&emsp;&emsp;Unfortunately, it's right skewed. I have to make a log1p transform in order to make it more normally distributed."
   ]
  },
  {
   "cell_type": "code",
   "execution_count": 19,
   "metadata": {
    "_cell_guid": "8e8a05c9-e159-4870-9263-edd48100f98a",
    "_uuid": "1394d1b20f1649c2425f7b43c4211058d55fffc8"
   },
   "outputs": [
    {
     "data": {
      "image/png": "[encoded data removed]",
      "text/plain": [
       "<matplotlib.figure.Figure at 0x7fef686e0ba8>"
      ]
     },
     "metadata": {},
     "output_type": "display_data"
    }
   ],
   "source": [
    "y_train = np.log1p(y_train)\n",
    "\n",
    "sns.distplot(y_train,fit=norm);\n",
    "(mu,sigma) = norm.fit(y_train)"
   ]
  },
  {
   "cell_type": "markdown",
   "metadata": {
    "_cell_guid": "31041484-c257-4eff-b6d8-e01b0da2ab3b",
    "_uuid": "0cc2d54f31b631a92336caa95ac67dbc4d58d481"
   },
   "source": [
    "&emsp;&emsp;OK! That's it!"
   ]
  },
  {
   "cell_type": "markdown",
   "metadata": {
    "_cell_guid": "658df81f-14f8-4b41-bd32-3c6f08208434",
    "_uuid": "5a2a96f0680e0dc096ecdb6ce0aa8055a65d378a"
   },
   "source": [
    "&emsp;&emsp;Now I'll deal with the rest data."
   ]
  },
  {
   "cell_type": "code",
   "execution_count": 20,
   "metadata": {
    "_cell_guid": "20ff6720-7659-4245-a9e7-3cb78218d441",
    "_uuid": "0e876a2a59d046ac57a3e9dda1830329ac6e7817"
   },
   "outputs": [
    {
     "name": "stdout",
     "output_type": "stream",
     "text": [
      "There are 1458 rows and 80 columns in train.\n",
      "There are 1459 rows and 80 columns in test.\n",
      "There are 2917 rows and 80 columns in full_data.\n"
     ]
    }
   ],
   "source": [
    "ntrain = train_fillna_df.shape[0]\n",
    "train_fillna_df = train_fillna_df[train_fillna_df.columns[:-1]]\n",
    "print('There are {} rows and {} columns in train.'.format(train_fillna_df.shape[0],train_fillna_df.shape[1]))\n",
    "print('There are {} rows and {} columns in test.'.format(test_fillna_df.shape[0],test_fillna_df.shape[1]))\n",
    "\n",
    "full_data = pd.concat([train_fillna_df,test_fillna_df])\n",
    "print('There are {} rows and {} columns in full_data.'.format(full_data.shape[0],full_data.shape[1]))"
   ]
  },
  {
   "cell_type": "markdown",
   "metadata": {
    "_cell_guid": "9ee77500-0449-4d4e-9ed0-6b479b8d2649",
    "_uuid": "0137fc55d6fb56760280af2514b7f6cbb7a61b4d"
   },
   "source": [
    "&emsp;&emsp;Let's see what kind of types we have now."
   ]
  },
  {
   "cell_type": "code",
   "execution_count": 21,
   "metadata": {
    "_cell_guid": "ac4bae03-d279-4103-a84d-0a5aa2734ef2",
    "_uuid": "3a672dfe4df3338e90d2f84fbf817465759c9cde"
   },
   "outputs": [
    {
     "data": {
      "text/plain": [
       "object     43\n",
       "int64      26\n",
       "float64    11\n",
       "dtype: int64"
      ]
     },
     "execution_count": 21,
     "metadata": {},
     "output_type": "execute_result"
    }
   ],
   "source": [
    "full_data.dtypes.value_counts()"
   ]
  },
  {
   "cell_type": "markdown",
   "metadata": {
    "_cell_guid": "83627c60-ddae-46bf-aa64-730d4b81967e",
    "_uuid": "d85e7b171ef07811ee4cb056c8568cb1f6be3dad"
   },
   "source": [
    "&emsp;&emsp;Now I need to make some new features because some original columns are not fit my predction or not enough.  And I want to make more labels."
   ]
  },
  {
   "cell_type": "markdown",
   "metadata": {
    "_cell_guid": "b281dfe1-27c7-4992-9033-9c561ea26eb5",
    "_uuid": "c69b29283d40df2338dfa21bb4050471d973262e"
   },
   "source": [
    "&emsp;&emsp;Obviously, total space quit affects the price. I make two different features. One is the total housing area, the other is the indoor area consist of basement, 1st floor and 2nd floor.(if have). And whether your house is finished also affect the saleprice"
   ]
  },
  {
   "cell_type": "code",
   "execution_count": 22,
   "metadata": {
    "_cell_guid": "8ef277a7-141b-47cc-87aa-3e143d0fe46d",
    "_uuid": "0d651bab18cabc59acf8173963493a1dd3077f89",
    "collapsed": true
   },
   "outputs": [],
   "source": [
    "#Obviously, total space quit affects the price\n",
    "area_cols = ['LotFrontage','LotArea','MasVnrArea','BsmtFinSF1','BsmtFinSF2','BsmtUnfSF',\n",
    "             'TotalBsmtSF','1stFlrSF','2ndFlrSF','GrLivArea','GarageArea','WoodDeckSF',\n",
    "             'OpenPorchSF','EnclosedPorch','3SsnPorch','ScreenPorch','LowQualFinSF','PoolArea' ]\n",
    "full_data[\"TotalArea\"] = full_data[area_cols].sum(axis=1)\n",
    "full_data[\"TotalAreaBsmt1st2nd\"] = full_data['TotalBsmtSF']+full_data[\"1stFlrSF\"]+full_data[\"2ndFlrSF\"]\n",
    "full_data['HouseStyleFin'] = full_data['HouseStyle'].map(lambda x: 0 if x in ['2.5Unf','1.5Unf'] else 1)"
   ]
  },
  {
   "cell_type": "markdown",
   "metadata": {
    "_cell_guid": "a297ef3c-489b-439e-b263-dd51e0ba9ac1",
    "_uuid": "ab61d4c9ecd693fd9201b08f6978df14c1a74dfe"
   },
   "source": [
    "&emsp;&emsp;I find some features whose type is numeric but are actually label vatiables. So they need to be separated from other numeric variables."
   ]
  },
  {
   "cell_type": "code",
   "execution_count": 23,
   "metadata": {
    "_cell_guid": "57e2082c-b61e-4fdb-9272-81f08c05d1f9",
    "_uuid": "919666611b10c52059962bc4a5c1dc9a95ca0b10",
    "collapsed": true
   },
   "outputs": [],
   "source": [
    "from sklearn.preprocessing import LabelEncoder\n",
    "\n",
    "lbl = LabelEncoder()\n",
    "lbl.fit(list(full_data['MSSubClass'].values))\n",
    "full_data['MSSubClass'] = lbl.transform(list(full_data['MSSubClass'].values))\n",
    "\n",
    "full_data['GarageYrBlt']=full_data['GarageYrBlt'].astype(int)\n",
    "\n",
    "intTostr = ['OverallQual','OverallCond','GarageYrBlt','MoSold','YrSold','YearBuilt','YearRemodAdd']\n",
    "for c in intTostr:\n",
    "    full_data[c] = full_data[c].astype(str)\n",
    "\n",
    "num_list = full_data.dtypes[full_data.dtypes != 'object'].index.drop('Id')\n",
    "\n",
    "for c in intTostr:\n",
    "    full_data[c] = full_data[c].astype(int)"
   ]
  },
  {
   "cell_type": "markdown",
   "metadata": {
    "_cell_guid": "4e553bd1-22db-4404-80cf-59e285385b8d",
    "_uuid": "578dcfde81e96c7242888adf1b22e885dc23aaee"
   },
   "source": [
    "&emsp;&emsp;And [*Human Analog's Xgboost+Lasso*][1] helps me a lot in feature struction. I also benefit so much from his Simplifications of existing features into bad/average/good.\n",
    "[1]:https://www.kaggle.com/humananalog/xgboost-lasso"
   ]
  },
  {
   "cell_type": "markdown",
   "metadata": {
    "_cell_guid": "63e9c151-b88d-485f-bac0-b540287ffaed",
    "_uuid": "6a27f2703b14c66e73f2776ec09cbe2f08bb3773"
   },
   "source": [
    "&emsp;&emsp;First, I make some labels that shows whether the house has basic facilities."
   ]
  },
  {
   "cell_type": "code",
   "execution_count": 24,
   "metadata": {
    "_cell_guid": "93b218cb-2af8-4fa2-a357-0508149dd5d9",
    "_uuid": "deb4592a9e599e873be2151551fb09bd2c5f2baf",
    "collapsed": true
   },
   "outputs": [],
   "source": [
    "full_data['HasFirePlace'] = (full_data['FireplaceQu'] != 'None')*1\n",
    "full_data['HasGarage'] = (full_data['GarageType'] != 'None')*1\n",
    "full_data['HasPool'] = (full_data['PoolQC'] != 'None')*1\n",
    "full_data['HasFence'] = (full_data['Fence'] != 'None')*1\n",
    "full_data['HasBasement'] = (full_data['BsmtQual'] != 'None')*1\n",
    "full_data[\"Has2ndFloor\"] = (full_data[\"2ndFlrSF\"] != 0)*1\n",
    "full_data[\"HasMasVnr\"] = (full_data[\"MasVnrArea\"] != 0)*1\n",
    "full_data[\"HasWoodDeck\"] = (full_data[\"WoodDeckSF\"] != 0)*1\n",
    "full_data[\"HasOpenPorch\"] = (full_data[\"OpenPorchSF\"] != 0)*1\n",
    "full_data[\"HasEnclosedPorch\"] = (full_data[\"EnclosedPorch\"] != 0)*1\n",
    "full_data[\"Has3SsnPorch\"] = (full_data[\"3SsnPorch\"] != 0)*1\n",
    "full_data[\"HasScreenPorch\"] = (full_data[\"ScreenPorch\"] != 0)*1"
   ]
  },
  {
   "cell_type": "markdown",
   "metadata": {
    "_cell_guid": "2160f9aa-2687-4393-bdcf-4ac78207f0a6",
    "_uuid": "d84cc0226a7e0887dabac865701b730697c0c45c"
   },
   "source": [
    "&emsp;&emsp;I noticed that if the house doesn't have second exterior, *Exterior1st* and *Exterior2nd* are the same. So are *Condition1* and *Condition2*."
   ]
  },
  {
   "cell_type": "code",
   "execution_count": 25,
   "metadata": {
    "_cell_guid": "45ae3f14-b7ea-410b-ad55-fdcc051dbdf0",
    "_uuid": "33e60a4eac0cab801274a689e586c1e4c7646881",
    "collapsed": true
   },
   "outputs": [],
   "source": [
    "full_data.loc[full_data['Exterior1st'] == full_data['Exterior2nd'],'Exterior2nd'] = 'None'\n",
    "full_data.loc[full_data['Condition1'] == full_data['Condition2'],'Condition2'] = 'None'"
   ]
  },
  {
   "cell_type": "markdown",
   "metadata": {
    "_cell_guid": "53f6c556-02e9-442e-8434-41f0d5c34912",
    "_uuid": "dab7a57bb7da413ac85cc8a34b9e2affc46baa5e"
   },
   "source": [
    "&emsp;&emsp;We need to pay attention to the date variables. I have to make some transformation so that I can find useful information."
   ]
  },
  {
   "cell_type": "code",
   "execution_count": 26,
   "metadata": {
    "_cell_guid": "e75317cb-f364-40f6-b0db-4e29086ec199",
    "_uuid": "022646f980288caca48325e3421ae542f24d1742",
    "collapsed": true
   },
   "outputs": [],
   "source": [
    "full_data['HasRemodeled'] = (full_data['YearRemodAdd'] != full_data['YearBuilt'])*1\n",
    "full_data['RecentRemodeled'] = (full_data['YearRemodAdd'] == full_data['YrSold'])*1\n",
    "full_data[\"VeryNewHouse\"] = (full_data[\"YearBuilt\"] == full_data[\"YrSold\"])*1\n",
    "full_data[\"Age\"] = 2010 - full_data[\"YearBuilt\"]\n",
    "full_data[\"TimeSinceSold\"] = 2010 - full_data[\"YrSold\"]\n",
    "full_data[\"SeasonSold\"] = full_data[\"MoSold\"].map(\n",
    "    {12:0, 1:0, 2:0, 3:1, 4:1, 5:1, 6:2, 7:2, 8:2, 9:3, 10:3, 11:3})\n",
    "full_data[\"YearsSinceRemodel\"] = full_data[\"YrSold\"] - full_data[\"YearRemodAdd\"]\n",
    "full_data[\"HighSeason\"] = full_data[\"MoSold\"].map( \n",
    "        {1: 0, 2: 0, 3: 0, 4: 1, 5: 1, 6: 1, 7: 1, 8: 0, 9: 0, 10: 0, 11: 0, 12: 0})"
   ]
  },
  {
   "cell_type": "markdown",
   "metadata": {
    "_cell_guid": "6fe0ede3-63b6-47b6-acba-06eadeeb25db",
    "_uuid": "4b4be163c6f18917f209678acfc10c77c2c9e06e"
   },
   "source": [
    "&emsp;&emsp;And the saleprice also depends on where we live. So the neighbourhood is an important variable for our prediction as well. However the number of values of *Neighborhood* are quite big, so I group them with the help of median."
   ]
  },
  {
   "cell_type": "code",
   "execution_count": 27,
   "metadata": {
    "_cell_guid": "164a6dad-b870-4310-82e7-526a5e010c9e",
    "_uuid": "208d995316f104715c34ffb52a639bc862965919"
   },
   "outputs": [
    {
     "data": {
      "text/plain": [
       "Neighborhood\n",
       "MeadowV     88000\n",
       "IDOTRR     103000\n",
       "BrDale     106000\n",
       "OldTown    119000\n",
       "Edwards    121750\n",
       "BrkSide    124300\n",
       "Sawyer     135000\n",
       "Blueste    137500\n",
       "SWISU      139500\n",
       "NAmes      140000\n",
       "NPkVill    146000\n",
       "Mitchel    153500\n",
       "SawyerW    179900\n",
       "Gilbert    181000\n",
       "NWAmes     182900\n",
       "Blmngtn    191000\n",
       "CollgCr    197200\n",
       "ClearCr    200250\n",
       "Crawfor    200624\n",
       "Veenker    218000\n",
       "Somerst    225500\n",
       "Timber     228475\n",
       "StoneBr    278000\n",
       "NoRidge    301500\n",
       "NridgHt    315000\n",
       "Name: SalePrice, dtype: int64"
      ]
     },
     "execution_count": 27,
     "metadata": {},
     "output_type": "execute_result"
    }
   ],
   "source": [
    "train_ori_df[\"SalePrice\"].groupby(train_ori_df[\"Neighborhood\"]).median().sort_values()"
   ]
  },
  {
   "cell_type": "markdown",
   "metadata": {
    "_cell_guid": "da9c9b14-8622-4897-a0ff-5b0ac65a0c6d",
    "_uuid": "562896f4af13469df7c7f1c324637322e50cf4f3"
   },
   "source": [
    "&emsp;&emsp;And I divide the interval by step of 5000. Then I apply it on my dataset."
   ]
  },
  {
   "cell_type": "code",
   "execution_count": 28,
   "metadata": {
    "_cell_guid": "db2a520c-2c80-418e-bd55-727754199b22",
    "_uuid": "91d30381f376efed386fce96ca4e445676c39075",
    "collapsed": true
   },
   "outputs": [],
   "source": [
    "neighborhood_map = {\n",
    "        \"MeadowV\" : 0,  #  88000\n",
    "        \"IDOTRR\" : 1,   # 103000\n",
    "        \"BrDale\" : 1,   # 106000\n",
    "        \"OldTown\" : 1,  # 119000\n",
    "        \"Edwards\" : 1,  # 119500\n",
    "        \"BrkSide\" : 1,  # 124300\n",
    "        \"Sawyer\" : 1,   # 135000\n",
    "        \"Blueste\" : 1,  # 137500\n",
    "        \"SWISU\" : 2,    # 139500\n",
    "        \"NAmes\" : 2,    # 140000\n",
    "        \"NPkVill\" : 2,  # 146000\n",
    "        \"Mitchel\" : 2,  # 153500\n",
    "        \"SawyerW\" : 2,  # 179900\n",
    "        \"Gilbert\" : 2,  # 181000\n",
    "        \"NWAmes\" : 2,   # 182900\n",
    "        \"Blmngtn\" : 2,  # 191000\n",
    "        \"CollgCr\" : 2,  # 197200\n",
    "        \"ClearCr\" : 3,  # 200250\n",
    "        \"Crawfor\" : 3,  # 200624\n",
    "        \"Veenker\" : 3,  # 218000\n",
    "        \"Somerst\" : 3,  # 225500\n",
    "        \"Timber\" : 3,   # 228475\n",
    "        \"StoneBr\" : 4,  # 278000\n",
    "        \"NoRidge\" : 4,  # 290000\n",
    "        \"NridgHt\" : 4,  # 315000\n",
    "}\n",
    "full_data['Neighborhood'] = full_data['Neighborhood'].map(neighborhood_map)"
   ]
  },
  {
   "cell_type": "markdown",
   "metadata": {
    "_cell_guid": "be330cdd-3007-4951-9251-0911cccea08d",
    "_uuid": "876c4bedffee1b39ba7879cd628d100c76e95ee3"
   },
   "source": [
    "&emsp;&emsp;I need to struct some functions to help me transform some features."
   ]
  },
  {
   "cell_type": "code",
   "execution_count": 29,
   "metadata": {
    "_cell_guid": "34495f5c-50d4-4dfd-a318-948fd819700d",
    "_uuid": "962d5a54a2e93b5f36e926ac2e521882ffe5cb0f",
    "collapsed": true
   },
   "outputs": [],
   "source": [
    "def self_func_qual_lbl(value):\n",
    "    if value == 'None':\n",
    "        return 0\n",
    "    lbl_val_dic = {'Ex':5,'Gd':4,'TA':3,'Fa':2,'Po':1}\n",
    "    return lbl_val_dic[value]\n",
    "\n",
    "def self_func_expo_lbl(value):\n",
    "    if value == 'None':\n",
    "        return 0\n",
    "    lbl_val_dic = {'Gd':4,'Av':3,'Mn':2,'No':1}\n",
    "    return lbl_val_dic[value]\n",
    "\n",
    "def self_func_fintype_lbl(value):\n",
    "    if value == 'None':\n",
    "        return 0\n",
    "    lbl_val_dic = {'GLQ':6,'ALQ':5,'BLQ':4,'Rec':3,'LwQ':2,'Unf':1}\n",
    "    return lbl_val_dic[value]\n",
    "\n",
    "def self_func_garfin_lbl(value):\n",
    "    if value == 'None':\n",
    "        return 0\n",
    "    lbl_val_dic = {'Fin':3,'RFn':2,'Unf':1}\n",
    "    return lbl_val_dic[value]\n",
    "\n",
    "def self_func_fence_lbl(value):\n",
    "    if value == 'None':\n",
    "        return 0\n",
    "    lbl_val_dic = {'GdPrv':4,'MnPrv':3,'GdWo':2,'MnWw':1}\n",
    "    return lbl_val_dic[value]\n",
    "                   \n",
    "def self_func_pave_lbl(value):\n",
    "    if value == 'None':\n",
    "        return 0\n",
    "    lbl_val_dic = {'Y':3,'P':2,'N':1}\n",
    "    return lbl_val_dic[value]"
   ]
  },
  {
   "cell_type": "code",
   "execution_count": 30,
   "metadata": {
    "_cell_guid": "45ad57c7-1956-4c00-8982-6a1c3e3fc241",
    "_uuid": "88452f2950b8bbaa398ed5c67a13929c989e2047",
    "collapsed": true
   },
   "outputs": [],
   "source": [
    "# make label ==> quality\n",
    "qual_list = ['ExterQual','ExterCond','BsmtQual','BsmtCond','HeatingQC','KitchenQual','FireplaceQu',\n",
    "             'GarageQual','GarageCond','PoolQC']\n",
    "for c in qual_list:\n",
    "    full_data[c] = full_data[c].map(self_func_qual_lbl)\n",
    "    \n",
    "#make label ==> Exposure\n",
    "full_data['BsmtExposure'] = full_data['BsmtExposure'].map(self_func_expo_lbl)\n",
    "\n",
    "#make label ==> FinType\n",
    "fintype_list = ['BsmtFinType1','BsmtFinType2']\n",
    "for c in fintype_list:\n",
    "    full_data[c] = full_data[c].map(self_func_fintype_lbl)\n",
    "    \n",
    "#make label ==> GarFin\n",
    "full_data['GarageFinish'] = full_data['GarageFinish'].map(self_func_garfin_lbl)\n",
    "\n",
    "#make label ==> Fence\n",
    "full_data['Fence'] = full_data['Fence'].map(self_func_fence_lbl)\n",
    "\n",
    "#make label ==> Pavement\n",
    "full_data['PavedDrive'] = full_data['PavedDrive'].map(self_func_pave_lbl)\n"
   ]
  },
  {
   "cell_type": "code",
   "execution_count": 31,
   "metadata": {
    "_cell_guid": "65ef917c-be7c-4657-8564-1824e13851ed",
    "_uuid": "e3b55a5de729f7691a3ca5dd92c2ce883888dea0",
    "collapsed": true
   },
   "outputs": [],
   "source": [
    "full_data.YrSold = full_data.YrSold.astype(str)\n",
    "full_data.MoSold = full_data.MoSold.astype(str)\n",
    "full_data.MSSubClass = full_data.MSSubClass.astype(str)\n",
    "full_data.HalfBath = full_data.HalfBath.astype(str)\n",
    "full_data.BedroomAbvGr = full_data.BedroomAbvGr.astype(str)\n",
    "full_data.GarageCars = full_data.GarageCars.astype(str)"
   ]
  },
  {
   "cell_type": "markdown",
   "metadata": {
    "_cell_guid": "29f04732-9744-4988-aa82-16b75d4533f0",
    "_uuid": "7aabcae21aed781b7979361ddf80d0540e539810"
   },
   "source": [
    "&emsp;&emsp;Now I'll check the skewness. If skewness>0.75, it'll be Box-Cox transformed."
   ]
  },
  {
   "cell_type": "code",
   "execution_count": 32,
   "metadata": {
    "_cell_guid": "9a315ad2-ecee-49ff-bb71-17524561a2a2",
    "_uuid": "64fc1aab6a45d2c29a97cb093528b19b21a880d1",
    "collapsed": true
   },
   "outputs": [],
   "source": [
    "skew_list = full_data[num_list].skew()\n",
    "bc_trans_list = skew_list[lambda x:x>0.75].index\n",
    "\n",
    "from scipy.special import boxcox1p\n",
    "\n",
    "for feat in bc_trans_list:\n",
    "    full_data[feat] = boxcox1p(full_data[feat],0.15)"
   ]
  },
  {
   "cell_type": "markdown",
   "metadata": {
    "_cell_guid": "7c2ea54f-cca5-4872-a3fa-b98b8b9812b5",
    "_uuid": "dbb2ebc6d31d44f63925c709ad5901abc1a4b09e"
   },
   "source": [
    "&emsp;&emsp;After dropping useless features, I make dummy variables."
   ]
  },
  {
   "cell_type": "code",
   "execution_count": 33,
   "metadata": {
    "_cell_guid": "371af468-e0af-4691-9f03-83ad04d2cd1b",
    "_uuid": "fad47a355e16eb1829525e5da5148aea478b35c4"
   },
   "outputs": [
    {
     "data": {
      "text/plain": [
       "(2917, 277)"
      ]
     },
     "execution_count": 33,
     "metadata": {},
     "output_type": "execute_result"
    }
   ],
   "source": [
    "del full_data['Id']\n",
    "del full_data['Utilities']\n",
    "del full_data['GarageYrBlt']\n",
    "full_data = pd.get_dummies(full_data)\n",
    "\n",
    "full_data.shape"
   ]
  },
  {
   "cell_type": "markdown",
   "metadata": {
    "_cell_guid": "b475f893-59ef-44cd-bb77-2f3f97aea9c3",
    "_uuid": "e1b02e51a54223c8d2c1cc3b6a9faa395d4a234e"
   },
   "source": [
    "<font size=5>**2. Feature Selection**</font>"
   ]
  },
  {
   "cell_type": "code",
   "execution_count": 34,
   "metadata": {
    "_cell_guid": "43c4b9cb-6572-457e-81f1-31350337b83f",
    "_uuid": "d75052ebcd5d2239d6350f4697d71fff277ddfce"
   },
   "outputs": [
    {
     "name": "stdout",
     "output_type": "stream",
     "text": [
      "(1458, 277)\n",
      "(1459, 277)\n"
     ]
    }
   ],
   "source": [
    "train = full_data[:ntrain]\n",
    "test = full_data[ntrain:]\n",
    "print(train.shape)\n",
    "print(test.shape)"
   ]
  },
  {
   "cell_type": "code",
   "execution_count": 35,
   "metadata": {
    "_cell_guid": "47a19ee8-d449-4970-b84e-b572fdfcd8ce",
    "_uuid": "47673e4bcf5428e58c8007cee67668ccc3895d01",
    "collapsed": true
   },
   "outputs": [],
   "source": [
    "import pickle\n",
    "trainset = pd.concat([train,y_train],axis=1)\n",
    "with open('nyhouse_train.pkl','wb') as f:\n",
    "    pick = pickle.Pickler(f)\n",
    "    pick.dump(trainset)\n",
    "    pick.clear_memo()\n",
    "    f.close()"
   ]
  },
  {
   "cell_type": "code",
   "execution_count": 36,
   "metadata": {
    "_cell_guid": "a1fbad41-eb56-48da-9afd-8e567cc62e36",
    "_uuid": "dd8c7c3100a69036821ba95c052313d6df930b4d"
   },
   "outputs": [
    {
     "ename": "NameError",
     "evalue": "name 'stop' is not defined",
     "output_type": "error",
     "traceback": [
      "\u001b[0;31m---------------------------------------------------------------------------\u001b[0m",
      "\u001b[0;31mNameError\u001b[0m                                 Traceback (most recent call last)",
      "\u001b[0;32m<ipython-input-36-94ad88261e41>\u001b[0m in \u001b[0;36m<module>\u001b[0;34m()\u001b[0m\n\u001b[0;32m----> 1\u001b[0;31m \u001b[0mstop\u001b[0m\u001b[0;34m.\u001b[0m\u001b[0malal\u001b[0m\u001b[0;34m\u001b[0m\u001b[0m\n\u001b[0m",
      "\u001b[0;31mNameError\u001b[0m: name 'stop' is not defined"
     ]
    }
   ],
   "source": [
    "stop.alal"
   ]
  },
  {
   "cell_type": "markdown",
   "metadata": {
    "_cell_guid": "4196e016-64fa-4d43-8738-26300d90a58b",
    "_uuid": "cbfbd81e57d31807a24a7dd97cb77a5390d78616"
   },
   "source": [
    "<font size=5>**3. Modeling**</font>"
   ]
  },
  {
   "cell_type": "code",
   "execution_count": 37,
   "metadata": {
    "_cell_guid": "e77ce915-5193-423c-8b5d-cf7517542ab9",
    "_uuid": "4de9e38845204af8978fda63d2e56a8d284cf7d2",
    "collapsed": true
   },
   "outputs": [],
   "source": [
    "from sklearn.linear_model import ElasticNet, Lasso,  BayesianRidge, Ridge, LinearRegression\n",
    "from sklearn.ensemble import RandomForestRegressor,  GradientBoostingRegressor\n",
    "from sklearn.kernel_ridge import KernelRidge\n",
    "from sklearn.pipeline import make_pipeline\n",
    "from sklearn.preprocessing import RobustScaler\n",
    "from sklearn.base import BaseEstimator, TransformerMixin, RegressorMixin, clone\n",
    "from sklearn.model_selection import KFold, cross_val_score, train_test_split, GridSearchCV\n",
    "from sklearn.metrics import mean_squared_error\n",
    "import xgboost as xgb\n",
    "import lightgbm as lgb\n",
    "import warnings\n",
    "warnings.filterwarnings(\"ignore\")"
   ]
  },
  {
   "cell_type": "code",
   "execution_count": 38,
   "metadata": {
    "_cell_guid": "db999377-3b21-474e-acea-67ac813f953e",
    "_uuid": "41b104d5eb666c167263335641c4720258ed0575",
    "collapsed": true
   },
   "outputs": [
    {
     "name": "stdout",
     "output_type": "stream",
     "text": [
      "(1093, 277)\n",
      "(365, 277)\n"
     ]
    }
   ],
   "source": [
    "train = train.as_matrix().astype(float)\n",
    "test = test.as_matrix().astype(float)\n",
    "label = y_train.as_matrix().astype(float)\n",
    "\n",
    "Xtrain,Xtest,ytrain,ytest = train_test_split(train,label,test_size=0.25,random_state=0)\n",
    "print(Xtrain.shape)\n",
    "print(Xtest.shape)"
   ]
  },
  {
   "cell_type": "code",
   "execution_count": 39,
   "metadata": {
    "_cell_guid": "e8bb1b00-fdfa-454d-a980-6560c96fb581",
    "_uuid": "b08ce40b5e7a523e4d8b2d0b371e0fb95bdc844f",
    "collapsed": true
   },
   "outputs": [],
   "source": [
    "basic_model_search_switch = False\n",
    "\n",
    "def gridsearch_result(model,params):\n",
    "    model_gscv = GridSearchCV(model,params,scoring='mean_squared_error',cv=5)\n",
    "    model_gscv.fit(Xtrain,ytrain)\n",
    "    y_pred = model_gscv.predict(Xtest)\n",
    "    score = mean_squared_error(ytest,y_pred)\n",
    "    rmse = np.sqrt(-model_gscv.best_score_)\n",
    "    print('Best cv score: {}'.format(rmse))\n",
    "    return model_gscv.best_params_,score"
   ]
  },
  {
   "cell_type": "code",
   "execution_count": 40,
   "metadata": {
    "_cell_guid": "c1d7a846-a5a5-47b4-ad55-04ab5fa128ad",
    "_uuid": "7ed244ce8fbe679017c2ea08d5c569ae2306603b",
    "collapsed": true
   },
   "outputs": [
    {
     "data": {
      "text/plain": [
       "\"\\nBest cv score: 0.1358356834302731\\nLinear testing score: 0.01390175776570855\\nWith the best parameters:\\n{'fit_intercept': False}\\n\""
      ]
     },
     "execution_count": 40,
     "metadata": {},
     "output_type": "execute_result"
    }
   ],
   "source": [
    "#linearRegression\n",
    "if basic_model_search_switch:\n",
    "    lr_params = {'fit_intercept':[True,False]}\n",
    "    linear = LinearRegression(normalize=True, n_jobs=-1)\n",
    "    lr_best_param,lr_score = gridsearch_result(linear,lr_params)\n",
    "    \n",
    "    print('Linear testing score: {}'.format(lr_score))\n",
    "    print('With the best parameters:')\n",
    "    print(lr_best_param)\n",
    "    \n",
    "'''\n",
    "Best cv score: 0.1358356834302731\n",
    "Linear testing score: 0.01390175776570855\n",
    "With the best parameters:\n",
    "{'fit_intercept': False}\n",
    "'''"
   ]
  },
  {
   "cell_type": "code",
   "execution_count": 41,
   "metadata": {
    "_cell_guid": "20bf8ad1-13b7-43d4-95a5-c15c855b8c79",
    "_uuid": "4bddd710ce4782e1f5188b74ca55f4ccd7965844",
    "collapsed": true
   },
   "outputs": [
    {
     "data": {
      "text/plain": [
       "\"\\nBest cv score: 0.11813686593692828\\nRidge testing score: 0.011326805960040704\\nWith the best parameters:\\n{'alpha': 10, 'fit_intercept': False, 'tol': 0.001}\\n\""
      ]
     },
     "execution_count": 41,
     "metadata": {},
     "output_type": "execute_result"
    }
   ],
   "source": [
    "#Ridge\n",
    "if basic_model_search_switch:\n",
    "    ridge_params = {'alpha':[0.01,0.02,0.05,1,10,1e2,1e5],\n",
    "                   'fit_intercept':[True,False],\n",
    "                   'tol':[0.001,0.002,0.005,0.01]}\n",
    "    ridge = Ridge(normalize=True)\n",
    "    ridge_best_param,ridge_score = gridsearch_result(ridge,ridge_params)\n",
    "    \n",
    "    print('Ridge testing score: {}'.format(ridge_score))\n",
    "    print('With the best parameters:')\n",
    "    print(ridge_best_param)\n",
    "    \n",
    "'''\n",
    "Best cv score: 0.11813686593692828\n",
    "Ridge testing score: 0.011326805960040704\n",
    "With the best parameters:\n",
    "{'alpha': 10, 'fit_intercept': False, 'tol': 0.001}\n",
    "'''"
   ]
  },
  {
   "cell_type": "code",
   "execution_count": 42,
   "metadata": {
    "_cell_guid": "f0d11338-f61f-424b-9926-751257f63b64",
    "_uuid": "3cc3b337fb7e137cd6d29ee15301c82e09dc9917",
    "collapsed": true
   },
   "outputs": [
    {
     "data": {
      "text/plain": [
       "\"\\nBest cv score: 0.11975607444054717\\nLasso testing score: 0.011063688590690676\\nWith the best parameters:\\n{'alpha': 0.0001, 'fit_intercept': True, 'tol': 0.0002}\\n\""
      ]
     },
     "execution_count": 42,
     "metadata": {},
     "output_type": "execute_result"
    }
   ],
   "source": [
    "#lasso\n",
    "if basic_model_search_switch:\n",
    "    lasso_params = {'alpha':[1e-4,1e-3,0.01,0.02,0.05,0.1,0.5],\n",
    "                   'fit_intercept':[True,False],\n",
    "                   'tol':[0.0001,0.0002,0.0005,0.001]}\n",
    "    lasso = Lasso(normalize=True)\n",
    "    lasso_best_param,lasso_score = gridsearch_result(lasso,lasso_params)\n",
    "    \n",
    "    print('Lasso testing score: {}'.format(lasso_score))\n",
    "    print('With the best parameters:')\n",
    "    print(lasso_best_param)\n",
    "    \n",
    "'''\n",
    "Best cv score: 0.11975607444054717\n",
    "Lasso testing score: 0.011063688590690676\n",
    "With the best parameters:\n",
    "{'alpha': 0.0001, 'fit_intercept': True, 'tol': 0.0002}\n",
    "'''"
   ]
  },
  {
   "cell_type": "code",
   "execution_count": 43,
   "metadata": {
    "_cell_guid": "eef2dda9-1501-44b0-a254-dea2368dbd2e",
    "_uuid": "707a6e85f484a8e674c60a857df4c68184da275b",
    "collapsed": true
   },
   "outputs": [
    {
     "data": {
      "text/plain": [
       "\"\\nBest cv score: 0.11959437696180887\\nENet testing score: 0.011120444318308883\\nWith the best parameters:\\n{'alpha': 0.0001, 'fit_intercept': True, 'l1_ratio': 0.9, 'tol': 0.001}\\n\""
      ]
     },
     "execution_count": 43,
     "metadata": {},
     "output_type": "execute_result"
    }
   ],
   "source": [
    "#ENet\n",
    "if basic_model_search_switch:\n",
    "    enet_params = {'alpha':[1e-4,1e-3,0.01,0.02,0.05,0.1,0.5,1,10,1e2],\n",
    "                   'l1_ratio':[0.1,0.2,0.5,0.7,0.9],\n",
    "                   'fit_intercept':[True,False],\n",
    "                   'tol':[0.0001,0.0002,0.0005,0.001]}\n",
    "    enet = ElasticNet(normalize=True)\n",
    "    enet_best_param,enet_score = gridsearch_result(enet,enet_params)\n",
    "    \n",
    "    print('ENet testing score: {}'.format(enet_score))\n",
    "    print('With the best parameters:')\n",
    "    print(enet_best_param)\n",
    "    \n",
    "'''\n",
    "Best cv score: 0.11959437696180887\n",
    "ENet testing score: 0.011120444318308883\n",
    "With the best parameters:\n",
    "{'alpha': 0.0001, 'fit_intercept': True, 'l1_ratio': 0.9, 'tol': 0.001}\n",
    "'''"
   ]
  },
  {
   "cell_type": "code",
   "execution_count": 44,
   "metadata": {
    "_cell_guid": "b063c3f3-2bd7-404b-8e80-426e4f0cf185",
    "_uuid": "9339087d01bc9b3283833bd0c55ceaf012925479",
    "collapsed": true
   },
   "outputs": [],
   "source": [
    "#GBRT\n",
    "if basic_model_search_switch:\n",
    "    gbrt_params = {'learning_rate':[1e-3,0.01,0.02,0.05,0.1],\n",
    "                   'alpha':list(np.linspace(0.1,0.9,9))}\n",
    "    gbrt = GradientBoostingRegressor(n_estimators=3000,max_depth=4, max_features='sqrt',\n",
    "                                     min_samples_leaf=15, min_samples_split=10,loss='huber',\n",
    "                                     random_state=1)\n",
    "    gbrt_best_param,gbrt_score = gridsearch_result(gbrt,gbrt_params)\n",
    "    \n",
    "    print('GBRT testing score: {}'.format(gbrt_score))\n",
    "    print('With the best parameters:')\n",
    "    print(gbrt_best_param)\n",
    "#alpha = 0.9, learning_rate = 0.01"
   ]
  },
  {
   "cell_type": "code",
   "execution_count": 45,
   "metadata": {
    "_cell_guid": "bdb6b6ae-4d12-412e-846b-6523820662b1",
    "_uuid": "823bb98c252c366d0d43dc48ada5750c3f7d311d",
    "collapsed": true
   },
   "outputs": [
    {
     "data": {
      "text/plain": [
       "\"\\nBest cv score: 0.11716151300196502\\nKRR testing score: 0.011324498073661326\\nWith the best parameters:\\n{'alpha': 10000.0, 'gamma': 0.005}\\n\""
      ]
     },
     "execution_count": 45,
     "metadata": {},
     "output_type": "execute_result"
    }
   ],
   "source": [
    "#Kernel Ridge Regression\n",
    "if basic_model_search_switch:\n",
    "    krr_params = {'alpha':[1e2,1e3,1e4,1e5],\n",
    "                  'gamma':[0.001,0.002,0.005]}\n",
    "    krr = KernelRidge(kernel='poly',degree=2,coef0=2.5)\n",
    "    krr_best_param,krr_score = gridsearch_result(krr,krr_params)\n",
    "    \n",
    "    print('KRR testing score: {}'.format(krr_score))\n",
    "    print('With the best parameters:')\n",
    "    print(krr_best_param)    \n",
    "\n",
    "'''\n",
    "Best cv score: 0.11716151300196502\n",
    "KRR testing score: 0.011324498073661326\n",
    "With the best parameters:\n",
    "{'alpha': 10000.0, 'gamma': 0.005}\n",
    "'''"
   ]
  },
  {
   "cell_type": "code",
   "execution_count": 46,
   "metadata": {
    "_cell_guid": "a44e5897-6e3a-4975-a9bc-7e450708faaf",
    "_uuid": "b3470bf3bc236b54c288eb63034361896a175714",
    "collapsed": true
   },
   "outputs": [],
   "source": [
    "if basic_model_search_switch:\n",
    "    rf_params = {'n_estimators':[2500],'max_leaf_nodes':[10,50,100]}\n",
    "    rf = RandomForestRegressor(oob_score=True, n_jobs=-1, random_state=1)\n",
    "    rf_best_param, rf_score = gridsearch_result(rf,rf_params)\n",
    "\n",
    "    print('RandomForest testing score: {}'.format(rf_score))\n",
    "    print('With the best parameters')\n",
    "    print(rf_best_param)"
   ]
  },
  {
   "cell_type": "code",
   "execution_count": 47,
   "metadata": {
    "_cell_guid": "24fa37e6-648d-4878-836d-e00067fca33a",
    "_uuid": "761a6496ec8c64c8f01df6f2b295b7a117ab12eb",
    "collapsed": true
   },
   "outputs": [],
   "source": [
    "n_folds = 5\n",
    "\n",
    "def rmsle_cv(model):\n",
    "    kf = KFold(n_folds, shuffle=True, random_state=42).get_n_splits(train)\n",
    "    rmse= np.sqrt(-cross_val_score(model, Xtrain, ytrain, scoring=\"mean_squared_error\", cv = kf))\n",
    "    return(rmse)"
   ]
  },
  {
   "cell_type": "code",
   "execution_count": 48,
   "metadata": {
    "_cell_guid": "cec632c8-3956-4158-86bd-47cc37fafe08",
    "_uuid": "2f4cc637b3e1c8f170e44b3d578c90c8361cc058",
    "collapsed": true
   },
   "outputs": [],
   "source": [
    "class StackingAveragedModels(BaseEstimator, RegressorMixin, TransformerMixin):\n",
    "    def __init__(self, base_models, meta_model, n_folds=5):\n",
    "        self.base_models = base_models\n",
    "        self.meta_model = meta_model\n",
    "        self.n_folds = n_folds\n",
    "        \n",
    "    def fit(self, X, y):\n",
    "        self.base_models_ = [list() for x in self.base_models]\n",
    "        self.meta_model_ = clone(self.meta_model)\n",
    "        kfold = KFold(n_splits=self.n_folds, shuffle=True, random_state=156)\n",
    "        \n",
    "        out_of_fold_predictions = np.zeros((X.shape[0], len(self.base_models)))\n",
    "        for i, model in enumerate(self.base_models):\n",
    "            for train_index, holdout_index in kfold.split(X, y):\n",
    "                instance = clone(model)\n",
    "                instance.fit(X[train_index], y[train_index])\n",
    "                self.base_models_[i].append(instance)\n",
    "                y_pred = instance.predict(X[holdout_index])\n",
    "                out_of_fold_predictions[holdout_index, i] = y_pred\n",
    "                \n",
    "        self.meta_model_.fit(out_of_fold_predictions, y)\n",
    "        return self\n",
    "    \n",
    "    def predict(self, X):\n",
    "        meta_features = np.column_stack([\n",
    "            np.column_stack([model.predict(X) for model in base_models]).mean(axis=1)\n",
    "            for base_models in self.base_models_ ])\n",
    "        return self.meta_model_.predict(meta_features)"
   ]
  },
  {
   "cell_type": "code",
   "execution_count": 49,
   "metadata": {
    "_cell_guid": "32f2e628-a399-43aa-86f9-ddd4f909a29b",
    "_uuid": "eb1a3c6abf8f17fa041739ac4084bba642d73139",
    "collapsed": true
   },
   "outputs": [],
   "source": [
    "#basic_model_search_switch = False\n",
    "lasso = Lasso(alpha=0.0001, fit_intercept=True, tol=0.0002, normalize=True)\n",
    "ENet = ElasticNet(alpha=0.0001, fit_intercept=True, l1_ratio=0.9, tol=0.001, normalize=True)\n",
    "KRR = KernelRidge(kernel='poly',degree=2,coef0=2.5, alpha=10000.0, gamma=0.005)\n",
    "GBRT = GradientBoostingRegressor(alpha=0.9, learning_rate=0.01,n_estimators=3000,\n",
    "                                 max_depth=4, max_features='sqrt',min_samples_leaf=15, \n",
    "                                 min_samples_split=10,loss='huber',random_state=1)\n",
    "rf = RandomForestRegressor(n_estimators=2000, max_depth=5, oob_score=True, n_jobs=-1, random_state=1)"
   ]
  },
  {
   "cell_type": "code",
   "execution_count": 50,
   "metadata": {
    "_cell_guid": "496cb456-ecb6-4211-b676-158b69af9dd3",
    "_uuid": "f7cfff50fa8ccbb63fd44a85cd685ca4c71b69db",
    "collapsed": true
   },
   "outputs": [],
   "source": [
    "if basic_model_search_switch:\n",
    "    stacked_averaged_models = StackingAveragedModels(base_models = (ENet, GBRT, KRR, lasso),\n",
    "                                                     meta_model = rf)\n",
    "\n",
    "    score = rmsle_cv(stacked_averaged_models)\n",
    "    print(\"Stacking Averaged models score: {:.4f} ({:.4f})\".format(score.mean(), score.std()))"
   ]
  },
  {
   "cell_type": "code",
   "execution_count": 51,
   "metadata": {
    "_cell_guid": "7713d42c-8a45-4f30-876e-d8ed301a5d55",
    "_uuid": "6e58a203c96d9fd4c19693fd5876cd696192ed1c",
    "collapsed": true
   },
   "outputs": [
    {
     "name": "stdout",
     "output_type": "stream",
     "text": [
      "xgb cv score: 0.12180353705970508\n",
      "XGB testing score: 0.01168797825552045\n"
     ]
    },
    {
     "data": {
      "text/plain": [
       "'\\n   colsample_bytree=0.46, gamma=0.0406, \\n                                 learning_rate=0.05, max_depth=3, \\n                                 min_child_weight=1, n_estimators=720,\\n                                 reg_alpha=0.4640, reg_lambda=0.8573,\\n                                 subsample=0.5213, silent=1,\\n                                 random_state =7, n_jobs = -1\\n'"
      ]
     },
     "execution_count": 51,
     "metadata": {},
     "output_type": "execute_result"
    }
   ],
   "source": [
    "#xgboost\n",
    "if not basic_model_search_switch:\n",
    "    model_xgb = xgb.XGBRegressor(colsample_bytree=0.46, gamma=0.0406, \n",
    "                                 learning_rate=0.05, max_depth=3, \n",
    "                                 min_child_weight=1, n_estimators=1000,\n",
    "                                 reg_alpha=0.4640, reg_lambda=0.8573,\n",
    "                                 subsample=0.52, silent=1,\n",
    "                                 random_state =7, n_jobs = -1)\n",
    "    \n",
    "    cv_score = rmsle_cv(model_xgb)\n",
    "    print('xgb cv score: {}'.format(cv_score.mean()))\n",
    "    xgbr = model_xgb.fit(Xtrain,ytrain)\n",
    "    y_pred_xgbr = model_xgb.predict(Xtest)\n",
    "    test_score = mean_squared_error(ytest,y_pred_xgbr)\n",
    "    print('XGB testing score: {}'.format(test_score))\n",
    "'''\n",
    "   colsample_bytree=0.46, gamma=0.0406, \n",
    "                                 learning_rate=0.05, max_depth=3, \n",
    "                                 min_child_weight=1, n_estimators=720,\n",
    "                                 reg_alpha=0.4640, reg_lambda=0.8573,\n",
    "                                 subsample=0.5213, silent=1,\n",
    "                                 random_state =7, n_jobs = -1\n",
    "''' "
   ]
  },
  {
   "cell_type": "code",
   "execution_count": 52,
   "metadata": {
    "_cell_guid": "c2cb322d-eab7-459f-8291-0c57a4ad2af2",
    "_uuid": "8dbade33335beb6f8e32af8a87d6eb387d3ac919",
    "collapsed": true
   },
   "outputs": [
    {
     "name": "stdout",
     "output_type": "stream",
     "text": [
      "lgb cv score: 0.12081457579940187\n",
      "LGB testing score: 0.012465761316731898\n"
     ]
    }
   ],
   "source": [
    "#lightgbm\n",
    "if not basic_model_search_switch:\n",
    "    model_lgb = lgb.LGBMRegressor(objective='regression',num_leaves=5,\n",
    "                                  learning_rate=0.05, n_estimators=720,\n",
    "                                  max_bin = 55, bagging_fraction = 0.8,\n",
    "                                  bagging_freq = 5, feature_fraction = 0.2319,\n",
    "                                  feature_fraction_seed=9, bagging_seed=9,\n",
    "                                  min_data_in_leaf =6, min_sum_hessian_in_leaf = 11)\n",
    "    score = rmsle_cv(model_lgb)\n",
    "    print('lgb cv score: {}'.format(score.mean()))\n",
    "    lgbr = model_lgb.fit(Xtrain,ytrain)\n",
    "    y_pred_lgbr = model_lgb.predict(Xtest)\n",
    "    test_score = mean_squared_error(ytest,y_pred_lgbr)\n",
    "    print('LGB testing score: {}'.format(test_score))"
   ]
  },
  {
   "cell_type": "code",
   "execution_count": 53,
   "metadata": {
    "_cell_guid": "7d516092-4ce1-4fe7-82c5-a9e55f3ababb",
    "_uuid": "342b9df7f4195f2b98682b1199a26da6da37653d",
    "collapsed": true
   },
   "outputs": [
    {
     "name": "stdout",
     "output_type": "stream",
     "text": [
      "With the weights:\n",
      "[ 0.25  0.75]\n",
      "0.0104607496647\n",
      "------------------------------\n",
      "With the weights:\n",
      "[ 0.3  0.7]\n",
      "0.010377185465\n",
      "------------------------------\n",
      "With the weights:\n",
      "[ 0.33  0.67]\n",
      "0.0103329707189\n",
      "------------------------------\n",
      "With the weights:\n",
      "[ 0.45  0.55]\n",
      "0.010200540037\n",
      "------------------------------\n",
      "With the weights:\n",
      "[ 0.5  0.5]\n",
      "0.010166340618\n",
      "------------------------------\n",
      "With the weights:\n",
      "[ 0.6  0.4]\n",
      "0.0101349653655\n",
      "------------------------------\n",
      "With the weights:\n",
      "[ 0.75  0.25]\n",
      "0.0101804614506\n",
      "------------------------------\n",
      "With the weights:\n",
      "[ 0.8  0.2]\n",
      "0.0102203092026\n",
      "------------------------------\n",
      "With the weights:\n",
      "[ 0.9  0.1]\n",
      "0.0103370282922\n",
      "------------------------------\n"
     ]
    }
   ],
   "source": [
    "if not basic_model_search_switch:\n",
    "    stacked_averaged_models = StackingAveragedModels(base_models = (ENet, GBRT, KRR, lasso),\n",
    "                                                         meta_model = rf)\n",
    "    lasso_pred = lasso.fit(Xtrain,ytrain).predict(Xtest)\n",
    "    enet_pred = ENet.fit(Xtrain,ytrain).predict(Xtest)\n",
    "    stack_pred = stacked_averaged_models.fit(Xtrain,ytrain).predict(Xtest)\n",
    "\n",
    "    input = np.column_stack([stack_pred,lasso_pred])\n",
    "    for theta1 in [0.25,0.3,0.33,0.45,0.5,0.6,0.75,0.8,0.9]:\n",
    "        theta3 = 1-theta1\n",
    "        if theta3 >= 0:\n",
    "            weights = np.array([theta1,theta3])\n",
    "\n",
    "            result = np.dot(input,weights.T)\n",
    "            score = mean_squared_error(result,ytest)\n",
    "            print('With the weights:')\n",
    "            print(weights)\n",
    "            print(score)\n",
    "            print('-'*30)"
   ]
  },
  {
   "cell_type": "code",
   "execution_count": 54,
   "metadata": {
    "_cell_guid": "8ec99ab4-0910-495d-a6f3-865935ef9089",
    "_uuid": "b0afb5be13c6505cc474218650fb3221b8b7c0c4",
    "collapsed": true
   },
   "outputs": [],
   "source": [
    "def subtocsv():\n",
    "    lasso_pred = lasso.fit(train,label).predict(test) \n",
    "    stack_pred = stacked_averaged_models.fit(train,label).predict(test)\n",
    "    input = np.column_stack([stack_pred,lasso_pred])\n",
    "    weights = np.array([0.25,0.75])\n",
    "    result = np.dot(input,weights.T)\n",
    "    y_test = np.expm1(result)\n",
    "    sub=pd.DataFrame(y_test,index=test_ori_df['Id'],columns=['SalePrice'])\n",
    "    sub.to_csv('substack.csv')\n",
    "    print('Successfully Done!')\n",
    "    "
   ]
  },
  {
   "cell_type": "code",
   "execution_count": 55,
   "metadata": {
    "_cell_guid": "04099868-dd84-4251-8abb-c75c749a1540",
    "_uuid": "51de0cc32722015a83efe0bdfce6bfdef67912d8",
    "collapsed": true
   },
   "outputs": [
    {
     "name": "stdout",
     "output_type": "stream",
     "text": [
      "Successfully Done!\n"
     ]
    }
   ],
   "source": [
    "subtocsv()"
   ]
  },
  {
   "cell_type": "code",
   "execution_count": 56,
   "metadata": {
    "_cell_guid": "5e613750-e91e-44c0-9ef3-16c62075b460",
    "_uuid": "d7962ac3fe2f82900f2ff64101d93ebcbb6a2f75",
    "collapsed": true
   },
   "outputs": [],
   "source": [
    "def save_to_csv(model):\n",
    "    y_pre=model.fit(train,label).predict(test)\n",
    "    y_test=np.expm1(y_pre)\n",
    "    sub=pd.DataFrame(y_test,index=test_ori_df['Id'],columns=['SalePrice'])\n",
    "    sub.to_csv('substack.csv')\n",
    "    print('Successfully Done!')"
   ]
  }
 ],
 "metadata": {
  "kernelspec": {
   "display_name": "Python 3",
   "language": "python",
   "name": "python3"
  },
  "language_info": {
   "codemirror_mode": {
    "name": "ipython",
    "version": 3
   },
   "file_extension": ".py",
   "mimetype": "text/x-python",
   "name": "python",
   "nbconvert_exporter": "python",
   "pygments_lexer": "ipython3",
   "version": "3.6.4"
  }
 },
 "nbformat": 4,
 "nbformat_minor": 1
}
