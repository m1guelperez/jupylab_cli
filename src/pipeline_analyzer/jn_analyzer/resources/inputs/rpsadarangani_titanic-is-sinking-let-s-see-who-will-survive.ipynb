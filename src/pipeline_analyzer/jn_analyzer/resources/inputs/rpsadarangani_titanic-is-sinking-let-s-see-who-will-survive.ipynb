{
 "cells": [
  {
   "cell_type": "markdown",
   "metadata": {
    "_uuid": "8d3064359af525d3b9aa64901d9ecb4e5130156f",
    "colab_type": "text",
    "id": "8DLEK8xSGsrc"
   },
   "source": [
    "# Titanic is Sinking, Let's see who will Survive\n",
    "\n",
    "The sinking of the RMS Titanic is one of the most infamous shipwrecks in history.  On April 15, 1912, during her maiden voyage, the Titanic sank after colliding with an iceberg, killing 1502 out of 2224 passengers and crew. This sensational tragedy shocked the international community and led to better safety regulations for ships.\n",
    "\n",
    "One of the reasons that the shipwreck led to such loss of life was that there were not enough lifeboats for the passengers and crew. Although there was some element of luck involved in surviving the sinking, some groups of people were more likely to survive than others, such as women, children, and the upper-class.\n",
    "\n",
    "In this challenge, we ask you to complete the analysis of what sorts of people were likely to survive. In particular, we ask you to apply the tools of machine learning to predict which passengers survived the tragedy."
   ]
  },
  {
   "cell_type": "markdown",
   "metadata": {
    "_uuid": "00d22058343adb2fd069fbe61ba1f10ce9bacd66",
    "colab_type": "text",
    "id": "PTIg1BCSHJAq"
   },
   "source": [
    "## Let Do EDA (Exploratory Data Analysis)"
   ]
  },
  {
   "cell_type": "code",
   "execution_count": 1,
   "metadata": {
    "_uuid": "9b7130eb33ea74895d049e415a9a41cee40d5154",
    "colab": {},
    "colab_type": "code",
    "id": "y3TdXcmaHWHM"
   },
   "outputs": [],
   "source": [
    "# import all the needed package\n",
    "import pandas as pd\n",
    "import numpy as np\n",
    "import matplotlib.pyplot as plt\n",
    "import seaborn as sns\n",
    "\n",
    "%matplotlib inline"
   ]
  },
  {
   "cell_type": "code",
   "execution_count": 2,
   "metadata": {
    "_uuid": "6f585f266873976c0d0024ab388211231c8ecb58",
    "colab": {},
    "colab_type": "code",
    "id": "lNxyEA2WHyaD"
   },
   "outputs": [],
   "source": [
    "train = pd.read_csv('../input/train.csv', index_col=0)\n",
    "test = pd.read_csv('../input/test.csv', index_col=0)"
   ]
  },
  {
   "cell_type": "code",
   "execution_count": 3,
   "metadata": {
    "_uuid": "159a46df72f31503da2b2fdb0e6edfd0ec9d3530",
    "colab": {
     "base_uri": "https://localhost:8080/",
     "height": 389
    },
    "colab_type": "code",
    "id": "tchtnTAkIF5C",
    "outputId": "49ce5ad8-a95c-49de-d8e6-79367d5fce24"
   },
   "outputs": [
    {
     "data": {
      "text/html": [
       "<div>\n",
       "<style scoped>\n",
       "    .dataframe tbody tr th:only-of-type {\n",
       "        vertical-align: middle;\n",
       "    }\n",
       "\n",
       "    .dataframe tbody tr th {\n",
       "        vertical-align: top;\n",
       "    }\n",
       "\n",
       "    .dataframe thead th {\n",
       "        text-align: right;\n",
       "    }\n",
       "</style>\n",
       "<table border=\"1\" class=\"dataframe\">\n",
       "  <thead>\n",
       "    <tr style=\"text-align: right;\">\n",
       "      <th></th>\n",
       "      <th>Survived</th>\n",
       "      <th>Pclass</th>\n",
       "      <th>Name</th>\n",
       "      <th>Sex</th>\n",
       "      <th>Age</th>\n",
       "      <th>SibSp</th>\n",
       "      <th>Parch</th>\n",
       "      <th>Ticket</th>\n",
       "      <th>Fare</th>\n",
       "      <th>Cabin</th>\n",
       "      <th>Embarked</th>\n",
       "    </tr>\n",
       "    <tr>\n",
       "      <th>PassengerId</th>\n",
       "      <th></th>\n",
       "      <th></th>\n",
       "      <th></th>\n",
       "      <th></th>\n",
       "      <th></th>\n",
       "      <th></th>\n",
       "      <th></th>\n",
       "      <th></th>\n",
       "      <th></th>\n",
       "      <th></th>\n",
       "      <th></th>\n",
       "    </tr>\n",
       "  </thead>\n",
       "  <tbody>\n",
       "    <tr>\n",
       "      <th>1</th>\n",
       "      <td>0</td>\n",
       "      <td>3</td>\n",
       "      <td>Braund, Mr. Owen Harris</td>\n",
       "      <td>male</td>\n",
       "      <td>22.0</td>\n",
       "      <td>1</td>\n",
       "      <td>0</td>\n",
       "      <td>A/5 21171</td>\n",
       "      <td>7.2500</td>\n",
       "      <td>NaN</td>\n",
       "      <td>S</td>\n",
       "    </tr>\n",
       "    <tr>\n",
       "      <th>2</th>\n",
       "      <td>1</td>\n",
       "      <td>1</td>\n",
       "      <td>Cumings, Mrs. John Bradley (Florence Briggs Th...</td>\n",
       "      <td>female</td>\n",
       "      <td>38.0</td>\n",
       "      <td>1</td>\n",
       "      <td>0</td>\n",
       "      <td>PC 17599</td>\n",
       "      <td>71.2833</td>\n",
       "      <td>C85</td>\n",
       "      <td>C</td>\n",
       "    </tr>\n",
       "    <tr>\n",
       "      <th>3</th>\n",
       "      <td>1</td>\n",
       "      <td>3</td>\n",
       "      <td>Heikkinen, Miss. Laina</td>\n",
       "      <td>female</td>\n",
       "      <td>26.0</td>\n",
       "      <td>0</td>\n",
       "      <td>0</td>\n",
       "      <td>STON/O2. 3101282</td>\n",
       "      <td>7.9250</td>\n",
       "      <td>NaN</td>\n",
       "      <td>S</td>\n",
       "    </tr>\n",
       "    <tr>\n",
       "      <th>4</th>\n",
       "      <td>1</td>\n",
       "      <td>1</td>\n",
       "      <td>Futrelle, Mrs. Jacques Heath (Lily May Peel)</td>\n",
       "      <td>female</td>\n",
       "      <td>35.0</td>\n",
       "      <td>1</td>\n",
       "      <td>0</td>\n",
       "      <td>113803</td>\n",
       "      <td>53.1000</td>\n",
       "      <td>C123</td>\n",
       "      <td>S</td>\n",
       "    </tr>\n",
       "    <tr>\n",
       "      <th>5</th>\n",
       "      <td>0</td>\n",
       "      <td>3</td>\n",
       "      <td>Allen, Mr. William Henry</td>\n",
       "      <td>male</td>\n",
       "      <td>35.0</td>\n",
       "      <td>0</td>\n",
       "      <td>0</td>\n",
       "      <td>373450</td>\n",
       "      <td>8.0500</td>\n",
       "      <td>NaN</td>\n",
       "      <td>S</td>\n",
       "    </tr>\n",
       "  </tbody>\n",
       "</table>\n",
       "</div>"
      ],
      "text/plain": [
       "             Survived  Pclass   ...    Cabin Embarked\n",
       "PassengerId                     ...                  \n",
       "1                   0       3   ...      NaN        S\n",
       "2                   1       1   ...      C85        C\n",
       "3                   1       3   ...      NaN        S\n",
       "4                   1       1   ...     C123        S\n",
       "5                   0       3   ...      NaN        S\n",
       "\n",
       "[5 rows x 11 columns]"
      ]
     },
     "execution_count": 3,
     "metadata": {},
     "output_type": "execute_result"
    }
   ],
   "source": [
    "# train dataframe head\n",
    "train.head()"
   ]
  },
  {
   "cell_type": "code",
   "execution_count": 4,
   "metadata": {
    "_uuid": "e6ba0a6b76636509b6f6ecfee7053f20e4ff28a4",
    "colab": {
     "base_uri": "https://localhost:8080/",
     "height": 267
    },
    "colab_type": "code",
    "id": "nRWg7speIIeV",
    "outputId": "f24343b6-1fd8-44f7-db38-1d0abe1af872"
   },
   "outputs": [
    {
     "data": {
      "text/html": [
       "<div>\n",
       "<style scoped>\n",
       "    .dataframe tbody tr th:only-of-type {\n",
       "        vertical-align: middle;\n",
       "    }\n",
       "\n",
       "    .dataframe tbody tr th {\n",
       "        vertical-align: top;\n",
       "    }\n",
       "\n",
       "    .dataframe thead th {\n",
       "        text-align: right;\n",
       "    }\n",
       "</style>\n",
       "<table border=\"1\" class=\"dataframe\">\n",
       "  <thead>\n",
       "    <tr style=\"text-align: right;\">\n",
       "      <th></th>\n",
       "      <th>Pclass</th>\n",
       "      <th>Name</th>\n",
       "      <th>Sex</th>\n",
       "      <th>Age</th>\n",
       "      <th>SibSp</th>\n",
       "      <th>Parch</th>\n",
       "      <th>Ticket</th>\n",
       "      <th>Fare</th>\n",
       "      <th>Cabin</th>\n",
       "      <th>Embarked</th>\n",
       "    </tr>\n",
       "    <tr>\n",
       "      <th>PassengerId</th>\n",
       "      <th></th>\n",
       "      <th></th>\n",
       "      <th></th>\n",
       "      <th></th>\n",
       "      <th></th>\n",
       "      <th></th>\n",
       "      <th></th>\n",
       "      <th></th>\n",
       "      <th></th>\n",
       "      <th></th>\n",
       "    </tr>\n",
       "  </thead>\n",
       "  <tbody>\n",
       "    <tr>\n",
       "      <th>892</th>\n",
       "      <td>3</td>\n",
       "      <td>Kelly, Mr. James</td>\n",
       "      <td>male</td>\n",
       "      <td>34.5</td>\n",
       "      <td>0</td>\n",
       "      <td>0</td>\n",
       "      <td>330911</td>\n",
       "      <td>7.8292</td>\n",
       "      <td>NaN</td>\n",
       "      <td>Q</td>\n",
       "    </tr>\n",
       "    <tr>\n",
       "      <th>893</th>\n",
       "      <td>3</td>\n",
       "      <td>Wilkes, Mrs. James (Ellen Needs)</td>\n",
       "      <td>female</td>\n",
       "      <td>47.0</td>\n",
       "      <td>1</td>\n",
       "      <td>0</td>\n",
       "      <td>363272</td>\n",
       "      <td>7.0000</td>\n",
       "      <td>NaN</td>\n",
       "      <td>S</td>\n",
       "    </tr>\n",
       "    <tr>\n",
       "      <th>894</th>\n",
       "      <td>2</td>\n",
       "      <td>Myles, Mr. Thomas Francis</td>\n",
       "      <td>male</td>\n",
       "      <td>62.0</td>\n",
       "      <td>0</td>\n",
       "      <td>0</td>\n",
       "      <td>240276</td>\n",
       "      <td>9.6875</td>\n",
       "      <td>NaN</td>\n",
       "      <td>Q</td>\n",
       "    </tr>\n",
       "    <tr>\n",
       "      <th>895</th>\n",
       "      <td>3</td>\n",
       "      <td>Wirz, Mr. Albert</td>\n",
       "      <td>male</td>\n",
       "      <td>27.0</td>\n",
       "      <td>0</td>\n",
       "      <td>0</td>\n",
       "      <td>315154</td>\n",
       "      <td>8.6625</td>\n",
       "      <td>NaN</td>\n",
       "      <td>S</td>\n",
       "    </tr>\n",
       "    <tr>\n",
       "      <th>896</th>\n",
       "      <td>3</td>\n",
       "      <td>Hirvonen, Mrs. Alexander (Helga E Lindqvist)</td>\n",
       "      <td>female</td>\n",
       "      <td>22.0</td>\n",
       "      <td>1</td>\n",
       "      <td>1</td>\n",
       "      <td>3101298</td>\n",
       "      <td>12.2875</td>\n",
       "      <td>NaN</td>\n",
       "      <td>S</td>\n",
       "    </tr>\n",
       "  </tbody>\n",
       "</table>\n",
       "</div>"
      ],
      "text/plain": [
       "             Pclass   ...    Embarked\n",
       "PassengerId           ...            \n",
       "892               3   ...           Q\n",
       "893               3   ...           S\n",
       "894               2   ...           Q\n",
       "895               3   ...           S\n",
       "896               3   ...           S\n",
       "\n",
       "[5 rows x 10 columns]"
      ]
     },
     "execution_count": 4,
     "metadata": {},
     "output_type": "execute_result"
    }
   ],
   "source": [
    "# test dataframe head\n",
    "test.head()"
   ]
  },
  {
   "cell_type": "code",
   "execution_count": 5,
   "metadata": {
    "_uuid": "a191cbf813fad697d4c7255f814dc818c9bec80b",
    "colab": {},
    "colab_type": "code",
    "id": "8l6BYgI1IYob"
   },
   "outputs": [],
   "source": [
    "# let check info for dataframe\n",
    "def check_info(train, test):\n",
    "  print(train.info())\n",
    "  print('_'*40)\n",
    "  print(test.info())\n",
    "  print('_'*40)"
   ]
  },
  {
   "cell_type": "code",
   "execution_count": 6,
   "metadata": {
    "_uuid": "b93eba4c273a787795efc7f7a7f9e91d994b41e4",
    "colab": {
     "base_uri": "https://localhost:8080/",
     "height": 624
    },
    "colab_type": "code",
    "id": "FMNzmRMvIgL5",
    "outputId": "b19ce04a-0d40-489f-bc66-078b4043b3d4"
   },
   "outputs": [
    {
     "name": "stdout",
     "output_type": "stream",
     "text": [
      "<class 'pandas.core.frame.DataFrame'>\n",
      "Int64Index: 891 entries, 1 to 891\n",
      "Data columns (total 11 columns):\n",
      "Survived    891 non-null int64\n",
      "Pclass      891 non-null int64\n",
      "Name        891 non-null object\n",
      "Sex         891 non-null object\n",
      "Age         714 non-null float64\n",
      "SibSp       891 non-null int64\n",
      "Parch       891 non-null int64\n",
      "Ticket      891 non-null object\n",
      "Fare        891 non-null float64\n",
      "Cabin       204 non-null object\n",
      "Embarked    889 non-null object\n",
      "dtypes: float64(2), int64(4), object(5)\n",
      "memory usage: 83.5+ KB\n",
      "None\n",
      "________________________________________\n",
      "<class 'pandas.core.frame.DataFrame'>\n",
      "Int64Index: 418 entries, 892 to 1309\n",
      "Data columns (total 10 columns):\n",
      "Pclass      418 non-null int64\n",
      "Name        418 non-null object\n",
      "Sex         418 non-null object\n",
      "Age         332 non-null float64\n",
      "SibSp       418 non-null int64\n",
      "Parch       418 non-null int64\n",
      "Ticket      418 non-null object\n",
      "Fare        417 non-null float64\n",
      "Cabin       91 non-null object\n",
      "Embarked    418 non-null object\n",
      "dtypes: float64(2), int64(3), object(5)\n",
      "memory usage: 35.9+ KB\n",
      "None\n",
      "________________________________________\n"
     ]
    }
   ],
   "source": [
    "check_info(train,test)"
   ]
  },
  {
   "cell_type": "code",
   "execution_count": 7,
   "metadata": {
    "_uuid": "ead3ffd9c9c07c788178de8d85f088a71f357eea",
    "colab": {},
    "colab_type": "code",
    "id": "24nuFU4RIrxu"
   },
   "outputs": [],
   "source": [
    "# Check Data Description to have idea of the data\n",
    "def describe_info(train, test):\n",
    "  print(train.describe())\n",
    "  print('_'*40)\n",
    "  print(test.describe())\n",
    "  print('_'*40)"
   ]
  },
  {
   "cell_type": "code",
   "execution_count": 8,
   "metadata": {
    "_uuid": "5b6d1d156c2bbe6c842f49ea43a49b969319746b",
    "colab": {
     "base_uri": "https://localhost:8080/",
     "height": 364
    },
    "colab_type": "code",
    "id": "M-alhstNJDR4",
    "outputId": "fd4aa2d5-6003-43ae-ce55-f04aa86ae5dc"
   },
   "outputs": [
    {
     "name": "stdout",
     "output_type": "stream",
     "text": [
      "         Survived      Pclass     ...           Parch        Fare\n",
      "count  891.000000  891.000000     ...      891.000000  891.000000\n",
      "mean     0.383838    2.308642     ...        0.381594   32.204208\n",
      "std      0.486592    0.836071     ...        0.806057   49.693429\n",
      "min      0.000000    1.000000     ...        0.000000    0.000000\n",
      "25%      0.000000    2.000000     ...        0.000000    7.910400\n",
      "50%      0.000000    3.000000     ...        0.000000   14.454200\n",
      "75%      1.000000    3.000000     ...        0.000000   31.000000\n",
      "max      1.000000    3.000000     ...        6.000000  512.329200\n",
      "\n",
      "[8 rows x 6 columns]\n",
      "________________________________________\n",
      "           Pclass         Age       SibSp       Parch        Fare\n",
      "count  418.000000  332.000000  418.000000  418.000000  417.000000\n",
      "mean     2.265550   30.272590    0.447368    0.392344   35.627188\n",
      "std      0.841838   14.181209    0.896760    0.981429   55.907576\n",
      "min      1.000000    0.170000    0.000000    0.000000    0.000000\n",
      "25%      1.000000   21.000000    0.000000    0.000000    7.895800\n",
      "50%      3.000000   27.000000    0.000000    0.000000   14.454200\n",
      "75%      3.000000   39.000000    1.000000    0.000000   31.500000\n",
      "max      3.000000   76.000000    8.000000    9.000000  512.329200\n",
      "________________________________________\n"
     ]
    }
   ],
   "source": [
    "describe_info(train, test)"
   ]
  },
  {
   "cell_type": "markdown",
   "metadata": {
    "_uuid": "c857554666dc3a42dc9d9490cd2dcde8217734e7",
    "colab_type": "text",
    "id": "BFmufzqSJSVX"
   },
   "source": [
    "### What we have done till now\n",
    "\n",
    "\n",
    "\n",
    "1.   Imported the Train and Test file in Respectative DataFrame\n",
    "2.   Make the data index by Passerenger ID in both train and test\n",
    "3.   Check the Data Infomation using info tag which tell us the that there are float, integer and text data in the set.\n",
    "4.  There are missing data in the column which we need to fix in **Missing Data ** Section down below.\n",
    "5.  We will have to explore the data more basis on Survived tab so we do not have dataset imbalanced issue. \n"
   ]
  },
  {
   "cell_type": "markdown",
   "metadata": {
    "_uuid": "c5ee954a337bd91041d97df13d4631ad26f31728",
    "colab_type": "text",
    "id": "ysn29xbSOC0J"
   },
   "source": [
    "## Missing Data Opertation\n",
    "\n",
    "\n",
    "\n",
    "1.   As Age is missing we would use mean to fill the missing value in train and test dataset\n",
    "2.   Cabin data missing darstically, it would be good that we drop the column in both train and test.\n",
    "3.   One Record for fare is missing in test dataset so will fill the mode.\n",
    "\n"
   ]
  },
  {
   "cell_type": "code",
   "execution_count": 9,
   "metadata": {
    "_uuid": "15da76a3c1f3fe77bf35798749c3eecf9be628e8",
    "colab": {
     "base_uri": "https://localhost:8080/",
     "height": 52
    },
    "colab_type": "code",
    "id": "vgKicToMOqY5",
    "outputId": "911f2be9-c29c-4e28-9523-457318abe2d6"
   },
   "outputs": [
    {
     "name": "stdout",
     "output_type": "stream",
     "text": [
      "Train Age Mean :- 30\n",
      "Test Age Mean :- 30\n"
     ]
    }
   ],
   "source": [
    "TrainAgeMean = round(train['Age'].mean())\n",
    "TestAgeMean = round(test['Age'].mean())\n",
    "print('Train Age Mean :-', TrainAgeMean)\n",
    "print('Test Age Mean :-', TestAgeMean)"
   ]
  },
  {
   "cell_type": "code",
   "execution_count": 10,
   "metadata": {
    "_uuid": "fdeee91e83848af52969ef7ed7baffe71f191b89",
    "colab": {},
    "colab_type": "code",
    "id": "BsFxstN0PpFr"
   },
   "outputs": [],
   "source": [
    "train['Age'] = train['Age'].fillna(value=TrainAgeMean)\n",
    "test['Age'] = test['Age'].fillna(value=TestAgeMean)\n"
   ]
  },
  {
   "cell_type": "code",
   "execution_count": 11,
   "metadata": {
    "_uuid": "f0609c47901afb538492c612ade323f009d2b2e4",
    "colab": {
     "base_uri": "https://localhost:8080/",
     "height": 35
    },
    "colab_type": "code",
    "id": "8whJ1yFZQYBC",
    "outputId": "bc87ddfc-3f76-4775-a691-d9c94fc406c1"
   },
   "outputs": [
    {
     "name": "stdout",
     "output_type": "stream",
     "text": [
      "7.75\n"
     ]
    }
   ],
   "source": [
    "TestFareMode = test['Fare'].mode()[0]\n",
    "print(TestFareMode)"
   ]
  },
  {
   "cell_type": "code",
   "execution_count": 12,
   "metadata": {
    "_uuid": "7749e35f826cf684c716a1a7efb9d98564e08e8c",
    "colab": {},
    "colab_type": "code",
    "id": "-eRTrUitRL_V"
   },
   "outputs": [],
   "source": [
    "test['Fare'] = test['Fare'].fillna(value=TestFareMode)"
   ]
  },
  {
   "cell_type": "code",
   "execution_count": 13,
   "metadata": {
    "_uuid": "cf439a0b050d388ceb2d0c17f9d8d5bc0383f4b6",
    "colab": {},
    "colab_type": "code",
    "id": "LOWezu9nlEoj"
   },
   "outputs": [],
   "source": [
    "train.drop(columns=['Cabin'], axis=1, inplace=True)\n",
    "test.drop(columns=['Cabin'], axis=1, inplace=True)"
   ]
  },
  {
   "cell_type": "code",
   "execution_count": 14,
   "metadata": {
    "_uuid": "dea625a1e00b18548978b03c86d7e01816ac4ada",
    "colab": {
     "base_uri": "https://localhost:8080/",
     "height": 589
    },
    "colab_type": "code",
    "id": "w1rsCY4-lVbm",
    "outputId": "2b922346-bde8-4ac0-a4db-c3f0a434dd45"
   },
   "outputs": [
    {
     "name": "stdout",
     "output_type": "stream",
     "text": [
      "<class 'pandas.core.frame.DataFrame'>\n",
      "Int64Index: 891 entries, 1 to 891\n",
      "Data columns (total 10 columns):\n",
      "Survived    891 non-null int64\n",
      "Pclass      891 non-null int64\n",
      "Name        891 non-null object\n",
      "Sex         891 non-null object\n",
      "Age         891 non-null float64\n",
      "SibSp       891 non-null int64\n",
      "Parch       891 non-null int64\n",
      "Ticket      891 non-null object\n",
      "Fare        891 non-null float64\n",
      "Embarked    889 non-null object\n",
      "dtypes: float64(2), int64(4), object(4)\n",
      "memory usage: 76.6+ KB\n",
      "None\n",
      "________________________________________\n",
      "<class 'pandas.core.frame.DataFrame'>\n",
      "Int64Index: 418 entries, 892 to 1309\n",
      "Data columns (total 9 columns):\n",
      "Pclass      418 non-null int64\n",
      "Name        418 non-null object\n",
      "Sex         418 non-null object\n",
      "Age         418 non-null float64\n",
      "SibSp       418 non-null int64\n",
      "Parch       418 non-null int64\n",
      "Ticket      418 non-null object\n",
      "Fare        418 non-null float64\n",
      "Embarked    418 non-null object\n",
      "dtypes: float64(2), int64(3), object(4)\n",
      "memory usage: 32.7+ KB\n",
      "None\n",
      "________________________________________\n"
     ]
    }
   ],
   "source": [
    "check_info(train, test)"
   ]
  },
  {
   "cell_type": "markdown",
   "metadata": {
    "_uuid": "fc395b1251d23eeb030cad2e73112799c9b43986",
    "colab_type": "text",
    "id": "uDlByP-yliEH"
   },
   "source": [
    "#### What we have done so far?\n",
    "\n",
    "\n",
    "1.   Filled the missing value for Age in Train and Test Dataset using Mean Vale\n",
    "2.   Remove Cabin from both the dataset as most of the data is missing\n",
    "3.   A single record for fare was missing which was filled using Mode Value\n",
    "\n"
   ]
  },
  {
   "cell_type": "markdown",
   "metadata": {
    "_uuid": "d2da4744f59ec1c825372cc5901dd5ee54e436d9",
    "colab_type": "text",
    "id": "OQPXannBoQZr"
   },
   "source": [
    "## Let's Create some Graph"
   ]
  },
  {
   "cell_type": "code",
   "execution_count": 15,
   "metadata": {
    "_uuid": "1c06a0cb9fa68bc9b82f1e71bc23d221b3a58251",
    "colab": {},
    "colab_type": "code",
    "id": "-bRQE_Jzs47S"
   },
   "outputs": [],
   "source": [
    "import seaborn as sns\n",
    "sns.set(style=\"whitegrid\")"
   ]
  },
  {
   "cell_type": "code",
   "execution_count": 16,
   "metadata": {
    "_uuid": "4f047e4597d2c520edee207455a9383c1388875d",
    "colab": {},
    "colab_type": "code",
    "id": "-efIk8dxvCI-"
   },
   "outputs": [],
   "source": [
    "corr = train.corr()"
   ]
  },
  {
   "cell_type": "code",
   "execution_count": 17,
   "metadata": {
    "_uuid": "764a2b16340105aeb4bb1db3cc229e13e0ff39e6",
    "colab": {
     "base_uri": "https://localhost:8080/",
     "height": 401
    },
    "colab_type": "code",
    "id": "SvI7pUYs724j",
    "outputId": "2fee1644-22fb-4691-c02f-f44620f90ccc"
   },
   "outputs": [
    {
     "data": {
      "text/plain": [
       "<matplotlib.axes._subplots.AxesSubplot at 0x7f5d42c7fe80>"
      ]
     },
     "execution_count": 17,
     "metadata": {},
     "output_type": "execute_result"
    },
    {
     "data": {
      "image/png": "[encoded data removed]",
      "text/plain": [
       "<Figure size 648x432 with 2 Axes>"
      ]
     },
     "metadata": {},
     "output_type": "display_data"
    }
   ],
   "source": [
    "f, ax = plt.subplots(figsize=(9, 6))\n",
    "sns.heatmap(corr, annot=True, linewidths=.5, ax=ax)"
   ]
  },
  {
   "cell_type": "code",
   "execution_count": 18,
   "metadata": {
    "_uuid": "a753fb9f08be49da01b5cfbbb4bd82396e4a2d5e",
    "colab": {},
    "colab_type": "code",
    "id": "Ha0V1R8E8TCS"
   },
   "outputs": [],
   "source": [
    "train['Family'] = train['Parch'] + train['SibSp']\n",
    "test['Family'] = test['Parch'] + test['SibSp']"
   ]
  },
  {
   "cell_type": "code",
   "execution_count": 19,
   "metadata": {
    "_uuid": "60973ea62c7256cece84012996b026738af11642",
    "colab": {
     "base_uri": "https://localhost:8080/",
     "height": 401
    },
    "colab_type": "code",
    "id": "wVCdih8u84xW",
    "outputId": "4f76a632-de7e-486a-9675-e3c005711e94"
   },
   "outputs": [
    {
     "data": {
      "text/plain": [
       "<matplotlib.axes._subplots.AxesSubplot at 0x7f5d3a6545c0>"
      ]
     },
     "execution_count": 19,
     "metadata": {},
     "output_type": "execute_result"
    },
    {
     "data": {
      "image/png": "[encoded data removed]",
      "text/plain": [
       "<Figure size 648x432 with 2 Axes>"
      ]
     },
     "metadata": {},
     "output_type": "display_data"
    }
   ],
   "source": [
    "corr = train.corr()\n",
    "f, ax = plt.subplots(figsize=(9, 6))\n",
    "sns.heatmap(corr, annot=True, linewidths=.5, ax=ax)"
   ]
  },
  {
   "cell_type": "code",
   "execution_count": 20,
   "metadata": {
    "_uuid": "dc78127a93a620285a5874a63151ece2e550e70b",
    "colab": {
     "base_uri": "https://localhost:8080/",
     "height": 318
    },
    "colab_type": "code",
    "id": "5-gY9FsL88Kq",
    "outputId": "ccf0fafd-0f00-481b-b154-0ea49c4cb9a4"
   },
   "outputs": [
    {
     "data": {
      "text/plain": [
       "Text(0,0.5,'Number of People Survied or Not Survived')"
      ]
     },
     "execution_count": 20,
     "metadata": {},
     "output_type": "execute_result"
    },
    {
     "data": {
      "image/png": "[encoded data removed]",
      "text/plain": [
       "<Figure size 432x288 with 1 Axes>"
      ]
     },
     "metadata": {},
     "output_type": "display_data"
    }
   ],
   "source": [
    "# Value Count Chart\n",
    "ax = train['Survived'].value_counts().plot.bar()\n",
    "ax.set_xlabel(\"Not Survived or Survived\")\n",
    "ax.set_ylabel(\"Number of People Survied or Not Survived\")"
   ]
  },
  {
   "cell_type": "code",
   "execution_count": 21,
   "metadata": {
    "_uuid": "8ddde76057ac24ce5030788c2384640516449c4f",
    "colab": {
     "base_uri": "https://localhost:8080/",
     "height": 320
    },
    "colab_type": "code",
    "id": "aHQCVL9H9a_R",
    "outputId": "a0b47045-332f-413f-c78c-daf3fb7f72ae"
   },
   "outputs": [
    {
     "data": {
      "text/plain": [
       "<matplotlib.axes._subplots.AxesSubplot at 0x7f5d36cebe80>"
      ]
     },
     "execution_count": 21,
     "metadata": {},
     "output_type": "execute_result"
    },
    {
     "data": {
      "image/png": "[encoded data removed]",
      "text/plain": [
       "<Figure size 432x288 with 1 Axes>"
      ]
     },
     "metadata": {},
     "output_type": "display_data"
    }
   ],
   "source": [
    "# Number of People who survived the even according to Sex\n",
    "train[train['Survived'] == 1].Sex.value_counts().plot.bar()"
   ]
  },
  {
   "cell_type": "code",
   "execution_count": 22,
   "metadata": {
    "_uuid": "9d510859947b12078d4fb8217c711a3e293649fb",
    "colab": {
     "base_uri": "https://localhost:8080/",
     "height": 320
    },
    "colab_type": "code",
    "id": "m4se2T9jAS-z",
    "outputId": "14f37da0-3d2b-4b18-fe22-f7092dff1bea"
   },
   "outputs": [
    {
     "data": {
      "text/plain": [
       "<matplotlib.axes._subplots.AxesSubplot at 0x7f5d36c3bc18>"
      ]
     },
     "execution_count": 22,
     "metadata": {},
     "output_type": "execute_result"
    },
    {
     "data": {
      "image/png": "[encoded data removed]",
      "text/plain": [
       "<Figure size 432x288 with 1 Axes>"
      ]
     },
     "metadata": {},
     "output_type": "display_data"
    }
   ],
   "source": [
    "# Number of People who not survived the even according to Sex\n",
    "train[train['Survived'] == 0].Sex.value_counts().plot.bar()"
   ]
  },
  {
   "cell_type": "markdown",
   "metadata": {
    "_uuid": "d66da44e2fabf1bab9fc32eb48294b25ec87c6be",
    "colab_type": "text",
    "id": "WiYAL640BF58"
   },
   "source": [
    "### What can we conclude from the above data?\n",
    "\n",
    "From the above data we can conclude that the most people who died on the ship were male. Most of Female were saved might be due to the fact shown in movie about saving women and children on boat first. To Confirm the story our next action would be to see how many children who are below the age of 18 are survived the sinking."
   ]
  },
  {
   "cell_type": "code",
   "execution_count": 23,
   "metadata": {
    "_uuid": "b47d838f7314b0e4cdb5df4d0267401770197b9e",
    "colab": {
     "base_uri": "https://localhost:8080/",
     "height": 69
    },
    "colab_type": "code",
    "id": "lxg2JN6zCtkA",
    "outputId": "9d45fb34-416c-47be-badd-bc8509137f53"
   },
   "outputs": [
    {
     "data": {
      "text/plain": [
       "male      71\n",
       "female    68\n",
       "Name: Sex, dtype: int64"
      ]
     },
     "execution_count": 23,
     "metadata": {},
     "output_type": "execute_result"
    }
   ],
   "source": [
    "train[(train['Age'] <= 18)].Sex.value_counts()"
   ]
  },
  {
   "cell_type": "code",
   "execution_count": 24,
   "metadata": {
    "_uuid": "4d4e524e837faac82ccb49b7213e890d669bbcb6",
    "colab": {
     "base_uri": "https://localhost:8080/",
     "height": 289
    },
    "colab_type": "code",
    "id": "q3vM7CxeBmHy",
    "outputId": "4ed6f06f-be83-4d63-f262-24630c8eb652"
   },
   "outputs": [
    {
     "data": {
      "text/plain": [
       "<matplotlib.axes._subplots.AxesSubplot at 0x7f5d36c1a8d0>"
      ]
     },
     "execution_count": 24,
     "metadata": {},
     "output_type": "execute_result"
    },
    {
     "data": {
      "image/png": "[encoded data removed]",
      "text/plain": [
       "<Figure size 432x288 with 1 Axes>"
      ]
     },
     "metadata": {},
     "output_type": "display_data"
    }
   ],
   "source": [
    "train[(train['Age'] <= 18) & (train['Sex'] == 'male')].Survived.value_counts().plot.bar()"
   ]
  },
  {
   "cell_type": "code",
   "execution_count": 25,
   "metadata": {
    "_uuid": "41bd799f640c16d78b28b4984cb70e762d1ee199",
    "colab": {
     "base_uri": "https://localhost:8080/",
     "height": 289
    },
    "colab_type": "code",
    "id": "0-8ePUxGByjc",
    "outputId": "d82159d3-c08c-43f0-f201-37fbf86ddd6e"
   },
   "outputs": [
    {
     "data": {
      "text/plain": [
       "<matplotlib.axes._subplots.AxesSubplot at 0x7f5d36beb518>"
      ]
     },
     "execution_count": 25,
     "metadata": {},
     "output_type": "execute_result"
    },
    {
     "data": {
      "image/png": "[encoded data removed]",
      "text/plain": [
       "<Figure size 432x288 with 1 Axes>"
      ]
     },
     "metadata": {},
     "output_type": "display_data"
    }
   ],
   "source": [
    "train[(train['Age'] <= 18) & (train['Sex'] == 'female')].Survived.value_counts().plot.bar()"
   ]
  },
  {
   "cell_type": "markdown",
   "metadata": {
    "_uuid": "04d56a1485f10fb3223bd8608b2c256aab455e32",
    "colab_type": "text",
    "id": "JergYQakCmbX"
   },
   "source": [
    "By looking at the data above there are 139 Children on Titanic, out of which 71 were male and 68 were female. Most of Femal Child survived the sinking of the ship where male Child did not."
   ]
  },
  {
   "cell_type": "markdown",
   "metadata": {
    "_uuid": "1cd5366c2421da4d67ff92e1fec8481c8bc10a25",
    "colab_type": "text",
    "id": "KT-Weq3gWP4b"
   },
   "source": [
    "Now that we know that maximum Female were alived, let check from where did they embarked."
   ]
  },
  {
   "cell_type": "code",
   "execution_count": 26,
   "metadata": {
    "_uuid": "8e08627dab3be1a1d42d172fc11f82a69a23e11a",
    "colab": {
     "base_uri": "https://localhost:8080/",
     "height": 290
    },
    "colab_type": "code",
    "id": "sNDRbR62WMYj",
    "outputId": "668389d4-cabc-4e12-f041-c26942b3d189"
   },
   "outputs": [
    {
     "data": {
      "text/plain": [
       "<matplotlib.axes._subplots.AxesSubplot at 0x7f5d36b40e10>"
      ]
     },
     "execution_count": 26,
     "metadata": {},
     "output_type": "execute_result"
    },
    {
     "data": {
      "image/png": "[encoded data removed]",
      "text/plain": [
       "<Figure size 432x288 with 1 Axes>"
      ]
     },
     "metadata": {},
     "output_type": "display_data"
    }
   ],
   "source": [
    "train[train['Survived'] == 1]['Embarked'].value_counts().plot.bar()"
   ]
  },
  {
   "cell_type": "code",
   "execution_count": 27,
   "metadata": {
    "_uuid": "6ee33079d4068af6c4053632f849e6941ff55903",
    "colab": {
     "base_uri": "https://localhost:8080/",
     "height": 290
    },
    "colab_type": "code",
    "id": "BN1aI3zoZQFM",
    "outputId": "b510c89c-8473-4b0f-bb5d-96d95956c7a6"
   },
   "outputs": [
    {
     "data": {
      "text/plain": [
       "<matplotlib.axes._subplots.AxesSubplot at 0x7f5d36bd9358>"
      ]
     },
     "execution_count": 27,
     "metadata": {},
     "output_type": "execute_result"
    },
    {
     "data": {
      "image/png": "[encoded data removed]",
      "text/plain": [
       "<Figure size 432x288 with 1 Axes>"
      ]
     },
     "metadata": {},
     "output_type": "display_data"
    }
   ],
   "source": [
    "train[train['Survived'] == 0]['Embarked'].value_counts().plot.bar()"
   ]
  },
  {
   "cell_type": "markdown",
   "metadata": {
    "_uuid": "66274c0336554f5bc4825676cb18cf15d9b75eb7",
    "colab_type": "text",
    "id": "K8z8NEBdaC9b"
   },
   "source": [
    "Looking at the data above we can say that the S Class had maximum people died and and survied Followed by C and Q"
   ]
  },
  {
   "cell_type": "code",
   "execution_count": 28,
   "metadata": {
    "_uuid": "afdf3ad549ab1bab2b7cc71df40ccf8b6642f294",
    "colab": {
     "base_uri": "https://localhost:8080/",
     "height": 309
    },
    "colab_type": "code",
    "id": "f15N8sh2aBF7",
    "outputId": "d1c9646d-b339-4c2e-80a2-90885496ba80"
   },
   "outputs": [
    {
     "name": "stderr",
     "output_type": "stream",
     "text": [
      "/opt/conda/lib/python3.6/site-packages/scipy/stats/stats.py:1713: FutureWarning: Using a non-tuple sequence for multidimensional indexing is deprecated; use `arr[tuple(seq)]` instead of `arr[seq]`. In the future this will be interpreted as an array index, `arr[np.array(seq)]`, which will result either in an error or a different result.\n",
      "  return np.add.reduce(sorted[indexer] * weights, axis=axis) / sumval\n"
     ]
    },
    {
     "data": {
      "text/plain": [
       "<matplotlib.axes._subplots.AxesSubplot at 0x7f5d36ae8b38>"
      ]
     },
     "execution_count": 28,
     "metadata": {},
     "output_type": "execute_result"
    },
    {
     "data": {
      "image/png": "[encoded data removed]",
      "text/plain": [
       "<Figure size 432x288 with 1 Axes>"
      ]
     },
     "metadata": {},
     "output_type": "display_data"
    }
   ],
   "source": [
    "# Lets check the distubution of Fare\n",
    "data = train['Fare']\n",
    "sns.distplot(data)"
   ]
  },
  {
   "cell_type": "code",
   "execution_count": 29,
   "metadata": {
    "_uuid": "0ac0ecd0e476c9aa86546f9ba96869640045f988",
    "colab": {
     "base_uri": "https://localhost:8080/",
     "height": 309
    },
    "colab_type": "code",
    "id": "OxtvTyyVayFF",
    "outputId": "f1f30937-459a-4df9-d6fb-ecee1a8ed22e"
   },
   "outputs": [
    {
     "data": {
      "text/plain": [
       "<matplotlib.axes._subplots.AxesSubplot at 0x7f5d369ed198>"
      ]
     },
     "execution_count": 29,
     "metadata": {},
     "output_type": "execute_result"
    },
    {
     "data": {
      "image/png": "[encoded data removed]",
      "text/plain": [
       "<Figure size 432x288 with 1 Axes>"
      ]
     },
     "metadata": {},
     "output_type": "display_data"
    }
   ],
   "source": [
    "sns.boxplot(data)"
   ]
  },
  {
   "cell_type": "markdown",
   "metadata": {
    "_uuid": "50fc8f533854e5e23e7796e1451c6927248e7836",
    "colab_type": "text",
    "id": "FACbWQc9bMGn"
   },
   "source": [
    "From the above Boxplot and Distplot we can see that the Disturbation of Fare is right Skwed, and we sme outier which where are are above USD 200 to USD 500"
   ]
  },
  {
   "cell_type": "code",
   "execution_count": 30,
   "metadata": {
    "_uuid": "e533f51b72f7b2c2def2cc3f96c9dbd3e0d8d6c6",
    "colab": {
     "base_uri": "https://localhost:8080/",
     "height": 624
    },
    "colab_type": "code",
    "id": "yEvLU3qRbJZ0",
    "outputId": "bc9c56d4-7cdd-4af8-f6a6-136039c6c0d5"
   },
   "outputs": [
    {
     "name": "stdout",
     "output_type": "stream",
     "text": [
      "<class 'pandas.core.frame.DataFrame'>\n",
      "Int64Index: 891 entries, 1 to 891\n",
      "Data columns (total 11 columns):\n",
      "Survived    891 non-null int64\n",
      "Pclass      891 non-null int64\n",
      "Name        891 non-null object\n",
      "Sex         891 non-null object\n",
      "Age         891 non-null float64\n",
      "SibSp       891 non-null int64\n",
      "Parch       891 non-null int64\n",
      "Ticket      891 non-null object\n",
      "Fare        891 non-null float64\n",
      "Embarked    889 non-null object\n",
      "Family      891 non-null int64\n",
      "dtypes: float64(2), int64(5), object(4)\n",
      "memory usage: 83.5+ KB\n",
      "None\n",
      "________________________________________\n",
      "<class 'pandas.core.frame.DataFrame'>\n",
      "Int64Index: 418 entries, 892 to 1309\n",
      "Data columns (total 10 columns):\n",
      "Pclass      418 non-null int64\n",
      "Name        418 non-null object\n",
      "Sex         418 non-null object\n",
      "Age         418 non-null float64\n",
      "SibSp       418 non-null int64\n",
      "Parch       418 non-null int64\n",
      "Ticket      418 non-null object\n",
      "Fare        418 non-null float64\n",
      "Embarked    418 non-null object\n",
      "Family      418 non-null int64\n",
      "dtypes: float64(2), int64(4), object(4)\n",
      "memory usage: 35.9+ KB\n",
      "None\n",
      "________________________________________\n"
     ]
    }
   ],
   "source": [
    "check_info(train,test)"
   ]
  },
  {
   "cell_type": "code",
   "execution_count": 31,
   "metadata": {
    "_uuid": "0b20dc535fd0eca2450ba66898896b6aa6c3fa6b",
    "colab": {},
    "colab_type": "code",
    "id": "9AjKLBv2dqiG"
   },
   "outputs": [],
   "source": [
    "train.drop(columns=['Name'], axis=1, inplace=True)\n",
    "test.drop(columns=['Name'], axis=1, inplace=True)"
   ]
  },
  {
   "cell_type": "code",
   "execution_count": 32,
   "metadata": {
    "_uuid": "756cefc78b9086f658e9e4f8a5311c2abbabdc8c",
    "colab": {},
    "colab_type": "code",
    "id": "YtBAmXrHlepQ"
   },
   "outputs": [],
   "source": [
    "train.drop(columns=['Ticket'], axis=1, inplace=True)\n",
    "test.drop(columns=['Ticket'], axis=1, inplace=True)"
   ]
  },
  {
   "cell_type": "code",
   "execution_count": 33,
   "metadata": {
    "_uuid": "c22c22a14adacd7bb5e441df34f2b1031af1dfec",
    "colab": {
     "base_uri": "https://localhost:8080/",
     "height": 35
    },
    "colab_type": "code",
    "id": "HtB5F4uGbrAX",
    "outputId": "a48b61cb-950c-453b-e67b-77fd70310a60"
   },
   "outputs": [
    {
     "data": {
      "text/plain": [
       "['Sex', 'Embarked']"
      ]
     },
     "execution_count": 33,
     "metadata": {},
     "output_type": "execute_result"
    }
   ],
   "source": [
    "categorical_feature_mask = train.dtypes==object\n",
    "categorical_cols = train.columns[categorical_feature_mask].tolist()\n",
    "categorical_cols"
   ]
  },
  {
   "cell_type": "code",
   "execution_count": 34,
   "metadata": {
    "_uuid": "0a01fa93527206185b69e5710c6c465d5e345e35",
    "colab": {
     "base_uri": "https://localhost:8080/",
     "height": 35
    },
    "colab_type": "code",
    "id": "j2gPoExvnP05",
    "outputId": "70f0cb24-d1ef-4176-f700-3d40271951cf"
   },
   "outputs": [
    {
     "data": {
      "text/plain": [
       "['Sex', 'Embarked']"
      ]
     },
     "execution_count": 34,
     "metadata": {},
     "output_type": "execute_result"
    }
   ],
   "source": [
    "test_categorical_feature_mask = test.dtypes==object\n",
    "test_categorical_cols = test.columns[test_categorical_feature_mask].tolist()\n",
    "test_categorical_cols"
   ]
  },
  {
   "cell_type": "code",
   "execution_count": 35,
   "metadata": {
    "_uuid": "ab56afc27030b4bdce4273c9a3851bb846bee227",
    "colab": {},
    "colab_type": "code",
    "id": "Q7-wnImalOes"
   },
   "outputs": [],
   "source": [
    "# import labelencoder\n",
    "from sklearn.preprocessing import LabelEncoder\n",
    "# instantiate labelencoder object\n",
    "le = LabelEncoder()"
   ]
  },
  {
   "cell_type": "code",
   "execution_count": 36,
   "metadata": {
    "_uuid": "ddcd186c3a3e7d01c3d2eb3b4cf63a23fa60f297",
    "colab": {},
    "colab_type": "code",
    "id": "GM7MynNxd6qa"
   },
   "outputs": [],
   "source": [
    "train[categorical_cols] = train[categorical_cols].apply(lambda col: le.fit_transform(col.astype(str)))"
   ]
  },
  {
   "cell_type": "code",
   "execution_count": 37,
   "metadata": {
    "_uuid": "e43ea647eb174bbb45a5ea245872cad54b40ff66",
    "colab": {},
    "colab_type": "code",
    "id": "wvj-QCDnndjU"
   },
   "outputs": [],
   "source": [
    "test[categorical_cols] = test[categorical_cols].apply(lambda col: le.fit_transform(col.astype(str)))"
   ]
  },
  {
   "cell_type": "code",
   "execution_count": 38,
   "metadata": {
    "_uuid": "61eec350a4ace39d4c3dc5daedfdd19e1fc21c84",
    "colab": {
     "base_uri": "https://localhost:8080/",
     "height": 447
    },
    "colab_type": "code",
    "id": "O1LGAMgxnhhm",
    "outputId": "52cf3736-2599-44b6-95d6-e603bc9717f6"
   },
   "outputs": [
    {
     "data": {
      "text/plain": [
       "<matplotlib.axes._subplots.AxesSubplot at 0x7f5d35611160>"
      ]
     },
     "execution_count": 38,
     "metadata": {},
     "output_type": "execute_result"
    },
    {
     "data": {
      "image/png": "[encoded data removed]",
      "text/plain": [
       "<Figure size 648x432 with 2 Axes>"
      ]
     },
     "metadata": {},
     "output_type": "display_data"
    }
   ],
   "source": [
    "corr = train.corr()\n",
    "f, ax = plt.subplots(figsize=(9, 6))\n",
    "sns.heatmap(corr, annot=True, linewidths=.5, ax=ax)"
   ]
  },
  {
   "cell_type": "code",
   "execution_count": 39,
   "metadata": {
    "_uuid": "15e8826ff4c5bb1c8788db46c059cde3adf3b183",
    "colab": {},
    "colab_type": "code",
    "id": "KGZwdrDUD5Md"
   },
   "outputs": [],
   "source": [
    "# Import all libary for Sklearn Model Evalulation\n",
    "from sklearn.metrics import accuracy_score, f1_score, roc_auc_score"
   ]
  },
  {
   "cell_type": "code",
   "execution_count": 40,
   "metadata": {
    "_uuid": "d3899a999a9550ec678ab725ff7e0dc2ad2e4f61",
    "colab": {},
    "colab_type": "code",
    "id": "XlNW4bX9tI5f"
   },
   "outputs": [],
   "source": [
    "# Let's Create our Machine Learning Model to check how it is working but before that we will create a function which will print all the ROC, AUC and Confusion Matix so we will not have to performance these step mannualy.\n",
    "def run_model(model, name, Xtrain, Xtest, ytrain, ytest):\n",
    "  print(name + 'Model Details')\n",
    "  model.fit(Xtrain, ytrain)\n",
    "  ypred = model.predict(Xtest)\n",
    "  print(\"F1 score is: {}\".format(f1_score(ytest, ypred)))\n",
    "  print(\"AUC Score is: {}\".format(roc_auc_score(ytest, ypred)))"
   ]
  },
  {
   "cell_type": "code",
   "execution_count": 41,
   "metadata": {
    "_uuid": "d84f08d95c97d0d75de80db60b4cbb73b6369821",
    "colab": {},
    "colab_type": "code",
    "id": "Q679L9_wIxZS"
   },
   "outputs": [],
   "source": [
    "from xgboost import XGBClassifier\n",
    "from sklearn.ensemble import GradientBoostingClassifier, RandomForestClassifier, AdaBoostClassifier\n",
    "from sklearn import tree\n",
    "from sklearn.linear_model import LogisticRegression"
   ]
  },
  {
   "cell_type": "code",
   "execution_count": 42,
   "metadata": {
    "_uuid": "37584fe4aa8093d04b5318d867b78e432877dbde",
    "colab": {},
    "colab_type": "code",
    "id": "39Yz8ZakI8nb"
   },
   "outputs": [],
   "source": [
    "gbc = GradientBoostingClassifier()\n",
    "rfc = RandomForestClassifier()\n",
    "xgb = XGBClassifier()\n",
    "ada = AdaBoostClassifier()\n",
    "clf = tree.DecisionTreeClassifier()\n",
    "log = LogisticRegression()"
   ]
  },
  {
   "cell_type": "code",
   "execution_count": 43,
   "metadata": {
    "_uuid": "95b1cadb205eccd09d7e80c823439a06d83ee861",
    "colab": {},
    "colab_type": "code",
    "id": "RDyZdwJ4JAco"
   },
   "outputs": [],
   "source": [
    "model_list = [gbc, rfc, xgb, ada, clf]"
   ]
  },
  {
   "cell_type": "code",
   "execution_count": 44,
   "metadata": {
    "_uuid": "791d26d0052cd593491c08d5609653c5ac9f5df6",
    "colab": {},
    "colab_type": "code",
    "id": "UE4izKuhJI_9"
   },
   "outputs": [],
   "source": [
    "model_name = ['Gradient Boosting', 'Random Forest', 'XGBoost', 'Ada Boost', 'Decision Tree']"
   ]
  },
  {
   "cell_type": "code",
   "execution_count": 45,
   "metadata": {
    "_uuid": "e7213cd27eecd73d97a887b1348e63b26426f9ed",
    "colab": {},
    "colab_type": "code",
    "id": "-jfxcfzuJznN"
   },
   "outputs": [],
   "source": [
    "from sklearn.model_selection import train_test_split"
   ]
  },
  {
   "cell_type": "code",
   "execution_count": 46,
   "metadata": {
    "_uuid": "bc995f3725397f6e2d6e5af09fb94d1c135d66e6",
    "colab": {},
    "colab_type": "code",
    "id": "53aWJlBaKHkF"
   },
   "outputs": [],
   "source": [
    "X = train.drop(columns=['Survived'], axis=1)\n",
    "y = train.Survived"
   ]
  },
  {
   "cell_type": "code",
   "execution_count": 47,
   "metadata": {
    "_uuid": "1f0ffe255f607c62ff577538273a032e2e6077a5",
    "colab": {},
    "colab_type": "code",
    "id": "3iJF0GbEJhHQ"
   },
   "outputs": [],
   "source": [
    "Xtrain, Xtest, ytrain, ytest = train_test_split(X, y, train_size=0.8, test_size=0.2)"
   ]
  },
  {
   "cell_type": "code",
   "execution_count": 48,
   "metadata": {
    "_uuid": "a1d105dc3ac479d08b3a1cf98836418ae4c83b1d",
    "colab": {
     "base_uri": "https://localhost:8080/",
     "height": 69
    },
    "colab_type": "code",
    "id": "e1ImBeYvKw68",
    "outputId": "c8fe3805-87d6-4543-8444-09c87c588a72"
   },
   "outputs": [
    {
     "name": "stdout",
     "output_type": "stream",
     "text": [
      "Accuracy score is: 0.8379888268156425\n",
      "F1 score is: 0.7716535433070866\n",
      "AUC Score is: 0.8141633728590252\n"
     ]
    }
   ],
   "source": [
    "gbc.fit(Xtrain, ytrain)\n",
    "gbcpred = gbc.predict(Xtest)\n",
    "print(\"Accuracy score is: {}\".format(accuracy_score(ytest, gbcpred)))\n",
    "print(\"F1 score is: {}\".format(f1_score(ytest, gbcpred)))\n",
    "print(\"AUC Score is: {}\".format(roc_auc_score(ytest, gbcpred)))"
   ]
  },
  {
   "cell_type": "code",
   "execution_count": 49,
   "metadata": {
    "_uuid": "0fb8cf2bca5c90e5e7da3403f9e033a31bbd7392",
    "colab": {
     "base_uri": "https://localhost:8080/",
     "height": 124
    },
    "colab_type": "code",
    "id": "L6r71V7PNzHw",
    "outputId": "63b082e3-bfda-41f8-e896-14f77fc2a2a0"
   },
   "outputs": [
    {
     "name": "stdout",
     "output_type": "stream",
     "text": [
      "Accuracy score is: 0.8491620111731844\n",
      "F1 score is: 0.7969924812030075\n",
      "AUC Score is: 0.8340579710144927\n"
     ]
    },
    {
     "name": "stderr",
     "output_type": "stream",
     "text": [
      "/opt/conda/lib/python3.6/site-packages/sklearn/ensemble/forest.py:246: FutureWarning: The default value of n_estimators will change from 10 in version 0.20 to 100 in 0.22.\n",
      "  \"10 in version 0.20 to 100 in 0.22.\", FutureWarning)\n"
     ]
    }
   ],
   "source": [
    "rfc.fit(Xtrain, ytrain)\n",
    "rfcpred = rfc.predict(Xtest)\n",
    "print(\"Accuracy score is: {}\".format(accuracy_score(ytest, rfcpred)))\n",
    "print(\"F1 score is: {}\".format(f1_score(ytest, rfcpred)))\n",
    "print(\"AUC Score is: {}\".format(roc_auc_score(ytest, rfcpred)))"
   ]
  },
  {
   "cell_type": "code",
   "execution_count": 50,
   "metadata": {
    "_uuid": "76161ef6e408b36a28948b89650791ed9ee14c83",
    "colab": {
     "base_uri": "https://localhost:8080/",
     "height": 69
    },
    "colab_type": "code",
    "id": "zK7Q_ALyN0GC",
    "outputId": "ebecb77e-1fcd-4897-fbe3-49e94a18522c"
   },
   "outputs": [
    {
     "name": "stdout",
     "output_type": "stream",
     "text": [
      "Accuracy score is: 0.8324022346368715\n",
      "F1 score is: 0.7540983606557377\n",
      "AUC Score is: 0.8015151515151515\n"
     ]
    }
   ],
   "source": [
    "xgb.fit(Xtrain, ytrain)\n",
    "xgbpred = xgb.predict(Xtest)\n",
    "print(\"Accuracy score is: {}\".format(accuracy_score(ytest, xgbpred)))\n",
    "print(\"F1 score is: {}\".format(f1_score(ytest, xgbpred)))\n",
    "print(\"AUC Score is: {}\".format(roc_auc_score(ytest, xgbpred)))"
   ]
  },
  {
   "cell_type": "code",
   "execution_count": 51,
   "metadata": {
    "_uuid": "e1632999a8f1a3bf64f6def893e25ebdb6bc8c1b",
    "colab": {
     "base_uri": "https://localhost:8080/",
     "height": 69
    },
    "colab_type": "code",
    "id": "F5NWSv35N0ti",
    "outputId": "1415fc27-8cc9-4700-e501-5b3dac243876"
   },
   "outputs": [
    {
     "name": "stdout",
     "output_type": "stream",
     "text": [
      "Accuracy score is: 0.8435754189944135\n",
      "F1 score is: 0.7910447761194029\n",
      "AUC Score is: 0.8295125164690381\n"
     ]
    }
   ],
   "source": [
    "ada.fit(Xtrain, ytrain)\n",
    "adapred = ada.predict(Xtest)\n",
    "print(\"Accuracy score is: {}\".format(accuracy_score(ytest, adapred)))\n",
    "print(\"F1 score is: {}\".format(f1_score(ytest, adapred)))\n",
    "print(\"AUC Score is: {}\".format(roc_auc_score(ytest, adapred)))"
   ]
  },
  {
   "cell_type": "code",
   "execution_count": 52,
   "metadata": {
    "_uuid": "4ecd7c3b19163e7b9a8e1bfc7b60a77d48b9a60a",
    "colab": {
     "base_uri": "https://localhost:8080/",
     "height": 69
    },
    "colab_type": "code",
    "id": "sfRliVWlOej1",
    "outputId": "8a80fb90-e10c-4ecb-cfae-c2e9398d6109"
   },
   "outputs": [
    {
     "name": "stdout",
     "output_type": "stream",
     "text": [
      "Accuracy score is: 0.7932960893854749\n",
      "F1 score is: 0.7338129496402879\n",
      "AUC Score is: 0.7832015810276679\n"
     ]
    }
   ],
   "source": [
    "clf.fit(Xtrain, ytrain)\n",
    "clfpred = clf.predict(Xtest)\n",
    "print(\"Accuracy score is: {}\".format(accuracy_score(ytest, clfpred)))\n",
    "print(\"F1 score is: {}\".format(f1_score(ytest, clfpred)))\n",
    "print(\"AUC Score is: {}\".format(roc_auc_score(ytest, clfpred)))"
   ]
  },
  {
   "cell_type": "code",
   "execution_count": 53,
   "metadata": {
    "_uuid": "2d0c0374d5455aefc7eae4da304910a3a5e404c4"
   },
   "outputs": [
    {
     "name": "stderr",
     "output_type": "stream",
     "text": [
      "/opt/conda/lib/python3.6/site-packages/sklearn/linear_model/logistic.py:433: FutureWarning: Default solver will be changed to 'lbfgs' in 0.22. Specify a solver to silence this warning.\n",
      "  FutureWarning)\n"
     ]
    },
    {
     "name": "stdout",
     "output_type": "stream",
     "text": [
      "Accuracy score is: 0.8715083798882681\n",
      "F1 score is: 0.8188976377952756\n",
      "AUC Score is: 0.8495388669301712\n"
     ]
    }
   ],
   "source": [
    "log.fit(Xtrain, ytrain)\n",
    "logpred = log.predict(Xtest)\n",
    "print(\"Accuracy score is: {}\".format(accuracy_score(ytest, logpred)))\n",
    "print(\"F1 score is: {}\".format(f1_score(ytest, logpred)))\n",
    "print(\"AUC Score is: {}\".format(roc_auc_score(ytest, logpred)))"
   ]
  },
  {
   "cell_type": "code",
   "execution_count": 54,
   "metadata": {
    "_uuid": "737d6f36cf2a8936270c10613e2e4fb6c8076d87",
    "colab": {},
    "colab_type": "code",
    "id": "VGI84Q8QQyuy"
   },
   "outputs": [],
   "source": [
    "test['Survived'] = xgb.predict(test)"
   ]
  },
  {
   "cell_type": "code",
   "execution_count": 55,
   "metadata": {
    "_uuid": "e2a60bb8638c31cd4b6ec70d15af27131c7fd6f0"
   },
   "outputs": [
    {
     "data": {
      "text/html": [
       "<div>\n",
       "<style scoped>\n",
       "    .dataframe tbody tr th:only-of-type {\n",
       "        vertical-align: middle;\n",
       "    }\n",
       "\n",
       "    .dataframe tbody tr th {\n",
       "        vertical-align: top;\n",
       "    }\n",
       "\n",
       "    .dataframe thead th {\n",
       "        text-align: right;\n",
       "    }\n",
       "</style>\n",
       "<table border=\"1\" class=\"dataframe\">\n",
       "  <thead>\n",
       "    <tr style=\"text-align: right;\">\n",
       "      <th></th>\n",
       "      <th>Pclass</th>\n",
       "      <th>Sex</th>\n",
       "      <th>Age</th>\n",
       "      <th>SibSp</th>\n",
       "      <th>Parch</th>\n",
       "      <th>Fare</th>\n",
       "      <th>Embarked</th>\n",
       "      <th>Family</th>\n",
       "      <th>Survived</th>\n",
       "    </tr>\n",
       "    <tr>\n",
       "      <th>PassengerId</th>\n",
       "      <th></th>\n",
       "      <th></th>\n",
       "      <th></th>\n",
       "      <th></th>\n",
       "      <th></th>\n",
       "      <th></th>\n",
       "      <th></th>\n",
       "      <th></th>\n",
       "      <th></th>\n",
       "    </tr>\n",
       "  </thead>\n",
       "  <tbody>\n",
       "    <tr>\n",
       "      <th>892</th>\n",
       "      <td>3</td>\n",
       "      <td>1</td>\n",
       "      <td>34.5</td>\n",
       "      <td>0</td>\n",
       "      <td>0</td>\n",
       "      <td>7.8292</td>\n",
       "      <td>1</td>\n",
       "      <td>0</td>\n",
       "      <td>0</td>\n",
       "    </tr>\n",
       "    <tr>\n",
       "      <th>893</th>\n",
       "      <td>3</td>\n",
       "      <td>0</td>\n",
       "      <td>47.0</td>\n",
       "      <td>1</td>\n",
       "      <td>0</td>\n",
       "      <td>7.0000</td>\n",
       "      <td>2</td>\n",
       "      <td>1</td>\n",
       "      <td>0</td>\n",
       "    </tr>\n",
       "    <tr>\n",
       "      <th>894</th>\n",
       "      <td>2</td>\n",
       "      <td>1</td>\n",
       "      <td>62.0</td>\n",
       "      <td>0</td>\n",
       "      <td>0</td>\n",
       "      <td>9.6875</td>\n",
       "      <td>1</td>\n",
       "      <td>0</td>\n",
       "      <td>0</td>\n",
       "    </tr>\n",
       "    <tr>\n",
       "      <th>895</th>\n",
       "      <td>3</td>\n",
       "      <td>1</td>\n",
       "      <td>27.0</td>\n",
       "      <td>0</td>\n",
       "      <td>0</td>\n",
       "      <td>8.6625</td>\n",
       "      <td>2</td>\n",
       "      <td>0</td>\n",
       "      <td>0</td>\n",
       "    </tr>\n",
       "    <tr>\n",
       "      <th>896</th>\n",
       "      <td>3</td>\n",
       "      <td>0</td>\n",
       "      <td>22.0</td>\n",
       "      <td>1</td>\n",
       "      <td>1</td>\n",
       "      <td>12.2875</td>\n",
       "      <td>2</td>\n",
       "      <td>2</td>\n",
       "      <td>0</td>\n",
       "    </tr>\n",
       "  </tbody>\n",
       "</table>\n",
       "</div>"
      ],
      "text/plain": [
       "             Pclass  Sex   Age    ...     Embarked  Family  Survived\n",
       "PassengerId                       ...                               \n",
       "892               3    1  34.5    ...            1       0         0\n",
       "893               3    0  47.0    ...            2       1         0\n",
       "894               2    1  62.0    ...            1       0         0\n",
       "895               3    1  27.0    ...            2       0         0\n",
       "896               3    0  22.0    ...            2       2         0\n",
       "\n",
       "[5 rows x 9 columns]"
      ]
     },
     "execution_count": 55,
     "metadata": {},
     "output_type": "execute_result"
    }
   ],
   "source": [
    "test.head()"
   ]
  },
  {
   "cell_type": "code",
   "execution_count": 56,
   "metadata": {
    "_uuid": "c0683d70a64477d698c3a3d74d8889677c95a36f"
   },
   "outputs": [],
   "source": [
    "test.to_csv('survived.csv')"
   ]
  }
 ],
 "metadata": {
  "accelerator": "GPU",
  "colab": {
   "collapsed_sections": [],
   "name": "Kaggle Titanic Classification.ipynb",
   "provenance": [],
   "toc_visible": true,
   "version": "0.3.2"
  },
  "kernelspec": {
   "display_name": "Python 3",
   "language": "python",
   "name": "python3"
  },
  "language_info": {
   "codemirror_mode": {
    "name": "ipython",
    "version": 3
   },
   "file_extension": ".py",
   "mimetype": "text/x-python",
   "name": "python",
   "nbconvert_exporter": "python",
   "pygments_lexer": "ipython3",
   "version": "3.6.6"
  }
 },
 "nbformat": 4,
 "nbformat_minor": 1
}
