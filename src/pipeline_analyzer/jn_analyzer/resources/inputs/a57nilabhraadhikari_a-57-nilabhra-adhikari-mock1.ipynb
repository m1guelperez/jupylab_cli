{
 "cells": [
  {
   "cell_type": "code",
   "execution_count": 1,
   "metadata": {
    "_cell_guid": "b1076dfc-b9ad-4769-8c92-a6c4dae69d19",
    "_uuid": "8f2839f25d086af736a60e9eeb907d3b93b6e0e5",
    "execution": {
     "iopub.execute_input": "2020-09-18T10:29:23.309769Z",
     "iopub.status.busy": "2020-09-18T10:29:23.308757Z",
     "iopub.status.idle": "2020-09-18T10:29:23.312879Z",
     "shell.execute_reply": "2020-09-18T10:29:23.313492Z"
    },
    "papermill": {
     "duration": 0.038063,
     "end_time": "2020-09-18T10:29:23.313673",
     "exception": false,
     "start_time": "2020-09-18T10:29:23.275610",
     "status": "completed"
    },
    "tags": []
   },
   "outputs": [
    {
     "name": "stdout",
     "output_type": "stream",
     "text": [
      "Select specific columns and rows:\n",
      "   score qualify\n",
      "b    9.0      no\n",
      "d    NaN      no\n",
      "f   20.0     yes\n",
      "g   14.5     yes\n"
     ]
    }
   ],
   "source": [
    "#1. Write a Pandas program to select the specified columns and rows from a given data frame.\n",
    "import pandas as pd\n",
    "import numpy as np\n",
    "\n",
    "exam_data  = {'name': ['Anastasia', 'Dima', 'Katherine', 'James', 'Emily', 'Michael', 'Matthew', 'Laura', 'Kevin', 'Jonas'],\n",
    "        'score': [12.5, 9, 16.5, np.nan, 9, 20, 14.5, np.nan, 8, 19],\n",
    "        'attempts': [1, 3, 2, 3, 2, 3, 1, 1, 2, 1],\n",
    "        'qualify': ['yes', 'no', 'yes', 'no', 'no', 'yes', 'yes', 'no', 'no', 'yes']}\n",
    "labels = ['a', 'b', 'c', 'd', 'e', 'f', 'g', 'h', 'i', 'j']\n",
    "\n",
    "df = pd.DataFrame(exam_data , index=labels)\n",
    "print(\"Select specific columns and rows:\")\n",
    "print(df.iloc[[1, 3, 5, 6], [1, 3]])"
   ]
  },
  {
   "cell_type": "code",
   "execution_count": 2,
   "metadata": {
    "_cell_guid": "79c7e3d0-c299-4dcb-8224-4455121ee9b0",
    "_uuid": "d629ff2d2480ee46fbb7e2d37f6b5fab8052498a",
    "execution": {
     "iopub.execute_input": "2020-09-18T10:29:23.337684Z",
     "iopub.status.busy": "2020-09-18T10:29:23.332452Z",
     "iopub.status.idle": "2020-09-18T10:29:23.869064Z",
     "shell.execute_reply": "2020-09-18T10:29:23.868318Z"
    },
    "papermill": {
     "duration": 0.550309,
     "end_time": "2020-09-18T10:29:23.869204",
     "exception": false,
     "start_time": "2020-09-18T10:29:23.318895",
     "status": "completed"
    },
    "tags": []
   },
   "outputs": [
    {
     "name": "stdout",
     "output_type": "stream",
     "text": [
      "Abnormal Data\n"
     ]
    },
    {
     "data": {
      "image/png": "[encoded data removed]",
      "text/plain": [
       "<Figure size 432x288 with 1 Axes>"
      ]
     },
     "metadata": {
      "needs_background": "light"
     },
     "output_type": "display_data"
    },
    {
     "name": "stdout",
     "output_type": "stream",
     "text": [
      "Correct Data\n"
     ]
    },
    {
     "data": {
      "image/png": "[encoded data removed]",
      "text/plain": [
       "<Figure size 432x288 with 1 Axes>"
      ]
     },
     "metadata": {
      "needs_background": "light"
     },
     "output_type": "display_data"
    }
   ],
   "source": [
    "#2. Store height of 50 students in inches. Now while the data was beign recorded manually there has been some typing mistake and therefore height of 2 students have been recorded as 172 inch and 2 students have been recorded as 12 inch. Graphically plot and show how you can seggregate correct data from abnormal data.\n",
    "from matplotlib import pyplot as plt\n",
    "heights=[72,71,56,45,67,89,54,58,67,77,77,78,77,73,73,172,72,71,56,45,67,\n",
    "         89,54,58,67,172,77,78,77,73,73,172,12,54,64,75,75,77,88,66,70,12,54,64,75,75,77,88,66,70]\n",
    "def plot_his(heights):\n",
    "    start=min(heights)-min(heights)%10\n",
    "    end=max(heights)+10\n",
    "    bins=list(range(start,end,5))\n",
    "    plt.hist(heights,bins,histtype='bar',rwidth=0.5,color='#FF2400')\n",
    "    plt.xlabel('heights in inches')\n",
    "    plt.ylabel('No. of Students')\n",
    "    plt.title(\"Heights chart\")\n",
    "    plt.show()\n",
    "print(\"Abnormal Data\")\n",
    "plot_his(heights)\n",
    "heights=list(filter(lambda x: not x==172 and not x==12, heights))\n",
    "print(\"Correct Data\")\n",
    "plot_his(heights)"
   ]
  },
  {
   "cell_type": "code",
   "execution_count": 3,
   "metadata": {
    "execution": {
     "iopub.execute_input": "2020-09-18T10:29:23.893314Z",
     "iopub.status.busy": "2020-09-18T10:29:23.892230Z",
     "iopub.status.idle": "2020-09-18T10:29:23.910141Z",
     "shell.execute_reply": "2020-09-18T10:29:23.910764Z"
    },
    "papermill": {
     "duration": 0.0345,
     "end_time": "2020-09-18T10:29:23.910936",
     "exception": false,
     "start_time": "2020-09-18T10:29:23.876436",
     "status": "completed"
    },
    "tags": []
   },
   "outputs": [
    {
     "name": "stdout",
     "output_type": "stream",
     "text": [
      "<class 'pandas.core.frame.DataFrame'>\n",
      "RangeIndex: 149 entries, 0 to 148\n",
      "Data columns (total 5 columns):\n",
      " #   Column       Non-Null Count  Dtype  \n",
      "---  ------       --------------  -----  \n",
      " 0   5.1          149 non-null    float64\n",
      " 1   3.5          149 non-null    float64\n",
      " 2   1.4          149 non-null    float64\n",
      " 3   0.2          149 non-null    float64\n",
      " 4   Iris-setosa  149 non-null    object \n",
      "dtypes: float64(4), object(1)\n",
      "memory usage: 5.9+ KB\n",
      "None\n"
     ]
    }
   ],
   "source": [
    "#3. Write a Python program to get the number of observations, missing values and nan values.\n",
    "import pandas as pd\n",
    "iris = pd.read_csv(\"../input/iris-dataset/iris.data.csv\")\n",
    "print(iris.info())"
   ]
  }
 ],
 "metadata": {
  "kernelspec": {
   "display_name": "Python 3",
   "language": "python",
   "name": "python3"
  },
  "language_info": {
   "codemirror_mode": {
    "name": "ipython",
    "version": 3
   },
   "file_extension": ".py",
   "mimetype": "text/x-python",
   "name": "python",
   "nbconvert_exporter": "python",
   "pygments_lexer": "ipython3",
   "version": "3.7.6"
  },
  "papermill": {
   "duration": 5.423223,
   "end_time": "2020-09-18T10:29:24.027324",
   "environment_variables": {},
   "exception": null,
   "input_path": "__notebook__.ipynb",
   "output_path": "__notebook__.ipynb",
   "parameters": {},
   "start_time": "2020-09-18T10:29:18.604101",
   "version": "2.1.0"
  }
 },
 "nbformat": 4,
 "nbformat_minor": 4
}
