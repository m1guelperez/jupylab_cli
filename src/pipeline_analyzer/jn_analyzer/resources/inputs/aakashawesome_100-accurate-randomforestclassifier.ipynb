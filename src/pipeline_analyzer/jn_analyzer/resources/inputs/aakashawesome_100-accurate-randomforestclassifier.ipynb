{
 "cells": [
  {
   "cell_type": "markdown",
   "execution_count": null,
   "metadata": {
    "papermill": {
     "duration": 0.005664,
     "end_time": "2020-08-10T18:50:47.712168",
     "exception": false,
     "start_time": "2020-08-10T18:50:47.706504",
     "status": "completed"
    },
    "tags": []
   },
   "source": [
    "***This is just a Beginners notebooks Those who have no ideas about techniques like Feature Engineering, Feature Selection, cross validation and so***"
   ]
  },
  {
   "cell_type": "code",
   "execution_count": 1,
   "metadata": {
    "_cell_guid": "b1076dfc-b9ad-4769-8c92-a6c4dae69d19",
    "_uuid": "8f2839f25d086af736a60e9eeb907d3b93b6e0e5",
    "execution": {
     "iopub.execute_input": "2020-08-10T18:50:47.729170Z",
     "iopub.status.busy": "2020-08-10T18:50:47.728292Z",
     "iopub.status.idle": "2020-08-10T18:50:47.736207Z",
     "shell.execute_reply": "2020-08-10T18:50:47.737020Z"
    },
    "papermill": {
     "duration": 0.020807,
     "end_time": "2020-08-10T18:50:47.737298",
     "exception": false,
     "start_time": "2020-08-10T18:50:47.716491",
     "status": "completed"
    },
    "tags": []
   },
   "outputs": [
    {
     "name": "stdout",
     "output_type": "stream",
     "text": [
      "/kaggle/input/mushroom-classification/mushrooms.csv\n"
     ]
    }
   ],
   "source": [
    "# This Python 3 environment comes with many helpful analytics libraries installed\n",
    "# It is defined by the kaggle/python Docker image: https://github.com/kaggle/docker-python\n",
    "# For example, here's several helpful packages to load\n",
    "\n",
    "import numpy as np # linear algebra\n",
    "import pandas as pd # data processing, CSV file I/O (e.g. pd.read_csv)\n",
    "\n",
    "# Input data files are available in the read-only \"../input/\" directory\n",
    "# For example, running this (by clicking run or pressing Shift+Enter) will list all files under the input directory\n",
    "\n",
    "import os\n",
    "for dirname, _, filenames in os.walk('/kaggle/input'):\n",
    "    for filename in filenames:\n",
    "        print(os.path.join(dirname, filename))\n",
    "\n",
    "# You can write up to 5GB to the current directory (/kaggle/working/) that gets preserved as output when you create a version using \"Save & Run All\" \n",
    "# You can also write temporary files to /kaggle/temp/, but they won't be saved outside of the current session"
   ]
  },
  {
   "cell_type": "code",
   "execution_count": 2,
   "metadata": {
    "_cell_guid": "79c7e3d0-c299-4dcb-8224-4455121ee9b0",
    "_uuid": "d629ff2d2480ee46fbb7e2d37f6b5fab8052498a",
    "execution": {
     "iopub.execute_input": "2020-08-10T18:50:47.753267Z",
     "iopub.status.busy": "2020-08-10T18:50:47.752463Z",
     "iopub.status.idle": "2020-08-10T18:50:47.803546Z",
     "shell.execute_reply": "2020-08-10T18:50:47.802752Z"
    },
    "papermill": {
     "duration": 0.06157,
     "end_time": "2020-08-10T18:50:47.803677",
     "exception": false,
     "start_time": "2020-08-10T18:50:47.742107",
     "status": "completed"
    },
    "tags": []
   },
   "outputs": [],
   "source": [
    "import pandas as pd\n",
    "\n",
    "\n",
    "# reading the csv file\n",
    "train_df = pd.read_csv(\"/kaggle/input/mushroom-classification/mushrooms.csv\")\n"
   ]
  },
  {
   "cell_type": "code",
   "execution_count": 3,
   "metadata": {
    "execution": {
     "iopub.execute_input": "2020-08-10T18:50:47.829891Z",
     "iopub.status.busy": "2020-08-10T18:50:47.824998Z",
     "iopub.status.idle": "2020-08-10T18:50:47.833452Z",
     "shell.execute_reply": "2020-08-10T18:50:47.832616Z"
    },
    "papermill": {
     "duration": 0.025464,
     "end_time": "2020-08-10T18:50:47.833583",
     "exception": false,
     "start_time": "2020-08-10T18:50:47.808119",
     "status": "completed"
    },
    "tags": []
   },
   "outputs": [],
   "source": [
    "X = train_df.drop('class', axis=1)\n",
    "y = train_df['class']"
   ]
  },
  {
   "cell_type": "code",
   "execution_count": 4,
   "metadata": {
    "execution": {
     "iopub.execute_input": "2020-08-10T18:50:47.853480Z",
     "iopub.status.busy": "2020-08-10T18:50:47.852443Z",
     "iopub.status.idle": "2020-08-10T18:50:47.856827Z",
     "shell.execute_reply": "2020-08-10T18:50:47.856101Z"
    },
    "papermill": {
     "duration": 0.018897,
     "end_time": "2020-08-10T18:50:47.856954",
     "exception": false,
     "start_time": "2020-08-10T18:50:47.838057",
     "status": "completed"
    },
    "tags": []
   },
   "outputs": [
    {
     "name": "stdout",
     "output_type": "stream",
     "text": [
      "e    4208\n",
      "p    3916\n",
      "Name: class, dtype: int64\n"
     ]
    }
   ],
   "source": [
    "print(y.value_counts())"
   ]
  },
  {
   "cell_type": "code",
   "execution_count": 5,
   "metadata": {
    "execution": {
     "iopub.execute_input": "2020-08-10T18:50:47.872568Z",
     "iopub.status.busy": "2020-08-10T18:50:47.871823Z",
     "iopub.status.idle": "2020-08-10T18:50:49.079399Z",
     "shell.execute_reply": "2020-08-10T18:50:49.078536Z"
    },
    "papermill": {
     "duration": 1.218159,
     "end_time": "2020-08-10T18:50:49.079569",
     "exception": false,
     "start_time": "2020-08-10T18:50:47.861410",
     "status": "completed"
    },
    "tags": []
   },
   "outputs": [],
   "source": [
    "from sklearn.model_selection import train_test_split\n",
    "\n",
    "X = pd.get_dummies(X)\n",
    "y = pd.get_dummies(y)\n",
    "X_train, X_test, y_train, y_test = train_test_split(X, y)"
   ]
  },
  {
   "cell_type": "code",
   "execution_count": 6,
   "metadata": {
    "execution": {
     "iopub.execute_input": "2020-08-10T18:50:49.101675Z",
     "iopub.status.busy": "2020-08-10T18:50:49.100587Z",
     "iopub.status.idle": "2020-08-10T18:50:50.064463Z",
     "shell.execute_reply": "2020-08-10T18:50:50.063572Z"
    },
    "papermill": {
     "duration": 0.977409,
     "end_time": "2020-08-10T18:50:50.064620",
     "exception": false,
     "start_time": "2020-08-10T18:50:49.087211",
     "status": "completed"
    },
    "tags": []
   },
   "outputs": [
    {
     "name": "stdout",
     "output_type": "stream",
     "text": [
      "1.0\n"
     ]
    }
   ],
   "source": [
    "# Random forest Classifier\n",
    "\n",
    "from sklearn.ensemble import RandomForestClassifier\n",
    "\n",
    "model = RandomForestClassifier(n_estimators=100, max_depth=10, random_state=1)\n",
    "model.fit(X_train, y_train)\n",
    "model.score(X_test, y_test)\n",
    "print(model.score(X_test,y_test))"
   ]
  }
 ],
 "metadata": {
  "kernelspec": {
   "display_name": "Python 3",
   "language": "python",
   "name": "python3"
  },
  "language_info": {
   "codemirror_mode": {
    "name": "ipython",
    "version": 3
   },
   "file_extension": ".py",
   "mimetype": "text/x-python",
   "name": "python",
   "nbconvert_exporter": "python",
   "pygments_lexer": "ipython3",
   "version": "3.7.6"
  },
  "papermill": {
   "duration": 8.479805,
   "end_time": "2020-08-10T18:50:50.180981",
   "environment_variables": {},
   "exception": null,
   "input_path": "__notebook__.ipynb",
   "output_path": "__notebook__.ipynb",
   "parameters": {},
   "start_time": "2020-08-10T18:50:41.701176",
   "version": "2.1.0"
  }
 },
 "nbformat": 4,
 "nbformat_minor": 4
}
