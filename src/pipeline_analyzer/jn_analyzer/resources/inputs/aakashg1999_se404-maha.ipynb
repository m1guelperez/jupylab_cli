{
 "cells": [
  {
   "cell_type": "code",
   "execution_count": 1,
   "metadata": {
    "id": "ajLkzqbJkBXp"
   },
   "outputs": [],
   "source": [
    "import numpy as np # linear algebra\n",
    "import pandas as pd # data processing, CSV file I/O (e.g. pd.read_csv)"
   ]
  },
  {
   "cell_type": "code",
   "execution_count": 2,
   "metadata": {
    "id": "brSml0uhklBB",
    "outputId": "b31cc840-e7f6-4784-ba03-c051814a560d"
   },
   "outputs": [
    {
     "data": {
      "text/html": [
       "        <script type=\"text/javascript\">\n",
       "        window.PlotlyConfig = {MathJaxConfig: 'local'};\n",
       "        if (window.MathJax) {MathJax.Hub.Config({SVG: {font: \"STIX-Web\"}});}\n",
       "        if (typeof require !== 'undefined') {\n",
       "        require.undef(\"plotly\");\n",
       "        requirejs.config({\n",
       "            paths: {\n",
       "                'plotly': ['https://cdn.plot.ly/plotly-latest.min']\n",
       "            }\n",
       "        });\n",
       "        require(['plotly'], function(Plotly) {\n",
       "            window._Plotly = Plotly;\n",
       "        });\n",
       "        }\n",
       "        </script>\n",
       "        "
      ]
     },
     "metadata": {},
     "output_type": "display_data"
    },
    {
     "data": {
      "text/html": [
       "        <script type=\"text/javascript\">\n",
       "        window.PlotlyConfig = {MathJaxConfig: 'local'};\n",
       "        if (window.MathJax) {MathJax.Hub.Config({SVG: {font: \"STIX-Web\"}});}\n",
       "        if (typeof require !== 'undefined') {\n",
       "        require.undef(\"plotly\");\n",
       "        requirejs.config({\n",
       "            paths: {\n",
       "                'plotly': ['https://cdn.plot.ly/plotly-latest.min']\n",
       "            }\n",
       "        });\n",
       "        require(['plotly'], function(Plotly) {\n",
       "            window._Plotly = Plotly;\n",
       "        });\n",
       "        }\n",
       "        </script>\n",
       "        "
      ]
     },
     "metadata": {},
     "output_type": "display_data"
    }
   ],
   "source": [
    "import pandas as pd\n",
    "import matplotlib.pyplot as plt\n",
    "import re\n",
    "from sklearn.linear_model import LinearRegression,LogisticRegression\n",
    "from sklearn.naive_bayes import GaussianNB\n",
    "from sklearn.tree import DecisionTreeRegressor \n",
    "from sklearn.ensemble import RandomForestClassifier\n",
    "from sklearn.model_selection import train_test_split\n",
    "from sklearn.preprocessing import LabelEncoder\n",
    "import plotly.express as px\n",
    "\n",
    "import numpy as np\n",
    "import pandas as pd\n",
    "import os\n",
    "from statsmodels.tsa.statespace.sarimax import SARIMAX\n",
    "from statsmodels.graphics.tsaplots import plot_acf,plot_pacf \n",
    "from statsmodels.tsa.seasonal import seasonal_decompose \n",
    "#from pmdarima import auto_arima                        \n",
    "from sklearn.metrics import mean_squared_error\n",
    "from statsmodels.tools.eval_measures import rmse\n",
    "import warnings\n",
    "warnings.filterwarnings(\"ignore\")\n",
    "import matplotlib.pyplot as plt\n",
    "%matplotlib inline\n",
    "\n",
    "from plotly.offline import download_plotlyjs, init_notebook_mode, plot, iplot\n",
    "init_notebook_mode(connected=True)\n",
    "import cufflinks as cf\n",
    "cf.go_offline()\n",
    "\n",
    "import plotly.express as px\n",
    "import plotly.graph_objects as go\n",
    "\n",
    "import numpy as np\n",
    "import seaborn as sns\n",
    "import warnings\n",
    "warnings.filterwarnings('ignore')\n",
    "\n",
    "\n",
    "import statsmodels.api as sm\n",
    "\n",
    "color = sns.color_palette()\n",
    "sns.set_style('darkgrid')\n",
    "\n",
    "from numpy.random import seed\n",
    "seed(1)\n",
    "\n",
    "\n",
    "import tensorflow\n",
    "tensorflow.random.set_seed(1)"
   ]
  },
  {
   "cell_type": "code",
   "execution_count": 3,
   "metadata": {
    "id": "S3U9TjDmkqrO"
   },
   "outputs": [],
   "source": [
    "age_details = pd.read_csv('../input/covid19-in-india/AgeGroupDetails.csv')\n",
    "#india_covid_19 = pd.read_csv('covid_19_india.csv')\n",
    "hospital_beds = pd.read_csv('../input/covid19-in-india/HospitalBedsIndia.csv')\n",
    "individual_details = pd.read_csv('../input/covid19-in-india/IndividualDetails.csv')\n",
    "ICMR_details = pd.read_csv('../input/covid19-in-india/ICMRTestingDetails.csv')\n",
    "ICMR_labs = pd.read_csv('../input/covid19-in-india/ICMRTestingLabs.csv')\n",
    "state_testing = pd.read_csv('../input/covid19-in-india/StatewiseTestingDetails.csv')\n",
    "population = pd.read_csv('../input/covid19-in-india/population_india_census2011.csv')\n",
    "\n",
    "world_population = pd.read_csv('../input/covid19-in-india/population_india_census2011.csv')\n",
    "confirmed_df = pd.read_csv('https://raw.githubusercontent.com/CSSEGISandData/COVID-19/master/csse_covid_19_data/csse_covid_19_time_series/time_series_covid19_confirmed_global.csv')\n",
    "deaths_df = pd.read_csv('https://raw.githubusercontent.com/CSSEGISandData/COVID-19/master/csse_covid_19_data/csse_covid_19_time_series/time_series_covid19_deaths_global.csv')\n",
    "recovered_df = pd.read_csv('https://raw.githubusercontent.com/CSSEGISandData/COVID-19/master/csse_covid_19_data/csse_covid_19_time_series/time_series_covid19_recovered_global.csv')\n",
    "latest_data = pd.read_csv('https://raw.githubusercontent.com/CSSEGISandData/COVID-19/master/csse_covid_19_data/csse_covid_19_daily_reports/04-04-2020.csv')\n",
    "\n",
    "#india_covid_19['Date'] = pd.to_datetime(india_covid_19['Date'],dayfirst = True)\n",
    "state_testing['Date'] = pd.to_datetime(state_testing['Date'])\n",
    "ICMR_details['DateTime'] = pd.to_datetime(ICMR_details['DateTime'],dayfirst = True)\n",
    "ICMR_details = ICMR_details.dropna(subset=['TotalSamplesTested', 'TotalPositiveCases'])"
   ]
  },
  {
   "cell_type": "code",
   "execution_count": null,
   "metadata": {
    "id": "IIXs00DMk1vF"
   },
   "outputs": [],
   "source": []
  },
  {
   "cell_type": "code",
   "execution_count": 4,
   "metadata": {
    "id": "8DdmWSF2k146"
   },
   "outputs": [],
   "source": [
    "covid_19_india=pd.read_csv('../input/covid19-in-india/covid_19_india.csv')"
   ]
  },
  {
   "cell_type": "code",
   "execution_count": 5,
   "metadata": {
    "id": "rga2r902k5Pa"
   },
   "outputs": [],
   "source": [
    "covid_19_india.Date = pd.to_datetime(covid_19_india.Date, dayfirst=True)"
   ]
  },
  {
   "cell_type": "code",
   "execution_count": 6,
   "metadata": {
    "id": "Rksqe_w4k9Y7",
    "outputId": "a56b47f8-cc8f-432f-e06a-9db1b9160a08"
   },
   "outputs": [
    {
     "data": {
      "text/html": [
       "<div>\n",
       "<style scoped>\n",
       "    .dataframe tbody tr th:only-of-type {\n",
       "        vertical-align: middle;\n",
       "    }\n",
       "\n",
       "    .dataframe tbody tr th {\n",
       "        vertical-align: top;\n",
       "    }\n",
       "\n",
       "    .dataframe thead th {\n",
       "        text-align: right;\n",
       "    }\n",
       "</style>\n",
       "<table border=\"1\" class=\"dataframe\">\n",
       "  <thead>\n",
       "    <tr style=\"text-align: right;\">\n",
       "      <th></th>\n",
       "      <th>Sno</th>\n",
       "      <th>Date</th>\n",
       "      <th>Time</th>\n",
       "      <th>State/UnionTerritory</th>\n",
       "      <th>ConfirmedIndianNational</th>\n",
       "      <th>ConfirmedForeignNational</th>\n",
       "      <th>Cured</th>\n",
       "      <th>Deaths</th>\n",
       "      <th>Confirmed</th>\n",
       "      <th>Active</th>\n",
       "    </tr>\n",
       "  </thead>\n",
       "  <tbody>\n",
       "    <tr>\n",
       "      <th>1930</th>\n",
       "      <td>1931</td>\n",
       "      <td>2020-05-14</td>\n",
       "      <td>8:00 AM</td>\n",
       "      <td>Telengana</td>\n",
       "      <td>-</td>\n",
       "      <td>-</td>\n",
       "      <td>940</td>\n",
       "      <td>34</td>\n",
       "      <td>1367</td>\n",
       "      <td>393</td>\n",
       "    </tr>\n",
       "    <tr>\n",
       "      <th>1931</th>\n",
       "      <td>1932</td>\n",
       "      <td>2020-05-14</td>\n",
       "      <td>8:00 AM</td>\n",
       "      <td>Tripura</td>\n",
       "      <td>-</td>\n",
       "      <td>-</td>\n",
       "      <td>16</td>\n",
       "      <td>0</td>\n",
       "      <td>155</td>\n",
       "      <td>139</td>\n",
       "    </tr>\n",
       "    <tr>\n",
       "      <th>1932</th>\n",
       "      <td>1933</td>\n",
       "      <td>2020-05-14</td>\n",
       "      <td>8:00 AM</td>\n",
       "      <td>Uttarakhand</td>\n",
       "      <td>-</td>\n",
       "      <td>-</td>\n",
       "      <td>46</td>\n",
       "      <td>1</td>\n",
       "      <td>72</td>\n",
       "      <td>25</td>\n",
       "    </tr>\n",
       "    <tr>\n",
       "      <th>1933</th>\n",
       "      <td>1934</td>\n",
       "      <td>2020-05-14</td>\n",
       "      <td>8:00 AM</td>\n",
       "      <td>Uttar Pradesh</td>\n",
       "      <td>-</td>\n",
       "      <td>-</td>\n",
       "      <td>1902</td>\n",
       "      <td>83</td>\n",
       "      <td>3729</td>\n",
       "      <td>1744</td>\n",
       "    </tr>\n",
       "    <tr>\n",
       "      <th>1934</th>\n",
       "      <td>1935</td>\n",
       "      <td>2020-05-14</td>\n",
       "      <td>8:00 AM</td>\n",
       "      <td>West Bengal</td>\n",
       "      <td>-</td>\n",
       "      <td>-</td>\n",
       "      <td>702</td>\n",
       "      <td>207</td>\n",
       "      <td>2290</td>\n",
       "      <td>1381</td>\n",
       "    </tr>\n",
       "  </tbody>\n",
       "</table>\n",
       "</div>"
      ],
      "text/plain": [
       "       Sno       Date     Time State/UnionTerritory ConfirmedIndianNational  \\\n",
       "1930  1931 2020-05-14  8:00 AM            Telengana                       -   \n",
       "1931  1932 2020-05-14  8:00 AM              Tripura                       -   \n",
       "1932  1933 2020-05-14  8:00 AM          Uttarakhand                       -   \n",
       "1933  1934 2020-05-14  8:00 AM        Uttar Pradesh                       -   \n",
       "1934  1935 2020-05-14  8:00 AM          West Bengal                       -   \n",
       "\n",
       "     ConfirmedForeignNational  Cured  Deaths  Confirmed  Active  \n",
       "1930                        -    940      34       1367     393  \n",
       "1931                        -     16       0        155     139  \n",
       "1932                        -     46       1         72      25  \n",
       "1933                        -   1902      83       3729    1744  \n",
       "1934                        -    702     207       2290    1381  "
      ]
     },
     "execution_count": 6,
     "metadata": {},
     "output_type": "execute_result"
    }
   ],
   "source": [
    "#Active cases of corona in India\n",
    "covid_19_india['Active'] = covid_19_india['Confirmed'] - covid_19_india['Cured'] - covid_19_india['Deaths']\n",
    "covid_19_india.tail()"
   ]
  },
  {
   "cell_type": "code",
   "execution_count": 7,
   "metadata": {
    "id": "IJKHssfvk9h8"
   },
   "outputs": [],
   "source": [
    "state_per_day = covid_19_india.groupby([\"Date\" , \"State/UnionTerritory\"])[\"Confirmed\",\"Deaths\", \"Cured\" , \"Active\"].sum().reset_index().sort_values(\"Date\", ascending = True)\n",
    "kerala_per_day = state_per_day.loc[state_per_day['State/UnionTerritory'] == 'Kerala']\n",
    "delhi_per_day = state_per_day.loc[state_per_day['State/UnionTerritory'] == 'Delhi']\n",
    "maharshtra_per_day = state_per_day.loc[state_per_day['State/UnionTerritory'] == 'Maharashtra'] \n",
    "gujarat_per_day = state_per_day.loc[state_per_day['State/UnionTerritory'] == 'Gujarat']"
   ]
  },
  {
   "cell_type": "code",
   "execution_count": 8,
   "metadata": {
    "id": "bX7oXQ38lQiO"
   },
   "outputs": [
    {
     "name": "stdout",
     "output_type": "stream",
     "text": [
      "            Confirmed\n",
      "Date                 \n",
      "2020-03-27        130\n",
      "2020-03-28        180\n",
      "2020-03-29        186\n",
      "2020-03-30        198\n",
      "2020-03-31        216\n",
      "2020-04-01        302\n",
      "2020-04-02        335\n",
      "2020-04-03        335\n",
      "2020-04-04        490\n",
      "2020-04-05        490\n",
      "2020-04-06        748\n",
      "2020-04-07        868\n",
      "2020-04-08       1018\n",
      "2020-04-09       1135\n",
      "2020-04-10       1364\n",
      "2020-04-11       1574\n",
      "2020-04-12       1761\n",
      "2020-04-13       1985\n",
      "2020-04-14       2337\n",
      "2020-04-15       2687\n",
      "2020-04-16       2919\n",
      "2020-04-17       3205\n",
      "2020-04-18       3323\n",
      "2020-04-19       3651\n",
      "2020-04-20       4203\n",
      "2020-04-21       4669\n",
      "2020-04-22       5221\n",
      "2020-04-23       5652\n",
      "2020-04-24       6430\n",
      "2020-04-25       6817\n",
      "2020-04-26       7628\n",
      "2020-04-27       8068\n",
      "2020-04-28       8590\n",
      "2020-04-29       9318\n",
      "2020-04-30       9915\n",
      "2020-05-01      10498\n",
      "2020-05-02      11506\n",
      "2020-05-03      12296\n",
      "2020-05-04      12974\n",
      "2020-05-05      14541\n",
      "2020-05-06      15525\n",
      "2020-05-07      16758\n",
      "2020-05-08      17974\n",
      "2020-05-09      19063\n",
      "2020-05-10      20228\n",
      "2020-05-11      22171\n",
      "2020-05-12      23401\n",
      "2020-05-13      24427\n",
      "2020-05-14      25922\n"
     ]
    }
   ],
   "source": [
    "df = maharshtra_per_day[['Date', 'Confirmed']]\n",
    "df = df[df.Date >= '2020-03-27']\n",
    "df.reset_index()\n",
    "df = df.set_index(\"Date\")\n",
    "print(df)"
   ]
  },
  {
   "cell_type": "code",
   "execution_count": 9,
   "metadata": {
    "id": "g4wj2iBsld90",
    "outputId": "8f48736a-11b7-4e03-af78-9a25bdee3090"
   },
   "outputs": [
    {
     "data": {
      "text/html": [
       "<div>\n",
       "<style scoped>\n",
       "    .dataframe tbody tr th:only-of-type {\n",
       "        vertical-align: middle;\n",
       "    }\n",
       "\n",
       "    .dataframe tbody tr th {\n",
       "        vertical-align: top;\n",
       "    }\n",
       "\n",
       "    .dataframe thead th {\n",
       "        text-align: right;\n",
       "    }\n",
       "</style>\n",
       "<table border=\"1\" class=\"dataframe\">\n",
       "  <thead>\n",
       "    <tr style=\"text-align: right;\">\n",
       "      <th></th>\n",
       "      <th>Confirmed</th>\n",
       "      <th>Days</th>\n",
       "    </tr>\n",
       "  </thead>\n",
       "  <tbody>\n",
       "    <tr>\n",
       "      <th>79</th>\n",
       "      <td>2</td>\n",
       "      <td>79</td>\n",
       "    </tr>\n",
       "    <tr>\n",
       "      <th>91</th>\n",
       "      <td>5</td>\n",
       "      <td>91</td>\n",
       "    </tr>\n",
       "    <tr>\n",
       "      <th>103</th>\n",
       "      <td>2</td>\n",
       "      <td>103</td>\n",
       "    </tr>\n",
       "    <tr>\n",
       "      <th>116</th>\n",
       "      <td>11</td>\n",
       "      <td>116</td>\n",
       "    </tr>\n",
       "    <tr>\n",
       "      <th>129</th>\n",
       "      <td>14</td>\n",
       "      <td>129</td>\n",
       "    </tr>\n",
       "    <tr>\n",
       "      <th>...</th>\n",
       "      <td>...</td>\n",
       "      <td>...</td>\n",
       "    </tr>\n",
       "    <tr>\n",
       "      <th>1789</th>\n",
       "      <td>20228</td>\n",
       "      <td>1789</td>\n",
       "    </tr>\n",
       "    <tr>\n",
       "      <th>1822</th>\n",
       "      <td>22171</td>\n",
       "      <td>1822</td>\n",
       "    </tr>\n",
       "    <tr>\n",
       "      <th>1855</th>\n",
       "      <td>23401</td>\n",
       "      <td>1855</td>\n",
       "    </tr>\n",
       "    <tr>\n",
       "      <th>1888</th>\n",
       "      <td>24427</td>\n",
       "      <td>1888</td>\n",
       "    </tr>\n",
       "    <tr>\n",
       "      <th>1921</th>\n",
       "      <td>25922</td>\n",
       "      <td>1921</td>\n",
       "    </tr>\n",
       "  </tbody>\n",
       "</table>\n",
       "<p>67 rows × 2 columns</p>\n",
       "</div>"
      ],
      "text/plain": [
       "      Confirmed  Days\n",
       "79            2    79\n",
       "91            5    91\n",
       "103           2   103\n",
       "116          11   116\n",
       "129          14   129\n",
       "...         ...   ...\n",
       "1789      20228  1789\n",
       "1822      22171  1822\n",
       "1855      23401  1855\n",
       "1888      24427  1888\n",
       "1921      25922  1921\n",
       "\n",
       "[67 rows x 2 columns]"
      ]
     },
     "execution_count": 9,
     "metadata": {},
     "output_type": "execute_result"
    }
   ],
   "source": [
    "dfa = maharshtra_per_day[['Date', 'Confirmed']]\n",
    "dfa.days = dfa.index\n",
    "dfa[\"Days\"] = dfa.index[:]\n",
    "dfa.drop(['Date'] , axis =1)"
   ]
  },
  {
   "cell_type": "code",
   "execution_count": 10,
   "metadata": {
    "id": "-qHsG1FFl4EN"
   },
   "outputs": [],
   "source": [
    "X_dfa = pd.DataFrame(dfa[\"Days\"])\n",
    "y_dfa = pd.DataFrame(dfa[\"Confirmed\"])\n",
    "X_traindfa = X_dfa[:-10]\n",
    "y_traindfa = y_dfa[:-10]\n",
    "X_testdfa = X_dfa[-10:]\n",
    "y_testdfa = y_dfa[-10:]"
   ]
  },
  {
   "cell_type": "code",
   "execution_count": 11,
   "metadata": {
    "id": "CDeB_jNQpCK9",
    "outputId": "2f3e3c9e-2f52-40ce-f2cf-9009bee41b79"
   },
   "outputs": [
    {
     "data": {
      "text/plain": [
       "(10, 1)"
      ]
     },
     "execution_count": 11,
     "metadata": {},
     "output_type": "execute_result"
    }
   ],
   "source": [
    "y_testdfa.shape"
   ]
  },
  {
   "cell_type": "code",
   "execution_count": 12,
   "metadata": {
    "id": "yWqn7usel7jW"
   },
   "outputs": [],
   "source": [
    "from sklearn.linear_model import LinearRegression\n",
    "from sklearn.preprocessing import PolynomialFeatures\n",
    "poly_reg = PolynomialFeatures(degree = 4)\n",
    "X_poly = poly_reg.fit_transform(X_traindfa)"
   ]
  },
  {
   "cell_type": "code",
   "execution_count": 13,
   "metadata": {
    "id": "bsR2enLLmBzY",
    "outputId": "2fa33e51-6846-40a9-bba3-94b61ca2c3b1"
   },
   "outputs": [
    {
     "data": {
      "text/plain": [
       "LinearRegression(copy_X=True, fit_intercept=True, n_jobs=None, normalize=False)"
      ]
     },
     "execution_count": 13,
     "metadata": {},
     "output_type": "execute_result"
    }
   ],
   "source": [
    "lr = LinearRegression()\n",
    "lr.fit(X_poly ,y_traindfa)"
   ]
  },
  {
   "cell_type": "code",
   "execution_count": 14,
   "metadata": {
    "id": "sVul1UszmDIM"
   },
   "outputs": [],
   "source": [
    "y_trainpred = lr.predict(poly_reg.fit_transform(X_traindfa))\n",
    "y_testpred = lr.predict(poly_reg.fit_transform(X_testdfa))"
   ]
  },
  {
   "cell_type": "code",
   "execution_count": 15,
   "metadata": {
    "id": "Qkc2ToYymIkJ",
    "outputId": "637f6021-fa0b-4497-ec5a-a4fbfb6a70e2"
   },
   "outputs": [
    {
     "data": {
      "text/html": [
       "<div>\n",
       "<style scoped>\n",
       "    .dataframe tbody tr th:only-of-type {\n",
       "        vertical-align: middle;\n",
       "    }\n",
       "\n",
       "    .dataframe tbody tr th {\n",
       "        vertical-align: top;\n",
       "    }\n",
       "\n",
       "    .dataframe thead th {\n",
       "        text-align: right;\n",
       "    }\n",
       "</style>\n",
       "<table border=\"1\" class=\"dataframe\">\n",
       "  <thead>\n",
       "    <tr style=\"text-align: right;\">\n",
       "      <th></th>\n",
       "      <th>Confirmed</th>\n",
       "      <th>Predicted</th>\n",
       "    </tr>\n",
       "  </thead>\n",
       "  <tbody>\n",
       "    <tr>\n",
       "      <th>1624</th>\n",
       "      <td>14541</td>\n",
       "      <td>13879.2</td>\n",
       "    </tr>\n",
       "    <tr>\n",
       "      <th>1657</th>\n",
       "      <td>15525</td>\n",
       "      <td>14784.4</td>\n",
       "    </tr>\n",
       "    <tr>\n",
       "      <th>1690</th>\n",
       "      <td>16758</td>\n",
       "      <td>15723.3</td>\n",
       "    </tr>\n",
       "    <tr>\n",
       "      <th>1723</th>\n",
       "      <td>17974</td>\n",
       "      <td>16696.3</td>\n",
       "    </tr>\n",
       "    <tr>\n",
       "      <th>1756</th>\n",
       "      <td>19063</td>\n",
       "      <td>17703.4</td>\n",
       "    </tr>\n",
       "    <tr>\n",
       "      <th>1789</th>\n",
       "      <td>20228</td>\n",
       "      <td>18744.6</td>\n",
       "    </tr>\n",
       "    <tr>\n",
       "      <th>1822</th>\n",
       "      <td>22171</td>\n",
       "      <td>19820.2</td>\n",
       "    </tr>\n",
       "    <tr>\n",
       "      <th>1855</th>\n",
       "      <td>23401</td>\n",
       "      <td>20930.0</td>\n",
       "    </tr>\n",
       "    <tr>\n",
       "      <th>1888</th>\n",
       "      <td>24427</td>\n",
       "      <td>22074.1</td>\n",
       "    </tr>\n",
       "    <tr>\n",
       "      <th>1921</th>\n",
       "      <td>25922</td>\n",
       "      <td>23252.4</td>\n",
       "    </tr>\n",
       "  </tbody>\n",
       "</table>\n",
       "</div>"
      ],
      "text/plain": [
       "      Confirmed  Predicted\n",
       "1624      14541    13879.2\n",
       "1657      15525    14784.4\n",
       "1690      16758    15723.3\n",
       "1723      17974    16696.3\n",
       "1756      19063    17703.4\n",
       "1789      20228    18744.6\n",
       "1822      22171    19820.2\n",
       "1855      23401    20930.0\n",
       "1888      24427    22074.1\n",
       "1921      25922    23252.4"
      ]
     },
     "execution_count": 15,
     "metadata": {},
     "output_type": "execute_result"
    }
   ],
   "source": [
    "y_testpoly = y_dfa[-10:]\n",
    "y_testpoly['Confirmed'] = y_testdfa[:]\n",
    "y_testpoly['Predicted'] = y_testpred[:]\n",
    "y_testpoly.round(1)"
   ]
  },
  {
   "cell_type": "code",
   "execution_count": 16,
   "metadata": {
    "id": "uOYsM4eunRyC",
    "outputId": "dad7c7e4-86b7-4f3e-d903-cf2a1ec28349"
   },
   "outputs": [
    {
     "name": "stdout",
     "output_type": "stream",
     "text": [
      "3203391.260625293\n",
      "1789.8020171586836\n"
     ]
    }
   ],
   "source": [
    "from sklearn.metrics import mean_squared_error\n",
    "print(mean_squared_error(y_testpoly['Confirmed'], y_testpoly['Predicted']))\n",
    "import math\n",
    "print(math.sqrt(mean_squared_error(y_testpoly['Confirmed'], y_testpoly['Predicted'])))"
   ]
  },
  {
   "cell_type": "code",
   "execution_count": 17,
   "metadata": {
    "id": "Y04se61mnVt3",
    "outputId": "f3271ad9-3740-4b9a-9508-5acf8791b852"
   },
   "outputs": [
    {
     "data": {
      "image/png": "[encoded data removed]",
      "text/plain": [
       "<Figure size 432x288 with 1 Axes>"
      ]
     },
     "metadata": {},
     "output_type": "display_data"
    }
   ],
   "source": [
    "plt.scatter(X_traindfa, y_traindfa, color = 'red')\n",
    "plt.plot(X_traindfa, y_trainpred, color = 'blue')\n",
    "plt.title(' cases of covid19(Polynomial Regression)')\n",
    "plt.xlabel('days')\n",
    "plt.ylabel('cases')\n",
    "plt.show()"
   ]
  },
  {
   "cell_type": "code",
   "execution_count": 18,
   "metadata": {
    "id": "LJKSJ5zHnr7Y",
    "outputId": "2531779c-7b4b-4966-9db9-adb4840d8c20"
   },
   "outputs": [
    {
     "data": {
      "text/plain": [
       "(10, 1)"
      ]
     },
     "execution_count": 18,
     "metadata": {},
     "output_type": "execute_result"
    }
   ],
   "source": [
    "y_testdfa.shape"
   ]
  },
  {
   "cell_type": "code",
   "execution_count": 19,
   "metadata": {
    "id": "YjWY5TBInYIm",
    "outputId": "1cdd2ad9-ab7c-42e1-faa2-66447b481857"
   },
   "outputs": [
    {
     "data": {
      "image/png": "[encoded data removed]",
      "text/plain": [
       "<Figure size 432x288 with 1 Axes>"
      ]
     },
     "metadata": {},
     "output_type": "display_data"
    }
   ],
   "source": [
    "plt.scatter(X_testdfa, y_testdfa, color = 'red')\n",
    "plt.plot(X_testdfa, y_testpred, color = 'blue')\n",
    "plt.title(' cases of covid19(Polynomial Regression)')\n",
    "plt.xlabel('days')\n",
    "plt.ylabel('cases')\n",
    "plt.show()"
   ]
  },
  {
   "cell_type": "markdown",
   "execution_count": null,
   "metadata": {
    "id": "lDSBfpvipkpp"
   },
   "source": [
    "LSTM "
   ]
  },
  {
   "cell_type": "code",
   "execution_count": 20,
   "metadata": {
    "id": "eV-prgkZpn3g"
   },
   "outputs": [],
   "source": [
    "from sklearn.preprocessing import MinMaxScaler\n",
    "scaler = MinMaxScaler(feature_range=(0,1))"
   ]
  },
  {
   "cell_type": "code",
   "execution_count": 21,
   "metadata": {
    "id": "x2VBS_M7pt34"
   },
   "outputs": [],
   "source": [
    "n_size = 5"
   ]
  },
  {
   "cell_type": "code",
   "execution_count": 22,
   "metadata": {
    "id": "qGOq6XgFpn1-",
    "outputId": "731819fd-36f5-49c8-d2c6-ef0d2ec2197c"
   },
   "outputs": [
    {
     "data": {
      "text/plain": [
       "(39, 1)"
      ]
     },
     "execution_count": 22,
     "metadata": {},
     "output_type": "execute_result"
    }
   ],
   "source": [
    "train_data = df[:len(df)-2*n_size]\n",
    "validation_data = df[len(df)-2*n_size : len(df)-n_size]\n",
    "test_data = df[len(df)-n_size:]\n",
    "train_data.shape"
   ]
  },
  {
   "cell_type": "code",
   "execution_count": 23,
   "metadata": {
    "id": "D61ztwVdp0ec"
   },
   "outputs": [],
   "source": [
    "scaler.fit(train_data)\n",
    "scaled_train_data = scaler.transform(train_data)\n",
    "scaled_validation_data = scaler.transform(validation_data)\n",
    "scaled_test_data = scaler.transform(test_data)"
   ]
  },
  {
   "cell_type": "code",
   "execution_count": 24,
   "metadata": {
    "id": "xCTcIrDUp4wQ",
    "outputId": "1632ce57-8843-4341-fbb7-5bbbcecf1313"
   },
   "outputs": [
    {
     "data": {
      "text/plain": [
       "(49, 1)"
      ]
     },
     "execution_count": 24,
     "metadata": {},
     "output_type": "execute_result"
    }
   ],
   "source": [
    "scaled_data = np.concatenate((scaled_train_data , scaled_validation_data, scaled_test_data) , 0)\n",
    "scaled_data.shape"
   ]
  },
  {
   "cell_type": "code",
   "execution_count": 25,
   "metadata": {
    "id": "_MIqe_Bnp8UC",
    "outputId": "47a6cdc2-df42-4f4e-e7fd-99fe04413a31"
   },
   "outputs": [
    {
     "name": "stderr",
     "output_type": "stream",
     "text": [
      "Using TensorFlow backend.\n"
     ]
    }
   ],
   "source": [
    "from keras.preprocessing.sequence import TimeseriesGenerator\n",
    "from keras.models import Sequential\n",
    "from keras.layers import Dense\n",
    "from keras.layers import LSTM\n",
    "from keras.layers import Dropout"
   ]
  },
  {
   "cell_type": "code",
   "execution_count": 26,
   "metadata": {
    "id": "QmDyvQlSqBxX",
    "outputId": "306bd9bd-5b9a-4084-bb5e-bd996f53b512"
   },
   "outputs": [
    {
     "data": {
      "text/plain": [
       "(49, 1)"
      ]
     },
     "execution_count": 26,
     "metadata": {},
     "output_type": "execute_result"
    }
   ],
   "source": [
    "n_input = 20\n",
    "scaled_temptest_data = scaled_data[-n_size-n_input:]\n",
    "scaled_data.shape"
   ]
  },
  {
   "cell_type": "code",
   "execution_count": 27,
   "metadata": {
    "id": "XIN447sIqFLC",
    "outputId": "c75ad841-68c1-499f-f508-26d4031b6681"
   },
   "outputs": [
    {
     "data": {
      "text/plain": [
       "(25, 1)"
      ]
     },
     "execution_count": 27,
     "metadata": {},
     "output_type": "execute_result"
    }
   ],
   "source": [
    "scaled_data[-n_input-20:-n_input].shape\n",
    "scaled_temptest_data.shape"
   ]
  },
  {
   "cell_type": "code",
   "execution_count": 28,
   "metadata": {
    "id": "_uas2gXFqJFk"
   },
   "outputs": [],
   "source": [
    "from keras.backend import sigmoid\n",
    "def swish(x, beta = 1):\n",
    "    return (x * sigmoid(beta * x))"
   ]
  },
  {
   "cell_type": "code",
   "execution_count": 29,
   "metadata": {
    "id": "sqSTg_LXqL7b"
   },
   "outputs": [],
   "source": [
    "from keras.utils.generic_utils import get_custom_objects\n",
    "from keras.layers import Activation\n",
    "get_custom_objects().update({'swish': Activation(swish)})"
   ]
  },
  {
   "cell_type": "code",
   "execution_count": 30,
   "metadata": {
    "id": "0cI__QipqP4z"
   },
   "outputs": [],
   "source": [
    "from keras.wrappers.scikit_learn import KerasClassifier\n",
    "from sklearn.model_selection import GridSearchCV\n",
    "from keras.models import Sequential\n",
    "from keras.layers import Dense\n",
    "from keras import optimizers"
   ]
  },
  {
   "cell_type": "code",
   "execution_count": 31,
   "metadata": {
    "id": "aVK945HPqTSb"
   },
   "outputs": [],
   "source": [
    "n_input = 30"
   ]
  },
  {
   "cell_type": "code",
   "execution_count": 32,
   "metadata": {
    "id": "aU1QSEn6qXzS"
   },
   "outputs": [],
   "source": [
    "X_train = []\n",
    "y_train = []\n",
    "for i in range(n_input, len(scaled_train_data)):\n",
    "    X_train.append(scaled_train_data[i-n_input:i, 0])\n",
    "    y_train.append(scaled_train_data[i, 0])\n",
    "X_train, y_train = np.array(X_train), np.array(y_train)\n",
    "\n",
    "# Reshaping\n",
    "X_train = np.reshape(X_train, (X_train.shape[0], X_train.shape[1], 1))"
   ]
  },
  {
   "cell_type": "code",
   "execution_count": 33,
   "metadata": {
    "id": "mSDrO2wTqY8m"
   },
   "outputs": [],
   "source": [
    "X_test = []\n",
    "y_test = []\n",
    "for i in range(len(scaled_data)-n_size , len(scaled_data)):\n",
    "    X_test.append(scaled_data[i-n_input:i, 0])\n",
    "    y_test.append(scaled_data[i, 0])\n",
    "X_test, y_test = np.array(X_test), np.array(y_test)\n",
    "\n",
    "X_test = np.reshape(X_test, (X_test.shape[0], X_test.shape[1], 1))"
   ]
  },
  {
   "cell_type": "code",
   "execution_count": 34,
   "metadata": {
    "id": "ohf3-7rIqcfh"
   },
   "outputs": [],
   "source": [
    "X_valid = []\n",
    "y_valid = []\n",
    "for i in range(len(scaled_data)-2*n_size , len(scaled_data)-n_size):\n",
    "    X_valid.append(scaled_data[i-n_input:i, 0])\n",
    "    y_valid.append(scaled_data[i, 0])\n",
    "X_valid, y_valid = np.array(X_valid), np.array(y_valid)\n",
    "\n",
    "X_valid = np.reshape(X_valid, (X_valid.shape[0], X_valid.shape[1], 1))"
   ]
  },
  {
   "cell_type": "code",
   "execution_count": 35,
   "metadata": {
    "id": "zWgLMtAbqf9e",
    "outputId": "64d9383f-81ad-488f-eebb-e32919fb24f8"
   },
   "outputs": [
    {
     "name": "stdout",
     "output_type": "stream",
     "text": [
      "Model: \"sequential_1\"\n",
      "_________________________________________________________________\n",
      "Layer (type)                 Output Shape              Param #   \n",
      "=================================================================\n",
      "lstm_1 (LSTM)                (None, 200)               161600    \n",
      "_________________________________________________________________\n",
      "dropout_1 (Dropout)          (None, 200)               0         \n",
      "_________________________________________________________________\n",
      "dense_1 (Dense)              (None, 1)                 201       \n",
      "=================================================================\n",
      "Total params: 161,801\n",
      "Trainable params: 161,801\n",
      "Non-trainable params: 0\n",
      "_________________________________________________________________\n"
     ]
    }
   ],
   "source": [
    "lstm_model = Sequential()\n",
    "#lstm_model.add(LSTM(200, activation='tanh', input_shape=(n_input, n_features)))\n",
    "lstm_model.add(LSTM(200,activation='swish' ,input_shape=(X_train.shape[1], 1)))\n",
    "lstm_model.add(Dropout(0.5))\n",
    "#lstm_model.add(LSTM(200, activation='relu', input_shape=(None)))\n",
    "lstm_model.add(Dense(1))\n",
    "sgd = optimizers.SGD(lr=0.01, decay=1e-6, momentum=0.9, nesterov=True)\n",
    "lstm_model.compile(optimizer='Adadelta', loss='mse', metrics=['accuracy'])#, learning_rate=0.01)\n",
    "\n",
    "lstm_model.summary()"
   ]
  },
  {
   "cell_type": "code",
   "execution_count": 36,
   "metadata": {
    "id": "QxkRxwpzq4mL",
    "outputId": "6a7480aa-6e7e-4b4b-e126-29eddb9f5ae8"
   },
   "outputs": [
    {
     "name": "stdout",
     "output_type": "stream",
     "text": [
      "Train on 9 samples, validate on 5 samples\n",
      "Epoch 1/30\n",
      "9/9 [==============================] - 1s 117ms/step - loss: 0.5498 - accuracy: 0.0000e+00 - val_loss: 1.3704 - val_accuracy: 0.0000e+00\n",
      "Epoch 2/30\n",
      "9/9 [==============================] - 0s 21ms/step - loss: 0.4280 - accuracy: 0.0000e+00 - val_loss: 1.0627 - val_accuracy: 0.0000e+00\n",
      "Epoch 3/30\n",
      "9/9 [==============================] - 0s 20ms/step - loss: 0.2632 - accuracy: 0.0000e+00 - val_loss: 0.6343 - val_accuracy: 0.0000e+00\n",
      "Epoch 4/30\n",
      "9/9 [==============================] - 0s 21ms/step - loss: 0.0845 - accuracy: 0.1111 - val_loss: 0.1211 - val_accuracy: 0.0000e+00\n",
      "Epoch 5/30\n",
      "9/9 [==============================] - 0s 24ms/step - loss: 0.0094 - accuracy: 0.1111 - val_loss: 0.0786 - val_accuracy: 0.0000e+00\n",
      "Epoch 6/30\n",
      "9/9 [==============================] - 0s 21ms/step - loss: 0.0128 - accuracy: 0.1111 - val_loss: 0.1093 - val_accuracy: 0.0000e+00\n",
      "Epoch 7/30\n",
      "9/9 [==============================] - 0s 21ms/step - loss: 0.0092 - accuracy: 0.1111 - val_loss: 0.0261 - val_accuracy: 0.0000e+00\n",
      "Epoch 8/30\n",
      "9/9 [==============================] - 0s 21ms/step - loss: 0.0114 - accuracy: 0.1111 - val_loss: 0.0804 - val_accuracy: 0.0000e+00\n",
      "Epoch 9/30\n",
      "9/9 [==============================] - 0s 20ms/step - loss: 0.0098 - accuracy: 0.1111 - val_loss: 0.0551 - val_accuracy: 0.0000e+00\n",
      "Epoch 10/30\n",
      "9/9 [==============================] - 0s 20ms/step - loss: 0.0067 - accuracy: 0.1111 - val_loss: 0.0443 - val_accuracy: 0.0000e+00\n",
      "Epoch 11/30\n",
      "9/9 [==============================] - 0s 20ms/step - loss: 0.0105 - accuracy: 0.1111 - val_loss: 0.1391 - val_accuracy: 0.0000e+00\n",
      "Epoch 12/30\n",
      "9/9 [==============================] - 0s 20ms/step - loss: 0.0119 - accuracy: 0.1111 - val_loss: 0.0972 - val_accuracy: 0.0000e+00\n",
      "Epoch 13/30\n",
      "9/9 [==============================] - 0s 20ms/step - loss: 0.0052 - accuracy: 0.1111 - val_loss: 0.0304 - val_accuracy: 0.0000e+00\n",
      "Epoch 14/30\n",
      "9/9 [==============================] - 0s 20ms/step - loss: 0.0118 - accuracy: 0.1111 - val_loss: 0.0319 - val_accuracy: 0.0000e+00\n",
      "Epoch 15/30\n",
      "9/9 [==============================] - 0s 20ms/step - loss: 0.0127 - accuracy: 0.1111 - val_loss: 0.0392 - val_accuracy: 0.0000e+00\n",
      "Epoch 16/30\n",
      "9/9 [==============================] - 0s 21ms/step - loss: 0.0089 - accuracy: 0.1111 - val_loss: 0.0623 - val_accuracy: 0.0000e+00\n",
      "Epoch 17/30\n",
      "9/9 [==============================] - 0s 21ms/step - loss: 0.0116 - accuracy: 0.1111 - val_loss: 0.0367 - val_accuracy: 0.0000e+00\n",
      "Epoch 18/30\n",
      "9/9 [==============================] - 0s 20ms/step - loss: 0.0017 - accuracy: 0.1111 - val_loss: 0.0826 - val_accuracy: 0.0000e+00\n",
      "Epoch 19/30\n",
      "9/9 [==============================] - 0s 20ms/step - loss: 0.0121 - accuracy: 0.1111 - val_loss: 0.0342 - val_accuracy: 0.0000e+00\n",
      "Epoch 20/30\n",
      "9/9 [==============================] - 0s 20ms/step - loss: 0.0037 - accuracy: 0.1111 - val_loss: 0.0773 - val_accuracy: 0.0000e+00\n",
      "Epoch 21/30\n",
      "9/9 [==============================] - 0s 20ms/step - loss: 0.0062 - accuracy: 0.1111 - val_loss: 0.0195 - val_accuracy: 0.0000e+00\n",
      "Epoch 22/30\n",
      "9/9 [==============================] - 0s 20ms/step - loss: 0.0023 - accuracy: 0.1111 - val_loss: 0.0235 - val_accuracy: 0.0000e+00\n",
      "Epoch 23/30\n",
      "9/9 [==============================] - 0s 20ms/step - loss: 0.0111 - accuracy: 0.1111 - val_loss: 0.0374 - val_accuracy: 0.0000e+00\n",
      "Epoch 24/30\n",
      "9/9 [==============================] - 0s 20ms/step - loss: 0.0025 - accuracy: 0.1111 - val_loss: 0.0216 - val_accuracy: 0.0000e+00\n",
      "Epoch 25/30\n",
      "9/9 [==============================] - 0s 20ms/step - loss: 0.0101 - accuracy: 0.1111 - val_loss: 0.0874 - val_accuracy: 0.0000e+00\n",
      "Epoch 26/30\n",
      "9/9 [==============================] - 0s 20ms/step - loss: 0.0069 - accuracy: 0.1111 - val_loss: 0.0502 - val_accuracy: 0.0000e+00\n",
      "Epoch 27/30\n",
      "9/9 [==============================] - 0s 20ms/step - loss: 0.0081 - accuracy: 0.1111 - val_loss: 0.0670 - val_accuracy: 0.0000e+00\n",
      "Epoch 28/30\n",
      "9/9 [==============================] - 0s 20ms/step - loss: 0.0085 - accuracy: 0.1111 - val_loss: 0.0467 - val_accuracy: 0.0000e+00\n",
      "Epoch 29/30\n",
      "9/9 [==============================] - 0s 20ms/step - loss: 0.0040 - accuracy: 0.1111 - val_loss: 0.0295 - val_accuracy: 0.0000e+00\n",
      "Epoch 30/30\n",
      "9/9 [==============================] - 0s 20ms/step - loss: 0.0072 - accuracy: 0.1111 - val_loss: 0.0137 - val_accuracy: 0.0000e+00\n"
     ]
    },
    {
     "data": {
      "text/plain": [
       "<keras.callbacks.callbacks.History at 0x7f146267c990>"
      ]
     },
     "execution_count": 36,
     "metadata": {},
     "output_type": "execute_result"
    }
   ],
   "source": [
    "lstm_model.fit(X_train, y_train, epochs = 30, validation_data = (X_valid , y_valid) , batch_size = 1 )"
   ]
  },
  {
   "cell_type": "code",
   "execution_count": 37,
   "metadata": {
    "id": "ssalpnoAq-Cp",
    "outputId": "359a5801-546f-44e7-a8de-6db2cb376580"
   },
   "outputs": [
    {
     "data": {
      "image/png": "[encoded data removed]",
      "text/plain": [
       "<Figure size 864x288 with 1 Axes>"
      ]
     },
     "metadata": {},
     "output_type": "display_data"
    }
   ],
   "source": [
    "losses_lstm = lstm_model.history.history['loss']\n",
    "plt.figure(figsize=(12,4))\n",
    "plt.xticks(np.arange(0,21,1))\n",
    "plt.plot(range(len(losses_lstm)),losses_lstm);"
   ]
  },
  {
   "cell_type": "code",
   "execution_count": 38,
   "metadata": {
    "id": "aNkQxjA6r-Qz",
    "outputId": "ce27c765-9a0f-4a14-9996-55c573c0acf3"
   },
   "outputs": [
    {
     "data": {
      "image/png": "[encoded data removed]",
      "text/plain": [
       "<Figure size 432x288 with 1 Axes>"
      ]
     },
     "metadata": {},
     "output_type": "display_data"
    }
   ],
   "source": [
    "plt.plot(lstm_model.history.history['loss'])\n",
    "plt.plot(lstm_model.history.history['val_loss'])\n",
    "plt.title('model train vs validation loss')\n",
    "plt.ylabel('loss')\n",
    "plt.xlabel('epoch')\n",
    "plt.legend(['train', 'validation'], loc='upper right')\n",
    "plt.show()"
   ]
  },
  {
   "cell_type": "code",
   "execution_count": 39,
   "metadata": {
    "id": "kaSAnn3fsDrd"
   },
   "outputs": [],
   "source": [
    "predValid_case = lstm_model.predict(X_valid)\n",
    "predTest_case = lstm_model.predict(X_test)\n",
    "predTrain_case = lstm_model.predict(X_train)"
   ]
  },
  {
   "cell_type": "code",
   "execution_count": 40,
   "metadata": {
    "id": "O_ikBo5xsHq5"
   },
   "outputs": [],
   "source": [
    "predValid_casex = scaler.inverse_transform(predValid_case)\n",
    "predTest_casex = scaler.inverse_transform(predTest_case)\n",
    "predTrain_casex = scaler.inverse_transform(predTrain_case)"
   ]
  },
  {
   "cell_type": "code",
   "execution_count": 41,
   "metadata": {
    "id": "QMyiyQgYsHvH",
    "outputId": "1163fdc5-570c-4d0e-9698-0c7fce64575e"
   },
   "outputs": [
    {
     "data": {
      "text/html": [
       "<div>\n",
       "<style scoped>\n",
       "    .dataframe tbody tr th:only-of-type {\n",
       "        vertical-align: middle;\n",
       "    }\n",
       "\n",
       "    .dataframe tbody tr th {\n",
       "        vertical-align: top;\n",
       "    }\n",
       "\n",
       "    .dataframe thead th {\n",
       "        text-align: right;\n",
       "    }\n",
       "</style>\n",
       "<table border=\"1\" class=\"dataframe\">\n",
       "  <thead>\n",
       "    <tr style=\"text-align: right;\">\n",
       "      <th></th>\n",
       "      <th>Confirmed</th>\n",
       "      <th>Predicted</th>\n",
       "    </tr>\n",
       "    <tr>\n",
       "      <th>Date</th>\n",
       "      <th></th>\n",
       "      <th></th>\n",
       "    </tr>\n",
       "  </thead>\n",
       "  <tbody>\n",
       "    <tr>\n",
       "      <th>2020-05-10</th>\n",
       "      <td>20228</td>\n",
       "      <td>18620.500000</td>\n",
       "    </tr>\n",
       "    <tr>\n",
       "      <th>2020-05-11</th>\n",
       "      <td>22171</td>\n",
       "      <td>20019.800781</td>\n",
       "    </tr>\n",
       "    <tr>\n",
       "      <th>2020-05-12</th>\n",
       "      <td>23401</td>\n",
       "      <td>21676.400391</td>\n",
       "    </tr>\n",
       "    <tr>\n",
       "      <th>2020-05-13</th>\n",
       "      <td>24427</td>\n",
       "      <td>23521.699219</td>\n",
       "    </tr>\n",
       "    <tr>\n",
       "      <th>2020-05-14</th>\n",
       "      <td>25922</td>\n",
       "      <td>25561.199219</td>\n",
       "    </tr>\n",
       "  </tbody>\n",
       "</table>\n",
       "</div>"
      ],
      "text/plain": [
       "            Confirmed     Predicted\n",
       "Date                               \n",
       "2020-05-10      20228  18620.500000\n",
       "2020-05-11      22171  20019.800781\n",
       "2020-05-12      23401  21676.400391\n",
       "2020-05-13      24427  23521.699219\n",
       "2020-05-14      25922  25561.199219"
      ]
     },
     "execution_count": 41,
     "metadata": {},
     "output_type": "execute_result"
    }
   ],
   "source": [
    "test_datatmp= test_data\n",
    "test_datatmp[\"Predicted\"] = predTest_casex[:]\n",
    "test_datatmp.round(1)"
   ]
  },
  {
   "cell_type": "code",
   "execution_count": 42,
   "metadata": {
    "id": "hhWmEZqusPd-",
    "outputId": "31c8d18b-307f-434f-d174-b2a12d6f13c9"
   },
   "outputs": [
    {
     "data": {
      "text/html": [
       "<div>\n",
       "<style scoped>\n",
       "    .dataframe tbody tr th:only-of-type {\n",
       "        vertical-align: middle;\n",
       "    }\n",
       "\n",
       "    .dataframe tbody tr th {\n",
       "        vertical-align: top;\n",
       "    }\n",
       "\n",
       "    .dataframe thead th {\n",
       "        text-align: right;\n",
       "    }\n",
       "</style>\n",
       "<table border=\"1\" class=\"dataframe\">\n",
       "  <thead>\n",
       "    <tr style=\"text-align: right;\">\n",
       "      <th></th>\n",
       "      <th>Confirmed</th>\n",
       "      <th>Predicted</th>\n",
       "    </tr>\n",
       "    <tr>\n",
       "      <th>Date</th>\n",
       "      <th></th>\n",
       "      <th></th>\n",
       "    </tr>\n",
       "  </thead>\n",
       "  <tbody>\n",
       "    <tr>\n",
       "      <th>2020-05-05</th>\n",
       "      <td>14541</td>\n",
       "      <td>13439.000000</td>\n",
       "    </tr>\n",
       "    <tr>\n",
       "      <th>2020-05-06</th>\n",
       "      <td>15525</td>\n",
       "      <td>14273.700195</td>\n",
       "    </tr>\n",
       "    <tr>\n",
       "      <th>2020-05-07</th>\n",
       "      <td>16758</td>\n",
       "      <td>15185.299805</td>\n",
       "    </tr>\n",
       "    <tr>\n",
       "      <th>2020-05-08</th>\n",
       "      <td>17974</td>\n",
       "      <td>16211.799805</td>\n",
       "    </tr>\n",
       "    <tr>\n",
       "      <th>2020-05-09</th>\n",
       "      <td>19063</td>\n",
       "      <td>17358.400391</td>\n",
       "    </tr>\n",
       "  </tbody>\n",
       "</table>\n",
       "</div>"
      ],
      "text/plain": [
       "            Confirmed     Predicted\n",
       "Date                               \n",
       "2020-05-05      14541  13439.000000\n",
       "2020-05-06      15525  14273.700195\n",
       "2020-05-07      16758  15185.299805\n",
       "2020-05-08      17974  16211.799805\n",
       "2020-05-09      19063  17358.400391"
      ]
     },
     "execution_count": 42,
     "metadata": {},
     "output_type": "execute_result"
    }
   ],
   "source": [
    "valid_datatmp= validation_data\n",
    "valid_datatmp[\"Predicted\"] = predValid_casex[:]\n",
    "valid_datatmp.round(1)"
   ]
  },
  {
   "cell_type": "code",
   "execution_count": 43,
   "metadata": {
    "id": "Dq30Hr8ZtMJV",
    "outputId": "6836456d-73c4-4ee9-bb4a-110cc5ed616b"
   },
   "outputs": [
    {
     "data": {
      "text/html": [
       "<div>\n",
       "<style scoped>\n",
       "    .dataframe tbody tr th:only-of-type {\n",
       "        vertical-align: middle;\n",
       "    }\n",
       "\n",
       "    .dataframe tbody tr th {\n",
       "        vertical-align: top;\n",
       "    }\n",
       "\n",
       "    .dataframe thead th {\n",
       "        text-align: right;\n",
       "    }\n",
       "</style>\n",
       "<table border=\"1\" class=\"dataframe\">\n",
       "  <thead>\n",
       "    <tr style=\"text-align: right;\">\n",
       "      <th></th>\n",
       "      <th>Confirmed</th>\n",
       "      <th>Predicted</th>\n",
       "    </tr>\n",
       "    <tr>\n",
       "      <th>Date</th>\n",
       "      <th></th>\n",
       "      <th></th>\n",
       "    </tr>\n",
       "  </thead>\n",
       "  <tbody>\n",
       "    <tr>\n",
       "      <th>2020-05-05</th>\n",
       "      <td>14541</td>\n",
       "      <td>13439.000000</td>\n",
       "    </tr>\n",
       "    <tr>\n",
       "      <th>2020-05-06</th>\n",
       "      <td>15525</td>\n",
       "      <td>14273.700195</td>\n",
       "    </tr>\n",
       "    <tr>\n",
       "      <th>2020-05-07</th>\n",
       "      <td>16758</td>\n",
       "      <td>15185.299805</td>\n",
       "    </tr>\n",
       "    <tr>\n",
       "      <th>2020-05-08</th>\n",
       "      <td>17974</td>\n",
       "      <td>16211.799805</td>\n",
       "    </tr>\n",
       "    <tr>\n",
       "      <th>2020-05-09</th>\n",
       "      <td>19063</td>\n",
       "      <td>17358.400391</td>\n",
       "    </tr>\n",
       "    <tr>\n",
       "      <th>2020-05-10</th>\n",
       "      <td>20228</td>\n",
       "      <td>18620.500000</td>\n",
       "    </tr>\n",
       "    <tr>\n",
       "      <th>2020-05-11</th>\n",
       "      <td>22171</td>\n",
       "      <td>20019.800781</td>\n",
       "    </tr>\n",
       "    <tr>\n",
       "      <th>2020-05-12</th>\n",
       "      <td>23401</td>\n",
       "      <td>21676.400391</td>\n",
       "    </tr>\n",
       "    <tr>\n",
       "      <th>2020-05-13</th>\n",
       "      <td>24427</td>\n",
       "      <td>23521.699219</td>\n",
       "    </tr>\n",
       "    <tr>\n",
       "      <th>2020-05-14</th>\n",
       "      <td>25922</td>\n",
       "      <td>25561.199219</td>\n",
       "    </tr>\n",
       "  </tbody>\n",
       "</table>\n",
       "</div>"
      ],
      "text/plain": [
       "            Confirmed     Predicted\n",
       "Date                               \n",
       "2020-05-05      14541  13439.000000\n",
       "2020-05-06      15525  14273.700195\n",
       "2020-05-07      16758  15185.299805\n",
       "2020-05-08      17974  16211.799805\n",
       "2020-05-09      19063  17358.400391\n",
       "2020-05-10      20228  18620.500000\n",
       "2020-05-11      22171  20019.800781\n",
       "2020-05-12      23401  21676.400391\n",
       "2020-05-13      24427  23521.699219\n",
       "2020-05-14      25922  25561.199219"
      ]
     },
     "execution_count": 43,
     "metadata": {},
     "output_type": "execute_result"
    }
   ],
   "source": [
    "totest_data = pd.concat(( valid_datatmp , test_datatmp) , 0)\n",
    "totest_data.round(1)"
   ]
  },
  {
   "cell_type": "code",
   "execution_count": 44,
   "metadata": {
    "id": "krUDy9ZctSdW",
    "outputId": "e05c65d8-002f-47ff-ac6a-742a985cea87"
   },
   "outputs": [
    {
     "name": "stdout",
     "output_type": "stream",
     "text": [
      "2240015.4665468214\n",
      "1496.6681217112969\n"
     ]
    }
   ],
   "source": [
    "from sklearn.metrics import mean_squared_error\n",
    "print(mean_squared_error(totest_data['Confirmed'], totest_data['Predicted']))\n",
    "import math\n",
    "print(math.sqrt(mean_squared_error(totest_data['Confirmed'], totest_data['Predicted'])))"
   ]
  },
  {
   "cell_type": "code",
   "execution_count": 45,
   "metadata": {
    "id": "9756zb4xte6C",
    "outputId": "70d6a366-74d4-47b5-9fc1-8403b0a036ba"
   },
   "outputs": [
    {
     "data": {
      "text/html": [
       "<div>\n",
       "<style scoped>\n",
       "    .dataframe tbody tr th:only-of-type {\n",
       "        vertical-align: middle;\n",
       "    }\n",
       "\n",
       "    .dataframe tbody tr th {\n",
       "        vertical-align: top;\n",
       "    }\n",
       "\n",
       "    .dataframe thead th {\n",
       "        text-align: right;\n",
       "    }\n",
       "</style>\n",
       "<table border=\"1\" class=\"dataframe\">\n",
       "  <thead>\n",
       "    <tr style=\"text-align: right;\">\n",
       "      <th></th>\n",
       "      <th>Confirmed</th>\n",
       "      <th>Predicted</th>\n",
       "    </tr>\n",
       "    <tr>\n",
       "      <th>Date</th>\n",
       "      <th></th>\n",
       "      <th></th>\n",
       "    </tr>\n",
       "  </thead>\n",
       "  <tbody>\n",
       "    <tr>\n",
       "      <th>2020-04-26</th>\n",
       "      <td>7628</td>\n",
       "      <td>8706.599609</td>\n",
       "    </tr>\n",
       "    <tr>\n",
       "      <th>2020-04-27</th>\n",
       "      <td>8068</td>\n",
       "      <td>9105.500000</td>\n",
       "    </tr>\n",
       "    <tr>\n",
       "      <th>2020-04-28</th>\n",
       "      <td>8590</td>\n",
       "      <td>9519.400391</td>\n",
       "    </tr>\n",
       "    <tr>\n",
       "      <th>2020-04-29</th>\n",
       "      <td>9318</td>\n",
       "      <td>9956.700195</td>\n",
       "    </tr>\n",
       "    <tr>\n",
       "      <th>2020-04-30</th>\n",
       "      <td>9915</td>\n",
       "      <td>10435.900391</td>\n",
       "    </tr>\n",
       "    <tr>\n",
       "      <th>2020-05-01</th>\n",
       "      <td>10498</td>\n",
       "      <td>10943.700195</td>\n",
       "    </tr>\n",
       "    <tr>\n",
       "      <th>2020-05-02</th>\n",
       "      <td>11506</td>\n",
       "      <td>11479.500000</td>\n",
       "    </tr>\n",
       "    <tr>\n",
       "      <th>2020-05-03</th>\n",
       "      <td>12296</td>\n",
       "      <td>12086.400391</td>\n",
       "    </tr>\n",
       "    <tr>\n",
       "      <th>2020-05-04</th>\n",
       "      <td>12974</td>\n",
       "      <td>12742.599609</td>\n",
       "    </tr>\n",
       "  </tbody>\n",
       "</table>\n",
       "</div>"
      ],
      "text/plain": [
       "            Confirmed     Predicted\n",
       "Date                               \n",
       "2020-04-26       7628   8706.599609\n",
       "2020-04-27       8068   9105.500000\n",
       "2020-04-28       8590   9519.400391\n",
       "2020-04-29       9318   9956.700195\n",
       "2020-04-30       9915  10435.900391\n",
       "2020-05-01      10498  10943.700195\n",
       "2020-05-02      11506  11479.500000\n",
       "2020-05-03      12296  12086.400391\n",
       "2020-05-04      12974  12742.599609"
      ]
     },
     "execution_count": 45,
     "metadata": {},
     "output_type": "execute_result"
    }
   ],
   "source": [
    "train_datatmp= train_data[n_input:]\n",
    "train_datatmp[\"Predicted\"] = predTrain_casex[:]\n",
    "train_datatmp.round(1)"
   ]
  },
  {
   "cell_type": "code",
   "execution_count": 46,
   "metadata": {
    "id": "M666xodstg8p",
    "outputId": "12352819-1ef0-4f27-f23d-18fef0a97611"
   },
   "outputs": [
    {
     "data": {
      "text/plain": [
       "<matplotlib.axes._subplots.AxesSubplot at 0x7f1458320210>"
      ]
     },
     "execution_count": 46,
     "metadata": {},
     "output_type": "execute_result"
    },
    {
     "data": {
      "image/png": "[encoded data removed]",
      "text/plain": [
       "<Figure size 1152x360 with 1 Axes>"
      ]
     },
     "metadata": {},
     "output_type": "display_data"
    }
   ],
   "source": [
    "train_datatmp['Confirmed'].plot(figsize = (16,5), legend=True)\n",
    "train_datatmp['Predicted'].plot(legend = True)"
   ]
  },
  {
   "cell_type": "code",
   "execution_count": 47,
   "metadata": {
    "id": "6swbeykptpiy",
    "outputId": "31fa22cc-ccbe-4d70-ea09-a93d91897d79"
   },
   "outputs": [
    {
     "data": {
      "text/plain": [
       "<matplotlib.axes._subplots.AxesSubplot at 0x7f14582be210>"
      ]
     },
     "execution_count": 47,
     "metadata": {},
     "output_type": "execute_result"
    },
    {
     "data": {
      "image/png": "[encoded data removed]",
      "text/plain": [
       "<Figure size 1152x360 with 1 Axes>"
      ]
     },
     "metadata": {},
     "output_type": "display_data"
    }
   ],
   "source": [
    "valid_datatmp['Confirmed'].plot(figsize = (16,5), legend=True)\n",
    "valid_datatmp['Predicted'].plot(legend = True)"
   ]
  },
  {
   "cell_type": "code",
   "execution_count": 48,
   "metadata": {
    "id": "wwd6jZn6ttdL",
    "outputId": "e55e53f8-e181-4613-e771-e01c26265b1e"
   },
   "outputs": [
    {
     "data": {
      "text/plain": [
       "<matplotlib.axes._subplots.AxesSubplot at 0x7f1460040910>"
      ]
     },
     "execution_count": 48,
     "metadata": {},
     "output_type": "execute_result"
    },
    {
     "data": {
      "image/png": "[encoded data removed]",
      "text/plain": [
       "<Figure size 1152x360 with 1 Axes>"
      ]
     },
     "metadata": {},
     "output_type": "display_data"
    }
   ],
   "source": [
    "test_datatmp['Confirmed'].plot(figsize = (16,5), legend=True)\n",
    "test_datatmp['Predicted'].plot(legend = True)"
   ]
  },
  {
   "cell_type": "code",
   "execution_count": 49,
   "metadata": {
    "id": "_lyV4P-5twtH",
    "outputId": "dbf75a78-396a-4e71-b3f8-46bd7bf08842"
   },
   "outputs": [
    {
     "data": {
      "text/plain": [
       "<matplotlib.axes._subplots.AxesSubplot at 0x7f14581a4410>"
      ]
     },
     "execution_count": 49,
     "metadata": {},
     "output_type": "execute_result"
    },
    {
     "data": {
      "image/png": "[encoded data removed]",
      "text/plain": [
       "<Figure size 1152x360 with 1 Axes>"
      ]
     },
     "metadata": {},
     "output_type": "display_data"
    }
   ],
   "source": [
    "totest_data['Confirmed'].plot(figsize = (16,5), legend=True)\n",
    "totest_data['Predicted'].plot(legend = True)"
   ]
  },
  {
   "cell_type": "code",
   "execution_count": null,
   "metadata": {
    "id": "R11_0vURt00q"
   },
   "outputs": [],
   "source": []
  }
 ],
 "metadata": {
  "kernelspec": {
   "display_name": "Python 3",
   "language": "python",
   "name": "python3"
  },
  "language_info": {
   "codemirror_mode": {
    "name": "ipython",
    "version": 3
   },
   "file_extension": ".py",
   "mimetype": "text/x-python",
   "name": "python",
   "nbconvert_exporter": "python",
   "pygments_lexer": "ipython3",
   "version": "3.7.6"
  }
 },
 "nbformat": 4,
 "nbformat_minor": 4
}
