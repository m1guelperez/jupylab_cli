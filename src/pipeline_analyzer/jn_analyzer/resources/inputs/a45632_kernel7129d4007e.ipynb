{
 "cells": [
  {
   "cell_type": "code",
   "execution_count": 1,
   "metadata": {},
   "outputs": [],
   "source": [
    "import os\n",
    "import random\n",
    "import warnings\n",
    "warnings.simplefilter(action='ignore')\n",
    "import numpy as np\n",
    "import pandas as pd\n",
    "import matplotlib.pyplot as plt\n",
    "import seaborn as sns\n",
    "%matplotlib inline\n",
    "from sklearn.linear_model import LogisticRegression\n",
    "from sklearn.svm import SVC, LinearSVC\n",
    "from sklearn.neighbors import KNeighborsClassifier\n",
    "from sklearn.linear_model import SGDClassifier\n",
    "from sklearn.tree import DecisionTreeClassifier\n",
    "from sklearn.model_selection import KFold\n",
    "from sklearn.ensemble import RandomForestClassifier\n",
    "from sklearn.metrics import make_scorer, accuracy_score\n",
    "from sklearn.model_selection import RandomizedSearchCV\n",
    "import lightgbm\n",
    "import matplotlib.pyplot as plt\n",
    "from sklearn.mixture import GaussianMixture\n",
    "from lightgbm import LGBMClassifier\n",
    "from mlxtend.classifier import StackingCVClassifier\n",
    "from sklearn.ensemble import AdaBoostClassifier, ExtraTreesClassifier, RandomForestClassifier\n",
    "from sklearn.preprocessing import MinMaxScaler\n",
    "from sklearn.model_selection import cross_val_score\n",
    "from sklearn.tree import DecisionTreeClassifier\n",
    "\n",
    "random_state = 1\n",
    "random.seed(random_state)\n",
    "np.random.seed(random_state)"
   ]
  },
  {
   "cell_type": "code",
   "execution_count": 2,
   "metadata": {
    "_cell_guid": "79c7e3d0-c299-4dcb-8224-4455121ee9b0",
    "_uuid": "d629ff2d2480ee46fbb7e2d37f6b5fab8052498a"
   },
   "outputs": [],
   "source": [
    "# Read the data\n",
    "X = pd.read_csv('../input/mh-forest/Forest_Cover_participants_Data/train.csv')\n",
    "X_test_full = pd.read_csv('../input/mh-forest/Forest_Cover_participants_Data/test.csv')\n",
    "\n",
    "col = X.columns\n",
    "newcol = []\n",
    "for i in range(0, len(col)):\n",
    "    temp = col[i]\n",
    "    if temp[-8:] == '(meters)':\n",
    "        #print(temp[:-8])\n",
    "        temp = temp[:-8]\n",
    "    if temp[-9:] == '(degrees)':\n",
    "        #print(temp[:-9])\n",
    "        temp = temp[:-9]\n",
    "    newcol.append(temp)\n",
    "X.columns = newcol\n",
    "\n",
    "col = X_test_full.columns\n",
    "newcol = []\n",
    "for i in range(0, len(col)):\n",
    "    temp = col[i]\n",
    "    if temp[-8:] == '(meters)':\n",
    "        #print(temp[:-8])\n",
    "        temp = temp[:-8]\n",
    "    if temp[-9:] == '(degrees)':\n",
    "        #print(temp[:-9])\n",
    "        temp = temp[:-9]\n",
    "    newcol.append(temp)\n",
    "X_test_full.columns = newcol\n",
    "\n",
    "\n",
    "y = X.Cover_Type\n",
    "X.drop(['Cover_Type'], axis=1, inplace=True)\n",
    "\n",
    "#X.drop(['Id'], axis=1, inplace=True)\n",
    "\n",
    "train_X = X\n",
    "train_y = y"
   ]
  },
  {
   "cell_type": "code",
   "execution_count": 3,
   "metadata": {},
   "outputs": [],
   "source": [
    "def WH4(df):\n",
    "    df['Hydro_high'] = df.Vertical_Distance_To_Hydrology.apply(lambda x: x > 3 )\n",
    "    df['Hydro_Euclidean'] = (df['Horizontal_Distance_To_Hydrology']**2 +\n",
    "                            df['Vertical_Distance_To_Hydrology']**2).apply(np.sqrt)\n",
    "    #df.drop(['Vertical_Distance_To_Hydrology'], axis=1, inplace=True)\n",
    "    #df.drop(['Horizontal_Distance_To_Hydrology'], axis=1, inplace=True)\n",
    "    df['Hydro_Fire_road'] = (df.Horizontal_Distance_To_Roadways + df.Horizontal_Distance_To_Fire_Points)/(df.Hydro_Euclidean/20000+1)\n",
    "    df['Hydro_Fire_sum'] = (df['Horizontal_Distance_To_Hydrology'] + df['Horizontal_Distance_To_Fire_Points'])\n",
    "    #df.drop(['Soil_Type15'], axis=1, inplace=True)\n",
    "    #df.drop(['Soil_Type7'], axis=1, inplace=True)\n",
    "    df['Hydro_Elevation_diff'] = (df['Elevation'] - df['Vertical_Distance_To_Hydrology'])\n",
    "    \n",
    "    df['Soil_Type12_32'] = df['Soil_Type_32'] + df['Soil_Type_12']\n",
    "    df['Soil_Type23_22_32_33'] = df['Soil_Type_23'] + df['Soil_Type_22'] + df['Soil_Type_32'] + df['Soil_Type_33']\n",
    "      \n",
    "    df['Hydro_Fire_diff'] = (df['Horizontal_Distance_To_Hydrology'] - df['Horizontal_Distance_To_Fire_Points']).abs()\n",
    "    df['Hydro_Road_sum'] = (df['Horizontal_Distance_To_Hydrology'] +df['Horizontal_Distance_To_Roadways'])\n",
    "    df['Hydro_Road_diff'] = (df['Horizontal_Distance_To_Hydrology'] -df['Horizontal_Distance_To_Roadways']).abs()\n",
    "    df['Road_Fire_sum'] = (df['Horizontal_Distance_To_Roadways'] + df['Horizontal_Distance_To_Fire_Points'])\n",
    "    df['Road_Fire_diff'] = (df['Horizontal_Distance_To_Roadways'] - df['Horizontal_Distance_To_Fire_Points']).abs()\n",
    "    #df.loc[:, :] = np.floor(MinMaxScaler((0, 100)).fit_transform(df))\n",
    "    #df = df.astype('int8')\n",
    "    #df.fillna(0)\n",
    "    \n"
   ]
  },
  {
   "cell_type": "code",
   "execution_count": 4,
   "metadata": {},
   "outputs": [],
   "source": [
    "WH4(X_test_full)\n",
    "WH4(X)\n",
    "\n",
    "\n",
    "gm = GaussianMixture(n_components  = 15)\n",
    "gm.fit(X)\n",
    "X['g_mixture'] = gm.predict(X)\n",
    "X_test_full['g_mixture'] = gm.predict(X_test_full)"
   ]
  },
  {
   "cell_type": "code",
   "execution_count": 5,
   "metadata": {},
   "outputs": [
    {
     "data": {
      "text/plain": [
       "(29050, 67)"
      ]
     },
     "execution_count": 5,
     "metadata": {},
     "output_type": "execute_result"
    }
   ],
   "source": [
    "X.shape"
   ]
  },
  {
   "cell_type": "code",
   "execution_count": 6,
   "metadata": {},
   "outputs": [
    {
     "data": {
      "text/plain": [
       "(551962, 67)"
      ]
     },
     "execution_count": 6,
     "metadata": {},
     "output_type": "execute_result"
    }
   ],
   "source": [
    "X_test_full.shape"
   ]
  },
  {
   "cell_type": "code",
   "execution_count": 7,
   "metadata": {},
   "outputs": [],
   "source": [
    "max_features = min(30, X.columns.size)\n",
    "\n",
    "ab_clf = AdaBoostClassifier(n_estimators=300,\n",
    "                            base_estimator=DecisionTreeClassifier(\n",
    "                                min_samples_leaf=2,\n",
    "                                random_state=random_state),\n",
    "                            random_state=random_state)\n",
    "\n",
    "et_clf = ExtraTreesClassifier(n_estimators=500,\n",
    "                              min_samples_leaf=2,\n",
    "                              min_samples_split=2,\n",
    "                              max_depth=50,\n",
    "                              max_features=max_features,\n",
    "                              random_state=random_state,\n",
    "                              n_jobs=-1)\n",
    "\n",
    "lg_clf = LGBMClassifier(n_estimators=300,\n",
    "                        num_leaves=128,\n",
    "                        verbose=-1,\n",
    "                        random_state=random_state,\n",
    "                        n_jobs=-1)\n",
    "\n",
    "rf_clf = RandomForestClassifier(n_estimators=300,\n",
    "                                random_state=random_state,\n",
    "                                n_jobs=-1)\n",
    "\n",
    "ensemble = [('AdaBoostClassifier', ab_clf),\n",
    "            ('ExtraTreesClassifier', et_clf),\n",
    "            ('LGBMClassifier', lg_clf),\n",
    "            ('RandomForestClassifier', rf_clf)]"
   ]
  },
  {
   "cell_type": "code",
   "execution_count": 8,
   "metadata": {},
   "outputs": [
    {
     "name": "stdout",
     "output_type": "stream",
     "text": [
      "> Cross-validating classifiers\n",
      "  -- AdaBoostClassifier       : 0.881 : [0.882 0.882 0.882 0.878 0.884]\n",
      "  -- ExtraTreesClassifier     : 0.898 : [0.897 0.896 0.903 0.893 0.902]\n",
      "  -- LGBMClassifier           : 0.895 : [0.891 0.896 0.898 0.891 0.897]\n",
      "  -- RandomForestClassifier   : 0.890 : [0.888 0.888 0.892 0.889 0.892]\n",
      "> Fitting stack\n",
      "Fitting 4 classifiers...\n",
      "Fitting classifier1: adaboostclassifier (1/4)\n"
     ]
    },
    {
     "name": "stderr",
     "output_type": "stream",
     "text": [
      "[Parallel(n_jobs=-1)]: Using backend LokyBackend with 4 concurrent workers.\n"
     ]
    },
    {
     "name": "stdout",
     "output_type": "stream",
     "text": [
      "Fitting classifier2: extratreesclassifier (2/4)\n"
     ]
    },
    {
     "name": "stderr",
     "output_type": "stream",
     "text": [
      "[Parallel(n_jobs=-1)]: Done   5 out of   5 | elapsed: 13.0min finished\n",
      "[Parallel(n_jobs=-1)]: Using backend LokyBackend with 4 concurrent workers.\n",
      "[Parallel(n_jobs=-1)]: Done   5 out of   5 | elapsed:  1.3min finished\n",
      "[Parallel(n_jobs=-1)]: Using backend LokyBackend with 4 concurrent workers.\n"
     ]
    },
    {
     "name": "stdout",
     "output_type": "stream",
     "text": [
      "Fitting classifier3: lgbmclassifier (3/4)\n"
     ]
    },
    {
     "name": "stderr",
     "output_type": "stream",
     "text": [
      "[Parallel(n_jobs=-1)]: Done   5 out of   5 | elapsed:  1.4min finished\n",
      "[Parallel(n_jobs=-1)]: Using backend LokyBackend with 4 concurrent workers.\n"
     ]
    },
    {
     "name": "stdout",
     "output_type": "stream",
     "text": [
      "Fitting classifier4: randomforestclassifier (4/4)\n"
     ]
    },
    {
     "name": "stderr",
     "output_type": "stream",
     "text": [
      "[Parallel(n_jobs=-1)]: Done   5 out of   5 | elapsed:   42.1s finished\n"
     ]
    }
   ],
   "source": [
    "print('> Cross-validating classifiers')\n",
    "for label, clf in ensemble:\n",
    "    score = cross_val_score(clf, X, train_y,\n",
    "                            cv=5,\n",
    "                            scoring='accuracy',\n",
    "                            verbose=0,\n",
    "                            n_jobs=-1)\n",
    "\n",
    "    print('  -- {: <24} : {:.3f} : {}'.format(label, np.mean(score), np.around(score, 3)))\n",
    "\n",
    "\n",
    "print('> Fitting stack')\n",
    "\n",
    "stack = StackingCVClassifier(classifiers=[ab_clf, et_clf, lg_clf, rf_clf],\n",
    "                             meta_classifier=rf_clf,\n",
    "                             cv=5,\n",
    "                             stratify=True,\n",
    "                             shuffle=True,\n",
    "                             use_probas=True,\n",
    "                             use_features_in_secondary=True,\n",
    "                             verbose=1,\n",
    "                             random_state=random_state,\n",
    "                             n_jobs=-1)\n",
    "\n",
    "stack = stack.fit(X, train_y)\n"
   ]
  },
  {
   "cell_type": "code",
   "execution_count": 9,
   "metadata": {},
   "outputs": [],
   "source": [
    "predictions = stack.predict_proba(X_test_full)"
   ]
  },
  {
   "cell_type": "code",
   "execution_count": 10,
   "metadata": {},
   "outputs": [
    {
     "data": {
      "text/plain": [
       "0.9999311531841653"
      ]
     },
     "execution_count": 10,
     "metadata": {},
     "output_type": "execute_result"
    }
   ],
   "source": [
    "stack.score(X, train_y)"
   ]
  },
  {
   "cell_type": "code",
   "execution_count": 11,
   "metadata": {},
   "outputs": [],
   "source": [
    "sub = pd.read_csv(\"../input/mh-forest/Forest_Cover_participants_Data/sample_submission.csv\")"
   ]
  },
  {
   "cell_type": "code",
   "execution_count": 12,
   "metadata": {},
   "outputs": [
    {
     "name": "stderr",
     "output_type": "stream",
     "text": [
      "100%|██████████| 551962/551962 [10:43<00:00, 857.76it/s]\n"
     ]
    }
   ],
   "source": [
    "from tqdm import tqdm\n",
    "\n",
    "for i in tqdm(range(0,len(sub))):\n",
    "    sub.iloc[i,0] = predictions[i][0]\n",
    "    sub.iloc[i,1] = predictions[i][1]\n",
    "    sub.iloc[i,2] = predictions[i][2]\n",
    "    sub.iloc[i,3] = predictions[i][3]\n",
    "    sub.iloc[i,4] = predictions[i][4]\n",
    "    sub.iloc[i,5] = predictions[i][5]\n",
    "    sub.iloc[i,6] = predictions[i][6]\n",
    "    "
   ]
  },
  {
   "cell_type": "code",
   "execution_count": 13,
   "metadata": {},
   "outputs": [],
   "source": [
    "sub.to_csv(\"Tree_version_8a.csv\", index=False)"
   ]
  },
  {
   "cell_type": "code",
   "execution_count": 14,
   "metadata": {},
   "outputs": [
    {
     "data": {
      "text/html": [
       "<div>\n",
       "<style scoped>\n",
       "    .dataframe tbody tr th:only-of-type {\n",
       "        vertical-align: middle;\n",
       "    }\n",
       "\n",
       "    .dataframe tbody tr th {\n",
       "        vertical-align: top;\n",
       "    }\n",
       "\n",
       "    .dataframe thead th {\n",
       "        text-align: right;\n",
       "    }\n",
       "</style>\n",
       "<table border=\"1\" class=\"dataframe\">\n",
       "  <thead>\n",
       "    <tr style=\"text-align: right;\">\n",
       "      <th></th>\n",
       "      <th>1.0</th>\n",
       "      <th>2.0</th>\n",
       "      <th>3.0</th>\n",
       "      <th>4.0</th>\n",
       "      <th>5.0</th>\n",
       "      <th>6.0</th>\n",
       "      <th>7.0</th>\n",
       "    </tr>\n",
       "  </thead>\n",
       "  <tbody>\n",
       "    <tr>\n",
       "      <th>count</th>\n",
       "      <td>551962.000000</td>\n",
       "      <td>551962.000000</td>\n",
       "      <td>551962.000000</td>\n",
       "      <td>551962.000000</td>\n",
       "      <td>551962.000000</td>\n",
       "      <td>551962.000000</td>\n",
       "      <td>551962.000000</td>\n",
       "    </tr>\n",
       "    <tr>\n",
       "      <th>mean</th>\n",
       "      <td>0.034984</td>\n",
       "      <td>0.016998</td>\n",
       "      <td>0.029918</td>\n",
       "      <td>0.004697</td>\n",
       "      <td>0.484315</td>\n",
       "      <td>0.061659</td>\n",
       "      <td>0.367429</td>\n",
       "    </tr>\n",
       "    <tr>\n",
       "      <th>std</th>\n",
       "      <td>0.169873</td>\n",
       "      <td>0.098137</td>\n",
       "      <td>0.143705</td>\n",
       "      <td>0.057124</td>\n",
       "      <td>0.438955</td>\n",
       "      <td>0.219326</td>\n",
       "      <td>0.426209</td>\n",
       "    </tr>\n",
       "    <tr>\n",
       "      <th>min</th>\n",
       "      <td>0.000000</td>\n",
       "      <td>0.000000</td>\n",
       "      <td>0.000000</td>\n",
       "      <td>0.000000</td>\n",
       "      <td>0.000000</td>\n",
       "      <td>0.000000</td>\n",
       "      <td>0.000000</td>\n",
       "    </tr>\n",
       "    <tr>\n",
       "      <th>25%</th>\n",
       "      <td>0.000000</td>\n",
       "      <td>0.000000</td>\n",
       "      <td>0.000000</td>\n",
       "      <td>0.000000</td>\n",
       "      <td>0.010049</td>\n",
       "      <td>0.000000</td>\n",
       "      <td>0.003333</td>\n",
       "    </tr>\n",
       "    <tr>\n",
       "      <th>50%</th>\n",
       "      <td>0.000000</td>\n",
       "      <td>0.000000</td>\n",
       "      <td>0.000000</td>\n",
       "      <td>0.000000</td>\n",
       "      <td>0.446667</td>\n",
       "      <td>0.000000</td>\n",
       "      <td>0.073333</td>\n",
       "    </tr>\n",
       "    <tr>\n",
       "      <th>75%</th>\n",
       "      <td>0.000000</td>\n",
       "      <td>0.003333</td>\n",
       "      <td>0.000000</td>\n",
       "      <td>0.000000</td>\n",
       "      <td>0.970000</td>\n",
       "      <td>0.000000</td>\n",
       "      <td>0.919340</td>\n",
       "    </tr>\n",
       "    <tr>\n",
       "      <th>max</th>\n",
       "      <td>1.000000</td>\n",
       "      <td>1.000000</td>\n",
       "      <td>1.000000</td>\n",
       "      <td>1.000000</td>\n",
       "      <td>1.000000</td>\n",
       "      <td>1.000000</td>\n",
       "      <td>1.000000</td>\n",
       "    </tr>\n",
       "  </tbody>\n",
       "</table>\n",
       "</div>"
      ],
      "text/plain": [
       "                 1.0            2.0            3.0            4.0  \\\n",
       "count  551962.000000  551962.000000  551962.000000  551962.000000   \n",
       "mean        0.034984       0.016998       0.029918       0.004697   \n",
       "std         0.169873       0.098137       0.143705       0.057124   \n",
       "min         0.000000       0.000000       0.000000       0.000000   \n",
       "25%         0.000000       0.000000       0.000000       0.000000   \n",
       "50%         0.000000       0.000000       0.000000       0.000000   \n",
       "75%         0.000000       0.003333       0.000000       0.000000   \n",
       "max         1.000000       1.000000       1.000000       1.000000   \n",
       "\n",
       "                 5.0            6.0            7.0  \n",
       "count  551962.000000  551962.000000  551962.000000  \n",
       "mean        0.484315       0.061659       0.367429  \n",
       "std         0.438955       0.219326       0.426209  \n",
       "min         0.000000       0.000000       0.000000  \n",
       "25%         0.010049       0.000000       0.003333  \n",
       "50%         0.446667       0.000000       0.073333  \n",
       "75%         0.970000       0.000000       0.919340  \n",
       "max         1.000000       1.000000       1.000000  "
      ]
     },
     "execution_count": 14,
     "metadata": {},
     "output_type": "execute_result"
    }
   ],
   "source": [
    "sub.describe()"
   ]
  },
  {
   "cell_type": "code",
   "execution_count": null,
   "metadata": {},
   "outputs": [],
   "source": []
  }
 ],
 "metadata": {
  "kernelspec": {
   "display_name": "Python 3",
   "language": "python",
   "name": "python3"
  },
  "language_info": {
   "codemirror_mode": {
    "name": "ipython",
    "version": 3
   },
   "file_extension": ".py",
   "mimetype": "text/x-python",
   "name": "python",
   "nbconvert_exporter": "python",
   "pygments_lexer": "ipython3",
   "version": "3.7.6"
  }
 },
 "nbformat": 4,
 "nbformat_minor": 4
}
