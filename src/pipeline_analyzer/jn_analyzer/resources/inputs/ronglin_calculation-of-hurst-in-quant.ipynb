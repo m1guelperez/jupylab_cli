{
 "cells": [
  {
   "cell_type": "code",
   "execution_count": 1,
   "metadata": {
    "_cell_guid": "68af9edd-8d73-406f-a1ca-020bd6d64bd5",
    "_uuid": "fe857b9c9fa2baad076d0a377d30c9df6bf5a3fd",
    "collapsed": true
   },
   "outputs": [],
   "source": [
    "# This Python 3 environment comes with many helpful analytics libraries installed\n",
    "# It is defined by the kaggle/python docker image: https://github.com/kaggle/docker-python\n",
    "# For example, here's several helpful packages to load in \n",
    "\n",
    "# -*- coding: utf-8 -*-\n",
    "\"\"\"\n",
    "Created on Sat Sep  2 20:13:30 2017\n",
    "\n",
    "@author: dell\n",
    "\"\"\"\n",
    "import numpy as np\n",
    "#计算hurst的值\n",
    "def hurst(data):\n",
    "    RS = list()\n",
    "    ARS = []\n",
    "    N = len(data)\n",
    "    ranges = [2,4,8,16,32,64]\n",
    "    L = N/np.array(ranges)\n",
    "    for i in range(len(ranges)):\n",
    "        for r in range(ranges[i]):\n",
    "            Range = data[int(L[i]*r):int(L[i]*(r+1))]\n",
    "            meanvalue = np.mean(Range)\n",
    "            Deviation = np.subtract(Range,meanvalue)\n",
    "            sigma = np.sqrt((sum(Deviation*Deviation))/(L[i]-1))\n",
    "            Deviation = Deviation.cumsum()\n",
    "            maxi = max(Deviation)\n",
    "            mini = min(Deviation)\n",
    "        RS.append((maxi-mini)/sigma)\n",
    "        ARS.append(np.mean(RS))\n",
    "    GAP = np.log(L)\n",
    "    a = np.log(ARS)\n",
    "    hurst_exponent = np.polyfit(GAP,a,1)[0]*2\n",
    "    return(hurst_exponent)\n",
    "#滚动窗口,N为窗口大小,\n",
    "def rolling(close_data,N):\n",
    "    hurst_value = close_data.rolling(window=N).apply(hurst)\n",
    "    return(hurst_value)"
   ]
  }
 ],
 "metadata": {
  "kernelspec": {
   "display_name": "Python 3",
   "language": "python",
   "name": "python3"
  },
  "language_info": {
   "codemirror_mode": {
    "name": "ipython",
    "version": 3
   },
   "file_extension": ".py",
   "mimetype": "text/x-python",
   "name": "python",
   "nbconvert_exporter": "python",
   "pygments_lexer": "ipython3",
   "version": "3.6.1"
  }
 },
 "nbformat": 4,
 "nbformat_minor": 1
}
