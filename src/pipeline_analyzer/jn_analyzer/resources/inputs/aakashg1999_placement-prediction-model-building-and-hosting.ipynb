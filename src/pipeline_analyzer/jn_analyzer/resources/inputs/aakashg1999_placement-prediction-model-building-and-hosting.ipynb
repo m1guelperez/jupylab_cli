{
 "cells": [
  {
   "cell_type": "code",
   "execution_count": 1,
   "metadata": {
    "_cell_guid": "b1076dfc-b9ad-4769-8c92-a6c4dae69d19",
    "_uuid": "8f2839f25d086af736a60e9eeb907d3b93b6e0e5",
    "papermill": {
     "duration": 1.900868,
     "end_time": "2020-09-27T09:59:06.481290",
     "exception": false,
     "start_time": "2020-09-27T09:59:04.580422",
     "status": "completed"
    },
    "tags": []
   },
   "outputs": [
    {
     "name": "stdout",
     "output_type": "stream",
     "text": [
      "/kaggle/input/factors-affecting-campus-placement/Placement_Data_Full_Class.csv\n"
     ]
    }
   ],
   "source": [
    "# This Python 3 environment comes with many helpful analytics libraries installed\n",
    "# It is defined by the kaggle/python docker image: https://github.com/kaggle/docker-python\n",
    "# For example, here's several helpful packages to load in \n",
    "\n",
    "import numpy as np # linear algebra\n",
    "import pandas as pd # data processing, CSV file I/O (e.g. pd.read_csv)\n",
    "\n",
    "# Input data files are available in the \"../input/\" directory.\n",
    "# For example, running this (by clicking run or pressing Shift+Enter) will list all files under the input directory\n",
    "\n",
    "import os\n",
    "for dirname, _, filenames in os.walk('/kaggle/input'):\n",
    "    for filename in filenames:\n",
    "        print(os.path.join(dirname, filename))\n",
    "\n",
    "#SK-Learn        \n",
    "RANDOM_SEED = 42\n",
    "np.random.seed(RANDOM_SEED)\n",
    "\n",
    "from sklearn.naive_bayes import GaussianNB\n",
    "from sklearn.linear_model import LogisticRegression\n",
    "from sklearn.svm import SVC\n",
    "from sklearn.svm import LinearSVC\n",
    "from sklearn.tree import DecisionTreeClassifier\n",
    "from sklearn.ensemble import RandomForestClassifier\n",
    "from sklearn.neighbors import KNeighborsClassifier\n",
    "from sklearn.linear_model import SGDClassifier\n",
    "from xgboost import XGBClassifier\n",
    "import time\n",
    "from sklearn.feature_selection import RFE, f_regression\n",
    "from sklearn.preprocessing import MinMaxScaler\n",
    "from sklearn.linear_model import LinearRegression\n",
    "from sklearn.model_selection import cross_val_score\n",
    "from pprint import pprint\n",
    "from sklearn.model_selection import GridSearchCV\n",
    "from sklearn.metrics import accuracy_score\n",
    "\n",
    "import matplotlib.pyplot as plt\n",
    "%matplotlib inline\n",
    "import seaborn as sns\n",
    "\n",
    "import warnings\n",
    "warnings.filterwarnings('ignore')\n",
    "# Any results you write to the current directory are saved as output."
   ]
  },
  {
   "cell_type": "code",
   "execution_count": 2,
   "metadata": {
    "_cell_guid": "79c7e3d0-c299-4dcb-8224-4455121ee9b0",
    "_uuid": "d629ff2d2480ee46fbb7e2d37f6b5fab8052498a",
    "papermill": {
     "duration": 0.078762,
     "end_time": "2020-09-27T09:59:06.582941",
     "exception": false,
     "start_time": "2020-09-27T09:59:06.504179",
     "status": "completed"
    },
    "tags": []
   },
   "outputs": [
    {
     "data": {
      "text/html": [
       "<div>\n",
       "<style scoped>\n",
       "    .dataframe tbody tr th:only-of-type {\n",
       "        vertical-align: middle;\n",
       "    }\n",
       "\n",
       "    .dataframe tbody tr th {\n",
       "        vertical-align: top;\n",
       "    }\n",
       "\n",
       "    .dataframe thead th {\n",
       "        text-align: right;\n",
       "    }\n",
       "</style>\n",
       "<table border=\"1\" class=\"dataframe\">\n",
       "  <thead>\n",
       "    <tr style=\"text-align: right;\">\n",
       "      <th></th>\n",
       "      <th>gender</th>\n",
       "      <th>ssc_p</th>\n",
       "      <th>ssc_b</th>\n",
       "      <th>hsc_p</th>\n",
       "      <th>hsc_b</th>\n",
       "      <th>hsc_s</th>\n",
       "      <th>degree_p</th>\n",
       "      <th>degree_t</th>\n",
       "      <th>workex</th>\n",
       "      <th>etest_p</th>\n",
       "      <th>specialisation</th>\n",
       "      <th>mba_p</th>\n",
       "      <th>status</th>\n",
       "    </tr>\n",
       "    <tr>\n",
       "      <th>sl_no</th>\n",
       "      <th></th>\n",
       "      <th></th>\n",
       "      <th></th>\n",
       "      <th></th>\n",
       "      <th></th>\n",
       "      <th></th>\n",
       "      <th></th>\n",
       "      <th></th>\n",
       "      <th></th>\n",
       "      <th></th>\n",
       "      <th></th>\n",
       "      <th></th>\n",
       "      <th></th>\n",
       "    </tr>\n",
       "  </thead>\n",
       "  <tbody>\n",
       "    <tr>\n",
       "      <th>1</th>\n",
       "      <td>M</td>\n",
       "      <td>67.00</td>\n",
       "      <td>Others</td>\n",
       "      <td>91.00</td>\n",
       "      <td>Others</td>\n",
       "      <td>Commerce</td>\n",
       "      <td>58.00</td>\n",
       "      <td>Sci&amp;Tech</td>\n",
       "      <td>No</td>\n",
       "      <td>55.0</td>\n",
       "      <td>Mkt&amp;HR</td>\n",
       "      <td>58.80</td>\n",
       "      <td>1</td>\n",
       "    </tr>\n",
       "    <tr>\n",
       "      <th>2</th>\n",
       "      <td>M</td>\n",
       "      <td>79.33</td>\n",
       "      <td>Central</td>\n",
       "      <td>78.33</td>\n",
       "      <td>Others</td>\n",
       "      <td>Science</td>\n",
       "      <td>77.48</td>\n",
       "      <td>Sci&amp;Tech</td>\n",
       "      <td>Yes</td>\n",
       "      <td>86.5</td>\n",
       "      <td>Mkt&amp;Fin</td>\n",
       "      <td>66.28</td>\n",
       "      <td>1</td>\n",
       "    </tr>\n",
       "    <tr>\n",
       "      <th>3</th>\n",
       "      <td>M</td>\n",
       "      <td>65.00</td>\n",
       "      <td>Central</td>\n",
       "      <td>68.00</td>\n",
       "      <td>Central</td>\n",
       "      <td>Arts</td>\n",
       "      <td>64.00</td>\n",
       "      <td>Comm&amp;Mgmt</td>\n",
       "      <td>No</td>\n",
       "      <td>75.0</td>\n",
       "      <td>Mkt&amp;Fin</td>\n",
       "      <td>57.80</td>\n",
       "      <td>1</td>\n",
       "    </tr>\n",
       "    <tr>\n",
       "      <th>4</th>\n",
       "      <td>M</td>\n",
       "      <td>56.00</td>\n",
       "      <td>Central</td>\n",
       "      <td>52.00</td>\n",
       "      <td>Central</td>\n",
       "      <td>Science</td>\n",
       "      <td>52.00</td>\n",
       "      <td>Sci&amp;Tech</td>\n",
       "      <td>No</td>\n",
       "      <td>66.0</td>\n",
       "      <td>Mkt&amp;HR</td>\n",
       "      <td>59.43</td>\n",
       "      <td>0</td>\n",
       "    </tr>\n",
       "    <tr>\n",
       "      <th>5</th>\n",
       "      <td>M</td>\n",
       "      <td>85.80</td>\n",
       "      <td>Central</td>\n",
       "      <td>73.60</td>\n",
       "      <td>Central</td>\n",
       "      <td>Commerce</td>\n",
       "      <td>73.30</td>\n",
       "      <td>Comm&amp;Mgmt</td>\n",
       "      <td>No</td>\n",
       "      <td>96.8</td>\n",
       "      <td>Mkt&amp;Fin</td>\n",
       "      <td>55.50</td>\n",
       "      <td>1</td>\n",
       "    </tr>\n",
       "  </tbody>\n",
       "</table>\n",
       "</div>"
      ],
      "text/plain": [
       "      gender  ssc_p    ssc_b  hsc_p    hsc_b     hsc_s  degree_p   degree_t  \\\n",
       "sl_no                                                                         \n",
       "1          M  67.00   Others  91.00   Others  Commerce     58.00   Sci&Tech   \n",
       "2          M  79.33  Central  78.33   Others   Science     77.48   Sci&Tech   \n",
       "3          M  65.00  Central  68.00  Central      Arts     64.00  Comm&Mgmt   \n",
       "4          M  56.00  Central  52.00  Central   Science     52.00   Sci&Tech   \n",
       "5          M  85.80  Central  73.60  Central  Commerce     73.30  Comm&Mgmt   \n",
       "\n",
       "      workex  etest_p specialisation  mba_p  status  \n",
       "sl_no                                                \n",
       "1         No     55.0         Mkt&HR  58.80       1  \n",
       "2        Yes     86.5        Mkt&Fin  66.28       1  \n",
       "3         No     75.0        Mkt&Fin  57.80       1  \n",
       "4         No     66.0         Mkt&HR  59.43       0  \n",
       "5         No     96.8        Mkt&Fin  55.50       1  "
      ]
     },
     "execution_count": 2,
     "metadata": {},
     "output_type": "execute_result"
    }
   ],
   "source": [
    "data = pd.read_csv('/kaggle/input/factors-affecting-campus-placement/Placement_Data_Full_Class.csv', index_col='sl_no')\n",
    "data.drop('salary', axis=1, inplace=True)\n",
    "data['status'] = data['status'].map({'Placed':1, 'Not Placed': 0}).astype(int)\n",
    "data.head()"
   ]
  },
  {
   "cell_type": "code",
   "execution_count": 3,
   "metadata": {
    "papermill": {
     "duration": 0.045589,
     "end_time": "2020-09-27T09:59:06.653658",
     "exception": false,
     "start_time": "2020-09-27T09:59:06.608069",
     "status": "completed"
    },
    "tags": []
   },
   "outputs": [
    {
     "name": "stdout",
     "output_type": "stream",
     "text": [
      "<class 'pandas.core.frame.DataFrame'>\n",
      "Int64Index: 215 entries, 1 to 215\n",
      "Data columns (total 13 columns):\n",
      " #   Column          Non-Null Count  Dtype  \n",
      "---  ------          --------------  -----  \n",
      " 0   gender          215 non-null    object \n",
      " 1   ssc_p           215 non-null    float64\n",
      " 2   ssc_b           215 non-null    object \n",
      " 3   hsc_p           215 non-null    float64\n",
      " 4   hsc_b           215 non-null    object \n",
      " 5   hsc_s           215 non-null    object \n",
      " 6   degree_p        215 non-null    float64\n",
      " 7   degree_t        215 non-null    object \n",
      " 8   workex          215 non-null    object \n",
      " 9   etest_p         215 non-null    float64\n",
      " 10  specialisation  215 non-null    object \n",
      " 11  mba_p           215 non-null    float64\n",
      " 12  status          215 non-null    int64  \n",
      "dtypes: float64(5), int64(1), object(7)\n",
      "memory usage: 23.5+ KB\n"
     ]
    }
   ],
   "source": [
    "data.info()"
   ]
  },
  {
   "cell_type": "markdown",
   "metadata": {
    "papermill": {
     "duration": 0.020367,
     "end_time": "2020-09-27T09:59:06.697362",
     "exception": false,
     "start_time": "2020-09-27T09:59:06.676995",
     "status": "completed"
    },
    "tags": []
   },
   "source": [
    "* No missing values"
   ]
  },
  {
   "cell_type": "code",
   "execution_count": 4,
   "metadata": {
    "papermill": {
     "duration": 0.029686,
     "end_time": "2020-09-27T09:59:06.748810",
     "exception": false,
     "start_time": "2020-09-27T09:59:06.719124",
     "status": "completed"
    },
    "tags": []
   },
   "outputs": [],
   "source": [
    "y = data['status']\n",
    "X = data.copy()\n",
    "X.drop('status', axis=1, inplace=True)\n"
   ]
  },
  {
   "cell_type": "markdown",
   "metadata": {
    "papermill": {
     "duration": 0.020189,
     "end_time": "2020-09-27T09:59:06.789408",
     "exception": false,
     "start_time": "2020-09-27T09:59:06.769219",
     "status": "completed"
    },
    "tags": []
   },
   "source": [
    "# **Splitting into training and test set**"
   ]
  },
  {
   "cell_type": "code",
   "execution_count": 5,
   "metadata": {
    "papermill": {
     "duration": 0.035179,
     "end_time": "2020-09-27T09:59:06.845019",
     "exception": false,
     "start_time": "2020-09-27T09:59:06.809840",
     "status": "completed"
    },
    "tags": []
   },
   "outputs": [
    {
     "data": {
      "text/plain": [
       "((180, 12), (35, 12), (180,), (35,))"
      ]
     },
     "execution_count": 5,
     "metadata": {},
     "output_type": "execute_result"
    }
   ],
   "source": [
    "from sklearn.model_selection import train_test_split\n",
    "X_train, X_test, y_train, y_test = train_test_split(X, y, test_size=0.16, random_state=1)\n",
    "X_train.shape, X_test.shape, y_train.shape, y_test.shape"
   ]
  },
  {
   "cell_type": "markdown",
   "metadata": {
    "papermill": {
     "duration": 0.020259,
     "end_time": "2020-09-27T09:59:06.886725",
     "exception": false,
     "start_time": "2020-09-27T09:59:06.866466",
     "status": "completed"
    },
    "tags": []
   },
   "source": [
    "* Final accuracy would be checked on Test Dataset(X_test, y_test)\n",
    "* Cross valiation would be used as dataset is not very big"
   ]
  },
  {
   "cell_type": "markdown",
   "metadata": {
    "papermill": {
     "duration": 0.020113,
     "end_time": "2020-09-27T09:59:06.927346",
     "exception": false,
     "start_time": "2020-09-27T09:59:06.907233",
     "status": "completed"
    },
    "tags": []
   },
   "source": [
    "# **Encoding Categorical Variables**"
   ]
  },
  {
   "cell_type": "code",
   "execution_count": 6,
   "metadata": {
    "papermill": {
     "duration": 0.114314,
     "end_time": "2020-09-27T09:59:07.062055",
     "exception": false,
     "start_time": "2020-09-27T09:59:06.947741",
     "status": "completed"
    },
    "tags": []
   },
   "outputs": [],
   "source": [
    "from sklearn.preprocessing import OneHotEncoder\n",
    "\n",
    "cols = [ 'gender','ssc_b', 'hsc_b', 'hsc_s', 'degree_t', 'workex', 'specialisation']\n",
    "ohc = OneHotEncoder(handle_unknown='ignore', sparse=False)\n",
    "\n",
    "n_cols_train = pd.DataFrame(ohc.fit_transform(X_train[cols]))\n",
    "n_cols_test = pd.DataFrame(ohc.transform(X_test[cols]))\n",
    "\n",
    "n_cols_train.index = X_train.index\n",
    "n_cols_test.index = X_test.index\n",
    "\n",
    "n_cols_train.columns = ohc.get_feature_names(cols)\n",
    "n_cols_test.columns = ohc.get_feature_names(cols)\n",
    "\n",
    "X_train = pd.concat([X_train, n_cols_train], axis=1)\n",
    "X_test = pd.concat([X_test, n_cols_test], axis=1)\n",
    "\n",
    "X_train.drop(cols, axis=1, inplace=True)\n",
    "X_test.drop(cols, axis=1, inplace=True)"
   ]
  },
  {
   "cell_type": "code",
   "execution_count": 7,
   "metadata": {
    "papermill": {
     "duration": 0.049008,
     "end_time": "2020-09-27T09:59:07.133962",
     "exception": false,
     "start_time": "2020-09-27T09:59:07.084954",
     "status": "completed"
    },
    "tags": []
   },
   "outputs": [
    {
     "data": {
      "text/html": [
       "<div>\n",
       "<style scoped>\n",
       "    .dataframe tbody tr th:only-of-type {\n",
       "        vertical-align: middle;\n",
       "    }\n",
       "\n",
       "    .dataframe tbody tr th {\n",
       "        vertical-align: top;\n",
       "    }\n",
       "\n",
       "    .dataframe thead th {\n",
       "        text-align: right;\n",
       "    }\n",
       "</style>\n",
       "<table border=\"1\" class=\"dataframe\">\n",
       "  <thead>\n",
       "    <tr style=\"text-align: right;\">\n",
       "      <th></th>\n",
       "      <th>ssc_p</th>\n",
       "      <th>hsc_p</th>\n",
       "      <th>degree_p</th>\n",
       "      <th>etest_p</th>\n",
       "      <th>mba_p</th>\n",
       "      <th>gender_F</th>\n",
       "      <th>gender_M</th>\n",
       "      <th>ssc_b_Central</th>\n",
       "      <th>ssc_b_Others</th>\n",
       "      <th>hsc_b_Central</th>\n",
       "      <th>...</th>\n",
       "      <th>hsc_s_Arts</th>\n",
       "      <th>hsc_s_Commerce</th>\n",
       "      <th>hsc_s_Science</th>\n",
       "      <th>degree_t_Comm&amp;Mgmt</th>\n",
       "      <th>degree_t_Others</th>\n",
       "      <th>degree_t_Sci&amp;Tech</th>\n",
       "      <th>workex_No</th>\n",
       "      <th>workex_Yes</th>\n",
       "      <th>specialisation_Mkt&amp;Fin</th>\n",
       "      <th>specialisation_Mkt&amp;HR</th>\n",
       "    </tr>\n",
       "    <tr>\n",
       "      <th>sl_no</th>\n",
       "      <th></th>\n",
       "      <th></th>\n",
       "      <th></th>\n",
       "      <th></th>\n",
       "      <th></th>\n",
       "      <th></th>\n",
       "      <th></th>\n",
       "      <th></th>\n",
       "      <th></th>\n",
       "      <th></th>\n",
       "      <th></th>\n",
       "      <th></th>\n",
       "      <th></th>\n",
       "      <th></th>\n",
       "      <th></th>\n",
       "      <th></th>\n",
       "      <th></th>\n",
       "      <th></th>\n",
       "      <th></th>\n",
       "      <th></th>\n",
       "      <th></th>\n",
       "    </tr>\n",
       "  </thead>\n",
       "  <tbody>\n",
       "    <tr>\n",
       "      <th>1</th>\n",
       "      <td>67.00</td>\n",
       "      <td>91.0</td>\n",
       "      <td>58.0</td>\n",
       "      <td>55.00</td>\n",
       "      <td>58.80</td>\n",
       "      <td>0.0</td>\n",
       "      <td>1.0</td>\n",
       "      <td>0.0</td>\n",
       "      <td>1.0</td>\n",
       "      <td>0.0</td>\n",
       "      <td>...</td>\n",
       "      <td>0.0</td>\n",
       "      <td>1.0</td>\n",
       "      <td>0.0</td>\n",
       "      <td>0.0</td>\n",
       "      <td>0.0</td>\n",
       "      <td>1.0</td>\n",
       "      <td>1.0</td>\n",
       "      <td>0.0</td>\n",
       "      <td>0.0</td>\n",
       "      <td>1.0</td>\n",
       "    </tr>\n",
       "    <tr>\n",
       "      <th>160</th>\n",
       "      <td>52.00</td>\n",
       "      <td>49.0</td>\n",
       "      <td>58.0</td>\n",
       "      <td>62.00</td>\n",
       "      <td>60.59</td>\n",
       "      <td>0.0</td>\n",
       "      <td>1.0</td>\n",
       "      <td>1.0</td>\n",
       "      <td>0.0</td>\n",
       "      <td>0.0</td>\n",
       "      <td>...</td>\n",
       "      <td>0.0</td>\n",
       "      <td>1.0</td>\n",
       "      <td>0.0</td>\n",
       "      <td>1.0</td>\n",
       "      <td>0.0</td>\n",
       "      <td>0.0</td>\n",
       "      <td>1.0</td>\n",
       "      <td>0.0</td>\n",
       "      <td>0.0</td>\n",
       "      <td>1.0</td>\n",
       "    </tr>\n",
       "    <tr>\n",
       "      <th>149</th>\n",
       "      <td>77.00</td>\n",
       "      <td>86.0</td>\n",
       "      <td>56.0</td>\n",
       "      <td>57.00</td>\n",
       "      <td>64.08</td>\n",
       "      <td>1.0</td>\n",
       "      <td>0.0</td>\n",
       "      <td>1.0</td>\n",
       "      <td>0.0</td>\n",
       "      <td>1.0</td>\n",
       "      <td>...</td>\n",
       "      <td>1.0</td>\n",
       "      <td>0.0</td>\n",
       "      <td>0.0</td>\n",
       "      <td>0.0</td>\n",
       "      <td>1.0</td>\n",
       "      <td>0.0</td>\n",
       "      <td>1.0</td>\n",
       "      <td>0.0</td>\n",
       "      <td>1.0</td>\n",
       "      <td>0.0</td>\n",
       "    </tr>\n",
       "    <tr>\n",
       "      <th>131</th>\n",
       "      <td>62.00</td>\n",
       "      <td>65.0</td>\n",
       "      <td>60.0</td>\n",
       "      <td>84.00</td>\n",
       "      <td>64.15</td>\n",
       "      <td>0.0</td>\n",
       "      <td>1.0</td>\n",
       "      <td>1.0</td>\n",
       "      <td>0.0</td>\n",
       "      <td>0.0</td>\n",
       "      <td>...</td>\n",
       "      <td>0.0</td>\n",
       "      <td>1.0</td>\n",
       "      <td>0.0</td>\n",
       "      <td>1.0</td>\n",
       "      <td>0.0</td>\n",
       "      <td>0.0</td>\n",
       "      <td>1.0</td>\n",
       "      <td>0.0</td>\n",
       "      <td>1.0</td>\n",
       "      <td>0.0</td>\n",
       "    </tr>\n",
       "    <tr>\n",
       "      <th>29</th>\n",
       "      <td>76.76</td>\n",
       "      <td>76.5</td>\n",
       "      <td>67.5</td>\n",
       "      <td>73.35</td>\n",
       "      <td>64.15</td>\n",
       "      <td>0.0</td>\n",
       "      <td>1.0</td>\n",
       "      <td>0.0</td>\n",
       "      <td>1.0</td>\n",
       "      <td>0.0</td>\n",
       "      <td>...</td>\n",
       "      <td>0.0</td>\n",
       "      <td>1.0</td>\n",
       "      <td>0.0</td>\n",
       "      <td>1.0</td>\n",
       "      <td>0.0</td>\n",
       "      <td>0.0</td>\n",
       "      <td>0.0</td>\n",
       "      <td>1.0</td>\n",
       "      <td>1.0</td>\n",
       "      <td>0.0</td>\n",
       "    </tr>\n",
       "  </tbody>\n",
       "</table>\n",
       "<p>5 rows × 21 columns</p>\n",
       "</div>"
      ],
      "text/plain": [
       "       ssc_p  hsc_p  degree_p  etest_p  mba_p  gender_F  gender_M  \\\n",
       "sl_no                                                               \n",
       "1      67.00   91.0      58.0    55.00  58.80       0.0       1.0   \n",
       "160    52.00   49.0      58.0    62.00  60.59       0.0       1.0   \n",
       "149    77.00   86.0      56.0    57.00  64.08       1.0       0.0   \n",
       "131    62.00   65.0      60.0    84.00  64.15       0.0       1.0   \n",
       "29     76.76   76.5      67.5    73.35  64.15       0.0       1.0   \n",
       "\n",
       "       ssc_b_Central  ssc_b_Others  hsc_b_Central  ...  hsc_s_Arts  \\\n",
       "sl_no                                              ...               \n",
       "1                0.0           1.0            0.0  ...         0.0   \n",
       "160              1.0           0.0            0.0  ...         0.0   \n",
       "149              1.0           0.0            1.0  ...         1.0   \n",
       "131              1.0           0.0            0.0  ...         0.0   \n",
       "29               0.0           1.0            0.0  ...         0.0   \n",
       "\n",
       "       hsc_s_Commerce  hsc_s_Science  degree_t_Comm&Mgmt  degree_t_Others  \\\n",
       "sl_no                                                                       \n",
       "1                 1.0            0.0                 0.0              0.0   \n",
       "160               1.0            0.0                 1.0              0.0   \n",
       "149               0.0            0.0                 0.0              1.0   \n",
       "131               1.0            0.0                 1.0              0.0   \n",
       "29                1.0            0.0                 1.0              0.0   \n",
       "\n",
       "       degree_t_Sci&Tech  workex_No  workex_Yes  specialisation_Mkt&Fin  \\\n",
       "sl_no                                                                     \n",
       "1                    1.0        1.0         0.0                     0.0   \n",
       "160                  0.0        1.0         0.0                     0.0   \n",
       "149                  0.0        1.0         0.0                     1.0   \n",
       "131                  0.0        1.0         0.0                     1.0   \n",
       "29                   0.0        0.0         1.0                     1.0   \n",
       "\n",
       "       specialisation_Mkt&HR  \n",
       "sl_no                         \n",
       "1                        1.0  \n",
       "160                      1.0  \n",
       "149                      0.0  \n",
       "131                      0.0  \n",
       "29                       0.0  \n",
       "\n",
       "[5 rows x 21 columns]"
      ]
     },
     "execution_count": 7,
     "metadata": {},
     "output_type": "execute_result"
    }
   ],
   "source": [
    "X_train.head()"
   ]
  },
  {
   "cell_type": "markdown",
   "metadata": {
    "papermill": {
     "duration": 0.020856,
     "end_time": "2020-09-27T09:59:07.176214",
     "exception": false,
     "start_time": "2020-09-27T09:59:07.155358",
     "status": "completed"
    },
    "tags": []
   },
   "source": [
    "# **Feature Scaling**"
   ]
  },
  {
   "cell_type": "code",
   "execution_count": 8,
   "metadata": {
    "papermill": {
     "duration": 0.028668,
     "end_time": "2020-09-27T09:59:07.226331",
     "exception": false,
     "start_time": "2020-09-27T09:59:07.197663",
     "status": "completed"
    },
    "tags": []
   },
   "outputs": [],
   "source": [
    "mean = X_train.mean()\n",
    "std = X_train.std()"
   ]
  },
  {
   "cell_type": "code",
   "execution_count": 9,
   "metadata": {
    "papermill": {
     "duration": 0.032941,
     "end_time": "2020-09-27T09:59:07.281298",
     "exception": false,
     "start_time": "2020-09-27T09:59:07.248357",
     "status": "completed"
    },
    "tags": []
   },
   "outputs": [
    {
     "name": "stdout",
     "output_type": "stream",
     "text": [
      "ssc_p                     11.027370\n",
      "hsc_p                     11.053859\n",
      "degree_p                   7.139097\n",
      "etest_p                   12.990365\n",
      "mba_p                      5.717089\n",
      "gender_F                   0.483239\n",
      "gender_M                   0.483239\n",
      "ssc_b_Central              0.500279\n",
      "ssc_b_Others               0.500279\n",
      "hsc_b_Central              0.487555\n",
      "hsc_b_Others               0.487555\n",
      "hsc_s_Arts                 0.218553\n",
      "hsc_s_Commerce             0.500620\n",
      "hsc_s_Science              0.495291\n",
      "degree_t_Comm&Mgmt         0.466474\n",
      "degree_t_Others            0.229700\n",
      "degree_t_Sci&Tech          0.440466\n",
      "workex_No                  0.481662\n",
      "workex_Yes                 0.481662\n",
      "specialisation_Mkt&Fin     0.499410\n",
      "specialisation_Mkt&HR      0.499410\n",
      "dtype: float64 ssc_p                     67.168667\n",
      "hsc_p                     66.481167\n",
      "degree_p                  66.201611\n",
      "etest_p                   71.917722\n",
      "mba_p                     62.177111\n",
      "gender_F                   0.366667\n",
      "gender_M                   0.633333\n",
      "ssc_b_Central              0.533333\n",
      "ssc_b_Others               0.466667\n",
      "hsc_b_Central              0.383333\n",
      "hsc_b_Others               0.616667\n",
      "hsc_s_Arts                 0.050000\n",
      "hsc_s_Commerce             0.527778\n",
      "hsc_s_Science              0.422222\n",
      "degree_t_Comm&Mgmt         0.683333\n",
      "degree_t_Others            0.055556\n",
      "degree_t_Sci&Tech          0.261111\n",
      "workex_No                  0.638889\n",
      "workex_Yes                 0.361111\n",
      "specialisation_Mkt&Fin     0.544444\n",
      "specialisation_Mkt&HR      0.455556\n",
      "dtype: float64\n"
     ]
    }
   ],
   "source": [
    "print(std,mean)"
   ]
  },
  {
   "cell_type": "code",
   "execution_count": 10,
   "metadata": {
    "papermill": {
     "duration": 0.050571,
     "end_time": "2020-09-27T09:59:07.354074",
     "exception": false,
     "start_time": "2020-09-27T09:59:07.303503",
     "status": "completed"
    },
    "tags": []
   },
   "outputs": [],
   "source": [
    "X_train = (X_train-mean)/std\n",
    "X_test = (X_test-mean)/std"
   ]
  },
  {
   "cell_type": "code",
   "execution_count": 11,
   "metadata": {
    "papermill": {
     "duration": 0.047702,
     "end_time": "2020-09-27T09:59:07.424686",
     "exception": false,
     "start_time": "2020-09-27T09:59:07.376984",
     "status": "completed"
    },
    "tags": []
   },
   "outputs": [
    {
     "data": {
      "text/html": [
       "<div>\n",
       "<style scoped>\n",
       "    .dataframe tbody tr th:only-of-type {\n",
       "        vertical-align: middle;\n",
       "    }\n",
       "\n",
       "    .dataframe tbody tr th {\n",
       "        vertical-align: top;\n",
       "    }\n",
       "\n",
       "    .dataframe thead th {\n",
       "        text-align: right;\n",
       "    }\n",
       "</style>\n",
       "<table border=\"1\" class=\"dataframe\">\n",
       "  <thead>\n",
       "    <tr style=\"text-align: right;\">\n",
       "      <th></th>\n",
       "      <th>ssc_p</th>\n",
       "      <th>hsc_p</th>\n",
       "      <th>degree_p</th>\n",
       "      <th>etest_p</th>\n",
       "      <th>mba_p</th>\n",
       "      <th>gender_F</th>\n",
       "      <th>gender_M</th>\n",
       "      <th>ssc_b_Central</th>\n",
       "      <th>ssc_b_Others</th>\n",
       "      <th>hsc_b_Central</th>\n",
       "      <th>...</th>\n",
       "      <th>hsc_s_Arts</th>\n",
       "      <th>hsc_s_Commerce</th>\n",
       "      <th>hsc_s_Science</th>\n",
       "      <th>degree_t_Comm&amp;Mgmt</th>\n",
       "      <th>degree_t_Others</th>\n",
       "      <th>degree_t_Sci&amp;Tech</th>\n",
       "      <th>workex_No</th>\n",
       "      <th>workex_Yes</th>\n",
       "      <th>specialisation_Mkt&amp;Fin</th>\n",
       "      <th>specialisation_Mkt&amp;HR</th>\n",
       "    </tr>\n",
       "    <tr>\n",
       "      <th>sl_no</th>\n",
       "      <th></th>\n",
       "      <th></th>\n",
       "      <th></th>\n",
       "      <th></th>\n",
       "      <th></th>\n",
       "      <th></th>\n",
       "      <th></th>\n",
       "      <th></th>\n",
       "      <th></th>\n",
       "      <th></th>\n",
       "      <th></th>\n",
       "      <th></th>\n",
       "      <th></th>\n",
       "      <th></th>\n",
       "      <th></th>\n",
       "      <th></th>\n",
       "      <th></th>\n",
       "      <th></th>\n",
       "      <th></th>\n",
       "      <th></th>\n",
       "      <th></th>\n",
       "    </tr>\n",
       "  </thead>\n",
       "  <tbody>\n",
       "    <tr>\n",
       "      <th>1</th>\n",
       "      <td>-0.015295</td>\n",
       "      <td>2.218124</td>\n",
       "      <td>-1.148830</td>\n",
       "      <td>-1.302329</td>\n",
       "      <td>-0.590705</td>\n",
       "      <td>-0.758769</td>\n",
       "      <td>0.758769</td>\n",
       "      <td>-1.066071</td>\n",
       "      <td>1.066071</td>\n",
       "      <td>-0.786237</td>\n",
       "      <td>...</td>\n",
       "      <td>-0.228778</td>\n",
       "      <td>0.943274</td>\n",
       "      <td>-0.852473</td>\n",
       "      <td>-1.464891</td>\n",
       "      <td>-0.241861</td>\n",
       "      <td>1.677518</td>\n",
       "      <td>0.749718</td>\n",
       "      <td>-0.749718</td>\n",
       "      <td>-1.090175</td>\n",
       "      <td>1.090175</td>\n",
       "    </tr>\n",
       "    <tr>\n",
       "      <th>160</th>\n",
       "      <td>-1.375547</td>\n",
       "      <td>-1.581454</td>\n",
       "      <td>-1.148830</td>\n",
       "      <td>-0.763468</td>\n",
       "      <td>-0.277608</td>\n",
       "      <td>-0.758769</td>\n",
       "      <td>0.758769</td>\n",
       "      <td>0.932812</td>\n",
       "      <td>-0.932812</td>\n",
       "      <td>-0.786237</td>\n",
       "      <td>...</td>\n",
       "      <td>-0.228778</td>\n",
       "      <td>0.943274</td>\n",
       "      <td>-0.852473</td>\n",
       "      <td>0.678852</td>\n",
       "      <td>-0.241861</td>\n",
       "      <td>-0.592807</td>\n",
       "      <td>0.749718</td>\n",
       "      <td>-0.749718</td>\n",
       "      <td>-1.090175</td>\n",
       "      <td>1.090175</td>\n",
       "    </tr>\n",
       "    <tr>\n",
       "      <th>149</th>\n",
       "      <td>0.891539</td>\n",
       "      <td>1.765794</td>\n",
       "      <td>-1.428978</td>\n",
       "      <td>-1.148368</td>\n",
       "      <td>0.332842</td>\n",
       "      <td>1.310602</td>\n",
       "      <td>-1.310602</td>\n",
       "      <td>0.932812</td>\n",
       "      <td>-0.932812</td>\n",
       "      <td>1.264816</td>\n",
       "      <td>...</td>\n",
       "      <td>4.346774</td>\n",
       "      <td>-1.054248</td>\n",
       "      <td>-0.852473</td>\n",
       "      <td>-1.464891</td>\n",
       "      <td>4.111637</td>\n",
       "      <td>-0.592807</td>\n",
       "      <td>0.749718</td>\n",
       "      <td>-0.749718</td>\n",
       "      <td>0.912188</td>\n",
       "      <td>-0.912188</td>\n",
       "    </tr>\n",
       "  </tbody>\n",
       "</table>\n",
       "<p>3 rows × 21 columns</p>\n",
       "</div>"
      ],
      "text/plain": [
       "          ssc_p     hsc_p  degree_p   etest_p     mba_p  gender_F  gender_M  \\\n",
       "sl_no                                                                         \n",
       "1     -0.015295  2.218124 -1.148830 -1.302329 -0.590705 -0.758769  0.758769   \n",
       "160   -1.375547 -1.581454 -1.148830 -0.763468 -0.277608 -0.758769  0.758769   \n",
       "149    0.891539  1.765794 -1.428978 -1.148368  0.332842  1.310602 -1.310602   \n",
       "\n",
       "       ssc_b_Central  ssc_b_Others  hsc_b_Central  ...  hsc_s_Arts  \\\n",
       "sl_no                                              ...               \n",
       "1          -1.066071      1.066071      -0.786237  ...   -0.228778   \n",
       "160         0.932812     -0.932812      -0.786237  ...   -0.228778   \n",
       "149         0.932812     -0.932812       1.264816  ...    4.346774   \n",
       "\n",
       "       hsc_s_Commerce  hsc_s_Science  degree_t_Comm&Mgmt  degree_t_Others  \\\n",
       "sl_no                                                                       \n",
       "1            0.943274      -0.852473           -1.464891        -0.241861   \n",
       "160          0.943274      -0.852473            0.678852        -0.241861   \n",
       "149         -1.054248      -0.852473           -1.464891         4.111637   \n",
       "\n",
       "       degree_t_Sci&Tech  workex_No  workex_Yes  specialisation_Mkt&Fin  \\\n",
       "sl_no                                                                     \n",
       "1               1.677518   0.749718   -0.749718               -1.090175   \n",
       "160            -0.592807   0.749718   -0.749718               -1.090175   \n",
       "149            -0.592807   0.749718   -0.749718                0.912188   \n",
       "\n",
       "       specialisation_Mkt&HR  \n",
       "sl_no                         \n",
       "1                   1.090175  \n",
       "160                 1.090175  \n",
       "149                -0.912188  \n",
       "\n",
       "[3 rows x 21 columns]"
      ]
     },
     "execution_count": 11,
     "metadata": {},
     "output_type": "execute_result"
    }
   ],
   "source": [
    "X_train.head(3)"
   ]
  },
  {
   "cell_type": "markdown",
   "metadata": {
    "papermill": {
     "duration": 0.022088,
     "end_time": "2020-09-27T09:59:07.469569",
     "exception": false,
     "start_time": "2020-09-27T09:59:07.447481",
     "status": "completed"
    },
    "tags": []
   },
   "source": [
    "# **Model Selection**"
   ]
  },
  {
   "cell_type": "code",
   "execution_count": 12,
   "metadata": {
    "papermill": {
     "duration": 1.251329,
     "end_time": "2020-09-27T09:59:08.743301",
     "exception": false,
     "start_time": "2020-09-27T09:59:07.491972",
     "status": "completed"
    },
    "tags": []
   },
   "outputs": [
    {
     "data": {
      "text/html": [
       "<div>\n",
       "<style scoped>\n",
       "    .dataframe tbody tr th:only-of-type {\n",
       "        vertical-align: middle;\n",
       "    }\n",
       "\n",
       "    .dataframe tbody tr th {\n",
       "        vertical-align: top;\n",
       "    }\n",
       "\n",
       "    .dataframe thead th {\n",
       "        text-align: right;\n",
       "    }\n",
       "</style>\n",
       "<table border=\"1\" class=\"dataframe\">\n",
       "  <thead>\n",
       "    <tr style=\"text-align: right;\">\n",
       "      <th></th>\n",
       "      <th>model</th>\n",
       "      <th>score</th>\n",
       "      <th>std</th>\n",
       "      <th>Time to Train</th>\n",
       "    </tr>\n",
       "  </thead>\n",
       "  <tbody>\n",
       "    <tr>\n",
       "      <th>5</th>\n",
       "      <td>Random Forest</td>\n",
       "      <td>0.855556</td>\n",
       "      <td>0.032394</td>\n",
       "      <td>0.816696</td>\n",
       "    </tr>\n",
       "    <tr>\n",
       "      <th>3</th>\n",
       "      <td>Linear SVC</td>\n",
       "      <td>0.850000</td>\n",
       "      <td>0.062361</td>\n",
       "      <td>0.047086</td>\n",
       "    </tr>\n",
       "    <tr>\n",
       "      <th>1</th>\n",
       "      <td>Logistic Regression</td>\n",
       "      <td>0.844444</td>\n",
       "      <td>0.057198</td>\n",
       "      <td>0.043834</td>\n",
       "    </tr>\n",
       "    <tr>\n",
       "      <th>2</th>\n",
       "      <td>Support Vector Machine</td>\n",
       "      <td>0.822222</td>\n",
       "      <td>0.064788</td>\n",
       "      <td>0.023103</td>\n",
       "    </tr>\n",
       "    <tr>\n",
       "      <th>8</th>\n",
       "      <td>XGBoost</td>\n",
       "      <td>0.822222</td>\n",
       "      <td>0.051520</td>\n",
       "      <td>0.175759</td>\n",
       "    </tr>\n",
       "    <tr>\n",
       "      <th>4</th>\n",
       "      <td>Decison Tree</td>\n",
       "      <td>0.811111</td>\n",
       "      <td>0.064310</td>\n",
       "      <td>0.017130</td>\n",
       "    </tr>\n",
       "    <tr>\n",
       "      <th>7</th>\n",
       "      <td>SGD Classifier</td>\n",
       "      <td>0.811111</td>\n",
       "      <td>0.040825</td>\n",
       "      <td>0.017617</td>\n",
       "    </tr>\n",
       "    <tr>\n",
       "      <th>0</th>\n",
       "      <td>Naive Bayes</td>\n",
       "      <td>0.794444</td>\n",
       "      <td>0.054433</td>\n",
       "      <td>0.019655</td>\n",
       "    </tr>\n",
       "    <tr>\n",
       "      <th>6</th>\n",
       "      <td>KNN</td>\n",
       "      <td>0.750000</td>\n",
       "      <td>0.039284</td>\n",
       "      <td>0.027763</td>\n",
       "    </tr>\n",
       "  </tbody>\n",
       "</table>\n",
       "</div>"
      ],
      "text/plain": [
       "                    model     score       std  Time to Train\n",
       "5           Random Forest  0.855556  0.032394       0.816696\n",
       "3              Linear SVC  0.850000  0.062361       0.047086\n",
       "1     Logistic Regression  0.844444  0.057198       0.043834\n",
       "2  Support Vector Machine  0.822222  0.064788       0.023103\n",
       "8                 XGBoost  0.822222  0.051520       0.175759\n",
       "4            Decison Tree  0.811111  0.064310       0.017130\n",
       "7          SGD Classifier  0.811111  0.040825       0.017617\n",
       "0             Naive Bayes  0.794444  0.054433       0.019655\n",
       "6                     KNN  0.750000  0.039284       0.027763"
      ]
     },
     "execution_count": 12,
     "metadata": {},
     "output_type": "execute_result"
    }
   ],
   "source": [
    "\n",
    "\n",
    "models = pd.DataFrame(columns=['model', 'score', 'std','Time to Train']) #DataFrame to store scores of all models\n",
    "\n",
    "options = [GaussianNB(), \n",
    "           LogisticRegression(), \n",
    "           SVC(), \n",
    "           LinearSVC(), \n",
    "           DecisionTreeClassifier(), \n",
    "           RandomForestClassifier(), \n",
    "           KNeighborsClassifier(), \n",
    "           SGDClassifier(), \n",
    "           XGBClassifier()]   \n",
    "\n",
    "model_names = ['Naive Bayes', \n",
    "               'Logistic Regression', \n",
    "               'Support Vector Machine', \n",
    "               'Linear SVC', \n",
    "               'Decison Tree',\n",
    "               'Random Forest',\n",
    "               'KNN', \n",
    "               'SGD Classifier',\n",
    "               'XGBoost']  \n",
    "\n",
    "for (opt, name) in zip(options, model_names):\n",
    "    start=time.time()\n",
    "    model = opt\n",
    "    model.fit(X_train, y_train)\n",
    "    \n",
    "    scores = cross_val_score(model, X_train, y_train, cv = 5, scoring=\"accuracy\")\n",
    "    end=time.time()\n",
    "    row = pd.DataFrame([[name, scores.mean(), scores.std(), end-start]], columns=['model', 'score', 'std','Time to Train'])\n",
    "    models = pd.concat([models, row], ignore_index=True)\n",
    "\n",
    "models.sort_values(by='score', ascending=False)"
   ]
  },
  {
   "cell_type": "markdown",
   "metadata": {
    "papermill": {
     "duration": 0.038059,
     "end_time": "2020-09-27T09:59:08.815059",
     "exception": false,
     "start_time": "2020-09-27T09:59:08.777000",
     "status": "completed"
    },
    "tags": []
   },
   "source": [
    "1. Random Forest is the best model on the basis of accuracy\n",
    "2. Std deviation of Random Forest classifier is the best among all as well."
   ]
  },
  {
   "cell_type": "code",
   "execution_count": 13,
   "metadata": {
    "papermill": {
     "duration": 0.221988,
     "end_time": "2020-09-27T09:59:09.070848",
     "exception": false,
     "start_time": "2020-09-27T09:59:08.848860",
     "status": "completed"
    },
    "tags": []
   },
   "outputs": [
    {
     "name": "stdout",
     "output_type": "stream",
     "text": [
      "OOB Score:  0.8611111111111112\n"
     ]
    }
   ],
   "source": [
    "rf = RandomForestClassifier(random_state = 3, oob_score=True)\n",
    "rf.fit(X_train, y_train)\n",
    "print(\"OOB Score: \", rf.oob_score_)"
   ]
  },
  {
   "cell_type": "markdown",
   "metadata": {
    "papermill": {
     "duration": 0.022158,
     "end_time": "2020-09-27T09:59:09.115591",
     "exception": false,
     "start_time": "2020-09-27T09:59:09.093433",
     "status": "completed"
    },
    "tags": []
   },
   "source": [
    "# **Feature Engineering**"
   ]
  },
  {
   "cell_type": "code",
   "execution_count": 14,
   "metadata": {
    "papermill": {
     "duration": 0.169977,
     "end_time": "2020-09-27T09:59:09.307837",
     "exception": false,
     "start_time": "2020-09-27T09:59:09.137860",
     "status": "completed"
    },
    "tags": []
   },
   "outputs": [
    {
     "data": {
      "text/plain": [
       "RandomForestClassifier(bootstrap=True, ccp_alpha=0.0, class_weight=None,\n",
       "                       criterion='gini', max_depth=None, max_features='auto',\n",
       "                       max_leaf_nodes=None, max_samples=None,\n",
       "                       min_impurity_decrease=0.0, min_impurity_split=None,\n",
       "                       min_samples_leaf=1, min_samples_split=2,\n",
       "                       min_weight_fraction_leaf=0.0, n_estimators=100,\n",
       "                       n_jobs=None, oob_score=False, random_state=3, verbose=0,\n",
       "                       warm_start=False)"
      ]
     },
     "execution_count": 14,
     "metadata": {},
     "output_type": "execute_result"
    }
   ],
   "source": [
    "model = RandomForestClassifier(random_state = 3)\n",
    "model.fit(X_train, y_train)"
   ]
  },
  {
   "cell_type": "code",
   "execution_count": 15,
   "metadata": {
    "papermill": {
     "duration": 2.982021,
     "end_time": "2020-09-27T09:59:12.312474",
     "exception": false,
     "start_time": "2020-09-27T09:59:09.330453",
     "status": "completed"
    },
    "tags": []
   },
   "outputs": [
    {
     "name": "stdout",
     "output_type": "stream",
     "text": [
      "Fitting estimator with 21 features.\n",
      "Fitting estimator with 20 features.\n",
      "Fitting estimator with 19 features.\n",
      "Fitting estimator with 18 features.\n",
      "Fitting estimator with 17 features.\n",
      "Fitting estimator with 16 features.\n",
      "Fitting estimator with 15 features.\n",
      "Fitting estimator with 14 features.\n",
      "Fitting estimator with 13 features.\n",
      "Fitting estimator with 12 features.\n",
      "Fitting estimator with 11 features.\n",
      "Fitting estimator with 10 features.\n",
      "Fitting estimator with 9 features.\n",
      "Fitting estimator with 8 features.\n",
      "Fitting estimator with 7 features.\n",
      "Fitting estimator with 6 features.\n",
      "Fitting estimator with 5 features.\n",
      "Fitting estimator with 4 features.\n",
      "Fitting estimator with 3 features.\n",
      "Fitting estimator with 2 features.\n"
     ]
    },
    {
     "data": {
      "text/html": [
       "<div>\n",
       "<style scoped>\n",
       "    .dataframe tbody tr th:only-of-type {\n",
       "        vertical-align: middle;\n",
       "    }\n",
       "\n",
       "    .dataframe tbody tr th {\n",
       "        vertical-align: top;\n",
       "    }\n",
       "\n",
       "    .dataframe thead th {\n",
       "        text-align: right;\n",
       "    }\n",
       "</style>\n",
       "<table border=\"1\" class=\"dataframe\">\n",
       "  <thead>\n",
       "    <tr style=\"text-align: right;\">\n",
       "      <th></th>\n",
       "      <th>feature</th>\n",
       "      <th>rank1</th>\n",
       "    </tr>\n",
       "  </thead>\n",
       "  <tbody>\n",
       "    <tr>\n",
       "      <th>0</th>\n",
       "      <td>ssc_p</td>\n",
       "      <td>1</td>\n",
       "    </tr>\n",
       "    <tr>\n",
       "      <th>1</th>\n",
       "      <td>hsc_p</td>\n",
       "      <td>2</td>\n",
       "    </tr>\n",
       "    <tr>\n",
       "      <th>4</th>\n",
       "      <td>mba_p</td>\n",
       "      <td>3</td>\n",
       "    </tr>\n",
       "    <tr>\n",
       "      <th>2</th>\n",
       "      <td>degree_p</td>\n",
       "      <td>4</td>\n",
       "    </tr>\n",
       "    <tr>\n",
       "      <th>3</th>\n",
       "      <td>etest_p</td>\n",
       "      <td>5</td>\n",
       "    </tr>\n",
       "    <tr>\n",
       "      <th>20</th>\n",
       "      <td>specialisation_Mkt&amp;HR</td>\n",
       "      <td>6</td>\n",
       "    </tr>\n",
       "    <tr>\n",
       "      <th>18</th>\n",
       "      <td>workex_Yes</td>\n",
       "      <td>7</td>\n",
       "    </tr>\n",
       "    <tr>\n",
       "      <th>17</th>\n",
       "      <td>workex_No</td>\n",
       "      <td>8</td>\n",
       "    </tr>\n",
       "    <tr>\n",
       "      <th>5</th>\n",
       "      <td>gender_F</td>\n",
       "      <td>9</td>\n",
       "    </tr>\n",
       "    <tr>\n",
       "      <th>19</th>\n",
       "      <td>specialisation_Mkt&amp;Fin</td>\n",
       "      <td>10</td>\n",
       "    </tr>\n",
       "    <tr>\n",
       "      <th>7</th>\n",
       "      <td>ssc_b_Central</td>\n",
       "      <td>11</td>\n",
       "    </tr>\n",
       "    <tr>\n",
       "      <th>13</th>\n",
       "      <td>hsc_s_Science</td>\n",
       "      <td>12</td>\n",
       "    </tr>\n",
       "    <tr>\n",
       "      <th>14</th>\n",
       "      <td>degree_t_Comm&amp;Mgmt</td>\n",
       "      <td>13</td>\n",
       "    </tr>\n",
       "    <tr>\n",
       "      <th>6</th>\n",
       "      <td>gender_M</td>\n",
       "      <td>14</td>\n",
       "    </tr>\n",
       "    <tr>\n",
       "      <th>10</th>\n",
       "      <td>hsc_b_Others</td>\n",
       "      <td>15</td>\n",
       "    </tr>\n",
       "    <tr>\n",
       "      <th>8</th>\n",
       "      <td>ssc_b_Others</td>\n",
       "      <td>16</td>\n",
       "    </tr>\n",
       "    <tr>\n",
       "      <th>12</th>\n",
       "      <td>hsc_s_Commerce</td>\n",
       "      <td>17</td>\n",
       "    </tr>\n",
       "    <tr>\n",
       "      <th>16</th>\n",
       "      <td>degree_t_Sci&amp;Tech</td>\n",
       "      <td>18</td>\n",
       "    </tr>\n",
       "    <tr>\n",
       "      <th>9</th>\n",
       "      <td>hsc_b_Central</td>\n",
       "      <td>19</td>\n",
       "    </tr>\n",
       "    <tr>\n",
       "      <th>11</th>\n",
       "      <td>hsc_s_Arts</td>\n",
       "      <td>20</td>\n",
       "    </tr>\n",
       "    <tr>\n",
       "      <th>15</th>\n",
       "      <td>degree_t_Others</td>\n",
       "      <td>21</td>\n",
       "    </tr>\n",
       "  </tbody>\n",
       "</table>\n",
       "</div>"
      ],
      "text/plain": [
       "                   feature  rank1\n",
       "0                    ssc_p      1\n",
       "1                    hsc_p      2\n",
       "4                    mba_p      3\n",
       "2                 degree_p      4\n",
       "3                  etest_p      5\n",
       "20   specialisation_Mkt&HR      6\n",
       "18              workex_Yes      7\n",
       "17               workex_No      8\n",
       "5                 gender_F      9\n",
       "19  specialisation_Mkt&Fin     10\n",
       "7            ssc_b_Central     11\n",
       "13           hsc_s_Science     12\n",
       "14      degree_t_Comm&Mgmt     13\n",
       "6                 gender_M     14\n",
       "10            hsc_b_Others     15\n",
       "8             ssc_b_Others     16\n",
       "12          hsc_s_Commerce     17\n",
       "16       degree_t_Sci&Tech     18\n",
       "9            hsc_b_Central     19\n",
       "11              hsc_s_Arts     20\n",
       "15         degree_t_Others     21"
      ]
     },
     "execution_count": 15,
     "metadata": {},
     "output_type": "execute_result"
    }
   ],
   "source": [
    "rfe = RFE(model, n_features_to_select=1, verbose =3)\n",
    "rfe.fit(X_train,y_train)\n",
    "\n",
    "imp1 = pd.DataFrame({'feature':X_train.columns, 'rank1':rfe.ranking_})\n",
    "imp1 = imp1.sort_values(by = 'rank1')\n",
    "imp1"
   ]
  },
  {
   "cell_type": "code",
   "execution_count": 16,
   "metadata": {
    "papermill": {
     "duration": 0.054101,
     "end_time": "2020-09-27T09:59:12.391685",
     "exception": false,
     "start_time": "2020-09-27T09:59:12.337584",
     "status": "completed"
    },
    "tags": []
   },
   "outputs": [
    {
     "data": {
      "text/html": [
       "<div>\n",
       "<style scoped>\n",
       "    .dataframe tbody tr th:only-of-type {\n",
       "        vertical-align: middle;\n",
       "    }\n",
       "\n",
       "    .dataframe tbody tr th {\n",
       "        vertical-align: top;\n",
       "    }\n",
       "\n",
       "    .dataframe thead th {\n",
       "        text-align: right;\n",
       "    }\n",
       "</style>\n",
       "<table border=\"1\" class=\"dataframe\">\n",
       "  <thead>\n",
       "    <tr style=\"text-align: right;\">\n",
       "      <th></th>\n",
       "      <th>featur</th>\n",
       "      <th>importance</th>\n",
       "      <th>rank2</th>\n",
       "    </tr>\n",
       "  </thead>\n",
       "  <tbody>\n",
       "    <tr>\n",
       "      <th>0</th>\n",
       "      <td>ssc_p</td>\n",
       "      <td>0.291</td>\n",
       "      <td>1.0</td>\n",
       "    </tr>\n",
       "    <tr>\n",
       "      <th>1</th>\n",
       "      <td>hsc_p</td>\n",
       "      <td>0.169</td>\n",
       "      <td>2.0</td>\n",
       "    </tr>\n",
       "    <tr>\n",
       "      <th>2</th>\n",
       "      <td>degree_p</td>\n",
       "      <td>0.152</td>\n",
       "      <td>3.0</td>\n",
       "    </tr>\n",
       "    <tr>\n",
       "      <th>4</th>\n",
       "      <td>mba_p</td>\n",
       "      <td>0.092</td>\n",
       "      <td>4.0</td>\n",
       "    </tr>\n",
       "    <tr>\n",
       "      <th>3</th>\n",
       "      <td>etest_p</td>\n",
       "      <td>0.086</td>\n",
       "      <td>5.0</td>\n",
       "    </tr>\n",
       "    <tr>\n",
       "      <th>19</th>\n",
       "      <td>specialisation_Mkt&amp;Fin</td>\n",
       "      <td>0.019</td>\n",
       "      <td>6.0</td>\n",
       "    </tr>\n",
       "    <tr>\n",
       "      <th>18</th>\n",
       "      <td>workex_Yes</td>\n",
       "      <td>0.019</td>\n",
       "      <td>6.0</td>\n",
       "    </tr>\n",
       "    <tr>\n",
       "      <th>20</th>\n",
       "      <td>specialisation_Mkt&amp;HR</td>\n",
       "      <td>0.019</td>\n",
       "      <td>6.0</td>\n",
       "    </tr>\n",
       "    <tr>\n",
       "      <th>17</th>\n",
       "      <td>workex_No</td>\n",
       "      <td>0.018</td>\n",
       "      <td>9.0</td>\n",
       "    </tr>\n",
       "    <tr>\n",
       "      <th>7</th>\n",
       "      <td>ssc_b_Central</td>\n",
       "      <td>0.016</td>\n",
       "      <td>10.0</td>\n",
       "    </tr>\n",
       "    <tr>\n",
       "      <th>6</th>\n",
       "      <td>gender_M</td>\n",
       "      <td>0.015</td>\n",
       "      <td>11.0</td>\n",
       "    </tr>\n",
       "    <tr>\n",
       "      <th>12</th>\n",
       "      <td>hsc_s_Commerce</td>\n",
       "      <td>0.014</td>\n",
       "      <td>12.0</td>\n",
       "    </tr>\n",
       "    <tr>\n",
       "      <th>5</th>\n",
       "      <td>gender_F</td>\n",
       "      <td>0.013</td>\n",
       "      <td>13.0</td>\n",
       "    </tr>\n",
       "    <tr>\n",
       "      <th>8</th>\n",
       "      <td>ssc_b_Others</td>\n",
       "      <td>0.012</td>\n",
       "      <td>14.0</td>\n",
       "    </tr>\n",
       "    <tr>\n",
       "      <th>9</th>\n",
       "      <td>hsc_b_Central</td>\n",
       "      <td>0.011</td>\n",
       "      <td>15.0</td>\n",
       "    </tr>\n",
       "    <tr>\n",
       "      <th>10</th>\n",
       "      <td>hsc_b_Others</td>\n",
       "      <td>0.011</td>\n",
       "      <td>15.0</td>\n",
       "    </tr>\n",
       "    <tr>\n",
       "      <th>13</th>\n",
       "      <td>hsc_s_Science</td>\n",
       "      <td>0.010</td>\n",
       "      <td>17.0</td>\n",
       "    </tr>\n",
       "    <tr>\n",
       "      <th>14</th>\n",
       "      <td>degree_t_Comm&amp;Mgmt</td>\n",
       "      <td>0.010</td>\n",
       "      <td>17.0</td>\n",
       "    </tr>\n",
       "    <tr>\n",
       "      <th>16</th>\n",
       "      <td>degree_t_Sci&amp;Tech</td>\n",
       "      <td>0.010</td>\n",
       "      <td>17.0</td>\n",
       "    </tr>\n",
       "    <tr>\n",
       "      <th>11</th>\n",
       "      <td>hsc_s_Arts</td>\n",
       "      <td>0.009</td>\n",
       "      <td>20.0</td>\n",
       "    </tr>\n",
       "    <tr>\n",
       "      <th>15</th>\n",
       "      <td>degree_t_Others</td>\n",
       "      <td>0.004</td>\n",
       "      <td>21.0</td>\n",
       "    </tr>\n",
       "  </tbody>\n",
       "</table>\n",
       "</div>"
      ],
      "text/plain": [
       "                    featur  importance  rank2\n",
       "0                    ssc_p       0.291    1.0\n",
       "1                    hsc_p       0.169    2.0\n",
       "2                 degree_p       0.152    3.0\n",
       "4                    mba_p       0.092    4.0\n",
       "3                  etest_p       0.086    5.0\n",
       "19  specialisation_Mkt&Fin       0.019    6.0\n",
       "18              workex_Yes       0.019    6.0\n",
       "20   specialisation_Mkt&HR       0.019    6.0\n",
       "17               workex_No       0.018    9.0\n",
       "7            ssc_b_Central       0.016   10.0\n",
       "6                 gender_M       0.015   11.0\n",
       "12          hsc_s_Commerce       0.014   12.0\n",
       "5                 gender_F       0.013   13.0\n",
       "8             ssc_b_Others       0.012   14.0\n",
       "9            hsc_b_Central       0.011   15.0\n",
       "10            hsc_b_Others       0.011   15.0\n",
       "13           hsc_s_Science       0.010   17.0\n",
       "14      degree_t_Comm&Mgmt       0.010   17.0\n",
       "16       degree_t_Sci&Tech       0.010   17.0\n",
       "11              hsc_s_Arts       0.009   20.0\n",
       "15         degree_t_Others       0.004   21.0"
      ]
     },
     "execution_count": 16,
     "metadata": {},
     "output_type": "execute_result"
    }
   ],
   "source": [
    "imp2= pd.DataFrame({'featur':X_train.columns, 'importance':np.round(model.feature_importances_, 3)})\n",
    "imp2['rank2'] = imp2['importance'].rank(ascending=False, method='min')\n",
    "imp2 = imp2.sort_values(by = 'importance', ascending=False)\n",
    "imp2"
   ]
  },
  {
   "cell_type": "markdown",
   "metadata": {
    "papermill": {
     "duration": 0.025317,
     "end_time": "2020-09-27T09:59:12.442571",
     "exception": false,
     "start_time": "2020-09-27T09:59:12.417254",
     "status": "completed"
    },
    "tags": []
   },
   "source": [
    "* We will combine the above two feature importances and sort on the basis or rank."
   ]
  },
  {
   "cell_type": "code",
   "execution_count": 17,
   "metadata": {
    "papermill": {
     "duration": 0.049241,
     "end_time": "2020-09-27T09:59:12.517701",
     "exception": false,
     "start_time": "2020-09-27T09:59:12.468460",
     "status": "completed"
    },
    "tags": []
   },
   "outputs": [
    {
     "data": {
      "text/html": [
       "<div>\n",
       "<style scoped>\n",
       "    .dataframe tbody tr th:only-of-type {\n",
       "        vertical-align: middle;\n",
       "    }\n",
       "\n",
       "    .dataframe tbody tr th {\n",
       "        vertical-align: top;\n",
       "    }\n",
       "\n",
       "    .dataframe thead th {\n",
       "        text-align: right;\n",
       "    }\n",
       "</style>\n",
       "<table border=\"1\" class=\"dataframe\">\n",
       "  <thead>\n",
       "    <tr style=\"text-align: right;\">\n",
       "      <th></th>\n",
       "      <th>feature</th>\n",
       "      <th>rank</th>\n",
       "    </tr>\n",
       "  </thead>\n",
       "  <tbody>\n",
       "    <tr>\n",
       "      <th>0</th>\n",
       "      <td>ssc_p</td>\n",
       "      <td>2.0</td>\n",
       "    </tr>\n",
       "    <tr>\n",
       "      <th>1</th>\n",
       "      <td>hsc_p</td>\n",
       "      <td>4.0</td>\n",
       "    </tr>\n",
       "    <tr>\n",
       "      <th>2</th>\n",
       "      <td>degree_p</td>\n",
       "      <td>7.0</td>\n",
       "    </tr>\n",
       "    <tr>\n",
       "      <th>4</th>\n",
       "      <td>mba_p</td>\n",
       "      <td>7.0</td>\n",
       "    </tr>\n",
       "    <tr>\n",
       "      <th>3</th>\n",
       "      <td>etest_p</td>\n",
       "      <td>10.0</td>\n",
       "    </tr>\n",
       "    <tr>\n",
       "      <th>20</th>\n",
       "      <td>specialisation_Mkt&amp;HR</td>\n",
       "      <td>12.0</td>\n",
       "    </tr>\n",
       "    <tr>\n",
       "      <th>18</th>\n",
       "      <td>workex_Yes</td>\n",
       "      <td>13.0</td>\n",
       "    </tr>\n",
       "    <tr>\n",
       "      <th>19</th>\n",
       "      <td>specialisation_Mkt&amp;Fin</td>\n",
       "      <td>16.0</td>\n",
       "    </tr>\n",
       "    <tr>\n",
       "      <th>17</th>\n",
       "      <td>workex_No</td>\n",
       "      <td>17.0</td>\n",
       "    </tr>\n",
       "    <tr>\n",
       "      <th>7</th>\n",
       "      <td>ssc_b_Central</td>\n",
       "      <td>21.0</td>\n",
       "    </tr>\n",
       "    <tr>\n",
       "      <th>5</th>\n",
       "      <td>gender_F</td>\n",
       "      <td>22.0</td>\n",
       "    </tr>\n",
       "    <tr>\n",
       "      <th>6</th>\n",
       "      <td>gender_M</td>\n",
       "      <td>25.0</td>\n",
       "    </tr>\n",
       "    <tr>\n",
       "      <th>12</th>\n",
       "      <td>hsc_s_Commerce</td>\n",
       "      <td>29.0</td>\n",
       "    </tr>\n",
       "    <tr>\n",
       "      <th>13</th>\n",
       "      <td>hsc_s_Science</td>\n",
       "      <td>29.0</td>\n",
       "    </tr>\n",
       "    <tr>\n",
       "      <th>8</th>\n",
       "      <td>ssc_b_Others</td>\n",
       "      <td>30.0</td>\n",
       "    </tr>\n",
       "    <tr>\n",
       "      <th>14</th>\n",
       "      <td>degree_t_Comm&amp;Mgmt</td>\n",
       "      <td>30.0</td>\n",
       "    </tr>\n",
       "    <tr>\n",
       "      <th>10</th>\n",
       "      <td>hsc_b_Others</td>\n",
       "      <td>30.0</td>\n",
       "    </tr>\n",
       "    <tr>\n",
       "      <th>9</th>\n",
       "      <td>hsc_b_Central</td>\n",
       "      <td>34.0</td>\n",
       "    </tr>\n",
       "    <tr>\n",
       "      <th>16</th>\n",
       "      <td>degree_t_Sci&amp;Tech</td>\n",
       "      <td>35.0</td>\n",
       "    </tr>\n",
       "    <tr>\n",
       "      <th>11</th>\n",
       "      <td>hsc_s_Arts</td>\n",
       "      <td>40.0</td>\n",
       "    </tr>\n",
       "    <tr>\n",
       "      <th>15</th>\n",
       "      <td>degree_t_Others</td>\n",
       "      <td>42.0</td>\n",
       "    </tr>\n",
       "  </tbody>\n",
       "</table>\n",
       "</div>"
      ],
      "text/plain": [
       "                   feature  rank\n",
       "0                    ssc_p   2.0\n",
       "1                    hsc_p   4.0\n",
       "2                 degree_p   7.0\n",
       "4                    mba_p   7.0\n",
       "3                  etest_p  10.0\n",
       "20   specialisation_Mkt&HR  12.0\n",
       "18              workex_Yes  13.0\n",
       "19  specialisation_Mkt&Fin  16.0\n",
       "17               workex_No  17.0\n",
       "7            ssc_b_Central  21.0\n",
       "5                 gender_F  22.0\n",
       "6                 gender_M  25.0\n",
       "12          hsc_s_Commerce  29.0\n",
       "13           hsc_s_Science  29.0\n",
       "8             ssc_b_Others  30.0\n",
       "14      degree_t_Comm&Mgmt  30.0\n",
       "10            hsc_b_Others  30.0\n",
       "9            hsc_b_Central  34.0\n",
       "16       degree_t_Sci&Tech  35.0\n",
       "11              hsc_s_Arts  40.0\n",
       "15         degree_t_Others  42.0"
      ]
     },
     "execution_count": 17,
     "metadata": {},
     "output_type": "execute_result"
    }
   ],
   "source": [
    "# importances['rank']=importances2['rank'].values\n",
    "# importances=importances.sort_values('rank')\n",
    "# importances\n",
    "\n",
    "imp = pd.concat([imp1, imp2], axis=1)\n",
    "imp['rank'] = imp['rank1'] + imp['rank2']\n",
    "imp = imp.sort_values(by = 'rank')\n",
    "imp = imp.drop(['featur', 'importance', 'rank1', 'rank2'], axis=1)\n",
    "imp"
   ]
  },
  {
   "cell_type": "code",
   "execution_count": 18,
   "metadata": {
    "papermill": {
     "duration": 0.035587,
     "end_time": "2020-09-27T09:59:12.579654",
     "exception": false,
     "start_time": "2020-09-27T09:59:12.544067",
     "status": "completed"
    },
    "tags": []
   },
   "outputs": [],
   "source": [
    "X_temp = X_train[imp.feature]"
   ]
  },
  {
   "cell_type": "markdown",
   "metadata": {
    "papermill": {
     "duration": 0.026329,
     "end_time": "2020-09-27T09:59:12.632684",
     "exception": false,
     "start_time": "2020-09-27T09:59:12.606355",
     "status": "completed"
    },
    "tags": []
   },
   "source": [
    "* Determing optimal number of features"
   ]
  },
  {
   "cell_type": "code",
   "execution_count": 19,
   "metadata": {
    "papermill": {
     "duration": 28.215044,
     "end_time": "2020-09-27T09:59:40.875544",
     "exception": false,
     "start_time": "2020-09-27T09:59:12.660500",
     "status": "completed"
    },
    "tags": []
   },
   "outputs": [
    {
     "name": "stdout",
     "output_type": "stream",
     "text": [
      "0  :  0.783 0.079\n",
      "1  :  0.822 0.022\n",
      "2  :  0.856 0.054\n",
      "3  :  0.872 0.028\n",
      "4  :  0.867 0.032\n",
      "5  :  0.872 0.028\n",
      "6  :  0.878 0.045\n",
      "7  :  0.883 0.054\n",
      "8  :  0.889 0.053\n",
      "9  :  0.872 0.038\n",
      "10  :  0.867 0.041\n",
      "11  :  0.878 0.048\n",
      "12  :  0.878 0.042\n",
      "13  :  0.867 0.032\n",
      "14  :  0.872 0.042\n",
      "15  :  0.861 0.035\n",
      "16  :  0.872 0.038\n",
      "17  :  0.85 0.028\n",
      "18  :  0.85 0.033\n",
      "19  :  0.872 0.028\n",
      "20  :  0.85 0.033\n",
      "21  :  0.85 0.033\n"
     ]
    }
   ],
   "source": [
    "features = [i for i in range(22)]\n",
    "results = []\n",
    "\n",
    "for i in features:\n",
    "    rf = RandomForestClassifier(n_jobs=-1, random_state=3)\n",
    "    cols = X_temp.columns[:i+1]\n",
    "    X_t = X_temp[cols]\n",
    "    scores = cross_val_score(rf, X_t, y_train, cv = 5, scoring=\"accuracy\")\n",
    "    results.append(scores.mean())\n",
    "    print(i, \" : \", np.round(scores.mean(),3), np.round(scores.std(),3))"
   ]
  },
  {
   "cell_type": "code",
   "execution_count": 20,
   "metadata": {
    "papermill": {
     "duration": 0.3482,
     "end_time": "2020-09-27T09:59:41.255091",
     "exception": false,
     "start_time": "2020-09-27T09:59:40.906891",
     "status": "completed"
    },
    "tags": []
   },
   "outputs": [
    {
     "data": {
      "text/plain": [
       "<matplotlib.axes._subplots.AxesSubplot at 0x7f4b4c16d9d0>"
      ]
     },
     "execution_count": 20,
     "metadata": {},
     "output_type": "execute_result"
    },
    {
     "data": {
      "image/png": "[encoded data removed]",
      "text/plain": [
       "<Figure size 864x432 with 1 Axes>"
      ]
     },
     "metadata": {
      "needs_background": "light"
     },
     "output_type": "display_data"
    }
   ],
   "source": [
    "fig, ax = plt.subplots(figsize=(12,6))\n",
    "\n",
    "ax.minorticks_on()\n",
    "\n",
    "# Customize the major grid\n",
    "ax.grid(which='major', linestyle='-', linewidth='0.5', color='red')\n",
    "# Customize the minor grid\n",
    "ax.grid(which='minor', linestyle=':', linewidth='0.5', color='black')\n",
    "\n",
    "sns.lineplot(y = results, x = features)"
   ]
  },
  {
   "cell_type": "markdown",
   "metadata": {
    "papermill": {
     "duration": 0.032052,
     "end_time": "2020-09-27T09:59:41.319635",
     "exception": false,
     "start_time": "2020-09-27T09:59:41.287583",
     "status": "completed"
    },
    "tags": []
   },
   "source": [
    "* Optimal number of features comes out to be 8\n",
    "* Making dataset using the optimal number of features"
   ]
  },
  {
   "cell_type": "code",
   "execution_count": 21,
   "metadata": {
    "papermill": {
     "duration": 0.052392,
     "end_time": "2020-09-27T09:59:41.404882",
     "exception": false,
     "start_time": "2020-09-27T09:59:41.352490",
     "status": "completed"
    },
    "tags": []
   },
   "outputs": [
    {
     "data": {
      "text/html": [
       "<div>\n",
       "<style scoped>\n",
       "    .dataframe tbody tr th:only-of-type {\n",
       "        vertical-align: middle;\n",
       "    }\n",
       "\n",
       "    .dataframe tbody tr th {\n",
       "        vertical-align: top;\n",
       "    }\n",
       "\n",
       "    .dataframe thead th {\n",
       "        text-align: right;\n",
       "    }\n",
       "</style>\n",
       "<table border=\"1\" class=\"dataframe\">\n",
       "  <thead>\n",
       "    <tr style=\"text-align: right;\">\n",
       "      <th></th>\n",
       "      <th>ssc_p</th>\n",
       "      <th>hsc_p</th>\n",
       "      <th>degree_p</th>\n",
       "      <th>mba_p</th>\n",
       "      <th>etest_p</th>\n",
       "      <th>specialisation_Mkt&amp;HR</th>\n",
       "      <th>workex_Yes</th>\n",
       "      <th>specialisation_Mkt&amp;Fin</th>\n",
       "      <th>workex_No</th>\n",
       "    </tr>\n",
       "    <tr>\n",
       "      <th>sl_no</th>\n",
       "      <th></th>\n",
       "      <th></th>\n",
       "      <th></th>\n",
       "      <th></th>\n",
       "      <th></th>\n",
       "      <th></th>\n",
       "      <th></th>\n",
       "      <th></th>\n",
       "      <th></th>\n",
       "    </tr>\n",
       "  </thead>\n",
       "  <tbody>\n",
       "    <tr>\n",
       "      <th>1</th>\n",
       "      <td>-0.015295</td>\n",
       "      <td>2.218124</td>\n",
       "      <td>-1.148830</td>\n",
       "      <td>-0.590705</td>\n",
       "      <td>-1.302329</td>\n",
       "      <td>1.090175</td>\n",
       "      <td>-0.749718</td>\n",
       "      <td>-1.090175</td>\n",
       "      <td>0.749718</td>\n",
       "    </tr>\n",
       "    <tr>\n",
       "      <th>160</th>\n",
       "      <td>-1.375547</td>\n",
       "      <td>-1.581454</td>\n",
       "      <td>-1.148830</td>\n",
       "      <td>-0.277608</td>\n",
       "      <td>-0.763468</td>\n",
       "      <td>1.090175</td>\n",
       "      <td>-0.749718</td>\n",
       "      <td>-1.090175</td>\n",
       "      <td>0.749718</td>\n",
       "    </tr>\n",
       "    <tr>\n",
       "      <th>149</th>\n",
       "      <td>0.891539</td>\n",
       "      <td>1.765794</td>\n",
       "      <td>-1.428978</td>\n",
       "      <td>0.332842</td>\n",
       "      <td>-1.148368</td>\n",
       "      <td>-0.912188</td>\n",
       "      <td>-0.749718</td>\n",
       "      <td>0.912188</td>\n",
       "      <td>0.749718</td>\n",
       "    </tr>\n",
       "    <tr>\n",
       "      <th>131</th>\n",
       "      <td>-0.468713</td>\n",
       "      <td>-0.133995</td>\n",
       "      <td>-0.868683</td>\n",
       "      <td>0.345086</td>\n",
       "      <td>0.930095</td>\n",
       "      <td>-0.912188</td>\n",
       "      <td>-0.749718</td>\n",
       "      <td>0.912188</td>\n",
       "      <td>0.749718</td>\n",
       "    </tr>\n",
       "    <tr>\n",
       "      <th>29</th>\n",
       "      <td>0.869775</td>\n",
       "      <td>0.906365</td>\n",
       "      <td>0.181870</td>\n",
       "      <td>0.345086</td>\n",
       "      <td>0.110257</td>\n",
       "      <td>-0.912188</td>\n",
       "      <td>1.326424</td>\n",
       "      <td>0.912188</td>\n",
       "      <td>-1.326424</td>\n",
       "    </tr>\n",
       "  </tbody>\n",
       "</table>\n",
       "</div>"
      ],
      "text/plain": [
       "          ssc_p     hsc_p  degree_p     mba_p   etest_p  \\\n",
       "sl_no                                                     \n",
       "1     -0.015295  2.218124 -1.148830 -0.590705 -1.302329   \n",
       "160   -1.375547 -1.581454 -1.148830 -0.277608 -0.763468   \n",
       "149    0.891539  1.765794 -1.428978  0.332842 -1.148368   \n",
       "131   -0.468713 -0.133995 -0.868683  0.345086  0.930095   \n",
       "29     0.869775  0.906365  0.181870  0.345086  0.110257   \n",
       "\n",
       "       specialisation_Mkt&HR  workex_Yes  specialisation_Mkt&Fin  workex_No  \n",
       "sl_no                                                                        \n",
       "1                   1.090175   -0.749718               -1.090175   0.749718  \n",
       "160                 1.090175   -0.749718               -1.090175   0.749718  \n",
       "149                -0.912188   -0.749718                0.912188   0.749718  \n",
       "131                -0.912188   -0.749718                0.912188   0.749718  \n",
       "29                 -0.912188    1.326424                0.912188  -1.326424  "
      ]
     },
     "execution_count": 21,
     "metadata": {},
     "output_type": "execute_result"
    }
   ],
   "source": [
    "n_f = 8\n",
    "to_keep = X_temp.columns[:n_f+1]\n",
    "X_train_fimp = X_train[to_keep]\n",
    "X_test_fimp = X_test[to_keep]\n",
    "X_train_fimp.head()"
   ]
  },
  {
   "cell_type": "markdown",
   "metadata": {
    "papermill": {
     "duration": 0.032516,
     "end_time": "2020-09-27T09:59:41.470371",
     "exception": false,
     "start_time": "2020-09-27T09:59:41.437855",
     "status": "completed"
    },
    "tags": []
   },
   "source": [
    "* Checking OOB Score for new dataframe"
   ]
  },
  {
   "cell_type": "code",
   "execution_count": 22,
   "metadata": {
    "papermill": {
     "duration": 0.208533,
     "end_time": "2020-09-27T09:59:41.712337",
     "exception": false,
     "start_time": "2020-09-27T09:59:41.503804",
     "status": "completed"
    },
    "tags": []
   },
   "outputs": [
    {
     "data": {
      "text/plain": [
       "0.8666666666666667"
      ]
     },
     "execution_count": 22,
     "metadata": {},
     "output_type": "execute_result"
    }
   ],
   "source": [
    "rf = RandomForestClassifier(random_state=3, oob_score=True)\n",
    "rf.fit(X_train_fimp, y_train)\n",
    "rf.oob_score_"
   ]
  },
  {
   "cell_type": "markdown",
   "metadata": {
    "papermill": {
     "duration": 0.034034,
     "end_time": "2020-09-27T09:59:41.781500",
     "exception": false,
     "start_time": "2020-09-27T09:59:41.747466",
     "status": "completed"
    },
    "tags": []
   },
   "source": [
    "* The new dataset performs better than the original dataset.\n",
    "* Hence new one is kept as the final dataset"
   ]
  },
  {
   "cell_type": "code",
   "execution_count": 23,
   "metadata": {
    "papermill": {
     "duration": 0.042457,
     "end_time": "2020-09-27T09:59:41.858298",
     "exception": false,
     "start_time": "2020-09-27T09:59:41.815841",
     "status": "completed"
    },
    "tags": []
   },
   "outputs": [],
   "source": [
    "X_train_final = X_train_fimp\n",
    "X_test_final = X_test_fimp"
   ]
  },
  {
   "cell_type": "markdown",
   "metadata": {
    "papermill": {
     "duration": 0.032852,
     "end_time": "2020-09-27T09:59:41.925409",
     "exception": false,
     "start_time": "2020-09-27T09:59:41.892557",
     "status": "completed"
    },
    "tags": []
   },
   "source": [
    "# **Performing Hyperparameter Tuning**\n",
    "The current parameters(SK-Learn defaults) are as follows:"
   ]
  },
  {
   "cell_type": "code",
   "execution_count": 24,
   "metadata": {
    "papermill": {
     "duration": 0.04834,
     "end_time": "2020-09-27T09:59:42.008551",
     "exception": false,
     "start_time": "2020-09-27T09:59:41.960211",
     "status": "completed"
    },
    "tags": []
   },
   "outputs": [
    {
     "name": "stdout",
     "output_type": "stream",
     "text": [
      "Parameters currently in use:\n",
      "\n",
      "{'bootstrap': True,\n",
      " 'ccp_alpha': 0.0,\n",
      " 'class_weight': None,\n",
      " 'criterion': 'gini',\n",
      " 'max_depth': None,\n",
      " 'max_features': 'auto',\n",
      " 'max_leaf_nodes': None,\n",
      " 'max_samples': None,\n",
      " 'min_impurity_decrease': 0.0,\n",
      " 'min_impurity_split': None,\n",
      " 'min_samples_leaf': 1,\n",
      " 'min_samples_split': 2,\n",
      " 'min_weight_fraction_leaf': 0.0,\n",
      " 'n_estimators': 100,\n",
      " 'n_jobs': None,\n",
      " 'oob_score': True,\n",
      " 'random_state': 3,\n",
      " 'verbose': 0,\n",
      " 'warm_start': False}\n"
     ]
    }
   ],
   "source": [
    "# Look at parameters used by our current forest\n",
    "print('Parameters currently in use:\\n')\n",
    "pprint(rf.get_params())"
   ]
  },
  {
   "cell_type": "markdown",
   "metadata": {
    "papermill": {
     "duration": 0.033172,
     "end_time": "2020-09-27T09:59:42.075576",
     "exception": false,
     "start_time": "2020-09-27T09:59:42.042404",
     "status": "completed"
    },
    "tags": []
   },
   "source": [
    "* n_estimators = number of trees in the foreset\n",
    "* max_features = max number of features considered for splitting a node\n",
    "* max_depth = max number of levels in each decision tree\n",
    "* min_samples_split = min number of data points placed in a node before the node is split\n",
    "* min_samples_leaf = min number of data points allowed in a leaf node\n",
    "* bootstrap = method for sampling data points (with or without replacement)"
   ]
  },
  {
   "cell_type": "code",
   "execution_count": 25,
   "metadata": {
    "papermill": {
     "duration": 0.044361,
     "end_time": "2020-09-27T09:59:42.154474",
     "exception": false,
     "start_time": "2020-09-27T09:59:42.110113",
     "status": "completed"
    },
    "tags": []
   },
   "outputs": [
    {
     "name": "stdout",
     "output_type": "stream",
     "text": [
      "{'max_depth': [4, 5, 6, 7, 8, 'none'],\n",
      " 'max_features': ['auto', 'sqrt', 'log2'],\n",
      " 'n_estimators': [200, 500]}\n"
     ]
    }
   ],
   "source": [
    "rfc=RandomForestClassifier(random_state=42)\n",
    "param_grid = { \n",
    "    'n_estimators': [200, 500],\n",
    "    'max_features': ['auto', 'sqrt', 'log2'],\n",
    "    'max_depth' : [4,5,6,7,8,'none']\n",
    "}\n",
    "pprint(param_grid)"
   ]
  },
  {
   "cell_type": "code",
   "execution_count": 26,
   "metadata": {
    "papermill": {
     "duration": 74.755624,
     "end_time": "2020-09-27T10:00:56.945366",
     "exception": false,
     "start_time": "2020-09-27T09:59:42.189742",
     "status": "completed"
    },
    "tags": []
   },
   "outputs": [
    {
     "data": {
      "text/plain": [
       "GridSearchCV(cv=5, error_score=nan,\n",
       "             estimator=RandomForestClassifier(bootstrap=True, ccp_alpha=0.0,\n",
       "                                              class_weight=None,\n",
       "                                              criterion='gini', max_depth=None,\n",
       "                                              max_features='auto',\n",
       "                                              max_leaf_nodes=None,\n",
       "                                              max_samples=None,\n",
       "                                              min_impurity_decrease=0.0,\n",
       "                                              min_impurity_split=None,\n",
       "                                              min_samples_leaf=1,\n",
       "                                              min_samples_split=2,\n",
       "                                              min_weight_fraction_leaf=0.0,\n",
       "                                              n_estimators=100, n_jobs=None,\n",
       "                                              oob_score=False, random_state=42,\n",
       "                                              verbose=0, warm_start=False),\n",
       "             iid='deprecated', n_jobs=None,\n",
       "             param_grid={'max_depth': [4, 5, 6, 7, 8, 'none'],\n",
       "                         'max_features': ['auto', 'sqrt', 'log2'],\n",
       "                         'n_estimators': [200, 500]},\n",
       "             pre_dispatch='2*n_jobs', refit=True, return_train_score=False,\n",
       "             scoring=None, verbose=0)"
      ]
     },
     "execution_count": 26,
     "metadata": {},
     "output_type": "execute_result"
    }
   ],
   "source": [
    "CV_rfc = GridSearchCV(estimator=rfc, param_grid=param_grid, cv= 5)\n",
    "# Fit the random search model\n",
    "CV_rfc.fit(X_train_final, y_train)\n"
   ]
  },
  {
   "cell_type": "code",
   "execution_count": 27,
   "metadata": {
    "papermill": {
     "duration": 0.043052,
     "end_time": "2020-09-27T10:00:57.022998",
     "exception": false,
     "start_time": "2020-09-27T10:00:56.979946",
     "status": "completed"
    },
    "tags": []
   },
   "outputs": [
    {
     "data": {
      "text/plain": [
       "{'max_depth': 7, 'max_features': 'auto', 'n_estimators': 200}"
      ]
     },
     "execution_count": 27,
     "metadata": {},
     "output_type": "execute_result"
    }
   ],
   "source": [
    "CV_rfc.best_params_"
   ]
  },
  {
   "cell_type": "code",
   "execution_count": 28,
   "metadata": {
    "papermill": {
     "duration": 0.330662,
     "end_time": "2020-09-27T10:00:57.388075",
     "exception": false,
     "start_time": "2020-09-27T10:00:57.057413",
     "status": "completed"
    },
    "tags": []
   },
   "outputs": [
    {
     "data": {
      "text/plain": [
       "RandomForestClassifier(bootstrap=True, ccp_alpha=0.0, class_weight=None,\n",
       "                       criterion='entropy', max_depth=7, max_features='auto',\n",
       "                       max_leaf_nodes=None, max_samples=None,\n",
       "                       min_impurity_decrease=0.0, min_impurity_split=None,\n",
       "                       min_samples_leaf=1, min_samples_split=2,\n",
       "                       min_weight_fraction_leaf=0.0, n_estimators=200,\n",
       "                       n_jobs=None, oob_score=False, random_state=42, verbose=0,\n",
       "                       warm_start=False)"
      ]
     },
     "execution_count": 28,
     "metadata": {},
     "output_type": "execute_result"
    }
   ],
   "source": [
    "rfc1=RandomForestClassifier(random_state=42, max_features='auto', n_estimators= 200, max_depth=7, criterion='entropy')\n",
    "rfc1.fit(X_train_final, y_train)\n"
   ]
  },
  {
   "cell_type": "code",
   "execution_count": 29,
   "metadata": {
    "papermill": {
     "duration": 0.0704,
     "end_time": "2020-09-27T10:00:57.493147",
     "exception": false,
     "start_time": "2020-09-27T10:00:57.422747",
     "status": "completed"
    },
    "tags": []
   },
   "outputs": [
    {
     "name": "stdout",
     "output_type": "stream",
     "text": [
      "Accuracy for Random Forest after Hyperparameter Tuning on test data:  0.8285714285714286\n",
      "Accuracy for Random Forest before Hyperparameter Tuning on test data:  0.7714285714285715\n"
     ]
    }
   ],
   "source": [
    "pred=rfc1.predict(X_test_final)\n",
    "print(\"Accuracy for Random Forest after Hyperparameter Tuning on test data: \",accuracy_score(y_test,pred))\n",
    "pred=rf.predict(X_test_final)\n",
    "print(\"Accuracy for Random Forest before Hyperparameter Tuning on test data: \",accuracy_score(y_test,pred))"
   ]
  },
  {
   "cell_type": "markdown",
   "metadata": {
    "papermill": {
     "duration": 0.034979,
     "end_time": "2020-09-27T10:00:57.563188",
     "exception": false,
     "start_time": "2020-09-27T10:00:57.528209",
     "status": "completed"
    },
    "tags": []
   },
   "source": [
    "# Saving as a pickle file"
   ]
  },
  {
   "cell_type": "code",
   "execution_count": 30,
   "metadata": {
    "papermill": {
     "duration": 0.042604,
     "end_time": "2020-09-27T10:00:57.643935",
     "exception": false,
     "start_time": "2020-09-27T10:00:57.601331",
     "status": "completed"
    },
    "tags": []
   },
   "outputs": [],
   "source": [
    "import pickle"
   ]
  },
  {
   "cell_type": "code",
   "execution_count": 31,
   "metadata": {
    "papermill": {
     "duration": 0.052814,
     "end_time": "2020-09-27T10:00:57.732022",
     "exception": false,
     "start_time": "2020-09-27T10:00:57.679208",
     "status": "completed"
    },
    "tags": []
   },
   "outputs": [],
   "source": [
    "Pkl_Filename = \"Pickle_rfc_Model.pkl\"  \n",
    "\n",
    "with open(Pkl_Filename, 'wb') as file:  \n",
    "    pickle.dump(rfc1, file)"
   ]
  },
  {
   "cell_type": "markdown",
   "metadata": {
    "papermill": {
     "duration": 0.034021,
     "end_time": "2020-09-27T10:00:57.800802",
     "exception": false,
     "start_time": "2020-09-27T10:00:57.766781",
     "status": "completed"
    },
    "tags": []
   },
   "source": [
    "Testing the same"
   ]
  },
  {
   "cell_type": "code",
   "execution_count": 32,
   "metadata": {
    "papermill": {
     "duration": 0.052333,
     "end_time": "2020-09-27T10:00:57.888015",
     "exception": false,
     "start_time": "2020-09-27T10:00:57.835682",
     "status": "completed"
    },
    "tags": []
   },
   "outputs": [
    {
     "data": {
      "text/plain": [
       "RandomForestClassifier(bootstrap=True, ccp_alpha=0.0, class_weight=None,\n",
       "                       criterion='entropy', max_depth=7, max_features='auto',\n",
       "                       max_leaf_nodes=None, max_samples=None,\n",
       "                       min_impurity_decrease=0.0, min_impurity_split=None,\n",
       "                       min_samples_leaf=1, min_samples_split=2,\n",
       "                       min_weight_fraction_leaf=0.0, n_estimators=200,\n",
       "                       n_jobs=None, oob_score=False, random_state=42, verbose=0,\n",
       "                       warm_start=False)"
      ]
     },
     "execution_count": 32,
     "metadata": {},
     "output_type": "execute_result"
    }
   ],
   "source": [
    "with open(Pkl_Filename, 'rb') as file:  \n",
    "    Pickled_Model = pickle.load(file)\n",
    "\n",
    "Pickled_Model"
   ]
  },
  {
   "cell_type": "code",
   "execution_count": 33,
   "metadata": {
    "papermill": {
     "duration": 0.082065,
     "end_time": "2020-09-27T10:00:58.005149",
     "exception": false,
     "start_time": "2020-09-27T10:00:57.923084",
     "status": "completed"
    },
    "tags": []
   },
   "outputs": [
    {
     "name": "stdout",
     "output_type": "stream",
     "text": [
      "Test score: 82.86 %\n"
     ]
    },
    {
     "data": {
      "text/plain": [
       "array([1, 1, 0, 1, 0, 1, 0, 1, 1, 1, 1, 1, 0, 1, 0, 1, 1, 1, 1, 1, 1, 1,\n",
       "       1, 0, 1, 1, 1, 1, 1, 1, 0, 1, 0, 1, 1])"
      ]
     },
     "execution_count": 33,
     "metadata": {},
     "output_type": "execute_result"
    }
   ],
   "source": [
    "score = Pickled_Model.score(X_test_fimp, y_test)  \n",
    "\n",
    "print(\"Test score: {0:.2f} %\".format(100 * score))  \n",
    "\n",
    "\n",
    "Ypredict = Pickled_Model.predict(X_test_fimp)  \n",
    "\n",
    "Ypredict"
   ]
  },
  {
   "cell_type": "markdown",
   "metadata": {
    "papermill": {
     "duration": 0.035127,
     "end_time": "2020-09-27T10:00:58.077177",
     "exception": false,
     "start_time": "2020-09-27T10:00:58.042050",
     "status": "completed"
    },
    "tags": []
   },
   "source": [
    "Same result shows that model is saved and retrieved successfully "
   ]
  },
  {
   "cell_type": "markdown",
   "metadata": {
    "papermill": {
     "duration": 0.034931,
     "end_time": "2020-09-27T10:00:58.147897",
     "exception": false,
     "start_time": "2020-09-27T10:00:58.112966",
     "status": "completed"
    },
    "tags": []
   },
   "source": [
    "# Model Hosting\n",
    "Please the below link to the web app where the model is hosted https://intense-castle-03852.herokuapp.com/"
   ]
  }
 ],
 "metadata": {
  "kernelspec": {
   "display_name": "Python 3",
   "language": "python",
   "name": "python3"
  },
  "language_info": {
   "codemirror_mode": {
    "name": "ipython",
    "version": 3
   },
   "file_extension": ".py",
   "mimetype": "text/x-python",
   "name": "python",
   "nbconvert_exporter": "python",
   "pygments_lexer": "ipython3",
   "version": "3.7.6"
  },
  "papermill": {
   "duration": 117.969946,
   "end_time": "2020-09-27T10:00:58.890932",
   "environment_variables": {},
   "exception": null,
   "input_path": "__notebook__.ipynb",
   "output_path": "__notebook__.ipynb",
   "parameters": {},
   "start_time": "2020-09-27T09:59:00.920986",
   "version": "1.2.1"
  }
 },
 "nbformat": 4,
 "nbformat_minor": 4
}
