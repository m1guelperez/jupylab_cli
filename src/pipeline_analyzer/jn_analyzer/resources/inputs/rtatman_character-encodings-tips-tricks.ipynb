{
 "cells": [
  {
   "cell_type": "markdown",
   "metadata": {
    "_cell_guid": "f0ede7d6-145f-4697-a5a7-3f12212e92fc",
    "_uuid": "677478975599fc0cba87529bf3b5dfad12eed685"
   },
   "source": [
    "# Follow best practices\n",
    "___\n",
    "\n",
    "* Only use UTF-8 strings internally (i.e. in the code itself)\n",
    "* Try to stick to Python 3\n",
    "    * Python 3 str type supports Unicode (yay!)\n",
    "    * Python 2 str type supports ASCII (boo!)\n",
    "* If using anything other than UTF-8:\n",
    "    * Decode text as soon as you read it in\n",
    "    * Re-Encode at the last possible moment\n",
    "* Try to avoid changing encodings a lot   \n",
    "    \n",
    "For more information, see [the Python section of *Programming with Unicode*, by Victor Stinner](http://unicodebook.readthedocs.io/programming_languages.html#python) and the [Unicode HOWTO section of the Python 3 docs](https://docs.python.org/release/3.0.1/howto/unicode.html#python-s-unicode-support)."
   ]
  },
  {
   "cell_type": "code",
   "execution_count": 1,
   "metadata": {
    "_cell_guid": "f8da068f-ffdc-4c00-96f8-bbebbe3efc15",
    "_uuid": "6b07aa611a5b3d4fadd06f891fc519650166466e",
    "collapsed": true
   },
   "outputs": [
    {
     "name": "stdout",
     "output_type": "stream",
     "text": [
      "In unicode:      《家語》曰：「君子不博，為其兼行惡道故也。」《論語》云：「不\n",
      "\n",
      "In BIG-5:  b'    \\xa1m\\xaea\\xbby\\xa1n\\xa4\\xea\\xa1G\\xa1u\\xa7g\\xa4l\\xa4\\xa3\\xb3\\xd5\\xa1A\\xac\\xb0\\xa8\\xe4\\xad\\xdd\\xa6\\xe6\\xb4c\\xb9D\\xacG\\xa4]\\xa1C\\xa1v\\xa1m\\xbd\\xd7\\xbby\\xa1n\\xa4\\xaa\\xa1G\\xa1u\\xa4\\xa3\\n'\n"
     ]
    }
   ],
   "source": [
    "# example of decoding & re-encoding\n",
    "\n",
    "# read in file (automatically converted to Unicode 8)\n",
    "with open(\"../input/yan_BIG-5.txt\", encoding=\"big5\") as f:\n",
    "    # read in 5000 bytes from our text file\n",
    "    lines = f.readlines(5000)\n",
    "\n",
    "# check out the last line\n",
    "last_line = lines[len(lines) - 1]\n",
    "print(\"In unicode: \", last_line)\n",
    "\n",
    "# write out just the last line in the original encoding\n",
    "# make sure you open the file in binary mode (the \"b\" in \"wb\")\n",
    "with open(\"big5_output.txt\", \"wb\") as f:\n",
    "    # convert back to big5 as we write out our file\n",
    "    f.write(last_line.encode(\"big5\"))\n",
    "\n",
    "# take a look to see how the encoding changes our file\n",
    "print(\"In BIG-5: \", last_line.encode(\"big5\"))"
   ]
  },
  {
   "cell_type": "markdown",
   "metadata": {
    "_cell_guid": "f03f6458-4ac7-42d1-af4e-26a79da3af94",
    "_uuid": "84d8ed5b01968c2b06b997ceb92e1e5105c81a1e"
   },
   "source": [
    "Why is it such a big deal to only use UTF-8? Because basic string mainpulation functions assume you're going to pass them UTF-8 and reacts accordingly. "
   ]
  },
  {
   "cell_type": "code",
   "execution_count": 2,
   "metadata": {
    "_cell_guid": "801c2dd0-b69e-424c-ac78-e0921f8bf0e5",
    "_uuid": "c251933eb612c2224183fae727726f819edf0b41",
    "collapsed": true
   },
   "outputs": [
    {
     "name": "stdout",
     "output_type": "stream",
     "text": [
      "    《家語》曰：「君子不博，為其兼行惡道故也。」《論語》云：「不\n",
      "\n",
      "\n",
      "Actual length: 35\n",
      "Length with wrong encoding: 65\n"
     ]
    }
   ],
   "source": [
    "print(last_line)\n",
    "print() # print a blank line\n",
    "print(\"Actual length:\", len(last_line))\n",
    "print(\"Length with wrong encoding:\", len(last_line.encode(\"big5\")))"
   ]
  },
  {
   "cell_type": "markdown",
   "metadata": {
    "_cell_guid": "ce786233-4c71-4cd9-958c-f7cbe4b8d8f2",
    "_uuid": "c4ef9f38215a9d71d6986a0aaa5828887e0b5d07"
   },
   "source": [
    "You also don't want to go around changing character encodings willy-nilly. If the conversion process raises an error and some characters are replaced with the character used for unknown characters, you'll lose the underlying byte string when you try to convert back to utf-8. As a result, you'll lose the underlying information and won't be able to get it back (especially if you're modifying files in place)."
   ]
  },
  {
   "cell_type": "code",
   "execution_count": 3,
   "metadata": {
    "_cell_guid": "a22da4ed-a1c6-4025-a9bb-18a00e7e0504",
    "_uuid": "1ea4e7eeef32983027ebf75f4ac893be1b001bfd",
    "collapsed": true,
    "scrolled": true
   },
   "outputs": [
    {
     "name": "stdout",
     "output_type": "stream",
     "text": [
      "?\n"
     ]
    }
   ],
   "source": [
    "# start with a string\n",
    "before = \"€\"\n",
    "\n",
    "# encode it to a different encoding, replacing characters that raise errors\n",
    "after = before.encode(\"big5\", errors = \"replace\")\n",
    "\n",
    "# convert it back to utf-8\n",
    "print(after.decode(\"big5\"))\n",
    "\n",
    "# We've lost the original underlying byte string! It's been \n",
    "# replaced with the underlying byte string for the unknown character :("
   ]
  },
  {
   "cell_type": "markdown",
   "metadata": {
    "_cell_guid": "644f69f0-1f6f-456a-a6e5-7441eccf8c5c",
    "_uuid": "5d187c0178c0346c1b1aaac6f45b25a97e7f8ace"
   },
   "source": [
    "# Automatically guess character encodings\n",
    "___\n",
    "\n",
    "You can automatically guess the correct character encoding for a file using the Python Module chardet. (The documentation is [here](http://chardet.readthedocs.io/en/latest/), but note that the code examples are all in Python 2.) This won't *always* work, but it's a good start. "
   ]
  },
  {
   "cell_type": "code",
   "execution_count": 4,
   "metadata": {
    "_cell_guid": "3927a9dd-4409-4340-8fe6-58a9147c9723",
    "_uuid": "293803b941b16ad12f22fb87ff691e8cc7486cd8",
    "collapsed": true
   },
   "outputs": [
    {
     "name": "stdout",
     "output_type": "stream",
     "text": [
      "File                                          Encoding\n",
      "../input/shisei_UTF-8.txt                     UTF-8-SIG\n",
      "../input/harpers_ASCII.txt                    ascii\n",
      "../input/yan_BIG-5.txt                        Big5\n",
      "../input/olaf_Windows-1251.txt                windows-1251\n",
      "../input/portugal_ISO-8859-1.txt              ISO-8859-1\n",
      "../input/die_ISO-8859-1.txt                   ISO-8859-1\n"
     ]
    }
   ],
   "source": [
    "# import a library to detect encodings\n",
    "import chardet\n",
    "import glob\n",
    "\n",
    "# for every text file, print the file name & guess its file encoding\n",
    "print(\"File\".ljust(45), \"Encoding\")\n",
    "for filename in glob.glob('../input/*.txt'):\n",
    "    with open(filename, 'rb') as rawdata:\n",
    "        result = chardet.detect(rawdata.read())\n",
    "    print(filename.ljust(45), result['encoding'])"
   ]
  },
  {
   "cell_type": "markdown",
   "metadata": {
    "_cell_guid": "23191aee-5233-4720-b943-fbd7923c8a53",
    "_uuid": "842dcc59a5ec7222095496b2ddc5ebdd80b4d959"
   },
   "source": [
    "We can also use this to build a quick test to see if our files are in UTF-8."
   ]
  },
  {
   "cell_type": "code",
   "execution_count": 5,
   "metadata": {
    "_cell_guid": "07404b40-ff50-4a0d-b318-592ef9109ee5",
    "_uuid": "991a286636fbd2c6f9af4a626206b96449c22f8c",
    "collapsed": true,
    "scrolled": true
   },
   "outputs": [
    {
     "name": "stdout",
     "output_type": "stream",
     "text": [
      "This isn't UTF-8! It's ISO-8859-1\n",
      "Yep, it's UTF-8!\n"
     ]
    }
   ],
   "source": [
    "# function to test if a file is in unicode\n",
    "def is_it_unicode(filename):\n",
    "    with open(filename, 'rb') as f:\n",
    "        encoding_info = chardet.detect(f.read())\n",
    "        if \"UTF-8\" not in encoding_info['encoding']: \n",
    "            print(\"This isn't UTF-8! It's\", encoding_info['encoding'])\n",
    "        else: \n",
    "            print(\"Yep, it's UTF-8!\")\n",
    "\n",
    "# test our function, the first one is not unicode, the second one is!\n",
    "is_it_unicode(\"../input/die_ISO-8859-1.txt\")\n",
    "is_it_unicode(\"../input/shisei_UTF-8.txt\")"
   ]
  },
  {
   "cell_type": "markdown",
   "metadata": {
    "_cell_guid": "934b34cc-fabf-4208-a478-02f03cf9d7d3",
    "_uuid": "2c70087ad0bb2bd414fbf6146ea334909ee3ac89"
   },
   "source": [
    "# Ungarble your Unicode\n",
    "____\n",
    "\n",
    "Sometimes you'll end up with valid Unicode that just has some specific garbled characrters in it, especially if it's text that's been copied and pasted back and forth between \n",
    "\n",
    "These examples are from the [ftfy module documentation](https://ftfy.readthedocs.io/en/latest/)."
   ]
  },
  {
   "cell_type": "code",
   "execution_count": 6,
   "metadata": {
    "_cell_guid": "fd736b51-6091-4cf2-b1d3-aa2f8fdd5993",
    "_uuid": "56d2ae45e852302c0711dc122128ff3e635ed882",
    "collapsed": true,
    "scrolled": true
   },
   "outputs": [
    {
     "name": "stdout",
     "output_type": "stream",
     "text": [
      "The puppy's paws were huge.\n"
     ]
    }
   ],
   "source": [
    "# import the \"fixed that for you\" module\n",
    "import ftfy\n",
    "\n",
    "# use ftfy to guess what the underlying unicode should be\n",
    "print(ftfy.fix_text(\"The puppyÃ¢â‚¬â„¢s paws were huge.\"))"
   ]
  },
  {
   "cell_type": "code",
   "execution_count": 7,
   "metadata": {
    "_cell_guid": "fde82053-f3a3-416e-b7c0-c0c04c5d9bf5",
    "_uuid": "840c3b4cb6273bd1eeca49b8f221badf9d8de752",
    "collapsed": true
   },
   "outputs": [
    {
     "name": "stdout",
     "output_type": "stream",
     "text": [
      "¯\\_(ツ)_/¯\n"
     ]
    }
   ],
   "source": [
    "# use ftfy to guess what the underlying unicode should be\n",
    "print(ftfy.fix_text(\"&macr;\\\\_(ã\\x83\\x84)_/&macr;\"))"
   ]
  }
 ],
 "metadata": {
  "kernelspec": {
   "display_name": "Python 3",
   "language": "python",
   "name": "python3"
  },
  "language_info": {
   "codemirror_mode": {
    "name": "ipython",
    "version": 3
   },
   "file_extension": ".py",
   "mimetype": "text/x-python",
   "name": "python",
   "nbconvert_exporter": "python",
   "pygments_lexer": "ipython3",
   "version": "3.6.4"
  }
 },
 "nbformat": 4,
 "nbformat_minor": 1
}
