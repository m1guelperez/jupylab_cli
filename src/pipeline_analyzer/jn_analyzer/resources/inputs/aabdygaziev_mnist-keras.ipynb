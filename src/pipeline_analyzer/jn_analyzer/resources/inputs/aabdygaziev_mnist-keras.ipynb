{
 "cells": [
  {
   "cell_type": "markdown",
   "metadata": {},
   "source": [
    "# Building Simple Neural Network with Keras\n",
    "\n",
    "The problem: MNIST handwritten digit classification\n",
    "MNIST data-set is classic deep learning problem. It's a collection of handwritten digits from 0 to 9.\n",
    "\n",
    "Keras is simple and powerfull deep learning library for Python. You can learn more by reading the <a href='https://keras.io/getting_started/intro_to_keras_for_engineers/'>documentation</a>."
   ]
  },
  {
   "cell_type": "code",
   "execution_count": 1,
   "metadata": {},
   "outputs": [
    {
     "name": "stderr",
     "output_type": "stream",
     "text": [
      "Using TensorFlow backend.\n"
     ]
    }
   ],
   "source": [
    "import numpy as np\n",
    "import keras\n",
    "import pandas as pd\n",
    "\n",
    "import warnings\n",
    "warnings.filterwarnings(\"ignore\")"
   ]
  },
  {
   "cell_type": "markdown",
   "metadata": {},
   "source": [
    "## Data set"
   ]
  },
  {
   "cell_type": "markdown",
   "metadata": {},
   "source": [
    "Uploading the data set. You can download it from here: http://pjreddie.com/projects/mnist-in-csv/"
   ]
  },
  {
   "cell_type": "code",
   "execution_count": 2,
   "metadata": {},
   "outputs": [],
   "source": [
    "# let's upload train data\n",
    "train_data_file = open('../input/mnist-train/mnist_train.csv','r')\n",
    "train_data_list = train_data_file.readlines()\n",
    "train_data_file.close()\n",
    "\n",
    "# # let's upload test data\n",
    "test_data_file = open('../input/mnist-ml-crash-course/mnist_test.csv','r')\n",
    "test_data_list = test_data_file.readlines()\n",
    "test_data_file.close()"
   ]
  },
  {
   "cell_type": "code",
   "execution_count": 3,
   "metadata": {},
   "outputs": [
    {
     "name": "stdout",
     "output_type": "stream",
     "text": [
      "Number of training examples:  60000\n",
      "Number of test examples:  10000\n"
     ]
    }
   ],
   "source": [
    "print('Number of training examples: ',len(train_data_list))\n",
    "print('Number of test examples: ',len(test_data_list))"
   ]
  },
  {
   "cell_type": "markdown",
   "metadata": {},
   "source": [
    "## Data Preparation"
   ]
  },
  {
   "cell_type": "markdown",
   "metadata": {},
   "source": [
    "Let's split labels and features into separate data sets."
   ]
  },
  {
   "cell_type": "code",
   "execution_count": 4,
   "metadata": {},
   "outputs": [],
   "source": [
    "# y - targets\n",
    "# X - features\n",
    "y_train = []\n",
    "X_train = []\n",
    "\n",
    "for record in range(len(train_data_list)):\n",
    "    y_train.append(train_data_list[record][0])\n",
    "    values = train_data_list[record].split(',')\n",
    "    X_train.append(values[1:])\n",
    "\n",
    "y_test = []\n",
    "X_test = []\n",
    "\n",
    "for record in range(len(test_data_list)):\n",
    "    y_test.append(test_data_list[record][0])\n",
    "    values = test_data_list[record].split(',')\n",
    "    X_test.append(values[1:])"
   ]
  },
  {
   "cell_type": "code",
   "execution_count": 5,
   "metadata": {},
   "outputs": [],
   "source": [
    "# converting to numpy array\n",
    "y_train = np.asfarray(y_train)\n",
    "X_train = np.asfarray(X_train)\n",
    "\n",
    "y_test = np.asfarray(y_test)\n",
    "X_test = np.asfarray(X_test)"
   ]
  },
  {
   "cell_type": "code",
   "execution_count": 6,
   "metadata": {},
   "outputs": [
    {
     "name": "stdout",
     "output_type": "stream",
     "text": [
      "y_train shape: (60000,)\n",
      "X_train shape:  (60000, 784)\n",
      "X_test shape:  (10000,)\n",
      "X_test shape:  (10000, 784)\n"
     ]
    }
   ],
   "source": [
    "train_images = X_train.reshape((-1, 784))\n",
    "test_images = X_test.reshape((-1, 784))\n",
    "\n",
    "# check the shapes\n",
    "print('y_train shape:',y_train.shape)\n",
    "print('X_train shape: ',X_train.shape)\n",
    "\n",
    "print('X_test shape: ',y_test.shape)\n",
    "print('X_test shape: ',X_test.shape)"
   ]
  },
  {
   "cell_type": "markdown",
   "metadata": {},
   "source": [
    "Then we normalize our data. Instead of having pixel values from [0-255] we center them from [0.01 to 0.99]. Usually smaller and centered values are better to train."
   ]
  },
  {
   "cell_type": "code",
   "execution_count": 7,
   "metadata": {},
   "outputs": [],
   "source": [
    "# Normalize the images.\n",
    "train_images = ((train_images / 255) * 0.99) + 0.01\n",
    "test_images = ((test_images / 255) * 0.99) + 0.01"
   ]
  },
  {
   "cell_type": "markdown",
   "metadata": {},
   "source": [
    "## Building the Model"
   ]
  },
  {
   "cell_type": "markdown",
   "metadata": {},
   "source": [
    "Keras provides to build **Sequential** or **Functional** models. Sequential model is the simplest model where layers of neurons stacked and fuly connected. Functional model is more customizable. Here we're going to build Sequential model."
   ]
  },
  {
   "cell_type": "code",
   "execution_count": 8,
   "metadata": {},
   "outputs": [],
   "source": [
    "# instantiate model\n",
    "from keras.models import Sequential\n",
    "from keras.layers import Dense\n",
    "\n",
    "model = Sequential([\n",
    "    Dense(784,activation='relu',input_shape=(784,)),\n",
    "    Dense(200,activation='relu',kernel_regularizer='l2',bias_regularizer='l2'),\n",
    "    Dense(200,activation='relu',kernel_regularizer='l2',bias_regularizer='l2'),\n",
    "    Dense(10,activation='softmax')\n",
    "]);"
   ]
  },
  {
   "cell_type": "markdown",
   "metadata": {},
   "source": [
    "## Compile the Model\n",
    "\n",
    "Now we need to compile our model before we start training. We need to define 3 main key factors:\n",
    "* Optimizer - gradient descent\n",
    "* Loss function\n",
    "* Metric\n",
    "\n",
    "Keras has many <a href='https://keras.io/api/optimizers/'>optimizers</a>. In our model we will use <a href='https://arxiv.org/abs/1412.6980'>**Adam** - gradient based optimization</a>. \n",
    "For the Loss function **Cross-Entropy Loss**. To learn more about loss functions, go to Keras documentation: <a href='https://keras.io/api/losses/'>Keras' loss functions</a>. As for the metric we'll use **accuracy**.\n"
   ]
  },
  {
   "cell_type": "code",
   "execution_count": 9,
   "metadata": {},
   "outputs": [],
   "source": [
    "model.compile(\n",
    "    optimizer=keras.optimizers.Adam(learning_rate=0.01),\n",
    "    loss='categorical_crossentropy',\n",
    "    metrics=['accuracy']\n",
    ")"
   ]
  },
  {
   "cell_type": "markdown",
   "metadata": {},
   "source": [
    "## Training the Model"
   ]
  },
  {
   "cell_type": "code",
   "execution_count": 10,
   "metadata": {},
   "outputs": [
    {
     "name": "stdout",
     "output_type": "stream",
     "text": [
      "Epoch 1/5\n",
      "1594/1594 [==============================] - 9s 6ms/step - loss: 0.6061 - accuracy: 0.9073 - val_loss: 0.5899 - val_accuracy: 0.9348\n",
      "Epoch 2/5\n",
      "1594/1594 [==============================] - 8s 5ms/step - loss: 0.4115 - accuracy: 0.9460 - val_loss: 0.3000 - val_accuracy: 0.9611\n",
      "Epoch 3/5\n",
      "1594/1594 [==============================] - 8s 5ms/step - loss: 0.3846 - accuracy: 0.9527 - val_loss: 0.3050 - val_accuracy: 0.9637\n",
      "Epoch 4/5\n",
      "1594/1594 [==============================] - 8s 5ms/step - loss: 0.3710 - accuracy: 0.9587 - val_loss: 0.3920 - val_accuracy: 0.9583\n",
      "Epoch 5/5\n",
      "1594/1594 [==============================] - 8s 5ms/step - loss: 0.3812 - accuracy: 0.9595 - val_loss: 0.3275 - val_accuracy: 0.9634\n"
     ]
    },
    {
     "data": {
      "text/plain": [
       "<tensorflow.python.keras.callbacks.History at 0x7f64317f3f50>"
      ]
     },
     "execution_count": 10,
     "metadata": {},
     "output_type": "execute_result"
    }
   ],
   "source": [
    "from keras.utils import to_categorical\n",
    "\n",
    "model.fit(\n",
    "    x=train_images, #train data-set\n",
    "    y=to_categorical(y_train), #labels\n",
    "    epochs=5,\n",
    "    batch_size=32,\n",
    "    validation_split=0.15\n",
    ")"
   ]
  },
  {
   "cell_type": "markdown",
   "metadata": {},
   "source": [
    "Great! After 25 epochs of training we achieved 0.99 accuracy, and 0.97 validation accuracy. It may look promising but it doesn't tell us much. We need to test the model."
   ]
  },
  {
   "cell_type": "markdown",
   "metadata": {},
   "source": [
    "## Testing the Model"
   ]
  },
  {
   "cell_type": "code",
   "execution_count": 11,
   "metadata": {},
   "outputs": [
    {
     "name": "stdout",
     "output_type": "stream",
     "text": [
      "313/313 [==============================] - 1s 2ms/step - loss: 0.3448 - accuracy: 0.9600\n"
     ]
    },
    {
     "data": {
      "text/plain": [
       "[0.34483203291893005, 0.9599999785423279]"
      ]
     },
     "execution_count": 11,
     "metadata": {},
     "output_type": "execute_result"
    }
   ],
   "source": [
    "model.evaluate(\n",
    "    test_images,\n",
    "    to_categorical(y_test)\n",
    ")"
   ]
  },
  {
   "cell_type": "markdown",
   "metadata": {},
   "source": [
    "## Experiment with Model\n",
    "\n",
    "Let's try out different parameters to compare the results."
   ]
  },
  {
   "cell_type": "markdown",
   "metadata": {},
   "source": [
    "### Number of epochs?"
   ]
  },
  {
   "cell_type": "code",
   "execution_count": 12,
   "metadata": {},
   "outputs": [
    {
     "name": "stdout",
     "output_type": "stream",
     "text": [
      "Epoch 1/10\n",
      "1875/1875 [==============================] - 3s 2ms/step - loss: 0.2800 - accuracy: 0.9178\n",
      "Epoch 2/10\n",
      "1875/1875 [==============================] - 3s 2ms/step - loss: 0.1291 - accuracy: 0.9606\n",
      "Epoch 3/10\n",
      "1875/1875 [==============================] - 3s 2ms/step - loss: 0.0966 - accuracy: 0.9701\n",
      "Epoch 4/10\n",
      "1875/1875 [==============================] - 3s 2ms/step - loss: 0.0769 - accuracy: 0.9760\n",
      "Epoch 5/10\n",
      "1875/1875 [==============================] - 4s 2ms/step - loss: 0.0632 - accuracy: 0.9802\n",
      "Epoch 6/10\n",
      "1875/1875 [==============================] - 3s 2ms/step - loss: 0.0540 - accuracy: 0.9816\n",
      "Epoch 7/10\n",
      "1875/1875 [==============================] - 3s 2ms/step - loss: 0.0447 - accuracy: 0.9855\n",
      "Epoch 8/10\n",
      "1875/1875 [==============================] - 3s 2ms/step - loss: 0.0400 - accuracy: 0.9863\n",
      "Epoch 9/10\n",
      "1875/1875 [==============================] - 3s 2ms/step - loss: 0.0344 - accuracy: 0.9884\n",
      "Epoch 10/10\n",
      "1875/1875 [==============================] - 3s 2ms/step - loss: 0.0305 - accuracy: 0.9902\n",
      "test accuracy: \n",
      "313/313 [==============================] - 0s 1ms/step - loss: 0.0953 - accuracy: 0.9756\n"
     ]
    },
    {
     "data": {
      "text/plain": [
       "[0.09526829421520233, 0.975600004196167]"
      ]
     },
     "execution_count": 12,
     "metadata": {},
     "output_type": "execute_result"
    }
   ],
   "source": [
    "model = Sequential([\n",
    "    Dense(64,activation='relu'),\n",
    "    Dense(64,activation='relu'),\n",
    "    Dense(10,activation='softmax')\n",
    "])\n",
    "\n",
    "model.compile(\n",
    "    optimizer='adam',\n",
    "    loss='categorical_crossentropy',\n",
    "    metrics=['accuracy']\n",
    ")\n",
    "\n",
    "\n",
    "from keras.utils import to_categorical\n",
    "\n",
    "model.fit(\n",
    "    x=train_images, #train data-set\n",
    "    y=to_categorical(y_train), #labels\n",
    "    epochs=10,\n",
    "    batch_size=32\n",
    ")\n",
    "\n",
    "print('test accuracy: ')\n",
    "\n",
    "model.evaluate(\n",
    "  test_images,\n",
    "  to_categorical(y_test)\n",
    ")\n"
   ]
  },
  {
   "cell_type": "markdown",
   "metadata": {},
   "source": [
    "May be **overfitting**? "
   ]
  },
  {
   "cell_type": "markdown",
   "metadata": {},
   "source": [
    "### Network Depth?"
   ]
  },
  {
   "cell_type": "code",
   "execution_count": 13,
   "metadata": {},
   "outputs": [
    {
     "name": "stdout",
     "output_type": "stream",
     "text": [
      "Epoch 1/5\n",
      "1875/1875 [==============================] - 4s 2ms/step - loss: 0.2807 - accuracy: 0.9133\n",
      "Epoch 2/5\n",
      "1875/1875 [==============================] - 4s 2ms/step - loss: 0.1305 - accuracy: 0.9608\n",
      "Epoch 3/5\n",
      "1875/1875 [==============================] - 4s 2ms/step - loss: 0.0985 - accuracy: 0.9693\n",
      "Epoch 4/5\n",
      "1875/1875 [==============================] - 4s 2ms/step - loss: 0.0804 - accuracy: 0.9753\n",
      "Epoch 5/5\n",
      "1875/1875 [==============================] - 4s 2ms/step - loss: 0.0677 - accuracy: 0.9782\n",
      "313/313 [==============================] - 0s 1ms/step - loss: 0.1076 - accuracy: 0.9688\n"
     ]
    },
    {
     "data": {
      "text/plain": [
       "[0.10763054341077805, 0.9688000082969666]"
      ]
     },
     "execution_count": 13,
     "metadata": {},
     "output_type": "execute_result"
    }
   ],
   "source": [
    "# more layers\n",
    "model = Sequential([\n",
    "    Dense(64,activation='relu'),\n",
    "    Dense(64,activation='relu'),\n",
    "    Dense(100,activation='relu'),\n",
    "    Dense(100,activation='relu'),\n",
    "    Dense(10,activation='softmax')\n",
    "])\n",
    "\n",
    "model.compile(\n",
    "    optimizer='adam',\n",
    "    loss='categorical_crossentropy',\n",
    "    metrics=['accuracy']\n",
    ")\n",
    "\n",
    "\n",
    "from keras.utils import to_categorical\n",
    "\n",
    "model.fit(\n",
    "    x=train_images, #train data-set\n",
    "    y=to_categorical(y_train), #labels\n",
    "    epochs=5,\n",
    "    batch_size=32\n",
    ")\n",
    "\n",
    "\n",
    "model.evaluate(\n",
    "  test_images,\n",
    "  to_categorical(y_test)\n",
    ")\n"
   ]
  },
  {
   "cell_type": "markdown",
   "metadata": {},
   "source": [
    "### Different Activation: Sigmoid?"
   ]
  },
  {
   "cell_type": "code",
   "execution_count": 14,
   "metadata": {},
   "outputs": [
    {
     "name": "stdout",
     "output_type": "stream",
     "text": [
      "Epoch 1/5\n",
      "1875/1875 [==============================] - 3s 2ms/step - loss: 0.5453 - accuracy: 0.8645\n",
      "Epoch 2/5\n",
      "1875/1875 [==============================] - 3s 2ms/step - loss: 0.2007 - accuracy: 0.9405\n",
      "Epoch 3/5\n",
      "1875/1875 [==============================] - 3s 2ms/step - loss: 0.1455 - accuracy: 0.9576\n",
      "Epoch 4/5\n",
      "1875/1875 [==============================] - 3s 2ms/step - loss: 0.1137 - accuracy: 0.9665\n",
      "Epoch 5/5\n",
      "1875/1875 [==============================] - 3s 2ms/step - loss: 0.0934 - accuracy: 0.9722\n",
      "test accuracy: \n",
      "313/313 [==============================] - 0s 1ms/step - loss: 0.1040 - accuracy: 0.9671\n"
     ]
    },
    {
     "data": {
      "text/plain": [
       "[0.10401090979576111, 0.9671000242233276]"
      ]
     },
     "execution_count": 14,
     "metadata": {},
     "output_type": "execute_result"
    }
   ],
   "source": [
    "\n",
    "model = Sequential([\n",
    "    Dense(64,activation='sigmoid'),\n",
    "    Dense(64,activation='sigmoid'),\n",
    "    Dense(10,activation='softmax')\n",
    "])\n",
    "\n",
    "model.compile(\n",
    "    optimizer='adam',\n",
    "    loss='categorical_crossentropy',\n",
    "    metrics=['accuracy']\n",
    ")\n",
    "\n",
    "\n",
    "from keras.utils import to_categorical\n",
    "\n",
    "model.fit(\n",
    "    x=train_images, #train data-set\n",
    "    y=to_categorical(y_train), #labels\n",
    "    epochs=5,\n",
    "    batch_size=32\n",
    ")\n",
    "\n",
    "print('test accuracy: ')\n",
    "\n",
    "model.evaluate(\n",
    "  test_images,\n",
    "  to_categorical(y_test)\n",
    ")"
   ]
  }
 ],
 "metadata": {
  "kernelspec": {
   "display_name": "bachelor",
   "language": "python",
   "name": "python3"
  },
  "language_info": {
   "codemirror_mode": {
    "name": "ipython",
    "version": 3
   },
   "file_extension": ".py",
   "mimetype": "text/x-python",
   "name": "python",
   "nbconvert_exporter": "python",
   "pygments_lexer": "ipython3",
   "version": "3.10.8 (main, Nov 24 2022, 14:13:03) [GCC 11.2.0]"
  },
  "vscode": {
   "interpreter": {
    "hash": "ae899f2ad2b060a2ee0fc7c005f6433bff5912c51cf4d1976aa6abd1b1ca4dbc"
   }
  }
 },
 "nbformat": 4,
 "nbformat_minor": 4
}
