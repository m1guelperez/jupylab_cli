{
 "cells": [
  {
   "cell_type": "markdown",
   "metadata": {
    "_uuid": "e1f690356bad2e06f85e48dfbb964a1f729f97aa"
   },
   "source": [
    "# Based on Kernels & Insights from [Aditya Soni](https://www.kaggle.com/adityaecdrid), [Chris Deotte](https://www.kaggle.com/cdeotte)\n",
    "\n",
    "- [External (Scrapped Datasets) Useful for EDA :)](https://www.kaggle.com/c/microsoft-malware-prediction/discussion/78672)\n",
    "- [Time Series EDA - Malware ](https://www.kaggle.com/cdeotte/time-series-eda-malware-0-64)\n",
    "- [Best single model](https://www.kaggle.com/c/microsoft-malware-prediction/discussion/76384#449402)\n",
    "\n",
    "# Updated 19-02-2019\n",
    "\n",
    "- Also use other two available dates to add few more rows to private test split, stil did not reach full 33% of private test set \n",
    "- Added private_lb_submission.csv output (all rows I think belong to public lb have prediction forced to zero), as expected score .5 auc"
   ]
  },
  {
   "cell_type": "markdown",
   "metadata": {
    "_uuid": "783bfa266d3d6c5b7b029542d777c27260aa615b"
   },
   "source": [
    "\n",
    "# 2 months train, 1 month public, 1 day private?\n",
    "\n",
    "The hypothesis comes mainly from exploring row counts based on Aditya & Chris timestamps mapping on AvSigVersion.\n",
    "\n",
    "So,combining all these together we have::\n",
    "\n",
    "![image.png](https://i.imgur.com/7jbVLFu.jpg)\n",
    "\n",
    "The test set seems to come from two different distributions, that do overlap on 26-sep to 25-oct. Doing some quick checks if we consider public test <26-oct-2016, would account for ~70% of rows in test. (makes sense not being exactly 66% due to some overlap between 26-sep to 25-oct)\n",
    "\n",
    "So could it be that msft built two sets for three splits?\n",
    "\n",
    "**set 1, with defender reports  from 25-july to 25-october **, produced train (two month) & public test set (one month)\n",
    "\n",
    "noting that avsigversion can have dates before this, ex:some systems not getting updated virus definitions.\n",
    "from this set 1, two months went to training, one month to public leaderboard (66%)\n",
    "\n",
    "**set 2, may be only one day? defender reports from 25-nov-2018, ** produced final private test set\n",
    "\n",
    "same happens, avsigversion can have dates before than this, think that's expected,\n",
    "just guessing to be one day (25) because would be a simpler explanation :), although there are really two days (24 & 25)  with similar number of rows, could we be sure? (in progress)\n",
    "\n",
    "this set would be the final private lb test set\n",
    "\n",
    "# Can we test this?\n",
    "\n",
    "So if this is the case, any rows >=26 oct 2018 would belong to final private test set and not being used in anyway in the public lb score, so we should be able to zero those predictions and get similar result in the public lb?\n",
    "\n",
    "Let's see!"
   ]
  },
  {
   "cell_type": "markdown",
   "metadata": {
    "_uuid": "d8a7fd096d11cd12a24bd815b98e15d28568d32d"
   },
   "source": [
    "# Reusing kernel submission from [NFFM baseline (0.690 on LB)](https://www.kaggle.com/guoday/nffm-baseline-0-690-on-lb) (scores around ~.690) and AvSigVersion, Census_OSVersion timestamps"
   ]
  },
  {
   "cell_type": "code",
   "execution_count": 1,
   "metadata": {
    "_cell_guid": "b1076dfc-b9ad-4769-8c92-a6c4dae69d19",
    "_uuid": "8f2839f25d086af736a60e9eeb907d3b93b6e0e5"
   },
   "outputs": [
    {
     "name": "stdout",
     "output_type": "stream",
     "text": [
      "['nffm-baseline-0-690-on-lb', 'microsoft-malware-prediction', 'save-hdf-full', 'timestamps']\n"
     ]
    }
   ],
   "source": [
    "import numpy as np\n",
    "import pandas as pd\n",
    "\n",
    "import os\n",
    "print(os.listdir(\"../input\"))\n",
    "\n"
   ]
  },
  {
   "cell_type": "code",
   "execution_count": 2,
   "metadata": {
    "_cell_guid": "79c7e3d0-c299-4dcb-8224-4455121ee9b0",
    "_uuid": "d629ff2d2480ee46fbb7e2d37f6b5fab8052498a"
   },
   "outputs": [],
   "source": [
    "df_kaggle_test = pd.read_hdf(\n",
    "         '../input/save-hdf-full/test.hdf',\n",
    "         key=\"test\"\n",
    ")"
   ]
  },
  {
   "cell_type": "markdown",
   "metadata": {
    "_uuid": "f90d50ea03310c63403661bdb6b30064c1d0a2d0"
   },
   "source": [
    "# Add timestamps so that we can zero submission predictions >= 2018-10-26 \n",
    "\n",
    "Reusing snippet in discussion [External (Scrapped Datasets) Useful for EDA :)](https://www.kaggle.com/c/microsoft-malware-prediction/discussion/78672)"
   ]
  },
  {
   "cell_type": "code",
   "execution_count": 3,
   "metadata": {
    "_uuid": "7babe0b90bbc56b2c0d381ef9c386ad27356bf97"
   },
   "outputs": [],
   "source": [
    "from datetime import datetime\n",
    "\n",
    "def add_timestamps(df):\n",
    "    datedictAS = np.load('../input/timestamps/AvSigVersionTimestamps.npy')[()]\n",
    "    df['DateAS'] = df['AvSigVersion'].map(datedictAS)  \n",
    "\n",
    "    datedictOS = np.load('../input/timestamps/OSVersionTimestamps.npy')[()]\n",
    "    df['DateOS'] = df['Census_OSVersion'].map(datedictOS)  \n",
    "    # BL timestamp\n",
    "    def convert(x):\n",
    "        try:\n",
    "            d = datetime.strptime(x.split('.')[4],'%y%m%d-%H%M')\n",
    "        except:\n",
    "            d = np.nan\n",
    "        return d\n",
    "    df['DateBL'] = df['OsBuildLab'].map(convert)\n",
    "    \n",
    "add_timestamps(df_kaggle_test)"
   ]
  },
  {
   "cell_type": "markdown",
   "metadata": {
    "_uuid": "da0ddd92b57449f738f18faddceb18dd68901176"
   },
   "source": [
    "# Update 19-02-2019, Use other two available dates, if >=2018-10-26, belong to private test? recover a few rows?\n",
    "\n",
    "note: this may be system reports with older av definitions, but were reported >=2018-10-26, otherwise they coudlnt have builds with dates after that?"
   ]
  },
  {
   "cell_type": "code",
   "execution_count": 4,
   "metadata": {
    "_uuid": "70f4f2ebaba2e5d1e9d3da2683247110238e5183"
   },
   "outputs": [
    {
     "data": {
      "text/plain": [
       "(22383, 85)"
      ]
     },
     "execution_count": 4,
     "metadata": {},
     "output_type": "execute_result"
    }
   ],
   "source": [
    "df_kaggle_test.query(\"DateAS<'2018-10-26' and DateOS>='2018-10-26'\").shape"
   ]
  },
  {
   "cell_type": "code",
   "execution_count": 5,
   "metadata": {
    "_uuid": "0da1a7d4dd6414e23e9b2c6424304926277b03e8"
   },
   "outputs": [
    {
     "data": {
      "text/plain": [
       "(35, 85)"
      ]
     },
     "execution_count": 5,
     "metadata": {},
     "output_type": "execute_result"
    }
   ],
   "source": [
    "df_kaggle_test.query(\"DateAS<'2018-10-26' and DateBL>='2018-10-26'\").shape"
   ]
  },
  {
   "cell_type": "markdown",
   "metadata": {
    "_uuid": "08273b01c89c1ef8cdb76af3d4c28d647ccaf96a"
   },
   "source": [
    "## Seems we can recover a few rows, let's test!"
   ]
  },
  {
   "cell_type": "markdown",
   "metadata": {
    "_uuid": "3ec9fca2a691fc1b55d65d0d6e28df755f97b404"
   },
   "source": [
    "## Load & Check nnfm predictions (~.690 LB)"
   ]
  },
  {
   "cell_type": "code",
   "execution_count": 6,
   "metadata": {
    "_uuid": "7675e8fd55987ee1469edc7d81e41520bb842705"
   },
   "outputs": [
    {
     "data": {
      "text/html": [
       "<div>\n",
       "<style scoped>\n",
       "    .dataframe tbody tr th:only-of-type {\n",
       "        vertical-align: middle;\n",
       "    }\n",
       "\n",
       "    .dataframe tbody tr th {\n",
       "        vertical-align: top;\n",
       "    }\n",
       "\n",
       "    .dataframe thead th {\n",
       "        text-align: right;\n",
       "    }\n",
       "</style>\n",
       "<table border=\"1\" class=\"dataframe\">\n",
       "  <thead>\n",
       "    <tr style=\"text-align: right;\">\n",
       "      <th></th>\n",
       "      <th>MachineIdentifier</th>\n",
       "      <th>HasDetections</th>\n",
       "    </tr>\n",
       "  </thead>\n",
       "  <tbody>\n",
       "    <tr>\n",
       "      <th>0</th>\n",
       "      <td>0000010489e3af074adeac69c53e555e</td>\n",
       "      <td>0.503945</td>\n",
       "    </tr>\n",
       "    <tr>\n",
       "      <th>1</th>\n",
       "      <td>00000176ac758d54827acd545b6315a5</td>\n",
       "      <td>0.577533</td>\n",
       "    </tr>\n",
       "    <tr>\n",
       "      <th>2</th>\n",
       "      <td>0000019dcefc128c2d4387c1273dae1d</td>\n",
       "      <td>0.606817</td>\n",
       "    </tr>\n",
       "    <tr>\n",
       "      <th>3</th>\n",
       "      <td>0000055553dc51b1295785415f1a224d</td>\n",
       "      <td>0.339152</td>\n",
       "    </tr>\n",
       "    <tr>\n",
       "      <th>4</th>\n",
       "      <td>00000574cefffeca83ec8adf9285b2bf</td>\n",
       "      <td>0.460082</td>\n",
       "    </tr>\n",
       "  </tbody>\n",
       "</table>\n",
       "</div>"
      ],
      "text/plain": [
       "                  MachineIdentifier  HasDetections\n",
       "0  0000010489e3af074adeac69c53e555e       0.503945\n",
       "1  00000176ac758d54827acd545b6315a5       0.577533\n",
       "2  0000019dcefc128c2d4387c1273dae1d       0.606817\n",
       "3  0000055553dc51b1295785415f1a224d       0.339152\n",
       "4  00000574cefffeca83ec8adf9285b2bf       0.460082"
      ]
     },
     "execution_count": 6,
     "metadata": {},
     "output_type": "execute_result"
    },
    {
     "data": {
      "image/png": "[encoded data removed]",
      "text/plain": [
       "<Figure size 432x288 with 1 Axes>"
      ]
     },
     "metadata": {},
     "output_type": "display_data"
    }
   ],
   "source": [
    "df_submission=pd.read_csv(\"../input/nffm-baseline-0-690-on-lb/nffm_submission.csv\")\n",
    "df_submission.hist(bins=30)\n",
    "df_submission.head()"
   ]
  },
  {
   "cell_type": "markdown",
   "metadata": {
    "_uuid": "0ede0b903cd7febcab7d186384f0f9e9fdb493a7"
   },
   "source": [
    "# Save original submission for comparison"
   ]
  },
  {
   "cell_type": "code",
   "execution_count": 7,
   "metadata": {
    "_uuid": "9782122d90e329a7f6298782633a9142e1d1779b"
   },
   "outputs": [],
   "source": [
    "df_submission.to_csv(\"original_submission.csv\",index=None)"
   ]
  },
  {
   "cell_type": "markdown",
   "metadata": {
    "_uuid": "beecea99e5656556e178f885875423ae915f02f7"
   },
   "source": [
    "## Test private split impact, is private  >=26 oct 2018?\n",
    "\n",
    "If so, zeroing predictions >= 26-oct-2018, should affect only Private LB and not Public LB (.690)\n",
    "\n",
    "updated 19-02-2019, also filter other dates >=26-oct-2018, recover some extra private split rows, result is the same"
   ]
  },
  {
   "cell_type": "code",
   "execution_count": 8,
   "metadata": {
    "_uuid": "b99c92e343f143c637141377f25d17bc9fa54ca7"
   },
   "outputs": [
    {
     "name": "stdout",
     "output_type": "stream",
     "text": [
      "using only AvSigVersion Date, private split rows: (2397738, 2)\n",
      "using all Dates available, private split rows: (2420130, 2)\n"
     ]
    }
   ],
   "source": [
    "print(\"using only AvSigVersion Date, private split rows:\",\n",
    "      df_submission.loc[(df_kaggle_test.DateAS>=\"2018-10-26\")].shape)\n",
    "\n",
    "print(\"using all Dates available, private split rows:\",\n",
    "      df_submission.loc[(df_kaggle_test.DateAS>=\"2018-10-26\")\n",
    "                  | (df_kaggle_test.DateBL>=\"2018-10-26\")\n",
    "                  | (df_kaggle_test.DateOS>=\"2018-10-26\")].shape)"
   ]
  },
  {
   "cell_type": "markdown",
   "metadata": {
    "_uuid": "7d6bd26a8e910d393f7f77b132179cec2c5bb874"
   },
   "source": [
    "# Zero predictions in public test rows <2018-10-26, if submitted public LB result should be really bad"
   ]
  },
  {
   "cell_type": "code",
   "execution_count": 9,
   "metadata": {
    "_uuid": "d14229c409cd25792355d4ee69bad796b69c7bc6"
   },
   "outputs": [
    {
     "data": {
      "text/html": [
       "<div>\n",
       "<style scoped>\n",
       "    .dataframe tbody tr th:only-of-type {\n",
       "        vertical-align: middle;\n",
       "    }\n",
       "\n",
       "    .dataframe tbody tr th {\n",
       "        vertical-align: top;\n",
       "    }\n",
       "\n",
       "    .dataframe thead th {\n",
       "        text-align: right;\n",
       "    }\n",
       "</style>\n",
       "<table border=\"1\" class=\"dataframe\">\n",
       "  <thead>\n",
       "    <tr style=\"text-align: right;\">\n",
       "      <th></th>\n",
       "      <th>MachineIdentifier</th>\n",
       "      <th>HasDetections</th>\n",
       "    </tr>\n",
       "  </thead>\n",
       "  <tbody>\n",
       "    <tr>\n",
       "      <th>0</th>\n",
       "      <td>0000010489e3af074adeac69c53e555e</td>\n",
       "      <td>0.503945</td>\n",
       "    </tr>\n",
       "    <tr>\n",
       "      <th>1</th>\n",
       "      <td>00000176ac758d54827acd545b6315a5</td>\n",
       "      <td>0.000000</td>\n",
       "    </tr>\n",
       "    <tr>\n",
       "      <th>2</th>\n",
       "      <td>0000019dcefc128c2d4387c1273dae1d</td>\n",
       "      <td>0.000000</td>\n",
       "    </tr>\n",
       "    <tr>\n",
       "      <th>3</th>\n",
       "      <td>0000055553dc51b1295785415f1a224d</td>\n",
       "      <td>0.339152</td>\n",
       "    </tr>\n",
       "    <tr>\n",
       "      <th>4</th>\n",
       "      <td>00000574cefffeca83ec8adf9285b2bf</td>\n",
       "      <td>0.000000</td>\n",
       "    </tr>\n",
       "  </tbody>\n",
       "</table>\n",
       "</div>"
      ],
      "text/plain": [
       "                  MachineIdentifier  HasDetections\n",
       "0  0000010489e3af074adeac69c53e555e       0.503945\n",
       "1  00000176ac758d54827acd545b6315a5       0.000000\n",
       "2  0000019dcefc128c2d4387c1273dae1d       0.000000\n",
       "3  0000055553dc51b1295785415f1a224d       0.339152\n",
       "4  00000574cefffeca83ec8adf9285b2bf       0.000000"
      ]
     },
     "execution_count": 9,
     "metadata": {},
     "output_type": "execute_result"
    },
    {
     "data": {
      "image/png": "[encoded data removed]",
      "text/plain": [
       "<Figure size 432x288 with 1 Axes>"
      ]
     },
     "metadata": {},
     "output_type": "display_data"
    }
   ],
   "source": [
    "df_private_submission=df_submission.copy()\n",
    "df_private_submission.loc[~ ((df_kaggle_test.DateAS>=\"2018-10-26\")\n",
    "                  | (df_kaggle_test.DateBL>=\"2018-10-26\")\n",
    "                  | (df_kaggle_test.DateOS>=\"2018-10-26\")),\"HasDetections\"]=0\n",
    "df_private_submission.hist(bins=30)\n",
    "df_private_submission.head()\n"
   ]
  },
  {
   "cell_type": "code",
   "execution_count": 10,
   "metadata": {
    "_uuid": "38386be3b61c09a059dab1a0c5d73766c96ef8a7"
   },
   "outputs": [],
   "source": [
    "df_private_submission.to_csv(\"private_lb_submission.csv\",index=None)"
   ]
  },
  {
   "cell_type": "markdown",
   "metadata": {
    "_uuid": "0eb8e93561ba954cea5d35b79006bc349191c12f"
   },
   "source": [
    "# Zero predictions in private test rows >=2018-10-26, if submitted result should not be affected in public LB"
   ]
  },
  {
   "cell_type": "code",
   "execution_count": 11,
   "metadata": {
    "_uuid": "41e9843293530520b08b236f6488434bdb263253"
   },
   "outputs": [
    {
     "data": {
      "text/html": [
       "<div>\n",
       "<style scoped>\n",
       "    .dataframe tbody tr th:only-of-type {\n",
       "        vertical-align: middle;\n",
       "    }\n",
       "\n",
       "    .dataframe tbody tr th {\n",
       "        vertical-align: top;\n",
       "    }\n",
       "\n",
       "    .dataframe thead th {\n",
       "        text-align: right;\n",
       "    }\n",
       "</style>\n",
       "<table border=\"1\" class=\"dataframe\">\n",
       "  <thead>\n",
       "    <tr style=\"text-align: right;\">\n",
       "      <th></th>\n",
       "      <th>MachineIdentifier</th>\n",
       "      <th>HasDetections</th>\n",
       "    </tr>\n",
       "  </thead>\n",
       "  <tbody>\n",
       "    <tr>\n",
       "      <th>0</th>\n",
       "      <td>0000010489e3af074adeac69c53e555e</td>\n",
       "      <td>0.000000</td>\n",
       "    </tr>\n",
       "    <tr>\n",
       "      <th>1</th>\n",
       "      <td>00000176ac758d54827acd545b6315a5</td>\n",
       "      <td>0.577533</td>\n",
       "    </tr>\n",
       "    <tr>\n",
       "      <th>2</th>\n",
       "      <td>0000019dcefc128c2d4387c1273dae1d</td>\n",
       "      <td>0.606817</td>\n",
       "    </tr>\n",
       "    <tr>\n",
       "      <th>3</th>\n",
       "      <td>0000055553dc51b1295785415f1a224d</td>\n",
       "      <td>0.000000</td>\n",
       "    </tr>\n",
       "    <tr>\n",
       "      <th>4</th>\n",
       "      <td>00000574cefffeca83ec8adf9285b2bf</td>\n",
       "      <td>0.460082</td>\n",
       "    </tr>\n",
       "  </tbody>\n",
       "</table>\n",
       "</div>"
      ],
      "text/plain": [
       "                  MachineIdentifier  HasDetections\n",
       "0  0000010489e3af074adeac69c53e555e       0.000000\n",
       "1  00000176ac758d54827acd545b6315a5       0.577533\n",
       "2  0000019dcefc128c2d4387c1273dae1d       0.606817\n",
       "3  0000055553dc51b1295785415f1a224d       0.000000\n",
       "4  00000574cefffeca83ec8adf9285b2bf       0.460082"
      ]
     },
     "execution_count": 11,
     "metadata": {},
     "output_type": "execute_result"
    },
    {
     "data": {
      "image/png": "[encoded data removed]",
      "text/plain": [
       "<Figure size 432x288 with 1 Axes>"
      ]
     },
     "metadata": {},
     "output_type": "display_data"
    }
   ],
   "source": [
    "df_submission.loc[(df_kaggle_test.DateAS>=\"2018-10-26\")\n",
    "                  | (df_kaggle_test.DateBL>=\"2018-10-26\")\n",
    "                  | (df_kaggle_test.DateOS>=\"2018-10-26\"),\"HasDetections\"]=0\n",
    "df_submission.hist(bins=30)\n",
    "df_submission.head()"
   ]
  },
  {
   "cell_type": "markdown",
   "metadata": {
    "_uuid": "a2e1e5ccbc41b62c3707161cfafcac11dc92b913"
   },
   "source": [
    "# Save to compare submissions, final result is same!\n",
    "\n",
    "in this specific case, scores .688 for both files (actual result depending on nnfm kernel submission)\n",
    "for private_lb_submission public score is .5 auc as expected"
   ]
  },
  {
   "cell_type": "code",
   "execution_count": 12,
   "metadata": {
    "_uuid": "7d485c3be263fc8df49efcfcc8f520d4227d3e94"
   },
   "outputs": [],
   "source": [
    "df_submission.to_csv(\"public_lb_submission.csv\",index=None)"
   ]
  },
  {
   "cell_type": "markdown",
   "metadata": {
    "_uuid": "e01fbb777abb4fb322d3ea68c0fed1ba4779dc4b"
   },
   "source": [
    "# So, what's next?\n",
    "\n",
    "- makes sense? \n",
    "- is private really one day or two days?\n",
    "- what can we do with this?\n",
    "- thoughts? comments?\n",
    "\n",
    "thanks!\n"
   ]
  },
  {
   "cell_type": "code",
   "execution_count": 13,
   "metadata": {
    "_uuid": "6bc5e5e7306b7d48d4573cf6199b532714fcfab7"
   },
   "outputs": [],
   "source": []
  }
 ],
 "metadata": {
  "kernelspec": {
   "display_name": "Python 3",
   "language": "python",
   "name": "python3"
  },
  "language_info": {
   "codemirror_mode": {
    "name": "ipython",
    "version": 3
   },
   "file_extension": ".py",
   "mimetype": "text/x-python",
   "name": "python",
   "nbconvert_exporter": "python",
   "pygments_lexer": "ipython3",
   "version": "3.6.6"
  }
 },
 "nbformat": 4,
 "nbformat_minor": 1
}
