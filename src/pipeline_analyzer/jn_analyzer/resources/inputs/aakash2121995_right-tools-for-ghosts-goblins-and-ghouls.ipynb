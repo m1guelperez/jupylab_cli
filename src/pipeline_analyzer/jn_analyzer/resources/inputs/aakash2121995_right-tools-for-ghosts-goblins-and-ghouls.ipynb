{
 "cells": [
  {
   "cell_type": "markdown",
   "metadata": {
    "_cell_guid": "573daaad-ddd5-b801-d171-683f7bf54299"
   },
   "source": [
    "\n",
    "\n",
    "A simple nice solution with tensorflow. (0.7446)\n",
    "------------------------------------------------\n",
    "\n"
   ]
  },
  {
   "cell_type": "code",
   "execution_count": 1,
   "metadata": {
    "_cell_guid": "5e972e87-c172-453e-38d3-c29bb0916bdf"
   },
   "outputs": [],
   "source": [
    "# Import the libraries\n",
    "import pandas as pd\n",
    "import re\n",
    "import tensorflow as tf\n",
    "from tensorflow.contrib import learn\n",
    "import warnings\n",
    "warnings.filterwarnings('ignore')"
   ]
  },
  {
   "cell_type": "code",
   "execution_count": 2,
   "metadata": {
    "_cell_guid": "c5a26d80-28d2-3b88-b2ba-a089d0db6672"
   },
   "outputs": [],
   "source": [
    "# Library for tensorflow logging\n",
    "import logging\n",
    "logging.getLogger().setLevel(logging.INFO)\n",
    "df = pd.read_csv(\"../input/train.csv\")"
   ]
  },
  {
   "cell_type": "code",
   "execution_count": 3,
   "metadata": {
    "_cell_guid": "e94996d6-b01b-514c-3f46-61612c5792f2"
   },
   "outputs": [],
   "source": [
    "# Selecting features\n",
    "features = [\"bone_length\",\"rotting_flesh\",\"hair_length\",\"color\",\"has_soul\"]\n",
    "X = df[features]\n",
    "y = df[\"type\"]"
   ]
  },
  {
   "cell_type": "code",
   "execution_count": 4,
   "metadata": {
    "_cell_guid": "07afc339-83ee-3d97-5822-ed06701f4b1f"
   },
   "outputs": [],
   "source": [
    "# Encoding type (Ghost,Ghouls,Goblin) and color\n",
    "from sklearn.preprocessing import LabelEncoder as LE\n",
    "letype = LE()\n",
    "y = letype.fit_transform(y)\n",
    "lecolor = LE()\n",
    "X[\"color\"] = lecolor.fit_transform(X[\"color\"])"
   ]
  },
  {
   "cell_type": "code",
   "execution_count": 5,
   "metadata": {
    "_cell_guid": "4a629464-02d6-1628-1435-55286bdea9f8"
   },
   "outputs": [
    {
     "name": "stderr",
     "output_type": "stream",
     "text": [
      "/opt/conda/lib/python3.5/site-packages/sklearn/cross_validation.py:44: DeprecationWarning: This module was deprecated in version 0.18 in favor of the model_selection module into which all the refactored classes and functions are moved. Also note that the interface of the new CV iterators are different from that of this module. This module will be removed in 0.20.\n",
      "  \"This module will be removed in 0.20.\", DeprecationWarning)\n"
     ]
    }
   ],
   "source": [
    "# splitting function used for cross validation\n",
    "from sklearn.cross_validation import train_test_split\n",
    "# current test size = 0 to permit the usage of whole training data\n",
    "X_train, X_test, y_train, y_test = train_test_split(X,y, test_size=0.0, random_state=9)"
   ]
  },
  {
   "cell_type": "code",
   "execution_count": 6,
   "metadata": {
    "_cell_guid": "f62c7944-59c1-0312-a146-f8ce2bdc449d"
   },
   "outputs": [
    {
     "name": "stderr",
     "output_type": "stream",
     "text": [
      "WARNING:tensorflow:Change warning: `feature_columns` will be required after 2016-08-01.\n",
      "Instructions for updating:\n",
      "Pass `tf.contrib.learn.infer_real_valued_columns_from_input(x)` or `tf.contrib.learn.infer_real_valued_columns_from_input_fn(input_fn)` as `feature_columns`, where `x` or `input_fn` is your argument to `fit`, `evaluate`, or `predict`.\n",
      "WARNING:tensorflow:Using temporary folder as model directory: /tmp/tmpnm79rdll\n",
      "WARNING:tensorflow:Setting feature info to TensorSignature(dtype=tf.float32, shape=TensorShape([Dimension(None), Dimension(5)]), is_sparse=False)\n",
      "WARNING:tensorflow:Setting targets info to TensorSignature(dtype=tf.int64, shape=TensorShape([Dimension(None)]), is_sparse=False)\n",
      "INFO:tensorflow:Transforming feature_column _RealValuedColumn(column_name='', dimension=5, default_value=None, dtype=tf.float32)\n",
      "INFO:tensorflow:Create CheckpointSaver\n",
      "INFO:tensorflow:Step 1: loss = 1.24366\n",
      "INFO:tensorflow:Step 101: loss = 0.861342\n",
      "INFO:tensorflow:Step 201: loss = 0.707243\n",
      "INFO:tensorflow:Saving checkpoints for 300 into /tmp/tmpnm79rdll/model.ckpt.\n",
      "INFO:tensorflow:Step 301: loss = 0.634195\n",
      "INFO:tensorflow:Step 401: loss = 0.596028\n",
      "INFO:tensorflow:Step 501: loss = 0.571143\n",
      "INFO:tensorflow:Saving checkpoints for 600 into /tmp/tmpnm79rdll/model.ckpt.\n",
      "INFO:tensorflow:Step 601: loss = 0.55352\n",
      "INFO:tensorflow:Step 701: loss = 0.541385\n",
      "INFO:tensorflow:Step 801: loss = 0.532201\n",
      "INFO:tensorflow:Saving checkpoints for 900 into /tmp/tmpnm79rdll/model.ckpt.\n",
      "INFO:tensorflow:Step 901: loss = 0.525266\n",
      "INFO:tensorflow:Step 1001: loss = 0.520029\n",
      "INFO:tensorflow:Step 1101: loss = 0.516174\n",
      "INFO:tensorflow:Saving checkpoints for 1200 into /tmp/tmpnm79rdll/model.ckpt.\n",
      "INFO:tensorflow:Step 1201: loss = 0.513168\n",
      "INFO:tensorflow:Step 1301: loss = 0.511092\n",
      "INFO:tensorflow:Step 1401: loss = 0.50955\n",
      "INFO:tensorflow:Saving checkpoints for 1500 into /tmp/tmpnm79rdll/model.ckpt.\n",
      "INFO:tensorflow:Step 1501: loss = 0.508411\n",
      "INFO:tensorflow:Step 1601: loss = 0.50755\n",
      "INFO:tensorflow:Step 1701: loss = 0.506833\n",
      "INFO:tensorflow:Saving checkpoints for 1800 into /tmp/tmpnm79rdll/model.ckpt.\n",
      "INFO:tensorflow:Step 1801: loss = 0.506224\n",
      "INFO:tensorflow:Step 1901: loss = 0.505718\n",
      "INFO:tensorflow:Step 2001: loss = 0.505307\n",
      "INFO:tensorflow:Saving checkpoints for 2100 into /tmp/tmpnm79rdll/model.ckpt.\n",
      "INFO:tensorflow:Step 2101: loss = 0.504956\n",
      "INFO:tensorflow:Step 2201: loss = 0.504651\n",
      "INFO:tensorflow:Step 2301: loss = 0.504322\n",
      "INFO:tensorflow:Saving checkpoints for 2400 into /tmp/tmpnm79rdll/model.ckpt.\n",
      "INFO:tensorflow:Step 2401: loss = 0.504018\n",
      "INFO:tensorflow:Step 2501: loss = 0.503739\n",
      "INFO:tensorflow:Step 2601: loss = 0.503476\n",
      "INFO:tensorflow:Saving checkpoints for 2700 into /tmp/tmpnm79rdll/model.ckpt.\n",
      "INFO:tensorflow:Step 2701: loss = 0.503221\n",
      "INFO:tensorflow:Step 2801: loss = 0.502974\n",
      "INFO:tensorflow:Step 2901: loss = 0.502736\n",
      "INFO:tensorflow:Saving checkpoints for 3000 into /tmp/tmpnm79rdll/model.ckpt.\n",
      "INFO:tensorflow:Step 3001: loss = 0.502505\n",
      "INFO:tensorflow:Step 3101: loss = 0.502278\n",
      "INFO:tensorflow:Step 3201: loss = 0.50206\n",
      "INFO:tensorflow:Saving checkpoints for 3300 into /tmp/tmpnm79rdll/model.ckpt.\n",
      "INFO:tensorflow:Step 3301: loss = 0.501844\n",
      "INFO:tensorflow:Step 3401: loss = 0.501631\n",
      "INFO:tensorflow:Step 3501: loss = 0.501424\n",
      "INFO:tensorflow:Saving checkpoints for 3600 into /tmp/tmpnm79rdll/model.ckpt.\n",
      "INFO:tensorflow:Step 3601: loss = 0.501221\n",
      "INFO:tensorflow:Step 3701: loss = 0.501026\n",
      "INFO:tensorflow:Step 3801: loss = 0.500828\n",
      "INFO:tensorflow:Saving checkpoints for 3900 into /tmp/tmpnm79rdll/model.ckpt.\n",
      "INFO:tensorflow:Step 3901: loss = 0.500628\n",
      "INFO:tensorflow:Step 4001: loss = 0.500433\n",
      "INFO:tensorflow:Step 4101: loss = 0.500237\n",
      "INFO:tensorflow:Saving checkpoints for 4200 into /tmp/tmpnm79rdll/model.ckpt.\n",
      "INFO:tensorflow:Step 4201: loss = 0.500048\n",
      "INFO:tensorflow:Step 4301: loss = 0.49986\n",
      "INFO:tensorflow:Step 4401: loss = 0.499676\n",
      "INFO:tensorflow:Saving checkpoints for 4500 into /tmp/tmpnm79rdll/model.ckpt.\n",
      "INFO:tensorflow:Step 4501: loss = 0.499501\n",
      "INFO:tensorflow:Step 4601: loss = 0.499321\n",
      "INFO:tensorflow:Step 4701: loss = 0.499133\n",
      "INFO:tensorflow:Saving checkpoints for 4800 into /tmp/tmpnm79rdll/model.ckpt.\n",
      "INFO:tensorflow:Step 4801: loss = 0.498954\n",
      "INFO:tensorflow:Step 4901: loss = 0.498783\n",
      "INFO:tensorflow:Step 5001: loss = 0.49861\n",
      "INFO:tensorflow:Saving checkpoints for 5100 into /tmp/tmpnm79rdll/model.ckpt.\n",
      "INFO:tensorflow:Step 5101: loss = 0.49844\n",
      "INFO:tensorflow:Step 5201: loss = 0.498274\n",
      "INFO:tensorflow:Step 5301: loss = 0.498109\n",
      "INFO:tensorflow:Saving checkpoints for 5400 into /tmp/tmpnm79rdll/model.ckpt.\n",
      "INFO:tensorflow:Step 5401: loss = 0.497947\n",
      "INFO:tensorflow:Saving checkpoints for 5500 into /tmp/tmpnm79rdll/model.ckpt.\n",
      "INFO:tensorflow:Loss for final step: 0.497789.\n",
      "INFO:tensorflow:Transforming feature_column _RealValuedColumn(column_name='', dimension=5, default_value=None, dtype=tf.float32)\n",
      "INFO:tensorflow:Loading model from checkpoint: /tmp/tmpnm79rdll/model.ckpt-5500-?????-of-00001.\n"
     ]
    },
    {
     "name": "stdout",
     "output_type": "stream",
     "text": [
      "0.749326145553\n"
     ]
    }
   ],
   "source": [
    "# define a network with a single hidden RELU layer of 15 hidden units \n",
    "tf_clf_dnn = learn.DNNClassifier(hidden_units=[15], n_classes=3)\n",
    "tf_clf_dnn.fit(X_train, y_train,max_steps=5500)\n",
    "from sklearn.metrics import accuracy_score as as_\n",
    "# print(as_(y_test,tf_clf_dnn.predict(X_test)))\n",
    "print(as_(y_train,tf_clf_dnn.predict(X_train)))"
   ]
  },
  {
   "cell_type": "code",
   "execution_count": 7,
   "metadata": {
    "_cell_guid": "9399317c-0c0f-ed6e-5edc-2cdf12fd3464"
   },
   "outputs": [
    {
     "name": "stderr",
     "output_type": "stream",
     "text": [
      "INFO:tensorflow:Transforming feature_column _RealValuedColumn(column_name='', dimension=5, default_value=None, dtype=tf.float32)\n",
      "INFO:tensorflow:Loading model from checkpoint: /tmp/tmpnm79rdll/model.ckpt-5500-?????-of-00001.\n"
     ]
    }
   ],
   "source": [
    "# Reading csv into test_df\n",
    "test_df = pd.read_csv(\"../input/test.csv\")\n",
    "X_test = test_df[features]\n",
    "\n",
    "# Reading ID\n",
    "id_ = test_df[\"id\"]\n",
    "\n",
    "# Encoding color\n",
    "X_test[\"color\"] = lecolor.transform(X_test[\"color\"])\n",
    " \n",
    "# Prediction and Decoding into labels\n",
    "pred = tf_clf_dnn.predict(X_test)\n",
    "pred = letype.inverse_transform(pred)\n",
    "output = pd.DataFrame({\"id\": id_,\"type\":pred})\n",
    "output.to_csv('ghostPred.csv',index=False)"
   ]
  }
 ],
 "metadata": {
  "_change_revision": 4,
  "_is_fork": false,
  "kernelspec": {
   "display_name": "Python 3",
   "language": "python",
   "name": "python3"
  },
  "language_info": {
   "codemirror_mode": {
    "name": "ipython",
    "version": 3
   },
   "file_extension": ".py",
   "mimetype": "text/x-python",
   "name": "python",
   "nbconvert_exporter": "python",
   "pygments_lexer": "ipython3",
   "version": "3.5.2"
  }
 },
 "nbformat": 4,
 "nbformat_minor": 0
}
