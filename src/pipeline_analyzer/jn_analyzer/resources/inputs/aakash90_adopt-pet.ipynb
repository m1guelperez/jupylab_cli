{
 "cells": [
  {
   "cell_type": "code",
   "execution_count": 1,
   "metadata": {
    "_cell_guid": "79c7e3d0-c299-4dcb-8224-4455121ee9b0",
    "_uuid": "d629ff2d2480ee46fbb7e2d37f6b5fab8052498a",
    "collapsed": true,
    "execution": {
     "iopub.execute_input": "2020-08-16T04:53:20.247834Z",
     "iopub.status.busy": "2020-08-16T04:53:20.246925Z",
     "iopub.status.idle": "2020-08-16T04:53:20.251093Z",
     "shell.execute_reply": "2020-08-16T04:53:20.251722Z"
    },
    "papermill": {
     "duration": 0.023815,
     "end_time": "2020-08-16T04:53:20.251922",
     "exception": false,
     "start_time": "2020-08-16T04:53:20.228107",
     "status": "completed"
    },
    "tags": []
   },
   "outputs": [
    {
     "data": {
      "text/plain": [
       "'This is my first model. Please share your feedback/suggestion to help me improve this model. \\nI am new to DS/ML to getting difficulties in my applying different trics.'"
      ]
     },
     "execution_count": 1,
     "metadata": {},
     "output_type": "execute_result"
    }
   ],
   "source": [
    "\"\"\"This is my first model. Please share your feedback/suggestion to help me improve this model. \n",
    "I am new to DS/ML to getting difficulties in my applying different trics.\"\"\""
   ]
  },
  {
   "cell_type": "code",
   "execution_count": 2,
   "metadata": {
    "execution": {
     "iopub.execute_input": "2020-08-16T04:53:20.279642Z",
     "iopub.status.busy": "2020-08-16T04:53:20.278753Z",
     "iopub.status.idle": "2020-08-16T04:53:22.539469Z",
     "shell.execute_reply": "2020-08-16T04:53:22.540056Z"
    },
    "papermill": {
     "duration": 2.278134,
     "end_time": "2020-08-16T04:53:22.540242",
     "exception": false,
     "start_time": "2020-08-16T04:53:20.262108",
     "status": "completed"
    },
    "tags": []
   },
   "outputs": [],
   "source": [
    "#Import libraries\n",
    "import numpy as np \n",
    "import pandas as pd \n",
    "from sklearn import preprocessing\n",
    "from sklearn import metrics\n",
    "from sklearn.preprocessing import LabelEncoder\n",
    "import xgboost as xgb\n",
    "from sklearn.model_selection import train_test_split\n",
    "import xgboost as xgb"
   ]
  },
  {
   "cell_type": "code",
   "execution_count": 3,
   "metadata": {
    "execution": {
     "iopub.execute_input": "2020-08-16T04:53:22.571812Z",
     "iopub.status.busy": "2020-08-16T04:53:22.571033Z",
     "iopub.status.idle": "2020-08-16T04:53:22.701998Z",
     "shell.execute_reply": "2020-08-16T04:53:22.701097Z"
    },
    "papermill": {
     "duration": 0.152197,
     "end_time": "2020-08-16T04:53:22.702174",
     "exception": false,
     "start_time": "2020-08-16T04:53:22.549977",
     "status": "completed"
    },
    "tags": []
   },
   "outputs": [
    {
     "name": "stdout",
     "output_type": "stream",
     "text": [
      "Train Shape:  (18834, 11)\n",
      "Test Shape:  (8072, 9)\n"
     ]
    }
   ],
   "source": [
    "#reading data\n",
    "train= pd.read_csv('../input/pet-adopt/train.csv')  #Reading train and test files.\n",
    "\n",
    "test= pd.read_csv('../input/pet-adopt/test.csv')\n",
    "\n",
    "#Shape of our train and test data.\n",
    "\n",
    "print(\"Train Shape: \",train.shape)\n",
    "print(\"Test Shape: \", test.shape)"
   ]
  },
  {
   "cell_type": "code",
   "execution_count": 4,
   "metadata": {
    "execution": {
     "iopub.execute_input": "2020-08-16T04:53:22.739588Z",
     "iopub.status.busy": "2020-08-16T04:53:22.738445Z",
     "iopub.status.idle": "2020-08-16T04:53:22.743899Z",
     "shell.execute_reply": "2020-08-16T04:53:22.744454Z"
    },
    "papermill": {
     "duration": 0.031415,
     "end_time": "2020-08-16T04:53:22.744639",
     "exception": false,
     "start_time": "2020-08-16T04:53:22.713224",
     "status": "completed"
    },
    "tags": []
   },
   "outputs": [
    {
     "name": "stderr",
     "output_type": "stream",
     "text": [
      "/opt/conda/lib/python3.7/site-packages/ipykernel_launcher.py:2: SettingWithCopyWarning: \n",
      "A value is trying to be set on a copy of a slice from a DataFrame.\n",
      "Try using .loc[row_indexer,col_indexer] = value instead\n",
      "\n",
      "See the caveats in the documentation: https://pandas.pydata.org/pandas-docs/stable/user_guide/indexing.html#returning-a-view-versus-a-copy\n",
      "  \n"
     ]
    }
   ],
   "source": [
    "df=train[['length(m)','height(cm)']]\n",
    "df['length(cm)'] = df['length(m)']*100"
   ]
  },
  {
   "cell_type": "code",
   "execution_count": 5,
   "metadata": {
    "execution": {
     "iopub.execute_input": "2020-08-16T04:53:22.779716Z",
     "iopub.status.busy": "2020-08-16T04:53:22.777478Z",
     "iopub.status.idle": "2020-08-16T04:53:22.809896Z",
     "shell.execute_reply": "2020-08-16T04:53:22.810498Z"
    },
    "papermill": {
     "duration": 0.053282,
     "end_time": "2020-08-16T04:53:22.810682",
     "exception": false,
     "start_time": "2020-08-16T04:53:22.757400",
     "status": "completed"
    },
    "tags": []
   },
   "outputs": [
    {
     "name": "stdout",
     "output_type": "stream",
     "text": [
      "93\n",
      "44\n"
     ]
    }
   ],
   "source": [
    "print(len(train[train['length(m)'] == 0]))\n",
    "print(len(test[test['length(m)']==0]))\n",
    "train['length(cm)'] = train['length(m)'].apply(lambda x: x*100) # convert length from cm to m. \n",
    "test['length(cm)'] = test['length(m)'].apply(lambda x: x*100)\n",
    "train.drop('length(m)', axis=1, inplace=True)\n",
    "test.drop('length(m)', axis=1, inplace=True)"
   ]
  },
  {
   "cell_type": "code",
   "execution_count": 6,
   "metadata": {
    "execution": {
     "iopub.execute_input": "2020-08-16T04:53:22.841967Z",
     "iopub.status.busy": "2020-08-16T04:53:22.840766Z",
     "iopub.status.idle": "2020-08-16T04:53:22.847233Z",
     "shell.execute_reply": "2020-08-16T04:53:22.846417Z"
    },
    "papermill": {
     "duration": 0.025279,
     "end_time": "2020-08-16T04:53:22.847368",
     "exception": false,
     "start_time": "2020-08-16T04:53:22.822089",
     "status": "completed"
    },
    "tags": []
   },
   "outputs": [],
   "source": [
    "# replace all 0 length with mean of lengths\n",
    "val = train['length(cm)'].mean()\n",
    "train['length(cm)'] = train['length(cm)'].replace(to_replace=0, value=val)\n",
    "test['length(cm)'] = test['length(cm)'].replace(to_replace=0, value=val)"
   ]
  },
  {
   "cell_type": "code",
   "execution_count": 7,
   "metadata": {
    "execution": {
     "iopub.execute_input": "2020-08-16T04:53:22.892855Z",
     "iopub.status.busy": "2020-08-16T04:53:22.886659Z",
     "iopub.status.idle": "2020-08-16T04:53:22.902025Z",
     "shell.execute_reply": "2020-08-16T04:53:22.901223Z"
    },
    "papermill": {
     "duration": 0.042677,
     "end_time": "2020-08-16T04:53:22.902165",
     "exception": false,
     "start_time": "2020-08-16T04:53:22.859488",
     "status": "completed"
    },
    "tags": []
   },
   "outputs": [],
   "source": [
    "lbl = preprocessing.LabelEncoder()  #label encoding for categorical features.\n",
    "train['color_type'] = lbl.fit_transform(train['color_type'])\n",
    "test['color_type'] = lbl.fit_transform(test['color_type'])\n",
    "\n",
    "train.drop(['issue_date', 'listing_date'], axis=1, inplace=True)\n",
    "test.drop(['issue_date', 'listing_date'], axis=1, inplace=True)"
   ]
  },
  {
   "cell_type": "markdown",
   "execution_count": null,
   "metadata": {
    "papermill": {
     "duration": 0.011287,
     "end_time": "2020-08-16T04:53:22.925295",
     "exception": false,
     "start_time": "2020-08-16T04:53:22.914008",
     "status": "completed"
    },
    "tags": []
   },
   "source": [
    "Preparing train and test dataset for modl."
   ]
  },
  {
   "cell_type": "code",
   "execution_count": 8,
   "metadata": {
    "execution": {
     "iopub.execute_input": "2020-08-16T04:53:22.958520Z",
     "iopub.status.busy": "2020-08-16T04:53:22.957598Z",
     "iopub.status.idle": "2020-08-16T04:53:22.961687Z",
     "shell.execute_reply": "2020-08-16T04:53:22.961005Z"
    },
    "papermill": {
     "duration": 0.024788,
     "end_time": "2020-08-16T04:53:22.961824",
     "exception": false,
     "start_time": "2020-08-16T04:53:22.937036",
     "status": "completed"
    },
    "tags": []
   },
   "outputs": [],
   "source": [
    "X_train = train.drop(['pet_id','breed_category', 'pet_category'], axis=1)\n",
    "y_train = train['breed_category']\n",
    "X_test = test.drop('pet_id', axis=1).copy()"
   ]
  },
  {
   "cell_type": "code",
   "execution_count": 9,
   "metadata": {
    "execution": {
     "iopub.execute_input": "2020-08-16T04:53:22.994540Z",
     "iopub.status.busy": "2020-08-16T04:53:22.993757Z",
     "iopub.status.idle": "2020-08-16T04:53:24.184709Z",
     "shell.execute_reply": "2020-08-16T04:53:24.185808Z"
    },
    "papermill": {
     "duration": 1.211107,
     "end_time": "2020-08-16T04:53:24.186014",
     "exception": false,
     "start_time": "2020-08-16T04:53:22.974907",
     "status": "completed"
    },
    "tags": []
   },
   "outputs": [
    {
     "data": {
      "text/plain": [
       "89.89"
      ]
     },
     "execution_count": 9,
     "metadata": {},
     "output_type": "execute_result"
    }
   ],
   "source": [
    "gbm = xgb.XGBClassifier(max_depth=5, n_estimators=100, learning_rate=0.01).fit(X_train, y_train)\n",
    "predictions = gbm.predict(X_test)\n",
    "acc = round(gbm.score(X_train, y_train)*100, 2)\n",
    "acc"
   ]
  },
  {
   "cell_type": "code",
   "execution_count": 10,
   "metadata": {
    "execution": {
     "iopub.execute_input": "2020-08-16T04:53:24.227477Z",
     "iopub.status.busy": "2020-08-16T04:53:24.226619Z",
     "iopub.status.idle": "2020-08-16T04:53:24.230895Z",
     "shell.execute_reply": "2020-08-16T04:53:24.231523Z"
    },
    "papermill": {
     "duration": 0.030595,
     "end_time": "2020-08-16T04:53:24.231749",
     "exception": false,
     "start_time": "2020-08-16T04:53:24.201154",
     "status": "completed"
    },
    "tags": []
   },
   "outputs": [],
   "source": [
    "X_train = train.drop(['pet_id','breed_category', 'pet_category'], axis=1)\n",
    "y_train = train['pet_category']\n",
    "X_test = test.drop('pet_id', axis=1).copy()"
   ]
  },
  {
   "cell_type": "code",
   "execution_count": 11,
   "metadata": {
    "execution": {
     "iopub.execute_input": "2020-08-16T04:53:24.279843Z",
     "iopub.status.busy": "2020-08-16T04:53:24.278989Z",
     "iopub.status.idle": "2020-08-16T04:53:26.546462Z",
     "shell.execute_reply": "2020-08-16T04:53:26.545729Z"
    },
    "papermill": {
     "duration": 2.300359,
     "end_time": "2020-08-16T04:53:26.546650",
     "exception": false,
     "start_time": "2020-08-16T04:53:24.246291",
     "status": "completed"
    },
    "tags": []
   },
   "outputs": [
    {
     "data": {
      "text/plain": [
       "82.49"
      ]
     },
     "execution_count": 11,
     "metadata": {},
     "output_type": "execute_result"
    }
   ],
   "source": [
    "gbm = xgb.XGBClassifier(max_depth=5, n_estimators=100, learning_rate=0.01).fit(X_train, y_train)\n",
    "predictions = gbm.predict(X_test)\n",
    "acc = round(gbm.score(X_train, y_train)*100, 2)\n",
    "acc"
   ]
  }
 ],
 "metadata": {
  "kernelspec": {
   "display_name": "Python 3",
   "language": "python",
   "name": "python3"
  },
  "language_info": {
   "codemirror_mode": {
    "name": "ipython",
    "version": 3
   },
   "file_extension": ".py",
   "mimetype": "text/x-python",
   "name": "python",
   "nbconvert_exporter": "python",
   "pygments_lexer": "ipython3",
   "version": "3.7.6"
  },
  "papermill": {
   "duration": 11.541081,
   "end_time": "2020-08-16T04:53:26.671170",
   "environment_variables": {},
   "exception": null,
   "input_path": "__notebook__.ipynb",
   "output_path": "__notebook__.ipynb",
   "parameters": {},
   "start_time": "2020-08-16T04:53:15.130089",
   "version": "2.1.0"
  }
 },
 "nbformat": 4,
 "nbformat_minor": 4
}
