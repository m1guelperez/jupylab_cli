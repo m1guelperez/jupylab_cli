{
 "cells": [
  {
   "cell_type": "markdown",
   "execution_count": null,
   "metadata": {
    "papermill": {
     "duration": 0.008673,
     "end_time": "2020-08-13T20:49:41.439798",
     "exception": false,
     "start_time": "2020-08-13T20:49:41.431125",
     "status": "completed"
    },
    "tags": []
   },
   "source": [
    "![](https://media.architecturaldigest.com/photos/5c893eb5c2e4e32d93369a9f/master/w_1024%2Cc_limit/55-Hudson-Yards-Podium-Courtesy-Related-Oxford-Mitsui_0.jpg)"
   ]
  },
  {
   "cell_type": "code",
   "execution_count": 1,
   "metadata": {
    "_cell_guid": "b1076dfc-b9ad-4769-8c92-a6c4dae69d19",
    "_uuid": "8f2839f25d086af736a60e9eeb907d3b93b6e0e5",
    "execution": {
     "iopub.execute_input": "2020-08-13T20:49:41.463907Z",
     "iopub.status.busy": "2020-08-13T20:49:41.463091Z",
     "iopub.status.idle": "2020-08-13T20:49:42.562332Z",
     "shell.execute_reply": "2020-08-13T20:49:42.563076Z"
    },
    "papermill": {
     "duration": 1.11641,
     "end_time": "2020-08-13T20:49:42.563305",
     "exception": false,
     "start_time": "2020-08-13T20:49:41.446895",
     "status": "completed"
    },
    "tags": []
   },
   "outputs": [
    {
     "name": "stdout",
     "output_type": "stream",
     "text": [
      "/kaggle/input/streeteasy/streeteasy.csv\n",
      "/kaggle/input/nyc-zones/zones.geojson\n"
     ]
    }
   ],
   "source": [
    "# This Python 3 environment comes with many helpful analytics libraries installed\n",
    "# It is defined by the kaggle/python Docker image: https://github.com/kaggle/docker-python\n",
    "# For example, here's several helpful packages to load\n",
    "\n",
    "import numpy as np # linear algebra\n",
    "import pandas as pd # data processing, CSV file I/O (e.g. pd.read_csv)\n",
    "import matplotlib.pyplot as plt\n",
    "import seaborn as sns\n",
    "\n",
    "# Input data files are available in the read-only \"../input/\" directory\n",
    "# For example, running this (by clicking run or pressing Shift+Enter) will list all files under the input directory\n",
    "\n",
    "import os\n",
    "for dirname, _, filenames in os.walk('/kaggle/input'):\n",
    "    for filename in filenames:\n",
    "        print(os.path.join(dirname, filename))\n",
    "\n",
    "# You can write up to 5GB to the current directory (/kaggle/working/) that gets preserved as output when you create a version using \"Save & Run All\" \n",
    "# You can also write temporary files to /kaggle/temp/, but they won't be saved outside of the current session"
   ]
  },
  {
   "cell_type": "code",
   "execution_count": 2,
   "metadata": {
    "_cell_guid": "79c7e3d0-c299-4dcb-8224-4455121ee9b0",
    "_uuid": "d629ff2d2480ee46fbb7e2d37f6b5fab8052498a",
    "execution": {
     "iopub.execute_input": "2020-08-13T20:49:42.585031Z",
     "iopub.status.busy": "2020-08-13T20:49:42.584214Z",
     "iopub.status.idle": "2020-08-13T20:49:42.660216Z",
     "shell.execute_reply": "2020-08-13T20:49:42.660904Z"
    },
    "papermill": {
     "duration": 0.090243,
     "end_time": "2020-08-13T20:49:42.661121",
     "exception": false,
     "start_time": "2020-08-13T20:49:42.570878",
     "status": "completed"
    },
    "tags": []
   },
   "outputs": [
    {
     "data": {
      "text/html": [
       "<div>\n",
       "<style scoped>\n",
       "    .dataframe tbody tr th:only-of-type {\n",
       "        vertical-align: middle;\n",
       "    }\n",
       "\n",
       "    .dataframe tbody tr th {\n",
       "        vertical-align: top;\n",
       "    }\n",
       "\n",
       "    .dataframe thead th {\n",
       "        text-align: right;\n",
       "    }\n",
       "</style>\n",
       "<table border=\"1\" class=\"dataframe\">\n",
       "  <thead>\n",
       "    <tr style=\"text-align: right;\">\n",
       "      <th></th>\n",
       "      <th>rental_id</th>\n",
       "      <th>building_id</th>\n",
       "      <th>rent</th>\n",
       "      <th>bedrooms</th>\n",
       "      <th>bathrooms</th>\n",
       "      <th>size_sqft</th>\n",
       "      <th>min_to_subway</th>\n",
       "      <th>floor</th>\n",
       "      <th>building_age_yrs</th>\n",
       "      <th>no_fee</th>\n",
       "      <th>has_roofdeck</th>\n",
       "      <th>has_washer_dryer</th>\n",
       "      <th>has_doorman</th>\n",
       "      <th>has_elevator</th>\n",
       "      <th>has_dishwasher</th>\n",
       "      <th>has_patio</th>\n",
       "      <th>has_gym</th>\n",
       "      <th>neighborhood</th>\n",
       "      <th>submarket</th>\n",
       "      <th>borough</th>\n",
       "    </tr>\n",
       "  </thead>\n",
       "  <tbody>\n",
       "    <tr>\n",
       "      <th>0</th>\n",
       "      <td>1545</td>\n",
       "      <td>44518357</td>\n",
       "      <td>2550</td>\n",
       "      <td>0.0</td>\n",
       "      <td>1</td>\n",
       "      <td>480</td>\n",
       "      <td>9</td>\n",
       "      <td>2.0</td>\n",
       "      <td>17</td>\n",
       "      <td>1</td>\n",
       "      <td>1</td>\n",
       "      <td>0</td>\n",
       "      <td>0</td>\n",
       "      <td>1</td>\n",
       "      <td>1</td>\n",
       "      <td>0</td>\n",
       "      <td>1</td>\n",
       "      <td>Upper East Side</td>\n",
       "      <td>All Upper East Side</td>\n",
       "      <td>Manhattan</td>\n",
       "    </tr>\n",
       "    <tr>\n",
       "      <th>1</th>\n",
       "      <td>2472</td>\n",
       "      <td>94441623</td>\n",
       "      <td>11500</td>\n",
       "      <td>2.0</td>\n",
       "      <td>2</td>\n",
       "      <td>2000</td>\n",
       "      <td>4</td>\n",
       "      <td>1.0</td>\n",
       "      <td>96</td>\n",
       "      <td>0</td>\n",
       "      <td>0</td>\n",
       "      <td>0</td>\n",
       "      <td>0</td>\n",
       "      <td>0</td>\n",
       "      <td>0</td>\n",
       "      <td>0</td>\n",
       "      <td>0</td>\n",
       "      <td>Greenwich Village</td>\n",
       "      <td>All Downtown</td>\n",
       "      <td>Manhattan</td>\n",
       "    </tr>\n",
       "    <tr>\n",
       "      <th>2</th>\n",
       "      <td>10234</td>\n",
       "      <td>87632265</td>\n",
       "      <td>3000</td>\n",
       "      <td>3.0</td>\n",
       "      <td>1</td>\n",
       "      <td>1000</td>\n",
       "      <td>4</td>\n",
       "      <td>1.0</td>\n",
       "      <td>106</td>\n",
       "      <td>0</td>\n",
       "      <td>0</td>\n",
       "      <td>0</td>\n",
       "      <td>0</td>\n",
       "      <td>0</td>\n",
       "      <td>0</td>\n",
       "      <td>0</td>\n",
       "      <td>0</td>\n",
       "      <td>Astoria</td>\n",
       "      <td>Northwest Queens</td>\n",
       "      <td>Queens</td>\n",
       "    </tr>\n",
       "    <tr>\n",
       "      <th>3</th>\n",
       "      <td>2919</td>\n",
       "      <td>76909719</td>\n",
       "      <td>4500</td>\n",
       "      <td>1.0</td>\n",
       "      <td>1</td>\n",
       "      <td>916</td>\n",
       "      <td>2</td>\n",
       "      <td>51.0</td>\n",
       "      <td>29</td>\n",
       "      <td>0</td>\n",
       "      <td>1</td>\n",
       "      <td>0</td>\n",
       "      <td>1</td>\n",
       "      <td>1</td>\n",
       "      <td>1</td>\n",
       "      <td>0</td>\n",
       "      <td>0</td>\n",
       "      <td>Midtown</td>\n",
       "      <td>All Midtown</td>\n",
       "      <td>Manhattan</td>\n",
       "    </tr>\n",
       "    <tr>\n",
       "      <th>4</th>\n",
       "      <td>2790</td>\n",
       "      <td>92953520</td>\n",
       "      <td>4795</td>\n",
       "      <td>1.0</td>\n",
       "      <td>1</td>\n",
       "      <td>975</td>\n",
       "      <td>3</td>\n",
       "      <td>8.0</td>\n",
       "      <td>31</td>\n",
       "      <td>0</td>\n",
       "      <td>0</td>\n",
       "      <td>0</td>\n",
       "      <td>1</td>\n",
       "      <td>1</td>\n",
       "      <td>1</td>\n",
       "      <td>0</td>\n",
       "      <td>1</td>\n",
       "      <td>Greenwich Village</td>\n",
       "      <td>All Downtown</td>\n",
       "      <td>Manhattan</td>\n",
       "    </tr>\n",
       "  </tbody>\n",
       "</table>\n",
       "</div>"
      ],
      "text/plain": [
       "   rental_id  building_id   rent  bedrooms  bathrooms  size_sqft  \\\n",
       "0       1545     44518357   2550       0.0          1        480   \n",
       "1       2472     94441623  11500       2.0          2       2000   \n",
       "2      10234     87632265   3000       3.0          1       1000   \n",
       "3       2919     76909719   4500       1.0          1        916   \n",
       "4       2790     92953520   4795       1.0          1        975   \n",
       "\n",
       "   min_to_subway  floor  building_age_yrs  no_fee  has_roofdeck  \\\n",
       "0              9    2.0                17       1             1   \n",
       "1              4    1.0                96       0             0   \n",
       "2              4    1.0               106       0             0   \n",
       "3              2   51.0                29       0             1   \n",
       "4              3    8.0                31       0             0   \n",
       "\n",
       "   has_washer_dryer  has_doorman  has_elevator  has_dishwasher  has_patio  \\\n",
       "0                 0            0             1               1          0   \n",
       "1                 0            0             0               0          0   \n",
       "2                 0            0             0               0          0   \n",
       "3                 0            1             1               1          0   \n",
       "4                 0            1             1               1          0   \n",
       "\n",
       "   has_gym       neighborhood            submarket    borough  \n",
       "0        1    Upper East Side  All Upper East Side  Manhattan  \n",
       "1        0  Greenwich Village         All Downtown  Manhattan  \n",
       "2        0            Astoria     Northwest Queens     Queens  \n",
       "3        0            Midtown          All Midtown  Manhattan  \n",
       "4        1  Greenwich Village         All Downtown  Manhattan  "
      ]
     },
     "execution_count": 2,
     "metadata": {},
     "output_type": "execute_result"
    }
   ],
   "source": [
    "house = pd.read_csv(\"/kaggle/input/streeteasy/streeteasy.csv\")\n",
    "house.head()"
   ]
  },
  {
   "cell_type": "code",
   "execution_count": 3,
   "metadata": {
    "execution": {
     "iopub.execute_input": "2020-08-13T20:49:42.687730Z",
     "iopub.status.busy": "2020-08-13T20:49:42.686513Z",
     "iopub.status.idle": "2020-08-13T20:49:42.695634Z",
     "shell.execute_reply": "2020-08-13T20:49:42.695008Z"
    },
    "papermill": {
     "duration": 0.026035,
     "end_time": "2020-08-13T20:49:42.695771",
     "exception": false,
     "start_time": "2020-08-13T20:49:42.669736",
     "status": "completed"
    },
    "tags": []
   },
   "outputs": [
    {
     "data": {
      "text/plain": [
       "rental_id           False\n",
       "building_id         False\n",
       "rent                False\n",
       "bedrooms            False\n",
       "bathrooms           False\n",
       "size_sqft           False\n",
       "min_to_subway       False\n",
       "floor               False\n",
       "building_age_yrs    False\n",
       "no_fee              False\n",
       "has_roofdeck        False\n",
       "has_washer_dryer    False\n",
       "has_doorman         False\n",
       "has_elevator        False\n",
       "has_dishwasher      False\n",
       "has_patio           False\n",
       "has_gym             False\n",
       "neighborhood        False\n",
       "submarket           False\n",
       "borough             False\n",
       "dtype: bool"
      ]
     },
     "execution_count": 3,
     "metadata": {},
     "output_type": "execute_result"
    }
   ],
   "source": [
    "house.isnull().any()"
   ]
  },
  {
   "cell_type": "code",
   "execution_count": 4,
   "metadata": {
    "execution": {
     "iopub.execute_input": "2020-08-13T20:49:42.720540Z",
     "iopub.status.busy": "2020-08-13T20:49:42.719403Z",
     "iopub.status.idle": "2020-08-13T20:49:42.724636Z",
     "shell.execute_reply": "2020-08-13T20:49:42.723949Z"
    },
    "papermill": {
     "duration": 0.021094,
     "end_time": "2020-08-13T20:49:42.724786",
     "exception": false,
     "start_time": "2020-08-13T20:49:42.703692",
     "status": "completed"
    },
    "tags": []
   },
   "outputs": [
    {
     "data": {
      "text/plain": [
       "rental_id             int64\n",
       "building_id           int64\n",
       "rent                  int64\n",
       "bedrooms            float64\n",
       "bathrooms             int64\n",
       "size_sqft             int64\n",
       "min_to_subway         int64\n",
       "floor               float64\n",
       "building_age_yrs      int64\n",
       "no_fee                int64\n",
       "has_roofdeck          int64\n",
       "has_washer_dryer      int64\n",
       "has_doorman           int64\n",
       "has_elevator          int64\n",
       "has_dishwasher        int64\n",
       "has_patio             int64\n",
       "has_gym               int64\n",
       "neighborhood         object\n",
       "submarket            object\n",
       "borough              object\n",
       "dtype: object"
      ]
     },
     "execution_count": 4,
     "metadata": {},
     "output_type": "execute_result"
    }
   ],
   "source": [
    "house.dtypes"
   ]
  },
  {
   "cell_type": "code",
   "execution_count": 5,
   "metadata": {
    "execution": {
     "iopub.execute_input": "2020-08-13T20:49:42.751878Z",
     "iopub.status.busy": "2020-08-13T20:49:42.750739Z",
     "iopub.status.idle": "2020-08-13T20:49:42.776654Z",
     "shell.execute_reply": "2020-08-13T20:49:42.775804Z"
    },
    "papermill": {
     "duration": 0.043702,
     "end_time": "2020-08-13T20:49:42.776804",
     "exception": false,
     "start_time": "2020-08-13T20:49:42.733102",
     "status": "completed"
    },
    "tags": []
   },
   "outputs": [
    {
     "data": {
      "text/html": [
       "<div>\n",
       "<style scoped>\n",
       "    .dataframe tbody tr th:only-of-type {\n",
       "        vertical-align: middle;\n",
       "    }\n",
       "\n",
       "    .dataframe tbody tr th {\n",
       "        vertical-align: top;\n",
       "    }\n",
       "\n",
       "    .dataframe thead th {\n",
       "        text-align: right;\n",
       "    }\n",
       "</style>\n",
       "<table border=\"1\" class=\"dataframe\">\n",
       "  <thead>\n",
       "    <tr style=\"text-align: right;\">\n",
       "      <th></th>\n",
       "      <th>neighborhood</th>\n",
       "      <th>rent</th>\n",
       "    </tr>\n",
       "  </thead>\n",
       "  <tbody>\n",
       "    <tr>\n",
       "      <th>0</th>\n",
       "      <td>Astoria</td>\n",
       "      <td>2541.537879</td>\n",
       "    </tr>\n",
       "    <tr>\n",
       "      <th>1</th>\n",
       "      <td>Battery Park City</td>\n",
       "      <td>5968.961538</td>\n",
       "    </tr>\n",
       "    <tr>\n",
       "      <th>2</th>\n",
       "      <td>Bay Ridge</td>\n",
       "      <td>1940.000000</td>\n",
       "    </tr>\n",
       "    <tr>\n",
       "      <th>3</th>\n",
       "      <td>Bedford-Stuyvesant</td>\n",
       "      <td>2827.679245</td>\n",
       "    </tr>\n",
       "    <tr>\n",
       "      <th>4</th>\n",
       "      <td>Boerum Hill</td>\n",
       "      <td>3067.666667</td>\n",
       "    </tr>\n",
       "    <tr>\n",
       "      <th>...</th>\n",
       "      <td>...</td>\n",
       "      <td>...</td>\n",
       "    </tr>\n",
       "    <tr>\n",
       "      <th>88</th>\n",
       "      <td>West Village</td>\n",
       "      <td>5970.970149</td>\n",
       "    </tr>\n",
       "    <tr>\n",
       "      <th>89</th>\n",
       "      <td>Williamsburg</td>\n",
       "      <td>3679.787582</td>\n",
       "    </tr>\n",
       "    <tr>\n",
       "      <th>90</th>\n",
       "      <td>Windsor Terrace</td>\n",
       "      <td>2850.000000</td>\n",
       "    </tr>\n",
       "    <tr>\n",
       "      <th>91</th>\n",
       "      <td>Woodhaven</td>\n",
       "      <td>1650.000000</td>\n",
       "    </tr>\n",
       "    <tr>\n",
       "      <th>92</th>\n",
       "      <td>Woodside</td>\n",
       "      <td>1815.000000</td>\n",
       "    </tr>\n",
       "  </tbody>\n",
       "</table>\n",
       "<p>93 rows × 2 columns</p>\n",
       "</div>"
      ],
      "text/plain": [
       "          neighborhood         rent\n",
       "0              Astoria  2541.537879\n",
       "1    Battery Park City  5968.961538\n",
       "2            Bay Ridge  1940.000000\n",
       "3   Bedford-Stuyvesant  2827.679245\n",
       "4          Boerum Hill  3067.666667\n",
       "..                 ...          ...\n",
       "88        West Village  5970.970149\n",
       "89        Williamsburg  3679.787582\n",
       "90     Windsor Terrace  2850.000000\n",
       "91           Woodhaven  1650.000000\n",
       "92            Woodside  1815.000000\n",
       "\n",
       "[93 rows x 2 columns]"
      ]
     },
     "execution_count": 5,
     "metadata": {},
     "output_type": "execute_result"
    }
   ],
   "source": [
    "rent_avg = house.groupby(\"neighborhood\")['rent'].mean().reset_index()\n",
    "rent_avg"
   ]
  },
  {
   "cell_type": "code",
   "execution_count": 6,
   "metadata": {
    "execution": {
     "iopub.execute_input": "2020-08-13T20:49:42.804666Z",
     "iopub.status.busy": "2020-08-13T20:49:42.803381Z",
     "iopub.status.idle": "2020-08-13T20:49:43.039659Z",
     "shell.execute_reply": "2020-08-13T20:49:43.038890Z"
    },
    "papermill": {
     "duration": 0.254414,
     "end_time": "2020-08-13T20:49:43.039795",
     "exception": false,
     "start_time": "2020-08-13T20:49:42.785381",
     "status": "completed"
    },
    "tags": []
   },
   "outputs": [
    {
     "data": {
      "image/png": "[encoded data removed]",
      "text/plain": [
       "<Figure size 432x288 with 1 Axes>"
      ]
     },
     "metadata": {},
     "output_type": "display_data"
    }
   ],
   "source": [
    "sns.set(style=\"whitegrid\")\n",
    "ax = sns.boxplot(y=\"rent\", data=house)"
   ]
  },
  {
   "cell_type": "code",
   "execution_count": 7,
   "metadata": {
    "execution": {
     "iopub.execute_input": "2020-08-13T20:49:43.093019Z",
     "iopub.status.busy": "2020-08-13T20:49:43.061010Z",
     "iopub.status.idle": "2020-08-13T20:49:43.491435Z",
     "shell.execute_reply": "2020-08-13T20:49:43.492084Z"
    },
    "papermill": {
     "duration": 0.443534,
     "end_time": "2020-08-13T20:49:43.492267",
     "exception": false,
     "start_time": "2020-08-13T20:49:43.048733",
     "status": "completed"
    },
    "tags": []
   },
   "outputs": [
    {
     "data": {
      "image/png": "[encoded data removed]",
      "text/plain": [
       "<Figure size 432x288 with 1 Axes>"
      ]
     },
     "metadata": {},
     "output_type": "display_data"
    }
   ],
   "source": [
    "rent_avg_wealthy10 = rent_avg.sort_values(by=['rent']).tail(10)\n",
    "sns.set(style=\"whitegrid\")\n",
    "ax = sns.barplot(x=\"rent\", y=\"neighborhood\", data=rent_avg_wealthy10, errwidth=30)"
   ]
  },
  {
   "cell_type": "code",
   "execution_count": 8,
   "metadata": {
    "execution": {
     "iopub.execute_input": "2020-08-13T20:49:43.535983Z",
     "iopub.status.busy": "2020-08-13T20:49:43.534549Z",
     "iopub.status.idle": "2020-08-13T20:49:43.942205Z",
     "shell.execute_reply": "2020-08-13T20:49:43.941396Z"
    },
    "papermill": {
     "duration": 0.440667,
     "end_time": "2020-08-13T20:49:43.942339",
     "exception": false,
     "start_time": "2020-08-13T20:49:43.501672",
     "status": "completed"
    },
    "tags": []
   },
   "outputs": [
    {
     "data": {
      "image/png": "[encoded data removed]",
      "text/plain": [
       "<Figure size 432x288 with 1 Axes>"
      ]
     },
     "metadata": {},
     "output_type": "display_data"
    }
   ],
   "source": [
    "rent_avg_working10 = rent_avg.sort_values(by=['rent']).head(10)\n",
    "sns.set(style=\"whitegrid\")\n",
    "ax = sns.barplot(x=\"rent\", y=\"neighborhood\", data=rent_avg_working10, errwidth=30)"
   ]
  },
  {
   "cell_type": "code",
   "execution_count": 9,
   "metadata": {
    "execution": {
     "iopub.execute_input": "2020-08-13T20:49:43.974628Z",
     "iopub.status.busy": "2020-08-13T20:49:43.970954Z",
     "iopub.status.idle": "2020-08-13T20:49:44.308621Z",
     "shell.execute_reply": "2020-08-13T20:49:44.307795Z"
    },
    "papermill": {
     "duration": 0.35639,
     "end_time": "2020-08-13T20:49:44.308761",
     "exception": false,
     "start_time": "2020-08-13T20:49:43.952371",
     "status": "completed"
    },
    "tags": []
   },
   "outputs": [
    {
     "data": {
      "image/png": "[encoded data removed]",
      "text/plain": [
       "<Figure size 432x288 with 1 Axes>"
      ]
     },
     "metadata": {},
     "output_type": "display_data"
    }
   ],
   "source": [
    "bedrooms = house.groupby(\"bedrooms\")['rent'].mean().reset_index()\n",
    "bedrooms_barchart = bedrooms.sort_values(by=['rent'])\n",
    "sns.set(style=\"whitegrid\")\n",
    "ax = sns.barplot(x=\"bedrooms\", y=\"rent\", data=bedrooms_barchart, errwidth=30)"
   ]
  },
  {
   "cell_type": "code",
   "execution_count": 10,
   "metadata": {
    "execution": {
     "iopub.execute_input": "2020-08-13T20:49:44.337840Z",
     "iopub.status.busy": "2020-08-13T20:49:44.336518Z",
     "iopub.status.idle": "2020-08-13T20:49:44.596180Z",
     "shell.execute_reply": "2020-08-13T20:49:44.595372Z"
    },
    "papermill": {
     "duration": 0.277746,
     "end_time": "2020-08-13T20:49:44.596318",
     "exception": false,
     "start_time": "2020-08-13T20:49:44.318572",
     "status": "completed"
    },
    "tags": []
   },
   "outputs": [
    {
     "data": {
      "image/png": "[encoded data removed]",
      "text/plain": [
       "<Figure size 432x288 with 1 Axes>"
      ]
     },
     "metadata": {},
     "output_type": "display_data"
    }
   ],
   "source": [
    "bathrooms = house.groupby(\"bathrooms\")['rent'].mean().reset_index()\n",
    "bathrooms_barchart = bathrooms.sort_values(by=['rent'])\n",
    "sns.set(style=\"whitegrid\")\n",
    "ax = sns.barplot(x=\"bathrooms\", y=\"rent\", data=bathrooms_barchart, errwidth=30)"
   ]
  },
  {
   "cell_type": "code",
   "execution_count": 11,
   "metadata": {
    "execution": {
     "iopub.execute_input": "2020-08-13T20:49:44.626181Z",
     "iopub.status.busy": "2020-08-13T20:49:44.624853Z",
     "iopub.status.idle": "2020-08-13T20:49:47.117197Z",
     "shell.execute_reply": "2020-08-13T20:49:47.116393Z"
    },
    "papermill": {
     "duration": 2.510704,
     "end_time": "2020-08-13T20:49:47.117329",
     "exception": false,
     "start_time": "2020-08-13T20:49:44.606625",
     "status": "completed"
    },
    "tags": []
   },
   "outputs": [
    {
     "data": {
      "image/png": "[encoded data removed]",
      "text/plain": [
       "<Figure size 432x288 with 1 Axes>"
      ]
     },
     "metadata": {},
     "output_type": "display_data"
    }
   ],
   "source": [
    "floor = house.groupby(\"floor\")['rent'].mean().reset_index()\n",
    "floor_barchart = floor.sort_values(by=['rent'])\n",
    "sns.set(style=\"whitegrid\")\n",
    "ax = sns.barplot(x=\"floor\", y=\"rent\", data=floor_barchart, errwidth=30)"
   ]
  },
  {
   "cell_type": "code",
   "execution_count": 12,
   "metadata": {
    "execution": {
     "iopub.execute_input": "2020-08-13T20:49:47.188803Z",
     "iopub.status.busy": "2020-08-13T20:49:47.182657Z",
     "iopub.status.idle": "2020-08-13T20:49:47.693388Z",
     "shell.execute_reply": "2020-08-13T20:49:47.692573Z"
    },
    "papermill": {
     "duration": 0.565522,
     "end_time": "2020-08-13T20:49:47.693548",
     "exception": false,
     "start_time": "2020-08-13T20:49:47.128026",
     "status": "completed"
    },
    "tags": []
   },
   "outputs": [
    {
     "data": {
      "image/png": "[encoded data removed]",
      "text/plain": [
       "<Figure size 432x288 with 1 Axes>"
      ]
     },
     "metadata": {},
     "output_type": "display_data"
    }
   ],
   "source": [
    "min_to_subway = house.groupby(\"min_to_subway\")['rent'].mean().reset_index()\n",
    "min_to_subway_barchart = min_to_subway.sort_values(by=['rent'])\n",
    "sns.set(style=\"whitegrid\")\n",
    "ax = sns.barplot(x=\"min_to_subway\", y=\"rent\", data=min_to_subway_barchart, errwidth=30)"
   ]
  },
  {
   "cell_type": "code",
   "execution_count": 13,
   "metadata": {
    "execution": {
     "iopub.execute_input": "2020-08-13T20:49:47.737194Z",
     "iopub.status.busy": "2020-08-13T20:49:47.735938Z",
     "iopub.status.idle": "2020-08-13T20:49:48.138906Z",
     "shell.execute_reply": "2020-08-13T20:49:48.139572Z"
    },
    "papermill": {
     "duration": 0.433855,
     "end_time": "2020-08-13T20:49:48.139773",
     "exception": false,
     "start_time": "2020-08-13T20:49:47.705918",
     "status": "completed"
    },
    "tags": []
   },
   "outputs": [
    {
     "data": {
      "image/png": "[encoded data removed]",
      "text/plain": [
       "<Figure size 432x288 with 1 Axes>"
      ]
     },
     "metadata": {},
     "output_type": "display_data"
    }
   ],
   "source": [
    "ax = sns.scatterplot(x=\"size_sqft\", y=\"rent\", data=house)"
   ]
  },
  {
   "cell_type": "code",
   "execution_count": 14,
   "metadata": {
    "execution": {
     "iopub.execute_input": "2020-08-13T20:49:48.184497Z",
     "iopub.status.busy": "2020-08-13T20:49:48.177832Z",
     "iopub.status.idle": "2020-08-13T20:49:48.577290Z",
     "shell.execute_reply": "2020-08-13T20:49:48.577919Z"
    },
    "papermill": {
     "duration": 0.425793,
     "end_time": "2020-08-13T20:49:48.578135",
     "exception": false,
     "start_time": "2020-08-13T20:49:48.152342",
     "status": "completed"
    },
    "tags": []
   },
   "outputs": [
    {
     "data": {
      "image/png": "[encoded data removed]",
      "text/plain": [
       "<Figure size 432x288 with 1 Axes>"
      ]
     },
     "metadata": {},
     "output_type": "display_data"
    }
   ],
   "source": [
    "ax = sns.scatterplot(x=\"building_age_yrs\", y=\"rent\", data=house)"
   ]
  },
  {
   "cell_type": "code",
   "execution_count": 15,
   "metadata": {
    "execution": {
     "iopub.execute_input": "2020-08-13T20:49:48.631986Z",
     "iopub.status.busy": "2020-08-13T20:49:48.630900Z",
     "iopub.status.idle": "2020-08-13T20:49:48.636914Z",
     "shell.execute_reply": "2020-08-13T20:49:48.636242Z"
    },
    "papermill": {
     "duration": 0.046779,
     "end_time": "2020-08-13T20:49:48.637068",
     "exception": false,
     "start_time": "2020-08-13T20:49:48.590289",
     "status": "completed"
    },
    "tags": []
   },
   "outputs": [
    {
     "data": {
      "text/html": [
       "<div>\n",
       "<style scoped>\n",
       "    .dataframe tbody tr th:only-of-type {\n",
       "        vertical-align: middle;\n",
       "    }\n",
       "\n",
       "    .dataframe tbody tr th {\n",
       "        vertical-align: top;\n",
       "    }\n",
       "\n",
       "    .dataframe thead th {\n",
       "        text-align: right;\n",
       "    }\n",
       "</style>\n",
       "<table border=\"1\" class=\"dataframe\">\n",
       "  <thead>\n",
       "    <tr style=\"text-align: right;\">\n",
       "      <th></th>\n",
       "      <th>rental_id</th>\n",
       "      <th>building_id</th>\n",
       "      <th>rent</th>\n",
       "      <th>bedrooms</th>\n",
       "      <th>bathrooms</th>\n",
       "      <th>size_sqft</th>\n",
       "      <th>min_to_subway</th>\n",
       "      <th>floor</th>\n",
       "      <th>building_age_yrs</th>\n",
       "      <th>no_fee</th>\n",
       "      <th>has_roofdeck</th>\n",
       "      <th>has_washer_dryer</th>\n",
       "      <th>has_doorman</th>\n",
       "      <th>has_elevator</th>\n",
       "      <th>has_dishwasher</th>\n",
       "      <th>has_patio</th>\n",
       "      <th>has_gym</th>\n",
       "      <th>neighborhood</th>\n",
       "      <th>submarket</th>\n",
       "      <th>borough</th>\n",
       "    </tr>\n",
       "  </thead>\n",
       "  <tbody>\n",
       "    <tr>\n",
       "      <th>0</th>\n",
       "      <td>1545</td>\n",
       "      <td>44518357</td>\n",
       "      <td>2550</td>\n",
       "      <td>0.0</td>\n",
       "      <td>1</td>\n",
       "      <td>480</td>\n",
       "      <td>9</td>\n",
       "      <td>2.0</td>\n",
       "      <td>17</td>\n",
       "      <td>1</td>\n",
       "      <td>1</td>\n",
       "      <td>0</td>\n",
       "      <td>0</td>\n",
       "      <td>1</td>\n",
       "      <td>1</td>\n",
       "      <td>0</td>\n",
       "      <td>1</td>\n",
       "      <td>Upper East Side</td>\n",
       "      <td>All Upper East Side</td>\n",
       "      <td>Manhattan</td>\n",
       "    </tr>\n",
       "    <tr>\n",
       "      <th>1</th>\n",
       "      <td>2472</td>\n",
       "      <td>94441623</td>\n",
       "      <td>11500</td>\n",
       "      <td>2.0</td>\n",
       "      <td>2</td>\n",
       "      <td>2000</td>\n",
       "      <td>4</td>\n",
       "      <td>1.0</td>\n",
       "      <td>96</td>\n",
       "      <td>0</td>\n",
       "      <td>0</td>\n",
       "      <td>0</td>\n",
       "      <td>0</td>\n",
       "      <td>0</td>\n",
       "      <td>0</td>\n",
       "      <td>0</td>\n",
       "      <td>0</td>\n",
       "      <td>Greenwich Village</td>\n",
       "      <td>All Downtown</td>\n",
       "      <td>Manhattan</td>\n",
       "    </tr>\n",
       "    <tr>\n",
       "      <th>2</th>\n",
       "      <td>10234</td>\n",
       "      <td>87632265</td>\n",
       "      <td>3000</td>\n",
       "      <td>3.0</td>\n",
       "      <td>1</td>\n",
       "      <td>1000</td>\n",
       "      <td>4</td>\n",
       "      <td>1.0</td>\n",
       "      <td>106</td>\n",
       "      <td>0</td>\n",
       "      <td>0</td>\n",
       "      <td>0</td>\n",
       "      <td>0</td>\n",
       "      <td>0</td>\n",
       "      <td>0</td>\n",
       "      <td>0</td>\n",
       "      <td>0</td>\n",
       "      <td>Astoria</td>\n",
       "      <td>Northwest Queens</td>\n",
       "      <td>Queens</td>\n",
       "    </tr>\n",
       "    <tr>\n",
       "      <th>3</th>\n",
       "      <td>2919</td>\n",
       "      <td>76909719</td>\n",
       "      <td>4500</td>\n",
       "      <td>1.0</td>\n",
       "      <td>1</td>\n",
       "      <td>916</td>\n",
       "      <td>2</td>\n",
       "      <td>51.0</td>\n",
       "      <td>29</td>\n",
       "      <td>0</td>\n",
       "      <td>1</td>\n",
       "      <td>0</td>\n",
       "      <td>1</td>\n",
       "      <td>1</td>\n",
       "      <td>1</td>\n",
       "      <td>0</td>\n",
       "      <td>0</td>\n",
       "      <td>Midtown</td>\n",
       "      <td>All Midtown</td>\n",
       "      <td>Manhattan</td>\n",
       "    </tr>\n",
       "    <tr>\n",
       "      <th>4</th>\n",
       "      <td>2790</td>\n",
       "      <td>92953520</td>\n",
       "      <td>4795</td>\n",
       "      <td>1.0</td>\n",
       "      <td>1</td>\n",
       "      <td>975</td>\n",
       "      <td>3</td>\n",
       "      <td>8.0</td>\n",
       "      <td>31</td>\n",
       "      <td>0</td>\n",
       "      <td>0</td>\n",
       "      <td>0</td>\n",
       "      <td>1</td>\n",
       "      <td>1</td>\n",
       "      <td>1</td>\n",
       "      <td>0</td>\n",
       "      <td>1</td>\n",
       "      <td>Greenwich Village</td>\n",
       "      <td>All Downtown</td>\n",
       "      <td>Manhattan</td>\n",
       "    </tr>\n",
       "  </tbody>\n",
       "</table>\n",
       "</div>"
      ],
      "text/plain": [
       "   rental_id  building_id   rent  bedrooms  bathrooms  size_sqft  \\\n",
       "0       1545     44518357   2550       0.0          1        480   \n",
       "1       2472     94441623  11500       2.0          2       2000   \n",
       "2      10234     87632265   3000       3.0          1       1000   \n",
       "3       2919     76909719   4500       1.0          1        916   \n",
       "4       2790     92953520   4795       1.0          1        975   \n",
       "\n",
       "   min_to_subway  floor  building_age_yrs  no_fee  has_roofdeck  \\\n",
       "0              9    2.0                17       1             1   \n",
       "1              4    1.0                96       0             0   \n",
       "2              4    1.0               106       0             0   \n",
       "3              2   51.0                29       0             1   \n",
       "4              3    8.0                31       0             0   \n",
       "\n",
       "   has_washer_dryer  has_doorman  has_elevator  has_dishwasher  has_patio  \\\n",
       "0                 0            0             1               1          0   \n",
       "1                 0            0             0               0          0   \n",
       "2                 0            0             0               0          0   \n",
       "3                 0            1             1               1          0   \n",
       "4                 0            1             1               1          0   \n",
       "\n",
       "   has_gym       neighborhood            submarket    borough  \n",
       "0        1    Upper East Side  All Upper East Side  Manhattan  \n",
       "1        0  Greenwich Village         All Downtown  Manhattan  \n",
       "2        0            Astoria     Northwest Queens     Queens  \n",
       "3        0            Midtown          All Midtown  Manhattan  \n",
       "4        1  Greenwich Village         All Downtown  Manhattan  "
      ]
     },
     "execution_count": 15,
     "metadata": {},
     "output_type": "execute_result"
    }
   ],
   "source": [
    "house.head()"
   ]
  },
  {
   "cell_type": "code",
   "execution_count": 16,
   "metadata": {
    "execution": {
     "iopub.execute_input": "2020-08-13T20:49:48.668196Z",
     "iopub.status.busy": "2020-08-13T20:49:48.667350Z",
     "iopub.status.idle": "2020-08-13T20:49:49.584949Z",
     "shell.execute_reply": "2020-08-13T20:49:49.584082Z"
    },
    "papermill": {
     "duration": 0.935746,
     "end_time": "2020-08-13T20:49:49.585123",
     "exception": false,
     "start_time": "2020-08-13T20:49:48.649377",
     "status": "completed"
    },
    "tags": []
   },
   "outputs": [],
   "source": [
    "import statsmodels.api as sm\n",
    "x_var = house.iloc[:, 9:17]\n",
    "y_var = house[[\"rent\"]]"
   ]
  },
  {
   "cell_type": "code",
   "execution_count": 17,
   "metadata": {
    "execution": {
     "iopub.execute_input": "2020-08-13T20:49:49.620075Z",
     "iopub.status.busy": "2020-08-13T20:49:49.619254Z",
     "iopub.status.idle": "2020-08-13T20:49:49.700738Z",
     "shell.execute_reply": "2020-08-13T20:49:49.701642Z"
    },
    "papermill": {
     "duration": 0.102953,
     "end_time": "2020-08-13T20:49:49.701900",
     "exception": false,
     "start_time": "2020-08-13T20:49:49.598947",
     "status": "completed"
    },
    "tags": []
   },
   "outputs": [
    {
     "name": "stdout",
     "output_type": "stream",
     "text": [
      "                                 OLS Regression Results                                \n",
      "=======================================================================================\n",
      "Dep. Variable:                   rent   R-squared (uncentered):                   0.425\n",
      "Model:                            OLS   Adj. R-squared (uncentered):              0.424\n",
      "Method:                 Least Squares   F-statistic:                              461.3\n",
      "Date:                Thu, 13 Aug 2020   Prob (F-statistic):                        0.00\n",
      "Time:                        20:49:49   Log-Likelihood:                         -48682.\n",
      "No. Observations:                5000   AIC:                                  9.738e+04\n",
      "Df Residuals:                    4992   BIC:                                  9.743e+04\n",
      "Df Model:                           8                                                  \n",
      "Covariance Type:            nonrobust                                                  \n",
      "====================================================================================\n",
      "                       coef    std err          t      P>|t|      [0.025      0.975]\n",
      "------------------------------------------------------------------------------------\n",
      "no_fee            3396.9098     91.275     37.216      0.000    3217.971    3575.849\n",
      "has_roofdeck       254.9466    222.854      1.144      0.253    -181.945     691.839\n",
      "has_washer_dryer  1032.9903    201.281      5.132      0.000     638.391    1427.589\n",
      "has_doorman       1812.4329    212.343      8.535      0.000    1396.147    2228.719\n",
      "has_elevator      1932.1085    219.384      8.807      0.000    1502.019    2362.198\n",
      "has_dishwasher    1110.7134    192.663      5.765      0.000     733.008    1488.418\n",
      "has_patio         1544.8041    283.324      5.452      0.000     989.365    2100.243\n",
      "has_gym           -575.5169    245.987     -2.340      0.019   -1057.759     -93.274\n",
      "==============================================================================\n",
      "Omnibus:                     1209.093   Durbin-Watson:                   1.569\n",
      "Prob(Omnibus):                  0.000   Jarque-Bera (JB):             3425.160\n",
      "Skew:                           1.265   Prob(JB):                         0.00\n",
      "Kurtosis:                       6.169   Cond. No.                         4.25\n",
      "==============================================================================\n",
      "\n",
      "Warnings:\n",
      "[1] Standard Errors assume that the covariance matrix of the errors is correctly specified.\n"
     ]
    }
   ],
   "source": [
    "#posative coef = if x increases, the rent increases\n",
    "#negative coef = if x increases, the rent decreases\n",
    "#no fee means no broker's fee is paid\n",
    "lm = sm.OLS(y_var, x_var, data = house).fit()\n",
    "print(lm.summary())"
   ]
  },
  {
   "cell_type": "markdown",
   "execution_count": null,
   "metadata": {
    "papermill": {
     "duration": 0.012652,
     "end_time": "2020-08-13T20:49:49.731342",
     "exception": false,
     "start_time": "2020-08-13T20:49:49.718690",
     "status": "completed"
    },
    "tags": []
   },
   "source": [
    "The apartents with a gym tend to be less in rent than those without a gym. Wouldn't more people want to live in an apartment that has a gym. Since the regression states that the coefficient for the gym is negative, maybe the other factors are more important."
   ]
  },
  {
   "cell_type": "code",
   "execution_count": 18,
   "metadata": {
    "execution": {
     "iopub.execute_input": "2020-08-13T20:49:49.765477Z",
     "iopub.status.busy": "2020-08-13T20:49:49.764456Z",
     "iopub.status.idle": "2020-08-13T20:49:49.769540Z",
     "shell.execute_reply": "2020-08-13T20:49:49.770173Z"
    },
    "papermill": {
     "duration": 0.026069,
     "end_time": "2020-08-13T20:49:49.770350",
     "exception": false,
     "start_time": "2020-08-13T20:49:49.744281",
     "status": "completed"
    },
    "tags": []
   },
   "outputs": [
    {
     "name": "stdout",
     "output_type": "stream",
     "text": [
      "(5000, 8)\n",
      "(5000, 1)\n"
     ]
    }
   ],
   "source": [
    "print(x_var.shape)\n",
    "print(y_var.shape)\n",
    "X=x_var.values\n",
    "y=y_var.values"
   ]
  },
  {
   "cell_type": "code",
   "execution_count": 19,
   "metadata": {
    "execution": {
     "iopub.execute_input": "2020-08-13T20:49:49.802395Z",
     "iopub.status.busy": "2020-08-13T20:49:49.801498Z",
     "iopub.status.idle": "2020-08-13T20:49:49.804892Z",
     "shell.execute_reply": "2020-08-13T20:49:49.805572Z"
    },
    "papermill": {
     "duration": 0.022715,
     "end_time": "2020-08-13T20:49:49.805757",
     "exception": false,
     "start_time": "2020-08-13T20:49:49.783042",
     "status": "completed"
    },
    "tags": []
   },
   "outputs": [
    {
     "name": "stdout",
     "output_type": "stream",
     "text": [
      "(5000, 8)\n",
      "(5000, 1)\n"
     ]
    }
   ],
   "source": [
    "print(X.shape)\n",
    "print(y.shape)"
   ]
  },
  {
   "cell_type": "code",
   "execution_count": 20,
   "metadata": {
    "execution": {
     "iopub.execute_input": "2020-08-13T20:49:49.858281Z",
     "iopub.status.busy": "2020-08-13T20:49:49.857014Z",
     "iopub.status.idle": "2020-08-13T20:49:50.501707Z",
     "shell.execute_reply": "2020-08-13T20:49:50.502321Z"
    },
    "papermill": {
     "duration": 0.68088,
     "end_time": "2020-08-13T20:49:50.502515",
     "exception": false,
     "start_time": "2020-08-13T20:49:49.821635",
     "status": "completed"
    },
    "tags": []
   },
   "outputs": [
    {
     "name": "stdout",
     "output_type": "stream",
     "text": [
      "Mean Absolute Error: 2149.12\n"
     ]
    }
   ],
   "source": [
    "from sklearn import neighbors, preprocessing\n",
    "from sklearn.model_selection import train_test_split\n",
    "from sklearn.tree import DecisionTreeClassifier\n",
    "from sklearn.metrics import mean_absolute_error\n",
    "from sklearn.preprocessing import Normalizer\n",
    "from sklearn import neighbors\n",
    "X_train, X_test, y_train, y_test = train_test_split(X,y,random_state=1)\n",
    "scaler = Normalizer().fit(X_train)\n",
    "house_model = DecisionTreeClassifier()\n",
    "house_model.fit(X_train, y_train)\n",
    "house_preds = house_model.predict(X_test)\n",
    "print(\"Mean Absolute Error:\", mean_absolute_error(y_test, house_preds))"
   ]
  }
 ],
 "metadata": {
  "kernelspec": {
   "display_name": "Python 3",
   "language": "python",
   "name": "python3"
  },
  "language_info": {
   "codemirror_mode": {
    "name": "ipython",
    "version": 3
   },
   "file_extension": ".py",
   "mimetype": "text/x-python",
   "name": "python",
   "nbconvert_exporter": "python",
   "pygments_lexer": "ipython3",
   "version": "3.7.6"
  },
  "papermill": {
   "duration": 23.942051,
   "end_time": "2020-08-13T20:49:50.625064",
   "environment_variables": {},
   "exception": null,
   "input_path": "__notebook__.ipynb",
   "output_path": "__notebook__.ipynb",
   "parameters": {},
   "start_time": "2020-08-13T20:49:26.683013",
   "version": "2.1.0"
  }
 },
 "nbformat": 4,
 "nbformat_minor": 4
}
