{
 "cells": [
  {
   "cell_type": "code",
   "execution_count": 1,
   "metadata": {
    "_cell_guid": "b1076dfc-b9ad-4769-8c92-a6c4dae69d19",
    "_uuid": "8f2839f25d086af736a60e9eeb907d3b93b6e0e5"
   },
   "outputs": [
    {
     "name": "stdout",
     "output_type": "stream",
     "text": [
      "['mnist_train.csv', 'mnist_test.csv']\n"
     ]
    }
   ],
   "source": [
    "# This Python 3 environment comes with many helpful analytics libraries installed\n",
    "# It is defined by the kaggle/python docker image: https://github.com/kaggle/docker-python\n",
    "# For example, here's several helpful packages to load in \n",
    "\n",
    "import numpy as np # linear algebra\n",
    "import pandas as pd # data processing, CSV file I/O (e.g. pd.read_csv)\n",
    "\n",
    "# Input data files are available in the \"../input/\" directory.\n",
    "# For example, running this (by clicking run or pressing Shift+Enter) will list the files in the input directory\n",
    "\n",
    "import os\n",
    "print(os.listdir(\"../input\"))\n",
    "\n",
    "# Any results you write to the current directory are saved as output."
   ]
  },
  {
   "cell_type": "code",
   "execution_count": 2,
   "metadata": {
    "_cell_guid": "79c7e3d0-c299-4dcb-8224-4455121ee9b0",
    "_uuid": "d629ff2d2480ee46fbb7e2d37f6b5fab8052498a"
   },
   "outputs": [
    {
     "name": "stdout",
     "output_type": "stream",
     "text": [
      "       label  1x1  1x2  1x3  1x4  ...    28x24  28x25  28x26  28x27  28x28\n",
      "0          5    0    0    0    0  ...        0      0      0      0      0\n",
      "1          0    0    0    0    0  ...        0      0      0      0      0\n",
      "2          4    0    0    0    0  ...        0      0      0      0      0\n",
      "3          1    0    0    0    0  ...        0      0      0      0      0\n",
      "4          9    0    0    0    0  ...        0      0      0      0      0\n",
      "5          2    0    0    0    0  ...        0      0      0      0      0\n",
      "6          1    0    0    0    0  ...        0      0      0      0      0\n",
      "7          3    0    0    0    0  ...        0      0      0      0      0\n",
      "8          1    0    0    0    0  ...        0      0      0      0      0\n",
      "9          4    0    0    0    0  ...        0      0      0      0      0\n",
      "10         3    0    0    0    0  ...        0      0      0      0      0\n",
      "11         5    0    0    0    0  ...        0      0      0      0      0\n",
      "12         3    0    0    0    0  ...        0      0      0      0      0\n",
      "13         6    0    0    0    0  ...        0      0      0      0      0\n",
      "14         1    0    0    0    0  ...        0      0      0      0      0\n",
      "15         7    0    0    0    0  ...        0      0      0      0      0\n",
      "16         2    0    0    0    0  ...        0      0      0      0      0\n",
      "17         8    0    0    0    0  ...        0      0      0      0      0\n",
      "18         6    0    0    0    0  ...        0      0      0      0      0\n",
      "19         9    0    0    0    0  ...        0      0      0      0      0\n",
      "20         4    0    0    0    0  ...        0      0      0      0      0\n",
      "21         0    0    0    0    0  ...        0      0      0      0      0\n",
      "22         9    0    0    0    0  ...        0      0      0      0      0\n",
      "23         1    0    0    0    0  ...        0      0      0      0      0\n",
      "24         1    0    0    0    0  ...        0      0      0      0      0\n",
      "25         2    0    0    0    0  ...        0      0      0      0      0\n",
      "26         4    0    0    0    0  ...        0      0      0      0      0\n",
      "27         3    0    0    0    0  ...        0      0      0      0      0\n",
      "28         2    0    0    0    0  ...        0      0      0      0      0\n",
      "29         7    0    0    0    0  ...        0      0      0      0      0\n",
      "...      ...  ...  ...  ...  ...  ...      ...    ...    ...    ...    ...\n",
      "59970      2    0    0    0    0  ...        0      0      0      0      0\n",
      "59971      2    0    0    0    0  ...        0      0      0      0      0\n",
      "59972      0    0    0    0    0  ...        0      0      0      0      0\n",
      "59973      9    0    0    0    0  ...        0      0      0      0      0\n",
      "59974      2    0    0    0    0  ...        0      0      0      0      0\n",
      "59975      4    0    0    0    0  ...        0      0      0      0      0\n",
      "59976      6    0    0    0    0  ...        0      0      0      0      0\n",
      "59977      7    0    0    0    0  ...        0      0      0      0      0\n",
      "59978      3    0    0    0    0  ...        0      0      0      0      0\n",
      "59979      1    0    0    0    0  ...        0      0      0      0      0\n",
      "59980      3    0    0    0    0  ...        0      0      0      0      0\n",
      "59981      6    0    0    0    0  ...        0      0      0      0      0\n",
      "59982      6    0    0    0    0  ...        0      0      0      0      0\n",
      "59983      2    0    0    0    0  ...        0      0      0      0      0\n",
      "59984      1    0    0    0    0  ...        0      0      0      0      0\n",
      "59985      2    0    0    0    0  ...        0      0      0      0      0\n",
      "59986      6    0    0    0    0  ...        0      0      0      0      0\n",
      "59987      0    0    0    0    0  ...        0      0      0      0      0\n",
      "59988      7    0    0    0    0  ...        0      0      0      0      0\n",
      "59989      8    0    0    0    0  ...        0      0      0      0      0\n",
      "59990      9    0    0    0    0  ...        0      0      0      0      0\n",
      "59991      2    0    0    0    0  ...        0      0      0      0      0\n",
      "59992      9    0    0    0    0  ...        0      0      0      0      0\n",
      "59993      5    0    0    0    0  ...        0      0      0      0      0\n",
      "59994      1    0    0    0    0  ...        0      0      0      0      0\n",
      "59995      8    0    0    0    0  ...        0      0      0      0      0\n",
      "59996      3    0    0    0    0  ...        0      0      0      0      0\n",
      "59997      5    0    0    0    0  ...        0      0      0      0      0\n",
      "59998      6    0    0    0    0  ...        0      0      0      0      0\n",
      "59999      8    0    0    0    0  ...        0      0      0      0      0\n",
      "\n",
      "[60000 rows x 785 columns]\n",
      "      label  1x1  1x2  1x3  1x4  ...    28x24  28x25  28x26  28x27  28x28\n",
      "0         7    0    0    0    0  ...        0      0      0      0      0\n",
      "1         2    0    0    0    0  ...        0      0      0      0      0\n",
      "2         1    0    0    0    0  ...        0      0      0      0      0\n",
      "3         0    0    0    0    0  ...        0      0      0      0      0\n",
      "4         4    0    0    0    0  ...        0      0      0      0      0\n",
      "5         1    0    0    0    0  ...        0      0      0      0      0\n",
      "6         4    0    0    0    0  ...        0      0      0      0      0\n",
      "7         9    0    0    0    0  ...        0      0      0      0      0\n",
      "8         5    0    0    0    0  ...        0      0      0      0      0\n",
      "9         9    0    0    0    0  ...        0      0      0      0      0\n",
      "10        0    0    0    0    0  ...        0      0      0      0      0\n",
      "11        6    0    0    0    0  ...        0      0      0      0      0\n",
      "12        9    0    0    0    0  ...        0      0      0      0      0\n",
      "13        0    0    0    0    0  ...        0      0      0      0      0\n",
      "14        1    0    0    0    0  ...        0      0      0      0      0\n",
      "15        5    0    0    0    0  ...        0      0      0      0      0\n",
      "16        9    0    0    0    0  ...        0      0      0      0      0\n",
      "17        7    0    0    0    0  ...        0      0      0      0      0\n",
      "18        3    0    0    0    0  ...        0      0      0      0      0\n",
      "19        4    0    0    0    0  ...        0      0      0      0      0\n",
      "20        9    0    0    0    0  ...        0      0      0      0      0\n",
      "21        6    0    0    0    0  ...        0      0      0      0      0\n",
      "22        6    0    0    0    0  ...        0      0      0      0      0\n",
      "23        5    0    0    0    0  ...        0      0      0      0      0\n",
      "24        4    0    0    0    0  ...        0      0      0      0      0\n",
      "25        0    0    0    0    0  ...        0      0      0      0      0\n",
      "26        7    0    0    0    0  ...        0      0      0      0      0\n",
      "27        4    0    0    0    0  ...        0      0      0      0      0\n",
      "28        0    0    0    0    0  ...        0      0      0      0      0\n",
      "29        1    0    0    0    0  ...        0      0      0      0      0\n",
      "...     ...  ...  ...  ...  ...  ...      ...    ...    ...    ...    ...\n",
      "9970      5    0    0    0    0  ...        0      0      0      0      0\n",
      "9971      2    0    0    0    0  ...        0      0      0      0      0\n",
      "9972      4    0    0    0    0  ...        0      0      0      0      0\n",
      "9973      9    0    0    0    0  ...        0      0      0      0      0\n",
      "9974      4    0    0    0    0  ...        0      0      0      0      0\n",
      "9975      3    0    0    0    0  ...        0      0      0      0      0\n",
      "9976      6    0    0    0    0  ...        0      0      0      0      0\n",
      "9977      4    0    0    0    0  ...        0      0      0      0      0\n",
      "9978      1    0    0    0    0  ...        0      0      0      0      0\n",
      "9979      7    0    0    0    0  ...        0      0      0      0      0\n",
      "9980      2    0    0    0    0  ...        0      0      0      0      0\n",
      "9981      6    0    0    0    0  ...        0      0      0      0      0\n",
      "9982      5    0    0    0    0  ...        0      0      0      0      0\n",
      "9983      0    0    0    0    0  ...        0      0      0      0      0\n",
      "9984      1    0    0    0    0  ...        0      0      0      0      0\n",
      "9985      2    0    0    0    0  ...        0      0      0      0      0\n",
      "9986      3    0    0    0    0  ...        0      0      0      0      0\n",
      "9987      4    0    0    0    0  ...        0      0      0      0      0\n",
      "9988      5    0    0    0    0  ...        0      0      0      0      0\n",
      "9989      6    0    0    0    0  ...        0      0      0      0      0\n",
      "9990      7    0    0    0    0  ...        0      0      0      0      0\n",
      "9991      8    0    0    0    0  ...        0      0      0      0      0\n",
      "9992      9    0    0    0    0  ...        0      0      0      0      0\n",
      "9993      0    0    0    0    0  ...        0      0      0      0      0\n",
      "9994      1    0    0    0    0  ...        0      0      0      0      0\n",
      "9995      2    0    0    0    0  ...        0      0      0      0      0\n",
      "9996      3    0    0    0    0  ...        0      0      0      0      0\n",
      "9997      4    0    0    0    0  ...        0      0      0      0      0\n",
      "9998      5    0    0    0    0  ...        0      0      0      0      0\n",
      "9999      6    0    0    0    0  ...        0      0      0      0      0\n",
      "\n",
      "[10000 rows x 785 columns]\n"
     ]
    }
   ],
   "source": [
    "#import dataset.....\n",
    "dataset_train = pd.read_csv(\"../input/mnist_train.csv\")\n",
    "print(dataset_train)\n",
    "dataset_test = pd.read_csv(\"../input/mnist_test.csv\")\n",
    "print(dataset_test)"
   ]
  },
  {
   "cell_type": "code",
   "execution_count": 3,
   "metadata": {},
   "outputs": [
    {
     "name": "stdout",
     "output_type": "stream",
     "text": [
      "[[0 0 0 ... 0 0 0]\n",
      " [0 0 0 ... 0 0 0]\n",
      " [0 0 0 ... 0 0 0]\n",
      " ...\n",
      " [0 0 0 ... 0 0 0]\n",
      " [0 0 0 ... 0 0 0]\n",
      " [0 0 0 ... 0 0 0]] [5 0 4 ... 5 6 8]\n",
      "(60000, 784)\n",
      "(10000,)\n"
     ]
    }
   ],
   "source": [
    "#feature initializing...\n",
    "y_train = np.array(dataset_train.iloc[:,0])\n",
    "X_train = np.array(dataset_train.iloc[:,1:])\n",
    "X_test = np.array(dataset_test.iloc[:,1:]) \n",
    "y_test = np.array(dataset_test.iloc[:,0])\n",
    "X_train = X_train.reshape(60000, 784)\n",
    "X_test = X_test.reshape(10000, 784)\n",
    "print(X_train , y_train)\n",
    "print(X_train.shape)\n",
    "print(y_test.shape)\n"
   ]
  },
  {
   "cell_type": "code",
   "execution_count": 4,
   "metadata": {},
   "outputs": [
    {
     "name": "stderr",
     "output_type": "stream",
     "text": [
      "Using TensorFlow backend.\n"
     ]
    },
    {
     "name": "stdout",
     "output_type": "stream",
     "text": [
      "(60000, 10)\n"
     ]
    }
   ],
   "source": [
    "#onehot encoding.....\n",
    "from keras.utils import np_utils\n",
    "y_train = np_utils.to_categorical(y_train, 10)\n",
    "y_test = np_utils.to_categorical(y_test, 10)\n",
    "print(y_train.shape)"
   ]
  },
  {
   "cell_type": "code",
   "execution_count": 5,
   "metadata": {},
   "outputs": [],
   "source": [
    "#import libraries....\n",
    "\n",
    "from keras.datasets import mnist\n",
    "from keras.models import Sequential, load_model\n",
    "from keras.layers.core import Dense, Dropout, Activation\n",
    "\n",
    "\n"
   ]
  },
  {
   "cell_type": "code",
   "execution_count": 6,
   "metadata": {},
   "outputs": [
    {
     "name": "stdout",
     "output_type": "stream",
     "text": [
      "WARNING:tensorflow:From /opt/conda/lib/python3.6/site-packages/tensorflow/python/framework/op_def_library.py:263: colocate_with (from tensorflow.python.framework.ops) is deprecated and will be removed in a future version.\n",
      "Instructions for updating:\n",
      "Colocations handled automatically by placer.\n",
      "WARNING:tensorflow:From /opt/conda/lib/python3.6/site-packages/keras/backend/tensorflow_backend.py:3445: calling dropout (from tensorflow.python.ops.nn_ops) with keep_prob is deprecated and will be removed in a future version.\n",
      "Instructions for updating:\n",
      "Please use `rate` instead of `keep_prob`. Rate should be set to `rate = 1 - keep_prob`.\n",
      "_________________________________________________________________\n",
      "Layer (type)                 Output Shape              Param #   \n",
      "=================================================================\n",
      "dense_1 (Dense)              (None, 512)               401920    \n",
      "_________________________________________________________________\n",
      "activation_1 (Activation)    (None, 512)               0         \n",
      "_________________________________________________________________\n",
      "dropout_1 (Dropout)          (None, 512)               0         \n",
      "_________________________________________________________________\n",
      "dense_2 (Dense)              (None, 128)               65664     \n",
      "_________________________________________________________________\n",
      "activation_2 (Activation)    (None, 128)               0         \n",
      "_________________________________________________________________\n",
      "dropout_2 (Dropout)          (None, 128)               0         \n",
      "_________________________________________________________________\n",
      "dense_3 (Dense)              (None, 10)                1290      \n",
      "_________________________________________________________________\n",
      "activation_3 (Activation)    (None, 10)                0         \n",
      "=================================================================\n",
      "Total params: 468,874\n",
      "Trainable params: 468,874\n",
      "Non-trainable params: 0\n",
      "_________________________________________________________________\n"
     ]
    }
   ],
   "source": [
    "#model building ....\n",
    "\n",
    "#layer 1.....\n",
    "model = Sequential()\n",
    "model.add(Dense(512, input_shape=(784,)))\n",
    "model.add(Activation('relu'))                            \n",
    "model.add(Dropout(0.2))\n",
    "#layer 2......\n",
    "model.add(Dense(128))\n",
    "model.add(Activation('relu'))\n",
    "model.add(Dropout(0.2))\n",
    "\n",
    "#final......\n",
    "model.add(Dense(10))\n",
    "model.add(Activation('softmax'))\n",
    "model.summary()"
   ]
  },
  {
   "cell_type": "code",
   "execution_count": 7,
   "metadata": {},
   "outputs": [
    {
     "name": "stdout",
     "output_type": "stream",
     "text": [
      "WARNING:tensorflow:From /opt/conda/lib/python3.6/site-packages/tensorflow/python/ops/math_ops.py:3066: to_int32 (from tensorflow.python.ops.math_ops) is deprecated and will be removed in a future version.\n",
      "Instructions for updating:\n",
      "Use tf.cast instead.\n",
      "Epoch 1/20\n",
      "60000/60000 [==============================] - 4s 70us/step - loss: 9.6850 - acc: 0.3822\n",
      "Epoch 2/20\n",
      "60000/60000 [==============================] - 2s 40us/step - loss: 5.5855 - acc: 0.6449\n",
      "Epoch 3/20\n",
      "60000/60000 [==============================] - 2s 40us/step - loss: 4.8325 - acc: 0.6949\n",
      "Epoch 4/20\n",
      "60000/60000 [==============================] - 2s 40us/step - loss: 4.2069 - acc: 0.7324\n",
      "Epoch 5/20\n",
      "60000/60000 [==============================] - 2s 40us/step - loss: 3.3643 - acc: 0.7850\n",
      "Epoch 6/20\n",
      "60000/60000 [==============================] - 2s 40us/step - loss: 3.0041 - acc: 0.8083\n",
      "Epoch 7/20\n",
      "60000/60000 [==============================] - 2s 40us/step - loss: 2.8490 - acc: 0.8189\n",
      "Epoch 8/20\n",
      "60000/60000 [==============================] - 2s 40us/step - loss: 2.6973 - acc: 0.8288\n",
      "Epoch 9/20\n",
      "60000/60000 [==============================] - 2s 40us/step - loss: 2.5937 - acc: 0.8355\n",
      "Epoch 10/20\n",
      "60000/60000 [==============================] - 2s 40us/step - loss: 2.5477 - acc: 0.8380\n",
      "Epoch 11/20\n",
      "60000/60000 [==============================] - 2s 40us/step - loss: 2.4684 - acc: 0.8428\n",
      "Epoch 12/20\n",
      "60000/60000 [==============================] - 2s 41us/step - loss: 2.4006 - acc: 0.8472\n",
      "Epoch 13/20\n",
      "60000/60000 [==============================] - 2s 41us/step - loss: 2.3736 - acc: 0.8490\n",
      "Epoch 14/20\n",
      "60000/60000 [==============================] - 2s 40us/step - loss: 2.3432 - acc: 0.8506\n",
      "Epoch 15/20\n",
      "60000/60000 [==============================] - 2s 39us/step - loss: 2.3100 - acc: 0.8530\n",
      "Epoch 16/20\n",
      "60000/60000 [==============================] - 2s 39us/step - loss: 2.2540 - acc: 0.8563\n",
      "Epoch 17/20\n",
      "60000/60000 [==============================] - 2s 39us/step - loss: 2.2314 - acc: 0.8578\n",
      "Epoch 18/20\n",
      "60000/60000 [==============================] - 2s 40us/step - loss: 2.2179 - acc: 0.8583\n",
      "Epoch 19/20\n",
      "60000/60000 [==============================] - 2s 40us/step - loss: 2.1737 - acc: 0.8613\n",
      "Epoch 20/20\n",
      "60000/60000 [==============================] - 2s 40us/step - loss: 2.1564 - acc: 0.8624\n"
     ]
    }
   ],
   "source": [
    "#compiling model....\n",
    "model.compile(loss='categorical_crossentropy', metrics=['accuracy'], optimizer='adam')\n",
    "#fit the model...\n",
    "\n",
    "fit_model = model.fit(X_train, y_train,epochs=20,batch_size=10000)"
   ]
  }
 ],
 "metadata": {
  "kernelspec": {
   "display_name": "Python 3",
   "language": "python",
   "name": "python3"
  },
  "language_info": {
   "codemirror_mode": {
    "name": "ipython",
    "version": 3
   },
   "file_extension": ".py",
   "mimetype": "text/x-python",
   "name": "python",
   "nbconvert_exporter": "python",
   "pygments_lexer": "ipython3",
   "version": "3.6.4"
  }
 },
 "nbformat": 4,
 "nbformat_minor": 1
}
