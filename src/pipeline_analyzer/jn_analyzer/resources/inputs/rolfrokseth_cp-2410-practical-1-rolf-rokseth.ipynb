{
 "cells": [
  {
   "cell_type": "code",
   "execution_count": 1,
   "metadata": {
    "_cell_guid": "b1076dfc-b9ad-4769-8c92-a6c4dae69d19",
    "_uuid": "8f2839f25d086af736a60e9eeb907d3b93b6e0e5"
   },
   "outputs": [
    {
     "name": "stdout",
     "output_type": "stream",
     "text": [
      "True\n",
      "False\n"
     ]
    }
   ],
   "source": [
    "\"\"\"\n",
    "(R-1.1) Write a short Python function, ​is_multiple​(​n, m​),\n",
    "that takes two integer values and returnsTrue if n is a multiple of m,\n",
    "that is, ​n​ = ​mi​ for some integer i, and False otherwise\n",
    "\"\"\"\n",
    "\n",
    "def is_multiple(n,m):\n",
    "\n",
    "    return True if n % m == 0 else False\n",
    "\n",
    "print(is_multiple(50,5))\n",
    "print(is_multiple(60,7))"
   ]
  },
  {
   "cell_type": "code",
   "execution_count": 2,
   "metadata": {
    "_cell_guid": "79c7e3d0-c299-4dcb-8224-4455121ee9b0",
    "_uuid": "d629ff2d2480ee46fbb7e2d37f6b5fab8052498a",
    "scrolled": false
   },
   "outputs": [
    {
     "name": "stdout",
     "output_type": "stream",
     "text": [
      "[1, 2, 4, 8, 16, 32, 64, 128, 256]\n"
     ]
    }
   ],
   "source": [
    "\"\"\"\n",
    "(R-1.11) Demonstrate how to use Python’s list comprehension syntax to\n",
    "produce the list [1, 2, 4, 8,16, 32, 64, 128, 256].\n",
    "\n",
    "The pow() function returns the value of x to the power of y (xy).\n",
    "If a third parameter is present, it returns x to the power of y, modulus z.\n",
    "\"\"\"\n",
    "\n",
    "x = [pow(2, k) for k in range (0,9,1)]\n",
    "print(x)"
   ]
  },
  {
   "cell_type": "code",
   "execution_count": 3,
   "metadata": {
    "_uuid": "74fba8c0a15417759f218d4677bb1cc115099619"
   },
   "outputs": [
    {
     "name": "stdout",
     "output_type": "stream",
     "text": [
      "True\n",
      "False\n"
     ]
    }
   ],
   "source": [
    "\"\"\"\n",
    "(C-1.15) Write a Python function that takes a sequence of numbers\n",
    "and determines if all the numbers are different from each other (that is, they are distinct).\n",
    "\"\"\"\n",
    "\n",
    "def numUnique(data):\n",
    "    list = set()\n",
    "    return not any(i in list or list.add(i) for i in data)\n",
    "\n",
    "print(numUnique([1,2,3,4,5]))\n",
    "print(numUnique([1,1,1,1]))"
   ]
  },
  {
   "cell_type": "code",
   "execution_count": 4,
   "metadata": {
    "_uuid": "f0abe277576a01c485256ac3de9ad6d5a58d7f3b"
   },
   "outputs": [],
   "source": [
    "\"\"\"\n",
    "The n-th harmonic number is the sum of the reciprocals of the first n natural numbers.\n",
    "For example,H​3​ = 1 + ½ + ⅓ = 1.833. A simple Python function for creating a list of the\n",
    "first n harmonic numbers follows\n",
    ":def harmonic_list(n):result = []h = 0for i in range(1, n + 1):h += 1 / iresult.append(h)return\n",
    "resultConvert this function into a generator ​harmonic_gen(n)​ that ​yields​each harmonic number.\n",
    "\"\"\"\n",
    "\n",
    "\n",
    "def harmonic_gen(n):\n",
    "    h = 0\n",
    "    for i in range(1, n + 1):\n",
    "        h += 1 / i\n",
    "    yield h"
   ]
  }
 ],
 "metadata": {
  "kernelspec": {
   "display_name": "Python 3",
   "language": "python",
   "name": "python3"
  },
  "language_info": {
   "codemirror_mode": {
    "name": "ipython",
    "version": 3
   },
   "file_extension": ".py",
   "mimetype": "text/x-python",
   "name": "python",
   "nbconvert_exporter": "python",
   "pygments_lexer": "ipython3",
   "version": "3.6.6"
  }
 },
 "nbformat": 4,
 "nbformat_minor": 1
}
