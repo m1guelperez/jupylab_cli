{
 "cells": [
  {
   "cell_type": "markdown",
   "metadata": {
    "_cell_guid": "a9a4ef68-1658-39de-b8bb-a58052ac3c3d"
   },
   "source": [
    "# Recreating the House Prices benchmark\n",
    "This kernel notebook is intended to recreate the [House Prices: Advanced Regression Techniques](https://www.kaggle.com/c/house-prices-advanced-regression-techniques) benchmark in Python with pandas and scikit-learn."
   ]
  },
  {
   "cell_type": "code",
   "execution_count": 1,
   "metadata": {
    "_cell_guid": "9c4c80d9-dbf7-4065-40d3-82e87d6cd46c"
   },
   "outputs": [
    {
     "name": "stdout",
     "output_type": "stream",
     "text": [
      "sample_submission.csv\n",
      "test.csv\n",
      "train.csv\n",
      "\n"
     ]
    }
   ],
   "source": [
    "# This Python 3 environment comes with many helpful analytics libraries installed\n",
    "# It is defined by the kaggle/python docker image: https://github.com/kaggle/docker-python\n",
    "# For example, here's several helpful packages to load in \n",
    "\n",
    "import numpy as np # linear algebra\n",
    "import pandas as pd # data processing, CSV file I/O (e.g. pd.read_csv)\n",
    "\n",
    "# Input data files are available in the \"../input/\" directory.\n",
    "# For example, running this (by clicking run or pressing Shift+Enter) will list the files in the input directory\n",
    "\n",
    "from subprocess import check_output\n",
    "print(check_output([\"ls\", \"../input\"]).decode(\"utf8\"))\n",
    "\n",
    "# Any results you write to the current directory are saved as output."
   ]
  },
  {
   "cell_type": "code",
   "execution_count": 2,
   "metadata": {
    "_cell_guid": "eec60779-c95e-9e09-5aa9-77549429a3b9"
   },
   "outputs": [],
   "source": [
    "# Load the training and test data sets\n",
    "traindf = pd.read_csv('../input/train.csv')\n",
    "testdf = pd.read_csv('../input/test.csv')"
   ]
  },
  {
   "cell_type": "markdown",
   "metadata": {
    "_cell_guid": "ca3e36ca-506f-c16c-eb29-79a6c26fbcb8"
   },
   "source": [
    "## Feature selection\n",
    "\n",
    "The benchmark is described on the [data files](https://www.kaggle.com/c/house-prices-advanced-regression-techniques/data). The benchmark only uses four of the 80 features in a simple linear regression model."
   ]
  },
  {
   "cell_type": "code",
   "execution_count": 3,
   "metadata": {
    "_cell_guid": "71feb7a5-d00a-3b76-4894-f55f64653544"
   },
   "outputs": [],
   "source": [
    "# Select the benchmark models features\n",
    "X_train = traindf[['YrSold','MoSold','LotArea','BedroomAbvGr']]\n",
    "y_train = traindf['SalePrice']\n",
    "X_test = testdf[['YrSold','MoSold','LotArea','BedroomAbvGr']]"
   ]
  },
  {
   "cell_type": "markdown",
   "metadata": {
    "_cell_guid": "c4e38020-4c24-68b8-3200-a5b60104ca40"
   },
   "source": [
    "## Train the model"
   ]
  },
  {
   "cell_type": "code",
   "execution_count": 4,
   "metadata": {
    "_cell_guid": "8cd886d6-b735-faae-2a1d-34db76b72106"
   },
   "outputs": [],
   "source": [
    "from sklearn import linear_model"
   ]
  },
  {
   "cell_type": "code",
   "execution_count": 5,
   "metadata": {
    "_cell_guid": "63562769-beec-ee8c-1b82-6805026e8780"
   },
   "outputs": [
    {
     "data": {
      "text/plain": [
       "LinearRegression(copy_X=True, fit_intercept=True, n_jobs=1, normalize=False)"
      ]
     },
     "execution_count": 5,
     "metadata": {},
     "output_type": "execute_result"
    }
   ],
   "source": [
    "clf = linear_model.LinearRegression()\n",
    "clf.fit(X_train,y_train)"
   ]
  },
  {
   "cell_type": "markdown",
   "metadata": {
    "_cell_guid": "bddd43f1-146f-4b70-00d9-2171fc5235f3"
   },
   "source": [
    "## Generate a set of predictions"
   ]
  },
  {
   "cell_type": "code",
   "execution_count": 6,
   "metadata": {
    "_cell_guid": "be8ecb90-afeb-7d67-2203-f20d53105d3b"
   },
   "outputs": [],
   "source": [
    "yhat = clf.predict(X_test)"
   ]
  },
  {
   "cell_type": "markdown",
   "metadata": {
    "_cell_guid": "004bc0c5-300c-a7b0-b7fa-5cfc40f40f02"
   },
   "source": [
    "## Generate a CSV file with the predictions"
   ]
  },
  {
   "cell_type": "code",
   "execution_count": 7,
   "metadata": {
    "_cell_guid": "ef6ff5d5-fdb0-bbbf-52d8-ed93f88179d4"
   },
   "outputs": [],
   "source": [
    "# Create a dataframe with the row ID and price predictions\n",
    "yhatdf = pd.DataFrame(data={'Id':testdf.Id, 'SalePrice': yhat})"
   ]
  },
  {
   "cell_type": "code",
   "execution_count": 8,
   "metadata": {
    "_cell_guid": "50d5456b-e907-4d92-757f-91f0ee54c3e1"
   },
   "outputs": [],
   "source": [
    "# Write to CSV file\n",
    "filename = 'benchmark.csv'\n",
    "yhatdf.to_csv(filename,index=False)"
   ]
  }
 ],
 "metadata": {
  "_change_revision": 2,
  "_is_fork": false,
  "kernelspec": {
   "display_name": "Python 3",
   "language": "python",
   "name": "python3"
  },
  "language_info": {
   "codemirror_mode": {
    "name": "ipython",
    "version": 3
   },
   "file_extension": ".py",
   "mimetype": "text/x-python",
   "name": "python",
   "nbconvert_exporter": "python",
   "pygments_lexer": "ipython3",
   "version": "3.5.2"
  }
 },
 "nbformat": 4,
 "nbformat_minor": 0
}
