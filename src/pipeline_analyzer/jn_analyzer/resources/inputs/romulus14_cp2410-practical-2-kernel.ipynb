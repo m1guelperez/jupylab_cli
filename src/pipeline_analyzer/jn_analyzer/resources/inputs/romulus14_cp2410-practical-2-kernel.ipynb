{
 "cells": [
  {
   "cell_type": "code",
   "execution_count": 1,
   "metadata": {
    "_cell_guid": "b1076dfc-b9ad-4769-8c92-a6c4dae69d19",
    "_uuid": "8f2839f25d086af736a60e9eeb907d3b93b6e0e5"
   },
   "outputs": [
    {
     "name": "stdout",
     "output_type": "stream",
     "text": [
      "['CP2410 Prac 2 My Answers 2.docx']\n"
     ]
    }
   ],
   "source": [
    "# This Python 3 environment comes with many helpful analytics libraries installed\n",
    "# It is defined by the kaggle/python docker image: https://github.com/kaggle/docker-python\n",
    "# For example, here's several helpful packages to load in \n",
    "\n",
    "import numpy as np # linear algebra\n",
    "import pandas as pd # data processing, CSV file I/O (e.g. pd.read_csv)\n",
    "\n",
    "# Input data files are available in the \"../input/\" directory.\n",
    "# For example, running this (by clicking run or pressing Shift+Enter) will list the files in the input directory\n",
    "\n",
    "import os\n",
    "print(os.listdir(\"../input\"))\n",
    "\n",
    "# Any results you write to the current directory are saved as output."
   ]
  },
  {
   "cell_type": "markdown",
   "metadata": {},
   "source": [
    "1. (R-3.8) Order the following functions by asymptotic growth rate.\n",
    "\n",
    "4nlogn + \n",
    "n\n",
    "\n",
    "2^10\n",
    "\n",
    "2logn\n",
    "\n",
    "3n + 100logn\n",
    "\n",
    "4n\n",
    "\n",
    "2^n\n",
    "\n",
    "n^2 + n \n",
    "\n",
    "n^3\n",
    "\n",
    "nlogn\n",
    "\n"
   ]
  },
  {
   "cell_type": "markdown",
   "metadata": {},
   "source": [
    "The order is as follows\n",
    "\n",
    "\n",
    "2^10\n",
    "\n",
    "2logn\n",
    "\n",
    "3n + logn\n",
    "\n",
    "4n\n",
    "\n",
    "nlogn\n",
    "\n",
    "4nlogn + 2n\n",
    "\n",
    "n^2 + 10n\n",
    "\n",
    "n^3\n",
    "\n",
    "2^n \n",
    "\n",
    "\n",
    "\n"
   ]
  },
  {
   "cell_type": "markdown",
   "metadata": {},
   "source": [
    "2. (R-3.2) The number of operations executed by algorithms A and B is 8 n log n and 2n 2 , respectively.\n",
    "Determine n 0 such that A is better than B for n ≥ n 0 ."
   ]
  },
  {
   "cell_type": "markdown",
   "metadata": {},
   "source": [
    "Comparing the two equations such that they equal each other results in a value of n where the points are equal. \n",
    "\n",
    "as such:\n",
    "\n",
    "$$ 8nlogn = 2n^2 $$\n",
    "\n",
    "$$ logn = 1/4 n $$\n",
    "\n",
    "$$ 4logn = n$$\n",
    "\n",
    "varying the n such that the values equate, we get the value of n being 16\n",
    "\n",
    "$$ 4log16 = 16 $$\n",
    "\n",
    "Thus Algorithm A runs faster when n > 16\n"
   ]
  },
  {
   "cell_type": "markdown",
   "metadata": {},
   "source": [
    "3. (R-3.9) Show that if d(n) is O(f(n)), then a*d(n) is O(f(n)), for any constant a > 0."
   ]
  },
  {
   "cell_type": "markdown",
   "metadata": {},
   "source": [
    "Using the definition of Big Oh notation:\n",
    "If d(n) = O(f(n)), then we must have positive c and n 0 such that\n",
    "d(n) ≤ c f(n) for all n ≥ n 0 .\n",
    "Suppose we have a*d(n)\n",
    "a*d(n) ≤ a*c*f(n) for all n ≥ n 0\n",
    "Put c 2 = a*c\n",
    "Then a*d(n) ≤ c 2 f(n) for all n ≥ n 0\n",
    "Therefore, by definition, a*d(n) = O(f(n))\n"
   ]
  },
  {
   "cell_type": "markdown",
   "metadata": {},
   "source": [
    "4. See the following functions from ch03/exercises.py in the sample code. For each of example1, to\n",
    "example5, determine the running time, in big Oh notation, of the function in terms of n ."
   ]
  },
  {
   "cell_type": "code",
   "execution_count": 2,
   "metadata": {},
   "outputs": [],
   "source": [
    "def example1(S):\n",
    "    \"\"\"Return the sum of the elements in sequence S.\"\"\"\n",
    "    n = len(S)\n",
    "    total = 0\n",
    "    for j in range(n): # loop from 0 to n-1\n",
    "        total += S[j]\n",
    "    return total"
   ]
  },
  {
   "cell_type": "markdown",
   "metadata": {},
   "source": [
    "We observe 2 primitive operations before the loop. \n",
    "\n",
    "The for loop runs n times, each iteration of the for loop includes 3 primitives, call, add and assign. \n",
    "\n",
    "Therefore overall runtime is:\n",
    "\n",
    "$$O(n) = 2+3n $$"
   ]
  },
  {
   "cell_type": "code",
   "execution_count": 3,
   "metadata": {},
   "outputs": [],
   "source": [
    "def example2(S):\n",
    "    \"\"\"Return the sum of the elements with even index in sequence S.\"\"\"\n",
    "    n = len(S)\n",
    "    total = 0\n",
    "    for j in range( 0 , n, 2 ): # note the increment of 2\n",
    "        total += S[j]\n",
    "    return total"
   ]
  },
  {
   "cell_type": "markdown",
   "metadata": {},
   "source": [
    "2 primitives before for loop. \n",
    "Loop runs n/2 times as the loop is divided by 2 increments to n. Each loop calls 3 primitive operations as per the previous function. thus:\n",
    "\n",
    "$$ O(n) = 2 + (3/2)n $$ "
   ]
  },
  {
   "cell_type": "code",
   "execution_count": 4,
   "metadata": {},
   "outputs": [],
   "source": [
    "def example3(S):\n",
    "    \"\"\"Return the sum of the prefix sums of sequence S.\"\"\"\n",
    "    n = len(S)\n",
    "    total = 0\n",
    "    for j in range(n): # loop from 0 to n-1\n",
    "        for k in range( 1 + j): # loop from 0 to j\n",
    "            total += S[k]\n",
    "    return total"
   ]
  },
  {
   "cell_type": "markdown",
   "metadata": {},
   "source": [
    "2 operations before loop.\n",
    "Inner loop runs n times, with 3 primitive operations, with exterior loop running the same amount of times but incremented differently, such that:\n",
    "\n",
    "$$ O(n) = n/2 *(n+1)$$\n",
    "\n",
    "and as such \n",
    "$$O(n) = 2+1.5n(n+1) = 2+1.5n^2+1.5n $$\n",
    "\n"
   ]
  },
  {
   "cell_type": "code",
   "execution_count": 5,
   "metadata": {},
   "outputs": [],
   "source": [
    "def example4(S):\n",
    "    \"\"\"Return the sum of the prefix sums of sequence S.\"\"\"\n",
    "    n = len(S)\n",
    "    prefix = 0\n",
    "    total = 0\n",
    "    for j in range(n):\n",
    "        prefix += S[j]\n",
    "        total += prefix\n",
    "    return total"
   ]
  },
  {
   "cell_type": "markdown",
   "metadata": {},
   "source": [
    "3 operations before loop, the len function assigned, the prefix assign and the total assign. \n",
    "\n",
    "for loop runs n times with 5 primitive assignments within it. \n",
    "\n",
    "Overall running time turns out as:\n",
    "\n",
    "$$O(n) = 3 +5n$$\n",
    "\n"
   ]
  },
  {
   "cell_type": "code",
   "execution_count": 6,
   "metadata": {},
   "outputs": [],
   "source": [
    "def example5(A, B): # assume that A and B have equal length\n",
    "    \"\"\"Return the number of elements in B equal to the sum of prefix sums in A.\"\"\"\n",
    "    n = len(A)\n",
    "    count = 0\n",
    "    for i in range(n): # loop from 0 to n-1\n",
    "        total = 0\n",
    "        for j in range(n): # loop from 0 to n-1\n",
    "            for k in range( 1 + j): # loop from 0 to j\n",
    "                total += A[k]\n",
    "            if B[i] == total:\n",
    "                count += 1\n",
    "    return count"
   ]
  },
  {
   "cell_type": "markdown",
   "metadata": {},
   "source": [
    "2 operations before the loop.\n",
    "The outer loop runs n times.\n",
    "total = 0 is 1 primitive operation.\n",
    "The first innermost runs 1 + 2 + … + n times, with 3 operations each time:\n",
    "\n",
    "$$O(n) = 1.5n(n + 1)$$ \n",
    "\n",
    "In the worst case, the if statement uses about 5 operations.\n",
    "So, overall we have running time :\n",
    "\n",
    "$$O(n) = 2 + n (1 + 1.5n(n + 1) + 5) $$"
   ]
  }
 ],
 "metadata": {
  "kernelspec": {
   "display_name": "Python 3",
   "language": "python",
   "name": "python3"
  },
  "language_info": {
   "codemirror_mode": {
    "name": "ipython",
    "version": 3
   },
   "file_extension": ".py",
   "mimetype": "text/x-python",
   "name": "python",
   "nbconvert_exporter": "python",
   "pygments_lexer": "ipython3",
   "version": "3.6.4"
  }
 },
 "nbformat": 4,
 "nbformat_minor": 1
}
