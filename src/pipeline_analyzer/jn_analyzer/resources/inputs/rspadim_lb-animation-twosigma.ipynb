{
 "cells": [
  {
   "cell_type": "code",
   "execution_count": 1,
   "metadata": {
    "_cell_guid": "56f420d9-c238-4830-beb5-78c31fa7581c",
    "_uuid": "927b8b36b30a95570015fb4a717bc60b891d933f"
   },
   "outputs": [
    {
     "name": "stdout",
     "output_type": "stream",
     "text": [
      "Scores shape:  (971, 4)  columns: Index(['TeamId', 'TeamName', 'SubmissionDate', 'Score'], dtype='object')\n"
     ]
    }
   ],
   "source": [
    "#from https://www.kaggle.com/inversion/leaderboard-progression\n",
    "import numpy as np\n",
    "import pandas as pd\n",
    "import matplotlib.pyplot as plt\n",
    "import matplotlib.patches as patches\n",
    "import matplotlib.path as path\n",
    "import matplotlib.animation as animation\n",
    "import seaborn as sns\n",
    "sns.set()\n",
    "\n",
    "\n",
    "# ~~~~~~~~~~~~~~~~ Begin configuration ~~~~~~~~~~~~~~~~\n",
    "\n",
    "# Kaggle admins have to put the file here, but you can run the script\n",
    "#  locally and use the LB data provided at the bottom of the contest LB\n",
    "file_name = '../input/lb-twosigma/two-sigma-financial-news-publicleaderboard.csv' \n",
    "\n",
    "# Set the range of LB \"action\" we want to see\n",
    "min_score = -3\n",
    "max_score = 6\n",
    "\n",
    "# Which direction is a better evaluation metric score?\n",
    "lower_is_better = False\n",
    "\n",
    "# A reasonable default\n",
    "num_bins = 100\n",
    "\n",
    "# ~~~~~~~~~~~~~~~~ End configuration ~~~~~~~~~~~~~~~~\n",
    "\n",
    "\n",
    "scores = pd.read_csv(file_name, parse_dates=['SubmissionDate'])\n",
    "print(\"Scores shape: \",np.shape(scores),\" columns:\",scores.columns)\n",
    "# keep the date only\n",
    "scores['SubmissionDate'] = scores['SubmissionDate'].apply(lambda x: x.date())\n"
   ]
  },
  {
   "cell_type": "code",
   "execution_count": 2,
   "metadata": {
    "_uuid": "911033f12a0fac3c0142fbf2666d1769bc91f826"
   },
   "outputs": [
    {
     "data": {
      "image/png": "[encoded data removed]",
      "text/plain": [
       "<Figure size 432x288 with 1 Axes>"
      ]
     },
     "metadata": {},
     "output_type": "display_data"
    }
   ],
   "source": [
    "# some kung-fu to figure out the ylim for the last graph\n",
    "scores_gb = scores.groupby('TeamName')\n",
    "if lower_is_better:\n",
    "    scores_final = scores_gb.min()\n",
    "else:\n",
    "    scores_final = scores_gb.max()\n",
    "mask = (scores_final.Score <= max_score) & (scores_final.Score >= min_score)\n",
    "bins = np.linspace(min_score,max_score, num_bins+1)\n",
    "ymax = np.histogram(scores_final.loc[mask, 'Score'].values, bins)[0].max()\n",
    "ymax = int(np.ceil(ymax / 100.0)) * 100 # round up to nearest 100\n",
    "\n",
    "# We want the best score submitted for team up to and including a specific date,\n",
    "#  so we need to keep a running list of the cumulative dates\n",
    "cum_date = []\n",
    "\n",
    "# Mapping the dates for use in the animation loop\n",
    "dates_dict = {e:date for e, date in enumerate(scores['SubmissionDate'].unique())}\n",
    "\n",
    "# Set up the initial historgram\n",
    "#   see: http://matplotlib.org/examples/animation/histogram.html\n",
    "n, _ = np.histogram(scores_final.loc[mask, 'Score'].values, bins)\n",
    "fig, ax = plt.subplots()\n",
    "left = np.array(bins[:-1])\n",
    "right = np.array(bins[1:])\n",
    "bottom = np.zeros(len(left))\n",
    "top = bottom + n\n",
    "nrects = len(left)\n",
    "nverts = nrects*(1+3+1)\n",
    "verts = np.zeros((nverts, 2))\n",
    "codes = np.ones(nverts, int) * path.Path.LINETO\n",
    "codes[0::5] = path.Path.MOVETO\n",
    "codes[4::5] = path.Path.CLOSEPOLY\n",
    "verts[0::5,0] = left\n",
    "verts[0::5,1] = bottom\n",
    "verts[1::5,0] = left\n",
    "verts[1::5,1] = top\n",
    "verts[2::5,0] = right\n",
    "verts[2::5,1] = top\n",
    "verts[3::5,0] = right\n",
    "verts[3::5,1] = bottom\n",
    "barpath = path.Path(verts, codes)\n",
    "patch = patches.PathPatch(barpath, facecolor='green', edgecolor='yellow', alpha=0.5)\n",
    "ax.add_patch(patch)\n",
    "ax.set_xlim(min_score, max_score)\n",
    "ax.set_ylim(0, ymax)\n",
    "\n",
    "def animate(e):\n",
    "\n",
    "    # Grab all the scrores to date, grouped by Team\n",
    "    cum_date.append(dates_dict[e])\n",
    "    lb_gb = scores.loc[scores['SubmissionDate'].isin(cum_date)].groupby('TeamName')\n",
    "\n",
    "    # Find the best score of each team\n",
    "    if lower_is_better:\n",
    "        lb = lb_gb.min()\n",
    "    else:\n",
    "        lb = lb_gb.max()\n",
    "\n",
    "    # Throw out scores outside the defined range\n",
    "    mask = (lb.Score <= max_score) & (lb.Score >= min_score)\n",
    "    \n",
    "    # Calculate the new histogram\n",
    "    n, _ = np.histogram(lb[mask].Score.values, bins)\n",
    "    \n",
    "    # Update the figure\n",
    "    top = bottom + n\n",
    "    verts[1::5,1] = top\n",
    "    verts[2::5,1] = top\n",
    "    plt.title(dates_dict[e], fontsize=16)\n",
    "#print(dates_dict)\n",
    "anim = animation.FuncAnimation(fig, animate, frames=len(dates_dict), blit=False)\n",
    "anim.save('lb.gif', fps=3, writer='imagemagick')\n",
    "plt.show()"
   ]
  },
  {
   "cell_type": "code",
   "execution_count": 3,
   "metadata": {
    "_uuid": "a5e57d34788245895fb0d548face95f26bfa7497",
    "collapsed": true
   },
   "outputs": [],
   "source": []
  }
 ],
 "metadata": {
  "kernelspec": {
   "display_name": "Python 3",
   "language": "python",
   "name": "python3"
  },
  "language_info": {
   "codemirror_mode": {
    "name": "ipython",
    "version": 3
   },
   "file_extension": ".py",
   "mimetype": "text/x-python",
   "name": "python",
   "nbconvert_exporter": "python",
   "pygments_lexer": "ipython3",
   "version": "3.6.6"
  }
 },
 "nbformat": 4,
 "nbformat_minor": 1
}
