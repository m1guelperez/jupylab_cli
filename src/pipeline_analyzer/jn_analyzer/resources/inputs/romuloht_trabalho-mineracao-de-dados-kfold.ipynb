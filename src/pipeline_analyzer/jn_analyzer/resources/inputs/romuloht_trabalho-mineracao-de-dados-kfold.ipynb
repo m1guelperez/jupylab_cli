{
 "cells": [
  {
   "cell_type": "code",
   "execution_count": 1,
   "metadata": {
    "_cell_guid": "b1076dfc-b9ad-4769-8c92-a6c4dae69d19",
    "_uuid": "8f2839f25d086af736a60e9eeb907d3b93b6e0e5"
   },
   "outputs": [
    {
     "name": "stdout",
     "output_type": "stream",
     "text": [
      "/kaggle/input/mnist-in-csv/mnist_train.csv\n",
      "/kaggle/input/mnist-in-csv/mnist_test.csv\n"
     ]
    }
   ],
   "source": [
    "# This Python 3 environment comes with many helpful analytics libraries installed\n",
    "# It is defined by the kaggle/python docker image: https://github.com/kaggle/docker-python\n",
    "# For example, here's several helpful packages to load in \n",
    "\n",
    "import numpy as np # linear algebra\n",
    "import pandas as pd # data processing, CSV file I/O (e.g. pd.read_csv)\n",
    "\n",
    "# Input data files are available in the \"../input/\" directory.\n",
    "# For example, running this (by clicking run or pressing Shift+Enter) will list all files under the input directory\n",
    "\n",
    "import os\n",
    "for dirname, _, filenames in os.walk('/kaggle/input'):\n",
    "    for filename in filenames:\n",
    "        print(os.path.join(dirname, filename))\n",
    "\n",
    "# Any results you write to the current directory are saved as output."
   ]
  },
  {
   "cell_type": "code",
   "execution_count": 2,
   "metadata": {
    "_cell_guid": "79c7e3d0-c299-4dcb-8224-4455121ee9b0",
    "_uuid": "d629ff2d2480ee46fbb7e2d37f6b5fab8052498a"
   },
   "outputs": [],
   "source": [
    "dataset = pd.read_csv('/kaggle/input/mnist-in-csv/mnist_train.csv')"
   ]
  },
  {
   "cell_type": "code",
   "execution_count": 3,
   "metadata": {
    "_cell_guid": "",
    "_uuid": ""
   },
   "outputs": [],
   "source": [
    "from sklearn.model_selection import StratifiedKFold"
   ]
  },
  {
   "cell_type": "code",
   "execution_count": 4,
   "metadata": {},
   "outputs": [],
   "source": [
    "X = dataset.values[:, 1:]\n",
    "y = dataset.values[:, 0]"
   ]
  },
  {
   "cell_type": "code",
   "execution_count": 5,
   "metadata": {},
   "outputs": [
    {
     "data": {
      "text/plain": [
       "(60000, 60000)"
      ]
     },
     "execution_count": 5,
     "metadata": {},
     "output_type": "execute_result"
    }
   ],
   "source": [
    "len(X), len(y)"
   ]
  },
  {
   "cell_type": "code",
   "execution_count": 6,
   "metadata": {},
   "outputs": [],
   "source": [
    "from sklearn.neural_network import MLPClassifier\n",
    "from sklearn.neighbors import KNeighborsClassifier\n",
    "from sklearn.ensemble import RandomForestClassifier, GradientBoostingClassifier\n",
    "from sklearn import metrics"
   ]
  },
  {
   "cell_type": "code",
   "execution_count": 7,
   "metadata": {},
   "outputs": [],
   "source": [
    "mlp = MLPClassifier()\n",
    "knn = KNeighborsClassifier()\n",
    "rfc = RandomForestClassifier()\n",
    "gbc = GradientBoostingClassifier()"
   ]
  },
  {
   "cell_type": "code",
   "execution_count": 8,
   "metadata": {},
   "outputs": [],
   "source": [
    "kfold = StratifiedKFold(n_splits=4, shuffle=True, random_state=42)"
   ]
  },
  {
   "cell_type": "code",
   "execution_count": 9,
   "metadata": {},
   "outputs": [
    {
     "name": "stdout",
     "output_type": "stream",
     "text": [
      "Fold 0\n",
      "Accuracy: 0.9551482839053649\n",
      "\n",
      "Fold 1\n",
      "Accuracy: 0.9692707638981469\n",
      "\n",
      "Fold 2\n",
      "Accuracy: 0.9561941592212295\n",
      "\n",
      "Fold 3\n",
      "Accuracy: 0.9644548182727576\n",
      "\n"
     ]
    }
   ],
   "source": [
    "k = 0\n",
    "accs = []\n",
    "for idx_train, idx_val in kfold.split(X, y):\n",
    "    print(\"Fold\", k)\n",
    "    k += 1\n",
    "    mlp.fit(X[idx_train], y[idx_train])\n",
    "    y_pred = mlp.predict(X[idx_val])\n",
    "    acc = metrics.accuracy_score(y[idx_val], y_pred)\n",
    "    accs.append(acc)\n",
    "    print(\"Accuracy:\", acc)\n",
    "    print()"
   ]
  },
  {
   "cell_type": "code",
   "execution_count": 10,
   "metadata": {},
   "outputs": [
    {
     "data": {
      "text/plain": [
       "0.9612670063243747"
      ]
     },
     "execution_count": 10,
     "metadata": {},
     "output_type": "execute_result"
    }
   ],
   "source": [
    "np.mean(accs)"
   ]
  },
  {
   "cell_type": "code",
   "execution_count": 11,
   "metadata": {},
   "outputs": [
    {
     "name": "stdout",
     "output_type": "stream",
     "text": [
      "Fold 0\n",
      "Accuracy: 0.9707430856381206\n",
      "\n",
      "Fold 1\n",
      "Accuracy: 0.9719370750566592\n",
      "\n",
      "Fold 2\n",
      "Accuracy: 0.9700626750233364\n",
      "\n",
      "Fold 3\n",
      "Accuracy: 0.9671223741247083\n",
      "\n"
     ]
    }
   ],
   "source": [
    "k = 0\n",
    "accs = []\n",
    "for idx_train, idx_val in kfold.split(X, y):\n",
    "    print(\"Fold\", k)\n",
    "    k += 1\n",
    "    knn.fit(X[idx_train], y[idx_train])\n",
    "    y_pred = knn.predict(X[idx_val])\n",
    "    acc = metrics.accuracy_score(y[idx_val], y_pred)\n",
    "    accs.append(acc)\n",
    "    print(\"Accuracy:\", acc)\n",
    "    print()"
   ]
  },
  {
   "cell_type": "code",
   "execution_count": 12,
   "metadata": {},
   "outputs": [
    {
     "data": {
      "text/plain": [
       "0.9699663024607061"
      ]
     },
     "execution_count": 12,
     "metadata": {},
     "output_type": "execute_result"
    }
   ],
   "source": [
    "np.mean(accs)"
   ]
  },
  {
   "cell_type": "code",
   "execution_count": 13,
   "metadata": {},
   "outputs": [
    {
     "name": "stdout",
     "output_type": "stream",
     "text": [
      "Fold 0\n"
     ]
    },
    {
     "name": "stderr",
     "output_type": "stream",
     "text": [
      "/opt/conda/lib/python3.6/site-packages/sklearn/ensemble/forest.py:245: FutureWarning: The default value of n_estimators will change from 10 in version 0.20 to 100 in 0.22.\n",
      "  \"10 in version 0.20 to 100 in 0.22.\", FutureWarning)\n"
     ]
    },
    {
     "name": "stdout",
     "output_type": "stream",
     "text": [
      "Accuracy: 0.9392202599133622\n",
      "\n",
      "Fold 1\n",
      "Accuracy: 0.943274230102653\n",
      "\n",
      "Fold 2\n",
      "Accuracy: 0.9440592078943859\n",
      "\n",
      "Fold 3\n",
      "Accuracy: 0.9437812604201401\n",
      "\n"
     ]
    }
   ],
   "source": [
    "k = 0\n",
    "accs = []\n",
    "for idx_train, idx_val in kfold.split(X, y):\n",
    "    print(\"Fold\", k)\n",
    "    k += 1\n",
    "    rfc.fit(X[idx_train], y[idx_train])\n",
    "    y_pred = rfc.predict(X[idx_val])\n",
    "    acc = metrics.accuracy_score(y[idx_val], y_pred)\n",
    "    accs.append(acc)\n",
    "    print(\"Accuracy:\", acc)\n",
    "    print()"
   ]
  },
  {
   "cell_type": "code",
   "execution_count": 14,
   "metadata": {},
   "outputs": [
    {
     "data": {
      "text/plain": [
       "0.9425837395826353"
      ]
     },
     "execution_count": 14,
     "metadata": {},
     "output_type": "execute_result"
    }
   ],
   "source": [
    "np.mean(accs)"
   ]
  },
  {
   "cell_type": "code",
   "execution_count": 15,
   "metadata": {},
   "outputs": [
    {
     "name": "stdout",
     "output_type": "stream",
     "text": [
      "Fold 0\n",
      "Accuracy: 0.9426191269576808\n",
      "\n",
      "Fold 1\n",
      "Accuracy: 0.9442740967870951\n",
      "\n",
      "Fold 2\n",
      "Accuracy: 0.9454593945859447\n",
      "\n",
      "Fold 3\n",
      "Accuracy: 0.9438479493164388\n",
      "\n"
     ]
    }
   ],
   "source": [
    "k = 0\n",
    "accs = []\n",
    "for idx_train, idx_val in kfold.split(X, y):\n",
    "    print(\"Fold\", k)\n",
    "    k += 1\n",
    "    gbc.fit(X[idx_train], y[idx_train])\n",
    "    y_pred = gbc.predict(X[idx_val])\n",
    "    acc = metrics.accuracy_score(y[idx_val], y_pred)\n",
    "    accs.append(acc)\n",
    "    print(\"Accuracy:\", acc)\n",
    "    print()"
   ]
  },
  {
   "cell_type": "code",
   "execution_count": 16,
   "metadata": {},
   "outputs": [
    {
     "data": {
      "text/plain": [
       "0.9440501419117898"
      ]
     },
     "execution_count": 16,
     "metadata": {},
     "output_type": "execute_result"
    }
   ],
   "source": [
    "np.mean(accs)"
   ]
  }
 ],
 "metadata": {
  "kernelspec": {
   "display_name": "Python 3",
   "language": "python",
   "name": "python3"
  },
  "language_info": {
   "codemirror_mode": {
    "name": "ipython",
    "version": 3
   },
   "file_extension": ".py",
   "mimetype": "text/x-python",
   "name": "python",
   "nbconvert_exporter": "python",
   "pygments_lexer": "ipython3",
   "version": "3.6.6"
  }
 },
 "nbformat": 4,
 "nbformat_minor": 1
}
