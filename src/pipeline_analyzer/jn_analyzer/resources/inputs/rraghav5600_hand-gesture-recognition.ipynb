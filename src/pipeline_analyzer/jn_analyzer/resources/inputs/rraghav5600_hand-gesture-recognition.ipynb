{
 "cells": [
  {
   "cell_type": "code",
   "execution_count": 1,
   "metadata": {
    "_cell_guid": "e04aaed9-7070-4b95-b281-30435433cab1",
    "_uuid": "455e56e5-33aa-4a1e-90fe-3f18b6e401fd"
   },
   "outputs": [],
   "source": [
    "import os\n",
    "import numpy as np\n",
    "import cv2\n",
    "from collections import Counter\n",
    "import random\n",
    "\n",
    "from sklearn.metrics import accuracy_score\n",
    "from sklearn.model_selection import train_test_split\n",
    "\n",
    "from sklearn.ensemble import RandomForestClassifier\n",
    "from sklearn.neighbors import KNeighborsClassifier\n",
    "from sklearn.linear_model import LogisticRegression\n",
    "from sklearn.svm import SVC"
   ]
  },
  {
   "cell_type": "code",
   "execution_count": 2,
   "metadata": {
    "_cell_guid": "f68f4850-1d24-4ba3-9b61-95765d28470b",
    "_uuid": "1d7405b0-ea3c-4536-89b3-ad3161be7e79"
   },
   "outputs": [],
   "source": [
    "IMG_WIDTH = 18\n",
    "IMG_HEIGHT = 18\n",
    "\n",
    "X = []\n",
    "y = []"
   ]
  },
  {
   "cell_type": "code",
   "execution_count": 3,
   "metadata": {
    "_cell_guid": "98756f25-c931-457f-9f1b-a31cd690c0dd",
    "_uuid": "8633fe35-15f5-435f-967a-10d66a00df52"
   },
   "outputs": [],
   "source": [
    "def img_process(img):\n",
    "    thresh_val = 100\n",
    "    _, img = cv2.threshold(img, thresh_val, 255, cv2.THRESH_BINARY)\n",
    "    img = cv2.resize(img, (IMG_WIDTH, IMG_HEIGHT))\n",
    "    img = cv2.GaussianBlur(img, (5,5), 0)\n",
    "    img = np.reshape(img, (1, -1))[0]\n",
    "    return img"
   ]
  },
  {
   "cell_type": "code",
   "execution_count": 4,
   "metadata": {
    "_cell_guid": "efcbb721-e4ec-431f-9215-a26a28ae86de",
    "_uuid": "58e80742-4079-418d-952e-d89469edc50e"
   },
   "outputs": [
    {
     "name": "stdout",
     "output_type": "stream",
     "text": [
      "2000 images processed\n",
      "4000 images processed\n",
      "6000 images processed\n",
      "8000 images processed\n",
      "10000 images processed\n",
      "12000 images processed\n",
      "14000 images processed\n",
      "16000 images processed\n",
      "18000 images processed\n",
      "20000 images processed\n"
     ]
    }
   ],
   "source": [
    "for dirname, _, filenames in os.walk('/kaggle/input/leapgestrecog/leapgestrecog/leapGestRecog'):\n",
    "    for filename in filenames:\n",
    "        img = cv2.imread(os.path.join(dirname, filename),0)\n",
    "        img = img_process(img)\n",
    "        X.append(img)\n",
    "        y.append(int(filename.split('_')[2]))\n",
    "        if len(X) % 2000 == 0 : print(len(X), 'images processed')"
   ]
  },
  {
   "cell_type": "code",
   "execution_count": 5,
   "metadata": {
    "_cell_guid": "f9329399-4df3-4abe-8d1c-5168831030ea",
    "_uuid": "713ae4f3-6ee3-4ab8-8dd5-9f17e0c5f2f9"
   },
   "outputs": [],
   "source": [
    "lst = list(zip(X,y))\n",
    "random.shuffle(lst)\n",
    "X = [i[0] for i in lst]\n",
    "y = [i[1] for i in lst]\n",
    "X_train, X_test, y_train, y_test = train_test_split(X, y, test_size=0.2, random_state=1)"
   ]
  },
  {
   "cell_type": "code",
   "execution_count": 6,
   "metadata": {},
   "outputs": [
    {
     "name": "stdout",
     "output_type": "stream",
     "text": [
      "Accuracy is 0.78475\n"
     ]
    }
   ],
   "source": [
    "model_lr = LogisticRegression(solver='lbfgs', multi_class='ovr', n_jobs=10)\n",
    "model_lr.fit(X_train, y_train)\n",
    "pred = model_lr.predict(X_test)\n",
    "print('Accuracy is', accuracy_score(pred, y_test))"
   ]
  },
  {
   "cell_type": "code",
   "execution_count": 7,
   "metadata": {},
   "outputs": [
    {
     "name": "stdout",
     "output_type": "stream",
     "text": [
      "Accuracy is 0.9575\n"
     ]
    }
   ],
   "source": [
    "model_svm = SVC(gamma='scale')\n",
    "model_svm.fit(X_train, y_train)\n",
    "pred = model_svm.predict(X_test)\n",
    "print('Accuracy is', accuracy_score(pred, y_test))"
   ]
  },
  {
   "cell_type": "code",
   "execution_count": 8,
   "metadata": {
    "_cell_guid": "f02a9eec-6d77-48fb-b22e-fad24794ea25",
    "_uuid": "58d61bb8-1526-411e-8996-6c57d5252d39"
   },
   "outputs": [
    {
     "name": "stdout",
     "output_type": "stream",
     "text": [
      "Accuracy is 0.99875\n"
     ]
    }
   ],
   "source": [
    "model_rf = RandomForestClassifier(random_state=1, n_estimators=1000)\n",
    "model_rf.fit(X_train, y_train)\n",
    "pred = model_rf.predict(X_test)\n",
    "print('Accuracy is', accuracy_score(pred, y_test))"
   ]
  },
  {
   "cell_type": "code",
   "execution_count": 9,
   "metadata": {},
   "outputs": [
    {
     "name": "stdout",
     "output_type": "stream",
     "text": [
      "Accuracy is 0.99675\n"
     ]
    }
   ],
   "source": [
    "model_KNN = KNeighborsClassifier(n_neighbors=3)\n",
    "model_KNN.fit(X_train, y_train)\n",
    "pred = model_KNN.predict(X_test)\n",
    "print('Accuracy is', accuracy_score(pred, y_test))"
   ]
  }
 ],
 "metadata": {
  "kernelspec": {
   "display_name": "Python 3",
   "language": "python",
   "name": "python3"
  },
  "language_info": {
   "codemirror_mode": {
    "name": "ipython",
    "version": 3
   },
   "file_extension": ".py",
   "mimetype": "text/x-python",
   "name": "python",
   "nbconvert_exporter": "python",
   "pygments_lexer": "ipython3",
   "version": "3.6.6"
  }
 },
 "nbformat": 4,
 "nbformat_minor": 4
}
