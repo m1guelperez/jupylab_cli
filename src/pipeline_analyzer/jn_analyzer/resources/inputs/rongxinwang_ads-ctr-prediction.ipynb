{
 "cells": [
  {
   "cell_type": "code",
   "execution_count": 1,
   "metadata": {
    "_cell_guid": "b1076dfc-b9ad-4769-8c92-a6c4dae69d19",
    "_uuid": "8f2839f25d086af736a60e9eeb907d3b93b6e0e5",
    "execution": {
     "iopub.execute_input": "2020-09-28T21:47:10.881561Z",
     "iopub.status.busy": "2020-09-28T21:47:10.880664Z",
     "iopub.status.idle": "2020-09-28T21:47:10.888396Z",
     "shell.execute_reply": "2020-09-28T21:47:10.887729Z"
    },
    "papermill": {
     "duration": 0.033979,
     "end_time": "2020-09-28T21:47:10.888526",
     "exception": false,
     "start_time": "2020-09-28T21:47:10.854547",
     "status": "completed"
    },
    "tags": []
   },
   "outputs": [
    {
     "name": "stdout",
     "output_type": "stream",
     "text": [
      "/kaggle/input/facebook-ads-2/Facebook_Ads_2.csv\n"
     ]
    }
   ],
   "source": [
    "# This Python 3 environment comes with many helpful analytics libraries installed\n",
    "# It is defined by the kaggle/python Docker image: https://github.com/kaggle/docker-python\n",
    "# For example, here's several helpful packages to load\n",
    "\n",
    "import numpy as np # linear algebra\n",
    "import pandas as pd # data processing, CSV file I/O (e.g. pd.read_csv)\n",
    "\n",
    "# Input data files are available in the read-only \"../input/\" directory\n",
    "# For example, running this (by clicking run or pressing Shift+Enter) will list all files under the input directory\n",
    "\n",
    "import os\n",
    "for dirname, _, filenames in os.walk('/kaggle/input'):\n",
    "    for filename in filenames:\n",
    "        print(os.path.join(dirname, filename))\n",
    "\n",
    "# You can write up to 5GB to the current directory (/kaggle/working/) that gets preserved as output when you create a version using \"Save & Run All\" \n",
    "# You can also write temporary files to /kaggle/temp/, but they won't be saved outside of the current session"
   ]
  },
  {
   "cell_type": "markdown",
   "metadata": {
    "papermill": {
     "duration": 0.018945,
     "end_time": "2020-09-28T21:47:10.927276",
     "exception": false,
     "start_time": "2020-09-28T21:47:10.908331",
     "status": "completed"
    },
    "tags": []
   },
   "source": [
    "# Problem Statement"
   ]
  },
  {
   "cell_type": "markdown",
   "metadata": {
    "papermill": {
     "duration": 0.01985,
     "end_time": "2020-09-28T21:47:10.966899",
     "exception": false,
     "start_time": "2020-09-28T21:47:10.947049",
     "status": "completed"
    },
    "tags": []
   },
   "source": [
    "In this notebook, we seek to predict advertisement click-through decisions based on user features."
   ]
  },
  {
   "cell_type": "markdown",
   "metadata": {
    "papermill": {
     "duration": 0.020802,
     "end_time": "2020-09-28T21:47:11.006819",
     "exception": false,
     "start_time": "2020-09-28T21:47:10.986017",
     "status": "completed"
    },
    "tags": []
   },
   "source": [
    "> Takeaways from this project: \n",
    "Standardizing input may significantly increase accuracy!"
   ]
  },
  {
   "cell_type": "markdown",
   "metadata": {
    "papermill": {
     "duration": 0.019106,
     "end_time": "2020-09-28T21:47:11.045135",
     "exception": false,
     "start_time": "2020-09-28T21:47:11.026029",
     "status": "completed"
    },
    "tags": []
   },
   "source": [
    "# Step 1: import packages and dataset"
   ]
  },
  {
   "cell_type": "code",
   "execution_count": 2,
   "metadata": {
    "_cell_guid": "79c7e3d0-c299-4dcb-8224-4455121ee9b0",
    "_uuid": "d629ff2d2480ee46fbb7e2d37f6b5fab8052498a",
    "execution": {
     "iopub.execute_input": "2020-09-28T21:47:11.088876Z",
     "iopub.status.busy": "2020-09-28T21:47:11.088157Z",
     "iopub.status.idle": "2020-09-28T21:47:12.144482Z",
     "shell.execute_reply": "2020-09-28T21:47:12.143279Z"
    },
    "papermill": {
     "duration": 1.080431,
     "end_time": "2020-09-28T21:47:12.144629",
     "exception": false,
     "start_time": "2020-09-28T21:47:11.064198",
     "status": "completed"
    },
    "tags": []
   },
   "outputs": [],
   "source": [
    "#Import packages\n",
    "import pandas as pd\n",
    "import numpy as np\n",
    "import seaborn as sns\n",
    "import matplotlib.pyplot as plt"
   ]
  },
  {
   "cell_type": "code",
   "execution_count": 3,
   "metadata": {
    "execution": {
     "iopub.execute_input": "2020-09-28T21:47:12.190991Z",
     "iopub.status.busy": "2020-09-28T21:47:12.190271Z",
     "iopub.status.idle": "2020-09-28T21:47:12.220879Z",
     "shell.execute_reply": "2020-09-28T21:47:12.221432Z"
    },
    "papermill": {
     "duration": 0.05746,
     "end_time": "2020-09-28T21:47:12.221582",
     "exception": false,
     "start_time": "2020-09-28T21:47:12.164122",
     "status": "completed"
    },
    "tags": []
   },
   "outputs": [
    {
     "data": {
      "text/html": [
       "<div>\n",
       "<style scoped>\n",
       "    .dataframe tbody tr th:only-of-type {\n",
       "        vertical-align: middle;\n",
       "    }\n",
       "\n",
       "    .dataframe tbody tr th {\n",
       "        vertical-align: top;\n",
       "    }\n",
       "\n",
       "    .dataframe thead th {\n",
       "        text-align: right;\n",
       "    }\n",
       "</style>\n",
       "<table border=\"1\" class=\"dataframe\">\n",
       "  <thead>\n",
       "    <tr style=\"text-align: right;\">\n",
       "      <th></th>\n",
       "      <th>Names</th>\n",
       "      <th>emails</th>\n",
       "      <th>Country</th>\n",
       "      <th>Time Spent on Site</th>\n",
       "      <th>Salary</th>\n",
       "      <th>Clicked</th>\n",
       "    </tr>\n",
       "  </thead>\n",
       "  <tbody>\n",
       "    <tr>\n",
       "      <th>0</th>\n",
       "      <td>Martina Avila</td>\n",
       "      <td>cubilia.Curae.Phasellus@quisaccumsanconvallis.edu</td>\n",
       "      <td>Bulgaria</td>\n",
       "      <td>25.649648</td>\n",
       "      <td>55330.06006</td>\n",
       "      <td>0</td>\n",
       "    </tr>\n",
       "    <tr>\n",
       "      <th>1</th>\n",
       "      <td>Harlan Barnes</td>\n",
       "      <td>eu.dolor@diam.co.uk</td>\n",
       "      <td>Belize</td>\n",
       "      <td>32.456107</td>\n",
       "      <td>79049.07674</td>\n",
       "      <td>1</td>\n",
       "    </tr>\n",
       "    <tr>\n",
       "      <th>2</th>\n",
       "      <td>Naomi Rodriquez</td>\n",
       "      <td>vulputate.mauris.sagittis@ametconsectetueradip...</td>\n",
       "      <td>Algeria</td>\n",
       "      <td>20.945978</td>\n",
       "      <td>41098.60826</td>\n",
       "      <td>0</td>\n",
       "    </tr>\n",
       "    <tr>\n",
       "      <th>3</th>\n",
       "      <td>Jade Cunningham</td>\n",
       "      <td>malesuada@dignissim.com</td>\n",
       "      <td>Cook Islands</td>\n",
       "      <td>54.039325</td>\n",
       "      <td>37143.35536</td>\n",
       "      <td>1</td>\n",
       "    </tr>\n",
       "    <tr>\n",
       "      <th>4</th>\n",
       "      <td>Cedric Leach</td>\n",
       "      <td>felis.ullamcorper.viverra@egetmollislectus.net</td>\n",
       "      <td>Brazil</td>\n",
       "      <td>34.249729</td>\n",
       "      <td>37355.11276</td>\n",
       "      <td>0</td>\n",
       "    </tr>\n",
       "  </tbody>\n",
       "</table>\n",
       "</div>"
      ],
      "text/plain": [
       "             Names                                             emails  \\\n",
       "0    Martina Avila  cubilia.Curae.Phasellus@quisaccumsanconvallis.edu   \n",
       "1    Harlan Barnes                                eu.dolor@diam.co.uk   \n",
       "2  Naomi Rodriquez  vulputate.mauris.sagittis@ametconsectetueradip...   \n",
       "3  Jade Cunningham                            malesuada@dignissim.com   \n",
       "4     Cedric Leach     felis.ullamcorper.viverra@egetmollislectus.net   \n",
       "\n",
       "        Country  Time Spent on Site       Salary  Clicked  \n",
       "0      Bulgaria           25.649648  55330.06006        0  \n",
       "1        Belize           32.456107  79049.07674        1  \n",
       "2       Algeria           20.945978  41098.60826        0  \n",
       "3  Cook Islands           54.039325  37143.35536        1  \n",
       "4        Brazil           34.249729  37355.11276        0  "
      ]
     },
     "execution_count": 3,
     "metadata": {},
     "output_type": "execute_result"
    }
   ],
   "source": [
    "#Load dataset\n",
    "data = pd.read_csv('../input/facebook-ads-2/Facebook_Ads_2.csv', encoding='latin-1')\n",
    "data.head()"
   ]
  },
  {
   "cell_type": "markdown",
   "metadata": {
    "papermill": {
     "duration": 0.019476,
     "end_time": "2020-09-28T21:47:12.261285",
     "exception": false,
     "start_time": "2020-09-28T21:47:12.241809",
     "status": "completed"
    },
    "tags": []
   },
   "source": [
    "# Step 2: Explore and visualize the dataset"
   ]
  },
  {
   "cell_type": "markdown",
   "metadata": {
    "papermill": {
     "duration": 0.019686,
     "end_time": "2020-09-28T21:47:12.301003",
     "exception": false,
     "start_time": "2020-09-28T21:47:12.281317",
     "status": "completed"
    },
    "tags": []
   },
   "source": [
    "Answer the below questions:\n",
    "1. How many users are there in total?\n",
    "2. How many users clicked through the ads?\n",
    "3. How many users did not click through the ads?"
   ]
  },
  {
   "cell_type": "code",
   "execution_count": 4,
   "metadata": {
    "execution": {
     "iopub.execute_input": "2020-09-28T21:47:12.343931Z",
     "iopub.status.busy": "2020-09-28T21:47:12.343269Z",
     "iopub.status.idle": "2020-09-28T21:47:12.378753Z",
     "shell.execute_reply": "2020-09-28T21:47:12.378074Z"
    },
    "papermill": {
     "duration": 0.058011,
     "end_time": "2020-09-28T21:47:12.378864",
     "exception": false,
     "start_time": "2020-09-28T21:47:12.320853",
     "status": "completed"
    },
    "tags": []
   },
   "outputs": [
    {
     "name": "stdout",
     "output_type": "stream",
     "text": [
      "The total number of users in this dataset is:  499\n",
      "The number of users who clicked through the ads is:  250\n",
      "The number of users who did not click through the ads is:  249\n"
     ]
    }
   ],
   "source": [
    "print(\"The total number of users in this dataset is: \", len(data))\n",
    "print(\"The number of users who clicked through the ads is: \", len(data[data['Clicked']==1]))\n",
    "print(\"The number of users who did not click through the ads is: \", len(data[data['Clicked']==0]))"
   ]
  },
  {
   "cell_type": "markdown",
   "metadata": {
    "papermill": {
     "duration": 0.020233,
     "end_time": "2020-09-28T21:47:12.419491",
     "exception": false,
     "start_time": "2020-09-28T21:47:12.399258",
     "status": "completed"
    },
    "tags": []
   },
   "source": [
    "The dataset is pretty balanced, given that the number of users who clicked and didn't clicked the ads are almost 1:1."
   ]
  },
  {
   "cell_type": "markdown",
   "metadata": {
    "papermill": {
     "duration": 0.020031,
     "end_time": "2020-09-28T21:47:12.460184",
     "exception": false,
     "start_time": "2020-09-28T21:47:12.440153",
     "status": "completed"
    },
    "tags": []
   },
   "source": [
    "Visualize the below distributions by click through decisions and on their own:\n",
    "* Country\n",
    "* Time spent\n",
    "* Salary"
   ]
  },
  {
   "cell_type": "code",
   "execution_count": 5,
   "metadata": {
    "execution": {
     "iopub.execute_input": "2020-09-28T21:47:12.510053Z",
     "iopub.status.busy": "2020-09-28T21:47:12.509409Z",
     "iopub.status.idle": "2020-09-28T21:47:12.513848Z",
     "shell.execute_reply": "2020-09-28T21:47:12.513314Z"
    },
    "papermill": {
     "duration": 0.033412,
     "end_time": "2020-09-28T21:47:12.513968",
     "exception": false,
     "start_time": "2020-09-28T21:47:12.480556",
     "status": "completed"
    },
    "tags": []
   },
   "outputs": [
    {
     "data": {
      "text/plain": [
       "Israel          6\n",
       "Bolivia         6\n",
       "Mauritania      6\n",
       "Guinea          5\n",
       "Armenia         5\n",
       "               ..\n",
       "Palau           1\n",
       "Saudi Arabia    1\n",
       "Denmark         1\n",
       "Mexico          1\n",
       "Seychelles      1\n",
       "Name: Country, Length: 210, dtype: int64"
      ]
     },
     "execution_count": 5,
     "metadata": {},
     "output_type": "execute_result"
    }
   ],
   "source": [
    "#Count by country\n",
    "data['Country'].value_counts()"
   ]
  },
  {
   "cell_type": "markdown",
   "metadata": {
    "papermill": {
     "duration": 0.021364,
     "end_time": "2020-09-28T21:47:12.556696",
     "exception": false,
     "start_time": "2020-09-28T21:47:12.535332",
     "status": "completed"
    },
    "tags": []
   },
   "source": [
    "There is no clear concentration of countries where the users come from, and for this reason this variable may not be very useful for fitting the model or predicting clickthrough decisions of new users."
   ]
  },
  {
   "cell_type": "code",
   "execution_count": 6,
   "metadata": {
    "execution": {
     "iopub.execute_input": "2020-09-28T21:47:12.605848Z",
     "iopub.status.busy": "2020-09-28T21:47:12.605179Z",
     "iopub.status.idle": "2020-09-28T21:47:12.969594Z",
     "shell.execute_reply": "2020-09-28T21:47:12.968955Z"
    },
    "papermill": {
     "duration": 0.391865,
     "end_time": "2020-09-28T21:47:12.969720",
     "exception": false,
     "start_time": "2020-09-28T21:47:12.577855",
     "status": "completed"
    },
    "tags": []
   },
   "outputs": [
    {
     "data": {
      "text/plain": [
       "<Figure size 864x360 with 0 Axes>"
      ]
     },
     "metadata": {},
     "output_type": "display_data"
    },
    {
     "data": {
      "image/png": "[encoded data removed]",
      "text/plain": [
       "<Figure size 432x288 with 2 Axes>"
      ]
     },
     "metadata": {
      "needs_background": "light"
     },
     "output_type": "display_data"
    }
   ],
   "source": [
    "#Distribution of time spent\n",
    "plt.figure(figsize=[12,5])\n",
    "fig, ax = plt.subplots(2)\n",
    "sns.distplot(data['Time Spent on Site'], ax = ax[0])\n",
    "sns.boxplot(x='Clicked', y='Time Spent on Site', data = data, ax = ax[1])\n",
    "plt.show()"
   ]
  },
  {
   "cell_type": "code",
   "execution_count": 7,
   "metadata": {
    "execution": {
     "iopub.execute_input": "2020-09-28T21:47:13.030754Z",
     "iopub.status.busy": "2020-09-28T21:47:13.029999Z",
     "iopub.status.idle": "2020-09-28T21:47:13.381161Z",
     "shell.execute_reply": "2020-09-28T21:47:13.380540Z"
    },
    "papermill": {
     "duration": 0.380896,
     "end_time": "2020-09-28T21:47:13.381271",
     "exception": false,
     "start_time": "2020-09-28T21:47:13.000375",
     "status": "completed"
    },
    "tags": []
   },
   "outputs": [
    {
     "data": {
      "image/png": "[encoded data removed]",
      "text/plain": [
       "<Figure size 864x360 with 1 Axes>"
      ]
     },
     "metadata": {
      "needs_background": "light"
     },
     "output_type": "display_data"
    }
   ],
   "source": [
    "plt.figure(figsize = [12,5])\n",
    "sns.distplot(data[data['Clicked']==0]['Time Spent on Site'], label = 'Clicked==0')\n",
    "sns.distplot(data[data['Clicked']==1]['Time Spent on Site'], label = 'Clicked==1')\n",
    "plt.legend()\n",
    "plt.show()"
   ]
  },
  {
   "cell_type": "markdown",
   "metadata": {
    "papermill": {
     "duration": 0.026775,
     "end_time": "2020-09-28T21:47:13.431575",
     "exception": false,
     "start_time": "2020-09-28T21:47:13.404800",
     "status": "completed"
    },
    "tags": []
   },
   "source": [
    "The time spent on site is approximately normally distributed. Nevertheless, there is a clear distinction of click through decisions by time spent on site. When the medians are compared, users who clicked at the ads spend 10% more time on the website than users who did not click at the ads."
   ]
  },
  {
   "cell_type": "code",
   "execution_count": 8,
   "metadata": {
    "execution": {
     "iopub.execute_input": "2020-09-28T21:47:13.495717Z",
     "iopub.status.busy": "2020-09-28T21:47:13.489002Z",
     "iopub.status.idle": "2020-09-28T21:47:13.821222Z",
     "shell.execute_reply": "2020-09-28T21:47:13.820575Z"
    },
    "papermill": {
     "duration": 0.363614,
     "end_time": "2020-09-28T21:47:13.821532",
     "exception": false,
     "start_time": "2020-09-28T21:47:13.457918",
     "status": "completed"
    },
    "tags": []
   },
   "outputs": [
    {
     "data": {
      "text/plain": [
       "<Figure size 864x360 with 0 Axes>"
      ]
     },
     "metadata": {},
     "output_type": "display_data"
    },
    {
     "data": {
      "image/png": "[encoded data removed]",
      "text/plain": [
       "<Figure size 432x288 with 2 Axes>"
      ]
     },
     "metadata": {
      "needs_background": "light"
     },
     "output_type": "display_data"
    }
   ],
   "source": [
    "#Distribution of salary\n",
    "plt.figure(figsize = (12,5))\n",
    "fig, ax = plt.subplots(1,2)\n",
    "sns.distplot(data['Salary'], ax = ax[0])\n",
    "sns.boxplot(data = data, x = 'Clicked', y = 'Salary', ax = ax[1])\n",
    "plt.show()"
   ]
  },
  {
   "cell_type": "code",
   "execution_count": 9,
   "metadata": {
    "execution": {
     "iopub.execute_input": "2020-09-28T21:47:13.975179Z",
     "iopub.status.busy": "2020-09-28T21:47:13.971750Z",
     "iopub.status.idle": "2020-09-28T21:47:14.261315Z",
     "shell.execute_reply": "2020-09-28T21:47:14.261817Z"
    },
    "papermill": {
     "duration": 0.41314,
     "end_time": "2020-09-28T21:47:14.261993",
     "exception": false,
     "start_time": "2020-09-28T21:47:13.848853",
     "status": "completed"
    },
    "tags": []
   },
   "outputs": [
    {
     "data": {
      "image/png": "[encoded data removed]",
      "text/plain": [
       "<Figure size 864x360 with 1 Axes>"
      ]
     },
     "metadata": {
      "needs_background": "light"
     },
     "output_type": "display_data"
    }
   ],
   "source": [
    "plt.figure(figsize = [12,5])\n",
    "sns.distplot(data[data['Clicked']==0]['Salary'], label = 'Clicked==0')\n",
    "sns.distplot(data[data['Clicked']==1]['Salary'], label = 'Clicked==1')\n",
    "plt.legend()\n",
    "plt.show()"
   ]
  },
  {
   "cell_type": "markdown",
   "metadata": {
    "papermill": {
     "duration": 0.029875,
     "end_time": "2020-09-28T21:47:14.321642",
     "exception": false,
     "start_time": "2020-09-28T21:47:14.291767",
     "status": "completed"
    },
    "tags": []
   },
   "source": [
    "Similar to the time spent on site, salary is approximately normally distributed. Nevertheless, there is a clear distinction of click through decisions by salary. Users who clicked through the ads have higher average & median salaries than users who didn't."
   ]
  },
  {
   "cell_type": "markdown",
   "metadata": {
    "papermill": {
     "duration": 0.026343,
     "end_time": "2020-09-28T21:47:14.374909",
     "exception": false,
     "start_time": "2020-09-28T21:47:14.348566",
     "status": "completed"
    },
    "tags": []
   },
   "source": [
    "# Step 3: cleaning and preparing data for training"
   ]
  },
  {
   "cell_type": "markdown",
   "metadata": {
    "papermill": {
     "duration": 0.031719,
     "end_time": "2020-09-28T21:47:14.433699",
     "exception": false,
     "start_time": "2020-09-28T21:47:14.401980",
     "status": "completed"
    },
    "tags": []
   },
   "source": [
    "Action items for this section:\n",
    "* Dropping unnecessary columns\n",
    "* Imputing missing data\n",
    "* One hot coding for categorical variables\n",
    "* Standardizing the independent variables\n",
    "* Splitting data into training, testing"
   ]
  },
  {
   "cell_type": "code",
   "execution_count": 10,
   "metadata": {
    "execution": {
     "iopub.execute_input": "2020-09-28T21:47:14.518113Z",
     "iopub.status.busy": "2020-09-28T21:47:14.517157Z",
     "iopub.status.idle": "2020-09-28T21:47:14.522032Z",
     "shell.execute_reply": "2020-09-28T21:47:14.522630Z"
    },
    "papermill": {
     "duration": 0.055198,
     "end_time": "2020-09-28T21:47:14.522795",
     "exception": false,
     "start_time": "2020-09-28T21:47:14.467597",
     "status": "completed"
    },
    "tags": []
   },
   "outputs": [
    {
     "data": {
      "text/html": [
       "<div>\n",
       "<style scoped>\n",
       "    .dataframe tbody tr th:only-of-type {\n",
       "        vertical-align: middle;\n",
       "    }\n",
       "\n",
       "    .dataframe tbody tr th {\n",
       "        vertical-align: top;\n",
       "    }\n",
       "\n",
       "    .dataframe thead th {\n",
       "        text-align: right;\n",
       "    }\n",
       "</style>\n",
       "<table border=\"1\" class=\"dataframe\">\n",
       "  <thead>\n",
       "    <tr style=\"text-align: right;\">\n",
       "      <th></th>\n",
       "      <th>Time Spent on Site</th>\n",
       "      <th>Salary</th>\n",
       "      <th>Clicked</th>\n",
       "    </tr>\n",
       "  </thead>\n",
       "  <tbody>\n",
       "    <tr>\n",
       "      <th>0</th>\n",
       "      <td>25.649648</td>\n",
       "      <td>55330.06006</td>\n",
       "      <td>0</td>\n",
       "    </tr>\n",
       "    <tr>\n",
       "      <th>1</th>\n",
       "      <td>32.456107</td>\n",
       "      <td>79049.07674</td>\n",
       "      <td>1</td>\n",
       "    </tr>\n",
       "    <tr>\n",
       "      <th>2</th>\n",
       "      <td>20.945978</td>\n",
       "      <td>41098.60826</td>\n",
       "      <td>0</td>\n",
       "    </tr>\n",
       "    <tr>\n",
       "      <th>3</th>\n",
       "      <td>54.039325</td>\n",
       "      <td>37143.35536</td>\n",
       "      <td>1</td>\n",
       "    </tr>\n",
       "    <tr>\n",
       "      <th>4</th>\n",
       "      <td>34.249729</td>\n",
       "      <td>37355.11276</td>\n",
       "      <td>0</td>\n",
       "    </tr>\n",
       "  </tbody>\n",
       "</table>\n",
       "</div>"
      ],
      "text/plain": [
       "   Time Spent on Site       Salary  Clicked\n",
       "0           25.649648  55330.06006        0\n",
       "1           32.456107  79049.07674        1\n",
       "2           20.945978  41098.60826        0\n",
       "3           54.039325  37143.35536        1\n",
       "4           34.249729  37355.11276        0"
      ]
     },
     "execution_count": 10,
     "metadata": {},
     "output_type": "execute_result"
    }
   ],
   "source": [
    "#Drop name, email, country\n",
    "data.drop(['Names','emails','Country'], axis = 1, inplace = True)\n",
    "data.head()"
   ]
  },
  {
   "cell_type": "code",
   "execution_count": 11,
   "metadata": {
    "execution": {
     "iopub.execute_input": "2020-09-28T21:47:14.591697Z",
     "iopub.status.busy": "2020-09-28T21:47:14.590669Z",
     "iopub.status.idle": "2020-09-28T21:47:14.691112Z",
     "shell.execute_reply": "2020-09-28T21:47:14.690363Z"
    },
    "papermill": {
     "duration": 0.137778,
     "end_time": "2020-09-28T21:47:14.691237",
     "exception": false,
     "start_time": "2020-09-28T21:47:14.553459",
     "status": "completed"
    },
    "tags": []
   },
   "outputs": [
    {
     "data": {
      "text/plain": [
       "<matplotlib.axes._subplots.AxesSubplot at 0x7fcee4197650>"
      ]
     },
     "execution_count": 11,
     "metadata": {},
     "output_type": "execute_result"
    },
    {
     "data": {
      "image/png": "[encoded data removed]",
      "text/plain": [
       "<Figure size 432x288 with 1 Axes>"
      ]
     },
     "metadata": {
      "needs_background": "light"
     },
     "output_type": "display_data"
    }
   ],
   "source": [
    "#Check on missing data\n",
    "sns.heatmap(data.isnull(), yticklabels = False, cmap = 'Blues', cbar = False)"
   ]
  },
  {
   "cell_type": "code",
   "execution_count": 12,
   "metadata": {
    "execution": {
     "iopub.execute_input": "2020-09-28T21:47:14.764432Z",
     "iopub.status.busy": "2020-09-28T21:47:14.763692Z",
     "iopub.status.idle": "2020-09-28T21:47:14.766805Z",
     "shell.execute_reply": "2020-09-28T21:47:14.766312Z"
    },
    "papermill": {
     "duration": 0.042654,
     "end_time": "2020-09-28T21:47:14.766919",
     "exception": false,
     "start_time": "2020-09-28T21:47:14.724265",
     "status": "completed"
    },
    "tags": []
   },
   "outputs": [],
   "source": [
    "#Split data into dependent and independent variables\n",
    "X = data.drop(['Clicked'], axis = 1).values\n",
    "y = data['Clicked'].values"
   ]
  },
  {
   "cell_type": "code",
   "execution_count": 13,
   "metadata": {
    "execution": {
     "iopub.execute_input": "2020-09-28T21:47:14.830945Z",
     "iopub.status.busy": "2020-09-28T21:47:14.830281Z",
     "iopub.status.idle": "2020-09-28T21:47:14.893512Z",
     "shell.execute_reply": "2020-09-28T21:47:14.894193Z"
    },
    "papermill": {
     "duration": 0.098842,
     "end_time": "2020-09-28T21:47:14.894363",
     "exception": false,
     "start_time": "2020-09-28T21:47:14.795521",
     "status": "completed"
    },
    "tags": []
   },
   "outputs": [],
   "source": [
    "#Scale X\n",
    "from sklearn.preprocessing import StandardScaler\n",
    "sc = StandardScaler()\n",
    "X = sc.fit_transform(X)"
   ]
  },
  {
   "cell_type": "code",
   "execution_count": 14,
   "metadata": {
    "execution": {
     "iopub.execute_input": "2020-09-28T21:47:14.955669Z",
     "iopub.status.busy": "2020-09-28T21:47:14.954989Z",
     "iopub.status.idle": "2020-09-28T21:47:15.016669Z",
     "shell.execute_reply": "2020-09-28T21:47:15.017185Z"
    },
    "papermill": {
     "duration": 0.093444,
     "end_time": "2020-09-28T21:47:15.017347",
     "exception": false,
     "start_time": "2020-09-28T21:47:14.923903",
     "status": "completed"
    },
    "tags": []
   },
   "outputs": [],
   "source": [
    "#Split data into training and testing sets\n",
    "from sklearn.model_selection import train_test_split\n",
    "X_train, X_test, y_train, y_test = train_test_split(X, y, test_size = 0.2, random_state = 42)"
   ]
  },
  {
   "cell_type": "markdown",
   "metadata": {
    "papermill": {
     "duration": 0.029403,
     "end_time": "2020-09-28T21:47:15.075857",
     "exception": false,
     "start_time": "2020-09-28T21:47:15.046454",
     "status": "completed"
    },
    "tags": []
   },
   "source": [
    "# Step 4 Model training"
   ]
  },
  {
   "cell_type": "code",
   "execution_count": 15,
   "metadata": {
    "execution": {
     "iopub.execute_input": "2020-09-28T21:47:15.145686Z",
     "iopub.status.busy": "2020-09-28T21:47:15.144830Z",
     "iopub.status.idle": "2020-09-28T21:47:15.262392Z",
     "shell.execute_reply": "2020-09-28T21:47:15.263212Z"
    },
    "papermill": {
     "duration": 0.158056,
     "end_time": "2020-09-28T21:47:15.263413",
     "exception": false,
     "start_time": "2020-09-28T21:47:15.105357",
     "status": "completed"
    },
    "tags": []
   },
   "outputs": [
    {
     "data": {
      "text/plain": [
       "LogisticRegression(random_state=0)"
      ]
     },
     "execution_count": 15,
     "metadata": {},
     "output_type": "execute_result"
    }
   ],
   "source": [
    "#Import and fit logistic regression mode\n",
    "from sklearn.linear_model import LogisticRegression\n",
    "LR = LogisticRegression(random_state = 0)\n",
    "LR.fit(X_train, y_train)"
   ]
  },
  {
   "cell_type": "code",
   "execution_count": 16,
   "metadata": {
    "execution": {
     "iopub.execute_input": "2020-09-28T21:47:15.353889Z",
     "iopub.status.busy": "2020-09-28T21:47:15.352611Z",
     "iopub.status.idle": "2020-09-28T21:47:15.355382Z",
     "shell.execute_reply": "2020-09-28T21:47:15.356142Z"
    },
    "papermill": {
     "duration": 0.049432,
     "end_time": "2020-09-28T21:47:15.356306",
     "exception": false,
     "start_time": "2020-09-28T21:47:15.306874",
     "status": "completed"
    },
    "tags": []
   },
   "outputs": [],
   "source": [
    "y_pred = LR.predict(X_test)"
   ]
  },
  {
   "cell_type": "markdown",
   "metadata": {
    "papermill": {
     "duration": 0.035239,
     "end_time": "2020-09-28T21:47:15.427758",
     "exception": false,
     "start_time": "2020-09-28T21:47:15.392519",
     "status": "completed"
    },
    "tags": []
   },
   "source": [
    "# Step 5 Model Evaluation"
   ]
  },
  {
   "cell_type": "code",
   "execution_count": 17,
   "metadata": {
    "execution": {
     "iopub.execute_input": "2020-09-28T21:47:15.505183Z",
     "iopub.status.busy": "2020-09-28T21:47:15.503983Z",
     "iopub.status.idle": "2020-09-28T21:47:15.692129Z",
     "shell.execute_reply": "2020-09-28T21:47:15.692611Z"
    },
    "papermill": {
     "duration": 0.228622,
     "end_time": "2020-09-28T21:47:15.692758",
     "exception": false,
     "start_time": "2020-09-28T21:47:15.464136",
     "status": "completed"
    },
    "tags": []
   },
   "outputs": [
    {
     "name": "stdout",
     "output_type": "stream",
     "text": [
      "              precision    recall  f1-score   support\n",
      "\n",
      "           0       0.98      0.89      0.93        61\n",
      "           1       0.84      0.97      0.90        39\n",
      "\n",
      "    accuracy                           0.92       100\n",
      "   macro avg       0.91      0.93      0.92       100\n",
      "weighted avg       0.93      0.92      0.92       100\n",
      "\n"
     ]
    },
    {
     "data": {
      "image/png": "[encoded data removed]",
      "text/plain": [
       "<Figure size 432x288 with 2 Axes>"
      ]
     },
     "metadata": {
      "needs_background": "light"
     },
     "output_type": "display_data"
    }
   ],
   "source": [
    "#Import and run confusion matrix & classification report\n",
    "from sklearn.metrics import confusion_matrix\n",
    "from sklearn.metrics import classification_report\n",
    "cm = confusion_matrix(y_test, y_pred)\n",
    "sns.heatmap(cm, annot = True, fmt = 'd')\n",
    "print(classification_report(y_test, y_pred))"
   ]
  },
  {
   "cell_type": "code",
   "execution_count": null,
   "metadata": {
    "papermill": {
     "duration": 0.031316,
     "end_time": "2020-09-28T21:47:15.756559",
     "exception": false,
     "start_time": "2020-09-28T21:47:15.725243",
     "status": "completed"
    },
    "tags": []
   },
   "outputs": [],
   "source": []
  }
 ],
 "metadata": {
  "kernelspec": {
   "display_name": "Python 3",
   "language": "python",
   "name": "python3"
  },
  "language_info": {
   "codemirror_mode": {
    "name": "ipython",
    "version": 3
   },
   "file_extension": ".py",
   "mimetype": "text/x-python",
   "name": "python",
   "nbconvert_exporter": "python",
   "pygments_lexer": "ipython3",
   "version": "3.7.6"
  },
  "papermill": {
   "duration": 9.708921,
   "end_time": "2020-09-28T21:47:15.895791",
   "environment_variables": {},
   "exception": null,
   "input_path": "__notebook__.ipynb",
   "output_path": "__notebook__.ipynb",
   "parameters": {},
   "start_time": "2020-09-28T21:47:06.186870",
   "version": "2.1.0"
  }
 },
 "nbformat": 4,
 "nbformat_minor": 4
}
