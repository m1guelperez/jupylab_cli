{
 "cells": [
  {
   "cell_type": "code",
   "execution_count": 1,
   "metadata": {},
   "outputs": [],
   "source": [
    "import tensorflow as tf\n",
    "import os\n",
    "import cv2\n",
    "import random\n",
    "import numpy as np\n",
    "import time\n",
    "import matplotlib.pyplot as plt\n",
    "\n",
    "from tensorflow.keras.models import Sequential\n",
    "from tensorflow.keras.layers import Dense, Dropout, Activation, Flatten\n",
    "from tensorflow.keras.layers import Conv2D, MaxPooling2D, Dropout\n",
    "from tensorflow.keras.callbacks import TensorBoard, LearningRateScheduler, ModelCheckpoint"
   ]
  },
  {
   "cell_type": "code",
   "execution_count": 2,
   "metadata": {},
   "outputs": [],
   "source": [
    "PATH = '/kaggle/input'\n",
    "IMG_SIZE = 200\n",
    "training_data = []"
   ]
  },
  {
   "cell_type": "code",
   "execution_count": 3,
   "metadata": {},
   "outputs": [],
   "source": [
    "for dirname, _, filenames in os.walk(PATH):\n",
    "    for filename in filenames:\n",
    "        img_path = os.path.join(dirname, filename)\n",
    "        img = cv2.imread(img_path, 0)\n",
    "        img = cv2.resize(img, (IMG_SIZE, IMG_SIZE))\n",
    "        training_data.append([img, img_path.split('_')[2]])\n",
    "        \n",
    "random.shuffle(training_data)"
   ]
  },
  {
   "cell_type": "code",
   "execution_count": 4,
   "metadata": {},
   "outputs": [],
   "source": [
    "X = []\n",
    "y = []\n",
    "\n",
    "for features,label in training_data:\n",
    "    X.append(features)\n",
    "    if ord(label)<60: y.append(ord(label)-ord('0'))\n",
    "    else: y.append(ord(label)-ord('a')+10)\n",
    "\n",
    "X = np.array(X).reshape(-1, IMG_SIZE, IMG_SIZE, 1)\n",
    "X = X/255.0\n",
    "y = np.array(y)"
   ]
  },
  {
   "cell_type": "code",
   "execution_count": 5,
   "metadata": {},
   "outputs": [],
   "source": [
    "model = Sequential()\n",
    "\n",
    "model.add(Conv2D(256, (3, 3), input_shape=X.shape[1:]))\n",
    "model.add(Activation('relu'))\n",
    "model.add(Conv2D(256, (3, 3)))\n",
    "model.add(Activation('relu'))\n",
    "model.add(MaxPooling2D(pool_size=(2, 2)))\n",
    "model.add(Dropout(rate=0.25))\n",
    "\n",
    "model.add(Conv2D(256, (3, 3)))\n",
    "model.add(Activation('relu'))\n",
    "model.add(Conv2D(256, (3, 3)))\n",
    "model.add(Activation('relu'))\n",
    "model.add(MaxPooling2D(pool_size=(2, 2)))\n",
    "model.add(Dropout(rate=0.25))\n",
    "\n",
    "model.add(Conv2D(256, (3, 3)))\n",
    "model.add(Activation('relu'))\n",
    "model.add(Conv2D(256, (3, 3)))\n",
    "model.add(Activation('relu'))\n",
    "model.add(MaxPooling2D(pool_size=(2, 2)))\n",
    "model.add(Dropout(rate=0.25))\n",
    "\n",
    "model.add(Flatten())\n",
    "\n",
    "model.add(Dense(128))\n",
    "model.add(Dropout(rate=0.5))\n",
    "\n",
    "model.add(Dense(128))\n",
    "model.add(Dropout(rate=0.5))\n",
    "\n",
    "model.add(Dense(36))\n",
    "model.add(Activation('softmax'))\n",
    "\n",
    "model.compile(loss='sparse_categorical_crossentropy',\n",
    "             optimizer='adam',\n",
    "             metrics=['accuracy'])"
   ]
  },
  {
   "cell_type": "code",
   "execution_count": 6,
   "metadata": {},
   "outputs": [],
   "source": [
    "NAME = \"Hand-Gesture-Recognition-CNN\"\n",
    "tensorboard = TensorBoard(log_dir=NAME)"
   ]
  },
  {
   "cell_type": "code",
   "execution_count": 7,
   "metadata": {},
   "outputs": [
    {
     "name": "stdout",
     "output_type": "stream",
     "text": [
      "Train on 2012 samples, validate on 503 samples\n",
      "Epoch 1/10\n",
      "2012/2012 [==============================] - 49s 24ms/sample - loss: 3.0111 - accuracy: 0.2147 - val_loss: 1.3274 - val_accuracy: 0.7316\n",
      "Epoch 2/10\n",
      "2012/2012 [==============================] - 36s 18ms/sample - loss: 1.4077 - accuracy: 0.5850 - val_loss: 0.4364 - val_accuracy: 0.8569\n",
      "Epoch 3/10\n",
      "2012/2012 [==============================] - 36s 18ms/sample - loss: 0.7650 - accuracy: 0.7719 - val_loss: 0.3889 - val_accuracy: 0.8767\n",
      "Epoch 4/10\n",
      "2012/2012 [==============================] - 36s 18ms/sample - loss: 0.5223 - accuracy: 0.8474 - val_loss: 0.2593 - val_accuracy: 0.9085\n",
      "Epoch 5/10\n",
      "2012/2012 [==============================] - 36s 18ms/sample - loss: 0.3742 - accuracy: 0.8748 - val_loss: 0.2521 - val_accuracy: 0.9185\n",
      "Epoch 6/10\n",
      "2012/2012 [==============================] - 36s 18ms/sample - loss: 0.3160 - accuracy: 0.8986 - val_loss: 0.1901 - val_accuracy: 0.9384\n",
      "Epoch 7/10\n",
      "2012/2012 [==============================] - 36s 18ms/sample - loss: 0.2319 - accuracy: 0.9225 - val_loss: 0.1357 - val_accuracy: 0.9602\n",
      "Epoch 8/10\n",
      "2012/2012 [==============================] - 36s 18ms/sample - loss: 0.1914 - accuracy: 0.9414 - val_loss: 0.1735 - val_accuracy: 0.9463\n",
      "Epoch 9/10\n",
      "2012/2012 [==============================] - 36s 18ms/sample - loss: 0.1738 - accuracy: 0.9389 - val_loss: 0.1794 - val_accuracy: 0.9443\n",
      "Epoch 10/10\n",
      "2012/2012 [==============================] - 36s 18ms/sample - loss: 0.1479 - accuracy: 0.9523 - val_loss: 0.1642 - val_accuracy: 0.9463\n"
     ]
    }
   ],
   "source": [
    "trainer = model.fit(X, y, epochs=10, validation_split=0.2,\n",
    "          callbacks = [tensorboard])"
   ]
  },
  {
   "cell_type": "code",
   "execution_count": 8,
   "metadata": {},
   "outputs": [],
   "source": [
    "epoch = [i+1 for i in range(len(trainer.history['accuracy']))]"
   ]
  },
  {
   "cell_type": "code",
   "execution_count": 9,
   "metadata": {},
   "outputs": [
    {
     "data": {
      "image/png": "[encoded data removed]",
      "text/plain": [
       "<Figure size 432x288 with 1 Axes>"
      ]
     },
     "metadata": {
      "needs_background": "light"
     },
     "output_type": "display_data"
    }
   ],
   "source": [
    "plt.plot(epoch, trainer.history['accuracy'],)\n",
    "plt.xlabel('epoch')\n",
    "plt.ylabel('accuracy')\n",
    "plt.show()"
   ]
  },
  {
   "cell_type": "code",
   "execution_count": 10,
   "metadata": {},
   "outputs": [
    {
     "data": {
      "image/png": "[encoded data removed]",
      "text/plain": [
       "<Figure size 432x288 with 1 Axes>"
      ]
     },
     "metadata": {
      "needs_background": "light"
     },
     "output_type": "display_data"
    }
   ],
   "source": [
    "plt.plot(epoch,trainer.history['loss'])\n",
    "plt.xlabel('epoch')\n",
    "plt.ylabel('loss')\n",
    "plt.show()"
   ]
  },
  {
   "cell_type": "code",
   "execution_count": 11,
   "metadata": {},
   "outputs": [
    {
     "data": {
      "image/png": "[encoded data removed]",
      "text/plain": [
       "<Figure size 432x288 with 1 Axes>"
      ]
     },
     "metadata": {
      "needs_background": "light"
     },
     "output_type": "display_data"
    }
   ],
   "source": [
    "plt.plot(epoch, trainer.history['val_accuracy'])\n",
    "plt.xlabel('epoch')\n",
    "plt.ylabel('val_accuracy')\n",
    "plt.show()"
   ]
  },
  {
   "cell_type": "code",
   "execution_count": 12,
   "metadata": {},
   "outputs": [
    {
     "data": {
      "image/png": "[encoded data removed]",
      "text/plain": [
       "<Figure size 432x288 with 1 Axes>"
      ]
     },
     "metadata": {
      "needs_background": "light"
     },
     "output_type": "display_data"
    }
   ],
   "source": [
    "plt.plot(epoch, trainer.history['val_loss'])\n",
    "plt.xlabel('epoch')\n",
    "plt.ylabel('val_loss')\n",
    "plt.show()"
   ]
  }
 ],
 "metadata": {
  "kernelspec": {
   "display_name": "Python 3",
   "language": "python",
   "name": "python3"
  },
  "language_info": {
   "codemirror_mode": {
    "name": "ipython",
    "version": 3
   },
   "file_extension": ".py",
   "mimetype": "text/x-python",
   "name": "python",
   "nbconvert_exporter": "python",
   "pygments_lexer": "ipython3",
   "version": "3.6.6"
  }
 },
 "nbformat": 4,
 "nbformat_minor": 1
}
