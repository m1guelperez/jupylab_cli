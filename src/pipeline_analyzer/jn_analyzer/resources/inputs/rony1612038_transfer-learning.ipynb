{
 "cells": [
  {
   "cell_type": "code",
   "execution_count": 1,
   "metadata": {
    "execution": {
     "iopub.execute_input": "2020-10-15T06:09:53.631872Z",
     "iopub.status.busy": "2020-10-15T06:09:53.628433Z",
     "iopub.status.idle": "2020-10-15T06:10:02.367714Z",
     "shell.execute_reply": "2020-10-15T06:10:02.366534Z"
    },
    "id": "kTxWE13GAPVY",
    "papermill": {
     "duration": 8.786173,
     "end_time": "2020-10-15T06:10:02.367857",
     "exception": false,
     "start_time": "2020-10-15T06:09:53.581684",
     "status": "completed"
    },
    "tags": []
   },
   "outputs": [],
   "source": [
    "import os\n",
    "import pandas as pd\n",
    "import numpy as np # linear algebra\n",
    "import pandas as pd # data processing, CSV file I/O (e.g. pd.read_csv)\n",
    "import matplotlib.pyplot as plt\n",
    "%matplotlib inline\n",
    "import seaborn as sns\n",
    "sns.set()\n",
    "from PIL import Image\n",
    "from glob import glob\n",
    "from skimage.io import imread\n",
    "from os import listdir\n",
    "from sklearn.preprocessing import LabelEncoder\n",
    "import time\n",
    "import cv2\n",
    "import copy\n",
    "from random import shuffle\n",
    "from tqdm import tqdm_notebook as tqdm\n",
    "from sklearn.model_selection import train_test_split\n",
    "from keras.utils.np_utils import to_categorical\n",
    "from sklearn.metrics import accuracy_score\n",
    "from sklearn.metrics import confusion_matrix\n",
    "from sklearn.metrics import classification_report\n",
    "from sklearn.metrics import plot_roc_curve\n",
    "from sklearn.metrics import precision_recall_fscore_support\n",
    "from imblearn.metrics import sensitivity_specificity_support\n",
    "from imgaug import augmenters as iaa\n",
    "import imgaug as ia\n",
    "import tensorflow as tf\n",
    "\n",
    "# import numpy as np\n",
    "# import matplotlib.pyplot as plt\n",
    "from itertools import cycle\n",
    "\n",
    "# from sklearn import svm, datasets\n",
    "from sklearn.metrics import roc_curve, auc\n",
    "# from sklearn.model_selection import train_test_split\n",
    "# from sklearn.preprocessing import label_binarize\n",
    "# from sklearn.multiclass import OneVsRestClassifier\n",
    "from scipy import interp\n",
    "from sklearn.metrics import roc_auc_score\n",
    "\n",
    "from keras.applications.resnet50 import ResNet50, preprocess_input\n",
    "from keras.utils.vis_utils import plot_model\n",
    "from keras.optimizers import SGD,Adam\n",
    "import numpy as np\n",
    "\n",
    "# from keras.applications.vgg16 import VGG16\n",
    "from keras.layers import Dense, GlobalAveragePooling2D, Dropout,concatenate\n",
    "from keras.layers import Conv2D, MaxPooling2D, Input, Flatten, BatchNormalization\n",
    "from keras.layers import Input\n",
    "from keras.callbacks import ModelCheckpoint, ReduceLROnPlateau, EarlyStopping, TensorBoard,CSVLogger\n",
    "# import tools\n",
    "import gc\n",
    "from sklearn.metrics import precision_score,recall_score,f1_score,confusion_matrix\n",
    "from keras.models import Model\n",
    "import keras\n",
    "# import channel_attention"
   ]
  },
  {
   "cell_type": "code",
   "execution_count": 2,
   "metadata": {
    "execution": {
     "iopub.execute_input": "2020-10-15T06:10:02.415848Z",
     "iopub.status.busy": "2020-10-15T06:10:02.415259Z",
     "iopub.status.idle": "2020-10-15T06:10:02.434736Z",
     "shell.execute_reply": "2020-10-15T06:10:02.433870Z"
    },
    "id": "JkU48YOHAkbq",
    "outputId": "bfe0dfd3-df06-429f-f937-6b30db69bfcf",
    "papermill": {
     "duration": 0.044708,
     "end_time": "2020-10-15T06:10:02.434869",
     "exception": false,
     "start_time": "2020-10-15T06:10:02.390161",
     "status": "completed"
    },
    "tags": []
   },
   "outputs": [
    {
     "name": "stdout",
     "output_type": "stream",
     "text": [
      "['colon_aca', 'lung_aca', 'lung_scc', 'colon_n', 'lung_n']\n"
     ]
    }
   ],
   "source": [
    "folder = os.listdir(\"../input/lung-colon-normal/trainable_normal\")\n",
    "print(folder)"
   ]
  },
  {
   "cell_type": "code",
   "execution_count": 3,
   "metadata": {
    "execution": {
     "iopub.execute_input": "2020-10-15T06:10:02.489134Z",
     "iopub.status.busy": "2020-10-15T06:10:02.488465Z",
     "iopub.status.idle": "2020-10-15T06:10:02.998010Z",
     "shell.execute_reply": "2020-10-15T06:10:02.998990Z"
    },
    "id": "ogBZxe7BAmBo",
    "outputId": "77483554-b9c1-415e-9647-e2ac3ae635d1",
    "papermill": {
     "duration": 0.541048,
     "end_time": "2020-10-15T06:10:02.999193",
     "exception": false,
     "start_time": "2020-10-15T06:10:02.458145",
     "status": "completed"
    },
    "tags": []
   },
   "outputs": [
    {
     "name": "stdout",
     "output_type": "stream",
     "text": [
      "../input/lung-colon-normal/trainable_normal/colon_aca\n",
      "5000\n",
      "../input/lung-colon-normal/trainable_normal/lung_aca\n",
      "5000\n",
      "../input/lung-colon-normal/trainable_normal/lung_scc\n",
      "5000\n",
      "../input/lung-colon-normal/trainable_normal/colon_n\n",
      "5000\n",
      "../input/lung-colon-normal/trainable_normal/lung_n\n",
      "5000\n",
      "The number of total images are:25000\n",
      "[5000, 5000, 5000, 5000, 5000]\n"
     ]
    }
   ],
   "source": [
    "base_path = \"../input/lung-colon-normal/trainable_normal\"\n",
    "total_images = 0\n",
    "image_class =[]\n",
    "for n in range(len(folder)):\n",
    "  image_path = os.path.join(base_path, folder[n]) \n",
    "  print(image_path)\n",
    "  # class_path = patient_path + \"/\" + str(c) + \"/\"\n",
    "  subfiles = os.listdir(image_path)\n",
    "  print(len(subfiles))\n",
    "  image_class.append(len(subfiles))\n",
    "  total_images += len(subfiles)\n",
    "print(\"The number of total images are:{}\".format(total_images))  \n",
    "print(image_class)"
   ]
  },
  {
   "cell_type": "code",
   "execution_count": 4,
   "metadata": {
    "execution": {
     "iopub.execute_input": "2020-10-15T06:10:03.069217Z",
     "iopub.status.busy": "2020-10-15T06:10:03.063369Z",
     "iopub.status.idle": "2020-10-15T06:10:08.885867Z",
     "shell.execute_reply": "2020-10-15T06:10:08.886910Z"
    },
    "id": "W5zIYKBVAm6u",
    "outputId": "43c01344-baa5-41ea-b502-dbdd923fb91e",
    "papermill": {
     "duration": 5.860858,
     "end_time": "2020-10-15T06:10:08.887096",
     "exception": false,
     "start_time": "2020-10-15T06:10:03.026238",
     "status": "completed"
    },
    "tags": []
   },
   "outputs": [
    {
     "data": {
      "text/html": [
       "<div>\n",
       "<style scoped>\n",
       "    .dataframe tbody tr th:only-of-type {\n",
       "        vertical-align: middle;\n",
       "    }\n",
       "\n",
       "    .dataframe tbody tr th {\n",
       "        vertical-align: top;\n",
       "    }\n",
       "\n",
       "    .dataframe thead th {\n",
       "        text-align: right;\n",
       "    }\n",
       "</style>\n",
       "<table border=\"1\" class=\"dataframe\">\n",
       "  <thead>\n",
       "    <tr style=\"text-align: right;\">\n",
       "      <th></th>\n",
       "      <th>path</th>\n",
       "      <th>target</th>\n",
       "    </tr>\n",
       "  </thead>\n",
       "  <tbody>\n",
       "    <tr>\n",
       "      <th>0</th>\n",
       "      <td>../input/lung-colon-normal/trainable_normal/co...</td>\n",
       "      <td>colon_aca</td>\n",
       "    </tr>\n",
       "    <tr>\n",
       "      <th>1</th>\n",
       "      <td>../input/lung-colon-normal/trainable_normal/co...</td>\n",
       "      <td>colon_aca</td>\n",
       "    </tr>\n",
       "    <tr>\n",
       "      <th>2</th>\n",
       "      <td>../input/lung-colon-normal/trainable_normal/co...</td>\n",
       "      <td>colon_aca</td>\n",
       "    </tr>\n",
       "    <tr>\n",
       "      <th>3</th>\n",
       "      <td>../input/lung-colon-normal/trainable_normal/co...</td>\n",
       "      <td>colon_aca</td>\n",
       "    </tr>\n",
       "    <tr>\n",
       "      <th>4</th>\n",
       "      <td>../input/lung-colon-normal/trainable_normal/co...</td>\n",
       "      <td>colon_aca</td>\n",
       "    </tr>\n",
       "  </tbody>\n",
       "</table>\n",
       "</div>"
      ],
      "text/plain": [
       "                                                path     target\n",
       "0  ../input/lung-colon-normal/trainable_normal/co...  colon_aca\n",
       "1  ../input/lung-colon-normal/trainable_normal/co...  colon_aca\n",
       "2  ../input/lung-colon-normal/trainable_normal/co...  colon_aca\n",
       "3  ../input/lung-colon-normal/trainable_normal/co...  colon_aca\n",
       "4  ../input/lung-colon-normal/trainable_normal/co...  colon_aca"
      ]
     },
     "execution_count": 4,
     "metadata": {},
     "output_type": "execute_result"
    }
   ],
   "source": [
    "data = pd.DataFrame(index=np.arange(0, total_images), columns=[\"path\", \"target\"])\n",
    "\n",
    "k = 0\n",
    "for n in range(len(folder)):\n",
    "    class_id = folder[n]\n",
    "    final_path = os.path.join(base_path,class_id) \n",
    "    subfiles = os.listdir(final_path)\n",
    "    for m in range(len(subfiles)):\n",
    "      image_path = subfiles[m]\n",
    "      data.iloc[k][\"path\"] = os.path.join(final_path,image_path)\n",
    "      data.iloc[k][\"target\"] = class_id\n",
    "      k += 1  \n",
    "\n",
    "data.head()"
   ]
  },
  {
   "cell_type": "code",
   "execution_count": 5,
   "metadata": {
    "execution": {
     "iopub.execute_input": "2020-10-15T06:10:08.957498Z",
     "iopub.status.busy": "2020-10-15T06:10:08.956686Z",
     "iopub.status.idle": "2020-10-15T06:10:08.966537Z",
     "shell.execute_reply": "2020-10-15T06:10:08.967247Z"
    },
    "id": "Wzaf1G3WAo8P",
    "outputId": "55be9396-1123-4ab9-f992-3ba3a671b1c3",
    "papermill": {
     "duration": 0.047886,
     "end_time": "2020-10-15T06:10:08.967440",
     "exception": false,
     "start_time": "2020-10-15T06:10:08.919554",
     "status": "completed"
    },
    "tags": []
   },
   "outputs": [
    {
     "data": {
      "text/plain": [
       "array(['colon_aca', 'lung_aca', 'lung_scc', 'colon_n', 'lung_n'],\n",
       "      dtype=object)"
      ]
     },
     "execution_count": 5,
     "metadata": {},
     "output_type": "execute_result"
    }
   ],
   "source": [
    "data['target'].unique()"
   ]
  },
  {
   "cell_type": "code",
   "execution_count": 6,
   "metadata": {
    "execution": {
     "iopub.execute_input": "2020-10-15T06:10:09.065689Z",
     "iopub.status.busy": "2020-10-15T06:10:09.064858Z",
     "iopub.status.idle": "2020-10-15T06:10:09.082382Z",
     "shell.execute_reply": "2020-10-15T06:10:09.082871Z"
    },
    "id": "--erR38MArAo",
    "outputId": "ebc38cf0-bc70-4b57-b969-4c16705958c6",
    "papermill": {
     "duration": 0.076326,
     "end_time": "2020-10-15T06:10:09.082999",
     "exception": false,
     "start_time": "2020-10-15T06:10:09.006673",
     "status": "completed"
    },
    "tags": []
   },
   "outputs": [
    {
     "data": {
      "text/html": [
       "<div>\n",
       "<style scoped>\n",
       "    .dataframe tbody tr th:only-of-type {\n",
       "        vertical-align: middle;\n",
       "    }\n",
       "\n",
       "    .dataframe tbody tr th {\n",
       "        vertical-align: top;\n",
       "    }\n",
       "\n",
       "    .dataframe thead th {\n",
       "        text-align: right;\n",
       "    }\n",
       "</style>\n",
       "<table border=\"1\" class=\"dataframe\">\n",
       "  <thead>\n",
       "    <tr style=\"text-align: right;\">\n",
       "      <th></th>\n",
       "      <th>path</th>\n",
       "      <th>target</th>\n",
       "      <th>target_label</th>\n",
       "    </tr>\n",
       "  </thead>\n",
       "  <tbody>\n",
       "    <tr>\n",
       "      <th>0</th>\n",
       "      <td>../input/lung-colon-normal/trainable_normal/lu...</td>\n",
       "      <td>lung_n</td>\n",
       "      <td>3</td>\n",
       "    </tr>\n",
       "    <tr>\n",
       "      <th>1</th>\n",
       "      <td>../input/lung-colon-normal/trainable_normal/lu...</td>\n",
       "      <td>lung_scc</td>\n",
       "      <td>4</td>\n",
       "    </tr>\n",
       "    <tr>\n",
       "      <th>2</th>\n",
       "      <td>../input/lung-colon-normal/trainable_normal/co...</td>\n",
       "      <td>colon_n</td>\n",
       "      <td>1</td>\n",
       "    </tr>\n",
       "    <tr>\n",
       "      <th>3</th>\n",
       "      <td>../input/lung-colon-normal/trainable_normal/lu...</td>\n",
       "      <td>lung_scc</td>\n",
       "      <td>4</td>\n",
       "    </tr>\n",
       "    <tr>\n",
       "      <th>4</th>\n",
       "      <td>../input/lung-colon-normal/trainable_normal/lu...</td>\n",
       "      <td>lung_scc</td>\n",
       "      <td>4</td>\n",
       "    </tr>\n",
       "    <tr>\n",
       "      <th>...</th>\n",
       "      <td>...</td>\n",
       "      <td>...</td>\n",
       "      <td>...</td>\n",
       "    </tr>\n",
       "    <tr>\n",
       "      <th>24995</th>\n",
       "      <td>../input/lung-colon-normal/trainable_normal/lu...</td>\n",
       "      <td>lung_scc</td>\n",
       "      <td>4</td>\n",
       "    </tr>\n",
       "    <tr>\n",
       "      <th>24996</th>\n",
       "      <td>../input/lung-colon-normal/trainable_normal/lu...</td>\n",
       "      <td>lung_n</td>\n",
       "      <td>3</td>\n",
       "    </tr>\n",
       "    <tr>\n",
       "      <th>24997</th>\n",
       "      <td>../input/lung-colon-normal/trainable_normal/co...</td>\n",
       "      <td>colon_aca</td>\n",
       "      <td>0</td>\n",
       "    </tr>\n",
       "    <tr>\n",
       "      <th>24998</th>\n",
       "      <td>../input/lung-colon-normal/trainable_normal/co...</td>\n",
       "      <td>colon_n</td>\n",
       "      <td>1</td>\n",
       "    </tr>\n",
       "    <tr>\n",
       "      <th>24999</th>\n",
       "      <td>../input/lung-colon-normal/trainable_normal/lu...</td>\n",
       "      <td>lung_n</td>\n",
       "      <td>3</td>\n",
       "    </tr>\n",
       "  </tbody>\n",
       "</table>\n",
       "<p>25000 rows × 3 columns</p>\n",
       "</div>"
      ],
      "text/plain": [
       "                                                    path     target  \\\n",
       "0      ../input/lung-colon-normal/trainable_normal/lu...     lung_n   \n",
       "1      ../input/lung-colon-normal/trainable_normal/lu...   lung_scc   \n",
       "2      ../input/lung-colon-normal/trainable_normal/co...    colon_n   \n",
       "3      ../input/lung-colon-normal/trainable_normal/lu...   lung_scc   \n",
       "4      ../input/lung-colon-normal/trainable_normal/lu...   lung_scc   \n",
       "...                                                  ...        ...   \n",
       "24995  ../input/lung-colon-normal/trainable_normal/lu...   lung_scc   \n",
       "24996  ../input/lung-colon-normal/trainable_normal/lu...     lung_n   \n",
       "24997  ../input/lung-colon-normal/trainable_normal/co...  colon_aca   \n",
       "24998  ../input/lung-colon-normal/trainable_normal/co...    colon_n   \n",
       "24999  ../input/lung-colon-normal/trainable_normal/lu...     lung_n   \n",
       "\n",
       "       target_label  \n",
       "0                 3  \n",
       "1                 4  \n",
       "2                 1  \n",
       "3                 4  \n",
       "4                 4  \n",
       "...             ...  \n",
       "24995             4  \n",
       "24996             3  \n",
       "24997             0  \n",
       "24998             1  \n",
       "24999             3  \n",
       "\n",
       "[25000 rows x 3 columns]"
      ]
     },
     "execution_count": 6,
     "metadata": {},
     "output_type": "execute_result"
    }
   ],
   "source": [
    "# creating instance of labelencoder\n",
    "labelencoder = LabelEncoder()\n",
    "# Assigning numerical values and storing in another column\n",
    "data['target_label'] = labelencoder.fit_transform(data['target'])\n",
    "data = data.sample(frac=1).reset_index(drop=True)\n",
    "data"
   ]
  },
  {
   "cell_type": "code",
   "execution_count": 7,
   "metadata": {
    "execution": {
     "iopub.execute_input": "2020-10-15T06:10:09.150063Z",
     "iopub.status.busy": "2020-10-15T06:10:09.149225Z",
     "iopub.status.idle": "2020-10-15T06:10:09.152694Z",
     "shell.execute_reply": "2020-10-15T06:10:09.153250Z"
    },
    "id": "A-WI9W6mAtnO",
    "outputId": "22db1d8b-be33-421b-c2ec-1634460dd74a",
    "papermill": {
     "duration": 0.044907,
     "end_time": "2020-10-15T06:10:09.153380",
     "exception": false,
     "start_time": "2020-10-15T06:10:09.108473",
     "status": "completed"
    },
    "tags": []
   },
   "outputs": [
    {
     "data": {
      "text/plain": [
       "path            ../input/lung-colon-normal/trainable_normal/lu...\n",
       "target                                                   lung_aca\n",
       "target_label                                                    2\n",
       "Name: 1000, dtype: object"
      ]
     },
     "execution_count": 7,
     "metadata": {},
     "output_type": "execute_result"
    }
   ],
   "source": [
    "data.iloc[1000,:]"
   ]
  },
  {
   "cell_type": "code",
   "execution_count": 8,
   "metadata": {
    "execution": {
     "iopub.execute_input": "2020-10-15T06:10:09.211223Z",
     "iopub.status.busy": "2020-10-15T06:10:09.210222Z",
     "iopub.status.idle": "2020-10-15T06:10:09.217325Z",
     "shell.execute_reply": "2020-10-15T06:10:09.216672Z"
    },
    "id": "aEbJh1ZeA0Hp",
    "outputId": "502bdb77-b8d1-420f-8295-53b9101cafc2",
    "papermill": {
     "duration": 0.038267,
     "end_time": "2020-10-15T06:10:09.217431",
     "exception": false,
     "start_time": "2020-10-15T06:10:09.179164",
     "status": "completed"
    },
    "tags": []
   },
   "outputs": [
    {
     "data": {
      "text/plain": [
       "target_label\n",
       "0    5000\n",
       "1    5000\n",
       "2    5000\n",
       "3    5000\n",
       "4    5000\n",
       "dtype: int64"
      ]
     },
     "execution_count": 8,
     "metadata": {},
     "output_type": "execute_result"
    }
   ],
   "source": [
    "data.groupby(\"target_label\").size()"
   ]
  },
  {
   "cell_type": "code",
   "execution_count": 9,
   "metadata": {
    "execution": {
     "iopub.execute_input": "2020-10-15T06:10:09.279883Z",
     "iopub.status.busy": "2020-10-15T06:10:09.279145Z",
     "iopub.status.idle": "2020-10-15T06:10:09.767292Z",
     "shell.execute_reply": "2020-10-15T06:10:09.766612Z"
    },
    "id": "kGXphaOGA18e",
    "outputId": "b1803143-569d-4d89-aa05-c79985256af2",
    "papermill": {
     "duration": 0.523289,
     "end_time": "2020-10-15T06:10:09.767411",
     "exception": false,
     "start_time": "2020-10-15T06:10:09.244122",
     "status": "completed"
    },
    "tags": []
   },
   "outputs": [
    {
     "data": {
      "image/png": "[encoded data removed]",
      "text/plain": [
       "<Figure size 1440x360 with 2 Axes>"
      ]
     },
     "metadata": {},
     "output_type": "display_data"
    }
   ],
   "source": [
    "# cancer_perc = data.groupby(\"patient_id\").target.value_counts()/ data.groupby(\"patient_id\").target.size()\n",
    "# cancer_perc = cancer_perc.unstack()\n",
    "\n",
    "fig, ax = plt.subplots(1,2,figsize=(20,5))\n",
    "sns.distplot(data.groupby(\"target_label\").size(), ax=ax[0], color=\"Orange\", kde=False)\n",
    "ax[0].set_xlabel(\"Number of images\")\n",
    "ax[0].set_ylabel(\"Frequency\");\n",
    "\n",
    "sns.countplot(data.target, palette=\"Set2\", ax=ax[1]);\n",
    "ax[1].set_xlabel(\"Names of Class\")\n",
    "ax[1].set_title(\"Data Distribution\");"
   ]
  },
  {
   "cell_type": "code",
   "execution_count": 10,
   "metadata": {
    "execution": {
     "iopub.execute_input": "2020-10-15T06:10:09.835731Z",
     "iopub.status.busy": "2020-10-15T06:10:09.834806Z",
     "iopub.status.idle": "2020-10-15T06:10:09.844816Z",
     "shell.execute_reply": "2020-10-15T06:10:09.845469Z"
    },
    "id": "MfNb8KEnA3sW",
    "outputId": "8f43ff0b-983d-4746-b098-508a50d446a6",
    "papermill": {
     "duration": 0.048886,
     "end_time": "2020-10-15T06:10:09.845610",
     "exception": false,
     "start_time": "2020-10-15T06:10:09.796724",
     "status": "completed"
    },
    "tags": []
   },
   "outputs": [
    {
     "name": "stdout",
     "output_type": "stream",
     "text": [
      "<class 'pandas.core.frame.DataFrame'>\n",
      "RangeIndex: 25000 entries, 0 to 24999\n",
      "Data columns (total 3 columns):\n",
      " #   Column        Non-Null Count  Dtype \n",
      "---  ------        --------------  ----- \n",
      " 0   path          25000 non-null  object\n",
      " 1   target        25000 non-null  object\n",
      " 2   target_label  25000 non-null  int64 \n",
      "dtypes: int64(1), object(2)\n",
      "memory usage: 586.1+ KB\n"
     ]
    }
   ],
   "source": [
    "data.info()"
   ]
  },
  {
   "cell_type": "code",
   "execution_count": 11,
   "metadata": {
    "execution": {
     "iopub.execute_input": "2020-10-15T06:10:09.915751Z",
     "iopub.status.busy": "2020-10-15T06:10:09.914885Z",
     "iopub.status.idle": "2020-10-15T06:10:09.930495Z",
     "shell.execute_reply": "2020-10-15T06:10:09.929811Z"
    },
    "id": "J0ec5nmbA7-m",
    "outputId": "27fc932a-2e20-4adb-acec-9578854d7aab",
    "papermill": {
     "duration": 0.054143,
     "end_time": "2020-10-15T06:10:09.930611",
     "exception": false,
     "start_time": "2020-10-15T06:10:09.876468",
     "status": "completed"
    },
    "tags": []
   },
   "outputs": [
    {
     "data": {
      "text/html": [
       "<div>\n",
       "<style scoped>\n",
       "    .dataframe tbody tr th:only-of-type {\n",
       "        vertical-align: middle;\n",
       "    }\n",
       "\n",
       "    .dataframe tbody tr th {\n",
       "        vertical-align: top;\n",
       "    }\n",
       "\n",
       "    .dataframe thead th {\n",
       "        text-align: right;\n",
       "    }\n",
       "</style>\n",
       "<table border=\"1\" class=\"dataframe\">\n",
       "  <thead>\n",
       "    <tr style=\"text-align: right;\">\n",
       "      <th></th>\n",
       "      <th>target_label</th>\n",
       "    </tr>\n",
       "  </thead>\n",
       "  <tbody>\n",
       "    <tr>\n",
       "      <th>count</th>\n",
       "      <td>25000.000000</td>\n",
       "    </tr>\n",
       "    <tr>\n",
       "      <th>mean</th>\n",
       "      <td>2.000000</td>\n",
       "    </tr>\n",
       "    <tr>\n",
       "      <th>std</th>\n",
       "      <td>1.414242</td>\n",
       "    </tr>\n",
       "    <tr>\n",
       "      <th>min</th>\n",
       "      <td>0.000000</td>\n",
       "    </tr>\n",
       "    <tr>\n",
       "      <th>25%</th>\n",
       "      <td>1.000000</td>\n",
       "    </tr>\n",
       "    <tr>\n",
       "      <th>50%</th>\n",
       "      <td>2.000000</td>\n",
       "    </tr>\n",
       "    <tr>\n",
       "      <th>75%</th>\n",
       "      <td>3.000000</td>\n",
       "    </tr>\n",
       "    <tr>\n",
       "      <th>max</th>\n",
       "      <td>4.000000</td>\n",
       "    </tr>\n",
       "  </tbody>\n",
       "</table>\n",
       "</div>"
      ],
      "text/plain": [
       "       target_label\n",
       "count  25000.000000\n",
       "mean       2.000000\n",
       "std        1.414242\n",
       "min        0.000000\n",
       "25%        1.000000\n",
       "50%        2.000000\n",
       "75%        3.000000\n",
       "max        4.000000"
      ]
     },
     "execution_count": 11,
     "metadata": {},
     "output_type": "execute_result"
    }
   ],
   "source": [
    "data.describe()"
   ]
  },
  {
   "cell_type": "code",
   "execution_count": 12,
   "metadata": {
    "execution": {
     "iopub.execute_input": "2020-10-15T06:10:10.003760Z",
     "iopub.status.busy": "2020-10-15T06:10:10.002601Z",
     "iopub.status.idle": "2020-10-15T06:10:10.007455Z",
     "shell.execute_reply": "2020-10-15T06:10:10.006920Z"
    },
    "id": "0eBZqSmfA9gX",
    "outputId": "0ad1ccd6-40d7-42b7-dadc-8674bf093dbe",
    "papermill": {
     "duration": 0.043274,
     "end_time": "2020-10-15T06:10:10.007563",
     "exception": false,
     "start_time": "2020-10-15T06:10:09.964289",
     "status": "completed"
    },
    "tags": []
   },
   "outputs": [
    {
     "data": {
      "text/plain": [
       "0        3\n",
       "1        4\n",
       "2        1\n",
       "3        4\n",
       "4        4\n",
       "        ..\n",
       "24995    4\n",
       "24996    3\n",
       "24997    0\n",
       "24998    1\n",
       "24999    3\n",
       "Name: target_label, Length: 25000, dtype: int64"
      ]
     },
     "execution_count": 12,
     "metadata": {},
     "output_type": "execute_result"
    }
   ],
   "source": [
    "data.target_label"
   ]
  },
  {
   "cell_type": "code",
   "execution_count": 13,
   "metadata": {
    "execution": {
     "iopub.execute_input": "2020-10-15T06:10:10.082017Z",
     "iopub.status.busy": "2020-10-15T06:10:10.081270Z",
     "iopub.status.idle": "2020-10-15T06:10:10.090648Z",
     "shell.execute_reply": "2020-10-15T06:10:10.089998Z"
    },
    "id": "pbmTy69uA-VP",
    "outputId": "02603252-e874-478a-caac-7b388074033e",
    "papermill": {
     "duration": 0.050549,
     "end_time": "2020-10-15T06:10:10.090752",
     "exception": false,
     "start_time": "2020-10-15T06:10:10.040203",
     "status": "completed"
    },
    "tags": []
   },
   "outputs": [
    {
     "name": "stdout",
     "output_type": "stream",
     "text": [
      "(17500,)\n",
      "(7500,)\n"
     ]
    }
   ],
   "source": [
    "X = data.path\n",
    "y = data.target_label\n",
    "X_train, X_test_sub ,y_train,y_test_sub= train_test_split(X,y, test_size=0.3, random_state=0,shuffle = True)\n",
    "print(X_train.shape)\n",
    "print(X_test_sub.shape)"
   ]
  },
  {
   "cell_type": "code",
   "execution_count": 14,
   "metadata": {
    "execution": {
     "iopub.execute_input": "2020-10-15T06:10:10.159527Z",
     "iopub.status.busy": "2020-10-15T06:10:10.158612Z",
     "iopub.status.idle": "2020-10-15T06:10:10.163802Z",
     "shell.execute_reply": "2020-10-15T06:10:10.163172Z"
    },
    "id": "hszaq50HBAJH",
    "outputId": "eae8a2ad-8a82-4186-86cc-685ce7937689",
    "papermill": {
     "duration": 0.040098,
     "end_time": "2020-10-15T06:10:10.163904",
     "exception": false,
     "start_time": "2020-10-15T06:10:10.123806",
     "status": "completed"
    },
    "tags": []
   },
   "outputs": [
    {
     "name": "stdout",
     "output_type": "stream",
     "text": [
      "(3750,)\n",
      "(3750,)\n"
     ]
    }
   ],
   "source": [
    "X_test,X_valid,y_test,y_valid = train_test_split(X_test_sub, y_test_sub, test_size=0.5, random_state=0 , shuffle =False)\n",
    "print(X_test.shape)\n",
    "print(X_valid.shape)"
   ]
  },
  {
   "cell_type": "code",
   "execution_count": 15,
   "metadata": {
    "execution": {
     "iopub.execute_input": "2020-10-15T06:10:10.233782Z",
     "iopub.status.busy": "2020-10-15T06:10:10.232747Z",
     "iopub.status.idle": "2020-10-15T06:10:10.757594Z",
     "shell.execute_reply": "2020-10-15T06:10:10.758226Z"
    },
    "id": "ruFZr_R0BBrn",
    "outputId": "0b0d65dc-937f-47be-8daa-16347e634ce8",
    "papermill": {
     "duration": 0.562752,
     "end_time": "2020-10-15T06:10:10.758402",
     "exception": false,
     "start_time": "2020-10-15T06:10:10.195650",
     "status": "completed"
    },
    "tags": []
   },
   "outputs": [
    {
     "data": {
      "image/png": "[encoded data removed]",
      "text/plain": [
       "<Figure size 1440x360 with 3 Axes>"
      ]
     },
     "metadata": {},
     "output_type": "display_data"
    }
   ],
   "source": [
    "fig, ax = plt.subplots(1,3,figsize=(20,5))\n",
    "sns.countplot(y_train, ax=ax[0], palette=\"Reds\")\n",
    "ax[0].set_title(\"Train data\")\n",
    "sns.countplot(y_valid, ax=ax[1], palette=\"Blues\")\n",
    "ax[1].set_title(\"Dev data\")\n",
    "sns.countplot(y_test, ax=ax[2], palette=\"Greens\");\n",
    "ax[2].set_title(\"Test data\");"
   ]
  },
  {
   "cell_type": "code",
   "execution_count": 16,
   "metadata": {
    "execution": {
     "iopub.execute_input": "2020-10-15T06:10:10.834903Z",
     "iopub.status.busy": "2020-10-15T06:10:10.833861Z",
     "iopub.status.idle": "2020-10-15T06:10:10.838419Z",
     "shell.execute_reply": "2020-10-15T06:10:10.837824Z"
    },
    "id": "JEo47xgNBDbo",
    "outputId": "6e7a5201-cee2-4d73-d4db-343e8b309fe5",
    "papermill": {
     "duration": 0.0452,
     "end_time": "2020-10-15T06:10:10.838531",
     "exception": false,
     "start_time": "2020-10-15T06:10:10.793331",
     "status": "completed"
    },
    "tags": []
   },
   "outputs": [
    {
     "data": {
      "text/plain": [
       "array(['../input/lung-colon-normal/trainable_normal/lung_n/lungn3953.jpeg',\n",
       "       '../input/lung-colon-normal/trainable_normal/lung_scc/lungscc2285.jpeg',\n",
       "       '../input/lung-colon-normal/trainable_normal/colon_n/colonn1251.jpeg',\n",
       "       ...,\n",
       "       '../input/lung-colon-normal/trainable_normal/colon_aca/colonca4646.jpeg',\n",
       "       '../input/lung-colon-normal/trainable_normal/colon_n/colonn4691.jpeg',\n",
       "       '../input/lung-colon-normal/trainable_normal/lung_n/lungn4679.jpeg'],\n",
       "      dtype=object)"
      ]
     },
     "execution_count": 16,
     "metadata": {},
     "output_type": "execute_result"
    }
   ],
   "source": [
    "data.path.values"
   ]
  },
  {
   "cell_type": "code",
   "execution_count": 17,
   "metadata": {
    "execution": {
     "iopub.execute_input": "2020-10-15T06:10:10.924381Z",
     "iopub.status.busy": "2020-10-15T06:10:10.919139Z",
     "iopub.status.idle": "2020-10-15T06:10:10.931854Z",
     "shell.execute_reply": "2020-10-15T06:10:10.932361Z"
    },
    "id": "dMDYYoc0BGfU",
    "papermill": {
     "duration": 0.058679,
     "end_time": "2020-10-15T06:10:10.932503",
     "exception": false,
     "start_time": "2020-10-15T06:10:10.873824",
     "status": "completed"
    },
    "tags": []
   },
   "outputs": [],
   "source": [
    "target_label_map = {k:v for k,v in zip(data.path.values,data.target_label.values)}"
   ]
  },
  {
   "cell_type": "code",
   "execution_count": 18,
   "metadata": {
    "execution": {
     "iopub.execute_input": "2020-10-15T06:10:11.042830Z",
     "iopub.status.busy": "2020-10-15T06:10:11.030853Z",
     "iopub.status.idle": "2020-10-15T06:10:11.046033Z",
     "shell.execute_reply": "2020-10-15T06:10:11.045368Z"
    },
    "id": "EIqifOw3BHAX",
    "papermill": {
     "duration": 0.076164,
     "end_time": "2020-10-15T06:10:11.046165",
     "exception": false,
     "start_time": "2020-10-15T06:10:10.970001",
     "status": "completed"
    },
    "tags": []
   },
   "outputs": [],
   "source": [
    "def chunker(seq, size):\n",
    "    return (seq[pos:pos + size] for pos in range(0, len(seq), size))\n",
    "def get_seq():\n",
    "    sometimes = lambda aug: iaa.Sometimes(0.5, aug)\n",
    "    seq = iaa.Sequential(\n",
    "        [\n",
    "            # apply the following augmenters to most images\n",
    "            iaa.Fliplr(0.5), # horizontally flip 50% of all images\n",
    "            iaa.Flipud(0.2), # vertically flip 20% of all images\n",
    "            sometimes(iaa.Affine(\n",
    "                scale={\"x\": (0.9, 1.1), \"y\": (0.9, 1.1)}, # scale images to 80-120% of their size, individually per axis\n",
    "                translate_percent={\"x\": (-0.1, 0.1), \"y\": (-0.1, 0.1)}, # translate by -20 to +20 percent (per axis)\n",
    "                rotate=(-10, 10), # rotate by -45 to +45 degrees\n",
    "                shear=(-5, 5), # shear by -16 to +16 degrees\n",
    "                order=[0, 1], # use nearest neighbour or bilinear interpolation (fast)\n",
    "                cval=(0, 255), # if mode is constant, use a cval between 0 and 255\n",
    "                mode=ia.ALL # use any of scikit-image's warping modes (see 2nd image from the top for examples)\n",
    "            )),\n",
    "            # execute 0 to 5 of the following (less important) augmenters per image\n",
    "            # don't execute all of them, as that would often be way too strong\n",
    "            iaa.SomeOf((0, 5),\n",
    "                [\n",
    "                    sometimes(iaa.Superpixels(p_replace=(0, 1.0), n_segments=(20, 200))), # convert images into their superpixel representation\n",
    "                    iaa.OneOf([\n",
    "                        iaa.GaussianBlur((0, 1.0)), # blur images with a sigma between 0 and 3.0\n",
    "                        iaa.AverageBlur(k=(3, 5)), # blur image using local means with kernel sizes between 2 and 7\n",
    "                        iaa.MedianBlur(k=(3, 5)), # blur image using local medians with kernel sizes between 2 and 7\n",
    "                    ]),\n",
    "                    iaa.Sharpen(alpha=(0, 1.0), lightness=(0.9, 1.1)), # sharpen images\n",
    "                    iaa.Emboss(alpha=(0, 1.0), strength=(0, 2.0)), # emboss images\n",
    "                    # search either for all edges or for directed edges,\n",
    "                    # blend the result with the original image using a blobby mask\n",
    "                    iaa.SimplexNoiseAlpha(iaa.OneOf([\n",
    "                        iaa.EdgeDetect(alpha=(0.5, 1.0)),\n",
    "                        iaa.DirectedEdgeDetect(alpha=(0.5, 1.0), direction=(0.0, 1.0)),\n",
    "                    ])),\n",
    "                    iaa.AdditiveGaussianNoise(loc=0, scale=(0.0, 0.01*255), per_channel=0.5), # add gaussian noise to images\n",
    "                    iaa.OneOf([\n",
    "                        iaa.Dropout((0.01, 0.05), per_channel=0.5), # randomly remove up to 10% of the pixels\n",
    "                        iaa.CoarseDropout((0.01, 0.03), size_percent=(0.01, 0.02), per_channel=0.2),\n",
    "                    ]),\n",
    "                    iaa.Invert(0.01, per_channel=True), # invert color channels\n",
    "                    iaa.Add((-2, 2), per_channel=0.5), # change brightness of images (by -10 to 10 of original value)\n",
    "                    iaa.AddToHueAndSaturation((-1, 1)), # change hue and saturation\n",
    "                    # either change the brightness of the whole image (sometimes\n",
    "                    # per channel) or change the brightness of subareas\n",
    "                    iaa.OneOf([\n",
    "                        iaa.Multiply((0.9, 1.1), per_channel=0.5),\n",
    "                        iaa.FrequencyNoiseAlpha(\n",
    "                            exponent=(-1, 0),\n",
    "                            first=iaa.Multiply((0.9, 1.1), per_channel=True),\n",
    "                            second=iaa.ContrastNormalization((0.9, 1.1))\n",
    "                        )\n",
    "                    ]),\n",
    "                    sometimes(iaa.ElasticTransformation(alpha=(0.5, 3.5), sigma=0.25)), # move pixels locally around (with random strengths)\n",
    "                    sometimes(iaa.PiecewiseAffine(scale=(0.01, 0.05))), # sometimes move parts of the image around\n",
    "                    sometimes(iaa.PerspectiveTransform(scale=(0.01, 0.1)))\n",
    "                ],\n",
    "                random_order=True\n",
    "            )\n",
    "        ],\n",
    "        random_order=True\n",
    "    )\n",
    "    return seq\n",
    "\n",
    "def data_gen(list_files, target_label_map, batch_size, augment=False):\n",
    "    seq = get_seq()\n",
    "    while True:\n",
    "        # shuffle(list_files)\n",
    "        for batch in chunker(list_files, batch_size):\n",
    "            X = [cv2.resize(cv2.imread(x),(224,224),interpolation=cv2.INTER_CUBIC) for x in batch]\n",
    "            # for x in X:\n",
    "            #   X.append(cv2.resize(x,(224,224),interpolation=cv2.INTER_CUBIC))\n",
    "            # X = [cv2.resize(x,(224,224,3)) for x in X]\n",
    "            Y = [target_label_map[x] for x in batch]\n",
    "            # print(Y)\n",
    "            Y = to_categorical(Y, num_classes = 5)\n",
    "            # print(Y)\n",
    "            if augment:\n",
    "                X = seq.augment_images(X)\n",
    "            X = [preprocess_input(x) for x in X]\n",
    "                \n",
    "            yield np.array(X), np.array(Y)\n",
    "    "
   ]
  },
  {
   "cell_type": "code",
   "execution_count": 19,
   "metadata": {
    "execution": {
     "iopub.execute_input": "2020-10-15T06:10:11.125408Z",
     "iopub.status.busy": "2020-10-15T06:10:11.124639Z",
     "iopub.status.idle": "2020-10-15T06:10:17.346504Z",
     "shell.execute_reply": "2020-10-15T06:10:17.345829Z"
    },
    "id": "_O7KG93hBItA",
    "outputId": "0b587029-c750-441e-a7cf-4723b984c4c1",
    "papermill": {
     "duration": 6.265674,
     "end_time": "2020-10-15T06:10:17.346668",
     "exception": false,
     "start_time": "2020-10-15T06:10:11.080994",
     "status": "completed"
    },
    "tags": []
   },
   "outputs": [
    {
     "name": "stdout",
     "output_type": "stream",
     "text": [
      "Downloading data from https://storage.googleapis.com/tensorflow/keras-applications/resnet/resnet50_weights_tf_dim_ordering_tf_kernels_notop.h5\n",
      "94773248/94765736 [==============================] - 1s 0us/step\n",
      "(None, 7, 7, 2048)\n"
     ]
    }
   ],
   "source": [
    "adam = Adam(lr=0.005, beta_1=0.9, beta_2=0.999, epsilon=1e-08, decay=0.0009)\n",
    "sgd = SGD(lr=0.001, momentum=0.9, decay=0.0, nesterov=False)\n",
    "\n",
    "input_tensor = Input(shape=(224,224, 3))\n",
    "#backbone\n",
    "\n",
    "base_model = tf.keras.applications.ResNet50(input_tensor= input_tensor, weights='imagenet', include_top=False)\n",
    "base_output = base_model.output\n",
    "print(base_output.shape)\n",
    "# channel-attention\n",
    "# x = squeeze_excitation_layer(base_output, 2048, ratio=4, concate=False)\n",
    "# x = BatchNormalization()(x)\n",
    "\n",
    "# #concat\n",
    "# x = concatenate([base_output, x], axis=3)\n",
    "# spp\n",
    "\n",
    "gap = GlobalAveragePooling2D()(base_output)\n",
    "x = Flatten()(base_output)\n",
    "x = concatenate([gap,x])\n",
    "x = Dense(512, activation='relu')(x)\n",
    "x = BatchNormalization()(x)\n",
    "x = Dense(512, activation='relu')(x)\n",
    "x = BatchNormalization()(x)\n",
    "predict = Dense(5, activation='softmax')(x)\n",
    "model = Model(inputs=input_tensor, outputs=predict)\n",
    "\n",
    "for layer in (base_model.layers):\n",
    "    layer.trainable = False\n",
    "\n",
    "# for l in model.layers:\n",
    "#   print(l.name)"
   ]
  },
  {
   "cell_type": "code",
   "execution_count": 20,
   "metadata": {
    "execution": {
     "iopub.execute_input": "2020-10-15T06:10:17.437956Z",
     "iopub.status.busy": "2020-10-15T06:10:17.437358Z",
     "iopub.status.idle": "2020-10-15T06:10:17.503814Z",
     "shell.execute_reply": "2020-10-15T06:10:17.504602Z"
    },
    "id": "-Uz5n8imBcZR",
    "outputId": "9402ff25-1393-4c28-bcc5-a9e4e24310f7",
    "papermill": {
     "duration": 0.119684,
     "end_time": "2020-10-15T06:10:17.504838",
     "exception": false,
     "start_time": "2020-10-15T06:10:17.385154",
     "status": "completed"
    },
    "tags": []
   },
   "outputs": [
    {
     "name": "stdout",
     "output_type": "stream",
     "text": [
      "Model: \"functional_1\"\n",
      "__________________________________________________________________________________________________\n",
      "Layer (type)                    Output Shape         Param #     Connected to                     \n",
      "==================================================================================================\n",
      "input_1 (InputLayer)            [(None, 224, 224, 3) 0                                            \n",
      "__________________________________________________________________________________________________\n",
      "conv1_pad (ZeroPadding2D)       (None, 230, 230, 3)  0           input_1[0][0]                    \n",
      "__________________________________________________________________________________________________\n",
      "conv1_conv (Conv2D)             (None, 112, 112, 64) 9472        conv1_pad[0][0]                  \n",
      "__________________________________________________________________________________________________\n",
      "conv1_bn (BatchNormalization)   (None, 112, 112, 64) 256         conv1_conv[0][0]                 \n",
      "__________________________________________________________________________________________________\n",
      "conv1_relu (Activation)         (None, 112, 112, 64) 0           conv1_bn[0][0]                   \n",
      "__________________________________________________________________________________________________\n",
      "pool1_pad (ZeroPadding2D)       (None, 114, 114, 64) 0           conv1_relu[0][0]                 \n",
      "__________________________________________________________________________________________________\n",
      "pool1_pool (MaxPooling2D)       (None, 56, 56, 64)   0           pool1_pad[0][0]                  \n",
      "__________________________________________________________________________________________________\n",
      "conv2_block1_1_conv (Conv2D)    (None, 56, 56, 64)   4160        pool1_pool[0][0]                 \n",
      "__________________________________________________________________________________________________\n",
      "conv2_block1_1_bn (BatchNormali (None, 56, 56, 64)   256         conv2_block1_1_conv[0][0]        \n",
      "__________________________________________________________________________________________________\n",
      "conv2_block1_1_relu (Activation (None, 56, 56, 64)   0           conv2_block1_1_bn[0][0]          \n",
      "__________________________________________________________________________________________________\n",
      "conv2_block1_2_conv (Conv2D)    (None, 56, 56, 64)   36928       conv2_block1_1_relu[0][0]        \n",
      "__________________________________________________________________________________________________\n",
      "conv2_block1_2_bn (BatchNormali (None, 56, 56, 64)   256         conv2_block1_2_conv[0][0]        \n",
      "__________________________________________________________________________________________________\n",
      "conv2_block1_2_relu (Activation (None, 56, 56, 64)   0           conv2_block1_2_bn[0][0]          \n",
      "__________________________________________________________________________________________________\n",
      "conv2_block1_0_conv (Conv2D)    (None, 56, 56, 256)  16640       pool1_pool[0][0]                 \n",
      "__________________________________________________________________________________________________\n",
      "conv2_block1_3_conv (Conv2D)    (None, 56, 56, 256)  16640       conv2_block1_2_relu[0][0]        \n",
      "__________________________________________________________________________________________________\n",
      "conv2_block1_0_bn (BatchNormali (None, 56, 56, 256)  1024        conv2_block1_0_conv[0][0]        \n",
      "__________________________________________________________________________________________________\n",
      "conv2_block1_3_bn (BatchNormali (None, 56, 56, 256)  1024        conv2_block1_3_conv[0][0]        \n",
      "__________________________________________________________________________________________________\n",
      "conv2_block1_add (Add)          (None, 56, 56, 256)  0           conv2_block1_0_bn[0][0]          \n",
      "                                                                 conv2_block1_3_bn[0][0]          \n",
      "__________________________________________________________________________________________________\n",
      "conv2_block1_out (Activation)   (None, 56, 56, 256)  0           conv2_block1_add[0][0]           \n",
      "__________________________________________________________________________________________________\n",
      "conv2_block2_1_conv (Conv2D)    (None, 56, 56, 64)   16448       conv2_block1_out[0][0]           \n",
      "__________________________________________________________________________________________________\n",
      "conv2_block2_1_bn (BatchNormali (None, 56, 56, 64)   256         conv2_block2_1_conv[0][0]        \n",
      "__________________________________________________________________________________________________\n",
      "conv2_block2_1_relu (Activation (None, 56, 56, 64)   0           conv2_block2_1_bn[0][0]          \n",
      "__________________________________________________________________________________________________\n",
      "conv2_block2_2_conv (Conv2D)    (None, 56, 56, 64)   36928       conv2_block2_1_relu[0][0]        \n",
      "__________________________________________________________________________________________________\n",
      "conv2_block2_2_bn (BatchNormali (None, 56, 56, 64)   256         conv2_block2_2_conv[0][0]        \n",
      "__________________________________________________________________________________________________\n",
      "conv2_block2_2_relu (Activation (None, 56, 56, 64)   0           conv2_block2_2_bn[0][0]          \n",
      "__________________________________________________________________________________________________\n",
      "conv2_block2_3_conv (Conv2D)    (None, 56, 56, 256)  16640       conv2_block2_2_relu[0][0]        \n",
      "__________________________________________________________________________________________________\n",
      "conv2_block2_3_bn (BatchNormali (None, 56, 56, 256)  1024        conv2_block2_3_conv[0][0]        \n",
      "__________________________________________________________________________________________________\n",
      "conv2_block2_add (Add)          (None, 56, 56, 256)  0           conv2_block1_out[0][0]           \n",
      "                                                                 conv2_block2_3_bn[0][0]          \n",
      "__________________________________________________________________________________________________\n",
      "conv2_block2_out (Activation)   (None, 56, 56, 256)  0           conv2_block2_add[0][0]           \n",
      "__________________________________________________________________________________________________\n",
      "conv2_block3_1_conv (Conv2D)    (None, 56, 56, 64)   16448       conv2_block2_out[0][0]           \n",
      "__________________________________________________________________________________________________\n",
      "conv2_block3_1_bn (BatchNormali (None, 56, 56, 64)   256         conv2_block3_1_conv[0][0]        \n",
      "__________________________________________________________________________________________________\n",
      "conv2_block3_1_relu (Activation (None, 56, 56, 64)   0           conv2_block3_1_bn[0][0]          \n",
      "__________________________________________________________________________________________________\n",
      "conv2_block3_2_conv (Conv2D)    (None, 56, 56, 64)   36928       conv2_block3_1_relu[0][0]        \n",
      "__________________________________________________________________________________________________\n",
      "conv2_block3_2_bn (BatchNormali (None, 56, 56, 64)   256         conv2_block3_2_conv[0][0]        \n",
      "__________________________________________________________________________________________________\n",
      "conv2_block3_2_relu (Activation (None, 56, 56, 64)   0           conv2_block3_2_bn[0][0]          \n",
      "__________________________________________________________________________________________________\n",
      "conv2_block3_3_conv (Conv2D)    (None, 56, 56, 256)  16640       conv2_block3_2_relu[0][0]        \n",
      "__________________________________________________________________________________________________\n",
      "conv2_block3_3_bn (BatchNormali (None, 56, 56, 256)  1024        conv2_block3_3_conv[0][0]        \n",
      "__________________________________________________________________________________________________\n",
      "conv2_block3_add (Add)          (None, 56, 56, 256)  0           conv2_block2_out[0][0]           \n",
      "                                                                 conv2_block3_3_bn[0][0]          \n",
      "__________________________________________________________________________________________________\n",
      "conv2_block3_out (Activation)   (None, 56, 56, 256)  0           conv2_block3_add[0][0]           \n",
      "__________________________________________________________________________________________________\n",
      "conv3_block1_1_conv (Conv2D)    (None, 28, 28, 128)  32896       conv2_block3_out[0][0]           \n",
      "__________________________________________________________________________________________________\n",
      "conv3_block1_1_bn (BatchNormali (None, 28, 28, 128)  512         conv3_block1_1_conv[0][0]        \n",
      "__________________________________________________________________________________________________\n",
      "conv3_block1_1_relu (Activation (None, 28, 28, 128)  0           conv3_block1_1_bn[0][0]          \n",
      "__________________________________________________________________________________________________\n",
      "conv3_block1_2_conv (Conv2D)    (None, 28, 28, 128)  147584      conv3_block1_1_relu[0][0]        \n",
      "__________________________________________________________________________________________________\n",
      "conv3_block1_2_bn (BatchNormali (None, 28, 28, 128)  512         conv3_block1_2_conv[0][0]        \n",
      "__________________________________________________________________________________________________\n",
      "conv3_block1_2_relu (Activation (None, 28, 28, 128)  0           conv3_block1_2_bn[0][0]          \n",
      "__________________________________________________________________________________________________\n",
      "conv3_block1_0_conv (Conv2D)    (None, 28, 28, 512)  131584      conv2_block3_out[0][0]           \n",
      "__________________________________________________________________________________________________\n",
      "conv3_block1_3_conv (Conv2D)    (None, 28, 28, 512)  66048       conv3_block1_2_relu[0][0]        \n",
      "__________________________________________________________________________________________________\n",
      "conv3_block1_0_bn (BatchNormali (None, 28, 28, 512)  2048        conv3_block1_0_conv[0][0]        \n",
      "__________________________________________________________________________________________________\n",
      "conv3_block1_3_bn (BatchNormali (None, 28, 28, 512)  2048        conv3_block1_3_conv[0][0]        \n",
      "__________________________________________________________________________________________________\n",
      "conv3_block1_add (Add)          (None, 28, 28, 512)  0           conv3_block1_0_bn[0][0]          \n",
      "                                                                 conv3_block1_3_bn[0][0]          \n",
      "__________________________________________________________________________________________________\n",
      "conv3_block1_out (Activation)   (None, 28, 28, 512)  0           conv3_block1_add[0][0]           \n",
      "__________________________________________________________________________________________________\n",
      "conv3_block2_1_conv (Conv2D)    (None, 28, 28, 128)  65664       conv3_block1_out[0][0]           \n",
      "__________________________________________________________________________________________________\n",
      "conv3_block2_1_bn (BatchNormali (None, 28, 28, 128)  512         conv3_block2_1_conv[0][0]        \n",
      "__________________________________________________________________________________________________\n",
      "conv3_block2_1_relu (Activation (None, 28, 28, 128)  0           conv3_block2_1_bn[0][0]          \n",
      "__________________________________________________________________________________________________\n",
      "conv3_block2_2_conv (Conv2D)    (None, 28, 28, 128)  147584      conv3_block2_1_relu[0][0]        \n",
      "__________________________________________________________________________________________________\n",
      "conv3_block2_2_bn (BatchNormali (None, 28, 28, 128)  512         conv3_block2_2_conv[0][0]        \n",
      "__________________________________________________________________________________________________\n",
      "conv3_block2_2_relu (Activation (None, 28, 28, 128)  0           conv3_block2_2_bn[0][0]          \n",
      "__________________________________________________________________________________________________\n",
      "conv3_block2_3_conv (Conv2D)    (None, 28, 28, 512)  66048       conv3_block2_2_relu[0][0]        \n",
      "__________________________________________________________________________________________________\n",
      "conv3_block2_3_bn (BatchNormali (None, 28, 28, 512)  2048        conv3_block2_3_conv[0][0]        \n",
      "__________________________________________________________________________________________________\n",
      "conv3_block2_add (Add)          (None, 28, 28, 512)  0           conv3_block1_out[0][0]           \n",
      "                                                                 conv3_block2_3_bn[0][0]          \n",
      "__________________________________________________________________________________________________\n",
      "conv3_block2_out (Activation)   (None, 28, 28, 512)  0           conv3_block2_add[0][0]           \n",
      "__________________________________________________________________________________________________\n",
      "conv3_block3_1_conv (Conv2D)    (None, 28, 28, 128)  65664       conv3_block2_out[0][0]           \n",
      "__________________________________________________________________________________________________\n",
      "conv3_block3_1_bn (BatchNormali (None, 28, 28, 128)  512         conv3_block3_1_conv[0][0]        \n",
      "__________________________________________________________________________________________________\n",
      "conv3_block3_1_relu (Activation (None, 28, 28, 128)  0           conv3_block3_1_bn[0][0]          \n",
      "__________________________________________________________________________________________________\n",
      "conv3_block3_2_conv (Conv2D)    (None, 28, 28, 128)  147584      conv3_block3_1_relu[0][0]        \n",
      "__________________________________________________________________________________________________\n",
      "conv3_block3_2_bn (BatchNormali (None, 28, 28, 128)  512         conv3_block3_2_conv[0][0]        \n",
      "__________________________________________________________________________________________________\n",
      "conv3_block3_2_relu (Activation (None, 28, 28, 128)  0           conv3_block3_2_bn[0][0]          \n",
      "__________________________________________________________________________________________________\n",
      "conv3_block3_3_conv (Conv2D)    (None, 28, 28, 512)  66048       conv3_block3_2_relu[0][0]        \n",
      "__________________________________________________________________________________________________\n",
      "conv3_block3_3_bn (BatchNormali (None, 28, 28, 512)  2048        conv3_block3_3_conv[0][0]        \n",
      "__________________________________________________________________________________________________\n",
      "conv3_block3_add (Add)          (None, 28, 28, 512)  0           conv3_block2_out[0][0]           \n",
      "                                                                 conv3_block3_3_bn[0][0]          \n",
      "__________________________________________________________________________________________________\n",
      "conv3_block3_out (Activation)   (None, 28, 28, 512)  0           conv3_block3_add[0][0]           \n",
      "__________________________________________________________________________________________________\n",
      "conv3_block4_1_conv (Conv2D)    (None, 28, 28, 128)  65664       conv3_block3_out[0][0]           \n",
      "__________________________________________________________________________________________________\n",
      "conv3_block4_1_bn (BatchNormali (None, 28, 28, 128)  512         conv3_block4_1_conv[0][0]        \n",
      "__________________________________________________________________________________________________\n",
      "conv3_block4_1_relu (Activation (None, 28, 28, 128)  0           conv3_block4_1_bn[0][0]          \n",
      "__________________________________________________________________________________________________\n",
      "conv3_block4_2_conv (Conv2D)    (None, 28, 28, 128)  147584      conv3_block4_1_relu[0][0]        \n",
      "__________________________________________________________________________________________________\n",
      "conv3_block4_2_bn (BatchNormali (None, 28, 28, 128)  512         conv3_block4_2_conv[0][0]        \n",
      "__________________________________________________________________________________________________\n",
      "conv3_block4_2_relu (Activation (None, 28, 28, 128)  0           conv3_block4_2_bn[0][0]          \n",
      "__________________________________________________________________________________________________\n",
      "conv3_block4_3_conv (Conv2D)    (None, 28, 28, 512)  66048       conv3_block4_2_relu[0][0]        \n",
      "__________________________________________________________________________________________________\n",
      "conv3_block4_3_bn (BatchNormali (None, 28, 28, 512)  2048        conv3_block4_3_conv[0][0]        \n",
      "__________________________________________________________________________________________________\n",
      "conv3_block4_add (Add)          (None, 28, 28, 512)  0           conv3_block3_out[0][0]           \n",
      "                                                                 conv3_block4_3_bn[0][0]          \n",
      "__________________________________________________________________________________________________\n",
      "conv3_block4_out (Activation)   (None, 28, 28, 512)  0           conv3_block4_add[0][0]           \n",
      "__________________________________________________________________________________________________\n",
      "conv4_block1_1_conv (Conv2D)    (None, 14, 14, 256)  131328      conv3_block4_out[0][0]           \n",
      "__________________________________________________________________________________________________\n",
      "conv4_block1_1_bn (BatchNormali (None, 14, 14, 256)  1024        conv4_block1_1_conv[0][0]        \n",
      "__________________________________________________________________________________________________\n",
      "conv4_block1_1_relu (Activation (None, 14, 14, 256)  0           conv4_block1_1_bn[0][0]          \n",
      "__________________________________________________________________________________________________\n",
      "conv4_block1_2_conv (Conv2D)    (None, 14, 14, 256)  590080      conv4_block1_1_relu[0][0]        \n",
      "__________________________________________________________________________________________________\n",
      "conv4_block1_2_bn (BatchNormali (None, 14, 14, 256)  1024        conv4_block1_2_conv[0][0]        \n",
      "__________________________________________________________________________________________________\n",
      "conv4_block1_2_relu (Activation (None, 14, 14, 256)  0           conv4_block1_2_bn[0][0]          \n",
      "__________________________________________________________________________________________________\n",
      "conv4_block1_0_conv (Conv2D)    (None, 14, 14, 1024) 525312      conv3_block4_out[0][0]           \n",
      "__________________________________________________________________________________________________\n",
      "conv4_block1_3_conv (Conv2D)    (None, 14, 14, 1024) 263168      conv4_block1_2_relu[0][0]        \n",
      "__________________________________________________________________________________________________\n",
      "conv4_block1_0_bn (BatchNormali (None, 14, 14, 1024) 4096        conv4_block1_0_conv[0][0]        \n",
      "__________________________________________________________________________________________________\n",
      "conv4_block1_3_bn (BatchNormali (None, 14, 14, 1024) 4096        conv4_block1_3_conv[0][0]        \n",
      "__________________________________________________________________________________________________\n",
      "conv4_block1_add (Add)          (None, 14, 14, 1024) 0           conv4_block1_0_bn[0][0]          \n",
      "                                                                 conv4_block1_3_bn[0][0]          \n",
      "__________________________________________________________________________________________________\n",
      "conv4_block1_out (Activation)   (None, 14, 14, 1024) 0           conv4_block1_add[0][0]           \n",
      "__________________________________________________________________________________________________\n",
      "conv4_block2_1_conv (Conv2D)    (None, 14, 14, 256)  262400      conv4_block1_out[0][0]           \n",
      "__________________________________________________________________________________________________\n",
      "conv4_block2_1_bn (BatchNormali (None, 14, 14, 256)  1024        conv4_block2_1_conv[0][0]        \n",
      "__________________________________________________________________________________________________\n",
      "conv4_block2_1_relu (Activation (None, 14, 14, 256)  0           conv4_block2_1_bn[0][0]          \n",
      "__________________________________________________________________________________________________\n",
      "conv4_block2_2_conv (Conv2D)    (None, 14, 14, 256)  590080      conv4_block2_1_relu[0][0]        \n",
      "__________________________________________________________________________________________________\n",
      "conv4_block2_2_bn (BatchNormali (None, 14, 14, 256)  1024        conv4_block2_2_conv[0][0]        \n",
      "__________________________________________________________________________________________________\n",
      "conv4_block2_2_relu (Activation (None, 14, 14, 256)  0           conv4_block2_2_bn[0][0]          \n",
      "__________________________________________________________________________________________________\n",
      "conv4_block2_3_conv (Conv2D)    (None, 14, 14, 1024) 263168      conv4_block2_2_relu[0][0]        \n",
      "__________________________________________________________________________________________________\n",
      "conv4_block2_3_bn (BatchNormali (None, 14, 14, 1024) 4096        conv4_block2_3_conv[0][0]        \n",
      "__________________________________________________________________________________________________\n",
      "conv4_block2_add (Add)          (None, 14, 14, 1024) 0           conv4_block1_out[0][0]           \n",
      "                                                                 conv4_block2_3_bn[0][0]          \n",
      "__________________________________________________________________________________________________\n",
      "conv4_block2_out (Activation)   (None, 14, 14, 1024) 0           conv4_block2_add[0][0]           \n",
      "__________________________________________________________________________________________________\n",
      "conv4_block3_1_conv (Conv2D)    (None, 14, 14, 256)  262400      conv4_block2_out[0][0]           \n",
      "__________________________________________________________________________________________________\n",
      "conv4_block3_1_bn (BatchNormali (None, 14, 14, 256)  1024        conv4_block3_1_conv[0][0]        \n",
      "__________________________________________________________________________________________________\n",
      "conv4_block3_1_relu (Activation (None, 14, 14, 256)  0           conv4_block3_1_bn[0][0]          \n",
      "__________________________________________________________________________________________________\n",
      "conv4_block3_2_conv (Conv2D)    (None, 14, 14, 256)  590080      conv4_block3_1_relu[0][0]        \n",
      "__________________________________________________________________________________________________\n",
      "conv4_block3_2_bn (BatchNormali (None, 14, 14, 256)  1024        conv4_block3_2_conv[0][0]        \n",
      "__________________________________________________________________________________________________\n",
      "conv4_block3_2_relu (Activation (None, 14, 14, 256)  0           conv4_block3_2_bn[0][0]          \n",
      "__________________________________________________________________________________________________\n",
      "conv4_block3_3_conv (Conv2D)    (None, 14, 14, 1024) 263168      conv4_block3_2_relu[0][0]        \n",
      "__________________________________________________________________________________________________\n",
      "conv4_block3_3_bn (BatchNormali (None, 14, 14, 1024) 4096        conv4_block3_3_conv[0][0]        \n",
      "__________________________________________________________________________________________________\n",
      "conv4_block3_add (Add)          (None, 14, 14, 1024) 0           conv4_block2_out[0][0]           \n",
      "                                                                 conv4_block3_3_bn[0][0]          \n",
      "__________________________________________________________________________________________________\n",
      "conv4_block3_out (Activation)   (None, 14, 14, 1024) 0           conv4_block3_add[0][0]           \n",
      "__________________________________________________________________________________________________\n",
      "conv4_block4_1_conv (Conv2D)    (None, 14, 14, 256)  262400      conv4_block3_out[0][0]           \n",
      "__________________________________________________________________________________________________\n",
      "conv4_block4_1_bn (BatchNormali (None, 14, 14, 256)  1024        conv4_block4_1_conv[0][0]        \n",
      "__________________________________________________________________________________________________\n",
      "conv4_block4_1_relu (Activation (None, 14, 14, 256)  0           conv4_block4_1_bn[0][0]          \n",
      "__________________________________________________________________________________________________\n",
      "conv4_block4_2_conv (Conv2D)    (None, 14, 14, 256)  590080      conv4_block4_1_relu[0][0]        \n",
      "__________________________________________________________________________________________________\n",
      "conv4_block4_2_bn (BatchNormali (None, 14, 14, 256)  1024        conv4_block4_2_conv[0][0]        \n",
      "__________________________________________________________________________________________________\n",
      "conv4_block4_2_relu (Activation (None, 14, 14, 256)  0           conv4_block4_2_bn[0][0]          \n",
      "__________________________________________________________________________________________________\n",
      "conv4_block4_3_conv (Conv2D)    (None, 14, 14, 1024) 263168      conv4_block4_2_relu[0][0]        \n",
      "__________________________________________________________________________________________________\n",
      "conv4_block4_3_bn (BatchNormali (None, 14, 14, 1024) 4096        conv4_block4_3_conv[0][0]        \n",
      "__________________________________________________________________________________________________\n",
      "conv4_block4_add (Add)          (None, 14, 14, 1024) 0           conv4_block3_out[0][0]           \n",
      "                                                                 conv4_block4_3_bn[0][0]          \n",
      "__________________________________________________________________________________________________\n",
      "conv4_block4_out (Activation)   (None, 14, 14, 1024) 0           conv4_block4_add[0][0]           \n",
      "__________________________________________________________________________________________________\n",
      "conv4_block5_1_conv (Conv2D)    (None, 14, 14, 256)  262400      conv4_block4_out[0][0]           \n",
      "__________________________________________________________________________________________________\n",
      "conv4_block5_1_bn (BatchNormali (None, 14, 14, 256)  1024        conv4_block5_1_conv[0][0]        \n",
      "__________________________________________________________________________________________________\n",
      "conv4_block5_1_relu (Activation (None, 14, 14, 256)  0           conv4_block5_1_bn[0][0]          \n",
      "__________________________________________________________________________________________________\n",
      "conv4_block5_2_conv (Conv2D)    (None, 14, 14, 256)  590080      conv4_block5_1_relu[0][0]        \n",
      "__________________________________________________________________________________________________\n",
      "conv4_block5_2_bn (BatchNormali (None, 14, 14, 256)  1024        conv4_block5_2_conv[0][0]        \n",
      "__________________________________________________________________________________________________\n",
      "conv4_block5_2_relu (Activation (None, 14, 14, 256)  0           conv4_block5_2_bn[0][0]          \n",
      "__________________________________________________________________________________________________\n",
      "conv4_block5_3_conv (Conv2D)    (None, 14, 14, 1024) 263168      conv4_block5_2_relu[0][0]        \n",
      "__________________________________________________________________________________________________\n",
      "conv4_block5_3_bn (BatchNormali (None, 14, 14, 1024) 4096        conv4_block5_3_conv[0][0]        \n",
      "__________________________________________________________________________________________________\n",
      "conv4_block5_add (Add)          (None, 14, 14, 1024) 0           conv4_block4_out[0][0]           \n",
      "                                                                 conv4_block5_3_bn[0][0]          \n",
      "__________________________________________________________________________________________________\n",
      "conv4_block5_out (Activation)   (None, 14, 14, 1024) 0           conv4_block5_add[0][0]           \n",
      "__________________________________________________________________________________________________\n",
      "conv4_block6_1_conv (Conv2D)    (None, 14, 14, 256)  262400      conv4_block5_out[0][0]           \n",
      "__________________________________________________________________________________________________\n",
      "conv4_block6_1_bn (BatchNormali (None, 14, 14, 256)  1024        conv4_block6_1_conv[0][0]        \n",
      "__________________________________________________________________________________________________\n",
      "conv4_block6_1_relu (Activation (None, 14, 14, 256)  0           conv4_block6_1_bn[0][0]          \n",
      "__________________________________________________________________________________________________\n",
      "conv4_block6_2_conv (Conv2D)    (None, 14, 14, 256)  590080      conv4_block6_1_relu[0][0]        \n",
      "__________________________________________________________________________________________________\n",
      "conv4_block6_2_bn (BatchNormali (None, 14, 14, 256)  1024        conv4_block6_2_conv[0][0]        \n",
      "__________________________________________________________________________________________________\n",
      "conv4_block6_2_relu (Activation (None, 14, 14, 256)  0           conv4_block6_2_bn[0][0]          \n",
      "__________________________________________________________________________________________________\n",
      "conv4_block6_3_conv (Conv2D)    (None, 14, 14, 1024) 263168      conv4_block6_2_relu[0][0]        \n",
      "__________________________________________________________________________________________________\n",
      "conv4_block6_3_bn (BatchNormali (None, 14, 14, 1024) 4096        conv4_block6_3_conv[0][0]        \n",
      "__________________________________________________________________________________________________\n",
      "conv4_block6_add (Add)          (None, 14, 14, 1024) 0           conv4_block5_out[0][0]           \n",
      "                                                                 conv4_block6_3_bn[0][0]          \n",
      "__________________________________________________________________________________________________\n",
      "conv4_block6_out (Activation)   (None, 14, 14, 1024) 0           conv4_block6_add[0][0]           \n",
      "__________________________________________________________________________________________________\n",
      "conv5_block1_1_conv (Conv2D)    (None, 7, 7, 512)    524800      conv4_block6_out[0][0]           \n",
      "__________________________________________________________________________________________________\n",
      "conv5_block1_1_bn (BatchNormali (None, 7, 7, 512)    2048        conv5_block1_1_conv[0][0]        \n",
      "__________________________________________________________________________________________________\n",
      "conv5_block1_1_relu (Activation (None, 7, 7, 512)    0           conv5_block1_1_bn[0][0]          \n",
      "__________________________________________________________________________________________________\n",
      "conv5_block1_2_conv (Conv2D)    (None, 7, 7, 512)    2359808     conv5_block1_1_relu[0][0]        \n",
      "__________________________________________________________________________________________________\n",
      "conv5_block1_2_bn (BatchNormali (None, 7, 7, 512)    2048        conv5_block1_2_conv[0][0]        \n",
      "__________________________________________________________________________________________________\n",
      "conv5_block1_2_relu (Activation (None, 7, 7, 512)    0           conv5_block1_2_bn[0][0]          \n",
      "__________________________________________________________________________________________________\n",
      "conv5_block1_0_conv (Conv2D)    (None, 7, 7, 2048)   2099200     conv4_block6_out[0][0]           \n",
      "__________________________________________________________________________________________________\n",
      "conv5_block1_3_conv (Conv2D)    (None, 7, 7, 2048)   1050624     conv5_block1_2_relu[0][0]        \n",
      "__________________________________________________________________________________________________\n",
      "conv5_block1_0_bn (BatchNormali (None, 7, 7, 2048)   8192        conv5_block1_0_conv[0][0]        \n",
      "__________________________________________________________________________________________________\n",
      "conv5_block1_3_bn (BatchNormali (None, 7, 7, 2048)   8192        conv5_block1_3_conv[0][0]        \n",
      "__________________________________________________________________________________________________\n",
      "conv5_block1_add (Add)          (None, 7, 7, 2048)   0           conv5_block1_0_bn[0][0]          \n",
      "                                                                 conv5_block1_3_bn[0][0]          \n",
      "__________________________________________________________________________________________________\n",
      "conv5_block1_out (Activation)   (None, 7, 7, 2048)   0           conv5_block1_add[0][0]           \n",
      "__________________________________________________________________________________________________\n",
      "conv5_block2_1_conv (Conv2D)    (None, 7, 7, 512)    1049088     conv5_block1_out[0][0]           \n",
      "__________________________________________________________________________________________________\n",
      "conv5_block2_1_bn (BatchNormali (None, 7, 7, 512)    2048        conv5_block2_1_conv[0][0]        \n",
      "__________________________________________________________________________________________________\n",
      "conv5_block2_1_relu (Activation (None, 7, 7, 512)    0           conv5_block2_1_bn[0][0]          \n",
      "__________________________________________________________________________________________________\n",
      "conv5_block2_2_conv (Conv2D)    (None, 7, 7, 512)    2359808     conv5_block2_1_relu[0][0]        \n",
      "__________________________________________________________________________________________________\n",
      "conv5_block2_2_bn (BatchNormali (None, 7, 7, 512)    2048        conv5_block2_2_conv[0][0]        \n",
      "__________________________________________________________________________________________________\n",
      "conv5_block2_2_relu (Activation (None, 7, 7, 512)    0           conv5_block2_2_bn[0][0]          \n",
      "__________________________________________________________________________________________________\n",
      "conv5_block2_3_conv (Conv2D)    (None, 7, 7, 2048)   1050624     conv5_block2_2_relu[0][0]        \n",
      "__________________________________________________________________________________________________\n",
      "conv5_block2_3_bn (BatchNormali (None, 7, 7, 2048)   8192        conv5_block2_3_conv[0][0]        \n",
      "__________________________________________________________________________________________________\n",
      "conv5_block2_add (Add)          (None, 7, 7, 2048)   0           conv5_block1_out[0][0]           \n",
      "                                                                 conv5_block2_3_bn[0][0]          \n",
      "__________________________________________________________________________________________________\n",
      "conv5_block2_out (Activation)   (None, 7, 7, 2048)   0           conv5_block2_add[0][0]           \n",
      "__________________________________________________________________________________________________\n",
      "conv5_block3_1_conv (Conv2D)    (None, 7, 7, 512)    1049088     conv5_block2_out[0][0]           \n",
      "__________________________________________________________________________________________________\n",
      "conv5_block3_1_bn (BatchNormali (None, 7, 7, 512)    2048        conv5_block3_1_conv[0][0]        \n",
      "__________________________________________________________________________________________________\n",
      "conv5_block3_1_relu (Activation (None, 7, 7, 512)    0           conv5_block3_1_bn[0][0]          \n",
      "__________________________________________________________________________________________________\n",
      "conv5_block3_2_conv (Conv2D)    (None, 7, 7, 512)    2359808     conv5_block3_1_relu[0][0]        \n",
      "__________________________________________________________________________________________________\n",
      "conv5_block3_2_bn (BatchNormali (None, 7, 7, 512)    2048        conv5_block3_2_conv[0][0]        \n",
      "__________________________________________________________________________________________________\n",
      "conv5_block3_2_relu (Activation (None, 7, 7, 512)    0           conv5_block3_2_bn[0][0]          \n",
      "__________________________________________________________________________________________________\n",
      "conv5_block3_3_conv (Conv2D)    (None, 7, 7, 2048)   1050624     conv5_block3_2_relu[0][0]        \n",
      "__________________________________________________________________________________________________\n",
      "conv5_block3_3_bn (BatchNormali (None, 7, 7, 2048)   8192        conv5_block3_3_conv[0][0]        \n",
      "__________________________________________________________________________________________________\n",
      "conv5_block3_add (Add)          (None, 7, 7, 2048)   0           conv5_block2_out[0][0]           \n",
      "                                                                 conv5_block3_3_bn[0][0]          \n",
      "__________________________________________________________________________________________________\n",
      "conv5_block3_out (Activation)   (None, 7, 7, 2048)   0           conv5_block3_add[0][0]           \n",
      "__________________________________________________________________________________________________\n",
      "global_average_pooling2d (Globa (None, 2048)         0           conv5_block3_out[0][0]           \n",
      "__________________________________________________________________________________________________\n",
      "flatten (Flatten)               (None, 100352)       0           conv5_block3_out[0][0]           \n",
      "__________________________________________________________________________________________________\n",
      "concatenate (Concatenate)       (None, 102400)       0           global_average_pooling2d[0][0]   \n",
      "                                                                 flatten[0][0]                    \n",
      "__________________________________________________________________________________________________\n",
      "dense (Dense)                   (None, 512)          52429312    concatenate[0][0]                \n",
      "__________________________________________________________________________________________________\n",
      "batch_normalization (BatchNorma (None, 512)          2048        dense[0][0]                      \n",
      "__________________________________________________________________________________________________\n",
      "dense_1 (Dense)                 (None, 512)          262656      batch_normalization[0][0]        \n",
      "__________________________________________________________________________________________________\n",
      "batch_normalization_1 (BatchNor (None, 512)          2048        dense_1[0][0]                    \n",
      "__________________________________________________________________________________________________\n",
      "dense_2 (Dense)                 (None, 5)            2565        batch_normalization_1[0][0]      \n",
      "==================================================================================================\n",
      "Total params: 76,286,341\n",
      "Trainable params: 52,696,581\n",
      "Non-trainable params: 23,589,760\n",
      "__________________________________________________________________________________________________\n"
     ]
    }
   ],
   "source": [
    "model.compile(optimizer=adam,\n",
    "              \n",
    "                  loss='categorical_crossentropy',\n",
    "                  metrics=[keras.metrics.categorical_accuracy])\n",
    "model.summary()"
   ]
  },
  {
   "cell_type": "code",
   "execution_count": 21,
   "metadata": {
    "execution": {
     "iopub.execute_input": "2020-10-15T06:10:17.627867Z",
     "iopub.status.busy": "2020-10-15T06:10:17.604079Z",
     "iopub.status.idle": "2020-10-15T06:10:28.254717Z",
     "shell.execute_reply": "2020-10-15T06:10:28.255212Z"
    },
    "id": "Ph5LYXqbFKzw",
    "outputId": "d23d1d9d-7cb8-4a59-ed10-a7c7bdea3967",
    "papermill": {
     "duration": 10.694653,
     "end_time": "2020-10-15T06:10:28.255381",
     "exception": false,
     "start_time": "2020-10-15T06:10:17.560728",
     "status": "completed"
    },
    "tags": []
   },
   "outputs": [
    {
     "name": "stdout",
     "output_type": "stream",
     "text": [
      "Collecting ipython-autotime\r\n",
      "  Downloading ipython_autotime-0.2.0-py2.py3-none-any.whl (6.6 kB)\r\n",
      "Requirement already satisfied: ipython in /opt/conda/lib/python3.7/site-packages (from ipython-autotime) (7.13.0)\r\n",
      "Requirement already satisfied: jedi>=0.10 in /opt/conda/lib/python3.7/site-packages (from ipython->ipython-autotime) (0.15.2)\r\n",
      "Requirement already satisfied: traitlets>=4.2 in /opt/conda/lib/python3.7/site-packages (from ipython->ipython-autotime) (4.3.3)\r\n",
      "Requirement already satisfied: pygments in /opt/conda/lib/python3.7/site-packages (from ipython->ipython-autotime) (2.6.1)\r\n",
      "Requirement already satisfied: prompt-toolkit!=3.0.0,!=3.0.1,<3.1.0,>=2.0.0 in /opt/conda/lib/python3.7/site-packages (from ipython->ipython-autotime) (3.0.5)\r\n",
      "Requirement already satisfied: backcall in /opt/conda/lib/python3.7/site-packages (from ipython->ipython-autotime) (0.1.0)\r\n",
      "Requirement already satisfied: setuptools>=18.5 in /opt/conda/lib/python3.7/site-packages (from ipython->ipython-autotime) (46.1.3.post20200325)\r\n",
      "Requirement already satisfied: pickleshare in /opt/conda/lib/python3.7/site-packages (from ipython->ipython-autotime) (0.7.5)\r\n",
      "Requirement already satisfied: decorator in /opt/conda/lib/python3.7/site-packages (from ipython->ipython-autotime) (4.4.2)\r\n",
      "Requirement already satisfied: pexpect; sys_platform != \"win32\" in /opt/conda/lib/python3.7/site-packages (from ipython->ipython-autotime) (4.8.0)\r\n",
      "Requirement already satisfied: parso>=0.5.2 in /opt/conda/lib/python3.7/site-packages (from jedi>=0.10->ipython->ipython-autotime) (0.5.2)\r\n",
      "Requirement already satisfied: six in /opt/conda/lib/python3.7/site-packages (from traitlets>=4.2->ipython->ipython-autotime) (1.14.0)\r\n",
      "Requirement already satisfied: ipython-genutils in /opt/conda/lib/python3.7/site-packages (from traitlets>=4.2->ipython->ipython-autotime) (0.2.0)\r\n",
      "Requirement already satisfied: wcwidth in /opt/conda/lib/python3.7/site-packages (from prompt-toolkit!=3.0.0,!=3.0.1,<3.1.0,>=2.0.0->ipython->ipython-autotime) (0.1.9)\r\n",
      "Requirement already satisfied: ptyprocess>=0.5 in /opt/conda/lib/python3.7/site-packages (from pexpect; sys_platform != \"win32\"->ipython->ipython-autotime) (0.6.0)\r\n",
      "Installing collected packages: ipython-autotime\r\n",
      "Successfully installed ipython-autotime-0.2.0\r\n",
      "time: 650 µs\n"
     ]
    }
   ],
   "source": [
    "!pip install ipython-autotime\n",
    " \n",
    "%load_ext autotime"
   ]
  },
  {
   "cell_type": "code",
   "execution_count": 22,
   "metadata": {
    "execution": {
     "iopub.execute_input": "2020-10-15T06:10:28.354078Z",
     "iopub.status.busy": "2020-10-15T06:10:28.353438Z",
     "iopub.status.idle": "2020-10-15T12:08:29.052488Z",
     "shell.execute_reply": "2020-10-15T12:08:29.051891Z"
    },
    "id": "0C2mh9zbFPKW",
    "outputId": "dd8a5198-4d35-41b6-fd26-c1c7d4578bf5",
    "papermill": {
     "duration": 21480.753414,
     "end_time": "2020-10-15T12:08:29.052604",
     "exception": false,
     "start_time": "2020-10-15T06:10:28.299190",
     "status": "completed"
    },
    "tags": []
   },
   "outputs": [
    {
     "name": "stderr",
     "output_type": "stream",
     "text": [
      "/opt/conda/lib/python3.7/site-packages/imgaug/imgaug.py:184: DeprecationWarning: Function `SimplexNoiseAlpha()` is deprecated. Use `BlendAlphaSimplexNoise` instead. SimplexNoiseAlpha is deprecated. Use BlendAlphaSimplexNoise instead. The order of parameters is the same. Parameter 'first' was renamed to 'foreground'. Parameter 'second' was renamed to 'background'.\n",
      "  warn_deprecated(msg, stacklevel=3)\n",
      "/opt/conda/lib/python3.7/site-packages/imgaug/imgaug.py:184: DeprecationWarning: Function `ContrastNormalization()` is deprecated. Use `imgaug.contrast.LinearContrast` instead.\n",
      "  warn_deprecated(msg, stacklevel=3)\n",
      "/opt/conda/lib/python3.7/site-packages/imgaug/imgaug.py:184: DeprecationWarning: Function `FrequencyNoiseAlpha()` is deprecated. Use `BlendAlphaFrequencyNoise` instead. FrequencyNoiseAlpha is deprecated. Use BlendAlphaFrequencyNoise instead. The order of parameters is the same. Parameter 'first' was renamed to 'foreground'. Parameter 'second' was renamed to 'background'.\n",
      "  warn_deprecated(msg, stacklevel=3)\n"
     ]
    },
    {
     "name": "stdout",
     "output_type": "stream",
     "text": [
      "Epoch 1/50\n",
      "546/546 [==============================] - 481s 881ms/step - loss: 0.4297 - categorical_accuracy: 0.8480 - val_loss: 0.0588 - val_categorical_accuracy: 0.9768\n",
      "Epoch 2/50\n",
      "546/546 [==============================] - 419s 767ms/step - loss: 0.2522 - categorical_accuracy: 0.9018 - val_loss: 0.0472 - val_categorical_accuracy: 0.9834\n",
      "Epoch 3/50\n",
      "546/546 [==============================] - 417s 763ms/step - loss: 0.2127 - categorical_accuracy: 0.9174 - val_loss: 0.0390 - val_categorical_accuracy: 0.9861\n",
      "Epoch 4/50\n",
      "546/546 [==============================] - 420s 770ms/step - loss: 0.2003 - categorical_accuracy: 0.9210 - val_loss: 0.0244 - val_categorical_accuracy: 0.9912\n",
      "Epoch 5/50\n",
      "546/546 [==============================] - 420s 770ms/step - loss: 0.1872 - categorical_accuracy: 0.9262 - val_loss: 0.0240 - val_categorical_accuracy: 0.9912\n",
      "Epoch 6/50\n",
      "546/546 [==============================] - 419s 767ms/step - loss: 0.1688 - categorical_accuracy: 0.9355 - val_loss: 0.0261 - val_categorical_accuracy: 0.9920\n",
      "Epoch 7/50\n",
      "546/546 [==============================] - 421s 772ms/step - loss: 0.1582 - categorical_accuracy: 0.9371 - val_loss: 0.0161 - val_categorical_accuracy: 0.9941\n",
      "Epoch 8/50\n",
      "546/546 [==============================] - 423s 775ms/step - loss: 0.1491 - categorical_accuracy: 0.9423 - val_loss: 0.0317 - val_categorical_accuracy: 0.9872\n",
      "Epoch 9/50\n",
      "546/546 [==============================] - 423s 774ms/step - loss: 0.1471 - categorical_accuracy: 0.9433 - val_loss: 0.0258 - val_categorical_accuracy: 0.9909\n",
      "Epoch 10/50\n",
      "546/546 [==============================] - 423s 775ms/step - loss: 0.1431 - categorical_accuracy: 0.9426 - val_loss: 0.0214 - val_categorical_accuracy: 0.9925\n",
      "Epoch 11/50\n",
      "546/546 [==============================] - 424s 776ms/step - loss: 0.1371 - categorical_accuracy: 0.9461 - val_loss: 0.0181 - val_categorical_accuracy: 0.9944\n",
      "Epoch 12/50\n",
      "546/546 [==============================] - 418s 765ms/step - loss: 0.1318 - categorical_accuracy: 0.9483 - val_loss: 0.0183 - val_categorical_accuracy: 0.9947\n",
      "Epoch 13/50\n",
      "546/546 [==============================] - 419s 767ms/step - loss: 0.1290 - categorical_accuracy: 0.9486 - val_loss: 0.0304 - val_categorical_accuracy: 0.9880\n",
      "Epoch 14/50\n",
      "546/546 [==============================] - 422s 772ms/step - loss: 0.1298 - categorical_accuracy: 0.9499 - val_loss: 0.0112 - val_categorical_accuracy: 0.9979\n",
      "Epoch 15/50\n",
      "546/546 [==============================] - 421s 770ms/step - loss: 0.1188 - categorical_accuracy: 0.9545 - val_loss: 0.0073 - val_categorical_accuracy: 0.9979\n",
      "Epoch 16/50\n",
      "546/546 [==============================] - 420s 769ms/step - loss: 0.1160 - categorical_accuracy: 0.9553 - val_loss: 0.0108 - val_categorical_accuracy: 0.9973\n",
      "Epoch 17/50\n",
      "546/546 [==============================] - 425s 778ms/step - loss: 0.1146 - categorical_accuracy: 0.9560 - val_loss: 0.0101 - val_categorical_accuracy: 0.9968\n",
      "Epoch 18/50\n",
      "546/546 [==============================] - 420s 769ms/step - loss: 0.1157 - categorical_accuracy: 0.9549 - val_loss: 0.0083 - val_categorical_accuracy: 0.9981\n",
      "Epoch 19/50\n",
      "546/546 [==============================] - 424s 776ms/step - loss: 0.1130 - categorical_accuracy: 0.9547 - val_loss: 0.0054 - val_categorical_accuracy: 0.9981\n",
      "Epoch 20/50\n",
      "546/546 [==============================] - 436s 798ms/step - loss: 0.1061 - categorical_accuracy: 0.9594 - val_loss: 0.0062 - val_categorical_accuracy: 0.9984\n",
      "Epoch 21/50\n",
      "546/546 [==============================] - 428s 783ms/step - loss: 0.1038 - categorical_accuracy: 0.9589 - val_loss: 0.0061 - val_categorical_accuracy: 0.9989\n",
      "Epoch 22/50\n",
      "546/546 [==============================] - 430s 787ms/step - loss: 0.1050 - categorical_accuracy: 0.9598 - val_loss: 0.0063 - val_categorical_accuracy: 0.9984\n",
      "Epoch 23/50\n",
      "546/546 [==============================] - 430s 788ms/step - loss: 0.1040 - categorical_accuracy: 0.9585 - val_loss: 0.0045 - val_categorical_accuracy: 0.9987\n",
      "Epoch 24/50\n",
      "546/546 [==============================] - 426s 781ms/step - loss: 0.1010 - categorical_accuracy: 0.9598 - val_loss: 0.0066 - val_categorical_accuracy: 0.9987\n",
      "Epoch 25/50\n",
      "546/546 [==============================] - 426s 781ms/step - loss: 0.1032 - categorical_accuracy: 0.9595 - val_loss: 0.0042 - val_categorical_accuracy: 0.9987\n",
      "Epoch 26/50\n",
      "546/546 [==============================] - 431s 789ms/step - loss: 0.0965 - categorical_accuracy: 0.9610 - val_loss: 0.0028 - val_categorical_accuracy: 0.9995\n",
      "Epoch 27/50\n",
      "546/546 [==============================] - 433s 793ms/step - loss: 0.0982 - categorical_accuracy: 0.9614 - val_loss: 0.0033 - val_categorical_accuracy: 0.9989\n",
      "Epoch 28/50\n",
      "546/546 [==============================] - 428s 783ms/step - loss: 0.0935 - categorical_accuracy: 0.9635 - val_loss: 0.0029 - val_categorical_accuracy: 0.9995\n",
      "Epoch 29/50\n",
      "546/546 [==============================] - 430s 788ms/step - loss: 0.0926 - categorical_accuracy: 0.9634 - val_loss: 0.0029 - val_categorical_accuracy: 0.9995\n",
      "Epoch 30/50\n",
      "546/546 [==============================] - 431s 789ms/step - loss: 0.0947 - categorical_accuracy: 0.9635 - val_loss: 0.0022 - val_categorical_accuracy: 0.9992\n",
      "Epoch 31/50\n",
      "546/546 [==============================] - 431s 790ms/step - loss: 0.0954 - categorical_accuracy: 0.9636 - val_loss: 0.0026 - val_categorical_accuracy: 0.9989\n",
      "Epoch 32/50\n",
      "546/546 [==============================] - 439s 803ms/step - loss: 0.0913 - categorical_accuracy: 0.9655 - val_loss: 0.0025 - val_categorical_accuracy: 0.9995\n",
      "Epoch 33/50\n",
      "546/546 [==============================] - 436s 799ms/step - loss: 0.0852 - categorical_accuracy: 0.9666 - val_loss: 0.0018 - val_categorical_accuracy: 0.9995\n",
      "Epoch 34/50\n",
      "546/546 [==============================] - 432s 791ms/step - loss: 0.0892 - categorical_accuracy: 0.9649 - val_loss: 0.0018 - val_categorical_accuracy: 0.9997\n",
      "Epoch 35/50\n",
      "546/546 [==============================] - 453s 829ms/step - loss: 0.0928 - categorical_accuracy: 0.9634 - val_loss: 0.0022 - val_categorical_accuracy: 1.0000\n",
      "Epoch 36/50\n",
      "546/546 [==============================] - 426s 781ms/step - loss: 0.0882 - categorical_accuracy: 0.9656 - val_loss: 0.0019 - val_categorical_accuracy: 0.9992\n",
      "Epoch 37/50\n",
      "546/546 [==============================] - 439s 804ms/step - loss: 0.0890 - categorical_accuracy: 0.9644 - val_loss: 0.0015 - val_categorical_accuracy: 0.9997\n",
      "Epoch 38/50\n",
      "546/546 [==============================] - 435s 796ms/step - loss: 0.0849 - categorical_accuracy: 0.9681 - val_loss: 0.0016 - val_categorical_accuracy: 1.0000\n",
      "Epoch 39/50\n",
      "546/546 [==============================] - 441s 808ms/step - loss: 0.0843 - categorical_accuracy: 0.9673 - val_loss: 0.0015 - val_categorical_accuracy: 0.9997\n",
      "Epoch 40/50\n",
      "546/546 [==============================] - 434s 794ms/step - loss: 0.0825 - categorical_accuracy: 0.9671 - val_loss: 0.0015 - val_categorical_accuracy: 1.0000\n",
      "Epoch 41/50\n",
      "546/546 [==============================] - 433s 793ms/step - loss: 0.0856 - categorical_accuracy: 0.9674 - val_loss: 0.0018 - val_categorical_accuracy: 0.9995\n",
      "Epoch 42/50\n",
      "546/546 [==============================] - 442s 810ms/step - loss: 0.0791 - categorical_accuracy: 0.9680 - val_loss: 0.0024 - val_categorical_accuracy: 0.9992\n",
      "Epoch 43/50\n",
      "546/546 [==============================] - 436s 799ms/step - loss: 0.0863 - categorical_accuracy: 0.9671 - val_loss: 0.0017 - val_categorical_accuracy: 0.9995\n",
      "Epoch 44/50\n",
      "546/546 [==============================] - 431s 789ms/step - loss: 0.0868 - categorical_accuracy: 0.9679 - val_loss: 0.0019 - val_categorical_accuracy: 0.9995\n",
      "Epoch 45/50\n",
      "546/546 [==============================] - 428s 784ms/step - loss: 0.0788 - categorical_accuracy: 0.9705 - val_loss: 0.0020 - val_categorical_accuracy: 0.9992\n",
      "Epoch 46/50\n",
      "546/546 [==============================] - 448s 821ms/step - loss: 0.0758 - categorical_accuracy: 0.9703 - val_loss: 0.0017 - val_categorical_accuracy: 0.9997\n",
      "Epoch 47/50\n",
      "546/546 [==============================] - 434s 795ms/step - loss: 0.0778 - categorical_accuracy: 0.9688 - val_loss: 0.0021 - val_categorical_accuracy: 0.9992\n",
      "Epoch 48/50\n",
      "546/546 [==============================] - 418s 766ms/step - loss: 0.0825 - categorical_accuracy: 0.9666 - val_loss: 0.0025 - val_categorical_accuracy: 0.9992\n",
      "Epoch 49/50\n",
      "546/546 [==============================] - 417s 763ms/step - loss: 0.0750 - categorical_accuracy: 0.9711 - val_loss: 0.0020 - val_categorical_accuracy: 0.9997\n",
      "Epoch 50/50\n",
      "546/546 [==============================] - 419s 767ms/step - loss: 0.0771 - categorical_accuracy: 0.9682 - val_loss: 0.0020 - val_categorical_accuracy: 0.9997\n",
      "time: 5h 57min 49s\n"
     ]
    }
   ],
   "source": [
    "batch_size=32\n",
    "history = model.fit_generator(\n",
    "    data_gen(X_train, target_label_map, batch_size, augment=True),\n",
    "    validation_data=data_gen(X_valid, target_label_map, batch_size),\n",
    "    epochs=50, \n",
    "    verbose = 1,\n",
    "    #callbacks=callbacks,\n",
    "    steps_per_epoch=  int(len(X_train)//batch_size),\n",
    "    validation_steps= int(len(X_valid)// batch_size)\n",
    ")"
   ]
  },
  {
   "cell_type": "code",
   "execution_count": 23,
   "metadata": {
    "execution": {
     "iopub.execute_input": "2020-10-15T12:08:48.890486Z",
     "iopub.status.busy": "2020-10-15T12:08:48.888395Z",
     "iopub.status.idle": "2020-10-15T12:08:48.892966Z",
     "shell.execute_reply": "2020-10-15T12:08:48.891107Z"
    },
    "papermill": {
     "duration": 10.001089,
     "end_time": "2020-10-15T12:08:48.893126",
     "exception": false,
     "start_time": "2020-10-15T12:08:38.892037",
     "status": "completed"
    },
    "tags": []
   },
   "outputs": [
    {
     "name": "stdout",
     "output_type": "stream",
     "text": [
      "time: 784 µs\n"
     ]
    }
   ],
   "source": [
    "import tensorflow as tf\n",
    "from tensorflow.keras.models import Sequential, save_model, load_model\n",
    "\n",
    "filepath = './'"
   ]
  },
  {
   "cell_type": "code",
   "execution_count": 24,
   "metadata": {
    "execution": {
     "iopub.execute_input": "2020-10-15T12:09:09.242110Z",
     "iopub.status.busy": "2020-10-15T12:09:09.241085Z",
     "iopub.status.idle": "2020-10-15T12:09:38.463849Z",
     "shell.execute_reply": "2020-10-15T12:09:38.463027Z"
    },
    "papermill": {
     "duration": 39.264416,
     "end_time": "2020-10-15T12:09:38.464011",
     "exception": false,
     "start_time": "2020-10-15T12:08:59.199595",
     "status": "completed"
    },
    "tags": []
   },
   "outputs": [
    {
     "name": "stdout",
     "output_type": "stream",
     "text": [
      "time: 29.2 s\n"
     ]
    }
   ],
   "source": [
    "tf.keras.models.save_model(\n",
    "    model,\n",
    "    filepath,\n",
    "    overwrite=True,\n",
    "    include_optimizer=True,\n",
    "    save_format=None,\n",
    "    signatures=None,\n",
    "    options=None\n",
    ")"
   ]
  },
  {
   "cell_type": "markdown",
   "metadata": {
    "id": "5Aj7VfnaFVU_",
    "outputId": "2e6e35f8-ad99-4c66-dafe-f19cf882a4e3",
    "papermill": {
     "duration": 10.411759,
     "end_time": "2020-10-15T12:09:59.299580",
     "exception": false,
     "start_time": "2020-10-15T12:09:48.887821",
     "status": "completed"
    },
    "tags": []
   },
   "source": [
    "def data_gen1(list_files, target_label_map, batch_size, augment=False):\n",
    "    seq = get_seq()\n",
    "    while True:\n",
    "        # shuffle(list_files)\n",
    "        for batch in chunker(list_files, batch_size):\n",
    "          X = [cv2.resize(cv2.imread(x),(224,224),interpolation=cv2.INTER_CUBIC) for x in batch]\n",
    "            # for x in X:\n",
    "            #   X.append(cv2.resize(x,(224,224),interpolation=cv2.INTER_CUBIC))\n",
    "            # X = [cv2.resize(x,(224,224,3)) for x in X]\n",
    "          Y = [target_label_map[x] for x in batch]\n",
    "            # print(Y)\n",
    "          Y = to_categorical(Y, num_classes = 5)\n",
    "            # print(Y)\n",
    "          if augment:\n",
    "            X = seq.augment_images(X)\n",
    "          X = [preprocess_input(x) for x in X]\n",
    "                \n",
    "          return np.array(X), np.array(Y)"
   ]
  },
  {
   "cell_type": "markdown",
   "metadata": {
    "id": "h2zRwS2EQZCK",
    "outputId": "720db3af-705d-4aa4-9973-c553fcceaf12",
    "papermill": {
     "duration": 10.008352,
     "end_time": "2020-10-15T12:10:19.260443",
     "exception": false,
     "start_time": "2020-10-15T12:10:09.252091",
     "status": "completed"
    },
    "tags": []
   },
   "source": [
    "p1 ,p2 = data_gen1(X_valid,target_label_map,3750) \n",
    "score = model.evaluate(p1,p2, verbose=0)\n",
    "print('Model Accuracy:', score[1],'\\n')"
   ]
  },
  {
   "cell_type": "markdown",
   "metadata": {
    "id": "ulOnBUpRSbuP",
    "outputId": "60eb6ac1-dd98-44fd-b1d2-a3165c799388",
    "papermill": {
     "duration": 9.922328,
     "end_time": "2020-10-15T12:10:40.756691",
     "exception": false,
     "start_time": "2020-10-15T12:10:30.834363",
     "status": "completed"
    },
    "tags": []
   },
   "source": [
    "# def plot_learning_curve(history):\n",
    "plt.figure(figsize=(16,6))\n",
    "plt.subplot(1,2,1)\n",
    "plt.plot(history.history['categorical_accuracy'])\n",
    "plt.plot(history.history['val_categorical_accuracy'])\n",
    "plt.title('model accuracy')\n",
    "plt.ylabel('accuracy')\n",
    "plt.xlabel('epoch')\n",
    "plt.legend(['train', 'validation'], loc='upper left')\n",
    "    # plt.savefig('./accuracy_curve.png')\n",
    "    #plt.clf()\n",
    "    # summarize history for loss\n",
    "plt.subplot(1,2,2)\n",
    "plt.plot(history.history['loss'])\n",
    "plt.plot(history.history['val_loss'])\n",
    "plt.title('model loss')\n",
    "plt.ylabel('loss')\n",
    "plt.xlabel('epoch')\n",
    "plt.legend(['train', 'validation'], loc='upper left')\n",
    "# plt.savefig('./loss_curve.png')"
   ]
  },
  {
   "cell_type": "markdown",
   "metadata": {
    "id": "Fxsqb6nuSjax",
    "outputId": "3cbad524-e0ad-49e9-f10d-d02bc408680a",
    "papermill": {
     "duration": 10.404127,
     "end_time": "2020-10-15T12:11:01.091689",
     "exception": false,
     "start_time": "2020-10-15T12:10:50.687562",
     "status": "completed"
    },
    "tags": []
   },
   "source": [
    "X_test_final,y_test_final = data_gen1(X_test,target_label_map,3500)\n",
    "print(y_test_final.shape) \n",
    "y_pred = model.predict(X_test_final)\n",
    "print(y_pred.shape)\n",
    "Y_pred_classes = np.argmax(y_pred,axis=1) \n",
    "print(Y_pred_classes.shape)\n",
    "Y_true = np.argmax(y_test_final,axis=1)\n",
    "print(Y_true.shape) \n"
   ]
  },
  {
   "cell_type": "markdown",
   "metadata": {
    "id": "qQXiLQK8So-n",
    "outputId": "77baf498-3e31-4c5d-ecf2-442a7eb0667a",
    "papermill": {
     "duration": 10.278778,
     "end_time": "2020-10-15T12:11:21.276803",
     "exception": false,
     "start_time": "2020-10-15T12:11:10.998025",
     "status": "completed"
    },
    "tags": []
   },
   "source": [
    "def accuracy(confusion_matrix):\n",
    "    diagonal_sum = confusion_matrix.trace()\n",
    "    sum_of_all_elements = confusion_matrix.sum()\n",
    "    return diagonal_sum / sum_of_all_elements "
   ]
  },
  {
   "cell_type": "markdown",
   "metadata": {
    "id": "LwbOEWfESqvw",
    "outputId": "1cb4aa37-f649-4355-8cf5-35a4c92b2b1f",
    "papermill": {
     "duration": 10.287498,
     "end_time": "2020-10-15T12:11:42.279100",
     "exception": false,
     "start_time": "2020-10-15T12:11:31.991602",
     "status": "completed"
    },
    "tags": []
   },
   "source": [
    "cm = confusion_matrix(Y_true, Y_pred_classes)\n",
    "\n",
    "print(cm)\n",
    "\n",
    "\n",
    "clssrep = classification_report(Y_true, Y_pred_classes)\n",
    "    # CLssrep.append(clssrep)\n",
    "print(clssrep)\n",
    "\n",
    "\n",
    "df_cm = pd.DataFrame(cm, index = folder, columns= folder )\n",
    "fig = plt.figure(figsize = (10,7))\n",
    "\n",
    "heatmap = sns.heatmap(df_cm, annot=True, fmt=\"d\")\n",
    "heatmap.yaxis.set_ticklabels(heatmap.yaxis.get_ticklabels(), rotation=0, ha='right', fontsize= 14)\n",
    "heatmap.xaxis.set_ticklabels(heatmap.xaxis.get_ticklabels(), rotation=45, ha='right', fontsize= 14)\n",
    "plt.ylabel('True label')\n",
    "plt.xlabel('Predicted label')\n",
    "\n",
    "classification_accuracy = accuracy(cm)\n",
    "print(\"Classification Accuracy:{0:0.6f}\".format(classification_accuracy))\n",
    "\n",
    "[Precision,Sensitivity,F1_score,_] = precision_recall_fscore_support(Y_true, Y_pred_classes, average='weighted')\n",
    "[_, Specificity,_] = sensitivity_specificity_support(Y_true, Y_pred_classes, average='weighted')\n",
    "\n",
    "\n",
    "\n",
    "    \n",
    "print('Precision : {0:0.6f}'.format(Precision))\n",
    "print('Sensitivity : {0:0.6f}'.format(Sensitivity))\n",
    "print('Specificity : {0:0.6f}'.format(Specificity))\n",
    "print('F1_score : {0:0.6f}'.format(F1_score))"
   ]
  },
  {
   "cell_type": "markdown",
   "metadata": {
    "id": "QrLEmlG3Sur3",
    "outputId": "f3a64263-1b24-4f79-a7b0-270e361935c4",
    "papermill": {
     "duration": 10.169465,
     "end_time": "2020-10-15T12:12:02.514956",
     "exception": false,
     "start_time": "2020-10-15T12:11:52.345491",
     "status": "completed"
    },
    "tags": []
   },
   "source": [
    "y_test = to_categorical(Y_true, num_classes = 5)\n",
    "y_pred = to_categorical(Y_pred_classes ,num_classes =5)\n",
    "# print(y_test)\n",
    "# print(y_pred)\n",
    "n_classes =5\n",
    "\n",
    "fpr = dict()\n",
    "tpr = dict()\n",
    "roc_auc = dict()\n",
    "for i in range(n_classes):\n",
    "    fpr[i], tpr[i], _ = roc_curve(y_test[:, i],y_pred[:, i])\n",
    "    roc_auc[i] = auc(fpr[i], tpr[i])\n",
    "    # print(roc_auc[i])\n",
    "\n",
    "# Compute micro-average ROC curve and ROC area\n",
    "fpr[\"micro\"], tpr[\"micro\"], _ = roc_curve(y_test.ravel(), y_pred.ravel())\n",
    "roc_auc[\"micro\"] = auc(fpr[\"micro\"], tpr[\"micro\"])\n",
    "\n",
    "\n",
    "all_fpr = np.unique(np.concatenate([fpr[i] for i in range(n_classes)]))\n",
    "lw = 2\n",
    "# Then interpolate all ROC curves at this points\n",
    "mean_tpr = np.zeros_like(all_fpr)\n",
    "for i in range(n_classes):\n",
    "    mean_tpr += interp(all_fpr, fpr[i], tpr[i])\n",
    "\n",
    "# Finally average it and compute AUC\n",
    "mean_tpr /= n_classes\n",
    "\n",
    "fpr[\"macro\"] = all_fpr\n",
    "tpr[\"macro\"] = mean_tpr\n",
    "roc_auc[\"macro\"] = auc(fpr[\"macro\"], tpr[\"macro\"])\n",
    "\n",
    "# Plot all ROC curves\n",
    "plt.figure(figsize =(12,10))\n",
    "plt.plot(fpr[\"micro\"], tpr[\"micro\"],\n",
    "         label='micro-average ROC curve (area = {0:0.2f})'\n",
    "               ''.format(roc_auc[\"micro\"]),\n",
    "         color='deeppink', linestyle=':', linewidth=4)\n",
    "\n",
    "plt.plot(fpr[\"macro\"], tpr[\"macro\"],\n",
    "         label='macro-average ROC curve (area = {0:0.2f})'\n",
    "               ''.format(roc_auc[\"macro\"]),\n",
    "         color='navy', linestyle=':', linewidth=4)\n",
    "\n",
    "colors = cycle(['aqua', 'darkorange', 'cornflowerblue'])\n",
    "for i, color in zip(range(n_classes), colors):\n",
    "    plt.plot(fpr[i], tpr[i], color=color, lw=lw,\n",
    "             label='ROC curve of class {0} (area = {1:0.2f})'\n",
    "             ''.format(i, roc_auc[i]))\n",
    "\n",
    "plt.plot([0, 1], [0, 1], 'k--', lw=lw)\n",
    "plt.xlim([0.0, 1.0])\n",
    "plt.ylim([0.0, 1.05])\n",
    "plt.xlabel('False Positive Rate')\n",
    "plt.ylabel('True Positive Rate')\n",
    "plt.title('Some extension of Receiver operating characteristic to multi-class')\n",
    "plt.legend(loc=\"lower right\")\n",
    "plt.show()\n"
   ]
  },
  {
   "cell_type": "code",
   "execution_count": null,
   "metadata": {
    "papermill": {
     "duration": 10.403807,
     "end_time": "2020-10-15T12:12:22.701135",
     "exception": false,
     "start_time": "2020-10-15T12:12:12.297328",
     "status": "completed"
    },
    "tags": []
   },
   "outputs": [],
   "source": []
  }
 ],
 "metadata": {
  "kernelspec": {
   "display_name": "Python 3",
   "language": "python",
   "name": "python3"
  },
  "language_info": {
   "codemirror_mode": {
    "name": "ipython",
    "version": 3
   },
   "file_extension": ".py",
   "mimetype": "text/x-python",
   "name": "python",
   "nbconvert_exporter": "python",
   "pygments_lexer": "ipython3",
   "version": "3.7.6"
  },
  "papermill": {
   "duration": 21765.969451,
   "end_time": "2020-10-15T12:12:35.020847",
   "environment_variables": {},
   "exception": null,
   "input_path": "__notebook__.ipynb",
   "output_path": "__notebook__.ipynb",
   "parameters": {},
   "start_time": "2020-10-15T06:09:49.051396",
   "version": "2.1.0"
  }
 },
 "nbformat": 4,
 "nbformat_minor": 4
}
