{
 "cells": [
  {
   "cell_type": "code",
   "execution_count": 1,
   "metadata": {
    "_cell_guid": "dd5c5f3a-5fe2-4839-8f99-c9ca245cc46c",
    "_uuid": "49f4b977af81299adf95ec829644262b75101b6f"
   },
   "outputs": [
    {
     "name": "stdout",
     "output_type": "stream",
     "text": [
      "Reading files\n",
      "Cast\n",
      "ok\n"
     ]
    }
   ],
   "source": [
    "import numpy as np\n",
    "import pandas as pd\n",
    "print('Reading files')\n",
    "train  =pd.read_csv(\"../input/train.csv\")\n",
    "test   =pd.read_csv(\"../input/test.csv\")\n",
    "print('Cast')\n",
    "for c in train.select_dtypes(include=['float64']).columns:\n",
    "    train[c]=train[c].astype(np.float32)\n",
    "    test[c]=test[c].astype(np.float32)\n",
    "for c in train.select_dtypes(include=['int64']).columns[2:]:\n",
    "    train[c]=train[c].astype(np.int8)\n",
    "    test[c]=test[c].astype(np.int8)    \n",
    "print('ok')"
   ]
  },
  {
   "cell_type": "code",
   "execution_count": 2,
   "metadata": {
    "_cell_guid": "3c0194b6-6503-4c1e-a064-76a166f7aa2f",
    "_uuid": "2d6c16ac57d505ba53801271eb53f6949b8eb00b"
   },
   "outputs": [
    {
     "name": "stdout",
     "output_type": "stream",
     "text": [
      "Merging\n",
      "OK\n"
     ]
    }
   ],
   "source": [
    "print('Merging')\n",
    "test['target']=-1\n",
    "both =test.copy()\n",
    "del test\n",
    "both=both.append(train)\n",
    "del train\n",
    "print('OK')"
   ]
  },
  {
   "cell_type": "code",
   "execution_count": 3,
   "metadata": {
    "_cell_guid": "47fa8219-d294-4918-b26e-cc9ac557667d",
    "_uuid": "9ae0d5fbc809de698884b74d1eb1913bdc8a992a"
   },
   "outputs": [
    {
     "name": "stdout",
     "output_type": "stream",
     "text": [
      "Transform\n",
      "\tBinaries, len= 17\n",
      "\tCategories, len= 14\n",
      "['ps_car_01_cat', 'ps_car_02_cat', 'ps_car_03_cat', 'ps_car_04_cat', 'ps_car_05_cat', 'ps_car_06_cat', 'ps_car_07_cat', 'ps_car_09_cat', 'ps_car_10_cat', 'ps_car_11_cat', 'ps_ind_02_cat', 'ps_ind_04_cat', 'ps_ind_05_cat']\n",
      "Index(['id', 'ps_calc_01', 'ps_calc_02', 'ps_calc_03', 'ps_calc_04',\n",
      "       'ps_calc_05', 'ps_calc_06', 'ps_calc_07', 'ps_calc_08', 'ps_calc_09',\n",
      "       ...\n",
      "       'ohe_ps_ind_04_cat_0', 'ohe_ps_ind_04_cat_1', 'ohe_ps_ind_05_cat_-1',\n",
      "       'ohe_ps_ind_05_cat_0', 'ohe_ps_ind_05_cat_1', 'ohe_ps_ind_05_cat_2',\n",
      "       'ohe_ps_ind_05_cat_3', 'ohe_ps_ind_05_cat_4', 'ohe_ps_ind_05_cat_5',\n",
      "       'ohe_ps_ind_05_cat_6'],\n",
      "      dtype='object', length=228)\n",
      "Index(['ps_calc_01', 'ps_calc_02', 'ps_calc_03', 'ps_calc_04', 'ps_calc_05',\n",
      "       'ps_calc_06', 'ps_calc_07', 'ps_calc_08', 'ps_calc_09', 'ps_calc_10',\n",
      "       ...\n",
      "       'ohe_ps_ind_04_cat_0', 'ohe_ps_ind_04_cat_1', 'ohe_ps_ind_05_cat_-1',\n",
      "       'ohe_ps_ind_05_cat_0', 'ohe_ps_ind_05_cat_1', 'ohe_ps_ind_05_cat_2',\n",
      "       'ohe_ps_ind_05_cat_3', 'ohe_ps_ind_05_cat_4', 'ohe_ps_ind_05_cat_5',\n",
      "       'ohe_ps_ind_05_cat_6'],\n",
      "      dtype='object', length=226)\n",
      "OK\n"
     ]
    }
   ],
   "source": [
    "#OHE , Factors\n",
    "import gc\n",
    "print('Transform')\n",
    "cat_cols = [col for col in both.columns if '_cat' in col]\n",
    "bin_cols = [col for col in both.columns if '_bin' in col]\n",
    "\n",
    "c2,c3=[],{}\n",
    "print('\\tBinaries, len=',len(bin_cols))\n",
    "for c in bin_cols:\n",
    "    if(len(both[c].unique())>2):\n",
    "        c2.append(c)\n",
    "        c3[c]='ohe_'+c\n",
    "print('\\tCategories, len=',len(cat_cols))\n",
    "\n",
    "for c in cat_cols:\n",
    "    if(len(both[c].unique())>2):\n",
    "        c2.append(c)\n",
    "        c3[c]='ohe_'+c\n",
    "        \n",
    "print(c2)\n",
    "both=pd.get_dummies(both,prefix=c3,columns=c2)\n",
    "gc.collect()\n",
    "\n",
    "train=both[both['target']!=-1].copy()\n",
    "test =both[both['target']==-1].copy()\n",
    "del both\n",
    "    \n",
    "print(train.columns)\n",
    "col_x= train.columns.drop(['target'])\n",
    "col  = train.columns.drop(['id','target'])\n",
    "\n",
    "print(col)\n",
    "print('OK')"
   ]
  },
  {
   "cell_type": "code",
   "execution_count": 4,
   "metadata": {
    "_cell_guid": "fd35d9b2-e8e7-443c-a5da-77769e5a3cc7",
    "_uuid": "908a80f7f43e982da62ea0a5cd275a094e52526f"
   },
   "outputs": [
    {
     "name": "stdout",
     "output_type": "stream",
     "text": [
      "Saving OHE files\n",
      "Done\n"
     ]
    }
   ],
   "source": [
    "print('Saving OHE files')\n",
    "train.to_csv(\"ohe_train.csv\",index=False)\n",
    "test.to_csv(\"ohe_test.csv\",index=False)\n",
    "print('Done')"
   ]
  },
  {
   "cell_type": "code",
   "execution_count": 5,
   "metadata": {
    "_cell_guid": "59103c42-9dec-4155-96fd-7bee2a1f9fb8",
    "_uuid": "57052f33ab46b623a5e736a10b7ec19910d7911a",
    "collapsed": true
   },
   "outputs": [],
   "source": []
  }
 ],
 "metadata": {
  "kernelspec": {
   "display_name": "Python 3",
   "language": "python",
   "name": "python3"
  },
  "language_info": {
   "codemirror_mode": {
    "name": "ipython",
    "version": 3
   },
   "file_extension": ".py",
   "mimetype": "text/x-python",
   "name": "python",
   "nbconvert_exporter": "python",
   "pygments_lexer": "ipython3",
   "version": "3.6.3"
  }
 },
 "nbformat": 4,
 "nbformat_minor": 1
}
