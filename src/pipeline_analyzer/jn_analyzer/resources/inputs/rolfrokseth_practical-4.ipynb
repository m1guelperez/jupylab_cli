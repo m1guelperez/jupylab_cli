{
 "cells": [
  {
   "cell_type": "markdown",
   "metadata": {},
   "source": [
    "# Question 1"
   ]
  },
  {
   "cell_type": "code",
   "execution_count": 1,
   "metadata": {},
   "outputs": [
    {
     "name": "stdout",
     "output_type": "stream",
     "text": [
      "[5]\n",
      "[5, 3]\n",
      "[5]\n",
      "[5, 2]\n",
      "[5, 2, 8]\n",
      "[5, 2]\n",
      "[5]\n",
      "[5, 9]\n",
      "[5, 9, 1]\n",
      "[5, 9]\n",
      "[5, 9, 7]\n",
      "[5, 9, 7, 6]\n",
      "[5, 9, 7]\n",
      "[5, 9]\n",
      "[5, 9, 4]\n",
      "[5, 9]\n",
      "[5]\n"
     ]
    }
   ],
   "source": [
    "stack = []\n",
    "\n",
    "stack.append(5)\n",
    "print(stack)\n",
    "stack.append(3)\n",
    "print(stack)\n",
    "stack.pop()\n",
    "print(stack)\n",
    "stack.append(2)\n",
    "print(stack)\n",
    "stack.append(8)\n",
    "print(stack)\n",
    "stack.pop()\n",
    "print(stack)\n",
    "stack.pop()\n",
    "print(stack)\n",
    "stack.append(9)\n",
    "print(stack)\n",
    "stack.append(1)\n",
    "print(stack)\n",
    "stack.pop()\n",
    "print(stack)\n",
    "stack.append(7)\n",
    "print(stack)\n",
    "stack.append(6)\n",
    "print(stack)\n",
    "stack.pop()\n",
    "print(stack)\n",
    "stack.pop()\n",
    "print(stack)\n",
    "stack.append(4)\n",
    "print(stack)\n",
    "stack.pop()\n",
    "print(stack)\n",
    "stack.pop()\n",
    "print(stack)"
   ]
  },
  {
   "cell_type": "markdown",
   "metadata": {},
   "source": [
    "# Question 2\n",
    "\n",
    "25 elements. \n",
    "10 pop operations which 3 raised errors. \n",
    "25-7 = 18."
   ]
  },
  {
   "cell_type": "markdown",
   "metadata": {},
   "source": [
    "# Question 3"
   ]
  },
  {
   "cell_type": "code",
   "execution_count": 2,
   "metadata": {
    "_cell_guid": "b1076dfc-b9ad-4769-8c92-a6c4dae69d19",
    "_uuid": "8f2839f25d086af736a60e9eeb907d3b93b6e0e5"
   },
   "outputs": [
    {
     "name": "stdout",
     "output_type": "stream",
     "text": [
      "s [5, 6]\n",
      "t [8]\n",
      "s [5]\n",
      "t [8, 6]\n",
      "s []\n",
      "t [8, 6, 5]\n"
     ]
    }
   ],
   "source": [
    "s = []\n",
    "t = []\n",
    "s.append(5)\n",
    "s.append(6)\n",
    "s.append(8)\n",
    "\n",
    "def transfer(s,t):\n",
    "    while len(s) > 0:\n",
    "        t.append(s.pop())\n",
    "        print(\"s\",s)\n",
    "        print(\"t\",t)\n",
    "transfer(s,t)"
   ]
  },
  {
   "cell_type": "markdown",
   "metadata": {},
   "source": [
    "# Question 4"
   ]
  },
  {
   "cell_type": "code",
   "execution_count": 3,
   "metadata": {},
   "outputs": [
    {
     "name": "stdout",
     "output_type": "stream",
     "text": [
      "deque([5])\n",
      "deque([5, 3])\n",
      "deque([3])\n",
      "deque([3, 2])\n",
      "deque([3, 2, 8])\n",
      "deque([2, 8])\n",
      "deque([8])\n",
      "deque([8, 9])\n",
      "deque([8, 9, 1])\n",
      "deque([9, 1])\n",
      "deque([9, 1, 7])\n",
      "deque([9, 1, 7, 6])\n",
      "deque([1, 7, 6])\n",
      "deque([7, 6])\n",
      "deque([7, 6, 4])\n",
      "deque([6, 4])\n",
      "deque([4])\n"
     ]
    }
   ],
   "source": [
    "from collections import deque\n",
    "\n",
    "queue = deque([])\n",
    "queue.append(5)\n",
    "print(queue)\n",
    "queue.append(3)\n",
    "print(queue)\n",
    "queue.popleft()\n",
    "print(queue)\n",
    "queue.append(2)\n",
    "print(queue)\n",
    "queue.append(8)\n",
    "print(queue)\n",
    "queue.popleft()\n",
    "print(queue)\n",
    "queue.popleft()\n",
    "print(queue)\n",
    "queue.append(9)\n",
    "print(queue)\n",
    "queue.append(1)\n",
    "print(queue)\n",
    "queue.popleft()\n",
    "print(queue)\n",
    "queue.append(7)\n",
    "print(queue)\n",
    "queue.append(6)\n",
    "print(queue)\n",
    "queue.popleft()\n",
    "print(queue)\n",
    "queue.popleft()\n",
    "print(queue)\n",
    "queue.append(4)\n",
    "print(queue)\n",
    "queue.popleft()\n",
    "print(queue)\n",
    "queue.popleft()\n",
    "print(queue)\n"
   ]
  },
  {
   "cell_type": "markdown",
   "metadata": {},
   "source": [
    "# Q.5\n",
    "\n",
    "32-(15-5)= 22"
   ]
  },
  {
   "cell_type": "code",
   "execution_count": 4,
   "metadata": {},
   "outputs": [
    {
     "name": "stdout",
     "output_type": "stream",
     "text": [
      "Q  [1]\n",
      "D  [2, 3, 4, 5, 6, 7, 8]\n",
      "Q  [1, 2]\n",
      "D  [3, 4, 5, 6, 7, 8]\n",
      "Q  [1, 2, 3]\n",
      "D  [4, 5, 6, 7, 8]\n",
      "Q  [1, 2, 3, 4]\n",
      "D  [5, 6, 7, 8]\n",
      "Q  [1, 2, 3, 4, 5]\n",
      "D  [6, 7, 8]\n",
      "Q  [1, 2, 3, 4, 5, 6]\n",
      "D  [7, 8]\n",
      "Q  [1, 2, 3, 4, 5, 6, 7]\n",
      "D  [8]\n",
      "Q  [1, 2, 3, 4, 5, 6, 7, 8]\n",
      "D  []\n"
     ]
    }
   ],
   "source": [
    "# Q.6\n",
    "D = [1,2,3,4,5,6,7,8]\n",
    "Q = []\n",
    "\n",
    "while len(D) > 0:\n",
    "    Q.append(D[0])\n",
    "    print(\"Q \",Q)\n",
    "    D.pop(0)\n",
    "    print(\"D \",D)"
   ]
  },
  {
   "cell_type": "code",
   "execution_count": 5,
   "metadata": {
    "_cell_guid": "79c7e3d0-c299-4dcb-8224-4455121ee9b0",
    "_uuid": "d629ff2d2480ee46fbb7e2d37f6b5fab8052498a"
   },
   "outputs": [
    {
     "name": "stdout",
     "output_type": "stream",
     "text": [
      "S  [8]\n",
      "D  [1, 2, 3, 4, 5, 6, 7]\n",
      "S  [8, 7]\n",
      "D  [1, 2, 3, 4, 5, 6]\n",
      "S  [8, 7, 6]\n",
      "D  [1, 2, 3, 4, 5]\n",
      "S  [8, 7, 6, 5]\n",
      "D  [1, 2, 3, 4]\n",
      "S  [8, 7, 6, 5, 4]\n",
      "D  [1, 2, 3]\n",
      "S  [8, 7, 6, 5, 4, 3]\n",
      "D  [1, 2]\n",
      "S  [8, 7, 6, 5, 4, 3, 2]\n",
      "D  [1]\n",
      "S  [8, 7, 6, 5, 4, 3, 2, 1]\n",
      "D  []\n"
     ]
    }
   ],
   "source": [
    "# Q.7\n",
    "\n",
    "D = [1,2,3,4,5,6,7,8]\n",
    "S = []\n",
    "\n",
    "while len(D) > 0:\n",
    "    S.append(len(D))\n",
    "    D.pop()\n",
    "    print(\"S \", S)\n",
    "    print(\"D \", D)\n"
   ]
  }
 ],
 "metadata": {
  "kernelspec": {
   "display_name": "Python 3",
   "language": "python",
   "name": "python3"
  },
  "language_info": {
   "codemirror_mode": {
    "name": "ipython",
    "version": 3
   },
   "file_extension": ".py",
   "mimetype": "text/x-python",
   "name": "python",
   "nbconvert_exporter": "python",
   "pygments_lexer": "ipython3",
   "version": "3.6.4"
  }
 },
 "nbformat": 4,
 "nbformat_minor": 1
}
