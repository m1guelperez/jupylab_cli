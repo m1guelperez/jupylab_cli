{
 "cells": [
  {
   "cell_type": "markdown",
   "metadata": {
    "_cell_guid": "0d66baa9-143b-4c7b-9d2e-9543c0e26976",
    "_uuid": "2340dff6eec8674e9f12962a9bb848562123a1f2"
   },
   "source": [
    "# Introduction to Data Science- The Titanic Problem\n",
    "\n",
    "In this notebook, I'm going to attempt at breaking down the steps and skills required in solving a data science problem (prediction, analysis, recommendations, etc.) using Python and its scientific packages. I will also walk you through the 'Hello, world!' of Machine Learning problems: Predicting Survival on the sinking RMS Titanic."
   ]
  },
  {
   "cell_type": "markdown",
   "metadata": {
    "_cell_guid": "ce43f80c-3ded-456d-8712-fbc55b97e519",
    "_uuid": "7936c020dc2ae9775cd630694f8e22aaabef1a91"
   },
   "source": [
    "## Prerequisites\n",
    "\n",
    "You must have the following softwares/packages installed to follow along with the tutorial (or tackle any data science problem, for that matter).\n",
    "\n",
    "* **Jupyter Notebook:** This is the software that lets us run Python code in the browser and intersperse markdown with cells containing code. \n",
    "* **Pandas:** This is the data analysis tool of choice in Python. Pandas makes it very easy to work with complex data with incredibly powerful data structures such as dataframes and series.\n",
    "* **Numpy:** The de facto scientific computing package. Many other libraries such as pandas and sklearn are based on numpy. Numpy gives us access to blistering fast mathematical calculations and makes linear algebra a breeze.\n",
    "* **Scipy:** The statistical package. Contains an immense number of statistical tools that makes inferential statistical analysis extremely easy. \n",
    "* **Scikit-learn:** The machine learning package of Python. Makes implementing ML Algorithms extremely simple. The package has implementations of all the major classifiers and regressors and makes it incredibly simple to switch between different models.\n",
    "* **Matplotlib:** The data visualisation package of Python. While not as powerful as the packages available in R, it still packs enough power to perform almost every visualisation you could possibly have a need for.\n",
    "* **Seaborn:** While working with matplotlib, you will eventually realize that implementing a few things become a real pain and the default graphics are rather dull. Seaborn aims at solving both these problems. Built on top of matplotlib, it makes building stunning graphics extremely simple.\n",
    "\n",
    "You can get access to all the above by downloading the Anaconda distribution. Once you have all your packages in place, import them into your notebook."
   ]
  },
  {
   "cell_type": "code",
   "execution_count": 1,
   "metadata": {
    "_cell_guid": "d80dcf3d-5f79-44c7-86f3-2df618be3db0",
    "_uuid": "ce43524a5e37572fe44904d40e42ee9f9b141e9f",
    "collapsed": true
   },
   "outputs": [],
   "source": [
    "%matplotlib inline\n",
    "import numpy as np\n",
    "import pandas as pd\n",
    "from scipy import stats\n",
    "import matplotlib.pyplot as plt\n",
    "import seaborn as sns\n",
    "from sklearn.ensemble import GradientBoostingClassifier\n",
    "from sklearn.model_selection import train_test_split\n",
    "from sklearn.neighbors import KNeighborsClassifier"
   ]
  },
  {
   "cell_type": "markdown",
   "metadata": {
    "_cell_guid": "0d84f80d-5991-4672-b732-8dc4a9e4e0b0",
    "_uuid": "d2df2098c3d3125a72456f613ba9dd298072702a"
   },
   "source": [
    "## Data Wrangling\n",
    "\n",
    "The first step in our analysis is data wrangling. Data wrangling refers to the conversion of the raw data that we have into a more usable and suitable form for processes such as training models and analytics. \n",
    "\n",
    "In this section of the notebook, we will be doing precisely that. We will be loading our data into a Pandas dataframe, analysing the kind of data we have, cleaning up the unsanitary values and filling/dropping rows wherever necessary. If you're not familiar with the pandas library, now would be a good time to take up a few tutorials.\n",
    "\n",
    "### Pandas Tutorial Resources\n",
    "1. **The Official Pandas 10 Minute Tutorial:** https://pandas.pydata.org/pandas-docs/stable/10min.html\n",
    "2. **Brandon Rhodes' Pandas Tutorial at PyCon 2015:** https://www.youtube.com/watch?v=5JnMutdy6Fw\n",
    "\n",
    "The resources listed above are my favorites. I had initially found Pandas to be counterintuitive with its filtering, groupby and accessing mechanisms. Rhodes' tutorial absolved that uneasiness for me."
   ]
  },
  {
   "cell_type": "code",
   "execution_count": 2,
   "metadata": {
    "_cell_guid": "b3211cab-637f-492d-8dc0-46e747a04c66",
    "_uuid": "16c5a9a3af22a294a8a1de29aad77ccfb9e662d6",
    "collapsed": true
   },
   "outputs": [
    {
     "data": {
      "text/html": [
       "<div>\n",
       "<style>\n",
       "    .dataframe thead tr:only-child th {\n",
       "        text-align: right;\n",
       "    }\n",
       "\n",
       "    .dataframe thead th {\n",
       "        text-align: left;\n",
       "    }\n",
       "\n",
       "    .dataframe tbody tr th {\n",
       "        vertical-align: top;\n",
       "    }\n",
       "</style>\n",
       "<table border=\"1\" class=\"dataframe\">\n",
       "  <thead>\n",
       "    <tr style=\"text-align: right;\">\n",
       "      <th></th>\n",
       "      <th>PassengerId</th>\n",
       "      <th>Survived</th>\n",
       "      <th>Pclass</th>\n",
       "      <th>Name</th>\n",
       "      <th>Sex</th>\n",
       "      <th>Age</th>\n",
       "      <th>SibSp</th>\n",
       "      <th>Parch</th>\n",
       "      <th>Ticket</th>\n",
       "      <th>Fare</th>\n",
       "      <th>Cabin</th>\n",
       "      <th>Embarked</th>\n",
       "    </tr>\n",
       "  </thead>\n",
       "  <tbody>\n",
       "    <tr>\n",
       "      <th>0</th>\n",
       "      <td>1</td>\n",
       "      <td>0</td>\n",
       "      <td>3</td>\n",
       "      <td>Braund, Mr. Owen Harris</td>\n",
       "      <td>male</td>\n",
       "      <td>22.0</td>\n",
       "      <td>1</td>\n",
       "      <td>0</td>\n",
       "      <td>A/5 21171</td>\n",
       "      <td>7.2500</td>\n",
       "      <td>NaN</td>\n",
       "      <td>S</td>\n",
       "    </tr>\n",
       "    <tr>\n",
       "      <th>1</th>\n",
       "      <td>2</td>\n",
       "      <td>1</td>\n",
       "      <td>1</td>\n",
       "      <td>Cumings, Mrs. John Bradley (Florence Briggs Th...</td>\n",
       "      <td>female</td>\n",
       "      <td>38.0</td>\n",
       "      <td>1</td>\n",
       "      <td>0</td>\n",
       "      <td>PC 17599</td>\n",
       "      <td>71.2833</td>\n",
       "      <td>C85</td>\n",
       "      <td>C</td>\n",
       "    </tr>\n",
       "    <tr>\n",
       "      <th>2</th>\n",
       "      <td>3</td>\n",
       "      <td>1</td>\n",
       "      <td>3</td>\n",
       "      <td>Heikkinen, Miss. Laina</td>\n",
       "      <td>female</td>\n",
       "      <td>26.0</td>\n",
       "      <td>0</td>\n",
       "      <td>0</td>\n",
       "      <td>STON/O2. 3101282</td>\n",
       "      <td>7.9250</td>\n",
       "      <td>NaN</td>\n",
       "      <td>S</td>\n",
       "    </tr>\n",
       "    <tr>\n",
       "      <th>3</th>\n",
       "      <td>4</td>\n",
       "      <td>1</td>\n",
       "      <td>1</td>\n",
       "      <td>Futrelle, Mrs. Jacques Heath (Lily May Peel)</td>\n",
       "      <td>female</td>\n",
       "      <td>35.0</td>\n",
       "      <td>1</td>\n",
       "      <td>0</td>\n",
       "      <td>113803</td>\n",
       "      <td>53.1000</td>\n",
       "      <td>C123</td>\n",
       "      <td>S</td>\n",
       "    </tr>\n",
       "    <tr>\n",
       "      <th>4</th>\n",
       "      <td>5</td>\n",
       "      <td>0</td>\n",
       "      <td>3</td>\n",
       "      <td>Allen, Mr. William Henry</td>\n",
       "      <td>male</td>\n",
       "      <td>35.0</td>\n",
       "      <td>0</td>\n",
       "      <td>0</td>\n",
       "      <td>373450</td>\n",
       "      <td>8.0500</td>\n",
       "      <td>NaN</td>\n",
       "      <td>S</td>\n",
       "    </tr>\n",
       "  </tbody>\n",
       "</table>\n",
       "</div>"
      ],
      "text/plain": [
       "   PassengerId  Survived  Pclass  \\\n",
       "0            1         0       3   \n",
       "1            2         1       1   \n",
       "2            3         1       3   \n",
       "3            4         1       1   \n",
       "4            5         0       3   \n",
       "\n",
       "                                                Name     Sex   Age  SibSp  \\\n",
       "0                            Braund, Mr. Owen Harris    male  22.0      1   \n",
       "1  Cumings, Mrs. John Bradley (Florence Briggs Th...  female  38.0      1   \n",
       "2                             Heikkinen, Miss. Laina  female  26.0      0   \n",
       "3       Futrelle, Mrs. Jacques Heath (Lily May Peel)  female  35.0      1   \n",
       "4                           Allen, Mr. William Henry    male  35.0      0   \n",
       "\n",
       "   Parch            Ticket     Fare Cabin Embarked  \n",
       "0      0         A/5 21171   7.2500   NaN        S  \n",
       "1      0          PC 17599  71.2833   C85        C  \n",
       "2      0  STON/O2. 3101282   7.9250   NaN        S  \n",
       "3      0            113803  53.1000  C123        S  \n",
       "4      0            373450   8.0500   NaN        S  "
      ]
     },
     "execution_count": 2,
     "metadata": {},
     "output_type": "execute_result"
    }
   ],
   "source": [
    "df = pd.read_csv('../input/train.csv')\n",
    "df.head()"
   ]
  },
  {
   "cell_type": "code",
   "execution_count": 3,
   "metadata": {
    "_cell_guid": "65229028-07b4-4845-a845-792d2e066ede",
    "_uuid": "696d38c3766db72a68275f45d531aad06c5f4698",
    "collapsed": true
   },
   "outputs": [
    {
     "data": {
      "text/plain": [
       "(891, 12)"
      ]
     },
     "execution_count": 3,
     "metadata": {},
     "output_type": "execute_result"
    }
   ],
   "source": [
    "df.shape"
   ]
  },
  {
   "cell_type": "code",
   "execution_count": 4,
   "metadata": {
    "_cell_guid": "3f262a16-acc9-4cb1-98a2-0f5fb930148d",
    "_uuid": "093bfd26f4e6a4b5d5f816c83625db55ebe61bac",
    "collapsed": true,
    "scrolled": true
   },
   "outputs": [
    {
     "name": "stdout",
     "output_type": "stream",
     "text": [
      "<class 'pandas.core.frame.DataFrame'>\n",
      "RangeIndex: 891 entries, 0 to 890\n",
      "Data columns (total 12 columns):\n",
      "PassengerId    891 non-null int64\n",
      "Survived       891 non-null int64\n",
      "Pclass         891 non-null int64\n",
      "Name           891 non-null object\n",
      "Sex            891 non-null object\n",
      "Age            714 non-null float64\n",
      "SibSp          891 non-null int64\n",
      "Parch          891 non-null int64\n",
      "Ticket         891 non-null object\n",
      "Fare           891 non-null float64\n",
      "Cabin          204 non-null object\n",
      "Embarked       889 non-null object\n",
      "dtypes: float64(2), int64(5), object(5)\n",
      "memory usage: 83.6+ KB\n"
     ]
    }
   ],
   "source": [
    "df.info()"
   ]
  },
  {
   "cell_type": "markdown",
   "metadata": {
    "_cell_guid": "61fdb93f-ee13-434b-b1ac-0ebbfadbdb8f",
    "_uuid": "cad24b20237e971d764c35fabc7229e23baaa750"
   },
   "source": [
    "We notice that every feature (column) except age, embarked and cabin has non null values. Let us first take care of this. The first step would be to visualise the kind of data we are dealing with. }\n",
    "\n",
    "Let us deal with the easiest one first: Embarked. Embarked is a categorical variable with only 2 values missing. The most logical way of filling these values would be with the most frequently occuring category. This gives us the highest probability that our guess is right."
   ]
  },
  {
   "cell_type": "code",
   "execution_count": 5,
   "metadata": {
    "_cell_guid": "dae4d082-67db-464c-aeaf-e2fa02f1405a",
    "_uuid": "8a319652764683a5cdfbe836187e890ef48c39a7",
    "collapsed": true,
    "scrolled": true
   },
   "outputs": [
    {
     "data": {
      "text/plain": [
       "S    644\n",
       "C    168\n",
       "Q     77\n",
       "Name: Embarked, dtype: int64"
      ]
     },
     "execution_count": 5,
     "metadata": {},
     "output_type": "execute_result"
    }
   ],
   "source": [
    "df['Embarked'].value_counts()"
   ]
  },
  {
   "cell_type": "code",
   "execution_count": 6,
   "metadata": {
    "_cell_guid": "a80f8d98-f2d3-49ce-9ba8-c1f59818015e",
    "_uuid": "30e3ed9adefd2c8cb36e7b31cb4f06220617ba66",
    "collapsed": true
   },
   "outputs": [],
   "source": [
    "df['Embarked'] = df['Embarked'].fillna('S')"
   ]
  },
  {
   "cell_type": "markdown",
   "metadata": {
    "_cell_guid": "89766d8d-f183-45cd-be39-de204c74ba92",
    "_uuid": "c9bedf8c041c4d6877727c50fef7c63cddf42f46"
   },
   "source": [
    "Now, let us move on to age."
   ]
  },
  {
   "cell_type": "code",
   "execution_count": 7,
   "metadata": {
    "_cell_guid": "e17e7920-5a8d-40d5-a785-bf724eb7f807",
    "_uuid": "57581cdc376cfa372cb58211b1daa07a190c548a",
    "collapsed": true
   },
   "outputs": [
    {
     "data": {
      "text/plain": [
       "<matplotlib.axes._subplots.AxesSubplot at 0x7fde5afdc6a0>"
      ]
     },
     "execution_count": 7,
     "metadata": {},
     "output_type": "execute_result"
    },
    {
     "data": {
      "image/png": "[encoded data removed]",
      "text/plain": [
       "<matplotlib.figure.Figure at 0x7fde5afdc978>"
      ]
     },
     "metadata": {},
     "output_type": "display_data"
    }
   ],
   "source": [
    "sns.distplot(df[df['Age'].notnull()]['Age'])"
   ]
  },
  {
   "cell_type": "code",
   "execution_count": 8,
   "metadata": {
    "_cell_guid": "668d67e5-e308-4235-bc1a-ee04fcdf27ee",
    "_uuid": "7941bf74018deb86ba8b63ddd1a104ea59bda865",
    "collapsed": true
   },
   "outputs": [
    {
     "data": {
      "text/plain": [
       "count    714.000000\n",
       "mean      29.699118\n",
       "std       14.526497\n",
       "min        0.420000\n",
       "25%       20.125000\n",
       "50%       28.000000\n",
       "75%       38.000000\n",
       "max       80.000000\n",
       "Name: Age, dtype: float64"
      ]
     },
     "execution_count": 8,
     "metadata": {},
     "output_type": "execute_result"
    }
   ],
   "source": [
    "df['Age'].describe()"
   ]
  },
  {
   "cell_type": "markdown",
   "metadata": {
    "_cell_guid": "27b8659a-47df-42ed-a546-2ff90216e5d6",
    "_uuid": "10aabc3317ce49f81c86bffeb5ea0118d7185b02"
   },
   "source": [
    "We really have no foolproof method of filling in the ages. One naive way of doing it could be by using the mean of the ages (as calculated above). But as the standard deviation is reasonably high, I wouldn't be too keen on doing this. Instead, I'm going to use a very handy method that Pandas provides: interpolation. "
   ]
  },
  {
   "cell_type": "code",
   "execution_count": 9,
   "metadata": {
    "_cell_guid": "b10a6603-4d54-4d68-9c8c-5df1206409e0",
    "_uuid": "11eac729520ebdfddf367df2e969e5bce6f8a7e6",
    "collapsed": true
   },
   "outputs": [],
   "source": [
    "df['Age'] = df['Age'].interpolate()"
   ]
  },
  {
   "cell_type": "code",
   "execution_count": 10,
   "metadata": {
    "_cell_guid": "adc6534f-d45c-4359-afac-b313214cc65a",
    "_uuid": "cf4e98db7406ac07dadd28906003e7333eab9eea",
    "collapsed": true
   },
   "outputs": [
    {
     "data": {
      "text/plain": [
       "count    891.000000\n",
       "mean      29.726061\n",
       "std       13.902353\n",
       "min        0.420000\n",
       "25%       21.000000\n",
       "50%       28.500000\n",
       "75%       38.000000\n",
       "max       80.000000\n",
       "Name: Age, dtype: float64"
      ]
     },
     "execution_count": 10,
     "metadata": {},
     "output_type": "execute_result"
    }
   ],
   "source": [
    "df['Age'].describe()"
   ]
  },
  {
   "cell_type": "code",
   "execution_count": 11,
   "metadata": {
    "_cell_guid": "7158aede-9dd4-4aa6-af87-40523e4949b5",
    "_uuid": "76346d11000d1fd5601af503a79527049ddc3490",
    "collapsed": true
   },
   "outputs": [
    {
     "data": {
      "text/plain": [
       "<matplotlib.axes._subplots.AxesSubplot at 0x7fde57baeac8>"
      ]
     },
     "execution_count": 11,
     "metadata": {},
     "output_type": "execute_result"
    },
    {
     "data": {
      "image/png": "[encoded data removed]",
      "text/plain": [
       "<matplotlib.figure.Figure at 0x7fde5afdc0b8>"
      ]
     },
     "metadata": {},
     "output_type": "display_data"
    }
   ],
   "source": [
    "sns.distplot(df['Age'])"
   ]
  },
  {
   "cell_type": "markdown",
   "metadata": {
    "_cell_guid": "51f01754-d0a3-42bb-8698-238d6086e5ff",
    "_uuid": "04490f2a598b22ce9ad570f58c116b16029f1d3c"
   },
   "source": [
    "As can be seen over here, the Pandas interpolate method has done a pretty good job at preserving the summary statistics and the overall distribution of the ages. We are not very concerned with the slight changes in the mean and the standard deviation. Since this is a classification problem and we will be using decision trees, our classifier will resort to binning the ages, thus nullyfying the quantitative nature of this feature.\n",
    "\n",
    "Finally, let us move on to the Cabin feature. One thing to notice is that most of the values for the Cabin feature is empty. "
   ]
  },
  {
   "cell_type": "code",
   "execution_count": 12,
   "metadata": {
    "_cell_guid": "b97dbab1-f05a-42c8-b071-faff15af4b68",
    "_uuid": "a541a340601026277dbe037b3d8acfced9bab49f",
    "collapsed": true
   },
   "outputs": [
    {
     "data": {
      "text/plain": [
       "148"
      ]
     },
     "execution_count": 12,
     "metadata": {},
     "output_type": "execute_result"
    }
   ],
   "source": [
    "len(df['Cabin'].drop_duplicates())"
   ]
  },
  {
   "cell_type": "markdown",
   "metadata": {
    "_cell_guid": "61cc307c-3b59-41ac-8541-13d02dd84841",
    "_uuid": "ccdc203af6f2bf57dc8edc6a52c486f411bca081"
   },
   "source": [
    "Additionally, we notice that there are 147 different values for Cabin. There is no realistic way of filling in the missing values with so many different possibilities. Add this to the fact that most of the values are empty, we are forced to come to the conclusion that this feature is not of much use to us and therefore, must be dropped."
   ]
  },
  {
   "cell_type": "code",
   "execution_count": 13,
   "metadata": {
    "_cell_guid": "67be128f-9d82-4985-900f-2800034365d7",
    "_uuid": "2c0506773bbd23f707aeeb96b3231f15aa25035e",
    "collapsed": true
   },
   "outputs": [],
   "source": [
    "df = df.drop('Cabin', axis=1)"
   ]
  },
  {
   "cell_type": "markdown",
   "metadata": {
    "_cell_guid": "f2516e11-53b4-4aa4-ba41-1f8fe51e9177",
    "_uuid": "f87d27d044d36762f6026f1af8bd6aa7d8ef9f4f"
   },
   "source": [
    "## Feature Engineering and Data Visualisation\n",
    "\n",
    "Now that we have a clean dataset, it is time to move on to examining and coming up with new features. In most data science competitions, this is often the most important step. If you engineer you features right and come up with useful insights, you can beat even the most powerful of ensembles.\n",
    "\n",
    "In this section as the previous, we will be working with the Pandas library. In addition, we will also be working with Matplotlib and Seaborn for the visualisation. \n",
    "\n",
    "### Visualisation Tutorials\n",
    "1. **Seaborn Tutorial:** https://www.datacamp.com/community/tutorials/seaborn-python-tutorial#gs.vL1jfng\n",
    "2. **Matplotlib Tutorial:** https://matplotlib.org/users/pyplot_tutorial.html\n",
    "\n",
    "It is not mandatory to go through these resources even if you do not know seaborn. Seaborn is incredibly easy to use with an amazing documentation. So, I'm pretty sure looking up the documentation for all the functions I use will suffice.\n",
    "\n",
    "The first step of feature engineering is to examine which features are useless to us and drop them. This lets us concentrate on the more important columns and come up with new features which derive their information from these useful columns."
   ]
  },
  {
   "cell_type": "code",
   "execution_count": 14,
   "metadata": {
    "_cell_guid": "0a2895c7-00bb-43df-b8f9-16e3cadecfb2",
    "_uuid": "5613479220d6eef7e0765d862c3695fa963d001f",
    "collapsed": true
   },
   "outputs": [
    {
     "data": {
      "text/html": [
       "<div>\n",
       "<style>\n",
       "    .dataframe thead tr:only-child th {\n",
       "        text-align: right;\n",
       "    }\n",
       "\n",
       "    .dataframe thead th {\n",
       "        text-align: left;\n",
       "    }\n",
       "\n",
       "    .dataframe tbody tr th {\n",
       "        vertical-align: top;\n",
       "    }\n",
       "</style>\n",
       "<table border=\"1\" class=\"dataframe\">\n",
       "  <thead>\n",
       "    <tr style=\"text-align: right;\">\n",
       "      <th></th>\n",
       "      <th>PassengerId</th>\n",
       "      <th>Survived</th>\n",
       "      <th>Pclass</th>\n",
       "      <th>Name</th>\n",
       "      <th>Sex</th>\n",
       "      <th>Age</th>\n",
       "      <th>SibSp</th>\n",
       "      <th>Parch</th>\n",
       "      <th>Ticket</th>\n",
       "      <th>Fare</th>\n",
       "      <th>Embarked</th>\n",
       "    </tr>\n",
       "  </thead>\n",
       "  <tbody>\n",
       "    <tr>\n",
       "      <th>0</th>\n",
       "      <td>1</td>\n",
       "      <td>0</td>\n",
       "      <td>3</td>\n",
       "      <td>Braund, Mr. Owen Harris</td>\n",
       "      <td>male</td>\n",
       "      <td>22.0</td>\n",
       "      <td>1</td>\n",
       "      <td>0</td>\n",
       "      <td>A/5 21171</td>\n",
       "      <td>7.2500</td>\n",
       "      <td>S</td>\n",
       "    </tr>\n",
       "    <tr>\n",
       "      <th>1</th>\n",
       "      <td>2</td>\n",
       "      <td>1</td>\n",
       "      <td>1</td>\n",
       "      <td>Cumings, Mrs. John Bradley (Florence Briggs Th...</td>\n",
       "      <td>female</td>\n",
       "      <td>38.0</td>\n",
       "      <td>1</td>\n",
       "      <td>0</td>\n",
       "      <td>PC 17599</td>\n",
       "      <td>71.2833</td>\n",
       "      <td>C</td>\n",
       "    </tr>\n",
       "    <tr>\n",
       "      <th>2</th>\n",
       "      <td>3</td>\n",
       "      <td>1</td>\n",
       "      <td>3</td>\n",
       "      <td>Heikkinen, Miss. Laina</td>\n",
       "      <td>female</td>\n",
       "      <td>26.0</td>\n",
       "      <td>0</td>\n",
       "      <td>0</td>\n",
       "      <td>STON/O2. 3101282</td>\n",
       "      <td>7.9250</td>\n",
       "      <td>S</td>\n",
       "    </tr>\n",
       "    <tr>\n",
       "      <th>3</th>\n",
       "      <td>4</td>\n",
       "      <td>1</td>\n",
       "      <td>1</td>\n",
       "      <td>Futrelle, Mrs. Jacques Heath (Lily May Peel)</td>\n",
       "      <td>female</td>\n",
       "      <td>35.0</td>\n",
       "      <td>1</td>\n",
       "      <td>0</td>\n",
       "      <td>113803</td>\n",
       "      <td>53.1000</td>\n",
       "      <td>S</td>\n",
       "    </tr>\n",
       "    <tr>\n",
       "      <th>4</th>\n",
       "      <td>5</td>\n",
       "      <td>0</td>\n",
       "      <td>3</td>\n",
       "      <td>Allen, Mr. William Henry</td>\n",
       "      <td>male</td>\n",
       "      <td>35.0</td>\n",
       "      <td>0</td>\n",
       "      <td>0</td>\n",
       "      <td>373450</td>\n",
       "      <td>8.0500</td>\n",
       "      <td>S</td>\n",
       "    </tr>\n",
       "  </tbody>\n",
       "</table>\n",
       "</div>"
      ],
      "text/plain": [
       "   PassengerId  Survived  Pclass  \\\n",
       "0            1         0       3   \n",
       "1            2         1       1   \n",
       "2            3         1       3   \n",
       "3            4         1       1   \n",
       "4            5         0       3   \n",
       "\n",
       "                                                Name     Sex   Age  SibSp  \\\n",
       "0                            Braund, Mr. Owen Harris    male  22.0      1   \n",
       "1  Cumings, Mrs. John Bradley (Florence Briggs Th...  female  38.0      1   \n",
       "2                             Heikkinen, Miss. Laina  female  26.0      0   \n",
       "3       Futrelle, Mrs. Jacques Heath (Lily May Peel)  female  35.0      1   \n",
       "4                           Allen, Mr. William Henry    male  35.0      0   \n",
       "\n",
       "   Parch            Ticket     Fare Embarked  \n",
       "0      0         A/5 21171   7.2500        S  \n",
       "1      0          PC 17599  71.2833        C  \n",
       "2      0  STON/O2. 3101282   7.9250        S  \n",
       "3      0            113803  53.1000        S  \n",
       "4      0            373450   8.0500        S  "
      ]
     },
     "execution_count": 14,
     "metadata": {},
     "output_type": "execute_result"
    }
   ],
   "source": [
    "df.head()"
   ]
  },
  {
   "cell_type": "markdown",
   "metadata": {
    "_cell_guid": "00a48bca-7285-4617-a5d1-60d076b2ca23",
    "_uuid": "27ac23a1c5ad994da4f378136d178297f5388cc5"
   },
   "source": [
    "It is not very difficult to see that Passenger ID, Name and Ticket are of no value to us. It is not possible extract any meaningful information out of them. We shall drop these features.\n",
    "\n",
    "**Note:** If we had a few missing sex values, realize that we could have used the names (more specifically, the salutations) to deduce the gender. But since we already have all non null gender values, it isn't of much use."
   ]
  },
  {
   "cell_type": "code",
   "execution_count": 15,
   "metadata": {
    "_cell_guid": "f119d779-9ffe-4972-ba73-380881c2a8f9",
    "_uuid": "8f0eb40a8b91386176e3632862fa4a813fa83f1e",
    "collapsed": true
   },
   "outputs": [
    {
     "data": {
      "text/html": [
       "<div>\n",
       "<style>\n",
       "    .dataframe thead tr:only-child th {\n",
       "        text-align: right;\n",
       "    }\n",
       "\n",
       "    .dataframe thead th {\n",
       "        text-align: left;\n",
       "    }\n",
       "\n",
       "    .dataframe tbody tr th {\n",
       "        vertical-align: top;\n",
       "    }\n",
       "</style>\n",
       "<table border=\"1\" class=\"dataframe\">\n",
       "  <thead>\n",
       "    <tr style=\"text-align: right;\">\n",
       "      <th></th>\n",
       "      <th>Survived</th>\n",
       "      <th>Pclass</th>\n",
       "      <th>Sex</th>\n",
       "      <th>Age</th>\n",
       "      <th>SibSp</th>\n",
       "      <th>Parch</th>\n",
       "      <th>Fare</th>\n",
       "      <th>Embarked</th>\n",
       "    </tr>\n",
       "  </thead>\n",
       "  <tbody>\n",
       "    <tr>\n",
       "      <th>0</th>\n",
       "      <td>0</td>\n",
       "      <td>3</td>\n",
       "      <td>male</td>\n",
       "      <td>22.0</td>\n",
       "      <td>1</td>\n",
       "      <td>0</td>\n",
       "      <td>7.2500</td>\n",
       "      <td>S</td>\n",
       "    </tr>\n",
       "    <tr>\n",
       "      <th>1</th>\n",
       "      <td>1</td>\n",
       "      <td>1</td>\n",
       "      <td>female</td>\n",
       "      <td>38.0</td>\n",
       "      <td>1</td>\n",
       "      <td>0</td>\n",
       "      <td>71.2833</td>\n",
       "      <td>C</td>\n",
       "    </tr>\n",
       "    <tr>\n",
       "      <th>2</th>\n",
       "      <td>1</td>\n",
       "      <td>3</td>\n",
       "      <td>female</td>\n",
       "      <td>26.0</td>\n",
       "      <td>0</td>\n",
       "      <td>0</td>\n",
       "      <td>7.9250</td>\n",
       "      <td>S</td>\n",
       "    </tr>\n",
       "    <tr>\n",
       "      <th>3</th>\n",
       "      <td>1</td>\n",
       "      <td>1</td>\n",
       "      <td>female</td>\n",
       "      <td>35.0</td>\n",
       "      <td>1</td>\n",
       "      <td>0</td>\n",
       "      <td>53.1000</td>\n",
       "      <td>S</td>\n",
       "    </tr>\n",
       "    <tr>\n",
       "      <th>4</th>\n",
       "      <td>0</td>\n",
       "      <td>3</td>\n",
       "      <td>male</td>\n",
       "      <td>35.0</td>\n",
       "      <td>0</td>\n",
       "      <td>0</td>\n",
       "      <td>8.0500</td>\n",
       "      <td>S</td>\n",
       "    </tr>\n",
       "  </tbody>\n",
       "</table>\n",
       "</div>"
      ],
      "text/plain": [
       "   Survived  Pclass     Sex   Age  SibSp  Parch     Fare Embarked\n",
       "0         0       3    male  22.0      1      0   7.2500        S\n",
       "1         1       1  female  38.0      1      0  71.2833        C\n",
       "2         1       3  female  26.0      0      0   7.9250        S\n",
       "3         1       1  female  35.0      1      0  53.1000        S\n",
       "4         0       3    male  35.0      0      0   8.0500        S"
      ]
     },
     "execution_count": 15,
     "metadata": {},
     "output_type": "execute_result"
    }
   ],
   "source": [
    "df = df.drop(['PassengerId', 'Name', 'Ticket'], axis=1)\n",
    "df.head()"
   ]
  },
  {
   "cell_type": "markdown",
   "metadata": {
    "_cell_guid": "a2abf34a-e404-4ff0-a3c3-73c6b2223f6f",
    "_uuid": "146aef0ae23c067fe85a3defb95d3c61d2ad65cb"
   },
   "source": [
    "Let us find the distribution of people in the different classes. Seaborn makes this incredibly easy for us."
   ]
  },
  {
   "cell_type": "code",
   "execution_count": 16,
   "metadata": {
    "_cell_guid": "f21e0826-4168-4c4b-bed5-a14cc04658bd",
    "_uuid": "da60f09d9ffc8183ecc2b391a3e39c7d1c7dceba",
    "collapsed": true
   },
   "outputs": [
    {
     "data": {
      "text/plain": [
       "<matplotlib.axes._subplots.AxesSubplot at 0x7fde57a97860>"
      ]
     },
     "execution_count": 16,
     "metadata": {},
     "output_type": "execute_result"
    },
    {
     "data": {
      "image/png": "[encoded data removed]",
      "text/plain": [
       "<matplotlib.figure.Figure at 0x7fde57beb780>"
      ]
     },
     "metadata": {},
     "output_type": "display_data"
    }
   ],
   "source": [
    "sns.countplot(x='Pclass', data=df)"
   ]
  },
  {
   "cell_type": "markdown",
   "metadata": {
    "_cell_guid": "fafffc27-118a-4122-849e-dbc57551daf1",
    "_uuid": "ad9218e306a3fe49e1eda6c662343ed7a8cf4a03"
   },
   "source": [
    "We can see that the majority of people were in the third class. Based on our intuition and our experience watching the movie, we know that first class passengers were given preference when it came to alloting life boats. Is the probability of survival related to your passenger class? Let us find out by plotting this value."
   ]
  },
  {
   "cell_type": "code",
   "execution_count": 17,
   "metadata": {
    "_cell_guid": "a90a3c21-66fa-4bd4-b7ef-76ee37a78673",
    "_uuid": "b52b394fce1c3656948047ef50c27459506a8235",
    "collapsed": true
   },
   "outputs": [
    {
     "data": {
      "text/plain": [
       "<seaborn.axisgrid.PairGrid at 0x7fde57a228d0>"
      ]
     },
     "execution_count": 17,
     "metadata": {},
     "output_type": "execute_result"
    },
    {
     "data": {
      "image/png": "[encoded data removed]",
      "text/plain": [
       "<matplotlib.figure.Figure at 0x7fde57a220f0>"
      ]
     },
     "metadata": {},
     "output_type": "display_data"
    }
   ],
   "source": [
    "sns.set(style=\"whitegrid\")\n",
    "g = sns.PairGrid(data=df, x_vars=['Pclass'], y_vars='Survived', size=5)\n",
    "g.map(sns.pointplot, color=sns.xkcd_rgb[\"plum\"])\n",
    "g.set(ylim=(0, 1))"
   ]
  },
  {
   "cell_type": "markdown",
   "metadata": {
    "_cell_guid": "f966c706-0546-4ad5-b719-700d2aea1e3f",
    "_uuid": "874e5553b6348647f9014ecd824cdee2dc28ce8e"
   },
   "source": [
    "We see that this is indeed the case. The survival probability decreased as the class decreased. First class passengers were likeliest to survive and the third class passengers were the least likely.\n",
    "\n",
    "Another adage we are familiar with is the 'Women and Children first' policy to evacuate the ship. This leads us to believe that women and children were more likely to survive as compared to men. We do not have explicit data about children but we can plot the survival probability of men and women as above."
   ]
  },
  {
   "cell_type": "code",
   "execution_count": 18,
   "metadata": {
    "_cell_guid": "2ee26825-ac81-4da7-aaed-c28c4e163447",
    "_uuid": "507be0af2a8850610f521ecd86ba72e8c62d205f",
    "collapsed": true
   },
   "outputs": [
    {
     "data": {
      "text/plain": [
       "<seaborn.axisgrid.PairGrid at 0x7fde57bb3780>"
      ]
     },
     "execution_count": 18,
     "metadata": {},
     "output_type": "execute_result"
    },
    {
     "data": {
      "image/png": "[encoded data removed]",
      "text/plain": [
       "<matplotlib.figure.Figure at 0x7fde57bb3470>"
      ]
     },
     "metadata": {},
     "output_type": "display_data"
    }
   ],
   "source": [
    "h = sns.PairGrid(data=df, x_vars=['Sex'], y_vars='Survived', size=5)\n",
    "h.map(sns.pointplot)\n",
    "h.set(ylim=(0, 1))"
   ]
  },
  {
   "cell_type": "markdown",
   "metadata": {
    "_cell_guid": "39fc8342-b291-4574-b9d4-17142571c27c",
    "_uuid": "7b7c9ca550803be80db4ba114dfc8cf373fb080b"
   },
   "source": [
    "We notice that women have almost a 4x better chance of surviving than men. Gender is therefore, a very important feature. As noted earlier, we do not have explicit data about children. But since we have data about the age, we can create a new feature which identifies a passenger as a child.\n",
    "\n",
    "Let us set the cutoff age at 15. Anyone below the age of 15 will be considered a child."
   ]
  },
  {
   "cell_type": "code",
   "execution_count": 19,
   "metadata": {
    "_cell_guid": "65dfd1c2-3a10-46c3-9662-815df84d7d76",
    "_uuid": "e4f12f0e3b8d170a127e0b346084cc526d3edc4f",
    "collapsed": true
   },
   "outputs": [],
   "source": [
    "df['is_child'] = df['Age'].apply(lambda x: 1 if x <= 15 else 0)"
   ]
  },
  {
   "cell_type": "code",
   "execution_count": 20,
   "metadata": {
    "_cell_guid": "c241d3f9-aaf2-46a6-9196-f8bd1de91618",
    "_uuid": "43eb4feb874d81fbcf4d5ac7fabb39d05542b06e",
    "collapsed": true
   },
   "outputs": [
    {
     "data": {
      "text/plain": [
       "<seaborn.axisgrid.PairGrid at 0x7fde5784c630>"
      ]
     },
     "execution_count": 20,
     "metadata": {},
     "output_type": "execute_result"
    },
    {
     "data": {
      "image/png": "[encoded data removed]",
      "text/plain": [
       "<matplotlib.figure.Figure at 0x7fde5784c668>"
      ]
     },
     "metadata": {},
     "output_type": "display_data"
    }
   ],
   "source": [
    "i = sns.PairGrid(data=df, x_vars=['is_child'], y_vars='Survived', size=5)\n",
    "i.map(sns.pointplot)\n",
    "i.set(ylim=(0, 1))"
   ]
  },
  {
   "cell_type": "markdown",
   "metadata": {
    "_cell_guid": "3fe88076-6946-4203-83cf-c9907cd8d586",
    "_uuid": "b1459126adc2f4cf563eba38fe14f74dafffc75f"
   },
   "source": [
    "There is a slightly better chance you will survive if you are a child. However, the difference is not as drastic as was observed with genders. \n",
    "\n",
    "Finally, let us turn our attention to the number of siblings, spouses and children. These are contained as two separate features which does not give us any additional intuitive sense as compared to if it was just one variable.\n",
    "Let us reduce our dimensions by adding these two variables."
   ]
  },
  {
   "cell_type": "code",
   "execution_count": 21,
   "metadata": {
    "_cell_guid": "7a029da1-ef47-4ce6-beb5-eec610295da1",
    "_uuid": "959f2221b277d5c463fa6c3a2a691c1a19ec0907",
    "collapsed": true
   },
   "outputs": [],
   "source": [
    "df['family'] = df['SibSp'] + df['Parch']\n",
    "df = df.drop(['SibSp', 'Parch'], axis=1)"
   ]
  },
  {
   "cell_type": "markdown",
   "metadata": {
    "_cell_guid": "e86e0188-87ef-4018-b950-0f7e17baac25",
    "_uuid": "8d8db24b1cb63307b31120c3b832badeb9fac78f"
   },
   "source": [
    "One last feature that we are going to engineer is if the passenger was travelling alone. We could hypothesize that a person traveling alone would have lower chances of surviving as they would have little to no influence on getting a place on a life boat and would most likely belong to a lower class."
   ]
  },
  {
   "cell_type": "code",
   "execution_count": 22,
   "metadata": {
    "_cell_guid": "7bd990f5-d0c9-4e78-a7dc-b50d481b7a2c",
    "_uuid": "8a03721cf12d6f7314999a542158a19be5b19434",
    "collapsed": true
   },
   "outputs": [],
   "source": [
    "df['is_alone'] = df['family'].apply(lambda x: 1 if x == 0 else 0)"
   ]
  },
  {
   "cell_type": "markdown",
   "metadata": {
    "_cell_guid": "aa46ea95-871e-4899-a984-27c82b46b149",
    "_uuid": "545f93f9b72fca6c0d217a2608c21e9e90b55cd3"
   },
   "source": [
    "Finally, we need to convert our numerical values. Currently, we have two features represented with alphabetic characters: Sex and Embarked.\n",
    "\n",
    "Let us encode sex in the following way: 1 will represent female and 0 will represent male. To make it more readable, we will call this feature is_female."
   ]
  },
  {
   "cell_type": "code",
   "execution_count": 23,
   "metadata": {
    "_cell_guid": "317d602a-e790-495c-807d-6ad0493d599a",
    "_uuid": "28e81e531b9ecb3b1dc69d1a0a8afbca3ba9c556",
    "collapsed": true
   },
   "outputs": [
    {
     "data": {
      "text/html": [
       "<div>\n",
       "<style>\n",
       "    .dataframe thead tr:only-child th {\n",
       "        text-align: right;\n",
       "    }\n",
       "\n",
       "    .dataframe thead th {\n",
       "        text-align: left;\n",
       "    }\n",
       "\n",
       "    .dataframe tbody tr th {\n",
       "        vertical-align: top;\n",
       "    }\n",
       "</style>\n",
       "<table border=\"1\" class=\"dataframe\">\n",
       "  <thead>\n",
       "    <tr style=\"text-align: right;\">\n",
       "      <th></th>\n",
       "      <th>Survived</th>\n",
       "      <th>Pclass</th>\n",
       "      <th>Age</th>\n",
       "      <th>Fare</th>\n",
       "      <th>Embarked</th>\n",
       "      <th>is_child</th>\n",
       "      <th>family</th>\n",
       "      <th>is_alone</th>\n",
       "      <th>is_female</th>\n",
       "    </tr>\n",
       "  </thead>\n",
       "  <tbody>\n",
       "    <tr>\n",
       "      <th>0</th>\n",
       "      <td>0</td>\n",
       "      <td>3</td>\n",
       "      <td>22.0</td>\n",
       "      <td>7.2500</td>\n",
       "      <td>S</td>\n",
       "      <td>0</td>\n",
       "      <td>1</td>\n",
       "      <td>0</td>\n",
       "      <td>0</td>\n",
       "    </tr>\n",
       "    <tr>\n",
       "      <th>1</th>\n",
       "      <td>1</td>\n",
       "      <td>1</td>\n",
       "      <td>38.0</td>\n",
       "      <td>71.2833</td>\n",
       "      <td>C</td>\n",
       "      <td>0</td>\n",
       "      <td>1</td>\n",
       "      <td>0</td>\n",
       "      <td>1</td>\n",
       "    </tr>\n",
       "    <tr>\n",
       "      <th>2</th>\n",
       "      <td>1</td>\n",
       "      <td>3</td>\n",
       "      <td>26.0</td>\n",
       "      <td>7.9250</td>\n",
       "      <td>S</td>\n",
       "      <td>0</td>\n",
       "      <td>0</td>\n",
       "      <td>1</td>\n",
       "      <td>1</td>\n",
       "    </tr>\n",
       "    <tr>\n",
       "      <th>3</th>\n",
       "      <td>1</td>\n",
       "      <td>1</td>\n",
       "      <td>35.0</td>\n",
       "      <td>53.1000</td>\n",
       "      <td>S</td>\n",
       "      <td>0</td>\n",
       "      <td>1</td>\n",
       "      <td>0</td>\n",
       "      <td>1</td>\n",
       "    </tr>\n",
       "    <tr>\n",
       "      <th>4</th>\n",
       "      <td>0</td>\n",
       "      <td>3</td>\n",
       "      <td>35.0</td>\n",
       "      <td>8.0500</td>\n",
       "      <td>S</td>\n",
       "      <td>0</td>\n",
       "      <td>0</td>\n",
       "      <td>1</td>\n",
       "      <td>0</td>\n",
       "    </tr>\n",
       "  </tbody>\n",
       "</table>\n",
       "</div>"
      ],
      "text/plain": [
       "   Survived  Pclass   Age     Fare Embarked  is_child  family  is_alone  \\\n",
       "0         0       3  22.0   7.2500        S         0       1         0   \n",
       "1         1       1  38.0  71.2833        C         0       1         0   \n",
       "2         1       3  26.0   7.9250        S         0       0         1   \n",
       "3         1       1  35.0  53.1000        S         0       1         0   \n",
       "4         0       3  35.0   8.0500        S         0       0         1   \n",
       "\n",
       "   is_female  \n",
       "0          0  \n",
       "1          1  \n",
       "2          1  \n",
       "3          1  \n",
       "4          0  "
      ]
     },
     "execution_count": 23,
     "metadata": {},
     "output_type": "execute_result"
    }
   ],
   "source": [
    "df['is_female'] = df['Sex'].apply(lambda x: 1 if x == 'female' else 0)\n",
    "df = df.drop('Sex', axis=1)\n",
    "df.head()"
   ]
  },
  {
   "cell_type": "markdown",
   "metadata": {
    "_cell_guid": "5e9c6ba8-6241-48fa-ae22-b48561f56dcd",
    "_uuid": "f5132443a74a628a94e8707727548ab73aee7f43"
   },
   "source": [
    "Finally, for the embarked feature, we will perform a process known as **one hot encoding**. This is an extremely potent method to convert categorical variables with a relatively low number of categories. Upon performing one hot encoding, our embarked feature will be replaced with 3 binary variables: **is_S, is_C and is_Q.** This is what our final dataset looks like:"
   ]
  },
  {
   "cell_type": "code",
   "execution_count": 24,
   "metadata": {
    "_cell_guid": "a1da9ef3-0406-4364-8083-8b6a6aae234b",
    "_uuid": "b31b710c6bcdd6975ff7807edadb438ca416aa56",
    "collapsed": true
   },
   "outputs": [],
   "source": [
    "df = pd.get_dummies(df, prefix=['is'])"
   ]
  },
  {
   "cell_type": "code",
   "execution_count": 25,
   "metadata": {
    "_cell_guid": "80afd929-291a-4ed7-a8f2-ad4a72c9a53b",
    "_uuid": "502fca09826417fadbc4b4ee09118e49d25ed022",
    "collapsed": true
   },
   "outputs": [
    {
     "data": {
      "text/html": [
       "<div>\n",
       "<style>\n",
       "    .dataframe thead tr:only-child th {\n",
       "        text-align: right;\n",
       "    }\n",
       "\n",
       "    .dataframe thead th {\n",
       "        text-align: left;\n",
       "    }\n",
       "\n",
       "    .dataframe tbody tr th {\n",
       "        vertical-align: top;\n",
       "    }\n",
       "</style>\n",
       "<table border=\"1\" class=\"dataframe\">\n",
       "  <thead>\n",
       "    <tr style=\"text-align: right;\">\n",
       "      <th></th>\n",
       "      <th>Survived</th>\n",
       "      <th>Pclass</th>\n",
       "      <th>Age</th>\n",
       "      <th>Fare</th>\n",
       "      <th>is_child</th>\n",
       "      <th>family</th>\n",
       "      <th>is_alone</th>\n",
       "      <th>is_female</th>\n",
       "      <th>is_C</th>\n",
       "      <th>is_Q</th>\n",
       "      <th>is_S</th>\n",
       "    </tr>\n",
       "  </thead>\n",
       "  <tbody>\n",
       "    <tr>\n",
       "      <th>0</th>\n",
       "      <td>0</td>\n",
       "      <td>3</td>\n",
       "      <td>22.0</td>\n",
       "      <td>7.2500</td>\n",
       "      <td>0</td>\n",
       "      <td>1</td>\n",
       "      <td>0</td>\n",
       "      <td>0</td>\n",
       "      <td>0</td>\n",
       "      <td>0</td>\n",
       "      <td>1</td>\n",
       "    </tr>\n",
       "    <tr>\n",
       "      <th>1</th>\n",
       "      <td>1</td>\n",
       "      <td>1</td>\n",
       "      <td>38.0</td>\n",
       "      <td>71.2833</td>\n",
       "      <td>0</td>\n",
       "      <td>1</td>\n",
       "      <td>0</td>\n",
       "      <td>1</td>\n",
       "      <td>1</td>\n",
       "      <td>0</td>\n",
       "      <td>0</td>\n",
       "    </tr>\n",
       "    <tr>\n",
       "      <th>2</th>\n",
       "      <td>1</td>\n",
       "      <td>3</td>\n",
       "      <td>26.0</td>\n",
       "      <td>7.9250</td>\n",
       "      <td>0</td>\n",
       "      <td>0</td>\n",
       "      <td>1</td>\n",
       "      <td>1</td>\n",
       "      <td>0</td>\n",
       "      <td>0</td>\n",
       "      <td>1</td>\n",
       "    </tr>\n",
       "    <tr>\n",
       "      <th>3</th>\n",
       "      <td>1</td>\n",
       "      <td>1</td>\n",
       "      <td>35.0</td>\n",
       "      <td>53.1000</td>\n",
       "      <td>0</td>\n",
       "      <td>1</td>\n",
       "      <td>0</td>\n",
       "      <td>1</td>\n",
       "      <td>0</td>\n",
       "      <td>0</td>\n",
       "      <td>1</td>\n",
       "    </tr>\n",
       "    <tr>\n",
       "      <th>4</th>\n",
       "      <td>0</td>\n",
       "      <td>3</td>\n",
       "      <td>35.0</td>\n",
       "      <td>8.0500</td>\n",
       "      <td>0</td>\n",
       "      <td>0</td>\n",
       "      <td>1</td>\n",
       "      <td>0</td>\n",
       "      <td>0</td>\n",
       "      <td>0</td>\n",
       "      <td>1</td>\n",
       "    </tr>\n",
       "  </tbody>\n",
       "</table>\n",
       "</div>"
      ],
      "text/plain": [
       "   Survived  Pclass   Age     Fare  is_child  family  is_alone  is_female  \\\n",
       "0         0       3  22.0   7.2500         0       1         0          0   \n",
       "1         1       1  38.0  71.2833         0       1         0          1   \n",
       "2         1       3  26.0   7.9250         0       0         1          1   \n",
       "3         1       1  35.0  53.1000         0       1         0          1   \n",
       "4         0       3  35.0   8.0500         0       0         1          0   \n",
       "\n",
       "   is_C  is_Q  is_S  \n",
       "0     0     0     1  \n",
       "1     1     0     0  \n",
       "2     0     0     1  \n",
       "3     0     0     1  \n",
       "4     0     0     1  "
      ]
     },
     "execution_count": 25,
     "metadata": {},
     "output_type": "execute_result"
    }
   ],
   "source": [
    "df.head()"
   ]
  },
  {
   "cell_type": "markdown",
   "metadata": {
    "_cell_guid": "5f4d700c-e50b-4095-b7aa-294467acd493",
    "_uuid": "46cbcd17fcc7666de45ca58a8cfc4a60818bd9f1"
   },
   "source": [
    "## Machine Learning\n",
    "\n",
    "We have now arrived at the prediction part of the analysis. We will be using classifiers from Python's sklearn package. It is important to have a solid understanding of the major regression and classification algorithms (SVM, KNN, K-Means, Decision Trees, Bagging, Boosting, etc.). I strongly recommend going through Harvard's **CS 109- Intro to Data Science** lectures for this purpose. \n",
    "\n",
    "### Scikit Learn Resources\n",
    "1. **Machine Learning with sklearn Part 1:** https://www.youtube.com/watch?v=OB1reY6IX-o&t=5896s\n",
    "2. **Machine Learning with sklearn Part 2:** https://www.youtube.com/watch?v=Cte8FYCpylk&t=11s\n",
    "\n",
    "The first step is to split our data into the training data and the labelling class. They are usually denoted as X and y."
   ]
  },
  {
   "cell_type": "code",
   "execution_count": 26,
   "metadata": {
    "_cell_guid": "058ac2b0-9cbd-4dbf-ad81-08f3dc9a8ed5",
    "_uuid": "9922443b1bcb0afc2430a03332f16ae64c54cd78",
    "collapsed": true
   },
   "outputs": [],
   "source": [
    "X, y = df.drop(['Survived'], axis=1), df['Survived']"
   ]
  },
  {
   "cell_type": "markdown",
   "metadata": {
    "_cell_guid": "a7e322be-0c9a-4c7c-ad69-ba98ca9a16eb",
    "_uuid": "6392fa1c4f9398e703eb684aea04bc001841c7de"
   },
   "source": [
    "Next, we need to be able to test the accuracy of our classifier. In order to do this, we have to split the data available to us into training and test data. I usually take 75% of the data for training and 15% for testing. Feel free to play with the distribution depending on the size of the training data available to you.\n",
    "\n",
    "Scikit-learn gives us a very handy function to split our data into training and test data."
   ]
  },
  {
   "cell_type": "code",
   "execution_count": 27,
   "metadata": {
    "_cell_guid": "bb3ffb02-f546-45c7-ae0a-83050561cb9b",
    "_uuid": "7cc7b29b1800bd3eb0c95b24f4d6e5688cce22ab",
    "collapsed": true
   },
   "outputs": [],
   "source": [
    "train_X, test_X, train_y, test_y = train_test_split(X, y, train_size=0.75, test_size=0.25, stratify=y)"
   ]
  },
  {
   "cell_type": "code",
   "execution_count": 28,
   "metadata": {
    "_cell_guid": "ae14c33d-aeb1-4838-9422-dd032cf2f57e",
    "_uuid": "d1efd22de27583ecbb82d199c16e92ea47cae112",
    "collapsed": true
   },
   "outputs": [
    {
     "data": {
      "text/plain": [
       "0    549\n",
       "1    342\n",
       "Name: Survived, dtype: int64"
      ]
     },
     "execution_count": 28,
     "metadata": {},
     "output_type": "execute_result"
    }
   ],
   "source": [
    "y.value_counts()"
   ]
  },
  {
   "cell_type": "markdown",
   "metadata": {
    "_cell_guid": "f8356a15-bb00-4df3-b671-db95164bf905",
    "_uuid": "f7d1e3c448d0af1004bd7492386b16e3978b4b24"
   },
   "source": [
    "Our classes seem to be reasonably well balanced. We do not have to resort to methods that counter severe imbalance of classes. We are ready to train our classifier and evaluate its prediction score. The accuracy reported will be a good measure of the performance of our classifier (on account of balanced classes).\n",
    "\n",
    "Let us train a Decision Tree Classifier first. I will define a method in order to prevent repetition of code when we are trying to test multiple classifiers."
   ]
  },
  {
   "cell_type": "code",
   "execution_count": 29,
   "metadata": {
    "_cell_guid": "966f3673-f4cb-4cc7-8e03-a75efc455bbe",
    "_uuid": "459563069f158481605f4124bedb05ae6abb53a4",
    "collapsed": true
   },
   "outputs": [],
   "source": [
    "def build_classifier(model):\n",
    "    classifier = model()\n",
    "    classifier.fit(train_X, train_y)\n",
    "    print(classifier.score(test_X, test_y))\n",
    "    return classifier"
   ]
  },
  {
   "cell_type": "code",
   "execution_count": 30,
   "metadata": {
    "_cell_guid": "2634e39b-d86b-43b4-8191-4270e27378f2",
    "_uuid": "63931bc95466b90071725bfc731b2ec5bb63f795",
    "collapsed": true
   },
   "outputs": [
    {
     "name": "stdout",
     "output_type": "stream",
     "text": [
      "0.856502242152\n"
     ]
    }
   ],
   "source": [
    "decision_tree = build_classifier(GradientBoostingClassifier)"
   ]
  },
  {
   "cell_type": "code",
   "execution_count": 31,
   "metadata": {
    "_cell_guid": "58985230-957e-41ed-a81f-9dec1bf68cb3",
    "_uuid": "c1cd10b310921e21cf178082820708a3ab37143b",
    "collapsed": true
   },
   "outputs": [
    {
     "name": "stdout",
     "output_type": "stream",
     "text": [
      "0.686098654709\n"
     ]
    }
   ],
   "source": [
    "knn = build_classifier(KNeighborsClassifier)"
   ]
  },
  {
   "cell_type": "markdown",
   "metadata": {
    "_cell_guid": "4ffbd6c8-3957-4ec8-87ed-0a4aa0bff1fc",
    "_uuid": "1ea8af04e693d2dddf4e9f8aa5ae19c05b407f0b"
   },
   "source": [
    "I usually use the Gradient Boosting Classifier as my classifier of choice as it tends to yield the best results, on average. We get an average of 80+% accuracy using Gradient Boosting. This is pretty good accuracy (for starters). Improving this accuracy would depend on coming up with newer, better fatures and sometimes applying huge ensembles. These topics will not be covered in this notebook.\n",
    "\n",
    "What we've covered is pretty basic material. To get really good, you need to know how to visualise your data well. This sometimes requires tools much more advanced than what we've used. Domain knowledge of the competition theme also helps (we came up with the child feature because of our experience watching the Titanic movie). Finalluy, the extra mile is achieved by building strong ensembles and hyperparameter tuning. \n",
    "\n",
    "Nevertheless, I hope I've given you a good idea of how the proceedings go in a typical data science competition. The Titanic problem is only scratching the surface. But hopefully, it has provided you good ground and confidence to get started with analysing datasets of your own."
   ]
  },
  {
   "cell_type": "code",
   "execution_count": 32,
   "metadata": {
    "_cell_guid": "21a64e53-1e67-4725-882f-302ea5303a0d",
    "_uuid": "e1c7cddad03a18150949660284e246aa211af533",
    "collapsed": true
   },
   "outputs": [],
   "source": []
  }
 ],
 "metadata": {
  "kernelspec": {
   "display_name": "Python 3",
   "language": "python",
   "name": "python3"
  },
  "language_info": {
   "codemirror_mode": {
    "name": "ipython",
    "version": 3
   },
   "file_extension": ".py",
   "mimetype": "text/x-python",
   "name": "python",
   "nbconvert_exporter": "python",
   "pygments_lexer": "ipython3",
   "version": "3.6.1"
  }
 },
 "nbformat": 4,
 "nbformat_minor": 1
}
