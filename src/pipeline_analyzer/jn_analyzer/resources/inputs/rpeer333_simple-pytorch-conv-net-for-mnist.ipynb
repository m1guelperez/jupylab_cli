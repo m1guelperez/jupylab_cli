{
 "cells": [
  {
   "cell_type": "markdown",
   "metadata": {},
   "source": [
    "# Simple conv-net for MNIST implemented in pytorch"
   ]
  },
  {
   "cell_type": "code",
   "execution_count": 1,
   "metadata": {
    "_cell_guid": "b1076dfc-b9ad-4769-8c92-a6c4dae69d19",
    "_uuid": "8f2839f25d086af736a60e9eeb907d3b93b6e0e5"
   },
   "outputs": [],
   "source": [
    "import numpy as np\n",
    "import pandas as pd\n",
    "import matplotlib.pyplot as plt\n",
    "\n",
    "import torch\n",
    "import torch.nn as nn\n",
    "import torchvision.transforms as transforms\n",
    "from torch.utils.data import DataLoader\n",
    "import torchvision"
   ]
  },
  {
   "cell_type": "markdown",
   "metadata": {},
   "source": [
    "## Load and pre-process data"
   ]
  },
  {
   "cell_type": "code",
   "execution_count": 2,
   "metadata": {},
   "outputs": [
    {
     "data": {
      "text/html": [
       "<div>\n",
       "<style scoped>\n",
       "    .dataframe tbody tr th:only-of-type {\n",
       "        vertical-align: middle;\n",
       "    }\n",
       "\n",
       "    .dataframe tbody tr th {\n",
       "        vertical-align: top;\n",
       "    }\n",
       "\n",
       "    .dataframe thead th {\n",
       "        text-align: right;\n",
       "    }\n",
       "</style>\n",
       "<table border=\"1\" class=\"dataframe\">\n",
       "  <thead>\n",
       "    <tr style=\"text-align: right;\">\n",
       "      <th></th>\n",
       "      <th>label</th>\n",
       "      <th>pixel0</th>\n",
       "      <th>pixel1</th>\n",
       "      <th>pixel2</th>\n",
       "      <th>pixel3</th>\n",
       "      <th>pixel4</th>\n",
       "      <th>pixel5</th>\n",
       "      <th>pixel6</th>\n",
       "      <th>pixel7</th>\n",
       "      <th>pixel8</th>\n",
       "      <th>pixel9</th>\n",
       "      <th>pixel10</th>\n",
       "      <th>pixel11</th>\n",
       "      <th>pixel12</th>\n",
       "      <th>pixel13</th>\n",
       "      <th>pixel14</th>\n",
       "      <th>pixel15</th>\n",
       "      <th>pixel16</th>\n",
       "      <th>pixel17</th>\n",
       "      <th>pixel18</th>\n",
       "      <th>pixel19</th>\n",
       "      <th>pixel20</th>\n",
       "      <th>pixel21</th>\n",
       "      <th>pixel22</th>\n",
       "      <th>pixel23</th>\n",
       "      <th>pixel24</th>\n",
       "      <th>pixel25</th>\n",
       "      <th>pixel26</th>\n",
       "      <th>pixel27</th>\n",
       "      <th>pixel28</th>\n",
       "      <th>pixel29</th>\n",
       "      <th>pixel30</th>\n",
       "      <th>pixel31</th>\n",
       "      <th>pixel32</th>\n",
       "      <th>pixel33</th>\n",
       "      <th>pixel34</th>\n",
       "      <th>pixel35</th>\n",
       "      <th>pixel36</th>\n",
       "      <th>pixel37</th>\n",
       "      <th>pixel38</th>\n",
       "      <th>...</th>\n",
       "      <th>pixel744</th>\n",
       "      <th>pixel745</th>\n",
       "      <th>pixel746</th>\n",
       "      <th>pixel747</th>\n",
       "      <th>pixel748</th>\n",
       "      <th>pixel749</th>\n",
       "      <th>pixel750</th>\n",
       "      <th>pixel751</th>\n",
       "      <th>pixel752</th>\n",
       "      <th>pixel753</th>\n",
       "      <th>pixel754</th>\n",
       "      <th>pixel755</th>\n",
       "      <th>pixel756</th>\n",
       "      <th>pixel757</th>\n",
       "      <th>pixel758</th>\n",
       "      <th>pixel759</th>\n",
       "      <th>pixel760</th>\n",
       "      <th>pixel761</th>\n",
       "      <th>pixel762</th>\n",
       "      <th>pixel763</th>\n",
       "      <th>pixel764</th>\n",
       "      <th>pixel765</th>\n",
       "      <th>pixel766</th>\n",
       "      <th>pixel767</th>\n",
       "      <th>pixel768</th>\n",
       "      <th>pixel769</th>\n",
       "      <th>pixel770</th>\n",
       "      <th>pixel771</th>\n",
       "      <th>pixel772</th>\n",
       "      <th>pixel773</th>\n",
       "      <th>pixel774</th>\n",
       "      <th>pixel775</th>\n",
       "      <th>pixel776</th>\n",
       "      <th>pixel777</th>\n",
       "      <th>pixel778</th>\n",
       "      <th>pixel779</th>\n",
       "      <th>pixel780</th>\n",
       "      <th>pixel781</th>\n",
       "      <th>pixel782</th>\n",
       "      <th>pixel783</th>\n",
       "    </tr>\n",
       "  </thead>\n",
       "  <tbody>\n",
       "    <tr>\n",
       "      <th>0</th>\n",
       "      <td>1</td>\n",
       "      <td>0</td>\n",
       "      <td>0</td>\n",
       "      <td>0</td>\n",
       "      <td>0</td>\n",
       "      <td>0</td>\n",
       "      <td>0</td>\n",
       "      <td>0</td>\n",
       "      <td>0</td>\n",
       "      <td>0</td>\n",
       "      <td>0</td>\n",
       "      <td>0</td>\n",
       "      <td>0</td>\n",
       "      <td>0</td>\n",
       "      <td>0</td>\n",
       "      <td>0</td>\n",
       "      <td>0</td>\n",
       "      <td>0</td>\n",
       "      <td>0</td>\n",
       "      <td>0</td>\n",
       "      <td>0</td>\n",
       "      <td>0</td>\n",
       "      <td>0</td>\n",
       "      <td>0</td>\n",
       "      <td>0</td>\n",
       "      <td>0</td>\n",
       "      <td>0</td>\n",
       "      <td>0</td>\n",
       "      <td>0</td>\n",
       "      <td>0</td>\n",
       "      <td>0</td>\n",
       "      <td>0</td>\n",
       "      <td>0</td>\n",
       "      <td>0</td>\n",
       "      <td>0</td>\n",
       "      <td>0</td>\n",
       "      <td>0</td>\n",
       "      <td>0</td>\n",
       "      <td>0</td>\n",
       "      <td>0</td>\n",
       "      <td>...</td>\n",
       "      <td>0</td>\n",
       "      <td>0</td>\n",
       "      <td>0</td>\n",
       "      <td>0</td>\n",
       "      <td>0</td>\n",
       "      <td>0</td>\n",
       "      <td>0</td>\n",
       "      <td>0</td>\n",
       "      <td>0</td>\n",
       "      <td>0</td>\n",
       "      <td>0</td>\n",
       "      <td>0</td>\n",
       "      <td>0</td>\n",
       "      <td>0</td>\n",
       "      <td>0</td>\n",
       "      <td>0</td>\n",
       "      <td>0</td>\n",
       "      <td>0</td>\n",
       "      <td>0</td>\n",
       "      <td>0</td>\n",
       "      <td>0</td>\n",
       "      <td>0</td>\n",
       "      <td>0</td>\n",
       "      <td>0</td>\n",
       "      <td>0</td>\n",
       "      <td>0</td>\n",
       "      <td>0</td>\n",
       "      <td>0</td>\n",
       "      <td>0</td>\n",
       "      <td>0</td>\n",
       "      <td>0</td>\n",
       "      <td>0</td>\n",
       "      <td>0</td>\n",
       "      <td>0</td>\n",
       "      <td>0</td>\n",
       "      <td>0</td>\n",
       "      <td>0</td>\n",
       "      <td>0</td>\n",
       "      <td>0</td>\n",
       "      <td>0</td>\n",
       "    </tr>\n",
       "    <tr>\n",
       "      <th>1</th>\n",
       "      <td>0</td>\n",
       "      <td>0</td>\n",
       "      <td>0</td>\n",
       "      <td>0</td>\n",
       "      <td>0</td>\n",
       "      <td>0</td>\n",
       "      <td>0</td>\n",
       "      <td>0</td>\n",
       "      <td>0</td>\n",
       "      <td>0</td>\n",
       "      <td>0</td>\n",
       "      <td>0</td>\n",
       "      <td>0</td>\n",
       "      <td>0</td>\n",
       "      <td>0</td>\n",
       "      <td>0</td>\n",
       "      <td>0</td>\n",
       "      <td>0</td>\n",
       "      <td>0</td>\n",
       "      <td>0</td>\n",
       "      <td>0</td>\n",
       "      <td>0</td>\n",
       "      <td>0</td>\n",
       "      <td>0</td>\n",
       "      <td>0</td>\n",
       "      <td>0</td>\n",
       "      <td>0</td>\n",
       "      <td>0</td>\n",
       "      <td>0</td>\n",
       "      <td>0</td>\n",
       "      <td>0</td>\n",
       "      <td>0</td>\n",
       "      <td>0</td>\n",
       "      <td>0</td>\n",
       "      <td>0</td>\n",
       "      <td>0</td>\n",
       "      <td>0</td>\n",
       "      <td>0</td>\n",
       "      <td>0</td>\n",
       "      <td>0</td>\n",
       "      <td>...</td>\n",
       "      <td>0</td>\n",
       "      <td>0</td>\n",
       "      <td>0</td>\n",
       "      <td>0</td>\n",
       "      <td>0</td>\n",
       "      <td>0</td>\n",
       "      <td>0</td>\n",
       "      <td>0</td>\n",
       "      <td>0</td>\n",
       "      <td>0</td>\n",
       "      <td>0</td>\n",
       "      <td>0</td>\n",
       "      <td>0</td>\n",
       "      <td>0</td>\n",
       "      <td>0</td>\n",
       "      <td>0</td>\n",
       "      <td>0</td>\n",
       "      <td>0</td>\n",
       "      <td>0</td>\n",
       "      <td>0</td>\n",
       "      <td>0</td>\n",
       "      <td>0</td>\n",
       "      <td>0</td>\n",
       "      <td>0</td>\n",
       "      <td>0</td>\n",
       "      <td>0</td>\n",
       "      <td>0</td>\n",
       "      <td>0</td>\n",
       "      <td>0</td>\n",
       "      <td>0</td>\n",
       "      <td>0</td>\n",
       "      <td>0</td>\n",
       "      <td>0</td>\n",
       "      <td>0</td>\n",
       "      <td>0</td>\n",
       "      <td>0</td>\n",
       "      <td>0</td>\n",
       "      <td>0</td>\n",
       "      <td>0</td>\n",
       "      <td>0</td>\n",
       "    </tr>\n",
       "    <tr>\n",
       "      <th>2</th>\n",
       "      <td>1</td>\n",
       "      <td>0</td>\n",
       "      <td>0</td>\n",
       "      <td>0</td>\n",
       "      <td>0</td>\n",
       "      <td>0</td>\n",
       "      <td>0</td>\n",
       "      <td>0</td>\n",
       "      <td>0</td>\n",
       "      <td>0</td>\n",
       "      <td>0</td>\n",
       "      <td>0</td>\n",
       "      <td>0</td>\n",
       "      <td>0</td>\n",
       "      <td>0</td>\n",
       "      <td>0</td>\n",
       "      <td>0</td>\n",
       "      <td>0</td>\n",
       "      <td>0</td>\n",
       "      <td>0</td>\n",
       "      <td>0</td>\n",
       "      <td>0</td>\n",
       "      <td>0</td>\n",
       "      <td>0</td>\n",
       "      <td>0</td>\n",
       "      <td>0</td>\n",
       "      <td>0</td>\n",
       "      <td>0</td>\n",
       "      <td>0</td>\n",
       "      <td>0</td>\n",
       "      <td>0</td>\n",
       "      <td>0</td>\n",
       "      <td>0</td>\n",
       "      <td>0</td>\n",
       "      <td>0</td>\n",
       "      <td>0</td>\n",
       "      <td>0</td>\n",
       "      <td>0</td>\n",
       "      <td>0</td>\n",
       "      <td>0</td>\n",
       "      <td>...</td>\n",
       "      <td>0</td>\n",
       "      <td>0</td>\n",
       "      <td>0</td>\n",
       "      <td>0</td>\n",
       "      <td>0</td>\n",
       "      <td>0</td>\n",
       "      <td>0</td>\n",
       "      <td>0</td>\n",
       "      <td>0</td>\n",
       "      <td>0</td>\n",
       "      <td>0</td>\n",
       "      <td>0</td>\n",
       "      <td>0</td>\n",
       "      <td>0</td>\n",
       "      <td>0</td>\n",
       "      <td>0</td>\n",
       "      <td>0</td>\n",
       "      <td>0</td>\n",
       "      <td>0</td>\n",
       "      <td>0</td>\n",
       "      <td>0</td>\n",
       "      <td>0</td>\n",
       "      <td>0</td>\n",
       "      <td>0</td>\n",
       "      <td>0</td>\n",
       "      <td>0</td>\n",
       "      <td>0</td>\n",
       "      <td>0</td>\n",
       "      <td>0</td>\n",
       "      <td>0</td>\n",
       "      <td>0</td>\n",
       "      <td>0</td>\n",
       "      <td>0</td>\n",
       "      <td>0</td>\n",
       "      <td>0</td>\n",
       "      <td>0</td>\n",
       "      <td>0</td>\n",
       "      <td>0</td>\n",
       "      <td>0</td>\n",
       "      <td>0</td>\n",
       "    </tr>\n",
       "    <tr>\n",
       "      <th>3</th>\n",
       "      <td>4</td>\n",
       "      <td>0</td>\n",
       "      <td>0</td>\n",
       "      <td>0</td>\n",
       "      <td>0</td>\n",
       "      <td>0</td>\n",
       "      <td>0</td>\n",
       "      <td>0</td>\n",
       "      <td>0</td>\n",
       "      <td>0</td>\n",
       "      <td>0</td>\n",
       "      <td>0</td>\n",
       "      <td>0</td>\n",
       "      <td>0</td>\n",
       "      <td>0</td>\n",
       "      <td>0</td>\n",
       "      <td>0</td>\n",
       "      <td>0</td>\n",
       "      <td>0</td>\n",
       "      <td>0</td>\n",
       "      <td>0</td>\n",
       "      <td>0</td>\n",
       "      <td>0</td>\n",
       "      <td>0</td>\n",
       "      <td>0</td>\n",
       "      <td>0</td>\n",
       "      <td>0</td>\n",
       "      <td>0</td>\n",
       "      <td>0</td>\n",
       "      <td>0</td>\n",
       "      <td>0</td>\n",
       "      <td>0</td>\n",
       "      <td>0</td>\n",
       "      <td>0</td>\n",
       "      <td>0</td>\n",
       "      <td>0</td>\n",
       "      <td>0</td>\n",
       "      <td>0</td>\n",
       "      <td>0</td>\n",
       "      <td>0</td>\n",
       "      <td>...</td>\n",
       "      <td>0</td>\n",
       "      <td>0</td>\n",
       "      <td>0</td>\n",
       "      <td>0</td>\n",
       "      <td>0</td>\n",
       "      <td>0</td>\n",
       "      <td>0</td>\n",
       "      <td>0</td>\n",
       "      <td>0</td>\n",
       "      <td>0</td>\n",
       "      <td>0</td>\n",
       "      <td>0</td>\n",
       "      <td>0</td>\n",
       "      <td>0</td>\n",
       "      <td>0</td>\n",
       "      <td>0</td>\n",
       "      <td>0</td>\n",
       "      <td>0</td>\n",
       "      <td>0</td>\n",
       "      <td>0</td>\n",
       "      <td>0</td>\n",
       "      <td>0</td>\n",
       "      <td>0</td>\n",
       "      <td>0</td>\n",
       "      <td>0</td>\n",
       "      <td>0</td>\n",
       "      <td>0</td>\n",
       "      <td>0</td>\n",
       "      <td>0</td>\n",
       "      <td>0</td>\n",
       "      <td>0</td>\n",
       "      <td>0</td>\n",
       "      <td>0</td>\n",
       "      <td>0</td>\n",
       "      <td>0</td>\n",
       "      <td>0</td>\n",
       "      <td>0</td>\n",
       "      <td>0</td>\n",
       "      <td>0</td>\n",
       "      <td>0</td>\n",
       "    </tr>\n",
       "    <tr>\n",
       "      <th>4</th>\n",
       "      <td>0</td>\n",
       "      <td>0</td>\n",
       "      <td>0</td>\n",
       "      <td>0</td>\n",
       "      <td>0</td>\n",
       "      <td>0</td>\n",
       "      <td>0</td>\n",
       "      <td>0</td>\n",
       "      <td>0</td>\n",
       "      <td>0</td>\n",
       "      <td>0</td>\n",
       "      <td>0</td>\n",
       "      <td>0</td>\n",
       "      <td>0</td>\n",
       "      <td>0</td>\n",
       "      <td>0</td>\n",
       "      <td>0</td>\n",
       "      <td>0</td>\n",
       "      <td>0</td>\n",
       "      <td>0</td>\n",
       "      <td>0</td>\n",
       "      <td>0</td>\n",
       "      <td>0</td>\n",
       "      <td>0</td>\n",
       "      <td>0</td>\n",
       "      <td>0</td>\n",
       "      <td>0</td>\n",
       "      <td>0</td>\n",
       "      <td>0</td>\n",
       "      <td>0</td>\n",
       "      <td>0</td>\n",
       "      <td>0</td>\n",
       "      <td>0</td>\n",
       "      <td>0</td>\n",
       "      <td>0</td>\n",
       "      <td>0</td>\n",
       "      <td>0</td>\n",
       "      <td>0</td>\n",
       "      <td>0</td>\n",
       "      <td>0</td>\n",
       "      <td>...</td>\n",
       "      <td>0</td>\n",
       "      <td>0</td>\n",
       "      <td>0</td>\n",
       "      <td>0</td>\n",
       "      <td>0</td>\n",
       "      <td>0</td>\n",
       "      <td>0</td>\n",
       "      <td>0</td>\n",
       "      <td>0</td>\n",
       "      <td>0</td>\n",
       "      <td>0</td>\n",
       "      <td>0</td>\n",
       "      <td>0</td>\n",
       "      <td>0</td>\n",
       "      <td>0</td>\n",
       "      <td>0</td>\n",
       "      <td>0</td>\n",
       "      <td>0</td>\n",
       "      <td>0</td>\n",
       "      <td>0</td>\n",
       "      <td>0</td>\n",
       "      <td>0</td>\n",
       "      <td>0</td>\n",
       "      <td>0</td>\n",
       "      <td>0</td>\n",
       "      <td>0</td>\n",
       "      <td>0</td>\n",
       "      <td>0</td>\n",
       "      <td>0</td>\n",
       "      <td>0</td>\n",
       "      <td>0</td>\n",
       "      <td>0</td>\n",
       "      <td>0</td>\n",
       "      <td>0</td>\n",
       "      <td>0</td>\n",
       "      <td>0</td>\n",
       "      <td>0</td>\n",
       "      <td>0</td>\n",
       "      <td>0</td>\n",
       "      <td>0</td>\n",
       "    </tr>\n",
       "  </tbody>\n",
       "</table>\n",
       "</div>"
      ],
      "text/plain": [
       "   label  pixel0  pixel1    ...     pixel781  pixel782  pixel783\n",
       "0      1       0       0    ...            0         0         0\n",
       "1      0       0       0    ...            0         0         0\n",
       "2      1       0       0    ...            0         0         0\n",
       "3      4       0       0    ...            0         0         0\n",
       "4      0       0       0    ...            0         0         0\n",
       "\n",
       "[5 rows x 785 columns]"
      ]
     },
     "execution_count": 2,
     "metadata": {},
     "output_type": "execute_result"
    }
   ],
   "source": [
    "train_all = pd.read_csv('../input/train.csv')\n",
    "train_all.head()"
   ]
  },
  {
   "cell_type": "code",
   "execution_count": 3,
   "metadata": {},
   "outputs": [],
   "source": [
    "class Mnist(torch.utils.data.dataset.Dataset):\n",
    "    \"\"\"\n",
    "    Converts Kaggle's weird pixel-dataframe into pytorch-DataSet.\n",
    "    Stores transformed images in memory for quick access.\n",
    "    \"\"\"\n",
    "    \n",
    "    def __init__(self, df: pd.DataFrame, transformation=None, labeled=True):\n",
    "        \n",
    "        self.labeled = labeled\n",
    "        \n",
    "        X = df.drop('label', axis=1, errors='ignore').values\n",
    "        self.images = [torch.FloatTensor(X[i, :]).view(28, 28).unsqueeze(0) for i in range(len(df))]\n",
    "        \n",
    "        if labeled:\n",
    "            self.labels = df.label.values\n",
    "        \n",
    "        if transformation:\n",
    "            self.images = [transformation(x) for x in self.images]\n",
    "        \n",
    "    def __len__(self):\n",
    "        return len(self.images)\n",
    "    \n",
    "    def __getitem__(self, i):\n",
    "        if self.labeled:\n",
    "            return self.images[i], self.labels[i]\n",
    "        else:\n",
    "            return self.images[i]\n",
    "    \n",
    "    \n",
    "def normalize(image: torch.Tensor):\n",
    "    \"\"\" Normalize values into range [-0.5, 0.5] \"\"\"\n",
    "    return (image / 255) - 0.5\n",
    "\n",
    "def un_normalize(image: torch.Tensor):\n",
    "    return (image + 0.5) * 255"
   ]
  },
  {
   "cell_type": "markdown",
   "metadata": {},
   "source": [
    "### Split the data into training- and validation-set"
   ]
  },
  {
   "cell_type": "code",
   "execution_count": 4,
   "metadata": {},
   "outputs": [],
   "source": [
    "val_set_mask = np.random.rand(len(train_all)) < 0.2\n",
    "\n",
    "train_ds = Mnist(train_all.loc[~val_set_mask], transformation=normalize)\n",
    "val_ds   = Mnist(train_all.loc[val_set_mask], transformation=normalize)\n",
    "\n",
    "batchsize = 256\n",
    "train_loader = DataLoader(train_ds, batch_size=batchsize, shuffle=True)\n",
    "val_loader   = DataLoader(val_ds, batch_size=batchsize, shuffle=False)"
   ]
  },
  {
   "cell_type": "markdown",
   "metadata": {},
   "source": [
    "### Let's hava a look at the images from one batch"
   ]
  },
  {
   "cell_type": "code",
   "execution_count": 5,
   "metadata": {},
   "outputs": [
    {
     "data": {
      "image/png": "[encoded data removed]",
      "text/plain": [
       "<Figure size 1080x1080 with 1 Axes>"
      ]
     },
     "metadata": {
      "needs_background": "light"
     },
     "output_type": "display_data"
    }
   ],
   "source": [
    "for i, (X, y) in enumerate(train_loader):\n",
    "    pass\n",
    "\n",
    "plt.rcParams['figure.figsize'] = [15, 15]\n",
    "grid_image = un_normalize(torchvision.utils.make_grid(X, nrow=20))\n",
    "plt.imshow(grid_image.permute(1, 2, 0))\n",
    "plt.title(f'one batch ({batchsize} images)');"
   ]
  },
  {
   "cell_type": "markdown",
   "metadata": {},
   "source": [
    "## Train Conv-net"
   ]
  },
  {
   "cell_type": "code",
   "execution_count": 6,
   "metadata": {},
   "outputs": [],
   "source": [
    "def output_dim(in_dim, k=3, s=1, p=0, p_left=None, p_right=None):\n",
    "    \n",
    "    if p is not None:\n",
    "        p_left = p_right = p\n",
    "    assert p_left is not None and p_right is not None\n",
    "        \n",
    "    tmp = (in_dim - k + p_left + p_right) / s\n",
    "    out_dim = int(np.floor(tmp) + 1)\n",
    "    \n",
    "    if tmp % 1 != 0:\n",
    "        print('no exact output-dim; using Gauss-brackets.')\n",
    "    return out_dim"
   ]
  },
  {
   "cell_type": "markdown",
   "metadata": {},
   "source": [
    "#### output dimensions of convolution or pooling layers\n",
    "\n",
    "$$W_{output} = \\frac{W_{input} - F + 2*P}{S} + 1$$\n",
    "\n",
    "with:  \n",
    "W: width\n",
    "F: filter width  \n",
    "P: padding  \n",
    "S: stride\n",
    "\n",
    "... same goes for height\n",
    "\n",
    "#### feature-map dimensions in this conv-net:"
   ]
  },
  {
   "cell_type": "code",
   "execution_count": 7,
   "metadata": {},
   "outputs": [
    {
     "name": "stdout",
     "output_type": "stream",
     "text": [
      "after conv-layer 1: 28\n",
      "after max-pooling 1: 14\n",
      "\n",
      "after conv-layer 2: 14\n",
      "after max-pooling 2: 7\n",
      "\n",
      "after conv-layer 3: 7\n",
      "after max-pooling 3: 3\n"
     ]
    }
   ],
   "source": [
    "l1_dim = output_dim(in_dim=28, k=3, s=1, p=1)\n",
    "print(f'after conv-layer 1: {l1_dim}')\n",
    "l2_dim = output_dim(l1_dim, k=2, s=2)\n",
    "print(f'after max-pooling 1: {l2_dim}')\n",
    "l3_dim = output_dim(l2_dim, k=3, s=1, p=1)\n",
    "print(f'\\nafter conv-layer 2: {l3_dim}')\n",
    "l4_dim = output_dim(l3_dim, k=2, s=2)\n",
    "print(f'after max-pooling 2: {l4_dim}')\n",
    "l5_dim = output_dim(l4_dim, k=3, s=1, p=1)\n",
    "print(f'\\nafter conv-layer 3: {l5_dim}')\n",
    "l6_dim = output_dim(l5_dim, k=3, s=2)\n",
    "print(f'after max-pooling 3: {l6_dim}')\n"
   ]
  },
  {
   "cell_type": "markdown",
   "metadata": {},
   "source": [
    "Then, we have 32 channels of 3x3 feature maps, reshape those into a $32*3*3$ vector in feed it into a final fully conntected layer."
   ]
  },
  {
   "cell_type": "code",
   "execution_count": 8,
   "metadata": {},
   "outputs": [],
   "source": [
    "class SimpleConvNet(nn.Module):\n",
    "    \n",
    "    def __init__(self):\n",
    "        super().__init__()\n",
    "        \n",
    "        self.features = nn.Sequential(\n",
    "            \n",
    "            # same convolution\n",
    "            nn.Conv2d(in_channels=1, out_channels=16, kernel_size=3, stride=1, padding=1),\n",
    "            nn.ReLU(inplace=True),\n",
    "            \n",
    "            # down-sample to 14**2\n",
    "            nn.MaxPool2d(kernel_size=2, stride=2),\n",
    "            nn.ReLU(inplace=True),\n",
    "            \n",
    "            # same convolution\n",
    "            nn.Conv2d(in_channels=16, out_channels=32, kernel_size=3, stride=1, padding=1),\n",
    "            nn.ReLU(inplace=True),\n",
    "            \n",
    "            # down-sample to 7**2\n",
    "            nn.MaxPool2d(kernel_size=2, stride=2),\n",
    "            nn.ReLU(inplace=True),\n",
    "            \n",
    "            # same convolution\n",
    "            nn.Conv2d(in_channels=32, out_channels=32, kernel_size=3, stride=1, padding=1),\n",
    "            nn.ReLU(inplace=True),\n",
    "            \n",
    "            # downsample to 3x3\n",
    "            nn.MaxPool2d(kernel_size=3, stride=2),\n",
    "            nn.ReLU(inplace=True),\n",
    "        )\n",
    "        \n",
    "        self.classifier = nn.Linear(32 * 3**2, 10)\n",
    "        # note: no softmax because it is included in cost-function\n",
    "        \n",
    "    def forward(self, X):\n",
    "        \n",
    "        features = self.features(X)\n",
    "        batchsize, channels, dim, _ = features.shape\n",
    "        output = self.classifier(features.view(batchsize, channels * dim**2))\n",
    "        \n",
    "        return output"
   ]
  },
  {
   "cell_type": "code",
   "execution_count": 9,
   "metadata": {},
   "outputs": [
    {
     "name": "stdout",
     "output_type": "stream",
     "text": [
      "\t\t|--------training---------|\t\t|-------validation--------|\n",
      "epoch\t\tCE\t\tAccuracy\t\tBCE\t\tAccuracy\n",
      "0\t\t0.8925\t\t0.7359\t\t\t0.2634\t\t0.9214\n",
      "1\t\t0.1914\t\t0.9355\t\t\t0.1644\t\t0.9467\n",
      "2\t\t0.1256\t\t0.9544\t\t\t0.1199\t\t0.9605\n",
      "3\t\t0.0954\t\t0.9631\t\t\t0.0868\t\t0.9696\n",
      "4\t\t0.0751\t\t0.9704\t\t\t0.0769\t\t0.9737\n",
      "5\t\t0.0637\t\t0.9737\t\t\t0.0661\t\t0.9757\n",
      "6\t\t0.0556\t\t0.9757\t\t\t0.0664\t\t0.9783\n",
      "7\t\t0.0512\t\t0.9776\t\t\t0.0610\t\t0.9798\n",
      "8\t\t0.0454\t\t0.9792\t\t\t0.0528\t\t0.9827\n",
      "9\t\t0.0400\t\t0.9803\t\t\t0.0529\t\t0.9809\n",
      "10\t\t0.0360\t\t0.9822\t\t\t0.0483\t\t0.9841\n",
      "11\t\t0.0341\t\t0.9825\t\t\t0.0529\t\t0.9818\n",
      "12\t\t0.0309\t\t0.9838\t\t\t0.0517\t\t0.9821\n",
      "13\t\t0.0291\t\t0.9835\t\t\t0.0466\t\t0.9837\n",
      "14\t\t0.0267\t\t0.9847\t\t\t0.0507\t\t0.9832\n",
      "15\t\t0.0249\t\t0.9855\t\t\t0.0485\t\t0.9841\n",
      "16\t\t0.0225\t\t0.9859\t\t\t0.0403\t\t0.9854\n",
      "17\t\t0.0205\t\t0.9867\t\t\t0.0406\t\t0.9864\n",
      "18\t\t0.0209\t\t0.9868\t\t\t0.0431\t\t0.9865\n",
      "19\t\t0.0167\t\t0.9884\t\t\t0.0367\t\t0.9866\n",
      "20\t\t0.0182\t\t0.9876\t\t\t0.0478\t\t0.9843\n",
      "21\t\t0.0161\t\t0.9882\t\t\t0.0372\t\t0.9878\n",
      "22\t\t0.0161\t\t0.9880\t\t\t0.0362\t\t0.9876\n",
      "23\t\t0.0127\t\t0.9892\t\t\t0.0370\t\t0.9875\n",
      "24\t\t0.0123\t\t0.9896\t\t\t0.0440\t\t0.9865\n",
      "25\t\t0.0111\t\t0.9898\t\t\t0.0421\t\t0.9864\n",
      "26\t\t0.0097\t\t0.9906\t\t\t0.0394\t\t0.9880\n",
      "27\t\t0.0101\t\t0.9903\t\t\t0.0561\t\t0.9830\n",
      "28\t\t0.0085\t\t0.9907\t\t\t0.0399\t\t0.9871\n",
      "29\t\t0.0081\t\t0.9908\t\t\t0.0412\t\t0.9871\n",
      "30\t\t0.0090\t\t0.9904\t\t\t0.0641\t\t0.9831\n",
      "31\t\t0.0066\t\t0.9914\t\t\t0.0447\t\t0.9872\n",
      "32\t\t0.0069\t\t0.9912\t\t\t0.0436\t\t0.9876\n",
      "33\t\t0.0060\t\t0.9915\t\t\t0.0625\t\t0.9830\n",
      "34\t\t0.0067\t\t0.9910\t\t\t0.0385\t\t0.9891\n",
      "35\t\t0.0035\t\t0.9925\t\t\t0.0521\t\t0.9858\n",
      "36\t\t0.0048\t\t0.9919\t\t\t0.0434\t\t0.9880\n",
      "37\t\t0.0037\t\t0.9924\t\t\t0.0407\t\t0.9880\n",
      "38\t\t0.0031\t\t0.9926\t\t\t0.0601\t\t0.9839\n",
      "39\t\t0.0107\t\t0.9897\t\t\t0.0490\t\t0.9864\n",
      "40\t\t0.0097\t\t0.9896\t\t\t0.0544\t\t0.9860\n",
      "41\t\t0.0034\t\t0.9925\t\t\t0.0441\t\t0.9873\n",
      "42\t\t0.0017\t\t0.9928\t\t\t0.0427\t\t0.9875\n",
      "43\t\t0.0010\t\t0.9932\t\t\t0.0402\t\t0.9896\n",
      "44\t\t0.0008\t\t0.9931\t\t\t0.0427\t\t0.9890\n",
      "45\t\t0.0008\t\t0.9931\t\t\t0.0465\t\t0.9884\n",
      "46\t\t0.0007\t\t0.9932\t\t\t0.0446\t\t0.9893\n",
      "47\t\t0.0007\t\t0.9931\t\t\t0.0600\t\t0.9865\n",
      "48\t\t0.0005\t\t0.9932\t\t\t0.0463\t\t0.9889\n",
      "49\t\t0.0003\t\t0.9932\t\t\t0.0456\t\t0.9890\n"
     ]
    }
   ],
   "source": [
    "net = SimpleConvNet()\n",
    "net.cuda()\n",
    "\n",
    "loss_function = nn.CrossEntropyLoss()\n",
    "optimizer = torch.optim.Adam(net.parameters(), lr=0.001)\n",
    "\n",
    "\n",
    "error_df = pd.DataFrame(columns=['train_bce', 'train_acc', 'val_bce', 'val_acc'])  # track errors\n",
    "print('\\t\\t|--------training---------|\\t\\t|-------validation--------|')\n",
    "print('epoch\\t\\tCE\\t\\tAccuracy\\t\\tBCE\\t\\tAccuracy')\n",
    "\n",
    "for epoch_i in range(50):\n",
    "    \n",
    "    train_bce = train_acc = 0\n",
    "    \n",
    "    for X, y in train_loader:\n",
    "            \n",
    "        X, y = X.cuda(), y.cuda()\n",
    "        \n",
    "        optimizer.zero_grad()\n",
    "        \n",
    "        output = net(X)        \n",
    "        loss = loss_function(output, y)\n",
    "        train_bce += loss.item()\n",
    "        \n",
    "        # no softmax required because largest the largest value is also the largest value after softmax\n",
    "        prediction = torch.max(output.data, 1)[1] \n",
    "        train_acc += (prediction == y).sum().item()\n",
    "        \n",
    "        # update parameters:\n",
    "        loss.backward()   \n",
    "        optimizer.step()\n",
    "        \n",
    "    val_bce = val_acc = 0\n",
    "        \n",
    "    for X, y in val_loader:\n",
    "            \n",
    "        X, y = X.cuda(), y.cuda()\n",
    "\n",
    "        output = net(X)\n",
    "        loss = loss_function(output, y)\n",
    "        val_bce += loss.item()\n",
    "        \n",
    "        prediction = torch.max(output.data, 1)[1]\n",
    "        val_acc += (prediction == y).sum().item()\n",
    "    \n",
    "    # convert to batch loss:\n",
    "    train_bce /= len(train_loader)\n",
    "    train_acc /= (len(train_loader) * batchsize)\n",
    "    val_bce   /= len(val_loader)\n",
    "    val_acc   /= (len(val_loader) * batchsize)\n",
    "    \n",
    "    error_stats = (train_bce, train_acc, val_bce, val_acc)\n",
    "    error_df = error_df.append(pd.Series(error_stats, index=error_df.columns), ignore_index=True)\n",
    "    print('{}\\t\\t{:.4f}\\t\\t{:.4f}\\t\\t\\t{:.4f}\\t\\t{:.4f}'.format(epoch_i, *error_stats))\n"
   ]
  },
  {
   "cell_type": "markdown",
   "metadata": {},
   "source": [
    "## Analyse results"
   ]
  },
  {
   "cell_type": "code",
   "execution_count": 10,
   "metadata": {},
   "outputs": [],
   "source": [
    "def cout_net_parameters(net, count_shared=False):\n",
    "    n_params = sum(x.numel() for x in net.parameters() if x.requires_grad)\n",
    "    print(f'number of parameters: {n_params}')\n",
    "\n",
    "    \n",
    "def plot_error_curves(training_error, validation_error, error_name='error', ylim=None, save_fig=False):\n",
    "    \"\"\"\n",
    "    @ plot training and validation-error vs. training epoch\n",
    "    \"\"\"\n",
    "    assert len(training_error) == len(validation_error) and len(training_error) > 1\n",
    "    \n",
    "    fig, ax = plt.subplots()\n",
    "\n",
    "    ax.plot(range(len(training_error)), training_error)\n",
    "    ax.plot(range(len(validation_error)), validation_error)\n",
    "    ax.set_xticks(range(len(training_error) + 1, len(training_error) // 2))\n",
    "    \n",
    "    if ylim:\n",
    "        ax.set_ylim(*ylim)\n",
    "    \n",
    "    ax.set_xlabel('epoch')\n",
    "    ax.set_ylabel('CE')\n",
    "    ax.legend(('training', 'validation'))\n",
    "    ax.set_title(f'{error_name} over time')\n",
    "    \n",
    "    if save_fig:\n",
    "        fig.savefig(f'{error_name.replace(\" \", \"_\")}_learning_curve', bbox_inches='tight', transparent=True)\n",
    "    \n",
    "    plt.show();\n",
    "    \n",
    "    \n",
    "def predict_and_display(net, testset, n=10, verbose=False):\n",
    "    \"\"\"\n",
    "    Predict @n random examples from the test-set and show images + predictions\n",
    "    \"\"\"\n",
    "    for i in np.random.choice(range(len(testset)), size=n):\n",
    "        \n",
    "        X = testset[i]\n",
    "        out = net(X.unsqueeze(0).cuda()).squeeze()\n",
    "        pred = out.argmax().item()\n",
    "\n",
    "        plt.figure( figsize=(2, 2) )\n",
    "        plt.imshow(X.squeeze())\n",
    "        plt.title(f'prediction: {pred}')\n",
    "        plt.show();"
   ]
  },
  {
   "cell_type": "markdown",
   "metadata": {},
   "source": [
    "### Training- and validation- error over time"
   ]
  },
  {
   "cell_type": "code",
   "execution_count": 11,
   "metadata": {},
   "outputs": [
    {
     "name": "stdout",
     "output_type": "stream",
     "text": [
      "number of parameters: 16938\n"
     ]
    },
    {
     "data": {
      "image/png": "[encoded data removed]",
      "text/plain": [
       "<Figure size 720x360 with 1 Axes>"
      ]
     },
     "metadata": {
      "needs_background": "light"
     },
     "output_type": "display_data"
    },
    {
     "data": {
      "image/png": "[encoded data removed]",
      "text/plain": [
       "<Figure size 720x360 with 1 Axes>"
      ]
     },
     "metadata": {
      "needs_background": "light"
     },
     "output_type": "display_data"
    }
   ],
   "source": [
    "cout_net_parameters(net)\n",
    "\n",
    "plt.rcParams['figure.figsize'] = [10, 5]\n",
    "plot_error_curves(error_df.train_bce, error_df.val_bce, error_name='Binary Cross Entropy', ylim=(0, 1))\n",
    "plot_error_curves(error_df.train_acc, error_df.val_acc, error_name='Accuracy')"
   ]
  },
  {
   "cell_type": "markdown",
   "metadata": {},
   "source": [
    "### Example predictions\n",
    "\n",
    "First, let's look at a single random example and show the output in detail."
   ]
  },
  {
   "cell_type": "code",
   "execution_count": 12,
   "metadata": {},
   "outputs": [],
   "source": [
    "test_df = pd.read_csv('../input/test.csv')\n",
    "test_ds = Mnist(test_df, transformation=normalize, labeled=False)"
   ]
  },
  {
   "cell_type": "code",
   "execution_count": 13,
   "metadata": {},
   "outputs": [
    {
     "name": "stdout",
     "output_type": "stream",
     "text": [
      "\n",
      "linear layer output:\n",
      "[-4.573215007781982, -31.998214721679688, -12.97119426727295, -15.763473510742188, -29.450307846069336, 0.9026708006858826, 5.580288887023926, -22.430023193359375, 25.5274715423584, -18.953950881958008]\n",
      "\n",
      "probabilities:\n",
      "[8.461312298599713e-14, 1.0397072099462646e-25, 1.906524091556518e-17, 1.168340916442867e-18, 1.3287821578727867e-24, 2.0210846884971545e-11, 2.1729464894093553e-09, 1.4870440543006194e-21, 1.0, 4.807991187873595e-20]\n",
      "sum: 1.0\n",
      "\n",
      "max probability: 1.0\n",
      "\n",
      "prediction: 8\n"
     ]
    },
    {
     "data": {
      "image/png": "[encoded data removed]",
      "text/plain": [
       "<Figure size 720x360 with 1 Axes>"
      ]
     },
     "metadata": {
      "needs_background": "light"
     },
     "output_type": "display_data"
    }
   ],
   "source": [
    "X = test_ds[np.random.choice(range(len(test_ds)))]\n",
    "        \n",
    "out = net(X.unsqueeze(0).cuda()).squeeze()\n",
    "probabilities = torch.softmax(out, dim=0)\n",
    "pred = probabilities.argmax().item()\n",
    "\n",
    "print(f'\\nlinear layer output:\\n{out.detach().cpu().numpy().tolist()}')\n",
    "print(f'\\nprobabilities:\\n{probabilities.detach().cpu().numpy().tolist()}')\n",
    "print(f'sum: {probabilities.sum().item()}')\n",
    "print(f'\\nmax probability: {probabilities.max().item()}')\n",
    "print(f'\\nprediction: {pred}')\n",
    "\n",
    "plt.imshow(X.squeeze());"
   ]
  },
  {
   "cell_type": "markdown",
   "metadata": {},
   "source": [
    "Here are some more example predicitons:"
   ]
  },
  {
   "cell_type": "code",
   "execution_count": 14,
   "metadata": {},
   "outputs": [
    {
     "data": {
      "image/png": "[encoded data removed]",
      "text/plain": [
       "<Figure size 144x144 with 1 Axes>"
      ]
     },
     "metadata": {
      "needs_background": "light"
     },
     "output_type": "display_data"
    },
    {
     "data": {
      "image/png": "[encoded data removed]",
      "text/plain": [
       "<Figure size 144x144 with 1 Axes>"
      ]
     },
     "metadata": {
      "needs_background": "light"
     },
     "output_type": "display_data"
    },
    {
     "data": {
      "image/png": "[encoded data removed]",
      "text/plain": [
       "<Figure size 144x144 with 1 Axes>"
      ]
     },
     "metadata": {
      "needs_background": "light"
     },
     "output_type": "display_data"
    },
    {
     "data": {
      "image/png": "[encoded data removed]",
      "text/plain": [
       "<Figure size 144x144 with 1 Axes>"
      ]
     },
     "metadata": {
      "needs_background": "light"
     },
     "output_type": "display_data"
    },
    {
     "data": {
      "image/png": "[encoded data removed]",
      "text/plain": [
       "<Figure size 144x144 with 1 Axes>"
      ]
     },
     "metadata": {
      "needs_background": "light"
     },
     "output_type": "display_data"
    },
    {
     "data": {
      "image/png": "[encoded data removed]",
      "text/plain": [
       "<Figure size 144x144 with 1 Axes>"
      ]
     },
     "metadata": {
      "needs_background": "light"
     },
     "output_type": "display_data"
    },
    {
     "data": {
      "image/png": "[encoded data removed]",
      "text/plain": [
       "<Figure size 144x144 with 1 Axes>"
      ]
     },
     "metadata": {
      "needs_background": "light"
     },
     "output_type": "display_data"
    },
    {
     "data": {
      "image/png": "[encoded data removed]",
      "text/plain": [
       "<Figure size 144x144 with 1 Axes>"
      ]
     },
     "metadata": {
      "needs_background": "light"
     },
     "output_type": "display_data"
    },
    {
     "data": {
      "image/png": "[encoded data removed]",
      "text/plain": [
       "<Figure size 144x144 with 1 Axes>"
      ]
     },
     "metadata": {
      "needs_background": "light"
     },
     "output_type": "display_data"
    },
    {
     "data": {
      "image/png": "[encoded data removed]",
      "text/plain": [
       "<Figure size 144x144 with 1 Axes>"
      ]
     },
     "metadata": {
      "needs_background": "light"
     },
     "output_type": "display_data"
    }
   ],
   "source": [
    "predict_and_display(net, test_ds, n=10)"
   ]
  },
  {
   "cell_type": "markdown",
   "metadata": {},
   "source": [
    "## Create submission-file"
   ]
  },
  {
   "cell_type": "code",
   "execution_count": 15,
   "metadata": {},
   "outputs": [],
   "source": [
    "test_loader = DataLoader(test_ds, batch_size=batchsize)\n",
    "predictions = []\n",
    "net.eval()\n",
    "\n",
    "for X in test_loader:\n",
    "    out = net(X.cuda())\n",
    "    batch_predictions = torch.max(out, 1)[1]\n",
    "    predictions.extend(batch_predictions.detach().cpu().numpy().tolist())"
   ]
  },
  {
   "cell_type": "code",
   "execution_count": 16,
   "metadata": {},
   "outputs": [
    {
     "data": {
      "text/html": [
       "<div>\n",
       "<style scoped>\n",
       "    .dataframe tbody tr th:only-of-type {\n",
       "        vertical-align: middle;\n",
       "    }\n",
       "\n",
       "    .dataframe tbody tr th {\n",
       "        vertical-align: top;\n",
       "    }\n",
       "\n",
       "    .dataframe thead th {\n",
       "        text-align: right;\n",
       "    }\n",
       "</style>\n",
       "<table border=\"1\" class=\"dataframe\">\n",
       "  <thead>\n",
       "    <tr style=\"text-align: right;\">\n",
       "      <th></th>\n",
       "      <th>ImageId</th>\n",
       "      <th>Label</th>\n",
       "    </tr>\n",
       "  </thead>\n",
       "  <tbody>\n",
       "    <tr>\n",
       "      <th>0</th>\n",
       "      <td>1</td>\n",
       "      <td>2</td>\n",
       "    </tr>\n",
       "    <tr>\n",
       "      <th>1</th>\n",
       "      <td>2</td>\n",
       "      <td>0</td>\n",
       "    </tr>\n",
       "    <tr>\n",
       "      <th>2</th>\n",
       "      <td>3</td>\n",
       "      <td>9</td>\n",
       "    </tr>\n",
       "    <tr>\n",
       "      <th>3</th>\n",
       "      <td>4</td>\n",
       "      <td>0</td>\n",
       "    </tr>\n",
       "    <tr>\n",
       "      <th>4</th>\n",
       "      <td>5</td>\n",
       "      <td>3</td>\n",
       "    </tr>\n",
       "  </tbody>\n",
       "</table>\n",
       "</div>"
      ],
      "text/plain": [
       "   ImageId  Label\n",
       "0        1      2\n",
       "1        2      0\n",
       "2        3      9\n",
       "3        4      0\n",
       "4        5      3"
      ]
     },
     "metadata": {},
     "output_type": "display_data"
    }
   ],
   "source": [
    "submission_df = pd.DataFrame({'ImageId': range(1, len(predictions) + 1), 'Label': predictions})\n",
    "assert len(submission_df) == len(test_df)\n",
    "display(submission_df.head())\n",
    "\n",
    "submission_df.to_csv('submission.csv', index=False)"
   ]
  },
  {
   "cell_type": "markdown",
   "metadata": {},
   "source": [
    "<a href=\"submission.csv\"> Download submission-file </a>   \n"
   ]
  }
 ],
 "metadata": {
  "kernelspec": {
   "display_name": "Python 3",
   "language": "python",
   "name": "python3"
  },
  "language_info": {
   "codemirror_mode": {
    "name": "ipython",
    "version": 3
   },
   "file_extension": ".py",
   "mimetype": "text/x-python",
   "name": "python",
   "nbconvert_exporter": "python",
   "pygments_lexer": "ipython3",
   "version": "3.6.6"
  }
 },
 "nbformat": 4,
 "nbformat_minor": 1
}
