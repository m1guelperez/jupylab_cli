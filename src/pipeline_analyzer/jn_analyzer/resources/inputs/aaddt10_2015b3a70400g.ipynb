{
 "cells": [
  {
   "cell_type": "markdown",
   "metadata": {
    "_uuid": "8ef2a74bd201a29eafb29d4328f1e4a45938bb62",
    "colab_type": "text",
    "id": "LdEdJPm6LgkY"
   },
   "source": [
    "##What to submit"
   ]
  },
  {
   "cell_type": "code",
   "execution_count": 1,
   "metadata": {
    "_uuid": "34bd9ebd5021ea82979a4a5f3db35b87856d6875",
    "colab": {},
    "colab_type": "code",
    "id": "mMI-JZPXqFcO"
   },
   "outputs": [],
   "source": [
    "import numpy as np\n",
    "import matplotlib.pyplot as plt\n",
    "import pandas as pd"
   ]
  },
  {
   "cell_type": "code",
   "execution_count": 2,
   "metadata": {
    "_uuid": "ccf7d458aac160d3320e75dab7ad8c617ceefaff",
    "colab": {
     "base_uri": "https://localhost:8080/",
     "height": 241
    },
    "colab_type": "code",
    "id": "_XsIm2FqrTok",
    "outputId": "e4675fc0-34ab-474c-bc87-a88e3d774988"
   },
   "outputs": [
    {
     "data": {
      "text/html": [
       "<div>\n",
       "<style scoped>\n",
       "    .dataframe tbody tr th:only-of-type {\n",
       "        vertical-align: middle;\n",
       "    }\n",
       "\n",
       "    .dataframe tbody tr th {\n",
       "        vertical-align: top;\n",
       "    }\n",
       "\n",
       "    .dataframe thead th {\n",
       "        text-align: right;\n",
       "    }\n",
       "</style>\n",
       "<table border=\"1\" class=\"dataframe\">\n",
       "  <thead>\n",
       "    <tr style=\"text-align: right;\">\n",
       "      <th></th>\n",
       "      <th>id</th>\n",
       "      <th>Account1</th>\n",
       "      <th>Monthly Period</th>\n",
       "      <th>History</th>\n",
       "      <th>Motive</th>\n",
       "      <th>Credit1</th>\n",
       "      <th>Account2</th>\n",
       "      <th>Employment Period</th>\n",
       "      <th>InstallmentRate</th>\n",
       "      <th>Gender&amp;Type</th>\n",
       "      <th>Sponsors</th>\n",
       "      <th>Tenancy Period</th>\n",
       "      <th>Plotsize</th>\n",
       "      <th>Age</th>\n",
       "      <th>Plan</th>\n",
       "      <th>Housing</th>\n",
       "      <th>#Credits</th>\n",
       "      <th>Post</th>\n",
       "      <th>#Authorities</th>\n",
       "      <th>Phone</th>\n",
       "      <th>Expatriate</th>\n",
       "      <th>InstallmentCredit</th>\n",
       "      <th>Yearly Period</th>\n",
       "      <th>Class</th>\n",
       "    </tr>\n",
       "  </thead>\n",
       "  <tbody>\n",
       "    <tr>\n",
       "      <th>0</th>\n",
       "      <td>id344</td>\n",
       "      <td>ad</td>\n",
       "      <td>12</td>\n",
       "      <td>c2</td>\n",
       "      <td>p3</td>\n",
       "      <td>2141</td>\n",
       "      <td>sacc2</td>\n",
       "      <td>time4</td>\n",
       "      <td>3</td>\n",
       "      <td>F0</td>\n",
       "      <td>G1</td>\n",
       "      <td>1</td>\n",
       "      <td>XL</td>\n",
       "      <td>35</td>\n",
       "      <td>PL3</td>\n",
       "      <td>H2</td>\n",
       "      <td>1</td>\n",
       "      <td>Jb3</td>\n",
       "      <td>1</td>\n",
       "      <td>yes</td>\n",
       "      <td>False</td>\n",
       "      <td>12.5246852367602</td>\n",
       "      <td>0.5868938062751</td>\n",
       "      <td>2.0</td>\n",
       "    </tr>\n",
       "    <tr>\n",
       "      <th>1</th>\n",
       "      <td>id949</td>\n",
       "      <td>ac</td>\n",
       "      <td>10</td>\n",
       "      <td>c4</td>\n",
       "      <td>p0</td>\n",
       "      <td>781</td>\n",
       "      <td>sacc1</td>\n",
       "      <td>time5</td>\n",
       "      <td>4</td>\n",
       "      <td>F0</td>\n",
       "      <td>G1</td>\n",
       "      <td>4</td>\n",
       "      <td>XL</td>\n",
       "      <td>?</td>\n",
       "      <td>PL3</td>\n",
       "      <td>H3</td>\n",
       "      <td>2</td>\n",
       "      <td>Jb3</td>\n",
       "      <td>1</td>\n",
       "      <td>no</td>\n",
       "      <td>False</td>\n",
       "      <td>4.10050935474222</td>\n",
       "      <td>0.734172716951736</td>\n",
       "      <td>0.0</td>\n",
       "    </tr>\n",
       "    <tr>\n",
       "      <th>2</th>\n",
       "      <td>id744</td>\n",
       "      <td>ad</td>\n",
       "      <td>24</td>\n",
       "      <td>c2</td>\n",
       "      <td>p3</td>\n",
       "      <td>3235</td>\n",
       "      <td>sacc3</td>\n",
       "      <td>time5</td>\n",
       "      <td>3</td>\n",
       "      <td>M0</td>\n",
       "      <td>G1</td>\n",
       "      <td>2</td>\n",
       "      <td>LA</td>\n",
       "      <td>26</td>\n",
       "      <td>PL3</td>\n",
       "      <td>H2</td>\n",
       "      <td>1</td>\n",
       "      <td>Jb4</td>\n",
       "      <td>1</td>\n",
       "      <td>no</td>\n",
       "      <td>False</td>\n",
       "      <td>17.7320722070928</td>\n",
       "      <td>1.5902564698525</td>\n",
       "      <td>0.0</td>\n",
       "    </tr>\n",
       "    <tr>\n",
       "      <th>3</th>\n",
       "      <td>id402</td>\n",
       "      <td>ad</td>\n",
       "      <td>36</td>\n",
       "      <td>c2</td>\n",
       "      <td>p2</td>\n",
       "      <td>3349</td>\n",
       "      <td>sacc1</td>\n",
       "      <td>time3</td>\n",
       "      <td>4</td>\n",
       "      <td>M1</td>\n",
       "      <td>G1</td>\n",
       "      <td>2</td>\n",
       "      <td>LA</td>\n",
       "      <td>28</td>\n",
       "      <td>PL3</td>\n",
       "      <td>H2</td>\n",
       "      <td>1</td>\n",
       "      <td>Jb4</td>\n",
       "      <td>1</td>\n",
       "      <td>no</td>\n",
       "      <td>False</td>\n",
       "      <td>18.8013966361558</td>\n",
       "      <td>3.0950888152523</td>\n",
       "      <td>0.0</td>\n",
       "    </tr>\n",
       "    <tr>\n",
       "      <th>4</th>\n",
       "      <td>id564</td>\n",
       "      <td>ad</td>\n",
       "      <td>10</td>\n",
       "      <td>c2</td>\n",
       "      <td>p2</td>\n",
       "      <td>2210</td>\n",
       "      <td>sacc1</td>\n",
       "      <td>time3</td>\n",
       "      <td>2</td>\n",
       "      <td>F0</td>\n",
       "      <td>G1</td>\n",
       "      <td>2</td>\n",
       "      <td>sm</td>\n",
       "      <td>25</td>\n",
       "      <td>PL1</td>\n",
       "      <td>H1</td>\n",
       "      <td>1</td>\n",
       "      <td>Jb2</td>\n",
       "      <td>1</td>\n",
       "      <td>yes</td>\n",
       "      <td>False</td>\n",
       "      <td>11.7797244405476</td>\n",
       "      <td>0.509442335186864</td>\n",
       "      <td>1.0</td>\n",
       "    </tr>\n",
       "  </tbody>\n",
       "</table>\n",
       "</div>"
      ],
      "text/plain": [
       "      id Account1  ...       Yearly Period Class\n",
       "0  id344       ad  ...     0.5868938062751   2.0\n",
       "1  id949       ac  ...   0.734172716951736   0.0\n",
       "2  id744       ad  ...     1.5902564698525   0.0\n",
       "3  id402       ad  ...     3.0950888152523   0.0\n",
       "4  id564       ad  ...   0.509442335186864   1.0\n",
       "\n",
       "[5 rows x 24 columns]"
      ]
     },
     "execution_count": 2,
     "metadata": {},
     "output_type": "execute_result"
    }
   ],
   "source": [
    "df = pd.read_csv(\"../input/dataset.csv\")\n",
    "df.head()"
   ]
  },
  {
   "cell_type": "code",
   "execution_count": 3,
   "metadata": {
    "_uuid": "9253387ed75c0b0479beb2b3fb12d9e128e8803d",
    "colab": {},
    "colab_type": "code",
    "id": "VS0Oxa7bLkx-"
   },
   "outputs": [],
   "source": [
    "pd.set_option('display.max_columns', 500)"
   ]
  },
  {
   "cell_type": "code",
   "execution_count": 4,
   "metadata": {
    "_uuid": "035e8f1b26eaef1a19879b18654a7bd0f6a34523",
    "colab": {},
    "colab_type": "code",
    "id": "Jxjrst5zJHND"
   },
   "outputs": [],
   "source": [
    "df_now = df"
   ]
  },
  {
   "cell_type": "code",
   "execution_count": 5,
   "metadata": {
    "_uuid": "2588253bc587ca5d21b328732bafbbd5139b5c37",
    "colab": {},
    "colab_type": "code",
    "id": "Gkpd8gcPKDtQ"
   },
   "outputs": [],
   "source": [
    "df_now = df_now.replace({\"?\": np.nan})"
   ]
  },
  {
   "cell_type": "code",
   "execution_count": 6,
   "metadata": {
    "_uuid": "fda123a8b4f14365ca9dbbf1a3e2e78f8b80e50b",
    "colab": {
     "base_uri": "https://localhost:8080/",
     "height": 241
    },
    "colab_type": "code",
    "id": "JrpzsAxJSodw",
    "outputId": "3bf02b37-6b4e-41af-f899-8967df027754"
   },
   "outputs": [
    {
     "data": {
      "text/html": [
       "<div>\n",
       "<style scoped>\n",
       "    .dataframe tbody tr th:only-of-type {\n",
       "        vertical-align: middle;\n",
       "    }\n",
       "\n",
       "    .dataframe tbody tr th {\n",
       "        vertical-align: top;\n",
       "    }\n",
       "\n",
       "    .dataframe thead th {\n",
       "        text-align: right;\n",
       "    }\n",
       "</style>\n",
       "<table border=\"1\" class=\"dataframe\">\n",
       "  <thead>\n",
       "    <tr style=\"text-align: right;\">\n",
       "      <th></th>\n",
       "      <th>id</th>\n",
       "      <th>Account1</th>\n",
       "      <th>Monthly Period</th>\n",
       "      <th>History</th>\n",
       "      <th>Motive</th>\n",
       "      <th>Credit1</th>\n",
       "      <th>Account2</th>\n",
       "      <th>Employment Period</th>\n",
       "      <th>InstallmentRate</th>\n",
       "      <th>Gender&amp;Type</th>\n",
       "      <th>Sponsors</th>\n",
       "      <th>Tenancy Period</th>\n",
       "      <th>Plotsize</th>\n",
       "      <th>Age</th>\n",
       "      <th>Plan</th>\n",
       "      <th>Housing</th>\n",
       "      <th>#Credits</th>\n",
       "      <th>Post</th>\n",
       "      <th>#Authorities</th>\n",
       "      <th>Phone</th>\n",
       "      <th>Expatriate</th>\n",
       "      <th>InstallmentCredit</th>\n",
       "      <th>Yearly Period</th>\n",
       "      <th>Class</th>\n",
       "    </tr>\n",
       "  </thead>\n",
       "  <tbody>\n",
       "    <tr>\n",
       "      <th>1026</th>\n",
       "      <td>id1026</td>\n",
       "      <td>aa</td>\n",
       "      <td>18</td>\n",
       "      <td>c2</td>\n",
       "      <td>p0</td>\n",
       "      <td>2249</td>\n",
       "      <td>sacc2</td>\n",
       "      <td>time4</td>\n",
       "      <td>4</td>\n",
       "      <td>F0</td>\n",
       "      <td>G1</td>\n",
       "      <td>3</td>\n",
       "      <td>LA</td>\n",
       "      <td>30</td>\n",
       "      <td>PL3</td>\n",
       "      <td>H2</td>\n",
       "      <td>1</td>\n",
       "      <td>Jb4</td>\n",
       "      <td>2</td>\n",
       "      <td>no</td>\n",
       "      <td>False</td>\n",
       "      <td>11.6543951298744</td>\n",
       "      <td>1.76691509076048</td>\n",
       "      <td>NaN</td>\n",
       "    </tr>\n",
       "    <tr>\n",
       "      <th>1027</th>\n",
       "      <td>id1029</td>\n",
       "      <td>ad</td>\n",
       "      <td>12</td>\n",
       "      <td>c2</td>\n",
       "      <td>p1</td>\n",
       "      <td>2445</td>\n",
       "      <td>sacc5</td>\n",
       "      <td>time2</td>\n",
       "      <td>2</td>\n",
       "      <td>F1</td>\n",
       "      <td>G1</td>\n",
       "      <td>4</td>\n",
       "      <td>LA</td>\n",
       "      <td>26</td>\n",
       "      <td>PL3</td>\n",
       "      <td>H1</td>\n",
       "      <td>1</td>\n",
       "      <td>Jb3</td>\n",
       "      <td>1</td>\n",
       "      <td>no</td>\n",
       "      <td>False</td>\n",
       "      <td>13.9809033269712</td>\n",
       "      <td>0.883258173945736</td>\n",
       "      <td>NaN</td>\n",
       "    </tr>\n",
       "    <tr>\n",
       "      <th>1028</th>\n",
       "      <td>id1028</td>\n",
       "      <td>ad</td>\n",
       "      <td>NaN</td>\n",
       "      <td>c2</td>\n",
       "      <td>p2</td>\n",
       "      <td>601</td>\n",
       "      <td>sacc1</td>\n",
       "      <td>time2</td>\n",
       "      <td>1</td>\n",
       "      <td>M1</td>\n",
       "      <td>G1</td>\n",
       "      <td>3</td>\n",
       "      <td>SM</td>\n",
       "      <td>23</td>\n",
       "      <td>PL3</td>\n",
       "      <td>H1</td>\n",
       "      <td>1</td>\n",
       "      <td>Jb2</td>\n",
       "      <td>2</td>\n",
       "      <td>yes</td>\n",
       "      <td>False</td>\n",
       "      <td>4.05552622566373</td>\n",
       "      <td>NaN</td>\n",
       "      <td>NaN</td>\n",
       "    </tr>\n",
       "    <tr>\n",
       "      <th>1029</th>\n",
       "      <td>id1027</td>\n",
       "      <td>ad</td>\n",
       "      <td>15</td>\n",
       "      <td>c2</td>\n",
       "      <td>p4</td>\n",
       "      <td>1262</td>\n",
       "      <td>sacc3</td>\n",
       "      <td>time4</td>\n",
       "      <td>4</td>\n",
       "      <td>F0</td>\n",
       "      <td>G1</td>\n",
       "      <td>3</td>\n",
       "      <td>ME</td>\n",
       "      <td>36</td>\n",
       "      <td>PL3</td>\n",
       "      <td>H2</td>\n",
       "      <td>2</td>\n",
       "      <td>Jb3</td>\n",
       "      <td>1</td>\n",
       "      <td>no</td>\n",
       "      <td>False</td>\n",
       "      <td>6.20046415610441</td>\n",
       "      <td>0.913622518176963</td>\n",
       "      <td>NaN</td>\n",
       "    </tr>\n",
       "    <tr>\n",
       "      <th>1030</th>\n",
       "      <td>id1022</td>\n",
       "      <td>ad</td>\n",
       "      <td>21</td>\n",
       "      <td>c3</td>\n",
       "      <td>p1</td>\n",
       "      <td>2993</td>\n",
       "      <td>sacc1</td>\n",
       "      <td>time3</td>\n",
       "      <td>3</td>\n",
       "      <td>F0</td>\n",
       "      <td>G1</td>\n",
       "      <td>2</td>\n",
       "      <td>sm</td>\n",
       "      <td>28</td>\n",
       "      <td>PL2</td>\n",
       "      <td>H2</td>\n",
       "      <td>2</td>\n",
       "      <td>Jb2</td>\n",
       "      <td>1</td>\n",
       "      <td>yes</td>\n",
       "      <td>False</td>\n",
       "      <td>15.3539681319652</td>\n",
       "      <td>1.47394608002731</td>\n",
       "      <td>NaN</td>\n",
       "    </tr>\n",
       "  </tbody>\n",
       "</table>\n",
       "</div>"
      ],
      "text/plain": [
       "          id Account1 Monthly Period History Motive Credit1 Account2  \\\n",
       "1026  id1026       aa             18      c2     p0    2249    sacc2   \n",
       "1027  id1029       ad             12      c2     p1    2445    sacc5   \n",
       "1028  id1028       ad            NaN      c2     p2     601    sacc1   \n",
       "1029  id1027       ad             15      c2     p4    1262    sacc3   \n",
       "1030  id1022       ad             21      c3     p1    2993    sacc1   \n",
       "\n",
       "     Employment Period InstallmentRate Gender&Type Sponsors Tenancy Period  \\\n",
       "1026             time4               4          F0       G1              3   \n",
       "1027             time2               2          F1       G1              4   \n",
       "1028             time2               1          M1       G1              3   \n",
       "1029             time4               4          F0       G1              3   \n",
       "1030             time3               3          F0       G1              2   \n",
       "\n",
       "     Plotsize Age Plan Housing  #Credits Post  #Authorities Phone  Expatriate  \\\n",
       "1026       LA  30  PL3      H2         1  Jb4             2    no       False   \n",
       "1027       LA  26  PL3      H1         1  Jb3             1    no       False   \n",
       "1028       SM  23  PL3      H1         1  Jb2             2   yes       False   \n",
       "1029       ME  36  PL3      H2         2  Jb3             1    no       False   \n",
       "1030       sm  28  PL2      H2         2  Jb2             1   yes       False   \n",
       "\n",
       "     InstallmentCredit      Yearly Period  Class  \n",
       "1026  11.6543951298744   1.76691509076048    NaN  \n",
       "1027  13.9809033269712  0.883258173945736    NaN  \n",
       "1028  4.05552622566373                NaN    NaN  \n",
       "1029  6.20046415610441  0.913622518176963    NaN  \n",
       "1030  15.3539681319652   1.47394608002731    NaN  "
      ]
     },
     "execution_count": 6,
     "metadata": {},
     "output_type": "execute_result"
    }
   ],
   "source": [
    "df_now.tail()"
   ]
  },
  {
   "cell_type": "code",
   "execution_count": 7,
   "metadata": {
    "_uuid": "4006e6be03f779c1e413ee4a7fa20058f64ad0df",
    "colab": {},
    "colab_type": "code",
    "id": "foPmskjnLxGx"
   },
   "outputs": [],
   "source": [
    "df_now = df_now.fillna(df.mode().iloc[0])"
   ]
  },
  {
   "cell_type": "code",
   "execution_count": 8,
   "metadata": {
    "_uuid": "90df133b825c8bfc4a2d84c1851bf7ab0e2f451e",
    "colab": {},
    "colab_type": "code",
    "id": "NorwgRJQL8MI"
   },
   "outputs": [],
   "source": [
    "df_now = df_now.replace({\"?\": np.nan})"
   ]
  },
  {
   "cell_type": "code",
   "execution_count": 9,
   "metadata": {
    "_uuid": "78f16f1ac71b4d3dbbd02e2b29b26d7d24e195b1",
    "colab": {},
    "colab_type": "code",
    "id": "rDEA9ksiMBUm"
   },
   "outputs": [],
   "source": [
    "df_now = df_now.fillna(0)"
   ]
  },
  {
   "cell_type": "code",
   "execution_count": 10,
   "metadata": {
    "_uuid": "c67899f7d11c4ecd4a7a12963c21675058cb899e",
    "colab": {},
    "colab_type": "code",
    "id": "Lx8Y1eIWMDQl"
   },
   "outputs": [],
   "source": [
    "df_now= df_now.drop(columns=[\"id\"])"
   ]
  },
  {
   "cell_type": "code",
   "execution_count": 11,
   "metadata": {
    "_uuid": "bf347ed01f92168d93417124920a328f86de9e76",
    "colab": {},
    "colab_type": "code",
    "id": "AbJMgNlbMNSu"
   },
   "outputs": [],
   "source": [
    "cl = df[\"Class\"].values"
   ]
  },
  {
   "cell_type": "code",
   "execution_count": 12,
   "metadata": {
    "_uuid": "f437f6e2a47032896baa2640f830d65ea17c57a3",
    "colab": {},
    "colab_type": "code",
    "id": "mLWDQBayMTqB"
   },
   "outputs": [],
   "source": [
    "df_now=df_now.drop(columns = [\"Class\"])"
   ]
  },
  {
   "cell_type": "code",
   "execution_count": 13,
   "metadata": {
    "_uuid": "13e1d2143696d40ce6006818d35d3852de0fab9f",
    "colab": {},
    "colab_type": "code",
    "id": "PnHEnomfi-r3"
   },
   "outputs": [],
   "source": [
    "df_cat = pd.get_dummies(df_now, columns=['Account1', 'History', 'Motive', 'Account2', 'Employment Period', 'Gender&Type', 'Sponsors','Plotsize', 'Plan', 'Housing','Post', 'Expatriate'])"
   ]
  },
  {
   "cell_type": "code",
   "execution_count": 14,
   "metadata": {
    "_uuid": "d2a107a90dde9d5ce7a147e227393f92cb9a7ee4",
    "colab": {},
    "colab_type": "code",
    "id": "SZ4-3s_CjSlV"
   },
   "outputs": [],
   "source": [
    "df_cat=df_cat.drop(columns=[\"Phone\"])"
   ]
  },
  {
   "cell_type": "code",
   "execution_count": 15,
   "metadata": {
    "_uuid": "667cbadad3430b3af58c5acbd6692e8cc302a88c",
    "colab": {
     "base_uri": "https://localhost:8080/",
     "height": 260
    },
    "colab_type": "code",
    "id": "TM8xJugiMfD1",
    "outputId": "55742f8a-9bb7-4c02-c458-976ca6d9ab84"
   },
   "outputs": [
    {
     "name": "stderr",
     "output_type": "stream",
     "text": [
      "/opt/conda/lib/python3.6/site-packages/sklearn/preprocessing/data.py:334: DataConversionWarning: Data with input dtype uint8, int64, object were all converted to float64 by MinMaxScaler.\n",
      "  return self.partial_fit(X, y)\n"
     ]
    },
    {
     "data": {
      "text/html": [
       "<div>\n",
       "<style scoped>\n",
       "    .dataframe tbody tr th:only-of-type {\n",
       "        vertical-align: middle;\n",
       "    }\n",
       "\n",
       "    .dataframe tbody tr th {\n",
       "        vertical-align: top;\n",
       "    }\n",
       "\n",
       "    .dataframe thead th {\n",
       "        text-align: right;\n",
       "    }\n",
       "</style>\n",
       "<table border=\"1\" class=\"dataframe\">\n",
       "  <thead>\n",
       "    <tr style=\"text-align: right;\">\n",
       "      <th></th>\n",
       "      <th>0</th>\n",
       "      <th>1</th>\n",
       "      <th>2</th>\n",
       "      <th>3</th>\n",
       "      <th>4</th>\n",
       "      <th>5</th>\n",
       "      <th>6</th>\n",
       "      <th>7</th>\n",
       "      <th>8</th>\n",
       "      <th>9</th>\n",
       "      <th>10</th>\n",
       "      <th>11</th>\n",
       "      <th>12</th>\n",
       "      <th>13</th>\n",
       "      <th>14</th>\n",
       "      <th>15</th>\n",
       "      <th>16</th>\n",
       "      <th>17</th>\n",
       "      <th>18</th>\n",
       "      <th>19</th>\n",
       "      <th>20</th>\n",
       "      <th>21</th>\n",
       "      <th>22</th>\n",
       "      <th>23</th>\n",
       "      <th>24</th>\n",
       "      <th>25</th>\n",
       "      <th>26</th>\n",
       "      <th>27</th>\n",
       "      <th>28</th>\n",
       "      <th>29</th>\n",
       "      <th>30</th>\n",
       "      <th>31</th>\n",
       "      <th>32</th>\n",
       "      <th>33</th>\n",
       "      <th>34</th>\n",
       "      <th>35</th>\n",
       "      <th>36</th>\n",
       "      <th>37</th>\n",
       "      <th>38</th>\n",
       "      <th>39</th>\n",
       "      <th>40</th>\n",
       "      <th>41</th>\n",
       "      <th>42</th>\n",
       "      <th>43</th>\n",
       "      <th>44</th>\n",
       "      <th>45</th>\n",
       "      <th>46</th>\n",
       "      <th>47</th>\n",
       "      <th>48</th>\n",
       "      <th>49</th>\n",
       "      <th>50</th>\n",
       "      <th>51</th>\n",
       "      <th>52</th>\n",
       "      <th>53</th>\n",
       "      <th>54</th>\n",
       "      <th>55</th>\n",
       "      <th>56</th>\n",
       "      <th>57</th>\n",
       "      <th>58</th>\n",
       "      <th>59</th>\n",
       "      <th>60</th>\n",
       "      <th>61</th>\n",
       "      <th>62</th>\n",
       "      <th>63</th>\n",
       "      <th>64</th>\n",
       "      <th>65</th>\n",
       "      <th>66</th>\n",
       "    </tr>\n",
       "  </thead>\n",
       "  <tbody>\n",
       "    <tr>\n",
       "      <th>0</th>\n",
       "      <td>0.117647</td>\n",
       "      <td>0.104050</td>\n",
       "      <td>0.666667</td>\n",
       "      <td>0.000000</td>\n",
       "      <td>0.285714</td>\n",
       "      <td>0.000000</td>\n",
       "      <td>0.0</td>\n",
       "      <td>0.124645</td>\n",
       "      <td>0.097175</td>\n",
       "      <td>0.0</td>\n",
       "      <td>0.0</td>\n",
       "      <td>0.0</td>\n",
       "      <td>1.0</td>\n",
       "      <td>0.0</td>\n",
       "      <td>0.0</td>\n",
       "      <td>1.0</td>\n",
       "      <td>0.0</td>\n",
       "      <td>0.0</td>\n",
       "      <td>0.0</td>\n",
       "      <td>0.0</td>\n",
       "      <td>0.0</td>\n",
       "      <td>0.0</td>\n",
       "      <td>1.0</td>\n",
       "      <td>0.0</td>\n",
       "      <td>0.0</td>\n",
       "      <td>0.0</td>\n",
       "      <td>0.0</td>\n",
       "      <td>0.0</td>\n",
       "      <td>0.0</td>\n",
       "      <td>0.0</td>\n",
       "      <td>1.0</td>\n",
       "      <td>0.0</td>\n",
       "      <td>0.0</td>\n",
       "      <td>0.0</td>\n",
       "      <td>0.0</td>\n",
       "      <td>0.0</td>\n",
       "      <td>0.0</td>\n",
       "      <td>1.0</td>\n",
       "      <td>0.0</td>\n",
       "      <td>1.0</td>\n",
       "      <td>0.0</td>\n",
       "      <td>0.0</td>\n",
       "      <td>0.0</td>\n",
       "      <td>1.0</td>\n",
       "      <td>0.0</td>\n",
       "      <td>0.0</td>\n",
       "      <td>0.0</td>\n",
       "      <td>0.0</td>\n",
       "      <td>0.0</td>\n",
       "      <td>0.0</td>\n",
       "      <td>0.0</td>\n",
       "      <td>1.0</td>\n",
       "      <td>0.0</td>\n",
       "      <td>0.0</td>\n",
       "      <td>0.0</td>\n",
       "      <td>0.0</td>\n",
       "      <td>0.0</td>\n",
       "      <td>1.0</td>\n",
       "      <td>0.0</td>\n",
       "      <td>1.0</td>\n",
       "      <td>0.0</td>\n",
       "      <td>0.0</td>\n",
       "      <td>0.0</td>\n",
       "      <td>1.0</td>\n",
       "      <td>0.0</td>\n",
       "      <td>1.0</td>\n",
       "      <td>0.0</td>\n",
       "    </tr>\n",
       "    <tr>\n",
       "      <th>1</th>\n",
       "      <td>0.088235</td>\n",
       "      <td>0.029218</td>\n",
       "      <td>1.000000</td>\n",
       "      <td>1.000000</td>\n",
       "      <td>0.125000</td>\n",
       "      <td>0.333333</td>\n",
       "      <td>0.0</td>\n",
       "      <td>0.040808</td>\n",
       "      <td>0.121473</td>\n",
       "      <td>0.0</td>\n",
       "      <td>0.0</td>\n",
       "      <td>1.0</td>\n",
       "      <td>0.0</td>\n",
       "      <td>0.0</td>\n",
       "      <td>0.0</td>\n",
       "      <td>0.0</td>\n",
       "      <td>0.0</td>\n",
       "      <td>1.0</td>\n",
       "      <td>1.0</td>\n",
       "      <td>0.0</td>\n",
       "      <td>0.0</td>\n",
       "      <td>0.0</td>\n",
       "      <td>0.0</td>\n",
       "      <td>0.0</td>\n",
       "      <td>0.0</td>\n",
       "      <td>0.0</td>\n",
       "      <td>0.0</td>\n",
       "      <td>0.0</td>\n",
       "      <td>0.0</td>\n",
       "      <td>1.0</td>\n",
       "      <td>0.0</td>\n",
       "      <td>0.0</td>\n",
       "      <td>0.0</td>\n",
       "      <td>0.0</td>\n",
       "      <td>0.0</td>\n",
       "      <td>0.0</td>\n",
       "      <td>0.0</td>\n",
       "      <td>0.0</td>\n",
       "      <td>1.0</td>\n",
       "      <td>1.0</td>\n",
       "      <td>0.0</td>\n",
       "      <td>0.0</td>\n",
       "      <td>0.0</td>\n",
       "      <td>1.0</td>\n",
       "      <td>0.0</td>\n",
       "      <td>0.0</td>\n",
       "      <td>0.0</td>\n",
       "      <td>0.0</td>\n",
       "      <td>0.0</td>\n",
       "      <td>0.0</td>\n",
       "      <td>0.0</td>\n",
       "      <td>1.0</td>\n",
       "      <td>0.0</td>\n",
       "      <td>0.0</td>\n",
       "      <td>0.0</td>\n",
       "      <td>0.0</td>\n",
       "      <td>0.0</td>\n",
       "      <td>1.0</td>\n",
       "      <td>0.0</td>\n",
       "      <td>0.0</td>\n",
       "      <td>1.0</td>\n",
       "      <td>0.0</td>\n",
       "      <td>0.0</td>\n",
       "      <td>1.0</td>\n",
       "      <td>0.0</td>\n",
       "      <td>1.0</td>\n",
       "      <td>0.0</td>\n",
       "    </tr>\n",
       "    <tr>\n",
       "      <th>2</th>\n",
       "      <td>0.294118</td>\n",
       "      <td>0.164246</td>\n",
       "      <td>0.666667</td>\n",
       "      <td>0.333333</td>\n",
       "      <td>0.125000</td>\n",
       "      <td>0.000000</td>\n",
       "      <td>0.0</td>\n",
       "      <td>0.176468</td>\n",
       "      <td>0.262709</td>\n",
       "      <td>0.0</td>\n",
       "      <td>0.0</td>\n",
       "      <td>0.0</td>\n",
       "      <td>1.0</td>\n",
       "      <td>0.0</td>\n",
       "      <td>0.0</td>\n",
       "      <td>1.0</td>\n",
       "      <td>0.0</td>\n",
       "      <td>0.0</td>\n",
       "      <td>0.0</td>\n",
       "      <td>0.0</td>\n",
       "      <td>0.0</td>\n",
       "      <td>0.0</td>\n",
       "      <td>1.0</td>\n",
       "      <td>0.0</td>\n",
       "      <td>0.0</td>\n",
       "      <td>0.0</td>\n",
       "      <td>0.0</td>\n",
       "      <td>0.0</td>\n",
       "      <td>0.0</td>\n",
       "      <td>0.0</td>\n",
       "      <td>0.0</td>\n",
       "      <td>1.0</td>\n",
       "      <td>0.0</td>\n",
       "      <td>0.0</td>\n",
       "      <td>0.0</td>\n",
       "      <td>0.0</td>\n",
       "      <td>0.0</td>\n",
       "      <td>0.0</td>\n",
       "      <td>1.0</td>\n",
       "      <td>0.0</td>\n",
       "      <td>0.0</td>\n",
       "      <td>1.0</td>\n",
       "      <td>0.0</td>\n",
       "      <td>1.0</td>\n",
       "      <td>0.0</td>\n",
       "      <td>0.0</td>\n",
       "      <td>0.0</td>\n",
       "      <td>1.0</td>\n",
       "      <td>0.0</td>\n",
       "      <td>0.0</td>\n",
       "      <td>0.0</td>\n",
       "      <td>0.0</td>\n",
       "      <td>0.0</td>\n",
       "      <td>0.0</td>\n",
       "      <td>0.0</td>\n",
       "      <td>0.0</td>\n",
       "      <td>0.0</td>\n",
       "      <td>1.0</td>\n",
       "      <td>0.0</td>\n",
       "      <td>1.0</td>\n",
       "      <td>0.0</td>\n",
       "      <td>0.0</td>\n",
       "      <td>0.0</td>\n",
       "      <td>0.0</td>\n",
       "      <td>1.0</td>\n",
       "      <td>1.0</td>\n",
       "      <td>0.0</td>\n",
       "    </tr>\n",
       "    <tr>\n",
       "      <th>3</th>\n",
       "      <td>0.470588</td>\n",
       "      <td>0.170518</td>\n",
       "      <td>1.000000</td>\n",
       "      <td>0.333333</td>\n",
       "      <td>0.160714</td>\n",
       "      <td>0.000000</td>\n",
       "      <td>0.0</td>\n",
       "      <td>0.187110</td>\n",
       "      <td>0.510976</td>\n",
       "      <td>0.0</td>\n",
       "      <td>0.0</td>\n",
       "      <td>0.0</td>\n",
       "      <td>1.0</td>\n",
       "      <td>0.0</td>\n",
       "      <td>0.0</td>\n",
       "      <td>1.0</td>\n",
       "      <td>0.0</td>\n",
       "      <td>0.0</td>\n",
       "      <td>0.0</td>\n",
       "      <td>0.0</td>\n",
       "      <td>0.0</td>\n",
       "      <td>1.0</td>\n",
       "      <td>0.0</td>\n",
       "      <td>0.0</td>\n",
       "      <td>0.0</td>\n",
       "      <td>0.0</td>\n",
       "      <td>0.0</td>\n",
       "      <td>0.0</td>\n",
       "      <td>0.0</td>\n",
       "      <td>1.0</td>\n",
       "      <td>0.0</td>\n",
       "      <td>0.0</td>\n",
       "      <td>0.0</td>\n",
       "      <td>0.0</td>\n",
       "      <td>0.0</td>\n",
       "      <td>0.0</td>\n",
       "      <td>1.0</td>\n",
       "      <td>0.0</td>\n",
       "      <td>0.0</td>\n",
       "      <td>0.0</td>\n",
       "      <td>0.0</td>\n",
       "      <td>0.0</td>\n",
       "      <td>1.0</td>\n",
       "      <td>1.0</td>\n",
       "      <td>0.0</td>\n",
       "      <td>0.0</td>\n",
       "      <td>0.0</td>\n",
       "      <td>1.0</td>\n",
       "      <td>0.0</td>\n",
       "      <td>0.0</td>\n",
       "      <td>0.0</td>\n",
       "      <td>0.0</td>\n",
       "      <td>0.0</td>\n",
       "      <td>0.0</td>\n",
       "      <td>0.0</td>\n",
       "      <td>0.0</td>\n",
       "      <td>0.0</td>\n",
       "      <td>1.0</td>\n",
       "      <td>0.0</td>\n",
       "      <td>1.0</td>\n",
       "      <td>0.0</td>\n",
       "      <td>0.0</td>\n",
       "      <td>0.0</td>\n",
       "      <td>0.0</td>\n",
       "      <td>1.0</td>\n",
       "      <td>1.0</td>\n",
       "      <td>0.0</td>\n",
       "    </tr>\n",
       "    <tr>\n",
       "      <th>4</th>\n",
       "      <td>0.088235</td>\n",
       "      <td>0.107846</td>\n",
       "      <td>0.333333</td>\n",
       "      <td>0.333333</td>\n",
       "      <td>0.107143</td>\n",
       "      <td>0.000000</td>\n",
       "      <td>0.0</td>\n",
       "      <td>0.117231</td>\n",
       "      <td>0.084397</td>\n",
       "      <td>0.0</td>\n",
       "      <td>0.0</td>\n",
       "      <td>0.0</td>\n",
       "      <td>1.0</td>\n",
       "      <td>0.0</td>\n",
       "      <td>0.0</td>\n",
       "      <td>1.0</td>\n",
       "      <td>0.0</td>\n",
       "      <td>0.0</td>\n",
       "      <td>0.0</td>\n",
       "      <td>0.0</td>\n",
       "      <td>0.0</td>\n",
       "      <td>1.0</td>\n",
       "      <td>0.0</td>\n",
       "      <td>0.0</td>\n",
       "      <td>0.0</td>\n",
       "      <td>0.0</td>\n",
       "      <td>0.0</td>\n",
       "      <td>0.0</td>\n",
       "      <td>0.0</td>\n",
       "      <td>1.0</td>\n",
       "      <td>0.0</td>\n",
       "      <td>0.0</td>\n",
       "      <td>0.0</td>\n",
       "      <td>0.0</td>\n",
       "      <td>0.0</td>\n",
       "      <td>0.0</td>\n",
       "      <td>1.0</td>\n",
       "      <td>0.0</td>\n",
       "      <td>0.0</td>\n",
       "      <td>1.0</td>\n",
       "      <td>0.0</td>\n",
       "      <td>0.0</td>\n",
       "      <td>0.0</td>\n",
       "      <td>1.0</td>\n",
       "      <td>0.0</td>\n",
       "      <td>0.0</td>\n",
       "      <td>0.0</td>\n",
       "      <td>0.0</td>\n",
       "      <td>0.0</td>\n",
       "      <td>0.0</td>\n",
       "      <td>0.0</td>\n",
       "      <td>0.0</td>\n",
       "      <td>0.0</td>\n",
       "      <td>0.0</td>\n",
       "      <td>1.0</td>\n",
       "      <td>1.0</td>\n",
       "      <td>0.0</td>\n",
       "      <td>0.0</td>\n",
       "      <td>1.0</td>\n",
       "      <td>0.0</td>\n",
       "      <td>0.0</td>\n",
       "      <td>0.0</td>\n",
       "      <td>1.0</td>\n",
       "      <td>0.0</td>\n",
       "      <td>0.0</td>\n",
       "      <td>1.0</td>\n",
       "      <td>0.0</td>\n",
       "    </tr>\n",
       "  </tbody>\n",
       "</table>\n",
       "</div>"
      ],
      "text/plain": [
       "         0         1         2         3         4         5    6         7   \\\n",
       "0  0.117647  0.104050  0.666667  0.000000  0.285714  0.000000  0.0  0.124645   \n",
       "1  0.088235  0.029218  1.000000  1.000000  0.125000  0.333333  0.0  0.040808   \n",
       "2  0.294118  0.164246  0.666667  0.333333  0.125000  0.000000  0.0  0.176468   \n",
       "3  0.470588  0.170518  1.000000  0.333333  0.160714  0.000000  0.0  0.187110   \n",
       "4  0.088235  0.107846  0.333333  0.333333  0.107143  0.000000  0.0  0.117231   \n",
       "\n",
       "         8    9    10   11   12   13   14   15   16   17   18   19   20   21  \\\n",
       "0  0.097175  0.0  0.0  0.0  1.0  0.0  0.0  1.0  0.0  0.0  0.0  0.0  0.0  0.0   \n",
       "1  0.121473  0.0  0.0  1.0  0.0  0.0  0.0  0.0  0.0  1.0  1.0  0.0  0.0  0.0   \n",
       "2  0.262709  0.0  0.0  0.0  1.0  0.0  0.0  1.0  0.0  0.0  0.0  0.0  0.0  0.0   \n",
       "3  0.510976  0.0  0.0  0.0  1.0  0.0  0.0  1.0  0.0  0.0  0.0  0.0  0.0  1.0   \n",
       "4  0.084397  0.0  0.0  0.0  1.0  0.0  0.0  1.0  0.0  0.0  0.0  0.0  0.0  1.0   \n",
       "\n",
       "    22   23   24   25   26   27   28   29   30   31   32   33   34   35   36  \\\n",
       "0  1.0  0.0  0.0  0.0  0.0  0.0  0.0  0.0  1.0  0.0  0.0  0.0  0.0  0.0  0.0   \n",
       "1  0.0  0.0  0.0  0.0  0.0  0.0  0.0  1.0  0.0  0.0  0.0  0.0  0.0  0.0  0.0   \n",
       "2  1.0  0.0  0.0  0.0  0.0  0.0  0.0  0.0  0.0  1.0  0.0  0.0  0.0  0.0  0.0   \n",
       "3  0.0  0.0  0.0  0.0  0.0  0.0  0.0  1.0  0.0  0.0  0.0  0.0  0.0  0.0  1.0   \n",
       "4  0.0  0.0  0.0  0.0  0.0  0.0  0.0  1.0  0.0  0.0  0.0  0.0  0.0  0.0  1.0   \n",
       "\n",
       "    37   38   39   40   41   42   43   44   45   46   47   48   49   50   51  \\\n",
       "0  1.0  0.0  1.0  0.0  0.0  0.0  1.0  0.0  0.0  0.0  0.0  0.0  0.0  0.0  1.0   \n",
       "1  0.0  1.0  1.0  0.0  0.0  0.0  1.0  0.0  0.0  0.0  0.0  0.0  0.0  0.0  1.0   \n",
       "2  0.0  1.0  0.0  0.0  1.0  0.0  1.0  0.0  0.0  0.0  1.0  0.0  0.0  0.0  0.0   \n",
       "3  0.0  0.0  0.0  0.0  0.0  1.0  1.0  0.0  0.0  0.0  1.0  0.0  0.0  0.0  0.0   \n",
       "4  0.0  0.0  1.0  0.0  0.0  0.0  1.0  0.0  0.0  0.0  0.0  0.0  0.0  0.0  0.0   \n",
       "\n",
       "    52   53   54   55   56   57   58   59   60   61   62   63   64   65   66  \n",
       "0  0.0  0.0  0.0  0.0  0.0  1.0  0.0  1.0  0.0  0.0  0.0  1.0  0.0  1.0  0.0  \n",
       "1  0.0  0.0  0.0  0.0  0.0  1.0  0.0  0.0  1.0  0.0  0.0  1.0  0.0  1.0  0.0  \n",
       "2  0.0  0.0  0.0  0.0  0.0  1.0  0.0  1.0  0.0  0.0  0.0  0.0  1.0  1.0  0.0  \n",
       "3  0.0  0.0  0.0  0.0  0.0  1.0  0.0  1.0  0.0  0.0  0.0  0.0  1.0  1.0  0.0  \n",
       "4  0.0  0.0  1.0  1.0  0.0  0.0  1.0  0.0  0.0  0.0  1.0  0.0  0.0  1.0  0.0  "
      ]
     },
     "execution_count": 15,
     "metadata": {},
     "output_type": "execute_result"
    }
   ],
   "source": [
    "from sklearn import preprocessing\n",
    "min_max_scaler = preprocessing.MinMaxScaler()\n",
    "np_scaled = min_max_scaler.fit_transform(df_cat)\n",
    "dataN1 = pd.DataFrame(np_scaled)\n",
    "dataN1.head()"
   ]
  },
  {
   "cell_type": "code",
   "execution_count": 16,
   "metadata": {
    "_uuid": "50d21962d5239fa8699a73c7d170509abdc8ad6d",
    "colab": {},
    "colab_type": "code",
    "id": "_Zpyu0zYMi-d"
   },
   "outputs": [],
   "source": [
    "from sklearn.feature_selection import RFE\n",
    "from sklearn.linear_model import LogisticRegression"
   ]
  },
  {
   "cell_type": "code",
   "execution_count": 17,
   "metadata": {
    "_uuid": "88648e06d30306d80ab7b8fbc0e6c89184050884",
    "colab": {},
    "colab_type": "code",
    "id": "8X2CCWRSMqAg"
   },
   "outputs": [],
   "source": [
    "model = LogisticRegression() \n",
    "rfe = RFE(model, 18)"
   ]
  },
  {
   "cell_type": "code",
   "execution_count": 18,
   "metadata": {
    "_uuid": "0766e81f6d5d044cfb00ec7d1aa9aecd5aa62373",
    "colab": {
     "base_uri": "https://localhost:8080/",
     "height": 35
    },
    "colab_type": "code",
    "id": "pY7gzWdYj42h",
    "outputId": "bcd15aae-d97c-42bf-c137-37c0b5e5d2b7"
   },
   "outputs": [
    {
     "data": {
      "text/plain": [
       "67"
      ]
     },
     "execution_count": 18,
     "metadata": {},
     "output_type": "execute_result"
    }
   ],
   "source": [
    "len(dataN1.columns)"
   ]
  },
  {
   "cell_type": "code",
   "execution_count": 19,
   "metadata": {
    "_uuid": "535ae7258b8573bf7b90df5e2bbb375ca0800851",
    "colab": {},
    "colab_type": "code",
    "id": "DzBaHpmmkG8u"
   },
   "outputs": [],
   "source": [
    "X=dataN1.values"
   ]
  },
  {
   "cell_type": "code",
   "execution_count": 20,
   "metadata": {
    "_uuid": "5705d06cbc0fdd8e552e58d95c144786eeee7c28",
    "colab": {
     "base_uri": "https://localhost:8080/",
     "height": 35
    },
    "colab_type": "code",
    "id": "RapS0x7pkKt1",
    "outputId": "cf5ccad8-129d-498a-b7f6-a7fccad0b4ed"
   },
   "outputs": [
    {
     "data": {
      "text/plain": [
       "(1031, 67)"
      ]
     },
     "execution_count": 20,
     "metadata": {},
     "output_type": "execute_result"
    }
   ],
   "source": [
    "X.shape"
   ]
  },
  {
   "cell_type": "code",
   "execution_count": 21,
   "metadata": {
    "_uuid": "e855554ee072bf459fe805cfb847b123c8c383d4",
    "colab": {},
    "colab_type": "code",
    "id": "OCXHjp-gjjcQ"
   },
   "outputs": [
    {
     "name": "stderr",
     "output_type": "stream",
     "text": [
      "/opt/conda/lib/python3.6/site-packages/sklearn/linear_model/logistic.py:433: FutureWarning: Default solver will be changed to 'lbfgs' in 0.22. Specify a solver to silence this warning.\n",
      "  FutureWarning)\n",
      "/opt/conda/lib/python3.6/site-packages/sklearn/linear_model/logistic.py:460: FutureWarning: Default multi_class will be changed to 'auto' in 0.22. Specify the multi_class option to silence this warning.\n",
      "  \"this warning.\", FutureWarning)\n",
      "/opt/conda/lib/python3.6/site-packages/sklearn/linear_model/logistic.py:433: FutureWarning: Default solver will be changed to 'lbfgs' in 0.22. Specify a solver to silence this warning.\n",
      "  FutureWarning)\n",
      "/opt/conda/lib/python3.6/site-packages/sklearn/linear_model/logistic.py:460: FutureWarning: Default multi_class will be changed to 'auto' in 0.22. Specify the multi_class option to silence this warning.\n",
      "  \"this warning.\", FutureWarning)\n",
      "/opt/conda/lib/python3.6/site-packages/sklearn/linear_model/logistic.py:433: FutureWarning: Default solver will be changed to 'lbfgs' in 0.22. Specify a solver to silence this warning.\n",
      "  FutureWarning)\n",
      "/opt/conda/lib/python3.6/site-packages/sklearn/linear_model/logistic.py:460: FutureWarning: Default multi_class will be changed to 'auto' in 0.22. Specify the multi_class option to silence this warning.\n",
      "  \"this warning.\", FutureWarning)\n",
      "/opt/conda/lib/python3.6/site-packages/sklearn/linear_model/logistic.py:433: FutureWarning: Default solver will be changed to 'lbfgs' in 0.22. Specify a solver to silence this warning.\n",
      "  FutureWarning)\n",
      "/opt/conda/lib/python3.6/site-packages/sklearn/linear_model/logistic.py:460: FutureWarning: Default multi_class will be changed to 'auto' in 0.22. Specify the multi_class option to silence this warning.\n",
      "  \"this warning.\", FutureWarning)\n",
      "/opt/conda/lib/python3.6/site-packages/sklearn/linear_model/logistic.py:433: FutureWarning: Default solver will be changed to 'lbfgs' in 0.22. Specify a solver to silence this warning.\n",
      "  FutureWarning)\n",
      "/opt/conda/lib/python3.6/site-packages/sklearn/linear_model/logistic.py:460: FutureWarning: Default multi_class will be changed to 'auto' in 0.22. Specify the multi_class option to silence this warning.\n",
      "  \"this warning.\", FutureWarning)\n",
      "/opt/conda/lib/python3.6/site-packages/sklearn/linear_model/logistic.py:433: FutureWarning: Default solver will be changed to 'lbfgs' in 0.22. Specify a solver to silence this warning.\n",
      "  FutureWarning)\n",
      "/opt/conda/lib/python3.6/site-packages/sklearn/linear_model/logistic.py:460: FutureWarning: Default multi_class will be changed to 'auto' in 0.22. Specify the multi_class option to silence this warning.\n",
      "  \"this warning.\", FutureWarning)\n",
      "/opt/conda/lib/python3.6/site-packages/sklearn/linear_model/logistic.py:433: FutureWarning: Default solver will be changed to 'lbfgs' in 0.22. Specify a solver to silence this warning.\n",
      "  FutureWarning)\n",
      "/opt/conda/lib/python3.6/site-packages/sklearn/linear_model/logistic.py:460: FutureWarning: Default multi_class will be changed to 'auto' in 0.22. Specify the multi_class option to silence this warning.\n",
      "  \"this warning.\", FutureWarning)\n",
      "/opt/conda/lib/python3.6/site-packages/sklearn/linear_model/logistic.py:433: FutureWarning: Default solver will be changed to 'lbfgs' in 0.22. Specify a solver to silence this warning.\n",
      "  FutureWarning)\n",
      "/opt/conda/lib/python3.6/site-packages/sklearn/linear_model/logistic.py:460: FutureWarning: Default multi_class will be changed to 'auto' in 0.22. Specify the multi_class option to silence this warning.\n",
      "  \"this warning.\", FutureWarning)\n",
      "/opt/conda/lib/python3.6/site-packages/sklearn/linear_model/logistic.py:433: FutureWarning: Default solver will be changed to 'lbfgs' in 0.22. Specify a solver to silence this warning.\n",
      "  FutureWarning)\n",
      "/opt/conda/lib/python3.6/site-packages/sklearn/linear_model/logistic.py:460: FutureWarning: Default multi_class will be changed to 'auto' in 0.22. Specify the multi_class option to silence this warning.\n",
      "  \"this warning.\", FutureWarning)\n",
      "/opt/conda/lib/python3.6/site-packages/sklearn/linear_model/logistic.py:433: FutureWarning: Default solver will be changed to 'lbfgs' in 0.22. Specify a solver to silence this warning.\n",
      "  FutureWarning)\n",
      "/opt/conda/lib/python3.6/site-packages/sklearn/linear_model/logistic.py:460: FutureWarning: Default multi_class will be changed to 'auto' in 0.22. Specify the multi_class option to silence this warning.\n",
      "  \"this warning.\", FutureWarning)\n",
      "/opt/conda/lib/python3.6/site-packages/sklearn/linear_model/logistic.py:433: FutureWarning: Default solver will be changed to 'lbfgs' in 0.22. Specify a solver to silence this warning.\n",
      "  FutureWarning)\n",
      "/opt/conda/lib/python3.6/site-packages/sklearn/linear_model/logistic.py:460: FutureWarning: Default multi_class will be changed to 'auto' in 0.22. Specify the multi_class option to silence this warning.\n",
      "  \"this warning.\", FutureWarning)\n",
      "/opt/conda/lib/python3.6/site-packages/sklearn/linear_model/logistic.py:433: FutureWarning: Default solver will be changed to 'lbfgs' in 0.22. Specify a solver to silence this warning.\n",
      "  FutureWarning)\n",
      "/opt/conda/lib/python3.6/site-packages/sklearn/linear_model/logistic.py:460: FutureWarning: Default multi_class will be changed to 'auto' in 0.22. Specify the multi_class option to silence this warning.\n",
      "  \"this warning.\", FutureWarning)\n",
      "/opt/conda/lib/python3.6/site-packages/sklearn/linear_model/logistic.py:433: FutureWarning: Default solver will be changed to 'lbfgs' in 0.22. Specify a solver to silence this warning.\n",
      "  FutureWarning)\n",
      "/opt/conda/lib/python3.6/site-packages/sklearn/linear_model/logistic.py:460: FutureWarning: Default multi_class will be changed to 'auto' in 0.22. Specify the multi_class option to silence this warning.\n",
      "  \"this warning.\", FutureWarning)\n",
      "/opt/conda/lib/python3.6/site-packages/sklearn/linear_model/logistic.py:433: FutureWarning: Default solver will be changed to 'lbfgs' in 0.22. Specify a solver to silence this warning.\n",
      "  FutureWarning)\n",
      "/opt/conda/lib/python3.6/site-packages/sklearn/linear_model/logistic.py:460: FutureWarning: Default multi_class will be changed to 'auto' in 0.22. Specify the multi_class option to silence this warning.\n",
      "  \"this warning.\", FutureWarning)\n",
      "/opt/conda/lib/python3.6/site-packages/sklearn/linear_model/logistic.py:433: FutureWarning: Default solver will be changed to 'lbfgs' in 0.22. Specify a solver to silence this warning.\n",
      "  FutureWarning)\n",
      "/opt/conda/lib/python3.6/site-packages/sklearn/linear_model/logistic.py:460: FutureWarning: Default multi_class will be changed to 'auto' in 0.22. Specify the multi_class option to silence this warning.\n",
      "  \"this warning.\", FutureWarning)\n",
      "/opt/conda/lib/python3.6/site-packages/sklearn/linear_model/logistic.py:433: FutureWarning: Default solver will be changed to 'lbfgs' in 0.22. Specify a solver to silence this warning.\n",
      "  FutureWarning)\n",
      "/opt/conda/lib/python3.6/site-packages/sklearn/linear_model/logistic.py:460: FutureWarning: Default multi_class will be changed to 'auto' in 0.22. Specify the multi_class option to silence this warning.\n",
      "  \"this warning.\", FutureWarning)\n",
      "/opt/conda/lib/python3.6/site-packages/sklearn/linear_model/logistic.py:433: FutureWarning: Default solver will be changed to 'lbfgs' in 0.22. Specify a solver to silence this warning.\n",
      "  FutureWarning)\n",
      "/opt/conda/lib/python3.6/site-packages/sklearn/linear_model/logistic.py:460: FutureWarning: Default multi_class will be changed to 'auto' in 0.22. Specify the multi_class option to silence this warning.\n",
      "  \"this warning.\", FutureWarning)\n",
      "/opt/conda/lib/python3.6/site-packages/sklearn/linear_model/logistic.py:433: FutureWarning: Default solver will be changed to 'lbfgs' in 0.22. Specify a solver to silence this warning.\n",
      "  FutureWarning)\n",
      "/opt/conda/lib/python3.6/site-packages/sklearn/linear_model/logistic.py:460: FutureWarning: Default multi_class will be changed to 'auto' in 0.22. Specify the multi_class option to silence this warning.\n",
      "  \"this warning.\", FutureWarning)\n",
      "/opt/conda/lib/python3.6/site-packages/sklearn/linear_model/logistic.py:433: FutureWarning: Default solver will be changed to 'lbfgs' in 0.22. Specify a solver to silence this warning.\n",
      "  FutureWarning)\n",
      "/opt/conda/lib/python3.6/site-packages/sklearn/linear_model/logistic.py:460: FutureWarning: Default multi_class will be changed to 'auto' in 0.22. Specify the multi_class option to silence this warning.\n",
      "  \"this warning.\", FutureWarning)\n",
      "/opt/conda/lib/python3.6/site-packages/sklearn/linear_model/logistic.py:433: FutureWarning: Default solver will be changed to 'lbfgs' in 0.22. Specify a solver to silence this warning.\n",
      "  FutureWarning)\n",
      "/opt/conda/lib/python3.6/site-packages/sklearn/linear_model/logistic.py:460: FutureWarning: Default multi_class will be changed to 'auto' in 0.22. Specify the multi_class option to silence this warning.\n",
      "  \"this warning.\", FutureWarning)\n",
      "/opt/conda/lib/python3.6/site-packages/sklearn/linear_model/logistic.py:433: FutureWarning: Default solver will be changed to 'lbfgs' in 0.22. Specify a solver to silence this warning.\n",
      "  FutureWarning)\n",
      "/opt/conda/lib/python3.6/site-packages/sklearn/linear_model/logistic.py:460: FutureWarning: Default multi_class will be changed to 'auto' in 0.22. Specify the multi_class option to silence this warning.\n",
      "  \"this warning.\", FutureWarning)\n",
      "/opt/conda/lib/python3.6/site-packages/sklearn/linear_model/logistic.py:433: FutureWarning: Default solver will be changed to 'lbfgs' in 0.22. Specify a solver to silence this warning.\n",
      "  FutureWarning)\n",
      "/opt/conda/lib/python3.6/site-packages/sklearn/linear_model/logistic.py:460: FutureWarning: Default multi_class will be changed to 'auto' in 0.22. Specify the multi_class option to silence this warning.\n",
      "  \"this warning.\", FutureWarning)\n",
      "/opt/conda/lib/python3.6/site-packages/sklearn/linear_model/logistic.py:433: FutureWarning: Default solver will be changed to 'lbfgs' in 0.22. Specify a solver to silence this warning.\n",
      "  FutureWarning)\n",
      "/opt/conda/lib/python3.6/site-packages/sklearn/linear_model/logistic.py:460: FutureWarning: Default multi_class will be changed to 'auto' in 0.22. Specify the multi_class option to silence this warning.\n",
      "  \"this warning.\", FutureWarning)\n",
      "/opt/conda/lib/python3.6/site-packages/sklearn/linear_model/logistic.py:433: FutureWarning: Default solver will be changed to 'lbfgs' in 0.22. Specify a solver to silence this warning.\n",
      "  FutureWarning)\n",
      "/opt/conda/lib/python3.6/site-packages/sklearn/linear_model/logistic.py:460: FutureWarning: Default multi_class will be changed to 'auto' in 0.22. Specify the multi_class option to silence this warning.\n",
      "  \"this warning.\", FutureWarning)\n",
      "/opt/conda/lib/python3.6/site-packages/sklearn/linear_model/logistic.py:433: FutureWarning: Default solver will be changed to 'lbfgs' in 0.22. Specify a solver to silence this warning.\n",
      "  FutureWarning)\n",
      "/opt/conda/lib/python3.6/site-packages/sklearn/linear_model/logistic.py:460: FutureWarning: Default multi_class will be changed to 'auto' in 0.22. Specify the multi_class option to silence this warning.\n",
      "  \"this warning.\", FutureWarning)\n",
      "/opt/conda/lib/python3.6/site-packages/sklearn/linear_model/logistic.py:433: FutureWarning: Default solver will be changed to 'lbfgs' in 0.22. Specify a solver to silence this warning.\n",
      "  FutureWarning)\n",
      "/opt/conda/lib/python3.6/site-packages/sklearn/linear_model/logistic.py:460: FutureWarning: Default multi_class will be changed to 'auto' in 0.22. Specify the multi_class option to silence this warning.\n",
      "  \"this warning.\", FutureWarning)\n",
      "/opt/conda/lib/python3.6/site-packages/sklearn/linear_model/logistic.py:433: FutureWarning: Default solver will be changed to 'lbfgs' in 0.22. Specify a solver to silence this warning.\n",
      "  FutureWarning)\n",
      "/opt/conda/lib/python3.6/site-packages/sklearn/linear_model/logistic.py:460: FutureWarning: Default multi_class will be changed to 'auto' in 0.22. Specify the multi_class option to silence this warning.\n",
      "  \"this warning.\", FutureWarning)\n",
      "/opt/conda/lib/python3.6/site-packages/sklearn/linear_model/logistic.py:433: FutureWarning: Default solver will be changed to 'lbfgs' in 0.22. Specify a solver to silence this warning.\n",
      "  FutureWarning)\n",
      "/opt/conda/lib/python3.6/site-packages/sklearn/linear_model/logistic.py:460: FutureWarning: Default multi_class will be changed to 'auto' in 0.22. Specify the multi_class option to silence this warning.\n",
      "  \"this warning.\", FutureWarning)\n",
      "/opt/conda/lib/python3.6/site-packages/sklearn/linear_model/logistic.py:433: FutureWarning: Default solver will be changed to 'lbfgs' in 0.22. Specify a solver to silence this warning.\n",
      "  FutureWarning)\n",
      "/opt/conda/lib/python3.6/site-packages/sklearn/linear_model/logistic.py:460: FutureWarning: Default multi_class will be changed to 'auto' in 0.22. Specify the multi_class option to silence this warning.\n",
      "  \"this warning.\", FutureWarning)\n",
      "/opt/conda/lib/python3.6/site-packages/sklearn/linear_model/logistic.py:433: FutureWarning: Default solver will be changed to 'lbfgs' in 0.22. Specify a solver to silence this warning.\n",
      "  FutureWarning)\n",
      "/opt/conda/lib/python3.6/site-packages/sklearn/linear_model/logistic.py:460: FutureWarning: Default multi_class will be changed to 'auto' in 0.22. Specify the multi_class option to silence this warning.\n",
      "  \"this warning.\", FutureWarning)\n",
      "/opt/conda/lib/python3.6/site-packages/sklearn/linear_model/logistic.py:433: FutureWarning: Default solver will be changed to 'lbfgs' in 0.22. Specify a solver to silence this warning.\n",
      "  FutureWarning)\n",
      "/opt/conda/lib/python3.6/site-packages/sklearn/linear_model/logistic.py:460: FutureWarning: Default multi_class will be changed to 'auto' in 0.22. Specify the multi_class option to silence this warning.\n",
      "  \"this warning.\", FutureWarning)\n",
      "/opt/conda/lib/python3.6/site-packages/sklearn/linear_model/logistic.py:433: FutureWarning: Default solver will be changed to 'lbfgs' in 0.22. Specify a solver to silence this warning.\n",
      "  FutureWarning)\n",
      "/opt/conda/lib/python3.6/site-packages/sklearn/linear_model/logistic.py:460: FutureWarning: Default multi_class will be changed to 'auto' in 0.22. Specify the multi_class option to silence this warning.\n",
      "  \"this warning.\", FutureWarning)\n",
      "/opt/conda/lib/python3.6/site-packages/sklearn/linear_model/logistic.py:433: FutureWarning: Default solver will be changed to 'lbfgs' in 0.22. Specify a solver to silence this warning.\n",
      "  FutureWarning)\n",
      "/opt/conda/lib/python3.6/site-packages/sklearn/linear_model/logistic.py:460: FutureWarning: Default multi_class will be changed to 'auto' in 0.22. Specify the multi_class option to silence this warning.\n",
      "  \"this warning.\", FutureWarning)\n",
      "/opt/conda/lib/python3.6/site-packages/sklearn/linear_model/logistic.py:433: FutureWarning: Default solver will be changed to 'lbfgs' in 0.22. Specify a solver to silence this warning.\n",
      "  FutureWarning)\n",
      "/opt/conda/lib/python3.6/site-packages/sklearn/linear_model/logistic.py:460: FutureWarning: Default multi_class will be changed to 'auto' in 0.22. Specify the multi_class option to silence this warning.\n",
      "  \"this warning.\", FutureWarning)\n",
      "/opt/conda/lib/python3.6/site-packages/sklearn/linear_model/logistic.py:433: FutureWarning: Default solver will be changed to 'lbfgs' in 0.22. Specify a solver to silence this warning.\n",
      "  FutureWarning)\n",
      "/opt/conda/lib/python3.6/site-packages/sklearn/linear_model/logistic.py:460: FutureWarning: Default multi_class will be changed to 'auto' in 0.22. Specify the multi_class option to silence this warning.\n",
      "  \"this warning.\", FutureWarning)\n",
      "/opt/conda/lib/python3.6/site-packages/sklearn/linear_model/logistic.py:433: FutureWarning: Default solver will be changed to 'lbfgs' in 0.22. Specify a solver to silence this warning.\n",
      "  FutureWarning)\n",
      "/opt/conda/lib/python3.6/site-packages/sklearn/linear_model/logistic.py:460: FutureWarning: Default multi_class will be changed to 'auto' in 0.22. Specify the multi_class option to silence this warning.\n",
      "  \"this warning.\", FutureWarning)\n",
      "/opt/conda/lib/python3.6/site-packages/sklearn/linear_model/logistic.py:433: FutureWarning: Default solver will be changed to 'lbfgs' in 0.22. Specify a solver to silence this warning.\n",
      "  FutureWarning)\n",
      "/opt/conda/lib/python3.6/site-packages/sklearn/linear_model/logistic.py:460: FutureWarning: Default multi_class will be changed to 'auto' in 0.22. Specify the multi_class option to silence this warning.\n",
      "  \"this warning.\", FutureWarning)\n",
      "/opt/conda/lib/python3.6/site-packages/sklearn/linear_model/logistic.py:433: FutureWarning: Default solver will be changed to 'lbfgs' in 0.22. Specify a solver to silence this warning.\n",
      "  FutureWarning)\n",
      "/opt/conda/lib/python3.6/site-packages/sklearn/linear_model/logistic.py:460: FutureWarning: Default multi_class will be changed to 'auto' in 0.22. Specify the multi_class option to silence this warning.\n",
      "  \"this warning.\", FutureWarning)\n",
      "/opt/conda/lib/python3.6/site-packages/sklearn/linear_model/logistic.py:433: FutureWarning: Default solver will be changed to 'lbfgs' in 0.22. Specify a solver to silence this warning.\n",
      "  FutureWarning)\n",
      "/opt/conda/lib/python3.6/site-packages/sklearn/linear_model/logistic.py:460: FutureWarning: Default multi_class will be changed to 'auto' in 0.22. Specify the multi_class option to silence this warning.\n",
      "  \"this warning.\", FutureWarning)\n",
      "/opt/conda/lib/python3.6/site-packages/sklearn/linear_model/logistic.py:433: FutureWarning: Default solver will be changed to 'lbfgs' in 0.22. Specify a solver to silence this warning.\n",
      "  FutureWarning)\n",
      "/opt/conda/lib/python3.6/site-packages/sklearn/linear_model/logistic.py:460: FutureWarning: Default multi_class will be changed to 'auto' in 0.22. Specify the multi_class option to silence this warning.\n",
      "  \"this warning.\", FutureWarning)\n",
      "/opt/conda/lib/python3.6/site-packages/sklearn/linear_model/logistic.py:433: FutureWarning: Default solver will be changed to 'lbfgs' in 0.22. Specify a solver to silence this warning.\n",
      "  FutureWarning)\n",
      "/opt/conda/lib/python3.6/site-packages/sklearn/linear_model/logistic.py:460: FutureWarning: Default multi_class will be changed to 'auto' in 0.22. Specify the multi_class option to silence this warning.\n",
      "  \"this warning.\", FutureWarning)\n",
      "/opt/conda/lib/python3.6/site-packages/sklearn/linear_model/logistic.py:433: FutureWarning: Default solver will be changed to 'lbfgs' in 0.22. Specify a solver to silence this warning.\n",
      "  FutureWarning)\n",
      "/opt/conda/lib/python3.6/site-packages/sklearn/linear_model/logistic.py:460: FutureWarning: Default multi_class will be changed to 'auto' in 0.22. Specify the multi_class option to silence this warning.\n",
      "  \"this warning.\", FutureWarning)\n",
      "/opt/conda/lib/python3.6/site-packages/sklearn/linear_model/logistic.py:433: FutureWarning: Default solver will be changed to 'lbfgs' in 0.22. Specify a solver to silence this warning.\n",
      "  FutureWarning)\n",
      "/opt/conda/lib/python3.6/site-packages/sklearn/linear_model/logistic.py:460: FutureWarning: Default multi_class will be changed to 'auto' in 0.22. Specify the multi_class option to silence this warning.\n",
      "  \"this warning.\", FutureWarning)\n",
      "/opt/conda/lib/python3.6/site-packages/sklearn/linear_model/logistic.py:433: FutureWarning: Default solver will be changed to 'lbfgs' in 0.22. Specify a solver to silence this warning.\n",
      "  FutureWarning)\n",
      "/opt/conda/lib/python3.6/site-packages/sklearn/linear_model/logistic.py:460: FutureWarning: Default multi_class will be changed to 'auto' in 0.22. Specify the multi_class option to silence this warning.\n",
      "  \"this warning.\", FutureWarning)\n",
      "/opt/conda/lib/python3.6/site-packages/sklearn/linear_model/logistic.py:433: FutureWarning: Default solver will be changed to 'lbfgs' in 0.22. Specify a solver to silence this warning.\n",
      "  FutureWarning)\n",
      "/opt/conda/lib/python3.6/site-packages/sklearn/linear_model/logistic.py:460: FutureWarning: Default multi_class will be changed to 'auto' in 0.22. Specify the multi_class option to silence this warning.\n",
      "  \"this warning.\", FutureWarning)\n",
      "/opt/conda/lib/python3.6/site-packages/sklearn/linear_model/logistic.py:433: FutureWarning: Default solver will be changed to 'lbfgs' in 0.22. Specify a solver to silence this warning.\n",
      "  FutureWarning)\n",
      "/opt/conda/lib/python3.6/site-packages/sklearn/linear_model/logistic.py:460: FutureWarning: Default multi_class will be changed to 'auto' in 0.22. Specify the multi_class option to silence this warning.\n",
      "  \"this warning.\", FutureWarning)\n",
      "/opt/conda/lib/python3.6/site-packages/sklearn/linear_model/logistic.py:433: FutureWarning: Default solver will be changed to 'lbfgs' in 0.22. Specify a solver to silence this warning.\n",
      "  FutureWarning)\n",
      "/opt/conda/lib/python3.6/site-packages/sklearn/linear_model/logistic.py:460: FutureWarning: Default multi_class will be changed to 'auto' in 0.22. Specify the multi_class option to silence this warning.\n",
      "  \"this warning.\", FutureWarning)\n",
      "/opt/conda/lib/python3.6/site-packages/sklearn/linear_model/logistic.py:433: FutureWarning: Default solver will be changed to 'lbfgs' in 0.22. Specify a solver to silence this warning.\n",
      "  FutureWarning)\n",
      "/opt/conda/lib/python3.6/site-packages/sklearn/linear_model/logistic.py:460: FutureWarning: Default multi_class will be changed to 'auto' in 0.22. Specify the multi_class option to silence this warning.\n",
      "  \"this warning.\", FutureWarning)\n",
      "/opt/conda/lib/python3.6/site-packages/sklearn/linear_model/logistic.py:433: FutureWarning: Default solver will be changed to 'lbfgs' in 0.22. Specify a solver to silence this warning.\n",
      "  FutureWarning)\n",
      "/opt/conda/lib/python3.6/site-packages/sklearn/linear_model/logistic.py:460: FutureWarning: Default multi_class will be changed to 'auto' in 0.22. Specify the multi_class option to silence this warning.\n",
      "  \"this warning.\", FutureWarning)\n",
      "/opt/conda/lib/python3.6/site-packages/sklearn/linear_model/logistic.py:433: FutureWarning: Default solver will be changed to 'lbfgs' in 0.22. Specify a solver to silence this warning.\n",
      "  FutureWarning)\n",
      "/opt/conda/lib/python3.6/site-packages/sklearn/linear_model/logistic.py:460: FutureWarning: Default multi_class will be changed to 'auto' in 0.22. Specify the multi_class option to silence this warning.\n",
      "  \"this warning.\", FutureWarning)\n"
     ]
    }
   ],
   "source": [
    "fit = rfe.fit(X[:175], cl[:175])"
   ]
  },
  {
   "cell_type": "code",
   "execution_count": 22,
   "metadata": {
    "_uuid": "6436650bbf8e0b78143e5981c66110a5ce9a30e1",
    "colab": {
     "base_uri": "https://localhost:8080/",
     "height": 161
    },
    "colab_type": "code",
    "id": "qS-KLu1JM1Di",
    "outputId": "4d9b0351-7835-4f8c-8bb9-531ec8d43d35"
   },
   "outputs": [
    {
     "data": {
      "text/plain": [
       "array([False, False, False, False, False, False, False,  True, False,\n",
       "        True, False, False, False, False,  True, False,  True,  True,\n",
       "       False,  True, False, False, False, False, False,  True, False,\n",
       "       False, False, False, False,  True, False, False, False, False,\n",
       "       False, False, False, False,  True,  True, False,  True, False,\n",
       "        True, False,  True, False, False, False,  True, False, False,\n",
       "       False, False, False,  True, False,  True,  True, False, False,\n",
       "       False, False, False,  True])"
      ]
     },
     "execution_count": 22,
     "metadata": {},
     "output_type": "execute_result"
    }
   ],
   "source": [
    "fit.support_"
   ]
  },
  {
   "cell_type": "code",
   "execution_count": 23,
   "metadata": {
    "_uuid": "854784c797531c6265696a46882e59bb52a00519",
    "colab": {},
    "colab_type": "code",
    "id": "UPcFnSngjjMV"
   },
   "outputs": [],
   "source": [
    "dataN2 = dataN1"
   ]
  },
  {
   "cell_type": "code",
   "execution_count": 24,
   "metadata": {
    "_uuid": "4488366db2d6f73a84adfb692581cf602d5d47c3",
    "colab": {
     "base_uri": "https://localhost:8080/",
     "height": 35
    },
    "colab_type": "code",
    "id": "2RKOuQCZlbw1",
    "outputId": "db80c442-4a16-43d5-f437-e5e7cfc802c1"
   },
   "outputs": [
    {
     "data": {
      "text/plain": [
       "67"
      ]
     },
     "execution_count": 24,
     "metadata": {},
     "output_type": "execute_result"
    }
   ],
   "source": [
    "len(dataN2.columns)"
   ]
  },
  {
   "cell_type": "code",
   "execution_count": 25,
   "metadata": {
    "_uuid": "17c7f753ee11b71513b60775d16e74ed9f400743",
    "colab": {},
    "colab_type": "code",
    "id": "XQn_NDFXlbtc"
   },
   "outputs": [],
   "source": [
    "to_be_dropped = []\n",
    "for i in range(len(fit.support_)):\n",
    "  if (fit.support_[i]==False):\n",
    "    to_be_dropped.append(i)"
   ]
  },
  {
   "cell_type": "code",
   "execution_count": 26,
   "metadata": {
    "_uuid": "39af49c1b5866c36bc8ea26a1a2324d4b920e24c",
    "colab": {
     "base_uri": "https://localhost:8080/",
     "height": 35
    },
    "colab_type": "code",
    "id": "fkywUWkNlbrE",
    "outputId": "0921cf70-fc27-4a1c-c3eb-82c985c14398"
   },
   "outputs": [
    {
     "data": {
      "text/plain": [
       "49"
      ]
     },
     "execution_count": 26,
     "metadata": {},
     "output_type": "execute_result"
    }
   ],
   "source": [
    "len(to_be_dropped)"
   ]
  },
  {
   "cell_type": "code",
   "execution_count": 27,
   "metadata": {
    "_uuid": "c9967bacd4c25e523a018f94b5e0c40a8588e0cf",
    "colab": {},
    "colab_type": "code",
    "id": "NhWuIHIhlboq"
   },
   "outputs": [],
   "source": [
    "dataN2= dataN2.drop(columns=to_be_dropped)"
   ]
  },
  {
   "cell_type": "code",
   "execution_count": 28,
   "metadata": {
    "_uuid": "e52b9aa54983a04215f4863c19e36fb7ebe513f9",
    "colab": {
     "base_uri": "https://localhost:8080/",
     "height": 204
    },
    "colab_type": "code",
    "id": "cSRmFjE0lbj1",
    "outputId": "fa7cbe10-60e9-4941-e55d-04abe249f52e"
   },
   "outputs": [
    {
     "data": {
      "text/html": [
       "<div>\n",
       "<style scoped>\n",
       "    .dataframe tbody tr th:only-of-type {\n",
       "        vertical-align: middle;\n",
       "    }\n",
       "\n",
       "    .dataframe tbody tr th {\n",
       "        vertical-align: top;\n",
       "    }\n",
       "\n",
       "    .dataframe thead th {\n",
       "        text-align: right;\n",
       "    }\n",
       "</style>\n",
       "<table border=\"1\" class=\"dataframe\">\n",
       "  <thead>\n",
       "    <tr style=\"text-align: right;\">\n",
       "      <th></th>\n",
       "      <th>7</th>\n",
       "      <th>9</th>\n",
       "      <th>14</th>\n",
       "      <th>16</th>\n",
       "      <th>17</th>\n",
       "      <th>19</th>\n",
       "      <th>25</th>\n",
       "      <th>31</th>\n",
       "      <th>40</th>\n",
       "      <th>41</th>\n",
       "      <th>43</th>\n",
       "      <th>45</th>\n",
       "      <th>47</th>\n",
       "      <th>51</th>\n",
       "      <th>57</th>\n",
       "      <th>59</th>\n",
       "      <th>60</th>\n",
       "      <th>66</th>\n",
       "    </tr>\n",
       "  </thead>\n",
       "  <tbody>\n",
       "    <tr>\n",
       "      <th>0</th>\n",
       "      <td>0.124645</td>\n",
       "      <td>0.0</td>\n",
       "      <td>0.0</td>\n",
       "      <td>0.0</td>\n",
       "      <td>0.0</td>\n",
       "      <td>0.0</td>\n",
       "      <td>0.0</td>\n",
       "      <td>0.0</td>\n",
       "      <td>0.0</td>\n",
       "      <td>0.0</td>\n",
       "      <td>1.0</td>\n",
       "      <td>0.0</td>\n",
       "      <td>0.0</td>\n",
       "      <td>1.0</td>\n",
       "      <td>1.0</td>\n",
       "      <td>1.0</td>\n",
       "      <td>0.0</td>\n",
       "      <td>0.0</td>\n",
       "    </tr>\n",
       "    <tr>\n",
       "      <th>1</th>\n",
       "      <td>0.040808</td>\n",
       "      <td>0.0</td>\n",
       "      <td>0.0</td>\n",
       "      <td>0.0</td>\n",
       "      <td>1.0</td>\n",
       "      <td>0.0</td>\n",
       "      <td>0.0</td>\n",
       "      <td>0.0</td>\n",
       "      <td>0.0</td>\n",
       "      <td>0.0</td>\n",
       "      <td>1.0</td>\n",
       "      <td>0.0</td>\n",
       "      <td>0.0</td>\n",
       "      <td>1.0</td>\n",
       "      <td>1.0</td>\n",
       "      <td>0.0</td>\n",
       "      <td>1.0</td>\n",
       "      <td>0.0</td>\n",
       "    </tr>\n",
       "    <tr>\n",
       "      <th>2</th>\n",
       "      <td>0.176468</td>\n",
       "      <td>0.0</td>\n",
       "      <td>0.0</td>\n",
       "      <td>0.0</td>\n",
       "      <td>0.0</td>\n",
       "      <td>0.0</td>\n",
       "      <td>0.0</td>\n",
       "      <td>1.0</td>\n",
       "      <td>0.0</td>\n",
       "      <td>1.0</td>\n",
       "      <td>1.0</td>\n",
       "      <td>0.0</td>\n",
       "      <td>1.0</td>\n",
       "      <td>0.0</td>\n",
       "      <td>1.0</td>\n",
       "      <td>1.0</td>\n",
       "      <td>0.0</td>\n",
       "      <td>0.0</td>\n",
       "    </tr>\n",
       "    <tr>\n",
       "      <th>3</th>\n",
       "      <td>0.187110</td>\n",
       "      <td>0.0</td>\n",
       "      <td>0.0</td>\n",
       "      <td>0.0</td>\n",
       "      <td>0.0</td>\n",
       "      <td>0.0</td>\n",
       "      <td>0.0</td>\n",
       "      <td>0.0</td>\n",
       "      <td>0.0</td>\n",
       "      <td>0.0</td>\n",
       "      <td>1.0</td>\n",
       "      <td>0.0</td>\n",
       "      <td>1.0</td>\n",
       "      <td>0.0</td>\n",
       "      <td>1.0</td>\n",
       "      <td>1.0</td>\n",
       "      <td>0.0</td>\n",
       "      <td>0.0</td>\n",
       "    </tr>\n",
       "    <tr>\n",
       "      <th>4</th>\n",
       "      <td>0.117231</td>\n",
       "      <td>0.0</td>\n",
       "      <td>0.0</td>\n",
       "      <td>0.0</td>\n",
       "      <td>0.0</td>\n",
       "      <td>0.0</td>\n",
       "      <td>0.0</td>\n",
       "      <td>0.0</td>\n",
       "      <td>0.0</td>\n",
       "      <td>0.0</td>\n",
       "      <td>1.0</td>\n",
       "      <td>0.0</td>\n",
       "      <td>0.0</td>\n",
       "      <td>0.0</td>\n",
       "      <td>0.0</td>\n",
       "      <td>0.0</td>\n",
       "      <td>0.0</td>\n",
       "      <td>0.0</td>\n",
       "    </tr>\n",
       "  </tbody>\n",
       "</table>\n",
       "</div>"
      ],
      "text/plain": [
       "         7    9    14   16   17   19   25   31   40   41   43   45   47   51  \\\n",
       "0  0.124645  0.0  0.0  0.0  0.0  0.0  0.0  0.0  0.0  0.0  1.0  0.0  0.0  1.0   \n",
       "1  0.040808  0.0  0.0  0.0  1.0  0.0  0.0  0.0  0.0  0.0  1.0  0.0  0.0  1.0   \n",
       "2  0.176468  0.0  0.0  0.0  0.0  0.0  0.0  1.0  0.0  1.0  1.0  0.0  1.0  0.0   \n",
       "3  0.187110  0.0  0.0  0.0  0.0  0.0  0.0  0.0  0.0  0.0  1.0  0.0  1.0  0.0   \n",
       "4  0.117231  0.0  0.0  0.0  0.0  0.0  0.0  0.0  0.0  0.0  1.0  0.0  0.0  0.0   \n",
       "\n",
       "    57   59   60   66  \n",
       "0  1.0  1.0  0.0  0.0  \n",
       "1  1.0  0.0  1.0  0.0  \n",
       "2  1.0  1.0  0.0  0.0  \n",
       "3  1.0  1.0  0.0  0.0  \n",
       "4  0.0  0.0  0.0  0.0  "
      ]
     },
     "execution_count": 28,
     "metadata": {},
     "output_type": "execute_result"
    }
   ],
   "source": [
    "dataN2.head()"
   ]
  },
  {
   "cell_type": "code",
   "execution_count": 29,
   "metadata": {
    "_uuid": "fb34cedc63c3c22bf93e5d5bf824769154502052",
    "colab": {},
    "colab_type": "code",
    "id": "aFHmxGEVNE0Z"
   },
   "outputs": [],
   "source": [
    "from sklearn.decomposition import PCA\n",
    "pca1 = PCA(n_components=2)\n",
    "pca1.fit(dataN2)\n",
    "T1 = pca1.transform(dataN2)"
   ]
  },
  {
   "cell_type": "code",
   "execution_count": 30,
   "metadata": {
    "_uuid": "3fba47420209f15c07f3dc7592ae8ca4a6de7fc4",
    "colab": {
     "base_uri": "https://localhost:8080/",
     "height": 365
    },
    "colab_type": "code",
    "id": "U3dm26DeNJsJ",
    "outputId": "c4308a38-fdec-4702-8e74-b22a27f0a198"
   },
   "outputs": [
    {
     "data": {
      "text/plain": [
       "<matplotlib.collections.PathCollection at 0x7f4c394804a8>"
      ]
     },
     "execution_count": 30,
     "metadata": {},
     "output_type": "execute_result"
    },
    {
     "data": {
      "image/png": "[encoded data removed]",
      "text/plain": [
       "<Figure size 432x288 with 1 Axes>"
      ]
     },
     "metadata": {},
     "output_type": "display_data"
    }
   ],
   "source": [
    "plt.scatter(T1[:,0],T1[:, 1])"
   ]
  },
  {
   "cell_type": "code",
   "execution_count": 31,
   "metadata": {
    "_uuid": "0539f8c5eaa6112df1823a471e1e96bc7456df10",
    "colab": {
     "base_uri": "https://localhost:8080/",
     "height": 365
    },
    "colab_type": "code",
    "id": "xuOlpqhqNLw9",
    "outputId": "df29a433-dfea-4f17-acb8-d62d6872efd3"
   },
   "outputs": [
    {
     "data": {
      "text/plain": [
       "<matplotlib.collections.PathCollection at 0x7f4c33d39668>"
      ]
     },
     "execution_count": 31,
     "metadata": {},
     "output_type": "execute_result"
    },
    {
     "data": {
      "image/png": "[encoded data removed]",
      "text/plain": [
       "<Figure size 432x288 with 1 Axes>"
      ]
     },
     "metadata": {},
     "output_type": "display_data"
    }
   ],
   "source": [
    "from sklearn.cluster import KMeans\n",
    "preds1=[]\n",
    "kmean = KMeans(n_clusters = 7, random_state = 42)\n",
    "kmean.fit(dataN2)\n",
    "pred = kmean.predict(dataN2)\n",
    "preds1.append(pred)\n",
    "plt.scatter(T1[:, 0], T1[:, 1], c=pred)"
   ]
  },
  {
   "cell_type": "code",
   "execution_count": 32,
   "metadata": {
    "_uuid": "f01ae75a4a4a6128ca0b5b1891058d18cb809753",
    "colab": {},
    "colab_type": "code",
    "id": "3a6zB3YQnYNv"
   },
   "outputs": [],
   "source": [
    "colors = ['red','green','blue','yellow','purple','pink','palegreen','violet','cyan', 'black']"
   ]
  },
  {
   "cell_type": "code",
   "execution_count": 33,
   "metadata": {
    "_uuid": "81585862f41778f45fd9f314cf1b5ec3147e7745",
    "colab": {},
    "colab_type": "code",
    "id": "leOxT7FVnvMj"
   },
   "outputs": [],
   "source": [
    "pred_colors=[]\n",
    "for i in pred:\n",
    "  pred_colors.append(colors[i])"
   ]
  },
  {
   "cell_type": "code",
   "execution_count": 34,
   "metadata": {
    "_uuid": "907b623ef21450341638b4dcbd22710336250382",
    "colab": {},
    "colab_type": "code",
    "id": "lvVBN-glnvMo"
   },
   "outputs": [],
   "source": [
    "df_up=dataN2[:175]\n",
    "df_down=dataN2[175:]"
   ]
  },
  {
   "cell_type": "code",
   "execution_count": 35,
   "metadata": {
    "_uuid": "eac8949be60b738a05ad064622dae618b81bdf6e",
    "colab": {
     "base_uri": "https://localhost:8080/",
     "height": 365
    },
    "colab_type": "code",
    "id": "4-FMX0y2nvMt",
    "outputId": "23879e61-39f2-4c6c-c505-77f41a2e8ea9"
   },
   "outputs": [
    {
     "data": {
      "text/plain": [
       "<matplotlib.collections.PathCollection at 0x7f4c33ca2630>"
      ]
     },
     "execution_count": 35,
     "metadata": {},
     "output_type": "execute_result"
    },
    {
     "data": {
      "image/png": "[encoded data removed]",
      "text/plain": [
       "<Figure size 432x288 with 1 Axes>"
      ]
     },
     "metadata": {},
     "output_type": "display_data"
    }
   ],
   "source": [
    "pred = kmean.predict(dataN2)\n",
    "\n",
    "plt.scatter(T1[175:, 0], T1[175:, 1], c=pred_colors[175:])"
   ]
  },
  {
   "cell_type": "code",
   "execution_count": 36,
   "metadata": {
    "_uuid": "d772ecce5ceb222586707123d201c87bb38a4ac5",
    "colab": {
     "base_uri": "https://localhost:8080/",
     "height": 365
    },
    "colab_type": "code",
    "id": "0bBMKLLDnvMx",
    "outputId": "36b4b1bf-4a08-473c-9edc-f02c93f51dda"
   },
   "outputs": [
    {
     "data": {
      "text/plain": [
       "<matplotlib.collections.PathCollection at 0x7f4c33c7af60>"
      ]
     },
     "execution_count": 36,
     "metadata": {},
     "output_type": "execute_result"
    },
    {
     "data": {
      "image/png": "[encoded data removed]",
      "text/plain": [
       "<Figure size 432x288 with 1 Axes>"
      ]
     },
     "metadata": {},
     "output_type": "display_data"
    }
   ],
   "source": [
    "pred = kmean.predict(dataN2)\n",
    "\n",
    "plt.scatter(T1[:175, 0], T1[:175, 1], c=pred_colors[:175])"
   ]
  },
  {
   "cell_type": "code",
   "execution_count": 37,
   "metadata": {
    "_uuid": "20481003632ea3e6fc521d8bf5c10543f1bdc1ff",
    "colab": {},
    "colab_type": "code",
    "id": "ROPJ-Sq8n-v4"
   },
   "outputs": [],
   "source": [
    "label_colors=[]\n",
    "for i in cl[:175]:\n",
    "  label_colors.append(colors[int(i)])"
   ]
  },
  {
   "cell_type": "code",
   "execution_count": 38,
   "metadata": {
    "_uuid": "28c098a7a3af1a5d94d1900666f056a241507ad4",
    "colab": {
     "base_uri": "https://localhost:8080/",
     "height": 365
    },
    "colab_type": "code",
    "id": "pBfIGLPpnvM0",
    "outputId": "65c7c0ef-6557-478c-cac6-17278eeb1266"
   },
   "outputs": [
    {
     "data": {
      "text/plain": [
       "<matplotlib.collections.PathCollection at 0x7f4c33bdc390>"
      ]
     },
     "execution_count": 38,
     "metadata": {},
     "output_type": "execute_result"
    },
    {
     "data": {
      "image/png": "[encoded data removed]",
      "text/plain": [
       "<Figure size 432x288 with 1 Axes>"
      ]
     },
     "metadata": {},
     "output_type": "display_data"
    }
   ],
   "source": [
    "pred = kmean.predict(dataN2)\n",
    "\n",
    "plt.scatter(T1[:175, 0], T1[:175, 1], c=label_colors)"
   ]
  },
  {
   "cell_type": "code",
   "execution_count": 39,
   "metadata": {
    "_uuid": "487efeeee3374cf9e76cb6ed76f2c24381c5174d",
    "colab": {},
    "colab_type": "code",
    "id": "FI16_nJQoks5"
   },
   "outputs": [],
   "source": [
    "hdict={'red':2,'green': 0,'blue':2,'yellow':0,'purple':1,'pink':1,'palegreen':2,'violet':9,'cyan':9}\n",
    "#red=0 green = 1 blue =2                                             try"
   ]
  },
  {
   "cell_type": "code",
   "execution_count": 40,
   "metadata": {
    "_uuid": "23961004f775bf058f4616695d8ecf6e856abe80",
    "colab": {},
    "colab_type": "code",
    "id": "Z2ofG-3DoktA"
   },
   "outputs": [],
   "source": [
    "curr_preds = pred_colors"
   ]
  },
  {
   "cell_type": "code",
   "execution_count": 41,
   "metadata": {
    "_uuid": "1409405689dd8e6400c3b4bb423e6f86a1d50e66",
    "colab": {},
    "colab_type": "code",
    "id": "fWc3B69LoktE"
   },
   "outputs": [],
   "source": [
    "curr_nums=[]\n",
    "for i in curr_preds:\n",
    "  curr_nums.append(hdict[i])"
   ]
  },
  {
   "cell_type": "code",
   "execution_count": 42,
   "metadata": {
    "_uuid": "b7cc301e5f2d5809f11a9dd242649a60bb5d262e",
    "colab": {},
    "colab_type": "code",
    "id": "YUXwycKLoktG"
   },
   "outputs": [],
   "source": [
    "corr=0\n",
    "for i in range(175):\n",
    "  if curr_nums[i]==cl[i]:\n",
    "    corr=corr+1"
   ]
  },
  {
   "cell_type": "code",
   "execution_count": 43,
   "metadata": {
    "_uuid": "9ff504624825c0f24e8b3259889ddacf21bc2948",
    "colab": {
     "base_uri": "https://localhost:8080/",
     "height": 35
    },
    "colab_type": "code",
    "id": "ToLw-rgdoktI",
    "outputId": "3206314c-1dd8-46c0-e0c5-71808db5b97a"
   },
   "outputs": [
    {
     "data": {
      "text/plain": [
       "0.68"
      ]
     },
     "execution_count": 43,
     "metadata": {},
     "output_type": "execute_result"
    }
   ],
   "source": [
    "corr/175"
   ]
  },
  {
   "cell_type": "code",
   "execution_count": 44,
   "metadata": {
    "_uuid": "3d9b5efa0b164ada2cd6cb7b7d42011344c9b6ec",
    "colab": {},
    "colab_type": "code",
    "id": "aunrO986oTB4"
   },
   "outputs": [],
   "source": [
    "idx=df[\"id\"].values"
   ]
  },
  {
   "cell_type": "code",
   "execution_count": 45,
   "metadata": {
    "_uuid": "f552cacfa02163a022f002dc69323cf814656abc",
    "colab": {
     "base_uri": "https://localhost:8080/",
     "height": 35
    },
    "colab_type": "code",
    "id": "LKrN4ZbmnnBb",
    "outputId": "7222141a-5cb8-405e-a522-e324899bff2c"
   },
   "outputs": [
    {
     "data": {
      "text/plain": [
       "1031"
      ]
     },
     "execution_count": 45,
     "metadata": {},
     "output_type": "execute_result"
    }
   ],
   "source": [
    "len(idx)"
   ]
  },
  {
   "cell_type": "code",
   "execution_count": 46,
   "metadata": {
    "_uuid": "413b4958d5b317bc0d609fc3f8fc9515b0bde6ed",
    "colab": {},
    "colab_type": "code",
    "id": "uO3GfMltnm2D"
   },
   "outputs": [],
   "source": [
    "dicty= {\"id\" : idx[175:], \"Class\" : curr_nums[175:]}"
   ]
  },
  {
   "cell_type": "code",
   "execution_count": 47,
   "metadata": {
    "_uuid": "abeb47f3f412d68c9f933fba6b6f982c5a537673",
    "colab": {},
    "colab_type": "code",
    "id": "9o5PN1TtrFft"
   },
   "outputs": [],
   "source": [
    "sub=pd.DataFrame.from_dict(dicty)"
   ]
  },
  {
   "cell_type": "code",
   "execution_count": 48,
   "metadata": {
    "_uuid": "2dee01dee2553f8c55ce661f394c4a71bd936a40",
    "colab": {},
    "colab_type": "code",
    "id": "zR4c1X0OrFfz"
   },
   "outputs": [],
   "source": [
    "sub=sub[['id', 'Class']]"
   ]
  },
  {
   "cell_type": "code",
   "execution_count": 49,
   "metadata": {
    "_uuid": "433a6857a1e82fe4e517c968d3f55fc9ec9311b7",
    "colab": {
     "base_uri": "https://localhost:8080/",
     "height": 204
    },
    "colab_type": "code",
    "id": "56g15LdtrFf2",
    "outputId": "dfbac731-55a8-459d-b7f9-a6bc0497fe23"
   },
   "outputs": [
    {
     "data": {
      "text/html": [
       "<div>\n",
       "<style scoped>\n",
       "    .dataframe tbody tr th:only-of-type {\n",
       "        vertical-align: middle;\n",
       "    }\n",
       "\n",
       "    .dataframe tbody tr th {\n",
       "        vertical-align: top;\n",
       "    }\n",
       "\n",
       "    .dataframe thead th {\n",
       "        text-align: right;\n",
       "    }\n",
       "</style>\n",
       "<table border=\"1\" class=\"dataframe\">\n",
       "  <thead>\n",
       "    <tr style=\"text-align: right;\">\n",
       "      <th></th>\n",
       "      <th>id</th>\n",
       "      <th>Class</th>\n",
       "    </tr>\n",
       "  </thead>\n",
       "  <tbody>\n",
       "    <tr>\n",
       "      <th>0</th>\n",
       "      <td>id330</td>\n",
       "      <td>0</td>\n",
       "    </tr>\n",
       "    <tr>\n",
       "      <th>1</th>\n",
       "      <td>id483</td>\n",
       "      <td>0</td>\n",
       "    </tr>\n",
       "    <tr>\n",
       "      <th>2</th>\n",
       "      <td>id55</td>\n",
       "      <td>1</td>\n",
       "    </tr>\n",
       "    <tr>\n",
       "      <th>3</th>\n",
       "      <td>id109</td>\n",
       "      <td>2</td>\n",
       "    </tr>\n",
       "    <tr>\n",
       "      <th>4</th>\n",
       "      <td>id455</td>\n",
       "      <td>1</td>\n",
       "    </tr>\n",
       "  </tbody>\n",
       "</table>\n",
       "</div>"
      ],
      "text/plain": [
       "      id  Class\n",
       "0  id330      0\n",
       "1  id483      0\n",
       "2   id55      1\n",
       "3  id109      2\n",
       "4  id455      1"
      ]
     },
     "execution_count": 49,
     "metadata": {},
     "output_type": "execute_result"
    }
   ],
   "source": [
    "sub.head()"
   ]
  },
  {
   "cell_type": "code",
   "execution_count": 50,
   "metadata": {
    "_uuid": "c2ad7a768b53afc294736cc6d6648a4c82464787",
    "colab": {},
    "colab_type": "code",
    "id": "kWofewCKrFf6"
   },
   "outputs": [],
   "source": [
    "sub.to_csv(\"2015B3A70400G.csv\", index=False)\n"
   ]
  },
  {
   "cell_type": "code",
   "execution_count": 51,
   "metadata": {
    "_uuid": "a8d5469f9fa8baabf6b03c7e8252b6a41a73a1f5",
    "colab": {},
    "colab_type": "code",
    "id": "H2sD7JFcO-ob"
   },
   "outputs": [
    {
     "data": {
      "text/html": [
       "<a download=\"data.csv\" href=\"data:text/csv;base64,aWQsQ2xhc3MKaWQzMzAsMAppZDQ4MywwCmlkNTUsMQppZDEwOSwyCmlkNDU1LDEKaWQ5MjYsMAppZDcwMiwyCmlkMTQ2LDIKaWQ3NzksMAppZDg5NywyCmlkMjE2LDIKaWQzMDYsMgppZDM2LDIKaWQ0NzYsMAppZDI2MywxCmlkNjUyLDEKaWQyNjgsMgppZDQ4NywyCmlkODUxLDEKaWQ2MiwyCmlkMjAzLDAKaWQ3NDAsMAppZDI4NCwwCmlkODQ4LDIKaWQ5NzMsMAppZDg2LDIKaWQ3NTAsMAppZDkyMywyCmlkMjMzLDIKaWQ5NzcsMAppZDQwOSwxCmlkMzMzLDIKaWQxNywwCmlkNzg4LDIKaWQ3MjksMgppZDI3OSwwCmlkNDkzLDIKaWQ3NjQsMAppZDQ4LDEKaWQ3NzYsMAppZDIwLDIKaWQ1MjcsMQppZDg3MSwxCmlkMjM5LDAKaWQ3MDQsMQppZDEwMSwwCmlkNzg2LDIKaWQzMzUsMgppZDk3MSwyCmlkNzI3LDIKaWQ0MDgsMQppZDM5MSwyCmlkNzk2LDAKaWQzMjksMQppZDQ5OSwxCmlkNzcyLDIKaWQ0NzcsMgppZDQ1NywyCmlkMzU4LDAKaWQxMjYsMgppZDQ2OCwwCmlkODExLDAKaWQ3ODcsMAppZDYwNCwyCmlkNjk5LDEKaWQyNzgsMAppZDQ1MywwCmlkMjc1LDAKaWQxMDQsMAppZDk5MCwxCmlkMjIxLDEKaWQ0ODYsMAppZDEyNywyCmlkNTkxLDAKaWQ3ODIsMgppZDczLDAKaWQ4ODUsMgppZDQyNCwxCmlkMzA0LDIKaWQyMzEsMAppZDk3OCwyCmlkNDA1LDEKaWQ5MTIsMgppZDcsMgppZDU5NiwxCmlkMjEzLDAKaWQ0ODgsMAppZDQ3MSwxCmlkMjU5LDEKaWQ5OTYsMQppZDE5MiwxCmlkNTksMAppZDM3MiwyCmlkMjU1LDEKaWQ2NTYsMAppZDkwMCwwCmlkMTc1LDAKaWQ4MjAsMAppZDEwMywxCmlkOTgzLDIKaWQ4MDcsMAppZDIxMCwxCmlkOTc0LDIKaWQ1NjgsMAppZDU1MywxCmlkNjE1LDAKaWQyNjksMQppZDMwMiwyCmlkOTQzLDAKaWQ5NjQsMgppZDMxNCwwCmlkNzU3LDEKaWQ5MjcsMgppZDUzMSwxCmlkMzYxLDAKaWQxNTMsMAppZDY4MCwxCmlkODcyLDAKaWQ0LDAKaWQzMzksMAppZDI3MywwCmlkODU4LDEKaWQ3NjEsMQppZDUxMSwwCmlkNTYyLDIKaWQ0NTAsMAppZDEzMSwyCmlkNDA0LDEKaWQ0NDEsMQppZDczMiwyCmlkMzk5LDEKaWQzNjUsMAppZDU3OSwwCmlkNzA1LDIKaWQ3MTAsMgppZDk2NywxCmlkNjA1LDEKaWQ2MzcsMAppZDcxNCwyCmlkNjY1LDEKaWQ5MTgsMgppZDAsMgppZDY1OSwxCmlkODY3LDAKaWQyODYsMgppZDI2NywxCmlkNTE4LDAKaWQzMDksMgppZDgwOSwyCmlkMzY4LDIKaWQ0NzQsMQppZDg2MiwwCmlkNjc4LDIKaWQxNTAsMgppZDkxNiwxCmlkMTM5LDAKaWQ1NzgsMQppZDMyMSwyCmlkMTAwLDEKaWQ2MSwyCmlkOTMwLDEKaWQ3MjgsMQppZDUyMywyCmlkOTE0LDIKaWQ4LDEKaWQ4MzgsMgppZDk4MSwwCmlkMjQzLDAKaWQ0MSwxCmlkNDk3LDEKaWQ5ODIsMQppZDUyMCwyCmlkNzY4LDEKaWQ1NjYsMAppZDMwNSwxCmlkNDY3LDAKaWQ0OTQsMgppZDg1NiwxCmlkNDQ4LDAKaWQ5NjksMAppZDQyNywxCmlkOTgwLDAKaWQ3NTIsMgppZDc1MywyCmlkNzk5LDEKaWQxODUsMQppZDMyMCwyCmlkNTYxLDEKaWQ1MTQsMQppZDc2MCwwCmlkMzk4LDEKaWQzODQsMgppZDY4MywyCmlkNDQ3LDEKaWQ4ODAsMAppZDg4LDEKaWQ5NzksMAppZDI4NSwxCmlkOTA1LDAKaWQzMzQsMgppZDcyMywwCmlkMzc2LDEKaWQ0ODAsMgppZDkzNiwyCmlkNjY0LDAKaWQxMDIsMQppZDc4MCwyCmlkNTQ2LDIKaWQ4MzAsMgppZDk2OCwwCmlkODk4LDEKaWQ3MTIsMAppZDQzOCwwCmlkNDcyLDEKaWQ4NjUsMAppZDg2MCwxCmlkODUzLDAKaWQzMDMsMgppZDYwMCwwCmlkNjI2LDAKaWQ1NDcsMAppZDkyNCwyCmlkMzEyLDIKaWQxODcsMAppZDg3OCwxCmlkNTg0LDAKaWQ2ODQsMgppZDU4LDAKaWQ4NTksMAppZDg1NCwxCmlkMzgwLDAKaWQ4NzUsMAppZDc0NiwxCmlkNDg1LDEKaWQ3MzMsMAppZDI2NSwxCmlkNzgzLDEKaWQ3ODksMAppZDk5NSwxCmlkOTQ2LDAKaWQ2MjgsMQppZDQ4OSwwCmlkMjYxLDAKaWQzNDIsMgppZDExNiwwCmlkMTE4LDAKaWQ4NDMsMAppZDY4LDAKaWQ2NSwxCmlkMjA5LDIKaWQ4MTAsMgppZDY1MSwwCmlkNzk1LDEKaWQ3NDMsMQppZDM1LDAKaWQ4MjIsMAppZDYxOCwwCmlkMTgzLDAKaWQzNzcsMgppZDg5NSwwCmlkOTg3LDIKaWQzMzEsMQppZDE2NywxCmlkNDQ5LDAKaWQyNjQsMQppZDE4MiwwCmlkMzkyLDEKaWQzMCwxCmlkNzc0LDEKaWQyOTMsMAppZDU5MywxCmlkMzczLDIKaWQzNjcsMQppZDc0NywwCmlkNTAsMgppZDMzNiwwCmlkNjE3LDEKaWQ0MjksMQppZDU3MSwwCmlkOTMzLDEKaWQ4MjMsMAppZDcxMywxCmlkOTk3LDEKaWQ2ODEsMgppZDc1NiwxCmlkMjk0LDIKaWQ3NDgsMgppZDIxMSwxCmlkNjg3LDIKaWQ4NDYsMAppZDYyNCwxCmlkNDMxLDIKaWQyNDAsMAppZDExMywwCmlkOTExLDIKaWQzMDEsMgppZDkzOCwwCmlkMzk2LDIKaWQyNTcsMQppZDM3MSwyCmlkMzkwLDEKaWQ3NzUsMAppZDY5NCwwCmlkMzExLDAKaWQ1ODAsMQppZDQyNSwwCmlkMzQ3LDAKaWQyODAsMQppZDI2MiwwCmlkNjU1LDIKaWQ0MTcsMQppZDc2OSwwCmlkNDM2LDIKaWQ0NTEsMQppZDk0OCwxCmlkMTA3LDEKaWQ0MzksMQppZDk1NywyCmlkNjUwLDIKaWQxMjAsMgppZDcxLDAKaWQ5OTksMAppZDg0MCwwCmlkMTUxLDEKaWQ2ODIsMgppZDk5OCwxCmlkNTE5LDIKaWQ2NzMsMAppZDUzLDEKaWQ1ODUsMAppZDI0OSwwCmlkMjM3LDAKaWQzNDgsMAppZDQ3OSwxCmlkMTYsMgppZDM5MywwCmlkNjU0LDIKaWQ2MDMsMAppZDU0MSwwCmlkNjg4LDIKaWQ1MzIsMAppZDg4MiwwCmlkNzAwLDEKaWQyMjYsMgppZDUwNCwyCmlkNDczLDAKaWQ1NzcsMgppZDgzMiwwCmlkNjg1LDIKaWQ5MTcsMgppZDc3MSwyCmlkODk0LDAKaWQ0MDEsMgppZDYzNSwyCmlkNzk4LDAKaWQyNzQsMgppZDk4OSwxCmlkMjAyLDAKaWQyNzIsMgppZDEsMAppZDgyNCwxCmlkNDQsMQppZDM0MSwwCmlkMTY5LDEKaWQyMTUsMQppZDU5MCwwCmlkOTIsMgppZDg1NSwyCmlkOTAyLDAKaWQxOTUsMAppZDI0MSwxCmlkODMzLDEKaWQ2MjAsMgppZDYzOCwyCmlkMzQ2LDAKaWQ5MTAsMQppZDcwLDIKaWQ4ODcsMgppZDkzMiwyCmlkNTE1LDAKaWQ2MzksMgppZDk4NiwwCmlkNjksMgppZDQwNywwCmlkNTU3LDIKaWQxNzEsMAppZDEzOCwwCmlkMTIxLDAKaWQ1ODMsMAppZDY5MywxCmlkMzI2LDEKaWQ3NjMsMAppZDczNCwwCmlkODkzLDEKaWQ3OTQsMQppZDQzMywyCmlkODE0LDAKaWQ4NDksMQppZDUwOSwwCmlkOTQsMAppZDYzMCwwCmlkNjI1LDIKaWQyMzgsMQppZDIxLDIKaWQzMjUsMgppZDQyNiwyCmlkMjU4LDAKaWQyNTYsMAppZDUxNywxCmlkOTYsMAppZDk1MiwyCmlkMzMsMQppZDc2NiwyCmlkODU3LDEKaWQ1NzIsMgppZDMyOCwyCmlkMjk4LDIKaWQzNjMsMgppZDEzLDAKaWQ4NjMsMQppZDU0MCwxCmlkNjY2LDAKaWQ1NTIsMAppZDI0OCwxCmlkOTA5LDEKaWQyMjksMAppZDUzOCwyCmlkODQ3LDIKaWQzNDMsMAppZDQwLDAKaWQ5ODQsMgppZDE4MSwxCmlkNjkxLDIKaWQzNTksMAppZDI0MiwyCmlkNiwxCmlkNzQxLDEKaWQ5MTksMgppZDQwMywwCmlkNjIxLDAKaWQzNDksMAppZDQ4NCwxCmlkNDE4LDIKaWQ2NDMsMgppZDkwOCwwCmlkNzIyLDEKaWQ0NjYsMAppZDQ2OSwxCmlkNDIxLDEKaWQ4MSwxCmlkODAyLDIKaWQ1NywwCmlkOTIwLDEKaWQ1OTIsMgppZDUyOSwyCmlkMTAsMAppZDc4LDIKaWQzNTMsMQppZDk5MSwwCmlkOTIyLDEKaWQ1MTYsMAppZDksMgppZDQ2MiwxCmlkNTg4LDEKaWQzNzQsMgppZDE1NiwwCmlkNzkwLDAKaWQ4NzAsMgppZDM4MSwyCmlkMzk3LDIKaWQzMDgsMQppZDI2MCwxCmlkNDMyLDAKaWQ5OTQsMQppZDE4OSwwCmlkMjU0LDEKaWQ3OTcsMQppZDg3MywxCmlkMTU5LDIKaWQyMzIsMgppZDQwMCwyCmlkNzQyLDAKaWQ3MTUsMQppZDUzNywxCmlkNTQyLDIKaWQyMzYsMAppZDgxNywwCmlkMjcsMQppZDQxMywyCmlkNzA4LDEKaWQ5NywyCmlkODE1LDAKaWQ0NywwCmlkNzIsMQppZDU5NSwxCmlkMjkxLDAKaWQ2NDcsMQppZDg4OSwwCmlkMzcsMgppZDQ0NSwwCmlkMzY2LDAKaWQ0MzAsMgppZDQzNCwyCmlkMjk2LDAKaWQ2NzUsMAppZDI5MCwwCmlkNDUsMQppZDM3NSwxCmlkMTU4LDIKaWQ5NjMsMgppZDg2OCwyCmlkNTk4LDEKaWQ5NTUsMAppZDg5OSwwCmlkOTgsMQppZDg5MCwwCmlkNDMsMgppZDEwOCwyCmlkNjI3LDEKaWQxNTQsMAppZDYzLDIKaWQ1MjUsMgppZDgyNSwxCmlkMzUwLDEKaWQ0MjIsMAppZDIyMywxCmlkOTQ3LDAKaWQ1OTQsMAppZDM4MywyCmlkMjk3LDAKaWQ0NTgsMgppZDg1MiwyCmlkMTA2LDIKaWQzLDAKaWQ2NjgsMAppZDUzNiwwCmlkMTM3LDAKaWQxNzAsMAppZDY4NiwwCmlkNzQ1LDAKaWQyMDQsMQppZDU2MCwyCmlkNzA2LDAKaWQxOTQsMgppZDQ1OSwwCmlkMjQ3LDAKaWQ2NywwCmlkMjUyLDIKaWQ4MzEsMgppZDIzNCwyCmlkMjQ1LDAKaWQ4MTYsMAppZDU2NywyCmlkODI2LDEKaWQxMTIsMQppZDI3NiwxCmlkMzM3LDAKaWQ2NzIsMAppZDk0MCwxCmlkNTIxLDAKaWQxMTUsMQppZDYxMSwxCmlkMTQwLDAKaWQ4NSwxCmlkNzE3LDAKaWQzODcsMQppZDM0MCwxCmlkNjM2LDIKaWQzNjQsMQppZDgxMywxCmlkNjU4LDIKaWQ4NywwCmlkMjMwLDAKaWQ1MjgsMgppZDk1MCwwCmlkNzIxLDAKaWQ5MjgsMAppZDkzNCwwCmlkMzg4LDEKaWQyMjUsMAppZDc3OCwxCmlkODUwLDIKaWQxMTQsMgppZDE0MSwwCmlkMTg0LDAKaWQ4MDUsMQppZDI5OSwyCmlkOTAzLDIKaWQ0ODEsMgppZDEzNSwwCmlkNDI4LDAKaWQ4MDAsMAppZDU1OSwxCmlkNDIzLDIKaWQzMjIsMAppZDQ3MCwwCmlkNjAxLDIKaWQ1NzAsMgppZDI1LDAKaWQxNDQsMQppZDE4MCwxCmlkNjk2LDIKaWQ1NTQsMgppZDUxMywyCmlkMjAwLDAKaWQ1NjksMAppZDYzMSwyCmlkNDkyLDEKaWQ2MDIsMAppZDY4OSwxCmlkOTAxLDIKaWQyNTMsMAppZDczNiwyCmlkMTQyLDIKaWQ5MjEsMQppZDg5NiwxCmlkNzkzLDAKaWQ1MzksMgppZDQxNSwwCmlkMTc5LDIKaWQ0MDYsMgppZDMzOCwwCmlkNjYsMgppZDQxNCwwCmlkMzEwLDAKaWQzOTUsMQppZDk0NCwyCmlkODI3LDAKaWQxOTMsMgppZDY0MiwxCmlkMTk4LDAKaWQ0ODIsMAppZDY0OCwxCmlkNzg0LDIKaWQ1NzMsMAppZDg2MSwwCmlkMzQsMAppZDk3MCwwCmlkMTQzLDAKaWQ0MiwxCmlkMzUxLDIKaWQ4NDEsMQppZDgyLDEKaWQ1MjYsMAppZDM1NCwyCmlkODY0LDEKaWQyMTksMQppZDMxNywyCmlkNjk4LDAKaWQ0MzUsMQppZDE0NywwCmlkOTcyLDEKaWQ3NywxCmlkMTU3LDIKaWQ3MjYsMQppZDY2MCwxCmlkMjM1LDAKaWQ1MSwxCmlkNTQ1LDAKaWQ4ODgsMgppZDE0NSwwCmlkMTk3LDAKaWQ1MjIsMgppZDg0LDEKaWQxNzgsMgppZDI1MSwwCmlkNDEyLDAKaWQ2NjEsMAppZDY3NCwyCmlkOTEzLDIKaWQ2NjIsMQppZDMxNiwyCmlkODAzLDAKaWQyMDYsMQppZDE2NiwxCmlkMjI4LDIKaWQ5MjUsMAppZDE5MCwyCmlkNDkwLDAKaWQzNTcsMAppZDYxOSwxCmlkNjY5LDIKaWQyNTAsMgppZDgzOSwxCmlkMjYsMQppZDU4MiwyCmlkNTIsMQppZDY0MSwyCmlkMTA1LDEKaWQxNzIsMAppZDk1MSwwCmlkOTUsMAppZDk4NSwxCmlkMjA3LDAKaWQ3MjQsMQppZDEyNSwyCmlkMTkxLDAKaWQxMjksMgppZDUwMiwwCmlkNDE5LDAKaWQ5ODgsMgppZDY5NSwwCmlkMTIsMgppZDY1NywyCmlkMjgzLDAKaWQ3MTgsMQppZDk1OCwyCmlkNTAwLDEKaWQxMTcsMQppZDgzNiwwCmlkMTYzLDIKaWQyNzAsMgppZDUwMSwwCmlkNDQ2LDAKaWQzNzAsMAppZDM1NSwwCmlkNSwwCmlkNDksMAppZDc5MSwyCmlkMzMyLDAKaWQ2OTIsMAppZDkzNSwxCmlkNDYzLDIKaWQ0NDAsMQppZDg3NywxCmlkNzczLDAKaWQ3MzgsMQppZDk2NSwxCmlkODEyLDIKaWQ2NzEsMQppZDI4MSwyCmlkMjgsMQppZDQ2LDAKaWQ5OTIsMgppZDQ0MiwwCmlkNjc5LDAKaWQ1MjQsMQppZDM0NSwyCmlkNTg2LDAKaWQ3NTEsMAppZDg2NiwxCmlkODI5LDAKaWQ3NCwwCmlkNDc1LDIKaWQ2NDksMQppZDExLDIKaWQxNzcsMgppZDU0MywxCmlkNjQwLDEKaWQ4MzcsMAppZDg5MSwxCmlkMzYwLDIKaWQ3NjcsMQppZDE0OCwwCmlkODA0LDIKaWQ1MTIsMQppZDY2NywwCmlkNjkwLDEKaWQ1NDksMAppZDc4NSwxCmlkNDY1LDAKaWQyOTUsMAppZDU0NCwyCmlkOTA3LDIKaWQ1NCwwCmlkMjgyLDEKaWQ3NzcsMAppZDg0MiwyCmlkOTkzLDAKaWQ3OTIsMAppZDY0NCwyCmlkMzEzLDEKaWQ0NTIsMAppZDI5MiwwCmlkOTksMgppZDU4OSwwCmlkMjIwLDEKaWQ4ODMsMQppZDY0LDIKaWQ5NDUsMgppZDgzNSwxCmlkNjA5LDIKaWQ2NzAsMgppZDUzNCwwCmlkNTMzLDAKaWQ2MzMsMQppZDEzMCwxCmlkNDExLDIKaWQzODksMAppZDU5OSwxCmlkODA4LDAKaWQ0MTYsMQppZDUzNSwyCmlkMjksMgppZDk1OSwwCmlkNzYsMQppZDk2MSwwCmlkOTEsMAppZDgyMSwxCmlkODgxLDAKaWQ4MjgsMQppZDQ5MSwyCmlkMTY1LDIKaWQ0OTgsMAppZDMyMywxCmlkNzAzLDEKaWQ2NDUsMgppZDQ2MCwxCmlkNTUwLDAKaWQ0OTUsMgppZDYxMiwyCmlkOTU0LDAKaWQ1MTAsMQppZDc4MSwyCmlkNjEwLDAKaWQ4NDUsMAppZDczNywxCmlkMTc2LDIKaWQ1NTUsMgppZDUwNywxCmlkMzA3LDIKaWQyMjQsMgppZDE1LDEKaWQ5MywyCmlkMzE5LDIKaWQxMDAzLDEKaWQxMDAxLDEKaWQxMDAyLDAKaWQxMDAwLDEKaWQxMDA3LDAKaWQxMDA1LDIKaWQxMDA2LDAKaWQxMDA0LDAKaWQxMDA4LDIKaWQxMDEwLDIKaWQxMDA5LDAKaWQxMDExLDAKaWQxMDEyLDAKaWQxMDE0LDEKaWQxMDEzLDEKaWQxMDE1LDIKaWQxMDE5LDIKaWQxMDE4LDIKaWQxMDE3LDEKaWQxMDE2LDAKaWQxMDIwLDIKaWQxMDIxLDEKaWQxMDMwLDAKaWQxMDIzLDIKaWQxMDI1LDIKaWQxMDI0LDEKaWQxMDI2LDAKaWQxMDI5LDIKaWQxMDI4LDIKaWQxMDI3LDEKaWQxMDIyLDEK\" target=\"_blank\">Download CSV file</a>"
      ],
      "text/plain": [
       "<IPython.core.display.HTML object>"
      ]
     },
     "execution_count": 51,
     "metadata": {},
     "output_type": "execute_result"
    }
   ],
   "source": [
    "from IPython.display import HTML\n",
    "import pandas as pd\n",
    "import numpy as np\n",
    "import base64\n",
    "\n",
    "def create_download_link(df, title = \"Download CSV file\", filename = \"data.csv\"):  \n",
    "    csv = df.to_csv(index=False)\n",
    "    b64 = base64.b64encode(csv.encode())\n",
    "    payload = b64.decode()\n",
    "    html = '<a download=\"{filename}\" href=\"data:text/csv;base64,{payload}\" target=\"_blank\">{title}</a>'\n",
    "    html = html.format(payload=payload,title=title,filename=filename)\n",
    "    return HTML(html)\n",
    "\n",
    "create_download_link(sub)"
   ]
  }
 ],
 "metadata": {
  "colab": {
   "collapsed_sections": [
    "EwnVKK_fLdmr"
   ],
   "name": "2015B3A70400G.ipynb",
   "provenance": [],
   "version": "0.3.2"
  },
  "kernelspec": {
   "display_name": "Python 3",
   "language": "python",
   "name": "python3"
  },
  "language_info": {
   "codemirror_mode": {
    "name": "ipython",
    "version": 3
   },
   "file_extension": ".py",
   "mimetype": "text/x-python",
   "name": "python",
   "nbconvert_exporter": "python",
   "pygments_lexer": "ipython3",
   "version": "3.6.6"
  }
 },
 "nbformat": 4,
 "nbformat_minor": 1
}
