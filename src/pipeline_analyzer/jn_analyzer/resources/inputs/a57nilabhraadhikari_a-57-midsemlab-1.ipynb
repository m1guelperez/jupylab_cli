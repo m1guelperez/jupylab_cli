{
 "cells": [
  {
   "cell_type": "code",
   "execution_count": 1,
   "metadata": {
    "execution": {
     "iopub.execute_input": "2020-09-24T05:58:29.574818Z",
     "iopub.status.busy": "2020-09-24T05:58:29.574073Z",
     "iopub.status.idle": "2020-09-24T05:58:29.611837Z",
     "shell.execute_reply": "2020-09-24T05:58:29.611175Z"
    },
    "papermill": {
     "duration": 0.056325,
     "end_time": "2020-09-24T05:58:29.611982",
     "exception": false,
     "start_time": "2020-09-24T05:58:29.555657",
     "status": "completed"
    },
    "tags": []
   },
   "outputs": [
    {
     "ename": "StdinNotImplementedError",
     "evalue": "raw_input was called, but this frontend does not support input requests.",
     "output_type": "error",
     "traceback": [
      "\u001b[0;31m---------------------------------------------------------------------------\u001b[0m",
      "\u001b[0;31mStdinNotImplementedError\u001b[0m                  Traceback (most recent call last)",
      "\u001b[0;32m<ipython-input-1-4b0b6e94ee48>\u001b[0m in \u001b[0;36m<module>\u001b[0;34m\u001b[0m\n\u001b[1;32m      1\u001b[0m \u001b[0;31m#Q1create two NumPy array by takin user input of data stored in array, check if they have views to same memory, check if elements of arrays are divisible by 3 or not sort 2nd array and find sum of all elements of 1st array\u001b[0m\u001b[0;34m\u001b[0m\u001b[0;34m\u001b[0m\u001b[0;34m\u001b[0m\u001b[0m\n\u001b[1;32m      2\u001b[0m \u001b[0;32mimport\u001b[0m \u001b[0mnumpy\u001b[0m \u001b[0;32mas\u001b[0m \u001b[0mnp\u001b[0m\u001b[0;34m\u001b[0m\u001b[0;34m\u001b[0m\u001b[0m\n\u001b[0;32m----> 3\u001b[0;31m \u001b[0minp1\u001b[0m \u001b[0;34m=\u001b[0m \u001b[0minput\u001b[0m\u001b[0;34m(\u001b[0m\u001b[0;34m\"Enter first array:\"\u001b[0m\u001b[0;34m)\u001b[0m\u001b[0;34m\u001b[0m\u001b[0;34m\u001b[0m\u001b[0m\n\u001b[0m\u001b[1;32m      4\u001b[0m \u001b[0ma\u001b[0m \u001b[0;34m=\u001b[0m \u001b[0minp1\u001b[0m\u001b[0;34m.\u001b[0m\u001b[0msplit\u001b[0m\u001b[0;34m(\u001b[0m\u001b[0;34m)\u001b[0m\u001b[0;34m\u001b[0m\u001b[0;34m\u001b[0m\u001b[0m\n\u001b[1;32m      5\u001b[0m \u001b[0ma\u001b[0m \u001b[0;34m=\u001b[0m \u001b[0;34m[\u001b[0m\u001b[0mint\u001b[0m\u001b[0;34m(\u001b[0m\u001b[0mi\u001b[0m\u001b[0;34m)\u001b[0m \u001b[0;32mfor\u001b[0m \u001b[0mi\u001b[0m \u001b[0;32min\u001b[0m \u001b[0ma\u001b[0m\u001b[0;34m]\u001b[0m\u001b[0;34m\u001b[0m\u001b[0;34m\u001b[0m\u001b[0m\n",
      "\u001b[0;32m/opt/conda/lib/python3.7/site-packages/ipykernel/kernelbase.py\u001b[0m in \u001b[0;36mraw_input\u001b[0;34m(self, prompt)\u001b[0m\n\u001b[1;32m    853\u001b[0m         \u001b[0;32mif\u001b[0m \u001b[0;32mnot\u001b[0m \u001b[0mself\u001b[0m\u001b[0;34m.\u001b[0m\u001b[0m_allow_stdin\u001b[0m\u001b[0;34m:\u001b[0m\u001b[0;34m\u001b[0m\u001b[0;34m\u001b[0m\u001b[0m\n\u001b[1;32m    854\u001b[0m             raise StdinNotImplementedError(\n\u001b[0;32m--> 855\u001b[0;31m                 \u001b[0;34m\"raw_input was called, but this frontend does not support input requests.\"\u001b[0m\u001b[0;34m\u001b[0m\u001b[0;34m\u001b[0m\u001b[0m\n\u001b[0m\u001b[1;32m    856\u001b[0m             )\n\u001b[1;32m    857\u001b[0m         return self._input_request(str(prompt),\n",
      "\u001b[0;31mStdinNotImplementedError\u001b[0m: raw_input was called, but this frontend does not support input requests."
     ]
    }
   ],
   "source": [
    "#Q1create two NumPy array by takin user input of data stored in array, check if they have views to same memory, check if elements of arrays are divisible by 3 or not sort 2nd array and find sum of all elements of 1st array\n",
    "import numpy as np\n",
    "inp1 = input(\"Enter first array:\")\n",
    "a = inp1.split()\n",
    "a = [int(i) for i in a]\n",
    "inp2 = input(\"Enter second array:\")\n",
    "b = inp2.split()\n",
    "b = [int(i) for i in b]\n",
    "Arr1 = np.array(a)\n",
    "Arr2 = np.array(b)\n",
    "print(\"Array 1 :\")\n",
    "print(Arr1)\n",
    "print(\"Array 2 :\")\n",
    "print(Arr2)\n",
    "print(\"Do both of these arrays share the same memory :\")\n",
    "print(id(Arr1)==id(Arr2))\n",
    "div1 = Arr1%3==0\n",
    "div2 = Arr2%3==0\n",
    "print(\"elements of array 1 divisible by 3 are :\")\n",
    "print(Arr1[div1])\n",
    "print(\"elements of array 2 divisible by 3 are :\")\n",
    "print(Arr2[div2])\n",
    "print(\"Array 2 after sorting is :\")\n",
    "Arr2.sort()\n",
    "print(Arr2)\n",
    "print(\"Sum of elements of array 1 is :\")\n",
    "print (Arr1.sum())"
   ]
  },
  {
   "cell_type": "code",
   "execution_count": 2,
   "metadata": {
    "execution": {
     "iopub.execute_input": "2020-09-24T05:58:29.637478Z",
     "iopub.status.busy": "2020-09-24T05:58:29.636659Z",
     "iopub.status.idle": "2020-09-24T05:58:29.715232Z",
     "shell.execute_reply": "2020-09-24T05:58:29.714474Z"
    },
    "papermill": {
     "duration": 0.097027,
     "end_time": "2020-09-24T05:58:29.715362",
     "exception": false,
     "start_time": "2020-09-24T05:58:29.618335",
     "status": "completed"
    },
    "tags": []
   },
   "outputs": [
    {
     "name": "stdout",
     "output_type": "stream",
     "text": [
      "   Passengerid   Age     Fare  Sex  sibsp  zero  zero.1  zero.2  zero.3  \\\n",
      "0            1  22.0   7.2500    0      1     0       0       0       0   \n",
      "1            2  38.0  71.2833    1      1     0       0       0       0   \n",
      "2            3  26.0   7.9250    1      0     0       0       0       0   \n",
      "3            4  35.0  53.1000    1      1     0       0       0       0   \n",
      "4            5  35.0   8.0500    0      0     0       0       0       0   \n",
      "\n",
      "   zero.4  ...  zero.12  zero.13  zero.14  Pclass  zero.15  zero.16  Embarked  \\\n",
      "0       0  ...        0        0        0       3        0        0       2.0   \n",
      "1       0  ...        0        0        0       1        0        0       0.0   \n",
      "2       0  ...        0        0        0       3        0        0       2.0   \n",
      "3       0  ...        0        0        0       1        0        0       2.0   \n",
      "4       0  ...        0        0        0       3        0        0       2.0   \n",
      "\n",
      "   zero.17  zero.18  2urvived  \n",
      "0        0        0         0  \n",
      "1        0        0         1  \n",
      "2        0        0         1  \n",
      "3        0        0         1  \n",
      "4        0        0         0  \n",
      "\n",
      "[5 rows x 28 columns]\n",
      "(1309, 28)\n",
      "Passengerid    25.500000\n",
      "Age            27.620000\n",
      "Fare           27.895416\n",
      "Sex             0.500000\n",
      "sibsp           0.680000\n",
      "zero            0.000000\n",
      "zero.1          0.000000\n",
      "zero.2          0.000000\n",
      "zero.3          0.000000\n",
      "zero.4          0.000000\n",
      "zero.5          0.000000\n",
      "zero.6          0.000000\n",
      "Parch           0.400000\n",
      "zero.7          0.000000\n",
      "zero.8          0.000000\n",
      "zero.9          0.000000\n",
      "zero.10         0.000000\n",
      "zero.11         0.000000\n",
      "zero.12         0.000000\n",
      "zero.13         0.000000\n",
      "zero.14         0.000000\n",
      "Pclass          2.440000\n",
      "zero.15         0.000000\n",
      "zero.16         0.000000\n",
      "Embarked        1.360000\n",
      "zero.17         0.000000\n",
      "zero.18         0.000000\n",
      "2urvived        0.440000\n",
      "dtype: float64\n",
      "Passengerid    648.186695\n",
      "Age             28.572082\n",
      "Fare            46.198097\n",
      "Sex              1.000000\n",
      "sibsp            0.652361\n",
      "zero             0.000000\n",
      "zero.1           0.000000\n",
      "zero.2           0.000000\n",
      "zero.3           0.000000\n",
      "zero.4           0.000000\n",
      "zero.5           0.000000\n",
      "zero.6           0.000000\n",
      "Parch            0.633047\n",
      "zero.7           0.000000\n",
      "zero.8           0.000000\n",
      "zero.9           0.000000\n",
      "zero.10          0.000000\n",
      "zero.11          0.000000\n",
      "zero.12          0.000000\n",
      "zero.13          0.000000\n",
      "zero.14          0.000000\n",
      "Pclass           2.154506\n",
      "zero.15          0.000000\n",
      "zero.16          0.000000\n",
      "Embarked         1.383621\n",
      "zero.17          0.000000\n",
      "zero.18          0.000000\n",
      "2urvived         0.500000\n",
      "dtype: float64\n",
      "512.3292\n"
     ]
    }
   ],
   "source": [
    "#Q2 Load the titanic dataset, remove missing values from all attributes, find mean value of first 50 samples, find the mean of the number of male passengers( Sex=1) on the ship, find the highest fare paid by any passenger.\n",
    "import pandas as pd\n",
    "df = pd.read_csv(\"../input/titanic/train_and_test2.csv\")\n",
    "df.head()\n",
    "\n",
    "df.dropna(axis=1, how='all')\n",
    "print(df.head())\n",
    "print(df.shape)\n",
    "\n",
    "print(df[:50].mean())\n",
    "\n",
    "print(df[df['Sex']==1].mean())\n",
    "\n",
    "print(df['Fare'].max())"
   ]
  },
  {
   "cell_type": "code",
   "execution_count": 3,
   "metadata": {
    "execution": {
     "iopub.execute_input": "2020-09-24T05:58:29.735242Z",
     "iopub.status.busy": "2020-09-24T05:58:29.734497Z",
     "iopub.status.idle": "2020-09-24T05:58:29.872216Z",
     "shell.execute_reply": "2020-09-24T05:58:29.872845Z"
    },
    "papermill": {
     "duration": 0.151503,
     "end_time": "2020-09-24T05:58:29.873021",
     "exception": false,
     "start_time": "2020-09-24T05:58:29.721518",
     "status": "completed"
    },
    "tags": []
   },
   "outputs": [
    {
     "data": {
      "text/plain": [
       "([<matplotlib.patches.Wedge at 0x7fe842e867d0>,\n",
       "  <matplotlib.patches.Wedge at 0x7fe842e982d0>,\n",
       "  <matplotlib.patches.Wedge at 0x7fe842e98e50>,\n",
       "  <matplotlib.patches.Wedge at 0x7fe842e23ad0>,\n",
       "  <matplotlib.patches.Wedge at 0x7fe842e2d950>],\n",
       " [Text(-0.6949679599358026, 0.9536349063780482, 'English'),\n",
       "  Text(-1.5333969507120189, -0.4568301561270697, 'Maths'),\n",
       "  Text(-0.06829497662521489, -1.1780219845859252, 'Science'),\n",
       "  Text(1.1065475586357971, -0.4098200830573794, 'History'),\n",
       "  Text(0.7018526413782156, 0.94857939561769, 'Geography')],\n",
       " [Text(-0.4004900108104625, 0.5495523189297227, '20.0%'),\n",
       "  Text(-1.0542104036145128, -0.3140707323373604, '19.1%'),\n",
       "  Text(-0.03935642720775095, -0.678860126710533, '19.8%'),\n",
       "  Text(0.6376714744680864, -0.23616750549069315, '20.7%'),\n",
       "  Text(0.4044574543535479, 0.5466389737457874, '20.3%')])"
      ]
     },
     "execution_count": 3,
     "metadata": {},
     "output_type": "execute_result"
    },
    {
     "data": {
      "image/png": "[encoded data removed]",
      "text/plain": [
       "<Figure size 432x288 with 1 Axes>"
      ]
     },
     "metadata": {},
     "output_type": "display_data"
    }
   ],
   "source": [
    "#Q3.A student has got the following marks ( English = 86, Maths = 83, Science = 86, History =90, Geography = 88). Wisely choose a graph to represent this data such that it justifies the purpose of data visualization. Highlight the subject in which the student has got least marks. \n",
    "from matplotlib import pyplot as plt\n",
    "slices=[87,83,86,90,88]\n",
    "Subject=['English','Maths','Science','History','Geography']\n",
    "plt.pie(slices,labels=Subject,startangle=90,shadow=True,explode=(0.08,0.5,0.08,0.08,0.08),autopct='%1.1f%%')"
   ]
  },
  {
   "cell_type": "code",
   "execution_count": 4,
   "metadata": {
    "_cell_guid": "79c7e3d0-c299-4dcb-8224-4455121ee9b0",
    "_uuid": "d629ff2d2480ee46fbb7e2d37f6b5fab8052498a",
    "execution": {
     "iopub.execute_input": "2020-09-24T05:58:29.901050Z",
     "iopub.status.busy": "2020-09-24T05:58:29.900287Z",
     "iopub.status.idle": "2020-09-24T05:58:31.155327Z",
     "shell.execute_reply": "2020-09-24T05:58:31.154677Z"
    },
    "papermill": {
     "duration": 1.274601,
     "end_time": "2020-09-24T05:58:31.155451",
     "exception": false,
     "start_time": "2020-09-24T05:58:29.880850",
     "status": "completed"
    },
    "tags": []
   },
   "outputs": [
    {
     "name": "stdout",
     "output_type": "stream",
     "text": [
      "F1 Score(macro): 0.9781196581196582\n",
      "F1 Score(micro): 0.9777777777777777\n",
      "F1 Score(weighted): 0.9779373219373221\n",
      "\n",
      "Confusion Matrix(below):\n",
      "\n"
     ]
    },
    {
     "data": {
      "text/plain": [
       "array([[13,  0,  0],\n",
       "       [ 0, 19,  1],\n",
       "       [ 0,  0, 12]])"
      ]
     },
     "execution_count": 4,
     "metadata": {},
     "output_type": "execute_result"
    }
   ],
   "source": [
    "#Q4 Load the iris dataset, print the confusion matrix and f1_score as computed on the features.\n",
    "import pandas as pd\n",
    "import numpy as np\n",
    "from sklearn.model_selection import train_test_split\n",
    "from sklearn.metrics import confusion_matrix\n",
    "from sklearn.model_selection import cross_val_predict\n",
    "from sklearn.linear_model import LogisticRegression\n",
    "from sklearn.metrics import f1_score\n",
    "\n",
    "train = pd.read_csv(\"../input/iris-flower-dataset/IRIS.csv\")\n",
    "\n",
    "\n",
    "X = train.drop(\"species\",axis=1)\n",
    "y = train[\"species\"]\n",
    "\n",
    "X_train, X_test, y_train, y_test = train_test_split(X, y, test_size = 0.3, random_state = 101)\n",
    "\n",
    "logmodel = LogisticRegression()\n",
    "logmodel.fit(X_train,y_train)\n",
    "\n",
    "predictions = logmodel.predict(X_test)\n",
    "\n",
    "print(\"F1 Score(macro):\",f1_score(y_test, predictions,average='macro'))\n",
    "print(\"F1 Score(micro):\",f1_score(y_test, predictions,average='micro'))\n",
    "print(\"F1 Score(weighted):\",f1_score(y_test, predictions,average='weighted'))\n",
    "print(\"\\nConfusion Matrix(below):\\n\")\n",
    "confusion_matrix(y_test, predictions)"
   ]
  }
 ],
 "metadata": {
  "kernelspec": {
   "display_name": "Python 3",
   "language": "python",
   "name": "python3"
  },
  "language_info": {
   "codemirror_mode": {
    "name": "ipython",
    "version": 3
   },
   "file_extension": ".py",
   "mimetype": "text/x-python",
   "name": "python",
   "nbconvert_exporter": "python",
   "pygments_lexer": "ipython3",
   "version": "3.7.6"
  },
  "papermill": {
   "duration": 6.660661,
   "end_time": "2020-09-24T05:58:31.271935",
   "environment_variables": {},
   "exception": null,
   "input_path": "__notebook__.ipynb",
   "output_path": "__notebook__.ipynb",
   "parameters": {},
   "start_time": "2020-09-24T05:58:24.611274",
   "version": "2.1.0"
  }
 },
 "nbformat": 4,
 "nbformat_minor": 4
}
