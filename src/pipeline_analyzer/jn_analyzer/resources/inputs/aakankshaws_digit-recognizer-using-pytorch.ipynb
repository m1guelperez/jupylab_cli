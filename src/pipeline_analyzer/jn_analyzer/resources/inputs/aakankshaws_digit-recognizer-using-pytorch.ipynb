{
 "cells": [
  {
   "cell_type": "code",
   "execution_count": 1,
   "metadata": {
    "_cell_guid": "b1076dfc-b9ad-4769-8c92-a6c4dae69d19",
    "_uuid": "8f2839f25d086af736a60e9eeb907d3b93b6e0e5"
   },
   "outputs": [
    {
     "name": "stdout",
     "output_type": "stream",
     "text": [
      "['train.csv', 'sample_submission.csv', 'test.csv']\n"
     ]
    }
   ],
   "source": [
    "# This Python 3 environment comes with many helpful analytics libraries installed\n",
    "# It is defined by the kaggle/python docker image: https://github.com/kaggle/docker-python\n",
    "# For example, here's several helpful packages to load in \n",
    "\n",
    "import numpy as np # linear algebra\n",
    "import pandas as pd # data processing, CSV file I/O (e.g. pd.read_csv)\n",
    "import matplotlib.pyplot as plt\n",
    "# Input data files are available in the \"../input/\" directory.\n",
    "# For example, running this (by clicking run or pressing Shift+Enter) will list the files in the input directory\n",
    "\n",
    "import os\n",
    "print(os.listdir(\"../input\"))\n",
    "\n",
    "# Any results you write to the current directory are saved as output."
   ]
  },
  {
   "cell_type": "code",
   "execution_count": 2,
   "metadata": {},
   "outputs": [],
   "source": [
    "#import libraries\n",
    "from sklearn.model_selection import train_test_split\n",
    "import torch\n",
    "import torch.nn as nn\n",
    "from torch import optim\n",
    "from torchvision import transforms"
   ]
  },
  {
   "cell_type": "code",
   "execution_count": 3,
   "metadata": {
    "_cell_guid": "79c7e3d0-c299-4dcb-8224-4455121ee9b0",
    "_uuid": "d629ff2d2480ee46fbb7e2d37f6b5fab8052498a"
   },
   "outputs": [
    {
     "name": "stdout",
     "output_type": "stream",
     "text": [
      "<class 'torch.Tensor'>\n",
      "torch.Size([100, 784])\n",
      "torch.Size([100])\n"
     ]
    }
   ],
   "source": [
    "# Prepare Dataset\n",
    "# load data\n",
    "train = pd.read_csv(r\"../input/train.csv\",dtype = np.float32)\n",
    "\n",
    "# split data into features(pixels) and labels(numbers from 0 to 9)\n",
    "targets_numpy = train.label.values\n",
    "features_numpy = train.loc[:,train.columns != \"label\"].values/255 # normalization\n",
    "\n",
    "# train test split. Size of train data is 80% and size of test data is 20%. \n",
    "features_train, features_test, targets_train, targets_test = train_test_split(features_numpy,\n",
    "                                                                             targets_numpy,\n",
    "                                                                             test_size = 0.2,\n",
    "                                                                             random_state = 42) \n",
    "\n",
    "# create feature and targets tensor for train set. As you remember we need variable to accumulate gradients. Therefore first we create tensor, then we will create variable\n",
    "featuresTrain = torch.from_numpy(features_train)\n",
    "targetsTrain = torch.from_numpy(targets_train).type(torch.LongTensor) # data type is long\n",
    "\n",
    "# create feature and targets tensor for test set.\n",
    "featuresTest = torch.from_numpy(features_test)\n",
    "targetsTest = torch.from_numpy(targets_test).type(torch.LongTensor) # data type is long\n",
    "\n",
    "# batch_size, epoch and iteration\n",
    "batch_size = 100\n",
    "n_iters = 10000\n",
    "num_epochs = n_iters / (len(features_train) / batch_size)\n",
    "num_epochs = int(num_epochs)\n",
    "\n",
    "# Pytorch train and test sets\n",
    "train = torch.utils.data.TensorDataset(featuresTrain,targetsTrain)\n",
    "test = torch.utils.data.TensorDataset(featuresTest,targetsTest)\n",
    "\n",
    "# data loader\n",
    "train_loader = torch.utils.data.DataLoader(train, batch_size = batch_size, shuffle = False)\n",
    "test_loader = torch.utils.data.DataLoader(test, batch_size = batch_size, shuffle = False)\n",
    "\n",
    "\n",
    "dataiter = iter(train_loader)\n",
    "images, labels = dataiter.next()\n",
    "print(type(images))\n",
    "print(images.shape)\n",
    "print(labels.shape)"
   ]
  },
  {
   "cell_type": "code",
   "execution_count": 4,
   "metadata": {},
   "outputs": [
    {
     "data": {
      "image/png": "[encoded data removed]",
      "text/plain": [
       "<Figure size 432x288 with 1 Axes>"
      ]
     },
     "metadata": {
      "needs_background": "light"
     },
     "output_type": "display_data"
    }
   ],
   "source": [
    "# visualize one of the images in data set\n",
    "plt.imshow(features_numpy[10].reshape(28,28))\n",
    "plt.axis(\"off\")\n",
    "plt.title(str(targets_numpy[10]))\n",
    "plt.savefig('graph.png')\n",
    "plt.show()\n"
   ]
  },
  {
   "cell_type": "code",
   "execution_count": 5,
   "metadata": {},
   "outputs": [],
   "source": [
    "#import libraries and create model architecture\n",
    "from torch import nn, optim\n",
    "import torch.nn.functional as F\n",
    "\n",
    "class Classifier(nn.Module):\n",
    "    def __init__(self):\n",
    "        super().__init__()\n",
    "        self.fc1 = nn.Linear(784, 256)\n",
    "        self.fc2 = nn.Linear(256, 128)\n",
    "        self.fc3 = nn.Linear(128, 64)\n",
    "        self.fc4 = nn.Linear(64, 10)\n",
    "        \n",
    "    def forward(self, x):\n",
    "        # make sure input tensor is flattened\n",
    "        x = x.view(x.shape[0], -1)\n",
    "        \n",
    "        x = F.relu(self.fc1(x))\n",
    "        x = F.relu(self.fc2(x))\n",
    "        x = F.relu(self.fc3(x))\n",
    "        x = F.log_softmax(self.fc4(x), dim=1)\n",
    "        \n",
    "        return x"
   ]
  },
  {
   "cell_type": "code",
   "execution_count": 6,
   "metadata": {},
   "outputs": [
    {
     "name": "stdout",
     "output_type": "stream",
     "text": [
      "torch.Size([100, 10])\n"
     ]
    }
   ],
   "source": [
    "model = Classifier()\n",
    "\n",
    "images, labels = next(iter(test_loader))\n",
    "# Get the class probabilities\n",
    "ps = torch.exp(model(images))\n",
    "# Make sure the shape is appropriate, we should get 10 class probabilities for 64 examples\n",
    "print(ps.shape)"
   ]
  },
  {
   "cell_type": "code",
   "execution_count": 7,
   "metadata": {},
   "outputs": [
    {
     "name": "stdout",
     "output_type": "stream",
     "text": [
      "tensor([[4],\n",
      "        [4],\n",
      "        [4],\n",
      "        [4],\n",
      "        [4],\n",
      "        [4],\n",
      "        [4],\n",
      "        [4],\n",
      "        [4],\n",
      "        [4]])\n"
     ]
    }
   ],
   "source": [
    "top_p, top_class = ps.topk(1, dim=1)\n",
    "# Look at the most likely classes for the first 10 examples\n",
    "print(top_class[:10,:])"
   ]
  },
  {
   "cell_type": "code",
   "execution_count": 8,
   "metadata": {},
   "outputs": [],
   "source": [
    "#equate topclass and labels\n",
    "equals = top_class == labels.view(*top_class.shape)"
   ]
  },
  {
   "cell_type": "code",
   "execution_count": 9,
   "metadata": {},
   "outputs": [
    {
     "name": "stdout",
     "output_type": "stream",
     "text": [
      "Accuracy: 7.999999821186066%\n"
     ]
    }
   ],
   "source": [
    "accuracy = torch.mean(equals.type(torch.FloatTensor))\n",
    "print(f'Accuracy: {accuracy.item()*100}%')"
   ]
  },
  {
   "cell_type": "code",
   "execution_count": 10,
   "metadata": {},
   "outputs": [
    {
     "name": "stdout",
     "output_type": "stream",
     "text": [
      "Epoch: 1/30..  Training Loss: 0.358..  Test Loss: 0.167..  Test Accuracy: 0.950\n",
      "Epoch: 2/30..  Training Loss: 0.126..  Test Loss: 0.118..  Test Accuracy: 0.964\n",
      "Epoch: 3/30..  Training Loss: 0.086..  Test Loss: 0.161..  Test Accuracy: 0.955\n",
      "Epoch: 4/30..  Training Loss: 0.067..  Test Loss: 0.128..  Test Accuracy: 0.965\n",
      "Epoch: 5/30..  Training Loss: 0.060..  Test Loss: 0.167..  Test Accuracy: 0.957\n",
      "Epoch: 6/30..  Training Loss: 0.046..  Test Loss: 0.145..  Test Accuracy: 0.965\n",
      "Epoch: 7/30..  Training Loss: 0.041..  Test Loss: 0.133..  Test Accuracy: 0.968\n",
      "Epoch: 8/30..  Training Loss: 0.035..  Test Loss: 0.123..  Test Accuracy: 0.972\n",
      "Epoch: 9/30..  Training Loss: 0.034..  Test Loss: 0.130..  Test Accuracy: 0.969\n",
      "Epoch: 10/30..  Training Loss: 0.028..  Test Loss: 0.140..  Test Accuracy: 0.969\n",
      "Epoch: 11/30..  Training Loss: 0.027..  Test Loss: 0.134..  Test Accuracy: 0.972\n",
      "Epoch: 12/30..  Training Loss: 0.027..  Test Loss: 0.154..  Test Accuracy: 0.967\n",
      "Epoch: 13/30..  Training Loss: 0.022..  Test Loss: 0.138..  Test Accuracy: 0.972\n",
      "Epoch: 14/30..  Training Loss: 0.020..  Test Loss: 0.141..  Test Accuracy: 0.972\n",
      "Epoch: 15/30..  Training Loss: 0.021..  Test Loss: 0.160..  Test Accuracy: 0.969\n",
      "Epoch: 16/30..  Training Loss: 0.024..  Test Loss: 0.183..  Test Accuracy: 0.967\n",
      "Epoch: 17/30..  Training Loss: 0.016..  Test Loss: 0.162..  Test Accuracy: 0.972\n",
      "Epoch: 18/30..  Training Loss: 0.019..  Test Loss: 0.135..  Test Accuracy: 0.975\n",
      "Epoch: 19/30..  Training Loss: 0.013..  Test Loss: 0.159..  Test Accuracy: 0.975\n",
      "Epoch: 20/30..  Training Loss: 0.018..  Test Loss: 0.141..  Test Accuracy: 0.973\n",
      "Epoch: 21/30..  Training Loss: 0.017..  Test Loss: 0.126..  Test Accuracy: 0.976\n",
      "Epoch: 22/30..  Training Loss: 0.010..  Test Loss: 0.163..  Test Accuracy: 0.973\n",
      "Epoch: 23/30..  Training Loss: 0.013..  Test Loss: 0.150..  Test Accuracy: 0.974\n",
      "Epoch: 24/30..  Training Loss: 0.016..  Test Loss: 0.164..  Test Accuracy: 0.972\n",
      "Epoch: 25/30..  Training Loss: 0.014..  Test Loss: 0.180..  Test Accuracy: 0.967\n",
      "Epoch: 26/30..  Training Loss: 0.013..  Test Loss: 0.157..  Test Accuracy: 0.973\n",
      "Epoch: 27/30..  Training Loss: 0.015..  Test Loss: 0.166..  Test Accuracy: 0.971\n",
      "Epoch: 28/30..  Training Loss: 0.012..  Test Loss: 0.147..  Test Accuracy: 0.975\n",
      "Epoch: 29/30..  Training Loss: 0.006..  Test Loss: 0.179..  Test Accuracy: 0.975\n",
      "Epoch: 30/30..  Training Loss: 0.019..  Test Loss: 0.132..  Test Accuracy: 0.976\n"
     ]
    }
   ],
   "source": [
    "model = Classifier()\n",
    "criterion = nn.NLLLoss()\n",
    "optimizer = optim.Adam(model.parameters(), lr=0.003)\n",
    "\n",
    "epochs = 30\n",
    "steps = 0\n",
    "\n",
    "train_losses, test_losses = [], []\n",
    "for e in range(epochs):\n",
    "    running_loss = 0\n",
    "    for images, labels in train_loader:\n",
    "        \n",
    "        optimizer.zero_grad()\n",
    "        \n",
    "        log_ps = model(images)\n",
    "        loss = criterion(log_ps, labels)\n",
    "        loss.backward()\n",
    "        optimizer.step()\n",
    "        \n",
    "        running_loss += loss.item()\n",
    "        \n",
    "    else:\n",
    "        test_loss = 0\n",
    "        accuracy = 0\n",
    "        \n",
    "        # Turn off gradients for validation, saves memory and computations\n",
    "        with torch.no_grad():\n",
    "            for images, labels in test_loader:\n",
    "                log_ps = model(images)\n",
    "                test_loss += criterion(log_ps, labels)\n",
    "                \n",
    "                ps = torch.exp(log_ps)\n",
    "                top_p, top_class = ps.topk(1, dim=1)\n",
    "                equals = top_class == labels.view(*top_class.shape)\n",
    "                accuracy += torch.mean(equals.type(torch.FloatTensor))\n",
    "                \n",
    "        train_losses.append(running_loss/len(train_loader))\n",
    "        test_losses.append(test_loss/len(test_loader))\n",
    "\n",
    "        print(\"Epoch: {}/{}.. \".format(e+1, epochs),\n",
    "              \"Training Loss: {:.3f}.. \".format(running_loss/len(train_loader)),\n",
    "              \"Test Loss: {:.3f}.. \".format(test_loss/len(test_loader)),\n",
    "              \"Test Accuracy: {:.3f}\".format(accuracy/len(test_loader)))"
   ]
  },
  {
   "cell_type": "code",
   "execution_count": 11,
   "metadata": {},
   "outputs": [],
   "source": [
    "%matplotlib inline\n",
    "%config InlineBackend.figure_format = 'retina'\n",
    "\n",
    "import matplotlib.pyplot as plt"
   ]
  },
  {
   "cell_type": "code",
   "execution_count": 12,
   "metadata": {},
   "outputs": [
    {
     "data": {
      "text/plain": [
       "<matplotlib.legend.Legend at 0x7fd83576cc50>"
      ]
     },
     "execution_count": 12,
     "metadata": {},
     "output_type": "execute_result"
    },
    {
     "data": {
      "image/png": "[encoded data removed]",
      "text/plain": [
       "<Figure size 432x288 with 1 Axes>"
      ]
     },
     "metadata": {
      "image/png": {
       "height": 250,
       "width": 380
      },
      "needs_background": "light"
     },
     "output_type": "display_data"
    }
   ],
   "source": [
    "plt.plot(train_losses, label='Training loss')\n",
    "plt.plot(test_losses, label='Validation loss')\n",
    "plt.legend(frameon=False)"
   ]
  },
  {
   "cell_type": "markdown",
   "metadata": {},
   "source": [
    "Here we can clearly see that our model is overfitting. So, let's add dropout to our model to lower validation loss."
   ]
  },
  {
   "cell_type": "code",
   "execution_count": 13,
   "metadata": {},
   "outputs": [],
   "source": [
    "class Classifier(nn.Module):\n",
    "    def __init__(self):\n",
    "        super().__init__()\n",
    "        self.fc1 = nn.Linear(784, 256)\n",
    "        self.fc2 = nn.Linear(256, 128)\n",
    "        self.fc3 = nn.Linear(128, 64)\n",
    "        self.fc4 = nn.Linear(64, 10)\n",
    "\n",
    "        # Dropout module with 0.2 drop probability\n",
    "        self.dropout = nn.Dropout(p=0.2)\n",
    "\n",
    "    def forward(self, x):\n",
    "        # make sure input tensor is flattened\n",
    "        x = x.view(x.shape[0], -1)\n",
    "\n",
    "        # Now with dropout\n",
    "        x = self.dropout(F.relu(self.fc1(x)))\n",
    "        x = self.dropout(F.relu(self.fc2(x)))\n",
    "        x = self.dropout(F.relu(self.fc3(x)))\n",
    "\n",
    "        # output so no dropout here\n",
    "        x = F.log_softmax(self.fc4(x), dim=1)\n",
    "\n",
    "        return x"
   ]
  },
  {
   "cell_type": "code",
   "execution_count": 14,
   "metadata": {},
   "outputs": [
    {
     "name": "stdout",
     "output_type": "stream",
     "text": [
      "Epoch: 1/30..  Training Loss: 0.579..  Test Loss: 0.229..  Test Accuracy: 0.929\n",
      "Epoch: 2/30..  Training Loss: 0.213..  Test Loss: 0.165..  Test Accuracy: 0.949\n",
      "Epoch: 3/30..  Training Loss: 0.156..  Test Loss: 0.130..  Test Accuracy: 0.960\n",
      "Epoch: 4/30..  Training Loss: 0.119..  Test Loss: 0.107..  Test Accuracy: 0.967\n",
      "Epoch: 5/30..  Training Loss: 0.097..  Test Loss: 0.105..  Test Accuracy: 0.969\n",
      "Epoch: 6/30..  Training Loss: 0.085..  Test Loss: 0.104..  Test Accuracy: 0.970\n",
      "Epoch: 7/30..  Training Loss: 0.070..  Test Loss: 0.098..  Test Accuracy: 0.971\n",
      "Epoch: 8/30..  Training Loss: 0.067..  Test Loss: 0.095..  Test Accuracy: 0.973\n",
      "Epoch: 9/30..  Training Loss: 0.056..  Test Loss: 0.087..  Test Accuracy: 0.974\n",
      "Epoch: 10/30..  Training Loss: 0.049..  Test Loss: 0.094..  Test Accuracy: 0.973\n",
      "Epoch: 11/30..  Training Loss: 0.048..  Test Loss: 0.091..  Test Accuracy: 0.975\n",
      "Epoch: 12/30..  Training Loss: 0.041..  Test Loss: 0.092..  Test Accuracy: 0.975\n",
      "Epoch: 13/30..  Training Loss: 0.040..  Test Loss: 0.095..  Test Accuracy: 0.976\n",
      "Epoch: 14/30..  Training Loss: 0.038..  Test Loss: 0.094..  Test Accuracy: 0.976\n",
      "Epoch: 15/30..  Training Loss: 0.035..  Test Loss: 0.093..  Test Accuracy: 0.976\n",
      "Epoch: 16/30..  Training Loss: 0.031..  Test Loss: 0.106..  Test Accuracy: 0.974\n",
      "Epoch: 17/30..  Training Loss: 0.033..  Test Loss: 0.090..  Test Accuracy: 0.976\n",
      "Epoch: 18/30..  Training Loss: 0.028..  Test Loss: 0.097..  Test Accuracy: 0.976\n",
      "Epoch: 19/30..  Training Loss: 0.027..  Test Loss: 0.098..  Test Accuracy: 0.975\n",
      "Epoch: 20/30..  Training Loss: 0.027..  Test Loss: 0.093..  Test Accuracy: 0.977\n",
      "Epoch: 21/30..  Training Loss: 0.026..  Test Loss: 0.103..  Test Accuracy: 0.976\n",
      "Epoch: 22/30..  Training Loss: 0.027..  Test Loss: 0.112..  Test Accuracy: 0.974\n",
      "Epoch: 23/30..  Training Loss: 0.023..  Test Loss: 0.093..  Test Accuracy: 0.978\n",
      "Epoch: 24/30..  Training Loss: 0.022..  Test Loss: 0.103..  Test Accuracy: 0.978\n",
      "Epoch: 25/30..  Training Loss: 0.022..  Test Loss: 0.098..  Test Accuracy: 0.978\n",
      "Epoch: 26/30..  Training Loss: 0.019..  Test Loss: 0.118..  Test Accuracy: 0.975\n",
      "Epoch: 27/30..  Training Loss: 0.022..  Test Loss: 0.107..  Test Accuracy: 0.976\n",
      "Epoch: 28/30..  Training Loss: 0.019..  Test Loss: 0.121..  Test Accuracy: 0.973\n",
      "Epoch: 29/30..  Training Loss: 0.018..  Test Loss: 0.108..  Test Accuracy: 0.978\n",
      "Epoch: 30/30..  Training Loss: 0.018..  Test Loss: 0.120..  Test Accuracy: 0.975\n"
     ]
    }
   ],
   "source": [
    "model = Classifier()\n",
    "criterion = nn.NLLLoss()\n",
    "optimizer = optim.Adam(model.parameters(), lr=0.001)\n",
    "\n",
    "epochs = 30\n",
    "steps = 0\n",
    "\n",
    "train_losses, test_losses = [], []\n",
    "for e in range(epochs):\n",
    "    running_loss = 0\n",
    "    for images, labels in train_loader:\n",
    "        \n",
    "        optimizer.zero_grad()\n",
    "        \n",
    "        log_ps = model(images)\n",
    "        loss = criterion(log_ps, labels)\n",
    "        loss.backward()\n",
    "        optimizer.step()\n",
    "        \n",
    "        running_loss += loss.item()\n",
    "        \n",
    "    else:\n",
    "        test_loss = 0\n",
    "        accuracy = 0\n",
    "        \n",
    "        # Turn off gradients for validation, saves memory and computations\n",
    "        with torch.no_grad():\n",
    "            model.eval()\n",
    "            for images, labels in test_loader:\n",
    "                log_ps = model(images)\n",
    "                test_loss += criterion(log_ps, labels)\n",
    "                \n",
    "                ps = torch.exp(log_ps)\n",
    "                top_p, top_class = ps.topk(1, dim=1)\n",
    "                equals = top_class == labels.view(*top_class.shape)\n",
    "                accuracy += torch.mean(equals.type(torch.FloatTensor))\n",
    "        \n",
    "        model.train()\n",
    "        \n",
    "        train_losses.append(running_loss/len(train_loader))\n",
    "        test_losses.append(test_loss/len(test_loader))\n",
    "\n",
    "        print(\"Epoch: {}/{}.. \".format(e+1, epochs),\n",
    "              \"Training Loss: {:.3f}.. \".format(running_loss/len(train_loader)),\n",
    "              \"Test Loss: {:.3f}.. \".format(test_loss/len(test_loader)),\n",
    "              \"Test Accuracy: {:.3f}\".format(accuracy/len(test_loader)))"
   ]
  },
  {
   "cell_type": "code",
   "execution_count": 15,
   "metadata": {},
   "outputs": [],
   "source": [
    "%matplotlib inline\n",
    "%config InlineBackend.figure_format = 'retina'\n",
    "\n",
    "import matplotlib.pyplot as plt"
   ]
  },
  {
   "cell_type": "code",
   "execution_count": 16,
   "metadata": {},
   "outputs": [
    {
     "data": {
      "text/plain": [
       "<matplotlib.legend.Legend at 0x7fd83564e198>"
      ]
     },
     "execution_count": 16,
     "metadata": {},
     "output_type": "execute_result"
    },
    {
     "data": {
      "image/png": "[encoded data removed]",
      "text/plain": [
       "<Figure size 432x288 with 1 Axes>"
      ]
     },
     "metadata": {
      "image/png": {
       "height": 250,
       "width": 373
      },
      "needs_background": "light"
     },
     "output_type": "display_data"
    }
   ],
   "source": [
    "plt.plot(train_losses, label='Training loss')\n",
    "plt.plot(test_losses, label='Validation loss')\n",
    "plt.legend(frameon=False)"
   ]
  },
  {
   "cell_type": "code",
   "execution_count": 17,
   "metadata": {},
   "outputs": [],
   "source": [
    "def plot(img,ps):\n",
    "    fig, (ax1, ax2) = plt.subplots(figsize=(6,9), ncols=2)\n",
    "    ax1.imshow(img.resize_(1, 28, 28).numpy().squeeze())\n",
    "    ax1.axis('off')\n",
    "    ps = ps.data.numpy().squeeze()\n",
    "    \n",
    "    ax2.barh(np.arange(10), ps)\n",
    "    ax2.set_aspect(0.1)\n",
    "    ax2.set_yticks(np.arange(10))\n",
    "    ax2.set_yticklabels(np.arange(10))\n",
    "    ax2.set_title('Class Probability')\n",
    "    ax2.set_xlim(0, 1.1)\n",
    "    \n",
    "    plt.tight_layout()"
   ]
  },
  {
   "cell_type": "code",
   "execution_count": 18,
   "metadata": {},
   "outputs": [
    {
     "data": {
      "image/png": "[encoded data removed]",
      "text/plain": [
       "<Figure size 432x648 with 2 Axes>"
      ]
     },
     "metadata": {
      "image/png": {
       "height": 226,
       "width": 423
      },
      "needs_background": "light"
     },
     "output_type": "display_data"
    }
   ],
   "source": [
    "images, labels = next(iter(train_loader))\n",
    "\n",
    "img = images[0].view(1, 784)\n",
    "# Turn off gradients to speed up this part\n",
    "with torch.no_grad():\n",
    "    logps = model.forward(img)\n",
    "\n",
    "# Output of the network are logits, need to take softmax for probabilities\n",
    "ps = torch.exp(logps)\n",
    "plot(img,ps)"
   ]
  },
  {
   "cell_type": "code",
   "execution_count": 19,
   "metadata": {},
   "outputs": [
    {
     "name": "stdout",
     "output_type": "stream",
     "text": [
      "tensor([[6],\n",
      "        [5],\n",
      "        [3],\n",
      "        [4],\n",
      "        [7],\n",
      "        [8],\n",
      "        [6],\n",
      "        [7],\n",
      "        [0],\n",
      "        [9]])\n"
     ]
    }
   ],
   "source": [
    "#predictions of first 10 images\n",
    "ps = torch.exp(model(images))\n",
    "top_p, top_class = ps.topk(1,dim=1)\n",
    "print(top_class[:10,:])"
   ]
  },
  {
   "cell_type": "code",
   "execution_count": 20,
   "metadata": {},
   "outputs": [],
   "source": [
    "#equate topclass and labels\n",
    "equals = top_class == labels.view(*top_class.shape)"
   ]
  },
  {
   "cell_type": "code",
   "execution_count": 21,
   "metadata": {},
   "outputs": [
    {
     "name": "stdout",
     "output_type": "stream",
     "text": [
      "Accuracy: 100.0%\n"
     ]
    }
   ],
   "source": [
    "accuracy = torch.mean(equals.type(torch.FloatTensor))\n",
    "print(f'Accuracy: {accuracy.item()*100}%')"
   ]
  },
  {
   "cell_type": "code",
   "execution_count": null,
   "metadata": {},
   "outputs": [],
   "source": []
  }
 ],
 "metadata": {
  "kernelspec": {
   "display_name": "Python 3",
   "language": "python",
   "name": "python3"
  },
  "language_info": {
   "codemirror_mode": {
    "name": "ipython",
    "version": 3
   },
   "file_extension": ".py",
   "mimetype": "text/x-python",
   "name": "python",
   "nbconvert_exporter": "python",
   "pygments_lexer": "ipython3",
   "version": "3.6.6"
  }
 },
 "nbformat": 4,
 "nbformat_minor": 1
}
