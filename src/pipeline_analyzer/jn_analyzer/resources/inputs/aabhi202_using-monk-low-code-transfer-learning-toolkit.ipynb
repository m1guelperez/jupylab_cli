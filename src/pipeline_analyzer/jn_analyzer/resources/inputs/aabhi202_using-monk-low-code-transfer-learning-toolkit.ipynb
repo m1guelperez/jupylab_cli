{
 "cells": [
  {
   "cell_type": "markdown",
   "metadata": {
    "_cell_guid": "79c7e3d0-c299-4dcb-8224-4455121ee9b0",
    "_uuid": "d629ff2d2480ee46fbb7e2d37f6b5fab8052498a",
    "collapsed": true
   },
   "source": [
    "## Note: Used internet and GPU to first run the experiments. Then used a different kernel to submit submission file"
   ]
  },
  {
   "cell_type": "code",
   "execution_count": 1,
   "metadata": {},
   "outputs": [],
   "source": [
    "# Convert CSV data to images\n",
    "import pandas as pd\n",
    "import numpy as np\n",
    "import cv2\n",
    "import os\n",
    "from tqdm import tqdm_notebook as tqdm\n",
    "\n",
    "os.mkdir(\"images\");\n",
    "os.mkdir(\"images/train\");\n",
    "os.mkdir(\"images/test\");"
   ]
  },
  {
   "cell_type": "code",
   "execution_count": 2,
   "metadata": {},
   "outputs": [
    {
     "data": {
      "application/vnd.jupyter.widget-view+json": {
       "model_id": "162b619a8dba4ade86d53faf95fdd570",
       "version_major": 2,
       "version_minor": 0
      },
      "text/plain": [
       "HBox(children=(IntProgress(value=0, max=60000), HTML(value='')))"
      ]
     },
     "metadata": {},
     "output_type": "display_data"
    },
    {
     "name": "stdout",
     "output_type": "stream",
     "text": [
      "\n"
     ]
    },
    {
     "data": {
      "application/vnd.jupyter.widget-view+json": {
       "model_id": "daee89357ca240b8a56f63fc3656f7fc",
       "version_major": 2,
       "version_minor": 0
      },
      "text/plain": [
       "HBox(children=(IntProgress(value=0, max=5000), HTML(value='')))"
      ]
     },
     "metadata": {},
     "output_type": "display_data"
    },
    {
     "name": "stdout",
     "output_type": "stream",
     "text": [
      "\n"
     ]
    }
   ],
   "source": [
    "#Training data\n",
    "dv = pd.read_csv(\"/kaggle/input/Kannada-MNIST/train.csv\");\n",
    "for i in tqdm(range(60000)):\n",
    "    x = dv.iloc[i].to_numpy();\n",
    "    label = str(x[0])\n",
    "    img = x[1:]\n",
    "    img = np.reshape(img, (28, 28));\n",
    "    img = np.expand_dims(img, axis=0);\n",
    "    img = np.vstack((img, img, img))\n",
    "    img = np.swapaxes(img, 0, 1);\n",
    "    img = np.swapaxes(img, 1, 2);\n",
    "    if(not os.path.isdir(\"images/train/\" + label)):\n",
    "        os.mkdir(\"images/train/\" + label);\n",
    "    \n",
    "    cv2.imwrite(\"images/train/\" + label + \"/\" + str(i) + \".jpg\", img);\n",
    "    \n",
    "    \n",
    "#Testing data\n",
    "dv = pd.read_csv(\"/kaggle/input/Kannada-MNIST/test.csv\");\n",
    "for i in tqdm(range(5000)):\n",
    "    x = dv.iloc[i].to_numpy();\n",
    "    id_ = str(x[0])\n",
    "    img = x[1:]\n",
    "    img = np.reshape(img, (28, 28));\n",
    "    img = np.expand_dims(img, axis=0);\n",
    "    img = np.vstack((img, img, img))\n",
    "    img = np.swapaxes(img, 0, 1);\n",
    "    img = np.swapaxes(img, 1, 2);\n",
    "    cv2.imwrite(\"images/test/\" + str(id_) + \".jpg\", img);"
   ]
  },
  {
   "cell_type": "code",
   "execution_count": null,
   "metadata": {},
   "outputs": [],
   "source": []
  },
  {
   "cell_type": "code",
   "execution_count": null,
   "metadata": {},
   "outputs": [],
   "source": []
  },
  {
   "cell_type": "markdown",
   "metadata": {},
   "source": [
    "# Introducing Monk\n",
    "- An **open-source low code** transfer learning toolkit that acts as a unified wrapper over deep learning frameworks\n",
    "\n",
    "- Get More details: https://medium.com/@Abhishek4273/expediting-transfer-learning-the-monks-way-422d7ec40ec6\n",
    "\n",
    "## Features\n",
    "- a. A **syntax invariant wrapper** over pytorch, keras, mxnet-gluon for computer vision\n",
    "- b. Write **less code** to quickly prototype and experiment\n",
    "- c. **Compare metrics** across experiments."
   ]
  },
  {
   "cell_type": "code",
   "execution_count": null,
   "metadata": {},
   "outputs": [],
   "source": []
  },
  {
   "cell_type": "code",
   "execution_count": 3,
   "metadata": {},
   "outputs": [
    {
     "name": "stdout",
     "output_type": "stream",
     "text": [
      "Cloning into 'monk_v1'...\r\n",
      "remote: Enumerating objects: 576, done.\u001b[K\r\n",
      "remote: Counting objects: 100% (576/576), done.\u001b[K\r\n",
      "remote: Compressing objects: 100% (384/384), done.\u001b[K\r\n",
      "remote: Total 576 (delta 188), reused 549 (delta 172), pack-reused 0\u001b[K\r\n",
      "Receiving objects: 100% (576/576), 4.70 MiB | 0 bytes/s, done.\r\n",
      "Resolving deltas: 100% (188/188), done.\r\n"
     ]
    }
   ],
   "source": [
    "!git clone https://github.com/Tessellate-Imaging/monk_v1.git"
   ]
  },
  {
   "cell_type": "markdown",
   "metadata": {},
   "source": [
    "### Custom dependency installation script for kaggle"
   ]
  },
  {
   "cell_type": "code",
   "execution_count": 4,
   "metadata": {},
   "outputs": [
    {
     "name": "stdout",
     "output_type": "stream",
     "text": [
      "Requirement already satisfied: scipy in /opt/conda/lib/python3.6/site-packages (from -r /kaggle/working/monk_v1/installation/requirements_kaggle.txt (line 1)) (1.2.1)\r\n",
      "Requirement already satisfied: scikit-learn in /opt/conda/lib/python3.6/site-packages (from -r /kaggle/working/monk_v1/installation/requirements_kaggle.txt (line 2)) (0.21.3)\r\n",
      "Requirement already satisfied: scikit-image in /opt/conda/lib/python3.6/site-packages (from -r /kaggle/working/monk_v1/installation/requirements_kaggle.txt (line 3)) (0.16.2)\r\n",
      "Requirement already satisfied: opencv-python in /opt/conda/lib/python3.6/site-packages (from -r /kaggle/working/monk_v1/installation/requirements_kaggle.txt (line 4)) (4.1.1.26)\r\n",
      "Requirement already satisfied: pillow in /opt/conda/lib/python3.6/site-packages (from -r /kaggle/working/monk_v1/installation/requirements_kaggle.txt (line 5)) (5.4.1)\r\n",
      "Requirement already satisfied: tqdm in /opt/conda/lib/python3.6/site-packages (from -r /kaggle/working/monk_v1/installation/requirements_kaggle.txt (line 6)) (4.36.1)\r\n",
      "Collecting gpustat\r\n",
      "\u001b[?25l  Downloading https://files.pythonhosted.org/packages/b4/69/d8c849715171aeabd61af7da080fdc60948b5a396d2422f1f4672e43d008/gpustat-0.6.0.tar.gz (78kB)\r\n",
      "\u001b[K     |████████████████████████████████| 81kB 2.5MB/s \r\n",
      "\u001b[?25hRequirement already satisfied: psutil in /opt/conda/lib/python3.6/site-packages (from -r /kaggle/working/monk_v1/installation/requirements_kaggle.txt (line 8)) (5.6.3)\r\n",
      "Requirement already satisfied: pandas in /opt/conda/lib/python3.6/site-packages (from -r /kaggle/working/monk_v1/installation/requirements_kaggle.txt (line 9)) (0.25.2)\r\n",
      "Collecting GPUtil\r\n",
      "  Downloading https://files.pythonhosted.org/packages/ed/0e/5c61eedde9f6c87713e89d794f01e378cfd9565847d4576fa627d758c554/GPUtil-1.4.0.tar.gz\r\n",
      "Collecting pylg\r\n",
      "  Downloading https://files.pythonhosted.org/packages/6c/15/20e454f122d87e4088803be527de8566468608c55645b573f702e11cb63c/PyLg-1.3.3-py3-none-any.whl\r\n",
      "Requirement already satisfied: joblib>=0.11 in /opt/conda/lib/python3.6/site-packages (from scikit-learn->-r /kaggle/working/monk_v1/installation/requirements_kaggle.txt (line 2)) (0.13.2)\r\n",
      "Requirement already satisfied: numpy>=1.11.0 in /opt/conda/lib/python3.6/site-packages (from scikit-learn->-r /kaggle/working/monk_v1/installation/requirements_kaggle.txt (line 2)) (1.16.4)\r\n",
      "Requirement already satisfied: networkx>=2.0 in /opt/conda/lib/python3.6/site-packages (from scikit-image->-r /kaggle/working/monk_v1/installation/requirements_kaggle.txt (line 3)) (2.4)\r\n",
      "Requirement already satisfied: matplotlib!=3.0.0,>=2.0.0 in /opt/conda/lib/python3.6/site-packages (from scikit-image->-r /kaggle/working/monk_v1/installation/requirements_kaggle.txt (line 3)) (3.0.3)\r\n",
      "Requirement already satisfied: PyWavelets>=0.4.0 in /opt/conda/lib/python3.6/site-packages (from scikit-image->-r /kaggle/working/monk_v1/installation/requirements_kaggle.txt (line 3)) (1.1.1)\r\n",
      "Requirement already satisfied: imageio>=2.3.0 in /opt/conda/lib/python3.6/site-packages (from scikit-image->-r /kaggle/working/monk_v1/installation/requirements_kaggle.txt (line 3)) (2.6.1)\r\n",
      "Requirement already satisfied: six>=1.7 in /opt/conda/lib/python3.6/site-packages (from gpustat->-r /kaggle/working/monk_v1/installation/requirements_kaggle.txt (line 7)) (1.12.0)\r\n",
      "Requirement already satisfied: nvidia-ml-py3>=7.352.0 in /opt/conda/lib/python3.6/site-packages (from gpustat->-r /kaggle/working/monk_v1/installation/requirements_kaggle.txt (line 7)) (7.352.0)\r\n",
      "Collecting blessings>=1.6\r\n",
      "  Downloading https://files.pythonhosted.org/packages/03/74/489f85a78247609c6b4f13733cbf3ba0d864b11aa565617b645d6fdf2a4a/blessings-1.7-py3-none-any.whl\r\n",
      "Requirement already satisfied: python-dateutil>=2.6.1 in /opt/conda/lib/python3.6/site-packages (from pandas->-r /kaggle/working/monk_v1/installation/requirements_kaggle.txt (line 9)) (2.8.0)\r\n",
      "Requirement already satisfied: pytz>=2017.2 in /opt/conda/lib/python3.6/site-packages (from pandas->-r /kaggle/working/monk_v1/installation/requirements_kaggle.txt (line 9)) (2019.3)\r\n",
      "Requirement already satisfied: decorator>=4.3.0 in /opt/conda/lib/python3.6/site-packages (from networkx>=2.0->scikit-image->-r /kaggle/working/monk_v1/installation/requirements_kaggle.txt (line 3)) (4.4.0)\r\n",
      "Requirement already satisfied: cycler>=0.10 in /opt/conda/lib/python3.6/site-packages (from matplotlib!=3.0.0,>=2.0.0->scikit-image->-r /kaggle/working/monk_v1/installation/requirements_kaggle.txt (line 3)) (0.10.0)\r\n",
      "Requirement already satisfied: kiwisolver>=1.0.1 in /opt/conda/lib/python3.6/site-packages (from matplotlib!=3.0.0,>=2.0.0->scikit-image->-r /kaggle/working/monk_v1/installation/requirements_kaggle.txt (line 3)) (1.1.0)\r\n",
      "Requirement already satisfied: pyparsing!=2.0.4,!=2.1.2,!=2.1.6,>=2.0.1 in /opt/conda/lib/python3.6/site-packages (from matplotlib!=3.0.0,>=2.0.0->scikit-image->-r /kaggle/working/monk_v1/installation/requirements_kaggle.txt (line 3)) (2.4.2)\r\n",
      "Requirement already satisfied: setuptools in /opt/conda/lib/python3.6/site-packages (from kiwisolver>=1.0.1->matplotlib!=3.0.0,>=2.0.0->scikit-image->-r /kaggle/working/monk_v1/installation/requirements_kaggle.txt (line 3)) (41.4.0)\r\n",
      "Building wheels for collected packages: gpustat, GPUtil\r\n",
      "  Building wheel for gpustat (setup.py) ... \u001b[?25l-\b \bdone\r\n",
      "\u001b[?25h  Created wheel for gpustat: filename=gpustat-0.6.0-cp36-none-any.whl size=12620 sha256=c486c284aa4fe537606962645282376d857f5b24c4781158eff77d33a47b8320\r\n",
      "  Stored in directory: /tmp/.cache/pip/wheels/48/b4/d5/fb5b7f1d040f2ff20687e3bad6867d63155dbde5a7c10f4293\r\n",
      "  Building wheel for GPUtil (setup.py) ... \u001b[?25l-\b \b\\\b \bdone\r\n",
      "\u001b[?25h  Created wheel for GPUtil: filename=GPUtil-1.4.0-cp36-none-any.whl size=7410 sha256=8baf7e77c9c4f66855b7cd7430f44b44720e5c91dfce18df3ed17a4770a7d3a6\r\n",
      "  Stored in directory: /tmp/.cache/pip/wheels/3d/77/07/80562de4bb0786e5ea186911a2c831fdd0018bda69beab71fd\r\n",
      "Successfully built gpustat GPUtil\r\n",
      "Installing collected packages: blessings, gpustat, GPUtil, pylg\r\n",
      "Successfully installed GPUtil-1.4.0 blessings-1.7 gpustat-0.6.0 pylg-1.3.3\r\n"
     ]
    }
   ],
   "source": [
    "!pip install -r /kaggle/working/monk_v1/installation/requirements_kaggle.txt"
   ]
  },
  {
   "cell_type": "code",
   "execution_count": null,
   "metadata": {},
   "outputs": [],
   "source": []
  },
  {
   "cell_type": "code",
   "execution_count": 5,
   "metadata": {},
   "outputs": [],
   "source": [
    "import sys\n",
    "sys.path.append(\"/kaggle/working/monk_v1/monk/\")"
   ]
  },
  {
   "cell_type": "code",
   "execution_count": null,
   "metadata": {},
   "outputs": [],
   "source": []
  },
  {
   "cell_type": "markdown",
   "metadata": {},
   "source": [
    "## Example 1 - Using pyrotch resnet50 to train the classifier in Quick Mode"
   ]
  },
  {
   "cell_type": "code",
   "execution_count": 6,
   "metadata": {},
   "outputs": [],
   "source": [
    "# Step 0 - Using Pytorch\n",
    "from pytorch_prototype import prototype"
   ]
  },
  {
   "cell_type": "code",
   "execution_count": 7,
   "metadata": {},
   "outputs": [
    {
     "name": "stdout",
     "output_type": "stream",
     "text": [
      "Pytorch Version: 1.3.0\n",
      "\n",
      "Experiment Details\n",
      "    Project: sample-project-1\n",
      "    Experiment: sample-experiment-1\n",
      "    Dir: /kaggle/working/workspace/sample-project-1/sample-experiment-1/\n",
      "\n"
     ]
    }
   ],
   "source": [
    "# Step 1 - Create experiment\n",
    "ptf = prototype(verbose=1);\n",
    "ptf.Prototype(\"sample-project-1\", \"sample-experiment-1\");"
   ]
  },
  {
   "cell_type": "markdown",
   "metadata": {},
   "source": [
    "## Invoke [Quick Mode](https://clever-noyce-f9d43f.netlify.com/#/quick_mode/quickmode_pytorch) "
   ]
  },
  {
   "cell_type": "code",
   "execution_count": 8,
   "metadata": {},
   "outputs": [
    {
     "name": "stdout",
     "output_type": "stream",
     "text": [
      "Dataset Details\n",
      "    Train path:     images/train/\n",
      "    Val path:       None\n",
      "    CSV train path: None\n",
      "    CSV val path:  None\n",
      "\n",
      "Dataset Params\n",
      "    Input Size:  224\n",
      "    Batch Size:  4\n",
      "    Data Shuffle: True\n",
      "    Processors:   2\n",
      "    Train-val split:   0.7\n",
      "\n",
      "Pre-Composed Train Transforms\n",
      "[{'RandomHorizontalFlip': {'p': 0.8}}, {'Normalize': {'mean': [0.485, 0.456, 0.406], 'std': [0.229, 0.224, 0.225]}}]\n",
      "\n",
      "Pre-Composed Val Transforms\n",
      "[{'RandomHorizontalFlip': {'p': 0.8}}, {'Normalize': {'mean': [0.485, 0.456, 0.406], 'std': [0.229, 0.224, 0.225]}}]\n",
      "\n",
      "Dataset Numbers\n",
      "    Num train images: 42000\n",
      "    Num val images:   18000\n",
      "    Num classes:      10\n",
      "\n",
      "Model Params\n",
      "    Model name:           resnet50\n",
      "    Use Gpu:              True\n",
      "    Use pretrained:       True\n",
      "    Freeze base network:  True\n",
      "\n",
      "Model Details\n",
      "    Loading pretrained model\n"
     ]
    },
    {
     "name": "stderr",
     "output_type": "stream",
     "text": [
      "Downloading: \"https://download.pytorch.org/models/resnet50-19c8e357.pth\" to /tmp/.cache/torch/checkpoints/resnet50-19c8e357.pth\n",
      "100%|██████████| 97.8M/97.8M [00:00<00:00, 148MB/s]\n"
     ]
    },
    {
     "name": "stdout",
     "output_type": "stream",
     "text": [
      "    Model Loaded on device\n",
      "        Model name:           resnet50\n",
      "        Num layers in model:  80\n",
      "        Num trainable layers: 1\n",
      "\n",
      "Optimizer\n",
      "    Name:          sgd\n",
      "    Learning rate: 0.01\n",
      "    Params:        {'lr': 0.01, 'dampening': 0, 'nesterov': False, 'weight_decay': 0, 'momentum': 0}\n",
      "\n",
      "Learning rate scheduler\n",
      "    Name:   reduceonplateaulr\n",
      "    Params: {'mode': 'min', 'factor': 0.1, 'patience': 8, 'verbose': True, 'threshold': 0.0001, 'threshold_mode': 'rel', 'cooldown': 0, 'min_lr': 0, 'epsilon': 1e-08}\n",
      "\n",
      "Loss\n",
      "    Name:          softmaxcrossentropy\n",
      "    Params:        {'weight': None, 'size_average': None, 'ignore_index': -100, 'reduce': None, 'reduction': 'mean'}\n",
      "\n",
      "Training params\n",
      "    Num Epochs: 25\n",
      "\n",
      "Display params\n",
      "    Display progress:          True\n",
      "    Display progress realtime: True\n",
      "    Save Training logs:        True\n",
      "    Save Intermediate models:  True\n",
      "    Intermediate model prefix: intermediate_model_\n",
      "\n"
     ]
    }
   ],
   "source": [
    "# Step 2\n",
    "ptf.Default(dataset_path=\"images/train/\",\n",
    "           model_name=\"resnet50\", freeze_base_network=True,\n",
    "           num_epochs=25);"
   ]
  },
  {
   "cell_type": "markdown",
   "metadata": {},
   "source": [
    "### Using Monk's [Update MODE](https://clever-noyce-f9d43f.netlify.com/#/update_mode/update_dataset)"
   ]
  },
  {
   "cell_type": "code",
   "execution_count": 9,
   "metadata": {},
   "outputs": [
    {
     "name": "stdout",
     "output_type": "stream",
     "text": [
      "Update: Save Intermediate models - False\n",
      "\n",
      "Update: Display progress realtime - False\n",
      "\n",
      "Update: Batch size - 32\n",
      "\n",
      "Pre-Composed Train Transforms\n",
      "[{'RandomHorizontalFlip': {'p': 0.8}}, {'Normalize': {'mean': [0.485, 0.456, 0.406], 'std': [0.229, 0.224, 0.225]}}]\n",
      "\n",
      "Pre-Composed Val Transforms\n",
      "[{'RandomHorizontalFlip': {'p': 0.8}}, {'Normalize': {'mean': [0.485, 0.456, 0.406], 'std': [0.229, 0.224, 0.225]}}]\n",
      "\n",
      "Dataset Numbers\n",
      "    Num train images: 42000\n",
      "    Num val images:   18000\n",
      "    Num classes:      10\n",
      "\n",
      "Model Details\n",
      "    Loading pretrained model\n",
      "    Model Loaded on device\n",
      "        Model name:           resnet50\n",
      "        Num layers in model:  80\n",
      "        Num trainable layers: 1\n",
      "\n"
     ]
    }
   ],
   "source": [
    "# Additional Step\n",
    "ptf.update_save_intermediate_models(False); \n",
    "ptf.update_display_progress_realtime(False);\n",
    "ptf.update_batch_size(32);\n",
    "ptf.Reload();"
   ]
  },
  {
   "cell_type": "code",
   "execution_count": 10,
   "metadata": {},
   "outputs": [
    {
     "name": "stdout",
     "output_type": "stream",
     "text": [
      "Training Start\n",
      "    Epoch 1/25\n",
      "    ----------\n",
      "    curr_lr - 0.01\n",
      "    [Epoch 1] Train-acc: 0.810, Train-loss: 0.797 | Val-acc: 0.898944, Val-loss: 0.426, | time: 141.4 sec\n",
      "\n",
      "    Epoch 2/25\n",
      "    ----------\n",
      "    curr_lr - 0.01\n",
      "    [Epoch 2] Train-acc: 0.897, Train-loss: 0.406 | Val-acc: 0.915167, Val-loss: 0.329, | time: 137.1 sec\n",
      "\n",
      "    Epoch 3/25\n",
      "    ----------\n",
      "    curr_lr - 0.01\n",
      "    [Epoch 3] Train-acc: 0.909, Train-loss: 0.338 | Val-acc: 0.926222, Val-loss: 0.284, | time: 138.9 sec\n",
      "\n",
      "    Epoch 4/25\n",
      "    ----------\n",
      "    curr_lr - 0.01\n",
      "    [Epoch 4] Train-acc: 0.917, Train-loss: 0.304 | Val-acc: 0.931778, Val-loss: 0.255, | time: 137.3 sec\n",
      "\n",
      "    Epoch 5/25\n",
      "    ----------\n",
      "    curr_lr - 0.01\n",
      "    [Epoch 5] Train-acc: 0.923, Train-loss: 0.274 | Val-acc: 0.935722, Val-loss: 0.234, | time: 137.8 sec\n",
      "\n",
      "    Epoch 6/25\n",
      "    ----------\n",
      "    curr_lr - 0.01\n",
      "    [Epoch 6] Train-acc: 0.926, Train-loss: 0.261 | Val-acc: 0.938222, Val-loss: 0.228, | time: 138.7 sec\n",
      "\n",
      "    Epoch 7/25\n",
      "    ----------\n",
      "    curr_lr - 0.01\n",
      "    [Epoch 7] Train-acc: 0.930, Train-loss: 0.244 | Val-acc: 0.938000, Val-loss: 0.222, | time: 136.2 sec\n",
      "\n",
      "    Epoch 8/25\n",
      "    ----------\n",
      "    curr_lr - 0.01\n",
      "    [Epoch 8] Train-acc: 0.932, Train-loss: 0.237 | Val-acc: 0.940611, Val-loss: 0.207, | time: 137.7 sec\n",
      "\n",
      "    Epoch 9/25\n",
      "    ----------\n",
      "    curr_lr - 0.01\n",
      "    [Epoch 9] Train-acc: 0.934, Train-loss: 0.230 | Val-acc: 0.941000, Val-loss: 0.204, | time: 138.8 sec\n",
      "\n",
      "    Epoch 10/25\n",
      "    ----------\n",
      "    curr_lr - 0.01\n",
      "    [Epoch 10] Train-acc: 0.936, Train-loss: 0.222 | Val-acc: 0.943833, Val-loss: 0.196, | time: 138.4 sec\n",
      "\n",
      "    Epoch 11/25\n",
      "    ----------\n",
      "    curr_lr - 0.01\n",
      "    [Epoch 11] Train-acc: 0.936, Train-loss: 0.217 | Val-acc: 0.946556, Val-loss: 0.189, | time: 136.9 sec\n",
      "\n",
      "    Epoch 12/25\n",
      "    ----------\n",
      "    curr_lr - 0.01\n",
      "    [Epoch 12] Train-acc: 0.939, Train-loss: 0.210 | Val-acc: 0.946778, Val-loss: 0.185, | time: 137.5 sec\n",
      "\n",
      "    Epoch 13/25\n",
      "    ----------\n",
      "    curr_lr - 0.01\n",
      "    [Epoch 13] Train-acc: 0.939, Train-loss: 0.204 | Val-acc: 0.948500, Val-loss: 0.182, | time: 137.0 sec\n",
      "\n",
      "    Epoch 14/25\n",
      "    ----------\n",
      "    curr_lr - 0.01\n",
      "    [Epoch 14] Train-acc: 0.940, Train-loss: 0.201 | Val-acc: 0.948167, Val-loss: 0.177, | time: 137.5 sec\n",
      "\n",
      "    Epoch 15/25\n",
      "    ----------\n",
      "    curr_lr - 0.01\n",
      "    [Epoch 15] Train-acc: 0.942, Train-loss: 0.195 | Val-acc: 0.949611, Val-loss: 0.176, | time: 136.6 sec\n",
      "\n",
      "    Epoch 16/25\n",
      "    ----------\n",
      "    curr_lr - 0.01\n",
      "    [Epoch 16] Train-acc: 0.944, Train-loss: 0.191 | Val-acc: 0.950333, Val-loss: 0.172, | time: 139.1 sec\n",
      "\n",
      "    Epoch 17/25\n",
      "    ----------\n",
      "    curr_lr - 0.01\n",
      "    [Epoch 17] Train-acc: 0.944, Train-loss: 0.190 | Val-acc: 0.950944, Val-loss: 0.167, | time: 137.8 sec\n",
      "\n",
      "    Epoch 18/25\n",
      "    ----------\n",
      "    curr_lr - 0.01\n",
      "    [Epoch 18] Train-acc: 0.943, Train-loss: 0.186 | Val-acc: 0.950500, Val-loss: 0.168, | time: 137.0 sec\n",
      "\n",
      "    Epoch 19/25\n",
      "    ----------\n",
      "    curr_lr - 0.01\n",
      "    [Epoch 19] Train-acc: 0.944, Train-loss: 0.184 | Val-acc: 0.943444, Val-loss: 0.180, | time: 137.8 sec\n",
      "\n",
      "    Epoch 20/25\n",
      "    ----------\n",
      "    curr_lr - 0.01\n",
      "    [Epoch 20] Train-acc: 0.946, Train-loss: 0.179 | Val-acc: 0.953222, Val-loss: 0.161, | time: 137.5 sec\n",
      "\n",
      "    Epoch 21/25\n",
      "    ----------\n",
      "    curr_lr - 0.01\n",
      "    [Epoch 21] Train-acc: 0.947, Train-loss: 0.178 | Val-acc: 0.952556, Val-loss: 0.162, | time: 137.9 sec\n",
      "\n",
      "    Epoch 22/25\n",
      "    ----------\n",
      "    curr_lr - 0.01\n",
      "    [Epoch 22] Train-acc: 0.947, Train-loss: 0.177 | Val-acc: 0.953056, Val-loss: 0.159, | time: 137.7 sec\n",
      "\n",
      "    Epoch 23/25\n",
      "    ----------\n",
      "    curr_lr - 0.01\n",
      "    [Epoch 23] Train-acc: 0.947, Train-loss: 0.176 | Val-acc: 0.952556, Val-loss: 0.159, | time: 138.3 sec\n",
      "\n",
      "    Epoch 24/25\n",
      "    ----------\n",
      "    curr_lr - 0.01\n",
      "    [Epoch 24] Train-acc: 0.948, Train-loss: 0.173 | Val-acc: 0.953000, Val-loss: 0.160, | time: 137.6 sec\n",
      "\n",
      "    Epoch 25/25\n",
      "    ----------\n",
      "    curr_lr - 0.01\n",
      "    [Epoch 25] Train-acc: 0.949, Train-loss: 0.172 | Val-acc: 0.951389, Val-loss: 0.160, | time: 138.0 sec\n",
      "\n",
      "    Training completed in: 57m 22s\n",
      "    Best val Acc:          0.953222\n",
      "\n",
      "Training End\n",
      "\n",
      "Training Outputs\n",
      "    Model Dir:   /kaggle/working/workspace/sample-project-1/sample-experiment-1/output/models/\n",
      "    Log Dir:     /kaggle/working/workspace/sample-project-1/sample-experiment-1/output/logs/\n",
      "    Final model: final\n",
      "    Best model:  best_model\n",
      "    Log 1 - Validation accuracy history log: val_acc_history.npy\n",
      "    Log 2 - Validation loss history log:     val_loss_history.npy\n",
      "    Log 3 - Training accuracy history log:   train_acc_history.npy\n",
      "    Log 4 - Training loss history log:       train_loss_history.npy\n",
      "    Log 5 - Training curve:                  train_loss_history.npy\n",
      "    Log 6 - Validation curve:                train_loss_history.npy\n",
      "\n"
     ]
    },
    {
     "data": {
      "text/plain": [
       "<Figure size 432x288 with 0 Axes>"
      ]
     },
     "metadata": {},
     "output_type": "display_data"
    }
   ],
   "source": [
    "# Step - 3\n",
    "ptf.Train();"
   ]
  },
  {
   "cell_type": "code",
   "execution_count": null,
   "metadata": {},
   "outputs": [],
   "source": []
  },
  {
   "cell_type": "code",
   "execution_count": null,
   "metadata": {},
   "outputs": [],
   "source": []
  },
  {
   "cell_type": "markdown",
   "metadata": {},
   "source": [
    "## Example 2 - Using gluon resnet50 to train the classifier in Quick Mode"
   ]
  },
  {
   "cell_type": "code",
   "execution_count": 11,
   "metadata": {},
   "outputs": [],
   "source": [
    "# Step 0 - Using Gluon\n",
    "from gluon_prototype import prototype"
   ]
  },
  {
   "cell_type": "code",
   "execution_count": 12,
   "metadata": {},
   "outputs": [
    {
     "name": "stdout",
     "output_type": "stream",
     "text": [
      "Mxnet Version: 1.5.1\n",
      "\n",
      "Experiment Details\n",
      "    Project: sample-project-1\n",
      "    Experiment: sample-experiment-2\n",
      "    Dir: /kaggle/working/workspace/sample-project-1/sample-experiment-2/\n",
      "\n"
     ]
    }
   ],
   "source": [
    "# Step 1 - Create experiment\n",
    "ptf = prototype(verbose=1);\n",
    "ptf.Prototype(\"sample-project-1\", \"sample-experiment-2\");"
   ]
  },
  {
   "cell_type": "code",
   "execution_count": 13,
   "metadata": {},
   "outputs": [
    {
     "name": "stdout",
     "output_type": "stream",
     "text": [
      "Dataset Details\n",
      "    Train path:     images/train/\n",
      "    Val path:       None\n",
      "    CSV train path: None\n",
      "    CSV val path:  None\n",
      "\n",
      "Dataset Params\n",
      "    Input Size:  224\n",
      "    Batch Size:  4\n",
      "    Data Shuffle: True\n",
      "    Processors:   2\n",
      "    Train-val split:   0.7\n",
      "\n",
      "Pre-Composed Train Transforms\n",
      "[{'RandomHorizontalFlip': {'p': 0.8}}, {'Normalize': {'mean': [0.485, 0.456, 0.406], 'std': [0.229, 0.224, 0.225]}}]\n",
      "\n",
      "Pre-Composed Val Transforms\n",
      "[{'RandomHorizontalFlip': {'p': 0.8}}, {'Normalize': {'mean': [0.485, 0.456, 0.406], 'std': [0.229, 0.224, 0.225]}}]\n",
      "\n",
      "Dataset Numbers\n",
      "    Num train images: 42000\n",
      "    Num val images:   18000\n",
      "    Num classes:      10\n",
      "\n",
      "Model Params\n",
      "    Model name:           resnet50_v2\n",
      "    Use Gpu:              True\n",
      "    Use pretrained:       True\n",
      "    Freeze base network:  True\n",
      "\n",
      "Model Details\n",
      "    Loading pretrained model\n",
      "Model file is not found. Downloading.\n",
      "Downloading /tmp/.mxnet/models/resnet50_v2-ecdde353.zip from https://apache-mxnet.s3-accelerate.dualstack.amazonaws.com/gluon/models/resnet50_v2-ecdde353.zip...\n"
     ]
    },
    {
     "name": "stderr",
     "output_type": "stream",
     "text": [
      "92863KB [00:02, 43274.31KB/s]                           \n"
     ]
    },
    {
     "name": "stdout",
     "output_type": "stream",
     "text": [
      "    Model Loaded on device\n",
      "        Model name:           resnet50_v2\n",
      "        Num layers in model:  129\n",
      "        Num trainable layers: 1\n",
      "\n",
      "Optimizer\n",
      "    Name:          sgd\n",
      "    Learning rate: 0.01\n",
      "    Params:        {'lr': 0.01, 'dampening': 0, 'nesterov': False, 'weight_decay': 0, 'momentum': 0}\n",
      "\n",
      "Learning rate scheduler\n",
      "    Name:   steplr\n",
      "    Params: {'step_size': 8, 'gamma': 0.1, 'last_epoch': -1}\n",
      "\n",
      "Loss\n",
      "    Name:          softmaxcrossentropy\n",
      "    Params:        {'weight': None, 'size_average': None, 'ignore_index': -100, 'reduction': 'mean'}\n",
      "\n",
      "Training params\n",
      "    Num Epochs: 25\n",
      "\n",
      "Display params\n",
      "    Display progress:          True\n",
      "    Display progress realtime: True\n",
      "    Save Training logs:        True\n",
      "    Save Intermediate models:  True\n",
      "    Intermediate model prefix: intermediate_model_\n",
      "\n"
     ]
    }
   ],
   "source": [
    "# Step 2 - Invoke Quick Prototype Default mode\n",
    "ptf.Default(dataset_path=\"images/train/\",\n",
    "           model_name=\"resnet50_v2\", freeze_base_network=True,\n",
    "           num_epochs=25);"
   ]
  },
  {
   "cell_type": "markdown",
   "metadata": {},
   "source": [
    "### Using Monk's [Update MODE](https://clever-noyce-f9d43f.netlify.com/#/update_mode/update_dataset)"
   ]
  },
  {
   "cell_type": "code",
   "execution_count": 14,
   "metadata": {},
   "outputs": [
    {
     "name": "stdout",
     "output_type": "stream",
     "text": [
      "Update: Save Intermediate models - False\n",
      "\n",
      "Update: Display progress realtime - False\n",
      "\n",
      "Update: Batch size - 32\n",
      "\n",
      "Pre-Composed Train Transforms\n",
      "[{'RandomHorizontalFlip': {'p': 0.8}}, {'Normalize': {'mean': [0.485, 0.456, 0.406], 'std': [0.229, 0.224, 0.225]}}]\n",
      "\n",
      "Pre-Composed Val Transforms\n",
      "[{'RandomHorizontalFlip': {'p': 0.8}}, {'Normalize': {'mean': [0.485, 0.456, 0.406], 'std': [0.229, 0.224, 0.225]}}]\n",
      "\n",
      "Dataset Numbers\n",
      "    Num train images: 42000\n",
      "    Num val images:   18000\n",
      "    Num classes:      10\n",
      "\n",
      "Model Details\n",
      "    Loading pretrained model\n",
      "    Model Loaded on device\n",
      "        Model name:           resnet50_v2\n",
      "        Num layers in model:  129\n",
      "        Num trainable layers: 2\n",
      "\n"
     ]
    }
   ],
   "source": [
    "# Additional Step\n",
    "ptf.update_save_intermediate_models(False); \n",
    "ptf.update_display_progress_realtime(False);\n",
    "ptf.update_batch_size(32);\n",
    "ptf.Reload();"
   ]
  },
  {
   "cell_type": "code",
   "execution_count": 15,
   "metadata": {},
   "outputs": [
    {
     "name": "stdout",
     "output_type": "stream",
     "text": [
      "Training Start\n",
      "    Epoch 1/25\n",
      "    ----------\n",
      "    curr_lr - 0.01\n",
      "    [Epoch 1] Train-acc: 0.728, Train-loss: 1.001 | Val-acc: 0.818167, Val-loss: 0.662, | time: 132.0 sec\n",
      "\n",
      "    Epoch 2/25\n",
      "    ----------\n",
      "    curr_lr - 0.01\n",
      "    [Epoch 2] Train-acc: 0.832, Train-loss: 0.582 | Val-acc: 0.846333, Val-loss: 0.528, | time: 134.2 sec\n",
      "\n",
      "    Epoch 3/25\n",
      "    ----------\n",
      "    curr_lr - 0.01\n",
      "    [Epoch 3] Train-acc: 0.852, Train-loss: 0.497 | Val-acc: 0.858444, Val-loss: 0.469, | time: 132.8 sec\n",
      "\n",
      "    Epoch 4/25\n",
      "    ----------\n",
      "    curr_lr - 0.01\n",
      "    [Epoch 4] Train-acc: 0.865, Train-loss: 0.448 | Val-acc: 0.865056, Val-loss: 0.442, | time: 132.8 sec\n",
      "\n",
      "    Epoch 5/25\n",
      "    ----------\n",
      "    curr_lr - 0.01\n",
      "    [Epoch 5] Train-acc: 0.868, Train-loss: 0.427 | Val-acc: 0.868056, Val-loss: 0.414, | time: 132.3 sec\n",
      "\n",
      "    Epoch 6/25\n",
      "    ----------\n",
      "    curr_lr - 0.01\n",
      "    [Epoch 6] Train-acc: 0.873, Train-loss: 0.405 | Val-acc: 0.868111, Val-loss: 0.411, | time: 131.9 sec\n",
      "\n",
      "    Epoch 7/25\n",
      "    ----------\n",
      "    curr_lr - 0.01\n",
      "    [Epoch 7] Train-acc: 0.879, Train-loss: 0.386 | Val-acc: 0.875611, Val-loss: 0.389, | time: 133.4 sec\n",
      "\n",
      "    Epoch 8/25\n",
      "    ----------\n",
      "    curr_lr - 0.01\n",
      "    [Epoch 8] Train-acc: 0.880, Train-loss: 0.378 | Val-acc: 0.878778, Val-loss: 0.380, | time: 131.9 sec\n",
      "\n",
      "    Epoch 9/25\n",
      "    ----------\n",
      "    curr_lr - 0.001\n",
      "    [Epoch 9] Train-acc: 0.887, Train-loss: 0.362 | Val-acc: 0.882833, Val-loss: 0.370, | time: 133.7 sec\n",
      "\n",
      "    Epoch 10/25\n",
      "    ----------\n",
      "    curr_lr - 0.001\n",
      "    [Epoch 10] Train-acc: 0.883, Train-loss: 0.367 | Val-acc: 0.883778, Val-loss: 0.369, | time: 133.1 sec\n",
      "\n",
      "    Epoch 11/25\n",
      "    ----------\n",
      "    curr_lr - 0.001\n",
      "    [Epoch 11] Train-acc: 0.884, Train-loss: 0.365 | Val-acc: 0.882944, Val-loss: 0.372, | time: 133.5 sec\n",
      "\n",
      "    Epoch 12/25\n",
      "    ----------\n",
      "    curr_lr - 0.001\n",
      "    [Epoch 12] Train-acc: 0.890, Train-loss: 0.357 | Val-acc: 0.882611, Val-loss: 0.373, | time: 131.2 sec\n",
      "\n",
      "    Epoch 13/25\n",
      "    ----------\n",
      "    curr_lr - 0.001\n",
      "    [Epoch 13] Train-acc: 0.888, Train-loss: 0.357 | Val-acc: 0.883611, Val-loss: 0.367, | time: 132.6 sec\n",
      "\n",
      "    Epoch 14/25\n",
      "    ----------\n",
      "    curr_lr - 0.001\n",
      "    [Epoch 14] Train-acc: 0.890, Train-loss: 0.355 | Val-acc: 0.882278, Val-loss: 0.367, | time: 131.8 sec\n",
      "\n",
      "    Epoch 15/25\n",
      "    ----------\n",
      "    curr_lr - 0.001\n",
      "    [Epoch 15] Train-acc: 0.888, Train-loss: 0.356 | Val-acc: 0.887722, Val-loss: 0.362, | time: 133.6 sec\n",
      "\n",
      "    Epoch 16/25\n",
      "    ----------\n",
      "    curr_lr - 0.001\n",
      "    [Epoch 16] Train-acc: 0.887, Train-loss: 0.358 | Val-acc: 0.884167, Val-loss: 0.366, | time: 133.0 sec\n",
      "\n",
      "    Epoch 17/25\n",
      "    ----------\n",
      "    curr_lr - 0.0001\n",
      "    [Epoch 17] Train-acc: 0.890, Train-loss: 0.351 | Val-acc: 0.886278, Val-loss: 0.363, | time: 133.1 sec\n",
      "\n",
      "    Epoch 18/25\n",
      "    ----------\n",
      "    curr_lr - 0.0001\n",
      "    [Epoch 18] Train-acc: 0.891, Train-loss: 0.351 | Val-acc: 0.887944, Val-loss: 0.360, | time: 132.6 sec\n",
      "\n",
      "    Epoch 19/25\n",
      "    ----------\n",
      "    curr_lr - 0.0001\n",
      "    [Epoch 19] Train-acc: 0.887, Train-loss: 0.357 | Val-acc: 0.884333, Val-loss: 0.364, | time: 133.1 sec\n",
      "\n",
      "    Epoch 20/25\n",
      "    ----------\n",
      "    curr_lr - 0.0001\n",
      "    [Epoch 20] Train-acc: 0.887, Train-loss: 0.354 | Val-acc: 0.883500, Val-loss: 0.365, | time: 132.3 sec\n",
      "\n",
      "    Epoch 21/25\n",
      "    ----------\n",
      "    curr_lr - 0.0001\n",
      "    [Epoch 21] Train-acc: 0.889, Train-loss: 0.354 | Val-acc: 0.884778, Val-loss: 0.366, | time: 133.1 sec\n",
      "\n",
      "    Epoch 22/25\n",
      "    ----------\n",
      "    curr_lr - 0.0001\n",
      "    [Epoch 22] Train-acc: 0.889, Train-loss: 0.353 | Val-acc: 0.884944, Val-loss: 0.365, | time: 131.9 sec\n",
      "\n",
      "    Epoch 23/25\n",
      "    ----------\n",
      "    curr_lr - 0.0001\n",
      "    [Epoch 23] Train-acc: 0.889, Train-loss: 0.353 | Val-acc: 0.882333, Val-loss: 0.366, | time: 133.6 sec\n",
      "\n",
      "    Epoch 24/25\n",
      "    ----------\n",
      "    curr_lr - 0.0001\n",
      "    [Epoch 24] Train-acc: 0.890, Train-loss: 0.352 | Val-acc: 0.885389, Val-loss: 0.363, | time: 131.5 sec\n",
      "\n",
      "    Epoch 25/25\n",
      "    ----------\n",
      "    curr_lr - 1e-05\n",
      "    [Epoch 25] Train-acc: 0.890, Train-loss: 0.353 | Val-acc: 0.884444, Val-loss: 0.363, | time: 133.5 sec\n",
      "\n",
      "    Training completed in: 55m 13s\n",
      "    Best val Acc:          0.887944\n",
      "\n",
      "Training End\n",
      "\n",
      "Training Outputs\n",
      "    Model Dir:   /kaggle/working/workspace/sample-project-1/sample-experiment-2/output/models/\n",
      "    Log Dir:     /kaggle/working/workspace/sample-project-1/sample-experiment-2/output/logs/\n",
      "    Final model: final\n",
      "    Best model:  best_model\n",
      "    Log 1 - Validation accuracy history log: val_acc_history.npy\n",
      "    Log 2 - Validation loss history log:     val_loss_history.npy\n",
      "    Log 3 - Training accuracy history log:   train_acc_history.npy\n",
      "    Log 4 - Training loss history log:       train_loss_history.npy\n",
      "    Log 5 - Training curve:                  train_loss_history.npy\n",
      "    Log 6 - Validation curve:                train_loss_history.npy\n",
      "\n"
     ]
    },
    {
     "data": {
      "text/plain": [
       "<Figure size 432x288 with 0 Axes>"
      ]
     },
     "metadata": {},
     "output_type": "display_data"
    }
   ],
   "source": [
    "# Step 3 - Train\n",
    "ptf.Train();"
   ]
  },
  {
   "cell_type": "code",
   "execution_count": null,
   "metadata": {},
   "outputs": [],
   "source": []
  },
  {
   "cell_type": "code",
   "execution_count": null,
   "metadata": {},
   "outputs": [],
   "source": []
  },
  {
   "cell_type": "markdown",
   "metadata": {},
   "source": [
    "## Example 3 - Using keras resnet50 to train the classifier in Quick Mode"
   ]
  },
  {
   "cell_type": "code",
   "execution_count": 16,
   "metadata": {},
   "outputs": [],
   "source": [
    "# Step 0 - Using Keras\n",
    "from keras_prototype import prototype"
   ]
  },
  {
   "cell_type": "code",
   "execution_count": 17,
   "metadata": {},
   "outputs": [
    {
     "name": "stdout",
     "output_type": "stream",
     "text": [
      "Keras Version: 2.3.1\n",
      "Tensorflow Version: 2.0.0\n",
      "\n",
      "Experiment Details\n",
      "    Project: sample-project-1\n",
      "    Experiment: sample-experiment-3\n",
      "    Dir: /kaggle/working/workspace/sample-project-1/sample-experiment-3/\n",
      "\n"
     ]
    }
   ],
   "source": [
    "# Step 1 - Create experiment\n",
    "ptf = prototype(verbose=1);\n",
    "ptf.Prototype(\"sample-project-1\", \"sample-experiment-3\");"
   ]
  },
  {
   "cell_type": "code",
   "execution_count": 18,
   "metadata": {},
   "outputs": [
    {
     "name": "stdout",
     "output_type": "stream",
     "text": [
      "Dataset Details\n",
      "    Train path:     images/train/\n",
      "    Val path:       None\n",
      "    CSV train path: None\n",
      "    CSV val path:  None\n",
      "\n",
      "Dataset Params\n",
      "    Input Size:  224\n",
      "    Batch Size:  4\n",
      "    Data Shuffle: True\n",
      "    Processors:   2\n",
      "    Train-val split:   0.7\n",
      "\n",
      "Found 42000 images belonging to 10 classes.\n",
      "Found 18000 images belonging to 10 classes.\n",
      "Pre-Composed Train Transforms\n",
      "[{'RandomHorizontalFlip': {'p': 0.8}}, {'MeanSubtraction': {'mean': [0.485, 0.456, 0.406]}}]\n",
      "\n",
      "Pre-Composed Val Transforms\n",
      "[{'RandomHorizontalFlip': {'p': 0.8}}, {'MeanSubtraction': {'mean': [0.485, 0.456, 0.406]}}]\n",
      "\n",
      "Dataset Numbers\n",
      "    Num train images: 42000\n",
      "    Num val images:   18000\n",
      "    Num classes:      10\n",
      "\n",
      "Model Params\n",
      "    Model name:           resnet50_v2\n",
      "    Use Gpu:              True\n",
      "    Gpu Memory Fraction:  0.6\n",
      "    Use pretrained:       True\n",
      "    Freeze base network:  True\n",
      "\n",
      "Model Details\n",
      "    Loading pretrained model\n",
      "Downloading data from https://github.com/keras-team/keras-applications/releases/download/resnet/resnet50v2_weights_tf_dim_ordering_tf_kernels_notop.h5\n",
      "94674944/94668760 [==============================] - 2s 0us/step\n",
      "    Model Loaded on device\n",
      "        Model name:           resnet50_v2\n",
      "        Num layers in model:  196\n",
      "        Num trainable layers: 6\n",
      "\n",
      "Optimizer\n",
      "    Name:          sgd\n",
      "    Learning rate: 0.0001\n",
      "    Params:        {'lr': 0.0001, 'dampening': 0, 'nesterov': False, 'weight_decay': 0, 'momentum': 0.9, 'lr_decay': 0}\n",
      "\n",
      "Learning rate scheduler\n",
      "    Name:   reduceonplateaulr\n",
      "    Params: {'mode': 'min', 'factor': 0.1, 'patience': 8, 'verbose': True, 'threshold': 0.0001, 'threshold_mode': 'rel', 'cooldown': 0, 'min_lr': 0, 'epsilon': 1e-08}\n",
      "\n",
      "Loss\n",
      "    Name:          categoricalcrossentropy\n",
      "    Params:        {'weight': None, 'size_average': None, 'ignore_index': -100, 'reduce': None, 'reduction': 'mean'}\n",
      "\n",
      "Training params\n",
      "    Num Epochs: 25\n",
      "\n",
      "Display params\n",
      "    Display progress:          True\n",
      "    Display progress realtime: True\n",
      "    Save Training logs:        True\n",
      "    Save Intermediate models:  True\n",
      "    Intermediate model prefix: intermediate_model_\n",
      "\n"
     ]
    }
   ],
   "source": [
    "# Step 2 - Invoke Quick Prototype Default mode\n",
    "ptf.Default(dataset_path=\"images/train/\",\n",
    "           model_name=\"resnet50_v2\", freeze_base_network=True,\n",
    "           num_epochs=25);"
   ]
  },
  {
   "cell_type": "markdown",
   "metadata": {},
   "source": [
    "### Using Monk's [Update MODE](https://clever-noyce-f9d43f.netlify.com/#/update_mode/update_dataset)"
   ]
  },
  {
   "cell_type": "code",
   "execution_count": 19,
   "metadata": {},
   "outputs": [
    {
     "name": "stdout",
     "output_type": "stream",
     "text": [
      "Update: Save Intermediate models - False\n",
      "\n",
      "Update: Display progress realtime - False\n",
      "\n",
      "Update: Batch size - 32\n",
      "\n",
      "Found 42000 images belonging to 10 classes.\n",
      "Found 18000 images belonging to 10 classes.\n",
      "Pre-Composed Train Transforms\n",
      "[{'RandomHorizontalFlip': {'p': 0.8}}, {'MeanSubtraction': {'mean': [0.485, 0.456, 0.406]}}]\n",
      "\n",
      "Pre-Composed Val Transforms\n",
      "[{'RandomHorizontalFlip': {'p': 0.8}}, {'MeanSubtraction': {'mean': [0.485, 0.456, 0.406]}}]\n",
      "\n",
      "Dataset Numbers\n",
      "    Num train images: 42000\n",
      "    Num val images:   18000\n",
      "    Num classes:      10\n",
      "\n",
      "Model Details\n",
      "    Loading pretrained model\n",
      "    Model Loaded on device\n",
      "        Model name:           resnet50_v2\n",
      "        Num layers in model:  196\n",
      "        Num trainable layers: 6\n",
      "\n"
     ]
    }
   ],
   "source": [
    "# Additional Step\n",
    "ptf.update_save_intermediate_models(False); \n",
    "ptf.update_display_progress_realtime(False);\n",
    "ptf.update_batch_size(32);\n",
    "ptf.Reload();"
   ]
  },
  {
   "cell_type": "code",
   "execution_count": 20,
   "metadata": {},
   "outputs": [
    {
     "name": "stdout",
     "output_type": "stream",
     "text": [
      "Training Start\n",
      "Epoch 1/25\n",
      " - 175s - loss: 1.8674 - accuracy: 0.3547 - val_loss: 535.2614 - val_accuracy: 0.0993\n",
      "\n",
      "Epoch 00001: saving model to workspace/sample-project-1/sample-experiment-3/output/models/resume_state.h5\n",
      "\n",
      "Epoch 00001: val_loss improved from inf to 535.26135, saving model to workspace/sample-project-1/sample-experiment-3/output/models/best_model.h5\n",
      "Epoch 2/25\n",
      " - 168s - loss: 1.2270 - accuracy: 0.6084 - val_loss: 388.7067 - val_accuracy: 0.0747\n",
      "\n",
      "Epoch 00002: saving model to workspace/sample-project-1/sample-experiment-3/output/models/resume_state.h5\n",
      "\n",
      "Epoch 00002: val_loss improved from 535.26135 to 388.70667, saving model to workspace/sample-project-1/sample-experiment-3/output/models/best_model.h5\n",
      "Epoch 3/25\n",
      " - 168s - loss: 0.9663 - accuracy: 0.6890 - val_loss: 350.3951 - val_accuracy: 0.0864\n",
      "\n",
      "Epoch 00003: saving model to workspace/sample-project-1/sample-experiment-3/output/models/resume_state.h5\n",
      "\n",
      "Epoch 00003: val_loss improved from 388.70667 to 350.39505, saving model to workspace/sample-project-1/sample-experiment-3/output/models/best_model.h5\n",
      "Epoch 4/25\n",
      " - 168s - loss: 0.8195 - accuracy: 0.7346 - val_loss: 416.9006 - val_accuracy: 0.1528\n",
      "\n",
      "Epoch 00004: saving model to workspace/sample-project-1/sample-experiment-3/output/models/resume_state.h5\n",
      "\n",
      "Epoch 00004: val_loss did not improve from 350.39505\n",
      "Epoch 5/25\n",
      " - 167s - loss: 0.7265 - accuracy: 0.7664 - val_loss: 358.7134 - val_accuracy: 0.0895\n",
      "\n",
      "Epoch 00005: saving model to workspace/sample-project-1/sample-experiment-3/output/models/resume_state.h5\n",
      "\n",
      "Epoch 00005: val_loss did not improve from 350.39505\n",
      "Epoch 6/25\n",
      " - 168s - loss: 0.6604 - accuracy: 0.7883 - val_loss: 514.8927 - val_accuracy: 0.0996\n",
      "\n",
      "Epoch 00006: saving model to workspace/sample-project-1/sample-experiment-3/output/models/resume_state.h5\n",
      "\n",
      "Epoch 00006: val_loss did not improve from 350.39505\n",
      "Epoch 7/25\n",
      " - 168s - loss: 0.6145 - accuracy: 0.8019 - val_loss: 661.6122 - val_accuracy: 0.0996\n",
      "\n",
      "Epoch 00007: saving model to workspace/sample-project-1/sample-experiment-3/output/models/resume_state.h5\n",
      "\n",
      "Epoch 00007: val_loss did not improve from 350.39505\n",
      "Epoch 8/25\n",
      " - 168s - loss: 0.5717 - accuracy: 0.8119 - val_loss: 625.2111 - val_accuracy: 0.1012\n",
      "\n",
      "Epoch 00008: saving model to workspace/sample-project-1/sample-experiment-3/output/models/resume_state.h5\n",
      "\n",
      "Epoch 00008: val_loss did not improve from 350.39505\n",
      "Epoch 9/25\n",
      " - 167s - loss: 0.5421 - accuracy: 0.8228 - val_loss: 866.1649 - val_accuracy: 0.1001\n",
      "\n",
      "Epoch 00009: saving model to workspace/sample-project-1/sample-experiment-3/output/models/resume_state.h5\n",
      "\n",
      "Epoch 00009: val_loss did not improve from 350.39505\n",
      "Epoch 10/25\n",
      " - 168s - loss: 0.5141 - accuracy: 0.8335 - val_loss: 1108.3702 - val_accuracy: 0.0998\n",
      "\n",
      "Epoch 00010: saving model to workspace/sample-project-1/sample-experiment-3/output/models/resume_state.h5\n",
      "\n",
      "Epoch 00010: val_loss did not improve from 350.39505\n",
      "Epoch 11/25\n",
      " - 169s - loss: 0.4900 - accuracy: 0.8398 - val_loss: 784.5923 - val_accuracy: 0.1258\n",
      "\n",
      "Epoch 00011: saving model to workspace/sample-project-1/sample-experiment-3/output/models/resume_state.h5\n",
      "\n",
      "Epoch 00011: val_loss did not improve from 350.39505\n",
      "\n",
      "Epoch 00011: ReduceLROnPlateau reducing learning rate to 9.999999747378752e-06.\n",
      "Epoch 12/25\n",
      " - 169s - loss: 0.4829 - accuracy: 0.8441 - val_loss: 778.2283 - val_accuracy: 0.1155\n",
      "\n",
      "Epoch 00012: saving model to workspace/sample-project-1/sample-experiment-3/output/models/resume_state.h5\n",
      "\n",
      "Epoch 00012: val_loss did not improve from 350.39505\n",
      "Epoch 13/25\n",
      " - 168s - loss: 0.4788 - accuracy: 0.8429 - val_loss: 735.7932 - val_accuracy: 0.1154\n",
      "\n",
      "Epoch 00013: saving model to workspace/sample-project-1/sample-experiment-3/output/models/resume_state.h5\n",
      "\n",
      "Epoch 00013: val_loss did not improve from 350.39505\n",
      "Epoch 14/25\n",
      " - 167s - loss: 0.4753 - accuracy: 0.8467 - val_loss: 819.2411 - val_accuracy: 0.1113\n",
      "\n",
      "Epoch 00014: saving model to workspace/sample-project-1/sample-experiment-3/output/models/resume_state.h5\n",
      "\n",
      "Epoch 00014: val_loss did not improve from 350.39505\n",
      "Epoch 15/25\n",
      " - 168s - loss: 0.4728 - accuracy: 0.8451 - val_loss: 834.6281 - val_accuracy: 0.1210\n",
      "\n",
      "Epoch 00015: saving model to workspace/sample-project-1/sample-experiment-3/output/models/resume_state.h5\n",
      "\n",
      "Epoch 00015: val_loss did not improve from 350.39505\n",
      "Epoch 16/25\n",
      " - 168s - loss: 0.4732 - accuracy: 0.8464 - val_loss: 936.6968 - val_accuracy: 0.1179\n",
      "\n",
      "Epoch 00016: saving model to workspace/sample-project-1/sample-experiment-3/output/models/resume_state.h5\n",
      "\n",
      "Epoch 00016: val_loss did not improve from 350.39505\n",
      "Epoch 17/25\n",
      " - 168s - loss: 0.4699 - accuracy: 0.8484 - val_loss: 872.7408 - val_accuracy: 0.1085\n",
      "\n",
      "Epoch 00017: saving model to workspace/sample-project-1/sample-experiment-3/output/models/resume_state.h5\n",
      "\n",
      "Epoch 00017: val_loss did not improve from 350.39505\n",
      "Epoch 18/25\n",
      " - 168s - loss: 0.4715 - accuracy: 0.8469 - val_loss: 794.0283 - val_accuracy: 0.1123\n",
      "\n",
      "Epoch 00018: saving model to workspace/sample-project-1/sample-experiment-3/output/models/resume_state.h5\n",
      "\n",
      "Epoch 00018: val_loss did not improve from 350.39505\n",
      "Epoch 19/25\n",
      " - 168s - loss: 0.4651 - accuracy: 0.8488 - val_loss: 1204.7416 - val_accuracy: 0.1134\n",
      "\n",
      "Epoch 00019: saving model to workspace/sample-project-1/sample-experiment-3/output/models/resume_state.h5\n",
      "\n",
      "Epoch 00019: val_loss did not improve from 350.39505\n",
      "\n",
      "Epoch 00019: ReduceLROnPlateau reducing learning rate to 9.999999747378752e-07.\n",
      "Epoch 20/25\n",
      " - 168s - loss: 0.4649 - accuracy: 0.8492 - val_loss: 823.4414 - val_accuracy: 0.1167\n",
      "\n",
      "Epoch 00020: saving model to workspace/sample-project-1/sample-experiment-3/output/models/resume_state.h5\n",
      "\n",
      "Epoch 00020: val_loss did not improve from 350.39505\n",
      "Epoch 21/25\n",
      " - 168s - loss: 0.4634 - accuracy: 0.8489 - val_loss: 1143.4294 - val_accuracy: 0.1164\n",
      "\n",
      "Epoch 00021: saving model to workspace/sample-project-1/sample-experiment-3/output/models/resume_state.h5\n",
      "\n",
      "Epoch 00021: val_loss did not improve from 350.39505\n",
      "Epoch 22/25\n",
      " - 168s - loss: 0.4659 - accuracy: 0.8486 - val_loss: 1262.6721 - val_accuracy: 0.1166\n",
      "\n",
      "Epoch 00022: saving model to workspace/sample-project-1/sample-experiment-3/output/models/resume_state.h5\n",
      "\n",
      "Epoch 00022: val_loss did not improve from 350.39505\n",
      "Epoch 23/25\n",
      " - 168s - loss: 0.4626 - accuracy: 0.8496 - val_loss: 1108.9355 - val_accuracy: 0.1144\n",
      "\n",
      "Epoch 00023: saving model to workspace/sample-project-1/sample-experiment-3/output/models/resume_state.h5\n",
      "\n",
      "Epoch 00023: val_loss did not improve from 350.39505\n",
      "Epoch 24/25\n",
      " - 168s - loss: 0.4697 - accuracy: 0.8456 - val_loss: 1135.0710 - val_accuracy: 0.1147\n",
      "\n",
      "Epoch 00024: saving model to workspace/sample-project-1/sample-experiment-3/output/models/resume_state.h5\n",
      "\n",
      "Epoch 00024: val_loss did not improve from 350.39505\n",
      "Epoch 25/25\n",
      " - 167s - loss: 0.4624 - accuracy: 0.8484 - val_loss: 779.4351 - val_accuracy: 0.1174\n",
      "\n",
      "Epoch 00025: saving model to workspace/sample-project-1/sample-experiment-3/output/models/resume_state.h5\n",
      "\n",
      "Epoch 00025: val_loss did not improve from 350.39505\n",
      "dict_keys(['val_loss', 'val_accuracy', 'loss', 'accuracy', 'lr'])\n",
      "    Training completed in: 70m 9s\n",
      "    Best val Acc:          0.152772\n",
      "\n",
      "Training End\n",
      "\n",
      "Training Outputs\n",
      "    Model Dir:   /kaggle/working/workspace/sample-project-1/sample-experiment-3/output/models/\n",
      "    Log Dir:     /kaggle/working/workspace/sample-project-1/sample-experiment-3/output/logs/\n",
      "    Final model: final\n",
      "    Best model:  best_model\n",
      "    Log 1 - Validation accuracy history log: val_acc_history.npy\n",
      "    Log 2 - Validation loss history log:     val_loss_history.npy\n",
      "    Log 3 - Training accuracy history log:   train_acc_history.npy\n",
      "    Log 4 - Training loss history log:       train_loss_history.npy\n",
      "    Log 5 - Training curve:                  train_loss_history.npy\n",
      "    Log 6 - Validation curve:                train_loss_history.npy\n",
      "\n"
     ]
    },
    {
     "data": {
      "text/plain": [
       "<Figure size 432x288 with 0 Axes>"
      ]
     },
     "metadata": {},
     "output_type": "display_data"
    }
   ],
   "source": [
    "ptf.Train();"
   ]
  },
  {
   "cell_type": "code",
   "execution_count": null,
   "metadata": {},
   "outputs": [],
   "source": []
  },
  {
   "cell_type": "code",
   "execution_count": null,
   "metadata": {},
   "outputs": [],
   "source": []
  },
  {
   "cell_type": "markdown",
   "metadata": {},
   "source": [
    "## Compare the experiments irrespective of backend library\n",
    "- Training accuracy curves\n",
    "- Training loss curves\n",
    "- Validation accuravy curves\n",
    "- Validation loss curves\n",
    "- GPU memory usages\n",
    "- Training times"
   ]
  },
  {
   "cell_type": "code",
   "execution_count": 21,
   "metadata": {},
   "outputs": [
    {
     "name": "stdout",
     "output_type": "stream",
     "text": [
      "Comparison: - Sample-Comparison-1\n",
      "Project - sample-project-1, Experiment - sample-experiment-1 added\n",
      "Project - sample-project-1, Experiment - sample-experiment-2 added\n",
      "Project - sample-project-1, Experiment - sample-experiment-3 added\n",
      "Generating statistics...\n",
      "Generated\n",
      "\n"
     ]
    },
    {
     "data": {
      "text/plain": [
       "<Figure size 1440x720 with 0 Axes>"
      ]
     },
     "metadata": {},
     "output_type": "display_data"
    },
    {
     "data": {
      "text/plain": [
       "<Figure size 1440x720 with 0 Axes>"
      ]
     },
     "metadata": {},
     "output_type": "display_data"
    },
    {
     "data": {
      "text/plain": [
       "<Figure size 1440x720 with 0 Axes>"
      ]
     },
     "metadata": {},
     "output_type": "display_data"
    },
    {
     "data": {
      "text/plain": [
       "<Figure size 1440x720 with 0 Axes>"
      ]
     },
     "metadata": {},
     "output_type": "display_data"
    }
   ],
   "source": [
    "from compare_prototype import compare\n",
    "\n",
    "ctf = compare(verbose=1);\n",
    "ctf.Comparison(\"Sample-Comparison-1\");\n",
    "ctf.Add_Experiment(\"sample-project-1\", \"sample-experiment-1\");\n",
    "ctf.Add_Experiment(\"sample-project-1\", \"sample-experiment-2\");\n",
    "ctf.Add_Experiment(\"sample-project-1\", \"sample-experiment-3\");\n",
    "\n",
    "ctf.Generate_Statistics();"
   ]
  },
  {
   "cell_type": "code",
   "execution_count": null,
   "metadata": {},
   "outputs": [],
   "source": []
  },
  {
   "cell_type": "markdown",
   "metadata": {},
   "source": [
    "## Display comparisons"
   ]
  },
  {
   "cell_type": "code",
   "execution_count": 22,
   "metadata": {},
   "outputs": [],
   "source": [
    "from IPython.display import Image\n",
    "from IPython.display import display"
   ]
  },
  {
   "cell_type": "code",
   "execution_count": 23,
   "metadata": {},
   "outputs": [
    {
     "data": {
      "text/plain": [
       "['train_accuracy.png',\n",
       " 'val_loss.png',\n",
       " 'train_loss.png',\n",
       " 'stats_best_val_acc.png',\n",
       " 'stats_training_time.png',\n",
       " 'val_accuracy.png',\n",
       " 'stats_max_gpu_usage.png',\n",
       " 'comparison.csv']"
      ]
     },
     "execution_count": 23,
     "metadata": {},
     "output_type": "execute_result"
    }
   ],
   "source": [
    "os.listdir(\"/kaggle/working/workspace/comparison/Sample-Comparison-1/\")"
   ]
  },
  {
   "cell_type": "markdown",
   "metadata": {},
   "source": [
    "### Compare training accuracy and loss curves"
   ]
  },
  {
   "cell_type": "code",
   "execution_count": 24,
   "metadata": {},
   "outputs": [
    {
     "data": {
      "image/png": "[encoded data removed]",
      "text/plain": [
       "<IPython.core.display.Image object>"
      ]
     },
     "metadata": {},
     "output_type": "display_data"
    },
    {
     "data": {
      "image/png": "[encoded data removed]",
      "text/plain": [
       "<IPython.core.display.Image object>"
      ]
     },
     "metadata": {},
     "output_type": "display_data"
    }
   ],
   "source": [
    "x = Image(filename='/kaggle/working/workspace/comparison/Sample-Comparison-1/train_accuracy.png') \n",
    "y = Image(filename='/kaggle/working/workspace/comparison/Sample-Comparison-1/train_loss.png') \n",
    "display(x, y)"
   ]
  },
  {
   "cell_type": "markdown",
   "metadata": {},
   "source": [
    "### Compare validation accuracy and loss curves"
   ]
  },
  {
   "cell_type": "code",
   "execution_count": 25,
   "metadata": {},
   "outputs": [
    {
     "data": {
      "image/png": "[encoded data removed]",
      "text/plain": [
       "<IPython.core.display.Image object>"
      ]
     },
     "metadata": {},
     "output_type": "display_data"
    },
    {
     "data": {
      "image/png": "[encoded data removed]",
      "text/plain": [
       "<IPython.core.display.Image object>"
      ]
     },
     "metadata": {},
     "output_type": "display_data"
    }
   ],
   "source": [
    "x = Image(filename='/kaggle/working/workspace/comparison/Sample-Comparison-1/val_accuracy.png') \n",
    "y = Image(filename='/kaggle/working/workspace/comparison/Sample-Comparison-1/val_loss.png') \n",
    "display(x, y)"
   ]
  },
  {
   "cell_type": "markdown",
   "metadata": {},
   "source": [
    "### Compare gpu memory usages and training times"
   ]
  },
  {
   "cell_type": "code",
   "execution_count": 26,
   "metadata": {},
   "outputs": [
    {
     "data": {
      "image/png": "[encoded data removed]",
      "text/plain": [
       "<IPython.core.display.Image object>"
      ]
     },
     "metadata": {},
     "output_type": "display_data"
    },
    {
     "data": {
      "image/png": "[encoded data removed]",
      "text/plain": [
       "<IPython.core.display.Image object>"
      ]
     },
     "metadata": {},
     "output_type": "display_data"
    }
   ],
   "source": [
    "x = Image(filename='/kaggle/working/workspace/comparison/Sample-Comparison-1/stats_training_time.png') \n",
    "y = Image(filename='/kaggle/working/workspace/comparison/Sample-Comparison-1/stats_max_gpu_usage.png') \n",
    "display(x, y)"
   ]
  },
  {
   "cell_type": "code",
   "execution_count": null,
   "metadata": {},
   "outputs": [],
   "source": []
  },
  {
   "cell_type": "code",
   "execution_count": null,
   "metadata": {},
   "outputs": [],
   "source": []
  },
  {
   "cell_type": "markdown",
   "metadata": {},
   "source": [
    "### Select the most suitable experiment for inferencing (As per the results you achieve)"
   ]
  },
  {
   "cell_type": "code",
   "execution_count": 27,
   "metadata": {},
   "outputs": [],
   "source": [
    "from pytorch_prototype import prototype\n"
   ]
  },
  {
   "cell_type": "markdown",
   "metadata": {},
   "source": [
    "## Load the experiment with eval_infer tag"
   ]
  },
  {
   "cell_type": "code",
   "execution_count": 28,
   "metadata": {},
   "outputs": [
    {
     "name": "stdout",
     "output_type": "stream",
     "text": [
      "Pytorch Version: 1.3.0\n",
      "\n",
      "Model Details\n",
      "    Loading model - /kaggle/working/workspace/sample-project-1/sample-experiment-1/output/models/final\n",
      "    Model loaded!\n",
      "\n",
      "Experiment Details\n",
      "    Project: sample-project-1\n",
      "    Experiment: sample-experiment-1\n",
      "    Dir: /kaggle/working/workspace/sample-project-1/sample-experiment-1/\n",
      "\n"
     ]
    }
   ],
   "source": [
    "ptf = prototype(verbose=1);\n",
    "ptf.Prototype(\"sample-project-1\", \"sample-experiment-1\", eval_infer=True);"
   ]
  },
  {
   "cell_type": "markdown",
   "metadata": {},
   "source": [
    "## Infer using a single command"
   ]
  },
  {
   "cell_type": "code",
   "execution_count": 29,
   "metadata": {},
   "outputs": [
    {
     "name": "stdout",
     "output_type": "stream",
     "text": [
      "Prediction\n",
      "    Dir path:           images/test/\n",
      "    Total Images:       5000\n",
      "Processing Images\n"
     ]
    },
    {
     "data": {
      "application/vnd.jupyter.widget-view+json": {
       "model_id": "c968d752ea84437190d29619a0d05dae",
       "version_major": 2,
       "version_minor": 0
      },
      "text/plain": [
       "HBox(children=(IntProgress(value=0, max=5000), HTML(value='')))"
      ]
     },
     "metadata": {},
     "output_type": "display_data"
    },
    {
     "name": "stdout",
     "output_type": "stream",
     "text": [
      "\n"
     ]
    }
   ],
   "source": [
    "inference_dataset = \"images/test/\";\n",
    "output = ptf.Infer(img_dir=inference_dataset);"
   ]
  },
  {
   "cell_type": "code",
   "execution_count": 30,
   "metadata": {},
   "outputs": [],
   "source": [
    "# Create submission\n",
    "import pandas as pd\n",
    "sub = pd.read_csv(\"/kaggle/input/Kannada-MNIST/sample_submission.csv\");\n",
    "for i in range(len(output)):\n",
    "    index = int(sub[sub['id']==int(output[i]['img_name'].split(\".\")[0])].index[0])\n",
    "    #print(output[i]);\n",
    "    #print(index);\n",
    "    sub['label'][index] = int(output[i]['predicted_class'])\n",
    "    #print(sub.iloc[index:index+1])\n",
    "    #break\n",
    "sub.to_csv(\"submission.csv\", index=False);"
   ]
  },
  {
   "cell_type": "code",
   "execution_count": 31,
   "metadata": {},
   "outputs": [
    {
     "data": {
      "text/html": [
       "<div>\n",
       "<style scoped>\n",
       "    .dataframe tbody tr th:only-of-type {\n",
       "        vertical-align: middle;\n",
       "    }\n",
       "\n",
       "    .dataframe tbody tr th {\n",
       "        vertical-align: top;\n",
       "    }\n",
       "\n",
       "    .dataframe thead th {\n",
       "        text-align: right;\n",
       "    }\n",
       "</style>\n",
       "<table border=\"1\" class=\"dataframe\">\n",
       "  <thead>\n",
       "    <tr style=\"text-align: right;\">\n",
       "      <th></th>\n",
       "      <th>id</th>\n",
       "      <th>label</th>\n",
       "    </tr>\n",
       "  </thead>\n",
       "  <tbody>\n",
       "    <tr>\n",
       "      <th>0</th>\n",
       "      <td>0</td>\n",
       "      <td>3</td>\n",
       "    </tr>\n",
       "    <tr>\n",
       "      <th>1</th>\n",
       "      <td>1</td>\n",
       "      <td>0</td>\n",
       "    </tr>\n",
       "    <tr>\n",
       "      <th>2</th>\n",
       "      <td>2</td>\n",
       "      <td>2</td>\n",
       "    </tr>\n",
       "    <tr>\n",
       "      <th>3</th>\n",
       "      <td>3</td>\n",
       "      <td>1</td>\n",
       "    </tr>\n",
       "    <tr>\n",
       "      <th>4</th>\n",
       "      <td>4</td>\n",
       "      <td>7</td>\n",
       "    </tr>\n",
       "  </tbody>\n",
       "</table>\n",
       "</div>"
      ],
      "text/plain": [
       "   id  label\n",
       "0   0      3\n",
       "1   1      0\n",
       "2   2      2\n",
       "3   3      1\n",
       "4   4      7"
      ]
     },
     "execution_count": 31,
     "metadata": {},
     "output_type": "execute_result"
    }
   ],
   "source": [
    "sub.iloc[0:5]"
   ]
  },
  {
   "cell_type": "code",
   "execution_count": 32,
   "metadata": {},
   "outputs": [],
   "source": [
    "!rm -r /kaggle/working/monk_v1/"
   ]
  },
  {
   "cell_type": "code",
   "execution_count": 33,
   "metadata": {},
   "outputs": [],
   "source": [
    "!rm -r images"
   ]
  },
  {
   "cell_type": "code",
   "execution_count": null,
   "metadata": {},
   "outputs": [],
   "source": []
  }
 ],
 "metadata": {
  "kernelspec": {
   "display_name": "Python 3",
   "language": "python",
   "name": "python3"
  },
  "language_info": {
   "codemirror_mode": {
    "name": "ipython",
    "version": 3
   },
   "file_extension": ".py",
   "mimetype": "text/x-python",
   "name": "python",
   "nbconvert_exporter": "python",
   "pygments_lexer": "ipython3",
   "version": "3.6.6"
  },
  "widgets": {
   "application/vnd.jupyter.widget-state+json": {
    "state": {
     "07c893ce3e6a4bc3b95be264e2ea6224": {
      "model_module": "@jupyter-widgets/base",
      "model_module_version": "1.2.0",
      "model_name": "LayoutModel",
      "state": {
       "_model_module": "@jupyter-widgets/base",
       "_model_module_version": "1.2.0",
       "_model_name": "LayoutModel",
       "_view_count": null,
       "_view_module": "@jupyter-widgets/base",
       "_view_module_version": "1.2.0",
       "_view_name": "LayoutView",
       "align_content": null,
       "align_items": null,
       "align_self": null,
       "border": null,
       "bottom": null,
       "display": null,
       "flex": null,
       "flex_flow": null,
       "grid_area": null,
       "grid_auto_columns": null,
       "grid_auto_flow": null,
       "grid_auto_rows": null,
       "grid_column": null,
       "grid_gap": null,
       "grid_row": null,
       "grid_template_areas": null,
       "grid_template_columns": null,
       "grid_template_rows": null,
       "height": null,
       "justify_content": null,
       "justify_items": null,
       "left": null,
       "margin": null,
       "max_height": null,
       "max_width": null,
       "min_height": null,
       "min_width": null,
       "object_fit": null,
       "object_position": null,
       "order": null,
       "overflow": null,
       "overflow_x": null,
       "overflow_y": null,
       "padding": null,
       "right": null,
       "top": null,
       "visibility": null,
       "width": null
      }
     },
     "08dca9836626416aa9d898c09ec524fb": {
      "model_module": "@jupyter-widgets/base",
      "model_module_version": "1.2.0",
      "model_name": "LayoutModel",
      "state": {
       "_model_module": "@jupyter-widgets/base",
       "_model_module_version": "1.2.0",
       "_model_name": "LayoutModel",
       "_view_count": null,
       "_view_module": "@jupyter-widgets/base",
       "_view_module_version": "1.2.0",
       "_view_name": "LayoutView",
       "align_content": null,
       "align_items": null,
       "align_self": null,
       "border": null,
       "bottom": null,
       "display": null,
       "flex": null,
       "flex_flow": null,
       "grid_area": null,
       "grid_auto_columns": null,
       "grid_auto_flow": null,
       "grid_auto_rows": null,
       "grid_column": null,
       "grid_gap": null,
       "grid_row": null,
       "grid_template_areas": null,
       "grid_template_columns": null,
       "grid_template_rows": null,
       "height": null,
       "justify_content": null,
       "justify_items": null,
       "left": null,
       "margin": null,
       "max_height": null,
       "max_width": null,
       "min_height": null,
       "min_width": null,
       "object_fit": null,
       "object_position": null,
       "order": null,
       "overflow": null,
       "overflow_x": null,
       "overflow_y": null,
       "padding": null,
       "right": null,
       "top": null,
       "visibility": null,
       "width": null
      }
     },
     "1417547a756d41f4af8dbf8f21f94e0e": {
      "model_module": "@jupyter-widgets/base",
      "model_module_version": "1.2.0",
      "model_name": "LayoutModel",
      "state": {
       "_model_module": "@jupyter-widgets/base",
       "_model_module_version": "1.2.0",
       "_model_name": "LayoutModel",
       "_view_count": null,
       "_view_module": "@jupyter-widgets/base",
       "_view_module_version": "1.2.0",
       "_view_name": "LayoutView",
       "align_content": null,
       "align_items": null,
       "align_self": null,
       "border": null,
       "bottom": null,
       "display": null,
       "flex": null,
       "flex_flow": null,
       "grid_area": null,
       "grid_auto_columns": null,
       "grid_auto_flow": null,
       "grid_auto_rows": null,
       "grid_column": null,
       "grid_gap": null,
       "grid_row": null,
       "grid_template_areas": null,
       "grid_template_columns": null,
       "grid_template_rows": null,
       "height": null,
       "justify_content": null,
       "justify_items": null,
       "left": null,
       "margin": null,
       "max_height": null,
       "max_width": null,
       "min_height": null,
       "min_width": null,
       "object_fit": null,
       "object_position": null,
       "order": null,
       "overflow": null,
       "overflow_x": null,
       "overflow_y": null,
       "padding": null,
       "right": null,
       "top": null,
       "visibility": null,
       "width": null
      }
     },
     "162b619a8dba4ade86d53faf95fdd570": {
      "model_module": "@jupyter-widgets/controls",
      "model_module_version": "1.5.0",
      "model_name": "HBoxModel",
      "state": {
       "_dom_classes": [],
       "_model_module": "@jupyter-widgets/controls",
       "_model_module_version": "1.5.0",
       "_model_name": "HBoxModel",
       "_view_count": null,
       "_view_module": "@jupyter-widgets/controls",
       "_view_module_version": "1.5.0",
       "_view_name": "HBoxView",
       "box_style": "",
       "children": [
        "IPY_MODEL_564cfa38a36d4488963c37a449220c98",
        "IPY_MODEL_168c04499ee549a3afebad0b9abed030"
       ],
       "layout": "IPY_MODEL_07c893ce3e6a4bc3b95be264e2ea6224"
      }
     },
     "168c04499ee549a3afebad0b9abed030": {
      "model_module": "@jupyter-widgets/controls",
      "model_module_version": "1.5.0",
      "model_name": "HTMLModel",
      "state": {
       "_dom_classes": [],
       "_model_module": "@jupyter-widgets/controls",
       "_model_module_version": "1.5.0",
       "_model_name": "HTMLModel",
       "_view_count": null,
       "_view_module": "@jupyter-widgets/controls",
       "_view_module_version": "1.5.0",
       "_view_name": "HTMLView",
       "description": "",
       "description_tooltip": null,
       "layout": "IPY_MODEL_08dca9836626416aa9d898c09ec524fb",
       "placeholder": "​",
       "style": "IPY_MODEL_912e7c35ebdd44c4bb71e7ffaa9f020b",
       "value": " 60000/60000 [00:43&lt;00:00, 1393.59it/s]"
      }
     },
     "402ad64567c148318732912ae2726dcf": {
      "model_module": "@jupyter-widgets/base",
      "model_module_version": "1.2.0",
      "model_name": "LayoutModel",
      "state": {
       "_model_module": "@jupyter-widgets/base",
       "_model_module_version": "1.2.0",
       "_model_name": "LayoutModel",
       "_view_count": null,
       "_view_module": "@jupyter-widgets/base",
       "_view_module_version": "1.2.0",
       "_view_name": "LayoutView",
       "align_content": null,
       "align_items": null,
       "align_self": null,
       "border": null,
       "bottom": null,
       "display": null,
       "flex": null,
       "flex_flow": null,
       "grid_area": null,
       "grid_auto_columns": null,
       "grid_auto_flow": null,
       "grid_auto_rows": null,
       "grid_column": null,
       "grid_gap": null,
       "grid_row": null,
       "grid_template_areas": null,
       "grid_template_columns": null,
       "grid_template_rows": null,
       "height": null,
       "justify_content": null,
       "justify_items": null,
       "left": null,
       "margin": null,
       "max_height": null,
       "max_width": null,
       "min_height": null,
       "min_width": null,
       "object_fit": null,
       "object_position": null,
       "order": null,
       "overflow": null,
       "overflow_x": null,
       "overflow_y": null,
       "padding": null,
       "right": null,
       "top": null,
       "visibility": null,
       "width": null
      }
     },
     "549d01752c514f7ba1a2f7ddcb259a71": {
      "model_module": "@jupyter-widgets/controls",
      "model_module_version": "1.5.0",
      "model_name": "HTMLModel",
      "state": {
       "_dom_classes": [],
       "_model_module": "@jupyter-widgets/controls",
       "_model_module_version": "1.5.0",
       "_model_name": "HTMLModel",
       "_view_count": null,
       "_view_module": "@jupyter-widgets/controls",
       "_view_module_version": "1.5.0",
       "_view_name": "HTMLView",
       "description": "",
       "description_tooltip": null,
       "layout": "IPY_MODEL_1417547a756d41f4af8dbf8f21f94e0e",
       "placeholder": "​",
       "style": "IPY_MODEL_a7682ef49c0a42dfa40c494df659519f",
       "value": " 5000/5000 [00:16&lt;00:00, 300.29it/s]"
      }
     },
     "564cfa38a36d4488963c37a449220c98": {
      "model_module": "@jupyter-widgets/controls",
      "model_module_version": "1.5.0",
      "model_name": "IntProgressModel",
      "state": {
       "_dom_classes": [],
       "_model_module": "@jupyter-widgets/controls",
       "_model_module_version": "1.5.0",
       "_model_name": "IntProgressModel",
       "_view_count": null,
       "_view_module": "@jupyter-widgets/controls",
       "_view_module_version": "1.5.0",
       "_view_name": "ProgressView",
       "bar_style": "success",
       "description": "100%",
       "description_tooltip": null,
       "layout": "IPY_MODEL_402ad64567c148318732912ae2726dcf",
       "max": 60000,
       "min": 0,
       "orientation": "horizontal",
       "style": "IPY_MODEL_c742722fb6634facae6b9a9f360fa27d",
       "value": 60000
      }
     },
     "8a27f55608e14b0eb881f44b89c3be83": {
      "model_module": "@jupyter-widgets/base",
      "model_module_version": "1.2.0",
      "model_name": "LayoutModel",
      "state": {
       "_model_module": "@jupyter-widgets/base",
       "_model_module_version": "1.2.0",
       "_model_name": "LayoutModel",
       "_view_count": null,
       "_view_module": "@jupyter-widgets/base",
       "_view_module_version": "1.2.0",
       "_view_name": "LayoutView",
       "align_content": null,
       "align_items": null,
       "align_self": null,
       "border": null,
       "bottom": null,
       "display": null,
       "flex": null,
       "flex_flow": null,
       "grid_area": null,
       "grid_auto_columns": null,
       "grid_auto_flow": null,
       "grid_auto_rows": null,
       "grid_column": null,
       "grid_gap": null,
       "grid_row": null,
       "grid_template_areas": null,
       "grid_template_columns": null,
       "grid_template_rows": null,
       "height": null,
       "justify_content": null,
       "justify_items": null,
       "left": null,
       "margin": null,
       "max_height": null,
       "max_width": null,
       "min_height": null,
       "min_width": null,
       "object_fit": null,
       "object_position": null,
       "order": null,
       "overflow": null,
       "overflow_x": null,
       "overflow_y": null,
       "padding": null,
       "right": null,
       "top": null,
       "visibility": null,
       "width": null
      }
     },
     "912e7c35ebdd44c4bb71e7ffaa9f020b": {
      "model_module": "@jupyter-widgets/controls",
      "model_module_version": "1.5.0",
      "model_name": "DescriptionStyleModel",
      "state": {
       "_model_module": "@jupyter-widgets/controls",
       "_model_module_version": "1.5.0",
       "_model_name": "DescriptionStyleModel",
       "_view_count": null,
       "_view_module": "@jupyter-widgets/base",
       "_view_module_version": "1.2.0",
       "_view_name": "StyleView",
       "description_width": ""
      }
     },
     "9e83b5a2d59845489a81e245cfcf2da3": {
      "model_module": "@jupyter-widgets/base",
      "model_module_version": "1.2.0",
      "model_name": "LayoutModel",
      "state": {
       "_model_module": "@jupyter-widgets/base",
       "_model_module_version": "1.2.0",
       "_model_name": "LayoutModel",
       "_view_count": null,
       "_view_module": "@jupyter-widgets/base",
       "_view_module_version": "1.2.0",
       "_view_name": "LayoutView",
       "align_content": null,
       "align_items": null,
       "align_self": null,
       "border": null,
       "bottom": null,
       "display": null,
       "flex": null,
       "flex_flow": null,
       "grid_area": null,
       "grid_auto_columns": null,
       "grid_auto_flow": null,
       "grid_auto_rows": null,
       "grid_column": null,
       "grid_gap": null,
       "grid_row": null,
       "grid_template_areas": null,
       "grid_template_columns": null,
       "grid_template_rows": null,
       "height": null,
       "justify_content": null,
       "justify_items": null,
       "left": null,
       "margin": null,
       "max_height": null,
       "max_width": null,
       "min_height": null,
       "min_width": null,
       "object_fit": null,
       "object_position": null,
       "order": null,
       "overflow": null,
       "overflow_x": null,
       "overflow_y": null,
       "padding": null,
       "right": null,
       "top": null,
       "visibility": null,
       "width": null
      }
     },
     "9febab5e40054af2bb5018c0a6701c84": {
      "model_module": "@jupyter-widgets/controls",
      "model_module_version": "1.5.0",
      "model_name": "DescriptionStyleModel",
      "state": {
       "_model_module": "@jupyter-widgets/controls",
       "_model_module_version": "1.5.0",
       "_model_name": "DescriptionStyleModel",
       "_view_count": null,
       "_view_module": "@jupyter-widgets/base",
       "_view_module_version": "1.2.0",
       "_view_name": "StyleView",
       "description_width": ""
      }
     },
     "a6c7ae27fb44479aadb18174c60686c9": {
      "model_module": "@jupyter-widgets/base",
      "model_module_version": "1.2.0",
      "model_name": "LayoutModel",
      "state": {
       "_model_module": "@jupyter-widgets/base",
       "_model_module_version": "1.2.0",
       "_model_name": "LayoutModel",
       "_view_count": null,
       "_view_module": "@jupyter-widgets/base",
       "_view_module_version": "1.2.0",
       "_view_name": "LayoutView",
       "align_content": null,
       "align_items": null,
       "align_self": null,
       "border": null,
       "bottom": null,
       "display": null,
       "flex": null,
       "flex_flow": null,
       "grid_area": null,
       "grid_auto_columns": null,
       "grid_auto_flow": null,
       "grid_auto_rows": null,
       "grid_column": null,
       "grid_gap": null,
       "grid_row": null,
       "grid_template_areas": null,
       "grid_template_columns": null,
       "grid_template_rows": null,
       "height": null,
       "justify_content": null,
       "justify_items": null,
       "left": null,
       "margin": null,
       "max_height": null,
       "max_width": null,
       "min_height": null,
       "min_width": null,
       "object_fit": null,
       "object_position": null,
       "order": null,
       "overflow": null,
       "overflow_x": null,
       "overflow_y": null,
       "padding": null,
       "right": null,
       "top": null,
       "visibility": null,
       "width": null
      }
     },
     "a7682ef49c0a42dfa40c494df659519f": {
      "model_module": "@jupyter-widgets/controls",
      "model_module_version": "1.5.0",
      "model_name": "DescriptionStyleModel",
      "state": {
       "_model_module": "@jupyter-widgets/controls",
       "_model_module_version": "1.5.0",
       "_model_name": "DescriptionStyleModel",
       "_view_count": null,
       "_view_module": "@jupyter-widgets/base",
       "_view_module_version": "1.2.0",
       "_view_name": "StyleView",
       "description_width": ""
      }
     },
     "b081af3730804ca685625f21ad48ba85": {
      "model_module": "@jupyter-widgets/controls",
      "model_module_version": "1.5.0",
      "model_name": "HTMLModel",
      "state": {
       "_dom_classes": [],
       "_model_module": "@jupyter-widgets/controls",
       "_model_module_version": "1.5.0",
       "_model_name": "HTMLModel",
       "_view_count": null,
       "_view_module": "@jupyter-widgets/controls",
       "_view_module_version": "1.5.0",
       "_view_name": "HTMLView",
       "description": "",
       "description_tooltip": null,
       "layout": "IPY_MODEL_8a27f55608e14b0eb881f44b89c3be83",
       "placeholder": "​",
       "style": "IPY_MODEL_9febab5e40054af2bb5018c0a6701c84",
       "value": " 4998/5000 [00:56&lt;00:00, 90.56it/s]"
      }
     },
     "bc33b249c25d461fafaced4776d61b49": {
      "model_module": "@jupyter-widgets/controls",
      "model_module_version": "1.5.0",
      "model_name": "IntProgressModel",
      "state": {
       "_dom_classes": [],
       "_model_module": "@jupyter-widgets/controls",
       "_model_module_version": "1.5.0",
       "_model_name": "IntProgressModel",
       "_view_count": null,
       "_view_module": "@jupyter-widgets/controls",
       "_view_module_version": "1.5.0",
       "_view_name": "ProgressView",
       "bar_style": "",
       "description": "100%",
       "description_tooltip": null,
       "layout": "IPY_MODEL_a6c7ae27fb44479aadb18174c60686c9",
       "max": 5000,
       "min": 0,
       "orientation": "horizontal",
       "style": "IPY_MODEL_e20fe0df58514270a8877c3e641e1d23",
       "value": 4998
      }
     },
     "c10b5824006e4d04a2af7651b7e522c7": {
      "model_module": "@jupyter-widgets/base",
      "model_module_version": "1.2.0",
      "model_name": "LayoutModel",
      "state": {
       "_model_module": "@jupyter-widgets/base",
       "_model_module_version": "1.2.0",
       "_model_name": "LayoutModel",
       "_view_count": null,
       "_view_module": "@jupyter-widgets/base",
       "_view_module_version": "1.2.0",
       "_view_name": "LayoutView",
       "align_content": null,
       "align_items": null,
       "align_self": null,
       "border": null,
       "bottom": null,
       "display": null,
       "flex": null,
       "flex_flow": null,
       "grid_area": null,
       "grid_auto_columns": null,
       "grid_auto_flow": null,
       "grid_auto_rows": null,
       "grid_column": null,
       "grid_gap": null,
       "grid_row": null,
       "grid_template_areas": null,
       "grid_template_columns": null,
       "grid_template_rows": null,
       "height": null,
       "justify_content": null,
       "justify_items": null,
       "left": null,
       "margin": null,
       "max_height": null,
       "max_width": null,
       "min_height": null,
       "min_width": null,
       "object_fit": null,
       "object_position": null,
       "order": null,
       "overflow": null,
       "overflow_x": null,
       "overflow_y": null,
       "padding": null,
       "right": null,
       "top": null,
       "visibility": null,
       "width": null
      }
     },
     "c742722fb6634facae6b9a9f360fa27d": {
      "model_module": "@jupyter-widgets/controls",
      "model_module_version": "1.5.0",
      "model_name": "ProgressStyleModel",
      "state": {
       "_model_module": "@jupyter-widgets/controls",
       "_model_module_version": "1.5.0",
       "_model_name": "ProgressStyleModel",
       "_view_count": null,
       "_view_module": "@jupyter-widgets/base",
       "_view_module_version": "1.2.0",
       "_view_name": "StyleView",
       "bar_color": null,
       "description_width": "initial"
      }
     },
     "c968d752ea84437190d29619a0d05dae": {
      "model_module": "@jupyter-widgets/controls",
      "model_module_version": "1.5.0",
      "model_name": "HBoxModel",
      "state": {
       "_dom_classes": [],
       "_model_module": "@jupyter-widgets/controls",
       "_model_module_version": "1.5.0",
       "_model_name": "HBoxModel",
       "_view_count": null,
       "_view_module": "@jupyter-widgets/controls",
       "_view_module_version": "1.5.0",
       "_view_name": "HBoxView",
       "box_style": "",
       "children": [
        "IPY_MODEL_bc33b249c25d461fafaced4776d61b49",
        "IPY_MODEL_b081af3730804ca685625f21ad48ba85"
       ],
       "layout": "IPY_MODEL_c10b5824006e4d04a2af7651b7e522c7"
      }
     },
     "cb0fbc9b62704e2587e13efedbb483b7": {
      "model_module": "@jupyter-widgets/base",
      "model_module_version": "1.2.0",
      "model_name": "LayoutModel",
      "state": {
       "_model_module": "@jupyter-widgets/base",
       "_model_module_version": "1.2.0",
       "_model_name": "LayoutModel",
       "_view_count": null,
       "_view_module": "@jupyter-widgets/base",
       "_view_module_version": "1.2.0",
       "_view_name": "LayoutView",
       "align_content": null,
       "align_items": null,
       "align_self": null,
       "border": null,
       "bottom": null,
       "display": null,
       "flex": null,
       "flex_flow": null,
       "grid_area": null,
       "grid_auto_columns": null,
       "grid_auto_flow": null,
       "grid_auto_rows": null,
       "grid_column": null,
       "grid_gap": null,
       "grid_row": null,
       "grid_template_areas": null,
       "grid_template_columns": null,
       "grid_template_rows": null,
       "height": null,
       "justify_content": null,
       "justify_items": null,
       "left": null,
       "margin": null,
       "max_height": null,
       "max_width": null,
       "min_height": null,
       "min_width": null,
       "object_fit": null,
       "object_position": null,
       "order": null,
       "overflow": null,
       "overflow_x": null,
       "overflow_y": null,
       "padding": null,
       "right": null,
       "top": null,
       "visibility": null,
       "width": null
      }
     },
     "d74f724ab1964d3ba13fa45516d92380": {
      "model_module": "@jupyter-widgets/controls",
      "model_module_version": "1.5.0",
      "model_name": "IntProgressModel",
      "state": {
       "_dom_classes": [],
       "_model_module": "@jupyter-widgets/controls",
       "_model_module_version": "1.5.0",
       "_model_name": "IntProgressModel",
       "_view_count": null,
       "_view_module": "@jupyter-widgets/controls",
       "_view_module_version": "1.5.0",
       "_view_name": "ProgressView",
       "bar_style": "success",
       "description": "100%",
       "description_tooltip": null,
       "layout": "IPY_MODEL_9e83b5a2d59845489a81e245cfcf2da3",
       "max": 5000,
       "min": 0,
       "orientation": "horizontal",
       "style": "IPY_MODEL_f183487774ab44c9a9e007d6835dd751",
       "value": 5000
      }
     },
     "daee89357ca240b8a56f63fc3656f7fc": {
      "model_module": "@jupyter-widgets/controls",
      "model_module_version": "1.5.0",
      "model_name": "HBoxModel",
      "state": {
       "_dom_classes": [],
       "_model_module": "@jupyter-widgets/controls",
       "_model_module_version": "1.5.0",
       "_model_name": "HBoxModel",
       "_view_count": null,
       "_view_module": "@jupyter-widgets/controls",
       "_view_module_version": "1.5.0",
       "_view_name": "HBoxView",
       "box_style": "",
       "children": [
        "IPY_MODEL_d74f724ab1964d3ba13fa45516d92380",
        "IPY_MODEL_549d01752c514f7ba1a2f7ddcb259a71"
       ],
       "layout": "IPY_MODEL_cb0fbc9b62704e2587e13efedbb483b7"
      }
     },
     "e20fe0df58514270a8877c3e641e1d23": {
      "model_module": "@jupyter-widgets/controls",
      "model_module_version": "1.5.0",
      "model_name": "ProgressStyleModel",
      "state": {
       "_model_module": "@jupyter-widgets/controls",
       "_model_module_version": "1.5.0",
       "_model_name": "ProgressStyleModel",
       "_view_count": null,
       "_view_module": "@jupyter-widgets/base",
       "_view_module_version": "1.2.0",
       "_view_name": "StyleView",
       "bar_color": null,
       "description_width": "initial"
      }
     },
     "f183487774ab44c9a9e007d6835dd751": {
      "model_module": "@jupyter-widgets/controls",
      "model_module_version": "1.5.0",
      "model_name": "ProgressStyleModel",
      "state": {
       "_model_module": "@jupyter-widgets/controls",
       "_model_module_version": "1.5.0",
       "_model_name": "ProgressStyleModel",
       "_view_count": null,
       "_view_module": "@jupyter-widgets/base",
       "_view_module_version": "1.2.0",
       "_view_name": "StyleView",
       "bar_color": null,
       "description_width": "initial"
      }
     }
    },
    "version_major": 2,
    "version_minor": 0
   }
  }
 },
 "nbformat": 4,
 "nbformat_minor": 1
}
