{
 "cells": [
  {
   "cell_type": "code",
   "execution_count": 1,
   "metadata": {
    "_cell_guid": "b1076dfc-b9ad-4769-8c92-a6c4dae69d19",
    "_uuid": "8f2839f25d086af736a60e9eeb907d3b93b6e0e5"
   },
   "outputs": [
    {
     "name": "stdout",
     "output_type": "stream",
     "text": [
      "/kaggle/input/nyc-property-sales/nyc-rolling-sales.csv\n"
     ]
    }
   ],
   "source": [
    "# This Python 3 environment comes with many helpful analytics libraries installed\n",
    "# It is defined by the kaggle/python docker image: https://github.com/kaggle/docker-python\n",
    "# For example, here's several helpful packages to load in \n",
    "\n",
    "import numpy as np # linear algebra\n",
    "import pandas as pd # data processing, CSV file I/O (e.g. pd.read_csv)\n",
    "\n",
    "# Input data files are available in the \"../input/\" directory.\n",
    "# For example, running this (by clicking run or pressing Shift+Enter) will list all files under the input directory\n",
    "\n",
    "import os\n",
    "for dirname, _, filenames in os.walk('/kaggle/input'):\n",
    "    for filename in filenames:\n",
    "        print(os.path.join(dirname, filename))\n",
    "\n",
    "# Any results you write to the current directory are saved as output.\n",
    "\n",
    "import matplotlib.pyplot as plt\n",
    "%matplotlib inline\n",
    "import seaborn as sns\n",
    "import warnings\n",
    "warnings.filterwarnings('ignore')"
   ]
  },
  {
   "cell_type": "code",
   "execution_count": 2,
   "metadata": {
    "_cell_guid": "79c7e3d0-c299-4dcb-8224-4455121ee9b0",
    "_uuid": "d629ff2d2480ee46fbb7e2d37f6b5fab8052498a"
   },
   "outputs": [
    {
     "data": {
      "text/html": [
       "<div>\n",
       "<style scoped>\n",
       "    .dataframe tbody tr th:only-of-type {\n",
       "        vertical-align: middle;\n",
       "    }\n",
       "\n",
       "    .dataframe tbody tr th {\n",
       "        vertical-align: top;\n",
       "    }\n",
       "\n",
       "    .dataframe thead th {\n",
       "        text-align: right;\n",
       "    }\n",
       "</style>\n",
       "<table border=\"1\" class=\"dataframe\">\n",
       "  <thead>\n",
       "    <tr style=\"text-align: right;\">\n",
       "      <th></th>\n",
       "      <th>Unnamed: 0</th>\n",
       "      <th>BOROUGH</th>\n",
       "      <th>NEIGHBORHOOD</th>\n",
       "      <th>BUILDING CLASS CATEGORY</th>\n",
       "      <th>TAX CLASS AT PRESENT</th>\n",
       "      <th>BLOCK</th>\n",
       "      <th>LOT</th>\n",
       "      <th>EASE-MENT</th>\n",
       "      <th>BUILDING CLASS AT PRESENT</th>\n",
       "      <th>ADDRESS</th>\n",
       "      <th>...</th>\n",
       "      <th>RESIDENTIAL UNITS</th>\n",
       "      <th>COMMERCIAL UNITS</th>\n",
       "      <th>TOTAL UNITS</th>\n",
       "      <th>LAND SQUARE FEET</th>\n",
       "      <th>GROSS SQUARE FEET</th>\n",
       "      <th>YEAR BUILT</th>\n",
       "      <th>TAX CLASS AT TIME OF SALE</th>\n",
       "      <th>BUILDING CLASS AT TIME OF SALE</th>\n",
       "      <th>SALE PRICE</th>\n",
       "      <th>SALE DATE</th>\n",
       "    </tr>\n",
       "  </thead>\n",
       "  <tbody>\n",
       "    <tr>\n",
       "      <th>0</th>\n",
       "      <td>4</td>\n",
       "      <td>1</td>\n",
       "      <td>ALPHABET CITY</td>\n",
       "      <td>07 RENTALS - WALKUP APARTMENTS</td>\n",
       "      <td>2A</td>\n",
       "      <td>392</td>\n",
       "      <td>6</td>\n",
       "      <td></td>\n",
       "      <td>C2</td>\n",
       "      <td>153 AVENUE B</td>\n",
       "      <td>...</td>\n",
       "      <td>5</td>\n",
       "      <td>0</td>\n",
       "      <td>5</td>\n",
       "      <td>1633</td>\n",
       "      <td>6440</td>\n",
       "      <td>1900</td>\n",
       "      <td>2</td>\n",
       "      <td>C2</td>\n",
       "      <td>6625000</td>\n",
       "      <td>2017-07-19 00:00:00</td>\n",
       "    </tr>\n",
       "    <tr>\n",
       "      <th>1</th>\n",
       "      <td>5</td>\n",
       "      <td>1</td>\n",
       "      <td>ALPHABET CITY</td>\n",
       "      <td>07 RENTALS - WALKUP APARTMENTS</td>\n",
       "      <td>2</td>\n",
       "      <td>399</td>\n",
       "      <td>26</td>\n",
       "      <td></td>\n",
       "      <td>C7</td>\n",
       "      <td>234 EAST 4TH   STREET</td>\n",
       "      <td>...</td>\n",
       "      <td>28</td>\n",
       "      <td>3</td>\n",
       "      <td>31</td>\n",
       "      <td>4616</td>\n",
       "      <td>18690</td>\n",
       "      <td>1900</td>\n",
       "      <td>2</td>\n",
       "      <td>C7</td>\n",
       "      <td>-</td>\n",
       "      <td>2016-12-14 00:00:00</td>\n",
       "    </tr>\n",
       "    <tr>\n",
       "      <th>2</th>\n",
       "      <td>6</td>\n",
       "      <td>1</td>\n",
       "      <td>ALPHABET CITY</td>\n",
       "      <td>07 RENTALS - WALKUP APARTMENTS</td>\n",
       "      <td>2</td>\n",
       "      <td>399</td>\n",
       "      <td>39</td>\n",
       "      <td></td>\n",
       "      <td>C7</td>\n",
       "      <td>197 EAST 3RD   STREET</td>\n",
       "      <td>...</td>\n",
       "      <td>16</td>\n",
       "      <td>1</td>\n",
       "      <td>17</td>\n",
       "      <td>2212</td>\n",
       "      <td>7803</td>\n",
       "      <td>1900</td>\n",
       "      <td>2</td>\n",
       "      <td>C7</td>\n",
       "      <td>-</td>\n",
       "      <td>2016-12-09 00:00:00</td>\n",
       "    </tr>\n",
       "    <tr>\n",
       "      <th>3</th>\n",
       "      <td>7</td>\n",
       "      <td>1</td>\n",
       "      <td>ALPHABET CITY</td>\n",
       "      <td>07 RENTALS - WALKUP APARTMENTS</td>\n",
       "      <td>2B</td>\n",
       "      <td>402</td>\n",
       "      <td>21</td>\n",
       "      <td></td>\n",
       "      <td>C4</td>\n",
       "      <td>154 EAST 7TH STREET</td>\n",
       "      <td>...</td>\n",
       "      <td>10</td>\n",
       "      <td>0</td>\n",
       "      <td>10</td>\n",
       "      <td>2272</td>\n",
       "      <td>6794</td>\n",
       "      <td>1913</td>\n",
       "      <td>2</td>\n",
       "      <td>C4</td>\n",
       "      <td>3936272</td>\n",
       "      <td>2016-09-23 00:00:00</td>\n",
       "    </tr>\n",
       "    <tr>\n",
       "      <th>4</th>\n",
       "      <td>8</td>\n",
       "      <td>1</td>\n",
       "      <td>ALPHABET CITY</td>\n",
       "      <td>07 RENTALS - WALKUP APARTMENTS</td>\n",
       "      <td>2A</td>\n",
       "      <td>404</td>\n",
       "      <td>55</td>\n",
       "      <td></td>\n",
       "      <td>C2</td>\n",
       "      <td>301 EAST 10TH   STREET</td>\n",
       "      <td>...</td>\n",
       "      <td>6</td>\n",
       "      <td>0</td>\n",
       "      <td>6</td>\n",
       "      <td>2369</td>\n",
       "      <td>4615</td>\n",
       "      <td>1900</td>\n",
       "      <td>2</td>\n",
       "      <td>C2</td>\n",
       "      <td>8000000</td>\n",
       "      <td>2016-11-17 00:00:00</td>\n",
       "    </tr>\n",
       "  </tbody>\n",
       "</table>\n",
       "<p>5 rows × 22 columns</p>\n",
       "</div>"
      ],
      "text/plain": [
       "   Unnamed: 0  BOROUGH   NEIGHBORHOOD  \\\n",
       "0           4        1  ALPHABET CITY   \n",
       "1           5        1  ALPHABET CITY   \n",
       "2           6        1  ALPHABET CITY   \n",
       "3           7        1  ALPHABET CITY   \n",
       "4           8        1  ALPHABET CITY   \n",
       "\n",
       "                       BUILDING CLASS CATEGORY TAX CLASS AT PRESENT  BLOCK  \\\n",
       "0  07 RENTALS - WALKUP APARTMENTS                                2A    392   \n",
       "1  07 RENTALS - WALKUP APARTMENTS                                 2    399   \n",
       "2  07 RENTALS - WALKUP APARTMENTS                                 2    399   \n",
       "3  07 RENTALS - WALKUP APARTMENTS                                2B    402   \n",
       "4  07 RENTALS - WALKUP APARTMENTS                                2A    404   \n",
       "\n",
       "   LOT EASE-MENT BUILDING CLASS AT PRESENT                 ADDRESS  ...  \\\n",
       "0    6                                  C2            153 AVENUE B  ...   \n",
       "1   26                                  C7   234 EAST 4TH   STREET  ...   \n",
       "2   39                                  C7   197 EAST 3RD   STREET  ...   \n",
       "3   21                                  C4     154 EAST 7TH STREET  ...   \n",
       "4   55                                  C2  301 EAST 10TH   STREET  ...   \n",
       "\n",
       "  RESIDENTIAL UNITS  COMMERCIAL UNITS  TOTAL UNITS  LAND SQUARE FEET  \\\n",
       "0                 5                 0            5              1633   \n",
       "1                28                 3           31              4616   \n",
       "2                16                 1           17              2212   \n",
       "3                10                 0           10              2272   \n",
       "4                 6                 0            6              2369   \n",
       "\n",
       "   GROSS SQUARE FEET YEAR BUILT TAX CLASS AT TIME OF SALE  \\\n",
       "0               6440       1900                         2   \n",
       "1              18690       1900                         2   \n",
       "2               7803       1900                         2   \n",
       "3               6794       1913                         2   \n",
       "4               4615       1900                         2   \n",
       "\n",
       "   BUILDING CLASS AT TIME OF SALE  SALE PRICE            SALE DATE  \n",
       "0                              C2     6625000  2017-07-19 00:00:00  \n",
       "1                              C7         -    2016-12-14 00:00:00  \n",
       "2                              C7         -    2016-12-09 00:00:00  \n",
       "3                              C4     3936272  2016-09-23 00:00:00  \n",
       "4                              C2     8000000  2016-11-17 00:00:00  \n",
       "\n",
       "[5 rows x 22 columns]"
      ]
     },
     "execution_count": 2,
     "metadata": {},
     "output_type": "execute_result"
    }
   ],
   "source": [
    "df = pd.read_csv('/kaggle/input/nyc-property-sales/nyc-rolling-sales.csv')\n",
    "df.head()"
   ]
  },
  {
   "cell_type": "code",
   "execution_count": 3,
   "metadata": {},
   "outputs": [
    {
     "data": {
      "text/plain": [
       "Index(['Unnamed: 0', 'BOROUGH', 'NEIGHBORHOOD', 'BUILDING CLASS CATEGORY',\n",
       "       'TAX CLASS AT PRESENT', 'BLOCK', 'LOT', 'EASE-MENT',\n",
       "       'BUILDING CLASS AT PRESENT', 'ADDRESS', 'APARTMENT NUMBER', 'ZIP CODE',\n",
       "       'RESIDENTIAL UNITS', 'COMMERCIAL UNITS', 'TOTAL UNITS',\n",
       "       'LAND SQUARE FEET', 'GROSS SQUARE FEET', 'YEAR BUILT',\n",
       "       'TAX CLASS AT TIME OF SALE', 'BUILDING CLASS AT TIME OF SALE',\n",
       "       'SALE PRICE', 'SALE DATE'],\n",
       "      dtype='object')"
      ]
     },
     "execution_count": 3,
     "metadata": {},
     "output_type": "execute_result"
    }
   ],
   "source": [
    "df.columns"
   ]
  },
  {
   "cell_type": "code",
   "execution_count": 4,
   "metadata": {},
   "outputs": [
    {
     "data": {
      "text/plain": [
       "Unnamed: 0                        0\n",
       "BOROUGH                           0\n",
       "NEIGHBORHOOD                      0\n",
       "BUILDING CLASS CATEGORY           0\n",
       "TAX CLASS AT PRESENT              0\n",
       "BLOCK                             0\n",
       "LOT                               0\n",
       "EASE-MENT                         0\n",
       "BUILDING CLASS AT PRESENT         0\n",
       "ADDRESS                           0\n",
       "APARTMENT NUMBER                  0\n",
       "ZIP CODE                          0\n",
       "RESIDENTIAL UNITS                 0\n",
       "COMMERCIAL UNITS                  0\n",
       "TOTAL UNITS                       0\n",
       "LAND SQUARE FEET                  0\n",
       "GROSS SQUARE FEET                 0\n",
       "YEAR BUILT                        0\n",
       "TAX CLASS AT TIME OF SALE         0\n",
       "BUILDING CLASS AT TIME OF SALE    0\n",
       "SALE PRICE                        0\n",
       "SALE DATE                         0\n",
       "dtype: int64"
      ]
     },
     "execution_count": 4,
     "metadata": {},
     "output_type": "execute_result"
    }
   ],
   "source": [
    "df.isnull().sum()"
   ]
  },
  {
   "cell_type": "code",
   "execution_count": 5,
   "metadata": {},
   "outputs": [
    {
     "data": {
      "text/plain": [
       "(84548, 22)"
      ]
     },
     "execution_count": 5,
     "metadata": {},
     "output_type": "execute_result"
    }
   ],
   "source": [
    "df.shape"
   ]
  },
  {
   "cell_type": "code",
   "execution_count": 6,
   "metadata": {},
   "outputs": [],
   "source": [
    "df.replace({\"-\":0},inplace=True)"
   ]
  },
  {
   "cell_type": "code",
   "execution_count": 7,
   "metadata": {},
   "outputs": [
    {
     "data": {
      "text/html": [
       "<div>\n",
       "<style scoped>\n",
       "    .dataframe tbody tr th:only-of-type {\n",
       "        vertical-align: middle;\n",
       "    }\n",
       "\n",
       "    .dataframe tbody tr th {\n",
       "        vertical-align: top;\n",
       "    }\n",
       "\n",
       "    .dataframe thead th {\n",
       "        text-align: right;\n",
       "    }\n",
       "</style>\n",
       "<table border=\"1\" class=\"dataframe\">\n",
       "  <thead>\n",
       "    <tr style=\"text-align: right;\">\n",
       "      <th></th>\n",
       "      <th>Unnamed: 0</th>\n",
       "      <th>BOROUGH</th>\n",
       "      <th>NEIGHBORHOOD</th>\n",
       "      <th>BUILDING CLASS CATEGORY</th>\n",
       "      <th>TAX CLASS AT PRESENT</th>\n",
       "      <th>BLOCK</th>\n",
       "      <th>LOT</th>\n",
       "      <th>EASE-MENT</th>\n",
       "      <th>BUILDING CLASS AT PRESENT</th>\n",
       "      <th>ADDRESS</th>\n",
       "      <th>...</th>\n",
       "      <th>RESIDENTIAL UNITS</th>\n",
       "      <th>COMMERCIAL UNITS</th>\n",
       "      <th>TOTAL UNITS</th>\n",
       "      <th>LAND SQUARE FEET</th>\n",
       "      <th>GROSS SQUARE FEET</th>\n",
       "      <th>YEAR BUILT</th>\n",
       "      <th>TAX CLASS AT TIME OF SALE</th>\n",
       "      <th>BUILDING CLASS AT TIME OF SALE</th>\n",
       "      <th>SALE PRICE</th>\n",
       "      <th>SALE DATE</th>\n",
       "    </tr>\n",
       "  </thead>\n",
       "  <tbody>\n",
       "    <tr>\n",
       "      <th>0</th>\n",
       "      <td>4</td>\n",
       "      <td>1</td>\n",
       "      <td>ALPHABET CITY</td>\n",
       "      <td>07 RENTALS - WALKUP APARTMENTS</td>\n",
       "      <td>2A</td>\n",
       "      <td>392</td>\n",
       "      <td>6</td>\n",
       "      <td></td>\n",
       "      <td>C2</td>\n",
       "      <td>153 AVENUE B</td>\n",
       "      <td>...</td>\n",
       "      <td>5</td>\n",
       "      <td>0</td>\n",
       "      <td>5</td>\n",
       "      <td>1633</td>\n",
       "      <td>6440</td>\n",
       "      <td>1900</td>\n",
       "      <td>2</td>\n",
       "      <td>C2</td>\n",
       "      <td>6625000</td>\n",
       "      <td>2017-07-19 00:00:00</td>\n",
       "    </tr>\n",
       "    <tr>\n",
       "      <th>1</th>\n",
       "      <td>5</td>\n",
       "      <td>1</td>\n",
       "      <td>ALPHABET CITY</td>\n",
       "      <td>07 RENTALS - WALKUP APARTMENTS</td>\n",
       "      <td>2</td>\n",
       "      <td>399</td>\n",
       "      <td>26</td>\n",
       "      <td></td>\n",
       "      <td>C7</td>\n",
       "      <td>234 EAST 4TH   STREET</td>\n",
       "      <td>...</td>\n",
       "      <td>28</td>\n",
       "      <td>3</td>\n",
       "      <td>31</td>\n",
       "      <td>4616</td>\n",
       "      <td>18690</td>\n",
       "      <td>1900</td>\n",
       "      <td>2</td>\n",
       "      <td>C7</td>\n",
       "      <td>-</td>\n",
       "      <td>2016-12-14 00:00:00</td>\n",
       "    </tr>\n",
       "    <tr>\n",
       "      <th>2</th>\n",
       "      <td>6</td>\n",
       "      <td>1</td>\n",
       "      <td>ALPHABET CITY</td>\n",
       "      <td>07 RENTALS - WALKUP APARTMENTS</td>\n",
       "      <td>2</td>\n",
       "      <td>399</td>\n",
       "      <td>39</td>\n",
       "      <td></td>\n",
       "      <td>C7</td>\n",
       "      <td>197 EAST 3RD   STREET</td>\n",
       "      <td>...</td>\n",
       "      <td>16</td>\n",
       "      <td>1</td>\n",
       "      <td>17</td>\n",
       "      <td>2212</td>\n",
       "      <td>7803</td>\n",
       "      <td>1900</td>\n",
       "      <td>2</td>\n",
       "      <td>C7</td>\n",
       "      <td>-</td>\n",
       "      <td>2016-12-09 00:00:00</td>\n",
       "    </tr>\n",
       "    <tr>\n",
       "      <th>3</th>\n",
       "      <td>7</td>\n",
       "      <td>1</td>\n",
       "      <td>ALPHABET CITY</td>\n",
       "      <td>07 RENTALS - WALKUP APARTMENTS</td>\n",
       "      <td>2B</td>\n",
       "      <td>402</td>\n",
       "      <td>21</td>\n",
       "      <td></td>\n",
       "      <td>C4</td>\n",
       "      <td>154 EAST 7TH STREET</td>\n",
       "      <td>...</td>\n",
       "      <td>10</td>\n",
       "      <td>0</td>\n",
       "      <td>10</td>\n",
       "      <td>2272</td>\n",
       "      <td>6794</td>\n",
       "      <td>1913</td>\n",
       "      <td>2</td>\n",
       "      <td>C4</td>\n",
       "      <td>3936272</td>\n",
       "      <td>2016-09-23 00:00:00</td>\n",
       "    </tr>\n",
       "    <tr>\n",
       "      <th>4</th>\n",
       "      <td>8</td>\n",
       "      <td>1</td>\n",
       "      <td>ALPHABET CITY</td>\n",
       "      <td>07 RENTALS - WALKUP APARTMENTS</td>\n",
       "      <td>2A</td>\n",
       "      <td>404</td>\n",
       "      <td>55</td>\n",
       "      <td></td>\n",
       "      <td>C2</td>\n",
       "      <td>301 EAST 10TH   STREET</td>\n",
       "      <td>...</td>\n",
       "      <td>6</td>\n",
       "      <td>0</td>\n",
       "      <td>6</td>\n",
       "      <td>2369</td>\n",
       "      <td>4615</td>\n",
       "      <td>1900</td>\n",
       "      <td>2</td>\n",
       "      <td>C2</td>\n",
       "      <td>8000000</td>\n",
       "      <td>2016-11-17 00:00:00</td>\n",
       "    </tr>\n",
       "  </tbody>\n",
       "</table>\n",
       "<p>5 rows × 22 columns</p>\n",
       "</div>"
      ],
      "text/plain": [
       "   Unnamed: 0  BOROUGH   NEIGHBORHOOD  \\\n",
       "0           4        1  ALPHABET CITY   \n",
       "1           5        1  ALPHABET CITY   \n",
       "2           6        1  ALPHABET CITY   \n",
       "3           7        1  ALPHABET CITY   \n",
       "4           8        1  ALPHABET CITY   \n",
       "\n",
       "                       BUILDING CLASS CATEGORY TAX CLASS AT PRESENT  BLOCK  \\\n",
       "0  07 RENTALS - WALKUP APARTMENTS                                2A    392   \n",
       "1  07 RENTALS - WALKUP APARTMENTS                                 2    399   \n",
       "2  07 RENTALS - WALKUP APARTMENTS                                 2    399   \n",
       "3  07 RENTALS - WALKUP APARTMENTS                                2B    402   \n",
       "4  07 RENTALS - WALKUP APARTMENTS                                2A    404   \n",
       "\n",
       "   LOT EASE-MENT BUILDING CLASS AT PRESENT                 ADDRESS  ...  \\\n",
       "0    6                                  C2            153 AVENUE B  ...   \n",
       "1   26                                  C7   234 EAST 4TH   STREET  ...   \n",
       "2   39                                  C7   197 EAST 3RD   STREET  ...   \n",
       "3   21                                  C4     154 EAST 7TH STREET  ...   \n",
       "4   55                                  C2  301 EAST 10TH   STREET  ...   \n",
       "\n",
       "  RESIDENTIAL UNITS  COMMERCIAL UNITS  TOTAL UNITS  LAND SQUARE FEET  \\\n",
       "0                 5                 0            5              1633   \n",
       "1                28                 3           31              4616   \n",
       "2                16                 1           17              2212   \n",
       "3                10                 0           10              2272   \n",
       "4                 6                 0            6              2369   \n",
       "\n",
       "   GROSS SQUARE FEET YEAR BUILT TAX CLASS AT TIME OF SALE  \\\n",
       "0               6440       1900                         2   \n",
       "1              18690       1900                         2   \n",
       "2               7803       1900                         2   \n",
       "3               6794       1913                         2   \n",
       "4               4615       1900                         2   \n",
       "\n",
       "   BUILDING CLASS AT TIME OF SALE  SALE PRICE            SALE DATE  \n",
       "0                              C2     6625000  2017-07-19 00:00:00  \n",
       "1                              C7         -    2016-12-14 00:00:00  \n",
       "2                              C7         -    2016-12-09 00:00:00  \n",
       "3                              C4     3936272  2016-09-23 00:00:00  \n",
       "4                              C2     8000000  2016-11-17 00:00:00  \n",
       "\n",
       "[5 rows x 22 columns]"
      ]
     },
     "execution_count": 7,
     "metadata": {},
     "output_type": "execute_result"
    }
   ],
   "source": [
    "df.head()"
   ]
  },
  {
   "cell_type": "code",
   "execution_count": 8,
   "metadata": {},
   "outputs": [
    {
     "data": {
      "text/plain": [
       "Unnamed: 0                         int64\n",
       "BOROUGH                            int64\n",
       "NEIGHBORHOOD                      object\n",
       "BUILDING CLASS CATEGORY           object\n",
       "TAX CLASS AT PRESENT              object\n",
       "BLOCK                              int64\n",
       "LOT                                int64\n",
       "EASE-MENT                         object\n",
       "BUILDING CLASS AT PRESENT         object\n",
       "ADDRESS                           object\n",
       "APARTMENT NUMBER                  object\n",
       "ZIP CODE                           int64\n",
       "RESIDENTIAL UNITS                  int64\n",
       "COMMERCIAL UNITS                   int64\n",
       "TOTAL UNITS                        int64\n",
       "LAND SQUARE FEET                  object\n",
       "GROSS SQUARE FEET                 object\n",
       "YEAR BUILT                         int64\n",
       "TAX CLASS AT TIME OF SALE          int64\n",
       "BUILDING CLASS AT TIME OF SALE    object\n",
       "SALE PRICE                        object\n",
       "SALE DATE                         object\n",
       "dtype: object"
      ]
     },
     "execution_count": 8,
     "metadata": {},
     "output_type": "execute_result"
    }
   ],
   "source": [
    "df.dtypes"
   ]
  },
  {
   "cell_type": "code",
   "execution_count": 9,
   "metadata": {},
   "outputs": [],
   "source": [
    "#Dropping column as it is empty\n",
    "del df['EASE-MENT']\n",
    "#Dropping as it looks like an iterator\n",
    "del df['Unnamed: 0']\n",
    "\n",
    "del df['SALE DATE']\n",
    "\n",
    "\n"
   ]
  },
  {
   "cell_type": "code",
   "execution_count": 10,
   "metadata": {},
   "outputs": [
    {
     "data": {
      "text/html": [
       "<div>\n",
       "<style scoped>\n",
       "    .dataframe tbody tr th:only-of-type {\n",
       "        vertical-align: middle;\n",
       "    }\n",
       "\n",
       "    .dataframe tbody tr th {\n",
       "        vertical-align: top;\n",
       "    }\n",
       "\n",
       "    .dataframe thead th {\n",
       "        text-align: right;\n",
       "    }\n",
       "</style>\n",
       "<table border=\"1\" class=\"dataframe\">\n",
       "  <thead>\n",
       "    <tr style=\"text-align: right;\">\n",
       "      <th></th>\n",
       "      <th>BOROUGH</th>\n",
       "      <th>NEIGHBORHOOD</th>\n",
       "      <th>BUILDING CLASS CATEGORY</th>\n",
       "      <th>TAX CLASS AT PRESENT</th>\n",
       "      <th>BLOCK</th>\n",
       "      <th>LOT</th>\n",
       "      <th>BUILDING CLASS AT PRESENT</th>\n",
       "      <th>ADDRESS</th>\n",
       "      <th>APARTMENT NUMBER</th>\n",
       "      <th>ZIP CODE</th>\n",
       "      <th>RESIDENTIAL UNITS</th>\n",
       "      <th>COMMERCIAL UNITS</th>\n",
       "      <th>TOTAL UNITS</th>\n",
       "      <th>LAND SQUARE FEET</th>\n",
       "      <th>GROSS SQUARE FEET</th>\n",
       "      <th>YEAR BUILT</th>\n",
       "      <th>TAX CLASS AT TIME OF SALE</th>\n",
       "      <th>BUILDING CLASS AT TIME OF SALE</th>\n",
       "      <th>SALE PRICE</th>\n",
       "    </tr>\n",
       "  </thead>\n",
       "  <tbody>\n",
       "    <tr>\n",
       "      <th>0</th>\n",
       "      <td>1</td>\n",
       "      <td>ALPHABET CITY</td>\n",
       "      <td>07 RENTALS - WALKUP APARTMENTS</td>\n",
       "      <td>2A</td>\n",
       "      <td>392</td>\n",
       "      <td>6</td>\n",
       "      <td>C2</td>\n",
       "      <td>153 AVENUE B</td>\n",
       "      <td></td>\n",
       "      <td>10009</td>\n",
       "      <td>5</td>\n",
       "      <td>0</td>\n",
       "      <td>5</td>\n",
       "      <td>1633</td>\n",
       "      <td>6440</td>\n",
       "      <td>1900</td>\n",
       "      <td>2</td>\n",
       "      <td>C2</td>\n",
       "      <td>6625000</td>\n",
       "    </tr>\n",
       "    <tr>\n",
       "      <th>1</th>\n",
       "      <td>1</td>\n",
       "      <td>ALPHABET CITY</td>\n",
       "      <td>07 RENTALS - WALKUP APARTMENTS</td>\n",
       "      <td>2</td>\n",
       "      <td>399</td>\n",
       "      <td>26</td>\n",
       "      <td>C7</td>\n",
       "      <td>234 EAST 4TH   STREET</td>\n",
       "      <td></td>\n",
       "      <td>10009</td>\n",
       "      <td>28</td>\n",
       "      <td>3</td>\n",
       "      <td>31</td>\n",
       "      <td>4616</td>\n",
       "      <td>18690</td>\n",
       "      <td>1900</td>\n",
       "      <td>2</td>\n",
       "      <td>C7</td>\n",
       "      <td>-</td>\n",
       "    </tr>\n",
       "    <tr>\n",
       "      <th>2</th>\n",
       "      <td>1</td>\n",
       "      <td>ALPHABET CITY</td>\n",
       "      <td>07 RENTALS - WALKUP APARTMENTS</td>\n",
       "      <td>2</td>\n",
       "      <td>399</td>\n",
       "      <td>39</td>\n",
       "      <td>C7</td>\n",
       "      <td>197 EAST 3RD   STREET</td>\n",
       "      <td></td>\n",
       "      <td>10009</td>\n",
       "      <td>16</td>\n",
       "      <td>1</td>\n",
       "      <td>17</td>\n",
       "      <td>2212</td>\n",
       "      <td>7803</td>\n",
       "      <td>1900</td>\n",
       "      <td>2</td>\n",
       "      <td>C7</td>\n",
       "      <td>-</td>\n",
       "    </tr>\n",
       "    <tr>\n",
       "      <th>3</th>\n",
       "      <td>1</td>\n",
       "      <td>ALPHABET CITY</td>\n",
       "      <td>07 RENTALS - WALKUP APARTMENTS</td>\n",
       "      <td>2B</td>\n",
       "      <td>402</td>\n",
       "      <td>21</td>\n",
       "      <td>C4</td>\n",
       "      <td>154 EAST 7TH STREET</td>\n",
       "      <td></td>\n",
       "      <td>10009</td>\n",
       "      <td>10</td>\n",
       "      <td>0</td>\n",
       "      <td>10</td>\n",
       "      <td>2272</td>\n",
       "      <td>6794</td>\n",
       "      <td>1913</td>\n",
       "      <td>2</td>\n",
       "      <td>C4</td>\n",
       "      <td>3936272</td>\n",
       "    </tr>\n",
       "    <tr>\n",
       "      <th>4</th>\n",
       "      <td>1</td>\n",
       "      <td>ALPHABET CITY</td>\n",
       "      <td>07 RENTALS - WALKUP APARTMENTS</td>\n",
       "      <td>2A</td>\n",
       "      <td>404</td>\n",
       "      <td>55</td>\n",
       "      <td>C2</td>\n",
       "      <td>301 EAST 10TH   STREET</td>\n",
       "      <td></td>\n",
       "      <td>10009</td>\n",
       "      <td>6</td>\n",
       "      <td>0</td>\n",
       "      <td>6</td>\n",
       "      <td>2369</td>\n",
       "      <td>4615</td>\n",
       "      <td>1900</td>\n",
       "      <td>2</td>\n",
       "      <td>C2</td>\n",
       "      <td>8000000</td>\n",
       "    </tr>\n",
       "  </tbody>\n",
       "</table>\n",
       "</div>"
      ],
      "text/plain": [
       "   BOROUGH   NEIGHBORHOOD                      BUILDING CLASS CATEGORY  \\\n",
       "0        1  ALPHABET CITY  07 RENTALS - WALKUP APARTMENTS                \n",
       "1        1  ALPHABET CITY  07 RENTALS - WALKUP APARTMENTS                \n",
       "2        1  ALPHABET CITY  07 RENTALS - WALKUP APARTMENTS                \n",
       "3        1  ALPHABET CITY  07 RENTALS - WALKUP APARTMENTS                \n",
       "4        1  ALPHABET CITY  07 RENTALS - WALKUP APARTMENTS                \n",
       "\n",
       "  TAX CLASS AT PRESENT  BLOCK  LOT BUILDING CLASS AT PRESENT  \\\n",
       "0                   2A    392    6                        C2   \n",
       "1                    2    399   26                        C7   \n",
       "2                    2    399   39                        C7   \n",
       "3                   2B    402   21                        C4   \n",
       "4                   2A    404   55                        C2   \n",
       "\n",
       "                  ADDRESS APARTMENT NUMBER  ZIP CODE  RESIDENTIAL UNITS  \\\n",
       "0            153 AVENUE B                      10009                  5   \n",
       "1   234 EAST 4TH   STREET                      10009                 28   \n",
       "2   197 EAST 3RD   STREET                      10009                 16   \n",
       "3     154 EAST 7TH STREET                      10009                 10   \n",
       "4  301 EAST 10TH   STREET                      10009                  6   \n",
       "\n",
       "   COMMERCIAL UNITS  TOTAL UNITS LAND SQUARE FEET GROSS SQUARE FEET  \\\n",
       "0                 0            5             1633              6440   \n",
       "1                 3           31             4616             18690   \n",
       "2                 1           17             2212              7803   \n",
       "3                 0           10             2272              6794   \n",
       "4                 0            6             2369              4615   \n",
       "\n",
       "   YEAR BUILT  TAX CLASS AT TIME OF SALE BUILDING CLASS AT TIME OF SALE  \\\n",
       "0        1900                          2                             C2   \n",
       "1        1900                          2                             C7   \n",
       "2        1900                          2                             C7   \n",
       "3        1913                          2                             C4   \n",
       "4        1900                          2                             C2   \n",
       "\n",
       "  SALE PRICE  \n",
       "0    6625000  \n",
       "1        -    \n",
       "2        -    \n",
       "3    3936272  \n",
       "4    8000000  "
      ]
     },
     "execution_count": 10,
     "metadata": {},
     "output_type": "execute_result"
    }
   ],
   "source": [
    "df.head()"
   ]
  },
  {
   "cell_type": "code",
   "execution_count": 11,
   "metadata": {},
   "outputs": [
    {
     "data": {
      "text/plain": [
       "1358"
      ]
     },
     "execution_count": 11,
     "metadata": {},
     "output_type": "execute_result"
    }
   ],
   "source": [
    "sum(df.duplicated(df.columns))"
   ]
  },
  {
   "cell_type": "code",
   "execution_count": 12,
   "metadata": {},
   "outputs": [
    {
     "data": {
      "text/plain": [
       "0"
      ]
     },
     "execution_count": 12,
     "metadata": {},
     "output_type": "execute_result"
    }
   ],
   "source": [
    "df = df.drop_duplicates(df.columns,keep = 'last')\n",
    "sum(df.duplicated(df.columns))"
   ]
  },
  {
   "cell_type": "markdown",
   "metadata": {},
   "source": [
    "## Exploratory Data Analysis"
   ]
  },
  {
   "cell_type": "code",
   "execution_count": 13,
   "metadata": {},
   "outputs": [
    {
     "data": {
      "text/plain": [
       "(83190, 19)"
      ]
     },
     "execution_count": 13,
     "metadata": {},
     "output_type": "execute_result"
    }
   ],
   "source": [
    "df.shape"
   ]
  },
  {
   "cell_type": "code",
   "execution_count": 14,
   "metadata": {},
   "outputs": [
    {
     "data": {
      "text/plain": [
       "83190"
      ]
     },
     "execution_count": 14,
     "metadata": {},
     "output_type": "execute_result"
    }
   ],
   "source": [
    "len(df)"
   ]
  },
  {
   "cell_type": "code",
   "execution_count": 15,
   "metadata": {},
   "outputs": [
    {
     "name": "stdout",
     "output_type": "stream",
     "text": [
      "<class 'pandas.core.frame.DataFrame'>\n",
      "Int64Index: 83190 entries, 0 to 84547\n",
      "Data columns (total 19 columns):\n",
      "BOROUGH                           83190 non-null int64\n",
      "NEIGHBORHOOD                      83190 non-null object\n",
      "BUILDING CLASS CATEGORY           83190 non-null object\n",
      "TAX CLASS AT PRESENT              83190 non-null object\n",
      "BLOCK                             83190 non-null int64\n",
      "LOT                               83190 non-null int64\n",
      "BUILDING CLASS AT PRESENT         83190 non-null object\n",
      "ADDRESS                           83190 non-null object\n",
      "APARTMENT NUMBER                  83190 non-null object\n",
      "ZIP CODE                          83190 non-null int64\n",
      "RESIDENTIAL UNITS                 83190 non-null int64\n",
      "COMMERCIAL UNITS                  83190 non-null int64\n",
      "TOTAL UNITS                       83190 non-null int64\n",
      "LAND SQUARE FEET                  83190 non-null object\n",
      "GROSS SQUARE FEET                 83190 non-null object\n",
      "YEAR BUILT                        83190 non-null int64\n",
      "TAX CLASS AT TIME OF SALE         83190 non-null int64\n",
      "BUILDING CLASS AT TIME OF SALE    83190 non-null object\n",
      "SALE PRICE                        83190 non-null object\n",
      "dtypes: int64(9), object(10)\n",
      "memory usage: 12.7+ MB\n"
     ]
    }
   ],
   "source": [
    "df.info()"
   ]
  },
  {
   "cell_type": "code",
   "execution_count": 16,
   "metadata": {},
   "outputs": [
    {
     "data": {
      "text/plain": [
       "Index([], dtype='object')"
      ]
     },
     "execution_count": 16,
     "metadata": {},
     "output_type": "execute_result"
    }
   ],
   "source": [
    "df.columns[df.isnull().any()]"
   ]
  },
  {
   "cell_type": "code",
   "execution_count": 17,
   "metadata": {},
   "outputs": [],
   "source": [
    "df['TAX CLASS AT TIME OF SALE'] = df['TAX CLASS AT TIME OF SALE'].astype('category')\n",
    "df['TAX CLASS AT PRESENT'] = df['TAX CLASS AT PRESENT'].astype('category')\n",
    "df['LAND SQUARE FEET'] = pd.to_numeric(df['LAND SQUARE FEET'], errors='coerce')\n",
    "df['GROSS SQUARE FEET']= pd.to_numeric(df['GROSS SQUARE FEET'], errors='coerce')\n",
    "df['SALE PRICE'] = pd.to_numeric(df['SALE PRICE'], errors='coerce')\n",
    "df['BOROUGH'] = df['BOROUGH'].astype('category')"
   ]
  },
  {
   "cell_type": "code",
   "execution_count": 18,
   "metadata": {},
   "outputs": [
    {
     "data": {
      "text/plain": [
       "Index(['LAND SQUARE FEET', 'GROSS SQUARE FEET', 'SALE PRICE'], dtype='object')"
      ]
     },
     "execution_count": 18,
     "metadata": {},
     "output_type": "execute_result"
    }
   ],
   "source": [
    "df.columns[df.isnull().any()]"
   ]
  },
  {
   "cell_type": "code",
   "execution_count": 19,
   "metadata": {},
   "outputs": [
    {
     "data": {
      "text/plain": [
       "BOROUGH                               0\n",
       "NEIGHBORHOOD                          0\n",
       "BUILDING CLASS CATEGORY               0\n",
       "TAX CLASS AT PRESENT                  0\n",
       "BLOCK                                 0\n",
       "LOT                                   0\n",
       "BUILDING CLASS AT PRESENT             0\n",
       "ADDRESS                               0\n",
       "APARTMENT NUMBER                      0\n",
       "ZIP CODE                              0\n",
       "RESIDENTIAL UNITS                     0\n",
       "COMMERCIAL UNITS                      0\n",
       "TOTAL UNITS                           0\n",
       "LAND SQUARE FEET                  25973\n",
       "GROSS SQUARE FEET                 27277\n",
       "YEAR BUILT                            0\n",
       "TAX CLASS AT TIME OF SALE             0\n",
       "BUILDING CLASS AT TIME OF SALE        0\n",
       "SALE PRICE                        13909\n",
       "dtype: int64"
      ]
     },
     "execution_count": 19,
     "metadata": {},
     "output_type": "execute_result"
    }
   ],
   "source": [
    "df.isnull().sum()"
   ]
  },
  {
   "cell_type": "code",
   "execution_count": 20,
   "metadata": {},
   "outputs": [
    {
     "data": {
      "text/plain": [
       "SALE PRICE           0.167196\n",
       "LAND SQUARE FEET     0.312213\n",
       "GROSS SQUARE FEET    0.327888\n",
       "dtype: float64"
      ]
     },
     "execution_count": 20,
     "metadata": {},
     "output_type": "execute_result"
    }
   ],
   "source": [
    "miss=df.isnull().sum()/len(df)\n",
    "miss=miss[miss>0]\n",
    "miss.sort_values(inplace=True)\n",
    "miss"
   ]
  },
  {
   "cell_type": "code",
   "execution_count": 21,
   "metadata": {},
   "outputs": [
    {
     "data": {
      "text/html": [
       "<div>\n",
       "<style scoped>\n",
       "    .dataframe tbody tr th:only-of-type {\n",
       "        vertical-align: middle;\n",
       "    }\n",
       "\n",
       "    .dataframe tbody tr th {\n",
       "        vertical-align: top;\n",
       "    }\n",
       "\n",
       "    .dataframe thead th {\n",
       "        text-align: right;\n",
       "    }\n",
       "</style>\n",
       "<table border=\"1\" class=\"dataframe\">\n",
       "  <thead>\n",
       "    <tr style=\"text-align: right;\">\n",
       "      <th></th>\n",
       "      <th>count</th>\n",
       "      <th>Name</th>\n",
       "    </tr>\n",
       "    <tr>\n",
       "      <th>Name</th>\n",
       "      <th></th>\n",
       "      <th></th>\n",
       "    </tr>\n",
       "  </thead>\n",
       "  <tbody>\n",
       "    <tr>\n",
       "      <th>SALE PRICE</th>\n",
       "      <td>0.167196</td>\n",
       "      <td>SALE PRICE</td>\n",
       "    </tr>\n",
       "    <tr>\n",
       "      <th>LAND SQUARE FEET</th>\n",
       "      <td>0.312213</td>\n",
       "      <td>LAND SQUARE FEET</td>\n",
       "    </tr>\n",
       "    <tr>\n",
       "      <th>GROSS SQUARE FEET</th>\n",
       "      <td>0.327888</td>\n",
       "      <td>GROSS SQUARE FEET</td>\n",
       "    </tr>\n",
       "  </tbody>\n",
       "</table>\n",
       "</div>"
      ],
      "text/plain": [
       "                      count               Name\n",
       "Name                                          \n",
       "SALE PRICE         0.167196         SALE PRICE\n",
       "LAND SQUARE FEET   0.312213   LAND SQUARE FEET\n",
       "GROSS SQUARE FEET  0.327888  GROSS SQUARE FEET"
      ]
     },
     "execution_count": 21,
     "metadata": {},
     "output_type": "execute_result"
    }
   ],
   "source": [
    "miss=pd.DataFrame(miss)\n",
    "miss.columns=['count']\n",
    "miss.index.names=['Name']\n",
    "miss['Name']=miss.index\n",
    "miss\n",
    "miss"
   ]
  },
  {
   "cell_type": "code",
   "execution_count": 22,
   "metadata": {},
   "outputs": [
    {
     "data": {
      "text/plain": [
       "<matplotlib.axes._subplots.AxesSubplot at 0x7f248797c2e8>"
      ]
     },
     "execution_count": 22,
     "metadata": {},
     "output_type": "execute_result"
    },
    {
     "data": {
      "image/png": "[encoded data removed]",
      "text/plain": [
       "<Figure size 432x288 with 1 Axes>"
      ]
     },
     "metadata": {
      "needs_background": "light"
     },
     "output_type": "display_data"
    }
   ],
   "source": [
    "sns.barplot(x = 'Name',y = 'count',data = miss)"
   ]
  },
  {
   "cell_type": "markdown",
   "metadata": {},
   "source": [
    "There are many missing values in the columns :\n",
    "\n",
    "- LAND SQUARE FEET\n",
    "- GROSS SQUARE FEET\n",
    "- SALE PRICE\n",
    "\n",
    "\n",
    "We can drop the rows with missing values or we can fill them up with their mean, median or any other relation.\n",
    "\n",
    "For time being, let's fill these up with mean values.\n",
    "\n",
    "Further, We will try to predict the value of SALE PRICE as test data"
   ]
  },
  {
   "cell_type": "code",
   "execution_count": 23,
   "metadata": {},
   "outputs": [],
   "source": [
    "df['LAND SQUARE FEET'] = df['LAND SQUARE FEET'].fillna(df['LAND SQUARE FEET'].mean())\n",
    "df['GROSS SQUARE FEET'] = df['GROSS SQUARE FEET'].fillna(df['GROSS SQUARE FEET'].mean())"
   ]
  },
  {
   "cell_type": "code",
   "execution_count": 24,
   "metadata": {},
   "outputs": [
    {
     "data": {
      "text/plain": [
       "BOROUGH                               0\n",
       "NEIGHBORHOOD                          0\n",
       "BUILDING CLASS CATEGORY               0\n",
       "TAX CLASS AT PRESENT                  0\n",
       "BLOCK                                 0\n",
       "LOT                                   0\n",
       "BUILDING CLASS AT PRESENT             0\n",
       "ADDRESS                               0\n",
       "APARTMENT NUMBER                      0\n",
       "ZIP CODE                              0\n",
       "RESIDENTIAL UNITS                     0\n",
       "COMMERCIAL UNITS                      0\n",
       "TOTAL UNITS                           0\n",
       "LAND SQUARE FEET                      0\n",
       "GROSS SQUARE FEET                     0\n",
       "YEAR BUILT                            0\n",
       "TAX CLASS AT TIME OF SALE             0\n",
       "BUILDING CLASS AT TIME OF SALE        0\n",
       "SALE PRICE                        13909\n",
       "dtype: int64"
      ]
     },
     "execution_count": 24,
     "metadata": {},
     "output_type": "execute_result"
    }
   ],
   "source": [
    "df.isnull().sum()"
   ]
  },
  {
   "cell_type": "code",
   "execution_count": 25,
   "metadata": {},
   "outputs": [],
   "source": [
    "test = df[df['SALE PRICE'].isna()]\n",
    "data = df[~df['SALE PRICE'].isna()]\n",
    "test = test.drop(columns = 'SALE PRICE')"
   ]
  },
  {
   "cell_type": "code",
   "execution_count": 26,
   "metadata": {},
   "outputs": [
    {
     "name": "stdout",
     "output_type": "stream",
     "text": [
      "(13909, 18)\n"
     ]
    },
    {
     "data": {
      "text/html": [
       "<div>\n",
       "<style scoped>\n",
       "    .dataframe tbody tr th:only-of-type {\n",
       "        vertical-align: middle;\n",
       "    }\n",
       "\n",
       "    .dataframe tbody tr th {\n",
       "        vertical-align: top;\n",
       "    }\n",
       "\n",
       "    .dataframe thead th {\n",
       "        text-align: right;\n",
       "    }\n",
       "</style>\n",
       "<table border=\"1\" class=\"dataframe\">\n",
       "  <thead>\n",
       "    <tr style=\"text-align: right;\">\n",
       "      <th></th>\n",
       "      <th>BOROUGH</th>\n",
       "      <th>NEIGHBORHOOD</th>\n",
       "      <th>BUILDING CLASS CATEGORY</th>\n",
       "      <th>TAX CLASS AT PRESENT</th>\n",
       "      <th>BLOCK</th>\n",
       "      <th>LOT</th>\n",
       "      <th>BUILDING CLASS AT PRESENT</th>\n",
       "      <th>ADDRESS</th>\n",
       "      <th>APARTMENT NUMBER</th>\n",
       "      <th>ZIP CODE</th>\n",
       "      <th>RESIDENTIAL UNITS</th>\n",
       "      <th>COMMERCIAL UNITS</th>\n",
       "      <th>TOTAL UNITS</th>\n",
       "      <th>LAND SQUARE FEET</th>\n",
       "      <th>GROSS SQUARE FEET</th>\n",
       "      <th>YEAR BUILT</th>\n",
       "      <th>TAX CLASS AT TIME OF SALE</th>\n",
       "      <th>BUILDING CLASS AT TIME OF SALE</th>\n",
       "    </tr>\n",
       "  </thead>\n",
       "  <tbody>\n",
       "    <tr>\n",
       "      <th>1</th>\n",
       "      <td>1</td>\n",
       "      <td>ALPHABET CITY</td>\n",
       "      <td>07 RENTALS - WALKUP APARTMENTS</td>\n",
       "      <td>2</td>\n",
       "      <td>399</td>\n",
       "      <td>26</td>\n",
       "      <td>C7</td>\n",
       "      <td>234 EAST 4TH   STREET</td>\n",
       "      <td></td>\n",
       "      <td>10009</td>\n",
       "      <td>28</td>\n",
       "      <td>3</td>\n",
       "      <td>31</td>\n",
       "      <td>4616.0</td>\n",
       "      <td>18690.0</td>\n",
       "      <td>1900</td>\n",
       "      <td>2</td>\n",
       "      <td>C7</td>\n",
       "    </tr>\n",
       "    <tr>\n",
       "      <th>2</th>\n",
       "      <td>1</td>\n",
       "      <td>ALPHABET CITY</td>\n",
       "      <td>07 RENTALS - WALKUP APARTMENTS</td>\n",
       "      <td>2</td>\n",
       "      <td>399</td>\n",
       "      <td>39</td>\n",
       "      <td>C7</td>\n",
       "      <td>197 EAST 3RD   STREET</td>\n",
       "      <td></td>\n",
       "      <td>10009</td>\n",
       "      <td>16</td>\n",
       "      <td>1</td>\n",
       "      <td>17</td>\n",
       "      <td>2212.0</td>\n",
       "      <td>7803.0</td>\n",
       "      <td>1900</td>\n",
       "      <td>2</td>\n",
       "      <td>C7</td>\n",
       "    </tr>\n",
       "    <tr>\n",
       "      <th>5</th>\n",
       "      <td>1</td>\n",
       "      <td>ALPHABET CITY</td>\n",
       "      <td>07 RENTALS - WALKUP APARTMENTS</td>\n",
       "      <td>2</td>\n",
       "      <td>405</td>\n",
       "      <td>16</td>\n",
       "      <td>C4</td>\n",
       "      <td>516 EAST 12TH   STREET</td>\n",
       "      <td></td>\n",
       "      <td>10009</td>\n",
       "      <td>20</td>\n",
       "      <td>0</td>\n",
       "      <td>20</td>\n",
       "      <td>2581.0</td>\n",
       "      <td>9730.0</td>\n",
       "      <td>1900</td>\n",
       "      <td>2</td>\n",
       "      <td>C4</td>\n",
       "    </tr>\n",
       "    <tr>\n",
       "      <th>7</th>\n",
       "      <td>1</td>\n",
       "      <td>ALPHABET CITY</td>\n",
       "      <td>07 RENTALS - WALKUP APARTMENTS</td>\n",
       "      <td>2</td>\n",
       "      <td>407</td>\n",
       "      <td>18</td>\n",
       "      <td>C7</td>\n",
       "      <td>520 EAST 14TH   STREET</td>\n",
       "      <td></td>\n",
       "      <td>10009</td>\n",
       "      <td>44</td>\n",
       "      <td>2</td>\n",
       "      <td>46</td>\n",
       "      <td>5163.0</td>\n",
       "      <td>21007.0</td>\n",
       "      <td>1900</td>\n",
       "      <td>2</td>\n",
       "      <td>C7</td>\n",
       "    </tr>\n",
       "    <tr>\n",
       "      <th>8</th>\n",
       "      <td>1</td>\n",
       "      <td>ALPHABET CITY</td>\n",
       "      <td>08 RENTALS - ELEVATOR APARTMENTS</td>\n",
       "      <td>2</td>\n",
       "      <td>379</td>\n",
       "      <td>34</td>\n",
       "      <td>D5</td>\n",
       "      <td>141 AVENUE D</td>\n",
       "      <td></td>\n",
       "      <td>10009</td>\n",
       "      <td>15</td>\n",
       "      <td>0</td>\n",
       "      <td>15</td>\n",
       "      <td>1534.0</td>\n",
       "      <td>9198.0</td>\n",
       "      <td>1920</td>\n",
       "      <td>2</td>\n",
       "      <td>D5</td>\n",
       "    </tr>\n",
       "  </tbody>\n",
       "</table>\n",
       "</div>"
      ],
      "text/plain": [
       "  BOROUGH   NEIGHBORHOOD                      BUILDING CLASS CATEGORY  \\\n",
       "1       1  ALPHABET CITY  07 RENTALS - WALKUP APARTMENTS                \n",
       "2       1  ALPHABET CITY  07 RENTALS - WALKUP APARTMENTS                \n",
       "5       1  ALPHABET CITY  07 RENTALS - WALKUP APARTMENTS                \n",
       "7       1  ALPHABET CITY  07 RENTALS - WALKUP APARTMENTS                \n",
       "8       1  ALPHABET CITY  08 RENTALS - ELEVATOR APARTMENTS              \n",
       "\n",
       "  TAX CLASS AT PRESENT  BLOCK  LOT BUILDING CLASS AT PRESENT  \\\n",
       "1                    2    399   26                        C7   \n",
       "2                    2    399   39                        C7   \n",
       "5                    2    405   16                        C4   \n",
       "7                    2    407   18                        C7   \n",
       "8                    2    379   34                        D5   \n",
       "\n",
       "                  ADDRESS APARTMENT NUMBER  ZIP CODE  RESIDENTIAL UNITS  \\\n",
       "1   234 EAST 4TH   STREET                      10009                 28   \n",
       "2   197 EAST 3RD   STREET                      10009                 16   \n",
       "5  516 EAST 12TH   STREET                      10009                 20   \n",
       "7  520 EAST 14TH   STREET                      10009                 44   \n",
       "8            141 AVENUE D                      10009                 15   \n",
       "\n",
       "   COMMERCIAL UNITS  TOTAL UNITS  LAND SQUARE FEET  GROSS SQUARE FEET  \\\n",
       "1                 3           31            4616.0            18690.0   \n",
       "2                 1           17            2212.0             7803.0   \n",
       "5                 0           20            2581.0             9730.0   \n",
       "7                 2           46            5163.0            21007.0   \n",
       "8                 0           15            1534.0             9198.0   \n",
       "\n",
       "   YEAR BUILT TAX CLASS AT TIME OF SALE BUILDING CLASS AT TIME OF SALE  \n",
       "1        1900                         2                             C7  \n",
       "2        1900                         2                             C7  \n",
       "5        1900                         2                             C4  \n",
       "7        1900                         2                             C7  \n",
       "8        1920                         2                             D5  "
      ]
     },
     "execution_count": 26,
     "metadata": {},
     "output_type": "execute_result"
    }
   ],
   "source": [
    "print(test.shape)\n",
    "test.head()"
   ]
  },
  {
   "cell_type": "code",
   "execution_count": 27,
   "metadata": {},
   "outputs": [
    {
     "name": "stdout",
     "output_type": "stream",
     "text": [
      "(69281, 19)\n"
     ]
    },
    {
     "data": {
      "text/html": [
       "<div>\n",
       "<style scoped>\n",
       "    .dataframe tbody tr th:only-of-type {\n",
       "        vertical-align: middle;\n",
       "    }\n",
       "\n",
       "    .dataframe tbody tr th {\n",
       "        vertical-align: top;\n",
       "    }\n",
       "\n",
       "    .dataframe thead th {\n",
       "        text-align: right;\n",
       "    }\n",
       "</style>\n",
       "<table border=\"1\" class=\"dataframe\">\n",
       "  <thead>\n",
       "    <tr style=\"text-align: right;\">\n",
       "      <th></th>\n",
       "      <th>BOROUGH</th>\n",
       "      <th>NEIGHBORHOOD</th>\n",
       "      <th>BUILDING CLASS CATEGORY</th>\n",
       "      <th>TAX CLASS AT PRESENT</th>\n",
       "      <th>BLOCK</th>\n",
       "      <th>LOT</th>\n",
       "      <th>BUILDING CLASS AT PRESENT</th>\n",
       "      <th>ADDRESS</th>\n",
       "      <th>APARTMENT NUMBER</th>\n",
       "      <th>ZIP CODE</th>\n",
       "      <th>RESIDENTIAL UNITS</th>\n",
       "      <th>COMMERCIAL UNITS</th>\n",
       "      <th>TOTAL UNITS</th>\n",
       "      <th>LAND SQUARE FEET</th>\n",
       "      <th>GROSS SQUARE FEET</th>\n",
       "      <th>YEAR BUILT</th>\n",
       "      <th>TAX CLASS AT TIME OF SALE</th>\n",
       "      <th>BUILDING CLASS AT TIME OF SALE</th>\n",
       "      <th>SALE PRICE</th>\n",
       "    </tr>\n",
       "  </thead>\n",
       "  <tbody>\n",
       "    <tr>\n",
       "      <th>0</th>\n",
       "      <td>1</td>\n",
       "      <td>ALPHABET CITY</td>\n",
       "      <td>07 RENTALS - WALKUP APARTMENTS</td>\n",
       "      <td>2A</td>\n",
       "      <td>392</td>\n",
       "      <td>6</td>\n",
       "      <td>C2</td>\n",
       "      <td>153 AVENUE B</td>\n",
       "      <td></td>\n",
       "      <td>10009</td>\n",
       "      <td>5</td>\n",
       "      <td>0</td>\n",
       "      <td>5</td>\n",
       "      <td>1633.0</td>\n",
       "      <td>6440.0</td>\n",
       "      <td>1900</td>\n",
       "      <td>2</td>\n",
       "      <td>C2</td>\n",
       "      <td>6625000.0</td>\n",
       "    </tr>\n",
       "    <tr>\n",
       "      <th>3</th>\n",
       "      <td>1</td>\n",
       "      <td>ALPHABET CITY</td>\n",
       "      <td>07 RENTALS - WALKUP APARTMENTS</td>\n",
       "      <td>2B</td>\n",
       "      <td>402</td>\n",
       "      <td>21</td>\n",
       "      <td>C4</td>\n",
       "      <td>154 EAST 7TH STREET</td>\n",
       "      <td></td>\n",
       "      <td>10009</td>\n",
       "      <td>10</td>\n",
       "      <td>0</td>\n",
       "      <td>10</td>\n",
       "      <td>2272.0</td>\n",
       "      <td>6794.0</td>\n",
       "      <td>1913</td>\n",
       "      <td>2</td>\n",
       "      <td>C4</td>\n",
       "      <td>3936272.0</td>\n",
       "    </tr>\n",
       "    <tr>\n",
       "      <th>4</th>\n",
       "      <td>1</td>\n",
       "      <td>ALPHABET CITY</td>\n",
       "      <td>07 RENTALS - WALKUP APARTMENTS</td>\n",
       "      <td>2A</td>\n",
       "      <td>404</td>\n",
       "      <td>55</td>\n",
       "      <td>C2</td>\n",
       "      <td>301 EAST 10TH   STREET</td>\n",
       "      <td></td>\n",
       "      <td>10009</td>\n",
       "      <td>6</td>\n",
       "      <td>0</td>\n",
       "      <td>6</td>\n",
       "      <td>2369.0</td>\n",
       "      <td>4615.0</td>\n",
       "      <td>1900</td>\n",
       "      <td>2</td>\n",
       "      <td>C2</td>\n",
       "      <td>8000000.0</td>\n",
       "    </tr>\n",
       "    <tr>\n",
       "      <th>6</th>\n",
       "      <td>1</td>\n",
       "      <td>ALPHABET CITY</td>\n",
       "      <td>07 RENTALS - WALKUP APARTMENTS</td>\n",
       "      <td>2B</td>\n",
       "      <td>406</td>\n",
       "      <td>32</td>\n",
       "      <td>C4</td>\n",
       "      <td>210 AVENUE B</td>\n",
       "      <td></td>\n",
       "      <td>10009</td>\n",
       "      <td>8</td>\n",
       "      <td>0</td>\n",
       "      <td>8</td>\n",
       "      <td>1750.0</td>\n",
       "      <td>4226.0</td>\n",
       "      <td>1920</td>\n",
       "      <td>2</td>\n",
       "      <td>C4</td>\n",
       "      <td>3192840.0</td>\n",
       "    </tr>\n",
       "    <tr>\n",
       "      <th>9</th>\n",
       "      <td>1</td>\n",
       "      <td>ALPHABET CITY</td>\n",
       "      <td>08 RENTALS - ELEVATOR APARTMENTS</td>\n",
       "      <td>2</td>\n",
       "      <td>387</td>\n",
       "      <td>153</td>\n",
       "      <td>D9</td>\n",
       "      <td>629 EAST 5TH STREET</td>\n",
       "      <td></td>\n",
       "      <td>10009</td>\n",
       "      <td>24</td>\n",
       "      <td>0</td>\n",
       "      <td>24</td>\n",
       "      <td>4489.0</td>\n",
       "      <td>18523.0</td>\n",
       "      <td>1920</td>\n",
       "      <td>2</td>\n",
       "      <td>D9</td>\n",
       "      <td>16232000.0</td>\n",
       "    </tr>\n",
       "  </tbody>\n",
       "</table>\n",
       "</div>"
      ],
      "text/plain": [
       "  BOROUGH   NEIGHBORHOOD                      BUILDING CLASS CATEGORY  \\\n",
       "0       1  ALPHABET CITY  07 RENTALS - WALKUP APARTMENTS                \n",
       "3       1  ALPHABET CITY  07 RENTALS - WALKUP APARTMENTS                \n",
       "4       1  ALPHABET CITY  07 RENTALS - WALKUP APARTMENTS                \n",
       "6       1  ALPHABET CITY  07 RENTALS - WALKUP APARTMENTS                \n",
       "9       1  ALPHABET CITY  08 RENTALS - ELEVATOR APARTMENTS              \n",
       "\n",
       "  TAX CLASS AT PRESENT  BLOCK  LOT BUILDING CLASS AT PRESENT  \\\n",
       "0                   2A    392    6                        C2   \n",
       "3                   2B    402   21                        C4   \n",
       "4                   2A    404   55                        C2   \n",
       "6                   2B    406   32                        C4   \n",
       "9                    2    387  153                        D9   \n",
       "\n",
       "                  ADDRESS APARTMENT NUMBER  ZIP CODE  RESIDENTIAL UNITS  \\\n",
       "0            153 AVENUE B                      10009                  5   \n",
       "3     154 EAST 7TH STREET                      10009                 10   \n",
       "4  301 EAST 10TH   STREET                      10009                  6   \n",
       "6            210 AVENUE B                      10009                  8   \n",
       "9     629 EAST 5TH STREET                      10009                 24   \n",
       "\n",
       "   COMMERCIAL UNITS  TOTAL UNITS  LAND SQUARE FEET  GROSS SQUARE FEET  \\\n",
       "0                 0            5            1633.0             6440.0   \n",
       "3                 0           10            2272.0             6794.0   \n",
       "4                 0            6            2369.0             4615.0   \n",
       "6                 0            8            1750.0             4226.0   \n",
       "9                 0           24            4489.0            18523.0   \n",
       "\n",
       "   YEAR BUILT TAX CLASS AT TIME OF SALE BUILDING CLASS AT TIME OF SALE  \\\n",
       "0        1900                         2                             C2   \n",
       "3        1913                         2                             C4   \n",
       "4        1900                         2                             C2   \n",
       "6        1920                         2                             C4   \n",
       "9        1920                         2                             D9   \n",
       "\n",
       "   SALE PRICE  \n",
       "0   6625000.0  \n",
       "3   3936272.0  \n",
       "4   8000000.0  \n",
       "6   3192840.0  \n",
       "9  16232000.0  "
      ]
     },
     "execution_count": 27,
     "metadata": {},
     "output_type": "execute_result"
    }
   ],
   "source": [
    "print(data.shape)\n",
    "data.head()"
   ]
  },
  {
   "cell_type": "code",
   "execution_count": 28,
   "metadata": {},
   "outputs": [
    {
     "data": {
      "text/plain": [
       "<matplotlib.axes._subplots.AxesSubplot at 0x7f2489fa2320>"
      ]
     },
     "execution_count": 28,
     "metadata": {},
     "output_type": "execute_result"
    },
    {
     "data": {
      "image/png": "[encoded data removed]",
      "text/plain": [
       "<Figure size 720x720 with 2 Axes>"
      ]
     },
     "metadata": {
      "needs_background": "light"
     },
     "output_type": "display_data"
    }
   ],
   "source": [
    "plt.figure(figsize=(10,10))\n",
    "sns.heatmap(data.corr(),annot=True)"
   ]
  },
  {
   "cell_type": "code",
   "execution_count": 29,
   "metadata": {},
   "outputs": [
    {
     "data": {
      "text/plain": [
       "BLOCK               -0.061357\n",
       "LOT                  0.012266\n",
       "ZIP CODE            -0.034110\n",
       "RESIDENTIAL UNITS    0.122566\n",
       "COMMERCIAL UNITS     0.044535\n",
       "TOTAL UNITS          0.126654\n",
       "LAND SQUARE FEET     0.060143\n",
       "GROSS SQUARE FEET    0.449913\n",
       "YEAR BUILT          -0.003779\n",
       "SALE PRICE           1.000000\n",
       "Name: SALE PRICE, dtype: float64"
      ]
     },
     "execution_count": 29,
     "metadata": {},
     "output_type": "execute_result"
    }
   ],
   "source": [
    "corr = data.corr()\n",
    "corr['SALE PRICE']"
   ]
  },
  {
   "cell_type": "code",
   "execution_count": 30,
   "metadata": {},
   "outputs": [
    {
     "data": {
      "text/plain": [
       "numpy.number"
      ]
     },
     "execution_count": 30,
     "metadata": {},
     "output_type": "execute_result"
    }
   ],
   "source": [
    "np.number"
   ]
  },
  {
   "cell_type": "code",
   "execution_count": 31,
   "metadata": {},
   "outputs": [
    {
     "data": {
      "text/html": [
       "<div>\n",
       "<style scoped>\n",
       "    .dataframe tbody tr th:only-of-type {\n",
       "        vertical-align: middle;\n",
       "    }\n",
       "\n",
       "    .dataframe tbody tr th {\n",
       "        vertical-align: top;\n",
       "    }\n",
       "\n",
       "    .dataframe thead th {\n",
       "        text-align: right;\n",
       "    }\n",
       "</style>\n",
       "<table border=\"1\" class=\"dataframe\">\n",
       "  <thead>\n",
       "    <tr style=\"text-align: right;\">\n",
       "      <th></th>\n",
       "      <th>BLOCK</th>\n",
       "      <th>LOT</th>\n",
       "      <th>ZIP CODE</th>\n",
       "      <th>RESIDENTIAL UNITS</th>\n",
       "      <th>COMMERCIAL UNITS</th>\n",
       "      <th>TOTAL UNITS</th>\n",
       "      <th>LAND SQUARE FEET</th>\n",
       "      <th>GROSS SQUARE FEET</th>\n",
       "      <th>YEAR BUILT</th>\n",
       "      <th>SALE PRICE</th>\n",
       "    </tr>\n",
       "  </thead>\n",
       "  <tbody>\n",
       "    <tr>\n",
       "      <th>count</th>\n",
       "      <td>69281.000000</td>\n",
       "      <td>69281.000000</td>\n",
       "      <td>69281.000000</td>\n",
       "      <td>69281.000000</td>\n",
       "      <td>69281.000000</td>\n",
       "      <td>69281.000000</td>\n",
       "      <td>6.928100e+04</td>\n",
       "      <td>6.928100e+04</td>\n",
       "      <td>69281.000000</td>\n",
       "      <td>6.928100e+04</td>\n",
       "    </tr>\n",
       "    <tr>\n",
       "      <th>mean</th>\n",
       "      <td>4200.305437</td>\n",
       "      <td>374.983473</td>\n",
       "      <td>10739.919458</td>\n",
       "      <td>1.870859</td>\n",
       "      <td>0.164244</td>\n",
       "      <td>2.055109</td>\n",
       "      <td>3.643061e+03</td>\n",
       "      <td>3.640300e+03</td>\n",
       "      <td>1800.113451</td>\n",
       "      <td>1.286521e+06</td>\n",
       "    </tr>\n",
       "    <tr>\n",
       "      <th>std</th>\n",
       "      <td>3434.828427</td>\n",
       "      <td>656.820333</td>\n",
       "      <td>1265.389144</td>\n",
       "      <td>14.317577</td>\n",
       "      <td>9.018311</td>\n",
       "      <td>17.026435</td>\n",
       "      <td>3.322172e+04</td>\n",
       "      <td>2.427118e+04</td>\n",
       "      <td>519.752668</td>\n",
       "      <td>1.145690e+07</td>\n",
       "    </tr>\n",
       "    <tr>\n",
       "      <th>min</th>\n",
       "      <td>1.000000</td>\n",
       "      <td>1.000000</td>\n",
       "      <td>0.000000</td>\n",
       "      <td>0.000000</td>\n",
       "      <td>0.000000</td>\n",
       "      <td>0.000000</td>\n",
       "      <td>0.000000e+00</td>\n",
       "      <td>0.000000e+00</td>\n",
       "      <td>0.000000</td>\n",
       "      <td>0.000000e+00</td>\n",
       "    </tr>\n",
       "    <tr>\n",
       "      <th>25%</th>\n",
       "      <td>1349.000000</td>\n",
       "      <td>21.000000</td>\n",
       "      <td>10306.000000</td>\n",
       "      <td>0.000000</td>\n",
       "      <td>0.000000</td>\n",
       "      <td>0.000000</td>\n",
       "      <td>1.900000e+03</td>\n",
       "      <td>1.268000e+03</td>\n",
       "      <td>1920.000000</td>\n",
       "      <td>2.350000e+05</td>\n",
       "    </tr>\n",
       "    <tr>\n",
       "      <th>50%</th>\n",
       "      <td>3377.000000</td>\n",
       "      <td>50.000000</td>\n",
       "      <td>11209.000000</td>\n",
       "      <td>1.000000</td>\n",
       "      <td>0.000000</td>\n",
       "      <td>1.000000</td>\n",
       "      <td>2.970000e+03</td>\n",
       "      <td>2.400000e+03</td>\n",
       "      <td>1938.000000</td>\n",
       "      <td>5.350000e+05</td>\n",
       "    </tr>\n",
       "    <tr>\n",
       "      <th>75%</th>\n",
       "      <td>6192.000000</td>\n",
       "      <td>879.000000</td>\n",
       "      <td>11249.000000</td>\n",
       "      <td>2.000000</td>\n",
       "      <td>0.000000</td>\n",
       "      <td>2.000000</td>\n",
       "      <td>3.858418e+03</td>\n",
       "      <td>3.891878e+03</td>\n",
       "      <td>1965.000000</td>\n",
       "      <td>9.500000e+05</td>\n",
       "    </tr>\n",
       "    <tr>\n",
       "      <th>max</th>\n",
       "      <td>16319.000000</td>\n",
       "      <td>9106.000000</td>\n",
       "      <td>11694.000000</td>\n",
       "      <td>1844.000000</td>\n",
       "      <td>2261.000000</td>\n",
       "      <td>2261.000000</td>\n",
       "      <td>4.252327e+06</td>\n",
       "      <td>3.750565e+06</td>\n",
       "      <td>2017.000000</td>\n",
       "      <td>2.210000e+09</td>\n",
       "    </tr>\n",
       "  </tbody>\n",
       "</table>\n",
       "</div>"
      ],
      "text/plain": [
       "              BLOCK           LOT      ZIP CODE  RESIDENTIAL UNITS  \\\n",
       "count  69281.000000  69281.000000  69281.000000       69281.000000   \n",
       "mean    4200.305437    374.983473  10739.919458           1.870859   \n",
       "std     3434.828427    656.820333   1265.389144          14.317577   \n",
       "min        1.000000      1.000000      0.000000           0.000000   \n",
       "25%     1349.000000     21.000000  10306.000000           0.000000   \n",
       "50%     3377.000000     50.000000  11209.000000           1.000000   \n",
       "75%     6192.000000    879.000000  11249.000000           2.000000   \n",
       "max    16319.000000   9106.000000  11694.000000        1844.000000   \n",
       "\n",
       "       COMMERCIAL UNITS   TOTAL UNITS  LAND SQUARE FEET  GROSS SQUARE FEET  \\\n",
       "count      69281.000000  69281.000000      6.928100e+04       6.928100e+04   \n",
       "mean           0.164244      2.055109      3.643061e+03       3.640300e+03   \n",
       "std            9.018311     17.026435      3.322172e+04       2.427118e+04   \n",
       "min            0.000000      0.000000      0.000000e+00       0.000000e+00   \n",
       "25%            0.000000      0.000000      1.900000e+03       1.268000e+03   \n",
       "50%            0.000000      1.000000      2.970000e+03       2.400000e+03   \n",
       "75%            0.000000      2.000000      3.858418e+03       3.891878e+03   \n",
       "max         2261.000000   2261.000000      4.252327e+06       3.750565e+06   \n",
       "\n",
       "         YEAR BUILT    SALE PRICE  \n",
       "count  69281.000000  6.928100e+04  \n",
       "mean    1800.113451  1.286521e+06  \n",
       "std      519.752668  1.145690e+07  \n",
       "min        0.000000  0.000000e+00  \n",
       "25%     1920.000000  2.350000e+05  \n",
       "50%     1938.000000  5.350000e+05  \n",
       "75%     1965.000000  9.500000e+05  \n",
       "max     2017.000000  2.210000e+09  "
      ]
     },
     "execution_count": 31,
     "metadata": {},
     "output_type": "execute_result"
    }
   ],
   "source": [
    "numeric_data=data.select_dtypes(include=[np.number])\n",
    "numeric_data.describe()"
   ]
  },
  {
   "cell_type": "markdown",
   "metadata": {},
   "source": [
    "## Exploring SALE PRICE"
   ]
  },
  {
   "cell_type": "code",
   "execution_count": 32,
   "metadata": {},
   "outputs": [
    {
     "data": {
      "image/png": "[encoded data removed]",
      "text/plain": [
       "<Figure size 1080x432 with 1 Axes>"
      ]
     },
     "metadata": {
      "needs_background": "light"
     },
     "output_type": "display_data"
    }
   ],
   "source": [
    "plt.figure(figsize=(15,6))\n",
    "sns.boxplot(x='SALE PRICE',data = data)\n",
    "plt.title('Sale Price in USD')\n",
    "plt.ticklabel_format(style='plain', axis='x')\n"
   ]
  },
  {
   "cell_type": "code",
   "execution_count": 33,
   "metadata": {},
   "outputs": [
    {
     "data": {
      "text/plain": [
       "<matplotlib.axes._subplots.AxesSubplot at 0x7f2489d8a128>"
      ]
     },
     "execution_count": 33,
     "metadata": {},
     "output_type": "execute_result"
    },
    {
     "data": {
      "image/png": "[encoded data removed]",
      "text/plain": [
       "<Figure size 432x288 with 1 Axes>"
      ]
     },
     "metadata": {
      "needs_background": "light"
     },
     "output_type": "display_data"
    }
   ],
   "source": [
    "sns.distplot(data['SALE PRICE'])"
   ]
  },
  {
   "cell_type": "code",
   "execution_count": 34,
   "metadata": {},
   "outputs": [],
   "source": [
    "data = data[(data['SALE PRICE'] > 100000) & (data['SALE PRICE'] < 5000000)]"
   ]
  },
  {
   "cell_type": "code",
   "execution_count": 35,
   "metadata": {},
   "outputs": [
    {
     "data": {
      "text/plain": [
       "<matplotlib.axes._subplots.AxesSubplot at 0x7f2489cd5518>"
      ]
     },
     "execution_count": 35,
     "metadata": {},
     "output_type": "execute_result"
    },
    {
     "data": {
      "image/png": "[encoded data removed]",
      "text/plain": [
       "<Figure size 432x288 with 1 Axes>"
      ]
     },
     "metadata": {
      "needs_background": "light"
     },
     "output_type": "display_data"
    }
   ],
   "source": [
    "sns.distplot(data['SALE PRICE'])"
   ]
  },
  {
   "cell_type": "code",
   "execution_count": 36,
   "metadata": {},
   "outputs": [
    {
     "data": {
      "text/plain": [
       "2.3437455096169386"
      ]
     },
     "execution_count": 36,
     "metadata": {},
     "output_type": "execute_result"
    }
   ],
   "source": [
    "data['SALE PRICE'].skew()"
   ]
  },
  {
   "cell_type": "code",
   "execution_count": 37,
   "metadata": {},
   "outputs": [
    {
     "name": "stdout",
     "output_type": "stream",
     "text": [
      "0.19896303705046872\n"
     ]
    },
    {
     "data": {
      "text/plain": [
       "<matplotlib.axes._subplots.AxesSubplot at 0x7f2489c246a0>"
      ]
     },
     "execution_count": 37,
     "metadata": {},
     "output_type": "execute_result"
    },
    {
     "data": {
      "image/png": "[encoded data removed]",
      "text/plain": [
       "<Figure size 432x288 with 1 Axes>"
      ]
     },
     "metadata": {
      "needs_background": "light"
     },
     "output_type": "display_data"
    }
   ],
   "source": [
    "sales=np.log(data['SALE PRICE'])\n",
    "print(sales.skew())\n",
    "sns.distplot(sales)"
   ]
  },
  {
   "cell_type": "markdown",
   "metadata": {},
   "source": [
    "Now the data is normalised"
   ]
  },
  {
   "cell_type": "markdown",
   "metadata": {},
   "source": [
    "## Lets visualise Numerical data"
   ]
  },
  {
   "cell_type": "code",
   "execution_count": 38,
   "metadata": {},
   "outputs": [
    {
     "data": {
      "text/plain": [
       "<matplotlib.axes._subplots.AxesSubplot at 0x7f2489c930b8>"
      ]
     },
     "execution_count": 38,
     "metadata": {},
     "output_type": "execute_result"
    },
    {
     "data": {
      "image/png": "[encoded data removed]",
      "text/plain": [
       "<Figure size 720x432 with 1 Axes>"
      ]
     },
     "metadata": {
      "needs_background": "light"
     },
     "output_type": "display_data"
    }
   ],
   "source": [
    "plt.figure(figsize=(10,6))\n",
    "sns.boxplot(x='GROSS SQUARE FEET', data=data,showfliers=False)"
   ]
  },
  {
   "cell_type": "code",
   "execution_count": 39,
   "metadata": {},
   "outputs": [
    {
     "data": {
      "text/plain": [
       "<matplotlib.axes._subplots.AxesSubplot at 0x7f2489abd470>"
      ]
     },
     "execution_count": 39,
     "metadata": {},
     "output_type": "execute_result"
    },
    {
     "data": {
      "image/png": "[encoded data removed]",
      "text/plain": [
       "<Figure size 720x432 with 1 Axes>"
      ]
     },
     "metadata": {
      "needs_background": "light"
     },
     "output_type": "display_data"
    }
   ],
   "source": [
    "plt.figure(figsize=(10,6))\n",
    "sns.boxplot(x='LAND SQUARE FEET', data=data,showfliers=False)"
   ]
  },
  {
   "cell_type": "code",
   "execution_count": 40,
   "metadata": {},
   "outputs": [],
   "source": [
    "data = data[data['GROSS SQUARE FEET'] < 10000]\n",
    "data = data[data['LAND SQUARE FEET'] < 10000]\n"
   ]
  },
  {
   "cell_type": "code",
   "execution_count": 41,
   "metadata": {},
   "outputs": [
    {
     "data": {
      "text/plain": [
       "<matplotlib.axes._subplots.AxesSubplot at 0x7f2489a26cc0>"
      ]
     },
     "execution_count": 41,
     "metadata": {},
     "output_type": "execute_result"
    },
    {
     "data": {
      "image/png": "[encoded data removed]",
      "text/plain": [
       "<Figure size 720x432 with 1 Axes>"
      ]
     },
     "metadata": {
      "needs_background": "light"
     },
     "output_type": "display_data"
    }
   ],
   "source": [
    "plt.figure(figsize=(10,6))\n",
    "sns.regplot(x='GROSS SQUARE FEET', y='SALE PRICE', data=data, fit_reg=False, scatter_kws={'alpha':0.3})"
   ]
  },
  {
   "cell_type": "code",
   "execution_count": 42,
   "metadata": {},
   "outputs": [
    {
     "data": {
      "text/plain": [
       "<matplotlib.axes._subplots.AxesSubplot at 0x7f2487bd8be0>"
      ]
     },
     "execution_count": 42,
     "metadata": {},
     "output_type": "execute_result"
    },
    {
     "data": {
      "image/png": "[encoded data removed]",
      "text/plain": [
       "<Figure size 720x432 with 1 Axes>"
      ]
     },
     "metadata": {
      "needs_background": "light"
     },
     "output_type": "display_data"
    }
   ],
   "source": [
    "plt.figure(figsize=(10,6))\n",
    "sns.regplot(x='LAND SQUARE FEET', y='SALE PRICE', data=data, fit_reg=False, scatter_kws={'alpha':0.3})"
   ]
  },
  {
   "cell_type": "code",
   "execution_count": 43,
   "metadata": {},
   "outputs": [
    {
     "data": {
      "text/html": [
       "<div>\n",
       "<style scoped>\n",
       "    .dataframe tbody tr th:only-of-type {\n",
       "        vertical-align: middle;\n",
       "    }\n",
       "\n",
       "    .dataframe tbody tr th {\n",
       "        vertical-align: top;\n",
       "    }\n",
       "\n",
       "    .dataframe thead th {\n",
       "        text-align: right;\n",
       "    }\n",
       "</style>\n",
       "<table border=\"1\" class=\"dataframe\">\n",
       "  <thead>\n",
       "    <tr style=\"text-align: right;\">\n",
       "      <th></th>\n",
       "      <th>TOTAL UNITS</th>\n",
       "      <th>SALE PRICE</th>\n",
       "    </tr>\n",
       "  </thead>\n",
       "  <tbody>\n",
       "    <tr>\n",
       "      <th>1</th>\n",
       "      <td>1</td>\n",
       "      <td>24570</td>\n",
       "    </tr>\n",
       "    <tr>\n",
       "      <th>0</th>\n",
       "      <td>0</td>\n",
       "      <td>15489</td>\n",
       "    </tr>\n",
       "    <tr>\n",
       "      <th>2</th>\n",
       "      <td>2</td>\n",
       "      <td>9473</td>\n",
       "    </tr>\n",
       "    <tr>\n",
       "      <th>3</th>\n",
       "      <td>3</td>\n",
       "      <td>2720</td>\n",
       "    </tr>\n",
       "    <tr>\n",
       "      <th>4</th>\n",
       "      <td>4</td>\n",
       "      <td>695</td>\n",
       "    </tr>\n",
       "    <tr>\n",
       "      <th>6</th>\n",
       "      <td>6</td>\n",
       "      <td>360</td>\n",
       "    </tr>\n",
       "    <tr>\n",
       "      <th>5</th>\n",
       "      <td>5</td>\n",
       "      <td>170</td>\n",
       "    </tr>\n",
       "    <tr>\n",
       "      <th>8</th>\n",
       "      <td>8</td>\n",
       "      <td>133</td>\n",
       "    </tr>\n",
       "    <tr>\n",
       "      <th>7</th>\n",
       "      <td>7</td>\n",
       "      <td>70</td>\n",
       "    </tr>\n",
       "    <tr>\n",
       "      <th>9</th>\n",
       "      <td>9</td>\n",
       "      <td>56</td>\n",
       "    </tr>\n",
       "    <tr>\n",
       "      <th>10</th>\n",
       "      <td>10</td>\n",
       "      <td>44</td>\n",
       "    </tr>\n",
       "    <tr>\n",
       "      <th>12</th>\n",
       "      <td>12</td>\n",
       "      <td>16</td>\n",
       "    </tr>\n",
       "    <tr>\n",
       "      <th>11</th>\n",
       "      <td>11</td>\n",
       "      <td>9</td>\n",
       "    </tr>\n",
       "    <tr>\n",
       "      <th>16</th>\n",
       "      <td>16</td>\n",
       "      <td>9</td>\n",
       "    </tr>\n",
       "    <tr>\n",
       "      <th>14</th>\n",
       "      <td>14</td>\n",
       "      <td>5</td>\n",
       "    </tr>\n",
       "    <tr>\n",
       "      <th>15</th>\n",
       "      <td>15</td>\n",
       "      <td>5</td>\n",
       "    </tr>\n",
       "    <tr>\n",
       "      <th>13</th>\n",
       "      <td>13</td>\n",
       "      <td>4</td>\n",
       "    </tr>\n",
       "    <tr>\n",
       "      <th>17</th>\n",
       "      <td>18</td>\n",
       "      <td>1</td>\n",
       "    </tr>\n",
       "    <tr>\n",
       "      <th>18</th>\n",
       "      <td>19</td>\n",
       "      <td>1</td>\n",
       "    </tr>\n",
       "    <tr>\n",
       "      <th>19</th>\n",
       "      <td>20</td>\n",
       "      <td>1</td>\n",
       "    </tr>\n",
       "    <tr>\n",
       "      <th>20</th>\n",
       "      <td>2261</td>\n",
       "      <td>1</td>\n",
       "    </tr>\n",
       "  </tbody>\n",
       "</table>\n",
       "</div>"
      ],
      "text/plain": [
       "    TOTAL UNITS  SALE PRICE\n",
       "1             1       24570\n",
       "0             0       15489\n",
       "2             2        9473\n",
       "3             3        2720\n",
       "4             4         695\n",
       "6             6         360\n",
       "5             5         170\n",
       "8             8         133\n",
       "7             7          70\n",
       "9             9          56\n",
       "10           10          44\n",
       "12           12          16\n",
       "11           11           9\n",
       "16           16           9\n",
       "14           14           5\n",
       "15           15           5\n",
       "13           13           4\n",
       "17           18           1\n",
       "18           19           1\n",
       "19           20           1\n",
       "20         2261           1"
      ]
     },
     "execution_count": 43,
     "metadata": {},
     "output_type": "execute_result"
    }
   ],
   "source": [
    "data[['TOTAL UNITS','SALE PRICE']].groupby([\"TOTAL UNITS\"],as_index=False).count().sort_values(by = \"SALE PRICE\",ascending = False)"
   ]
  },
  {
   "cell_type": "code",
   "execution_count": 44,
   "metadata": {},
   "outputs": [],
   "source": [
    "data = data[(data['TOTAL UNITS'] > 0) & (data['TOTAL UNITS'] != 2261)] "
   ]
  },
  {
   "cell_type": "code",
   "execution_count": 45,
   "metadata": {},
   "outputs": [
    {
     "data": {
      "text/html": [
       "<div>\n",
       "<style scoped>\n",
       "    .dataframe tbody tr th:only-of-type {\n",
       "        vertical-align: middle;\n",
       "    }\n",
       "\n",
       "    .dataframe tbody tr th {\n",
       "        vertical-align: top;\n",
       "    }\n",
       "\n",
       "    .dataframe thead th {\n",
       "        text-align: right;\n",
       "    }\n",
       "</style>\n",
       "<table border=\"1\" class=\"dataframe\">\n",
       "  <thead>\n",
       "    <tr style=\"text-align: right;\">\n",
       "      <th></th>\n",
       "      <th>BOROUGH</th>\n",
       "      <th>NEIGHBORHOOD</th>\n",
       "      <th>BUILDING CLASS CATEGORY</th>\n",
       "      <th>TAX CLASS AT PRESENT</th>\n",
       "      <th>BLOCK</th>\n",
       "      <th>LOT</th>\n",
       "      <th>BUILDING CLASS AT PRESENT</th>\n",
       "      <th>ADDRESS</th>\n",
       "      <th>APARTMENT NUMBER</th>\n",
       "      <th>ZIP CODE</th>\n",
       "      <th>RESIDENTIAL UNITS</th>\n",
       "      <th>COMMERCIAL UNITS</th>\n",
       "      <th>TOTAL UNITS</th>\n",
       "      <th>LAND SQUARE FEET</th>\n",
       "      <th>GROSS SQUARE FEET</th>\n",
       "      <th>YEAR BUILT</th>\n",
       "      <th>TAX CLASS AT TIME OF SALE</th>\n",
       "      <th>BUILDING CLASS AT TIME OF SALE</th>\n",
       "      <th>SALE PRICE</th>\n",
       "    </tr>\n",
       "  </thead>\n",
       "  <tbody>\n",
       "    <tr>\n",
       "      <th>3</th>\n",
       "      <td>1</td>\n",
       "      <td>ALPHABET CITY</td>\n",
       "      <td>07 RENTALS - WALKUP APARTMENTS</td>\n",
       "      <td>2B</td>\n",
       "      <td>402</td>\n",
       "      <td>21</td>\n",
       "      <td>C4</td>\n",
       "      <td>154 EAST 7TH STREET</td>\n",
       "      <td></td>\n",
       "      <td>10009</td>\n",
       "      <td>10</td>\n",
       "      <td>0</td>\n",
       "      <td>10</td>\n",
       "      <td>2272.00000</td>\n",
       "      <td>6794.000000</td>\n",
       "      <td>1913</td>\n",
       "      <td>2</td>\n",
       "      <td>C4</td>\n",
       "      <td>3936272.0</td>\n",
       "    </tr>\n",
       "    <tr>\n",
       "      <th>6</th>\n",
       "      <td>1</td>\n",
       "      <td>ALPHABET CITY</td>\n",
       "      <td>07 RENTALS - WALKUP APARTMENTS</td>\n",
       "      <td>2B</td>\n",
       "      <td>406</td>\n",
       "      <td>32</td>\n",
       "      <td>C4</td>\n",
       "      <td>210 AVENUE B</td>\n",
       "      <td></td>\n",
       "      <td>10009</td>\n",
       "      <td>8</td>\n",
       "      <td>0</td>\n",
       "      <td>8</td>\n",
       "      <td>1750.00000</td>\n",
       "      <td>4226.000000</td>\n",
       "      <td>1920</td>\n",
       "      <td>2</td>\n",
       "      <td>C4</td>\n",
       "      <td>3192840.0</td>\n",
       "    </tr>\n",
       "    <tr>\n",
       "      <th>76</th>\n",
       "      <td>1</td>\n",
       "      <td>ALPHABET CITY</td>\n",
       "      <td>12 CONDOS - WALKUP APARTMENTS</td>\n",
       "      <td>2</td>\n",
       "      <td>386</td>\n",
       "      <td>1002</td>\n",
       "      <td>R2</td>\n",
       "      <td>211 EAST 3RD   STREET</td>\n",
       "      <td>1B</td>\n",
       "      <td>10009</td>\n",
       "      <td>1</td>\n",
       "      <td>0</td>\n",
       "      <td>1</td>\n",
       "      <td>3858.41804</td>\n",
       "      <td>3891.878472</td>\n",
       "      <td>0</td>\n",
       "      <td>2</td>\n",
       "      <td>R2</td>\n",
       "      <td>620000.0</td>\n",
       "    </tr>\n",
       "    <tr>\n",
       "      <th>79</th>\n",
       "      <td>1</td>\n",
       "      <td>ALPHABET CITY</td>\n",
       "      <td>13 CONDOS - ELEVATOR APARTMENTS</td>\n",
       "      <td>2</td>\n",
       "      <td>373</td>\n",
       "      <td>1003</td>\n",
       "      <td>R4</td>\n",
       "      <td>324 EAST 4TH STREET</td>\n",
       "      <td>3A</td>\n",
       "      <td>10009</td>\n",
       "      <td>1</td>\n",
       "      <td>0</td>\n",
       "      <td>1</td>\n",
       "      <td>3858.41804</td>\n",
       "      <td>3891.878472</td>\n",
       "      <td>1920</td>\n",
       "      <td>2</td>\n",
       "      <td>R4</td>\n",
       "      <td>762669.0</td>\n",
       "    </tr>\n",
       "    <tr>\n",
       "      <th>80</th>\n",
       "      <td>1</td>\n",
       "      <td>ALPHABET CITY</td>\n",
       "      <td>13 CONDOS - ELEVATOR APARTMENTS</td>\n",
       "      <td>2</td>\n",
       "      <td>373</td>\n",
       "      <td>1004</td>\n",
       "      <td>R4</td>\n",
       "      <td>324 EAST 4TH STREET</td>\n",
       "      <td>3B</td>\n",
       "      <td>10009</td>\n",
       "      <td>1</td>\n",
       "      <td>0</td>\n",
       "      <td>1</td>\n",
       "      <td>3858.41804</td>\n",
       "      <td>3891.878472</td>\n",
       "      <td>1920</td>\n",
       "      <td>2</td>\n",
       "      <td>R4</td>\n",
       "      <td>772851.0</td>\n",
       "    </tr>\n",
       "  </tbody>\n",
       "</table>\n",
       "</div>"
      ],
      "text/plain": [
       "   BOROUGH   NEIGHBORHOOD                      BUILDING CLASS CATEGORY  \\\n",
       "3        1  ALPHABET CITY  07 RENTALS - WALKUP APARTMENTS                \n",
       "6        1  ALPHABET CITY  07 RENTALS - WALKUP APARTMENTS                \n",
       "76       1  ALPHABET CITY  12 CONDOS - WALKUP APARTMENTS                 \n",
       "79       1  ALPHABET CITY  13 CONDOS - ELEVATOR APARTMENTS               \n",
       "80       1  ALPHABET CITY  13 CONDOS - ELEVATOR APARTMENTS               \n",
       "\n",
       "   TAX CLASS AT PRESENT  BLOCK   LOT BUILDING CLASS AT PRESENT  \\\n",
       "3                    2B    402    21                        C4   \n",
       "6                    2B    406    32                        C4   \n",
       "76                    2    386  1002                        R2   \n",
       "79                    2    373  1003                        R4   \n",
       "80                    2    373  1004                        R4   \n",
       "\n",
       "                  ADDRESS APARTMENT NUMBER  ZIP CODE  RESIDENTIAL UNITS  \\\n",
       "3     154 EAST 7TH STREET                      10009                 10   \n",
       "6            210 AVENUE B                      10009                  8   \n",
       "76  211 EAST 3RD   STREET               1B     10009                  1   \n",
       "79    324 EAST 4TH STREET               3A     10009                  1   \n",
       "80    324 EAST 4TH STREET               3B     10009                  1   \n",
       "\n",
       "    COMMERCIAL UNITS  TOTAL UNITS  LAND SQUARE FEET  GROSS SQUARE FEET  \\\n",
       "3                  0           10        2272.00000        6794.000000   \n",
       "6                  0            8        1750.00000        4226.000000   \n",
       "76                 0            1        3858.41804        3891.878472   \n",
       "79                 0            1        3858.41804        3891.878472   \n",
       "80                 0            1        3858.41804        3891.878472   \n",
       "\n",
       "    YEAR BUILT TAX CLASS AT TIME OF SALE BUILDING CLASS AT TIME OF SALE  \\\n",
       "3         1913                         2                             C4   \n",
       "6         1920                         2                             C4   \n",
       "76           0                         2                             R2   \n",
       "79        1920                         2                             R4   \n",
       "80        1920                         2                             R4   \n",
       "\n",
       "    SALE PRICE  \n",
       "3    3936272.0  \n",
       "6    3192840.0  \n",
       "76    620000.0  \n",
       "79    762669.0  \n",
       "80    772851.0  "
      ]
     },
     "execution_count": 45,
     "metadata": {},
     "output_type": "execute_result"
    }
   ],
   "source": [
    "data.head()"
   ]
  },
  {
   "cell_type": "code",
   "execution_count": 46,
   "metadata": {},
   "outputs": [
    {
     "data": {
      "image/png": "[encoded data removed]",
      "text/plain": [
       "<Figure size 720x432 with 1 Axes>"
      ]
     },
     "metadata": {
      "needs_background": "light"
     },
     "output_type": "display_data"
    }
   ],
   "source": [
    "plt.figure(figsize=(10,6))\n",
    "sns.boxplot(x='TOTAL UNITS', y='SALE PRICE', data=data)\n",
    "plt.title('Total Units vs Sale Price')\n",
    "plt.show()"
   ]
  },
  {
   "cell_type": "code",
   "execution_count": 47,
   "metadata": {},
   "outputs": [
    {
     "data": {
      "image/png": "[encoded data removed]",
      "text/plain": [
       "<Figure size 720x432 with 1 Axes>"
      ]
     },
     "metadata": {
      "needs_background": "light"
     },
     "output_type": "display_data"
    }
   ],
   "source": [
    "plt.figure(figsize=(10,6))\n",
    "sns.boxplot(x='RESIDENTIAL UNITS', y='SALE PRICE', data=data)\n",
    "plt.title('Residential Units vs Sale Price')\n",
    "plt.show()"
   ]
  },
  {
   "cell_type": "markdown",
   "metadata": {},
   "source": [
    "## Categorical Data's Turn :)"
   ]
  },
  {
   "cell_type": "code",
   "execution_count": 48,
   "metadata": {},
   "outputs": [
    {
     "data": {
      "text/html": [
       "<div>\n",
       "<style scoped>\n",
       "    .dataframe tbody tr th:only-of-type {\n",
       "        vertical-align: middle;\n",
       "    }\n",
       "\n",
       "    .dataframe tbody tr th {\n",
       "        vertical-align: top;\n",
       "    }\n",
       "\n",
       "    .dataframe thead th {\n",
       "        text-align: right;\n",
       "    }\n",
       "</style>\n",
       "<table border=\"1\" class=\"dataframe\">\n",
       "  <thead>\n",
       "    <tr style=\"text-align: right;\">\n",
       "      <th></th>\n",
       "      <th>BOROUGH</th>\n",
       "      <th>NEIGHBORHOOD</th>\n",
       "      <th>BUILDING CLASS CATEGORY</th>\n",
       "      <th>TAX CLASS AT PRESENT</th>\n",
       "      <th>BUILDING CLASS AT PRESENT</th>\n",
       "      <th>ADDRESS</th>\n",
       "      <th>APARTMENT NUMBER</th>\n",
       "      <th>TAX CLASS AT TIME OF SALE</th>\n",
       "      <th>BUILDING CLASS AT TIME OF SALE</th>\n",
       "    </tr>\n",
       "  </thead>\n",
       "  <tbody>\n",
       "    <tr>\n",
       "      <th>count</th>\n",
       "      <td>38342</td>\n",
       "      <td>38342</td>\n",
       "      <td>38342</td>\n",
       "      <td>38342</td>\n",
       "      <td>38342</td>\n",
       "      <td>38342</td>\n",
       "      <td>38342</td>\n",
       "      <td>38342</td>\n",
       "      <td>38342</td>\n",
       "    </tr>\n",
       "    <tr>\n",
       "      <th>unique</th>\n",
       "      <td>5</td>\n",
       "      <td>247</td>\n",
       "      <td>36</td>\n",
       "      <td>9</td>\n",
       "      <td>104</td>\n",
       "      <td>30426</td>\n",
       "      <td>2642</td>\n",
       "      <td>3</td>\n",
       "      <td>104</td>\n",
       "    </tr>\n",
       "    <tr>\n",
       "      <th>top</th>\n",
       "      <td>4</td>\n",
       "      <td>FLUSHING-NORTH</td>\n",
       "      <td>01 ONE FAMILY DWELLINGS</td>\n",
       "      <td>1</td>\n",
       "      <td>R4</td>\n",
       "      <td>131-05 40TH   ROAD</td>\n",
       "      <td></td>\n",
       "      <td>1</td>\n",
       "      <td>R4</td>\n",
       "    </tr>\n",
       "    <tr>\n",
       "      <th>freq</th>\n",
       "      <td>12599</td>\n",
       "      <td>1674</td>\n",
       "      <td>12215</td>\n",
       "      <td>23977</td>\n",
       "      <td>8918</td>\n",
       "      <td>209</td>\n",
       "      <td>26395</td>\n",
       "      <td>25206</td>\n",
       "      <td>8922</td>\n",
       "    </tr>\n",
       "  </tbody>\n",
       "</table>\n",
       "</div>"
      ],
      "text/plain": [
       "        BOROUGH    NEIGHBORHOOD                      BUILDING CLASS CATEGORY  \\\n",
       "count     38342           38342                                        38342   \n",
       "unique        5             247                                           36   \n",
       "top           4  FLUSHING-NORTH  01 ONE FAMILY DWELLINGS                       \n",
       "freq      12599            1674                                        12215   \n",
       "\n",
       "       TAX CLASS AT PRESENT BUILDING CLASS AT PRESENT             ADDRESS  \\\n",
       "count                 38342                     38342               38342   \n",
       "unique                    9                       104               30426   \n",
       "top                       1                        R4  131-05 40TH   ROAD   \n",
       "freq                  23977                      8918                 209   \n",
       "\n",
       "       APARTMENT NUMBER  TAX CLASS AT TIME OF SALE  \\\n",
       "count             38342                      38342   \n",
       "unique             2642                          3   \n",
       "top                                              1   \n",
       "freq              26395                      25206   \n",
       "\n",
       "       BUILDING CLASS AT TIME OF SALE  \n",
       "count                           38342  \n",
       "unique                            104  \n",
       "top                                R4  \n",
       "freq                             8922  "
      ]
     },
     "execution_count": 48,
     "metadata": {},
     "output_type": "execute_result"
    }
   ],
   "source": [
    "cat_data=data.select_dtypes(exclude=[np.number])\n",
    "cat_data.describe()"
   ]
  },
  {
   "cell_type": "code",
   "execution_count": 49,
   "metadata": {},
   "outputs": [
    {
     "data": {
      "text/html": [
       "<div>\n",
       "<style scoped>\n",
       "    .dataframe tbody tr th:only-of-type {\n",
       "        vertical-align: middle;\n",
       "    }\n",
       "\n",
       "    .dataframe tbody tr th {\n",
       "        vertical-align: top;\n",
       "    }\n",
       "\n",
       "    .dataframe thead th {\n",
       "        text-align: right;\n",
       "    }\n",
       "</style>\n",
       "<table border=\"1\" class=\"dataframe\">\n",
       "  <thead>\n",
       "    <tr style=\"text-align: right;\">\n",
       "      <th></th>\n",
       "      <th>SALE PRICE</th>\n",
       "    </tr>\n",
       "    <tr>\n",
       "      <th>TAX CLASS AT PRESENT</th>\n",
       "      <th></th>\n",
       "    </tr>\n",
       "  </thead>\n",
       "  <tbody>\n",
       "    <tr>\n",
       "      <th>1</th>\n",
       "      <td>594000.0</td>\n",
       "    </tr>\n",
       "    <tr>\n",
       "      <th>1A</th>\n",
       "      <td>390000.0</td>\n",
       "    </tr>\n",
       "    <tr>\n",
       "      <th>1B</th>\n",
       "      <td>640606.5</td>\n",
       "    </tr>\n",
       "    <tr>\n",
       "      <th>1C</th>\n",
       "      <td>958668.0</td>\n",
       "    </tr>\n",
       "    <tr>\n",
       "      <th>2</th>\n",
       "      <td>980000.0</td>\n",
       "    </tr>\n",
       "    <tr>\n",
       "      <th>2A</th>\n",
       "      <td>1200000.0</td>\n",
       "    </tr>\n",
       "    <tr>\n",
       "      <th>2B</th>\n",
       "      <td>1847500.0</td>\n",
       "    </tr>\n",
       "    <tr>\n",
       "      <th>2C</th>\n",
       "      <td>835000.0</td>\n",
       "    </tr>\n",
       "    <tr>\n",
       "      <th>4</th>\n",
       "      <td>1050000.0</td>\n",
       "    </tr>\n",
       "  </tbody>\n",
       "</table>\n",
       "</div>"
      ],
      "text/plain": [
       "                      SALE PRICE\n",
       "TAX CLASS AT PRESENT            \n",
       "1                       594000.0\n",
       "1A                      390000.0\n",
       "1B                      640606.5\n",
       "1C                      958668.0\n",
       "2                       980000.0\n",
       "2A                     1200000.0\n",
       "2B                     1847500.0\n",
       "2C                      835000.0\n",
       "4                      1050000.0"
      ]
     },
     "execution_count": 49,
     "metadata": {},
     "output_type": "execute_result"
    }
   ],
   "source": [
    "pivot=data.pivot_table(index='TAX CLASS AT PRESENT', values='SALE PRICE', aggfunc=np.median)\n",
    "pivot"
   ]
  },
  {
   "cell_type": "code",
   "execution_count": 50,
   "metadata": {},
   "outputs": [
    {
     "data": {
      "text/plain": [
       "<matplotlib.axes._subplots.AxesSubplot at 0x7f2489d8a390>"
      ]
     },
     "execution_count": 50,
     "metadata": {},
     "output_type": "execute_result"
    },
    {
     "data": {
      "image/png": "[encoded data removed]",
      "text/plain": [
       "<Figure size 432x288 with 1 Axes>"
      ]
     },
     "metadata": {
      "needs_background": "light"
     },
     "output_type": "display_data"
    }
   ],
   "source": [
    "pivot.plot(kind='bar', color='black')"
   ]
  },
  {
   "cell_type": "code",
   "execution_count": 51,
   "metadata": {},
   "outputs": [
    {
     "data": {
      "text/html": [
       "<div>\n",
       "<style scoped>\n",
       "    .dataframe tbody tr th:only-of-type {\n",
       "        vertical-align: middle;\n",
       "    }\n",
       "\n",
       "    .dataframe tbody tr th {\n",
       "        vertical-align: top;\n",
       "    }\n",
       "\n",
       "    .dataframe thead th {\n",
       "        text-align: right;\n",
       "    }\n",
       "</style>\n",
       "<table border=\"1\" class=\"dataframe\">\n",
       "  <thead>\n",
       "    <tr style=\"text-align: right;\">\n",
       "      <th></th>\n",
       "      <th>SALE PRICE</th>\n",
       "    </tr>\n",
       "    <tr>\n",
       "      <th>TAX CLASS AT TIME OF SALE</th>\n",
       "      <th></th>\n",
       "    </tr>\n",
       "  </thead>\n",
       "  <tbody>\n",
       "    <tr>\n",
       "      <th>1</th>\n",
       "      <td>582487.5</td>\n",
       "    </tr>\n",
       "    <tr>\n",
       "      <th>2</th>\n",
       "      <td>990000.0</td>\n",
       "    </tr>\n",
       "    <tr>\n",
       "      <th>4</th>\n",
       "      <td>1050000.0</td>\n",
       "    </tr>\n",
       "  </tbody>\n",
       "</table>\n",
       "</div>"
      ],
      "text/plain": [
       "                           SALE PRICE\n",
       "TAX CLASS AT TIME OF SALE            \n",
       "1                            582487.5\n",
       "2                            990000.0\n",
       "4                           1050000.0"
      ]
     },
     "execution_count": 51,
     "metadata": {},
     "output_type": "execute_result"
    },
    {
     "data": {
      "image/png": "[encoded data removed]",
      "text/plain": [
       "<Figure size 432x288 with 1 Axes>"
      ]
     },
     "metadata": {
      "needs_background": "light"
     },
     "output_type": "display_data"
    }
   ],
   "source": [
    "pivot=data.pivot_table(index='TAX CLASS AT TIME OF SALE', values='SALE PRICE', aggfunc=np.median)\n",
    "pivot.plot(kind = 'bar')\n",
    "pivot"
   ]
  },
  {
   "cell_type": "code",
   "execution_count": 52,
   "metadata": {},
   "outputs": [
    {
     "data": {
      "text/html": [
       "<div>\n",
       "<style scoped>\n",
       "    .dataframe tbody tr th:only-of-type {\n",
       "        vertical-align: middle;\n",
       "    }\n",
       "\n",
       "    .dataframe tbody tr th {\n",
       "        vertical-align: top;\n",
       "    }\n",
       "\n",
       "    .dataframe thead th {\n",
       "        text-align: right;\n",
       "    }\n",
       "</style>\n",
       "<table border=\"1\" class=\"dataframe\">\n",
       "  <thead>\n",
       "    <tr style=\"text-align: right;\">\n",
       "      <th></th>\n",
       "      <th>SALE PRICE</th>\n",
       "    </tr>\n",
       "    <tr>\n",
       "      <th>BUILDING CLASS CATEGORY</th>\n",
       "      <th></th>\n",
       "    </tr>\n",
       "  </thead>\n",
       "  <tbody>\n",
       "    <tr>\n",
       "      <th>01 ONE FAMILY DWELLINGS</th>\n",
       "      <td>510000.0</td>\n",
       "    </tr>\n",
       "    <tr>\n",
       "      <th>02 TWO FAMILY DWELLINGS</th>\n",
       "      <td>664075.5</td>\n",
       "    </tr>\n",
       "    <tr>\n",
       "      <th>03 THREE FAMILY DWELLINGS</th>\n",
       "      <td>820000.0</td>\n",
       "    </tr>\n",
       "    <tr>\n",
       "      <th>04 TAX CLASS 1 CONDOS</th>\n",
       "      <td>420405.0</td>\n",
       "    </tr>\n",
       "    <tr>\n",
       "      <th>05 TAX CLASS 1 VACANT LAND</th>\n",
       "      <td>720000.0</td>\n",
       "    </tr>\n",
       "    <tr>\n",
       "      <th>06 TAX CLASS 1 - OTHER</th>\n",
       "      <td>500000.0</td>\n",
       "    </tr>\n",
       "    <tr>\n",
       "      <th>07 RENTALS - WALKUP APARTMENTS</th>\n",
       "      <td>1280000.0</td>\n",
       "    </tr>\n",
       "    <tr>\n",
       "      <th>08 RENTALS - ELEVATOR APARTMENTS</th>\n",
       "      <td>3670000.0</td>\n",
       "    </tr>\n",
       "    <tr>\n",
       "      <th>11A CONDO-RENTALS</th>\n",
       "      <td>999000.0</td>\n",
       "    </tr>\n",
       "    <tr>\n",
       "      <th>12 CONDOS - WALKUP APARTMENTS</th>\n",
       "      <td>528000.0</td>\n",
       "    </tr>\n",
       "    <tr>\n",
       "      <th>13 CONDOS - ELEVATOR APARTMENTS</th>\n",
       "      <td>999999.0</td>\n",
       "    </tr>\n",
       "    <tr>\n",
       "      <th>14 RENTALS - 4-10 UNIT</th>\n",
       "      <td>1350000.0</td>\n",
       "    </tr>\n",
       "    <tr>\n",
       "      <th>15 CONDOS - 2-10 UNIT RESIDENTIAL</th>\n",
       "      <td>830000.0</td>\n",
       "    </tr>\n",
       "    <tr>\n",
       "      <th>16 CONDOS - 2-10 UNIT WITH COMMERCIAL UNIT</th>\n",
       "      <td>1398000.0</td>\n",
       "    </tr>\n",
       "    <tr>\n",
       "      <th>21 OFFICE BUILDINGS</th>\n",
       "      <td>941756.0</td>\n",
       "    </tr>\n",
       "    <tr>\n",
       "      <th>22 STORE BUILDINGS</th>\n",
       "      <td>1050000.0</td>\n",
       "    </tr>\n",
       "    <tr>\n",
       "      <th>23 LOFT BUILDINGS</th>\n",
       "      <td>2837500.0</td>\n",
       "    </tr>\n",
       "    <tr>\n",
       "      <th>26 OTHER HOTELS</th>\n",
       "      <td>1400000.0</td>\n",
       "    </tr>\n",
       "    <tr>\n",
       "      <th>27 FACTORIES</th>\n",
       "      <td>1312500.0</td>\n",
       "    </tr>\n",
       "    <tr>\n",
       "      <th>28 COMMERCIAL CONDOS</th>\n",
       "      <td>1257919.0</td>\n",
       "    </tr>\n",
       "    <tr>\n",
       "      <th>29 COMMERCIAL GARAGES</th>\n",
       "      <td>850000.0</td>\n",
       "    </tr>\n",
       "    <tr>\n",
       "      <th>30 WAREHOUSES</th>\n",
       "      <td>1611772.5</td>\n",
       "    </tr>\n",
       "    <tr>\n",
       "      <th>31 COMMERCIAL VACANT LAND</th>\n",
       "      <td>650000.0</td>\n",
       "    </tr>\n",
       "    <tr>\n",
       "      <th>32 HOSPITAL AND HEALTH FACILITIES</th>\n",
       "      <td>1100000.0</td>\n",
       "    </tr>\n",
       "    <tr>\n",
       "      <th>33 EDUCATIONAL FACILITIES</th>\n",
       "      <td>825000.0</td>\n",
       "    </tr>\n",
       "    <tr>\n",
       "      <th>35 INDOOR PUBLIC AND CULTURAL FACILITIES</th>\n",
       "      <td>620000.0</td>\n",
       "    </tr>\n",
       "    <tr>\n",
       "      <th>37 RELIGIOUS FACILITIES</th>\n",
       "      <td>887500.0</td>\n",
       "    </tr>\n",
       "    <tr>\n",
       "      <th>38 ASYLUMS AND HOMES</th>\n",
       "      <td>2674416.0</td>\n",
       "    </tr>\n",
       "    <tr>\n",
       "      <th>41 TAX CLASS 4 - OTHER</th>\n",
       "      <td>950000.0</td>\n",
       "    </tr>\n",
       "    <tr>\n",
       "      <th>42 CONDO CULTURAL/MEDICAL/EDUCATIONAL/ETC</th>\n",
       "      <td>1536603.5</td>\n",
       "    </tr>\n",
       "    <tr>\n",
       "      <th>43 CONDO OFFICE BUILDINGS</th>\n",
       "      <td>1460598.5</td>\n",
       "    </tr>\n",
       "    <tr>\n",
       "      <th>44 CONDO PARKING</th>\n",
       "      <td>162920.0</td>\n",
       "    </tr>\n",
       "    <tr>\n",
       "      <th>45 CONDO HOTELS</th>\n",
       "      <td>295000.0</td>\n",
       "    </tr>\n",
       "    <tr>\n",
       "      <th>46 CONDO STORE BUILDINGS</th>\n",
       "      <td>1237500.0</td>\n",
       "    </tr>\n",
       "    <tr>\n",
       "      <th>47 CONDO NON-BUSINESS STORAGE</th>\n",
       "      <td>265488.0</td>\n",
       "    </tr>\n",
       "    <tr>\n",
       "      <th>48 CONDO TERRACES/GARDENS/CABANAS</th>\n",
       "      <td>717500.0</td>\n",
       "    </tr>\n",
       "  </tbody>\n",
       "</table>\n",
       "</div>"
      ],
      "text/plain": [
       "                                              SALE PRICE\n",
       "BUILDING CLASS CATEGORY                                 \n",
       "01 ONE FAMILY DWELLINGS                         510000.0\n",
       "02 TWO FAMILY DWELLINGS                         664075.5\n",
       "03 THREE FAMILY DWELLINGS                       820000.0\n",
       "04 TAX CLASS 1 CONDOS                           420405.0\n",
       "05 TAX CLASS 1 VACANT LAND                      720000.0\n",
       "06 TAX CLASS 1 - OTHER                          500000.0\n",
       "07 RENTALS - WALKUP APARTMENTS                 1280000.0\n",
       "08 RENTALS - ELEVATOR APARTMENTS               3670000.0\n",
       "11A CONDO-RENTALS                               999000.0\n",
       "12 CONDOS - WALKUP APARTMENTS                   528000.0\n",
       "13 CONDOS - ELEVATOR APARTMENTS                 999999.0\n",
       "14 RENTALS - 4-10 UNIT                         1350000.0\n",
       "15 CONDOS - 2-10 UNIT RESIDENTIAL               830000.0\n",
       "16 CONDOS - 2-10 UNIT WITH COMMERCIAL UNIT     1398000.0\n",
       "21 OFFICE BUILDINGS                             941756.0\n",
       "22 STORE BUILDINGS                             1050000.0\n",
       "23 LOFT BUILDINGS                              2837500.0\n",
       "26 OTHER HOTELS                                1400000.0\n",
       "27 FACTORIES                                   1312500.0\n",
       "28 COMMERCIAL CONDOS                           1257919.0\n",
       "29 COMMERCIAL GARAGES                           850000.0\n",
       "30 WAREHOUSES                                  1611772.5\n",
       "31 COMMERCIAL VACANT LAND                       650000.0\n",
       "32 HOSPITAL AND HEALTH FACILITIES              1100000.0\n",
       "33 EDUCATIONAL FACILITIES                       825000.0\n",
       "35 INDOOR PUBLIC AND CULTURAL FACILITIES        620000.0\n",
       "37 RELIGIOUS FACILITIES                         887500.0\n",
       "38 ASYLUMS AND HOMES                           2674416.0\n",
       "41 TAX CLASS 4 - OTHER                          950000.0\n",
       "42 CONDO CULTURAL/MEDICAL/EDUCATIONAL/ETC      1536603.5\n",
       "43 CONDO OFFICE BUILDINGS                      1460598.5\n",
       "44 CONDO PARKING                                162920.0\n",
       "45 CONDO HOTELS                                 295000.0\n",
       "46 CONDO STORE BUILDINGS                       1237500.0\n",
       "47 CONDO NON-BUSINESS STORAGE                   265488.0\n",
       "48 CONDO TERRACES/GARDENS/CABANAS               717500.0"
      ]
     },
     "execution_count": 52,
     "metadata": {},
     "output_type": "execute_result"
    }
   ],
   "source": [
    "pivot=data.pivot_table(index='BUILDING CLASS CATEGORY', values='SALE PRICE', aggfunc=np.median)\n",
    "pivot"
   ]
  },
  {
   "cell_type": "code",
   "execution_count": 53,
   "metadata": {},
   "outputs": [
    {
     "data": {
      "text/plain": [
       "<matplotlib.axes._subplots.AxesSubplot at 0x7f2484efc668>"
      ]
     },
     "execution_count": 53,
     "metadata": {},
     "output_type": "execute_result"
    },
    {
     "data": {
      "image/png": "[encoded data removed]",
      "text/plain": [
       "<Figure size 432x288 with 1 Axes>"
      ]
     },
     "metadata": {
      "needs_background": "light"
     },
     "output_type": "display_data"
    }
   ],
   "source": [
    "pivot.plot(kind = 'bar',color = 'black')"
   ]
  },
  {
   "cell_type": "markdown",
   "metadata": {},
   "source": [
    "### DATA Pre-Processing"
   ]
  },
  {
   "cell_type": "code",
   "execution_count": 54,
   "metadata": {},
   "outputs": [],
   "source": [
    "del data['ADDRESS']\n",
    "del data['APARTMENT NUMBER']"
   ]
  },
  {
   "cell_type": "code",
   "execution_count": 55,
   "metadata": {},
   "outputs": [
    {
     "name": "stdout",
     "output_type": "stream",
     "text": [
      "<class 'pandas.core.frame.DataFrame'>\n",
      "Int64Index: 38342 entries, 3 to 84545\n",
      "Data columns (total 17 columns):\n",
      "BOROUGH                           38342 non-null category\n",
      "NEIGHBORHOOD                      38342 non-null object\n",
      "BUILDING CLASS CATEGORY           38342 non-null object\n",
      "TAX CLASS AT PRESENT              38342 non-null category\n",
      "BLOCK                             38342 non-null int64\n",
      "LOT                               38342 non-null int64\n",
      "BUILDING CLASS AT PRESENT         38342 non-null object\n",
      "ZIP CODE                          38342 non-null int64\n",
      "RESIDENTIAL UNITS                 38342 non-null int64\n",
      "COMMERCIAL UNITS                  38342 non-null int64\n",
      "TOTAL UNITS                       38342 non-null int64\n",
      "LAND SQUARE FEET                  38342 non-null float64\n",
      "GROSS SQUARE FEET                 38342 non-null float64\n",
      "YEAR BUILT                        38342 non-null int64\n",
      "TAX CLASS AT TIME OF SALE         38342 non-null category\n",
      "BUILDING CLASS AT TIME OF SALE    38342 non-null object\n",
      "SALE PRICE                        38342 non-null float64\n",
      "dtypes: category(3), float64(3), int64(7), object(4)\n",
      "memory usage: 5.7+ MB\n"
     ]
    }
   ],
   "source": [
    "data.info()"
   ]
  },
  {
   "cell_type": "code",
   "execution_count": 56,
   "metadata": {},
   "outputs": [
    {
     "data": {
      "text/plain": [
       "Index(['BLOCK', 'LOT', 'ZIP CODE', 'RESIDENTIAL UNITS', 'COMMERCIAL UNITS',\n",
       "       'TOTAL UNITS', 'LAND SQUARE FEET', 'GROSS SQUARE FEET', 'YEAR BUILT',\n",
       "       'SALE PRICE'],\n",
       "      dtype='object')"
      ]
     },
     "execution_count": 56,
     "metadata": {},
     "output_type": "execute_result"
    }
   ],
   "source": [
    "numeric_data.columns"
   ]
  },
  {
   "cell_type": "code",
   "execution_count": 57,
   "metadata": {},
   "outputs": [],
   "source": [
    "from scipy.stats import skew\n",
    "skewed = data[numeric_data.columns].apply(lambda x: skew(x.dropna().astype(float)))\n",
    "skewed = skewed[skewed > 0.75]\n",
    "skewed = skewed.index\n",
    "data[skewed] = np.log1p(data[skewed])"
   ]
  },
  {
   "cell_type": "code",
   "execution_count": 58,
   "metadata": {},
   "outputs": [
    {
     "data": {
      "text/html": [
       "<div>\n",
       "<style scoped>\n",
       "    .dataframe tbody tr th:only-of-type {\n",
       "        vertical-align: middle;\n",
       "    }\n",
       "\n",
       "    .dataframe tbody tr th {\n",
       "        vertical-align: top;\n",
       "    }\n",
       "\n",
       "    .dataframe thead th {\n",
       "        text-align: right;\n",
       "    }\n",
       "</style>\n",
       "<table border=\"1\" class=\"dataframe\">\n",
       "  <thead>\n",
       "    <tr style=\"text-align: right;\">\n",
       "      <th></th>\n",
       "      <th>BLOCK</th>\n",
       "      <th>LOT</th>\n",
       "      <th>RESIDENTIAL UNITS</th>\n",
       "      <th>COMMERCIAL UNITS</th>\n",
       "      <th>TOTAL UNITS</th>\n",
       "      <th>SALE PRICE</th>\n",
       "    </tr>\n",
       "  </thead>\n",
       "  <tbody>\n",
       "    <tr>\n",
       "      <th>3</th>\n",
       "      <td>5.998937</td>\n",
       "      <td>3.091042</td>\n",
       "      <td>2.397895</td>\n",
       "      <td>0.0</td>\n",
       "      <td>2.397895</td>\n",
       "      <td>15.185745</td>\n",
       "    </tr>\n",
       "    <tr>\n",
       "      <th>6</th>\n",
       "      <td>6.008813</td>\n",
       "      <td>3.496508</td>\n",
       "      <td>2.197225</td>\n",
       "      <td>0.0</td>\n",
       "      <td>2.197225</td>\n",
       "      <td>14.976422</td>\n",
       "    </tr>\n",
       "    <tr>\n",
       "      <th>76</th>\n",
       "      <td>5.958425</td>\n",
       "      <td>6.910751</td>\n",
       "      <td>0.693147</td>\n",
       "      <td>0.0</td>\n",
       "      <td>0.693147</td>\n",
       "      <td>13.337476</td>\n",
       "    </tr>\n",
       "    <tr>\n",
       "      <th>79</th>\n",
       "      <td>5.924256</td>\n",
       "      <td>6.911747</td>\n",
       "      <td>0.693147</td>\n",
       "      <td>0.0</td>\n",
       "      <td>0.693147</td>\n",
       "      <td>13.544581</td>\n",
       "    </tr>\n",
       "    <tr>\n",
       "      <th>80</th>\n",
       "      <td>5.924256</td>\n",
       "      <td>6.912743</td>\n",
       "      <td>0.693147</td>\n",
       "      <td>0.0</td>\n",
       "      <td>0.693147</td>\n",
       "      <td>13.557843</td>\n",
       "    </tr>\n",
       "  </tbody>\n",
       "</table>\n",
       "</div>"
      ],
      "text/plain": [
       "       BLOCK       LOT  RESIDENTIAL UNITS  COMMERCIAL UNITS  TOTAL UNITS  \\\n",
       "3   5.998937  3.091042           2.397895               0.0     2.397895   \n",
       "6   6.008813  3.496508           2.197225               0.0     2.197225   \n",
       "76  5.958425  6.910751           0.693147               0.0     0.693147   \n",
       "79  5.924256  6.911747           0.693147               0.0     0.693147   \n",
       "80  5.924256  6.912743           0.693147               0.0     0.693147   \n",
       "\n",
       "    SALE PRICE  \n",
       "3    15.185745  \n",
       "6    14.976422  \n",
       "76   13.337476  \n",
       "79   13.544581  \n",
       "80   13.557843  "
      ]
     },
     "execution_count": 58,
     "metadata": {},
     "output_type": "execute_result"
    }
   ],
   "source": [
    "data[skewed].head()"
   ]
  },
  {
   "cell_type": "code",
   "execution_count": 59,
   "metadata": {},
   "outputs": [
    {
     "data": {
      "text/html": [
       "<div>\n",
       "<style scoped>\n",
       "    .dataframe tbody tr th:only-of-type {\n",
       "        vertical-align: middle;\n",
       "    }\n",
       "\n",
       "    .dataframe tbody tr th {\n",
       "        vertical-align: top;\n",
       "    }\n",
       "\n",
       "    .dataframe thead th {\n",
       "        text-align: right;\n",
       "    }\n",
       "</style>\n",
       "<table border=\"1\" class=\"dataframe\">\n",
       "  <thead>\n",
       "    <tr style=\"text-align: right;\">\n",
       "      <th></th>\n",
       "      <th>BOROUGH</th>\n",
       "      <th>NEIGHBORHOOD</th>\n",
       "      <th>BUILDING CLASS CATEGORY</th>\n",
       "      <th>TAX CLASS AT PRESENT</th>\n",
       "      <th>BLOCK</th>\n",
       "      <th>LOT</th>\n",
       "      <th>BUILDING CLASS AT PRESENT</th>\n",
       "      <th>ZIP CODE</th>\n",
       "      <th>RESIDENTIAL UNITS</th>\n",
       "      <th>COMMERCIAL UNITS</th>\n",
       "      <th>TOTAL UNITS</th>\n",
       "      <th>LAND SQUARE FEET</th>\n",
       "      <th>GROSS SQUARE FEET</th>\n",
       "      <th>YEAR BUILT</th>\n",
       "      <th>TAX CLASS AT TIME OF SALE</th>\n",
       "      <th>BUILDING CLASS AT TIME OF SALE</th>\n",
       "      <th>SALE PRICE</th>\n",
       "    </tr>\n",
       "  </thead>\n",
       "  <tbody>\n",
       "    <tr>\n",
       "      <th>3</th>\n",
       "      <td>1</td>\n",
       "      <td>ALPHABET CITY</td>\n",
       "      <td>07 RENTALS - WALKUP APARTMENTS</td>\n",
       "      <td>2B</td>\n",
       "      <td>-1.552838</td>\n",
       "      <td>-0.871424</td>\n",
       "      <td>C4</td>\n",
       "      <td>-1.442057</td>\n",
       "      <td>4.726583</td>\n",
       "      <td>-0.204406</td>\n",
       "      <td>4.897089</td>\n",
       "      <td>-0.332369</td>\n",
       "      <td>3.247655</td>\n",
       "      <td>0.176451</td>\n",
       "      <td>2</td>\n",
       "      <td>C4</td>\n",
       "      <td>2.478171</td>\n",
       "    </tr>\n",
       "    <tr>\n",
       "      <th>6</th>\n",
       "      <td>1</td>\n",
       "      <td>ALPHABET CITY</td>\n",
       "      <td>07 RENTALS - WALKUP APARTMENTS</td>\n",
       "      <td>2B</td>\n",
       "      <td>-1.545023</td>\n",
       "      <td>-0.654228</td>\n",
       "      <td>C4</td>\n",
       "      <td>-1.442057</td>\n",
       "      <td>4.109626</td>\n",
       "      <td>-0.204406</td>\n",
       "      <td>4.245205</td>\n",
       "      <td>-0.669316</td>\n",
       "      <td>1.421318</td>\n",
       "      <td>0.191071</td>\n",
       "      <td>2</td>\n",
       "      <td>C4</td>\n",
       "      <td>2.174164</td>\n",
       "    </tr>\n",
       "    <tr>\n",
       "      <th>76</th>\n",
       "      <td>1</td>\n",
       "      <td>ALPHABET CITY</td>\n",
       "      <td>12 CONDOS - WALKUP APARTMENTS</td>\n",
       "      <td>2</td>\n",
       "      <td>-1.584890</td>\n",
       "      <td>1.174680</td>\n",
       "      <td>R2</td>\n",
       "      <td>-1.442057</td>\n",
       "      <td>-0.514625</td>\n",
       "      <td>-0.204406</td>\n",
       "      <td>-0.640828</td>\n",
       "      <td>0.691653</td>\n",
       "      <td>1.183694</td>\n",
       "      <td>-3.818937</td>\n",
       "      <td>2</td>\n",
       "      <td>R2</td>\n",
       "      <td>-0.206132</td>\n",
       "    </tr>\n",
       "    <tr>\n",
       "      <th>79</th>\n",
       "      <td>1</td>\n",
       "      <td>ALPHABET CITY</td>\n",
       "      <td>13 CONDOS - ELEVATOR APARTMENTS</td>\n",
       "      <td>2</td>\n",
       "      <td>-1.611925</td>\n",
       "      <td>1.175214</td>\n",
       "      <td>R4</td>\n",
       "      <td>-1.442057</td>\n",
       "      <td>-0.514625</td>\n",
       "      <td>-0.204406</td>\n",
       "      <td>-0.640828</td>\n",
       "      <td>0.691653</td>\n",
       "      <td>1.183694</td>\n",
       "      <td>0.191071</td>\n",
       "      <td>2</td>\n",
       "      <td>R4</td>\n",
       "      <td>0.094653</td>\n",
       "    </tr>\n",
       "    <tr>\n",
       "      <th>80</th>\n",
       "      <td>1</td>\n",
       "      <td>ALPHABET CITY</td>\n",
       "      <td>13 CONDOS - ELEVATOR APARTMENTS</td>\n",
       "      <td>2</td>\n",
       "      <td>-1.611925</td>\n",
       "      <td>1.175747</td>\n",
       "      <td>R4</td>\n",
       "      <td>-1.442057</td>\n",
       "      <td>-0.514625</td>\n",
       "      <td>-0.204406</td>\n",
       "      <td>-0.640828</td>\n",
       "      <td>0.691653</td>\n",
       "      <td>1.183694</td>\n",
       "      <td>0.191071</td>\n",
       "      <td>2</td>\n",
       "      <td>R4</td>\n",
       "      <td>0.113914</td>\n",
       "    </tr>\n",
       "  </tbody>\n",
       "</table>\n",
       "</div>"
      ],
      "text/plain": [
       "   BOROUGH   NEIGHBORHOOD                      BUILDING CLASS CATEGORY  \\\n",
       "3        1  ALPHABET CITY  07 RENTALS - WALKUP APARTMENTS                \n",
       "6        1  ALPHABET CITY  07 RENTALS - WALKUP APARTMENTS                \n",
       "76       1  ALPHABET CITY  12 CONDOS - WALKUP APARTMENTS                 \n",
       "79       1  ALPHABET CITY  13 CONDOS - ELEVATOR APARTMENTS               \n",
       "80       1  ALPHABET CITY  13 CONDOS - ELEVATOR APARTMENTS               \n",
       "\n",
       "   TAX CLASS AT PRESENT     BLOCK       LOT BUILDING CLASS AT PRESENT  \\\n",
       "3                    2B -1.552838 -0.871424                        C4   \n",
       "6                    2B -1.545023 -0.654228                        C4   \n",
       "76                    2 -1.584890  1.174680                        R2   \n",
       "79                    2 -1.611925  1.175214                        R4   \n",
       "80                    2 -1.611925  1.175747                        R4   \n",
       "\n",
       "    ZIP CODE  RESIDENTIAL UNITS  COMMERCIAL UNITS  TOTAL UNITS  \\\n",
       "3  -1.442057           4.726583         -0.204406     4.897089   \n",
       "6  -1.442057           4.109626         -0.204406     4.245205   \n",
       "76 -1.442057          -0.514625         -0.204406    -0.640828   \n",
       "79 -1.442057          -0.514625         -0.204406    -0.640828   \n",
       "80 -1.442057          -0.514625         -0.204406    -0.640828   \n",
       "\n",
       "    LAND SQUARE FEET  GROSS SQUARE FEET  YEAR BUILT TAX CLASS AT TIME OF SALE  \\\n",
       "3          -0.332369           3.247655    0.176451                         2   \n",
       "6          -0.669316           1.421318    0.191071                         2   \n",
       "76          0.691653           1.183694   -3.818937                         2   \n",
       "79          0.691653           1.183694    0.191071                         2   \n",
       "80          0.691653           1.183694    0.191071                         2   \n",
       "\n",
       "   BUILDING CLASS AT TIME OF SALE  SALE PRICE  \n",
       "3                              C4    2.478171  \n",
       "6                              C4    2.174164  \n",
       "76                             R2   -0.206132  \n",
       "79                             R4    0.094653  \n",
       "80                             R4    0.113914  "
      ]
     },
     "execution_count": 59,
     "metadata": {},
     "output_type": "execute_result"
    }
   ],
   "source": [
    "from sklearn.preprocessing import StandardScaler\n",
    "scalar = StandardScaler()\n",
    "scalar.fit(data[numeric_data.columns])\n",
    "scalar = scalar.transform(data[numeric_data.columns])\n",
    "for i, col in enumerate(numeric_data.columns):\n",
    "       data[col] = scalar[:,i]\n",
    "data.head()"
   ]
  },
  {
   "cell_type": "code",
   "execution_count": 60,
   "metadata": {},
   "outputs": [],
   "source": [
    "del data['BUILDING CLASS AT PRESENT']\n",
    "del data['BUILDING CLASS AT TIME OF SALE']\n",
    "del data['NEIGHBORHOOD']"
   ]
  },
  {
   "cell_type": "code",
   "execution_count": 61,
   "metadata": {},
   "outputs": [],
   "source": [
    "one_hot_features = ['BOROUGH', 'BUILDING CLASS CATEGORY','TAX CLASS AT PRESENT','TAX CLASS AT TIME OF SALE']"
   ]
  },
  {
   "cell_type": "code",
   "execution_count": 62,
   "metadata": {},
   "outputs": [
    {
     "name": "stdout",
     "output_type": "stream",
     "text": [
      "<class 'pandas.core.frame.DataFrame'>\n",
      "Int64Index: 38342 entries, 3 to 84545\n",
      "Data columns (total 56 columns):\n",
      "BOROUGH_1                                                               38342 non-null uint8\n",
      "BOROUGH_2                                                               38342 non-null uint8\n",
      "BOROUGH_3                                                               38342 non-null uint8\n",
      "BOROUGH_4                                                               38342 non-null uint8\n",
      "BOROUGH_5                                                               38342 non-null uint8\n",
      "BUILDING CLASS CATEGORY_01 ONE FAMILY DWELLINGS                         38342 non-null uint8\n",
      "BUILDING CLASS CATEGORY_02 TWO FAMILY DWELLINGS                         38342 non-null uint8\n",
      "BUILDING CLASS CATEGORY_03 THREE FAMILY DWELLINGS                       38342 non-null uint8\n",
      "BUILDING CLASS CATEGORY_04 TAX CLASS 1 CONDOS                           38342 non-null uint8\n",
      "BUILDING CLASS CATEGORY_05 TAX CLASS 1 VACANT LAND                      38342 non-null uint8\n",
      "BUILDING CLASS CATEGORY_06 TAX CLASS 1 - OTHER                          38342 non-null uint8\n",
      "BUILDING CLASS CATEGORY_07 RENTALS - WALKUP APARTMENTS                  38342 non-null uint8\n",
      "BUILDING CLASS CATEGORY_08 RENTALS - ELEVATOR APARTMENTS                38342 non-null uint8\n",
      "BUILDING CLASS CATEGORY_11A CONDO-RENTALS                               38342 non-null uint8\n",
      "BUILDING CLASS CATEGORY_12 CONDOS - WALKUP APARTMENTS                   38342 non-null uint8\n",
      "BUILDING CLASS CATEGORY_13 CONDOS - ELEVATOR APARTMENTS                 38342 non-null uint8\n",
      "BUILDING CLASS CATEGORY_14 RENTALS - 4-10 UNIT                          38342 non-null uint8\n",
      "BUILDING CLASS CATEGORY_15 CONDOS - 2-10 UNIT RESIDENTIAL               38342 non-null uint8\n",
      "BUILDING CLASS CATEGORY_16 CONDOS - 2-10 UNIT WITH COMMERCIAL UNIT      38342 non-null uint8\n",
      "BUILDING CLASS CATEGORY_21 OFFICE BUILDINGS                             38342 non-null uint8\n",
      "BUILDING CLASS CATEGORY_22 STORE BUILDINGS                              38342 non-null uint8\n",
      "BUILDING CLASS CATEGORY_23 LOFT BUILDINGS                               38342 non-null uint8\n",
      "BUILDING CLASS CATEGORY_26 OTHER HOTELS                                 38342 non-null uint8\n",
      "BUILDING CLASS CATEGORY_27 FACTORIES                                    38342 non-null uint8\n",
      "BUILDING CLASS CATEGORY_28 COMMERCIAL CONDOS                            38342 non-null uint8\n",
      "BUILDING CLASS CATEGORY_29 COMMERCIAL GARAGES                           38342 non-null uint8\n",
      "BUILDING CLASS CATEGORY_30 WAREHOUSES                                   38342 non-null uint8\n",
      "BUILDING CLASS CATEGORY_31 COMMERCIAL VACANT LAND                       38342 non-null uint8\n",
      "BUILDING CLASS CATEGORY_32 HOSPITAL AND HEALTH FACILITIES               38342 non-null uint8\n",
      "BUILDING CLASS CATEGORY_33 EDUCATIONAL FACILITIES                       38342 non-null uint8\n",
      "BUILDING CLASS CATEGORY_35 INDOOR PUBLIC AND CULTURAL FACILITIES        38342 non-null uint8\n",
      "BUILDING CLASS CATEGORY_37 RELIGIOUS FACILITIES                         38342 non-null uint8\n",
      "BUILDING CLASS CATEGORY_38 ASYLUMS AND HOMES                            38342 non-null uint8\n",
      "BUILDING CLASS CATEGORY_41 TAX CLASS 4 - OTHER                          38342 non-null uint8\n",
      "BUILDING CLASS CATEGORY_42 CONDO CULTURAL/MEDICAL/EDUCATIONAL/ETC       38342 non-null uint8\n",
      "BUILDING CLASS CATEGORY_43 CONDO OFFICE BUILDINGS                       38342 non-null uint8\n",
      "BUILDING CLASS CATEGORY_44 CONDO PARKING                                38342 non-null uint8\n",
      "BUILDING CLASS CATEGORY_45 CONDO HOTELS                                 38342 non-null uint8\n",
      "BUILDING CLASS CATEGORY_46 CONDO STORE BUILDINGS                        38342 non-null uint8\n",
      "BUILDING CLASS CATEGORY_47 CONDO NON-BUSINESS STORAGE                   38342 non-null uint8\n",
      "BUILDING CLASS CATEGORY_48 CONDO TERRACES/GARDENS/CABANAS               38342 non-null uint8\n",
      "TAX CLASS AT PRESENT_                                                   38342 non-null uint8\n",
      "TAX CLASS AT PRESENT_1                                                  38342 non-null uint8\n",
      "TAX CLASS AT PRESENT_1A                                                 38342 non-null uint8\n",
      "TAX CLASS AT PRESENT_1B                                                 38342 non-null uint8\n",
      "TAX CLASS AT PRESENT_1C                                                 38342 non-null uint8\n",
      "TAX CLASS AT PRESENT_2                                                  38342 non-null uint8\n",
      "TAX CLASS AT PRESENT_2A                                                 38342 non-null uint8\n",
      "TAX CLASS AT PRESENT_2B                                                 38342 non-null uint8\n",
      "TAX CLASS AT PRESENT_2C                                                 38342 non-null uint8\n",
      "TAX CLASS AT PRESENT_3                                                  38342 non-null uint8\n",
      "TAX CLASS AT PRESENT_4                                                  38342 non-null uint8\n",
      "TAX CLASS AT TIME OF SALE_1                                             38342 non-null uint8\n",
      "TAX CLASS AT TIME OF SALE_2                                             38342 non-null uint8\n",
      "TAX CLASS AT TIME OF SALE_3                                             38342 non-null uint8\n",
      "TAX CLASS AT TIME OF SALE_4                                             38342 non-null uint8\n",
      "dtypes: uint8(56)\n",
      "memory usage: 3.6 MB\n"
     ]
    }
   ],
   "source": [
    "one_hot_encoded = pd.get_dummies(data[one_hot_features])\n",
    "one_hot_encoded.info(verbose=True, memory_usage=True, null_counts=True)"
   ]
  },
  {
   "cell_type": "code",
   "execution_count": 63,
   "metadata": {},
   "outputs": [],
   "source": [
    "# Replacing categorical columns with dummies\n",
    "fdf = data.drop(one_hot_features,axis=1)\n",
    "fdf = pd.concat([fdf, one_hot_encoded] ,axis=1)"
   ]
  },
  {
   "cell_type": "code",
   "execution_count": 64,
   "metadata": {},
   "outputs": [
    {
     "name": "stdout",
     "output_type": "stream",
     "text": [
      "<class 'pandas.core.frame.DataFrame'>\n",
      "Int64Index: 38342 entries, 3 to 84545\n",
      "Data columns (total 66 columns):\n",
      "BLOCK                                                                   38342 non-null float64\n",
      "LOT                                                                     38342 non-null float64\n",
      "ZIP CODE                                                                38342 non-null float64\n",
      "RESIDENTIAL UNITS                                                       38342 non-null float64\n",
      "COMMERCIAL UNITS                                                        38342 non-null float64\n",
      "TOTAL UNITS                                                             38342 non-null float64\n",
      "LAND SQUARE FEET                                                        38342 non-null float64\n",
      "GROSS SQUARE FEET                                                       38342 non-null float64\n",
      "YEAR BUILT                                                              38342 non-null float64\n",
      "SALE PRICE                                                              38342 non-null float64\n",
      "BOROUGH_1                                                               38342 non-null uint8\n",
      "BOROUGH_2                                                               38342 non-null uint8\n",
      "BOROUGH_3                                                               38342 non-null uint8\n",
      "BOROUGH_4                                                               38342 non-null uint8\n",
      "BOROUGH_5                                                               38342 non-null uint8\n",
      "BUILDING CLASS CATEGORY_01 ONE FAMILY DWELLINGS                         38342 non-null uint8\n",
      "BUILDING CLASS CATEGORY_02 TWO FAMILY DWELLINGS                         38342 non-null uint8\n",
      "BUILDING CLASS CATEGORY_03 THREE FAMILY DWELLINGS                       38342 non-null uint8\n",
      "BUILDING CLASS CATEGORY_04 TAX CLASS 1 CONDOS                           38342 non-null uint8\n",
      "BUILDING CLASS CATEGORY_05 TAX CLASS 1 VACANT LAND                      38342 non-null uint8\n",
      "BUILDING CLASS CATEGORY_06 TAX CLASS 1 - OTHER                          38342 non-null uint8\n",
      "BUILDING CLASS CATEGORY_07 RENTALS - WALKUP APARTMENTS                  38342 non-null uint8\n",
      "BUILDING CLASS CATEGORY_08 RENTALS - ELEVATOR APARTMENTS                38342 non-null uint8\n",
      "BUILDING CLASS CATEGORY_11A CONDO-RENTALS                               38342 non-null uint8\n",
      "BUILDING CLASS CATEGORY_12 CONDOS - WALKUP APARTMENTS                   38342 non-null uint8\n",
      "BUILDING CLASS CATEGORY_13 CONDOS - ELEVATOR APARTMENTS                 38342 non-null uint8\n",
      "BUILDING CLASS CATEGORY_14 RENTALS - 4-10 UNIT                          38342 non-null uint8\n",
      "BUILDING CLASS CATEGORY_15 CONDOS - 2-10 UNIT RESIDENTIAL               38342 non-null uint8\n",
      "BUILDING CLASS CATEGORY_16 CONDOS - 2-10 UNIT WITH COMMERCIAL UNIT      38342 non-null uint8\n",
      "BUILDING CLASS CATEGORY_21 OFFICE BUILDINGS                             38342 non-null uint8\n",
      "BUILDING CLASS CATEGORY_22 STORE BUILDINGS                              38342 non-null uint8\n",
      "BUILDING CLASS CATEGORY_23 LOFT BUILDINGS                               38342 non-null uint8\n",
      "BUILDING CLASS CATEGORY_26 OTHER HOTELS                                 38342 non-null uint8\n",
      "BUILDING CLASS CATEGORY_27 FACTORIES                                    38342 non-null uint8\n",
      "BUILDING CLASS CATEGORY_28 COMMERCIAL CONDOS                            38342 non-null uint8\n",
      "BUILDING CLASS CATEGORY_29 COMMERCIAL GARAGES                           38342 non-null uint8\n",
      "BUILDING CLASS CATEGORY_30 WAREHOUSES                                   38342 non-null uint8\n",
      "BUILDING CLASS CATEGORY_31 COMMERCIAL VACANT LAND                       38342 non-null uint8\n",
      "BUILDING CLASS CATEGORY_32 HOSPITAL AND HEALTH FACILITIES               38342 non-null uint8\n",
      "BUILDING CLASS CATEGORY_33 EDUCATIONAL FACILITIES                       38342 non-null uint8\n",
      "BUILDING CLASS CATEGORY_35 INDOOR PUBLIC AND CULTURAL FACILITIES        38342 non-null uint8\n",
      "BUILDING CLASS CATEGORY_37 RELIGIOUS FACILITIES                         38342 non-null uint8\n",
      "BUILDING CLASS CATEGORY_38 ASYLUMS AND HOMES                            38342 non-null uint8\n",
      "BUILDING CLASS CATEGORY_41 TAX CLASS 4 - OTHER                          38342 non-null uint8\n",
      "BUILDING CLASS CATEGORY_42 CONDO CULTURAL/MEDICAL/EDUCATIONAL/ETC       38342 non-null uint8\n",
      "BUILDING CLASS CATEGORY_43 CONDO OFFICE BUILDINGS                       38342 non-null uint8\n",
      "BUILDING CLASS CATEGORY_44 CONDO PARKING                                38342 non-null uint8\n",
      "BUILDING CLASS CATEGORY_45 CONDO HOTELS                                 38342 non-null uint8\n",
      "BUILDING CLASS CATEGORY_46 CONDO STORE BUILDINGS                        38342 non-null uint8\n",
      "BUILDING CLASS CATEGORY_47 CONDO NON-BUSINESS STORAGE                   38342 non-null uint8\n",
      "BUILDING CLASS CATEGORY_48 CONDO TERRACES/GARDENS/CABANAS               38342 non-null uint8\n",
      "TAX CLASS AT PRESENT_                                                   38342 non-null uint8\n",
      "TAX CLASS AT PRESENT_1                                                  38342 non-null uint8\n",
      "TAX CLASS AT PRESENT_1A                                                 38342 non-null uint8\n",
      "TAX CLASS AT PRESENT_1B                                                 38342 non-null uint8\n",
      "TAX CLASS AT PRESENT_1C                                                 38342 non-null uint8\n",
      "TAX CLASS AT PRESENT_2                                                  38342 non-null uint8\n",
      "TAX CLASS AT PRESENT_2A                                                 38342 non-null uint8\n",
      "TAX CLASS AT PRESENT_2B                                                 38342 non-null uint8\n",
      "TAX CLASS AT PRESENT_2C                                                 38342 non-null uint8\n",
      "TAX CLASS AT PRESENT_3                                                  38342 non-null uint8\n",
      "TAX CLASS AT PRESENT_4                                                  38342 non-null uint8\n",
      "TAX CLASS AT TIME OF SALE_1                                             38342 non-null uint8\n",
      "TAX CLASS AT TIME OF SALE_2                                             38342 non-null uint8\n",
      "TAX CLASS AT TIME OF SALE_3                                             38342 non-null uint8\n",
      "TAX CLASS AT TIME OF SALE_4                                             38342 non-null uint8\n",
      "dtypes: float64(10), uint8(56)\n",
      "memory usage: 6.5 MB\n"
     ]
    }
   ],
   "source": [
    "fdf.info()"
   ]
  },
  {
   "cell_type": "code",
   "execution_count": 65,
   "metadata": {},
   "outputs": [
    {
     "data": {
      "text/plain": [
       "((38342, 65), (38342,))"
      ]
     },
     "execution_count": 65,
     "metadata": {},
     "output_type": "execute_result"
    }
   ],
   "source": [
    "Y_fdf = fdf['SALE PRICE']\n",
    "X_fdf = fdf.drop('SALE PRICE', axis=1)\n",
    "\n",
    "X_fdf.shape , Y_fdf.shape"
   ]
  },
  {
   "cell_type": "code",
   "execution_count": 66,
   "metadata": {},
   "outputs": [
    {
     "data": {
      "text/plain": [
       "((28756, 65), (28756,))"
      ]
     },
     "execution_count": 66,
     "metadata": {},
     "output_type": "execute_result"
    }
   ],
   "source": [
    "from sklearn.model_selection import train_test_split \n",
    "X_train ,X_test, Y_train , Y_test = train_test_split(X_fdf , Y_fdf , test_size = 0.25 , random_state =42)\n",
    "X_train.shape , Y_train.shape"
   ]
  },
  {
   "cell_type": "code",
   "execution_count": 67,
   "metadata": {},
   "outputs": [
    {
     "data": {
      "text/plain": [
       "((9586, 65), (9586,))"
      ]
     },
     "execution_count": 67,
     "metadata": {},
     "output_type": "execute_result"
    }
   ],
   "source": [
    "X_test.shape , Y_test.shape"
   ]
  },
  {
   "cell_type": "markdown",
   "metadata": {},
   "source": [
    "## Modelling"
   ]
  },
  {
   "cell_type": "code",
   "execution_count": 68,
   "metadata": {},
   "outputs": [],
   "source": [
    "from sklearn.metrics import mean_squared_error\n",
    "def rmse(y_test,y_pred):\n",
    "      return np.sqrt(mean_squared_error(y_test,y_pred))"
   ]
  },
  {
   "cell_type": "code",
   "execution_count": 69,
   "metadata": {},
   "outputs": [
    {
     "data": {
      "text/plain": [
       "0.7515420457026667"
      ]
     },
     "execution_count": 69,
     "metadata": {},
     "output_type": "execute_result"
    }
   ],
   "source": [
    "from sklearn.linear_model import LinearRegression \n",
    "linreg = LinearRegression()\n",
    "linreg.fit(X_train, Y_train)\n",
    "Y_pred_lin = linreg.predict(X_test)\n",
    "rmse(Y_test,Y_pred_lin)\n"
   ]
  },
  {
   "cell_type": "code",
   "execution_count": 70,
   "metadata": {},
   "outputs": [
    {
     "data": {
      "text/plain": [
       "0.7519428209414748"
      ]
     },
     "execution_count": 70,
     "metadata": {},
     "output_type": "execute_result"
    }
   ],
   "source": [
    "from sklearn.linear_model import Lasso\n",
    "alpha=0.00099\n",
    "lasso_regr=Lasso(alpha=alpha,max_iter=50000)\n",
    "lasso_regr.fit(X_train, Y_train)\n",
    "Y_pred_lasso=lasso_regr.predict(X_test)\n",
    "rmse(Y_test,Y_pred_lasso)"
   ]
  },
  {
   "cell_type": "code",
   "execution_count": 71,
   "metadata": {},
   "outputs": [
    {
     "data": {
      "text/plain": [
       "0.7513927776667827"
      ]
     },
     "execution_count": 71,
     "metadata": {},
     "output_type": "execute_result"
    }
   ],
   "source": [
    "from sklearn.linear_model import Ridge\n",
    "ridge = Ridge(alpha=0.01, normalize=True)\n",
    "ridge.fit(X_train, Y_train)\n",
    "Y_pred_ridge = ridge.predict(X_test)\n",
    "rmse(Y_test,Y_pred_ridge)"
   ]
  },
  {
   "cell_type": "code",
   "execution_count": 72,
   "metadata": {},
   "outputs": [
    {
     "data": {
      "text/plain": [
       "0.5851936763910621"
      ]
     },
     "execution_count": 72,
     "metadata": {},
     "output_type": "execute_result"
    }
   ],
   "source": [
    "from sklearn.ensemble import RandomForestRegressor\n",
    "rf_regr = RandomForestRegressor()\n",
    "rf_regr.fit(X_train, Y_train)\n",
    "Y_pred_rf = rf_regr.predict(X_test)\n",
    "rmse(Y_test,Y_pred_rf)"
   ]
  },
  {
   "cell_type": "markdown",
   "metadata": {},
   "source": [
    "We can see that Random Forest Regressor works best for this dataset with RSME score of 0.588"
   ]
  },
  {
   "cell_type": "code",
   "execution_count": null,
   "metadata": {},
   "outputs": [],
   "source": []
  },
  {
   "cell_type": "code",
   "execution_count": null,
   "metadata": {},
   "outputs": [],
   "source": []
  }
 ],
 "metadata": {
  "kernelspec": {
   "display_name": "Python 3",
   "language": "python",
   "name": "python3"
  },
  "language_info": {
   "codemirror_mode": {
    "name": "ipython",
    "version": 3
   },
   "file_extension": ".py",
   "mimetype": "text/x-python",
   "name": "python",
   "nbconvert_exporter": "python",
   "pygments_lexer": "ipython3",
   "version": "3.6.6"
  }
 },
 "nbformat": 4,
 "nbformat_minor": 1
}
