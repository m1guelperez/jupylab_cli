{
 "cells": [
  {
   "cell_type": "markdown",
   "metadata": {
    "_cell_guid": "bdf9766a-03e6-4b0d-1c54-b61ed65b8056"
   },
   "source": [
    "**Exploring Data**"
   ]
  },
  {
   "cell_type": "code",
   "execution_count": 1,
   "metadata": {
    "_cell_guid": "44270c75-3766-a543-a198-9dde8b53bfd7"
   },
   "outputs": [
    {
     "name": "stdout",
     "output_type": "stream",
     "text": [
      "images_sample\n",
      "sample_submission.csv\n",
      "test.json\n",
      "train.json\n",
      "\n"
     ]
    }
   ],
   "source": [
    "import numpy as np # linear algebra\n",
    "import pandas as pd # data processing, CSV file I/O (e.g. pd.read_csv)\n",
    "from subprocess import check_output\n",
    "from sklearn.discriminant_analysis import LinearDiscriminantAnalysis\n",
    "from sklearn.ensemble import RandomForestClassifier, AdaBoostClassifier, GradientBoostingClassifier, VotingClassifier\n",
    "from sklearn.model_selection import train_test_split\n",
    "from sklearn.metrics import log_loss\n",
    "print(check_output([\"ls\", \"../input\"]).decode(\"utf8\"))"
   ]
  },
  {
   "cell_type": "code",
   "execution_count": 2,
   "metadata": {
    "_cell_guid": "d661f0ce-eec0-03f6-d0e1-3b59062cc21e"
   },
   "outputs": [
    {
     "data": {
      "text/html": [
       "<div>\n",
       "<table border=\"1\" class=\"dataframe\">\n",
       "  <thead>\n",
       "    <tr style=\"text-align: right;\">\n",
       "      <th></th>\n",
       "      <th>listing_id</th>\n",
       "      <th>high</th>\n",
       "      <th>medium</th>\n",
       "      <th>low</th>\n",
       "    </tr>\n",
       "  </thead>\n",
       "  <tbody>\n",
       "    <tr>\n",
       "      <th>0</th>\n",
       "      <td>7142618</td>\n",
       "      <td>0.077788</td>\n",
       "      <td>0.227529</td>\n",
       "      <td>0.694683</td>\n",
       "    </tr>\n",
       "    <tr>\n",
       "      <th>1</th>\n",
       "      <td>7210040</td>\n",
       "      <td>0.077788</td>\n",
       "      <td>0.227529</td>\n",
       "      <td>0.694683</td>\n",
       "    </tr>\n",
       "    <tr>\n",
       "      <th>2</th>\n",
       "      <td>7174566</td>\n",
       "      <td>0.077788</td>\n",
       "      <td>0.227529</td>\n",
       "      <td>0.694683</td>\n",
       "    </tr>\n",
       "    <tr>\n",
       "      <th>3</th>\n",
       "      <td>7191391</td>\n",
       "      <td>0.077788</td>\n",
       "      <td>0.227529</td>\n",
       "      <td>0.694683</td>\n",
       "    </tr>\n",
       "    <tr>\n",
       "      <th>4</th>\n",
       "      <td>7171695</td>\n",
       "      <td>0.077788</td>\n",
       "      <td>0.227529</td>\n",
       "      <td>0.694683</td>\n",
       "    </tr>\n",
       "  </tbody>\n",
       "</table>\n",
       "</div>"
      ],
      "text/plain": [
       "   listing_id      high    medium       low\n",
       "0     7142618  0.077788  0.227529  0.694683\n",
       "1     7210040  0.077788  0.227529  0.694683\n",
       "2     7174566  0.077788  0.227529  0.694683\n",
       "3     7191391  0.077788  0.227529  0.694683\n",
       "4     7171695  0.077788  0.227529  0.694683"
      ]
     },
     "execution_count": 2,
     "metadata": {},
     "output_type": "execute_result"
    }
   ],
   "source": [
    "sub = pd.read_csv('../input/sample_submission.csv')\n",
    "sub.head()"
   ]
  },
  {
   "cell_type": "code",
   "execution_count": 3,
   "metadata": {
    "_cell_guid": "8f60daf2-970e-f042-b25d-0ebb2f3b8d82"
   },
   "outputs": [
    {
     "data": {
      "text/html": [
       "<div>\n",
       "<table border=\"1\" class=\"dataframe\">\n",
       "  <thead>\n",
       "    <tr style=\"text-align: right;\">\n",
       "      <th></th>\n",
       "      <th>bathrooms</th>\n",
       "      <th>bedrooms</th>\n",
       "      <th>building_id</th>\n",
       "      <th>created</th>\n",
       "      <th>description</th>\n",
       "      <th>display_address</th>\n",
       "      <th>features</th>\n",
       "      <th>interest_level</th>\n",
       "      <th>latitude</th>\n",
       "      <th>listing_id</th>\n",
       "      <th>longitude</th>\n",
       "      <th>manager_id</th>\n",
       "      <th>photos</th>\n",
       "      <th>price</th>\n",
       "      <th>street_address</th>\n",
       "    </tr>\n",
       "  </thead>\n",
       "  <tbody>\n",
       "    <tr>\n",
       "      <th>9999</th>\n",
       "      <td>1.0</td>\n",
       "      <td>2</td>\n",
       "      <td>297160caf8a88c10718b492d4672c6b4</td>\n",
       "      <td>2016-06-02 05:41:05</td>\n",
       "      <td>30TH/3RD, MASSIVE CONV 2BR IN LUXURY FULL SERV...</td>\n",
       "      <td>E 30 St</td>\n",
       "      <td>[Elevator, Laundry in Building, Laundry in Uni...</td>\n",
       "      <td>medium</td>\n",
       "      <td>40.7426</td>\n",
       "      <td>7098690</td>\n",
       "      <td>-73.9790</td>\n",
       "      <td>2a1ee03b449700c3a15dd8c9a505c525</td>\n",
       "      <td>[https://photos.renthop.com/2/7098690_18396d32...</td>\n",
       "      <td>3200</td>\n",
       "      <td>230 E 30 St</td>\n",
       "    </tr>\n",
       "    <tr>\n",
       "      <th>99991</th>\n",
       "      <td>1.0</td>\n",
       "      <td>1</td>\n",
       "      <td>9e871ccfea7b07686c101548ca693af6</td>\n",
       "      <td>2016-04-04 18:22:34</td>\n",
       "      <td>HIGH END condo finishes, swimming pool, and ki...</td>\n",
       "      <td>Rector Pl</td>\n",
       "      <td>[Common Outdoor Space, Cats Allowed, Dogs Allo...</td>\n",
       "      <td>low</td>\n",
       "      <td>40.7102</td>\n",
       "      <td>6822449</td>\n",
       "      <td>-74.0163</td>\n",
       "      <td>ef20d40b528500037e37b167787ac089</td>\n",
       "      <td>[https://photos.renthop.com/2/6822449_b429587b...</td>\n",
       "      <td>3950</td>\n",
       "      <td>225 Rector Place</td>\n",
       "    </tr>\n",
       "    <tr>\n",
       "      <th>99992</th>\n",
       "      <td>1.0</td>\n",
       "      <td>1</td>\n",
       "      <td>7967a1280bf3f7644500fc79d2696b0e</td>\n",
       "      <td>2016-04-16 02:13:40</td>\n",
       "      <td>Large Renovated One Bedroom Apartment with Sta...</td>\n",
       "      <td>West 45th Street</td>\n",
       "      <td>[Doorman, Elevator, Pre-War, Dogs Allowed, Cat...</td>\n",
       "      <td>low</td>\n",
       "      <td>40.7601</td>\n",
       "      <td>6881461</td>\n",
       "      <td>-73.9900</td>\n",
       "      <td>d889a9552265fe359e7d36d172084fcb</td>\n",
       "      <td>[https://photos.renthop.com/2/6881461_20a86530...</td>\n",
       "      <td>2595</td>\n",
       "      <td>341 West 45th Street</td>\n",
       "    </tr>\n",
       "    <tr>\n",
       "      <th>99993</th>\n",
       "      <td>1.0</td>\n",
       "      <td>0</td>\n",
       "      <td>ad67f6181a49bde19218929b401b31b7</td>\n",
       "      <td>2016-04-08 02:13:33</td>\n",
       "      <td>Stylishly sleek studio apartment with unsurpas...</td>\n",
       "      <td>Wall Street</td>\n",
       "      <td>[Doorman, Elevator, Pre-War, Dogs Allowed, Cat...</td>\n",
       "      <td>low</td>\n",
       "      <td>40.7066</td>\n",
       "      <td>6841891</td>\n",
       "      <td>-74.0101</td>\n",
       "      <td>9fd3af5b2d23951e028059e8940a55d7</td>\n",
       "      <td>[https://photos.renthop.com/2/6841891_124c9c44...</td>\n",
       "      <td>3350</td>\n",
       "      <td>37 Wall Street</td>\n",
       "    </tr>\n",
       "    <tr>\n",
       "      <th>99994</th>\n",
       "      <td>1.0</td>\n",
       "      <td>2</td>\n",
       "      <td>5173052db6efc0caaa4d817112a70f32</td>\n",
       "      <td>2016-04-12 02:48:07</td>\n",
       "      <td>Look no further!!!  This giant 2 bedroom apart...</td>\n",
       "      <td>Park Terrace East</td>\n",
       "      <td>[Hardwood Floors]</td>\n",
       "      <td>low</td>\n",
       "      <td>40.8699</td>\n",
       "      <td>6858245</td>\n",
       "      <td>-73.9172</td>\n",
       "      <td>d7f57128272bfd82e33a61999b5f4c42</td>\n",
       "      <td>[https://photos.renthop.com/2/6858245_c4380bde...</td>\n",
       "      <td>2200</td>\n",
       "      <td>30 Park Terrace East</td>\n",
       "    </tr>\n",
       "  </tbody>\n",
       "</table>\n",
       "</div>"
      ],
      "text/plain": [
       "       bathrooms  bedrooms                       building_id  \\\n",
       "9999         1.0         2  297160caf8a88c10718b492d4672c6b4   \n",
       "99991        1.0         1  9e871ccfea7b07686c101548ca693af6   \n",
       "99992        1.0         1  7967a1280bf3f7644500fc79d2696b0e   \n",
       "99993        1.0         0  ad67f6181a49bde19218929b401b31b7   \n",
       "99994        1.0         2  5173052db6efc0caaa4d817112a70f32   \n",
       "\n",
       "                   created                                        description  \\\n",
       "9999   2016-06-02 05:41:05  30TH/3RD, MASSIVE CONV 2BR IN LUXURY FULL SERV...   \n",
       "99991  2016-04-04 18:22:34  HIGH END condo finishes, swimming pool, and ki...   \n",
       "99992  2016-04-16 02:13:40  Large Renovated One Bedroom Apartment with Sta...   \n",
       "99993  2016-04-08 02:13:33  Stylishly sleek studio apartment with unsurpas...   \n",
       "99994  2016-04-12 02:48:07  Look no further!!!  This giant 2 bedroom apart...   \n",
       "\n",
       "         display_address                                           features  \\\n",
       "9999             E 30 St  [Elevator, Laundry in Building, Laundry in Uni...   \n",
       "99991          Rector Pl  [Common Outdoor Space, Cats Allowed, Dogs Allo...   \n",
       "99992   West 45th Street  [Doorman, Elevator, Pre-War, Dogs Allowed, Cat...   \n",
       "99993        Wall Street  [Doorman, Elevator, Pre-War, Dogs Allowed, Cat...   \n",
       "99994  Park Terrace East                                  [Hardwood Floors]   \n",
       "\n",
       "      interest_level  latitude  listing_id  longitude  \\\n",
       "9999          medium   40.7426     7098690   -73.9790   \n",
       "99991            low   40.7102     6822449   -74.0163   \n",
       "99992            low   40.7601     6881461   -73.9900   \n",
       "99993            low   40.7066     6841891   -74.0101   \n",
       "99994            low   40.8699     6858245   -73.9172   \n",
       "\n",
       "                             manager_id  \\\n",
       "9999   2a1ee03b449700c3a15dd8c9a505c525   \n",
       "99991  ef20d40b528500037e37b167787ac089   \n",
       "99992  d889a9552265fe359e7d36d172084fcb   \n",
       "99993  9fd3af5b2d23951e028059e8940a55d7   \n",
       "99994  d7f57128272bfd82e33a61999b5f4c42   \n",
       "\n",
       "                                                  photos  price  \\\n",
       "9999   [https://photos.renthop.com/2/7098690_18396d32...   3200   \n",
       "99991  [https://photos.renthop.com/2/6822449_b429587b...   3950   \n",
       "99992  [https://photos.renthop.com/2/6881461_20a86530...   2595   \n",
       "99993  [https://photos.renthop.com/2/6841891_124c9c44...   3350   \n",
       "99994  [https://photos.renthop.com/2/6858245_c4380bde...   2200   \n",
       "\n",
       "             street_address  \n",
       "9999            230 E 30 St  \n",
       "99991      225 Rector Place  \n",
       "99992  341 West 45th Street  \n",
       "99993        37 Wall Street  \n",
       "99994  30 Park Terrace East  "
      ]
     },
     "execution_count": 3,
     "metadata": {},
     "output_type": "execute_result"
    }
   ],
   "source": [
    "df = pd.read_json('../input/train.json')\n",
    "df.tail()"
   ]
  },
  {
   "cell_type": "code",
   "execution_count": 4,
   "metadata": {
    "_cell_guid": "6f2ade16-d5ef-6d34-e764-e225d1cab0d1"
   },
   "outputs": [
    {
     "name": "stdout",
     "output_type": "stream",
     "text": [
      "Unique:  3481\n",
      "Total:  49352\n",
      "14.177535191037059\n"
     ]
    }
   ],
   "source": [
    "print('Unique: ', len(set(df['manager_id'])))\n",
    "print('Total: ', len(df['manager_id']))\n",
    "print(len(df['manager_id'])/len(set(df['manager_id'])))"
   ]
  },
  {
   "cell_type": "code",
   "execution_count": 5,
   "metadata": {
    "_cell_guid": "297ae6c1-0b80-5192-f4f8-3eb5ca67a8ae"
   },
   "outputs": [],
   "source": [
    "df['address'] = df['display_address'].astype('category').cat.codes\n",
    "df['street_address'] = df['street_address'].astype('category').cat.codes\n",
    "df['building_id'] = df['building_id'].astype('category').cat.codes\n",
    "df['manager_id'] = df['manager_id'].astype('category').cat.codes\n",
    "df['num_features'] = df['features'].apply(len)\n",
    "df['created'] = pd.to_datetime(df['created'])\n",
    "df['created_year'] = df['created'].dt.year.astype('category').cat.codes\n",
    "df['created_month'] = df['created'].dt.month.astype('category').cat.codes\n",
    "df['len_description'] = df['description'].apply(lambda x: len(x.split(' ')))\n",
    "df['num_pics'] = df['photos'].apply(len)"
   ]
  },
  {
   "cell_type": "code",
   "execution_count": 6,
   "metadata": {
    "_cell_guid": "2bd96814-984d-9af2-438a-df732b5d5535"
   },
   "outputs": [
    {
     "data": {
      "text/html": [
       "<div>\n",
       "<table border=\"1\" class=\"dataframe\">\n",
       "  <thead>\n",
       "    <tr style=\"text-align: right;\">\n",
       "      <th></th>\n",
       "      <th>price</th>\n",
       "      <th>address</th>\n",
       "      <th>manager_id</th>\n",
       "      <th>building_id</th>\n",
       "      <th>num_features</th>\n",
       "      <th>created_year</th>\n",
       "      <th>created_month</th>\n",
       "      <th>len_description</th>\n",
       "      <th>latitude</th>\n",
       "      <th>longitude</th>\n",
       "      <th>num_pics</th>\n",
       "    </tr>\n",
       "  </thead>\n",
       "  <tbody>\n",
       "    <tr>\n",
       "      <th>9999</th>\n",
       "      <td>3200</td>\n",
       "      <td>4841</td>\n",
       "      <td>597</td>\n",
       "      <td>1219</td>\n",
       "      <td>6</td>\n",
       "      <td>0</td>\n",
       "      <td>2</td>\n",
       "      <td>115</td>\n",
       "      <td>40.7426</td>\n",
       "      <td>-73.9790</td>\n",
       "      <td>4</td>\n",
       "    </tr>\n",
       "    <tr>\n",
       "      <th>99991</th>\n",
       "      <td>3950</td>\n",
       "      <td>6887</td>\n",
       "      <td>3251</td>\n",
       "      <td>4693</td>\n",
       "      <td>8</td>\n",
       "      <td>0</td>\n",
       "      <td>0</td>\n",
       "      <td>191</td>\n",
       "      <td>40.7102</td>\n",
       "      <td>-74.0163</td>\n",
       "      <td>8</td>\n",
       "    </tr>\n",
       "    <tr>\n",
       "      <th>99992</th>\n",
       "      <td>2595</td>\n",
       "      <td>8423</td>\n",
       "      <td>2958</td>\n",
       "      <td>3570</td>\n",
       "      <td>5</td>\n",
       "      <td>0</td>\n",
       "      <td>0</td>\n",
       "      <td>84</td>\n",
       "      <td>40.7601</td>\n",
       "      <td>-73.9900</td>\n",
       "      <td>3</td>\n",
       "    </tr>\n",
       "    <tr>\n",
       "      <th>99993</th>\n",
       "      <td>3350</td>\n",
       "      <td>8126</td>\n",
       "      <td>2171</td>\n",
       "      <td>5150</td>\n",
       "      <td>5</td>\n",
       "      <td>0</td>\n",
       "      <td>0</td>\n",
       "      <td>99</td>\n",
       "      <td>40.7066</td>\n",
       "      <td>-74.0101</td>\n",
       "      <td>9</td>\n",
       "    </tr>\n",
       "    <tr>\n",
       "      <th>99994</th>\n",
       "      <td>2200</td>\n",
       "      <td>6789</td>\n",
       "      <td>2952</td>\n",
       "      <td>2351</td>\n",
       "      <td>1</td>\n",
       "      <td>0</td>\n",
       "      <td>0</td>\n",
       "      <td>133</td>\n",
       "      <td>40.8699</td>\n",
       "      <td>-73.9172</td>\n",
       "      <td>7</td>\n",
       "    </tr>\n",
       "  </tbody>\n",
       "</table>\n",
       "</div>"
      ],
      "text/plain": [
       "       price  address  manager_id  building_id  num_features  created_year  \\\n",
       "9999    3200     4841         597         1219             6             0   \n",
       "99991   3950     6887        3251         4693             8             0   \n",
       "99992   2595     8423        2958         3570             5             0   \n",
       "99993   3350     8126        2171         5150             5             0   \n",
       "99994   2200     6789        2952         2351             1             0   \n",
       "\n",
       "       created_month  len_description  latitude  longitude  num_pics  \n",
       "9999               2              115   40.7426   -73.9790         4  \n",
       "99991              0              191   40.7102   -74.0163         8  \n",
       "99992              0               84   40.7601   -73.9900         3  \n",
       "99993              0               99   40.7066   -74.0101         9  \n",
       "99994              0              133   40.8699   -73.9172         7  "
      ]
     },
     "execution_count": 6,
     "metadata": {},
     "output_type": "execute_result"
    }
   ],
   "source": [
    "new_feat = ['price','address','manager_id','building_id',\n",
    "            'num_features','created_year','created_month',\n",
    "            'len_description','latitude','longitude','num_pics']\n",
    "\n",
    "#new_feat = ['price','latitude','longitude','num_pics',\n",
    " #           'num_features','created_year','created_month','len_description']\n",
    "X = df[new_feat].fillna(0)\n",
    "y = df['interest_level'].astype('category').cat.codes\n",
    "X_train, X_val, y_train, y_val = train_test_split(X, y, test_size=0.3, random_state=9)\n",
    "X.tail()"
   ]
  },
  {
   "cell_type": "code",
   "execution_count": 7,
   "metadata": {
    "_cell_guid": "3777bbb5-9175-06e4-b2b4-30f32f16c30b"
   },
   "outputs": [
    {
     "data": {
      "text/plain": [
       "0.69895162380759213"
      ]
     },
     "execution_count": 7,
     "metadata": {},
     "output_type": "execute_result"
    }
   ],
   "source": [
    "clf1 = GradientBoostingClassifier(n_estimators=200, max_depth=9)\n",
    "clf2 = AdaBoostClassifier(n_estimators=200)\n",
    "clf3 = RandomForestClassifier(n_estimators=300)\n",
    "\n",
    "estimators = [('gb', clf1), ('ab', clf2), ('rf', clf3)]\n",
    "vclf = VotingClassifier(estimators=estimators, voting='soft', n_jobs= -1)\n",
    "\n",
    "vclf.fit(X_train, y_train)\n",
    "y_val_pred = vclf.predict_proba(X_val)\n",
    "log_loss(y_val, y_val_pred)"
   ]
  },
  {
   "cell_type": "code",
   "execution_count": 8,
   "metadata": {
    "_cell_guid": "c7789a2b-dfe0-9831-15ad-5ed43c12da10"
   },
   "outputs": [],
   "source": [
    "X_train = df[new_feat].fillna(0)\n",
    "y_train = df['interest_level']\n",
    "vclf.fit(X_train, y_train)\n",
    "\n",
    "\n",
    "df2 = pd.read_json('../input/test.json')\n",
    "df2['address'] = df2['display_address'].astype('category').cat.codes\n",
    "df2['street_address'] = df2['street_address'].astype('category').cat.codes\n",
    "df2['building_id'] = df2['building_id'].astype('category').cat.codes\n",
    "df2['manager_id'] = df2['manager_id'].astype('category').cat.codes\n",
    "df2['num_features'] = df2['features'].apply(len)\n",
    "df2['created'] = pd.to_datetime(df2['created'])\n",
    "df2['created_year'] = df2['created'].dt.year.astype('category').cat.codes\n",
    "df2['created_month'] = df2['created'].dt.month.astype('category').cat.codes\n",
    "df2['len_description'] = df2['description'].apply(lambda x: len(x.split(' ')))\n",
    "df2['num_pics'] = df2['photos'].apply(len)\n",
    "\n",
    "X = df2[new_feat].fillna(0)\n",
    "y = vclf.predict_proba(X)"
   ]
  },
  {
   "cell_type": "code",
   "execution_count": 9,
   "metadata": {
    "_cell_guid": "7942655b-6983-3587-5db5-dce5137df775"
   },
   "outputs": [
    {
     "data": {
      "text/plain": [
       "{'high': 0, 'low': 1, 'medium': 2}"
      ]
     },
     "execution_count": 9,
     "metadata": {},
     "output_type": "execute_result"
    }
   ],
   "source": [
    "labels2idx = {label: i for i, label in enumerate(vclf.classes_)}\n",
    "labels2idx"
   ]
  },
  {
   "cell_type": "code",
   "execution_count": 10,
   "metadata": {
    "_cell_guid": "15fa05f5-8f34-32bf-86a9-dbc8a2e35329"
   },
   "outputs": [],
   "source": [
    "sub = pd.DataFrame()\n",
    "sub['listing_id'] = df2['listing_id']\n",
    "for l in ['high', 'medium', 'low']:\n",
    "    sub[l] = y[:, labels2idx[l]]\n",
    "sub.to_csv('submissionVoting.csv', index=False)"
   ]
  },
  {
   "cell_type": "code",
   "execution_count": 11,
   "metadata": {
    "_cell_guid": "42597a70-a9e7-1eb4-472b-a9e1133bcb90"
   },
   "outputs": [
    {
     "data": {
      "text/html": [
       "<div>\n",
       "<table border=\"1\" class=\"dataframe\">\n",
       "  <thead>\n",
       "    <tr style=\"text-align: right;\">\n",
       "      <th></th>\n",
       "      <th>listing_id</th>\n",
       "      <th>high</th>\n",
       "      <th>medium</th>\n",
       "      <th>low</th>\n",
       "    </tr>\n",
       "  </thead>\n",
       "  <tbody>\n",
       "    <tr>\n",
       "      <th>0</th>\n",
       "      <td>7142618</td>\n",
       "      <td>0.234487</td>\n",
       "      <td>0.422990</td>\n",
       "      <td>0.342522</td>\n",
       "    </tr>\n",
       "    <tr>\n",
       "      <th>1</th>\n",
       "      <td>7210040</td>\n",
       "      <td>0.265117</td>\n",
       "      <td>0.346404</td>\n",
       "      <td>0.388479</td>\n",
       "    </tr>\n",
       "    <tr>\n",
       "      <th>2</th>\n",
       "      <td>7103890</td>\n",
       "      <td>0.145509</td>\n",
       "      <td>0.390160</td>\n",
       "      <td>0.464332</td>\n",
       "    </tr>\n",
       "    <tr>\n",
       "      <th>3</th>\n",
       "      <td>7143442</td>\n",
       "      <td>0.172184</td>\n",
       "      <td>0.376647</td>\n",
       "      <td>0.451169</td>\n",
       "    </tr>\n",
       "    <tr>\n",
       "      <th>4</th>\n",
       "      <td>6860601</td>\n",
       "      <td>0.132673</td>\n",
       "      <td>0.231785</td>\n",
       "      <td>0.635542</td>\n",
       "    </tr>\n",
       "  </tbody>\n",
       "</table>\n",
       "</div>"
      ],
      "text/plain": [
       "   listing_id      high    medium       low\n",
       "0     7142618  0.234487  0.422990  0.342522\n",
       "1     7210040  0.265117  0.346404  0.388479\n",
       "2     7103890  0.145509  0.390160  0.464332\n",
       "3     7143442  0.172184  0.376647  0.451169\n",
       "4     6860601  0.132673  0.231785  0.635542"
      ]
     },
     "execution_count": 11,
     "metadata": {},
     "output_type": "execute_result"
    }
   ],
   "source": [
    "sub = pd.read_csv('submissionVoting.csv')\n",
    "sub.head()"
   ]
  },
  {
   "cell_type": "code",
   "execution_count": 12,
   "metadata": {
    "_cell_guid": "ebc1ebee-bb2d-dcf8-981c-86fa5bbec1e1"
   },
   "outputs": [],
   "source": []
  }
 ],
 "metadata": {
  "_change_revision": 714,
  "_is_fork": false,
  "kernelspec": {
   "display_name": "Python 3",
   "language": "python",
   "name": "python3"
  },
  "language_info": {
   "codemirror_mode": {
    "name": "ipython",
    "version": 3
   },
   "file_extension": ".py",
   "mimetype": "text/x-python",
   "name": "python",
   "nbconvert_exporter": "python",
   "pygments_lexer": "ipython3",
   "version": "3.5.2"
  }
 },
 "nbformat": 4,
 "nbformat_minor": 0
}
