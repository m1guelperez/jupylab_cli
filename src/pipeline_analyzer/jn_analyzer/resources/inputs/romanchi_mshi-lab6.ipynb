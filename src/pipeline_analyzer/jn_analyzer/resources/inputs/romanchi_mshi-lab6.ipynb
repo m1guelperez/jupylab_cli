{
 "cells": [
  {
   "cell_type": "code",
   "execution_count": 1,
   "metadata": {
    "_cell_guid": "b1076dfc-b9ad-4769-8c92-a6c4dae69d19",
    "_uuid": "8f2839f25d086af736a60e9eeb907d3b93b6e0e5"
   },
   "outputs": [
    {
     "name": "stdout",
     "output_type": "stream",
     "text": [
      "           0         1  distance\n",
      "92  1.251986  0.011656  1.252040\n",
      "67  1.252135  0.007697  1.252158\n",
      "65  1.252168  0.010314  1.252210\n",
      "84  1.252113 -0.017327  1.252233\n",
      "93  1.252137  0.020871  1.252311\n",
      "..       ...       ...       ...\n",
      "78  1.254879 -0.067602  1.256699\n",
      "90  1.254952  0.070462  1.256929\n",
      "91  1.255302  0.070168  1.257262\n",
      "96  1.255399  0.072680  1.257501\n",
      "98  1.255507 -0.073522  1.257657\n",
      "\n",
      "[100 rows x 3 columns]\n"
     ]
    }
   ],
   "source": [
    "import numpy as np\n",
    "import matplotlib.pyplot as plt\n",
    "import pandas as pd\n",
    "import math\n",
    "\n",
    "DNA_SIZE = 1\n",
    "DNA_BOUND = [-10, 10]\n",
    "N_GENERATIONS = 600\n",
    "POP_SIZE = 100\n",
    "N_KID = 50\n",
    "\n",
    "def F_Matias(x, y): \n",
    "    return 0.26* (x**2 + y**2) - 0.48*x*y\n",
    "def F_Levi13(x, y):\n",
    "    return pow(math.sin(3*math.pi*x),2) + pow(x-1,2)*(1+pow(math.sin(3*math.pi*y),2)) + pow(y-1,2)*(1+ pow(2*math.pi*y,2))\n",
    "def Shaffer4(x, y):\n",
    "    nominator = pow(math.cos(math.sin(math.fabs(x**2 - y**2))),2) - 0.5\n",
    "    dominator = pow(1 + 0.001*(x**2 + y**2), 2)\n",
    "    return 0.5 + float(nominator)/float(dominator)\n",
    "\n",
    "def F(point):\n",
    "    x = point[0]\n",
    "    y = point[1]\n",
    "    return Shaffer4(x, y)\n",
    "\n",
    "def create_kids(pop, n_kid):\n",
    "    kids = {'DNA': np.zeros((N_KID, 2))}\n",
    "    kids['mut_strength'] = np.empty_like(kids['DNA'])\n",
    "\n",
    "    for kid, mut_str in zip(kids['DNA'], kids['mut_strength']):\n",
    "        parent1, parent2 = np.random.choice(np.arange(POP_SIZE), size=2, replace=False)\n",
    "        crossover_koeff = np.random.randint(0,1)\n",
    "        kid[crossover_koeff] = pop['DNA'][parent1][crossover_koeff]\n",
    "        kid[1 if crossover_koeff == 0 else 0] = pop['DNA'][parent2][1 if crossover_koeff == 0 else 0]\n",
    "        \n",
    "        #mutation\n",
    "        mut_str = mut_str + (np.random.rand(*mut_str.shape)-0.5)\n",
    "        kid += mut_str * np.random.rand(*mut_str.shape)\n",
    "        kid[:] = np.clip(kid, *DNA_BOUND)\n",
    "    return kids\n",
    "        \n",
    "def nature_choose(pop,kids):\n",
    "    for key in ['DNA', 'mut_strength']:\n",
    "        pop[key] = np.vstack((pop[key], kids[key]))\n",
    "    fitness = [F([x,y])for x,y in pop['DNA']] # C\n",
    "    data = pd.DataFrame(pop['DNA'])\n",
    "    data['fitness'] = fitness\n",
    "    data = data.sort_values(by=['fitness'],ascending=True)\n",
    "    data = data.head(100)\n",
    "    del data['fitness']\n",
    "    new_pop = {'DNA': data.values}\n",
    "    new_pop['mut_strength'] = np.empty_like(new_pop['DNA'])\n",
    "    return new_pop\n",
    "pop = {'DNA': np.zeros((POP_SIZE, 2)) + 1}\n",
    "pop['mut_strength'] = np.empty_like(pop['DNA'])\n",
    "\n",
    "for _ in range(N_GENERATIONS):\n",
    "    kids = create_kids(pop, N_KID)\n",
    "    pop = nature_choose(pop, kids)\n",
    "    \n",
    "result = pd.DataFrame(pop['DNA'])\n",
    "result['distance'] = [pow(point[0]**2 + point[1]**2, 0.5) for point in pop['DNA']]\n",
    "result = result.sort_values(by=['distance'])\n",
    "print(result)"
   ]
  },
  {
   "cell_type": "code",
   "execution_count": null,
   "metadata": {
    "_cell_guid": "79c7e3d0-c299-4dcb-8224-4455121ee9b0",
    "_uuid": "d629ff2d2480ee46fbb7e2d37f6b5fab8052498a"
   },
   "outputs": [],
   "source": []
  },
  {
   "cell_type": "code",
   "execution_count": null,
   "metadata": {},
   "outputs": [],
   "source": []
  }
 ],
 "metadata": {
  "kernelspec": {
   "display_name": "Python 3",
   "language": "python",
   "name": "python3"
  },
  "language_info": {
   "codemirror_mode": {
    "name": "ipython",
    "version": 3
   },
   "file_extension": ".py",
   "mimetype": "text/x-python",
   "name": "python",
   "nbconvert_exporter": "python",
   "pygments_lexer": "ipython3",
   "version": "3.6.6"
  }
 },
 "nbformat": 4,
 "nbformat_minor": 1
}
