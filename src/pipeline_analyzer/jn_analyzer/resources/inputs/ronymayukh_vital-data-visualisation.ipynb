{
 "cells": [
  {
   "cell_type": "code",
   "execution_count": 1,
   "metadata": {
    "_cell_guid": "b1076dfc-b9ad-4769-8c92-a6c4dae69d19",
    "_uuid": "8f2839f25d086af736a60e9eeb907d3b93b6e0e5"
   },
   "outputs": [
    {
     "name": "stdout",
     "output_type": "stream",
     "text": [
      "/kaggle/input/wildlife-strikes/database.csv\n"
     ]
    }
   ],
   "source": [
    "# This Python 3 environment comes with many helpful analytics libraries installed\n",
    "# It is defined by the kaggle/python Docker image: https://github.com/kaggle/docker-python\n",
    "# For example, here's several helpful packages to load\n",
    "\n",
    "import numpy as np # linear algebra\n",
    "import pandas as pd # data processing, CSV file I/O (e.g. pd.read_csv)\n",
    "\n",
    "# Input data files are available in the read-only \"../input/\" directory\n",
    "# For example, running this (by clicking run or pressing Shift+Enter) will list all files under the input directory\n",
    "\n",
    "import os\n",
    "for dirname, _, filenames in os.walk('/kaggle/input'):\n",
    "    for filename in filenames:\n",
    "        print(os.path.join(dirname, filename))\n",
    "\n",
    "# You can write up to 5GB to the current directory (/kaggle/working/) that gets preserved as output when you create a version using \"Save & Run All\" \n",
    "# You can also write temporary files to /kaggle/temp/, but they won't be saved outside of the current session\n",
    "#MAYUKH GHOSH 18BCE0417"
   ]
  },
  {
   "cell_type": "code",
   "execution_count": 2,
   "metadata": {
    "_cell_guid": "79c7e3d0-c299-4dcb-8224-4455121ee9b0",
    "_uuid": "d629ff2d2480ee46fbb7e2d37f6b5fab8052498a"
   },
   "outputs": [],
   "source": [
    "import sklearn as sklearn\n",
    "import matplotlib.pyplot as plt\n",
    "import seaborn as sns\n",
    "import sys\n",
    "import re"
   ]
  },
  {
   "cell_type": "code",
   "execution_count": 3,
   "metadata": {},
   "outputs": [
    {
     "name": "stderr",
     "output_type": "stream",
     "text": [
      "/opt/conda/lib/python3.7/site-packages/IPython/core/interactiveshell.py:3063: DtypeWarning: Columns (9,12,15,17) have mixed types.Specify dtype option on import or set low_memory=False.\n",
      "  interactivity=interactivity, compiler=compiler, result=result)\n"
     ]
    }
   ],
   "source": [
    "data = pd.read_csv(\"/kaggle/input/wildlife-strikes/database.csv\")"
   ]
  },
  {
   "cell_type": "code",
   "execution_count": 4,
   "metadata": {},
   "outputs": [
    {
     "data": {
      "text/plain": [
       "['Record ID',\n",
       " 'Incident Year',\n",
       " 'Incident Month',\n",
       " 'Incident Day',\n",
       " 'Operator ID',\n",
       " 'Operator',\n",
       " 'Aircraft',\n",
       " 'Aircraft Type',\n",
       " 'Aircraft Make',\n",
       " 'Aircraft Model',\n",
       " 'Aircraft Mass',\n",
       " 'Engine Make',\n",
       " 'Engine Model',\n",
       " 'Engines',\n",
       " 'Engine Type',\n",
       " 'Engine1 Position',\n",
       " 'Engine2 Position',\n",
       " 'Engine3 Position',\n",
       " 'Engine4 Position',\n",
       " 'Airport ID',\n",
       " 'Airport',\n",
       " 'State',\n",
       " 'FAA Region',\n",
       " 'Warning Issued',\n",
       " 'Flight Phase',\n",
       " 'Visibility',\n",
       " 'Precipitation',\n",
       " 'Height',\n",
       " 'Speed',\n",
       " 'Distance',\n",
       " 'Species ID',\n",
       " 'Species Name',\n",
       " 'Species Quantity',\n",
       " 'Flight Impact',\n",
       " 'Fatalities',\n",
       " 'Injuries',\n",
       " 'Aircraft Damage',\n",
       " 'Radome Strike',\n",
       " 'Radome Damage',\n",
       " 'Windshield Strike',\n",
       " 'Windshield Damage',\n",
       " 'Nose Strike',\n",
       " 'Nose Damage',\n",
       " 'Engine1 Strike',\n",
       " 'Engine1 Damage',\n",
       " 'Engine2 Strike',\n",
       " 'Engine2 Damage',\n",
       " 'Engine3 Strike',\n",
       " 'Engine3 Damage',\n",
       " 'Engine4 Strike',\n",
       " 'Engine4 Damage',\n",
       " 'Engine Ingested',\n",
       " 'Propeller Strike',\n",
       " 'Propeller Damage',\n",
       " 'Wing or Rotor Strike',\n",
       " 'Wing or Rotor Damage',\n",
       " 'Fuselage Strike',\n",
       " 'Fuselage Damage',\n",
       " 'Landing Gear Strike',\n",
       " 'Landing Gear Damage',\n",
       " 'Tail Strike',\n",
       " 'Tail Damage',\n",
       " 'Lights Strike',\n",
       " 'Lights Damage',\n",
       " 'Other Strike',\n",
       " 'Other Damage']"
      ]
     },
     "execution_count": 4,
     "metadata": {},
     "output_type": "execute_result"
    }
   ],
   "source": [
    "attributes=(list(data))\n",
    "attributes"
   ]
  },
  {
   "cell_type": "markdown",
   "execution_count": null,
   "metadata": {},
   "source": [
    "# What bird species has caused the most damage to airplanes?"
   ]
  },
  {
   "cell_type": "code",
   "execution_count": 5,
   "metadata": {},
   "outputs": [
    {
     "name": "stdout",
     "output_type": "stream",
     "text": [
      "UNKNOWN MEDIUM BIRD           38531\n",
      "UNKNOWN SMALL BIRD            32981\n",
      "MOURNING DOVE                  7653\n",
      "GULL                           6580\n",
      "UNKNOWN BIRD                   6400\n",
      "                              ...  \n",
      "GRAY HERON                        1\n",
      "SULPHUR-BELLIED FLYCATCHER        1\n",
      "EURASIAN CURLEW                   1\n",
      "BLACK-THROATED SPARROW            1\n",
      "NORTHERN LAPWING                  1\n",
      "Name: Species Name, Length: 715, dtype: int64\n"
     ]
    }
   ],
   "source": [
    "species = data[\"Species Name\"]\n",
    "species_count=species.value_counts()\n",
    "print(species_count)"
   ]
  },
  {
   "cell_type": "code",
   "execution_count": 6,
   "metadata": {},
   "outputs": [
    {
     "name": "stdout",
     "output_type": "stream",
     "text": [
      "UNKNOWN MEDIUM BIRD    38531\n",
      "UNKNOWN SMALL BIRD     32981\n",
      "MOURNING DOVE           7653\n",
      "GULL                    6580\n",
      "UNKNOWN BIRD            6400\n",
      "KILLDEER                4562\n",
      "AMERICAN KESTREL        4476\n",
      "BARN SWALLOW            4215\n",
      "Name: Species Name, dtype: int64\n"
     ]
    }
   ],
   "source": [
    "species_count=species_count[species_count>4000]\n",
    "print(species_count)"
   ]
  },
  {
   "cell_type": "code",
   "execution_count": 7,
   "metadata": {},
   "outputs": [
    {
     "name": "stdout",
     "output_type": "stream",
     "text": [
      "UNKNOWN MEDIUM BIRD    38531\n",
      "UNKNOWN SMALL BIRD     32981\n",
      "MOURNING DOVE           7653\n",
      "GULL                    6580\n",
      "UNKNOWN BIRD            6400\n",
      "KILLDEER                4562\n",
      "AMERICAN KESTREL        4476\n",
      "BARN SWALLOW            4215\n",
      "Name: Species Name, dtype: int64\n"
     ]
    }
   ],
   "source": [
    "top_species = [\"UNKNOWN MEDIUM BIRD\",\"UNKNOWN SMALL BIRD\",\"MOURNING DOVE\", \"GULL\",\"UNKNOWN BIRD\",\"KILLDEER\", \"AMERICAN KESTREL\",\"BARN SWALLOW\"]\n",
    "top_species = species[species.isin(top_species)]\n",
    "print(top_species.value_counts())"
   ]
  },
  {
   "cell_type": "code",
   "execution_count": 8,
   "metadata": {},
   "outputs": [
    {
     "data": {
      "text/plain": [
       "(array([0, 1, 2, 3, 4, 5, 6, 7]), <a list of 8 Text major ticklabel objects>)"
      ]
     },
     "execution_count": 8,
     "metadata": {},
     "output_type": "execute_result"
    },
    {
     "data": {
      "image/png": "[encoded data removed]",
      "text/plain": [
       "<Figure size 432x288 with 1 Axes>"
      ]
     },
     "metadata": {
      "needs_background": "light"
     },
     "output_type": "display_data"
    }
   ],
   "source": [
    "sns.countplot(top_species)\n",
    "plt.title(\"Top Species That Impact with Aircraft\")\n",
    "plt.xticks(rotation='vertical')"
   ]
  },
  {
   "cell_type": "markdown",
   "execution_count": null,
   "metadata": {},
   "source": [
    "We can see that there are some unknow medium birds which effect the aircraft the most, but our objective is to know the known species"
   ]
  },
  {
   "cell_type": "code",
   "execution_count": 9,
   "metadata": {},
   "outputs": [
    {
     "name": "stdout",
     "output_type": "stream",
     "text": [
      "MOURNING DOVE       7653\n",
      "GULL                6580\n",
      "KILLDEER            4562\n",
      "AMERICAN KESTREL    4476\n",
      "BARN SWALLOW        4215\n",
      "Name: Species Name, dtype: int64\n"
     ]
    }
   ],
   "source": [
    "top_known_species = [\"MOURNING DOVE\", \"GULL\",\"KILLDEER\", \"AMERICAN KESTREL\",\"BARN SWALLOW\"]\n",
    "top_known_species = species[species.isin(top_known_species)]\n",
    "print(top_known_species.value_counts())"
   ]
  },
  {
   "cell_type": "code",
   "execution_count": 10,
   "metadata": {},
   "outputs": [
    {
     "data": {
      "text/plain": [
       "(array([0, 1, 2, 3, 4]), <a list of 5 Text major ticklabel objects>)"
      ]
     },
     "execution_count": 10,
     "metadata": {},
     "output_type": "execute_result"
    },
    {
     "data": {
      "image/png": "[encoded data removed]",
      "text/plain": [
       "<Figure size 432x288 with 1 Axes>"
      ]
     },
     "metadata": {
      "needs_background": "light"
     },
     "output_type": "display_data"
    }
   ],
   "source": [
    "sns.countplot(top_known_species)\n",
    "plt.title(\"Top Known Species That Impact with Aircraft\")\n",
    "plt.xticks(rotation='vertical')"
   ]
  },
  {
   "cell_type": "markdown",
   "execution_count": null,
   "metadata": {},
   "source": [
    "## CONCLUSION:<br>\n",
    "From the above graph it is clear that \"MOURNING DOVE\" species of birds effect the aircrafts the most**"
   ]
  },
  {
   "cell_type": "markdown",
   "execution_count": null,
   "metadata": {},
   "source": [
    "# Which part of the airplane is most prone to damage in wildlife strikes?"
   ]
  },
  {
   "cell_type": "code",
   "execution_count": 11,
   "metadata": {},
   "outputs": [
    {
     "data": {
      "text/plain": [
       "['Record ID',\n",
       " 'Incident Year',\n",
       " 'Incident Month',\n",
       " 'Incident Day',\n",
       " 'Operator ID',\n",
       " 'Operator',\n",
       " 'Aircraft',\n",
       " 'Aircraft Type',\n",
       " 'Aircraft Make',\n",
       " 'Aircraft Model',\n",
       " 'Aircraft Mass',\n",
       " 'Engine Make',\n",
       " 'Engine Model',\n",
       " 'Engines',\n",
       " 'Engine Type',\n",
       " 'Engine1 Position',\n",
       " 'Engine2 Position',\n",
       " 'Engine3 Position',\n",
       " 'Engine4 Position',\n",
       " 'Airport ID',\n",
       " 'Airport',\n",
       " 'State',\n",
       " 'FAA Region',\n",
       " 'Warning Issued',\n",
       " 'Flight Phase',\n",
       " 'Visibility',\n",
       " 'Precipitation',\n",
       " 'Height',\n",
       " 'Speed',\n",
       " 'Distance',\n",
       " 'Species ID',\n",
       " 'Species Name',\n",
       " 'Species Quantity',\n",
       " 'Flight Impact',\n",
       " 'Fatalities',\n",
       " 'Injuries',\n",
       " 'Aircraft Damage',\n",
       " 'Radome Strike',\n",
       " 'Radome Damage',\n",
       " 'Windshield Strike',\n",
       " 'Windshield Damage',\n",
       " 'Nose Strike',\n",
       " 'Nose Damage',\n",
       " 'Engine1 Strike',\n",
       " 'Engine1 Damage',\n",
       " 'Engine2 Strike',\n",
       " 'Engine2 Damage',\n",
       " 'Engine3 Strike',\n",
       " 'Engine3 Damage',\n",
       " 'Engine4 Strike',\n",
       " 'Engine4 Damage',\n",
       " 'Engine Ingested',\n",
       " 'Propeller Strike',\n",
       " 'Propeller Damage',\n",
       " 'Wing or Rotor Strike',\n",
       " 'Wing or Rotor Damage',\n",
       " 'Fuselage Strike',\n",
       " 'Fuselage Damage',\n",
       " 'Landing Gear Strike',\n",
       " 'Landing Gear Damage',\n",
       " 'Tail Strike',\n",
       " 'Tail Damage',\n",
       " 'Lights Strike',\n",
       " 'Lights Damage',\n",
       " 'Other Strike',\n",
       " 'Other Damage']"
      ]
     },
     "execution_count": 11,
     "metadata": {},
     "output_type": "execute_result"
    }
   ],
   "source": [
    "attributes=(list(data))\n",
    "attributes"
   ]
  },
  {
   "cell_type": "code",
   "execution_count": 12,
   "metadata": {},
   "outputs": [],
   "source": [
    "damage_x=[]\n",
    "strike_x=[]\n",
    "dam=\".*Damage$\"\n",
    "stri=\".*Strike$\"\n",
    "for i in attributes:\n",
    "    if (re.match(dam, i)):\n",
    "        damage_x.append(i)\n",
    "    elif (re.match(stri, i)):\n",
    "        strike_x.append(i)"
   ]
  },
  {
   "cell_type": "code",
   "execution_count": 13,
   "metadata": {},
   "outputs": [
    {
     "data": {
      "text/plain": [
       "['Aircraft Damage',\n",
       " 'Radome Damage',\n",
       " 'Windshield Damage',\n",
       " 'Nose Damage',\n",
       " 'Engine1 Damage',\n",
       " 'Engine2 Damage',\n",
       " 'Engine3 Damage',\n",
       " 'Engine4 Damage',\n",
       " 'Propeller Damage',\n",
       " 'Wing or Rotor Damage',\n",
       " 'Fuselage Damage',\n",
       " 'Landing Gear Damage',\n",
       " 'Tail Damage',\n",
       " 'Lights Damage',\n",
       " 'Other Damage']"
      ]
     },
     "execution_count": 13,
     "metadata": {},
     "output_type": "execute_result"
    }
   ],
   "source": [
    "damage_x"
   ]
  },
  {
   "cell_type": "markdown",
   "execution_count": null,
   "metadata": {},
   "source": [
    "We are not interested with the column of Aircraft Damage"
   ]
  },
  {
   "cell_type": "code",
   "execution_count": 14,
   "metadata": {},
   "outputs": [
    {
     "data": {
      "text/plain": [
       "['Radome Damage',\n",
       " 'Windshield Damage',\n",
       " 'Nose Damage',\n",
       " 'Engine1 Damage',\n",
       " 'Engine2 Damage',\n",
       " 'Engine3 Damage',\n",
       " 'Engine4 Damage',\n",
       " 'Propeller Damage',\n",
       " 'Wing or Rotor Damage',\n",
       " 'Fuselage Damage',\n",
       " 'Landing Gear Damage',\n",
       " 'Tail Damage',\n",
       " 'Lights Damage',\n",
       " 'Other Damage']"
      ]
     },
     "execution_count": 14,
     "metadata": {},
     "output_type": "execute_result"
    }
   ],
   "source": [
    "damage_x=damage_x[1:]\n",
    "damage_x"
   ]
  },
  {
   "cell_type": "code",
   "execution_count": 15,
   "metadata": {},
   "outputs": [
    {
     "data": {
      "text/plain": [
       "['Radome Strike',\n",
       " 'Windshield Strike',\n",
       " 'Nose Strike',\n",
       " 'Engine1 Strike',\n",
       " 'Engine2 Strike',\n",
       " 'Engine3 Strike',\n",
       " 'Engine4 Strike',\n",
       " 'Propeller Strike',\n",
       " 'Wing or Rotor Strike',\n",
       " 'Fuselage Strike',\n",
       " 'Landing Gear Strike',\n",
       " 'Tail Strike',\n",
       " 'Lights Strike',\n",
       " 'Other Strike']"
      ]
     },
     "execution_count": 15,
     "metadata": {},
     "output_type": "execute_result"
    }
   ],
   "source": [
    "strike_x"
   ]
  },
  {
   "cell_type": "code",
   "execution_count": 16,
   "metadata": {},
   "outputs": [],
   "source": [
    "damage_y=[]\n",
    "strike_y=[]\n",
    "for i in strike_x:\n",
    "    strike_y.append(data[i].sum())\n",
    "\n",
    "for i in damage_x:\n",
    "    damage_y.append(data[i].sum())"
   ]
  },
  {
   "cell_type": "code",
   "execution_count": 17,
   "metadata": {},
   "outputs": [
    {
     "data": {
      "text/plain": [
       "([0, 1, 2, 3, 4, 5, 6, 7, 8, 9, 10, 11, 12, 13],\n",
       " <a list of 14 Text major ticklabel objects>)"
      ]
     },
     "execution_count": 17,
     "metadata": {},
     "output_type": "execute_result"
    },
    {
     "data": {
      "image/png": "[encoded data removed]",
      "text/plain": [
       "<Figure size 432x288 with 1 Axes>"
      ]
     },
     "metadata": {
      "needs_background": "light"
     },
     "output_type": "display_data"
    }
   ],
   "source": [
    "plt.bar(damage_x,damage_y)\n",
    "plt.title(\"Parts Damaged in the Aircraft\")\n",
    "plt.xticks(rotation='vertical')"
   ]
  },
  {
   "cell_type": "code",
   "execution_count": 18,
   "metadata": {},
   "outputs": [
    {
     "data": {
      "text/plain": [
       "([0, 1, 2, 3, 4, 5, 6, 7, 8, 9, 10, 11, 12, 13],\n",
       " <a list of 14 Text major ticklabel objects>)"
      ]
     },
     "execution_count": 18,
     "metadata": {},
     "output_type": "execute_result"
    },
    {
     "data": {
      "image/png": "[encoded data removed]",
      "text/plain": [
       "<Figure size 432x288 with 1 Axes>"
      ]
     },
     "metadata": {
      "needs_background": "light"
     },
     "output_type": "display_data"
    }
   ],
   "source": [
    "plt.bar(strike_x,strike_y,color='orange')\n",
    "plt.title(\"Parts Striked in the Aircraft\")\n",
    "plt.xticks(rotation='vertical')"
   ]
  },
  {
   "cell_type": "code",
   "execution_count": 19,
   "metadata": {},
   "outputs": [],
   "source": [
    "damage_per_strike=[]\n",
    "parts=[]\n",
    "for i in range(0,len(strike_x)):\n",
    "    damage_per_strike.append(damage_y[i]/strike_y[i])\n",
    "    parts.append(strike_x[i][:-7])"
   ]
  },
  {
   "cell_type": "code",
   "execution_count": 20,
   "metadata": {},
   "outputs": [
    {
     "data": {
      "text/plain": [
       "([0, 1, 2, 3, 4, 5, 6, 7, 8, 9, 10, 11, 12, 13],\n",
       " <a list of 14 Text major ticklabel objects>)"
      ]
     },
     "execution_count": 20,
     "metadata": {},
     "output_type": "execute_result"
    },
    {
     "data": {
      "image/png": "[encoded data removed]",
      "text/plain": [
       "<Figure size 432x288 with 1 Axes>"
      ]
     },
     "metadata": {
      "needs_background": "light"
     },
     "output_type": "display_data"
    }
   ],
   "source": [
    "plt.bar(parts,damage_per_strike,color='red')\n",
    "plt.title(\"Parts Damage per strike in the Aircraft\")\n",
    "plt.xticks(rotation='vertical')"
   ]
  },
  {
   "cell_type": "markdown",
   "execution_count": null,
   "metadata": {},
   "source": [
    "## CONCLUSION:<br>\n",
    "From the Graphs above we can see that the part that reports most cases of damage in a wildlife strike is 'Wings or Rotor'\n",
    "Though most of the strikes are usually on the 'Windshield'\n",
    "But the most prone to damage are the 'Lights', they get damaged in approximately 70% of the strikes**"
   ]
  }
 ],
 "metadata": {
  "kernelspec": {
   "display_name": "Python 3",
   "language": "python",
   "name": "python3"
  },
  "language_info": {
   "codemirror_mode": {
    "name": "ipython",
    "version": 3
   },
   "file_extension": ".py",
   "mimetype": "text/x-python",
   "name": "python",
   "nbconvert_exporter": "python",
   "pygments_lexer": "ipython3",
   "version": "3.7.6"
  }
 },
 "nbformat": 4,
 "nbformat_minor": 4
}
