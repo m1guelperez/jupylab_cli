{
 "cells": [
  {
   "cell_type": "code",
   "execution_count": 1,
   "metadata": {
    "_uuid": "d2078a6dfaf678cbccd229f60d1be7f13a73a08b"
   },
   "outputs": [],
   "source": [
    "import re\n",
    "import gensim\n",
    "import pandas as pd\n",
    "import numpy as np"
   ]
  },
  {
   "cell_type": "code",
   "execution_count": 2,
   "metadata": {
    "_cell_guid": "b1076dfc-b9ad-4769-8c92-a6c4dae69d19",
    "_uuid": "8f2839f25d086af736a60e9eeb907d3b93b6e0e5"
   },
   "outputs": [
    {
     "name": "stdout",
     "output_type": "stream",
     "text": [
      "364\n"
     ]
    },
    {
     "data": {
      "text/html": [
       "<div>\n",
       "<style scoped>\n",
       "    .dataframe tbody tr th:only-of-type {\n",
       "        vertical-align: middle;\n",
       "    }\n",
       "\n",
       "    .dataframe tbody tr th {\n",
       "        vertical-align: top;\n",
       "    }\n",
       "\n",
       "    .dataframe thead th {\n",
       "        text-align: right;\n",
       "    }\n",
       "</style>\n",
       "<table border=\"1\" class=\"dataframe\">\n",
       "  <thead>\n",
       "    <tr style=\"text-align: right;\">\n",
       "      <th></th>\n",
       "      <th>ID</th>\n",
       "      <th>Month_ago</th>\n",
       "      <th>Score</th>\n",
       "      <th>Reviews</th>\n",
       "    </tr>\n",
       "  </thead>\n",
       "  <tbody>\n",
       "    <tr>\n",
       "      <th>0</th>\n",
       "      <td>72863</td>\n",
       "      <td>10.0</td>\n",
       "      <td>5</td>\n",
       "      <td>Really comfortable.</td>\n",
       "    </tr>\n",
       "    <tr>\n",
       "      <th>1</th>\n",
       "      <td>72863</td>\n",
       "      <td>12.0</td>\n",
       "      <td>1</td>\n",
       "      <td>Horrible management, \\nmore people live in the...</td>\n",
       "    </tr>\n",
       "    <tr>\n",
       "      <th>2</th>\n",
       "      <td>72863</td>\n",
       "      <td>12.0</td>\n",
       "      <td>1</td>\n",
       "      <td>After a 5 year lease !!!!!! There's a small ho...</td>\n",
       "    </tr>\n",
       "    <tr>\n",
       "      <th>3</th>\n",
       "      <td>72863</td>\n",
       "      <td>12.0</td>\n",
       "      <td>1</td>\n",
       "      <td>0 star if I was able to</td>\n",
       "    </tr>\n",
       "    <tr>\n",
       "      <th>4</th>\n",
       "      <td>72863</td>\n",
       "      <td>12.0</td>\n",
       "      <td>4</td>\n",
       "      <td>NIL</td>\n",
       "    </tr>\n",
       "  </tbody>\n",
       "</table>\n",
       "</div>"
      ],
      "text/plain": [
       "      ID                        ...                                                                    Reviews\n",
       "0  72863                        ...                                                        Really comfortable.\n",
       "1  72863                        ...                          Horrible management, \\nmore people live in the...\n",
       "2  72863                        ...                          After a 5 year lease !!!!!! There's a small ho...\n",
       "3  72863                        ...                                                    0 star if I was able to\n",
       "4  72863                        ...                                                                        NIL\n",
       "\n",
       "[5 rows x 4 columns]"
      ]
     },
     "execution_count": 2,
     "metadata": {},
     "output_type": "execute_result"
    }
   ],
   "source": [
    "data = pd.read_csv(\"../input/id_reviews.csv\")\n",
    "print(len(data))\n",
    "data.head()"
   ]
  },
  {
   "cell_type": "code",
   "execution_count": 3,
   "metadata": {
    "_uuid": "20bb7ee223e3bd4efee405888786d01255f36971"
   },
   "outputs": [
    {
     "data": {
      "text/html": [
       "<div>\n",
       "<style scoped>\n",
       "    .dataframe tbody tr th:only-of-type {\n",
       "        vertical-align: middle;\n",
       "    }\n",
       "\n",
       "    .dataframe tbody tr th {\n",
       "        vertical-align: top;\n",
       "    }\n",
       "\n",
       "    .dataframe thead th {\n",
       "        text-align: right;\n",
       "    }\n",
       "</style>\n",
       "<table border=\"1\" class=\"dataframe\">\n",
       "  <thead>\n",
       "    <tr style=\"text-align: right;\">\n",
       "      <th></th>\n",
       "      <th>reviews</th>\n",
       "      <th>rating</th>\n",
       "    </tr>\n",
       "  </thead>\n",
       "  <tbody>\n",
       "    <tr>\n",
       "      <th>0</th>\n",
       "      <td>Really comfortable.</td>\n",
       "      <td>5</td>\n",
       "    </tr>\n",
       "    <tr>\n",
       "      <th>1</th>\n",
       "      <td>Horrible management, \\nmore people live in the...</td>\n",
       "      <td>1</td>\n",
       "    </tr>\n",
       "    <tr>\n",
       "      <th>2</th>\n",
       "      <td>After a 5 year lease !!!!!! There's a small ho...</td>\n",
       "      <td>1</td>\n",
       "    </tr>\n",
       "    <tr>\n",
       "      <th>3</th>\n",
       "      <td>0 star if I was able to</td>\n",
       "      <td>1</td>\n",
       "    </tr>\n",
       "    <tr>\n",
       "      <th>4</th>\n",
       "      <td>NIL</td>\n",
       "      <td>4</td>\n",
       "    </tr>\n",
       "  </tbody>\n",
       "</table>\n",
       "</div>"
      ],
      "text/plain": [
       "                                             reviews  rating\n",
       "0                                Really comfortable.       5\n",
       "1  Horrible management, \\nmore people live in the...       1\n",
       "2  After a 5 year lease !!!!!! There's a small ho...       1\n",
       "3                            0 star if I was able to       1\n",
       "4                                                NIL       4"
      ]
     },
     "execution_count": 3,
     "metadata": {},
     "output_type": "execute_result"
    }
   ],
   "source": [
    "d = {'reviews': data[\"Reviews\"], 'rating': data['Score']}\n",
    "df = pd.DataFrame(data=d)\n",
    "df.head()"
   ]
  },
  {
   "cell_type": "code",
   "execution_count": 4,
   "metadata": {
    "_uuid": "48fa973fdcb7b43e6fc06e9b424b256bf1c8f704"
   },
   "outputs": [
    {
     "data": {
      "text/html": [
       "<div>\n",
       "<style scoped>\n",
       "    .dataframe tbody tr th:only-of-type {\n",
       "        vertical-align: middle;\n",
       "    }\n",
       "\n",
       "    .dataframe tbody tr th {\n",
       "        vertical-align: top;\n",
       "    }\n",
       "\n",
       "    .dataframe thead th {\n",
       "        text-align: right;\n",
       "    }\n",
       "</style>\n",
       "<table border=\"1\" class=\"dataframe\">\n",
       "  <thead>\n",
       "    <tr style=\"text-align: right;\">\n",
       "      <th></th>\n",
       "      <th>reviews</th>\n",
       "      <th>sentiment</th>\n",
       "    </tr>\n",
       "  </thead>\n",
       "  <tbody>\n",
       "    <tr>\n",
       "      <th>0</th>\n",
       "      <td>Really comfortable.</td>\n",
       "      <td>1</td>\n",
       "    </tr>\n",
       "    <tr>\n",
       "      <th>1</th>\n",
       "      <td>Horrible management, \\nmore people live in the...</td>\n",
       "      <td>0</td>\n",
       "    </tr>\n",
       "    <tr>\n",
       "      <th>2</th>\n",
       "      <td>After a 5 year lease !!!!!! There's a small ho...</td>\n",
       "      <td>0</td>\n",
       "    </tr>\n",
       "    <tr>\n",
       "      <th>3</th>\n",
       "      <td>0 star if I was able to</td>\n",
       "      <td>0</td>\n",
       "    </tr>\n",
       "    <tr>\n",
       "      <th>4</th>\n",
       "      <td>NIL</td>\n",
       "      <td>1</td>\n",
       "    </tr>\n",
       "  </tbody>\n",
       "</table>\n",
       "</div>"
      ],
      "text/plain": [
       "                                             reviews  sentiment\n",
       "0                                Really comfortable.          1\n",
       "1  Horrible management, \\nmore people live in the...          0\n",
       "2  After a 5 year lease !!!!!! There's a small ho...          0\n",
       "3                            0 star if I was able to          0\n",
       "4                                                NIL          1"
      ]
     },
     "execution_count": 4,
     "metadata": {},
     "output_type": "execute_result"
    }
   ],
   "source": [
    "def mark_sentiment(rating):\n",
    "    if(rating <= 3):\n",
    "        return 0\n",
    "    else:\n",
    "        return 1\n",
    "\n",
    "df['sentiment'] = df['rating'].apply(mark_sentiment)\n",
    "df.drop(['rating'], axis = 1, inplace=True)\n",
    "df.head()"
   ]
  },
  {
   "cell_type": "code",
   "execution_count": 5,
   "metadata": {
    "_uuid": "6ae7ff9e8f82210d1fe4398e544db4b35c247b17"
   },
   "outputs": [],
   "source": [
    "import nltk\n",
    "from nltk.corpus import stopwords  #stopwords\n",
    "from nltk import word_tokenize,sent_tokenize # tokenizing\n",
    "from nltk.stem import PorterStemmer,LancasterStemmer  # using the Porter Stemmer and Lancaster Stemmer and others\n",
    "from nltk.stem.snowball import SnowballStemmer\n",
    "from nltk.stem import WordNetLemmatizer  # lammatizer from WordNet\n",
    "\n",
    "# for part-of-speech tagging\n",
    "from nltk import pos_tag\n",
    "\n",
    "# for named entity recognition (NER)\n",
    "from nltk import ne_chunk"
   ]
  },
  {
   "cell_type": "code",
   "execution_count": 6,
   "metadata": {
    "_uuid": "4022ac18e16099048967cfe86bc9aacc155e6582"
   },
   "outputs": [],
   "source": [
    "def clean_reviews(review_text):\n",
    "    \n",
    "    review_text = re.sub(\"[^a-zA-Z]\",\" \",review_text)\n",
    "    \n",
    "    # 3. Converting to lower case and splitting\n",
    "    word_tokens= review_text.lower().split()\n",
    "    \n",
    "    # 4. Remove stopwords\n",
    "    le=WordNetLemmatizer()\n",
    "    stop_words= set(stopwords.words(\"english\"))     \n",
    "    word_tokens= [le.lemmatize(w) for w in word_tokens if not w in stop_words]\n",
    "    \n",
    "    cleaned_review=\" \".join(word_tokens)\n",
    "    return cleaned_review"
   ]
  },
  {
   "cell_type": "code",
   "execution_count": 7,
   "metadata": {
    "_cell_guid": "79c7e3d0-c299-4dcb-8224-4455121ee9b0",
    "_uuid": "d629ff2d2480ee46fbb7e2d37f6b5fab8052498a"
   },
   "outputs": [
    {
     "name": "stdout",
     "output_type": "stream",
     "text": [
      "3\n",
      "1656\n"
     ]
    }
   ],
   "source": [
    "tokenizer = nltk.data.load('tokenizers/punkt/english.pickle')\n",
    "sentences = []\n",
    "sum = 0\n",
    "for review in df['reviews']:\n",
    "    sents = tokenizer.tokenize(review.strip())\n",
    "    sum = len(sents)\n",
    "    for sent in sents:\n",
    "        cleaned_sent = clean_reviews(sent)\n",
    "        sentences.append(cleaned_sent.split())\n",
    "print(sum)\n",
    "print(len(sentences))  "
   ]
  },
  {
   "cell_type": "code",
   "execution_count": 8,
   "metadata": {
    "_uuid": "23d5f73623d144d3b6c2da659592e26cb60a0107"
   },
   "outputs": [
    {
     "name": "stdout",
     "output_type": "stream",
     "text": [
      "72\n"
     ]
    }
   ],
   "source": [
    "max_len = 0\n",
    "for m in sentences:\n",
    "    if(max_len < len(m)):\n",
    "        max_len = len(m)\n",
    "print(max_len)"
   ]
  },
  {
   "cell_type": "code",
   "execution_count": 9,
   "metadata": {
    "_uuid": "a90d8e6eb68bc62fe094a3452919a8aefaff7e71"
   },
   "outputs": [],
   "source": [
    "import gensim\n",
    "word_2_vec_model = gensim.models.Word2Vec(sentences = sentences, size=300,window=10,min_count = 1)"
   ]
  },
  {
   "cell_type": "code",
   "execution_count": 10,
   "metadata": {
    "_uuid": "ff4892116c9e77187c74d3cb38f7fbdedb3765e0"
   },
   "outputs": [
    {
     "data": {
      "text/plain": [
       "(99841, 111670)"
      ]
     },
     "execution_count": 10,
     "metadata": {},
     "output_type": "execute_result"
    }
   ],
   "source": [
    "word_2_vec_model.train(sentences,epochs=10,total_examples=len(sentences))"
   ]
  },
  {
   "cell_type": "code",
   "execution_count": 11,
   "metadata": {
    "_uuid": "4a801ee8a748507cdd460cf48e8c36ee38c115f6"
   },
   "outputs": [
    {
     "name": "stdout",
     "output_type": "stream",
     "text": [
      "[['horrible', 'management', 'people', 'live', 'apartment', 'without', 'management', 'knowing', 'result', 'bearly', 'parking', 'vistors', 'parking', 'front', 'always', 'full', 'extra', 'people', 'living', 'car', 'park', 'visor', 'section', 'every', 'single', 'day']]\n"
     ]
    }
   ],
   "source": [
    "print(sentences[1:2])"
   ]
  },
  {
   "cell_type": "code",
   "execution_count": 12,
   "metadata": {
    "_uuid": "798ba8daa4cdbc1ca843f2f1b27eab161feaecb7"
   },
   "outputs": [],
   "source": [
    "vocab=word_2_vec_model.wv.vocab\n",
    "vocab=list(vocab.keys())\n",
    "word_vec_dict={}\n",
    "for word in vocab:\n",
    "  word_vec_dict[word]=word_2_vec_model.wv.get_vector(word)"
   ]
  },
  {
   "cell_type": "code",
   "execution_count": 13,
   "metadata": {
    "_uuid": "8ca4158079d7ab7b09ca62219cc1a923eaac5ff1"
   },
   "outputs": [
    {
     "name": "stderr",
     "output_type": "stream",
     "text": [
      "Using TensorFlow backend.\n"
     ]
    }
   ],
   "source": [
    "import keras\n",
    "from keras.preprocessing.text import one_hot,Tokenizer\n",
    "from keras.preprocessing.sequence import pad_sequences\n",
    "from keras.models import Sequential\n",
    "from keras.layers import Dense , Flatten ,Embedding,Input,CuDNNLSTM,LSTM\n",
    "from keras.models import Model\n",
    "from keras.preprocessing.text import text_to_word_sequence"
   ]
  },
  {
   "cell_type": "code",
   "execution_count": 14,
   "metadata": {
    "_uuid": "a73fd6c87a653904a8099c3b4a1b07919b42d29d"
   },
   "outputs": [],
   "source": [
    "df['clean_review']=df['reviews'].apply(clean_reviews)\n",
    "tok = Tokenizer()\n",
    "tok.fit_on_texts(df['clean_review'])\n",
    "vocab_size = len(tok.word_index) + 1\n",
    "encd_rev = tok.texts_to_sequences(df['clean_review'])"
   ]
  },
  {
   "cell_type": "code",
   "execution_count": 15,
   "metadata": {
    "_uuid": "d5892fdd39a077aac7a5dfa0ad6f9bbb2753e960"
   },
   "outputs": [
    {
     "data": {
      "text/plain": [
       "(364, 72)"
      ]
     },
     "execution_count": 15,
     "metadata": {},
     "output_type": "execute_result"
    }
   ],
   "source": [
    "pad_rev= pad_sequences(encd_rev, maxlen=max_len, padding='post')\n",
    "pad_rev.shape"
   ]
  },
  {
   "cell_type": "code",
   "execution_count": 16,
   "metadata": {
    "_uuid": "b929ad13ab4c8836468bbc3d38fc575813e141e2"
   },
   "outputs": [],
   "source": [
    "embed_matrix=np.zeros(shape=(vocab_size,300))\n",
    "for word,i in tok.word_index.items():\n",
    "  embed_vector=word_vec_dict.get(word)\n",
    "  if embed_vector is not None:  # word is in the vocabulary learned by the w2v model\n",
    "\n",
    "        embed_matrix[i]=embed_vector"
   ]
  },
  {
   "cell_type": "code",
   "execution_count": 17,
   "metadata": {
    "_uuid": "a5925eba3ca4a8cd5299c0b7b3813f05ed49f24e"
   },
   "outputs": [
    {
     "name": "stdout",
     "output_type": "stream",
     "text": [
      "0    1\n",
      "1    0\n",
      "2    0\n",
      "3    0\n",
      "4    1\n",
      "Name: sentiment, dtype: int64\n"
     ]
    }
   ],
   "source": [
    "print(df['sentiment'][:5])"
   ]
  },
  {
   "cell_type": "code",
   "execution_count": 18,
   "metadata": {
    "_uuid": "f01f91856f150727bce295ae3119e3f64bfe73e1"
   },
   "outputs": [
    {
     "name": "stdout",
     "output_type": "stream",
     "text": [
      "[[0. 1.]\n",
      " [1. 0.]\n",
      " [1. 0.]\n",
      " [1. 0.]\n",
      " [0. 1.]]\n"
     ]
    }
   ],
   "source": [
    "\n",
    "Y=keras.utils.to_categorical(df['sentiment'])  # one hot target as required by NN.\n",
    "print(Y[:5])"
   ]
  },
  {
   "cell_type": "code",
   "execution_count": 19,
   "metadata": {
    "_uuid": "310e45451ece539552217b912f33266f88d99269"
   },
   "outputs": [],
   "source": [
    "from sklearn.model_selection import train_test_split,cross_validate\n",
    "from sklearn.model_selection import KFold\n",
    "from sklearn.model_selection import GridSearchCV"
   ]
  },
  {
   "cell_type": "code",
   "execution_count": 20,
   "metadata": {
    "_uuid": "a15adf786ffdfff8e659aa0ee1c624f524af57b3"
   },
   "outputs": [],
   "source": [
    "x_train,x_test,y_train,y_test=train_test_split(pad_rev,Y,test_size=0.20,random_state=42)"
   ]
  },
  {
   "cell_type": "code",
   "execution_count": 21,
   "metadata": {
    "_uuid": "188b47e4083e47c785c227128a00ea54430ca6e5"
   },
   "outputs": [],
   "source": [
    "from keras.initializers import Constant\n",
    "from keras.layers import ReLU\n",
    "from keras.layers import Dropout\n",
    "\n",
    "\n",
    "model=Sequential()\n",
    "\n",
    "model.add(Embedding(input_dim=vocab_size,output_dim=300,input_length=max_len,embeddings_initializer=Constant(embed_matrix)))\n",
    " \n",
    "model.add(Flatten())\n",
    "model.add(Dense(16,activation='relu'))\n",
    "model.add(Dropout(0.50))\n",
    "model.add(Dense(2,activation='sigmoid'))"
   ]
  },
  {
   "cell_type": "code",
   "execution_count": 22,
   "metadata": {
    "_uuid": "a3ec211b19a73a4d4db5f1803a5a64f10563cb72"
   },
   "outputs": [],
   "source": [
    "model.compile(optimizer=keras.optimizers.RMSprop(lr=1e-3),loss='binary_crossentropy',metrics=['accuracy'])"
   ]
  },
  {
   "cell_type": "code",
   "execution_count": 23,
   "metadata": {
    "_uuid": "4b791652a838d8c4fac3662af62b268e8d6f7059"
   },
   "outputs": [
    {
     "name": "stdout",
     "output_type": "stream",
     "text": [
      "Train on 291 samples, validate on 73 samples\n",
      "Epoch 1/100\n",
      "291/291 [==============================] - 1s 2ms/step - loss: 0.8321 - acc: 0.5464 - val_loss: 0.6868 - val_acc: 0.5753\n",
      "Epoch 2/100\n",
      "291/291 [==============================] - 0s 284us/step - loss: 0.7167 - acc: 0.5344 - val_loss: 0.6720 - val_acc: 0.5890\n",
      "Epoch 3/100\n",
      "291/291 [==============================] - 0s 263us/step - loss: 0.6719 - acc: 0.5567 - val_loss: 0.6642 - val_acc: 0.5959\n",
      "Epoch 4/100\n",
      "291/291 [==============================] - 0s 267us/step - loss: 0.6717 - acc: 0.5773 - val_loss: 0.6960 - val_acc: 0.5685\n",
      "Epoch 5/100\n",
      "291/291 [==============================] - 0s 262us/step - loss: 0.6670 - acc: 0.5309 - val_loss: 0.6728 - val_acc: 0.5616\n",
      "Epoch 6/100\n",
      "291/291 [==============================] - 0s 256us/step - loss: 0.6537 - acc: 0.5567 - val_loss: 0.6622 - val_acc: 0.6096\n",
      "Epoch 7/100\n",
      "291/291 [==============================] - 0s 293us/step - loss: 0.6473 - acc: 0.5756 - val_loss: 0.6715 - val_acc: 0.5959\n",
      "Epoch 8/100\n",
      "291/291 [==============================] - 0s 236us/step - loss: 0.6530 - acc: 0.5756 - val_loss: 0.6700 - val_acc: 0.5959\n",
      "Epoch 9/100\n",
      "291/291 [==============================] - 0s 277us/step - loss: 0.6345 - acc: 0.5997 - val_loss: 0.7101 - val_acc: 0.5479\n",
      "Epoch 10/100\n",
      "291/291 [==============================] - 0s 259us/step - loss: 0.6399 - acc: 0.5911 - val_loss: 0.6766 - val_acc: 0.5685\n",
      "Epoch 11/100\n",
      "291/291 [==============================] - 0s 248us/step - loss: 0.6077 - acc: 0.6203 - val_loss: 0.6789 - val_acc: 0.5959\n",
      "Epoch 12/100\n",
      "291/291 [==============================] - 0s 268us/step - loss: 0.5859 - acc: 0.6082 - val_loss: 0.6808 - val_acc: 0.6096\n",
      "Epoch 13/100\n",
      "291/291 [==============================] - 0s 252us/step - loss: 0.5741 - acc: 0.6426 - val_loss: 0.7274 - val_acc: 0.5616\n",
      "Epoch 14/100\n",
      "291/291 [==============================] - 0s 275us/step - loss: 0.5755 - acc: 0.6220 - val_loss: 0.6891 - val_acc: 0.5753\n",
      "Epoch 15/100\n",
      "291/291 [==============================] - 0s 270us/step - loss: 0.5511 - acc: 0.6735 - val_loss: 0.6825 - val_acc: 0.6096\n",
      "Epoch 16/100\n",
      "291/291 [==============================] - 0s 277us/step - loss: 0.5083 - acc: 0.6701 - val_loss: 0.6920 - val_acc: 0.6027\n",
      "Epoch 17/100\n",
      "291/291 [==============================] - 0s 281us/step - loss: 0.4921 - acc: 0.6856 - val_loss: 0.6915 - val_acc: 0.5890\n",
      "Epoch 18/100\n",
      "291/291 [==============================] - 0s 268us/step - loss: 0.4857 - acc: 0.7027 - val_loss: 0.6859 - val_acc: 0.6233\n",
      "Epoch 19/100\n",
      "291/291 [==============================] - 0s 263us/step - loss: 0.4719 - acc: 0.7062 - val_loss: 0.6924 - val_acc: 0.6027\n",
      "Epoch 20/100\n",
      "291/291 [==============================] - 0s 253us/step - loss: 0.4441 - acc: 0.7302 - val_loss: 0.6990 - val_acc: 0.6233\n",
      "Epoch 21/100\n",
      "291/291 [==============================] - 0s 239us/step - loss: 0.4495 - acc: 0.7388 - val_loss: 0.7010 - val_acc: 0.6164\n",
      "Epoch 22/100\n",
      "291/291 [==============================] - 0s 231us/step - loss: 0.4061 - acc: 0.7560 - val_loss: 0.7090 - val_acc: 0.6164\n",
      "Epoch 23/100\n",
      "291/291 [==============================] - 0s 220us/step - loss: 0.4122 - acc: 0.7474 - val_loss: 0.7349 - val_acc: 0.6164\n",
      "Epoch 24/100\n",
      "291/291 [==============================] - 0s 237us/step - loss: 0.3952 - acc: 0.7612 - val_loss: 0.7397 - val_acc: 0.5616\n",
      "Epoch 25/100\n",
      "291/291 [==============================] - 0s 232us/step - loss: 0.3884 - acc: 0.7680 - val_loss: 0.7319 - val_acc: 0.5890\n",
      "Epoch 26/100\n",
      "291/291 [==============================] - 0s 237us/step - loss: 0.3722 - acc: 0.7577 - val_loss: 0.7354 - val_acc: 0.6507\n",
      "Epoch 27/100\n",
      "291/291 [==============================] - 0s 197us/step - loss: 0.3616 - acc: 0.7938 - val_loss: 0.7547 - val_acc: 0.6438\n",
      "Epoch 28/100\n",
      "291/291 [==============================] - 0s 221us/step - loss: 0.3437 - acc: 0.7852 - val_loss: 0.7441 - val_acc: 0.6301\n",
      "Epoch 29/100\n",
      "291/291 [==============================] - 0s 222us/step - loss: 0.3291 - acc: 0.8144 - val_loss: 0.8425 - val_acc: 0.6096\n",
      "Epoch 30/100\n",
      "291/291 [==============================] - 0s 216us/step - loss: 0.3350 - acc: 0.8213 - val_loss: 0.7442 - val_acc: 0.6301\n",
      "Epoch 31/100\n",
      "291/291 [==============================] - 0s 236us/step - loss: 0.3206 - acc: 0.8196 - val_loss: 0.7385 - val_acc: 0.6370\n",
      "Epoch 32/100\n",
      "291/291 [==============================] - 0s 194us/step - loss: 0.3253 - acc: 0.8282 - val_loss: 0.8116 - val_acc: 0.6233\n",
      "Epoch 33/100\n",
      "291/291 [==============================] - 0s 225us/step - loss: 0.3155 - acc: 0.8041 - val_loss: 0.9450 - val_acc: 0.5753\n",
      "Epoch 34/100\n",
      "291/291 [==============================] - 0s 243us/step - loss: 0.2984 - acc: 0.8316 - val_loss: 0.7896 - val_acc: 0.6301\n",
      "Epoch 35/100\n",
      "291/291 [==============================] - 0s 224us/step - loss: 0.2943 - acc: 0.8557 - val_loss: 0.7968 - val_acc: 0.6164\n",
      "Epoch 36/100\n",
      "291/291 [==============================] - 0s 233us/step - loss: 0.2968 - acc: 0.8282 - val_loss: 0.8128 - val_acc: 0.6301\n",
      "Epoch 37/100\n",
      "291/291 [==============================] - 0s 239us/step - loss: 0.2909 - acc: 0.8144 - val_loss: 0.9025 - val_acc: 0.6370\n",
      "Epoch 38/100\n",
      "291/291 [==============================] - 0s 264us/step - loss: 0.2783 - acc: 0.8196 - val_loss: 0.8962 - val_acc: 0.6233\n",
      "Epoch 39/100\n",
      "291/291 [==============================] - 0s 248us/step - loss: 0.2850 - acc: 0.8419 - val_loss: 0.9105 - val_acc: 0.6164\n",
      "Epoch 40/100\n",
      "291/291 [==============================] - 0s 223us/step - loss: 0.2702 - acc: 0.8522 - val_loss: 0.8559 - val_acc: 0.6438\n",
      "Epoch 41/100\n",
      "291/291 [==============================] - 0s 253us/step - loss: 0.2946 - acc: 0.8316 - val_loss: 0.9533 - val_acc: 0.6301\n",
      "Epoch 42/100\n",
      "291/291 [==============================] - 0s 233us/step - loss: 0.2717 - acc: 0.8471 - val_loss: 0.9980 - val_acc: 0.6233\n",
      "Epoch 43/100\n",
      "291/291 [==============================] - 0s 211us/step - loss: 0.2546 - acc: 0.8557 - val_loss: 1.0228 - val_acc: 0.6233\n",
      "Epoch 44/100\n",
      "291/291 [==============================] - 0s 233us/step - loss: 0.2654 - acc: 0.8505 - val_loss: 1.1682 - val_acc: 0.5685\n",
      "Epoch 45/100\n",
      "291/291 [==============================] - 0s 248us/step - loss: 0.2774 - acc: 0.8144 - val_loss: 1.0837 - val_acc: 0.6164\n",
      "Epoch 46/100\n",
      "291/291 [==============================] - 0s 240us/step - loss: 0.2596 - acc: 0.8436 - val_loss: 1.0890 - val_acc: 0.6164\n",
      "Epoch 47/100\n",
      "291/291 [==============================] - 0s 250us/step - loss: 0.2578 - acc: 0.8471 - val_loss: 1.2104 - val_acc: 0.6027\n",
      "Epoch 48/100\n",
      "291/291 [==============================] - 0s 233us/step - loss: 0.2606 - acc: 0.8299 - val_loss: 1.0056 - val_acc: 0.6164\n",
      "Epoch 49/100\n",
      "291/291 [==============================] - 0s 226us/step - loss: 0.2484 - acc: 0.8557 - val_loss: 1.0515 - val_acc: 0.6233\n",
      "Epoch 50/100\n",
      "291/291 [==============================] - 0s 233us/step - loss: 0.2490 - acc: 0.8574 - val_loss: 1.0289 - val_acc: 0.6164\n",
      "Epoch 51/100\n",
      "291/291 [==============================] - 0s 238us/step - loss: 0.2610 - acc: 0.8505 - val_loss: 1.0966 - val_acc: 0.6164\n",
      "Epoch 52/100\n",
      "291/291 [==============================] - 0s 213us/step - loss: 0.2512 - acc: 0.8385 - val_loss: 1.0779 - val_acc: 0.6164\n",
      "Epoch 53/100\n",
      "291/291 [==============================] - 0s 229us/step - loss: 0.2576 - acc: 0.8316 - val_loss: 1.0405 - val_acc: 0.6507\n",
      "Epoch 54/100\n",
      "291/291 [==============================] - 0s 238us/step - loss: 0.2558 - acc: 0.8316 - val_loss: 1.1562 - val_acc: 0.6233\n",
      "Epoch 55/100\n",
      "291/291 [==============================] - 0s 223us/step - loss: 0.2375 - acc: 0.8368 - val_loss: 1.1680 - val_acc: 0.6438\n",
      "Epoch 56/100\n",
      "291/291 [==============================] - 0s 226us/step - loss: 0.2417 - acc: 0.8368 - val_loss: 1.1866 - val_acc: 0.6507\n",
      "Epoch 57/100\n",
      "291/291 [==============================] - 0s 207us/step - loss: 0.2338 - acc: 0.8213 - val_loss: 1.2233 - val_acc: 0.6370\n",
      "Epoch 58/100\n",
      "291/291 [==============================] - 0s 215us/step - loss: 0.2369 - acc: 0.8643 - val_loss: 1.2408 - val_acc: 0.6233\n",
      "Epoch 59/100\n",
      "291/291 [==============================] - 0s 235us/step - loss: 0.2296 - acc: 0.8540 - val_loss: 1.4003 - val_acc: 0.6096\n",
      "Epoch 60/100\n",
      "291/291 [==============================] - 0s 259us/step - loss: 0.2426 - acc: 0.8522 - val_loss: 1.4460 - val_acc: 0.6027\n",
      "Epoch 61/100\n",
      "291/291 [==============================] - 0s 251us/step - loss: 0.2245 - acc: 0.8574 - val_loss: 1.4642 - val_acc: 0.6027\n",
      "Epoch 62/100\n",
      "291/291 [==============================] - 0s 243us/step - loss: 0.2379 - acc: 0.8402 - val_loss: 1.3583 - val_acc: 0.6233\n",
      "Epoch 63/100\n",
      "291/291 [==============================] - 0s 229us/step - loss: 0.2256 - acc: 0.8557 - val_loss: 1.3954 - val_acc: 0.6438\n",
      "Epoch 64/100\n",
      "291/291 [==============================] - 0s 224us/step - loss: 0.2343 - acc: 0.8471 - val_loss: 1.4136 - val_acc: 0.6301\n",
      "Epoch 65/100\n",
      "291/291 [==============================] - 0s 221us/step - loss: 0.2303 - acc: 0.8522 - val_loss: 1.3644 - val_acc: 0.6370\n",
      "Epoch 66/100\n",
      "291/291 [==============================] - 0s 228us/step - loss: 0.2361 - acc: 0.8557 - val_loss: 1.4301 - val_acc: 0.6370\n",
      "Epoch 67/100\n",
      "291/291 [==============================] - 0s 247us/step - loss: 0.2393 - acc: 0.8419 - val_loss: 1.3222 - val_acc: 0.6507\n",
      "Epoch 68/100\n",
      "291/291 [==============================] - 0s 218us/step - loss: 0.2214 - acc: 0.8402 - val_loss: 1.3512 - val_acc: 0.6575\n",
      "Epoch 69/100\n",
      "291/291 [==============================] - 0s 221us/step - loss: 0.2280 - acc: 0.8454 - val_loss: 1.3344 - val_acc: 0.6164\n",
      "Epoch 70/100\n",
      "291/291 [==============================] - 0s 209us/step - loss: 0.2263 - acc: 0.8522 - val_loss: 1.4195 - val_acc: 0.6712\n",
      "Epoch 71/100\n",
      "291/291 [==============================] - 0s 241us/step - loss: 0.2291 - acc: 0.8265 - val_loss: 1.3614 - val_acc: 0.6575\n",
      "Epoch 72/100\n",
      "291/291 [==============================] - 0s 214us/step - loss: 0.2480 - acc: 0.8436 - val_loss: 1.4654 - val_acc: 0.6233\n",
      "Epoch 73/100\n",
      "291/291 [==============================] - 0s 229us/step - loss: 0.2310 - acc: 0.8385 - val_loss: 1.4929 - val_acc: 0.6096\n",
      "Epoch 74/100\n",
      "291/291 [==============================] - 0s 243us/step - loss: 0.2316 - acc: 0.8402 - val_loss: 1.4568 - val_acc: 0.6507\n",
      "Epoch 75/100\n",
      "291/291 [==============================] - 0s 229us/step - loss: 0.2243 - acc: 0.8454 - val_loss: 1.4616 - val_acc: 0.6507\n",
      "Epoch 76/100\n",
      "291/291 [==============================] - 0s 239us/step - loss: 0.2132 - acc: 0.8540 - val_loss: 1.4616 - val_acc: 0.6507\n",
      "Epoch 77/100\n",
      "291/291 [==============================] - 0s 224us/step - loss: 0.2331 - acc: 0.8436 - val_loss: 1.5232 - val_acc: 0.6370\n",
      "Epoch 78/100\n",
      "291/291 [==============================] - 0s 200us/step - loss: 0.2271 - acc: 0.8625 - val_loss: 1.6104 - val_acc: 0.6096\n",
      "Epoch 79/100\n",
      "291/291 [==============================] - 0s 221us/step - loss: 0.2216 - acc: 0.8625 - val_loss: 1.5384 - val_acc: 0.6370\n",
      "Epoch 80/100\n",
      "291/291 [==============================] - 0s 223us/step - loss: 0.2289 - acc: 0.8522 - val_loss: 1.4958 - val_acc: 0.6575\n",
      "Epoch 81/100\n",
      "291/291 [==============================] - 0s 234us/step - loss: 0.2187 - acc: 0.8608 - val_loss: 1.5450 - val_acc: 0.6370\n",
      "Epoch 82/100\n",
      "291/291 [==============================] - 0s 215us/step - loss: 0.2218 - acc: 0.8540 - val_loss: 1.5429 - val_acc: 0.6370\n",
      "Epoch 83/100\n",
      "291/291 [==============================] - 0s 246us/step - loss: 0.2160 - acc: 0.8557 - val_loss: 1.5330 - val_acc: 0.6507\n",
      "Epoch 84/100\n",
      "291/291 [==============================] - 0s 211us/step - loss: 0.2220 - acc: 0.8419 - val_loss: 1.5383 - val_acc: 0.5753\n",
      "Epoch 85/100\n",
      "291/291 [==============================] - 0s 258us/step - loss: 0.2176 - acc: 0.8540 - val_loss: 1.6147 - val_acc: 0.6370\n",
      "Epoch 86/100\n",
      "291/291 [==============================] - 0s 234us/step - loss: 0.2214 - acc: 0.8540 - val_loss: 1.6631 - val_acc: 0.6301\n",
      "Epoch 87/100\n",
      "291/291 [==============================] - 0s 220us/step - loss: 0.2243 - acc: 0.8557 - val_loss: 1.6036 - val_acc: 0.6438\n",
      "Epoch 88/100\n",
      "291/291 [==============================] - 0s 219us/step - loss: 0.2195 - acc: 0.8591 - val_loss: 1.7672 - val_acc: 0.6164\n",
      "Epoch 89/100\n",
      "291/291 [==============================] - 0s 224us/step - loss: 0.2165 - acc: 0.8557 - val_loss: 1.7718 - val_acc: 0.6027\n",
      "Epoch 90/100\n",
      "291/291 [==============================] - 0s 232us/step - loss: 0.2320 - acc: 0.8402 - val_loss: 1.7203 - val_acc: 0.6164\n",
      "Epoch 91/100\n",
      "291/291 [==============================] - 0s 222us/step - loss: 0.2296 - acc: 0.8505 - val_loss: 1.8652 - val_acc: 0.6164\n",
      "Epoch 92/100\n",
      "291/291 [==============================] - 0s 225us/step - loss: 0.2123 - acc: 0.8368 - val_loss: 1.7772 - val_acc: 0.6370\n",
      "Epoch 93/100\n",
      "291/291 [==============================] - 0s 225us/step - loss: 0.2220 - acc: 0.8471 - val_loss: 1.7576 - val_acc: 0.6438\n",
      "Epoch 94/100\n",
      "291/291 [==============================] - 0s 211us/step - loss: 0.2268 - acc: 0.8419 - val_loss: 1.7270 - val_acc: 0.5890\n",
      "Epoch 95/100\n",
      "291/291 [==============================] - 0s 215us/step - loss: 0.2263 - acc: 0.8591 - val_loss: 1.8307 - val_acc: 0.6370\n",
      "Epoch 96/100\n",
      "291/291 [==============================] - 0s 219us/step - loss: 0.2267 - acc: 0.8351 - val_loss: 1.7333 - val_acc: 0.5753\n",
      "Epoch 97/100\n",
      "291/291 [==============================] - 0s 236us/step - loss: 0.2139 - acc: 0.8316 - val_loss: 1.6757 - val_acc: 0.6575\n",
      "Epoch 98/100\n",
      "291/291 [==============================] - 0s 219us/step - loss: 0.2217 - acc: 0.8729 - val_loss: 1.6828 - val_acc: 0.6575\n",
      "Epoch 99/100\n",
      "291/291 [==============================] - 0s 214us/step - loss: 0.2247 - acc: 0.8454 - val_loss: 1.7749 - val_acc: 0.6233\n",
      "Epoch 100/100\n",
      "291/291 [==============================] - 0s 220us/step - loss: 0.2250 - acc: 0.8625 - val_loss: 1.7263 - val_acc: 0.6575\n"
     ]
    },
    {
     "data": {
      "text/plain": [
       "<keras.callbacks.History at 0x7f5ed37dae80>"
      ]
     },
     "execution_count": 23,
     "metadata": {},
     "output_type": "execute_result"
    }
   ],
   "source": [
    "epochs=100\n",
    "batch_size=64\n",
    "model.fit(x_train,y_train,epochs=epochs,batch_size=batch_size,validation_data=(x_test,y_test))"
   ]
  },
  {
   "cell_type": "code",
   "execution_count": 24,
   "metadata": {
    "_uuid": "820e2a2fd27f86ce430695efdaae1705e551a9d6"
   },
   "outputs": [],
   "source": [
    "predictions = model.predict(x_test)"
   ]
  },
  {
   "cell_type": "code",
   "execution_count": 25,
   "metadata": {
    "_uuid": "c2e43d39536181746b718b9690310ae416dfef5e"
   },
   "outputs": [],
   "source": [
    "(rows,cols) = predictions.shape\n",
    "op = np.zeros((rows,cols))\n",
    "\n",
    "for i in range(rows):\n",
    "    for j in range(cols):\n",
    "        if(predictions[i,j] < 0.5):\n",
    "            op[i,j] = 0\n",
    "        else:\n",
    "            op[i,j] = 1\n"
   ]
  },
  {
   "cell_type": "code",
   "execution_count": 26,
   "metadata": {
    "_uuid": "20a39f83024260044b766f5c0568c4d90d75b2e2"
   },
   "outputs": [
    {
     "name": "stdout",
     "output_type": "stream",
     "text": [
      "[[1. 0.]\n",
      " [0. 1.]\n",
      " [0. 1.]\n",
      " [0. 1.]\n",
      " [0. 1.]\n",
      " [0. 1.]\n",
      " [0. 1.]\n",
      " [0. 1.]\n",
      " [0. 1.]\n",
      " [1. 0.]]\n"
     ]
    }
   ],
   "source": [
    "print(op[:10])"
   ]
  },
  {
   "cell_type": "code",
   "execution_count": 27,
   "metadata": {
    "_uuid": "911c6418dbcfbc7b3ac752e33fee4ee61a3d2902",
    "scrolled": true
   },
   "outputs": [
    {
     "name": "stdout",
     "output_type": "stream",
     "text": [
      "[[0. 1.]\n",
      " [0. 1.]\n",
      " [0. 1.]\n",
      " [0. 1.]\n",
      " [0. 1.]\n",
      " [0. 1.]\n",
      " [1. 0.]\n",
      " [0. 1.]\n",
      " [0. 1.]\n",
      " [1. 0.]]\n"
     ]
    }
   ],
   "source": [
    "print(y_test[:10])"
   ]
  },
  {
   "cell_type": "code",
   "execution_count": 28,
   "metadata": {
    "_uuid": "17e6cdab137025b7ef2d844c961a787f1c551bca"
   },
   "outputs": [
    {
     "name": "stdout",
     "output_type": "stream",
     "text": [
      "73/73 [==============================] - 0s 82us/step\n",
      "Test score: 1.72625985210889\n",
      "Test accuracy: 0.6575342469835934\n"
     ]
    }
   ],
   "source": [
    "score, acc = model.evaluate(x_test, y_test,\n",
    "                            batch_size=batch_size)\n",
    "print('Test score:', score)\n",
    "print('Test accuracy:', acc)"
   ]
  },
  {
   "cell_type": "code",
   "execution_count": 29,
   "metadata": {
    "_uuid": "676c1fc69898bebccccb57d5836d326723f114ec"
   },
   "outputs": [],
   "source": []
  },
  {
   "cell_type": "code",
   "execution_count": 29,
   "metadata": {
    "_uuid": "4485cd14842747bbf5825d1db8506881d89d8188"
   },
   "outputs": [
    {
     "name": "stdout",
     "output_type": "stream",
     "text": [
      "['happy problem getting solved professionally good management']\n"
     ]
    }
   ],
   "source": [
    "text = tok.sequences_to_texts(x_test[6:7])\n",
    "print(text)"
   ]
  },
  {
   "cell_type": "code",
   "execution_count": 30,
   "metadata": {
    "_uuid": "3c606dbb9c9b5f920c8e8a0a0b33c4405c40fb07"
   },
   "outputs": [],
   "source": []
  },
  {
   "cell_type": "code",
   "execution_count": 30,
   "metadata": {
    "_uuid": "311415a0e5527ba4815893a8b712f775a5034dc1"
   },
   "outputs": [],
   "source": []
  },
  {
   "cell_type": "code",
   "execution_count": 30,
   "metadata": {
    "_uuid": "5a300b4eca077b22e274ee5fafa765af366ea722"
   },
   "outputs": [],
   "source": []
  }
 ],
 "metadata": {
  "kernelspec": {
   "display_name": "Python 3",
   "language": "python",
   "name": "python3"
  },
  "language_info": {
   "codemirror_mode": {
    "name": "ipython",
    "version": 3
   },
   "file_extension": ".py",
   "mimetype": "text/x-python",
   "name": "python",
   "nbconvert_exporter": "python",
   "pygments_lexer": "ipython3",
   "version": "3.6.6"
  }
 },
 "nbformat": 4,
 "nbformat_minor": 1
}
