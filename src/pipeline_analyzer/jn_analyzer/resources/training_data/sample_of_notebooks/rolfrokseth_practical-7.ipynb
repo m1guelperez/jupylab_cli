{
 "cells": [
  {
   "cell_type": "markdown",
   "metadata": {},
   "source": [
    "# Question 1"
   ]
  },
  {
   "cell_type": "code",
   "execution_count": 1,
   "metadata": {},
   "outputs": [
    {
     "name": "stdout",
     "output_type": "stream",
     "text": [
      "[1, 2, 3, 5, 6, 7, 8, 9]\n"
     ]
    }
   ],
   "source": [
    "#https://interactivepython.org/courselib/static/pythonds/SortSearch/TheInsertionSort.html\n",
    "def insertionSort(alist):\n",
    "   for index in range(1,len(alist)):\n",
    "\n",
    "     currentvalue = alist[index]\n",
    "     position = index\n",
    "\n",
    "     while position>0 and alist[position-1]>currentvalue:\n",
    "         alist[position]=alist[position-1]\n",
    "         position = position-1\n",
    "\n",
    "     alist[position]=currentvalue\n",
    "\n",
    "alist = [5,6,3,1,2,7,9,8]\n",
    "insertionSort(alist)\n",
    "print(alist)\n"
   ]
  },
  {
   "cell_type": "code",
   "execution_count": 2,
   "metadata": {},
   "outputs": [
    {
     "name": "stdout",
     "output_type": "stream",
     "text": [
      "[1, 2, 3, 5, 6, 7, 8, 9]\n"
     ]
    }
   ],
   "source": [
    "# https://interactivepython.org/lpomz/courselib/static/pythonds/SortSearch/TheSelectionSort.html\n",
    "def selectionSort(alist):\n",
    "   for fillslot in range(len(alist)-1,0,-1):\n",
    "       positionOfMax=0\n",
    "       for location in range(1,fillslot+1):\n",
    "           if alist[location]>alist[positionOfMax]:\n",
    "               positionOfMax = location\n",
    "\n",
    "       temp = alist[fillslot]\n",
    "       alist[fillslot] = alist[positionOfMax]\n",
    "       alist[positionOfMax] = temp\n",
    "\n",
    "\n",
    "alist = [5,6,3,1,2,7,9,8]\n",
    "selectionSort(alist)\n",
    "print(alist)"
   ]
  },
  {
   "cell_type": "markdown",
   "metadata": {},
   "source": [
    "### Step by step\n",
    "\n",
    "[5,6,3,1,2,7,9,8]\n",
    "#### Insertion sort\n",
    "- Collection C = [5,6,3,1,2,7,9,8] - Priority Queue P = []\n",
    "- Phase 1\n",
    "- a, C = [6,3,1,2,7,9,8] - P = [5]\n",
    "- b, C = [3,1,2,7,9,8] - P = [5,6]\n",
    "- c, C = [1,2,7,9,8] - P = [3,5,6]\n",
    "- d, C = [2,7,9,8] - P = [1,3,5,6]\n",
    "- d, C = [7,9,8] - P = [1,2,3,5,6]\n",
    "- e, C = [9,8] - P = [1,2,3,5,6,7]\n",
    "- f, C = [8] - P = [1,2,3,5,6,7,9]\n",
    "- g, C = [] - P = [1,2,3,5,6,7,8,9]\n",
    "- Phase 2\n",
    "- a, C = [1] - P = [2,3,5,6,7,8,9]\n",
    "- b, C = [1,2] - P = [3,5,6,7,8,9]\n",
    "- c, C = [1,2,3] - P = [5,6,7,8,9]\n",
    "- d, C = [1,2,3,5] - P = [6,7,8,9]\n",
    "- d, C = [1,2,3,5,6] - P = [7,8,9]\n",
    "- e, C = [1,2,3,5,6,7] - P = [8,9]\n",
    "- f, C = [1,2,3,5,6,7,8] - P = [9]\n",
    "- g, C = [1,2,3,5,6,7,8,9] - P = []\n",
    "\n",
    "\n",
    "##### Selection sort\n",
    "\n",
    "- Collection C = [5,6,3,1,2,7,9,8] - Priority Queue P = []\n",
    "- Phase 1\n",
    "- a, C = [6,3,1,2,7,9,8] - P = [5]\n",
    "- b, C = [3,1,2,7,9,8] - P = [5,6]\n",
    "- c, C = [1,2,7,9,8] - P = [5,6,3]\n",
    "- d, C = [2,7,9,8] - P = [5,6,3,1]\n",
    "- d, C = [7,9,8] - P = [5,6,3,1,2]\n",
    "- e, C = [9,8] - P = [5,6,3,1,2,7]\n",
    "- f, C = [8] - P = [5,6,3,1,2,7,9]\n",
    "- g, C = [] - P = [5,6,3,1,2,7,9,8]\n",
    "- Phase 2\n",
    "- a, C = [1] - P = [5,6,3,2,7,9,8]\n",
    "- b, C = [1,2] - P = [5,6,3,7,9,8]\n",
    "- c, C = [1,2,3] - P = [5,6,7,9,8]\n",
    "- d, C = [1,2,3,5] - P = [6,7,9,8]\n",
    "- d, C = [1,2,3,5,6] - P = [7,9,8]\n",
    "- e, C = [1,2,3,5,6,7] - P = [9,8]\n",
    "- f, C = [1,2,3,5,6,7,8] - P = [9]\n",
    "- g, C = [1,2,3,5,6,7,8,9] - P = []\n"
   ]
  },
  {
   "cell_type": "markdown",
   "metadata": {},
   "source": [
    "### Question 2\n",
    "\n",
    "A worst case sequence for insertion sort would be one with decending keys. \n",
    "for example 14,12,9,5,3,1. All elements would have to be compared to other elements, making it \n",
    "1 + 2 +  ... + (n - 1) + n = n(n + 1) = O(n2)."
   ]
  },
  {
   "cell_type": "markdown",
   "metadata": {},
   "source": [
    "# Question 3"
   ]
  },
  {
   "cell_type": "code",
   "execution_count": 3,
   "metadata": {},
   "outputs": [
    {
     "name": "stdout",
     "output_type": "stream",
     "text": [
      "0\n",
      "1\n",
      "2\n",
      "3\n",
      "4\n",
      "5\n",
      "7\n",
      "8\n",
      "9\n"
     ]
    }
   ],
   "source": [
    "class BinHeap:\n",
    "    def __init__(self):\n",
    "        self.heapList = [0]\n",
    "        self.currentSize = 0\n",
    "\n",
    "\n",
    "    def percUp(self,i):\n",
    "        while i // 2 > 0:\n",
    "          if self.heapList[i] < self.heapList[i // 2]:\n",
    "             tmp = self.heapList[i // 2]\n",
    "             self.heapList[i // 2] = self.heapList[i]\n",
    "             self.heapList[i] = tmp\n",
    "          i = i // 2\n",
    "\n",
    "    def insert(self,k):\n",
    "      self.heapList.append(k)\n",
    "      self.currentSize = self.currentSize + 1\n",
    "      self.percUp(self.currentSize)\n",
    "\n",
    "    def percDown(self,i):\n",
    "      while (i * 2) <= self.currentSize:\n",
    "          mc = self.minChild(i)\n",
    "          if self.heapList[i] > self.heapList[mc]:\n",
    "              tmp = self.heapList[i]\n",
    "              self.heapList[i] = self.heapList[mc]\n",
    "              self.heapList[mc] = tmp\n",
    "          i = mc\n",
    "\n",
    "    def minChild(self,i):\n",
    "      if i * 2 + 1 > self.currentSize:\n",
    "          return i * 2\n",
    "      else:\n",
    "          if self.heapList[i*2] < self.heapList[i*2+1]:\n",
    "              return i * 2\n",
    "          else:\n",
    "              return i * 2 + 1\n",
    "\n",
    "    def delMin(self):\n",
    "      retval = self.heapList[1]\n",
    "      self.heapList[1] = self.heapList[self.currentSize]\n",
    "      self.currentSize = self.currentSize - 1\n",
    "      self.heapList.pop()\n",
    "      self.percDown(1)\n",
    "      return retval\n",
    "\n",
    "    def buildHeap(self,alist):\n",
    "      i = len(alist) // 2\n",
    "      self.currentSize = len(alist)\n",
    "      self.heapList = [0] + alist[:]\n",
    "      while (i > 0):\n",
    "          self.percDown(i)\n",
    "          i = i - 1\n",
    "\n",
    "bh = BinHeap()\n",
    "bh.buildHeap([5,1,4,7,3,9,0,2,8])\n",
    "\n",
    "print(bh.delMin())\n",
    "print(bh.delMin())\n",
    "print(bh.delMin())\n",
    "print(bh.delMin())\n",
    "print(bh.delMin())\n",
    "print(bh.delMin())\n",
    "print(bh.delMin())\n",
    "print(bh.delMin())\n",
    "print(bh.delMin())\n"
   ]
  },
  {
   "attachments": {
    "prac7.PNG": {
     "image/png": "[encoded data removed]"
    }
   },
   "cell_type": "markdown",
   "metadata": {},
   "source": [
    "#### Will look something like this step by step\n",
    "\n",
    "\n",
    "![prac7.PNG](attachment:prac7.PNG)"
   ]
  },
  {
   "attachments": {
    "prac7q4.PNG": {
     "image/png": "[encoded data removed]"
    }
   },
   "cell_type": "markdown",
   "metadata": {},
   "source": [
    "### Question 4 \n",
    "\n",
    "To remove key 2 from the heap step 1 is to swap it with key 6, key 6 being \n",
    "the last key inserted. \n",
    "The secound step is to swap key 6 and 4. \n",
    "\n",
    "The heap will then look something like: \n",
    "\n",
    "![prac7q4.PNG](attachment:prac7q4.PNG)\n",
    "\n"
   ]
  },
  {
   "cell_type": "markdown",
   "metadata": {},
   "source": [
    "### Question 5 \n",
    "\n",
    "The third smallest key can be stored at depth 1 or 2. "
   ]
  },
  {
   "cell_type": "markdown",
   "metadata": {},
   "source": [
    "### Questiom 6\n",
    "\n",
    "The largest key will be stored in an external node"
   ]
  }
 ],
 "metadata": {
  "kernelspec": {
   "display_name": "Python 3",
   "language": "python",
   "name": "python3"
  },
  "language_info": {
   "codemirror_mode": {
    "name": "ipython",
    "version": 3
   },
   "file_extension": ".py",
   "mimetype": "text/x-python",
   "name": "python",
   "nbconvert_exporter": "python",
   "pygments_lexer": "ipython3",
   "version": "3.6.4"
  }
 },
 "nbformat": 4,
 "nbformat_minor": 1
}
