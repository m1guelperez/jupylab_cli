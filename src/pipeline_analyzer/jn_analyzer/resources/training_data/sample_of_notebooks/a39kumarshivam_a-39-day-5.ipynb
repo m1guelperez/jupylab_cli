{
 "cells": [
  {
   "cell_type": "code",
   "execution_count": 1,
   "metadata": {
    "_cell_guid": "b1076dfc-b9ad-4769-8c92-a6c4dae69d19",
    "_uuid": "8f2839f25d086af736a60e9eeb907d3b93b6e0e5",
    "execution": {
     "iopub.execute_input": "2020-08-31T09:57:30.979005Z",
     "iopub.status.busy": "2020-08-31T09:57:30.977510Z",
     "iopub.status.idle": "2020-08-31T09:57:30.990054Z",
     "shell.execute_reply": "2020-08-31T09:57:30.989393Z"
    },
    "papermill": {
     "duration": 0.03595,
     "end_time": "2020-08-31T09:57:30.990182",
     "exception": false,
     "start_time": "2020-08-31T09:57:30.954232",
     "status": "completed"
    },
    "tags": []
   },
   "outputs": [
    {
     "name": "stdout",
     "output_type": "stream",
     "text": [
      "/kaggle/input/iris-dataset/iris.data.csv\n",
      "/kaggle/input/daily-sun-spot-data-1818-to-2019/sunspot_data.csv\n"
     ]
    }
   ],
   "source": [
    "# This Python 3 environment comes with many helpful analytics libraries installed\n",
    "# It is defined by the kaggle/python Docker image: https://github.com/kaggle/docker-python\n",
    "# For example, here's several helpful packages to load\n",
    "\n",
    "import numpy as np # linear algebra\n",
    "import pandas as pd # data processing, CSV file I/O (e.g. pd.read_csv)\n",
    "\n",
    "# Input data files are available in the read-only \"../input/\" directory\n",
    "# For example, running this (by clicking run or pressing Shift+Enter) will list all files under the input directory\n",
    "\n",
    "import os\n",
    "for dirname, _, filenames in os.walk('/kaggle/input'):\n",
    "    for filename in filenames:\n",
    "        print(os.path.join(dirname, filename))\n",
    "\n",
    "# You can write up to 5GB to the current directory (/kaggle/working/) that gets preserved as output when you create a version using \"Save & Run All\" \n",
    "# You can also write temporary files to /kaggle/temp/, but they won't be saved outside of the current session"
   ]
  },
  {
   "cell_type": "code",
   "execution_count": 2,
   "metadata": {
    "execution": {
     "iopub.execute_input": "2020-08-31T09:57:31.029113Z",
     "iopub.status.busy": "2020-08-31T09:57:31.027915Z",
     "iopub.status.idle": "2020-08-31T09:57:31.053451Z",
     "shell.execute_reply": "2020-08-31T09:57:31.052339Z"
    },
    "papermill": {
     "duration": 0.052641,
     "end_time": "2020-08-31T09:57:31.053748",
     "exception": false,
     "start_time": "2020-08-31T09:57:31.001107",
     "status": "completed"
    },
    "tags": []
   },
   "outputs": [
    {
     "name": "stdout",
     "output_type": "stream",
     "text": [
      "\n",
      "Keys of Iris dataset:\n",
      "Index(['5.1', '3.5', '1.4', '0.2', 'Iris-setosa'], dtype='object')\n",
      "\n",
      "Number of rows and columns of Iris dataset:\n",
      "(149, 5)\n"
     ]
    }
   ],
   "source": [
    "#1 Write a python program using Scikit_learn to print the keys, number of rows-columns , feature names and the description of the iris data.\n",
    "import pandas as pd\n",
    "iris_data = pd.read_csv(\"../input/iris-dataset/iris.data.csv\")\n",
    "print(\"\\nKeys of Iris dataset:\")\n",
    "print(iris_data.keys())\n",
    "print(\"\\nNumber of rows and columns of Iris dataset:\")\n",
    "print(iris_data.shape)"
   ]
  },
  {
   "cell_type": "code",
   "execution_count": 3,
   "metadata": {
    "execution": {
     "iopub.execute_input": "2020-08-31T09:57:31.083369Z",
     "iopub.status.busy": "2020-08-31T09:57:31.082059Z",
     "iopub.status.idle": "2020-08-31T09:57:31.224076Z",
     "shell.execute_reply": "2020-08-31T09:57:31.225521Z"
    },
    "papermill": {
     "duration": 0.16197,
     "end_time": "2020-08-31T09:57:31.225807",
     "exception": false,
     "start_time": "2020-08-31T09:57:31.063837",
     "status": "completed"
    },
    "tags": []
   },
   "outputs": [
    {
     "name": "stdout",
     "output_type": "stream",
     "text": [
      "<class 'pandas.core.frame.DataFrame'>\n",
      "RangeIndex: 73718 entries, 0 to 73717\n",
      "Data columns (total 9 columns):\n",
      " #   Column                    Non-Null Count  Dtype  \n",
      "---  ------                    --------------  -----  \n",
      " 0   Unnamed: 0                73718 non-null  int64  \n",
      " 1   Year                      73718 non-null  int64  \n",
      " 2   Month                     73718 non-null  int64  \n",
      " 3   Day                       73718 non-null  int64  \n",
      " 4   Date In Fraction Of Year  73718 non-null  float64\n",
      " 5   Number of Sunspots        73718 non-null  int64  \n",
      " 6   Standard Deviation        73718 non-null  float64\n",
      " 7   Observations              73718 non-null  int64  \n",
      " 8   Indicator                 73718 non-null  int64  \n",
      "dtypes: float64(2), int64(7)\n",
      "memory usage: 5.1 MB\n",
      "None\n"
     ]
    }
   ],
   "source": [
    "#2 Write a python program to get the number of observations,missing values and nan values.\n",
    "import pandas as pd\n",
    "iris = pd.read_csv(\"../input/daily-sun-spot-data-1818-to-2019/sunspot_data.csv\")\n",
    "print(iris.info())"
   ]
  },
  {
   "cell_type": "code",
   "execution_count": 4,
   "metadata": {
    "execution": {
     "iopub.execute_input": "2020-08-31T09:57:31.266809Z",
     "iopub.status.busy": "2020-08-31T09:57:31.265298Z",
     "iopub.status.idle": "2020-08-31T09:57:31.608689Z",
     "shell.execute_reply": "2020-08-31T09:57:31.607802Z"
    },
    "papermill": {
     "duration": 0.366848,
     "end_time": "2020-08-31T09:57:31.608843",
     "exception": false,
     "start_time": "2020-08-31T09:57:31.241995",
     "status": "completed"
    },
    "tags": []
   },
   "outputs": [
    {
     "name": "stdout",
     "output_type": "stream",
     "text": [
      "NumPy array:\n",
      " [[1. 0. 0. 0. 0. 0.]\n",
      " [0. 1. 0. 0. 0. 0.]\n",
      " [0. 0. 1. 0. 0. 0.]\n",
      " [0. 0. 0. 1. 0. 0.]\n",
      " [0. 0. 0. 0. 1. 0.]\n",
      " [0. 0. 0. 0. 0. 1.]]\n",
      "\n",
      "SciPy sparse CSR matrix:\n",
      "   (0, 0)\t1.0\n",
      "  (1, 1)\t1.0\n",
      "  (2, 2)\t1.0\n",
      "  (3, 3)\t1.0\n",
      "  (4, 4)\t1.0\n",
      "  (5, 5)\t1.0\n"
     ]
    }
   ],
   "source": [
    "#3 Write a python program to create a 2-D array with ones on the diagonal and zeroes elsewhere.\n",
    "import numpy as np\n",
    "from scipy import sparse\n",
    "eye = np.eye(6)\n",
    "print(\"NumPy array:\\n\", eye)\n",
    "sparse_matrix = sparse.csr_matrix(eye)\n",
    "print(\"\\nSciPy sparse CSR matrix:\\n\", sparse_matrix)"
   ]
  },
  {
   "cell_type": "code",
   "execution_count": 5,
   "metadata": {
    "execution": {
     "iopub.execute_input": "2020-08-31T09:57:31.636323Z",
     "iopub.status.busy": "2020-08-31T09:57:31.628425Z",
     "iopub.status.idle": "2020-08-31T09:57:31.641988Z",
     "shell.execute_reply": "2020-08-31T09:57:31.641220Z"
    },
    "papermill": {
     "duration": 0.026326,
     "end_time": "2020-08-31T09:57:31.642121",
     "exception": false,
     "start_time": "2020-08-31T09:57:31.615795",
     "status": "completed"
    },
    "tags": []
   },
   "outputs": [
    {
     "name": "stdout",
     "output_type": "stream",
     "text": [
      "Shape of the data:\n",
      "(149, 5)\n",
      "\n",
      "Data Type:\n",
      "<class 'pandas.core.frame.DataFrame'>\n",
      "\n",
      "First 3 rows:\n",
      "   5.1  3.5  1.4  0.2  Iris-setosa\n",
      "0  4.9  3.0  1.4  0.2  Iris-setosa\n",
      "1  4.7  3.2  1.3  0.2  Iris-setosa\n",
      "2  4.6  3.1  1.5  0.2  Iris-setosa\n"
     ]
    }
   ],
   "source": [
    "#4 Write a python program to load the iris data framefrom a given csv file into a dataframe and print the shape of the data, type of the data and first 3 rows.\n",
    "import pandas as pd\n",
    "data = pd.read_csv(\"../input/iris-dataset/iris.data.csv\")\n",
    "print(\"Shape of the data:\")\n",
    "print(data.shape)\n",
    "print(\"\\nData Type:\")\n",
    "print(type(data))\n",
    "print(\"\\nFirst 3 rows:\")\n",
    "print(data.head(3))"
   ]
  }
 ],
 "metadata": {
  "kernelspec": {
   "display_name": "Python 3",
   "language": "python",
   "name": "python3"
  },
  "language_info": {
   "codemirror_mode": {
    "name": "ipython",
    "version": 3
   },
   "file_extension": ".py",
   "mimetype": "text/x-python",
   "name": "python",
   "nbconvert_exporter": "python",
   "pygments_lexer": "ipython3",
   "version": "3.7.6"
  },
  "papermill": {
   "duration": 6.836731,
   "end_time": "2020-08-31T09:57:31.757804",
   "environment_variables": {},
   "exception": null,
   "input_path": "__notebook__.ipynb",
   "output_path": "__notebook__.ipynb",
   "parameters": {},
   "start_time": "2020-08-31T09:57:24.921073",
   "version": "2.1.0"
  }
 },
 "nbformat": 4,
 "nbformat_minor": 4
}
