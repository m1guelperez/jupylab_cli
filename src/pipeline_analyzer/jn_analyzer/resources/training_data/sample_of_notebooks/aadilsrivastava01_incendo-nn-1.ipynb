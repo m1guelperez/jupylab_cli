{
 "cells": [
  {
   "cell_type": "code",
   "execution_count": 1,
   "metadata": {
    "_cell_guid": "b1076dfc-b9ad-4769-8c92-a6c4dae69d19",
    "_uuid": "8f2839f25d086af736a60e9eeb907d3b93b6e0e5"
   },
   "outputs": [],
   "source": [
    "import numpy as np\n",
    "import pandas as pd "
   ]
  },
  {
   "cell_type": "code",
   "execution_count": 2,
   "metadata": {},
   "outputs": [],
   "source": [
    "train = pd.read_csv('../input/train_file.csv')\n",
    "test = pd.read_csv('../input/test_file.csv')"
   ]
  },
  {
   "cell_type": "code",
   "execution_count": 3,
   "metadata": {},
   "outputs": [
    {
     "data": {
      "text/html": [
       "<div>\n",
       "<style scoped>\n",
       "    .dataframe tbody tr th:only-of-type {\n",
       "        vertical-align: middle;\n",
       "    }\n",
       "\n",
       "    .dataframe tbody tr th {\n",
       "        vertical-align: top;\n",
       "    }\n",
       "\n",
       "    .dataframe thead th {\n",
       "        text-align: right;\n",
       "    }\n",
       "</style>\n",
       "<table border=\"1\" class=\"dataframe\">\n",
       "  <thead>\n",
       "    <tr style=\"text-align: right;\">\n",
       "      <th></th>\n",
       "      <th>Patient_ID</th>\n",
       "      <th>YEAR</th>\n",
       "      <th>LocationDesc</th>\n",
       "      <th>Subtopic</th>\n",
       "      <th>Greater_Risk_Question</th>\n",
       "      <th>Description</th>\n",
       "      <th>Sample_Size</th>\n",
       "      <th>Sex</th>\n",
       "      <th>Race</th>\n",
       "      <th>Grade</th>\n",
       "      <th>GeoLocation</th>\n",
       "      <th>QuestionCode</th>\n",
       "      <th>StratID1</th>\n",
       "      <th>StratID2</th>\n",
       "      <th>StratID3</th>\n",
       "      <th>StratificationType</th>\n",
       "      <th>Greater_Risk_Probability</th>\n",
       "    </tr>\n",
       "  </thead>\n",
       "  <tbody>\n",
       "    <tr>\n",
       "      <th>0</th>\n",
       "      <td>1</td>\n",
       "      <td>1995</td>\n",
       "      <td>Houston, TX</td>\n",
       "      <td>1</td>\n",
       "      <td>Ever used cocaine</td>\n",
       "      <td>any form of cocaine, such as powder, crack, or...</td>\n",
       "      <td>335.0</td>\n",
       "      <td>Female</td>\n",
       "      <td>Hispanic or Latino</td>\n",
       "      <td>4</td>\n",
       "      <td>(29.760427, -95.369803)</td>\n",
       "      <td>H49</td>\n",
       "      <td>1</td>\n",
       "      <td>4</td>\n",
       "      <td>0</td>\n",
       "      <td>Local</td>\n",
       "      <td>7.4793</td>\n",
       "    </tr>\n",
       "    <tr>\n",
       "      <th>1</th>\n",
       "      <td>2</td>\n",
       "      <td>1997</td>\n",
       "      <td>Houston, TX</td>\n",
       "      <td>0</td>\n",
       "      <td>Currently drank alcohol</td>\n",
       "      <td>at least one drink of alcohol, on at least 1 d...</td>\n",
       "      <td>382.0</td>\n",
       "      <td>Total</td>\n",
       "      <td>Black or African American</td>\n",
       "      <td>4</td>\n",
       "      <td>(29.760427, -95.369803)</td>\n",
       "      <td>H42</td>\n",
       "      <td>0</td>\n",
       "      <td>3</td>\n",
       "      <td>0</td>\n",
       "      <td>Local</td>\n",
       "      <td>49.6852</td>\n",
       "    </tr>\n",
       "    <tr>\n",
       "      <th>2</th>\n",
       "      <td>3</td>\n",
       "      <td>1993</td>\n",
       "      <td>Nevada</td>\n",
       "      <td>0</td>\n",
       "      <td>Had their first drink of alcohol before age 13...</td>\n",
       "      <td>other than a few sips</td>\n",
       "      <td>196.0</td>\n",
       "      <td>Female</td>\n",
       "      <td>White</td>\n",
       "      <td>0</td>\n",
       "      <td>(39.493240390000494, -117.07184056399967)</td>\n",
       "      <td>H41</td>\n",
       "      <td>1</td>\n",
       "      <td>6</td>\n",
       "      <td>2</td>\n",
       "      <td>State</td>\n",
       "      <td>47.8132</td>\n",
       "    </tr>\n",
       "    <tr>\n",
       "      <th>3</th>\n",
       "      <td>4</td>\n",
       "      <td>2017</td>\n",
       "      <td>Pennsylvania</td>\n",
       "      <td>1</td>\n",
       "      <td>Ever used cocaine</td>\n",
       "      <td>any form of cocaine, such as powder, crack, or...</td>\n",
       "      <td>104.0</td>\n",
       "      <td>Male</td>\n",
       "      <td>Asian</td>\n",
       "      <td>4</td>\n",
       "      <td>(40.79373015200048, -77.86070029399963)</td>\n",
       "      <td>H49</td>\n",
       "      <td>2</td>\n",
       "      <td>2</td>\n",
       "      <td>0</td>\n",
       "      <td>State</td>\n",
       "      <td>3.4554</td>\n",
       "    </tr>\n",
       "    <tr>\n",
       "      <th>4</th>\n",
       "      <td>5</td>\n",
       "      <td>2007</td>\n",
       "      <td>San Francisco, CA</td>\n",
       "      <td>1</td>\n",
       "      <td>Ever took steroids without a doctor's prescrip...</td>\n",
       "      <td>pills or shots, one or more times during their...</td>\n",
       "      <td>100.0</td>\n",
       "      <td>Female</td>\n",
       "      <td>Multiple Race</td>\n",
       "      <td>4</td>\n",
       "      <td>(37.77493, -122.419416)</td>\n",
       "      <td>H55</td>\n",
       "      <td>1</td>\n",
       "      <td>7</td>\n",
       "      <td>0</td>\n",
       "      <td>Local</td>\n",
       "      <td>0.0000</td>\n",
       "    </tr>\n",
       "  </tbody>\n",
       "</table>\n",
       "</div>"
      ],
      "text/plain": [
       "   Patient_ID            ...             Greater_Risk_Probability\n",
       "0           1            ...                               7.4793\n",
       "1           2            ...                              49.6852\n",
       "2           3            ...                              47.8132\n",
       "3           4            ...                               3.4554\n",
       "4           5            ...                               0.0000\n",
       "\n",
       "[5 rows x 17 columns]"
      ]
     },
     "execution_count": 3,
     "metadata": {},
     "output_type": "execute_result"
    }
   ],
   "source": [
    "train.head()"
   ]
  },
  {
   "cell_type": "code",
   "execution_count": 4,
   "metadata": {},
   "outputs": [
    {
     "data": {
      "text/plain": [
       "Patient_ID                     0\n",
       "YEAR                           0\n",
       "LocationDesc                   0\n",
       "Subtopic                       0\n",
       "Greater_Risk_Question          0\n",
       "Description                    0\n",
       "Sample_Size                    0\n",
       "Sex                            0\n",
       "Race                           0\n",
       "Grade                          0\n",
       "GeoLocation                 3301\n",
       "QuestionCode                   0\n",
       "StratID1                       0\n",
       "StratID2                       0\n",
       "StratID3                       0\n",
       "StratificationType             0\n",
       "Greater_Risk_Probability       0\n",
       "dtype: int64"
      ]
     },
     "execution_count": 4,
     "metadata": {},
     "output_type": "execute_result"
    }
   ],
   "source": [
    "train.isna().sum()"
   ]
  },
  {
   "cell_type": "code",
   "execution_count": 5,
   "metadata": {},
   "outputs": [
    {
     "data": {
      "text/plain": [
       "Patient_ID                    int64\n",
       "YEAR                          int64\n",
       "LocationDesc                 object\n",
       "Subtopic                      int64\n",
       "Greater_Risk_Question        object\n",
       "Description                  object\n",
       "Sample_Size                 float64\n",
       "Sex                          object\n",
       "Race                         object\n",
       "Grade                         int64\n",
       "GeoLocation                  object\n",
       "QuestionCode                 object\n",
       "StratID1                      int64\n",
       "StratID2                      int64\n",
       "StratID3                      int64\n",
       "StratificationType           object\n",
       "Greater_Risk_Probability    float64\n",
       "dtype: object"
      ]
     },
     "execution_count": 5,
     "metadata": {},
     "output_type": "execute_result"
    }
   ],
   "source": [
    "train.dtypes"
   ]
  },
  {
   "cell_type": "code",
   "execution_count": 6,
   "metadata": {},
   "outputs": [
    {
     "data": {
      "text/plain": [
       "<matplotlib.axes._subplots.AxesSubplot at 0x7f33eb2f0908>"
      ]
     },
     "execution_count": 6,
     "metadata": {},
     "output_type": "execute_result"
    },
    {
     "data": {
      "image/png": "[encoded data removed]",
      "text/plain": [
       "<Figure size 432x288 with 1 Axes>"
      ]
     },
     "metadata": {},
     "output_type": "display_data"
    }
   ],
   "source": [
    "train['YEAR'].value_counts().plot.bar()"
   ]
  },
  {
   "cell_type": "markdown",
   "metadata": {},
   "source": [
    "Number of asked questions is higher in recent years"
   ]
  },
  {
   "cell_type": "code",
   "execution_count": 7,
   "metadata": {},
   "outputs": [
    {
     "data": {
      "text/plain": [
       "United States                       2276\n",
       "New York City, NY                   1396\n",
       "New York                            1366\n",
       "Miami-Dade County, FL               1145\n",
       "San Diego, CA                       1043\n",
       "Massachusetts                       1006\n",
       "Maryland                            1005\n",
       "Delaware                             958\n",
       "Montana                              951\n",
       "Michigan                             939\n",
       "Florida                              938\n",
       "Illinois                             902\n",
       "Broward County, FL                   893\n",
       "Hawaii                               889\n",
       "North Carolina                       840\n",
       "Nevada                               839\n",
       "Chicago, IL                          837\n",
       "Palm Beach County, FL                834\n",
       "Alabama                              832\n",
       "Texas                                830\n",
       "Utah                                 824\n",
       "South Carolina                       823\n",
       "Philadelphia, PA                     779\n",
       "Mississippi                          747\n",
       "Arkansas                             744\n",
       "Wyoming                              735\n",
       "Vermont                              726\n",
       "West Virginia                        720\n",
       "Idaho                                711\n",
       "Boston, MA                           695\n",
       "                                    ... \n",
       "Kansas                               448\n",
       "San Bernardino, CA                   435\n",
       "Indiana                              435\n",
       "Virginia                             434\n",
       "Alaska                               430\n",
       "Guam                                 428\n",
       "District of Columbia                 405\n",
       "Memphis, TN                          386\n",
       "Louisiana                            384\n",
       "New Jersey                           383\n",
       "Iowa                                 371\n",
       "American Samoa                       366\n",
       "Milwaukee, WI                        350\n",
       "Palau                                344\n",
       "Pennsylvania                         327\n",
       "Charlotte-Mecklenburg County, NC     326\n",
       "Baltimore, MD                        311\n",
       "Colorado                             284\n",
       "New Orleans, LA                      282\n",
       "Seattle, WA                          277\n",
       "Fort Worth, TX                       234\n",
       "DeKalb County, GA                    171\n",
       "California                           168\n",
       "Marshall Islands                     108\n",
       "Shelby County, TN                     94\n",
       "Oakland, CA                           92\n",
       "Cherokee Nation                       78\n",
       "Cleveland, OH                         76\n",
       "Denver, CO                            56\n",
       "Nez Perce                             49\n",
       "Name: LocationDesc, Length: 91, dtype: int64"
      ]
     },
     "execution_count": 7,
     "metadata": {},
     "output_type": "execute_result"
    }
   ],
   "source": [
    "train['LocationDesc'].value_counts()"
   ]
  },
  {
   "cell_type": "markdown",
   "metadata": {},
   "source": [
    "We can see that survey is perfomed on quite a large scale "
   ]
  },
  {
   "cell_type": "code",
   "execution_count": 8,
   "metadata": {},
   "outputs": [
    {
     "data": {
      "text/plain": [
       "<matplotlib.axes._subplots.AxesSubplot at 0x7f33e80b6f98>"
      ]
     },
     "execution_count": 8,
     "metadata": {},
     "output_type": "execute_result"
    },
    {
     "data": {
      "image/png": "[encoded data removed]",
      "text/plain": [
       "<Figure size 432x288 with 1 Axes>"
      ]
     },
     "metadata": {},
     "output_type": "display_data"
    }
   ],
   "source": [
    "train['Subtopic'].value_counts(normalize = True).plot.bar()"
   ]
  },
  {
   "cell_type": "markdown",
   "metadata": {},
   "source": [
    "Maximum number of questions asked in the survey was about the non-alcoholic drugs, one inference we can draw out of this is that people taking non-alcoholic drugs are more prone to addiction"
   ]
  },
  {
   "cell_type": "markdown",
   "metadata": {},
   "source": [
    "Let's check the distribution of sample size"
   ]
  },
  {
   "cell_type": "code",
   "execution_count": 9,
   "metadata": {},
   "outputs": [],
   "source": [
    "import matplotlib.pyplot as plt\n",
    "%matplotlib inline\n",
    "import seaborn as sns"
   ]
  },
  {
   "cell_type": "code",
   "execution_count": 10,
   "metadata": {},
   "outputs": [
    {
     "name": "stderr",
     "output_type": "stream",
     "text": [
      "/opt/conda/lib/python3.6/site-packages/scipy/stats/stats.py:1713: FutureWarning: Using a non-tuple sequence for multidimensional indexing is deprecated; use `arr[tuple(seq)]` instead of `arr[seq]`. In the future this will be interpreted as an array index, `arr[np.array(seq)]`, which will result either in an error or a different result.\n",
      "  return np.add.reduce(sorted[indexer] * weights, axis=axis) / sumval\n"
     ]
    },
    {
     "data": {
      "image/png": "[encoded data removed]",
      "text/plain": [
       "<Figure size 1152x432 with 2 Axes>"
      ]
     },
     "metadata": {},
     "output_type": "display_data"
    }
   ],
   "source": [
    "plt.figure(1,figsize=(16,6))\n",
    "\n",
    "plt.subplot(121)\n",
    "sns.distplot(train['Sample_Size'])\n",
    "\n",
    "plt.subplot(122)\n",
    "sns.boxplot(y=train['Sample_Size'])\n",
    "\n",
    "plt.show()"
   ]
  },
  {
   "cell_type": "markdown",
   "metadata": {},
   "source": [
    "We can see the significant number of outliers are present in our dataset for this column. Hence, transdormation will be required"
   ]
  },
  {
   "cell_type": "code",
   "execution_count": 11,
   "metadata": {},
   "outputs": [
    {
     "name": "stderr",
     "output_type": "stream",
     "text": [
      "/opt/conda/lib/python3.6/site-packages/scipy/stats/stats.py:1713: FutureWarning: Using a non-tuple sequence for multidimensional indexing is deprecated; use `arr[tuple(seq)]` instead of `arr[seq]`. In the future this will be interpreted as an array index, `arr[np.array(seq)]`, which will result either in an error or a different result.\n",
      "  return np.add.reduce(sorted[indexer] * weights, axis=axis) / sumval\n"
     ]
    },
    {
     "data": {
      "image/png": "[encoded data removed]",
      "text/plain": [
       "<Figure size 1152x432 with 2 Axes>"
      ]
     },
     "metadata": {},
     "output_type": "display_data"
    }
   ],
   "source": [
    "plt.figure(1,figsize=(16,6))\n",
    "\n",
    "plt.subplot(121)\n",
    "\n",
    "sns.distplot(np.log(train['Sample_Size']))\n",
    "\n",
    "plt.subplot(122)\n",
    "sns.boxplot(y=np.log(train['Sample_Size']))\n",
    "\n",
    "plt.show()"
   ]
  },
  {
   "cell_type": "markdown",
   "metadata": {},
   "source": [
    "Now its better"
   ]
  },
  {
   "cell_type": "code",
   "execution_count": 12,
   "metadata": {},
   "outputs": [
    {
     "data": {
      "text/plain": [
       "<matplotlib.axes._subplots.AxesSubplot at 0x7f33d2a04a90>"
      ]
     },
     "execution_count": 12,
     "metadata": {},
     "output_type": "execute_result"
    },
    {
     "data": {
      "image/png": "[encoded data removed]",
      "text/plain": [
       "<Figure size 432x288 with 1 Axes>"
      ]
     },
     "metadata": {},
     "output_type": "display_data"
    }
   ],
   "source": [
    "train.Sex.value_counts().plot.bar()"
   ]
  },
  {
   "cell_type": "markdown",
   "metadata": {},
   "source": [
    "??? what is a total gender ??? "
   ]
  },
  {
   "cell_type": "markdown",
   "metadata": {},
   "source": [
    "Let's dig a bit"
   ]
  },
  {
   "cell_type": "code",
   "execution_count": 13,
   "metadata": {},
   "outputs": [
    {
     "data": {
      "text/html": [
       "<div>\n",
       "<style scoped>\n",
       "    .dataframe tbody tr th:only-of-type {\n",
       "        vertical-align: middle;\n",
       "    }\n",
       "\n",
       "    .dataframe tbody tr th {\n",
       "        vertical-align: top;\n",
       "    }\n",
       "\n",
       "    .dataframe thead th {\n",
       "        text-align: right;\n",
       "    }\n",
       "</style>\n",
       "<table border=\"1\" class=\"dataframe\">\n",
       "  <thead>\n",
       "    <tr style=\"text-align: right;\">\n",
       "      <th></th>\n",
       "      <th>Patient_ID</th>\n",
       "      <th>YEAR</th>\n",
       "      <th>LocationDesc</th>\n",
       "      <th>Subtopic</th>\n",
       "      <th>Greater_Risk_Question</th>\n",
       "      <th>Description</th>\n",
       "      <th>Sample_Size</th>\n",
       "      <th>Sex</th>\n",
       "      <th>Race</th>\n",
       "      <th>Grade</th>\n",
       "      <th>GeoLocation</th>\n",
       "      <th>QuestionCode</th>\n",
       "      <th>StratID1</th>\n",
       "      <th>StratID2</th>\n",
       "      <th>StratID3</th>\n",
       "      <th>StratificationType</th>\n",
       "      <th>Greater_Risk_Probability</th>\n",
       "    </tr>\n",
       "  </thead>\n",
       "  <tbody>\n",
       "    <tr>\n",
       "      <th>1</th>\n",
       "      <td>2</td>\n",
       "      <td>1997</td>\n",
       "      <td>Houston, TX</td>\n",
       "      <td>0</td>\n",
       "      <td>Currently drank alcohol</td>\n",
       "      <td>at least one drink of alcohol, on at least 1 d...</td>\n",
       "      <td>382.0</td>\n",
       "      <td>Total</td>\n",
       "      <td>Black or African American</td>\n",
       "      <td>4</td>\n",
       "      <td>(29.760427, -95.369803)</td>\n",
       "      <td>H42</td>\n",
       "      <td>0</td>\n",
       "      <td>3</td>\n",
       "      <td>0</td>\n",
       "      <td>Local</td>\n",
       "      <td>49.6852</td>\n",
       "    </tr>\n",
       "    <tr>\n",
       "      <th>8</th>\n",
       "      <td>9</td>\n",
       "      <td>2017</td>\n",
       "      <td>West Virginia</td>\n",
       "      <td>1</td>\n",
       "      <td>Were offered, sold, or given an illegal drug o...</td>\n",
       "      <td>during the 12 months before the survey</td>\n",
       "      <td>427.0</td>\n",
       "      <td>Total</td>\n",
       "      <td>Total</td>\n",
       "      <td>1</td>\n",
       "      <td>(38.66551020200046, -80.71264013499967)</td>\n",
       "      <td>H58</td>\n",
       "      <td>0</td>\n",
       "      <td>0</td>\n",
       "      <td>3</td>\n",
       "      <td>State</td>\n",
       "      <td>30.7151</td>\n",
       "    </tr>\n",
       "    <tr>\n",
       "      <th>9</th>\n",
       "      <td>10</td>\n",
       "      <td>1999</td>\n",
       "      <td>Hawaii</td>\n",
       "      <td>1</td>\n",
       "      <td>Ever used inhalants</td>\n",
       "      <td>sniffed glue, breathed the contents of aerosol...</td>\n",
       "      <td>314.0</td>\n",
       "      <td>Total</td>\n",
       "      <td>Total</td>\n",
       "      <td>1</td>\n",
       "      <td>(21.304850435000446, -157.85774940299973)</td>\n",
       "      <td>H50</td>\n",
       "      <td>0</td>\n",
       "      <td>0</td>\n",
       "      <td>3</td>\n",
       "      <td>State</td>\n",
       "      <td>18.3384</td>\n",
       "    </tr>\n",
       "    <tr>\n",
       "      <th>12</th>\n",
       "      <td>13</td>\n",
       "      <td>2007</td>\n",
       "      <td>Montana</td>\n",
       "      <td>1</td>\n",
       "      <td>Ever used marijuana</td>\n",
       "      <td>also called grass, pot, or weed, one or more t...</td>\n",
       "      <td>776.0</td>\n",
       "      <td>Total</td>\n",
       "      <td>White</td>\n",
       "      <td>0</td>\n",
       "      <td>(47.06652897200047, -109.42442064499971)</td>\n",
       "      <td>H46</td>\n",
       "      <td>0</td>\n",
       "      <td>6</td>\n",
       "      <td>2</td>\n",
       "      <td>State</td>\n",
       "      <td>37.3227</td>\n",
       "    </tr>\n",
       "    <tr>\n",
       "      <th>14</th>\n",
       "      <td>15</td>\n",
       "      <td>2011</td>\n",
       "      <td>Montana</td>\n",
       "      <td>0</td>\n",
       "      <td>Had their first drink of alcohol before age 13...</td>\n",
       "      <td>other than a few sips</td>\n",
       "      <td>887.0</td>\n",
       "      <td>Total</td>\n",
       "      <td>White</td>\n",
       "      <td>3</td>\n",
       "      <td>(47.06652897200047, -109.42442064499971)</td>\n",
       "      <td>H41</td>\n",
       "      <td>0</td>\n",
       "      <td>6</td>\n",
       "      <td>1</td>\n",
       "      <td>State</td>\n",
       "      <td>29.7139</td>\n",
       "    </tr>\n",
       "  </tbody>\n",
       "</table>\n",
       "</div>"
      ],
      "text/plain": [
       "    Patient_ID            ...             Greater_Risk_Probability\n",
       "1            2            ...                              49.6852\n",
       "8            9            ...                              30.7151\n",
       "9           10            ...                              18.3384\n",
       "12          13            ...                              37.3227\n",
       "14          15            ...                              29.7139\n",
       "\n",
       "[5 rows x 17 columns]"
      ]
     },
     "execution_count": 13,
     "metadata": {},
     "output_type": "execute_result"
    }
   ],
   "source": [
    "train.loc[train['Sex']=='Total'].head()"
   ]
  },
  {
   "cell_type": "markdown",
   "metadata": {},
   "source": [
    "We can see columns 'Race' and 'Sex' is having values as 'Total', it could be because some people might not be wanting to share their details"
   ]
  },
  {
   "cell_type": "code",
   "execution_count": 14,
   "metadata": {},
   "outputs": [
    {
     "data": {
      "text/plain": [
       "<matplotlib.axes._subplots.AxesSubplot at 0x7f33d2986be0>"
      ]
     },
     "execution_count": 14,
     "metadata": {},
     "output_type": "execute_result"
    },
    {
     "data": {
      "image/png": "[encoded data removed]",
      "text/plain": [
       "<Figure size 1152x432 with 1 Axes>"
      ]
     },
     "metadata": {},
     "output_type": "display_data"
    }
   ],
   "source": [
    "train['Race'].value_counts().plot.bar(figsize = (16,6))"
   ]
  },
  {
   "cell_type": "code",
   "execution_count": 15,
   "metadata": {},
   "outputs": [
    {
     "data": {
      "text/plain": [
       "<matplotlib.axes._subplots.AxesSubplot at 0x7f33d29635c0>"
      ]
     },
     "execution_count": 15,
     "metadata": {},
     "output_type": "execute_result"
    },
    {
     "data": {
      "image/png": "[encoded data removed]",
      "text/plain": [
       "<Figure size 720x432 with 1 Axes>"
      ]
     },
     "metadata": {},
     "output_type": "display_data"
    }
   ],
   "source": [
    "train['Grade'].value_counts().plot.bar(figsize = (10,6))"
   ]
  },
  {
   "cell_type": "markdown",
   "metadata": {},
   "source": [
    "Most people who were surveyed have comlpeted education upto grade 4"
   ]
  },
  {
   "cell_type": "markdown",
   "metadata": {},
   "source": [
    "One inference we can draw from the nature of the dataset is statergy adopted to prevent the addiction will certainly affect 'Greater_Risk_Probability'"
   ]
  },
  {
   "cell_type": "code",
   "execution_count": 16,
   "metadata": {},
   "outputs": [
    {
     "data": {
      "text/plain": [
       "<matplotlib.axes._subplots.AxesSubplot at 0x7f33e801c390>"
      ]
     },
     "execution_count": 16,
     "metadata": {},
     "output_type": "execute_result"
    },
    {
     "data": {
      "image/png": "[encoded data removed]",
      "text/plain": [
       "<Figure size 432x288 with 1 Axes>"
      ]
     },
     "metadata": {},
     "output_type": "display_data"
    }
   ],
   "source": [
    "train['StratificationType'].value_counts().plot.bar()"
   ]
  },
  {
   "cell_type": "markdown",
   "metadata": {},
   "source": [
    "Lets check year wise of average of Greater_Risk_Probability"
   ]
  },
  {
   "cell_type": "code",
   "execution_count": 17,
   "metadata": {},
   "outputs": [],
   "source": [
    "def make_plot(df,col_name,figsize=(16,6)):\n",
    "    \n",
    "    plt.figure(1,figsize=figsize)\n",
    "    dic = {}\n",
    "    for val in df[col_name].value_counts().keys():\n",
    "        dic[val] = np.mean(df['Greater_Risk_Probability'].loc[df[col_name]==val])\n",
    "    \n",
    "    plt.bar(range(len(dic)),dic.values(),align='center')\n",
    "    plt.xticks(range(len(dic)),dic.keys())\n",
    "    plt.show()"
   ]
  },
  {
   "cell_type": "code",
   "execution_count": 18,
   "metadata": {},
   "outputs": [
    {
     "data": {
      "image/png": "[encoded data removed]",
      "text/plain": [
       "<Figure size 1152x432 with 1 Axes>"
      ]
     },
     "metadata": {},
     "output_type": "display_data"
    }
   ],
   "source": [
    "make_plot(train,'YEAR')"
   ]
  },
  {
   "cell_type": "markdown",
   "metadata": {},
   "source": [
    "We can see that average of 'Greater_Risk_Probability' has decreased with years"
   ]
  },
  {
   "cell_type": "markdown",
   "metadata": {},
   "source": [
    "Let's check Location-wise average of 'Greater_Risk_Probability'"
   ]
  },
  {
   "cell_type": "code",
   "execution_count": 19,
   "metadata": {},
   "outputs": [
    {
     "data": {
      "text/plain": [
       "[('Denver, CO', 38.35428749999999),\n",
       " ('Cleveland, OH', 35.716513157894745),\n",
       " ('Nevada', 30.268763408820032),\n",
       " ('Dallas, TX', 30.11029389534881),\n",
       " ('Seattle, WA', 29.49014332129963),\n",
       " ('Georgia', 28.742628571428586),\n",
       " ('Missouri', 28.582359701492532),\n",
       " ('Ohio', 28.534950214592264),\n",
       " ('Milwaukee, WI', 28.335305999999992),\n",
       " ('Palau', 28.227484883720933),\n",
       " ('West Virginia', 28.211860694444436),\n",
       " ('Alabama', 27.99212584134618),\n",
       " ('New Orleans, LA', 27.860129078014207),\n",
       " ('Chicago, IL', 27.818678853046578),\n",
       " ('Rhode Island', 27.640277743902455),\n",
       " ('Los Angeles, CA', 27.504902529761893),\n",
       " ('Nez Perce', 27.45151224489796),\n",
       " ('Guam', 27.262356775700972),\n",
       " ('South Carolina', 27.11523402187119),\n",
       " ('Massachusetts', 26.978234592445325),\n",
       " ('Wisconsin', 26.961921880064818),\n",
       " ('Arkansas', 26.928004838709683),\n",
       " ('South Dakota', 26.92770750382844),\n",
       " ('Arizona', 26.84467469325155),\n",
       " ('San Diego, CA', 26.519184947267508),\n",
       " ('Navajo', 26.515714750957862),\n",
       " ('San Bernardino, CA', 26.46442804597699),\n",
       " ('Wyoming', 26.451194557823126),\n",
       " ('Montana', 26.203089905362763),\n",
       " ('Louisiana', 26.133384374999988),\n",
       " ('Broward County, FL', 25.965522620380728),\n",
       " ('Maine', 25.927190605095543),\n",
       " ('Oakland, CA', 25.799450000000004),\n",
       " ('New Jersey', 25.785951174934763),\n",
       " ('Indiana', 25.644345977011515),\n",
       " ('Houston, TX', 25.563411901306274),\n",
       " ('Texas', 25.483005060240988),\n",
       " ('Mississippi', 25.474587148594342),\n",
       " ('Illinois', 25.449223392461192),\n",
       " ('Philadelphia, PA', 25.187230038510933),\n",
       " ('United States', 25.182086072056293),\n",
       " ('North Carolina', 25.06861238095238),\n",
       " ('Delaware', 24.797416805845476),\n",
       " ('Kentucky', 24.770041860465106),\n",
       " ('Cherokee Nation', 24.758783333333334),\n",
       " ('Northern Mariana Islands', 24.536723733719256),\n",
       " ('Alaska', 24.495392325581392),\n",
       " ('Michigan', 24.43173982960597),\n",
       " ('New Hampshire', 24.332855847953248),\n",
       " ('California', 24.25680833333334),\n",
       " ('Duval County, FL', 24.243803428571418),\n",
       " ('Palm Beach County, FL', 24.065049040767388),\n",
       " ('Colorado', 24.04496056338026),\n",
       " ('Kansas', 23.997681473214282),\n",
       " ('Florida', 23.99471066098082),\n",
       " ('Tennessee', 23.925852373417722),\n",
       " ('Boston, MA', 23.653515395683446),\n",
       " ('New Mexico', 23.279528219971084),\n",
       " ('Miami-Dade County, FL', 23.1104481222707),\n",
       " ('Orange County, FL', 23.03560910596029),\n",
       " ('Idaho', 22.911483263009856),\n",
       " ('Charlotte-Mecklenburg County, NC', 22.89334509202455),\n",
       " ('Detroit, MI', 22.8474157894737),\n",
       " ('Hawaii', 22.602368166479213),\n",
       " ('Oklahoma', 22.468895483870988),\n",
       " ('Memphis, TN', 22.171561398963732),\n",
       " ('Connecticut', 22.100257009345793),\n",
       " ('Iowa', 22.090238544474392),\n",
       " ('Baltimore, MD', 22.033164308681673),\n",
       " ('New York', 21.913347950219652),\n",
       " ('North Dakota', 21.87417230769229),\n",
       " ('Nebraska', 21.74038888888885),\n",
       " ('Marshall Islands', 21.63338518518519),\n",
       " ('Maryland', 21.42859910447764),\n",
       " ('Fort Worth, TX', 21.140605982905996),\n",
       " ('American Samoa', 20.89299863387978),\n",
       " ('District of Columbia', 20.761730123456783),\n",
       " ('Vermont', 20.460876308539948),\n",
       " ('Pennsylvania', 20.430944954128442),\n",
       " ('San Francisco, CA', 20.428098837209323),\n",
       " ('Virginia', 20.394167050691227),\n",
       " ('Shelby County, TN', 20.15787872340426),\n",
       " ('DeKalb County, GA', 19.382884210526313),\n",
       " ('Borough of Staten Island, NY', 19.281278870292876),\n",
       " ('Borough of Manhattan, NY', 19.211523333333307),\n",
       " ('Puerto Rico', 19.009155660377363),\n",
       " ('Utah', 18.633587985436918),\n",
       " ('New York City, NY', 18.1763441260745),\n",
       " ('Borough of Brooklyn, NY', 17.991054545454553),\n",
       " ('Borough of Queens, NY', 17.527790851063834),\n",
       " ('Borough of Bronx, NY', 17.047604597701138)]"
      ]
     },
     "execution_count": 19,
     "metadata": {},
     "output_type": "execute_result"
    }
   ],
   "source": [
    "dic = {}\n",
    "for val in train['LocationDesc'].value_counts().keys():\n",
    "    dic[val] = np.mean(train['Greater_Risk_Probability'].loc[train['LocationDesc']==val])\n",
    "\n",
    "dic = sorted(dic.items(),key=lambda x: x[1])[::-1]\n",
    "\n",
    "dic"
   ]
  },
  {
   "cell_type": "markdown",
   "metadata": {},
   "source": [
    "One inference we can draw from above is  different locations have \"greater_risk_probabilty\". This  feature might be useful for our model"
   ]
  },
  {
   "cell_type": "code",
   "execution_count": 20,
   "metadata": {},
   "outputs": [
    {
     "data": {
      "image/png": "[encoded data removed]",
      "text/plain": [
       "<Figure size 576x288 with 1 Axes>"
      ]
     },
     "metadata": {},
     "output_type": "display_data"
    }
   ],
   "source": [
    "make_plot(train,col_name='Subtopic',figsize=(8,4))"
   ]
  },
  {
   "cell_type": "markdown",
   "metadata": {},
   "source": [
    "**Intresting!!** People addicted to alchols have higher average probability of staying addicted, this could be because alchols are legal commodity and is easily available"
   ]
  },
  {
   "cell_type": "code",
   "execution_count": 21,
   "metadata": {},
   "outputs": [
    {
     "data": {
      "text/plain": [
       "<matplotlib.collections.PathCollection at 0x7f33d2ad3ac8>"
      ]
     },
     "execution_count": 21,
     "metadata": {},
     "output_type": "execute_result"
    },
    {
     "data": {
      "image/png": "[encoded data removed]",
      "text/plain": [
       "<Figure size 1152x576 with 1 Axes>"
      ]
     },
     "metadata": {},
     "output_type": "display_data"
    }
   ],
   "source": [
    "plt.figure(1,(16,8))\n",
    "plt.scatter(x=train['Greater_Risk_Probability'],y=train['Sample_Size'])"
   ]
  },
  {
   "cell_type": "markdown",
   "metadata": {},
   "source": [
    "Some abnoramlly large sample size is present in our datset"
   ]
  },
  {
   "cell_type": "code",
   "execution_count": 22,
   "metadata": {},
   "outputs": [
    {
     "data": {
      "image/png": "[encoded data removed]",
      "text/plain": [
       "<Figure size 576x288 with 1 Axes>"
      ]
     },
     "metadata": {},
     "output_type": "display_data"
    }
   ],
   "source": [
    "make_plot(train,'Sex',(8,4))"
   ]
  },
  {
   "cell_type": "markdown",
   "metadata": {},
   "source": [
    "Average of greater_probabilty risk is higher in Males"
   ]
  },
  {
   "cell_type": "code",
   "execution_count": 23,
   "metadata": {},
   "outputs": [
    {
     "data": {
      "image/png": "[encoded data removed]",
      "text/plain": [
       "<Figure size 1152x288 with 1 Axes>"
      ]
     },
     "metadata": {},
     "output_type": "display_data"
    }
   ],
   "source": [
    "make_plot(train,'Race',(16,4))"
   ]
  },
  {
   "cell_type": "code",
   "execution_count": 24,
   "metadata": {},
   "outputs": [
    {
     "data": {
      "image/png": "[encoded data removed]",
      "text/plain": [
       "<Figure size 576x288 with 1 Axes>"
      ]
     },
     "metadata": {},
     "output_type": "display_data"
    }
   ],
   "source": [
    "make_plot(train,'Grade',(8,4))"
   ]
  },
  {
   "cell_type": "code",
   "execution_count": 25,
   "metadata": {},
   "outputs": [
    {
     "data": {
      "image/png": "[encoded data removed]",
      "text/plain": [
       "<Figure size 576x288 with 1 Axes>"
      ]
     },
     "metadata": {},
     "output_type": "display_data"
    }
   ],
   "source": [
    "make_plot(train,'StratificationType',(8,4))"
   ]
  },
  {
   "cell_type": "markdown",
   "metadata": {},
   "source": [
    "Average greater_risk_probabilty is quite uniform for differernt StratificationType"
   ]
  },
  {
   "cell_type": "markdown",
   "metadata": {},
   "source": [
    "Let's Process ahead with some preprocessing feature selection "
   ]
  },
  {
   "cell_type": "code",
   "execution_count": 26,
   "metadata": {},
   "outputs": [],
   "source": [
    "X = train.copy()\n",
    "X_test = test.copy()\n",
    "\n",
    "y= X['Greater_Risk_Probability']\n",
    "X = X.drop(labels = 'Greater_Risk_Probability',axis=1)\n",
    "\n"
   ]
  },
  {
   "cell_type": "code",
   "execution_count": 27,
   "metadata": {},
   "outputs": [],
   "source": [
    "from sklearn.preprocessing import LabelEncoder"
   ]
  },
  {
   "cell_type": "code",
   "execution_count": 28,
   "metadata": {},
   "outputs": [],
   "source": [
    "label = LabelEncoder()\n",
    "X['LocationDesc'] = label.fit_transform(X['LocationDesc'])\n",
    "X_test['LocationDesc'] = label.fit_transform(X_test['LocationDesc'])\n",
    "\n",
    "label = LabelEncoder()\n",
    "X['Sex'] = label.fit_transform(X['Sex'])\n",
    "X_test['Sex'] = label.fit_transform(X_test['Sex'])\n",
    "\n",
    "label = LabelEncoder()\n",
    "X['Race'] = label.fit_transform(X['Race'])\n",
    "X_test['Race'] = label.fit_transform(X_test['Race'])\n",
    "\n",
    "label = LabelEncoder()\n",
    "X['StratificationType'] = label.fit_transform(X['StratificationType'])\n",
    "X_test['StratificationType'] = label.fit_transform(X_test['StratificationType'])\n",
    "\n",
    "label = LabelEncoder()\n",
    "X['QuestionCode'] = label.fit_transform(X['QuestionCode'])\n",
    "X_test['QuestionCode'] = label.fit_transform(X_test['QuestionCode'])\n",
    "\n",
    "X['Sample_Size'] = np.log(X['Sample_Size'])\n",
    "X_test['Sample_Size'] = np.log(X_test['Sample_Size'])\n",
    "\n"
   ]
  },
  {
   "cell_type": "code",
   "execution_count": 29,
   "metadata": {},
   "outputs": [],
   "source": [
    "# drop = ['Patient_ID','Greater_Risk_Question','Description','GeoLocation','QuestionCode']\n",
    "drop = ['Patient_ID','Greater_Risk_Question','Description','GeoLocation']\n",
    "X = X.drop(labels = drop,axis=1)\n",
    "X_test = X_test.drop(labels = drop,axis=1)"
   ]
  },
  {
   "cell_type": "code",
   "execution_count": 30,
   "metadata": {},
   "outputs": [],
   "source": [
    "from sklearn.feature_selection import f_classif"
   ]
  },
  {
   "cell_type": "code",
   "execution_count": 31,
   "metadata": {},
   "outputs": [
    {
     "name": "stdout",
     "output_type": "stream",
     "text": [
      "F-values for different features\n",
      "[1.09096295 1.00254952 2.41381793 1.14841179 1.01921296 0.99207657\n",
      " 1.00862943 2.00457314 1.12154522 1.05819574 1.03808185 0.99589068]\n",
      "P-values for different features\n",
      "[2.24281693e-004 4.61352884e-001 2.83675025e-223 1.49807678e-008\n",
      " 2.20873107e-001 6.30389967e-001 3.65439823e-001 5.76043832e-147\n",
      " 2.03172852e-006 1.10704171e-002 6.50727092e-002 5.69712785e-001]\n"
     ]
    }
   ],
   "source": [
    "fval,p_val = f_classif(X,y)\n",
    "\n",
    "print('F-values for different features')\n",
    "print(fval)\n",
    "\n",
    "print('P-values for different features')\n",
    "print(p_val)"
   ]
  },
  {
   "cell_type": "markdown",
   "metadata": {},
   "source": [
    "* Let's drop the StratificationType, Race, Grade"
   ]
  },
  {
   "cell_type": "code",
   "execution_count": 32,
   "metadata": {},
   "outputs": [
    {
     "name": "stdout",
     "output_type": "stream",
     "text": [
      "F-values for different features\n",
      "[1.09096295 1.00254952 2.41381793 1.14841179 1.01921296 2.00457314\n",
      " 1.12154522 1.05819574 1.03808185]\n",
      "P-values for different features\n",
      "[2.24281693e-004 4.61352884e-001 2.83675025e-223 1.49807678e-008\n",
      " 2.20873107e-001 5.76043832e-147 2.03172852e-006 1.10704171e-002\n",
      " 6.50727092e-002]\n"
     ]
    }
   ],
   "source": [
    "X = X.drop(labels = ['StratificationType','Race','Grade'],axis=1)\n",
    "X_test = X_test.drop(labels = ['StratificationType','Race','Grade'],axis=1)\n",
    "\n",
    "fval,p_val = f_classif(X,y)\n",
    "\n",
    "print('F-values for different features')\n",
    "print(fval)\n",
    "\n",
    "print('P-values for different features')\n",
    "print(p_val)"
   ]
  },
  {
   "cell_type": "code",
   "execution_count": 33,
   "metadata": {},
   "outputs": [],
   "source": [
    "from sklearn_pandas import DataFrameMapper\n",
    "from sklearn.preprocessing import StandardScaler\n",
    "from sklearn.preprocessing import OneHotEncoder\n",
    "from sklearn.pipeline import Pipeline\n",
    "import warnings\n",
    "warnings.filterwarnings('ignore')"
   ]
  },
  {
   "cell_type": "code",
   "execution_count": 34,
   "metadata": {},
   "outputs": [
    {
     "data": {
      "text/plain": [
       "Pipeline(memory=None,\n",
       "     steps=[('mapper', DataFrameMapper(default=False, df_out=False,\n",
       "        features=[(['YEAR'], StandardScaler(copy=True, with_mean=True, with_std=True)), (['Sample_Size'], StandardScaler(copy=True, with_mean=True, with_std=True)), (['LocationDesc'], OneHotEncoder(categorical_features=None, categories=N...andle_unknown='error',\n",
       "       n_values=None, sparse=True))],\n",
       "        input_df=False, sparse=False))])"
      ]
     },
     "execution_count": 34,
     "metadata": {},
     "output_type": "execute_result"
    }
   ],
   "source": [
    "continuous_cols = ['YEAR','Sample_Size']\n",
    "\n",
    "categorical_cols = ['LocationDesc','Sex','StratID1','StratID2','StratID3','QuestionCode']\n",
    "\n",
    "mapper = DataFrameMapper(  \n",
    "    [([continuous_col], StandardScaler()) for continuous_col in continuous_cols] +\n",
    "    [([categorical_col], OneHotEncoder()) for categorical_col in categorical_cols])\n",
    "\n",
    "pipe = Pipeline([('mapper',mapper)])\n",
    "\n",
    "pipe.fit(X)"
   ]
  },
  {
   "cell_type": "code",
   "execution_count": 35,
   "metadata": {},
   "outputs": [],
   "source": [
    "X = pipe.transform(X)\n",
    "X_test = pipe.transform(X_test)"
   ]
  },
  {
   "cell_type": "code",
   "execution_count": 36,
   "metadata": {},
   "outputs": [
    {
     "data": {
      "text/plain": [
       "(55399, 132)"
      ]
     },
     "execution_count": 36,
     "metadata": {},
     "output_type": "execute_result"
    }
   ],
   "source": [
    "X.shape"
   ]
  },
  {
   "cell_type": "code",
   "execution_count": 37,
   "metadata": {},
   "outputs": [],
   "source": [
    "y = (y/100).values"
   ]
  },
  {
   "cell_type": "markdown",
   "metadata": {},
   "source": [
    "Let's create a baseline model and perform a k-fold cross validation on it\n"
   ]
  },
  {
   "cell_type": "code",
   "execution_count": 38,
   "metadata": {},
   "outputs": [],
   "source": [
    "from sklearn.linear_model import LinearRegression\n",
    "from sklearn.model_selection import KFold\n",
    "from sklearn.metrics import log_loss,mean_squared_error"
   ]
  },
  {
   "cell_type": "code",
   "execution_count": 39,
   "metadata": {},
   "outputs": [
    {
     "name": "stdout",
     "output_type": "stream",
     "text": [
      "0.005178995043475518\n",
      "0.005273380374826881\n",
      "0.005296859975279735\n",
      "0.005041170254239663\n",
      "0.005154182221739777\n",
      "0.0051718200851237316\n",
      "0.005175066216942675\n",
      "0.005227626360110184\n",
      "0.005060438252053631\n",
      "0.005586233926186401\n",
      "Mean Score 0.00521657727099782\n"
     ]
    }
   ],
   "source": [
    "kf = KFold(n_splits=10,shuffle=True,random_state=42)\n",
    "cv_scores = []\n",
    "\n",
    "for train_index, val_index in kf.split(X):\n",
    "    \n",
    "    X_train, X_val = X[train_index],X[val_index]\n",
    "    y_train, y_val = y[train_index],y[val_index]\n",
    "    \n",
    "    regressor = LinearRegression(n_jobs=-1)\n",
    "    regressor.fit(X_train,y_train)\n",
    "\n",
    "    pred = regressor.predict(X_val)\n",
    "    mean = mean_squared_error(y_val,pred)\n",
    "    cv_scores.append(mean)\n",
    "    print(mean)\n",
    "print(f\"Mean Score {np.mean(cv_scores)}\")"
   ]
  },
  {
   "cell_type": "code",
   "execution_count": 40,
   "metadata": {},
   "outputs": [
    {
     "name": "stderr",
     "output_type": "stream",
     "text": [
      "Using TensorFlow backend.\n"
     ]
    }
   ],
   "source": [
    "from keras.layers import Dense, Dropout\n",
    "from keras.models import Sequential"
   ]
  },
  {
   "cell_type": "code",
   "execution_count": 41,
   "metadata": {},
   "outputs": [
    {
     "name": "stdout",
     "output_type": "stream",
     "text": [
      "WARNING:tensorflow:From /opt/conda/lib/python3.6/site-packages/tensorflow/python/framework/op_def_library.py:263: colocate_with (from tensorflow.python.framework.ops) is deprecated and will be removed in a future version.\n",
      "Instructions for updating:\n",
      "Colocations handled automatically by placer.\n",
      "WARNING:tensorflow:From /opt/conda/lib/python3.6/site-packages/keras/backend/tensorflow_backend.py:3445: calling dropout (from tensorflow.python.ops.nn_ops) with keep_prob is deprecated and will be removed in a future version.\n",
      "Instructions for updating:\n",
      "Please use `rate` instead of `keep_prob`. Rate should be set to `rate = 1 - keep_prob`.\n"
     ]
    }
   ],
   "source": [
    "model = Sequential()\n",
    "model.add(Dense(256,input_dim=132,activation='relu'))\n",
    "model.add(Dropout(rate=0.5))\n",
    "model.add(Dense(64,activation='relu'))\n",
    "model.add(Dropout(rate=0.7))\n",
    "model.add(Dense(1,activation='relu'))\n",
    "\n",
    "model.compile(loss='mean_squared_error',optimizer='adam',metrics=['mean_squared_error'])"
   ]
  },
  {
   "cell_type": "code",
   "execution_count": 42,
   "metadata": {},
   "outputs": [
    {
     "name": "stdout",
     "output_type": "stream",
     "text": [
      "_________________________________________________________________\n",
      "Layer (type)                 Output Shape              Param #   \n",
      "=================================================================\n",
      "dense_1 (Dense)              (None, 256)               34048     \n",
      "_________________________________________________________________\n",
      "dropout_1 (Dropout)          (None, 256)               0         \n",
      "_________________________________________________________________\n",
      "dense_2 (Dense)              (None, 64)                16448     \n",
      "_________________________________________________________________\n",
      "dropout_2 (Dropout)          (None, 64)                0         \n",
      "_________________________________________________________________\n",
      "dense_3 (Dense)              (None, 1)                 65        \n",
      "=================================================================\n",
      "Total params: 50,561\n",
      "Trainable params: 50,561\n",
      "Non-trainable params: 0\n",
      "_________________________________________________________________\n"
     ]
    }
   ],
   "source": [
    "model.summary()"
   ]
  },
  {
   "cell_type": "code",
   "execution_count": 43,
   "metadata": {},
   "outputs": [],
   "source": [
    "from keras.callbacks import ModelCheckpoint, ReduceLROnPlateau"
   ]
  },
  {
   "cell_type": "code",
   "execution_count": 44,
   "metadata": {},
   "outputs": [],
   "source": [
    "checkpoints = ModelCheckpoint('model.h5',monitor='val_mean_squared_error',mode='min',save_best_only='True',verbose=True)\n",
    "reduce_lr = ReduceLROnPlateau(monitor='val_mean_squared_error', factor=0.1, patience=2, verbose=1, min_lr=0.000001)"
   ]
  },
  {
   "cell_type": "code",
   "execution_count": 45,
   "metadata": {},
   "outputs": [],
   "source": [
    "epochs = 50\n",
    "batch_size = 64"
   ]
  },
  {
   "cell_type": "code",
   "execution_count": 46,
   "metadata": {},
   "outputs": [
    {
     "name": "stdout",
     "output_type": "stream",
     "text": [
      "WARNING:tensorflow:From /opt/conda/lib/python3.6/site-packages/tensorflow/python/ops/math_ops.py:3066: to_int32 (from tensorflow.python.ops.math_ops) is deprecated and will be removed in a future version.\n",
      "Instructions for updating:\n",
      "Use tf.cast instead.\n",
      "Train on 49860 samples, validate on 5539 samples\n",
      "Epoch 1/50\n",
      "49860/49860 [==============================] - 3s 64us/step - loss: 0.0239 - mean_squared_error: 0.0239 - val_loss: 0.0077 - val_mean_squared_error: 0.0077\n",
      "\n",
      "Epoch 00001: val_mean_squared_error improved from inf to 0.00772, saving model to model.h5\n",
      "Epoch 2/50\n",
      "49860/49860 [==============================] - 2s 41us/step - loss: 0.0096 - mean_squared_error: 0.0096 - val_loss: 0.0050 - val_mean_squared_error: 0.0050\n",
      "\n",
      "Epoch 00002: val_mean_squared_error improved from 0.00772 to 0.00502, saving model to model.h5\n",
      "Epoch 3/50\n",
      "49860/49860 [==============================] - 2s 41us/step - loss: 0.0079 - mean_squared_error: 0.0079 - val_loss: 0.0038 - val_mean_squared_error: 0.0038\n",
      "\n",
      "Epoch 00003: val_mean_squared_error improved from 0.00502 to 0.00380, saving model to model.h5\n",
      "Epoch 4/50\n",
      "49860/49860 [==============================] - 2s 41us/step - loss: 0.0069 - mean_squared_error: 0.0069 - val_loss: 0.0036 - val_mean_squared_error: 0.0036\n",
      "\n",
      "Epoch 00004: val_mean_squared_error improved from 0.00380 to 0.00356, saving model to model.h5\n",
      "Epoch 5/50\n",
      "49860/49860 [==============================] - 2s 41us/step - loss: 0.0066 - mean_squared_error: 0.0066 - val_loss: 0.0033 - val_mean_squared_error: 0.0033\n",
      "\n",
      "Epoch 00005: val_mean_squared_error improved from 0.00356 to 0.00328, saving model to model.h5\n",
      "Epoch 6/50\n",
      "49860/49860 [==============================] - 2s 41us/step - loss: 0.0064 - mean_squared_error: 0.0064 - val_loss: 0.0033 - val_mean_squared_error: 0.0033\n",
      "\n",
      "Epoch 00006: val_mean_squared_error did not improve from 0.00328\n",
      "Epoch 7/50\n",
      "49860/49860 [==============================] - 2s 41us/step - loss: 0.0061 - mean_squared_error: 0.0061 - val_loss: 0.0030 - val_mean_squared_error: 0.0030\n",
      "\n",
      "Epoch 00007: val_mean_squared_error improved from 0.00328 to 0.00300, saving model to model.h5\n",
      "Epoch 8/50\n",
      "49860/49860 [==============================] - 2s 42us/step - loss: 0.0061 - mean_squared_error: 0.0061 - val_loss: 0.0032 - val_mean_squared_error: 0.0032\n",
      "\n",
      "Epoch 00008: val_mean_squared_error did not improve from 0.00300\n",
      "Epoch 9/50\n",
      "49860/49860 [==============================] - 2s 41us/step - loss: 0.0061 - mean_squared_error: 0.0061 - val_loss: 0.0034 - val_mean_squared_error: 0.0034\n",
      "\n",
      "Epoch 00009: val_mean_squared_error did not improve from 0.00300\n",
      "\n",
      "Epoch 00009: ReduceLROnPlateau reducing learning rate to 0.00010000000474974513.\n",
      "Epoch 10/50\n",
      "49860/49860 [==============================] - 2s 41us/step - loss: 0.0056 - mean_squared_error: 0.0056 - val_loss: 0.0031 - val_mean_squared_error: 0.0031\n",
      "\n",
      "Epoch 00010: val_mean_squared_error did not improve from 0.00300\n",
      "Epoch 11/50\n",
      "49860/49860 [==============================] - 2s 41us/step - loss: 0.0054 - mean_squared_error: 0.0054 - val_loss: 0.0030 - val_mean_squared_error: 0.0030\n",
      "\n",
      "Epoch 00011: val_mean_squared_error improved from 0.00300 to 0.00295, saving model to model.h5\n",
      "\n",
      "Epoch 00011: ReduceLROnPlateau reducing learning rate to 1.0000000474974514e-05.\n",
      "Epoch 12/50\n",
      "49860/49860 [==============================] - 2s 41us/step - loss: 0.0054 - mean_squared_error: 0.0054 - val_loss: 0.0030 - val_mean_squared_error: 0.0030\n",
      "\n",
      "Epoch 00012: val_mean_squared_error did not improve from 0.00295\n",
      "Epoch 13/50\n",
      "49860/49860 [==============================] - 2s 41us/step - loss: 0.0054 - mean_squared_error: 0.0054 - val_loss: 0.0030 - val_mean_squared_error: 0.0030\n",
      "\n",
      "Epoch 00013: val_mean_squared_error did not improve from 0.00295\n",
      "\n",
      "Epoch 00013: ReduceLROnPlateau reducing learning rate to 1.0000000656873453e-06.\n",
      "Epoch 14/50\n",
      "49860/49860 [==============================] - 2s 41us/step - loss: 0.0054 - mean_squared_error: 0.0054 - val_loss: 0.0030 - val_mean_squared_error: 0.0030\n",
      "\n",
      "Epoch 00014: val_mean_squared_error did not improve from 0.00295\n",
      "Epoch 15/50\n",
      "49860/49860 [==============================] - 2s 41us/step - loss: 0.0054 - mean_squared_error: 0.0054 - val_loss: 0.0030 - val_mean_squared_error: 0.0030\n",
      "\n",
      "Epoch 00015: val_mean_squared_error did not improve from 0.00295\n",
      "\n",
      "Epoch 00015: ReduceLROnPlateau reducing learning rate to 1e-06.\n",
      "Epoch 16/50\n",
      "49860/49860 [==============================] - 2s 48us/step - loss: 0.0055 - mean_squared_error: 0.0055 - val_loss: 0.0030 - val_mean_squared_error: 0.0030\n",
      "\n",
      "Epoch 00016: val_mean_squared_error did not improve from 0.00295\n",
      "Epoch 17/50\n",
      "49860/49860 [==============================] - 3s 51us/step - loss: 0.0054 - mean_squared_error: 0.0054 - val_loss: 0.0030 - val_mean_squared_error: 0.0030\n",
      "\n",
      "Epoch 00017: val_mean_squared_error did not improve from 0.00295\n",
      "Epoch 18/50\n",
      "49860/49860 [==============================] - 2s 41us/step - loss: 0.0054 - mean_squared_error: 0.0054 - val_loss: 0.0030 - val_mean_squared_error: 0.0030\n",
      "\n",
      "Epoch 00018: val_mean_squared_error did not improve from 0.00295\n",
      "Epoch 19/50\n",
      "49860/49860 [==============================] - 2s 41us/step - loss: 0.0055 - mean_squared_error: 0.0055 - val_loss: 0.0030 - val_mean_squared_error: 0.0030\n",
      "\n",
      "Epoch 00019: val_mean_squared_error did not improve from 0.00295\n",
      "Epoch 20/50\n",
      "49860/49860 [==============================] - 2s 41us/step - loss: 0.0055 - mean_squared_error: 0.0055 - val_loss: 0.0030 - val_mean_squared_error: 0.0030\n",
      "\n",
      "Epoch 00020: val_mean_squared_error did not improve from 0.00295\n",
      "Epoch 21/50\n",
      "49860/49860 [==============================] - 2s 41us/step - loss: 0.0054 - mean_squared_error: 0.0054 - val_loss: 0.0030 - val_mean_squared_error: 0.0030\n",
      "\n",
      "Epoch 00021: val_mean_squared_error did not improve from 0.00295\n",
      "Epoch 22/50\n",
      "49860/49860 [==============================] - 2s 41us/step - loss: 0.0054 - mean_squared_error: 0.0054 - val_loss: 0.0030 - val_mean_squared_error: 0.0030\n",
      "\n",
      "Epoch 00022: val_mean_squared_error did not improve from 0.00295\n",
      "Epoch 23/50\n",
      "49860/49860 [==============================] - 2s 41us/step - loss: 0.0054 - mean_squared_error: 0.0054 - val_loss: 0.0030 - val_mean_squared_error: 0.0030\n",
      "\n",
      "Epoch 00023: val_mean_squared_error did not improve from 0.00295\n",
      "Epoch 24/50\n",
      "49860/49860 [==============================] - 2s 41us/step - loss: 0.0054 - mean_squared_error: 0.0054 - val_loss: 0.0030 - val_mean_squared_error: 0.0030\n",
      "\n",
      "Epoch 00024: val_mean_squared_error did not improve from 0.00295\n",
      "Epoch 25/50\n",
      "49860/49860 [==============================] - 2s 41us/step - loss: 0.0054 - mean_squared_error: 0.0054 - val_loss: 0.0030 - val_mean_squared_error: 0.0030\n",
      "\n",
      "Epoch 00025: val_mean_squared_error did not improve from 0.00295\n",
      "Epoch 26/50\n",
      "49860/49860 [==============================] - 2s 41us/step - loss: 0.0054 - mean_squared_error: 0.0054 - val_loss: 0.0030 - val_mean_squared_error: 0.0030\n",
      "\n",
      "Epoch 00026: val_mean_squared_error did not improve from 0.00295\n",
      "Epoch 27/50\n",
      "49860/49860 [==============================] - 2s 41us/step - loss: 0.0054 - mean_squared_error: 0.0054 - val_loss: 0.0030 - val_mean_squared_error: 0.0030\n",
      "\n",
      "Epoch 00027: val_mean_squared_error did not improve from 0.00295\n",
      "Epoch 28/50\n",
      "49860/49860 [==============================] - 2s 43us/step - loss: 0.0054 - mean_squared_error: 0.0054 - val_loss: 0.0030 - val_mean_squared_error: 0.0030\n",
      "\n",
      "Epoch 00028: val_mean_squared_error did not improve from 0.00295\n",
      "Epoch 29/50\n",
      "49860/49860 [==============================] - 2s 49us/step - loss: 0.0053 - mean_squared_error: 0.0053 - val_loss: 0.0030 - val_mean_squared_error: 0.0030\n",
      "\n",
      "Epoch 00029: val_mean_squared_error did not improve from 0.00295\n",
      "Epoch 30/50\n",
      "49860/49860 [==============================] - 2s 50us/step - loss: 0.0054 - mean_squared_error: 0.0054 - val_loss: 0.0030 - val_mean_squared_error: 0.0030\n",
      "\n",
      "Epoch 00030: val_mean_squared_error did not improve from 0.00295\n",
      "Epoch 31/50\n",
      "49860/49860 [==============================] - 2s 49us/step - loss: 0.0055 - mean_squared_error: 0.0055 - val_loss: 0.0030 - val_mean_squared_error: 0.0030\n",
      "\n",
      "Epoch 00031: val_mean_squared_error did not improve from 0.00295\n",
      "Epoch 32/50\n",
      "49860/49860 [==============================] - 2s 49us/step - loss: 0.0054 - mean_squared_error: 0.0054 - val_loss: 0.0030 - val_mean_squared_error: 0.0030\n",
      "\n",
      "Epoch 00032: val_mean_squared_error did not improve from 0.00295\n",
      "Epoch 33/50\n",
      "49860/49860 [==============================] - 2s 41us/step - loss: 0.0053 - mean_squared_error: 0.0053 - val_loss: 0.0030 - val_mean_squared_error: 0.0030\n",
      "\n",
      "Epoch 00033: val_mean_squared_error did not improve from 0.00295\n",
      "Epoch 34/50\n",
      "49860/49860 [==============================] - 2s 41us/step - loss: 0.0054 - mean_squared_error: 0.0054 - val_loss: 0.0030 - val_mean_squared_error: 0.0030\n",
      "\n",
      "Epoch 00034: val_mean_squared_error did not improve from 0.00295\n",
      "Epoch 35/50\n",
      "49860/49860 [==============================] - 2s 41us/step - loss: 0.0054 - mean_squared_error: 0.0054 - val_loss: 0.0030 - val_mean_squared_error: 0.0030\n",
      "\n",
      "Epoch 00035: val_mean_squared_error did not improve from 0.00295\n",
      "Epoch 36/50\n",
      "49860/49860 [==============================] - 2s 41us/step - loss: 0.0054 - mean_squared_error: 0.0054 - val_loss: 0.0030 - val_mean_squared_error: 0.0030\n",
      "\n",
      "Epoch 00036: val_mean_squared_error did not improve from 0.00295\n",
      "Epoch 37/50\n",
      "49860/49860 [==============================] - 2s 41us/step - loss: 0.0054 - mean_squared_error: 0.0054 - val_loss: 0.0030 - val_mean_squared_error: 0.0030\n",
      "\n",
      "Epoch 00037: val_mean_squared_error did not improve from 0.00295\n",
      "Epoch 38/50\n",
      "49860/49860 [==============================] - 2s 41us/step - loss: 0.0054 - mean_squared_error: 0.0054 - val_loss: 0.0030 - val_mean_squared_error: 0.0030\n",
      "\n",
      "Epoch 00038: val_mean_squared_error did not improve from 0.00295\n",
      "Epoch 39/50\n",
      "49860/49860 [==============================] - 2s 41us/step - loss: 0.0055 - mean_squared_error: 0.0055 - val_loss: 0.0030 - val_mean_squared_error: 0.0030\n",
      "\n",
      "Epoch 00039: val_mean_squared_error did not improve from 0.00295\n",
      "Epoch 40/50\n",
      "49860/49860 [==============================] - 2s 41us/step - loss: 0.0054 - mean_squared_error: 0.0054 - val_loss: 0.0030 - val_mean_squared_error: 0.0030\n",
      "\n",
      "Epoch 00040: val_mean_squared_error did not improve from 0.00295\n",
      "Epoch 41/50\n",
      "49860/49860 [==============================] - 2s 41us/step - loss: 0.0053 - mean_squared_error: 0.0053 - val_loss: 0.0030 - val_mean_squared_error: 0.0030\n",
      "\n",
      "Epoch 00041: val_mean_squared_error did not improve from 0.00295\n",
      "Epoch 42/50\n",
      "49860/49860 [==============================] - 2s 41us/step - loss: 0.0054 - mean_squared_error: 0.0054 - val_loss: 0.0030 - val_mean_squared_error: 0.0030\n",
      "\n",
      "Epoch 00042: val_mean_squared_error did not improve from 0.00295\n",
      "Epoch 43/50\n",
      "49860/49860 [==============================] - 2s 41us/step - loss: 0.0054 - mean_squared_error: 0.0054 - val_loss: 0.0030 - val_mean_squared_error: 0.0030\n",
      "\n",
      "Epoch 00043: val_mean_squared_error did not improve from 0.00295\n",
      "Epoch 44/50\n",
      "49860/49860 [==============================] - 2s 41us/step - loss: 0.0054 - mean_squared_error: 0.0054 - val_loss: 0.0030 - val_mean_squared_error: 0.0030\n",
      "\n",
      "Epoch 00044: val_mean_squared_error did not improve from 0.00295\n",
      "Epoch 45/50\n",
      "49860/49860 [==============================] - 2s 41us/step - loss: 0.0053 - mean_squared_error: 0.0053 - val_loss: 0.0030 - val_mean_squared_error: 0.0030\n",
      "\n",
      "Epoch 00045: val_mean_squared_error did not improve from 0.00295\n",
      "Epoch 46/50\n",
      "49860/49860 [==============================] - 2s 41us/step - loss: 0.0054 - mean_squared_error: 0.0054 - val_loss: 0.0030 - val_mean_squared_error: 0.0030\n",
      "\n",
      "Epoch 00046: val_mean_squared_error did not improve from 0.00295\n",
      "Epoch 47/50\n",
      "49860/49860 [==============================] - 2s 41us/step - loss: 0.0053 - mean_squared_error: 0.0053 - val_loss: 0.0030 - val_mean_squared_error: 0.0030\n",
      "\n",
      "Epoch 00047: val_mean_squared_error did not improve from 0.00295\n",
      "Epoch 48/50\n",
      "49860/49860 [==============================] - 2s 41us/step - loss: 0.0054 - mean_squared_error: 0.0054 - val_loss: 0.0030 - val_mean_squared_error: 0.0030\n",
      "\n",
      "Epoch 00048: val_mean_squared_error did not improve from 0.00295\n",
      "Epoch 49/50\n",
      "49860/49860 [==============================] - 2s 41us/step - loss: 0.0054 - mean_squared_error: 0.0054 - val_loss: 0.0030 - val_mean_squared_error: 0.0030\n",
      "\n",
      "Epoch 00049: val_mean_squared_error did not improve from 0.00295\n",
      "Epoch 50/50\n",
      "49860/49860 [==============================] - 2s 41us/step - loss: 0.0053 - mean_squared_error: 0.0053 - val_loss: 0.0029 - val_mean_squared_error: 0.0029\n",
      "\n",
      "Epoch 00050: val_mean_squared_error improved from 0.00295 to 0.00295, saving model to model.h5\n"
     ]
    }
   ],
   "source": [
    "history = model.fit(X_train, y_train, batch_size=batch_size, epochs=epochs, \n",
    "                    validation_data=[X_val, y_val], callbacks=[checkpoints, reduce_lr])"
   ]
  },
  {
   "cell_type": "code",
   "execution_count": 47,
   "metadata": {},
   "outputs": [
    {
     "data": {
      "image/png": "[encoded data removed]",
      "text/plain": [
       "<Figure size 864x576 with 1 Axes>"
      ]
     },
     "metadata": {},
     "output_type": "display_data"
    }
   ],
   "source": [
    "import matplotlib.pyplot as plt\n",
    "\n",
    "plt.figure(figsize=(12,8))\n",
    "plt.plot(history.history['mean_squared_error'], label='Train MSE')\n",
    "plt.plot(history.history['val_mean_squared_error'], label='Test MSE')\n",
    "plt.legend(('Train MSE', 'Val MSE'))\n",
    "plt.show()"
   ]
  },
  {
   "cell_type": "code",
   "execution_count": 48,
   "metadata": {},
   "outputs": [],
   "source": [
    "model.load_weights('model.h5')"
   ]
  },
  {
   "cell_type": "code",
   "execution_count": 49,
   "metadata": {},
   "outputs": [
    {
     "data": {
      "text/html": [
       "<div>\n",
       "<style scoped>\n",
       "    .dataframe tbody tr th:only-of-type {\n",
       "        vertical-align: middle;\n",
       "    }\n",
       "\n",
       "    .dataframe tbody tr th {\n",
       "        vertical-align: top;\n",
       "    }\n",
       "\n",
       "    .dataframe thead th {\n",
       "        text-align: right;\n",
       "    }\n",
       "</style>\n",
       "<table border=\"1\" class=\"dataframe\">\n",
       "  <thead>\n",
       "    <tr style=\"text-align: right;\">\n",
       "      <th></th>\n",
       "      <th>Patient_ID</th>\n",
       "      <th>YEAR</th>\n",
       "      <th>LocationDesc</th>\n",
       "      <th>Subtopic</th>\n",
       "      <th>Greater_Risk_Question</th>\n",
       "      <th>Description</th>\n",
       "      <th>Sample_Size</th>\n",
       "      <th>Sex</th>\n",
       "      <th>Race</th>\n",
       "      <th>Grade</th>\n",
       "      <th>GeoLocation</th>\n",
       "      <th>QuestionCode</th>\n",
       "      <th>StratID1</th>\n",
       "      <th>StratID2</th>\n",
       "      <th>StratID3</th>\n",
       "      <th>StratificationType</th>\n",
       "      <th>Greater_Risk_Probability</th>\n",
       "    </tr>\n",
       "  </thead>\n",
       "  <tbody>\n",
       "    <tr>\n",
       "      <th>0</th>\n",
       "      <td>55400</td>\n",
       "      <td>2007</td>\n",
       "      <td>Navajo</td>\n",
       "      <td>1</td>\n",
       "      <td>Ever used marijuana</td>\n",
       "      <td>also called grass, pot, or weed, one or more t...</td>\n",
       "      <td>157.0</td>\n",
       "      <td>Male</td>\n",
       "      <td>Hispanic or Latino</td>\n",
       "      <td>3</td>\n",
       "      <td>NaN</td>\n",
       "      <td>H46</td>\n",
       "      <td>2</td>\n",
       "      <td>4</td>\n",
       "      <td>1</td>\n",
       "      <td>Other</td>\n",
       "      <td>55.156101</td>\n",
       "    </tr>\n",
       "    <tr>\n",
       "      <th>1</th>\n",
       "      <td>55401</td>\n",
       "      <td>2001</td>\n",
       "      <td>Florida</td>\n",
       "      <td>1</td>\n",
       "      <td>Currently used marijuana</td>\n",
       "      <td>also called grass, pot, or weed, one or more t...</td>\n",
       "      <td>724.0</td>\n",
       "      <td>Total</td>\n",
       "      <td>Total</td>\n",
       "      <td>2</td>\n",
       "      <td>(28.932040377000476, -81.92896053899966)</td>\n",
       "      <td>H48</td>\n",
       "      <td>0</td>\n",
       "      <td>0</td>\n",
       "      <td>4</td>\n",
       "      <td>State</td>\n",
       "      <td>26.370199</td>\n",
       "    </tr>\n",
       "    <tr>\n",
       "      <th>2</th>\n",
       "      <td>55402</td>\n",
       "      <td>2005</td>\n",
       "      <td>Charlotte-Mecklenburg County, NC</td>\n",
       "      <td>1</td>\n",
       "      <td>Were offered, sold, or given an illegal drug o...</td>\n",
       "      <td>during the 12 months before the survey</td>\n",
       "      <td>105.0</td>\n",
       "      <td>Male</td>\n",
       "      <td>Hispanic or Latino</td>\n",
       "      <td>4</td>\n",
       "      <td>(35.227087, -80.843127)</td>\n",
       "      <td>H58</td>\n",
       "      <td>2</td>\n",
       "      <td>4</td>\n",
       "      <td>0</td>\n",
       "      <td>Local</td>\n",
       "      <td>50.312099</td>\n",
       "    </tr>\n",
       "    <tr>\n",
       "      <th>3</th>\n",
       "      <td>55403</td>\n",
       "      <td>2017</td>\n",
       "      <td>Nevada</td>\n",
       "      <td>1</td>\n",
       "      <td>Ever used synthetic marijuana</td>\n",
       "      <td>also called \"K2,\" \"Spice,\" \"fake weed,\" \"King ...</td>\n",
       "      <td>157.0</td>\n",
       "      <td>Male</td>\n",
       "      <td>Total</td>\n",
       "      <td>2</td>\n",
       "      <td>(39.493240390000494, -117.07184056399967)</td>\n",
       "      <td>H54</td>\n",
       "      <td>2</td>\n",
       "      <td>0</td>\n",
       "      <td>4</td>\n",
       "      <td>State</td>\n",
       "      <td>18.092199</td>\n",
       "    </tr>\n",
       "    <tr>\n",
       "      <th>4</th>\n",
       "      <td>55404</td>\n",
       "      <td>2007</td>\n",
       "      <td>Illinois</td>\n",
       "      <td>1</td>\n",
       "      <td>Ever used heroin</td>\n",
       "      <td>also called \"smack,\" \"junk,\" or \"China White,\"...</td>\n",
       "      <td>174.0</td>\n",
       "      <td>Total</td>\n",
       "      <td>Black or African American</td>\n",
       "      <td>1</td>\n",
       "      <td>(40.48501028300046, -88.99771017799969)</td>\n",
       "      <td>H51</td>\n",
       "      <td>0</td>\n",
       "      <td>3</td>\n",
       "      <td>3</td>\n",
       "      <td>State</td>\n",
       "      <td>6.373900</td>\n",
       "    </tr>\n",
       "  </tbody>\n",
       "</table>\n",
       "</div>"
      ],
      "text/plain": [
       "   Patient_ID            ...             Greater_Risk_Probability\n",
       "0       55400            ...                            55.156101\n",
       "1       55401            ...                            26.370199\n",
       "2       55402            ...                            50.312099\n",
       "3       55403            ...                            18.092199\n",
       "4       55404            ...                             6.373900\n",
       "\n",
       "[5 rows x 17 columns]"
      ]
     },
     "execution_count": 49,
     "metadata": {},
     "output_type": "execute_result"
    }
   ],
   "source": [
    "pred_test = (model.predict(X_test)*100).round(4)\n",
    "test['Greater_Risk_Probability'] = pred_test\n",
    "test.head()"
   ]
  },
  {
   "cell_type": "code",
   "execution_count": 50,
   "metadata": {},
   "outputs": [
    {
     "data": {
      "text/html": [
       "<div>\n",
       "<style scoped>\n",
       "    .dataframe tbody tr th:only-of-type {\n",
       "        vertical-align: middle;\n",
       "    }\n",
       "\n",
       "    .dataframe tbody tr th {\n",
       "        vertical-align: top;\n",
       "    }\n",
       "\n",
       "    .dataframe thead th {\n",
       "        text-align: right;\n",
       "    }\n",
       "</style>\n",
       "<table border=\"1\" class=\"dataframe\">\n",
       "  <thead>\n",
       "    <tr style=\"text-align: right;\">\n",
       "      <th></th>\n",
       "      <th>Patient_ID</th>\n",
       "      <th>Greater_Risk_Probability</th>\n",
       "    </tr>\n",
       "  </thead>\n",
       "  <tbody>\n",
       "    <tr>\n",
       "      <th>0</th>\n",
       "      <td>55400</td>\n",
       "      <td>55.156101</td>\n",
       "    </tr>\n",
       "    <tr>\n",
       "      <th>1</th>\n",
       "      <td>55401</td>\n",
       "      <td>26.370199</td>\n",
       "    </tr>\n",
       "    <tr>\n",
       "      <th>2</th>\n",
       "      <td>55402</td>\n",
       "      <td>50.312099</td>\n",
       "    </tr>\n",
       "    <tr>\n",
       "      <th>3</th>\n",
       "      <td>55403</td>\n",
       "      <td>18.092199</td>\n",
       "    </tr>\n",
       "    <tr>\n",
       "      <th>4</th>\n",
       "      <td>55404</td>\n",
       "      <td>6.373900</td>\n",
       "    </tr>\n",
       "  </tbody>\n",
       "</table>\n",
       "</div>"
      ],
      "text/plain": [
       "   Patient_ID  Greater_Risk_Probability\n",
       "0       55400                 55.156101\n",
       "1       55401                 26.370199\n",
       "2       55402                 50.312099\n",
       "3       55403                 18.092199\n",
       "4       55404                  6.373900"
      ]
     },
     "execution_count": 50,
     "metadata": {},
     "output_type": "execute_result"
    }
   ],
   "source": [
    "df_sub = test.loc[:,['Patient_ID','Greater_Risk_Probability']]\n",
    "df_sub.head()"
   ]
  },
  {
   "cell_type": "code",
   "execution_count": 51,
   "metadata": {},
   "outputs": [],
   "source": [
    "df_sub.to_csv(path_or_buf = 'submission.csv',index=False)"
   ]
  },
  {
   "cell_type": "code",
   "execution_count": 52,
   "metadata": {},
   "outputs": [],
   "source": []
  }
 ],
 "metadata": {
  "kernelspec": {
   "display_name": "Python 3",
   "language": "python",
   "name": "python3"
  },
  "language_info": {
   "codemirror_mode": {
    "name": "ipython",
    "version": 3
   },
   "file_extension": ".py",
   "mimetype": "text/x-python",
   "name": "python",
   "nbconvert_exporter": "python",
   "pygments_lexer": "ipython3",
   "version": "3.6.4"
  }
 },
 "nbformat": 4,
 "nbformat_minor": 1
}
