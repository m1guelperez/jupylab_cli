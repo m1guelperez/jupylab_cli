{
 "cells": [
  {
   "cell_type": "markdown",
   "metadata": {},
   "source": [
    "# Regressão linear para maximizar o crescimento da banca de estratégia de apostas com Pytorch\n",
    "\n",
    "Nesse notebook irei demonostrar como aplicar, a partir de vários inputs, a regressão para definir quando e quanto apostar afim de maximar o crescimento da banca de apostas (bankroll),que é isso que queremos, ter o máximo de dinheiro no menor tempo possível.\n",
    "\n",
    "Um modelo linear é o mais simples que podemos criar, entretanto para definição estratégia de apostas ainda não encontrei um modelo mais eficiente. O Pytorch permite criar modelos mais complexos expandindo o modelo linear aqui proposto.\n",
    "\n",
    "A classe [linear_model.LinearRegression](https://scikit-learn.org/stable/modules/generated/sklearn.linear_model.LinearRegression.html) é forma mais simples e popular de fazer uma regressão linear em Python, mas aqui vamos utilizar o Pytorch, pois esse último permite com facilidade a definção de uma **Função Custo Personalizada (Custom Loss Function)**"
   ]
  },
  {
   "cell_type": "markdown",
   "metadata": {},
   "source": [
    "Nesse exemplo, nosso dataset possui os inputs rolutados  de \"A\" a \"P\", os quais podem ser quaisquer estatísiticas do esporte que podem inlufuenciar no desfecho da apostas como:\n",
    "\n",
    "\n",
    "**Para o futebol:**\n",
    "* gols;\n",
    "* chutes, \n",
    "* escanteios \n",
    "* minutos sem tomar gols\n",
    "\n",
    "\n",
    "**Para o tênis:**\n",
    "* aces;\n",
    "* duplas faltas;\n",
    "* quebras de serviço;\n",
    "\n",
    "\n",
    "**Para o beisebol:**\n",
    "* home runs;\n",
    "* rebatidas;\n",
    "\n",
    "\n",
    "Sejam somas ou médias das estatísticas de uma dado período de tempo. A determinação de qual estatística ou qual intervalo temporal é mais relevante para a definição da estratégia é um processo de tentativa e erro. Normalmente quanto mais melhor, mas há casos no quais menos variávies deixa o modelo mais eficiente.\n",
    "\n",
    "\n",
    "### PL\n",
    "PL é a variável dependente, é o que vamos modelar, é o Y do modelo onde os inputs são os Xs.\n",
    "\n",
    "A sigla PL pode ser Profit-Loss ou Perda-Lucro, tanto em português quanto em inglês faz sentido. PL é o retorno líquido da aposta, quanto ganhamos ou perdemos em dada aposta resolvida. Numa aposta de odds 1.95, se ganhamos -> <span style=\"color:green\">PL=0.95</span>,  se perdemos -> <span style=\"color:red\">PL=-1.00</span>\n",
    "\n",
    "Veja abaixo está nosso dataset."
   ]
  },
  {
   "cell_type": "code",
   "execution_count": 1,
   "metadata": {
    "_cell_guid": "b1076dfc-b9ad-4769-8c92-a6c4dae69d19",
    "_uuid": "8f2839f25d086af736a60e9eeb907d3b93b6e0e5"
   },
   "outputs": [
    {
     "data": {
      "text/html": [
       "<div>\n",
       "<style scoped>\n",
       "    .dataframe tbody tr th:only-of-type {\n",
       "        vertical-align: middle;\n",
       "    }\n",
       "\n",
       "    .dataframe tbody tr th {\n",
       "        vertical-align: top;\n",
       "    }\n",
       "\n",
       "    .dataframe thead th {\n",
       "        text-align: right;\n",
       "    }\n",
       "</style>\n",
       "<table border=\"1\" class=\"dataframe\">\n",
       "  <thead>\n",
       "    <tr style=\"text-align: right;\">\n",
       "      <th></th>\n",
       "      <th>A</th>\n",
       "      <th>B</th>\n",
       "      <th>C</th>\n",
       "      <th>D</th>\n",
       "      <th>E</th>\n",
       "      <th>F</th>\n",
       "      <th>G</th>\n",
       "      <th>H</th>\n",
       "      <th>I</th>\n",
       "      <th>J</th>\n",
       "      <th>K</th>\n",
       "      <th>L</th>\n",
       "      <th>M</th>\n",
       "      <th>N</th>\n",
       "      <th>O</th>\n",
       "      <th>P</th>\n",
       "      <th>PL</th>\n",
       "    </tr>\n",
       "  </thead>\n",
       "  <tbody>\n",
       "    <tr>\n",
       "      <th>0</th>\n",
       "      <td>0</td>\n",
       "      <td>2</td>\n",
       "      <td>55</td>\n",
       "      <td>16</td>\n",
       "      <td>0</td>\n",
       "      <td>2</td>\n",
       "      <td>5</td>\n",
       "      <td>4</td>\n",
       "      <td>0</td>\n",
       "      <td>1.75</td>\n",
       "      <td>1.800</td>\n",
       "      <td>2.000</td>\n",
       "      <td>0</td>\n",
       "      <td>0</td>\n",
       "      <td>0</td>\n",
       "      <td>1</td>\n",
       "      <td>-0.50</td>\n",
       "    </tr>\n",
       "    <tr>\n",
       "      <th>1</th>\n",
       "      <td>2</td>\n",
       "      <td>4</td>\n",
       "      <td>28</td>\n",
       "      <td>11</td>\n",
       "      <td>0</td>\n",
       "      <td>0</td>\n",
       "      <td>6</td>\n",
       "      <td>5</td>\n",
       "      <td>0</td>\n",
       "      <td>1.50</td>\n",
       "      <td>1.900</td>\n",
       "      <td>1.900</td>\n",
       "      <td>0</td>\n",
       "      <td>0</td>\n",
       "      <td>1</td>\n",
       "      <td>0</td>\n",
       "      <td>-1.00</td>\n",
       "    </tr>\n",
       "    <tr>\n",
       "      <th>2</th>\n",
       "      <td>3</td>\n",
       "      <td>9</td>\n",
       "      <td>52</td>\n",
       "      <td>6</td>\n",
       "      <td>1</td>\n",
       "      <td>5</td>\n",
       "      <td>2</td>\n",
       "      <td>0</td>\n",
       "      <td>0</td>\n",
       "      <td>1.25</td>\n",
       "      <td>1.975</td>\n",
       "      <td>1.825</td>\n",
       "      <td>0</td>\n",
       "      <td>1</td>\n",
       "      <td>0</td>\n",
       "      <td>0</td>\n",
       "      <td>-1.00</td>\n",
       "    </tr>\n",
       "    <tr>\n",
       "      <th>3</th>\n",
       "      <td>1</td>\n",
       "      <td>8</td>\n",
       "      <td>34</td>\n",
       "      <td>9</td>\n",
       "      <td>1</td>\n",
       "      <td>8</td>\n",
       "      <td>0</td>\n",
       "      <td>3</td>\n",
       "      <td>0</td>\n",
       "      <td>1.50</td>\n",
       "      <td>1.750</td>\n",
       "      <td>2.050</td>\n",
       "      <td>0</td>\n",
       "      <td>0</td>\n",
       "      <td>1</td>\n",
       "      <td>0</td>\n",
       "      <td>-1.00</td>\n",
       "    </tr>\n",
       "    <tr>\n",
       "      <th>4</th>\n",
       "      <td>0</td>\n",
       "      <td>2</td>\n",
       "      <td>66</td>\n",
       "      <td>6</td>\n",
       "      <td>0</td>\n",
       "      <td>2</td>\n",
       "      <td>10</td>\n",
       "      <td>4</td>\n",
       "      <td>0</td>\n",
       "      <td>1.25</td>\n",
       "      <td>1.950</td>\n",
       "      <td>1.850</td>\n",
       "      <td>0</td>\n",
       "      <td>1</td>\n",
       "      <td>0</td>\n",
       "      <td>0</td>\n",
       "      <td>-1.00</td>\n",
       "    </tr>\n",
       "    <tr>\n",
       "      <th>...</th>\n",
       "      <td>...</td>\n",
       "      <td>...</td>\n",
       "      <td>...</td>\n",
       "      <td>...</td>\n",
       "      <td>...</td>\n",
       "      <td>...</td>\n",
       "      <td>...</td>\n",
       "      <td>...</td>\n",
       "      <td>...</td>\n",
       "      <td>...</td>\n",
       "      <td>...</td>\n",
       "      <td>...</td>\n",
       "      <td>...</td>\n",
       "      <td>...</td>\n",
       "      <td>...</td>\n",
       "      <td>...</td>\n",
       "      <td>...</td>\n",
       "    </tr>\n",
       "    <tr>\n",
       "      <th>355368</th>\n",
       "      <td>0</td>\n",
       "      <td>7</td>\n",
       "      <td>80</td>\n",
       "      <td>8</td>\n",
       "      <td>0</td>\n",
       "      <td>3</td>\n",
       "      <td>10</td>\n",
       "      <td>4</td>\n",
       "      <td>0</td>\n",
       "      <td>1.75</td>\n",
       "      <td>1.775</td>\n",
       "      <td>2.025</td>\n",
       "      <td>0</td>\n",
       "      <td>0</td>\n",
       "      <td>0</td>\n",
       "      <td>1</td>\n",
       "      <td>-0.50</td>\n",
       "    </tr>\n",
       "    <tr>\n",
       "      <th>355369</th>\n",
       "      <td>0</td>\n",
       "      <td>3</td>\n",
       "      <td>60</td>\n",
       "      <td>11</td>\n",
       "      <td>0</td>\n",
       "      <td>1</td>\n",
       "      <td>6</td>\n",
       "      <td>3</td>\n",
       "      <td>0</td>\n",
       "      <td>2.00</td>\n",
       "      <td>1.900</td>\n",
       "      <td>1.900</td>\n",
       "      <td>1</td>\n",
       "      <td>0</td>\n",
       "      <td>0</td>\n",
       "      <td>0</td>\n",
       "      <td>-1.00</td>\n",
       "    </tr>\n",
       "    <tr>\n",
       "      <th>355370</th>\n",
       "      <td>2</td>\n",
       "      <td>4</td>\n",
       "      <td>51</td>\n",
       "      <td>8</td>\n",
       "      <td>2</td>\n",
       "      <td>0</td>\n",
       "      <td>11</td>\n",
       "      <td>4</td>\n",
       "      <td>0</td>\n",
       "      <td>1.50</td>\n",
       "      <td>1.950</td>\n",
       "      <td>1.850</td>\n",
       "      <td>0</td>\n",
       "      <td>0</td>\n",
       "      <td>1</td>\n",
       "      <td>0</td>\n",
       "      <td>0.95</td>\n",
       "    </tr>\n",
       "    <tr>\n",
       "      <th>355371</th>\n",
       "      <td>2</td>\n",
       "      <td>3</td>\n",
       "      <td>39</td>\n",
       "      <td>16</td>\n",
       "      <td>0</td>\n",
       "      <td>3</td>\n",
       "      <td>9</td>\n",
       "      <td>0</td>\n",
       "      <td>0</td>\n",
       "      <td>1.50</td>\n",
       "      <td>1.900</td>\n",
       "      <td>1.950</td>\n",
       "      <td>0</td>\n",
       "      <td>0</td>\n",
       "      <td>1</td>\n",
       "      <td>0</td>\n",
       "      <td>0.90</td>\n",
       "    </tr>\n",
       "    <tr>\n",
       "      <th>355372</th>\n",
       "      <td>0</td>\n",
       "      <td>2</td>\n",
       "      <td>98</td>\n",
       "      <td>11</td>\n",
       "      <td>0</td>\n",
       "      <td>0</td>\n",
       "      <td>20</td>\n",
       "      <td>5</td>\n",
       "      <td>0</td>\n",
       "      <td>1.50</td>\n",
       "      <td>1.825</td>\n",
       "      <td>1.975</td>\n",
       "      <td>0</td>\n",
       "      <td>0</td>\n",
       "      <td>1</td>\n",
       "      <td>0</td>\n",
       "      <td>-1.00</td>\n",
       "    </tr>\n",
       "  </tbody>\n",
       "</table>\n",
       "<p>355373 rows × 17 columns</p>\n",
       "</div>"
      ],
      "text/plain": [
       "        A  B   C   D  E  F   G  H  I     J      K      L  M  N  O  P    PL\n",
       "0       0  2  55  16  0  2   5  4  0  1.75  1.800  2.000  0  0  0  1 -0.50\n",
       "1       2  4  28  11  0  0   6  5  0  1.50  1.900  1.900  0  0  1  0 -1.00\n",
       "2       3  9  52   6  1  5   2  0  0  1.25  1.975  1.825  0  1  0  0 -1.00\n",
       "3       1  8  34   9  1  8   0  3  0  1.50  1.750  2.050  0  0  1  0 -1.00\n",
       "4       0  2  66   6  0  2  10  4  0  1.25  1.950  1.850  0  1  0  0 -1.00\n",
       "...    .. ..  ..  .. .. ..  .. .. ..   ...    ...    ... .. .. .. ..   ...\n",
       "355368  0  7  80   8  0  3  10  4  0  1.75  1.775  2.025  0  0  0  1 -0.50\n",
       "355369  0  3  60  11  0  1   6  3  0  2.00  1.900  1.900  1  0  0  0 -1.00\n",
       "355370  2  4  51   8  2  0  11  4  0  1.50  1.950  1.850  0  0  1  0  0.95\n",
       "355371  2  3  39  16  0  3   9  0  0  1.50  1.900  1.950  0  0  1  0  0.90\n",
       "355372  0  2  98  11  0  0  20  5  0  1.50  1.825  1.975  0  0  1  0 -1.00\n",
       "\n",
       "[355373 rows x 17 columns]"
      ]
     },
     "execution_count": 1,
     "metadata": {},
     "output_type": "execute_result"
    }
   ],
   "source": [
    "import numpy as np  \n",
    "import pandas as pd \n",
    "\n",
    "df=pd.read_csv('/kaggle/input/exemplo-regresso-apostas/under.csv')\n",
    "df"
   ]
  },
  {
   "cell_type": "markdown",
   "metadata": {},
   "source": [
    "Como é natural, por se tratar de apostas, na média as casas de aposta levam vantagem sobre os apostadores. Se apostarmos sem qualquer critério, na média, teremos prejuízo mensurado pela média do PL. "
   ]
  },
  {
   "cell_type": "code",
   "execution_count": 2,
   "metadata": {},
   "outputs": [
    {
     "name": "stdout",
     "output_type": "stream",
     "text": [
      "PL médio: -2.28 %\n"
     ]
    }
   ],
   "source": [
    "print('PL médio:',round(df.PL.mean()*100,2), '%')"
   ]
  },
  {
   "cell_type": "markdown",
   "metadata": {},
   "source": [
    "Logo, se apostarmos sem qualquer critério nosso prejuízo será de 2.28% por aposta, mas através da regressão podemo selecionar apenas as apostas que nos fornecerão PL médio positivo."
   ]
  },
  {
   "cell_type": "markdown",
   "metadata": {
    "_cell_guid": "79c7e3d0-c299-4dcb-8224-4455121ee9b0",
    "_uuid": "d629ff2d2480ee46fbb7e2d37f6b5fab8052498a",
    "collapsed": true
   },
   "source": [
    "É desejável, mas não indispensável, que os inputs estejam transformados em escala de ** 0 a 1**. Testei com e sem, e a transformação a melhorou eficácia e lucratividade do modelo. Portanto, abaixo vamos selecionar as colunas dos inputs e transforma-las."
   ]
  },
  {
   "cell_type": "code",
   "execution_count": 3,
   "metadata": {},
   "outputs": [
    {
     "data": {
      "text/html": [
       "<div>\n",
       "<style scoped>\n",
       "    .dataframe tbody tr th:only-of-type {\n",
       "        vertical-align: middle;\n",
       "    }\n",
       "\n",
       "    .dataframe tbody tr th {\n",
       "        vertical-align: top;\n",
       "    }\n",
       "\n",
       "    .dataframe thead th {\n",
       "        text-align: right;\n",
       "    }\n",
       "</style>\n",
       "<table border=\"1\" class=\"dataframe\">\n",
       "  <thead>\n",
       "    <tr style=\"text-align: right;\">\n",
       "      <th></th>\n",
       "      <th>A</th>\n",
       "      <th>B</th>\n",
       "      <th>C</th>\n",
       "      <th>D</th>\n",
       "      <th>E</th>\n",
       "      <th>F</th>\n",
       "      <th>G</th>\n",
       "      <th>H</th>\n",
       "      <th>I</th>\n",
       "      <th>J</th>\n",
       "      <th>K</th>\n",
       "      <th>L</th>\n",
       "      <th>M</th>\n",
       "      <th>N</th>\n",
       "      <th>O</th>\n",
       "      <th>P</th>\n",
       "      <th>PL</th>\n",
       "    </tr>\n",
       "  </thead>\n",
       "  <tbody>\n",
       "    <tr>\n",
       "      <th>0</th>\n",
       "      <td>0.000</td>\n",
       "      <td>0.071429</td>\n",
       "      <td>0.179402</td>\n",
       "      <td>0.205128</td>\n",
       "      <td>0.000000</td>\n",
       "      <td>0.117647</td>\n",
       "      <td>0.037313</td>\n",
       "      <td>0.060606</td>\n",
       "      <td>0.0</td>\n",
       "      <td>0.272727</td>\n",
       "      <td>0.164491</td>\n",
       "      <td>0.216710</td>\n",
       "      <td>0.0</td>\n",
       "      <td>0.0</td>\n",
       "      <td>0.0</td>\n",
       "      <td>1.0</td>\n",
       "      <td>-0.50</td>\n",
       "    </tr>\n",
       "    <tr>\n",
       "      <th>1</th>\n",
       "      <td>0.250</td>\n",
       "      <td>0.142857</td>\n",
       "      <td>0.089701</td>\n",
       "      <td>0.141026</td>\n",
       "      <td>0.000000</td>\n",
       "      <td>0.000000</td>\n",
       "      <td>0.044776</td>\n",
       "      <td>0.075758</td>\n",
       "      <td>0.0</td>\n",
       "      <td>0.227273</td>\n",
       "      <td>0.190601</td>\n",
       "      <td>0.190601</td>\n",
       "      <td>0.0</td>\n",
       "      <td>0.0</td>\n",
       "      <td>1.0</td>\n",
       "      <td>0.0</td>\n",
       "      <td>-1.00</td>\n",
       "    </tr>\n",
       "    <tr>\n",
       "      <th>2</th>\n",
       "      <td>0.375</td>\n",
       "      <td>0.321429</td>\n",
       "      <td>0.169435</td>\n",
       "      <td>0.076923</td>\n",
       "      <td>0.142857</td>\n",
       "      <td>0.294118</td>\n",
       "      <td>0.014925</td>\n",
       "      <td>0.000000</td>\n",
       "      <td>0.0</td>\n",
       "      <td>0.181818</td>\n",
       "      <td>0.210183</td>\n",
       "      <td>0.171018</td>\n",
       "      <td>0.0</td>\n",
       "      <td>1.0</td>\n",
       "      <td>0.0</td>\n",
       "      <td>0.0</td>\n",
       "      <td>-1.00</td>\n",
       "    </tr>\n",
       "    <tr>\n",
       "      <th>3</th>\n",
       "      <td>0.125</td>\n",
       "      <td>0.285714</td>\n",
       "      <td>0.109635</td>\n",
       "      <td>0.115385</td>\n",
       "      <td>0.142857</td>\n",
       "      <td>0.470588</td>\n",
       "      <td>0.000000</td>\n",
       "      <td>0.045455</td>\n",
       "      <td>0.0</td>\n",
       "      <td>0.227273</td>\n",
       "      <td>0.151436</td>\n",
       "      <td>0.229765</td>\n",
       "      <td>0.0</td>\n",
       "      <td>0.0</td>\n",
       "      <td>1.0</td>\n",
       "      <td>0.0</td>\n",
       "      <td>-1.00</td>\n",
       "    </tr>\n",
       "    <tr>\n",
       "      <th>4</th>\n",
       "      <td>0.000</td>\n",
       "      <td>0.071429</td>\n",
       "      <td>0.215947</td>\n",
       "      <td>0.076923</td>\n",
       "      <td>0.000000</td>\n",
       "      <td>0.117647</td>\n",
       "      <td>0.074627</td>\n",
       "      <td>0.060606</td>\n",
       "      <td>0.0</td>\n",
       "      <td>0.181818</td>\n",
       "      <td>0.203655</td>\n",
       "      <td>0.177546</td>\n",
       "      <td>0.0</td>\n",
       "      <td>1.0</td>\n",
       "      <td>0.0</td>\n",
       "      <td>0.0</td>\n",
       "      <td>-1.00</td>\n",
       "    </tr>\n",
       "    <tr>\n",
       "      <th>...</th>\n",
       "      <td>...</td>\n",
       "      <td>...</td>\n",
       "      <td>...</td>\n",
       "      <td>...</td>\n",
       "      <td>...</td>\n",
       "      <td>...</td>\n",
       "      <td>...</td>\n",
       "      <td>...</td>\n",
       "      <td>...</td>\n",
       "      <td>...</td>\n",
       "      <td>...</td>\n",
       "      <td>...</td>\n",
       "      <td>...</td>\n",
       "      <td>...</td>\n",
       "      <td>...</td>\n",
       "      <td>...</td>\n",
       "      <td>...</td>\n",
       "    </tr>\n",
       "    <tr>\n",
       "      <th>355368</th>\n",
       "      <td>0.000</td>\n",
       "      <td>0.250000</td>\n",
       "      <td>0.262458</td>\n",
       "      <td>0.102564</td>\n",
       "      <td>0.000000</td>\n",
       "      <td>0.176471</td>\n",
       "      <td>0.074627</td>\n",
       "      <td>0.060606</td>\n",
       "      <td>0.0</td>\n",
       "      <td>0.272727</td>\n",
       "      <td>0.157963</td>\n",
       "      <td>0.223238</td>\n",
       "      <td>0.0</td>\n",
       "      <td>0.0</td>\n",
       "      <td>0.0</td>\n",
       "      <td>1.0</td>\n",
       "      <td>-0.50</td>\n",
       "    </tr>\n",
       "    <tr>\n",
       "      <th>355369</th>\n",
       "      <td>0.000</td>\n",
       "      <td>0.107143</td>\n",
       "      <td>0.196013</td>\n",
       "      <td>0.141026</td>\n",
       "      <td>0.000000</td>\n",
       "      <td>0.058824</td>\n",
       "      <td>0.044776</td>\n",
       "      <td>0.045455</td>\n",
       "      <td>0.0</td>\n",
       "      <td>0.318182</td>\n",
       "      <td>0.190601</td>\n",
       "      <td>0.190601</td>\n",
       "      <td>1.0</td>\n",
       "      <td>0.0</td>\n",
       "      <td>0.0</td>\n",
       "      <td>0.0</td>\n",
       "      <td>-1.00</td>\n",
       "    </tr>\n",
       "    <tr>\n",
       "      <th>355370</th>\n",
       "      <td>0.250</td>\n",
       "      <td>0.142857</td>\n",
       "      <td>0.166113</td>\n",
       "      <td>0.102564</td>\n",
       "      <td>0.285714</td>\n",
       "      <td>0.000000</td>\n",
       "      <td>0.082090</td>\n",
       "      <td>0.060606</td>\n",
       "      <td>0.0</td>\n",
       "      <td>0.227273</td>\n",
       "      <td>0.203655</td>\n",
       "      <td>0.177546</td>\n",
       "      <td>0.0</td>\n",
       "      <td>0.0</td>\n",
       "      <td>1.0</td>\n",
       "      <td>0.0</td>\n",
       "      <td>0.95</td>\n",
       "    </tr>\n",
       "    <tr>\n",
       "      <th>355371</th>\n",
       "      <td>0.250</td>\n",
       "      <td>0.107143</td>\n",
       "      <td>0.126246</td>\n",
       "      <td>0.205128</td>\n",
       "      <td>0.000000</td>\n",
       "      <td>0.176471</td>\n",
       "      <td>0.067164</td>\n",
       "      <td>0.000000</td>\n",
       "      <td>0.0</td>\n",
       "      <td>0.227273</td>\n",
       "      <td>0.190601</td>\n",
       "      <td>0.203655</td>\n",
       "      <td>0.0</td>\n",
       "      <td>0.0</td>\n",
       "      <td>1.0</td>\n",
       "      <td>0.0</td>\n",
       "      <td>0.90</td>\n",
       "    </tr>\n",
       "    <tr>\n",
       "      <th>355372</th>\n",
       "      <td>0.000</td>\n",
       "      <td>0.071429</td>\n",
       "      <td>0.322259</td>\n",
       "      <td>0.141026</td>\n",
       "      <td>0.000000</td>\n",
       "      <td>0.000000</td>\n",
       "      <td>0.149254</td>\n",
       "      <td>0.075758</td>\n",
       "      <td>0.0</td>\n",
       "      <td>0.227273</td>\n",
       "      <td>0.171018</td>\n",
       "      <td>0.210183</td>\n",
       "      <td>0.0</td>\n",
       "      <td>0.0</td>\n",
       "      <td>1.0</td>\n",
       "      <td>0.0</td>\n",
       "      <td>-1.00</td>\n",
       "    </tr>\n",
       "  </tbody>\n",
       "</table>\n",
       "<p>355373 rows × 17 columns</p>\n",
       "</div>"
      ],
      "text/plain": [
       "            A         B         C         D         E         F         G  \\\n",
       "0       0.000  0.071429  0.179402  0.205128  0.000000  0.117647  0.037313   \n",
       "1       0.250  0.142857  0.089701  0.141026  0.000000  0.000000  0.044776   \n",
       "2       0.375  0.321429  0.169435  0.076923  0.142857  0.294118  0.014925   \n",
       "3       0.125  0.285714  0.109635  0.115385  0.142857  0.470588  0.000000   \n",
       "4       0.000  0.071429  0.215947  0.076923  0.000000  0.117647  0.074627   \n",
       "...       ...       ...       ...       ...       ...       ...       ...   \n",
       "355368  0.000  0.250000  0.262458  0.102564  0.000000  0.176471  0.074627   \n",
       "355369  0.000  0.107143  0.196013  0.141026  0.000000  0.058824  0.044776   \n",
       "355370  0.250  0.142857  0.166113  0.102564  0.285714  0.000000  0.082090   \n",
       "355371  0.250  0.107143  0.126246  0.205128  0.000000  0.176471  0.067164   \n",
       "355372  0.000  0.071429  0.322259  0.141026  0.000000  0.000000  0.149254   \n",
       "\n",
       "               H    I         J         K         L    M    N    O    P    PL  \n",
       "0       0.060606  0.0  0.272727  0.164491  0.216710  0.0  0.0  0.0  1.0 -0.50  \n",
       "1       0.075758  0.0  0.227273  0.190601  0.190601  0.0  0.0  1.0  0.0 -1.00  \n",
       "2       0.000000  0.0  0.181818  0.210183  0.171018  0.0  1.0  0.0  0.0 -1.00  \n",
       "3       0.045455  0.0  0.227273  0.151436  0.229765  0.0  0.0  1.0  0.0 -1.00  \n",
       "4       0.060606  0.0  0.181818  0.203655  0.177546  0.0  1.0  0.0  0.0 -1.00  \n",
       "...          ...  ...       ...       ...       ...  ...  ...  ...  ...   ...  \n",
       "355368  0.060606  0.0  0.272727  0.157963  0.223238  0.0  0.0  0.0  1.0 -0.50  \n",
       "355369  0.045455  0.0  0.318182  0.190601  0.190601  1.0  0.0  0.0  0.0 -1.00  \n",
       "355370  0.060606  0.0  0.227273  0.203655  0.177546  0.0  0.0  1.0  0.0  0.95  \n",
       "355371  0.000000  0.0  0.227273  0.190601  0.203655  0.0  0.0  1.0  0.0  0.90  \n",
       "355372  0.075758  0.0  0.227273  0.171018  0.210183  0.0  0.0  1.0  0.0 -1.00  \n",
       "\n",
       "[355373 rows x 17 columns]"
      ]
     },
     "execution_count": 3,
     "metadata": {},
     "output_type": "execute_result"
    }
   ],
   "source": [
    "from sklearn.preprocessing import MinMaxScaler\n",
    "\n",
    "#Essa construção faz sentido se você for reprimir alguma coluna de input\n",
    "colunas='A,B,C,D,E,F,G,H,I,J,K,L,M,N,O,P'.split(',')\n",
    "df=df[colunas+['PL']] \n",
    "\n",
    "#Defina defini a escala a partir dos dados e faz a trasnformação dos inputs, mas não do PL\n",
    "escala=MinMaxScaler().fit(df[colunas])\n",
    "df[colunas]=escala.transform(df[colunas])\n",
    "\n",
    "df"
   ]
  },
  {
   "cell_type": "markdown",
   "metadata": {},
   "source": [
    "A seguir a divisão do nosso dataframe entre 80% treinamento e 20% teste"
   ]
  },
  {
   "cell_type": "code",
   "execution_count": 4,
   "metadata": {},
   "outputs": [
    {
     "name": "stdout",
     "output_type": "stream",
     "text": [
      "df_train: 284298 rows\n",
      "df_test : 71074 rows\n"
     ]
    }
   ],
   "source": [
    "df_train=df[:int(len(df)*0.8)]\n",
    "df_test=df[-int(len(df)*0.2):]\n",
    "\n",
    "print('df_train:', len(df_train), 'rows')\n",
    "print('df_test :', len(df_test), 'rows')"
   ]
  },
  {
   "cell_type": "markdown",
   "metadata": {},
   "source": [
    "Importamos a biblioteca do Pytroch e criamos dois [Tensors](https://pytorch.org/docs/stable/tensors.html), um para o PL e outro para os INPUTs do dataframe de treinamento."
   ]
  },
  {
   "cell_type": "code",
   "execution_count": 5,
   "metadata": {},
   "outputs": [
    {
     "name": "stdout",
     "output_type": "stream",
     "text": [
      "INPUTS:  tensor([[0.0000, 0.0714, 0.1794,  ..., 0.0000, 0.0000, 1.0000],\n",
      "        [0.2500, 0.1429, 0.0897,  ..., 0.0000, 1.0000, 0.0000],\n",
      "        [0.3750, 0.3214, 0.1694,  ..., 1.0000, 0.0000, 0.0000],\n",
      "        ...,\n",
      "        [0.1250, 0.2857, 0.1229,  ..., 0.0000, 1.0000, 0.0000],\n",
      "        [0.0000, 0.0357, 0.2625,  ..., 1.0000, 0.0000, 0.0000],\n",
      "        [0.2500, 0.2500, 0.1296,  ..., 1.0000, 0.0000, 0.0000]])\n",
      "PL:  tensor([[-0.5000],\n",
      "        [-1.0000],\n",
      "        [-1.0000],\n",
      "        ...,\n",
      "        [-1.0000],\n",
      "        [ 0.4375],\n",
      "        [-1.0000]])\n"
     ]
    }
   ],
   "source": [
    "import torch\n",
    "\n",
    "INPUTS=torch.from_numpy(df_train[colunas].values).float()\n",
    "PL=torch.from_numpy(df_train[['PL']].values).float()\n",
    "\n",
    "print('INPUTS: ',INPUTS)\n",
    "print('PL: ',PL)"
   ]
  },
  {
   "cell_type": "markdown",
   "metadata": {},
   "source": [
    "A seguir, a definição do modelo linear com tantas entradas quantos campos de inputs e 1 saída."
   ]
  },
  {
   "cell_type": "code",
   "execution_count": 6,
   "metadata": {},
   "outputs": [
    {
     "data": {
      "text/plain": [
       "Linear(in_features=16, out_features=1, bias=True)"
      ]
     },
     "execution_count": 6,
     "metadata": {},
     "output_type": "execute_result"
    }
   ],
   "source": [
    "MODELO=torch.nn.Linear(INPUTS.shape[1], 1)\n",
    "\n",
    "MODELO"
   ]
  },
  {
   "cell_type": "markdown",
   "metadata": {},
   "source": [
    "Vamos treinar nosso MODELO para prever o PL médio da aposta baseado nos inputs. \n",
    "\n",
    "Para tanto, será utilizado, como função custo, a [MSELoss](https://pytorch.org/docs/stable/nn.html#mseloss) que a fim de reduzir o quadrado da diferença entre PL_pred (previsto) e o PL (real). (PL_pred-PL)<sup>2</sup>\n",
    "\n",
    "O algoritmo de otimização será o [Adam](https://pytorch.org/docs/stable/optim.html#algorithms) (que se mostrou superior a outros testados), com taxa de aprendizado 0.1 ( a faixa mais se mostrou eficiente foi em 0.01 e 1.0 ) "
   ]
  },
  {
   "cell_type": "code",
   "execution_count": 7,
   "metadata": {},
   "outputs": [
    {
     "name": "stdout",
     "output_type": "stream",
     "text": [
      "Função Custo: MSELoss()\n",
      "Otimizador: Adam (\n",
      "Parameter Group 0\n",
      "    amsgrad: False\n",
      "    betas: (0.9, 0.999)\n",
      "    eps: 1e-08\n",
      "    lr: 0.1\n",
      "    weight_decay: 0\n",
      ")\n"
     ]
    }
   ],
   "source": [
    "loss_func = torch.nn.MSELoss()\n",
    "otimizador = torch.optim.Adam(MODELO.parameters(), lr = 0.1) \n",
    "print('Função Custo:',loss_func)\n",
    "print('Otimizador:',otimizador)"
   ]
  },
  {
   "cell_type": "markdown",
   "metadata": {},
   "source": [
    "Vamos para otimização propriamente dita. Criamos um loop for e para cada passada, mais reduzimos nossa função custo e por conseguinte, mais o PL_pred estará próximo do PL real.\n",
    "\n",
    "O número de passadas (epochs) vai depender da quantidade de inputs e taxa de aprendizado, acompanhamos decaimento da função custo para escolher quando parar."
   ]
  },
  {
   "cell_type": "code",
   "execution_count": 8,
   "metadata": {},
   "outputs": [],
   "source": [
    "loss_list=[]\n",
    "for _ in range(100):\n",
    "    PL_pred=MODELO( INPUTS )        #calcula  PL_pred usando o modelo \n",
    "    loss=loss_func(PL_pred, PL)     #calcula o erro médio da estimativa do PL_pred \n",
    "    \n",
    "    otimizador.zero_grad() #limpa gradientes antigos\n",
    "    loss.backward()       #calcula a derivada do loss, através do retropropação\n",
    "    otimizador.step()     #faz com que o otimizador dê um passo com base nos gradientes dos parâmetros. \n",
    "    \n",
    "    loss_list+=[loss.item()] #acumula o valor para análise"
   ]
  },
  {
   "cell_type": "markdown",
   "metadata": {},
   "source": [
    "Plotando evolução da função custo vemos que com 100 passadas já não apresenta substancial melhoria."
   ]
  },
  {
   "cell_type": "code",
   "execution_count": 9,
   "metadata": {},
   "outputs": [
    {
     "data": {
      "image/png": "[encoded data removed]",
      "text/plain": [
       "<Figure size 432x288 with 1 Axes>"
      ]
     },
     "metadata": {
      "needs_background": "light"
     },
     "output_type": "display_data"
    }
   ],
   "source": [
    "import matplotlib.pyplot as plt\n",
    "\n",
    "plt.plot(loss_list)\n",
    "plt.show()"
   ]
  },
  {
   "cell_type": "markdown",
   "metadata": {},
   "source": [
    "Caso nosso modelo linear esteja bem treinado e com capactidade preditiva, a média do PL das apostas cujo o PL_pred é positivo também será positivo. Ou seja,caso apostarmos apenas em apostas cujo PL_pred>0 teremo lucro a longo prazo.\n",
    "\n",
    "Vamos verificar lucratividade da estratégia no dataframe de teste."
   ]
  },
  {
   "cell_type": "code",
   "execution_count": 10,
   "metadata": {},
   "outputs": [
    {
     "name": "stdout",
     "output_type": "stream",
     "text": [
      "PL_medio_test: 3.07 %\n"
     ]
    }
   ],
   "source": [
    "INPUTS_test=torch.from_numpy(df_test[colunas].values).float()  #Transforma em tensor o inputs de testes\n",
    "PL_pred=MODELO(INPUTS_test).detach().numpy()  #Calcula os PL previstos para cada input de testes\n",
    "\n",
    "#Calcula a média do PL reais das apostas cujo o PL previsto é positivo, ou seja lucrativas.\n",
    "PL_medio_test=np.mean([pl for pl_pred,pl in zip(PL_pred, df_test.PL.values ) if pl_pred[0]>0])\n",
    "\n",
    "print('PL_medio_test:',round(PL_medio_test*100,2),'%')"
   ]
  },
  {
   "cell_type": "markdown",
   "metadata": {},
   "source": [
    "Se tivessemos seguido o critério de só apostar quando o PL_pred>0 teríamos o lucro acima contra o prejuízo de -2.28% por aposta sem qualquer critério. 😃\n",
    "\n",
    "É de se esperar que, quanto maior for o critério de corte para apostar maior será a lucratividade média também. \n",
    "\n",
    "Abaixo está plotado no eixo X os cortes e o no Y o PL médio."
   ]
  },
  {
   "cell_type": "code",
   "execution_count": 11,
   "metadata": {},
   "outputs": [
    {
     "data": {
      "image/png": "[encoded data removed]",
      "text/plain": [
       "<Figure size 432x288 with 1 Axes>"
      ]
     },
     "metadata": {
      "needs_background": "light"
     },
     "output_type": "display_data"
    }
   ],
   "source": [
    "cortes=[i*0.01 for i in range(10)]\n",
    "pl_medios=[np.mean([pl for pl_pred,pl in zip(PL_pred, df_test.PL.values ) if pl_pred[0]>i*0.01]) for i in range(10) ]\n",
    "\n",
    "plt.plot(cortes, pl_medios)\n",
    "plt.show()"
   ]
  },
  {
   "cell_type": "markdown",
   "metadata": {},
   "source": [
    "## Maximização do Crescimento da Banca\n",
    "\n",
    "Acima definimos um critério de quando apostar, mas quanto apostar em cada seleção ? Podemos investir um valor fixo cada aposta, mas nossa banca crescerá linearmente. Se investirmos um percentual da banca em cada aposta nossa banca crescerá de forma exponencial.\n",
    "\n",
    "Vamos através da regressão definir o percentual da banca ótimo a fim de maximizar o crescimento.\n",
    "\n",
    "\n",
    "Contiuamos com o mesmo modelo linear, mas vamos treiná-lo usando uma função de custo personalizada. "
   ]
  },
  {
   "cell_type": "code",
   "execution_count": 12,
   "metadata": {},
   "outputs": [
    {
     "data": {
      "text/plain": [
       "<function __main__.loss_somalog(P_pred, PL)>"
      ]
     },
     "execution_count": 12,
     "metadata": {},
     "output_type": "execute_result"
    }
   ],
   "source": [
    "#Otimiza para maximizar o crescimento da banca    \n",
    "def loss_somalog(P_pred,PL):\n",
    "    return -torch.log(1+PL*P_pred.relu()).sum()\n",
    "\n",
    "loss_somalog"
   ]
  },
  {
   "cell_type": "markdown",
   "metadata": {},
   "source": [
    "**P_pred** é percentual ótimo da banca previsto a fim de maximar o crecimento da banca\n",
    "\n",
    "Se **P_pred<0** então **P_pred.relu()** será 0, ou seja, nada será apostado\n",
    "\n",
    "PL é pl ocorrido da aposta\n",
    "\n",
    "O sinal negativo se faz necessário, pois, por padrão,o otimizador procura minimizar a função custo ao passo que, necessitamos maximizar o soma do log do crescimento da banca.\n",
    "\n",
    "\n",
    "\n",
    "O otimizador será igual o anterior, mas com taxa de aprendizagem bem menor "
   ]
  },
  {
   "cell_type": "code",
   "execution_count": 13,
   "metadata": {},
   "outputs": [
    {
     "data": {
      "text/plain": [
       "Adam (\n",
       "Parameter Group 0\n",
       "    amsgrad: False\n",
       "    betas: (0.9, 0.999)\n",
       "    eps: 1e-08\n",
       "    lr: 0.001\n",
       "    weight_decay: 0\n",
       ")"
      ]
     },
     "execution_count": 13,
     "metadata": {},
     "output_type": "execute_result"
    }
   ],
   "source": [
    "#Mesmo otimizador, mas com taxa de aprendizagem menor\n",
    "otimizador = torch.optim.Adam(MODELO.parameters(), lr = 0.001) \n",
    "\n",
    "otimizador"
   ]
  },
  {
   "cell_type": "markdown",
   "metadata": {},
   "source": [
    "Vamos para otimização, como a taxa de aprendizado é menor será necessário mais passadas."
   ]
  },
  {
   "cell_type": "code",
   "execution_count": 14,
   "metadata": {},
   "outputs": [
    {
     "data": {
      "image/png": "[encoded data removed]",
      "text/plain": [
       "<Figure size 432x288 with 1 Axes>"
      ]
     },
     "metadata": {
      "needs_background": "light"
     },
     "output_type": "display_data"
    }
   ],
   "source": [
    "loss_list=[]\n",
    "for _ in range(2000):\n",
    "    P_pred=MODELO( INPUTS )         #P_pred (percentual ótimo da banca ) usando o modelo \n",
    "    loss=loss_somalog(P_pred, PL)     #loss (quanto menor maior o lucro) dado P_pred \n",
    "    \n",
    "    otimizador.zero_grad() #limpa gradientes antigos\n",
    "    loss.backward()       #calcula a derivada do loss, através do retropropação\n",
    "    otimizador.step()     #faz com que o otimizador dê um passo com base nos gradientes dos parâmetros. \n",
    "    \n",
    "    loss_list+=[loss.item()] #acumula o valor para análise\n",
    "    \n",
    "\n",
    "#Plota o gráfico da evolução do loss\n",
    "plt.plot(loss_list)\n",
    "plt.show()"
   ]
  },
  {
   "cell_type": "markdown",
   "metadata": {},
   "source": [
    "O valor  da função custo próximo a -150, como a cima, significa se fossem realizadas todas apostas com o percentual ótimo da banca calculado pelo MODELO, no conjunto de treinamento, teríamos na teoria, nossa banca multiplicada por exp(150) \n",
    "\n",
    "exp(150)=139370958066638000000000000000000000000000000000000000000000000000 😱\n",
    "\n",
    "Vamos agora testar a lucratividade dos dados de treinamento, que o que importa"
   ]
  },
  {
   "cell_type": "code",
   "execution_count": 15,
   "metadata": {},
   "outputs": [
    {
     "name": "stdout",
     "output_type": "stream",
     "text": [
      "Log do Crescimento da Banca do Cojunto de Teste: [32.835896]\n"
     ]
    }
   ],
   "source": [
    "P_pred=MODELO(INPUTS_test).detach().numpy()\n",
    "\n",
    "somalog=sum(np.log(1+pl*p_pred ) for p_pred,pl in zip(P_pred, df_test.PL.values) if p_pred>0)\n",
    "\n",
    "print('Log do Crescimento da Banca do Cojunto de Teste:', somalog )"
   ]
  },
  {
   "cell_type": "markdown",
   "metadata": {},
   "source": [
    "Na teoria também, se tivessemos realizadas todas as apostas com o percentual ótimo definido pelo MODELO com nossos dados de teste, teríamos nossa banca multiplicada por exp(32), quase 79 trilhões (coisa pouca né).\n",
    "\n",
    "O valor absoluto da somalog não importa tanto, mas sim, a evolução desse número dada a melhoria no modelo.\n",
    "\n",
    "\n",
    "Por fim, vamos ver a equação do modelo linear, que será como usaremos na prática."
   ]
  },
  {
   "cell_type": "code",
   "execution_count": 16,
   "metadata": {},
   "outputs": [
    {
     "name": "stdout",
     "output_type": "stream",
     "text": [
      "PERCENT_BANCA=\n",
      "-0.00958 * A +\n",
      "-0.00971 * B +\n",
      "-0.00061 * C +\n",
      "-0.00878 * D +\n",
      "-0.06208 * E +\n",
      "-0.00266 * F +\n",
      "-0.0011 * G +\n",
      "-0.00285 * H +\n",
      "0.01239 * I +\n",
      "0.17904 * J +\n",
      "0.03263 * K +\n",
      "-0.13409 * L +\n",
      "0.00795 * M +\n",
      "0.01584 * N +\n",
      "-0.00075 * O +\n",
      "-0.01164 * P +\n",
      "0.1196\n"
     ]
    }
   ],
   "source": [
    "parms=[parm.data.numpy() for parm in MODELO.parameters()][0][0]\n",
    "inter=[parm.data.numpy() for parm in MODELO.parameters()][1][0]\n",
    "\n",
    "print('PERCENT_BANCA=')\n",
    "for p,c in zip(parms/(escala.data_max_-escala.data_min_), colunas):\n",
    "    print(round(p,5),'*',c,'+')\n",
    "    \n",
    "print(round(sum(-parms*escala.data_min_/(escala.data_max_-escala.data_min_))+inter,5))"
   ]
  },
  {
   "cell_type": "markdown",
   "metadata": {},
   "source": [
    "Essa equação já está com a transformação inversa de escala, pronta para ser usada.\n",
    "\n",
    "Conhecidos os parametros de \"A\" a \"P\", teremos o percentual ótimo da banca para apostar."
   ]
  }
 ],
 "metadata": {
  "kernelspec": {
   "display_name": "Python 3",
   "language": "python",
   "name": "python3"
  },
  "language_info": {
   "codemirror_mode": {
    "name": "ipython",
    "version": 3
   },
   "file_extension": ".py",
   "mimetype": "text/x-python",
   "name": "python",
   "nbconvert_exporter": "python",
   "pygments_lexer": "ipython3",
   "version": "3.6.6"
  }
 },
 "nbformat": 4,
 "nbformat_minor": 4
}
