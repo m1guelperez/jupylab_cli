{
 "cells": [
  {
   "cell_type": "code",
   "execution_count": 1,
   "metadata": {
    "_cell_guid": "71fa84e4-b2ca-402a-949f-890e477ec8cd",
    "_uuid": "61ee2ecb-aebc-4dcc-843d-f607373235fb",
    "execution": {
     "iopub.execute_input": "2020-08-25T16:10:21.714847Z",
     "iopub.status.busy": "2020-08-25T16:10:21.713921Z",
     "iopub.status.idle": "2020-08-25T16:10:21.723887Z",
     "shell.execute_reply": "2020-08-25T16:10:21.723088Z"
    },
    "papermill": {
     "duration": 0.0519,
     "end_time": "2020-08-25T16:10:21.724038",
     "exception": false,
     "start_time": "2020-08-25T16:10:21.672138",
     "status": "completed"
    },
    "tags": []
   },
   "outputs": [
    {
     "name": "stdout",
     "output_type": "stream",
     "text": [
      "/kaggle/input/qvi-data/QVI_data.csv\n"
     ]
    }
   ],
   "source": [
    "# This Python 3 environment comes with many helpful analytics libraries installed\n",
    "# It is defined by the kaggle/python Docker image: https://github.com/kaggle/docker-python\n",
    "# For example, here's several helpful packages to load\n",
    "\n",
    "import numpy as np # linear algebra\n",
    "import pandas as pd # data processing, CSV file I/O (e.g. pd.read_csv)\n",
    "\n",
    "# Input data files are available in the read-only \"../input/\" directory\n",
    "# For example, running this (by clicking run or pressing Shift+Enter) will list all files under the input directory\n",
    "\n",
    "import os\n",
    "for dirname, _, filenames in os.walk('/kaggle/input'):\n",
    "    for filename in filenames:\n",
    "        print(os.path.join(dirname, filename))\n",
    "\n",
    "# You can write up to 5GB to the current directory (/kaggle/working/) that gets preserved as output when you create a version using \"Save & Run All\" \n",
    "# You can also write temporary files to /kaggle/temp/, but they won't be saved outside of the current session"
   ]
  },
  {
   "cell_type": "markdown",
   "execution_count": null,
   "metadata": {
    "_cell_guid": "84f56747-d2e5-42f3-b719-4c3aed2ac7c3",
    "_uuid": "e0235cf0-9c65-4193-a903-5eeb18e40fae",
    "papermill": {
     "duration": 0.030503,
     "end_time": "2020-08-25T16:10:21.786763",
     "exception": false,
     "start_time": "2020-08-25T16:10:21.756260",
     "status": "completed"
    },
    "tags": []
   },
   "source": [
    "# Retail Strategy and Analytics"
   ]
  },
  {
   "cell_type": "markdown",
   "execution_count": null,
   "metadata": {
    "_cell_guid": "f2082b83-16c6-4c0e-8308-4f7aa76cde39",
    "_uuid": "eed2e0cb-a9a5-4664-9251-b285d5cb267b",
    "papermill": {
     "duration": 0.030561,
     "end_time": "2020-08-25T16:10:21.847946",
     "exception": false,
     "start_time": "2020-08-25T16:10:21.817385",
     "status": "completed"
    },
    "tags": []
   },
   "source": [
    "The client has selected store numbers 77, 86 and 88 as trial stores and want\n",
    "control stores to be established stores that are operational for the entire\n",
    "observation period.\n",
    "We would want to match trial stores to control stores that are similar to the trial\n",
    "store prior to the trial period of Feb - Apr 2019 in terms of :\n",
    "- Monthly overall sales revenue\n",
    "- Monthly number of customers\n",
    "- Monthly number of transactions per customer\n",
    "\n",
    "Let's first create the metrics of interest and filter the stores that are present\n",
    "throughout the pre-trial period."
   ]
  },
  {
   "cell_type": "code",
   "execution_count": 2,
   "metadata": {
    "_cell_guid": "9d1b4299-4420-4f24-91f8-70c8e86037b7",
    "_uuid": "f080867a-48ce-48c5-bea3-470c8517f273",
    "execution": {
     "iopub.execute_input": "2020-08-25T16:10:21.917061Z",
     "iopub.status.busy": "2020-08-25T16:10:21.916290Z",
     "iopub.status.idle": "2020-08-25T16:10:22.565170Z",
     "shell.execute_reply": "2020-08-25T16:10:22.565745Z"
    },
    "papermill": {
     "duration": 0.687637,
     "end_time": "2020-08-25T16:10:22.565924",
     "exception": false,
     "start_time": "2020-08-25T16:10:21.878287",
     "status": "completed"
    },
    "tags": []
   },
   "outputs": [
    {
     "data": {
      "text/html": [
       "<div>\n",
       "<style scoped>\n",
       "    .dataframe tbody tr th:only-of-type {\n",
       "        vertical-align: middle;\n",
       "    }\n",
       "\n",
       "    .dataframe tbody tr th {\n",
       "        vertical-align: top;\n",
       "    }\n",
       "\n",
       "    .dataframe thead th {\n",
       "        text-align: right;\n",
       "    }\n",
       "</style>\n",
       "<table border=\"1\" class=\"dataframe\">\n",
       "  <thead>\n",
       "    <tr style=\"text-align: right;\">\n",
       "      <th></th>\n",
       "      <th>LYLTY_CARD_NBR</th>\n",
       "      <th>DATE</th>\n",
       "      <th>STORE_NBR</th>\n",
       "      <th>TXN_ID</th>\n",
       "      <th>PROD_NBR</th>\n",
       "      <th>PROD_NAME</th>\n",
       "      <th>PROD_QTY</th>\n",
       "      <th>TOT_SALES</th>\n",
       "      <th>PACK_SIZE</th>\n",
       "      <th>BRAND</th>\n",
       "      <th>LIFESTAGE</th>\n",
       "      <th>PREMIUM_CUSTOMER</th>\n",
       "    </tr>\n",
       "  </thead>\n",
       "  <tbody>\n",
       "    <tr>\n",
       "      <th>0</th>\n",
       "      <td>1000</td>\n",
       "      <td>2018-10-17</td>\n",
       "      <td>1</td>\n",
       "      <td>1</td>\n",
       "      <td>5</td>\n",
       "      <td>Natural Chip        Compny SeaSalt175g</td>\n",
       "      <td>2</td>\n",
       "      <td>6.0</td>\n",
       "      <td>175</td>\n",
       "      <td>NATURAL</td>\n",
       "      <td>YOUNG SINGLES/COUPLES</td>\n",
       "      <td>Premium</td>\n",
       "    </tr>\n",
       "    <tr>\n",
       "      <th>1</th>\n",
       "      <td>1002</td>\n",
       "      <td>2018-09-16</td>\n",
       "      <td>1</td>\n",
       "      <td>2</td>\n",
       "      <td>58</td>\n",
       "      <td>Red Rock Deli Chikn&amp;Garlic Aioli 150g</td>\n",
       "      <td>1</td>\n",
       "      <td>2.7</td>\n",
       "      <td>150</td>\n",
       "      <td>RRD</td>\n",
       "      <td>YOUNG SINGLES/COUPLES</td>\n",
       "      <td>Mainstream</td>\n",
       "    </tr>\n",
       "    <tr>\n",
       "      <th>2</th>\n",
       "      <td>1003</td>\n",
       "      <td>2019-03-07</td>\n",
       "      <td>1</td>\n",
       "      <td>3</td>\n",
       "      <td>52</td>\n",
       "      <td>Grain Waves Sour    Cream&amp;Chives 210G</td>\n",
       "      <td>1</td>\n",
       "      <td>3.6</td>\n",
       "      <td>210</td>\n",
       "      <td>GRNWVES</td>\n",
       "      <td>YOUNG FAMILIES</td>\n",
       "      <td>Budget</td>\n",
       "    </tr>\n",
       "    <tr>\n",
       "      <th>3</th>\n",
       "      <td>1003</td>\n",
       "      <td>2019-03-08</td>\n",
       "      <td>1</td>\n",
       "      <td>4</td>\n",
       "      <td>106</td>\n",
       "      <td>Natural ChipCo      Hony Soy Chckn175g</td>\n",
       "      <td>1</td>\n",
       "      <td>3.0</td>\n",
       "      <td>175</td>\n",
       "      <td>NATURAL</td>\n",
       "      <td>YOUNG FAMILIES</td>\n",
       "      <td>Budget</td>\n",
       "    </tr>\n",
       "    <tr>\n",
       "      <th>4</th>\n",
       "      <td>1004</td>\n",
       "      <td>2018-11-02</td>\n",
       "      <td>1</td>\n",
       "      <td>5</td>\n",
       "      <td>96</td>\n",
       "      <td>WW Original Stacked Chips 160g</td>\n",
       "      <td>1</td>\n",
       "      <td>1.9</td>\n",
       "      <td>160</td>\n",
       "      <td>WOOLWORTHS</td>\n",
       "      <td>OLDER SINGLES/COUPLES</td>\n",
       "      <td>Mainstream</td>\n",
       "    </tr>\n",
       "  </tbody>\n",
       "</table>\n",
       "</div>"
      ],
      "text/plain": [
       "   LYLTY_CARD_NBR        DATE  STORE_NBR  TXN_ID  PROD_NBR  \\\n",
       "0            1000  2018-10-17          1       1         5   \n",
       "1            1002  2018-09-16          1       2        58   \n",
       "2            1003  2019-03-07          1       3        52   \n",
       "3            1003  2019-03-08          1       4       106   \n",
       "4            1004  2018-11-02          1       5        96   \n",
       "\n",
       "                                PROD_NAME  PROD_QTY  TOT_SALES  PACK_SIZE  \\\n",
       "0  Natural Chip        Compny SeaSalt175g         2        6.0        175   \n",
       "1   Red Rock Deli Chikn&Garlic Aioli 150g         1        2.7        150   \n",
       "2   Grain Waves Sour    Cream&Chives 210G         1        3.6        210   \n",
       "3  Natural ChipCo      Hony Soy Chckn175g         1        3.0        175   \n",
       "4          WW Original Stacked Chips 160g         1        1.9        160   \n",
       "\n",
       "        BRAND              LIFESTAGE PREMIUM_CUSTOMER  \n",
       "0     NATURAL  YOUNG SINGLES/COUPLES          Premium  \n",
       "1         RRD  YOUNG SINGLES/COUPLES       Mainstream  \n",
       "2     GRNWVES         YOUNG FAMILIES           Budget  \n",
       "3     NATURAL         YOUNG FAMILIES           Budget  \n",
       "4  WOOLWORTHS  OLDER SINGLES/COUPLES       Mainstream  "
      ]
     },
     "execution_count": 2,
     "metadata": {},
     "output_type": "execute_result"
    }
   ],
   "source": [
    "data = pd.read_csv('../input/qvi-data/QVI_data.csv')\n",
    "data.head()"
   ]
  },
  {
   "cell_type": "markdown",
   "execution_count": null,
   "metadata": {
    "_cell_guid": "8f846b45-bc2c-4c25-8006-490c3878f142",
    "_uuid": "b5f95a3b-ab40-43d9-aca7-e779e8658d5f",
    "papermill": {
     "duration": 0.030697,
     "end_time": "2020-08-25T16:10:22.627764",
     "exception": false,
     "start_time": "2020-08-25T16:10:22.597067",
     "status": "completed"
    },
    "tags": []
   },
   "source": [
    "## Select control stores"
   ]
  },
  {
   "cell_type": "markdown",
   "execution_count": null,
   "metadata": {
    "_cell_guid": "63c98348-f926-4bf8-8b43-8f1d89307535",
    "_uuid": "131539e8-86eb-4b0e-b3f5-3ab408dac342",
    "papermill": {
     "duration": 0.030673,
     "end_time": "2020-08-25T16:10:22.689811",
     "exception": false,
     "start_time": "2020-08-25T16:10:22.659138",
     "status": "completed"
    },
    "tags": []
   },
   "source": [
    "I will add a new month ID column in the data with the format yyyymm."
   ]
  },
  {
   "cell_type": "code",
   "execution_count": 3,
   "metadata": {
    "_cell_guid": "81c328e0-f7d8-442f-8141-e52948431624",
    "_uuid": "e9c58569-6eb9-44aa-b2e3-8f0cc0c0c380",
    "execution": {
     "iopub.execute_input": "2020-08-25T16:10:22.781651Z",
     "iopub.status.busy": "2020-08-25T16:10:22.780581Z",
     "iopub.status.idle": "2020-08-25T16:10:22.875580Z",
     "shell.execute_reply": "2020-08-25T16:10:22.876141Z"
    },
    "papermill": {
     "duration": 0.155654,
     "end_time": "2020-08-25T16:10:22.876325",
     "exception": false,
     "start_time": "2020-08-25T16:10:22.720671",
     "status": "completed"
    },
    "tags": []
   },
   "outputs": [],
   "source": [
    "data['month_year'] = pd.to_datetime(data['DATE']).dt.to_period('M')"
   ]
  },
  {
   "cell_type": "markdown",
   "execution_count": null,
   "metadata": {
    "_cell_guid": "c4d4c331-6f46-481d-9159-e190f6d5733a",
    "_uuid": "66632b4e-1236-4983-90bf-3b08b06fcb58",
    "papermill": {
     "duration": 0.031124,
     "end_time": "2020-08-25T16:10:22.940268",
     "exception": false,
     "start_time": "2020-08-25T16:10:22.909144",
     "status": "completed"
    },
    "tags": []
   },
   "source": [
    "I will add a new column called PRICE."
   ]
  },
  {
   "cell_type": "code",
   "execution_count": 4,
   "metadata": {
    "_cell_guid": "66fa9f46-e6dc-4d48-bfc9-cca05c949c43",
    "_uuid": "939239ed-b147-4faf-acb2-24690c100852",
    "execution": {
     "iopub.execute_input": "2020-08-25T16:10:23.009756Z",
     "iopub.status.busy": "2020-08-25T16:10:23.008898Z",
     "iopub.status.idle": "2020-08-25T16:10:23.039301Z",
     "shell.execute_reply": "2020-08-25T16:10:23.038655Z"
    },
    "papermill": {
     "duration": 0.067866,
     "end_time": "2020-08-25T16:10:23.039445",
     "exception": false,
     "start_time": "2020-08-25T16:10:22.971579",
     "status": "completed"
    },
    "tags": []
   },
   "outputs": [],
   "source": [
    "data['PRICE'] = data['TOT_SALES'] / data['PROD_QTY']"
   ]
  },
  {
   "cell_type": "markdown",
   "execution_count": null,
   "metadata": {
    "_cell_guid": "a880889c-b6f8-4e66-a48d-dfdd38f9d5f1",
    "_uuid": "9eb4172a-f079-4741-bf83-6e49dc02c028",
    "papermill": {
     "duration": 0.030979,
     "end_time": "2020-08-25T16:10:23.101754",
     "exception": false,
     "start_time": "2020-08-25T16:10:23.070775",
     "status": "completed"
    },
    "tags": []
   },
   "source": [
    "I will define the measure calculations used during the analysis : total sales, number of customers, number of transactions per customer, number of chips packages per customer, average price per package."
   ]
  },
  {
   "cell_type": "code",
   "execution_count": 5,
   "metadata": {
    "_cell_guid": "4f8b24be-f86a-44cf-b83b-3e87a1cb7cfc",
    "_uuid": "8c47d477-b027-472a-8490-1255ad680a8c",
    "execution": {
     "iopub.execute_input": "2020-08-25T16:10:23.180746Z",
     "iopub.status.busy": "2020-08-25T16:10:23.177620Z",
     "iopub.status.idle": "2020-08-25T16:10:23.319624Z",
     "shell.execute_reply": "2020-08-25T16:10:23.318911Z"
    },
    "papermill": {
     "duration": 0.186352,
     "end_time": "2020-08-25T16:10:23.319759",
     "exception": false,
     "start_time": "2020-08-25T16:10:23.133407",
     "status": "completed"
    },
    "tags": []
   },
   "outputs": [
    {
     "data": {
      "text/html": [
       "<div>\n",
       "<style scoped>\n",
       "    .dataframe tbody tr th:only-of-type {\n",
       "        vertical-align: middle;\n",
       "    }\n",
       "\n",
       "    .dataframe tbody tr th {\n",
       "        vertical-align: top;\n",
       "    }\n",
       "\n",
       "    .dataframe thead th {\n",
       "        text-align: right;\n",
       "    }\n",
       "</style>\n",
       "<table border=\"1\" class=\"dataframe\">\n",
       "  <thead>\n",
       "    <tr style=\"text-align: right;\">\n",
       "      <th></th>\n",
       "      <th>STORE_NBR</th>\n",
       "      <th>month_year</th>\n",
       "      <th>totSales</th>\n",
       "      <th>nCustomers</th>\n",
       "      <th>avgPricePerUnit</th>\n",
       "      <th>nTxnPerCust</th>\n",
       "      <th>nChipsPerTxn</th>\n",
       "    </tr>\n",
       "  </thead>\n",
       "  <tbody>\n",
       "    <tr>\n",
       "      <th>0</th>\n",
       "      <td>1</td>\n",
       "      <td>2018-07</td>\n",
       "      <td>206.9</td>\n",
       "      <td>49</td>\n",
       "      <td>3.384615</td>\n",
       "      <td>1.061224</td>\n",
       "      <td>1.265306</td>\n",
       "    </tr>\n",
       "    <tr>\n",
       "      <th>1</th>\n",
       "      <td>1</td>\n",
       "      <td>2018-08</td>\n",
       "      <td>176.1</td>\n",
       "      <td>42</td>\n",
       "      <td>3.329070</td>\n",
       "      <td>1.023810</td>\n",
       "      <td>1.285714</td>\n",
       "    </tr>\n",
       "    <tr>\n",
       "      <th>2</th>\n",
       "      <td>1</td>\n",
       "      <td>2018-09</td>\n",
       "      <td>278.8</td>\n",
       "      <td>59</td>\n",
       "      <td>3.685484</td>\n",
       "      <td>1.050847</td>\n",
       "      <td>1.271186</td>\n",
       "    </tr>\n",
       "    <tr>\n",
       "      <th>3</th>\n",
       "      <td>1</td>\n",
       "      <td>2018-10</td>\n",
       "      <td>188.1</td>\n",
       "      <td>44</td>\n",
       "      <td>3.288889</td>\n",
       "      <td>1.022727</td>\n",
       "      <td>1.318182</td>\n",
       "    </tr>\n",
       "    <tr>\n",
       "      <th>4</th>\n",
       "      <td>1</td>\n",
       "      <td>2018-11</td>\n",
       "      <td>192.6</td>\n",
       "      <td>46</td>\n",
       "      <td>3.412766</td>\n",
       "      <td>1.021739</td>\n",
       "      <td>1.239130</td>\n",
       "    </tr>\n",
       "    <tr>\n",
       "      <th>...</th>\n",
       "      <td>...</td>\n",
       "      <td>...</td>\n",
       "      <td>...</td>\n",
       "      <td>...</td>\n",
       "      <td>...</td>\n",
       "      <td>...</td>\n",
       "      <td>...</td>\n",
       "    </tr>\n",
       "    <tr>\n",
       "      <th>3164</th>\n",
       "      <td>272</td>\n",
       "      <td>2019-02</td>\n",
       "      <td>395.5</td>\n",
       "      <td>45</td>\n",
       "      <td>4.358333</td>\n",
       "      <td>1.066667</td>\n",
       "      <td>2.022222</td>\n",
       "    </tr>\n",
       "    <tr>\n",
       "      <th>3165</th>\n",
       "      <td>272</td>\n",
       "      <td>2019-03</td>\n",
       "      <td>442.3</td>\n",
       "      <td>50</td>\n",
       "      <td>4.350943</td>\n",
       "      <td>1.060000</td>\n",
       "      <td>2.020000</td>\n",
       "    </tr>\n",
       "    <tr>\n",
       "      <th>3166</th>\n",
       "      <td>272</td>\n",
       "      <td>2019-04</td>\n",
       "      <td>445.1</td>\n",
       "      <td>54</td>\n",
       "      <td>4.248214</td>\n",
       "      <td>1.037037</td>\n",
       "      <td>1.944444</td>\n",
       "    </tr>\n",
       "    <tr>\n",
       "      <th>3167</th>\n",
       "      <td>272</td>\n",
       "      <td>2019-05</td>\n",
       "      <td>314.6</td>\n",
       "      <td>34</td>\n",
       "      <td>4.437500</td>\n",
       "      <td>1.176471</td>\n",
       "      <td>2.088235</td>\n",
       "    </tr>\n",
       "    <tr>\n",
       "      <th>3168</th>\n",
       "      <td>272</td>\n",
       "      <td>2019-06</td>\n",
       "      <td>312.1</td>\n",
       "      <td>34</td>\n",
       "      <td>4.424324</td>\n",
       "      <td>1.088235</td>\n",
       "      <td>2.058824</td>\n",
       "    </tr>\n",
       "  </tbody>\n",
       "</table>\n",
       "<p>3169 rows × 7 columns</p>\n",
       "</div>"
      ],
      "text/plain": [
       "      STORE_NBR month_year  totSales  nCustomers  avgPricePerUnit  \\\n",
       "0             1    2018-07     206.9          49         3.384615   \n",
       "1             1    2018-08     176.1          42         3.329070   \n",
       "2             1    2018-09     278.8          59         3.685484   \n",
       "3             1    2018-10     188.1          44         3.288889   \n",
       "4             1    2018-11     192.6          46         3.412766   \n",
       "...         ...        ...       ...         ...              ...   \n",
       "3164        272    2019-02     395.5          45         4.358333   \n",
       "3165        272    2019-03     442.3          50         4.350943   \n",
       "3166        272    2019-04     445.1          54         4.248214   \n",
       "3167        272    2019-05     314.6          34         4.437500   \n",
       "3168        272    2019-06     312.1          34         4.424324   \n",
       "\n",
       "      nTxnPerCust  nChipsPerTxn  \n",
       "0        1.061224      1.265306  \n",
       "1        1.023810      1.285714  \n",
       "2        1.050847      1.271186  \n",
       "3        1.022727      1.318182  \n",
       "4        1.021739      1.239130  \n",
       "...           ...           ...  \n",
       "3164     1.066667      2.022222  \n",
       "3165     1.060000      2.020000  \n",
       "3166     1.037037      1.944444  \n",
       "3167     1.176471      2.088235  \n",
       "3168     1.088235      2.058824  \n",
       "\n",
       "[3169 rows x 7 columns]"
      ]
     },
     "execution_count": 5,
     "metadata": {},
     "output_type": "execute_result"
    }
   ],
   "source": [
    "measures_over_time = data.groupby(['STORE_NBR', 'month_year', ], as_index= False).agg(\n",
    "    totSales = pd.NamedAgg(column=\"TOT_SALES\", aggfunc=\"sum\"),\n",
    "    nCustomers = pd.NamedAgg(column=\"LYLTY_CARD_NBR\", aggfunc=\"nunique\"),\n",
    "    nTxnPerStore = pd.NamedAgg(column=\"TXN_ID\", aggfunc=\"count\"),\n",
    "    nChipsPerStore = pd.NamedAgg(column=\"PROD_QTY\", aggfunc=\"sum\"),\n",
    "    avgPricePerUnit = pd.NamedAgg(column=\"PRICE\", aggfunc=\"mean\"))\n",
    "\n",
    "measures_over_time['nTxnPerCust'] =measures_over_time['nTxnPerStore']/measures_over_time['nCustomers']\n",
    "measures_over_time['nChipsPerTxn'] =measures_over_time['nChipsPerStore']/measures_over_time['nCustomers']\n",
    "\n",
    "measures_over_time = measures_over_time.drop(labels = ['nTxnPerStore', 'nChipsPerStore'], axis = 1)\n",
    "\n",
    "measures_over_time"
   ]
  },
  {
   "cell_type": "markdown",
   "execution_count": null,
   "metadata": {
    "_cell_guid": "66da6d21-8c80-4a32-80dd-5d5c71819db5",
    "_uuid": "742152c1-606c-4950-9417-29d5e3f6f078",
    "papermill": {
     "duration": 0.031246,
     "end_time": "2020-08-25T16:10:23.382484",
     "exception": false,
     "start_time": "2020-08-25T16:10:23.351238",
     "status": "completed"
    },
    "tags": []
   },
   "source": [
    "In measures_over_time are no null values."
   ]
  },
  {
   "cell_type": "code",
   "execution_count": 6,
   "metadata": {
    "_cell_guid": "f1a7c6ef-9cd1-40c3-9e26-1d022e03d4ae",
    "_uuid": "c9a9972e-a63c-4443-a2dc-0924c40f49c9",
    "execution": {
     "iopub.execute_input": "2020-08-25T16:10:23.452791Z",
     "iopub.status.busy": "2020-08-25T16:10:23.451708Z",
     "iopub.status.idle": "2020-08-25T16:10:23.459393Z",
     "shell.execute_reply": "2020-08-25T16:10:23.459984Z"
    },
    "papermill": {
     "duration": 0.045756,
     "end_time": "2020-08-25T16:10:23.460146",
     "exception": false,
     "start_time": "2020-08-25T16:10:23.414390",
     "status": "completed"
    },
    "tags": []
   },
   "outputs": [
    {
     "data": {
      "text/plain": [
       "STORE_NBR          0\n",
       "month_year         0\n",
       "totSales           0\n",
       "nCustomers         0\n",
       "avgPricePerUnit    0\n",
       "nTxnPerCust        0\n",
       "nChipsPerTxn       0\n",
       "dtype: int64"
      ]
     },
     "execution_count": 6,
     "metadata": {},
     "output_type": "execute_result"
    }
   ],
   "source": [
    "measures_over_time.isnull().sum()"
   ]
  },
  {
   "cell_type": "markdown",
   "execution_count": null,
   "metadata": {
    "_cell_guid": "b4d793d3-3d28-4db7-a963-e1e7ff63a163",
    "_uuid": "eda7d6b0-9acc-4396-ab18-6a7df59eae12",
    "papermill": {
     "duration": 0.031348,
     "end_time": "2020-08-25T16:10:23.523485",
     "exception": false,
     "start_time": "2020-08-25T16:10:23.492137",
     "status": "completed"
    },
    "tags": []
   },
   "source": [
    "### Filter the stores with full observation periods (all 12 months)\n",
    "\n",
    "Only 260 of the 272 of stores register values for all of the 12 months."
   ]
  },
  {
   "cell_type": "code",
   "execution_count": 7,
   "metadata": {
    "_cell_guid": "22f48b25-08ef-4565-b8a3-27ffcfb9b240",
    "_uuid": "7e819db0-0e0d-4e70-a459-41a418309acb",
    "execution": {
     "iopub.execute_input": "2020-08-25T16:10:23.599844Z",
     "iopub.status.busy": "2020-08-25T16:10:23.598977Z",
     "iopub.status.idle": "2020-08-25T16:10:23.603849Z",
     "shell.execute_reply": "2020-08-25T16:10:23.603263Z"
    },
    "papermill": {
     "duration": 0.048642,
     "end_time": "2020-08-25T16:10:23.604005",
     "exception": false,
     "start_time": "2020-08-25T16:10:23.555363",
     "status": "completed"
    },
    "tags": []
   },
   "outputs": [
    {
     "data": {
      "text/plain": [
       "<PandasArray>\n",
       "[  1,   2,   3,   4,   5,   6,   7,   8,   9,  10,\n",
       " ...\n",
       " 263, 264, 265, 266, 267, 268, 269, 270, 271, 272]\n",
       "Length: 260, dtype: int64"
      ]
     },
     "execution_count": 7,
     "metadata": {},
     "output_type": "execute_result"
    }
   ],
   "source": [
    "observations_per_store = measures_over_time.groupby('STORE_NBR', as_index = False).month_year.count()\n",
    "store_nbr = observations_per_store[ observations_per_store.month_year == 12].STORE_NBR.array\n",
    "store_nbr"
   ]
  },
  {
   "cell_type": "code",
   "execution_count": 8,
   "metadata": {
    "_cell_guid": "516f66bd-2af1-4739-bb06-39c13d171e56",
    "_uuid": "889b1af4-d882-4bd7-85fc-27e2bb1bb0a7",
    "execution": {
     "iopub.execute_input": "2020-08-25T16:10:23.676981Z",
     "iopub.status.busy": "2020-08-25T16:10:23.676075Z",
     "iopub.status.idle": "2020-08-25T16:10:23.680308Z",
     "shell.execute_reply": "2020-08-25T16:10:23.679553Z"
    },
    "papermill": {
     "duration": 0.044311,
     "end_time": "2020-08-25T16:10:23.680451",
     "exception": false,
     "start_time": "2020-08-25T16:10:23.636140",
     "status": "completed"
    },
    "tags": []
   },
   "outputs": [],
   "source": [
    "measures_over_time = measures_over_time[ measures_over_time.STORE_NBR.isin(store_nbr)]"
   ]
  },
  {
   "cell_type": "markdown",
   "execution_count": null,
   "metadata": {
    "_cell_guid": "e7b3b020-ebfd-4513-9722-a8d0a54d8f13",
    "_uuid": "46f85a3e-5e49-458b-8fe3-c68df04f3bf8",
    "papermill": {
     "duration": 0.03213,
     "end_time": "2020-08-25T16:10:23.745029",
     "exception": false,
     "start_time": "2020-08-25T16:10:23.712899",
     "status": "completed"
    },
    "tags": []
   },
   "source": [
    "### Filter pre-trial (before February 2019) measures\n",
    "The trial takes place in the stores with number 77, 86 and 88 in the period before February - April 2019."
   ]
  },
  {
   "cell_type": "code",
   "execution_count": 9,
   "metadata": {
    "_cell_guid": "95235e6b-aa5e-4724-a741-ea3a3f01f92c",
    "_uuid": "f30ba241-3aa6-46af-9376-f8a0cd0ed85d",
    "execution": {
     "iopub.execute_input": "2020-08-25T16:10:23.867972Z",
     "iopub.status.busy": "2020-08-25T16:10:23.867154Z",
     "iopub.status.idle": "2020-08-25T16:10:23.871273Z",
     "shell.execute_reply": "2020-08-25T16:10:23.871803Z"
    },
    "papermill": {
     "duration": 0.094867,
     "end_time": "2020-08-25T16:10:23.871985",
     "exception": false,
     "start_time": "2020-08-25T16:10:23.777118",
     "status": "completed"
    },
    "tags": []
   },
   "outputs": [],
   "source": [
    "preTrialMeasures =  measures_over_time[measures_over_time.month_year < '2019-02']"
   ]
  },
  {
   "cell_type": "markdown",
   "execution_count": null,
   "metadata": {
    "_cell_guid": "92b29bfd-d3ad-4d31-8329-683249df4da5",
    "_uuid": "cb8a3ada-be0b-411a-911e-edb91ced8788",
    "papermill": {
     "duration": 0.031639,
     "end_time": "2020-08-25T16:10:23.935671",
     "exception": false,
     "start_time": "2020-08-25T16:10:23.904032",
     "status": "completed"
    },
    "tags": []
   },
   "source": [
    "### Function to calculate the correlation for a measure, looping through each control store"
   ]
  },
  {
   "cell_type": "code",
   "execution_count": 10,
   "metadata": {
    "_cell_guid": "986f85c6-03c6-4433-a4ce-6e8bc01c7e4c",
    "_uuid": "fb5b6758-4363-405b-a93e-aca146eaf3c6",
    "execution": {
     "iopub.execute_input": "2020-08-25T16:10:24.014110Z",
     "iopub.status.busy": "2020-08-25T16:10:24.013181Z",
     "iopub.status.idle": "2020-08-25T16:10:24.018025Z",
     "shell.execute_reply": "2020-08-25T16:10:24.018577Z"
    },
    "papermill": {
     "duration": 0.050723,
     "end_time": "2020-08-25T16:10:24.018755",
     "exception": false,
     "start_time": "2020-08-25T16:10:23.968032",
     "status": "completed"
    },
    "tags": []
   },
   "outputs": [
    {
     "data": {
      "text/plain": [
       "[1,\n",
       " 2,\n",
       " 3,\n",
       " 4,\n",
       " 5,\n",
       " 6,\n",
       " 7,\n",
       " 8,\n",
       " 9,\n",
       " 10,\n",
       " 12,\n",
       " 13,\n",
       " 14,\n",
       " 15,\n",
       " 16,\n",
       " 17,\n",
       " 18,\n",
       " 19,\n",
       " 20,\n",
       " 21,\n",
       " 22,\n",
       " 23,\n",
       " 24,\n",
       " 25,\n",
       " 26,\n",
       " 27,\n",
       " 28,\n",
       " 29,\n",
       " 30,\n",
       " 32,\n",
       " 33,\n",
       " 34,\n",
       " 35,\n",
       " 36,\n",
       " 37,\n",
       " 38,\n",
       " 39,\n",
       " 40,\n",
       " 41,\n",
       " 42,\n",
       " 43,\n",
       " 45,\n",
       " 46,\n",
       " 47,\n",
       " 48,\n",
       " 49,\n",
       " 50,\n",
       " 51,\n",
       " 52,\n",
       " 53,\n",
       " 54,\n",
       " 55,\n",
       " 56,\n",
       " 57,\n",
       " 58,\n",
       " 59,\n",
       " 60,\n",
       " 61,\n",
       " 62,\n",
       " 63,\n",
       " 64,\n",
       " 65,\n",
       " 66,\n",
       " 67,\n",
       " 68,\n",
       " 69,\n",
       " 70,\n",
       " 71,\n",
       " 72,\n",
       " 73,\n",
       " 74,\n",
       " 75,\n",
       " 77,\n",
       " 78,\n",
       " 79,\n",
       " 80,\n",
       " 81,\n",
       " 82,\n",
       " 83,\n",
       " 84,\n",
       " 86,\n",
       " 87,\n",
       " 88,\n",
       " 89,\n",
       " 90,\n",
       " 91,\n",
       " 93,\n",
       " 94,\n",
       " 95,\n",
       " 96,\n",
       " 97,\n",
       " 98,\n",
       " 99,\n",
       " 100,\n",
       " 101,\n",
       " 102,\n",
       " 103,\n",
       " 104,\n",
       " 105,\n",
       " 106,\n",
       " 107,\n",
       " 108,\n",
       " 109,\n",
       " 110,\n",
       " 111,\n",
       " 112,\n",
       " 113,\n",
       " 114,\n",
       " 115,\n",
       " 116,\n",
       " 118,\n",
       " 119,\n",
       " 120,\n",
       " 121,\n",
       " 122,\n",
       " 123,\n",
       " 124,\n",
       " 125,\n",
       " 126,\n",
       " 127,\n",
       " 128,\n",
       " 129,\n",
       " 130,\n",
       " 131,\n",
       " 132,\n",
       " 133,\n",
       " 134,\n",
       " 135,\n",
       " 136,\n",
       " 137,\n",
       " 138,\n",
       " 139,\n",
       " 140,\n",
       " 141,\n",
       " 142,\n",
       " 143,\n",
       " 144,\n",
       " 145,\n",
       " 146,\n",
       " 147,\n",
       " 148,\n",
       " 149,\n",
       " 150,\n",
       " 151,\n",
       " 152,\n",
       " 153,\n",
       " 154,\n",
       " 155,\n",
       " 156,\n",
       " 157,\n",
       " 158,\n",
       " 159,\n",
       " 160,\n",
       " 161,\n",
       " 162,\n",
       " 163,\n",
       " 164,\n",
       " 165,\n",
       " 166,\n",
       " 167,\n",
       " 168,\n",
       " 169,\n",
       " 170,\n",
       " 171,\n",
       " 172,\n",
       " 173,\n",
       " 174,\n",
       " 175,\n",
       " 176,\n",
       " 177,\n",
       " 178,\n",
       " 179,\n",
       " 180,\n",
       " 181,\n",
       " 182,\n",
       " 183,\n",
       " 184,\n",
       " 185,\n",
       " 186,\n",
       " 187,\n",
       " 188,\n",
       " 189,\n",
       " 190,\n",
       " 191,\n",
       " 192,\n",
       " 194,\n",
       " 195,\n",
       " 196,\n",
       " 197,\n",
       " 198,\n",
       " 199,\n",
       " 200,\n",
       " 201,\n",
       " 202,\n",
       " 203,\n",
       " 204,\n",
       " 205,\n",
       " 207,\n",
       " 208,\n",
       " 209,\n",
       " 210,\n",
       " 212,\n",
       " 213,\n",
       " 214,\n",
       " 215,\n",
       " 216,\n",
       " 217,\n",
       " 219,\n",
       " 220,\n",
       " 221,\n",
       " 222,\n",
       " 223,\n",
       " 224,\n",
       " 225,\n",
       " 226,\n",
       " 227,\n",
       " 228,\n",
       " 229,\n",
       " 230,\n",
       " 231,\n",
       " 232,\n",
       " 233,\n",
       " 234,\n",
       " 235,\n",
       " 236,\n",
       " 237,\n",
       " 238,\n",
       " 239,\n",
       " 240,\n",
       " 241,\n",
       " 242,\n",
       " 243,\n",
       " 244,\n",
       " 245,\n",
       " 246,\n",
       " 247,\n",
       " 248,\n",
       " 249,\n",
       " 250,\n",
       " 251,\n",
       " 253,\n",
       " 254,\n",
       " 255,\n",
       " 256,\n",
       " 257,\n",
       " 258,\n",
       " 259,\n",
       " 260,\n",
       " 261,\n",
       " 262,\n",
       " 263,\n",
       " 264,\n",
       " 265,\n",
       " 266,\n",
       " 267,\n",
       " 268,\n",
       " 269,\n",
       " 270,\n",
       " 271,\n",
       " 272]"
      ]
     },
     "execution_count": 10,
     "metadata": {},
     "output_type": "execute_result"
    }
   ],
   "source": [
    "trial_stores_number = [77, 86, 88]\n",
    "comparison_stores_number = measures_over_time.STORE_NBR.unique().tolist()\n",
    "comparison_stores_number"
   ]
  },
  {
   "cell_type": "code",
   "execution_count": 11,
   "metadata": {
    "_cell_guid": "be74a847-4fc6-414d-a78d-b769f7f01047",
    "_uuid": "3d61585f-e9ff-4c2d-a670-b7e650b4f394",
    "execution": {
     "iopub.execute_input": "2020-08-25T16:10:24.095014Z",
     "iopub.status.busy": "2020-08-25T16:10:24.093909Z",
     "iopub.status.idle": "2020-08-25T16:10:24.097530Z",
     "shell.execute_reply": "2020-08-25T16:10:24.096742Z"
    },
    "papermill": {
     "duration": 0.046251,
     "end_time": "2020-08-25T16:10:24.097659",
     "exception": false,
     "start_time": "2020-08-25T16:10:24.051408",
     "status": "completed"
    },
    "tags": []
   },
   "outputs": [],
   "source": [
    "def calc_corr( measure):\n",
    "    corrTable = pd.DataFrame( columns = ['Input Store','Comparison Store', 'Measure', 'Correlation'])\n",
    "    for i in trial_stores_number:\n",
    "        trial_store_measure = preTrialMeasures.loc[ preTrialMeasures.STORE_NBR == i, measure]\n",
    "        for j in comparison_stores_number:\n",
    "            comparison_store_measure = preTrialMeasures.loc[ preTrialMeasures.STORE_NBR == j, measure]\n",
    "            corr = np.corrcoef(trial_store_measure, comparison_store_measure)[0][1]\n",
    "            corrTable = corrTable.append({\n",
    "                'Input Store': i, \n",
    "                'Comparison Store': j, \n",
    "                'Measure': measure, \n",
    "                'Correlation': corr}, ignore_index=True)\n",
    "    return corrTable"
   ]
  },
  {
   "cell_type": "markdown",
   "execution_count": null,
   "metadata": {
    "_cell_guid": "d3d810b9-dc27-4b6e-a4e3-a691ee5f96db",
    "_uuid": "a44ded2c-4573-4b01-a6ae-e4d9f6eb9742",
    "papermill": {
     "duration": 0.03276,
     "end_time": "2020-08-25T16:10:24.163371",
     "exception": false,
     "start_time": "2020-08-25T16:10:24.130611",
     "status": "completed"
    },
    "tags": []
   },
   "source": [
    "### Compute correlation between trial store sales and comparison store sales per month"
   ]
  },
  {
   "cell_type": "code",
   "execution_count": 12,
   "metadata": {
    "_cell_guid": "63c36e94-a663-4315-b99b-482eb2bf7106",
    "_uuid": "3705f2c0-0eb5-4579-b67d-42b1ec01819f",
    "execution": {
     "iopub.execute_input": "2020-08-25T16:10:24.239616Z",
     "iopub.status.busy": "2020-08-25T16:10:24.238818Z",
     "iopub.status.idle": "2020-08-25T16:10:27.786927Z",
     "shell.execute_reply": "2020-08-25T16:10:27.786315Z"
    },
    "papermill": {
     "duration": 3.590041,
     "end_time": "2020-08-25T16:10:27.787065",
     "exception": false,
     "start_time": "2020-08-25T16:10:24.197024",
     "status": "completed"
    },
    "tags": []
   },
   "outputs": [
    {
     "data": {
      "text/html": [
       "<div>\n",
       "<style scoped>\n",
       "    .dataframe tbody tr th:only-of-type {\n",
       "        vertical-align: middle;\n",
       "    }\n",
       "\n",
       "    .dataframe tbody tr th {\n",
       "        vertical-align: top;\n",
       "    }\n",
       "\n",
       "    .dataframe thead th {\n",
       "        text-align: right;\n",
       "    }\n",
       "</style>\n",
       "<table border=\"1\" class=\"dataframe\">\n",
       "  <thead>\n",
       "    <tr style=\"text-align: right;\">\n",
       "      <th></th>\n",
       "      <th>Input Store</th>\n",
       "      <th>Comparison Store</th>\n",
       "      <th>Measure</th>\n",
       "      <th>Correlation</th>\n",
       "    </tr>\n",
       "  </thead>\n",
       "  <tbody>\n",
       "    <tr>\n",
       "      <th>0</th>\n",
       "      <td>77</td>\n",
       "      <td>1</td>\n",
       "      <td>totSales</td>\n",
       "      <td>0.075218</td>\n",
       "    </tr>\n",
       "    <tr>\n",
       "      <th>1</th>\n",
       "      <td>77</td>\n",
       "      <td>2</td>\n",
       "      <td>totSales</td>\n",
       "      <td>-0.263079</td>\n",
       "    </tr>\n",
       "    <tr>\n",
       "      <th>2</th>\n",
       "      <td>77</td>\n",
       "      <td>3</td>\n",
       "      <td>totSales</td>\n",
       "      <td>0.806644</td>\n",
       "    </tr>\n",
       "    <tr>\n",
       "      <th>3</th>\n",
       "      <td>77</td>\n",
       "      <td>4</td>\n",
       "      <td>totSales</td>\n",
       "      <td>-0.263300</td>\n",
       "    </tr>\n",
       "    <tr>\n",
       "      <th>4</th>\n",
       "      <td>77</td>\n",
       "      <td>5</td>\n",
       "      <td>totSales</td>\n",
       "      <td>-0.110652</td>\n",
       "    </tr>\n",
       "    <tr>\n",
       "      <th>...</th>\n",
       "      <td>...</td>\n",
       "      <td>...</td>\n",
       "      <td>...</td>\n",
       "      <td>...</td>\n",
       "    </tr>\n",
       "    <tr>\n",
       "      <th>775</th>\n",
       "      <td>88</td>\n",
       "      <td>268</td>\n",
       "      <td>totSales</td>\n",
       "      <td>-0.021429</td>\n",
       "    </tr>\n",
       "    <tr>\n",
       "      <th>776</th>\n",
       "      <td>88</td>\n",
       "      <td>269</td>\n",
       "      <td>totSales</td>\n",
       "      <td>-0.172578</td>\n",
       "    </tr>\n",
       "    <tr>\n",
       "      <th>777</th>\n",
       "      <td>88</td>\n",
       "      <td>270</td>\n",
       "      <td>totSales</td>\n",
       "      <td>-0.723272</td>\n",
       "    </tr>\n",
       "    <tr>\n",
       "      <th>778</th>\n",
       "      <td>88</td>\n",
       "      <td>271</td>\n",
       "      <td>totSales</td>\n",
       "      <td>-0.103037</td>\n",
       "    </tr>\n",
       "    <tr>\n",
       "      <th>779</th>\n",
       "      <td>88</td>\n",
       "      <td>272</td>\n",
       "      <td>totSales</td>\n",
       "      <td>-0.772772</td>\n",
       "    </tr>\n",
       "  </tbody>\n",
       "</table>\n",
       "<p>780 rows × 4 columns</p>\n",
       "</div>"
      ],
      "text/plain": [
       "    Input Store Comparison Store   Measure  Correlation\n",
       "0            77                1  totSales     0.075218\n",
       "1            77                2  totSales    -0.263079\n",
       "2            77                3  totSales     0.806644\n",
       "3            77                4  totSales    -0.263300\n",
       "4            77                5  totSales    -0.110652\n",
       "..          ...              ...       ...          ...\n",
       "775          88              268  totSales    -0.021429\n",
       "776          88              269  totSales    -0.172578\n",
       "777          88              270  totSales    -0.723272\n",
       "778          88              271  totSales    -0.103037\n",
       "779          88              272  totSales    -0.772772\n",
       "\n",
       "[780 rows x 4 columns]"
      ]
     },
     "execution_count": 12,
     "metadata": {},
     "output_type": "execute_result"
    }
   ],
   "source": [
    "corr_table_totSales = calc_corr( 'totSales')\n",
    "corr_table_totSales"
   ]
  },
  {
   "cell_type": "markdown",
   "execution_count": null,
   "metadata": {
    "_cell_guid": "c4d4cc2c-8c3c-4053-895a-c2130afd7c34",
    "_uuid": "71ee9ef1-b70d-4d2b-9bf0-6bdfbe8f4c5d",
    "papermill": {
     "duration": 0.032877,
     "end_time": "2020-08-25T16:10:27.853024",
     "exception": false,
     "start_time": "2020-08-25T16:10:27.820147",
     "status": "completed"
    },
    "tags": []
   },
   "source": [
    "### Compute correlation between trial store number of customers and comparison store number of customers per month"
   ]
  },
  {
   "cell_type": "code",
   "execution_count": 13,
   "metadata": {
    "_cell_guid": "8a2ae3b9-446f-49ab-88fd-2881ac65e502",
    "_uuid": "cc635fc8-a181-4e47-9b5e-e008e91c7b4a",
    "execution": {
     "iopub.execute_input": "2020-08-25T16:10:27.932739Z",
     "iopub.status.busy": "2020-08-25T16:10:27.927457Z",
     "iopub.status.idle": "2020-08-25T16:10:31.417670Z",
     "shell.execute_reply": "2020-08-25T16:10:31.418590Z"
    },
    "papermill": {
     "duration": 3.532727,
     "end_time": "2020-08-25T16:10:31.418824",
     "exception": false,
     "start_time": "2020-08-25T16:10:27.886097",
     "status": "completed"
    },
    "tags": []
   },
   "outputs": [
    {
     "data": {
      "text/html": [
       "<div>\n",
       "<style scoped>\n",
       "    .dataframe tbody tr th:only-of-type {\n",
       "        vertical-align: middle;\n",
       "    }\n",
       "\n",
       "    .dataframe tbody tr th {\n",
       "        vertical-align: top;\n",
       "    }\n",
       "\n",
       "    .dataframe thead th {\n",
       "        text-align: right;\n",
       "    }\n",
       "</style>\n",
       "<table border=\"1\" class=\"dataframe\">\n",
       "  <thead>\n",
       "    <tr style=\"text-align: right;\">\n",
       "      <th></th>\n",
       "      <th>Input Store</th>\n",
       "      <th>Comparison Store</th>\n",
       "      <th>Measure</th>\n",
       "      <th>Correlation</th>\n",
       "    </tr>\n",
       "  </thead>\n",
       "  <tbody>\n",
       "    <tr>\n",
       "      <th>0</th>\n",
       "      <td>77</td>\n",
       "      <td>1</td>\n",
       "      <td>nCustomers</td>\n",
       "      <td>0.322168</td>\n",
       "    </tr>\n",
       "    <tr>\n",
       "      <th>1</th>\n",
       "      <td>77</td>\n",
       "      <td>2</td>\n",
       "      <td>nCustomers</td>\n",
       "      <td>-0.572051</td>\n",
       "    </tr>\n",
       "    <tr>\n",
       "      <th>2</th>\n",
       "      <td>77</td>\n",
       "      <td>3</td>\n",
       "      <td>nCustomers</td>\n",
       "      <td>0.834207</td>\n",
       "    </tr>\n",
       "    <tr>\n",
       "      <th>3</th>\n",
       "      <td>77</td>\n",
       "      <td>4</td>\n",
       "      <td>nCustomers</td>\n",
       "      <td>-0.295639</td>\n",
       "    </tr>\n",
       "    <tr>\n",
       "      <th>4</th>\n",
       "      <td>77</td>\n",
       "      <td>5</td>\n",
       "      <td>nCustomers</td>\n",
       "      <td>0.370659</td>\n",
       "    </tr>\n",
       "    <tr>\n",
       "      <th>...</th>\n",
       "      <td>...</td>\n",
       "      <td>...</td>\n",
       "      <td>...</td>\n",
       "      <td>...</td>\n",
       "    </tr>\n",
       "    <tr>\n",
       "      <th>775</th>\n",
       "      <td>88</td>\n",
       "      <td>268</td>\n",
       "      <td>nCustomers</td>\n",
       "      <td>0.672672</td>\n",
       "    </tr>\n",
       "    <tr>\n",
       "      <th>776</th>\n",
       "      <td>88</td>\n",
       "      <td>269</td>\n",
       "      <td>nCustomers</td>\n",
       "      <td>-0.274781</td>\n",
       "    </tr>\n",
       "    <tr>\n",
       "      <th>777</th>\n",
       "      <td>88</td>\n",
       "      <td>270</td>\n",
       "      <td>nCustomers</td>\n",
       "      <td>-0.103032</td>\n",
       "    </tr>\n",
       "    <tr>\n",
       "      <th>778</th>\n",
       "      <td>88</td>\n",
       "      <td>271</td>\n",
       "      <td>nCustomers</td>\n",
       "      <td>-0.018831</td>\n",
       "    </tr>\n",
       "    <tr>\n",
       "      <th>779</th>\n",
       "      <td>88</td>\n",
       "      <td>272</td>\n",
       "      <td>nCustomers</td>\n",
       "      <td>0.026909</td>\n",
       "    </tr>\n",
       "  </tbody>\n",
       "</table>\n",
       "<p>780 rows × 4 columns</p>\n",
       "</div>"
      ],
      "text/plain": [
       "    Input Store Comparison Store     Measure  Correlation\n",
       "0            77                1  nCustomers     0.322168\n",
       "1            77                2  nCustomers    -0.572051\n",
       "2            77                3  nCustomers     0.834207\n",
       "3            77                4  nCustomers    -0.295639\n",
       "4            77                5  nCustomers     0.370659\n",
       "..          ...              ...         ...          ...\n",
       "775          88              268  nCustomers     0.672672\n",
       "776          88              269  nCustomers    -0.274781\n",
       "777          88              270  nCustomers    -0.103032\n",
       "778          88              271  nCustomers    -0.018831\n",
       "779          88              272  nCustomers     0.026909\n",
       "\n",
       "[780 rows x 4 columns]"
      ]
     },
     "execution_count": 13,
     "metadata": {},
     "output_type": "execute_result"
    }
   ],
   "source": [
    "corr_table_nCustomers = calc_corr( 'nCustomers')\n",
    "corr_table_nCustomers"
   ]
  },
  {
   "cell_type": "markdown",
   "execution_count": null,
   "metadata": {
    "_cell_guid": "736dc4f2-49a9-4ee0-84ae-69bf80c4a93b",
    "_uuid": "4d6e169c-688e-4c6f-88f1-b29a36de1a65",
    "papermill": {
     "duration": 0.043724,
     "end_time": "2020-08-25T16:10:31.519139",
     "exception": false,
     "start_time": "2020-08-25T16:10:31.475415",
     "status": "completed"
    },
    "tags": []
   },
   "source": [
    "For now, I won't use in my analysis the other 3 measures: avgPricePerUnit, nTxnPerCust and nChipsPerTxn."
   ]
  },
  {
   "cell_type": "code",
   "execution_count": 14,
   "metadata": {
    "_cell_guid": "bfe46a50-384e-4ae4-80e4-59dd61870b0c",
    "_uuid": "f2a14553-56c8-433d-8d0f-69b6e0b37e1a",
    "execution": {
     "iopub.execute_input": "2020-08-25T16:10:31.593422Z",
     "iopub.status.busy": "2020-08-25T16:10:31.592374Z",
     "iopub.status.idle": "2020-08-25T16:10:31.595729Z",
     "shell.execute_reply": "2020-08-25T16:10:31.595129Z"
    },
    "papermill": {
     "duration": 0.042707,
     "end_time": "2020-08-25T16:10:31.595892",
     "exception": false,
     "start_time": "2020-08-25T16:10:31.553185",
     "status": "completed"
    },
    "tags": []
   },
   "outputs": [],
   "source": [
    "# corr_table_avgPricePerUnit = calc_corr( 'avgPricePerUnit')\n",
    "# corr_table_avgPricePerUnit"
   ]
  },
  {
   "cell_type": "code",
   "execution_count": 15,
   "metadata": {
    "_cell_guid": "79c99dac-3250-4c74-bfd1-a924eba0765e",
    "_uuid": "07e8f68a-475f-42ab-8594-8f0e07ec9825",
    "execution": {
     "iopub.execute_input": "2020-08-25T16:10:31.671375Z",
     "iopub.status.busy": "2020-08-25T16:10:31.670094Z",
     "iopub.status.idle": "2020-08-25T16:10:31.673021Z",
     "shell.execute_reply": "2020-08-25T16:10:31.673627Z"
    },
    "papermill": {
     "duration": 0.043372,
     "end_time": "2020-08-25T16:10:31.673801",
     "exception": false,
     "start_time": "2020-08-25T16:10:31.630429",
     "status": "completed"
    },
    "tags": []
   },
   "outputs": [],
   "source": [
    "# corr_table_nTxnPerCust = calc_corr( 'nTxnPerCust')\n",
    "# corr_table_nTxnPerCust"
   ]
  },
  {
   "cell_type": "code",
   "execution_count": 16,
   "metadata": {
    "_cell_guid": "23411ae3-2978-4730-a029-c5d658fc5ba9",
    "_uuid": "cbd70f56-31cc-481d-8033-73ef9fa95733",
    "execution": {
     "iopub.execute_input": "2020-08-25T16:10:31.747901Z",
     "iopub.status.busy": "2020-08-25T16:10:31.747091Z",
     "iopub.status.idle": "2020-08-25T16:10:31.751096Z",
     "shell.execute_reply": "2020-08-25T16:10:31.750434Z"
    },
    "papermill": {
     "duration": 0.04278,
     "end_time": "2020-08-25T16:10:31.751237",
     "exception": false,
     "start_time": "2020-08-25T16:10:31.708457",
     "status": "completed"
    },
    "tags": []
   },
   "outputs": [],
   "source": [
    "# corr_table_nChipsPerTxns = calc_corr( 'nChipsPerTxn')\n",
    "# corr_table_nChipsPerTxns"
   ]
  },
  {
   "cell_type": "code",
   "execution_count": 17,
   "metadata": {
    "_cell_guid": "ec7bfee5-dbf0-4d64-9d01-f0ada1e05947",
    "_uuid": "26fe0069-5e4d-4acf-9750-0e263828b1cc",
    "execution": {
     "iopub.execute_input": "2020-08-25T16:10:31.832977Z",
     "iopub.status.busy": "2020-08-25T16:10:31.826847Z",
     "iopub.status.idle": "2020-08-25T16:10:31.843521Z",
     "shell.execute_reply": "2020-08-25T16:10:31.844180Z"
    },
    "papermill": {
     "duration": 0.058887,
     "end_time": "2020-08-25T16:10:31.844353",
     "exception": false,
     "start_time": "2020-08-25T16:10:31.785466",
     "status": "completed"
    },
    "tags": []
   },
   "outputs": [
    {
     "data": {
      "text/html": [
       "<div>\n",
       "<style scoped>\n",
       "    .dataframe tbody tr th:only-of-type {\n",
       "        vertical-align: middle;\n",
       "    }\n",
       "\n",
       "    .dataframe tbody tr th {\n",
       "        vertical-align: top;\n",
       "    }\n",
       "\n",
       "    .dataframe thead th {\n",
       "        text-align: right;\n",
       "    }\n",
       "</style>\n",
       "<table border=\"1\" class=\"dataframe\">\n",
       "  <thead>\n",
       "    <tr style=\"text-align: right;\">\n",
       "      <th></th>\n",
       "      <th>Input Store</th>\n",
       "      <th>Comparison Store</th>\n",
       "      <th>Measure</th>\n",
       "      <th>Correlation</th>\n",
       "    </tr>\n",
       "  </thead>\n",
       "  <tbody>\n",
       "    <tr>\n",
       "      <th>0</th>\n",
       "      <td>77</td>\n",
       "      <td>1</td>\n",
       "      <td>totSales</td>\n",
       "      <td>0.075218</td>\n",
       "    </tr>\n",
       "    <tr>\n",
       "      <th>1</th>\n",
       "      <td>77</td>\n",
       "      <td>2</td>\n",
       "      <td>totSales</td>\n",
       "      <td>-0.263079</td>\n",
       "    </tr>\n",
       "    <tr>\n",
       "      <th>2</th>\n",
       "      <td>77</td>\n",
       "      <td>3</td>\n",
       "      <td>totSales</td>\n",
       "      <td>0.806644</td>\n",
       "    </tr>\n",
       "    <tr>\n",
       "      <th>3</th>\n",
       "      <td>77</td>\n",
       "      <td>4</td>\n",
       "      <td>totSales</td>\n",
       "      <td>-0.263300</td>\n",
       "    </tr>\n",
       "    <tr>\n",
       "      <th>4</th>\n",
       "      <td>77</td>\n",
       "      <td>5</td>\n",
       "      <td>totSales</td>\n",
       "      <td>-0.110652</td>\n",
       "    </tr>\n",
       "    <tr>\n",
       "      <th>...</th>\n",
       "      <td>...</td>\n",
       "      <td>...</td>\n",
       "      <td>...</td>\n",
       "      <td>...</td>\n",
       "    </tr>\n",
       "    <tr>\n",
       "      <th>775</th>\n",
       "      <td>88</td>\n",
       "      <td>268</td>\n",
       "      <td>nCustomers</td>\n",
       "      <td>0.672672</td>\n",
       "    </tr>\n",
       "    <tr>\n",
       "      <th>776</th>\n",
       "      <td>88</td>\n",
       "      <td>269</td>\n",
       "      <td>nCustomers</td>\n",
       "      <td>-0.274781</td>\n",
       "    </tr>\n",
       "    <tr>\n",
       "      <th>777</th>\n",
       "      <td>88</td>\n",
       "      <td>270</td>\n",
       "      <td>nCustomers</td>\n",
       "      <td>-0.103032</td>\n",
       "    </tr>\n",
       "    <tr>\n",
       "      <th>778</th>\n",
       "      <td>88</td>\n",
       "      <td>271</td>\n",
       "      <td>nCustomers</td>\n",
       "      <td>-0.018831</td>\n",
       "    </tr>\n",
       "    <tr>\n",
       "      <th>779</th>\n",
       "      <td>88</td>\n",
       "      <td>272</td>\n",
       "      <td>nCustomers</td>\n",
       "      <td>0.026909</td>\n",
       "    </tr>\n",
       "  </tbody>\n",
       "</table>\n",
       "<p>1560 rows × 4 columns</p>\n",
       "</div>"
      ],
      "text/plain": [
       "    Input Store Comparison Store     Measure  Correlation\n",
       "0            77                1    totSales     0.075218\n",
       "1            77                2    totSales    -0.263079\n",
       "2            77                3    totSales     0.806644\n",
       "3            77                4    totSales    -0.263300\n",
       "4            77                5    totSales    -0.110652\n",
       "..          ...              ...         ...          ...\n",
       "775          88              268  nCustomers     0.672672\n",
       "776          88              269  nCustomers    -0.274781\n",
       "777          88              270  nCustomers    -0.103032\n",
       "778          88              271  nCustomers    -0.018831\n",
       "779          88              272  nCustomers     0.026909\n",
       "\n",
       "[1560 rows x 4 columns]"
      ]
     },
     "execution_count": 17,
     "metadata": {},
     "output_type": "execute_result"
    }
   ],
   "source": [
    "# corr_table = pd.concat([corr_table_totSales, corr_table_nCustomers, corr_table_nTxnPerCust, corr_table_nChipsPerTxns, corr_table_avgPricePerUnit], axis=0)\n",
    "corr_table = pd.concat([corr_table_totSales, corr_table_nCustomers], axis=0)\n",
    "corr_table"
   ]
  },
  {
   "cell_type": "markdown",
   "execution_count": null,
   "metadata": {
    "_cell_guid": "aedf4868-ea1b-484c-b82d-a45807ad5546",
    "_uuid": "db719275-460a-4d50-bd4a-dd1e883f7081",
    "papermill": {
     "duration": 0.034278,
     "end_time": "2020-08-25T16:10:31.913013",
     "exception": false,
     "start_time": "2020-08-25T16:10:31.878735",
     "status": "completed"
    },
    "tags": []
   },
   "source": [
    "## Standardised magnitude distance\n",
    "\n",
    "Apart from correlation I will use a standardised metric based on the absolute diffrence between the trial store's performance and comparison store's performance."
   ]
  },
  {
   "cell_type": "code",
   "execution_count": 18,
   "metadata": {
    "_cell_guid": "f8a988cc-495a-46f9-9e3a-674ca40cd161",
    "_uuid": "c51a1442-c1cd-49d8-a2cc-9432317a3a57",
    "execution": {
     "iopub.execute_input": "2020-08-25T16:10:31.988603Z",
     "iopub.status.busy": "2020-08-25T16:10:31.987744Z",
     "iopub.status.idle": "2020-08-25T16:10:31.991984Z",
     "shell.execute_reply": "2020-08-25T16:10:31.991235Z"
    },
    "papermill": {
     "duration": 0.045185,
     "end_time": "2020-08-25T16:10:31.992119",
     "exception": false,
     "start_time": "2020-08-25T16:10:31.946934",
     "status": "completed"
    },
    "tags": []
   },
   "outputs": [
    {
     "data": {
      "text/plain": [
       "<PeriodArray>\n",
       "['2018-07', '2018-08', '2018-09', '2018-10', '2018-11', '2018-12', '2019-01']\n",
       "Length: 7, dtype: period[M]"
      ]
     },
     "execution_count": 18,
     "metadata": {},
     "output_type": "execute_result"
    }
   ],
   "source": [
    "month_year = preTrialMeasures.month_year.unique()\n",
    "month_year"
   ]
  },
  {
   "cell_type": "markdown",
   "execution_count": null,
   "metadata": {
    "_cell_guid": "c9a83936-ca8e-4d74-aee7-f45d24ecd497",
    "_uuid": "0f086161-ed19-4334-b1b3-37f5b8da90ea",
    "papermill": {
     "duration": 0.033848,
     "end_time": "2020-08-25T16:10:32.060834",
     "exception": false,
     "start_time": "2020-08-25T16:10:32.026986",
     "status": "completed"
    },
    "tags": []
   },
   "source": [
    "### Function that computes the absolute distance"
   ]
  },
  {
   "cell_type": "code",
   "execution_count": 19,
   "metadata": {
    "_cell_guid": "8960b27f-cffd-4932-9d62-79715e377dba",
    "_uuid": "ba8c887e-61ab-4963-b547-3796f9bdc80c",
    "execution": {
     "iopub.execute_input": "2020-08-25T16:10:32.143810Z",
     "iopub.status.busy": "2020-08-25T16:10:32.143019Z",
     "iopub.status.idle": "2020-08-25T16:10:32.146076Z",
     "shell.execute_reply": "2020-08-25T16:10:32.146625Z"
    },
    "papermill": {
     "duration": 0.051042,
     "end_time": "2020-08-25T16:10:32.146805",
     "exception": false,
     "start_time": "2020-08-25T16:10:32.095763",
     "status": "completed"
    },
    "tags": []
   },
   "outputs": [],
   "source": [
    "def calc_distance( measure):\n",
    "    distanceTable = pd.DataFrame( columns = ['Input Store','Comparison Store', 'Year Month', 'Measure', 'Distance'])\n",
    "    for i in trial_stores_number:\n",
    "        for j in comparison_stores_number:\n",
    "            for month in month_year:\n",
    "                trial_store_measures = preTrialMeasures.loc[ (preTrialMeasures.STORE_NBR == i) &  (preTrialMeasures.month_year == month), measure].values[0]\n",
    "                comparison_store_measures = preTrialMeasures.loc[ (preTrialMeasures.STORE_NBR == j) &  (preTrialMeasures.month_year == month), measure].values[0]\n",
    "                distance = trial_store_measures - comparison_store_measures\n",
    "                distanceTable = distanceTable.append({\n",
    "                    'Input Store': i, \n",
    "                    'Comparison Store': j, \n",
    "                    'Year Month': month,\n",
    "                    'Measure' : measure,\n",
    "                    'Distance' : abs(distance)}, ignore_index = True )\n",
    "    return distanceTable"
   ]
  },
  {
   "cell_type": "markdown",
   "execution_count": null,
   "metadata": {
    "_cell_guid": "90efdffd-643c-47c3-b8b2-2ff8c4bfc409",
    "_uuid": "5dbdee84-8970-4213-8ca4-cb11ef320d79",
    "papermill": {
     "duration": 0.034598,
     "end_time": "2020-08-25T16:10:32.216478",
     "exception": false,
     "start_time": "2020-08-25T16:10:32.181880",
     "status": "completed"
    },
    "tags": []
   },
   "source": [
    " I will standardise the magnitude distance so that the measure ranges from 0 to 1."
   ]
  },
  {
   "cell_type": "code",
   "execution_count": 20,
   "metadata": {
    "_cell_guid": "cca6d820-1c57-479e-9ffe-eb8faa56cb4b",
    "_uuid": "8d8acaba-5f41-4308-ac30-2b2b410c2c16",
    "execution": {
     "iopub.execute_input": "2020-08-25T16:10:32.317261Z",
     "iopub.status.busy": "2020-08-25T16:10:32.303983Z",
     "iopub.status.idle": "2020-08-25T16:11:04.953640Z",
     "shell.execute_reply": "2020-08-25T16:11:04.954241Z"
    },
    "papermill": {
     "duration": 32.702301,
     "end_time": "2020-08-25T16:11:04.954427",
     "exception": false,
     "start_time": "2020-08-25T16:10:32.252126",
     "status": "completed"
    },
    "tags": []
   },
   "outputs": [
    {
     "data": {
      "text/html": [
       "<div>\n",
       "<style scoped>\n",
       "    .dataframe tbody tr th:only-of-type {\n",
       "        vertical-align: middle;\n",
       "    }\n",
       "\n",
       "    .dataframe tbody tr th {\n",
       "        vertical-align: top;\n",
       "    }\n",
       "\n",
       "    .dataframe thead th {\n",
       "        text-align: right;\n",
       "    }\n",
       "</style>\n",
       "<table border=\"1\" class=\"dataframe\">\n",
       "  <thead>\n",
       "    <tr style=\"text-align: right;\">\n",
       "      <th></th>\n",
       "      <th>Input Store</th>\n",
       "      <th>Comparison Store</th>\n",
       "      <th>Measure</th>\n",
       "      <th>DistanceStand</th>\n",
       "    </tr>\n",
       "  </thead>\n",
       "  <tbody>\n",
       "    <tr>\n",
       "      <th>0</th>\n",
       "      <td>77</td>\n",
       "      <td>1</td>\n",
       "      <td>totSales</td>\n",
       "      <td>0.957554</td>\n",
       "    </tr>\n",
       "    <tr>\n",
       "      <th>1</th>\n",
       "      <td>77</td>\n",
       "      <td>2</td>\n",
       "      <td>totSales</td>\n",
       "      <td>0.942248</td>\n",
       "    </tr>\n",
       "    <tr>\n",
       "      <th>2</th>\n",
       "      <td>77</td>\n",
       "      <td>3</td>\n",
       "      <td>totSales</td>\n",
       "      <td>0.410112</td>\n",
       "    </tr>\n",
       "    <tr>\n",
       "      <th>3</th>\n",
       "      <td>77</td>\n",
       "      <td>4</td>\n",
       "      <td>totSales</td>\n",
       "      <td>0.248056</td>\n",
       "    </tr>\n",
       "    <tr>\n",
       "      <th>4</th>\n",
       "      <td>77</td>\n",
       "      <td>5</td>\n",
       "      <td>totSales</td>\n",
       "      <td>0.590956</td>\n",
       "    </tr>\n",
       "    <tr>\n",
       "      <th>...</th>\n",
       "      <td>...</td>\n",
       "      <td>...</td>\n",
       "      <td>...</td>\n",
       "      <td>...</td>\n",
       "    </tr>\n",
       "    <tr>\n",
       "      <th>775</th>\n",
       "      <td>88</td>\n",
       "      <td>268</td>\n",
       "      <td>totSales</td>\n",
       "      <td>0.206901</td>\n",
       "    </tr>\n",
       "    <tr>\n",
       "      <th>776</th>\n",
       "      <td>88</td>\n",
       "      <td>269</td>\n",
       "      <td>totSales</td>\n",
       "      <td>0.724743</td>\n",
       "    </tr>\n",
       "    <tr>\n",
       "      <th>777</th>\n",
       "      <td>88</td>\n",
       "      <td>270</td>\n",
       "      <td>totSales</td>\n",
       "      <td>0.728129</td>\n",
       "    </tr>\n",
       "    <tr>\n",
       "      <th>778</th>\n",
       "      <td>88</td>\n",
       "      <td>271</td>\n",
       "      <td>totSales</td>\n",
       "      <td>0.633696</td>\n",
       "    </tr>\n",
       "    <tr>\n",
       "      <th>779</th>\n",
       "      <td>88</td>\n",
       "      <td>272</td>\n",
       "      <td>totSales</td>\n",
       "      <td>0.327902</td>\n",
       "    </tr>\n",
       "  </tbody>\n",
       "</table>\n",
       "<p>780 rows × 4 columns</p>\n",
       "</div>"
      ],
      "text/plain": [
       "     Input Store  Comparison Store   Measure  DistanceStand\n",
       "0             77                 1  totSales       0.957554\n",
       "1             77                 2  totSales       0.942248\n",
       "2             77                 3  totSales       0.410112\n",
       "3             77                 4  totSales       0.248056\n",
       "4             77                 5  totSales       0.590956\n",
       "..           ...               ...       ...            ...\n",
       "775           88               268  totSales       0.206901\n",
       "776           88               269  totSales       0.724743\n",
       "777           88               270  totSales       0.728129\n",
       "778           88               271  totSales       0.633696\n",
       "779           88               272  totSales       0.327902\n",
       "\n",
       "[780 rows x 4 columns]"
      ]
     },
     "execution_count": 20,
     "metadata": {},
     "output_type": "execute_result"
    }
   ],
   "source": [
    "distance_table_totSales = calc_distance('totSales')\n",
    "distance_table_totSales\n",
    "distance = distance_table_totSales.Distance\n",
    "min_distance = distance.min()\n",
    "max_distance = distance.max()\n",
    "\n",
    "distance_table_totSales['DistanceStand'] = 1 - (distance - min_distance)/(max_distance - min_distance)\n",
    "\n",
    "distance_table_totSales_grouped = distance_table_totSales.groupby(['Input Store', 'Comparison Store','Measure'], as_index = False).DistanceStand.mean()\n",
    "distance_table_totSales_grouped"
   ]
  },
  {
   "cell_type": "code",
   "execution_count": 21,
   "metadata": {
    "_cell_guid": "b3bf234a-6bd5-43ec-9fe8-4e80ad5924bb",
    "_uuid": "4adb35ee-5b85-42cd-8d15-e22881f8f481",
    "execution": {
     "iopub.execute_input": "2020-08-25T16:11:05.069102Z",
     "iopub.status.busy": "2020-08-25T16:11:05.063024Z",
     "iopub.status.idle": "2020-08-25T16:11:39.652560Z",
     "shell.execute_reply": "2020-08-25T16:11:39.653168Z"
    },
    "papermill": {
     "duration": 34.664539,
     "end_time": "2020-08-25T16:11:39.653339",
     "exception": false,
     "start_time": "2020-08-25T16:11:04.988800",
     "status": "completed"
    },
    "tags": []
   },
   "outputs": [
    {
     "data": {
      "text/html": [
       "<div>\n",
       "<style scoped>\n",
       "    .dataframe tbody tr th:only-of-type {\n",
       "        vertical-align: middle;\n",
       "    }\n",
       "\n",
       "    .dataframe tbody tr th {\n",
       "        vertical-align: top;\n",
       "    }\n",
       "\n",
       "    .dataframe thead th {\n",
       "        text-align: right;\n",
       "    }\n",
       "</style>\n",
       "<table border=\"1\" class=\"dataframe\">\n",
       "  <thead>\n",
       "    <tr style=\"text-align: right;\">\n",
       "      <th></th>\n",
       "      <th>Input Store</th>\n",
       "      <th>Comparison Store</th>\n",
       "      <th>Measure</th>\n",
       "      <th>DistanceStand</th>\n",
       "    </tr>\n",
       "  </thead>\n",
       "  <tbody>\n",
       "    <tr>\n",
       "      <th>0</th>\n",
       "      <td>77</td>\n",
       "      <td>1</td>\n",
       "      <td>nCustomers</td>\n",
       "      <td>0.955703</td>\n",
       "    </tr>\n",
       "    <tr>\n",
       "      <th>1</th>\n",
       "      <td>77</td>\n",
       "      <td>2</td>\n",
       "      <td>nCustomers</td>\n",
       "      <td>0.943522</td>\n",
       "    </tr>\n",
       "    <tr>\n",
       "      <th>2</th>\n",
       "      <td>77</td>\n",
       "      <td>3</td>\n",
       "      <td>nCustomers</td>\n",
       "      <td>0.507198</td>\n",
       "    </tr>\n",
       "    <tr>\n",
       "      <th>3</th>\n",
       "      <td>77</td>\n",
       "      <td>4</td>\n",
       "      <td>nCustomers</td>\n",
       "      <td>0.390919</td>\n",
       "    </tr>\n",
       "    <tr>\n",
       "      <th>4</th>\n",
       "      <td>77</td>\n",
       "      <td>5</td>\n",
       "      <td>nCustomers</td>\n",
       "      <td>0.610188</td>\n",
       "    </tr>\n",
       "    <tr>\n",
       "      <th>...</th>\n",
       "      <td>...</td>\n",
       "      <td>...</td>\n",
       "      <td>...</td>\n",
       "      <td>...</td>\n",
       "    </tr>\n",
       "    <tr>\n",
       "      <th>775</th>\n",
       "      <td>88</td>\n",
       "      <td>268</td>\n",
       "      <td>nCustomers</td>\n",
       "      <td>0.362126</td>\n",
       "    </tr>\n",
       "    <tr>\n",
       "      <th>776</th>\n",
       "      <td>88</td>\n",
       "      <td>269</td>\n",
       "      <td>nCustomers</td>\n",
       "      <td>0.851606</td>\n",
       "    </tr>\n",
       "    <tr>\n",
       "      <th>777</th>\n",
       "      <td>88</td>\n",
       "      <td>270</td>\n",
       "      <td>nCustomers</td>\n",
       "      <td>0.838317</td>\n",
       "    </tr>\n",
       "    <tr>\n",
       "      <th>778</th>\n",
       "      <td>88</td>\n",
       "      <td>271</td>\n",
       "      <td>nCustomers</td>\n",
       "      <td>0.747508</td>\n",
       "    </tr>\n",
       "    <tr>\n",
       "      <th>779</th>\n",
       "      <td>88</td>\n",
       "      <td>272</td>\n",
       "      <td>nCustomers</td>\n",
       "      <td>0.359911</td>\n",
       "    </tr>\n",
       "  </tbody>\n",
       "</table>\n",
       "<p>780 rows × 4 columns</p>\n",
       "</div>"
      ],
      "text/plain": [
       "     Input Store  Comparison Store     Measure  DistanceStand\n",
       "0             77                 1  nCustomers       0.955703\n",
       "1             77                 2  nCustomers       0.943522\n",
       "2             77                 3  nCustomers       0.507198\n",
       "3             77                 4  nCustomers       0.390919\n",
       "4             77                 5  nCustomers       0.610188\n",
       "..           ...               ...         ...            ...\n",
       "775           88               268  nCustomers       0.362126\n",
       "776           88               269  nCustomers       0.851606\n",
       "777           88               270  nCustomers       0.838317\n",
       "778           88               271  nCustomers       0.747508\n",
       "779           88               272  nCustomers       0.359911\n",
       "\n",
       "[780 rows x 4 columns]"
      ]
     },
     "execution_count": 21,
     "metadata": {},
     "output_type": "execute_result"
    }
   ],
   "source": [
    "distance_table_nCustomers = calc_distance('nCustomers')\n",
    "distance_table_nCustomers\n",
    "\n",
    "distance_table_nCustomers['Distance']= distance_table_nCustomers.Distance.astype(int)\n",
    "\n",
    "distance = distance_table_nCustomers.Distance\n",
    "min_distance = distance.min()\n",
    "max_distance = distance.max()\n",
    "\n",
    "distance_table_nCustomers['DistanceStand'] = 1 - (distance - min_distance)/(max_distance - min_distance)\n",
    "\n",
    "distance_table_nCustomers_grouped = distance_table_nCustomers.groupby(['Input Store', 'Comparison Store', 'Measure'], as_index = False).DistanceStand.mean()\n",
    "distance_table_nCustomers_grouped"
   ]
  },
  {
   "cell_type": "code",
   "execution_count": 22,
   "metadata": {
    "_cell_guid": "0e3d8da5-92ba-4b34-a62c-4c1a19348d9e",
    "_uuid": "34e24427-aae0-4ae0-89f0-52a6cf730f3d",
    "execution": {
     "iopub.execute_input": "2020-08-25T16:11:39.729985Z",
     "iopub.status.busy": "2020-08-25T16:11:39.728899Z",
     "iopub.status.idle": "2020-08-25T16:11:39.732311Z",
     "shell.execute_reply": "2020-08-25T16:11:39.731680Z"
    },
    "papermill": {
     "duration": 0.04429,
     "end_time": "2020-08-25T16:11:39.732452",
     "exception": false,
     "start_time": "2020-08-25T16:11:39.688162",
     "status": "completed"
    },
    "tags": []
   },
   "outputs": [],
   "source": [
    "# distance_table_nTxnPerCust = calc_distance('nTxnPerCust')\n",
    "# distance_table_nTxnPerCust\n",
    "\n",
    "# distance = distance_table_nTxnPerCust.Distance\n",
    "# min_distance = distance.min()\n",
    "# max_distance = distance.max()\n",
    "\n",
    "# distance_table_nTxnPerCust['DistanceStand'] = 1 - (distance - min_distance)/(max_distance - min_distance)\n",
    "# distance_table_nTxnPerCust\n",
    "\n",
    "# distance_table_nTxnPerCust_grouped = distance_table_nTxnPerCust.groupby(['Input Store', 'Comparison Store', 'Measure'], as_index = False).DistanceStand.mean()\n",
    "# distance_table_nTxnPerCust_grouped"
   ]
  },
  {
   "cell_type": "code",
   "execution_count": 23,
   "metadata": {
    "_cell_guid": "73aadf5a-7d55-481a-8e72-2f346cfdc79b",
    "_uuid": "00bdd920-d66a-4311-8956-b45d0c9e1be1",
    "execution": {
     "iopub.execute_input": "2020-08-25T16:11:39.810625Z",
     "iopub.status.busy": "2020-08-25T16:11:39.809616Z",
     "iopub.status.idle": "2020-08-25T16:11:39.812914Z",
     "shell.execute_reply": "2020-08-25T16:11:39.812218Z"
    },
    "papermill": {
     "duration": 0.045494,
     "end_time": "2020-08-25T16:11:39.813042",
     "exception": false,
     "start_time": "2020-08-25T16:11:39.767548",
     "status": "completed"
    },
    "tags": []
   },
   "outputs": [],
   "source": [
    "# distance_table_nChipsPerTxn = calc_distance('nChipsPerTxn')\n",
    "# distance_table_nChipsPerTxn\n",
    "\n",
    "# distance = distance_table_nChipsPerTxn.Distance\n",
    "# min_distance = distance.min()\n",
    "# max_distance = distance.max()\n",
    "\n",
    "# distance_table_nChipsPerTxn['DistanceStand'] = 1 - (distance - min_distance)/(max_distance - min_distance)\n",
    "# distance_table_nChipsPerTxn\n",
    "\n",
    "# distance_table_nChipsPerTxn_grouped = distance_table_nChipsPerTxn.groupby(['Input Store', 'Comparison Store', 'Measure'], as_index = False).DistanceStand.mean()\n",
    "# distance_table_nChipsPerTxn_grouped"
   ]
  },
  {
   "cell_type": "code",
   "execution_count": 24,
   "metadata": {
    "_cell_guid": "32801737-51ed-43a2-94c5-ade647290794",
    "_uuid": "bb7cf346-d20c-4aca-8695-0bef9cb01de9",
    "execution": {
     "iopub.execute_input": "2020-08-25T16:11:39.888242Z",
     "iopub.status.busy": "2020-08-25T16:11:39.887463Z",
     "iopub.status.idle": "2020-08-25T16:11:39.890578Z",
     "shell.execute_reply": "2020-08-25T16:11:39.889830Z"
    },
    "papermill": {
     "duration": 0.042559,
     "end_time": "2020-08-25T16:11:39.890707",
     "exception": false,
     "start_time": "2020-08-25T16:11:39.848148",
     "status": "completed"
    },
    "tags": []
   },
   "outputs": [],
   "source": [
    "# distance_table_avgPricePerUnit = calc_distance('avgPricePerUnit')\n",
    "# distance_table_avgPricePerUnit\n",
    "\n",
    "# distance = distance_table_avgPricePerUnit.Distance\n",
    "# min_distance = distance.min()\n",
    "# max_distance = distance.max()\n",
    "\n",
    "# distance_table_avgPricePerUnit['DistanceStand'] = 1 - (distance - min_distance)/(max_distance - min_distance)\n",
    "# distance_table_avgPricePerUnit\n",
    "\n",
    "# distance_table_avgPricePerUnit_grouped = distance_table_avgPricePerUnit.groupby(['Input Store', 'Comparison Store', 'Measure'], as_index = False).DistanceStand.mean()\n",
    "# distance_table_avgPricePerUnit_grouped"
   ]
  },
  {
   "cell_type": "code",
   "execution_count": 25,
   "metadata": {
    "_cell_guid": "cbd49d9c-a3e1-4772-a109-0eb522280118",
    "_uuid": "72b0a756-ec99-458d-92ee-544e501b643c",
    "execution": {
     "iopub.execute_input": "2020-08-25T16:11:39.968506Z",
     "iopub.status.busy": "2020-08-25T16:11:39.967496Z",
     "iopub.status.idle": "2020-08-25T16:11:39.970645Z",
     "shell.execute_reply": "2020-08-25T16:11:39.970027Z"
    },
    "papermill": {
     "duration": 0.045122,
     "end_time": "2020-08-25T16:11:39.970778",
     "exception": false,
     "start_time": "2020-08-25T16:11:39.925656",
     "status": "completed"
    },
    "tags": []
   },
   "outputs": [],
   "source": [
    "# distance = pd.concat([distance_table_totSales_grouped, distance_table_nCustomers_grouped, distance_table_nTxnPerCust_grouped, distance_table_nChipsPerTxn_grouped, distance_table_avgPricePerUnit_grouped], axis=0)\n",
    "distance = pd.concat([distance_table_totSales_grouped, distance_table_nCustomers_grouped], axis=0)"
   ]
  },
  {
   "cell_type": "markdown",
   "execution_count": null,
   "metadata": {
    "_cell_guid": "ea2e3686-10c2-43df-8333-1cbc55d82893",
    "_uuid": "568359a6-af1e-4b95-b8e7-9c15f171cb39",
    "papermill": {
     "duration": 0.035189,
     "end_time": "2020-08-25T16:11:40.041488",
     "exception": false,
     "start_time": "2020-08-25T16:11:40.006299",
     "status": "completed"
    },
    "tags": []
   },
   "source": [
    "### Merge of the 2 tables with metrics : correlation and standardised absolute distance"
   ]
  },
  {
   "cell_type": "code",
   "execution_count": 26,
   "metadata": {
    "_cell_guid": "f1a7cc58-96d5-411d-a8b4-755c9008d830",
    "_uuid": "9cc04e9e-cbae-46b2-b042-8bc5715bae99",
    "execution": {
     "iopub.execute_input": "2020-08-25T16:11:40.119336Z",
     "iopub.status.busy": "2020-08-25T16:11:40.118550Z",
     "iopub.status.idle": "2020-08-25T16:11:40.122760Z",
     "shell.execute_reply": "2020-08-25T16:11:40.122126Z"
    },
    "papermill": {
     "duration": 0.045972,
     "end_time": "2020-08-25T16:11:40.122948",
     "exception": false,
     "start_time": "2020-08-25T16:11:40.076976",
     "status": "completed"
    },
    "tags": []
   },
   "outputs": [],
   "source": [
    "scores =  pd.concat([corr_table, distance], axis=1)"
   ]
  },
  {
   "cell_type": "code",
   "execution_count": 27,
   "metadata": {
    "_cell_guid": "53cbd308-48f9-4641-ab74-5e688317b4cd",
    "_uuid": "eccb9c4e-f477-4d0c-8866-cfe67693efe4",
    "execution": {
     "iopub.execute_input": "2020-08-25T16:11:40.200231Z",
     "iopub.status.busy": "2020-08-25T16:11:40.199219Z",
     "iopub.status.idle": "2020-08-25T16:11:40.203274Z",
     "shell.execute_reply": "2020-08-25T16:11:40.203916Z"
    },
    "papermill": {
     "duration": 0.045861,
     "end_time": "2020-08-25T16:11:40.204091",
     "exception": false,
     "start_time": "2020-08-25T16:11:40.158230",
     "status": "completed"
    },
    "tags": []
   },
   "outputs": [
    {
     "data": {
      "text/plain": [
       "(1560, 8)"
      ]
     },
     "execution_count": 27,
     "metadata": {},
     "output_type": "execute_result"
    }
   ],
   "source": [
    "scores.shape"
   ]
  },
  {
   "cell_type": "code",
   "execution_count": 28,
   "metadata": {
    "_cell_guid": "cdb98bde-da07-4825-933c-87e14151de5d",
    "_uuid": "b5862889-c43f-464a-8385-025ab71cf028",
    "execution": {
     "iopub.execute_input": "2020-08-25T16:11:40.300490Z",
     "iopub.status.busy": "2020-08-25T16:11:40.291122Z",
     "iopub.status.idle": "2020-08-25T16:11:40.304314Z",
     "shell.execute_reply": "2020-08-25T16:11:40.304838Z"
    },
    "papermill": {
     "duration": 0.065532,
     "end_time": "2020-08-25T16:11:40.305021",
     "exception": false,
     "start_time": "2020-08-25T16:11:40.239489",
     "status": "completed"
    },
    "tags": []
   },
   "outputs": [
    {
     "data": {
      "text/html": [
       "<div>\n",
       "<style scoped>\n",
       "    .dataframe tbody tr th:only-of-type {\n",
       "        vertical-align: middle;\n",
       "    }\n",
       "\n",
       "    .dataframe tbody tr th {\n",
       "        vertical-align: top;\n",
       "    }\n",
       "\n",
       "    .dataframe thead th {\n",
       "        text-align: right;\n",
       "    }\n",
       "</style>\n",
       "<table border=\"1\" class=\"dataframe\">\n",
       "  <thead>\n",
       "    <tr style=\"text-align: right;\">\n",
       "      <th></th>\n",
       "      <th>Input Store</th>\n",
       "      <th>Comparison Store</th>\n",
       "      <th>Measure</th>\n",
       "      <th>Correlation</th>\n",
       "      <th>Input Store</th>\n",
       "      <th>Comparison Store</th>\n",
       "      <th>Measure</th>\n",
       "      <th>DistanceStand</th>\n",
       "    </tr>\n",
       "  </thead>\n",
       "  <tbody>\n",
       "    <tr>\n",
       "      <th>0</th>\n",
       "      <td>77</td>\n",
       "      <td>1</td>\n",
       "      <td>totSales</td>\n",
       "      <td>0.075218</td>\n",
       "      <td>77</td>\n",
       "      <td>1</td>\n",
       "      <td>totSales</td>\n",
       "      <td>0.957554</td>\n",
       "    </tr>\n",
       "    <tr>\n",
       "      <th>1</th>\n",
       "      <td>77</td>\n",
       "      <td>2</td>\n",
       "      <td>totSales</td>\n",
       "      <td>-0.263079</td>\n",
       "      <td>77</td>\n",
       "      <td>2</td>\n",
       "      <td>totSales</td>\n",
       "      <td>0.942248</td>\n",
       "    </tr>\n",
       "    <tr>\n",
       "      <th>2</th>\n",
       "      <td>77</td>\n",
       "      <td>3</td>\n",
       "      <td>totSales</td>\n",
       "      <td>0.806644</td>\n",
       "      <td>77</td>\n",
       "      <td>3</td>\n",
       "      <td>totSales</td>\n",
       "      <td>0.410112</td>\n",
       "    </tr>\n",
       "    <tr>\n",
       "      <th>3</th>\n",
       "      <td>77</td>\n",
       "      <td>4</td>\n",
       "      <td>totSales</td>\n",
       "      <td>-0.263300</td>\n",
       "      <td>77</td>\n",
       "      <td>4</td>\n",
       "      <td>totSales</td>\n",
       "      <td>0.248056</td>\n",
       "    </tr>\n",
       "    <tr>\n",
       "      <th>4</th>\n",
       "      <td>77</td>\n",
       "      <td>5</td>\n",
       "      <td>totSales</td>\n",
       "      <td>-0.110652</td>\n",
       "      <td>77</td>\n",
       "      <td>5</td>\n",
       "      <td>totSales</td>\n",
       "      <td>0.590956</td>\n",
       "    </tr>\n",
       "    <tr>\n",
       "      <th>...</th>\n",
       "      <td>...</td>\n",
       "      <td>...</td>\n",
       "      <td>...</td>\n",
       "      <td>...</td>\n",
       "      <td>...</td>\n",
       "      <td>...</td>\n",
       "      <td>...</td>\n",
       "      <td>...</td>\n",
       "    </tr>\n",
       "    <tr>\n",
       "      <th>775</th>\n",
       "      <td>88</td>\n",
       "      <td>268</td>\n",
       "      <td>nCustomers</td>\n",
       "      <td>0.672672</td>\n",
       "      <td>88</td>\n",
       "      <td>268</td>\n",
       "      <td>nCustomers</td>\n",
       "      <td>0.362126</td>\n",
       "    </tr>\n",
       "    <tr>\n",
       "      <th>776</th>\n",
       "      <td>88</td>\n",
       "      <td>269</td>\n",
       "      <td>nCustomers</td>\n",
       "      <td>-0.274781</td>\n",
       "      <td>88</td>\n",
       "      <td>269</td>\n",
       "      <td>nCustomers</td>\n",
       "      <td>0.851606</td>\n",
       "    </tr>\n",
       "    <tr>\n",
       "      <th>777</th>\n",
       "      <td>88</td>\n",
       "      <td>270</td>\n",
       "      <td>nCustomers</td>\n",
       "      <td>-0.103032</td>\n",
       "      <td>88</td>\n",
       "      <td>270</td>\n",
       "      <td>nCustomers</td>\n",
       "      <td>0.838317</td>\n",
       "    </tr>\n",
       "    <tr>\n",
       "      <th>778</th>\n",
       "      <td>88</td>\n",
       "      <td>271</td>\n",
       "      <td>nCustomers</td>\n",
       "      <td>-0.018831</td>\n",
       "      <td>88</td>\n",
       "      <td>271</td>\n",
       "      <td>nCustomers</td>\n",
       "      <td>0.747508</td>\n",
       "    </tr>\n",
       "    <tr>\n",
       "      <th>779</th>\n",
       "      <td>88</td>\n",
       "      <td>272</td>\n",
       "      <td>nCustomers</td>\n",
       "      <td>0.026909</td>\n",
       "      <td>88</td>\n",
       "      <td>272</td>\n",
       "      <td>nCustomers</td>\n",
       "      <td>0.359911</td>\n",
       "    </tr>\n",
       "  </tbody>\n",
       "</table>\n",
       "<p>1560 rows × 8 columns</p>\n",
       "</div>"
      ],
      "text/plain": [
       "     Input Store  Comparison Store     Measure  Correlation  Input Store  \\\n",
       "0             77                 1    totSales     0.075218           77   \n",
       "1             77                 2    totSales    -0.263079           77   \n",
       "2             77                 3    totSales     0.806644           77   \n",
       "3             77                 4    totSales    -0.263300           77   \n",
       "4             77                 5    totSales    -0.110652           77   \n",
       "..           ...               ...         ...          ...          ...   \n",
       "775           88               268  nCustomers     0.672672           88   \n",
       "776           88               269  nCustomers    -0.274781           88   \n",
       "777           88               270  nCustomers    -0.103032           88   \n",
       "778           88               271  nCustomers    -0.018831           88   \n",
       "779           88               272  nCustomers     0.026909           88   \n",
       "\n",
       "     Comparison Store     Measure  DistanceStand  \n",
       "0                   1    totSales       0.957554  \n",
       "1                   2    totSales       0.942248  \n",
       "2                   3    totSales       0.410112  \n",
       "3                   4    totSales       0.248056  \n",
       "4                   5    totSales       0.590956  \n",
       "..                ...         ...            ...  \n",
       "775               268  nCustomers       0.362126  \n",
       "776               269  nCustomers       0.851606  \n",
       "777               270  nCustomers       0.838317  \n",
       "778               271  nCustomers       0.747508  \n",
       "779               272  nCustomers       0.359911  \n",
       "\n",
       "[1560 rows x 8 columns]"
      ]
     },
     "execution_count": 28,
     "metadata": {},
     "output_type": "execute_result"
    }
   ],
   "source": [
    "scores"
   ]
  },
  {
   "cell_type": "markdown",
   "execution_count": null,
   "metadata": {
    "_cell_guid": "e0348052-36eb-448c-84d7-245981b2b73f",
    "_uuid": "174553ce-71e3-4877-b28b-9be5c5582cce",
    "papermill": {
     "duration": 0.035599,
     "end_time": "2020-08-25T16:11:40.377664",
     "exception": false,
     "start_time": "2020-08-25T16:11:40.342065",
     "status": "completed"
    },
    "tags": []
   },
   "source": [
    "I will remove duplicated columns. I will use transpose function. That will return a dataframe with series of type object."
   ]
  },
  {
   "cell_type": "code",
   "execution_count": 29,
   "metadata": {
    "_cell_guid": "dbf73b9d-9795-4bfd-8b03-e554815b7fdc",
    "_uuid": "0b2be46e-2b41-4531-b5c3-d837ccc2fd81",
    "execution": {
     "iopub.execute_input": "2020-08-25T16:11:40.456581Z",
     "iopub.status.busy": "2020-08-25T16:11:40.455491Z",
     "iopub.status.idle": "2020-08-25T16:11:40.767145Z",
     "shell.execute_reply": "2020-08-25T16:11:40.767711Z"
    },
    "papermill": {
     "duration": 0.354147,
     "end_time": "2020-08-25T16:11:40.767907",
     "exception": false,
     "start_time": "2020-08-25T16:11:40.413760",
     "status": "completed"
    },
    "tags": []
   },
   "outputs": [],
   "source": [
    "scores_without_duplicates = scores.T.drop_duplicates().T"
   ]
  },
  {
   "cell_type": "markdown",
   "execution_count": null,
   "metadata": {
    "_cell_guid": "75f33887-bfbd-4c38-9fe5-c00622601e40",
    "_uuid": "8f510409-5751-4b87-b3ab-c1b128b7e2ee",
    "papermill": {
     "duration": 0.035259,
     "end_time": "2020-08-25T16:11:40.839075",
     "exception": false,
     "start_time": "2020-08-25T16:11:40.803816",
     "status": "completed"
    },
    "tags": []
   },
   "source": [
    "I will amke sure that the column's formats are correct."
   ]
  },
  {
   "cell_type": "code",
   "execution_count": 30,
   "metadata": {
    "_cell_guid": "ef2acc27-ecfc-4e03-9524-f82c3aad1f40",
    "_uuid": "8bef9c60-f908-4cff-b36b-29cab71c16c5",
    "execution": {
     "iopub.execute_input": "2020-08-25T16:11:40.931736Z",
     "iopub.status.busy": "2020-08-25T16:11:40.925268Z",
     "iopub.status.idle": "2020-08-25T16:11:40.936966Z",
     "shell.execute_reply": "2020-08-25T16:11:40.936221Z"
    },
    "papermill": {
     "duration": 0.062332,
     "end_time": "2020-08-25T16:11:40.937096",
     "exception": false,
     "start_time": "2020-08-25T16:11:40.874764",
     "status": "completed"
    },
    "tags": []
   },
   "outputs": [
    {
     "data": {
      "text/html": [
       "<div>\n",
       "<style scoped>\n",
       "    .dataframe tbody tr th:only-of-type {\n",
       "        vertical-align: middle;\n",
       "    }\n",
       "\n",
       "    .dataframe tbody tr th {\n",
       "        vertical-align: top;\n",
       "    }\n",
       "\n",
       "    .dataframe thead th {\n",
       "        text-align: right;\n",
       "    }\n",
       "</style>\n",
       "<table border=\"1\" class=\"dataframe\">\n",
       "  <thead>\n",
       "    <tr style=\"text-align: right;\">\n",
       "      <th></th>\n",
       "      <th>Input Store</th>\n",
       "      <th>Comparison Store</th>\n",
       "      <th>Measure</th>\n",
       "      <th>Correlation</th>\n",
       "      <th>DistanceStand</th>\n",
       "    </tr>\n",
       "  </thead>\n",
       "  <tbody>\n",
       "    <tr>\n",
       "      <th>0</th>\n",
       "      <td>77</td>\n",
       "      <td>1</td>\n",
       "      <td>totSales</td>\n",
       "      <td>0.075218</td>\n",
       "      <td>0.957554</td>\n",
       "    </tr>\n",
       "    <tr>\n",
       "      <th>1</th>\n",
       "      <td>77</td>\n",
       "      <td>2</td>\n",
       "      <td>totSales</td>\n",
       "      <td>-0.263079</td>\n",
       "      <td>0.942248</td>\n",
       "    </tr>\n",
       "    <tr>\n",
       "      <th>2</th>\n",
       "      <td>77</td>\n",
       "      <td>3</td>\n",
       "      <td>totSales</td>\n",
       "      <td>0.806644</td>\n",
       "      <td>0.410112</td>\n",
       "    </tr>\n",
       "    <tr>\n",
       "      <th>3</th>\n",
       "      <td>77</td>\n",
       "      <td>4</td>\n",
       "      <td>totSales</td>\n",
       "      <td>-0.263300</td>\n",
       "      <td>0.248056</td>\n",
       "    </tr>\n",
       "    <tr>\n",
       "      <th>4</th>\n",
       "      <td>77</td>\n",
       "      <td>5</td>\n",
       "      <td>totSales</td>\n",
       "      <td>-0.110652</td>\n",
       "      <td>0.590956</td>\n",
       "    </tr>\n",
       "    <tr>\n",
       "      <th>...</th>\n",
       "      <td>...</td>\n",
       "      <td>...</td>\n",
       "      <td>...</td>\n",
       "      <td>...</td>\n",
       "      <td>...</td>\n",
       "    </tr>\n",
       "    <tr>\n",
       "      <th>775</th>\n",
       "      <td>88</td>\n",
       "      <td>268</td>\n",
       "      <td>nCustomers</td>\n",
       "      <td>0.672672</td>\n",
       "      <td>0.362126</td>\n",
       "    </tr>\n",
       "    <tr>\n",
       "      <th>776</th>\n",
       "      <td>88</td>\n",
       "      <td>269</td>\n",
       "      <td>nCustomers</td>\n",
       "      <td>-0.274781</td>\n",
       "      <td>0.851606</td>\n",
       "    </tr>\n",
       "    <tr>\n",
       "      <th>777</th>\n",
       "      <td>88</td>\n",
       "      <td>270</td>\n",
       "      <td>nCustomers</td>\n",
       "      <td>-0.103032</td>\n",
       "      <td>0.838317</td>\n",
       "    </tr>\n",
       "    <tr>\n",
       "      <th>778</th>\n",
       "      <td>88</td>\n",
       "      <td>271</td>\n",
       "      <td>nCustomers</td>\n",
       "      <td>-0.018831</td>\n",
       "      <td>0.747508</td>\n",
       "    </tr>\n",
       "    <tr>\n",
       "      <th>779</th>\n",
       "      <td>88</td>\n",
       "      <td>272</td>\n",
       "      <td>nCustomers</td>\n",
       "      <td>0.026909</td>\n",
       "      <td>0.359911</td>\n",
       "    </tr>\n",
       "  </tbody>\n",
       "</table>\n",
       "<p>1560 rows × 5 columns</p>\n",
       "</div>"
      ],
      "text/plain": [
       "    Input Store Comparison Store     Measure  Correlation  DistanceStand\n",
       "0            77                1    totSales     0.075218       0.957554\n",
       "1            77                2    totSales    -0.263079       0.942248\n",
       "2            77                3    totSales     0.806644       0.410112\n",
       "3            77                4    totSales    -0.263300       0.248056\n",
       "4            77                5    totSales    -0.110652       0.590956\n",
       "..          ...              ...         ...          ...            ...\n",
       "775          88              268  nCustomers     0.672672       0.362126\n",
       "776          88              269  nCustomers    -0.274781       0.851606\n",
       "777          88              270  nCustomers    -0.103032       0.838317\n",
       "778          88              271  nCustomers    -0.018831       0.747508\n",
       "779          88              272  nCustomers     0.026909       0.359911\n",
       "\n",
       "[1560 rows x 5 columns]"
      ]
     },
     "execution_count": 30,
     "metadata": {},
     "output_type": "execute_result"
    }
   ],
   "source": [
    "\n",
    "scores_without_duplicates.Correlation = scores_without_duplicates.Correlation.astype(float)\n",
    "scores_without_duplicates.DistanceStand = scores_without_duplicates.DistanceStand.astype(float)\n",
    "scores_without_duplicates"
   ]
  },
  {
   "cell_type": "markdown",
   "execution_count": null,
   "metadata": {
    "_cell_guid": "d9368c2d-d3f3-439c-bac4-51b2169455f2",
    "_uuid": "1e7055ef-ec49-4e6c-8b0c-fee5b7584517",
    "papermill": {
     "duration": 0.036229,
     "end_time": "2020-08-25T16:11:41.009625",
     "exception": false,
     "start_time": "2020-08-25T16:11:40.973396",
     "status": "completed"
    },
    "tags": []
   },
   "source": [
    "### Compute the rank as a weighted mean of correlation coefficient and standardised distance."
   ]
  },
  {
   "cell_type": "code",
   "execution_count": 31,
   "metadata": {
    "_cell_guid": "7be3cbb6-ed7b-4b30-841a-c44f78e6fc24",
    "_uuid": "e8634cc3-af7c-411c-a52f-790571b7fd55",
    "execution": {
     "iopub.execute_input": "2020-08-25T16:11:41.091374Z",
     "iopub.status.busy": "2020-08-25T16:11:41.090289Z",
     "iopub.status.idle": "2020-08-25T16:11:41.093751Z",
     "shell.execute_reply": "2020-08-25T16:11:41.093020Z"
    },
    "papermill": {
     "duration": 0.047741,
     "end_time": "2020-08-25T16:11:41.093891",
     "exception": false,
     "start_time": "2020-08-25T16:11:41.046150",
     "status": "completed"
    },
    "tags": []
   },
   "outputs": [],
   "source": [
    "scores_without_duplicates['Rank'] = 0.5 * scores_without_duplicates.Correlation + 0.5 * scores_without_duplicates.DistanceStand"
   ]
  },
  {
   "cell_type": "code",
   "execution_count": 32,
   "metadata": {
    "_cell_guid": "421eb28a-f70e-4fe4-a22f-9d57927c7997",
    "_uuid": "3a9cdf69-9675-4cac-917a-3ed6c4dc34ce",
    "execution": {
     "iopub.execute_input": "2020-08-25T16:11:41.186159Z",
     "iopub.status.busy": "2020-08-25T16:11:41.185217Z",
     "iopub.status.idle": "2020-08-25T16:11:41.190177Z",
     "shell.execute_reply": "2020-08-25T16:11:41.189570Z"
    },
    "papermill": {
     "duration": 0.060236,
     "end_time": "2020-08-25T16:11:41.190342",
     "exception": false,
     "start_time": "2020-08-25T16:11:41.130106",
     "status": "completed"
    },
    "tags": []
   },
   "outputs": [
    {
     "data": {
      "text/html": [
       "<div>\n",
       "<style scoped>\n",
       "    .dataframe tbody tr th:only-of-type {\n",
       "        vertical-align: middle;\n",
       "    }\n",
       "\n",
       "    .dataframe tbody tr th {\n",
       "        vertical-align: top;\n",
       "    }\n",
       "\n",
       "    .dataframe thead th {\n",
       "        text-align: right;\n",
       "    }\n",
       "</style>\n",
       "<table border=\"1\" class=\"dataframe\">\n",
       "  <thead>\n",
       "    <tr style=\"text-align: right;\">\n",
       "      <th></th>\n",
       "      <th>Input Store</th>\n",
       "      <th>Comparison Store</th>\n",
       "      <th>Measure</th>\n",
       "      <th>Correlation</th>\n",
       "      <th>DistanceStand</th>\n",
       "      <th>Rank</th>\n",
       "    </tr>\n",
       "  </thead>\n",
       "  <tbody>\n",
       "    <tr>\n",
       "      <th>0</th>\n",
       "      <td>77</td>\n",
       "      <td>1</td>\n",
       "      <td>totSales</td>\n",
       "      <td>0.075218</td>\n",
       "      <td>0.957554</td>\n",
       "      <td>0.516386</td>\n",
       "    </tr>\n",
       "    <tr>\n",
       "      <th>1</th>\n",
       "      <td>77</td>\n",
       "      <td>2</td>\n",
       "      <td>totSales</td>\n",
       "      <td>-0.263079</td>\n",
       "      <td>0.942248</td>\n",
       "      <td>0.339585</td>\n",
       "    </tr>\n",
       "    <tr>\n",
       "      <th>2</th>\n",
       "      <td>77</td>\n",
       "      <td>3</td>\n",
       "      <td>totSales</td>\n",
       "      <td>0.806644</td>\n",
       "      <td>0.410112</td>\n",
       "      <td>0.608378</td>\n",
       "    </tr>\n",
       "    <tr>\n",
       "      <th>3</th>\n",
       "      <td>77</td>\n",
       "      <td>4</td>\n",
       "      <td>totSales</td>\n",
       "      <td>-0.263300</td>\n",
       "      <td>0.248056</td>\n",
       "      <td>-0.007622</td>\n",
       "    </tr>\n",
       "    <tr>\n",
       "      <th>4</th>\n",
       "      <td>77</td>\n",
       "      <td>5</td>\n",
       "      <td>totSales</td>\n",
       "      <td>-0.110652</td>\n",
       "      <td>0.590956</td>\n",
       "      <td>0.240152</td>\n",
       "    </tr>\n",
       "    <tr>\n",
       "      <th>...</th>\n",
       "      <td>...</td>\n",
       "      <td>...</td>\n",
       "      <td>...</td>\n",
       "      <td>...</td>\n",
       "      <td>...</td>\n",
       "      <td>...</td>\n",
       "    </tr>\n",
       "    <tr>\n",
       "      <th>775</th>\n",
       "      <td>88</td>\n",
       "      <td>268</td>\n",
       "      <td>nCustomers</td>\n",
       "      <td>0.672672</td>\n",
       "      <td>0.362126</td>\n",
       "      <td>0.517399</td>\n",
       "    </tr>\n",
       "    <tr>\n",
       "      <th>776</th>\n",
       "      <td>88</td>\n",
       "      <td>269</td>\n",
       "      <td>nCustomers</td>\n",
       "      <td>-0.274781</td>\n",
       "      <td>0.851606</td>\n",
       "      <td>0.288413</td>\n",
       "    </tr>\n",
       "    <tr>\n",
       "      <th>777</th>\n",
       "      <td>88</td>\n",
       "      <td>270</td>\n",
       "      <td>nCustomers</td>\n",
       "      <td>-0.103032</td>\n",
       "      <td>0.838317</td>\n",
       "      <td>0.367642</td>\n",
       "    </tr>\n",
       "    <tr>\n",
       "      <th>778</th>\n",
       "      <td>88</td>\n",
       "      <td>271</td>\n",
       "      <td>nCustomers</td>\n",
       "      <td>-0.018831</td>\n",
       "      <td>0.747508</td>\n",
       "      <td>0.364339</td>\n",
       "    </tr>\n",
       "    <tr>\n",
       "      <th>779</th>\n",
       "      <td>88</td>\n",
       "      <td>272</td>\n",
       "      <td>nCustomers</td>\n",
       "      <td>0.026909</td>\n",
       "      <td>0.359911</td>\n",
       "      <td>0.193410</td>\n",
       "    </tr>\n",
       "  </tbody>\n",
       "</table>\n",
       "<p>1560 rows × 6 columns</p>\n",
       "</div>"
      ],
      "text/plain": [
       "    Input Store Comparison Store     Measure  Correlation  DistanceStand  \\\n",
       "0            77                1    totSales     0.075218       0.957554   \n",
       "1            77                2    totSales    -0.263079       0.942248   \n",
       "2            77                3    totSales     0.806644       0.410112   \n",
       "3            77                4    totSales    -0.263300       0.248056   \n",
       "4            77                5    totSales    -0.110652       0.590956   \n",
       "..          ...              ...         ...          ...            ...   \n",
       "775          88              268  nCustomers     0.672672       0.362126   \n",
       "776          88              269  nCustomers    -0.274781       0.851606   \n",
       "777          88              270  nCustomers    -0.103032       0.838317   \n",
       "778          88              271  nCustomers    -0.018831       0.747508   \n",
       "779          88              272  nCustomers     0.026909       0.359911   \n",
       "\n",
       "         Rank  \n",
       "0    0.516386  \n",
       "1    0.339585  \n",
       "2    0.608378  \n",
       "3   -0.007622  \n",
       "4    0.240152  \n",
       "..        ...  \n",
       "775  0.517399  \n",
       "776  0.288413  \n",
       "777  0.367642  \n",
       "778  0.364339  \n",
       "779  0.193410  \n",
       "\n",
       "[1560 rows x 6 columns]"
      ]
     },
     "execution_count": 32,
     "metadata": {},
     "output_type": "execute_result"
    }
   ],
   "source": [
    "scores_without_duplicates"
   ]
  },
  {
   "cell_type": "markdown",
   "execution_count": null,
   "metadata": {
    "_cell_guid": "8e8efd1c-5674-4df6-a639-171eea0ebe08",
    "_uuid": "79bf7400-a9a5-4234-a160-37db86ac5159",
    "papermill": {
     "duration": 0.036728,
     "end_time": "2020-08-25T16:11:41.263661",
     "exception": false,
     "start_time": "2020-08-25T16:11:41.226933",
     "status": "completed"
    },
    "tags": []
   },
   "source": [
    "## Selection of control stores based on the highest score"
   ]
  },
  {
   "cell_type": "code",
   "execution_count": 33,
   "metadata": {
    "_cell_guid": "0699f188-dc51-4027-854c-da01e8f1741f",
    "_uuid": "a5710bc1-7c14-49e7-9c03-6e4809b2022c",
    "execution": {
     "iopub.execute_input": "2020-08-25T16:11:41.353933Z",
     "iopub.status.busy": "2020-08-25T16:11:41.353152Z",
     "iopub.status.idle": "2020-08-25T16:11:41.374312Z",
     "shell.execute_reply": "2020-08-25T16:11:41.374837Z"
    },
    "papermill": {
     "duration": 0.074492,
     "end_time": "2020-08-25T16:11:41.375023",
     "exception": false,
     "start_time": "2020-08-25T16:11:41.300531",
     "status": "completed"
    },
    "tags": []
   },
   "outputs": [
    {
     "data": {
      "text/html": [
       "<div>\n",
       "<style scoped>\n",
       "    .dataframe tbody tr th:only-of-type {\n",
       "        vertical-align: middle;\n",
       "    }\n",
       "\n",
       "    .dataframe tbody tr th {\n",
       "        vertical-align: top;\n",
       "    }\n",
       "\n",
       "    .dataframe thead th {\n",
       "        text-align: right;\n",
       "    }\n",
       "</style>\n",
       "<table border=\"1\" class=\"dataframe\">\n",
       "  <thead>\n",
       "    <tr style=\"text-align: right;\">\n",
       "      <th></th>\n",
       "      <th>Input Store</th>\n",
       "      <th>Comparison Store</th>\n",
       "      <th>Rank</th>\n",
       "    </tr>\n",
       "  </thead>\n",
       "  <tbody>\n",
       "    <tr>\n",
       "      <th>0</th>\n",
       "      <td>77</td>\n",
       "      <td>1</td>\n",
       "      <td>0.577661</td>\n",
       "    </tr>\n",
       "    <tr>\n",
       "      <th>1</th>\n",
       "      <td>77</td>\n",
       "      <td>2</td>\n",
       "      <td>0.262660</td>\n",
       "    </tr>\n",
       "    <tr>\n",
       "      <th>2</th>\n",
       "      <td>77</td>\n",
       "      <td>3</td>\n",
       "      <td>0.639540</td>\n",
       "    </tr>\n",
       "    <tr>\n",
       "      <th>3</th>\n",
       "      <td>77</td>\n",
       "      <td>4</td>\n",
       "      <td>0.020009</td>\n",
       "    </tr>\n",
       "    <tr>\n",
       "      <th>4</th>\n",
       "      <td>77</td>\n",
       "      <td>5</td>\n",
       "      <td>0.365288</td>\n",
       "    </tr>\n",
       "    <tr>\n",
       "      <th>...</th>\n",
       "      <td>...</td>\n",
       "      <td>...</td>\n",
       "      <td>...</td>\n",
       "    </tr>\n",
       "    <tr>\n",
       "      <th>775</th>\n",
       "      <td>88</td>\n",
       "      <td>268</td>\n",
       "      <td>0.305068</td>\n",
       "    </tr>\n",
       "    <tr>\n",
       "      <th>776</th>\n",
       "      <td>88</td>\n",
       "      <td>269</td>\n",
       "      <td>0.282248</td>\n",
       "    </tr>\n",
       "    <tr>\n",
       "      <th>777</th>\n",
       "      <td>88</td>\n",
       "      <td>270</td>\n",
       "      <td>0.185036</td>\n",
       "    </tr>\n",
       "    <tr>\n",
       "      <th>778</th>\n",
       "      <td>88</td>\n",
       "      <td>271</td>\n",
       "      <td>0.314834</td>\n",
       "    </tr>\n",
       "    <tr>\n",
       "      <th>779</th>\n",
       "      <td>88</td>\n",
       "      <td>272</td>\n",
       "      <td>-0.014512</td>\n",
       "    </tr>\n",
       "  </tbody>\n",
       "</table>\n",
       "<p>780 rows × 3 columns</p>\n",
       "</div>"
      ],
      "text/plain": [
       "     Input Store  Comparison Store      Rank\n",
       "0             77                 1  0.577661\n",
       "1             77                 2  0.262660\n",
       "2             77                 3  0.639540\n",
       "3             77                 4  0.020009\n",
       "4             77                 5  0.365288\n",
       "..           ...               ...       ...\n",
       "775           88               268  0.305068\n",
       "776           88               269  0.282248\n",
       "777           88               270  0.185036\n",
       "778           88               271  0.314834\n",
       "779           88               272 -0.014512\n",
       "\n",
       "[780 rows x 3 columns]"
      ]
     },
     "execution_count": 33,
     "metadata": {},
     "output_type": "execute_result"
    }
   ],
   "source": [
    "wighted_ranks = scores_without_duplicates.groupby(['Input Store', 'Comparison Store'], as_index = False).Rank.mean()\n",
    "wighted_ranks"
   ]
  },
  {
   "cell_type": "code",
   "execution_count": 34,
   "metadata": {
    "_cell_guid": "5349f1e4-89be-4313-97f0-5f00a7236324",
    "_uuid": "756d7fbb-3956-41bf-9b95-784807073b99",
    "execution": {
     "iopub.execute_input": "2020-08-25T16:11:41.465599Z",
     "iopub.status.busy": "2020-08-25T16:11:41.464544Z",
     "iopub.status.idle": "2020-08-25T16:11:41.469383Z",
     "shell.execute_reply": "2020-08-25T16:11:41.468737Z"
    },
    "papermill": {
     "duration": 0.056933,
     "end_time": "2020-08-25T16:11:41.469511",
     "exception": false,
     "start_time": "2020-08-25T16:11:41.412578",
     "status": "completed"
    },
    "tags": []
   },
   "outputs": [
    {
     "data": {
      "text/html": [
       "<div>\n",
       "<style scoped>\n",
       "    .dataframe tbody tr th:only-of-type {\n",
       "        vertical-align: middle;\n",
       "    }\n",
       "\n",
       "    .dataframe tbody tr th {\n",
       "        vertical-align: top;\n",
       "    }\n",
       "\n",
       "    .dataframe thead th {\n",
       "        text-align: right;\n",
       "    }\n",
       "</style>\n",
       "<table border=\"1\" class=\"dataframe\">\n",
       "  <thead>\n",
       "    <tr style=\"text-align: right;\">\n",
       "      <th></th>\n",
       "      <th>Input Store</th>\n",
       "      <th>Comparison Store</th>\n",
       "      <th>Rank</th>\n",
       "    </tr>\n",
       "  </thead>\n",
       "  <tbody>\n",
       "    <tr>\n",
       "      <th>221</th>\n",
       "      <td>77</td>\n",
       "      <td>233</td>\n",
       "      <td>0.968813</td>\n",
       "    </tr>\n",
       "  </tbody>\n",
       "</table>\n",
       "</div>"
      ],
      "text/plain": [
       "     Input Store  Comparison Store      Rank\n",
       "221           77               233  0.968813"
      ]
     },
     "execution_count": 34,
     "metadata": {},
     "output_type": "execute_result"
    }
   ],
   "source": [
    "wighted_ranks_store77 = wighted_ranks[( wighted_ranks['Comparison Store'] != 77) & ( wighted_ranks['Input Store'] == 77)]\n",
    "\n",
    "maximum = wighted_ranks_store77['Rank'] .max()\n",
    "maximum\n",
    "wighted_ranks[ (wighted_ranks['Input Store'] == 77) & (wighted_ranks['Rank'] == maximum) ]"
   ]
  },
  {
   "cell_type": "markdown",
   "execution_count": null,
   "metadata": {
    "_cell_guid": "6d49ed97-779c-4296-ad12-83311b1882d9",
    "_uuid": "24eb9d8e-d4df-4650-a640-20182f13c798",
    "papermill": {
     "duration": 0.037144,
     "end_time": "2020-08-25T16:11:41.544068",
     "exception": false,
     "start_time": "2020-08-25T16:11:41.506924",
     "status": "completed"
    },
    "tags": []
   },
   "source": [
    "Store number 77 is the most similar to store number 233."
   ]
  },
  {
   "cell_type": "code",
   "execution_count": 35,
   "metadata": {
    "_cell_guid": "a3c9011b-a266-42c3-887f-20230272a8c6",
    "_uuid": "80b3a47b-15e2-40bd-9746-517344563618",
    "execution": {
     "iopub.execute_input": "2020-08-25T16:11:41.633766Z",
     "iopub.status.busy": "2020-08-25T16:11:41.632935Z",
     "iopub.status.idle": "2020-08-25T16:11:41.637764Z",
     "shell.execute_reply": "2020-08-25T16:11:41.637052Z"
    },
    "papermill": {
     "duration": 0.05681,
     "end_time": "2020-08-25T16:11:41.637909",
     "exception": false,
     "start_time": "2020-08-25T16:11:41.581099",
     "status": "completed"
    },
    "tags": []
   },
   "outputs": [
    {
     "data": {
      "text/html": [
       "<div>\n",
       "<style scoped>\n",
       "    .dataframe tbody tr th:only-of-type {\n",
       "        vertical-align: middle;\n",
       "    }\n",
       "\n",
       "    .dataframe tbody tr th {\n",
       "        vertical-align: top;\n",
       "    }\n",
       "\n",
       "    .dataframe thead th {\n",
       "        text-align: right;\n",
       "    }\n",
       "</style>\n",
       "<table border=\"1\" class=\"dataframe\">\n",
       "  <thead>\n",
       "    <tr style=\"text-align: right;\">\n",
       "      <th></th>\n",
       "      <th>Input Store</th>\n",
       "      <th>Comparison Store</th>\n",
       "      <th>Rank</th>\n",
       "    </tr>\n",
       "  </thead>\n",
       "  <tbody>\n",
       "    <tr>\n",
       "      <th>407</th>\n",
       "      <td>86</td>\n",
       "      <td>155</td>\n",
       "      <td>0.94667</td>\n",
       "    </tr>\n",
       "  </tbody>\n",
       "</table>\n",
       "</div>"
      ],
      "text/plain": [
       "     Input Store  Comparison Store     Rank\n",
       "407           86               155  0.94667"
      ]
     },
     "execution_count": 35,
     "metadata": {},
     "output_type": "execute_result"
    }
   ],
   "source": [
    "wighted_ranks_store86 = wighted_ranks[( wighted_ranks['Comparison Store'] != 86) & ( wighted_ranks['Input Store'] == 86)]\n",
    "\n",
    "maximum = wighted_ranks_store86['Rank'] .max()\n",
    "maximum\n",
    "wighted_ranks[ (wighted_ranks['Input Store'] == 86) & (wighted_ranks['Rank'] == maximum) ]"
   ]
  },
  {
   "cell_type": "markdown",
   "execution_count": null,
   "metadata": {
    "_cell_guid": "6212c299-ceab-461c-9956-eee84dc8b915",
    "_uuid": "7d620d31-ff28-42db-aa6f-d6f4269e08cb",
    "papermill": {
     "duration": 0.038183,
     "end_time": "2020-08-25T16:11:41.713484",
     "exception": false,
     "start_time": "2020-08-25T16:11:41.675301",
     "status": "completed"
    },
    "tags": []
   },
   "source": [
    "Store number 86 is the most similar to store number 155."
   ]
  },
  {
   "cell_type": "code",
   "execution_count": 36,
   "metadata": {
    "_cell_guid": "e0f6a7cd-edef-49fa-bc0b-7b28783bd5ca",
    "_uuid": "96c3c682-aa4c-47a8-a777-2ba23d32a73d",
    "execution": {
     "iopub.execute_input": "2020-08-25T16:11:41.804448Z",
     "iopub.status.busy": "2020-08-25T16:11:41.803315Z",
     "iopub.status.idle": "2020-08-25T16:11:41.808177Z",
     "shell.execute_reply": "2020-08-25T16:11:41.807537Z"
    },
    "papermill": {
     "duration": 0.056818,
     "end_time": "2020-08-25T16:11:41.808305",
     "exception": false,
     "start_time": "2020-08-25T16:11:41.751487",
     "status": "completed"
    },
    "tags": []
   },
   "outputs": [
    {
     "data": {
      "text/html": [
       "<div>\n",
       "<style scoped>\n",
       "    .dataframe tbody tr th:only-of-type {\n",
       "        vertical-align: middle;\n",
       "    }\n",
       "\n",
       "    .dataframe tbody tr th {\n",
       "        vertical-align: top;\n",
       "    }\n",
       "\n",
       "    .dataframe thead th {\n",
       "        text-align: right;\n",
       "    }\n",
       "</style>\n",
       "<table border=\"1\" class=\"dataframe\">\n",
       "  <thead>\n",
       "    <tr style=\"text-align: right;\">\n",
       "      <th></th>\n",
       "      <th>Input Store</th>\n",
       "      <th>Comparison Store</th>\n",
       "      <th>Rank</th>\n",
       "    </tr>\n",
       "  </thead>\n",
       "  <tbody>\n",
       "    <tr>\n",
       "      <th>690</th>\n",
       "      <td>88</td>\n",
       "      <td>178</td>\n",
       "      <td>0.803067</td>\n",
       "    </tr>\n",
       "  </tbody>\n",
       "</table>\n",
       "</div>"
      ],
      "text/plain": [
       "     Input Store  Comparison Store      Rank\n",
       "690           88               178  0.803067"
      ]
     },
     "execution_count": 36,
     "metadata": {},
     "output_type": "execute_result"
    }
   ],
   "source": [
    "wighted_ranks_store88 = wighted_ranks[( wighted_ranks['Comparison Store'] != 88) & ( wighted_ranks['Input Store'] == 88)]\n",
    "\n",
    "maximum = wighted_ranks_store88['Rank'] .max()\n",
    "maximum\n",
    "wighted_ranks[ (wighted_ranks['Input Store'] == 88) & (wighted_ranks['Rank'] == maximum) ]"
   ]
  },
  {
   "cell_type": "markdown",
   "execution_count": null,
   "metadata": {
    "_cell_guid": "74bca69a-9426-4a46-8467-dbd51d85728a",
    "_uuid": "0a233cac-1454-4a81-b0c1-1f05b5744e53",
    "papermill": {
     "duration": 0.037412,
     "end_time": "2020-08-25T16:11:41.883675",
     "exception": false,
     "start_time": "2020-08-25T16:11:41.846263",
     "status": "completed"
    },
    "tags": []
   },
   "source": [
    "Store number 88 is the most simiar to store number 178."
   ]
  },
  {
   "cell_type": "markdown",
   "execution_count": null,
   "metadata": {
    "_cell_guid": "4f20176b-3956-4b32-8caa-6a22060a410c",
    "_uuid": "593d293a-22ac-4d2b-9c1b-e8d786bc4079",
    "papermill": {
     "duration": 0.037407,
     "end_time": "2020-08-25T16:11:41.958794",
     "exception": false,
     "start_time": "2020-08-25T16:11:41.921387",
     "status": "completed"
    },
    "tags": []
   },
   "source": [
    "## Visual checks on trands based on the drivers"
   ]
  },
  {
   "cell_type": "markdown",
   "execution_count": null,
   "metadata": {
    "_cell_guid": "d703f49f-a710-4819-9551-44ff4438ea7c",
    "_uuid": "8bae13c1-0ddf-40c0-ad4a-222b1a2fe21d",
    "papermill": {
     "duration": 0.037744,
     "end_time": "2020-08-25T16:11:42.034847",
     "exception": false,
     "start_time": "2020-08-25T16:11:41.997103",
     "status": "completed"
    },
    "tags": []
   },
   "source": [
    "Now that I found the drivers I will check visually if the drivers were indeed similar in the period before the trial."
   ]
  },
  {
   "cell_type": "code",
   "execution_count": 37,
   "metadata": {
    "_cell_guid": "498774e8-29f2-4e84-9495-abc485a81b38",
    "_uuid": "83d98d74-102d-40e6-8184-04b01eb26d06",
    "execution": {
     "iopub.execute_input": "2020-08-25T16:11:42.118231Z",
     "iopub.status.busy": "2020-08-25T16:11:42.117413Z",
     "iopub.status.idle": "2020-08-25T16:11:43.089018Z",
     "shell.execute_reply": "2020-08-25T16:11:43.088189Z"
    },
    "papermill": {
     "duration": 1.015607,
     "end_time": "2020-08-25T16:11:43.089156",
     "exception": false,
     "start_time": "2020-08-25T16:11:42.073549",
     "status": "completed"
    },
    "tags": []
   },
   "outputs": [],
   "source": [
    "import seaborn as sns\n",
    "import matplotlib.pyplot as plt"
   ]
  },
  {
   "cell_type": "code",
   "execution_count": 38,
   "metadata": {
    "_cell_guid": "5f655cba-9dbc-4d60-9ab4-9a3348aaa9ea",
    "_uuid": "b30f838d-cbcf-458a-8d78-2e1d7020776e",
    "execution": {
     "iopub.execute_input": "2020-08-25T16:11:43.185930Z",
     "iopub.status.busy": "2020-08-25T16:11:43.176059Z",
     "iopub.status.idle": "2020-08-25T16:11:43.205158Z",
     "shell.execute_reply": "2020-08-25T16:11:43.205922Z"
    },
    "papermill": {
     "duration": 0.078695,
     "end_time": "2020-08-25T16:11:43.206142",
     "exception": false,
     "start_time": "2020-08-25T16:11:43.127447",
     "status": "completed"
    },
    "tags": []
   },
   "outputs": [
    {
     "name": "stdout",
     "output_type": "stream",
     "text": [
      "<class 'pandas.core.frame.DataFrame'>\n",
      "Int64Index: 1820 entries, 0 to 3163\n",
      "Data columns (total 7 columns):\n",
      " #   Column           Non-Null Count  Dtype  \n",
      "---  ------           --------------  -----  \n",
      " 0   STORE_NBR        1820 non-null   int64  \n",
      " 1   month_year       1820 non-null   object \n",
      " 2   totSales         1820 non-null   float64\n",
      " 3   nCustomers       1820 non-null   int64  \n",
      " 4   avgPricePerUnit  1820 non-null   float64\n",
      " 5   nTxnPerCust      1820 non-null   float64\n",
      " 6   nChipsPerTxn     1820 non-null   float64\n",
      "dtypes: float64(4), int64(2), object(1)\n",
      "memory usage: 113.8+ KB\n"
     ]
    },
    {
     "name": "stderr",
     "output_type": "stream",
     "text": [
      "/opt/conda/lib/python3.7/site-packages/pandas/core/generic.py:5159: SettingWithCopyWarning: \n",
      "A value is trying to be set on a copy of a slice from a DataFrame.\n",
      "Try using .loc[row_indexer,col_indexer] = value instead\n",
      "\n",
      "See the caveats in the documentation: https://pandas.pydata.org/pandas-docs/stable/user_guide/indexing.html#returning-a-view-versus-a-copy\n",
      "  self[name] = value\n"
     ]
    }
   ],
   "source": [
    "preTrialMeasures.month_year = preTrialMeasures.month_year.astype(str)\n",
    "preTrialMeasures.info()"
   ]
  },
  {
   "cell_type": "markdown",
   "execution_count": null,
   "metadata": {
    "_cell_guid": "41e14324-2790-44b9-b916-2ae8de23b27c",
    "_uuid": "c5cb9455-2909-4a69-a781-d8afb5e30b7f",
    "papermill": {
     "duration": 0.037897,
     "end_time": "2020-08-25T16:11:43.282973",
     "exception": false,
     "start_time": "2020-08-25T16:11:43.245076",
     "status": "completed"
    },
    "tags": []
   },
   "source": [
    "### Total sales and number of customers during pretrial period for store number 77"
   ]
  },
  {
   "cell_type": "code",
   "execution_count": 39,
   "metadata": {
    "_cell_guid": "a0a37b96-63bf-42ca-a9d1-73454370cc4c",
    "_uuid": "806f6b1f-fa6c-4f86-9efb-0e7c8dcd6bb7",
    "execution": {
     "iopub.execute_input": "2020-08-25T16:11:43.375334Z",
     "iopub.status.busy": "2020-08-25T16:11:43.374558Z",
     "iopub.status.idle": "2020-08-25T16:11:44.019392Z",
     "shell.execute_reply": "2020-08-25T16:11:44.018593Z"
    },
    "papermill": {
     "duration": 0.696525,
     "end_time": "2020-08-25T16:11:44.019528",
     "exception": false,
     "start_time": "2020-08-25T16:11:43.323003",
     "status": "completed"
    },
    "tags": []
   },
   "outputs": [
    {
     "data": {
      "text/plain": [
       "<matplotlib.legend.Legend at 0x7f4e90864ed0>"
      ]
     },
     "execution_count": 39,
     "metadata": {},
     "output_type": "execute_result"
    },
    {
     "data": {
      "image/png": "[encoded data removed]",
      "text/plain": [
       "<Figure size 432x288 with 1 Axes>"
      ]
     },
     "metadata": {
      "needs_background": "light"
     },
     "output_type": "display_data"
    }
   ],
   "source": [
    "preTrialMeasures_store77 = preTrialMeasures[ preTrialMeasures.STORE_NBR == 77]\n",
    "preTrialMeasures_store233 = preTrialMeasures[ preTrialMeasures.STORE_NBR == 233]\n",
    "preTrialMeasures_other = preTrialMeasures[ preTrialMeasures.STORE_NBR != 77]\n",
    "\n",
    "ax = plt.subplot()\n",
    "sns.lineplot(x = 'month_year', y = 'totSales' , data = preTrialMeasures_store77, ax = ax)\n",
    "sns.lineplot(x = 'month_year', y = 'totSales' , data = preTrialMeasures_store233, ax = ax)\n",
    "sns.lineplot(x = 'month_year', y = 'totSales' , data = preTrialMeasures_other, estimator= np.mean,ax = ax)\n",
    "ax.set_title('Total sales during pretrial period ')\n",
    "ax.set_xlabel('Time')\n",
    "ax.set_ylabel('Total Sales')\n",
    "ax.legend(['store 77', 'comparison store', 'other stores'])"
   ]
  },
  {
   "cell_type": "code",
   "execution_count": 40,
   "metadata": {
    "_cell_guid": "3b6fff53-3d28-4122-959f-c96ffce12cd4",
    "_uuid": "81e8e394-5076-48d9-bdf4-612c6b3a7c9e",
    "execution": {
     "iopub.execute_input": "2020-08-25T16:11:44.109501Z",
     "iopub.status.busy": "2020-08-25T16:11:44.105597Z",
     "iopub.status.idle": "2020-08-25T16:11:44.669147Z",
     "shell.execute_reply": "2020-08-25T16:11:44.668367Z"
    },
    "papermill": {
     "duration": 0.61075,
     "end_time": "2020-08-25T16:11:44.669275",
     "exception": false,
     "start_time": "2020-08-25T16:11:44.058525",
     "status": "completed"
    },
    "tags": []
   },
   "outputs": [
    {
     "data": {
      "text/plain": [
       "<matplotlib.legend.Legend at 0x7f4e907e8d90>"
      ]
     },
     "execution_count": 40,
     "metadata": {},
     "output_type": "execute_result"
    },
    {
     "data": {
      "image/png": "[encoded data removed]",
      "text/plain": [
       "<Figure size 432x288 with 1 Axes>"
      ]
     },
     "metadata": {
      "needs_background": "light"
     },
     "output_type": "display_data"
    }
   ],
   "source": [
    "preTrialMeasures_store77 = preTrialMeasures[ preTrialMeasures.STORE_NBR == 77]\n",
    "preTrialMeasures_store233 = preTrialMeasures[ preTrialMeasures.STORE_NBR == 233]\n",
    "preTrialMeasures_other = preTrialMeasures[ preTrialMeasures.STORE_NBR != 77]\n",
    "\n",
    "ax = plt.subplot()\n",
    "sns.lineplot(x = 'month_year', y = 'nCustomers' , data = preTrialMeasures_store77, ax = ax)\n",
    "sns.lineplot(x = 'month_year', y = 'nCustomers' , data = preTrialMeasures_store233, ax = ax)\n",
    "sns.lineplot(x = 'month_year', y = 'nCustomers' , data = preTrialMeasures_other, estimator= np.mean, ax = ax)\n",
    "ax.set_title('Total number of customers during pretrial period')\n",
    "ax.set_xlabel('Time')\n",
    "ax.set_ylabel('Number of customers')\n",
    "ax.legend(['store 77', 'comparison store', 'other stores'])"
   ]
  },
  {
   "cell_type": "markdown",
   "execution_count": null,
   "metadata": {
    "_cell_guid": "8b6c69f4-5e75-430e-9eb1-04bfd5f6aefe",
    "_uuid": "a39e04d4-be04-4990-99d1-deaaf6b1b561",
    "papermill": {
     "duration": 0.040596,
     "end_time": "2020-08-25T16:11:44.749263",
     "exception": false,
     "start_time": "2020-08-25T16:11:44.708667",
     "status": "completed"
    },
    "tags": []
   },
   "source": [
    "Measures (total Sales and total number of customers) follow the same trend for both stores."
   ]
  },
  {
   "cell_type": "markdown",
   "execution_count": null,
   "metadata": {
    "_cell_guid": "fa7f4b1e-02df-4aad-a710-bc04363302c4",
    "_uuid": "1f23c98e-8722-4ff9-a53e-6f8ce4bfbec9",
    "papermill": {
     "duration": 0.039092,
     "end_time": "2020-08-25T16:11:44.827690",
     "exception": false,
     "start_time": "2020-08-25T16:11:44.788598",
     "status": "completed"
    },
    "tags": []
   },
   "source": [
    "### Total sales and number of customers during pretrial period for store number 86"
   ]
  },
  {
   "cell_type": "code",
   "execution_count": 41,
   "metadata": {
    "_cell_guid": "9e6fb543-caa4-4eb8-bd4f-2a02ff49f481",
    "_uuid": "aab5007c-225a-4042-8b6a-c60b6593f5d5",
    "execution": {
     "iopub.execute_input": "2020-08-25T16:11:44.918872Z",
     "iopub.status.busy": "2020-08-25T16:11:44.915218Z",
     "iopub.status.idle": "2020-08-25T16:11:45.423336Z",
     "shell.execute_reply": "2020-08-25T16:11:45.422589Z"
    },
    "papermill": {
     "duration": 0.556261,
     "end_time": "2020-08-25T16:11:45.423468",
     "exception": false,
     "start_time": "2020-08-25T16:11:44.867207",
     "status": "completed"
    },
    "tags": []
   },
   "outputs": [
    {
     "data": {
      "text/plain": [
       "<matplotlib.legend.Legend at 0x7f4e9077add0>"
      ]
     },
     "execution_count": 41,
     "metadata": {},
     "output_type": "execute_result"
    },
    {
     "data": {
      "image/png": "[encoded data removed]",
      "text/plain": [
       "<Figure size 432x288 with 1 Axes>"
      ]
     },
     "metadata": {
      "needs_background": "light"
     },
     "output_type": "display_data"
    }
   ],
   "source": [
    "preTrialMeasures_store86 = preTrialMeasures[ preTrialMeasures.STORE_NBR == 86]\n",
    "preTrialMeasures_store155 = preTrialMeasures[ preTrialMeasures.STORE_NBR == 155]\n",
    "preTrialMeasures_other = preTrialMeasures[ preTrialMeasures.STORE_NBR != 86]\n",
    "\n",
    "ax = plt.subplot()\n",
    "sns.lineplot(x = 'month_year', y = 'totSales' , data = preTrialMeasures_store86, ax = ax)\n",
    "sns.lineplot(x = 'month_year', y = 'totSales' , data = preTrialMeasures_store155, ax = ax)\n",
    "sns.lineplot(x = 'month_year', y = 'totSales' , data = preTrialMeasures_other, estimator= np.mean, ax = ax)\n",
    "ax.set_title('Total sales during pretrial period')\n",
    "ax.set_xlabel('Time')\n",
    "ax.set_ylabel('Total Sales')\n",
    "ax.legend(['store 86', 'comparison store', 'other stores'])"
   ]
  },
  {
   "cell_type": "code",
   "execution_count": 42,
   "metadata": {
    "_cell_guid": "964da203-25f6-4335-9498-984ad3bf8b52",
    "_uuid": "3c4c22ee-9ab5-4454-98d5-3a2de1599673",
    "execution": {
     "iopub.execute_input": "2020-08-25T16:11:45.518508Z",
     "iopub.status.busy": "2020-08-25T16:11:45.517593Z",
     "iopub.status.idle": "2020-08-25T16:11:46.026361Z",
     "shell.execute_reply": "2020-08-25T16:11:46.025662Z"
    },
    "papermill": {
     "duration": 0.56154,
     "end_time": "2020-08-25T16:11:46.026488",
     "exception": false,
     "start_time": "2020-08-25T16:11:45.464948",
     "status": "completed"
    },
    "tags": []
   },
   "outputs": [
    {
     "data": {
      "text/plain": [
       "<matplotlib.legend.Legend at 0x7f4e90701990>"
      ]
     },
     "execution_count": 42,
     "metadata": {},
     "output_type": "execute_result"
    },
    {
     "data": {
      "image/png": "[encoded data removed]",
      "text/plain": [
       "<Figure size 432x288 with 1 Axes>"
      ]
     },
     "metadata": {
      "needs_background": "light"
     },
     "output_type": "display_data"
    }
   ],
   "source": [
    "preTrialMeasures_store86 = preTrialMeasures[ preTrialMeasures.STORE_NBR == 86]\n",
    "preTrialMeasures_store155 = preTrialMeasures[ preTrialMeasures.STORE_NBR == 155]\n",
    "preTrialMeasures_other = preTrialMeasures[ preTrialMeasures.STORE_NBR != 86]\n",
    "\n",
    "ax = plt.subplot()\n",
    "sns.lineplot(x = 'month_year', y = 'nCustomers' , data = preTrialMeasures_store86, ax = ax)\n",
    "sns.lineplot(x = 'month_year', y = 'nCustomers' , data = preTrialMeasures_store155, ax = ax)\n",
    "sns.lineplot(x = 'month_year', y = 'nCustomers' , data = preTrialMeasures_other, estimator= np.mean, ax = ax)\n",
    "ax.set_title('Total number of customers during pretrial period')\n",
    "ax.set_xlabel('Time')\n",
    "ax.set_ylabel('Number of customers')\n",
    "ax.legend(['store 86', 'comparison store', 'other stores'])"
   ]
  },
  {
   "cell_type": "markdown",
   "execution_count": null,
   "metadata": {
    "_cell_guid": "25c2fdbb-1d40-4f24-b51f-898f6c2f0095",
    "_uuid": "96c4895f-0a68-4096-b9b6-1ccbe99612e0",
    "papermill": {
     "duration": 0.04001,
     "end_time": "2020-08-25T16:11:46.106933",
     "exception": false,
     "start_time": "2020-08-25T16:11:46.066923",
     "status": "completed"
    },
    "tags": []
   },
   "source": [
    "Measures (total Sales and total number of customers) follow the same trend for both stores."
   ]
  },
  {
   "cell_type": "code",
   "execution_count": 43,
   "metadata": {
    "_cell_guid": "7d554709-63d4-473a-bb03-797077221672",
    "_uuid": "1dcd7662-498a-47bd-89c3-99b17c739d6d",
    "execution": {
     "iopub.execute_input": "2020-08-25T16:11:46.201258Z",
     "iopub.status.busy": "2020-08-25T16:11:46.200292Z",
     "iopub.status.idle": "2020-08-25T16:11:46.701458Z",
     "shell.execute_reply": "2020-08-25T16:11:46.702028Z"
    },
    "papermill": {
     "duration": 0.554722,
     "end_time": "2020-08-25T16:11:46.702205",
     "exception": false,
     "start_time": "2020-08-25T16:11:46.147483",
     "status": "completed"
    },
    "tags": []
   },
   "outputs": [
    {
     "data": {
      "text/plain": [
       "<matplotlib.legend.Legend at 0x7f4e90699790>"
      ]
     },
     "execution_count": 43,
     "metadata": {},
     "output_type": "execute_result"
    },
    {
     "data": {
      "image/png": "[encoded data removed]",
      "text/plain": [
       "<Figure size 432x288 with 1 Axes>"
      ]
     },
     "metadata": {
      "needs_background": "light"
     },
     "output_type": "display_data"
    }
   ],
   "source": [
    "preTrialMeasures_store88 = preTrialMeasures[ preTrialMeasures.STORE_NBR == 88]\n",
    "preTrialMeasures_store178 = preTrialMeasures[ preTrialMeasures.STORE_NBR == 178]\n",
    "preTrialMeasures_other = preTrialMeasures[ preTrialMeasures.STORE_NBR != 88]\n",
    "\n",
    "ax = plt.subplot()\n",
    "sns.lineplot(x = 'month_year', y = 'totSales' , data = preTrialMeasures_store88, ax = ax)\n",
    "sns.lineplot(x = 'month_year', y = 'totSales' , data = preTrialMeasures_store178, ax = ax)\n",
    "sns.lineplot(x = 'month_year', y = 'totSales' , data = preTrialMeasures_other, estimator= np.mean, ax = ax)\n",
    "ax.set_title('Total sales during pretrial period')\n",
    "ax.set_xlabel('Time')\n",
    "ax.set_ylabel('Total Sales')\n",
    "ax.legend(['store 88', 'comparison store', 'other stores'])"
   ]
  },
  {
   "cell_type": "code",
   "execution_count": 44,
   "metadata": {
    "_cell_guid": "a4fbaad1-11ce-4831-b7bc-039b63af87a6",
    "_uuid": "bd6442d3-5707-450d-930a-24316d13e670",
    "execution": {
     "iopub.execute_input": "2020-08-25T16:11:46.798750Z",
     "iopub.status.busy": "2020-08-25T16:11:46.797983Z",
     "iopub.status.idle": "2020-08-25T16:11:47.318032Z",
     "shell.execute_reply": "2020-08-25T16:11:47.317317Z"
    },
    "papermill": {
     "duration": 0.573464,
     "end_time": "2020-08-25T16:11:47.318163",
     "exception": false,
     "start_time": "2020-08-25T16:11:46.744699",
     "status": "completed"
    },
    "tags": []
   },
   "outputs": [
    {
     "data": {
      "text/plain": [
       "<matplotlib.legend.Legend at 0x7f4e9059c710>"
      ]
     },
     "execution_count": 44,
     "metadata": {},
     "output_type": "execute_result"
    },
    {
     "data": {
      "image/png": "[encoded data removed]",
      "text/plain": [
       "<Figure size 432x288 with 1 Axes>"
      ]
     },
     "metadata": {
      "needs_background": "light"
     },
     "output_type": "display_data"
    }
   ],
   "source": [
    "preTrialMeasures_store88 = preTrialMeasures[ preTrialMeasures.STORE_NBR == 88]\n",
    "preTrialMeasures_store178 = preTrialMeasures[ preTrialMeasures.STORE_NBR == 178]\n",
    "preTrialMeasures_other = preTrialMeasures[ preTrialMeasures.STORE_NBR != 88]\n",
    "\n",
    "ax = plt.subplot()\n",
    "sns.lineplot(x = 'month_year', y = 'nCustomers' , data = preTrialMeasures_store88, ax = ax)\n",
    "sns.lineplot(x = 'month_year', y = 'nCustomers' , data = preTrialMeasures_store178, ax = ax)\n",
    "sns.lineplot(x = 'month_year', y = 'nCustomers' , data = preTrialMeasures_other, estimator= np.mean, ax = ax)\n",
    "ax.set_title('Total number of customers during pretrial period')\n",
    "ax.set_xlabel('Time')\n",
    "ax.set_ylabel('Number of customers')\n",
    "ax.legend(['store 88', 'comparison store', 'other stores'])"
   ]
  },
  {
   "cell_type": "markdown",
   "execution_count": null,
   "metadata": {
    "_cell_guid": "30e589c3-80c5-4bd2-a052-0cd7edfdc736",
    "_uuid": "a0ddc831-8eeb-4f5c-91e1-75336087a9e9",
    "papermill": {
     "duration": 0.041435,
     "end_time": "2020-08-25T16:11:47.401512",
     "exception": false,
     "start_time": "2020-08-25T16:11:47.360077",
     "status": "completed"
    },
    "tags": []
   },
   "source": [
    "Measures (total Sales and total number of customers) do not follow the same trend for both stores."
   ]
  },
  {
   "cell_type": "markdown",
   "execution_count": null,
   "metadata": {
    "_cell_guid": "32d38e70-b62f-4e33-b8b3-5021bd4bb796",
    "_uuid": "a4e9b358-7abf-48ac-a773-c860b1a50248",
    "papermill": {
     "duration": 0.041003,
     "end_time": "2020-08-25T16:11:47.484735",
     "exception": false,
     "start_time": "2020-08-25T16:11:47.443732",
     "status": "completed"
    },
    "tags": []
   },
   "source": [
    "## Assessment of trial\n",
    "\n",
    "\n",
    "The trial period goes from the start of February 2019 to April 2019.  We now want to\n",
    "see if there has been an uplift in overall chip sales. I'll start with scaling the control store's sales to a level similar to control for any differences between the two stores outside of the trial period."
   ]
  },
  {
   "cell_type": "markdown",
   "execution_count": null,
   "metadata": {
    "_cell_guid": "6893f73e-214b-4dc1-a892-c374442f892b",
    "_uuid": "7fd12b19-99c9-4489-aca7-146071ac3848",
    "papermill": {
     "duration": 0.040674,
     "end_time": "2020-08-25T16:11:47.566346",
     "exception": false,
     "start_time": "2020-08-25T16:11:47.525672",
     "status": "completed"
    },
    "tags": []
   },
   "source": [
    "# Store no.77"
   ]
  },
  {
   "cell_type": "markdown",
   "execution_count": null,
   "metadata": {
    "_cell_guid": "8b90af1c-2ae4-4904-8c28-64b0ec1c99dc",
    "_uuid": "7967d3f4-a0b5-4287-bb49-77bea8babec7",
    "papermill": {
     "duration": 0.040768,
     "end_time": "2020-08-25T16:11:47.648208",
     "exception": false,
     "start_time": "2020-08-25T16:11:47.607440",
     "status": "completed"
    },
    "tags": []
   },
   "source": [
    "### Scale pre-trial control sales to match pre-trial trial store sales"
   ]
  },
  {
   "cell_type": "code",
   "execution_count": 45,
   "metadata": {
    "_cell_guid": "2f80d54b-e219-46a3-8f2e-51824db015eb",
    "_uuid": "de97623d-6489-43bf-bb4c-16797520ea94",
    "execution": {
     "iopub.execute_input": "2020-08-25T16:11:47.757726Z",
     "iopub.status.busy": "2020-08-25T16:11:47.756620Z",
     "iopub.status.idle": "2020-08-25T16:11:47.762034Z",
     "shell.execute_reply": "2020-08-25T16:11:47.761403Z"
    },
    "papermill": {
     "duration": 0.072731,
     "end_time": "2020-08-25T16:11:47.762171",
     "exception": false,
     "start_time": "2020-08-25T16:11:47.689440",
     "status": "completed"
    },
    "tags": []
   },
   "outputs": [
    {
     "data": {
      "text/html": [
       "<div>\n",
       "<style scoped>\n",
       "    .dataframe tbody tr th:only-of-type {\n",
       "        vertical-align: middle;\n",
       "    }\n",
       "\n",
       "    .dataframe tbody tr th {\n",
       "        vertical-align: top;\n",
       "    }\n",
       "\n",
       "    .dataframe thead th {\n",
       "        text-align: right;\n",
       "    }\n",
       "</style>\n",
       "<table border=\"1\" class=\"dataframe\">\n",
       "  <thead>\n",
       "    <tr style=\"text-align: right;\">\n",
       "      <th></th>\n",
       "      <th>STORE_NBR</th>\n",
       "      <th>month_year</th>\n",
       "      <th>totSales</th>\n",
       "      <th>nCustomers</th>\n",
       "      <th>avgPricePerUnit</th>\n",
       "      <th>nTxnPerCust</th>\n",
       "      <th>nChipsPerTxn</th>\n",
       "    </tr>\n",
       "  </thead>\n",
       "  <tbody>\n",
       "    <tr>\n",
       "      <th>2699</th>\n",
       "      <td>233</td>\n",
       "      <td>2018-07</td>\n",
       "      <td>297.565550</td>\n",
       "      <td>51</td>\n",
       "      <td>3.344444</td>\n",
       "      <td>1.058824</td>\n",
       "      <td>1.725490</td>\n",
       "    </tr>\n",
       "    <tr>\n",
       "      <th>2700</th>\n",
       "      <td>233</td>\n",
       "      <td>2018-08</td>\n",
       "      <td>292.652187</td>\n",
       "      <td>48</td>\n",
       "      <td>3.528000</td>\n",
       "      <td>1.041667</td>\n",
       "      <td>1.666667</td>\n",
       "    </tr>\n",
       "    <tr>\n",
       "      <th>2701</th>\n",
       "      <td>233</td>\n",
       "      <td>2018-09</td>\n",
       "      <td>233.998916</td>\n",
       "      <td>42</td>\n",
       "      <td>3.277778</td>\n",
       "      <td>1.071429</td>\n",
       "      <td>1.666667</td>\n",
       "    </tr>\n",
       "    <tr>\n",
       "      <th>2702</th>\n",
       "      <td>233</td>\n",
       "      <td>2018-10</td>\n",
       "      <td>190.085733</td>\n",
       "      <td>35</td>\n",
       "      <td>3.319444</td>\n",
       "      <td>1.028571</td>\n",
       "      <td>1.600000</td>\n",
       "    </tr>\n",
       "    <tr>\n",
       "      <th>2703</th>\n",
       "      <td>233</td>\n",
       "      <td>2018-11</td>\n",
       "      <td>216.597421</td>\n",
       "      <td>40</td>\n",
       "      <td>3.487805</td>\n",
       "      <td>1.025000</td>\n",
       "      <td>1.550000</td>\n",
       "    </tr>\n",
       "    <tr>\n",
       "      <th>2704</th>\n",
       "      <td>233</td>\n",
       "      <td>2018-12</td>\n",
       "      <td>286.408121</td>\n",
       "      <td>47</td>\n",
       "      <td>3.694000</td>\n",
       "      <td>1.063830</td>\n",
       "      <td>1.595745</td>\n",
       "    </tr>\n",
       "    <tr>\n",
       "      <th>2705</th>\n",
       "      <td>233</td>\n",
       "      <td>2019-01</td>\n",
       "      <td>181.692071</td>\n",
       "      <td>35</td>\n",
       "      <td>3.717143</td>\n",
       "      <td>1.000000</td>\n",
       "      <td>1.342857</td>\n",
       "    </tr>\n",
       "    <tr>\n",
       "      <th>2706</th>\n",
       "      <td>233</td>\n",
       "      <td>2019-02</td>\n",
       "      <td>249.762622</td>\n",
       "      <td>45</td>\n",
       "      <td>3.491489</td>\n",
       "      <td>1.044444</td>\n",
       "      <td>1.555556</td>\n",
       "    </tr>\n",
       "    <tr>\n",
       "      <th>2707</th>\n",
       "      <td>233</td>\n",
       "      <td>2019-03</td>\n",
       "      <td>203.802205</td>\n",
       "      <td>40</td>\n",
       "      <td>3.373171</td>\n",
       "      <td>1.025000</td>\n",
       "      <td>1.475000</td>\n",
       "    </tr>\n",
       "    <tr>\n",
       "      <th>2708</th>\n",
       "      <td>233</td>\n",
       "      <td>2019-04</td>\n",
       "      <td>162.345704</td>\n",
       "      <td>30</td>\n",
       "      <td>3.436364</td>\n",
       "      <td>1.100000</td>\n",
       "      <td>1.533333</td>\n",
       "    </tr>\n",
       "    <tr>\n",
       "      <th>2709</th>\n",
       "      <td>233</td>\n",
       "      <td>2019-05</td>\n",
       "      <td>352.533799</td>\n",
       "      <td>57</td>\n",
       "      <td>3.651613</td>\n",
       "      <td>1.087719</td>\n",
       "      <td>1.614035</td>\n",
       "    </tr>\n",
       "    <tr>\n",
       "      <th>2710</th>\n",
       "      <td>233</td>\n",
       "      <td>2019-06</td>\n",
       "      <td>226.219424</td>\n",
       "      <td>41</td>\n",
       "      <td>3.670732</td>\n",
       "      <td>1.000000</td>\n",
       "      <td>1.487805</td>\n",
       "    </tr>\n",
       "  </tbody>\n",
       "</table>\n",
       "</div>"
      ],
      "text/plain": [
       "      STORE_NBR month_year    totSales  nCustomers  avgPricePerUnit  \\\n",
       "2699        233    2018-07  297.565550          51         3.344444   \n",
       "2700        233    2018-08  292.652187          48         3.528000   \n",
       "2701        233    2018-09  233.998916          42         3.277778   \n",
       "2702        233    2018-10  190.085733          35         3.319444   \n",
       "2703        233    2018-11  216.597421          40         3.487805   \n",
       "2704        233    2018-12  286.408121          47         3.694000   \n",
       "2705        233    2019-01  181.692071          35         3.717143   \n",
       "2706        233    2019-02  249.762622          45         3.491489   \n",
       "2707        233    2019-03  203.802205          40         3.373171   \n",
       "2708        233    2019-04  162.345704          30         3.436364   \n",
       "2709        233    2019-05  352.533799          57         3.651613   \n",
       "2710        233    2019-06  226.219424          41         3.670732   \n",
       "\n",
       "      nTxnPerCust  nChipsPerTxn  \n",
       "2699     1.058824      1.725490  \n",
       "2700     1.041667      1.666667  \n",
       "2701     1.071429      1.666667  \n",
       "2702     1.028571      1.600000  \n",
       "2703     1.025000      1.550000  \n",
       "2704     1.063830      1.595745  \n",
       "2705     1.000000      1.342857  \n",
       "2706     1.044444      1.555556  \n",
       "2707     1.025000      1.475000  \n",
       "2708     1.100000      1.533333  \n",
       "2709     1.087719      1.614035  \n",
       "2710     1.000000      1.487805  "
      ]
     },
     "execution_count": 45,
     "metadata": {},
     "output_type": "execute_result"
    }
   ],
   "source": [
    "scalingFactorForControlSales  = preTrialMeasures[preTrialMeasures.STORE_NBR == 77].totSales.sum() / preTrialMeasures[preTrialMeasures.STORE_NBR == 233].totSales.sum()\n",
    "scalingFactorForControlSales\n",
    "\n",
    "measureOverTimeSales = measures_over_time.copy()\n",
    "measureOverTimeSales.loc[ measureOverTimeSales.STORE_NBR == 233, 'totSales'] = measureOverTimeSales.loc[ measureOverTimeSales.STORE_NBR == 233, 'totSales'] * scalingFactorForControlSales\n",
    "scaledControlSales = measureOverTimeSales[ measureOverTimeSales.STORE_NBR == 233]\n",
    "scaledControlSales"
   ]
  },
  {
   "cell_type": "markdown",
   "execution_count": null,
   "metadata": {
    "_cell_guid": "c8d44061-09ac-40f6-b1a0-41d1ce9739da",
    "_uuid": "dead1248-c293-4b79-92c7-0dbc4a4a4f75",
    "papermill": {
     "duration": 0.041396,
     "end_time": "2020-08-25T16:11:47.845529",
     "exception": false,
     "start_time": "2020-08-25T16:11:47.804133",
     "status": "completed"
    },
    "tags": []
   },
   "source": [
    "### Percentage diffrences\n",
    "Now I have comparable sales figures for the control store, I will calculate the percentage diffrence between the scaled  control sales and the trial store's sales during the trial period."
   ]
  },
  {
   "cell_type": "code",
   "execution_count": 46,
   "metadata": {
    "_cell_guid": "6d76c778-5efb-42ad-a183-6f37a5ecd29d",
    "_uuid": "ef44fe31-e5cc-4e12-abf2-5f1d0f5c8350",
    "execution": {
     "iopub.execute_input": "2020-08-25T16:11:47.962279Z",
     "iopub.status.busy": "2020-08-25T16:11:47.959123Z",
     "iopub.status.idle": "2020-08-25T16:11:47.967709Z",
     "shell.execute_reply": "2020-08-25T16:11:47.967135Z"
    },
    "papermill": {
     "duration": 0.080809,
     "end_time": "2020-08-25T16:11:47.967888",
     "exception": false,
     "start_time": "2020-08-25T16:11:47.887079",
     "status": "completed"
    },
    "tags": []
   },
   "outputs": [
    {
     "data": {
      "text/html": [
       "<div>\n",
       "<style scoped>\n",
       "    .dataframe tbody tr th:only-of-type {\n",
       "        vertical-align: middle;\n",
       "    }\n",
       "\n",
       "    .dataframe tbody tr th {\n",
       "        vertical-align: top;\n",
       "    }\n",
       "\n",
       "    .dataframe thead th {\n",
       "        text-align: right;\n",
       "    }\n",
       "</style>\n",
       "<table border=\"1\" class=\"dataframe\">\n",
       "  <thead>\n",
       "    <tr style=\"text-align: right;\">\n",
       "      <th></th>\n",
       "      <th>STORE_NBR_trial</th>\n",
       "      <th>month_year</th>\n",
       "      <th>totSales_trial</th>\n",
       "      <th>nCustomers_trial</th>\n",
       "      <th>avgPricePerUnit_trial</th>\n",
       "      <th>nTxnPerCust_trial</th>\n",
       "      <th>nChipsPerTxn_trial</th>\n",
       "      <th>STORE_NBR_control</th>\n",
       "      <th>totSales_control</th>\n",
       "      <th>nCustomers_control</th>\n",
       "      <th>avgPricePerUnit_control</th>\n",
       "      <th>nTxnPerCust_control</th>\n",
       "      <th>nChipsPerTxn_control</th>\n",
       "    </tr>\n",
       "  </thead>\n",
       "  <tbody>\n",
       "    <tr>\n",
       "      <th>0</th>\n",
       "      <td>77</td>\n",
       "      <td>2018-07</td>\n",
       "      <td>296.8</td>\n",
       "      <td>51</td>\n",
       "      <td>3.545455</td>\n",
       "      <td>1.078431</td>\n",
       "      <td>1.647059</td>\n",
       "      <td>233</td>\n",
       "      <td>297.565550</td>\n",
       "      <td>51</td>\n",
       "      <td>3.344444</td>\n",
       "      <td>1.058824</td>\n",
       "      <td>1.725490</td>\n",
       "    </tr>\n",
       "    <tr>\n",
       "      <th>1</th>\n",
       "      <td>77</td>\n",
       "      <td>2018-08</td>\n",
       "      <td>255.5</td>\n",
       "      <td>47</td>\n",
       "      <td>3.439583</td>\n",
       "      <td>1.021277</td>\n",
       "      <td>1.574468</td>\n",
       "      <td>233</td>\n",
       "      <td>292.652187</td>\n",
       "      <td>48</td>\n",
       "      <td>3.528000</td>\n",
       "      <td>1.041667</td>\n",
       "      <td>1.666667</td>\n",
       "    </tr>\n",
       "    <tr>\n",
       "      <th>2</th>\n",
       "      <td>77</td>\n",
       "      <td>2018-09</td>\n",
       "      <td>225.2</td>\n",
       "      <td>42</td>\n",
       "      <td>3.234091</td>\n",
       "      <td>1.047619</td>\n",
       "      <td>1.666667</td>\n",
       "      <td>233</td>\n",
       "      <td>233.998916</td>\n",
       "      <td>42</td>\n",
       "      <td>3.277778</td>\n",
       "      <td>1.071429</td>\n",
       "      <td>1.666667</td>\n",
       "    </tr>\n",
       "    <tr>\n",
       "      <th>3</th>\n",
       "      <td>77</td>\n",
       "      <td>2018-10</td>\n",
       "      <td>204.5</td>\n",
       "      <td>37</td>\n",
       "      <td>3.876316</td>\n",
       "      <td>1.027027</td>\n",
       "      <td>1.405405</td>\n",
       "      <td>233</td>\n",
       "      <td>190.085733</td>\n",
       "      <td>35</td>\n",
       "      <td>3.319444</td>\n",
       "      <td>1.028571</td>\n",
       "      <td>1.600000</td>\n",
       "    </tr>\n",
       "    <tr>\n",
       "      <th>4</th>\n",
       "      <td>77</td>\n",
       "      <td>2018-11</td>\n",
       "      <td>245.3</td>\n",
       "      <td>41</td>\n",
       "      <td>3.765909</td>\n",
       "      <td>1.073171</td>\n",
       "      <td>1.634146</td>\n",
       "      <td>233</td>\n",
       "      <td>216.597421</td>\n",
       "      <td>40</td>\n",
       "      <td>3.487805</td>\n",
       "      <td>1.025000</td>\n",
       "      <td>1.550000</td>\n",
       "    </tr>\n",
       "    <tr>\n",
       "      <th>5</th>\n",
       "      <td>77</td>\n",
       "      <td>2018-12</td>\n",
       "      <td>267.3</td>\n",
       "      <td>46</td>\n",
       "      <td>3.708163</td>\n",
       "      <td>1.065217</td>\n",
       "      <td>1.565217</td>\n",
       "      <td>233</td>\n",
       "      <td>286.408121</td>\n",
       "      <td>47</td>\n",
       "      <td>3.694000</td>\n",
       "      <td>1.063830</td>\n",
       "      <td>1.595745</td>\n",
       "    </tr>\n",
       "    <tr>\n",
       "      <th>6</th>\n",
       "      <td>77</td>\n",
       "      <td>2019-01</td>\n",
       "      <td>204.4</td>\n",
       "      <td>35</td>\n",
       "      <td>3.125641</td>\n",
       "      <td>1.114286</td>\n",
       "      <td>1.857143</td>\n",
       "      <td>233</td>\n",
       "      <td>181.692071</td>\n",
       "      <td>35</td>\n",
       "      <td>3.717143</td>\n",
       "      <td>1.000000</td>\n",
       "      <td>1.342857</td>\n",
       "    </tr>\n",
       "    <tr>\n",
       "      <th>7</th>\n",
       "      <td>77</td>\n",
       "      <td>2019-02</td>\n",
       "      <td>235.0</td>\n",
       "      <td>45</td>\n",
       "      <td>3.193333</td>\n",
       "      <td>1.000000</td>\n",
       "      <td>1.644444</td>\n",
       "      <td>233</td>\n",
       "      <td>249.762622</td>\n",
       "      <td>45</td>\n",
       "      <td>3.491489</td>\n",
       "      <td>1.044444</td>\n",
       "      <td>1.555556</td>\n",
       "    </tr>\n",
       "    <tr>\n",
       "      <th>8</th>\n",
       "      <td>77</td>\n",
       "      <td>2019-03</td>\n",
       "      <td>278.5</td>\n",
       "      <td>50</td>\n",
       "      <td>3.481818</td>\n",
       "      <td>1.100000</td>\n",
       "      <td>1.640000</td>\n",
       "      <td>233</td>\n",
       "      <td>203.802205</td>\n",
       "      <td>40</td>\n",
       "      <td>3.373171</td>\n",
       "      <td>1.025000</td>\n",
       "      <td>1.475000</td>\n",
       "    </tr>\n",
       "    <tr>\n",
       "      <th>9</th>\n",
       "      <td>77</td>\n",
       "      <td>2019-04</td>\n",
       "      <td>263.5</td>\n",
       "      <td>47</td>\n",
       "      <td>3.431250</td>\n",
       "      <td>1.021277</td>\n",
       "      <td>1.659574</td>\n",
       "      <td>233</td>\n",
       "      <td>162.345704</td>\n",
       "      <td>30</td>\n",
       "      <td>3.436364</td>\n",
       "      <td>1.100000</td>\n",
       "      <td>1.533333</td>\n",
       "    </tr>\n",
       "    <tr>\n",
       "      <th>10</th>\n",
       "      <td>77</td>\n",
       "      <td>2019-05</td>\n",
       "      <td>299.3</td>\n",
       "      <td>55</td>\n",
       "      <td>3.528571</td>\n",
       "      <td>1.018182</td>\n",
       "      <td>1.527273</td>\n",
       "      <td>233</td>\n",
       "      <td>352.533799</td>\n",
       "      <td>57</td>\n",
       "      <td>3.651613</td>\n",
       "      <td>1.087719</td>\n",
       "      <td>1.614035</td>\n",
       "    </tr>\n",
       "    <tr>\n",
       "      <th>11</th>\n",
       "      <td>77</td>\n",
       "      <td>2019-06</td>\n",
       "      <td>264.7</td>\n",
       "      <td>41</td>\n",
       "      <td>3.735714</td>\n",
       "      <td>1.024390</td>\n",
       "      <td>1.707317</td>\n",
       "      <td>233</td>\n",
       "      <td>226.219424</td>\n",
       "      <td>41</td>\n",
       "      <td>3.670732</td>\n",
       "      <td>1.000000</td>\n",
       "      <td>1.487805</td>\n",
       "    </tr>\n",
       "  </tbody>\n",
       "</table>\n",
       "</div>"
      ],
      "text/plain": [
       "    STORE_NBR_trial month_year  totSales_trial  nCustomers_trial  \\\n",
       "0                77    2018-07           296.8                51   \n",
       "1                77    2018-08           255.5                47   \n",
       "2                77    2018-09           225.2                42   \n",
       "3                77    2018-10           204.5                37   \n",
       "4                77    2018-11           245.3                41   \n",
       "5                77    2018-12           267.3                46   \n",
       "6                77    2019-01           204.4                35   \n",
       "7                77    2019-02           235.0                45   \n",
       "8                77    2019-03           278.5                50   \n",
       "9                77    2019-04           263.5                47   \n",
       "10               77    2019-05           299.3                55   \n",
       "11               77    2019-06           264.7                41   \n",
       "\n",
       "    avgPricePerUnit_trial  nTxnPerCust_trial  nChipsPerTxn_trial  \\\n",
       "0                3.545455           1.078431            1.647059   \n",
       "1                3.439583           1.021277            1.574468   \n",
       "2                3.234091           1.047619            1.666667   \n",
       "3                3.876316           1.027027            1.405405   \n",
       "4                3.765909           1.073171            1.634146   \n",
       "5                3.708163           1.065217            1.565217   \n",
       "6                3.125641           1.114286            1.857143   \n",
       "7                3.193333           1.000000            1.644444   \n",
       "8                3.481818           1.100000            1.640000   \n",
       "9                3.431250           1.021277            1.659574   \n",
       "10               3.528571           1.018182            1.527273   \n",
       "11               3.735714           1.024390            1.707317   \n",
       "\n",
       "    STORE_NBR_control  totSales_control  nCustomers_control  \\\n",
       "0                 233        297.565550                  51   \n",
       "1                 233        292.652187                  48   \n",
       "2                 233        233.998916                  42   \n",
       "3                 233        190.085733                  35   \n",
       "4                 233        216.597421                  40   \n",
       "5                 233        286.408121                  47   \n",
       "6                 233        181.692071                  35   \n",
       "7                 233        249.762622                  45   \n",
       "8                 233        203.802205                  40   \n",
       "9                 233        162.345704                  30   \n",
       "10                233        352.533799                  57   \n",
       "11                233        226.219424                  41   \n",
       "\n",
       "    avgPricePerUnit_control  nTxnPerCust_control  nChipsPerTxn_control  \n",
       "0                  3.344444             1.058824              1.725490  \n",
       "1                  3.528000             1.041667              1.666667  \n",
       "2                  3.277778             1.071429              1.666667  \n",
       "3                  3.319444             1.028571              1.600000  \n",
       "4                  3.487805             1.025000              1.550000  \n",
       "5                  3.694000             1.063830              1.595745  \n",
       "6                  3.717143             1.000000              1.342857  \n",
       "7                  3.491489             1.044444              1.555556  \n",
       "8                  3.373171             1.025000              1.475000  \n",
       "9                  3.436364             1.100000              1.533333  \n",
       "10                 3.651613             1.087719              1.614035  \n",
       "11                 3.670732             1.000000              1.487805  "
      ]
     },
     "execution_count": 46,
     "metadata": {},
     "output_type": "execute_result"
    }
   ],
   "source": [
    "measureOverTimeSalesStore77 = measureOverTimeSales.loc[ (measureOverTimeSales.STORE_NBR == 77)]\n",
    "percentageDiff  = pd.merge(measureOverTimeSalesStore77, scaledControlSales, on = 'month_year', suffixes=('_trial', '_control'))\n",
    "percentageDiff"
   ]
  },
  {
   "cell_type": "markdown",
   "execution_count": null,
   "metadata": {
    "_cell_guid": "6717de6d-a8c4-4202-bf4b-02f597d5caf6",
    "_uuid": "d1a36d05-9bd5-440c-9132-4476bd84ac09",
    "papermill": {
     "duration": 0.041879,
     "end_time": "2020-08-25T16:11:48.052277",
     "exception": false,
     "start_time": "2020-08-25T16:11:48.010398",
     "status": "completed"
    },
    "tags": []
   },
   "source": [
    "### Compute percentage diffrence"
   ]
  },
  {
   "cell_type": "code",
   "execution_count": 47,
   "metadata": {
    "_cell_guid": "2c8a0883-2817-4203-86a3-d315655b3f09",
    "_uuid": "6a05f783-0c01-406b-82b4-74f1e866a129",
    "execution": {
     "iopub.execute_input": "2020-08-25T16:11:48.148321Z",
     "iopub.status.busy": "2020-08-25T16:11:48.145460Z",
     "iopub.status.idle": "2020-08-25T16:11:48.152377Z",
     "shell.execute_reply": "2020-08-25T16:11:48.152946Z"
    },
    "papermill": {
     "duration": 0.058652,
     "end_time": "2020-08-25T16:11:48.153113",
     "exception": false,
     "start_time": "2020-08-25T16:11:48.094461",
     "status": "completed"
    },
    "tags": []
   },
   "outputs": [
    {
     "data": {
      "text/plain": [
       "0    0.002573\n",
       "1    0.126950\n",
       "2    0.037602\n",
       "3    0.075830\n",
       "4    0.132516\n",
       "5    0.066716\n",
       "6    0.124980\n",
       "Name: percentageDiffSales, dtype: float64"
      ]
     },
     "execution_count": 47,
     "metadata": {},
     "output_type": "execute_result"
    }
   ],
   "source": [
    "percentageDiff['percentageDiffSales'] = abs(percentageDiff.totSales_control - percentageDiff.totSales_trial)/ percentageDiff.totSales_control\n",
    "diffDuringPreTrial = percentageDiff[percentageDiff.month_year < '2019-02'].percentageDiffSales\n",
    "diffDuringPreTrial"
   ]
  },
  {
   "cell_type": "markdown",
   "execution_count": null,
   "metadata": {
    "_cell_guid": "2ce000d9-198e-48f1-a6e6-a195435ef7ac",
    "_uuid": "63c30543-e08f-41cc-a7c2-ced2b126d95e",
    "papermill": {
     "duration": 0.042699,
     "end_time": "2020-08-25T16:11:48.238471",
     "exception": false,
     "start_time": "2020-08-25T16:11:48.195772",
     "status": "completed"
    },
    "tags": []
   },
   "source": [
    "One sample t test determines whether the sample mean is statistically diffrent from a known or hypothesized population mean. \n",
    "\n",
    "H0: the trial period is the same as the pre-trial period."
   ]
  },
  {
   "cell_type": "code",
   "execution_count": 48,
   "metadata": {
    "_cell_guid": "74f97867-066e-46ca-a3c9-0b08155e8559",
    "_uuid": "dc2079a9-473c-4aa6-a873-9779437faf36",
    "execution": {
     "iopub.execute_input": "2020-08-25T16:11:48.329957Z",
     "iopub.status.busy": "2020-08-25T16:11:48.329162Z",
     "iopub.status.idle": "2020-08-25T16:11:48.332760Z",
     "shell.execute_reply": "2020-08-25T16:11:48.332170Z"
    },
    "papermill": {
     "duration": 0.051634,
     "end_time": "2020-08-25T16:11:48.332919",
     "exception": false,
     "start_time": "2020-08-25T16:11:48.281285",
     "status": "completed"
    },
    "tags": []
   },
   "outputs": [],
   "source": [
    "stdDev_pretrial = np.std(diffDuringPreTrial)\n",
    "degreesOfFreedom = 7"
   ]
  },
  {
   "cell_type": "markdown",
   "execution_count": null,
   "metadata": {
    "_cell_guid": "cea261b0-be16-49d0-a1e3-d51ae285f97c",
    "_uuid": "9947ad1b-6694-4155-83bc-57aef8a20472",
    "papermill": {
     "duration": 0.042886,
     "end_time": "2020-08-25T16:11:48.418488",
     "exception": false,
     "start_time": "2020-08-25T16:11:48.375602",
     "status": "completed"
    },
    "tags": []
   },
   "source": [
    "T critic for a probaibility of 0.95 and 7 degrees of freedom"
   ]
  },
  {
   "cell_type": "code",
   "execution_count": 49,
   "metadata": {
    "_cell_guid": "a1b0a525-f755-449c-8b7f-bc9dceb3a4a1",
    "_uuid": "99d128ee-1775-41a9-8c10-76a83ada5315",
    "execution": {
     "iopub.execute_input": "2020-08-25T16:11:48.509528Z",
     "iopub.status.busy": "2020-08-25T16:11:48.508511Z",
     "iopub.status.idle": "2020-08-25T16:11:48.511731Z",
     "shell.execute_reply": "2020-08-25T16:11:48.511125Z"
    },
    "papermill": {
     "duration": 0.050475,
     "end_time": "2020-08-25T16:11:48.511882",
     "exception": false,
     "start_time": "2020-08-25T16:11:48.461407",
     "status": "completed"
    },
    "tags": []
   },
   "outputs": [],
   "source": [
    "t_critic = 1.895"
   ]
  },
  {
   "cell_type": "markdown",
   "execution_count": null,
   "metadata": {
    "_cell_guid": "e650ed38-401e-4cd6-b005-bda6dbcd5852",
    "_uuid": "03514561-6dcd-47a2-954f-408421fa6d4a",
    "papermill": {
     "duration": 0.041961,
     "end_time": "2020-08-25T16:11:48.596463",
     "exception": false,
     "start_time": "2020-08-25T16:11:48.554502",
     "status": "completed"
    },
    "tags": []
   },
   "source": [
    "We will test with a null hypothesis of there being 0 diffrence between trial and control stores."
   ]
  },
  {
   "cell_type": "code",
   "execution_count": 50,
   "metadata": {
    "_cell_guid": "e66168d7-fce8-4f00-baef-5a3e07ff4aa8",
    "_uuid": "67b47fa5-21a5-457b-8ed0-5c16f0c2ff1a",
    "execution": {
     "iopub.execute_input": "2020-08-25T16:11:48.690442Z",
     "iopub.status.busy": "2020-08-25T16:11:48.687413Z",
     "iopub.status.idle": "2020-08-25T16:11:48.695934Z",
     "shell.execute_reply": "2020-08-25T16:11:48.695337Z"
    },
    "papermill": {
     "duration": 0.05702,
     "end_time": "2020-08-25T16:11:48.696073",
     "exception": false,
     "start_time": "2020-08-25T16:11:48.639053",
     "status": "completed"
    },
    "tags": []
   },
   "outputs": [
    {
     "data": {
      "text/plain": [
       "7     1.278363\n",
       "8     7.927151\n",
       "9    13.476023\n",
       "Name: percentageDiffSales, dtype: float64"
      ]
     },
     "execution_count": 50,
     "metadata": {},
     "output_type": "execute_result"
    }
   ],
   "source": [
    "t_calc = (percentageDiff.loc[percentageDiff.month_year.between('2019-02', '2019-04'),'percentageDiffSales'] - 0) / stdDev_pretrial\n",
    "t_calc"
   ]
  },
  {
   "cell_type": "markdown",
   "execution_count": null,
   "metadata": {
    "_cell_guid": "c7fa5864-ff7a-4e63-aed7-fb829cefb065",
    "_uuid": "7438f1a6-da7c-43f8-9aa5-a4515fe601d3",
    "papermill": {
     "duration": 0.042608,
     "end_time": "2020-08-25T16:11:48.782015",
     "exception": false,
     "start_time": "2020-08-25T16:11:48.739407",
     "status": "completed"
    },
    "tags": []
   },
   "source": [
    "The calculated t value is then compared to the critical t value from the t distribution table with degrees of freedom df = n - 1 and chosen confidence level. If the calculated t value > critical t value, then we reject the null hypothesis."
   ]
  },
  {
   "cell_type": "code",
   "execution_count": 51,
   "metadata": {
    "_cell_guid": "3ab142bc-9c44-4fd8-999e-1a1f063ebd59",
    "_uuid": "8e95cbbe-3bd5-4d05-b9dc-c7ddcaf4fbb8",
    "execution": {
     "iopub.execute_input": "2020-08-25T16:11:48.874928Z",
     "iopub.status.busy": "2020-08-25T16:11:48.874017Z",
     "iopub.status.idle": "2020-08-25T16:11:48.879170Z",
     "shell.execute_reply": "2020-08-25T16:11:48.878429Z"
    },
    "papermill": {
     "duration": 0.054359,
     "end_time": "2020-08-25T16:11:48.879293",
     "exception": false,
     "start_time": "2020-08-25T16:11:48.824934",
     "status": "completed"
    },
    "tags": []
   },
   "outputs": [
    {
     "data": {
      "text/plain": [
       "7    False\n",
       "8     True\n",
       "9     True\n",
       "Name: percentageDiffSales, dtype: bool"
      ]
     },
     "execution_count": 51,
     "metadata": {},
     "output_type": "execute_result"
    }
   ],
   "source": [
    "t_calc > t_critic"
   ]
  },
  {
   "cell_type": "markdown",
   "execution_count": null,
   "metadata": {
    "_cell_guid": "0bbf9f1b-4146-4b5c-9a75-21944d5f7ef9",
    "_uuid": "8b0246cb-b129-481d-bb8b-df1dc400e258",
    "papermill": {
     "duration": 0.042864,
     "end_time": "2020-08-25T16:11:48.965291",
     "exception": false,
     "start_time": "2020-08-25T16:11:48.922427",
     "status": "completed"
    },
    "tags": []
   },
   "source": [
    "We can observe that the t-value is  larger than the 95th percentile value of the t-distribution for  March and April - i.e. the increase in sales in the trial store in March and April is statistically greater than in the control store."
   ]
  },
  {
   "cell_type": "markdown",
   "execution_count": null,
   "metadata": {
    "_cell_guid": "b87a4c29-11a2-4e9c-bbd7-2c96ae094072",
    "_uuid": "72aefa15-4d31-49d1-9e4a-b7a58633b045",
    "papermill": {
     "duration": 0.042567,
     "end_time": "2020-08-25T16:11:49.050759",
     "exception": false,
     "start_time": "2020-08-25T16:11:49.008192",
     "status": "completed"
    },
    "tags": []
   },
   "source": [
    "### Number of customers"
   ]
  },
  {
   "cell_type": "markdown",
   "execution_count": null,
   "metadata": {
    "_cell_guid": "08872983-199d-437b-91c0-76706c5a4ce7",
    "_uuid": "270f2be1-14b4-4e7a-82ed-43ae1797911e",
    "papermill": {
     "duration": 0.042672,
     "end_time": "2020-08-25T16:11:49.136190",
     "exception": false,
     "start_time": "2020-08-25T16:11:49.093518",
     "status": "completed"
    },
    "tags": []
   },
   "source": [
    "### Scale pre-trial control sales to match pre-trial trial store customers"
   ]
  },
  {
   "cell_type": "code",
   "execution_count": 52,
   "metadata": {
    "_cell_guid": "65fb5a14-4b8d-4c8b-9caa-52be75301605",
    "_uuid": "cd8ef640-ecea-4b09-be53-f279f6a89263",
    "execution": {
     "iopub.execute_input": "2020-08-25T16:11:49.249764Z",
     "iopub.status.busy": "2020-08-25T16:11:49.235911Z",
     "iopub.status.idle": "2020-08-25T16:11:49.254017Z",
     "shell.execute_reply": "2020-08-25T16:11:49.254574Z"
    },
    "papermill": {
     "duration": 0.075891,
     "end_time": "2020-08-25T16:11:49.254732",
     "exception": false,
     "start_time": "2020-08-25T16:11:49.178841",
     "status": "completed"
    },
    "tags": []
   },
   "outputs": [
    {
     "data": {
      "text/html": [
       "<div>\n",
       "<style scoped>\n",
       "    .dataframe tbody tr th:only-of-type {\n",
       "        vertical-align: middle;\n",
       "    }\n",
       "\n",
       "    .dataframe tbody tr th {\n",
       "        vertical-align: top;\n",
       "    }\n",
       "\n",
       "    .dataframe thead th {\n",
       "        text-align: right;\n",
       "    }\n",
       "</style>\n",
       "<table border=\"1\" class=\"dataframe\">\n",
       "  <thead>\n",
       "    <tr style=\"text-align: right;\">\n",
       "      <th></th>\n",
       "      <th>STORE_NBR</th>\n",
       "      <th>month_year</th>\n",
       "      <th>totSales</th>\n",
       "      <th>nCustomers</th>\n",
       "      <th>avgPricePerUnit</th>\n",
       "      <th>nTxnPerCust</th>\n",
       "      <th>nChipsPerTxn</th>\n",
       "    </tr>\n",
       "  </thead>\n",
       "  <tbody>\n",
       "    <tr>\n",
       "      <th>2699</th>\n",
       "      <td>233</td>\n",
       "      <td>2018-07</td>\n",
       "      <td>290.7</td>\n",
       "      <td>51.171141</td>\n",
       "      <td>3.344444</td>\n",
       "      <td>1.058824</td>\n",
       "      <td>1.725490</td>\n",
       "    </tr>\n",
       "    <tr>\n",
       "      <th>2700</th>\n",
       "      <td>233</td>\n",
       "      <td>2018-08</td>\n",
       "      <td>285.9</td>\n",
       "      <td>48.161074</td>\n",
       "      <td>3.528000</td>\n",
       "      <td>1.041667</td>\n",
       "      <td>1.666667</td>\n",
       "    </tr>\n",
       "    <tr>\n",
       "      <th>2701</th>\n",
       "      <td>233</td>\n",
       "      <td>2018-09</td>\n",
       "      <td>228.6</td>\n",
       "      <td>42.140940</td>\n",
       "      <td>3.277778</td>\n",
       "      <td>1.071429</td>\n",
       "      <td>1.666667</td>\n",
       "    </tr>\n",
       "    <tr>\n",
       "      <th>2702</th>\n",
       "      <td>233</td>\n",
       "      <td>2018-10</td>\n",
       "      <td>185.7</td>\n",
       "      <td>35.117450</td>\n",
       "      <td>3.319444</td>\n",
       "      <td>1.028571</td>\n",
       "      <td>1.600000</td>\n",
       "    </tr>\n",
       "    <tr>\n",
       "      <th>2703</th>\n",
       "      <td>233</td>\n",
       "      <td>2018-11</td>\n",
       "      <td>211.6</td>\n",
       "      <td>40.134228</td>\n",
       "      <td>3.487805</td>\n",
       "      <td>1.025000</td>\n",
       "      <td>1.550000</td>\n",
       "    </tr>\n",
       "    <tr>\n",
       "      <th>2704</th>\n",
       "      <td>233</td>\n",
       "      <td>2018-12</td>\n",
       "      <td>279.8</td>\n",
       "      <td>47.157718</td>\n",
       "      <td>3.694000</td>\n",
       "      <td>1.063830</td>\n",
       "      <td>1.595745</td>\n",
       "    </tr>\n",
       "    <tr>\n",
       "      <th>2705</th>\n",
       "      <td>233</td>\n",
       "      <td>2019-01</td>\n",
       "      <td>177.5</td>\n",
       "      <td>35.117450</td>\n",
       "      <td>3.717143</td>\n",
       "      <td>1.000000</td>\n",
       "      <td>1.342857</td>\n",
       "    </tr>\n",
       "    <tr>\n",
       "      <th>2706</th>\n",
       "      <td>233</td>\n",
       "      <td>2019-02</td>\n",
       "      <td>244.0</td>\n",
       "      <td>45.151007</td>\n",
       "      <td>3.491489</td>\n",
       "      <td>1.044444</td>\n",
       "      <td>1.555556</td>\n",
       "    </tr>\n",
       "    <tr>\n",
       "      <th>2707</th>\n",
       "      <td>233</td>\n",
       "      <td>2019-03</td>\n",
       "      <td>199.1</td>\n",
       "      <td>40.134228</td>\n",
       "      <td>3.373171</td>\n",
       "      <td>1.025000</td>\n",
       "      <td>1.475000</td>\n",
       "    </tr>\n",
       "    <tr>\n",
       "      <th>2708</th>\n",
       "      <td>233</td>\n",
       "      <td>2019-04</td>\n",
       "      <td>158.6</td>\n",
       "      <td>30.100671</td>\n",
       "      <td>3.436364</td>\n",
       "      <td>1.100000</td>\n",
       "      <td>1.533333</td>\n",
       "    </tr>\n",
       "    <tr>\n",
       "      <th>2709</th>\n",
       "      <td>233</td>\n",
       "      <td>2019-05</td>\n",
       "      <td>344.4</td>\n",
       "      <td>57.191275</td>\n",
       "      <td>3.651613</td>\n",
       "      <td>1.087719</td>\n",
       "      <td>1.614035</td>\n",
       "    </tr>\n",
       "    <tr>\n",
       "      <th>2710</th>\n",
       "      <td>233</td>\n",
       "      <td>2019-06</td>\n",
       "      <td>221.0</td>\n",
       "      <td>41.137584</td>\n",
       "      <td>3.670732</td>\n",
       "      <td>1.000000</td>\n",
       "      <td>1.487805</td>\n",
       "    </tr>\n",
       "  </tbody>\n",
       "</table>\n",
       "</div>"
      ],
      "text/plain": [
       "      STORE_NBR month_year  totSales  nCustomers  avgPricePerUnit  \\\n",
       "2699        233    2018-07     290.7   51.171141         3.344444   \n",
       "2700        233    2018-08     285.9   48.161074         3.528000   \n",
       "2701        233    2018-09     228.6   42.140940         3.277778   \n",
       "2702        233    2018-10     185.7   35.117450         3.319444   \n",
       "2703        233    2018-11     211.6   40.134228         3.487805   \n",
       "2704        233    2018-12     279.8   47.157718         3.694000   \n",
       "2705        233    2019-01     177.5   35.117450         3.717143   \n",
       "2706        233    2019-02     244.0   45.151007         3.491489   \n",
       "2707        233    2019-03     199.1   40.134228         3.373171   \n",
       "2708        233    2019-04     158.6   30.100671         3.436364   \n",
       "2709        233    2019-05     344.4   57.191275         3.651613   \n",
       "2710        233    2019-06     221.0   41.137584         3.670732   \n",
       "\n",
       "      nTxnPerCust  nChipsPerTxn  \n",
       "2699     1.058824      1.725490  \n",
       "2700     1.041667      1.666667  \n",
       "2701     1.071429      1.666667  \n",
       "2702     1.028571      1.600000  \n",
       "2703     1.025000      1.550000  \n",
       "2704     1.063830      1.595745  \n",
       "2705     1.000000      1.342857  \n",
       "2706     1.044444      1.555556  \n",
       "2707     1.025000      1.475000  \n",
       "2708     1.100000      1.533333  \n",
       "2709     1.087719      1.614035  \n",
       "2710     1.000000      1.487805  "
      ]
     },
     "execution_count": 52,
     "metadata": {},
     "output_type": "execute_result"
    }
   ],
   "source": [
    "scalingFactorForControlnCustomers  = preTrialMeasures[preTrialMeasures.STORE_NBR == 77].nCustomers.sum() / preTrialMeasures[preTrialMeasures.STORE_NBR == 233].nCustomers.sum()\n",
    "scalingFactorForControlnCustomers\n",
    "\n",
    "measureOverTimenCustomers = measures_over_time.copy()\n",
    "measureOverTimenCustomers.loc[ measureOverTimenCustomers.STORE_NBR == 233, 'nCustomers'] = measureOverTimenCustomers.loc[ measureOverTimenCustomers.STORE_NBR == 233, 'nCustomers'] * scalingFactorForControlnCustomers\n",
    "scaledControlnCustomers = measureOverTimenCustomers[ measureOverTimenCustomers.STORE_NBR == 233]\n",
    "scaledControlnCustomers"
   ]
  },
  {
   "cell_type": "markdown",
   "execution_count": null,
   "metadata": {
    "_cell_guid": "183d86fc-2e1d-46cb-afb1-8436c1901a38",
    "_uuid": "5225debd-e578-42c3-9a69-8cc94ebb736d",
    "papermill": {
     "duration": 0.043136,
     "end_time": "2020-08-25T16:11:49.341321",
     "exception": false,
     "start_time": "2020-08-25T16:11:49.298185",
     "status": "completed"
    },
    "tags": []
   },
   "source": [
    "### Percentage diffrences\n",
    "Now I have comparable sales figures for the control store, I will calculate the percentage diffrence between the scaled  control customers and the trial store's customers during the trial period."
   ]
  },
  {
   "cell_type": "code",
   "execution_count": 53,
   "metadata": {
    "_cell_guid": "e8c4c442-5e5d-419a-ab43-19fe8582d175",
    "_uuid": "69526c23-091f-400e-8ecc-4d20e505496e",
    "execution": {
     "iopub.execute_input": "2020-08-25T16:11:49.461848Z",
     "iopub.status.busy": "2020-08-25T16:11:49.449234Z",
     "iopub.status.idle": "2020-08-25T16:11:49.466831Z",
     "shell.execute_reply": "2020-08-25T16:11:49.467445Z"
    },
    "papermill": {
     "duration": 0.082415,
     "end_time": "2020-08-25T16:11:49.467608",
     "exception": false,
     "start_time": "2020-08-25T16:11:49.385193",
     "status": "completed"
    },
    "tags": []
   },
   "outputs": [
    {
     "data": {
      "text/html": [
       "<div>\n",
       "<style scoped>\n",
       "    .dataframe tbody tr th:only-of-type {\n",
       "        vertical-align: middle;\n",
       "    }\n",
       "\n",
       "    .dataframe tbody tr th {\n",
       "        vertical-align: top;\n",
       "    }\n",
       "\n",
       "    .dataframe thead th {\n",
       "        text-align: right;\n",
       "    }\n",
       "</style>\n",
       "<table border=\"1\" class=\"dataframe\">\n",
       "  <thead>\n",
       "    <tr style=\"text-align: right;\">\n",
       "      <th></th>\n",
       "      <th>STORE_NBR_trial</th>\n",
       "      <th>month_year</th>\n",
       "      <th>totSales_trial</th>\n",
       "      <th>nCustomers_trial</th>\n",
       "      <th>avgPricePerUnit_trial</th>\n",
       "      <th>nTxnPerCust_trial</th>\n",
       "      <th>nChipsPerTxn_trial</th>\n",
       "      <th>STORE_NBR_control</th>\n",
       "      <th>totSales_control</th>\n",
       "      <th>nCustomers_control</th>\n",
       "      <th>avgPricePerUnit_control</th>\n",
       "      <th>nTxnPerCust_control</th>\n",
       "      <th>nChipsPerTxn_control</th>\n",
       "    </tr>\n",
       "  </thead>\n",
       "  <tbody>\n",
       "    <tr>\n",
       "      <th>0</th>\n",
       "      <td>77</td>\n",
       "      <td>2018-07</td>\n",
       "      <td>296.8</td>\n",
       "      <td>51.0</td>\n",
       "      <td>3.545455</td>\n",
       "      <td>1.078431</td>\n",
       "      <td>1.647059</td>\n",
       "      <td>233</td>\n",
       "      <td>290.7</td>\n",
       "      <td>51.171141</td>\n",
       "      <td>3.344444</td>\n",
       "      <td>1.058824</td>\n",
       "      <td>1.725490</td>\n",
       "    </tr>\n",
       "    <tr>\n",
       "      <th>1</th>\n",
       "      <td>77</td>\n",
       "      <td>2018-08</td>\n",
       "      <td>255.5</td>\n",
       "      <td>47.0</td>\n",
       "      <td>3.439583</td>\n",
       "      <td>1.021277</td>\n",
       "      <td>1.574468</td>\n",
       "      <td>233</td>\n",
       "      <td>285.9</td>\n",
       "      <td>48.161074</td>\n",
       "      <td>3.528000</td>\n",
       "      <td>1.041667</td>\n",
       "      <td>1.666667</td>\n",
       "    </tr>\n",
       "    <tr>\n",
       "      <th>2</th>\n",
       "      <td>77</td>\n",
       "      <td>2018-09</td>\n",
       "      <td>225.2</td>\n",
       "      <td>42.0</td>\n",
       "      <td>3.234091</td>\n",
       "      <td>1.047619</td>\n",
       "      <td>1.666667</td>\n",
       "      <td>233</td>\n",
       "      <td>228.6</td>\n",
       "      <td>42.140940</td>\n",
       "      <td>3.277778</td>\n",
       "      <td>1.071429</td>\n",
       "      <td>1.666667</td>\n",
       "    </tr>\n",
       "    <tr>\n",
       "      <th>3</th>\n",
       "      <td>77</td>\n",
       "      <td>2018-10</td>\n",
       "      <td>204.5</td>\n",
       "      <td>37.0</td>\n",
       "      <td>3.876316</td>\n",
       "      <td>1.027027</td>\n",
       "      <td>1.405405</td>\n",
       "      <td>233</td>\n",
       "      <td>185.7</td>\n",
       "      <td>35.117450</td>\n",
       "      <td>3.319444</td>\n",
       "      <td>1.028571</td>\n",
       "      <td>1.600000</td>\n",
       "    </tr>\n",
       "    <tr>\n",
       "      <th>4</th>\n",
       "      <td>77</td>\n",
       "      <td>2018-11</td>\n",
       "      <td>245.3</td>\n",
       "      <td>41.0</td>\n",
       "      <td>3.765909</td>\n",
       "      <td>1.073171</td>\n",
       "      <td>1.634146</td>\n",
       "      <td>233</td>\n",
       "      <td>211.6</td>\n",
       "      <td>40.134228</td>\n",
       "      <td>3.487805</td>\n",
       "      <td>1.025000</td>\n",
       "      <td>1.550000</td>\n",
       "    </tr>\n",
       "    <tr>\n",
       "      <th>5</th>\n",
       "      <td>77</td>\n",
       "      <td>2018-12</td>\n",
       "      <td>267.3</td>\n",
       "      <td>46.0</td>\n",
       "      <td>3.708163</td>\n",
       "      <td>1.065217</td>\n",
       "      <td>1.565217</td>\n",
       "      <td>233</td>\n",
       "      <td>279.8</td>\n",
       "      <td>47.157718</td>\n",
       "      <td>3.694000</td>\n",
       "      <td>1.063830</td>\n",
       "      <td>1.595745</td>\n",
       "    </tr>\n",
       "    <tr>\n",
       "      <th>6</th>\n",
       "      <td>77</td>\n",
       "      <td>2019-01</td>\n",
       "      <td>204.4</td>\n",
       "      <td>35.0</td>\n",
       "      <td>3.125641</td>\n",
       "      <td>1.114286</td>\n",
       "      <td>1.857143</td>\n",
       "      <td>233</td>\n",
       "      <td>177.5</td>\n",
       "      <td>35.117450</td>\n",
       "      <td>3.717143</td>\n",
       "      <td>1.000000</td>\n",
       "      <td>1.342857</td>\n",
       "    </tr>\n",
       "    <tr>\n",
       "      <th>7</th>\n",
       "      <td>77</td>\n",
       "      <td>2019-02</td>\n",
       "      <td>235.0</td>\n",
       "      <td>45.0</td>\n",
       "      <td>3.193333</td>\n",
       "      <td>1.000000</td>\n",
       "      <td>1.644444</td>\n",
       "      <td>233</td>\n",
       "      <td>244.0</td>\n",
       "      <td>45.151007</td>\n",
       "      <td>3.491489</td>\n",
       "      <td>1.044444</td>\n",
       "      <td>1.555556</td>\n",
       "    </tr>\n",
       "    <tr>\n",
       "      <th>8</th>\n",
       "      <td>77</td>\n",
       "      <td>2019-03</td>\n",
       "      <td>278.5</td>\n",
       "      <td>50.0</td>\n",
       "      <td>3.481818</td>\n",
       "      <td>1.100000</td>\n",
       "      <td>1.640000</td>\n",
       "      <td>233</td>\n",
       "      <td>199.1</td>\n",
       "      <td>40.134228</td>\n",
       "      <td>3.373171</td>\n",
       "      <td>1.025000</td>\n",
       "      <td>1.475000</td>\n",
       "    </tr>\n",
       "    <tr>\n",
       "      <th>9</th>\n",
       "      <td>77</td>\n",
       "      <td>2019-04</td>\n",
       "      <td>263.5</td>\n",
       "      <td>47.0</td>\n",
       "      <td>3.431250</td>\n",
       "      <td>1.021277</td>\n",
       "      <td>1.659574</td>\n",
       "      <td>233</td>\n",
       "      <td>158.6</td>\n",
       "      <td>30.100671</td>\n",
       "      <td>3.436364</td>\n",
       "      <td>1.100000</td>\n",
       "      <td>1.533333</td>\n",
       "    </tr>\n",
       "    <tr>\n",
       "      <th>10</th>\n",
       "      <td>77</td>\n",
       "      <td>2019-05</td>\n",
       "      <td>299.3</td>\n",
       "      <td>55.0</td>\n",
       "      <td>3.528571</td>\n",
       "      <td>1.018182</td>\n",
       "      <td>1.527273</td>\n",
       "      <td>233</td>\n",
       "      <td>344.4</td>\n",
       "      <td>57.191275</td>\n",
       "      <td>3.651613</td>\n",
       "      <td>1.087719</td>\n",
       "      <td>1.614035</td>\n",
       "    </tr>\n",
       "    <tr>\n",
       "      <th>11</th>\n",
       "      <td>77</td>\n",
       "      <td>2019-06</td>\n",
       "      <td>264.7</td>\n",
       "      <td>41.0</td>\n",
       "      <td>3.735714</td>\n",
       "      <td>1.024390</td>\n",
       "      <td>1.707317</td>\n",
       "      <td>233</td>\n",
       "      <td>221.0</td>\n",
       "      <td>41.137584</td>\n",
       "      <td>3.670732</td>\n",
       "      <td>1.000000</td>\n",
       "      <td>1.487805</td>\n",
       "    </tr>\n",
       "  </tbody>\n",
       "</table>\n",
       "</div>"
      ],
      "text/plain": [
       "    STORE_NBR_trial month_year  totSales_trial  nCustomers_trial  \\\n",
       "0                77    2018-07           296.8              51.0   \n",
       "1                77    2018-08           255.5              47.0   \n",
       "2                77    2018-09           225.2              42.0   \n",
       "3                77    2018-10           204.5              37.0   \n",
       "4                77    2018-11           245.3              41.0   \n",
       "5                77    2018-12           267.3              46.0   \n",
       "6                77    2019-01           204.4              35.0   \n",
       "7                77    2019-02           235.0              45.0   \n",
       "8                77    2019-03           278.5              50.0   \n",
       "9                77    2019-04           263.5              47.0   \n",
       "10               77    2019-05           299.3              55.0   \n",
       "11               77    2019-06           264.7              41.0   \n",
       "\n",
       "    avgPricePerUnit_trial  nTxnPerCust_trial  nChipsPerTxn_trial  \\\n",
       "0                3.545455           1.078431            1.647059   \n",
       "1                3.439583           1.021277            1.574468   \n",
       "2                3.234091           1.047619            1.666667   \n",
       "3                3.876316           1.027027            1.405405   \n",
       "4                3.765909           1.073171            1.634146   \n",
       "5                3.708163           1.065217            1.565217   \n",
       "6                3.125641           1.114286            1.857143   \n",
       "7                3.193333           1.000000            1.644444   \n",
       "8                3.481818           1.100000            1.640000   \n",
       "9                3.431250           1.021277            1.659574   \n",
       "10               3.528571           1.018182            1.527273   \n",
       "11               3.735714           1.024390            1.707317   \n",
       "\n",
       "    STORE_NBR_control  totSales_control  nCustomers_control  \\\n",
       "0                 233             290.7           51.171141   \n",
       "1                 233             285.9           48.161074   \n",
       "2                 233             228.6           42.140940   \n",
       "3                 233             185.7           35.117450   \n",
       "4                 233             211.6           40.134228   \n",
       "5                 233             279.8           47.157718   \n",
       "6                 233             177.5           35.117450   \n",
       "7                 233             244.0           45.151007   \n",
       "8                 233             199.1           40.134228   \n",
       "9                 233             158.6           30.100671   \n",
       "10                233             344.4           57.191275   \n",
       "11                233             221.0           41.137584   \n",
       "\n",
       "    avgPricePerUnit_control  nTxnPerCust_control  nChipsPerTxn_control  \n",
       "0                  3.344444             1.058824              1.725490  \n",
       "1                  3.528000             1.041667              1.666667  \n",
       "2                  3.277778             1.071429              1.666667  \n",
       "3                  3.319444             1.028571              1.600000  \n",
       "4                  3.487805             1.025000              1.550000  \n",
       "5                  3.694000             1.063830              1.595745  \n",
       "6                  3.717143             1.000000              1.342857  \n",
       "7                  3.491489             1.044444              1.555556  \n",
       "8                  3.373171             1.025000              1.475000  \n",
       "9                  3.436364             1.100000              1.533333  \n",
       "10                 3.651613             1.087719              1.614035  \n",
       "11                 3.670732             1.000000              1.487805  "
      ]
     },
     "execution_count": 53,
     "metadata": {},
     "output_type": "execute_result"
    }
   ],
   "source": [
    "measureOverTimenCustomersStore77 = measureOverTimenCustomers.loc[ (measureOverTimenCustomers.STORE_NBR == 77)]\n",
    "percentageDiff  = pd.merge(measureOverTimenCustomersStore77, scaledControlnCustomers, on = 'month_year', suffixes=('_trial', '_control'))\n",
    "percentageDiff"
   ]
  },
  {
   "cell_type": "markdown",
   "execution_count": null,
   "metadata": {
    "_cell_guid": "b867aba8-b634-4f3a-9be9-6f98e35f0cda",
    "_uuid": "4ffdc10a-af08-40dc-8118-1e74bb422a1b",
    "papermill": {
     "duration": 0.043722,
     "end_time": "2020-08-25T16:11:49.555388",
     "exception": false,
     "start_time": "2020-08-25T16:11:49.511666",
     "status": "completed"
    },
    "tags": []
   },
   "source": [
    "### Compute percentage diffrence"
   ]
  },
  {
   "cell_type": "code",
   "execution_count": 54,
   "metadata": {
    "_cell_guid": "dc4525ce-d544-49ad-affd-02fb9bc9a873",
    "_uuid": "32d73eef-8354-40ad-ba4c-cc5a5997364a",
    "execution": {
     "iopub.execute_input": "2020-08-25T16:11:49.654871Z",
     "iopub.status.busy": "2020-08-25T16:11:49.652066Z",
     "iopub.status.idle": "2020-08-25T16:11:49.660004Z",
     "shell.execute_reply": "2020-08-25T16:11:49.659419Z"
    },
    "papermill": {
     "duration": 0.06062,
     "end_time": "2020-08-25T16:11:49.660136",
     "exception": false,
     "start_time": "2020-08-25T16:11:49.599516",
     "status": "completed"
    },
    "tags": []
   },
   "outputs": [
    {
     "data": {
      "text/plain": [
       "0    0.003344\n",
       "1    0.024108\n",
       "2    0.003344\n",
       "3    0.053607\n",
       "4    0.021572\n",
       "5    0.024550\n",
       "6    0.003344\n",
       "Name: percentageDiffnCustomers, dtype: float64"
      ]
     },
     "execution_count": 54,
     "metadata": {},
     "output_type": "execute_result"
    }
   ],
   "source": [
    "percentageDiff['percentageDiffnCustomers'] = abs(percentageDiff.nCustomers_control - percentageDiff.nCustomers_trial)/ percentageDiff.nCustomers_control\n",
    "diffDuringPreTrial = percentageDiff[percentageDiff.month_year < '2019-02'].percentageDiffnCustomers\n",
    "diffDuringPreTrial"
   ]
  },
  {
   "cell_type": "markdown",
   "execution_count": null,
   "metadata": {
    "_cell_guid": "dc0e3259-f889-48a1-baca-100c82747266",
    "_uuid": "9e21a761-7e59-4c15-ba80-0cc3fee99669",
    "papermill": {
     "duration": 0.044861,
     "end_time": "2020-08-25T16:11:49.749149",
     "exception": false,
     "start_time": "2020-08-25T16:11:49.704288",
     "status": "completed"
    },
    "tags": []
   },
   "source": [
    "One sample t test determines whether the sample mean is statistically diffrent from a known or hypothesized population mean. \n",
    "\n",
    "H0: the trial period is the same as the pre-trial period."
   ]
  },
  {
   "cell_type": "code",
   "execution_count": 55,
   "metadata": {
    "_cell_guid": "94cba4d5-f53f-429c-8df0-af44b19398b1",
    "_uuid": "ac880e28-d5c3-4eb5-952e-7cfc3bd6778d",
    "execution": {
     "iopub.execute_input": "2020-08-25T16:11:49.878632Z",
     "iopub.status.busy": "2020-08-25T16:11:49.877844Z",
     "iopub.status.idle": "2020-08-25T16:11:49.881344Z",
     "shell.execute_reply": "2020-08-25T16:11:49.880711Z"
    },
    "papermill": {
     "duration": 0.053507,
     "end_time": "2020-08-25T16:11:49.881468",
     "exception": false,
     "start_time": "2020-08-25T16:11:49.827961",
     "status": "completed"
    },
    "tags": []
   },
   "outputs": [],
   "source": [
    "stdDev_pretrial = np.std(diffDuringPreTrial)\n",
    "degreesOfFreedom = 7"
   ]
  },
  {
   "cell_type": "markdown",
   "execution_count": null,
   "metadata": {
    "_cell_guid": "ab3284e3-a62a-4c80-afbe-9576fbb3bec7",
    "_uuid": "04d11b8f-6350-43ed-a6e1-1f257e472113",
    "papermill": {
     "duration": 0.043866,
     "end_time": "2020-08-25T16:11:49.969503",
     "exception": false,
     "start_time": "2020-08-25T16:11:49.925637",
     "status": "completed"
    },
    "tags": []
   },
   "source": [
    "We will test with a null hypothesis of there being 0 diffrence between trial and control stores."
   ]
  },
  {
   "cell_type": "code",
   "execution_count": 56,
   "metadata": {
    "_cell_guid": "76741acb-7db6-4e6d-9d5e-6a3efee4d21c",
    "_uuid": "e4b2a496-ec9b-499a-863c-4b851e278f7b",
    "execution": {
     "iopub.execute_input": "2020-08-25T16:11:50.067625Z",
     "iopub.status.busy": "2020-08-25T16:11:50.066802Z",
     "iopub.status.idle": "2020-08-25T16:11:50.071271Z",
     "shell.execute_reply": "2020-08-25T16:11:50.071794Z"
    },
    "papermill": {
     "duration": 0.058404,
     "end_time": "2020-08-25T16:11:50.071990",
     "exception": false,
     "start_time": "2020-08-25T16:11:50.013586",
     "status": "completed"
    },
    "tags": []
   },
   "outputs": [
    {
     "data": {
      "text/plain": [
       "7     0.198043\n",
       "8    14.556162\n",
       "9    33.244822\n",
       "Name: percentageDiffnCustomers, dtype: float64"
      ]
     },
     "execution_count": 56,
     "metadata": {},
     "output_type": "execute_result"
    }
   ],
   "source": [
    "t_calc = (percentageDiff.loc[percentageDiff.month_year.between('2019-02', '2019-04'),'percentageDiffnCustomers'] - 0) / stdDev_pretrial\n",
    "t_calc"
   ]
  },
  {
   "cell_type": "markdown",
   "execution_count": null,
   "metadata": {
    "_cell_guid": "c8bf7fcf-5af3-40e1-afb8-bbd971e67a1b",
    "_uuid": "de9647ed-d562-4fdc-85f1-a3b9ab721b74",
    "papermill": {
     "duration": 0.044445,
     "end_time": "2020-08-25T16:11:50.161503",
     "exception": false,
     "start_time": "2020-08-25T16:11:50.117058",
     "status": "completed"
    },
    "tags": []
   },
   "source": [
    "The calculated t value is then compared to the critical t value from the t distribution table with degrees of freedom df = n - 1 and chosen confidence level. If the calculated t value > critical t value, then we reject the null hypothesis."
   ]
  },
  {
   "cell_type": "code",
   "execution_count": 57,
   "metadata": {
    "_cell_guid": "aec9668a-16a8-47e3-84cf-bbc250cf1041",
    "_uuid": "d8cd4126-0e3c-4b25-ad66-60f1417ad908",
    "execution": {
     "iopub.execute_input": "2020-08-25T16:11:50.260966Z",
     "iopub.status.busy": "2020-08-25T16:11:50.260090Z",
     "iopub.status.idle": "2020-08-25T16:11:50.264230Z",
     "shell.execute_reply": "2020-08-25T16:11:50.263505Z"
    },
    "papermill": {
     "duration": 0.057209,
     "end_time": "2020-08-25T16:11:50.264352",
     "exception": false,
     "start_time": "2020-08-25T16:11:50.207143",
     "status": "completed"
    },
    "tags": []
   },
   "outputs": [
    {
     "data": {
      "text/plain": [
       "7    False\n",
       "8     True\n",
       "9     True\n",
       "Name: percentageDiffnCustomers, dtype: bool"
      ]
     },
     "execution_count": 57,
     "metadata": {},
     "output_type": "execute_result"
    }
   ],
   "source": [
    "t_calc > t_critic"
   ]
  },
  {
   "cell_type": "markdown",
   "execution_count": null,
   "metadata": {
    "_cell_guid": "61fe9bbc-7e8e-4798-ac38-9cb74862ce2e",
    "_uuid": "4eef8b85-1563-41c4-9de3-1add96ca0b7c",
    "papermill": {
     "duration": 0.044851,
     "end_time": "2020-08-25T16:11:50.354447",
     "exception": false,
     "start_time": "2020-08-25T16:11:50.309596",
     "status": "completed"
    },
    "tags": []
   },
   "source": [
    "We can observe that the t-value is  larger than the 95th percentile value of the t-distribution for March and April - i.e. the increase in customers in the trial store in March and April is statistically greater than in the control store."
   ]
  },
  {
   "cell_type": "markdown",
   "execution_count": null,
   "metadata": {
    "_cell_guid": "cf0d4ab8-8772-4618-ad2f-ea9d459213f4",
    "_uuid": "e4495d40-0596-4483-b70f-759c6f18d19c",
    "papermill": {
     "duration": 0.045025,
     "end_time": "2020-08-25T16:11:50.444753",
     "exception": false,
     "start_time": "2020-08-25T16:11:50.399728",
     "status": "completed"
    },
    "tags": []
   },
   "source": [
    "# Store no.86"
   ]
  },
  {
   "cell_type": "markdown",
   "execution_count": null,
   "metadata": {
    "_cell_guid": "381f4b65-5286-4df3-bb0b-bdde5ff208da",
    "_uuid": "4e7143b3-42f5-4342-b7a5-62e8b7fc8b0c",
    "papermill": {
     "duration": 0.044375,
     "end_time": "2020-08-25T16:11:50.534471",
     "exception": false,
     "start_time": "2020-08-25T16:11:50.490096",
     "status": "completed"
    },
    "tags": []
   },
   "source": [
    "### Scale pre-trial control sales to match pre-trial trial store sales"
   ]
  },
  {
   "cell_type": "code",
   "execution_count": 58,
   "metadata": {
    "_cell_guid": "6df6a269-349a-4d9e-8d2f-42eea0e415ae",
    "_uuid": "6a55ebbe-32d6-4952-a003-1d383b716c72",
    "execution": {
     "iopub.execute_input": "2020-08-25T16:11:50.634107Z",
     "iopub.status.busy": "2020-08-25T16:11:50.633324Z",
     "iopub.status.idle": "2020-08-25T16:11:50.637011Z",
     "shell.execute_reply": "2020-08-25T16:11:50.636372Z"
    },
    "papermill": {
     "duration": 0.057858,
     "end_time": "2020-08-25T16:11:50.637151",
     "exception": false,
     "start_time": "2020-08-25T16:11:50.579293",
     "status": "completed"
    },
    "tags": []
   },
   "outputs": [],
   "source": [
    "factor  = preTrialMeasures[preTrialMeasures.STORE_NBR == 86].totSales.sum() / preTrialMeasures[preTrialMeasures.STORE_NBR == 155].totSales.sum()\n",
    "factor\n",
    "\n",
    "measuresOverTimeSales = measures_over_time.copy()"
   ]
  },
  {
   "cell_type": "code",
   "execution_count": 59,
   "metadata": {
    "_cell_guid": "eb360075-429b-4506-bf50-f41b616d8dff",
    "_uuid": "374cfe4a-6615-494c-93a0-0e24eac9de69",
    "execution": {
     "iopub.execute_input": "2020-08-25T16:11:50.750623Z",
     "iopub.status.busy": "2020-08-25T16:11:50.749756Z",
     "iopub.status.idle": "2020-08-25T16:11:50.755462Z",
     "shell.execute_reply": "2020-08-25T16:11:50.754701Z"
    },
    "papermill": {
     "duration": 0.073087,
     "end_time": "2020-08-25T16:11:50.755592",
     "exception": false,
     "start_time": "2020-08-25T16:11:50.682505",
     "status": "completed"
    },
    "tags": []
   },
   "outputs": [
    {
     "data": {
      "text/html": [
       "<div>\n",
       "<style scoped>\n",
       "    .dataframe tbody tr th:only-of-type {\n",
       "        vertical-align: middle;\n",
       "    }\n",
       "\n",
       "    .dataframe tbody tr th {\n",
       "        vertical-align: top;\n",
       "    }\n",
       "\n",
       "    .dataframe thead th {\n",
       "        text-align: right;\n",
       "    }\n",
       "</style>\n",
       "<table border=\"1\" class=\"dataframe\">\n",
       "  <thead>\n",
       "    <tr style=\"text-align: right;\">\n",
       "      <th></th>\n",
       "      <th>STORE_NBR</th>\n",
       "      <th>month_year</th>\n",
       "      <th>totSales</th>\n",
       "      <th>nCustomers</th>\n",
       "      <th>avgPricePerUnit</th>\n",
       "      <th>nTxnPerCust</th>\n",
       "      <th>nChipsPerTxn</th>\n",
       "    </tr>\n",
       "  </thead>\n",
       "  <tbody>\n",
       "    <tr>\n",
       "      <th>1793</th>\n",
       "      <td>155</td>\n",
       "      <td>2018-07</td>\n",
       "      <td>896.922236</td>\n",
       "      <td>101</td>\n",
       "      <td>3.698400</td>\n",
       "      <td>1.237624</td>\n",
       "      <td>2.475248</td>\n",
       "    </tr>\n",
       "    <tr>\n",
       "      <th>1794</th>\n",
       "      <td>155</td>\n",
       "      <td>2018-08</td>\n",
       "      <td>759.269991</td>\n",
       "      <td>91</td>\n",
       "      <td>3.451667</td>\n",
       "      <td>1.318681</td>\n",
       "      <td>2.516484</td>\n",
       "    </tr>\n",
       "    <tr>\n",
       "      <th>1795</th>\n",
       "      <td>155</td>\n",
       "      <td>2018-09</td>\n",
       "      <td>984.034086</td>\n",
       "      <td>103</td>\n",
       "      <td>3.497931</td>\n",
       "      <td>1.407767</td>\n",
       "      <td>2.815534</td>\n",
       "    </tr>\n",
       "    <tr>\n",
       "      <th>1796</th>\n",
       "      <td>155</td>\n",
       "      <td>2018-10</td>\n",
       "      <td>934.948790</td>\n",
       "      <td>108</td>\n",
       "      <td>3.543382</td>\n",
       "      <td>1.259259</td>\n",
       "      <td>2.518519</td>\n",
       "    </tr>\n",
       "    <tr>\n",
       "      <th>1797</th>\n",
       "      <td>155</td>\n",
       "      <td>2018-11</td>\n",
       "      <td>871.894555</td>\n",
       "      <td>101</td>\n",
       "      <td>3.328889</td>\n",
       "      <td>1.336634</td>\n",
       "      <td>2.673267</td>\n",
       "    </tr>\n",
       "    <tr>\n",
       "      <th>1798</th>\n",
       "      <td>155</td>\n",
       "      <td>2018-12</td>\n",
       "      <td>824.361363</td>\n",
       "      <td>97</td>\n",
       "      <td>3.511570</td>\n",
       "      <td>1.247423</td>\n",
       "      <td>2.494845</td>\n",
       "    </tr>\n",
       "    <tr>\n",
       "      <th>1799</th>\n",
       "      <td>155</td>\n",
       "      <td>2019-01</td>\n",
       "      <td>848.418979</td>\n",
       "      <td>96</td>\n",
       "      <td>3.470635</td>\n",
       "      <td>1.312500</td>\n",
       "      <td>2.625000</td>\n",
       "    </tr>\n",
       "    <tr>\n",
       "      <th>1800</th>\n",
       "      <td>155</td>\n",
       "      <td>2019-02</td>\n",
       "      <td>864.522060</td>\n",
       "      <td>95</td>\n",
       "      <td>3.508661</td>\n",
       "      <td>1.336842</td>\n",
       "      <td>2.673684</td>\n",
       "    </tr>\n",
       "    <tr>\n",
       "      <th>1801</th>\n",
       "      <td>155</td>\n",
       "      <td>2019-03</td>\n",
       "      <td>780.320405</td>\n",
       "      <td>94</td>\n",
       "      <td>3.351667</td>\n",
       "      <td>1.276596</td>\n",
       "      <td>2.553191</td>\n",
       "    </tr>\n",
       "    <tr>\n",
       "      <th>1802</th>\n",
       "      <td>155</td>\n",
       "      <td>2019-04</td>\n",
       "      <td>819.317024</td>\n",
       "      <td>99</td>\n",
       "      <td>3.490083</td>\n",
       "      <td>1.222222</td>\n",
       "      <td>2.444444</td>\n",
       "    </tr>\n",
       "    <tr>\n",
       "      <th>1803</th>\n",
       "      <td>155</td>\n",
       "      <td>2019-05</td>\n",
       "      <td>895.224622</td>\n",
       "      <td>106</td>\n",
       "      <td>3.490876</td>\n",
       "      <td>1.292453</td>\n",
       "      <td>2.500000</td>\n",
       "    </tr>\n",
       "    <tr>\n",
       "      <th>1804</th>\n",
       "      <td>155</td>\n",
       "      <td>2019-06</td>\n",
       "      <td>831.539845</td>\n",
       "      <td>95</td>\n",
       "      <td>3.513115</td>\n",
       "      <td>1.284211</td>\n",
       "      <td>2.568421</td>\n",
       "    </tr>\n",
       "  </tbody>\n",
       "</table>\n",
       "</div>"
      ],
      "text/plain": [
       "      STORE_NBR month_year    totSales  nCustomers  avgPricePerUnit  \\\n",
       "1793        155    2018-07  896.922236         101         3.698400   \n",
       "1794        155    2018-08  759.269991          91         3.451667   \n",
       "1795        155    2018-09  984.034086         103         3.497931   \n",
       "1796        155    2018-10  934.948790         108         3.543382   \n",
       "1797        155    2018-11  871.894555         101         3.328889   \n",
       "1798        155    2018-12  824.361363          97         3.511570   \n",
       "1799        155    2019-01  848.418979          96         3.470635   \n",
       "1800        155    2019-02  864.522060          95         3.508661   \n",
       "1801        155    2019-03  780.320405          94         3.351667   \n",
       "1802        155    2019-04  819.317024          99         3.490083   \n",
       "1803        155    2019-05  895.224622         106         3.490876   \n",
       "1804        155    2019-06  831.539845          95         3.513115   \n",
       "\n",
       "      nTxnPerCust  nChipsPerTxn  \n",
       "1793     1.237624      2.475248  \n",
       "1794     1.318681      2.516484  \n",
       "1795     1.407767      2.815534  \n",
       "1796     1.259259      2.518519  \n",
       "1797     1.336634      2.673267  \n",
       "1798     1.247423      2.494845  \n",
       "1799     1.312500      2.625000  \n",
       "1800     1.336842      2.673684  \n",
       "1801     1.276596      2.553191  \n",
       "1802     1.222222      2.444444  \n",
       "1803     1.292453      2.500000  \n",
       "1804     1.284211      2.568421  "
      ]
     },
     "execution_count": 59,
     "metadata": {},
     "output_type": "execute_result"
    }
   ],
   "source": [
    "measuresOverTimeSales.loc[ measuresOverTimeSales.STORE_NBR == 155, 'totSales'] = measuresOverTimeSales.loc[ measuresOverTimeSales.STORE_NBR == 155, 'totSales'] * factor\n",
    "scaledControlSales = measuresOverTimeSales[ measuresOverTimeSales.STORE_NBR == 155]\n",
    "scaledControlSales"
   ]
  },
  {
   "cell_type": "markdown",
   "execution_count": null,
   "metadata": {
    "_cell_guid": "10fd13b9-496e-4725-a6e0-5f3adc026af3",
    "_uuid": "990dea2d-fcfd-4195-8a01-f899715aacb1",
    "papermill": {
     "duration": 0.044727,
     "end_time": "2020-08-25T16:11:50.845817",
     "exception": false,
     "start_time": "2020-08-25T16:11:50.801090",
     "status": "completed"
    },
    "tags": []
   },
   "source": [
    "### Percentage diffrences\n",
    "Now I have comparable sales figures for the control store, I will calculate the percentage diffrence between the scaled  control sales and the trial store's sales during the trial period."
   ]
  },
  {
   "cell_type": "code",
   "execution_count": 60,
   "metadata": {
    "_cell_guid": "a84d46b6-e5f5-422f-a17b-a6426844e76a",
    "_uuid": "e19dc421-451b-45db-914b-9b43f8ddad37",
    "execution": {
     "iopub.execute_input": "2020-08-25T16:11:50.968385Z",
     "iopub.status.busy": "2020-08-25T16:11:50.967298Z",
     "iopub.status.idle": "2020-08-25T16:11:50.972520Z",
     "shell.execute_reply": "2020-08-25T16:11:50.971767Z"
    },
    "papermill": {
     "duration": 0.08162,
     "end_time": "2020-08-25T16:11:50.972647",
     "exception": false,
     "start_time": "2020-08-25T16:11:50.891027",
     "status": "completed"
    },
    "tags": []
   },
   "outputs": [
    {
     "data": {
      "text/html": [
       "<div>\n",
       "<style scoped>\n",
       "    .dataframe tbody tr th:only-of-type {\n",
       "        vertical-align: middle;\n",
       "    }\n",
       "\n",
       "    .dataframe tbody tr th {\n",
       "        vertical-align: top;\n",
       "    }\n",
       "\n",
       "    .dataframe thead th {\n",
       "        text-align: right;\n",
       "    }\n",
       "</style>\n",
       "<table border=\"1\" class=\"dataframe\">\n",
       "  <thead>\n",
       "    <tr style=\"text-align: right;\">\n",
       "      <th></th>\n",
       "      <th>STORE_NBR_trial</th>\n",
       "      <th>month_year</th>\n",
       "      <th>totSales_trial</th>\n",
       "      <th>nCustomers_trial</th>\n",
       "      <th>avgPricePerUnit_trial</th>\n",
       "      <th>nTxnPerCust_trial</th>\n",
       "      <th>nChipsPerTxn_trial</th>\n",
       "      <th>STORE_NBR_control</th>\n",
       "      <th>totSales_control</th>\n",
       "      <th>nCustomers_control</th>\n",
       "      <th>avgPricePerUnit_control</th>\n",
       "      <th>nTxnPerCust_control</th>\n",
       "      <th>nChipsPerTxn_control</th>\n",
       "    </tr>\n",
       "  </thead>\n",
       "  <tbody>\n",
       "    <tr>\n",
       "      <th>0</th>\n",
       "      <td>86</td>\n",
       "      <td>2018-07</td>\n",
       "      <td>892.20</td>\n",
       "      <td>99</td>\n",
       "      <td>3.555556</td>\n",
       "      <td>1.272727</td>\n",
       "      <td>2.535354</td>\n",
       "      <td>155</td>\n",
       "      <td>896.922236</td>\n",
       "      <td>101</td>\n",
       "      <td>3.698400</td>\n",
       "      <td>1.237624</td>\n",
       "      <td>2.475248</td>\n",
       "    </tr>\n",
       "    <tr>\n",
       "      <th>1</th>\n",
       "      <td>86</td>\n",
       "      <td>2018-08</td>\n",
       "      <td>764.05</td>\n",
       "      <td>94</td>\n",
       "      <td>3.584375</td>\n",
       "      <td>1.191489</td>\n",
       "      <td>2.287234</td>\n",
       "      <td>155</td>\n",
       "      <td>759.269991</td>\n",
       "      <td>91</td>\n",
       "      <td>3.451667</td>\n",
       "      <td>1.318681</td>\n",
       "      <td>2.516484</td>\n",
       "    </tr>\n",
       "    <tr>\n",
       "      <th>2</th>\n",
       "      <td>86</td>\n",
       "      <td>2018-09</td>\n",
       "      <td>914.60</td>\n",
       "      <td>103</td>\n",
       "      <td>3.544961</td>\n",
       "      <td>1.252427</td>\n",
       "      <td>2.504854</td>\n",
       "      <td>155</td>\n",
       "      <td>984.034086</td>\n",
       "      <td>103</td>\n",
       "      <td>3.497931</td>\n",
       "      <td>1.407767</td>\n",
       "      <td>2.815534</td>\n",
       "    </tr>\n",
       "    <tr>\n",
       "      <th>3</th>\n",
       "      <td>86</td>\n",
       "      <td>2018-10</td>\n",
       "      <td>948.40</td>\n",
       "      <td>109</td>\n",
       "      <td>3.436232</td>\n",
       "      <td>1.266055</td>\n",
       "      <td>2.532110</td>\n",
       "      <td>155</td>\n",
       "      <td>934.948790</td>\n",
       "      <td>108</td>\n",
       "      <td>3.543382</td>\n",
       "      <td>1.259259</td>\n",
       "      <td>2.518519</td>\n",
       "    </tr>\n",
       "    <tr>\n",
       "      <th>4</th>\n",
       "      <td>86</td>\n",
       "      <td>2018-11</td>\n",
       "      <td>918.00</td>\n",
       "      <td>100</td>\n",
       "      <td>3.614173</td>\n",
       "      <td>1.270000</td>\n",
       "      <td>2.540000</td>\n",
       "      <td>155</td>\n",
       "      <td>871.894555</td>\n",
       "      <td>101</td>\n",
       "      <td>3.328889</td>\n",
       "      <td>1.336634</td>\n",
       "      <td>2.673267</td>\n",
       "    </tr>\n",
       "    <tr>\n",
       "      <th>5</th>\n",
       "      <td>86</td>\n",
       "      <td>2018-12</td>\n",
       "      <td>841.20</td>\n",
       "      <td>98</td>\n",
       "      <td>3.505000</td>\n",
       "      <td>1.224490</td>\n",
       "      <td>2.448980</td>\n",
       "      <td>155</td>\n",
       "      <td>824.361363</td>\n",
       "      <td>97</td>\n",
       "      <td>3.511570</td>\n",
       "      <td>1.247423</td>\n",
       "      <td>2.494845</td>\n",
       "    </tr>\n",
       "    <tr>\n",
       "      <th>6</th>\n",
       "      <td>86</td>\n",
       "      <td>2019-01</td>\n",
       "      <td>841.40</td>\n",
       "      <td>94</td>\n",
       "      <td>3.236154</td>\n",
       "      <td>1.382979</td>\n",
       "      <td>2.765957</td>\n",
       "      <td>155</td>\n",
       "      <td>848.418979</td>\n",
       "      <td>96</td>\n",
       "      <td>3.470635</td>\n",
       "      <td>1.312500</td>\n",
       "      <td>2.625000</td>\n",
       "    </tr>\n",
       "    <tr>\n",
       "      <th>7</th>\n",
       "      <td>86</td>\n",
       "      <td>2019-02</td>\n",
       "      <td>913.20</td>\n",
       "      <td>107</td>\n",
       "      <td>3.298561</td>\n",
       "      <td>1.299065</td>\n",
       "      <td>2.588785</td>\n",
       "      <td>155</td>\n",
       "      <td>864.522060</td>\n",
       "      <td>95</td>\n",
       "      <td>3.508661</td>\n",
       "      <td>1.336842</td>\n",
       "      <td>2.673684</td>\n",
       "    </tr>\n",
       "    <tr>\n",
       "      <th>8</th>\n",
       "      <td>86</td>\n",
       "      <td>2019-03</td>\n",
       "      <td>1026.80</td>\n",
       "      <td>115</td>\n",
       "      <td>3.615493</td>\n",
       "      <td>1.234783</td>\n",
       "      <td>2.469565</td>\n",
       "      <td>155</td>\n",
       "      <td>780.320405</td>\n",
       "      <td>94</td>\n",
       "      <td>3.351667</td>\n",
       "      <td>1.276596</td>\n",
       "      <td>2.553191</td>\n",
       "    </tr>\n",
       "    <tr>\n",
       "      <th>9</th>\n",
       "      <td>86</td>\n",
       "      <td>2019-04</td>\n",
       "      <td>848.20</td>\n",
       "      <td>105</td>\n",
       "      <td>3.339370</td>\n",
       "      <td>1.209524</td>\n",
       "      <td>2.419048</td>\n",
       "      <td>155</td>\n",
       "      <td>819.317024</td>\n",
       "      <td>99</td>\n",
       "      <td>3.490083</td>\n",
       "      <td>1.222222</td>\n",
       "      <td>2.444444</td>\n",
       "    </tr>\n",
       "    <tr>\n",
       "      <th>10</th>\n",
       "      <td>86</td>\n",
       "      <td>2019-05</td>\n",
       "      <td>889.30</td>\n",
       "      <td>104</td>\n",
       "      <td>3.488372</td>\n",
       "      <td>1.240385</td>\n",
       "      <td>2.490385</td>\n",
       "      <td>155</td>\n",
       "      <td>895.224622</td>\n",
       "      <td>106</td>\n",
       "      <td>3.490876</td>\n",
       "      <td>1.292453</td>\n",
       "      <td>2.500000</td>\n",
       "    </tr>\n",
       "    <tr>\n",
       "      <th>11</th>\n",
       "      <td>86</td>\n",
       "      <td>2019-06</td>\n",
       "      <td>838.00</td>\n",
       "      <td>98</td>\n",
       "      <td>3.521008</td>\n",
       "      <td>1.214286</td>\n",
       "      <td>2.428571</td>\n",
       "      <td>155</td>\n",
       "      <td>831.539845</td>\n",
       "      <td>95</td>\n",
       "      <td>3.513115</td>\n",
       "      <td>1.284211</td>\n",
       "      <td>2.568421</td>\n",
       "    </tr>\n",
       "  </tbody>\n",
       "</table>\n",
       "</div>"
      ],
      "text/plain": [
       "    STORE_NBR_trial month_year  totSales_trial  nCustomers_trial  \\\n",
       "0                86    2018-07          892.20                99   \n",
       "1                86    2018-08          764.05                94   \n",
       "2                86    2018-09          914.60               103   \n",
       "3                86    2018-10          948.40               109   \n",
       "4                86    2018-11          918.00               100   \n",
       "5                86    2018-12          841.20                98   \n",
       "6                86    2019-01          841.40                94   \n",
       "7                86    2019-02          913.20               107   \n",
       "8                86    2019-03         1026.80               115   \n",
       "9                86    2019-04          848.20               105   \n",
       "10               86    2019-05          889.30               104   \n",
       "11               86    2019-06          838.00                98   \n",
       "\n",
       "    avgPricePerUnit_trial  nTxnPerCust_trial  nChipsPerTxn_trial  \\\n",
       "0                3.555556           1.272727            2.535354   \n",
       "1                3.584375           1.191489            2.287234   \n",
       "2                3.544961           1.252427            2.504854   \n",
       "3                3.436232           1.266055            2.532110   \n",
       "4                3.614173           1.270000            2.540000   \n",
       "5                3.505000           1.224490            2.448980   \n",
       "6                3.236154           1.382979            2.765957   \n",
       "7                3.298561           1.299065            2.588785   \n",
       "8                3.615493           1.234783            2.469565   \n",
       "9                3.339370           1.209524            2.419048   \n",
       "10               3.488372           1.240385            2.490385   \n",
       "11               3.521008           1.214286            2.428571   \n",
       "\n",
       "    STORE_NBR_control  totSales_control  nCustomers_control  \\\n",
       "0                 155        896.922236                 101   \n",
       "1                 155        759.269991                  91   \n",
       "2                 155        984.034086                 103   \n",
       "3                 155        934.948790                 108   \n",
       "4                 155        871.894555                 101   \n",
       "5                 155        824.361363                  97   \n",
       "6                 155        848.418979                  96   \n",
       "7                 155        864.522060                  95   \n",
       "8                 155        780.320405                  94   \n",
       "9                 155        819.317024                  99   \n",
       "10                155        895.224622                 106   \n",
       "11                155        831.539845                  95   \n",
       "\n",
       "    avgPricePerUnit_control  nTxnPerCust_control  nChipsPerTxn_control  \n",
       "0                  3.698400             1.237624              2.475248  \n",
       "1                  3.451667             1.318681              2.516484  \n",
       "2                  3.497931             1.407767              2.815534  \n",
       "3                  3.543382             1.259259              2.518519  \n",
       "4                  3.328889             1.336634              2.673267  \n",
       "5                  3.511570             1.247423              2.494845  \n",
       "6                  3.470635             1.312500              2.625000  \n",
       "7                  3.508661             1.336842              2.673684  \n",
       "8                  3.351667             1.276596              2.553191  \n",
       "9                  3.490083             1.222222              2.444444  \n",
       "10                 3.490876             1.292453              2.500000  \n",
       "11                 3.513115             1.284211              2.568421  "
      ]
     },
     "execution_count": 60,
     "metadata": {},
     "output_type": "execute_result"
    }
   ],
   "source": [
    "measureOverTimeSalesStore86 = measuresOverTimeSales.loc[ (measuresOverTimeSales.STORE_NBR == 86)]\n",
    "perceDiff  = pd.merge(measureOverTimeSalesStore86, scaledControlSales, on = 'month_year', suffixes=('_trial', '_control'))\n",
    "perceDiff"
   ]
  },
  {
   "cell_type": "markdown",
   "execution_count": null,
   "metadata": {
    "_cell_guid": "c8546563-aafc-4b38-84df-d3ef009eee2b",
    "_uuid": "a4c949ef-209f-4eed-836c-3b0333238dc8",
    "papermill": {
     "duration": 0.046227,
     "end_time": "2020-08-25T16:11:51.065384",
     "exception": false,
     "start_time": "2020-08-25T16:11:51.019157",
     "status": "completed"
    },
    "tags": []
   },
   "source": [
    "### Compute percentage diffrence"
   ]
  },
  {
   "cell_type": "code",
   "execution_count": 61,
   "metadata": {
    "_cell_guid": "46ae1f84-a90d-4c07-8240-798f1629d1db",
    "_uuid": "601f1504-2d4f-4da6-85f9-cb8f85785eba",
    "execution": {
     "iopub.execute_input": "2020-08-25T16:11:51.169359Z",
     "iopub.status.busy": "2020-08-25T16:11:51.164565Z",
     "iopub.status.idle": "2020-08-25T16:11:51.174158Z",
     "shell.execute_reply": "2020-08-25T16:11:51.173483Z"
    },
    "papermill": {
     "duration": 0.062954,
     "end_time": "2020-08-25T16:11:51.174292",
     "exception": false,
     "start_time": "2020-08-25T16:11:51.111338",
     "status": "completed"
    },
    "tags": []
   },
   "outputs": [
    {
     "data": {
      "text/plain": [
       "0    0.005265\n",
       "1    0.006296\n",
       "2    0.070561\n",
       "3    0.014387\n",
       "4    0.052880\n",
       "5    0.020426\n",
       "6    0.008273\n",
       "Name: percentageDiffSales, dtype: float64"
      ]
     },
     "execution_count": 61,
     "metadata": {},
     "output_type": "execute_result"
    }
   ],
   "source": [
    "perceDiff['percentageDiffSales'] = abs(perceDiff.totSales_control - perceDiff.totSales_trial)/ perceDiff.totSales_control\n",
    "diffDuringPreTrial = perceDiff[perceDiff.month_year < '2019-02'].percentageDiffSales\n",
    "diffDuringPreTrial"
   ]
  },
  {
   "cell_type": "markdown",
   "execution_count": null,
   "metadata": {
    "_cell_guid": "bfdd33e8-951f-4fc0-ae97-f06fa27fdbf1",
    "_uuid": "1d465008-001e-4f86-a1b5-df6c285e6ea0",
    "papermill": {
     "duration": 0.046723,
     "end_time": "2020-08-25T16:11:51.267385",
     "exception": false,
     "start_time": "2020-08-25T16:11:51.220662",
     "status": "completed"
    },
    "tags": []
   },
   "source": [
    "One sample t test determines whether the sample mean is statistically diffrent from a known or hypothesized population mean. \n",
    "\n",
    "H0: the trial period is the same as the pre-trial period."
   ]
  },
  {
   "cell_type": "code",
   "execution_count": 62,
   "metadata": {
    "_cell_guid": "76d7be4a-fb41-44bf-a869-514e5849414f",
    "_uuid": "89a32795-8fb3-4d09-ad04-df0853016147",
    "execution": {
     "iopub.execute_input": "2020-08-25T16:11:51.366491Z",
     "iopub.status.busy": "2020-08-25T16:11:51.365697Z",
     "iopub.status.idle": "2020-08-25T16:11:51.368668Z",
     "shell.execute_reply": "2020-08-25T16:11:51.367953Z"
    },
    "papermill": {
     "duration": 0.055088,
     "end_time": "2020-08-25T16:11:51.368791",
     "exception": false,
     "start_time": "2020-08-25T16:11:51.313703",
     "status": "completed"
    },
    "tags": []
   },
   "outputs": [],
   "source": [
    "stdDev_pretrial = np.std(diffDuringPreTrial)\n",
    "degreesOfFreedom = 7"
   ]
  },
  {
   "cell_type": "markdown",
   "execution_count": null,
   "metadata": {
    "_cell_guid": "f9d506ad-991c-4b62-8c33-f01da2eb6432",
    "_uuid": "2e752ec1-306a-499a-8a46-4bd471f4747e",
    "papermill": {
     "duration": 0.045773,
     "end_time": "2020-08-25T16:11:51.461941",
     "exception": false,
     "start_time": "2020-08-25T16:11:51.416168",
     "status": "completed"
    },
    "tags": []
   },
   "source": [
    "T critic for a probaibility of 0.95 and 7 degrees of freedom"
   ]
  },
  {
   "cell_type": "code",
   "execution_count": 63,
   "metadata": {
    "_cell_guid": "74bc1b3b-3bfd-49cd-a7d5-d549e507905b",
    "_uuid": "4fbe2e2a-374a-4d34-82f0-3e9b418fc4ea",
    "execution": {
     "iopub.execute_input": "2020-08-25T16:11:51.559777Z",
     "iopub.status.busy": "2020-08-25T16:11:51.559029Z",
     "iopub.status.idle": "2020-08-25T16:11:51.562143Z",
     "shell.execute_reply": "2020-08-25T16:11:51.562674Z"
    },
    "papermill": {
     "duration": 0.054558,
     "end_time": "2020-08-25T16:11:51.562835",
     "exception": false,
     "start_time": "2020-08-25T16:11:51.508277",
     "status": "completed"
    },
    "tags": []
   },
   "outputs": [],
   "source": [
    "t_critic = 1.895"
   ]
  },
  {
   "cell_type": "markdown",
   "execution_count": null,
   "metadata": {
    "_cell_guid": "eb3d4b9e-926d-4e7e-b906-f44ccf94051e",
    "_uuid": "db1138e0-d5b8-49d9-8a92-7ad306ee8074",
    "papermill": {
     "duration": 0.046496,
     "end_time": "2020-08-25T16:11:51.655568",
     "exception": false,
     "start_time": "2020-08-25T16:11:51.609072",
     "status": "completed"
    },
    "tags": []
   },
   "source": [
    "We will test with a null hypothesis of there being 0 diffrence between trial and control stores."
   ]
  },
  {
   "cell_type": "code",
   "execution_count": 64,
   "metadata": {
    "_cell_guid": "32c165db-d223-46fd-8b8e-394b660d3bb1",
    "_uuid": "83cb7986-01cd-48b6-82ff-e76f6c319ddd",
    "execution": {
     "iopub.execute_input": "2020-08-25T16:11:51.758686Z",
     "iopub.status.busy": "2020-08-25T16:11:51.757779Z",
     "iopub.status.idle": "2020-08-25T16:11:51.763028Z",
     "shell.execute_reply": "2020-08-25T16:11:51.762383Z"
    },
    "papermill": {
     "duration": 0.061225,
     "end_time": "2020-08-25T16:11:51.763156",
     "exception": false,
     "start_time": "2020-08-25T16:11:51.701931",
     "status": "completed"
    },
    "tags": []
   },
   "outputs": [
    {
     "data": {
      "text/plain": [
       "7     2.354174\n",
       "8    13.206585\n",
       "9     1.473915\n",
       "Name: percentageDiffSales, dtype: float64"
      ]
     },
     "execution_count": 64,
     "metadata": {},
     "output_type": "execute_result"
    }
   ],
   "source": [
    "t_calc = (perceDiff.loc[perceDiff.month_year.between('2019-02', '2019-04'),'percentageDiffSales'] - 0) / stdDev_pretrial\n",
    "t_calc"
   ]
  },
  {
   "cell_type": "markdown",
   "execution_count": null,
   "metadata": {
    "_cell_guid": "89fa4bb5-ad58-46c8-8953-77a27dbb032c",
    "_uuid": "2fc55128-a8ef-4e65-8c45-c5fe46a44d52",
    "papermill": {
     "duration": 0.04626,
     "end_time": "2020-08-25T16:11:51.855980",
     "exception": false,
     "start_time": "2020-08-25T16:11:51.809720",
     "status": "completed"
    },
    "tags": []
   },
   "source": [
    "The calculated t value is then compared to the critical t value from the t distribution table with degrees of freedom df = n - 1 and chosen confidence level. If the calculated t value > critical t value, then we reject the null hypothesis."
   ]
  },
  {
   "cell_type": "code",
   "execution_count": 65,
   "metadata": {
    "_cell_guid": "4e2427e3-db26-4b5c-86ce-148f79bd82e9",
    "_uuid": "cbe4ea3a-ffe4-4f50-93b4-a439333a2b60",
    "execution": {
     "iopub.execute_input": "2020-08-25T16:11:51.956318Z",
     "iopub.status.busy": "2020-08-25T16:11:51.955457Z",
     "iopub.status.idle": "2020-08-25T16:11:51.959525Z",
     "shell.execute_reply": "2020-08-25T16:11:51.960256Z"
    },
    "papermill": {
     "duration": 0.058105,
     "end_time": "2020-08-25T16:11:51.960417",
     "exception": false,
     "start_time": "2020-08-25T16:11:51.902312",
     "status": "completed"
    },
    "tags": []
   },
   "outputs": [
    {
     "data": {
      "text/plain": [
       "7     True\n",
       "8     True\n",
       "9    False\n",
       "Name: percentageDiffSales, dtype: bool"
      ]
     },
     "execution_count": 65,
     "metadata": {},
     "output_type": "execute_result"
    }
   ],
   "source": [
    "t_calc > t_critic"
   ]
  },
  {
   "cell_type": "markdown",
   "execution_count": null,
   "metadata": {
    "_cell_guid": "be522829-6f84-4e96-b25f-b19addc33146",
    "_uuid": "0813c97c-5153-4d99-929a-a1f7a3bee525",
    "papermill": {
     "duration": 0.046341,
     "end_time": "2020-08-25T16:11:52.054468",
     "exception": false,
     "start_time": "2020-08-25T16:11:52.008127",
     "status": "completed"
    },
    "tags": []
   },
   "source": [
    "We can observe that the t-value is  larger than the 95th percentile value of the t-distribution for February and  March - i.e. the increase in sales in the trial store in February and March is statistically greater than in the control store."
   ]
  },
  {
   "cell_type": "markdown",
   "execution_count": null,
   "metadata": {
    "_cell_guid": "94b359b5-4ede-4b41-b7a2-4735f464fd5e",
    "_uuid": "1fcf52eb-d5cc-41a2-9c68-cd033fd89962",
    "papermill": {
     "duration": 0.04612,
     "end_time": "2020-08-25T16:11:52.147376",
     "exception": false,
     "start_time": "2020-08-25T16:11:52.101256",
     "status": "completed"
    },
    "tags": []
   },
   "source": [
    "### Number of customers"
   ]
  },
  {
   "cell_type": "markdown",
   "execution_count": null,
   "metadata": {
    "_cell_guid": "f4fd7033-c9a5-4d0f-bc7a-da86eba551a6",
    "_uuid": "74a32e58-6f1b-4a36-aa14-f4d0670db0c4",
    "papermill": {
     "duration": 0.047163,
     "end_time": "2020-08-25T16:11:52.240973",
     "exception": false,
     "start_time": "2020-08-25T16:11:52.193810",
     "status": "completed"
    },
    "tags": []
   },
   "source": [
    "### Scale pre-trial control sales to match pre-trial trial store customers"
   ]
  },
  {
   "cell_type": "code",
   "execution_count": 66,
   "metadata": {
    "_cell_guid": "1790b8b8-a71e-48a5-94de-1ce8aedbac31",
    "_uuid": "5493ae57-91d7-4a37-ab73-7a35454c3ed3",
    "execution": {
     "iopub.execute_input": "2020-08-25T16:11:52.394589Z",
     "iopub.status.busy": "2020-08-25T16:11:52.393762Z",
     "iopub.status.idle": "2020-08-25T16:11:52.412178Z",
     "shell.execute_reply": "2020-08-25T16:11:52.412772Z"
    },
    "papermill": {
     "duration": 0.080298,
     "end_time": "2020-08-25T16:11:52.412956",
     "exception": false,
     "start_time": "2020-08-25T16:11:52.332658",
     "status": "completed"
    },
    "tags": []
   },
   "outputs": [
    {
     "data": {
      "text/html": [
       "<div>\n",
       "<style scoped>\n",
       "    .dataframe tbody tr th:only-of-type {\n",
       "        vertical-align: middle;\n",
       "    }\n",
       "\n",
       "    .dataframe tbody tr th {\n",
       "        vertical-align: top;\n",
       "    }\n",
       "\n",
       "    .dataframe thead th {\n",
       "        text-align: right;\n",
       "    }\n",
       "</style>\n",
       "<table border=\"1\" class=\"dataframe\">\n",
       "  <thead>\n",
       "    <tr style=\"text-align: right;\">\n",
       "      <th></th>\n",
       "      <th>STORE_NBR</th>\n",
       "      <th>month_year</th>\n",
       "      <th>totSales</th>\n",
       "      <th>nCustomers</th>\n",
       "      <th>avgPricePerUnit</th>\n",
       "      <th>nTxnPerCust</th>\n",
       "      <th>nChipsPerTxn</th>\n",
       "    </tr>\n",
       "  </thead>\n",
       "  <tbody>\n",
       "    <tr>\n",
       "      <th>1793</th>\n",
       "      <td>155</td>\n",
       "      <td>2018-07</td>\n",
       "      <td>924.60</td>\n",
       "      <td>101.0</td>\n",
       "      <td>3.698400</td>\n",
       "      <td>1.237624</td>\n",
       "      <td>2.475248</td>\n",
       "    </tr>\n",
       "    <tr>\n",
       "      <th>1794</th>\n",
       "      <td>155</td>\n",
       "      <td>2018-08</td>\n",
       "      <td>782.70</td>\n",
       "      <td>91.0</td>\n",
       "      <td>3.451667</td>\n",
       "      <td>1.318681</td>\n",
       "      <td>2.516484</td>\n",
       "    </tr>\n",
       "    <tr>\n",
       "      <th>1795</th>\n",
       "      <td>155</td>\n",
       "      <td>2018-09</td>\n",
       "      <td>1014.40</td>\n",
       "      <td>103.0</td>\n",
       "      <td>3.497931</td>\n",
       "      <td>1.407767</td>\n",
       "      <td>2.815534</td>\n",
       "    </tr>\n",
       "    <tr>\n",
       "      <th>1796</th>\n",
       "      <td>155</td>\n",
       "      <td>2018-10</td>\n",
       "      <td>963.80</td>\n",
       "      <td>108.0</td>\n",
       "      <td>3.543382</td>\n",
       "      <td>1.259259</td>\n",
       "      <td>2.518519</td>\n",
       "    </tr>\n",
       "    <tr>\n",
       "      <th>1797</th>\n",
       "      <td>155</td>\n",
       "      <td>2018-11</td>\n",
       "      <td>898.80</td>\n",
       "      <td>101.0</td>\n",
       "      <td>3.328889</td>\n",
       "      <td>1.336634</td>\n",
       "      <td>2.673267</td>\n",
       "    </tr>\n",
       "    <tr>\n",
       "      <th>1798</th>\n",
       "      <td>155</td>\n",
       "      <td>2018-12</td>\n",
       "      <td>849.80</td>\n",
       "      <td>97.0</td>\n",
       "      <td>3.511570</td>\n",
       "      <td>1.247423</td>\n",
       "      <td>2.494845</td>\n",
       "    </tr>\n",
       "    <tr>\n",
       "      <th>1799</th>\n",
       "      <td>155</td>\n",
       "      <td>2019-01</td>\n",
       "      <td>874.60</td>\n",
       "      <td>96.0</td>\n",
       "      <td>3.470635</td>\n",
       "      <td>1.312500</td>\n",
       "      <td>2.625000</td>\n",
       "    </tr>\n",
       "    <tr>\n",
       "      <th>1800</th>\n",
       "      <td>155</td>\n",
       "      <td>2019-02</td>\n",
       "      <td>891.20</td>\n",
       "      <td>95.0</td>\n",
       "      <td>3.508661</td>\n",
       "      <td>1.336842</td>\n",
       "      <td>2.673684</td>\n",
       "    </tr>\n",
       "    <tr>\n",
       "      <th>1801</th>\n",
       "      <td>155</td>\n",
       "      <td>2019-03</td>\n",
       "      <td>804.40</td>\n",
       "      <td>94.0</td>\n",
       "      <td>3.351667</td>\n",
       "      <td>1.276596</td>\n",
       "      <td>2.553191</td>\n",
       "    </tr>\n",
       "    <tr>\n",
       "      <th>1802</th>\n",
       "      <td>155</td>\n",
       "      <td>2019-04</td>\n",
       "      <td>844.60</td>\n",
       "      <td>99.0</td>\n",
       "      <td>3.490083</td>\n",
       "      <td>1.222222</td>\n",
       "      <td>2.444444</td>\n",
       "    </tr>\n",
       "    <tr>\n",
       "      <th>1803</th>\n",
       "      <td>155</td>\n",
       "      <td>2019-05</td>\n",
       "      <td>922.85</td>\n",
       "      <td>106.0</td>\n",
       "      <td>3.490876</td>\n",
       "      <td>1.292453</td>\n",
       "      <td>2.500000</td>\n",
       "    </tr>\n",
       "    <tr>\n",
       "      <th>1804</th>\n",
       "      <td>155</td>\n",
       "      <td>2019-06</td>\n",
       "      <td>857.20</td>\n",
       "      <td>95.0</td>\n",
       "      <td>3.513115</td>\n",
       "      <td>1.284211</td>\n",
       "      <td>2.568421</td>\n",
       "    </tr>\n",
       "  </tbody>\n",
       "</table>\n",
       "</div>"
      ],
      "text/plain": [
       "      STORE_NBR month_year  totSales  nCustomers  avgPricePerUnit  \\\n",
       "1793        155    2018-07    924.60       101.0         3.698400   \n",
       "1794        155    2018-08    782.70        91.0         3.451667   \n",
       "1795        155    2018-09   1014.40       103.0         3.497931   \n",
       "1796        155    2018-10    963.80       108.0         3.543382   \n",
       "1797        155    2018-11    898.80       101.0         3.328889   \n",
       "1798        155    2018-12    849.80        97.0         3.511570   \n",
       "1799        155    2019-01    874.60        96.0         3.470635   \n",
       "1800        155    2019-02    891.20        95.0         3.508661   \n",
       "1801        155    2019-03    804.40        94.0         3.351667   \n",
       "1802        155    2019-04    844.60        99.0         3.490083   \n",
       "1803        155    2019-05    922.85       106.0         3.490876   \n",
       "1804        155    2019-06    857.20        95.0         3.513115   \n",
       "\n",
       "      nTxnPerCust  nChipsPerTxn  \n",
       "1793     1.237624      2.475248  \n",
       "1794     1.318681      2.516484  \n",
       "1795     1.407767      2.815534  \n",
       "1796     1.259259      2.518519  \n",
       "1797     1.336634      2.673267  \n",
       "1798     1.247423      2.494845  \n",
       "1799     1.312500      2.625000  \n",
       "1800     1.336842      2.673684  \n",
       "1801     1.276596      2.553191  \n",
       "1802     1.222222      2.444444  \n",
       "1803     1.292453      2.500000  \n",
       "1804     1.284211      2.568421  "
      ]
     },
     "execution_count": 66,
     "metadata": {},
     "output_type": "execute_result"
    }
   ],
   "source": [
    "scalingFactorForControlnCustomers = preTrialMeasures[preTrialMeasures.STORE_NBR == 86].nCustomers.sum() / preTrialMeasures[preTrialMeasures.STORE_NBR == 155].nCustomers.sum()\n",
    "scalingFactorForControlnCustomers\n",
    "\n",
    "measureOverTimenCustomers = measures_over_time.copy()\n",
    "measureOverTimenCustomers.loc[ measureOverTimenCustomers.STORE_NBR == 155, 'nCustomers'] = measureOverTimenCustomers.loc[ measureOverTimenCustomers.STORE_NBR == 155, 'nCustomers'] * scalingFactorForControlnCustomers\n",
    "scaledControlnCustomers = measureOverTimenCustomers[ measureOverTimenCustomers.STORE_NBR == 155]\n",
    "scaledControlnCustomers"
   ]
  },
  {
   "cell_type": "markdown",
   "execution_count": null,
   "metadata": {
    "_cell_guid": "7cf07bfc-804b-4c79-9fa3-39311290b21f",
    "_uuid": "a05b291c-7b5b-4e44-9f28-6e9bcb1ae944",
    "papermill": {
     "duration": 0.046714,
     "end_time": "2020-08-25T16:11:52.507228",
     "exception": false,
     "start_time": "2020-08-25T16:11:52.460514",
     "status": "completed"
    },
    "tags": []
   },
   "source": [
    "### Percentage diffrences\n",
    "Now I have comparable sales figures for the control store, I will calculate the percentage diffrence between the scaled  control customers and the trial store's customers during the trial period."
   ]
  },
  {
   "cell_type": "code",
   "execution_count": 67,
   "metadata": {
    "_cell_guid": "7168f3e4-837c-4bcf-bd23-d22ea6f98284",
    "_uuid": "e8b41993-2591-47c1-bac6-cffb9461a969",
    "execution": {
     "iopub.execute_input": "2020-08-25T16:11:52.632299Z",
     "iopub.status.busy": "2020-08-25T16:11:52.631171Z",
     "iopub.status.idle": "2020-08-25T16:11:52.636585Z",
     "shell.execute_reply": "2020-08-25T16:11:52.635989Z"
    },
    "papermill": {
     "duration": 0.082664,
     "end_time": "2020-08-25T16:11:52.636716",
     "exception": false,
     "start_time": "2020-08-25T16:11:52.554052",
     "status": "completed"
    },
    "tags": []
   },
   "outputs": [
    {
     "data": {
      "text/html": [
       "<div>\n",
       "<style scoped>\n",
       "    .dataframe tbody tr th:only-of-type {\n",
       "        vertical-align: middle;\n",
       "    }\n",
       "\n",
       "    .dataframe tbody tr th {\n",
       "        vertical-align: top;\n",
       "    }\n",
       "\n",
       "    .dataframe thead th {\n",
       "        text-align: right;\n",
       "    }\n",
       "</style>\n",
       "<table border=\"1\" class=\"dataframe\">\n",
       "  <thead>\n",
       "    <tr style=\"text-align: right;\">\n",
       "      <th></th>\n",
       "      <th>STORE_NBR_trial</th>\n",
       "      <th>month_year</th>\n",
       "      <th>totSales_trial</th>\n",
       "      <th>nCustomers_trial</th>\n",
       "      <th>avgPricePerUnit_trial</th>\n",
       "      <th>nTxnPerCust_trial</th>\n",
       "      <th>nChipsPerTxn_trial</th>\n",
       "      <th>STORE_NBR_control</th>\n",
       "      <th>totSales_control</th>\n",
       "      <th>nCustomers_control</th>\n",
       "      <th>avgPricePerUnit_control</th>\n",
       "      <th>nTxnPerCust_control</th>\n",
       "      <th>nChipsPerTxn_control</th>\n",
       "    </tr>\n",
       "  </thead>\n",
       "  <tbody>\n",
       "    <tr>\n",
       "      <th>0</th>\n",
       "      <td>86</td>\n",
       "      <td>2018-07</td>\n",
       "      <td>892.20</td>\n",
       "      <td>99.0</td>\n",
       "      <td>3.555556</td>\n",
       "      <td>1.272727</td>\n",
       "      <td>2.535354</td>\n",
       "      <td>155</td>\n",
       "      <td>924.60</td>\n",
       "      <td>101.0</td>\n",
       "      <td>3.698400</td>\n",
       "      <td>1.237624</td>\n",
       "      <td>2.475248</td>\n",
       "    </tr>\n",
       "    <tr>\n",
       "      <th>1</th>\n",
       "      <td>86</td>\n",
       "      <td>2018-08</td>\n",
       "      <td>764.05</td>\n",
       "      <td>94.0</td>\n",
       "      <td>3.584375</td>\n",
       "      <td>1.191489</td>\n",
       "      <td>2.287234</td>\n",
       "      <td>155</td>\n",
       "      <td>782.70</td>\n",
       "      <td>91.0</td>\n",
       "      <td>3.451667</td>\n",
       "      <td>1.318681</td>\n",
       "      <td>2.516484</td>\n",
       "    </tr>\n",
       "    <tr>\n",
       "      <th>2</th>\n",
       "      <td>86</td>\n",
       "      <td>2018-09</td>\n",
       "      <td>914.60</td>\n",
       "      <td>103.0</td>\n",
       "      <td>3.544961</td>\n",
       "      <td>1.252427</td>\n",
       "      <td>2.504854</td>\n",
       "      <td>155</td>\n",
       "      <td>1014.40</td>\n",
       "      <td>103.0</td>\n",
       "      <td>3.497931</td>\n",
       "      <td>1.407767</td>\n",
       "      <td>2.815534</td>\n",
       "    </tr>\n",
       "    <tr>\n",
       "      <th>3</th>\n",
       "      <td>86</td>\n",
       "      <td>2018-10</td>\n",
       "      <td>948.40</td>\n",
       "      <td>109.0</td>\n",
       "      <td>3.436232</td>\n",
       "      <td>1.266055</td>\n",
       "      <td>2.532110</td>\n",
       "      <td>155</td>\n",
       "      <td>963.80</td>\n",
       "      <td>108.0</td>\n",
       "      <td>3.543382</td>\n",
       "      <td>1.259259</td>\n",
       "      <td>2.518519</td>\n",
       "    </tr>\n",
       "    <tr>\n",
       "      <th>4</th>\n",
       "      <td>86</td>\n",
       "      <td>2018-11</td>\n",
       "      <td>918.00</td>\n",
       "      <td>100.0</td>\n",
       "      <td>3.614173</td>\n",
       "      <td>1.270000</td>\n",
       "      <td>2.540000</td>\n",
       "      <td>155</td>\n",
       "      <td>898.80</td>\n",
       "      <td>101.0</td>\n",
       "      <td>3.328889</td>\n",
       "      <td>1.336634</td>\n",
       "      <td>2.673267</td>\n",
       "    </tr>\n",
       "    <tr>\n",
       "      <th>5</th>\n",
       "      <td>86</td>\n",
       "      <td>2018-12</td>\n",
       "      <td>841.20</td>\n",
       "      <td>98.0</td>\n",
       "      <td>3.505000</td>\n",
       "      <td>1.224490</td>\n",
       "      <td>2.448980</td>\n",
       "      <td>155</td>\n",
       "      <td>849.80</td>\n",
       "      <td>97.0</td>\n",
       "      <td>3.511570</td>\n",
       "      <td>1.247423</td>\n",
       "      <td>2.494845</td>\n",
       "    </tr>\n",
       "    <tr>\n",
       "      <th>6</th>\n",
       "      <td>86</td>\n",
       "      <td>2019-01</td>\n",
       "      <td>841.40</td>\n",
       "      <td>94.0</td>\n",
       "      <td>3.236154</td>\n",
       "      <td>1.382979</td>\n",
       "      <td>2.765957</td>\n",
       "      <td>155</td>\n",
       "      <td>874.60</td>\n",
       "      <td>96.0</td>\n",
       "      <td>3.470635</td>\n",
       "      <td>1.312500</td>\n",
       "      <td>2.625000</td>\n",
       "    </tr>\n",
       "    <tr>\n",
       "      <th>7</th>\n",
       "      <td>86</td>\n",
       "      <td>2019-02</td>\n",
       "      <td>913.20</td>\n",
       "      <td>107.0</td>\n",
       "      <td>3.298561</td>\n",
       "      <td>1.299065</td>\n",
       "      <td>2.588785</td>\n",
       "      <td>155</td>\n",
       "      <td>891.20</td>\n",
       "      <td>95.0</td>\n",
       "      <td>3.508661</td>\n",
       "      <td>1.336842</td>\n",
       "      <td>2.673684</td>\n",
       "    </tr>\n",
       "    <tr>\n",
       "      <th>8</th>\n",
       "      <td>86</td>\n",
       "      <td>2019-03</td>\n",
       "      <td>1026.80</td>\n",
       "      <td>115.0</td>\n",
       "      <td>3.615493</td>\n",
       "      <td>1.234783</td>\n",
       "      <td>2.469565</td>\n",
       "      <td>155</td>\n",
       "      <td>804.40</td>\n",
       "      <td>94.0</td>\n",
       "      <td>3.351667</td>\n",
       "      <td>1.276596</td>\n",
       "      <td>2.553191</td>\n",
       "    </tr>\n",
       "    <tr>\n",
       "      <th>9</th>\n",
       "      <td>86</td>\n",
       "      <td>2019-04</td>\n",
       "      <td>848.20</td>\n",
       "      <td>105.0</td>\n",
       "      <td>3.339370</td>\n",
       "      <td>1.209524</td>\n",
       "      <td>2.419048</td>\n",
       "      <td>155</td>\n",
       "      <td>844.60</td>\n",
       "      <td>99.0</td>\n",
       "      <td>3.490083</td>\n",
       "      <td>1.222222</td>\n",
       "      <td>2.444444</td>\n",
       "    </tr>\n",
       "    <tr>\n",
       "      <th>10</th>\n",
       "      <td>86</td>\n",
       "      <td>2019-05</td>\n",
       "      <td>889.30</td>\n",
       "      <td>104.0</td>\n",
       "      <td>3.488372</td>\n",
       "      <td>1.240385</td>\n",
       "      <td>2.490385</td>\n",
       "      <td>155</td>\n",
       "      <td>922.85</td>\n",
       "      <td>106.0</td>\n",
       "      <td>3.490876</td>\n",
       "      <td>1.292453</td>\n",
       "      <td>2.500000</td>\n",
       "    </tr>\n",
       "    <tr>\n",
       "      <th>11</th>\n",
       "      <td>86</td>\n",
       "      <td>2019-06</td>\n",
       "      <td>838.00</td>\n",
       "      <td>98.0</td>\n",
       "      <td>3.521008</td>\n",
       "      <td>1.214286</td>\n",
       "      <td>2.428571</td>\n",
       "      <td>155</td>\n",
       "      <td>857.20</td>\n",
       "      <td>95.0</td>\n",
       "      <td>3.513115</td>\n",
       "      <td>1.284211</td>\n",
       "      <td>2.568421</td>\n",
       "    </tr>\n",
       "  </tbody>\n",
       "</table>\n",
       "</div>"
      ],
      "text/plain": [
       "    STORE_NBR_trial month_year  totSales_trial  nCustomers_trial  \\\n",
       "0                86    2018-07          892.20              99.0   \n",
       "1                86    2018-08          764.05              94.0   \n",
       "2                86    2018-09          914.60             103.0   \n",
       "3                86    2018-10          948.40             109.0   \n",
       "4                86    2018-11          918.00             100.0   \n",
       "5                86    2018-12          841.20              98.0   \n",
       "6                86    2019-01          841.40              94.0   \n",
       "7                86    2019-02          913.20             107.0   \n",
       "8                86    2019-03         1026.80             115.0   \n",
       "9                86    2019-04          848.20             105.0   \n",
       "10               86    2019-05          889.30             104.0   \n",
       "11               86    2019-06          838.00              98.0   \n",
       "\n",
       "    avgPricePerUnit_trial  nTxnPerCust_trial  nChipsPerTxn_trial  \\\n",
       "0                3.555556           1.272727            2.535354   \n",
       "1                3.584375           1.191489            2.287234   \n",
       "2                3.544961           1.252427            2.504854   \n",
       "3                3.436232           1.266055            2.532110   \n",
       "4                3.614173           1.270000            2.540000   \n",
       "5                3.505000           1.224490            2.448980   \n",
       "6                3.236154           1.382979            2.765957   \n",
       "7                3.298561           1.299065            2.588785   \n",
       "8                3.615493           1.234783            2.469565   \n",
       "9                3.339370           1.209524            2.419048   \n",
       "10               3.488372           1.240385            2.490385   \n",
       "11               3.521008           1.214286            2.428571   \n",
       "\n",
       "    STORE_NBR_control  totSales_control  nCustomers_control  \\\n",
       "0                 155            924.60               101.0   \n",
       "1                 155            782.70                91.0   \n",
       "2                 155           1014.40               103.0   \n",
       "3                 155            963.80               108.0   \n",
       "4                 155            898.80               101.0   \n",
       "5                 155            849.80                97.0   \n",
       "6                 155            874.60                96.0   \n",
       "7                 155            891.20                95.0   \n",
       "8                 155            804.40                94.0   \n",
       "9                 155            844.60                99.0   \n",
       "10                155            922.85               106.0   \n",
       "11                155            857.20                95.0   \n",
       "\n",
       "    avgPricePerUnit_control  nTxnPerCust_control  nChipsPerTxn_control  \n",
       "0                  3.698400             1.237624              2.475248  \n",
       "1                  3.451667             1.318681              2.516484  \n",
       "2                  3.497931             1.407767              2.815534  \n",
       "3                  3.543382             1.259259              2.518519  \n",
       "4                  3.328889             1.336634              2.673267  \n",
       "5                  3.511570             1.247423              2.494845  \n",
       "6                  3.470635             1.312500              2.625000  \n",
       "7                  3.508661             1.336842              2.673684  \n",
       "8                  3.351667             1.276596              2.553191  \n",
       "9                  3.490083             1.222222              2.444444  \n",
       "10                 3.490876             1.292453              2.500000  \n",
       "11                 3.513115             1.284211              2.568421  "
      ]
     },
     "execution_count": 67,
     "metadata": {},
     "output_type": "execute_result"
    }
   ],
   "source": [
    "measureOverTimenCustomersStore86 = measureOverTimenCustomers.loc[ (measureOverTimenCustomers.STORE_NBR == 86)]\n",
    "percentageDiff  = pd.merge(measureOverTimenCustomersStore86, scaledControlnCustomers, on = 'month_year', suffixes=('_trial', '_control'))\n",
    "percentageDiff"
   ]
  },
  {
   "cell_type": "markdown",
   "execution_count": null,
   "metadata": {
    "_cell_guid": "521df483-b2c5-4bf0-97af-0a9da9d453c8",
    "_uuid": "f9a377d0-f589-4149-82ff-eb8da56f1006",
    "papermill": {
     "duration": 0.047448,
     "end_time": "2020-08-25T16:11:52.732786",
     "exception": false,
     "start_time": "2020-08-25T16:11:52.685338",
     "status": "completed"
    },
    "tags": []
   },
   "source": [
    "### Compute percentage diffrence"
   ]
  },
  {
   "cell_type": "code",
   "execution_count": 68,
   "metadata": {
    "_cell_guid": "ddb55df8-4380-4c0f-931b-fb2881e49abb",
    "_uuid": "7b8feb42-17b2-4ff3-877a-399da3a94c49",
    "execution": {
     "iopub.execute_input": "2020-08-25T16:11:52.840798Z",
     "iopub.status.busy": "2020-08-25T16:11:52.837753Z",
     "iopub.status.idle": "2020-08-25T16:11:52.845093Z",
     "shell.execute_reply": "2020-08-25T16:11:52.845617Z"
    },
    "papermill": {
     "duration": 0.06436,
     "end_time": "2020-08-25T16:11:52.845781",
     "exception": false,
     "start_time": "2020-08-25T16:11:52.781421",
     "status": "completed"
    },
    "tags": []
   },
   "outputs": [
    {
     "data": {
      "text/plain": [
       "0    0.019802\n",
       "1    0.032967\n",
       "2    0.000000\n",
       "3    0.009259\n",
       "4    0.009901\n",
       "5    0.010309\n",
       "6    0.020833\n",
       "Name: percentageDiffnCustomers, dtype: float64"
      ]
     },
     "execution_count": 68,
     "metadata": {},
     "output_type": "execute_result"
    }
   ],
   "source": [
    "percentageDiff['percentageDiffnCustomers'] = abs(percentageDiff.nCustomers_control - percentageDiff.nCustomers_trial)/ percentageDiff.nCustomers_control\n",
    "diffDuringPreTrial = percentageDiff[percentageDiff.month_year < '2019-02'].percentageDiffnCustomers\n",
    "diffDuringPreTrial"
   ]
  },
  {
   "cell_type": "markdown",
   "execution_count": null,
   "metadata": {
    "_cell_guid": "2e988f95-e375-42ce-86a5-9a072de48a09",
    "_uuid": "cc4636dd-ab4a-45f2-a658-89f4e5548c67",
    "papermill": {
     "duration": 0.04784,
     "end_time": "2020-08-25T16:11:52.941619",
     "exception": false,
     "start_time": "2020-08-25T16:11:52.893779",
     "status": "completed"
    },
    "tags": []
   },
   "source": [
    "One sample t test determines whether the sample mean is statistically diffrent from a known or hypothesized population mean. \n",
    "\n",
    "H0: the trial period is the same as the pre-trial period."
   ]
  },
  {
   "cell_type": "code",
   "execution_count": 69,
   "metadata": {
    "_cell_guid": "17948513-b1b2-4da2-b11b-ae021a715f6f",
    "_uuid": "71100a3a-4a6a-4a64-a0b9-d7df7b529f0a",
    "execution": {
     "iopub.execute_input": "2020-08-25T16:11:53.044526Z",
     "iopub.status.busy": "2020-08-25T16:11:53.043739Z",
     "iopub.status.idle": "2020-08-25T16:11:53.047650Z",
     "shell.execute_reply": "2020-08-25T16:11:53.046915Z"
    },
    "papermill": {
     "duration": 0.058024,
     "end_time": "2020-08-25T16:11:53.047778",
     "exception": false,
     "start_time": "2020-08-25T16:11:52.989754",
     "status": "completed"
    },
    "tags": []
   },
   "outputs": [],
   "source": [
    "stdDev_pretrial = np.std(diffDuringPreTrial)\n",
    "degreesOfFreedom = 7"
   ]
  },
  {
   "cell_type": "markdown",
   "execution_count": null,
   "metadata": {
    "_cell_guid": "05e931ad-8688-487e-8fa5-35f7bb5067c5",
    "_uuid": "79092cf8-ff8d-48a8-9596-8ed18fb38de8",
    "papermill": {
     "duration": 0.048482,
     "end_time": "2020-08-25T16:11:53.144756",
     "exception": false,
     "start_time": "2020-08-25T16:11:53.096274",
     "status": "completed"
    },
    "tags": []
   },
   "source": [
    "We will test with a null hypothesis of there being 0 diffrence between trial and control stores."
   ]
  },
  {
   "cell_type": "code",
   "execution_count": 70,
   "metadata": {
    "_cell_guid": "dec2cc8a-a000-44e5-a3ea-2e09dc752cf4",
    "_uuid": "7d761e1e-f8e7-44f4-b7b5-fbf5cee04e57",
    "execution": {
     "iopub.execute_input": "2020-08-25T16:11:53.252271Z",
     "iopub.status.busy": "2020-08-25T16:11:53.251372Z",
     "iopub.status.idle": "2020-08-25T16:11:53.256140Z",
     "shell.execute_reply": "2020-08-25T16:11:53.255419Z"
    },
    "papermill": {
     "duration": 0.062721,
     "end_time": "2020-08-25T16:11:53.256275",
     "exception": false,
     "start_time": "2020-08-25T16:11:53.193554",
     "status": "completed"
    },
    "tags": []
   },
   "outputs": [
    {
     "data": {
      "text/plain": [
       "7    12.766068\n",
       "8    22.578285\n",
       "9     6.125134\n",
       "Name: percentageDiffnCustomers, dtype: float64"
      ]
     },
     "execution_count": 70,
     "metadata": {},
     "output_type": "execute_result"
    }
   ],
   "source": [
    "t_calc = (percentageDiff.loc[percentageDiff.month_year.between('2019-02', '2019-04'),'percentageDiffnCustomers'] - 0) / stdDev_pretrial\n",
    "t_calc"
   ]
  },
  {
   "cell_type": "markdown",
   "execution_count": null,
   "metadata": {
    "_cell_guid": "4de0361e-cdca-4264-bcef-653451882bcf",
    "_uuid": "02d811d1-5af2-4714-8617-ea941ad447e4",
    "papermill": {
     "duration": 0.048253,
     "end_time": "2020-08-25T16:11:53.352775",
     "exception": false,
     "start_time": "2020-08-25T16:11:53.304522",
     "status": "completed"
    },
    "tags": []
   },
   "source": [
    "The calculated t value is then compared to the critical t value from the t distribution table with degrees of freedom df = n - 1 and chosen confidence level. If the calculated t value > critical t value, then we reject the null hypothesis."
   ]
  },
  {
   "cell_type": "code",
   "execution_count": 71,
   "metadata": {
    "_cell_guid": "65ebeb7e-6259-4e39-82d7-4a4c2f0de78d",
    "_uuid": "462ce2d5-c464-4a20-9672-9de33383c2a0",
    "execution": {
     "iopub.execute_input": "2020-08-25T16:11:53.457954Z",
     "iopub.status.busy": "2020-08-25T16:11:53.456986Z",
     "iopub.status.idle": "2020-08-25T16:11:53.461738Z",
     "shell.execute_reply": "2020-08-25T16:11:53.461122Z"
    },
    "papermill": {
     "duration": 0.060603,
     "end_time": "2020-08-25T16:11:53.461931",
     "exception": false,
     "start_time": "2020-08-25T16:11:53.401328",
     "status": "completed"
    },
    "tags": []
   },
   "outputs": [
    {
     "data": {
      "text/plain": [
       "7    True\n",
       "8    True\n",
       "9    True\n",
       "Name: percentageDiffnCustomers, dtype: bool"
      ]
     },
     "execution_count": 71,
     "metadata": {},
     "output_type": "execute_result"
    }
   ],
   "source": [
    "t_calc > t_critic"
   ]
  },
  {
   "cell_type": "markdown",
   "execution_count": null,
   "metadata": {
    "_cell_guid": "76b92a08-084b-4d11-b959-ba295a93f784",
    "_uuid": "5a9a529b-0792-4352-9833-4f7a1005966e",
    "papermill": {
     "duration": 0.048419,
     "end_time": "2020-08-25T16:11:53.559649",
     "exception": false,
     "start_time": "2020-08-25T16:11:53.511230",
     "status": "completed"
    },
    "tags": []
   },
   "source": [
    "We can observe that the t-value is larger than the 95th percentile value of the t-distribution for February, March and April - i.e. the increase in customers in the trial store in March and April is statistically greater than in the control store."
   ]
  },
  {
   "cell_type": "markdown",
   "execution_count": null,
   "metadata": {
    "_cell_guid": "472d3fa7-1228-4922-8e6d-c28d26f620c3",
    "_uuid": "f6b75645-a76e-4f68-a04d-ed8dd6100af3",
    "papermill": {
     "duration": 0.047989,
     "end_time": "2020-08-25T16:11:53.656035",
     "exception": false,
     "start_time": "2020-08-25T16:11:53.608046",
     "status": "completed"
    },
    "tags": []
   },
   "source": [
    "# Conclusions\n",
    "\n",
    "The results for trial stores 77 and 86 during the trial period show a significant\n",
    "difference in at least two of the three trial months but this is not the case for\n",
    "trial store 88, since I didn't find a similar store for 88. We can check with the client if the implementation of the trial was\n",
    "different in trial store 88 but overall, the trial shows a significant increase in\n",
    "sales."
   ]
  },
  {
   "cell_type": "markdown",
   "execution_count": null,
   "metadata": {
    "_cell_guid": "9f6fcb88-89d6-4f18-850e-e386b2c5fcf5",
    "_uuid": "6a8dbbf5-d26d-472d-b201-3ea35f6287c2",
    "papermill": {
     "duration": 0.04858,
     "end_time": "2020-08-25T16:11:53.753332",
     "exception": false,
     "start_time": "2020-08-25T16:11:53.704752",
     "status": "completed"
    },
    "tags": []
   },
   "source": [
    "Bibliography:\n",
    "1. https://www.insidesherpa.com/\n",
    "2. https://insidesherpa.s3.amazonaws.com/vinternships/companyassets/32A6DqtsbF7LbKdcq/InsideSherpa_Task2_DraftSolutions%20-%20Template.pdf\n",
    "3. https://libguides.library.kent.edu/SPSS/OneSampletTest\n",
    "4. https://www.sjsu.edu/faculty/gerstman/StatPrimer/t-table.pdf"
   ]
  }
 ],
 "metadata": {
  "kernelspec": {
   "display_name": "Python 3",
   "language": "python",
   "name": "python3"
  },
  "language_info": {
   "codemirror_mode": {
    "name": "ipython",
    "version": 3
   },
   "file_extension": ".py",
   "mimetype": "text/x-python",
   "name": "python",
   "nbconvert_exporter": "python",
   "pygments_lexer": "ipython3",
   "version": "3.7.6"
  },
  "papermill": {
   "duration": 97.185374,
   "end_time": "2020-08-25T16:11:53.911314",
   "environment_variables": {},
   "exception": null,
   "input_path": "__notebook__.ipynb",
   "output_path": "__notebook__.ipynb",
   "parameters": {},
   "start_time": "2020-08-25T16:10:16.725940",
   "version": "2.1.0"
  }
 },
 "nbformat": 4,
 "nbformat_minor": 4
}
