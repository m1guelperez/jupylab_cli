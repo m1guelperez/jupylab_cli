{
 "cells": [
  {
   "cell_type": "code",
   "execution_count": 1,
   "metadata": {
    "_cell_guid": "b1076dfc-b9ad-4769-8c92-a6c4dae69d19",
    "_uuid": "8f2839f25d086af736a60e9eeb907d3b93b6e0e5"
   },
   "outputs": [
    {
     "name": "stdout",
     "output_type": "stream",
     "text": [
      "['incendo-hackthon', 'glove-840b-300d']\n"
     ]
    }
   ],
   "source": [
    "import numpy as np # linear algebra\n",
    "import pandas as pd # data processing, CSV file I/O (e.g. pd.read_csv)\n",
    "import os\n",
    "print(os.listdir(\"../input\"))"
   ]
  },
  {
   "cell_type": "code",
   "execution_count": 2,
   "metadata": {},
   "outputs": [],
   "source": [
    "train = pd.read_csv('../input/incendo-hackthon/train_dataset.csv')\n",
    "test = pd.read_csv('../input/incendo-hackthon/test_dataset.csv')"
   ]
  },
  {
   "cell_type": "code",
   "execution_count": 3,
   "metadata": {},
   "outputs": [
    {
     "data": {
      "text/html": [
       "<div>\n",
       "<style scoped>\n",
       "    .dataframe tbody tr th:only-of-type {\n",
       "        vertical-align: middle;\n",
       "    }\n",
       "\n",
       "    .dataframe tbody tr th {\n",
       "        vertical-align: top;\n",
       "    }\n",
       "\n",
       "    .dataframe thead th {\n",
       "        text-align: right;\n",
       "    }\n",
       "</style>\n",
       "<table border=\"1\" class=\"dataframe\">\n",
       "  <thead>\n",
       "    <tr style=\"text-align: right;\">\n",
       "      <th></th>\n",
       "      <th>ID</th>\n",
       "      <th>Essayset</th>\n",
       "      <th>min_score</th>\n",
       "      <th>max_score</th>\n",
       "      <th>score_1</th>\n",
       "      <th>score_2</th>\n",
       "      <th>score_3</th>\n",
       "      <th>score_4</th>\n",
       "      <th>score_5</th>\n",
       "      <th>clarity</th>\n",
       "      <th>coherent</th>\n",
       "      <th>EssayText</th>\n",
       "    </tr>\n",
       "  </thead>\n",
       "  <tbody>\n",
       "    <tr>\n",
       "      <th>0</th>\n",
       "      <td>1</td>\n",
       "      <td>1.0</td>\n",
       "      <td>0</td>\n",
       "      <td>3</td>\n",
       "      <td>1</td>\n",
       "      <td>1</td>\n",
       "      <td>1.0</td>\n",
       "      <td>1.0</td>\n",
       "      <td>1.0</td>\n",
       "      <td>average</td>\n",
       "      <td>worst</td>\n",
       "      <td>Some additional information that we would need...</td>\n",
       "    </tr>\n",
       "    <tr>\n",
       "      <th>1</th>\n",
       "      <td>2</td>\n",
       "      <td>1.0</td>\n",
       "      <td>0</td>\n",
       "      <td>3</td>\n",
       "      <td>1</td>\n",
       "      <td>1</td>\n",
       "      <td>NaN</td>\n",
       "      <td>1.5</td>\n",
       "      <td>1.0</td>\n",
       "      <td>excellent</td>\n",
       "      <td>worst</td>\n",
       "      <td>After reading the expirement, I realized that ...</td>\n",
       "    </tr>\n",
       "    <tr>\n",
       "      <th>2</th>\n",
       "      <td>3</td>\n",
       "      <td>1.0</td>\n",
       "      <td>0</td>\n",
       "      <td>3</td>\n",
       "      <td>1</td>\n",
       "      <td>1</td>\n",
       "      <td>1.0</td>\n",
       "      <td>1.0</td>\n",
       "      <td>1.5</td>\n",
       "      <td>worst</td>\n",
       "      <td>above_average</td>\n",
       "      <td>What you need is more trials, a control set up...</td>\n",
       "    </tr>\n",
       "    <tr>\n",
       "      <th>3</th>\n",
       "      <td>4</td>\n",
       "      <td>1.0</td>\n",
       "      <td>0</td>\n",
       "      <td>3</td>\n",
       "      <td>0</td>\n",
       "      <td>0</td>\n",
       "      <td>0.0</td>\n",
       "      <td>0.0</td>\n",
       "      <td>1.0</td>\n",
       "      <td>worst</td>\n",
       "      <td>worst</td>\n",
       "      <td>The student should list what rock is better an...</td>\n",
       "    </tr>\n",
       "    <tr>\n",
       "      <th>4</th>\n",
       "      <td>5</td>\n",
       "      <td>1.0</td>\n",
       "      <td>0</td>\n",
       "      <td>3</td>\n",
       "      <td>2</td>\n",
       "      <td>2</td>\n",
       "      <td>2.0</td>\n",
       "      <td>2.5</td>\n",
       "      <td>1.0</td>\n",
       "      <td>above_average</td>\n",
       "      <td>worst</td>\n",
       "      <td>For the students to be able to make a replicat...</td>\n",
       "    </tr>\n",
       "    <tr>\n",
       "      <th>5</th>\n",
       "      <td>6</td>\n",
       "      <td>1.0</td>\n",
       "      <td>0</td>\n",
       "      <td>3</td>\n",
       "      <td>1</td>\n",
       "      <td>0</td>\n",
       "      <td>0.0</td>\n",
       "      <td>0.0</td>\n",
       "      <td>0.0</td>\n",
       "      <td>worst</td>\n",
       "      <td>worst</td>\n",
       "      <td>I would need the information of why you would ...</td>\n",
       "    </tr>\n",
       "    <tr>\n",
       "      <th>6</th>\n",
       "      <td>7</td>\n",
       "      <td>1.0</td>\n",
       "      <td>0</td>\n",
       "      <td>3</td>\n",
       "      <td>1</td>\n",
       "      <td>0</td>\n",
       "      <td>0.0</td>\n",
       "      <td>0.5</td>\n",
       "      <td>0.0</td>\n",
       "      <td>average</td>\n",
       "      <td>worst</td>\n",
       "      <td>The information I would need in order to suces...</td>\n",
       "    </tr>\n",
       "    <tr>\n",
       "      <th>7</th>\n",
       "      <td>8</td>\n",
       "      <td>1.0</td>\n",
       "      <td>0</td>\n",
       "      <td>3</td>\n",
       "      <td>3</td>\n",
       "      <td>3</td>\n",
       "      <td>2.0</td>\n",
       "      <td>3.0</td>\n",
       "      <td>3.0</td>\n",
       "      <td>above_average</td>\n",
       "      <td>above_average</td>\n",
       "      <td>You would need many more pieces of information...</td>\n",
       "    </tr>\n",
       "    <tr>\n",
       "      <th>8</th>\n",
       "      <td>9</td>\n",
       "      <td>1.0</td>\n",
       "      <td>0</td>\n",
       "      <td>3</td>\n",
       "      <td>3</td>\n",
       "      <td>3</td>\n",
       "      <td>3.0</td>\n",
       "      <td>3.0</td>\n",
       "      <td>3.0</td>\n",
       "      <td>above_average</td>\n",
       "      <td>above_average</td>\n",
       "      <td>Some additional information you will need are ...</td>\n",
       "    </tr>\n",
       "    <tr>\n",
       "      <th>9</th>\n",
       "      <td>10</td>\n",
       "      <td>1.0</td>\n",
       "      <td>0</td>\n",
       "      <td>3</td>\n",
       "      <td>2</td>\n",
       "      <td>2</td>\n",
       "      <td>2.5</td>\n",
       "      <td>1.5</td>\n",
       "      <td>2.5</td>\n",
       "      <td>excellent</td>\n",
       "      <td>average</td>\n",
       "      <td>Inorder to replicate the experiment, we will n...</td>\n",
       "    </tr>\n",
       "  </tbody>\n",
       "</table>\n",
       "</div>"
      ],
      "text/plain": [
       "   ID                        ...                                                                  EssayText\n",
       "0   1                        ...                          Some additional information that we would need...\n",
       "1   2                        ...                          After reading the expirement, I realized that ...\n",
       "2   3                        ...                          What you need is more trials, a control set up...\n",
       "3   4                        ...                          The student should list what rock is better an...\n",
       "4   5                        ...                          For the students to be able to make a replicat...\n",
       "5   6                        ...                          I would need the information of why you would ...\n",
       "6   7                        ...                          The information I would need in order to suces...\n",
       "7   8                        ...                          You would need many more pieces of information...\n",
       "8   9                        ...                          Some additional information you will need are ...\n",
       "9  10                        ...                          Inorder to replicate the experiment, we will n...\n",
       "\n",
       "[10 rows x 12 columns]"
      ]
     },
     "execution_count": 3,
     "metadata": {},
     "output_type": "execute_result"
    }
   ],
   "source": [
    "train.head(10)"
   ]
  },
  {
   "cell_type": "code",
   "execution_count": 4,
   "metadata": {},
   "outputs": [
    {
     "data": {
      "text/plain": [
       "'In order to replicate this experiment the type or sample would need to be indicated in the procedure in addition the size of the containers would need to be used. Also the amount of material placed into each containers would need to be indicated.Lastly, the amount of vinegar added into the container should be included.'"
      ]
     },
     "execution_count": 4,
     "metadata": {},
     "output_type": "execute_result"
    }
   ],
   "source": [
    "train.iloc[394]['EssayText']"
   ]
  },
  {
   "cell_type": "code",
   "execution_count": 5,
   "metadata": {},
   "outputs": [
    {
     "data": {
      "text/plain": [
       "(17043, 12)"
      ]
     },
     "execution_count": 5,
     "metadata": {},
     "output_type": "execute_result"
    }
   ],
   "source": [
    "train.shape"
   ]
  },
  {
   "cell_type": "code",
   "execution_count": 6,
   "metadata": {},
   "outputs": [
    {
     "data": {
      "text/plain": [
       "ID             int64\n",
       "Essayset     float64\n",
       "min_score      int64\n",
       "max_score      int64\n",
       "score_1        int64\n",
       "score_2        int64\n",
       "score_3      float64\n",
       "score_4      float64\n",
       "score_5      float64\n",
       "clarity       object\n",
       "coherent      object\n",
       "EssayText     object\n",
       "dtype: object"
      ]
     },
     "execution_count": 6,
     "metadata": {},
     "output_type": "execute_result"
    }
   ],
   "source": [
    "train.dtypes"
   ]
  },
  {
   "cell_type": "code",
   "execution_count": 7,
   "metadata": {},
   "outputs": [
    {
     "data": {
      "text/plain": [
       "ID             0\n",
       "Essayset     157\n",
       "min_score      0\n",
       "max_score      0\n",
       "score_1        0\n",
       "score_2        0\n",
       "score_3      147\n",
       "score_4      136\n",
       "score_5      144\n",
       "clarity      138\n",
       "coherent     145\n",
       "EssayText      0\n",
       "dtype: int64"
      ]
     },
     "execution_count": 7,
     "metadata": {},
     "output_type": "execute_result"
    }
   ],
   "source": [
    "train.isna().sum()"
   ]
  },
  {
   "cell_type": "code",
   "execution_count": 8,
   "metadata": {},
   "outputs": [],
   "source": [
    "import matplotlib.pyplot as plt\n",
    "%matplotlib inline"
   ]
  },
  {
   "cell_type": "code",
   "execution_count": 9,
   "metadata": {},
   "outputs": [
    {
     "data": {
      "text/plain": [
       "<matplotlib.axes._subplots.AxesSubplot at 0x7f6e5d794ef0>"
      ]
     },
     "execution_count": 9,
     "metadata": {},
     "output_type": "execute_result"
    },
    {
     "data": {
      "image/png": "[encoded data removed]",
      "text/plain": [
       "<Figure size 432x288 with 1 Axes>"
      ]
     },
     "metadata": {},
     "output_type": "display_data"
    }
   ],
   "source": [
    "train['Essayset'].value_counts(normalize=True).plot.bar()"
   ]
  },
  {
   "cell_type": "code",
   "execution_count": 10,
   "metadata": {},
   "outputs": [
    {
     "data": {
      "text/plain": [
       "<matplotlib.axes._subplots.AxesSubplot at 0x7f6e5cd705c0>"
      ]
     },
     "execution_count": 10,
     "metadata": {},
     "output_type": "execute_result"
    },
    {
     "data": {
      "image/png": "[encoded data removed]",
      "text/plain": [
       "<Figure size 432x288 with 1 Axes>"
      ]
     },
     "metadata": {},
     "output_type": "display_data"
    }
   ],
   "source": [
    "train['max_score'].value_counts().plot.bar()"
   ]
  },
  {
   "cell_type": "markdown",
   "metadata": {},
   "source": [
    "Let's try to impute the missing values for each of the columns"
   ]
  },
  {
   "cell_type": "code",
   "execution_count": 11,
   "metadata": {},
   "outputs": [
    {
     "data": {
      "text/html": [
       "<div>\n",
       "<style scoped>\n",
       "    .dataframe tbody tr th:only-of-type {\n",
       "        vertical-align: middle;\n",
       "    }\n",
       "\n",
       "    .dataframe tbody tr th {\n",
       "        vertical-align: top;\n",
       "    }\n",
       "\n",
       "    .dataframe thead th {\n",
       "        text-align: right;\n",
       "    }\n",
       "</style>\n",
       "<table border=\"1\" class=\"dataframe\">\n",
       "  <thead>\n",
       "    <tr style=\"text-align: right;\">\n",
       "      <th></th>\n",
       "      <th>ID</th>\n",
       "      <th>Essayset</th>\n",
       "      <th>min_score</th>\n",
       "      <th>max_score</th>\n",
       "      <th>score_1</th>\n",
       "      <th>score_2</th>\n",
       "      <th>score_3</th>\n",
       "      <th>score_4</th>\n",
       "      <th>score_5</th>\n",
       "      <th>clarity</th>\n",
       "      <th>coherent</th>\n",
       "      <th>EssayText</th>\n",
       "    </tr>\n",
       "  </thead>\n",
       "  <tbody>\n",
       "    <tr>\n",
       "      <th>283</th>\n",
       "      <td>284</td>\n",
       "      <td>NaN</td>\n",
       "      <td>0</td>\n",
       "      <td>3</td>\n",
       "      <td>1</td>\n",
       "      <td>0</td>\n",
       "      <td>0.0</td>\n",
       "      <td>0.0</td>\n",
       "      <td>0.0</td>\n",
       "      <td>average</td>\n",
       "      <td>worst</td>\n",
       "      <td>First I would add that the students might want...</td>\n",
       "    </tr>\n",
       "    <tr>\n",
       "      <th>394</th>\n",
       "      <td>395</td>\n",
       "      <td>NaN</td>\n",
       "      <td>0</td>\n",
       "      <td>3</td>\n",
       "      <td>3</td>\n",
       "      <td>3</td>\n",
       "      <td>3.0</td>\n",
       "      <td>3.0</td>\n",
       "      <td>3.0</td>\n",
       "      <td>above_average</td>\n",
       "      <td>above_average</td>\n",
       "      <td>In order to replicate this experiment the type...</td>\n",
       "    </tr>\n",
       "    <tr>\n",
       "      <th>445</th>\n",
       "      <td>446</td>\n",
       "      <td>NaN</td>\n",
       "      <td>0</td>\n",
       "      <td>3</td>\n",
       "      <td>2</td>\n",
       "      <td>2</td>\n",
       "      <td>2.0</td>\n",
       "      <td>2.0</td>\n",
       "      <td>2.0</td>\n",
       "      <td>above_average</td>\n",
       "      <td>excellent</td>\n",
       "      <td>In order to replicate the experiment , the gro...</td>\n",
       "    </tr>\n",
       "    <tr>\n",
       "      <th>635</th>\n",
       "      <td>636</td>\n",
       "      <td>NaN</td>\n",
       "      <td>0</td>\n",
       "      <td>3</td>\n",
       "      <td>1</td>\n",
       "      <td>1</td>\n",
       "      <td>1.0</td>\n",
       "      <td>0.5</td>\n",
       "      <td>1.0</td>\n",
       "      <td>average</td>\n",
       "      <td>worst</td>\n",
       "      <td>To be able to replicate the expariment, you wo...</td>\n",
       "    </tr>\n",
       "    <tr>\n",
       "      <th>693</th>\n",
       "      <td>694</td>\n",
       "      <td>NaN</td>\n",
       "      <td>0</td>\n",
       "      <td>3</td>\n",
       "      <td>2</td>\n",
       "      <td>0</td>\n",
       "      <td>0.0</td>\n",
       "      <td>0.5</td>\n",
       "      <td>0.0</td>\n",
       "      <td>average</td>\n",
       "      <td>worst</td>\n",
       "      <td>You have to make sure that you are very specif...</td>\n",
       "    </tr>\n",
       "    <tr>\n",
       "      <th>898</th>\n",
       "      <td>899</td>\n",
       "      <td>NaN</td>\n",
       "      <td>0</td>\n",
       "      <td>3</td>\n",
       "      <td>0</td>\n",
       "      <td>0</td>\n",
       "      <td>0.0</td>\n",
       "      <td>0.0</td>\n",
       "      <td>0.0</td>\n",
       "      <td>worst</td>\n",
       "      <td>worst</td>\n",
       "      <td>Well first thing they do was they determine th...</td>\n",
       "    </tr>\n",
       "    <tr>\n",
       "      <th>921</th>\n",
       "      <td>922</td>\n",
       "      <td>NaN</td>\n",
       "      <td>0</td>\n",
       "      <td>3</td>\n",
       "      <td>3</td>\n",
       "      <td>3</td>\n",
       "      <td>3.0</td>\n",
       "      <td>2.0</td>\n",
       "      <td>3.0</td>\n",
       "      <td>excellent</td>\n",
       "      <td>above_average</td>\n",
       "      <td>Some additional information that would need in...</td>\n",
       "    </tr>\n",
       "    <tr>\n",
       "      <th>1039</th>\n",
       "      <td>1040</td>\n",
       "      <td>NaN</td>\n",
       "      <td>0</td>\n",
       "      <td>3</td>\n",
       "      <td>1</td>\n",
       "      <td>1</td>\n",
       "      <td>1.0</td>\n",
       "      <td>0.5</td>\n",
       "      <td>1.5</td>\n",
       "      <td>worst</td>\n",
       "      <td>average</td>\n",
       "      <td>How much vinegar should they put on each conta...</td>\n",
       "    </tr>\n",
       "    <tr>\n",
       "      <th>1128</th>\n",
       "      <td>1129</td>\n",
       "      <td>NaN</td>\n",
       "      <td>0</td>\n",
       "      <td>3</td>\n",
       "      <td>2</td>\n",
       "      <td>2</td>\n",
       "      <td>1.0</td>\n",
       "      <td>2.5</td>\n",
       "      <td>2.0</td>\n",
       "      <td>excellent</td>\n",
       "      <td>average</td>\n",
       "      <td>I would need to know how much vinegar I was po...</td>\n",
       "    </tr>\n",
       "    <tr>\n",
       "      <th>1130</th>\n",
       "      <td>1131</td>\n",
       "      <td>NaN</td>\n",
       "      <td>0</td>\n",
       "      <td>3</td>\n",
       "      <td>1</td>\n",
       "      <td>1</td>\n",
       "      <td>1.0</td>\n",
       "      <td>0.5</td>\n",
       "      <td>1.5</td>\n",
       "      <td>average</td>\n",
       "      <td>above_average</td>\n",
       "      <td>To replicate this experiment I would need to k...</td>\n",
       "    </tr>\n",
       "    <tr>\n",
       "      <th>1323</th>\n",
       "      <td>1324</td>\n",
       "      <td>NaN</td>\n",
       "      <td>0</td>\n",
       "      <td>3</td>\n",
       "      <td>0</td>\n",
       "      <td>0</td>\n",
       "      <td>0.0</td>\n",
       "      <td>0.0</td>\n",
       "      <td>1.0</td>\n",
       "      <td>average</td>\n",
       "      <td>worst</td>\n",
       "      <td>Some additional information would be make sure...</td>\n",
       "    </tr>\n",
       "    <tr>\n",
       "      <th>1341</th>\n",
       "      <td>1342</td>\n",
       "      <td>NaN</td>\n",
       "      <td>0</td>\n",
       "      <td>3</td>\n",
       "      <td>2</td>\n",
       "      <td>2</td>\n",
       "      <td>2.0</td>\n",
       "      <td>1.5</td>\n",
       "      <td>2.5</td>\n",
       "      <td>excellent</td>\n",
       "      <td>excellent</td>\n",
       "      <td>In order to replicate this experiment you woul...</td>\n",
       "    </tr>\n",
       "    <tr>\n",
       "      <th>1387</th>\n",
       "      <td>1388</td>\n",
       "      <td>NaN</td>\n",
       "      <td>0</td>\n",
       "      <td>3</td>\n",
       "      <td>0</td>\n",
       "      <td>0</td>\n",
       "      <td>0.0</td>\n",
       "      <td>0.0</td>\n",
       "      <td>0.5</td>\n",
       "      <td>worst</td>\n",
       "      <td>worst</td>\n",
       "      <td>You will need the data chart also the procedur...</td>\n",
       "    </tr>\n",
       "    <tr>\n",
       "      <th>1430</th>\n",
       "      <td>1431</td>\n",
       "      <td>NaN</td>\n",
       "      <td>0</td>\n",
       "      <td>3</td>\n",
       "      <td>2</td>\n",
       "      <td>2</td>\n",
       "      <td>2.0</td>\n",
       "      <td>2.0</td>\n",
       "      <td>1.5</td>\n",
       "      <td>excellent</td>\n",
       "      <td>excellent</td>\n",
       "      <td>To be able to replicate this experiment, the g...</td>\n",
       "    </tr>\n",
       "    <tr>\n",
       "      <th>1579</th>\n",
       "      <td>1580</td>\n",
       "      <td>NaN</td>\n",
       "      <td>0</td>\n",
       "      <td>3</td>\n",
       "      <td>3</td>\n",
       "      <td>3</td>\n",
       "      <td>3.0</td>\n",
       "      <td>3.0</td>\n",
       "      <td>2.0</td>\n",
       "      <td>above_average</td>\n",
       "      <td>average</td>\n",
       "      <td>The groups prosedure could  use, they could ad...</td>\n",
       "    </tr>\n",
       "    <tr>\n",
       "      <th>1894</th>\n",
       "      <td>3010</td>\n",
       "      <td>NaN</td>\n",
       "      <td>0</td>\n",
       "      <td>3</td>\n",
       "      <td>1</td>\n",
       "      <td>1</td>\n",
       "      <td>1.0</td>\n",
       "      <td>1.0</td>\n",
       "      <td>2.0</td>\n",
       "      <td>average</td>\n",
       "      <td>excellent</td>\n",
       "      <td>I conclude that plastic type D was able to str...</td>\n",
       "    </tr>\n",
       "    <tr>\n",
       "      <th>2261</th>\n",
       "      <td>3377</td>\n",
       "      <td>NaN</td>\n",
       "      <td>0</td>\n",
       "      <td>3</td>\n",
       "      <td>3</td>\n",
       "      <td>3</td>\n",
       "      <td>3.0</td>\n",
       "      <td>2.0</td>\n",
       "      <td>3.0</td>\n",
       "      <td>above_average</td>\n",
       "      <td>average</td>\n",
       "      <td>According to the student's data plastic types ...</td>\n",
       "    </tr>\n",
       "    <tr>\n",
       "      <th>2308</th>\n",
       "      <td>3424</td>\n",
       "      <td>NaN</td>\n",
       "      <td>0</td>\n",
       "      <td>3</td>\n",
       "      <td>1</td>\n",
       "      <td>1</td>\n",
       "      <td>2.0</td>\n",
       "      <td>2.0</td>\n",
       "      <td>0.5</td>\n",
       "      <td>above_average</td>\n",
       "      <td>worst</td>\n",
       "      <td>After reading the recorded data from the inves...</td>\n",
       "    </tr>\n",
       "    <tr>\n",
       "      <th>2399</th>\n",
       "      <td>3515</td>\n",
       "      <td>NaN</td>\n",
       "      <td>0</td>\n",
       "      <td>3</td>\n",
       "      <td>2</td>\n",
       "      <td>2</td>\n",
       "      <td>2.5</td>\n",
       "      <td>1.5</td>\n",
       "      <td>2.5</td>\n",
       "      <td>above_average</td>\n",
       "      <td>above_average</td>\n",
       "      <td>A) The student can conclude that plastic type ...</td>\n",
       "    </tr>\n",
       "    <tr>\n",
       "      <th>2447</th>\n",
       "      <td>3563</td>\n",
       "      <td>NaN</td>\n",
       "      <td>0</td>\n",
       "      <td>3</td>\n",
       "      <td>1</td>\n",
       "      <td>1</td>\n",
       "      <td>1.0</td>\n",
       "      <td>1.5</td>\n",
       "      <td>1.0</td>\n",
       "      <td>above_average</td>\n",
       "      <td>worst</td>\n",
       "      <td>A- A conclusion that can be made for this expe...</td>\n",
       "    </tr>\n",
       "    <tr>\n",
       "      <th>2496</th>\n",
       "      <td>3612</td>\n",
       "      <td>NaN</td>\n",
       "      <td>0</td>\n",
       "      <td>3</td>\n",
       "      <td>0</td>\n",
       "      <td>1</td>\n",
       "      <td>1.0</td>\n",
       "      <td>0.5</td>\n",
       "      <td>1.0</td>\n",
       "      <td>worst</td>\n",
       "      <td>worst</td>\n",
       "      <td>(A) The plastic that stretched was B T2 and th...</td>\n",
       "    </tr>\n",
       "    <tr>\n",
       "      <th>2553</th>\n",
       "      <td>3669</td>\n",
       "      <td>NaN</td>\n",
       "      <td>0</td>\n",
       "      <td>3</td>\n",
       "      <td>0</td>\n",
       "      <td>0</td>\n",
       "      <td>0.0</td>\n",
       "      <td>0.0</td>\n",
       "      <td>0.0</td>\n",
       "      <td>worst</td>\n",
       "      <td>worst</td>\n",
       "      <td>For the name of color the plastic.</td>\n",
       "    </tr>\n",
       "    <tr>\n",
       "      <th>2853</th>\n",
       "      <td>3969</td>\n",
       "      <td>NaN</td>\n",
       "      <td>0</td>\n",
       "      <td>3</td>\n",
       "      <td>2</td>\n",
       "      <td>2</td>\n",
       "      <td>2.5</td>\n",
       "      <td>2.0</td>\n",
       "      <td>2.0</td>\n",
       "      <td>above_average</td>\n",
       "      <td>above_average</td>\n",
       "      <td>a) Plastic B-D on the second trial had the mos...</td>\n",
       "    </tr>\n",
       "    <tr>\n",
       "      <th>2997</th>\n",
       "      <td>4965</td>\n",
       "      <td>NaN</td>\n",
       "      <td>0</td>\n",
       "      <td>2</td>\n",
       "      <td>0</td>\n",
       "      <td>1</td>\n",
       "      <td>1.0</td>\n",
       "      <td>0.5</td>\n",
       "      <td>1.0</td>\n",
       "      <td>worst</td>\n",
       "      <td>worst</td>\n",
       "      <td>Pandas eat almost nothing but bamboo and koala...</td>\n",
       "    </tr>\n",
       "    <tr>\n",
       "      <th>3067</th>\n",
       "      <td>5035</td>\n",
       "      <td>NaN</td>\n",
       "      <td>0</td>\n",
       "      <td>2</td>\n",
       "      <td>2</td>\n",
       "      <td>2</td>\n",
       "      <td>1.0</td>\n",
       "      <td>2.0</td>\n",
       "      <td>2.0</td>\n",
       "      <td>excellent</td>\n",
       "      <td>average</td>\n",
       "      <td>Pandas in China and koalas in Australia are si...</td>\n",
       "    </tr>\n",
       "    <tr>\n",
       "      <th>3141</th>\n",
       "      <td>5109</td>\n",
       "      <td>NaN</td>\n",
       "      <td>0</td>\n",
       "      <td>2</td>\n",
       "      <td>2</td>\n",
       "      <td>2</td>\n",
       "      <td>2.0</td>\n",
       "      <td>1.0</td>\n",
       "      <td>1.5</td>\n",
       "      <td>average</td>\n",
       "      <td>excellent</td>\n",
       "      <td>Pandas in China are similar to koalas in Austr...</td>\n",
       "    </tr>\n",
       "    <tr>\n",
       "      <th>3200</th>\n",
       "      <td>5168</td>\n",
       "      <td>NaN</td>\n",
       "      <td>0</td>\n",
       "      <td>2</td>\n",
       "      <td>2</td>\n",
       "      <td>2</td>\n",
       "      <td>1.0</td>\n",
       "      <td>2.0</td>\n",
       "      <td>2.0</td>\n",
       "      <td>above_average</td>\n",
       "      <td>excellent</td>\n",
       "      <td>Just like koala bears in Australia, panda bear...</td>\n",
       "    </tr>\n",
       "    <tr>\n",
       "      <th>3345</th>\n",
       "      <td>5316</td>\n",
       "      <td>NaN</td>\n",
       "      <td>0</td>\n",
       "      <td>2</td>\n",
       "      <td>1</td>\n",
       "      <td>0</td>\n",
       "      <td>0.0</td>\n",
       "      <td>0.0</td>\n",
       "      <td>0.0</td>\n",
       "      <td>worst</td>\n",
       "      <td>worst</td>\n",
       "      <td>Pandas in China are different from Australia's...</td>\n",
       "    </tr>\n",
       "    <tr>\n",
       "      <th>3489</th>\n",
       "      <td>5463</td>\n",
       "      <td>NaN</td>\n",
       "      <td>0</td>\n",
       "      <td>2</td>\n",
       "      <td>1</td>\n",
       "      <td>1</td>\n",
       "      <td>1.0</td>\n",
       "      <td>1.0</td>\n",
       "      <td>1.0</td>\n",
       "      <td>average</td>\n",
       "      <td>worst</td>\n",
       "      <td>Pandas in China are similar to koalas in Austr...</td>\n",
       "    </tr>\n",
       "    <tr>\n",
       "      <th>3540</th>\n",
       "      <td>5515</td>\n",
       "      <td>NaN</td>\n",
       "      <td>0</td>\n",
       "      <td>2</td>\n",
       "      <td>1</td>\n",
       "      <td>1</td>\n",
       "      <td>1.5</td>\n",
       "      <td>1.0</td>\n",
       "      <td>1.0</td>\n",
       "      <td>worst</td>\n",
       "      <td>worst</td>\n",
       "      <td>The panda and the koala bear are both speciali...</td>\n",
       "    </tr>\n",
       "    <tr>\n",
       "      <th>...</th>\n",
       "      <td>...</td>\n",
       "      <td>...</td>\n",
       "      <td>...</td>\n",
       "      <td>...</td>\n",
       "      <td>...</td>\n",
       "      <td>...</td>\n",
       "      <td>...</td>\n",
       "      <td>...</td>\n",
       "      <td>...</td>\n",
       "      <td>...</td>\n",
       "      <td>...</td>\n",
       "      <td>...</td>\n",
       "    </tr>\n",
       "    <tr>\n",
       "      <th>14441</th>\n",
       "      <td>23788</td>\n",
       "      <td>NaN</td>\n",
       "      <td>0</td>\n",
       "      <td>2</td>\n",
       "      <td>0</td>\n",
       "      <td>0</td>\n",
       "      <td>0.0</td>\n",
       "      <td>0.0</td>\n",
       "      <td>0.0</td>\n",
       "      <td>worst</td>\n",
       "      <td>worst</td>\n",
       "      <td>The author organized this article like a magaz...</td>\n",
       "    </tr>\n",
       "    <tr>\n",
       "      <th>14528</th>\n",
       "      <td>23875</td>\n",
       "      <td>NaN</td>\n",
       "      <td>0</td>\n",
       "      <td>2</td>\n",
       "      <td>2</td>\n",
       "      <td>2</td>\n",
       "      <td>2.0</td>\n",
       "      <td>1.0</td>\n",
       "      <td>2.0</td>\n",
       "      <td>worst</td>\n",
       "      <td>above_average</td>\n",
       "      <td>How the author organizes the article is he put...</td>\n",
       "    </tr>\n",
       "    <tr>\n",
       "      <th>14556</th>\n",
       "      <td>23903</td>\n",
       "      <td>NaN</td>\n",
       "      <td>0</td>\n",
       "      <td>2</td>\n",
       "      <td>1</td>\n",
       "      <td>1</td>\n",
       "      <td>1.0</td>\n",
       "      <td>1.0</td>\n",
       "      <td>1.5</td>\n",
       "      <td>worst</td>\n",
       "      <td>excellent</td>\n",
       "      <td>The author organizes the article by splitting ...</td>\n",
       "    </tr>\n",
       "    <tr>\n",
       "      <th>14709</th>\n",
       "      <td>24056</td>\n",
       "      <td>NaN</td>\n",
       "      <td>0</td>\n",
       "      <td>2</td>\n",
       "      <td>0</td>\n",
       "      <td>0</td>\n",
       "      <td>0.5</td>\n",
       "      <td>0.0</td>\n",
       "      <td>0.0</td>\n",
       "      <td>average</td>\n",
       "      <td>worst</td>\n",
       "      <td>The author gives you details like over the pas...</td>\n",
       "    </tr>\n",
       "    <tr>\n",
       "      <th>14740</th>\n",
       "      <td>24087</td>\n",
       "      <td>NaN</td>\n",
       "      <td>0</td>\n",
       "      <td>2</td>\n",
       "      <td>2</td>\n",
       "      <td>2</td>\n",
       "      <td>2.0</td>\n",
       "      <td>2.0</td>\n",
       "      <td>2.0</td>\n",
       "      <td>excellent</td>\n",
       "      <td>excellent</td>\n",
       "      <td>The author orgaizes the article in different s...</td>\n",
       "    </tr>\n",
       "    <tr>\n",
       "      <th>14750</th>\n",
       "      <td>24097</td>\n",
       "      <td>NaN</td>\n",
       "      <td>0</td>\n",
       "      <td>2</td>\n",
       "      <td>1</td>\n",
       "      <td>1</td>\n",
       "      <td>1.0</td>\n",
       "      <td>1.0</td>\n",
       "      <td>0.5</td>\n",
       "      <td>average</td>\n",
       "      <td>worst</td>\n",
       "      <td>The author orginizes the article by putting th...</td>\n",
       "    </tr>\n",
       "    <tr>\n",
       "      <th>14816</th>\n",
       "      <td>24163</td>\n",
       "      <td>NaN</td>\n",
       "      <td>0</td>\n",
       "      <td>2</td>\n",
       "      <td>2</td>\n",
       "      <td>1</td>\n",
       "      <td>1.0</td>\n",
       "      <td>1.5</td>\n",
       "      <td>1.0</td>\n",
       "      <td>excellent</td>\n",
       "      <td>worst</td>\n",
       "      <td>The author organizes this article from beginin...</td>\n",
       "    </tr>\n",
       "    <tr>\n",
       "      <th>15129</th>\n",
       "      <td>24476</td>\n",
       "      <td>NaN</td>\n",
       "      <td>0</td>\n",
       "      <td>2</td>\n",
       "      <td>1</td>\n",
       "      <td>1</td>\n",
       "      <td>1.0</td>\n",
       "      <td>1.0</td>\n",
       "      <td>1.0</td>\n",
       "      <td>average</td>\n",
       "      <td>worst</td>\n",
       "      <td>The author starts with the larger objects that...</td>\n",
       "    </tr>\n",
       "    <tr>\n",
       "      <th>15441</th>\n",
       "      <td>25987</td>\n",
       "      <td>NaN</td>\n",
       "      <td>0</td>\n",
       "      <td>2</td>\n",
       "      <td>1</td>\n",
       "      <td>1</td>\n",
       "      <td>1.0</td>\n",
       "      <td>1.0</td>\n",
       "      <td>1.0</td>\n",
       "      <td>worst</td>\n",
       "      <td>worst</td>\n",
       "      <td>black :: The black doghouse would keep you war...</td>\n",
       "    </tr>\n",
       "    <tr>\n",
       "      <th>15552</th>\n",
       "      <td>26098</td>\n",
       "      <td>NaN</td>\n",
       "      <td>0</td>\n",
       "      <td>2</td>\n",
       "      <td>2</td>\n",
       "      <td>2</td>\n",
       "      <td>2.0</td>\n",
       "      <td>1.5</td>\n",
       "      <td>2.0</td>\n",
       "      <td>excellent</td>\n",
       "      <td>average</td>\n",
       "      <td>white :: The color white would keep the doghou...</td>\n",
       "    </tr>\n",
       "    <tr>\n",
       "      <th>15569</th>\n",
       "      <td>26115</td>\n",
       "      <td>NaN</td>\n",
       "      <td>0</td>\n",
       "      <td>2</td>\n",
       "      <td>1</td>\n",
       "      <td>1</td>\n",
       "      <td>1.0</td>\n",
       "      <td>1.0</td>\n",
       "      <td>1.0</td>\n",
       "      <td>average</td>\n",
       "      <td>worst</td>\n",
       "      <td>light gray ::  With a light gray dog house the...</td>\n",
       "    </tr>\n",
       "    <tr>\n",
       "      <th>15603</th>\n",
       "      <td>26149</td>\n",
       "      <td>NaN</td>\n",
       "      <td>0</td>\n",
       "      <td>2</td>\n",
       "      <td>1</td>\n",
       "      <td>2</td>\n",
       "      <td>2.0</td>\n",
       "      <td>2.0</td>\n",
       "      <td>2.0</td>\n",
       "      <td>above_average</td>\n",
       "      <td>average</td>\n",
       "      <td>white :: The color would affect the temperatur...</td>\n",
       "    </tr>\n",
       "    <tr>\n",
       "      <th>15762</th>\n",
       "      <td>26308</td>\n",
       "      <td>NaN</td>\n",
       "      <td>0</td>\n",
       "      <td>2</td>\n",
       "      <td>0</td>\n",
       "      <td>0</td>\n",
       "      <td>0.0</td>\n",
       "      <td>0.0</td>\n",
       "      <td>0.0</td>\n",
       "      <td>average</td>\n",
       "      <td>worst</td>\n",
       "      <td>black :: Black Will Efect The Dog House Alot I...</td>\n",
       "    </tr>\n",
       "    <tr>\n",
       "      <th>15838</th>\n",
       "      <td>26384</td>\n",
       "      <td>NaN</td>\n",
       "      <td>0</td>\n",
       "      <td>2</td>\n",
       "      <td>1</td>\n",
       "      <td>1</td>\n",
       "      <td>0.5</td>\n",
       "      <td>1.0</td>\n",
       "      <td>1.0</td>\n",
       "      <td>average</td>\n",
       "      <td>worst</td>\n",
       "      <td>white :: White becase the doghouse wont get to...</td>\n",
       "    </tr>\n",
       "    <tr>\n",
       "      <th>15863</th>\n",
       "      <td>26409</td>\n",
       "      <td>NaN</td>\n",
       "      <td>0</td>\n",
       "      <td>2</td>\n",
       "      <td>2</td>\n",
       "      <td>2</td>\n",
       "      <td>1.5</td>\n",
       "      <td>1.0</td>\n",
       "      <td>1.0</td>\n",
       "      <td>average</td>\n",
       "      <td>worst</td>\n",
       "      <td>black ::  It would make it warmer for the dog ...</td>\n",
       "    </tr>\n",
       "    <tr>\n",
       "      <th>15919</th>\n",
       "      <td>26465</td>\n",
       "      <td>NaN</td>\n",
       "      <td>0</td>\n",
       "      <td>2</td>\n",
       "      <td>0</td>\n",
       "      <td>0</td>\n",
       "      <td>0.0</td>\n",
       "      <td>0.0</td>\n",
       "      <td>0.0</td>\n",
       "      <td>worst</td>\n",
       "      <td>worst</td>\n",
       "      <td>white :: ti make ti litere</td>\n",
       "    </tr>\n",
       "    <tr>\n",
       "      <th>16029</th>\n",
       "      <td>26575</td>\n",
       "      <td>NaN</td>\n",
       "      <td>0</td>\n",
       "      <td>2</td>\n",
       "      <td>0</td>\n",
       "      <td>0</td>\n",
       "      <td>0.0</td>\n",
       "      <td>0.0</td>\n",
       "      <td>0.0</td>\n",
       "      <td>average</td>\n",
       "      <td>worst</td>\n",
       "      <td>black :: black</td>\n",
       "    </tr>\n",
       "    <tr>\n",
       "      <th>16089</th>\n",
       "      <td>26635</td>\n",
       "      <td>NaN</td>\n",
       "      <td>0</td>\n",
       "      <td>2</td>\n",
       "      <td>0</td>\n",
       "      <td>0</td>\n",
       "      <td>0.0</td>\n",
       "      <td>0.0</td>\n",
       "      <td>0.0</td>\n",
       "      <td>average</td>\n",
       "      <td>worst</td>\n",
       "      <td>dark gray :: dark gray</td>\n",
       "    </tr>\n",
       "    <tr>\n",
       "      <th>16109</th>\n",
       "      <td>26655</td>\n",
       "      <td>NaN</td>\n",
       "      <td>0</td>\n",
       "      <td>2</td>\n",
       "      <td>2</td>\n",
       "      <td>2</td>\n",
       "      <td>1.0</td>\n",
       "      <td>2.0</td>\n",
       "      <td>2.0</td>\n",
       "      <td>excellent</td>\n",
       "      <td>excellent</td>\n",
       "      <td>black :: i chouse black becase black makes it ...</td>\n",
       "    </tr>\n",
       "    <tr>\n",
       "      <th>16329</th>\n",
       "      <td>26875</td>\n",
       "      <td>NaN</td>\n",
       "      <td>0</td>\n",
       "      <td>2</td>\n",
       "      <td>1</td>\n",
       "      <td>1</td>\n",
       "      <td>1.0</td>\n",
       "      <td>1.5</td>\n",
       "      <td>1.0</td>\n",
       "      <td>excellent</td>\n",
       "      <td>worst</td>\n",
       "      <td>dark gray :: I think dark gray is good because...</td>\n",
       "    </tr>\n",
       "    <tr>\n",
       "      <th>16503</th>\n",
       "      <td>27049</td>\n",
       "      <td>NaN</td>\n",
       "      <td>0</td>\n",
       "      <td>2</td>\n",
       "      <td>2</td>\n",
       "      <td>2</td>\n",
       "      <td>2.0</td>\n",
       "      <td>2.0</td>\n",
       "      <td>2.0</td>\n",
       "      <td>above_average</td>\n",
       "      <td>average</td>\n",
       "      <td>white :: I chose white because white would kee...</td>\n",
       "    </tr>\n",
       "    <tr>\n",
       "      <th>16620</th>\n",
       "      <td>27166</td>\n",
       "      <td>NaN</td>\n",
       "      <td>0</td>\n",
       "      <td>2</td>\n",
       "      <td>1</td>\n",
       "      <td>1</td>\n",
       "      <td>1.5</td>\n",
       "      <td>1.5</td>\n",
       "      <td>1.5</td>\n",
       "      <td>excellent</td>\n",
       "      <td>above_average</td>\n",
       "      <td>white :: white would make the doghouse less ho...</td>\n",
       "    </tr>\n",
       "    <tr>\n",
       "      <th>16625</th>\n",
       "      <td>27171</td>\n",
       "      <td>NaN</td>\n",
       "      <td>0</td>\n",
       "      <td>2</td>\n",
       "      <td>0</td>\n",
       "      <td>0</td>\n",
       "      <td>0.5</td>\n",
       "      <td>0.5</td>\n",
       "      <td>0.0</td>\n",
       "      <td>worst</td>\n",
       "      <td>worst</td>\n",
       "      <td>white :: That will affect the doghouse becuase...</td>\n",
       "    </tr>\n",
       "    <tr>\n",
       "      <th>16631</th>\n",
       "      <td>27177</td>\n",
       "      <td>NaN</td>\n",
       "      <td>0</td>\n",
       "      <td>2</td>\n",
       "      <td>1</td>\n",
       "      <td>1</td>\n",
       "      <td>0.5</td>\n",
       "      <td>1.0</td>\n",
       "      <td>1.0</td>\n",
       "      <td>worst</td>\n",
       "      <td>worst</td>\n",
       "      <td>black ::  The black lid will attract more heat...</td>\n",
       "    </tr>\n",
       "    <tr>\n",
       "      <th>16683</th>\n",
       "      <td>27229</td>\n",
       "      <td>NaN</td>\n",
       "      <td>0</td>\n",
       "      <td>2</td>\n",
       "      <td>2</td>\n",
       "      <td>2</td>\n",
       "      <td>1.5</td>\n",
       "      <td>2.0</td>\n",
       "      <td>2.0</td>\n",
       "      <td>above_average</td>\n",
       "      <td>above_average</td>\n",
       "      <td>black ::  brandi and jerry should paint the do...</td>\n",
       "    </tr>\n",
       "    <tr>\n",
       "      <th>16755</th>\n",
       "      <td>27301</td>\n",
       "      <td>NaN</td>\n",
       "      <td>0</td>\n",
       "      <td>2</td>\n",
       "      <td>1</td>\n",
       "      <td>1</td>\n",
       "      <td>1.0</td>\n",
       "      <td>1.0</td>\n",
       "      <td>1.0</td>\n",
       "      <td>worst</td>\n",
       "      <td>worst</td>\n",
       "      <td>white :: The color white will keep the doghous...</td>\n",
       "    </tr>\n",
       "    <tr>\n",
       "      <th>16806</th>\n",
       "      <td>27352</td>\n",
       "      <td>NaN</td>\n",
       "      <td>0</td>\n",
       "      <td>2</td>\n",
       "      <td>1</td>\n",
       "      <td>1</td>\n",
       "      <td>1.5</td>\n",
       "      <td>1.5</td>\n",
       "      <td>1.0</td>\n",
       "      <td>excellent</td>\n",
       "      <td>worst</td>\n",
       "      <td>white :: White, because white paint adsorbse h...</td>\n",
       "    </tr>\n",
       "    <tr>\n",
       "      <th>16851</th>\n",
       "      <td>27397</td>\n",
       "      <td>NaN</td>\n",
       "      <td>0</td>\n",
       "      <td>2</td>\n",
       "      <td>1</td>\n",
       "      <td>1</td>\n",
       "      <td>0.5</td>\n",
       "      <td>1.0</td>\n",
       "      <td>1.0</td>\n",
       "      <td>worst</td>\n",
       "      <td>worst</td>\n",
       "      <td>dark gray :: The color will affect the dighous...</td>\n",
       "    </tr>\n",
       "    <tr>\n",
       "      <th>16998</th>\n",
       "      <td>27544</td>\n",
       "      <td>NaN</td>\n",
       "      <td>0</td>\n",
       "      <td>2</td>\n",
       "      <td>2</td>\n",
       "      <td>2</td>\n",
       "      <td>1.0</td>\n",
       "      <td>1.0</td>\n",
       "      <td>1.0</td>\n",
       "      <td>average</td>\n",
       "      <td>worst</td>\n",
       "      <td>white ::  The color of the doghouse should be ...</td>\n",
       "    </tr>\n",
       "    <tr>\n",
       "      <th>17024</th>\n",
       "      <td>27570</td>\n",
       "      <td>NaN</td>\n",
       "      <td>0</td>\n",
       "      <td>2</td>\n",
       "      <td>2</td>\n",
       "      <td>2</td>\n",
       "      <td>2.0</td>\n",
       "      <td>1.5</td>\n",
       "      <td>2.0</td>\n",
       "      <td>above_average</td>\n",
       "      <td>average</td>\n",
       "      <td>black :: The black paint might make the dog ho...</td>\n",
       "    </tr>\n",
       "  </tbody>\n",
       "</table>\n",
       "<p>157 rows × 12 columns</p>\n",
       "</div>"
      ],
      "text/plain": [
       "          ID                        ...                                                                  EssayText\n",
       "283      284                        ...                          First I would add that the students might want...\n",
       "394      395                        ...                          In order to replicate this experiment the type...\n",
       "445      446                        ...                          In order to replicate the experiment , the gro...\n",
       "635      636                        ...                          To be able to replicate the expariment, you wo...\n",
       "693      694                        ...                          You have to make sure that you are very specif...\n",
       "898      899                        ...                          Well first thing they do was they determine th...\n",
       "921      922                        ...                          Some additional information that would need in...\n",
       "1039    1040                        ...                          How much vinegar should they put on each conta...\n",
       "1128    1129                        ...                          I would need to know how much vinegar I was po...\n",
       "1130    1131                        ...                          To replicate this experiment I would need to k...\n",
       "1323    1324                        ...                          Some additional information would be make sure...\n",
       "1341    1342                        ...                          In order to replicate this experiment you woul...\n",
       "1387    1388                        ...                          You will need the data chart also the procedur...\n",
       "1430    1431                        ...                          To be able to replicate this experiment, the g...\n",
       "1579    1580                        ...                          The groups prosedure could  use, they could ad...\n",
       "1894    3010                        ...                          I conclude that plastic type D was able to str...\n",
       "2261    3377                        ...                          According to the student's data plastic types ...\n",
       "2308    3424                        ...                          After reading the recorded data from the inves...\n",
       "2399    3515                        ...                          A) The student can conclude that plastic type ...\n",
       "2447    3563                        ...                          A- A conclusion that can be made for this expe...\n",
       "2496    3612                        ...                          (A) The plastic that stretched was B T2 and th...\n",
       "2553    3669                        ...                                         For the name of color the plastic.\n",
       "2853    3969                        ...                          a) Plastic B-D on the second trial had the mos...\n",
       "2997    4965                        ...                          Pandas eat almost nothing but bamboo and koala...\n",
       "3067    5035                        ...                          Pandas in China and koalas in Australia are si...\n",
       "3141    5109                        ...                          Pandas in China are similar to koalas in Austr...\n",
       "3200    5168                        ...                          Just like koala bears in Australia, panda bear...\n",
       "3345    5316                        ...                          Pandas in China are different from Australia's...\n",
       "3489    5463                        ...                          Pandas in China are similar to koalas in Austr...\n",
       "3540    5515                        ...                          The panda and the koala bear are both speciali...\n",
       "...      ...                        ...                                                                        ...\n",
       "14441  23788                        ...                          The author organized this article like a magaz...\n",
       "14528  23875                        ...                          How the author organizes the article is he put...\n",
       "14556  23903                        ...                          The author organizes the article by splitting ...\n",
       "14709  24056                        ...                          The author gives you details like over the pas...\n",
       "14740  24087                        ...                          The author orgaizes the article in different s...\n",
       "14750  24097                        ...                          The author orginizes the article by putting th...\n",
       "14816  24163                        ...                          The author organizes this article from beginin...\n",
       "15129  24476                        ...                          The author starts with the larger objects that...\n",
       "15441  25987                        ...                          black :: The black doghouse would keep you war...\n",
       "15552  26098                        ...                          white :: The color white would keep the doghou...\n",
       "15569  26115                        ...                          light gray ::  With a light gray dog house the...\n",
       "15603  26149                        ...                          white :: The color would affect the temperatur...\n",
       "15762  26308                        ...                          black :: Black Will Efect The Dog House Alot I...\n",
       "15838  26384                        ...                          white :: White becase the doghouse wont get to...\n",
       "15863  26409                        ...                          black ::  It would make it warmer for the dog ...\n",
       "15919  26465                        ...                                                 white :: ti make ti litere\n",
       "16029  26575                        ...                                                             black :: black\n",
       "16089  26635                        ...                                                     dark gray :: dark gray\n",
       "16109  26655                        ...                          black :: i chouse black becase black makes it ...\n",
       "16329  26875                        ...                          dark gray :: I think dark gray is good because...\n",
       "16503  27049                        ...                          white :: I chose white because white would kee...\n",
       "16620  27166                        ...                          white :: white would make the doghouse less ho...\n",
       "16625  27171                        ...                          white :: That will affect the doghouse becuase...\n",
       "16631  27177                        ...                          black ::  The black lid will attract more heat...\n",
       "16683  27229                        ...                          black ::  brandi and jerry should paint the do...\n",
       "16755  27301                        ...                          white :: The color white will keep the doghous...\n",
       "16806  27352                        ...                          white :: White, because white paint adsorbse h...\n",
       "16851  27397                        ...                          dark gray :: The color will affect the dighous...\n",
       "16998  27544                        ...                          white ::  The color of the doghouse should be ...\n",
       "17024  27570                        ...                          black :: The black paint might make the dog ho...\n",
       "\n",
       "[157 rows x 12 columns]"
      ]
     },
     "execution_count": 11,
     "metadata": {},
     "output_type": "execute_result"
    }
   ],
   "source": [
    "train.loc[train['Essayset'].isna()==True]"
   ]
  },
  {
   "cell_type": "markdown",
   "metadata": {},
   "source": [
    "One good way to impute the missing value of this column is to take the advantage of the fact that essay set {1,2,5,6}\n",
    "has the max value of 10 and rest have the max value of 2.\n",
    "\n",
    "So if the max score for the row is 3, I'll be imputing the set with the highest mode in {1,2,5,6} else with the mode of remaning value"
   ]
  },
  {
   "cell_type": "code",
   "execution_count": 12,
   "metadata": {},
   "outputs": [],
   "source": [
    "X = train.copy()\n",
    "X_test = test.copy()"
   ]
  },
  {
   "cell_type": "code",
   "execution_count": 13,
   "metadata": {},
   "outputs": [],
   "source": [
    "from collections import defaultdict\n",
    "\n",
    "def count_value(df):\n",
    "        dic = defaultdict(int)\n",
    "        dic1 = defaultdict(int)\n",
    "        df = df.dropna()\n",
    "        for val in df['Essayset']:\n",
    "            if val in [1.0,2.0,5.0,6.0]:\n",
    "                dic[val]+=1\n",
    "            else:\n",
    "                dic1[val]+=1\n",
    "        return dic,dic1"
   ]
  },
  {
   "cell_type": "code",
   "execution_count": 14,
   "metadata": {},
   "outputs": [
    {
     "data": {
      "text/plain": [
       "(defaultdict(int, {1.0: 1603, 2.0: 1225, 5.0: 1693, 6.0: 1703}),\n",
       " defaultdict(int,\n",
       "             {3.0: 1714,\n",
       "              4.0: 1568,\n",
       "              7.0: 1710,\n",
       "              8.0: 1715,\n",
       "              9.0: 1704,\n",
       "              10.0: 1541}))"
      ]
     },
     "execution_count": 14,
     "metadata": {},
     "output_type": "execute_result"
    }
   ],
   "source": [
    "count_value(X)"
   ]
  },
  {
   "cell_type": "markdown",
   "metadata": {},
   "source": [
    "So if the value of Eassayset is missing and the max marks for the row is 3 we will be imputing the value of 6.0 and if the max marks is 2 we will impute 8.0"
   ]
  },
  {
   "cell_type": "code",
   "execution_count": 15,
   "metadata": {},
   "outputs": [],
   "source": [
    "X.loc[(X['Essayset'].isna() == True) & (X['max_score'] == 3),['Essayset']] = 6.0\n",
    "X.loc[(X['Essayset'].isna() == True) & (X['max_score'] == 2),['Essayset']] = 8.0"
   ]
  },
  {
   "cell_type": "code",
   "execution_count": 16,
   "metadata": {},
   "outputs": [],
   "source": [
    "import seaborn as sns\n"
   ]
  },
  {
   "cell_type": "code",
   "execution_count": 17,
   "metadata": {},
   "outputs": [
    {
     "name": "stderr",
     "output_type": "stream",
     "text": [
      "/opt/conda/lib/python3.6/site-packages/scipy/stats/stats.py:1713: FutureWarning: Using a non-tuple sequence for multidimensional indexing is deprecated; use `arr[tuple(seq)]` instead of `arr[seq]`. In the future this will be interpreted as an array index, `arr[np.array(seq)]`, which will result either in an error or a different result.\n",
      "  return np.add.reduce(sorted[indexer] * weights, axis=axis) / sumval\n"
     ]
    },
    {
     "data": {
      "image/png": "[encoded data removed]",
      "text/plain": [
       "<Figure size 1152x1152 with 6 Axes>"
      ]
     },
     "metadata": {},
     "output_type": "display_data"
    }
   ],
   "source": [
    "plt.figure(1,figsize=(16,16))\n",
    "\n",
    "\n",
    "plt.subplot(321)\n",
    "sns.distplot(X.loc[X['score_3'].isna()!=True,['score_3']])\n",
    "plt.subplot(322)\n",
    "sns.boxplot(y=X.loc[X['score_3'].isna()!=True,['score_3']])\n",
    "\n",
    "plt.subplot(323)\n",
    "sns.distplot(X.loc[X['score_4'].isna()!=True,['score_4']])\n",
    "plt.subplot(324)\n",
    "sns.boxplot(y=X.loc[X['score_4'].isna()!=True,['score_4']])\n",
    "\n",
    "plt.subplot(325)\n",
    "sns.distplot(X.loc[X['score_5'].isna()!=True,['score_5']])\n",
    "plt.subplot(326)\n",
    "sns.boxplot(y=X.loc[X['score_5'].isna()!=True,['score_5']])\n",
    "\n",
    "plt.show()"
   ]
  },
  {
   "cell_type": "markdown",
   "metadata": {},
   "source": [
    "We will be imputying the scores with the mean of their corresponding columns."
   ]
  },
  {
   "cell_type": "code",
   "execution_count": 18,
   "metadata": {},
   "outputs": [],
   "source": [
    "X.loc[X['score_3'].isna()==True,['score_3']] = X['score_3'].mean()\n",
    "X.loc[X['score_4'].isna()==True,['score_4']] = X['score_4'].mean()\n",
    "X.loc[X['score_5'].isna()==True,['score_5']] = X['score_4'].mean()"
   ]
  },
  {
   "cell_type": "code",
   "execution_count": 19,
   "metadata": {},
   "outputs": [
    {
     "data": {
      "text/plain": [
       "ID             0\n",
       "Essayset       0\n",
       "min_score      0\n",
       "max_score      0\n",
       "score_1        0\n",
       "score_2        0\n",
       "score_3        0\n",
       "score_4        0\n",
       "score_5        0\n",
       "clarity      138\n",
       "coherent     145\n",
       "EssayText      0\n",
       "dtype: int64"
      ]
     },
     "execution_count": 19,
     "metadata": {},
     "output_type": "execute_result"
    }
   ],
   "source": [
    "X.isna().sum()"
   ]
  },
  {
   "cell_type": "markdown",
   "metadata": {},
   "source": [
    "Computing the average of score_1...score_5"
   ]
  },
  {
   "cell_type": "code",
   "execution_count": 20,
   "metadata": {},
   "outputs": [],
   "source": [
    "X['score'] = X.loc[:,['score_1','score_2','score_3','score_4','score_5']].mean(axis=1)"
   ]
  },
  {
   "cell_type": "code",
   "execution_count": 21,
   "metadata": {},
   "outputs": [],
   "source": [
    "X = X.drop(labels = ['score_1','score_2','score_3','score_4','score_5'],axis =1)\n"
   ]
  },
  {
   "cell_type": "code",
   "execution_count": 22,
   "metadata": {},
   "outputs": [
    {
     "data": {
      "text/html": [
       "<div>\n",
       "<style scoped>\n",
       "    .dataframe tbody tr th:only-of-type {\n",
       "        vertical-align: middle;\n",
       "    }\n",
       "\n",
       "    .dataframe tbody tr th {\n",
       "        vertical-align: top;\n",
       "    }\n",
       "\n",
       "    .dataframe thead th {\n",
       "        text-align: right;\n",
       "    }\n",
       "</style>\n",
       "<table border=\"1\" class=\"dataframe\">\n",
       "  <thead>\n",
       "    <tr style=\"text-align: right;\">\n",
       "      <th></th>\n",
       "      <th>ID</th>\n",
       "      <th>Essayset</th>\n",
       "      <th>min_score</th>\n",
       "      <th>max_score</th>\n",
       "      <th>clarity</th>\n",
       "      <th>coherent</th>\n",
       "      <th>EssayText</th>\n",
       "      <th>score</th>\n",
       "    </tr>\n",
       "  </thead>\n",
       "  <tbody>\n",
       "    <tr>\n",
       "      <th>0</th>\n",
       "      <td>1</td>\n",
       "      <td>1.0</td>\n",
       "      <td>0</td>\n",
       "      <td>3</td>\n",
       "      <td>average</td>\n",
       "      <td>worst</td>\n",
       "      <td>Some additional information that we would need...</td>\n",
       "      <td>1.0</td>\n",
       "    </tr>\n",
       "    <tr>\n",
       "      <th>1</th>\n",
       "      <td>2</td>\n",
       "      <td>1.0</td>\n",
       "      <td>0</td>\n",
       "      <td>3</td>\n",
       "      <td>excellent</td>\n",
       "      <td>worst</td>\n",
       "      <td>After reading the expirement, I realized that ...</td>\n",
       "      <td>1.0</td>\n",
       "    </tr>\n",
       "    <tr>\n",
       "      <th>2</th>\n",
       "      <td>3</td>\n",
       "      <td>1.0</td>\n",
       "      <td>0</td>\n",
       "      <td>3</td>\n",
       "      <td>worst</td>\n",
       "      <td>above_average</td>\n",
       "      <td>What you need is more trials, a control set up...</td>\n",
       "      <td>1.0</td>\n",
       "    </tr>\n",
       "    <tr>\n",
       "      <th>3</th>\n",
       "      <td>4</td>\n",
       "      <td>1.0</td>\n",
       "      <td>0</td>\n",
       "      <td>3</td>\n",
       "      <td>worst</td>\n",
       "      <td>worst</td>\n",
       "      <td>The student should list what rock is better an...</td>\n",
       "      <td>0.0</td>\n",
       "    </tr>\n",
       "    <tr>\n",
       "      <th>4</th>\n",
       "      <td>5</td>\n",
       "      <td>1.0</td>\n",
       "      <td>0</td>\n",
       "      <td>3</td>\n",
       "      <td>above_average</td>\n",
       "      <td>worst</td>\n",
       "      <td>For the students to be able to make a replicat...</td>\n",
       "      <td>2.0</td>\n",
       "    </tr>\n",
       "  </tbody>\n",
       "</table>\n",
       "</div>"
      ],
      "text/plain": [
       "   ID  Essayset  ...                                            EssayText  score\n",
       "0   1       1.0  ...    Some additional information that we would need...    1.0\n",
       "1   2       1.0  ...    After reading the expirement, I realized that ...    1.0\n",
       "2   3       1.0  ...    What you need is more trials, a control set up...    1.0\n",
       "3   4       1.0  ...    The student should list what rock is better an...    0.0\n",
       "4   5       1.0  ...    For the students to be able to make a replicat...    2.0\n",
       "\n",
       "[5 rows x 8 columns]"
      ]
     },
     "execution_count": 22,
     "metadata": {},
     "output_type": "execute_result"
    }
   ],
   "source": [
    "X['score'] = X['score'].round()\n",
    "X.head()"
   ]
  },
  {
   "cell_type": "code",
   "execution_count": 23,
   "metadata": {},
   "outputs": [],
   "source": [
    "X['score'] = X['score'].astype('category')"
   ]
  },
  {
   "cell_type": "code",
   "execution_count": 24,
   "metadata": {},
   "outputs": [
    {
     "data": {
      "text/plain": [
       "<matplotlib.axes._subplots.AxesSubplot at 0x7f6e44ea8e10>"
      ]
     },
     "execution_count": 24,
     "metadata": {},
     "output_type": "execute_result"
    },
    {
     "data": {
      "image/png": "[encoded data removed]",
      "text/plain": [
       "<Figure size 432x288 with 1 Axes>"
      ]
     },
     "metadata": {},
     "output_type": "display_data"
    }
   ],
   "source": [
    "X['score'].value_counts().plot.bar()"
   ]
  },
  {
   "cell_type": "markdown",
   "metadata": {},
   "source": [
    "We can see that the distribution is skwed"
   ]
  },
  {
   "cell_type": "markdown",
   "metadata": {},
   "source": [
    "Since there are two different kinds of score scale present one with max marks 3 and other with max marks 2 we will first have to normalize those.\n",
    "\n",
    "Also we will revert the normalization when predicting the scores"
   ]
  },
  {
   "cell_type": "markdown",
   "metadata": {},
   "source": [
    "Now let's proceed ahead with text processing"
   ]
  },
  {
   "cell_type": "code",
   "execution_count": 25,
   "metadata": {},
   "outputs": [],
   "source": [
    "df = pd.concat([X,X_test],sort=True)"
   ]
  },
  {
   "cell_type": "code",
   "execution_count": 26,
   "metadata": {},
   "outputs": [
    {
     "data": {
      "text/plain": [
       "(22267, 8)"
      ]
     },
     "execution_count": 26,
     "metadata": {},
     "output_type": "execute_result"
    }
   ],
   "source": [
    "df.shape"
   ]
  },
  {
   "cell_type": "markdown",
   "metadata": {},
   "source": [
    "Building vocabulary"
   ]
  },
  {
   "cell_type": "code",
   "execution_count": 27,
   "metadata": {},
   "outputs": [],
   "source": [
    "from collections import defaultdict\n",
    "# def build_vocab(df):\n",
    "#         dic = defaultdict(int)\n",
    "#         sentences = df['EssayText'].values\n",
    "#         for sentence in sentences:\n",
    "#             for word in sentence.split():\n",
    "#                 dic[word] +=1\n",
    "#         return dic\n",
    "\n",
    "def build_vocab(sentences):\n",
    "        dic = defaultdict(int)\n",
    "        for sentence in sentences:\n",
    "            for word in sentence:\n",
    "                dic[word] +=1\n",
    "        return dic\n"
   ]
  },
  {
   "cell_type": "code",
   "execution_count": 28,
   "metadata": {},
   "outputs": [],
   "source": [
    "sentences = df['EssayText'].apply(lambda x: x.split()).values\n",
    "vocab = build_vocab(sentences)"
   ]
  },
  {
   "cell_type": "code",
   "execution_count": 29,
   "metadata": {},
   "outputs": [
    {
     "data": {
      "text/plain": [
       "34995"
      ]
     },
     "execution_count": 29,
     "metadata": {},
     "output_type": "execute_result"
    }
   ],
   "source": [
    "len(vocab)"
   ]
  },
  {
   "cell_type": "markdown",
   "metadata": {},
   "source": [
    "Loading Embedding"
   ]
  },
  {
   "cell_type": "code",
   "execution_count": 30,
   "metadata": {},
   "outputs": [],
   "source": [
    "def load_embed(file):\n",
    "    def get_coefs(word,*arr): \n",
    "        return word, np.asarray(arr, dtype='float32')\n",
    "    \n",
    "    embeddings_index = dict(get_coefs(*o.split(\" \")) for o in open(file, encoding='latin'))\n",
    "        \n",
    "    return embeddings_index"
   ]
  },
  {
   "cell_type": "code",
   "execution_count": 31,
   "metadata": {},
   "outputs": [],
   "source": [
    "embedding = load_embed('../input/glove-840b-300d/glove.840B.300d.txt')"
   ]
  },
  {
   "cell_type": "markdown",
   "metadata": {},
   "source": [
    "Let's check how many words in our  vocab is present in the embedding"
   ]
  },
  {
   "cell_type": "code",
   "execution_count": 32,
   "metadata": {},
   "outputs": [],
   "source": [
    "def embed_intersection(vocab,embedding):\n",
    "    temp = {}\n",
    "    oov = {}\n",
    "    i = 0\n",
    "    j = 0\n",
    "    \n",
    "    for word in vocab.keys():\n",
    "        try:\n",
    "            temp[word] = embedding[word]\n",
    "            i+=vocab[word]\n",
    "        except:\n",
    "            oov[word] = vocab[word]\n",
    "            j+=vocab[word]\n",
    "            pass\n",
    "    \n",
    "    print(f\"Found embeddings for {(len(temp)/len(vocab)*100):.3f}% of vocab\")\n",
    "    print(f\"Found embeddings for {(i/(i+j))*100:.3f}% of all text\")\n",
    "    \n",
    "    sorted_x = sorted(oov.items(),key = lambda x: x[1])[::-1]\n",
    "    return sorted_x"
   ]
  },
  {
   "cell_type": "code",
   "execution_count": 33,
   "metadata": {},
   "outputs": [
    {
     "name": "stdout",
     "output_type": "stream",
     "text": [
      "Found embeddings for 45.321% of vocab\n",
      "Found embeddings for 92.459% of all text\n"
     ]
    }
   ],
   "source": [
    "oov = embed_intersection(vocab,embedding)"
   ]
  },
  {
   "cell_type": "code",
   "execution_count": 34,
   "metadata": {},
   "outputs": [
    {
     "data": {
      "text/plain": [
       "[('::', 2186),\n",
       " ('^p', 885),\n",
       " ('\"invasive\"', 575),\n",
       " ('experiment,', 522),\n",
       " ('membrane.', 429),\n",
       " ('Also,', 412),\n",
       " (\"Australia's\", 352),\n",
       " (\"Leonard's\", 335),\n",
       " ('Leonard.', 322),\n",
       " (\"China's\", 320)]"
      ]
     },
     "execution_count": 34,
     "metadata": {},
     "output_type": "execute_result"
    }
   ],
   "source": [
    "oov[:10]"
   ]
  },
  {
   "cell_type": "markdown",
   "metadata": {},
   "source": [
    "We can see the top OOV words are either special chars or words with special chars also presence of capital letter in word is making them OOV from embedding, we will be dealing with all of the cases"
   ]
  },
  {
   "cell_type": "code",
   "execution_count": 35,
   "metadata": {},
   "outputs": [],
   "source": [
    "df['lower'] = df['EssayText'].apply(lambda x: x.lower())"
   ]
  },
  {
   "cell_type": "markdown",
   "metadata": {},
   "source": [
    "But lowercasing all the words may cause some information loss, as there are some words whose embedding is present only in capital letters"
   ]
  },
  {
   "cell_type": "markdown",
   "metadata": {},
   "source": [
    "We can fix this:\n",
    "\n",
    "* word.lower() takes the embedding of word if word.lower() doesn't have an embedding\n"
   ]
  },
  {
   "cell_type": "code",
   "execution_count": 36,
   "metadata": {},
   "outputs": [],
   "source": [
    "def fix_case(embedding,vocab):\n",
    "    count = 0\n",
    "    for word in vocab:\n",
    "        if word in embedding and word.lower() not in embedding:\n",
    "            embedding[word.lower()] = embedding[word]\n",
    "            count +=1\n",
    "    print(f'{count} no of words inserted into embedding')"
   ]
  },
  {
   "cell_type": "code",
   "execution_count": 37,
   "metadata": {},
   "outputs": [
    {
     "name": "stdout",
     "output_type": "stream",
     "text": [
      "Found embeddings for 45.321% of vocab\n",
      "Found embeddings for 92.459% of all text\n",
      "252 no of words inserted into embedding\n",
      "Found embeddings for 45.395% of vocab\n",
      "Found embeddings for 92.466% of all text\n"
     ]
    }
   ],
   "source": [
    "oov = embed_intersection(vocab,embedding)\n",
    "fix_case(embedding,vocab)\n",
    "oov = embed_intersection(vocab,embedding)"
   ]
  },
  {
   "cell_type": "code",
   "execution_count": 38,
   "metadata": {},
   "outputs": [
    {
     "data": {
      "text/plain": [
       "[('::', 2186),\n",
       " ('^p', 885),\n",
       " ('\"invasive\"', 575),\n",
       " ('experiment,', 522),\n",
       " ('membrane.', 429),\n",
       " ('Also,', 412),\n",
       " (\"Australia's\", 352),\n",
       " (\"Leonard's\", 335),\n",
       " ('Leonard.', 322),\n",
       " (\"China's\", 320)]"
      ]
     },
     "execution_count": 38,
     "metadata": {},
     "output_type": "execute_result"
    }
   ],
   "source": [
    "oov[:10]"
   ]
  },
  {
   "cell_type": "markdown",
   "metadata": {},
   "source": [
    "We can see that the punctuations and contractions are causing the mismatch between our vocab and embeddings"
   ]
  },
  {
   "cell_type": "code",
   "execution_count": 39,
   "metadata": {},
   "outputs": [],
   "source": [
    "contraction_mapping = {\"ain't\": \"is not\", \"aren't\": \"are not\",\"can't\": \"cannot\", \n",
    "                       \"'cause\": \"because\", \"could've\": \"could have\", \"couldn't\": \"could not\", \n",
    "                       \"didn't\": \"did not\",  \"doesn't\": \"does not\", \"don't\": \"do not\",\n",
    "                       \"hadn't\": \"had not\", \"hasn't\": \"has not\", \"haven't\": \"have not\", \n",
    "                       \"he'd\": \"he would\",\"he'll\": \"he will\", \"he's\": \"he is\", \"how'd\": \"how did\", \n",
    "                       \"how'd'y\": \"how do you\", \"how'll\": \"how will\", \"how's\": \"how is\",  \n",
    "                       \"I'd\": \"I would\", \"I'd've\": \"I would have\", \"I'll\": \"I will\", \n",
    "                       \"I'll've\": \"I will have\",\"I'm\": \"I am\", \"I've\": \"I have\", \n",
    "                       \"i'd\": \"i would\", \"i'd've\": \"i would have\", \"i'll\": \"i will\",  \n",
    "                       \"i'll've\": \"i will have\",\"i'm\": \"i am\", \"i've\": \"i have\", \n",
    "                       \"isn't\": \"is not\", \"it'd\": \"it would\", \"it'd've\": \"it would have\", \n",
    "                       \"it'll\": \"it will\", \"it'll've\": \"it will have\",\"it's\": \"it is\", \n",
    "                       \"let's\": \"let us\", \"ma'am\": \"madam\", \"mayn't\": \"may not\", \n",
    "                       \"might've\": \"might have\",\"mightn't\": \"might not\",\"mightn't've\": \"might not have\", \n",
    "                       \"must've\": \"must have\", \"mustn't\": \"must not\", \"mustn't've\": \"must not have\", \n",
    "                       \"needn't\": \"need not\", \"needn't've\": \"need not have\",\"o'clock\": \"of the clock\", \n",
    "                       \"oughtn't\": \"ought not\", \"oughtn't've\": \"ought not have\", \"shan't\": \"shall not\", \n",
    "                       \"sha'n't\": \"shall not\", \"shan't've\": \"shall not have\", \"she'd\": \"she would\", \n",
    "                       \"she'd've\": \"she would have\", \"she'll\": \"she will\", \"she'll've\": \"she will have\",\n",
    "                       \"she's\": \"she is\", \"should've\": \"should have\", \"shouldn't\": \"should not\", \n",
    "                       \"shouldn't've\": \"should not have\", \"so've\": \"so have\",\"so's\": \"so as\", \n",
    "                       \"this's\": \"this is\",\"that'd\": \"that would\", \"that'd've\": \"that would have\", \n",
    "                       \"that's\": \"that is\", \"there'd\": \"there would\", \"there'd've\": \"there would have\", \n",
    "                       \"there's\": \"there is\", \"here's\": \"here is\",\"they'd\": \"they would\", \n",
    "                       \"they'd've\": \"they would have\", \"they'll\": \"they will\", \n",
    "                       \"they'll've\": \"they will have\", \"they're\": \"they are\", \"they've\": \n",
    "                       \"they have\", \"to've\": \"to have\", \"wasn't\": \"was not\", \"we'd\": \"we would\", \n",
    "                       \"we'd've\": \"we would have\", \"we'll\": \"we will\", \"we'll've\": \"we will have\",\n",
    "                       \"we're\": \"we are\", \"we've\": \"we have\", \"weren't\": \"were not\", \"what'll\": \"what will\", \n",
    "                       \"what'll've\": \"what will have\", \"what're\": \"what are\",  \"what's\": \"what is\", \n",
    "                       \"what've\": \"what have\", \"when's\": \"when is\", \"when've\": \"when have\", \n",
    "                       \"where'd\": \"where did\", \"where's\": \"where is\", \"where've\": \"where have\", \n",
    "                       \"who'll\": \"who will\", \"who'll've\": \"who will have\", \"who's\": \"who is\",\n",
    "                       \"who've\": \"who have\", \"why's\": \"why is\", \"why've\": \"why have\", \n",
    "                       \"will've\": \"will have\", \"won't\": \"will not\", \"won't've\": \"will not have\",\n",
    "                       \"would've\": \"would have\", \"wouldn't\": \"would not\", \"wouldn't've\": \"would not have\", \n",
    "                       \"y'all\": \"you all\", \"y'all'd\": \"you all would\",\"y'all'd've\": \"you all would have\",\n",
    "                       \"y'all're\": \"you all are\",\"y'all've\": \"you all have\",\"you'd\": \"you would\", \n",
    "                       \"you'd've\": \"you would have\", \"you'll\": \"you will\", \n",
    "                       \"you'll've\": \"you will have\", \"you're\": \"you are\", \"you've\": \"you have\" }"
   ]
  },
  {
   "cell_type": "code",
   "execution_count": 40,
   "metadata": {},
   "outputs": [],
   "source": [
    "def cont_map(embedding):\n",
    "    known = []\n",
    "    for cont in contraction_mapping:\n",
    "        if cont in embedding:\n",
    "            known.append(cont)\n",
    "    return known"
   ]
  },
  {
   "cell_type": "code",
   "execution_count": 41,
   "metadata": {},
   "outputs": [
    {
     "data": {
      "text/plain": [
       "[\"can't\",\n",
       " \"'cause\",\n",
       " \"didn't\",\n",
       " \"doesn't\",\n",
       " \"don't\",\n",
       " \"I'd\",\n",
       " \"I'll\",\n",
       " \"I'm\",\n",
       " \"I've\",\n",
       " \"i'd\",\n",
       " \"i'll\",\n",
       " \"i'm\",\n",
       " \"i've\",\n",
       " \"it's\",\n",
       " \"ma'am\",\n",
       " \"o'clock\",\n",
       " \"that's\",\n",
       " \"you'll\",\n",
       " \"you're\"]"
      ]
     },
     "execution_count": 41,
     "metadata": {},
     "output_type": "execute_result"
    }
   ],
   "source": [
    "cont_map(embedding)"
   ]
  },
  {
   "cell_type": "markdown",
   "metadata": {},
   "source": [
    "Not all contractions are present  in the embeddings, we will now be replacing them"
   ]
  },
  {
   "cell_type": "code",
   "execution_count": 42,
   "metadata": {},
   "outputs": [],
   "source": [
    "def fix_cont(sentence,mapping):\n",
    "    sentence = str(sentence)\n",
    "    specials = [\"’\", \"‘\", \"´\", \"`\"]\n",
    "    for each in specials:\n",
    "        sentence = sentence.replace(each,\"'\")\n",
    "    sentence = \" \".join([mapping[word] if word in mapping else word for word in sentence.split(\" \")])\n",
    "    return sentence"
   ]
  },
  {
   "cell_type": "code",
   "execution_count": 43,
   "metadata": {},
   "outputs": [],
   "source": [
    "df['fixed'] = df['lower'].apply(lambda x: fix_cont(x,contraction_mapping))"
   ]
  },
  {
   "cell_type": "code",
   "execution_count": 44,
   "metadata": {},
   "outputs": [
    {
     "name": "stdout",
     "output_type": "stream",
     "text": [
      "Found embeddings for 43.798% of vocab\n",
      "Found embeddings for 92.774% of all text\n"
     ]
    }
   ],
   "source": [
    "sentences = df['fixed'].apply(lambda x: x.split()).values\n",
    "vocab = build_vocab(sentences)\n",
    "oov = embed_intersection(vocab,embedding)"
   ]
  },
  {
   "cell_type": "code",
   "execution_count": 45,
   "metadata": {},
   "outputs": [
    {
     "data": {
      "text/plain": [
       "[('::', 2186),\n",
       " ('^p', 1017),\n",
       " ('\"invasive\"', 640),\n",
       " ('experiment,', 522),\n",
       " ('also,', 439),\n",
       " ('membrane.', 431),\n",
       " ('a)', 412),\n",
       " ('b)', 394),\n",
       " ('mr.leonard', 361),\n",
       " (\"australia's\", 354)]"
      ]
     },
     "execution_count": 45,
     "metadata": {},
     "output_type": "execute_result"
    }
   ],
   "source": [
    "oov[:10]"
   ]
  },
  {
   "cell_type": "code",
   "execution_count": 46,
   "metadata": {},
   "outputs": [
    {
     "name": "stdout",
     "output_type": "stream",
     "text": [
      "Unknown Puctuations\n",
      "['“', '”', '’', '∞', 'θ', '÷', 'α', '•', 'à', '−', 'β', '∅', '³', 'π', '‘', '₹', '´', '°', '£', '€', '×', '™', '√', '²', '—', '–']\n"
     ]
    }
   ],
   "source": [
    "punct = \"/-'?!.,#$%\\'()*+-/:;<=>@[\\\\]^_`{|}~\" + '\"\"“”’' + '∞θ÷α•à−β∅³π‘₹´°£€\\×™√²—–&'\n",
    "\n",
    "def unknown_punct(embed, punct):\n",
    "    unknown = []\n",
    "    for p in punct:\n",
    "        if p not in embed:\n",
    "            unknown.append(p)\n",
    "    return unknown\n",
    "\n",
    "print('Unknown Puctuations')\n",
    "print(unknown_punct(embedding,punct))"
   ]
  },
  {
   "cell_type": "code",
   "execution_count": 47,
   "metadata": {},
   "outputs": [],
   "source": [
    "punct_mapping = {\"‘\": \"'\", \"₹\": \"e\", \"´\": \"'\", \"°\": \"\", \"€\": \"e\", \"™\": \"tm\", \"√\": \" sqrt \",\n",
    "                 \"×\": \"x\", \"²\": \"2\", \"—\": \"-\", \"–\": \"-\", \"’\": \"'\", \"_\": \"-\", \"`\": \"'\", \n",
    "                 '“': '\"', '”': '\"', '“': '\"', \"£\": \"e\", '∞': 'infinity', \n",
    "                 'θ': 'theta', '÷': '/', 'α': 'alpha', '•': '.', 'à': 'a', '−': '-', \n",
    "                 'β': 'beta', '∅': '', '³': '3', 'π': 'pi', }\n",
    "\n",
    "def fix_punt(sentence,punct,mapping):\n",
    "    for p in mapping:\n",
    "        sentence = sentence.replace(p, mapping[p])\n",
    "    \n",
    "    for p in punct:\n",
    "        sentence = sentence.replace(p, f' {p} ')\n",
    "        \n",
    "    return sentence"
   ]
  },
  {
   "cell_type": "code",
   "execution_count": 48,
   "metadata": {},
   "outputs": [
    {
     "name": "stdout",
     "output_type": "stream",
     "text": [
      "Found embeddings for 69.915% of vocab\n",
      "Found embeddings for 99.312% of all text\n"
     ]
    }
   ],
   "source": [
    "df['fixed'] = df['fixed'].apply(lambda x: fix_punt(x,punct,punct_mapping))\n",
    "\n",
    "sentences = df['fixed'].apply(lambda x: x.split()).values\n",
    "vocab = build_vocab(sentences)\n",
    "oov = embed_intersection(vocab,embedding)"
   ]
  },
  {
   "cell_type": "markdown",
   "metadata": {},
   "source": [
    "Wo!!! we have found the embeddings for 99.3% of all the words in our vocab,\n",
    "\n",
    "let's check some top OOV words"
   ]
  },
  {
   "cell_type": "code",
   "execution_count": 49,
   "metadata": {},
   "outputs": [
    {
     "data": {
      "text/plain": [
       "[('microdebris', 66),\n",
       " ('grna', 52),\n",
       " ('telephase', 35),\n",
       " ('nucleus2', 29),\n",
       " ('nuclues', 25),\n",
       " ('permiable', 20),\n",
       " ('doghou', 19),\n",
       " ('dogho', 18),\n",
       " ('mitocondria', 18),\n",
       " ('meosis', 17),\n",
       " ('nucleas', 17),\n",
       " ('doghous', 15),\n",
       " ('leaonard', 15),\n",
       " ('trna2', 15),\n",
       " ('ghouse', 14),\n",
       " ('nucles', 14),\n",
       " ('inasive', 14),\n",
       " ('strechability', 14),\n",
       " ('nucleaus', 13),\n",
       " ('phythons', 13),\n",
       " ('fluncked', 12),\n",
       " ('robray', 12),\n",
       " ('phython', 12),\n",
       " ('expirament', 12),\n",
       " ('dogh', 11),\n",
       " ('loenard', 11),\n",
       " ('memebrane', 11),\n",
       " ('trna3', 11),\n",
       " ('mperature', 10),\n",
       " ('satelittes', 10),\n",
       " ('treh', 10),\n",
       " ('ribsomes', 10),\n",
       " ('organells', 10),\n",
       " ('telaphase', 10),\n",
       " ('mebrane', 10),\n",
       " ('satillites', 9),\n",
       " ('orginizes', 9),\n",
       " ('obsorbs', 9),\n",
       " ('membrane2', 9),\n",
       " ('diffussion', 9),\n",
       " ('membrane3', 9),\n",
       " ('ooler', 8),\n",
       " ('oghouse', 8),\n",
       " ('permiability', 8),\n",
       " ('cillia', 8),\n",
       " ('mrna3', 8),\n",
       " ('ribosome2', 8),\n",
       " ('resperation', 8),\n",
       " ('dna3', 8),\n",
       " ('nuclus', 8)]"
      ]
     },
     "execution_count": 49,
     "metadata": {},
     "output_type": "execute_result"
    }
   ],
   "source": [
    "oov[:50]"
   ]
  },
  {
   "cell_type": "markdown",
   "metadata": {},
   "source": [
    "What's still missing ?\n",
    "\n",
    "* Unknown words\n",
    "* Acronyms\n",
    "* Spelling mistake\n",
    "Now we will fix some of the common mispellings and acronyms to further improve our intersection of vocab with embeddings"
   ]
  },
  {
   "cell_type": "code",
   "execution_count": 50,
   "metadata": {},
   "outputs": [],
   "source": [
    "mispell_dict = {\"grna\": \"RNA\", \"telephase\":\"telophase\",\"nucleus2\":\"nucleus\",\n",
    "               \"nuclues\":\"nucleus\",\"permiable\":\"permeable\",\"mitocondria\":\"mitochondria\",\n",
    "                \"meosis\": \"meiosis\",\"nucleas\":\"nucleus\",\"trna2\":\"RNA\",\"nucles\":\"nucleus\",\n",
    "                \"inasive\":\"invasive\",\"strechability\":\"stretchability\",\"nucleaus\":\"nucleus\",\n",
    "                \"phythons\":'pythons',\"phython\":\"python\",\"fluncked\":\"flunked\",\n",
    "                \"expirament\":\"experiment\",\"memebrane\":\"membrane\",\"trna3\":\"RNA\",\n",
    "                \"mperature\":\"temprature\",\"satelittes\":\"satellites\",\"orginizes\":\"organizes\",\n",
    "                \"obsorbs\":\"absorbs\",\"membrane2\":\"membrane\",\"membrane3\":\"membrane\",\n",
    "                \"diffussion\":\"diffusion\",\"permiability\":\"permeability\",\"cillia\":\"cilia\",\n",
    "                \"mrna3\":\"RNA\",\"ribosome2\":\"ribosome\",\"resperation\":\"respiration\",\n",
    "                \"dna3\":\"DNA\",\"nuclus\":\"nucleus\",\"trna2\":\"RNA\",\"nucles\":\"nucleus\",\n",
    "                \"meosis\":\"meiosis\",\"nucleas\":\"nucleus\"\n",
    "               }"
   ]
  },
  {
   "cell_type": "code",
   "execution_count": 51,
   "metadata": {},
   "outputs": [],
   "source": [
    "def fix_spelling(sentence,mapping):\n",
    "    for word in mapping.keys():\n",
    "        sentence = sentence.replace(word,mapping[word])\n",
    "    return sentence"
   ]
  },
  {
   "cell_type": "code",
   "execution_count": 52,
   "metadata": {},
   "outputs": [
    {
     "name": "stdout",
     "output_type": "stream",
     "text": [
      "Found embeddings for 70.061% of vocab\n",
      "Found embeddings for 99.249% of all text\n"
     ]
    }
   ],
   "source": [
    "df['fixed'] = df['fixed'].apply(lambda x: fix_spelling(x,mispell_dict))\n",
    "\n",
    "sentences = df['fixed'].apply(lambda x: x.split()).values\n",
    "vocab = build_vocab(sentences)\n",
    "oov = embed_intersection(vocab,embedding)"
   ]
  },
  {
   "cell_type": "markdown",
   "metadata": {},
   "source": [
    "It's time to build the model\n",
    "\n",
    "Applying all the changes to test and train set"
   ]
  },
  {
   "cell_type": "code",
   "execution_count": 53,
   "metadata": {},
   "outputs": [
    {
     "data": {
      "text/html": [
       "<div>\n",
       "<style scoped>\n",
       "    .dataframe tbody tr th:only-of-type {\n",
       "        vertical-align: middle;\n",
       "    }\n",
       "\n",
       "    .dataframe tbody tr th {\n",
       "        vertical-align: top;\n",
       "    }\n",
       "\n",
       "    .dataframe thead th {\n",
       "        text-align: right;\n",
       "    }\n",
       "</style>\n",
       "<table border=\"1\" class=\"dataframe\">\n",
       "  <thead>\n",
       "    <tr style=\"text-align: right;\">\n",
       "      <th></th>\n",
       "      <th>ID</th>\n",
       "      <th>Essayset</th>\n",
       "      <th>min_score</th>\n",
       "      <th>max_score</th>\n",
       "      <th>clarity</th>\n",
       "      <th>coherent</th>\n",
       "      <th>EssayText</th>\n",
       "      <th>score</th>\n",
       "    </tr>\n",
       "  </thead>\n",
       "  <tbody>\n",
       "    <tr>\n",
       "      <th>0</th>\n",
       "      <td>1</td>\n",
       "      <td>1.0</td>\n",
       "      <td>0</td>\n",
       "      <td>3</td>\n",
       "      <td>average</td>\n",
       "      <td>worst</td>\n",
       "      <td>Some additional information that we would need...</td>\n",
       "      <td>1.0</td>\n",
       "    </tr>\n",
       "    <tr>\n",
       "      <th>1</th>\n",
       "      <td>2</td>\n",
       "      <td>1.0</td>\n",
       "      <td>0</td>\n",
       "      <td>3</td>\n",
       "      <td>excellent</td>\n",
       "      <td>worst</td>\n",
       "      <td>After reading the expirement, I realized that ...</td>\n",
       "      <td>1.0</td>\n",
       "    </tr>\n",
       "    <tr>\n",
       "      <th>2</th>\n",
       "      <td>3</td>\n",
       "      <td>1.0</td>\n",
       "      <td>0</td>\n",
       "      <td>3</td>\n",
       "      <td>worst</td>\n",
       "      <td>above_average</td>\n",
       "      <td>What you need is more trials, a control set up...</td>\n",
       "      <td>1.0</td>\n",
       "    </tr>\n",
       "    <tr>\n",
       "      <th>3</th>\n",
       "      <td>4</td>\n",
       "      <td>1.0</td>\n",
       "      <td>0</td>\n",
       "      <td>3</td>\n",
       "      <td>worst</td>\n",
       "      <td>worst</td>\n",
       "      <td>The student should list what rock is better an...</td>\n",
       "      <td>0.0</td>\n",
       "    </tr>\n",
       "    <tr>\n",
       "      <th>4</th>\n",
       "      <td>5</td>\n",
       "      <td>1.0</td>\n",
       "      <td>0</td>\n",
       "      <td>3</td>\n",
       "      <td>above_average</td>\n",
       "      <td>worst</td>\n",
       "      <td>For the students to be able to make a replicat...</td>\n",
       "      <td>2.0</td>\n",
       "    </tr>\n",
       "  </tbody>\n",
       "</table>\n",
       "</div>"
      ],
      "text/plain": [
       "   ID  Essayset  ...                                            EssayText  score\n",
       "0   1       1.0  ...    Some additional information that we would need...    1.0\n",
       "1   2       1.0  ...    After reading the expirement, I realized that ...    1.0\n",
       "2   3       1.0  ...    What you need is more trials, a control set up...    1.0\n",
       "3   4       1.0  ...    The student should list what rock is better an...    0.0\n",
       "4   5       1.0  ...    For the students to be able to make a replicat...    2.0\n",
       "\n",
       "[5 rows x 8 columns]"
      ]
     },
     "execution_count": 53,
     "metadata": {},
     "output_type": "execute_result"
    }
   ],
   "source": [
    "X.head()"
   ]
  },
  {
   "cell_type": "code",
   "execution_count": 54,
   "metadata": {},
   "outputs": [],
   "source": [
    "X['fixed'] = X['EssayText'].apply(lambda x: x.lower())\n",
    "X['fixed'] = X['fixed'].apply(lambda x: fix_cont(x,contraction_mapping))\n",
    "X['fixed'] = X['fixed'].apply(lambda x: fix_punt(x,punct,punct_mapping))\n",
    "\n",
    "X_copy = X.copy()\n",
    "\n",
    "X['fixed'] = X['fixed'].apply(lambda x: fix_spelling(x,mispell_dict))\n",
    "\n",
    "\n",
    "X_test['fixed'] = X_test['EssayText'].apply(lambda x: x.lower())\n",
    "X_test['fixed'] = X_test['fixed'].apply(lambda x: fix_cont(x,contraction_mapping))\n",
    "X_test['fixed'] = X_test['fixed'].apply(lambda x: fix_punt(x,punct,punct_mapping))\n",
    "X_test['fixed'] = X_test['fixed'].apply(lambda x: fix_spelling(x,mispell_dict))"
   ]
  },
  {
   "cell_type": "code",
   "execution_count": 55,
   "metadata": {},
   "outputs": [],
   "source": [
    "del df"
   ]
  },
  {
   "cell_type": "code",
   "execution_count": 56,
   "metadata": {},
   "outputs": [],
   "source": [
    "vocab_size = len(vocab) + 1\n",
    "max_len = 50"
   ]
  },
  {
   "cell_type": "code",
   "execution_count": 57,
   "metadata": {},
   "outputs": [
    {
     "name": "stderr",
     "output_type": "stream",
     "text": [
      "Using TensorFlow backend.\n"
     ]
    }
   ],
   "source": [
    "from keras.preprocessing.text import Tokenizer\n",
    "from keras.preprocessing.sequence import pad_sequences"
   ]
  },
  {
   "cell_type": "code",
   "execution_count": 58,
   "metadata": {},
   "outputs": [],
   "source": [
    "def process_text(data):\n",
    "    t = Tokenizer(filters='')\n",
    "    t.fit_on_texts(data)\n",
    "    data = t.texts_to_sequences(data)\n",
    "    data = pad_sequences(data,maxlen=max_len)\n",
    "    return data,t.word_index,t"
   ]
  },
  {
   "cell_type": "code",
   "execution_count": 59,
   "metadata": {},
   "outputs": [],
   "source": [
    "X_processed,word_index,tokenizer = process_text(X['fixed'])"
   ]
  },
  {
   "cell_type": "code",
   "execution_count": 60,
   "metadata": {},
   "outputs": [
    {
     "data": {
      "text/plain": [
       "(17043, 50)"
      ]
     },
     "execution_count": 60,
     "metadata": {},
     "output_type": "execute_result"
    }
   ],
   "source": [
    "X_processed.shape"
   ]
  },
  {
   "cell_type": "code",
   "execution_count": 61,
   "metadata": {},
   "outputs": [
    {
     "data": {
      "text/plain": [
       "array([153,   1,  59,   6,  20,  75, 105,  89,  18, 798,   7,  79, 862,\n",
       "       215,   4,  20,  68,  26, 841,   3, 124,   3, 508,   1, 159,   9,\n",
       "         1, 205,  63, 118,   5,  20,  75, 623, 231,   3, 124,   3, 603,\n",
       "         1, 205, 118, 122, 573, 123,  58,   9,   1, 105,   2], dtype=int32)"
      ]
     },
     "execution_count": 61,
     "metadata": {},
     "output_type": "execute_result"
    }
   ],
   "source": [
    "X_processed[0]"
   ]
  },
  {
   "cell_type": "code",
   "execution_count": 62,
   "metadata": {},
   "outputs": [],
   "source": [
    "from sklearn.model_selection import train_test_split"
   ]
  },
  {
   "cell_type": "code",
   "execution_count": 63,
   "metadata": {},
   "outputs": [],
   "source": [
    "from keras.utils import to_categorical\n",
    "y = X['score']\n",
    "y = to_categorical(y)"
   ]
  },
  {
   "cell_type": "code",
   "execution_count": 64,
   "metadata": {},
   "outputs": [],
   "source": [
    "X_train,X_val,y_train,y_val = train_test_split(X_processed,y,test_size=0.25,random_state=42)"
   ]
  },
  {
   "cell_type": "markdown",
   "metadata": {},
   "source": [
    "Let's build our embedding matrix now"
   ]
  },
  {
   "cell_type": "code",
   "execution_count": 65,
   "metadata": {},
   "outputs": [],
   "source": [
    "def make_embed_matrix(embedding,word_index,vocab_size):\n",
    "    embds = np.stack(embedding.values())\n",
    "    embd_mean,embd_std = embds.mean(),embds.std()\n",
    "    embed_size = embds.shape[1]\n",
    "    word_index = word_index\n",
    "    embedding_matrix = np.random.normal(embd_mean,embd_std,(vocab_size,embed_size))\n",
    "    \n",
    "    for word,i in word_index.items():\n",
    "        if i>=vocab_size:\n",
    "            continue\n",
    "        embedding_vec = embedding.get(word)\n",
    "        if embedding_vec is not None:\n",
    "            embedding_matrix[i] = embedding_vec\n",
    "    return embedding_matrix\n",
    "            "
   ]
  },
  {
   "cell_type": "code",
   "execution_count": 66,
   "metadata": {},
   "outputs": [
    {
     "name": "stderr",
     "output_type": "stream",
     "text": [
      "/opt/conda/lib/python3.6/site-packages/ipykernel_launcher.py:2: FutureWarning: arrays to stack must be passed as a \"sequence\" type such as list or tuple. Support for non-sequence iterables such as generators is deprecated as of NumPy 1.16 and will raise an error in the future.\n",
      "  \n"
     ]
    },
    {
     "data": {
      "text/plain": [
       "10"
      ]
     },
     "execution_count": 66,
     "metadata": {},
     "output_type": "execute_result"
    }
   ],
   "source": [
    "import gc\n",
    "embed_matrix = make_embed_matrix(embedding,word_index,vocab_size)\n",
    "del word_index\n",
    "gc.collect()"
   ]
  },
  {
   "cell_type": "code",
   "execution_count": 67,
   "metadata": {},
   "outputs": [
    {
     "data": {
      "text/plain": [
       "(18779, 300)"
      ]
     },
     "execution_count": 67,
     "metadata": {},
     "output_type": "execute_result"
    }
   ],
   "source": [
    "embed_matrix.shape"
   ]
  },
  {
   "cell_type": "code",
   "execution_count": 68,
   "metadata": {},
   "outputs": [],
   "source": [
    "from keras import backend as K\n",
    "\n",
    "def f1(y_true, y_pred):\n",
    "    def recall(y_true, y_pred):\n",
    "        true_positives = K.sum(K.round(K.clip(y_true * y_pred, 0, 1)))\n",
    "        possible_positives = K.sum(K.round(K.clip(y_true, 0, 1)))\n",
    "        recall = true_positives / (possible_positives + K.epsilon())\n",
    "        return recall\n",
    "\n",
    "    def precision(y_true, y_pred):\n",
    "        true_positives = K.sum(K.round(K.clip(y_true * y_pred, 0, 1)))\n",
    "        predicted_positives = K.sum(K.round(K.clip(y_pred, 0, 1)))\n",
    "        precision = true_positives / (predicted_positives + K.epsilon())\n",
    "        return precision\n",
    "    \n",
    "    precision = precision(y_true, y_pred)\n",
    "    recall = recall(y_true, y_pred)\n",
    "    return 2*((precision*recall)/(precision+recall+K.epsilon()))"
   ]
  },
  {
   "cell_type": "code",
   "execution_count": 69,
   "metadata": {},
   "outputs": [],
   "source": [
    "from keras.layers import Dense, Embedding, CuDNNGRU, Bidirectional, GlobalAveragePooling1D\n",
    "from keras.layers import GlobalMaxPooling1D,concatenate,Input, Dropout\n",
    "from keras.optimizers import Adam\n",
    "from keras.models import Model"
   ]
  },
  {
   "cell_type": "code",
   "execution_count": 70,
   "metadata": {},
   "outputs": [],
   "source": [
    "def make_model(embed_matrix,embed_size=300,loss='categorical_crossentropy'):\n",
    "    inp = Input(shape=(max_len,))\n",
    "    x = Embedding(input_dim=vocab_size,output_dim=embed_size,weights=[embed_matrix],trainable=False)(inp)\n",
    "    x = Bidirectional(CuDNNGRU(128,return_sequences=True))(x)\n",
    "    avg_pl = GlobalAveragePooling1D()(x)\n",
    "    max_pl = GlobalMaxPooling1D()(x)\n",
    "    concat = concatenate([avg_pl,max_pl])\n",
    "    dense = Dense(128,activation='relu')(concat)\n",
    "    dense = Dropout(rate = 0.7)(dense)\n",
    "    output = Dense(4,activation='sigmoid')(dense)\n",
    "    \n",
    "    model = Model(input=inp,output=output)\n",
    "    model.compile(loss=loss,optimizer=Adam(lr=0.0001),metrics=['accuracy', f1])\n",
    "    return model"
   ]
  },
  {
   "cell_type": "code",
   "execution_count": 71,
   "metadata": {},
   "outputs": [
    {
     "name": "stdout",
     "output_type": "stream",
     "text": [
      "WARNING:tensorflow:From /opt/conda/lib/python3.6/site-packages/tensorflow/python/framework/op_def_library.py:263: colocate_with (from tensorflow.python.framework.ops) is deprecated and will be removed in a future version.\n",
      "Instructions for updating:\n",
      "Colocations handled automatically by placer.\n",
      "WARNING:tensorflow:From /opt/conda/lib/python3.6/site-packages/keras/backend/tensorflow_backend.py:3445: calling dropout (from tensorflow.python.ops.nn_ops) with keep_prob is deprecated and will be removed in a future version.\n",
      "Instructions for updating:\n",
      "Please use `rate` instead of `keep_prob`. Rate should be set to `rate = 1 - keep_prob`.\n"
     ]
    },
    {
     "name": "stderr",
     "output_type": "stream",
     "text": [
      "/opt/conda/lib/python3.6/site-packages/ipykernel_launcher.py:12: UserWarning: Update your `Model` call to the Keras 2 API: `Model(inputs=Tensor(\"in..., outputs=Tensor(\"de...)`\n",
      "  if sys.path[0] == '':\n"
     ]
    }
   ],
   "source": [
    "model = make_model(embed_matrix)"
   ]
  },
  {
   "cell_type": "code",
   "execution_count": 72,
   "metadata": {},
   "outputs": [
    {
     "name": "stdout",
     "output_type": "stream",
     "text": [
      "__________________________________________________________________________________________________\n",
      "Layer (type)                    Output Shape         Param #     Connected to                     \n",
      "==================================================================================================\n",
      "input_1 (InputLayer)            (None, 50)           0                                            \n",
      "__________________________________________________________________________________________________\n",
      "embedding_1 (Embedding)         (None, 50, 300)      5633700     input_1[0][0]                    \n",
      "__________________________________________________________________________________________________\n",
      "bidirectional_1 (Bidirectional) (None, 50, 256)      330240      embedding_1[0][0]                \n",
      "__________________________________________________________________________________________________\n",
      "global_average_pooling1d_1 (Glo (None, 256)          0           bidirectional_1[0][0]            \n",
      "__________________________________________________________________________________________________\n",
      "global_max_pooling1d_1 (GlobalM (None, 256)          0           bidirectional_1[0][0]            \n",
      "__________________________________________________________________________________________________\n",
      "concatenate_1 (Concatenate)     (None, 512)          0           global_average_pooling1d_1[0][0] \n",
      "                                                                 global_max_pooling1d_1[0][0]     \n",
      "__________________________________________________________________________________________________\n",
      "dense_1 (Dense)                 (None, 128)          65664       concatenate_1[0][0]              \n",
      "__________________________________________________________________________________________________\n",
      "dropout_1 (Dropout)             (None, 128)          0           dense_1[0][0]                    \n",
      "__________________________________________________________________________________________________\n",
      "dense_2 (Dense)                 (None, 4)            516         dropout_1[0][0]                  \n",
      "==================================================================================================\n",
      "Total params: 6,030,120\n",
      "Trainable params: 396,420\n",
      "Non-trainable params: 5,633,700\n",
      "__________________________________________________________________________________________________\n"
     ]
    }
   ],
   "source": [
    "model.summary()"
   ]
  },
  {
   "cell_type": "code",
   "execution_count": 73,
   "metadata": {},
   "outputs": [],
   "source": [
    "from keras.callbacks import ModelCheckpoint, ReduceLROnPlateau"
   ]
  },
  {
   "cell_type": "code",
   "execution_count": 74,
   "metadata": {},
   "outputs": [],
   "source": [
    "checkpoints = ModelCheckpoint('model.h5',monitor='val_f1',mode='max',save_best_only='True',verbose=True)\n",
    "reduce_lr = ReduceLROnPlateau(monitor='val_f1', factor=0.1, patience=2, verbose=1, min_lr=0.000001)"
   ]
  },
  {
   "cell_type": "code",
   "execution_count": 75,
   "metadata": {},
   "outputs": [],
   "source": [
    "epochs = 100\n",
    "batch_size = 64"
   ]
  },
  {
   "cell_type": "code",
   "execution_count": 76,
   "metadata": {},
   "outputs": [
    {
     "name": "stdout",
     "output_type": "stream",
     "text": [
      "WARNING:tensorflow:From /opt/conda/lib/python3.6/site-packages/tensorflow/python/ops/math_ops.py:3066: to_int32 (from tensorflow.python.ops.math_ops) is deprecated and will be removed in a future version.\n",
      "Instructions for updating:\n",
      "Use tf.cast instead.\n",
      "WARNING:tensorflow:From /opt/conda/lib/python3.6/site-packages/tensorflow/python/ops/math_grad.py:102: div (from tensorflow.python.ops.math_ops) is deprecated and will be removed in a future version.\n",
      "Instructions for updating:\n",
      "Deprecated in favor of operator or tf.math.divide.\n",
      "Train on 12782 samples, validate on 4261 samples\n",
      "Epoch 1/100\n",
      "12782/12782 [==============================] - 5s 426us/step - loss: 1.1052 - acc: 0.4881 - f1: 0.5282 - val_loss: 1.0013 - val_acc: 0.5454 - val_f1: 0.5669\n",
      "\n",
      "Epoch 00001: val_f1 improved from -inf to 0.56687, saving model to model.h5\n",
      "Epoch 2/100\n",
      "12782/12782 [==============================] - 2s 165us/step - loss: 1.0264 - acc: 0.5395 - f1: 0.5499 - val_loss: 0.9431 - val_acc: 0.5816 - val_f1: 0.5964\n",
      "\n",
      "Epoch 00002: val_f1 improved from 0.56687 to 0.59635, saving model to model.h5\n",
      "Epoch 3/100\n",
      "12782/12782 [==============================] - 2s 163us/step - loss: 0.9810 - acc: 0.5689 - f1: 0.5542 - val_loss: 0.9017 - val_acc: 0.6050 - val_f1: 0.6113\n",
      "\n",
      "Epoch 00003: val_f1 improved from 0.59635 to 0.61134, saving model to model.h5\n",
      "\n",
      "Epoch 00003: ReduceLROnPlateau reducing learning rate to 9.999999747378752e-06.\n",
      "Epoch 4/100\n",
      "12782/12782 [==============================] - 2s 164us/step - loss: 0.9584 - acc: 0.5759 - f1: 0.5662 - val_loss: 0.8958 - val_acc: 0.6031 - val_f1: 0.6124\n",
      "\n",
      "Epoch 00004: val_f1 improved from 0.61134 to 0.61242, saving model to model.h5\n",
      "Epoch 5/100\n",
      "12782/12782 [==============================] - 2s 164us/step - loss: 0.9533 - acc: 0.5701 - f1: 0.5591 - val_loss: 0.8923 - val_acc: 0.6057 - val_f1: 0.6137\n",
      "\n",
      "Epoch 00005: val_f1 improved from 0.61242 to 0.61366, saving model to model.h5\n",
      "\n",
      "Epoch 00005: ReduceLROnPlateau reducing learning rate to 1e-06.\n",
      "Epoch 6/100\n",
      "12782/12782 [==============================] - 2s 164us/step - loss: 0.9507 - acc: 0.5821 - f1: 0.5662 - val_loss: 0.8920 - val_acc: 0.6055 - val_f1: 0.6137\n",
      "\n",
      "Epoch 00006: val_f1 improved from 0.61366 to 0.61373, saving model to model.h5\n",
      "Epoch 7/100\n",
      "12782/12782 [==============================] - 2s 167us/step - loss: 0.9476 - acc: 0.5814 - f1: 0.5674 - val_loss: 0.8916 - val_acc: 0.6067 - val_f1: 0.6141\n",
      "\n",
      "Epoch 00007: val_f1 improved from 0.61373 to 0.61411, saving model to model.h5\n",
      "Epoch 8/100\n",
      "12782/12782 [==============================] - 2s 164us/step - loss: 0.9516 - acc: 0.5805 - f1: 0.5658 - val_loss: 0.8913 - val_acc: 0.6067 - val_f1: 0.6134\n",
      "\n",
      "Epoch 00008: val_f1 did not improve from 0.61411\n",
      "Epoch 9/100\n",
      "12782/12782 [==============================] - 2s 160us/step - loss: 0.9503 - acc: 0.5735 - f1: 0.5625 - val_loss: 0.8911 - val_acc: 0.6064 - val_f1: 0.6140\n",
      "\n",
      "Epoch 00009: val_f1 did not improve from 0.61411\n",
      "Epoch 10/100\n",
      "12782/12782 [==============================] - 2s 164us/step - loss: 0.9496 - acc: 0.5757 - f1: 0.5624 - val_loss: 0.8908 - val_acc: 0.6062 - val_f1: 0.6138\n",
      "\n",
      "Epoch 00010: val_f1 did not improve from 0.61411\n",
      "Epoch 11/100\n",
      "12782/12782 [==============================] - 2s 162us/step - loss: 0.9512 - acc: 0.5827 - f1: 0.5611 - val_loss: 0.8905 - val_acc: 0.6064 - val_f1: 0.6141\n",
      "\n",
      "Epoch 00011: val_f1 did not improve from 0.61411\n",
      "Epoch 12/100\n",
      "12782/12782 [==============================] - 2s 162us/step - loss: 0.9518 - acc: 0.5818 - f1: 0.5701 - val_loss: 0.8901 - val_acc: 0.6074 - val_f1: 0.6139\n",
      "\n",
      "Epoch 00012: val_f1 did not improve from 0.61411\n",
      "Epoch 13/100\n",
      "12782/12782 [==============================] - 2s 163us/step - loss: 0.9478 - acc: 0.5741 - f1: 0.5658 - val_loss: 0.8899 - val_acc: 0.6062 - val_f1: 0.6144\n",
      "\n",
      "Epoch 00013: val_f1 improved from 0.61411 to 0.61441, saving model to model.h5\n",
      "Epoch 14/100\n",
      "12782/12782 [==============================] - 2s 161us/step - loss: 0.9500 - acc: 0.5817 - f1: 0.5665 - val_loss: 0.8897 - val_acc: 0.6055 - val_f1: 0.6145\n",
      "\n",
      "Epoch 00014: val_f1 improved from 0.61441 to 0.61450, saving model to model.h5\n",
      "Epoch 15/100\n",
      "12782/12782 [==============================] - 2s 164us/step - loss: 0.9446 - acc: 0.5847 - f1: 0.5652 - val_loss: 0.8893 - val_acc: 0.6046 - val_f1: 0.6143\n",
      "\n",
      "Epoch 00015: val_f1 did not improve from 0.61450\n",
      "Epoch 16/100\n",
      "12782/12782 [==============================] - 2s 166us/step - loss: 0.9474 - acc: 0.5780 - f1: 0.5646 - val_loss: 0.8890 - val_acc: 0.6046 - val_f1: 0.6142\n",
      "\n",
      "Epoch 00016: val_f1 did not improve from 0.61450\n",
      "Epoch 17/100\n",
      "12782/12782 [==============================] - 2s 165us/step - loss: 0.9420 - acc: 0.5829 - f1: 0.5670 - val_loss: 0.8887 - val_acc: 0.6050 - val_f1: 0.6137\n",
      "\n",
      "Epoch 00017: val_f1 did not improve from 0.61450\n",
      "Epoch 18/100\n",
      "12782/12782 [==============================] - 2s 162us/step - loss: 0.9449 - acc: 0.5774 - f1: 0.5673 - val_loss: 0.8883 - val_acc: 0.6055 - val_f1: 0.6143\n",
      "\n",
      "Epoch 00018: val_f1 did not improve from 0.61450\n",
      "Epoch 19/100\n",
      "12782/12782 [==============================] - 2s 163us/step - loss: 0.9491 - acc: 0.5767 - f1: 0.5614 - val_loss: 0.8880 - val_acc: 0.6048 - val_f1: 0.6152\n",
      "\n",
      "Epoch 00019: val_f1 improved from 0.61450 to 0.61522, saving model to model.h5\n",
      "Epoch 20/100\n",
      "12782/12782 [==============================] - 2s 163us/step - loss: 0.9489 - acc: 0.5764 - f1: 0.5613 - val_loss: 0.8877 - val_acc: 0.6053 - val_f1: 0.6155\n",
      "\n",
      "Epoch 00020: val_f1 improved from 0.61522 to 0.61545, saving model to model.h5\n",
      "Epoch 21/100\n",
      "12782/12782 [==============================] - 2s 162us/step - loss: 0.9449 - acc: 0.5830 - f1: 0.5625 - val_loss: 0.8874 - val_acc: 0.6057 - val_f1: 0.6159\n",
      "\n",
      "Epoch 00021: val_f1 improved from 0.61545 to 0.61588, saving model to model.h5\n",
      "Epoch 22/100\n",
      "12782/12782 [==============================] - 2s 165us/step - loss: 0.9459 - acc: 0.5762 - f1: 0.5638 - val_loss: 0.8871 - val_acc: 0.6057 - val_f1: 0.6161\n",
      "\n",
      "Epoch 00022: val_f1 improved from 0.61588 to 0.61614, saving model to model.h5\n",
      "Epoch 23/100\n",
      "12782/12782 [==============================] - 2s 163us/step - loss: 0.9435 - acc: 0.5847 - f1: 0.5673 - val_loss: 0.8868 - val_acc: 0.6060 - val_f1: 0.6165\n",
      "\n",
      "Epoch 00023: val_f1 improved from 0.61614 to 0.61648, saving model to model.h5\n",
      "Epoch 24/100\n",
      "12782/12782 [==============================] - 2s 162us/step - loss: 0.9405 - acc: 0.5831 - f1: 0.5679 - val_loss: 0.8865 - val_acc: 0.6064 - val_f1: 0.6165\n",
      "\n",
      "Epoch 00024: val_f1 improved from 0.61648 to 0.61650, saving model to model.h5\n",
      "Epoch 25/100\n",
      "12782/12782 [==============================] - 2s 167us/step - loss: 0.9430 - acc: 0.5841 - f1: 0.5677 - val_loss: 0.8862 - val_acc: 0.6067 - val_f1: 0.6165\n",
      "\n",
      "Epoch 00025: val_f1 improved from 0.61650 to 0.61652, saving model to model.h5\n",
      "Epoch 26/100\n",
      "12782/12782 [==============================] - 2s 170us/step - loss: 0.9424 - acc: 0.5805 - f1: 0.5650 - val_loss: 0.8859 - val_acc: 0.6062 - val_f1: 0.6165\n",
      "\n",
      "Epoch 00026: val_f1 did not improve from 0.61652\n",
      "Epoch 27/100\n",
      "12782/12782 [==============================] - 2s 177us/step - loss: 0.9443 - acc: 0.5757 - f1: 0.5636 - val_loss: 0.8856 - val_acc: 0.6062 - val_f1: 0.6169\n",
      "\n",
      "Epoch 00027: val_f1 improved from 0.61652 to 0.61688, saving model to model.h5\n",
      "Epoch 28/100\n",
      "12782/12782 [==============================] - 2s 179us/step - loss: 0.9453 - acc: 0.5852 - f1: 0.5682 - val_loss: 0.8853 - val_acc: 0.6062 - val_f1: 0.6172\n",
      "\n",
      "Epoch 00028: val_f1 improved from 0.61688 to 0.61718, saving model to model.h5\n",
      "Epoch 29/100\n",
      "12782/12782 [==============================] - 2s 178us/step - loss: 0.9449 - acc: 0.5799 - f1: 0.5627 - val_loss: 0.8851 - val_acc: 0.6071 - val_f1: 0.6173\n",
      "\n",
      "Epoch 00029: val_f1 improved from 0.61718 to 0.61727, saving model to model.h5\n",
      "Epoch 30/100\n",
      "12782/12782 [==============================] - 2s 174us/step - loss: 0.9408 - acc: 0.5836 - f1: 0.5670 - val_loss: 0.8848 - val_acc: 0.6074 - val_f1: 0.6172\n",
      "\n",
      "Epoch 00030: val_f1 did not improve from 0.61727\n",
      "Epoch 31/100\n",
      "12782/12782 [==============================] - 2s 168us/step - loss: 0.9411 - acc: 0.5811 - f1: 0.5630 - val_loss: 0.8845 - val_acc: 0.6074 - val_f1: 0.6173\n",
      "\n",
      "Epoch 00031: val_f1 improved from 0.61727 to 0.61734, saving model to model.h5\n",
      "Epoch 32/100\n",
      "12782/12782 [==============================] - 2s 162us/step - loss: 0.9401 - acc: 0.5825 - f1: 0.5680 - val_loss: 0.8841 - val_acc: 0.6074 - val_f1: 0.6175\n",
      "\n",
      "Epoch 00032: val_f1 improved from 0.61734 to 0.61752, saving model to model.h5\n",
      "Epoch 33/100\n",
      "12782/12782 [==============================] - 2s 163us/step - loss: 0.9423 - acc: 0.5822 - f1: 0.5632 - val_loss: 0.8838 - val_acc: 0.6074 - val_f1: 0.6174\n",
      "\n",
      "Epoch 00033: val_f1 did not improve from 0.61752\n",
      "Epoch 34/100\n",
      "12782/12782 [==============================] - 2s 166us/step - loss: 0.9404 - acc: 0.5864 - f1: 0.5670 - val_loss: 0.8835 - val_acc: 0.6071 - val_f1: 0.6176\n",
      "\n",
      "Epoch 00034: val_f1 improved from 0.61752 to 0.61761, saving model to model.h5\n",
      "Epoch 35/100\n",
      "12782/12782 [==============================] - 2s 163us/step - loss: 0.9432 - acc: 0.5799 - f1: 0.5657 - val_loss: 0.8834 - val_acc: 0.6078 - val_f1: 0.6178\n",
      "\n",
      "Epoch 00035: val_f1 improved from 0.61761 to 0.61776, saving model to model.h5\n",
      "Epoch 36/100\n",
      "12782/12782 [==============================] - 2s 160us/step - loss: 0.9446 - acc: 0.5803 - f1: 0.5658 - val_loss: 0.8832 - val_acc: 0.6074 - val_f1: 0.6175\n",
      "\n",
      "Epoch 00036: val_f1 did not improve from 0.61776\n",
      "Epoch 37/100\n",
      "12782/12782 [==============================] - 2s 165us/step - loss: 0.9413 - acc: 0.5790 - f1: 0.5651 - val_loss: 0.8828 - val_acc: 0.6067 - val_f1: 0.6177\n",
      "\n",
      "Epoch 00037: val_f1 did not improve from 0.61776\n",
      "Epoch 38/100\n",
      "12782/12782 [==============================] - 2s 163us/step - loss: 0.9373 - acc: 0.5821 - f1: 0.5667 - val_loss: 0.8826 - val_acc: 0.6069 - val_f1: 0.6174\n",
      "\n",
      "Epoch 00038: val_f1 did not improve from 0.61776\n",
      "Epoch 39/100\n",
      "12782/12782 [==============================] - 2s 161us/step - loss: 0.9416 - acc: 0.5771 - f1: 0.5611 - val_loss: 0.8823 - val_acc: 0.6074 - val_f1: 0.6175\n",
      "\n",
      "Epoch 00039: val_f1 did not improve from 0.61776\n",
      "Epoch 40/100\n",
      "12782/12782 [==============================] - 2s 163us/step - loss: 0.9406 - acc: 0.5830 - f1: 0.5683 - val_loss: 0.8820 - val_acc: 0.6071 - val_f1: 0.6175\n",
      "\n",
      "Epoch 00040: val_f1 did not improve from 0.61776\n",
      "Epoch 41/100\n",
      "12782/12782 [==============================] - 2s 162us/step - loss: 0.9359 - acc: 0.5818 - f1: 0.5689 - val_loss: 0.8818 - val_acc: 0.6069 - val_f1: 0.6173\n",
      "\n",
      "Epoch 00041: val_f1 did not improve from 0.61776\n",
      "Epoch 42/100\n",
      "12782/12782 [==============================] - 2s 162us/step - loss: 0.9407 - acc: 0.5879 - f1: 0.5659 - val_loss: 0.8815 - val_acc: 0.6078 - val_f1: 0.6177\n",
      "\n",
      "Epoch 00042: val_f1 did not improve from 0.61776\n",
      "Epoch 43/100\n",
      "12782/12782 [==============================] - 2s 163us/step - loss: 0.9367 - acc: 0.5803 - f1: 0.5680 - val_loss: 0.8812 - val_acc: 0.6071 - val_f1: 0.6178\n",
      "\n",
      "Epoch 00043: val_f1 improved from 0.61776 to 0.61780, saving model to model.h5\n",
      "Epoch 44/100\n",
      "12782/12782 [==============================] - 2s 166us/step - loss: 0.9387 - acc: 0.5852 - f1: 0.5669 - val_loss: 0.8810 - val_acc: 0.6071 - val_f1: 0.6176\n",
      "\n",
      "Epoch 00044: val_f1 did not improve from 0.61780\n",
      "Epoch 45/100\n",
      "12782/12782 [==============================] - 2s 160us/step - loss: 0.9338 - acc: 0.5829 - f1: 0.5673 - val_loss: 0.8807 - val_acc: 0.6076 - val_f1: 0.6179\n",
      "\n",
      "Epoch 00045: val_f1 improved from 0.61780 to 0.61792, saving model to model.h5\n",
      "Epoch 46/100\n",
      "12782/12782 [==============================] - 2s 167us/step - loss: 0.9360 - acc: 0.5864 - f1: 0.5661 - val_loss: 0.8803 - val_acc: 0.6081 - val_f1: 0.6186\n",
      "\n",
      "Epoch 00046: val_f1 improved from 0.61792 to 0.61861, saving model to model.h5\n",
      "Epoch 47/100\n",
      "12782/12782 [==============================] - 2s 162us/step - loss: 0.9354 - acc: 0.5824 - f1: 0.5665 - val_loss: 0.8800 - val_acc: 0.6085 - val_f1: 0.6189\n",
      "\n",
      "Epoch 00047: val_f1 improved from 0.61861 to 0.61892, saving model to model.h5\n",
      "Epoch 48/100\n",
      "12782/12782 [==============================] - 2s 163us/step - loss: 0.9383 - acc: 0.5843 - f1: 0.5691 - val_loss: 0.8796 - val_acc: 0.6081 - val_f1: 0.6190\n",
      "\n",
      "Epoch 00048: val_f1 improved from 0.61892 to 0.61898, saving model to model.h5\n",
      "Epoch 49/100\n",
      "12782/12782 [==============================] - 2s 166us/step - loss: 0.9422 - acc: 0.5871 - f1: 0.5664 - val_loss: 0.8794 - val_acc: 0.6085 - val_f1: 0.6192\n",
      "\n",
      "Epoch 00049: val_f1 improved from 0.61898 to 0.61925, saving model to model.h5\n",
      "Epoch 50/100\n",
      "12782/12782 [==============================] - 2s 161us/step - loss: 0.9335 - acc: 0.5847 - f1: 0.5694 - val_loss: 0.8790 - val_acc: 0.6081 - val_f1: 0.6191\n",
      "\n",
      "Epoch 00050: val_f1 did not improve from 0.61925\n",
      "Epoch 51/100\n",
      "12782/12782 [==============================] - 2s 160us/step - loss: 0.9378 - acc: 0.5843 - f1: 0.5639 - val_loss: 0.8788 - val_acc: 0.6088 - val_f1: 0.6195\n",
      "\n",
      "Epoch 00051: val_f1 improved from 0.61925 to 0.61953, saving model to model.h5\n",
      "Epoch 52/100\n",
      "12782/12782 [==============================] - 2s 163us/step - loss: 0.9387 - acc: 0.5847 - f1: 0.5694 - val_loss: 0.8787 - val_acc: 0.6090 - val_f1: 0.6194\n",
      "\n",
      "Epoch 00052: val_f1 did not improve from 0.61953\n",
      "Epoch 53/100\n",
      "12782/12782 [==============================] - 2s 161us/step - loss: 0.9347 - acc: 0.5843 - f1: 0.5644 - val_loss: 0.8784 - val_acc: 0.6095 - val_f1: 0.6192\n",
      "\n",
      "Epoch 00053: val_f1 did not improve from 0.61953\n",
      "Epoch 54/100\n",
      "12782/12782 [==============================] - 2s 161us/step - loss: 0.9359 - acc: 0.5817 - f1: 0.5669 - val_loss: 0.8780 - val_acc: 0.6095 - val_f1: 0.6195\n",
      "\n",
      "Epoch 00054: val_f1 did not improve from 0.61953\n",
      "Epoch 55/100\n",
      "12782/12782 [==============================] - 2s 161us/step - loss: 0.9344 - acc: 0.5818 - f1: 0.5666 - val_loss: 0.8779 - val_acc: 0.6097 - val_f1: 0.6193\n",
      "\n",
      "Epoch 00055: val_f1 did not improve from 0.61953\n",
      "Epoch 56/100\n",
      "12782/12782 [==============================] - 2s 161us/step - loss: 0.9342 - acc: 0.5831 - f1: 0.5653 - val_loss: 0.8776 - val_acc: 0.6111 - val_f1: 0.6201\n",
      "\n",
      "Epoch 00056: val_f1 improved from 0.61953 to 0.62014, saving model to model.h5\n",
      "Epoch 57/100\n",
      "12782/12782 [==============================] - 2s 163us/step - loss: 0.9371 - acc: 0.5844 - f1: 0.5658 - val_loss: 0.8774 - val_acc: 0.6107 - val_f1: 0.6198\n",
      "\n",
      "Epoch 00057: val_f1 did not improve from 0.62014\n",
      "Epoch 58/100\n",
      "12782/12782 [==============================] - 2s 161us/step - loss: 0.9361 - acc: 0.5884 - f1: 0.5654 - val_loss: 0.8771 - val_acc: 0.6107 - val_f1: 0.6198\n",
      "\n",
      "Epoch 00058: val_f1 did not improve from 0.62014\n",
      "Epoch 59/100\n",
      "12782/12782 [==============================] - 2s 164us/step - loss: 0.9356 - acc: 0.5850 - f1: 0.5662 - val_loss: 0.8768 - val_acc: 0.6111 - val_f1: 0.6201\n",
      "\n",
      "Epoch 00059: val_f1 did not improve from 0.62014\n",
      "Epoch 60/100\n",
      "12782/12782 [==============================] - 2s 164us/step - loss: 0.9356 - acc: 0.5825 - f1: 0.5645 - val_loss: 0.8767 - val_acc: 0.6109 - val_f1: 0.6198\n",
      "\n",
      "Epoch 00060: val_f1 did not improve from 0.62014\n",
      "Epoch 61/100\n",
      "12782/12782 [==============================] - 2s 164us/step - loss: 0.9339 - acc: 0.5871 - f1: 0.5661 - val_loss: 0.8765 - val_acc: 0.6109 - val_f1: 0.6198\n",
      "\n",
      "Epoch 00061: val_f1 did not improve from 0.62014\n",
      "Epoch 62/100\n",
      "12782/12782 [==============================] - 2s 163us/step - loss: 0.9312 - acc: 0.5840 - f1: 0.5657 - val_loss: 0.8762 - val_acc: 0.6109 - val_f1: 0.6201\n",
      "\n",
      "Epoch 00062: val_f1 did not improve from 0.62014\n",
      "Epoch 63/100\n",
      "12782/12782 [==============================] - 2s 163us/step - loss: 0.9368 - acc: 0.5802 - f1: 0.5633 - val_loss: 0.8759 - val_acc: 0.6109 - val_f1: 0.6199\n",
      "\n",
      "Epoch 00063: val_f1 did not improve from 0.62014\n",
      "Epoch 64/100\n",
      "12782/12782 [==============================] - 2s 173us/step - loss: 0.9319 - acc: 0.5839 - f1: 0.5651 - val_loss: 0.8757 - val_acc: 0.6109 - val_f1: 0.6193\n",
      "\n",
      "Epoch 00064: val_f1 did not improve from 0.62014\n",
      "Epoch 65/100\n",
      "12782/12782 [==============================] - 2s 177us/step - loss: 0.9363 - acc: 0.5866 - f1: 0.5668 - val_loss: 0.8754 - val_acc: 0.6104 - val_f1: 0.6195\n",
      "\n",
      "Epoch 00065: val_f1 did not improve from 0.62014\n",
      "Epoch 66/100\n",
      "12782/12782 [==============================] - 2s 179us/step - loss: 0.9342 - acc: 0.5879 - f1: 0.5674 - val_loss: 0.8752 - val_acc: 0.6104 - val_f1: 0.6197\n",
      "\n",
      "Epoch 00066: val_f1 did not improve from 0.62014\n",
      "Epoch 67/100\n",
      "12782/12782 [==============================] - 2s 178us/step - loss: 0.9320 - acc: 0.5869 - f1: 0.5666 - val_loss: 0.8750 - val_acc: 0.6107 - val_f1: 0.6197\n",
      "\n",
      "Epoch 00067: val_f1 did not improve from 0.62014\n",
      "Epoch 68/100\n",
      "12782/12782 [==============================] - 2s 171us/step - loss: 0.9364 - acc: 0.5780 - f1: 0.5633 - val_loss: 0.8748 - val_acc: 0.6104 - val_f1: 0.6203\n",
      "\n",
      "Epoch 00068: val_f1 improved from 0.62014 to 0.62028, saving model to model.h5\n",
      "Epoch 69/100\n",
      "12782/12782 [==============================] - 2s 165us/step - loss: 0.9320 - acc: 0.5867 - f1: 0.5692 - val_loss: 0.8745 - val_acc: 0.6100 - val_f1: 0.6205\n",
      "\n",
      "Epoch 00069: val_f1 improved from 0.62028 to 0.62049, saving model to model.h5\n",
      "Epoch 70/100\n",
      "12782/12782 [==============================] - 2s 162us/step - loss: 0.9298 - acc: 0.5863 - f1: 0.5678 - val_loss: 0.8742 - val_acc: 0.6102 - val_f1: 0.6203\n",
      "\n",
      "Epoch 00070: val_f1 did not improve from 0.62049\n",
      "Epoch 71/100\n",
      "12782/12782 [==============================] - 2s 166us/step - loss: 0.9328 - acc: 0.5848 - f1: 0.5683 - val_loss: 0.8740 - val_acc: 0.6100 - val_f1: 0.6200\n",
      "\n",
      "Epoch 00071: val_f1 did not improve from 0.62049\n",
      "Epoch 72/100\n",
      "12782/12782 [==============================] - 2s 162us/step - loss: 0.9339 - acc: 0.5829 - f1: 0.5653 - val_loss: 0.8739 - val_acc: 0.6097 - val_f1: 0.6208\n",
      "\n",
      "Epoch 00072: val_f1 improved from 0.62049 to 0.62080, saving model to model.h5\n",
      "Epoch 73/100\n",
      "12782/12782 [==============================] - 2s 161us/step - loss: 0.9335 - acc: 0.5847 - f1: 0.5683 - val_loss: 0.8737 - val_acc: 0.6102 - val_f1: 0.6207\n",
      "\n",
      "Epoch 00073: val_f1 did not improve from 0.62080\n",
      "Epoch 74/100\n",
      "12782/12782 [==============================] - 2s 163us/step - loss: 0.9323 - acc: 0.5872 - f1: 0.5677 - val_loss: 0.8734 - val_acc: 0.6109 - val_f1: 0.6202\n",
      "\n",
      "Epoch 00074: val_f1 did not improve from 0.62080\n",
      "Epoch 75/100\n",
      "12782/12782 [==============================] - 2s 166us/step - loss: 0.9325 - acc: 0.5873 - f1: 0.5689 - val_loss: 0.8732 - val_acc: 0.6114 - val_f1: 0.6202\n",
      "\n",
      "Epoch 00075: val_f1 did not improve from 0.62080\n",
      "Epoch 76/100\n",
      "12782/12782 [==============================] - 2s 164us/step - loss: 0.9293 - acc: 0.5857 - f1: 0.5677 - val_loss: 0.8730 - val_acc: 0.6114 - val_f1: 0.6201\n",
      "\n",
      "Epoch 00076: val_f1 did not improve from 0.62080\n",
      "Epoch 77/100\n",
      "12782/12782 [==============================] - 2s 163us/step - loss: 0.9322 - acc: 0.5904 - f1: 0.5690 - val_loss: 0.8727 - val_acc: 0.6114 - val_f1: 0.6201\n",
      "\n",
      "Epoch 00077: val_f1 did not improve from 0.62080\n",
      "Epoch 78/100\n",
      "12782/12782 [==============================] - 2s 164us/step - loss: 0.9323 - acc: 0.5894 - f1: 0.5666 - val_loss: 0.8725 - val_acc: 0.6116 - val_f1: 0.6198\n",
      "\n",
      "Epoch 00078: val_f1 did not improve from 0.62080\n",
      "Epoch 79/100\n",
      "12782/12782 [==============================] - 2s 165us/step - loss: 0.9326 - acc: 0.5838 - f1: 0.5660 - val_loss: 0.8723 - val_acc: 0.6118 - val_f1: 0.6200\n",
      "\n",
      "Epoch 00079: val_f1 did not improve from 0.62080\n",
      "Epoch 80/100\n",
      "12782/12782 [==============================] - 2s 169us/step - loss: 0.9274 - acc: 0.5845 - f1: 0.5703 - val_loss: 0.8720 - val_acc: 0.6118 - val_f1: 0.6199\n",
      "\n",
      "Epoch 00080: val_f1 did not improve from 0.62080\n",
      "Epoch 81/100\n",
      "12782/12782 [==============================] - 2s 164us/step - loss: 0.9286 - acc: 0.5834 - f1: 0.5679 - val_loss: 0.8718 - val_acc: 0.6116 - val_f1: 0.6199\n",
      "\n",
      "Epoch 00081: val_f1 did not improve from 0.62080\n",
      "Epoch 82/100\n",
      "12782/12782 [==============================] - 2s 168us/step - loss: 0.9309 - acc: 0.5870 - f1: 0.5659 - val_loss: 0.8715 - val_acc: 0.6118 - val_f1: 0.6198\n",
      "\n",
      "Epoch 00082: val_f1 did not improve from 0.62080\n",
      "Epoch 83/100\n",
      "12782/12782 [==============================] - 2s 180us/step - loss: 0.9294 - acc: 0.5897 - f1: 0.5687 - val_loss: 0.8713 - val_acc: 0.6121 - val_f1: 0.6204\n",
      "\n",
      "Epoch 00083: val_f1 did not improve from 0.62080\n",
      "Epoch 84/100\n",
      "12782/12782 [==============================] - 2s 181us/step - loss: 0.9274 - acc: 0.5899 - f1: 0.5699 - val_loss: 0.8710 - val_acc: 0.6125 - val_f1: 0.6209\n",
      "\n",
      "Epoch 00084: val_f1 improved from 0.62080 to 0.62088, saving model to model.h5\n",
      "Epoch 85/100\n",
      "12782/12782 [==============================] - 2s 182us/step - loss: 0.9311 - acc: 0.5865 - f1: 0.5664 - val_loss: 0.8708 - val_acc: 0.6125 - val_f1: 0.6205\n",
      "\n",
      "Epoch 00085: val_f1 did not improve from 0.62088\n",
      "Epoch 86/100\n",
      "12782/12782 [==============================] - 2s 179us/step - loss: 0.9288 - acc: 0.5868 - f1: 0.5678 - val_loss: 0.8706 - val_acc: 0.6118 - val_f1: 0.6211\n",
      "\n",
      "Epoch 00086: val_f1 improved from 0.62088 to 0.62109, saving model to model.h5\n",
      "Epoch 87/100\n",
      "12782/12782 [==============================] - 2s 166us/step - loss: 0.9316 - acc: 0.5813 - f1: 0.5671 - val_loss: 0.8703 - val_acc: 0.6121 - val_f1: 0.6205\n",
      "\n",
      "Epoch 00087: val_f1 did not improve from 0.62109\n",
      "Epoch 88/100\n",
      "12782/12782 [==============================] - 2s 161us/step - loss: 0.9301 - acc: 0.5857 - f1: 0.5657 - val_loss: 0.8702 - val_acc: 0.6128 - val_f1: 0.6211\n",
      "\n",
      "Epoch 00088: val_f1 improved from 0.62109 to 0.62113, saving model to model.h5\n",
      "Epoch 89/100\n",
      "12782/12782 [==============================] - 2s 163us/step - loss: 0.9270 - acc: 0.5935 - f1: 0.5692 - val_loss: 0.8699 - val_acc: 0.6130 - val_f1: 0.6208\n",
      "\n",
      "Epoch 00089: val_f1 did not improve from 0.62113\n",
      "Epoch 90/100\n",
      "12782/12782 [==============================] - 2s 164us/step - loss: 0.9272 - acc: 0.5887 - f1: 0.5695 - val_loss: 0.8696 - val_acc: 0.6130 - val_f1: 0.6214\n",
      "\n",
      "Epoch 00090: val_f1 improved from 0.62113 to 0.62142, saving model to model.h5\n",
      "Epoch 91/100\n",
      "12782/12782 [==============================] - 2s 165us/step - loss: 0.9254 - acc: 0.5906 - f1: 0.5684 - val_loss: 0.8693 - val_acc: 0.6139 - val_f1: 0.6203\n",
      "\n",
      "Epoch 00091: val_f1 did not improve from 0.62142\n",
      "Epoch 92/100\n",
      "12782/12782 [==============================] - 2s 163us/step - loss: 0.9272 - acc: 0.5903 - f1: 0.5666 - val_loss: 0.8691 - val_acc: 0.6139 - val_f1: 0.6205\n",
      "\n",
      "Epoch 00092: val_f1 did not improve from 0.62142\n",
      "Epoch 93/100\n",
      "12782/12782 [==============================] - 2s 160us/step - loss: 0.9259 - acc: 0.5863 - f1: 0.5707 - val_loss: 0.8689 - val_acc: 0.6130 - val_f1: 0.6217\n",
      "\n",
      "Epoch 00093: val_f1 improved from 0.62142 to 0.62168, saving model to model.h5\n",
      "Epoch 94/100\n",
      "12782/12782 [==============================] - 2s 161us/step - loss: 0.9277 - acc: 0.5889 - f1: 0.5690 - val_loss: 0.8687 - val_acc: 0.6135 - val_f1: 0.6214\n",
      "\n",
      "Epoch 00094: val_f1 did not improve from 0.62168\n",
      "Epoch 95/100\n",
      "12782/12782 [==============================] - 2s 161us/step - loss: 0.9224 - acc: 0.5887 - f1: 0.5710 - val_loss: 0.8684 - val_acc: 0.6139 - val_f1: 0.6214\n",
      "\n",
      "Epoch 00095: val_f1 did not improve from 0.62168\n",
      "Epoch 96/100\n",
      "12782/12782 [==============================] - 2s 166us/step - loss: 0.9244 - acc: 0.5850 - f1: 0.5668 - val_loss: 0.8683 - val_acc: 0.6139 - val_f1: 0.6212\n",
      "\n",
      "Epoch 00096: val_f1 did not improve from 0.62168\n",
      "Epoch 97/100\n",
      "12782/12782 [==============================] - 2s 164us/step - loss: 0.9313 - acc: 0.5890 - f1: 0.5678 - val_loss: 0.8680 - val_acc: 0.6142 - val_f1: 0.6211\n",
      "\n",
      "Epoch 00097: val_f1 did not improve from 0.62168\n",
      "Epoch 98/100\n",
      "12782/12782 [==============================] - 2s 160us/step - loss: 0.9255 - acc: 0.5909 - f1: 0.5680 - val_loss: 0.8677 - val_acc: 0.6139 - val_f1: 0.6211\n",
      "\n",
      "Epoch 00098: val_f1 did not improve from 0.62168\n",
      "Epoch 99/100\n",
      "12782/12782 [==============================] - 2s 163us/step - loss: 0.9242 - acc: 0.5935 - f1: 0.5692 - val_loss: 0.8675 - val_acc: 0.6135 - val_f1: 0.6218\n",
      "\n",
      "Epoch 00099: val_f1 improved from 0.62168 to 0.62178, saving model to model.h5\n",
      "Epoch 100/100\n",
      "12782/12782 [==============================] - 2s 160us/step - loss: 0.9243 - acc: 0.5849 - f1: 0.5671 - val_loss: 0.8673 - val_acc: 0.6132 - val_f1: 0.6215\n",
      "\n",
      "Epoch 00100: val_f1 did not improve from 0.62178\n"
     ]
    }
   ],
   "source": [
    "history = model.fit(X_train, y_train, batch_size=batch_size, epochs=epochs, \n",
    "                    validation_data=[X_val, y_val], callbacks=[checkpoints, reduce_lr])"
   ]
  },
  {
   "cell_type": "code",
   "execution_count": 77,
   "metadata": {},
   "outputs": [
    {
     "data": {
      "image/png": "[encoded data removed]",
      "text/plain": [
       "<Figure size 864x576 with 1 Axes>"
      ]
     },
     "metadata": {},
     "output_type": "display_data"
    }
   ],
   "source": [
    "import matplotlib.pyplot as plt\n",
    "\n",
    "plt.figure(figsize=(12,8))\n",
    "plt.plot(history.history['acc'], label='Train Accuracy')\n",
    "plt.plot(history.history['val_acc'], label='Test Accuracy')\n",
    "plt.legend(('Train Acc', 'Val Acc'))\n",
    "plt.show()"
   ]
  },
  {
   "cell_type": "code",
   "execution_count": 78,
   "metadata": {},
   "outputs": [],
   "source": [
    "model.load_weights('model.h5')"
   ]
  },
  {
   "cell_type": "code",
   "execution_count": 79,
   "metadata": {},
   "outputs": [],
   "source": [
    "submission = tokenizer.texts_to_sequences(X_test['fixed'])\n",
    "submission = pad_sequences(submission,maxlen=max_len)"
   ]
  },
  {
   "cell_type": "code",
   "execution_count": 80,
   "metadata": {},
   "outputs": [
    {
     "name": "stdout",
     "output_type": "stream",
     "text": [
      "5224/5224 [==============================] - 0s 45us/step\n"
     ]
    }
   ],
   "source": [
    "pred_sub = model.predict(submission,batch_size=512,verbose=1)\n",
    "\n",
    "pred_sub = np.argmax(pred_sub,axis=1)"
   ]
  },
  {
   "cell_type": "code",
   "execution_count": 81,
   "metadata": {},
   "outputs": [],
   "source": [
    "X_test['essay_score'] = pred_sub"
   ]
  },
  {
   "cell_type": "code",
   "execution_count": 82,
   "metadata": {},
   "outputs": [
    {
     "data": {
      "text/html": [
       "<div>\n",
       "<style scoped>\n",
       "    .dataframe tbody tr th:only-of-type {\n",
       "        vertical-align: middle;\n",
       "    }\n",
       "\n",
       "    .dataframe tbody tr th {\n",
       "        vertical-align: top;\n",
       "    }\n",
       "\n",
       "    .dataframe thead th {\n",
       "        text-align: right;\n",
       "    }\n",
       "</style>\n",
       "<table border=\"1\" class=\"dataframe\">\n",
       "  <thead>\n",
       "    <tr style=\"text-align: right;\">\n",
       "      <th></th>\n",
       "      <th>ID</th>\n",
       "      <th>Essayset</th>\n",
       "      <th>min_score</th>\n",
       "      <th>max_score</th>\n",
       "      <th>clarity</th>\n",
       "      <th>coherent</th>\n",
       "      <th>EssayText</th>\n",
       "      <th>fixed</th>\n",
       "      <th>essay_score</th>\n",
       "    </tr>\n",
       "  </thead>\n",
       "  <tbody>\n",
       "    <tr>\n",
       "      <th>0</th>\n",
       "      <td>1673</td>\n",
       "      <td>1</td>\n",
       "      <td>0</td>\n",
       "      <td>3</td>\n",
       "      <td>average</td>\n",
       "      <td>worst</td>\n",
       "      <td>The procedures I think they should have includ...</td>\n",
       "      <td>the procedures i think they should have includ...</td>\n",
       "      <td>0</td>\n",
       "    </tr>\n",
       "    <tr>\n",
       "      <th>1</th>\n",
       "      <td>1674</td>\n",
       "      <td>1</td>\n",
       "      <td>0</td>\n",
       "      <td>3</td>\n",
       "      <td>average</td>\n",
       "      <td>worst</td>\n",
       "      <td>In order to replicate this experiment, you wou...</td>\n",
       "      <td>in order to replicate this experiment ,  you w...</td>\n",
       "      <td>2</td>\n",
       "    </tr>\n",
       "    <tr>\n",
       "      <th>2</th>\n",
       "      <td>1675</td>\n",
       "      <td>1</td>\n",
       "      <td>0</td>\n",
       "      <td>3</td>\n",
       "      <td>above_average</td>\n",
       "      <td>above_average</td>\n",
       "      <td>In order to replicate their experiment, you wo...</td>\n",
       "      <td>in order to replicate their experiment ,  you ...</td>\n",
       "      <td>2</td>\n",
       "    </tr>\n",
       "    <tr>\n",
       "      <th>3</th>\n",
       "      <td>1676</td>\n",
       "      <td>1</td>\n",
       "      <td>0</td>\n",
       "      <td>3</td>\n",
       "      <td>worst</td>\n",
       "      <td>worst</td>\n",
       "      <td>Pleace a simple of one material into one conta...</td>\n",
       "      <td>pleace a simple of one material into one conta...</td>\n",
       "      <td>0</td>\n",
       "    </tr>\n",
       "    <tr>\n",
       "      <th>4</th>\n",
       "      <td>1677</td>\n",
       "      <td>1</td>\n",
       "      <td>0</td>\n",
       "      <td>3</td>\n",
       "      <td>worst</td>\n",
       "      <td>worst</td>\n",
       "      <td>Determin the mass of four different samples ma...</td>\n",
       "      <td>determin the mass of four different samples ma...</td>\n",
       "      <td>1</td>\n",
       "    </tr>\n",
       "  </tbody>\n",
       "</table>\n",
       "</div>"
      ],
      "text/plain": [
       "     ID     ...       essay_score\n",
       "0  1673     ...                 0\n",
       "1  1674     ...                 2\n",
       "2  1675     ...                 2\n",
       "3  1676     ...                 0\n",
       "4  1677     ...                 1\n",
       "\n",
       "[5 rows x 9 columns]"
      ]
     },
     "execution_count": 82,
     "metadata": {},
     "output_type": "execute_result"
    }
   ],
   "source": [
    "X_test.head()"
   ]
  },
  {
   "cell_type": "code",
   "execution_count": 83,
   "metadata": {},
   "outputs": [],
   "source": [
    "sub = X_test.drop(labels=['min_score','max_score','clarity','coherent','EssayText','fixed'],axis=1)"
   ]
  },
  {
   "cell_type": "code",
   "execution_count": 84,
   "metadata": {},
   "outputs": [
    {
     "data": {
      "text/html": [
       "<div>\n",
       "<style scoped>\n",
       "    .dataframe tbody tr th:only-of-type {\n",
       "        vertical-align: middle;\n",
       "    }\n",
       "\n",
       "    .dataframe tbody tr th {\n",
       "        vertical-align: top;\n",
       "    }\n",
       "\n",
       "    .dataframe thead th {\n",
       "        text-align: right;\n",
       "    }\n",
       "</style>\n",
       "<table border=\"1\" class=\"dataframe\">\n",
       "  <thead>\n",
       "    <tr style=\"text-align: right;\">\n",
       "      <th></th>\n",
       "      <th>id</th>\n",
       "      <th>essay_set</th>\n",
       "      <th>essay_score</th>\n",
       "    </tr>\n",
       "  </thead>\n",
       "  <tbody>\n",
       "    <tr>\n",
       "      <th>0</th>\n",
       "      <td>1673</td>\n",
       "      <td>1</td>\n",
       "      <td>0</td>\n",
       "    </tr>\n",
       "    <tr>\n",
       "      <th>1</th>\n",
       "      <td>1674</td>\n",
       "      <td>1</td>\n",
       "      <td>2</td>\n",
       "    </tr>\n",
       "    <tr>\n",
       "      <th>2</th>\n",
       "      <td>1675</td>\n",
       "      <td>1</td>\n",
       "      <td>2</td>\n",
       "    </tr>\n",
       "    <tr>\n",
       "      <th>3</th>\n",
       "      <td>1676</td>\n",
       "      <td>1</td>\n",
       "      <td>0</td>\n",
       "    </tr>\n",
       "    <tr>\n",
       "      <th>4</th>\n",
       "      <td>1677</td>\n",
       "      <td>1</td>\n",
       "      <td>1</td>\n",
       "    </tr>\n",
       "  </tbody>\n",
       "</table>\n",
       "</div>"
      ],
      "text/plain": [
       "     id  essay_set  essay_score\n",
       "0  1673          1            0\n",
       "1  1674          1            2\n",
       "2  1675          1            2\n",
       "3  1676          1            0\n",
       "4  1677          1            1"
      ]
     },
     "execution_count": 84,
     "metadata": {},
     "output_type": "execute_result"
    }
   ],
   "source": [
    "sub.columns = ['id','essay_set', 'essay_score']\n",
    "\n",
    "sub.head()"
   ]
  },
  {
   "cell_type": "code",
   "execution_count": 85,
   "metadata": {},
   "outputs": [],
   "source": [
    "sub.to_csv(path_or_buf = 'submission.csv',index=False)"
   ]
  },
  {
   "cell_type": "code",
   "execution_count": 86,
   "metadata": {},
   "outputs": [],
   "source": []
  }
 ],
 "metadata": {
  "kernelspec": {
   "display_name": "Python 3",
   "language": "python",
   "name": "python3"
  },
  "language_info": {
   "codemirror_mode": {
    "name": "ipython",
    "version": 3
   },
   "file_extension": ".py",
   "mimetype": "text/x-python",
   "name": "python",
   "nbconvert_exporter": "python",
   "pygments_lexer": "ipython3",
   "version": "3.6.4"
  }
 },
 "nbformat": 4,
 "nbformat_minor": 1
}
