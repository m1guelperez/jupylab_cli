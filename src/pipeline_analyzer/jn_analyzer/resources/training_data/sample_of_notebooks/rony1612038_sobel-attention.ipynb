{
 "cells": [
  {
   "cell_type": "code",
   "execution_count": 1,
   "metadata": {
    "execution": {
     "iopub.execute_input": "2020-10-14T14:40:37.142557Z",
     "iopub.status.busy": "2020-10-14T14:40:37.141779Z",
     "iopub.status.idle": "2020-10-14T14:40:47.154972Z",
     "shell.execute_reply": "2020-10-14T14:40:47.153502Z"
    },
    "papermill": {
     "duration": 10.043841,
     "end_time": "2020-10-14T14:40:47.155136",
     "exception": false,
     "start_time": "2020-10-14T14:40:37.111295",
     "status": "completed"
    },
    "tags": []
   },
   "outputs": [
    {
     "name": "stdout",
     "output_type": "stream",
     "text": [
      "Collecting ipython-autotime\r\n",
      "  Downloading ipython_autotime-0.2.0-py2.py3-none-any.whl (6.6 kB)\r\n",
      "Requirement already satisfied: ipython in /opt/conda/lib/python3.7/site-packages (from ipython-autotime) (7.13.0)\r\n",
      "Requirement already satisfied: prompt-toolkit!=3.0.0,!=3.0.1,<3.1.0,>=2.0.0 in /opt/conda/lib/python3.7/site-packages (from ipython->ipython-autotime) (3.0.5)\r\n",
      "Requirement already satisfied: traitlets>=4.2 in /opt/conda/lib/python3.7/site-packages (from ipython->ipython-autotime) (4.3.3)\r\n",
      "Requirement already satisfied: backcall in /opt/conda/lib/python3.7/site-packages (from ipython->ipython-autotime) (0.1.0)\r\n",
      "Requirement already satisfied: jedi>=0.10 in /opt/conda/lib/python3.7/site-packages (from ipython->ipython-autotime) (0.15.2)\r\n",
      "Requirement already satisfied: pexpect; sys_platform != \"win32\" in /opt/conda/lib/python3.7/site-packages (from ipython->ipython-autotime) (4.8.0)\r\n",
      "Requirement already satisfied: decorator in /opt/conda/lib/python3.7/site-packages (from ipython->ipython-autotime) (4.4.2)\r\n",
      "Requirement already satisfied: pygments in /opt/conda/lib/python3.7/site-packages (from ipython->ipython-autotime) (2.6.1)\r\n",
      "Requirement already satisfied: setuptools>=18.5 in /opt/conda/lib/python3.7/site-packages (from ipython->ipython-autotime) (46.1.3.post20200325)\r\n",
      "Requirement already satisfied: pickleshare in /opt/conda/lib/python3.7/site-packages (from ipython->ipython-autotime) (0.7.5)\r\n",
      "Requirement already satisfied: wcwidth in /opt/conda/lib/python3.7/site-packages (from prompt-toolkit!=3.0.0,!=3.0.1,<3.1.0,>=2.0.0->ipython->ipython-autotime) (0.1.9)\r\n",
      "Requirement already satisfied: ipython-genutils in /opt/conda/lib/python3.7/site-packages (from traitlets>=4.2->ipython->ipython-autotime) (0.2.0)\r\n",
      "Requirement already satisfied: six in /opt/conda/lib/python3.7/site-packages (from traitlets>=4.2->ipython->ipython-autotime) (1.14.0)\r\n",
      "Requirement already satisfied: parso>=0.5.2 in /opt/conda/lib/python3.7/site-packages (from jedi>=0.10->ipython->ipython-autotime) (0.5.2)\r\n",
      "Requirement already satisfied: ptyprocess>=0.5 in /opt/conda/lib/python3.7/site-packages (from pexpect; sys_platform != \"win32\"->ipython->ipython-autotime) (0.6.0)\r\n",
      "Installing collected packages: ipython-autotime\r\n",
      "Successfully installed ipython-autotime-0.2.0\r\n",
      "time: 522 µs\n"
     ]
    }
   ],
   "source": [
    "!pip install ipython-autotime\n",
    " \n",
    "%load_ext autotime"
   ]
  },
  {
   "cell_type": "code",
   "execution_count": 2,
   "metadata": {
    "_cell_guid": "79c7e3d0-c299-4dcb-8224-4455121ee9b0",
    "_uuid": "d629ff2d2480ee46fbb7e2d37f6b5fab8052498a",
    "execution": {
     "iopub.execute_input": "2020-10-14T14:40:47.237143Z",
     "iopub.status.busy": "2020-10-14T14:40:47.231853Z",
     "iopub.status.idle": "2020-10-14T14:40:54.432043Z",
     "shell.execute_reply": "2020-10-14T14:40:54.431182Z"
    },
    "papermill": {
     "duration": 7.248726,
     "end_time": "2020-10-14T14:40:54.432157",
     "exception": false,
     "start_time": "2020-10-14T14:40:47.183431",
     "status": "completed"
    },
    "tags": []
   },
   "outputs": [
    {
     "name": "stdout",
     "output_type": "stream",
     "text": [
      "time: 7.2 s\n"
     ]
    }
   ],
   "source": [
    "import os\n",
    "import pandas as pd\n",
    "import numpy as np # linear algebra\n",
    "import pandas as pd # data processing, CSV file I/O (e.g. pd.read_csv)\n",
    "import matplotlib.pyplot as plt\n",
    "%matplotlib inline\n",
    "import seaborn as sns\n",
    "sns.set()\n",
    "from PIL import Image\n",
    "from glob import glob\n",
    "from skimage.io import imread\n",
    "from os import listdir\n",
    "from sklearn.preprocessing import LabelEncoder\n",
    "import time\n",
    "import cv2\n",
    "import copy\n",
    "from random import shuffle\n",
    "from tqdm import tqdm_notebook as tqdm\n",
    "from sklearn.model_selection import train_test_split\n",
    "from keras.utils.np_utils import to_categorical\n",
    "from sklearn.metrics import accuracy_score\n",
    "from sklearn.metrics import confusion_matrix\n",
    "from sklearn.metrics import classification_report\n",
    "from sklearn.metrics import plot_roc_curve\n",
    "from sklearn.metrics import precision_recall_fscore_support\n",
    "from imblearn.metrics import sensitivity_specificity_support\n",
    "from imgaug import augmenters as iaa\n",
    "import imgaug as ia\n",
    "\n",
    "\n",
    "# import numpy as np\n",
    "# import matplotlib.pyplot as plt\n",
    "from itertools import cycle\n",
    "\n",
    "# from sklearn import svm, datasets\n",
    "from sklearn.metrics import roc_curve, auc\n",
    "# from sklearn.model_selection import train_test_split\n",
    "# from sklearn.preprocessing import label_binarize\n",
    "# from sklearn.multiclass import OneVsRestClassifier\n",
    "from scipy import interp\n",
    "from sklearn.metrics import roc_auc_score\n",
    "\n",
    "from keras.applications.resnet50 import ResNet50, preprocess_input\n",
    "from keras.utils.vis_utils import plot_model\n",
    "from keras.optimizers import SGD,Adam\n",
    "import numpy as np\n",
    "from keras.applications.vgg16 import VGG16\n",
    "from keras.layers import Dense, GlobalAveragePooling2D, Dropout,concatenate\n",
    "from keras.layers import Conv2D, MaxPooling2D, Input, Flatten, BatchNormalization\n",
    "from keras.layers import Input\n",
    "from keras.callbacks import ModelCheckpoint, ReduceLROnPlateau, EarlyStopping, TensorBoard,CSVLogger\n",
    "# import tools\n",
    "import gc\n",
    "from sklearn.metrics import precision_score,recall_score,f1_score,confusion_matrix\n",
    "from keras.models import Model\n",
    "import keras\n",
    "# import channel_attention"
   ]
  },
  {
   "cell_type": "code",
   "execution_count": 3,
   "metadata": {
    "execution": {
     "iopub.execute_input": "2020-10-14T14:40:54.492283Z",
     "iopub.status.busy": "2020-10-14T14:40:54.491492Z",
     "iopub.status.idle": "2020-10-14T14:40:54.499400Z",
     "shell.execute_reply": "2020-10-14T14:40:54.500068Z"
    },
    "papermill": {
     "duration": 0.040141,
     "end_time": "2020-10-14T14:40:54.500227",
     "exception": false,
     "start_time": "2020-10-14T14:40:54.460086",
     "status": "completed"
    },
    "tags": []
   },
   "outputs": [
    {
     "name": "stdout",
     "output_type": "stream",
     "text": [
      "['colon_n', 'lung_scc', 'lung_aca', 'colon_aca', 'lung_n']\n",
      "time: 3.39 ms\n"
     ]
    }
   ],
   "source": [
    "folder = os.listdir(\"../input/lung-colon-sobel/trainable_sobel\")\n",
    "print(folder)"
   ]
  },
  {
   "cell_type": "code",
   "execution_count": 4,
   "metadata": {
    "execution": {
     "iopub.execute_input": "2020-10-14T14:40:54.562896Z",
     "iopub.status.busy": "2020-10-14T14:40:54.562279Z",
     "iopub.status.idle": "2020-10-14T14:40:54.788813Z",
     "shell.execute_reply": "2020-10-14T14:40:54.787032Z"
    },
    "papermill": {
     "duration": 0.26081,
     "end_time": "2020-10-14T14:40:54.788947",
     "exception": false,
     "start_time": "2020-10-14T14:40:54.528137",
     "status": "completed"
    },
    "tags": []
   },
   "outputs": [
    {
     "name": "stdout",
     "output_type": "stream",
     "text": [
      "../input/lung-colon-sobel/trainable_sobel/colon_n\n",
      "5000\n",
      "../input/lung-colon-sobel/trainable_sobel/lung_scc\n",
      "5000\n",
      "../input/lung-colon-sobel/trainable_sobel/lung_aca\n",
      "5000\n",
      "../input/lung-colon-sobel/trainable_sobel/colon_aca\n",
      "5000\n",
      "../input/lung-colon-sobel/trainable_sobel/lung_n\n",
      "5000\n",
      "The number of total images are:25000\n",
      "[5000, 5000, 5000, 5000, 5000]\n",
      "time: 222 ms\n"
     ]
    }
   ],
   "source": [
    "base_path = \"../input/lung-colon-sobel/trainable_sobel\"\n",
    "total_images = 0\n",
    "image_class =[]\n",
    "for n in range(len(folder)):\n",
    "  image_path = os.path.join(base_path, folder[n]) \n",
    "  print(image_path)\n",
    "  # class_path = patient_path + \"/\" + str(c) + \"/\"\n",
    "  subfiles = os.listdir(image_path)\n",
    "  print(len(subfiles))\n",
    "  image_class.append(len(subfiles))\n",
    "  total_images += len(subfiles)\n",
    "print(\"The number of total images are:{}\".format(total_images))  \n",
    "print(image_class)"
   ]
  },
  {
   "cell_type": "code",
   "execution_count": 5,
   "metadata": {
    "execution": {
     "iopub.execute_input": "2020-10-14T14:40:54.870206Z",
     "iopub.status.busy": "2020-10-14T14:40:54.869332Z",
     "iopub.status.idle": "2020-10-14T14:40:59.842670Z",
     "shell.execute_reply": "2020-10-14T14:40:59.843380Z"
    },
    "papermill": {
     "duration": 5.023072,
     "end_time": "2020-10-14T14:40:59.843550",
     "exception": false,
     "start_time": "2020-10-14T14:40:54.820478",
     "status": "completed"
    },
    "tags": []
   },
   "outputs": [
    {
     "data": {
      "text/html": [
       "<div>\n",
       "<style scoped>\n",
       "    .dataframe tbody tr th:only-of-type {\n",
       "        vertical-align: middle;\n",
       "    }\n",
       "\n",
       "    .dataframe tbody tr th {\n",
       "        vertical-align: top;\n",
       "    }\n",
       "\n",
       "    .dataframe thead th {\n",
       "        text-align: right;\n",
       "    }\n",
       "</style>\n",
       "<table border=\"1\" class=\"dataframe\">\n",
       "  <thead>\n",
       "    <tr style=\"text-align: right;\">\n",
       "      <th></th>\n",
       "      <th>path</th>\n",
       "      <th>target</th>\n",
       "    </tr>\n",
       "  </thead>\n",
       "  <tbody>\n",
       "    <tr>\n",
       "      <th>0</th>\n",
       "      <td>../input/lung-colon-sobel/trainable_sobel/colo...</td>\n",
       "      <td>colon_n</td>\n",
       "    </tr>\n",
       "    <tr>\n",
       "      <th>1</th>\n",
       "      <td>../input/lung-colon-sobel/trainable_sobel/colo...</td>\n",
       "      <td>colon_n</td>\n",
       "    </tr>\n",
       "    <tr>\n",
       "      <th>2</th>\n",
       "      <td>../input/lung-colon-sobel/trainable_sobel/colo...</td>\n",
       "      <td>colon_n</td>\n",
       "    </tr>\n",
       "    <tr>\n",
       "      <th>3</th>\n",
       "      <td>../input/lung-colon-sobel/trainable_sobel/colo...</td>\n",
       "      <td>colon_n</td>\n",
       "    </tr>\n",
       "    <tr>\n",
       "      <th>4</th>\n",
       "      <td>../input/lung-colon-sobel/trainable_sobel/colo...</td>\n",
       "      <td>colon_n</td>\n",
       "    </tr>\n",
       "  </tbody>\n",
       "</table>\n",
       "</div>"
      ],
      "text/plain": [
       "                                                path   target\n",
       "0  ../input/lung-colon-sobel/trainable_sobel/colo...  colon_n\n",
       "1  ../input/lung-colon-sobel/trainable_sobel/colo...  colon_n\n",
       "2  ../input/lung-colon-sobel/trainable_sobel/colo...  colon_n\n",
       "3  ../input/lung-colon-sobel/trainable_sobel/colo...  colon_n\n",
       "4  ../input/lung-colon-sobel/trainable_sobel/colo...  colon_n"
      ]
     },
     "execution_count": 5,
     "metadata": {},
     "output_type": "execute_result"
    },
    {
     "name": "stdout",
     "output_type": "stream",
     "text": [
      "time: 4.98 s\n"
     ]
    }
   ],
   "source": [
    "data = pd.DataFrame(index=np.arange(0, total_images), columns=[\"path\", \"target\"])\n",
    "\n",
    "k = 0\n",
    "for n in range(len(folder)):\n",
    "    class_id = folder[n]\n",
    "    final_path = os.path.join(base_path,class_id) \n",
    "    subfiles = os.listdir(final_path)\n",
    "    for m in range(len(subfiles)):\n",
    "      image_path = subfiles[m]\n",
    "      data.iloc[k][\"path\"] = os.path.join(final_path,image_path)\n",
    "      data.iloc[k][\"target\"] = class_id\n",
    "      k += 1  \n",
    "\n",
    "data.head()"
   ]
  },
  {
   "cell_type": "code",
   "execution_count": 6,
   "metadata": {
    "execution": {
     "iopub.execute_input": "2020-10-14T14:40:59.915845Z",
     "iopub.status.busy": "2020-10-14T14:40:59.914912Z",
     "iopub.status.idle": "2020-10-14T14:40:59.921688Z",
     "shell.execute_reply": "2020-10-14T14:40:59.921202Z"
    },
    "papermill": {
     "duration": 0.047112,
     "end_time": "2020-10-14T14:40:59.921786",
     "exception": false,
     "start_time": "2020-10-14T14:40:59.874674",
     "status": "completed"
    },
    "tags": []
   },
   "outputs": [
    {
     "data": {
      "text/plain": [
       "array(['colon_n', 'lung_scc', 'lung_aca', 'colon_aca', 'lung_n'],\n",
       "      dtype=object)"
      ]
     },
     "execution_count": 6,
     "metadata": {},
     "output_type": "execute_result"
    },
    {
     "name": "stdout",
     "output_type": "stream",
     "text": [
      "time: 6.92 ms\n"
     ]
    }
   ],
   "source": [
    "data['target'].unique()"
   ]
  },
  {
   "cell_type": "code",
   "execution_count": 7,
   "metadata": {
    "execution": {
     "iopub.execute_input": "2020-10-14T14:40:59.999460Z",
     "iopub.status.busy": "2020-10-14T14:40:59.992537Z",
     "iopub.status.idle": "2020-10-14T14:41:00.018704Z",
     "shell.execute_reply": "2020-10-14T14:41:00.019365Z"
    },
    "papermill": {
     "duration": 0.066079,
     "end_time": "2020-10-14T14:41:00.019513",
     "exception": false,
     "start_time": "2020-10-14T14:40:59.953434",
     "status": "completed"
    },
    "tags": []
   },
   "outputs": [
    {
     "data": {
      "text/html": [
       "<div>\n",
       "<style scoped>\n",
       "    .dataframe tbody tr th:only-of-type {\n",
       "        vertical-align: middle;\n",
       "    }\n",
       "\n",
       "    .dataframe tbody tr th {\n",
       "        vertical-align: top;\n",
       "    }\n",
       "\n",
       "    .dataframe thead th {\n",
       "        text-align: right;\n",
       "    }\n",
       "</style>\n",
       "<table border=\"1\" class=\"dataframe\">\n",
       "  <thead>\n",
       "    <tr style=\"text-align: right;\">\n",
       "      <th></th>\n",
       "      <th>path</th>\n",
       "      <th>target</th>\n",
       "      <th>target_label</th>\n",
       "    </tr>\n",
       "  </thead>\n",
       "  <tbody>\n",
       "    <tr>\n",
       "      <th>0</th>\n",
       "      <td>../input/lung-colon-sobel/trainable_sobel/lung...</td>\n",
       "      <td>lung_aca</td>\n",
       "      <td>2</td>\n",
       "    </tr>\n",
       "    <tr>\n",
       "      <th>1</th>\n",
       "      <td>../input/lung-colon-sobel/trainable_sobel/colo...</td>\n",
       "      <td>colon_n</td>\n",
       "      <td>1</td>\n",
       "    </tr>\n",
       "    <tr>\n",
       "      <th>2</th>\n",
       "      <td>../input/lung-colon-sobel/trainable_sobel/lung...</td>\n",
       "      <td>lung_aca</td>\n",
       "      <td>2</td>\n",
       "    </tr>\n",
       "    <tr>\n",
       "      <th>3</th>\n",
       "      <td>../input/lung-colon-sobel/trainable_sobel/lung...</td>\n",
       "      <td>lung_n</td>\n",
       "      <td>3</td>\n",
       "    </tr>\n",
       "    <tr>\n",
       "      <th>4</th>\n",
       "      <td>../input/lung-colon-sobel/trainable_sobel/lung...</td>\n",
       "      <td>lung_scc</td>\n",
       "      <td>4</td>\n",
       "    </tr>\n",
       "    <tr>\n",
       "      <th>...</th>\n",
       "      <td>...</td>\n",
       "      <td>...</td>\n",
       "      <td>...</td>\n",
       "    </tr>\n",
       "    <tr>\n",
       "      <th>24995</th>\n",
       "      <td>../input/lung-colon-sobel/trainable_sobel/lung...</td>\n",
       "      <td>lung_n</td>\n",
       "      <td>3</td>\n",
       "    </tr>\n",
       "    <tr>\n",
       "      <th>24996</th>\n",
       "      <td>../input/lung-colon-sobel/trainable_sobel/lung...</td>\n",
       "      <td>lung_scc</td>\n",
       "      <td>4</td>\n",
       "    </tr>\n",
       "    <tr>\n",
       "      <th>24997</th>\n",
       "      <td>../input/lung-colon-sobel/trainable_sobel/colo...</td>\n",
       "      <td>colon_aca</td>\n",
       "      <td>0</td>\n",
       "    </tr>\n",
       "    <tr>\n",
       "      <th>24998</th>\n",
       "      <td>../input/lung-colon-sobel/trainable_sobel/colo...</td>\n",
       "      <td>colon_n</td>\n",
       "      <td>1</td>\n",
       "    </tr>\n",
       "    <tr>\n",
       "      <th>24999</th>\n",
       "      <td>../input/lung-colon-sobel/trainable_sobel/lung...</td>\n",
       "      <td>lung_n</td>\n",
       "      <td>3</td>\n",
       "    </tr>\n",
       "  </tbody>\n",
       "</table>\n",
       "<p>25000 rows × 3 columns</p>\n",
       "</div>"
      ],
      "text/plain": [
       "                                                    path     target  \\\n",
       "0      ../input/lung-colon-sobel/trainable_sobel/lung...   lung_aca   \n",
       "1      ../input/lung-colon-sobel/trainable_sobel/colo...    colon_n   \n",
       "2      ../input/lung-colon-sobel/trainable_sobel/lung...   lung_aca   \n",
       "3      ../input/lung-colon-sobel/trainable_sobel/lung...     lung_n   \n",
       "4      ../input/lung-colon-sobel/trainable_sobel/lung...   lung_scc   \n",
       "...                                                  ...        ...   \n",
       "24995  ../input/lung-colon-sobel/trainable_sobel/lung...     lung_n   \n",
       "24996  ../input/lung-colon-sobel/trainable_sobel/lung...   lung_scc   \n",
       "24997  ../input/lung-colon-sobel/trainable_sobel/colo...  colon_aca   \n",
       "24998  ../input/lung-colon-sobel/trainable_sobel/colo...    colon_n   \n",
       "24999  ../input/lung-colon-sobel/trainable_sobel/lung...     lung_n   \n",
       "\n",
       "       target_label  \n",
       "0                 2  \n",
       "1                 1  \n",
       "2                 2  \n",
       "3                 3  \n",
       "4                 4  \n",
       "...             ...  \n",
       "24995             3  \n",
       "24996             4  \n",
       "24997             0  \n",
       "24998             1  \n",
       "24999             3  \n",
       "\n",
       "[25000 rows x 3 columns]"
      ]
     },
     "execution_count": 7,
     "metadata": {},
     "output_type": "execute_result"
    },
    {
     "name": "stdout",
     "output_type": "stream",
     "text": [
      "time: 25.1 ms\n"
     ]
    }
   ],
   "source": [
    "# creating instance of labelencoder\n",
    "labelencoder = LabelEncoder()\n",
    "# Assigning numerical values and storing in another column\n",
    "data['target_label'] = labelencoder.fit_transform(data['target'])\n",
    "data = data.sample(frac=1).reset_index(drop=True)\n",
    "data"
   ]
  },
  {
   "cell_type": "code",
   "execution_count": 8,
   "metadata": {
    "execution": {
     "iopub.execute_input": "2020-10-14T14:41:00.092256Z",
     "iopub.status.busy": "2020-10-14T14:41:00.091521Z",
     "iopub.status.idle": "2020-10-14T14:41:00.095851Z",
     "shell.execute_reply": "2020-10-14T14:41:00.096636Z"
    },
    "papermill": {
     "duration": 0.043204,
     "end_time": "2020-10-14T14:41:00.096846",
     "exception": false,
     "start_time": "2020-10-14T14:41:00.053642",
     "status": "completed"
    },
    "tags": []
   },
   "outputs": [
    {
     "name": "stdout",
     "output_type": "stream",
     "text": [
      "time: 325 µs\n"
     ]
    }
   ],
   "source": [
    "#data.iloc[1000,:]"
   ]
  },
  {
   "cell_type": "code",
   "execution_count": 9,
   "metadata": {
    "execution": {
     "iopub.execute_input": "2020-10-14T14:41:00.170334Z",
     "iopub.status.busy": "2020-10-14T14:41:00.169464Z",
     "iopub.status.idle": "2020-10-14T14:41:00.173457Z",
     "shell.execute_reply": "2020-10-14T14:41:00.174294Z"
    },
    "papermill": {
     "duration": 0.041932,
     "end_time": "2020-10-14T14:41:00.174448",
     "exception": false,
     "start_time": "2020-10-14T14:41:00.132516",
     "status": "completed"
    },
    "tags": []
   },
   "outputs": [
    {
     "name": "stdout",
     "output_type": "stream",
     "text": [
      "time: 367 µs\n"
     ]
    }
   ],
   "source": [
    "#data.groupby(\"target_label\").size()"
   ]
  },
  {
   "cell_type": "code",
   "execution_count": 10,
   "metadata": {
    "execution": {
     "iopub.execute_input": "2020-10-14T14:41:00.254576Z",
     "iopub.status.busy": "2020-10-14T14:41:00.253760Z",
     "iopub.status.idle": "2020-10-14T14:41:00.729945Z",
     "shell.execute_reply": "2020-10-14T14:41:00.731277Z"
    },
    "papermill": {
     "duration": 0.52052,
     "end_time": "2020-10-14T14:41:00.731465",
     "exception": false,
     "start_time": "2020-10-14T14:41:00.210945",
     "status": "completed"
    },
    "tags": []
   },
   "outputs": [
    {
     "data": {
      "image/png": "[encoded data removed]",
      "text/plain": [
       "<Figure size 1440x360 with 2 Axes>"
      ]
     },
     "metadata": {},
     "output_type": "display_data"
    },
    {
     "name": "stdout",
     "output_type": "stream",
     "text": [
      "time: 473 ms\n"
     ]
    }
   ],
   "source": [
    "# cancer_perc = data.groupby(\"patient_id\").target.value_counts()/ data.groupby(\"patient_id\").target.size()\n",
    "# cancer_perc = cancer_perc.unstack()\n",
    "\n",
    "fig, ax = plt.subplots(1,2,figsize=(20,5))\n",
    "sns.distplot(data.groupby(\"target_label\").size(), ax=ax[0], color=\"Orange\", kde=False)\n",
    "ax[0].set_xlabel(\"Number of images\")\n",
    "ax[0].set_ylabel(\"Frequency\");\n",
    "\n",
    "sns.countplot(data.target, palette=\"Set2\", ax=ax[1]);\n",
    "ax[1].set_xlabel(\"Names of Class\")\n",
    "ax[1].set_title(\"Data Distribution\");"
   ]
  },
  {
   "cell_type": "code",
   "execution_count": 11,
   "metadata": {
    "execution": {
     "iopub.execute_input": "2020-10-14T14:41:00.817078Z",
     "iopub.status.busy": "2020-10-14T14:41:00.816237Z",
     "iopub.status.idle": "2020-10-14T14:41:00.820762Z",
     "shell.execute_reply": "2020-10-14T14:41:00.821468Z"
    },
    "papermill": {
     "duration": 0.05006,
     "end_time": "2020-10-14T14:41:00.821638",
     "exception": false,
     "start_time": "2020-10-14T14:41:00.771578",
     "status": "completed"
    },
    "tags": []
   },
   "outputs": [
    {
     "name": "stdout",
     "output_type": "stream",
     "text": [
      "time: 405 µs\n"
     ]
    }
   ],
   "source": [
    "#data.info()"
   ]
  },
  {
   "cell_type": "code",
   "execution_count": 12,
   "metadata": {
    "execution": {
     "iopub.execute_input": "2020-10-14T14:41:00.909116Z",
     "iopub.status.busy": "2020-10-14T14:41:00.908213Z",
     "iopub.status.idle": "2020-10-14T14:41:00.912332Z",
     "shell.execute_reply": "2020-10-14T14:41:00.913199Z"
    },
    "papermill": {
     "duration": 0.05021,
     "end_time": "2020-10-14T14:41:00.913363",
     "exception": false,
     "start_time": "2020-10-14T14:41:00.863153",
     "status": "completed"
    },
    "tags": []
   },
   "outputs": [
    {
     "name": "stdout",
     "output_type": "stream",
     "text": [
      "time: 371 µs\n"
     ]
    }
   ],
   "source": [
    "#data.describe()"
   ]
  },
  {
   "cell_type": "code",
   "execution_count": 13,
   "metadata": {
    "execution": {
     "iopub.execute_input": "2020-10-14T14:41:00.997140Z",
     "iopub.status.busy": "2020-10-14T14:41:00.996315Z",
     "iopub.status.idle": "2020-10-14T14:41:01.000730Z",
     "shell.execute_reply": "2020-10-14T14:41:01.001487Z"
    },
    "papermill": {
     "duration": 0.048117,
     "end_time": "2020-10-14T14:41:01.001649",
     "exception": false,
     "start_time": "2020-10-14T14:41:00.953532",
     "status": "completed"
    },
    "tags": []
   },
   "outputs": [
    {
     "name": "stdout",
     "output_type": "stream",
     "text": [
      "time: 386 µs\n"
     ]
    }
   ],
   "source": [
    "#data.target_label"
   ]
  },
  {
   "cell_type": "code",
   "execution_count": 14,
   "metadata": {
    "execution": {
     "iopub.execute_input": "2020-10-14T14:41:01.093774Z",
     "iopub.status.busy": "2020-10-14T14:41:01.093060Z",
     "iopub.status.idle": "2020-10-14T14:41:01.102618Z",
     "shell.execute_reply": "2020-10-14T14:41:01.103264Z"
    },
    "papermill": {
     "duration": 0.058781,
     "end_time": "2020-10-14T14:41:01.103414",
     "exception": false,
     "start_time": "2020-10-14T14:41:01.044633",
     "status": "completed"
    },
    "tags": []
   },
   "outputs": [
    {
     "name": "stdout",
     "output_type": "stream",
     "text": [
      "(17500,)\n",
      "(7500,)\n",
      "time: 6.73 ms\n"
     ]
    }
   ],
   "source": [
    "X = data.path\n",
    "y = data.target_label\n",
    "X_train, X_test_sub ,y_train,y_test_sub= train_test_split(X,y, test_size=0.3, random_state=0,shuffle = True)\n",
    "print(X_train.shape)\n",
    "print(X_test_sub.shape)"
   ]
  },
  {
   "cell_type": "code",
   "execution_count": 15,
   "metadata": {
    "execution": {
     "iopub.execute_input": "2020-10-14T14:41:01.183848Z",
     "iopub.status.busy": "2020-10-14T14:41:01.183055Z",
     "iopub.status.idle": "2020-10-14T14:41:01.190989Z",
     "shell.execute_reply": "2020-10-14T14:41:01.190367Z"
    },
    "papermill": {
     "duration": 0.051144,
     "end_time": "2020-10-14T14:41:01.191141",
     "exception": false,
     "start_time": "2020-10-14T14:41:01.139997",
     "status": "completed"
    },
    "tags": []
   },
   "outputs": [
    {
     "name": "stdout",
     "output_type": "stream",
     "text": [
      "(3750,)\n",
      "(3750,)\n",
      "time: 3.29 ms\n"
     ]
    }
   ],
   "source": [
    "X_test,X_valid,y_test,y_valid = train_test_split(X_test_sub, y_test_sub, test_size=0.5, random_state=0 , shuffle =False)\n",
    "print(X_test.shape)\n",
    "print(X_valid.shape)"
   ]
  },
  {
   "cell_type": "code",
   "execution_count": 16,
   "metadata": {
    "execution": {
     "iopub.execute_input": "2020-10-14T14:41:01.275430Z",
     "iopub.status.busy": "2020-10-14T14:41:01.274438Z",
     "iopub.status.idle": "2020-10-14T14:41:01.786730Z",
     "shell.execute_reply": "2020-10-14T14:41:01.785643Z"
    },
    "papermill": {
     "duration": 0.557987,
     "end_time": "2020-10-14T14:41:01.786875",
     "exception": false,
     "start_time": "2020-10-14T14:41:01.228888",
     "status": "completed"
    },
    "tags": []
   },
   "outputs": [
    {
     "data": {
      "image/png": "[encoded data removed]",
      "text/plain": [
       "<Figure size 1440x360 with 3 Axes>"
      ]
     },
     "metadata": {},
     "output_type": "display_data"
    },
    {
     "name": "stdout",
     "output_type": "stream",
     "text": [
      "time: 508 ms\n"
     ]
    }
   ],
   "source": [
    "fig, ax = plt.subplots(1,3,figsize=(20,5))\n",
    "sns.countplot(y_train, ax=ax[0], palette=\"Reds\")\n",
    "ax[0].set_title(\"Train data\")\n",
    "sns.countplot(y_valid, ax=ax[1], palette=\"Blues\")\n",
    "ax[1].set_title(\"Dev data\")\n",
    "sns.countplot(y_test, ax=ax[2], palette=\"Greens\");\n",
    "ax[2].set_title(\"Test data\");"
   ]
  },
  {
   "cell_type": "code",
   "execution_count": 17,
   "metadata": {
    "execution": {
     "iopub.execute_input": "2020-10-14T14:41:01.883127Z",
     "iopub.status.busy": "2020-10-14T14:41:01.882129Z",
     "iopub.status.idle": "2020-10-14T14:41:01.889182Z",
     "shell.execute_reply": "2020-10-14T14:41:01.888367Z"
    },
    "papermill": {
     "duration": 0.057652,
     "end_time": "2020-10-14T14:41:01.889326",
     "exception": false,
     "start_time": "2020-10-14T14:41:01.831674",
     "status": "completed"
    },
    "tags": []
   },
   "outputs": [
    {
     "data": {
      "text/plain": [
       "array(['../input/lung-colon-sobel/trainable_sobel/lung_aca/lung_aca_sobel1875.jpeg',\n",
       "       '../input/lung-colon-sobel/trainable_sobel/colon_n/colon_n_sobel3207.jpeg',\n",
       "       '../input/lung-colon-sobel/trainable_sobel/lung_aca/lung_aca_sobel4409.jpeg',\n",
       "       ...,\n",
       "       '../input/lung-colon-sobel/trainable_sobel/colon_aca/colon_aca_sobel782.jpeg',\n",
       "       '../input/lung-colon-sobel/trainable_sobel/colon_n/colon_n_sobel3194.jpeg',\n",
       "       '../input/lung-colon-sobel/trainable_sobel/lung_n/lung_n_sobel2552.jpeg'],\n",
       "      dtype=object)"
      ]
     },
     "execution_count": 17,
     "metadata": {},
     "output_type": "execute_result"
    },
    {
     "name": "stdout",
     "output_type": "stream",
     "text": [
      "time: 2.67 ms\n"
     ]
    }
   ],
   "source": [
    "data.path.values"
   ]
  },
  {
   "cell_type": "code",
   "execution_count": 18,
   "metadata": {
    "execution": {
     "iopub.execute_input": "2020-10-14T14:41:01.989864Z",
     "iopub.status.busy": "2020-10-14T14:41:01.987145Z",
     "iopub.status.idle": "2020-10-14T14:41:01.994182Z",
     "shell.execute_reply": "2020-10-14T14:41:01.993466Z"
    },
    "papermill": {
     "duration": 0.059652,
     "end_time": "2020-10-14T14:41:01.994308",
     "exception": false,
     "start_time": "2020-10-14T14:41:01.934656",
     "status": "completed"
    },
    "tags": []
   },
   "outputs": [
    {
     "name": "stdout",
     "output_type": "stream",
     "text": [
      "time: 11.7 ms\n"
     ]
    }
   ],
   "source": [
    "target_label_map = {k:v for k,v in zip(data.path.values,data.target_label.values)}"
   ]
  },
  {
   "cell_type": "code",
   "execution_count": 19,
   "metadata": {
    "execution": {
     "iopub.execute_input": "2020-10-14T14:41:02.111001Z",
     "iopub.status.busy": "2020-10-14T14:41:02.100573Z",
     "iopub.status.idle": "2020-10-14T14:41:02.122530Z",
     "shell.execute_reply": "2020-10-14T14:41:02.123134Z"
    },
    "papermill": {
     "duration": 0.077994,
     "end_time": "2020-10-14T14:41:02.123286",
     "exception": false,
     "start_time": "2020-10-14T14:41:02.045292",
     "status": "completed"
    },
    "tags": []
   },
   "outputs": [
    {
     "name": "stdout",
     "output_type": "stream",
     "text": [
      "time: 10.5 ms\n"
     ]
    }
   ],
   "source": [
    "def chunker(seq, size):\n",
    "    return (seq[pos:pos + size] for pos in range(0, len(seq), size))\n",
    "def get_seq():\n",
    "    sometimes = lambda aug: iaa.Sometimes(0.5, aug)\n",
    "    seq = iaa.Sequential(\n",
    "        [\n",
    "            # apply the following augmenters to most images\n",
    "            iaa.Fliplr(0.5), # horizontally flip 50% of all images\n",
    "            iaa.Flipud(0.2), # vertically flip 20% of all images\n",
    "            sometimes(iaa.Affine(\n",
    "                scale={\"x\": (0.9, 1.1), \"y\": (0.9, 1.1)}, # scale images to 80-120% of their size, individually per axis\n",
    "                translate_percent={\"x\": (-0.1, 0.1), \"y\": (-0.1, 0.1)}, # translate by -20 to +20 percent (per axis)\n",
    "                rotate=(-10, 10), # rotate by -45 to +45 degrees\n",
    "                shear=(-5, 5), # shear by -16 to +16 degrees\n",
    "                order=[0, 1], # use nearest neighbour or bilinear interpolation (fast)\n",
    "                cval=(0, 255), # if mode is constant, use a cval between 0 and 255\n",
    "                mode=ia.ALL # use any of scikit-image's warping modes (see 2nd image from the top for examples)\n",
    "            )),\n",
    "            # execute 0 to 5 of the following (less important) augmenters per image\n",
    "            # don't execute all of them, as that would often be way too strong\n",
    "            iaa.SomeOf((0, 5),\n",
    "                [\n",
    "                    sometimes(iaa.Superpixels(p_replace=(0, 1.0), n_segments=(20, 200))), # convert images into their superpixel representation\n",
    "                    iaa.OneOf([\n",
    "                        iaa.GaussianBlur((0, 1.0)), # blur images with a sigma between 0 and 3.0\n",
    "                        iaa.AverageBlur(k=(3, 5)), # blur image using local means with kernel sizes between 2 and 7\n",
    "                        iaa.MedianBlur(k=(3, 5)), # blur image using local medians with kernel sizes between 2 and 7\n",
    "                    ]),\n",
    "                    iaa.Sharpen(alpha=(0, 1.0), lightness=(0.9, 1.1)), # sharpen images\n",
    "                    iaa.Emboss(alpha=(0, 1.0), strength=(0, 2.0)), # emboss images\n",
    "                    # search either for all edges or for directed edges,\n",
    "                    # blend the result with the original image using a blobby mask\n",
    "                    iaa.SimplexNoiseAlpha(iaa.OneOf([\n",
    "                        iaa.EdgeDetect(alpha=(0.5, 1.0)),\n",
    "                        iaa.DirectedEdgeDetect(alpha=(0.5, 1.0), direction=(0.0, 1.0)),\n",
    "                    ])),\n",
    "                    iaa.AdditiveGaussianNoise(loc=0, scale=(0.0, 0.01*255), per_channel=0.5), # add gaussian noise to images\n",
    "                    iaa.OneOf([\n",
    "                        iaa.Dropout((0.01, 0.05), per_channel=0.5), # randomly remove up to 10% of the pixels\n",
    "                        iaa.CoarseDropout((0.01, 0.03), size_percent=(0.01, 0.02), per_channel=0.2),\n",
    "                    ]),\n",
    "                    iaa.Invert(0.01, per_channel=True), # invert color channels\n",
    "                    iaa.Add((-2, 2), per_channel=0.5), # change brightness of images (by -10 to 10 of original value)\n",
    "                    iaa.AddToHueAndSaturation((-1, 1)), # change hue and saturation\n",
    "                    # either change the brightness of the whole image (sometimes\n",
    "                    # per channel) or change the brightness of subareas\n",
    "                    iaa.OneOf([\n",
    "                        iaa.Multiply((0.9, 1.1), per_channel=0.5),\n",
    "                        iaa.FrequencyNoiseAlpha(\n",
    "                            exponent=(-1, 0),\n",
    "                            first=iaa.Multiply((0.9, 1.1), per_channel=True),\n",
    "                            second=iaa.ContrastNormalization((0.9, 1.1))\n",
    "                        )\n",
    "                    ]),\n",
    "                    sometimes(iaa.ElasticTransformation(alpha=(0.5, 3.5), sigma=0.25)), # move pixels locally around (with random strengths)\n",
    "                    sometimes(iaa.PiecewiseAffine(scale=(0.01, 0.05))), # sometimes move parts of the image around\n",
    "                    sometimes(iaa.PerspectiveTransform(scale=(0.01, 0.1)))\n",
    "                ],\n",
    "                random_order=True\n",
    "            )\n",
    "        ],\n",
    "        random_order=True\n",
    "    )\n",
    "    return seq\n",
    "\n",
    "def data_gen(list_files, target_label_map, batch_size, augment=False):\n",
    "    seq = get_seq()\n",
    "    while True:\n",
    "        # shuffle(list_files)\n",
    "        for batch in chunker(list_files, batch_size):\n",
    "            X = [cv2.resize(cv2.imread(x),(224,224),interpolation=cv2.INTER_CUBIC) for x in batch]\n",
    "            # for x in X:\n",
    "            #   X.append(cv2.resize(x,(224,224),interpolation=cv2.INTER_CUBIC))\n",
    "            # X = [cv2.resize(x,(224,224,3)) for x in X]\n",
    "            Y = [target_label_map[x] for x in batch]\n",
    "            # print(Y)\n",
    "            Y = to_categorical(Y, num_classes = 5)\n",
    "            # print(Y)\n",
    "            if augment:\n",
    "                X = seq.augment_images(X)\n",
    "            X = [preprocess_input(x) for x in X]\n",
    "                \n",
    "            yield np.array(X), np.array(Y)\n",
    "    "
   ]
  },
  {
   "cell_type": "code",
   "execution_count": 20,
   "metadata": {
    "execution": {
     "iopub.execute_input": "2020-10-14T14:41:02.218812Z",
     "iopub.status.busy": "2020-10-14T14:41:02.217951Z",
     "iopub.status.idle": "2020-10-14T14:41:02.222275Z",
     "shell.execute_reply": "2020-10-14T14:41:02.222941Z"
    },
    "papermill": {
     "duration": 0.059388,
     "end_time": "2020-10-14T14:41:02.223114",
     "exception": false,
     "start_time": "2020-10-14T14:41:02.163726",
     "status": "completed"
    },
    "tags": []
   },
   "outputs": [
    {
     "name": "stdout",
     "output_type": "stream",
     "text": [
      "time: 3.1 ms\n"
     ]
    }
   ],
   "source": [
    "from keras.layers import Activation, Reshape, Lambda, dot, add\n",
    "from keras.layers import Conv1D, Conv2D, Conv3D\n",
    "from keras.layers import MaxPool1D,GlobalAveragePooling2D,Dense,multiply,Activation,concatenate\n",
    "from keras import backend as K\n",
    "\n",
    "\n",
    "def squeeze_excitation_layer(x, out_dim, ratio = 4, concate = True):\n",
    "    '''\n",
    "    SE module performs inter-channel weighting.\n",
    "    '''\n",
    "    squeeze = GlobalAveragePooling2D()(x)\n",
    "\n",
    "    excitation = Dense(units=out_dim //ratio)(squeeze)\n",
    "    excitation = Activation('relu')(excitation)\n",
    "    excitation = Dense(units=out_dim)(excitation)\n",
    "    excitation = Activation('sigmoid')(excitation)\n",
    "    print(excitation.shape)\n",
    "    excitation = Reshape((1, 1, out_dim))(excitation)\n",
    "\n",
    "    scale = multiply([x, excitation])\n",
    "\n",
    "    if concate:\n",
    "        scale = concatenate([scale, x],axis=3)\n",
    "    return scale"
   ]
  },
  {
   "cell_type": "code",
   "execution_count": 21,
   "metadata": {
    "execution": {
     "iopub.execute_input": "2020-10-14T14:41:02.323200Z",
     "iopub.status.busy": "2020-10-14T14:41:02.322484Z",
     "iopub.status.idle": "2020-10-14T14:41:07.982890Z",
     "shell.execute_reply": "2020-10-14T14:41:07.982110Z"
    },
    "papermill": {
     "duration": 5.715281,
     "end_time": "2020-10-14T14:41:07.983055",
     "exception": false,
     "start_time": "2020-10-14T14:41:02.267774",
     "status": "completed"
    },
    "tags": []
   },
   "outputs": [
    {
     "name": "stdout",
     "output_type": "stream",
     "text": [
      "Downloading data from https://storage.googleapis.com/tensorflow/keras-applications/resnet/resnet50_weights_tf_dim_ordering_tf_kernels_notop.h5\n",
      "94773248/94765736 [==============================] - 1s 0us/step\n",
      "(None, 7, 7, 2048)\n",
      "(None, 2048)\n",
      "time: 5.66 s\n"
     ]
    }
   ],
   "source": [
    "\n",
    "\n",
    "adam = Adam(lr=0.005, beta_1=0.9, beta_2=0.999, epsilon=1e-08, decay=0.0009)\n",
    "sgd = SGD(lr=0.001, momentum=0.9, decay=0.0, nesterov=False)\n",
    "\n",
    "input_tensor = Input(shape=(224,224, 3))\n",
    "#backbone\n",
    "base_model = ResNet50(input_tensor= input_tensor, weights='imagenet', include_top=False)\n",
    "base_output = base_model.output\n",
    "print(base_output.shape)\n",
    "# channel-attention\n",
    "x = squeeze_excitation_layer(base_output, 2048, ratio=4, concate=False)\n",
    "x = BatchNormalization()(x)\n",
    "\n",
    "# #concat\n",
    "x = concatenate([base_output, x], axis=3)\n",
    "# spp\n",
    "\n",
    "gap = GlobalAveragePooling2D()(x)\n",
    "x = Flatten()(x)\n",
    "x = concatenate([gap,x])\n",
    "x = Dense(512, activation='relu')(x)\n",
    "x = BatchNormalization()(x)\n",
    "x = Dense(512, activation='relu')(x)\n",
    "x = BatchNormalization()(x)\n",
    "predict = Dense(5, activation='softmax')(x)\n",
    "model = Model(inputs=input_tensor, outputs=predict)\n",
    "\n",
    "for layer in (base_model.layers):\n",
    "    layer.trainable = False\n",
    "\n",
    "model.compile(optimizer=adam,\n",
    "                      loss='categorical_crossentropy',\n",
    "                      metrics=[keras.metrics.categorical_accuracy])    \n",
    "\n",
    "# for l in model.layers:\n",
    "#   print(l.name)"
   ]
  },
  {
   "cell_type": "code",
   "execution_count": 22,
   "metadata": {
    "execution": {
     "iopub.execute_input": "2020-10-14T14:41:08.086314Z",
     "iopub.status.busy": "2020-10-14T14:41:08.084270Z",
     "iopub.status.idle": "2020-10-14T14:41:08.162247Z",
     "shell.execute_reply": "2020-10-14T14:41:08.160867Z"
    },
    "papermill": {
     "duration": 0.130724,
     "end_time": "2020-10-14T14:41:08.162393",
     "exception": false,
     "start_time": "2020-10-14T14:41:08.031669",
     "status": "completed"
    },
    "tags": []
   },
   "outputs": [
    {
     "name": "stdout",
     "output_type": "stream",
     "text": [
      "Model: \"functional_1\"\n",
      "__________________________________________________________________________________________________\n",
      "Layer (type)                    Output Shape         Param #     Connected to                     \n",
      "==================================================================================================\n",
      "input_1 (InputLayer)            [(None, 224, 224, 3) 0                                            \n",
      "__________________________________________________________________________________________________\n",
      "conv1_pad (ZeroPadding2D)       (None, 230, 230, 3)  0           input_1[0][0]                    \n",
      "__________________________________________________________________________________________________\n",
      "conv1_conv (Conv2D)             (None, 112, 112, 64) 9472        conv1_pad[0][0]                  \n",
      "__________________________________________________________________________________________________\n",
      "conv1_bn (BatchNormalization)   (None, 112, 112, 64) 256         conv1_conv[0][0]                 \n",
      "__________________________________________________________________________________________________\n",
      "conv1_relu (Activation)         (None, 112, 112, 64) 0           conv1_bn[0][0]                   \n",
      "__________________________________________________________________________________________________\n",
      "pool1_pad (ZeroPadding2D)       (None, 114, 114, 64) 0           conv1_relu[0][0]                 \n",
      "__________________________________________________________________________________________________\n",
      "pool1_pool (MaxPooling2D)       (None, 56, 56, 64)   0           pool1_pad[0][0]                  \n",
      "__________________________________________________________________________________________________\n",
      "conv2_block1_1_conv (Conv2D)    (None, 56, 56, 64)   4160        pool1_pool[0][0]                 \n",
      "__________________________________________________________________________________________________\n",
      "conv2_block1_1_bn (BatchNormali (None, 56, 56, 64)   256         conv2_block1_1_conv[0][0]        \n",
      "__________________________________________________________________________________________________\n",
      "conv2_block1_1_relu (Activation (None, 56, 56, 64)   0           conv2_block1_1_bn[0][0]          \n",
      "__________________________________________________________________________________________________\n",
      "conv2_block1_2_conv (Conv2D)    (None, 56, 56, 64)   36928       conv2_block1_1_relu[0][0]        \n",
      "__________________________________________________________________________________________________\n",
      "conv2_block1_2_bn (BatchNormali (None, 56, 56, 64)   256         conv2_block1_2_conv[0][0]        \n",
      "__________________________________________________________________________________________________\n",
      "conv2_block1_2_relu (Activation (None, 56, 56, 64)   0           conv2_block1_2_bn[0][0]          \n",
      "__________________________________________________________________________________________________\n",
      "conv2_block1_0_conv (Conv2D)    (None, 56, 56, 256)  16640       pool1_pool[0][0]                 \n",
      "__________________________________________________________________________________________________\n",
      "conv2_block1_3_conv (Conv2D)    (None, 56, 56, 256)  16640       conv2_block1_2_relu[0][0]        \n",
      "__________________________________________________________________________________________________\n",
      "conv2_block1_0_bn (BatchNormali (None, 56, 56, 256)  1024        conv2_block1_0_conv[0][0]        \n",
      "__________________________________________________________________________________________________\n",
      "conv2_block1_3_bn (BatchNormali (None, 56, 56, 256)  1024        conv2_block1_3_conv[0][0]        \n",
      "__________________________________________________________________________________________________\n",
      "conv2_block1_add (Add)          (None, 56, 56, 256)  0           conv2_block1_0_bn[0][0]          \n",
      "                                                                 conv2_block1_3_bn[0][0]          \n",
      "__________________________________________________________________________________________________\n",
      "conv2_block1_out (Activation)   (None, 56, 56, 256)  0           conv2_block1_add[0][0]           \n",
      "__________________________________________________________________________________________________\n",
      "conv2_block2_1_conv (Conv2D)    (None, 56, 56, 64)   16448       conv2_block1_out[0][0]           \n",
      "__________________________________________________________________________________________________\n",
      "conv2_block2_1_bn (BatchNormali (None, 56, 56, 64)   256         conv2_block2_1_conv[0][0]        \n",
      "__________________________________________________________________________________________________\n",
      "conv2_block2_1_relu (Activation (None, 56, 56, 64)   0           conv2_block2_1_bn[0][0]          \n",
      "__________________________________________________________________________________________________\n",
      "conv2_block2_2_conv (Conv2D)    (None, 56, 56, 64)   36928       conv2_block2_1_relu[0][0]        \n",
      "__________________________________________________________________________________________________\n",
      "conv2_block2_2_bn (BatchNormali (None, 56, 56, 64)   256         conv2_block2_2_conv[0][0]        \n",
      "__________________________________________________________________________________________________\n",
      "conv2_block2_2_relu (Activation (None, 56, 56, 64)   0           conv2_block2_2_bn[0][0]          \n",
      "__________________________________________________________________________________________________\n",
      "conv2_block2_3_conv (Conv2D)    (None, 56, 56, 256)  16640       conv2_block2_2_relu[0][0]        \n",
      "__________________________________________________________________________________________________\n",
      "conv2_block2_3_bn (BatchNormali (None, 56, 56, 256)  1024        conv2_block2_3_conv[0][0]        \n",
      "__________________________________________________________________________________________________\n",
      "conv2_block2_add (Add)          (None, 56, 56, 256)  0           conv2_block1_out[0][0]           \n",
      "                                                                 conv2_block2_3_bn[0][0]          \n",
      "__________________________________________________________________________________________________\n",
      "conv2_block2_out (Activation)   (None, 56, 56, 256)  0           conv2_block2_add[0][0]           \n",
      "__________________________________________________________________________________________________\n",
      "conv2_block3_1_conv (Conv2D)    (None, 56, 56, 64)   16448       conv2_block2_out[0][0]           \n",
      "__________________________________________________________________________________________________\n",
      "conv2_block3_1_bn (BatchNormali (None, 56, 56, 64)   256         conv2_block3_1_conv[0][0]        \n",
      "__________________________________________________________________________________________________\n",
      "conv2_block3_1_relu (Activation (None, 56, 56, 64)   0           conv2_block3_1_bn[0][0]          \n",
      "__________________________________________________________________________________________________\n",
      "conv2_block3_2_conv (Conv2D)    (None, 56, 56, 64)   36928       conv2_block3_1_relu[0][0]        \n",
      "__________________________________________________________________________________________________\n",
      "conv2_block3_2_bn (BatchNormali (None, 56, 56, 64)   256         conv2_block3_2_conv[0][0]        \n",
      "__________________________________________________________________________________________________\n",
      "conv2_block3_2_relu (Activation (None, 56, 56, 64)   0           conv2_block3_2_bn[0][0]          \n",
      "__________________________________________________________________________________________________\n",
      "conv2_block3_3_conv (Conv2D)    (None, 56, 56, 256)  16640       conv2_block3_2_relu[0][0]        \n",
      "__________________________________________________________________________________________________\n",
      "conv2_block3_3_bn (BatchNormali (None, 56, 56, 256)  1024        conv2_block3_3_conv[0][0]        \n",
      "__________________________________________________________________________________________________\n",
      "conv2_block3_add (Add)          (None, 56, 56, 256)  0           conv2_block2_out[0][0]           \n",
      "                                                                 conv2_block3_3_bn[0][0]          \n",
      "__________________________________________________________________________________________________\n",
      "conv2_block3_out (Activation)   (None, 56, 56, 256)  0           conv2_block3_add[0][0]           \n",
      "__________________________________________________________________________________________________\n",
      "conv3_block1_1_conv (Conv2D)    (None, 28, 28, 128)  32896       conv2_block3_out[0][0]           \n",
      "__________________________________________________________________________________________________\n",
      "conv3_block1_1_bn (BatchNormali (None, 28, 28, 128)  512         conv3_block1_1_conv[0][0]        \n",
      "__________________________________________________________________________________________________\n",
      "conv3_block1_1_relu (Activation (None, 28, 28, 128)  0           conv3_block1_1_bn[0][0]          \n",
      "__________________________________________________________________________________________________\n",
      "conv3_block1_2_conv (Conv2D)    (None, 28, 28, 128)  147584      conv3_block1_1_relu[0][0]        \n",
      "__________________________________________________________________________________________________\n",
      "conv3_block1_2_bn (BatchNormali (None, 28, 28, 128)  512         conv3_block1_2_conv[0][0]        \n",
      "__________________________________________________________________________________________________\n",
      "conv3_block1_2_relu (Activation (None, 28, 28, 128)  0           conv3_block1_2_bn[0][0]          \n",
      "__________________________________________________________________________________________________\n",
      "conv3_block1_0_conv (Conv2D)    (None, 28, 28, 512)  131584      conv2_block3_out[0][0]           \n",
      "__________________________________________________________________________________________________\n",
      "conv3_block1_3_conv (Conv2D)    (None, 28, 28, 512)  66048       conv3_block1_2_relu[0][0]        \n",
      "__________________________________________________________________________________________________\n",
      "conv3_block1_0_bn (BatchNormali (None, 28, 28, 512)  2048        conv3_block1_0_conv[0][0]        \n",
      "__________________________________________________________________________________________________\n",
      "conv3_block1_3_bn (BatchNormali (None, 28, 28, 512)  2048        conv3_block1_3_conv[0][0]        \n",
      "__________________________________________________________________________________________________\n",
      "conv3_block1_add (Add)          (None, 28, 28, 512)  0           conv3_block1_0_bn[0][0]          \n",
      "                                                                 conv3_block1_3_bn[0][0]          \n",
      "__________________________________________________________________________________________________\n",
      "conv3_block1_out (Activation)   (None, 28, 28, 512)  0           conv3_block1_add[0][0]           \n",
      "__________________________________________________________________________________________________\n",
      "conv3_block2_1_conv (Conv2D)    (None, 28, 28, 128)  65664       conv3_block1_out[0][0]           \n",
      "__________________________________________________________________________________________________\n",
      "conv3_block2_1_bn (BatchNormali (None, 28, 28, 128)  512         conv3_block2_1_conv[0][0]        \n",
      "__________________________________________________________________________________________________\n",
      "conv3_block2_1_relu (Activation (None, 28, 28, 128)  0           conv3_block2_1_bn[0][0]          \n",
      "__________________________________________________________________________________________________\n",
      "conv3_block2_2_conv (Conv2D)    (None, 28, 28, 128)  147584      conv3_block2_1_relu[0][0]        \n",
      "__________________________________________________________________________________________________\n",
      "conv3_block2_2_bn (BatchNormali (None, 28, 28, 128)  512         conv3_block2_2_conv[0][0]        \n",
      "__________________________________________________________________________________________________\n",
      "conv3_block2_2_relu (Activation (None, 28, 28, 128)  0           conv3_block2_2_bn[0][0]          \n",
      "__________________________________________________________________________________________________\n",
      "conv3_block2_3_conv (Conv2D)    (None, 28, 28, 512)  66048       conv3_block2_2_relu[0][0]        \n",
      "__________________________________________________________________________________________________\n",
      "conv3_block2_3_bn (BatchNormali (None, 28, 28, 512)  2048        conv3_block2_3_conv[0][0]        \n",
      "__________________________________________________________________________________________________\n",
      "conv3_block2_add (Add)          (None, 28, 28, 512)  0           conv3_block1_out[0][0]           \n",
      "                                                                 conv3_block2_3_bn[0][0]          \n",
      "__________________________________________________________________________________________________\n",
      "conv3_block2_out (Activation)   (None, 28, 28, 512)  0           conv3_block2_add[0][0]           \n",
      "__________________________________________________________________________________________________\n",
      "conv3_block3_1_conv (Conv2D)    (None, 28, 28, 128)  65664       conv3_block2_out[0][0]           \n",
      "__________________________________________________________________________________________________\n",
      "conv3_block3_1_bn (BatchNormali (None, 28, 28, 128)  512         conv3_block3_1_conv[0][0]        \n",
      "__________________________________________________________________________________________________\n",
      "conv3_block3_1_relu (Activation (None, 28, 28, 128)  0           conv3_block3_1_bn[0][0]          \n",
      "__________________________________________________________________________________________________\n",
      "conv3_block3_2_conv (Conv2D)    (None, 28, 28, 128)  147584      conv3_block3_1_relu[0][0]        \n",
      "__________________________________________________________________________________________________\n",
      "conv3_block3_2_bn (BatchNormali (None, 28, 28, 128)  512         conv3_block3_2_conv[0][0]        \n",
      "__________________________________________________________________________________________________\n",
      "conv3_block3_2_relu (Activation (None, 28, 28, 128)  0           conv3_block3_2_bn[0][0]          \n",
      "__________________________________________________________________________________________________\n",
      "conv3_block3_3_conv (Conv2D)    (None, 28, 28, 512)  66048       conv3_block3_2_relu[0][0]        \n",
      "__________________________________________________________________________________________________\n",
      "conv3_block3_3_bn (BatchNormali (None, 28, 28, 512)  2048        conv3_block3_3_conv[0][0]        \n",
      "__________________________________________________________________________________________________\n",
      "conv3_block3_add (Add)          (None, 28, 28, 512)  0           conv3_block2_out[0][0]           \n",
      "                                                                 conv3_block3_3_bn[0][0]          \n",
      "__________________________________________________________________________________________________\n",
      "conv3_block3_out (Activation)   (None, 28, 28, 512)  0           conv3_block3_add[0][0]           \n",
      "__________________________________________________________________________________________________\n",
      "conv3_block4_1_conv (Conv2D)    (None, 28, 28, 128)  65664       conv3_block3_out[0][0]           \n",
      "__________________________________________________________________________________________________\n",
      "conv3_block4_1_bn (BatchNormali (None, 28, 28, 128)  512         conv3_block4_1_conv[0][0]        \n",
      "__________________________________________________________________________________________________\n",
      "conv3_block4_1_relu (Activation (None, 28, 28, 128)  0           conv3_block4_1_bn[0][0]          \n",
      "__________________________________________________________________________________________________\n",
      "conv3_block4_2_conv (Conv2D)    (None, 28, 28, 128)  147584      conv3_block4_1_relu[0][0]        \n",
      "__________________________________________________________________________________________________\n",
      "conv3_block4_2_bn (BatchNormali (None, 28, 28, 128)  512         conv3_block4_2_conv[0][0]        \n",
      "__________________________________________________________________________________________________\n",
      "conv3_block4_2_relu (Activation (None, 28, 28, 128)  0           conv3_block4_2_bn[0][0]          \n",
      "__________________________________________________________________________________________________\n",
      "conv3_block4_3_conv (Conv2D)    (None, 28, 28, 512)  66048       conv3_block4_2_relu[0][0]        \n",
      "__________________________________________________________________________________________________\n",
      "conv3_block4_3_bn (BatchNormali (None, 28, 28, 512)  2048        conv3_block4_3_conv[0][0]        \n",
      "__________________________________________________________________________________________________\n",
      "conv3_block4_add (Add)          (None, 28, 28, 512)  0           conv3_block3_out[0][0]           \n",
      "                                                                 conv3_block4_3_bn[0][0]          \n",
      "__________________________________________________________________________________________________\n",
      "conv3_block4_out (Activation)   (None, 28, 28, 512)  0           conv3_block4_add[0][0]           \n",
      "__________________________________________________________________________________________________\n",
      "conv4_block1_1_conv (Conv2D)    (None, 14, 14, 256)  131328      conv3_block4_out[0][0]           \n",
      "__________________________________________________________________________________________________\n",
      "conv4_block1_1_bn (BatchNormali (None, 14, 14, 256)  1024        conv4_block1_1_conv[0][0]        \n",
      "__________________________________________________________________________________________________\n",
      "conv4_block1_1_relu (Activation (None, 14, 14, 256)  0           conv4_block1_1_bn[0][0]          \n",
      "__________________________________________________________________________________________________\n",
      "conv4_block1_2_conv (Conv2D)    (None, 14, 14, 256)  590080      conv4_block1_1_relu[0][0]        \n",
      "__________________________________________________________________________________________________\n",
      "conv4_block1_2_bn (BatchNormali (None, 14, 14, 256)  1024        conv4_block1_2_conv[0][0]        \n",
      "__________________________________________________________________________________________________\n",
      "conv4_block1_2_relu (Activation (None, 14, 14, 256)  0           conv4_block1_2_bn[0][0]          \n",
      "__________________________________________________________________________________________________\n",
      "conv4_block1_0_conv (Conv2D)    (None, 14, 14, 1024) 525312      conv3_block4_out[0][0]           \n",
      "__________________________________________________________________________________________________\n",
      "conv4_block1_3_conv (Conv2D)    (None, 14, 14, 1024) 263168      conv4_block1_2_relu[0][0]        \n",
      "__________________________________________________________________________________________________\n",
      "conv4_block1_0_bn (BatchNormali (None, 14, 14, 1024) 4096        conv4_block1_0_conv[0][0]        \n",
      "__________________________________________________________________________________________________\n",
      "conv4_block1_3_bn (BatchNormali (None, 14, 14, 1024) 4096        conv4_block1_3_conv[0][0]        \n",
      "__________________________________________________________________________________________________\n",
      "conv4_block1_add (Add)          (None, 14, 14, 1024) 0           conv4_block1_0_bn[0][0]          \n",
      "                                                                 conv4_block1_3_bn[0][0]          \n",
      "__________________________________________________________________________________________________\n",
      "conv4_block1_out (Activation)   (None, 14, 14, 1024) 0           conv4_block1_add[0][0]           \n",
      "__________________________________________________________________________________________________\n",
      "conv4_block2_1_conv (Conv2D)    (None, 14, 14, 256)  262400      conv4_block1_out[0][0]           \n",
      "__________________________________________________________________________________________________\n",
      "conv4_block2_1_bn (BatchNormali (None, 14, 14, 256)  1024        conv4_block2_1_conv[0][0]        \n",
      "__________________________________________________________________________________________________\n",
      "conv4_block2_1_relu (Activation (None, 14, 14, 256)  0           conv4_block2_1_bn[0][0]          \n",
      "__________________________________________________________________________________________________\n",
      "conv4_block2_2_conv (Conv2D)    (None, 14, 14, 256)  590080      conv4_block2_1_relu[0][0]        \n",
      "__________________________________________________________________________________________________\n",
      "conv4_block2_2_bn (BatchNormali (None, 14, 14, 256)  1024        conv4_block2_2_conv[0][0]        \n",
      "__________________________________________________________________________________________________\n",
      "conv4_block2_2_relu (Activation (None, 14, 14, 256)  0           conv4_block2_2_bn[0][0]          \n",
      "__________________________________________________________________________________________________\n",
      "conv4_block2_3_conv (Conv2D)    (None, 14, 14, 1024) 263168      conv4_block2_2_relu[0][0]        \n",
      "__________________________________________________________________________________________________\n",
      "conv4_block2_3_bn (BatchNormali (None, 14, 14, 1024) 4096        conv4_block2_3_conv[0][0]        \n",
      "__________________________________________________________________________________________________\n",
      "conv4_block2_add (Add)          (None, 14, 14, 1024) 0           conv4_block1_out[0][0]           \n",
      "                                                                 conv4_block2_3_bn[0][0]          \n",
      "__________________________________________________________________________________________________\n",
      "conv4_block2_out (Activation)   (None, 14, 14, 1024) 0           conv4_block2_add[0][0]           \n",
      "__________________________________________________________________________________________________\n",
      "conv4_block3_1_conv (Conv2D)    (None, 14, 14, 256)  262400      conv4_block2_out[0][0]           \n",
      "__________________________________________________________________________________________________\n",
      "conv4_block3_1_bn (BatchNormali (None, 14, 14, 256)  1024        conv4_block3_1_conv[0][0]        \n",
      "__________________________________________________________________________________________________\n",
      "conv4_block3_1_relu (Activation (None, 14, 14, 256)  0           conv4_block3_1_bn[0][0]          \n",
      "__________________________________________________________________________________________________\n",
      "conv4_block3_2_conv (Conv2D)    (None, 14, 14, 256)  590080      conv4_block3_1_relu[0][0]        \n",
      "__________________________________________________________________________________________________\n",
      "conv4_block3_2_bn (BatchNormali (None, 14, 14, 256)  1024        conv4_block3_2_conv[0][0]        \n",
      "__________________________________________________________________________________________________\n",
      "conv4_block3_2_relu (Activation (None, 14, 14, 256)  0           conv4_block3_2_bn[0][0]          \n",
      "__________________________________________________________________________________________________\n",
      "conv4_block3_3_conv (Conv2D)    (None, 14, 14, 1024) 263168      conv4_block3_2_relu[0][0]        \n",
      "__________________________________________________________________________________________________\n",
      "conv4_block3_3_bn (BatchNormali (None, 14, 14, 1024) 4096        conv4_block3_3_conv[0][0]        \n",
      "__________________________________________________________________________________________________\n",
      "conv4_block3_add (Add)          (None, 14, 14, 1024) 0           conv4_block2_out[0][0]           \n",
      "                                                                 conv4_block3_3_bn[0][0]          \n",
      "__________________________________________________________________________________________________\n",
      "conv4_block3_out (Activation)   (None, 14, 14, 1024) 0           conv4_block3_add[0][0]           \n",
      "__________________________________________________________________________________________________\n",
      "conv4_block4_1_conv (Conv2D)    (None, 14, 14, 256)  262400      conv4_block3_out[0][0]           \n",
      "__________________________________________________________________________________________________\n",
      "conv4_block4_1_bn (BatchNormali (None, 14, 14, 256)  1024        conv4_block4_1_conv[0][0]        \n",
      "__________________________________________________________________________________________________\n",
      "conv4_block4_1_relu (Activation (None, 14, 14, 256)  0           conv4_block4_1_bn[0][0]          \n",
      "__________________________________________________________________________________________________\n",
      "conv4_block4_2_conv (Conv2D)    (None, 14, 14, 256)  590080      conv4_block4_1_relu[0][0]        \n",
      "__________________________________________________________________________________________________\n",
      "conv4_block4_2_bn (BatchNormali (None, 14, 14, 256)  1024        conv4_block4_2_conv[0][0]        \n",
      "__________________________________________________________________________________________________\n",
      "conv4_block4_2_relu (Activation (None, 14, 14, 256)  0           conv4_block4_2_bn[0][0]          \n",
      "__________________________________________________________________________________________________\n",
      "conv4_block4_3_conv (Conv2D)    (None, 14, 14, 1024) 263168      conv4_block4_2_relu[0][0]        \n",
      "__________________________________________________________________________________________________\n",
      "conv4_block4_3_bn (BatchNormali (None, 14, 14, 1024) 4096        conv4_block4_3_conv[0][0]        \n",
      "__________________________________________________________________________________________________\n",
      "conv4_block4_add (Add)          (None, 14, 14, 1024) 0           conv4_block3_out[0][0]           \n",
      "                                                                 conv4_block4_3_bn[0][0]          \n",
      "__________________________________________________________________________________________________\n",
      "conv4_block4_out (Activation)   (None, 14, 14, 1024) 0           conv4_block4_add[0][0]           \n",
      "__________________________________________________________________________________________________\n",
      "conv4_block5_1_conv (Conv2D)    (None, 14, 14, 256)  262400      conv4_block4_out[0][0]           \n",
      "__________________________________________________________________________________________________\n",
      "conv4_block5_1_bn (BatchNormali (None, 14, 14, 256)  1024        conv4_block5_1_conv[0][0]        \n",
      "__________________________________________________________________________________________________\n",
      "conv4_block5_1_relu (Activation (None, 14, 14, 256)  0           conv4_block5_1_bn[0][0]          \n",
      "__________________________________________________________________________________________________\n",
      "conv4_block5_2_conv (Conv2D)    (None, 14, 14, 256)  590080      conv4_block5_1_relu[0][0]        \n",
      "__________________________________________________________________________________________________\n",
      "conv4_block5_2_bn (BatchNormali (None, 14, 14, 256)  1024        conv4_block5_2_conv[0][0]        \n",
      "__________________________________________________________________________________________________\n",
      "conv4_block5_2_relu (Activation (None, 14, 14, 256)  0           conv4_block5_2_bn[0][0]          \n",
      "__________________________________________________________________________________________________\n",
      "conv4_block5_3_conv (Conv2D)    (None, 14, 14, 1024) 263168      conv4_block5_2_relu[0][0]        \n",
      "__________________________________________________________________________________________________\n",
      "conv4_block5_3_bn (BatchNormali (None, 14, 14, 1024) 4096        conv4_block5_3_conv[0][0]        \n",
      "__________________________________________________________________________________________________\n",
      "conv4_block5_add (Add)          (None, 14, 14, 1024) 0           conv4_block4_out[0][0]           \n",
      "                                                                 conv4_block5_3_bn[0][0]          \n",
      "__________________________________________________________________________________________________\n",
      "conv4_block5_out (Activation)   (None, 14, 14, 1024) 0           conv4_block5_add[0][0]           \n",
      "__________________________________________________________________________________________________\n",
      "conv4_block6_1_conv (Conv2D)    (None, 14, 14, 256)  262400      conv4_block5_out[0][0]           \n",
      "__________________________________________________________________________________________________\n",
      "conv4_block6_1_bn (BatchNormali (None, 14, 14, 256)  1024        conv4_block6_1_conv[0][0]        \n",
      "__________________________________________________________________________________________________\n",
      "conv4_block6_1_relu (Activation (None, 14, 14, 256)  0           conv4_block6_1_bn[0][0]          \n",
      "__________________________________________________________________________________________________\n",
      "conv4_block6_2_conv (Conv2D)    (None, 14, 14, 256)  590080      conv4_block6_1_relu[0][0]        \n",
      "__________________________________________________________________________________________________\n",
      "conv4_block6_2_bn (BatchNormali (None, 14, 14, 256)  1024        conv4_block6_2_conv[0][0]        \n",
      "__________________________________________________________________________________________________\n",
      "conv4_block6_2_relu (Activation (None, 14, 14, 256)  0           conv4_block6_2_bn[0][0]          \n",
      "__________________________________________________________________________________________________\n",
      "conv4_block6_3_conv (Conv2D)    (None, 14, 14, 1024) 263168      conv4_block6_2_relu[0][0]        \n",
      "__________________________________________________________________________________________________\n",
      "conv4_block6_3_bn (BatchNormali (None, 14, 14, 1024) 4096        conv4_block6_3_conv[0][0]        \n",
      "__________________________________________________________________________________________________\n",
      "conv4_block6_add (Add)          (None, 14, 14, 1024) 0           conv4_block5_out[0][0]           \n",
      "                                                                 conv4_block6_3_bn[0][0]          \n",
      "__________________________________________________________________________________________________\n",
      "conv4_block6_out (Activation)   (None, 14, 14, 1024) 0           conv4_block6_add[0][0]           \n",
      "__________________________________________________________________________________________________\n",
      "conv5_block1_1_conv (Conv2D)    (None, 7, 7, 512)    524800      conv4_block6_out[0][0]           \n",
      "__________________________________________________________________________________________________\n",
      "conv5_block1_1_bn (BatchNormali (None, 7, 7, 512)    2048        conv5_block1_1_conv[0][0]        \n",
      "__________________________________________________________________________________________________\n",
      "conv5_block1_1_relu (Activation (None, 7, 7, 512)    0           conv5_block1_1_bn[0][0]          \n",
      "__________________________________________________________________________________________________\n",
      "conv5_block1_2_conv (Conv2D)    (None, 7, 7, 512)    2359808     conv5_block1_1_relu[0][0]        \n",
      "__________________________________________________________________________________________________\n",
      "conv5_block1_2_bn (BatchNormali (None, 7, 7, 512)    2048        conv5_block1_2_conv[0][0]        \n",
      "__________________________________________________________________________________________________\n",
      "conv5_block1_2_relu (Activation (None, 7, 7, 512)    0           conv5_block1_2_bn[0][0]          \n",
      "__________________________________________________________________________________________________\n",
      "conv5_block1_0_conv (Conv2D)    (None, 7, 7, 2048)   2099200     conv4_block6_out[0][0]           \n",
      "__________________________________________________________________________________________________\n",
      "conv5_block1_3_conv (Conv2D)    (None, 7, 7, 2048)   1050624     conv5_block1_2_relu[0][0]        \n",
      "__________________________________________________________________________________________________\n",
      "conv5_block1_0_bn (BatchNormali (None, 7, 7, 2048)   8192        conv5_block1_0_conv[0][0]        \n",
      "__________________________________________________________________________________________________\n",
      "conv5_block1_3_bn (BatchNormali (None, 7, 7, 2048)   8192        conv5_block1_3_conv[0][0]        \n",
      "__________________________________________________________________________________________________\n",
      "conv5_block1_add (Add)          (None, 7, 7, 2048)   0           conv5_block1_0_bn[0][0]          \n",
      "                                                                 conv5_block1_3_bn[0][0]          \n",
      "__________________________________________________________________________________________________\n",
      "conv5_block1_out (Activation)   (None, 7, 7, 2048)   0           conv5_block1_add[0][0]           \n",
      "__________________________________________________________________________________________________\n",
      "conv5_block2_1_conv (Conv2D)    (None, 7, 7, 512)    1049088     conv5_block1_out[0][0]           \n",
      "__________________________________________________________________________________________________\n",
      "conv5_block2_1_bn (BatchNormali (None, 7, 7, 512)    2048        conv5_block2_1_conv[0][0]        \n",
      "__________________________________________________________________________________________________\n",
      "conv5_block2_1_relu (Activation (None, 7, 7, 512)    0           conv5_block2_1_bn[0][0]          \n",
      "__________________________________________________________________________________________________\n",
      "conv5_block2_2_conv (Conv2D)    (None, 7, 7, 512)    2359808     conv5_block2_1_relu[0][0]        \n",
      "__________________________________________________________________________________________________\n",
      "conv5_block2_2_bn (BatchNormali (None, 7, 7, 512)    2048        conv5_block2_2_conv[0][0]        \n",
      "__________________________________________________________________________________________________\n",
      "conv5_block2_2_relu (Activation (None, 7, 7, 512)    0           conv5_block2_2_bn[0][0]          \n",
      "__________________________________________________________________________________________________\n",
      "conv5_block2_3_conv (Conv2D)    (None, 7, 7, 2048)   1050624     conv5_block2_2_relu[0][0]        \n",
      "__________________________________________________________________________________________________\n",
      "conv5_block2_3_bn (BatchNormali (None, 7, 7, 2048)   8192        conv5_block2_3_conv[0][0]        \n",
      "__________________________________________________________________________________________________\n",
      "conv5_block2_add (Add)          (None, 7, 7, 2048)   0           conv5_block1_out[0][0]           \n",
      "                                                                 conv5_block2_3_bn[0][0]          \n",
      "__________________________________________________________________________________________________\n",
      "conv5_block2_out (Activation)   (None, 7, 7, 2048)   0           conv5_block2_add[0][0]           \n",
      "__________________________________________________________________________________________________\n",
      "conv5_block3_1_conv (Conv2D)    (None, 7, 7, 512)    1049088     conv5_block2_out[0][0]           \n",
      "__________________________________________________________________________________________________\n",
      "conv5_block3_1_bn (BatchNormali (None, 7, 7, 512)    2048        conv5_block3_1_conv[0][0]        \n",
      "__________________________________________________________________________________________________\n",
      "conv5_block3_1_relu (Activation (None, 7, 7, 512)    0           conv5_block3_1_bn[0][0]          \n",
      "__________________________________________________________________________________________________\n",
      "conv5_block3_2_conv (Conv2D)    (None, 7, 7, 512)    2359808     conv5_block3_1_relu[0][0]        \n",
      "__________________________________________________________________________________________________\n",
      "conv5_block3_2_bn (BatchNormali (None, 7, 7, 512)    2048        conv5_block3_2_conv[0][0]        \n",
      "__________________________________________________________________________________________________\n",
      "conv5_block3_2_relu (Activation (None, 7, 7, 512)    0           conv5_block3_2_bn[0][0]          \n",
      "__________________________________________________________________________________________________\n",
      "conv5_block3_3_conv (Conv2D)    (None, 7, 7, 2048)   1050624     conv5_block3_2_relu[0][0]        \n",
      "__________________________________________________________________________________________________\n",
      "conv5_block3_3_bn (BatchNormali (None, 7, 7, 2048)   8192        conv5_block3_3_conv[0][0]        \n",
      "__________________________________________________________________________________________________\n",
      "conv5_block3_add (Add)          (None, 7, 7, 2048)   0           conv5_block2_out[0][0]           \n",
      "                                                                 conv5_block3_3_bn[0][0]          \n",
      "__________________________________________________________________________________________________\n",
      "conv5_block3_out (Activation)   (None, 7, 7, 2048)   0           conv5_block3_add[0][0]           \n",
      "__________________________________________________________________________________________________\n",
      "global_average_pooling2d (Globa (None, 2048)         0           conv5_block3_out[0][0]           \n",
      "__________________________________________________________________________________________________\n",
      "dense (Dense)                   (None, 512)          1049088     global_average_pooling2d[0][0]   \n",
      "__________________________________________________________________________________________________\n",
      "activation (Activation)         (None, 512)          0           dense[0][0]                      \n",
      "__________________________________________________________________________________________________\n",
      "dense_1 (Dense)                 (None, 2048)         1050624     activation[0][0]                 \n",
      "__________________________________________________________________________________________________\n",
      "activation_1 (Activation)       (None, 2048)         0           dense_1[0][0]                    \n",
      "__________________________________________________________________________________________________\n",
      "reshape (Reshape)               (None, 1, 1, 2048)   0           activation_1[0][0]               \n",
      "__________________________________________________________________________________________________\n",
      "multiply (Multiply)             (None, 7, 7, 2048)   0           conv5_block3_out[0][0]           \n",
      "                                                                 reshape[0][0]                    \n",
      "__________________________________________________________________________________________________\n",
      "batch_normalization (BatchNorma (None, 7, 7, 2048)   8192        multiply[0][0]                   \n",
      "__________________________________________________________________________________________________\n",
      "concatenate (Concatenate)       (None, 7, 7, 4096)   0           conv5_block3_out[0][0]           \n",
      "                                                                 batch_normalization[0][0]        \n",
      "__________________________________________________________________________________________________\n",
      "global_average_pooling2d_1 (Glo (None, 4096)         0           concatenate[0][0]                \n",
      "__________________________________________________________________________________________________\n",
      "flatten (Flatten)               (None, 200704)       0           concatenate[0][0]                \n",
      "__________________________________________________________________________________________________\n",
      "concatenate_1 (Concatenate)     (None, 204800)       0           global_average_pooling2d_1[0][0] \n",
      "                                                                 flatten[0][0]                    \n",
      "__________________________________________________________________________________________________\n",
      "dense_2 (Dense)                 (None, 512)          104858112   concatenate_1[0][0]              \n",
      "__________________________________________________________________________________________________\n",
      "batch_normalization_1 (BatchNor (None, 512)          2048        dense_2[0][0]                    \n",
      "__________________________________________________________________________________________________\n",
      "dense_3 (Dense)                 (None, 512)          262656      batch_normalization_1[0][0]      \n",
      "__________________________________________________________________________________________________\n",
      "batch_normalization_2 (BatchNor (None, 512)          2048        dense_3[0][0]                    \n",
      "__________________________________________________________________________________________________\n",
      "dense_4 (Dense)                 (None, 5)            2565        batch_normalization_2[0][0]      \n",
      "==================================================================================================\n",
      "Total params: 130,823,045\n",
      "Trainable params: 107,229,189\n",
      "Non-trainable params: 23,593,856\n",
      "__________________________________________________________________________________________________\n",
      "time: 52.3 ms\n"
     ]
    }
   ],
   "source": [
    "\n",
    "model.summary()\n"
   ]
  },
  {
   "cell_type": "code",
   "execution_count": 23,
   "metadata": {
    "execution": {
     "iopub.execute_input": "2020-10-14T14:41:08.323067Z",
     "iopub.status.busy": "2020-10-14T14:41:08.322196Z",
     "iopub.status.idle": "2020-10-14T20:37:03.791124Z",
     "shell.execute_reply": "2020-10-14T20:37:03.790437Z"
    },
    "papermill": {
     "duration": 21355.552553,
     "end_time": "2020-10-14T20:37:03.791263",
     "exception": false,
     "start_time": "2020-10-14T14:41:08.238710",
     "status": "completed"
    },
    "tags": []
   },
   "outputs": [
    {
     "name": "stderr",
     "output_type": "stream",
     "text": [
      "/opt/conda/lib/python3.7/site-packages/imgaug/imgaug.py:184: DeprecationWarning: Function `SimplexNoiseAlpha()` is deprecated. Use `BlendAlphaSimplexNoise` instead. SimplexNoiseAlpha is deprecated. Use BlendAlphaSimplexNoise instead. The order of parameters is the same. Parameter 'first' was renamed to 'foreground'. Parameter 'second' was renamed to 'background'.\n",
      "  warn_deprecated(msg, stacklevel=3)\n",
      "/opt/conda/lib/python3.7/site-packages/imgaug/imgaug.py:184: DeprecationWarning: Function `ContrastNormalization()` is deprecated. Use `imgaug.contrast.LinearContrast` instead.\n",
      "  warn_deprecated(msg, stacklevel=3)\n",
      "/opt/conda/lib/python3.7/site-packages/imgaug/imgaug.py:184: DeprecationWarning: Function `FrequencyNoiseAlpha()` is deprecated. Use `BlendAlphaFrequencyNoise` instead. FrequencyNoiseAlpha is deprecated. Use BlendAlphaFrequencyNoise instead. The order of parameters is the same. Parameter 'first' was renamed to 'foreground'. Parameter 'second' was renamed to 'background'.\n",
      "  warn_deprecated(msg, stacklevel=3)\n"
     ]
    },
    {
     "name": "stdout",
     "output_type": "stream",
     "text": [
      "Epoch 1/50\n",
      "546/546 [==============================] - 463s 848ms/step - loss: 0.6862 - categorical_accuracy: 0.7506 - val_loss: 0.1518 - val_categorical_accuracy: 0.9479\n",
      "Epoch 2/50\n",
      "546/546 [==============================] - 403s 737ms/step - loss: 0.4594 - categorical_accuracy: 0.8233 - val_loss: 0.1346 - val_categorical_accuracy: 0.9514\n",
      "Epoch 3/50\n",
      "546/546 [==============================] - 409s 750ms/step - loss: 0.4044 - categorical_accuracy: 0.8451 - val_loss: 0.0976 - val_categorical_accuracy: 0.9663\n",
      "Epoch 4/50\n",
      "546/546 [==============================] - 404s 739ms/step - loss: 0.3633 - categorical_accuracy: 0.8603 - val_loss: 0.0868 - val_categorical_accuracy: 0.9674\n",
      "Epoch 5/50\n",
      "546/546 [==============================] - 413s 757ms/step - loss: 0.3561 - categorical_accuracy: 0.8615 - val_loss: 0.0880 - val_categorical_accuracy: 0.9674\n",
      "Epoch 6/50\n",
      "546/546 [==============================] - 410s 751ms/step - loss: 0.3283 - categorical_accuracy: 0.8746 - val_loss: 0.0852 - val_categorical_accuracy: 0.9706\n",
      "Epoch 7/50\n",
      "546/546 [==============================] - 412s 755ms/step - loss: 0.3187 - categorical_accuracy: 0.8785 - val_loss: 0.0633 - val_categorical_accuracy: 0.9762\n",
      "Epoch 8/50\n",
      "546/546 [==============================] - 412s 755ms/step - loss: 0.3017 - categorical_accuracy: 0.8860 - val_loss: 0.0720 - val_categorical_accuracy: 0.9760\n",
      "Epoch 9/50\n",
      "546/546 [==============================] - 413s 757ms/step - loss: 0.2944 - categorical_accuracy: 0.8859 - val_loss: 0.0594 - val_categorical_accuracy: 0.9805\n",
      "Epoch 10/50\n",
      "546/546 [==============================] - 413s 756ms/step - loss: 0.2816 - categorical_accuracy: 0.8903 - val_loss: 0.0581 - val_categorical_accuracy: 0.9818\n",
      "Epoch 11/50\n",
      "546/546 [==============================] - 420s 770ms/step - loss: 0.2742 - categorical_accuracy: 0.8941 - val_loss: 0.0668 - val_categorical_accuracy: 0.9757\n",
      "Epoch 12/50\n",
      "546/546 [==============================] - 421s 771ms/step - loss: 0.2642 - categorical_accuracy: 0.8987 - val_loss: 0.0483 - val_categorical_accuracy: 0.9832\n",
      "Epoch 13/50\n",
      "546/546 [==============================] - 423s 775ms/step - loss: 0.2613 - categorical_accuracy: 0.9006 - val_loss: 0.0549 - val_categorical_accuracy: 0.9832\n",
      "Epoch 14/50\n",
      "546/546 [==============================] - 427s 781ms/step - loss: 0.2576 - categorical_accuracy: 0.8995 - val_loss: 0.0627 - val_categorical_accuracy: 0.9834\n",
      "Epoch 15/50\n",
      "546/546 [==============================] - 424s 776ms/step - loss: 0.2492 - categorical_accuracy: 0.9035 - val_loss: 0.0599 - val_categorical_accuracy: 0.9848\n",
      "Epoch 16/50\n",
      "546/546 [==============================] - 427s 781ms/step - loss: 0.2474 - categorical_accuracy: 0.9049 - val_loss: 0.1177 - val_categorical_accuracy: 0.9834\n",
      "Epoch 17/50\n",
      "546/546 [==============================] - 429s 786ms/step - loss: 0.2445 - categorical_accuracy: 0.9078 - val_loss: 0.0753 - val_categorical_accuracy: 0.9840\n",
      "Epoch 18/50\n",
      "546/546 [==============================] - 427s 783ms/step - loss: 0.2307 - categorical_accuracy: 0.9082 - val_loss: 0.1111 - val_categorical_accuracy: 0.9874\n",
      "Epoch 19/50\n",
      "546/546 [==============================] - 416s 761ms/step - loss: 0.2258 - categorical_accuracy: 0.9146 - val_loss: 0.1078 - val_categorical_accuracy: 0.9890\n",
      "Epoch 20/50\n",
      "546/546 [==============================] - 415s 759ms/step - loss: 0.2315 - categorical_accuracy: 0.9098 - val_loss: 0.0557 - val_categorical_accuracy: 0.9901\n",
      "Epoch 21/50\n",
      "546/546 [==============================] - 424s 776ms/step - loss: 0.2220 - categorical_accuracy: 0.9150 - val_loss: 0.2925 - val_categorical_accuracy: 0.9890\n",
      "Epoch 22/50\n",
      "546/546 [==============================] - 426s 780ms/step - loss: 0.2231 - categorical_accuracy: 0.9155 - val_loss: 0.3087 - val_categorical_accuracy: 0.9872\n",
      "Epoch 23/50\n",
      "546/546 [==============================] - 408s 748ms/step - loss: 0.2168 - categorical_accuracy: 0.9148 - val_loss: 0.3984 - val_categorical_accuracy: 0.9899\n",
      "Epoch 24/50\n",
      "546/546 [==============================] - 424s 776ms/step - loss: 0.2090 - categorical_accuracy: 0.9201 - val_loss: 0.5685 - val_categorical_accuracy: 0.9893\n",
      "Epoch 25/50\n",
      "546/546 [==============================] - 426s 780ms/step - loss: 0.2145 - categorical_accuracy: 0.9194 - val_loss: 0.1844 - val_categorical_accuracy: 0.9901\n",
      "Epoch 26/50\n",
      "546/546 [==============================] - 424s 776ms/step - loss: 0.2112 - categorical_accuracy: 0.9190 - val_loss: 0.4212 - val_categorical_accuracy: 0.9915\n",
      "Epoch 27/50\n",
      "546/546 [==============================] - 430s 788ms/step - loss: 0.2047 - categorical_accuracy: 0.9208 - val_loss: 0.3779 - val_categorical_accuracy: 0.9872\n",
      "Epoch 28/50\n",
      "546/546 [==============================] - 428s 784ms/step - loss: 0.2102 - categorical_accuracy: 0.9185 - val_loss: 0.2026 - val_categorical_accuracy: 0.9907\n",
      "Epoch 29/50\n",
      "546/546 [==============================] - 428s 785ms/step - loss: 0.2074 - categorical_accuracy: 0.9195 - val_loss: 0.1279 - val_categorical_accuracy: 0.9874\n",
      "Epoch 30/50\n",
      "546/546 [==============================] - 437s 800ms/step - loss: 0.1950 - categorical_accuracy: 0.9249 - val_loss: 0.6441 - val_categorical_accuracy: 0.9853\n",
      "Epoch 31/50\n",
      "546/546 [==============================] - 436s 799ms/step - loss: 0.2007 - categorical_accuracy: 0.9237 - val_loss: 1.7565 - val_categorical_accuracy: 0.9872\n",
      "Epoch 32/50\n",
      "546/546 [==============================] - 433s 794ms/step - loss: 0.1949 - categorical_accuracy: 0.9271 - val_loss: 0.7601 - val_categorical_accuracy: 0.9917\n",
      "Epoch 33/50\n",
      "546/546 [==============================] - 432s 792ms/step - loss: 0.1899 - categorical_accuracy: 0.9269 - val_loss: 0.7628 - val_categorical_accuracy: 0.9904\n",
      "Epoch 34/50\n",
      "546/546 [==============================] - 439s 804ms/step - loss: 0.1919 - categorical_accuracy: 0.9268 - val_loss: 0.9747 - val_categorical_accuracy: 0.9901\n",
      "Epoch 35/50\n",
      "546/546 [==============================] - 436s 799ms/step - loss: 0.1877 - categorical_accuracy: 0.9259 - val_loss: 0.8881 - val_categorical_accuracy: 0.9899\n",
      "Epoch 36/50\n",
      "546/546 [==============================] - 439s 805ms/step - loss: 0.1907 - categorical_accuracy: 0.9256 - val_loss: 0.9948 - val_categorical_accuracy: 0.9899\n",
      "Epoch 37/50\n",
      "546/546 [==============================] - 441s 808ms/step - loss: 0.1880 - categorical_accuracy: 0.9271 - val_loss: 1.0272 - val_categorical_accuracy: 0.9923\n",
      "Epoch 38/50\n",
      "546/546 [==============================] - 431s 789ms/step - loss: 0.1865 - categorical_accuracy: 0.9294 - val_loss: 0.8748 - val_categorical_accuracy: 0.9915\n",
      "Epoch 39/50\n",
      "546/546 [==============================] - 431s 788ms/step - loss: 0.1917 - categorical_accuracy: 0.9241 - val_loss: 0.6932 - val_categorical_accuracy: 0.9915\n",
      "Epoch 40/50\n",
      "546/546 [==============================] - 431s 789ms/step - loss: 0.1887 - categorical_accuracy: 0.9256 - val_loss: 0.4431 - val_categorical_accuracy: 0.9915\n",
      "Epoch 41/50\n",
      "546/546 [==============================] - 432s 791ms/step - loss: 0.1667 - categorical_accuracy: 0.9350 - val_loss: 0.3160 - val_categorical_accuracy: 0.9912\n",
      "Epoch 42/50\n",
      "546/546 [==============================] - 426s 781ms/step - loss: 0.1791 - categorical_accuracy: 0.9327 - val_loss: 0.4497 - val_categorical_accuracy: 0.9923\n",
      "Epoch 43/50\n",
      "546/546 [==============================] - 423s 775ms/step - loss: 0.1802 - categorical_accuracy: 0.9318 - val_loss: 0.6546 - val_categorical_accuracy: 0.9941\n",
      "Epoch 44/50\n",
      "546/546 [==============================] - 429s 785ms/step - loss: 0.1768 - categorical_accuracy: 0.9316 - val_loss: 0.6595 - val_categorical_accuracy: 0.9941\n",
      "Epoch 45/50\n",
      "546/546 [==============================] - 429s 785ms/step - loss: 0.1781 - categorical_accuracy: 0.9319 - val_loss: 0.8410 - val_categorical_accuracy: 0.9931\n",
      "Epoch 46/50\n",
      "546/546 [==============================] - 436s 798ms/step - loss: 0.1767 - categorical_accuracy: 0.9296 - val_loss: 0.5981 - val_categorical_accuracy: 0.9936\n",
      "Epoch 47/50\n",
      "546/546 [==============================] - 443s 811ms/step - loss: 0.1797 - categorical_accuracy: 0.9295 - val_loss: 0.1493 - val_categorical_accuracy: 0.9936\n",
      "Epoch 48/50\n",
      "546/546 [==============================] - 438s 802ms/step - loss: 0.1717 - categorical_accuracy: 0.9343 - val_loss: 0.2504 - val_categorical_accuracy: 0.9923\n",
      "Epoch 49/50\n",
      "546/546 [==============================] - 446s 817ms/step - loss: 0.1744 - categorical_accuracy: 0.9337 - val_loss: 0.1234 - val_categorical_accuracy: 0.9928\n",
      "Epoch 50/50\n",
      "546/546 [==============================] - 446s 817ms/step - loss: 0.1720 - categorical_accuracy: 0.9337 - val_loss: 0.3811 - val_categorical_accuracy: 0.9909\n",
      "time: 5h 55min 44s\n"
     ]
    }
   ],
   "source": [
    "batch_size=32\n",
    "history = model.fit_generator(\n",
    "    data_gen(X_train, target_label_map, batch_size, augment=True),\n",
    "    validation_data=data_gen(X_valid, target_label_map, batch_size),\n",
    "    epochs=50, \n",
    "    verbose = 1,\n",
    "    #callbacks=callbacks,\n",
    "    steps_per_epoch=  int(len(X_train)//batch_size),\n",
    "    validation_steps= int(len(X_valid)// batch_size)\n",
    ")"
   ]
  },
  {
   "cell_type": "code",
   "execution_count": 24,
   "metadata": {
    "execution": {
     "iopub.execute_input": "2020-10-14T20:37:27.081591Z",
     "iopub.status.busy": "2020-10-14T20:37:27.079867Z",
     "iopub.status.idle": "2020-10-14T20:37:27.084307Z",
     "shell.execute_reply": "2020-10-14T20:37:27.082322Z"
    },
    "papermill": {
     "duration": 11.428231,
     "end_time": "2020-10-14T20:37:27.084477",
     "exception": false,
     "start_time": "2020-10-14T20:37:15.656246",
     "status": "completed"
    },
    "tags": []
   },
   "outputs": [
    {
     "name": "stdout",
     "output_type": "stream",
     "text": [
      "time: 949 µs\n"
     ]
    }
   ],
   "source": [
    "import tensorflow as tf\n",
    "from tensorflow.keras.models import Sequential, save_model, load_model\n",
    "\n",
    "filepath = './'"
   ]
  },
  {
   "cell_type": "code",
   "execution_count": 25,
   "metadata": {
    "execution": {
     "iopub.execute_input": "2020-10-14T20:37:51.490427Z",
     "iopub.status.busy": "2020-10-14T20:37:51.489367Z",
     "iopub.status.idle": "2020-10-14T20:38:28.607998Z",
     "shell.execute_reply": "2020-10-14T20:38:28.659949Z"
    },
    "papermill": {
     "duration": 49.261556,
     "end_time": "2020-10-14T20:38:28.660234",
     "exception": false,
     "start_time": "2020-10-14T20:37:39.398678",
     "status": "completed"
    },
    "tags": []
   },
   "outputs": [
    {
     "name": "stdout",
     "output_type": "stream",
     "text": [
      "time: 37.1 s\n"
     ]
    }
   ],
   "source": [
    "tf.keras.models.save_model(\n",
    "    model,\n",
    "    filepath,\n",
    "    overwrite=True,\n",
    "    include_optimizer=True,\n",
    "    save_format=None,\n",
    "    signatures=None,\n",
    "    options=None\n",
    ")"
   ]
  },
  {
   "cell_type": "markdown",
   "metadata": {
    "papermill": {
     "duration": 12.415353,
     "end_time": "2020-10-14T20:38:53.829872",
     "exception": false,
     "start_time": "2020-10-14T20:38:41.414519",
     "status": "completed"
    },
    "tags": []
   },
   "source": [
    "print(X_valid.shape)\n",
    "print(y_valid)"
   ]
  },
  {
   "cell_type": "markdown",
   "metadata": {
    "papermill": {
     "duration": 11.478827,
     "end_time": "2020-10-14T20:39:16.683824",
     "exception": false,
     "start_time": "2020-10-14T20:39:05.204997",
     "status": "completed"
    },
    "tags": []
   },
   "source": [
    "print(X_valid[768])"
   ]
  },
  {
   "cell_type": "markdown",
   "metadata": {
    "papermill": {
     "duration": 12.471079,
     "end_time": "2020-10-14T20:39:41.030806",
     "exception": false,
     "start_time": "2020-10-14T20:39:28.559727",
     "status": "completed"
    },
    "tags": []
   },
   "source": [
    "def data_gen1(list_files, target_label_map, batch_size, augment=False):\n",
    "    seq = get_seq()\n",
    "    while True:\n",
    "        # shuffle(list_files)\n",
    "        for batch in chunker(list_files, batch_size):\n",
    "          X = [cv2.resize(cv2.imread(x),(224,224),interpolation=cv2.INTER_CUBIC) for x in batch]\n",
    "            # for x in X:\n",
    "            #   X.append(cv2.resize(x,(224,224),interpolation=cv2.INTER_CUBIC))\n",
    "            # X = [cv2.resize(x,(224,224,3)) for x in X]\n",
    "          Y = [target_label_map[x] for x in batch]\n",
    "            # print(Y)\n",
    "          Y = to_categorical(Y, num_classes = 5)\n",
    "            # print(Y)\n",
    "          if augment:\n",
    "            X = seq.augment_images(X)\n",
    "          X = [preprocess_input(x) for x in X]\n",
    "                \n",
    "          return np.array(X), np.array(Y)"
   ]
  },
  {
   "cell_type": "markdown",
   "metadata": {
    "papermill": {
     "duration": 11.519944,
     "end_time": "2020-10-14T20:40:04.876830",
     "exception": false,
     "start_time": "2020-10-14T20:39:53.356886",
     "status": "completed"
    },
    "tags": []
   },
   "source": [
    "p1 ,p2 = data_gen1(X_valid,target_label_map,3750) \n",
    "score = model.evaluate(p1,p2, verbose=0)\n",
    "print('Model Accuracy:', score[1],'\\n')"
   ]
  },
  {
   "cell_type": "markdown",
   "metadata": {
    "papermill": {
     "duration": 11.873902,
     "end_time": "2020-10-14T20:40:28.412290",
     "exception": false,
     "start_time": "2020-10-14T20:40:16.538388",
     "status": "completed"
    },
    "tags": []
   },
   "source": [
    "# def plot_learning_curve(history):\n",
    "plt.figure(figsize=(20,6))\n",
    "plt.subplot(1,2,1)\n",
    "plt.plot(history.history['categorical_accuracy'])\n",
    "plt.plot(history.history['val_categorical_accuracy'])\n",
    "plt.title('model accuracy')\n",
    "plt.ylabel('accuracy')\n",
    "plt.xlabel('epoch')\n",
    "plt.legend(['train', 'validation'], loc='upper left')\n",
    "    # plt.savefig('./accuracy_curve.png')\n",
    "    #plt.clf()\n",
    "    # summarize history for loss\n",
    "plt.subplot(1,2,2)\n",
    "plt.plot(history.history['loss'])\n",
    "plt.plot(history.history['val_loss'])\n",
    "plt.title('model loss')\n",
    "plt.ylabel('loss')\n",
    "plt.xlabel('epoch')\n",
    "plt.legend(['train', 'validation'], loc='upper left')\n",
    "# plt.savefig('./loss_curve.png')"
   ]
  },
  {
   "cell_type": "markdown",
   "metadata": {
    "papermill": {
     "duration": 11.997082,
     "end_time": "2020-10-14T20:40:52.570776",
     "exception": false,
     "start_time": "2020-10-14T20:40:40.573694",
     "status": "completed"
    },
    "tags": []
   },
   "source": [
    "X_test_final,y_test_final = data_gen1(X_test,target_label_map,3750)\n",
    "print(y_test_final.shape) \n",
    "y_pred = model.predict(X_test_final)\n",
    "print(y_pred.shape)\n",
    "Y_pred_classes = np.argmax(y_pred,axis=1) \n",
    "print(Y_pred_classes.shape)\n",
    "Y_true = np.argmax(y_test_final,axis=1)\n",
    "print(Y_true.shape) "
   ]
  },
  {
   "cell_type": "markdown",
   "metadata": {
    "papermill": {
     "duration": 11.435741,
     "end_time": "2020-10-14T20:41:16.190171",
     "exception": false,
     "start_time": "2020-10-14T20:41:04.754430",
     "status": "completed"
    },
    "tags": []
   },
   "source": [
    "#print(X_test)\n",
    "print(Y_pred_classes)\n",
    "print(Y_true)"
   ]
  },
  {
   "cell_type": "markdown",
   "metadata": {
    "papermill": {
     "duration": 12.339976,
     "end_time": "2020-10-14T20:41:40.711365",
     "exception": false,
     "start_time": "2020-10-14T20:41:28.371389",
     "status": "completed"
    },
    "tags": []
   },
   "source": [
    "def accuracy(confusion_matrix):\n",
    "    diagonal_sum = confusion_matrix.trace()\n",
    "    sum_of_all_elements = confusion_matrix.sum()\n",
    "    return diagonal_sum / sum_of_all_elements "
   ]
  },
  {
   "cell_type": "markdown",
   "metadata": {
    "papermill": {
     "duration": 12.323895,
     "end_time": "2020-10-14T20:42:04.657960",
     "exception": false,
     "start_time": "2020-10-14T20:41:52.334065",
     "status": "completed"
    },
    "tags": []
   },
   "source": [
    "cm = confusion_matrix(Y_true, Y_pred_classes)\n",
    "\n",
    "print(cm)\n",
    "\n",
    "\n",
    "clssrep = classification_report(Y_true, Y_pred_classes)\n",
    "    # CLssrep.append(clssrep)\n",
    "print(clssrep)\n",
    "\n",
    "\n",
    "df_cm = pd.DataFrame(cm, index = folder, columns= folder )\n",
    "fig = plt.figure(figsize = (10,7))\n",
    "\n",
    "heatmap = sns.heatmap(df_cm, annot=True, fmt=\"d\")\n",
    "heatmap.yaxis.set_ticklabels(heatmap.yaxis.get_ticklabels(), rotation=0, ha='right', fontsize= 14)\n",
    "heatmap.xaxis.set_ticklabels(heatmap.xaxis.get_ticklabels(), rotation=45, ha='right', fontsize= 14)\n",
    "plt.ylabel('True label')\n",
    "plt.xlabel('Predicted label')\n",
    "\n",
    "classification_accuracy = accuracy(cm)\n",
    "print(\"Classification Accuracy:{0:0.6f}\".format(classification_accuracy))\n",
    "\n",
    "[Precision,Sensitivity,F1_score,_] = precision_recall_fscore_support(Y_true, Y_pred_classes, average='weighted')\n",
    "[_, Specificity,_] = sensitivity_specificity_support(Y_true, Y_pred_classes, average='weighted')\n",
    "\n",
    "\n",
    "\n",
    "    \n",
    "print('Precision : {0:0.6f}'.format(Precision))\n",
    "print('Sensitivity : {0:0.6f}'.format(Sensitivity))\n",
    "print('Specificity : {0:0.6f}'.format(Specificity))\n",
    "print('F1_score : {0:0.6f}'.format(F1_score))"
   ]
  },
  {
   "cell_type": "markdown",
   "metadata": {
    "papermill": {
     "duration": 11.826816,
     "end_time": "2020-10-14T20:42:28.176487",
     "exception": false,
     "start_time": "2020-10-14T20:42:16.349671",
     "status": "completed"
    },
    "tags": []
   },
   "source": [
    "print(y_test_final)"
   ]
  },
  {
   "cell_type": "markdown",
   "metadata": {
    "papermill": {
     "duration": 11.476296,
     "end_time": "2020-10-14T20:42:52.498480",
     "exception": false,
     "start_time": "2020-10-14T20:42:41.022184",
     "status": "completed"
    },
    "tags": []
   },
   "source": [
    "print(y_pred)"
   ]
  },
  {
   "cell_type": "markdown",
   "metadata": {
    "papermill": {
     "duration": 11.58397,
     "end_time": "2020-10-14T20:43:16.424200",
     "exception": false,
     "start_time": "2020-10-14T20:43:04.840230",
     "status": "completed"
    },
    "tags": []
   },
   "source": [
    "print(y_test_final[:,4])\n",
    "print()"
   ]
  },
  {
   "cell_type": "markdown",
   "metadata": {
    "papermill": {
     "duration": 13.07499,
     "end_time": "2020-10-14T20:43:40.992663",
     "exception": false,
     "start_time": "2020-10-14T20:43:27.917673",
     "status": "completed"
    },
    "tags": []
   },
   "source": [
    "y_test = to_categorical(Y_true, num_classes = 5)\n",
    "y_pred = to_categorical(Y_pred_classes ,num_classes =5)\n",
    "# print(y_test)\n",
    "# print(y_pred)\n",
    "fpr = dict()\n",
    "tpr = dict()\n",
    "roc_auc = dict()\n",
    "num_classes = 5\n",
    "for i in range(num_classes):\n",
    "    fpr[i], tpr[i], _ = roc_curve(y_test_final[:, i],y_pred[:, i])\n",
    "    roc_auc[i] = auc(fpr[i], tpr[i])\n",
    "    # print(roc_auc[i])\n",
    "\n",
    "# Compute micro-average ROC curve and ROC area\n",
    "fpr[\"micro\"], tpr[\"micro\"], _ = roc_curve(y_test.ravel(), y_pred.ravel())\n",
    "roc_auc[\"micro\"] = auc(fpr[\"micro\"], tpr[\"micro\"])\n",
    "\n",
    "\n",
    "\n",
    "\n",
    "n_classes =5\n",
    "all_fpr = np.unique(np.concatenate([fpr[i] for i in range(n_classes)]))\n",
    "lw = 2\n",
    "# Then interpolate all ROC curves at this points\n",
    "mean_tpr = np.zeros_like(all_fpr)\n",
    "for i in range(n_classes):\n",
    "    mean_tpr += interp(all_fpr, fpr[i], tpr[i])\n",
    "\n",
    "# Finally average it and compute AUC\n",
    "mean_tpr /= n_classes\n",
    "\n",
    "fpr[\"macro\"] = all_fpr\n",
    "tpr[\"macro\"] = mean_tpr\n",
    "roc_auc[\"macro\"] = auc(fpr[\"macro\"], tpr[\"macro\"])\n",
    "\n",
    "# Plot all ROC curves\n",
    "plt.figure(figsize =(12,10))\n",
    "plt.plot(fpr[\"micro\"], tpr[\"micro\"],\n",
    "         label='micro-average ROC curve (area = {0:0.2f})'\n",
    "               ''.format(roc_auc[\"micro\"]),\n",
    "         color='deeppink', linestyle=':', linewidth=4)\n",
    "\n",
    "plt.plot(fpr[\"macro\"], tpr[\"macro\"],\n",
    "         label='macro-average ROC curve (area = {0:0.2f})'\n",
    "               ''.format(roc_auc[\"macro\"]),\n",
    "         color='navy', linestyle=':', linewidth=4)\n",
    "\n",
    "colors = cycle(['aqua', 'darkorange', 'cornflowerblue'])\n",
    "for i, color in zip(range(n_classes), colors):\n",
    "    plt.plot(fpr[i], tpr[i], color=color, lw=lw,\n",
    "             label='ROC curve of class {0} (area = {1:0.2f})'\n",
    "             ''.format(i, roc_auc[i]))\n",
    "\n",
    "plt.plot([0, 1], [0, 1], 'k--', lw=lw)\n",
    "plt.xlim([0.0, 1.0])\n",
    "plt.ylim([0.0, 1.05])\n",
    "plt.xlabel('False Positive Rate')\n",
    "plt.ylabel('True Positive Rate')\n",
    "plt.title('Some extension of Receiver operating characteristic to multi-class')\n",
    "plt.legend(loc=\"lower right\")\n",
    "plt.show()\n"
   ]
  }
 ],
 "metadata": {
  "kernelspec": {
   "display_name": "Python 3",
   "language": "python",
   "name": "python3"
  },
  "language_info": {
   "codemirror_mode": {
    "name": "ipython",
    "version": 3
   },
   "file_extension": ".py",
   "mimetype": "text/x-python",
   "name": "python",
   "nbconvert_exporter": "python",
   "pygments_lexer": "ipython3",
   "version": "3.7.6"
  },
  "papermill": {
   "duration": 21801.821982,
   "end_time": "2020-10-14T20:43:54.694096",
   "environment_variables": {},
   "exception": null,
   "input_path": "__notebook__.ipynb",
   "output_path": "__notebook__.ipynb",
   "parameters": {},
   "start_time": "2020-10-14T14:40:32.872114",
   "version": "2.1.0"
  }
 },
 "nbformat": 4,
 "nbformat_minor": 4
}
