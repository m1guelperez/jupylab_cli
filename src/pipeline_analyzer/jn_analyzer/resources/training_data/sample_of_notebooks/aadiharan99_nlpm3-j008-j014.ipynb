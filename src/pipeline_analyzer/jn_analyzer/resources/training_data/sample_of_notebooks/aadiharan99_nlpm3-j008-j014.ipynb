{
 "cells": [
  {
   "cell_type": "code",
   "execution_count": 1,
   "metadata": {
    "_cell_guid": "a7d8c543-0141-4063-ac37-c5aac40a451a",
    "_uuid": "9164ed39-e260-45f2-b5dc-4ac3d3dd8079"
   },
   "outputs": [
    {
     "name": "stdout",
     "output_type": "stream",
     "text": [
      "/kaggle/input/tweet-sentiment-extraction/train.csv\n",
      "/kaggle/input/tweet-sentiment-extraction/test.csv\n",
      "/kaggle/input/tweet-sentiment-extraction/sample_submission.csv\n"
     ]
    }
   ],
   "source": [
    "# This Python 3 environment comes with many helpful analytics libraries installed\n",
    "# It is defined by the kaggle/python docker image: https://github.com/kaggle/docker-python\n",
    "# For example, here's several helpful packages to load in \n",
    "\n",
    "import numpy as np # linear algebra\n",
    "import pandas as pd # data processing, CSV file I/O (e.g. pd.read_csv)\n",
    "\n",
    "# Input data files are available in the \"../input/\" directory.\n",
    "# For example, running this (by clicking run or pressing Shift+Enter) will list all files under the input directory\n",
    "\n",
    "import os\n",
    "for dirname, _, filenames in os.walk('/kaggle/input'):\n",
    "    for filename in filenames:\n",
    "        print(os.path.join(dirname, filename))\n",
    "\n",
    "# Any results you write to the current directory are saved as output."
   ]
  },
  {
   "cell_type": "code",
   "execution_count": 2,
   "metadata": {
    "_cell_guid": "e45ada46-0436-4fa3-89fa-32c75247a735",
    "_uuid": "06470a13-23f3-4991-9d29-73dffd6d7489"
   },
   "outputs": [
    {
     "name": "stderr",
     "output_type": "stream",
     "text": [
      "/opt/conda/lib/python3.6/site-packages/nltk/twitter/__init__.py:20: UserWarning: The twython library has not been installed. Some functionality from the twitter package will not be available.\n",
      "  warnings.warn(\"The twython library has not been installed. \"\n"
     ]
    }
   ],
   "source": [
    "#importing required packages\n",
    "import re,nltk\n",
    "from nltk.corpus import stopwords\n",
    "from nltk.tokenize.treebank import TreebankWordDetokenizer\n",
    "from nltk.tokenize import word_tokenize\n",
    "import spacy\n",
    "from nltk.sentiment.vader import SentimentIntensityAnalyzer"
   ]
  },
  {
   "cell_type": "code",
   "execution_count": 3,
   "metadata": {
    "_cell_guid": "a37f8dd7-c5d4-4b55-9138-d517cb7c725a",
    "_uuid": "6ed723b6-b8af-469b-bea2-0d3fb0ff277e"
   },
   "outputs": [
    {
     "name": "stdout",
     "output_type": "stream",
     "text": [
      "[nltk_data] <urlopen error [Errno -3] Temporary failure in name\n",
      "[nltk_data]     resolution>\n"
     ]
    },
    {
     "data": {
      "text/plain": [
       "False"
      ]
     },
     "execution_count": 3,
     "metadata": {},
     "output_type": "execute_result"
    }
   ],
   "source": [
    "#downloading the required packages from nltk downloader\n",
    "nltk.download(['punkt','stopwords','vader_lexicon'])"
   ]
  },
  {
   "cell_type": "code",
   "execution_count": 4,
   "metadata": {
    "_cell_guid": "c3c1778d-61d5-4a90-a314-1e5c9153cb91",
    "_uuid": "01e9b795-9a24-4371-86c8-420148bee3cf"
   },
   "outputs": [],
   "source": [
    "#defining a function to read and preprocess data\n",
    "def preprocessor(text):\n",
    "    #using regex to remove http from the dataframe\n",
    "    text=str(text).lower()\n",
    "    text=re.sub('http\\S+','',text)\n",
    "    return text"
   ]
  },
  {
   "cell_type": "code",
   "execution_count": 5,
   "metadata": {
    "_cell_guid": "a7cfbc85-c184-41cc-9146-c7d8d1268138",
    "_uuid": "57b875f3-f4ba-4f89-9bb1-0f8324660fc8"
   },
   "outputs": [],
   "source": [
    "#reading the trainset\n",
    "trainset=pd.read_csv('/kaggle/input/tweet-sentiment-extraction/train.csv')"
   ]
  },
  {
   "cell_type": "code",
   "execution_count": 6,
   "metadata": {
    "_cell_guid": "77f95a76-e5a4-4401-bf8e-5fb44ff3adfb",
    "_uuid": "e4880ae7-b248-4e0d-90fe-c55d02bd52e3"
   },
   "outputs": [],
   "source": [
    "#obtaining cleaned text\n",
    "trainset['cleaned_data']=trainset['text'].apply(preprocessor)"
   ]
  },
  {
   "cell_type": "code",
   "execution_count": 7,
   "metadata": {
    "_cell_guid": "bf82d793-8d4a-4612-8e19-a2e002309861",
    "_uuid": "a9d2726d-ebc7-40a1-bda6-eb92462781d5"
   },
   "outputs": [
    {
     "data": {
      "text/html": [
       "<div>\n",
       "<style scoped>\n",
       "    .dataframe tbody tr th:only-of-type {\n",
       "        vertical-align: middle;\n",
       "    }\n",
       "\n",
       "    .dataframe tbody tr th {\n",
       "        vertical-align: top;\n",
       "    }\n",
       "\n",
       "    .dataframe thead th {\n",
       "        text-align: right;\n",
       "    }\n",
       "</style>\n",
       "<table border=\"1\" class=\"dataframe\">\n",
       "  <thead>\n",
       "    <tr style=\"text-align: right;\">\n",
       "      <th></th>\n",
       "      <th>textID</th>\n",
       "      <th>text</th>\n",
       "      <th>selected_text</th>\n",
       "      <th>sentiment</th>\n",
       "      <th>cleaned_data</th>\n",
       "    </tr>\n",
       "  </thead>\n",
       "  <tbody>\n",
       "    <tr>\n",
       "      <th>0</th>\n",
       "      <td>cb774db0d1</td>\n",
       "      <td>I`d have responded, if I were going</td>\n",
       "      <td>I`d have responded, if I were going</td>\n",
       "      <td>neutral</td>\n",
       "      <td>i`d have responded, if i were going</td>\n",
       "    </tr>\n",
       "    <tr>\n",
       "      <th>1</th>\n",
       "      <td>549e992a42</td>\n",
       "      <td>Sooo SAD I will miss you here in San Diego!!!</td>\n",
       "      <td>Sooo SAD</td>\n",
       "      <td>negative</td>\n",
       "      <td>sooo sad i will miss you here in san diego!!!</td>\n",
       "    </tr>\n",
       "    <tr>\n",
       "      <th>2</th>\n",
       "      <td>088c60f138</td>\n",
       "      <td>my boss is bullying me...</td>\n",
       "      <td>bullying me</td>\n",
       "      <td>negative</td>\n",
       "      <td>my boss is bullying me...</td>\n",
       "    </tr>\n",
       "    <tr>\n",
       "      <th>3</th>\n",
       "      <td>9642c003ef</td>\n",
       "      <td>what interview! leave me alone</td>\n",
       "      <td>leave me alone</td>\n",
       "      <td>negative</td>\n",
       "      <td>what interview! leave me alone</td>\n",
       "    </tr>\n",
       "    <tr>\n",
       "      <th>4</th>\n",
       "      <td>358bd9e861</td>\n",
       "      <td>Sons of ****, why couldn`t they put them on t...</td>\n",
       "      <td>Sons of ****,</td>\n",
       "      <td>negative</td>\n",
       "      <td>sons of ****, why couldn`t they put them on t...</td>\n",
       "    </tr>\n",
       "  </tbody>\n",
       "</table>\n",
       "</div>"
      ],
      "text/plain": [
       "       textID                                               text  \\\n",
       "0  cb774db0d1                I`d have responded, if I were going   \n",
       "1  549e992a42      Sooo SAD I will miss you here in San Diego!!!   \n",
       "2  088c60f138                          my boss is bullying me...   \n",
       "3  9642c003ef                     what interview! leave me alone   \n",
       "4  358bd9e861   Sons of ****, why couldn`t they put them on t...   \n",
       "\n",
       "                         selected_text sentiment  \\\n",
       "0  I`d have responded, if I were going   neutral   \n",
       "1                             Sooo SAD  negative   \n",
       "2                          bullying me  negative   \n",
       "3                       leave me alone  negative   \n",
       "4                        Sons of ****,  negative   \n",
       "\n",
       "                                        cleaned_data  \n",
       "0                i`d have responded, if i were going  \n",
       "1      sooo sad i will miss you here in san diego!!!  \n",
       "2                          my boss is bullying me...  \n",
       "3                     what interview! leave me alone  \n",
       "4   sons of ****, why couldn`t they put them on t...  "
      ]
     },
     "execution_count": 7,
     "metadata": {},
     "output_type": "execute_result"
    }
   ],
   "source": [
    "#viewing trainset's first 5 rows\n",
    "trainset.head()"
   ]
  },
  {
   "cell_type": "code",
   "execution_count": 8,
   "metadata": {
    "_cell_guid": "9d4e84fa-d4eb-44b6-8b37-0d4c40bd2d01",
    "_uuid": "dac779c2-d59e-4644-a4de-7b098873d5f0"
   },
   "outputs": [],
   "source": [
    "#dropping the original text\n",
    "trainset.drop(['text'],1,inplace=True)"
   ]
  },
  {
   "cell_type": "code",
   "execution_count": 9,
   "metadata": {
    "_cell_guid": "0cbf8031-1617-4881-a89d-effaf4953b79",
    "_uuid": "5e26d364-7f28-4c25-86f0-175e0ed5aa24"
   },
   "outputs": [
    {
     "data": {
      "text/html": [
       "<div>\n",
       "<style scoped>\n",
       "    .dataframe tbody tr th:only-of-type {\n",
       "        vertical-align: middle;\n",
       "    }\n",
       "\n",
       "    .dataframe tbody tr th {\n",
       "        vertical-align: top;\n",
       "    }\n",
       "\n",
       "    .dataframe thead th {\n",
       "        text-align: right;\n",
       "    }\n",
       "</style>\n",
       "<table border=\"1\" class=\"dataframe\">\n",
       "  <thead>\n",
       "    <tr style=\"text-align: right;\">\n",
       "      <th></th>\n",
       "      <th>textID</th>\n",
       "      <th>selected_text</th>\n",
       "      <th>sentiment</th>\n",
       "      <th>cleaned_data</th>\n",
       "    </tr>\n",
       "  </thead>\n",
       "  <tbody>\n",
       "    <tr>\n",
       "      <th>0</th>\n",
       "      <td>cb774db0d1</td>\n",
       "      <td>I`d have responded, if I were going</td>\n",
       "      <td>neutral</td>\n",
       "      <td>i`d have responded, if i were going</td>\n",
       "    </tr>\n",
       "    <tr>\n",
       "      <th>1</th>\n",
       "      <td>549e992a42</td>\n",
       "      <td>Sooo SAD</td>\n",
       "      <td>negative</td>\n",
       "      <td>sooo sad i will miss you here in san diego!!!</td>\n",
       "    </tr>\n",
       "    <tr>\n",
       "      <th>2</th>\n",
       "      <td>088c60f138</td>\n",
       "      <td>bullying me</td>\n",
       "      <td>negative</td>\n",
       "      <td>my boss is bullying me...</td>\n",
       "    </tr>\n",
       "    <tr>\n",
       "      <th>3</th>\n",
       "      <td>9642c003ef</td>\n",
       "      <td>leave me alone</td>\n",
       "      <td>negative</td>\n",
       "      <td>what interview! leave me alone</td>\n",
       "    </tr>\n",
       "    <tr>\n",
       "      <th>4</th>\n",
       "      <td>358bd9e861</td>\n",
       "      <td>Sons of ****,</td>\n",
       "      <td>negative</td>\n",
       "      <td>sons of ****, why couldn`t they put them on t...</td>\n",
       "    </tr>\n",
       "  </tbody>\n",
       "</table>\n",
       "</div>"
      ],
      "text/plain": [
       "       textID                        selected_text sentiment  \\\n",
       "0  cb774db0d1  I`d have responded, if I were going   neutral   \n",
       "1  549e992a42                             Sooo SAD  negative   \n",
       "2  088c60f138                          bullying me  negative   \n",
       "3  9642c003ef                       leave me alone  negative   \n",
       "4  358bd9e861                        Sons of ****,  negative   \n",
       "\n",
       "                                        cleaned_data  \n",
       "0                i`d have responded, if i were going  \n",
       "1      sooo sad i will miss you here in san diego!!!  \n",
       "2                          my boss is bullying me...  \n",
       "3                     what interview! leave me alone  \n",
       "4   sons of ****, why couldn`t they put them on t...  "
      ]
     },
     "execution_count": 9,
     "metadata": {},
     "output_type": "execute_result"
    }
   ],
   "source": [
    "trainset.head()"
   ]
  },
  {
   "cell_type": "code",
   "execution_count": 10,
   "metadata": {
    "_cell_guid": "6f9e9610-3e1f-4bae-9f96-2f361ed70ed4",
    "_uuid": "101f91e3-c76a-4d8a-bbf7-bc492e69485a"
   },
   "outputs": [],
   "source": [
    "#function for Sentiment Intensity Analyser and returning the processed_text\n",
    "def polarity_determiner(df_process):\n",
    "    train_data = df_process['cleaned_data']\n",
    "    train_data_sentiment = df_process['sentiment']\n",
    "    #initialising a list that contains all the processed text\n",
    "    selected_text_processed = []\n",
    "    #initialising the Sentiment Intensity Analyser\n",
    "    #this will determine the polarity of each word\n",
    "    analyser = SentimentIntensityAnalyzer()\n",
    "    for j in range(0 , len(train_data)):\n",
    "        #using regex to remove http from the train_data\n",
    "        text = re.sub(r'http\\S+', '', str(train_data.iloc[j]))\n",
    "        #for neutral similarity, all text is appended \n",
    "        if(train_data_sentiment.iloc[j] == \"neutral\" or len(text.split()) < 2):\n",
    "            selected_text_processed.append(str(text))\n",
    "        #for sentiments like positive and negative, only words that have the highest polarity are determined as these words strongly determine the sentiment\n",
    "        if(train_data_sentiment.iloc[j] == \"positive\" and len(text.split()) >= 2):\n",
    "            aa = re.split(' ', text)\n",
    "        \n",
    "            ss_arr = \"\"\n",
    "            #assigning an initial polarity of 0\n",
    "            polar = 0\n",
    "            for qa in range(0,len(aa)):\n",
    "                score = analyser.polarity_scores(aa[qa])\n",
    "                if score['compound'] >polar:\n",
    "                    polar = score['compound']\n",
    "                    ss_arr = aa[qa]\n",
    "            if len(ss_arr) != 0:\n",
    "                selected_text_processed.append(ss_arr)   \n",
    "            if len(ss_arr) == 0:\n",
    "                selected_text_processed.append(text)\n",
    "        #repeating the same case for negative sentiment\n",
    "        if(train_data_sentiment.iloc[j] == \"negative\"and len(text.split()) >= 2):\n",
    "            aa = re.split(' ', text)\n",
    "        \n",
    "            ss_arr = \"\"\n",
    "            polar = 0\n",
    "            for qa in range(0,len(aa)):\n",
    "                score = analyser.polarity_scores(aa[qa])\n",
    "                if score['compound'] <polar:\n",
    "                    polar = score['compound']\n",
    "                    ss_arr = aa[qa]\n",
    "            if len(ss_arr) != 0:\n",
    "                selected_text_processed.append(ss_arr)   \n",
    "            if len(ss_arr) == 0:\n",
    "                selected_text_processed.append(text)  \n",
    "    return selected_text_processed"
   ]
  },
  {
   "cell_type": "code",
   "execution_count": 11,
   "metadata": {
    "_cell_guid": "3940be1d-59be-4ff7-ace9-240dd531fceb",
    "_uuid": "c88d5b4c-936d-4238-a335-9a3d5a1c240f"
   },
   "outputs": [],
   "source": [
    "selected_train=polarity_determiner(trainset)"
   ]
  },
  {
   "cell_type": "code",
   "execution_count": 12,
   "metadata": {
    "_cell_guid": "558dfefd-0bd4-4921-b57f-271848cec743",
    "_uuid": "5fd0fa6e-98b4-49dd-a3dc-6d618f342d8a"
   },
   "outputs": [
    {
     "data": {
      "text/plain": [
       "27481"
      ]
     },
     "execution_count": 12,
     "metadata": {},
     "output_type": "execute_result"
    }
   ],
   "source": [
    "len(selected_train)"
   ]
  },
  {
   "cell_type": "code",
   "execution_count": 13,
   "metadata": {
    "_cell_guid": "f00e5c8e-724b-43d0-87e0-34b9b09b8c7f",
    "_uuid": "3eb88ce0-bbef-433b-9928-4fa929623e7f"
   },
   "outputs": [],
   "source": [
    "#reading the testset into a dataframe\n",
    "testset=pd.read_csv('/kaggle/input/tweet-sentiment-extraction/test.csv')"
   ]
  },
  {
   "cell_type": "code",
   "execution_count": 14,
   "metadata": {
    "_cell_guid": "4a0cfc4c-f11c-4f0b-b766-c6fbd4deceb0",
    "_uuid": "daf205c2-61d8-47a4-a508-2e58d6025108"
   },
   "outputs": [],
   "source": [
    "#same for test dataset\n",
    "testset['cleaned_data']=testset['text'].apply(preprocessor)"
   ]
  },
  {
   "cell_type": "code",
   "execution_count": 15,
   "metadata": {
    "_cell_guid": "333a7737-f664-492a-9bfd-c61a0cdc8daf",
    "_uuid": "8cd69ad9-bdbf-4b09-9d10-c6166fc4b195"
   },
   "outputs": [],
   "source": [
    "selected_test=polarity_determiner(testset)"
   ]
  },
  {
   "cell_type": "code",
   "execution_count": 16,
   "metadata": {
    "_cell_guid": "32e90912-a992-4051-afd4-e29cd7a4fb0e",
    "_uuid": "2c624132-9c3a-4c3c-98cb-e670578ce786"
   },
   "outputs": [],
   "source": [
    "text_id=testset['textID']"
   ]
  },
  {
   "cell_type": "code",
   "execution_count": 17,
   "metadata": {
    "_cell_guid": "7e533b14-cb0d-4688-95e2-2c05e8a809f6",
    "_uuid": "d2c75562-2f64-4442-9d2b-2c08d223e64d"
   },
   "outputs": [],
   "source": [
    "idlist=[text_id.iloc[i] for i in range(len(text_id))]"
   ]
  },
  {
   "cell_type": "code",
   "execution_count": 18,
   "metadata": {
    "_cell_guid": "9264cfa3-7697-4dce-b0a0-789bdc5a1cd5",
    "_uuid": "7d38ffe7-12e8-4a07-96f0-bef3bac8aae3"
   },
   "outputs": [],
   "source": [
    "df_sub=pd.DataFrame({'textID':idlist,'selected_text':selected_test})"
   ]
  },
  {
   "cell_type": "code",
   "execution_count": 19,
   "metadata": {
    "_cell_guid": "f47b4a65-2490-4651-b22e-9f96c68afd18",
    "_uuid": "5c534fd2-3811-4aea-a5f9-ef8db3d5696b"
   },
   "outputs": [
    {
     "data": {
      "text/html": [
       "<div>\n",
       "<style scoped>\n",
       "    .dataframe tbody tr th:only-of-type {\n",
       "        vertical-align: middle;\n",
       "    }\n",
       "\n",
       "    .dataframe tbody tr th {\n",
       "        vertical-align: top;\n",
       "    }\n",
       "\n",
       "    .dataframe thead th {\n",
       "        text-align: right;\n",
       "    }\n",
       "</style>\n",
       "<table border=\"1\" class=\"dataframe\">\n",
       "  <thead>\n",
       "    <tr style=\"text-align: right;\">\n",
       "      <th></th>\n",
       "      <th>textID</th>\n",
       "      <th>selected_text</th>\n",
       "    </tr>\n",
       "  </thead>\n",
       "  <tbody>\n",
       "    <tr>\n",
       "      <th>0</th>\n",
       "      <td>f87dea47db</td>\n",
       "      <td>last session of the day</td>\n",
       "    </tr>\n",
       "    <tr>\n",
       "      <th>1</th>\n",
       "      <td>96d74cb729</td>\n",
       "      <td>exciting</td>\n",
       "    </tr>\n",
       "    <tr>\n",
       "      <th>2</th>\n",
       "      <td>eee518ae67</td>\n",
       "      <td>shame!</td>\n",
       "    </tr>\n",
       "    <tr>\n",
       "      <th>3</th>\n",
       "      <td>01082688c6</td>\n",
       "      <td>happy</td>\n",
       "    </tr>\n",
       "    <tr>\n",
       "      <th>4</th>\n",
       "      <td>33987a8ee5</td>\n",
       "      <td>like</td>\n",
       "    </tr>\n",
       "  </tbody>\n",
       "</table>\n",
       "</div>"
      ],
      "text/plain": [
       "       textID              selected_text\n",
       "0  f87dea47db  last session of the day  \n",
       "1  96d74cb729                   exciting\n",
       "2  eee518ae67                     shame!\n",
       "3  01082688c6                      happy\n",
       "4  33987a8ee5                       like"
      ]
     },
     "execution_count": 19,
     "metadata": {},
     "output_type": "execute_result"
    }
   ],
   "source": [
    "df_sub.head()"
   ]
  },
  {
   "cell_type": "code",
   "execution_count": 20,
   "metadata": {
    "_cell_guid": "c9096147-bbcb-4819-9d88-519252e5514b",
    "_uuid": "cfc7ee14-f13c-4584-a68f-7633ccb9038d"
   },
   "outputs": [],
   "source": [
    "df_sub.to_csv('/kaggle/working/submission.csv',index=False)"
   ]
  },
  {
   "cell_type": "code",
   "execution_count": null,
   "metadata": {
    "_cell_guid": "adc1719d-0a7b-4e6e-a128-f64fa0fb5f68",
    "_uuid": "06c1a400-533d-4745-8028-9b3a0029220f"
   },
   "outputs": [],
   "source": []
  }
 ],
 "metadata": {
  "kernelspec": {
   "display_name": "Python 3",
   "language": "python",
   "name": "python3"
  },
  "language_info": {
   "codemirror_mode": {
    "name": "ipython",
    "version": 3
   },
   "file_extension": ".py",
   "mimetype": "text/x-python",
   "name": "python",
   "nbconvert_exporter": "python",
   "pygments_lexer": "ipython3",
   "version": "3.6.6"
  }
 },
 "nbformat": 4,
 "nbformat_minor": 4
}
