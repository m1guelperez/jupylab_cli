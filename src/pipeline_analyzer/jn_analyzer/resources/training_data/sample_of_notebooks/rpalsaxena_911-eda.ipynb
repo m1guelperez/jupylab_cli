{
 "cells": [
  {
   "cell_type": "code",
   "execution_count": 1,
   "metadata": {
    "_cell_guid": "e0db6637-37ef-37bb-a93b-7369655bccd6"
   },
   "outputs": [
    {
     "name": "stdout",
     "output_type": "stream",
     "text": [
      "911.csv\n",
      "\n"
     ]
    }
   ],
   "source": [
    "# This Python 3 environment comes with many helpful analytics libraries installed\n",
    "# It is defined by the kaggle/python docker image: https://github.com/kaggle/docker-python\n",
    "# For example, here's several helpful packages to load in \n",
    "\n",
    "import numpy as np # linear algebra\n",
    "import pandas as pd # data processing, CSV file I/O (e.g. pd.read_csv)\n",
    "import warnings\n",
    "warnings.filterwarnings(\"ignore\")\n",
    "from subprocess import check_output\n",
    "print(check_output([\"ls\", \"../input\"]).decode(\"utf8\"))\n",
    "\n",
    "import seaborn as sns\n",
    "import matplotlib.pyplot as plt\n",
    "sns.set(style=\"white\", color_codes=True)"
   ]
  },
  {
   "cell_type": "code",
   "execution_count": 2,
   "metadata": {
    "_cell_guid": "caf34fed-7609-1a47-66f7-db0f39b3e9b5"
   },
   "outputs": [
    {
     "data": {
      "text/html": [
       "<div>\n",
       "<table border=\"1\" class=\"dataframe\">\n",
       "  <thead>\n",
       "    <tr style=\"text-align: right;\">\n",
       "      <th></th>\n",
       "      <th>lat</th>\n",
       "      <th>lng</th>\n",
       "      <th>desc</th>\n",
       "      <th>zip</th>\n",
       "      <th>title</th>\n",
       "      <th>timeStamp</th>\n",
       "      <th>twp</th>\n",
       "      <th>addr</th>\n",
       "      <th>e</th>\n",
       "    </tr>\n",
       "  </thead>\n",
       "  <tbody>\n",
       "    <tr>\n",
       "      <th>0</th>\n",
       "      <td>40.297876</td>\n",
       "      <td>-75.581294</td>\n",
       "      <td>REINDEER CT &amp; DEAD END;  NEW HANOVER; Station ...</td>\n",
       "      <td>19525.0</td>\n",
       "      <td>EMS: BACK PAINS/INJURY</td>\n",
       "      <td>2015-12-10 17:40:00</td>\n",
       "      <td>NEW HANOVER</td>\n",
       "      <td>REINDEER CT &amp; DEAD END</td>\n",
       "      <td>1</td>\n",
       "    </tr>\n",
       "    <tr>\n",
       "      <th>1</th>\n",
       "      <td>40.258061</td>\n",
       "      <td>-75.264680</td>\n",
       "      <td>BRIAR PATH &amp; WHITEMARSH LN;  HATFIELD TOWNSHIP...</td>\n",
       "      <td>19446.0</td>\n",
       "      <td>EMS: DIABETIC EMERGENCY</td>\n",
       "      <td>2015-12-10 17:40:00</td>\n",
       "      <td>HATFIELD TOWNSHIP</td>\n",
       "      <td>BRIAR PATH &amp; WHITEMARSH LN</td>\n",
       "      <td>1</td>\n",
       "    </tr>\n",
       "    <tr>\n",
       "      <th>2</th>\n",
       "      <td>40.121182</td>\n",
       "      <td>-75.351975</td>\n",
       "      <td>HAWS AVE; NORRISTOWN; 2015-12-10 @ 14:39:21-St...</td>\n",
       "      <td>19401.0</td>\n",
       "      <td>Fire: GAS-ODOR/LEAK</td>\n",
       "      <td>2015-12-10 17:40:00</td>\n",
       "      <td>NORRISTOWN</td>\n",
       "      <td>HAWS AVE</td>\n",
       "      <td>1</td>\n",
       "    </tr>\n",
       "    <tr>\n",
       "      <th>3</th>\n",
       "      <td>40.116153</td>\n",
       "      <td>-75.343513</td>\n",
       "      <td>AIRY ST &amp; SWEDE ST;  NORRISTOWN; Station 308A;...</td>\n",
       "      <td>19401.0</td>\n",
       "      <td>EMS: CARDIAC EMERGENCY</td>\n",
       "      <td>2015-12-10 17:40:01</td>\n",
       "      <td>NORRISTOWN</td>\n",
       "      <td>AIRY ST &amp; SWEDE ST</td>\n",
       "      <td>1</td>\n",
       "    </tr>\n",
       "    <tr>\n",
       "      <th>4</th>\n",
       "      <td>40.251492</td>\n",
       "      <td>-75.603350</td>\n",
       "      <td>CHERRYWOOD CT &amp; DEAD END;  LOWER POTTSGROVE; S...</td>\n",
       "      <td>NaN</td>\n",
       "      <td>EMS: DIZZINESS</td>\n",
       "      <td>2015-12-10 17:40:01</td>\n",
       "      <td>LOWER POTTSGROVE</td>\n",
       "      <td>CHERRYWOOD CT &amp; DEAD END</td>\n",
       "      <td>1</td>\n",
       "    </tr>\n",
       "  </tbody>\n",
       "</table>\n",
       "</div>"
      ],
      "text/plain": [
       "         lat        lng                                               desc  \\\n",
       "0  40.297876 -75.581294  REINDEER CT & DEAD END;  NEW HANOVER; Station ...   \n",
       "1  40.258061 -75.264680  BRIAR PATH & WHITEMARSH LN;  HATFIELD TOWNSHIP...   \n",
       "2  40.121182 -75.351975  HAWS AVE; NORRISTOWN; 2015-12-10 @ 14:39:21-St...   \n",
       "3  40.116153 -75.343513  AIRY ST & SWEDE ST;  NORRISTOWN; Station 308A;...   \n",
       "4  40.251492 -75.603350  CHERRYWOOD CT & DEAD END;  LOWER POTTSGROVE; S...   \n",
       "\n",
       "       zip                    title            timeStamp                twp  \\\n",
       "0  19525.0   EMS: BACK PAINS/INJURY  2015-12-10 17:40:00        NEW HANOVER   \n",
       "1  19446.0  EMS: DIABETIC EMERGENCY  2015-12-10 17:40:00  HATFIELD TOWNSHIP   \n",
       "2  19401.0      Fire: GAS-ODOR/LEAK  2015-12-10 17:40:00         NORRISTOWN   \n",
       "3  19401.0   EMS: CARDIAC EMERGENCY  2015-12-10 17:40:01         NORRISTOWN   \n",
       "4      NaN           EMS: DIZZINESS  2015-12-10 17:40:01   LOWER POTTSGROVE   \n",
       "\n",
       "                         addr  e  \n",
       "0      REINDEER CT & DEAD END  1  \n",
       "1  BRIAR PATH & WHITEMARSH LN  1  \n",
       "2                    HAWS AVE  1  \n",
       "3          AIRY ST & SWEDE ST  1  \n",
       "4    CHERRYWOOD CT & DEAD END  1  "
      ]
     },
     "execution_count": 2,
     "metadata": {},
     "output_type": "execute_result"
    }
   ],
   "source": [
    "data = pd.read_csv(\"../input/911.csv\")\n",
    "list(data)\n",
    "data.head()"
   ]
  },
  {
   "cell_type": "code",
   "execution_count": 3,
   "metadata": {
    "_cell_guid": "794ce848-d3b3-e7fd-a24a-5924ada9dd8e"
   },
   "outputs": [
    {
     "data": {
      "text/plain": [
       "Traffic: VEHICLE ACCIDENT -             28873\n",
       "Traffic: DISABLED VEHICLE -              9453\n",
       "Fire: FIRE ALARM                         7000\n",
       "EMS: RESPIRATORY EMERGENCY               6247\n",
       "EMS: CARDIAC EMERGENCY                   6168\n",
       "EMS: FALL VICTIM                         6083\n",
       "EMS: VEHICLE ACCIDENT                    4984\n",
       "Traffic: ROAD OBSTRUCTION -              3854\n",
       "EMS: SUBJECT IN PAIN                     3379\n",
       "EMS: HEAD INJURY                         3297\n",
       "EMS: UNKNOWN MEDICAL EMERGENCY           2356\n",
       "EMS: SYNCOPAL EPISODE                    2142\n",
       "Fire: VEHICLE ACCIDENT                   2053\n",
       "EMS: SEIZURES                            2025\n",
       "EMS: GENERAL WEAKNESS                    1808\n",
       "Fire: FIRE INVESTIGATION                 1795\n",
       "EMS: ABDOMINAL PAINS                     1788\n",
       "EMS: ALTERED MENTAL STATUS               1721\n",
       "EMS: MEDICAL ALERT ALARM                 1631\n",
       "EMS: OVERDOSE                            1542\n",
       "EMS: HEMORRHAGING                        1529\n",
       "EMS: CVA/STROKE                          1504\n",
       "EMS: UNCONSCIOUS SUBJECT                 1417\n",
       "EMS: NAUSEA/VOMITING                     1398\n",
       "Fire: GAS-ODOR/LEAK                      1281\n",
       "Traffic: HAZARDOUS ROAD CONDITIONS -     1248\n",
       "EMS: DIABETIC EMERGENCY                  1067\n",
       "EMS: DIZZINESS                           1003\n",
       "Fire: BUILDING FIRE                       947\n",
       "EMS: BACK PAINS/INJURY                    933\n",
       "                                        ...  \n",
       "EMS: HAZARDOUS MATERIALS INCIDENT           7\n",
       "Fire: HAZARDOUS MATERIALS INCIDENT          6\n",
       "EMS: INDUSTRIAL ACCIDENT                    6\n",
       "Fire: TRAIN CRASH                           5\n",
       "EMS: DROWNING                               5\n",
       "EMS: ELECTROCUTION                          5\n",
       "EMS: TRAIN CRASH                            3\n",
       "EMS: UNKNOWN TYPE FIRE                      3\n",
       "Fire: FALL VICTIM                           3\n",
       "EMS: WARRANT SERVICE                        2\n",
       "EMS: SUSPICIOUS                             2\n",
       "EMS: ACTIVE SHOOTER                         2\n",
       "Fire: PLANE CRASH                           2\n",
       "Fire: POLICE INFORMATION                    2\n",
       "EMS: DEBRIS/FLUIDS ON HIGHWAY               2\n",
       "Fire: EMS SPECIAL SERVICE                   2\n",
       "EMS: PLANE CRASH                            2\n",
       "Fire: MEDICAL ALERT ALARM                   2\n",
       "EMS: STANDBY FOR ANOTHER CO                 1\n",
       "Fire: SYNCOPAL EPISODE                      1\n",
       "Fire: DIABETIC EMERGENCY                    1\n",
       "EMS: BOMB DEVICE FOUND                      1\n",
       "EMS: DISABLED VEHICLE                       1\n",
       "Fire: UNKNOWN MEDICAL EMERGENCY             1\n",
       "EMS: ARMED SUBJECT                          1\n",
       "Fire: CARDIAC EMERGENCY                     1\n",
       "Fire: UNRESPONSIVE SUBJECT                  1\n",
       "EMS: HIT + RUN                              1\n",
       "EMS: ELECTRICAL FIRE OUTSIDE                1\n",
       "Fire: UNCONSCIOUS SUBJECT                   1\n",
       "Name: title, dtype: int64"
      ]
     },
     "execution_count": 3,
     "metadata": {},
     "output_type": "execute_result"
    }
   ],
   "source": [
    "data[\"title\"].value_counts()"
   ]
  }
 ],
 "metadata": {
  "_change_revision": 169,
  "_is_fork": false,
  "kernelspec": {
   "display_name": "Python 3",
   "language": "python",
   "name": "python3"
  },
  "language_info": {
   "codemirror_mode": {
    "name": "ipython",
    "version": 3
   },
   "file_extension": ".py",
   "mimetype": "text/x-python",
   "name": "python",
   "nbconvert_exporter": "python",
   "pygments_lexer": "ipython3",
   "version": "3.5.2"
  }
 },
 "nbformat": 4,
 "nbformat_minor": 0
}
