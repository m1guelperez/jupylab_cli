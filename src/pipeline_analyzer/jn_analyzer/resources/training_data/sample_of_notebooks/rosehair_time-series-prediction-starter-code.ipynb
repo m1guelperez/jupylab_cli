{
 "cells": [
  {
   "cell_type": "code",
   "execution_count": 1,
   "metadata": {
    "_cell_guid": "b1076dfc-b9ad-4769-8c92-a6c4dae69d19",
    "_uuid": "8f2839f25d086af736a60e9eeb907d3b93b6e0e5"
   },
   "outputs": [],
   "source": [
    "import numpy as np\n",
    "import pandas as pd \n",
    "from sklearn.linear_model import LinearRegression"
   ]
  },
  {
   "cell_type": "code",
   "execution_count": 2,
   "metadata": {
    "_cell_guid": "79c7e3d0-c299-4dcb-8224-4455121ee9b0",
    "_uuid": "d629ff2d2480ee46fbb7e2d37f6b5fab8052498a"
   },
   "outputs": [],
   "source": [
    "train = pd.read_csv(\"../input/ts_train.csv\")\n",
    "test = pd.read_csv(\"../input/ts_test.csv\")"
   ]
  },
  {
   "cell_type": "code",
   "execution_count": 3,
   "metadata": {},
   "outputs": [],
   "source": [
    "def select_ts(index):\n",
    "    return (train[train.tsID == index].copy(),\n",
    "            test[test.tsID == index].copy())"
   ]
  },
  {
   "cell_type": "code",
   "execution_count": 4,
   "metadata": {},
   "outputs": [],
   "source": [
    "D = 30"
   ]
  },
  {
   "cell_type": "code",
   "execution_count": 5,
   "metadata": {},
   "outputs": [],
   "source": [
    "def prepare(data):\n",
    "    train_matrix = []\n",
    "    test_vector = []\n",
    "    data  = data.ACTUAL.values\n",
    "    for i in range(D, len(data)):\n",
    "        train_matrix.append(data[i-D:i])\n",
    "        test_vector.append(data[i])\n",
    "    return np.array(train_matrix), np.array(test_vector)"
   ]
  },
  {
   "cell_type": "code",
   "execution_count": 6,
   "metadata": {},
   "outputs": [],
   "source": [
    "def main(train, test):\n",
    "    M, Y = prepare(train)\n",
    "    model = LinearRegression()\n",
    "    model.fit(M, Y)\n",
    "    \n",
    "    x = train.ACTUAL.values[-D:]\n",
    "    y = []\n",
    "    for _ in range(300):\n",
    "        p = model.predict(x.reshape(1, -1))\n",
    "        y.append(p[0])\n",
    "        x = np.hstack((x[1:], p))\n",
    "    test[\"ACTUAL\"] = y\n",
    "    return test.copy()"
   ]
  },
  {
   "cell_type": "code",
   "execution_count": 7,
   "metadata": {},
   "outputs": [],
   "source": [
    "test_all = None\n",
    "for i in range(1, 23):\n",
    "    if test_all is None: \n",
    "        test_all = main(*select_ts(i))\n",
    "    else:\n",
    "        test_all = test_all.append(main(*select_ts(i)))"
   ]
  },
  {
   "cell_type": "code",
   "execution_count": 8,
   "metadata": {},
   "outputs": [],
   "source": [
    "test_all.set_index(\"ID\", inplace=True)"
   ]
  },
  {
   "cell_type": "code",
   "execution_count": 9,
   "metadata": {},
   "outputs": [],
   "source": [
    "test_all.ACTUAL.to_csv(\"sub.csv\")"
   ]
  }
 ],
 "metadata": {
  "kernelspec": {
   "display_name": "Python 3",
   "language": "python",
   "name": "python3"
  },
  "language_info": {
   "codemirror_mode": {
    "name": "ipython",
    "version": 3
   },
   "file_extension": ".py",
   "mimetype": "text/x-python",
   "name": "python",
   "nbconvert_exporter": "python",
   "pygments_lexer": "ipython3",
   "version": "3.6.4"
  }
 },
 "nbformat": 4,
 "nbformat_minor": 1
}
