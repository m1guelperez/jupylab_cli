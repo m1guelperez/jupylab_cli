{
 "cells": [
  {
   "cell_type": "markdown",
   "metadata": {},
   "source": [
    "## Classification Algorithm\n",
    "In this section we are going to learn about classification algorithm.\n",
    "\n",
    "Problem Statement: The problem statement is to predict the list of survivors in the disaster situation that happened more than 100 years ago when Titanic sank to the bottom of the ocean.\n",
    "\n"
   ]
  },
  {
   "cell_type": "code",
   "execution_count": 1,
   "metadata": {
    "_cell_guid": "b1076dfc-b9ad-4769-8c92-a6c4dae69d19",
    "_uuid": "8f2839f25d086af736a60e9eeb907d3b93b6e0e5"
   },
   "outputs": [],
   "source": [
    "#Libraries\n",
    "import numpy as np\n",
    "import pandas as pd"
   ]
  },
  {
   "cell_type": "code",
   "execution_count": 2,
   "metadata": {
    "_cell_guid": "79c7e3d0-c299-4dcb-8224-4455121ee9b0",
    "_uuid": "d629ff2d2480ee46fbb7e2d37f6b5fab8052498a"
   },
   "outputs": [
    {
     "data": {
      "text/plain": [
       "(891, 12)"
      ]
     },
     "execution_count": 2,
     "metadata": {},
     "output_type": "execute_result"
    }
   ],
   "source": [
    "df_training = pd.read_csv('../input/train.csv')\n",
    "\n",
    "df_training.shape"
   ]
  },
  {
   "cell_type": "markdown",
   "metadata": {},
   "source": [
    "So data set has total 891 rows. that is it has information about 891 people wether they survived or not. It has 12 rows, lets see what they are and what is there data type."
   ]
  },
  {
   "cell_type": "code",
   "execution_count": 3,
   "metadata": {},
   "outputs": [
    {
     "data": {
      "text/plain": [
       "PassengerId      int64\n",
       "Survived         int64\n",
       "Pclass           int64\n",
       "Name            object\n",
       "Sex             object\n",
       "Age            float64\n",
       "SibSp            int64\n",
       "Parch            int64\n",
       "Ticket          object\n",
       "Fare           float64\n",
       "Cabin           object\n",
       "Embarked        object\n",
       "dtype: object"
      ]
     },
     "execution_count": 3,
     "metadata": {},
     "output_type": "execute_result"
    }
   ],
   "source": [
    "df_training.dtypes"
   ]
  },
  {
   "cell_type": "markdown",
   "metadata": {},
   "source": [
    "## Feature Description\n",
    "We have following details about the passengers of Titanic. Lets apply basic analysis on them. we will do an EDA before accepting or rejecting a column as predictor for survival value.\n",
    "- Passenger Id - uniquely identifying each passenger. This cannot help us in identifying the survival of a passenger.\n",
    "- Survived - Thie is the value that tells wether a passenger has survived or not with values 0 and 1. this is a categorical value and data type needs to be changed in the dataframe.\n",
    "- Pclass - This tells the class of passenger. When the ship was sinking, most of the survivors were chosen from high class. hence the Pclass will help us identify the survivors.\n",
    "- Name - Just like passenger Id, Name will be different for each row and so not useful in predicting the survival of passengers.\n",
    "- Sex - Female passengers were give preference over male passengers to go in life boats. and so Sex is a good predictor for the survival.\n",
    "- Age - Childrens were preferred during rescue operation on Titanic. Hence we will have to create category of age for deciding the survivors.\n",
    "- SibSp - It gives total number of siblings and spouse for that particular passenger.\n",
    "- Parch - Number of parents or children aboard the ship.\n",
    "- Ticket - Ticket number.\n",
    "- Fare - Passenger Fare.\n",
    "- Cabin - Cabin Number. A passenger can have a cabin or may not have the cabin. we can create a categorical variable which stores if a passenger has cabin or not.\n",
    "- Embarked - Port at which passenger embarked their journey."
   ]
  },
  {
   "cell_type": "code",
   "execution_count": 4,
   "metadata": {},
   "outputs": [
    {
     "data": {
      "text/html": [
       "<div>\n",
       "<style scoped>\n",
       "    .dataframe tbody tr th:only-of-type {\n",
       "        vertical-align: middle;\n",
       "    }\n",
       "\n",
       "    .dataframe tbody tr th {\n",
       "        vertical-align: top;\n",
       "    }\n",
       "\n",
       "    .dataframe thead th {\n",
       "        text-align: right;\n",
       "    }\n",
       "</style>\n",
       "<table border=\"1\" class=\"dataframe\">\n",
       "  <thead>\n",
       "    <tr style=\"text-align: right;\">\n",
       "      <th></th>\n",
       "      <th>Survived</th>\n",
       "      <th>Pclass</th>\n",
       "      <th>Sex</th>\n",
       "      <th>Age</th>\n",
       "      <th>SibSp</th>\n",
       "      <th>Parch</th>\n",
       "      <th>Cabin</th>\n",
       "      <th>Embarked</th>\n",
       "    </tr>\n",
       "  </thead>\n",
       "  <tbody>\n",
       "    <tr>\n",
       "      <th>0</th>\n",
       "      <td>0</td>\n",
       "      <td>3</td>\n",
       "      <td>male</td>\n",
       "      <td>22.0</td>\n",
       "      <td>1</td>\n",
       "      <td>0</td>\n",
       "      <td>NaN</td>\n",
       "      <td>S</td>\n",
       "    </tr>\n",
       "    <tr>\n",
       "      <th>1</th>\n",
       "      <td>1</td>\n",
       "      <td>1</td>\n",
       "      <td>female</td>\n",
       "      <td>38.0</td>\n",
       "      <td>1</td>\n",
       "      <td>0</td>\n",
       "      <td>C85</td>\n",
       "      <td>C</td>\n",
       "    </tr>\n",
       "    <tr>\n",
       "      <th>2</th>\n",
       "      <td>1</td>\n",
       "      <td>3</td>\n",
       "      <td>female</td>\n",
       "      <td>26.0</td>\n",
       "      <td>0</td>\n",
       "      <td>0</td>\n",
       "      <td>NaN</td>\n",
       "      <td>S</td>\n",
       "    </tr>\n",
       "    <tr>\n",
       "      <th>3</th>\n",
       "      <td>1</td>\n",
       "      <td>1</td>\n",
       "      <td>female</td>\n",
       "      <td>35.0</td>\n",
       "      <td>1</td>\n",
       "      <td>0</td>\n",
       "      <td>C123</td>\n",
       "      <td>S</td>\n",
       "    </tr>\n",
       "    <tr>\n",
       "      <th>4</th>\n",
       "      <td>0</td>\n",
       "      <td>3</td>\n",
       "      <td>male</td>\n",
       "      <td>35.0</td>\n",
       "      <td>0</td>\n",
       "      <td>0</td>\n",
       "      <td>NaN</td>\n",
       "      <td>S</td>\n",
       "    </tr>\n",
       "  </tbody>\n",
       "</table>\n",
       "</div>"
      ],
      "text/plain": [
       "   Survived  Pclass     Sex   Age  SibSp  Parch Cabin Embarked\n",
       "0         0       3    male  22.0      1      0   NaN        S\n",
       "1         1       1  female  38.0      1      0   C85        C\n",
       "2         1       3  female  26.0      0      0   NaN        S\n",
       "3         1       1  female  35.0      1      0  C123        S\n",
       "4         0       3    male  35.0      0      0   NaN        S"
      ]
     },
     "execution_count": 4,
     "metadata": {},
     "output_type": "execute_result"
    }
   ],
   "source": [
    "# Lets remove passenger id out of the training set and store it in another variable\n",
    "training_passengerId = df_training.PassengerId\n",
    "\n",
    "df_training.drop(columns=['PassengerId'],inplace=True)\n",
    "\n",
    "#dropping Name and Ticket and fare as well out of the data\n",
    "df_training.drop(columns=['Name','Ticket','Fare'],inplace=True)\n",
    "df_training.head()"
   ]
  },
  {
   "cell_type": "code",
   "execution_count": 5,
   "metadata": {},
   "outputs": [
    {
     "name": "stdout",
     "output_type": "stream",
     "text": [
      "Survived value counts: \n",
      "0    549\n",
      "1    342\n",
      "Name: Survived, dtype: int64\n",
      "Count by class: \n",
      "3    491\n",
      "1    216\n",
      "2    184\n",
      "Name: Pclass, dtype: int64\n",
      "count by sex: \n",
      "male      577\n",
      "female    314\n",
      "Name: Sex, dtype: int64\n",
      "Cabin or without cabin count\n",
      "Without cabin 687\n",
      "With cabin 204\n",
      "Count by Journey Embarking point:\n",
      "S    644\n",
      "C    168\n",
      "Q     77\n",
      "Name: Embarked, dtype: int64\n"
     ]
    }
   ],
   "source": [
    "#Lets annalyze the values of remaining data\n",
    "\n",
    "print('Survived value counts: ')\n",
    "print(df_training.Survived.value_counts())\n",
    "\n",
    "print('Count by class: ')\n",
    "print(df_training.Pclass.value_counts())\n",
    "\n",
    "print('count by sex: ')\n",
    "print(df_training.Sex.value_counts())\n",
    "\n",
    "print('Cabin or without cabin count')\n",
    "print('Without cabin', df_training.Cabin.isnull().sum())\n",
    "print('With cabin', df_training.shape[0] - df_training.Cabin.isnull().sum())\n",
    "\n",
    "print('Count by Journey Embarking point:')\n",
    "print(df_training.Embarked.value_counts())"
   ]
  },
  {
   "cell_type": "markdown",
   "metadata": {},
   "source": [
    "Lets change these values to category type\n"
   ]
  },
  {
   "cell_type": "code",
   "execution_count": 6,
   "metadata": {},
   "outputs": [],
   "source": [
    "#creating category types\n",
    "df_training.Survived=df_training.Survived.astype('category')\n",
    "df_training.Pclass=df_training.Pclass.astype('category')\n",
    "df_training.Sex=df_training.Sex.astype('category')\n",
    "df_training.Embarked = df_training.Embarked.astype('category')\n",
    "\n",
    "# lets do feature engineering using cabin. if a passenger has cabin and if a passenger doesnot have a cabin.\n",
    "df_training['cabinAllocated'] = df_training.Cabin.apply(lambda x: 0 if type(x)==float else 1)\n",
    "df_training['cabinAllocated'] = df_training['cabinAllocated'].astype('category')"
   ]
  },
  {
   "cell_type": "code",
   "execution_count": 7,
   "metadata": {},
   "outputs": [
    {
     "data": {
      "text/plain": [
       "Survived          category\n",
       "Pclass            category\n",
       "Sex               category\n",
       "Age                float64\n",
       "SibSp                int64\n",
       "Parch                int64\n",
       "Cabin               object\n",
       "Embarked          category\n",
       "cabinAllocated    category\n",
       "dtype: object"
      ]
     },
     "execution_count": 7,
     "metadata": {},
     "output_type": "execute_result"
    }
   ],
   "source": [
    "df_training.dtypes"
   ]
  },
  {
   "cell_type": "code",
   "execution_count": 8,
   "metadata": {},
   "outputs": [],
   "source": [
    "# Lets drop Cabin first\n",
    "df_training.drop(columns=['Cabin'],inplace=True)"
   ]
  },
  {
   "cell_type": "markdown",
   "metadata": {},
   "source": [
    "Now lets draw some garphs to understand age column's behaviour againsth the count."
   ]
  },
  {
   "cell_type": "code",
   "execution_count": 9,
   "metadata": {},
   "outputs": [
    {
     "name": "stdout",
     "output_type": "stream",
     "text": [
      "Min Age : 0.42, Max age : 80.0\n"
     ]
    }
   ],
   "source": [
    "print(\"Min Age : {}, Max age : {}\".format(df_training.Age.min(),df_training.Age.max()))"
   ]
  },
  {
   "cell_type": "code",
   "execution_count": 10,
   "metadata": {},
   "outputs": [
    {
     "data": {
      "text/plain": [
       "177"
      ]
     },
     "execution_count": 10,
     "metadata": {},
     "output_type": "execute_result"
    }
   ],
   "source": [
    "df_training.Age.isnull().sum()"
   ]
  },
  {
   "cell_type": "markdown",
   "metadata": {},
   "source": [
    "As there are 177 records without age, we can either ignore them or randomly put some values. Age played an important role in deciding the survivals. Lets put some random numbers in place of null values."
   ]
  },
  {
   "cell_type": "code",
   "execution_count": 11,
   "metadata": {},
   "outputs": [
    {
     "name": "stderr",
     "output_type": "stream",
     "text": [
      "/opt/conda/lib/python3.6/site-packages/ipykernel_launcher.py:4: SettingWithCopyWarning: \n",
      "A value is trying to be set on a copy of a slice from a DataFrame\n",
      "\n",
      "See the caveats in the documentation: http://pandas.pydata.org/pandas-docs/stable/indexing.html#indexing-view-versus-copy\n",
      "  after removing the cwd from sys.path.\n"
     ]
    }
   ],
   "source": [
    "random_list = np.random.randint(df_training.Age.mean() - df_training.Age.std(), \n",
    "                                         df_training.Age.mean() + df_training.Age.std(), \n",
    "                                         size=df_training.Age.isnull().sum())\n",
    "df_training['Age'][np.isnan(df_training['Age'])] = random_list\n",
    "df_training['Age'] = df_training['Age'].astype(int)"
   ]
  },
  {
   "cell_type": "code",
   "execution_count": 12,
   "metadata": {},
   "outputs": [],
   "source": [
    "# Lets divide age in 5 bins\n",
    "\n",
    "df_training['AgeGroup'] = pd.cut(df_training.Age,5,labels=[1,2,3,4,5])\n"
   ]
  },
  {
   "cell_type": "code",
   "execution_count": 13,
   "metadata": {},
   "outputs": [],
   "source": [
    "#As we have categorized age into AgeGroup, lets remove Age\n",
    "df_training.drop(columns=['Age'],inplace=True)"
   ]
  },
  {
   "cell_type": "markdown",
   "metadata": {},
   "source": [
    "Lets get complete family size from Parch and SibSp columns by adding them."
   ]
  },
  {
   "cell_type": "code",
   "execution_count": 14,
   "metadata": {},
   "outputs": [],
   "source": [
    "#Adding 1 to indicate the person in that row\n",
    "df_training['family'] = df_training.Parch+df_training.SibSp+1"
   ]
  },
  {
   "cell_type": "code",
   "execution_count": 15,
   "metadata": {},
   "outputs": [
    {
     "data": {
      "text/html": [
       "<div>\n",
       "<style scoped>\n",
       "    .dataframe tbody tr th:only-of-type {\n",
       "        vertical-align: middle;\n",
       "    }\n",
       "\n",
       "    .dataframe tbody tr th {\n",
       "        vertical-align: top;\n",
       "    }\n",
       "\n",
       "    .dataframe thead th {\n",
       "        text-align: right;\n",
       "    }\n",
       "</style>\n",
       "<table border=\"1\" class=\"dataframe\">\n",
       "  <thead>\n",
       "    <tr style=\"text-align: right;\">\n",
       "      <th></th>\n",
       "      <th>Survived</th>\n",
       "      <th>Pclass</th>\n",
       "      <th>Sex</th>\n",
       "      <th>Embarked</th>\n",
       "      <th>cabinAllocated</th>\n",
       "      <th>AgeGroup</th>\n",
       "      <th>family</th>\n",
       "    </tr>\n",
       "  </thead>\n",
       "  <tbody>\n",
       "    <tr>\n",
       "      <th>0</th>\n",
       "      <td>0</td>\n",
       "      <td>3</td>\n",
       "      <td>male</td>\n",
       "      <td>S</td>\n",
       "      <td>0</td>\n",
       "      <td>2</td>\n",
       "      <td>2</td>\n",
       "    </tr>\n",
       "    <tr>\n",
       "      <th>1</th>\n",
       "      <td>1</td>\n",
       "      <td>1</td>\n",
       "      <td>female</td>\n",
       "      <td>C</td>\n",
       "      <td>1</td>\n",
       "      <td>3</td>\n",
       "      <td>2</td>\n",
       "    </tr>\n",
       "    <tr>\n",
       "      <th>2</th>\n",
       "      <td>1</td>\n",
       "      <td>3</td>\n",
       "      <td>female</td>\n",
       "      <td>S</td>\n",
       "      <td>0</td>\n",
       "      <td>2</td>\n",
       "      <td>1</td>\n",
       "    </tr>\n",
       "    <tr>\n",
       "      <th>3</th>\n",
       "      <td>1</td>\n",
       "      <td>1</td>\n",
       "      <td>female</td>\n",
       "      <td>S</td>\n",
       "      <td>1</td>\n",
       "      <td>3</td>\n",
       "      <td>2</td>\n",
       "    </tr>\n",
       "    <tr>\n",
       "      <th>4</th>\n",
       "      <td>0</td>\n",
       "      <td>3</td>\n",
       "      <td>male</td>\n",
       "      <td>S</td>\n",
       "      <td>0</td>\n",
       "      <td>3</td>\n",
       "      <td>1</td>\n",
       "    </tr>\n",
       "  </tbody>\n",
       "</table>\n",
       "</div>"
      ],
      "text/plain": [
       "  Survived Pclass     Sex Embarked cabinAllocated AgeGroup  family\n",
       "0        0      3    male        S              0        2       2\n",
       "1        1      1  female        C              1        3       2\n",
       "2        1      3  female        S              0        2       1\n",
       "3        1      1  female        S              1        3       2\n",
       "4        0      3    male        S              0        3       1"
      ]
     },
     "execution_count": 15,
     "metadata": {},
     "output_type": "execute_result"
    }
   ],
   "source": [
    "df_training.drop(columns=['SibSp','Parch'],inplace=True)\n",
    "df_training.head()"
   ]
  },
  {
   "cell_type": "code",
   "execution_count": 16,
   "metadata": {},
   "outputs": [
    {
     "data": {
      "text/plain": [
       "male      577\n",
       "female    314\n",
       "Name: Sex, dtype: int64"
      ]
     },
     "execution_count": 16,
     "metadata": {},
     "output_type": "execute_result"
    }
   ],
   "source": [
    "df_training['Sex'].value_counts()"
   ]
  },
  {
   "cell_type": "code",
   "execution_count": 17,
   "metadata": {},
   "outputs": [],
   "source": [
    "df_training['category_sex'] = df_training['Sex'].apply(lambda x: 1 if x=='male'  else 0)"
   ]
  },
  {
   "cell_type": "code",
   "execution_count": 18,
   "metadata": {},
   "outputs": [],
   "source": [
    "df_training.drop(columns=['Sex'],inplace=True)"
   ]
  },
  {
   "cell_type": "code",
   "execution_count": 19,
   "metadata": {},
   "outputs": [
    {
     "data": {
      "text/plain": [
       "S    644\n",
       "C    168\n",
       "Q     77\n",
       "Name: Embarked, dtype: int64"
      ]
     },
     "execution_count": 19,
     "metadata": {},
     "output_type": "execute_result"
    }
   ],
   "source": [
    "df_training.Embarked.value_counts()"
   ]
  },
  {
   "cell_type": "code",
   "execution_count": 20,
   "metadata": {},
   "outputs": [],
   "source": [
    "df_training.Embarked = df_training.Embarked.fillna('S')\n",
    "df_training.Embarked = df_training.Embarked.map({'S':1,'C':2,'Q':3}).astype('int')"
   ]
  },
  {
   "cell_type": "code",
   "execution_count": 21,
   "metadata": {},
   "outputs": [
    {
     "data": {
      "text/plain": [
       "1    646\n",
       "2    168\n",
       "3     77\n",
       "Name: Embarked, dtype: int64"
      ]
     },
     "execution_count": 21,
     "metadata": {},
     "output_type": "execute_result"
    }
   ],
   "source": [
    "df_training.Embarked.value_counts()"
   ]
  },
  {
   "cell_type": "code",
   "execution_count": 22,
   "metadata": {},
   "outputs": [],
   "source": []
  },
  {
   "cell_type": "code",
   "execution_count": 22,
   "metadata": {},
   "outputs": [],
   "source": [
    "from sklearn.model_selection import train_test_split\n",
    "train_x,test_x,train_y,test_y = train_test_split(df_training.iloc[:,1:],df_training.iloc[:,0],test_size=0.2,random_state=0)"
   ]
  },
  {
   "cell_type": "code",
   "execution_count": 23,
   "metadata": {},
   "outputs": [
    {
     "data": {
      "text/plain": [
       "RandomForestClassifier(bootstrap=True, class_weight=None, criterion='gini',\n",
       "            max_depth=None, max_features='auto', max_leaf_nodes=None,\n",
       "            min_impurity_decrease=0.0, min_impurity_split=None,\n",
       "            min_samples_leaf=1, min_samples_split=2,\n",
       "            min_weight_fraction_leaf=0.0, n_estimators=100, n_jobs=None,\n",
       "            oob_score=False, random_state=None, verbose=0,\n",
       "            warm_start=False)"
      ]
     },
     "execution_count": 23,
     "metadata": {},
     "output_type": "execute_result"
    }
   ],
   "source": [
    "from sklearn.ensemble import RandomForestClassifier\n",
    "\n",
    "randomForest = RandomForestClassifier(n_estimators=100)\n",
    "\n",
    "randomForest.fit(train_x,train_y)"
   ]
  },
  {
   "cell_type": "code",
   "execution_count": 24,
   "metadata": {},
   "outputs": [],
   "source": [
    "y_hat = randomForest.predict(test_x)"
   ]
  },
  {
   "cell_type": "code",
   "execution_count": 25,
   "metadata": {},
   "outputs": [
    {
     "data": {
      "text/plain": [
       "0.7821229050279329"
      ]
     },
     "execution_count": 25,
     "metadata": {},
     "output_type": "execute_result"
    }
   ],
   "source": [
    "from sklearn.metrics import accuracy_score\n",
    "accuracy_score(test_y,y_hat)"
   ]
  },
  {
   "cell_type": "markdown",
   "metadata": {},
   "source": [
    "Lets use complete set to create the model"
   ]
  },
  {
   "cell_type": "code",
   "execution_count": 26,
   "metadata": {},
   "outputs": [
    {
     "data": {
      "text/plain": [
       "RandomForestClassifier(bootstrap=True, class_weight=None, criterion='gini',\n",
       "            max_depth=None, max_features='auto', max_leaf_nodes=None,\n",
       "            min_impurity_decrease=0.0, min_impurity_split=None,\n",
       "            min_samples_leaf=1, min_samples_split=2,\n",
       "            min_weight_fraction_leaf=0.0, n_estimators=100, n_jobs=None,\n",
       "            oob_score=False, random_state=None, verbose=0,\n",
       "            warm_start=False)"
      ]
     },
     "execution_count": 26,
     "metadata": {},
     "output_type": "execute_result"
    }
   ],
   "source": [
    "randomForest.fit(df_training.iloc[:,1:],df_training.iloc[:,0])"
   ]
  },
  {
   "cell_type": "markdown",
   "metadata": {},
   "source": [
    "Now lets import the test file and create the output based on the test file. Before that, we will have to make all the manipulations on test file that we did on training file."
   ]
  },
  {
   "cell_type": "code",
   "execution_count": 27,
   "metadata": {},
   "outputs": [
    {
     "name": "stderr",
     "output_type": "stream",
     "text": [
      "/opt/conda/lib/python3.6/site-packages/ipykernel_launcher.py:27: SettingWithCopyWarning: \n",
      "A value is trying to be set on a copy of a slice from a DataFrame\n",
      "\n",
      "See the caveats in the documentation: http://pandas.pydata.org/pandas-docs/stable/indexing.html#indexing-view-versus-copy\n"
     ]
    }
   ],
   "source": [
    "df_testing = pd.read_csv('../input/test.csv')\n",
    "\n",
    "# Lets remove passenger id out of the training set and store it in another variable\n",
    "testing_passengerId = df_testing.PassengerId\n",
    "\n",
    "df_testing.drop(columns=['PassengerId'],inplace=True)\n",
    "\n",
    "#dropping Name and Ticket and fare as well out of the data\n",
    "df_testing.drop(columns=['Name','Ticket','Fare'],inplace=True)\n",
    "df_testing.head()\n",
    "\n",
    "#creating category types\n",
    "df_testing.Pclass=df_testing.Pclass.astype('category')\n",
    "df_testing.Sex=df_testing.Sex.astype('category')\n",
    "df_testing.Embarked = df_testing.Embarked.astype('category')\n",
    "\n",
    "# lets do feature engineering using cabin. if a passenger has cabin and if a passenger doesnot have a cabin.\n",
    "df_testing['cabinAllocated'] = df_testing.Cabin.apply(lambda x: 0 if type(x)==float else 1)\n",
    "df_testing['cabinAllocated'] = df_testing['cabinAllocated'].astype('category')\n",
    "\n",
    "# Lets drop Cabin first\n",
    "df_testing.drop(columns=['Cabin'],inplace=True)\n",
    "\n",
    "random_list_test = np.random.randint(df_testing.Age.mean() - df_testing.Age.std(), \n",
    "                                         df_testing.Age.mean() + df_testing.Age.std(), \n",
    "                                         size=df_testing.Age.isnull().sum())\n",
    "df_testing['Age'][np.isnan(df_testing['Age'])] = random_list_test\n",
    "df_testing['Age'] = df_testing['Age'].astype(int)\n",
    "\n",
    "# Lets divide age in 5 bins\n",
    "\n",
    "df_testing['AgeGroup'] = pd.cut(df_testing.Age,5,labels=[1,2,3,4,5])\n",
    "\n",
    "\n",
    "#As we have categorized age into AgeGroup, lets remove Age\n",
    "df_testing.drop(columns=['Age'],inplace=True)\n",
    "\n",
    "#Adding 1 to indicate the person in that row\n",
    "df_testing['family'] = df_testing.Parch+df_testing.SibSp+1\n",
    "\n",
    "df_testing.drop(columns=['SibSp','Parch'],inplace=True)\n",
    "\n",
    "df_testing['category_sex'] = df_testing['Sex'].apply(lambda x: 1 if x=='male'  else 0)\n",
    "df_testing.drop(columns=['Sex'],inplace=True)\n",
    "\n",
    "df_testing.Embarked = df_testing.Embarked.fillna('S')\n",
    "df_testing.Embarked = df_testing.Embarked.map({'S':1,'C':2,'Q':3}).astype('int')\n"
   ]
  },
  {
   "cell_type": "code",
   "execution_count": 28,
   "metadata": {},
   "outputs": [],
   "source": [
    "submission_data = pd.DataFrame({'PassengerId':testing_passengerId, 'Survived':randomForest.predict(df_testing)})\n",
    "\n",
    "submission_data.to_csv(\"Submission_Data.csv\",index=False)"
   ]
  },
  {
   "cell_type": "code",
   "execution_count": 29,
   "metadata": {},
   "outputs": [],
   "source": []
  }
 ],
 "metadata": {
  "kernelspec": {
   "display_name": "Python 3",
   "language": "python",
   "name": "python3"
  },
  "language_info": {
   "codemirror_mode": {
    "name": "ipython",
    "version": 3
   },
   "file_extension": ".py",
   "mimetype": "text/x-python",
   "name": "python",
   "nbconvert_exporter": "python",
   "pygments_lexer": "ipython3",
   "version": "3.6.4"
  }
 },
 "nbformat": 4,
 "nbformat_minor": 1
}
