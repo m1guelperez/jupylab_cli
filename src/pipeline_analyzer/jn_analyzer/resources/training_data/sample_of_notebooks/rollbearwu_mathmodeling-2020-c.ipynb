{
 "cells": [
  {
   "cell_type": "markdown",
   "metadata": {
    "papermill": {
     "duration": 0.060273,
     "end_time": "2020-09-14T00:29:43.928230",
     "exception": false,
     "start_time": "2020-09-14T00:29:43.867957",
     "status": "completed"
    },
    "tags": []
   },
   "source": [
    "# 零、数据引入、定义与模组加载"
   ]
  },
  {
   "cell_type": "code",
   "execution_count": 1,
   "metadata": {
    "_cell_guid": "b1076dfc-b9ad-4769-8c92-a6c4dae69d19",
    "_uuid": "8f2839f25d086af736a60e9eeb907d3b93b6e0e5",
    "execution": {
     "iopub.execute_input": "2020-09-14T00:29:44.052117Z",
     "iopub.status.busy": "2020-09-14T00:29:44.051324Z",
     "iopub.status.idle": "2020-09-14T00:29:44.070082Z",
     "shell.execute_reply": "2020-09-14T00:29:44.070664Z"
    },
    "papermill": {
     "duration": 0.0856,
     "end_time": "2020-09-14T00:29:44.070857",
     "exception": false,
     "start_time": "2020-09-14T00:29:43.985257",
     "status": "completed"
    },
    "tags": []
   },
   "outputs": [
    {
     "name": "stdout",
     "output_type": "stream",
     "text": [
      "/kaggle/input/mathmodeling/helloworld.py\n",
      "/kaggle/input/mathmodeling/.idea/vcs.xml\n",
      "/kaggle/input/mathmodeling/.idea/MathModeling.iml\n",
      "/kaggle/input/mathmodeling/.idea/misc.xml\n",
      "/kaggle/input/mathmodeling/.idea/.gitignore\n",
      "/kaggle/input/mathmodeling/.idea/modules.xml\n",
      "/kaggle/input/mathmodeling/.idea/inspectionProfiles/profiles_settings.xml\n",
      "/kaggle/input/mathmodeling/.idea/inspectionProfiles/Project_Default.xml\n",
      "/kaggle/input/mathmodeling/.idea/dictionaries/13592.xml\n",
      "/kaggle/input/mathmodeling/resource/e3.xlsx\n",
      "/kaggle/input/mathmodeling/resource/e1.xlsx\n",
      "/kaggle/input/mathmodeling/resource/e2.xlsx\n"
     ]
    }
   ],
   "source": [
    "import numpy as np # linear algebra\n",
    "import pandas as pd # data processing, CSV file I/O (e.g. pd.read_csv)\n",
    "\n",
    "import os\n",
    "for dirname, _, filenames in os.walk('/kaggle/input'):\n",
    "    for filename in filenames:\n",
    "        print(os.path.join(dirname, filename))"
   ]
  },
  {
   "cell_type": "code",
   "execution_count": 2,
   "metadata": {
    "_cell_guid": "79c7e3d0-c299-4dcb-8224-4455121ee9b0",
    "_uuid": "d629ff2d2480ee46fbb7e2d37f6b5fab8052498a",
    "execution": {
     "iopub.execute_input": "2020-09-14T00:29:44.199859Z",
     "iopub.status.busy": "2020-09-14T00:29:44.199010Z",
     "iopub.status.idle": "2020-09-14T00:29:45.982742Z",
     "shell.execute_reply": "2020-09-14T00:29:45.981862Z"
    },
    "papermill": {
     "duration": 1.853001,
     "end_time": "2020-09-14T00:29:45.982877",
     "exception": false,
     "start_time": "2020-09-14T00:29:44.129876",
     "status": "completed"
    },
    "tags": []
   },
   "outputs": [],
   "source": [
    "from sklearn.neighbors import KNeighborsClassifier  # knn\n",
    "from sklearn.svm import SVC  # 支持向量机分类器\n",
    "from sklearn.tree import DecisionTreeClassifier # 决策树分类器\n",
    "\n",
    "import gensim\n",
    "import sklearn\n",
    "\n",
    "from sklearn import metrics  # 模型评价工具\n",
    "import matplotlib.pyplot as plt  # 可视化\n",
    "\n",
    "import seaborn as sns  # 热力图"
   ]
  },
  {
   "cell_type": "markdown",
   "metadata": {
    "papermill": {
     "duration": 0.056798,
     "end_time": "2020-09-14T00:29:46.098984",
     "exception": false,
     "start_time": "2020-09-14T00:29:46.042186",
     "status": "completed"
    },
    "tags": []
   },
   "source": [
    "加载附件一数据"
   ]
  },
  {
   "cell_type": "code",
   "execution_count": 3,
   "metadata": {
    "execution": {
     "iopub.execute_input": "2020-09-14T00:29:46.221339Z",
     "iopub.status.busy": "2020-09-14T00:29:46.220442Z",
     "iopub.status.idle": "2020-09-14T00:30:57.519779Z",
     "shell.execute_reply": "2020-09-14T00:30:57.520719Z"
    },
    "papermill": {
     "duration": 71.364417,
     "end_time": "2020-09-14T00:30:57.520940",
     "exception": false,
     "start_time": "2020-09-14T00:29:46.156523",
     "status": "completed"
    },
    "tags": []
   },
   "outputs": [],
   "source": [
    "data_path = \"/kaggle/input/mathmodeling/resource/e1.xlsx\"\n",
    "\n",
    "data = pd.read_excel(data_path, sheet_name=[\"企业信息\", \"进项发票信息\", \"销项发票信息\"])"
   ]
  },
  {
   "cell_type": "code",
   "execution_count": 4,
   "metadata": {
    "execution": {
     "iopub.execute_input": "2020-09-14T00:30:57.709420Z",
     "iopub.status.busy": "2020-09-14T00:30:57.704457Z",
     "iopub.status.idle": "2020-09-14T00:30:57.719215Z",
     "shell.execute_reply": "2020-09-14T00:30:57.719753Z"
    },
    "papermill": {
     "duration": 0.130538,
     "end_time": "2020-09-14T00:30:57.719916",
     "exception": false,
     "start_time": "2020-09-14T00:30:57.589378",
     "status": "completed"
    },
    "tags": []
   },
   "outputs": [
    {
     "data": {
      "text/plain": [
       "{'企业信息':      企业代号                 企业名称 信誉评级 是否违约\n",
       " 0      E1          ***电器销售有限公司    A    否\n",
       " 1      E2          ***技术有限责任公司    A    否\n",
       " 2      E3  ***电子(中国)有限公司***分公司    C    否\n",
       " 3      E4          ***发展有限责任公司    C    否\n",
       " 4      E5         ***供应链管理有限公司    B    否\n",
       " ..    ...                  ...  ...  ...\n",
       " 118  E119                ***药房    D    是\n",
       " 119  E120          ***陈列广告有限公司    D    是\n",
       " 120  E121     ***药业连锁有限公司***药店    D    是\n",
       " 121  E122          ***商贸有限责任公司    D    是\n",
       " 122  E123         ***创科技有限责任公司    D    是\n",
       " \n",
       " [123 rows x 4 columns],\n",
       " '进项发票信息':         企业代号      发票号码       开票日期  销方单位代号       金额      税额     价税合计  发票状态\n",
       " 0         E1   3390939 2017-07-18  A00297  -943.40  -56.60 -1000.00  有效发票\n",
       " 1         E1   3390940 2017-07-18  A00297 -4780.24 -286.81 -5067.05  有效发票\n",
       " 2         E1   3390941 2017-07-18  A00297   943.40   56.60  1000.00  有效发票\n",
       " 3         E1   3390942 2017-07-18  A00297  4780.24  286.81  5067.05  有效发票\n",
       " 4         E1   9902669 2017-08-07  A05061   326.21    9.79   336.00  有效发票\n",
       " ...      ...       ...        ...     ...      ...     ...      ...   ...\n",
       " 210942  E122  54706234 2019-04-17  A08967   223.30    6.70   230.00  有效发票\n",
       " 210943  E122  55721344 2020-01-10  A09184   264.15   15.85   280.00  有效发票\n",
       " 210944  E123  38493295 2017-12-15  A03624   264.15   15.85   280.00  有效发票\n",
       " 210945  E123  95472001 2018-12-29  A03626   264.15   15.85   280.00  有效发票\n",
       " 210946  E123  54469883 2019-12-18  A03626   264.15   15.85   280.00  有效发票\n",
       " \n",
       " [210947 rows x 8 columns],\n",
       " '销项发票信息':         企业代号      发票号码       开票日期  购方单位代号       金额       税额     价税合计  发票状态\n",
       " 0         E1  11459356 2017-08-04  B03711  9401.71  1598.29  11000.0  有效发票\n",
       " 1         E1   5076239 2017-08-09  B00844  8170.94  1389.06   9560.0  有效发票\n",
       " 2         E1   5076240 2017-08-09  B00844  8170.94  1389.06   9560.0  有效发票\n",
       " 3         E1   5076241 2017-08-09  B00844  4085.47   694.53   4780.0  有效发票\n",
       " 4         E1   5076242 2017-08-09  B00844  4085.47   694.53   4780.0  有效发票\n",
       " ...      ...       ...        ...     ...      ...      ...      ...   ...\n",
       " 162479  E123   8887701 2019-12-17  B10944  4827.67   144.83   4972.5  有效发票\n",
       " 162480  E123   8887702 2019-12-17  B10944  7412.62   222.38   7635.0  有效发票\n",
       " 162481  E123  34173085 2019-12-17  B13093  1917.47    57.53   1975.0  有效发票\n",
       " 162482  E123   8887703 2019-12-25  B13093  7252.42   217.58   7470.0  有效发票\n",
       " 162483  E123   8887704 2019-12-25  B13093  6660.19   199.81   6860.0  有效发票\n",
       " \n",
       " [162484 rows x 8 columns]}"
      ]
     },
     "execution_count": 4,
     "metadata": {},
     "output_type": "execute_result"
    }
   ],
   "source": [
    "data"
   ]
  },
  {
   "cell_type": "code",
   "execution_count": 5,
   "metadata": {
    "execution": {
     "iopub.execute_input": "2020-09-14T00:30:57.845787Z",
     "iopub.status.busy": "2020-09-14T00:30:57.844940Z",
     "iopub.status.idle": "2020-09-14T00:30:57.848787Z",
     "shell.execute_reply": "2020-09-14T00:30:57.849305Z"
    },
    "papermill": {
     "duration": 0.068704,
     "end_time": "2020-09-14T00:30:57.849461",
     "exception": false,
     "start_time": "2020-09-14T00:30:57.780757",
     "status": "completed"
    },
    "tags": []
   },
   "outputs": [
    {
     "data": {
      "text/plain": [
       "'E3'"
      ]
     },
     "execution_count": 5,
     "metadata": {},
     "output_type": "execute_result"
    }
   ],
   "source": [
    "data[\"企业信息\"][\"企业代号\"][2]"
   ]
  },
  {
   "cell_type": "markdown",
   "metadata": {
    "papermill": {
     "duration": 0.058554,
     "end_time": "2020-09-14T00:30:57.967749",
     "exception": false,
     "start_time": "2020-09-14T00:30:57.909195",
     "status": "completed"
    },
    "tags": []
   },
   "source": [
    "# 一、预处理"
   ]
  },
  {
   "cell_type": "code",
   "execution_count": 6,
   "metadata": {
    "execution": {
     "iopub.execute_input": "2020-09-14T00:30:58.093712Z",
     "iopub.status.busy": "2020-09-14T00:30:58.092731Z",
     "iopub.status.idle": "2020-09-14T00:30:58.096017Z",
     "shell.execute_reply": "2020-09-14T00:30:58.095308Z"
    },
    "papermill": {
     "duration": 0.068578,
     "end_time": "2020-09-14T00:30:58.096249",
     "exception": false,
     "start_time": "2020-09-14T00:30:58.027671",
     "status": "completed"
    },
    "tags": []
   },
   "outputs": [],
   "source": [
    "y_label_map = {}\n",
    "\n",
    "# for e_id in data[\"企业信息\"][\"企业代号\"]:\n",
    "#     print(e_id)\n",
    "\n",
    "# for label in data[\"企业信息\"][\"信誉评级\"]:\n",
    "#     print(label)\n",
    "    \n",
    "y_labels = list(data[\"企业信息\"][\"信誉评级\"])\n",
    "# y_labels"
   ]
  },
  {
   "cell_type": "code",
   "execution_count": 7,
   "metadata": {
    "execution": {
     "iopub.execute_input": "2020-09-14T00:30:58.368471Z",
     "iopub.status.busy": "2020-09-14T00:30:58.332071Z",
     "iopub.status.idle": "2020-09-14T00:30:58.615168Z",
     "shell.execute_reply": "2020-09-14T00:30:58.615750Z"
    },
    "papermill": {
     "duration": 0.457853,
     "end_time": "2020-09-14T00:30:58.615923",
     "exception": false,
     "start_time": "2020-09-14T00:30:58.158070",
     "status": "completed"
    },
    "tags": []
   },
   "outputs": [],
   "source": [
    "x_dict = {}\n",
    "\n",
    "elem_ids = list(data[\"进项发票信息\"][\"企业代号\"])\n",
    "money = list(data[\"进项发票信息\"][\"金额\"])\n",
    "tax = list(data[\"进项发票信息\"][\"税额\"])\n",
    "\n",
    "# 发票状态映射到整数\n",
    "status_map = {\"有效发票\": 0, \"作废发票\": 1}\n",
    "status = [status_map[s] for s in data[\"进项发票信息\"][\"发票状态\"]]\n",
    "\n",
    "for i in range(len(data[\"进项发票信息\"])):\n",
    "    if x_dict.get(elem_ids[i], None) is None:\n",
    "        x_dict[elem_ids[i]] = []\n",
    "    x_dict[elem_ids[i]].append((money[i], tax[i], status[i]))\n",
    "\n",
    "# x_dict"
   ]
  },
  {
   "cell_type": "markdown",
   "metadata": {
    "papermill": {
     "duration": 0.059249,
     "end_time": "2020-09-14T00:30:58.736654",
     "exception": false,
     "start_time": "2020-09-14T00:30:58.677405",
     "status": "completed"
    },
    "tags": []
   },
   "source": [
    "# 二、特征选择"
   ]
  },
  {
   "cell_type": "code",
   "execution_count": 8,
   "metadata": {
    "execution": {
     "iopub.execute_input": "2020-09-14T00:30:58.867914Z",
     "iopub.status.busy": "2020-09-14T00:30:58.867098Z",
     "iopub.status.idle": "2020-09-14T00:30:58.878504Z",
     "shell.execute_reply": "2020-09-14T00:30:58.879197Z"
    },
    "papermill": {
     "duration": 0.083346,
     "end_time": "2020-09-14T00:30:58.879361",
     "exception": false,
     "start_time": "2020-09-14T00:30:58.796015",
     "status": "completed"
    },
    "tags": []
   },
   "outputs": [
    {
     "name": "stdout",
     "output_type": "stream",
     "text": [
      "210947\n",
      "sum: 210947\n",
      "各个公司记录的发票数量\n",
      "E1 3441\n",
      "E2 32156\n",
      "E3 4561\n",
      "E4 558\n",
      "E5 2169\n",
      "E6 11337\n",
      "E7 13097\n",
      "E8 22536\n",
      "E9 4293\n",
      "E10 4097\n",
      "E11 2836\n",
      "E12 1796\n",
      "E13 13469\n",
      "E14 7077\n",
      "E15 92\n",
      "E16 290\n",
      "E17 7568\n",
      "E18 5765\n",
      "E19 1524\n",
      "E20 1130\n",
      "E21 2312\n",
      "E22 1610\n",
      "E23 4951\n",
      "E24 2047\n",
      "E25 1410\n",
      "E26 791\n",
      "E27 2565\n",
      "E28 169\n",
      "E29 50\n",
      "E30 754\n",
      "E31 412\n",
      "E32 2826\n",
      "E33 1293\n",
      "E34 2309\n",
      "E35 669\n",
      "E36 1636\n",
      "E37 618\n",
      "E38 991\n",
      "E39 282\n",
      "E40 3148\n",
      "E41 2033\n",
      "E42 47\n",
      "E43 78\n",
      "E44 1248\n",
      "E45 600\n",
      "E46 2544\n",
      "E47 2905\n",
      "E48 1235\n",
      "E49 3615\n",
      "E50 197\n",
      "E51 453\n",
      "E52 425\n",
      "E53 630\n",
      "E54 1644\n",
      "E55 823\n",
      "E56 1201\n",
      "E57 130\n",
      "E58 1352\n",
      "E59 549\n",
      "E60 538\n",
      "E61 212\n",
      "E62 530\n",
      "E63 1573\n",
      "E64 32\n",
      "E65 587\n",
      "E66 577\n",
      "E67 647\n",
      "E68 3\n",
      "E69 1\n",
      "E70 1829\n",
      "E71 1259\n",
      "E72 117\n",
      "E73 606\n",
      "E74 19\n",
      "E75 552\n",
      "E76 350\n",
      "E77 54\n",
      "E78 52\n",
      "E79 154\n",
      "E80 395\n",
      "E81 211\n",
      "E82 315\n",
      "E83 2890\n",
      "E84 54\n",
      "E85 229\n",
      "E86 138\n",
      "E87 379\n",
      "E88 214\n",
      "E89 65\n",
      "E90 139\n",
      "E91 177\n",
      "E92 213\n",
      "E93 213\n",
      "E94 4\n",
      "E95 4\n",
      "E96 11\n",
      "E97 9\n",
      "E98 51\n",
      "E99 880\n",
      "E100 58\n",
      "E101 16\n",
      "E102 730\n",
      "E103 172\n",
      "E104 1\n",
      "E105 6\n",
      "E106 36\n",
      "E107 9\n",
      "E108 218\n",
      "E109 10\n",
      "E110 3\n",
      "E111 278\n",
      "E112 106\n",
      "E113 104\n",
      "E114 76\n",
      "E115 2\n",
      "E116 10\n",
      "E117 4\n",
      "E118 29\n",
      "E119 315\n",
      "E120 36\n",
      "E121 50\n",
      "E122 48\n",
      "E123 3\n"
     ]
    }
   ],
   "source": [
    "print(len(data[\"进项发票信息\"]))\n",
    "print(\"sum:\", sum([len(cluster) for cluster in x_dict.values()]))\n",
    "\n",
    "print(\"各个公司记录的发票数量\")\n",
    "for e_id, cluster in x_dict.items():\n",
    "    print(e_id, len(cluster))\n"
   ]
  },
  {
   "cell_type": "code",
   "execution_count": 9,
   "metadata": {
    "execution": {
     "iopub.execute_input": "2020-09-14T00:30:59.009278Z",
     "iopub.status.busy": "2020-09-14T00:30:59.008458Z",
     "iopub.status.idle": "2020-09-14T00:30:59.233731Z",
     "shell.execute_reply": "2020-09-14T00:30:59.233128Z"
    },
    "papermill": {
     "duration": 0.292254,
     "end_time": "2020-09-14T00:30:59.233858",
     "exception": false,
     "start_time": "2020-09-14T00:30:58.941604",
     "status": "completed"
    },
    "tags": []
   },
   "outputs": [
    {
     "data": {
      "image/png": "[encoded data removed]",
      "text/plain": [
       "<Figure size 432x288 with 1 Axes>"
      ]
     },
     "metadata": {
      "needs_background": "light"
     },
     "output_type": "display_data"
    }
   ],
   "source": [
    "# 发票数量分布（所有类别）\n",
    "plt.plot([len(cluster) for cluster in x_dict.values()])\n",
    "plt.show()\n",
    "\n",
    "# [len(cluster) for cluster in x_dict.values()]"
   ]
  },
  {
   "cell_type": "code",
   "execution_count": 10,
   "metadata": {
    "execution": {
     "iopub.execute_input": "2020-09-14T00:30:59.362878Z",
     "iopub.status.busy": "2020-09-14T00:30:59.362089Z",
     "iopub.status.idle": "2020-09-14T00:30:59.365044Z",
     "shell.execute_reply": "2020-09-14T00:30:59.365576Z"
    },
    "papermill": {
     "duration": 0.069855,
     "end_time": "2020-09-14T00:30:59.365766",
     "exception": false,
     "start_time": "2020-09-14T00:30:59.295911",
     "status": "completed"
    },
    "tags": []
   },
   "outputs": [],
   "source": [
    "# 按照信誉类别 发票数量分布制图\n",
    "tags = (\"A\", \"B\", \"C\", \"D\")\n",
    "\n",
    "# for tag_index in range(len(tags)):\n",
    "#     A_cluster = [len(cluster) for index, cluster in enumerate(x_dict.values())\n",
    "#                 if y_labels[index] == tags[tag_index]]\n",
    "#     plt.plot(A_cluster)\n",
    "#     plt.show()"
   ]
  },
  {
   "cell_type": "code",
   "execution_count": 11,
   "metadata": {
    "execution": {
     "iopub.execute_input": "2020-09-14T00:30:59.519910Z",
     "iopub.status.busy": "2020-09-14T00:30:59.514632Z",
     "iopub.status.idle": "2020-09-14T00:31:06.615534Z",
     "shell.execute_reply": "2020-09-14T00:31:06.616173Z"
    },
    "papermill": {
     "duration": 7.188945,
     "end_time": "2020-09-14T00:31:06.616357",
     "exception": false,
     "start_time": "2020-09-14T00:30:59.427412",
     "status": "completed"
    },
    "tags": []
   },
   "outputs": [],
   "source": [
    "def diff(data: list, mean):\n",
    "    \"\"\"计算一个数据序列的标准差\"\"\"\n",
    "    if(len(data) is 0):\n",
    "        return 0\n",
    "    s = 0\n",
    "    for num in data:\n",
    "        s += (num - mean) ** 2\n",
    "    return (s / len(data)) ** 0.5  # 开方得到标准差\n",
    "\n",
    "\n",
    "def feature_select(cluster: list):\n",
    "    \"\"\"\n",
    "    特征选取，选择“金额均值”，“税金均值”，“发票数量”特征\n",
    "    input:: list of (money, tax, status)\n",
    "    output:: (mean of money, mean of tax, num of records, 退款发票均值, 退款发票税款均值，退款发票数量，无效发票均值，无效发票税款均值，无效发票数量) 九元组\n",
    "    \"\"\"\n",
    "    status = {\"valid\", \"rollback\", \"invalid\"}\n",
    "    invalid_cluster = [record for record in cluster if record[2] == 1]  # 发票状态标记为1的是无效发票\n",
    "    \n",
    "    rollback_cluster = []\n",
    "    valid_cluster = []\n",
    "    # 下面识别有效发票与负值发票对\n",
    "    for row in cluster:\n",
    "        if row[0] < 0:  # 负值发票\n",
    "            rollback_cluster.append(row)\n",
    "        else:\n",
    "            valid_cluster.append(row)  # 非负值的发票暂时视为有效发票\n",
    "    for row in rollback_cluster:\n",
    "        # 在正值发票中找出那些已退款的发票（与负值发票匹配）\n",
    "        for r in valid_cluster:\n",
    "            if abs(row[0]) == abs(r[0]) and abs(row[1]) == abs(r[1]):\n",
    "                valid_cluster.remove(r)  # 在有效发票中删去这一条（因为它与负值发票匹配）\n",
    "    \n",
    "    res = []\n",
    "    # 分别计算三种发票的三个指标，共计得到9个特征\n",
    "    for c in (valid_cluster, invalid_cluster, rollback_cluster):\n",
    "        num_of_records = len(c)\n",
    "        # 如果某种发票的数量为零的话，三个指标直接返回0\n",
    "        mean_of_money = (sum([record[0] for record in c]) / num_of_records) if num_of_records != 0 else 0\n",
    "        mean_of_tax = (sum([record[1] for record in c]) / num_of_records) if num_of_records != 0 else 0\n",
    "        # 将方差也作为特征\n",
    "        diff_of_money = diff([record[0] for record in c], mean_of_money)\n",
    "        diff_of_tax = diff([record[1] for record in c], mean_of_tax)\n",
    "        \n",
    "        res.append(num_of_records)\n",
    "        res.append(mean_of_money)\n",
    "        res.append(diff_of_money)\n",
    "        res.append(mean_of_tax)\n",
    "        res.append(diff_of_tax)\n",
    "    \n",
    "    # 计算异常发票在总发票数中的占比\n",
    "    invalid_rate = res[0] / (res[0] + res[3] + res[6])\n",
    "    # 将这个也作为特征\n",
    "    res.append(invalid_rate)\n",
    "    \n",
    "    return tuple(res)\n",
    "\n",
    "\n",
    "# 抽取特征\n",
    "x_features = [feature_select(cluster) for cluster in x_dict.values()]"
   ]
  },
  {
   "cell_type": "code",
   "execution_count": 12,
   "metadata": {
    "execution": {
     "iopub.execute_input": "2020-09-14T00:31:06.747538Z",
     "iopub.status.busy": "2020-09-14T00:31:06.746528Z",
     "iopub.status.idle": "2020-09-14T00:31:06.751922Z",
     "shell.execute_reply": "2020-09-14T00:31:06.751191Z"
    },
    "papermill": {
     "duration": 0.073716,
     "end_time": "2020-09-14T00:31:06.752046",
     "exception": false,
     "start_time": "2020-09-14T00:31:06.678330",
     "status": "completed"
    },
    "tags": []
   },
   "outputs": [
    {
     "name": "stdout",
     "output_type": "stream",
     "text": [
      "特征个数： 16\n"
     ]
    },
    {
     "data": {
      "text/plain": [
       "(3296,\n",
       " 1959500.2687712254,\n",
       " 3744499.3174404493,\n",
       " 305801.8462166261,\n",
       " 595205.7614475138,\n",
       " 192,\n",
       " 1142297.5125000037,\n",
       " 2855056.403611003,\n",
       " 184534.85057291653,\n",
       " 468323.33975562203,\n",
       " 71,\n",
       " -6968981.582253528,\n",
       " 3407241.4873331795,\n",
       " -1116621.3198591564,\n",
       " 552486.1374371623,\n",
       " 0.0022709181066380346)"
      ]
     },
     "execution_count": 12,
     "metadata": {},
     "output_type": "execute_result"
    }
   ],
   "source": [
    "print(\"特征个数：\", len(x_features[0]))\n",
    "x_features[0]"
   ]
  },
  {
   "cell_type": "code",
   "execution_count": 13,
   "metadata": {
    "execution": {
     "iopub.execute_input": "2020-09-14T00:31:06.998337Z",
     "iopub.status.busy": "2020-09-14T00:31:06.912556Z",
     "iopub.status.idle": "2020-09-14T00:31:34.243461Z",
     "shell.execute_reply": "2020-09-14T00:31:34.244151Z"
    },
    "papermill": {
     "duration": 27.429838,
     "end_time": "2020-09-14T00:31:34.244355",
     "exception": false,
     "start_time": "2020-09-14T00:31:06.814517",
     "status": "completed"
    },
    "tags": []
   },
   "outputs": [
    {
     "name": "stdout",
     "output_type": "stream",
     "text": [
      "123\n",
      "[(7811, 546593.1859198553, 384331.57514279446, 84992.12710792448, 61568.58393445092, 224, 389064.01745535707, 384322.0282644854, 58161.44700892857, 59552.5760694954, 229, -568021.3158951965, 369627.4526366388, -88192.83589519645, 58583.855781870116, 0.016209862174934433), (5919, 24629.36860280448, 26268.878016583923, 1478.3374083460008, 1580.6434164042698, 1042, 61938.716804222146, 37207.054301007825, 3716.3242514394983, 2232.424349318599, 360, -53043.422805555565, 38298.65158489626, -3180.913499999998, 2296.8314351344216, 0.08536684221824518), (16594, 45243.86086416726, 104815.11234349122, 7280.595065083755, 17241.420019911086, 385, 48334.977480519505, 143922.95010808643, 7949.462155844152, 23708.36761012913, 4501, -45492.515592090764, 89169.82845981004, -7461.137853810297, 14637.61114862519, 0.22980332683066662)]\n"
     ]
    }
   ],
   "source": [
    "# 销项发票数据处理\n",
    "x_dict_output = {}  \n",
    "\n",
    "elem_ids = list(data[\"销项发票信息\"][\"企业代号\"])\n",
    "money = list(data[\"销项发票信息\"][\"金额\"])\n",
    "tax = list(data[\"销项发票信息\"][\"税额\"])\n",
    "\n",
    "# 发票状态映射到整数\n",
    "status_map = {\"有效发票\": 0, \"作废发票\": 1, \" 作废发票\": 1}\n",
    "status = [status_map[s] for s in data[\"销项发票信息\"][\"发票状态\"]]\n",
    "\n",
    "for i in range(len(data[\"销项发票信息\"])):\n",
    "    if x_dict_output.get(elem_ids[i], None) is None:\n",
    "        x_dict_output[elem_ids[i]] = []\n",
    "    x_dict_output[elem_ids[i]].append((money[i], tax[i], status[i]))\n",
    "\n",
    "# 抽取销项发票数据中的特征\n",
    "x_features_output = [feature_select(cluster) for cluster in x_dict_output.values()]\n",
    "\n",
    "print(len(x_features_output))\n",
    "print(x_features_output[:3])"
   ]
  },
  {
   "cell_type": "code",
   "execution_count": 14,
   "metadata": {
    "execution": {
     "iopub.execute_input": "2020-09-14T00:31:34.379193Z",
     "iopub.status.busy": "2020-09-14T00:31:34.378403Z",
     "iopub.status.idle": "2020-09-14T00:31:34.381713Z",
     "shell.execute_reply": "2020-09-14T00:31:34.382336Z"
    },
    "papermill": {
     "duration": 0.073934,
     "end_time": "2020-09-14T00:31:34.382502",
     "exception": false,
     "start_time": "2020-09-14T00:31:34.308568",
     "status": "completed"
    },
    "tags": []
   },
   "outputs": [
    {
     "name": "stdout",
     "output_type": "stream",
     "text": [
      "123\n",
      "[(3296, 1959500.2687712254, 3744499.3174404493, 305801.8462166261, 595205.7614475138, 192, 1142297.5125000037, 2855056.403611003, 184534.85057291653, 468323.33975562203, 71, -6968981.582253528, 3407241.4873331795, -1116621.3198591564, 552486.1374371623, 0.0022709181066380346), (30477, 4240.457030219295, 23962.500312067863, 200.10816484560476, 1387.7729927228252, 721, 12180.1067267684, 47294.201776861926, 647.2292371705963, 2982.8162945932154, 156, -6380.947499999997, 18444.231821197074, -271.24865384615373, 844.4591779404161, 0.7111288047316281), (4416, 12484.663410326091, 54990.126411063364, 526.9473686594199, 2853.1262262354558, 194, 16308.482474226807, 46636.52488912117, 915.6711855670105, 2938.8742488144117, 26, -13045.104615384616, 61607.01942112487, -42.794230769230765, 56.74390073445895, 0.20779778267381976)]\n"
     ]
    }
   ],
   "source": [
    "# 展示特征选择之后的效果\n",
    "print(len(x_features))  # 应为123，表示123家企业的信息\n",
    "print(x_features[:3])  # 展示前3个企业的features"
   ]
  },
  {
   "cell_type": "code",
   "execution_count": 15,
   "metadata": {
    "execution": {
     "iopub.execute_input": "2020-09-14T00:31:34.520274Z",
     "iopub.status.busy": "2020-09-14T00:31:34.519333Z",
     "iopub.status.idle": "2020-09-14T00:31:34.524205Z",
     "shell.execute_reply": "2020-09-14T00:31:34.524789Z"
    },
    "papermill": {
     "duration": 0.078145,
     "end_time": "2020-09-14T00:31:34.524967",
     "exception": false,
     "start_time": "2020-09-14T00:31:34.446822",
     "status": "completed"
    },
    "tags": []
   },
   "outputs": [
    {
     "data": {
      "text/plain": [
       "[(3296,\n",
       "  1959500.2687712254,\n",
       "  3744499.3174404493,\n",
       "  305801.8462166261,\n",
       "  595205.7614475138,\n",
       "  192,\n",
       "  1142297.5125000037,\n",
       "  2855056.403611003,\n",
       "  184534.85057291653,\n",
       "  468323.33975562203,\n",
       "  71,\n",
       "  -6968981.582253528,\n",
       "  3407241.4873331795,\n",
       "  -1116621.3198591564,\n",
       "  552486.1374371623,\n",
       "  0.0022709181066380346,\n",
       "  7811,\n",
       "  546593.1859198553,\n",
       "  384331.57514279446,\n",
       "  84992.12710792448,\n",
       "  61568.58393445092,\n",
       "  224,\n",
       "  389064.01745535707,\n",
       "  384322.0282644854,\n",
       "  58161.44700892857,\n",
       "  59552.5760694954,\n",
       "  229,\n",
       "  -568021.3158951965,\n",
       "  369627.4526366388,\n",
       "  -88192.83589519645,\n",
       "  58583.855781870116,\n",
       "  0.016209862174934433),\n",
       " (30477,\n",
       "  4240.457030219295,\n",
       "  23962.500312067863,\n",
       "  200.10816484560476,\n",
       "  1387.7729927228252,\n",
       "  721,\n",
       "  12180.1067267684,\n",
       "  47294.201776861926,\n",
       "  647.2292371705963,\n",
       "  2982.8162945932154,\n",
       "  156,\n",
       "  -6380.947499999997,\n",
       "  18444.231821197074,\n",
       "  -271.24865384615373,\n",
       "  844.4591779404161,\n",
       "  0.7111288047316281,\n",
       "  5919,\n",
       "  24629.36860280448,\n",
       "  26268.878016583923,\n",
       "  1478.3374083460008,\n",
       "  1580.6434164042698,\n",
       "  1042,\n",
       "  61938.716804222146,\n",
       "  37207.054301007825,\n",
       "  3716.3242514394983,\n",
       "  2232.424349318599,\n",
       "  360,\n",
       "  -53043.422805555565,\n",
       "  38298.65158489626,\n",
       "  -3180.913499999998,\n",
       "  2296.8314351344216,\n",
       "  0.08536684221824518),\n",
       " (4416,\n",
       "  12484.663410326091,\n",
       "  54990.126411063364,\n",
       "  526.9473686594199,\n",
       "  2853.1262262354558,\n",
       "  194,\n",
       "  16308.482474226807,\n",
       "  46636.52488912117,\n",
       "  915.6711855670105,\n",
       "  2938.8742488144117,\n",
       "  26,\n",
       "  -13045.104615384616,\n",
       "  61607.01942112487,\n",
       "  -42.794230769230765,\n",
       "  56.74390073445895,\n",
       "  0.20779778267381976,\n",
       "  16594,\n",
       "  45243.86086416726,\n",
       "  104815.11234349122,\n",
       "  7280.595065083755,\n",
       "  17241.420019911086,\n",
       "  385,\n",
       "  48334.977480519505,\n",
       "  143922.95010808643,\n",
       "  7949.462155844152,\n",
       "  23708.36761012913,\n",
       "  4501,\n",
       "  -45492.515592090764,\n",
       "  89169.82845981004,\n",
       "  -7461.137853810297,\n",
       "  14637.61114862519,\n",
       "  0.22980332683066662)]"
      ]
     },
     "execution_count": 15,
     "metadata": {},
     "output_type": "execute_result"
    }
   ],
   "source": [
    "# 将销项发票的features合并入进项发票的features中\n",
    "for r_index in range(len(x_features)):\n",
    "    x_features[r_index] += x_features_output[r_index]\n",
    "    \n",
    "x_features[:3]  # 展示前三个企业，每个企业包含9*2=18个Features"
   ]
  },
  {
   "cell_type": "markdown",
   "metadata": {
    "papermill": {
     "duration": 0.065076,
     "end_time": "2020-09-14T00:31:34.654957",
     "exception": false,
     "start_time": "2020-09-14T00:31:34.589881",
     "status": "completed"
    },
    "tags": []
   },
   "source": [
    "# 计算每个类别的信贷风险（以有效发票率计）"
   ]
  },
  {
   "cell_type": "code",
   "execution_count": 16,
   "metadata": {
    "execution": {
     "iopub.execute_input": "2020-09-14T00:31:34.794915Z",
     "iopub.status.busy": "2020-09-14T00:31:34.794112Z",
     "iopub.status.idle": "2020-09-14T00:31:34.797883Z",
     "shell.execute_reply": "2020-09-14T00:31:34.797124Z"
    },
    "papermill": {
     "duration": 0.078957,
     "end_time": "2020-09-14T00:31:34.798027",
     "exception": false,
     "start_time": "2020-09-14T00:31:34.719070",
     "status": "completed"
    },
    "tags": []
   },
   "outputs": [
    {
     "name": "stdout",
     "output_type": "stream",
     "text": [
      "123\n",
      "123\n",
      "123\n"
     ]
    }
   ],
   "source": [
    "print(len(x_features))\n",
    "print(len(y_labels))\n",
    "\n",
    "A_features = [features for e_id, features in enumerate(x_features) if y_labels[e_id] == \"A\"]\n",
    "\n",
    "B_features = [features for e_id, features in enumerate(x_features) if y_labels[e_id] == \"B\"]\n",
    "\n",
    "C_features = [features for e_id, features in enumerate(x_features) if y_labels[e_id] == \"C\"]\n",
    "\n",
    "D_features = [features for e_id, features in enumerate(x_features) if y_labels[e_id] == \"D\"]\n",
    "\n",
    "print(len(A_features) + len(B_features) + len(C_features) + len(D_features))  # 应该为123"
   ]
  },
  {
   "cell_type": "code",
   "execution_count": 17,
   "metadata": {
    "execution": {
     "iopub.execute_input": "2020-09-14T00:31:34.938137Z",
     "iopub.status.busy": "2020-09-14T00:31:34.937016Z",
     "iopub.status.idle": "2020-09-14T00:31:34.943523Z",
     "shell.execute_reply": "2020-09-14T00:31:34.942888Z"
    },
    "papermill": {
     "duration": 0.080501,
     "end_time": "2020-09-14T00:31:34.943682",
     "exception": false,
     "start_time": "2020-09-14T00:31:34.863181",
     "status": "completed"
    },
    "tags": []
   },
   "outputs": [
    {
     "name": "stdout",
     "output_type": "stream",
     "text": [
      "-16278.994854398894 -6764.385873647993 -15360.251053233498 -2029.1758366596794\n"
     ]
    }
   ],
   "source": [
    "risk_A = 1 - sum([(f[9]+f[19])/2 for f in A_features]) / len(A_features)\n",
    "risk_B = 1 - sum([(f[9]+f[19])/2 for f in B_features]) / len(B_features)\n",
    "risk_C = 1 - sum([(f[9]+f[19])/2 for f in C_features]) / len(C_features)\n",
    "risk_D = 1 - sum([(f[9]+f[19])/2 for f in D_features]) / len(D_features)\n",
    "\n",
    "print(risk_A, risk_B, risk_C, risk_D)"
   ]
  },
  {
   "cell_type": "markdown",
   "metadata": {
    "papermill": {
     "duration": 0.065519,
     "end_time": "2020-09-14T00:31:35.075933",
     "exception": false,
     "start_time": "2020-09-14T00:31:35.010414",
     "status": "completed"
    },
    "tags": []
   },
   "source": [
    "# 特征优化\n",
    "目前共20个特征\n",
    "\n",
    "f0-f8: 三种类型进项发票（数量，金额均值，税款均值）\n",
    "\n",
    "f9: （进项中）有效发票占比\n",
    "\n",
    "f10-f18: 三种类型销项发票（数量，金额均值，税款均值）\n",
    "\n",
    "f19: （销项中）有效发票占比\n",
    "\n",
    "现需要从这些特征中挑选子集，或组合为更优的特征"
   ]
  },
  {
   "cell_type": "code",
   "execution_count": 18,
   "metadata": {
    "execution": {
     "iopub.execute_input": "2020-09-14T00:31:35.216163Z",
     "iopub.status.busy": "2020-09-14T00:31:35.215062Z",
     "iopub.status.idle": "2020-09-14T00:31:35.219809Z",
     "shell.execute_reply": "2020-09-14T00:31:35.219037Z"
    },
    "papermill": {
     "duration": 0.07865,
     "end_time": "2020-09-14T00:31:35.219941",
     "exception": false,
     "start_time": "2020-09-14T00:31:35.141291",
     "status": "completed"
    },
    "tags": []
   },
   "outputs": [
    {
     "name": "stdout",
     "output_type": "stream",
     "text": [
      "记录条数： 123\n",
      "每条记录的特征个数： 32\n"
     ]
    }
   ],
   "source": [
    "print(\"记录条数：\", len(x_features))\n",
    "print(\"每条记录的特征个数：\", len(x_features[0]))"
   ]
  },
  {
   "cell_type": "markdown",
   "metadata": {
    "papermill": {
     "duration": 0.065948,
     "end_time": "2020-09-14T00:31:35.353358",
     "exception": false,
     "start_time": "2020-09-14T00:31:35.287410",
     "status": "completed"
    },
    "tags": []
   },
   "source": [
    "尝试：挑选”有效发票数量“，”有效发票平均金额“，”信贷风险（1 - f9与f19的平均值）“三个特征"
   ]
  },
  {
   "cell_type": "code",
   "execution_count": 19,
   "metadata": {
    "execution": {
     "iopub.execute_input": "2020-09-14T00:31:35.492232Z",
     "iopub.status.busy": "2020-09-14T00:31:35.491235Z",
     "iopub.status.idle": "2020-09-14T00:31:35.494883Z",
     "shell.execute_reply": "2020-09-14T00:31:35.494191Z"
    },
    "papermill": {
     "duration": 0.074367,
     "end_time": "2020-09-14T00:31:35.495008",
     "exception": false,
     "start_time": "2020-09-14T00:31:35.420641",
     "status": "completed"
    },
    "tags": []
   },
   "outputs": [],
   "source": [
    "# x_features = [(f[0], f[1], 1-(f[9]+f[19])/2) for f in x_features]"
   ]
  },
  {
   "cell_type": "markdown",
   "metadata": {
    "papermill": {
     "duration": 0.066233,
     "end_time": "2020-09-14T00:31:35.627335",
     "exception": false,
     "start_time": "2020-09-14T00:31:35.561102",
     "status": "completed"
    },
    "tags": []
   },
   "source": [
    "尝试二：挑选”有效发票数量“，”有效发票平均金额“，“进项发票有效率”，“销项发票有效率”四个特征"
   ]
  },
  {
   "cell_type": "code",
   "execution_count": 20,
   "metadata": {
    "execution": {
     "iopub.execute_input": "2020-09-14T00:31:35.765343Z",
     "iopub.status.busy": "2020-09-14T00:31:35.764494Z",
     "iopub.status.idle": "2020-09-14T00:31:35.767362Z",
     "shell.execute_reply": "2020-09-14T00:31:35.767946Z"
    },
    "papermill": {
     "duration": 0.074398,
     "end_time": "2020-09-14T00:31:35.768111",
     "exception": false,
     "start_time": "2020-09-14T00:31:35.693713",
     "status": "completed"
    },
    "tags": []
   },
   "outputs": [],
   "source": [
    "# x_features = [(f[0], f[1], f[9], f[19]) for f in x_features]\n",
    "# x_features"
   ]
  },
  {
   "cell_type": "markdown",
   "metadata": {
    "papermill": {
     "duration": 0.06697,
     "end_time": "2020-09-14T00:31:35.901832",
     "exception": false,
     "start_time": "2020-09-14T00:31:35.834862",
     "status": "completed"
    },
    "tags": []
   },
   "source": [
    "尝试三"
   ]
  },
  {
   "cell_type": "code",
   "execution_count": 21,
   "metadata": {
    "execution": {
     "iopub.execute_input": "2020-09-14T00:31:36.041357Z",
     "iopub.status.busy": "2020-09-14T00:31:36.040514Z",
     "iopub.status.idle": "2020-09-14T00:31:36.043797Z",
     "shell.execute_reply": "2020-09-14T00:31:36.043058Z"
    },
    "papermill": {
     "duration": 0.07442,
     "end_time": "2020-09-14T00:31:36.043929",
     "exception": false,
     "start_time": "2020-09-14T00:31:35.969509",
     "status": "completed"
    },
    "tags": []
   },
   "outputs": [],
   "source": [
    "# x_features = [(f[10], f[19]) for f in x_features]"
   ]
  },
  {
   "cell_type": "markdown",
   "metadata": {
    "papermill": {
     "duration": 0.07229,
     "end_time": "2020-09-14T00:31:36.183129",
     "exception": false,
     "start_time": "2020-09-14T00:31:36.110839",
     "status": "completed"
    },
    "tags": []
   },
   "source": [
    "# 特征值归一化\n",
    "归一化的意义：三个特征的值在数值上处于不同数量级，归一化可以将三个特征映射到（0，1）的空间，得到数量级一致的特则\n",
    "\n",
    "归一化（标准化）的三种方法：最小-最大标准化、零-均值标准化（z-score）、小数定标规范化\n",
    "\n",
    "这里使用第二种"
   ]
  },
  {
   "cell_type": "code",
   "execution_count": 22,
   "metadata": {
    "execution": {
     "iopub.execute_input": "2020-09-14T00:31:36.360874Z",
     "iopub.status.busy": "2020-09-14T00:31:36.360041Z",
     "iopub.status.idle": "2020-09-14T00:31:36.363151Z",
     "shell.execute_reply": "2020-09-14T00:31:36.362524Z"
    },
    "papermill": {
     "duration": 0.095186,
     "end_time": "2020-09-14T00:31:36.363277",
     "exception": false,
     "start_time": "2020-09-14T00:31:36.268091",
     "status": "completed"
    },
    "tags": []
   },
   "outputs": [],
   "source": [
    "def transformMatrix(m):\n",
    "    \"\"\"矩阵转置\"\"\"\n",
    "    rt = [[] for i in m[0]]    # m[0] 有几个元素，说明原矩阵有多少列。此处创建转置矩阵的行\n",
    "    for ele in m:\n",
    "        for i in range(len(ele)):\n",
    "            rt[i].append(ele[i])\n",
    "    return rt\n",
    "\n",
    "\n",
    "def z_score_std(cluster: list):\n",
    "    \"\"\"归一化方法，使用z-score归一化公式\n",
    "    input:: list of (feature_1, f_2, f_3, ..., fn) n元组\n",
    "    output:: list of (converted_f1, c_f2, c_f3, ..., c_fn) 值归一化后的n元组\n",
    "    \"\"\"\n",
    "    # test\n",
    "    # print(cluster)\n",
    "\n",
    "    cols = []\n",
    "    for f_id in range(len(cluster[0])):\n",
    "        lt = [t[f_id] for t in cluster]\n",
    "        mean = sum(lt) / len(cluster)  # 计算均值\n",
    "        d = diff(lt, mean)  # 标准差\n",
    "        converted_lt = [(elem - mean) / d for elem in lt]\n",
    "        cols.append(converted_lt)\n",
    "        \n",
    "    # 矩阵转置\n",
    "    res = transformMatrix(cols)\n",
    "    return res"
   ]
  },
  {
   "cell_type": "code",
   "execution_count": 23,
   "metadata": {
    "execution": {
     "iopub.execute_input": "2020-09-14T00:31:36.506992Z",
     "iopub.status.busy": "2020-09-14T00:31:36.505931Z",
     "iopub.status.idle": "2020-09-14T00:31:36.509485Z",
     "shell.execute_reply": "2020-09-14T00:31:36.508901Z"
    },
    "papermill": {
     "duration": 0.079071,
     "end_time": "2020-09-14T00:31:36.509637",
     "exception": false,
     "start_time": "2020-09-14T00:31:36.430566",
     "status": "completed"
    },
    "tags": []
   },
   "outputs": [],
   "source": [
    "# x_features\n",
    "x_std = z_score_std(x_features)  # 包含了进项发票和销项发票的features\n",
    "\n",
    "# x_std = x_features  # 假如不做归一化\n",
    "\n",
    "# x_std"
   ]
  },
  {
   "cell_type": "markdown",
   "metadata": {
    "papermill": {
     "duration": 0.068511,
     "end_time": "2020-09-14T00:31:36.645655",
     "exception": false,
     "start_time": "2020-09-14T00:31:36.577144",
     "status": "completed"
    },
    "tags": []
   },
   "source": [
    "# 10折交叉验证"
   ]
  },
  {
   "cell_type": "code",
   "execution_count": 24,
   "metadata": {
    "execution": {
     "iopub.execute_input": "2020-09-14T00:31:36.788673Z",
     "iopub.status.busy": "2020-09-14T00:31:36.787873Z",
     "iopub.status.idle": "2020-09-14T00:31:36.790869Z",
     "shell.execute_reply": "2020-09-14T00:31:36.790160Z"
    },
    "papermill": {
     "duration": 0.077495,
     "end_time": "2020-09-14T00:31:36.790994",
     "exception": false,
     "start_time": "2020-09-14T00:31:36.713499",
     "status": "completed"
    },
    "tags": []
   },
   "outputs": [],
   "source": [
    "y_labels = list(data[\"企业信息\"][\"信誉评级\"])\n",
    "y_map = {\"A\":0, \"B\":1, \"C\":2, \"D\":3}\n",
    "targets = [y_map[elem] for elem in y_labels]"
   ]
  },
  {
   "cell_type": "code",
   "execution_count": 25,
   "metadata": {
    "execution": {
     "iopub.execute_input": "2020-09-14T00:31:36.932726Z",
     "iopub.status.busy": "2020-09-14T00:31:36.931819Z",
     "iopub.status.idle": "2020-09-14T00:31:36.964742Z",
     "shell.execute_reply": "2020-09-14T00:31:36.964051Z"
    },
    "papermill": {
     "duration": 0.10622,
     "end_time": "2020-09-14T00:31:36.964928",
     "exception": false,
     "start_time": "2020-09-14T00:31:36.858708",
     "status": "completed"
    },
    "tags": []
   },
   "outputs": [],
   "source": [
    "from tqdm import tqdm\n",
    "from sklearn.ensemble import RandomForestClassifier"
   ]
  },
  {
   "cell_type": "code",
   "execution_count": 26,
   "metadata": {
    "execution": {
     "iopub.execute_input": "2020-09-14T00:31:37.115755Z",
     "iopub.status.busy": "2020-09-14T00:31:37.114568Z",
     "iopub.status.idle": "2020-09-14T00:31:37.200961Z",
     "shell.execute_reply": "2020-09-14T00:31:37.201558Z"
    },
    "papermill": {
     "duration": 0.168704,
     "end_time": "2020-09-14T00:31:37.201735",
     "exception": false,
     "start_time": "2020-09-14T00:31:37.033031",
     "status": "completed"
    },
    "tags": []
   },
   "outputs": [
    {
     "name": "stderr",
     "output_type": "stream",
     "text": [
      "100%|██████████| 10/10 [00:00<00:00, 124.93it/s]\n"
     ]
    }
   ],
   "source": [
    "num_of_its = 10  # 迭代次数\n",
    "\n",
    "# 随机森林模型参数\n",
    "max_features = \"log2\"\n",
    "max_depth = 7\n",
    "# min_samples_leaf = \n",
    "n_estimators = 1\n",
    "min_samples_leaf=5\n",
    "\n",
    "# 决策树参数\n",
    "splitter=\"best\"\n",
    "\n",
    "rf_heat_map_data = np.zeros(32)  # 初始化热力图矩阵\n",
    "dt_heat_map_data = np.zeros(32)\n",
    "rf_acc_logs = []  \n",
    "dt_acc_logs = []\n",
    "\n",
    "# 交叉检验迭代\n",
    "for i in tqdm(range(num_of_its)):\n",
    "    x_train, x_test, y_train, y_test = sklearn.model_selection.train_test_split(x_std, targets, test_size=0.3)\n",
    "    \n",
    "    # 初始化模型\n",
    "    rf = RandomForestClassifier(max_features=max_features,\n",
    "                               max_depth=max_depth,\n",
    "                               n_estimators=n_estimators,\n",
    "                               min_samples_leaf=min_samples_leaf)\n",
    "    \n",
    "    dt = DecisionTreeClassifier(splitter=splitter)\n",
    "    \n",
    "    # 拟合模型\n",
    "    rf.fit(x_train, y_train)\n",
    "    dt.fit(x_train, y_train)\n",
    "    \n",
    "#     print(f\"{i}/{num_of_its}\")\n",
    "#     print(\"random forest\")\n",
    "#     print(\"测试集上精度：\", metrics.accuracy_score(y_test, rf.predict(x_test)))\n",
    "#     print(\"训练集上精度：\", metrics.accuracy_score(y_train, rf.predict(x_train)))\n",
    "    rf_acc_logs.append(metrics.accuracy_score(y_test, rf.predict(x_test)))\n",
    "    rf_heat_map_data += rf.feature_importances_\n",
    "    \n",
    "#     print(\"decision tree\")\n",
    "#     print(\"测试集上精度：\", metrics.accuracy_score(y_test, dt.predict(x_test)))\n",
    "#     print(\"训练集上精度：\", metrics.accuracy_score(y_train, dt.predict(x_train)))\n",
    "    dt_acc_logs.append(metrics.accuracy_score(y_test, dt.predict(x_test)))\n",
    "    dt_heat_map_data += dt.feature_importances_\n",
    "\n",
    "rf_heat_map_data /= num_of_its\n",
    "dt_heat_map_data /= num_of_its"
   ]
  },
  {
   "cell_type": "code",
   "execution_count": 27,
   "metadata": {
    "execution": {
     "iopub.execute_input": "2020-09-14T00:31:37.408069Z",
     "iopub.status.busy": "2020-09-14T00:31:37.399688Z",
     "iopub.status.idle": "2020-09-14T00:31:37.673197Z",
     "shell.execute_reply": "2020-09-14T00:31:37.672532Z"
    },
    "papermill": {
     "duration": 0.351904,
     "end_time": "2020-09-14T00:31:37.673321",
     "exception": false,
     "start_time": "2020-09-14T00:31:37.321417",
     "status": "completed"
    },
    "tags": []
   },
   "outputs": [
    {
     "name": "stdout",
     "output_type": "stream",
     "text": [
      "平均精度 0.2864864864864865\n",
      "[0.0827855  0.03970368 0.02799985 0.0108097  0.03236796 0.03363996\n",
      " 0.02325561 0.02726046 0.0349234  0.06569447 0.         0.04349645\n",
      " 0.01454121 0.02655244 0.01152839 0.001869   0.02554265 0.02119298\n",
      " 0.05659896 0.02766476 0.02261733 0.14470794 0.04121508 0.03528015\n",
      " 0.00716129 0.02668909 0.0441312  0.01843144 0.01160448 0.02421129\n",
      " 0.         0.01652326]\n"
     ]
    },
    {
     "data": {
      "text/plain": [
       "<matplotlib.axes._subplots.AxesSubplot at 0x7f2501225690>"
      ]
     },
     "execution_count": 27,
     "metadata": {},
     "output_type": "execute_result"
    },
    {
     "data": {
      "image/png": "[encoded data removed]",
      "text/plain": [
       "<Figure size 432x288 with 2 Axes>"
      ]
     },
     "metadata": {
      "needs_background": "light"
     },
     "output_type": "display_data"
    }
   ],
   "source": [
    "# 随机森林\n",
    "avg_acc = sum(rf_acc_logs) / len(rf_acc_logs)\n",
    "print(\"平均精度\", avg_acc)\n",
    "print(rf_heat_map_data)\n",
    "sns.heatmap(rf_heat_map_data.reshape(2, 16))"
   ]
  },
  {
   "cell_type": "code",
   "execution_count": 28,
   "metadata": {
    "execution": {
     "iopub.execute_input": "2020-09-14T00:31:37.824402Z",
     "iopub.status.busy": "2020-09-14T00:31:37.820908Z",
     "iopub.status.idle": "2020-09-14T00:31:38.084774Z",
     "shell.execute_reply": "2020-09-14T00:31:38.084184Z"
    },
    "papermill": {
     "duration": 0.340168,
     "end_time": "2020-09-14T00:31:38.084911",
     "exception": false,
     "start_time": "2020-09-14T00:31:37.744743",
     "status": "completed"
    },
    "tags": []
   },
   "outputs": [
    {
     "name": "stdout",
     "output_type": "stream",
     "text": [
      "平均精度 0.4027027027027027\n",
      "[0.03142267 0.00891874 0.01270405 0.02139628 0.03180893 0.00855459\n",
      " 0.01769791 0.00765368 0.0172663  0.04190406 0.0160811  0.00513681\n",
      " 0.0199347  0.03728575 0.01752819 0.02383801 0.21798476 0.06537969\n",
      " 0.0331892  0.02721462 0.01284905 0.06966739 0.02793894 0.04406612\n",
      " 0.00584379 0.02031149 0.03335036 0.00917989 0.02747899 0.0140225\n",
      " 0.04287908 0.02951236]\n"
     ]
    },
    {
     "data": {
      "text/plain": [
       "<matplotlib.axes._subplots.AxesSubplot at 0x7f24feeecb90>"
      ]
     },
     "execution_count": 28,
     "metadata": {},
     "output_type": "execute_result"
    },
    {
     "data": {
      "image/png": "[encoded data removed]",
      "text/plain": [
       "<Figure size 432x288 with 2 Axes>"
      ]
     },
     "metadata": {
      "needs_background": "light"
     },
     "output_type": "display_data"
    }
   ],
   "source": [
    "# 决策树\n",
    "avg_acc = sum(dt_acc_logs) / len(dt_acc_logs)\n",
    "print(\"平均精度\", avg_acc)\n",
    "print(dt_heat_map_data)\n",
    "sns.heatmap(dt_heat_map_data.reshape(2, 16))"
   ]
  },
  {
   "cell_type": "markdown",
   "metadata": {
    "papermill": {
     "duration": 0.073907,
     "end_time": "2020-09-14T00:31:38.231244",
     "exception": false,
     "start_time": "2020-09-14T00:31:38.157337",
     "status": "completed"
    },
    "tags": []
   },
   "source": [
    "# 使用贝叶斯优化器"
   ]
  },
  {
   "cell_type": "code",
   "execution_count": 29,
   "metadata": {
    "execution": {
     "iopub.execute_input": "2020-09-14T00:31:38.383153Z",
     "iopub.status.busy": "2020-09-14T00:31:38.382212Z",
     "iopub.status.idle": "2020-09-14T00:31:38.411117Z",
     "shell.execute_reply": "2020-09-14T00:31:38.410279Z"
    },
    "papermill": {
     "duration": 0.106818,
     "end_time": "2020-09-14T00:31:38.411246",
     "exception": false,
     "start_time": "2020-09-14T00:31:38.304428",
     "status": "completed"
    },
    "tags": []
   },
   "outputs": [],
   "source": [
    "from bayes_opt import BayesianOptimization  # 贝叶斯优化器"
   ]
  },
  {
   "cell_type": "code",
   "execution_count": 30,
   "metadata": {
    "execution": {
     "iopub.execute_input": "2020-09-14T00:31:38.562718Z",
     "iopub.status.busy": "2020-09-14T00:31:38.561499Z",
     "iopub.status.idle": "2020-09-14T00:31:38.564281Z",
     "shell.execute_reply": "2020-09-14T00:31:38.564878Z"
    },
    "papermill": {
     "duration": 0.080876,
     "end_time": "2020-09-14T00:31:38.565035",
     "exception": false,
     "start_time": "2020-09-14T00:31:38.484159",
     "status": "completed"
    },
    "tags": []
   },
   "outputs": [],
   "source": [
    "ot_log = []"
   ]
  },
  {
   "cell_type": "code",
   "execution_count": 31,
   "metadata": {
    "execution": {
     "iopub.execute_input": "2020-09-14T00:31:38.726118Z",
     "iopub.status.busy": "2020-09-14T00:31:38.725000Z",
     "iopub.status.idle": "2020-09-14T00:31:38.728262Z",
     "shell.execute_reply": "2020-09-14T00:31:38.727543Z"
    },
    "papermill": {
     "duration": 0.090102,
     "end_time": "2020-09-14T00:31:38.728382",
     "exception": false,
     "start_time": "2020-09-14T00:31:38.638280",
     "status": "completed"
    },
    "tags": []
   },
   "outputs": [],
   "source": [
    "def evaluate(**bo_params):\n",
    "    # 贝叶斯优化器生成的超参数\n",
    "    max_features = int(bo_params['max_features'])\n",
    "    max_depth = int(bo_params[\"max_depth\"])\n",
    "#     n_estimators = int(bo_params[\"n_estimators\"])\n",
    "    min_samples_leaf = int(bo_params[\"min_samples_leaf\"])\n",
    "    min_impurity_decrease = int(bo_params[\"min_impurity_decrease\"])\n",
    "\n",
    "    rf_heat_map_data = np.zeros(32)  # 初始化热力图矩阵\n",
    "    dt_heat_map_data = np.zeros(32)\n",
    "    rf_acc_logs = []  \n",
    "    dt_acc_logs = []\n",
    "    \n",
    "    # 交叉检验迭代\n",
    "    for i in range(num_of_its):\n",
    "        x_train, x_test, y_train, y_test = sklearn.model_selection.train_test_split(x_std, targets, test_size=0.3)\n",
    "\n",
    "        # 初始化模型\n",
    "#         rf = RandomForestClassifier(max_features=max_features,\n",
    "#                                    max_depth=max_depth,\n",
    "#                                    n_estimators=n_estimators,\n",
    "#                                    min_samples_leaf=min_samples_leaf,\n",
    "#                                    min_impurity_decrease=min_impurity_decrease)\n",
    "\n",
    "        dt = DecisionTreeClassifier(splitter=\"best\",\n",
    "                                    max_features=max_features,\n",
    "                                   max_depth=max_depth,\n",
    "                                   min_samples_leaf=min_samples_leaf,\n",
    "                                   min_impurity_decrease=min_impurity_decrease)\n",
    "\n",
    "        # 拟合模型\n",
    "#         rf.fit(x_train, y_train)\n",
    "        dt.fit(x_train, y_train)\n",
    "        \n",
    "#         rf_acc_logs.append(metrics.accuracy_score(y_test, rf.predict(x_test)))\n",
    "#         rf_heat_map_data += rf.feature_importances_\n",
    "\n",
    "        dt_acc_logs.append(metrics.accuracy_score(y_test, dt.predict(x_test)))\n",
    "        dt_heat_map_data += dt.feature_importances_\n",
    "    \n",
    "#     ot = sum(rf_acc_logs) / len(rf_acc_logs)  # 优化目标\n",
    "    ot = sum(dt_acc_logs) / len(dt_acc_logs)  # 优化目标\n",
    "    ot_log.append(ot)\n",
    "    return ot"
   ]
  },
  {
   "cell_type": "code",
   "execution_count": 32,
   "metadata": {
    "execution": {
     "iopub.execute_input": "2020-09-14T00:31:38.884613Z",
     "iopub.status.busy": "2020-09-14T00:31:38.883619Z",
     "iopub.status.idle": "2020-09-14T00:31:38.886476Z",
     "shell.execute_reply": "2020-09-14T00:31:38.885825Z"
    },
    "papermill": {
     "duration": 0.084467,
     "end_time": "2020-09-14T00:31:38.886622",
     "exception": false,
     "start_time": "2020-09-14T00:31:38.802155",
     "status": "completed"
    },
    "tags": []
   },
   "outputs": [],
   "source": [
    "def bayesian_search(clf, params):\n",
    "    \"\"\"贝叶斯搜索器\"\"\"\n",
    "    num_iter = 100  # 迭代次数\n",
    "    init_points = 5\n",
    "    \n",
    "    # 创建一个贝叶斯优化对象，输入为自定义的模型评估函数与超参数的范围\n",
    "    bayes = BayesianOptimization(clf, params)\n",
    "    # 开始优化\n",
    "    bayes.maximize(init_points=init_points, n_iter=num_iter)\n",
    "    # 输出结果\n",
    "    params = sorted([test for test in bayes.res], key=lambda x: x['target'])[0]['params']\n",
    "    print(params)\n",
    "\n",
    "    return params"
   ]
  },
  {
   "cell_type": "code",
   "execution_count": 33,
   "metadata": {
    "execution": {
     "iopub.execute_input": "2020-09-14T00:31:39.046398Z",
     "iopub.status.busy": "2020-09-14T00:31:39.045559Z",
     "iopub.status.idle": "2020-09-14T00:31:47.120616Z",
     "shell.execute_reply": "2020-09-14T00:31:47.119799Z"
    },
    "papermill": {
     "duration": 8.159673,
     "end_time": "2020-09-14T00:31:47.120755",
     "exception": false,
     "start_time": "2020-09-14T00:31:38.961082",
     "status": "completed"
    },
    "tags": []
   },
   "outputs": [
    {
     "name": "stdout",
     "output_type": "stream",
     "text": [
      "|   iter    |  target   | max_depth | max_fe... | min_im... | min_sa... |\n",
      "-------------------------------------------------------------------------\n",
      "| \u001b[0m 1       \u001b[0m | \u001b[0m 0.2541  \u001b[0m | \u001b[0m 60.62   \u001b[0m | \u001b[0m 29.09   \u001b[0m | \u001b[0m 73.21   \u001b[0m | \u001b[0m 19.14   \u001b[0m |\n",
      "| \u001b[95m 2       \u001b[0m | \u001b[95m 0.2568  \u001b[0m | \u001b[95m 80.24   \u001b[0m | \u001b[95m 19.11   \u001b[0m | \u001b[95m 78.7    \u001b[0m | \u001b[95m 82.21   \u001b[0m |\n",
      "| \u001b[95m 3       \u001b[0m | \u001b[95m 0.2622  \u001b[0m | \u001b[95m 77.03   \u001b[0m | \u001b[95m 17.86   \u001b[0m | \u001b[95m 8.922   \u001b[0m | \u001b[95m 87.38   \u001b[0m |\n",
      "| \u001b[95m 4       \u001b[0m | \u001b[95m 0.2784  \u001b[0m | \u001b[95m 62.69   \u001b[0m | \u001b[95m 28.75   \u001b[0m | \u001b[95m 48.04   \u001b[0m | \u001b[95m 12.32   \u001b[0m |\n",
      "| \u001b[0m 5       \u001b[0m | \u001b[0m 0.2784  \u001b[0m | \u001b[0m 23.05   \u001b[0m | \u001b[0m 25.18   \u001b[0m | \u001b[0m 2.944   \u001b[0m | \u001b[0m 5.932   \u001b[0m |\n",
      "| \u001b[95m 6       \u001b[0m | \u001b[95m 0.2946  \u001b[0m | \u001b[95m 62.74   \u001b[0m | \u001b[95m 28.58   \u001b[0m | \u001b[95m 47.42   \u001b[0m | \u001b[95m 13.65   \u001b[0m |\n",
      "| \u001b[0m 7       \u001b[0m | \u001b[0m 0.2919  \u001b[0m | \u001b[0m 61.54   \u001b[0m | \u001b[0m 30.16   \u001b[0m | \u001b[0m 46.16   \u001b[0m | \u001b[0m 13.24   \u001b[0m |\n",
      "| \u001b[0m 8       \u001b[0m | \u001b[0m 0.2622  \u001b[0m | \u001b[0m 63.51   \u001b[0m | \u001b[0m 27.8    \u001b[0m | \u001b[0m 43.21   \u001b[0m | \u001b[0m 16.07   \u001b[0m |\n",
      "| \u001b[0m 9       \u001b[0m | \u001b[0m 0.2838  \u001b[0m | \u001b[0m 66.12   \u001b[0m | \u001b[0m 28.53   \u001b[0m | \u001b[0m 46.41   \u001b[0m | \u001b[0m 15.68   \u001b[0m |\n",
      "| \u001b[0m 10      \u001b[0m | \u001b[0m 0.2784  \u001b[0m | \u001b[0m 68.81   \u001b[0m | \u001b[0m 27.7    \u001b[0m | \u001b[0m 45.58   \u001b[0m | \u001b[0m 13.77   \u001b[0m |\n",
      "| \u001b[0m 11      \u001b[0m | \u001b[0m 0.2919  \u001b[0m | \u001b[0m 58.27   \u001b[0m | \u001b[0m 30.54   \u001b[0m | \u001b[0m 43.8    \u001b[0m | \u001b[0m 16.75   \u001b[0m |\n",
      "| \u001b[0m 12      \u001b[0m | \u001b[0m 0.2568  \u001b[0m | \u001b[0m 61.8    \u001b[0m | \u001b[0m 27.87   \u001b[0m | \u001b[0m 50.13   \u001b[0m | \u001b[0m 13.95   \u001b[0m |\n",
      "| \u001b[0m 13      \u001b[0m | \u001b[0m 0.2838  \u001b[0m | \u001b[0m 62.2    \u001b[0m | \u001b[0m 28.86   \u001b[0m | \u001b[0m 46.28   \u001b[0m | \u001b[0m 12.25   \u001b[0m |\n",
      "| \u001b[0m 14      \u001b[0m | \u001b[0m 0.2514  \u001b[0m | \u001b[0m 63.89   \u001b[0m | \u001b[0m 26.63   \u001b[0m | \u001b[0m 46.12   \u001b[0m | \u001b[0m 13.87   \u001b[0m |\n",
      "| \u001b[95m 15      \u001b[0m | \u001b[95m 0.3081  \u001b[0m | \u001b[95m 19.68   \u001b[0m | \u001b[95m 24.93   \u001b[0m | \u001b[95m 3.252   \u001b[0m | \u001b[95m 6.543   \u001b[0m |\n",
      "| \u001b[0m 16      \u001b[0m | \u001b[0m 0.2703  \u001b[0m | \u001b[0m 17.43   \u001b[0m | \u001b[0m 26.08   \u001b[0m | \u001b[0m 1.073   \u001b[0m | \u001b[0m 4.476   \u001b[0m |\n",
      "| \u001b[0m 17      \u001b[0m | \u001b[0m 0.2243  \u001b[0m | \u001b[0m 59.74   \u001b[0m | \u001b[0m 28.56   \u001b[0m | \u001b[0m 46.78   \u001b[0m | \u001b[0m 11.86   \u001b[0m |\n",
      "| \u001b[0m 18      \u001b[0m | \u001b[0m 0.2649  \u001b[0m | \u001b[0m 70.36   \u001b[0m | \u001b[0m 30.9    \u001b[0m | \u001b[0m 47.13   \u001b[0m | \u001b[0m 11.4    \u001b[0m |\n",
      "| \u001b[0m 19      \u001b[0m | \u001b[0m 0.2757  \u001b[0m | \u001b[0m 64.64   \u001b[0m | \u001b[0m 30.1    \u001b[0m | \u001b[0m 49.6    \u001b[0m | \u001b[0m 16.46   \u001b[0m |\n",
      "| \u001b[0m 20      \u001b[0m | \u001b[0m 0.2703  \u001b[0m | \u001b[0m 55.28   \u001b[0m | \u001b[0m 29.63   \u001b[0m | \u001b[0m 41.09   \u001b[0m | \u001b[0m 15.84   \u001b[0m |\n",
      "| \u001b[0m 21      \u001b[0m | \u001b[0m 0.3     \u001b[0m | \u001b[0m 19.01   \u001b[0m | \u001b[0m 25.77   \u001b[0m | \u001b[0m 1.84    \u001b[0m | \u001b[0m 5.5     \u001b[0m |\n",
      "| \u001b[0m 22      \u001b[0m | \u001b[0m 0.2595  \u001b[0m | \u001b[0m 66.61   \u001b[0m | \u001b[0m 27.44   \u001b[0m | \u001b[0m 49.8    \u001b[0m | \u001b[0m 16.98   \u001b[0m |\n",
      "| \u001b[0m 23      \u001b[0m | \u001b[0m 0.2622  \u001b[0m | \u001b[0m 21.77   \u001b[0m | \u001b[0m 25.11   \u001b[0m | \u001b[0m 3.778   \u001b[0m | \u001b[0m 7.684   \u001b[0m |\n",
      "| \u001b[0m 24      \u001b[0m | \u001b[0m 0.2811  \u001b[0m | \u001b[0m 63.69   \u001b[0m | \u001b[0m 30.38   \u001b[0m | \u001b[0m 47.39   \u001b[0m | \u001b[0m 9.864   \u001b[0m |\n",
      "| \u001b[0m 25      \u001b[0m | \u001b[0m 0.3054  \u001b[0m | \u001b[0m 25.86   \u001b[0m | \u001b[0m 26.93   \u001b[0m | \u001b[0m 3.823   \u001b[0m | \u001b[0m 4.138   \u001b[0m |\n",
      "| \u001b[95m 26      \u001b[0m | \u001b[95m 0.3162  \u001b[0m | \u001b[95m 58.61   \u001b[0m | \u001b[95m 30.51   \u001b[0m | \u001b[95m 46.83   \u001b[0m | \u001b[95m 19.62   \u001b[0m |\n",
      "| \u001b[0m 27      \u001b[0m | \u001b[0m 0.2811  \u001b[0m | \u001b[0m 18.64   \u001b[0m | \u001b[0m 21.91   \u001b[0m | \u001b[0m 3.217   \u001b[0m | \u001b[0m 4.392   \u001b[0m |\n",
      "| \u001b[0m 28      \u001b[0m | \u001b[0m 0.2459  \u001b[0m | \u001b[0m 21.13   \u001b[0m | \u001b[0m 26.78   \u001b[0m | \u001b[0m 3.742   \u001b[0m | \u001b[0m 4.635   \u001b[0m |\n",
      "| \u001b[0m 29      \u001b[0m | \u001b[0m 0.2595  \u001b[0m | \u001b[0m 59.16   \u001b[0m | \u001b[0m 31.68   \u001b[0m | \u001b[0m 46.55   \u001b[0m | \u001b[0m 17.91   \u001b[0m |\n",
      "| \u001b[0m 30      \u001b[0m | \u001b[0m 0.2595  \u001b[0m | \u001b[0m 57.98   \u001b[0m | \u001b[0m 29.88   \u001b[0m | \u001b[0m 43.88   \u001b[0m | \u001b[0m 17.08   \u001b[0m |\n",
      "| \u001b[0m 31      \u001b[0m | \u001b[0m 0.2541  \u001b[0m | \u001b[0m 30.53   \u001b[0m | \u001b[0m 31.65   \u001b[0m | \u001b[0m 90.52   \u001b[0m | \u001b[0m 13.15   \u001b[0m |\n",
      "| \u001b[0m 32      \u001b[0m | \u001b[0m 0.2757  \u001b[0m | \u001b[0m 69.98   \u001b[0m | \u001b[0m 29.81   \u001b[0m | \u001b[0m 45.19   \u001b[0m | \u001b[0m 41.3    \u001b[0m |\n",
      "| \u001b[0m 33      \u001b[0m | \u001b[0m 0.2676  \u001b[0m | \u001b[0m 62.55   \u001b[0m | \u001b[0m 17.41   \u001b[0m | \u001b[0m 51.05   \u001b[0m | \u001b[0m 5.595   \u001b[0m |\n",
      "| \u001b[0m 34      \u001b[0m | \u001b[0m 0.2838  \u001b[0m | \u001b[0m 18.24   \u001b[0m | \u001b[0m 31.19   \u001b[0m | \u001b[0m 92.25   \u001b[0m | \u001b[0m 61.93   \u001b[0m |\n",
      "| \u001b[0m 35      \u001b[0m | \u001b[0m 0.2973  \u001b[0m | \u001b[0m 7.369   \u001b[0m | \u001b[0m 3.811   \u001b[0m | \u001b[0m 9.058   \u001b[0m | \u001b[0m 11.45   \u001b[0m |\n",
      "| \u001b[0m 36      \u001b[0m | \u001b[0m 0.2784  \u001b[0m | \u001b[0m 97.62   \u001b[0m | \u001b[0m 20.47   \u001b[0m | \u001b[0m 66.83   \u001b[0m | \u001b[0m 31.97   \u001b[0m |\n",
      "| \u001b[0m 37      \u001b[0m | \u001b[0m 0.2378  \u001b[0m | \u001b[0m 72.72   \u001b[0m | \u001b[0m 4.712   \u001b[0m | \u001b[0m 2.95    \u001b[0m | \u001b[0m 90.88   \u001b[0m |\n",
      "| \u001b[0m 38      \u001b[0m | \u001b[0m 0.2541  \u001b[0m | \u001b[0m 97.14   \u001b[0m | \u001b[0m 4.193   \u001b[0m | \u001b[0m 56.74   \u001b[0m | \u001b[0m 19.39   \u001b[0m |\n",
      "| \u001b[0m 39      \u001b[0m | \u001b[0m 0.2541  \u001b[0m | \u001b[0m 41.07   \u001b[0m | \u001b[0m 10.97   \u001b[0m | \u001b[0m 67.18   \u001b[0m | \u001b[0m 73.1    \u001b[0m |\n",
      "| \u001b[0m 40      \u001b[0m | \u001b[0m 0.2784  \u001b[0m | \u001b[0m 61.4    \u001b[0m | \u001b[0m 7.082   \u001b[0m | \u001b[0m 65.6    \u001b[0m | \u001b[0m 23.41   \u001b[0m |\n",
      "| \u001b[0m 41      \u001b[0m | \u001b[0m 0.2811  \u001b[0m | \u001b[0m 96.01   \u001b[0m | \u001b[0m 31.88   \u001b[0m | \u001b[0m 64.2    \u001b[0m | \u001b[0m 68.58   \u001b[0m |\n",
      "| \u001b[0m 42      \u001b[0m | \u001b[0m 0.2703  \u001b[0m | \u001b[0m 29.49   \u001b[0m | \u001b[0m 30.9    \u001b[0m | \u001b[0m 46.29   \u001b[0m | \u001b[0m 2.772   \u001b[0m |\n",
      "| \u001b[0m 43      \u001b[0m | \u001b[0m 0.273   \u001b[0m | \u001b[0m 51.52   \u001b[0m | \u001b[0m 3.579   \u001b[0m | \u001b[0m 47.61   \u001b[0m | \u001b[0m 9.481   \u001b[0m |\n",
      "| \u001b[0m 44      \u001b[0m | \u001b[0m 0.2676  \u001b[0m | \u001b[0m 35.15   \u001b[0m | \u001b[0m 19.48   \u001b[0m | \u001b[0m 68.92   \u001b[0m | \u001b[0m 51.87   \u001b[0m |\n",
      "| \u001b[0m 45      \u001b[0m | \u001b[0m 0.2622  \u001b[0m | \u001b[0m 23.74   \u001b[0m | \u001b[0m 20.11   \u001b[0m | \u001b[0m 57.84   \u001b[0m | \u001b[0m 65.68   \u001b[0m |\n",
      "| \u001b[0m 46      \u001b[0m | \u001b[0m 0.2541  \u001b[0m | \u001b[0m 15.14   \u001b[0m | \u001b[0m 21.28   \u001b[0m | \u001b[0m 96.54   \u001b[0m | \u001b[0m 48.64   \u001b[0m |\n",
      "| \u001b[0m 47      \u001b[0m | \u001b[0m 0.2757  \u001b[0m | \u001b[0m 3.622   \u001b[0m | \u001b[0m 26.8    \u001b[0m | \u001b[0m 28.17   \u001b[0m | \u001b[0m 67.73   \u001b[0m |\n",
      "| \u001b[0m 48      \u001b[0m | \u001b[0m 0.2405  \u001b[0m | \u001b[0m 57.23   \u001b[0m | \u001b[0m 22.78   \u001b[0m | \u001b[0m 18.98   \u001b[0m | \u001b[0m 85.11   \u001b[0m |\n",
      "| \u001b[0m 49      \u001b[0m | \u001b[0m 0.2703  \u001b[0m | \u001b[0m 59.67   \u001b[0m | \u001b[0m 27.23   \u001b[0m | \u001b[0m 34.24   \u001b[0m | \u001b[0m 89.27   \u001b[0m |\n",
      "| \u001b[0m 50      \u001b[0m | \u001b[0m 0.2568  \u001b[0m | \u001b[0m 13.39   \u001b[0m | \u001b[0m 9.065   \u001b[0m | \u001b[0m 91.76   \u001b[0m | \u001b[0m 94.08   \u001b[0m |\n",
      "| \u001b[0m 51      \u001b[0m | \u001b[0m 0.2946  \u001b[0m | \u001b[0m 88.27   \u001b[0m | \u001b[0m 18.58   \u001b[0m | \u001b[0m 33.57   \u001b[0m | \u001b[0m 90.99   \u001b[0m |\n",
      "| \u001b[0m 52      \u001b[0m | \u001b[0m 0.2622  \u001b[0m | \u001b[0m 22.5    \u001b[0m | \u001b[0m 18.84   \u001b[0m | \u001b[0m 98.28   \u001b[0m | \u001b[0m 68.98   \u001b[0m |\n",
      "| \u001b[0m 53      \u001b[0m | \u001b[0m 0.2649  \u001b[0m | \u001b[0m 62.18   \u001b[0m | \u001b[0m 25.37   \u001b[0m | \u001b[0m 75.24   \u001b[0m | \u001b[0m 70.51   \u001b[0m |\n",
      "| \u001b[0m 54      \u001b[0m | \u001b[0m 0.2351  \u001b[0m | \u001b[0m 54.44   \u001b[0m | \u001b[0m 15.89   \u001b[0m | \u001b[0m 78.79   \u001b[0m | \u001b[0m 83.0    \u001b[0m |\n",
      "| \u001b[0m 55      \u001b[0m | \u001b[0m 0.2757  \u001b[0m | \u001b[0m 11.17   \u001b[0m | \u001b[0m 25.14   \u001b[0m | \u001b[0m 66.67   \u001b[0m | \u001b[0m 28.12   \u001b[0m |\n",
      "| \u001b[0m 56      \u001b[0m | \u001b[0m 0.2405  \u001b[0m | \u001b[0m 70.54   \u001b[0m | \u001b[0m 11.05   \u001b[0m | \u001b[0m 64.08   \u001b[0m | \u001b[0m 71.36   \u001b[0m |\n",
      "| \u001b[0m 57      \u001b[0m | \u001b[0m 0.2541  \u001b[0m | \u001b[0m 33.3    \u001b[0m | \u001b[0m 30.51   \u001b[0m | \u001b[0m 6.98    \u001b[0m | \u001b[0m 26.28   \u001b[0m |\n",
      "| \u001b[0m 58      \u001b[0m | \u001b[0m 0.2946  \u001b[0m | \u001b[0m 16.6    \u001b[0m | \u001b[0m 27.51   \u001b[0m | \u001b[0m 33.22   \u001b[0m | \u001b[0m 92.95   \u001b[0m |\n",
      "| \u001b[0m 59      \u001b[0m | \u001b[0m 0.2595  \u001b[0m | \u001b[0m 23.72   \u001b[0m | \u001b[0m 31.13   \u001b[0m | \u001b[0m 43.23   \u001b[0m | \u001b[0m 41.03   \u001b[0m |\n",
      "| \u001b[0m 60      \u001b[0m | \u001b[0m 0.2595  \u001b[0m | \u001b[0m 76.56   \u001b[0m | \u001b[0m 8.535   \u001b[0m | \u001b[0m 60.72   \u001b[0m | \u001b[0m 62.68   \u001b[0m |\n",
      "| \u001b[0m 61      \u001b[0m | \u001b[0m 0.2622  \u001b[0m | \u001b[0m 90.79   \u001b[0m | \u001b[0m 3.094   \u001b[0m | \u001b[0m 31.26   \u001b[0m | \u001b[0m 84.05   \u001b[0m |\n",
      "| \u001b[0m 62      \u001b[0m | \u001b[0m 0.3054  \u001b[0m | \u001b[0m 63.33   \u001b[0m | \u001b[0m 15.98   \u001b[0m | \u001b[0m 62.29   \u001b[0m | \u001b[0m 82.76   \u001b[0m |\n",
      "| \u001b[0m 63      \u001b[0m | \u001b[0m 0.2459  \u001b[0m | \u001b[0m 79.85   \u001b[0m | \u001b[0m 15.82   \u001b[0m | \u001b[0m 51.49   \u001b[0m | \u001b[0m 75.51   \u001b[0m |\n",
      "| \u001b[0m 64      \u001b[0m | \u001b[0m 0.2703  \u001b[0m | \u001b[0m 25.29   \u001b[0m | \u001b[0m 27.73   \u001b[0m | \u001b[0m 87.31   \u001b[0m | \u001b[0m 78.73   \u001b[0m |\n",
      "| \u001b[0m 65      \u001b[0m | \u001b[0m 0.2973  \u001b[0m | \u001b[0m 23.19   \u001b[0m | \u001b[0m 21.66   \u001b[0m | \u001b[0m 41.56   \u001b[0m | \u001b[0m 31.73   \u001b[0m |\n",
      "| \u001b[0m 66      \u001b[0m | \u001b[0m 0.2784  \u001b[0m | \u001b[0m 3.918   \u001b[0m | \u001b[0m 20.13   \u001b[0m | \u001b[0m 92.11   \u001b[0m | \u001b[0m 41.61   \u001b[0m |\n",
      "| \u001b[0m 67      \u001b[0m | \u001b[0m 0.2189  \u001b[0m | \u001b[0m 62.71   \u001b[0m | \u001b[0m 5.151   \u001b[0m | \u001b[0m 58.67   \u001b[0m | \u001b[0m 50.48   \u001b[0m |\n",
      "| \u001b[0m 68      \u001b[0m | \u001b[0m 0.273   \u001b[0m | \u001b[0m 49.43   \u001b[0m | \u001b[0m 11.87   \u001b[0m | \u001b[0m 49.36   \u001b[0m | \u001b[0m 82.01   \u001b[0m |\n",
      "| \u001b[0m 69      \u001b[0m | \u001b[0m 0.2486  \u001b[0m | \u001b[0m 87.62   \u001b[0m | \u001b[0m 17.24   \u001b[0m | \u001b[0m 29.69   \u001b[0m | \u001b[0m 43.2    \u001b[0m |\n",
      "| \u001b[0m 70      \u001b[0m | \u001b[0m 0.2865  \u001b[0m | \u001b[0m 91.85   \u001b[0m | \u001b[0m 3.557   \u001b[0m | \u001b[0m 54.73   \u001b[0m | \u001b[0m 55.35   \u001b[0m |\n",
      "| \u001b[0m 71      \u001b[0m | \u001b[0m 0.2378  \u001b[0m | \u001b[0m 92.34   \u001b[0m | \u001b[0m 31.71   \u001b[0m | \u001b[0m 28.62   \u001b[0m | \u001b[0m 46.19   \u001b[0m |\n",
      "| \u001b[0m 72      \u001b[0m | \u001b[0m 0.2892  \u001b[0m | \u001b[0m 38.83   \u001b[0m | \u001b[0m 31.19   \u001b[0m | \u001b[0m 21.28   \u001b[0m | \u001b[0m 24.22   \u001b[0m |\n",
      "| \u001b[0m 73      \u001b[0m | \u001b[0m 0.2459  \u001b[0m | \u001b[0m 92.32   \u001b[0m | \u001b[0m 30.2    \u001b[0m | \u001b[0m 23.12   \u001b[0m | \u001b[0m 95.08   \u001b[0m |\n",
      "| \u001b[0m 74      \u001b[0m | \u001b[0m 0.2514  \u001b[0m | \u001b[0m 38.29   \u001b[0m | \u001b[0m 5.045   \u001b[0m | \u001b[0m 90.96   \u001b[0m | \u001b[0m 14.97   \u001b[0m |\n",
      "| \u001b[0m 75      \u001b[0m | \u001b[0m 0.2351  \u001b[0m | \u001b[0m 19.44   \u001b[0m | \u001b[0m 28.47   \u001b[0m | \u001b[0m 84.87   \u001b[0m | \u001b[0m 28.38   \u001b[0m |\n",
      "| \u001b[0m 76      \u001b[0m | \u001b[0m 0.2676  \u001b[0m | \u001b[0m 62.26   \u001b[0m | \u001b[0m 18.53   \u001b[0m | \u001b[0m 76.79   \u001b[0m | \u001b[0m 56.1    \u001b[0m |\n",
      "| \u001b[0m 77      \u001b[0m | \u001b[0m 0.2946  \u001b[0m | \u001b[0m 4.523   \u001b[0m | \u001b[0m 25.18   \u001b[0m | \u001b[0m 22.57   \u001b[0m | \u001b[0m 9.322   \u001b[0m |\n",
      "| \u001b[0m 78      \u001b[0m | \u001b[0m 0.2486  \u001b[0m | \u001b[0m 95.43   \u001b[0m | \u001b[0m 16.67   \u001b[0m | \u001b[0m 41.25   \u001b[0m | \u001b[0m 58.13   \u001b[0m |\n",
      "| \u001b[0m 79      \u001b[0m | \u001b[0m 0.3     \u001b[0m | \u001b[0m 21.18   \u001b[0m | \u001b[0m 21.18   \u001b[0m | \u001b[0m 26.96   \u001b[0m | \u001b[0m 98.5    \u001b[0m |\n",
      "| \u001b[0m 80      \u001b[0m | \u001b[0m 0.2378  \u001b[0m | \u001b[0m 75.34   \u001b[0m | \u001b[0m 13.47   \u001b[0m | \u001b[0m 2.167   \u001b[0m | \u001b[0m 45.92   \u001b[0m |\n",
      "| \u001b[0m 81      \u001b[0m | \u001b[0m 0.2541  \u001b[0m | \u001b[0m 57.77   \u001b[0m | \u001b[0m 28.46   \u001b[0m | \u001b[0m 7.709   \u001b[0m | \u001b[0m 22.35   \u001b[0m |\n",
      "| \u001b[0m 82      \u001b[0m | \u001b[0m 0.2757  \u001b[0m | \u001b[0m 52.14   \u001b[0m | \u001b[0m 17.63   \u001b[0m | \u001b[0m 35.08   \u001b[0m | \u001b[0m 69.83   \u001b[0m |\n",
      "| \u001b[0m 83      \u001b[0m | \u001b[0m 0.2649  \u001b[0m | \u001b[0m 40.38   \u001b[0m | \u001b[0m 16.61   \u001b[0m | \u001b[0m 72.79   \u001b[0m | \u001b[0m 51.63   \u001b[0m |\n",
      "| \u001b[0m 84      \u001b[0m | \u001b[0m 0.2595  \u001b[0m | \u001b[0m 3.749   \u001b[0m | \u001b[0m 31.63   \u001b[0m | \u001b[0m 17.97   \u001b[0m | \u001b[0m 78.73   \u001b[0m |\n",
      "| \u001b[0m 85      \u001b[0m | \u001b[0m 0.2703  \u001b[0m | \u001b[0m 90.19   \u001b[0m | \u001b[0m 11.69   \u001b[0m | \u001b[0m 57.64   \u001b[0m | \u001b[0m 41.11   \u001b[0m |\n",
      "| \u001b[0m 86      \u001b[0m | \u001b[0m 0.3     \u001b[0m | \u001b[0m 19.52   \u001b[0m | \u001b[0m 5.702   \u001b[0m | \u001b[0m 62.19   \u001b[0m | \u001b[0m 96.68   \u001b[0m |\n",
      "| \u001b[0m 87      \u001b[0m | \u001b[0m 0.2757  \u001b[0m | \u001b[0m 3.131   \u001b[0m | \u001b[0m 29.86   \u001b[0m | \u001b[0m 39.51   \u001b[0m | \u001b[0m 25.34   \u001b[0m |\n",
      "| \u001b[0m 88      \u001b[0m | \u001b[0m 0.273   \u001b[0m | \u001b[0m 65.67   \u001b[0m | \u001b[0m 7.084   \u001b[0m | \u001b[0m 14.48   \u001b[0m | \u001b[0m 80.76   \u001b[0m |\n",
      "| \u001b[0m 89      \u001b[0m | \u001b[0m 0.2757  \u001b[0m | \u001b[0m 22.81   \u001b[0m | \u001b[0m 28.7    \u001b[0m | \u001b[0m 39.96   \u001b[0m | \u001b[0m 10.29   \u001b[0m |\n",
      "| \u001b[0m 90      \u001b[0m | \u001b[0m 0.3081  \u001b[0m | \u001b[0m 45.86   \u001b[0m | \u001b[0m 15.43   \u001b[0m | \u001b[0m 61.67   \u001b[0m | \u001b[0m 41.19   \u001b[0m |\n",
      "| \u001b[0m 91      \u001b[0m | \u001b[0m 0.2703  \u001b[0m | \u001b[0m 79.4    \u001b[0m | \u001b[0m 7.85    \u001b[0m | \u001b[0m 77.01   \u001b[0m | \u001b[0m 59.34   \u001b[0m |\n",
      "| \u001b[0m 92      \u001b[0m | \u001b[0m 0.2757  \u001b[0m | \u001b[0m 3.318   \u001b[0m | \u001b[0m 14.73   \u001b[0m | \u001b[0m 76.05   \u001b[0m | \u001b[0m 88.67   \u001b[0m |\n",
      "| \u001b[0m 93      \u001b[0m | \u001b[0m 0.2676  \u001b[0m | \u001b[0m 36.18   \u001b[0m | \u001b[0m 20.21   \u001b[0m | \u001b[0m 18.5    \u001b[0m | \u001b[0m 37.35   \u001b[0m |\n",
      "| \u001b[0m 94      \u001b[0m | \u001b[0m 0.2649  \u001b[0m | \u001b[0m 84.77   \u001b[0m | \u001b[0m 30.12   \u001b[0m | \u001b[0m 7.826   \u001b[0m | \u001b[0m 81.11   \u001b[0m |\n",
      "| \u001b[0m 95      \u001b[0m | \u001b[0m 0.2649  \u001b[0m | \u001b[0m 14.94   \u001b[0m | \u001b[0m 17.25   \u001b[0m | \u001b[0m 70.26   \u001b[0m | \u001b[0m 76.37   \u001b[0m |\n",
      "| \u001b[0m 96      \u001b[0m | \u001b[0m 0.2919  \u001b[0m | \u001b[0m 8.917   \u001b[0m | \u001b[0m 22.03   \u001b[0m | \u001b[0m 62.12   \u001b[0m | \u001b[0m 7.34    \u001b[0m |\n",
      "| \u001b[0m 97      \u001b[0m | \u001b[0m 0.2649  \u001b[0m | \u001b[0m 13.59   \u001b[0m | \u001b[0m 29.47   \u001b[0m | \u001b[0m 13.7    \u001b[0m | \u001b[0m 26.52   \u001b[0m |\n",
      "| \u001b[0m 98      \u001b[0m | \u001b[0m 0.2568  \u001b[0m | \u001b[0m 25.71   \u001b[0m | \u001b[0m 7.485   \u001b[0m | \u001b[0m 54.94   \u001b[0m | \u001b[0m 69.68   \u001b[0m |\n",
      "| \u001b[0m 99      \u001b[0m | \u001b[0m 0.2892  \u001b[0m | \u001b[0m 49.25   \u001b[0m | \u001b[0m 14.7    \u001b[0m | \u001b[0m 69.05   \u001b[0m | \u001b[0m 74.38   \u001b[0m |\n",
      "| \u001b[0m 100     \u001b[0m | \u001b[0m 0.2622  \u001b[0m | \u001b[0m 25.36   \u001b[0m | \u001b[0m 9.744   \u001b[0m | \u001b[0m 61.38   \u001b[0m | \u001b[0m 75.29   \u001b[0m |\n",
      "| \u001b[0m 101     \u001b[0m | \u001b[0m 0.2865  \u001b[0m | \u001b[0m 47.18   \u001b[0m | \u001b[0m 27.47   \u001b[0m | \u001b[0m 42.15   \u001b[0m | \u001b[0m 12.27   \u001b[0m |\n",
      "| \u001b[0m 102     \u001b[0m | \u001b[0m 0.2757  \u001b[0m | \u001b[0m 48.16   \u001b[0m | \u001b[0m 8.589   \u001b[0m | \u001b[0m 33.0    \u001b[0m | \u001b[0m 54.6    \u001b[0m |\n",
      "| \u001b[0m 103     \u001b[0m | \u001b[0m 0.2595  \u001b[0m | \u001b[0m 70.47   \u001b[0m | \u001b[0m 18.23   \u001b[0m | \u001b[0m 53.88   \u001b[0m | \u001b[0m 59.07   \u001b[0m |\n",
      "| \u001b[0m 104     \u001b[0m | \u001b[0m 0.2811  \u001b[0m | \u001b[0m 58.19   \u001b[0m | \u001b[0m 23.06   \u001b[0m | \u001b[0m 66.62   \u001b[0m | \u001b[0m 12.4    \u001b[0m |\n",
      "| \u001b[0m 105     \u001b[0m | \u001b[0m 0.2459  \u001b[0m | \u001b[0m 19.47   \u001b[0m | \u001b[0m 26.06   \u001b[0m | \u001b[0m 1.954   \u001b[0m | \u001b[0m 36.07   \u001b[0m |\n",
      "=========================================================================\n",
      "{'max_depth': 62.70739568952297, 'max_features': 5.150760210282285, 'min_impurity_decrease': 58.67489821583044, 'min_samples_leaf': 50.47895945277461}\n"
     ]
    },
    {
     "data": {
      "text/plain": [
       "{'max_depth': 62.70739568952297,\n",
       " 'max_features': 5.150760210282285,\n",
       " 'min_impurity_decrease': 58.67489821583044,\n",
       " 'min_samples_leaf': 50.47895945277461}"
      ]
     },
     "execution_count": 33,
     "metadata": {},
     "output_type": "execute_result"
    }
   ],
   "source": [
    "params = {\"max_features\": (3, 32),\n",
    "              \"max_depth\": (3, 100),\n",
    "#               \"n_estimators\": (1, 100),\n",
    "              \"min_samples_leaf\": (1, 100), \"min_impurity_decrease\": (1, 100)}\n",
    "# 启动优化器\n",
    "bayesian_search(evaluate, params)"
   ]
  },
  {
   "cell_type": "code",
   "execution_count": 34,
   "metadata": {
    "execution": {
     "iopub.execute_input": "2020-09-14T00:31:47.352088Z",
     "iopub.status.busy": "2020-09-14T00:31:47.351247Z",
     "iopub.status.idle": "2020-09-14T00:31:47.505935Z",
     "shell.execute_reply": "2020-09-14T00:31:47.505291Z"
    },
    "papermill": {
     "duration": 0.284741,
     "end_time": "2020-09-14T00:31:47.506060",
     "exception": false,
     "start_time": "2020-09-14T00:31:47.221319",
     "status": "completed"
    },
    "tags": []
   },
   "outputs": [
    {
     "data": {
      "image/png": "[encoded data removed]",
      "text/plain": [
       "<Figure size 432x288 with 1 Axes>"
      ]
     },
     "metadata": {
      "needs_background": "light"
     },
     "output_type": "display_data"
    }
   ],
   "source": [
    "# 优化曲线\n",
    "plt.plot(ot_log)\n",
    "plt.show()"
   ]
  },
  {
   "cell_type": "markdown",
   "metadata": {
    "papermill": {
     "duration": 0.08821,
     "end_time": "2020-09-14T00:31:47.683041",
     "exception": false,
     "start_time": "2020-09-14T00:31:47.594831",
     "status": "completed"
    },
    "tags": []
   },
   "source": [
    "# 模型训练(knn)与精度评价"
   ]
  },
  {
   "cell_type": "code",
   "execution_count": 35,
   "metadata": {
    "execution": {
     "iopub.execute_input": "2020-09-14T00:31:47.868648Z",
     "iopub.status.busy": "2020-09-14T00:31:47.867666Z",
     "iopub.status.idle": "2020-09-14T00:31:47.870757Z",
     "shell.execute_reply": "2020-09-14T00:31:47.870177Z"
    },
    "papermill": {
     "duration": 0.098996,
     "end_time": "2020-09-14T00:31:47.870880",
     "exception": false,
     "start_time": "2020-09-14T00:31:47.771884",
     "status": "completed"
    },
    "tags": []
   },
   "outputs": [],
   "source": [
    "# 映射预测id与labels\n",
    "y_map = {\"A\": 0, \"B\": 1, \"C\": 2, \"D\": 3}\n",
    "targets = [y_map[elem] for elem in y_labels]\n",
    "\n",
    "# 3/7开划分测试集与训练集\n",
    "x_train, x_test, y_train, y_test = sklearn.model_selection.train_test_split(x_std, targets, test_size=0.3)"
   ]
  },
  {
   "cell_type": "code",
   "execution_count": 36,
   "metadata": {
    "execution": {
     "iopub.execute_input": "2020-09-14T00:31:48.055547Z",
     "iopub.status.busy": "2020-09-14T00:31:48.054451Z",
     "iopub.status.idle": "2020-09-14T00:31:48.057878Z",
     "shell.execute_reply": "2020-09-14T00:31:48.057297Z"
    },
    "papermill": {
     "duration": 0.097629,
     "end_time": "2020-09-14T00:31:48.058001",
     "exception": false,
     "start_time": "2020-09-14T00:31:47.960372",
     "status": "completed"
    },
    "tags": []
   },
   "outputs": [],
   "source": [
    "# targets"
   ]
  },
  {
   "cell_type": "code",
   "execution_count": 37,
   "metadata": {
    "execution": {
     "iopub.execute_input": "2020-09-14T00:31:48.249983Z",
     "iopub.status.busy": "2020-09-14T00:31:48.249051Z",
     "iopub.status.idle": "2020-09-14T00:31:48.254106Z",
     "shell.execute_reply": "2020-09-14T00:31:48.253312Z"
    },
    "papermill": {
     "duration": 0.106759,
     "end_time": "2020-09-14T00:31:48.254236",
     "exception": false,
     "start_time": "2020-09-14T00:31:48.147477",
     "status": "completed"
    },
    "tags": []
   },
   "outputs": [
    {
     "data": {
      "text/plain": [
       "[[-0.4228625234552949,\n",
       "  -0.2061845994344567,\n",
       "  -0.2286172802071636,\n",
       "  -0.1754331591735305,\n",
       "  -0.19198671105565096,\n",
       "  -0.46661390015562504,\n",
       "  -0.2176311961377963,\n",
       "  -0.21913809512573648,\n",
       "  -0.18310292605504394,\n",
       "  -0.18565248982309873,\n",
       "  -0.32907001256342405,\n",
       "  0.12454234461324044,\n",
       "  -0.1571330476106764,\n",
       "  0.1162532715079615,\n",
       "  -0.14314191212929187,\n",
       "  -0.6652159720438953,\n",
       "  -0.4389039413947758,\n",
       "  -0.5084684508027149,\n",
       "  -0.5919377896821351,\n",
       "  -0.42114898199861406,\n",
       "  -0.556801967768403,\n",
       "  -0.40684869886019254,\n",
       "  -0.47375133837697764,\n",
       "  -0.5749594338080113,\n",
       "  -0.409241032011906,\n",
       "  -0.5525251611289784,\n",
       "  -0.13823632599991456,\n",
       "  0.3656508359024938,\n",
       "  -0.43692373334037593,\n",
       "  0.32210449035712796,\n",
       "  -0.38597784150481673,\n",
       "  -0.2768865471258468],\n",
       " [3.0250276189425604,\n",
       "  -0.18544859022091753,\n",
       "  -0.16434496346269298,\n",
       "  -0.16302868262799025,\n",
       "  -0.14248546702533488,\n",
       "  1.1477671566130871,\n",
       "  -0.12289952676330168,\n",
       "  -0.06956734820429733,\n",
       "  -0.10503574996821959,\n",
       "  -0.07258099721854974,\n",
       "  0.5316553791495192,\n",
       "  0.1095203880834877,\n",
       "  -0.0961305384294491,\n",
       "  0.10535495122180243,\n",
       "  -0.0893683706958332,\n",
       "  1.0244516389110703,\n",
       "  3.215358885332504,\n",
       "  -0.344885058089826,\n",
       "  0.5097161598585108,\n",
       "  -0.1707357548588713,\n",
       "  0.9544224241912325,\n",
       "  6.154536728476167,\n",
       "  -0.3667266525355098,\n",
       "  0.4752318221123425,\n",
       "  -0.21144566181497199,\n",
       "  0.9626612953669267,\n",
       "  0.010132505570674362,\n",
       "  0.05244291246858122,\n",
       "  2.283795676184821,\n",
       "  -0.15444186785161054,\n",
       "  3.1954123695070815,\n",
       "  1.7374922080993889],\n",
       " [-0.4097725836587959,\n",
       "  -0.08104077773877821,\n",
       "  -0.14496332780746107,\n",
       "  -0.05107483230424255,\n",
       "  -0.10426569130101887,\n",
       "  -0.45907006344175255,\n",
       "  -0.20391325274774924,\n",
       "  -0.21913809512573648,\n",
       "  -0.17798879983718463,\n",
       "  -0.18565248982309873,\n",
       "  -0.32907001256342405,\n",
       "  0.12454234461324044,\n",
       "  -0.1571330476106764,\n",
       "  0.1162532715079615,\n",
       "  -0.14314191212929187,\n",
       "  -0.666537249640684,\n",
       "  -0.30244759351071754,\n",
       "  -0.4666199005643826,\n",
       "  -0.46908072872922546,\n",
       "  -0.3230652373254354,\n",
       "  -0.3263363331393305,\n",
       "  -0.21206626463052963,\n",
       "  -0.42186966714751056,\n",
       "  -0.38440476001002183,\n",
       "  -0.27784730927499784,\n",
       "  -0.2128449031229851,\n",
       "  -0.14508411822624942,\n",
       "  0.3364110940447152,\n",
       "  -0.22928902430844147,\n",
       "  0.21737837550972325,\n",
       "  -0.12085094304291961,\n",
       "  -0.21681007925161935],\n",
       " [0.6162168975908016,\n",
       "  -0.21713668778758446,\n",
       "  -0.23287474441908373,\n",
       "  -0.19264349681192527,\n",
       "  -0.20314433109886357,\n",
       "  1.3212754010321544,\n",
       "  -0.20252394208852487,\n",
       "  -0.20239528897151096,\n",
       "  -0.17867670409730507,\n",
       "  -0.17986704930988243,\n",
       "  0.40254657039257774,\n",
       "  0.11671433590424715,\n",
       "  -0.13281745811164208,\n",
       "  0.11364257579872096,\n",
       "  -0.13355505173035975,\n",
       "  1.856413257486525,\n",
       "  -0.23421941956868841,\n",
       "  3.722593003261614,\n",
       "  3.1260994020846384,\n",
       "  0.7490708674190008,\n",
       "  0.6264582188850718,\n",
       "  -0.21763147703709143,\n",
       "  3.079474449081699,\n",
       "  3.437353133855842,\n",
       "  0.7445684929068918,\n",
       "  1.1555680538630382,\n",
       "  -0.1542145078613626,\n",
       "  -3.4114911530734178,\n",
       "  0.59181057700049,\n",
       "  -0.5907273012136528,\n",
       "  -0.1461219361756311,\n",
       "  -0.4533242344900737],\n",
       " [-0.09875561409397789,\n",
       "  -0.09347903374142444,\n",
       "  -0.10714486403469327,\n",
       "  -0.06797132470166059,\n",
       "  -0.07562289947803412,\n",
       "  -0.2704741455949404,\n",
       "  -0.15773873988333217,\n",
       "  -0.14868043597931047,\n",
       "  -0.12601513966512518,\n",
       "  -0.11841095435454775,\n",
       "  -0.2860337429777769,\n",
       "  0.052173269409663145,\n",
       "  -0.023110624809800077,\n",
       "  0.05750587810240696,\n",
       "  -0.03556284658821221,\n",
       "  -0.3976321763332696,\n",
       "  0.5768847461757136,\n",
       "  -0.44545008049364493,\n",
       "  -0.4010233158010762,\n",
       "  -0.30054039660160853,\n",
       "  -0.2947065298571716,\n",
       "  0.5670634722881219,\n",
       "  -0.4511408874320016,\n",
       "  -0.40858298083889033,\n",
       "  -0.33006846712532256,\n",
       "  -0.31121023431480593,\n",
       "  -0.028671650378556585,\n",
       "  0.3787496796040828,\n",
       "  -0.38402164501413055,\n",
       "  0.27579240044724895,\n",
       "  -0.31115234007847153,\n",
       "  1.071092305555363],\n",
       " [0.6625552844704082,\n",
       "  -0.1928097878774457,\n",
       "  -0.1844376269918041,\n",
       "  -0.18012459264630043,\n",
       "  -0.18161512970296323,\n",
       "  0.24250675094838872,\n",
       "  -0.20426071030969636,\n",
       "  -0.18540568387320575,\n",
       "  -0.17999423401654233,\n",
       "  -0.1650114462189589,\n",
       "  0.25191962684281266,\n",
       "  0.11473131753415093,\n",
       "  -0.11755256634687436,\n",
       "  0.10758964347465753,\n",
       "  -0.1014250600934441,\n",
       "  1.9556090409968538,\n",
       "  2.2043413987369815,\n",
       "  -0.16579646365808776,\n",
       "  -0.2853849131657415,\n",
       "  0.08684988126790787,\n",
       "  -0.08873904372718815,\n",
       "  0.3054984891797175,\n",
       "  -0.06977253639705218,\n",
       "  -0.2553979797705439,\n",
       "  0.2155060954553486,\n",
       "  -0.052403084279801615,\n",
       "  0.11969718119203233,\n",
       "  -0.1171965674140439,\n",
       "  0.06605795265276324,\n",
       "  -0.39663510719937173,\n",
       "  0.26477100304011075,\n",
       "  0.22088622127330101],\n",
       " [-0.42364791984308486,\n",
       "  -0.22376367993856378,\n",
       "  -0.24316223233837,\n",
       "  -0.19480754721451796,\n",
       "  -0.20779066228467793,\n",
       "  -0.46661390015562504,\n",
       "  -0.2176311961377963,\n",
       "  -0.21913809512573648,\n",
       "  -0.18310292605504394,\n",
       "  -0.18565248982309873,\n",
       "  -0.32907001256342405,\n",
       "  0.12454234461324044,\n",
       "  -0.1571330476106764,\n",
       "  0.1162532715079615,\n",
       "  -0.14314191212929187,\n",
       "  -0.3841255617157008,\n",
       "  -0.492341392314407,\n",
       "  -0.44744673506704546,\n",
       "  -0.45398869331053743,\n",
       "  -0.40508327068636574,\n",
       "  -0.5208717330436523,\n",
       "  -0.4958920973651813,\n",
       "  -0.4537867332356296,\n",
       "  -0.6131000369831229,\n",
       "  -0.4037229142142905,\n",
       "  -0.5627243728184183,\n",
       "  -0.15649710527014088,\n",
       "  0.005300609628147254,\n",
       "  -0.43692373334037593,\n",
       "  0.23501746741837254,\n",
       "  -0.38597784150481673,\n",
       "  -0.4446225703793317],\n",
       " [-0.3487734642071102,\n",
       "  -0.22033273769059253,\n",
       "  -0.23959758683504392,\n",
       "  -0.19354540673315968,\n",
       "  -0.20678182877487858,\n",
       "  -0.45907006344175255,\n",
       "  -0.21591523368733181,\n",
       "  -0.21913809512573648,\n",
       "  -0.1827831284355111,\n",
       "  -0.18565248982309873,\n",
       "  -0.3075518777706005,\n",
       "  0.09295338428160238,\n",
       "  -0.1571330476106764,\n",
       "  0.1103402169922713,\n",
       "  -0.14314191212929187,\n",
       "  1.1636344110065515,\n",
       "  -0.29195095136578997,\n",
       "  2.9204704455674704,\n",
       "  2.7490985103339876,\n",
       "  0.15441223205274585,\n",
       "  0.5082680565729448,\n",
       "  -0.23432711425677683,\n",
       "  2.7425370513903555,\n",
       "  3.450198459662989,\n",
       "  0.010097540571381116,\n",
       "  0.4211993224870367,\n",
       "  -0.15877970267891917,\n",
       "  0.43743377130094585,\n",
       "  -0.43692373334037593,\n",
       "  0.3394523272955483,\n",
       "  -0.38597784150481673,\n",
       "  -0.4545116688750529],\n",
       " [-0.4233861210471549,\n",
       "  -0.22376367993856378,\n",
       "  -0.24316223233837,\n",
       "  -0.19480754721451796,\n",
       "  -0.20779066228467793,\n",
       "  -0.46661390015562504,\n",
       "  -0.2176311961377963,\n",
       "  -0.21913809512573648,\n",
       "  -0.18310292605504394,\n",
       "  -0.18565248982309873,\n",
       "  -0.32907001256342405,\n",
       "  0.12454234461324044,\n",
       "  -0.1571330476106764,\n",
       "  0.1162532715079615,\n",
       "  -0.14314191212929187,\n",
       "  -0.10158495052008,\n",
       "  -0.49854395358186415,\n",
       "  -0.43010683884565515,\n",
       "  -0.49721492363345826,\n",
       "  -0.4005179068050236,\n",
       "  -0.5321304462920156,\n",
       "  -0.4958920973651813,\n",
       "  -0.35411100200137813,\n",
       "  -0.5201855089068351,\n",
       "  -0.3761720600139915,\n",
       "  -0.5378778728858675,\n",
       "  -0.15877970267891917,\n",
       "  0.43743377130094585,\n",
       "  -0.43692373334037593,\n",
       "  0.3394523272955483,\n",
       "  -0.38597784150481673,\n",
       "  -0.4608298922837757],\n",
       " [0.0004661295634850817,\n",
       "  -0.15628152814302837,\n",
       "  -0.18673774881783964,\n",
       "  -0.13104186850159102,\n",
       "  -0.15179366746676817,\n",
       "  0.091630016670939,\n",
       "  -0.1630668952116131,\n",
       "  -0.17424097308816658,\n",
       "  -0.13285279580493733,\n",
       "  -0.14359231414197166,\n",
       "  -0.19996120380648255,\n",
       "  0.10873404563660662,\n",
       "  -0.09544250331214893,\n",
       "  0.09987266761477047,\n",
       "  -0.0780096162787271,\n",
       "  -0.24271712820784844,\n",
       "  0.19375730788585785,\n",
       "  -0.37596341896095214,\n",
       "  -0.33900209759762673,\n",
       "  -0.22293197970183903,\n",
       "  -0.17483285082723127,\n",
       "  0.14967254179598719,\n",
       "  -0.35758881904400125,\n",
       "  -0.2954165866390037,\n",
       "  -0.21995924814275047,\n",
       "  -0.1410953096748537,\n",
       "  -0.0766061959629007,\n",
       "  0.25327775153593185,\n",
       "  -0.0360432708380331,\n",
       "  0.1543265055419211,\n",
       "  0.2065018058534248,\n",
       "  0.030768625662196594]]"
      ]
     },
     "execution_count": 37,
     "metadata": {},
     "output_type": "execute_result"
    }
   ],
   "source": [
    "x_train[:10]  # 展示训练集中的10个数据"
   ]
  },
  {
   "cell_type": "code",
   "execution_count": 38,
   "metadata": {
    "execution": {
     "iopub.execute_input": "2020-09-14T00:31:48.441370Z",
     "iopub.status.busy": "2020-09-14T00:31:48.440252Z",
     "iopub.status.idle": "2020-09-14T00:31:48.444410Z",
     "shell.execute_reply": "2020-09-14T00:31:48.443851Z"
    },
    "papermill": {
     "duration": 0.099965,
     "end_time": "2020-09-14T00:31:48.444533",
     "exception": false,
     "start_time": "2020-09-14T00:31:48.344568",
     "status": "completed"
    },
    "tags": []
   },
   "outputs": [
    {
     "data": {
      "text/plain": [
       "[2, 0, 0, 1, 2, 0, 2, 0, 3, 3]"
      ]
     },
     "execution_count": 38,
     "metadata": {},
     "output_type": "execute_result"
    }
   ],
   "source": [
    "y_train[:10]"
   ]
  },
  {
   "cell_type": "code",
   "execution_count": 39,
   "metadata": {
    "execution": {
     "iopub.execute_input": "2020-09-14T00:31:48.635545Z",
     "iopub.status.busy": "2020-09-14T00:31:48.634461Z",
     "iopub.status.idle": "2020-09-14T00:31:48.641356Z",
     "shell.execute_reply": "2020-09-14T00:31:48.640652Z"
    },
    "papermill": {
     "duration": 0.106311,
     "end_time": "2020-09-14T00:31:48.641483",
     "exception": false,
     "start_time": "2020-09-14T00:31:48.535172",
     "status": "completed"
    },
    "tags": []
   },
   "outputs": [
    {
     "data": {
      "text/plain": [
       "KNeighborsClassifier()"
      ]
     },
     "execution_count": 39,
     "metadata": {},
     "output_type": "execute_result"
    }
   ],
   "source": [
    "model = KNeighborsClassifier()\n",
    "model.fit(x_train, y_train)"
   ]
  },
  {
   "cell_type": "code",
   "execution_count": 40,
   "metadata": {
    "execution": {
     "iopub.execute_input": "2020-09-14T00:31:48.832274Z",
     "iopub.status.busy": "2020-09-14T00:31:48.831433Z",
     "iopub.status.idle": "2020-09-14T00:31:48.844739Z",
     "shell.execute_reply": "2020-09-14T00:31:48.845410Z"
    },
    "papermill": {
     "duration": 0.112338,
     "end_time": "2020-09-14T00:31:48.845569",
     "exception": false,
     "start_time": "2020-09-14T00:31:48.733231",
     "status": "completed"
    },
    "tags": []
   },
   "outputs": [
    {
     "name": "stdout",
     "output_type": "stream",
     "text": [
      "测试集上精度： 0.32432432432432434\n",
      "训练集上精度： 0.5697674418604651\n"
     ]
    }
   ],
   "source": [
    "predicted = model.predict(x_test)\n",
    "acc = metrics.accuracy_score(y_test, predicted)\n",
    "print(\"测试集上精度：\", acc)\n",
    "\n",
    "print(\"训练集上精度：\", metrics.accuracy_score(y_train, model.predict(x_train)))"
   ]
  },
  {
   "cell_type": "markdown",
   "metadata": {
    "papermill": {
     "duration": 0.093515,
     "end_time": "2020-09-14T00:31:49.031541",
     "exception": false,
     "start_time": "2020-09-14T00:31:48.938026",
     "status": "completed"
    },
    "tags": []
   },
   "source": [
    "# 朴素贝叶斯分类器\n",
    "这里无法使用nb分类器，因为向量空间包含负值"
   ]
  },
  {
   "cell_type": "markdown",
   "metadata": {
    "papermill": {
     "duration": 0.092508,
     "end_time": "2020-09-14T00:31:49.225358",
     "exception": false,
     "start_time": "2020-09-14T00:31:49.132850",
     "status": "completed"
    },
    "tags": []
   },
   "source": [
    "# SVC"
   ]
  },
  {
   "cell_type": "code",
   "execution_count": 41,
   "metadata": {
    "execution": {
     "iopub.execute_input": "2020-09-14T00:31:49.419525Z",
     "iopub.status.busy": "2020-09-14T00:31:49.418353Z",
     "iopub.status.idle": "2020-09-14T00:31:49.426419Z",
     "shell.execute_reply": "2020-09-14T00:31:49.427149Z"
    },
    "papermill": {
     "duration": 0.109483,
     "end_time": "2020-09-14T00:31:49.427308",
     "exception": false,
     "start_time": "2020-09-14T00:31:49.317825",
     "status": "completed"
    },
    "tags": []
   },
   "outputs": [
    {
     "name": "stdout",
     "output_type": "stream",
     "text": [
      "测试集上精度： 0.2972972972972973\n",
      "训练集上精度： 0.6627906976744186\n"
     ]
    }
   ],
   "source": [
    "svc_model = SVC(kernel='linear')\n",
    "svc_model.fit(x_train, y_train)\n",
    "\n",
    "predicted = svc_model.predict(x_test)  # 使用SVM预测\n",
    "\n",
    "# 模型评价\n",
    "accuracy = metrics.accuracy_score(y_test, predicted)\n",
    "\n",
    "print(\"测试集上精度：\", accuracy)\n",
    "print(\"训练集上精度：\", metrics.accuracy_score(y_train, svc_model.predict(x_train)))"
   ]
  },
  {
   "cell_type": "markdown",
   "metadata": {
    "papermill": {
     "duration": 0.092167,
     "end_time": "2020-09-14T00:31:49.616218",
     "exception": false,
     "start_time": "2020-09-14T00:31:49.524051",
     "status": "completed"
    },
    "tags": []
   },
   "source": [
    "# 决策树分类器"
   ]
  },
  {
   "cell_type": "code",
   "execution_count": 42,
   "metadata": {
    "execution": {
     "iopub.execute_input": "2020-09-14T00:31:49.808392Z",
     "iopub.status.busy": "2020-09-14T00:31:49.807524Z",
     "iopub.status.idle": "2020-09-14T00:31:49.812015Z",
     "shell.execute_reply": "2020-09-14T00:31:49.812634Z"
    },
    "papermill": {
     "duration": 0.103804,
     "end_time": "2020-09-14T00:31:49.812807",
     "exception": false,
     "start_time": "2020-09-14T00:31:49.709003",
     "status": "completed"
    },
    "tags": []
   },
   "outputs": [
    {
     "name": "stdout",
     "output_type": "stream",
     "text": [
      "特征数量： 32\n"
     ]
    },
    {
     "data": {
      "text/plain": [
       "[-0.4228625234552949,\n",
       " -0.2061845994344567,\n",
       " -0.2286172802071636,\n",
       " -0.1754331591735305,\n",
       " -0.19198671105565096,\n",
       " -0.46661390015562504,\n",
       " -0.2176311961377963,\n",
       " -0.21913809512573648,\n",
       " -0.18310292605504394,\n",
       " -0.18565248982309873,\n",
       " -0.32907001256342405,\n",
       " 0.12454234461324044,\n",
       " -0.1571330476106764,\n",
       " 0.1162532715079615,\n",
       " -0.14314191212929187,\n",
       " -0.6652159720438953,\n",
       " -0.4389039413947758,\n",
       " -0.5084684508027149,\n",
       " -0.5919377896821351,\n",
       " -0.42114898199861406,\n",
       " -0.556801967768403,\n",
       " -0.40684869886019254,\n",
       " -0.47375133837697764,\n",
       " -0.5749594338080113,\n",
       " -0.409241032011906,\n",
       " -0.5525251611289784,\n",
       " -0.13823632599991456,\n",
       " 0.3656508359024938,\n",
       " -0.43692373334037593,\n",
       " 0.32210449035712796,\n",
       " -0.38597784150481673,\n",
       " -0.2768865471258468]"
      ]
     },
     "execution_count": 42,
     "metadata": {},
     "output_type": "execute_result"
    }
   ],
   "source": [
    "print(\"特征数量：\", len(x_train[0]))\n",
    "x_train[0]"
   ]
  },
  {
   "cell_type": "code",
   "execution_count": 43,
   "metadata": {
    "execution": {
     "iopub.execute_input": "2020-09-14T00:31:50.010142Z",
     "iopub.status.busy": "2020-09-14T00:31:50.009361Z",
     "iopub.status.idle": "2020-09-14T00:31:50.016138Z",
     "shell.execute_reply": "2020-09-14T00:31:50.016687Z"
    },
    "papermill": {
     "duration": 0.110102,
     "end_time": "2020-09-14T00:31:50.016849",
     "exception": false,
     "start_time": "2020-09-14T00:31:49.906747",
     "status": "completed"
    },
    "tags": []
   },
   "outputs": [
    {
     "data": {
      "text/plain": [
       "DecisionTreeClassifier(max_depth=7, random_state=0)"
      ]
     },
     "execution_count": 43,
     "metadata": {},
     "output_type": "execute_result"
    }
   ],
   "source": [
    "max_depth = 7  # 最大树深\n",
    "\n",
    "# 实例化决策树模型\n",
    "dt_model = DecisionTreeClassifier(max_depth=max_depth, random_state = 0, splitter=\"best\")\n",
    "dt_model.fit(x_train, y_train)"
   ]
  },
  {
   "cell_type": "code",
   "execution_count": 44,
   "metadata": {
    "execution": {
     "iopub.execute_input": "2020-09-14T00:31:50.216441Z",
     "iopub.status.busy": "2020-09-14T00:31:50.215629Z",
     "iopub.status.idle": "2020-09-14T00:31:50.219771Z",
     "shell.execute_reply": "2020-09-14T00:31:50.218995Z"
    },
    "papermill": {
     "duration": 0.108809,
     "end_time": "2020-09-14T00:31:50.219905",
     "exception": false,
     "start_time": "2020-09-14T00:31:50.111096",
     "status": "completed"
    },
    "tags": []
   },
   "outputs": [
    {
     "name": "stdout",
     "output_type": "stream",
     "text": [
      "测试集上精度： 0.4864864864864865\n",
      "训练集上精度： 0.9069767441860465\n"
     ]
    }
   ],
   "source": [
    "predicted = dt_model.predict(x_test)  # 使用SVM预测\n",
    "\n",
    "# 模型评价\n",
    "accuracy = metrics.accuracy_score(y_test, predicted)\n",
    "\n",
    "print(\"测试集上精度：\", accuracy)\n",
    "print(\"训练集上精度：\", metrics.accuracy_score(y_train, dt_model.predict(x_train)))"
   ]
  },
  {
   "cell_type": "code",
   "execution_count": 45,
   "metadata": {
    "execution": {
     "iopub.execute_input": "2020-09-14T00:31:50.417628Z",
     "iopub.status.busy": "2020-09-14T00:31:50.416494Z",
     "iopub.status.idle": "2020-09-14T00:31:50.420956Z",
     "shell.execute_reply": "2020-09-14T00:31:50.420186Z"
    },
    "papermill": {
     "duration": 0.105776,
     "end_time": "2020-09-14T00:31:50.421093",
     "exception": false,
     "start_time": "2020-09-14T00:31:50.315317",
     "status": "completed"
    },
    "tags": []
   },
   "outputs": [
    {
     "data": {
      "text/plain": [
       "array([0.1118418 , 0.09912069, 0.06472141, 0.        , 0.        ,\n",
       "       0.        , 0.        , 0.        , 0.        , 0.04457852,\n",
       "       0.02971902, 0.0264169 , 0.        , 0.        , 0.        ,\n",
       "       0.        , 0.32077803, 0.12374059, 0.        , 0.        ,\n",
       "       0.        , 0.07598306, 0.03546858, 0.        , 0.        ,\n",
       "       0.        , 0.        , 0.        , 0.        , 0.        ,\n",
       "       0.06763141, 0.        ])"
      ]
     },
     "execution_count": 45,
     "metadata": {},
     "output_type": "execute_result"
    }
   ],
   "source": [
    "# 特征重要性分析\n",
    "dt_model.feature_importances_"
   ]
  },
  {
   "cell_type": "code",
   "execution_count": 46,
   "metadata": {
    "execution": {
     "iopub.execute_input": "2020-09-14T00:31:50.624941Z",
     "iopub.status.busy": "2020-09-14T00:31:50.624164Z",
     "iopub.status.idle": "2020-09-14T00:31:50.781506Z",
     "shell.execute_reply": "2020-09-14T00:31:50.780872Z"
    },
    "papermill": {
     "duration": 0.264345,
     "end_time": "2020-09-14T00:31:50.781651",
     "exception": false,
     "start_time": "2020-09-14T00:31:50.517306",
     "status": "completed"
    },
    "tags": []
   },
   "outputs": [
    {
     "data": {
      "image/png": "[encoded data removed]",
      "text/plain": [
       "<Figure size 432x288 with 1 Axes>"
      ]
     },
     "metadata": {
      "needs_background": "light"
     },
     "output_type": "display_data"
    }
   ],
   "source": [
    "plt.plot(dt_model.feature_importances_)\n",
    "plt.show()"
   ]
  },
  {
   "cell_type": "code",
   "execution_count": 47,
   "metadata": {
    "execution": {
     "iopub.execute_input": "2020-09-14T00:31:50.997371Z",
     "iopub.status.busy": "2020-09-14T00:31:50.994918Z",
     "iopub.status.idle": "2020-09-14T00:31:51.232102Z",
     "shell.execute_reply": "2020-09-14T00:31:51.231377Z"
    },
    "papermill": {
     "duration": 0.352945,
     "end_time": "2020-09-14T00:31:51.232237",
     "exception": false,
     "start_time": "2020-09-14T00:31:50.879292",
     "status": "completed"
    },
    "tags": []
   },
   "outputs": [
    {
     "data": {
      "text/plain": [
       "<matplotlib.axes._subplots.AxesSubplot at 0x7f24fe4d68d0>"
      ]
     },
     "execution_count": 47,
     "metadata": {},
     "output_type": "execute_result"
    },
    {
     "data": {
      "image/png": "[encoded data removed]",
      "text/plain": [
       "<Figure size 432x288 with 2 Axes>"
      ]
     },
     "metadata": {
      "needs_background": "light"
     },
     "output_type": "display_data"
    }
   ],
   "source": [
    "# 绘制热力图\n",
    "sns.heatmap(dt_model.feature_importances_.reshape(2, 16))"
   ]
  },
  {
   "cell_type": "markdown",
   "metadata": {
    "papermill": {
     "duration": 0.131851,
     "end_time": "2020-09-14T00:31:51.462850",
     "exception": false,
     "start_time": "2020-09-14T00:31:51.330999",
     "status": "completed"
    },
    "tags": []
   },
   "source": [
    "# 使用随机森林"
   ]
  },
  {
   "cell_type": "code",
   "execution_count": 48,
   "metadata": {
    "execution": {
     "iopub.execute_input": "2020-09-14T00:31:51.678868Z",
     "iopub.status.busy": "2020-09-14T00:31:51.672257Z",
     "iopub.status.idle": "2020-09-14T00:31:51.689070Z",
     "shell.execute_reply": "2020-09-14T00:31:51.688392Z"
    },
    "papermill": {
     "duration": 0.125634,
     "end_time": "2020-09-14T00:31:51.689203",
     "exception": false,
     "start_time": "2020-09-14T00:31:51.563569",
     "status": "completed"
    },
    "tags": []
   },
   "outputs": [
    {
     "name": "stdout",
     "output_type": "stream",
     "text": [
      "测试集上精度： 0.4864864864864865\n",
      "训练集上精度： 0.7325581395348837\n"
     ]
    }
   ],
   "source": [
    "# 模型参数\n",
    "max_features = \"log2\"\n",
    "max_depth = 7\n",
    "# min_samples_leaf = \n",
    "n_estimators = 1\n",
    "\n",
    "rf = RandomForestClassifier(max_features=max_features,\n",
    "                           max_depth=max_depth,\n",
    "                           n_estimators=n_estimators)\n",
    "rf.fit(x_train, y_train)\n",
    "pred = rf.predict(x_test)\n",
    "\n",
    "print(\"测试集上精度：\", metrics.accuracy_score(y_test, predicted))\n",
    "print(\"训练集上精度：\", metrics.accuracy_score(y_train, rf.predict(x_train)))"
   ]
  },
  {
   "cell_type": "code",
   "execution_count": 49,
   "metadata": {
    "execution": {
     "iopub.execute_input": "2020-09-14T00:31:51.895183Z",
     "iopub.status.busy": "2020-09-14T00:31:51.894384Z",
     "iopub.status.idle": "2020-09-14T00:31:51.898895Z",
     "shell.execute_reply": "2020-09-14T00:31:51.898141Z"
    },
    "papermill": {
     "duration": 0.109895,
     "end_time": "2020-09-14T00:31:51.899021",
     "exception": false,
     "start_time": "2020-09-14T00:31:51.789126",
     "status": "completed"
    },
    "tags": []
   },
   "outputs": [
    {
     "data": {
      "text/plain": [
       "array([0.        , 0.10647345, 0.02646833, 0.09540342, 0.        ,\n",
       "       0.        , 0.        , 0.        , 0.1510566 , 0.        ,\n",
       "       0.08964707, 0.        , 0.        , 0.        , 0.        ,\n",
       "       0.        , 0.21556743, 0.        , 0.        , 0.0518338 ,\n",
       "       0.03308541, 0.08640512, 0.        , 0.        , 0.0034464 ,\n",
       "       0.0964991 , 0.        , 0.        , 0.04411388, 0.        ,\n",
       "       0.        , 0.        ])"
      ]
     },
     "execution_count": 49,
     "metadata": {},
     "output_type": "execute_result"
    }
   ],
   "source": [
    "# 特征重要性分析\n",
    "rf.feature_importances_"
   ]
  },
  {
   "cell_type": "code",
   "execution_count": 50,
   "metadata": {
    "execution": {
     "iopub.execute_input": "2020-09-14T00:31:52.120854Z",
     "iopub.status.busy": "2020-09-14T00:31:52.120066Z",
     "iopub.status.idle": "2020-09-14T00:31:52.368402Z",
     "shell.execute_reply": "2020-09-14T00:31:52.367817Z"
    },
    "papermill": {
     "duration": 0.367987,
     "end_time": "2020-09-14T00:31:52.368527",
     "exception": false,
     "start_time": "2020-09-14T00:31:52.000540",
     "status": "completed"
    },
    "tags": []
   },
   "outputs": [
    {
     "data": {
      "text/plain": [
       "<matplotlib.axes._subplots.AxesSubplot at 0x7f24fe380190>"
      ]
     },
     "execution_count": 50,
     "metadata": {},
     "output_type": "execute_result"
    },
    {
     "data": {
      "image/png": "[encoded data removed]",
      "text/plain": [
       "<Figure size 432x288 with 2 Axes>"
      ]
     },
     "metadata": {
      "needs_background": "light"
     },
     "output_type": "display_data"
    }
   ],
   "source": [
    "# 绘制热力图\n",
    "sns.heatmap(rf.feature_importances_.reshape(2, 16))\n",
    "# plt.yticks(np.array([\"f0~f4\", \"f5~f9\", \"f10~f14\", \"f15~f19\"]))\n",
    "# plt.show()"
   ]
  },
  {
   "cell_type": "markdown",
   "metadata": {
    "papermill": {
     "duration": 0.100016,
     "end_time": "2020-09-14T00:31:52.569355",
     "exception": false,
     "start_time": "2020-09-14T00:31:52.469339",
     "status": "completed"
    },
    "tags": []
   },
   "source": [
    "# 使用梯度提升树"
   ]
  },
  {
   "cell_type": "code",
   "execution_count": 51,
   "metadata": {
    "execution": {
     "iopub.execute_input": "2020-09-14T00:31:52.775627Z",
     "iopub.status.busy": "2020-09-14T00:31:52.774796Z",
     "iopub.status.idle": "2020-09-14T00:31:52.866731Z",
     "shell.execute_reply": "2020-09-14T00:31:52.865935Z"
    },
    "papermill": {
     "duration": 0.197596,
     "end_time": "2020-09-14T00:31:52.866864",
     "exception": false,
     "start_time": "2020-09-14T00:31:52.669268",
     "status": "completed"
    },
    "tags": []
   },
   "outputs": [],
   "source": [
    "from sklearn.ensemble import GradientBoostingClassifier\n",
    "from sklearn.datasets import load_breast_cancer\n",
    "from sklearn.model_selection import train_test_split"
   ]
  },
  {
   "cell_type": "code",
   "execution_count": 52,
   "metadata": {
    "execution": {
     "iopub.execute_input": "2020-09-14T00:31:53.076195Z",
     "iopub.status.busy": "2020-09-14T00:31:53.075381Z",
     "iopub.status.idle": "2020-09-14T00:31:53.078743Z",
     "shell.execute_reply": "2020-09-14T00:31:53.077977Z"
    },
    "papermill": {
     "duration": 0.111662,
     "end_time": "2020-09-14T00:31:53.078867",
     "exception": false,
     "start_time": "2020-09-14T00:31:52.967205",
     "status": "completed"
    },
    "tags": []
   },
   "outputs": [],
   "source": [
    "gbrt=GradientBoostingClassifier(learning_rate=0.05)"
   ]
  },
  {
   "cell_type": "code",
   "execution_count": 53,
   "metadata": {
    "execution": {
     "iopub.execute_input": "2020-09-14T00:31:53.300877Z",
     "iopub.status.busy": "2020-09-14T00:31:53.299778Z",
     "iopub.status.idle": "2020-09-14T00:31:53.839846Z",
     "shell.execute_reply": "2020-09-14T00:31:53.839095Z"
    },
    "papermill": {
     "duration": 0.656495,
     "end_time": "2020-09-14T00:31:53.839974",
     "exception": false,
     "start_time": "2020-09-14T00:31:53.183479",
     "status": "completed"
    },
    "tags": []
   },
   "outputs": [
    {
     "data": {
      "text/plain": [
       "GradientBoostingClassifier(learning_rate=0.05)"
      ]
     },
     "execution_count": 53,
     "metadata": {},
     "output_type": "execute_result"
    }
   ],
   "source": [
    "gbrt.fit(x_train, y_train)"
   ]
  },
  {
   "cell_type": "code",
   "execution_count": 54,
   "metadata": {
    "execution": {
     "iopub.execute_input": "2020-09-14T00:31:54.055121Z",
     "iopub.status.busy": "2020-09-14T00:31:54.054162Z",
     "iopub.status.idle": "2020-09-14T00:31:54.058625Z",
     "shell.execute_reply": "2020-09-14T00:31:54.059218Z"
    },
    "papermill": {
     "duration": 0.118344,
     "end_time": "2020-09-14T00:31:54.059391",
     "exception": false,
     "start_time": "2020-09-14T00:31:53.941047",
     "status": "completed"
    },
    "tags": []
   },
   "outputs": [
    {
     "name": "stdout",
     "output_type": "stream",
     "text": [
      "测试集上精度 0.4864864864864865\n",
      "训练集上精度 1.0\n"
     ]
    }
   ],
   "source": [
    "print(\"测试集上精度\", gbrt.score(x_test,y_test))\n",
    "print(\"训练集上精度\", gbrt.score(x_train,y_train))"
   ]
  },
  {
   "cell_type": "markdown",
   "metadata": {
    "papermill": {
     "duration": 0.104519,
     "end_time": "2020-09-14T00:31:54.269676",
     "exception": false,
     "start_time": "2020-09-14T00:31:54.165157",
     "status": "completed"
    },
    "tags": []
   },
   "source": [
    "# 使用AdaBoost"
   ]
  },
  {
   "cell_type": "code",
   "execution_count": 55,
   "metadata": {
    "execution": {
     "iopub.execute_input": "2020-09-14T00:31:54.481602Z",
     "iopub.status.busy": "2020-09-14T00:31:54.480539Z",
     "iopub.status.idle": "2020-09-14T00:31:54.484086Z",
     "shell.execute_reply": "2020-09-14T00:31:54.483330Z"
    },
    "papermill": {
     "duration": 0.110605,
     "end_time": "2020-09-14T00:31:54.484214",
     "exception": false,
     "start_time": "2020-09-14T00:31:54.373609",
     "status": "completed"
    },
    "tags": []
   },
   "outputs": [],
   "source": [
    "from sklearn.ensemble import AdaBoostClassifier"
   ]
  },
  {
   "cell_type": "code",
   "execution_count": 56,
   "metadata": {
    "execution": {
     "iopub.execute_input": "2020-09-14T00:31:54.697521Z",
     "iopub.status.busy": "2020-09-14T00:31:54.696404Z",
     "iopub.status.idle": "2020-09-14T00:31:54.699924Z",
     "shell.execute_reply": "2020-09-14T00:31:54.699196Z"
    },
    "papermill": {
     "duration": 0.113146,
     "end_time": "2020-09-14T00:31:54.700050",
     "exception": false,
     "start_time": "2020-09-14T00:31:54.586904",
     "status": "completed"
    },
    "tags": []
   },
   "outputs": [],
   "source": [
    "ada = AdaBoostClassifier()"
   ]
  },
  {
   "cell_type": "code",
   "execution_count": 57,
   "metadata": {
    "execution": {
     "iopub.execute_input": "2020-09-14T00:31:54.914055Z",
     "iopub.status.busy": "2020-09-14T00:31:54.913002Z",
     "iopub.status.idle": "2020-09-14T00:31:55.024130Z",
     "shell.execute_reply": "2020-09-14T00:31:55.024679Z"
    },
    "papermill": {
     "duration": 0.222013,
     "end_time": "2020-09-14T00:31:55.024835",
     "exception": false,
     "start_time": "2020-09-14T00:31:54.802822",
     "status": "completed"
    },
    "tags": []
   },
   "outputs": [
    {
     "data": {
      "text/plain": [
       "AdaBoostClassifier()"
      ]
     },
     "execution_count": 57,
     "metadata": {},
     "output_type": "execute_result"
    }
   ],
   "source": [
    "ada.fit(x_train, y_train)"
   ]
  },
  {
   "cell_type": "code",
   "execution_count": 58,
   "metadata": {
    "execution": {
     "iopub.execute_input": "2020-09-14T00:31:55.249925Z",
     "iopub.status.busy": "2020-09-14T00:31:55.246849Z",
     "iopub.status.idle": "2020-09-14T00:31:55.272511Z",
     "shell.execute_reply": "2020-09-14T00:31:55.271655Z"
    },
    "papermill": {
     "duration": 0.143684,
     "end_time": "2020-09-14T00:31:55.272662",
     "exception": false,
     "start_time": "2020-09-14T00:31:55.128978",
     "status": "completed"
    },
    "tags": []
   },
   "outputs": [
    {
     "name": "stdout",
     "output_type": "stream",
     "text": [
      "测试集上精度 0.4864864864864865\n",
      "训练集上精度 0.7790697674418605\n"
     ]
    }
   ],
   "source": [
    "print(\"测试集上精度\", ada.score(x_test,y_test))\n",
    "print(\"训练集上精度\", ada.score(x_train,y_train))"
   ]
  },
  {
   "cell_type": "code",
   "execution_count": 59,
   "metadata": {
    "execution": {
     "iopub.execute_input": "2020-09-14T00:31:55.496707Z",
     "iopub.status.busy": "2020-09-14T00:31:55.495655Z",
     "iopub.status.idle": "2020-09-14T00:31:56.036629Z",
     "shell.execute_reply": "2020-09-14T00:31:56.037193Z"
    },
    "papermill": {
     "duration": 0.660096,
     "end_time": "2020-09-14T00:31:56.037366",
     "exception": false,
     "start_time": "2020-09-14T00:31:55.377270",
     "status": "completed"
    },
    "tags": []
   },
   "outputs": [
    {
     "name": "stdout",
     "output_type": "stream",
     "text": [
      "测试集上精度 0.4864864864864865\n",
      "训练集上精度 1.0\n"
     ]
    }
   ],
   "source": [
    "from sklearn.ensemble import GradientBoostingClassifier\n",
    "gb = GradientBoostingClassifier()\n",
    "gb.fit(x_train, y_train)\n",
    "print(\"测试集上精度\", gb.score(x_test,y_test))\n",
    "print(\"训练集上精度\", gb.score(x_train,y_train))"
   ]
  },
  {
   "cell_type": "code",
   "execution_count": 60,
   "metadata": {
    "execution": {
     "iopub.execute_input": "2020-09-14T00:31:56.256249Z",
     "iopub.status.busy": "2020-09-14T00:31:56.255447Z",
     "iopub.status.idle": "2020-09-14T00:31:56.264512Z",
     "shell.execute_reply": "2020-09-14T00:31:56.263811Z"
    },
    "papermill": {
     "duration": 0.122507,
     "end_time": "2020-09-14T00:31:56.264648",
     "exception": false,
     "start_time": "2020-09-14T00:31:56.142141",
     "status": "completed"
    },
    "tags": []
   },
   "outputs": [
    {
     "data": {
      "text/plain": [
       "array([0.03229662, 0.0448202 , 0.01420625, 0.01174785, 0.01719537,\n",
       "       0.01204639, 0.03474535, 0.00345261, 0.00303059, 0.05123635,\n",
       "       0.00111023, 0.00732476, 0.00683661, 0.03749682, 0.05141823,\n",
       "       0.00582882, 0.28794687, 0.07357382, 0.02395665, 0.01121407,\n",
       "       0.00570414, 0.03152369, 0.02511166, 0.03519683, 0.0224377 ,\n",
       "       0.00641423, 0.03884161, 0.02666675, 0.01882859, 0.01749229,\n",
       "       0.0216342 , 0.01866386])"
      ]
     },
     "execution_count": 60,
     "metadata": {},
     "output_type": "execute_result"
    }
   ],
   "source": [
    "gb.feature_importances_"
   ]
  },
  {
   "cell_type": "code",
   "execution_count": 61,
   "metadata": {
    "execution": {
     "iopub.execute_input": "2020-09-14T00:31:56.480009Z",
     "iopub.status.busy": "2020-09-14T00:31:56.479182Z",
     "iopub.status.idle": "2020-09-14T00:31:56.718071Z",
     "shell.execute_reply": "2020-09-14T00:31:56.717334Z"
    },
    "papermill": {
     "duration": 0.349231,
     "end_time": "2020-09-14T00:31:56.718191",
     "exception": false,
     "start_time": "2020-09-14T00:31:56.368960",
     "status": "completed"
    },
    "tags": []
   },
   "outputs": [
    {
     "data": {
      "text/plain": [
       "<matplotlib.axes._subplots.AxesSubplot at 0x7f24fdd97b50>"
      ]
     },
     "execution_count": 61,
     "metadata": {},
     "output_type": "execute_result"
    },
    {
     "data": {
      "image/png": "[encoded data removed]",
      "text/plain": [
       "<Figure size 432x288 with 2 Axes>"
      ]
     },
     "metadata": {
      "needs_background": "light"
     },
     "output_type": "display_data"
    }
   ],
   "source": [
    "sns.heatmap(gb.feature_importances_.reshape(2, 16))"
   ]
  },
  {
   "cell_type": "markdown",
   "metadata": {
    "papermill": {
     "duration": 0.105427,
     "end_time": "2020-09-14T00:31:56.929637",
     "exception": false,
     "start_time": "2020-09-14T00:31:56.824210",
     "status": "completed"
    },
    "tags": []
   },
   "source": [
    "# 做出预测"
   ]
  },
  {
   "cell_type": "code",
   "execution_count": 62,
   "metadata": {
    "execution": {
     "iopub.execute_input": "2020-09-14T00:31:57.148388Z",
     "iopub.status.busy": "2020-09-14T00:31:57.147272Z",
     "iopub.status.idle": "2020-09-14T00:31:57.152057Z",
     "shell.execute_reply": "2020-09-14T00:31:57.151439Z"
    },
    "papermill": {
     "duration": 0.114914,
     "end_time": "2020-09-14T00:31:57.152185",
     "exception": false,
     "start_time": "2020-09-14T00:31:57.037271",
     "status": "completed"
    },
    "tags": []
   },
   "outputs": [
    {
     "ename": "SyntaxError",
     "evalue": "invalid syntax (<ipython-input-62-2b864c471c12>, line 1)",
     "output_type": "error",
     "traceback": [
      "\u001b[0;36m  File \u001b[0;32m\"<ipython-input-62-2b864c471c12>\"\u001b[0;36m, line \u001b[0;32m1\u001b[0m\n\u001b[0;31m    e3_data =\u001b[0m\n\u001b[0m              ^\u001b[0m\n\u001b[0;31mSyntaxError\u001b[0m\u001b[0;31m:\u001b[0m invalid syntax\n"
     ]
    }
   ],
   "source": [
    "e3_data = "
   ]
  }
 ],
 "metadata": {
  "kernelspec": {
   "display_name": "Python 3",
   "language": "python",
   "name": "python3"
  },
  "language_info": {
   "codemirror_mode": {
    "name": "ipython",
    "version": 3
   },
   "file_extension": ".py",
   "mimetype": "text/x-python",
   "name": "python",
   "nbconvert_exporter": "python",
   "pygments_lexer": "ipython3",
   "version": "3.7.6"
  },
  "papermill": {
   "duration": 138.529295,
   "end_time": "2020-09-14T00:31:57.379419",
   "environment_variables": {},
   "exception": null,
   "input_path": "__notebook__.ipynb",
   "output_path": "__notebook__.ipynb",
   "parameters": {},
   "start_time": "2020-09-14T00:29:38.850124",
   "version": "2.1.0"
  }
 },
 "nbformat": 4,
 "nbformat_minor": 4
}
