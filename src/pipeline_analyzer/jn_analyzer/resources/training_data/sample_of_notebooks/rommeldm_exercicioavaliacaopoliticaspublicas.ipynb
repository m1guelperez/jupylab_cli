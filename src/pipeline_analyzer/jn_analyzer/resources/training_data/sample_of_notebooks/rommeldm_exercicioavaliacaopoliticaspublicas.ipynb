{
 "cells": [
  {
   "cell_type": "markdown",
   "metadata": {},
   "source": [
    "# Exercício para o curso de avaliação de políticas públicas"
   ]
  },
  {
   "cell_type": "code",
   "execution_count": 1,
   "metadata": {
    "_cell_guid": "b1076dfc-b9ad-4769-8c92-a6c4dae69d19",
    "_uuid": "8f2839f25d086af736a60e9eeb907d3b93b6e0e5"
   },
   "outputs": [],
   "source": [
    "import numpy as np\n",
    "import matplotlib.pyplot as plt\n",
    "import math\n",
    "import random\n",
    "import pandas as pd\n",
    "import scipy.stats as stat\n",
    "from scipy.stats import norm\n",
    "\n",
    "import os"
   ]
  },
  {
   "cell_type": "code",
   "execution_count": 2,
   "metadata": {},
   "outputs": [],
   "source": [
    "from scipy.stats import t\n",
    "\n",
    "\n",
    "def calcula_numero_desvios_tstudent_para_confianca(confianca, tamanho_amostra):\n",
    "    mean = 0\n",
    "    std = 1\n",
    "    rv = t(df=(tamanho_amostra-1))\n",
    "    return rv.interval(confianca)[1]"
   ]
  },
  {
   "cell_type": "code",
   "execution_count": 3,
   "metadata": {},
   "outputs": [],
   "source": [
    "from scipy.stats import norm\n",
    "\n",
    "\n",
    "def calcula_numero_desvios_normal_para_confianca(confianca):\n",
    "    mean = 0\n",
    "    std = 1\n",
    "    rv = norm(loc=mean, scale=std)\n",
    "    return rv.interval(confianca)[1]"
   ]
  },
  {
   "cell_type": "code",
   "execution_count": 4,
   "metadata": {},
   "outputs": [],
   "source": [
    "def recupera_amostra(populacao, tamanho_amostra):\n",
    "    return populacao[np.random.randint(0, len(populacao), tamanho_amostra)]"
   ]
  },
  {
   "cell_type": "code",
   "execution_count": 5,
   "metadata": {
    "_cell_guid": "79c7e3d0-c299-4dcb-8224-4455121ee9b0",
    "_uuid": "d629ff2d2480ee46fbb7e2d37f6b5fab8052498a"
   },
   "outputs": [
    {
     "name": "stdout",
     "output_type": "stream",
     "text": [
      "Tamanho população 100000, média 160.10506056979364, desvio 19.966585470834723\n"
     ]
    }
   ],
   "source": [
    "# Define população\n",
    "\n",
    "mean = 160\n",
    "std = 20\n",
    "distribuicao_probabilidades = norm(loc=mean, scale=std)\n",
    "\n",
    "tamanho_populacao = 100000\n",
    "\n",
    "populacao = distribuicao_probabilidades.rvs(size=tamanho_populacao, random_state=1)\n",
    "\n",
    "print('Tamanho população {}, média {}, desvio {}'.format(len(populacao), np.mean(populacao), np.std(populacao)))\n",
    "\n"
   ]
  },
  {
   "cell_type": "code",
   "execution_count": 6,
   "metadata": {},
   "outputs": [
    {
     "data": {
      "image/png": "[encoded data removed]",
      "text/plain": [
       "<Figure size 1008x432 with 1 Axes>"
      ]
     },
     "metadata": {
      "needs_background": "light"
     },
     "output_type": "display_data"
    }
   ],
   "source": [
    "fig, axs = plt.subplots(1, 1, figsize=(14,6))\n",
    "\n",
    "axs.hist(populacao, density=True, facecolor='g', alpha=0.75, bins=50)\n",
    "axs.grid(True)\n",
    "axs.set_title('Histograma de alturas da População')\n",
    "\n",
    "plt.show()"
   ]
  },
  {
   "cell_type": "code",
   "execution_count": 7,
   "metadata": {},
   "outputs": [
    {
     "name": "stdout",
     "output_type": "stream",
     "text": [
      "[159.92591986 158.11755609 155.77665515 160.8235797  173.22530272\n",
      " 168.71745944 154.63335975 152.51812838 160.59858294 156.18586832\n",
      " 184.06446197 145.70600626 143.86997378 147.08723595 179.69597881\n",
      " 190.08230793 176.43854238 167.58556713 182.84211348 149.00596638\n",
      " 142.62619435 150.26626062 137.54137656 196.73641105 137.74925683\n",
      " 156.52506464 162.19614539 156.90235122 165.78191722 129.2030695\n",
      " 145.1764995  164.03718074 172.95708755 173.34006458 125.1364272\n",
      " 145.85527825 150.46859414 179.54450832 195.20498453 145.2221405\n",
      " 135.95795808 135.99054868 146.6694052  196.96855404 148.49551209\n",
      " 151.59062223 184.743303   142.7329108  136.60209208 159.43197717\n",
      " 150.65970108 155.1655919  166.07404936 157.42693554 138.94506219\n",
      " 174.51008472 183.40359722 149.8861129  132.02938386 151.20350489\n",
      " 133.74879261 114.80202492 119.8265436  150.16277675 171.19558028\n",
      " 155.23733388 174.36707565 142.74052891 182.39148739 162.66830798\n",
      " 163.68100645 197.03164826 189.48200525 166.75674889 150.44202629\n",
      " 149.68722711 169.4315935  160.52787078 139.27383651 144.43753569\n",
      " 144.69039843 133.37682998 176.16013795 136.82022544 150.13142422\n",
      " 169.56569477 164.59029979 176.2592189  170.46835288 107.56338114\n",
      " 190.46193428 172.48872595 159.86360146 182.01432337 105.27289969\n",
      " 144.08065014 182.30690349 125.84444211 146.4349337  174.4053295 ]\n"
     ]
    }
   ],
   "source": [
    "tamanho_amostra = 100\n",
    "amostra = recupera_amostra(populacao, tamanho_amostra)\n",
    "print(amostra)"
   ]
  },
  {
   "cell_type": "code",
   "execution_count": 8,
   "metadata": {},
   "outputs": [
    {
     "data": {
      "image/png": "[encoded data removed]",
      "text/plain": [
       "<Figure size 1008x432 with 1 Axes>"
      ]
     },
     "metadata": {
      "needs_background": "light"
     },
     "output_type": "display_data"
    }
   ],
   "source": [
    "fig, axs = plt.subplots(1, 1, figsize=(14,6))\n",
    "\n",
    "axs.hist(amostra, density=True, facecolor='g', alpha=0.75, bins=50)\n",
    "axs.grid(True)\n",
    "axs.set_title('Histograma de alturas da amostra')\n",
    "\n",
    "plt.show()"
   ]
  },
  {
   "cell_type": "code",
   "execution_count": 9,
   "metadata": {},
   "outputs": [
    {
     "name": "stdout",
     "output_type": "stream",
     "text": [
      "  Média da amostra 163.51191429254436\n",
      "  Desvio da amostra 21.852160124966886\n",
      "  Número de desvios 1.8317202013589133\n",
      "  Desvio das amostras 2.1852160124966886\n",
      "  Margem de erro 4.002704314423156\n",
      "  Intervalo: inferior 159.5092099781212, superior 167.51461860696753\n",
      " A média da população estará entre 159.5092099781212 e 167.51461860696753 com confiança de 0.93\n"
     ]
    }
   ],
   "source": [
    "#Dada uma amostra de 100 elementos, calcule a média da altura da populacao considerando confiança de 93%\n",
    "\n",
    "tamanho_amostra = 100\n",
    "amostra = recupera_amostra(populacao,tamanho_amostra)\n",
    "confianca=0.93\n",
    "#1-Calcule a média da amostra ex. media_amostra = np.mean(amostra) \n",
    "media_amostra = np.mean(amostra)\n",
    "print(\"  Média da amostra {}\".format(media_amostra))\n",
    "#2-Calcule o desvio da amostra ex. desvio_amostra = np.std(amostra)\n",
    "desvio_amostra = np.std(amostra)\n",
    "print(\"  Desvio da amostra {}\".format(desvio_amostra))\n",
    "#3-Calcule quantos desvios precisará para seu grau de confiânça ex. numero_desvios = calcula_numero_desvios_tstudent_para_confianca(confiança, tamanho_amostra)\n",
    "numero_desvios = calcula_numero_desvios_tstudent_para_confianca(confianca, tamanho_amostra)\n",
    "print (\"  Número de desvios {}\".format(numero_desvios))\n",
    "#4-Calcule o desvio das amostras ex. desvio_amostras = desvio_amostra/np.sqrt(tamanho_amostra)\n",
    "desvio_amostras = desvio_amostra/np.sqrt(tamanho_amostra)\n",
    "print (\"  Desvio das amostras {}\" .format(desvio_amostras))\n",
    "#5-Calcule a margem de erro ex. margem_erro = numero_desvios*desvio_amostras\n",
    "margem_erro = numero_desvios*desvio_amostras\n",
    "print (\"  Margem de erro {}\" .format (margem_erro))\n",
    "#6-Calcule o intervalo ex. inferior = media_amostra-margem_erro, superior = media_amostra+margem_erro\n",
    "inferior = media_amostra-margem_erro\n",
    "superior = media_amostra+margem_erro\n",
    "print (\"  Intervalo: inferior {}, superior {}\".format(inferior, superior))\n",
    "\n",
    "print(' A média da população estará entre {} e {} com confiança de {}'.format(inferior,superior,confianca))"
   ]
  },
  {
   "cell_type": "code",
   "execution_count": 10,
   "metadata": {},
   "outputs": [
    {
     "name": "stdout",
     "output_type": "stream",
     "text": [
      "  Média da amostra 159.30787367347372\n",
      "  Desvio da amostra 20.271888992630235\n",
      "  Número de desvios 1.2823995700373974\n",
      "  Desvio das amostras 0.6410534169080786\n",
      "  Margem de erro 0.8220866262139245\n",
      "  Intervalo: inferior 158.4857870472598, superior 160.12996029968764\n",
      " A média da população estará entre 158.4857870472598 e 160.12996029968764 com confiança de 0.8\n"
     ]
    }
   ],
   "source": [
    "# Obtenha uma amostra de 1000 elementos e calcule a média da altura da populacao considerando confiança de 80%\n",
    "tamanho_amostra = 1000\n",
    "amostra = recupera_amostra(populacao, tamanho_amostra)\n",
    "confianca=0.80\n",
    "\n",
    "media_amostra = np.mean(amostra)\n",
    "print(\"  Média da amostra {}\".format(media_amostra))\n",
    "\n",
    "desvio_amostra = np.std(amostra)\n",
    "print(\"  Desvio da amostra {}\".format(desvio_amostra))\n",
    "\n",
    "numero_desvios = calcula_numero_desvios_tstudent_para_confianca(confianca, tamanho_amostra)\n",
    "print (\"  Número de desvios {}\".format(numero_desvios))\n",
    "\n",
    "desvio_amostras = desvio_amostra/np.sqrt(tamanho_amostra)\n",
    "print (\"  Desvio das amostras {}\" .format(desvio_amostras))\n",
    "\n",
    "margem_erro = numero_desvios*desvio_amostras\n",
    "print (\"  Margem de erro {}\" .format (margem_erro))\n",
    "\n",
    "inferior = media_amostra-margem_erro\n",
    "superior = media_amostra+margem_erro\n",
    "print (\"  Intervalo: inferior {}, superior {}\".format(inferior, superior))\n",
    "\n",
    "print(' A média da população estará entre {} e {} com confiança de {}'.format(inferior,superior,confianca))"
   ]
  },
  {
   "cell_type": "code",
   "execution_count": 11,
   "metadata": {},
   "outputs": [
    {
     "name": "stdout",
     "output_type": "stream",
     "text": [
      "[183.62258316 168.81658836 139.50087247 174.91895693 171.6462128\n",
      " 134.6346093  153.51884732 178.94858273 149.33352482 139.05660646\n",
      " 141.81367923 124.43715752 163.86650678 154.91378569 160.64431629\n",
      " 169.75581239 123.1814011  158.51958983 137.68581685 128.22798676\n",
      " 152.92657816 198.85907787 189.6490215  180.68235388 197.17472377\n",
      " 151.85495914 167.5307544  151.51955628 164.84412022 154.5525733\n",
      " 138.29076947 148.46257816 159.41692217 144.75327341 130.94803028\n",
      " 158.67939617 155.01345048 160.46658846 143.98267324 193.32451804\n",
      " 193.17850183 173.20878922 169.49514831 141.82316144 147.73578394\n",
      " 180.58750754 157.77118738 157.48142086 196.85916362 166.94914955\n",
      " 150.92292413 193.51503672 168.638333   163.73972208 146.69589815\n",
      " 116.00288131 165.06065817 151.10751192 173.18551568 145.66711948\n",
      " 167.55948958 150.26304212 141.17356111 173.06307485 187.06094887\n",
      " 133.71597935 153.49124647 176.0648807  148.43129579 153.07312328\n",
      " 171.32898298 123.11251064 167.60597105 157.29242518 162.28271085\n",
      " 148.71164582 141.51592124 159.95942199 136.92301306 133.21892796\n",
      " 160.69196219 175.63439327 128.19762529 202.40205096 152.77776111\n",
      " 144.74709188 141.70373405 175.7189535  156.55550022 161.15828711\n",
      " 168.2230556  138.27447652 151.02927274 174.01508298 143.54969875\n",
      " 152.12420448 158.62086226 157.75005357 178.86281516 157.95473924]\n",
      "  Média da amostra 158.25440563313276\n",
      "  Desvio da amostra 18.375437792880764\n",
      "  Número de desvios 2.6264054563851857\n",
      "  Desvio das amostras 1.8375437792880764\n",
      "  Margem de erro 4.826135008268859\n",
      "  Intervalo: inferior 153.4282706248639, superior 163.08054064140163\n",
      " A média da população estará entre 153.4282706248639 e 163.08054064140163 com confiança de 0.99\n"
     ]
    }
   ],
   "source": [
    "# Obtenha uma amostra de 100 elementos e calcule a média da altura da populacao considerando confiança de 99%\n",
    "tamanho_amostra = 100\n",
    "amostra = recupera_amostra(populacao, tamanho_amostra)\n",
    "print(amostra)\n",
    "confianca=0.99\n",
    "media_amostra = np.mean(amostra)\n",
    "print(\"  Média da amostra {}\".format(media_amostra))\n",
    "\n",
    "desvio_amostra = np.std(amostra)\n",
    "print(\"  Desvio da amostra {}\".format(desvio_amostra))\n",
    "\n",
    "numero_desvios = calcula_numero_desvios_tstudent_para_confianca(confianca, tamanho_amostra)\n",
    "print (\"  Número de desvios {}\".format(numero_desvios))\n",
    "\n",
    "desvio_amostras = desvio_amostra/np.sqrt(tamanho_amostra)\n",
    "print (\"  Desvio das amostras {}\" .format(desvio_amostras))\n",
    "\n",
    "margem_erro = numero_desvios*desvio_amostras\n",
    "print (\"  Margem de erro {}\" .format (margem_erro))\n",
    "\n",
    "inferior = media_amostra-margem_erro\n",
    "superior = media_amostra+margem_erro\n",
    "print (\"  Intervalo: inferior {}, superior {}\".format(inferior, superior))\n",
    "\n",
    "print(' A média da população estará entre {} e {} com confiança de {}'.format(inferior,superior,confianca))"
   ]
  }
 ],
 "metadata": {
  "kernelspec": {
   "display_name": "Python 3",
   "language": "python",
   "name": "python3"
  },
  "language_info": {
   "codemirror_mode": {
    "name": "ipython",
    "version": 3
   },
   "file_extension": ".py",
   "mimetype": "text/x-python",
   "name": "python",
   "nbconvert_exporter": "python",
   "pygments_lexer": "ipython3",
   "version": "3.6.6"
  }
 },
 "nbformat": 4,
 "nbformat_minor": 1
}
