{
 "cells": [
  {
   "cell_type": "code",
   "execution_count": 1,
   "metadata": {
    "_cell_guid": "79c7e3d0-c299-4dcb-8224-4455121ee9b0",
    "_uuid": "d629ff2d2480ee46fbb7e2d37f6b5fab8052498a"
   },
   "outputs": [],
   "source": [
    "import os\n",
    "import json\n",
    "from pprint import pprint\n",
    "from copy import deepcopy\n",
    "\n",
    "import numpy as np\n",
    "import pandas as pd\n",
    "from tqdm.notebook import tqdm"
   ]
  },
  {
   "cell_type": "markdown",
   "metadata": {},
   "source": [
    "# Helper Functions\n",
    "1. format_name(author)\n",
    "2. format_affiliation(affiliation)\n",
    "3. format_authors(authors, with_affiliation=False)\n",
    "4. format_body(body_text)\n",
    "5. format_bib(bibs)\n"
   ]
  },
  {
   "cell_type": "code",
   "execution_count": 2,
   "metadata": {},
   "outputs": [],
   "source": [
    "def format_name(author):\n",
    "    middle_name = \" \".join(author['middle'])\n",
    "    \n",
    "    if author['middle']:\n",
    "        return \" \".join([author['first'], middle_name, author['last']])\n",
    "    else:\n",
    "        return \" \".join([author['first'], author['last']])\n",
    "\n",
    "\n",
    "def format_affiliation(affiliation):\n",
    "    text = []\n",
    "    location = affiliation.get('location')\n",
    "    if location:\n",
    "        text.extend(list(affiliation['location'].values()))\n",
    "    \n",
    "    institution = affiliation.get('institution')\n",
    "    if institution:\n",
    "        text = [institution] + text\n",
    "    return \", \".join(text)\n",
    "\n",
    "def format_authors(authors, with_affiliation=False):\n",
    "    name_ls = []\n",
    "    \n",
    "    for author in authors:\n",
    "        name = format_name(author)\n",
    "        if with_affiliation:\n",
    "            affiliation = format_affiliation(author['affiliation'])\n",
    "            if affiliation:\n",
    "                name_ls.append(f\"{name} ({affiliation})\")\n",
    "            else:\n",
    "                name_ls.append(name)\n",
    "        else:\n",
    "            name_ls.append(name)\n",
    "    \n",
    "    return \", \".join(name_ls)\n",
    "\n",
    "def format_body(body_text):\n",
    "    texts = [(di['section'], di['text']) for di in body_text]\n",
    "    texts_di = {di['section']: \"\" for di in body_text}\n",
    "    \n",
    "    for section, text in texts:\n",
    "        texts_di[section] += text\n",
    "\n",
    "    body = \"\"\n",
    "\n",
    "    for section, text in texts_di.items():\n",
    "        body += section\n",
    "        body += \"\\n\\n\"\n",
    "        body += text\n",
    "        body += \"\\n\\n\"\n",
    "    \n",
    "    return body\n",
    "\n",
    "def format_bib(bibs):\n",
    "    if type(bibs) == dict:\n",
    "        bibs = list(bibs.values())\n",
    "    bibs = deepcopy(bibs)\n",
    "    formatted = []\n",
    "    \n",
    "    for bib in bibs:\n",
    "        bib['authors'] = format_authors(\n",
    "            bib['authors'], \n",
    "            with_affiliation=False\n",
    "        )\n",
    "        formatted_ls = [str(bib[k]) for k in ['title', 'authors', 'venue', 'year']]\n",
    "        formatted.append(\", \".join(formatted_ls))\n",
    "\n",
    "    return \"; \".join(formatted)"
   ]
  },
  {
   "cell_type": "markdown",
   "metadata": {},
   "source": [
    "Unhide the cell below to find the definition of the following functions:\n",
    "1. load_files(dirname)\n",
    "2. generate_clean_df(all_files)"
   ]
  },
  {
   "cell_type": "code",
   "execution_count": 3,
   "metadata": {},
   "outputs": [],
   "source": [
    "def load_files(dirname):\n",
    "    filenames = os.listdir(dirname)\n",
    "    raw_files = []\n",
    "\n",
    "    for filename in tqdm(filenames):\n",
    "        filename = dirname + filename\n",
    "        file = json.load(open(filename, 'rb'))\n",
    "        raw_files.append(file)\n",
    "    \n",
    "    return raw_files\n",
    "\n",
    "def generate_clean_df(all_files):\n",
    "    cleaned_files = []\n",
    "    \n",
    "    for file in tqdm(all_files):\n",
    "        features = [\n",
    "            file['paper_id'],\n",
    "            file['metadata']['title'],\n",
    "            format_authors(file['metadata']['authors']),\n",
    "            format_authors(file['metadata']['authors'], \n",
    "                           with_affiliation=True),\n",
    "            format_body(file['abstract']),\n",
    "            format_body(file['body_text']),\n",
    "            format_bib(file['bib_entries']),\n",
    "            file['metadata']['authors'],\n",
    "            file['bib_entries']\n",
    "        ]\n",
    "\n",
    "        cleaned_files.append(features)\n",
    "\n",
    "    col_names = ['paper_id', 'title', 'authors',\n",
    "                 'affiliations', 'abstract', 'text', \n",
    "                 'bibliography','raw_authors','raw_bibliography']\n",
    "\n",
    "    clean_df = pd.DataFrame(cleaned_files, columns=col_names)\n",
    "    clean_df.head()\n",
    "    \n",
    "    return clean_df"
   ]
  },
  {
   "cell_type": "markdown",
   "metadata": {},
   "source": [
    "# Biorxviv:Exploration\n",
    "Let's first take a quick glance at the biorxiv subset of the data. We will also use this opportunity to load all of the json files into a list of nested dictionaries (each dict is an article)."
   ]
  },
  {
   "cell_type": "code",
   "execution_count": 4,
   "metadata": {},
   "outputs": [
    {
     "name": "stdout",
     "output_type": "stream",
     "text": [
      "Number of articles retrieved from biorxiv: 885\n"
     ]
    }
   ],
   "source": [
    "biorxiv_dir = '/kaggle/input/CORD-19-research-challenge/biorxiv_medrxiv/biorxiv_medrxiv/'\n",
    "filenames = os.listdir(biorxiv_dir)\n",
    "print(\"Number of articles retrieved from biorxiv:\", len(filenames))"
   ]
  },
  {
   "cell_type": "code",
   "execution_count": 5,
   "metadata": {},
   "outputs": [],
   "source": [
    "all_files = []\n",
    "\n",
    "for filename in filenames:\n",
    "    filename = biorxiv_dir + filename\n",
    "    file = json.load(open(filename, 'rb'))\n",
    "    all_files.append(file)"
   ]
  },
  {
   "cell_type": "code",
   "execution_count": 6,
   "metadata": {},
   "outputs": [
    {
     "name": "stdout",
     "output_type": "stream",
     "text": [
      "Dictionary keys: dict_keys(['paper_id', 'metadata', 'abstract', 'body_text', 'bib_entries', 'ref_entries', 'back_matter'])\n"
     ]
    }
   ],
   "source": [
    "file = all_files[0]\n",
    "print(\"Dictionary keys:\", file.keys())"
   ]
  },
  {
   "cell_type": "markdown",
   "metadata": {},
   "source": [
    "# Biroxviv:Abstract\n"
   ]
  },
  {
   "cell_type": "code",
   "execution_count": 7,
   "metadata": {},
   "outputs": [
    {
     "name": "stdout",
     "output_type": "stream",
     "text": [
      "[{'cite_spans': [],\n",
      "  'ref_spans': [],\n",
      "  'section': 'Abstract',\n",
      "  'text': 'Airborne-mediated microbial diseases such as influenza and '\n",
      "          'tuberculosis represent major public 12 health challenges. A direct '\n",
      "          'approach to prevent airborne transmission is inactivation of '\n",
      "          'airborne 13 pathogens, and the airborne antimicrobial potential of '\n",
      "          'UVC ultraviolet light has long been established; 14 however, its '\n",
      "          'widespread use in public settings is limited because conventional '\n",
      "          'UVC light sources are 15 both carcinogenic and cataractogenic. By '\n",
      "          'contrast, we have previously shown that far-UVC light (207-16 222 '\n",
      "          'nm) efficiently kills bacteria without harm to exposed mammalian '\n",
      "          'skin. This is because, due to its 17 strong absorbance in '\n",
      "          'biological materials, far-UVC light cannot penetrate even the outer '\n",
      "          '(non living) 18 layers of human skin or eye; however, because '\n",
      "          'bacteria and viruses are of micrometer or smaller 19 dimensions, '\n",
      "          'far-UVC can penetrate and inactivate them. We show for the first '\n",
      "          'time that far-UVC'}]\n"
     ]
    }
   ],
   "source": [
    "pprint(file['abstract'])"
   ]
  },
  {
   "cell_type": "markdown",
   "metadata": {},
   "source": [
    "# Biorxviv:Body Text"
   ]
  },
  {
   "cell_type": "code",
   "execution_count": 8,
   "metadata": {},
   "outputs": [
    {
     "name": "stdout",
     "output_type": "stream",
     "text": [
      "body_text type: <class 'list'>\n",
      "body_text length: 15\n",
      "body_text keys: dict_keys(['text', 'cite_spans', 'ref_spans', 'section'])\n"
     ]
    }
   ],
   "source": [
    "print(\"body_text type:\", type(file['body_text']))\n",
    "print(\"body_text length:\", len(file['body_text']))\n",
    "print(\"body_text keys:\", file['body_text'][0].keys())"
   ]
  },
  {
   "cell_type": "code",
   "execution_count": 9,
   "metadata": {},
   "outputs": [
    {
     "name": "stdout",
     "output_type": "stream",
     "text": [
      "body_text content:\n",
      "[{'cite_spans': [{...}],\n",
      "  'ref_spans': [],\n",
      "  'section': '3',\n",
      "  'text': 'Airborne-mediated microbial diseases represent one of the major '\n",
      "          'challenges to worldwide public 26 health 1 . Common examples are '\n",
      "          'influenza 2 , appearing in seasonal 3 and pandemic 4 forms, and '\n",
      "          'bacterially-27 based airborne-mediated diseases such as '\n",
      "          'tuberculosis 5 , increasingly emerging in multi-drug resistant 28 '\n",
      "          'form.'},\n",
      " {'cite_spans': [{...}, {...}, {...}, {...}, {...}, {...}, {...}],\n",
      "  'ref_spans': [],\n",
      "  'section': '29',\n",
      "  'text': 'A direct approach to prevent the transmission of airborne-mediated '\n",
      "          'disease is inactivation of the 30 corresponding airborne pathogens, '\n",
      "          'and in fact the airborne antimicrobial efficacy of ultraviolet (UV) '\n",
      "          '31 light has long been established 6-8 . Germicidal UV light can '\n",
      "          'also efficiently kill both drug-sensitive and 32 '\n",
      "          'multi-drug-resistant bacteria 9 , as well differing strains of '\n",
      "          'viruses 10 . However, the widespread use of 33 germicidal '\n",
      "          'ultraviolet light in public settings has been very limited because '\n",
      "          'conventional UVC light 34 sources are a human health hazard, being '\n",
      "          'both carcinogenic and cataractogenic 11,12 . 35 By contrast, we '\n",
      "          'have earlier shown that far-UVC light generated by filtered excimer '\n",
      "          'lamps 36 emitting in the 207 to 222 nm wavelength range, '\n",
      "          'efficiently kills drug-resistant bacteria, without 37 apparent harm '\n",
      "          'to exposed mammalian skin [13] [14] [15] . The biophysical reason '\n",
      "          'is that, due to its strong The copyright holder for this preprint '\n",
      "          '(which was not peer-reviewed) is the author/funder. . '\n",
      "          'https://doi.org/10.1101/240408 doi: bioRxiv preprint'}]\n"
     ]
    }
   ],
   "source": [
    "print(\"body_text content:\")\n",
    "pprint(file['body_text'][:2], depth=3)"
   ]
  },
  {
   "cell_type": "code",
   "execution_count": 10,
   "metadata": {},
   "outputs": [
    {
     "name": "stdout",
     "output_type": "stream",
     "text": [
      "['3', '29', '49', '67', '74', '101', '106', '140', '171', '255']\n"
     ]
    }
   ],
   "source": [
    "texts = [(di['section'], di['text']) for di in file['body_text']]\n",
    "texts_di = {di['section']: \"\" for di in file['body_text']}\n",
    "for section, text in texts:\n",
    "    texts_di[section] += text\n",
    "\n",
    "pprint(list(texts_di.keys()))"
   ]
  },
  {
   "cell_type": "code",
   "execution_count": 11,
   "metadata": {},
   "outputs": [
    {
     "name": "stdout",
     "output_type": "stream",
     "text": [
      "3\n",
      "\n",
      "Airborne-mediated microbial diseases represent one of the major challenges to worldwide public 26 health 1 . Common examples are influenza 2 , appearing in seasonal 3 and pandemic 4 forms, and bacterially-27 based airborne-mediated diseases such as tuberculosis 5 , increasingly emerging in multi-drug resistant 28 form.\n",
      "\n",
      "29\n",
      "\n",
      "A direct approach to prevent the transmission of airborne-mediated disease is inactivation of the 30 corresponding airborne pathogens, and in fact the airborne antimicrobial efficacy of ultraviolet (UV) 31 light has long been established 6-8 . Germicidal UV light can also efficiently kill both drug-sensitive and 32 multi-drug-resistant bacteria 9 , as well differing strains of viruses 10 . However, the widespread use of 33 germicidal ultraviolet light in public settings has been very limited because conventional UVC light 34 sources are a human health hazard, being both carcinogenic and cataractogenic 11,12 . 35 By contrast, we have earlier shown that far-UVC light generated by filtered excimer lamps 36 emitting in the 207 to 222 nm wavelength range, efficiently kills drug-resistant bacteria, without 37 apparent harm to exposed mammalian skin [13] [14] [15] . The biophysical reason is that, due to its strong The copyright holder for this preprint (which was not peer-reviewed) is the author/funder. . https://doi.org/10.1101/240408 doi: bioRxiv preprint\n",
      "\n",
      "49\n",
      "\n",
      "Virus inactivation. Fig. 1 shows representative fluorescent 40x images of mammalian epithelial cells 50 incubated with airborne viruses that had been exposed in aerosolized form to far-UVC doses (0, 0.8, 1.3 51 or 2.0 mJ/cm 2 ) generated by filtered 222-nm excimer lamps. Blue fluorescence was used to identify the 52 total number of cells in a particular field of view, while green fluorescence indicated the integration of 53 live influenza A (H1N1) viruses into the cells. Results from the zero-dose control studies (Fig. 1 Fig. 2 shows the surviving fraction, as a function of the incident 222-nm far-UVC dose, of 57 exposed H1N1 aerosolized viruses, as measured by the number of focus forming units in incubated 58 epithelial cells relative to unexposed controls. Linear regressions (see below) showed that the survival 59 results followed a classical exponential UV disinfection model with rate constant k=1.8 cm 2 /mJ (95% 60 confidence intervals 1.5-2.1 cm 2 /mJ). The overall model fit was good, with a coefficient of 61 determination, R 2 = 0.95, which suggests that most of the variability in virus survival was explained by 62 the exponential model. The rate constant of 1.8 cm 2 /mJ corresponds to an inactivation cross-section 63 (dose required to kill 95% of the exposed viruses) of D95 = 1.6 mJ/cm 2 (95% confidence intervals 1.4-1.9 64 mJ/cm 2 ).\n",
      "\n",
      "67\n",
      "\n",
      "We have developed an approach to UV-based sterilization using single-wavelength far-UVC 68 light generated by filtered excilamps, which selectively inactivate microorganisms, but does not produce 69 biological damage to exposed m\n"
     ]
    }
   ],
   "source": [
    "body = \"\"\n",
    "\n",
    "for section, text in texts_di.items():\n",
    "    body += section\n",
    "    body += \"\\n\\n\"\n",
    "    body += text\n",
    "    body += \"\\n\\n\"\n",
    "\n",
    "print(body[:3000])\n"
   ]
  },
  {
   "cell_type": "code",
   "execution_count": 12,
   "metadata": {},
   "outputs": [
    {
     "name": "stdout",
     "output_type": "stream",
     "text": [
      "3\n",
      "\n",
      "Airborne-mediated microbial diseases represent one of the major challenges to worldwide public 26 health 1 . Common examples are influenza 2 , appearing in seasonal 3 and pandemic 4 forms, and bacterially-27 based airborne-mediated diseases such as tuberculosis 5 , increasingly emerging in multi-drug resistant 28 form.\n",
      "\n",
      "29\n",
      "\n",
      "A direct approach to prevent the transmission of airborne-mediated disease is inactivation of the 30 corresponding airborne pathogens, and in fact the airborne antimicrobial efficacy of ultraviolet (UV) 31 light has long been established 6-8 . Germicidal UV light can also efficiently kill both drug-sensitive and 32 multi-drug-resistant bacteria 9 , as well differing strains of viruses 10 . However, the widespread use of 33 germicidal ultraviolet light in public settings has been very limited because conventional UVC light 34 sources are a human health hazard, being both carcinogenic and cataractogenic 11,12 . 35 By contrast, we have earlier shown that far-UVC light generated by filtered excimer lamps 36 emitting in the 207 to 222 nm wavelength range, efficiently kills drug-resistant bacteria, without 37 apparent harm to exposed mammalian skin [13] [14] [15] . The biophysical reason is that, due to its strong The copyright holder for this preprint (which was not peer-reviewed) is the author/funder. . https://doi.org/10.1101/240408 doi: bioRxiv preprint\n",
      "\n",
      "49\n",
      "\n",
      "Virus inactivation. Fig. 1 shows representative fluorescent 40x images of mammalian epithelial cells 50 incubated with airborne viruses that had been exposed in aerosolized form to far-UVC doses (0, 0.8, 1.3 51 or 2.0 mJ/cm 2 ) generated by filtered 222-nm excimer lamps. Blue fluorescence was used to identify the 52 total number of cells in a particular field of view, while green fluorescence indicated the integration of 53 live influenza A (H1N1) viruses into the cells. Results from the zero-dose control studies (Fig. 1 Fig. 2 shows the surviving fraction, as a function of the incident 222-nm far-UVC dose, of 57 exposed H1N1 aerosolized viruses, as measured by the number of focus forming units in incubated 58 epithelial cells relative to unexposed controls. Linear regressions (see below) showed that the survival 59 results followed a classical exponential UV disinfection model with rate constant k=1.8 cm 2 /mJ (95% 60 confidence intervals 1.5-2.1 cm 2 /mJ). The overall model fit was good, with a coefficient of 61 determination, R 2 = 0.95, which suggests that most of the variability in virus survival was explained by 62 the exponential model. The rate constant of 1.8 cm 2 /mJ corresponds to an inactivation cross-section 63 (dose required to kill 95% of the exposed viruses) of D95 = 1.6 mJ/cm 2 (95% confidence intervals 1.4-1.9 64 mJ/cm 2 ).\n",
      "\n",
      "67\n",
      "\n",
      "We have developed an approach to UV-based sterilization using single-wavelength far-UVC 68 light generated by filtered excilamps, which selectively inactivate microorganisms, but does not produce 69 biological damage to exposed m\n"
     ]
    }
   ],
   "source": [
    "print(format_body(file['body_text'])[:3000])"
   ]
  },
  {
   "cell_type": "markdown",
   "metadata": {},
   "source": [
    "# Biorxviv:Metadata"
   ]
  },
  {
   "cell_type": "code",
   "execution_count": 13,
   "metadata": {},
   "outputs": [
    {
     "name": "stdout",
     "output_type": "stream",
     "text": [
      "dict_keys(['title', 'authors'])\n"
     ]
    }
   ],
   "source": [
    "print(all_files[0]['metadata'].keys())"
   ]
  },
  {
   "cell_type": "code",
   "execution_count": 14,
   "metadata": {},
   "outputs": [
    {
     "name": "stdout",
     "output_type": "stream",
     "text": [
      "Far-UVC light: A new tool to control the spread of airborne-mediated microbial 1 diseases 2\n"
     ]
    }
   ],
   "source": [
    "print(all_files[0]['metadata']['title'])"
   ]
  },
  {
   "cell_type": "code",
   "execution_count": 15,
   "metadata": {},
   "outputs": [
    {
     "name": "stdout",
     "output_type": "stream",
     "text": [
      "[{'affiliation': {'institution': 'Columbia University Medical Center',\n",
      "                  'laboratory': '',\n",
      "                  'location': {'postCode': '10032',\n",
      "                               'region': 'New York',\n",
      "                               'settlement': 'New York'}},\n",
      "  'email': '',\n",
      "  'first': 'David',\n",
      "  'last': 'Welch',\n",
      "  'middle': [],\n",
      "  'suffix': ''},\n",
      " {'affiliation': {'institution': 'Columbia University Medical Center',\n",
      "                  'laboratory': '',\n",
      "                  'location': {'postCode': '10032',\n",
      "                               'region': 'New York',\n",
      "                               'settlement': 'New York'}},\n",
      "  'email': '',\n",
      "  'first': 'Manuela',\n",
      "  'last': 'Buonanno',\n",
      "  'middle': [],\n",
      "  'suffix': ''},\n",
      " {'affiliation': {'institution': 'Columbia University Medical Center',\n",
      "                  'laboratory': '',\n",
      "                  'location': {'postCode': '10032',\n",
      "                               'region': 'New York',\n",
      "                               'settlement': 'New York'}},\n",
      "  'email': '',\n",
      "  'first': 'Veljko',\n",
      "  'last': 'Grilj',\n",
      "  'middle': [],\n",
      "  'suffix': ''}]\n"
     ]
    }
   ],
   "source": [
    "authors = all_files[0]['metadata']['authors']\n",
    "pprint(authors[:3])"
   ]
  },
  {
   "cell_type": "code",
   "execution_count": 16,
   "metadata": {},
   "outputs": [
    {
     "name": "stdout",
     "output_type": "stream",
     "text": [
      "Name: David Welch\n",
      "Affiliation: Columbia University Medical Center, 10032, New York, New York\n",
      "\n",
      "Name: Manuela Buonanno\n",
      "Affiliation: Columbia University Medical Center, 10032, New York, New York\n",
      "\n",
      "Name: Veljko Grilj\n",
      "Affiliation: Columbia University Medical Center, 10032, New York, New York\n",
      "\n",
      "Name: Igor Shuryak\n",
      "Affiliation: Columbia University Medical Center, 10032, New York, New York\n",
      "\n",
      "Name: Connor Crickmore\n",
      "Affiliation: Columbia University Medical Center, 10032, New York, New York\n",
      "\n",
      "Name: Alan W Bigelow\n",
      "Affiliation: Columbia University Medical Center, 10032, New York, New York\n",
      "\n",
      "Name: Gerhard Randers-Pehrson\n",
      "Affiliation: Columbia University Medical Center, 10032, New York, New York\n",
      "\n",
      "Name: Gary W Johnson\n",
      "Affiliation: Columbia University Medical Center, 10032, New York, New York\n",
      "\n",
      "Name: David J Brenner\n",
      "Affiliation: Columbia University Medical Center, 10032, New York, New York\n",
      "\n"
     ]
    }
   ],
   "source": [
    "for author in authors:\n",
    "    print(\"Name:\", format_name(author))\n",
    "    print(\"Affiliation:\", format_affiliation(author['affiliation']))\n",
    "    print()\n"
   ]
  },
  {
   "cell_type": "code",
   "execution_count": 17,
   "metadata": {},
   "outputs": [
    {
     "name": "stdout",
     "output_type": "stream",
     "text": [
      "{'authors': [{'affiliation': {'institution': 'Harvard T.H. Chan School of '\n",
      "                                             'Public Health',\n",
      "                              'laboratory': '',\n",
      "                              'location': {...}},\n",
      "              'email': '',\n",
      "              'first': 'Corey',\n",
      "              'last': 'Peak',\n",
      "              'middle': ['M'],\n",
      "              'suffix': ''},\n",
      "             {'affiliation': {'institution': 'Harvard T.H. Chan School of '\n",
      "                                             'Public Health',\n",
      "                              'laboratory': '',\n",
      "                              'location': {...}},\n",
      "              'email': '',\n",
      "              'first': 'Rebecca',\n",
      "              'last': 'Kahn',\n",
      "              'middle': [],\n",
      "              'suffix': ''},\n",
      "             {'affiliation': {'institution': 'Harvard T. H. Chan School of '\n",
      "                                             'Public Health',\n",
      "                              'laboratory': '',\n",
      "                              'location': {...}},\n",
      "              'email': '',\n",
      "              'first': 'Yonatan',\n",
      "              'last': 'Grad',\n",
      "              'middle': ['H'],\n",
      "              'suffix': ''},\n",
      "             {'affiliation': {'institution': 'Virginia Polytechnic Institute '\n",
      "                                             'and State University (Virginia '\n",
      "                                             'Tech)',\n",
      "                              'laboratory': '',\n",
      "                              'location': {...}},\n",
      "              'email': '',\n",
      "              'first': 'Lauren',\n",
      "              'last': 'Childs',\n",
      "              'middle': ['M'],\n",
      "              'suffix': ''},\n",
      "             {'affiliation': {'institution': 'Harvard T.H. Chan School of '\n",
      "                                             'Public Health',\n",
      "                              'laboratory': '',\n",
      "                              'location': {...}},\n",
      "              'email': '',\n",
      "              'first': 'Ruoran',\n",
      "              'last': 'Li',\n",
      "              'middle': [],\n",
      "              'suffix': ''},\n",
      "             {'affiliation': {'institution': 'Harvard T.H. Chan School of '\n",
      "                                             'Public Health',\n",
      "                              'laboratory': '',\n",
      "                              'location': {...}},\n",
      "              'email': '',\n",
      "              'first': ';',\n",
      "              'last': 'Lipsitch',\n",
      "              'middle': ['Marc'],\n",
      "              'suffix': ''},\n",
      "             {'affiliation': {'institution': 'Harvard T.H. Chan School of '\n",
      "                                             'Public Health',\n",
      "                              'laboratory': '',\n",
      "                              'location': {...}},\n",
      "              'email': '',\n",
      "              'first': 'Caroline',\n",
      "              'last': 'Buckee',\n",
      "              'middle': ['O'],\n",
      "              'suffix': ''}],\n",
      " 'title': 'Modeling the Comparative Impact of Individual Quarantine vs. Active '\n",
      "          'Monitoring of Contacts for the Mitigation of COVID-19'}\n"
     ]
    }
   ],
   "source": [
    "pprint(all_files[4]['metadata'], depth=4)"
   ]
  },
  {
   "cell_type": "code",
   "execution_count": 18,
   "metadata": {},
   "outputs": [
    {
     "name": "stdout",
     "output_type": "stream",
     "text": [
      "Formatting without affiliation:\n",
      "Corey M Peak, Rebecca Kahn, Yonatan H Grad, Lauren M Childs, Ruoran Li, ; Marc Lipsitch, Caroline O Buckee\n",
      "\n",
      "Formatting with affiliation:\n",
      "Corey M Peak (Harvard T.H. Chan School of Public Health, Boston, Massachusetts, United States of America), Rebecca Kahn (Harvard T.H. Chan School of Public Health, Boston, Massachusetts, United States of America), Yonatan H Grad (Harvard T. H. Chan School of Public Health, Boston, Massachusetts, United States of America), Lauren M Childs (Virginia Polytechnic Institute and State University (Virginia Tech), Blacksburg, Virginia, United States of America), Ruoran Li (Harvard T.H. Chan School of Public Health, Boston, Massachusetts, United States of America), ; Marc Lipsitch (Harvard T.H. Chan School of Public Health, Boston, Massachusetts, United States of America), Caroline O Buckee (Harvard T.H. Chan School of Public Health, Boston, Massachusetts, United States of America)\n"
     ]
    }
   ],
   "source": [
    "authors = all_files[4]['metadata']['authors']\n",
    "print(\"Formatting without affiliation:\")\n",
    "print(format_authors(authors, with_affiliation=False))\n",
    "print(\"\\nFormatting with affiliation:\")\n",
    "print(format_authors(authors, with_affiliation=True))"
   ]
  },
  {
   "cell_type": "markdown",
   "metadata": {},
   "source": [
    "# Biorxviv:Bibliography"
   ]
  },
  {
   "cell_type": "code",
   "execution_count": 19,
   "metadata": {},
   "outputs": [
    {
     "name": "stdout",
     "output_type": "stream",
     "text": [
      "[{'authors': [{'first': 'H', 'last': 'Wang', 'middle': [], 'suffix': ''}],\n",
      "  'issn': '',\n",
      "  'other_ids': {},\n",
      "  'pages': '',\n",
      "  'ref_id': 'b0',\n",
      "  'title': 'Global, regional, and national life expectancy, all-cause '\n",
      "           'mortality, and cause-257 specific mortality for 249 causes of '\n",
      "           'death, 1980-2015: A systematic analysis for the Global Burden 258 '\n",
      "           'of Disease Study',\n",
      "  'venue': 'Lancet',\n",
      "  'volume': '388',\n",
      "  'year': 2015},\n",
      " {'authors': [{'first': 'B', 'last': 'Cowling', 'middle': [...], 'suffix': ''}],\n",
      "  'issn': '',\n",
      "  'other_ids': {},\n",
      "  'pages': '',\n",
      "  'ref_id': 'b2',\n",
      "  'title': 'Aerosol transmission is an important mode of influenza A virus '\n",
      "           'spread',\n",
      "  'venue': '',\n",
      "  'volume': '',\n",
      "  'year': None}]\n"
     ]
    }
   ],
   "source": [
    "bibs = list(file['bib_entries'].values())\n",
    "pprint(bibs[:2], depth=4)"
   ]
  },
  {
   "cell_type": "code",
   "execution_count": 20,
   "metadata": {},
   "outputs": [
    {
     "data": {
      "text/plain": [
       "'B J Cowling'"
      ]
     },
     "execution_count": 20,
     "metadata": {},
     "output_type": "execute_result"
    }
   ],
   "source": [
    "format_authors(bibs[1]['authors'], with_affiliation=False)"
   ]
  },
  {
   "cell_type": "markdown",
   "metadata": {},
   "source": [
    "The following function let you format the bibliography all at once. It only extracts the title, authors, venue, year, and separate each entry of the bibliography with a ;"
   ]
  },
  {
   "cell_type": "code",
   "execution_count": 21,
   "metadata": {},
   "outputs": [
    {
     "name": "stdout",
     "output_type": "stream",
     "text": [
      "Global, regional, and national life expectancy, all-cause mortality, and cause-257 specific mortality for 249 causes of death, 1980-2015: A systematic analysis for the Global Burden 258 of Disease Study, H Wang, Lancet, 2015; Aerosol transmission is an important mode of influenza A virus spread, B J Cowling, , None; Evidence of airborne transmission of the severe acute respiratory syndrome virus, I T Yu, , None; Control of air-borne 266 microorganisms by ultraviolet floor irradiation, A Hollaender, H G Du Buy, H S Ingraham, S Wheeler, Science, 1944; Ultraviolet Germicidal Irradiation Handbook: UVGI for Air and Surface 268, W J Kowalski, , None\n"
     ]
    }
   ],
   "source": [
    "bib_formatted = format_bib(bibs[:5])\n",
    "print(bib_formatted)\n"
   ]
  },
  {
   "cell_type": "markdown",
   "metadata": {},
   "source": [
    "Biorxviv:Generate CSV"
   ]
  },
  {
   "cell_type": "code",
   "execution_count": 22,
   "metadata": {},
   "outputs": [
    {
     "data": {
      "application/vnd.jupyter.widget-view+json": {
       "model_id": "1e7c4141891b4593a4d2427efc7f751f",
       "version_major": 2,
       "version_minor": 0
      },
      "text/plain": [
       "HBox(children=(FloatProgress(value=0.0, max=885.0), HTML(value='')))"
      ]
     },
     "metadata": {},
     "output_type": "display_data"
    },
    {
     "name": "stdout",
     "output_type": "stream",
     "text": [
      "\n"
     ]
    }
   ],
   "source": [
    "cleaned_files = []\n",
    "\n",
    "for file in tqdm(all_files):\n",
    "    features = [\n",
    "        file['paper_id'],\n",
    "        file['metadata']['title'],\n",
    "        format_authors(file['metadata']['authors']),\n",
    "        format_authors(file['metadata']['authors'], \n",
    "                       with_affiliation=True),\n",
    "        format_body(file['abstract']),\n",
    "        format_body(file['body_text']),\n",
    "        format_bib(file['bib_entries']),\n",
    "        file['metadata']['authors'],\n",
    "        file['bib_entries']\n",
    "    ]\n",
    "    \n",
    "    cleaned_files.append(features)"
   ]
  },
  {
   "cell_type": "code",
   "execution_count": 23,
   "metadata": {},
   "outputs": [],
   "source": [
    "col_names = [\n",
    "    'paper_id', \n",
    "    'title', \n",
    "    'authors',\n",
    "    'affiliations', \n",
    "    'abstract', \n",
    "    'text', \n",
    "    'bibliography',\n",
    "    'raw_authors',\n",
    "    'raw_bibliography'\n",
    "]\n",
    "\n",
    "clean_df = pd.DataFrame(cleaned_files, columns=col_names)\n",
    "clean_df.head()\n",
    "clean_df.to_csv('biorxviv.csv')"
   ]
  },
  {
   "cell_type": "code",
   "execution_count": 24,
   "metadata": {},
   "outputs": [
    {
     "data": {
      "text/html": [
       "<div>\n",
       "<style scoped>\n",
       "    .dataframe tbody tr th:only-of-type {\n",
       "        vertical-align: middle;\n",
       "    }\n",
       "\n",
       "    .dataframe tbody tr th {\n",
       "        vertical-align: top;\n",
       "    }\n",
       "\n",
       "    .dataframe thead th {\n",
       "        text-align: right;\n",
       "    }\n",
       "</style>\n",
       "<table border=\"1\" class=\"dataframe\">\n",
       "  <thead>\n",
       "    <tr style=\"text-align: right;\">\n",
       "      <th></th>\n",
       "      <th>paper_id</th>\n",
       "      <th>title</th>\n",
       "      <th>authors</th>\n",
       "      <th>affiliations</th>\n",
       "      <th>abstract</th>\n",
       "      <th>text</th>\n",
       "      <th>bibliography</th>\n",
       "      <th>raw_authors</th>\n",
       "      <th>raw_bibliography</th>\n",
       "    </tr>\n",
       "  </thead>\n",
       "  <tbody>\n",
       "    <tr>\n",
       "      <th>0</th>\n",
       "      <td>c6039f8933305c9f44a44c81a15b321b6c2848dc</td>\n",
       "      <td>Far-UVC light: A new tool to control the sprea...</td>\n",
       "      <td>David Welch, Manuela Buonanno, Veljko Grilj, I...</td>\n",
       "      <td>David Welch (Columbia University Medical Cente...</td>\n",
       "      <td>Abstract\\n\\nAirborne-mediated microbial diseas...</td>\n",
       "      <td>3\\n\\nAirborne-mediated microbial diseases repr...</td>\n",
       "      <td>Global, regional, and national life expectancy...</td>\n",
       "      <td>[{'first': 'David', 'middle': [], 'last': 'Wel...</td>\n",
       "      <td>{'BIBREF0': {'ref_id': 'b0', 'title': 'Global,...</td>\n",
       "    </tr>\n",
       "    <tr>\n",
       "      <th>1</th>\n",
       "      <td>67a2ae408efcb6686a22ae27435c7e4fa10c4a21</td>\n",
       "      <td>Title: First 12 patients with coronavirus disease</td>\n",
       "      <td>Zhang Y , Chen C , Zhu S , Shu C , Wang D , So...</td>\n",
       "      <td>Zhang Y , Chen C , Zhu S , Shu C , Wang D , So...</td>\n",
       "      <td>Abstract\\n\\nIntroduction: More than 93,000 cas...</td>\n",
       "      <td>INTRODUCTION\\n\\nIn December 2019, an outbreak ...</td>\n",
       "      <td>World Health Organization, , Coronavirus disea...</td>\n",
       "      <td>[{'first': 'Zhang', 'middle': ['Y'], 'last': '...</td>\n",
       "      <td>{'BIBREF0': {'ref_id': 'b0', 'title': 'World H...</td>\n",
       "    </tr>\n",
       "    <tr>\n",
       "      <th>2</th>\n",
       "      <td>982689f92bf67e90a43fc142c605da9a5045f756</td>\n",
       "      <td>Estimation of instant case fatality rate of CO...</td>\n",
       "      <td>Lei Cao, Ting-Ting Huang, Jun-Xia Zhang, Qi Qi...</td>\n",
       "      <td>Lei Cao, Ting-Ting Huang, Jun-Xia Zhang, Qi Qi...</td>\n",
       "      <td>Abstract\\n\\nBackground The outbreak of coronav...</td>\n",
       "      <td>Introduction\\n\\nThe novel coronavirus pneumoni...</td>\n",
       "      <td>Outbreak of pneumonia of unknown etiology in W...</td>\n",
       "      <td>[{'first': 'Lei', 'middle': [], 'last': 'Cao',...</td>\n",
       "      <td>{'BIBREF0': {'ref_id': 'b0', 'title': 'Outbrea...</td>\n",
       "    </tr>\n",
       "    <tr>\n",
       "      <th>3</th>\n",
       "      <td>f33c6d94b0efaa198f8f3f20e644625fa3fe10d2</td>\n",
       "      <td>Sequencing of the human IG light chain loci fr...</td>\n",
       "      <td>Corey T Watson, Karyn Meltz Steinberg, Tina A ...</td>\n",
       "      <td>Corey T Watson (Simon Fraser University, V5A 1...</td>\n",
       "      <td>Abstract\\n\\nGermline variation at immunoglobul...</td>\n",
       "      <td>Introduction\\n\\nAntibodies are essential compo...</td>\n",
       "      <td>Janeway's immunobiology. 7 edn, K Murphy, P Tr...</td>\n",
       "      <td>[{'first': 'Corey', 'middle': ['T'], 'last': '...</td>\n",
       "      <td>{'BIBREF0': {'ref_id': 'b0', 'title': 'Janeway...</td>\n",
       "    </tr>\n",
       "    <tr>\n",
       "      <th>4</th>\n",
       "      <td>c8c052d27aaf8015316dcd2644fa5e0b3870cea1</td>\n",
       "      <td>Modeling the Comparative Impact of Individual ...</td>\n",
       "      <td>Corey M Peak, Rebecca Kahn, Yonatan H Grad, La...</td>\n",
       "      <td>Corey M Peak (Harvard T.H. Chan School of Publ...</td>\n",
       "      <td>Abstract\\n\\nIndividual quarantine and active m...</td>\n",
       "      <td>Introduction\\n\\nIn December 2019, Coronavirus ...</td>\n",
       "      <td>Coronavirus 2019-nCoV Global Cases, , , None; ...</td>\n",
       "      <td>[{'first': 'Corey', 'middle': ['M'], 'last': '...</td>\n",
       "      <td>{'BIBREF0': {'ref_id': 'b0', 'title': 'Coronav...</td>\n",
       "    </tr>\n",
       "  </tbody>\n",
       "</table>\n",
       "</div>"
      ],
      "text/plain": [
       "                                   paper_id  \\\n",
       "0  c6039f8933305c9f44a44c81a15b321b6c2848dc   \n",
       "1  67a2ae408efcb6686a22ae27435c7e4fa10c4a21   \n",
       "2  982689f92bf67e90a43fc142c605da9a5045f756   \n",
       "3  f33c6d94b0efaa198f8f3f20e644625fa3fe10d2   \n",
       "4  c8c052d27aaf8015316dcd2644fa5e0b3870cea1   \n",
       "\n",
       "                                               title  \\\n",
       "0  Far-UVC light: A new tool to control the sprea...   \n",
       "1  Title: First 12 patients with coronavirus disease   \n",
       "2  Estimation of instant case fatality rate of CO...   \n",
       "3  Sequencing of the human IG light chain loci fr...   \n",
       "4  Modeling the Comparative Impact of Individual ...   \n",
       "\n",
       "                                             authors  \\\n",
       "0  David Welch, Manuela Buonanno, Veljko Grilj, I...   \n",
       "1  Zhang Y , Chen C , Zhu S , Shu C , Wang D , So...   \n",
       "2  Lei Cao, Ting-Ting Huang, Jun-Xia Zhang, Qi Qi...   \n",
       "3  Corey T Watson, Karyn Meltz Steinberg, Tina A ...   \n",
       "4  Corey M Peak, Rebecca Kahn, Yonatan H Grad, La...   \n",
       "\n",
       "                                        affiliations  \\\n",
       "0  David Welch (Columbia University Medical Cente...   \n",
       "1  Zhang Y , Chen C , Zhu S , Shu C , Wang D , So...   \n",
       "2  Lei Cao, Ting-Ting Huang, Jun-Xia Zhang, Qi Qi...   \n",
       "3  Corey T Watson (Simon Fraser University, V5A 1...   \n",
       "4  Corey M Peak (Harvard T.H. Chan School of Publ...   \n",
       "\n",
       "                                            abstract  \\\n",
       "0  Abstract\\n\\nAirborne-mediated microbial diseas...   \n",
       "1  Abstract\\n\\nIntroduction: More than 93,000 cas...   \n",
       "2  Abstract\\n\\nBackground The outbreak of coronav...   \n",
       "3  Abstract\\n\\nGermline variation at immunoglobul...   \n",
       "4  Abstract\\n\\nIndividual quarantine and active m...   \n",
       "\n",
       "                                                text  \\\n",
       "0  3\\n\\nAirborne-mediated microbial diseases repr...   \n",
       "1  INTRODUCTION\\n\\nIn December 2019, an outbreak ...   \n",
       "2  Introduction\\n\\nThe novel coronavirus pneumoni...   \n",
       "3  Introduction\\n\\nAntibodies are essential compo...   \n",
       "4  Introduction\\n\\nIn December 2019, Coronavirus ...   \n",
       "\n",
       "                                        bibliography  \\\n",
       "0  Global, regional, and national life expectancy...   \n",
       "1  World Health Organization, , Coronavirus disea...   \n",
       "2  Outbreak of pneumonia of unknown etiology in W...   \n",
       "3  Janeway's immunobiology. 7 edn, K Murphy, P Tr...   \n",
       "4  Coronavirus 2019-nCoV Global Cases, , , None; ...   \n",
       "\n",
       "                                         raw_authors  \\\n",
       "0  [{'first': 'David', 'middle': [], 'last': 'Wel...   \n",
       "1  [{'first': 'Zhang', 'middle': ['Y'], 'last': '...   \n",
       "2  [{'first': 'Lei', 'middle': [], 'last': 'Cao',...   \n",
       "3  [{'first': 'Corey', 'middle': ['T'], 'last': '...   \n",
       "4  [{'first': 'Corey', 'middle': ['M'], 'last': '...   \n",
       "\n",
       "                                    raw_bibliography  \n",
       "0  {'BIBREF0': {'ref_id': 'b0', 'title': 'Global,...  \n",
       "1  {'BIBREF0': {'ref_id': 'b0', 'title': 'World H...  \n",
       "2  {'BIBREF0': {'ref_id': 'b0', 'title': 'Outbrea...  \n",
       "3  {'BIBREF0': {'ref_id': 'b0', 'title': 'Janeway...  \n",
       "4  {'BIBREF0': {'ref_id': 'b0', 'title': 'Coronav...  "
      ]
     },
     "execution_count": 24,
     "metadata": {},
     "output_type": "execute_result"
    }
   ],
   "source": [
    "clean_df.head()"
   ]
  },
  {
   "cell_type": "code",
   "execution_count": 25,
   "metadata": {},
   "outputs": [],
   "source": [
    "text1=\"Range of incubation periods for the disease in humans and how long individuals are contagious, even after recovery\"\n",
    "text2=\"Prevalence of asymptomatic shedding and transmission\"\n",
    "text3=\"Seasonality of transmission\"\n",
    "text4=\"Physical science of the coronavirus (e.g., charge distribution, adhesion to hydrophilic/phobic surfaces, environmental survival to inform decontamination efforts for affected areas and provide information about viral shedding).\"\n",
    "text5=\"Persistence and stability on a multitude of substrates and sources (e.g., nasal discharge, sputum, urine, fecal matter, blood).\"\n",
    "text6=\"Persistence of virus on surfaces of different materials (e,g., copper, stainless steel, plastic)\"\n",
    "text7=\"Natural history of the virus and shedding of it from an infected person\"\n",
    "text8=\"Implementation of diagnostics and products to improve clinical processes\"\n",
    "text9=\"Disease models, including animal models for infection, disease and transmission\"\n",
    "text10=\"Tools and studies to monitor phenotypic change and potential adaptation of the virus\"\n",
    "text11=\"Immune response and immunity\"\n",
    "text12=\"Effectiveness of movement control strategies to prevent secondary transmission in health care and community settings\"\n",
    "text13=\"Effectiveness of personal protective equipment (PPE) and its usefulness to reduce risk of transmission in health care and community settings\"\n",
    "text14=\"Role of the environment in transmission\"\n",
    "corp=[text1,text2,text3,text4,text5,text6,text7,text8,text9,text10,text11,text12,text13,text14]\n",
    "no_docs=len(corp)"
   ]
  },
  {
   "cell_type": "code",
   "execution_count": 26,
   "metadata": {},
   "outputs": [],
   "source": [
    "#Grab all the text.\n",
    "text=clean_df['text']\n",
    "#Create a list of text for each entry.\n",
    "text_list = [title for title in text]\n",
    "#Collapse the texts into one large text for processing.\n",
    "big_text_string = ' '.join(text_list)\n",
    "\n",
    "from nltk.tokenize import word_tokenize\n",
    "\n",
    "#Tokenize the string into words.\n",
    "tokens = word_tokenize(big_text_string)\n",
    "\n",
    "#Remove non alphabetic tokens such as punctuation\n",
    "words = [word.lower() for word in tokens if word.isalpha()]\n",
    "\n",
    "from nltk.corpus import stopwords\n",
    "stop_words = set(stopwords.words('english'))\n",
    "\n",
    "words = [word for word in words if not word in stop_words]\n",
    "\n"
   ]
  },
  {
   "cell_type": "code",
   "execution_count": 27,
   "metadata": {},
   "outputs": [
    {
     "data": {
      "text/plain": [
       "300"
      ]
     },
     "execution_count": 27,
     "metadata": {},
     "output_type": "execute_result"
    }
   ],
   "source": [
    "import gensim\n",
    "# Load word2vec model (trained on an enormous Google corpus)\n",
    "model = gensim.models.KeyedVectors.load_word2vec_format(\"https://s3.amazonaws.com/dl4j-distribution/GoogleNews-vectors-negative300.bin.gz\", binary = True) \n",
    "# Check dimension of word vectors\n",
    "model.vector_size"
   ]
  },
  {
   "cell_type": "code",
   "execution_count": 28,
   "metadata": {},
   "outputs": [],
   "source": [
    "# Filter the list of vectors to include only those that Word2Vec has a vector for\n",
    "vector_list = [model[word] for word in words if word in model.vocab]\n",
    "\n",
    "# Create a list of the words corresponding to these vectors\n",
    "words_filtered = [word for word in words if word in model.vocab]\n",
    "\n",
    "# Zip the words together with their vector representations\n",
    "word_vec_zip = zip(words_filtered, vector_list)\n",
    "\n",
    "# Cast to a dict so we can turn it into a DataFrame\n",
    "word_vec_dict = dict(word_vec_zip)\n",
    "df = pd.DataFrame.from_dict(word_vec_dict, orient='index')"
   ]
  },
  {
   "cell_type": "code",
   "execution_count": 29,
   "metadata": {},
   "outputs": [
    {
     "data": {
      "text/html": [
       "<div>\n",
       "<style scoped>\n",
       "    .dataframe tbody tr th:only-of-type {\n",
       "        vertical-align: middle;\n",
       "    }\n",
       "\n",
       "    .dataframe tbody tr th {\n",
       "        vertical-align: top;\n",
       "    }\n",
       "\n",
       "    .dataframe thead th {\n",
       "        text-align: right;\n",
       "    }\n",
       "</style>\n",
       "<table border=\"1\" class=\"dataframe\">\n",
       "  <thead>\n",
       "    <tr style=\"text-align: right;\">\n",
       "      <th></th>\n",
       "      <th>0</th>\n",
       "      <th>1</th>\n",
       "      <th>2</th>\n",
       "      <th>3</th>\n",
       "      <th>4</th>\n",
       "      <th>5</th>\n",
       "      <th>6</th>\n",
       "      <th>7</th>\n",
       "      <th>8</th>\n",
       "      <th>9</th>\n",
       "      <th>...</th>\n",
       "      <th>290</th>\n",
       "      <th>291</th>\n",
       "      <th>292</th>\n",
       "      <th>293</th>\n",
       "      <th>294</th>\n",
       "      <th>295</th>\n",
       "      <th>296</th>\n",
       "      <th>297</th>\n",
       "      <th>298</th>\n",
       "      <th>299</th>\n",
       "    </tr>\n",
       "  </thead>\n",
       "  <tbody>\n",
       "    <tr>\n",
       "      <th>microbial</th>\n",
       "      <td>-0.207031</td>\n",
       "      <td>0.275391</td>\n",
       "      <td>0.118164</td>\n",
       "      <td>-0.090332</td>\n",
       "      <td>-0.574219</td>\n",
       "      <td>-0.032227</td>\n",
       "      <td>-0.142578</td>\n",
       "      <td>0.060547</td>\n",
       "      <td>0.148438</td>\n",
       "      <td>-0.120605</td>\n",
       "      <td>...</td>\n",
       "      <td>-0.250000</td>\n",
       "      <td>0.273438</td>\n",
       "      <td>-0.206055</td>\n",
       "      <td>0.347656</td>\n",
       "      <td>0.110352</td>\n",
       "      <td>0.153320</td>\n",
       "      <td>-0.087402</td>\n",
       "      <td>-0.097656</td>\n",
       "      <td>0.431641</td>\n",
       "      <td>0.010010</td>\n",
       "    </tr>\n",
       "    <tr>\n",
       "      <th>diseases</th>\n",
       "      <td>-0.159180</td>\n",
       "      <td>0.304688</td>\n",
       "      <td>-0.017334</td>\n",
       "      <td>0.250000</td>\n",
       "      <td>-0.217773</td>\n",
       "      <td>-0.029053</td>\n",
       "      <td>0.085938</td>\n",
       "      <td>0.001770</td>\n",
       "      <td>0.039795</td>\n",
       "      <td>-0.143555</td>\n",
       "      <td>...</td>\n",
       "      <td>0.136719</td>\n",
       "      <td>-0.003998</td>\n",
       "      <td>-0.148438</td>\n",
       "      <td>-0.017822</td>\n",
       "      <td>-0.251953</td>\n",
       "      <td>0.441406</td>\n",
       "      <td>-0.388672</td>\n",
       "      <td>0.082031</td>\n",
       "      <td>0.570312</td>\n",
       "      <td>0.306641</td>\n",
       "    </tr>\n",
       "    <tr>\n",
       "      <th>represent</th>\n",
       "      <td>-0.199219</td>\n",
       "      <td>-0.124512</td>\n",
       "      <td>0.287109</td>\n",
       "      <td>-0.069824</td>\n",
       "      <td>-0.101074</td>\n",
       "      <td>-0.000015</td>\n",
       "      <td>0.222656</td>\n",
       "      <td>-0.068848</td>\n",
       "      <td>0.198242</td>\n",
       "      <td>0.247070</td>\n",
       "      <td>...</td>\n",
       "      <td>0.087402</td>\n",
       "      <td>-0.133789</td>\n",
       "      <td>0.158203</td>\n",
       "      <td>0.062988</td>\n",
       "      <td>-0.166016</td>\n",
       "      <td>0.082031</td>\n",
       "      <td>0.040039</td>\n",
       "      <td>-0.063965</td>\n",
       "      <td>0.375000</td>\n",
       "      <td>-0.200195</td>\n",
       "    </tr>\n",
       "    <tr>\n",
       "      <th>one</th>\n",
       "      <td>0.045654</td>\n",
       "      <td>-0.145508</td>\n",
       "      <td>0.156250</td>\n",
       "      <td>0.166016</td>\n",
       "      <td>0.109863</td>\n",
       "      <td>0.007507</td>\n",
       "      <td>0.073730</td>\n",
       "      <td>-0.031006</td>\n",
       "      <td>0.157227</td>\n",
       "      <td>0.099609</td>\n",
       "      <td>...</td>\n",
       "      <td>-0.028931</td>\n",
       "      <td>-0.013000</td>\n",
       "      <td>-0.060303</td>\n",
       "      <td>-0.032715</td>\n",
       "      <td>-0.103516</td>\n",
       "      <td>0.044678</td>\n",
       "      <td>-0.095215</td>\n",
       "      <td>-0.015869</td>\n",
       "      <td>0.006714</td>\n",
       "      <td>-0.001884</td>\n",
       "    </tr>\n",
       "    <tr>\n",
       "      <th>major</th>\n",
       "      <td>-0.130859</td>\n",
       "      <td>0.006134</td>\n",
       "      <td>0.013855</td>\n",
       "      <td>0.090820</td>\n",
       "      <td>-0.173828</td>\n",
       "      <td>-0.244141</td>\n",
       "      <td>-0.061035</td>\n",
       "      <td>-0.111328</td>\n",
       "      <td>0.255859</td>\n",
       "      <td>0.165039</td>\n",
       "      <td>...</td>\n",
       "      <td>-0.150391</td>\n",
       "      <td>-0.123535</td>\n",
       "      <td>0.046143</td>\n",
       "      <td>-0.102539</td>\n",
       "      <td>0.052002</td>\n",
       "      <td>-0.046875</td>\n",
       "      <td>-0.121582</td>\n",
       "      <td>0.026855</td>\n",
       "      <td>0.131836</td>\n",
       "      <td>0.023315</td>\n",
       "    </tr>\n",
       "  </tbody>\n",
       "</table>\n",
       "<p>5 rows × 300 columns</p>\n",
       "</div>"
      ],
      "text/plain": [
       "                0         1         2         3         4         5    \\\n",
       "microbial -0.207031  0.275391  0.118164 -0.090332 -0.574219 -0.032227   \n",
       "diseases  -0.159180  0.304688 -0.017334  0.250000 -0.217773 -0.029053   \n",
       "represent -0.199219 -0.124512  0.287109 -0.069824 -0.101074 -0.000015   \n",
       "one        0.045654 -0.145508  0.156250  0.166016  0.109863  0.007507   \n",
       "major     -0.130859  0.006134  0.013855  0.090820 -0.173828 -0.244141   \n",
       "\n",
       "                6         7         8         9    ...       290       291  \\\n",
       "microbial -0.142578  0.060547  0.148438 -0.120605  ... -0.250000  0.273438   \n",
       "diseases   0.085938  0.001770  0.039795 -0.143555  ...  0.136719 -0.003998   \n",
       "represent  0.222656 -0.068848  0.198242  0.247070  ...  0.087402 -0.133789   \n",
       "one        0.073730 -0.031006  0.157227  0.099609  ... -0.028931 -0.013000   \n",
       "major     -0.061035 -0.111328  0.255859  0.165039  ... -0.150391 -0.123535   \n",
       "\n",
       "                292       293       294       295       296       297  \\\n",
       "microbial -0.206055  0.347656  0.110352  0.153320 -0.087402 -0.097656   \n",
       "diseases  -0.148438 -0.017822 -0.251953  0.441406 -0.388672  0.082031   \n",
       "represent  0.158203  0.062988 -0.166016  0.082031  0.040039 -0.063965   \n",
       "one       -0.060303 -0.032715 -0.103516  0.044678 -0.095215 -0.015869   \n",
       "major      0.046143 -0.102539  0.052002 -0.046875 -0.121582  0.026855   \n",
       "\n",
       "                298       299  \n",
       "microbial  0.431641  0.010010  \n",
       "diseases   0.570312  0.306641  \n",
       "represent  0.375000 -0.200195  \n",
       "one        0.006714 -0.001884  \n",
       "major      0.131836  0.023315  \n",
       "\n",
       "[5 rows x 300 columns]"
      ]
     },
     "execution_count": 29,
     "metadata": {},
     "output_type": "execute_result"
    }
   ],
   "source": [
    "df.head()"
   ]
  },
  {
   "cell_type": "code",
   "execution_count": 30,
   "metadata": {},
   "outputs": [],
   "source": [
    "from sklearn.manifold import TSNE\n",
    "\n",
    "# Initialize t-SNE\n",
    "tsne = TSNE(n_components = 2, init = 'random', random_state = 10, perplexity = 100)\n",
    "\n",
    "# Use only 400 rows to shorten processing time\n",
    "tsne_df = tsne.fit_transform(df[:400])"
   ]
  },
  {
   "cell_type": "code",
   "execution_count": 31,
   "metadata": {},
   "outputs": [
    {
     "ename": "ModuleNotFoundError",
     "evalue": "No module named 'adjustText'",
     "output_type": "error",
     "traceback": [
      "\u001b[0;31m---------------------------------------------------------------------------\u001b[0m",
      "\u001b[0;31mModuleNotFoundError\u001b[0m                       Traceback (most recent call last)",
      "\u001b[0;32m<ipython-input-31-6e6e977dcaee>\u001b[0m in \u001b[0;36m<module>\u001b[0;34m\u001b[0m\n\u001b[1;32m      7\u001b[0m \u001b[0;34m\u001b[0m\u001b[0m\n\u001b[1;32m      8\u001b[0m \u001b[0;31m# Import adjustText, initialize list of texts\u001b[0m\u001b[0;34m\u001b[0m\u001b[0;34m\u001b[0m\u001b[0m\n\u001b[0;32m----> 9\u001b[0;31m \u001b[0;32mfrom\u001b[0m \u001b[0madjustText\u001b[0m \u001b[0;32mimport\u001b[0m \u001b[0madjust_text\u001b[0m\u001b[0;34m\u001b[0m\u001b[0m\n\u001b[0m\u001b[1;32m     10\u001b[0m \u001b[0mtexts\u001b[0m \u001b[0;34m=\u001b[0m \u001b[0;34m[\u001b[0m\u001b[0;34m]\u001b[0m\u001b[0;34m\u001b[0m\u001b[0m\n\u001b[1;32m     11\u001b[0m \u001b[0mwords_to_plot\u001b[0m \u001b[0;34m=\u001b[0m \u001b[0mlist\u001b[0m\u001b[0;34m(\u001b[0m\u001b[0mnp\u001b[0m\u001b[0;34m.\u001b[0m\u001b[0marange\u001b[0m\u001b[0;34m(\u001b[0m\u001b[0;36m0\u001b[0m\u001b[0;34m,\u001b[0m \u001b[0;36m400\u001b[0m\u001b[0;34m,\u001b[0m \u001b[0;36m10\u001b[0m\u001b[0;34m)\u001b[0m\u001b[0;34m)\u001b[0m\u001b[0;34m\u001b[0m\u001b[0m\n",
      "\u001b[0;31mModuleNotFoundError\u001b[0m: No module named 'adjustText'"
     ]
    },
    {
     "data": {
      "image/png": "[encoded data removed]",
      "text/plain": [
       "<Figure size 842.4x595.44 with 1 Axes>"
      ]
     },
     "metadata": {},
     "output_type": "display_data"
    }
   ],
   "source": [
    "import seaborn as sns\n",
    "import matplotlib.pyplot as plt\n",
    "sns.set()\n",
    "# Initialize figure\n",
    "fig, ax = plt.subplots(figsize = (11.7, 8.27))\n",
    "sns.scatterplot(tsne_df[:, 0], tsne_df[:, 1], alpha = 0.5)\n",
    "\n",
    "# Import adjustText, initialize list of texts\n",
    "from adjustText import adjust_text\n",
    "texts = []\n",
    "words_to_plot = list(np.arange(0, 400, 10))\n",
    "\n",
    "# Append words to list\n",
    "for word in words_to_plot:\n",
    "    texts.append(plt.text(tsne_df[word, 0], tsne_df[word, 1], df.index[word], fontsize = 14))\n",
    "    \n",
    "# Plot text using adjust_text (because overlapping text is hard to read)\n",
    "adjust_text(texts, force_points = 0.4, force_text = 0.4, \n",
    "            expand_points = (2,1), expand_text = (1,2),\n",
    "            arrowprops = dict(arrowstyle = \"-\", color = 'black', lw = 0.5))\n",
    "\n",
    "plt.show()\n"
   ]
  },
  {
   "cell_type": "code",
   "execution_count": 32,
   "metadata": {},
   "outputs": [],
   "source": [
    "def document_vector(word2vec_model, doc):\n",
    "    # remove out-of-vocabulary words\n",
    "    doc = [word for word in doc if word in model.vocab]\n",
    "    return np.mean(model[doc], axis=0)\n",
    "\n",
    "# Our earlier preprocessing was done when we were dealing only with word vectors\n",
    "# Here, we need each document to remain a document \n",
    "def preprocess(text):\n",
    "    text = text.lower()\n",
    "    doc = word_tokenize(text)\n",
    "    doc = [word for word in doc if word not in stop_words]\n",
    "    doc = [word for word in doc if word.isalpha()] \n",
    "    return doc\n",
    "\n",
    "# Function that will help us drop documents that have no word vectors in word2vec\n",
    "def has_vector_representation(word2vec_model, doc):\n",
    "    \"\"\"check if at least one word of the document is in the\n",
    "    word2vec dictionary\"\"\"\n",
    "    return not all(word not in word2vec_model.vocab for word in doc)\n",
    "\n",
    "# Filter out documents\n",
    "def filter_docs(corpus, texts, condition_on_doc):\n",
    "    \"\"\"\n",
    "    Filter corpus and texts given the function condition_on_doc which takes a doc. The document doc is kept if condition_on_doc(doc) is true.\n",
    "    \"\"\"\n",
    "    number_of_docs = len(corpus)\n",
    "\n",
    "    if texts is not None:\n",
    "        texts = [text for (text, doc) in zip(texts, corpus)\n",
    "                 if condition_on_doc(doc)]\n",
    "\n",
    "    corpus = [doc for doc in corpus if condition_on_doc(doc)]\n",
    "\n",
    "    print(\"{} docs removed\".format(number_of_docs - len(corpus)))\n",
    "\n",
    "    return (corpus, texts)"
   ]
  },
  {
   "cell_type": "code",
   "execution_count": 33,
   "metadata": {},
   "outputs": [
    {
     "name": "stdout",
     "output_type": "stream",
     "text": [
      "0 docs removed\n",
      "0 docs removed\n"
     ]
    }
   ],
   "source": [
    "# Preprocess the corpus\n",
    "corpus = [preprocess(title) for title in text_list]\n",
    "\n",
    "# Remove docs that don't include any words in W2V's vocab\n",
    "corpus, text_list = filter_docs(corpus, text_list, lambda doc: has_vector_representation(model, doc))\n",
    "\n",
    "# Filter out any empty docs\n",
    "corpus, text_list = filter_docs(corpus, text_list, lambda doc: (len(doc) != 0))\n",
    "x = []\n",
    "for doc in corpus: # append the vector for each document\n",
    "    x.append(document_vector(model, doc))\n",
    "    \n",
    "X = np.array(x) # list to array"
   ]
  },
  {
   "cell_type": "code",
   "execution_count": 34,
   "metadata": {},
   "outputs": [
    {
     "ename": "ModuleNotFoundError",
     "evalue": "No module named 'adjustText'",
     "output_type": "error",
     "traceback": [
      "\u001b[0;31m---------------------------------------------------------------------------\u001b[0m",
      "\u001b[0;31mModuleNotFoundError\u001b[0m                       Traceback (most recent call last)",
      "\u001b[0;32m<ipython-input-34-77becd115fbd>\u001b[0m in \u001b[0;36m<module>\u001b[0;34m\u001b[0m\n\u001b[1;32m      7\u001b[0m \u001b[0msns\u001b[0m\u001b[0;34m.\u001b[0m\u001b[0mscatterplot\u001b[0m\u001b[0;34m(\u001b[0m\u001b[0mtsne_df\u001b[0m\u001b[0;34m[\u001b[0m\u001b[0;34m:\u001b[0m\u001b[0;34m,\u001b[0m \u001b[0;36m0\u001b[0m\u001b[0;34m]\u001b[0m\u001b[0;34m,\u001b[0m \u001b[0mtsne_df\u001b[0m\u001b[0;34m[\u001b[0m\u001b[0;34m:\u001b[0m\u001b[0;34m,\u001b[0m \u001b[0;36m1\u001b[0m\u001b[0;34m]\u001b[0m\u001b[0;34m,\u001b[0m \u001b[0malpha\u001b[0m \u001b[0;34m=\u001b[0m \u001b[0;36m0.5\u001b[0m\u001b[0;34m)\u001b[0m\u001b[0;34m\u001b[0m\u001b[0m\n\u001b[1;32m      8\u001b[0m \u001b[0;34m\u001b[0m\u001b[0m\n\u001b[0;32m----> 9\u001b[0;31m \u001b[0;32mfrom\u001b[0m \u001b[0madjustText\u001b[0m \u001b[0;32mimport\u001b[0m \u001b[0madjust_text\u001b[0m\u001b[0;34m\u001b[0m\u001b[0m\n\u001b[0m\u001b[1;32m     10\u001b[0m \u001b[0mtexts\u001b[0m \u001b[0;34m=\u001b[0m \u001b[0;34m[\u001b[0m\u001b[0;34m]\u001b[0m\u001b[0;34m\u001b[0m\u001b[0m\n\u001b[1;32m     11\u001b[0m \u001b[0mtitles_to_plot\u001b[0m \u001b[0;34m=\u001b[0m \u001b[0mlist\u001b[0m\u001b[0;34m(\u001b[0m\u001b[0mnp\u001b[0m\u001b[0;34m.\u001b[0m\u001b[0marange\u001b[0m\u001b[0;34m(\u001b[0m\u001b[0;36m0\u001b[0m\u001b[0;34m,\u001b[0m \u001b[0;36m400\u001b[0m\u001b[0;34m,\u001b[0m \u001b[0;36m40\u001b[0m\u001b[0;34m)\u001b[0m\u001b[0;34m)\u001b[0m \u001b[0;31m# plots every 40th title in first 400 titles\u001b[0m\u001b[0;34m\u001b[0m\u001b[0m\n",
      "\u001b[0;31mModuleNotFoundError\u001b[0m: No module named 'adjustText'"
     ]
    },
    {
     "data": {
      "image/png": "[encoded data removed]",
      "text/plain": [
       "<Figure size 1008x720 with 1 Axes>"
      ]
     },
     "metadata": {},
     "output_type": "display_data"
    }
   ],
   "source": [
    "# Initialize t-SNE\n",
    "tsne = TSNE(n_components = 2, init = 'random', random_state = 10, perplexity = 100)\n",
    "\n",
    "# Again use only 400 rows to shorten processing time\n",
    "tsne_df = tsne.fit_transform(X[:400])\n",
    "fig, ax = plt.subplots(figsize = (14, 10))\n",
    "sns.scatterplot(tsne_df[:, 0], tsne_df[:, 1], alpha = 0.5)\n",
    "\n",
    "from adjustText import adjust_text\n",
    "texts = []\n",
    "titles_to_plot = list(np.arange(0, 400, 40)) # plots every 40th title in first 400 titles\n",
    "\n",
    "# Append words to list\n",
    "for title in titles_to_plot:\n",
    "    texts.append(plt.text(tsne_df[title, 0], tsne_df[title, 1], titles_list[title], fontsize = 14))\n",
    "    \n",
    "# Plot text using adjust_text\n",
    "adjust_text(texts, force_points = 0.4, force_text = 0.4, \n",
    "            expand_points = (2,1), expand_text = (1,2),\n",
    "            arrowprops = dict(arrowstyle = \"-\", color = 'black', lw = 0.5))\n",
    "\n",
    "plt.show()\n"
   ]
  },
  {
   "cell_type": "markdown",
   "metadata": {},
   "source": [
    "# Commercial Use:Exploration"
   ]
  },
  {
   "cell_type": "code",
   "execution_count": 35,
   "metadata": {},
   "outputs": [
    {
     "name": "stdout",
     "output_type": "stream",
     "text": [
      "Number of articles retrieved from Commercial Use: 9118\n"
     ]
    }
   ],
   "source": [
    "commuse_dir = '/kaggle/input/CORD-19-research-challenge/comm_use_subset/comm_use_subset/'\n",
    "filenames = os.listdir(commuse_dir)\n",
    "print(\"Number of articles retrieved from Commercial Use:\", len(filenames))"
   ]
  },
  {
   "cell_type": "code",
   "execution_count": 36,
   "metadata": {},
   "outputs": [],
   "source": [
    "all_files = []\n",
    "\n",
    "for filename in filenames:\n",
    "    filename = commuse_dir + filename\n",
    "    file = json.load(open(filename, 'rb'))\n",
    "    all_files.append(file)"
   ]
  },
  {
   "cell_type": "code",
   "execution_count": 37,
   "metadata": {},
   "outputs": [
    {
     "name": "stdout",
     "output_type": "stream",
     "text": [
      "Dictionary keys: dict_keys(['paper_id', 'metadata', 'abstract', 'body_text', 'bib_entries', 'ref_entries', 'back_matter'])\n"
     ]
    }
   ],
   "source": [
    "file = all_files[0]\n",
    "print(\"Dictionary keys:\", file.keys())"
   ]
  },
  {
   "cell_type": "markdown",
   "metadata": {},
   "source": [
    "# Commercial Use:Abstract"
   ]
  },
  {
   "cell_type": "code",
   "execution_count": 38,
   "metadata": {},
   "outputs": [
    {
     "name": "stdout",
     "output_type": "stream",
     "text": [
      "[{'cite_spans': [],\n",
      "  'ref_spans': [],\n",
      "  'section': 'Abstract',\n",
      "  'text': 'Background: Human rhinoviruses (HRVs) are a highly prevalent cause '\n",
      "          'of acute respiratory infection in children. They are classified '\n",
      "          'into at least three species, HRV-A, HRV-B and HRV-C, which are '\n",
      "          'characterized by sequencing the 59 untranslated region (UTR) or the '\n",
      "          'VP4/VP2 region of the genome. Given the increased interest for '\n",
      "          'novel HRV strain identification and their worldwide distribution, '\n",
      "          'we have carried out clinical and molecular diagnosis of HRV strains '\n",
      "          'in a 2-year study of children with acute respiratory infection '\n",
      "          'visiting one district hospital in Shanghai.'},\n",
      " {'cite_spans': [],\n",
      "  'ref_spans': [],\n",
      "  'section': 'Abstract',\n",
      "  'text': 'Methodology/Findings: We cloned and sequenced a 924-nt fragment '\n",
      "          'that covered part of the 59UTR and the VP4/VP2 capsid genes. '\n",
      "          'Sixty-four HRV-infected outpatients were diagnosed amongst 827 '\n",
      "          'children with acute low respiratory tract infection. Two samples '\n",
      "          'were co-infected with HRV-A and HRV-B or HRV-C. By comparative '\n",
      "          'analysis of the VP4/VP2 sequences of the 66 HRVs, we showed a high '\n",
      "          'diversity of strains in HRV-A and HRV-B species, and a prevalence '\n",
      "          'of 51.5% of strains that belonged to the recently identified HRV-C '\n",
      "          'species. When analyzing a fragment of the 59 UTR, we characterized '\n",
      "          'at least two subspecies of HRV-C: HRV-Cc, which clustered '\n",
      "          'differently from HRV-A and HRV-B, and HRV-Ca, which resulted from '\n",
      "          'previous recombination in this region with sequences related to '\n",
      "          'HRV-A. The full-length sequence of one strain of each HRV-Ca and '\n",
      "          'HRV-Cc subspecies was obtained for comparative analysis. We '\n",
      "          'confirmed the close relationship of their structural proteins but '\n",
      "          'showed apparent additional recombination events in the 2A gene and '\n",
      "          '39UTR of the HRV-Ca strain. Double or triple infections with HRV-C '\n",
      "          'and respiratory syncytial virus and/or bocavirus were diagnosed in '\n",
      "          '33.3% of the HRV-infected patients, but no correlation with '\n",
      "          'severity of clinical outcome was observed.'},\n",
      " {'cite_spans': [],\n",
      "  'ref_spans': [],\n",
      "  'section': 'Abstract',\n",
      "  'text': 'Our study showed a high diversity of HRV strains that cause '\n",
      "          'bronchitis and pneumonia in children. A predominance of HRV-C over '\n",
      "          'HRV-A and HRV-B was observed, and two subspecies of HRV-C were '\n",
      "          'identified, the diversity of which seemed to be related to '\n",
      "          'recombination with former HRV-A strains. None of the HRV-C strains '\n",
      "          'appeared to have a higher clinical impact than HRV-A or HRV-B on '\n",
      "          'respiratory compromise.'}]\n"
     ]
    }
   ],
   "source": [
    "pprint(file['abstract'])"
   ]
  },
  {
   "cell_type": "markdown",
   "metadata": {},
   "source": [
    "# Commercial Use:Body Text"
   ]
  },
  {
   "cell_type": "code",
   "execution_count": 39,
   "metadata": {},
   "outputs": [
    {
     "name": "stdout",
     "output_type": "stream",
     "text": [
      "body_text type: <class 'list'>\n",
      "body_text length: 28\n",
      "body_text keys: dict_keys(['text', 'cite_spans', 'ref_spans', 'section'])\n"
     ]
    }
   ],
   "source": [
    "print(\"body_text type:\", type(file['body_text']))\n",
    "print(\"body_text length:\", len(file['body_text']))\n",
    "print(\"body_text keys:\", file['body_text'][0].keys())"
   ]
  },
  {
   "cell_type": "code",
   "execution_count": 40,
   "metadata": {},
   "outputs": [
    {
     "name": "stdout",
     "output_type": "stream",
     "text": [
      "body_text content:\n",
      "[{'cite_spans': [{...},\n",
      "                 {...},\n",
      "                 {...},\n",
      "                 {...},\n",
      "                 {...},\n",
      "                 {...},\n",
      "                 {...},\n",
      "                 {...},\n",
      "                 {...},\n",
      "                 {...}],\n",
      "  'ref_spans': [],\n",
      "  'section': 'Introduction',\n",
      "  'text': 'Human rhinoviruses (HRVs) are a highly p revalent cause of the '\n",
      "          'acute respiratory infection (ARI) defined as the common cold [1, 2, '\n",
      "          '3] , which is frequently associated in children with bronchitis, '\n",
      "          'bronchiolitis, wheezing, pneumonia, asthma and otitis [4, 5, 6, 7, '\n",
      "          '8, 9] . HRVs are classified in genus Enterovirus (HEVs) in family '\n",
      "          'Picornaviridae [10] . HRVs are non-enveloped, single-stranded, '\n",
      "          'positive-sense RNA viruses of approximately 7200 nt, composed of a '\n",
      "          '59 untranslated region (UTR), followed by a long open reading frame '\n",
      "          'coding for capsid proteins VP4, VP2, VP3 and VP1, and seven '\n",
      "          'non-structural proteins 2A, 2B, 2C, 3A, 3B, 3C and 3D, and '\n",
      "          'terminated by a short 39UTR and poly A tract.'},\n",
      " {'cite_spans': [{...},\n",
      "                 {...},\n",
      "                 {...},\n",
      "                 {...},\n",
      "                 {...},\n",
      "                 {...},\n",
      "                 {...},\n",
      "                 {...},\n",
      "                 {...},\n",
      "                 {...},\n",
      "                 {...},\n",
      "                 {...},\n",
      "                 {...},\n",
      "                 {...},\n",
      "                 {...}],\n",
      "  'ref_spans': [],\n",
      "  'section': 'Introduction',\n",
      "  'text': 'More than 100 serotypes of HRV are known, which have been '\n",
      "          'classified into two species, HRV-A and HRV-B, according to '\n",
      "          'comparative alignment of nucleotide fragments of VP1 [11, 12] , '\n",
      "          'VP4/VP2 [13] and 59UTR [14, 15] , and more recently, on complete '\n",
      "          'genome nucleotide sequences [16] . Moreover, some genomic sequences '\n",
      "          'have been found not to cluster with HRV-A and HRV-B species, which '\n",
      "          'suggests the existence of other species (HRV-C and HRV-D) [16] . A '\n",
      "          'new species of HRV-C was recently identified worldwide by '\n",
      "          'comparative analysis of VP4 or VP4/VP2 genes [7, 17, 18, 19, 20, '\n",
      "          '21] and 59UTR [14, 15] .'}]\n"
     ]
    }
   ],
   "source": [
    "print(\"body_text content:\")\n",
    "pprint(file['body_text'][:2], depth=3)"
   ]
  },
  {
   "cell_type": "code",
   "execution_count": 41,
   "metadata": {},
   "outputs": [
    {
     "name": "stdout",
     "output_type": "stream",
     "text": [
      "['Introduction',\n",
      " 'Identification and typing by phylogenetic analysis of 66 HRVs in NPSs from '\n",
      " 'children with ARI',\n",
      " 'Recombination in the 59 UTR',\n",
      " 'Comparative analysis of full-length genomes of HRV-A, HRV-B and HRV-C '\n",
      " 'species',\n",
      " 'Discussion',\n",
      " 'Materials and Methods',\n",
      " 'Specimens and viruses',\n",
      " 'Multiplex RT-PCR assay',\n",
      " 'Complete genome sequencing',\n",
      " 'Nucleotide sequence accession numbers']\n"
     ]
    }
   ],
   "source": [
    "texts = [(di['section'], di['text']) for di in file['body_text']]\n",
    "texts_di = {di['section']: \"\" for di in file['body_text']}\n",
    "for section, text in texts:\n",
    "    texts_di[section] += text\n",
    "\n",
    "pprint(list(texts_di.keys()))"
   ]
  },
  {
   "cell_type": "code",
   "execution_count": 42,
   "metadata": {},
   "outputs": [
    {
     "name": "stdout",
     "output_type": "stream",
     "text": [
      "Introduction\n",
      "\n",
      "Human rhinoviruses (HRVs) are a highly p revalent cause of the acute respiratory infection (ARI) defined as the common cold [1, 2, 3] , which is frequently associated in children with bronchitis, bronchiolitis, wheezing, pneumonia, asthma and otitis [4, 5, 6, 7, 8, 9] . HRVs are classified in genus Enterovirus (HEVs) in family Picornaviridae [10] . HRVs are non-enveloped, single-stranded, positive-sense RNA viruses of approximately 7200 nt, composed of a 59 untranslated region (UTR), followed by a long open reading frame coding for capsid proteins VP4, VP2, VP3 and VP1, and seven non-structural proteins 2A, 2B, 2C, 3A, 3B, 3C and 3D, and terminated by a short 39UTR and poly A tract.More than 100 serotypes of HRV are known, which have been classified into two species, HRV-A and HRV-B, according to comparative alignment of nucleotide fragments of VP1 [11, 12] , VP4/VP2 [13] and 59UTR [14, 15] , and more recently, on complete genome nucleotide sequences [16] . Moreover, some genomic sequences have been found not to cluster with HRV-A and HRV-B species, which suggests the existence of other species (HRV-C and HRV-D) [16] . A new species of HRV-C was recently identified worldwide by comparative analysis of VP4 or VP4/VP2 genes [7, 17, 18, 19, 20, 21] and 59UTR [14, 15] .However, discrepancies have appeared in the classification of some of the new HRV-A or HRV-C strains, depending on the size and location of the nucleotide sequence in the viral genome and on the phylogenetic methods used for direct analysis of HRV sequences [3, 7, 14, 15, 17, 18, 20, 21, 22, 23] .These recent data underline the lack of knowledge about the biodiversity of HRV strains and their worldwide distribution [14, 17] . Moreover, little is known about the characteristics and diversity of HRVs circulating in a given area in a short period of time. In the present study, we looked for HRVs in a 2-year collection of nasopharyngeal swabs (NPSs) of children with ARI visiting a district hospital in Shanghai, and compared sequences in two regions previously defined for genetic classification of HRV serotypes [13, 15] . Our study showed a high diversity of HRV species and genotypes, and a prevalence of the novel HRV-C species in NPSs of children with bronchitis and pneumonia. This biodiversity appeared to result partly from recombination events in the 59UTR, between HRV-C strains and those close or similar to HRV-A species, which led to the suggested classification of HRV-C into at least two subspecies.\n",
      "\n",
      "Identification and typing by phylogenetic analysis of 66 HRVs in NPSs from children with ARI\n",
      "\n",
      "Eight hundred and twenty-seven samples were collected from a group of children consulting the Shanghai Nanxiang Hospital during a 2-year period, and tested for 17 respiratory viruses using a multiplex RT-PCR (mRT-PCR). Sixty-four samples (7.7%) were positive for HRV, according to the length of the amplified fragment in the VP4/VP2 region visualized on agarose gel (data not shown). A\n"
     ]
    }
   ],
   "source": [
    "body = \"\"\n",
    "\n",
    "for section, text in texts_di.items():\n",
    "    body += section\n",
    "    body += \"\\n\\n\"\n",
    "    body += text\n",
    "    body += \"\\n\\n\"\n",
    "\n",
    "print(body[:3000])"
   ]
  },
  {
   "cell_type": "code",
   "execution_count": 43,
   "metadata": {},
   "outputs": [
    {
     "name": "stdout",
     "output_type": "stream",
     "text": [
      "Introduction\n",
      "\n",
      "Human rhinoviruses (HRVs) are a highly p revalent cause of the acute respiratory infection (ARI) defined as the common cold [1, 2, 3] , which is frequently associated in children with bronchitis, bronchiolitis, wheezing, pneumonia, asthma and otitis [4, 5, 6, 7, 8, 9] . HRVs are classified in genus Enterovirus (HEVs) in family Picornaviridae [10] . HRVs are non-enveloped, single-stranded, positive-sense RNA viruses of approximately 7200 nt, composed of a 59 untranslated region (UTR), followed by a long open reading frame coding for capsid proteins VP4, VP2, VP3 and VP1, and seven non-structural proteins 2A, 2B, 2C, 3A, 3B, 3C and 3D, and terminated by a short 39UTR and poly A tract.More than 100 serotypes of HRV are known, which have been classified into two species, HRV-A and HRV-B, according to comparative alignment of nucleotide fragments of VP1 [11, 12] , VP4/VP2 [13] and 59UTR [14, 15] , and more recently, on complete genome nucleotide sequences [16] . Moreover, some genomic sequences have been found not to cluster with HRV-A and HRV-B species, which suggests the existence of other species (HRV-C and HRV-D) [16] . A new species of HRV-C was recently identified worldwide by comparative analysis of VP4 or VP4/VP2 genes [7, 17, 18, 19, 20, 21] and 59UTR [14, 15] .However, discrepancies have appeared in the classification of some of the new HRV-A or HRV-C strains, depending on the size and location of the nucleotide sequence in the viral genome and on the phylogenetic methods used for direct analysis of HRV sequences [3, 7, 14, 15, 17, 18, 20, 21, 22, 23] .These recent data underline the lack of knowledge about the biodiversity of HRV strains and their worldwide distribution [14, 17] . Moreover, little is known about the characteristics and diversity of HRVs circulating in a given area in a short period of time. In the present study, we looked for HRVs in a 2-year collection of nasopharyngeal swabs (NPSs) of children with ARI visiting a district hospital in Shanghai, and compared sequences in two regions previously defined for genetic classification of HRV serotypes [13, 15] . Our study showed a high diversity of HRV species and genotypes, and a prevalence of the novel HRV-C species in NPSs of children with bronchitis and pneumonia. This biodiversity appeared to result partly from recombination events in the 59UTR, between HRV-C strains and those close or similar to HRV-A species, which led to the suggested classification of HRV-C into at least two subspecies.\n",
      "\n",
      "Identification and typing by phylogenetic analysis of 66 HRVs in NPSs from children with ARI\n",
      "\n",
      "Eight hundred and twenty-seven samples were collected from a group of children consulting the Shanghai Nanxiang Hospital during a 2-year period, and tested for 17 respiratory viruses using a multiplex RT-PCR (mRT-PCR). Sixty-four samples (7.7%) were positive for HRV, according to the length of the amplified fragment in the VP4/VP2 region visualized on agarose gel (data not shown). A\n"
     ]
    }
   ],
   "source": [
    "print(format_body(file['body_text'])[:3000])"
   ]
  },
  {
   "cell_type": "markdown",
   "metadata": {},
   "source": [
    "# Commercial Use:MetaData"
   ]
  },
  {
   "cell_type": "code",
   "execution_count": 44,
   "metadata": {},
   "outputs": [
    {
     "name": "stdout",
     "output_type": "stream",
     "text": [
      "dict_keys(['title', 'authors'])\n"
     ]
    }
   ],
   "source": [
    "print(all_files[0]['metadata'].keys())"
   ]
  },
  {
   "cell_type": "code",
   "execution_count": 45,
   "metadata": {},
   "outputs": [
    {
     "name": "stdout",
     "output_type": "stream",
     "text": [
      "Evidence of Recombination and Genetic Diversity in Human Rhinoviruses in Children with Acute Respiratory Infection\n"
     ]
    }
   ],
   "source": [
    "print(all_files[0]['metadata']['title'])"
   ]
  },
  {
   "cell_type": "code",
   "execution_count": 46,
   "metadata": {},
   "outputs": [
    {
     "name": "stdout",
     "output_type": "stream",
     "text": [
      "[{'affiliation': {'institution': 'Unit of Emerging Viruses',\n",
      "                  'laboratory': '',\n",
      "                  'location': {'country': \"People's Republic of China\",\n",
      "                               'settlement': 'Shanghai'}},\n",
      "  'email': '',\n",
      "  'first': 'Ting',\n",
      "  'last': 'Huang',\n",
      "  'middle': [],\n",
      "  'suffix': ''},\n",
      " {'affiliation': {'institution': 'Unit of Emerging Viruses',\n",
      "                  'laboratory': '',\n",
      "                  'location': {'country': \"People's Republic of China\",\n",
      "                               'settlement': 'Shanghai'}},\n",
      "  'email': '',\n",
      "  'first': 'Wei',\n",
      "  'last': 'Wang',\n",
      "  'middle': [],\n",
      "  'suffix': ''},\n",
      " {'affiliation': {'institution': '',\n",
      "                  'laboratory': 'Institut Pasteur, Unit of Biology of Enteric '\n",
      "                                'Viruses',\n",
      "                  'location': {'country': 'France', 'settlement': 'Paris'}},\n",
      "  'email': '',\n",
      "  'first': 'Mael',\n",
      "  'last': 'Bessaud',\n",
      "  'middle': [],\n",
      "  'suffix': ''}]\n"
     ]
    }
   ],
   "source": [
    "authors = all_files[0]['metadata']['authors']\n",
    "pprint(authors[:3])"
   ]
  },
  {
   "cell_type": "code",
   "execution_count": 47,
   "metadata": {},
   "outputs": [
    {
     "name": "stdout",
     "output_type": "stream",
     "text": [
      "Name: Ting Huang\n",
      "Affiliation: Unit of Emerging Viruses, Shanghai, People's Republic of China\n",
      "\n",
      "Name: Wei Wang\n",
      "Affiliation: Unit of Emerging Viruses, Shanghai, People's Republic of China\n",
      "\n",
      "Name: Mael Bessaud\n",
      "Affiliation: Paris, France\n",
      "\n",
      "Name: Peijun Ren\n",
      "Affiliation: Unit of Emerging Viruses, Shanghai, People's Republic of China\n",
      "\n",
      "Name: Jun Sheng\n",
      "Affiliation: Shanghai Nanxiang Hospital, Shanghai, People's Republic of China\n",
      "\n",
      "Name: Huajie Yan\n",
      "Affiliation: Shanghai Nanxiang Hospital, Shanghai, People's Republic of China\n",
      "\n",
      "Name: Jing Zhang\n",
      "Affiliation: Unit of Emerging Viruses, Shanghai, People's Republic of China\n",
      "\n",
      "Name: Xin Lin\n",
      "Affiliation: Unit of Emerging Viruses, Shanghai, People's Republic of China\n",
      "\n",
      "Name: Yongjin Wang\n",
      "Affiliation: Unit of Emerging Viruses, Shanghai, People's Republic of China\n",
      "\n",
      "Name: Francis Delpeyroux\n",
      "Affiliation: Paris, France\n",
      "\n",
      "Name: Vincent Deubel\n",
      "Affiliation: Unit of Emerging Viruses, Shanghai, People's Republic of China\n",
      "\n"
     ]
    }
   ],
   "source": [
    "for author in authors:\n",
    "    print(\"Name:\", format_name(author))\n",
    "    print(\"Affiliation:\", format_affiliation(author['affiliation']))\n",
    "    print()"
   ]
  },
  {
   "cell_type": "code",
   "execution_count": 48,
   "metadata": {},
   "outputs": [
    {
     "name": "stdout",
     "output_type": "stream",
     "text": [
      "{'authors': [{'affiliation': {},\n",
      "              'email': '',\n",
      "              'first': 'Danila',\n",
      "              'last': 'Vella',\n",
      "              'middle': [],\n",
      "              'suffix': ''},\n",
      "             {'affiliation': {},\n",
      "              'email': '',\n",
      "              'first': 'Italo',\n",
      "              'last': 'Zoppis',\n",
      "              'middle': [],\n",
      "              'suffix': ''},\n",
      "             {'affiliation': {},\n",
      "              'email': '',\n",
      "              'first': 'Giancarlo',\n",
      "              'last': 'Mauri',\n",
      "              'middle': [],\n",
      "              'suffix': ''},\n",
      "             {'affiliation': {},\n",
      "              'email': '',\n",
      "              'first': 'Pierluigi',\n",
      "              'last': 'Mauri',\n",
      "              'middle': [],\n",
      "              'suffix': ''},\n",
      "             {'affiliation': {},\n",
      "              'email': '',\n",
      "              'first': 'Dario',\n",
      "              'last': 'Silvestre',\n",
      "              'middle': ['Di'],\n",
      "              'suffix': ''}],\n",
      " 'title': 'From protein-protein interactions to protein co-expression '\n",
      "          'networks: a new perspective to evaluate large-scale proteomic data'}\n"
     ]
    }
   ],
   "source": [
    "pprint(all_files[4]['metadata'], depth=4)"
   ]
  },
  {
   "cell_type": "code",
   "execution_count": 49,
   "metadata": {},
   "outputs": [
    {
     "name": "stdout",
     "output_type": "stream",
     "text": [
      "Formatting without affiliation:\n",
      "Danila Vella, Italo Zoppis, Giancarlo Mauri, Pierluigi Mauri, Dario Di Silvestre\n",
      "\n",
      "Formatting with affiliation:\n",
      "Danila Vella, Italo Zoppis, Giancarlo Mauri, Pierluigi Mauri, Dario Di Silvestre\n"
     ]
    }
   ],
   "source": [
    "authors = all_files[4]['metadata']['authors']\n",
    "print(\"Formatting without affiliation:\")\n",
    "print(format_authors(authors, with_affiliation=False))\n",
    "print(\"\\nFormatting with affiliation:\")\n",
    "print(format_authors(authors, with_affiliation=True))"
   ]
  },
  {
   "cell_type": "markdown",
   "metadata": {},
   "source": [
    "# Commercial Use:Bibliography"
   ]
  },
  {
   "cell_type": "code",
   "execution_count": 50,
   "metadata": {},
   "outputs": [
    {
     "name": "stdout",
     "output_type": "stream",
     "text": [
      "[{'authors': [{'first': 'F', 'last': 'Hayden', 'middle': [...], 'suffix': ''}],\n",
      "  'issn': '',\n",
      "  'other_ids': {},\n",
      "  'pages': '17--31',\n",
      "  'ref_id': 'b0',\n",
      "  'title': 'Rhinovirus and the lower respiratory tract',\n",
      "  'venue': 'Rev Med Virol',\n",
      "  'volume': '14',\n",
      "  'year': 2004},\n",
      " {'authors': [{'first': 'T', 'last': 'Heikkinen', 'middle': [], 'suffix': ''},\n",
      "              {'first': 'A', 'last': 'Jarvinen', 'middle': [], 'suffix': ''}],\n",
      "  'issn': '',\n",
      "  'other_ids': {},\n",
      "  'pages': '51--59',\n",
      "  'ref_id': 'b1',\n",
      "  'title': 'The common cold',\n",
      "  'venue': 'Lancet',\n",
      "  'volume': '361',\n",
      "  'year': 2003}]\n"
     ]
    }
   ],
   "source": [
    "bibs = list(file['bib_entries'].values())\n",
    "pprint(bibs[:2], depth=4)"
   ]
  },
  {
   "cell_type": "code",
   "execution_count": 51,
   "metadata": {},
   "outputs": [
    {
     "data": {
      "text/plain": [
       "'T Heikkinen, A Jarvinen'"
      ]
     },
     "execution_count": 51,
     "metadata": {},
     "output_type": "execute_result"
    }
   ],
   "source": [
    "format_authors(bibs[1]['authors'], with_affiliation=False)"
   ]
  },
  {
   "cell_type": "code",
   "execution_count": 52,
   "metadata": {},
   "outputs": [
    {
     "name": "stdout",
     "output_type": "stream",
     "text": [
      "Rhinovirus and the lower respiratory tract, F G Hayden, Rev Med Virol, 2004; The common cold, T Heikkinen, A Jarvinen, Lancet, 2003; Human rhinoviruses: the cold wars resume, I M Mackay, J Clin Virol, 2008; New developments in the epidemiology and clinical spectrum of rhinovirus infections, J W Brownlee, R B Turner, Curr Opin Pediatr, 2008; Association of respiratory picornaviruses with acute bronchiolitis in French infants, J Jacques, M Bouscambert-Duchamp, H Moret, J Carquin, V Brodard, J Clin Virol, 2006\n"
     ]
    }
   ],
   "source": [
    "bib_formatted = format_bib(bibs[:5])\n",
    "print(bib_formatted)"
   ]
  },
  {
   "cell_type": "markdown",
   "metadata": {},
   "source": [
    "# Commercial Use:Generate CSV"
   ]
  },
  {
   "cell_type": "code",
   "execution_count": 53,
   "metadata": {},
   "outputs": [
    {
     "data": {
      "application/vnd.jupyter.widget-view+json": {
       "model_id": "b6484264b65a43fca2586fdcf707ff26",
       "version_major": 2,
       "version_minor": 0
      },
      "text/plain": [
       "HBox(children=(FloatProgress(value=0.0, max=9118.0), HTML(value='')))"
      ]
     },
     "metadata": {},
     "output_type": "display_data"
    },
    {
     "name": "stdout",
     "output_type": "stream",
     "text": [
      "\n"
     ]
    }
   ],
   "source": [
    "cleaned_files = []\n",
    "\n",
    "for file in tqdm(all_files):\n",
    "    features = [\n",
    "        file['paper_id'],\n",
    "        file['metadata']['title'],\n",
    "        format_authors(file['metadata']['authors']),\n",
    "        format_authors(file['metadata']['authors'], \n",
    "                       with_affiliation=True),\n",
    "        format_body(file['abstract']),\n",
    "        format_body(file['body_text']),\n",
    "        format_bib(file['bib_entries']),\n",
    "        file['metadata']['authors'],\n",
    "        file['bib_entries']\n",
    "    ]\n",
    "    \n",
    "    cleaned_files.append(features)"
   ]
  },
  {
   "cell_type": "code",
   "execution_count": 54,
   "metadata": {},
   "outputs": [
    {
     "data": {
      "text/html": [
       "<div>\n",
       "<style scoped>\n",
       "    .dataframe tbody tr th:only-of-type {\n",
       "        vertical-align: middle;\n",
       "    }\n",
       "\n",
       "    .dataframe tbody tr th {\n",
       "        vertical-align: top;\n",
       "    }\n",
       "\n",
       "    .dataframe thead th {\n",
       "        text-align: right;\n",
       "    }\n",
       "</style>\n",
       "<table border=\"1\" class=\"dataframe\">\n",
       "  <thead>\n",
       "    <tr style=\"text-align: right;\">\n",
       "      <th></th>\n",
       "      <th>paper_id</th>\n",
       "      <th>title</th>\n",
       "      <th>authors</th>\n",
       "      <th>affiliations</th>\n",
       "      <th>abstract</th>\n",
       "      <th>text</th>\n",
       "      <th>bibliography</th>\n",
       "      <th>raw_authors</th>\n",
       "      <th>raw_bibliography</th>\n",
       "    </tr>\n",
       "  </thead>\n",
       "  <tbody>\n",
       "    <tr>\n",
       "      <th>0</th>\n",
       "      <td>8d095d0275e474dbb9d9b63a75591ff2c0667d73</td>\n",
       "      <td>Evidence of Recombination and Genetic Diversit...</td>\n",
       "      <td>Ting Huang, Wei Wang, Mael Bessaud, Peijun Ren...</td>\n",
       "      <td>Ting Huang (Unit of Emerging Viruses, Shanghai...</td>\n",
       "      <td>Abstract\\n\\nBackground: Human rhinoviruses (HR...</td>\n",
       "      <td>Introduction\\n\\nHuman rhinoviruses (HRVs) are ...</td>\n",
       "      <td>Rhinovirus and the lower respiratory tract, F ...</td>\n",
       "      <td>[{'first': 'Ting', 'middle': [], 'last': 'Huan...</td>\n",
       "      <td>{'BIBREF0': {'ref_id': 'b0', 'title': 'Rhinovi...</td>\n",
       "    </tr>\n",
       "    <tr>\n",
       "      <th>1</th>\n",
       "      <td>43918c75d7b7d3f9402b1342dfea1e19eb2bd909</td>\n",
       "      <td>Antibacterial Properties of Visible-Light-Resp...</td>\n",
       "      <td>Der-Shan Sun, Jyh-Hwa Kau, Hsin-Hsien Huang, Y...</td>\n",
       "      <td>Der-Shan Sun (Tzu-Chi University, 97004, Huali...</td>\n",
       "      <td>Abstract\\n\\nThe bactericidal activity of conve...</td>\n",
       "      <td>Introduction\\n\\nAnthrax is a life-threatening ...</td>\n",
       "      <td>Anthrax in humans and animals, , Anthrax in Hu...</td>\n",
       "      <td>[{'first': 'Der-Shan', 'middle': [], 'last': '...</td>\n",
       "      <td>{'BIBREF0': {'ref_id': 'b0', 'title': 'Anthrax...</td>\n",
       "    </tr>\n",
       "    <tr>\n",
       "      <th>2</th>\n",
       "      <td>daaa53a49dc0d23015e22a150495ac657aa993d8</td>\n",
       "      <td>Transcriptional and Translational Landscape of...</td>\n",
       "      <td>Hazel Stewart, Katherine Brown, Adam M Dinan, ...</td>\n",
       "      <td>Hazel Stewart (University of Cambridge, Cambri...</td>\n",
       "      <td>Abstract\\n\\nThe genus Torovirus (subfamily Tor...</td>\n",
       "      <td>\\n\\ncattle, goats, sheep, pigs, and horses, ca...</td>\n",
       "      <td>Mesoniviridae: a proposed new family in the or...</td>\n",
       "      <td>[{'first': 'Hazel', 'middle': [], 'last': 'Ste...</td>\n",
       "      <td>{'BIBREF0': {'ref_id': 'b0', 'title': 'Mesoniv...</td>\n",
       "    </tr>\n",
       "    <tr>\n",
       "      <th>3</th>\n",
       "      <td>a8fb2e52e4545f4de90bc13e44ae914d9da6a8ab</td>\n",
       "      <td>Patient Isolation Precautions: Are They Worth It?</td>\n",
       "      <td>Elliott Sprague, Steven Reynolds, Peter Brindley</td>\n",
       "      <td>Elliott Sprague (University of Alberta, T6G 2B...</td>\n",
       "      <td>Abstract\\n\\nIsolation precautions are intended...</td>\n",
       "      <td>Introduction\\n\\nIsolation precautions (IPs) ar...</td>\n",
       "      <td>Hospital epidemiology and infection control in...</td>\n",
       "      <td>[{'first': 'Elliott', 'middle': [], 'last': 'S...</td>\n",
       "      <td>{'BIBREF0': {'ref_id': 'b0', 'title': 'Hospita...</td>\n",
       "    </tr>\n",
       "    <tr>\n",
       "      <th>4</th>\n",
       "      <td>f501b5ccc17158a3018dc5688b253e31ba0380d5</td>\n",
       "      <td>From protein-protein interactions to protein c...</td>\n",
       "      <td>Danila Vella, Italo Zoppis, Giancarlo Mauri, P...</td>\n",
       "      <td>Danila Vella, Italo Zoppis, Giancarlo Mauri, P...</td>\n",
       "      <td>Abstract\\n\\nThe reductionist approach of disse...</td>\n",
       "      <td>Introduction\\n\\nThe development of systems bio...</td>\n",
       "      <td>Structural bioinformatics of the interactome, ...</td>\n",
       "      <td>[{'first': 'Danila', 'middle': [], 'last': 'Ve...</td>\n",
       "      <td>{'BIBREF0': {'ref_id': 'b0', 'title': 'Structu...</td>\n",
       "    </tr>\n",
       "  </tbody>\n",
       "</table>\n",
       "</div>"
      ],
      "text/plain": [
       "                                   paper_id  \\\n",
       "0  8d095d0275e474dbb9d9b63a75591ff2c0667d73   \n",
       "1  43918c75d7b7d3f9402b1342dfea1e19eb2bd909   \n",
       "2  daaa53a49dc0d23015e22a150495ac657aa993d8   \n",
       "3  a8fb2e52e4545f4de90bc13e44ae914d9da6a8ab   \n",
       "4  f501b5ccc17158a3018dc5688b253e31ba0380d5   \n",
       "\n",
       "                                               title  \\\n",
       "0  Evidence of Recombination and Genetic Diversit...   \n",
       "1  Antibacterial Properties of Visible-Light-Resp...   \n",
       "2  Transcriptional and Translational Landscape of...   \n",
       "3  Patient Isolation Precautions: Are They Worth It?   \n",
       "4  From protein-protein interactions to protein c...   \n",
       "\n",
       "                                             authors  \\\n",
       "0  Ting Huang, Wei Wang, Mael Bessaud, Peijun Ren...   \n",
       "1  Der-Shan Sun, Jyh-Hwa Kau, Hsin-Hsien Huang, Y...   \n",
       "2  Hazel Stewart, Katherine Brown, Adam M Dinan, ...   \n",
       "3   Elliott Sprague, Steven Reynolds, Peter Brindley   \n",
       "4  Danila Vella, Italo Zoppis, Giancarlo Mauri, P...   \n",
       "\n",
       "                                        affiliations  \\\n",
       "0  Ting Huang (Unit of Emerging Viruses, Shanghai...   \n",
       "1  Der-Shan Sun (Tzu-Chi University, 97004, Huali...   \n",
       "2  Hazel Stewart (University of Cambridge, Cambri...   \n",
       "3  Elliott Sprague (University of Alberta, T6G 2B...   \n",
       "4  Danila Vella, Italo Zoppis, Giancarlo Mauri, P...   \n",
       "\n",
       "                                            abstract  \\\n",
       "0  Abstract\\n\\nBackground: Human rhinoviruses (HR...   \n",
       "1  Abstract\\n\\nThe bactericidal activity of conve...   \n",
       "2  Abstract\\n\\nThe genus Torovirus (subfamily Tor...   \n",
       "3  Abstract\\n\\nIsolation precautions are intended...   \n",
       "4  Abstract\\n\\nThe reductionist approach of disse...   \n",
       "\n",
       "                                                text  \\\n",
       "0  Introduction\\n\\nHuman rhinoviruses (HRVs) are ...   \n",
       "1  Introduction\\n\\nAnthrax is a life-threatening ...   \n",
       "2  \\n\\ncattle, goats, sheep, pigs, and horses, ca...   \n",
       "3  Introduction\\n\\nIsolation precautions (IPs) ar...   \n",
       "4  Introduction\\n\\nThe development of systems bio...   \n",
       "\n",
       "                                        bibliography  \\\n",
       "0  Rhinovirus and the lower respiratory tract, F ...   \n",
       "1  Anthrax in humans and animals, , Anthrax in Hu...   \n",
       "2  Mesoniviridae: a proposed new family in the or...   \n",
       "3  Hospital epidemiology and infection control in...   \n",
       "4  Structural bioinformatics of the interactome, ...   \n",
       "\n",
       "                                         raw_authors  \\\n",
       "0  [{'first': 'Ting', 'middle': [], 'last': 'Huan...   \n",
       "1  [{'first': 'Der-Shan', 'middle': [], 'last': '...   \n",
       "2  [{'first': 'Hazel', 'middle': [], 'last': 'Ste...   \n",
       "3  [{'first': 'Elliott', 'middle': [], 'last': 'S...   \n",
       "4  [{'first': 'Danila', 'middle': [], 'last': 'Ve...   \n",
       "\n",
       "                                    raw_bibliography  \n",
       "0  {'BIBREF0': {'ref_id': 'b0', 'title': 'Rhinovi...  \n",
       "1  {'BIBREF0': {'ref_id': 'b0', 'title': 'Anthrax...  \n",
       "2  {'BIBREF0': {'ref_id': 'b0', 'title': 'Mesoniv...  \n",
       "3  {'BIBREF0': {'ref_id': 'b0', 'title': 'Hospita...  \n",
       "4  {'BIBREF0': {'ref_id': 'b0', 'title': 'Structu...  "
      ]
     },
     "execution_count": 54,
     "metadata": {},
     "output_type": "execute_result"
    }
   ],
   "source": [
    "col_names = [\n",
    "    'paper_id', \n",
    "    'title', \n",
    "    'authors',\n",
    "    'affiliations', \n",
    "    'abstract', \n",
    "    'text', \n",
    "    'bibliography',\n",
    "    'raw_authors',\n",
    "    'raw_bibliography'\n",
    "]\n",
    "\n",
    "commuse_df = pd.DataFrame(cleaned_files, columns=col_names)\n",
    "commuse_df.head()"
   ]
  },
  {
   "cell_type": "markdown",
   "metadata": {},
   "source": [
    "# Custom License:Exploration"
   ]
  },
  {
   "cell_type": "code",
   "execution_count": 55,
   "metadata": {},
   "outputs": [
    {
     "name": "stdout",
     "output_type": "stream",
     "text": [
      "Number of articles retrieved from Commercial Use: 16959\n"
     ]
    }
   ],
   "source": [
    "customlicense_dir = '/kaggle/input/CORD-19-research-challenge/custom_license/custom_license/'\n",
    "filenames = os.listdir(customlicense_dir)\n",
    "print(\"Number of articles retrieved from Commercial Use:\", len(filenames))"
   ]
  },
  {
   "cell_type": "code",
   "execution_count": 56,
   "metadata": {},
   "outputs": [],
   "source": [
    "all_files = []\n",
    "\n",
    "for filename in filenames:\n",
    "    filename = customlicense_dir + filename\n",
    "    file = json.load(open(filename, 'rb'))\n",
    "    all_files.append(file)"
   ]
  },
  {
   "cell_type": "code",
   "execution_count": 57,
   "metadata": {},
   "outputs": [
    {
     "name": "stdout",
     "output_type": "stream",
     "text": [
      "Dictionary keys: dict_keys(['paper_id', 'metadata', 'abstract', 'body_text', 'bib_entries', 'ref_entries', 'back_matter'])\n"
     ]
    }
   ],
   "source": [
    "file = all_files[0]\n",
    "print(\"Dictionary keys:\", file.keys())"
   ]
  },
  {
   "cell_type": "markdown",
   "metadata": {},
   "source": [
    "# Custom License:Abstract"
   ]
  },
  {
   "cell_type": "code",
   "execution_count": 58,
   "metadata": {},
   "outputs": [
    {
     "name": "stdout",
     "output_type": "stream",
     "text": [
      "[{'cite_spans': [],\n",
      "  'ref_spans': [],\n",
      "  'section': 'Abstract',\n",
      "  'text': 'The objective of this study was to evaluate the benefits of '\n",
      "          'supplementation of mannan oligosaccharide (MOS) to cows during the '\n",
      "          'last 3 wk of the dry period on immune function of the cows and '\n",
      "          'subsequent transfer of passive immunity to their calves. Indicators '\n",
      "          'of nonspecific and specific immunity were evaluated. Cows were '\n",
      "          'vaccinated against rotavirus at 4 and 2 wk before expected '\n",
      "          'parturition. Blood samples were obtained from cows before '\n",
      "          'vaccination and at weekly intervals until calving and from calves '\n",
      "          'at birth and 24 h for analysis of serum protein concentrations, '\n",
      "          'packed cell volume, white blood cell counts, white blood cell '\n",
      "          'differentials, and serum rotavirus neutralization titers. Colostrum '\n",
      "          'quantity and quality were measured at calving, and immunoglobulin '\n",
      "          'isotype concentrations in colostrum were determined. Specific '\n",
      "          'immunity was enhanced by MOS supplementation as evidenced by '\n",
      "          'greater serum rotavirus neutralization titers at calving in cows '\n",
      "          'supplemented with MOS compared with control cows. Colostral '\n",
      "          'rotavirus neutralization titers were not affected by treatment. '\n",
      "          'Although numerical differences appeared large, there was a high '\n",
      "          'degree of variability in the colostral rotavirus neutralization '\n",
      "          'titers. Calves from cows fed MOS tended to have greater serum '\n",
      "          'rotavirus neutralization titers compared with calves from cows fed '\n",
      "          'the control diet. There was a tendency for greater increases in '\n",
      "          'serum protein concentrations from birth to 24 h in calves from cows '\n",
      "          'fed MOS compared with calves from cows fed the control diet. '\n",
      "          'Results indicate that supplementation of MOS to cows during the dry '\n",
      "          'period enhanced their immune response to rotavirus and tended to '\n",
      "          'enhance the subsequent transfer of rotavirus antibodies to calves. '\n",
      "          '('},\n",
      " {'cite_spans': [],\n",
      "  'ref_spans': [],\n",
      "  'section': 'Abstract',\n",
      "  'text': 'Abbreviation key: MOS = mannan oligosaccharide, PCV = packed cell '\n",
      "          'volume, SPC = serum protein concentration, WBC = white blood cell.'}]\n"
     ]
    }
   ],
   "source": [
    "pprint(file['abstract'])"
   ]
  },
  {
   "cell_type": "markdown",
   "metadata": {},
   "source": [
    "# Custom License:Body Text"
   ]
  },
  {
   "cell_type": "code",
   "execution_count": 59,
   "metadata": {},
   "outputs": [
    {
     "name": "stdout",
     "output_type": "stream",
     "text": [
      "body_text type: <class 'list'>\n",
      "body_text length: 40\n",
      "body_text keys: dict_keys(['text', 'cite_spans', 'ref_spans', 'section'])\n"
     ]
    }
   ],
   "source": [
    "print(\"body_text type:\", type(file['body_text']))\n",
    "print(\"body_text length:\", len(file['body_text']))\n",
    "print(\"body_text keys:\", file['body_text'][0].keys())"
   ]
  },
  {
   "cell_type": "code",
   "execution_count": 60,
   "metadata": {},
   "outputs": [
    {
     "name": "stdout",
     "output_type": "stream",
     "text": [
      "body_text content:\n",
      "[{'cite_spans': [{...}, {...}, {...}, {...}, {...}],\n",
      "  'ref_spans': [],\n",
      "  'section': 'INTRODUCTION',\n",
      "  'text': 'The periparturient period is an extremely important time for dairy '\n",
      "          'cows and the offspring they are carrying. During the 3 to 4 wk '\n",
      "          'before parturition, cows are not only challenged by exposure to '\n",
      "          'diseases, but they also must transfer Ig from serum into colostrum '\n",
      "          'to provide immunity for their calves. Unfortunately, the immune '\n",
      "          'system of dairy cows becomes depressed during the periparturient '\n",
      "          'period (Kehrli et al., 1989a, b) , causing them to be less able to '\n",
      "          'respond to challenges (Cai et al., 1994) . In addition, sufficient '\n",
      "          'passive transfer of immunity to the calf may be jeopardized if cows '\n",
      "          'are not able to transfer enough Ig into colostrum to provide '\n",
      "          'adequate colostrum quality (Stott and Fellah, 1983; Rea et al., '\n",
      "          '1996) . For instance, Perino et al. (1995) reported that calves '\n",
      "          'born to dams with mastitis had lower plasma protein and IgG '\n",
      "          'concentrations at 10 and 24 h after birth compared with calves born '\n",
      "          'to dams without mastitis.'},\n",
      " {'cite_spans': [{...}, {...}, {...}, {...}, {...}, {...}, {...}],\n",
      "  'ref_spans': [],\n",
      "  'section': 'INTRODUCTION',\n",
      "  'text': 'Diseases such as mastitis in periparturient cows and scours in '\n",
      "          'calves decrease performance and may require the use of therapeutic '\n",
      "          'agents. Greater than 62% of deaths in calves are attributed to '\n",
      "          'diarrhea or other digestive problems (NAHMS, 2003) . Additionally, '\n",
      "          'animals challenged by disease organisms have been shown to produce '\n",
      "          'several classes of cytokines that can increase metabolic rate, '\n",
      "          'decrease appetite, decrease milk production, and direct nutrients '\n",
      "          'away from growth to mount an immune response (Williams et al., '\n",
      "          '1997; Ferket and Qureshi, 1999; Sauber et al., 1999) . Often, '\n",
      "          'producers administer antibiotics to help combat diseases in cows '\n",
      "          'and calves. The European Union, however, recently passed '\n",
      "          'legislation restricting the use of antibiotics. Alternative '\n",
      "          'products are needed that may demonstrate performance, health, and '\n",
      "          'economic benefits similar to those provided by antibiotics. Feed '\n",
      "          'supplements that can decrease the use of antibiotics while '\n",
      "          'enhancing immune function and passive transfer of immunity are '\n",
      "          'needed to help dairy cows meet the challenges of the periparturient '\n",
      "          'period and aid in survival of their offspring. Examples of dietary '\n",
      "          'factors that can influence immune function range from energy and '\n",
      "          'protein to micronutrients such as vitamins A and E and trace '\n",
      "          'minerals (Goff and Stabel, 1990; Hogan et al., 1992; Franklin et '\n",
      "          'al., 1998) .'}]\n"
     ]
    }
   ],
   "source": [
    "print(\"body_text content:\")\n",
    "pprint(file['body_text'][:2], depth=3)"
   ]
  },
  {
   "cell_type": "code",
   "execution_count": 61,
   "metadata": {},
   "outputs": [
    {
     "name": "stdout",
     "output_type": "stream",
     "text": [
      "['INTRODUCTION',\n",
      " 'Animals and Animal Procedures',\n",
      " 'Sample Analysis',\n",
      " 'Statistical Analysis',\n",
      " 'Parameters for Dams',\n",
      " 'Figure 2.',\n",
      " 'Parameters for Colostrum',\n",
      " 'Parameters for Calves',\n",
      " 'DISCUSSION',\n",
      " 'CONCLUSIONS']\n"
     ]
    }
   ],
   "source": [
    "texts = [(di['section'], di['text']) for di in file['body_text']]\n",
    "texts_di = {di['section']: \"\" for di in file['body_text']}\n",
    "for section, text in texts:\n",
    "    texts_di[section] += text\n",
    "\n",
    "pprint(list(texts_di.keys()))"
   ]
  },
  {
   "cell_type": "code",
   "execution_count": 62,
   "metadata": {},
   "outputs": [
    {
     "name": "stdout",
     "output_type": "stream",
     "text": [
      "INTRODUCTION\n",
      "\n",
      "The periparturient period is an extremely important time for dairy cows and the offspring they are carrying. During the 3 to 4 wk before parturition, cows are not only challenged by exposure to diseases, but they also must transfer Ig from serum into colostrum to provide immunity for their calves. Unfortunately, the immune system of dairy cows becomes depressed during the periparturient period (Kehrli et al., 1989a, b) , causing them to be less able to respond to challenges (Cai et al., 1994) . In addition, sufficient passive transfer of immunity to the calf may be jeopardized if cows are not able to transfer enough Ig into colostrum to provide adequate colostrum quality (Stott and Fellah, 1983; Rea et al., 1996) . For instance, Perino et al. (1995) reported that calves born to dams with mastitis had lower plasma protein and IgG concentrations at 10 and 24 h after birth compared with calves born to dams without mastitis.Diseases such as mastitis in periparturient cows and scours in calves decrease performance and may require the use of therapeutic agents. Greater than 62% of deaths in calves are attributed to diarrhea or other digestive problems (NAHMS, 2003) . Additionally, animals challenged by disease organisms have been shown to produce several classes of cytokines that can increase metabolic rate, decrease appetite, decrease milk production, and direct nutrients away from growth to mount an immune response (Williams et al., 1997; Ferket and Qureshi, 1999; Sauber et al., 1999) . Often, producers administer antibiotics to help combat diseases in cows and calves. The European Union, however, recently passed legislation restricting the use of antibiotics. Alternative products are needed that may demonstrate performance, health, and economic benefits similar to those provided by antibiotics. Feed supplements that can decrease the use of antibiotics while enhancing immune function and passive transfer of immunity are needed to help dairy cows meet the challenges of the periparturient period and aid in survival of their offspring. Examples of dietary factors that can influence immune function range from energy and protein to micronutrients such as vitamins A and E and trace minerals (Goff and Stabel, 1990; Hogan et al., 1992; Franklin et al., 1998) .Mannan oligosaccharide (MOS) has enhanced performance, improved immune function, and inhibited colonization of the digestive tract by unfavorable microorganisms in a number of livestock species. In chickens, Ig concentrations were greater in birds receiving MOS compared with birds receiving the control diet (Savage et al., 1996) . Supplementation of broiler chicks with MOS beneficially influenced the bacterial populations in the digestive system (Spring et al., 2000) . Several studies (Vander Beke, 1997; Davis et al., 2002; White et al., 2002) have reported improvements in various measures of performance or immune function such as gain, feed conversion, lymphocyte transformation, and Ig co\n"
     ]
    }
   ],
   "source": [
    "body = \"\"\n",
    "\n",
    "for section, text in texts_di.items():\n",
    "    body += section\n",
    "    body += \"\\n\\n\"\n",
    "    body += text\n",
    "    body += \"\\n\\n\"\n",
    "\n",
    "print(body[:3000])"
   ]
  },
  {
   "cell_type": "code",
   "execution_count": 63,
   "metadata": {},
   "outputs": [
    {
     "name": "stdout",
     "output_type": "stream",
     "text": [
      "INTRODUCTION\n",
      "\n",
      "The periparturient period is an extremely important time for dairy cows and the offspring they are carrying. During the 3 to 4 wk before parturition, cows are not only challenged by exposure to diseases, but they also must transfer Ig from serum into colostrum to provide immunity for their calves. Unfortunately, the immune system of dairy cows becomes depressed during the periparturient period (Kehrli et al., 1989a, b) , causing them to be less able to respond to challenges (Cai et al., 1994) . In addition, sufficient passive transfer of immunity to the calf may be jeopardized if cows are not able to transfer enough Ig into colostrum to provide adequate colostrum quality (Stott and Fellah, 1983; Rea et al., 1996) . For instance, Perino et al. (1995) reported that calves born to dams with mastitis had lower plasma protein and IgG concentrations at 10 and 24 h after birth compared with calves born to dams without mastitis.Diseases such as mastitis in periparturient cows and scours in calves decrease performance and may require the use of therapeutic agents. Greater than 62% of deaths in calves are attributed to diarrhea or other digestive problems (NAHMS, 2003) . Additionally, animals challenged by disease organisms have been shown to produce several classes of cytokines that can increase metabolic rate, decrease appetite, decrease milk production, and direct nutrients away from growth to mount an immune response (Williams et al., 1997; Ferket and Qureshi, 1999; Sauber et al., 1999) . Often, producers administer antibiotics to help combat diseases in cows and calves. The European Union, however, recently passed legislation restricting the use of antibiotics. Alternative products are needed that may demonstrate performance, health, and economic benefits similar to those provided by antibiotics. Feed supplements that can decrease the use of antibiotics while enhancing immune function and passive transfer of immunity are needed to help dairy cows meet the challenges of the periparturient period and aid in survival of their offspring. Examples of dietary factors that can influence immune function range from energy and protein to micronutrients such as vitamins A and E and trace minerals (Goff and Stabel, 1990; Hogan et al., 1992; Franklin et al., 1998) .Mannan oligosaccharide (MOS) has enhanced performance, improved immune function, and inhibited colonization of the digestive tract by unfavorable microorganisms in a number of livestock species. In chickens, Ig concentrations were greater in birds receiving MOS compared with birds receiving the control diet (Savage et al., 1996) . Supplementation of broiler chicks with MOS beneficially influenced the bacterial populations in the digestive system (Spring et al., 2000) . Several studies (Vander Beke, 1997; Davis et al., 2002; White et al., 2002) have reported improvements in various measures of performance or immune function such as gain, feed conversion, lymphocyte transformation, and Ig co\n"
     ]
    }
   ],
   "source": [
    "print(format_body(file['body_text'])[:3000])"
   ]
  },
  {
   "cell_type": "markdown",
   "metadata": {},
   "source": [
    "# Custom License:Metadata"
   ]
  },
  {
   "cell_type": "code",
   "execution_count": 64,
   "metadata": {},
   "outputs": [
    {
     "name": "stdout",
     "output_type": "stream",
     "text": [
      "dict_keys(['title', 'authors'])\n"
     ]
    }
   ],
   "source": [
    "print(all_files[0]['metadata'].keys())"
   ]
  },
  {
   "cell_type": "code",
   "execution_count": 65,
   "metadata": {},
   "outputs": [
    {
     "name": "stdout",
     "output_type": "stream",
     "text": [
      "Immune Parameters of Dry Cows Fed Mannan Oligosaccharide and Subsequent Transfer of Immunity to Calves*\n"
     ]
    }
   ],
   "source": [
    "print(all_files[0]['metadata']['title'])"
   ]
  },
  {
   "cell_type": "code",
   "execution_count": 66,
   "metadata": {},
   "outputs": [
    {
     "name": "stdout",
     "output_type": "stream",
     "text": [
      "[{'affiliation': {'institution': 'University of Kentucky',\n",
      "                  'laboratory': '',\n",
      "                  'location': {'postCode': '40546-0215',\n",
      "                               'settlement': 'Lexington'}},\n",
      "  'email': '',\n",
      "  'first': 'S',\n",
      "  'last': 'Franklin',\n",
      "  'middle': ['T'],\n",
      "  'suffix': ''},\n",
      " {'affiliation': {'institution': 'University of Kentucky',\n",
      "                  'laboratory': '',\n",
      "                  'location': {'postCode': '40546-0215',\n",
      "                               'settlement': 'Lexington'}},\n",
      "  'email': '',\n",
      "  'first': 'M',\n",
      "  'last': 'Newman',\n",
      "  'middle': ['C'],\n",
      "  'suffix': ''},\n",
      " {'affiliation': {'institution': 'Venture Laboratories, Inc. Lexington',\n",
      "                  'laboratory': '',\n",
      "                  'location': {'postCode': '40511', 'region': 'Kentucky'}},\n",
      "  'email': '',\n",
      "  'first': 'K',\n",
      "  'last': 'Newman',\n",
      "  'middle': ['E'],\n",
      "  'suffix': ''}]\n"
     ]
    }
   ],
   "source": [
    "authors = all_files[0]['metadata']['authors']\n",
    "pprint(authors[:3])"
   ]
  },
  {
   "cell_type": "code",
   "execution_count": 67,
   "metadata": {},
   "outputs": [
    {
     "name": "stdout",
     "output_type": "stream",
     "text": [
      "Name: S T Franklin\n",
      "Affiliation: University of Kentucky, 40546-0215, Lexington\n",
      "\n",
      "Name: M C Newman\n",
      "Affiliation: University of Kentucky, 40546-0215, Lexington\n",
      "\n",
      "Name: K E Newman\n",
      "Affiliation: Venture Laboratories, Inc. Lexington, 40511, Kentucky\n",
      "\n",
      "Name: K I Meek\n",
      "Affiliation: University of Kentucky, 40546-0215, Lexington\n",
      "\n"
     ]
    }
   ],
   "source": [
    "for author in authors:\n",
    "    print(\"Name:\", format_name(author))\n",
    "    print(\"Affiliation:\", format_affiliation(author['affiliation']))\n",
    "    print()"
   ]
  },
  {
   "cell_type": "code",
   "execution_count": 68,
   "metadata": {},
   "outputs": [
    {
     "name": "stdout",
     "output_type": "stream",
     "text": [
      "{'authors': [{'affiliation': {'institution': 'Hospital Universitario Virgen '\n",
      "                                             'del Rocío',\n",
      "                              'laboratory': '',\n",
      "                              'location': {...}},\n",
      "              'email': '',\n",
      "              'first': 'A',\n",
      "              'last': 'Díaz',\n",
      "              'middle': [],\n",
      "              'suffix': ''},\n",
      "             {'affiliation': {'institution': 'Hospital Universitario Dr. Peset',\n",
      "                              'laboratory': '',\n",
      "                              'location': {...}},\n",
      "              'email': '',\n",
      "              'first': 'R',\n",
      "              'last': 'Zaragoza',\n",
      "              'middle': [],\n",
      "              'suffix': ''},\n",
      "             {'affiliation': {'institution': 'Hospital Universitario de '\n",
      "                                             \"Bellvitge, L'Hospitalet de \"\n",
      "                                             'Llobregat',\n",
      "                              'laboratory': '',\n",
      "                              'location': {...}},\n",
      "              'email': '',\n",
      "              'first': 'R',\n",
      "              'last': 'Granada',\n",
      "              'middle': [],\n",
      "              'suffix': ''},\n",
      "             {'affiliation': {'institution': 'Unidad de Enfermedades '\n",
      "                                             'Infecciosas, Hospital '\n",
      "                                             'Universitario La Fe',\n",
      "                              'laboratory': '',\n",
      "                              'location': {...}},\n",
      "              'email': '',\n",
      "              'first': 'M',\n",
      "              'last': 'Salavert',\n",
      "              'middle': [],\n",
      "              'suffix': ''}],\n",
      " 'title': 'Infecciones virales graves en pacientes inmunocompetentes'}\n"
     ]
    }
   ],
   "source": [
    "pprint(all_files[4]['metadata'], depth=4)"
   ]
  },
  {
   "cell_type": "code",
   "execution_count": 69,
   "metadata": {},
   "outputs": [
    {
     "name": "stdout",
     "output_type": "stream",
     "text": [
      "Formatting without affiliation:\n",
      "A Díaz, R Zaragoza, R Granada, M Salavert\n",
      "\n",
      "Formatting with affiliation:\n",
      "A Díaz (Hospital Universitario Virgen del Rocío, Sevilla, España), R Zaragoza (Hospital Universitario Dr. Peset, Valencia, España), R Granada (Hospital Universitario de Bellvitge, L'Hospitalet de Llobregat, Barcelona, España), M Salavert (Unidad de Enfermedades Infecciosas, Hospital Universitario La Fe, Valencia, España)\n"
     ]
    }
   ],
   "source": [
    "authors = all_files[4]['metadata']['authors']\n",
    "print(\"Formatting without affiliation:\")\n",
    "print(format_authors(authors, with_affiliation=False))\n",
    "print(\"\\nFormatting with affiliation:\")\n",
    "print(format_authors(authors, with_affiliation=True))"
   ]
  },
  {
   "cell_type": "markdown",
   "metadata": {},
   "source": [
    "# Custom License:Bibliography"
   ]
  },
  {
   "cell_type": "code",
   "execution_count": 70,
   "metadata": {},
   "outputs": [
    {
     "name": "stdout",
     "output_type": "stream",
     "text": [
      "[{'authors': [{'first': 'D', 'last': 'Archambault', 'middle': [], 'suffix': ''},\n",
      "              {'first': 'G', 'last': 'Morin', 'middle': [], 'suffix': ''},\n",
      "              {'first': 'Y', 'last': 'Elazhary', 'middle': [], 'suffix': ''},\n",
      "              {'first': 'R', 'last': 'Roy', 'middle': [...], 'suffix': ''},\n",
      "              {'first': 'J', 'last': 'Joncas', 'middle': [...], 'suffix': ''}],\n",
      "  'issn': '',\n",
      "  'other_ids': {},\n",
      "  'pages': '1084--1091',\n",
      "  'ref_id': 'b0',\n",
      "  'title': 'Immune response of pregnant heifers and cows to bovine rotavirus '\n",
      "           'inoculation and passive protection to rotavirus infection in '\n",
      "           'newborn calves fed colostral antibodies or colostral lymphocytes',\n",
      "  'venue': 'Am. J. Vet. Res',\n",
      "  'volume': '49',\n",
      "  'year': 1988},\n",
      " {'authors': [{'first': 'G',\n",
      "               'last': 'Barrington',\n",
      "               'middle': [...],\n",
      "               'suffix': ''},\n",
      "              {'first': 'T', 'last': 'Besser', 'middle': [...], 'suffix': ''},\n",
      "              {'first': 'W', 'last': 'Davis', 'middle': [...], 'suffix': ''},\n",
      "              {'first': 'C', 'last': 'Gay', 'middle': [...], 'suffix': ''},\n",
      "              {'first': 'J', 'last': 'Reeves', 'middle': [...], 'suffix': ''},\n",
      "              {'first': 'T',\n",
      "               'last': 'Mcfadden',\n",
      "               'middle': [...],\n",
      "               'suffix': ''}],\n",
      "  'issn': '',\n",
      "  'other_ids': {},\n",
      "  'pages': '86--93',\n",
      "  'ref_id': 'b1',\n",
      "  'title': 'Expression of immunoglobulin G1 receptors by bovine mammary '\n",
      "           'epithelial cells and mammary leukocytes',\n",
      "  'venue': 'J. Dairy Sci',\n",
      "  'volume': '80',\n",
      "  'year': 1997}]\n"
     ]
    }
   ],
   "source": [
    "bibs = list(file['bib_entries'].values())\n",
    "pprint(bibs[:2], depth=4)"
   ]
  },
  {
   "cell_type": "code",
   "execution_count": 71,
   "metadata": {},
   "outputs": [
    {
     "data": {
      "text/plain": [
       "'G M Barrington, T E Besser, W C Davis, C C Gay, J J Reeves, T B Mcfadden'"
      ]
     },
     "execution_count": 71,
     "metadata": {},
     "output_type": "execute_result"
    }
   ],
   "source": [
    "format_authors(bibs[1]['authors'], with_affiliation=False)"
   ]
  },
  {
   "cell_type": "code",
   "execution_count": 72,
   "metadata": {},
   "outputs": [
    {
     "name": "stdout",
     "output_type": "stream",
     "text": [
      "Immune response of pregnant heifers and cows to bovine rotavirus inoculation and passive protection to rotavirus infection in newborn calves fed colostral antibodies or colostral lymphocytes, D Archambault, G Morin, Y Elazhary, R S Roy, J H Joncas, Am. J. Vet. Res, 1988; Expression of immunoglobulin G1 receptors by bovine mammary epithelial cells and mammary leukocytes, G M Barrington, T E Besser, W C Davis, C C Gay, J J Reeves, T B Mcfadden, J. Dairy Sci, 1997; Passive immunity to bovine rotavirus infection associated with transfer of serum antibody into the intestinal lumen, T E Besser, C C Gay, T C Mcguire, J F Evermann, J. Virol, 1988; Transfer of functional immunoglobulin G (IgG) antibody into the gastrointestinal tract accounts for IgG clearance in calves, T E Besser, T C Mcguire, C C Gay, L C Pritchett, J. Virol, 1988; Association between neutrophil function and periparturient disorders in cows, T Q Cai, P G Weston, L A Lund, B Brodie, D J Mckenna, W C Wagner, Am. J. Vet. Res, 1994\n"
     ]
    }
   ],
   "source": [
    "bib_formatted = format_bib(bibs[:5])\n",
    "print(bib_formatted)"
   ]
  },
  {
   "cell_type": "markdown",
   "metadata": {},
   "source": [
    "# Custom License:Generate CSV Files."
   ]
  },
  {
   "cell_type": "code",
   "execution_count": 73,
   "metadata": {},
   "outputs": [
    {
     "data": {
      "application/vnd.jupyter.widget-view+json": {
       "model_id": "802a3383d9d24bfb890e2c481c6dc672",
       "version_major": 2,
       "version_minor": 0
      },
      "text/plain": [
       "HBox(children=(FloatProgress(value=0.0, max=16959.0), HTML(value='')))"
      ]
     },
     "metadata": {},
     "output_type": "display_data"
    },
    {
     "name": "stdout",
     "output_type": "stream",
     "text": [
      "\n"
     ]
    }
   ],
   "source": [
    "cleaned_files = []\n",
    "\n",
    "for file in tqdm(all_files):\n",
    "    features = [\n",
    "        file['paper_id'],\n",
    "        file['metadata']['title'],\n",
    "        format_authors(file['metadata']['authors']),\n",
    "        format_authors(file['metadata']['authors'], \n",
    "                       with_affiliation=True),\n",
    "        format_body(file['abstract']),\n",
    "        format_body(file['body_text']),\n",
    "        format_bib(file['bib_entries']),\n",
    "        file['metadata']['authors'],\n",
    "        file['bib_entries']\n",
    "    ]\n",
    "    \n",
    "    cleaned_files.append(features)"
   ]
  },
  {
   "cell_type": "code",
   "execution_count": 74,
   "metadata": {},
   "outputs": [
    {
     "data": {
      "text/html": [
       "<div>\n",
       "<style scoped>\n",
       "    .dataframe tbody tr th:only-of-type {\n",
       "        vertical-align: middle;\n",
       "    }\n",
       "\n",
       "    .dataframe tbody tr th {\n",
       "        vertical-align: top;\n",
       "    }\n",
       "\n",
       "    .dataframe thead th {\n",
       "        text-align: right;\n",
       "    }\n",
       "</style>\n",
       "<table border=\"1\" class=\"dataframe\">\n",
       "  <thead>\n",
       "    <tr style=\"text-align: right;\">\n",
       "      <th></th>\n",
       "      <th>paper_id</th>\n",
       "      <th>title</th>\n",
       "      <th>authors</th>\n",
       "      <th>affiliations</th>\n",
       "      <th>abstract</th>\n",
       "      <th>text</th>\n",
       "      <th>bibliography</th>\n",
       "      <th>raw_authors</th>\n",
       "      <th>raw_bibliography</th>\n",
       "    </tr>\n",
       "  </thead>\n",
       "  <tbody>\n",
       "    <tr>\n",
       "      <th>0</th>\n",
       "      <td>14572a7a9b3e92b960d92d9755979eb94c448bb5</td>\n",
       "      <td>Immune Parameters of Dry Cows Fed Mannan Oligo...</td>\n",
       "      <td>S T Franklin, M C Newman, K E Newman, K I Meek</td>\n",
       "      <td>S T Franklin (University of Kentucky, 40546-02...</td>\n",
       "      <td>Abstract\\n\\nThe objective of this study was to...</td>\n",
       "      <td>INTRODUCTION\\n\\nThe periparturient period is a...</td>\n",
       "      <td>Immune response of pregnant heifers and cows t...</td>\n",
       "      <td>[{'first': 'S', 'middle': ['T'], 'last': 'Fran...</td>\n",
       "      <td>{'BIBREF0': {'ref_id': 'b0', 'title': 'Immune ...</td>\n",
       "    </tr>\n",
       "    <tr>\n",
       "      <th>1</th>\n",
       "      <td>bb790e8366da63c4f5e2d64fa7bbd5673b93063c</td>\n",
       "      <td>Discontinuous Transcription or RNA Processing ...</td>\n",
       "      <td>Beate Schwer, Paolo Vista, Jan C Vos, Hendrik ...</td>\n",
       "      <td>Beate Schwer, Paolo Vista, Jan C Vos, Hendrik ...</td>\n",
       "      <td></td>\n",
       "      <td>Discontinuous\\n\\nTranscription or RNA Processi...</td>\n",
       "      <td>Poly (riboadenylic acid) preferentially inhibi...</td>\n",
       "      <td>[{'first': 'Beate', 'middle': [], 'last': 'Sch...</td>\n",
       "      <td>{'BIBREF0': {'ref_id': 'b0', 'title': 'Poly (r...</td>\n",
       "    </tr>\n",
       "    <tr>\n",
       "      <th>2</th>\n",
       "      <td>24f204ce5a1a4d752dc9ea7525082d225caed8b3</td>\n",
       "      <td></td>\n",
       "      <td></td>\n",
       "      <td></td>\n",
       "      <td></td>\n",
       "      <td>Letter to the Editor\\n\\nThe non-contact handhe...</td>\n",
       "      <td>Novel coronavirus is putting the whole world o...</td>\n",
       "      <td>[]</td>\n",
       "      <td>{'BIBREF0': {'ref_id': 'b0', 'title': 'Novel c...</td>\n",
       "    </tr>\n",
       "    <tr>\n",
       "      <th>3</th>\n",
       "      <td>ab78a42c688ac199a2d5669e42ee4c39ff0df2b8</td>\n",
       "      <td>A real-time convective PCR machine in a capill...</td>\n",
       "      <td>Yi-Fan Hsieh, Da-Sheng Lee, Ping-Hei Chen, Sha...</td>\n",
       "      <td>Yi-Fan Hsieh (National Taiwan University, 106,...</td>\n",
       "      <td>Abstract\\n\\nThis research reports the design, ...</td>\n",
       "      <td>Introduction\\n\\nMullis et al. developed the po...</td>\n",
       "      <td>The Polymerase Chain Reaction, K B Mullis, F F...</td>\n",
       "      <td>[{'first': 'Yi-Fan', 'middle': [], 'last': 'Hs...</td>\n",
       "      <td>{'BIBREF0': {'ref_id': 'b0', 'title': 'The Pol...</td>\n",
       "    </tr>\n",
       "    <tr>\n",
       "      <th>4</th>\n",
       "      <td>31105078a2953217223699d09c6a80d0f5edfdf6</td>\n",
       "      <td>Infecciones virales graves en pacientes inmuno...</td>\n",
       "      <td>A Díaz, R Zaragoza, R Granada, M Salavert</td>\n",
       "      <td>A Díaz (Hospital Universitario Virgen del Rocí...</td>\n",
       "      <td>Abstract\\n\\nRecibido el 21 de diciembre de 201...</td>\n",
       "      <td>\\n\\nFurthermore, ventilator-associated pneumon...</td>\n",
       "      <td>High prevalence of respiratory viral infecions...</td>\n",
       "      <td>[{'first': 'A', 'middle': [], 'last': 'Díaz', ...</td>\n",
       "      <td>{'BIBREF0': {'ref_id': 'b0', 'title': 'High pr...</td>\n",
       "    </tr>\n",
       "  </tbody>\n",
       "</table>\n",
       "</div>"
      ],
      "text/plain": [
       "                                   paper_id  \\\n",
       "0  14572a7a9b3e92b960d92d9755979eb94c448bb5   \n",
       "1  bb790e8366da63c4f5e2d64fa7bbd5673b93063c   \n",
       "2  24f204ce5a1a4d752dc9ea7525082d225caed8b3   \n",
       "3  ab78a42c688ac199a2d5669e42ee4c39ff0df2b8   \n",
       "4  31105078a2953217223699d09c6a80d0f5edfdf6   \n",
       "\n",
       "                                               title  \\\n",
       "0  Immune Parameters of Dry Cows Fed Mannan Oligo...   \n",
       "1  Discontinuous Transcription or RNA Processing ...   \n",
       "2                                                      \n",
       "3  A real-time convective PCR machine in a capill...   \n",
       "4  Infecciones virales graves en pacientes inmuno...   \n",
       "\n",
       "                                             authors  \\\n",
       "0     S T Franklin, M C Newman, K E Newman, K I Meek   \n",
       "1  Beate Schwer, Paolo Vista, Jan C Vos, Hendrik ...   \n",
       "2                                                      \n",
       "3  Yi-Fan Hsieh, Da-Sheng Lee, Ping-Hei Chen, Sha...   \n",
       "4          A Díaz, R Zaragoza, R Granada, M Salavert   \n",
       "\n",
       "                                        affiliations  \\\n",
       "0  S T Franklin (University of Kentucky, 40546-02...   \n",
       "1  Beate Schwer, Paolo Vista, Jan C Vos, Hendrik ...   \n",
       "2                                                      \n",
       "3  Yi-Fan Hsieh (National Taiwan University, 106,...   \n",
       "4  A Díaz (Hospital Universitario Virgen del Rocí...   \n",
       "\n",
       "                                            abstract  \\\n",
       "0  Abstract\\n\\nThe objective of this study was to...   \n",
       "1                                                      \n",
       "2                                                      \n",
       "3  Abstract\\n\\nThis research reports the design, ...   \n",
       "4  Abstract\\n\\nRecibido el 21 de diciembre de 201...   \n",
       "\n",
       "                                                text  \\\n",
       "0  INTRODUCTION\\n\\nThe periparturient period is a...   \n",
       "1  Discontinuous\\n\\nTranscription or RNA Processi...   \n",
       "2  Letter to the Editor\\n\\nThe non-contact handhe...   \n",
       "3  Introduction\\n\\nMullis et al. developed the po...   \n",
       "4  \\n\\nFurthermore, ventilator-associated pneumon...   \n",
       "\n",
       "                                        bibliography  \\\n",
       "0  Immune response of pregnant heifers and cows t...   \n",
       "1  Poly (riboadenylic acid) preferentially inhibi...   \n",
       "2  Novel coronavirus is putting the whole world o...   \n",
       "3  The Polymerase Chain Reaction, K B Mullis, F F...   \n",
       "4  High prevalence of respiratory viral infecions...   \n",
       "\n",
       "                                         raw_authors  \\\n",
       "0  [{'first': 'S', 'middle': ['T'], 'last': 'Fran...   \n",
       "1  [{'first': 'Beate', 'middle': [], 'last': 'Sch...   \n",
       "2                                                 []   \n",
       "3  [{'first': 'Yi-Fan', 'middle': [], 'last': 'Hs...   \n",
       "4  [{'first': 'A', 'middle': [], 'last': 'Díaz', ...   \n",
       "\n",
       "                                    raw_bibliography  \n",
       "0  {'BIBREF0': {'ref_id': 'b0', 'title': 'Immune ...  \n",
       "1  {'BIBREF0': {'ref_id': 'b0', 'title': 'Poly (r...  \n",
       "2  {'BIBREF0': {'ref_id': 'b0', 'title': 'Novel c...  \n",
       "3  {'BIBREF0': {'ref_id': 'b0', 'title': 'The Pol...  \n",
       "4  {'BIBREF0': {'ref_id': 'b0', 'title': 'High pr...  "
      ]
     },
     "execution_count": 74,
     "metadata": {},
     "output_type": "execute_result"
    }
   ],
   "source": [
    "col_names = [\n",
    "    'paper_id', \n",
    "    'title', \n",
    "    'authors',\n",
    "    'affiliations', \n",
    "    'abstract', \n",
    "    'text', \n",
    "    'bibliography',\n",
    "    'raw_authors',\n",
    "    'raw_bibliography'\n",
    "]\n",
    "\n",
    "custom_df = pd.DataFrame(cleaned_files, columns=col_names)\n",
    "custom_df.head()"
   ]
  },
  {
   "cell_type": "markdown",
   "metadata": {},
   "source": [
    "# Non Commercial Use:Exploration"
   ]
  },
  {
   "cell_type": "code",
   "execution_count": 75,
   "metadata": {},
   "outputs": [
    {
     "name": "stdout",
     "output_type": "stream",
     "text": [
      "Number of articles retrieved from Commercial Use: 2353\n"
     ]
    }
   ],
   "source": [
    "noncommuse_dir = '/kaggle/input/CORD-19-research-challenge/noncomm_use_subset/noncomm_use_subset/'\n",
    "filenames = os.listdir(noncommuse_dir)\n",
    "print(\"Number of articles retrieved from Commercial Use:\", len(filenames))"
   ]
  },
  {
   "cell_type": "code",
   "execution_count": 76,
   "metadata": {},
   "outputs": [],
   "source": [
    "all_files = []\n",
    "\n",
    "for filename in filenames:\n",
    "    filename = noncommuse_dir + filename\n",
    "    file = json.load(open(filename, 'rb'))\n",
    "    all_files.append(file)"
   ]
  },
  {
   "cell_type": "code",
   "execution_count": 77,
   "metadata": {},
   "outputs": [
    {
     "name": "stdout",
     "output_type": "stream",
     "text": [
      "Dictionary keys: dict_keys(['paper_id', 'metadata', 'abstract', 'body_text', 'bib_entries', 'ref_entries', 'back_matter'])\n"
     ]
    }
   ],
   "source": [
    "file = all_files[0]\n",
    "print(\"Dictionary keys:\", file.keys())"
   ]
  },
  {
   "cell_type": "markdown",
   "metadata": {},
   "source": [
    "# Non Commercial Use:Abstract"
   ]
  },
  {
   "cell_type": "code",
   "execution_count": 78,
   "metadata": {},
   "outputs": [
    {
     "name": "stdout",
     "output_type": "stream",
     "text": [
      "[{'cite_spans': [],\n",
      "  'ref_spans': [],\n",
      "  'section': 'Abstract',\n",
      "  'text': 'Mesenchymal stem cells have been widely studied to promote local '\n",
      "          'bone regeneration of osteonecrosis of the femoral head (ONFH). '\n",
      "          'Previous studies observed that dimethyloxaloylglycine (DMOG) '\n",
      "          'enhanced the angiogenic and osteogenic activity of mesenchymal stem '\n",
      "          'cells by activating the expression of hypoxia inducible factor-1α '\n",
      "          '(HIF-1α), thereby improving the bone repair capacity of mesenchymal '\n",
      "          'stem cells. In the present study, it was investigated whether DMOG '\n",
      "          'could increase the bone repair capacity of adipose-derived stem '\n",
      "          'cells (ASCs) in the treatment of ONFH. Western blot analysis was '\n",
      "          'performed to detect HIF-1α protein expression in ASCs treated with '\n",
      "          'different concentrations of DMOG. The results showed DMOG enhanced '\n",
      "          'HIF-1α expression in ASCs in a dose-dependent manner at least for 7 '\n",
      "          'days. Furthermore, DMOG-treated ASCs were transplanted into the '\n",
      "          'necrotic area of a rabbit model of ONFH to treat the disease. Four '\n",
      "          'weeks later, micro-computed tomography (CT) quantitative analysis '\n",
      "          'showed that 58.8±7.4% of the necrotic area was regenerated in the '\n",
      "          'DMOG-treated ASCs transplantation group, 45.5±3.4% in normal ASCs '\n",
      "          'transplantation group, 25.2±2.8% in only core decompression group '\n",
      "          'and 10.6±2.6% in the untreated group. Histological analysis showed '\n",
      "          'that transplantation of DMOG-treated ASCs clearly improved the bone '\n",
      "          'regeneration of the necrotic area compared with the other three '\n",
      "          'groups. Micro-CT and immunohistochemical analysis demonstrated the '\n",
      "          'revasculation of the necrotic area were also increased '\n",
      "          'significantly in the DMOG-treated ASC group compared with the '\n",
      "          'control groups. Thus, it is hypothesized that DMOG could increase '\n",
      "          'the bone repair capacity of ASCs through enhancing HIF-1α '\n",
      "          'expression in the treatment of ONFH.'}]\n"
     ]
    }
   ],
   "source": [
    "pprint(file['abstract'])"
   ]
  },
  {
   "cell_type": "markdown",
   "metadata": {},
   "source": [
    "# Non Commercial Use:Body Text"
   ]
  },
  {
   "cell_type": "code",
   "execution_count": 79,
   "metadata": {},
   "outputs": [
    {
     "name": "stdout",
     "output_type": "stream",
     "text": [
      "body_text type: <class 'list'>\n",
      "body_text length: 28\n",
      "body_text keys: dict_keys(['text', 'cite_spans', 'ref_spans', 'section'])\n"
     ]
    }
   ],
   "source": [
    "print(\"body_text type:\", type(file['body_text']))\n",
    "print(\"body_text length:\", len(file['body_text']))\n",
    "print(\"body_text keys:\", file['body_text'][0].keys())"
   ]
  },
  {
   "cell_type": "code",
   "execution_count": 80,
   "metadata": {},
   "outputs": [
    {
     "name": "stdout",
     "output_type": "stream",
     "text": [
      "body_text content:\n",
      "[{'cite_spans': [{...}, {...}, {...}, {...}],\n",
      "  'ref_spans': [],\n",
      "  'section': 'Introduction',\n",
      "  'text': 'Osteonecrosis of the femoral head (ONFH) is a pathological process '\n",
      "          'primarily caused by interrupted local blood circulation, which can '\n",
      "          'cause apoptosis of osteocytes and osseous tissue necrosis (1, 2) . '\n",
      "          'The lack of effective therapy for ONFH is a difficulty that needs '\n",
      "          'to be overcome in clinical practice. Several methods have been used '\n",
      "          'to treat early-stage ONFH, such as drug therapy, core '\n",
      "          'decompression, vascularized bone grafting and rotational osteotomy. '\n",
      "          'However, the clinical results of these methods are not satisfactory '\n",
      "          '(3, 4) .'},\n",
      " {'cite_spans': [{...},\n",
      "                 {...},\n",
      "                 {...},\n",
      "                 {...},\n",
      "                 {...},\n",
      "                 {...},\n",
      "                 {...},\n",
      "                 {...},\n",
      "                 {...},\n",
      "                 {...},\n",
      "                 {...},\n",
      "                 {...}],\n",
      "  'ref_spans': [],\n",
      "  'section': 'Introduction',\n",
      "  'text': 'Previous studies have described the use of mesenchymal stem cells '\n",
      "          '(MSCs) to promote local bone repair and healing (5, 6) . MSCs are '\n",
      "          'pluripotent and can differentiate into several lineages of cells, '\n",
      "          'which have shown potency in the treatment of numerous ischemic '\n",
      "          'diseases, such as myocardial infarction (7, 8) , nerve injury (9) '\n",
      "          'and bone defect (10) . Prior studies have found that the '\n",
      "          'implantation of MSCs into the necrotic area of the femoral head was '\n",
      "          'able to improve local bone regeneration (11, 12) . MSCs are able to '\n",
      "          'differentiate into osteoblasts to promote local bone healing '\n",
      "          'directly (13, 14) . Furthermore, MSCs are able to secrete growth '\n",
      "          'factors such as vascular endothelial growth factor (VEGF), '\n",
      "          'angiopoietin 1, stromal cell-derived factor 1 and basic fibroblast '\n",
      "          'growth factor, which have angiogenic potency and can promote local '\n",
      "          'revascularization, thereby improving bone healing indirectly (15, '\n",
      "          '16) .'}]\n"
     ]
    }
   ],
   "source": [
    "print(\"body_text content:\")\n",
    "pprint(file['body_text'][:2], depth=3)"
   ]
  },
  {
   "cell_type": "code",
   "execution_count": 81,
   "metadata": {},
   "outputs": [
    {
     "name": "stdout",
     "output_type": "stream",
     "text": [
      "['Introduction',\n",
      " 'Materials and methods',\n",
      " 'Micro-computed tomography (CT) scanning.',\n",
      " 'Results',\n",
      " 'Assessment of bone regeneration in the necrotic area.',\n",
      " 'Assessment of neovascularization in the necrotic area.',\n",
      " 'HIF-1α expression in ASCs in vivo.',\n",
      " 'Discussion']\n"
     ]
    }
   ],
   "source": [
    "texts = [(di['section'], di['text']) for di in file['body_text']]\n",
    "texts_di = {di['section']: \"\" for di in file['body_text']}\n",
    "for section, text in texts:\n",
    "    texts_di[section] += text\n",
    "\n",
    "pprint(list(texts_di.keys()))"
   ]
  },
  {
   "cell_type": "code",
   "execution_count": 82,
   "metadata": {},
   "outputs": [
    {
     "name": "stdout",
     "output_type": "stream",
     "text": [
      "Introduction\n",
      "\n",
      "Osteonecrosis of the femoral head (ONFH) is a pathological process primarily caused by interrupted local blood circulation, which can cause apoptosis of osteocytes and osseous tissue necrosis (1, 2) . The lack of effective therapy for ONFH is a difficulty that needs to be overcome in clinical practice. Several methods have been used to treat early-stage ONFH, such as drug therapy, core decompression, vascularized bone grafting and rotational osteotomy. However, the clinical results of these methods are not satisfactory (3, 4) .Previous studies have described the use of mesenchymal stem cells (MSCs) to promote local bone repair and healing (5, 6) . MSCs are pluripotent and can differentiate into several lineages of cells, which have shown potency in the treatment of numerous ischemic diseases, such as myocardial infarction (7, 8) , nerve injury (9) and bone defect (10) . Prior studies have found that the implantation of MSCs into the necrotic area of the femoral head was able to improve local bone regeneration (11, 12) . MSCs are able to differentiate into osteoblasts to promote local bone healing directly (13, 14) . Furthermore, MSCs are able to secrete growth factors such as vascular endothelial growth factor (VEGF), angiopoietin 1, stromal cell-derived factor 1 and basic fibroblast growth factor, which have angiogenic potency and can promote local revascularization, thereby improving bone healing indirectly (15, 16) .Hypoxia inducible factor-1α (HIF-1α) is a key mediator of the adaptive cell response to hypoxia, which controls the expression of numerous genes and modulates cell proliferation, differentiation and pluripotency (17) . Previous experiments have suggested that HIF-1α could enhance the osteogenic differentiation of MSCs and the expression of angiogenic factors, thus promoting their bone healing capacity (18) . In a prior study, we implanted HIF-1α transgenic MSCs into the necrotic area of the femoral head, and found that this treatment resulted in improved osteogenic and angiogenic capacity in vitro and in vivo, leading to better results for early-stage ONFH (19) . However, the risks of lentivirus vectors, such as tumorigenesis (20) , should be seriously considered before clinical application.Dimethyloxalylglycine (DMOG) is a cell permeable prolyl-4-hydroxylase inhibitor, which is able to stabilize expression of HIF-1α in cells at normal oxygen tension (21) . Therefore, DMOG is hypothesized to be an alternative strategy for enhancing HIF-1α expression in MSCs. In a previous study, we demonstrated that DMOG could increase HIF-1α expression in MSCs, accordingly enhancing their bone healing capacity (22) . In the present study, we investigated whether DMOG was able to enhance the bone repair capacity of adipose-derived stem cells (ASCs) in treating early-stage ONFH.\n",
      "\n",
      "Materials and methods\n",
      "\n",
      "Animals. Healthy New Zealand rabbits weighing 2.5-3 kg and aged 2-3 months were provided by the Experimental Animal Centre of Shanghai \n"
     ]
    }
   ],
   "source": [
    "body = \"\"\n",
    "\n",
    "for section, text in texts_di.items():\n",
    "    body += section\n",
    "    body += \"\\n\\n\"\n",
    "    body += text\n",
    "    body += \"\\n\\n\"\n",
    "\n",
    "print(body[:3000])"
   ]
  },
  {
   "cell_type": "code",
   "execution_count": 83,
   "metadata": {},
   "outputs": [
    {
     "name": "stdout",
     "output_type": "stream",
     "text": [
      "Introduction\n",
      "\n",
      "Osteonecrosis of the femoral head (ONFH) is a pathological process primarily caused by interrupted local blood circulation, which can cause apoptosis of osteocytes and osseous tissue necrosis (1, 2) . The lack of effective therapy for ONFH is a difficulty that needs to be overcome in clinical practice. Several methods have been used to treat early-stage ONFH, such as drug therapy, core decompression, vascularized bone grafting and rotational osteotomy. However, the clinical results of these methods are not satisfactory (3, 4) .Previous studies have described the use of mesenchymal stem cells (MSCs) to promote local bone repair and healing (5, 6) . MSCs are pluripotent and can differentiate into several lineages of cells, which have shown potency in the treatment of numerous ischemic diseases, such as myocardial infarction (7, 8) , nerve injury (9) and bone defect (10) . Prior studies have found that the implantation of MSCs into the necrotic area of the femoral head was able to improve local bone regeneration (11, 12) . MSCs are able to differentiate into osteoblasts to promote local bone healing directly (13, 14) . Furthermore, MSCs are able to secrete growth factors such as vascular endothelial growth factor (VEGF), angiopoietin 1, stromal cell-derived factor 1 and basic fibroblast growth factor, which have angiogenic potency and can promote local revascularization, thereby improving bone healing indirectly (15, 16) .Hypoxia inducible factor-1α (HIF-1α) is a key mediator of the adaptive cell response to hypoxia, which controls the expression of numerous genes and modulates cell proliferation, differentiation and pluripotency (17) . Previous experiments have suggested that HIF-1α could enhance the osteogenic differentiation of MSCs and the expression of angiogenic factors, thus promoting their bone healing capacity (18) . In a prior study, we implanted HIF-1α transgenic MSCs into the necrotic area of the femoral head, and found that this treatment resulted in improved osteogenic and angiogenic capacity in vitro and in vivo, leading to better results for early-stage ONFH (19) . However, the risks of lentivirus vectors, such as tumorigenesis (20) , should be seriously considered before clinical application.Dimethyloxalylglycine (DMOG) is a cell permeable prolyl-4-hydroxylase inhibitor, which is able to stabilize expression of HIF-1α in cells at normal oxygen tension (21) . Therefore, DMOG is hypothesized to be an alternative strategy for enhancing HIF-1α expression in MSCs. In a previous study, we demonstrated that DMOG could increase HIF-1α expression in MSCs, accordingly enhancing their bone healing capacity (22) . In the present study, we investigated whether DMOG was able to enhance the bone repair capacity of adipose-derived stem cells (ASCs) in treating early-stage ONFH.\n",
      "\n",
      "Materials and methods\n",
      "\n",
      "Animals. Healthy New Zealand rabbits weighing 2.5-3 kg and aged 2-3 months were provided by the Experimental Animal Centre of Shanghai \n"
     ]
    }
   ],
   "source": [
    "print(format_body(file['body_text'])[:3000])"
   ]
  },
  {
   "cell_type": "markdown",
   "metadata": {},
   "source": [
    "# Non Commercial Use:Metadata"
   ]
  },
  {
   "cell_type": "code",
   "execution_count": 84,
   "metadata": {},
   "outputs": [
    {
     "name": "stdout",
     "output_type": "stream",
     "text": [
      "dict_keys(['title', 'authors'])\n"
     ]
    }
   ],
   "source": [
    "print(all_files[0]['metadata'].keys())"
   ]
  },
  {
   "cell_type": "code",
   "execution_count": 85,
   "metadata": {},
   "outputs": [
    {
     "name": "stdout",
     "output_type": "stream",
     "text": [
      "EXPERIMENTAL AND THERAPEUTIC MEDICINE Dimethyloxaloylglycine increases bone repair capacity of adipose-derived stem cells in the treatment of osteonecrosis of the femoral head\n"
     ]
    }
   ],
   "source": [
    "print(all_files[0]['metadata']['title'])"
   ]
  },
  {
   "cell_type": "code",
   "execution_count": 86,
   "metadata": {},
   "outputs": [
    {
     "name": "stdout",
     "output_type": "stream",
     "text": [
      "[{'affiliation': {'institution': 'Shanghai Jiao Tong University',\n",
      "                  'laboratory': '',\n",
      "                  'location': {'country': 'P.R. China',\n",
      "                               'postCode': '200233',\n",
      "                               'settlement': 'Shanghai'}},\n",
      "  'email': '',\n",
      "  'first': 'Zhen-Hong',\n",
      "  'last': 'Zhu',\n",
      "  'middle': [],\n",
      "  'suffix': ''},\n",
      " {'affiliation': {'institution': 'Shanghai Jiao Tong University',\n",
      "                  'laboratory': '',\n",
      "                  'location': {'country': 'P.R. China',\n",
      "                               'postCode': '200233',\n",
      "                               'settlement': 'Shanghai'}},\n",
      "  'email': '',\n",
      "  'first': 'Wen-Qi',\n",
      "  'last': 'Song',\n",
      "  'middle': [],\n",
      "  'suffix': ''},\n",
      " {'affiliation': {'institution': 'Shanghai Jiao Tong University',\n",
      "                  'laboratory': '',\n",
      "                  'location': {'country': 'P.R. China',\n",
      "                               'postCode': '200233',\n",
      "                               'settlement': 'Shanghai'}},\n",
      "  'email': '',\n",
      "  'first': 'Chang-Qing',\n",
      "  'last': 'Zhang',\n",
      "  'middle': [],\n",
      "  'suffix': ''}]\n"
     ]
    }
   ],
   "source": [
    "authors = all_files[0]['metadata']['authors']\n",
    "pprint(authors[:3])"
   ]
  },
  {
   "cell_type": "code",
   "execution_count": 87,
   "metadata": {},
   "outputs": [
    {
     "name": "stdout",
     "output_type": "stream",
     "text": [
      "Name: Zhen-Hong Zhu\n",
      "Affiliation: Shanghai Jiao Tong University, 200233, Shanghai, P.R. China\n",
      "\n",
      "Name: Wen-Qi Song\n",
      "Affiliation: Shanghai Jiao Tong University, 200233, Shanghai, P.R. China\n",
      "\n",
      "Name: Chang-Qing Zhang\n",
      "Affiliation: Shanghai Jiao Tong University, 200233, Shanghai, P.R. China\n",
      "\n",
      "Name: Ji-Min Yin\n",
      "Affiliation: Jiao Tong University, 600 Yishan Road, 200233, Shanghai, P.R. China\n",
      "\n"
     ]
    }
   ],
   "source": [
    "for author in authors:\n",
    "    print(\"Name:\", format_name(author))\n",
    "    print(\"Affiliation:\", format_affiliation(author['affiliation']))\n",
    "    print()"
   ]
  },
  {
   "cell_type": "code",
   "execution_count": 88,
   "metadata": {},
   "outputs": [
    {
     "name": "stdout",
     "output_type": "stream",
     "text": [
      "{'authors': [{'affiliation': {'institution': 'Johns Hopkins Bloomberg School '\n",
      "                                             'of Public Health',\n",
      "                              'laboratory': '',\n",
      "                              'location': {...}},\n",
      "              'email': '',\n",
      "              'first': 'Stacey',\n",
      "              'last': 'Burgess',\n",
      "              'middle': ['L'],\n",
      "              'suffix': ''},\n",
      "             {'affiliation': {'institution': 'Johns Hopkins Bloomberg School '\n",
      "                                             'of Public Health',\n",
      "                              'laboratory': '',\n",
      "                              'location': {...}},\n",
      "              'email': '',\n",
      "              'first': 'Erica',\n",
      "              'last': 'Buonomo',\n",
      "              'middle': [],\n",
      "              'suffix': ''},\n",
      "             {'affiliation': {'institution': 'Johns Hopkins Bloomberg School '\n",
      "                                             'of Public Health',\n",
      "                              'laboratory': '',\n",
      "                              'location': {...}},\n",
      "              'email': '',\n",
      "              'first': 'Maureen',\n",
      "              'last': 'Carey',\n",
      "              'middle': [],\n",
      "              'suffix': ''},\n",
      "             {'affiliation': {'institution': 'Johns Hopkins Bloomberg School '\n",
      "                                             'of Public Health',\n",
      "                              'laboratory': '',\n",
      "                              'location': {...}},\n",
      "              'email': '',\n",
      "              'first': 'Carrie',\n",
      "              'last': 'Cowardin',\n",
      "              'middle': [],\n",
      "              'suffix': ''},\n",
      "             {'affiliation': {'institution': 'Johns Hopkins Bloomberg School '\n",
      "                                             'of Public Health',\n",
      "                              'laboratory': '',\n",
      "                              'location': {...}},\n",
      "              'email': '',\n",
      "              'first': 'Caitlin',\n",
      "              'last': 'Naylor',\n",
      "              'middle': [],\n",
      "              'suffix': ''},\n",
      "             {'affiliation': {'institution': 'Johns Hopkins Bloomberg School '\n",
      "                                             'of Public Health',\n",
      "                              'laboratory': '',\n",
      "                              'location': {...}},\n",
      "              'email': '',\n",
      "              'first': 'Zannatun',\n",
      "              'last': 'Noor',\n",
      "              'middle': [],\n",
      "              'suffix': ''},\n",
      "             {'affiliation': {},\n",
      "              'email': '',\n",
      "              'first': 'Marsha',\n",
      "              'last': 'Wills-Karp',\n",
      "              'middle': [],\n",
      "              'suffix': ''},\n",
      "             {'affiliation': {'institution': 'Johns Hopkins Bloomberg School '\n",
      "                                             'of Public Health',\n",
      "                              'laboratory': '',\n",
      "                              'location': {...}},\n",
      "              'email': '',\n",
      "              'first': 'William',\n",
      "              'last': 'Petri',\n",
      "              'middle': ['A'],\n",
      "              'suffix': ''},\n",
      "             {'affiliation': {},\n",
      "              'email': '',\n",
      "              'first': 'Burgess',\n",
      "              'last': 'Sl',\n",
      "              'middle': [],\n",
      "              'suffix': ''},\n",
      "             {'affiliation': {},\n",
      "              'email': '',\n",
      "              'first': 'Buonomo',\n",
      "              'last': '',\n",
      "              'middle': ['E'],\n",
      "              'suffix': ''},\n",
      "             {'affiliation': {},\n",
      "              'email': '',\n",
      "              'first': 'Carey',\n",
      "              'last': 'Cowardin',\n",
      "              'middle': ['M'],\n",
      "              'suffix': ''},\n",
      "             {'affiliation': {},\n",
      "              'email': '',\n",
      "              'first': 'C',\n",
      "              'last': '',\n",
      "              'middle': [],\n",
      "              'suffix': ''},\n",
      "             {'affiliation': {},\n",
      "              'email': '',\n",
      "              'first': 'Naylor',\n",
      "              'last': '',\n",
      "              'middle': ['C'],\n",
      "              'suffix': ''},\n",
      "             {'affiliation': {},\n",
      "              'email': '',\n",
      "              'first': 'Noor',\n",
      "              'last': 'Wills-Karp M',\n",
      "              'middle': ['Z'],\n",
      "              'suffix': ''},\n",
      "             {'affiliation': {},\n",
      "              'email': '',\n",
      "              'first': '',\n",
      "              'last': 'Petri',\n",
      "              'middle': [],\n",
      "              'suffix': ''}],\n",
      " 'title': 'Bone Marrow Dendritic Cells from Mice with an Altered Microbiota '\n",
      "          'Provide Interleukin 17A-Dependent Protection against Entamoeba '\n",
      "          'histolytica Colitis'}\n"
     ]
    }
   ],
   "source": [
    "pprint(all_files[4]['metadata'], depth=4)"
   ]
  },
  {
   "cell_type": "code",
   "execution_count": 89,
   "metadata": {},
   "outputs": [
    {
     "name": "stdout",
     "output_type": "stream",
     "text": [
      "Formatting without affiliation:\n",
      "Stacey L Burgess, Erica Buonomo, Maureen Carey, Carrie Cowardin, Caitlin Naylor, Zannatun Noor, Marsha Wills-Karp, William A Petri, Burgess Sl, Buonomo E , Carey M Cowardin, C , Naylor C , Noor Z Wills-Karp M,  Petri\n",
      "\n",
      "Formatting with affiliation:\n",
      "Stacey L Burgess (Johns Hopkins Bloomberg School of Public Health, Baltimore, Maryland, USA), Erica Buonomo (Johns Hopkins Bloomberg School of Public Health, Baltimore, Maryland, USA), Maureen Carey (Johns Hopkins Bloomberg School of Public Health, Baltimore, Maryland, USA), Carrie Cowardin (Johns Hopkins Bloomberg School of Public Health, Baltimore, Maryland, USA), Caitlin Naylor (Johns Hopkins Bloomberg School of Public Health, Baltimore, Maryland, USA), Zannatun Noor (Johns Hopkins Bloomberg School of Public Health, Baltimore, Maryland, USA), Marsha Wills-Karp, William A Petri (Johns Hopkins Bloomberg School of Public Health, Baltimore, Maryland, USA), Burgess Sl, Buonomo E , Carey M Cowardin, C , Naylor C , Noor Z Wills-Karp M,  Petri\n"
     ]
    }
   ],
   "source": [
    "authors = all_files[4]['metadata']['authors']\n",
    "print(\"Formatting without affiliation:\")\n",
    "print(format_authors(authors, with_affiliation=False))\n",
    "print(\"\\nFormatting with affiliation:\")\n",
    "print(format_authors(authors, with_affiliation=True))"
   ]
  },
  {
   "cell_type": "markdown",
   "metadata": {},
   "source": [
    "# Non commercial use:Bibliography"
   ]
  },
  {
   "cell_type": "code",
   "execution_count": 90,
   "metadata": {},
   "outputs": [
    {
     "name": "stdout",
     "output_type": "stream",
     "text": [
      "[{'authors': [{'first': 'M',\n",
      "               'last': 'Kerachian',\n",
      "               'middle': [...],\n",
      "               'suffix': ''},\n",
      "              {'first': 'E', 'last': 'Harvey', 'middle': [...], 'suffix': ''},\n",
      "              {'first': 'D', 'last': 'Cournoyer', 'middle': [], 'suffix': ''},\n",
      "              {'first': 'T', 'last': 'Chow', 'middle': [...], 'suffix': ''},\n",
      "              {'first': 'C', 'last': 'Séguin', 'middle': [], 'suffix': ''}],\n",
      "  'issn': '',\n",
      "  'other_ids': {},\n",
      "  'pages': '237--244',\n",
      "  'ref_id': 'b0',\n",
      "  'title': 'Avascular necrosis of the femoral head: Vascular hypotheses',\n",
      "  'venue': 'Endothelium',\n",
      "  'volume': '13',\n",
      "  'year': 2006},\n",
      " {'authors': [{'first': 'F',\n",
      "               'last': 'Bachiller',\n",
      "               'middle': [...],\n",
      "               'suffix': ''},\n",
      "              {'first': 'A', 'last': 'Caballer', 'middle': [...], 'suffix': ''},\n",
      "              {'first': 'L', 'last': 'Portal', 'middle': [...], 'suffix': ''}],\n",
      "  'issn': '',\n",
      "  'other_ids': {},\n",
      "  'pages': '87--109',\n",
      "  'ref_id': 'b1',\n",
      "  'title': 'Avascular necrosis of the femoral head after femoral neck fracture',\n",
      "  'venue': 'Clin Orthop Relat Res',\n",
      "  'volume': '',\n",
      "  'year': 2002}]\n"
     ]
    }
   ],
   "source": [
    "bibs = list(file['bib_entries'].values())\n",
    "pprint(bibs[:2], depth=4)"
   ]
  },
  {
   "cell_type": "code",
   "execution_count": 91,
   "metadata": {},
   "outputs": [
    {
     "data": {
      "text/plain": [
       "'F G Bachiller, A P Caballer, L F Portal'"
      ]
     },
     "execution_count": 91,
     "metadata": {},
     "output_type": "execute_result"
    }
   ],
   "source": [
    "format_authors(bibs[1]['authors'], with_affiliation=False)"
   ]
  },
  {
   "cell_type": "code",
   "execution_count": 92,
   "metadata": {},
   "outputs": [
    {
     "name": "stdout",
     "output_type": "stream",
     "text": [
      "Avascular necrosis of the femoral head: Vascular hypotheses, M A Kerachian, E J Harvey, D Cournoyer, T Y Chow, C Séguin, Endothelium, 2006; Avascular necrosis of the femoral head after femoral neck fracture, F G Bachiller, A P Caballer, L F Portal, Clin Orthop Relat Res, 2002; Osteonecrosis of the hip: Management in the 21st century, J R Lieberman, D J Berry, M A Mont, R K Aaron, J J Callaghan, A D Rajadhyaksha, J R Urbaniak, Instr Course Lect, 2003; Failure after core decompression in osteonecrosis of the femoral head, T R Yoon, E K Song, Rowe Sm, C H Park, Int Orthop, 2001; Repair of canine mandibular bone defects with bone marrow stromal cells and porous beta-tricalcium phosphate, J Yuan, L Cui, W J Zhang, W Liu, Y Cao, Biomaterials, 2007\n"
     ]
    }
   ],
   "source": [
    "bib_formatted = format_bib(bibs[:5])\n",
    "print(bib_formatted)"
   ]
  },
  {
   "cell_type": "markdown",
   "metadata": {},
   "source": [
    "# Non Commercial Use:Generate CSV files"
   ]
  },
  {
   "cell_type": "code",
   "execution_count": 93,
   "metadata": {},
   "outputs": [
    {
     "data": {
      "application/vnd.jupyter.widget-view+json": {
       "model_id": "ac80389b7cd6406eb2f60949ef28e470",
       "version_major": 2,
       "version_minor": 0
      },
      "text/plain": [
       "HBox(children=(FloatProgress(value=0.0, max=2353.0), HTML(value='')))"
      ]
     },
     "metadata": {},
     "output_type": "display_data"
    },
    {
     "name": "stdout",
     "output_type": "stream",
     "text": [
      "\n"
     ]
    }
   ],
   "source": [
    "cleaned_files = []\n",
    "\n",
    "for file in tqdm(all_files):\n",
    "    features = [\n",
    "        file['paper_id'],\n",
    "        file['metadata']['title'],\n",
    "        format_authors(file['metadata']['authors']),\n",
    "        format_authors(file['metadata']['authors'], \n",
    "                       with_affiliation=True),\n",
    "        format_body(file['abstract']),\n",
    "        format_body(file['body_text']),\n",
    "        format_bib(file['bib_entries']),\n",
    "        file['metadata']['authors'],\n",
    "        file['bib_entries']\n",
    "    ]\n",
    "    \n",
    "    cleaned_files.append(features)"
   ]
  },
  {
   "cell_type": "code",
   "execution_count": 94,
   "metadata": {},
   "outputs": [
    {
     "data": {
      "text/html": [
       "<div>\n",
       "<style scoped>\n",
       "    .dataframe tbody tr th:only-of-type {\n",
       "        vertical-align: middle;\n",
       "    }\n",
       "\n",
       "    .dataframe tbody tr th {\n",
       "        vertical-align: top;\n",
       "    }\n",
       "\n",
       "    .dataframe thead th {\n",
       "        text-align: right;\n",
       "    }\n",
       "</style>\n",
       "<table border=\"1\" class=\"dataframe\">\n",
       "  <thead>\n",
       "    <tr style=\"text-align: right;\">\n",
       "      <th></th>\n",
       "      <th>paper_id</th>\n",
       "      <th>title</th>\n",
       "      <th>authors</th>\n",
       "      <th>affiliations</th>\n",
       "      <th>abstract</th>\n",
       "      <th>text</th>\n",
       "      <th>bibliography</th>\n",
       "      <th>raw_authors</th>\n",
       "      <th>raw_bibliography</th>\n",
       "    </tr>\n",
       "  </thead>\n",
       "  <tbody>\n",
       "    <tr>\n",
       "      <th>0</th>\n",
       "      <td>cd92f91038067e7a10aa27d676ce696e1e4d67ce</td>\n",
       "      <td>EXPERIMENTAL AND THERAPEUTIC MEDICINE Dimethyl...</td>\n",
       "      <td>Zhen-Hong Zhu, Wen-Qi Song, Chang-Qing Zhang, ...</td>\n",
       "      <td>Zhen-Hong Zhu (Shanghai Jiao Tong University, ...</td>\n",
       "      <td>Abstract\\n\\nMesenchymal stem cells have been w...</td>\n",
       "      <td>Introduction\\n\\nOsteonecrosis of the femoral h...</td>\n",
       "      <td>Avascular necrosis of the femoral head: Vascul...</td>\n",
       "      <td>[{'first': 'Zhen-Hong', 'middle': [], 'last': ...</td>\n",
       "      <td>{'BIBREF0': {'ref_id': 'b0', 'title': 'Avascul...</td>\n",
       "    </tr>\n",
       "    <tr>\n",
       "      <th>1</th>\n",
       "      <td>bab279da548d8bd363acd5033e9dc54e7dbb7107</td>\n",
       "      <td>Effects of school breaks on influenza- like il...</td>\n",
       "      <td>Yanhui Chu, Zhenyu Wu, Jiayi Ji, Jingyi Sun, X...</td>\n",
       "      <td>Yanhui Chu, Zhenyu Wu (Fudan University, Shang...</td>\n",
       "      <td></td>\n",
       "      <td>INTRODUCTION\\n\\nSchoolchildren play a major ro...</td>\n",
       "      <td>Estimating household and community transmissio...</td>\n",
       "      <td>[{'first': 'Yanhui', 'middle': [], 'last': 'Ch...</td>\n",
       "      <td>{'BIBREF0': {'ref_id': 'b0', 'title': 'Estimat...</td>\n",
       "    </tr>\n",
       "    <tr>\n",
       "      <th>2</th>\n",
       "      <td>71edbd57cdd9af956a12054932e0cbdb87ce1fea</td>\n",
       "      <td>Social Network Characteristics and Body Mass I...</td>\n",
       "      <td>Won Joon Lee, Yoosik Youm, Yumie Rhee, Yeong-R...</td>\n",
       "      <td>Won Joon Lee (Yonsei University College of Med...</td>\n",
       "      <td>Abstract\\n\\nResearch has shown that obesity ap...</td>\n",
       "      <td>INTRODUCTION\\n\\nThe study of the effects of so...</td>\n",
       "      <td>The contribution of the social environment to ...</td>\n",
       "      <td>[{'first': 'Won', 'middle': ['Joon'], 'last': ...</td>\n",
       "      <td>{'BIBREF0': {'ref_id': 'b0', 'title': 'The con...</td>\n",
       "    </tr>\n",
       "    <tr>\n",
       "      <th>3</th>\n",
       "      <td>2dfdbf2d6b77426866feaf93486327d372fd27c7</td>\n",
       "      <td>CLINICAL EXPERIMENTAL VACCINE RESEARCH</td>\n",
       "      <td></td>\n",
       "      <td></td>\n",
       "      <td></td>\n",
       "      <td>\\n\\nThere may be many reasons for the signific...</td>\n",
       "      <td>A short history of vaccination, S L Plotkin, S...</td>\n",
       "      <td>[]</td>\n",
       "      <td>{'BIBREF0': {'ref_id': 'b0', 'title': 'A short...</td>\n",
       "    </tr>\n",
       "    <tr>\n",
       "      <th>4</th>\n",
       "      <td>0afa3ea846396533c7ca515968abcfea3f895082</td>\n",
       "      <td>Bone Marrow Dendritic Cells from Mice with an ...</td>\n",
       "      <td>Stacey L Burgess, Erica Buonomo, Maureen Carey...</td>\n",
       "      <td>Stacey L Burgess (Johns Hopkins Bloomberg Scho...</td>\n",
       "      <td>Abstract\\n\\nThere is an emerging paradigm that...</td>\n",
       "      <td>\\n\\nport neutrophil infiltration in inflammato...</td>\n",
       "      <td>WHO/PAHO informal consultation on intestinal p...</td>\n",
       "      <td>[{'first': 'Stacey', 'middle': ['L'], 'last': ...</td>\n",
       "      <td>{'BIBREF0': {'ref_id': 'b0', 'title': 'WHO/PAH...</td>\n",
       "    </tr>\n",
       "  </tbody>\n",
       "</table>\n",
       "</div>"
      ],
      "text/plain": [
       "                                   paper_id  \\\n",
       "0  cd92f91038067e7a10aa27d676ce696e1e4d67ce   \n",
       "1  bab279da548d8bd363acd5033e9dc54e7dbb7107   \n",
       "2  71edbd57cdd9af956a12054932e0cbdb87ce1fea   \n",
       "3  2dfdbf2d6b77426866feaf93486327d372fd27c7   \n",
       "4  0afa3ea846396533c7ca515968abcfea3f895082   \n",
       "\n",
       "                                               title  \\\n",
       "0  EXPERIMENTAL AND THERAPEUTIC MEDICINE Dimethyl...   \n",
       "1  Effects of school breaks on influenza- like il...   \n",
       "2  Social Network Characteristics and Body Mass I...   \n",
       "3             CLINICAL EXPERIMENTAL VACCINE RESEARCH   \n",
       "4  Bone Marrow Dendritic Cells from Mice with an ...   \n",
       "\n",
       "                                             authors  \\\n",
       "0  Zhen-Hong Zhu, Wen-Qi Song, Chang-Qing Zhang, ...   \n",
       "1  Yanhui Chu, Zhenyu Wu, Jiayi Ji, Jingyi Sun, X...   \n",
       "2  Won Joon Lee, Yoosik Youm, Yumie Rhee, Yeong-R...   \n",
       "3                                                      \n",
       "4  Stacey L Burgess, Erica Buonomo, Maureen Carey...   \n",
       "\n",
       "                                        affiliations  \\\n",
       "0  Zhen-Hong Zhu (Shanghai Jiao Tong University, ...   \n",
       "1  Yanhui Chu, Zhenyu Wu (Fudan University, Shang...   \n",
       "2  Won Joon Lee (Yonsei University College of Med...   \n",
       "3                                                      \n",
       "4  Stacey L Burgess (Johns Hopkins Bloomberg Scho...   \n",
       "\n",
       "                                            abstract  \\\n",
       "0  Abstract\\n\\nMesenchymal stem cells have been w...   \n",
       "1                                                      \n",
       "2  Abstract\\n\\nResearch has shown that obesity ap...   \n",
       "3                                                      \n",
       "4  Abstract\\n\\nThere is an emerging paradigm that...   \n",
       "\n",
       "                                                text  \\\n",
       "0  Introduction\\n\\nOsteonecrosis of the femoral h...   \n",
       "1  INTRODUCTION\\n\\nSchoolchildren play a major ro...   \n",
       "2  INTRODUCTION\\n\\nThe study of the effects of so...   \n",
       "3  \\n\\nThere may be many reasons for the signific...   \n",
       "4  \\n\\nport neutrophil infiltration in inflammato...   \n",
       "\n",
       "                                        bibliography  \\\n",
       "0  Avascular necrosis of the femoral head: Vascul...   \n",
       "1  Estimating household and community transmissio...   \n",
       "2  The contribution of the social environment to ...   \n",
       "3  A short history of vaccination, S L Plotkin, S...   \n",
       "4  WHO/PAHO informal consultation on intestinal p...   \n",
       "\n",
       "                                         raw_authors  \\\n",
       "0  [{'first': 'Zhen-Hong', 'middle': [], 'last': ...   \n",
       "1  [{'first': 'Yanhui', 'middle': [], 'last': 'Ch...   \n",
       "2  [{'first': 'Won', 'middle': ['Joon'], 'last': ...   \n",
       "3                                                 []   \n",
       "4  [{'first': 'Stacey', 'middle': ['L'], 'last': ...   \n",
       "\n",
       "                                    raw_bibliography  \n",
       "0  {'BIBREF0': {'ref_id': 'b0', 'title': 'Avascul...  \n",
       "1  {'BIBREF0': {'ref_id': 'b0', 'title': 'Estimat...  \n",
       "2  {'BIBREF0': {'ref_id': 'b0', 'title': 'The con...  \n",
       "3  {'BIBREF0': {'ref_id': 'b0', 'title': 'A short...  \n",
       "4  {'BIBREF0': {'ref_id': 'b0', 'title': 'WHO/PAH...  "
      ]
     },
     "execution_count": 94,
     "metadata": {},
     "output_type": "execute_result"
    }
   ],
   "source": [
    "col_names = [\n",
    "    'paper_id', \n",
    "    'title', \n",
    "    'authors',\n",
    "    'affiliations', \n",
    "    'abstract', \n",
    "    'text', \n",
    "    'bibliography',\n",
    "    'raw_authors',\n",
    "    'raw_bibliography'\n",
    "]\n",
    "\n",
    "noncom_df = pd.DataFrame(cleaned_files, columns=col_names)\n",
    "noncom_df.head()"
   ]
  }
 ],
 "metadata": {
  "kernelspec": {
   "display_name": "Python 3",
   "language": "python",
   "name": "python3"
  },
  "language_info": {
   "codemirror_mode": {
    "name": "ipython",
    "version": 3
   },
   "file_extension": ".py",
   "mimetype": "text/x-python",
   "name": "python",
   "nbconvert_exporter": "python",
   "pygments_lexer": "ipython3",
   "version": "3.6.6"
  },
  "widgets": {
   "application/vnd.jupyter.widget-state+json": {
    "state": {
     "03249e32c3614e86afe463d25a2dc060": {
      "model_module": "@jupyter-widgets/controls",
      "model_module_version": "1.5.0",
      "model_name": "DescriptionStyleModel",
      "state": {
       "_model_module": "@jupyter-widgets/controls",
       "_model_module_version": "1.5.0",
       "_model_name": "DescriptionStyleModel",
       "_view_count": null,
       "_view_module": "@jupyter-widgets/base",
       "_view_module_version": "1.2.0",
       "_view_name": "StyleView",
       "description_width": ""
      }
     },
     "0c040628d82c40e1a579cf18268a98c7": {
      "model_module": "@jupyter-widgets/controls",
      "model_module_version": "1.5.0",
      "model_name": "FloatProgressModel",
      "state": {
       "_dom_classes": [],
       "_model_module": "@jupyter-widgets/controls",
       "_model_module_version": "1.5.0",
       "_model_name": "FloatProgressModel",
       "_view_count": null,
       "_view_module": "@jupyter-widgets/controls",
       "_view_module_version": "1.5.0",
       "_view_name": "ProgressView",
       "bar_style": "success",
       "description": "100%",
       "description_tooltip": null,
       "layout": "IPY_MODEL_e12a12a51eca4a759c6ca1a8a763e0f1",
       "max": 885.0,
       "min": 0.0,
       "orientation": "horizontal",
       "style": "IPY_MODEL_900da9652b394f43bb23769867661fd8",
       "value": 885.0
      }
     },
     "0c45f9d0b2ce4010b6ffe62f4ed84baa": {
      "model_module": "@jupyter-widgets/base",
      "model_module_version": "1.2.0",
      "model_name": "LayoutModel",
      "state": {
       "_model_module": "@jupyter-widgets/base",
       "_model_module_version": "1.2.0",
       "_model_name": "LayoutModel",
       "_view_count": null,
       "_view_module": "@jupyter-widgets/base",
       "_view_module_version": "1.2.0",
       "_view_name": "LayoutView",
       "align_content": null,
       "align_items": null,
       "align_self": null,
       "border": null,
       "bottom": null,
       "display": null,
       "flex": null,
       "flex_flow": null,
       "grid_area": null,
       "grid_auto_columns": null,
       "grid_auto_flow": null,
       "grid_auto_rows": null,
       "grid_column": null,
       "grid_gap": null,
       "grid_row": null,
       "grid_template_areas": null,
       "grid_template_columns": null,
       "grid_template_rows": null,
       "height": null,
       "justify_content": null,
       "justify_items": null,
       "left": null,
       "margin": null,
       "max_height": null,
       "max_width": null,
       "min_height": null,
       "min_width": null,
       "object_fit": null,
       "object_position": null,
       "order": null,
       "overflow": null,
       "overflow_x": null,
       "overflow_y": null,
       "padding": null,
       "right": null,
       "top": null,
       "visibility": null,
       "width": null
      }
     },
     "100ebc972df547b5b3494b99a2cc9730": {
      "model_module": "@jupyter-widgets/base",
      "model_module_version": "1.2.0",
      "model_name": "LayoutModel",
      "state": {
       "_model_module": "@jupyter-widgets/base",
       "_model_module_version": "1.2.0",
       "_model_name": "LayoutModel",
       "_view_count": null,
       "_view_module": "@jupyter-widgets/base",
       "_view_module_version": "1.2.0",
       "_view_name": "LayoutView",
       "align_content": null,
       "align_items": null,
       "align_self": null,
       "border": null,
       "bottom": null,
       "display": null,
       "flex": null,
       "flex_flow": null,
       "grid_area": null,
       "grid_auto_columns": null,
       "grid_auto_flow": null,
       "grid_auto_rows": null,
       "grid_column": null,
       "grid_gap": null,
       "grid_row": null,
       "grid_template_areas": null,
       "grid_template_columns": null,
       "grid_template_rows": null,
       "height": null,
       "justify_content": null,
       "justify_items": null,
       "left": null,
       "margin": null,
       "max_height": null,
       "max_width": null,
       "min_height": null,
       "min_width": null,
       "object_fit": null,
       "object_position": null,
       "order": null,
       "overflow": null,
       "overflow_x": null,
       "overflow_y": null,
       "padding": null,
       "right": null,
       "top": null,
       "visibility": null,
       "width": null
      }
     },
     "196bb0aaf6bb468fab6269cb588e9502": {
      "model_module": "@jupyter-widgets/base",
      "model_module_version": "1.2.0",
      "model_name": "LayoutModel",
      "state": {
       "_model_module": "@jupyter-widgets/base",
       "_model_module_version": "1.2.0",
       "_model_name": "LayoutModel",
       "_view_count": null,
       "_view_module": "@jupyter-widgets/base",
       "_view_module_version": "1.2.0",
       "_view_name": "LayoutView",
       "align_content": null,
       "align_items": null,
       "align_self": null,
       "border": null,
       "bottom": null,
       "display": null,
       "flex": null,
       "flex_flow": null,
       "grid_area": null,
       "grid_auto_columns": null,
       "grid_auto_flow": null,
       "grid_auto_rows": null,
       "grid_column": null,
       "grid_gap": null,
       "grid_row": null,
       "grid_template_areas": null,
       "grid_template_columns": null,
       "grid_template_rows": null,
       "height": null,
       "justify_content": null,
       "justify_items": null,
       "left": null,
       "margin": null,
       "max_height": null,
       "max_width": null,
       "min_height": null,
       "min_width": null,
       "object_fit": null,
       "object_position": null,
       "order": null,
       "overflow": null,
       "overflow_x": null,
       "overflow_y": null,
       "padding": null,
       "right": null,
       "top": null,
       "visibility": null,
       "width": null
      }
     },
     "1e7c4141891b4593a4d2427efc7f751f": {
      "model_module": "@jupyter-widgets/controls",
      "model_module_version": "1.5.0",
      "model_name": "HBoxModel",
      "state": {
       "_dom_classes": [],
       "_model_module": "@jupyter-widgets/controls",
       "_model_module_version": "1.5.0",
       "_model_name": "HBoxModel",
       "_view_count": null,
       "_view_module": "@jupyter-widgets/controls",
       "_view_module_version": "1.5.0",
       "_view_name": "HBoxView",
       "box_style": "",
       "children": [
        "IPY_MODEL_0c040628d82c40e1a579cf18268a98c7",
        "IPY_MODEL_98ace32fd3fd45d39c00ad724a4c65b0"
       ],
       "layout": "IPY_MODEL_196bb0aaf6bb468fab6269cb588e9502"
      }
     },
     "255984789a764974ad4715056d19f7bd": {
      "model_module": "@jupyter-widgets/controls",
      "model_module_version": "1.5.0",
      "model_name": "ProgressStyleModel",
      "state": {
       "_model_module": "@jupyter-widgets/controls",
       "_model_module_version": "1.5.0",
       "_model_name": "ProgressStyleModel",
       "_view_count": null,
       "_view_module": "@jupyter-widgets/base",
       "_view_module_version": "1.2.0",
       "_view_name": "StyleView",
       "bar_color": null,
       "description_width": "initial"
      }
     },
     "45a7d7f19410497597c3dcc035420e0c": {
      "model_module": "@jupyter-widgets/controls",
      "model_module_version": "1.5.0",
      "model_name": "ProgressStyleModel",
      "state": {
       "_model_module": "@jupyter-widgets/controls",
       "_model_module_version": "1.5.0",
       "_model_name": "ProgressStyleModel",
       "_view_count": null,
       "_view_module": "@jupyter-widgets/base",
       "_view_module_version": "1.2.0",
       "_view_name": "StyleView",
       "bar_color": null,
       "description_width": "initial"
      }
     },
     "49698468f98d49e1ab6f8d1ff5d901f6": {
      "model_module": "@jupyter-widgets/base",
      "model_module_version": "1.2.0",
      "model_name": "LayoutModel",
      "state": {
       "_model_module": "@jupyter-widgets/base",
       "_model_module_version": "1.2.0",
       "_model_name": "LayoutModel",
       "_view_count": null,
       "_view_module": "@jupyter-widgets/base",
       "_view_module_version": "1.2.0",
       "_view_name": "LayoutView",
       "align_content": null,
       "align_items": null,
       "align_self": null,
       "border": null,
       "bottom": null,
       "display": null,
       "flex": null,
       "flex_flow": null,
       "grid_area": null,
       "grid_auto_columns": null,
       "grid_auto_flow": null,
       "grid_auto_rows": null,
       "grid_column": null,
       "grid_gap": null,
       "grid_row": null,
       "grid_template_areas": null,
       "grid_template_columns": null,
       "grid_template_rows": null,
       "height": null,
       "justify_content": null,
       "justify_items": null,
       "left": null,
       "margin": null,
       "max_height": null,
       "max_width": null,
       "min_height": null,
       "min_width": null,
       "object_fit": null,
       "object_position": null,
       "order": null,
       "overflow": null,
       "overflow_x": null,
       "overflow_y": null,
       "padding": null,
       "right": null,
       "top": null,
       "visibility": null,
       "width": null
      }
     },
     "4a628e28319745ecbd85209eaad3e042": {
      "model_module": "@jupyter-widgets/controls",
      "model_module_version": "1.5.0",
      "model_name": "FloatProgressModel",
      "state": {
       "_dom_classes": [],
       "_model_module": "@jupyter-widgets/controls",
       "_model_module_version": "1.5.0",
       "_model_name": "FloatProgressModel",
       "_view_count": null,
       "_view_module": "@jupyter-widgets/controls",
       "_view_module_version": "1.5.0",
       "_view_name": "ProgressView",
       "bar_style": "success",
       "description": "100%",
       "description_tooltip": null,
       "layout": "IPY_MODEL_5ba55d84e6af4281814cf60f59add391",
       "max": 9118.0,
       "min": 0.0,
       "orientation": "horizontal",
       "style": "IPY_MODEL_45a7d7f19410497597c3dcc035420e0c",
       "value": 9118.0
      }
     },
     "5aa0be95602944359bf96a0c9887649a": {
      "model_module": "@jupyter-widgets/controls",
      "model_module_version": "1.5.0",
      "model_name": "HTMLModel",
      "state": {
       "_dom_classes": [],
       "_model_module": "@jupyter-widgets/controls",
       "_model_module_version": "1.5.0",
       "_model_name": "HTMLModel",
       "_view_count": null,
       "_view_module": "@jupyter-widgets/controls",
       "_view_module_version": "1.5.0",
       "_view_name": "HTMLView",
       "description": "",
       "description_tooltip": null,
       "layout": "IPY_MODEL_bea442ecf7294aa6b84fcc6376e1ffa2",
       "placeholder": "​",
       "style": "IPY_MODEL_b7d3d1c28b5a472ab0f7c315bd139e21",
       "value": " 9118/9118 [01:17&lt;00:00, 117.90it/s]"
      }
     },
     "5ba55d84e6af4281814cf60f59add391": {
      "model_module": "@jupyter-widgets/base",
      "model_module_version": "1.2.0",
      "model_name": "LayoutModel",
      "state": {
       "_model_module": "@jupyter-widgets/base",
       "_model_module_version": "1.2.0",
       "_model_name": "LayoutModel",
       "_view_count": null,
       "_view_module": "@jupyter-widgets/base",
       "_view_module_version": "1.2.0",
       "_view_name": "LayoutView",
       "align_content": null,
       "align_items": null,
       "align_self": null,
       "border": null,
       "bottom": null,
       "display": null,
       "flex": null,
       "flex_flow": null,
       "grid_area": null,
       "grid_auto_columns": null,
       "grid_auto_flow": null,
       "grid_auto_rows": null,
       "grid_column": null,
       "grid_gap": null,
       "grid_row": null,
       "grid_template_areas": null,
       "grid_template_columns": null,
       "grid_template_rows": null,
       "height": null,
       "justify_content": null,
       "justify_items": null,
       "left": null,
       "margin": null,
       "max_height": null,
       "max_width": null,
       "min_height": null,
       "min_width": null,
       "object_fit": null,
       "object_position": null,
       "order": null,
       "overflow": null,
       "overflow_x": null,
       "overflow_y": null,
       "padding": null,
       "right": null,
       "top": null,
       "visibility": null,
       "width": null
      }
     },
     "5f7c89b64b574668b6e831a09e7faa74": {
      "model_module": "@jupyter-widgets/base",
      "model_module_version": "1.2.0",
      "model_name": "LayoutModel",
      "state": {
       "_model_module": "@jupyter-widgets/base",
       "_model_module_version": "1.2.0",
       "_model_name": "LayoutModel",
       "_view_count": null,
       "_view_module": "@jupyter-widgets/base",
       "_view_module_version": "1.2.0",
       "_view_name": "LayoutView",
       "align_content": null,
       "align_items": null,
       "align_self": null,
       "border": null,
       "bottom": null,
       "display": null,
       "flex": null,
       "flex_flow": null,
       "grid_area": null,
       "grid_auto_columns": null,
       "grid_auto_flow": null,
       "grid_auto_rows": null,
       "grid_column": null,
       "grid_gap": null,
       "grid_row": null,
       "grid_template_areas": null,
       "grid_template_columns": null,
       "grid_template_rows": null,
       "height": null,
       "justify_content": null,
       "justify_items": null,
       "left": null,
       "margin": null,
       "max_height": null,
       "max_width": null,
       "min_height": null,
       "min_width": null,
       "object_fit": null,
       "object_position": null,
       "order": null,
       "overflow": null,
       "overflow_x": null,
       "overflow_y": null,
       "padding": null,
       "right": null,
       "top": null,
       "visibility": null,
       "width": null
      }
     },
     "6231c42c725640a786d3161c2d06d053": {
      "model_module": "@jupyter-widgets/controls",
      "model_module_version": "1.5.0",
      "model_name": "FloatProgressModel",
      "state": {
       "_dom_classes": [],
       "_model_module": "@jupyter-widgets/controls",
       "_model_module_version": "1.5.0",
       "_model_name": "FloatProgressModel",
       "_view_count": null,
       "_view_module": "@jupyter-widgets/controls",
       "_view_module_version": "1.5.0",
       "_view_name": "ProgressView",
       "bar_style": "success",
       "description": "100%",
       "description_tooltip": null,
       "layout": "IPY_MODEL_e9238f7ad44944139568d9a7a5a87c69",
       "max": 2353.0,
       "min": 0.0,
       "orientation": "horizontal",
       "style": "IPY_MODEL_255984789a764974ad4715056d19f7bd",
       "value": 2353.0
      }
     },
     "6f340a598c3a441fa858dcf5bc336f1f": {
      "model_module": "@jupyter-widgets/controls",
      "model_module_version": "1.5.0",
      "model_name": "HTMLModel",
      "state": {
       "_dom_classes": [],
       "_model_module": "@jupyter-widgets/controls",
       "_model_module_version": "1.5.0",
       "_model_name": "HTMLModel",
       "_view_count": null,
       "_view_module": "@jupyter-widgets/controls",
       "_view_module_version": "1.5.0",
       "_view_name": "HTMLView",
       "description": "",
       "description_tooltip": null,
       "layout": "IPY_MODEL_100ebc972df547b5b3494b99a2cc9730",
       "placeholder": "​",
       "style": "IPY_MODEL_989124c7e9c542c5ab9debe06b3fba80",
       "value": " 16959/16959 [01:51&lt;00:00, 152.39it/s]"
      }
     },
     "7301f35923414698b7827d8892975a76": {
      "model_module": "@jupyter-widgets/controls",
      "model_module_version": "1.5.0",
      "model_name": "HTMLModel",
      "state": {
       "_dom_classes": [],
       "_model_module": "@jupyter-widgets/controls",
       "_model_module_version": "1.5.0",
       "_model_name": "HTMLModel",
       "_view_count": null,
       "_view_module": "@jupyter-widgets/controls",
       "_view_module_version": "1.5.0",
       "_view_name": "HTMLView",
       "description": "",
       "description_tooltip": null,
       "layout": "IPY_MODEL_880d4c6bf1964365a4d0ec096ac5f87a",
       "placeholder": "​",
       "style": "IPY_MODEL_03249e32c3614e86afe463d25a2dc060",
       "value": " 2353/2353 [00:13&lt;00:00, 177.87it/s]"
      }
     },
     "7434a03c76c24952a30f4bb30f02e64c": {
      "model_module": "@jupyter-widgets/base",
      "model_module_version": "1.2.0",
      "model_name": "LayoutModel",
      "state": {
       "_model_module": "@jupyter-widgets/base",
       "_model_module_version": "1.2.0",
       "_model_name": "LayoutModel",
       "_view_count": null,
       "_view_module": "@jupyter-widgets/base",
       "_view_module_version": "1.2.0",
       "_view_name": "LayoutView",
       "align_content": null,
       "align_items": null,
       "align_self": null,
       "border": null,
       "bottom": null,
       "display": null,
       "flex": null,
       "flex_flow": null,
       "grid_area": null,
       "grid_auto_columns": null,
       "grid_auto_flow": null,
       "grid_auto_rows": null,
       "grid_column": null,
       "grid_gap": null,
       "grid_row": null,
       "grid_template_areas": null,
       "grid_template_columns": null,
       "grid_template_rows": null,
       "height": null,
       "justify_content": null,
       "justify_items": null,
       "left": null,
       "margin": null,
       "max_height": null,
       "max_width": null,
       "min_height": null,
       "min_width": null,
       "object_fit": null,
       "object_position": null,
       "order": null,
       "overflow": null,
       "overflow_x": null,
       "overflow_y": null,
       "padding": null,
       "right": null,
       "top": null,
       "visibility": null,
       "width": null
      }
     },
     "802a3383d9d24bfb890e2c481c6dc672": {
      "model_module": "@jupyter-widgets/controls",
      "model_module_version": "1.5.0",
      "model_name": "HBoxModel",
      "state": {
       "_dom_classes": [],
       "_model_module": "@jupyter-widgets/controls",
       "_model_module_version": "1.5.0",
       "_model_name": "HBoxModel",
       "_view_count": null,
       "_view_module": "@jupyter-widgets/controls",
       "_view_module_version": "1.5.0",
       "_view_name": "HBoxView",
       "box_style": "",
       "children": [
        "IPY_MODEL_918af93611ef46ec9d176f13b1fd2dc5",
        "IPY_MODEL_6f340a598c3a441fa858dcf5bc336f1f"
       ],
       "layout": "IPY_MODEL_0c45f9d0b2ce4010b6ffe62f4ed84baa"
      }
     },
     "880d4c6bf1964365a4d0ec096ac5f87a": {
      "model_module": "@jupyter-widgets/base",
      "model_module_version": "1.2.0",
      "model_name": "LayoutModel",
      "state": {
       "_model_module": "@jupyter-widgets/base",
       "_model_module_version": "1.2.0",
       "_model_name": "LayoutModel",
       "_view_count": null,
       "_view_module": "@jupyter-widgets/base",
       "_view_module_version": "1.2.0",
       "_view_name": "LayoutView",
       "align_content": null,
       "align_items": null,
       "align_self": null,
       "border": null,
       "bottom": null,
       "display": null,
       "flex": null,
       "flex_flow": null,
       "grid_area": null,
       "grid_auto_columns": null,
       "grid_auto_flow": null,
       "grid_auto_rows": null,
       "grid_column": null,
       "grid_gap": null,
       "grid_row": null,
       "grid_template_areas": null,
       "grid_template_columns": null,
       "grid_template_rows": null,
       "height": null,
       "justify_content": null,
       "justify_items": null,
       "left": null,
       "margin": null,
       "max_height": null,
       "max_width": null,
       "min_height": null,
       "min_width": null,
       "object_fit": null,
       "object_position": null,
       "order": null,
       "overflow": null,
       "overflow_x": null,
       "overflow_y": null,
       "padding": null,
       "right": null,
       "top": null,
       "visibility": null,
       "width": null
      }
     },
     "900da9652b394f43bb23769867661fd8": {
      "model_module": "@jupyter-widgets/controls",
      "model_module_version": "1.5.0",
      "model_name": "ProgressStyleModel",
      "state": {
       "_model_module": "@jupyter-widgets/controls",
       "_model_module_version": "1.5.0",
       "_model_name": "ProgressStyleModel",
       "_view_count": null,
       "_view_module": "@jupyter-widgets/base",
       "_view_module_version": "1.2.0",
       "_view_name": "StyleView",
       "bar_color": null,
       "description_width": "initial"
      }
     },
     "918af93611ef46ec9d176f13b1fd2dc5": {
      "model_module": "@jupyter-widgets/controls",
      "model_module_version": "1.5.0",
      "model_name": "FloatProgressModel",
      "state": {
       "_dom_classes": [],
       "_model_module": "@jupyter-widgets/controls",
       "_model_module_version": "1.5.0",
       "_model_name": "FloatProgressModel",
       "_view_count": null,
       "_view_module": "@jupyter-widgets/controls",
       "_view_module_version": "1.5.0",
       "_view_name": "ProgressView",
       "bar_style": "success",
       "description": "100%",
       "description_tooltip": null,
       "layout": "IPY_MODEL_49698468f98d49e1ab6f8d1ff5d901f6",
       "max": 16959.0,
       "min": 0.0,
       "orientation": "horizontal",
       "style": "IPY_MODEL_efac1a17051b4403b9b527ccf67e3ca9",
       "value": 16959.0
      }
     },
     "989124c7e9c542c5ab9debe06b3fba80": {
      "model_module": "@jupyter-widgets/controls",
      "model_module_version": "1.5.0",
      "model_name": "DescriptionStyleModel",
      "state": {
       "_model_module": "@jupyter-widgets/controls",
       "_model_module_version": "1.5.0",
       "_model_name": "DescriptionStyleModel",
       "_view_count": null,
       "_view_module": "@jupyter-widgets/base",
       "_view_module_version": "1.2.0",
       "_view_name": "StyleView",
       "description_width": ""
      }
     },
     "98ace32fd3fd45d39c00ad724a4c65b0": {
      "model_module": "@jupyter-widgets/controls",
      "model_module_version": "1.5.0",
      "model_name": "HTMLModel",
      "state": {
       "_dom_classes": [],
       "_model_module": "@jupyter-widgets/controls",
       "_model_module_version": "1.5.0",
       "_model_name": "HTMLModel",
       "_view_count": null,
       "_view_module": "@jupyter-widgets/controls",
       "_view_module_version": "1.5.0",
       "_view_name": "HTMLView",
       "description": "",
       "description_tooltip": null,
       "layout": "IPY_MODEL_9ecdfd5141ba47c6bd642d3b0fec4b51",
       "placeholder": "​",
       "style": "IPY_MODEL_da4375819a1c4cb5adac2802d8f789fa",
       "value": " 885/885 [00:06&lt;00:00, 131.13it/s]"
      }
     },
     "9ecdfd5141ba47c6bd642d3b0fec4b51": {
      "model_module": "@jupyter-widgets/base",
      "model_module_version": "1.2.0",
      "model_name": "LayoutModel",
      "state": {
       "_model_module": "@jupyter-widgets/base",
       "_model_module_version": "1.2.0",
       "_model_name": "LayoutModel",
       "_view_count": null,
       "_view_module": "@jupyter-widgets/base",
       "_view_module_version": "1.2.0",
       "_view_name": "LayoutView",
       "align_content": null,
       "align_items": null,
       "align_self": null,
       "border": null,
       "bottom": null,
       "display": null,
       "flex": null,
       "flex_flow": null,
       "grid_area": null,
       "grid_auto_columns": null,
       "grid_auto_flow": null,
       "grid_auto_rows": null,
       "grid_column": null,
       "grid_gap": null,
       "grid_row": null,
       "grid_template_areas": null,
       "grid_template_columns": null,
       "grid_template_rows": null,
       "height": null,
       "justify_content": null,
       "justify_items": null,
       "left": null,
       "margin": null,
       "max_height": null,
       "max_width": null,
       "min_height": null,
       "min_width": null,
       "object_fit": null,
       "object_position": null,
       "order": null,
       "overflow": null,
       "overflow_x": null,
       "overflow_y": null,
       "padding": null,
       "right": null,
       "top": null,
       "visibility": null,
       "width": null
      }
     },
     "ac80389b7cd6406eb2f60949ef28e470": {
      "model_module": "@jupyter-widgets/controls",
      "model_module_version": "1.5.0",
      "model_name": "HBoxModel",
      "state": {
       "_dom_classes": [],
       "_model_module": "@jupyter-widgets/controls",
       "_model_module_version": "1.5.0",
       "_model_name": "HBoxModel",
       "_view_count": null,
       "_view_module": "@jupyter-widgets/controls",
       "_view_module_version": "1.5.0",
       "_view_name": "HBoxView",
       "box_style": "",
       "children": [
        "IPY_MODEL_6231c42c725640a786d3161c2d06d053",
        "IPY_MODEL_7301f35923414698b7827d8892975a76"
       ],
       "layout": "IPY_MODEL_5f7c89b64b574668b6e831a09e7faa74"
      }
     },
     "b6484264b65a43fca2586fdcf707ff26": {
      "model_module": "@jupyter-widgets/controls",
      "model_module_version": "1.5.0",
      "model_name": "HBoxModel",
      "state": {
       "_dom_classes": [],
       "_model_module": "@jupyter-widgets/controls",
       "_model_module_version": "1.5.0",
       "_model_name": "HBoxModel",
       "_view_count": null,
       "_view_module": "@jupyter-widgets/controls",
       "_view_module_version": "1.5.0",
       "_view_name": "HBoxView",
       "box_style": "",
       "children": [
        "IPY_MODEL_4a628e28319745ecbd85209eaad3e042",
        "IPY_MODEL_5aa0be95602944359bf96a0c9887649a"
       ],
       "layout": "IPY_MODEL_7434a03c76c24952a30f4bb30f02e64c"
      }
     },
     "b7d3d1c28b5a472ab0f7c315bd139e21": {
      "model_module": "@jupyter-widgets/controls",
      "model_module_version": "1.5.0",
      "model_name": "DescriptionStyleModel",
      "state": {
       "_model_module": "@jupyter-widgets/controls",
       "_model_module_version": "1.5.0",
       "_model_name": "DescriptionStyleModel",
       "_view_count": null,
       "_view_module": "@jupyter-widgets/base",
       "_view_module_version": "1.2.0",
       "_view_name": "StyleView",
       "description_width": ""
      }
     },
     "bea442ecf7294aa6b84fcc6376e1ffa2": {
      "model_module": "@jupyter-widgets/base",
      "model_module_version": "1.2.0",
      "model_name": "LayoutModel",
      "state": {
       "_model_module": "@jupyter-widgets/base",
       "_model_module_version": "1.2.0",
       "_model_name": "LayoutModel",
       "_view_count": null,
       "_view_module": "@jupyter-widgets/base",
       "_view_module_version": "1.2.0",
       "_view_name": "LayoutView",
       "align_content": null,
       "align_items": null,
       "align_self": null,
       "border": null,
       "bottom": null,
       "display": null,
       "flex": null,
       "flex_flow": null,
       "grid_area": null,
       "grid_auto_columns": null,
       "grid_auto_flow": null,
       "grid_auto_rows": null,
       "grid_column": null,
       "grid_gap": null,
       "grid_row": null,
       "grid_template_areas": null,
       "grid_template_columns": null,
       "grid_template_rows": null,
       "height": null,
       "justify_content": null,
       "justify_items": null,
       "left": null,
       "margin": null,
       "max_height": null,
       "max_width": null,
       "min_height": null,
       "min_width": null,
       "object_fit": null,
       "object_position": null,
       "order": null,
       "overflow": null,
       "overflow_x": null,
       "overflow_y": null,
       "padding": null,
       "right": null,
       "top": null,
       "visibility": null,
       "width": null
      }
     },
     "da4375819a1c4cb5adac2802d8f789fa": {
      "model_module": "@jupyter-widgets/controls",
      "model_module_version": "1.5.0",
      "model_name": "DescriptionStyleModel",
      "state": {
       "_model_module": "@jupyter-widgets/controls",
       "_model_module_version": "1.5.0",
       "_model_name": "DescriptionStyleModel",
       "_view_count": null,
       "_view_module": "@jupyter-widgets/base",
       "_view_module_version": "1.2.0",
       "_view_name": "StyleView",
       "description_width": ""
      }
     },
     "e12a12a51eca4a759c6ca1a8a763e0f1": {
      "model_module": "@jupyter-widgets/base",
      "model_module_version": "1.2.0",
      "model_name": "LayoutModel",
      "state": {
       "_model_module": "@jupyter-widgets/base",
       "_model_module_version": "1.2.0",
       "_model_name": "LayoutModel",
       "_view_count": null,
       "_view_module": "@jupyter-widgets/base",
       "_view_module_version": "1.2.0",
       "_view_name": "LayoutView",
       "align_content": null,
       "align_items": null,
       "align_self": null,
       "border": null,
       "bottom": null,
       "display": null,
       "flex": null,
       "flex_flow": null,
       "grid_area": null,
       "grid_auto_columns": null,
       "grid_auto_flow": null,
       "grid_auto_rows": null,
       "grid_column": null,
       "grid_gap": null,
       "grid_row": null,
       "grid_template_areas": null,
       "grid_template_columns": null,
       "grid_template_rows": null,
       "height": null,
       "justify_content": null,
       "justify_items": null,
       "left": null,
       "margin": null,
       "max_height": null,
       "max_width": null,
       "min_height": null,
       "min_width": null,
       "object_fit": null,
       "object_position": null,
       "order": null,
       "overflow": null,
       "overflow_x": null,
       "overflow_y": null,
       "padding": null,
       "right": null,
       "top": null,
       "visibility": null,
       "width": null
      }
     },
     "e9238f7ad44944139568d9a7a5a87c69": {
      "model_module": "@jupyter-widgets/base",
      "model_module_version": "1.2.0",
      "model_name": "LayoutModel",
      "state": {
       "_model_module": "@jupyter-widgets/base",
       "_model_module_version": "1.2.0",
       "_model_name": "LayoutModel",
       "_view_count": null,
       "_view_module": "@jupyter-widgets/base",
       "_view_module_version": "1.2.0",
       "_view_name": "LayoutView",
       "align_content": null,
       "align_items": null,
       "align_self": null,
       "border": null,
       "bottom": null,
       "display": null,
       "flex": null,
       "flex_flow": null,
       "grid_area": null,
       "grid_auto_columns": null,
       "grid_auto_flow": null,
       "grid_auto_rows": null,
       "grid_column": null,
       "grid_gap": null,
       "grid_row": null,
       "grid_template_areas": null,
       "grid_template_columns": null,
       "grid_template_rows": null,
       "height": null,
       "justify_content": null,
       "justify_items": null,
       "left": null,
       "margin": null,
       "max_height": null,
       "max_width": null,
       "min_height": null,
       "min_width": null,
       "object_fit": null,
       "object_position": null,
       "order": null,
       "overflow": null,
       "overflow_x": null,
       "overflow_y": null,
       "padding": null,
       "right": null,
       "top": null,
       "visibility": null,
       "width": null
      }
     },
     "efac1a17051b4403b9b527ccf67e3ca9": {
      "model_module": "@jupyter-widgets/controls",
      "model_module_version": "1.5.0",
      "model_name": "ProgressStyleModel",
      "state": {
       "_model_module": "@jupyter-widgets/controls",
       "_model_module_version": "1.5.0",
       "_model_name": "ProgressStyleModel",
       "_view_count": null,
       "_view_module": "@jupyter-widgets/base",
       "_view_module_version": "1.2.0",
       "_view_name": "StyleView",
       "bar_color": null,
       "description_width": "initial"
      }
     }
    },
    "version_major": 2,
    "version_minor": 0
   }
  }
 },
 "nbformat": 4,
 "nbformat_minor": 4
}
