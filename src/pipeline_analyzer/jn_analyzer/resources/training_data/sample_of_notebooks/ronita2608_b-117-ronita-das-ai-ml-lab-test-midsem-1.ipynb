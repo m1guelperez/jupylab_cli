{
 "cells": [
  {
   "cell_type": "code",
   "execution_count": 1,
   "metadata": {
    "_cell_guid": "b1076dfc-b9ad-4769-8c92-a6c4dae69d19",
    "_uuid": "8f2839f25d086af736a60e9eeb907d3b93b6e0e5",
    "execution": {
     "iopub.execute_input": "2020-09-21T06:32:30.089884Z",
     "iopub.status.busy": "2020-09-21T06:32:30.089125Z",
     "iopub.status.idle": "2020-09-21T06:32:30.092686Z",
     "shell.execute_reply": "2020-09-21T06:32:30.092019Z"
    },
    "papermill": {
     "duration": 0.018398,
     "end_time": "2020-09-21T06:32:30.092817",
     "exception": false,
     "start_time": "2020-09-21T06:32:30.074419",
     "status": "completed"
    },
    "tags": []
   },
   "outputs": [],
   "source": [
    "1\n",
    "import pandas as pd"
   ]
  },
  {
   "cell_type": "code",
   "execution_count": 2,
   "metadata": {
    "_cell_guid": "79c7e3d0-c299-4dcb-8224-4455121ee9b0",
    "_uuid": "d629ff2d2480ee46fbb7e2d37f6b5fab8052498a",
    "execution": {
     "iopub.execute_input": "2020-09-21T06:32:30.120957Z",
     "iopub.status.busy": "2020-09-21T06:32:30.120221Z",
     "iopub.status.idle": "2020-09-21T06:32:30.342383Z",
     "shell.execute_reply": "2020-09-21T06:32:30.342958Z"
    },
    "papermill": {
     "duration": 0.2415,
     "end_time": "2020-09-21T06:32:30.343130",
     "exception": false,
     "start_time": "2020-09-21T06:32:30.101630",
     "status": "completed"
    },
    "tags": []
   },
   "outputs": [
    {
     "data": {
      "text/html": [
       "<div>\n",
       "<style scoped>\n",
       "    .dataframe tbody tr th:only-of-type {\n",
       "        vertical-align: middle;\n",
       "    }\n",
       "\n",
       "    .dataframe tbody tr th {\n",
       "        vertical-align: top;\n",
       "    }\n",
       "\n",
       "    .dataframe thead th {\n",
       "        text-align: right;\n",
       "    }\n",
       "</style>\n",
       "<table border=\"1\" class=\"dataframe\">\n",
       "  <thead>\n",
       "    <tr style=\"text-align: right;\">\n",
       "      <th></th>\n",
       "      <th>airline</th>\n",
       "      <th>airline ID</th>\n",
       "      <th>source airport</th>\n",
       "      <th>source airport id</th>\n",
       "      <th>destination apirport</th>\n",
       "      <th>destination airport id</th>\n",
       "      <th>codeshare</th>\n",
       "      <th>stops</th>\n",
       "      <th>equipment</th>\n",
       "    </tr>\n",
       "  </thead>\n",
       "  <tbody>\n",
       "    <tr>\n",
       "      <th>0</th>\n",
       "      <td>2B</td>\n",
       "      <td>410</td>\n",
       "      <td>AER</td>\n",
       "      <td>2965</td>\n",
       "      <td>KZN</td>\n",
       "      <td>2990</td>\n",
       "      <td>NaN</td>\n",
       "      <td>0</td>\n",
       "      <td>CR2</td>\n",
       "    </tr>\n",
       "    <tr>\n",
       "      <th>1</th>\n",
       "      <td>2B</td>\n",
       "      <td>410</td>\n",
       "      <td>ASF</td>\n",
       "      <td>2966</td>\n",
       "      <td>KZN</td>\n",
       "      <td>2990</td>\n",
       "      <td>NaN</td>\n",
       "      <td>0</td>\n",
       "      <td>CR2</td>\n",
       "    </tr>\n",
       "    <tr>\n",
       "      <th>2</th>\n",
       "      <td>2B</td>\n",
       "      <td>410</td>\n",
       "      <td>ASF</td>\n",
       "      <td>2966</td>\n",
       "      <td>MRV</td>\n",
       "      <td>2962</td>\n",
       "      <td>NaN</td>\n",
       "      <td>0</td>\n",
       "      <td>CR2</td>\n",
       "    </tr>\n",
       "  </tbody>\n",
       "</table>\n",
       "</div>"
      ],
      "text/plain": [
       "  airline airline ID  source airport  source airport id  destination apirport  \\\n",
       "0      2B        410             AER               2965                   KZN   \n",
       "1      2B        410             ASF               2966                   KZN   \n",
       "2      2B        410             ASF               2966                   MRV   \n",
       "\n",
       "   destination airport id  codeshare   stops  equipment  \n",
       "0                    2990        NaN       0        CR2  \n",
       "1                    2990        NaN       0        CR2  \n",
       "2                    2962        NaN       0        CR2  "
      ]
     },
     "execution_count": 2,
     "metadata": {},
     "output_type": "execute_result"
    }
   ],
   "source": [
    "data=pd.read_csv('../input/flight-route-database/routes.csv')\n",
    "nan=data[data.isnull().any(axis=1)].head()\n",
    "nan.iloc[0:3]"
   ]
  },
  {
   "cell_type": "code",
   "execution_count": 3,
   "metadata": {
    "execution": {
     "iopub.execute_input": "2020-09-21T06:32:30.422070Z",
     "iopub.status.busy": "2020-09-21T06:32:30.367297Z",
     "iopub.status.idle": "2020-09-21T06:32:30.451860Z",
     "shell.execute_reply": "2020-09-21T06:32:30.451259Z"
    },
    "papermill": {
     "duration": 0.099253,
     "end_time": "2020-09-21T06:32:30.451989",
     "exception": false,
     "start_time": "2020-09-21T06:32:30.352736",
     "status": "completed"
    },
    "tags": []
   },
   "outputs": [
    {
     "data": {
      "text/html": [
       "<div>\n",
       "<style scoped>\n",
       "    .dataframe tbody tr th:only-of-type {\n",
       "        vertical-align: middle;\n",
       "    }\n",
       "\n",
       "    .dataframe tbody tr th {\n",
       "        vertical-align: top;\n",
       "    }\n",
       "\n",
       "    .dataframe thead th {\n",
       "        text-align: right;\n",
       "    }\n",
       "</style>\n",
       "<table border=\"1\" class=\"dataframe\">\n",
       "  <thead>\n",
       "    <tr style=\"text-align: right;\">\n",
       "      <th></th>\n",
       "      <th>airline</th>\n",
       "      <th>airline ID</th>\n",
       "      <th>source airport</th>\n",
       "      <th>source airport id</th>\n",
       "      <th>destination apirport</th>\n",
       "      <th>destination airport id</th>\n",
       "      <th>codeshare</th>\n",
       "      <th>stops</th>\n",
       "      <th>equipment</th>\n",
       "    </tr>\n",
       "  </thead>\n",
       "  <tbody>\n",
       "    <tr>\n",
       "      <th>0</th>\n",
       "      <td>2B</td>\n",
       "      <td>410</td>\n",
       "      <td>AER</td>\n",
       "      <td>2965</td>\n",
       "      <td>KZN</td>\n",
       "      <td>2990</td>\n",
       "      <td>0</td>\n",
       "      <td>0</td>\n",
       "      <td>CR2</td>\n",
       "    </tr>\n",
       "    <tr>\n",
       "      <th>1</th>\n",
       "      <td>2B</td>\n",
       "      <td>410</td>\n",
       "      <td>ASF</td>\n",
       "      <td>2966</td>\n",
       "      <td>KZN</td>\n",
       "      <td>2990</td>\n",
       "      <td>0</td>\n",
       "      <td>0</td>\n",
       "      <td>CR2</td>\n",
       "    </tr>\n",
       "    <tr>\n",
       "      <th>2</th>\n",
       "      <td>2B</td>\n",
       "      <td>410</td>\n",
       "      <td>ASF</td>\n",
       "      <td>2966</td>\n",
       "      <td>MRV</td>\n",
       "      <td>2962</td>\n",
       "      <td>0</td>\n",
       "      <td>0</td>\n",
       "      <td>CR2</td>\n",
       "    </tr>\n",
       "    <tr>\n",
       "      <th>3</th>\n",
       "      <td>2B</td>\n",
       "      <td>410</td>\n",
       "      <td>CEK</td>\n",
       "      <td>2968</td>\n",
       "      <td>KZN</td>\n",
       "      <td>2990</td>\n",
       "      <td>0</td>\n",
       "      <td>0</td>\n",
       "      <td>CR2</td>\n",
       "    </tr>\n",
       "    <tr>\n",
       "      <th>4</th>\n",
       "      <td>2B</td>\n",
       "      <td>410</td>\n",
       "      <td>CEK</td>\n",
       "      <td>2968</td>\n",
       "      <td>OVB</td>\n",
       "      <td>4078</td>\n",
       "      <td>0</td>\n",
       "      <td>0</td>\n",
       "      <td>CR2</td>\n",
       "    </tr>\n",
       "  </tbody>\n",
       "</table>\n",
       "</div>"
      ],
      "text/plain": [
       "  airline airline ID  source airport  source airport id  destination apirport  \\\n",
       "0      2B        410             AER               2965                   KZN   \n",
       "1      2B        410             ASF               2966                   KZN   \n",
       "2      2B        410             ASF               2966                   MRV   \n",
       "3      2B        410             CEK               2968                   KZN   \n",
       "4      2B        410             CEK               2968                   OVB   \n",
       "\n",
       "   destination airport id  codeshare   stops  equipment  \n",
       "0                    2990          0       0        CR2  \n",
       "1                    2990          0       0        CR2  \n",
       "2                    2962          0       0        CR2  \n",
       "3                    2990          0       0        CR2  \n",
       "4                    4078          0       0        CR2  "
      ]
     },
     "execution_count": 3,
     "metadata": {},
     "output_type": "execute_result"
    }
   ],
   "source": [
    "data2=data.fillna(0)\n",
    "data2.head()"
   ]
  },
  {
   "cell_type": "code",
   "execution_count": 4,
   "metadata": {
    "execution": {
     "iopub.execute_input": "2020-09-21T06:32:30.477067Z",
     "iopub.status.busy": "2020-09-21T06:32:30.476341Z",
     "iopub.status.idle": "2020-09-21T06:32:30.479926Z",
     "shell.execute_reply": "2020-09-21T06:32:30.479261Z"
    },
    "papermill": {
     "duration": 0.018184,
     "end_time": "2020-09-21T06:32:30.480115",
     "exception": false,
     "start_time": "2020-09-21T06:32:30.461931",
     "status": "completed"
    },
    "tags": []
   },
   "outputs": [],
   "source": [
    "2\n",
    "import matplotlib.pyplot as plt"
   ]
  },
  {
   "cell_type": "code",
   "execution_count": 5,
   "metadata": {
    "execution": {
     "iopub.execute_input": "2020-09-21T06:32:30.507818Z",
     "iopub.status.busy": "2020-09-21T06:32:30.507050Z",
     "iopub.status.idle": "2020-09-21T06:32:30.692213Z",
     "shell.execute_reply": "2020-09-21T06:32:30.691477Z"
    },
    "papermill": {
     "duration": 0.202156,
     "end_time": "2020-09-21T06:32:30.692334",
     "exception": false,
     "start_time": "2020-09-21T06:32:30.490178",
     "status": "completed"
    },
    "tags": []
   },
   "outputs": [
    {
     "data": {
      "text/plain": [
       "Text(0, 0.5, 'SCORE')"
      ]
     },
     "execution_count": 5,
     "metadata": {},
     "output_type": "execute_result"
    },
    {
     "data": {
      "image/png": "[encoded data removed]",
      "text/plain": [
       "<Figure size 432x288 with 1 Axes>"
      ]
     },
     "metadata": {
      "needs_background": "light"
     },
     "output_type": "display_data"
    }
   ],
   "source": [
    "team=['CSK','KKR','DC','MI']\n",
    "score=[149,218,188,143]\n",
    "plt.bar(team,score,color=['gold','purple','gold','gold'])\n",
    "plt.title('IPL TEAM SCORE GRAPH')\n",
    "plt.xlabel('TEAMS')\n",
    "plt.ylabel('SCORE')"
   ]
  },
  {
   "cell_type": "code",
   "execution_count": 6,
   "metadata": {
    "execution": {
     "iopub.execute_input": "2020-09-21T06:32:30.721196Z",
     "iopub.status.busy": "2020-09-21T06:32:30.720114Z",
     "iopub.status.idle": "2020-09-21T06:32:30.722924Z",
     "shell.execute_reply": "2020-09-21T06:32:30.723477Z"
    },
    "papermill": {
     "duration": 0.019546,
     "end_time": "2020-09-21T06:32:30.723637",
     "exception": false,
     "start_time": "2020-09-21T06:32:30.704091",
     "status": "completed"
    },
    "tags": []
   },
   "outputs": [],
   "source": [
    "3\n",
    "import numpy as np"
   ]
  },
  {
   "cell_type": "code",
   "execution_count": 7,
   "metadata": {
    "execution": {
     "iopub.execute_input": "2020-09-21T06:32:30.759004Z",
     "iopub.status.busy": "2020-09-21T06:32:30.757815Z",
     "iopub.status.idle": "2020-09-21T06:32:30.763078Z",
     "shell.execute_reply": "2020-09-21T06:32:30.762022Z"
    },
    "papermill": {
     "duration": 0.027978,
     "end_time": "2020-09-21T06:32:30.763248",
     "exception": false,
     "start_time": "2020-09-21T06:32:30.735270",
     "status": "completed"
    },
    "tags": []
   },
   "outputs": [
    {
     "name": "stdout",
     "output_type": "stream",
     "text": [
      "ARRAY 1: [  5  10  15  20  25  30  35  40  45  50  55  60  65  70  75  80  85  90\n",
      "  95 100]\n",
      "ARRAY 2: [ 2  5  6 10 80]\n",
      "NEW ARRAY: [ 15  20  25  30  35  40  45  50  55  60  65  70  75  85  90  95 100]\n",
      "ARRAY 2: [ 2  5  6 10 80]\n"
     ]
    }
   ],
   "source": [
    "a1=np.array([5, 10, 15, 20, 25, 30, 35, 40, 45, 50, 55, 60, 65, 70, 75, 80, 85, 90, 95, 100])\n",
    "a2=np.array([2,5,6,10,80])\n",
    "temp=[m for m, val in enumerate(a1) if val in set(a2)]\n",
    "new_arr=np.delete(a1,temp)\n",
    "print(\"ARRAY 1:\",a1)\n",
    "print(\"ARRAY 2:\",a2)\n",
    "print(\"NEW ARRAY:\",new_arr)\n",
    "print(\"ARRAY 2:\",a2)"
   ]
  },
  {
   "cell_type": "code",
   "execution_count": 8,
   "metadata": {
    "execution": {
     "iopub.execute_input": "2020-09-21T06:32:30.793895Z",
     "iopub.status.busy": "2020-09-21T06:32:30.792846Z",
     "iopub.status.idle": "2020-09-21T06:32:30.796391Z",
     "shell.execute_reply": "2020-09-21T06:32:30.795649Z"
    },
    "papermill": {
     "duration": 0.020744,
     "end_time": "2020-09-21T06:32:30.796522",
     "exception": false,
     "start_time": "2020-09-21T06:32:30.775778",
     "status": "completed"
    },
    "tags": []
   },
   "outputs": [],
   "source": [
    "4\n",
    "import pandas as pd\n",
    "import numpy as np"
   ]
  },
  {
   "cell_type": "code",
   "execution_count": 9,
   "metadata": {
    "execution": {
     "iopub.execute_input": "2020-09-21T06:32:30.832135Z",
     "iopub.status.busy": "2020-09-21T06:32:30.831156Z",
     "iopub.status.idle": "2020-09-21T06:32:32.138114Z",
     "shell.execute_reply": "2020-09-21T06:32:32.138753Z"
    },
    "papermill": {
     "duration": 1.329871,
     "end_time": "2020-09-21T06:32:32.138912",
     "exception": false,
     "start_time": "2020-09-21T06:32:30.809041",
     "status": "completed"
    },
    "tags": []
   },
   "outputs": [
    {
     "name": "stdout",
     "output_type": "stream",
     "text": [
      "F1 Score: 0.6785714285714285\n",
      "\n",
      "Confusion Matrix(below):\n",
      "\n"
     ]
    },
    {
     "name": "stderr",
     "output_type": "stream",
     "text": [
      "/opt/conda/lib/python3.7/site-packages/sklearn/linear_model/_logistic.py:764: ConvergenceWarning: lbfgs failed to converge (status=1):\n",
      "STOP: TOTAL NO. of ITERATIONS REACHED LIMIT.\n",
      "\n",
      "Increase the number of iterations (max_iter) or scale the data as shown in:\n",
      "    https://scikit-learn.org/stable/modules/preprocessing.html\n",
      "Please also refer to the documentation for alternative solver options:\n",
      "    https://scikit-learn.org/stable/modules/linear_model.html#logistic-regression\n",
      "  extra_warning_msg=_LOGISTIC_SOLVER_CONVERGENCE_MSG)\n"
     ]
    },
    {
     "data": {
      "text/plain": [
       "array([[127,  16],\n",
       "       [ 38,  57]])"
      ]
     },
     "execution_count": 9,
     "metadata": {},
     "output_type": "execute_result"
    }
   ],
   "source": [
    "from sklearn.model_selection import train_test_split\n",
    "from sklearn.metrics import confusion_matrix\n",
    "from sklearn.model_selection import cross_val_predict\n",
    "from sklearn.linear_model import LogisticRegression\n",
    "from sklearn.metrics import f1_score\n",
    "\n",
    "train = pd.read_csv(\"../input/titanic/train_data.csv\")\n",
    "\n",
    "\n",
    "X = train.drop(\"Survived\",axis=1)\n",
    "y = train[\"Survived\"]\n",
    "\n",
    "X_train, X_test, y_train, y_test = train_test_split(X, y, test_size = 0.3, random_state = 101)\n",
    "\n",
    "logmodel = LogisticRegression()\n",
    "logmodel.fit(X_train,y_train)\n",
    "\n",
    "predictions = logmodel.predict(X_test)\n",
    "\n",
    "print(\"F1 Score:\",f1_score(y_test, predictions))\n",
    " \n",
    "print(\"\\nConfusion Matrix(below):\\n\")\n",
    "confusion_matrix(y_test, predictions)"
   ]
  }
 ],
 "metadata": {
  "kernelspec": {
   "display_name": "Python 3",
   "language": "python",
   "name": "python3"
  },
  "language_info": {
   "codemirror_mode": {
    "name": "ipython",
    "version": 3
   },
   "file_extension": ".py",
   "mimetype": "text/x-python",
   "name": "python",
   "nbconvert_exporter": "python",
   "pygments_lexer": "ipython3",
   "version": "3.7.6"
  },
  "papermill": {
   "duration": 7.108436,
   "end_time": "2020-09-21T06:32:32.263355",
   "environment_variables": {},
   "exception": null,
   "input_path": "__notebook__.ipynb",
   "output_path": "__notebook__.ipynb",
   "parameters": {},
   "start_time": "2020-09-21T06:32:25.154919",
   "version": "2.1.0"
  }
 },
 "nbformat": 4,
 "nbformat_minor": 4
}
