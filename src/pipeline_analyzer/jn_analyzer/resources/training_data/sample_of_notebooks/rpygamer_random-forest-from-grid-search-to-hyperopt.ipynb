{
 "cells": [
  {
   "cell_type": "markdown",
   "metadata": {
    "_cell_guid": "f12278d0-0f97-f5a0-b932-bf00f5c90d7b"
   },
   "source": [
    "Don't forget the quieter you become the more you are able to hear(RT) \n"
   ]
  },
  {
   "cell_type": "code",
   "execution_count": 1,
   "metadata": {
    "_cell_guid": "57e65c5c-682e-5912-69df-8ede7ffdae32"
   },
   "outputs": [
    {
     "name": "stdout",
     "output_type": "stream",
     "text": [
      "genderclassmodel.csv\n",
      "gendermodel.csv\n",
      "gendermodel.py\n",
      "myfirstforest.py\n",
      "test.csv\n",
      "train.csv\n",
      "\n"
     ]
    }
   ],
   "source": [
    "# This Python 3 environment comes with many helpful analytics libraries installed\n",
    "# It is defined by the kaggle/python docker image: https://github.com/kaggle/docker-python\n",
    "# For example, here's several helpful packages to load in \n",
    "\n",
    "import numpy as np # linear algebra\n",
    "import pandas as pd # data processing, CSV file I/O (e.g. pd.read_csv)\n",
    "\n",
    "# Input data files are available in the \"../input/\" directory.\n",
    "# For example, running this (by clicking run or pressing Shift+Enter) will list the files in the input directory\n",
    "\n",
    "from subprocess import check_output\n",
    "print(check_output([\"ls\", \"../input\"]).decode(\"utf8\"))\n",
    "\n",
    "# Any results you write to the current directory are saved as output."
   ]
  },
  {
   "cell_type": "markdown",
   "metadata": {
    "_cell_guid": "276b0027-6c7b-ca84-bffb-c5e532f2ea2b"
   },
   "source": [
    "In this kernel i will try to compare performance of the random forest model on the Titanic train data set using only hyper parameter optimization.\n",
    "Note that i will not use any complicated feature engineering only label encoder or dummies for categorical feature."
   ]
  },
  {
   "cell_type": "markdown",
   "metadata": {
    "_cell_guid": "15bab02a-1caf-579e-1cff-81c25225a28f"
   },
   "source": [
    "**I. What is Random Forest ?**\n",
    "\n",
    "Random Forest is an ensemble tool which takes a subset of observations and a subset of variables to build a decision trees. It builds multiple such decision tree and amalgamate them together to get a more accurate and stable prediction. This is direct consequence of the fact that by maximum voting from a panel of independent judges, we get the final prediction better than the best judge. See Random Forest (Leo Brieman) https://www.stat.berkeley.edu/~breiman/randomforest2001.pdf"
   ]
  },
  {
   "cell_type": "markdown",
   "metadata": {
    "_cell_guid": "30211882-5fea-cf2f-1fb6-b9572b7eee79"
   },
   "source": [
    " **II. Random Forest Parameters** "
   ]
  },
  {
   "cell_type": "markdown",
   "metadata": {
    "_cell_guid": "6e22dbd9-7d55-227f-d3c0-8eb73c9123c3"
   },
   "source": [
    "**n_estimators**  : integer, optional (default=10) The number of trees in the forest.\n",
    "\n",
    "**criterion** : string, optional (default=”gini”)\n",
    "The function to measure the quality of a split. Supported criteria are “gini” for the Gini impurity and “entropy” for the information gain. Note: this parameter is tree-specific.\n",
    "\n",
    "**max_features** : int, float, string or None, optional (default=”auto”)\n",
    "The number of features to consider when looking for the best split:\n",
    "If int, then consider max_features features at each split.\n",
    "If float, then max_features is a percentage and int(max_features * n_features) features are considered at each split.\n",
    "If “auto”, then max_features=sqrt(n_features).\n",
    "If “sqrt”, then max_features=sqrt(n_features) (same as “auto”).\n",
    "If “log2”, then max_features=log2(n_features).\n",
    "If None, then max_features=n_features.\n",
    "Note: the search for a split does not stop until at least one valid partition of the node samples is found, even if it requires to effectively inspect more than max_features features.\n",
    "\n",
    "**max_depth** : integer or None, optional (default=None)\n",
    "The maximum depth of the tree. If None, then nodes are expanded until all leaves are pure or until all leaves contain less than min_samples_split samples.\n",
    "\n",
    "**min_samples_split** : int, float, optional (default=2)\n",
    "The minimum number of samples required to split an internal node:\n",
    "If int, then consider min_samples_split as the minimum number.\n",
    "If float, then min_samples_split is a percentage and ceil(min_samples_split * n_samples) are the minimum number of samples for each split.\n",
    "Changed in version 0.18: Added float values for percentages.\n",
    "\n",
    "**min_samples_leaf** : int, float, optional (default=1)\n",
    "The minimum number of samples required to be at a leaf node:\n",
    "If int, then consider min_samples_leaf as the minimum number.\n",
    "If float, then min_samples_leaf is a percentage and ceil(min_samples_leaf * n_samples) are the minimum number of samples for each node.\n",
    "Changed in version 0.18: Added float values for percentages.\n",
    "\n",
    "**min_weight_fraction_leaf** : float, optional (default=0.)\n",
    "The minimum weighted fraction of the sum total of weights (of all the input samples) required to be at a leaf node. Samples have equal weight when sample_weight is not provided.\n",
    "max_leaf_nodes : int or None, optional (default=None)\n",
    "Grow trees with max_leaf_nodes in best-first fashion. Best nodes are defined as relative reduction in impurity. If None then unlimited number of leaf nodes.\n",
    "\n",
    "**min_impurity_split** : float, optional (default=1e-7)\n",
    "Threshold for early stopping in tree growth. A node will split if its impurity is above the threshold, otherwise it is a leaf.\n",
    "New in version 0.18.\n",
    "\n",
    "**bootstrap** : boolean, optional (default=True)\n",
    "Whether bootstrap samples are used when building trees.\n",
    "\n",
    "**oob_score**: bool (default=False)\n",
    "Whether to use out-of-bag samples to estimate the generalization accuracy.\n",
    "\n",
    "**n_jobs** : integer, optional (default=1)\n",
    "The number of jobs to run in parallel for both fit and predict. If -1, then the number of jobs is set to the number of cores.\n",
    "\n",
    "**random_state** : int, RandomState instance or None, optional (default=None)\n",
    "If int, random_state is the seed used by the random number generator; If RandomState instance, random_state is the random number generator; If None, the random number generator is the RandomState instance used by np.random.\n",
    "\n",
    "**verbose** : int, optional (default=0)\n",
    "Controls the verbosity of the tree building process.\n",
    "\n",
    "**warm_start**: bool, optional (default=False)\n",
    "When set to True, reuse the solution of the previous call to fit and add more estimators to the ensemble, otherwise, just fit a whole new forest.\n",
    "\n",
    "**class_weight** : dict, list of dicts, “balanced”,"
   ]
  },
  {
   "cell_type": "markdown",
   "metadata": {
    "_cell_guid": "facc51f7-9a4a-a54c-9893-05ee47f9505c"
   },
   "source": [
    "**III. Parameters to be tuned :**"
   ]
  },
  {
   "cell_type": "markdown",
   "metadata": {
    "_cell_guid": "f10b0063-49bf-5b7b-6348-7e940fb9945a"
   },
   "source": [
    "In this notebook the parameters that will be tuned are : **max_features**, \n",
    "**n_estimators**, **max_depth**, **min_samples_split** and **criterion** \n"
   ]
  },
  {
   "cell_type": "markdown",
   "metadata": {
    "_cell_guid": "3dcbafbc-a05c-4521-f0a4-2670dca71eb0"
   },
   "source": [
    "**IV. Finally some Code** "
   ]
  },
  {
   "cell_type": "markdown",
   "metadata": {
    "_cell_guid": "5bd15b02-0f61-64c9-945f-056be28781ad"
   },
   "source": [
    "**IV.1. Load modules** "
   ]
  },
  {
   "cell_type": "code",
   "execution_count": 2,
   "metadata": {
    "_cell_guid": "7c0d8fa5-b113-39cc-6789-32f6c4146146"
   },
   "outputs": [
    {
     "name": "stderr",
     "output_type": "stream",
     "text": [
      "/opt/conda/lib/python3.5/site-packages/sklearn/cross_validation.py:44: DeprecationWarning: This module was deprecated in version 0.18 in favor of the model_selection module into which all the refactored classes and functions are moved. Also note that the interface of the new CV iterators are different from that of this module. This module will be removed in 0.20.\n",
      "  \"This module will be removed in 0.20.\", DeprecationWarning)\n",
      "/opt/conda/lib/python3.5/site-packages/sklearn/grid_search.py:43: DeprecationWarning: This module was deprecated in version 0.18 in favor of the model_selection module into which all the refactored classes and functions are moved. This module will be removed in 0.20.\n",
      "  DeprecationWarning)\n"
     ]
    }
   ],
   "source": [
    "#=====================================================================================================================\n",
    "import pandas as pd                                       # data processing and CSV file I/O library\n",
    "import numpy as np                                        # Algebra library\n",
    "#import pandas_profiling as pdp                            # explore data \n",
    "#======================================================================================================================\n",
    "from sklearn.ensemble.forest import RandomForestClassifier# to import the random forest Model \n",
    "from sklearn.metrics import roc_curve, auc                # to import roc curve abd auc metrics for evaluation \n",
    "from sklearn.grid_search import GridSearchCV              # grid search is used for hyperparameters-optimization\n",
    "from sklearn.model_selection import KFold                # cross validation using the kfold algorithm\n",
    "#from hyperopt import fmin, tpe, hp, STATUS_OK, Trials     # library for hyperparameters-optimization\n",
    "#=======================================================================================================================\n",
    "#  Plotting imports\n",
    "import seaborn as sns                                     # Python graphing library\n",
    "import matplotlib.pyplot as plt\n",
    "%matplotlib inline"
   ]
  },
  {
   "cell_type": "markdown",
   "metadata": {
    "_cell_guid": "9870af39-97dc-b0fe-a297-63b72a09a0b5"
   },
   "source": [
    "**IV.2. Function for model performance using AUC**"
   ]
  },
  {
   "cell_type": "code",
   "execution_count": 3,
   "metadata": {
    "_cell_guid": "4c97dc8f-7583-7681-6095-8a9ab48dc6bd"
   },
   "outputs": [],
   "source": [
    "def Performance(Model,Y,X):\n",
    "    # Perforamnce of the model\n",
    "    fpr, tpr, _ = roc_curve(Y, Model.predict_proba(X)[:,1])\n",
    "    AUC  = auc(fpr, tpr)\n",
    "    print ('the AUC is : %0.4f' %  AUC)\n",
    "    plt.figure()\n",
    "    plt.plot(fpr, tpr, label='ROC curve (area = %0.4f)' % AUC)\n",
    "    plt.plot([0, 1], [0, 1], 'k--')\n",
    "    plt.xlim([0.0, 1.0])\n",
    "    plt.ylim([0.0, 1.05])\n",
    "    plt.xlabel('False Positive Rate')\n",
    "    plt.ylabel('True Positive Rate')\n",
    "    plt.title('ROC Curve')\n",
    "    plt.legend(loc=\"lower right\")\n",
    "    plt.show()"
   ]
  },
  {
   "cell_type": "markdown",
   "metadata": {
    "_cell_guid": "237902a9-f98d-d3fc-f057-412b653dd48b"
   },
   "source": [
    "**IV.3. Data**"
   ]
  },
  {
   "cell_type": "code",
   "execution_count": 4,
   "metadata": {
    "_cell_guid": "4f002033-3ae8-999e-4821-4245dfd95222"
   },
   "outputs": [
    {
     "data": {
      "text/html": [
       "<div>\n",
       "<table border=\"1\" class=\"dataframe\">\n",
       "  <thead>\n",
       "    <tr style=\"text-align: right;\">\n",
       "      <th></th>\n",
       "      <th>PassengerId</th>\n",
       "      <th>Survived</th>\n",
       "      <th>Pclass</th>\n",
       "      <th>Name</th>\n",
       "      <th>Sex</th>\n",
       "      <th>Age</th>\n",
       "      <th>SibSp</th>\n",
       "      <th>Parch</th>\n",
       "      <th>Ticket</th>\n",
       "      <th>Fare</th>\n",
       "      <th>Cabin</th>\n",
       "      <th>Embarked</th>\n",
       "    </tr>\n",
       "  </thead>\n",
       "  <tbody>\n",
       "    <tr>\n",
       "      <th>0</th>\n",
       "      <td>1</td>\n",
       "      <td>0</td>\n",
       "      <td>3</td>\n",
       "      <td>Braund, Mr. Owen Harris</td>\n",
       "      <td>male</td>\n",
       "      <td>22.0</td>\n",
       "      <td>1</td>\n",
       "      <td>0</td>\n",
       "      <td>A/5 21171</td>\n",
       "      <td>7.2500</td>\n",
       "      <td>NaN</td>\n",
       "      <td>S</td>\n",
       "    </tr>\n",
       "    <tr>\n",
       "      <th>1</th>\n",
       "      <td>2</td>\n",
       "      <td>1</td>\n",
       "      <td>1</td>\n",
       "      <td>Cumings, Mrs. John Bradley (Florence Briggs Th...</td>\n",
       "      <td>female</td>\n",
       "      <td>38.0</td>\n",
       "      <td>1</td>\n",
       "      <td>0</td>\n",
       "      <td>PC 17599</td>\n",
       "      <td>71.2833</td>\n",
       "      <td>C85</td>\n",
       "      <td>C</td>\n",
       "    </tr>\n",
       "    <tr>\n",
       "      <th>2</th>\n",
       "      <td>3</td>\n",
       "      <td>1</td>\n",
       "      <td>3</td>\n",
       "      <td>Heikkinen, Miss. Laina</td>\n",
       "      <td>female</td>\n",
       "      <td>26.0</td>\n",
       "      <td>0</td>\n",
       "      <td>0</td>\n",
       "      <td>STON/O2. 3101282</td>\n",
       "      <td>7.9250</td>\n",
       "      <td>NaN</td>\n",
       "      <td>S</td>\n",
       "    </tr>\n",
       "    <tr>\n",
       "      <th>3</th>\n",
       "      <td>4</td>\n",
       "      <td>1</td>\n",
       "      <td>1</td>\n",
       "      <td>Futrelle, Mrs. Jacques Heath (Lily May Peel)</td>\n",
       "      <td>female</td>\n",
       "      <td>35.0</td>\n",
       "      <td>1</td>\n",
       "      <td>0</td>\n",
       "      <td>113803</td>\n",
       "      <td>53.1000</td>\n",
       "      <td>C123</td>\n",
       "      <td>S</td>\n",
       "    </tr>\n",
       "    <tr>\n",
       "      <th>4</th>\n",
       "      <td>5</td>\n",
       "      <td>0</td>\n",
       "      <td>3</td>\n",
       "      <td>Allen, Mr. William Henry</td>\n",
       "      <td>male</td>\n",
       "      <td>35.0</td>\n",
       "      <td>0</td>\n",
       "      <td>0</td>\n",
       "      <td>373450</td>\n",
       "      <td>8.0500</td>\n",
       "      <td>NaN</td>\n",
       "      <td>S</td>\n",
       "    </tr>\n",
       "  </tbody>\n",
       "</table>\n",
       "</div>"
      ],
      "text/plain": [
       "   PassengerId  Survived  Pclass  \\\n",
       "0            1         0       3   \n",
       "1            2         1       1   \n",
       "2            3         1       3   \n",
       "3            4         1       1   \n",
       "4            5         0       3   \n",
       "\n",
       "                                                Name     Sex   Age  SibSp  \\\n",
       "0                            Braund, Mr. Owen Harris    male  22.0      1   \n",
       "1  Cumings, Mrs. John Bradley (Florence Briggs Th...  female  38.0      1   \n",
       "2                             Heikkinen, Miss. Laina  female  26.0      0   \n",
       "3       Futrelle, Mrs. Jacques Heath (Lily May Peel)  female  35.0      1   \n",
       "4                           Allen, Mr. William Henry    male  35.0      0   \n",
       "\n",
       "   Parch            Ticket     Fare Cabin Embarked  \n",
       "0      0         A/5 21171   7.2500   NaN        S  \n",
       "1      0          PC 17599  71.2833   C85        C  \n",
       "2      0  STON/O2. 3101282   7.9250   NaN        S  \n",
       "3      0            113803  53.1000  C123        S  \n",
       "4      0            373450   8.0500   NaN        S  "
      ]
     },
     "execution_count": 4,
     "metadata": {},
     "output_type": "execute_result"
    }
   ],
   "source": [
    "frame= pd.read_csv(\"../input/train.csv\")\n",
    "frame.head()"
   ]
  },
  {
   "cell_type": "code",
   "execution_count": 5,
   "metadata": {
    "_cell_guid": "47c06e1f-696b-7aa2-f45e-dc112bca7b70"
   },
   "outputs": [
    {
     "data": {
      "text/html": [
       "<div>\n",
       "<table border=\"1\" class=\"dataframe\">\n",
       "  <thead>\n",
       "    <tr style=\"text-align: right;\">\n",
       "      <th></th>\n",
       "      <th>Survived</th>\n",
       "      <th>Pclass</th>\n",
       "      <th>Sex</th>\n",
       "      <th>Age</th>\n",
       "      <th>SibSp</th>\n",
       "      <th>Parch</th>\n",
       "      <th>Fare</th>\n",
       "      <th>Cabin</th>\n",
       "      <th>Embarked</th>\n",
       "    </tr>\n",
       "  </thead>\n",
       "  <tbody>\n",
       "    <tr>\n",
       "      <th>0</th>\n",
       "      <td>0</td>\n",
       "      <td>3</td>\n",
       "      <td>male</td>\n",
       "      <td>22.0</td>\n",
       "      <td>1</td>\n",
       "      <td>0</td>\n",
       "      <td>7.2500</td>\n",
       "      <td>NaN</td>\n",
       "      <td>S</td>\n",
       "    </tr>\n",
       "    <tr>\n",
       "      <th>1</th>\n",
       "      <td>1</td>\n",
       "      <td>1</td>\n",
       "      <td>female</td>\n",
       "      <td>38.0</td>\n",
       "      <td>1</td>\n",
       "      <td>0</td>\n",
       "      <td>71.2833</td>\n",
       "      <td>C85</td>\n",
       "      <td>C</td>\n",
       "    </tr>\n",
       "    <tr>\n",
       "      <th>2</th>\n",
       "      <td>1</td>\n",
       "      <td>3</td>\n",
       "      <td>female</td>\n",
       "      <td>26.0</td>\n",
       "      <td>0</td>\n",
       "      <td>0</td>\n",
       "      <td>7.9250</td>\n",
       "      <td>NaN</td>\n",
       "      <td>S</td>\n",
       "    </tr>\n",
       "    <tr>\n",
       "      <th>3</th>\n",
       "      <td>1</td>\n",
       "      <td>1</td>\n",
       "      <td>female</td>\n",
       "      <td>35.0</td>\n",
       "      <td>1</td>\n",
       "      <td>0</td>\n",
       "      <td>53.1000</td>\n",
       "      <td>C123</td>\n",
       "      <td>S</td>\n",
       "    </tr>\n",
       "    <tr>\n",
       "      <th>4</th>\n",
       "      <td>0</td>\n",
       "      <td>3</td>\n",
       "      <td>male</td>\n",
       "      <td>35.0</td>\n",
       "      <td>0</td>\n",
       "      <td>0</td>\n",
       "      <td>8.0500</td>\n",
       "      <td>NaN</td>\n",
       "      <td>S</td>\n",
       "    </tr>\n",
       "  </tbody>\n",
       "</table>\n",
       "</div>"
      ],
      "text/plain": [
       "   Survived  Pclass     Sex   Age  SibSp  Parch     Fare Cabin Embarked\n",
       "0         0       3    male  22.0      1      0   7.2500   NaN        S\n",
       "1         1       1  female  38.0      1      0  71.2833   C85        C\n",
       "2         1       3  female  26.0      0      0   7.9250   NaN        S\n",
       "3         1       1  female  35.0      1      0  53.1000  C123        S\n",
       "4         0       3    male  35.0      0      0   8.0500   NaN        S"
      ]
     },
     "execution_count": 5,
     "metadata": {},
     "output_type": "execute_result"
    }
   ],
   "source": [
    "data=frame.drop(['Name','Ticket','PassengerId'],axis=1)\n",
    "data.head()"
   ]
  },
  {
   "cell_type": "code",
   "execution_count": 6,
   "metadata": {
    "_cell_guid": "d85dd6b6-1325-1e3b-2681-9d0c7a7db40a"
   },
   "outputs": [],
   "source": [
    "data=data.fillna(-9999,inplace=False)"
   ]
  },
  {
   "cell_type": "code",
   "execution_count": 7,
   "metadata": {
    "_cell_guid": "b627a1bd-d6f5-c324-2b52-5ed432d24975"
   },
   "outputs": [],
   "source": [
    "BM=pd.get_dummies(data)"
   ]
  },
  {
   "cell_type": "code",
   "execution_count": 8,
   "metadata": {
    "_cell_guid": "f464cec9-0b80-a877-68ea-bad7285e95f4"
   },
   "outputs": [
    {
     "data": {
      "text/html": [
       "<div>\n",
       "<table border=\"1\" class=\"dataframe\">\n",
       "  <thead>\n",
       "    <tr style=\"text-align: right;\">\n",
       "      <th></th>\n",
       "      <th>Survived</th>\n",
       "      <th>Pclass</th>\n",
       "      <th>Age</th>\n",
       "      <th>SibSp</th>\n",
       "      <th>Parch</th>\n",
       "      <th>Fare</th>\n",
       "      <th>Sex_female</th>\n",
       "      <th>Sex_male</th>\n",
       "      <th>Cabin_-9999</th>\n",
       "      <th>Cabin_A10</th>\n",
       "      <th>...</th>\n",
       "      <th>Cabin_F2</th>\n",
       "      <th>Cabin_F33</th>\n",
       "      <th>Cabin_F38</th>\n",
       "      <th>Cabin_F4</th>\n",
       "      <th>Cabin_G6</th>\n",
       "      <th>Cabin_T</th>\n",
       "      <th>Embarked_-9999</th>\n",
       "      <th>Embarked_C</th>\n",
       "      <th>Embarked_Q</th>\n",
       "      <th>Embarked_S</th>\n",
       "    </tr>\n",
       "  </thead>\n",
       "  <tbody>\n",
       "    <tr>\n",
       "      <th>0</th>\n",
       "      <td>0</td>\n",
       "      <td>3</td>\n",
       "      <td>22.0</td>\n",
       "      <td>1</td>\n",
       "      <td>0</td>\n",
       "      <td>7.2500</td>\n",
       "      <td>0</td>\n",
       "      <td>1</td>\n",
       "      <td>1</td>\n",
       "      <td>0</td>\n",
       "      <td>...</td>\n",
       "      <td>0</td>\n",
       "      <td>0</td>\n",
       "      <td>0</td>\n",
       "      <td>0</td>\n",
       "      <td>0</td>\n",
       "      <td>0</td>\n",
       "      <td>0</td>\n",
       "      <td>0</td>\n",
       "      <td>0</td>\n",
       "      <td>1</td>\n",
       "    </tr>\n",
       "    <tr>\n",
       "      <th>1</th>\n",
       "      <td>1</td>\n",
       "      <td>1</td>\n",
       "      <td>38.0</td>\n",
       "      <td>1</td>\n",
       "      <td>0</td>\n",
       "      <td>71.2833</td>\n",
       "      <td>1</td>\n",
       "      <td>0</td>\n",
       "      <td>0</td>\n",
       "      <td>0</td>\n",
       "      <td>...</td>\n",
       "      <td>0</td>\n",
       "      <td>0</td>\n",
       "      <td>0</td>\n",
       "      <td>0</td>\n",
       "      <td>0</td>\n",
       "      <td>0</td>\n",
       "      <td>0</td>\n",
       "      <td>1</td>\n",
       "      <td>0</td>\n",
       "      <td>0</td>\n",
       "    </tr>\n",
       "    <tr>\n",
       "      <th>2</th>\n",
       "      <td>1</td>\n",
       "      <td>3</td>\n",
       "      <td>26.0</td>\n",
       "      <td>0</td>\n",
       "      <td>0</td>\n",
       "      <td>7.9250</td>\n",
       "      <td>1</td>\n",
       "      <td>0</td>\n",
       "      <td>1</td>\n",
       "      <td>0</td>\n",
       "      <td>...</td>\n",
       "      <td>0</td>\n",
       "      <td>0</td>\n",
       "      <td>0</td>\n",
       "      <td>0</td>\n",
       "      <td>0</td>\n",
       "      <td>0</td>\n",
       "      <td>0</td>\n",
       "      <td>0</td>\n",
       "      <td>0</td>\n",
       "      <td>1</td>\n",
       "    </tr>\n",
       "    <tr>\n",
       "      <th>3</th>\n",
       "      <td>1</td>\n",
       "      <td>1</td>\n",
       "      <td>35.0</td>\n",
       "      <td>1</td>\n",
       "      <td>0</td>\n",
       "      <td>53.1000</td>\n",
       "      <td>1</td>\n",
       "      <td>0</td>\n",
       "      <td>0</td>\n",
       "      <td>0</td>\n",
       "      <td>...</td>\n",
       "      <td>0</td>\n",
       "      <td>0</td>\n",
       "      <td>0</td>\n",
       "      <td>0</td>\n",
       "      <td>0</td>\n",
       "      <td>0</td>\n",
       "      <td>0</td>\n",
       "      <td>0</td>\n",
       "      <td>0</td>\n",
       "      <td>1</td>\n",
       "    </tr>\n",
       "    <tr>\n",
       "      <th>4</th>\n",
       "      <td>0</td>\n",
       "      <td>3</td>\n",
       "      <td>35.0</td>\n",
       "      <td>0</td>\n",
       "      <td>0</td>\n",
       "      <td>8.0500</td>\n",
       "      <td>0</td>\n",
       "      <td>1</td>\n",
       "      <td>1</td>\n",
       "      <td>0</td>\n",
       "      <td>...</td>\n",
       "      <td>0</td>\n",
       "      <td>0</td>\n",
       "      <td>0</td>\n",
       "      <td>0</td>\n",
       "      <td>0</td>\n",
       "      <td>0</td>\n",
       "      <td>0</td>\n",
       "      <td>0</td>\n",
       "      <td>0</td>\n",
       "      <td>1</td>\n",
       "    </tr>\n",
       "  </tbody>\n",
       "</table>\n",
       "<p>5 rows × 160 columns</p>\n",
       "</div>"
      ],
      "text/plain": [
       "   Survived  Pclass   Age  SibSp  Parch     Fare  Sex_female  Sex_male  \\\n",
       "0         0       3  22.0      1      0   7.2500           0         1   \n",
       "1         1       1  38.0      1      0  71.2833           1         0   \n",
       "2         1       3  26.0      0      0   7.9250           1         0   \n",
       "3         1       1  35.0      1      0  53.1000           1         0   \n",
       "4         0       3  35.0      0      0   8.0500           0         1   \n",
       "\n",
       "   Cabin_-9999  Cabin_A10     ...      Cabin_F2  Cabin_F33  Cabin_F38  \\\n",
       "0            1          0     ...             0          0          0   \n",
       "1            0          0     ...             0          0          0   \n",
       "2            1          0     ...             0          0          0   \n",
       "3            0          0     ...             0          0          0   \n",
       "4            1          0     ...             0          0          0   \n",
       "\n",
       "   Cabin_F4  Cabin_G6  Cabin_T  Embarked_-9999  Embarked_C  Embarked_Q  \\\n",
       "0         0         0        0               0           0           0   \n",
       "1         0         0        0               0           1           0   \n",
       "2         0         0        0               0           0           0   \n",
       "3         0         0        0               0           0           0   \n",
       "4         0         0        0               0           0           0   \n",
       "\n",
       "   Embarked_S  \n",
       "0           1  \n",
       "1           0  \n",
       "2           1  \n",
       "3           1  \n",
       "4           1  \n",
       "\n",
       "[5 rows x 160 columns]"
      ]
     },
     "execution_count": 8,
     "metadata": {},
     "output_type": "execute_result"
    }
   ],
   "source": [
    "BM.head()"
   ]
  },
  {
   "cell_type": "code",
   "execution_count": 9,
   "metadata": {
    "_cell_guid": "1e85e52d-36d1-9252-f440-bc2dfe4d1760"
   },
   "outputs": [],
   "source": [
    "# split the farme data to train and validation datasets 70/30.\n",
    "from sklearn.model_selection import train_test_split\n",
    "train, valid = train_test_split(BM, test_size = 0.3,random_state=1991)"
   ]
  },
  {
   "cell_type": "code",
   "execution_count": 10,
   "metadata": {
    "_cell_guid": "2de2aef1-bcc2-566c-fd71-231344900afc"
   },
   "outputs": [
    {
     "data": {
      "text/plain": [
       "(623, 160)"
      ]
     },
     "execution_count": 10,
     "metadata": {},
     "output_type": "execute_result"
    }
   ],
   "source": [
    "train.shape"
   ]
  },
  {
   "cell_type": "code",
   "execution_count": 11,
   "metadata": {
    "_cell_guid": "1e447ab7-0cb3-9582-9b9b-fffbe8c9b15a"
   },
   "outputs": [
    {
     "data": {
      "text/plain": [
       "(268, 160)"
      ]
     },
     "execution_count": 11,
     "metadata": {},
     "output_type": "execute_result"
    }
   ],
   "source": [
    "valid.shape"
   ]
  },
  {
   "cell_type": "code",
   "execution_count": 12,
   "metadata": {
    "_cell_guid": "e8edb24f-6838-f80f-8b5a-1709550354e7"
   },
   "outputs": [],
   "source": [
    "train=pd.DataFrame(train,columns=BM.columns)\n",
    "valid=pd.DataFrame(valid,columns=BM.columns)\n",
    "X_train=train.drop(['Survived'],axis=1)\n",
    "Y_train=train['Survived']\n",
    "X_valid=valid.drop(['Survived'],axis=1)\n",
    "Y_valid=valid['Survived']"
   ]
  },
  {
   "cell_type": "code",
   "execution_count": 13,
   "metadata": {
    "_cell_guid": "a6097c05-bb1e-114a-66da-d106b6d4af51"
   },
   "outputs": [
    {
     "data": {
      "text/html": [
       "<div>\n",
       "<table border=\"1\" class=\"dataframe\">\n",
       "  <thead>\n",
       "    <tr style=\"text-align: right;\">\n",
       "      <th></th>\n",
       "      <th>Pclass</th>\n",
       "      <th>Age</th>\n",
       "      <th>SibSp</th>\n",
       "      <th>Parch</th>\n",
       "      <th>Fare</th>\n",
       "      <th>Sex_female</th>\n",
       "      <th>Sex_male</th>\n",
       "      <th>Cabin_-9999</th>\n",
       "      <th>Cabin_A10</th>\n",
       "      <th>Cabin_A14</th>\n",
       "      <th>...</th>\n",
       "      <th>Cabin_F2</th>\n",
       "      <th>Cabin_F33</th>\n",
       "      <th>Cabin_F38</th>\n",
       "      <th>Cabin_F4</th>\n",
       "      <th>Cabin_G6</th>\n",
       "      <th>Cabin_T</th>\n",
       "      <th>Embarked_-9999</th>\n",
       "      <th>Embarked_C</th>\n",
       "      <th>Embarked_Q</th>\n",
       "      <th>Embarked_S</th>\n",
       "    </tr>\n",
       "  </thead>\n",
       "  <tbody>\n",
       "    <tr>\n",
       "      <th>826</th>\n",
       "      <td>3</td>\n",
       "      <td>-9999.0</td>\n",
       "      <td>0</td>\n",
       "      <td>0</td>\n",
       "      <td>56.4958</td>\n",
       "      <td>0</td>\n",
       "      <td>1</td>\n",
       "      <td>1</td>\n",
       "      <td>0</td>\n",
       "      <td>0</td>\n",
       "      <td>...</td>\n",
       "      <td>0</td>\n",
       "      <td>0</td>\n",
       "      <td>0</td>\n",
       "      <td>0</td>\n",
       "      <td>0</td>\n",
       "      <td>0</td>\n",
       "      <td>0</td>\n",
       "      <td>0</td>\n",
       "      <td>0</td>\n",
       "      <td>1</td>\n",
       "    </tr>\n",
       "    <tr>\n",
       "      <th>81</th>\n",
       "      <td>3</td>\n",
       "      <td>29.0</td>\n",
       "      <td>0</td>\n",
       "      <td>0</td>\n",
       "      <td>9.5000</td>\n",
       "      <td>0</td>\n",
       "      <td>1</td>\n",
       "      <td>1</td>\n",
       "      <td>0</td>\n",
       "      <td>0</td>\n",
       "      <td>...</td>\n",
       "      <td>0</td>\n",
       "      <td>0</td>\n",
       "      <td>0</td>\n",
       "      <td>0</td>\n",
       "      <td>0</td>\n",
       "      <td>0</td>\n",
       "      <td>0</td>\n",
       "      <td>0</td>\n",
       "      <td>0</td>\n",
       "      <td>1</td>\n",
       "    </tr>\n",
       "    <tr>\n",
       "      <th>80</th>\n",
       "      <td>3</td>\n",
       "      <td>22.0</td>\n",
       "      <td>0</td>\n",
       "      <td>0</td>\n",
       "      <td>9.0000</td>\n",
       "      <td>0</td>\n",
       "      <td>1</td>\n",
       "      <td>1</td>\n",
       "      <td>0</td>\n",
       "      <td>0</td>\n",
       "      <td>...</td>\n",
       "      <td>0</td>\n",
       "      <td>0</td>\n",
       "      <td>0</td>\n",
       "      <td>0</td>\n",
       "      <td>0</td>\n",
       "      <td>0</td>\n",
       "      <td>0</td>\n",
       "      <td>0</td>\n",
       "      <td>0</td>\n",
       "      <td>1</td>\n",
       "    </tr>\n",
       "    <tr>\n",
       "      <th>245</th>\n",
       "      <td>1</td>\n",
       "      <td>44.0</td>\n",
       "      <td>2</td>\n",
       "      <td>0</td>\n",
       "      <td>90.0000</td>\n",
       "      <td>0</td>\n",
       "      <td>1</td>\n",
       "      <td>0</td>\n",
       "      <td>0</td>\n",
       "      <td>0</td>\n",
       "      <td>...</td>\n",
       "      <td>0</td>\n",
       "      <td>0</td>\n",
       "      <td>0</td>\n",
       "      <td>0</td>\n",
       "      <td>0</td>\n",
       "      <td>0</td>\n",
       "      <td>0</td>\n",
       "      <td>0</td>\n",
       "      <td>1</td>\n",
       "      <td>0</td>\n",
       "    </tr>\n",
       "    <tr>\n",
       "      <th>722</th>\n",
       "      <td>2</td>\n",
       "      <td>34.0</td>\n",
       "      <td>0</td>\n",
       "      <td>0</td>\n",
       "      <td>13.0000</td>\n",
       "      <td>0</td>\n",
       "      <td>1</td>\n",
       "      <td>1</td>\n",
       "      <td>0</td>\n",
       "      <td>0</td>\n",
       "      <td>...</td>\n",
       "      <td>0</td>\n",
       "      <td>0</td>\n",
       "      <td>0</td>\n",
       "      <td>0</td>\n",
       "      <td>0</td>\n",
       "      <td>0</td>\n",
       "      <td>0</td>\n",
       "      <td>0</td>\n",
       "      <td>0</td>\n",
       "      <td>1</td>\n",
       "    </tr>\n",
       "  </tbody>\n",
       "</table>\n",
       "<p>5 rows × 159 columns</p>\n",
       "</div>"
      ],
      "text/plain": [
       "     Pclass     Age  SibSp  Parch     Fare  Sex_female  Sex_male  Cabin_-9999  \\\n",
       "826       3 -9999.0      0      0  56.4958           0         1            1   \n",
       "81        3    29.0      0      0   9.5000           0         1            1   \n",
       "80        3    22.0      0      0   9.0000           0         1            1   \n",
       "245       1    44.0      2      0  90.0000           0         1            0   \n",
       "722       2    34.0      0      0  13.0000           0         1            1   \n",
       "\n",
       "     Cabin_A10  Cabin_A14     ...      Cabin_F2  Cabin_F33  Cabin_F38  \\\n",
       "826          0          0     ...             0          0          0   \n",
       "81           0          0     ...             0          0          0   \n",
       "80           0          0     ...             0          0          0   \n",
       "245          0          0     ...             0          0          0   \n",
       "722          0          0     ...             0          0          0   \n",
       "\n",
       "     Cabin_F4  Cabin_G6  Cabin_T  Embarked_-9999  Embarked_C  Embarked_Q  \\\n",
       "826         0         0        0               0           0           0   \n",
       "81          0         0        0               0           0           0   \n",
       "80          0         0        0               0           0           0   \n",
       "245         0         0        0               0           0           1   \n",
       "722         0         0        0               0           0           0   \n",
       "\n",
       "     Embarked_S  \n",
       "826           1  \n",
       "81            1  \n",
       "80            1  \n",
       "245           0  \n",
       "722           1  \n",
       "\n",
       "[5 rows x 159 columns]"
      ]
     },
     "execution_count": 13,
     "metadata": {},
     "output_type": "execute_result"
    }
   ],
   "source": [
    "X_train.head()"
   ]
  },
  {
   "cell_type": "code",
   "execution_count": 14,
   "metadata": {
    "_cell_guid": "62a66b5a-e7cd-3679-0af9-71b2c952d126"
   },
   "outputs": [
    {
     "data": {
      "text/html": [
       "<div>\n",
       "<table border=\"1\" class=\"dataframe\">\n",
       "  <thead>\n",
       "    <tr style=\"text-align: right;\">\n",
       "      <th></th>\n",
       "      <th>Pclass</th>\n",
       "      <th>Age</th>\n",
       "      <th>SibSp</th>\n",
       "      <th>Parch</th>\n",
       "      <th>Fare</th>\n",
       "      <th>Sex_female</th>\n",
       "      <th>Sex_male</th>\n",
       "      <th>Cabin_-9999</th>\n",
       "      <th>Cabin_A10</th>\n",
       "      <th>Cabin_A14</th>\n",
       "      <th>...</th>\n",
       "      <th>Cabin_F2</th>\n",
       "      <th>Cabin_F33</th>\n",
       "      <th>Cabin_F38</th>\n",
       "      <th>Cabin_F4</th>\n",
       "      <th>Cabin_G6</th>\n",
       "      <th>Cabin_T</th>\n",
       "      <th>Embarked_-9999</th>\n",
       "      <th>Embarked_C</th>\n",
       "      <th>Embarked_Q</th>\n",
       "      <th>Embarked_S</th>\n",
       "    </tr>\n",
       "  </thead>\n",
       "  <tbody>\n",
       "    <tr>\n",
       "      <th>830</th>\n",
       "      <td>3</td>\n",
       "      <td>15.0</td>\n",
       "      <td>1</td>\n",
       "      <td>0</td>\n",
       "      <td>14.4542</td>\n",
       "      <td>1</td>\n",
       "      <td>0</td>\n",
       "      <td>1</td>\n",
       "      <td>0</td>\n",
       "      <td>0</td>\n",
       "      <td>...</td>\n",
       "      <td>0</td>\n",
       "      <td>0</td>\n",
       "      <td>0</td>\n",
       "      <td>0</td>\n",
       "      <td>0</td>\n",
       "      <td>0</td>\n",
       "      <td>0</td>\n",
       "      <td>1</td>\n",
       "      <td>0</td>\n",
       "      <td>0</td>\n",
       "    </tr>\n",
       "    <tr>\n",
       "      <th>812</th>\n",
       "      <td>2</td>\n",
       "      <td>35.0</td>\n",
       "      <td>0</td>\n",
       "      <td>0</td>\n",
       "      <td>10.5000</td>\n",
       "      <td>0</td>\n",
       "      <td>1</td>\n",
       "      <td>1</td>\n",
       "      <td>0</td>\n",
       "      <td>0</td>\n",
       "      <td>...</td>\n",
       "      <td>0</td>\n",
       "      <td>0</td>\n",
       "      <td>0</td>\n",
       "      <td>0</td>\n",
       "      <td>0</td>\n",
       "      <td>0</td>\n",
       "      <td>0</td>\n",
       "      <td>0</td>\n",
       "      <td>0</td>\n",
       "      <td>1</td>\n",
       "    </tr>\n",
       "    <tr>\n",
       "      <th>283</th>\n",
       "      <td>3</td>\n",
       "      <td>19.0</td>\n",
       "      <td>0</td>\n",
       "      <td>0</td>\n",
       "      <td>8.0500</td>\n",
       "      <td>0</td>\n",
       "      <td>1</td>\n",
       "      <td>1</td>\n",
       "      <td>0</td>\n",
       "      <td>0</td>\n",
       "      <td>...</td>\n",
       "      <td>0</td>\n",
       "      <td>0</td>\n",
       "      <td>0</td>\n",
       "      <td>0</td>\n",
       "      <td>0</td>\n",
       "      <td>0</td>\n",
       "      <td>0</td>\n",
       "      <td>0</td>\n",
       "      <td>0</td>\n",
       "      <td>1</td>\n",
       "    </tr>\n",
       "    <tr>\n",
       "      <th>490</th>\n",
       "      <td>3</td>\n",
       "      <td>-9999.0</td>\n",
       "      <td>1</td>\n",
       "      <td>0</td>\n",
       "      <td>19.9667</td>\n",
       "      <td>0</td>\n",
       "      <td>1</td>\n",
       "      <td>1</td>\n",
       "      <td>0</td>\n",
       "      <td>0</td>\n",
       "      <td>...</td>\n",
       "      <td>0</td>\n",
       "      <td>0</td>\n",
       "      <td>0</td>\n",
       "      <td>0</td>\n",
       "      <td>0</td>\n",
       "      <td>0</td>\n",
       "      <td>0</td>\n",
       "      <td>0</td>\n",
       "      <td>0</td>\n",
       "      <td>1</td>\n",
       "    </tr>\n",
       "    <tr>\n",
       "      <th>239</th>\n",
       "      <td>2</td>\n",
       "      <td>33.0</td>\n",
       "      <td>0</td>\n",
       "      <td>0</td>\n",
       "      <td>12.2750</td>\n",
       "      <td>0</td>\n",
       "      <td>1</td>\n",
       "      <td>1</td>\n",
       "      <td>0</td>\n",
       "      <td>0</td>\n",
       "      <td>...</td>\n",
       "      <td>0</td>\n",
       "      <td>0</td>\n",
       "      <td>0</td>\n",
       "      <td>0</td>\n",
       "      <td>0</td>\n",
       "      <td>0</td>\n",
       "      <td>0</td>\n",
       "      <td>0</td>\n",
       "      <td>0</td>\n",
       "      <td>1</td>\n",
       "    </tr>\n",
       "  </tbody>\n",
       "</table>\n",
       "<p>5 rows × 159 columns</p>\n",
       "</div>"
      ],
      "text/plain": [
       "     Pclass     Age  SibSp  Parch     Fare  Sex_female  Sex_male  Cabin_-9999  \\\n",
       "830       3    15.0      1      0  14.4542           1         0            1   \n",
       "812       2    35.0      0      0  10.5000           0         1            1   \n",
       "283       3    19.0      0      0   8.0500           0         1            1   \n",
       "490       3 -9999.0      1      0  19.9667           0         1            1   \n",
       "239       2    33.0      0      0  12.2750           0         1            1   \n",
       "\n",
       "     Cabin_A10  Cabin_A14     ...      Cabin_F2  Cabin_F33  Cabin_F38  \\\n",
       "830          0          0     ...             0          0          0   \n",
       "812          0          0     ...             0          0          0   \n",
       "283          0          0     ...             0          0          0   \n",
       "490          0          0     ...             0          0          0   \n",
       "239          0          0     ...             0          0          0   \n",
       "\n",
       "     Cabin_F4  Cabin_G6  Cabin_T  Embarked_-9999  Embarked_C  Embarked_Q  \\\n",
       "830         0         0        0               0           1           0   \n",
       "812         0         0        0               0           0           0   \n",
       "283         0         0        0               0           0           0   \n",
       "490         0         0        0               0           0           0   \n",
       "239         0         0        0               0           0           0   \n",
       "\n",
       "     Embarked_S  \n",
       "830           0  \n",
       "812           1  \n",
       "283           1  \n",
       "490           1  \n",
       "239           1  \n",
       "\n",
       "[5 rows x 159 columns]"
      ]
     },
     "execution_count": 14,
     "metadata": {},
     "output_type": "execute_result"
    }
   ],
   "source": [
    "X_valid.head()"
   ]
  },
  {
   "cell_type": "markdown",
   "metadata": {
    "_cell_guid": "2acfef78-fbd2-55a7-89ae-6d717f2a812c"
   },
   "source": [
    "**IV.4. Random forest without hyper parameter optimisation**"
   ]
  },
  {
   "cell_type": "code",
   "execution_count": 15,
   "metadata": {
    "_cell_guid": "53e8f903-a0ad-a381-c63b-385c1f8c849a"
   },
   "outputs": [],
   "source": [
    "RF0=RandomForestClassifier()"
   ]
  },
  {
   "cell_type": "code",
   "execution_count": 16,
   "metadata": {
    "_cell_guid": "64bab58a-b54d-b360-7ee8-bc0f7696e4f8"
   },
   "outputs": [
    {
     "data": {
      "text/plain": [
       "RandomForestClassifier(bootstrap=True, class_weight=None, criterion='gini',\n",
       "            max_depth=None, max_features='auto', max_leaf_nodes=None,\n",
       "            min_impurity_split=1e-07, min_samples_leaf=1,\n",
       "            min_samples_split=2, min_weight_fraction_leaf=0.0,\n",
       "            n_estimators=10, n_jobs=1, oob_score=False, random_state=None,\n",
       "            verbose=0, warm_start=False)"
      ]
     },
     "execution_count": 16,
     "metadata": {},
     "output_type": "execute_result"
    }
   ],
   "source": [
    "RF0.fit(X=X_train,y=Y_train)"
   ]
  },
  {
   "cell_type": "code",
   "execution_count": 17,
   "metadata": {
    "_cell_guid": "b98d7b84-8d86-0b5a-91b8-da7c97905f0e"
   },
   "outputs": [
    {
     "name": "stdout",
     "output_type": "stream",
     "text": [
      "the AUC is : 0.7883\n"
     ]
    },
    {
     "data": {
      "image/png": "[encoded data removed]",
      "text/plain": [
       "<matplotlib.figure.Figure at 0x7f97e27db358>"
      ]
     },
     "metadata": {},
     "output_type": "display_data"
    }
   ],
   "source": [
    "Performance(Model=RF0,Y=Y_valid,X=X_valid)"
   ]
  },
  {
   "cell_type": "markdown",
   "metadata": {
    "_cell_guid": "afe7cdeb-2067-4c5b-cec5-ccff72978a3c"
   },
   "source": [
    "**IV.5. Random Forest using grid search**"
   ]
  },
  {
   "cell_type": "code",
   "execution_count": 18,
   "metadata": {
    "_cell_guid": "8b921602-d191-1d85-3ab4-7e377816e9c6"
   },
   "outputs": [],
   "source": [
    "grid_1 = { \"n_estimators\"      : [100,200,500],\n",
    "               \"criterion\"         : [\"gini\", \"entropy\"],\n",
    "               \"max_features\"      : ['sqrt','log2',0.2,0.5,0.8],\n",
    "               \"max_depth\"         : [3,4,6,10],\n",
    "               \"min_samples_split\" : [2, 5, 20,50] }"
   ]
  },
  {
   "cell_type": "code",
   "execution_count": 19,
   "metadata": {
    "_cell_guid": "25ca27c7-738e-1127-891d-f44126aba435"
   },
   "outputs": [
    {
     "data": {
      "text/plain": [
       "GridSearchCV(cv=5, error_score='raise',\n",
       "       estimator=RandomForestClassifier(bootstrap=True, class_weight=None, criterion='gini',\n",
       "            max_depth=None, max_features='auto', max_leaf_nodes=None,\n",
       "            min_impurity_split=1e-07, min_samples_leaf=1,\n",
       "            min_samples_split=2, min_weight_fraction_leaf=0.0,\n",
       "            n_estimators=10, n_jobs=1, oob_score=False, random_state=None,\n",
       "            verbose=0, warm_start=False),\n",
       "       fit_params={}, iid=True, n_jobs=-1,\n",
       "       param_grid={'criterion': ['gini', 'entropy'], 'max_depth': [3, 4, 6, 10], 'n_estimators': [100, 200, 500], 'max_features': ['sqrt', 'log2', 0.2, 0.5, 0.8], 'min_samples_split': [2, 5, 20, 50]},\n",
       "       pre_dispatch='2*n_jobs', refit=True, scoring=None, verbose=0)"
      ]
     },
     "execution_count": 19,
     "metadata": {},
     "output_type": "execute_result"
    }
   ],
   "source": [
    "RF=RandomForestClassifier()\n",
    "grid_search = GridSearchCV(RF, grid_1, n_jobs=-1, cv=5)\n",
    "grid_search.fit(X_train, Y_train)"
   ]
  },
  {
   "cell_type": "code",
   "execution_count": 20,
   "metadata": {
    "_cell_guid": "4c69f6f4-034c-fc01-4ee4-3f5ba1a10d49"
   },
   "outputs": [
    {
     "data": {
      "text/plain": [
       "[mean: 0.78652, std: 0.02455, params: {'criterion': 'gini', 'max_depth': 3, 'n_estimators': 100, 'max_features': 'sqrt', 'min_samples_split': 2},\n",
       " mean: 0.79133, std: 0.02867, params: {'criterion': 'gini', 'max_depth': 3, 'n_estimators': 200, 'max_features': 'sqrt', 'min_samples_split': 2},\n",
       " mean: 0.78973, std: 0.01417, params: {'criterion': 'gini', 'max_depth': 3, 'n_estimators': 500, 'max_features': 'sqrt', 'min_samples_split': 2},\n",
       " mean: 0.78973, std: 0.02281, params: {'criterion': 'gini', 'max_depth': 3, 'n_estimators': 100, 'max_features': 'sqrt', 'min_samples_split': 5},\n",
       " mean: 0.78973, std: 0.02740, params: {'criterion': 'gini', 'max_depth': 3, 'n_estimators': 200, 'max_features': 'sqrt', 'min_samples_split': 5},\n",
       " mean: 0.79615, std: 0.01736, params: {'criterion': 'gini', 'max_depth': 3, 'n_estimators': 500, 'max_features': 'sqrt', 'min_samples_split': 5},\n",
       " mean: 0.78812, std: 0.01300, params: {'criterion': 'gini', 'max_depth': 3, 'n_estimators': 100, 'max_features': 'sqrt', 'min_samples_split': 20},\n",
       " mean: 0.78652, std: 0.01712, params: {'criterion': 'gini', 'max_depth': 3, 'n_estimators': 200, 'max_features': 'sqrt', 'min_samples_split': 20},\n",
       " mean: 0.78973, std: 0.01545, params: {'criterion': 'gini', 'max_depth': 3, 'n_estimators': 500, 'max_features': 'sqrt', 'min_samples_split': 20},\n",
       " mean: 0.78170, std: 0.02587, params: {'criterion': 'gini', 'max_depth': 3, 'n_estimators': 100, 'max_features': 'sqrt', 'min_samples_split': 50},\n",
       " mean: 0.78331, std: 0.03462, params: {'criterion': 'gini', 'max_depth': 3, 'n_estimators': 200, 'max_features': 'sqrt', 'min_samples_split': 50},\n",
       " mean: 0.78652, std: 0.02122, params: {'criterion': 'gini', 'max_depth': 3, 'n_estimators': 500, 'max_features': 'sqrt', 'min_samples_split': 50},\n",
       " mean: 0.74157, std: 0.01679, params: {'criterion': 'gini', 'max_depth': 3, 'n_estimators': 100, 'max_features': 'log2', 'min_samples_split': 2},\n",
       " mean: 0.73676, std: 0.02389, params: {'criterion': 'gini', 'max_depth': 3, 'n_estimators': 200, 'max_features': 'log2', 'min_samples_split': 2},\n",
       " mean: 0.73997, std: 0.01887, params: {'criterion': 'gini', 'max_depth': 3, 'n_estimators': 500, 'max_features': 'log2', 'min_samples_split': 2},\n",
       " mean: 0.73997, std: 0.02038, params: {'criterion': 'gini', 'max_depth': 3, 'n_estimators': 100, 'max_features': 'log2', 'min_samples_split': 5},\n",
       " mean: 0.73676, std: 0.02722, params: {'criterion': 'gini', 'max_depth': 3, 'n_estimators': 200, 'max_features': 'log2', 'min_samples_split': 5},\n",
       " mean: 0.73515, std: 0.01149, params: {'criterion': 'gini', 'max_depth': 3, 'n_estimators': 500, 'max_features': 'log2', 'min_samples_split': 5},\n",
       " mean: 0.75120, std: 0.03292, params: {'criterion': 'gini', 'max_depth': 3, 'n_estimators': 100, 'max_features': 'log2', 'min_samples_split': 20},\n",
       " mean: 0.73997, std: 0.01964, params: {'criterion': 'gini', 'max_depth': 3, 'n_estimators': 200, 'max_features': 'log2', 'min_samples_split': 20},\n",
       " mean: 0.73997, std: 0.01627, params: {'criterion': 'gini', 'max_depth': 3, 'n_estimators': 500, 'max_features': 'log2', 'min_samples_split': 20},\n",
       " mean: 0.73836, std: 0.01894, params: {'criterion': 'gini', 'max_depth': 3, 'n_estimators': 100, 'max_features': 'log2', 'min_samples_split': 50},\n",
       " mean: 0.73034, std: 0.01999, params: {'criterion': 'gini', 'max_depth': 3, 'n_estimators': 200, 'max_features': 'log2', 'min_samples_split': 50},\n",
       " mean: 0.73515, std: 0.01149, params: {'criterion': 'gini', 'max_depth': 3, 'n_estimators': 500, 'max_features': 'log2', 'min_samples_split': 50},\n",
       " mean: 0.80096, std: 0.02577, params: {'criterion': 'gini', 'max_depth': 3, 'n_estimators': 100, 'max_features': 0.2, 'min_samples_split': 2},\n",
       " mean: 0.80096, std: 0.03114, params: {'criterion': 'gini', 'max_depth': 3, 'n_estimators': 200, 'max_features': 0.2, 'min_samples_split': 2},\n",
       " mean: 0.80096, std: 0.03438, params: {'criterion': 'gini', 'max_depth': 3, 'n_estimators': 500, 'max_features': 0.2, 'min_samples_split': 2},\n",
       " mean: 0.81059, std: 0.02640, params: {'criterion': 'gini', 'max_depth': 3, 'n_estimators': 100, 'max_features': 0.2, 'min_samples_split': 5},\n",
       " mean: 0.79775, std: 0.03148, params: {'criterion': 'gini', 'max_depth': 3, 'n_estimators': 200, 'max_features': 0.2, 'min_samples_split': 5},\n",
       " mean: 0.80257, std: 0.02915, params: {'criterion': 'gini', 'max_depth': 3, 'n_estimators': 500, 'max_features': 0.2, 'min_samples_split': 5},\n",
       " mean: 0.79615, std: 0.03515, params: {'criterion': 'gini', 'max_depth': 3, 'n_estimators': 100, 'max_features': 0.2, 'min_samples_split': 20},\n",
       " mean: 0.80417, std: 0.02521, params: {'criterion': 'gini', 'max_depth': 3, 'n_estimators': 200, 'max_features': 0.2, 'min_samples_split': 20},\n",
       " mean: 0.80096, std: 0.03300, params: {'criterion': 'gini', 'max_depth': 3, 'n_estimators': 500, 'max_features': 0.2, 'min_samples_split': 20},\n",
       " mean: 0.79775, std: 0.02929, params: {'criterion': 'gini', 'max_depth': 3, 'n_estimators': 100, 'max_features': 0.2, 'min_samples_split': 50},\n",
       " mean: 0.79294, std: 0.03017, params: {'criterion': 'gini', 'max_depth': 3, 'n_estimators': 200, 'max_features': 0.2, 'min_samples_split': 50},\n",
       " mean: 0.78812, std: 0.02210, params: {'criterion': 'gini', 'max_depth': 3, 'n_estimators': 500, 'max_features': 0.2, 'min_samples_split': 50},\n",
       " mean: 0.80417, std: 0.02923, params: {'criterion': 'gini', 'max_depth': 3, 'n_estimators': 100, 'max_features': 0.5, 'min_samples_split': 2},\n",
       " mean: 0.80899, std: 0.02943, params: {'criterion': 'gini', 'max_depth': 3, 'n_estimators': 200, 'max_features': 0.5, 'min_samples_split': 2},\n",
       " mean: 0.81220, std: 0.02769, params: {'criterion': 'gini', 'max_depth': 3, 'n_estimators': 500, 'max_features': 0.5, 'min_samples_split': 2},\n",
       " mean: 0.81059, std: 0.02846, params: {'criterion': 'gini', 'max_depth': 3, 'n_estimators': 100, 'max_features': 0.5, 'min_samples_split': 5},\n",
       " mean: 0.80578, std: 0.02818, params: {'criterion': 'gini', 'max_depth': 3, 'n_estimators': 200, 'max_features': 0.5, 'min_samples_split': 5},\n",
       " mean: 0.80738, std: 0.03153, params: {'criterion': 'gini', 'max_depth': 3, 'n_estimators': 500, 'max_features': 0.5, 'min_samples_split': 5},\n",
       " mean: 0.80738, std: 0.02818, params: {'criterion': 'gini', 'max_depth': 3, 'n_estimators': 100, 'max_features': 0.5, 'min_samples_split': 20},\n",
       " mean: 0.80899, std: 0.02943, params: {'criterion': 'gini', 'max_depth': 3, 'n_estimators': 200, 'max_features': 0.5, 'min_samples_split': 20},\n",
       " mean: 0.80578, std: 0.02771, params: {'criterion': 'gini', 'max_depth': 3, 'n_estimators': 500, 'max_features': 0.5, 'min_samples_split': 20},\n",
       " mean: 0.79454, std: 0.02207, params: {'criterion': 'gini', 'max_depth': 3, 'n_estimators': 100, 'max_features': 0.5, 'min_samples_split': 50},\n",
       " mean: 0.79133, std: 0.02050, params: {'criterion': 'gini', 'max_depth': 3, 'n_estimators': 200, 'max_features': 0.5, 'min_samples_split': 50},\n",
       " mean: 0.79454, std: 0.02135, params: {'criterion': 'gini', 'max_depth': 3, 'n_estimators': 500, 'max_features': 0.5, 'min_samples_split': 50},\n",
       " mean: 0.81380, std: 0.02872, params: {'criterion': 'gini', 'max_depth': 3, 'n_estimators': 100, 'max_features': 0.8, 'min_samples_split': 2},\n",
       " mean: 0.81059, std: 0.02867, params: {'criterion': 'gini', 'max_depth': 3, 'n_estimators': 200, 'max_features': 0.8, 'min_samples_split': 2},\n",
       " mean: 0.81380, std: 0.03067, params: {'criterion': 'gini', 'max_depth': 3, 'n_estimators': 500, 'max_features': 0.8, 'min_samples_split': 2},\n",
       " mean: 0.81862, std: 0.03235, params: {'criterion': 'gini', 'max_depth': 3, 'n_estimators': 100, 'max_features': 0.8, 'min_samples_split': 5},\n",
       " mean: 0.81059, std: 0.03402, params: {'criterion': 'gini', 'max_depth': 3, 'n_estimators': 200, 'max_features': 0.8, 'min_samples_split': 5},\n",
       " mean: 0.81541, std: 0.03012, params: {'criterion': 'gini', 'max_depth': 3, 'n_estimators': 500, 'max_features': 0.8, 'min_samples_split': 5},\n",
       " mean: 0.81541, std: 0.02701, params: {'criterion': 'gini', 'max_depth': 3, 'n_estimators': 100, 'max_features': 0.8, 'min_samples_split': 20},\n",
       " mean: 0.81059, std: 0.02867, params: {'criterion': 'gini', 'max_depth': 3, 'n_estimators': 200, 'max_features': 0.8, 'min_samples_split': 20},\n",
       " mean: 0.81541, std: 0.03012, params: {'criterion': 'gini', 'max_depth': 3, 'n_estimators': 500, 'max_features': 0.8, 'min_samples_split': 20},\n",
       " mean: 0.79936, std: 0.01227, params: {'criterion': 'gini', 'max_depth': 3, 'n_estimators': 100, 'max_features': 0.8, 'min_samples_split': 50},\n",
       " mean: 0.79294, std: 0.01740, params: {'criterion': 'gini', 'max_depth': 3, 'n_estimators': 200, 'max_features': 0.8, 'min_samples_split': 50},\n",
       " mean: 0.79454, std: 0.01323, params: {'criterion': 'gini', 'max_depth': 3, 'n_estimators': 500, 'max_features': 0.8, 'min_samples_split': 50},\n",
       " mean: 0.80257, std: 0.01835, params: {'criterion': 'gini', 'max_depth': 4, 'n_estimators': 100, 'max_features': 'sqrt', 'min_samples_split': 2},\n",
       " mean: 0.80899, std: 0.03027, params: {'criterion': 'gini', 'max_depth': 4, 'n_estimators': 200, 'max_features': 'sqrt', 'min_samples_split': 2},\n",
       " mean: 0.80578, std: 0.01667, params: {'criterion': 'gini', 'max_depth': 4, 'n_estimators': 500, 'max_features': 'sqrt', 'min_samples_split': 2},\n",
       " mean: 0.81059, std: 0.01950, params: {'criterion': 'gini', 'max_depth': 4, 'n_estimators': 100, 'max_features': 'sqrt', 'min_samples_split': 5},\n",
       " mean: 0.80096, std: 0.02751, params: {'criterion': 'gini', 'max_depth': 4, 'n_estimators': 200, 'max_features': 'sqrt', 'min_samples_split': 5},\n",
       " mean: 0.81380, std: 0.01684, params: {'criterion': 'gini', 'max_depth': 4, 'n_estimators': 500, 'max_features': 'sqrt', 'min_samples_split': 5},\n",
       " mean: 0.80738, std: 0.01935, params: {'criterion': 'gini', 'max_depth': 4, 'n_estimators': 100, 'max_features': 'sqrt', 'min_samples_split': 20},\n",
       " mean: 0.80738, std: 0.01621, params: {'criterion': 'gini', 'max_depth': 4, 'n_estimators': 200, 'max_features': 'sqrt', 'min_samples_split': 20},\n",
       " mean: 0.80738, std: 0.01686, params: {'criterion': 'gini', 'max_depth': 4, 'n_estimators': 500, 'max_features': 'sqrt', 'min_samples_split': 20},\n",
       " mean: 0.78491, std: 0.01717, params: {'criterion': 'gini', 'max_depth': 4, 'n_estimators': 100, 'max_features': 'sqrt', 'min_samples_split': 50},\n",
       " mean: 0.78812, std: 0.02498, params: {'criterion': 'gini', 'max_depth': 4, 'n_estimators': 200, 'max_features': 'sqrt', 'min_samples_split': 50},\n",
       " mean: 0.80417, std: 0.01680, params: {'criterion': 'gini', 'max_depth': 4, 'n_estimators': 500, 'max_features': 'sqrt', 'min_samples_split': 50},\n",
       " mean: 0.77047, std: 0.02698, params: {'criterion': 'gini', 'max_depth': 4, 'n_estimators': 100, 'max_features': 'log2', 'min_samples_split': 2},\n",
       " mean: 0.77207, std: 0.01889, params: {'criterion': 'gini', 'max_depth': 4, 'n_estimators': 200, 'max_features': 'log2', 'min_samples_split': 2},\n",
       " mean: 0.77368, std: 0.02672, params: {'criterion': 'gini', 'max_depth': 4, 'n_estimators': 500, 'max_features': 'log2', 'min_samples_split': 2},\n",
       " mean: 0.77047, std: 0.01150, params: {'criterion': 'gini', 'max_depth': 4, 'n_estimators': 100, 'max_features': 'log2', 'min_samples_split': 5},\n",
       " mean: 0.77368, std: 0.02720, params: {'criterion': 'gini', 'max_depth': 4, 'n_estimators': 200, 'max_features': 'log2', 'min_samples_split': 5},\n",
       " mean: 0.77047, std: 0.02226, params: {'criterion': 'gini', 'max_depth': 4, 'n_estimators': 500, 'max_features': 'log2', 'min_samples_split': 5},\n",
       " mean: 0.75441, std: 0.03060, params: {'criterion': 'gini', 'max_depth': 4, 'n_estimators': 100, 'max_features': 'log2', 'min_samples_split': 20},\n",
       " mean: 0.76886, std: 0.02210, params: {'criterion': 'gini', 'max_depth': 4, 'n_estimators': 200, 'max_features': 'log2', 'min_samples_split': 20},\n",
       " mean: 0.77207, std: 0.02668, params: {'criterion': 'gini', 'max_depth': 4, 'n_estimators': 500, 'max_features': 'log2', 'min_samples_split': 20},\n",
       " mean: 0.76244, std: 0.01980, params: {'criterion': 'gini', 'max_depth': 4, 'n_estimators': 100, 'max_features': 'log2', 'min_samples_split': 50},\n",
       " mean: 0.76244, std: 0.02400, params: {'criterion': 'gini', 'max_depth': 4, 'n_estimators': 200, 'max_features': 'log2', 'min_samples_split': 50},\n",
       " mean: 0.76726, std: 0.03005, params: {'criterion': 'gini', 'max_depth': 4, 'n_estimators': 500, 'max_features': 'log2', 'min_samples_split': 50},\n",
       " mean: 0.81541, std: 0.02414, params: {'criterion': 'gini', 'max_depth': 4, 'n_estimators': 100, 'max_features': 0.2, 'min_samples_split': 2},\n",
       " mean: 0.81059, std: 0.02956, params: {'criterion': 'gini', 'max_depth': 4, 'n_estimators': 200, 'max_features': 0.2, 'min_samples_split': 2},\n",
       " mean: 0.80899, std: 0.02733, params: {'criterion': 'gini', 'max_depth': 4, 'n_estimators': 500, 'max_features': 0.2, 'min_samples_split': 2},\n",
       " mean: 0.80738, std: 0.02404, params: {'criterion': 'gini', 'max_depth': 4, 'n_estimators': 100, 'max_features': 0.2, 'min_samples_split': 5},\n",
       " mean: 0.81380, std: 0.02368, params: {'criterion': 'gini', 'max_depth': 4, 'n_estimators': 200, 'max_features': 0.2, 'min_samples_split': 5},\n",
       " mean: 0.81059, std: 0.02152, params: {'criterion': 'gini', 'max_depth': 4, 'n_estimators': 500, 'max_features': 0.2, 'min_samples_split': 5},\n",
       " mean: 0.81059, std: 0.02280, params: {'criterion': 'gini', 'max_depth': 4, 'n_estimators': 100, 'max_features': 0.2, 'min_samples_split': 20},\n",
       " mean: 0.81380, std: 0.02911, params: {'criterion': 'gini', 'max_depth': 4, 'n_estimators': 200, 'max_features': 0.2, 'min_samples_split': 20},\n",
       " mean: 0.80738, std: 0.02468, params: {'criterion': 'gini', 'max_depth': 4, 'n_estimators': 500, 'max_features': 0.2, 'min_samples_split': 20},\n",
       " mean: 0.79775, std: 0.02565, params: {'criterion': 'gini', 'max_depth': 4, 'n_estimators': 100, 'max_features': 0.2, 'min_samples_split': 50},\n",
       " mean: 0.80578, std: 0.02882, params: {'criterion': 'gini', 'max_depth': 4, 'n_estimators': 200, 'max_features': 0.2, 'min_samples_split': 50},\n",
       " mean: 0.80578, std: 0.02873, params: {'criterion': 'gini', 'max_depth': 4, 'n_estimators': 500, 'max_features': 0.2, 'min_samples_split': 50},\n",
       " mean: 0.81380, std: 0.02771, params: {'criterion': 'gini', 'max_depth': 4, 'n_estimators': 100, 'max_features': 0.5, 'min_samples_split': 2},\n",
       " mean: 0.82022, std: 0.03278, params: {'criterion': 'gini', 'max_depth': 4, 'n_estimators': 200, 'max_features': 0.5, 'min_samples_split': 2},\n",
       " mean: 0.81380, std: 0.03156, params: {'criterion': 'gini', 'max_depth': 4, 'n_estimators': 500, 'max_features': 0.5, 'min_samples_split': 2},\n",
       " mean: 0.81541, std: 0.02639, params: {'criterion': 'gini', 'max_depth': 4, 'n_estimators': 100, 'max_features': 0.5, 'min_samples_split': 5},\n",
       " mean: 0.81220, std: 0.03290, params: {'criterion': 'gini', 'max_depth': 4, 'n_estimators': 200, 'max_features': 0.5, 'min_samples_split': 5},\n",
       " mean: 0.81701, std: 0.02996, params: {'criterion': 'gini', 'max_depth': 4, 'n_estimators': 500, 'max_features': 0.5, 'min_samples_split': 5},\n",
       " mean: 0.81380, std: 0.03118, params: {'criterion': 'gini', 'max_depth': 4, 'n_estimators': 100, 'max_features': 0.5, 'min_samples_split': 20},\n",
       " mean: 0.81541, std: 0.03060, params: {'criterion': 'gini', 'max_depth': 4, 'n_estimators': 200, 'max_features': 0.5, 'min_samples_split': 20},\n",
       " mean: 0.81701, std: 0.03039, params: {'criterion': 'gini', 'max_depth': 4, 'n_estimators': 500, 'max_features': 0.5, 'min_samples_split': 20},\n",
       " mean: 0.79454, std: 0.01760, params: {'criterion': 'gini', 'max_depth': 4, 'n_estimators': 100, 'max_features': 0.5, 'min_samples_split': 50},\n",
       " mean: 0.79454, std: 0.01760, params: {'criterion': 'gini', 'max_depth': 4, 'n_estimators': 200, 'max_features': 0.5, 'min_samples_split': 50},\n",
       " mean: 0.80417, std: 0.01710, params: {'criterion': 'gini', 'max_depth': 4, 'n_estimators': 500, 'max_features': 0.5, 'min_samples_split': 50},\n",
       " mean: 0.82022, std: 0.02853, params: {'criterion': 'gini', 'max_depth': 4, 'n_estimators': 100, 'max_features': 0.8, 'min_samples_split': 2},\n",
       " mean: 0.82183, std: 0.02337, params: {'criterion': 'gini', 'max_depth': 4, 'n_estimators': 200, 'max_features': 0.8, 'min_samples_split': 2},\n",
       " mean: 0.82022, std: 0.02121, params: {'criterion': 'gini', 'max_depth': 4, 'n_estimators': 500, 'max_features': 0.8, 'min_samples_split': 2},\n",
       " mean: 0.81380, std: 0.02366, params: {'criterion': 'gini', 'max_depth': 4, 'n_estimators': 100, 'max_features': 0.8, 'min_samples_split': 5},\n",
       " mean: 0.82343, std: 0.02575, params: {'criterion': 'gini', 'max_depth': 4, 'n_estimators': 200, 'max_features': 0.8, 'min_samples_split': 5},\n",
       " mean: 0.81862, std: 0.02509, params: {'criterion': 'gini', 'max_depth': 4, 'n_estimators': 500, 'max_features': 0.8, 'min_samples_split': 5},\n",
       " mean: 0.81701, std: 0.02933, params: {'criterion': 'gini', 'max_depth': 4, 'n_estimators': 100, 'max_features': 0.8, 'min_samples_split': 20},\n",
       " mean: 0.81862, std: 0.03056, params: {'criterion': 'gini', 'max_depth': 4, 'n_estimators': 200, 'max_features': 0.8, 'min_samples_split': 20},\n",
       " mean: 0.81862, std: 0.02513, params: {'criterion': 'gini', 'max_depth': 4, 'n_estimators': 500, 'max_features': 0.8, 'min_samples_split': 20},\n",
       " mean: 0.79775, std: 0.01742, params: {'criterion': 'gini', 'max_depth': 4, 'n_estimators': 100, 'max_features': 0.8, 'min_samples_split': 50},\n",
       " mean: 0.79615, std: 0.01513, params: {'criterion': 'gini', 'max_depth': 4, 'n_estimators': 200, 'max_features': 0.8, 'min_samples_split': 50},\n",
       " mean: 0.79615, std: 0.01424, params: {'criterion': 'gini', 'max_depth': 4, 'n_estimators': 500, 'max_features': 0.8, 'min_samples_split': 50},\n",
       " mean: 0.81059, std: 0.02454, params: {'criterion': 'gini', 'max_depth': 6, 'n_estimators': 100, 'max_features': 'sqrt', 'min_samples_split': 2},\n",
       " mean: 0.81541, std: 0.03125, params: {'criterion': 'gini', 'max_depth': 6, 'n_estimators': 200, 'max_features': 'sqrt', 'min_samples_split': 2},\n",
       " mean: 0.81701, std: 0.02684, params: {'criterion': 'gini', 'max_depth': 6, 'n_estimators': 500, 'max_features': 'sqrt', 'min_samples_split': 2},\n",
       " mean: 0.82343, std: 0.02699, params: {'criterion': 'gini', 'max_depth': 6, 'n_estimators': 100, 'max_features': 'sqrt', 'min_samples_split': 5},\n",
       " mean: 0.81380, std: 0.03366, params: {'criterion': 'gini', 'max_depth': 6, 'n_estimators': 200, 'max_features': 'sqrt', 'min_samples_split': 5},\n",
       " mean: 0.81380, std: 0.02378, params: {'criterion': 'gini', 'max_depth': 6, 'n_estimators': 500, 'max_features': 'sqrt', 'min_samples_split': 5},\n",
       " mean: 0.81701, std: 0.01954, params: {'criterion': 'gini', 'max_depth': 6, 'n_estimators': 100, 'max_features': 'sqrt', 'min_samples_split': 20},\n",
       " mean: 0.80899, std: 0.02750, params: {'criterion': 'gini', 'max_depth': 6, 'n_estimators': 200, 'max_features': 'sqrt', 'min_samples_split': 20},\n",
       " mean: 0.81220, std: 0.02652, params: {'criterion': 'gini', 'max_depth': 6, 'n_estimators': 500, 'max_features': 'sqrt', 'min_samples_split': 20},\n",
       " mean: 0.80096, std: 0.02315, params: {'criterion': 'gini', 'max_depth': 6, 'n_estimators': 100, 'max_features': 'sqrt', 'min_samples_split': 50},\n",
       " mean: 0.79615, std: 0.01407, params: {'criterion': 'gini', 'max_depth': 6, 'n_estimators': 200, 'max_features': 'sqrt', 'min_samples_split': 50},\n",
       " mean: 0.80257, std: 0.02145, params: {'criterion': 'gini', 'max_depth': 6, 'n_estimators': 500, 'max_features': 'sqrt', 'min_samples_split': 50},\n",
       " mean: 0.81059, std: 0.01687, params: {'criterion': 'gini', 'max_depth': 6, 'n_estimators': 100, 'max_features': 'log2', 'min_samples_split': 2},\n",
       " mean: 0.81862, std: 0.02325, params: {'criterion': 'gini', 'max_depth': 6, 'n_estimators': 200, 'max_features': 'log2', 'min_samples_split': 2},\n",
       " mean: 0.81701, std: 0.02534, params: {'criterion': 'gini', 'max_depth': 6, 'n_estimators': 500, 'max_features': 'log2', 'min_samples_split': 2},\n",
       " mean: 0.81220, std: 0.01254, params: {'criterion': 'gini', 'max_depth': 6, 'n_estimators': 100, 'max_features': 'log2', 'min_samples_split': 5},\n",
       " mean: 0.81380, std: 0.02703, params: {'criterion': 'gini', 'max_depth': 6, 'n_estimators': 200, 'max_features': 'log2', 'min_samples_split': 5},\n",
       " mean: 0.81541, std: 0.02257, params: {'criterion': 'gini', 'max_depth': 6, 'n_estimators': 500, 'max_features': 'log2', 'min_samples_split': 5},\n",
       " mean: 0.81701, std: 0.02366, params: {'criterion': 'gini', 'max_depth': 6, 'n_estimators': 100, 'max_features': 'log2', 'min_samples_split': 20},\n",
       " mean: 0.81380, std: 0.02311, params: {'criterion': 'gini', 'max_depth': 6, 'n_estimators': 200, 'max_features': 'log2', 'min_samples_split': 20},\n",
       " mean: 0.81220, std: 0.01491, params: {'criterion': 'gini', 'max_depth': 6, 'n_estimators': 500, 'max_features': 'log2', 'min_samples_split': 20},\n",
       " mean: 0.79936, std: 0.01459, params: {'criterion': 'gini', 'max_depth': 6, 'n_estimators': 100, 'max_features': 'log2', 'min_samples_split': 50},\n",
       " mean: 0.79936, std: 0.02892, params: {'criterion': 'gini', 'max_depth': 6, 'n_estimators': 200, 'max_features': 'log2', 'min_samples_split': 50},\n",
       " mean: 0.80096, std: 0.02718, params: {'criterion': 'gini', 'max_depth': 6, 'n_estimators': 500, 'max_features': 'log2', 'min_samples_split': 50},\n",
       " mean: 0.82343, std: 0.03430, params: {'criterion': 'gini', 'max_depth': 6, 'n_estimators': 100, 'max_features': 0.2, 'min_samples_split': 2},\n",
       " mean: 0.82343, std: 0.01886, params: {'criterion': 'gini', 'max_depth': 6, 'n_estimators': 200, 'max_features': 0.2, 'min_samples_split': 2},\n",
       " mean: 0.82022, std: 0.02347, params: {'criterion': 'gini', 'max_depth': 6, 'n_estimators': 500, 'max_features': 0.2, 'min_samples_split': 2},\n",
       " mean: 0.82183, std: 0.02685, params: {'criterion': 'gini', 'max_depth': 6, 'n_estimators': 100, 'max_features': 0.2, 'min_samples_split': 5},\n",
       " mean: 0.82022, std: 0.01982, params: {'criterion': 'gini', 'max_depth': 6, 'n_estimators': 200, 'max_features': 0.2, 'min_samples_split': 5},\n",
       " mean: 0.82504, std: 0.02683, params: {'criterion': 'gini', 'max_depth': 6, 'n_estimators': 500, 'max_features': 0.2, 'min_samples_split': 5},\n",
       " mean: 0.82022, std: 0.02456, params: {'criterion': 'gini', 'max_depth': 6, 'n_estimators': 100, 'max_features': 0.2, 'min_samples_split': 20},\n",
       " mean: 0.81862, std: 0.02390, params: {'criterion': 'gini', 'max_depth': 6, 'n_estimators': 200, 'max_features': 0.2, 'min_samples_split': 20},\n",
       " mean: 0.81862, std: 0.02279, params: {'criterion': 'gini', 'max_depth': 6, 'n_estimators': 500, 'max_features': 0.2, 'min_samples_split': 20},\n",
       " mean: 0.80257, std: 0.01892, params: {'criterion': 'gini', 'max_depth': 6, 'n_estimators': 100, 'max_features': 0.2, 'min_samples_split': 50},\n",
       " mean: 0.80257, std: 0.02443, params: {'criterion': 'gini', 'max_depth': 6, 'n_estimators': 200, 'max_features': 0.2, 'min_samples_split': 50},\n",
       " mean: 0.80096, std: 0.02777, params: {'criterion': 'gini', 'max_depth': 6, 'n_estimators': 500, 'max_features': 0.2, 'min_samples_split': 50},\n",
       " mean: 0.83467, std: 0.02956, params: {'criterion': 'gini', 'max_depth': 6, 'n_estimators': 100, 'max_features': 0.5, 'min_samples_split': 2},\n",
       " mean: 0.83467, std: 0.03138, params: {'criterion': 'gini', 'max_depth': 6, 'n_estimators': 200, 'max_features': 0.5, 'min_samples_split': 2},\n",
       " mean: 0.83628, std: 0.03016, params: {'criterion': 'gini', 'max_depth': 6, 'n_estimators': 500, 'max_features': 0.5, 'min_samples_split': 2},\n",
       " mean: 0.82825, std: 0.03289, params: {'criterion': 'gini', 'max_depth': 6, 'n_estimators': 100, 'max_features': 0.5, 'min_samples_split': 5},\n",
       " mean: 0.83788, std: 0.03102, params: {'criterion': 'gini', 'max_depth': 6, 'n_estimators': 200, 'max_features': 0.5, 'min_samples_split': 5},\n",
       " mean: 0.83788, std: 0.02769, params: {'criterion': 'gini', 'max_depth': 6, 'n_estimators': 500, 'max_features': 0.5, 'min_samples_split': 5},\n",
       " mean: 0.83146, std: 0.03471, params: {'criterion': 'gini', 'max_depth': 6, 'n_estimators': 100, 'max_features': 0.5, 'min_samples_split': 20},\n",
       " mean: 0.82504, std: 0.03511, params: {'criterion': 'gini', 'max_depth': 6, 'n_estimators': 200, 'max_features': 0.5, 'min_samples_split': 20},\n",
       " mean: 0.82504, std: 0.03118, params: {'criterion': 'gini', 'max_depth': 6, 'n_estimators': 500, 'max_features': 0.5, 'min_samples_split': 20},\n",
       " mean: 0.80257, std: 0.01400, params: {'criterion': 'gini', 'max_depth': 6, 'n_estimators': 100, 'max_features': 0.5, 'min_samples_split': 50},\n",
       " mean: 0.79454, std: 0.01506, params: {'criterion': 'gini', 'max_depth': 6, 'n_estimators': 200, 'max_features': 0.5, 'min_samples_split': 50},\n",
       " mean: 0.79615, std: 0.01597, params: {'criterion': 'gini', 'max_depth': 6, 'n_estimators': 500, 'max_features': 0.5, 'min_samples_split': 50},\n",
       " mean: 0.82825, std: 0.02685, params: {'criterion': 'gini', 'max_depth': 6, 'n_estimators': 100, 'max_features': 0.8, 'min_samples_split': 2},\n",
       " mean: 0.83146, std: 0.02523, params: {'criterion': 'gini', 'max_depth': 6, 'n_estimators': 200, 'max_features': 0.8, 'min_samples_split': 2},\n",
       " mean: 0.83788, std: 0.02543, params: {'criterion': 'gini', 'max_depth': 6, 'n_estimators': 500, 'max_features': 0.8, 'min_samples_split': 2},\n",
       " mean: 0.83307, std: 0.02954, params: {'criterion': 'gini', 'max_depth': 6, 'n_estimators': 100, 'max_features': 0.8, 'min_samples_split': 5},\n",
       " mean: 0.82825, std: 0.02308, params: {'criterion': 'gini', 'max_depth': 6, 'n_estimators': 200, 'max_features': 0.8, 'min_samples_split': 5},\n",
       " mean: 0.83146, std: 0.02662, params: {'criterion': 'gini', 'max_depth': 6, 'n_estimators': 500, 'max_features': 0.8, 'min_samples_split': 5},\n",
       " mean: 0.82665, std: 0.02113, params: {'criterion': 'gini', 'max_depth': 6, 'n_estimators': 100, 'max_features': 0.8, 'min_samples_split': 20},\n",
       " mean: 0.83146, std: 0.02223, params: {'criterion': 'gini', 'max_depth': 6, 'n_estimators': 200, 'max_features': 0.8, 'min_samples_split': 20},\n",
       " mean: 0.82665, std: 0.02455, params: {'criterion': 'gini', 'max_depth': 6, 'n_estimators': 500, 'max_features': 0.8, 'min_samples_split': 20},\n",
       " mean: 0.79454, std: 0.01303, params: {'criterion': 'gini', 'max_depth': 6, 'n_estimators': 100, 'max_features': 0.8, 'min_samples_split': 50},\n",
       " mean: 0.80738, std: 0.01750, params: {'criterion': 'gini', 'max_depth': 6, 'n_estimators': 200, 'max_features': 0.8, 'min_samples_split': 50},\n",
       " mean: 0.79615, std: 0.01846, params: {'criterion': 'gini', 'max_depth': 6, 'n_estimators': 500, 'max_features': 0.8, 'min_samples_split': 50},\n",
       " mean: 0.82825, std: 0.01764, params: {'criterion': 'gini', 'max_depth': 10, 'n_estimators': 100, 'max_features': 'sqrt', 'min_samples_split': 2},\n",
       " mean: 0.83307, std: 0.02592, params: {'criterion': 'gini', 'max_depth': 10, 'n_estimators': 200, 'max_features': 'sqrt', 'min_samples_split': 2},\n",
       " mean: 0.83307, std: 0.03038, params: {'criterion': 'gini', 'max_depth': 10, 'n_estimators': 500, 'max_features': 'sqrt', 'min_samples_split': 2},\n",
       " mean: 0.82986, std: 0.02709, params: {'criterion': 'gini', 'max_depth': 10, 'n_estimators': 100, 'max_features': 'sqrt', 'min_samples_split': 5},\n",
       " mean: 0.82825, std: 0.02706, params: {'criterion': 'gini', 'max_depth': 10, 'n_estimators': 200, 'max_features': 'sqrt', 'min_samples_split': 5},\n",
       " mean: 0.82986, std: 0.03624, params: {'criterion': 'gini', 'max_depth': 10, 'n_estimators': 500, 'max_features': 'sqrt', 'min_samples_split': 5},\n",
       " mean: 0.82022, std: 0.02938, params: {'criterion': 'gini', 'max_depth': 10, 'n_estimators': 100, 'max_features': 'sqrt', 'min_samples_split': 20},\n",
       " mean: 0.81541, std: 0.02780, params: {'criterion': 'gini', 'max_depth': 10, 'n_estimators': 200, 'max_features': 'sqrt', 'min_samples_split': 20},\n",
       " mean: 0.81541, std: 0.02709, params: {'criterion': 'gini', 'max_depth': 10, 'n_estimators': 500, 'max_features': 'sqrt', 'min_samples_split': 20},\n",
       " mean: 0.80096, std: 0.03275, params: {'criterion': 'gini', 'max_depth': 10, 'n_estimators': 100, 'max_features': 'sqrt', 'min_samples_split': 50},\n",
       " mean: 0.79775, std: 0.02250, params: {'criterion': 'gini', 'max_depth': 10, 'n_estimators': 200, 'max_features': 'sqrt', 'min_samples_split': 50},\n",
       " mean: 0.80738, std: 0.02914, params: {'criterion': 'gini', 'max_depth': 10, 'n_estimators': 500, 'max_features': 'sqrt', 'min_samples_split': 50},\n",
       " mean: 0.82343, std: 0.02620, params: {'criterion': 'gini', 'max_depth': 10, 'n_estimators': 100, 'max_features': 'log2', 'min_samples_split': 2},\n",
       " mean: 0.82343, std: 0.03480, params: {'criterion': 'gini', 'max_depth': 10, 'n_estimators': 200, 'max_features': 'log2', 'min_samples_split': 2},\n",
       " mean: 0.82665, std: 0.03161, params: {'criterion': 'gini', 'max_depth': 10, 'n_estimators': 500, 'max_features': 'log2', 'min_samples_split': 2},\n",
       " mean: 0.82986, std: 0.02692, params: {'criterion': 'gini', 'max_depth': 10, 'n_estimators': 100, 'max_features': 'log2', 'min_samples_split': 5},\n",
       " mean: 0.82183, std: 0.03055, params: {'criterion': 'gini', 'max_depth': 10, 'n_estimators': 200, 'max_features': 'log2', 'min_samples_split': 5},\n",
       " mean: 0.82183, std: 0.02651, params: {'criterion': 'gini', 'max_depth': 10, 'n_estimators': 500, 'max_features': 'log2', 'min_samples_split': 5},\n",
       " mean: 0.81701, std: 0.02534, params: {'criterion': 'gini', 'max_depth': 10, 'n_estimators': 100, 'max_features': 'log2', 'min_samples_split': 20},\n",
       " mean: 0.81380, std: 0.02579, params: {'criterion': 'gini', 'max_depth': 10, 'n_estimators': 200, 'max_features': 'log2', 'min_samples_split': 20},\n",
       " mean: 0.81862, std: 0.02783, params: {'criterion': 'gini', 'max_depth': 10, 'n_estimators': 500, 'max_features': 'log2', 'min_samples_split': 20},\n",
       " mean: 0.81380, std: 0.01656, params: {'criterion': 'gini', 'max_depth': 10, 'n_estimators': 100, 'max_features': 'log2', 'min_samples_split': 50},\n",
       " mean: 0.79936, std: 0.02497, params: {'criterion': 'gini', 'max_depth': 10, 'n_estimators': 200, 'max_features': 'log2', 'min_samples_split': 50},\n",
       " mean: 0.80578, std: 0.01787, params: {'criterion': 'gini', 'max_depth': 10, 'n_estimators': 500, 'max_features': 'log2', 'min_samples_split': 50},\n",
       " mean: 0.83628, std: 0.02539, params: {'criterion': 'gini', 'max_depth': 10, 'n_estimators': 100, 'max_features': 0.2, 'min_samples_split': 2},\n",
       " mean: 0.84270, std: 0.02905, params: {'criterion': 'gini', 'max_depth': 10, 'n_estimators': 200, 'max_features': 0.2, 'min_samples_split': 2},\n",
       " mean: 0.83628, std: 0.02792, params: {'criterion': 'gini', 'max_depth': 10, 'n_estimators': 500, 'max_features': 0.2, 'min_samples_split': 2},\n",
       " mean: 0.83467, std: 0.02743, params: {'criterion': 'gini', 'max_depth': 10, 'n_estimators': 100, 'max_features': 0.2, 'min_samples_split': 5},\n",
       " mean: 0.82986, std: 0.03363, params: {'criterion': 'gini', 'max_depth': 10, 'n_estimators': 200, 'max_features': 0.2, 'min_samples_split': 5},\n",
       " mean: 0.83628, std: 0.03245, params: {'criterion': 'gini', 'max_depth': 10, 'n_estimators': 500, 'max_features': 0.2, 'min_samples_split': 5},\n",
       " mean: 0.82504, std: 0.02805, params: {'criterion': 'gini', 'max_depth': 10, 'n_estimators': 100, 'max_features': 0.2, 'min_samples_split': 20},\n",
       " mean: 0.82825, std: 0.02770, params: {'criterion': 'gini', 'max_depth': 10, 'n_estimators': 200, 'max_features': 0.2, 'min_samples_split': 20},\n",
       " mean: 0.83146, std: 0.03051, params: {'criterion': 'gini', 'max_depth': 10, 'n_estimators': 500, 'max_features': 0.2, 'min_samples_split': 20},\n",
       " mean: 0.80417, std: 0.03126, params: {'criterion': 'gini', 'max_depth': 10, 'n_estimators': 100, 'max_features': 0.2, 'min_samples_split': 50},\n",
       " mean: 0.80096, std: 0.01966, params: {'criterion': 'gini', 'max_depth': 10, 'n_estimators': 200, 'max_features': 0.2, 'min_samples_split': 50},\n",
       " mean: 0.80257, std: 0.02928, params: {'criterion': 'gini', 'max_depth': 10, 'n_estimators': 500, 'max_features': 0.2, 'min_samples_split': 50},\n",
       " mean: 0.83307, std: 0.02999, params: {'criterion': 'gini', 'max_depth': 10, 'n_estimators': 100, 'max_features': 0.5, 'min_samples_split': 2},\n",
       " mean: 0.83788, std: 0.03285, params: {'criterion': 'gini', 'max_depth': 10, 'n_estimators': 200, 'max_features': 0.5, 'min_samples_split': 2},\n",
       " mean: 0.83628, std: 0.03402, params: {'criterion': 'gini', 'max_depth': 10, 'n_estimators': 500, 'max_features': 0.5, 'min_samples_split': 2},\n",
       " mean: 0.84109, std: 0.03459, params: {'criterion': 'gini', 'max_depth': 10, 'n_estimators': 100, 'max_features': 0.5, 'min_samples_split': 5},\n",
       " mean: 0.83949, std: 0.03028, params: {'criterion': 'gini', 'max_depth': 10, 'n_estimators': 200, 'max_features': 0.5, 'min_samples_split': 5},\n",
       " mean: 0.84430, std: 0.02893, params: {'criterion': 'gini', 'max_depth': 10, 'n_estimators': 500, 'max_features': 0.5, 'min_samples_split': 5},\n",
       " mean: 0.82986, std: 0.03025, params: {'criterion': 'gini', 'max_depth': 10, 'n_estimators': 100, 'max_features': 0.5, 'min_samples_split': 20},\n",
       " mean: 0.82504, std: 0.02847, params: {'criterion': 'gini', 'max_depth': 10, 'n_estimators': 200, 'max_features': 0.5, 'min_samples_split': 20},\n",
       " mean: 0.83146, std: 0.02640, params: {'criterion': 'gini', 'max_depth': 10, 'n_estimators': 500, 'max_features': 0.5, 'min_samples_split': 20},\n",
       " mean: 0.79615, std: 0.01186, params: {'criterion': 'gini', 'max_depth': 10, 'n_estimators': 100, 'max_features': 0.5, 'min_samples_split': 50},\n",
       " mean: 0.79294, std: 0.01663, params: {'criterion': 'gini', 'max_depth': 10, 'n_estimators': 200, 'max_features': 0.5, 'min_samples_split': 50},\n",
       " mean: 0.79775, std: 0.01742, params: {'criterion': 'gini', 'max_depth': 10, 'n_estimators': 500, 'max_features': 0.5, 'min_samples_split': 50},\n",
       " mean: 0.82986, std: 0.03903, params: {'criterion': 'gini', 'max_depth': 10, 'n_estimators': 100, 'max_features': 0.8, 'min_samples_split': 2},\n",
       " mean: 0.82665, std: 0.03493, params: {'criterion': 'gini', 'max_depth': 10, 'n_estimators': 200, 'max_features': 0.8, 'min_samples_split': 2},\n",
       " mean: 0.82986, std: 0.03285, params: {'criterion': 'gini', 'max_depth': 10, 'n_estimators': 500, 'max_features': 0.8, 'min_samples_split': 2},\n",
       " mean: 0.83467, std: 0.02721, params: {'criterion': 'gini', 'max_depth': 10, 'n_estimators': 100, 'max_features': 0.8, 'min_samples_split': 5},\n",
       " mean: 0.83307, std: 0.03038, params: {'criterion': 'gini', 'max_depth': 10, 'n_estimators': 200, 'max_features': 0.8, 'min_samples_split': 5},\n",
       " mean: 0.83949, std: 0.03552, params: {'criterion': 'gini', 'max_depth': 10, 'n_estimators': 500, 'max_features': 0.8, 'min_samples_split': 5},\n",
       " mean: 0.83307, std: 0.02829, params: {'criterion': 'gini', 'max_depth': 10, 'n_estimators': 100, 'max_features': 0.8, 'min_samples_split': 20},\n",
       " mean: 0.82986, std: 0.01794, params: {'criterion': 'gini', 'max_depth': 10, 'n_estimators': 200, 'max_features': 0.8, 'min_samples_split': 20},\n",
       " mean: 0.82986, std: 0.02093, params: {'criterion': 'gini', 'max_depth': 10, 'n_estimators': 500, 'max_features': 0.8, 'min_samples_split': 20},\n",
       " mean: 0.80578, std: 0.02004, params: {'criterion': 'gini', 'max_depth': 10, 'n_estimators': 100, 'max_features': 0.8, 'min_samples_split': 50},\n",
       " mean: 0.79775, std: 0.01378, params: {'criterion': 'gini', 'max_depth': 10, 'n_estimators': 200, 'max_features': 0.8, 'min_samples_split': 50},\n",
       " mean: 0.79775, std: 0.01742, params: {'criterion': 'gini', 'max_depth': 10, 'n_estimators': 500, 'max_features': 0.8, 'min_samples_split': 50},\n",
       " mean: 0.77207, std: 0.02398, params: {'criterion': 'entropy', 'max_depth': 3, 'n_estimators': 100, 'max_features': 'sqrt', 'min_samples_split': 2},\n",
       " mean: 0.78170, std: 0.01218, params: {'criterion': 'entropy', 'max_depth': 3, 'n_estimators': 200, 'max_features': 'sqrt', 'min_samples_split': 2},\n",
       " mean: 0.78973, std: 0.01422, params: {'criterion': 'entropy', 'max_depth': 3, 'n_estimators': 500, 'max_features': 'sqrt', 'min_samples_split': 2},\n",
       " mean: 0.79775, std: 0.02792, params: {'criterion': 'entropy', 'max_depth': 3, 'n_estimators': 100, 'max_features': 'sqrt', 'min_samples_split': 5},\n",
       " mean: 0.78491, std: 0.00591, params: {'criterion': 'entropy', 'max_depth': 3, 'n_estimators': 200, 'max_features': 'sqrt', 'min_samples_split': 5},\n",
       " mean: 0.79294, std: 0.01281, params: {'criterion': 'entropy', 'max_depth': 3, 'n_estimators': 500, 'max_features': 'sqrt', 'min_samples_split': 5},\n",
       " mean: 0.79454, std: 0.01642, params: {'criterion': 'entropy', 'max_depth': 3, 'n_estimators': 100, 'max_features': 'sqrt', 'min_samples_split': 20},\n",
       " mean: 0.78331, std: 0.01497, params: {'criterion': 'entropy', 'max_depth': 3, 'n_estimators': 200, 'max_features': 'sqrt', 'min_samples_split': 20},\n",
       " mean: 0.79615, std: 0.01659, params: {'criterion': 'entropy', 'max_depth': 3, 'n_estimators': 500, 'max_features': 'sqrt', 'min_samples_split': 20},\n",
       " mean: 0.77528, std: 0.01108, params: {'criterion': 'entropy', 'max_depth': 3, 'n_estimators': 100, 'max_features': 'sqrt', 'min_samples_split': 50},\n",
       " mean: 0.79294, std: 0.01940, params: {'criterion': 'entropy', 'max_depth': 3, 'n_estimators': 200, 'max_features': 'sqrt', 'min_samples_split': 50},\n",
       " mean: 0.78652, std: 0.01292, params: {'criterion': 'entropy', 'max_depth': 3, 'n_estimators': 500, 'max_features': 'sqrt', 'min_samples_split': 50},\n",
       " mean: 0.73997, std: 0.03109, params: {'criterion': 'entropy', 'max_depth': 3, 'n_estimators': 100, 'max_features': 'log2', 'min_samples_split': 2},\n",
       " mean: 0.73034, std: 0.01130, params: {'criterion': 'entropy', 'max_depth': 3, 'n_estimators': 200, 'max_features': 'log2', 'min_samples_split': 2},\n",
       " mean: 0.73515, std: 0.01029, params: {'criterion': 'entropy', 'max_depth': 3, 'n_estimators': 500, 'max_features': 'log2', 'min_samples_split': 2},\n",
       " mean: 0.71910, std: 0.03045, params: {'criterion': 'entropy', 'max_depth': 3, 'n_estimators': 100, 'max_features': 'log2', 'min_samples_split': 5},\n",
       " mean: 0.74157, std: 0.02285, params: {'criterion': 'entropy', 'max_depth': 3, 'n_estimators': 200, 'max_features': 'log2', 'min_samples_split': 5},\n",
       " mean: 0.72873, std: 0.02123, params: {'criterion': 'entropy', 'max_depth': 3, 'n_estimators': 500, 'max_features': 'log2', 'min_samples_split': 5},\n",
       " mean: 0.73676, std: 0.03528, params: {'criterion': 'entropy', 'max_depth': 3, 'n_estimators': 100, 'max_features': 'log2', 'min_samples_split': 20},\n",
       " mean: 0.74639, std: 0.01783, params: {'criterion': 'entropy', 'max_depth': 3, 'n_estimators': 200, 'max_features': 'log2', 'min_samples_split': 20},\n",
       " mean: 0.73997, std: 0.01664, params: {'criterion': 'entropy', 'max_depth': 3, 'n_estimators': 500, 'max_features': 'log2', 'min_samples_split': 20},\n",
       " mean: 0.72231, std: 0.03604, params: {'criterion': 'entropy', 'max_depth': 3, 'n_estimators': 100, 'max_features': 'log2', 'min_samples_split': 50},\n",
       " mean: 0.73997, std: 0.02338, params: {'criterion': 'entropy', 'max_depth': 3, 'n_estimators': 200, 'max_features': 'log2', 'min_samples_split': 50},\n",
       " mean: 0.74318, std: 0.02513, params: {'criterion': 'entropy', 'max_depth': 3, 'n_estimators': 500, 'max_features': 'log2', 'min_samples_split': 50},\n",
       " mean: 0.79454, std: 0.02867, params: {'criterion': 'entropy', 'max_depth': 3, 'n_estimators': 100, 'max_features': 0.2, 'min_samples_split': 2},\n",
       " mean: 0.80578, std: 0.03441, params: {'criterion': 'entropy', 'max_depth': 3, 'n_estimators': 200, 'max_features': 0.2, 'min_samples_split': 2},\n",
       " mean: 0.80899, std: 0.02872, params: {'criterion': 'entropy', 'max_depth': 3, 'n_estimators': 500, 'max_features': 0.2, 'min_samples_split': 2},\n",
       " mean: 0.79454, std: 0.02431, params: {'criterion': 'entropy', 'max_depth': 3, 'n_estimators': 100, 'max_features': 0.2, 'min_samples_split': 5},\n",
       " mean: 0.80417, std: 0.03491, params: {'criterion': 'entropy', 'max_depth': 3, 'n_estimators': 200, 'max_features': 0.2, 'min_samples_split': 5},\n",
       " mean: 0.80899, std: 0.03124, params: {'criterion': 'entropy', 'max_depth': 3, 'n_estimators': 500, 'max_features': 0.2, 'min_samples_split': 5},\n",
       " mean: 0.80738, std: 0.02179, params: {'criterion': 'entropy', 'max_depth': 3, 'n_estimators': 100, 'max_features': 0.2, 'min_samples_split': 20},\n",
       " mean: 0.79775, std: 0.02374, params: {'criterion': 'entropy', 'max_depth': 3, 'n_estimators': 200, 'max_features': 0.2, 'min_samples_split': 20},\n",
       " mean: 0.80417, std: 0.03385, params: {'criterion': 'entropy', 'max_depth': 3, 'n_estimators': 500, 'max_features': 0.2, 'min_samples_split': 20},\n",
       " mean: 0.79294, std: 0.02664, params: {'criterion': 'entropy', 'max_depth': 3, 'n_estimators': 100, 'max_features': 0.2, 'min_samples_split': 50},\n",
       " mean: 0.79615, std: 0.02234, params: {'criterion': 'entropy', 'max_depth': 3, 'n_estimators': 200, 'max_features': 0.2, 'min_samples_split': 50},\n",
       " mean: 0.79133, std: 0.02290, params: {'criterion': 'entropy', 'max_depth': 3, 'n_estimators': 500, 'max_features': 0.2, 'min_samples_split': 50},\n",
       " mean: 0.81220, std: 0.02722, params: {'criterion': 'entropy', 'max_depth': 3, 'n_estimators': 100, 'max_features': 0.5, 'min_samples_split': 2},\n",
       " mean: 0.80899, std: 0.03030, params: {'criterion': 'entropy', 'max_depth': 3, 'n_estimators': 200, 'max_features': 0.5, 'min_samples_split': 2},\n",
       " mean: 0.81059, std: 0.02956, params: {'criterion': 'entropy', 'max_depth': 3, 'n_estimators': 500, 'max_features': 0.5, 'min_samples_split': 2},\n",
       " mean: 0.81220, std: 0.03164, params: {'criterion': 'entropy', 'max_depth': 3, 'n_estimators': 100, 'max_features': 0.5, 'min_samples_split': 5},\n",
       " mean: 0.80899, std: 0.02943, params: {'criterion': 'entropy', 'max_depth': 3, 'n_estimators': 200, 'max_features': 0.5, 'min_samples_split': 5},\n",
       " mean: 0.80738, std: 0.03103, params: {'criterion': 'entropy', 'max_depth': 3, 'n_estimators': 500, 'max_features': 0.5, 'min_samples_split': 5},\n",
       " mean: 0.80899, std: 0.02943, params: {'criterion': 'entropy', 'max_depth': 3, 'n_estimators': 100, 'max_features': 0.5, 'min_samples_split': 20},\n",
       " mean: 0.81380, std: 0.02717, params: {'criterion': 'entropy', 'max_depth': 3, 'n_estimators': 200, 'max_features': 0.5, 'min_samples_split': 20},\n",
       " mean: 0.81220, std: 0.02769, params: {'criterion': 'entropy', 'max_depth': 3, 'n_estimators': 500, 'max_features': 0.5, 'min_samples_split': 20},\n",
       " mean: 0.79454, std: 0.03338, params: {'criterion': 'entropy', 'max_depth': 3, 'n_estimators': 100, 'max_features': 0.5, 'min_samples_split': 50},\n",
       " mean: 0.79615, std: 0.01071, params: {'criterion': 'entropy', 'max_depth': 3, 'n_estimators': 200, 'max_features': 0.5, 'min_samples_split': 50},\n",
       " mean: 0.79775, std: 0.03270, params: {'criterion': 'entropy', 'max_depth': 3, 'n_estimators': 500, 'max_features': 0.5, 'min_samples_split': 50},\n",
       " mean: 0.81059, std: 0.02857, params: {'criterion': 'entropy', 'max_depth': 3, 'n_estimators': 100, 'max_features': 0.8, 'min_samples_split': 2},\n",
       " mean: 0.80899, std: 0.02943, params: {'criterion': 'entropy', 'max_depth': 3, 'n_estimators': 200, 'max_features': 0.8, 'min_samples_split': 2},\n",
       " mean: 0.81059, std: 0.02857, params: {'criterion': 'entropy', 'max_depth': 3, 'n_estimators': 500, 'max_features': 0.8, 'min_samples_split': 2},\n",
       " mean: 0.81220, std: 0.02769, params: {'criterion': 'entropy', 'max_depth': 3, 'n_estimators': 100, 'max_features': 0.8, 'min_samples_split': 5},\n",
       " mean: 0.80899, std: 0.02977, params: {'criterion': 'entropy', 'max_depth': 3, 'n_estimators': 200, 'max_features': 0.8, 'min_samples_split': 5},\n",
       " mean: 0.81220, std: 0.02825, params: {'criterion': 'entropy', 'max_depth': 3, 'n_estimators': 500, 'max_features': 0.8, 'min_samples_split': 5},\n",
       " mean: 0.81059, std: 0.02857, params: {'criterion': 'entropy', 'max_depth': 3, 'n_estimators': 100, 'max_features': 0.8, 'min_samples_split': 20},\n",
       " mean: 0.80899, std: 0.02943, params: {'criterion': 'entropy', 'max_depth': 3, 'n_estimators': 200, 'max_features': 0.8, 'min_samples_split': 20},\n",
       " mean: 0.80899, std: 0.02977, params: {'criterion': 'entropy', 'max_depth': 3, 'n_estimators': 500, 'max_features': 0.8, 'min_samples_split': 20},\n",
       " mean: 0.78812, std: 0.02039, params: {'criterion': 'entropy', 'max_depth': 3, 'n_estimators': 100, 'max_features': 0.8, 'min_samples_split': 50},\n",
       " mean: 0.78812, std: 0.01960, params: {'criterion': 'entropy', 'max_depth': 3, 'n_estimators': 200, 'max_features': 0.8, 'min_samples_split': 50},\n",
       " mean: 0.78973, std: 0.01483, params: {'criterion': 'entropy', 'max_depth': 3, 'n_estimators': 500, 'max_features': 0.8, 'min_samples_split': 50},\n",
       " mean: 0.80096, std: 0.02104, params: {'criterion': 'entropy', 'max_depth': 4, 'n_estimators': 100, 'max_features': 'sqrt', 'min_samples_split': 2},\n",
       " mean: 0.80578, std: 0.02190, params: {'criterion': 'entropy', 'max_depth': 4, 'n_estimators': 200, 'max_features': 'sqrt', 'min_samples_split': 2},\n",
       " mean: 0.80899, std: 0.01708, params: {'criterion': 'entropy', 'max_depth': 4, 'n_estimators': 500, 'max_features': 'sqrt', 'min_samples_split': 2},\n",
       " mean: 0.80417, std: 0.01917, params: {'criterion': 'entropy', 'max_depth': 4, 'n_estimators': 100, 'max_features': 'sqrt', 'min_samples_split': 5},\n",
       " mean: 0.80899, std: 0.01630, params: {'criterion': 'entropy', 'max_depth': 4, 'n_estimators': 200, 'max_features': 'sqrt', 'min_samples_split': 5},\n",
       " mean: 0.80578, std: 0.01467, params: {'criterion': 'entropy', 'max_depth': 4, 'n_estimators': 500, 'max_features': 'sqrt', 'min_samples_split': 5},\n",
       " mean: 0.80096, std: 0.01603, params: {'criterion': 'entropy', 'max_depth': 4, 'n_estimators': 100, 'max_features': 'sqrt', 'min_samples_split': 20},\n",
       " mean: 0.79775, std: 0.02251, params: {'criterion': 'entropy', 'max_depth': 4, 'n_estimators': 200, 'max_features': 'sqrt', 'min_samples_split': 20},\n",
       " mean: 0.80578, std: 0.01467, params: {'criterion': 'entropy', 'max_depth': 4, 'n_estimators': 500, 'max_features': 'sqrt', 'min_samples_split': 20},\n",
       " mean: 0.78170, std: 0.03085, params: {'criterion': 'entropy', 'max_depth': 4, 'n_estimators': 100, 'max_features': 'sqrt', 'min_samples_split': 50},\n",
       " mean: 0.79775, std: 0.02662, params: {'criterion': 'entropy', 'max_depth': 4, 'n_estimators': 200, 'max_features': 'sqrt', 'min_samples_split': 50},\n",
       " mean: 0.79936, std: 0.03318, params: {'criterion': 'entropy', 'max_depth': 4, 'n_estimators': 500, 'max_features': 'sqrt', 'min_samples_split': 50},\n",
       " mean: 0.75602, std: 0.02172, params: {'criterion': 'entropy', 'max_depth': 4, 'n_estimators': 100, 'max_features': 'log2', 'min_samples_split': 2},\n",
       " mean: 0.77528, std: 0.02263, params: {'criterion': 'entropy', 'max_depth': 4, 'n_estimators': 200, 'max_features': 'log2', 'min_samples_split': 2},\n",
       " mean: 0.78170, std: 0.01744, params: {'criterion': 'entropy', 'max_depth': 4, 'n_estimators': 500, 'max_features': 'log2', 'min_samples_split': 2},\n",
       " mean: 0.77689, std: 0.04123, params: {'criterion': 'entropy', 'max_depth': 4, 'n_estimators': 100, 'max_features': 'log2', 'min_samples_split': 5},\n",
       " mean: 0.78010, std: 0.00806, params: {'criterion': 'entropy', 'max_depth': 4, 'n_estimators': 200, 'max_features': 'log2', 'min_samples_split': 5},\n",
       " mean: 0.78010, std: 0.01024, params: {'criterion': 'entropy', 'max_depth': 4, 'n_estimators': 500, 'max_features': 'log2', 'min_samples_split': 5},\n",
       " mean: 0.78491, std: 0.01240, params: {'criterion': 'entropy', 'max_depth': 4, 'n_estimators': 100, 'max_features': 'log2', 'min_samples_split': 20},\n",
       " mean: 0.78491, std: 0.01969, params: {'criterion': 'entropy', 'max_depth': 4, 'n_estimators': 200, 'max_features': 'log2', 'min_samples_split': 20},\n",
       " mean: 0.77368, std: 0.02153, params: {'criterion': 'entropy', 'max_depth': 4, 'n_estimators': 500, 'max_features': 'log2', 'min_samples_split': 20},\n",
       " mean: 0.78491, std: 0.02319, params: {'criterion': 'entropy', 'max_depth': 4, 'n_estimators': 100, 'max_features': 'log2', 'min_samples_split': 50},\n",
       " mean: 0.77207, std: 0.01704, params: {'criterion': 'entropy', 'max_depth': 4, 'n_estimators': 200, 'max_features': 'log2', 'min_samples_split': 50},\n",
       " mean: 0.78010, std: 0.01242, params: {'criterion': 'entropy', 'max_depth': 4, 'n_estimators': 500, 'max_features': 'log2', 'min_samples_split': 50},\n",
       " mean: 0.80738, std: 0.02044, params: {'criterion': 'entropy', 'max_depth': 4, 'n_estimators': 100, 'max_features': 0.2, 'min_samples_split': 2},\n",
       " mean: 0.81059, std: 0.02242, params: {'criterion': 'entropy', 'max_depth': 4, 'n_estimators': 200, 'max_features': 0.2, 'min_samples_split': 2},\n",
       " mean: 0.81059, std: 0.02152, params: {'criterion': 'entropy', 'max_depth': 4, 'n_estimators': 500, 'max_features': 0.2, 'min_samples_split': 2},\n",
       " mean: 0.81059, std: 0.02706, params: {'criterion': 'entropy', 'max_depth': 4, 'n_estimators': 100, 'max_features': 0.2, 'min_samples_split': 5},\n",
       " mean: 0.81059, std: 0.03121, params: {'criterion': 'entropy', 'max_depth': 4, 'n_estimators': 200, 'max_features': 0.2, 'min_samples_split': 5},\n",
       " mean: 0.81059, std: 0.02102, params: {'criterion': 'entropy', 'max_depth': 4, 'n_estimators': 500, 'max_features': 0.2, 'min_samples_split': 5},\n",
       " mean: 0.80899, std: 0.01730, params: {'criterion': 'entropy', 'max_depth': 4, 'n_estimators': 100, 'max_features': 0.2, 'min_samples_split': 20},\n",
       " mean: 0.81701, std: 0.01875, params: {'criterion': 'entropy', 'max_depth': 4, 'n_estimators': 200, 'max_features': 0.2, 'min_samples_split': 20},\n",
       " mean: 0.80738, std: 0.02425, params: {'criterion': 'entropy', 'max_depth': 4, 'n_estimators': 500, 'max_features': 0.2, 'min_samples_split': 20},\n",
       " mean: 0.80096, std: 0.02654, params: {'criterion': 'entropy', 'max_depth': 4, 'n_estimators': 100, 'max_features': 0.2, 'min_samples_split': 50},\n",
       " mean: 0.80096, std: 0.03180, params: {'criterion': 'entropy', 'max_depth': 4, 'n_estimators': 200, 'max_features': 0.2, 'min_samples_split': 50},\n",
       " mean: 0.79775, std: 0.02121, params: {'criterion': 'entropy', 'max_depth': 4, 'n_estimators': 500, 'max_features': 0.2, 'min_samples_split': 50},\n",
       " mean: 0.81220, std: 0.02541, params: {'criterion': 'entropy', 'max_depth': 4, 'n_estimators': 100, 'max_features': 0.5, 'min_samples_split': 2},\n",
       " mean: 0.81701, std: 0.02996, params: {'criterion': 'entropy', 'max_depth': 4, 'n_estimators': 200, 'max_features': 0.5, 'min_samples_split': 2},\n",
       " mean: 0.81541, std: 0.02858, params: {'criterion': 'entropy', 'max_depth': 4, 'n_estimators': 500, 'max_features': 0.5, 'min_samples_split': 2},\n",
       " mean: 0.81380, std: 0.03206, params: {'criterion': 'entropy', 'max_depth': 4, 'n_estimators': 100, 'max_features': 0.5, 'min_samples_split': 5},\n",
       " mean: 0.81541, std: 0.02858, params: {'criterion': 'entropy', 'max_depth': 4, 'n_estimators': 200, 'max_features': 0.5, 'min_samples_split': 5},\n",
       " mean: 0.81380, std: 0.03206, params: {'criterion': 'entropy', 'max_depth': 4, 'n_estimators': 500, 'max_features': 0.5, 'min_samples_split': 5},\n",
       " mean: 0.81701, std: 0.02996, params: {'criterion': 'entropy', 'max_depth': 4, 'n_estimators': 100, 'max_features': 0.5, 'min_samples_split': 20},\n",
       " mean: 0.81380, std: 0.02771, params: {'criterion': 'entropy', 'max_depth': 4, 'n_estimators': 200, 'max_features': 0.5, 'min_samples_split': 20},\n",
       " mean: 0.81220, std: 0.02922, params: {'criterion': 'entropy', 'max_depth': 4, 'n_estimators': 500, 'max_features': 0.5, 'min_samples_split': 20},\n",
       " mean: 0.79775, std: 0.01620, params: {'criterion': 'entropy', 'max_depth': 4, 'n_estimators': 100, 'max_features': 0.5, 'min_samples_split': 50},\n",
       " mean: 0.79936, std: 0.01494, params: {'criterion': 'entropy', 'max_depth': 4, 'n_estimators': 200, 'max_features': 0.5, 'min_samples_split': 50},\n",
       " mean: 0.79133, std: 0.01625, params: {'criterion': 'entropy', 'max_depth': 4, 'n_estimators': 500, 'max_features': 0.5, 'min_samples_split': 50},\n",
       " mean: 0.82022, std: 0.02921, params: {'criterion': 'entropy', 'max_depth': 4, 'n_estimators': 100, 'max_features': 0.8, 'min_samples_split': 2},\n",
       " mean: 0.81862, std: 0.02697, params: {'criterion': 'entropy', 'max_depth': 4, 'n_estimators': 200, 'max_features': 0.8, 'min_samples_split': 2},\n",
       " mean: 0.81701, std: 0.02785, params: {'criterion': 'entropy', 'max_depth': 4, 'n_estimators': 500, 'max_features': 0.8, 'min_samples_split': 2},\n",
       " mean: 0.81862, std: 0.02090, params: {'criterion': 'entropy', 'max_depth': 4, 'n_estimators': 100, 'max_features': 0.8, 'min_samples_split': 5},\n",
       " mean: 0.82022, std: 0.02164, params: {'criterion': 'entropy', 'max_depth': 4, 'n_estimators': 200, 'max_features': 0.8, 'min_samples_split': 5},\n",
       " mean: 0.81541, std: 0.02463, params: {'criterion': 'entropy', 'max_depth': 4, 'n_estimators': 500, 'max_features': 0.8, 'min_samples_split': 5},\n",
       " mean: 0.81701, std: 0.02382, params: {'criterion': 'entropy', 'max_depth': 4, 'n_estimators': 100, 'max_features': 0.8, 'min_samples_split': 20},\n",
       " mean: 0.81220, std: 0.02902, params: {'criterion': 'entropy', 'max_depth': 4, 'n_estimators': 200, 'max_features': 0.8, 'min_samples_split': 20},\n",
       " mean: 0.81862, std: 0.03056, params: {'criterion': 'entropy', 'max_depth': 4, 'n_estimators': 500, 'max_features': 0.8, 'min_samples_split': 20},\n",
       " mean: 0.79454, std: 0.01323, params: {'criterion': 'entropy', 'max_depth': 4, 'n_estimators': 100, 'max_features': 0.8, 'min_samples_split': 50},\n",
       " mean: 0.79615, std: 0.01311, params: {'criterion': 'entropy', 'max_depth': 4, 'n_estimators': 200, 'max_features': 0.8, 'min_samples_split': 50},\n",
       " mean: 0.79294, std: 0.01294, params: {'criterion': 'entropy', 'max_depth': 4, 'n_estimators': 500, 'max_features': 0.8, 'min_samples_split': 50},\n",
       " mean: 0.81220, std: 0.02932, params: {'criterion': 'entropy', 'max_depth': 6, 'n_estimators': 100, 'max_features': 'sqrt', 'min_samples_split': 2},\n",
       " mean: 0.81380, std: 0.02275, params: {'criterion': 'entropy', 'max_depth': 6, 'n_estimators': 200, 'max_features': 'sqrt', 'min_samples_split': 2},\n",
       " mean: 0.81541, std: 0.02612, params: {'criterion': 'entropy', 'max_depth': 6, 'n_estimators': 500, 'max_features': 'sqrt', 'min_samples_split': 2},\n",
       " mean: 0.81862, std: 0.01893, params: {'criterion': 'entropy', 'max_depth': 6, 'n_estimators': 100, 'max_features': 'sqrt', 'min_samples_split': 5},\n",
       " mean: 0.81541, std: 0.02947, params: {'criterion': 'entropy', 'max_depth': 6, 'n_estimators': 200, 'max_features': 'sqrt', 'min_samples_split': 5},\n",
       " mean: 0.81701, std: 0.01910, params: {'criterion': 'entropy', 'max_depth': 6, 'n_estimators': 500, 'max_features': 'sqrt', 'min_samples_split': 5},\n",
       " mean: 0.81059, std: 0.02632, params: {'criterion': 'entropy', 'max_depth': 6, 'n_estimators': 100, 'max_features': 'sqrt', 'min_samples_split': 20},\n",
       " mean: 0.80899, std: 0.03140, params: {'criterion': 'entropy', 'max_depth': 6, 'n_estimators': 200, 'max_features': 'sqrt', 'min_samples_split': 20},\n",
       " mean: 0.81380, std: 0.02096, params: {'criterion': 'entropy', 'max_depth': 6, 'n_estimators': 500, 'max_features': 'sqrt', 'min_samples_split': 20},\n",
       " mean: 0.79775, std: 0.00958, params: {'criterion': 'entropy', 'max_depth': 6, 'n_estimators': 100, 'max_features': 'sqrt', 'min_samples_split': 50},\n",
       " mean: 0.80738, std: 0.02948, params: {'criterion': 'entropy', 'max_depth': 6, 'n_estimators': 200, 'max_features': 'sqrt', 'min_samples_split': 50},\n",
       " mean: 0.80257, std: 0.02786, params: {'criterion': 'entropy', 'max_depth': 6, 'n_estimators': 500, 'max_features': 'sqrt', 'min_samples_split': 50},\n",
       " mean: 0.80578, std: 0.01713, params: {'criterion': 'entropy', 'max_depth': 6, 'n_estimators': 100, 'max_features': 'log2', 'min_samples_split': 2},\n",
       " mean: 0.80257, std: 0.02779, params: {'criterion': 'entropy', 'max_depth': 6, 'n_estimators': 200, 'max_features': 'log2', 'min_samples_split': 2},\n",
       " mean: 0.81541, std: 0.01866, params: {'criterion': 'entropy', 'max_depth': 6, 'n_estimators': 500, 'max_features': 'log2', 'min_samples_split': 2},\n",
       " mean: 0.79936, std: 0.03115, params: {'criterion': 'entropy', 'max_depth': 6, 'n_estimators': 100, 'max_features': 'log2', 'min_samples_split': 5},\n",
       " mean: 0.81541, std: 0.02303, params: {'criterion': 'entropy', 'max_depth': 6, 'n_estimators': 200, 'max_features': 'log2', 'min_samples_split': 5},\n",
       " mean: 0.80899, std: 0.01708, params: {'criterion': 'entropy', 'max_depth': 6, 'n_estimators': 500, 'max_features': 'log2', 'min_samples_split': 5},\n",
       " mean: 0.80578, std: 0.01467, params: {'criterion': 'entropy', 'max_depth': 6, 'n_estimators': 100, 'max_features': 'log2', 'min_samples_split': 20},\n",
       " mean: 0.80417, std: 0.02077, params: {'criterion': 'entropy', 'max_depth': 6, 'n_estimators': 200, 'max_features': 'log2', 'min_samples_split': 20},\n",
       " mean: 0.80738, std: 0.01686, params: {'criterion': 'entropy', 'max_depth': 6, 'n_estimators': 500, 'max_features': 'log2', 'min_samples_split': 20},\n",
       " mean: 0.80096, std: 0.01567, params: {'criterion': 'entropy', 'max_depth': 6, 'n_estimators': 100, 'max_features': 'log2', 'min_samples_split': 50},\n",
       " mean: 0.79454, std: 0.02136, params: {'criterion': 'entropy', 'max_depth': 6, 'n_estimators': 200, 'max_features': 'log2', 'min_samples_split': 50},\n",
       " mean: 0.79615, std: 0.02468, params: {'criterion': 'entropy', 'max_depth': 6, 'n_estimators': 500, 'max_features': 'log2', 'min_samples_split': 50},\n",
       " mean: 0.82986, std: 0.02660, params: {'criterion': 'entropy', 'max_depth': 6, 'n_estimators': 100, 'max_features': 0.2, 'min_samples_split': 2},\n",
       " mean: 0.82022, std: 0.02802, params: {'criterion': 'entropy', 'max_depth': 6, 'n_estimators': 200, 'max_features': 0.2, 'min_samples_split': 2},\n",
       " mean: 0.82183, std: 0.02595, params: {'criterion': 'entropy', 'max_depth': 6, 'n_estimators': 500, 'max_features': 0.2, 'min_samples_split': 2},\n",
       " mean: 0.82022, std: 0.03186, params: {'criterion': 'entropy', 'max_depth': 6, 'n_estimators': 100, 'max_features': 0.2, 'min_samples_split': 5},\n",
       " mean: 0.82183, std: 0.02281, params: {'criterion': 'entropy', 'max_depth': 6, 'n_estimators': 200, 'max_features': 0.2, 'min_samples_split': 5},\n",
       " mean: 0.82665, std: 0.02539, params: {'criterion': 'entropy', 'max_depth': 6, 'n_estimators': 500, 'max_features': 0.2, 'min_samples_split': 5},\n",
       " mean: 0.81701, std: 0.02263, params: {'criterion': 'entropy', 'max_depth': 6, 'n_estimators': 100, 'max_features': 0.2, 'min_samples_split': 20},\n",
       " mean: 0.81701, std: 0.02339, params: {'criterion': 'entropy', 'max_depth': 6, 'n_estimators': 200, 'max_features': 0.2, 'min_samples_split': 20},\n",
       " mean: 0.81862, std: 0.02631, params: {'criterion': 'entropy', 'max_depth': 6, 'n_estimators': 500, 'max_features': 0.2, 'min_samples_split': 20},\n",
       " mean: 0.79294, std: 0.02887, params: {'criterion': 'entropy', 'max_depth': 6, 'n_estimators': 100, 'max_features': 0.2, 'min_samples_split': 50},\n",
       " mean: 0.79936, std: 0.02763, params: {'criterion': 'entropy', 'max_depth': 6, 'n_estimators': 200, 'max_features': 0.2, 'min_samples_split': 50},\n",
       " mean: 0.80096, std: 0.02285, params: {'criterion': 'entropy', 'max_depth': 6, 'n_estimators': 500, 'max_features': 0.2, 'min_samples_split': 50},\n",
       " mean: 0.83628, std: 0.02911, params: {'criterion': 'entropy', 'max_depth': 6, 'n_estimators': 100, 'max_features': 0.5, 'min_samples_split': 2},\n",
       " mean: 0.83307, std: 0.02575, params: {'criterion': 'entropy', 'max_depth': 6, 'n_estimators': 200, 'max_features': 0.5, 'min_samples_split': 2},\n",
       " mean: 0.83467, std: 0.03242, params: {'criterion': 'entropy', 'max_depth': 6, 'n_estimators': 500, 'max_features': 0.5, 'min_samples_split': 2},\n",
       " mean: 0.83307, std: 0.03030, params: {'criterion': 'entropy', 'max_depth': 6, 'n_estimators': 100, 'max_features': 0.5, 'min_samples_split': 5},\n",
       " mean: 0.83307, std: 0.03168, params: {'criterion': 'entropy', 'max_depth': 6, 'n_estimators': 200, 'max_features': 0.5, 'min_samples_split': 5},\n",
       " mean: 0.83467, std: 0.02867, params: {'criterion': 'entropy', 'max_depth': 6, 'n_estimators': 500, 'max_features': 0.5, 'min_samples_split': 5},\n",
       " mean: 0.82343, std: 0.02650, params: {'criterion': 'entropy', 'max_depth': 6, 'n_estimators': 100, 'max_features': 0.5, 'min_samples_split': 20},\n",
       " mean: 0.82183, std: 0.02760, params: {'criterion': 'entropy', 'max_depth': 6, 'n_estimators': 200, 'max_features': 0.5, 'min_samples_split': 20},\n",
       " mean: 0.82986, std: 0.03573, params: {'criterion': 'entropy', 'max_depth': 6, 'n_estimators': 500, 'max_features': 0.5, 'min_samples_split': 20},\n",
       " mean: 0.79615, std: 0.01407, params: {'criterion': 'entropy', 'max_depth': 6, 'n_estimators': 100, 'max_features': 0.5, 'min_samples_split': 50},\n",
       " mean: 0.79294, std: 0.01663, params: {'criterion': 'entropy', 'max_depth': 6, 'n_estimators': 200, 'max_features': 0.5, 'min_samples_split': 50},\n",
       " mean: 0.79615, std: 0.01581, params: {'criterion': 'entropy', 'max_depth': 6, 'n_estimators': 500, 'max_features': 0.5, 'min_samples_split': 50},\n",
       " mean: 0.82825, std: 0.02513, params: {'criterion': 'entropy', 'max_depth': 6, 'n_estimators': 100, 'max_features': 0.8, 'min_samples_split': 2},\n",
       " mean: 0.82986, std: 0.02008, params: {'criterion': 'entropy', 'max_depth': 6, 'n_estimators': 200, 'max_features': 0.8, 'min_samples_split': 2},\n",
       " mean: 0.83307, std: 0.03030, params: {'criterion': 'entropy', 'max_depth': 6, 'n_estimators': 500, 'max_features': 0.8, 'min_samples_split': 2},\n",
       " mean: 0.83628, std: 0.02707, params: {'criterion': 'entropy', 'max_depth': 6, 'n_estimators': 100, 'max_features': 0.8, 'min_samples_split': 5},\n",
       " mean: 0.83307, std: 0.02466, params: {'criterion': 'entropy', 'max_depth': 6, 'n_estimators': 200, 'max_features': 0.8, 'min_samples_split': 5},\n",
       " mean: 0.82986, std: 0.02853, params: {'criterion': 'entropy', 'max_depth': 6, 'n_estimators': 500, 'max_features': 0.8, 'min_samples_split': 5},\n",
       " mean: 0.81862, std: 0.02926, params: {'criterion': 'entropy', 'max_depth': 6, 'n_estimators': 100, 'max_features': 0.8, 'min_samples_split': 20},\n",
       " mean: 0.82504, std: 0.02554, params: {'criterion': 'entropy', 'max_depth': 6, 'n_estimators': 200, 'max_features': 0.8, 'min_samples_split': 20},\n",
       " mean: 0.82504, std: 0.02168, params: {'criterion': 'entropy', 'max_depth': 6, 'n_estimators': 500, 'max_features': 0.8, 'min_samples_split': 20},\n",
       " mean: 0.79775, std: 0.01811, params: {'criterion': 'entropy', 'max_depth': 6, 'n_estimators': 100, 'max_features': 0.8, 'min_samples_split': 50},\n",
       " mean: 0.79454, std: 0.01599, params: {'criterion': 'entropy', 'max_depth': 6, 'n_estimators': 200, 'max_features': 0.8, 'min_samples_split': 50},\n",
       " mean: 0.79775, std: 0.02333, params: {'criterion': 'entropy', 'max_depth': 6, 'n_estimators': 500, 'max_features': 0.8, 'min_samples_split': 50},\n",
       " mean: 0.81862, std: 0.02860, params: {'criterion': 'entropy', 'max_depth': 10, 'n_estimators': 100, 'max_features': 'sqrt', 'min_samples_split': 2},\n",
       " mean: 0.83146, std: 0.02594, params: {'criterion': 'entropy', 'max_depth': 10, 'n_estimators': 200, 'max_features': 'sqrt', 'min_samples_split': 2},\n",
       " mean: 0.83788, std: 0.02857, params: {'criterion': 'entropy', 'max_depth': 10, 'n_estimators': 500, 'max_features': 'sqrt', 'min_samples_split': 2},\n",
       " mean: 0.82343, std: 0.03492, params: {'criterion': 'entropy', 'max_depth': 10, 'n_estimators': 100, 'max_features': 'sqrt', 'min_samples_split': 5},\n",
       " mean: 0.82343, std: 0.03320, params: {'criterion': 'entropy', 'max_depth': 10, 'n_estimators': 200, 'max_features': 'sqrt', 'min_samples_split': 5},\n",
       " mean: 0.82825, std: 0.02988, params: {'criterion': 'entropy', 'max_depth': 10, 'n_estimators': 500, 'max_features': 'sqrt', 'min_samples_split': 5},\n",
       " mean: 0.81541, std: 0.02446, params: {'criterion': 'entropy', 'max_depth': 10, 'n_estimators': 100, 'max_features': 'sqrt', 'min_samples_split': 20},\n",
       " mean: 0.82183, std: 0.03069, params: {'criterion': 'entropy', 'max_depth': 10, 'n_estimators': 200, 'max_features': 'sqrt', 'min_samples_split': 20},\n",
       " mean: 0.82022, std: 0.02543, params: {'criterion': 'entropy', 'max_depth': 10, 'n_estimators': 500, 'max_features': 'sqrt', 'min_samples_split': 20},\n",
       " mean: 0.80578, std: 0.01686, params: {'criterion': 'entropy', 'max_depth': 10, 'n_estimators': 100, 'max_features': 'sqrt', 'min_samples_split': 50},\n",
       " mean: 0.80257, std: 0.02289, params: {'criterion': 'entropy', 'max_depth': 10, 'n_estimators': 200, 'max_features': 'sqrt', 'min_samples_split': 50},\n",
       " mean: 0.80738, std: 0.02226, params: {'criterion': 'entropy', 'max_depth': 10, 'n_estimators': 500, 'max_features': 'sqrt', 'min_samples_split': 50},\n",
       " mean: 0.83307, std: 0.02539, params: {'criterion': 'entropy', 'max_depth': 10, 'n_estimators': 100, 'max_features': 'log2', 'min_samples_split': 2},\n",
       " mean: 0.82022, std: 0.02943, params: {'criterion': 'entropy', 'max_depth': 10, 'n_estimators': 200, 'max_features': 'log2', 'min_samples_split': 2},\n",
       " mean: 0.82665, std: 0.02563, params: {'criterion': 'entropy', 'max_depth': 10, 'n_estimators': 500, 'max_features': 'log2', 'min_samples_split': 2},\n",
       " mean: 0.82183, std: 0.03251, params: {'criterion': 'entropy', 'max_depth': 10, 'n_estimators': 100, 'max_features': 'log2', 'min_samples_split': 5},\n",
       " mean: 0.82343, std: 0.02917, params: {'criterion': 'entropy', 'max_depth': 10, 'n_estimators': 200, 'max_features': 'log2', 'min_samples_split': 5},\n",
       " mean: 0.82504, std: 0.03035, params: {'criterion': 'entropy', 'max_depth': 10, 'n_estimators': 500, 'max_features': 'log2', 'min_samples_split': 5},\n",
       " mean: 0.81220, std: 0.02349, params: {'criterion': 'entropy', 'max_depth': 10, 'n_estimators': 100, 'max_features': 'log2', 'min_samples_split': 20},\n",
       " mean: 0.81541, std: 0.02257, params: {'criterion': 'entropy', 'max_depth': 10, 'n_estimators': 200, 'max_features': 'log2', 'min_samples_split': 20},\n",
       " mean: 0.81059, std: 0.02965, params: {'criterion': 'entropy', 'max_depth': 10, 'n_estimators': 500, 'max_features': 'log2', 'min_samples_split': 20},\n",
       " mean: 0.79775, std: 0.02436, params: {'criterion': 'entropy', 'max_depth': 10, 'n_estimators': 100, 'max_features': 'log2', 'min_samples_split': 50},\n",
       " mean: 0.80096, std: 0.01844, params: {'criterion': 'entropy', 'max_depth': 10, 'n_estimators': 200, 'max_features': 'log2', 'min_samples_split': 50},\n",
       " mean: 0.80738, std: 0.02351, params: {'criterion': 'entropy', 'max_depth': 10, 'n_estimators': 500, 'max_features': 'log2', 'min_samples_split': 50},\n",
       " mean: 0.83467, std: 0.01926, params: {'criterion': 'entropy', 'max_depth': 10, 'n_estimators': 100, 'max_features': 0.2, 'min_samples_split': 2},\n",
       " mean: 0.82986, std: 0.02075, params: {'criterion': 'entropy', 'max_depth': 10, 'n_estimators': 200, 'max_features': 0.2, 'min_samples_split': 2},\n",
       " mean: 0.83949, std: 0.03012, params: {'criterion': 'entropy', 'max_depth': 10, 'n_estimators': 500, 'max_features': 0.2, 'min_samples_split': 2},\n",
       " mean: 0.83788, std: 0.02019, params: {'criterion': 'entropy', 'max_depth': 10, 'n_estimators': 100, 'max_features': 0.2, 'min_samples_split': 5},\n",
       " mean: 0.83467, std: 0.03199, params: {'criterion': 'entropy', 'max_depth': 10, 'n_estimators': 200, 'max_features': 0.2, 'min_samples_split': 5},\n",
       " mean: 0.83467, std: 0.03048, params: {'criterion': 'entropy', 'max_depth': 10, 'n_estimators': 500, 'max_features': 0.2, 'min_samples_split': 5},\n",
       " mean: 0.83628, std: 0.02584, params: {'criterion': 'entropy', 'max_depth': 10, 'n_estimators': 100, 'max_features': 0.2, 'min_samples_split': 20},\n",
       " mean: 0.83146, std: 0.02291, params: {'criterion': 'entropy', 'max_depth': 10, 'n_estimators': 200, 'max_features': 0.2, 'min_samples_split': 20},\n",
       " mean: 0.82183, std: 0.02473, params: {'criterion': 'entropy', 'max_depth': 10, 'n_estimators': 500, 'max_features': 0.2, 'min_samples_split': 20},\n",
       " mean: 0.80257, std: 0.01395, params: {'criterion': 'entropy', 'max_depth': 10, 'n_estimators': 100, 'max_features': 0.2, 'min_samples_split': 50},\n",
       " mean: 0.81059, std: 0.01825, params: {'criterion': 'entropy', 'max_depth': 10, 'n_estimators': 200, 'max_features': 0.2, 'min_samples_split': 50},\n",
       " mean: 0.80738, std: 0.02612, params: {'criterion': 'entropy', 'max_depth': 10, 'n_estimators': 500, 'max_features': 0.2, 'min_samples_split': 50},\n",
       " mean: 0.83146, std: 0.03840, params: {'criterion': 'entropy', 'max_depth': 10, 'n_estimators': 100, 'max_features': 0.5, 'min_samples_split': 2},\n",
       " mean: 0.83628, std: 0.03075, params: {'criterion': 'entropy', 'max_depth': 10, 'n_estimators': 200, 'max_features': 0.5, 'min_samples_split': 2},\n",
       " mean: 0.83146, std: 0.03421, params: {'criterion': 'entropy', 'max_depth': 10, 'n_estimators': 500, 'max_features': 0.5, 'min_samples_split': 2},\n",
       " mean: 0.83467, std: 0.03236, params: {'criterion': 'entropy', 'max_depth': 10, 'n_estimators': 100, 'max_features': 0.5, 'min_samples_split': 5},\n",
       " mean: 0.83788, std: 0.03088, params: {'criterion': 'entropy', 'max_depth': 10, 'n_estimators': 200, 'max_features': 0.5, 'min_samples_split': 5},\n",
       " mean: 0.83788, std: 0.03266, params: {'criterion': 'entropy', 'max_depth': 10, 'n_estimators': 500, 'max_features': 0.5, 'min_samples_split': 5},\n",
       " mean: 0.83146, std: 0.02900, params: {'criterion': 'entropy', 'max_depth': 10, 'n_estimators': 100, 'max_features': 0.5, 'min_samples_split': 20},\n",
       " mean: 0.83467, std: 0.02712, params: {'criterion': 'entropy', 'max_depth': 10, 'n_estimators': 200, 'max_features': 0.5, 'min_samples_split': 20},\n",
       " mean: 0.83467, std: 0.03105, params: {'criterion': 'entropy', 'max_depth': 10, 'n_estimators': 500, 'max_features': 0.5, 'min_samples_split': 20},\n",
       " mean: 0.79936, std: 0.01625, params: {'criterion': 'entropy', 'max_depth': 10, 'n_estimators': 100, 'max_features': 0.5, 'min_samples_split': 50},\n",
       " mean: 0.79936, std: 0.01636, params: {'criterion': 'entropy', 'max_depth': 10, 'n_estimators': 200, 'max_features': 0.5, 'min_samples_split': 50},\n",
       " mean: 0.79294, std: 0.01725, params: {'criterion': 'entropy', 'max_depth': 10, 'n_estimators': 500, 'max_features': 0.5, 'min_samples_split': 50},\n",
       " mean: 0.83467, std: 0.03716, params: {'criterion': 'entropy', 'max_depth': 10, 'n_estimators': 100, 'max_features': 0.8, 'min_samples_split': 2},\n",
       " mean: 0.82665, std: 0.03098, params: {'criterion': 'entropy', 'max_depth': 10, 'n_estimators': 200, 'max_features': 0.8, 'min_samples_split': 2},\n",
       " mean: 0.82986, std: 0.03540, params: {'criterion': 'entropy', 'max_depth': 10, 'n_estimators': 500, 'max_features': 0.8, 'min_samples_split': 2},\n",
       " mean: 0.82825, std: 0.02400, params: {'criterion': 'entropy', 'max_depth': 10, 'n_estimators': 100, 'max_features': 0.8, 'min_samples_split': 5},\n",
       " mean: 0.84109, std: 0.03163, params: {'criterion': 'entropy', 'max_depth': 10, 'n_estimators': 200, 'max_features': 0.8, 'min_samples_split': 5},\n",
       " mean: 0.83788, std: 0.03093, params: {'criterion': 'entropy', 'max_depth': 10, 'n_estimators': 500, 'max_features': 0.8, 'min_samples_split': 5},\n",
       " mean: 0.82665, std: 0.01857, params: {'criterion': 'entropy', 'max_depth': 10, 'n_estimators': 100, 'max_features': 0.8, 'min_samples_split': 20},\n",
       " mean: 0.82986, std: 0.02222, params: {'criterion': 'entropy', 'max_depth': 10, 'n_estimators': 200, 'max_features': 0.8, 'min_samples_split': 20},\n",
       " mean: 0.82986, std: 0.02600, params: {'criterion': 'entropy', 'max_depth': 10, 'n_estimators': 500, 'max_features': 0.8, 'min_samples_split': 20},\n",
       " mean: 0.79294, std: 0.02075, params: {'criterion': 'entropy', 'max_depth': 10, 'n_estimators': 100, 'max_features': 0.8, 'min_samples_split': 50},\n",
       " mean: 0.79454, std: 0.01599, params: {'criterion': 'entropy', 'max_depth': 10, 'n_estimators': 200, 'max_features': 0.8, 'min_samples_split': 50},\n",
       " mean: 0.79294, std: 0.01747, params: {'criterion': 'entropy', 'max_depth': 10, 'n_estimators': 500, 'max_features': 0.8, 'min_samples_split': 50}]"
      ]
     },
     "execution_count": 20,
     "metadata": {},
     "output_type": "execute_result"
    }
   ],
   "source": [
    "grid_search.grid_scores_"
   ]
  },
  {
   "cell_type": "code",
   "execution_count": 21,
   "metadata": {
    "_cell_guid": "8fa5ea7b-a97c-a411-d4be-f37c630b6439"
   },
   "outputs": [
    {
     "data": {
      "text/plain": [
       "0.8443017656500803"
      ]
     },
     "execution_count": 21,
     "metadata": {},
     "output_type": "execute_result"
    }
   ],
   "source": [
    "grid_search.best_score_"
   ]
  },
  {
   "cell_type": "code",
   "execution_count": 22,
   "metadata": {
    "_cell_guid": "45e01985-7c0a-14c0-1eb2-a1bad32cab21"
   },
   "outputs": [
    {
     "data": {
      "text/plain": [
       "{'criterion': 'gini',\n",
       " 'max_depth': 10,\n",
       " 'max_features': 0.5,\n",
       " 'min_samples_split': 5,\n",
       " 'n_estimators': 500}"
      ]
     },
     "execution_count": 22,
     "metadata": {},
     "output_type": "execute_result"
    }
   ],
   "source": [
    "grid_search.best_params_"
   ]
  },
  {
   "cell_type": "code",
   "execution_count": 23,
   "metadata": {
    "_cell_guid": "17ced526-3c28-9b5c-cf63-e6cc6e2f97a0"
   },
   "outputs": [
    {
     "name": "stdout",
     "output_type": "stream",
     "text": [
      "the AUC is : 0.8138\n"
     ]
    },
    {
     "data": {
      "image/png": "[encoded data removed]",
      "text/plain": [
       "<matplotlib.figure.Figure at 0x7f97e314eef0>"
      ]
     },
     "metadata": {},
     "output_type": "display_data"
    }
   ],
   "source": [
    "Performance(Model=grid_search,Y=Y_valid,X=X_valid)"
   ]
  },
  {
   "cell_type": "markdown",
   "metadata": {
    "_cell_guid": "bf64792d-05fa-e82f-f02d-45fdaea9bf5f"
   },
   "source": [
    "**IV.6. Random Forest using hyperopt**"
   ]
  },
  {
   "cell_type": "code",
   "execution_count": 24,
   "metadata": {
    "_cell_guid": "86ebc9de-ef6e-dd52-b50a-6fcffe0f29f7"
   },
   "outputs": [],
   "source": [
    "from hyperopt import fmin, tpe, hp, STATUS_OK, Trials"
   ]
  },
  {
   "cell_type": "code",
   "execution_count": 25,
   "metadata": {
    "_cell_guid": "b6df4f71-2896-7cf5-2298-3104b692e4aa"
   },
   "outputs": [
    {
     "name": "stdout",
     "output_type": "stream",
     "text": [
      "new best: 0.842646785582 {'criterion': 'gini', 'max_depth': 14, 'n_estimators': 187, 'max_features': 49}\n",
      "new best: 0.842646785582 {'criterion': 'entropy', 'max_depth': 17, 'n_estimators': 322, 'max_features': 99}\n",
      "new best: 0.842646785582 {'criterion': 'gini', 'max_depth': 9, 'n_estimators': 166, 'max_features': 8}\n",
      "new best: 0.847454477889 {'criterion': 'entropy', 'max_depth': 18, 'n_estimators': 145, 'max_features': 99}\n",
      "new best: 0.847454477889 {'criterion': 'gini', 'max_depth': 9, 'n_estimators': 394, 'max_features': 58}\n",
      "new best: 0.847454477889 {'criterion': 'entropy', 'max_depth': 7, 'n_estimators': 424, 'max_features': 11}\n",
      "new best: 0.847454477889 {'criterion': 'gini', 'max_depth': 2, 'n_estimators': 211, 'max_features': 50}\n",
      "new best: 0.847454477889 {'criterion': 'gini', 'max_depth': 19, 'n_estimators': 382, 'max_features': 51}\n",
      "new best: 0.847454477889 {'criterion': 'gini', 'max_depth': 16, 'n_estimators': 171, 'max_features': 115}\n",
      "new best: 0.847454477889 {'criterion': 'entropy', 'max_depth': 17, 'n_estimators': 498, 'max_features': 78}\n",
      "new best: 0.847454477889 {'criterion': 'entropy', 'max_depth': 3, 'n_estimators': 424, 'max_features': 126}\n",
      "new best: 0.847454477889 {'criterion': 'entropy', 'max_depth': 17, 'n_estimators': 316, 'max_features': 97}\n",
      "new best: 0.847454477889 {'criterion': 'entropy', 'max_depth': 14, 'n_estimators': 328, 'max_features': 10}\n",
      "new best: 0.849088009414 {'criterion': 'gini', 'max_depth': 10, 'n_estimators': 462, 'max_features': 93}\n",
      "new best: 0.849088009414 {'criterion': 'entropy', 'max_depth': 13, 'n_estimators': 229, 'max_features': 40}\n",
      "new best: 0.849088009414 {'criterion': 'entropy', 'max_depth': 9, 'n_estimators': 290, 'max_features': 128}\n",
      "new best: 0.849088009414 {'criterion': 'entropy', 'max_depth': 15, 'n_estimators': 275, 'max_features': 121}\n",
      "new best: 0.852300879475 {'criterion': 'entropy', 'max_depth': 7, 'n_estimators': 150, 'max_features': 93}\n",
      "new best: 0.852300879475 {'criterion': 'entropy', 'max_depth': 9, 'n_estimators': 205, 'max_features': 43}\n",
      "new best: 0.852300879475 {'criterion': 'gini', 'max_depth': 13, 'n_estimators': 393, 'max_features': 30}\n",
      "new best: 0.852300879475 {'criterion': 'gini', 'max_depth': 10, 'n_estimators': 163, 'max_features': 93}\n",
      "new best: 0.852300879475 {'criterion': 'gini', 'max_depth': 7, 'n_estimators': 163, 'max_features': 93}\n",
      "new best: 0.852300879475 {'criterion': 'entropy', 'max_depth': 12, 'n_estimators': 150, 'max_features': 43}\n",
      "new best: 0.852300879475 {'criterion': 'gini', 'max_depth': 10, 'n_estimators': 133, 'max_features': 81}\n",
      "new best: 0.852300879475 {'criterion': 'gini', 'max_depth': 11, 'n_estimators': 125, 'max_features': 18}\n",
      "new best: 0.852300879475 {'criterion': 'gini', 'max_depth': 8, 'n_estimators': 182, 'max_features': 62}\n",
      "new best: 0.852300879475 {'criterion': 'entropy', 'max_depth': 5, 'n_estimators': 425, 'max_features': 81}\n",
      "new best: 0.852300879475 {'criterion': 'gini', 'max_depth': 6, 'n_estimators': 493, 'max_features': 132}\n",
      "new best: 0.852300879475 {'criterion': 'gini', 'max_depth': 6, 'n_estimators': 204, 'max_features': 13}\n",
      "new best: 0.852300879475 {'criterion': 'entropy', 'max_depth': 6, 'n_estimators': 297, 'max_features': 132}\n",
      "new best: 0.852300879475 {'criterion': 'gini', 'max_depth': 1, 'n_estimators': 209, 'max_features': 23}\n",
      "new best: 0.852300879475 {'criterion': 'entropy', 'max_depth': 4, 'n_estimators': 447, 'max_features': 137}\n",
      "new best: 0.852300879475 {'criterion': 'gini', 'max_depth': 6, 'n_estimators': 259, 'max_features': 74}\n",
      "new best: 0.852300879475 {'criterion': 'entropy', 'max_depth': 7, 'n_estimators': 188, 'max_features': 84}\n",
      "new best: 0.852300879475 {'criterion': 'gini', 'max_depth': 7, 'n_estimators': 116, 'max_features': 87}\n",
      "new best: 0.852300879475 {'criterion': 'entropy', 'max_depth': 16, 'n_estimators': 108, 'max_features': 94}\n",
      "new best: 0.852300879475 {'criterion': 'gini', 'max_depth': 18, 'n_estimators': 383, 'max_features': 101}\n",
      "new best: 0.852300879475 {'criterion': 'entropy', 'max_depth': 2, 'n_estimators': 497, 'max_features': 35}\n",
      "new best: 0.852300879475 {'criterion': 'gini', 'max_depth': 19, 'n_estimators': 132, 'max_features': 132}\n",
      "new best: 0.852300879475 {'criterion': 'gini', 'max_depth': 3, 'n_estimators': 310, 'max_features': 114}\n",
      "new best: 0.852300879475 {'criterion': 'entropy', 'max_depth': 8, 'n_estimators': 448, 'max_features': 22}\n",
      "new best: 0.852300879475 {'criterion': 'entropy', 'max_depth': 14, 'n_estimators': 168, 'max_features': 143}\n",
      "new best: 0.852300879475 {'criterion': 'gini', 'max_depth': 6, 'n_estimators': 408, 'max_features': 148}\n",
      "new best: 0.852300879475 {'criterion': 'entropy', 'max_depth': 1, 'n_estimators': 374, 'max_features': 26}\n",
      "new best: 0.852300879475 {'criterion': 'gini', 'max_depth': 15, 'n_estimators': 492, 'max_features': 90}\n",
      "new best: 0.852300879475 {'criterion': 'entropy', 'max_depth': 5, 'n_estimators': 118, 'max_features': 1}\n",
      "new best: 0.852300879475 {'criterion': 'gini', 'max_depth': 4, 'n_estimators': 115, 'max_features': 57}\n",
      "new best: 0.852300879475 {'criterion': 'entropy', 'max_depth': 12, 'n_estimators': 137, 'max_features': 66}\n",
      "new best: 0.852300879475 {'criterion': 'entropy', 'max_depth': 11, 'n_estimators': 103, 'max_features': 68}\n",
      "new best: 0.852300879475 {'criterion': 'gini', 'max_depth': 17, 'n_estimators': 372, 'max_features': 45}\n",
      "new best: 0.853903443577 {'criterion': 'entropy', 'max_depth': 7, 'n_estimators': 150, 'max_features': 92}\n",
      "new best: 0.853903443577 {'criterion': 'gini', 'max_depth': 18, 'n_estimators': 476, 'max_features': 72}\n",
      "new best: 0.853903443577 {'criterion': 'entropy', 'max_depth': 7, 'n_estimators': 156, 'max_features': 92}\n",
      "new best: 0.853903443577 {'criterion': 'entropy', 'max_depth': 7, 'n_estimators': 206, 'max_features': 92}\n",
      "new best: 0.853903443577 {'criterion': 'entropy', 'max_depth': 7, 'n_estimators': 240, 'max_features': 17}\n",
      "new best: 0.853903443577 {'criterion': 'entropy', 'max_depth': 7, 'n_estimators': 243, 'max_features': 92}\n",
      "new best: 0.853903443577 {'criterion': 'entropy', 'max_depth': 13, 'n_estimators': 366, 'max_features': 15}\n",
      "new best: 0.853903443577 {'criterion': 'entropy', 'max_depth': 2, 'n_estimators': 313, 'max_features': 130}\n",
      "new best: 0.853903443577 {'criterion': 'entropy', 'max_depth': 19, 'n_estimators': 140, 'max_features': 95}\n",
      "new best: 0.853903443577 {'criterion': 'entropy', 'max_depth': 9, 'n_estimators': 153, 'max_features': 24}\n",
      "new best: 0.853903443577 {'criterion': 'entropy', 'max_depth': 16, 'n_estimators': 401, 'max_features': 71}\n",
      "new best: 0.853903443577 {'criterion': 'entropy', 'max_depth': 3, 'n_estimators': 323, 'max_features': 48}\n",
      "new best: 0.853903443577 {'criterion': 'entropy', 'max_depth': 14, 'n_estimators': 302, 'max_features': 92}\n",
      "new best: 0.853903443577 {'criterion': 'entropy', 'max_depth': 7, 'n_estimators': 206, 'max_features': 98}\n",
      "new best: 0.853903443577 {'criterion': 'entropy', 'max_depth': 15, 'n_estimators': 455, 'max_features': 79}\n",
      "new best: 0.853903443577 {'criterion': 'entropy', 'max_depth': 7, 'n_estimators': 232, 'max_features': 98}\n",
      "new best: 0.853903443577 {'criterion': 'entropy', 'max_depth': 7, 'n_estimators': 307, 'max_features': 111}\n",
      "new best: 0.853903443577 {'criterion': 'entropy', 'max_depth': 7, 'n_estimators': 438, 'max_features': 110}\n",
      "new best: 0.853903443577 {'criterion': 'entropy', 'max_depth': 7, 'n_estimators': 236, 'max_features': 85}\n",
      "new best: 0.853903443577 {'criterion': 'entropy', 'max_depth': 10, 'n_estimators': 232, 'max_features': 44}\n",
      "new best: 0.853903443577 {'criterion': 'entropy', 'max_depth': 11, 'n_estimators': 362, 'max_features': 110}\n",
      "new best: 0.853903443577 {'criterion': 'entropy', 'max_depth': 12, 'n_estimators': 150, 'max_features': 116}\n",
      "new best: 0.853903443577 {'criterion': 'entropy', 'max_depth': 8, 'n_estimators': 246, 'max_features': 27}\n",
      "new best: 0.853903443577 {'criterion': 'entropy', 'max_depth': 17, 'n_estimators': 193, 'max_features': 96}\n",
      "new best: 0.853903443577 {'criterion': 'entropy', 'max_depth': 7, 'n_estimators': 220, 'max_features': 41}\n",
      "new best: 0.853903443577 {'criterion': 'entropy', 'max_depth': 5, 'n_estimators': 121, 'max_features': 127}\n",
      "new best: 0.853903443577 {'criterion': 'entropy', 'max_depth': 1, 'n_estimators': 177, 'max_features': 119}\n",
      "new best: 0.853903443577 {'criterion': 'entropy', 'max_depth': 7, 'n_estimators': 169, 'max_features': 4}\n",
      "new best: 0.853903443577 {'criterion': 'entropy', 'max_depth': 4, 'n_estimators': 191, 'max_features': 9}\n",
      "new best: 0.853903443577 {'criterion': 'entropy', 'max_depth': 13, 'n_estimators': 464, 'max_features': 147}\n",
      "new best: 0.853903443577 {'criterion': 'entropy', 'max_depth': 18, 'n_estimators': 422, 'max_features': 109}\n",
      "new best: 0.853903443577 {'criterion': 'entropy', 'max_depth': 2, 'n_estimators': 397, 'max_features': 118}\n",
      "new best: 0.853903443577 {'criterion': 'entropy', 'max_depth': 16, 'n_estimators': 486, 'max_features': 122}\n",
      "new best: 0.853903443577 {'criterion': 'entropy', 'max_depth': 9, 'n_estimators': 358, 'max_features': 61}\n",
      "new best: 0.853903443577 {'criterion': 'entropy', 'max_depth': 3, 'n_estimators': 484, 'max_features': 110}\n",
      "new best: 0.853903443577 {'criterion': 'entropy', 'max_depth': 19, 'n_estimators': 438, 'max_features': 98}\n",
      "new best: 0.853903443577 {'criterion': 'entropy', 'max_depth': 7, 'n_estimators': 378, 'max_features': 28}\n",
      "new best: 0.853903443577 {'criterion': 'entropy', 'max_depth': 14, 'n_estimators': 308, 'max_features': 88}\n",
      "new best: 0.853903443577 {'criterion': 'entropy', 'max_depth': 10, 'n_estimators': 298, 'max_features': 83}\n",
      "new best: 0.853903443577 {'criterion': 'entropy', 'max_depth': 15, 'n_estimators': 214, 'max_features': 113}\n",
      "new best: 0.853903443577 {'criterion': 'entropy', 'max_depth': 7, 'n_estimators': 461, 'max_features': 32}\n",
      "new best: 0.853903443577 {'criterion': 'entropy', 'max_depth': 8, 'n_estimators': 333, 'max_features': 52}\n",
      "new best: 0.853903443577 {'criterion': 'gini', 'max_depth': 12, 'n_estimators': 369, 'max_features': 19}\n",
      "new best: 0.853903443577 {'criterion': 'entropy', 'max_depth': 11, 'n_estimators': 454, 'max_features': 31}\n",
      "new best: 0.853903443577 {'criterion': 'entropy', 'max_depth': 5, 'n_estimators': 260, 'max_features': 6}\n",
      "new best: 0.853903443577 {'criterion': 'entropy', 'max_depth': 17, 'n_estimators': 251, 'max_features': 73}\n",
      "new best: 0.853903443577 {'criterion': 'gini', 'max_depth': 7, 'n_estimators': 295, 'max_features': 69}\n",
      "new best: 0.853903443577 {'criterion': 'entropy', 'max_depth': 1, 'n_estimators': 399, 'max_features': 47}\n",
      "new best: 0.853903443577 {'criterion': 'entropy', 'max_depth': 4, 'n_estimators': 469, 'max_features': 34}\n",
      "new best: 0.853903443577 {'criterion': 'entropy', 'max_depth': 13, 'n_estimators': 309, 'max_features': 100}\n",
      "best:\n",
      "{'criterion': 1, 'max_depth': 6, 'n_estimators': 50, 'max_features': 91}\n"
     ]
    }
   ],
   "source": [
    "from sklearn.model_selection import cross_val_score\n",
    "def acc_model(params):\n",
    "    clf = RandomForestClassifier(**params)\n",
    "    return cross_val_score(clf, X_train, Y_train).mean()\n",
    "\n",
    "param_space = {\n",
    "    'max_depth': hp.choice('max_depth', range(1,20)),\n",
    "    'max_features': hp.choice('max_features', range(1,150)),\n",
    "    'n_estimators': hp.choice('n_estimators', range(100,500)),\n",
    "    'criterion': hp.choice('criterion', [\"gini\", \"entropy\"])}\n",
    "\n",
    "best = 0\n",
    "def f(params):\n",
    "    global best\n",
    "    acc = acc_model(params)\n",
    "    if acc > best:\n",
    "        best = acc\n",
    "    print ('new best:', best, params)\n",
    "    return {'loss': -acc, 'status': STATUS_OK}\n",
    "\n",
    "trials = Trials()\n",
    "best = fmin(f, param_space, algo=tpe.suggest, max_evals=100, trials=trials)\n",
    "print ('best:')\n",
    "print (best)"
   ]
  },
  {
   "cell_type": "code",
   "execution_count": 26,
   "metadata": {
    "_cell_guid": "5c04db09-60cf-d4e9-148d-e0cbd211dfb4"
   },
   "outputs": [],
   "source": [
    "RF2=RandomForestClassifier(max_features=113, n_estimators=498, criterion= 'entropy', max_depth=2,random_state=1)"
   ]
  },
  {
   "cell_type": "code",
   "execution_count": 27,
   "metadata": {
    "_cell_guid": "49f728c2-8be9-3d1f-ff82-df28078d5668"
   },
   "outputs": [
    {
     "data": {
      "text/plain": [
       "RandomForestClassifier(bootstrap=True, class_weight=None, criterion='entropy',\n",
       "            max_depth=2, max_features=113, max_leaf_nodes=None,\n",
       "            min_impurity_split=1e-07, min_samples_leaf=1,\n",
       "            min_samples_split=2, min_weight_fraction_leaf=0.0,\n",
       "            n_estimators=498, n_jobs=1, oob_score=False, random_state=1,\n",
       "            verbose=0, warm_start=False)"
      ]
     },
     "execution_count": 27,
     "metadata": {},
     "output_type": "execute_result"
    }
   ],
   "source": [
    "RF2.fit(X=X_train,y=Y_train)"
   ]
  },
  {
   "cell_type": "code",
   "execution_count": 28,
   "metadata": {
    "_cell_guid": "05e053ce-451a-5f3d-527e-64a899bc16e9"
   },
   "outputs": [
    {
     "name": "stdout",
     "output_type": "stream",
     "text": [
      "the AUC is : 0.8411\n"
     ]
    },
    {
     "data": {
      "image/png": "[encoded data removed]",
      "text/plain": [
       "<matplotlib.figure.Figure at 0x7f97e0287f28>"
      ]
     },
     "metadata": {},
     "output_type": "display_data"
    }
   ],
   "source": [
    "Performance(Model=RF2,Y=Y_valid,X=X_valid)"
   ]
  },
  {
   "cell_type": "markdown",
   "metadata": {
    "_cell_guid": "7453e12c-b3f4-1124-ddbc-b1ff637f8abe"
   },
   "source": [
    "**References**"
   ]
  },
  {
   "cell_type": "markdown",
   "metadata": {
    "_cell_guid": "a668c7f7-5360-0570-5b06-4cee2631eb0b"
   },
   "source": [
    "https://districtdatalabs.silvrback.com/parameter-tuning-with-hyperopt"
   ]
  },
  {
   "cell_type": "markdown",
   "metadata": {
    "_cell_guid": "4932be26-8a3c-fc8a-28a0-1eaf1e0bc1cc"
   },
   "source": [
    "https://www.stat.berkeley.edu/~breiman/randomforest2001.pdf"
   ]
  },
  {
   "cell_type": "markdown",
   "metadata": {
    "_cell_guid": "400c3799-0439-c9bd-e137-a66e97c8d0dc"
   },
   "source": [
    "http://scikit-learn.org/stable/modules/grid_search.html"
   ]
  },
  {
   "cell_type": "markdown",
   "metadata": {
    "_cell_guid": "26a704a9-5c27-e6d7-7813-18f2104ba61b"
   },
   "source": [
    "http://stackoverflow.com/questions/19335165/cross-validation-and-grid-search"
   ]
  }
 ],
 "metadata": {
  "_change_revision": 2,
  "_is_fork": false,
  "kernelspec": {
   "display_name": "Python 3",
   "language": "python",
   "name": "python3"
  },
  "language_info": {
   "codemirror_mode": {
    "name": "ipython",
    "version": 3
   },
   "file_extension": ".py",
   "mimetype": "text/x-python",
   "name": "python",
   "nbconvert_exporter": "python",
   "pygments_lexer": "ipython3",
   "version": "3.5.2"
  }
 },
 "nbformat": 4,
 "nbformat_minor": 0
}
