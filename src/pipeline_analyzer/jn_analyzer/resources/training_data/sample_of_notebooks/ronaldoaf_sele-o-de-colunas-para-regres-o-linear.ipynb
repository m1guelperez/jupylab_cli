{
 "cells": [
  {
   "cell_type": "code",
   "execution_count": 1,
   "metadata": {
    "_cell_guid": "b1076dfc-b9ad-4769-8c92-a6c4dae69d19",
    "_uuid": "8f2839f25d086af736a60e9eeb907d3b93b6e0e5"
   },
   "outputs": [
    {
     "name": "stdout",
     "output_type": "stream",
     "text": [
      "38.68 A,B,C,D,E,F,G,H,I,J,K,L,M,N,O,P\n"
     ]
    }
   ],
   "source": [
    "import numpy as np \n",
    "import pandas as pd \n",
    "from sklearn.linear_model import LinearRegression  \n",
    "\n",
    "df=pd.read_csv('/kaggle/input/exemplo-regresso-apostas/under.csv')\n",
    "\n",
    "#Quais colunas que entraram na regressão\n",
    "colunas='A,B,C,D,E,F,G,H,I,J,K,L,M,N,O,P'\n",
    "\n",
    "#Fitra o df baseado nas colunas\n",
    "df=df[(colunas+',PL').split(',')]\n",
    "\n",
    "\n",
    "SLs=[] \n",
    "for i in range(100):\n",
    "    #Embaralha o dataframe baseado no random_state i \n",
    "    df=df.sample(frac=1, random_state=i)\n",
    "    \n",
    "    #Divide em 100 mil linhas para teste e o restante treinamento\n",
    "    df_test,df_train=df[:100000],df[100000:]\n",
    "\n",
    "    #Os Xs são todas as colunas exceto a PL que será o Y\n",
    "    X_train,Y_train = df_train.loc[:,(df_train.columns!='PL') ], df_train.PL\n",
    "    X_test, Y_test  = df_test.loc[:,(df_test.columns!='PL') ], df_test.PL\n",
    "\n",
    "    #Treina a regressão os dados de treinamento\n",
    "    reg=LinearRegression().fit(X_train,Y_train)\n",
    "    \n",
    "    #Veifica a lucratividade nos dados de teste\n",
    "    SLs+=[sum(np.log(1+y*y_pred) for y_pred,y in zip(reg.predict(X_test),Y_test) if y_pred>0 ) ]\n",
    "    \n",
    "\n",
    "#Mostra a lucrativida média e colunas selecionadas que deram origem a essa lucratividade\n",
    "print( round(np.mean(SLs),2), colunas  )\n"
   ]
  }
 ],
 "metadata": {
  "kernelspec": {
   "display_name": "Python 3",
   "language": "python",
   "name": "python3"
  },
  "language_info": {
   "codemirror_mode": {
    "name": "ipython",
    "version": 3
   },
   "file_extension": ".py",
   "mimetype": "text/x-python",
   "name": "python",
   "nbconvert_exporter": "python",
   "pygments_lexer": "ipython3",
   "version": "3.6.6"
  }
 },
 "nbformat": 4,
 "nbformat_minor": 4
}
