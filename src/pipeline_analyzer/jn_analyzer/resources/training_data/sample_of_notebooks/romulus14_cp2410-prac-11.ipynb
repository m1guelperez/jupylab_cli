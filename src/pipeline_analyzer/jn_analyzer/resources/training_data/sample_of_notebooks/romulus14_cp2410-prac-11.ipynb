{
 "cells": [
  {
   "cell_type": "code",
   "execution_count": 1,
   "metadata": {
    "_cell_guid": "b1076dfc-b9ad-4769-8c92-a6c4dae69d19",
    "_uuid": "8f2839f25d086af736a60e9eeb907d3b93b6e0e5"
   },
   "outputs": [
    {
     "name": "stdout",
     "output_type": "stream",
     "text": [
      "['Figure 1.PNG', 'Q1.jpg', 'Q3.jpg', 'Q2.1.jpg', 'Q2.2.jpg']\n"
     ]
    }
   ],
   "source": [
    "# This Python 3 environment comes with many helpful analytics libraries installed\n",
    "# It is defined by the kaggle/python docker image: https://github.com/kaggle/docker-python\n",
    "# For example, here's several helpful packages to load in \n",
    "\n",
    "import numpy as np # linear algebra\n",
    "import pandas as pd # data processing, CSV file I/O (e.g. pd.read_csv)\n",
    "\n",
    "# Input data files are available in the \"../input/\" directory.\n",
    "# For example, running this (by clicking run or pressing Shift+Enter) will list the files in the input directory\n",
    "\n",
    "import os\n",
    "print(os.listdir(\"../input\"))\n",
    "\n",
    "# Any results you write to the current directory are saved as output."
   ]
  },
  {
   "cell_type": "markdown",
   "metadata": {},
   "source": [
    "CP2410 Practical 11 - Graphs I\n",
    "1. Draw an adjacency list and an adjacency matrix representation of the undirected graph shown in\n",
    "\n",
    "Figure 1.\n",
    "Figure 1 Image in ImagesPrac11/Figure 1.PNG\n"
   ]
  },
  {
   "cell_type": "markdown",
   "metadata": {},
   "source": [
    "Solution Image in ImagesPrac11/Q1.jpg"
   ]
  },
  {
   "cell_type": "markdown",
   "metadata": {},
   "source": [
    "\n",
    "2. Demonstrate breadth-first search on the graph in figure 1 starting at node “Z”. Where a node has\n",
    "multiple neighbours, visit them in alphabetical order.\n",
    "\n"
   ]
  },
  {
   "cell_type": "markdown",
   "metadata": {},
   "source": [
    "Solution Image in ImagesPrac11/Q2.2.jpg and Image in ImagesPrac11/Q2.2.jpg"
   ]
  },
  {
   "cell_type": "markdown",
   "metadata": {},
   "source": [
    "3. Demonstrate depth-first search on the graph in figure 1 starting at node “U”. Where a node has\n",
    "multiple neighbours, visit them in alphabetical order.\n",
    "\n"
   ]
  },
  {
   "cell_type": "markdown",
   "metadata": {},
   "source": [
    "Solution Image in ImagesPrac11/Q3.jpg"
   ]
  },
  {
   "cell_type": "markdown",
   "metadata": {},
   "source": [
    "4. Let G be a graph whose vertices are the integers 1 through 8, and let the adjacent vertices of each\n",
    "vertex be given by the table below:\n",
    "Vertex Adjacent vertices\n",
    "1 (2, 3, 4)\n",
    "2 (1, 3, 4)\n",
    "3 (1, 2, 4)\n",
    "4 (1, 2, 3, 6)\n",
    "5 (6, 7, 8)\n",
    "6 (4, 5, 7)\n",
    "7 (5, 6, 8)\n",
    "8 (5, 7)\n",
    "a. Draw G\n",
    "b. Demonstrate BFS on the graph starting from vertex 1, and following the order given in\n",
    "adjacent vertices.\n",
    "c. Demonstrate DFS on the graph starting from vertex 1, and following the order given in\n",
    "adjacent vertices."
   ]
  }
 ],
 "metadata": {
  "kernelspec": {
   "display_name": "Python 3",
   "language": "python",
   "name": "python3"
  },
  "language_info": {
   "codemirror_mode": {
    "name": "ipython",
    "version": 3
   },
   "file_extension": ".py",
   "mimetype": "text/x-python",
   "name": "python",
   "nbconvert_exporter": "python",
   "pygments_lexer": "ipython3",
   "version": "3.6.4"
  }
 },
 "nbformat": 4,
 "nbformat_minor": 1
}
