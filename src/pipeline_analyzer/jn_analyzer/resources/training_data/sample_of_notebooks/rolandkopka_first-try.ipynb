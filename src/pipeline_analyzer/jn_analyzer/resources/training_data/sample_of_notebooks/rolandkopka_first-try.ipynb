{
 "cells": [
  {
   "cell_type": "markdown",
   "metadata": {
    "colab_type": "text",
    "id": "lRYci3AmB9i2"
   },
   "source": [
    "# Create TF.Dataset"
   ]
  },
  {
   "cell_type": "code",
   "execution_count": 1,
   "metadata": {
    "colab": {
     "base_uri": "https://localhost:8080/",
     "height": 829
    },
    "colab_type": "code",
    "id": "5HtO4OMWCwaa",
    "outputId": "7699d9d1-ff16-49cc-e40b-93fcae1e39fe"
   },
   "outputs": [],
   "source": [
    "!pip install -qU pip\n",
    "!pip install -qU tensorflow-gpu==2.0.0-alpha0"
   ]
  },
  {
   "cell_type": "code",
   "execution_count": 2,
   "metadata": {
    "colab": {},
    "colab_type": "code",
    "id": "nITJ1REhC48G"
   },
   "outputs": [],
   "source": [
    "import tensorflow as tf"
   ]
  },
  {
   "cell_type": "code",
   "execution_count": 3,
   "metadata": {
    "colab": {
     "base_uri": "https://localhost:8080/",
     "height": 105
    },
    "colab_type": "code",
    "id": "49L954y1G8lM",
    "outputId": "2502dea0-c1bc-40da-9875-4d61994386ac"
   },
   "outputs": [
    {
     "name": "stdout",
     "output_type": "stream",
     "text": [
      "\r\n",
      "\r\n",
      "\r\n",
      "\r\n",
      "\r\n"
     ]
    }
   ],
   "source": [
    "!head -n5 ../input/train.csv"
   ]
  },
  {
   "cell_type": "code",
   "execution_count": 4,
   "metadata": {
    "colab": {},
    "colab_type": "code",
    "id": "zMPG7cwrGxC5"
   },
   "outputs": [],
   "source": [
    "column_names = ['PassengerId','Survived','Pclass','Name','Sex','Age','SibSp','Parch','Ticket','Fare','Cabin','Embarked']\n",
    "select_columns = ['Survived','Pclass','Sex','Age','SibSp','Parch','Fare','Embarked']\n",
    "label_name = 'Survived'"
   ]
  },
  {
   "cell_type": "code",
   "execution_count": 5,
   "metadata": {
    "colab": {},
    "colab_type": "code",
    "id": "dFfBSaz8DAC9"
   },
   "outputs": [],
   "source": [
    "train_dataset = tf.data.experimental.make_csv_dataset(\n",
    "    file_pattern = '../input/train.csv',\n",
    "    batch_size = 32,\n",
    "    column_names = column_names,\n",
    "    select_columns = select_columns,\n",
    "    label_name = label_name,\n",
    "    num_epochs = 1)"
   ]
  },
  {
   "cell_type": "code",
   "execution_count": 6,
   "metadata": {
    "colab": {
     "base_uri": "https://localhost:8080/",
     "height": 439
    },
    "colab_type": "code",
    "id": "eSRRk2gPGRA1",
    "outputId": "eca6e9ca-c134-497f-c7d2-bfeebd51f33e"
   },
   "outputs": [
    {
     "name": "stdout",
     "output_type": "stream",
     "text": [
      "OrderedDict([('Pclass', <tf.Tensor: id=78, shape=(32,), dtype=int32, numpy=\n",
      "array([3, 3, 2, 3, 3, 3, 3, 2, 3, 1, 3, 2, 3, 2, 3, 3, 3, 3, 2, 1, 3, 3,\n",
      "       1, 1, 3, 3, 3, 3, 1, 1, 3, 3], dtype=int32)>), ('Sex', <tf.Tensor: id=79, shape=(32,), dtype=string, numpy=\n",
      "array([b'male', b'female', b'male', b'male', b'female', b'male', b'male',\n",
      "       b'male', b'male', b'female', b'male', b'male', b'female', b'male',\n",
      "       b'female', b'male', b'male', b'male', b'male', b'male', b'male',\n",
      "       b'male', b'male', b'female', b'female', b'male', b'male',\n",
      "       b'female', b'female', b'female', b'female', b'male'], dtype=object)>), ('Age', <tf.Tensor: id=74, shape=(32,), dtype=float32, numpy=\n",
      "array([ 0.  , 45.  , 32.  ,  0.  ,  0.  , 20.  , 30.  , 66.  , 45.  ,\n",
      "       15.  , 30.  , 31.  ,  0.75, 16.  ,  0.  ,  0.  , 36.  ,  9.  ,\n",
      "       46.  , 26.  , 22.  , 20.5 ,  0.  ,  0.  ,  0.  ,  4.  , 32.  ,\n",
      "        0.  , 21.  , 30.  , 14.  ,  0.  ], dtype=float32)>), ('SibSp', <tf.Tensor: id=80, shape=(32,), dtype=int32, numpy=\n",
      "array([0, 0, 1, 0, 1, 0, 0, 0, 0, 0, 0, 1, 2, 0, 0, 0, 0, 4, 0, 0, 0, 0,\n",
      "       0, 1, 1, 1, 0, 0, 0, 0, 1, 0], dtype=int32)>), ('Parch', <tf.Tensor: id=77, shape=(32,), dtype=int32, numpy=\n",
      "array([0, 1, 0, 0, 0, 0, 0, 0, 0, 1, 0, 1, 1, 0, 0, 0, 0, 2, 0, 0, 0, 0,\n",
      "       0, 0, 0, 1, 0, 0, 0, 0, 0, 0], dtype=int32)>), ('Fare', <tf.Tensor: id=76, shape=(32,), dtype=float32, numpy=\n",
      "array([  7.75  ,  14.4542,  26.    ,   7.8958,  16.1   ,   7.05  ,\n",
      "         8.05  ,  10.5   ,   6.975 , 211.3375,   7.8958,  26.25  ,\n",
      "        19.2583,  26.    ,   7.75  ,   7.75  ,   0.    ,  31.3875,\n",
      "        26.    ,  30.    ,   7.25  ,   7.25  ,  26.55  ,  89.1042,\n",
      "        15.5   ,  11.1333,   7.8958,   8.05  ,  77.9583,  93.5   ,\n",
      "        11.2417,   8.05  ], dtype=float32)>), ('Embarked', <tf.Tensor: id=75, shape=(32,), dtype=string, numpy=\n",
      "array([b'Q', b'C', b'S', b'S', b'S', b'S', b'S', b'S', b'S', b'S', b'S',\n",
      "       b'S', b'C', b'S', b'Q', b'Q', b'S', b'S', b'S', b'C', b'S', b'S',\n",
      "       b'S', b'C', b'Q', b'S', b'S', b'S', b'S', b'S', b'C', b'S'],\n",
      "      dtype=object)>)])\n"
     ]
    }
   ],
   "source": [
    "features, labels = next(iter(train_dataset))\n",
    "print(features)"
   ]
  },
  {
   "cell_type": "markdown",
   "metadata": {
    "colab_type": "text",
    "id": "TOSih-FuLGnn"
   },
   "source": [
    "# Feature Engineering"
   ]
  },
  {
   "cell_type": "code",
   "execution_count": 7,
   "metadata": {
    "colab": {},
    "colab_type": "code",
    "id": "bb_xOBKJNdH8"
   },
   "outputs": [],
   "source": [
    "from tensorflow import feature_column\n",
    "from tensorflow.keras import layers"
   ]
  },
  {
   "cell_type": "code",
   "execution_count": 8,
   "metadata": {
    "colab": {},
    "colab_type": "code",
    "id": "L0gFo96sPwUJ"
   },
   "outputs": [],
   "source": [
    "feature_columns = []\n",
    "\n",
    "raw = feature_column.categorical_column_with_identity('Pclass', num_buckets=4)\n",
    "feature_columns.append(feature_column.indicator_column(raw))\n",
    "raw = feature_column.categorical_column_with_vocabulary_list('Sex', ['male', 'female'])\n",
    "feature_columns.append(feature_column.indicator_column(raw))\n",
    "feature_columns.append(feature_column.numeric_column('Age'))\n",
    "raw = feature_column.categorical_column_with_identity('SibSp', num_buckets=9)\n",
    "feature_columns.append(feature_column.indicator_column(raw))\n",
    "raw = feature_column.categorical_column_with_identity('Parch', num_buckets=12)\n",
    "feature_columns.append(feature_column.indicator_column(raw))\n",
    "feature_columns.append(feature_column.numeric_column('Fare'))\n",
    "raw = feature_column.categorical_column_with_vocabulary_list('Embarked', ['S', 'C', 'Q'])\n",
    "feature_columns.append(feature_column.indicator_column(raw))\n",
    "\n",
    "feature_layer = tf.keras.layers.DenseFeatures(feature_columns)"
   ]
  },
  {
   "cell_type": "markdown",
   "metadata": {
    "colab_type": "text",
    "id": "4qKOTJTOOl8y"
   },
   "source": [
    "#Model"
   ]
  },
  {
   "cell_type": "code",
   "execution_count": 9,
   "metadata": {
    "colab": {},
    "colab_type": "code",
    "id": "JaSWa46yOohX"
   },
   "outputs": [],
   "source": [
    "model = tf.keras.models.Sequential([\n",
    "    feature_layer,\n",
    "    layers.Dense(256, activation='relu'),\n",
    "    layers.Dropout(0.5), \n",
    "    layers.Dense(256, activation='relu'),\n",
    "    layers.Dropout(0.5),\n",
    "    layers.Dense(1, activation='sigmoid')\n",
    "])"
   ]
  },
  {
   "cell_type": "code",
   "execution_count": 10,
   "metadata": {
    "colab": {},
    "colab_type": "code",
    "id": "ZpC2QD7GXLQw"
   },
   "outputs": [],
   "source": [
    "model.compile(\n",
    "    optimizer = 'adam',\n",
    "    loss = 'binary_crossentropy',\n",
    "    metrics = ['accuracy']\n",
    ")"
   ]
  },
  {
   "cell_type": "code",
   "execution_count": 11,
   "metadata": {
    "colab": {
     "base_uri": "https://localhost:8080/",
     "height": 7075
    },
    "colab_type": "code",
    "id": "QSpPWRdmZPcV",
    "outputId": "1f38beb7-54f1-48fc-960b-7a13cc8beb91"
   },
   "outputs": [
    {
     "name": "stderr",
     "output_type": "stream",
     "text": [
      "WARNING: Logging before flag parsing goes to stderr.\n",
      "W0504 04:08:40.145957 139897865573760 deprecation.py:323] From /opt/conda/lib/python3.6/site-packages/tensorflow/python/feature_column/feature_column_v2.py:2758: to_float (from tensorflow.python.ops.math_ops) is deprecated and will be removed in a future version.\n",
      "Instructions for updating:\n",
      "Use `tf.cast` instead.\n",
      "W0504 04:08:40.163760 139897865573760 deprecation.py:323] From /opt/conda/lib/python3.6/site-packages/tensorflow/python/ops/lookup_ops.py:1347: to_int64 (from tensorflow.python.ops.math_ops) is deprecated and will be removed in a future version.\n",
      "Instructions for updating:\n",
      "Use `tf.cast` instead.\n",
      "W0504 04:08:40.171941 139897865573760 deprecation.py:323] From /opt/conda/lib/python3.6/site-packages/tensorflow/python/feature_column/feature_column_v2.py:4307: IndicatorColumn._variable_shape (from tensorflow.python.feature_column.feature_column_v2) is deprecated and will be removed in a future version.\n",
      "Instructions for updating:\n",
      "The old _FeatureColumn APIs are being deprecated. Please use the new FeatureColumn APIs instead.\n",
      "W0504 04:08:40.172698 139897865573760 deprecation.py:323] From /opt/conda/lib/python3.6/site-packages/tensorflow/python/feature_column/feature_column_v2.py:4362: VocabularyListCategoricalColumn._num_buckets (from tensorflow.python.feature_column.feature_column_v2) is deprecated and will be removed in a future version.\n",
      "Instructions for updating:\n",
      "The old _FeatureColumn APIs are being deprecated. Please use the new FeatureColumn APIs instead.\n",
      "W0504 04:08:40.230293 139897865573760 deprecation.py:323] From /opt/conda/lib/python3.6/site-packages/tensorflow/python/feature_column/feature_column_v2.py:4362: IdentityCategoricalColumn._num_buckets (from tensorflow.python.feature_column.feature_column_v2) is deprecated and will be removed in a future version.\n",
      "Instructions for updating:\n",
      "The old _FeatureColumn APIs are being deprecated. Please use the new FeatureColumn APIs instead.\n"
     ]
    },
    {
     "name": "stdout",
     "output_type": "stream",
     "text": [
      "Epoch 1/100\n",
      "28/28 [==============================] - 3s 104ms/step - loss: 1.5162 - accuracy: 0.5844\n",
      "Epoch 2/100\n",
      "28/28 [==============================] - 1s 39ms/step - loss: 1.3229 - accuracy: 0.5888\n",
      "Epoch 3/100\n",
      "28/28 [==============================] - 1s 45ms/step - loss: 1.1922 - accuracy: 0.6053\n",
      "Epoch 4/100\n",
      "28/28 [==============================] - 1s 48ms/step - loss: 0.9465 - accuracy: 0.6482\n",
      "Epoch 5/100\n",
      "28/28 [==============================] - 1s 46ms/step - loss: 0.8316 - accuracy: 0.6578\n",
      "Epoch 6/100\n",
      "28/28 [==============================] - 1s 42ms/step - loss: 0.8251 - accuracy: 0.6946\n",
      "Epoch 7/100\n",
      "28/28 [==============================] - 1s 39ms/step - loss: 0.7864 - accuracy: 0.6937\n",
      "Epoch 8/100\n",
      "28/28 [==============================] - 1s 40ms/step - loss: 0.7407 - accuracy: 0.7178\n",
      "Epoch 9/100\n",
      "28/28 [==============================] - 1s 40ms/step - loss: 0.6804 - accuracy: 0.7193\n",
      "Epoch 10/100\n",
      "28/28 [==============================] - 1s 39ms/step - loss: 0.6426 - accuracy: 0.6935\n",
      "Epoch 11/100\n",
      "28/28 [==============================] - 1s 39ms/step - loss: 0.6703 - accuracy: 0.6946\n",
      "Epoch 12/100\n",
      "28/28 [==============================] - 1s 38ms/step - loss: 0.6490 - accuracy: 0.6779\n",
      "Epoch 13/100\n",
      "28/28 [==============================] - 1s 37ms/step - loss: 0.5750 - accuracy: 0.7247\n",
      "Epoch 14/100\n",
      "28/28 [==============================] - 1s 37ms/step - loss: 0.5942 - accuracy: 0.7252\n",
      "Epoch 15/100\n",
      "28/28 [==============================] - 1s 38ms/step - loss: 0.5813 - accuracy: 0.7212\n",
      "Epoch 16/100\n",
      "28/28 [==============================] - 1s 37ms/step - loss: 0.6086 - accuracy: 0.7237\n",
      "Epoch 17/100\n",
      "28/28 [==============================] - 1s 37ms/step - loss: 0.5825 - accuracy: 0.7355\n",
      "Epoch 18/100\n",
      "28/28 [==============================] - 1s 37ms/step - loss: 0.5795 - accuracy: 0.7444\n",
      "Epoch 19/100\n",
      "28/28 [==============================] - 1s 37ms/step - loss: 0.5747 - accuracy: 0.7583\n",
      "Epoch 20/100\n",
      "28/28 [==============================] - 1s 37ms/step - loss: 0.5710 - accuracy: 0.7551\n",
      "Epoch 21/100\n",
      "28/28 [==============================] - 1s 37ms/step - loss: 0.5503 - accuracy: 0.7372\n",
      "Epoch 22/100\n",
      "28/28 [==============================] - 1s 37ms/step - loss: 0.5616 - accuracy: 0.7445\n",
      "Epoch 23/100\n",
      "28/28 [==============================] - 1s 37ms/step - loss: 0.5308 - accuracy: 0.7632\n",
      "Epoch 24/100\n",
      "28/28 [==============================] - 1s 37ms/step - loss: 0.5589 - accuracy: 0.7652\n",
      "Epoch 25/100\n",
      "28/28 [==============================] - 1s 37ms/step - loss: 0.5373 - accuracy: 0.7788\n",
      "Epoch 26/100\n",
      "28/28 [==============================] - 1s 37ms/step - loss: 0.5313 - accuracy: 0.7819\n",
      "Epoch 27/100\n",
      "28/28 [==============================] - 1s 37ms/step - loss: 0.5110 - accuracy: 0.7606\n",
      "Epoch 28/100\n",
      "28/28 [==============================] - 1s 39ms/step - loss: 0.5215 - accuracy: 0.7523\n",
      "Epoch 29/100\n",
      "28/28 [==============================] - 1s 37ms/step - loss: 0.5340 - accuracy: 0.7766\n",
      "Epoch 30/100\n",
      "28/28 [==============================] - 1s 37ms/step - loss: 0.4999 - accuracy: 0.7660\n",
      "Epoch 31/100\n",
      "28/28 [==============================] - 1s 38ms/step - loss: 0.5079 - accuracy: 0.7517\n",
      "Epoch 32/100\n",
      "28/28 [==============================] - 1s 37ms/step - loss: 0.4921 - accuracy: 0.7762\n",
      "Epoch 33/100\n",
      "28/28 [==============================] - 1s 38ms/step - loss: 0.4957 - accuracy: 0.7655\n",
      "Epoch 34/100\n",
      "28/28 [==============================] - 1s 37ms/step - loss: 0.4842 - accuracy: 0.7744\n",
      "Epoch 35/100\n",
      "28/28 [==============================] - 1s 37ms/step - loss: 0.4996 - accuracy: 0.7879\n",
      "Epoch 36/100\n",
      "28/28 [==============================] - 1s 37ms/step - loss: 0.5077 - accuracy: 0.7823\n",
      "Epoch 37/100\n",
      "28/28 [==============================] - 1s 38ms/step - loss: 0.4834 - accuracy: 0.7889\n",
      "Epoch 38/100\n",
      "28/28 [==============================] - 1s 42ms/step - loss: 0.4864 - accuracy: 0.8018\n",
      "Epoch 39/100\n",
      "28/28 [==============================] - 1s 42ms/step - loss: 0.4774 - accuracy: 0.7858\n",
      "Epoch 40/100\n",
      "28/28 [==============================] - 1s 42ms/step - loss: 0.4726 - accuracy: 0.7955\n",
      "Epoch 41/100\n",
      "28/28 [==============================] - 1s 43ms/step - loss: 0.4593 - accuracy: 0.8061\n",
      "Epoch 42/100\n",
      "28/28 [==============================] - 1s 43ms/step - loss: 0.4771 - accuracy: 0.7959\n",
      "Epoch 43/100\n",
      "28/28 [==============================] - 1s 42ms/step - loss: 0.4766 - accuracy: 0.7884\n",
      "Epoch 44/100\n",
      "28/28 [==============================] - 1s 42ms/step - loss: 0.4756 - accuracy: 0.7927\n",
      "Epoch 45/100\n",
      "28/28 [==============================] - 1s 42ms/step - loss: 0.4761 - accuracy: 0.7982\n",
      "Epoch 46/100\n",
      "28/28 [==============================] - 1s 39ms/step - loss: 0.4587 - accuracy: 0.8122\n",
      "Epoch 47/100\n",
      "28/28 [==============================] - 1s 37ms/step - loss: 0.4523 - accuracy: 0.7951\n",
      "Epoch 48/100\n",
      "28/28 [==============================] - 1s 37ms/step - loss: 0.4583 - accuracy: 0.7971\n",
      "Epoch 49/100\n",
      "28/28 [==============================] - 1s 38ms/step - loss: 0.4550 - accuracy: 0.8172\n",
      "Epoch 50/100\n",
      "28/28 [==============================] - 1s 38ms/step - loss: 0.4437 - accuracy: 0.8197\n",
      "Epoch 51/100\n",
      "28/28 [==============================] - 1s 37ms/step - loss: 0.4604 - accuracy: 0.8068\n",
      "Epoch 52/100\n",
      "28/28 [==============================] - 1s 37ms/step - loss: 0.4418 - accuracy: 0.7922\n",
      "Epoch 53/100\n",
      "28/28 [==============================] - 1s 37ms/step - loss: 0.4417 - accuracy: 0.8101\n",
      "Epoch 54/100\n",
      "28/28 [==============================] - 1s 37ms/step - loss: 0.4481 - accuracy: 0.8162\n",
      "Epoch 55/100\n",
      "28/28 [==============================] - 1s 37ms/step - loss: 0.4359 - accuracy: 0.8041\n",
      "Epoch 56/100\n",
      "28/28 [==============================] - 1s 39ms/step - loss: 0.4328 - accuracy: 0.8267\n",
      "Epoch 57/100\n",
      "28/28 [==============================] - 1s 37ms/step - loss: 0.4281 - accuracy: 0.8240\n",
      "Epoch 58/100\n",
      "28/28 [==============================] - 1s 37ms/step - loss: 0.4551 - accuracy: 0.8114\n",
      "Epoch 59/100\n",
      "28/28 [==============================] - 1s 38ms/step - loss: 0.4418 - accuracy: 0.8227\n",
      "Epoch 60/100\n",
      "28/28 [==============================] - 1s 43ms/step - loss: 0.4309 - accuracy: 0.8160\n",
      "Epoch 61/100\n",
      "28/28 [==============================] - 1s 47ms/step - loss: 0.4229 - accuracy: 0.8156\n",
      "Epoch 62/100\n",
      "28/28 [==============================] - 1s 47ms/step - loss: 0.4249 - accuracy: 0.8214\n",
      "Epoch 63/100\n",
      "28/28 [==============================] - 1s 47ms/step - loss: 0.4213 - accuracy: 0.8314\n",
      "Epoch 64/100\n",
      "28/28 [==============================] - 1s 47ms/step - loss: 0.4227 - accuracy: 0.8435\n",
      "Epoch 65/100\n",
      "28/28 [==============================] - 1s 47ms/step - loss: 0.4160 - accuracy: 0.8203\n",
      "Epoch 66/100\n",
      "28/28 [==============================] - 1s 47ms/step - loss: 0.4236 - accuracy: 0.8144\n",
      "Epoch 67/100\n",
      "28/28 [==============================] - 1s 47ms/step - loss: 0.4288 - accuracy: 0.8308\n",
      "Epoch 68/100\n",
      "28/28 [==============================] - 1s 38ms/step - loss: 0.4239 - accuracy: 0.8340\n",
      "Epoch 69/100\n",
      "28/28 [==============================] - 1s 37ms/step - loss: 0.4147 - accuracy: 0.8298\n",
      "Epoch 70/100\n",
      "28/28 [==============================] - 1s 37ms/step - loss: 0.4192 - accuracy: 0.8444\n",
      "Epoch 71/100\n",
      "28/28 [==============================] - 1s 37ms/step - loss: 0.4128 - accuracy: 0.8297\n",
      "Epoch 72/100\n",
      "28/28 [==============================] - 1s 37ms/step - loss: 0.4121 - accuracy: 0.8250\n",
      "Epoch 73/100\n",
      "28/28 [==============================] - 1s 37ms/step - loss: 0.4068 - accuracy: 0.8485\n",
      "Epoch 74/100\n",
      "28/28 [==============================] - 1s 37ms/step - loss: 0.4045 - accuracy: 0.8294\n",
      "Epoch 75/100\n",
      "28/28 [==============================] - 1s 37ms/step - loss: 0.4122 - accuracy: 0.8267\n",
      "Epoch 76/100\n",
      "28/28 [==============================] - 1s 37ms/step - loss: 0.4086 - accuracy: 0.8356\n",
      "Epoch 77/100\n",
      "28/28 [==============================] - 1s 37ms/step - loss: 0.4218 - accuracy: 0.8289\n",
      "Epoch 78/100\n",
      "28/28 [==============================] - 1s 37ms/step - loss: 0.4204 - accuracy: 0.8512\n",
      "Epoch 79/100\n",
      "28/28 [==============================] - 1s 37ms/step - loss: 0.4027 - accuracy: 0.8409\n",
      "Epoch 80/100\n",
      "28/28 [==============================] - 1s 37ms/step - loss: 0.4015 - accuracy: 0.8377\n",
      "Epoch 81/100\n",
      "28/28 [==============================] - 1s 37ms/step - loss: 0.4023 - accuracy: 0.8448\n",
      "Epoch 82/100\n",
      "28/28 [==============================] - 1s 37ms/step - loss: 0.4082 - accuracy: 0.8087\n",
      "Epoch 83/100\n",
      "28/28 [==============================] - 1s 38ms/step - loss: 0.4061 - accuracy: 0.8448\n",
      "Epoch 84/100\n",
      "28/28 [==============================] - 1s 37ms/step - loss: 0.4161 - accuracy: 0.8435\n",
      "Epoch 85/100\n",
      "28/28 [==============================] - 1s 37ms/step - loss: 0.3982 - accuracy: 0.8285\n",
      "Epoch 86/100\n",
      "28/28 [==============================] - 1s 37ms/step - loss: 0.3976 - accuracy: 0.8442\n",
      "Epoch 87/100\n",
      "28/28 [==============================] - 1s 38ms/step - loss: 0.3969 - accuracy: 0.8441\n",
      "Epoch 88/100\n",
      "28/28 [==============================] - 1s 37ms/step - loss: 0.3986 - accuracy: 0.8475\n",
      "Epoch 89/100\n",
      "28/28 [==============================] - 1s 37ms/step - loss: 0.3966 - accuracy: 0.8485\n",
      "Epoch 90/100\n",
      "28/28 [==============================] - 1s 37ms/step - loss: 0.4023 - accuracy: 0.8255\n",
      "Epoch 91/100\n",
      "28/28 [==============================] - 1s 37ms/step - loss: 0.3932 - accuracy: 0.8366\n",
      "Epoch 92/100\n",
      "28/28 [==============================] - 1s 37ms/step - loss: 0.3944 - accuracy: 0.8378\n",
      "Epoch 93/100\n",
      "28/28 [==============================] - 1s 37ms/step - loss: 0.3980 - accuracy: 0.8407\n",
      "Epoch 94/100\n",
      "28/28 [==============================] - 1s 37ms/step - loss: 0.3951 - accuracy: 0.8350\n",
      "Epoch 95/100\n",
      "28/28 [==============================] - 1s 38ms/step - loss: 0.3918 - accuracy: 0.8456\n",
      "Epoch 96/100\n",
      "28/28 [==============================] - 1s 38ms/step - loss: 0.3846 - accuracy: 0.8586\n",
      "Epoch 97/100\n",
      "28/28 [==============================] - 1s 37ms/step - loss: 0.3863 - accuracy: 0.8522\n",
      "Epoch 98/100\n",
      "28/28 [==============================] - 1s 37ms/step - loss: 0.3798 - accuracy: 0.8415\n",
      "Epoch 99/100\n",
      "28/28 [==============================] - 1s 37ms/step - loss: 0.3967 - accuracy: 0.8387\n",
      "Epoch 100/100\n",
      "28/28 [==============================] - 1s 37ms/step - loss: 0.3945 - accuracy: 0.8497\n"
     ]
    },
    {
     "data": {
      "text/plain": [
       "<tensorflow.python.keras.callbacks.History at 0x7f3c00092d30>"
      ]
     },
     "execution_count": 11,
     "metadata": {},
     "output_type": "execute_result"
    }
   ],
   "source": [
    "model.fit(train_dataset, epochs=100)"
   ]
  },
  {
   "cell_type": "code",
   "execution_count": 12,
   "metadata": {
    "colab": {},
    "colab_type": "code",
    "id": "qz7HwEzxmv7i"
   },
   "outputs": [],
   "source": [
    "test_column_names = ['PassengerId','Pclass','Name','Sex','Age','SibSp','Parch','Ticket','Fare','Cabin','Embarked']\n",
    "test_select_columns = ['PassengerId','Pclass','Sex','Age','SibSp','Parch','Fare','Embarked']\n",
    "\n",
    "test_dataset = tf.data.experimental.make_csv_dataset(\n",
    "    shuffle = False,\n",
    "    file_pattern = '../input/test.csv',\n",
    "    batch_size = 64,\n",
    "    column_names = test_column_names,\n",
    "    select_columns = test_select_columns,\n",
    "    num_epochs = 1)"
   ]
  },
  {
   "cell_type": "code",
   "execution_count": 13,
   "metadata": {
    "colab": {
     "base_uri": "https://localhost:8080/",
     "height": 967
    },
    "colab_type": "code",
    "id": "V1Z8x35ToGA5",
    "outputId": "180b7963-8de8-412b-d7c9-73503c560a7e"
   },
   "outputs": [
    {
     "name": "stdout",
     "output_type": "stream",
     "text": [
      "OrderedDict([('PassengerId', <tf.Tensor: id=1541350, shape=(64,), dtype=int32, numpy=\n",
      "array([892, 893, 894, 895, 896, 897, 898, 899, 900, 901, 902, 903, 904,\n",
      "       905, 906, 907, 908, 909, 910, 911, 912, 913, 914, 915, 916, 917,\n",
      "       918, 919, 920, 921, 922, 923, 924, 925, 926, 927, 928, 929, 930,\n",
      "       931, 932, 933, 934, 935, 936, 937, 938, 939, 940, 941, 942, 943,\n",
      "       944, 945, 946, 947, 948, 949, 950, 951, 952, 953, 954, 955],\n",
      "      dtype=int32)>), ('Pclass', <tf.Tensor: id=1541351, shape=(64,), dtype=int32, numpy=\n",
      "array([3, 3, 2, 3, 3, 3, 3, 2, 3, 3, 3, 1, 1, 2, 1, 2, 2, 3, 3, 3, 1, 3,\n",
      "       1, 1, 1, 3, 1, 3, 1, 3, 2, 2, 3, 3, 1, 3, 3, 3, 3, 3, 3, 1, 3, 2,\n",
      "       1, 3, 1, 3, 1, 3, 1, 2, 2, 1, 2, 3, 3, 3, 3, 1, 3, 2, 3, 3],\n",
      "      dtype=int32)>), ('Sex', <tf.Tensor: id=1541352, shape=(64,), dtype=string, numpy=\n",
      "array([b'male', b'female', b'male', b'male', b'female', b'male',\n",
      "       b'female', b'male', b'female', b'male', b'male', b'male',\n",
      "       b'female', b'male', b'female', b'female', b'male', b'male',\n",
      "       b'female', b'female', b'male', b'male', b'female', b'male',\n",
      "       b'female', b'male', b'female', b'male', b'male', b'male', b'male',\n",
      "       b'male', b'female', b'female', b'male', b'male', b'female',\n",
      "       b'female', b'male', b'male', b'male', b'male', b'male', b'female',\n",
      "       b'female', b'male', b'male', b'male', b'female', b'female',\n",
      "       b'male', b'male', b'female', b'female', b'male', b'male', b'male',\n",
      "       b'male', b'male', b'female', b'male', b'male', b'male', b'female'],\n",
      "      dtype=object)>), ('Age', <tf.Tensor: id=1541346, shape=(64,), dtype=float32, numpy=\n",
      "array([34.5, 47. , 62. , 27. , 22. , 14. , 30. , 26. , 18. , 21. ,  0. ,\n",
      "       46. , 23. , 63. , 47. , 24. , 35. , 21. , 27. , 45. , 55. ,  9. ,\n",
      "        0. , 21. , 48. , 50. , 22. , 22.5, 41. ,  0. , 50. , 24. , 33. ,\n",
      "        0. , 30. , 18.5,  0. , 21. , 25. ,  0. , 39. ,  0. , 41. , 30. ,\n",
      "       45. , 25. , 45. ,  0. , 60. , 36. , 24. , 27. , 20. , 28. ,  0. ,\n",
      "       10. , 35. , 25. ,  0. , 36. , 17. , 32. , 18. , 22. ],\n",
      "      dtype=float32)>), ('SibSp', <tf.Tensor: id=1541353, shape=(64,), dtype=int32, numpy=\n",
      "array([0, 1, 0, 0, 1, 0, 0, 1, 0, 2, 0, 0, 1, 1, 1, 1, 0, 0, 1, 0, 1, 0,\n",
      "       0, 0, 1, 1, 0, 0, 0, 2, 1, 2, 1, 1, 1, 0, 0, 0, 0, 0, 0, 0, 0, 0,\n",
      "       1, 0, 0, 0, 0, 0, 1, 0, 2, 3, 0, 4, 0, 0, 1, 0, 0, 0, 0, 0],\n",
      "      dtype=int32)>), ('Parch', <tf.Tensor: id=1541349, shape=(64,), dtype=int32, numpy=\n",
      "array([0, 0, 0, 0, 1, 0, 0, 1, 0, 0, 0, 0, 0, 0, 0, 0, 0, 0, 0, 0, 0, 1,\n",
      "       0, 1, 3, 0, 1, 0, 0, 0, 0, 0, 2, 2, 0, 0, 0, 0, 0, 0, 1, 0, 0, 0,\n",
      "       0, 0, 0, 0, 0, 2, 0, 0, 1, 2, 0, 1, 0, 0, 0, 0, 0, 0, 0, 0],\n",
      "      dtype=int32)>), ('Fare', <tf.Tensor: id=1541348, shape=(64,), dtype=float32, numpy=\n",
      "array([  7.8292,   7.    ,   9.6875,   8.6625,  12.2875,   9.225 ,\n",
      "         7.6292,  29.    ,   7.2292,  24.15  ,   7.8958,  26.    ,\n",
      "        82.2667,  26.    ,  61.175 ,  27.7208,  12.35  ,   7.225 ,\n",
      "         7.925 ,   7.225 ,  59.4   ,   3.1708,  31.6833,  61.3792,\n",
      "       262.375 ,  14.5   ,  61.9792,   7.225 ,  30.5   ,  21.6792,\n",
      "        26.    ,  31.5   ,  20.575 ,  23.45  ,  57.75  ,   7.2292,\n",
      "         8.05  ,   8.6625,   9.5   ,  56.4958,  13.4167,  26.55  ,\n",
      "         7.85  ,  13.    ,  52.5542,   7.925 ,  29.7   ,   7.75  ,\n",
      "        76.2917,  15.9   ,  60.    ,  15.0333,  23.    , 263.    ,\n",
      "        15.5792,  29.125 ,   7.8958,   7.65  ,  16.1   , 262.375 ,\n",
      "         7.8958,  13.5   ,   7.75  ,   7.725 ], dtype=float32)>), ('Embarked', <tf.Tensor: id=1541347, shape=(64,), dtype=string, numpy=\n",
      "array([b'Q', b'S', b'Q', b'S', b'S', b'S', b'Q', b'S', b'C', b'S', b'S',\n",
      "       b'S', b'S', b'S', b'S', b'C', b'Q', b'C', b'S', b'C', b'C', b'S',\n",
      "       b'S', b'C', b'C', b'S', b'C', b'C', b'S', b'C', b'S', b'S', b'S',\n",
      "       b'S', b'C', b'C', b'S', b'S', b'S', b'S', b'C', b'S', b'S', b'S',\n",
      "       b'S', b'S', b'C', b'Q', b'C', b'S', b'S', b'C', b'S', b'S', b'C',\n",
      "       b'Q', b'S', b'S', b'S', b'C', b'S', b'S', b'S', b'Q'], dtype=object)>)])\n"
     ]
    }
   ],
   "source": [
    "features = next(iter(test_dataset))\n",
    "print(features)"
   ]
  },
  {
   "cell_type": "code",
   "execution_count": 14,
   "metadata": {
    "colab": {},
    "colab_type": "code",
    "id": "QfZmuftim1zB"
   },
   "outputs": [],
   "source": [
    "predictions = model.predict(test_dataset) > 0.5"
   ]
  },
  {
   "cell_type": "code",
   "execution_count": 15,
   "metadata": {
    "colab": {
     "base_uri": "https://localhost:8080/",
     "height": 844
    },
    "colab_type": "code",
    "id": "x67CMBqUuMuo",
    "outputId": "d80ea094-5477-4c68-bc98-b161ee265a3b"
   },
   "outputs": [
    {
     "data": {
      "text/plain": [
       "array([False, False, False, False, False, False, False, False,  True,\n",
       "       False, False, False,  True, False,  True,  True, False, False,\n",
       "       False, False, False, False,  True, False,  True, False,  True,\n",
       "       False, False, False, False, False, False, False, False, False,\n",
       "       False,  True, False, False, False, False, False,  True,  True,\n",
       "       False, False, False,  True,  True, False, False,  True,  True,\n",
       "        True, False, False, False, False,  True, False, False, False,\n",
       "        True,  True,  True,  True, False, False,  True,  True, False,\n",
       "        True, False,  True, False, False,  True, False,  True,  True,\n",
       "       False, False, False, False, False, False,  True,  True,  True,\n",
       "       False, False,  True, False,  True, False,  True, False,  True,\n",
       "       False,  True, False, False, False, False, False, False, False,\n",
       "       False, False, False,  True,  True,  True,  True, False, False,\n",
       "        True, False,  True,  True, False,  True, False, False,  True,\n",
       "       False,  True, False, False, False, False, False, False, False,\n",
       "       False, False, False,  True, False, False,  True, False, False,\n",
       "       False, False, False, False, False, False,  True, False, False,\n",
       "        True, False, False,  True,  True, False,  True,  True,  True,\n",
       "        True, False, False, False, False, False,  True,  True, False,\n",
       "       False, False, False, False,  True,  True, False,  True,  True,\n",
       "       False, False,  True, False,  True, False,  True, False, False,\n",
       "       False, False, False, False, False, False, False,  True,  True,\n",
       "       False, False,  True, False, False,  True, False, False, False,\n",
       "       False,  True, False, False, False, False,  True, False, False,\n",
       "        True, False,  True, False,  True, False,  True, False,  True,\n",
       "       False, False,  True, False, False, False,  True, False, False,\n",
       "       False, False, False, False,  True,  True,  True,  True, False,\n",
       "       False, False, False,  True, False,  True,  True,  True, False,\n",
       "       False, False, False, False, False, False,  True, False, False,\n",
       "       False,  True,  True, False, False, False, False, False, False,\n",
       "       False, False,  True,  True, False,  True, False, False, False,\n",
       "       False,  True,  True,  True,  True,  True, False, False, False,\n",
       "       False, False, False, False, False, False, False, False,  True,\n",
       "       False, False, False, False,  True, False, False,  True,  True,\n",
       "       False,  True, False, False, False, False, False, False,  True,\n",
       "        True, False, False, False, False, False, False, False, False,\n",
       "        True, False,  True, False, False, False,  True, False, False,\n",
       "       False, False, False, False, False, False, False, False, False,\n",
       "       False,  True,  True,  True, False, False, False,  True,  True,\n",
       "       False, False, False,  True, False,  True, False, False, False,\n",
       "       False,  True,  True, False,  True,  True, False,  True,  True,\n",
       "       False, False,  True, False, False,  True,  True, False, False,\n",
       "       False, False, False, False, False, False,  True,  True, False,\n",
       "       False, False, False, False,  True, False, False, False,  True,\n",
       "       False,  True, False, False,  True, False,  True, False, False,\n",
       "       False, False, False,  True,  True,  True,  True,  True, False,\n",
       "        True, False, False,  True])"
      ]
     },
     "execution_count": 15,
     "metadata": {},
     "output_type": "execute_result"
    }
   ],
   "source": [
    "predictions[:, 0]"
   ]
  },
  {
   "cell_type": "code",
   "execution_count": 16,
   "metadata": {
    "colab": {},
    "colab_type": "code",
    "id": "PYeWzfu-nipG"
   },
   "outputs": [],
   "source": [
    "import pandas as pd"
   ]
  },
  {
   "cell_type": "code",
   "execution_count": 17,
   "metadata": {
    "colab": {},
    "colab_type": "code",
    "id": "TiWu9iyIqMhl"
   },
   "outputs": [],
   "source": [
    "test_df = pd.read_csv('../input/test.csv')"
   ]
  },
  {
   "cell_type": "code",
   "execution_count": 18,
   "metadata": {
    "colab": {},
    "colab_type": "code",
    "id": "SBaf3KXyu6s7"
   },
   "outputs": [],
   "source": [
    "final_df = pd.DataFrame()"
   ]
  },
  {
   "cell_type": "code",
   "execution_count": 19,
   "metadata": {
    "colab": {},
    "colab_type": "code",
    "id": "LKBpHbJItmV3"
   },
   "outputs": [],
   "source": [
    "final_df['PassengerId'] = test_df['PassengerId']"
   ]
  },
  {
   "cell_type": "code",
   "execution_count": 20,
   "metadata": {
    "colab": {},
    "colab_type": "code",
    "id": "72AhW94luyyn"
   },
   "outputs": [],
   "source": [
    "final_df['Survived'] = predictions[:, 0]*1"
   ]
  },
  {
   "cell_type": "code",
   "execution_count": 21,
   "metadata": {
    "colab": {
     "base_uri": "https://localhost:8080/",
     "height": 203
    },
    "colab_type": "code",
    "id": "fkLTIqJCtomR",
    "outputId": "b601fed5-5ea5-458a-9a5a-7a77c626642b"
   },
   "outputs": [
    {
     "data": {
      "text/html": [
       "<div>\n",
       "<style scoped>\n",
       "    .dataframe tbody tr th:only-of-type {\n",
       "        vertical-align: middle;\n",
       "    }\n",
       "\n",
       "    .dataframe tbody tr th {\n",
       "        vertical-align: top;\n",
       "    }\n",
       "\n",
       "    .dataframe thead th {\n",
       "        text-align: right;\n",
       "    }\n",
       "</style>\n",
       "<table border=\"1\" class=\"dataframe\">\n",
       "  <thead>\n",
       "    <tr style=\"text-align: right;\">\n",
       "      <th></th>\n",
       "      <th>PassengerId</th>\n",
       "      <th>Survived</th>\n",
       "    </tr>\n",
       "  </thead>\n",
       "  <tbody>\n",
       "    <tr>\n",
       "      <th>0</th>\n",
       "      <td>892</td>\n",
       "      <td>0</td>\n",
       "    </tr>\n",
       "    <tr>\n",
       "      <th>1</th>\n",
       "      <td>893</td>\n",
       "      <td>0</td>\n",
       "    </tr>\n",
       "    <tr>\n",
       "      <th>2</th>\n",
       "      <td>894</td>\n",
       "      <td>0</td>\n",
       "    </tr>\n",
       "    <tr>\n",
       "      <th>3</th>\n",
       "      <td>895</td>\n",
       "      <td>0</td>\n",
       "    </tr>\n",
       "    <tr>\n",
       "      <th>4</th>\n",
       "      <td>896</td>\n",
       "      <td>0</td>\n",
       "    </tr>\n",
       "  </tbody>\n",
       "</table>\n",
       "</div>"
      ],
      "text/plain": [
       "   PassengerId  Survived\n",
       "0          892         0\n",
       "1          893         0\n",
       "2          894         0\n",
       "3          895         0\n",
       "4          896         0"
      ]
     },
     "execution_count": 21,
     "metadata": {},
     "output_type": "execute_result"
    }
   ],
   "source": [
    "final_df.head()"
   ]
  },
  {
   "cell_type": "code",
   "execution_count": 22,
   "metadata": {
    "colab": {},
    "colab_type": "code",
    "id": "rXP-qxTOuhL1"
   },
   "outputs": [],
   "source": [
    "final_df.to_csv('submission.csv', index=False)"
   ]
  },
  {
   "cell_type": "code",
   "execution_count": 23,
   "metadata": {
    "colab": {
     "base_uri": "https://localhost:8080/",
     "height": 105
    },
    "colab_type": "code",
    "id": "A_ee6xyBwV_Z",
    "outputId": "171765f0-2122-452c-ef90-942426fb63e3"
   },
   "outputs": [
    {
     "name": "stdout",
     "output_type": "stream",
     "text": [
      "PassengerId,Survived\r\n",
      "892,0\r\n",
      "893,0\r\n",
      "894,0\r\n",
      "895,0\r\n"
     ]
    }
   ],
   "source": [
    "!head -n5 submission.csv"
   ]
  },
  {
   "cell_type": "code",
   "execution_count": 24,
   "metadata": {},
   "outputs": [],
   "source": []
  }
 ],
 "metadata": {
  "colab": {
   "collapsed_sections": [
    "sUdaB4K9CJG1"
   ],
   "name": "Kaggle_Titanic_TF_TB.ipynb",
   "provenance": [],
   "version": "0.3.2"
  },
  "kernelspec": {
   "display_name": "Python 3",
   "name": "python3"
  }
 },
 "nbformat": 4,
 "nbformat_minor": 1
}
