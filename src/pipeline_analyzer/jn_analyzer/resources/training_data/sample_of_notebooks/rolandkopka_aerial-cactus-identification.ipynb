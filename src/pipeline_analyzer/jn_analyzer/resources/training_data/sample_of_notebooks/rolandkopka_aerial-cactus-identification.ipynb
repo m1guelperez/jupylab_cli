{
 "cells": [
  {
   "cell_type": "markdown",
   "metadata": {},
   "source": [
    "# Setup environment"
   ]
  },
  {
   "cell_type": "code",
   "execution_count": 1,
   "metadata": {
    "_cell_guid": "b1076dfc-b9ad-4769-8c92-a6c4dae69d19",
    "_uuid": "8f2839f25d086af736a60e9eeb907d3b93b6e0e5"
   },
   "outputs": [],
   "source": [
    "!pip install -q --upgrade pip\n",
    "!pip install -q -U tensorflow-gpu==2.0.0-alpha0"
   ]
  },
  {
   "cell_type": "code",
   "execution_count": 2,
   "metadata": {
    "_cell_guid": "79c7e3d0-c299-4dcb-8224-4455121ee9b0",
    "_uuid": "d629ff2d2480ee46fbb7e2d37f6b5fab8052498a"
   },
   "outputs": [],
   "source": [
    "import numpy as np\n",
    "import pandas as pd\n",
    "import matplotlib.pyplot as plt\n",
    "import tensorflow as tf\n",
    "\n",
    "from IPython.display import Image, display\n",
    "from sklearn.model_selection import train_test_split\n",
    "\n",
    "AUTOTUNE = tf.data.experimental.AUTOTUNE"
   ]
  },
  {
   "cell_type": "markdown",
   "metadata": {},
   "source": [
    "# Inspect data"
   ]
  },
  {
   "cell_type": "code",
   "execution_count": 3,
   "metadata": {},
   "outputs": [
    {
     "data": {
      "text/html": [
       "<div>\n",
       "<style scoped>\n",
       "    .dataframe tbody tr th:only-of-type {\n",
       "        vertical-align: middle;\n",
       "    }\n",
       "\n",
       "    .dataframe tbody tr th {\n",
       "        vertical-align: top;\n",
       "    }\n",
       "\n",
       "    .dataframe thead th {\n",
       "        text-align: right;\n",
       "    }\n",
       "</style>\n",
       "<table border=\"1\" class=\"dataframe\">\n",
       "  <thead>\n",
       "    <tr style=\"text-align: right;\">\n",
       "      <th></th>\n",
       "      <th>id</th>\n",
       "      <th>has_cactus</th>\n",
       "    </tr>\n",
       "  </thead>\n",
       "  <tbody>\n",
       "    <tr>\n",
       "      <th>0</th>\n",
       "      <td>0004be2cfeaba1c0361d39e2b000257b.jpg</td>\n",
       "      <td>1</td>\n",
       "    </tr>\n",
       "    <tr>\n",
       "      <th>1</th>\n",
       "      <td>000c8a36845c0208e833c79c1bffedd1.jpg</td>\n",
       "      <td>1</td>\n",
       "    </tr>\n",
       "    <tr>\n",
       "      <th>2</th>\n",
       "      <td>000d1e9a533f62e55c289303b072733d.jpg</td>\n",
       "      <td>1</td>\n",
       "    </tr>\n",
       "    <tr>\n",
       "      <th>3</th>\n",
       "      <td>0011485b40695e9138e92d0b3fb55128.jpg</td>\n",
       "      <td>1</td>\n",
       "    </tr>\n",
       "    <tr>\n",
       "      <th>4</th>\n",
       "      <td>0014d7a11e90b62848904c1418fc8cf2.jpg</td>\n",
       "      <td>1</td>\n",
       "    </tr>\n",
       "  </tbody>\n",
       "</table>\n",
       "</div>"
      ],
      "text/plain": [
       "                                     id  has_cactus\n",
       "0  0004be2cfeaba1c0361d39e2b000257b.jpg           1\n",
       "1  000c8a36845c0208e833c79c1bffedd1.jpg           1\n",
       "2  000d1e9a533f62e55c289303b072733d.jpg           1\n",
       "3  0011485b40695e9138e92d0b3fb55128.jpg           1\n",
       "4  0014d7a11e90b62848904c1418fc8cf2.jpg           1"
      ]
     },
     "execution_count": 3,
     "metadata": {},
     "output_type": "execute_result"
    }
   ],
   "source": [
    "train_csv = pd.read_csv('../input/train.csv')\n",
    "train_csv.head()"
   ]
  },
  {
   "cell_type": "code",
   "execution_count": 4,
   "metadata": {},
   "outputs": [
    {
     "data": {
      "image/jpeg": "[encoded data removed]",
      "text/plain": [
       "<IPython.core.display.Image object>"
      ]
     },
     "metadata": {},
     "output_type": "display_data"
    },
    {
     "data": {
      "image/jpeg": "[encoded data removed]",
      "text/plain": [
       "<IPython.core.display.Image object>"
      ]
     },
     "metadata": {},
     "output_type": "display_data"
    },
    {
     "data": {
      "image/jpeg": "[encoded data removed]",
      "text/plain": [
       "<IPython.core.display.Image object>"
      ]
     },
     "metadata": {},
     "output_type": "display_data"
    },
    {
     "data": {
      "image/jpeg": "[encoded data removed]",
      "text/plain": [
       "<IPython.core.display.Image object>"
      ]
     },
     "metadata": {},
     "output_type": "display_data"
    }
   ],
   "source": [
    "# Cactus\n",
    "display(Image('../input/train/train/0004be2cfeaba1c0361d39e2b000257b.jpg'))\n",
    "display(Image('../input/train/train/000c8a36845c0208e833c79c1bffedd1.jpg'))\n",
    "\n",
    "# No cactus\n",
    "display(Image('../input/train/train/002134abf28af54575c18741b89dd2a4.jpg'))\n",
    "display(Image('../input/train/train/0024320f43bdd490562246435af4f90b.jpg'))"
   ]
  },
  {
   "cell_type": "code",
   "execution_count": 5,
   "metadata": {},
   "outputs": [],
   "source": [
    "images = ['../input/train/train/' + fname for fname in train_csv['id']]\n",
    "labels = train_csv['has_cactus'].tolist()"
   ]
  },
  {
   "cell_type": "code",
   "execution_count": 6,
   "metadata": {},
   "outputs": [],
   "source": [
    "X_train, X_dev, y_train, y_dev = train_test_split(images, labels, test_size=0.1, random_state=42)\n",
    "n_train = len(X_train)\n",
    "n_dev = len(X_dev)"
   ]
  },
  {
   "cell_type": "code",
   "execution_count": 7,
   "metadata": {},
   "outputs": [],
   "source": [
    "IMAGE_SIZE = 96\n",
    "\n",
    "def preprocess_image(fname, label=None):\n",
    "  img = tf.io.read_file(fname)\n",
    "  img = tf.image.decode_jpeg(img)\n",
    "  img = tf.cast(img, tf.float32)\n",
    "  img = (img / 127.5) - 1\n",
    "  img = tf.image.resize(img, size=(IMAGE_SIZE, IMAGE_SIZE))\n",
    "  if label is not None:\n",
    "    return img, label\n",
    "  else:\n",
    "    return img"
   ]
  },
  {
   "cell_type": "code",
   "execution_count": 8,
   "metadata": {},
   "outputs": [],
   "source": [
    "BATCH_SIZE = 32 #@param\n",
    "\n",
    "ds_train = (tf.data.Dataset.from_tensor_slices((X_train, y_train))\n",
    "            .map(preprocess_image, num_parallel_calls=AUTOTUNE)\n",
    "            .shuffle(n_train)\n",
    "            .batch(BATCH_SIZE)\n",
    "            .prefetch(buffer_size=AUTOTUNE)\n",
    "           )\n",
    "ds_dev  = (tf.data.Dataset.from_tensor_slices((X_dev, y_dev))\n",
    "           .map(preprocess_image, num_parallel_calls=AUTOTUNE)\n",
    "           .shuffle(n_dev)\n",
    "           .batch(BATCH_SIZE)\n",
    "           .prefetch(buffer_size=AUTOTUNE)\n",
    "          )"
   ]
  },
  {
   "cell_type": "markdown",
   "metadata": {},
   "source": [
    "# Model"
   ]
  },
  {
   "cell_type": "code",
   "execution_count": 9,
   "metadata": {},
   "outputs": [
    {
     "name": "stdout",
     "output_type": "stream",
     "text": [
      "Downloading data from https://github.com/JonathanCMitchell/mobilenet_v2_keras/releases/download/v1.1/mobilenet_v2_weights_tf_dim_ordering_tf_kernels_1.0_96_no_top.h5\n",
      "9412608/9406464 [==============================] - 0s 0us/step\n",
      "Model: \"mobilenetv2_1.00_96\"\n",
      "__________________________________________________________________________________________________\n",
      "Layer (type)                    Output Shape         Param #     Connected to                     \n",
      "==================================================================================================\n",
      "input_1 (InputLayer)            [(None, 96, 96, 3)]  0                                            \n",
      "__________________________________________________________________________________________________\n",
      "Conv1_pad (ZeroPadding2D)       (None, 97, 97, 3)    0           input_1[0][0]                    \n",
      "__________________________________________________________________________________________________\n",
      "Conv1 (Conv2D)                  (None, 48, 48, 32)   864         Conv1_pad[0][0]                  \n",
      "__________________________________________________________________________________________________\n",
      "bn_Conv1 (BatchNormalizationV1) (None, 48, 48, 32)   128         Conv1[0][0]                      \n",
      "__________________________________________________________________________________________________\n",
      "Conv1_relu (ReLU)               (None, 48, 48, 32)   0           bn_Conv1[0][0]                   \n",
      "__________________________________________________________________________________________________\n",
      "expanded_conv_depthwise (Depthw (None, 48, 48, 32)   288         Conv1_relu[0][0]                 \n",
      "__________________________________________________________________________________________________\n",
      "expanded_conv_depthwise_BN (Bat (None, 48, 48, 32)   128         expanded_conv_depthwise[0][0]    \n",
      "__________________________________________________________________________________________________\n",
      "expanded_conv_depthwise_relu (R (None, 48, 48, 32)   0           expanded_conv_depthwise_BN[0][0] \n",
      "__________________________________________________________________________________________________\n",
      "expanded_conv_project (Conv2D)  (None, 48, 48, 16)   512         expanded_conv_depthwise_relu[0][0\n",
      "__________________________________________________________________________________________________\n",
      "expanded_conv_project_BN (Batch (None, 48, 48, 16)   64          expanded_conv_project[0][0]      \n",
      "__________________________________________________________________________________________________\n",
      "block_1_expand (Conv2D)         (None, 48, 48, 96)   1536        expanded_conv_project_BN[0][0]   \n",
      "__________________________________________________________________________________________________\n",
      "block_1_expand_BN (BatchNormali (None, 48, 48, 96)   384         block_1_expand[0][0]             \n",
      "__________________________________________________________________________________________________\n",
      "block_1_expand_relu (ReLU)      (None, 48, 48, 96)   0           block_1_expand_BN[0][0]          \n",
      "__________________________________________________________________________________________________\n",
      "block_1_pad (ZeroPadding2D)     (None, 49, 49, 96)   0           block_1_expand_relu[0][0]        \n",
      "__________________________________________________________________________________________________\n",
      "block_1_depthwise (DepthwiseCon (None, 24, 24, 96)   864         block_1_pad[0][0]                \n",
      "__________________________________________________________________________________________________\n",
      "block_1_depthwise_BN (BatchNorm (None, 24, 24, 96)   384         block_1_depthwise[0][0]          \n",
      "__________________________________________________________________________________________________\n",
      "block_1_depthwise_relu (ReLU)   (None, 24, 24, 96)   0           block_1_depthwise_BN[0][0]       \n",
      "__________________________________________________________________________________________________\n",
      "block_1_project (Conv2D)        (None, 24, 24, 24)   2304        block_1_depthwise_relu[0][0]     \n",
      "__________________________________________________________________________________________________\n",
      "block_1_project_BN (BatchNormal (None, 24, 24, 24)   96          block_1_project[0][0]            \n",
      "__________________________________________________________________________________________________\n",
      "block_2_expand (Conv2D)         (None, 24, 24, 144)  3456        block_1_project_BN[0][0]         \n",
      "__________________________________________________________________________________________________\n",
      "block_2_expand_BN (BatchNormali (None, 24, 24, 144)  576         block_2_expand[0][0]             \n",
      "__________________________________________________________________________________________________\n",
      "block_2_expand_relu (ReLU)      (None, 24, 24, 144)  0           block_2_expand_BN[0][0]          \n",
      "__________________________________________________________________________________________________\n",
      "block_2_depthwise (DepthwiseCon (None, 24, 24, 144)  1296        block_2_expand_relu[0][0]        \n",
      "__________________________________________________________________________________________________\n",
      "block_2_depthwise_BN (BatchNorm (None, 24, 24, 144)  576         block_2_depthwise[0][0]          \n",
      "__________________________________________________________________________________________________\n",
      "block_2_depthwise_relu (ReLU)   (None, 24, 24, 144)  0           block_2_depthwise_BN[0][0]       \n",
      "__________________________________________________________________________________________________\n",
      "block_2_project (Conv2D)        (None, 24, 24, 24)   3456        block_2_depthwise_relu[0][0]     \n",
      "__________________________________________________________________________________________________\n",
      "block_2_project_BN (BatchNormal (None, 24, 24, 24)   96          block_2_project[0][0]            \n",
      "__________________________________________________________________________________________________\n",
      "block_2_add (Add)               (None, 24, 24, 24)   0           block_1_project_BN[0][0]         \n",
      "                                                                 block_2_project_BN[0][0]         \n",
      "__________________________________________________________________________________________________\n",
      "block_3_expand (Conv2D)         (None, 24, 24, 144)  3456        block_2_add[0][0]                \n",
      "__________________________________________________________________________________________________\n",
      "block_3_expand_BN (BatchNormali (None, 24, 24, 144)  576         block_3_expand[0][0]             \n",
      "__________________________________________________________________________________________________\n",
      "block_3_expand_relu (ReLU)      (None, 24, 24, 144)  0           block_3_expand_BN[0][0]          \n",
      "__________________________________________________________________________________________________\n",
      "block_3_pad (ZeroPadding2D)     (None, 25, 25, 144)  0           block_3_expand_relu[0][0]        \n",
      "__________________________________________________________________________________________________\n",
      "block_3_depthwise (DepthwiseCon (None, 12, 12, 144)  1296        block_3_pad[0][0]                \n",
      "__________________________________________________________________________________________________\n",
      "block_3_depthwise_BN (BatchNorm (None, 12, 12, 144)  576         block_3_depthwise[0][0]          \n",
      "__________________________________________________________________________________________________\n",
      "block_3_depthwise_relu (ReLU)   (None, 12, 12, 144)  0           block_3_depthwise_BN[0][0]       \n",
      "__________________________________________________________________________________________________\n",
      "block_3_project (Conv2D)        (None, 12, 12, 32)   4608        block_3_depthwise_relu[0][0]     \n",
      "__________________________________________________________________________________________________\n",
      "block_3_project_BN (BatchNormal (None, 12, 12, 32)   128         block_3_project[0][0]            \n",
      "__________________________________________________________________________________________________\n",
      "block_4_expand (Conv2D)         (None, 12, 12, 192)  6144        block_3_project_BN[0][0]         \n",
      "__________________________________________________________________________________________________\n",
      "block_4_expand_BN (BatchNormali (None, 12, 12, 192)  768         block_4_expand[0][0]             \n",
      "__________________________________________________________________________________________________\n",
      "block_4_expand_relu (ReLU)      (None, 12, 12, 192)  0           block_4_expand_BN[0][0]          \n",
      "__________________________________________________________________________________________________\n",
      "block_4_depthwise (DepthwiseCon (None, 12, 12, 192)  1728        block_4_expand_relu[0][0]        \n",
      "__________________________________________________________________________________________________\n",
      "block_4_depthwise_BN (BatchNorm (None, 12, 12, 192)  768         block_4_depthwise[0][0]          \n",
      "__________________________________________________________________________________________________\n",
      "block_4_depthwise_relu (ReLU)   (None, 12, 12, 192)  0           block_4_depthwise_BN[0][0]       \n",
      "__________________________________________________________________________________________________\n",
      "block_4_project (Conv2D)        (None, 12, 12, 32)   6144        block_4_depthwise_relu[0][0]     \n",
      "__________________________________________________________________________________________________\n",
      "block_4_project_BN (BatchNormal (None, 12, 12, 32)   128         block_4_project[0][0]            \n",
      "__________________________________________________________________________________________________\n",
      "block_4_add (Add)               (None, 12, 12, 32)   0           block_3_project_BN[0][0]         \n",
      "                                                                 block_4_project_BN[0][0]         \n",
      "__________________________________________________________________________________________________\n",
      "block_5_expand (Conv2D)         (None, 12, 12, 192)  6144        block_4_add[0][0]                \n",
      "__________________________________________________________________________________________________\n",
      "block_5_expand_BN (BatchNormali (None, 12, 12, 192)  768         block_5_expand[0][0]             \n",
      "__________________________________________________________________________________________________\n",
      "block_5_expand_relu (ReLU)      (None, 12, 12, 192)  0           block_5_expand_BN[0][0]          \n",
      "__________________________________________________________________________________________________\n",
      "block_5_depthwise (DepthwiseCon (None, 12, 12, 192)  1728        block_5_expand_relu[0][0]        \n",
      "__________________________________________________________________________________________________\n",
      "block_5_depthwise_BN (BatchNorm (None, 12, 12, 192)  768         block_5_depthwise[0][0]          \n",
      "__________________________________________________________________________________________________\n",
      "block_5_depthwise_relu (ReLU)   (None, 12, 12, 192)  0           block_5_depthwise_BN[0][0]       \n",
      "__________________________________________________________________________________________________\n",
      "block_5_project (Conv2D)        (None, 12, 12, 32)   6144        block_5_depthwise_relu[0][0]     \n",
      "__________________________________________________________________________________________________\n",
      "block_5_project_BN (BatchNormal (None, 12, 12, 32)   128         block_5_project[0][0]            \n",
      "__________________________________________________________________________________________________\n",
      "block_5_add (Add)               (None, 12, 12, 32)   0           block_4_add[0][0]                \n",
      "                                                                 block_5_project_BN[0][0]         \n",
      "__________________________________________________________________________________________________\n",
      "block_6_expand (Conv2D)         (None, 12, 12, 192)  6144        block_5_add[0][0]                \n",
      "__________________________________________________________________________________________________\n",
      "block_6_expand_BN (BatchNormali (None, 12, 12, 192)  768         block_6_expand[0][0]             \n",
      "__________________________________________________________________________________________________\n",
      "block_6_expand_relu (ReLU)      (None, 12, 12, 192)  0           block_6_expand_BN[0][0]          \n",
      "__________________________________________________________________________________________________\n",
      "block_6_pad (ZeroPadding2D)     (None, 13, 13, 192)  0           block_6_expand_relu[0][0]        \n",
      "__________________________________________________________________________________________________\n",
      "block_6_depthwise (DepthwiseCon (None, 6, 6, 192)    1728        block_6_pad[0][0]                \n",
      "__________________________________________________________________________________________________\n",
      "block_6_depthwise_BN (BatchNorm (None, 6, 6, 192)    768         block_6_depthwise[0][0]          \n",
      "__________________________________________________________________________________________________\n",
      "block_6_depthwise_relu (ReLU)   (None, 6, 6, 192)    0           block_6_depthwise_BN[0][0]       \n",
      "__________________________________________________________________________________________________\n",
      "block_6_project (Conv2D)        (None, 6, 6, 64)     12288       block_6_depthwise_relu[0][0]     \n",
      "__________________________________________________________________________________________________\n",
      "block_6_project_BN (BatchNormal (None, 6, 6, 64)     256         block_6_project[0][0]            \n",
      "__________________________________________________________________________________________________\n",
      "block_7_expand (Conv2D)         (None, 6, 6, 384)    24576       block_6_project_BN[0][0]         \n",
      "__________________________________________________________________________________________________\n",
      "block_7_expand_BN (BatchNormali (None, 6, 6, 384)    1536        block_7_expand[0][0]             \n",
      "__________________________________________________________________________________________________\n",
      "block_7_expand_relu (ReLU)      (None, 6, 6, 384)    0           block_7_expand_BN[0][0]          \n",
      "__________________________________________________________________________________________________\n",
      "block_7_depthwise (DepthwiseCon (None, 6, 6, 384)    3456        block_7_expand_relu[0][0]        \n",
      "__________________________________________________________________________________________________\n",
      "block_7_depthwise_BN (BatchNorm (None, 6, 6, 384)    1536        block_7_depthwise[0][0]          \n",
      "__________________________________________________________________________________________________\n",
      "block_7_depthwise_relu (ReLU)   (None, 6, 6, 384)    0           block_7_depthwise_BN[0][0]       \n",
      "__________________________________________________________________________________________________\n",
      "block_7_project (Conv2D)        (None, 6, 6, 64)     24576       block_7_depthwise_relu[0][0]     \n",
      "__________________________________________________________________________________________________\n",
      "block_7_project_BN (BatchNormal (None, 6, 6, 64)     256         block_7_project[0][0]            \n",
      "__________________________________________________________________________________________________\n",
      "block_7_add (Add)               (None, 6, 6, 64)     0           block_6_project_BN[0][0]         \n",
      "                                                                 block_7_project_BN[0][0]         \n",
      "__________________________________________________________________________________________________\n",
      "block_8_expand (Conv2D)         (None, 6, 6, 384)    24576       block_7_add[0][0]                \n",
      "__________________________________________________________________________________________________\n",
      "block_8_expand_BN (BatchNormali (None, 6, 6, 384)    1536        block_8_expand[0][0]             \n",
      "__________________________________________________________________________________________________\n",
      "block_8_expand_relu (ReLU)      (None, 6, 6, 384)    0           block_8_expand_BN[0][0]          \n",
      "__________________________________________________________________________________________________\n",
      "block_8_depthwise (DepthwiseCon (None, 6, 6, 384)    3456        block_8_expand_relu[0][0]        \n",
      "__________________________________________________________________________________________________\n",
      "block_8_depthwise_BN (BatchNorm (None, 6, 6, 384)    1536        block_8_depthwise[0][0]          \n",
      "__________________________________________________________________________________________________\n",
      "block_8_depthwise_relu (ReLU)   (None, 6, 6, 384)    0           block_8_depthwise_BN[0][0]       \n",
      "__________________________________________________________________________________________________\n",
      "block_8_project (Conv2D)        (None, 6, 6, 64)     24576       block_8_depthwise_relu[0][0]     \n",
      "__________________________________________________________________________________________________\n",
      "block_8_project_BN (BatchNormal (None, 6, 6, 64)     256         block_8_project[0][0]            \n",
      "__________________________________________________________________________________________________\n",
      "block_8_add (Add)               (None, 6, 6, 64)     0           block_7_add[0][0]                \n",
      "                                                                 block_8_project_BN[0][0]         \n",
      "__________________________________________________________________________________________________\n",
      "block_9_expand (Conv2D)         (None, 6, 6, 384)    24576       block_8_add[0][0]                \n",
      "__________________________________________________________________________________________________\n",
      "block_9_expand_BN (BatchNormali (None, 6, 6, 384)    1536        block_9_expand[0][0]             \n",
      "__________________________________________________________________________________________________\n",
      "block_9_expand_relu (ReLU)      (None, 6, 6, 384)    0           block_9_expand_BN[0][0]          \n",
      "__________________________________________________________________________________________________\n",
      "block_9_depthwise (DepthwiseCon (None, 6, 6, 384)    3456        block_9_expand_relu[0][0]        \n",
      "__________________________________________________________________________________________________\n",
      "block_9_depthwise_BN (BatchNorm (None, 6, 6, 384)    1536        block_9_depthwise[0][0]          \n",
      "__________________________________________________________________________________________________\n",
      "block_9_depthwise_relu (ReLU)   (None, 6, 6, 384)    0           block_9_depthwise_BN[0][0]       \n",
      "__________________________________________________________________________________________________\n",
      "block_9_project (Conv2D)        (None, 6, 6, 64)     24576       block_9_depthwise_relu[0][0]     \n",
      "__________________________________________________________________________________________________\n",
      "block_9_project_BN (BatchNormal (None, 6, 6, 64)     256         block_9_project[0][0]            \n",
      "__________________________________________________________________________________________________\n",
      "block_9_add (Add)               (None, 6, 6, 64)     0           block_8_add[0][0]                \n",
      "                                                                 block_9_project_BN[0][0]         \n",
      "__________________________________________________________________________________________________\n",
      "block_10_expand (Conv2D)        (None, 6, 6, 384)    24576       block_9_add[0][0]                \n",
      "__________________________________________________________________________________________________\n",
      "block_10_expand_BN (BatchNormal (None, 6, 6, 384)    1536        block_10_expand[0][0]            \n",
      "__________________________________________________________________________________________________\n",
      "block_10_expand_relu (ReLU)     (None, 6, 6, 384)    0           block_10_expand_BN[0][0]         \n",
      "__________________________________________________________________________________________________\n",
      "block_10_depthwise (DepthwiseCo (None, 6, 6, 384)    3456        block_10_expand_relu[0][0]       \n",
      "__________________________________________________________________________________________________\n",
      "block_10_depthwise_BN (BatchNor (None, 6, 6, 384)    1536        block_10_depthwise[0][0]         \n",
      "__________________________________________________________________________________________________\n",
      "block_10_depthwise_relu (ReLU)  (None, 6, 6, 384)    0           block_10_depthwise_BN[0][0]      \n",
      "__________________________________________________________________________________________________\n",
      "block_10_project (Conv2D)       (None, 6, 6, 96)     36864       block_10_depthwise_relu[0][0]    \n",
      "__________________________________________________________________________________________________\n",
      "block_10_project_BN (BatchNorma (None, 6, 6, 96)     384         block_10_project[0][0]           \n",
      "__________________________________________________________________________________________________\n",
      "block_11_expand (Conv2D)        (None, 6, 6, 576)    55296       block_10_project_BN[0][0]        \n",
      "__________________________________________________________________________________________________\n",
      "block_11_expand_BN (BatchNormal (None, 6, 6, 576)    2304        block_11_expand[0][0]            \n",
      "__________________________________________________________________________________________________\n",
      "block_11_expand_relu (ReLU)     (None, 6, 6, 576)    0           block_11_expand_BN[0][0]         \n",
      "__________________________________________________________________________________________________\n",
      "block_11_depthwise (DepthwiseCo (None, 6, 6, 576)    5184        block_11_expand_relu[0][0]       \n",
      "__________________________________________________________________________________________________\n",
      "block_11_depthwise_BN (BatchNor (None, 6, 6, 576)    2304        block_11_depthwise[0][0]         \n",
      "__________________________________________________________________________________________________\n",
      "block_11_depthwise_relu (ReLU)  (None, 6, 6, 576)    0           block_11_depthwise_BN[0][0]      \n",
      "__________________________________________________________________________________________________\n",
      "block_11_project (Conv2D)       (None, 6, 6, 96)     55296       block_11_depthwise_relu[0][0]    \n",
      "__________________________________________________________________________________________________\n",
      "block_11_project_BN (BatchNorma (None, 6, 6, 96)     384         block_11_project[0][0]           \n",
      "__________________________________________________________________________________________________\n",
      "block_11_add (Add)              (None, 6, 6, 96)     0           block_10_project_BN[0][0]        \n",
      "                                                                 block_11_project_BN[0][0]        \n",
      "__________________________________________________________________________________________________\n",
      "block_12_expand (Conv2D)        (None, 6, 6, 576)    55296       block_11_add[0][0]               \n",
      "__________________________________________________________________________________________________\n",
      "block_12_expand_BN (BatchNormal (None, 6, 6, 576)    2304        block_12_expand[0][0]            \n",
      "__________________________________________________________________________________________________\n",
      "block_12_expand_relu (ReLU)     (None, 6, 6, 576)    0           block_12_expand_BN[0][0]         \n",
      "__________________________________________________________________________________________________\n",
      "block_12_depthwise (DepthwiseCo (None, 6, 6, 576)    5184        block_12_expand_relu[0][0]       \n",
      "__________________________________________________________________________________________________\n",
      "block_12_depthwise_BN (BatchNor (None, 6, 6, 576)    2304        block_12_depthwise[0][0]         \n",
      "__________________________________________________________________________________________________\n",
      "block_12_depthwise_relu (ReLU)  (None, 6, 6, 576)    0           block_12_depthwise_BN[0][0]      \n",
      "__________________________________________________________________________________________________\n",
      "block_12_project (Conv2D)       (None, 6, 6, 96)     55296       block_12_depthwise_relu[0][0]    \n",
      "__________________________________________________________________________________________________\n",
      "block_12_project_BN (BatchNorma (None, 6, 6, 96)     384         block_12_project[0][0]           \n",
      "__________________________________________________________________________________________________\n",
      "block_12_add (Add)              (None, 6, 6, 96)     0           block_11_add[0][0]               \n",
      "                                                                 block_12_project_BN[0][0]        \n",
      "__________________________________________________________________________________________________\n",
      "block_13_expand (Conv2D)        (None, 6, 6, 576)    55296       block_12_add[0][0]               \n",
      "__________________________________________________________________________________________________\n",
      "block_13_expand_BN (BatchNormal (None, 6, 6, 576)    2304        block_13_expand[0][0]            \n",
      "__________________________________________________________________________________________________\n",
      "block_13_expand_relu (ReLU)     (None, 6, 6, 576)    0           block_13_expand_BN[0][0]         \n",
      "__________________________________________________________________________________________________\n",
      "block_13_pad (ZeroPadding2D)    (None, 7, 7, 576)    0           block_13_expand_relu[0][0]       \n",
      "__________________________________________________________________________________________________\n",
      "block_13_depthwise (DepthwiseCo (None, 3, 3, 576)    5184        block_13_pad[0][0]               \n",
      "__________________________________________________________________________________________________\n",
      "block_13_depthwise_BN (BatchNor (None, 3, 3, 576)    2304        block_13_depthwise[0][0]         \n",
      "__________________________________________________________________________________________________\n",
      "block_13_depthwise_relu (ReLU)  (None, 3, 3, 576)    0           block_13_depthwise_BN[0][0]      \n",
      "__________________________________________________________________________________________________\n",
      "block_13_project (Conv2D)       (None, 3, 3, 160)    92160       block_13_depthwise_relu[0][0]    \n",
      "__________________________________________________________________________________________________\n",
      "block_13_project_BN (BatchNorma (None, 3, 3, 160)    640         block_13_project[0][0]           \n",
      "__________________________________________________________________________________________________\n",
      "block_14_expand (Conv2D)        (None, 3, 3, 960)    153600      block_13_project_BN[0][0]        \n",
      "__________________________________________________________________________________________________\n",
      "block_14_expand_BN (BatchNormal (None, 3, 3, 960)    3840        block_14_expand[0][0]            \n",
      "__________________________________________________________________________________________________\n",
      "block_14_expand_relu (ReLU)     (None, 3, 3, 960)    0           block_14_expand_BN[0][0]         \n",
      "__________________________________________________________________________________________________\n",
      "block_14_depthwise (DepthwiseCo (None, 3, 3, 960)    8640        block_14_expand_relu[0][0]       \n",
      "__________________________________________________________________________________________________\n",
      "block_14_depthwise_BN (BatchNor (None, 3, 3, 960)    3840        block_14_depthwise[0][0]         \n",
      "__________________________________________________________________________________________________\n",
      "block_14_depthwise_relu (ReLU)  (None, 3, 3, 960)    0           block_14_depthwise_BN[0][0]      \n",
      "__________________________________________________________________________________________________\n",
      "block_14_project (Conv2D)       (None, 3, 3, 160)    153600      block_14_depthwise_relu[0][0]    \n",
      "__________________________________________________________________________________________________\n",
      "block_14_project_BN (BatchNorma (None, 3, 3, 160)    640         block_14_project[0][0]           \n",
      "__________________________________________________________________________________________________\n",
      "block_14_add (Add)              (None, 3, 3, 160)    0           block_13_project_BN[0][0]        \n",
      "                                                                 block_14_project_BN[0][0]        \n",
      "__________________________________________________________________________________________________\n",
      "block_15_expand (Conv2D)        (None, 3, 3, 960)    153600      block_14_add[0][0]               \n",
      "__________________________________________________________________________________________________\n",
      "block_15_expand_BN (BatchNormal (None, 3, 3, 960)    3840        block_15_expand[0][0]            \n",
      "__________________________________________________________________________________________________\n",
      "block_15_expand_relu (ReLU)     (None, 3, 3, 960)    0           block_15_expand_BN[0][0]         \n",
      "__________________________________________________________________________________________________\n",
      "block_15_depthwise (DepthwiseCo (None, 3, 3, 960)    8640        block_15_expand_relu[0][0]       \n",
      "__________________________________________________________________________________________________\n",
      "block_15_depthwise_BN (BatchNor (None, 3, 3, 960)    3840        block_15_depthwise[0][0]         \n",
      "__________________________________________________________________________________________________\n",
      "block_15_depthwise_relu (ReLU)  (None, 3, 3, 960)    0           block_15_depthwise_BN[0][0]      \n",
      "__________________________________________________________________________________________________\n",
      "block_15_project (Conv2D)       (None, 3, 3, 160)    153600      block_15_depthwise_relu[0][0]    \n",
      "__________________________________________________________________________________________________\n",
      "block_15_project_BN (BatchNorma (None, 3, 3, 160)    640         block_15_project[0][0]           \n",
      "__________________________________________________________________________________________________\n",
      "block_15_add (Add)              (None, 3, 3, 160)    0           block_14_add[0][0]               \n",
      "                                                                 block_15_project_BN[0][0]        \n",
      "__________________________________________________________________________________________________\n",
      "block_16_expand (Conv2D)        (None, 3, 3, 960)    153600      block_15_add[0][0]               \n",
      "__________________________________________________________________________________________________\n",
      "block_16_expand_BN (BatchNormal (None, 3, 3, 960)    3840        block_16_expand[0][0]            \n",
      "__________________________________________________________________________________________________\n",
      "block_16_expand_relu (ReLU)     (None, 3, 3, 960)    0           block_16_expand_BN[0][0]         \n",
      "__________________________________________________________________________________________________\n",
      "block_16_depthwise (DepthwiseCo (None, 3, 3, 960)    8640        block_16_expand_relu[0][0]       \n",
      "__________________________________________________________________________________________________\n",
      "block_16_depthwise_BN (BatchNor (None, 3, 3, 960)    3840        block_16_depthwise[0][0]         \n",
      "__________________________________________________________________________________________________\n",
      "block_16_depthwise_relu (ReLU)  (None, 3, 3, 960)    0           block_16_depthwise_BN[0][0]      \n",
      "__________________________________________________________________________________________________\n",
      "block_16_project (Conv2D)       (None, 3, 3, 320)    307200      block_16_depthwise_relu[0][0]    \n",
      "__________________________________________________________________________________________________\n",
      "block_16_project_BN (BatchNorma (None, 3, 3, 320)    1280        block_16_project[0][0]           \n",
      "__________________________________________________________________________________________________\n",
      "Conv_1 (Conv2D)                 (None, 3, 3, 1280)   409600      block_16_project_BN[0][0]        \n",
      "__________________________________________________________________________________________________\n",
      "Conv_1_bn (BatchNormalizationV1 (None, 3, 3, 1280)   5120        Conv_1[0][0]                     \n",
      "__________________________________________________________________________________________________\n",
      "out_relu (ReLU)                 (None, 3, 3, 1280)   0           Conv_1_bn[0][0]                  \n",
      "==================================================================================================\n",
      "Total params: 2,257,984\n",
      "Trainable params: 0\n",
      "Non-trainable params: 2,257,984\n",
      "__________________________________________________________________________________________________\n"
     ]
    }
   ],
   "source": [
    "base_model = tf.keras.applications.MobileNetV2(\n",
    "    input_shape = (IMAGE_SIZE, IMAGE_SIZE, 3),\n",
    "    include_top = False,\n",
    "    weights = 'imagenet'\n",
    ")\n",
    "base_model.trainable = False\n",
    "base_model.summary()"
   ]
  },
  {
   "cell_type": "code",
   "execution_count": 10,
   "metadata": {},
   "outputs": [],
   "source": [
    "# My layers\n",
    "pooling_layer = tf.keras.layers.GlobalMaxPooling2D()\n",
    "final_layer = tf.keras.layers.Dense(units=1, activation='sigmoid')"
   ]
  },
  {
   "cell_type": "code",
   "execution_count": 11,
   "metadata": {},
   "outputs": [],
   "source": [
    "model = tf.keras.Sequential([\n",
    "    base_model,\n",
    "    pooling_layer,\n",
    "    final_layer\n",
    "])"
   ]
  },
  {
   "cell_type": "code",
   "execution_count": 12,
   "metadata": {},
   "outputs": [],
   "source": [
    "learning_rate = 0.0001\n",
    "model.compile(\n",
    "    optimizer=tf.optimizers.Adam(learning_rate=learning_rate),\n",
    "    loss='binary_crossentropy',\n",
    "    metrics=['accuracy']\n",
    ")"
   ]
  },
  {
   "cell_type": "markdown",
   "metadata": {},
   "source": [
    "# Training"
   ]
  },
  {
   "cell_type": "code",
   "execution_count": 13,
   "metadata": {},
   "outputs": [
    {
     "name": "stdout",
     "output_type": "stream",
     "text": [
      "Epoch 1/32\n",
      "493/493 [==============================] - 38s 78ms/step - loss: 0.4497 - accuracy: 0.8267 - val_loss: 0.4474 - val_accuracy: 0.7777\n",
      "Epoch 2/32\n",
      "493/493 [==============================] - 18s 37ms/step - loss: 0.1985 - accuracy: 0.9213 - val_loss: 0.4208 - val_accuracy: 0.8080\n",
      "Epoch 3/32\n",
      "493/493 [==============================] - 17s 34ms/step - loss: 0.1631 - accuracy: 0.9360 - val_loss: 0.3448 - val_accuracy: 0.8491\n",
      "Epoch 4/32\n",
      "493/493 [==============================] - 17s 34ms/step - loss: 0.1392 - accuracy: 0.9439 - val_loss: 0.2530 - val_accuracy: 0.8914\n",
      "Epoch 5/32\n",
      "493/493 [==============================] - 16s 33ms/step - loss: 0.1328 - accuracy: 0.9492 - val_loss: 0.2614 - val_accuracy: 0.8874\n",
      "Epoch 6/32\n",
      "493/493 [==============================] - 17s 35ms/step - loss: 0.1195 - accuracy: 0.9525 - val_loss: 0.2540 - val_accuracy: 0.8943\n",
      "Epoch 7/32\n",
      "493/493 [==============================] - 17s 35ms/step - loss: 0.1169 - accuracy: 0.9546 - val_loss: 0.2691 - val_accuracy: 0.8897\n",
      "Epoch 8/32\n",
      "493/493 [==============================] - 16s 33ms/step - loss: 0.1150 - accuracy: 0.9585 - val_loss: 0.1814 - val_accuracy: 0.9280\n",
      "Epoch 9/32\n",
      "493/493 [==============================] - 17s 34ms/step - loss: 0.1058 - accuracy: 0.9597 - val_loss: 0.1089 - val_accuracy: 0.9611\n",
      "Epoch 10/32\n",
      "493/493 [==============================] - 17s 34ms/step - loss: 0.1062 - accuracy: 0.9595 - val_loss: 0.0861 - val_accuracy: 0.9703\n",
      "Epoch 11/32\n",
      "493/493 [==============================] - 17s 35ms/step - loss: 0.1002 - accuracy: 0.9618 - val_loss: 0.0982 - val_accuracy: 0.9640\n",
      "Epoch 12/32\n",
      "493/493 [==============================] - 17s 34ms/step - loss: 0.1115 - accuracy: 0.9615 - val_loss: 0.0748 - val_accuracy: 0.9754\n",
      "Epoch 13/32\n",
      "493/493 [==============================] - 16s 33ms/step - loss: 0.0992 - accuracy: 0.9625 - val_loss: 0.0706 - val_accuracy: 0.9731\n",
      "Epoch 14/32\n",
      "493/493 [==============================] - 18s 36ms/step - loss: 0.1006 - accuracy: 0.9605 - val_loss: 0.0711 - val_accuracy: 0.9731\n",
      "Epoch 15/32\n",
      "493/493 [==============================] - 17s 34ms/step - loss: 0.0960 - accuracy: 0.9624 - val_loss: 0.0784 - val_accuracy: 0.9697\n",
      "Epoch 16/32\n",
      "493/493 [==============================] - 18s 37ms/step - loss: 0.0961 - accuracy: 0.9646 - val_loss: 0.0711 - val_accuracy: 0.9714\n",
      "Epoch 17/32\n",
      "493/493 [==============================] - 17s 34ms/step - loss: 0.0946 - accuracy: 0.9632 - val_loss: 0.0684 - val_accuracy: 0.9737\n",
      "Epoch 18/32\n",
      "493/493 [==============================] - 17s 34ms/step - loss: 0.0924 - accuracy: 0.9664 - val_loss: 0.0706 - val_accuracy: 0.9720\n",
      "Epoch 19/32\n",
      "493/493 [==============================] - 17s 34ms/step - loss: 0.0958 - accuracy: 0.9648 - val_loss: 0.0662 - val_accuracy: 0.9749\n",
      "Epoch 20/32\n",
      "493/493 [==============================] - 17s 35ms/step - loss: 0.0926 - accuracy: 0.9647 - val_loss: 0.0703 - val_accuracy: 0.9731\n",
      "Epoch 21/32\n",
      "493/493 [==============================] - 18s 37ms/step - loss: 0.0843 - accuracy: 0.9672 - val_loss: 0.0655 - val_accuracy: 0.9743\n",
      "Epoch 22/32\n",
      "493/493 [==============================] - 17s 35ms/step - loss: 0.0867 - accuracy: 0.9670 - val_loss: 0.0730 - val_accuracy: 0.9720\n",
      "Epoch 23/32\n",
      "493/493 [==============================] - 17s 34ms/step - loss: 0.0855 - accuracy: 0.9662 - val_loss: 0.0684 - val_accuracy: 0.9754\n",
      "Epoch 24/32\n",
      "493/493 [==============================] - 17s 34ms/step - loss: 0.0830 - accuracy: 0.9682 - val_loss: 0.0645 - val_accuracy: 0.9749\n",
      "Epoch 25/32\n",
      "493/493 [==============================] - 17s 35ms/step - loss: 0.0829 - accuracy: 0.9673 - val_loss: 0.0653 - val_accuracy: 0.9771\n",
      "Epoch 26/32\n",
      "493/493 [==============================] - 17s 34ms/step - loss: 0.0840 - accuracy: 0.9695 - val_loss: 0.0637 - val_accuracy: 0.9771\n",
      "Epoch 27/32\n",
      "493/493 [==============================] - 17s 34ms/step - loss: 0.0869 - accuracy: 0.9692 - val_loss: 0.0649 - val_accuracy: 0.9766\n",
      "Epoch 28/32\n",
      "493/493 [==============================] - 18s 37ms/step - loss: 0.0809 - accuracy: 0.9683 - val_loss: 0.0624 - val_accuracy: 0.9789\n",
      "Epoch 29/32\n",
      "493/493 [==============================] - 17s 35ms/step - loss: 0.0767 - accuracy: 0.9699 - val_loss: 0.0618 - val_accuracy: 0.9777\n",
      "Epoch 30/32\n",
      "493/493 [==============================] - 18s 37ms/step - loss: 0.0806 - accuracy: 0.9686 - val_loss: 0.0619 - val_accuracy: 0.9777\n",
      "Epoch 31/32\n",
      "493/493 [==============================] - 19s 38ms/step - loss: 0.0800 - accuracy: 0.9694 - val_loss: 0.0622 - val_accuracy: 0.9777\n",
      "Epoch 32/32\n",
      "493/493 [==============================] - 19s 38ms/step - loss: 0.0764 - accuracy: 0.9697 - val_loss: 0.0640 - val_accuracy: 0.9766\n"
     ]
    },
    {
     "data": {
      "text/plain": [
       "<tensorflow.python.keras.callbacks.History at 0x7f814274df28>"
      ]
     },
     "execution_count": 13,
     "metadata": {},
     "output_type": "execute_result"
    }
   ],
   "source": [
    "initial_epochs = 32\n",
    "steps_per_epoch = (tf.math.ceil(n_train/BATCH_SIZE))\n",
    "model.fit(\n",
    "    ds_train.repeat(),\n",
    "    epochs=initial_epochs,\n",
    "    steps_per_epoch=steps_per_epoch,\n",
    "    validation_data=ds_dev\n",
    ")"
   ]
  },
  {
   "cell_type": "markdown",
   "metadata": {},
   "source": [
    "# Fine Tune"
   ]
  },
  {
   "cell_type": "code",
   "execution_count": 14,
   "metadata": {},
   "outputs": [
    {
     "data": {
      "text/plain": [
       "155"
      ]
     },
     "execution_count": 14,
     "metadata": {},
     "output_type": "execute_result"
    }
   ],
   "source": [
    "base_model.trainable = True\n",
    "len(base_model.layers)"
   ]
  },
  {
   "cell_type": "code",
   "execution_count": 15,
   "metadata": {},
   "outputs": [],
   "source": [
    "fine_tune_at = 100\n",
    "for layer in base_model.layers[:fine_tune_at]:\n",
    "  layer.trainable =  False"
   ]
  },
  {
   "cell_type": "code",
   "execution_count": 16,
   "metadata": {},
   "outputs": [],
   "source": [
    "model.compile(\n",
    "    optimizer=tf.optimizers.Adam(learning_rate=learning_rate/10),\n",
    "    loss='binary_crossentropy',\n",
    "    metrics=['accuracy']\n",
    ")"
   ]
  },
  {
   "cell_type": "code",
   "execution_count": 17,
   "metadata": {},
   "outputs": [
    {
     "name": "stdout",
     "output_type": "stream",
     "text": [
      "Epoch 33/64\n",
      "493/493 [==============================] - 37s 76ms/step - loss: 0.0713 - accuracy: 0.9724 - val_loss: 0.0499 - val_accuracy: 0.9834\n",
      "Epoch 34/64\n",
      "493/493 [==============================] - 23s 47ms/step - loss: 0.0476 - accuracy: 0.9825 - val_loss: 0.0436 - val_accuracy: 0.9851\n",
      "Epoch 35/64\n",
      "493/493 [==============================] - 21s 43ms/step - loss: 0.0401 - accuracy: 0.9852 - val_loss: 0.0429 - val_accuracy: 0.9834\n",
      "Epoch 36/64\n",
      "493/493 [==============================] - 22s 44ms/step - loss: 0.0287 - accuracy: 0.9898 - val_loss: 0.0391 - val_accuracy: 0.9869\n",
      "Epoch 37/64\n",
      "493/493 [==============================] - 23s 46ms/step - loss: 0.0254 - accuracy: 0.9909 - val_loss: 0.0380 - val_accuracy: 0.9880\n",
      "Epoch 38/64\n",
      "493/493 [==============================] - 21s 43ms/step - loss: 0.0181 - accuracy: 0.9940 - val_loss: 0.0340 - val_accuracy: 0.9886\n",
      "Epoch 39/64\n",
      "493/493 [==============================] - 21s 43ms/step - loss: 0.0165 - accuracy: 0.9942 - val_loss: 0.0323 - val_accuracy: 0.9909\n",
      "Epoch 40/64\n",
      "493/493 [==============================] - 21s 43ms/step - loss: 0.0185 - accuracy: 0.9955 - val_loss: 0.0312 - val_accuracy: 0.9880\n",
      "Epoch 41/64\n",
      "493/493 [==============================] - 22s 45ms/step - loss: 0.0128 - accuracy: 0.9959 - val_loss: 0.0321 - val_accuracy: 0.9909\n",
      "Epoch 42/64\n",
      "493/493 [==============================] - 21s 42ms/step - loss: 0.0135 - accuracy: 0.9965 - val_loss: 0.0313 - val_accuracy: 0.9914\n",
      "Epoch 43/64\n",
      "493/493 [==============================] - 21s 42ms/step - loss: 0.0093 - accuracy: 0.9970 - val_loss: 0.0291 - val_accuracy: 0.9920\n",
      "Epoch 44/64\n",
      "493/493 [==============================] - 21s 43ms/step - loss: 0.0206 - accuracy: 0.9969 - val_loss: 0.0289 - val_accuracy: 0.9920\n",
      "Epoch 45/64\n",
      "493/493 [==============================] - 22s 44ms/step - loss: 0.0089 - accuracy: 0.9975 - val_loss: 0.0271 - val_accuracy: 0.9920\n",
      "Epoch 46/64\n",
      "493/493 [==============================] - 23s 46ms/step - loss: 0.0078 - accuracy: 0.9977 - val_loss: 0.0261 - val_accuracy: 0.9931\n",
      "Epoch 47/64\n",
      "493/493 [==============================] - 21s 44ms/step - loss: 0.0070 - accuracy: 0.9983 - val_loss: 0.0273 - val_accuracy: 0.9920\n",
      "Epoch 48/64\n",
      "493/493 [==============================] - 22s 44ms/step - loss: 0.0055 - accuracy: 0.9982 - val_loss: 0.0267 - val_accuracy: 0.9909\n",
      "Epoch 49/64\n",
      "493/493 [==============================] - 21s 42ms/step - loss: 0.0049 - accuracy: 0.9985 - val_loss: 0.0243 - val_accuracy: 0.9914\n",
      "Epoch 50/64\n",
      "493/493 [==============================] - 21s 42ms/step - loss: 0.0048 - accuracy: 0.9985 - val_loss: 0.0243 - val_accuracy: 0.9931\n",
      "Epoch 51/64\n",
      "493/493 [==============================] - 21s 42ms/step - loss: 0.0044 - accuracy: 0.9986 - val_loss: 0.0227 - val_accuracy: 0.9937\n",
      "Epoch 52/64\n",
      "493/493 [==============================] - 22s 45ms/step - loss: 0.0055 - accuracy: 0.9983 - val_loss: 0.0245 - val_accuracy: 0.9931\n",
      "Epoch 53/64\n",
      "493/493 [==============================] - 21s 43ms/step - loss: 0.0031 - accuracy: 0.9992 - val_loss: 0.0242 - val_accuracy: 0.9926\n",
      "Epoch 54/64\n",
      "493/493 [==============================] - 21s 43ms/step - loss: 0.0038 - accuracy: 0.9987 - val_loss: 0.0234 - val_accuracy: 0.9943\n",
      "Epoch 55/64\n",
      "493/493 [==============================] - 21s 43ms/step - loss: 0.0034 - accuracy: 0.9993 - val_loss: 0.0236 - val_accuracy: 0.9937\n",
      "Epoch 56/64\n",
      "493/493 [==============================] - 23s 46ms/step - loss: 0.0026 - accuracy: 0.9994 - val_loss: 0.0203 - val_accuracy: 0.9949\n",
      "Epoch 57/64\n",
      "493/493 [==============================] - 21s 43ms/step - loss: 0.0021 - accuracy: 0.9996 - val_loss: 0.0229 - val_accuracy: 0.9937\n",
      "Epoch 58/64\n",
      "493/493 [==============================] - 21s 42ms/step - loss: 0.0033 - accuracy: 0.9992 - val_loss: 0.0226 - val_accuracy: 0.9937\n",
      "Epoch 59/64\n",
      "493/493 [==============================] - 22s 44ms/step - loss: 0.0032 - accuracy: 0.9990 - val_loss: 0.0209 - val_accuracy: 0.9943\n",
      "Epoch 60/64\n",
      "493/493 [==============================] - 23s 46ms/step - loss: 0.0017 - accuracy: 0.9997 - val_loss: 0.0194 - val_accuracy: 0.9949\n",
      "Epoch 61/64\n",
      "493/493 [==============================] - 21s 42ms/step - loss: 0.0019 - accuracy: 0.9996 - val_loss: 0.0212 - val_accuracy: 0.9937\n",
      "Epoch 62/64\n",
      "493/493 [==============================] - 22s 44ms/step - loss: 0.0014 - accuracy: 0.9997 - val_loss: 0.0217 - val_accuracy: 0.9937\n",
      "Epoch 63/64\n",
      "493/493 [==============================] - 22s 44ms/step - loss: 0.0018 - accuracy: 0.9996 - val_loss: 0.0215 - val_accuracy: 0.9943\n",
      "Epoch 64/64\n",
      "493/493 [==============================] - 21s 42ms/step - loss: 0.0018 - accuracy: 0.9996 - val_loss: 0.0280 - val_accuracy: 0.9903\n"
     ]
    },
    {
     "data": {
      "text/plain": [
       "<tensorflow.python.keras.callbacks.History at 0x7f813d7c9f98>"
      ]
     },
     "execution_count": 17,
     "metadata": {},
     "output_type": "execute_result"
    }
   ],
   "source": [
    "fine_epochs = 32\n",
    "total_epochs = initial_epochs + fine_epochs\n",
    "model.fit(\n",
    "    ds_train.repeat(),\n",
    "    epochs=total_epochs,\n",
    "    initial_epoch=initial_epochs,\n",
    "    steps_per_epoch=steps_per_epoch,\n",
    "    validation_data=ds_dev\n",
    ")"
   ]
  },
  {
   "cell_type": "markdown",
   "metadata": {},
   "source": [
    "# Prediction"
   ]
  },
  {
   "cell_type": "code",
   "execution_count": 18,
   "metadata": {},
   "outputs": [],
   "source": [
    "test_image_names = tf.io.gfile.listdir('../input/test/test/')\n",
    "n_test = len(test_image_names)\n",
    "test_image_paths = list(map(lambda s: '../input/test/test/' + s, test_image_names))"
   ]
  },
  {
   "cell_type": "code",
   "execution_count": 19,
   "metadata": {},
   "outputs": [],
   "source": [
    "ds_test = (tf.data.Dataset.from_tensor_slices(test_image_paths)\n",
    "            .map(preprocess_image, num_parallel_calls=AUTOTUNE)\n",
    "            .batch(BATCH_SIZE)\n",
    "            .prefetch(buffer_size=AUTOTUNE)\n",
    "           )"
   ]
  },
  {
   "cell_type": "code",
   "execution_count": 20,
   "metadata": {},
   "outputs": [],
   "source": [
    "predictions = model.predict(ds_test)"
   ]
  },
  {
   "cell_type": "code",
   "execution_count": 21,
   "metadata": {},
   "outputs": [],
   "source": [
    "final_df = pd.DataFrame()\n",
    "final_df['id'] = test_image_names\n",
    "final_df['has_cactus'] = predictions"
   ]
  },
  {
   "cell_type": "code",
   "execution_count": 22,
   "metadata": {},
   "outputs": [],
   "source": [
    "final_df.to_csv('submission.csv', index=False)"
   ]
  }
 ],
 "metadata": {
  "kernelspec": {
   "display_name": "Python 3",
   "language": "python",
   "name": "python3"
  },
  "language_info": {
   "codemirror_mode": {
    "name": "ipython",
    "version": 3
   },
   "file_extension": ".py",
   "mimetype": "text/x-python",
   "name": "python",
   "nbconvert_exporter": "python",
   "pygments_lexer": "ipython3",
   "version": "3.6.4"
  }
 },
 "nbformat": 4,
 "nbformat_minor": 1
}
