{
 "cells": [
  {
   "cell_type": "markdown",
   "metadata": {
    "_cell_guid": "b1076dfc-b9ad-4769-8c92-a6c4dae69d19",
    "_uuid": "8f2839f25d086af736a60e9eeb907d3b93b6e0e5"
   },
   "source": [
    "# Q.1\n",
    "\n",
    "- 2^10\n",
    "- 2 log n\n",
    "- n log n\n",
    "- 4n\n",
    "- 3n +100 log n\n",
    "- 4n log n + 2n\n",
    "- n^3\n",
    "- n^2 + 10n\n",
    "- 4n\n",
    "- 2^n\n",
    "\n"
   ]
  },
  {
   "cell_type": "markdown",
   "metadata": {
    "_cell_guid": "79c7e3d0-c299-4dcb-8224-4455121ee9b0",
    "_uuid": "d629ff2d2480ee46fbb7e2d37f6b5fab8052498a",
    "collapsed": true
   },
   "source": [
    "# Q.2\n",
    "\n",
    "- 8n log n = 2n^2\n",
    "- 4n log n = n^2\n",
    "- 4 log n = n\n",
    "- 4 = n/log n\n",
    "\n",
    "- n = 16, 4 = 16/log2 16 = 4\n",
    "- n0 = 17\n"
   ]
  },
  {
   "cell_type": "markdown",
   "metadata": {
    "_uuid": "737dbca64723b03c32a13f61f46afc41404a8caf"
   },
   "source": [
    "# Q.3\n",
    "\n",
    "- since d(n) = O(f(n)) , we have positive c and n0\n",
    "- a*d (n) ≤ a*c*f(n) for n ≥ n0\n",
    "- give c2 = a*c\n",
    "- a*d(n) ≤ c2f(n) for all n ≥ n0\n",
    "- That makes a*d(n) = O(f(n))"
   ]
  },
  {
   "cell_type": "markdown",
   "metadata": {},
   "source": [
    "# Q.4"
   ]
  },
  {
   "cell_type": "code",
   "execution_count": 1,
   "metadata": {},
   "outputs": [
    {
     "data": {
      "text/plain": [
       "426"
      ]
     },
     "execution_count": 1,
     "metadata": {},
     "output_type": "execute_result"
    }
   ],
   "source": [
    "S = [1,2,3,4,5,90,12,3,123,134,34,15]\n",
    "\n",
    "def example1(S):\n",
    "    \"\"\"Return the sum of the elements in sequence S.\"\"\" \n",
    "    \"\"\"2 operations before the loop)\"\"\" \n",
    "    n = len(S)\n",
    "    total = 0 \n",
    "    \"\"\" 3 operations for every time the loop runs\"\"\"\n",
    "    for j in range(n):\n",
    "        total += S[j] \n",
    "    return total\n",
    "example1(S)\n",
    "#Runtime is 2 + 3n = O(n)\n",
    "#sum(S)"
   ]
  },
  {
   "cell_type": "code",
   "execution_count": 2,
   "metadata": {},
   "outputs": [
    {
     "data": {
      "text/plain": [
       "178"
      ]
     },
     "execution_count": 2,
     "metadata": {},
     "output_type": "execute_result"
    }
   ],
   "source": [
    "S = [1,2,3,4,5,90,12,3,123,134,34,15]\n",
    "\n",
    "def example2(S):\n",
    "    \"\"\"Return the sum of the elements with even index in sequence S.\"\"\"\n",
    "    n = len(S)   \n",
    "    total = 0\n",
    "    \"\"\"2 operations before the loop\"\"\"\n",
    "    for j in range(0, n, 2):\n",
    "        total += S[j]\n",
    "    \"\"\"Loop run n/2, which gives 1.5n. \"\"\"\n",
    "    return total\n",
    "example2(S)\n",
    "#2 + 1.5n = O(n)"
   ]
  },
  {
   "cell_type": "code",
   "execution_count": 3,
   "metadata": {},
   "outputs": [
    {
     "data": {
      "text/plain": [
       "1834"
      ]
     },
     "execution_count": 3,
     "metadata": {},
     "output_type": "execute_result"
    }
   ],
   "source": [
    "S = [1,2,3,4,5,90,12,3,123,134,34,15]\n",
    "\n",
    "\n",
    "def example3(S):\n",
    "    \"\"\"Return the sum of the prefix sums of sequence S.\"\"\"\n",
    "    n = len(S)   \n",
    "    total = 0\n",
    "    \"\"\"2 operations before the loop\"\"\"\n",
    "    for j in range(n): \n",
    "        for k in range(1 + j):\n",
    "            total += S[k]\n",
    "    return total\n",
    "\n",
    "example3(S)\n",
    "#\"\"\"Overall runtime is 2+1.5n(n + 1) = 2 + 1.5n2 + 1.5n = O(n^2)\"\"\""
   ]
  },
  {
   "cell_type": "code",
   "execution_count": 4,
   "metadata": {},
   "outputs": [
    {
     "data": {
      "text/plain": [
       "1834"
      ]
     },
     "execution_count": 4,
     "metadata": {},
     "output_type": "execute_result"
    }
   ],
   "source": [
    "S = [1,2,3,4,5,90,12,3,123,134,34,15]\n",
    "\n",
    "\n",
    "def example4(S):\n",
    "    \"\"\"Return the sum of the prefix sums of sequence S.\"\"\"\n",
    "    n = len(S)   \n",
    "    prefix = 0\n",
    "    total = 0\n",
    "    \"\"\"3 operations before the loop\"\"\"\n",
    "    for j in range(n):       \n",
    "        prefix += S[j]       \n",
    "        total += prefix\n",
    "    return total\n",
    "\"\"\"5 operations in the loop\"\"\"\n",
    "\n",
    "example4(S)\n",
    "\n",
    "#3 + 5n =O(n)"
   ]
  },
  {
   "cell_type": "code",
   "execution_count": 5,
   "metadata": {},
   "outputs": [
    {
     "data": {
      "text/plain": [
       "2"
      ]
     },
     "execution_count": 5,
     "metadata": {},
     "output_type": "execute_result"
    }
   ],
   "source": [
    "A = [1,2,3,5,6]\n",
    "B = [3,6,6,4,4]\n",
    "\n",
    "\n",
    "def example5(A, B):\n",
    "    \"\"\"Return the number of elements in B equal to the sum of prefix sums in A.\"\"\"\n",
    "    n = len(A)   \n",
    "    count = 0\n",
    "    \"\"\"2 operatiors before loop\"\"\"\n",
    "    for i in range(n): \n",
    "        total = 0\n",
    "        for j in range(n):  \n",
    "            for k in range(1 + j): \n",
    "                    total += A[k]\n",
    "            if B[i] == total:           \n",
    "                count += 1\n",
    "    return count\n",
    "    \n",
    "example5(A,B)"
   ]
  }
 ],
 "metadata": {
  "kernelspec": {
   "display_name": "Python 3",
   "language": "python",
   "name": "python3"
  },
  "language_info": {
   "codemirror_mode": {
    "name": "ipython",
    "version": 3
   },
   "file_extension": ".py",
   "mimetype": "text/x-python",
   "name": "python",
   "nbconvert_exporter": "python",
   "pygments_lexer": "ipython3",
   "version": "3.6.6"
  }
 },
 "nbformat": 4,
 "nbformat_minor": 1
}
