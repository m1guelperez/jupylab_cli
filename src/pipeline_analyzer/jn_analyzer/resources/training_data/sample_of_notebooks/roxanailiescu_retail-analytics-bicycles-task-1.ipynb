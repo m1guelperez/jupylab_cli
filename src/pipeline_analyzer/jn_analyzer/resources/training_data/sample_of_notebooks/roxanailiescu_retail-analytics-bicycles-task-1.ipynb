{
 "cells": [
  {
   "cell_type": "code",
   "execution_count": 1,
   "metadata": {
    "_cell_guid": "39909374-f608-40ff-9c2f-89e4245624db",
    "_uuid": "bd400268-bd41-440d-8d8c-966f20562976",
    "execution": {
     "iopub.execute_input": "2020-08-26T15:53:16.795565Z",
     "iopub.status.busy": "2020-08-26T15:53:16.794782Z",
     "iopub.status.idle": "2020-08-26T15:53:16.806985Z",
     "shell.execute_reply": "2020-08-26T15:53:16.806288Z"
    },
    "papermill": {
     "duration": 0.038014,
     "end_time": "2020-08-26T15:53:16.807128",
     "exception": false,
     "start_time": "2020-08-26T15:53:16.769114",
     "status": "completed"
    },
    "tags": []
   },
   "outputs": [
    {
     "name": "stdout",
     "output_type": "stream",
     "text": [
      "/kaggle/input/kpmg-data/KPMG_VI_New_raw_data_update_final.xlsx\n"
     ]
    }
   ],
   "source": [
    "# This Python 3 environment comes with many helpful analytics libraries installed\n",
    "# It is defined by the kaggle/python Docker image: https://github.com/kaggle/docker-python\n",
    "# For example, here's several helpful packages to load\n",
    "\n",
    "import numpy as np # linear algebra\n",
    "import pandas as pd # data processing, CSV file I/O (e.g. pd.read_csv)\n",
    "\n",
    "# Input data files are available in the read-only \"../input/\" directory\n",
    "# For example, running this (by clicking run or pressing Shift+Enter) will list all files under the input directory\n",
    "\n",
    "import os\n",
    "for dirname, _, filenames in os.walk('/kaggle/input'):\n",
    "    for filename in filenames:\n",
    "        print(os.path.join(dirname, filename))\n",
    "\n",
    "# You can write up to 5GB to the current directory (/kaggle/working/) that gets preserved as output when you create a version using \"Save & Run All\" \n",
    "# You can also write temporary files to /kaggle/temp/, but they won't be saved outside of the current session"
   ]
  },
  {
   "cell_type": "code",
   "execution_count": 2,
   "metadata": {
    "_cell_guid": "210c8b22-39d3-44f4-9a04-c98d8fc7eb80",
    "_uuid": "3d47f864-3624-4c12-a112-1cfc772ac508",
    "execution": {
     "iopub.execute_input": "2020-08-26T15:53:16.850656Z",
     "iopub.status.busy": "2020-08-26T15:53:16.849874Z",
     "iopub.status.idle": "2020-08-26T15:53:18.135347Z",
     "shell.execute_reply": "2020-08-26T15:53:18.134530Z"
    },
    "papermill": {
     "duration": 1.308627,
     "end_time": "2020-08-26T15:53:18.135483",
     "exception": false,
     "start_time": "2020-08-26T15:53:16.826856",
     "status": "completed"
    },
    "tags": []
   },
   "outputs": [],
   "source": [
    "import seaborn as sns\n",
    "import matplotlib.pyplot as plt"
   ]
  },
  {
   "cell_type": "markdown",
   "execution_count": null,
   "metadata": {
    "_cell_guid": "d74868b6-3301-49b2-a076-e9ba8c71c6d1",
    "_uuid": "f9d37930-7a76-4143-9a4d-1542354f102d",
    "papermill": {
     "duration": 0.017298,
     "end_time": "2020-08-26T15:53:18.171335",
     "exception": false,
     "start_time": "2020-08-26T15:53:18.154037",
     "status": "completed"
    },
    "tags": []
   },
   "source": [
    "# Import the datasets"
   ]
  },
  {
   "cell_type": "code",
   "execution_count": 3,
   "metadata": {
    "_cell_guid": "f16d2149-4d5e-4acf-8b4e-4f2cab80ad47",
    "_uuid": "fad5d20e-5534-4ee6-a009-e22251e849ba",
    "execution": {
     "iopub.execute_input": "2020-08-26T15:53:18.212455Z",
     "iopub.status.busy": "2020-08-26T15:53:18.211674Z",
     "iopub.status.idle": "2020-08-26T15:53:26.240785Z",
     "shell.execute_reply": "2020-08-26T15:53:26.240094Z"
    },
    "papermill": {
     "duration": 8.052018,
     "end_time": "2020-08-26T15:53:26.240915",
     "exception": false,
     "start_time": "2020-08-26T15:53:18.188897",
     "status": "completed"
    },
    "tags": []
   },
   "outputs": [],
   "source": [
    "customerAddress = pd.read_excel('../input/kpmg-data/KPMG_VI_New_raw_data_update_final.xlsx', sheet_name = 'CustomerAddress', skiprows = [0])"
   ]
  },
  {
   "cell_type": "code",
   "execution_count": 4,
   "metadata": {
    "_cell_guid": "66c8615c-0d5c-4054-9214-f8c09bdb8009",
    "_uuid": "6bd56db5-8ca5-45f0-8241-ab0d4001d786",
    "execution": {
     "iopub.execute_input": "2020-08-26T15:53:26.283332Z",
     "iopub.status.busy": "2020-08-26T15:53:26.282542Z",
     "iopub.status.idle": "2020-08-26T15:53:34.270078Z",
     "shell.execute_reply": "2020-08-26T15:53:34.269385Z"
    },
    "papermill": {
     "duration": 8.011549,
     "end_time": "2020-08-26T15:53:34.270231",
     "exception": false,
     "start_time": "2020-08-26T15:53:26.258682",
     "status": "completed"
    },
    "tags": []
   },
   "outputs": [],
   "source": [
    "customerDemographic = pd.read_excel('../input/kpmg-data/KPMG_VI_New_raw_data_update_final.xlsx', sheet_name = 'CustomerDemographic', skiprows = [0])"
   ]
  },
  {
   "cell_type": "code",
   "execution_count": 5,
   "metadata": {
    "_cell_guid": "781dbde6-27ea-4d23-9b09-4aa9d080025a",
    "_uuid": "9f1b3ac1-c0c3-42b0-811a-1803eb3da5fb",
    "execution": {
     "iopub.execute_input": "2020-08-26T15:53:34.313147Z",
     "iopub.status.busy": "2020-08-26T15:53:34.312119Z",
     "iopub.status.idle": "2020-08-26T15:53:42.117217Z",
     "shell.execute_reply": "2020-08-26T15:53:42.116541Z"
    },
    "papermill": {
     "duration": 7.828157,
     "end_time": "2020-08-26T15:53:42.117362",
     "exception": false,
     "start_time": "2020-08-26T15:53:34.289205",
     "status": "completed"
    },
    "tags": []
   },
   "outputs": [],
   "source": [
    "newCustomerList = pd.read_excel('../input/kpmg-data/KPMG_VI_New_raw_data_update_final.xlsx', sheet_name = 'NewCustomerList', skiprows = [0])"
   ]
  },
  {
   "cell_type": "code",
   "execution_count": 6,
   "metadata": {
    "_cell_guid": "d33a5924-b009-4daf-bab2-7fe6412115f1",
    "_uuid": "12f4ef29-63a3-448e-88b4-8cc90d2fb770",
    "execution": {
     "iopub.execute_input": "2020-08-26T15:53:42.159763Z",
     "iopub.status.busy": "2020-08-26T15:53:42.158970Z",
     "iopub.status.idle": "2020-08-26T15:53:50.456136Z",
     "shell.execute_reply": "2020-08-26T15:53:50.455326Z"
    },
    "papermill": {
     "duration": 8.320704,
     "end_time": "2020-08-26T15:53:50.456267",
     "exception": false,
     "start_time": "2020-08-26T15:53:42.135563",
     "status": "completed"
    },
    "tags": []
   },
   "outputs": [],
   "source": [
    "transactions = pd.read_excel('../input/kpmg-data/KPMG_VI_New_raw_data_update_final.xlsx', sheet_name = 'Transactions', skiprows = [0])"
   ]
  },
  {
   "cell_type": "markdown",
   "execution_count": null,
   "metadata": {
    "_cell_guid": "4582220d-3652-4b6b-833f-a90262ca2128",
    "_uuid": "5eacfa66-93b8-4679-ad94-da793807d4a6",
    "papermill": {
     "duration": 0.017378,
     "end_time": "2020-08-26T15:53:50.491561",
     "exception": false,
     "start_time": "2020-08-26T15:53:50.474183",
     "status": "completed"
    },
    "tags": []
   },
   "source": [
    "Because the table newCustomerList shares common columns with the tables customerDemographic and customer customerAddress i will concatenate newCustomerList with the 2 tables in order to simplify the data cleaning process."
   ]
  },
  {
   "cell_type": "markdown",
   "execution_count": null,
   "metadata": {
    "_cell_guid": "75edecd6-fc16-471d-a839-b4b3188f3747",
    "_uuid": "2d10c79c-d312-4a4b-954d-4ec86b110bdb",
    "papermill": {
     "duration": 0.017601,
     "end_time": "2020-08-26T15:53:50.527016",
     "exception": false,
     "start_time": "2020-08-26T15:53:50.509415",
     "status": "completed"
    },
    "tags": []
   },
   "source": [
    "# Data Quality"
   ]
  },
  {
   "cell_type": "markdown",
   "execution_count": null,
   "metadata": {
    "_cell_guid": "0db64233-dce5-4cdb-92e4-57ea6f3ce9a7",
    "_uuid": "3b6c0b86-d382-4eb3-82e9-139244138d6c",
    "papermill": {
     "duration": 0.017349,
     "end_time": "2020-08-26T15:53:50.562313",
     "exception": false,
     "start_time": "2020-08-26T15:53:50.544964",
     "status": "completed"
    },
    "tags": []
   },
   "source": [
    "I will find the maximum customer_id, in order to assign an unique id for every new customer. 4003 is the maximum id. All the new clints will have ids greater than 4003."
   ]
  },
  {
   "cell_type": "code",
   "execution_count": 7,
   "metadata": {
    "_cell_guid": "b2094035-5728-4a4a-a77f-eb2bf6b706fb",
    "_uuid": "7825264b-88ef-48f2-889e-9920eeee4bd6",
    "execution": {
     "iopub.execute_input": "2020-08-26T15:53:50.613291Z",
     "iopub.status.busy": "2020-08-26T15:53:50.612209Z",
     "iopub.status.idle": "2020-08-26T15:53:50.616874Z",
     "shell.execute_reply": "2020-08-26T15:53:50.616146Z"
    },
    "papermill": {
     "duration": 0.036905,
     "end_time": "2020-08-26T15:53:50.616998",
     "exception": false,
     "start_time": "2020-08-26T15:53:50.580093",
     "status": "completed"
    },
    "tags": []
   },
   "outputs": [
    {
     "data": {
      "text/plain": [
       "4003"
      ]
     },
     "execution_count": 7,
     "metadata": {},
     "output_type": "execute_result"
    }
   ],
   "source": [
    "customerAddress.customer_id.max()"
   ]
  },
  {
   "cell_type": "code",
   "execution_count": 8,
   "metadata": {
    "_cell_guid": "d2d87918-dc07-4389-bef4-4bba89b112c4",
    "_uuid": "7a5e7348-cbd6-4e09-b954-014c96c57452",
    "execution": {
     "iopub.execute_input": "2020-08-26T15:53:50.660169Z",
     "iopub.status.busy": "2020-08-26T15:53:50.659422Z",
     "iopub.status.idle": "2020-08-26T15:53:50.662832Z",
     "shell.execute_reply": "2020-08-26T15:53:50.662105Z"
    },
    "papermill": {
     "duration": 0.027915,
     "end_time": "2020-08-26T15:53:50.662959",
     "exception": false,
     "start_time": "2020-08-26T15:53:50.635044",
     "status": "completed"
    },
    "tags": []
   },
   "outputs": [],
   "source": [
    "newCustomerList['customer_id'] = 4004 + newCustomerList.index"
   ]
  },
  {
   "cell_type": "markdown",
   "execution_count": null,
   "metadata": {
    "_cell_guid": "05dc7e23-d372-4b34-8014-4ab4f0edbf0c",
    "_uuid": "cb856a04-0c73-46f2-b94d-2602f2d32e19",
    "papermill": {
     "duration": 0.017724,
     "end_time": "2020-08-26T15:53:50.698778",
     "exception": false,
     "start_time": "2020-08-26T15:53:50.681054",
     "status": "completed"
    },
    "tags": []
   },
   "source": [
    "### Concatenate newCustomerList and customerAddress"
   ]
  },
  {
   "cell_type": "code",
   "execution_count": 9,
   "metadata": {
    "_cell_guid": "9a6a527e-6c94-4a34-9a11-968bac36045d",
    "_uuid": "f4155d45-5ca0-4a81-b73a-f7878d6b20c6",
    "execution": {
     "iopub.execute_input": "2020-08-26T15:53:50.762139Z",
     "iopub.status.busy": "2020-08-26T15:53:50.755725Z",
     "iopub.status.idle": "2020-08-26T15:53:50.773455Z",
     "shell.execute_reply": "2020-08-26T15:53:50.774050Z"
    },
    "papermill": {
     "duration": 0.05703,
     "end_time": "2020-08-26T15:53:50.774207",
     "exception": false,
     "start_time": "2020-08-26T15:53:50.717177",
     "status": "completed"
    },
    "tags": []
   },
   "outputs": [
    {
     "data": {
      "text/html": [
       "<div>\n",
       "<style scoped>\n",
       "    .dataframe tbody tr th:only-of-type {\n",
       "        vertical-align: middle;\n",
       "    }\n",
       "\n",
       "    .dataframe tbody tr th {\n",
       "        vertical-align: top;\n",
       "    }\n",
       "\n",
       "    .dataframe thead th {\n",
       "        text-align: right;\n",
       "    }\n",
       "</style>\n",
       "<table border=\"1\" class=\"dataframe\">\n",
       "  <thead>\n",
       "    <tr style=\"text-align: right;\">\n",
       "      <th></th>\n",
       "      <th>customer_id</th>\n",
       "      <th>address</th>\n",
       "      <th>postcode</th>\n",
       "      <th>state</th>\n",
       "      <th>country</th>\n",
       "      <th>property_valuation</th>\n",
       "    </tr>\n",
       "  </thead>\n",
       "  <tbody>\n",
       "    <tr>\n",
       "      <th>0</th>\n",
       "      <td>4004</td>\n",
       "      <td>45 Shopko Center</td>\n",
       "      <td>4500</td>\n",
       "      <td>QLD</td>\n",
       "      <td>Australia</td>\n",
       "      <td>6</td>\n",
       "    </tr>\n",
       "    <tr>\n",
       "      <th>1</th>\n",
       "      <td>4005</td>\n",
       "      <td>14 Mccormick Park</td>\n",
       "      <td>2113</td>\n",
       "      <td>NSW</td>\n",
       "      <td>Australia</td>\n",
       "      <td>11</td>\n",
       "    </tr>\n",
       "    <tr>\n",
       "      <th>2</th>\n",
       "      <td>4006</td>\n",
       "      <td>5 Colorado Crossing</td>\n",
       "      <td>3505</td>\n",
       "      <td>VIC</td>\n",
       "      <td>Australia</td>\n",
       "      <td>5</td>\n",
       "    </tr>\n",
       "    <tr>\n",
       "      <th>3</th>\n",
       "      <td>4007</td>\n",
       "      <td>207 Annamark Plaza</td>\n",
       "      <td>4814</td>\n",
       "      <td>QLD</td>\n",
       "      <td>Australia</td>\n",
       "      <td>1</td>\n",
       "    </tr>\n",
       "    <tr>\n",
       "      <th>4</th>\n",
       "      <td>4008</td>\n",
       "      <td>115 Montana Place</td>\n",
       "      <td>2093</td>\n",
       "      <td>NSW</td>\n",
       "      <td>Australia</td>\n",
       "      <td>9</td>\n",
       "    </tr>\n",
       "    <tr>\n",
       "      <th>...</th>\n",
       "      <td>...</td>\n",
       "      <td>...</td>\n",
       "      <td>...</td>\n",
       "      <td>...</td>\n",
       "      <td>...</td>\n",
       "      <td>...</td>\n",
       "    </tr>\n",
       "    <tr>\n",
       "      <th>995</th>\n",
       "      <td>4999</td>\n",
       "      <td>2 Sloan Way</td>\n",
       "      <td>2200</td>\n",
       "      <td>NSW</td>\n",
       "      <td>Australia</td>\n",
       "      <td>7</td>\n",
       "    </tr>\n",
       "    <tr>\n",
       "      <th>996</th>\n",
       "      <td>5000</td>\n",
       "      <td>04 Union Crossing</td>\n",
       "      <td>2196</td>\n",
       "      <td>NSW</td>\n",
       "      <td>Australia</td>\n",
       "      <td>10</td>\n",
       "    </tr>\n",
       "    <tr>\n",
       "      <th>997</th>\n",
       "      <td>5001</td>\n",
       "      <td>33475 Fair Oaks Junction</td>\n",
       "      <td>4702</td>\n",
       "      <td>QLD</td>\n",
       "      <td>Australia</td>\n",
       "      <td>2</td>\n",
       "    </tr>\n",
       "    <tr>\n",
       "      <th>998</th>\n",
       "      <td>5002</td>\n",
       "      <td>57666 Victoria Way</td>\n",
       "      <td>4215</td>\n",
       "      <td>QLD</td>\n",
       "      <td>Australia</td>\n",
       "      <td>2</td>\n",
       "    </tr>\n",
       "    <tr>\n",
       "      <th>999</th>\n",
       "      <td>5003</td>\n",
       "      <td>21875 Grover Drive</td>\n",
       "      <td>2010</td>\n",
       "      <td>NSW</td>\n",
       "      <td>Australia</td>\n",
       "      <td>9</td>\n",
       "    </tr>\n",
       "  </tbody>\n",
       "</table>\n",
       "<p>1000 rows × 6 columns</p>\n",
       "</div>"
      ],
      "text/plain": [
       "     customer_id                   address  postcode state    country  \\\n",
       "0           4004          45 Shopko Center      4500   QLD  Australia   \n",
       "1           4005         14 Mccormick Park      2113   NSW  Australia   \n",
       "2           4006       5 Colorado Crossing      3505   VIC  Australia   \n",
       "3           4007        207 Annamark Plaza      4814   QLD  Australia   \n",
       "4           4008         115 Montana Place      2093   NSW  Australia   \n",
       "..           ...                       ...       ...   ...        ...   \n",
       "995         4999               2 Sloan Way      2200   NSW  Australia   \n",
       "996         5000         04 Union Crossing      2196   NSW  Australia   \n",
       "997         5001  33475 Fair Oaks Junction      4702   QLD  Australia   \n",
       "998         5002        57666 Victoria Way      4215   QLD  Australia   \n",
       "999         5003        21875 Grover Drive      2010   NSW  Australia   \n",
       "\n",
       "     property_valuation  \n",
       "0                     6  \n",
       "1                    11  \n",
       "2                     5  \n",
       "3                     1  \n",
       "4                     9  \n",
       "..                  ...  \n",
       "995                   7  \n",
       "996                  10  \n",
       "997                   2  \n",
       "998                   2  \n",
       "999                   9  \n",
       "\n",
       "[1000 rows x 6 columns]"
      ]
     },
     "execution_count": 9,
     "metadata": {},
     "output_type": "execute_result"
    }
   ],
   "source": [
    "newCustomerAddress = newCustomerList[['customer_id','address', 'postcode', 'state', 'country', 'property_valuation']]\n",
    "newCustomerAddress"
   ]
  },
  {
   "cell_type": "code",
   "execution_count": 10,
   "metadata": {
    "_cell_guid": "705d9c7b-87cc-43e5-a567-e2131ee52c47",
    "_uuid": "c971dbf7-b5c2-454e-8757-f27ded1d7e11",
    "execution": {
     "iopub.execute_input": "2020-08-26T15:53:50.821899Z",
     "iopub.status.busy": "2020-08-26T15:53:50.821086Z",
     "iopub.status.idle": "2020-08-26T15:53:50.824437Z",
     "shell.execute_reply": "2020-08-26T15:53:50.825023Z"
    },
    "papermill": {
     "duration": 0.032672,
     "end_time": "2020-08-26T15:53:50.825192",
     "exception": false,
     "start_time": "2020-08-26T15:53:50.792520",
     "status": "completed"
    },
    "tags": []
   },
   "outputs": [
    {
     "name": "stdout",
     "output_type": "stream",
     "text": [
      "Shape of customerAddress before concat : (3999, 6)\n",
      "Shape of customerAddress after concat : (4999, 6)\n"
     ]
    }
   ],
   "source": [
    "print('Shape of customerAddress before concat :', customerAddress.shape)\n",
    "customerAddress = pd.concat([customerAddress, newCustomerAddress], axis=0)\n",
    "print('Shape of customerAddress after concat :', customerAddress.shape)"
   ]
  },
  {
   "cell_type": "markdown",
   "execution_count": null,
   "metadata": {
    "_cell_guid": "c397d880-fc75-453c-84cf-0fdbd71434ea",
    "_uuid": "12b201dd-1cd9-45cf-a143-6b527b5494f3",
    "papermill": {
     "duration": 0.018766,
     "end_time": "2020-08-26T15:53:50.862440",
     "exception": false,
     "start_time": "2020-08-26T15:53:50.843674",
     "status": "completed"
    },
    "tags": []
   },
   "source": [
    "## Concatenate newCustomerList and customerDemographic"
   ]
  },
  {
   "cell_type": "code",
   "execution_count": 11,
   "metadata": {
    "_cell_guid": "691515a2-91ee-4654-a8bf-9db5955f95af",
    "_uuid": "1e85c7a0-28ba-4fbd-abb2-a73b2156bc65",
    "execution": {
     "iopub.execute_input": "2020-08-26T15:53:50.905861Z",
     "iopub.status.busy": "2020-08-26T15:53:50.905080Z",
     "iopub.status.idle": "2020-08-26T15:53:50.909591Z",
     "shell.execute_reply": "2020-08-26T15:53:50.910131Z"
    },
    "papermill": {
     "duration": 0.029269,
     "end_time": "2020-08-26T15:53:50.910301",
     "exception": false,
     "start_time": "2020-08-26T15:53:50.881032",
     "status": "completed"
    },
    "tags": []
   },
   "outputs": [
    {
     "data": {
      "text/plain": [
       "Index(['first_name', 'last_name', 'gender',\n",
       "       'past_3_years_bike_related_purchases', 'DOB', 'job_title',\n",
       "       'job_industry_category', 'wealth_segment', 'deceased_indicator',\n",
       "       'owns_car', 'tenure', 'address', 'postcode', 'state', 'country',\n",
       "       'property_valuation', 'Unnamed: 16', 'Unnamed: 17', 'Unnamed: 18',\n",
       "       'Unnamed: 19', 'Unnamed: 20', 'Rank', 'Value', 'customer_id'],\n",
       "      dtype='object')"
      ]
     },
     "execution_count": 11,
     "metadata": {},
     "output_type": "execute_result"
    }
   ],
   "source": [
    "newCustomerList.columns"
   ]
  },
  {
   "cell_type": "code",
   "execution_count": 12,
   "metadata": {
    "_cell_guid": "feacc0da-163b-4e53-aca9-e44fd9f392d6",
    "_uuid": "23ed910f-a46a-4884-a9a6-09e7051245c5",
    "execution": {
     "iopub.execute_input": "2020-08-26T15:53:50.960754Z",
     "iopub.status.busy": "2020-08-26T15:53:50.954419Z",
     "iopub.status.idle": "2020-08-26T15:53:50.985332Z",
     "shell.execute_reply": "2020-08-26T15:53:50.984629Z"
    },
    "papermill": {
     "duration": 0.05641,
     "end_time": "2020-08-26T15:53:50.985495",
     "exception": false,
     "start_time": "2020-08-26T15:53:50.929085",
     "status": "completed"
    },
    "tags": []
   },
   "outputs": [
    {
     "data": {
      "text/html": [
       "<div>\n",
       "<style scoped>\n",
       "    .dataframe tbody tr th:only-of-type {\n",
       "        vertical-align: middle;\n",
       "    }\n",
       "\n",
       "    .dataframe tbody tr th {\n",
       "        vertical-align: top;\n",
       "    }\n",
       "\n",
       "    .dataframe thead th {\n",
       "        text-align: right;\n",
       "    }\n",
       "</style>\n",
       "<table border=\"1\" class=\"dataframe\">\n",
       "  <thead>\n",
       "    <tr style=\"text-align: right;\">\n",
       "      <th></th>\n",
       "      <th>customer_id</th>\n",
       "      <th>first_name</th>\n",
       "      <th>last_name</th>\n",
       "      <th>gender</th>\n",
       "      <th>past_3_years_bike_related_purchases</th>\n",
       "      <th>DOB</th>\n",
       "      <th>job_title</th>\n",
       "      <th>job_industry_category</th>\n",
       "      <th>wealth_segment</th>\n",
       "      <th>deceased_indicator</th>\n",
       "      <th>owns_car</th>\n",
       "      <th>tenure</th>\n",
       "    </tr>\n",
       "  </thead>\n",
       "  <tbody>\n",
       "    <tr>\n",
       "      <th>0</th>\n",
       "      <td>4004</td>\n",
       "      <td>Chickie</td>\n",
       "      <td>Brister</td>\n",
       "      <td>Male</td>\n",
       "      <td>86</td>\n",
       "      <td>1957-07-12</td>\n",
       "      <td>General Manager</td>\n",
       "      <td>Manufacturing</td>\n",
       "      <td>Mass Customer</td>\n",
       "      <td>N</td>\n",
       "      <td>Yes</td>\n",
       "      <td>14</td>\n",
       "    </tr>\n",
       "    <tr>\n",
       "      <th>1</th>\n",
       "      <td>4005</td>\n",
       "      <td>Morly</td>\n",
       "      <td>Genery</td>\n",
       "      <td>Male</td>\n",
       "      <td>69</td>\n",
       "      <td>1970-03-22</td>\n",
       "      <td>Structural Engineer</td>\n",
       "      <td>Property</td>\n",
       "      <td>Mass Customer</td>\n",
       "      <td>N</td>\n",
       "      <td>No</td>\n",
       "      <td>16</td>\n",
       "    </tr>\n",
       "    <tr>\n",
       "      <th>2</th>\n",
       "      <td>4006</td>\n",
       "      <td>Ardelis</td>\n",
       "      <td>Forrester</td>\n",
       "      <td>Female</td>\n",
       "      <td>10</td>\n",
       "      <td>1974-08-28</td>\n",
       "      <td>Senior Cost Accountant</td>\n",
       "      <td>Financial Services</td>\n",
       "      <td>Affluent Customer</td>\n",
       "      <td>N</td>\n",
       "      <td>No</td>\n",
       "      <td>10</td>\n",
       "    </tr>\n",
       "    <tr>\n",
       "      <th>3</th>\n",
       "      <td>4007</td>\n",
       "      <td>Lucine</td>\n",
       "      <td>Stutt</td>\n",
       "      <td>Female</td>\n",
       "      <td>64</td>\n",
       "      <td>1979-01-28</td>\n",
       "      <td>Account Representative III</td>\n",
       "      <td>Manufacturing</td>\n",
       "      <td>Affluent Customer</td>\n",
       "      <td>N</td>\n",
       "      <td>Yes</td>\n",
       "      <td>5</td>\n",
       "    </tr>\n",
       "    <tr>\n",
       "      <th>4</th>\n",
       "      <td>4008</td>\n",
       "      <td>Melinda</td>\n",
       "      <td>Hadlee</td>\n",
       "      <td>Female</td>\n",
       "      <td>34</td>\n",
       "      <td>1965-09-21</td>\n",
       "      <td>Financial Analyst</td>\n",
       "      <td>Financial Services</td>\n",
       "      <td>Affluent Customer</td>\n",
       "      <td>N</td>\n",
       "      <td>No</td>\n",
       "      <td>19</td>\n",
       "    </tr>\n",
       "    <tr>\n",
       "      <th>...</th>\n",
       "      <td>...</td>\n",
       "      <td>...</td>\n",
       "      <td>...</td>\n",
       "      <td>...</td>\n",
       "      <td>...</td>\n",
       "      <td>...</td>\n",
       "      <td>...</td>\n",
       "      <td>...</td>\n",
       "      <td>...</td>\n",
       "      <td>...</td>\n",
       "      <td>...</td>\n",
       "      <td>...</td>\n",
       "    </tr>\n",
       "    <tr>\n",
       "      <th>995</th>\n",
       "      <td>4999</td>\n",
       "      <td>Ferdinand</td>\n",
       "      <td>Romanetti</td>\n",
       "      <td>Male</td>\n",
       "      <td>60</td>\n",
       "      <td>1959-10-07</td>\n",
       "      <td>Paralegal</td>\n",
       "      <td>Financial Services</td>\n",
       "      <td>Affluent Customer</td>\n",
       "      <td>N</td>\n",
       "      <td>No</td>\n",
       "      <td>9</td>\n",
       "    </tr>\n",
       "    <tr>\n",
       "      <th>996</th>\n",
       "      <td>5000</td>\n",
       "      <td>Burk</td>\n",
       "      <td>Wortley</td>\n",
       "      <td>Male</td>\n",
       "      <td>22</td>\n",
       "      <td>2001-10-17</td>\n",
       "      <td>Senior Sales Associate</td>\n",
       "      <td>Health</td>\n",
       "      <td>Mass Customer</td>\n",
       "      <td>N</td>\n",
       "      <td>No</td>\n",
       "      <td>6</td>\n",
       "    </tr>\n",
       "    <tr>\n",
       "      <th>997</th>\n",
       "      <td>5001</td>\n",
       "      <td>Melloney</td>\n",
       "      <td>Temby</td>\n",
       "      <td>Female</td>\n",
       "      <td>17</td>\n",
       "      <td>1954-10-05</td>\n",
       "      <td>Budget/Accounting Analyst IV</td>\n",
       "      <td>Financial Services</td>\n",
       "      <td>Affluent Customer</td>\n",
       "      <td>N</td>\n",
       "      <td>Yes</td>\n",
       "      <td>15</td>\n",
       "    </tr>\n",
       "    <tr>\n",
       "      <th>998</th>\n",
       "      <td>5002</td>\n",
       "      <td>Dickie</td>\n",
       "      <td>Cubbini</td>\n",
       "      <td>Male</td>\n",
       "      <td>30</td>\n",
       "      <td>1952-12-17</td>\n",
       "      <td>Financial Advisor</td>\n",
       "      <td>Financial Services</td>\n",
       "      <td>Mass Customer</td>\n",
       "      <td>N</td>\n",
       "      <td>Yes</td>\n",
       "      <td>19</td>\n",
       "    </tr>\n",
       "    <tr>\n",
       "      <th>999</th>\n",
       "      <td>5003</td>\n",
       "      <td>Sylas</td>\n",
       "      <td>Duffill</td>\n",
       "      <td>Male</td>\n",
       "      <td>56</td>\n",
       "      <td>1955-10-02</td>\n",
       "      <td>Staff Accountant IV</td>\n",
       "      <td>Property</td>\n",
       "      <td>Mass Customer</td>\n",
       "      <td>N</td>\n",
       "      <td>Yes</td>\n",
       "      <td>14</td>\n",
       "    </tr>\n",
       "  </tbody>\n",
       "</table>\n",
       "<p>1000 rows × 12 columns</p>\n",
       "</div>"
      ],
      "text/plain": [
       "     customer_id first_name  last_name  gender  \\\n",
       "0           4004    Chickie    Brister    Male   \n",
       "1           4005      Morly     Genery    Male   \n",
       "2           4006    Ardelis  Forrester  Female   \n",
       "3           4007     Lucine      Stutt  Female   \n",
       "4           4008    Melinda     Hadlee  Female   \n",
       "..           ...        ...        ...     ...   \n",
       "995         4999  Ferdinand  Romanetti    Male   \n",
       "996         5000       Burk    Wortley    Male   \n",
       "997         5001   Melloney      Temby  Female   \n",
       "998         5002     Dickie    Cubbini    Male   \n",
       "999         5003      Sylas    Duffill    Male   \n",
       "\n",
       "     past_3_years_bike_related_purchases        DOB  \\\n",
       "0                                     86 1957-07-12   \n",
       "1                                     69 1970-03-22   \n",
       "2                                     10 1974-08-28   \n",
       "3                                     64 1979-01-28   \n",
       "4                                     34 1965-09-21   \n",
       "..                                   ...        ...   \n",
       "995                                   60 1959-10-07   \n",
       "996                                   22 2001-10-17   \n",
       "997                                   17 1954-10-05   \n",
       "998                                   30 1952-12-17   \n",
       "999                                   56 1955-10-02   \n",
       "\n",
       "                        job_title job_industry_category     wealth_segment  \\\n",
       "0                 General Manager         Manufacturing      Mass Customer   \n",
       "1             Structural Engineer              Property      Mass Customer   \n",
       "2          Senior Cost Accountant    Financial Services  Affluent Customer   \n",
       "3      Account Representative III         Manufacturing  Affluent Customer   \n",
       "4               Financial Analyst    Financial Services  Affluent Customer   \n",
       "..                            ...                   ...                ...   \n",
       "995                     Paralegal    Financial Services  Affluent Customer   \n",
       "996        Senior Sales Associate                Health      Mass Customer   \n",
       "997  Budget/Accounting Analyst IV    Financial Services  Affluent Customer   \n",
       "998             Financial Advisor    Financial Services      Mass Customer   \n",
       "999           Staff Accountant IV              Property      Mass Customer   \n",
       "\n",
       "    deceased_indicator owns_car  tenure  \n",
       "0                    N      Yes      14  \n",
       "1                    N       No      16  \n",
       "2                    N       No      10  \n",
       "3                    N      Yes       5  \n",
       "4                    N       No      19  \n",
       "..                 ...      ...     ...  \n",
       "995                  N       No       9  \n",
       "996                  N       No       6  \n",
       "997                  N      Yes      15  \n",
       "998                  N      Yes      19  \n",
       "999                  N      Yes      14  \n",
       "\n",
       "[1000 rows x 12 columns]"
      ]
     },
     "execution_count": 12,
     "metadata": {},
     "output_type": "execute_result"
    }
   ],
   "source": [
    "newCustomerDemographic = newCustomerList[['customer_id','first_name', 'last_name', 'gender',\n",
    "       'past_3_years_bike_related_purchases', 'DOB', 'job_title',\n",
    "       'job_industry_category', 'wealth_segment', 'deceased_indicator', 'owns_car', 'tenure']]\n",
    "newCustomerDemographic"
   ]
  },
  {
   "cell_type": "code",
   "execution_count": 13,
   "metadata": {
    "_cell_guid": "ee9fba91-2414-4b61-bf78-2236cca3541c",
    "_uuid": "518813f1-1bf7-4bd6-a483-4bf69a5fc851",
    "execution": {
     "iopub.execute_input": "2020-08-26T15:53:51.038775Z",
     "iopub.status.busy": "2020-08-26T15:53:51.032096Z",
     "iopub.status.idle": "2020-08-26T15:53:51.043862Z",
     "shell.execute_reply": "2020-08-26T15:53:51.044476Z"
    },
    "papermill": {
     "duration": 0.039547,
     "end_time": "2020-08-26T15:53:51.044635",
     "exception": false,
     "start_time": "2020-08-26T15:53:51.005088",
     "status": "completed"
    },
    "tags": []
   },
   "outputs": [
    {
     "name": "stdout",
     "output_type": "stream",
     "text": [
      "Shape of customerDemographic before concat : (4000, 13)\n",
      "Shape of customerDemographic after concat : (5000, 13)\n"
     ]
    }
   ],
   "source": [
    "print('Shape of customerDemographic before concat :', customerDemographic.shape)\n",
    "customerDemographic = pd.concat([customerDemographic, newCustomerDemographic], axis=0)\n",
    "print('Shape of customerDemographic after concat :', customerDemographic.shape)"
   ]
  },
  {
   "cell_type": "markdown",
   "execution_count": null,
   "metadata": {
    "_cell_guid": "1854139c-0cb1-45af-8707-071154c8e705",
    "_uuid": "1fb57be8-380e-47fa-a16b-d23dad77fc9c",
    "papermill": {
     "duration": 0.019086,
     "end_time": "2020-08-26T15:53:51.083132",
     "exception": false,
     "start_time": "2020-08-26T15:53:51.064046",
     "status": "completed"
    },
    "tags": []
   },
   "source": [
    "## Customer Addresses"
   ]
  },
  {
   "cell_type": "markdown",
   "execution_count": null,
   "metadata": {
    "_cell_guid": "cd11bd90-600e-40cf-95ed-63dac304e2c5",
    "_uuid": "cb05f810-5f86-4869-a8b2-556a7d63ed61",
    "papermill": {
     "duration": 0.019935,
     "end_time": "2020-08-26T15:53:51.122382",
     "exception": false,
     "start_time": "2020-08-26T15:53:51.102447",
     "status": "completed"
    },
    "tags": []
   },
   "source": [
    "### Check data formats\n",
    "Data formats are correct."
   ]
  },
  {
   "cell_type": "code",
   "execution_count": 14,
   "metadata": {
    "_cell_guid": "2115c962-27ec-42c1-9204-d62763e9f493",
    "_uuid": "fdb12b4a-b085-4078-aa78-ea98c654021d",
    "execution": {
     "iopub.execute_input": "2020-08-26T15:53:51.167385Z",
     "iopub.status.busy": "2020-08-26T15:53:51.166537Z",
     "iopub.status.idle": "2020-08-26T15:53:51.183131Z",
     "shell.execute_reply": "2020-08-26T15:53:51.183784Z"
    },
    "papermill": {
     "duration": 0.042045,
     "end_time": "2020-08-26T15:53:51.183958",
     "exception": false,
     "start_time": "2020-08-26T15:53:51.141913",
     "status": "completed"
    },
    "tags": []
   },
   "outputs": [
    {
     "name": "stdout",
     "output_type": "stream",
     "text": [
      "<class 'pandas.core.frame.DataFrame'>\n",
      "Int64Index: 4999 entries, 0 to 999\n",
      "Data columns (total 6 columns):\n",
      " #   Column              Non-Null Count  Dtype \n",
      "---  ------              --------------  ----- \n",
      " 0   customer_id         4999 non-null   int64 \n",
      " 1   address             4999 non-null   object\n",
      " 2   postcode            4999 non-null   int64 \n",
      " 3   state               4999 non-null   object\n",
      " 4   country             4999 non-null   object\n",
      " 5   property_valuation  4999 non-null   int64 \n",
      "dtypes: int64(3), object(3)\n",
      "memory usage: 273.4+ KB\n"
     ]
    }
   ],
   "source": [
    "customerAddress.info()"
   ]
  },
  {
   "cell_type": "markdown",
   "execution_count": null,
   "metadata": {
    "_cell_guid": "f7c83c1e-c5a3-43af-b5e2-9479e91293a2",
    "_uuid": "8d8a717c-1b5b-49f2-9853-0302a2991d27",
    "papermill": {
     "duration": 0.019467,
     "end_time": "2020-08-26T15:53:51.223052",
     "exception": false,
     "start_time": "2020-08-26T15:53:51.203585",
     "status": "completed"
    },
    "tags": []
   },
   "source": [
    "### Check missing values\n",
    "There are no missing values in this table."
   ]
  },
  {
   "cell_type": "code",
   "execution_count": 15,
   "metadata": {
    "_cell_guid": "e09ed3b4-440c-4811-8654-0fdb6232f34c",
    "_uuid": "62572413-5266-4116-bdfb-2e17405dcf22",
    "execution": {
     "iopub.execute_input": "2020-08-26T15:53:51.272434Z",
     "iopub.status.busy": "2020-08-26T15:53:51.270323Z",
     "iopub.status.idle": "2020-08-26T15:53:51.277895Z",
     "shell.execute_reply": "2020-08-26T15:53:51.277140Z"
    },
    "papermill": {
     "duration": 0.035238,
     "end_time": "2020-08-26T15:53:51.278022",
     "exception": false,
     "start_time": "2020-08-26T15:53:51.242784",
     "status": "completed"
    },
    "tags": []
   },
   "outputs": [
    {
     "data": {
      "text/plain": [
       "customer_id           0\n",
       "address               0\n",
       "postcode              0\n",
       "state                 0\n",
       "country               0\n",
       "property_valuation    0\n",
       "dtype: int64"
      ]
     },
     "execution_count": 15,
     "metadata": {},
     "output_type": "execute_result"
    }
   ],
   "source": [
    "customerAddress.isnull().sum()"
   ]
  },
  {
   "cell_type": "markdown",
   "execution_count": null,
   "metadata": {
    "_cell_guid": "31030e43-149f-448b-a408-9c02d8e69975",
    "_uuid": "311d51ec-be7d-4318-846e-f6340eee6111",
    "papermill": {
     "duration": 0.019481,
     "end_time": "2020-08-26T15:53:51.317381",
     "exception": false,
     "start_time": "2020-08-26T15:53:51.297900",
     "status": "completed"
    },
    "tags": []
   },
   "source": [
    "### Check outliers\n",
    "There are no outliers in this table."
   ]
  },
  {
   "cell_type": "code",
   "execution_count": 16,
   "metadata": {
    "_cell_guid": "f58c0f27-d9c6-4a43-8c69-c18265f146e9",
    "_uuid": "e3d5ad23-f46d-422c-b353-38b058c7f7ec",
    "execution": {
     "iopub.execute_input": "2020-08-26T15:53:51.361934Z",
     "iopub.status.busy": "2020-08-26T15:53:51.361155Z",
     "iopub.status.idle": "2020-08-26T15:53:51.587271Z",
     "shell.execute_reply": "2020-08-26T15:53:51.586583Z"
    },
    "papermill": {
     "duration": 0.25028,
     "end_time": "2020-08-26T15:53:51.587401",
     "exception": false,
     "start_time": "2020-08-26T15:53:51.337121",
     "status": "completed"
    },
    "tags": []
   },
   "outputs": [
    {
     "data": {
      "text/plain": [
       "<matplotlib.axes._subplots.AxesSubplot at 0x7f5092262f90>"
      ]
     },
     "execution_count": 16,
     "metadata": {},
     "output_type": "execute_result"
    },
    {
     "data": {
      "image/png": "[encoded data removed]",
      "text/plain": [
       "<Figure size 432x288 with 1 Axes>"
      ]
     },
     "metadata": {
      "needs_background": "light"
     },
     "output_type": "display_data"
    }
   ],
   "source": [
    "customerAddress.boxplot()"
   ]
  },
  {
   "cell_type": "markdown",
   "execution_count": null,
   "metadata": {
    "_cell_guid": "a7951929-d949-432c-ab8b-06c753c5ad39",
    "_uuid": "6d0a4802-97fc-429a-9d77-8f4f32592f9c",
    "papermill": {
     "duration": 0.019894,
     "end_time": "2020-08-26T15:53:51.627830",
     "exception": false,
     "start_time": "2020-08-26T15:53:51.607936",
     "status": "completed"
    },
    "tags": []
   },
   "source": [
    "## Customer Demographics"
   ]
  },
  {
   "cell_type": "markdown",
   "execution_count": null,
   "metadata": {
    "_cell_guid": "276117e2-11cc-475a-a99c-61e1890c63f7",
    "_uuid": "9e031bb2-7d42-4a49-8252-8a7b532a4b00",
    "papermill": {
     "duration": 0.01971,
     "end_time": "2020-08-26T15:53:51.667721",
     "exception": false,
     "start_time": "2020-08-26T15:53:51.648011",
     "status": "completed"
    },
    "tags": []
   },
   "source": [
    "### Check missing values\n",
    "\n",
    "Here are a lot of null values, I'll have to do a missing value treatment."
   ]
  },
  {
   "cell_type": "code",
   "execution_count": 17,
   "metadata": {
    "_cell_guid": "2876bbdc-42bd-4400-a51a-c711e1c38469",
    "_uuid": "ea9b2a37-a525-47b6-8fc4-6a6855bc2af3",
    "execution": {
     "iopub.execute_input": "2020-08-26T15:53:51.720307Z",
     "iopub.status.busy": "2020-08-26T15:53:51.719456Z",
     "iopub.status.idle": "2020-08-26T15:53:51.727421Z",
     "shell.execute_reply": "2020-08-26T15:53:51.726668Z"
    },
    "papermill": {
     "duration": 0.039702,
     "end_time": "2020-08-26T15:53:51.727541",
     "exception": false,
     "start_time": "2020-08-26T15:53:51.687839",
     "status": "completed"
    },
    "tags": []
   },
   "outputs": [
    {
     "data": {
      "text/plain": [
       "customer_id                               0\n",
       "first_name                                0\n",
       "last_name                               154\n",
       "gender                                    0\n",
       "past_3_years_bike_related_purchases       0\n",
       "DOB                                     104\n",
       "job_title                               612\n",
       "job_industry_category                   821\n",
       "wealth_segment                            0\n",
       "deceased_indicator                        0\n",
       "default                                1302\n",
       "owns_car                                  0\n",
       "tenure                                   87\n",
       "dtype: int64"
      ]
     },
     "execution_count": 17,
     "metadata": {},
     "output_type": "execute_result"
    }
   ],
   "source": [
    "customerDemographic.isnull().sum()"
   ]
  },
  {
   "cell_type": "code",
   "execution_count": 18,
   "metadata": {
    "_cell_guid": "f1f7f1bd-50fe-4979-81b7-f4526e29f61b",
    "_uuid": "ba82c4ed-91ac-4d67-9fb2-433a7b52759e",
    "execution": {
     "iopub.execute_input": "2020-08-26T15:53:51.774743Z",
     "iopub.status.busy": "2020-08-26T15:53:51.773981Z",
     "iopub.status.idle": "2020-08-26T15:53:51.779921Z",
     "shell.execute_reply": "2020-08-26T15:53:51.780627Z"
    },
    "papermill": {
     "duration": 0.032779,
     "end_time": "2020-08-26T15:53:51.780823",
     "exception": false,
     "start_time": "2020-08-26T15:53:51.748044",
     "status": "completed"
    },
    "tags": []
   },
   "outputs": [],
   "source": [
    "customerDemographic = customerDemographic.drop(labels = ['default'],axis = 1)"
   ]
  },
  {
   "cell_type": "markdown",
   "execution_count": null,
   "metadata": {
    "_cell_guid": "437c12cc-52f4-418d-82ef-3ce27bbecd60",
    "_uuid": "866523ca-351b-47e2-bcbf-81d73cfd783e",
    "papermill": {
     "duration": 0.02051,
     "end_time": "2020-08-26T15:53:51.822121",
     "exception": false,
     "start_time": "2020-08-26T15:53:51.801611",
     "status": "completed"
    },
    "tags": []
   },
   "source": [
    "### Check data formats"
   ]
  },
  {
   "cell_type": "markdown",
   "execution_count": null,
   "metadata": {
    "_cell_guid": "9f28ea5c-dbd5-4012-a9af-c220dc9d8cc5",
    "_uuid": "b9b3467e-1d5f-4354-b2d6-fa2173b91309",
    "papermill": {
     "duration": 0.020407,
     "end_time": "2020-08-26T15:53:51.863423",
     "exception": false,
     "start_time": "2020-08-26T15:53:51.843016",
     "status": "completed"
    },
    "tags": []
   },
   "source": [
    "I will use only one format for gender: F, M or U. I will change the format of data from string to category."
   ]
  },
  {
   "cell_type": "code",
   "execution_count": 19,
   "metadata": {
    "_cell_guid": "8c2fffd4-e97a-44ea-9776-f5a70e38a1f4",
    "_uuid": "21d0d6a2-d4a8-41ed-aafe-694034a41144",
    "execution": {
     "iopub.execute_input": "2020-08-26T15:53:51.915189Z",
     "iopub.status.busy": "2020-08-26T15:53:51.914177Z",
     "iopub.status.idle": "2020-08-26T15:53:51.919098Z",
     "shell.execute_reply": "2020-08-26T15:53:51.918368Z"
    },
    "papermill": {
     "duration": 0.034788,
     "end_time": "2020-08-26T15:53:51.919218",
     "exception": false,
     "start_time": "2020-08-26T15:53:51.884430",
     "status": "completed"
    },
    "tags": []
   },
   "outputs": [
    {
     "data": {
      "text/plain": [
       "Female    2550\n",
       "Male      2342\n",
       "U          105\n",
       "Femal        1\n",
       "F            1\n",
       "M            1\n",
       "Name: gender, dtype: int64"
      ]
     },
     "execution_count": 19,
     "metadata": {},
     "output_type": "execute_result"
    }
   ],
   "source": [
    "customerDemographic.gender.value_counts()"
   ]
  },
  {
   "cell_type": "code",
   "execution_count": 20,
   "metadata": {
    "_cell_guid": "52e7f5dd-d996-4885-a441-c0b4354e6ba3",
    "_uuid": "48a9cfec-6aa1-4847-a298-e92ec7067183",
    "execution": {
     "iopub.execute_input": "2020-08-26T15:53:51.973925Z",
     "iopub.status.busy": "2020-08-26T15:53:51.972958Z",
     "iopub.status.idle": "2020-08-26T15:53:51.977198Z",
     "shell.execute_reply": "2020-08-26T15:53:51.976416Z"
    },
    "papermill": {
     "duration": 0.037446,
     "end_time": "2020-08-26T15:53:51.977333",
     "exception": false,
     "start_time": "2020-08-26T15:53:51.939887",
     "status": "completed"
    },
    "tags": []
   },
   "outputs": [],
   "source": [
    "customerDemographic.gender = customerDemographic.gender.replace(to_replace=['Female', 'Femal', 'F'], value= 'F')\n",
    "customerDemographic.gender = customerDemographic.gender.replace(to_replace=['Male'], value= 'M')\n",
    "customerDemographic.gender = customerDemographic.gender.astype('category')"
   ]
  },
  {
   "cell_type": "markdown",
   "execution_count": null,
   "metadata": {
    "_cell_guid": "4d61d29b-9420-4855-9dee-f1c4ee4f7cf5",
    "_uuid": "5fef1b28-6efb-4f12-b244-ae521e75d465",
    "papermill": {
     "duration": 0.020945,
     "end_time": "2020-08-26T15:53:52.019213",
     "exception": false,
     "start_time": "2020-08-26T15:53:51.998268",
     "status": "completed"
    },
    "tags": []
   },
   "source": [
    "I will change the format of variables : deceased_indicator and owns_car from object to bool."
   ]
  },
  {
   "cell_type": "code",
   "execution_count": 21,
   "metadata": {
    "_cell_guid": "615663e2-ae8a-4e1a-8a20-084541d6494e",
    "_uuid": "6d2d0a8a-9d1c-43d5-b165-a28a242618f5",
    "execution": {
     "iopub.execute_input": "2020-08-26T15:53:52.074988Z",
     "iopub.status.busy": "2020-08-26T15:53:52.068218Z",
     "iopub.status.idle": "2020-08-26T15:53:52.078803Z",
     "shell.execute_reply": "2020-08-26T15:53:52.078090Z"
    },
    "papermill": {
     "duration": 0.038583,
     "end_time": "2020-08-26T15:53:52.078937",
     "exception": false,
     "start_time": "2020-08-26T15:53:52.040354",
     "status": "completed"
    },
    "tags": []
   },
   "outputs": [],
   "source": [
    "customerDemographic.deceased_indicator = customerDemographic.deceased_indicator.replace(to_replace=['N'], value= 0)\n",
    "customerDemographic.deceased_indicator = customerDemographic.deceased_indicator.replace(to_replace=['Y'], value= 1)\n",
    "\n",
    "customerDemographic.deceased_indicator = customerDemographic.deceased_indicator.astype('bool')"
   ]
  },
  {
   "cell_type": "code",
   "execution_count": 22,
   "metadata": {
    "_cell_guid": "9c2543d2-5625-4bc2-b9ab-14a42bc4cae5",
    "_uuid": "d8810fd1-1b88-42f3-95e4-f927ae8bb238",
    "execution": {
     "iopub.execute_input": "2020-08-26T15:53:52.133571Z",
     "iopub.status.busy": "2020-08-26T15:53:52.131926Z",
     "iopub.status.idle": "2020-08-26T15:53:52.137275Z",
     "shell.execute_reply": "2020-08-26T15:53:52.136521Z"
    },
    "papermill": {
     "duration": 0.037347,
     "end_time": "2020-08-26T15:53:52.137410",
     "exception": false,
     "start_time": "2020-08-26T15:53:52.100063",
     "status": "completed"
    },
    "tags": []
   },
   "outputs": [],
   "source": [
    "customerDemographic.owns_car = customerDemographic.owns_car.replace(to_replace=['No'], value= 0)\n",
    "customerDemographic.owns_car = customerDemographic.owns_car.replace(to_replace=['Yes'], value= 1)\n",
    "\n",
    "customerDemographic.owns_car = customerDemographic.owns_car.astype('bool')"
   ]
  },
  {
   "cell_type": "markdown",
   "execution_count": null,
   "metadata": {
    "_cell_guid": "28d9085f-d286-4d73-bef7-0ec1e6eb4879",
    "_uuid": "b91ed72e-0dc0-42e0-a823-34b715c8c1e9",
    "papermill": {
     "duration": 0.071576,
     "end_time": "2020-08-26T15:53:52.230184",
     "exception": false,
     "start_time": "2020-08-26T15:53:52.158608",
     "status": "completed"
    },
    "tags": []
   },
   "source": [
    "I will rename column name DOB to birth_date"
   ]
  },
  {
   "cell_type": "code",
   "execution_count": 23,
   "metadata": {
    "_cell_guid": "1feef2db-100f-4595-b21d-d6372d5a9b24",
    "_uuid": "dba77d16-1ba7-4a64-8f8f-691bbe124231",
    "execution": {
     "iopub.execute_input": "2020-08-26T15:53:52.279297Z",
     "iopub.status.busy": "2020-08-26T15:53:52.278254Z",
     "iopub.status.idle": "2020-08-26T15:53:52.281368Z",
     "shell.execute_reply": "2020-08-26T15:53:52.281919Z"
    },
    "papermill": {
     "duration": 0.031056,
     "end_time": "2020-08-26T15:53:52.282085",
     "exception": false,
     "start_time": "2020-08-26T15:53:52.251029",
     "status": "completed"
    },
    "tags": []
   },
   "outputs": [],
   "source": [
    "customerDemographic = customerDemographic.rename(columns={\"DOB\": \"birth_date\"})"
   ]
  },
  {
   "cell_type": "markdown",
   "execution_count": null,
   "metadata": {
    "_cell_guid": "6fc7c89e-de3d-4e25-8e69-cfda414d7448",
    "_uuid": "7e3b224f-2cc4-4bf2-b2e9-c253fb0418e4",
    "papermill": {
     "duration": 0.021702,
     "end_time": "2020-08-26T15:53:52.324709",
     "exception": false,
     "start_time": "2020-08-26T15:53:52.303007",
     "status": "completed"
    },
    "tags": []
   },
   "source": [
    "Client with id 34 appears to be born in 1843, I will replace this value with Nan."
   ]
  },
  {
   "cell_type": "code",
   "execution_count": 24,
   "metadata": {
    "_cell_guid": "9a985162-ff64-48e5-82cd-aa86c572d1f3",
    "_uuid": "bd05fb52-07d6-4a9e-b02f-aaafc78c588d",
    "execution": {
     "iopub.execute_input": "2020-08-26T15:53:52.374153Z",
     "iopub.status.busy": "2020-08-26T15:53:52.373112Z",
     "iopub.status.idle": "2020-08-26T15:53:52.377340Z",
     "shell.execute_reply": "2020-08-26T15:53:52.376680Z"
    },
    "papermill": {
     "duration": 0.031633,
     "end_time": "2020-08-26T15:53:52.377464",
     "exception": false,
     "start_time": "2020-08-26T15:53:52.345831",
     "status": "completed"
    },
    "tags": []
   },
   "outputs": [
    {
     "data": {
      "text/plain": [
       "Timestamp('1843-12-21 00:00:00')"
      ]
     },
     "execution_count": 24,
     "metadata": {},
     "output_type": "execute_result"
    }
   ],
   "source": [
    "customerDemographic.birth_date.min()"
   ]
  },
  {
   "cell_type": "code",
   "execution_count": 25,
   "metadata": {
    "_cell_guid": "ebb6d48a-d8ef-4b25-a199-c23aba8420aa",
    "_uuid": "1b1c8bee-dfc6-4621-965a-3a5135faacd0",
    "execution": {
     "iopub.execute_input": "2020-08-26T15:53:52.427050Z",
     "iopub.status.busy": "2020-08-26T15:53:52.425952Z",
     "iopub.status.idle": "2020-08-26T15:53:52.432375Z",
     "shell.execute_reply": "2020-08-26T15:53:52.432933Z"
    },
    "papermill": {
     "duration": 0.034601,
     "end_time": "2020-08-26T15:53:52.433101",
     "exception": false,
     "start_time": "2020-08-26T15:53:52.398500",
     "status": "completed"
    },
    "tags": []
   },
   "outputs": [],
   "source": [
    "customerDemographic.loc[  customerDemographic.birth_date == customerDemographic.birth_date.min(), 'birth_date' ] = np.nan"
   ]
  },
  {
   "cell_type": "code",
   "execution_count": 26,
   "metadata": {
    "_cell_guid": "eaaab5ff-1e84-482f-916e-d9d03555d394",
    "_uuid": "3c374193-2f0a-481f-999d-29236cc717ef",
    "execution": {
     "iopub.execute_input": "2020-08-26T15:53:52.482237Z",
     "iopub.status.busy": "2020-08-26T15:53:52.481165Z",
     "iopub.status.idle": "2020-08-26T15:53:52.499723Z",
     "shell.execute_reply": "2020-08-26T15:53:52.500258Z"
    },
    "papermill": {
     "duration": 0.045853,
     "end_time": "2020-08-26T15:53:52.500422",
     "exception": false,
     "start_time": "2020-08-26T15:53:52.454569",
     "status": "completed"
    },
    "tags": []
   },
   "outputs": [
    {
     "data": {
      "text/html": [
       "<div>\n",
       "<style scoped>\n",
       "    .dataframe tbody tr th:only-of-type {\n",
       "        vertical-align: middle;\n",
       "    }\n",
       "\n",
       "    .dataframe tbody tr th {\n",
       "        vertical-align: top;\n",
       "    }\n",
       "\n",
       "    .dataframe thead th {\n",
       "        text-align: right;\n",
       "    }\n",
       "</style>\n",
       "<table border=\"1\" class=\"dataframe\">\n",
       "  <thead>\n",
       "    <tr style=\"text-align: right;\">\n",
       "      <th></th>\n",
       "      <th>customer_id</th>\n",
       "      <th>first_name</th>\n",
       "      <th>last_name</th>\n",
       "      <th>gender</th>\n",
       "      <th>past_3_years_bike_related_purchases</th>\n",
       "      <th>birth_date</th>\n",
       "      <th>job_title</th>\n",
       "      <th>job_industry_category</th>\n",
       "      <th>wealth_segment</th>\n",
       "      <th>deceased_indicator</th>\n",
       "      <th>owns_car</th>\n",
       "      <th>tenure</th>\n",
       "    </tr>\n",
       "  </thead>\n",
       "  <tbody>\n",
       "    <tr>\n",
       "      <th>719</th>\n",
       "      <td>720</td>\n",
       "      <td>Darrel</td>\n",
       "      <td>Canet</td>\n",
       "      <td>M</td>\n",
       "      <td>67</td>\n",
       "      <td>1931-10-23</td>\n",
       "      <td>Recruiting Manager</td>\n",
       "      <td>Retail</td>\n",
       "      <td>Affluent Customer</td>\n",
       "      <td>False</td>\n",
       "      <td>False</td>\n",
       "      <td>6.0</td>\n",
       "    </tr>\n",
       "  </tbody>\n",
       "</table>\n",
       "</div>"
      ],
      "text/plain": [
       "     customer_id first_name last_name gender  \\\n",
       "719          720     Darrel     Canet      M   \n",
       "\n",
       "     past_3_years_bike_related_purchases birth_date           job_title  \\\n",
       "719                                   67 1931-10-23  Recruiting Manager   \n",
       "\n",
       "    job_industry_category     wealth_segment  deceased_indicator  owns_car  \\\n",
       "719                Retail  Affluent Customer               False     False   \n",
       "\n",
       "     tenure  \n",
       "719     6.0  "
      ]
     },
     "execution_count": 26,
     "metadata": {},
     "output_type": "execute_result"
    }
   ],
   "source": [
    "customerDemographic.loc[  customerDemographic.birth_date == customerDemographic.birth_date.min()]"
   ]
  },
  {
   "cell_type": "code",
   "execution_count": 27,
   "metadata": {
    "_cell_guid": "8f52456d-925d-4b22-9d11-34583f9acf0d",
    "_uuid": "8d7053a6-965b-48d8-9de7-484f6693b595",
    "execution": {
     "iopub.execute_input": "2020-08-26T15:53:52.554169Z",
     "iopub.status.busy": "2020-08-26T15:53:52.553364Z",
     "iopub.status.idle": "2020-08-26T15:53:52.566414Z",
     "shell.execute_reply": "2020-08-26T15:53:52.565534Z"
    },
    "papermill": {
     "duration": 0.044562,
     "end_time": "2020-08-26T15:53:52.566549",
     "exception": false,
     "start_time": "2020-08-26T15:53:52.521987",
     "status": "completed"
    },
    "tags": []
   },
   "outputs": [
    {
     "name": "stdout",
     "output_type": "stream",
     "text": [
      "<class 'pandas.core.frame.DataFrame'>\n",
      "Int64Index: 5000 entries, 0 to 999\n",
      "Data columns (total 12 columns):\n",
      " #   Column                               Non-Null Count  Dtype         \n",
      "---  ------                               --------------  -----         \n",
      " 0   customer_id                          5000 non-null   int64         \n",
      " 1   first_name                           5000 non-null   object        \n",
      " 2   last_name                            4846 non-null   object        \n",
      " 3   gender                               5000 non-null   category      \n",
      " 4   past_3_years_bike_related_purchases  5000 non-null   int64         \n",
      " 5   birth_date                           4895 non-null   datetime64[ns]\n",
      " 6   job_title                            4388 non-null   object        \n",
      " 7   job_industry_category                4179 non-null   object        \n",
      " 8   wealth_segment                       5000 non-null   object        \n",
      " 9   deceased_indicator                   5000 non-null   bool          \n",
      " 10  owns_car                             5000 non-null   bool          \n",
      " 11  tenure                               4913 non-null   float64       \n",
      "dtypes: bool(2), category(1), datetime64[ns](1), float64(1), int64(2), object(5)\n",
      "memory usage: 405.4+ KB\n"
     ]
    }
   ],
   "source": [
    "customerDemographic.info()"
   ]
  },
  {
   "cell_type": "markdown",
   "execution_count": null,
   "metadata": {
    "_cell_guid": "c0bd0a4e-44e5-4914-aee9-4fcd87bc0067",
    "_uuid": "d30435f3-5871-43b4-bbff-66fdd3cce2ae",
    "papermill": {
     "duration": 0.021659,
     "end_time": "2020-08-26T15:53:52.610341",
     "exception": false,
     "start_time": "2020-08-26T15:53:52.588682",
     "status": "completed"
    },
    "tags": []
   },
   "source": [
    "### Check outliers\n",
    "\n",
    "In customerDemographic don't exist outliers. Deceased_indicator is a bool variable."
   ]
  },
  {
   "cell_type": "code",
   "execution_count": 28,
   "metadata": {
    "_cell_guid": "89ac4c39-d51e-4474-96dc-ac3929c874c1",
    "_uuid": "e32818de-1bb8-4faf-b6f5-a8748dc56423",
    "execution": {
     "iopub.execute_input": "2020-08-26T15:53:52.660014Z",
     "iopub.status.busy": "2020-08-26T15:53:52.658948Z",
     "iopub.status.idle": "2020-08-26T15:53:52.673930Z",
     "shell.execute_reply": "2020-08-26T15:53:52.673275Z"
    },
    "papermill": {
     "duration": 0.042007,
     "end_time": "2020-08-26T15:53:52.674058",
     "exception": false,
     "start_time": "2020-08-26T15:53:52.632051",
     "status": "completed"
    },
    "tags": []
   },
   "outputs": [
    {
     "name": "stdout",
     "output_type": "stream",
     "text": [
      "customer_id                             0.001198\n",
      "past_3_years_bike_related_purchases     0.023792\n",
      "deceased_indicator                     49.984992\n",
      "owns_car                               -0.013604\n",
      "tenure                                  0.051070\n",
      "dtype: float64\n"
     ]
    }
   ],
   "source": [
    "print( customerDemographic.skew() )"
   ]
  },
  {
   "cell_type": "markdown",
   "execution_count": null,
   "metadata": {
    "_cell_guid": "14ac22b1-eea5-4b8f-914f-58f04b1fcb3c",
    "_uuid": "ff9df66a-5c5f-46d1-991b-191223d7c552",
    "papermill": {
     "duration": 0.021382,
     "end_time": "2020-08-26T15:53:52.717440",
     "exception": false,
     "start_time": "2020-08-26T15:53:52.696058",
     "status": "completed"
    },
    "tags": []
   },
   "source": [
    "## Transactions"
   ]
  },
  {
   "cell_type": "markdown",
   "execution_count": null,
   "metadata": {
    "_cell_guid": "343da71f-c6d6-4632-9aa0-d135b170159c",
    "_uuid": "22114afb-b930-48f1-b6b1-df16a403fe78",
    "papermill": {
     "duration": 0.021509,
     "end_time": "2020-08-26T15:53:52.760639",
     "exception": false,
     "start_time": "2020-08-26T15:53:52.739130",
     "status": "completed"
    },
    "tags": []
   },
   "source": [
    "### Check data format"
   ]
  },
  {
   "cell_type": "code",
   "execution_count": 29,
   "metadata": {
    "_cell_guid": "2e73c7c4-4ddc-4aa4-9239-92fc40976af0",
    "_uuid": "72d83f84-ab40-42bd-90c9-3de259982f46",
    "execution": {
     "iopub.execute_input": "2020-08-26T15:53:52.821874Z",
     "iopub.status.busy": "2020-08-26T15:53:52.821084Z",
     "iopub.status.idle": "2020-08-26T15:53:52.835995Z",
     "shell.execute_reply": "2020-08-26T15:53:52.835086Z"
    },
    "papermill": {
     "duration": 0.05348,
     "end_time": "2020-08-26T15:53:52.836138",
     "exception": false,
     "start_time": "2020-08-26T15:53:52.782658",
     "status": "completed"
    },
    "tags": []
   },
   "outputs": [
    {
     "name": "stdout",
     "output_type": "stream",
     "text": [
      "<class 'pandas.core.frame.DataFrame'>\n",
      "RangeIndex: 20000 entries, 0 to 19999\n",
      "Data columns (total 13 columns):\n",
      " #   Column                   Non-Null Count  Dtype         \n",
      "---  ------                   --------------  -----         \n",
      " 0   transaction_id           20000 non-null  int64         \n",
      " 1   product_id               20000 non-null  int64         \n",
      " 2   customer_id              20000 non-null  int64         \n",
      " 3   transaction_date         20000 non-null  datetime64[ns]\n",
      " 4   online_order             19640 non-null  float64       \n",
      " 5   order_status             20000 non-null  object        \n",
      " 6   brand                    19803 non-null  object        \n",
      " 7   product_line             19803 non-null  object        \n",
      " 8   product_class            19803 non-null  object        \n",
      " 9   product_size             19803 non-null  object        \n",
      " 10  list_price               20000 non-null  float64       \n",
      " 11  standard_cost            19803 non-null  float64       \n",
      " 12  product_first_sold_date  19803 non-null  float64       \n",
      "dtypes: datetime64[ns](1), float64(4), int64(3), object(5)\n",
      "memory usage: 2.0+ MB\n"
     ]
    }
   ],
   "source": [
    "transactions.info()"
   ]
  },
  {
   "cell_type": "markdown",
   "execution_count": null,
   "metadata": {
    "_cell_guid": "c8685b80-2c5f-4540-8749-9ed564f0fd6d",
    "_uuid": "14525432-fea7-42ed-aefe-ed93161dcaea",
    "papermill": {
     "duration": 0.022295,
     "end_time": "2020-08-26T15:53:52.880580",
     "exception": false,
     "start_time": "2020-08-26T15:53:52.858285",
     "status": "completed"
    },
    "tags": []
   },
   "source": [
    "I will change the date of product_first_sold_date from float to date."
   ]
  },
  {
   "cell_type": "code",
   "execution_count": 30,
   "metadata": {
    "_cell_guid": "ab0ad021-a3fc-48d9-bb42-83e8fa502981",
    "_uuid": "b1a788fa-10e4-406a-8aa5-d2281a5adeb9",
    "execution": {
     "iopub.execute_input": "2020-08-26T15:53:52.931267Z",
     "iopub.status.busy": "2020-08-26T15:53:52.930340Z",
     "iopub.status.idle": "2020-08-26T15:53:52.936321Z",
     "shell.execute_reply": "2020-08-26T15:53:52.935558Z"
    },
    "papermill": {
     "duration": 0.033922,
     "end_time": "2020-08-26T15:53:52.936480",
     "exception": false,
     "start_time": "2020-08-26T15:53:52.902558",
     "status": "completed"
    },
    "tags": []
   },
   "outputs": [],
   "source": [
    "transactions.product_first_sold_date = pd.to_datetime('1899-12-30') + pd.to_timedelta(transactions.product_first_sold_date,'D')"
   ]
  },
  {
   "cell_type": "markdown",
   "execution_count": null,
   "metadata": {
    "_cell_guid": "fae93cff-f432-405a-82be-ff6dbef18688",
    "_uuid": "b219cb78-cc32-4f11-b23b-c0b3dfb2a809",
    "papermill": {
     "duration": 0.022016,
     "end_time": "2020-08-26T15:53:52.981168",
     "exception": false,
     "start_time": "2020-08-26T15:53:52.959152",
     "status": "completed"
    },
    "tags": []
   },
   "source": [
    "I will change the type of variable online_order from object to bool."
   ]
  },
  {
   "cell_type": "code",
   "execution_count": 31,
   "metadata": {
    "_cell_guid": "3f0c3ad5-5ed4-4b7b-9a03-9d19a58086b7",
    "_uuid": "61261c1f-8a27-4d4f-b491-3ad0e68b12a4",
    "execution": {
     "iopub.execute_input": "2020-08-26T15:53:53.035283Z",
     "iopub.status.busy": "2020-08-26T15:53:53.034344Z",
     "iopub.status.idle": "2020-08-26T15:53:53.038724Z",
     "shell.execute_reply": "2020-08-26T15:53:53.037970Z"
    },
    "papermill": {
     "duration": 0.035351,
     "end_time": "2020-08-26T15:53:53.038852",
     "exception": false,
     "start_time": "2020-08-26T15:53:53.003501",
     "status": "completed"
    },
    "tags": []
   },
   "outputs": [],
   "source": [
    "transactions.online_order = transactions.online_order.replace(to_replace=['No'], value= 0)\n",
    "transactions.online_order = transactions.online_order.replace(to_replace=['Yes'], value= 1)\n",
    "\n",
    "transactions.online_order = transactions.online_order.astype('bool')"
   ]
  },
  {
   "cell_type": "code",
   "execution_count": 32,
   "metadata": {
    "_cell_guid": "77709bf6-0b0d-4287-92a5-bb3045bc7928",
    "_uuid": "1a57d67e-dae9-4b1a-9229-bd05c0dd667c",
    "execution": {
     "iopub.execute_input": "2020-08-26T15:53:53.089520Z",
     "iopub.status.busy": "2020-08-26T15:53:53.088719Z",
     "iopub.status.idle": "2020-08-26T15:53:53.113402Z",
     "shell.execute_reply": "2020-08-26T15:53:53.112739Z"
    },
    "papermill": {
     "duration": 0.052291,
     "end_time": "2020-08-26T15:53:53.113533",
     "exception": false,
     "start_time": "2020-08-26T15:53:53.061242",
     "status": "completed"
    },
    "tags": []
   },
   "outputs": [
    {
     "name": "stdout",
     "output_type": "stream",
     "text": [
      "<class 'pandas.core.frame.DataFrame'>\n",
      "RangeIndex: 20000 entries, 0 to 19999\n",
      "Data columns (total 13 columns):\n",
      " #   Column                   Non-Null Count  Dtype         \n",
      "---  ------                   --------------  -----         \n",
      " 0   transaction_id           20000 non-null  int64         \n",
      " 1   product_id               20000 non-null  int64         \n",
      " 2   customer_id              20000 non-null  int64         \n",
      " 3   transaction_date         20000 non-null  datetime64[ns]\n",
      " 4   online_order             20000 non-null  bool          \n",
      " 5   order_status             20000 non-null  object        \n",
      " 6   brand                    19803 non-null  object        \n",
      " 7   product_line             19803 non-null  object        \n",
      " 8   product_class            19803 non-null  object        \n",
      " 9   product_size             19803 non-null  object        \n",
      " 10  list_price               20000 non-null  float64       \n",
      " 11  standard_cost            19803 non-null  float64       \n",
      " 12  product_first_sold_date  19803 non-null  datetime64[ns]\n",
      "dtypes: bool(1), datetime64[ns](2), float64(2), int64(3), object(5)\n",
      "memory usage: 1.9+ MB\n"
     ]
    }
   ],
   "source": [
    "transactions.info()"
   ]
  },
  {
   "cell_type": "markdown",
   "execution_count": null,
   "metadata": {
    "_cell_guid": "d98fae8b-9f9e-4502-b31e-a30016d93342",
    "_uuid": "05668d11-0018-4a3d-a1bd-068ccdda0ba9",
    "papermill": {
     "duration": 0.022329,
     "end_time": "2020-08-26T15:53:53.158571",
     "exception": false,
     "start_time": "2020-08-26T15:53:53.136242",
     "status": "completed"
    },
    "tags": []
   },
   "source": [
    "### Check missing values\n"
   ]
  },
  {
   "cell_type": "code",
   "execution_count": 33,
   "metadata": {
    "_cell_guid": "93088c4c-755a-4712-92c9-e4e2001ac1bf",
    "_uuid": "90532846-6551-4e58-88b1-81bb2edfee73",
    "execution": {
     "iopub.execute_input": "2020-08-26T15:53:53.221054Z",
     "iopub.status.busy": "2020-08-26T15:53:53.220223Z",
     "iopub.status.idle": "2020-08-26T15:53:53.229273Z",
     "shell.execute_reply": "2020-08-26T15:53:53.228634Z"
    },
    "papermill": {
     "duration": 0.048473,
     "end_time": "2020-08-26T15:53:53.229395",
     "exception": false,
     "start_time": "2020-08-26T15:53:53.180922",
     "status": "completed"
    },
    "tags": []
   },
   "outputs": [
    {
     "data": {
      "text/plain": [
       "transaction_id               0\n",
       "product_id                   0\n",
       "customer_id                  0\n",
       "transaction_date             0\n",
       "online_order                 0\n",
       "order_status                 0\n",
       "brand                      197\n",
       "product_line               197\n",
       "product_class              197\n",
       "product_size               197\n",
       "list_price                   0\n",
       "standard_cost              197\n",
       "product_first_sold_date    197\n",
       "dtype: int64"
      ]
     },
     "execution_count": 33,
     "metadata": {},
     "output_type": "execute_result"
    }
   ],
   "source": [
    "transactions.isnull().sum()"
   ]
  },
  {
   "cell_type": "code",
   "execution_count": 34,
   "metadata": {
    "execution": {
     "iopub.execute_input": "2020-08-26T15:53:53.280889Z",
     "iopub.status.busy": "2020-08-26T15:53:53.279748Z",
     "iopub.status.idle": "2020-08-26T15:53:53.284163Z",
     "shell.execute_reply": "2020-08-26T15:53:53.283522Z"
    },
    "papermill": {
     "duration": 0.032211,
     "end_time": "2020-08-26T15:53:53.284294",
     "exception": false,
     "start_time": "2020-08-26T15:53:53.252083",
     "status": "completed"
    },
    "tags": []
   },
   "outputs": [
    {
     "data": {
      "text/plain": [
       "(20000, 13)"
      ]
     },
     "execution_count": 34,
     "metadata": {},
     "output_type": "execute_result"
    }
   ],
   "source": [
    "transactions.shape"
   ]
  },
  {
   "cell_type": "markdown",
   "execution_count": null,
   "metadata": {
    "papermill": {
     "duration": 0.029318,
     "end_time": "2020-08-26T15:53:53.336366",
     "exception": false,
     "start_time": "2020-08-26T15:53:53.307048",
     "status": "completed"
    },
    "tags": []
   },
   "source": [
    "Only 1% from the record from transactions include missing values so I will remove this records. "
   ]
  },
  {
   "cell_type": "code",
   "execution_count": 35,
   "metadata": {
    "execution": {
     "iopub.execute_input": "2020-08-26T15:53:53.397637Z",
     "iopub.status.busy": "2020-08-26T15:53:53.396364Z",
     "iopub.status.idle": "2020-08-26T15:53:53.402012Z",
     "shell.execute_reply": "2020-08-26T15:53:53.401029Z"
    },
    "papermill": {
     "duration": 0.039077,
     "end_time": "2020-08-26T15:53:53.402206",
     "exception": false,
     "start_time": "2020-08-26T15:53:53.363129",
     "status": "completed"
    },
    "tags": []
   },
   "outputs": [
    {
     "data": {
      "text/plain": [
       "0.985"
      ]
     },
     "execution_count": 35,
     "metadata": {},
     "output_type": "execute_result"
    }
   ],
   "source": [
    "197 / 20000 * 100"
   ]
  },
  {
   "cell_type": "code",
   "execution_count": 36,
   "metadata": {
    "execution": {
     "iopub.execute_input": "2020-08-26T15:53:53.482607Z",
     "iopub.status.busy": "2020-08-26T15:53:53.471043Z",
     "iopub.status.idle": "2020-08-26T15:53:53.511730Z",
     "shell.execute_reply": "2020-08-26T15:53:53.510934Z"
    },
    "papermill": {
     "duration": 0.07813,
     "end_time": "2020-08-26T15:53:53.511896",
     "exception": false,
     "start_time": "2020-08-26T15:53:53.433766",
     "status": "completed"
    },
    "tags": []
   },
   "outputs": [],
   "source": [
    "transactions = transactions.dropna( how = 'any')"
   ]
  },
  {
   "cell_type": "markdown",
   "execution_count": null,
   "metadata": {
    "_cell_guid": "c8ac7c9a-9df6-4cf7-a4c5-b4b7ce650fb3",
    "_uuid": "e2d1bddd-5f70-446a-8ae3-3aa491aefb08",
    "papermill": {
     "duration": 0.022784,
     "end_time": "2020-08-26T15:53:53.558018",
     "exception": false,
     "start_time": "2020-08-26T15:53:53.535234",
     "status": "completed"
    },
    "tags": []
   },
   "source": [
    "### Check outliers\n",
    "\n",
    "Value of the skewness for the variable called standard_cost is 0.86, this indicates a that the variable is positively skewed. The other variables don't have outliers."
   ]
  },
  {
   "cell_type": "code",
   "execution_count": 37,
   "metadata": {
    "_cell_guid": "f97f242a-ea70-42dc-96e4-926fd74aac53",
    "_uuid": "16bf22d2-aac7-4673-8601-effc6fd8e2b1",
    "execution": {
     "iopub.execute_input": "2020-08-26T15:53:53.611412Z",
     "iopub.status.busy": "2020-08-26T15:53:53.610139Z",
     "iopub.status.idle": "2020-08-26T15:53:53.631284Z",
     "shell.execute_reply": "2020-08-26T15:53:53.631921Z"
    },
    "papermill": {
     "duration": 0.05086,
     "end_time": "2020-08-26T15:53:53.632094",
     "exception": false,
     "start_time": "2020-08-26T15:53:53.581234",
     "status": "completed"
    },
    "tags": []
   },
   "outputs": [
    {
     "name": "stdout",
     "output_type": "stream",
     "text": [
      "transaction_id    0.001180\n",
      "product_id        0.072353\n",
      "customer_id       0.011879\n",
      "online_order     -0.039500\n",
      "list_price       -0.126527\n",
      "standard_cost     0.864142\n",
      "dtype: float64\n"
     ]
    }
   ],
   "source": [
    "print(transactions.skew())"
   ]
  },
  {
   "cell_type": "code",
   "execution_count": 38,
   "metadata": {
    "_cell_guid": "e77eb776-482b-4e3b-9eb2-4f7e0d5593be",
    "_uuid": "53000791-b311-43fa-8294-aada17d01872",
    "execution": {
     "iopub.execute_input": "2020-08-26T15:53:53.694080Z",
     "iopub.status.busy": "2020-08-26T15:53:53.687299Z",
     "iopub.status.idle": "2020-08-26T15:53:53.825003Z",
     "shell.execute_reply": "2020-08-26T15:53:53.824262Z"
    },
    "papermill": {
     "duration": 0.169846,
     "end_time": "2020-08-26T15:53:53.825129",
     "exception": false,
     "start_time": "2020-08-26T15:53:53.655283",
     "status": "completed"
    },
    "tags": []
   },
   "outputs": [
    {
     "data": {
      "text/plain": [
       "<matplotlib.axes._subplots.AxesSubplot at 0x7f5092212d50>"
      ]
     },
     "execution_count": 38,
     "metadata": {},
     "output_type": "execute_result"
    },
    {
     "data": {
      "image/png": "[encoded data removed]",
      "text/plain": [
       "<Figure size 432x288 with 1 Axes>"
      ]
     },
     "metadata": {
      "needs_background": "light"
     },
     "output_type": "display_data"
    }
   ],
   "source": [
    "transactions.standard_cost.plot.box()"
   ]
  },
  {
   "cell_type": "markdown",
   "execution_count": null,
   "metadata": {
    "_cell_guid": "9731cee6-20f0-43f2-be11-c33a94f8beaf",
    "_uuid": "3f6a8de4-a088-4339-93b4-94ecadeefbd8",
    "papermill": {
     "duration": 0.023147,
     "end_time": "2020-08-26T15:53:53.871892",
     "exception": false,
     "start_time": "2020-08-26T15:53:53.848745",
     "status": "completed"
    },
    "tags": []
   },
   "source": [
    "The boxplot indicates that sandard_cost has an outlier, a value equal with 1977.36. After assessment, I found this value in 195 of records, so I won't remove it."
   ]
  },
  {
   "cell_type": "code",
   "execution_count": 39,
   "metadata": {
    "_cell_guid": "c006ed4c-7eb8-4d01-9bea-5be948fbdcfe",
    "_uuid": "70b9f4ca-27ac-4ae0-afc6-14478c9a39a0",
    "execution": {
     "iopub.execute_input": "2020-08-26T15:53:53.927600Z",
     "iopub.status.busy": "2020-08-26T15:53:53.925483Z",
     "iopub.status.idle": "2020-08-26T15:53:53.932164Z",
     "shell.execute_reply": "2020-08-26T15:53:53.931335Z"
    },
    "papermill": {
     "duration": 0.036165,
     "end_time": "2020-08-26T15:53:53.932301",
     "exception": false,
     "start_time": "2020-08-26T15:53:53.896136",
     "status": "completed"
    },
    "tags": []
   },
   "outputs": [
    {
     "data": {
      "text/plain": [
       "(195, 13)"
      ]
     },
     "execution_count": 39,
     "metadata": {},
     "output_type": "execute_result"
    }
   ],
   "source": [
    "transactions.loc[transactions.standard_cost == transactions.standard_cost.max(), ].shape"
   ]
  },
  {
   "cell_type": "markdown",
   "execution_count": null,
   "metadata": {
    "_cell_guid": "cb391d2a-4133-4072-a3b1-c09cd6db132e",
    "_uuid": "fff133a3-f533-48b2-8940-09d3174529da",
    "papermill": {
     "duration": 0.02377,
     "end_time": "2020-08-26T15:53:53.984398",
     "exception": false,
     "start_time": "2020-08-26T15:53:53.960628",
     "status": "completed"
    },
    "tags": []
   },
   "source": [
    "## Merge customerDemographic an customerAddress"
   ]
  },
  {
   "cell_type": "code",
   "execution_count": 40,
   "metadata": {
    "_cell_guid": "00808bb4-f41f-4709-b75f-5475c28144f2",
    "_uuid": "5ae73691-93d5-402e-81a0-5efdfa035b12",
    "execution": {
     "iopub.execute_input": "2020-08-26T15:53:54.040133Z",
     "iopub.status.busy": "2020-08-26T15:53:54.038914Z",
     "iopub.status.idle": "2020-08-26T15:53:54.055468Z",
     "shell.execute_reply": "2020-08-26T15:53:54.054868Z"
    },
    "papermill": {
     "duration": 0.047198,
     "end_time": "2020-08-26T15:53:54.055616",
     "exception": false,
     "start_time": "2020-08-26T15:53:54.008418",
     "status": "completed"
    },
    "tags": []
   },
   "outputs": [],
   "source": [
    "customers = customerDemographic.merge( customerAddress, on = 'customer_id')"
   ]
  },
  {
   "cell_type": "code",
   "execution_count": 41,
   "metadata": {
    "_cell_guid": "8ca2506b-fdb7-4b38-baa6-e87e9adc0ad3",
    "_uuid": "af6a4cba-b6b5-4aa1-acb3-f9aff10e3afe",
    "execution": {
     "iopub.execute_input": "2020-08-26T15:53:54.133250Z",
     "iopub.status.busy": "2020-08-26T15:53:54.120307Z",
     "iopub.status.idle": "2020-08-26T15:53:54.138827Z",
     "shell.execute_reply": "2020-08-26T15:53:54.138054Z"
    },
    "papermill": {
     "duration": 0.059529,
     "end_time": "2020-08-26T15:53:54.138958",
     "exception": false,
     "start_time": "2020-08-26T15:53:54.079429",
     "status": "completed"
    },
    "tags": []
   },
   "outputs": [
    {
     "data": {
      "text/html": [
       "<div>\n",
       "<style scoped>\n",
       "    .dataframe tbody tr th:only-of-type {\n",
       "        vertical-align: middle;\n",
       "    }\n",
       "\n",
       "    .dataframe tbody tr th {\n",
       "        vertical-align: top;\n",
       "    }\n",
       "\n",
       "    .dataframe thead th {\n",
       "        text-align: right;\n",
       "    }\n",
       "</style>\n",
       "<table border=\"1\" class=\"dataframe\">\n",
       "  <thead>\n",
       "    <tr style=\"text-align: right;\">\n",
       "      <th></th>\n",
       "      <th>transaction_id</th>\n",
       "      <th>product_id</th>\n",
       "      <th>customer_id</th>\n",
       "      <th>transaction_date</th>\n",
       "      <th>online_order</th>\n",
       "      <th>order_status</th>\n",
       "      <th>brand</th>\n",
       "      <th>product_line</th>\n",
       "      <th>product_class</th>\n",
       "      <th>product_size</th>\n",
       "      <th>list_price</th>\n",
       "      <th>standard_cost</th>\n",
       "      <th>product_first_sold_date</th>\n",
       "    </tr>\n",
       "  </thead>\n",
       "  <tbody>\n",
       "    <tr>\n",
       "      <th>0</th>\n",
       "      <td>1</td>\n",
       "      <td>2</td>\n",
       "      <td>2950</td>\n",
       "      <td>2017-02-25</td>\n",
       "      <td>False</td>\n",
       "      <td>Approved</td>\n",
       "      <td>Solex</td>\n",
       "      <td>Standard</td>\n",
       "      <td>medium</td>\n",
       "      <td>medium</td>\n",
       "      <td>71.49</td>\n",
       "      <td>53.62</td>\n",
       "      <td>2012-12-02</td>\n",
       "    </tr>\n",
       "    <tr>\n",
       "      <th>1</th>\n",
       "      <td>2</td>\n",
       "      <td>3</td>\n",
       "      <td>3120</td>\n",
       "      <td>2017-05-21</td>\n",
       "      <td>True</td>\n",
       "      <td>Approved</td>\n",
       "      <td>Trek Bicycles</td>\n",
       "      <td>Standard</td>\n",
       "      <td>medium</td>\n",
       "      <td>large</td>\n",
       "      <td>2091.47</td>\n",
       "      <td>388.92</td>\n",
       "      <td>2014-03-03</td>\n",
       "    </tr>\n",
       "    <tr>\n",
       "      <th>2</th>\n",
       "      <td>3</td>\n",
       "      <td>37</td>\n",
       "      <td>402</td>\n",
       "      <td>2017-10-16</td>\n",
       "      <td>False</td>\n",
       "      <td>Approved</td>\n",
       "      <td>OHM Cycles</td>\n",
       "      <td>Standard</td>\n",
       "      <td>low</td>\n",
       "      <td>medium</td>\n",
       "      <td>1793.43</td>\n",
       "      <td>248.82</td>\n",
       "      <td>1999-07-20</td>\n",
       "    </tr>\n",
       "    <tr>\n",
       "      <th>3</th>\n",
       "      <td>4</td>\n",
       "      <td>88</td>\n",
       "      <td>3135</td>\n",
       "      <td>2017-08-31</td>\n",
       "      <td>False</td>\n",
       "      <td>Approved</td>\n",
       "      <td>Norco Bicycles</td>\n",
       "      <td>Standard</td>\n",
       "      <td>medium</td>\n",
       "      <td>medium</td>\n",
       "      <td>1198.46</td>\n",
       "      <td>381.10</td>\n",
       "      <td>1998-12-16</td>\n",
       "    </tr>\n",
       "    <tr>\n",
       "      <th>4</th>\n",
       "      <td>5</td>\n",
       "      <td>78</td>\n",
       "      <td>787</td>\n",
       "      <td>2017-10-01</td>\n",
       "      <td>True</td>\n",
       "      <td>Approved</td>\n",
       "      <td>Giant Bicycles</td>\n",
       "      <td>Standard</td>\n",
       "      <td>medium</td>\n",
       "      <td>large</td>\n",
       "      <td>1765.30</td>\n",
       "      <td>709.48</td>\n",
       "      <td>2015-08-10</td>\n",
       "    </tr>\n",
       "    <tr>\n",
       "      <th>...</th>\n",
       "      <td>...</td>\n",
       "      <td>...</td>\n",
       "      <td>...</td>\n",
       "      <td>...</td>\n",
       "      <td>...</td>\n",
       "      <td>...</td>\n",
       "      <td>...</td>\n",
       "      <td>...</td>\n",
       "      <td>...</td>\n",
       "      <td>...</td>\n",
       "      <td>...</td>\n",
       "      <td>...</td>\n",
       "      <td>...</td>\n",
       "    </tr>\n",
       "    <tr>\n",
       "      <th>19995</th>\n",
       "      <td>19996</td>\n",
       "      <td>51</td>\n",
       "      <td>1018</td>\n",
       "      <td>2017-06-24</td>\n",
       "      <td>True</td>\n",
       "      <td>Approved</td>\n",
       "      <td>OHM Cycles</td>\n",
       "      <td>Standard</td>\n",
       "      <td>high</td>\n",
       "      <td>medium</td>\n",
       "      <td>2005.66</td>\n",
       "      <td>1203.40</td>\n",
       "      <td>2003-07-21</td>\n",
       "    </tr>\n",
       "    <tr>\n",
       "      <th>19996</th>\n",
       "      <td>19997</td>\n",
       "      <td>41</td>\n",
       "      <td>127</td>\n",
       "      <td>2017-11-09</td>\n",
       "      <td>True</td>\n",
       "      <td>Approved</td>\n",
       "      <td>Solex</td>\n",
       "      <td>Road</td>\n",
       "      <td>medium</td>\n",
       "      <td>medium</td>\n",
       "      <td>416.98</td>\n",
       "      <td>312.74</td>\n",
       "      <td>1997-05-10</td>\n",
       "    </tr>\n",
       "    <tr>\n",
       "      <th>19997</th>\n",
       "      <td>19998</td>\n",
       "      <td>87</td>\n",
       "      <td>2284</td>\n",
       "      <td>2017-04-14</td>\n",
       "      <td>True</td>\n",
       "      <td>Approved</td>\n",
       "      <td>OHM Cycles</td>\n",
       "      <td>Standard</td>\n",
       "      <td>medium</td>\n",
       "      <td>medium</td>\n",
       "      <td>1636.90</td>\n",
       "      <td>44.71</td>\n",
       "      <td>2010-08-20</td>\n",
       "    </tr>\n",
       "    <tr>\n",
       "      <th>19998</th>\n",
       "      <td>19999</td>\n",
       "      <td>6</td>\n",
       "      <td>2764</td>\n",
       "      <td>2017-07-03</td>\n",
       "      <td>False</td>\n",
       "      <td>Approved</td>\n",
       "      <td>OHM Cycles</td>\n",
       "      <td>Standard</td>\n",
       "      <td>high</td>\n",
       "      <td>medium</td>\n",
       "      <td>227.88</td>\n",
       "      <td>136.73</td>\n",
       "      <td>2004-08-17</td>\n",
       "    </tr>\n",
       "    <tr>\n",
       "      <th>19999</th>\n",
       "      <td>20000</td>\n",
       "      <td>11</td>\n",
       "      <td>1144</td>\n",
       "      <td>2017-09-22</td>\n",
       "      <td>True</td>\n",
       "      <td>Approved</td>\n",
       "      <td>Trek Bicycles</td>\n",
       "      <td>Standard</td>\n",
       "      <td>medium</td>\n",
       "      <td>small</td>\n",
       "      <td>1775.81</td>\n",
       "      <td>1580.47</td>\n",
       "      <td>1999-06-23</td>\n",
       "    </tr>\n",
       "  </tbody>\n",
       "</table>\n",
       "<p>19803 rows × 13 columns</p>\n",
       "</div>"
      ],
      "text/plain": [
       "       transaction_id  product_id  customer_id transaction_date  online_order  \\\n",
       "0                   1           2         2950       2017-02-25         False   \n",
       "1                   2           3         3120       2017-05-21          True   \n",
       "2                   3          37          402       2017-10-16         False   \n",
       "3                   4          88         3135       2017-08-31         False   \n",
       "4                   5          78          787       2017-10-01          True   \n",
       "...               ...         ...          ...              ...           ...   \n",
       "19995           19996          51         1018       2017-06-24          True   \n",
       "19996           19997          41          127       2017-11-09          True   \n",
       "19997           19998          87         2284       2017-04-14          True   \n",
       "19998           19999           6         2764       2017-07-03         False   \n",
       "19999           20000          11         1144       2017-09-22          True   \n",
       "\n",
       "      order_status           brand product_line product_class product_size  \\\n",
       "0         Approved           Solex     Standard        medium       medium   \n",
       "1         Approved   Trek Bicycles     Standard        medium        large   \n",
       "2         Approved      OHM Cycles     Standard           low       medium   \n",
       "3         Approved  Norco Bicycles     Standard        medium       medium   \n",
       "4         Approved  Giant Bicycles     Standard        medium        large   \n",
       "...            ...             ...          ...           ...          ...   \n",
       "19995     Approved      OHM Cycles     Standard          high       medium   \n",
       "19996     Approved           Solex         Road        medium       medium   \n",
       "19997     Approved      OHM Cycles     Standard        medium       medium   \n",
       "19998     Approved      OHM Cycles     Standard          high       medium   \n",
       "19999     Approved   Trek Bicycles     Standard        medium        small   \n",
       "\n",
       "       list_price  standard_cost product_first_sold_date  \n",
       "0           71.49          53.62              2012-12-02  \n",
       "1         2091.47         388.92              2014-03-03  \n",
       "2         1793.43         248.82              1999-07-20  \n",
       "3         1198.46         381.10              1998-12-16  \n",
       "4         1765.30         709.48              2015-08-10  \n",
       "...           ...            ...                     ...  \n",
       "19995     2005.66        1203.40              2003-07-21  \n",
       "19996      416.98         312.74              1997-05-10  \n",
       "19997     1636.90          44.71              2010-08-20  \n",
       "19998      227.88         136.73              2004-08-17  \n",
       "19999     1775.81        1580.47              1999-06-23  \n",
       "\n",
       "[19803 rows x 13 columns]"
      ]
     },
     "execution_count": 41,
     "metadata": {},
     "output_type": "execute_result"
    }
   ],
   "source": [
    "transactions"
   ]
  }
 ],
 "metadata": {
  "kernelspec": {
   "display_name": "Python 3",
   "language": "python",
   "name": "python3"
  },
  "language_info": {
   "codemirror_mode": {
    "name": "ipython",
    "version": 3
   },
   "file_extension": ".py",
   "mimetype": "text/x-python",
   "name": "python",
   "nbconvert_exporter": "python",
   "pygments_lexer": "ipython3",
   "version": "3.7.6"
  },
  "papermill": {
   "duration": 42.492629,
   "end_time": "2020-08-26T15:53:54.271831",
   "environment_variables": {},
   "exception": null,
   "input_path": "__notebook__.ipynb",
   "output_path": "__notebook__.ipynb",
   "parameters": {},
   "start_time": "2020-08-26T15:53:11.779202",
   "version": "2.1.0"
  }
 },
 "nbformat": 4,
 "nbformat_minor": 4
}
