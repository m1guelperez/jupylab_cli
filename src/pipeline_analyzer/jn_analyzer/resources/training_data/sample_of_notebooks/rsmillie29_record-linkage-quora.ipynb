{
 "cells": [
  {
   "cell_type": "code",
   "execution_count": 1,
   "metadata": {
    "id": "4F-0BWLbmLyF"
   },
   "outputs": [],
   "source": [
    "import pandas as pd\n",
    "import numpy as np\n",
    "import matplotlib.pyplot as plt\n",
    "import seaborn as sns\n",
    "import os \n",
    "\n",
    "%matplotlib inline"
   ]
  },
  {
   "cell_type": "code",
   "execution_count": 2,
   "metadata": {},
   "outputs": [
    {
     "name": "stdout",
     "output_type": "stream",
     "text": [
      "['__notebook__.ipynb']\n"
     ]
    }
   ],
   "source": [
    "print(os.listdir(\"../working\"))"
   ]
  },
  {
   "cell_type": "code",
   "execution_count": 3,
   "metadata": {
    "id": "prJmTm9cmLyK"
   },
   "outputs": [],
   "source": [
    "train_data = pd.read_csv(\"../input/quora-data/quora_train_test/quora_train.csv\")"
   ]
  },
  {
   "cell_type": "code",
   "execution_count": 4,
   "metadata": {
    "id": "z1ql0OBSmLyO"
   },
   "outputs": [],
   "source": [
    "test_data = pd.read_csv(\"../input/quora-data/quora_train_test/quora_test.csv\")"
   ]
  },
  {
   "cell_type": "code",
   "execution_count": 5,
   "metadata": {
    "id": "UBXNKqBEmLyT",
    "outputId": "1ee84b80-cd3f-4c68-dcbd-bf615f8ad9f2"
   },
   "outputs": [
    {
     "name": "stdout",
     "output_type": "stream",
     "text": [
      "(80871, 7)\n"
     ]
    }
   ],
   "source": [
    "tt = pd.read_csv(\"../input/quora-data/quora_train_test/quora_test.csv\")\n",
    "print(tt.shape)"
   ]
  },
  {
   "cell_type": "code",
   "execution_count": 6,
   "metadata": {
    "id": "Me6zWIZLmLyb",
    "outputId": "67ea5008-ac19-4e34-ee4f-fa1cbe575fc5"
   },
   "outputs": [
    {
     "data": {
      "text/plain": [
       "0"
      ]
     },
     "execution_count": 6,
     "metadata": {},
     "output_type": "execute_result"
    }
   ],
   "source": [
    "tt[\"question1\"].isnull().sum()"
   ]
  },
  {
   "cell_type": "code",
   "execution_count": 7,
   "metadata": {
    "id": "wCZXDra1mLyi",
    "outputId": "c1ce2452-02c3-4a53-bff4-20eeebf7e42f"
   },
   "outputs": [
    {
     "data": {
      "text/plain": [
       "1"
      ]
     },
     "execution_count": 7,
     "metadata": {},
     "output_type": "execute_result"
    }
   ],
   "source": [
    "tt[\"question2\"].isnull().sum()"
   ]
  },
  {
   "cell_type": "code",
   "execution_count": 8,
   "metadata": {
    "id": "qtOpzLFEmLyo",
    "outputId": "418153fd-ca6e-463e-e2ac-76789172a3b0"
   },
   "outputs": [
    {
     "data": {
      "text/html": [
       "<div>\n",
       "<style scoped>\n",
       "    .dataframe tbody tr th:only-of-type {\n",
       "        vertical-align: middle;\n",
       "    }\n",
       "\n",
       "    .dataframe tbody tr th {\n",
       "        vertical-align: top;\n",
       "    }\n",
       "\n",
       "    .dataframe thead th {\n",
       "        text-align: right;\n",
       "    }\n",
       "</style>\n",
       "<table border=\"1\" class=\"dataframe\">\n",
       "  <thead>\n",
       "    <tr style=\"text-align: right;\">\n",
       "      <th></th>\n",
       "      <th>Unnamed: 0</th>\n",
       "      <th>id</th>\n",
       "      <th>qid1</th>\n",
       "      <th>qid2</th>\n",
       "      <th>question1</th>\n",
       "      <th>question2</th>\n",
       "      <th>is_duplicate</th>\n",
       "    </tr>\n",
       "  </thead>\n",
       "  <tbody>\n",
       "    <tr>\n",
       "      <th>0</th>\n",
       "      <td>195840</td>\n",
       "      <td>195840</td>\n",
       "      <td>386541</td>\n",
       "      <td>386542</td>\n",
       "      <td>How does banning 500 &amp; 1000 rupee notes solve ...</td>\n",
       "      <td>Will the ban on 500 &amp; 1000 rupee notes really ...</td>\n",
       "      <td>1</td>\n",
       "    </tr>\n",
       "    <tr>\n",
       "      <th>1</th>\n",
       "      <td>252241</td>\n",
       "      <td>252241</td>\n",
       "      <td>496583</td>\n",
       "      <td>496584</td>\n",
       "      <td>What is the hardest thing(s) about raising chi...</td>\n",
       "      <td>What is the hardest thing(s) about raising chi...</td>\n",
       "      <td>0</td>\n",
       "    </tr>\n",
       "    <tr>\n",
       "      <th>2</th>\n",
       "      <td>249224</td>\n",
       "      <td>249224</td>\n",
       "      <td>490718</td>\n",
       "      <td>490719</td>\n",
       "      <td>Who are Utopia's top competitors?</td>\n",
       "      <td>Who are Axis 41's top competitors?</td>\n",
       "      <td>0</td>\n",
       "    </tr>\n",
       "    <tr>\n",
       "      <th>3</th>\n",
       "      <td>125536</td>\n",
       "      <td>125536</td>\n",
       "      <td>248723</td>\n",
       "      <td>248724</td>\n",
       "      <td>I want to improve my reading skill by reading ...</td>\n",
       "      <td>How can reading newspaper help me improve my E...</td>\n",
       "      <td>0</td>\n",
       "    </tr>\n",
       "    <tr>\n",
       "      <th>4</th>\n",
       "      <td>390237</td>\n",
       "      <td>390237</td>\n",
       "      <td>762803</td>\n",
       "      <td>762804</td>\n",
       "      <td>How do I gain weight in naturally way?</td>\n",
       "      <td>How to gain weight ?</td>\n",
       "      <td>1</td>\n",
       "    </tr>\n",
       "  </tbody>\n",
       "</table>\n",
       "</div>"
      ],
      "text/plain": [
       "   Unnamed: 0      id    qid1    qid2  \\\n",
       "0      195840  195840  386541  386542   \n",
       "1      252241  252241  496583  496584   \n",
       "2      249224  249224  490718  490719   \n",
       "3      125536  125536  248723  248724   \n",
       "4      390237  390237  762803  762804   \n",
       "\n",
       "                                           question1  \\\n",
       "0  How does banning 500 & 1000 rupee notes solve ...   \n",
       "1  What is the hardest thing(s) about raising chi...   \n",
       "2                  Who are Utopia's top competitors?   \n",
       "3  I want to improve my reading skill by reading ...   \n",
       "4             How do I gain weight in naturally way?   \n",
       "\n",
       "                                           question2  is_duplicate  \n",
       "0  Will the ban on 500 & 1000 rupee notes really ...             1  \n",
       "1  What is the hardest thing(s) about raising chi...             0  \n",
       "2                 Who are Axis 41's top competitors?             0  \n",
       "3  How can reading newspaper help me improve my E...             0  \n",
       "4                               How to gain weight ?             1  "
      ]
     },
     "execution_count": 8,
     "metadata": {},
     "output_type": "execute_result"
    }
   ],
   "source": [
    "train_data.head()"
   ]
  },
  {
   "cell_type": "code",
   "execution_count": 9,
   "metadata": {
    "id": "GpLuDKBamLyu",
    "outputId": "8f410973-bc9b-404b-d6da-ec396b395fc9"
   },
   "outputs": [
    {
     "data": {
      "text/plain": [
       "(323480, 7)"
      ]
     },
     "execution_count": 9,
     "metadata": {},
     "output_type": "execute_result"
    }
   ],
   "source": [
    "train_data.shape"
   ]
  },
  {
   "cell_type": "code",
   "execution_count": null,
   "metadata": {
    "id": "bYYoitf3mLyz"
   },
   "outputs": [],
   "source": []
  },
  {
   "cell_type": "code",
   "execution_count": 10,
   "metadata": {
    "id": "H8UqUCFVmLy4",
    "outputId": "8b6b8fcd-09eb-4d99-8ae8-b018f7071c52"
   },
   "outputs": [
    {
     "data": {
      "text/plain": [
       "(80871, 7)"
      ]
     },
     "execution_count": 10,
     "metadata": {},
     "output_type": "execute_result"
    }
   ],
   "source": [
    "test_data.shape"
   ]
  },
  {
   "cell_type": "code",
   "execution_count": 11,
   "metadata": {
    "id": "ArtVHMSVmLy9"
   },
   "outputs": [],
   "source": [
    "test_data.fillna(value = \" \",inplace = True)\n",
    "train_data.fillna(value = \" \",inplace = True)"
   ]
  },
  {
   "cell_type": "code",
   "execution_count": 12,
   "metadata": {
    "id": "-N90Cfm2mLzD",
    "outputId": "49629f5f-f7df-478a-8fdf-2937b99d7ab9"
   },
   "outputs": [
    {
     "data": {
      "text/plain": [
       "question1    0\n",
       "question2    0\n",
       "dtype: int64"
      ]
     },
     "execution_count": 12,
     "metadata": {},
     "output_type": "execute_result"
    }
   ],
   "source": [
    "test_data[['question1','question2']].isnull().sum()"
   ]
  },
  {
   "cell_type": "code",
   "execution_count": 13,
   "metadata": {
    "id": "VD9bS5aGmLzJ"
   },
   "outputs": [],
   "source": [
    "import re\n",
    "\n",
    "def decontracted(phrase):\n",
    "    # specific\n",
    "    phrase = re.sub(r\"won\\'t\", \"will not\", phrase)\n",
    "    phrase = re.sub(r\"can\\'t\", \"can not\", phrase)\n",
    "\n",
    "    # general\n",
    "    phrase = re.sub(r\"n\\'t\", \" not\", phrase)\n",
    "    phrase = re.sub(r\"\\'re\", \" are\", phrase)\n",
    "    phrase = re.sub(r\"\\'s\", \" is\", phrase)\n",
    "    phrase = re.sub(r\"\\'d\", \" would\", phrase)\n",
    "    phrase = re.sub(r\"\\'ll\", \" will\", phrase)\n",
    "    phrase = re.sub(r\"\\'t\", \" not\", phrase)\n",
    "    phrase = re.sub(r\"\\'ve\", \" have\", phrase)\n",
    "    phrase = re.sub(r\"\\'m\", \" am\", phrase)\n",
    "    return phrase"
   ]
  },
  {
   "cell_type": "code",
   "execution_count": 14,
   "metadata": {
    "id": "ayS_eDPqmLzR"
   },
   "outputs": [],
   "source": [
    "def striphtml(data): \n",
    "    cleanr = re.compile('<.*?>') \n",
    "    cleantext = re.sub(cleanr, ' ', str(data)) \n",
    "    return cleantext   "
   ]
  },
  {
   "cell_type": "code",
   "execution_count": 15,
   "metadata": {
    "id": "yZ9m8lpTmLzV"
   },
   "outputs": [],
   "source": [
    "def stripunc(data): \n",
    "    return re.sub('[^A-Za-z]+', ' ', str(data), flags=re.MULTILINE|re.DOTALL) "
   ]
  },
  {
   "cell_type": "code",
   "execution_count": 16,
   "metadata": {
    "id": "oPXm5wN_mLzZ"
   },
   "outputs": [],
   "source": [
    "x = \"Hello, World! <how are you?>\""
   ]
  },
  {
   "cell_type": "code",
   "execution_count": 17,
   "metadata": {
    "id": "EV_ivJ_HmLzc",
    "outputId": "825fbcde-f50e-4a34-f139-36f342448609"
   },
   "outputs": [
    {
     "data": {
      "text/plain": [
       "'Hello World how are you '"
      ]
     },
     "execution_count": 17,
     "metadata": {},
     "output_type": "execute_result"
    }
   ],
   "source": [
    "stripunc(x)"
   ]
  },
  {
   "cell_type": "code",
   "execution_count": 18,
   "metadata": {
    "id": "uvqO0hJamLzg",
    "outputId": "539df53d-5ce5-4583-f4a6-ef77c8426187"
   },
   "outputs": [
    {
     "data": {
      "text/plain": [
       "'Hello, World!  '"
      ]
     },
     "execution_count": 18,
     "metadata": {},
     "output_type": "execute_result"
    }
   ],
   "source": [
    "striphtml(x)"
   ]
  },
  {
   "cell_type": "code",
   "execution_count": 19,
   "metadata": {
    "id": "fq7PXa6UmLzl"
   },
   "outputs": [],
   "source": [
    "import nltk\n",
    "from nltk.corpus import stopwords\n",
    "from nltk.stem.snowball import SnowballStemmer\n",
    "from nltk.tokenize import word_tokenize\n",
    "\n",
    "stop_words = set(stopwords.words('english')) \n",
    "stemmer = SnowballStemmer(\"english\") \n",
    "\n",
    "from tqdm import tqdm"
   ]
  },
  {
   "cell_type": "code",
   "execution_count": 20,
   "metadata": {
    "id": "cvqI1oJhmLzq"
   },
   "outputs": [],
   "source": [
    "def compute(sent): \n",
    "    \n",
    "    sent = decontracted(sent) \n",
    "    sent = striphtml(sent) \n",
    "    sent = stripunc(sent) \n",
    "    \n",
    "    words=word_tokenize(str(sent.lower())) \n",
    "    \n",
    "    #Removing all single letter and and stopwords from question \n",
    "    sent1=' '.join(str(stemmer.stem(j)) for j in words if j not in stop_words and (len(j)!=1)) \n",
    "    sent2=' '.join(str(j) for j in words if j not in stop_words and (len(j)!=1)) \n",
    "    return sent1, sent2   "
   ]
  },
  {
   "cell_type": "code",
   "execution_count": 21,
   "metadata": {
    "id": "D32hYI7fmLzy",
    "outputId": "de27dbbe-9d80-429d-bf95-fa392c7d1624"
   },
   "outputs": [
    {
     "name": "stderr",
     "output_type": "stream",
     "text": [
      "323480it [05:21, 1007.21it/s]\n"
     ]
    }
   ],
   "source": [
    "clean_stemmed_q1 = []\n",
    "clean_stemmed_q2 = []\n",
    "clean_q1 = []\n",
    "clean_q2 = []\n",
    "combined_stemmed_text = []\n",
    "for _, row in tqdm(train_data.iterrows()):\n",
    "    csq1, cq1 = compute(row['question1'])\n",
    "    csq2, cq2 = compute(row['question2'])\n",
    "    clean_stemmed_q1.append(csq1)\n",
    "    clean_q1.append(cq1)\n",
    "    clean_stemmed_q2.append(csq2)\n",
    "    clean_q2.append(cq2)\n",
    "    combined_stemmed_text.append(csq1+\" \"+csq2)"
   ]
  },
  {
   "cell_type": "code",
   "execution_count": null,
   "metadata": {
    "id": "bBBWIgpDmLz9"
   },
   "outputs": [],
   "source": []
  },
  {
   "cell_type": "code",
   "execution_count": 22,
   "metadata": {
    "id": "2kk_BtHImL0E"
   },
   "outputs": [
    {
     "name": "stderr",
     "output_type": "stream",
     "text": [
      "80871it [01:20, 1009.86it/s]\n"
     ]
    }
   ],
   "source": [
    "clean_stemmed_q1_t = []\n",
    "clean_stemmed_q2_t = []\n",
    "clean_q1_t = []\n",
    "clean_q2_t = []\n",
    "combined_stemmed_text_t = []\n",
    "for _, row in tqdm(test_data.iterrows()):\n",
    "    \n",
    "    csq1_t, cq1_t = compute(row['question1'])\n",
    "    csq2_t, cq2_t = compute(row['question2'])\n",
    "    clean_stemmed_q1_t.append(csq1_t)\n",
    "    clean_q1_t.append(cq1_t)\n",
    "    clean_stemmed_q2_t.append(csq2_t)\n",
    "    clean_q2_t.append(cq2_t)\n",
    "    combined_stemmed_text_t.append(csq1_t+\" \"+csq2_t)"
   ]
  },
  {
   "cell_type": "code",
   "execution_count": 23,
   "metadata": {
    "id": "9QtaxxvBmL0M",
    "outputId": "65688e7b-cd0b-457d-ea8a-2bf414e73227"
   },
   "outputs": [
    {
     "data": {
      "text/plain": [
       "Series([], Name: question1, dtype: object)"
      ]
     },
     "execution_count": 23,
     "metadata": {},
     "output_type": "execute_result"
    }
   ],
   "source": [
    "test_data[\"question1\"][test_data[\"question2\"].isnull()]"
   ]
  },
  {
   "cell_type": "code",
   "execution_count": 24,
   "metadata": {
    "id": "9thUjqOmmL0S",
    "outputId": "46dea8e6-bb71-46b0-e1ce-0803f9619728"
   },
   "outputs": [
    {
     "data": {
      "text/plain": [
       "Series([], Name: question2, dtype: object)"
      ]
     },
     "execution_count": 24,
     "metadata": {},
     "output_type": "execute_result"
    }
   ],
   "source": [
    "test_data[\"question2\"][test_data[\"question1\"].isnull()]"
   ]
  },
  {
   "cell_type": "code",
   "execution_count": 25,
   "metadata": {
    "id": "u5HObBnrmL0X",
    "outputId": "f6f97998-b362-4ae4-f7e4-c304b25f29b8"
   },
   "outputs": [
    {
     "name": "stdout",
     "output_type": "stream",
     "text": [
      "323480\n",
      "323480\n",
      "323480\n",
      "323480\n",
      "323480\n"
     ]
    }
   ],
   "source": [
    "print(len(clean_stemmed_q1))\n",
    "print(len(clean_stemmed_q2))\n",
    "print(len(clean_q1))\n",
    "print(len(clean_q2))\n",
    "print(len(combined_stemmed_text))"
   ]
  },
  {
   "cell_type": "code",
   "execution_count": 26,
   "metadata": {
    "id": "vqT8PQw9mL0c",
    "outputId": "99f04fb1-ad14-401d-99a6-ebb136eda9e1"
   },
   "outputs": [
    {
     "data": {
      "text/html": [
       "<div>\n",
       "<style scoped>\n",
       "    .dataframe tbody tr th:only-of-type {\n",
       "        vertical-align: middle;\n",
       "    }\n",
       "\n",
       "    .dataframe tbody tr th {\n",
       "        vertical-align: top;\n",
       "    }\n",
       "\n",
       "    .dataframe thead th {\n",
       "        text-align: right;\n",
       "    }\n",
       "</style>\n",
       "<table border=\"1\" class=\"dataframe\">\n",
       "  <thead>\n",
       "    <tr style=\"text-align: right;\">\n",
       "      <th></th>\n",
       "      <th>Unnamed: 0</th>\n",
       "      <th>id</th>\n",
       "      <th>qid1</th>\n",
       "      <th>qid2</th>\n",
       "      <th>question1</th>\n",
       "      <th>question2</th>\n",
       "      <th>is_duplicate</th>\n",
       "    </tr>\n",
       "  </thead>\n",
       "  <tbody>\n",
       "    <tr>\n",
       "      <th>0</th>\n",
       "      <td>195840</td>\n",
       "      <td>195840</td>\n",
       "      <td>386541</td>\n",
       "      <td>386542</td>\n",
       "      <td>How does banning 500 &amp; 1000 rupee notes solve ...</td>\n",
       "      <td>Will the ban on 500 &amp; 1000 rupee notes really ...</td>\n",
       "      <td>1</td>\n",
       "    </tr>\n",
       "    <tr>\n",
       "      <th>1</th>\n",
       "      <td>252241</td>\n",
       "      <td>252241</td>\n",
       "      <td>496583</td>\n",
       "      <td>496584</td>\n",
       "      <td>What is the hardest thing(s) about raising chi...</td>\n",
       "      <td>What is the hardest thing(s) about raising chi...</td>\n",
       "      <td>0</td>\n",
       "    </tr>\n",
       "    <tr>\n",
       "      <th>2</th>\n",
       "      <td>249224</td>\n",
       "      <td>249224</td>\n",
       "      <td>490718</td>\n",
       "      <td>490719</td>\n",
       "      <td>Who are Utopia's top competitors?</td>\n",
       "      <td>Who are Axis 41's top competitors?</td>\n",
       "      <td>0</td>\n",
       "    </tr>\n",
       "    <tr>\n",
       "      <th>3</th>\n",
       "      <td>125536</td>\n",
       "      <td>125536</td>\n",
       "      <td>248723</td>\n",
       "      <td>248724</td>\n",
       "      <td>I want to improve my reading skill by reading ...</td>\n",
       "      <td>How can reading newspaper help me improve my E...</td>\n",
       "      <td>0</td>\n",
       "    </tr>\n",
       "    <tr>\n",
       "      <th>4</th>\n",
       "      <td>390237</td>\n",
       "      <td>390237</td>\n",
       "      <td>762803</td>\n",
       "      <td>762804</td>\n",
       "      <td>How do I gain weight in naturally way?</td>\n",
       "      <td>How to gain weight ?</td>\n",
       "      <td>1</td>\n",
       "    </tr>\n",
       "  </tbody>\n",
       "</table>\n",
       "</div>"
      ],
      "text/plain": [
       "   Unnamed: 0      id    qid1    qid2  \\\n",
       "0      195840  195840  386541  386542   \n",
       "1      252241  252241  496583  496584   \n",
       "2      249224  249224  490718  490719   \n",
       "3      125536  125536  248723  248724   \n",
       "4      390237  390237  762803  762804   \n",
       "\n",
       "                                           question1  \\\n",
       "0  How does banning 500 & 1000 rupee notes solve ...   \n",
       "1  What is the hardest thing(s) about raising chi...   \n",
       "2                  Who are Utopia's top competitors?   \n",
       "3  I want to improve my reading skill by reading ...   \n",
       "4             How do I gain weight in naturally way?   \n",
       "\n",
       "                                           question2  is_duplicate  \n",
       "0  Will the ban on 500 & 1000 rupee notes really ...             1  \n",
       "1  What is the hardest thing(s) about raising chi...             0  \n",
       "2                 Who are Axis 41's top competitors?             0  \n",
       "3  How can reading newspaper help me improve my E...             0  \n",
       "4                               How to gain weight ?             1  "
      ]
     },
     "execution_count": 26,
     "metadata": {},
     "output_type": "execute_result"
    }
   ],
   "source": [
    "train_data.head()"
   ]
  },
  {
   "cell_type": "code",
   "execution_count": 27,
   "metadata": {
    "id": "urTBYZoAmL0h"
   },
   "outputs": [],
   "source": [
    "train_data['clean_stemmed_q1'] = clean_stemmed_q1\n",
    "train_data['clean_stemmed_q2'] = clean_stemmed_q2\n",
    "train_data['clean_q1'] = clean_q1\n",
    "train_data['clean_q2'] = clean_q2\n",
    "train_data['combined_stemmed_text'] = combined_stemmed_text"
   ]
  },
  {
   "cell_type": "code",
   "execution_count": 28,
   "metadata": {
    "id": "uG4fx8oLmL0o"
   },
   "outputs": [],
   "source": [
    "test_data['clean_stemmed_q1_t'] = clean_stemmed_q1_t\n",
    "test_data['clean_stemmed_q2_t'] = clean_stemmed_q2_t\n",
    "test_data['clean_q1_t'] = clean_q1_t\n",
    "test_data['clean_q2_t'] = clean_q2_t\n",
    "test_data['combined_stemmed_text_t'] = combined_stemmed_text_t"
   ]
  },
  {
   "cell_type": "code",
   "execution_count": 29,
   "metadata": {
    "id": "Ek6rQUHbmL0s",
    "outputId": "59feb6a1-27e1-4ef1-8547-a8818ea51fe7"
   },
   "outputs": [
    {
     "data": {
      "text/html": [
       "<div>\n",
       "<style scoped>\n",
       "    .dataframe tbody tr th:only-of-type {\n",
       "        vertical-align: middle;\n",
       "    }\n",
       "\n",
       "    .dataframe tbody tr th {\n",
       "        vertical-align: top;\n",
       "    }\n",
       "\n",
       "    .dataframe thead th {\n",
       "        text-align: right;\n",
       "    }\n",
       "</style>\n",
       "<table border=\"1\" class=\"dataframe\">\n",
       "  <thead>\n",
       "    <tr style=\"text-align: right;\">\n",
       "      <th></th>\n",
       "      <th>Unnamed: 0</th>\n",
       "      <th>id</th>\n",
       "      <th>qid1</th>\n",
       "      <th>qid2</th>\n",
       "      <th>question1</th>\n",
       "      <th>question2</th>\n",
       "      <th>is_duplicate</th>\n",
       "      <th>clean_stemmed_q1</th>\n",
       "      <th>clean_stemmed_q2</th>\n",
       "      <th>clean_q1</th>\n",
       "      <th>clean_q2</th>\n",
       "      <th>combined_stemmed_text</th>\n",
       "    </tr>\n",
       "  </thead>\n",
       "  <tbody>\n",
       "    <tr>\n",
       "      <th>323475</th>\n",
       "      <td>182164</td>\n",
       "      <td>182164</td>\n",
       "      <td>359776</td>\n",
       "      <td>359777</td>\n",
       "      <td>Who will win, Trump or Clinton?</td>\n",
       "      <td>Who will be indicted first, Trump or Clinton?</td>\n",
       "      <td>0</td>\n",
       "      <td>win trump clinton</td>\n",
       "      <td>indict first trump clinton</td>\n",
       "      <td>win trump clinton</td>\n",
       "      <td>indicted first trump clinton</td>\n",
       "      <td>win trump clinton indict first trump clinton</td>\n",
       "    </tr>\n",
       "    <tr>\n",
       "      <th>323476</th>\n",
       "      <td>280219</td>\n",
       "      <td>280219</td>\n",
       "      <td>550879</td>\n",
       "      <td>550880</td>\n",
       "      <td>Which is the best earphone under 1000rs?</td>\n",
       "      <td>What is the best earphone under 1000 rs?</td>\n",
       "      <td>1</td>\n",
       "      <td>best earphon rs</td>\n",
       "      <td>best earphon rs</td>\n",
       "      <td>best earphone rs</td>\n",
       "      <td>best earphone rs</td>\n",
       "      <td>best earphon rs best earphon rs</td>\n",
       "    </tr>\n",
       "    <tr>\n",
       "      <th>323477</th>\n",
       "      <td>56173</td>\n",
       "      <td>56173</td>\n",
       "      <td>111758</td>\n",
       "      <td>111759</td>\n",
       "      <td>What songs make you cry and why?</td>\n",
       "      <td>Which songs did make you cry ever?</td>\n",
       "      <td>1</td>\n",
       "      <td>song make cri</td>\n",
       "      <td>song make cri ever</td>\n",
       "      <td>songs make cry</td>\n",
       "      <td>songs make cry ever</td>\n",
       "      <td>song make cri song make cri ever</td>\n",
       "    </tr>\n",
       "    <tr>\n",
       "      <th>323478</th>\n",
       "      <td>231498</td>\n",
       "      <td>231498</td>\n",
       "      <td>456152</td>\n",
       "      <td>456153</td>\n",
       "      <td>Taste of sperm?</td>\n",
       "      <td>What is the taste of sperm?</td>\n",
       "      <td>1</td>\n",
       "      <td>tast sperm</td>\n",
       "      <td>tast sperm</td>\n",
       "      <td>taste sperm</td>\n",
       "      <td>taste sperm</td>\n",
       "      <td>tast sperm tast sperm</td>\n",
       "    </tr>\n",
       "    <tr>\n",
       "      <th>323479</th>\n",
       "      <td>208672</td>\n",
       "      <td>208672</td>\n",
       "      <td>411633</td>\n",
       "      <td>411634</td>\n",
       "      <td>How do I become mentally strong?</td>\n",
       "      <td>How can one become emotionally and mentally st...</td>\n",
       "      <td>1</td>\n",
       "      <td>becom mental strong</td>\n",
       "      <td>one becom emot mental strong life</td>\n",
       "      <td>become mentally strong</td>\n",
       "      <td>one become emotionally mentally strong life</td>\n",
       "      <td>becom mental strong one becom emot mental stro...</td>\n",
       "    </tr>\n",
       "  </tbody>\n",
       "</table>\n",
       "</div>"
      ],
      "text/plain": [
       "        Unnamed: 0      id    qid1    qid2  \\\n",
       "323475      182164  182164  359776  359777   \n",
       "323476      280219  280219  550879  550880   \n",
       "323477       56173   56173  111758  111759   \n",
       "323478      231498  231498  456152  456153   \n",
       "323479      208672  208672  411633  411634   \n",
       "\n",
       "                                       question1  \\\n",
       "323475           Who will win, Trump or Clinton?   \n",
       "323476  Which is the best earphone under 1000rs?   \n",
       "323477          What songs make you cry and why?   \n",
       "323478                           Taste of sperm?   \n",
       "323479          How do I become mentally strong?   \n",
       "\n",
       "                                                question2  is_duplicate  \\\n",
       "323475      Who will be indicted first, Trump or Clinton?             0   \n",
       "323476           What is the best earphone under 1000 rs?             1   \n",
       "323477                 Which songs did make you cry ever?             1   \n",
       "323478                        What is the taste of sperm?             1   \n",
       "323479  How can one become emotionally and mentally st...             1   \n",
       "\n",
       "           clean_stemmed_q1                   clean_stemmed_q2  \\\n",
       "323475    win trump clinton         indict first trump clinton   \n",
       "323476      best earphon rs                    best earphon rs   \n",
       "323477        song make cri                 song make cri ever   \n",
       "323478           tast sperm                         tast sperm   \n",
       "323479  becom mental strong  one becom emot mental strong life   \n",
       "\n",
       "                      clean_q1                                     clean_q2  \\\n",
       "323475       win trump clinton                 indicted first trump clinton   \n",
       "323476        best earphone rs                             best earphone rs   \n",
       "323477          songs make cry                          songs make cry ever   \n",
       "323478             taste sperm                                  taste sperm   \n",
       "323479  become mentally strong  one become emotionally mentally strong life   \n",
       "\n",
       "                                    combined_stemmed_text  \n",
       "323475       win trump clinton indict first trump clinton  \n",
       "323476                    best earphon rs best earphon rs  \n",
       "323477                   song make cri song make cri ever  \n",
       "323478                              tast sperm tast sperm  \n",
       "323479  becom mental strong one becom emot mental stro...  "
      ]
     },
     "execution_count": 29,
     "metadata": {},
     "output_type": "execute_result"
    }
   ],
   "source": [
    "train_data.tail()"
   ]
  },
  {
   "cell_type": "code",
   "execution_count": 30,
   "metadata": {
    "id": "ZAz2aD8CmL4O",
    "outputId": "eeea40b8-23a1-4b23-e8f3-e7cbd3335820"
   },
   "outputs": [
    {
     "data": {
      "text/html": [
       "<div>\n",
       "<style scoped>\n",
       "    .dataframe tbody tr th:only-of-type {\n",
       "        vertical-align: middle;\n",
       "    }\n",
       "\n",
       "    .dataframe tbody tr th {\n",
       "        vertical-align: top;\n",
       "    }\n",
       "\n",
       "    .dataframe thead th {\n",
       "        text-align: right;\n",
       "    }\n",
       "</style>\n",
       "<table border=\"1\" class=\"dataframe\">\n",
       "  <thead>\n",
       "    <tr style=\"text-align: right;\">\n",
       "      <th></th>\n",
       "      <th>Unnamed: 0</th>\n",
       "      <th>id</th>\n",
       "      <th>qid1</th>\n",
       "      <th>qid2</th>\n",
       "      <th>question1</th>\n",
       "      <th>question2</th>\n",
       "      <th>is_duplicate</th>\n",
       "      <th>clean_stemmed_q1_t</th>\n",
       "      <th>clean_stemmed_q2_t</th>\n",
       "      <th>clean_q1_t</th>\n",
       "      <th>clean_q2_t</th>\n",
       "      <th>combined_stemmed_text_t</th>\n",
       "    </tr>\n",
       "  </thead>\n",
       "  <tbody>\n",
       "    <tr>\n",
       "      <th>0</th>\n",
       "      <td>384611</td>\n",
       "      <td>384611</td>\n",
       "      <td>752053</td>\n",
       "      <td>752054</td>\n",
       "      <td>What are the pros and cons of Legalzoom-genera...</td>\n",
       "      <td>Where can I read reviews of LegalZoom?</td>\n",
       "      <td>0</td>\n",
       "      <td>pros con legalzoom generat will</td>\n",
       "      <td>read review legalzoom</td>\n",
       "      <td>pros cons legalzoom generated wills</td>\n",
       "      <td>read reviews legalzoom</td>\n",
       "      <td>pros con legalzoom generat will read review le...</td>\n",
       "    </tr>\n",
       "    <tr>\n",
       "      <th>1</th>\n",
       "      <td>258398</td>\n",
       "      <td>258398</td>\n",
       "      <td>508576</td>\n",
       "      <td>508577</td>\n",
       "      <td>Why does ready-to-eat poha absorb water instan...</td>\n",
       "      <td>Ultimate teen patti hacker?</td>\n",
       "      <td>0</td>\n",
       "      <td>readi eat poha absorb water instant</td>\n",
       "      <td>ultim teen patti hacker</td>\n",
       "      <td>ready eat poha absorb water instantly</td>\n",
       "      <td>ultimate teen patti hacker</td>\n",
       "      <td>readi eat poha absorb water instant ultim teen...</td>\n",
       "    </tr>\n",
       "    <tr>\n",
       "      <th>2</th>\n",
       "      <td>234932</td>\n",
       "      <td>234932</td>\n",
       "      <td>462847</td>\n",
       "      <td>462848</td>\n",
       "      <td>How apps like paytm earn profit when they are ...</td>\n",
       "      <td>How does Paytm earn by giving extra cash back ...</td>\n",
       "      <td>1</td>\n",
       "      <td>app like paytm earn profit give mani cash back...</td>\n",
       "      <td>paytm earn give extra cash back alreadi discou...</td>\n",
       "      <td>apps like paytm earn profit giving many cash b...</td>\n",
       "      <td>paytm earn giving extra cash back already disc...</td>\n",
       "      <td>app like paytm earn profit give mani cash back...</td>\n",
       "    </tr>\n",
       "    <tr>\n",
       "      <th>3</th>\n",
       "      <td>347622</td>\n",
       "      <td>347622</td>\n",
       "      <td>681123</td>\n",
       "      <td>681124</td>\n",
       "      <td>What daily habits can greatly upgrade life?</td>\n",
       "      <td>What are your daily habits that improve your p...</td>\n",
       "      <td>1</td>\n",
       "      <td>daili habit great upgrad life</td>\n",
       "      <td>daili habit improv product creativ</td>\n",
       "      <td>daily habits greatly upgrade life</td>\n",
       "      <td>daily habits improve productivity creativity</td>\n",
       "      <td>daili habit great upgrad life daili habit impr...</td>\n",
       "    </tr>\n",
       "    <tr>\n",
       "      <th>4</th>\n",
       "      <td>388186</td>\n",
       "      <td>388186</td>\n",
       "      <td>758881</td>\n",
       "      <td>758882</td>\n",
       "      <td>What video game world would you want to live in?</td>\n",
       "      <td>If you could live in any video game setting, w...</td>\n",
       "      <td>1</td>\n",
       "      <td>video game world would want live</td>\n",
       "      <td>could live video game set would live</td>\n",
       "      <td>video game world would want live</td>\n",
       "      <td>could live video game setting would live</td>\n",
       "      <td>video game world would want live could live vi...</td>\n",
       "    </tr>\n",
       "  </tbody>\n",
       "</table>\n",
       "</div>"
      ],
      "text/plain": [
       "   Unnamed: 0      id    qid1    qid2  \\\n",
       "0      384611  384611  752053  752054   \n",
       "1      258398  258398  508576  508577   \n",
       "2      234932  234932  462847  462848   \n",
       "3      347622  347622  681123  681124   \n",
       "4      388186  388186  758881  758882   \n",
       "\n",
       "                                           question1  \\\n",
       "0  What are the pros and cons of Legalzoom-genera...   \n",
       "1  Why does ready-to-eat poha absorb water instan...   \n",
       "2  How apps like paytm earn profit when they are ...   \n",
       "3        What daily habits can greatly upgrade life?   \n",
       "4   What video game world would you want to live in?   \n",
       "\n",
       "                                           question2  is_duplicate  \\\n",
       "0             Where can I read reviews of LegalZoom?             0   \n",
       "1                        Ultimate teen patti hacker?             0   \n",
       "2  How does Paytm earn by giving extra cash back ...             1   \n",
       "3  What are your daily habits that improve your p...             1   \n",
       "4  If you could live in any video game setting, w...             1   \n",
       "\n",
       "                                  clean_stemmed_q1_t  \\\n",
       "0                    pros con legalzoom generat will   \n",
       "1                readi eat poha absorb water instant   \n",
       "2  app like paytm earn profit give mani cash back...   \n",
       "3                      daili habit great upgrad life   \n",
       "4                   video game world would want live   \n",
       "\n",
       "                                  clean_stemmed_q2_t  \\\n",
       "0                              read review legalzoom   \n",
       "1                            ultim teen patti hacker   \n",
       "2  paytm earn give extra cash back alreadi discou...   \n",
       "3                 daili habit improv product creativ   \n",
       "4               could live video game set would live   \n",
       "\n",
       "                                          clean_q1_t  \\\n",
       "0                pros cons legalzoom generated wills   \n",
       "1              ready eat poha absorb water instantly   \n",
       "2  apps like paytm earn profit giving many cash b...   \n",
       "3                  daily habits greatly upgrade life   \n",
       "4                   video game world would want live   \n",
       "\n",
       "                                          clean_q2_t  \\\n",
       "0                             read reviews legalzoom   \n",
       "1                         ultimate teen patti hacker   \n",
       "2  paytm earn giving extra cash back already disc...   \n",
       "3       daily habits improve productivity creativity   \n",
       "4           could live video game setting would live   \n",
       "\n",
       "                             combined_stemmed_text_t  \n",
       "0  pros con legalzoom generat will read review le...  \n",
       "1  readi eat poha absorb water instant ultim teen...  \n",
       "2  app like paytm earn profit give mani cash back...  \n",
       "3  daili habit great upgrad life daili habit impr...  \n",
       "4  video game world would want live could live vi...  "
      ]
     },
     "execution_count": 30,
     "metadata": {},
     "output_type": "execute_result"
    }
   ],
   "source": [
    "test_data.head()"
   ]
  },
  {
   "cell_type": "code",
   "execution_count": 31,
   "metadata": {
    "id": "6FLs1aW9mL46"
   },
   "outputs": [],
   "source": [
    "from sklearn.model_selection import train_test_split"
   ]
  },
  {
   "cell_type": "code",
   "execution_count": 32,
   "metadata": {
    "id": "4w1hsvBdmL4-"
   },
   "outputs": [],
   "source": [
    "X_train, X_val, y_train, y_val = train_test_split(train_data[['clean_q1', 'clean_q2']], train_data['is_duplicate'], test_size=0.1, random_state=42)"
   ]
  },
  {
   "cell_type": "code",
   "execution_count": 33,
   "metadata": {
    "id": "ONHFFyRRmL5B"
   },
   "outputs": [],
   "source": [
    "test_data = test_data.rename(columns = {'clean_q1_t':'clean_q1','clean_q2_t':'clean_q2'})\n",
    "\n",
    "X_test = test_data[['clean_q1', 'clean_q2']]\n",
    "y_test = test_data['is_duplicate']"
   ]
  },
  {
   "cell_type": "code",
   "execution_count": 34,
   "metadata": {
    "id": "G9plmc42mL5E",
    "outputId": "3376a2c0-16b0-433c-a382-d11647e84ff5"
   },
   "outputs": [
    {
     "name": "stdout",
     "output_type": "stream",
     "text": [
      "(291132, 2)\n",
      "(291132,)\n",
      "(32348, 2)\n",
      "(32348,)\n",
      "(80871, 2)\n",
      "(80871,)\n"
     ]
    }
   ],
   "source": [
    "print(X_train.shape)\n",
    "print(y_train.shape)\n",
    "print(X_val.shape)\n",
    "print(y_val.shape)\n",
    "print(X_test.shape)\n",
    "print(y_test.shape)"
   ]
  },
  {
   "cell_type": "code",
   "execution_count": 35,
   "metadata": {
    "id": "3vZer1RImL5H",
    "outputId": "922329cc-7fca-41c4-cc43-13b016f67c01"
   },
   "outputs": [
    {
     "data": {
      "text/html": [
       "<div>\n",
       "<style scoped>\n",
       "    .dataframe tbody tr th:only-of-type {\n",
       "        vertical-align: middle;\n",
       "    }\n",
       "\n",
       "    .dataframe tbody tr th {\n",
       "        vertical-align: top;\n",
       "    }\n",
       "\n",
       "    .dataframe thead th {\n",
       "        text-align: right;\n",
       "    }\n",
       "</style>\n",
       "<table border=\"1\" class=\"dataframe\">\n",
       "  <thead>\n",
       "    <tr style=\"text-align: right;\">\n",
       "      <th></th>\n",
       "      <th>clean_q1</th>\n",
       "      <th>clean_q2</th>\n",
       "    </tr>\n",
       "  </thead>\n",
       "  <tbody>\n",
       "    <tr>\n",
       "      <th>236722</th>\n",
       "      <td>various ways one earn money online</td>\n",
       "      <td>earn money easily online</td>\n",
       "    </tr>\n",
       "    <tr>\n",
       "      <th>268587</th>\n",
       "      <td>pan card</td>\n",
       "      <td>get pan card</td>\n",
       "    </tr>\n",
       "    <tr>\n",
       "      <th>232326</th>\n",
       "      <td>rahul gandhi better politician arvind kejriwal</td>\n",
       "      <td>better politician narendra modi rahul gandhi a...</td>\n",
       "    </tr>\n",
       "    <tr>\n",
       "      <th>242871</th>\n",
       "      <td>teach english</td>\n",
       "      <td>best way teach english students</td>\n",
       "    </tr>\n",
       "    <tr>\n",
       "      <th>156901</th>\n",
       "      <td>psychopath sociopath</td>\n",
       "      <td>qualities psychopath sociopath tell differences</td>\n",
       "    </tr>\n",
       "  </tbody>\n",
       "</table>\n",
       "</div>"
      ],
      "text/plain": [
       "                                              clean_q1  \\\n",
       "236722              various ways one earn money online   \n",
       "268587                                        pan card   \n",
       "232326  rahul gandhi better politician arvind kejriwal   \n",
       "242871                                   teach english   \n",
       "156901                            psychopath sociopath   \n",
       "\n",
       "                                                 clean_q2  \n",
       "236722                           earn money easily online  \n",
       "268587                                       get pan card  \n",
       "232326  better politician narendra modi rahul gandhi a...  \n",
       "242871                    best way teach english students  \n",
       "156901    qualities psychopath sociopath tell differences  "
      ]
     },
     "execution_count": 35,
     "metadata": {},
     "output_type": "execute_result"
    }
   ],
   "source": [
    "X_train.head()"
   ]
  },
  {
   "cell_type": "code",
   "execution_count": null,
   "metadata": {
    "id": "KVCac55UmL5K"
   },
   "outputs": [],
   "source": []
  },
  {
   "cell_type": "code",
   "execution_count": 36,
   "metadata": {
    "id": "r34zQG4XmL5M",
    "outputId": "9b8829ad-65a2-4605-f073-d7240d4d61b4"
   },
   "outputs": [],
   "source": [
    "X_train['text'] = X_train[['clean_q1','clean_q2']].apply(lambda x:str(x[0])+\" \"+str(x[1]), axis=1)"
   ]
  },
  {
   "cell_type": "code",
   "execution_count": null,
   "metadata": {
    "id": "qCnEvQszmL5O"
   },
   "outputs": [],
   "source": []
  },
  {
   "cell_type": "code",
   "execution_count": 37,
   "metadata": {
    "id": "6B5BMr1XmL5R"
   },
   "outputs": [],
   "source": [
    "import tensorflow as tf"
   ]
  },
  {
   "cell_type": "code",
   "execution_count": 38,
   "metadata": {
    "id": "7e989XTAmL5b",
    "outputId": "6a30fe66-42a2-44e1-f97a-fae6fa0e1bac"
   },
   "outputs": [],
   "source": [
    "import keras\n",
    "import keras.backend as K"
   ]
  },
  {
   "cell_type": "code",
   "execution_count": 39,
   "metadata": {
    "id": "B6ZeCAB2mL5d"
   },
   "outputs": [],
   "source": [
    "from keras.preprocessing.text import Tokenizer\n",
    "from keras.preprocessing.sequence import pad_sequences\n",
    "\n",
    "from keras.layers import Input, Concatenate, Conv2D, Flatten, Dense, Embedding, LSTM\n",
    "from keras.models import Model"
   ]
  },
  {
   "cell_type": "code",
   "execution_count": 40,
   "metadata": {
    "id": "Mm2XpjxMmL5f"
   },
   "outputs": [],
   "source": [
    "t = Tokenizer()\n",
    "t.fit_on_texts(X_train['text'].values)"
   ]
  },
  {
   "cell_type": "code",
   "execution_count": 41,
   "metadata": {
    "id": "u1S22Y_PmL5i",
    "outputId": "3e81fadf-0074-49e6-89cc-b2dd590b0a6c"
   },
   "outputs": [],
   "source": [
    "X_train['clean_q1'] = X_train['clean_q1'].astype(str)\n",
    "X_train['clean_q2'] = X_train['clean_q2'].astype(str)"
   ]
  },
  {
   "cell_type": "code",
   "execution_count": 42,
   "metadata": {
    "id": "NLhR4BrZmL5q",
    "outputId": "70292854-c0a6-462f-882b-9c2b3fc6abc5"
   },
   "outputs": [
    {
     "name": "stderr",
     "output_type": "stream",
     "text": [
      "/opt/conda/lib/python3.7/site-packages/ipykernel_launcher.py:4: SettingWithCopyWarning: \n",
      "A value is trying to be set on a copy of a slice from a DataFrame.\n",
      "Try using .loc[row_indexer,col_indexer] = value instead\n",
      "\n",
      "See the caveats in the documentation: https://pandas.pydata.org/pandas-docs/stable/user_guide/indexing.html#returning-a-view-versus-a-copy\n",
      "  after removing the cwd from sys.path.\n",
      "/opt/conda/lib/python3.7/site-packages/ipykernel_launcher.py:5: SettingWithCopyWarning: \n",
      "A value is trying to be set on a copy of a slice from a DataFrame.\n",
      "Try using .loc[row_indexer,col_indexer] = value instead\n",
      "\n",
      "See the caveats in the documentation: https://pandas.pydata.org/pandas-docs/stable/user_guide/indexing.html#returning-a-view-versus-a-copy\n",
      "  \"\"\"\n"
     ]
    }
   ],
   "source": [
    "X_val['clean_q1'] = X_val['clean_q1'].astype(str)\n",
    "X_val['clean_q2'] = X_val['clean_q2'].astype(str)\n",
    "\n",
    "X_test['clean_q1'] = X_test['clean_q1'].astype(str)\n",
    "X_test['clean_q2'] = X_test['clean_q2'].astype(str)"
   ]
  },
  {
   "cell_type": "code",
   "execution_count": null,
   "metadata": {
    "id": "xfYGiePPmL5s"
   },
   "outputs": [],
   "source": []
  },
  {
   "cell_type": "code",
   "execution_count": 43,
   "metadata": {
    "id": "kn1QiIcRmL5t"
   },
   "outputs": [],
   "source": [
    "train_q1_seq = t.texts_to_sequences(X_train['clean_q1'].values)"
   ]
  },
  {
   "cell_type": "code",
   "execution_count": 44,
   "metadata": {
    "id": "MvHSXjbMmL5v"
   },
   "outputs": [],
   "source": [
    "train_q2_seq = t.texts_to_sequences(X_train['clean_q2'].values)\n",
    "val_q1_seq = t.texts_to_sequences(X_val['clean_q1'].values)\n",
    "val_q2_seq = t.texts_to_sequences(X_val['clean_q2'].values)\n",
    "test_q1_seq = t.texts_to_sequences(X_test['clean_q1'].values)\n",
    "test_q2_seq = t.texts_to_sequences(X_test['clean_q2'].values)"
   ]
  },
  {
   "cell_type": "code",
   "execution_count": 45,
   "metadata": {
    "id": "3vXPT7AHmL5x"
   },
   "outputs": [],
   "source": [
    "len_vec = [len(sent_vec) for sent_vec in train_q1_seq]"
   ]
  },
  {
   "cell_type": "code",
   "execution_count": 46,
   "metadata": {
    "id": "zyN3rp94mL5z",
    "outputId": "fb247a6c-96ae-4e8c-ca57-698d0a7d5e5d"
   },
   "outputs": [
    {
     "data": {
      "text/plain": [
       "43"
      ]
     },
     "execution_count": 46,
     "metadata": {},
     "output_type": "execute_result"
    }
   ],
   "source": [
    "np.max(len_vec)"
   ]
  },
  {
   "cell_type": "code",
   "execution_count": 47,
   "metadata": {
    "id": "XbUTDYflmL54",
    "outputId": "3dd682d1-b02e-4305-bf5c-fee1bbc1fa1c"
   },
   "outputs": [
    {
     "data": {
      "text/plain": [
       "<matplotlib.axes._subplots.AxesSubplot at 0x7f57b8493150>"
      ]
     },
     "execution_count": 47,
     "metadata": {},
     "output_type": "execute_result"
    },
    {
     "data": {
      "image/png": "[encoded data removed]",
      "text/plain": [
       "<Figure size 432x288 with 1 Axes>"
      ]
     },
     "metadata": {
      "needs_background": "light"
     },
     "output_type": "display_data"
    }
   ],
   "source": [
    "sns.distplot(len_vec)"
   ]
  },
  {
   "cell_type": "code",
   "execution_count": 48,
   "metadata": {
    "id": "CTg926QVmL56"
   },
   "outputs": [],
   "source": [
    "len_vec = [len(sent_vec) for sent_vec in train_q2_seq]"
   ]
  },
  {
   "cell_type": "code",
   "execution_count": 49,
   "metadata": {
    "id": "AaWqNtmhmL58",
    "outputId": "f26f5444-2db7-42ce-df25-9d69077e0ffe"
   },
   "outputs": [
    {
     "data": {
      "text/plain": [
       "97"
      ]
     },
     "execution_count": 49,
     "metadata": {},
     "output_type": "execute_result"
    }
   ],
   "source": [
    "np.max(len_vec)"
   ]
  },
  {
   "cell_type": "code",
   "execution_count": 50,
   "metadata": {
    "id": "clYwHfxdmL59",
    "outputId": "b64eee40-71fb-41d5-bd79-93740720ee32"
   },
   "outputs": [
    {
     "data": {
      "text/plain": [
       "<matplotlib.axes._subplots.AxesSubplot at 0x7f57b8256590>"
      ]
     },
     "execution_count": 50,
     "metadata": {},
     "output_type": "execute_result"
    },
    {
     "data": {
      "image/png": "[encoded data removed]",
      "text/plain": [
       "<Figure size 432x288 with 1 Axes>"
      ]
     },
     "metadata": {
      "needs_background": "light"
     },
     "output_type": "display_data"
    }
   ],
   "source": [
    "sns.distplot(len_vec)"
   ]
  },
  {
   "cell_type": "code",
   "execution_count": 51,
   "metadata": {
    "id": "EK7TVqnDmL5_"
   },
   "outputs": [],
   "source": [
    "max_len = 30"
   ]
  },
  {
   "cell_type": "code",
   "execution_count": 52,
   "metadata": {
    "id": "3gE9g4sfmL6A"
   },
   "outputs": [],
   "source": [
    "train_q1_seq = pad_sequences(train_q1_seq, maxlen=max_len, padding='post')"
   ]
  },
  {
   "cell_type": "code",
   "execution_count": 53,
   "metadata": {
    "id": "Cs3n5KtsmL6C"
   },
   "outputs": [],
   "source": [
    "train_q2_seq = pad_sequences(train_q2_seq, maxlen=max_len, padding='post')\n",
    "val_q1_seq = pad_sequences(val_q1_seq, maxlen=max_len, padding='post')\n",
    "val_q2_seq = pad_sequences(val_q2_seq, maxlen=max_len, padding='post')\n",
    "test_q1_seq = pad_sequences(test_q1_seq, maxlen=max_len, padding='post')\n",
    "test_q2_seq = pad_sequences(test_q2_seq, maxlen=max_len, padding='post')"
   ]
  },
  {
   "cell_type": "code",
   "execution_count": 54,
   "metadata": {
    "id": "ACw-pO-FmL6D",
    "outputId": "82ecda3c-8567-4521-d76f-5cee89b8fdca"
   },
   "outputs": [
    {
     "name": "stdout",
     "output_type": "stream",
     "text": [
      "30\n",
      "30\n",
      "30\n",
      "30\n",
      "30\n",
      "30\n"
     ]
    }
   ],
   "source": [
    "print(len(train_q1_seq[0]))\n",
    "print(len(train_q2_seq[0]))\n",
    "print(len(val_q1_seq[0]))\n",
    "print(len(val_q2_seq[0]))\n",
    "print(len(test_q1_seq[0]))\n",
    "print(len(test_q1_seq[0]))"
   ]
  },
  {
   "cell_type": "code",
   "execution_count": 55,
   "metadata": {
    "id": "uxwRI9cimL6J"
   },
   "outputs": [],
   "source": [
    "import joblib"
   ]
  },
  {
   "cell_type": "code",
   "execution_count": 56,
   "metadata": {
    "id": "UQU1kAzfmL6K",
    "outputId": "f994a22d-b067-4c6c-be97-954829e948e6"
   },
   "outputs": [
    {
     "name": "stdout",
     "output_type": "stream",
     "text": [
      "Found 400000 word vectors.\n"
     ]
    }
   ],
   "source": [
    "#https://blog.keras.io/using-pre-trained-word-embeddings-in-a-keras-model.html\n",
    "embeddings_index = {}\n",
    "f = open('../input/glove6b50dtxt/glove.6B.50d.txt')\n",
    "for line in f:\n",
    "    values = line.split()\n",
    "    word = values[0]\n",
    "    coefs = np.asarray(values[1:], dtype='float32')\n",
    "    embeddings_index[word] = coefs\n",
    "f.close()\n",
    "\n",
    "print('Found %s word vectors.' % len(embeddings_index))"
   ]
  },
  {
   "cell_type": "code",
   "execution_count": 57,
   "metadata": {
    "id": "5E7UjuZ6mL6L",
    "outputId": "928ea8ed-55b5-48cc-c8fc-00d1708a20bf"
   },
   "outputs": [
    {
     "data": {
      "text/plain": [
       "400000"
      ]
     },
     "execution_count": 57,
     "metadata": {},
     "output_type": "execute_result"
    }
   ],
   "source": [
    "len(embeddings_index.keys())"
   ]
  },
  {
   "cell_type": "code",
   "execution_count": 58,
   "metadata": {
    "id": "4hRVNCkOmL6N",
    "outputId": "69dd2348-0586-4fad-ae47-c772b1e5e6df"
   },
   "outputs": [
    {
     "data": {
      "text/plain": [
       "50"
      ]
     },
     "execution_count": 58,
     "metadata": {},
     "output_type": "execute_result"
    }
   ],
   "source": [
    "len(embeddings_index['apple'])"
   ]
  },
  {
   "cell_type": "code",
   "execution_count": 59,
   "metadata": {
    "id": "CdWSgdIxmL6Q",
    "outputId": "e2cdefe8-6fc4-44fd-af45-2dae577f1993"
   },
   "outputs": [
    {
     "name": "stdout",
     "output_type": "stream",
     "text": [
      "Loaded 400000 word vectors.\n"
     ]
    }
   ],
   "source": [
    "not_present_list = []\n",
    "vocab_size = len(t.word_index) + 1\n",
    "print('Loaded %s word vectors.' % len(embeddings_index))\n",
    "embedding_matrix = np.zeros((vocab_size, len(embeddings_index['no'])))\n",
    "for word, i in t.word_index.items():\n",
    "    if word in embeddings_index.keys():\n",
    "        embedding_vector = embeddings_index.get(word)\n",
    "    else:\n",
    "        not_present_list.append(word)\n",
    "    if embedding_vector is not None:\n",
    "        embedding_matrix[i] = embedding_vector\n",
    "    else:\n",
    "        embedding_matrix[i] = np.zeros(300)\n"
   ]
  },
  {
   "cell_type": "code",
   "execution_count": null,
   "metadata": {
    "id": "XdInEBtBmL6S"
   },
   "outputs": [],
   "source": []
  },
  {
   "cell_type": "code",
   "execution_count": 60,
   "metadata": {
    "id": "UdFrI1MqmL6T",
    "outputId": "6d71641a-8e1f-4d06-e1be-386d6daffee8"
   },
   "outputs": [
    {
     "data": {
      "text/plain": [
       "(68951, 50)"
      ]
     },
     "execution_count": 60,
     "metadata": {},
     "output_type": "execute_result"
    }
   ],
   "source": [
    "embedding_matrix.shape"
   ]
  },
  {
   "cell_type": "code",
   "execution_count": 61,
   "metadata": {
    "id": "3OnJfVvEmL6X",
    "outputId": "cc478b80-168a-4ec6-a780-759365696b43"
   },
   "outputs": [
    {
     "data": {
      "text/plain": [
       "68950"
      ]
     },
     "execution_count": 61,
     "metadata": {},
     "output_type": "execute_result"
    }
   ],
   "source": [
    "len(t.word_index) "
   ]
  },
  {
   "cell_type": "code",
   "execution_count": 62,
   "metadata": {
    "id": "k1lXjT8YmL6Z"
   },
   "outputs": [],
   "source": [
    "#not_present_list"
   ]
  },
  {
   "cell_type": "code",
   "execution_count": 63,
   "metadata": {
    "id": "PDnsm5KTv2G8"
   },
   "outputs": [],
   "source": [
    "from keras.regularizers import l2\n",
    "from keras.models import Sequential\n",
    "from keras.optimizers import Adam\n",
    "from keras.layers import Conv2D, ZeroPadding2D, Activation, Input, concatenate\n",
    "from keras.models import Model\n",
    "\n",
    "from keras.layers.normalization import BatchNormalization\n",
    "from keras.layers.pooling import MaxPooling2D\n",
    "from keras.layers.merge import Concatenate\n",
    "from keras.layers.core import Lambda, Flatten, Dense\n",
    "from keras.initializers import glorot_uniform\n",
    "from keras.layers import Input, Dense, Flatten, GlobalMaxPool2D, GlobalAvgPool2D, Concatenate, Multiply, Dropout, Subtract, Add, Conv2D"
   ]
  },
  {
   "cell_type": "code",
   "execution_count": 64,
   "metadata": {
    "id": "Rk8FTaOjyQjc"
   },
   "outputs": [],
   "source": [
    "from keras import backend as K\n",
    "\n",
    "def cosine_distance(vests):\n",
    "    x, y = vests\n",
    "    x = K.l2_normalize(x, axis=-1)\n",
    "    y = K.l2_normalize(y, axis=-1)\n",
    "    return -K.mean(x * y, axis=-1, keepdims=True)\n",
    "\n",
    "def cos_dist_output_shape(shapes):\n",
    "    shape1, shape2 = shapes\n",
    "    return (shape1[0],1)"
   ]
  },
  {
   "cell_type": "code",
   "execution_count": 65,
   "metadata": {
    "id": "Jd6bzWhMy1z5"
   },
   "outputs": [],
   "source": [
    "from sklearn.metrics import roc_auc_score\n",
    "\n",
    "def auroc(y_true, y_pred):\n",
    "    return tf.py_function(roc_auc_score, (y_true, y_pred), tf.double)\n"
   ]
  },
  {
   "cell_type": "code",
   "execution_count": null,
   "metadata": {
    "id": "Ztzhpxia7nW4"
   },
   "outputs": [],
   "source": []
  },
  {
   "cell_type": "code",
   "execution_count": 66,
   "metadata": {
    "id": "WbXU8p37mL6c"
   },
   "outputs": [],
   "source": [
    "input_1 = Input(shape=(train_q1_seq.shape[1],))\n",
    "input_2 = Input(shape=(train_q2_seq.shape[1],))\n",
    "\n",
    "\n",
    "common_embed = Embedding(name=\"synopsis_embedd\",input_dim =len(t.word_index)+1, \n",
    "                       output_dim=len(embeddings_index['no']),weights=[embedding_matrix], \n",
    "                       input_length=train_q1_seq.shape[1],trainable=True) \n",
    "lstm_1 = common_embed(input_1)\n",
    "lstm_2 = common_embed(input_2)\n",
    "\n",
    "\n",
    "common_lstm = LSTM(64,return_sequences=True, activation=\"relu\")\n",
    "common_lstm_2 = LSTM(64,return_sequences=True, activation=\"relu\")\n",
    "vector_1 = common_lstm(lstm_1)\n",
    "vector_1 = common_lstm_2(vector_1)\n",
    "vector_1 = Flatten()(vector_1)\n",
    "\n",
    "vector_2 = common_lstm(lstm_2)\n",
    "vector_2 = common_lstm_2(vector_2)\n",
    "vector_2 = Flatten()(vector_2)\n",
    "\n",
    "x3 = Subtract()([vector_1, vector_2])\n",
    "x3 = Multiply()([x3, x3])\n",
    "\n",
    "x1_ = Multiply()([vector_1, vector_1])\n",
    "x2_ = Multiply()([vector_2, vector_2])\n",
    "x4 = Subtract()([x1_, x2_])\n",
    "    \n",
    "    #https://stackoverflow.com/a/51003359/10650182\n",
    "x5 = Lambda(cosine_distance, output_shape=cos_dist_output_shape)([vector_1, vector_2])\n",
    "    \n",
    "conc = Concatenate(axis=-1)([x5,x4, x3])\n",
    "\n",
    "x = Dense(100, activation=\"relu\", name='conc_layer')(conc)\n",
    "x = Dropout(0.01)(x)\n",
    "x = Dense(100, activation=\"relu\", name='dense_layer')(x)\n",
    "x = Dropout(0.01)(x)\n",
    "out = Dense(1, activation=\"sigmoid\", name = 'out')(x)\n",
    "\n",
    "model = Model([input_1, input_2], out)\n",
    "\n",
    "model.compile(loss=\"binary_crossentropy\", metrics=['acc','AUC'], optimizer=Adam(0.0001))"
   ]
  },
  {
   "cell_type": "code",
   "execution_count": 67,
   "metadata": {
    "id": "eP-_1OaE6wKi",
    "outputId": "81e531a5-577c-4f82-cccc-61f199efe698"
   },
   "outputs": [
    {
     "name": "stdout",
     "output_type": "stream",
     "text": [
      "Model: \"model\"\n",
      "__________________________________________________________________________________________________\n",
      "Layer (type)                    Output Shape         Param #     Connected to                     \n",
      "==================================================================================================\n",
      "input_1 (InputLayer)            [(None, 30)]         0                                            \n",
      "__________________________________________________________________________________________________\n",
      "input_2 (InputLayer)            [(None, 30)]         0                                            \n",
      "__________________________________________________________________________________________________\n",
      "synopsis_embedd (Embedding)     (None, 30, 50)       3447550     input_1[0][0]                    \n",
      "                                                                 input_2[0][0]                    \n",
      "__________________________________________________________________________________________________\n",
      "lstm (LSTM)                     (None, 30, 64)       29440       synopsis_embedd[0][0]            \n",
      "                                                                 synopsis_embedd[1][0]            \n",
      "__________________________________________________________________________________________________\n",
      "lstm_1 (LSTM)                   (None, 30, 64)       33024       lstm[0][0]                       \n",
      "                                                                 lstm[1][0]                       \n",
      "__________________________________________________________________________________________________\n",
      "flatten (Flatten)               (None, 1920)         0           lstm_1[0][0]                     \n",
      "__________________________________________________________________________________________________\n",
      "flatten_1 (Flatten)             (None, 1920)         0           lstm_1[1][0]                     \n",
      "__________________________________________________________________________________________________\n",
      "multiply_1 (Multiply)           (None, 1920)         0           flatten[0][0]                    \n",
      "                                                                 flatten[0][0]                    \n",
      "__________________________________________________________________________________________________\n",
      "multiply_2 (Multiply)           (None, 1920)         0           flatten_1[0][0]                  \n",
      "                                                                 flatten_1[0][0]                  \n",
      "__________________________________________________________________________________________________\n",
      "subtract (Subtract)             (None, 1920)         0           flatten[0][0]                    \n",
      "                                                                 flatten_1[0][0]                  \n",
      "__________________________________________________________________________________________________\n",
      "lambda (Lambda)                 (None, 1)            0           flatten[0][0]                    \n",
      "                                                                 flatten_1[0][0]                  \n",
      "__________________________________________________________________________________________________\n",
      "subtract_1 (Subtract)           (None, 1920)         0           multiply_1[0][0]                 \n",
      "                                                                 multiply_2[0][0]                 \n",
      "__________________________________________________________________________________________________\n",
      "multiply (Multiply)             (None, 1920)         0           subtract[0][0]                   \n",
      "                                                                 subtract[0][0]                   \n",
      "__________________________________________________________________________________________________\n",
      "concatenate (Concatenate)       (None, 3841)         0           lambda[0][0]                     \n",
      "                                                                 subtract_1[0][0]                 \n",
      "                                                                 multiply[0][0]                   \n",
      "__________________________________________________________________________________________________\n",
      "conc_layer (Dense)              (None, 100)          384200      concatenate[0][0]                \n",
      "__________________________________________________________________________________________________\n",
      "dropout (Dropout)               (None, 100)          0           conc_layer[0][0]                 \n",
      "__________________________________________________________________________________________________\n",
      "dense_layer (Dense)             (None, 100)          10100       dropout[0][0]                    \n",
      "__________________________________________________________________________________________________\n",
      "dropout_1 (Dropout)             (None, 100)          0           dense_layer[0][0]                \n",
      "__________________________________________________________________________________________________\n",
      "out (Dense)                     (None, 1)            101         dropout_1[0][0]                  \n",
      "==================================================================================================\n",
      "Total params: 3,904,415\n",
      "Trainable params: 3,904,415\n",
      "Non-trainable params: 0\n",
      "__________________________________________________________________________________________________\n"
     ]
    }
   ],
   "source": [
    "model.summary()"
   ]
  },
  {
   "cell_type": "code",
   "execution_count": 68,
   "metadata": {
    "id": "NDWZs8rG1kyY"
   },
   "outputs": [],
   "source": [
    "my_callbacks = [\n",
    "    tf.keras.callbacks.EarlyStopping(patience=2),\n",
    "    tf.keras.callbacks.ModelCheckpoint(filepath='../working/model.{epoch:02d}-{val_loss:.2f}.h5'),\n",
    "    tf.keras.callbacks.TensorBoard(log_dir='./logs'),\n",
    "]"
   ]
  },
  {
   "cell_type": "code",
   "execution_count": 69,
   "metadata": {
    "id": "YL7lg7LmxxXk",
    "outputId": "70bf9919-756b-4ad1-d941-f9194a32b8ab"
   },
   "outputs": [
    {
     "name": "stdout",
     "output_type": "stream",
     "text": [
      "Epoch 1/10\n",
      "4549/4549 [==============================] - 1075s 236ms/step - loss: 0.5401 - acc: 0.7048 - auc: 0.7729 - val_loss: 0.5092 - val_acc: 0.7323 - val_auc: 0.8042\n",
      "Epoch 2/10\n",
      "4549/4549 [==============================] - 1074s 236ms/step - loss: 0.4807 - acc: 0.7555 - auc: 0.8296 - val_loss: 0.4822 - val_acc: 0.7560 - val_auc: 0.8297\n",
      "Epoch 3/10\n",
      "4549/4549 [==============================] - 1022s 225ms/step - loss: 0.4481 - acc: 0.7796 - auc: 0.8549 - val_loss: 0.4617 - val_acc: 0.7712 - val_auc: 0.8473\n",
      "Epoch 4/10\n",
      "4549/4549 [==============================] - 981s 216ms/step - loss: 0.3691 - acc: 0.8303 - auc: 0.9063 - val_loss: 0.4335 - val_acc: 0.7947 - val_auc: 0.8718\n",
      "Epoch 8/10\n",
      "4549/4549 [==============================] - 977s 215ms/step - loss: 0.3250 - acc: 0.8539 - auc: 0.9272 - val_loss: 0.4287 - val_acc: 0.8053 - val_auc: 0.8795\n"
     ]
    },
    {
     "data": {
      "text/plain": [
       "<tensorflow.python.keras.callbacks.History at 0x7f57b9e30ad0>"
      ]
     },
     "execution_count": 69,
     "metadata": {},
     "output_type": "execute_result"
    }
   ],
   "source": [
    "model.fit([train_q1_seq,train_q2_seq],y_train.values.reshape(-1,1), epochs = 10,\n",
    "          batch_size=64,validation_data=([val_q1_seq, val_q2_seq],y_val.values.reshape(-1,1)), callbacks=my_callbacks)"
   ]
  },
  {
   "cell_type": "code",
   "execution_count": null,
   "metadata": {
    "id": "bUav4Y7I03sk"
   },
   "outputs": [],
   "source": []
  }
 ],
 "metadata": {
  "kernelspec": {
   "display_name": "Python 3",
   "language": "python",
   "name": "python3"
  },
  "language_info": {
   "codemirror_mode": {
    "name": "ipython",
    "version": 3
   },
   "file_extension": ".py",
   "mimetype": "text/x-python",
   "name": "python",
   "nbconvert_exporter": "python",
   "pygments_lexer": "ipython3",
   "version": "3.7.6"
  }
 },
 "nbformat": 4,
 "nbformat_minor": 4
}
