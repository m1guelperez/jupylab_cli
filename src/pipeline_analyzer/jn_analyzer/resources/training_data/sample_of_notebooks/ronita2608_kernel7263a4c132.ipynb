{
 "cells": [
  {
   "cell_type": "code",
   "execution_count": 1,
   "metadata": {
    "_cell_guid": "b1076dfc-b9ad-4769-8c92-a6c4dae69d19",
    "_uuid": "8f2839f25d086af736a60e9eeb907d3b93b6e0e5",
    "execution": {
     "iopub.execute_input": "2020-08-07T14:04:48.306847Z",
     "iopub.status.busy": "2020-08-07T14:04:48.305747Z",
     "iopub.status.idle": "2020-08-07T14:04:48.311015Z",
     "shell.execute_reply": "2020-08-07T14:04:48.309998Z"
    },
    "papermill": {
     "duration": 0.020601,
     "end_time": "2020-08-07T14:04:48.311204",
     "exception": false,
     "start_time": "2020-08-07T14:04:48.290603",
     "status": "completed"
    },
    "tags": []
   },
   "outputs": [
    {
     "name": "stdout",
     "output_type": "stream",
     "text": [
      "['Python', 'Kotlin', 'C++', 'Java']\n",
      "['Python', 'Kotlin', 'C++', 'Java', 'PHP']\n",
      "['Python', 'Kotlin', 'C++', 'PHP']\n",
      "['Python', 'Kotlin']\n",
      "('Python', 'C', 'C++', 'Java')\n",
      "('Python', 'C')\n",
      "{1: 'Python', 2: 'C', 3: 'C++', 4: 'Java'}\n",
      "{1: 'Kotlin', 2: 'C', 3: 'C++', 4: 'Java'}\n",
      "{2: 'C', 3: 'C++', 4: 'Java'}\n",
      "{2: 'C', 3: 'C++', 4: 'Java', 1: 'React_Native'}\n"
     ]
    }
   ],
   "source": [
    "list_a = [\"Python\",\"C\",\"C++\",\"Java\"]\n",
    "\n",
    "tuple_a = (\"Python\",\"C\",\"C++\",\"Java\")\n",
    "\n",
    "dict_a = {1: \"Python\",2: \"C\",3: \"C++\",4: \"Java\"}\n",
    "\n",
    "#list is mutable in nature, and the slicing operator can be used on it\n",
    "\n",
    "list_a[1] = \"Kotlin\"\n",
    "print(list_a)\n",
    "\n",
    "list_a.insert(4,\"PHP\")\n",
    "print(list_a)\n",
    "\n",
    "list_a.pop(3)\n",
    "print(list_a)\n",
    "\n",
    "print(list_a[0:2])\n",
    "\n",
    "#tuples are not mutable in nature, although the slicing operator can be used\n",
    "# unlike lists,no changes can be made to the tuple\n",
    "print(tuple_a)\n",
    "\n",
    "print(tuple_a[0:2])\n",
    "\n",
    "# tuple_a[2] = \"React_Native\", this would lead to an error \n",
    "\n",
    "#dictionaries have two parts, i.e keys and values, for eg, dict = {key1:\"value1\", key2:\"value2\"}\n",
    "\n",
    "print(dict_a)\n",
    "\n",
    "#in dictionary the \"keys\" are like tuples and are immutable while \"values\" are like lists and mutable\n",
    "#to change the values, we might reference the \"values\" through the \"keys\"\n",
    "\n",
    "\n",
    "dict_a[1] = \"Kotlin\"\n",
    "\n",
    "print(dict_a)\n",
    "\n",
    "#removing a key and its value\n",
    "\n",
    "del dict_a[1]\n",
    "print(dict_a)\n",
    "\n",
    "#adding a new key and value\n",
    "\n",
    "dict_a[1] = \"React_Native\"\n",
    "\n",
    "print(dict_a)"
   ]
  },
  {
   "cell_type": "code",
   "execution_count": null,
   "metadata": {
    "_cell_guid": "79c7e3d0-c299-4dcb-8224-4455121ee9b0",
    "_uuid": "d629ff2d2480ee46fbb7e2d37f6b5fab8052498a",
    "papermill": {
     "duration": 0.00317,
     "end_time": "2020-08-07T14:04:48.319247",
     "exception": false,
     "start_time": "2020-08-07T14:04:48.316077",
     "status": "completed"
    },
    "tags": []
   },
   "outputs": [],
   "source": []
  }
 ],
 "metadata": {
  "kernelspec": {
   "display_name": "Python 3",
   "language": "python",
   "name": "python3"
  },
  "language_info": {
   "codemirror_mode": {
    "name": "ipython",
    "version": 3
   },
   "file_extension": ".py",
   "mimetype": "text/x-python",
   "name": "python",
   "nbconvert_exporter": "python",
   "pygments_lexer": "ipython3",
   "version": "3.7.6"
  },
  "papermill": {
   "duration": 5.977777,
   "end_time": "2020-08-07T14:04:48.431552",
   "environment_variables": {},
   "exception": null,
   "input_path": "__notebook__.ipynb",
   "output_path": "__notebook__.ipynb",
   "parameters": {},
   "start_time": "2020-08-07T14:04:42.453775",
   "version": "2.1.0"
  }
 },
 "nbformat": 4,
 "nbformat_minor": 4
}
