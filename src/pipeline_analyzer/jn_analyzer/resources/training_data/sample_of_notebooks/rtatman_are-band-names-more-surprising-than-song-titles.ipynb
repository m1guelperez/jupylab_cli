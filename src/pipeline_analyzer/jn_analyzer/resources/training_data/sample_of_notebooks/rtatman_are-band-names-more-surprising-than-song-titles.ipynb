{
 "cells": [
  {
   "cell_type": "markdown",
   "metadata": {
    "_cell_guid": "cefc8050-d42e-4376-b674-f0b885ed9bde",
    "_uuid": "40002cabccef3aa03717ebdd586dac165e4be74c"
   },
   "source": [
    "We want to see to how surpsing song titles are given a langauge model trained on a realted corpus.\n",
    "\n",
    "So what we're going to do:\n",
    "\n",
    "* train a langauge model on some of these lyrics\n",
    "* evaluate the pelxity of band names\n",
    "* evaluate the plexity of short phrases taken from the held out lyrics "
   ]
  },
  {
   "cell_type": "code",
   "execution_count": 1,
   "metadata": {
    "_cell_guid": "8a980701-f22b-41b8-83b3-2176fcf16371",
    "_uuid": "59702d171854538d7ef3555dd5366a93207fa5ee",
    "collapsed": true
   },
   "outputs": [],
   "source": [
    "# libraries we're going to use\n",
    "import pandas as pd\n",
    "import collections, nltk\n",
    "from sklearn.model_selection import train_test_split\n",
    "import csv\n",
    "\n",
    "# read in & subset our lyrics into testing & training sets\n",
    "songs = pd.read_csv(\"../input/Lyrics1.csv\", nrows = 10000)\n",
    "train, test = train_test_split(songs.Lyrics, test_size=0.2)\n",
    "\n",
    "# save out test set\n",
    "test.to_csv('test_data.csv')"
   ]
  },
  {
   "cell_type": "code",
   "execution_count": 2,
   "metadata": {
    "_cell_guid": "b85f2d6d-1ab2-421a-af96-953899f8ac68",
    "_uuid": "7773368c026e4f3788700e138513dc3171ead60f",
    "collapsed": true
   },
   "outputs": [],
   "source": [
    "# code taken from https://github.com/luochuwei/Perplexity_calculate/tree/fa601a0c95423ddb69b124c1f0547bdb36e20584\n",
    "corpus = ' '.join(train.tolist())\n",
    "\n",
    "# we first tokenize the text corpus\n",
    "tokens = nltk.word_tokenize(corpus)\n",
    "\n",
    "#here you construct the unigram language model \n",
    "def unigram(tokens_for_unigram):    \n",
    "    model = collections.defaultdict(lambda: 0.01)\n",
    "    for f in tokens_for_unigram:\n",
    "        try:\n",
    "            model[f] += 1\n",
    "        except KeyError:\n",
    "            model[f] = 1\n",
    "            continue\n",
    "    for word in model:\n",
    "        model[word] = model[word]/float(len(model))\n",
    "    return model\n",
    "\n",
    "#computes perplexity of the unigram model on a testset  \n",
    "def perplexity(testset, model):\n",
    "    testset = testset.split()\n",
    "    perplexity = 1\n",
    "    N = 0\n",
    "    for word in testset:\n",
    "        N += 1\n",
    "        perplexity = perplexity * (1/model[word])\n",
    "    if N != 0:\n",
    "        perplexity = pow(perplexity, 1/float(N))\n",
    "    else:\n",
    "        perplexity = \"inf\"\n",
    "    return perplexity"
   ]
  },
  {
   "cell_type": "code",
   "execution_count": 3,
   "metadata": {
    "_cell_guid": "98dbbbe3-ebfb-49eb-aea2-0d585605e34c",
    "_uuid": "1c1accb1d2fe22d89a41465aa94fe2dfa036a3eb",
    "collapsed": true
   },
   "outputs": [],
   "source": [
    "# create unigram model with our training data\n",
    "model = unigram(tokens)"
   ]
  },
  {
   "cell_type": "code",
   "execution_count": 4,
   "metadata": {
    "_cell_guid": "a073b80f-4b7f-4281-ba3c-3c7f0a7ce5b1",
    "_uuid": "875d2730836c749063a9f2557d15be037e38bb13",
    "collapsed": true
   },
   "outputs": [
    {
     "data": {
      "text/plain": [
       "[inf,\n",
       " inf,\n",
       " inf,\n",
       " inf,\n",
       " inf,\n",
       " 36.387567519720186,\n",
       " inf,\n",
       " 45.386393045995376,\n",
       " 38.98076945412024,\n",
       " inf]"
      ]
     },
     "execution_count": 4,
     "metadata": {},
     "output_type": "execute_result"
    }
   ],
   "source": [
    "# empty list for our lyrics plexity\n",
    "lyrics_plexity = []\n",
    "\n",
    "# get the plexity for each set of test lyrics\n",
    "for i in test:\n",
    "    lyrics_plexity.append((perplexity(i, model)))\n",
    "    \n",
    "# print first ten\n",
    "lyrics_plexity[0:10]"
   ]
  },
  {
   "cell_type": "code",
   "execution_count": 5,
   "metadata": {
    "_cell_guid": "be3654dd-b377-4265-8d68-ab962a18edf1",
    "_uuid": "d16cbd348f427385c1cd15e8b0bcef2b0a758ec5",
    "collapsed": true
   },
   "outputs": [],
   "source": [
    "# save out the lyrics info\n",
    "with open('lyrics_plexity.csv','w') as output_file:\n",
    "    output_file.write(\"perplexity\\n\")\n",
    "    for item in lyrics_plexity:\n",
    "        output_file.write(\"%s\\n\" % item)"
   ]
  },
  {
   "cell_type": "code",
   "execution_count": 6,
   "metadata": {
    "_cell_guid": "b3740df2-fca6-4379-aa19-c96dfc1df140",
    "_uuid": "d3e16b31ee93d374b5621108efb7cac811f8f376",
    "collapsed": true
   },
   "outputs": [],
   "source": [
    "# read in band names\n",
    "bandNames = pd.read_csv(\"../input/ArtistUrl.csv\")\n",
    "\n",
    "# remove duplicates\n",
    "unique_bandNames = bandNames.Artist.unique()\n",
    "\n",
    "# save list of unique bandnames\n",
    "with open('bandNames.csv','w') as output_file:\n",
    "    output_file.write(\"band_name\\n\")\n",
    "    for item in unique_bandNames:\n",
    "        output_file.write(\"%s\\n\" % item)"
   ]
  },
  {
   "cell_type": "code",
   "execution_count": 7,
   "metadata": {
    "_cell_guid": "823bd313-c267-4f8e-90eb-e5a2259c90ee",
    "_uuid": "29157ce139c6311ef7631f133708b64dabc6365f",
    "collapsed": true
   },
   "outputs": [
    {
     "data": {
      "text/plain": [
       "[28.53996611124559,\n",
       " 181.9381270167394,\n",
       " 541.8318060391899,\n",
       " 1267.5946111825995,\n",
       " 435.36296982403246,\n",
       " 524.1908480899119,\n",
       " 223.3642009850839,\n",
       " 65.83919077661973,\n",
       " 353.3311953295315,\n",
       " 785.6809374519308]"
      ]
     },
     "execution_count": 7,
     "metadata": {},
     "output_type": "execute_result"
    }
   ],
   "source": [
    "# get the band name perplexity\n",
    "# empty list for our band name plexity\n",
    "band_plexity = []\n",
    "\n",
    "# get the plexity for each band name\n",
    "for i in unique_bandNames:\n",
    "    band_plexity.append((perplexity(i, model)))\n",
    "\n",
    "# print first ten\n",
    "band_plexity[0:10]"
   ]
  },
  {
   "cell_type": "code",
   "execution_count": 8,
   "metadata": {
    "_cell_guid": "fc9b4799-a5cf-4db0-ad9d-a3808726b147",
    "_uuid": "6409e2c0c03b52b12c7cb4bd28ee10b384d95af0"
   },
   "outputs": [],
   "source": [
    "# save our perplexity info! \n",
    "with open('band_plexity.csv','w') as output_file:\n",
    "    output_file.write(\"perplexity\\n\")\n",
    "    for item in band_plexity:\n",
    "        output_file.write(\"%s\\n\" % item)"
   ]
  }
 ],
 "metadata": {
  "kernelspec": {
   "display_name": "Python 3",
   "language": "python",
   "name": "python3"
  },
  "language_info": {
   "codemirror_mode": {
    "name": "ipython",
    "version": 3
   },
   "file_extension": ".py",
   "mimetype": "text/x-python",
   "name": "python",
   "nbconvert_exporter": "python",
   "pygments_lexer": "ipython3",
   "version": "3.6.3"
  }
 },
 "nbformat": 4,
 "nbformat_minor": 1
}
