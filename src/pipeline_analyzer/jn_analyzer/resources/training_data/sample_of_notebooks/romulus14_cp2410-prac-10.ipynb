{
 "cells": [
  {
   "cell_type": "code",
   "execution_count": 1,
   "metadata": {
    "_cell_guid": "b1076dfc-b9ad-4769-8c92-a6c4dae69d19",
    "_uuid": "8f2839f25d086af736a60e9eeb907d3b93b6e0e5"
   },
   "outputs": [
    {
     "name": "stdout",
     "output_type": "stream",
     "text": [
      "[]\n"
     ]
    }
   ],
   "source": [
    "# This Python 3 environment comes with many helpful analytics libraries installed\n",
    "# It is defined by the kaggle/python docker image: https://github.com/kaggle/docker-python\n",
    "# For example, here's several helpful packages to load in \n",
    "\n",
    "import numpy as np # linear algebra\n",
    "import pandas as pd # data processing, CSV file I/O (e.g. pd.read_csv)\n",
    "\n",
    "# Input data files are available in the \"../input/\" directory.\n",
    "# For example, running this (by clicking run or pressing Shift+Enter) will list the files in the input directory\n",
    "\n",
    "import os\n",
    "print(os.listdir(\"../input\"))\n",
    "\n",
    "# Any results you write to the current directory are saved as output."
   ]
  },
  {
   "cell_type": "markdown",
   "metadata": {},
   "source": [
    "CP2410 Practical 10 - Sorting and Selection\n",
    "1. Suppose S is a list of n bits, that is, n (0s and 1s). How long will it take to sort S with the merge-sort\n",
    "algorithm? What about quick-sort?\n",
    "\n",
    "\n"
   ]
  },
  {
   "cell_type": "markdown",
   "metadata": {},
   "source": [
    "Merge-sort takes O( n log n ) time, as it is cannot recognize special cases (i.e only two possible values).\n",
    "For the quick sort, choosing 1 as the pivot, the quick-sort algorithm takes only one iteration to split\n",
    "the input into two nodes, one containing all zeros and the other all ones. At this point the list is sorted\n",
    "in only O( n ) time as it only needs to iterate until it finds a 1 to pivot around."
   ]
  },
  {
   "cell_type": "markdown",
   "metadata": {},
   "source": [
    "2. Suppose we are given two n-element sorted sequences A and B that may contain duplicate entries.\n",
    "Describe an O(n)-time method for computing a sequence representing all elements in A or B with no\n",
    "duplicates.\n",
    "\n"
   ]
  },
  {
   "cell_type": "markdown",
   "metadata": {},
   "source": [
    "Applying the merge method on A and B to create C. This takes O( n ) time. Then perform a scan\n",
    "through C removing all duplicates (i.e. if the next element is equal to the current element,\n",
    "remove it). So, the total running time is O( n )."
   ]
  },
  {
   "cell_type": "markdown",
   "metadata": {},
   "source": [
    "3. Given an array A of n entries with keys equal to 0 or 1, describe an in-place method for ordering A\n",
    "so that all 0s are before every 1.\n",
    "\n"
   ]
  },
  {
   "cell_type": "markdown",
   "metadata": {},
   "source": [
    "Similar to Q1, select 1 as the pivot and perform quick-sort. After the first cycle, the sequence\n",
    "is sorted. This takes O( n ) time"
   ]
  },
  {
   "cell_type": "markdown",
   "metadata": {},
   "source": [
    "4. Suppose we are given an n-element sequence S such that each element in S represents a different\n",
    "vote for president, where each vote is given as an integer representing a particular candidate.\n",
    "Design an O(n lg n)-time algorithm to see who wins the election S represents, assuming the\n",
    "candidate with the most vote wins - even if there are O(n) candidates.\n",
    "\n"
   ]
  },
  {
   "cell_type": "markdown",
   "metadata": {},
   "source": [
    "First sort the sequence S by the candidate's ID - this takes O(n lg n) time.\n",
    "Then go through the sorted sequence, storing the current max and count of the current\n",
    "candidate ID. When moved to a new ID, check it against the current max and replace the\n",
    "max if necessary - this takes O(n) time.\n",
    "Therefore, the total running time is O(n lg n)."
   ]
  },
  {
   "cell_type": "markdown",
   "metadata": {},
   "source": [
    "5. Consider the voting problem from above, but now suppose the number of candidates are a small\n",
    "constant number. Describe an O(n)-time algorithm for determining who wins the election."
   ]
  },
  {
   "cell_type": "markdown",
   "metadata": {},
   "source": [
    "The input data has only a small constant number of different values. Let k be the number of candidates. \n",
    "So, we can perform the Bucket-Sort algorithm.\n",
    "Creating an array A of size k , and initialising all values to 0. \n",
    "Creating a table, by assigning every candidate a unique integer from 0 to k - 1. \n",
    "These two steps take O(1) time as it is a simple assignment operation.\n",
    "Going through the unsorted sequence S, and for every visited ID, add one to the content of A[i],\n",
    "where i is the corresponding number in the look-up table. This process takes O(n) time.\n",
    "Thus, the total running time is O(n)."
   ]
  }
 ],
 "metadata": {
  "kernelspec": {
   "display_name": "Python 3",
   "language": "python",
   "name": "python3"
  },
  "language_info": {
   "codemirror_mode": {
    "name": "ipython",
    "version": 3
   },
   "file_extension": ".py",
   "mimetype": "text/x-python",
   "name": "python",
   "nbconvert_exporter": "python",
   "pygments_lexer": "ipython3",
   "version": "3.6.4"
  }
 },
 "nbformat": 4,
 "nbformat_minor": 1
}
