{
 "cells": [
  {
   "cell_type": "markdown",
   "execution_count": null,
   "metadata": {},
   "source": [
    "# Project: European Soccer Database\n",
    "\n",
    "## Table of Contents\n",
    "<ul>\n",
    "<li><a href=\"#intro\">Introduction</a></li>\n",
    "<li><a href=\"#wrangling\">Data Wrangling/Cleaning</a></li>\n",
    "</ul>"
   ]
  },
  {
   "cell_type": "markdown",
   "execution_count": null,
   "metadata": {},
   "source": [
    "<a id='intro'></a>\n",
    "## Introduction\n",
    "\n",
    "European Soccer Database contains data for soccer matches, players, and teams from 2008 to 2016 from the top 11 leagues. The dataset provides rich stats such as:\n",
    "<ul>\n",
    "    <li>+25,000 matches</li>\n",
    "    <li>+10,000 players</li>\n",
    "    <li>11 European Countries with their lead championship</li>\n",
    "    <li>Seasons 2008 to 2016</li>\n",
    "    <li>Players and Teams' attributes* sourced from EA Sports' FIFA video game series, including the weekly updates</li>\n",
    "    <li>Team line up with squad formation (X, Y coordinates)</li>\n",
    "    <li>Betting odds from up to 10 providers</li>\n",
    "    <li>Detailed match events (goal types, possession, corner, cross, fouls, cards etc…) for +10,000 matches</li>\n",
    "    </ul>\n",
    "\n",
    "for more details or download, you can refer to this [link](https://www.kaggle.com/hugomathien/soccer)"
   ]
  },
  {
   "cell_type": "code",
   "execution_count": 1,
   "metadata": {},
   "outputs": [
    {
     "name": "stdout",
     "output_type": "stream",
     "text": [
      "Collecting xmltodict\r\n",
      "  Downloading xmltodict-0.12.0-py2.py3-none-any.whl (9.2 kB)\r\n",
      "Installing collected packages: xmltodict\r\n",
      "Successfully installed xmltodict-0.12.0\r\n",
      "Note: you may need to restart the kernel to use updated packages.\n"
     ]
    }
   ],
   "source": [
    "pip install xmltodict"
   ]
  },
  {
   "cell_type": "code",
   "execution_count": 2,
   "metadata": {},
   "outputs": [],
   "source": [
    "#Data comes in a sqlite format, and can be exported in csv format using DB browser (https://sqlitebrowser.org/)"
   ]
  },
  {
   "cell_type": "code",
   "execution_count": 3,
   "metadata": {},
   "outputs": [
    {
     "name": "stdout",
     "output_type": "stream",
     "text": [
      "/kaggle/input/european-soccer-csv-files\n"
     ]
    }
   ],
   "source": [
    "cd ../input/european-soccer-csv-files/"
   ]
  },
  {
   "cell_type": "code",
   "execution_count": 4,
   "metadata": {},
   "outputs": [],
   "source": [
    "#Essential Imports\n",
    "import pandas as pd\n",
    "import numpy as np\n",
    "import xmltodict\n",
    "import collections"
   ]
  },
  {
   "cell_type": "code",
   "execution_count": 5,
   "metadata": {},
   "outputs": [],
   "source": [
    "#Data comes in a sqlite format, and can be exported in csv format using DB browser (https://sqlitebrowser.org/)\n",
    "\n",
    "#reading data csv files\n",
    "country_df = pd.read_csv('Country.csv')\n",
    "league_df = pd.read_csv('League.csv')\n",
    "match_df = pd.read_csv('Match.csv')\n",
    "player_df = pd.read_csv('Player.csv')\n",
    "player_attr_df = pd.read_csv('Player_Attributes.csv')\n",
    "team_df = pd.read_csv('Team.csv')\n",
    "team_attr_df = pd.read_csv('Team_Attributes.csv')"
   ]
  },
  {
   "cell_type": "markdown",
   "execution_count": null,
   "metadata": {},
   "source": [
    "<a id='wrangling'></a>\n",
    "## Data Wrangling/Cleaning"
   ]
  },
  {
   "cell_type": "markdown",
   "execution_count": null,
   "metadata": {},
   "source": [
    "#### Country Table"
   ]
  },
  {
   "cell_type": "code",
   "execution_count": 6,
   "metadata": {},
   "outputs": [
    {
     "name": "stdout",
     "output_type": "stream",
     "text": [
      "<class 'pandas.core.frame.DataFrame'>\n",
      "RangeIndex: 11 entries, 0 to 10\n",
      "Data columns (total 2 columns):\n",
      " #   Column  Non-Null Count  Dtype \n",
      "---  ------  --------------  ----- \n",
      " 0   id      11 non-null     int64 \n",
      " 1   name    11 non-null     object\n",
      "dtypes: int64(1), object(1)\n",
      "memory usage: 304.0+ bytes\n"
     ]
    }
   ],
   "source": [
    "country_df.info()"
   ]
  },
  {
   "cell_type": "code",
   "execution_count": 7,
   "metadata": {},
   "outputs": [
    {
     "data": {
      "text/plain": [
       "str"
      ]
     },
     "execution_count": 7,
     "metadata": {},
     "output_type": "execute_result"
    }
   ],
   "source": [
    "type(country_df.name.iloc[0])"
   ]
  },
  {
   "cell_type": "code",
   "execution_count": 8,
   "metadata": {},
   "outputs": [
    {
     "data": {
      "text/html": [
       "<div>\n",
       "<style scoped>\n",
       "    .dataframe tbody tr th:only-of-type {\n",
       "        vertical-align: middle;\n",
       "    }\n",
       "\n",
       "    .dataframe tbody tr th {\n",
       "        vertical-align: top;\n",
       "    }\n",
       "\n",
       "    .dataframe thead th {\n",
       "        text-align: right;\n",
       "    }\n",
       "</style>\n",
       "<table border=\"1\" class=\"dataframe\">\n",
       "  <thead>\n",
       "    <tr style=\"text-align: right;\">\n",
       "      <th></th>\n",
       "      <th>id</th>\n",
       "      <th>name</th>\n",
       "    </tr>\n",
       "  </thead>\n",
       "  <tbody>\n",
       "    <tr>\n",
       "      <th>0</th>\n",
       "      <td>1</td>\n",
       "      <td>Belgium</td>\n",
       "    </tr>\n",
       "    <tr>\n",
       "      <th>1</th>\n",
       "      <td>1729</td>\n",
       "      <td>England</td>\n",
       "    </tr>\n",
       "    <tr>\n",
       "      <th>2</th>\n",
       "      <td>4769</td>\n",
       "      <td>France</td>\n",
       "    </tr>\n",
       "    <tr>\n",
       "      <th>3</th>\n",
       "      <td>7809</td>\n",
       "      <td>Germany</td>\n",
       "    </tr>\n",
       "    <tr>\n",
       "      <th>4</th>\n",
       "      <td>10257</td>\n",
       "      <td>Italy</td>\n",
       "    </tr>\n",
       "    <tr>\n",
       "      <th>5</th>\n",
       "      <td>13274</td>\n",
       "      <td>Netherlands</td>\n",
       "    </tr>\n",
       "    <tr>\n",
       "      <th>6</th>\n",
       "      <td>15722</td>\n",
       "      <td>Poland</td>\n",
       "    </tr>\n",
       "    <tr>\n",
       "      <th>7</th>\n",
       "      <td>17642</td>\n",
       "      <td>Portugal</td>\n",
       "    </tr>\n",
       "    <tr>\n",
       "      <th>8</th>\n",
       "      <td>19694</td>\n",
       "      <td>Scotland</td>\n",
       "    </tr>\n",
       "    <tr>\n",
       "      <th>9</th>\n",
       "      <td>21518</td>\n",
       "      <td>Spain</td>\n",
       "    </tr>\n",
       "    <tr>\n",
       "      <th>10</th>\n",
       "      <td>24558</td>\n",
       "      <td>Switzerland</td>\n",
       "    </tr>\n",
       "  </tbody>\n",
       "</table>\n",
       "</div>"
      ],
      "text/plain": [
       "       id         name\n",
       "0       1      Belgium\n",
       "1    1729      England\n",
       "2    4769       France\n",
       "3    7809      Germany\n",
       "4   10257        Italy\n",
       "5   13274  Netherlands\n",
       "6   15722       Poland\n",
       "7   17642     Portugal\n",
       "8   19694     Scotland\n",
       "9   21518        Spain\n",
       "10  24558  Switzerland"
      ]
     },
     "execution_count": 8,
     "metadata": {},
     "output_type": "execute_result"
    }
   ],
   "source": [
    "country_df"
   ]
  },
  {
   "cell_type": "markdown",
   "execution_count": null,
   "metadata": {},
   "source": [
    ">This is a simple table contains the 11 countries of interest along with their ids that link them with other tables, it will be of a great use when we try to focus on a specific league.\n",
    ">\n",
    "> It has two attributes {id: int64, name: string}\n",
    "> no need for wrangling"
   ]
  },
  {
   "cell_type": "markdown",
   "execution_count": null,
   "metadata": {},
   "source": [
    "#### League Table"
   ]
  },
  {
   "cell_type": "code",
   "execution_count": 9,
   "metadata": {},
   "outputs": [
    {
     "name": "stdout",
     "output_type": "stream",
     "text": [
      "<class 'pandas.core.frame.DataFrame'>\n",
      "RangeIndex: 11 entries, 0 to 10\n",
      "Data columns (total 3 columns):\n",
      " #   Column      Non-Null Count  Dtype \n",
      "---  ------      --------------  ----- \n",
      " 0   id          11 non-null     int64 \n",
      " 1   country_id  11 non-null     int64 \n",
      " 2   name        11 non-null     object\n",
      "dtypes: int64(2), object(1)\n",
      "memory usage: 392.0+ bytes\n"
     ]
    }
   ],
   "source": [
    "league_df.info()"
   ]
  },
  {
   "cell_type": "code",
   "execution_count": 10,
   "metadata": {},
   "outputs": [
    {
     "data": {
      "text/plain": [
       "str"
      ]
     },
     "execution_count": 10,
     "metadata": {},
     "output_type": "execute_result"
    }
   ],
   "source": [
    "type(league_df.name.iloc[0])"
   ]
  },
  {
   "cell_type": "code",
   "execution_count": 11,
   "metadata": {},
   "outputs": [
    {
     "data": {
      "text/html": [
       "<div>\n",
       "<style scoped>\n",
       "    .dataframe tbody tr th:only-of-type {\n",
       "        vertical-align: middle;\n",
       "    }\n",
       "\n",
       "    .dataframe tbody tr th {\n",
       "        vertical-align: top;\n",
       "    }\n",
       "\n",
       "    .dataframe thead th {\n",
       "        text-align: right;\n",
       "    }\n",
       "</style>\n",
       "<table border=\"1\" class=\"dataframe\">\n",
       "  <thead>\n",
       "    <tr style=\"text-align: right;\">\n",
       "      <th></th>\n",
       "      <th>id</th>\n",
       "      <th>country_id</th>\n",
       "      <th>name</th>\n",
       "    </tr>\n",
       "  </thead>\n",
       "  <tbody>\n",
       "    <tr>\n",
       "      <th>0</th>\n",
       "      <td>1</td>\n",
       "      <td>1</td>\n",
       "      <td>Belgium Jupiler League</td>\n",
       "    </tr>\n",
       "    <tr>\n",
       "      <th>1</th>\n",
       "      <td>1729</td>\n",
       "      <td>1729</td>\n",
       "      <td>England Premier League</td>\n",
       "    </tr>\n",
       "    <tr>\n",
       "      <th>2</th>\n",
       "      <td>4769</td>\n",
       "      <td>4769</td>\n",
       "      <td>France Ligue 1</td>\n",
       "    </tr>\n",
       "    <tr>\n",
       "      <th>3</th>\n",
       "      <td>7809</td>\n",
       "      <td>7809</td>\n",
       "      <td>Germany 1. Bundesliga</td>\n",
       "    </tr>\n",
       "    <tr>\n",
       "      <th>4</th>\n",
       "      <td>10257</td>\n",
       "      <td>10257</td>\n",
       "      <td>Italy Serie A</td>\n",
       "    </tr>\n",
       "  </tbody>\n",
       "</table>\n",
       "</div>"
      ],
      "text/plain": [
       "      id  country_id                    name\n",
       "0      1           1  Belgium Jupiler League\n",
       "1   1729        1729  England Premier League\n",
       "2   4769        4769          France Ligue 1\n",
       "3   7809        7809   Germany 1. Bundesliga\n",
       "4  10257       10257           Italy Serie A"
      ]
     },
     "execution_count": 11,
     "metadata": {},
     "output_type": "execute_result"
    }
   ],
   "source": [
    "league_df.head(5)"
   ]
  },
  {
   "cell_type": "markdown",
   "execution_count": null,
   "metadata": {},
   "source": [
    "The league table is straitforward, it contains the league name along with its id and the id of the corresponding country. The two ids are identical. so, what I will do is that I will drop the country id column and delete the country dataframe. As the league name is totally indicative of the country name."
   ]
  },
  {
   "cell_type": "code",
   "execution_count": 12,
   "metadata": {},
   "outputs": [],
   "source": [
    "#country_id column drop\n",
    "league_df.drop('country_id', axis= 1, inplace= True)"
   ]
  },
  {
   "cell_type": "code",
   "execution_count": 13,
   "metadata": {},
   "outputs": [],
   "source": [
    "#country df deletion\n",
    "del country_df"
   ]
  },
  {
   "cell_type": "markdown",
   "execution_count": null,
   "metadata": {},
   "source": [
    "#### Match Table"
   ]
  },
  {
   "cell_type": "code",
   "execution_count": 14,
   "metadata": {},
   "outputs": [
    {
     "name": "stdout",
     "output_type": "stream",
     "text": [
      "<class 'pandas.core.frame.DataFrame'>\n",
      "RangeIndex: 25979 entries, 0 to 25978\n",
      "Columns: 115 entries, id to BSA\n",
      "dtypes: float64(96), int64(9), object(10)\n",
      "memory usage: 22.8+ MB\n"
     ]
    }
   ],
   "source": [
    "match_df.info()"
   ]
  },
  {
   "cell_type": "code",
   "execution_count": 15,
   "metadata": {},
   "outputs": [
    {
     "name": "stdout",
     "output_type": "stream",
     "text": [
      "0 id\n",
      "1 country_id\n",
      "2 league_id\n",
      "3 season\n",
      "4 stage\n",
      "5 date\n",
      "6 match_api_id\n",
      "7 home_team_api_id\n",
      "8 away_team_api_id\n",
      "9 home_team_goal\n",
      "10 away_team_goal\n",
      "11 home_player_X1\n",
      "12 home_player_X2\n",
      "13 home_player_X3\n",
      "14 home_player_X4\n",
      "15 home_player_X5\n",
      "16 home_player_X6\n",
      "17 home_player_X7\n",
      "18 home_player_X8\n",
      "19 home_player_X9\n",
      "20 home_player_X10\n",
      "21 home_player_X11\n",
      "22 away_player_X1\n",
      "23 away_player_X2\n",
      "24 away_player_X3\n",
      "25 away_player_X4\n",
      "26 away_player_X5\n",
      "27 away_player_X6\n",
      "28 away_player_X7\n",
      "29 away_player_X8\n",
      "30 away_player_X9\n",
      "31 away_player_X10\n",
      "32 away_player_X11\n",
      "33 home_player_Y1\n",
      "34 home_player_Y2\n",
      "35 home_player_Y3\n",
      "36 home_player_Y4\n",
      "37 home_player_Y5\n",
      "38 home_player_Y6\n",
      "39 home_player_Y7\n",
      "40 home_player_Y8\n",
      "41 home_player_Y9\n",
      "42 home_player_Y10\n",
      "43 home_player_Y11\n",
      "44 away_player_Y1\n",
      "45 away_player_Y2\n",
      "46 away_player_Y3\n",
      "47 away_player_Y4\n",
      "48 away_player_Y5\n",
      "49 away_player_Y6\n",
      "50 away_player_Y7\n",
      "51 away_player_Y8\n",
      "52 away_player_Y9\n",
      "53 away_player_Y10\n",
      "54 away_player_Y11\n",
      "55 home_player_1\n",
      "56 home_player_2\n",
      "57 home_player_3\n",
      "58 home_player_4\n",
      "59 home_player_5\n",
      "60 home_player_6\n",
      "61 home_player_7\n",
      "62 home_player_8\n",
      "63 home_player_9\n",
      "64 home_player_10\n",
      "65 home_player_11\n",
      "66 away_player_1\n",
      "67 away_player_2\n",
      "68 away_player_3\n",
      "69 away_player_4\n",
      "70 away_player_5\n",
      "71 away_player_6\n",
      "72 away_player_7\n",
      "73 away_player_8\n",
      "74 away_player_9\n",
      "75 away_player_10\n",
      "76 away_player_11\n",
      "77 goal\n",
      "78 shoton\n",
      "79 shotoff\n",
      "80 foulcommit\n",
      "81 card\n",
      "82 cross\n",
      "83 corner\n",
      "84 possession\n",
      "85 B365H\n",
      "86 B365D\n",
      "87 B365A\n",
      "88 BWH\n",
      "89 BWD\n",
      "90 BWA\n",
      "91 IWH\n",
      "92 IWD\n",
      "93 IWA\n",
      "94 LBH\n",
      "95 LBD\n",
      "96 LBA\n",
      "97 PSH\n",
      "98 PSD\n",
      "99 PSA\n",
      "100 WHH\n",
      "101 WHD\n",
      "102 WHA\n",
      "103 SJH\n",
      "104 SJD\n",
      "105 SJA\n",
      "106 VCH\n",
      "107 VCD\n",
      "108 VCA\n",
      "109 GBH\n",
      "110 GBD\n",
      "111 GBA\n",
      "112 BSH\n",
      "113 BSD\n",
      "114 BSA\n"
     ]
    }
   ],
   "source": [
    "#columns names\n",
    "for i, col in enumerate(match_df.columns):\n",
    "    print(i, col)"
   ]
  },
  {
   "cell_type": "markdown",
   "execution_count": null,
   "metadata": {},
   "source": [
    "The match table has 115 columns. the names are indicative enough tho.\n",
    ">country_id can be dropped as it is the same as league_id\n",
    ">\n",
    ">Match api id can be dropped as it refers to the data source (match_api_id)\n",
    ">\n",
    ">Columns from 11:54 are related to the players coordinates, I can't find a use for them rightnow, so will be dropped unless needed in future work\n",
    ">\n",
    ">Columns 85 till the end indicate the bets organization initials and ends with (H,D,A) for (Home wins, Draw, Away wins)"
   ]
  },
  {
   "cell_type": "code",
   "execution_count": 16,
   "metadata": {},
   "outputs": [
    {
     "data": {
      "text/plain": [
       "True"
      ]
     },
     "execution_count": 16,
     "metadata": {},
     "output_type": "execute_result"
    }
   ],
   "source": [
    "(match_df.country_id == match_df.league_id).all()"
   ]
  },
  {
   "cell_type": "code",
   "execution_count": 17,
   "metadata": {},
   "outputs": [
    {
     "data": {
      "text/plain": [
       "Index(['id', 'league_id', 'season', 'stage', 'date', 'home_team_api_id',\n",
       "       'away_team_api_id', 'home_team_goal', 'away_team_goal', 'home_player_1',\n",
       "       'home_player_2', 'home_player_3', 'home_player_4', 'home_player_5',\n",
       "       'home_player_6', 'home_player_7', 'home_player_8', 'home_player_9',\n",
       "       'home_player_10', 'home_player_11', 'away_player_1', 'away_player_2',\n",
       "       'away_player_3', 'away_player_4', 'away_player_5', 'away_player_6',\n",
       "       'away_player_7', 'away_player_8', 'away_player_9', 'away_player_10',\n",
       "       'away_player_11', 'goal', 'shoton', 'shotoff', 'foulcommit', 'card',\n",
       "       'cross', 'corner', 'possession', 'B365H', 'B365D', 'B365A', 'BWH',\n",
       "       'BWD', 'BWA', 'IWH', 'IWD', 'IWA', 'LBH', 'LBD', 'LBA', 'PSH', 'PSD',\n",
       "       'PSA', 'WHH', 'WHD', 'WHA', 'SJH', 'SJD', 'SJA', 'VCH', 'VCD', 'VCA',\n",
       "       'GBH', 'GBD', 'GBA', 'BSH', 'BSD', 'BSA'],\n",
       "      dtype='object')"
      ]
     },
     "execution_count": 17,
     "metadata": {},
     "output_type": "execute_result"
    }
   ],
   "source": [
    "#confirmation step\n",
    "cols = np.r_[1, 6, 11:55]\n",
    "match_df.drop(match_df.columns[cols],axis=1, inplace=True)\n",
    "match_df.columns"
   ]
  },
  {
   "cell_type": "markdown",
   "execution_count": null,
   "metadata": {},
   "source": [
    "I can see it more convenient for the analysis to split this table into three tables:\n",
    ">One with the match statistics\n",
    ">\n",
    ">One with the lineup players ids\n",
    ">\n",
    ">One fot the bets values"
   ]
  },
  {
   "cell_type": "code",
   "execution_count": 18,
   "metadata": {},
   "outputs": [
    {
     "name": "stdout",
     "output_type": "stream",
     "text": [
      "0 id\n",
      "1 league_id\n",
      "2 season\n",
      "3 stage\n",
      "4 date\n",
      "5 home_team_api_id\n",
      "6 away_team_api_id\n",
      "7 home_team_goal\n",
      "8 away_team_goal\n",
      "9 home_player_1\n",
      "10 home_player_2\n",
      "11 home_player_3\n",
      "12 home_player_4\n",
      "13 home_player_5\n",
      "14 home_player_6\n",
      "15 home_player_7\n",
      "16 home_player_8\n",
      "17 home_player_9\n",
      "18 home_player_10\n",
      "19 home_player_11\n",
      "20 away_player_1\n",
      "21 away_player_2\n",
      "22 away_player_3\n",
      "23 away_player_4\n",
      "24 away_player_5\n",
      "25 away_player_6\n",
      "26 away_player_7\n",
      "27 away_player_8\n",
      "28 away_player_9\n",
      "29 away_player_10\n",
      "30 away_player_11\n",
      "31 goal\n",
      "32 shoton\n",
      "33 shotoff\n",
      "34 foulcommit\n",
      "35 card\n",
      "36 cross\n",
      "37 corner\n",
      "38 possession\n",
      "39 B365H\n",
      "40 B365D\n",
      "41 B365A\n",
      "42 BWH\n",
      "43 BWD\n",
      "44 BWA\n",
      "45 IWH\n",
      "46 IWD\n",
      "47 IWA\n",
      "48 LBH\n",
      "49 LBD\n",
      "50 LBA\n",
      "51 PSH\n",
      "52 PSD\n",
      "53 PSA\n",
      "54 WHH\n",
      "55 WHD\n",
      "56 WHA\n",
      "57 SJH\n",
      "58 SJD\n",
      "59 SJA\n",
      "60 VCH\n",
      "61 VCD\n",
      "62 VCA\n",
      "63 GBH\n",
      "64 GBD\n",
      "65 GBA\n",
      "66 BSH\n",
      "67 BSD\n",
      "68 BSA\n"
     ]
    }
   ],
   "source": [
    "#columns names\n",
    "for i, col in enumerate(match_df.columns):\n",
    "    print(i, col)"
   ]
  },
  {
   "cell_type": "code",
   "execution_count": 19,
   "metadata": {},
   "outputs": [],
   "source": [
    "cols1 = np.r_[0:9, 31:39]\n",
    "match_stats_df = match_df.iloc[:, cols1].reset_index().drop('index', axis= 1)\n",
    "cols2 = np.r_[0, 39:69]\n",
    "match_bets_df = match_df.iloc[:, cols2].reset_index().drop('index', axis= 1)\n",
    "cols3 = np.r_[0, 9:31]\n",
    "match_lineup_df = match_df.iloc[:, cols3].reset_index().drop('index', axis= 1)\n",
    "del match_df"
   ]
  },
  {
   "cell_type": "markdown",
   "execution_count": null,
   "metadata": {},
   "source": [
    "I will focus on fixing the datatypes and parsing the necessary info and will leave handling null values when it comes to proposing questions later to handle each separatly"
   ]
  },
  {
   "cell_type": "code",
   "execution_count": 20,
   "metadata": {},
   "outputs": [],
   "source": [
    "#change date from string to datetime\n",
    "match_stats_df.date = pd.to_datetime(match_stats_df.date)"
   ]
  },
  {
   "cell_type": "code",
   "execution_count": 21,
   "metadata": {},
   "outputs": [
    {
     "data": {
      "text/plain": [
       "'<goal><value><comment>n</comment><stats><goals>1</goals><shoton>1</shoton></stats><event_incident_typefk>406</event_incident_typefk><elapsed>22</elapsed><player2>38807</player2><subtype>header</subtype><player1>37799</player1><sortorder>5</sortorder><team>10261</team><id>378998</id><n>295</n><type>goal</type><goal_type>n</goal_type></value><value><comment>n</comment><stats><goals>1</goals><shoton>1</shoton></stats><event_incident_typefk>393</event_incident_typefk><elapsed>24</elapsed><player2>24154</player2><subtype>shot</subtype><player1>24148</player1><sortorder>4</sortorder><team>10260</team><id>379019</id><n>298</n><type>goal</type><goal_type>n</goal_type></value></goal>'"
      ]
     },
     "execution_count": 21,
     "metadata": {},
     "output_type": "execute_result"
    }
   ],
   "source": [
    "#inspecting goal values\n",
    "match_stats_df.goal.unique()[1]"
   ]
  },
  {
   "cell_type": "code",
   "execution_count": 22,
   "metadata": {},
   "outputs": [
    {
     "data": {
      "text/plain": [
       "'<possession><value><comment>56</comment><event_incident_typefk>352</event_incident_typefk><elapsed>25</elapsed><subtype>possession</subtype><sortorder>1</sortorder><awaypos>44</awaypos><homepos>56</homepos><n>68</n><type>special</type><id>379029</id></value><value><comment>54</comment><elapsed_plus>1</elapsed_plus><event_incident_typefk>352</event_incident_typefk><elapsed>45</elapsed><subtype>possession</subtype><sortorder>4</sortorder><awaypos>46</awaypos><homepos>54</homepos><n>117</n><type>special</type><id>379251</id></value><value><comment>54</comment><event_incident_typefk>352</event_incident_typefk><elapsed>70</elapsed><subtype>possession</subtype><sortorder>0</sortorder><awaypos>46</awaypos><homepos>54</homepos><n>190</n><type>special</type><id>379443</id></value><value><comment>55</comment><elapsed_plus>5</elapsed_plus><event_incident_typefk>352</event_incident_typefk><elapsed>90</elapsed><subtype>possession</subtype><sortorder>1</sortorder><awaypos>45</awaypos><homepos>55</homepos><n>252</n><type>special</type><id>379575</id></value></possession>'"
      ]
     },
     "execution_count": 22,
     "metadata": {},
     "output_type": "execute_result"
    }
   ],
   "source": [
    "#inspecting possession values\n",
    "match_stats_df.possession.unique()[1]"
   ]
  },
  {
   "cell_type": "code",
   "execution_count": 23,
   "metadata": {},
   "outputs": [],
   "source": [
    "# o = xmltodict.parse(match_stats_df.goal.unique()[1])\n",
    "# o"
   ]
  },
  {
   "cell_type": "code",
   "execution_count": 24,
   "metadata": {},
   "outputs": [],
   "source": [
    "def parse_goal(goal, home_id, away_id):\n",
    "    '''\n",
    "    The function parses the goal values which is xml text into more convenient tuble\n",
    "    Args:\n",
    "        goal -> xml text with multiple tags and goal info\n",
    "        home_id -> the id of the home team of the match that goal was scored in\n",
    "        away_id -> the id of the away team\n",
    "    Returns:\n",
    "        a tuble of two lists: the first one is the home goals list and the second is the away goals list.\n",
    "        each list consists of a number of tubles correspond to each goal.\n",
    "        tuble format: (time of the goal in mins-int, scorer id-int, assisstant id-int, goal type-string)\n",
    "    '''\n",
    "    if pd.notna(goal):\n",
    "        if xmltodict.parse(goal)['goal'] != None:\n",
    "            goal_dict = xmltodict.parse(goal)['goal']['value']\n",
    "            home_goals = list()\n",
    "            away_goals = list()\n",
    "            if type(goal_dict) == collections.OrderedDict:\n",
    "                goal_dict = [goal_dict]\n",
    "            for g in goal_dict:\n",
    "                try:\n",
    "                    p1 = int(g['player1'])\n",
    "                except:\n",
    "                    p1 = 0\n",
    "                try:\n",
    "                    p2 = int(g['player2'])\n",
    "                except:\n",
    "                    p2 = 0                \n",
    "                g_info = (int(g['elapsed']),p1, p2, g['comment'])\n",
    "                if 'del' not in g.keys():\n",
    "                    if int(g['team']) == home_id:\n",
    "                        home_goals.append(g_info)\n",
    "                    else:\n",
    "                        away_goals.append(g_info)\n",
    "            return home_goals, away_goals"
   ]
  },
  {
   "cell_type": "markdown",
   "execution_count": null,
   "metadata": {},
   "source": [
    "multiple conditions were added to the function logic to handle various cases of the goal values such as:\n",
    "not all the attributes exist all the time\n",
    "normally the parser returns a list of ordereddicts of all the goals but if it is one goal it returns an ordereddict not a list of length one"
   ]
  },
  {
   "cell_type": "code",
   "execution_count": 25,
   "metadata": {},
   "outputs": [],
   "source": [
    "match_stats_df[\"goals_info\"] = match_stats_df.apply(lambda row: parse_goal(row.goal, row.home_team_api_id, row.away_team_api_id), axis= 1)"
   ]
  },
  {
   "cell_type": "code",
   "execution_count": 26,
   "metadata": {},
   "outputs": [],
   "source": [
    "odd_goals = match_stats_df[match_stats_df.goals_info.isnull() == False]"
   ]
  },
  {
   "cell_type": "code",
   "execution_count": 27,
   "metadata": {},
   "outputs": [
    {
     "data": {
      "text/html": [
       "<div>\n",
       "<style scoped>\n",
       "    .dataframe tbody tr th:only-of-type {\n",
       "        vertical-align: middle;\n",
       "    }\n",
       "\n",
       "    .dataframe tbody tr th {\n",
       "        vertical-align: top;\n",
       "    }\n",
       "\n",
       "    .dataframe thead th {\n",
       "        text-align: right;\n",
       "    }\n",
       "</style>\n",
       "<table border=\"1\" class=\"dataframe\">\n",
       "  <thead>\n",
       "    <tr style=\"text-align: right;\">\n",
       "      <th></th>\n",
       "      <th>goals_info</th>\n",
       "      <th>home_team_goal</th>\n",
       "      <th>away_team_goal</th>\n",
       "    </tr>\n",
       "  </thead>\n",
       "  <tbody>\n",
       "    <tr>\n",
       "      <th>1734</th>\n",
       "      <td>([(32, 24166, 0, dg), (71, 24166, 35608, n), (...</td>\n",
       "      <td>2</td>\n",
       "      <td>1</td>\n",
       "    </tr>\n",
       "    <tr>\n",
       "      <th>1748</th>\n",
       "      <td>([(3, 30893, 27430, n), (29, 34944, 27430, n),...</td>\n",
       "      <td>4</td>\n",
       "      <td>3</td>\n",
       "    </tr>\n",
       "    <tr>\n",
       "      <th>1758</th>\n",
       "      <td>([(22, 26181, 0, n), (48, 26181, 30613, n)], [...</td>\n",
       "      <td>2</td>\n",
       "      <td>1</td>\n",
       "    </tr>\n",
       "    <tr>\n",
       "      <th>1769</th>\n",
       "      <td>([(70, 31291, 0, o)], [(20, 23354, 0, npm), (8...</td>\n",
       "      <td>0</td>\n",
       "      <td>2</td>\n",
       "    </tr>\n",
       "    <tr>\n",
       "      <th>1775</th>\n",
       "      <td>([(45, 23783, 0, dg)], [(28, 37139, 34222, n),...</td>\n",
       "      <td>0</td>\n",
       "      <td>2</td>\n",
       "    </tr>\n",
       "    <tr>\n",
       "      <th>1787</th>\n",
       "      <td>([(55, 30630, 0, dg)], [])</td>\n",
       "      <td>0</td>\n",
       "      <td>0</td>\n",
       "    </tr>\n",
       "    <tr>\n",
       "      <th>1789</th>\n",
       "      <td>([(11, 33418, 38802, n), (30, 33418, 0, dg)], ...</td>\n",
       "      <td>1</td>\n",
       "      <td>4</td>\n",
       "    </tr>\n",
       "    <tr>\n",
       "      <th>1792</th>\n",
       "      <td>([(83, 35608, 0, dg)], [])</td>\n",
       "      <td>0</td>\n",
       "      <td>0</td>\n",
       "    </tr>\n",
       "    <tr>\n",
       "      <th>1810</th>\n",
       "      <td>([], [(54, 30893, 0, dg)])</td>\n",
       "      <td>0</td>\n",
       "      <td>0</td>\n",
       "    </tr>\n",
       "    <tr>\n",
       "      <th>1821</th>\n",
       "      <td>([(84, 36012, 0, dg)], [])</td>\n",
       "      <td>0</td>\n",
       "      <td>0</td>\n",
       "    </tr>\n",
       "  </tbody>\n",
       "</table>\n",
       "</div>"
      ],
      "text/plain": [
       "                                             goals_info  home_team_goal  \\\n",
       "1734  ([(32, 24166, 0, dg), (71, 24166, 35608, n), (...               2   \n",
       "1748  ([(3, 30893, 27430, n), (29, 34944, 27430, n),...               4   \n",
       "1758  ([(22, 26181, 0, n), (48, 26181, 30613, n)], [...               2   \n",
       "1769  ([(70, 31291, 0, o)], [(20, 23354, 0, npm), (8...               0   \n",
       "1775  ([(45, 23783, 0, dg)], [(28, 37139, 34222, n),...               0   \n",
       "1787                         ([(55, 30630, 0, dg)], [])               0   \n",
       "1789  ([(11, 33418, 38802, n), (30, 33418, 0, dg)], ...               1   \n",
       "1792                         ([(83, 35608, 0, dg)], [])               0   \n",
       "1810                         ([], [(54, 30893, 0, dg)])               0   \n",
       "1821                         ([(84, 36012, 0, dg)], [])               0   \n",
       "\n",
       "      away_team_goal  \n",
       "1734               1  \n",
       "1748               3  \n",
       "1758               1  \n",
       "1769               2  \n",
       "1775               2  \n",
       "1787               0  \n",
       "1789               4  \n",
       "1792               0  \n",
       "1810               0  \n",
       "1821               0  "
      ]
     },
     "execution_count": 27,
     "metadata": {},
     "output_type": "execute_result"
    }
   ],
   "source": [
    "#confirmation step\n",
    "odd_goals[odd_goals.home_team_goal+odd_goals.away_team_goal != odd_goals.goals_info.apply(lambda x: len(x[0])+len(x[1]))][['goals_info', 'home_team_goal', 'away_team_goal']].head(10)"
   ]
  },
  {
   "cell_type": "markdown",
   "execution_count": null,
   "metadata": {},
   "source": [
    "it seems that there are some ambiguous goal types that are mentioned but they don't count in the score \n",
    "<br/> n -> normal goal that can be a shot or a header, etc (sometimes this type has a subtype)\n",
    "<br/> p -> penality kick\n",
    "<br/> o -> own goal (and it is counted in the list of goals info of the team that received it)\n",
    "<br/> dg, npm -> types of goals that are not counted in the score, maybe canceled by VAR or something"
   ]
  },
  {
   "cell_type": "code",
   "execution_count": 28,
   "metadata": {},
   "outputs": [],
   "source": [
    "def parse_poss(poss):\n",
    "    '''\n",
    "    The function parses the possession values which is xml text into more convenient tuble\n",
    "    Args:\n",
    "        poss -> xml text with multiple tags and possession info\n",
    "    Returns:\n",
    "        a list of tubles: each one represents the essential possession info\n",
    "        tuble format: (time at which the possession recorded in mins-int, home possession-int, away possession-int)\n",
    "    '''\n",
    "    if pd.notna(poss):\n",
    "        if xmltodict.parse(poss)['possession'] != None:\n",
    "            poss_dict = xmltodict.parse(poss)['possession']['value']\n",
    "            if type(poss_dict) == collections.OrderedDict:\n",
    "                poss_dict = [poss_dict]\n",
    "            poss_info = list()\n",
    "            for p in poss_dict:\n",
    "                try:\n",
    "                    poss_info.append((int(p['elapsed']), int(p['homepos']), int(p['awaypos'])))\n",
    "                except:\n",
    "                    pass\n",
    "            return poss_info"
   ]
  },
  {
   "cell_type": "code",
   "execution_count": 29,
   "metadata": {},
   "outputs": [],
   "source": [
    "match_stats_df['poss_info'] = match_stats_df.possession.apply(lambda val: parse_poss(val))"
   ]
  },
  {
   "cell_type": "code",
   "execution_count": 30,
   "metadata": {},
   "outputs": [
    {
     "data": {
      "text/html": [
       "<div>\n",
       "<style scoped>\n",
       "    .dataframe tbody tr th:only-of-type {\n",
       "        vertical-align: middle;\n",
       "    }\n",
       "\n",
       "    .dataframe tbody tr th {\n",
       "        vertical-align: top;\n",
       "    }\n",
       "\n",
       "    .dataframe thead th {\n",
       "        text-align: right;\n",
       "    }\n",
       "</style>\n",
       "<table border=\"1\" class=\"dataframe\">\n",
       "  <thead>\n",
       "    <tr style=\"text-align: right;\">\n",
       "      <th></th>\n",
       "      <th>id</th>\n",
       "      <th>league_id</th>\n",
       "      <th>season</th>\n",
       "      <th>stage</th>\n",
       "      <th>date</th>\n",
       "      <th>home_team_api_id</th>\n",
       "      <th>away_team_api_id</th>\n",
       "      <th>home_team_goal</th>\n",
       "      <th>away_team_goal</th>\n",
       "      <th>goal</th>\n",
       "      <th>shoton</th>\n",
       "      <th>shotoff</th>\n",
       "      <th>foulcommit</th>\n",
       "      <th>card</th>\n",
       "      <th>cross</th>\n",
       "      <th>corner</th>\n",
       "      <th>possession</th>\n",
       "      <th>goals_info</th>\n",
       "      <th>poss_info</th>\n",
       "    </tr>\n",
       "  </thead>\n",
       "  <tbody>\n",
       "    <tr>\n",
       "      <th>1728</th>\n",
       "      <td>1729</td>\n",
       "      <td>1729</td>\n",
       "      <td>2008/2009</td>\n",
       "      <td>1</td>\n",
       "      <td>2008-08-17</td>\n",
       "      <td>10260</td>\n",
       "      <td>10261</td>\n",
       "      <td>1</td>\n",
       "      <td>1</td>\n",
       "      <td>&lt;goal&gt;&lt;value&gt;&lt;comment&gt;n&lt;/comment&gt;&lt;stats&gt;&lt;goals...</td>\n",
       "      <td>&lt;shoton&gt;&lt;value&gt;&lt;stats&gt;&lt;blocked&gt;1&lt;/blocked&gt;&lt;/st...</td>\n",
       "      <td>&lt;shotoff&gt;&lt;value&gt;&lt;stats&gt;&lt;shotoff&gt;1&lt;/shotoff&gt;&lt;/s...</td>\n",
       "      <td>&lt;foulcommit&gt;&lt;value&gt;&lt;stats&gt;&lt;foulscommitted&gt;1&lt;/f...</td>\n",
       "      <td>&lt;card&gt;&lt;value&gt;&lt;comment&gt;y&lt;/comment&gt;&lt;stats&gt;&lt;ycard...</td>\n",
       "      <td>&lt;cross&gt;&lt;value&gt;&lt;stats&gt;&lt;crosses&gt;1&lt;/crosses&gt;&lt;/sta...</td>\n",
       "      <td>&lt;corner&gt;&lt;value&gt;&lt;stats&gt;&lt;corners&gt;1&lt;/corners&gt;&lt;/st...</td>\n",
       "      <td>&lt;possession&gt;&lt;value&gt;&lt;comment&gt;56&lt;/comment&gt;&lt;event...</td>\n",
       "      <td>([(24, 24148, 24154, n)], [(22, 37799, 38807, ...</td>\n",
       "      <td>[(25, 56, 44), (45, 54, 46), (70, 54, 46), (90...</td>\n",
       "    </tr>\n",
       "    <tr>\n",
       "      <th>1729</th>\n",
       "      <td>1730</td>\n",
       "      <td>1729</td>\n",
       "      <td>2008/2009</td>\n",
       "      <td>1</td>\n",
       "      <td>2008-08-16</td>\n",
       "      <td>9825</td>\n",
       "      <td>8659</td>\n",
       "      <td>1</td>\n",
       "      <td>0</td>\n",
       "      <td>&lt;goal&gt;&lt;value&gt;&lt;comment&gt;n&lt;/comment&gt;&lt;stats&gt;&lt;goals...</td>\n",
       "      <td>&lt;shoton&gt;&lt;value&gt;&lt;stats&gt;&lt;blocked&gt;1&lt;/blocked&gt;&lt;/st...</td>\n",
       "      <td>&lt;shotoff&gt;&lt;value&gt;&lt;stats&gt;&lt;shotoff&gt;1&lt;/shotoff&gt;&lt;/s...</td>\n",
       "      <td>&lt;foulcommit&gt;&lt;value&gt;&lt;stats&gt;&lt;foulscommitted&gt;1&lt;/f...</td>\n",
       "      <td>&lt;card /&gt;</td>\n",
       "      <td>&lt;cross&gt;&lt;value&gt;&lt;stats&gt;&lt;crosses&gt;1&lt;/crosses&gt;&lt;/sta...</td>\n",
       "      <td>&lt;corner&gt;&lt;value&gt;&lt;stats&gt;&lt;corners&gt;1&lt;/corners&gt;&lt;/st...</td>\n",
       "      <td>&lt;possession&gt;&lt;value&gt;&lt;comment&gt;65&lt;/comment&gt;&lt;event...</td>\n",
       "      <td>([(4, 26181, 39297, n)], [])</td>\n",
       "      <td>[(27, 65, 35), (45, 61, 39), (74, 65, 35), (90...</td>\n",
       "    </tr>\n",
       "    <tr>\n",
       "      <th>1730</th>\n",
       "      <td>1731</td>\n",
       "      <td>1729</td>\n",
       "      <td>2008/2009</td>\n",
       "      <td>1</td>\n",
       "      <td>2008-08-16</td>\n",
       "      <td>8472</td>\n",
       "      <td>8650</td>\n",
       "      <td>0</td>\n",
       "      <td>1</td>\n",
       "      <td>&lt;goal&gt;&lt;value&gt;&lt;comment&gt;n&lt;/comment&gt;&lt;stats&gt;&lt;goals...</td>\n",
       "      <td>&lt;shoton&gt;&lt;value&gt;&lt;stats&gt;&lt;blocked&gt;1&lt;/blocked&gt;&lt;/st...</td>\n",
       "      <td>&lt;shotoff&gt;&lt;value&gt;&lt;stats&gt;&lt;shotoff&gt;1&lt;/shotoff&gt;&lt;/s...</td>\n",
       "      <td>&lt;foulcommit&gt;&lt;value&gt;&lt;stats&gt;&lt;foulscommitted&gt;1&lt;/f...</td>\n",
       "      <td>&lt;card&gt;&lt;value&gt;&lt;comment&gt;y&lt;/comment&gt;&lt;stats&gt;&lt;ycard...</td>\n",
       "      <td>&lt;cross&gt;&lt;value&gt;&lt;stats&gt;&lt;crosses&gt;1&lt;/crosses&gt;&lt;/sta...</td>\n",
       "      <td>&lt;corner&gt;&lt;value&gt;&lt;stats&gt;&lt;corners&gt;1&lt;/corners&gt;&lt;/st...</td>\n",
       "      <td>&lt;possession&gt;&lt;value&gt;&lt;comment&gt;45&lt;/comment&gt;&lt;event...</td>\n",
       "      <td>([], [(83, 30853, 30889, n)])</td>\n",
       "      <td>[(25, 45, 55), (45, 43, 57), (70, 48, 52), (90...</td>\n",
       "    </tr>\n",
       "    <tr>\n",
       "      <th>1731</th>\n",
       "      <td>1732</td>\n",
       "      <td>1729</td>\n",
       "      <td>2008/2009</td>\n",
       "      <td>1</td>\n",
       "      <td>2008-08-16</td>\n",
       "      <td>8654</td>\n",
       "      <td>8528</td>\n",
       "      <td>2</td>\n",
       "      <td>1</td>\n",
       "      <td>&lt;goal&gt;&lt;value&gt;&lt;comment&gt;n&lt;/comment&gt;&lt;stats&gt;&lt;goals...</td>\n",
       "      <td>&lt;shoton&gt;&lt;value&gt;&lt;stats&gt;&lt;shoton&gt;1&lt;/shoton&gt;&lt;/stat...</td>\n",
       "      <td>&lt;shotoff&gt;&lt;value&gt;&lt;stats&gt;&lt;shotoff&gt;1&lt;/shotoff&gt;&lt;/s...</td>\n",
       "      <td>&lt;foulcommit&gt;&lt;value&gt;&lt;stats&gt;&lt;foulscommitted&gt;1&lt;/f...</td>\n",
       "      <td>&lt;card&gt;&lt;value&gt;&lt;comment&gt;y&lt;/comment&gt;&lt;stats&gt;&lt;ycard...</td>\n",
       "      <td>&lt;cross&gt;&lt;value&gt;&lt;stats&gt;&lt;crosses&gt;1&lt;/crosses&gt;&lt;/sta...</td>\n",
       "      <td>&lt;corner&gt;&lt;value&gt;&lt;stats&gt;&lt;corners&gt;1&lt;/corners&gt;&lt;/st...</td>\n",
       "      <td>&lt;possession&gt;&lt;value&gt;&lt;comment&gt;50&lt;/comment&gt;&lt;event...</td>\n",
       "      <td>([(4, 23139, 36394, n), (10, 23139, 37277, n)]...</td>\n",
       "      <td>[(25, 50, 50), (45, 56, 44), (69, 41, 59), (90...</td>\n",
       "    </tr>\n",
       "    <tr>\n",
       "      <th>1732</th>\n",
       "      <td>1733</td>\n",
       "      <td>1729</td>\n",
       "      <td>2008/2009</td>\n",
       "      <td>1</td>\n",
       "      <td>2008-08-17</td>\n",
       "      <td>10252</td>\n",
       "      <td>8456</td>\n",
       "      <td>4</td>\n",
       "      <td>2</td>\n",
       "      <td>&lt;goal&gt;&lt;value&gt;&lt;comment&gt;n&lt;/comment&gt;&lt;stats&gt;&lt;goals...</td>\n",
       "      <td>&lt;shoton&gt;&lt;value&gt;&lt;stats&gt;&lt;blocked&gt;1&lt;/blocked&gt;&lt;/st...</td>\n",
       "      <td>&lt;shotoff&gt;&lt;value&gt;&lt;stats&gt;&lt;shotoff&gt;1&lt;/shotoff&gt;&lt;/s...</td>\n",
       "      <td>&lt;foulcommit&gt;&lt;value&gt;&lt;stats&gt;&lt;foulscommitted&gt;1&lt;/f...</td>\n",
       "      <td>&lt;card&gt;&lt;value&gt;&lt;comment&gt;y&lt;/comment&gt;&lt;stats&gt;&lt;ycard...</td>\n",
       "      <td>&lt;cross&gt;&lt;value&gt;&lt;stats&gt;&lt;corners&gt;1&lt;/corners&gt;&lt;/sta...</td>\n",
       "      <td>&lt;corner&gt;&lt;value&gt;&lt;stats&gt;&lt;corners&gt;1&lt;/corners&gt;&lt;/st...</td>\n",
       "      <td>&lt;possession&gt;&lt;value&gt;&lt;comment&gt;51&lt;/comment&gt;&lt;event...</td>\n",
       "      <td>([(47, 26165, 23354, n), (69, 23264, 24658, n)...</td>\n",
       "      <td>[(25, 51, 49), (45, 54, 46), (70, 49, 51), (90...</td>\n",
       "    </tr>\n",
       "    <tr>\n",
       "      <th>...</th>\n",
       "      <td>...</td>\n",
       "      <td>...</td>\n",
       "      <td>...</td>\n",
       "      <td>...</td>\n",
       "      <td>...</td>\n",
       "      <td>...</td>\n",
       "      <td>...</td>\n",
       "      <td>...</td>\n",
       "      <td>...</td>\n",
       "      <td>...</td>\n",
       "      <td>...</td>\n",
       "      <td>...</td>\n",
       "      <td>...</td>\n",
       "      <td>...</td>\n",
       "      <td>...</td>\n",
       "      <td>...</td>\n",
       "      <td>...</td>\n",
       "      <td>...</td>\n",
       "      <td>...</td>\n",
       "    </tr>\n",
       "    <tr>\n",
       "      <th>25944</th>\n",
       "      <td>25945</td>\n",
       "      <td>24558</td>\n",
       "      <td>2015/2016</td>\n",
       "      <td>36</td>\n",
       "      <td>2016-05-25</td>\n",
       "      <td>9931</td>\n",
       "      <td>9956</td>\n",
       "      <td>0</td>\n",
       "      <td>1</td>\n",
       "      <td>&lt;goal&gt;&lt;value&gt;&lt;comment&gt;o&lt;/comment&gt;&lt;stats&gt;&lt;owngo...</td>\n",
       "      <td>&lt;shoton /&gt;</td>\n",
       "      <td>&lt;shotoff /&gt;</td>\n",
       "      <td>&lt;foulcommit /&gt;</td>\n",
       "      <td>&lt;card&gt;&lt;value&gt;&lt;comment&gt;y&lt;/comment&gt;&lt;stats&gt;&lt;ycard...</td>\n",
       "      <td>&lt;cross /&gt;</td>\n",
       "      <td>&lt;corner /&gt;</td>\n",
       "      <td>&lt;possession /&gt;</td>\n",
       "      <td>([(41, 181211, 0, o)], [])</td>\n",
       "      <td>None</td>\n",
       "    </tr>\n",
       "    <tr>\n",
       "      <th>25945</th>\n",
       "      <td>25946</td>\n",
       "      <td>24558</td>\n",
       "      <td>2015/2016</td>\n",
       "      <td>36</td>\n",
       "      <td>2016-05-25</td>\n",
       "      <td>7896</td>\n",
       "      <td>10190</td>\n",
       "      <td>3</td>\n",
       "      <td>0</td>\n",
       "      <td>&lt;goal&gt;&lt;value&gt;&lt;comment&gt;n&lt;/comment&gt;&lt;stats&gt;&lt;goals...</td>\n",
       "      <td>&lt;shoton /&gt;</td>\n",
       "      <td>&lt;shotoff /&gt;</td>\n",
       "      <td>&lt;foulcommit /&gt;</td>\n",
       "      <td>&lt;card&gt;&lt;value&gt;&lt;comment&gt;y&lt;/comment&gt;&lt;stats&gt;&lt;ycard...</td>\n",
       "      <td>&lt;cross /&gt;</td>\n",
       "      <td>&lt;corner /&gt;</td>\n",
       "      <td>&lt;possession /&gt;</td>\n",
       "      <td>([(4, 340790, 0, n), (11, 178142, 0, p), (75, ...</td>\n",
       "      <td>None</td>\n",
       "    </tr>\n",
       "    <tr>\n",
       "      <th>25946</th>\n",
       "      <td>25947</td>\n",
       "      <td>24558</td>\n",
       "      <td>2015/2016</td>\n",
       "      <td>36</td>\n",
       "      <td>2016-05-25</td>\n",
       "      <td>10199</td>\n",
       "      <td>10179</td>\n",
       "      <td>2</td>\n",
       "      <td>2</td>\n",
       "      <td>&lt;goal&gt;&lt;value&gt;&lt;comment&gt;n&lt;/comment&gt;&lt;stats&gt;&lt;goals...</td>\n",
       "      <td>&lt;shoton /&gt;</td>\n",
       "      <td>&lt;shotoff /&gt;</td>\n",
       "      <td>&lt;foulcommit /&gt;</td>\n",
       "      <td>&lt;card&gt;&lt;value&gt;&lt;comment&gt;y&lt;/comment&gt;&lt;stats&gt;&lt;ycard...</td>\n",
       "      <td>&lt;cross /&gt;</td>\n",
       "      <td>&lt;corner /&gt;</td>\n",
       "      <td>&lt;possession /&gt;</td>\n",
       "      <td>([(90, 34082, 0, n)], [(35, 38601, 0, n), (60,...</td>\n",
       "      <td>None</td>\n",
       "    </tr>\n",
       "    <tr>\n",
       "      <th>25947</th>\n",
       "      <td>25948</td>\n",
       "      <td>24558</td>\n",
       "      <td>2015/2016</td>\n",
       "      <td>36</td>\n",
       "      <td>2016-05-25</td>\n",
       "      <td>10191</td>\n",
       "      <td>10192</td>\n",
       "      <td>0</td>\n",
       "      <td>3</td>\n",
       "      <td>&lt;goal&gt;&lt;value&gt;&lt;comment&gt;n&lt;/comment&gt;&lt;stats&gt;&lt;goals...</td>\n",
       "      <td>&lt;shoton /&gt;</td>\n",
       "      <td>&lt;shotoff /&gt;</td>\n",
       "      <td>&lt;foulcommit /&gt;</td>\n",
       "      <td>&lt;card&gt;&lt;value&gt;&lt;comment&gt;y&lt;/comment&gt;&lt;stats&gt;&lt;ycard...</td>\n",
       "      <td>&lt;cross /&gt;</td>\n",
       "      <td>&lt;corner /&gt;</td>\n",
       "      <td>&lt;possession /&gt;</td>\n",
       "      <td>([], [(19, 25843, 0, n), (58, 245161, 0, n), (...</td>\n",
       "      <td>None</td>\n",
       "    </tr>\n",
       "    <tr>\n",
       "      <th>25948</th>\n",
       "      <td>25949</td>\n",
       "      <td>24558</td>\n",
       "      <td>2015/2016</td>\n",
       "      <td>36</td>\n",
       "      <td>2016-05-25</td>\n",
       "      <td>10243</td>\n",
       "      <td>9824</td>\n",
       "      <td>3</td>\n",
       "      <td>1</td>\n",
       "      <td>&lt;goal&gt;&lt;value&gt;&lt;comment&gt;n&lt;/comment&gt;&lt;stats&gt;&lt;goals...</td>\n",
       "      <td>&lt;shoton /&gt;</td>\n",
       "      <td>&lt;shotoff /&gt;</td>\n",
       "      <td>&lt;foulcommit /&gt;</td>\n",
       "      <td>&lt;card&gt;&lt;value&gt;&lt;comment&gt;y&lt;/comment&gt;&lt;stats&gt;&lt;ycard...</td>\n",
       "      <td>&lt;cross /&gt;</td>\n",
       "      <td>&lt;corner /&gt;</td>\n",
       "      <td>&lt;possession /&gt;</td>\n",
       "      <td>([(67, 197757, 0, n), (69, 198082, 0, n), (76,...</td>\n",
       "      <td>None</td>\n",
       "    </tr>\n",
       "  </tbody>\n",
       "</table>\n",
       "<p>13224 rows × 19 columns</p>\n",
       "</div>"
      ],
      "text/plain": [
       "          id  league_id     season  stage       date  home_team_api_id  \\\n",
       "1728    1729       1729  2008/2009      1 2008-08-17             10260   \n",
       "1729    1730       1729  2008/2009      1 2008-08-16              9825   \n",
       "1730    1731       1729  2008/2009      1 2008-08-16              8472   \n",
       "1731    1732       1729  2008/2009      1 2008-08-16              8654   \n",
       "1732    1733       1729  2008/2009      1 2008-08-17             10252   \n",
       "...      ...        ...        ...    ...        ...               ...   \n",
       "25944  25945      24558  2015/2016     36 2016-05-25              9931   \n",
       "25945  25946      24558  2015/2016     36 2016-05-25              7896   \n",
       "25946  25947      24558  2015/2016     36 2016-05-25             10199   \n",
       "25947  25948      24558  2015/2016     36 2016-05-25             10191   \n",
       "25948  25949      24558  2015/2016     36 2016-05-25             10243   \n",
       "\n",
       "       away_team_api_id  home_team_goal  away_team_goal  \\\n",
       "1728              10261               1               1   \n",
       "1729               8659               1               0   \n",
       "1730               8650               0               1   \n",
       "1731               8528               2               1   \n",
       "1732               8456               4               2   \n",
       "...                 ...             ...             ...   \n",
       "25944              9956               0               1   \n",
       "25945             10190               3               0   \n",
       "25946             10179               2               2   \n",
       "25947             10192               0               3   \n",
       "25948              9824               3               1   \n",
       "\n",
       "                                                    goal  \\\n",
       "1728   <goal><value><comment>n</comment><stats><goals...   \n",
       "1729   <goal><value><comment>n</comment><stats><goals...   \n",
       "1730   <goal><value><comment>n</comment><stats><goals...   \n",
       "1731   <goal><value><comment>n</comment><stats><goals...   \n",
       "1732   <goal><value><comment>n</comment><stats><goals...   \n",
       "...                                                  ...   \n",
       "25944  <goal><value><comment>o</comment><stats><owngo...   \n",
       "25945  <goal><value><comment>n</comment><stats><goals...   \n",
       "25946  <goal><value><comment>n</comment><stats><goals...   \n",
       "25947  <goal><value><comment>n</comment><stats><goals...   \n",
       "25948  <goal><value><comment>n</comment><stats><goals...   \n",
       "\n",
       "                                                  shoton  \\\n",
       "1728   <shoton><value><stats><blocked>1</blocked></st...   \n",
       "1729   <shoton><value><stats><blocked>1</blocked></st...   \n",
       "1730   <shoton><value><stats><blocked>1</blocked></st...   \n",
       "1731   <shoton><value><stats><shoton>1</shoton></stat...   \n",
       "1732   <shoton><value><stats><blocked>1</blocked></st...   \n",
       "...                                                  ...   \n",
       "25944                                         <shoton />   \n",
       "25945                                         <shoton />   \n",
       "25946                                         <shoton />   \n",
       "25947                                         <shoton />   \n",
       "25948                                         <shoton />   \n",
       "\n",
       "                                                 shotoff  \\\n",
       "1728   <shotoff><value><stats><shotoff>1</shotoff></s...   \n",
       "1729   <shotoff><value><stats><shotoff>1</shotoff></s...   \n",
       "1730   <shotoff><value><stats><shotoff>1</shotoff></s...   \n",
       "1731   <shotoff><value><stats><shotoff>1</shotoff></s...   \n",
       "1732   <shotoff><value><stats><shotoff>1</shotoff></s...   \n",
       "...                                                  ...   \n",
       "25944                                        <shotoff />   \n",
       "25945                                        <shotoff />   \n",
       "25946                                        <shotoff />   \n",
       "25947                                        <shotoff />   \n",
       "25948                                        <shotoff />   \n",
       "\n",
       "                                              foulcommit  \\\n",
       "1728   <foulcommit><value><stats><foulscommitted>1</f...   \n",
       "1729   <foulcommit><value><stats><foulscommitted>1</f...   \n",
       "1730   <foulcommit><value><stats><foulscommitted>1</f...   \n",
       "1731   <foulcommit><value><stats><foulscommitted>1</f...   \n",
       "1732   <foulcommit><value><stats><foulscommitted>1</f...   \n",
       "...                                                  ...   \n",
       "25944                                     <foulcommit />   \n",
       "25945                                     <foulcommit />   \n",
       "25946                                     <foulcommit />   \n",
       "25947                                     <foulcommit />   \n",
       "25948                                     <foulcommit />   \n",
       "\n",
       "                                                    card  \\\n",
       "1728   <card><value><comment>y</comment><stats><ycard...   \n",
       "1729                                            <card />   \n",
       "1730   <card><value><comment>y</comment><stats><ycard...   \n",
       "1731   <card><value><comment>y</comment><stats><ycard...   \n",
       "1732   <card><value><comment>y</comment><stats><ycard...   \n",
       "...                                                  ...   \n",
       "25944  <card><value><comment>y</comment><stats><ycard...   \n",
       "25945  <card><value><comment>y</comment><stats><ycard...   \n",
       "25946  <card><value><comment>y</comment><stats><ycard...   \n",
       "25947  <card><value><comment>y</comment><stats><ycard...   \n",
       "25948  <card><value><comment>y</comment><stats><ycard...   \n",
       "\n",
       "                                                   cross  \\\n",
       "1728   <cross><value><stats><crosses>1</crosses></sta...   \n",
       "1729   <cross><value><stats><crosses>1</crosses></sta...   \n",
       "1730   <cross><value><stats><crosses>1</crosses></sta...   \n",
       "1731   <cross><value><stats><crosses>1</crosses></sta...   \n",
       "1732   <cross><value><stats><corners>1</corners></sta...   \n",
       "...                                                  ...   \n",
       "25944                                          <cross />   \n",
       "25945                                          <cross />   \n",
       "25946                                          <cross />   \n",
       "25947                                          <cross />   \n",
       "25948                                          <cross />   \n",
       "\n",
       "                                                  corner  \\\n",
       "1728   <corner><value><stats><corners>1</corners></st...   \n",
       "1729   <corner><value><stats><corners>1</corners></st...   \n",
       "1730   <corner><value><stats><corners>1</corners></st...   \n",
       "1731   <corner><value><stats><corners>1</corners></st...   \n",
       "1732   <corner><value><stats><corners>1</corners></st...   \n",
       "...                                                  ...   \n",
       "25944                                         <corner />   \n",
       "25945                                         <corner />   \n",
       "25946                                         <corner />   \n",
       "25947                                         <corner />   \n",
       "25948                                         <corner />   \n",
       "\n",
       "                                              possession  \\\n",
       "1728   <possession><value><comment>56</comment><event...   \n",
       "1729   <possession><value><comment>65</comment><event...   \n",
       "1730   <possession><value><comment>45</comment><event...   \n",
       "1731   <possession><value><comment>50</comment><event...   \n",
       "1732   <possession><value><comment>51</comment><event...   \n",
       "...                                                  ...   \n",
       "25944                                     <possession />   \n",
       "25945                                     <possession />   \n",
       "25946                                     <possession />   \n",
       "25947                                     <possession />   \n",
       "25948                                     <possession />   \n",
       "\n",
       "                                              goals_info  \\\n",
       "1728   ([(24, 24148, 24154, n)], [(22, 37799, 38807, ...   \n",
       "1729                        ([(4, 26181, 39297, n)], [])   \n",
       "1730                       ([], [(83, 30853, 30889, n)])   \n",
       "1731   ([(4, 23139, 36394, n), (10, 23139, 37277, n)]...   \n",
       "1732   ([(47, 26165, 23354, n), (69, 23264, 24658, n)...   \n",
       "...                                                  ...   \n",
       "25944                         ([(41, 181211, 0, o)], [])   \n",
       "25945  ([(4, 340790, 0, n), (11, 178142, 0, p), (75, ...   \n",
       "25946  ([(90, 34082, 0, n)], [(35, 38601, 0, n), (60,...   \n",
       "25947  ([], [(19, 25843, 0, n), (58, 245161, 0, n), (...   \n",
       "25948  ([(67, 197757, 0, n), (69, 198082, 0, n), (76,...   \n",
       "\n",
       "                                               poss_info  \n",
       "1728   [(25, 56, 44), (45, 54, 46), (70, 54, 46), (90...  \n",
       "1729   [(27, 65, 35), (45, 61, 39), (74, 65, 35), (90...  \n",
       "1730   [(25, 45, 55), (45, 43, 57), (70, 48, 52), (90...  \n",
       "1731   [(25, 50, 50), (45, 56, 44), (69, 41, 59), (90...  \n",
       "1732   [(25, 51, 49), (45, 54, 46), (70, 49, 51), (90...  \n",
       "...                                                  ...  \n",
       "25944                                               None  \n",
       "25945                                               None  \n",
       "25946                                               None  \n",
       "25947                                               None  \n",
       "25948                                               None  \n",
       "\n",
       "[13224 rows x 19 columns]"
      ]
     },
     "execution_count": 30,
     "metadata": {},
     "output_type": "execute_result"
    }
   ],
   "source": [
    "match_stats_df[match_stats_df.goals_info.isnull() == False]"
   ]
  },
  {
   "cell_type": "markdown",
   "execution_count": null,
   "metadata": {},
   "source": [
    "Typically, the possession is recorded 4 times during the match (25', 45', 70' and 90') sometimes it varies either in the time of the record or in the number of times"
   ]
  },
  {
   "cell_type": "markdown",
   "execution_count": null,
   "metadata": {},
   "source": [
    "now, we can drop the original and possession columns.\n",
    "<br/> additionally, the other stats columns have a great variation in their tags and have multiple empty tags (like <corner />) so will be dropped for now unless needed for future analysis"
   ]
  },
  {
   "cell_type": "code",
   "execution_count": 31,
   "metadata": {},
   "outputs": [],
   "source": [
    "match_stats_df.drop(['goal', 'shoton', 'shotoff', 'foulcommit', 'card', 'cross', 'corner', 'possession'], axis=1, inplace= True)"
   ]
  },
  {
   "cell_type": "markdown",
   "execution_count": null,
   "metadata": {},
   "source": [
    "#### match lineup table"
   ]
  },
  {
   "cell_type": "markdown",
   "execution_count": null,
   "metadata": {},
   "source": [
    "we can drop the lineups with more than 20 missing values (out of 22)"
   ]
  },
  {
   "cell_type": "code",
   "execution_count": 32,
   "metadata": {},
   "outputs": [],
   "source": [
    "match_lineup_df.dropna(thresh=20, inplace= True)"
   ]
  },
  {
   "cell_type": "code",
   "execution_count": 33,
   "metadata": {},
   "outputs": [],
   "source": [
    "match_lineup_df.reset_index(inplace=True)"
   ]
  },
  {
   "cell_type": "code",
   "execution_count": 34,
   "metadata": {},
   "outputs": [],
   "source": [
    "match_lineup_df.drop('index', axis=1, inplace=True)"
   ]
  },
  {
   "cell_type": "code",
   "execution_count": 35,
   "metadata": {},
   "outputs": [
    {
     "data": {
      "text/plain": [
       "3"
      ]
     },
     "execution_count": 35,
     "metadata": {},
     "output_type": "execute_result"
    }
   ],
   "source": [
    "#max number of missing values per lineup\n",
    "match_lineup_df.isnull().sum(axis= 1).max()"
   ]
  },
  {
   "cell_type": "markdown",
   "execution_count": null,
   "metadata": {},
   "source": [
    "#### match bets table"
   ]
  },
  {
   "cell_type": "code",
   "execution_count": 36,
   "metadata": {},
   "outputs": [],
   "source": [
    "match_bets_df.dropna(subset= list(match_bets_df.columns).remove('id'), inplace= True)"
   ]
  },
  {
   "cell_type": "code",
   "execution_count": 37,
   "metadata": {},
   "outputs": [],
   "source": [
    "match_bets_df.reset_index(inplace= True)"
   ]
  },
  {
   "cell_type": "code",
   "execution_count": 38,
   "metadata": {},
   "outputs": [],
   "source": [
    "match_bets_df.drop('index', inplace= True, axis= 1)"
   ]
  },
  {
   "cell_type": "markdown",
   "execution_count": null,
   "metadata": {},
   "source": [
    "The bets values represent decimal odds, I would go for converting them to probabilities to be more indicative by taking the reciprocal. <br/> important thing to nore is that the probabilities don't sum up to 100% but close. This can be due to [Overround](http://betting.football-data.co.uk/overround.php) "
   ]
  },
  {
   "cell_type": "code",
   "execution_count": 39,
   "metadata": {},
   "outputs": [],
   "source": [
    "cols = list(match_bets_df.columns)\n",
    "cols.remove('id')"
   ]
  },
  {
   "cell_type": "code",
   "execution_count": 40,
   "metadata": {},
   "outputs": [],
   "source": [
    "for c in cols:\n",
    "    match_bets_df[c] = match_bets_df[c].apply(lambda x: 1/x)"
   ]
  },
  {
   "cell_type": "code",
   "execution_count": 41,
   "metadata": {},
   "outputs": [
    {
     "data": {
      "text/html": [
       "<div>\n",
       "<style scoped>\n",
       "    .dataframe tbody tr th:only-of-type {\n",
       "        vertical-align: middle;\n",
       "    }\n",
       "\n",
       "    .dataframe tbody tr th {\n",
       "        vertical-align: top;\n",
       "    }\n",
       "\n",
       "    .dataframe thead th {\n",
       "        text-align: right;\n",
       "    }\n",
       "</style>\n",
       "<table border=\"1\" class=\"dataframe\">\n",
       "  <thead>\n",
       "    <tr style=\"text-align: right;\">\n",
       "      <th></th>\n",
       "      <th>id</th>\n",
       "      <th>B365H</th>\n",
       "      <th>B365D</th>\n",
       "      <th>B365A</th>\n",
       "      <th>BWH</th>\n",
       "      <th>BWD</th>\n",
       "      <th>BWA</th>\n",
       "      <th>IWH</th>\n",
       "      <th>IWD</th>\n",
       "      <th>IWA</th>\n",
       "      <th>...</th>\n",
       "      <th>SJA</th>\n",
       "      <th>VCH</th>\n",
       "      <th>VCD</th>\n",
       "      <th>VCA</th>\n",
       "      <th>GBH</th>\n",
       "      <th>GBD</th>\n",
       "      <th>GBA</th>\n",
       "      <th>BSH</th>\n",
       "      <th>BSD</th>\n",
       "      <th>BSA</th>\n",
       "    </tr>\n",
       "  </thead>\n",
       "  <tbody>\n",
       "    <tr>\n",
       "      <th>0</th>\n",
       "      <td>998</td>\n",
       "      <td>0.420168</td>\n",
       "      <td>0.307692</td>\n",
       "      <td>0.333333</td>\n",
       "      <td>0.408163</td>\n",
       "      <td>0.303030</td>\n",
       "      <td>0.370370</td>\n",
       "      <td>0.434783</td>\n",
       "      <td>0.322581</td>\n",
       "      <td>0.384615</td>\n",
       "      <td>...</td>\n",
       "      <td>0.347222</td>\n",
       "      <td>0.416667</td>\n",
       "      <td>0.294118</td>\n",
       "      <td>0.344828</td>\n",
       "      <td>0.408163</td>\n",
       "      <td>0.303030</td>\n",
       "      <td>0.370370</td>\n",
       "      <td>0.416667</td>\n",
       "      <td>0.307692</td>\n",
       "      <td>0.370370</td>\n",
       "    </tr>\n",
       "    <tr>\n",
       "      <th>1</th>\n",
       "      <td>999</td>\n",
       "      <td>0.555556</td>\n",
       "      <td>0.277778</td>\n",
       "      <td>0.230947</td>\n",
       "      <td>0.571429</td>\n",
       "      <td>0.270270</td>\n",
       "      <td>0.238095</td>\n",
       "      <td>0.555556</td>\n",
       "      <td>0.312500</td>\n",
       "      <td>0.270270</td>\n",
       "      <td>...</td>\n",
       "      <td>0.222222</td>\n",
       "      <td>0.555556</td>\n",
       "      <td>0.277778</td>\n",
       "      <td>0.222222</td>\n",
       "      <td>0.571429</td>\n",
       "      <td>0.270270</td>\n",
       "      <td>0.238095</td>\n",
       "      <td>0.555556</td>\n",
       "      <td>0.285714</td>\n",
       "      <td>0.250000</td>\n",
       "    </tr>\n",
       "    <tr>\n",
       "      <th>2</th>\n",
       "      <td>1000</td>\n",
       "      <td>0.606061</td>\n",
       "      <td>0.263158</td>\n",
       "      <td>0.200000</td>\n",
       "      <td>0.598802</td>\n",
       "      <td>0.277778</td>\n",
       "      <td>0.200000</td>\n",
       "      <td>0.606061</td>\n",
       "      <td>0.303030</td>\n",
       "      <td>0.227273</td>\n",
       "      <td>...</td>\n",
       "      <td>0.181818</td>\n",
       "      <td>0.588235</td>\n",
       "      <td>0.270270</td>\n",
       "      <td>0.200000</td>\n",
       "      <td>0.598802</td>\n",
       "      <td>0.277778</td>\n",
       "      <td>0.200000</td>\n",
       "      <td>0.588235</td>\n",
       "      <td>0.285714</td>\n",
       "      <td>0.222222</td>\n",
       "    </tr>\n",
       "    <tr>\n",
       "      <th>3</th>\n",
       "      <td>1001</td>\n",
       "      <td>0.666667</td>\n",
       "      <td>0.250000</td>\n",
       "      <td>0.142857</td>\n",
       "      <td>0.653595</td>\n",
       "      <td>0.256410</td>\n",
       "      <td>0.166667</td>\n",
       "      <td>0.666667</td>\n",
       "      <td>0.270270</td>\n",
       "      <td>0.200000</td>\n",
       "      <td>...</td>\n",
       "      <td>0.166667</td>\n",
       "      <td>0.636943</td>\n",
       "      <td>0.256410</td>\n",
       "      <td>0.166667</td>\n",
       "      <td>0.653595</td>\n",
       "      <td>0.256410</td>\n",
       "      <td>0.166667</td>\n",
       "      <td>0.666667</td>\n",
       "      <td>0.263158</td>\n",
       "      <td>0.166667</td>\n",
       "    </tr>\n",
       "    <tr>\n",
       "      <th>4</th>\n",
       "      <td>1002</td>\n",
       "      <td>0.775194</td>\n",
       "      <td>0.190476</td>\n",
       "      <td>0.100000</td>\n",
       "      <td>0.800000</td>\n",
       "      <td>0.181818</td>\n",
       "      <td>0.100000</td>\n",
       "      <td>0.800000</td>\n",
       "      <td>0.222222</td>\n",
       "      <td>0.111111</td>\n",
       "      <td>...</td>\n",
       "      <td>0.090909</td>\n",
       "      <td>0.800000</td>\n",
       "      <td>0.181818</td>\n",
       "      <td>0.083333</td>\n",
       "      <td>0.800000</td>\n",
       "      <td>0.181818</td>\n",
       "      <td>0.100000</td>\n",
       "      <td>0.800000</td>\n",
       "      <td>0.181818</td>\n",
       "      <td>0.111111</td>\n",
       "    </tr>\n",
       "    <tr>\n",
       "      <th>...</th>\n",
       "      <td>...</td>\n",
       "      <td>...</td>\n",
       "      <td>...</td>\n",
       "      <td>...</td>\n",
       "      <td>...</td>\n",
       "      <td>...</td>\n",
       "      <td>...</td>\n",
       "      <td>...</td>\n",
       "      <td>...</td>\n",
       "      <td>...</td>\n",
       "      <td>...</td>\n",
       "      <td>...</td>\n",
       "      <td>...</td>\n",
       "      <td>...</td>\n",
       "      <td>...</td>\n",
       "      <td>...</td>\n",
       "      <td>...</td>\n",
       "      <td>...</td>\n",
       "      <td>...</td>\n",
       "      <td>...</td>\n",
       "      <td>...</td>\n",
       "    </tr>\n",
       "    <tr>\n",
       "      <th>2751</th>\n",
       "      <td>23413</td>\n",
       "      <td>0.500000</td>\n",
       "      <td>0.294118</td>\n",
       "      <td>0.266667</td>\n",
       "      <td>0.500000</td>\n",
       "      <td>0.312500</td>\n",
       "      <td>0.256410</td>\n",
       "      <td>0.540541</td>\n",
       "      <td>0.285714</td>\n",
       "      <td>0.253165</td>\n",
       "      <td>...</td>\n",
       "      <td>0.263158</td>\n",
       "      <td>0.487805</td>\n",
       "      <td>0.285714</td>\n",
       "      <td>0.256410</td>\n",
       "      <td>0.500000</td>\n",
       "      <td>0.312500</td>\n",
       "      <td>0.256410</td>\n",
       "      <td>0.500000</td>\n",
       "      <td>0.294118</td>\n",
       "      <td>0.285714</td>\n",
       "    </tr>\n",
       "    <tr>\n",
       "      <th>2752</th>\n",
       "      <td>23414</td>\n",
       "      <td>0.333333</td>\n",
       "      <td>0.307692</td>\n",
       "      <td>0.420168</td>\n",
       "      <td>0.303030</td>\n",
       "      <td>0.312500</td>\n",
       "      <td>0.425532</td>\n",
       "      <td>0.344828</td>\n",
       "      <td>0.303030</td>\n",
       "      <td>0.434783</td>\n",
       "      <td>...</td>\n",
       "      <td>0.420168</td>\n",
       "      <td>0.312500</td>\n",
       "      <td>0.294118</td>\n",
       "      <td>0.420168</td>\n",
       "      <td>0.303030</td>\n",
       "      <td>0.312500</td>\n",
       "      <td>0.425532</td>\n",
       "      <td>0.347222</td>\n",
       "      <td>0.303030</td>\n",
       "      <td>0.420168</td>\n",
       "    </tr>\n",
       "    <tr>\n",
       "      <th>2753</th>\n",
       "      <td>23415</td>\n",
       "      <td>0.125000</td>\n",
       "      <td>0.222222</td>\n",
       "      <td>0.714286</td>\n",
       "      <td>0.114286</td>\n",
       "      <td>0.210526</td>\n",
       "      <td>0.714286</td>\n",
       "      <td>0.131579</td>\n",
       "      <td>0.208333</td>\n",
       "      <td>0.740741</td>\n",
       "      <td>...</td>\n",
       "      <td>0.751880</td>\n",
       "      <td>0.111111</td>\n",
       "      <td>0.190476</td>\n",
       "      <td>0.735294</td>\n",
       "      <td>0.114286</td>\n",
       "      <td>0.210526</td>\n",
       "      <td>0.714286</td>\n",
       "      <td>0.117647</td>\n",
       "      <td>0.222222</td>\n",
       "      <td>0.735294</td>\n",
       "    </tr>\n",
       "    <tr>\n",
       "      <th>2754</th>\n",
       "      <td>23416</td>\n",
       "      <td>0.523560</td>\n",
       "      <td>0.285714</td>\n",
       "      <td>0.250000</td>\n",
       "      <td>0.526316</td>\n",
       "      <td>0.294118</td>\n",
       "      <td>0.250000</td>\n",
       "      <td>0.500000</td>\n",
       "      <td>0.303030</td>\n",
       "      <td>0.277778</td>\n",
       "      <td>...</td>\n",
       "      <td>0.263158</td>\n",
       "      <td>0.512821</td>\n",
       "      <td>0.277778</td>\n",
       "      <td>0.238095</td>\n",
       "      <td>0.526316</td>\n",
       "      <td>0.294118</td>\n",
       "      <td>0.250000</td>\n",
       "      <td>0.523560</td>\n",
       "      <td>0.285714</td>\n",
       "      <td>0.266667</td>\n",
       "    </tr>\n",
       "    <tr>\n",
       "      <th>2755</th>\n",
       "      <td>23417</td>\n",
       "      <td>0.090909</td>\n",
       "      <td>0.166667</td>\n",
       "      <td>0.800000</td>\n",
       "      <td>0.086957</td>\n",
       "      <td>0.166667</td>\n",
       "      <td>0.819672</td>\n",
       "      <td>0.097087</td>\n",
       "      <td>0.181818</td>\n",
       "      <td>0.800000</td>\n",
       "      <td>...</td>\n",
       "      <td>0.775194</td>\n",
       "      <td>0.090909</td>\n",
       "      <td>0.153846</td>\n",
       "      <td>0.775194</td>\n",
       "      <td>0.086957</td>\n",
       "      <td>0.166667</td>\n",
       "      <td>0.819672</td>\n",
       "      <td>0.111111</td>\n",
       "      <td>0.181818</td>\n",
       "      <td>0.775194</td>\n",
       "    </tr>\n",
       "  </tbody>\n",
       "</table>\n",
       "<p>2756 rows × 31 columns</p>\n",
       "</div>"
      ],
      "text/plain": [
       "         id     B365H     B365D     B365A       BWH       BWD       BWA  \\\n",
       "0       998  0.420168  0.307692  0.333333  0.408163  0.303030  0.370370   \n",
       "1       999  0.555556  0.277778  0.230947  0.571429  0.270270  0.238095   \n",
       "2      1000  0.606061  0.263158  0.200000  0.598802  0.277778  0.200000   \n",
       "3      1001  0.666667  0.250000  0.142857  0.653595  0.256410  0.166667   \n",
       "4      1002  0.775194  0.190476  0.100000  0.800000  0.181818  0.100000   \n",
       "...     ...       ...       ...       ...       ...       ...       ...   \n",
       "2751  23413  0.500000  0.294118  0.266667  0.500000  0.312500  0.256410   \n",
       "2752  23414  0.333333  0.307692  0.420168  0.303030  0.312500  0.425532   \n",
       "2753  23415  0.125000  0.222222  0.714286  0.114286  0.210526  0.714286   \n",
       "2754  23416  0.523560  0.285714  0.250000  0.526316  0.294118  0.250000   \n",
       "2755  23417  0.090909  0.166667  0.800000  0.086957  0.166667  0.819672   \n",
       "\n",
       "           IWH       IWD       IWA  ...       SJA       VCH       VCD  \\\n",
       "0     0.434783  0.322581  0.384615  ...  0.347222  0.416667  0.294118   \n",
       "1     0.555556  0.312500  0.270270  ...  0.222222  0.555556  0.277778   \n",
       "2     0.606061  0.303030  0.227273  ...  0.181818  0.588235  0.270270   \n",
       "3     0.666667  0.270270  0.200000  ...  0.166667  0.636943  0.256410   \n",
       "4     0.800000  0.222222  0.111111  ...  0.090909  0.800000  0.181818   \n",
       "...        ...       ...       ...  ...       ...       ...       ...   \n",
       "2751  0.540541  0.285714  0.253165  ...  0.263158  0.487805  0.285714   \n",
       "2752  0.344828  0.303030  0.434783  ...  0.420168  0.312500  0.294118   \n",
       "2753  0.131579  0.208333  0.740741  ...  0.751880  0.111111  0.190476   \n",
       "2754  0.500000  0.303030  0.277778  ...  0.263158  0.512821  0.277778   \n",
       "2755  0.097087  0.181818  0.800000  ...  0.775194  0.090909  0.153846   \n",
       "\n",
       "           VCA       GBH       GBD       GBA       BSH       BSD       BSA  \n",
       "0     0.344828  0.408163  0.303030  0.370370  0.416667  0.307692  0.370370  \n",
       "1     0.222222  0.571429  0.270270  0.238095  0.555556  0.285714  0.250000  \n",
       "2     0.200000  0.598802  0.277778  0.200000  0.588235  0.285714  0.222222  \n",
       "3     0.166667  0.653595  0.256410  0.166667  0.666667  0.263158  0.166667  \n",
       "4     0.083333  0.800000  0.181818  0.100000  0.800000  0.181818  0.111111  \n",
       "...        ...       ...       ...       ...       ...       ...       ...  \n",
       "2751  0.256410  0.500000  0.312500  0.256410  0.500000  0.294118  0.285714  \n",
       "2752  0.420168  0.303030  0.312500  0.425532  0.347222  0.303030  0.420168  \n",
       "2753  0.735294  0.114286  0.210526  0.714286  0.117647  0.222222  0.735294  \n",
       "2754  0.238095  0.526316  0.294118  0.250000  0.523560  0.285714  0.266667  \n",
       "2755  0.775194  0.086957  0.166667  0.819672  0.111111  0.181818  0.775194  \n",
       "\n",
       "[2756 rows x 31 columns]"
      ]
     },
     "execution_count": 41,
     "metadata": {},
     "output_type": "execute_result"
    }
   ],
   "source": [
    "match_bets_df"
   ]
  },
  {
   "cell_type": "markdown",
   "execution_count": null,
   "metadata": {},
   "source": [
    "#### player table"
   ]
  },
  {
   "cell_type": "code",
   "execution_count": 42,
   "metadata": {},
   "outputs": [
    {
     "name": "stdout",
     "output_type": "stream",
     "text": [
      "<class 'pandas.core.frame.DataFrame'>\n",
      "RangeIndex: 11060 entries, 0 to 11059\n",
      "Data columns (total 7 columns):\n",
      " #   Column              Non-Null Count  Dtype  \n",
      "---  ------              --------------  -----  \n",
      " 0   id                  11060 non-null  int64  \n",
      " 1   player_api_id       11060 non-null  int64  \n",
      " 2   player_name         11060 non-null  object \n",
      " 3   player_fifa_api_id  11060 non-null  int64  \n",
      " 4   birthday            11060 non-null  object \n",
      " 5   height              11060 non-null  float64\n",
      " 6   weight              11060 non-null  int64  \n",
      "dtypes: float64(1), int64(4), object(2)\n",
      "memory usage: 605.0+ KB\n"
     ]
    }
   ],
   "source": [
    "player_df.info()"
   ]
  },
  {
   "cell_type": "code",
   "execution_count": 43,
   "metadata": {},
   "outputs": [
    {
     "name": "stdout",
     "output_type": "stream",
     "text": [
      "<class 'str'>\n",
      "<class 'str'>\n"
     ]
    }
   ],
   "source": [
    "print(type(player_df.player_name[0]))\n",
    "print(type(player_df.birthday[0]))"
   ]
  },
  {
   "cell_type": "code",
   "execution_count": 44,
   "metadata": {},
   "outputs": [],
   "source": [
    "player_df.birthday = pd.to_datetime(player_df.birthday)"
   ]
  },
  {
   "cell_type": "markdown",
   "execution_count": null,
   "metadata": {},
   "source": [
    "#### player attributes table"
   ]
  },
  {
   "cell_type": "code",
   "execution_count": 45,
   "metadata": {},
   "outputs": [
    {
     "name": "stdout",
     "output_type": "stream",
     "text": [
      "<class 'pandas.core.frame.DataFrame'>\n",
      "RangeIndex: 183978 entries, 0 to 183977\n",
      "Data columns (total 42 columns):\n",
      " #   Column               Non-Null Count   Dtype  \n",
      "---  ------               --------------   -----  \n",
      " 0   id                   183978 non-null  int64  \n",
      " 1   player_fifa_api_id   183978 non-null  int64  \n",
      " 2   player_api_id        183978 non-null  int64  \n",
      " 3   date                 183978 non-null  object \n",
      " 4   overall_rating       183142 non-null  float64\n",
      " 5   potential            183142 non-null  float64\n",
      " 6   preferred_foot       183142 non-null  object \n",
      " 7   attacking_work_rate  180748 non-null  object \n",
      " 8   defensive_work_rate  183142 non-null  object \n",
      " 9   crossing             183142 non-null  float64\n",
      " 10  finishing            183142 non-null  float64\n",
      " 11  heading_accuracy     183142 non-null  float64\n",
      " 12  short_passing        183142 non-null  float64\n",
      " 13  volleys              181265 non-null  float64\n",
      " 14  dribbling            183142 non-null  float64\n",
      " 15  curve                181265 non-null  float64\n",
      " 16  free_kick_accuracy   183142 non-null  float64\n",
      " 17  long_passing         183142 non-null  float64\n",
      " 18  ball_control         183142 non-null  float64\n",
      " 19  acceleration         183142 non-null  float64\n",
      " 20  sprint_speed         183142 non-null  float64\n",
      " 21  agility              181265 non-null  float64\n",
      " 22  reactions            183142 non-null  float64\n",
      " 23  balance              181265 non-null  float64\n",
      " 24  shot_power           183142 non-null  float64\n",
      " 25  jumping              181265 non-null  float64\n",
      " 26  stamina              183142 non-null  float64\n",
      " 27  strength             183142 non-null  float64\n",
      " 28  long_shots           183142 non-null  float64\n",
      " 29  aggression           183142 non-null  float64\n",
      " 30  interceptions        183142 non-null  float64\n",
      " 31  positioning          183142 non-null  float64\n",
      " 32  vision               181265 non-null  float64\n",
      " 33  penalties            183142 non-null  float64\n",
      " 34  marking              183142 non-null  float64\n",
      " 35  standing_tackle      183142 non-null  float64\n",
      " 36  sliding_tackle       181265 non-null  float64\n",
      " 37  gk_diving            183142 non-null  float64\n",
      " 38  gk_handling          183142 non-null  float64\n",
      " 39  gk_kicking           183142 non-null  float64\n",
      " 40  gk_positioning       183142 non-null  float64\n",
      " 41  gk_reflexes          183142 non-null  float64\n",
      "dtypes: float64(35), int64(3), object(4)\n",
      "memory usage: 59.0+ MB\n"
     ]
    }
   ],
   "source": [
    "player_attr_df.info()"
   ]
  },
  {
   "cell_type": "code",
   "execution_count": 46,
   "metadata": {},
   "outputs": [],
   "source": [
    "player_attr_df.date = pd.to_datetime(player_attr_df.date)"
   ]
  },
  {
   "cell_type": "markdown",
   "execution_count": null,
   "metadata": {},
   "source": [
    "I will fill the null values in the numeric columns with the mean values (normally average players in Fifa have average stats)"
   ]
  },
  {
   "cell_type": "code",
   "execution_count": 47,
   "metadata": {},
   "outputs": [
    {
     "data": {
      "text/html": [
       "<div>\n",
       "<style scoped>\n",
       "    .dataframe tbody tr th:only-of-type {\n",
       "        vertical-align: middle;\n",
       "    }\n",
       "\n",
       "    .dataframe tbody tr th {\n",
       "        vertical-align: top;\n",
       "    }\n",
       "\n",
       "    .dataframe thead th {\n",
       "        text-align: right;\n",
       "    }\n",
       "</style>\n",
       "<table border=\"1\" class=\"dataframe\">\n",
       "  <thead>\n",
       "    <tr style=\"text-align: right;\">\n",
       "      <th></th>\n",
       "      <th>id</th>\n",
       "      <th>player_fifa_api_id</th>\n",
       "      <th>player_api_id</th>\n",
       "      <th>overall_rating</th>\n",
       "      <th>potential</th>\n",
       "      <th>crossing</th>\n",
       "      <th>finishing</th>\n",
       "      <th>heading_accuracy</th>\n",
       "      <th>short_passing</th>\n",
       "      <th>volleys</th>\n",
       "      <th>...</th>\n",
       "      <th>vision</th>\n",
       "      <th>penalties</th>\n",
       "      <th>marking</th>\n",
       "      <th>standing_tackle</th>\n",
       "      <th>sliding_tackle</th>\n",
       "      <th>gk_diving</th>\n",
       "      <th>gk_handling</th>\n",
       "      <th>gk_kicking</th>\n",
       "      <th>gk_positioning</th>\n",
       "      <th>gk_reflexes</th>\n",
       "    </tr>\n",
       "  </thead>\n",
       "  <tbody>\n",
       "    <tr>\n",
       "      <th>count</th>\n",
       "      <td>183978.00000</td>\n",
       "      <td>183978.000000</td>\n",
       "      <td>183978.000000</td>\n",
       "      <td>183142.000000</td>\n",
       "      <td>183142.000000</td>\n",
       "      <td>183142.000000</td>\n",
       "      <td>183142.000000</td>\n",
       "      <td>183142.000000</td>\n",
       "      <td>183142.000000</td>\n",
       "      <td>181265.000000</td>\n",
       "      <td>...</td>\n",
       "      <td>181265.000000</td>\n",
       "      <td>183142.000000</td>\n",
       "      <td>183142.000000</td>\n",
       "      <td>183142.000000</td>\n",
       "      <td>181265.000000</td>\n",
       "      <td>183142.000000</td>\n",
       "      <td>183142.000000</td>\n",
       "      <td>183142.000000</td>\n",
       "      <td>183142.000000</td>\n",
       "      <td>183142.000000</td>\n",
       "    </tr>\n",
       "    <tr>\n",
       "      <th>mean</th>\n",
       "      <td>91989.50000</td>\n",
       "      <td>165671.524291</td>\n",
       "      <td>135900.617324</td>\n",
       "      <td>68.600015</td>\n",
       "      <td>73.460353</td>\n",
       "      <td>55.086883</td>\n",
       "      <td>49.921078</td>\n",
       "      <td>57.266023</td>\n",
       "      <td>62.429672</td>\n",
       "      <td>49.468436</td>\n",
       "      <td>...</td>\n",
       "      <td>57.873550</td>\n",
       "      <td>55.003986</td>\n",
       "      <td>46.772242</td>\n",
       "      <td>50.351257</td>\n",
       "      <td>48.001462</td>\n",
       "      <td>14.704393</td>\n",
       "      <td>16.063612</td>\n",
       "      <td>20.998362</td>\n",
       "      <td>16.132154</td>\n",
       "      <td>16.441439</td>\n",
       "    </tr>\n",
       "    <tr>\n",
       "      <th>std</th>\n",
       "      <td>53110.01825</td>\n",
       "      <td>53851.094769</td>\n",
       "      <td>136927.840510</td>\n",
       "      <td>7.041139</td>\n",
       "      <td>6.592271</td>\n",
       "      <td>17.242135</td>\n",
       "      <td>19.038705</td>\n",
       "      <td>16.488905</td>\n",
       "      <td>14.194068</td>\n",
       "      <td>18.256618</td>\n",
       "      <td>...</td>\n",
       "      <td>15.144086</td>\n",
       "      <td>15.546519</td>\n",
       "      <td>21.227667</td>\n",
       "      <td>21.483706</td>\n",
       "      <td>21.598778</td>\n",
       "      <td>16.865467</td>\n",
       "      <td>15.867382</td>\n",
       "      <td>21.452980</td>\n",
       "      <td>16.099175</td>\n",
       "      <td>17.198155</td>\n",
       "    </tr>\n",
       "    <tr>\n",
       "      <th>min</th>\n",
       "      <td>1.00000</td>\n",
       "      <td>2.000000</td>\n",
       "      <td>2625.000000</td>\n",
       "      <td>33.000000</td>\n",
       "      <td>39.000000</td>\n",
       "      <td>1.000000</td>\n",
       "      <td>1.000000</td>\n",
       "      <td>1.000000</td>\n",
       "      <td>3.000000</td>\n",
       "      <td>1.000000</td>\n",
       "      <td>...</td>\n",
       "      <td>1.000000</td>\n",
       "      <td>2.000000</td>\n",
       "      <td>1.000000</td>\n",
       "      <td>1.000000</td>\n",
       "      <td>2.000000</td>\n",
       "      <td>1.000000</td>\n",
       "      <td>1.000000</td>\n",
       "      <td>1.000000</td>\n",
       "      <td>1.000000</td>\n",
       "      <td>1.000000</td>\n",
       "    </tr>\n",
       "    <tr>\n",
       "      <th>25%</th>\n",
       "      <td>45995.25000</td>\n",
       "      <td>155798.000000</td>\n",
       "      <td>34763.000000</td>\n",
       "      <td>64.000000</td>\n",
       "      <td>69.000000</td>\n",
       "      <td>45.000000</td>\n",
       "      <td>34.000000</td>\n",
       "      <td>49.000000</td>\n",
       "      <td>57.000000</td>\n",
       "      <td>35.000000</td>\n",
       "      <td>...</td>\n",
       "      <td>49.000000</td>\n",
       "      <td>45.000000</td>\n",
       "      <td>25.000000</td>\n",
       "      <td>29.000000</td>\n",
       "      <td>25.000000</td>\n",
       "      <td>7.000000</td>\n",
       "      <td>8.000000</td>\n",
       "      <td>8.000000</td>\n",
       "      <td>8.000000</td>\n",
       "      <td>8.000000</td>\n",
       "    </tr>\n",
       "    <tr>\n",
       "      <th>50%</th>\n",
       "      <td>91989.50000</td>\n",
       "      <td>183488.000000</td>\n",
       "      <td>77741.000000</td>\n",
       "      <td>69.000000</td>\n",
       "      <td>74.000000</td>\n",
       "      <td>59.000000</td>\n",
       "      <td>53.000000</td>\n",
       "      <td>60.000000</td>\n",
       "      <td>65.000000</td>\n",
       "      <td>52.000000</td>\n",
       "      <td>...</td>\n",
       "      <td>60.000000</td>\n",
       "      <td>57.000000</td>\n",
       "      <td>50.000000</td>\n",
       "      <td>56.000000</td>\n",
       "      <td>53.000000</td>\n",
       "      <td>10.000000</td>\n",
       "      <td>11.000000</td>\n",
       "      <td>12.000000</td>\n",
       "      <td>11.000000</td>\n",
       "      <td>11.000000</td>\n",
       "    </tr>\n",
       "    <tr>\n",
       "      <th>75%</th>\n",
       "      <td>137983.75000</td>\n",
       "      <td>199848.000000</td>\n",
       "      <td>191080.000000</td>\n",
       "      <td>73.000000</td>\n",
       "      <td>78.000000</td>\n",
       "      <td>68.000000</td>\n",
       "      <td>65.000000</td>\n",
       "      <td>68.000000</td>\n",
       "      <td>72.000000</td>\n",
       "      <td>64.000000</td>\n",
       "      <td>...</td>\n",
       "      <td>69.000000</td>\n",
       "      <td>67.000000</td>\n",
       "      <td>66.000000</td>\n",
       "      <td>69.000000</td>\n",
       "      <td>67.000000</td>\n",
       "      <td>13.000000</td>\n",
       "      <td>15.000000</td>\n",
       "      <td>15.000000</td>\n",
       "      <td>15.000000</td>\n",
       "      <td>15.000000</td>\n",
       "    </tr>\n",
       "    <tr>\n",
       "      <th>max</th>\n",
       "      <td>183978.00000</td>\n",
       "      <td>234141.000000</td>\n",
       "      <td>750584.000000</td>\n",
       "      <td>94.000000</td>\n",
       "      <td>97.000000</td>\n",
       "      <td>95.000000</td>\n",
       "      <td>97.000000</td>\n",
       "      <td>98.000000</td>\n",
       "      <td>97.000000</td>\n",
       "      <td>93.000000</td>\n",
       "      <td>...</td>\n",
       "      <td>97.000000</td>\n",
       "      <td>96.000000</td>\n",
       "      <td>96.000000</td>\n",
       "      <td>95.000000</td>\n",
       "      <td>95.000000</td>\n",
       "      <td>94.000000</td>\n",
       "      <td>93.000000</td>\n",
       "      <td>97.000000</td>\n",
       "      <td>96.000000</td>\n",
       "      <td>96.000000</td>\n",
       "    </tr>\n",
       "  </tbody>\n",
       "</table>\n",
       "<p>8 rows × 38 columns</p>\n",
       "</div>"
      ],
      "text/plain": [
       "                 id  player_fifa_api_id  player_api_id  overall_rating  \\\n",
       "count  183978.00000       183978.000000  183978.000000   183142.000000   \n",
       "mean    91989.50000       165671.524291  135900.617324       68.600015   \n",
       "std     53110.01825        53851.094769  136927.840510        7.041139   \n",
       "min         1.00000            2.000000    2625.000000       33.000000   \n",
       "25%     45995.25000       155798.000000   34763.000000       64.000000   \n",
       "50%     91989.50000       183488.000000   77741.000000       69.000000   \n",
       "75%    137983.75000       199848.000000  191080.000000       73.000000   \n",
       "max    183978.00000       234141.000000  750584.000000       94.000000   \n",
       "\n",
       "           potential       crossing      finishing  heading_accuracy  \\\n",
       "count  183142.000000  183142.000000  183142.000000     183142.000000   \n",
       "mean       73.460353      55.086883      49.921078         57.266023   \n",
       "std         6.592271      17.242135      19.038705         16.488905   \n",
       "min        39.000000       1.000000       1.000000          1.000000   \n",
       "25%        69.000000      45.000000      34.000000         49.000000   \n",
       "50%        74.000000      59.000000      53.000000         60.000000   \n",
       "75%        78.000000      68.000000      65.000000         68.000000   \n",
       "max        97.000000      95.000000      97.000000         98.000000   \n",
       "\n",
       "       short_passing        volleys  ...         vision      penalties  \\\n",
       "count  183142.000000  181265.000000  ...  181265.000000  183142.000000   \n",
       "mean       62.429672      49.468436  ...      57.873550      55.003986   \n",
       "std        14.194068      18.256618  ...      15.144086      15.546519   \n",
       "min         3.000000       1.000000  ...       1.000000       2.000000   \n",
       "25%        57.000000      35.000000  ...      49.000000      45.000000   \n",
       "50%        65.000000      52.000000  ...      60.000000      57.000000   \n",
       "75%        72.000000      64.000000  ...      69.000000      67.000000   \n",
       "max        97.000000      93.000000  ...      97.000000      96.000000   \n",
       "\n",
       "             marking  standing_tackle  sliding_tackle      gk_diving  \\\n",
       "count  183142.000000    183142.000000   181265.000000  183142.000000   \n",
       "mean       46.772242        50.351257       48.001462      14.704393   \n",
       "std        21.227667        21.483706       21.598778      16.865467   \n",
       "min         1.000000         1.000000        2.000000       1.000000   \n",
       "25%        25.000000        29.000000       25.000000       7.000000   \n",
       "50%        50.000000        56.000000       53.000000      10.000000   \n",
       "75%        66.000000        69.000000       67.000000      13.000000   \n",
       "max        96.000000        95.000000       95.000000      94.000000   \n",
       "\n",
       "         gk_handling     gk_kicking  gk_positioning    gk_reflexes  \n",
       "count  183142.000000  183142.000000   183142.000000  183142.000000  \n",
       "mean       16.063612      20.998362       16.132154      16.441439  \n",
       "std        15.867382      21.452980       16.099175      17.198155  \n",
       "min         1.000000       1.000000        1.000000       1.000000  \n",
       "25%         8.000000       8.000000        8.000000       8.000000  \n",
       "50%        11.000000      12.000000       11.000000      11.000000  \n",
       "75%        15.000000      15.000000       15.000000      15.000000  \n",
       "max        93.000000      97.000000       96.000000      96.000000  \n",
       "\n",
       "[8 rows x 38 columns]"
      ]
     },
     "execution_count": 47,
     "metadata": {},
     "output_type": "execute_result"
    }
   ],
   "source": [
    "player_attr_df.describe()"
   ]
  },
  {
   "cell_type": "code",
   "execution_count": 48,
   "metadata": {},
   "outputs": [],
   "source": [
    "old_mean = player_attr_df.describe().loc['mean']\n",
    "old_std = player_attr_df.describe().loc['std']"
   ]
  },
  {
   "cell_type": "code",
   "execution_count": 49,
   "metadata": {},
   "outputs": [],
   "source": [
    "for i in zip(player_attr_df.columns, player_attr_df.dtypes):\n",
    "    if i[1] == 'float64':\n",
    "        player_attr_df[i[0]] = player_attr_df[i[0]].fillna(player_attr_df[i[0]].mean())"
   ]
  },
  {
   "cell_type": "code",
   "execution_count": 50,
   "metadata": {},
   "outputs": [
    {
     "data": {
      "text/plain": [
       "id                        0\n",
       "player_fifa_api_id        0\n",
       "player_api_id             0\n",
       "date                      0\n",
       "overall_rating            0\n",
       "potential                 0\n",
       "preferred_foot          836\n",
       "attacking_work_rate    3230\n",
       "defensive_work_rate     836\n",
       "crossing                  0\n",
       "finishing                 0\n",
       "heading_accuracy          0\n",
       "short_passing             0\n",
       "volleys                   0\n",
       "dribbling                 0\n",
       "curve                     0\n",
       "free_kick_accuracy        0\n",
       "long_passing              0\n",
       "ball_control              0\n",
       "acceleration              0\n",
       "sprint_speed              0\n",
       "agility                   0\n",
       "reactions                 0\n",
       "balance                   0\n",
       "shot_power                0\n",
       "jumping                   0\n",
       "stamina                   0\n",
       "strength                  0\n",
       "long_shots                0\n",
       "aggression                0\n",
       "interceptions             0\n",
       "positioning               0\n",
       "vision                    0\n",
       "penalties                 0\n",
       "marking                   0\n",
       "standing_tackle           0\n",
       "sliding_tackle            0\n",
       "gk_diving                 0\n",
       "gk_handling               0\n",
       "gk_kicking                0\n",
       "gk_positioning            0\n",
       "gk_reflexes               0\n",
       "dtype: int64"
      ]
     },
     "execution_count": 50,
     "metadata": {},
     "output_type": "execute_result"
    }
   ],
   "source": [
    "player_attr_df.isnull().sum()"
   ]
  },
  {
   "cell_type": "markdown",
   "execution_count": null,
   "metadata": {},
   "source": [
    "I will compare the mean and std of the numerical columns before and after the fill-null-with-mean step to observe the effect"
   ]
  },
  {
   "cell_type": "code",
   "execution_count": 51,
   "metadata": {},
   "outputs": [
    {
     "data": {
      "text/plain": [
       "id                    0.000000e+00\n",
       "player_fifa_api_id    0.000000e+00\n",
       "player_api_id         0.000000e+00\n",
       "overall_rating       -1.449507e-12\n",
       "potential            -1.435296e-12\n",
       "crossing             -1.264766e-12\n",
       "finishing             9.734435e-13\n",
       "heading_accuracy     -5.471179e-13\n",
       "short_passing         1.165290e-12\n",
       "volleys               2.444267e-12\n",
       "dribbling             9.023893e-13\n",
       "curve                 3.836931e-13\n",
       "free_kick_accuracy    1.705303e-13\n",
       "long_passing          5.968559e-13\n",
       "ball_control          2.842171e-14\n",
       "acceleration         -5.258016e-13\n",
       "sprint_speed         -9.947598e-13\n",
       "agility               4.121148e-12\n",
       "reactions             7.531753e-13\n",
       "balance               5.684342e-13\n",
       "shot_power            5.186962e-13\n",
       "jumping               1.577405e-12\n",
       "stamina              -9.947598e-13\n",
       "strength             -1.236344e-12\n",
       "long_shots            4.476419e-13\n",
       "aggression            9.237056e-13\n",
       "interceptions        -3.552714e-14\n",
       "positioning           4.192202e-13\n",
       "vision               -2.486900e-12\n",
       "penalties            -2.771117e-13\n",
       "marking               4.902745e-13\n",
       "standing_tackle      -1.243450e-12\n",
       "sliding_tackle        9.805490e-13\n",
       "gk_diving             1.509903e-13\n",
       "gk_handling           1.776357e-13\n",
       "gk_kicking            3.304024e-13\n",
       "gk_positioning       -6.394885e-14\n",
       "gk_reflexes           1.989520e-13\n",
       "Name: mean, dtype: float64"
      ]
     },
     "execution_count": 51,
     "metadata": {},
     "output_type": "execute_result"
    }
   ],
   "source": [
    "player_attr_df.describe().loc['mean'] - old_mean"
   ]
  },
  {
   "cell_type": "code",
   "execution_count": 52,
   "metadata": {},
   "outputs": [
    {
     "data": {
      "text/plain": [
       "id                    0.000000\n",
       "player_fifa_api_id    0.000000\n",
       "player_api_id         0.000000\n",
       "overall_rating       -0.016016\n",
       "potential            -0.014995\n",
       "crossing             -0.039219\n",
       "finishing            -0.043306\n",
       "heading_accuracy     -0.037506\n",
       "short_passing        -0.032286\n",
       "volleys              -0.135110\n",
       "dribbling            -0.040362\n",
       "curve                -0.135104\n",
       "free_kick_accuracy   -0.040560\n",
       "long_passing         -0.032742\n",
       "ball_control         -0.034566\n",
       "acceleration         -0.029532\n",
       "sprint_speed         -0.028591\n",
       "agility              -0.095872\n",
       "reactions            -0.020825\n",
       "balance              -0.096675\n",
       "shot_power           -0.036701\n",
       "jumping              -0.081456\n",
       "stamina              -0.029946\n",
       "strength             -0.027460\n",
       "long_shots           -0.041778\n",
       "aggression           -0.036597\n",
       "interceptions        -0.044241\n",
       "positioning          -0.041963\n",
       "vision               -0.112075\n",
       "penalties            -0.035362\n",
       "marking              -0.048285\n",
       "standing_tackle      -0.048867\n",
       "sliding_tackle       -0.159844\n",
       "gk_diving            -0.038362\n",
       "gk_handling          -0.036092\n",
       "gk_kicking           -0.048797\n",
       "gk_positioning       -0.036619\n",
       "gk_reflexes          -0.039119\n",
       "Name: std, dtype: float64"
      ]
     },
     "execution_count": 52,
     "metadata": {},
     "output_type": "execute_result"
    }
   ],
   "source": [
    "player_attr_df.describe().loc['std'] - old_std"
   ]
  },
  {
   "cell_type": "markdown",
   "execution_count": null,
   "metadata": {},
   "source": [
    "we can see that the effect is negligible with difference values of order 10 to the power -15 in the mean and small values in the std"
   ]
  },
  {
   "cell_type": "markdown",
   "execution_count": null,
   "metadata": {},
   "source": [
    "**inspecting the remaining attributes: (preferred_foot, attacking_work_rate, defensive_work_rate)**"
   ]
  },
  {
   "cell_type": "code",
   "execution_count": 53,
   "metadata": {},
   "outputs": [
    {
     "data": {
      "text/plain": [
       "array(['right', 'left', nan], dtype=object)"
      ]
     },
     "execution_count": 53,
     "metadata": {},
     "output_type": "execute_result"
    }
   ],
   "source": [
    "player_attr_df.preferred_foot.unique()"
   ]
  },
  {
   "cell_type": "markdown",
   "execution_count": null,
   "metadata": {},
   "source": [
    "we can replace (right, left, nan) with (1, -1, 0) as 0 means not available info about this player"
   ]
  },
  {
   "cell_type": "code",
   "execution_count": 54,
   "metadata": {},
   "outputs": [],
   "source": [
    "player_attr_df.preferred_foot.fillna(value= 0, inplace=True)"
   ]
  },
  {
   "cell_type": "code",
   "execution_count": 55,
   "metadata": {},
   "outputs": [],
   "source": [
    "player_attr_df.replace({'right': 1, 'left': -1}, inplace=True)"
   ]
  },
  {
   "cell_type": "code",
   "execution_count": 56,
   "metadata": {},
   "outputs": [
    {
     "data": {
      "text/plain": [
       "array([ 1, -1,  0])"
      ]
     },
     "execution_count": 56,
     "metadata": {},
     "output_type": "execute_result"
    }
   ],
   "source": [
    "player_attr_df.preferred_foot.unique()"
   ]
  },
  {
   "cell_type": "code",
   "execution_count": 57,
   "metadata": {},
   "outputs": [
    {
     "data": {
      "text/plain": [
       "medium    125070\n",
       "high       42823\n",
       "low         8569\n",
       "None        3639\n",
       "norm         348\n",
       "y            106\n",
       "le           104\n",
       "stoc          89\n",
       "Name: attacking_work_rate, dtype: int64"
      ]
     },
     "execution_count": 57,
     "metadata": {},
     "output_type": "execute_result"
    }
   ],
   "source": [
    "player_attr_df.attacking_work_rate.value_counts()"
   ]
  },
  {
   "cell_type": "code",
   "execution_count": 58,
   "metadata": {},
   "outputs": [
    {
     "data": {
      "text/plain": [
       "medium    130846\n",
       "high       27041\n",
       "low        18432\n",
       "_0          2394\n",
       "o           1550\n",
       "1            441\n",
       "ormal        348\n",
       "2            342\n",
       "3            258\n",
       "5            234\n",
       "7            217\n",
       "6            197\n",
       "0            197\n",
       "9            152\n",
       "4            116\n",
       "es           106\n",
       "ean          104\n",
       "tocky         89\n",
       "8             78\n",
       "Name: defensive_work_rate, dtype: int64"
      ]
     },
     "execution_count": 58,
     "metadata": {},
     "output_type": "execute_result"
    }
   ],
   "source": [
    "player_attr_df.defensive_work_rate.value_counts()"
   ]
  },
  {
   "cell_type": "markdown",
   "execution_count": null,
   "metadata": {},
   "source": [
    "Those two columns are odd! I don't think those values are meaningfull. They can be dropped for now, but for future investigation, their values can be interpolated from other values such as stamina, strength, long_shots, aggression."
   ]
  },
  {
   "cell_type": "markdown",
   "execution_count": null,
   "metadata": {},
   "source": [
    "#### team table"
   ]
  },
  {
   "cell_type": "code",
   "execution_count": 59,
   "metadata": {},
   "outputs": [
    {
     "name": "stdout",
     "output_type": "stream",
     "text": [
      "<class 'pandas.core.frame.DataFrame'>\n",
      "RangeIndex: 299 entries, 0 to 298\n",
      "Data columns (total 5 columns):\n",
      " #   Column            Non-Null Count  Dtype  \n",
      "---  ------            --------------  -----  \n",
      " 0   id                299 non-null    int64  \n",
      " 1   team_api_id       299 non-null    int64  \n",
      " 2   team_fifa_api_id  288 non-null    float64\n",
      " 3   team_long_name    299 non-null    object \n",
      " 4   team_short_name   299 non-null    object \n",
      "dtypes: float64(1), int64(2), object(2)\n",
      "memory usage: 11.8+ KB\n"
     ]
    }
   ],
   "source": [
    "team_df.info()"
   ]
  },
  {
   "cell_type": "markdown",
   "execution_count": null,
   "metadata": {},
   "source": [
    "some fifa_api_ids are missing, I will make sure that 0 is not in the column then fill the missing values with it"
   ]
  },
  {
   "cell_type": "code",
   "execution_count": 60,
   "metadata": {},
   "outputs": [
    {
     "data": {
      "text/plain": [
       "False"
      ]
     },
     "execution_count": 60,
     "metadata": {},
     "output_type": "execute_result"
    }
   ],
   "source": [
    "0 in team_df.team_fifa_api_id.unique()"
   ]
  },
  {
   "cell_type": "code",
   "execution_count": 61,
   "metadata": {},
   "outputs": [],
   "source": [
    "team_df.team_fifa_api_id.fillna(value= 0, inplace=True)"
   ]
  },
  {
   "cell_type": "markdown",
   "execution_count": null,
   "metadata": {},
   "source": [
    "#### team attributes table"
   ]
  },
  {
   "cell_type": "code",
   "execution_count": 62,
   "metadata": {},
   "outputs": [
    {
     "name": "stdout",
     "output_type": "stream",
     "text": [
      "<class 'pandas.core.frame.DataFrame'>\n",
      "RangeIndex: 1458 entries, 0 to 1457\n",
      "Data columns (total 25 columns):\n",
      " #   Column                          Non-Null Count  Dtype  \n",
      "---  ------                          --------------  -----  \n",
      " 0   id                              1458 non-null   int64  \n",
      " 1   team_fifa_api_id                1458 non-null   int64  \n",
      " 2   team_api_id                     1458 non-null   int64  \n",
      " 3   date                            1458 non-null   object \n",
      " 4   buildUpPlaySpeed                1458 non-null   int64  \n",
      " 5   buildUpPlaySpeedClass           1458 non-null   object \n",
      " 6   buildUpPlayDribbling            489 non-null    float64\n",
      " 7   buildUpPlayDribblingClass       1458 non-null   object \n",
      " 8   buildUpPlayPassing              1458 non-null   int64  \n",
      " 9   buildUpPlayPassingClass         1458 non-null   object \n",
      " 10  buildUpPlayPositioningClass     1458 non-null   object \n",
      " 11  chanceCreationPassing           1458 non-null   int64  \n",
      " 12  chanceCreationPassingClass      1458 non-null   object \n",
      " 13  chanceCreationCrossing          1458 non-null   int64  \n",
      " 14  chanceCreationCrossingClass     1458 non-null   object \n",
      " 15  chanceCreationShooting          1458 non-null   int64  \n",
      " 16  chanceCreationShootingClass     1458 non-null   object \n",
      " 17  chanceCreationPositioningClass  1458 non-null   object \n",
      " 18  defencePressure                 1458 non-null   int64  \n",
      " 19  defencePressureClass            1458 non-null   object \n",
      " 20  defenceAggression               1458 non-null   int64  \n",
      " 21  defenceAggressionClass          1458 non-null   object \n",
      " 22  defenceTeamWidth                1458 non-null   int64  \n",
      " 23  defenceTeamWidthClass           1458 non-null   object \n",
      " 24  defenceDefenderLineClass        1458 non-null   object \n",
      "dtypes: float64(1), int64(11), object(13)\n",
      "memory usage: 284.9+ KB\n"
     ]
    }
   ],
   "source": [
    "team_attr_df.info()"
   ]
  },
  {
   "cell_type": "code",
   "execution_count": 63,
   "metadata": {},
   "outputs": [],
   "source": [
    "team_attr_df.date = pd.to_datetime(team_attr_df.date)"
   ]
  },
  {
   "cell_type": "code",
   "execution_count": 64,
   "metadata": {},
   "outputs": [
    {
     "name": "stdout",
     "output_type": "stream",
     "text": [
      "['Balanced' 'Fast' 'Slow']\n",
      "['Little' 'Normal' 'Lots']\n",
      "['Mixed' 'Long' 'Short']\n",
      "['Organised' 'Free Form']\n",
      "['Normal' 'Risky' 'Safe']\n",
      "['Normal' 'Lots' 'Little']\n",
      "['Normal' 'Lots' 'Little']\n",
      "['Organised' 'Free Form']\n",
      "['Medium' 'Deep' 'High']\n",
      "['Press' 'Double' 'Contain']\n",
      "['Normal' 'Wide' 'Narrow']\n",
      "['Cover' 'Offside Trap']\n"
     ]
    }
   ],
   "source": [
    "for c in zip(team_attr_df.columns, team_attr_df.dtypes):\n",
    "    if c[1] == 'object':\n",
    "        print(team_attr_df[c[0]].unique())"
   ]
  },
  {
   "cell_type": "markdown",
   "execution_count": null,
   "metadata": {},
   "source": [
    "buildUpPlayDribbling is the only column with null values"
   ]
  },
  {
   "cell_type": "code",
   "execution_count": 65,
   "metadata": {},
   "outputs": [
    {
     "data": {
      "text/plain": [
       "969"
      ]
     },
     "execution_count": 65,
     "metadata": {},
     "output_type": "execute_result"
    }
   ],
   "source": [
    "team_attr_df.buildUpPlayDribbling.isnull().sum()"
   ]
  },
  {
   "cell_type": "code",
   "execution_count": 66,
   "metadata": {},
   "outputs": [
    {
     "data": {
      "text/plain": [
       "Little    969\n",
       "Name: buildUpPlayDribblingClass, dtype: int64"
      ]
     },
     "execution_count": 66,
     "metadata": {},
     "output_type": "execute_result"
    }
   ],
   "source": [
    "team_attr_df[['buildUpPlayDribbling', 'buildUpPlayDribblingClass']][team_attr_df[['buildUpPlayDribbling', 'buildUpPlayDribblingClass']].buildUpPlayDribbling.isnull()].buildUpPlayDribblingClass.value_counts()"
   ]
  },
  {
   "cell_type": "markdown",
   "execution_count": null,
   "metadata": {},
   "source": [
    "all the missing values are in the 'little' class"
   ]
  },
  {
   "cell_type": "code",
   "execution_count": 67,
   "metadata": {},
   "outputs": [
    {
     "name": "stdout",
     "output_type": "stream",
     "text": [
      "{32.0: 12, 33.0: 6, 31.0: 4, 29.0: 4, 28.0: 3, 24.0: 2, 30.0: 2, 27.0: 1, 26.0: 1}\n"
     ]
    }
   ],
   "source": [
    "little_vals = dict(team_attr_df[['buildUpPlayDribbling', 'buildUpPlayDribblingClass']][team_attr_df[['buildUpPlayDribbling', 'buildUpPlayDribblingClass']].buildUpPlayDribblingClass == 'Little'].buildUpPlayDribbling.value_counts())\n",
    "print(little_vals)"
   ]
  },
  {
   "cell_type": "code",
   "execution_count": 68,
   "metadata": {},
   "outputs": [
    {
     "name": "stdout",
     "output_type": "stream",
     "text": [
      "average= 28.88888888888889\n",
      "weighted_avg= 30.485714285714284\n"
     ]
    }
   ],
   "source": [
    "#calculate average for buildUpPlayDribbling values in 'little' buildUpPlayDribblingClass\n",
    "avg = sum(list(little_vals.keys()))/len(little_vals)\n",
    "\n",
    "#calculate weighted average\n",
    "summation = 0\n",
    "total = 0\n",
    "for k, v in little_vals.items():\n",
    "    summation = summation + (k*v)\n",
    "    total = total + v\n",
    "weighted_avg = summation/total\n",
    "\n",
    "print(f'average= {avg}')\n",
    "print(f'weighted_avg= {weighted_avg}')"
   ]
  },
  {
   "cell_type": "markdown",
   "execution_count": null,
   "metadata": {},
   "source": [
    "no big difference between the two values, so I will choose the weighted average"
   ]
  },
  {
   "cell_type": "code",
   "execution_count": 69,
   "metadata": {
    "scrolled": true
   },
   "outputs": [
    {
     "name": "stdout",
     "output_type": "stream",
     "text": [
      "<class 'pandas.core.frame.DataFrame'>\n",
      "RangeIndex: 1458 entries, 0 to 1457\n",
      "Data columns (total 25 columns):\n",
      " #   Column                          Non-Null Count  Dtype         \n",
      "---  ------                          --------------  -----         \n",
      " 0   id                              1458 non-null   int64         \n",
      " 1   team_fifa_api_id                1458 non-null   int64         \n",
      " 2   team_api_id                     1458 non-null   int64         \n",
      " 3   date                            1458 non-null   datetime64[ns]\n",
      " 4   buildUpPlaySpeed                1458 non-null   int64         \n",
      " 5   buildUpPlaySpeedClass           1458 non-null   object        \n",
      " 6   buildUpPlayDribbling            1458 non-null   float64       \n",
      " 7   buildUpPlayDribblingClass       1458 non-null   object        \n",
      " 8   buildUpPlayPassing              1458 non-null   int64         \n",
      " 9   buildUpPlayPassingClass         1458 non-null   object        \n",
      " 10  buildUpPlayPositioningClass     1458 non-null   object        \n",
      " 11  chanceCreationPassing           1458 non-null   int64         \n",
      " 12  chanceCreationPassingClass      1458 non-null   object        \n",
      " 13  chanceCreationCrossing          1458 non-null   int64         \n",
      " 14  chanceCreationCrossingClass     1458 non-null   object        \n",
      " 15  chanceCreationShooting          1458 non-null   int64         \n",
      " 16  chanceCreationShootingClass     1458 non-null   object        \n",
      " 17  chanceCreationPositioningClass  1458 non-null   object        \n",
      " 18  defencePressure                 1458 non-null   int64         \n",
      " 19  defencePressureClass            1458 non-null   object        \n",
      " 20  defenceAggression               1458 non-null   int64         \n",
      " 21  defenceAggressionClass          1458 non-null   object        \n",
      " 22  defenceTeamWidth                1458 non-null   int64         \n",
      " 23  defenceTeamWidthClass           1458 non-null   object        \n",
      " 24  defenceDefenderLineClass        1458 non-null   object        \n",
      "dtypes: datetime64[ns](1), float64(1), int64(11), object(12)\n",
      "memory usage: 284.9+ KB\n"
     ]
    }
   ],
   "source": [
    "team_attr_df.buildUpPlayDribbling.fillna(value= weighted_avg, inplace=True)\n",
    "team_attr_df.info()"
   ]
  },
  {
   "cell_type": "markdown",
   "execution_count": null,
   "metadata": {},
   "source": [
    "All cleaned tables are saved for further analysis"
   ]
  },
  {
   "cell_type": "code",
   "execution_count": null,
   "metadata": {},
   "outputs": [],
   "source": []
  }
 ],
 "metadata": {
  "kernelspec": {
   "display_name": "Python 3",
   "language": "python",
   "name": "python3"
  },
  "language_info": {
   "codemirror_mode": {
    "name": "ipython",
    "version": 3
   },
   "file_extension": ".py",
   "mimetype": "text/x-python",
   "name": "python",
   "nbconvert_exporter": "python",
   "pygments_lexer": "ipython3",
   "version": "3.7.6"
  }
 },
 "nbformat": 4,
 "nbformat_minor": 4
}
