{
 "cells": [
  {
   "cell_type": "markdown",
   "metadata": {},
   "source": [
    "Trying to get pycode style to work..."
   ]
  },
  {
   "cell_type": "code",
   "execution_count": 1,
   "metadata": {},
   "outputs": [
    {
     "name": "stdout",
     "output_type": "stream",
     "text": [
      "Requirement already satisfied: pycodestyle in /opt/conda/lib/python3.6/site-packages (2.4.0)\r\n",
      "Collecting pycodestyle_magic\r\n",
      "  Downloading https://files.pythonhosted.org/packages/1c/6f/f94e22a33ad96f035dd08ba1fdc1106d9533cc98c379dc673c747b4f36e3/pycodestyle_magic-0.3-py2.py3-none-any.whl\r\n",
      "Installing collected packages: pycodestyle-magic\r\n",
      "Successfully installed pycodestyle-magic-0.3\r\n"
     ]
    }
   ],
   "source": [
    "!pip install pycodestyle pycodestyle_magic"
   ]
  },
  {
   "cell_type": "code",
   "execution_count": 2,
   "metadata": {
    "_cell_guid": "b1076dfc-b9ad-4769-8c92-a6c4dae69d19",
    "_uuid": "8f2839f25d086af736a60e9eeb907d3b93b6e0e5"
   },
   "outputs": [],
   "source": [
    "%load_ext pycodestyle_magic"
   ]
  },
  {
   "cell_type": "code",
   "execution_count": 3,
   "metadata": {
    "_cell_guid": "79c7e3d0-c299-4dcb-8224-4455121ee9b0",
    "_uuid": "d629ff2d2480ee46fbb7e2d37f6b5fab8052498a"
   },
   "outputs": [],
   "source": [
    "%%pycodestyle\n",
    "def square_of_number(\n",
    "     num1, num2, num3, \n",
    "     num4):\n",
    "    return num1**2, num2**2, num3**2, num4**2"
   ]
  }
 ],
 "metadata": {
  "kernelspec": {
   "display_name": "Python 3",
   "language": "python",
   "name": "python3"
  },
  "language_info": {
   "codemirror_mode": {
    "name": "ipython",
    "version": 3
   },
   "file_extension": ".py",
   "mimetype": "text/x-python",
   "name": "python",
   "nbconvert_exporter": "python",
   "pygments_lexer": "ipython3",
   "version": "3.6.6"
  }
 },
 "nbformat": 4,
 "nbformat_minor": 1
}
