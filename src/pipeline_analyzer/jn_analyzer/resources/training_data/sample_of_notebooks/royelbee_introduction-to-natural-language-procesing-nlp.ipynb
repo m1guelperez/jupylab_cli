{
 "cells": [
  {
   "cell_type": "markdown",
   "metadata": {
    "papermill": {
     "duration": 0.04389,
     "end_time": "2020-10-17T08:26:41.168064",
     "exception": false,
     "start_time": "2020-10-17T08:26:41.124174",
     "status": "completed"
    },
    "tags": []
   },
   "source": [
    "# What we need \n",
    "1. NLTK module\n",
    "2. Numpy module\n",
    "3. Collections : Books, Corpora etc"
   ]
  },
  {
   "cell_type": "code",
   "execution_count": 1,
   "metadata": {
    "_cell_guid": "79c7e3d0-c299-4dcb-8224-4455121ee9b0",
    "_uuid": "d629ff2d2480ee46fbb7e2d37f6b5fab8052498a",
    "execution": {
     "iopub.execute_input": "2020-10-17T08:26:41.260334Z",
     "iopub.status.busy": "2020-10-17T08:26:41.259560Z",
     "iopub.status.idle": "2020-10-17T08:26:42.952749Z",
     "shell.execute_reply": "2020-10-17T08:26:42.952036Z"
    },
    "papermill": {
     "duration": 1.741244,
     "end_time": "2020-10-17T08:26:42.952878",
     "exception": false,
     "start_time": "2020-10-17T08:26:41.211634",
     "status": "completed"
    },
    "tags": []
   },
   "outputs": [],
   "source": [
    "# Import Library \n",
    "import nltk"
   ]
  },
  {
   "cell_type": "code",
   "execution_count": 2,
   "metadata": {
    "execution": {
     "iopub.execute_input": "2020-10-17T08:26:43.045382Z",
     "iopub.status.busy": "2020-10-17T08:26:43.044458Z",
     "iopub.status.idle": "2020-10-17T08:26:43.048558Z",
     "shell.execute_reply": "2020-10-17T08:26:43.047872Z"
    },
    "papermill": {
     "duration": 0.052066,
     "end_time": "2020-10-17T08:26:43.048685",
     "exception": false,
     "start_time": "2020-10-17T08:26:42.996619",
     "status": "completed"
    },
    "tags": []
   },
   "outputs": [],
   "source": [
    "# Now download necessary text files \n",
    "# First press d then 'all'\n",
    "# After completing download press 'q' to exit \n",
    "\n",
    "# nltk.download()"
   ]
  },
  {
   "cell_type": "code",
   "execution_count": 3,
   "metadata": {
    "execution": {
     "iopub.execute_input": "2020-10-17T08:26:43.148277Z",
     "iopub.status.busy": "2020-10-17T08:26:43.147404Z",
     "iopub.status.idle": "2020-10-17T08:26:54.024336Z",
     "shell.execute_reply": "2020-10-17T08:26:54.024952Z"
    },
    "papermill": {
     "duration": 10.932249,
     "end_time": "2020-10-17T08:26:54.025122",
     "exception": false,
     "start_time": "2020-10-17T08:26:43.092873",
     "status": "completed"
    },
    "tags": []
   },
   "outputs": [
    {
     "name": "stdout",
     "output_type": "stream",
     "text": [
      "*** Introductory Examples for the NLTK Book ***\n",
      "Loading text1, ..., text9 and sent1, ..., sent9\n",
      "Type the name of the text or sentence to view it.\n",
      "Type: 'texts()' or 'sents()' to list the materials.\n",
      "text1: Moby Dick by Herman Melville 1851\n",
      "text2: Sense and Sensibility by Jane Austen 1811\n",
      "text3: The Book of Genesis\n",
      "text4: Inaugural Address Corpus\n",
      "text5: Chat Corpus\n",
      "text6: Monty Python and the Holy Grail\n",
      "text7: Wall Street Journal\n",
      "text8: Personals Corpus\n",
      "text9: The Man Who Was Thursday by G . K . Chesterton 1908\n"
     ]
    }
   ],
   "source": [
    "# Now import all books what we have downloaded \n",
    "from nltk.book import * "
   ]
  },
  {
   "cell_type": "code",
   "execution_count": 4,
   "metadata": {
    "execution": {
     "iopub.execute_input": "2020-10-17T08:26:54.127502Z",
     "iopub.status.busy": "2020-10-17T08:26:54.126541Z",
     "iopub.status.idle": "2020-10-17T08:26:54.131849Z",
     "shell.execute_reply": "2020-10-17T08:26:54.131076Z"
    },
    "papermill": {
     "duration": 0.058887,
     "end_time": "2020-10-17T08:26:54.131973",
     "exception": false,
     "start_time": "2020-10-17T08:26:54.073086",
     "status": "completed"
    },
    "tags": []
   },
   "outputs": [
    {
     "data": {
      "text/plain": [
       "<Text: Moby Dick by Herman Melville 1851>"
      ]
     },
     "execution_count": 4,
     "metadata": {},
     "output_type": "execute_result"
    }
   ],
   "source": [
    "# Now check all books \n",
    "text1\n",
    "\n",
    "# It will only shows the book author and published year "
   ]
  },
  {
   "cell_type": "markdown",
   "metadata": {
    "papermill": {
     "duration": 0.047677,
     "end_time": "2020-10-17T08:26:54.227568",
     "exception": false,
     "start_time": "2020-10-17T08:26:54.179891",
     "status": "completed"
    },
    "tags": []
   },
   "source": [
    "# NLTK Features\n",
    "## **concordance:**It show every occurrence of a given word together with some context. \n",
    "## **similar:** What other words appear in a similer range of contexts?\n",
    "## **common_contexs:** Examine the words that are shared by two or more words. "
   ]
  },
  {
   "cell_type": "markdown",
   "metadata": {
    "papermill": {
     "duration": 0.047384,
     "end_time": "2020-10-17T08:26:54.324922",
     "exception": false,
     "start_time": "2020-10-17T08:26:54.277538",
     "status": "completed"
    },
    "tags": []
   },
   "source": [
    "# Text accessing from web (TokeNization)"
   ]
  },
  {
   "cell_type": "code",
   "execution_count": 5,
   "metadata": {
    "execution": {
     "iopub.execute_input": "2020-10-17T08:26:54.440670Z",
     "iopub.status.busy": "2020-10-17T08:26:54.439861Z",
     "iopub.status.idle": "2020-10-17T08:26:57.899471Z",
     "shell.execute_reply": "2020-10-17T08:26:57.898779Z"
    },
    "papermill": {
     "duration": 3.527073,
     "end_time": "2020-10-17T08:26:57.899622",
     "exception": false,
     "start_time": "2020-10-17T08:26:54.372549",
     "status": "completed"
    },
    "tags": []
   },
   "outputs": [],
   "source": [
    "# What we neeed\n",
    "\n",
    "# urllib\n",
    "# urlopen()\n",
    "# read()\n",
    "\n",
    "from urllib.request import urlopen\n",
    "url = \"https://www.thedailystar.net/business/news/can-bangladesh-challenge-vietnam-japans-ict-market-1977097\"\n",
    "raw = urlopen(url).read()"
   ]
  },
  {
   "cell_type": "code",
   "execution_count": 6,
   "metadata": {
    "execution": {
     "iopub.execute_input": "2020-10-17T08:26:58.001042Z",
     "iopub.status.busy": "2020-10-17T08:26:58.000250Z",
     "iopub.status.idle": "2020-10-17T08:26:58.017388Z",
     "shell.execute_reply": "2020-10-17T08:26:58.017993Z"
    },
    "papermill": {
     "duration": 0.070919,
     "end_time": "2020-10-17T08:26:58.018162",
     "exception": false,
     "start_time": "2020-10-17T08:26:57.947243",
     "status": "completed"
    },
    "tags": []
   },
   "outputs": [
    {
     "data": {
      "text/plain": [
       "b'<!DOCTYPE html>\\n<!--[if lt IE 7]><html class=\"lt-ie9 lt-ie8 lt-ie7\" lang=\"en\" dir=\"ltr\"><![endif]-->\\n<!--[if IE 7]><html class=\"lt-ie9 lt-ie8\" lang=\"en\" dir=\"ltr\"><![endif]-->\\n<!--[if IE 8]><html class=\"lt-ie9\" lang=\"en\" dir=\"ltr\"><![endif]-->\\n<!--[if gt IE 8]><!--><html lang=\"en\" dir=\"ltr\"><!--<![endif]-->\\n<head>\\n<!--[if IE]><![endif]-->\\n<link rel=\"preconnect\" href=\"//fonts.googleapis.com\" />\\n<link rel=\"dns-prefetch\" href=\"//fonts.googleapis.com\" />\\n<link rel=\"preconnect\" href=\"//fonts.gstatic.com\" crossorigin=\"\" />\\n<link rel=\"dns-prefetch\" href=\"//fonts.gstatic.com\" />\\n<link rel=\"preconnect\" href=\"//maxcdn.bootstrapcdn.com\" />\\n<link rel=\"dns-prefetch\" href=\"//maxcdn.bootstrapcdn.com\" />\\n<link rel=\"dns-prefetch\" href=\"//assetsds.cdnedge.bluemix.net\" />\\n<link rel=\"preconnect\" href=\"//assetsds.cdnedge.bluemix.net\" />\\n<link rel=\"preconnect\" href=\"//ctools\" />\\n<link rel=\"dns-prefetch\" href=\"//ctools\" />\\n<link rel=\"dns-prefetch\" href=\"//cpn\" />\\n<link rel=\"preconnect\" href=\"//cpn\" />\\n<link rel=\"preconnect\" href=\"//ajax.googleapis.com\" />\\n<link rel=\"dns-prefetch\" href=\"//ajax.googleapis.com\" />\\n<link rel=\"dns-prefetch\" href=\"//www.google-analytics.com\" />\\n<link rel=\"preconnect\" href=\"//www.google-analytics.com\" />\\n<link rel=\"preconnect\" href=\"//stats.g.doubleclick.net\" />\\n<link rel=\"dns-prefetch\" href=\"//stats.g.doubleclick.net\" />\\n<meta charset=\"utf-8\" />\\n<meta http-equiv=\"x-dns-prefetch-control\" content=\"on\" />\\n<link rel=\"dns-prefetch\" href=\"//assetsds.cdnedge.bluemix.net\" />\\n<!--[if IE 9]>\\n<link rel=\"prefetch\" href=\"//assetsds.cdnedge.bluemix.net\" />\\n<![endif]-->\\n<script type=\"text/javascript\" src=\"//services.bilsyndication.com/adv1/?d=1523\" defer=\"\" async=\"\"></script><script> var vitag = vitag || {enablePC: false}; </script><link rel=\"shortcut icon\" href=\"https://www.thedailystar.net/sites/all/themes/tds/favicon.ico\" type=\"image/vnd.microsoft.icon\" />\\n<!-- Facebook Pixel Code -->\\r\\n<script>\\r\\n  !function(f,b,e,v,n,t,s)\\r\\n  {if(f.fbq)return;n=f.fbq=function(){n.callMethod?\\r\\n  n.callMethod.apply(n,arguments):n.queue.push(arguments)};\\r\\n  if(!f._fbq)f._fbq=n;n.push=n;n.loaded=!0;n.version=\\'2.0\\';\\r\\n  n.queue=[];t=b.createElement(e);t.async=!0;\\r\\n  t.src=v;s=b.getElementsByTagName(e)[0];\\r\\n  s.parentNode.insertBefore(t,s)}(window, document,\\'script\\',\\r\\n  \\'https://connect.facebook.net/en_US/fbevents.js\\');\\r\\n  fbq(\\'init\\', \\'298630560628716\\');\\r\\n  fbq(\\'track\\', \\'PageView\\');\\r\\n</script>\\r\\n<noscript><img height=\"1\" width=\"1\" style=\"display:none\"\\r\\n  src=\"https://www.facebook.com/tr?id=298630560628716&ev=PageView&noscript=1\"\\r\\n/></noscript>\\r\\n<!-- End Facebook Pixel Code --><link rel=\"publisher\" href=\"https://plus.google.com/110627159164401212395\"/> \\r\\n<meta name=\"p:domain_verify\" content=\"2422553b8bf6981167b94995534f77f3\"/>\\r\\n<meta name=\"yandex-verification\" content=\"ce13aea75f0df09a\" />\\r\\n<meta name=\"google-site-verification\" content=\"cNkGc0BVTjxXsgsdm7W8ycbai8edcXsO0NawiUYUfbQ\" /><!-- Start Alexa Certify Javascript --> \\r\\n<script type=\"text/javascript\"> \\r\\n_atrk_opts = { atrk_acct:\"VbLio1IW18104B\", domain:\"thedailystar.net\",dynamic: true}; \\r\\n(function() { var as = document.createElement(\\'script\\'); as.type = \\'text/javascript\\'; as.async = true; as.src = \"https://certify-js.alexametrics.com/atrk.js\"; var s = document.getElementsByTagName(\\'script\\')[0];s.parentNode.insertBefore(as, s); })(); \\r\\n</script> \\r\\n<noscript><img src=\"https://certify.alexametrics.com/atrk.gif?account=VbLio1IW18104B\" style=\"display:none\" height=\"1\" width=\"1\" alt=\"\" /></noscript> \\r\\n<!-- End Alexa Certify Javascript --><meta name=\"viewport\" content=\"width=device-width, initial-scale=1, maximum-scale=1, user-scalable=0\" />\\n<link rel=\"amphtml\" href=\"https://www.thedailystar.net/business/news/can-bangladesh-challenge-vietnam-japans-ict-market-1977097?amp\" />\\n<meta name=\"description\" content=\"Starting in the early 90&#039;s, Bangladesh&#039;s IT industry was reborn in 2009, when Prime Minister Sheikh Hasina declared the Digital Bangladesh programme on December 12 in 2008. From that day onwards, a country whose economy is heavily dependent on the RMG sector and remittance from non-resident Bangladeshis, started to think of a new sector which could be the main pillar of\" />\\n<meta name=\"abstract\" content=\"Starting in the early 90&#039;s, Bangladesh&#039;s IT industry was reborn in 2009, when Prime Minister Sheikh Hasina declared the Digital Bangladesh programme on December 12 in 2008. From that day onwards, a country whose economy is heavily dependent on the RMG sector and remittance from non-resident Bangladeshis, started to think of a new sector which could be the main pillar of economy by 2030. This sector would have to be an industry that consists of innovation and brain work rather than conventional physical labour.\" />\\n<link rel=\"canonical\" href=\"https://www.thedailystar.net/business/news/can-bangladesh-challenge-vietnam-japans-ict-market-1977097\" />\\n<link rel=\"shortlink\" href=\"https://www.thedailystar.net/node/1977097\" />\\n<meta property=\"fb:app_id\" content=\"1470682543251344\" />\\n<meta property=\"fb:pages\" content=\"100117146754830\" />\\n<meta property=\"og:site_name\" content=\"The Daily Star\" />\\n<meta property=\"og:type\" content=\"article\" />\\n<meta property=\"og:url\" content=\"https://www.thedailystar.net/business/news/can-bangladesh-challenge-vietnam-japans-ict-market-1977097\" />\\n<meta property=\"og:title\" content=\"Can Bangladesh challenge Vietnam in Japan\\xe2\\x80\\x99s ICT market?\" />\\n<meta property=\"og:description\" content=\"Starting in the early 90\\xe2\\x80\\x99s, Bangladesh\\xe2\\x80\\x99s IT industry was reborn in 2009, when Prime Minister Sheikh Hasina declared the Digital Bangladesh programme on December 12 in 2008.\" />\\n<meta property=\"og:updated_time\" content=\"2020-10-13T02:04:32+06:00\" />\\n<meta property=\"og:image\" content=\"https://assetsds.cdnedge.bluemix.net/sites/default/files/styles/social_share/public/feature/images/the-young-energetic-and-enthused-talent-pool.jpg?itok=tG5sPEaT\" />\\n<meta property=\"og:image:width\" content=\"560\" />\\n<meta property=\"og:image:height\" content=\"292\" />\\n<meta name=\"twitter:card\" content=\"summary_large_image\" />\\n<meta name=\"twitter:site\" content=\"@dailystarnews\" />\\n<meta name=\"twitter:creator\" content=\"@dailystarnews\" />\\n<meta name=\"twitter:url\" content=\"https://www.thedailystar.net/business/news/can-bangladesh-challenge-vietnam-japans-ict-market-1977097\" />\\n<meta name=\"twitter:title\" content=\"Can Bangladesh challenge Vietnam in Japan\\xe2\\x80\\x99s ICT market?\" />\\n<meta name=\"twitter:description\" content=\"Starting in the early 90\\xe2\\x80\\x99s, Bangladesh\\xe2\\x80\\x99s IT industry was reborn in 2009, when Prime Minister Sheikh Hasina declared the Digital Bangladesh programme on December 12 in 2008.\" />\\n<meta name=\"twitter:image\" content=\"https://assetsds.cdnedge.bluemix.net/sites/default/files/styles/social_share/public/feature/images/the-young-energetic-and-enthused-talent-pool.jpg?itok=tG5sPEaT\" />\\n<meta property=\"article:published_time\" content=\"2020-10-13T00:00:00+06:00\" />\\n<meta property=\"article:modified_time\" content=\"2020-10-13T02:04:32+06:00\" />\\n<title>Can Bangladesh challenge Vietnam in Japan\\xe2\\x80\\x99s ICT market? | The Daily Star</title>\\n<link type=\"text/css\" rel=\"stylesheet\" href=\"//fonts.googleapis.com/css?family=Droid+Serif:400,400italic,700,700italic|Open+Sans:400,300,300italic,400italic,600,600italic,700,700italic,800,800italic\" media=\"all\" />\\n<link type=\"text/css\" rel=\"stylesheet\" href=\"//maxcdn.bootstrapcdn.com/font-awesome/4.2.0/css/font-awesome.min.css\" media=\"all\" />\\n<link type=\"text/css\" rel=\"stylesheet\" href=\"https://assetsds.cdnedge.bluemix.net/sites/default/files/advagg_css/css__HJDVFHCsJmyh_D9ZmVjWv-0q2oQVVONXBgC1kKyuz04__Rz3ueO8MyBZs9lH-KAnaJTiouICGYHOcVVxmB5T6XCw__UwWC12kSN2-mQYTssh22velUooSvluhp15iUVLMKL6I.css\" media=\"all\" />\\n<link type=\"text/css\" rel=\"stylesheet\" href=\"https://assetsds.cdnedge.bluemix.net/sites/default/files/advagg_css/css__Ewc6h-cb5e6rkuYqq-3M_OIx5KqtLR6yWLRxO4fB6WE__VFlH0PeRfyWgXPaZeflREFVxZVZxy28nUe2wjGxOXzU__UwWC12kSN2-mQYTssh22velUooSvluhp15iUVLMKL6I.css\" media=\"all\" />\\n<script type=\"text/javascript\">\\n<!--//--><![CDATA[//><!--\\nwindow.google_analytics_uacct = \"UA-59519741-1\";\\n//--><!]]>\\n</script>\\n<script type=\"text/javascript\" src=\"//ajax.googleapis.com/ajax/libs/jquery/1.10.2/jquery.min.js\"></script>\\n<script type=\"text/javascript\">\\n<!--//--><![CDATA[//><!--\\nwindow.jQuery || document.write(\"<script src=\\'/sites/all/modules/contrib/jquery_update/replace/jquery/1.10/jquery.min.js\\'>\\\\x3C/script>\")\\n//--><!]]>\\n</script>\\n<script type=\"text/javascript\" src=\"https://assetsds.cdnedge.bluemix.net/sites/default/files/advagg_js/js__1YIht1y1Jlm9D0PyxEuhS3DlWdYAlEsNpsFDOaUsfRw__ZnC7278ZsqBG-1FOUqflDl8B3Y1kLiAWXAIkoLrHbYg__UwWC12kSN2-mQYTssh22velUooSvluhp15iUVLMKL6I.js\"></script>\\n<script type=\"text/javascript\">\\n<!--//--><![CDATA[//><!--\\n\\n  var dfp_slots = new Array();\\n  var googletag = googletag || {};\\n  googletag.cmd = googletag.cmd || [];\\n  (function() {\\n    var gads = document.createElement(\\'script\\');\\n    gads.type = \\'text/javascript\\';\\n    var useSSL = \\'https:\\' == document.location.protocol;\\n    gads.src = (useSSL ? \\'https:\\' : \\'http:\\') +\\n      \\'//www.googletagservices.com/tag/js/gpt.js\\';\\n    var node = document.getElementsByTagName(\\'script\\')[0];\\n    node.parentNode.insertBefore(gads, node);\\n  })();\\n//--><!]]>\\n</script>\\n<script type=\"text/javascript\" src=\"https://assetsds.cdnedge.bluemix.net/sites/default/files/advagg_js/js__EDBsJC6RIvStUs9gR7bSi7Sokm1vXhFXw1yHWkZuNlE__FdP5gPBJDi6d0_z5hsVnUgBQFOgWyFzje2VOnIOBgMI__UwWC12kSN2-mQYTssh22velUooSvluhp15iUVLMKL6I.js\" async=\"async\"></script>\\n<script type=\"text/javascript\">\\n<!--//--><![CDATA[//><!--\\ndfp_slots[\"news_details_after_2nd_paragraph\"] = function() { googletag.defineSlot(\"/34728570/News_Details_After_2nd_Paragraph_ad\", [300, 250], \"dfp-ad-news_details_after_2nd_paragraph\").setTargeting(\"Category\", [\"type-node\",\"node-1977097\",\"Business\"]).addService(googletag.pubads()); }\\n//--><!]]>\\n</script>\\n<script type=\"text/javascript\">\\n<!--//--><![CDATA[//><!--\\ndfp_slots[\"tds_news_details_bottom\"] = function() { googletag.defineSlot(\"/34728570/TDS_News_Details_Bottom\", [[728, 90], [300, 250], [300, 100]], \"dfp-ad-tds_news_details_bottom\").setTargeting(\"Category\", [\"type-node\",\"node-1977097\",\"Business\"]).addService(googletag.pubads()); }\\n//--><!]]>\\n</script>\\n<script type=\"text/javascript\">\\n<!--//--><![CDATA[//><!--\\ndfp_slots[\"news_detail_after_body720x300_300x250\"] = function() { var mapping = googletag.sizeMapping().addSize([1024, 768], [728, 90]).addSize([1366, 768], [728, 90]).addSize([1280, 768], [728, 90]).addSize([360, 640], [300, 250]).addSize([320, 640], [300, 250]).addSize([320, 480], [300, 250]).addSize([980, 600], [728, 90]).addSize([1280, 1024], [728, 90]).addSize([1920, 768], [728, 90]).build();\\ngoogletag.defineSlot(\"/34728570/NewsDetailAfterBody720x300\", [[728, 90], [300, 250]], \"dfp-ad-news_detail_after_body720x300_300x250\").setTargeting(\"Category\", [\"type-node\",\"node-1977097\",\"Business\"]).defineSizeMapping(mapping).addService(googletag.pubads()); }\\n//--><!]]>\\n</script>\\n<script type=\"text/javascript\">\\n<!--//--><![CDATA[//><!--\\ndfp_slots[\"news_detail_right_top_rentangle\"] = function() { googletag.defineSlot(\"/34728570/News_Detail_Right_Top_Rentangle\", [[300, 250], [300, 100], [320, 50]], \"dfp-ad-news_detail_right_top_rentangle\").setTargeting(\"Category\", [\"type-node\",\"node-1977097\",\"Business\"]).addService(googletag.pubads()); }\\n//--><!]]>\\n</script>\\n<script type=\"text/javascript\">\\n<!--//--><![CDATA[//><!--\\ndfp_slots[\"news_detail_right_position_2\"] = function() { googletag.defineSlot(\"/34728570/News_detail_rightside_position_2\", [300, 250], \"dfp-ad-news_detail_right_position_2\").setTargeting(\"Category\", [\"type-node\",\"node-1977097\",\"Business\"]).addService(googletag.pubads()); }\\n//--><!]]>\\n</script>\\n<script type=\"text/javascript\">\\n<!--//--><![CDATA[//><!--\\ndfp_slots[\"homepage_bottom_sticky_hover\"] = function() { googletag.defineSlot(\"/34728570/Homepage_bottom_Sticky_Hover\", [[1000, 60], [320, 50]], \"dfp-ad-homepage_bottom_sticky_hover\").setTargeting(\"Category\", [\"type-node\",\"node-1977097\",\"Business\"]).addService(googletag.pubads()); }\\n//--><!]]>\\n</script>\\n<script type=\"text/javascript\">\\n<!--//--><![CDATA[//><!--\\ndfp_slots[\"global_top_right_leaderboard\"] = function() { googletag.defineSlot(\"/34728570/Top_right_Leaderboard\", [[728, 90], [300, 100], [320, 50]], \"dfp-ad-global_top_right_leaderboard\").setTargeting(\"Category\", [\"type-node\",\"node-1977097\",\"Business\"]).addService(googletag.pubads()); }\\n//--><!]]>\\n</script>\\n<script type=\"text/javascript\" defer=\"defer\">\\n<!--//--><![CDATA[//><!--\\ngoogletag.cmd.push(function() {\\n  for (slot in dfp_slots) {\\n    dfp_slots[slot]();\\n  };\\n  googletag.pubads().enableAsyncRendering();\\n  googletag.pubads().enableSingleRequest();\\n  googletag.pubads().collapseEmptyDivs();\\n  googletag.enableServices();\\n});\\n\\n\\n//--><!]]>\\n</script>\\n<script type=\"text/javascript\">\\n<!--//--><![CDATA[//><!--\\n(function(i,s,o,g,r,a,m){i[\"GoogleAnalyticsObject\"]=r;i[r]=i[r]||function(){(i[r].q=i[r].q||[]).push(arguments)},i[r].l=1*new Date();a=s.createElement(o),m=s.getElementsByTagName(o)[0];a.async=1;a.src=g;m.parentNode.insertBefore(a,m)})(window,document,\"script\",\"https://www.google-analytics.com/analytics.js\",\"ga\");ga(\"create\", \"UA-59519741-1\", {\"cookieDomain\":\"auto\"});ga(\"require\", \"displayfeatures\");ga(\"set\", \"anonymizeIp\", true);ga(\"set\", \"dimension1\", \"News\");ga(\"set\", \"dimension2\", \"1977097\");ga(\"set\", \"dimension3\", \"2\");ga(\"set\", \"dimension4\", \"english\");ga(\"set\", \"dimension5\", \"1602525600\");ga(\"set\", \"page\", location.pathname + location.search + location.hash);ga(\"send\", \"pageview\");\\n//--><!]]>\\n</script>\\n<script type=\"text/javascript\">\\n<!--//--><![CDATA[//><!--\\njQuery.extend(Drupal.settings, {\"basePath\":\"\\\\/\",\"pathPrefix\":\"\",\"ajaxPageState\":{\"theme\":\"tds\",\"theme_token\":\"RrRNajtpyINiXw6VT6xtEfEiIYK1ricImdl19staKUA\",\"css\":{\"\\\\/\\\\/fonts.googleapis.com\\\\/css?family=Droid+Serif:400,400italic,700,700italic|Open+Sans:400,300,300italic,400italic,600,600italic,700,700italic,800,800italic\":1,\"\\\\/\\\\/maxcdn.bootstrapcdn.com\\\\/font-awesome\\\\/4.2.0\\\\/css\\\\/font-awesome.min.css\":1,\"modules\\\\/system\\\\/system.base.css\":1,\"modules\\\\/system\\\\/system.messages.css\":1,\"modules\\\\/system\\\\/system.theme.css\":1,\"sites\\\\/all\\\\/modules\\\\/contrib\\\\/colorbox\\\\/styles\\\\/default\\\\/colorbox_style.css\":1,\"sites\\\\/all\\\\/modules\\\\/contrib\\\\/picture\\\\/picture_wysiwyg.css\":1,\"modules\\\\/poll\\\\/poll.css\":1,\"sites\\\\/all\\\\/themes\\\\/tds\\\\/css\\\\/styles.css\":1,\"sites\\\\/all\\\\/libraries\\\\/lightGallery\\\\/css\\\\/lightgallery.min.css\":1,\"public:\\\\/\\\\/ctools\\\\/css\\\\/11137ce9a04774d118f5ca478a0bf444.css\":1,\"public:\\\\/\\\\/cpn\\\\/misc-misc_main_menu.css\":1},\"js\":{\"sites\\\\/all\\\\/libraries\\\\/colorbox\\\\/jquery.colorbox-min.js\":1,\"sites\\\\/all\\\\/modules\\\\/contrib\\\\/colorbox\\\\/js\\\\/colorbox.js\":1,\"sites\\\\/all\\\\/modules\\\\/contrib\\\\/colorbox\\\\/styles\\\\/default\\\\/colorbox_style.js\":1,\"sites\\\\/all\\\\/modules\\\\/contrib\\\\/colorbox\\\\/js\\\\/colorbox_load.js\":1,\"sites\\\\/all\\\\/modules\\\\/contrib\\\\/colorbox\\\\/js\\\\/colorbox_inline.js\":1,\"sites\\\\/all\\\\/modules\\\\/custom\\\\/misc\\\\/js\\\\/ajaxBlock.js\":1,\"sites\\\\/all\\\\/modules\\\\/contrib\\\\/google_analytics\\\\/googleanalytics.js\":1,\"\\\\/sites\\\\/all\\\\/themes\\\\/tds\\\\/scripts\\\\/alert-parent.js\":1,\"sites\\\\/all\\\\/themes\\\\/tds\\\\/scripts\\\\/vendor\\\\/jRespond.min.js\":1,\"sites\\\\/all\\\\/themes\\\\/tds\\\\/scripts\\\\/vendor\\\\/idangerous.swiper.min.js\":1,\"sites\\\\/all\\\\/themes\\\\/tds\\\\/scripts\\\\/vendor\\\\/jquery.sticky.js\":1,\"sites\\\\/all\\\\/themes\\\\/tds\\\\/scripts\\\\/jquery.newsTicker.min.js\":1,\"sites\\\\/all\\\\/themes\\\\/tds\\\\/scripts\\\\/jquery.matchHeight.js\":1,\"sites\\\\/all\\\\/themes\\\\/tds\\\\/scripts\\\\/equalHeight.js\":1,\"sites\\\\/all\\\\/themes\\\\/tds\\\\/scripts\\\\/date_format.js\":1,\"sites\\\\/all\\\\/themes\\\\/tds\\\\/scripts\\\\/custom.js\":1,\"sites\\\\/all\\\\/modules\\\\/contrib\\\\/picture\\\\/picturefill\\\\/picturefill.min.js\":1,\"sites\\\\/all\\\\/modules\\\\/contrib\\\\/picture\\\\/picture.min.js\":1,\"sites\\\\/all\\\\/themes\\\\/tds\\\\/scripts\\\\/share.js\":1,\"sites\\\\/all\\\\/libraries\\\\/lightGallery\\\\/js\\\\/lightgallery.min.js\":1,\"sites\\\\/all\\\\/libraries\\\\/lightGallery\\\\/plugins\\\\/lg-thumbnail.min.js\":1,\"sites\\\\/all\\\\/themes\\\\/tds\\\\/scripts\\\\/image_popup.js\":1,\"sites\\\\/all\\\\/modules\\\\/custom\\\\/anon_news\\\\/widgets\\\\/special\\\\/top_news_list\\\\/top_news_list.js\":1,\"sites\\\\/all\\\\/modules\\\\/custom\\\\/anon_news\\\\/widgets\\\\/news_details\\\\/video_latest_stories\\\\/video_latest_stories.js\":1,\"\\\\/\\\\/ajax.googleapis.com\\\\/ajax\\\\/libs\\\\/jquery\\\\/1.10.2\\\\/jquery.min.js\":1,\"misc\\\\/jquery-extend-3.4.0.js\":1,\"misc\\\\/jquery.once.js\":1,\"misc\\\\/drupal.js\":1,\"sites\\\\/all\\\\/modules\\\\/contrib\\\\/picture\\\\/lazysizes\\\\/lazysizes.min.js\":1,\"sites\\\\/all\\\\/modules\\\\/contrib\\\\/picture\\\\/lazysizes\\\\/plugins\\\\/aspectratio\\\\/ls.aspectratio.min.js\":1}},\"colorbox\":{\"transition\":\"fade\",\"speed\":\"350\",\"opacity\":\"0.85\",\"slideshow\":false,\"slideshowAuto\":true,\"slideshowSpeed\":\"2500\",\"slideshowStart\":\"start slideshow\",\"slideshowStop\":\"stop slideshow\",\"current\":\"{current} of {total}\",\"previous\":\"\\\\u00ab Prev\",\"next\":\"Next \\\\u00bb\",\"close\":\"Close\",\"overlayClose\":true,\"returnFocus\":true,\"maxWidth\":\"99%\",\"maxHeight\":\"99%\",\"initialWidth\":\"300\",\"initialHeight\":\"250\",\"fixed\":true,\"scrolling\":true,\"mobiledetect\":true,\"mobiledevicewidth\":\"480px\"},\"webform_embed_base_path\":\"https:\\\\/\\\\/online.thedailystar.net\",\"googleanalytics\":{\"trackOutbound\":1,\"trackMailto\":1,\"trackDownload\":1,\"trackDownloadExtensions\":\"7z|aac|arc|arj|asf|asx|avi|bin|csv|doc(x|m)?|dot(x|m)?|exe|flv|gif|gz|gzip|hqx|jar|jpe?g|js|mp(2|3|4|e?g)|mov(ie)?|msi|msp|pdf|phps|png|ppt(x|m)?|pot(x|m)?|pps(x|m)?|ppam|sld(x|m)?|thmx|qtm?|ra(m|r)?|sea|sit|tar|tgz|torrent|txt|wav|wma|wmv|wpd|xls(x|m|b)?|xlt(x|m)|xlam|xml|z|zip\",\"trackColorbox\":1,\"trackUrlFragments\":1},\"urlIsAjaxTrusted\":{\"\\\\/business\\\\/news\\\\/can-bangladesh-challenge-vietnam-japans-ict-market-1977097\":true},\"adaptivetheme\":{\"tds\":{\"layout_settings\":{\"bigscreen\":\"three-col-grail\",\"tablet_landscape\":\"three-col-grail\",\"tablet_portrait\":\"one-col-vert\",\"smalltouch_landscape\":\"one-col-vert\",\"smalltouch_portrait\":\"one-col-stack\"},\"media_query_settings\":{\"bigscreen\":\"only screen\",\"tablet_landscape\":\"only screen and (min-width:769px) and (max-width:1024px)\",\"tablet_portrait\":\"only screen and (min-width:581px) and (max-width:768px)\",\"smalltouch_landscape\":\"only screen and (min-width:321px) and (max-width:580px)\",\"smalltouch_portrait\":\"only screen and (max-width:320px)\"}}}});\\n//--><!]]>\\n</script>\\n<script async src=\"//pagead2.googlesyndication.com/pagead/js/adsbygoogle.js\"></script>\\n<script type=\"application/ld+json\">\\n  {\"@context\":\\n    \"http://schema.org\",\"@type\": \"Organization\",\\n    \"name\": \"The Daily Star\",\\n    \"description\": \"The Daily Star, Bangladeshi leading English newspaper updates 24/7 national &amp; international breaking News. Get latest news from credible English newspaper.\",\\n    \"url\": \"https://www.thedailystar.net/\",\\n    \"logo\": \"https://www.thedailystar.net/sites/all/themes/tds/logo.png\",\\n    \"address\": {\"streetAddress\": \"64-65, Kazi Nazrul Islam Avenue\",\"addressLocality\": \"Dhaka\",\"addressRegion\": \"Dhaka\",\"postalCode\": \"1215\",\"addressCountry\": \"Bangladesh\"},\\n    \"telephone\": \"029144330\",\\n    \"faxNumber\": \"8125155\",\\n    \"sameAs\": [\"https://www.facebook.com/dailystarnews\",\"https://twitter.com/dailystarnews\",\"https://www.linkedin.com/company/the-daily-star-bd\"]\\n  }\\n</script>\\n</head>\\n<body class=\"html not-front not-logged-in no-sidebars page-node page-node- page-node-1977097 node-type-news page detailed site-name-hidden atr-7.x-3.x atv-7.x-3.2 site-name-the-daily-star section-business\">\\n  <div id=\"skip-link\" class=\"nocontent\">\\n    <a href=\"#main-content\" class=\"element-invisible element-focusable\">Skip to main content</a>\\n  </div>\\n  <div id=\"___tdspushdiv\"></div>\\n    <div id=\"fb-root\"></div>\\n<header id=\"header\" class=\"header\">\\n  <div class=\"header-top\">\\n    <div class=\"container\">\\n      <div class=\"row\">\\n        \\n        <div class=\"logo two-25 pull-left page-title no-border\">\\n                                    <a href=\"/\"><img class=\"site-logo\" src=\"https://assetsds.cdnedge.bluemix.net/sites/all/themes/tds/logo.svg\" alt=\"The Daily Star\" /></a>              \\n          \\n          <div class=\"region region-header-left\"><div class=\"region-inner clearfix\"><div id=\"block-block-2\" class=\"block block-block header-date-wrapper no-title odd first last block-count-1 block-region-header-left block-2\" ><div class=\"block-inner clearfix\">  \\n  \\n  <div class=\"block-content content\"><date class=\"site-date\"></date><div class=\"date-beside uppercase\">Your right to know</div></div>\\n  </div></div></div></div>        </div>\\n\\n        <div class=\"top-add pull-right two-75 align-right\">\\n          <div class=\"region region-header-right\"><div class=\"region-inner clearfix\"><div id=\"block-dfp-global-top-right-leaderboard\" class=\"block block-dfp overflow-hidden no-title odd first last block-count-2 block-region-header-right block-global-top-right-leaderboard\" ><div class=\"block-inner clearfix\">  \\n  \\n  <div class=\"block-content content\"><div id=\"dfp-ad-global_top_right_leaderboard-wrapper\" class=\"dfp-tag-wrapper\">\\n<div  id=\"dfp-ad-global_top_right_leaderboard\" class=\"dfp-tag-wrapper\">\\n    <script type=\"text/javascript\">\\n    googletag.cmd.push(function() {\\n      googletag.display(\"dfp-ad-global_top_right_leaderboard\");\\n    });\\n  </script>\\n</div>\\n</div></div>\\n  </div></div></div></div>        </div>\\n      </div>\\n    </div>\\n  </div>\\n\\n  <div class=\"header-bottom\">\\n    <div class=\"container\">\\n      <div class=\"row\">\\n        <div id=\"menu-bar\" class=\"nav clearfix\"><section id=\"block-misc-misc-main-menu\" class=\"block block-misc main-nav menu-wrapper menu-bar-wrapper clearfix odd first last block-count-3 block-region-menu-bar block-misc-main-menu\" >  \\n  <ul class=\"menu\"><li class=\"d-hide tm-show mobile-search\"><form method=\"get\" action=\"/google/search\"><input type=\"submit\" class=\"m-search-submit\" value=\"\"><input type=\"text\" name=\"search\" placeholder=\"type your keyword\" class=\"m-search-text\"/></form></li><li class=\"leaf menu-mlid-1162 home\"><a href=\"/\"><i class=\"fa fa-home\"></i></a></li><li class=\"leaf menu-mlid-1085\"><a href=\"/newspaper\">Newspaper</a></li><li class=\"leaf menu-mlid-813\"><a href=\"/business\">Business</a></li><li class=\"leaf menu-mlid-815\"><a href=\"/opinion\">Opinion</a></li><li class=\"leaf menu-mlid-814\"><a href=\"/sports\">Sports</a></li><li class=\"leaf menu-mlid-816\"><a href=\"/arts-entertainment\">A &amp; E</a></li><li class=\"leaf menu-mlid-817\"><a href=\"/lifestyle\">Lifestyle</a></li><li class=\"leaf menu-mlid-9832\"><a href=\"/toggle\">Toggle</a></li><li class=\"leaf menu-mlid-821\"><a href=\"/showbiz\">Showbiz</a></li><li class=\"leaf menu-mlid-822\"><a href=\"/shout\">Shout</a></li><li class=\"leaf menu-mlid-9841\"><a href=\"/satireday\">Satireday</a></li><li class=\"leaf menu-mlid-7660\"><a href=\"/star-youth\">Star Youth</a></li><li class=\"leaf menu-mlid-819\"><a href=\"http://epaper.thedailystar.net\" target=\"_blank\">epaper</a></li><li class=\"expanded menu-mlid-913\"><a href=\"/sections\">All Sections</a><span class=\"icon-drop-down\"></span><ul class=\"menu\"><li class=\"first leaf menu-mlid-1531\"><a href=\"/multimedia\">Multimedia</a></li><li class=\"leaf menu-mlid-1532\"><a href=\"/star-live\">Star Live</a></li><li class=\"leaf menu-mlid-925\"><a href=\"/star-weekend\">Star Weekend</a></li><li class=\"leaf menu-mlid-1457\"><a href=\"/world\">World</a></li><li class=\"leaf menu-mlid-3940\"><a href=\"/spaces\">Spaces</a></li><li class=\"leaf menu-mlid-919\"><a href=\"/shift\">Shift</a></li><li class=\"leaf menu-mlid-818\"><a href=\"/bytes\">Bytes</a></li><li class=\"leaf menu-mlid-915\"><a href=\"/next-step\">Next Step</a></li><li class=\"leaf menu-mlid-820\"><a href=\"/in-focus\">In Focus</a></li><li class=\"leaf menu-mlid-920\"><a href=\"/literature\">Literature</a></li><li class=\"leaf menu-mlid-921\"><a href=\"/book-reviews\">Book Reviews</a></li><li class=\"leaf menu-mlid-922\"><a href=\"/health\">Health</a></li><li class=\"leaf menu-mlid-923\"><a href=\"/science\">Science</a></li><li class=\"leaf menu-mlid-924\"><a href=\"/law-our-rights\">Law &amp; Our Rights</a></li><li class=\"leaf menu-mlid-926\"><a href=\"/wide-angle\">Wide Angle</a></li><li class=\"leaf menu-mlid-927\"><a href=\"/environment\">Environment</a></li><li class=\"leaf menu-mlid-928\"><a href=\"/travel\">Travel</a></li><li class=\"leaf menu-mlid-5524\"><a href=\"/city\">City</a></li><li class=\"leaf menu-mlid-5527\"><a href=\"/country\">Country</a></li><li class=\"leaf menu-mlid-929\"><a href=\"/supplements\">Supplements</a></li><li class=\"last leaf menu-mlid-1323\"><a href=\"/round-tables\">Round Tables</a></li></ul></li><li class=\"search tm-hide\"><a href=\"/google/search\"><img src=\"https://assetsds.cdnedge.bluemix.net/sites/all/themes/tds/images/icon-search.png\" alt=\"Search\"></a></li><li class=\"last leaf menu-mlid-9298 bg-red bangla-menu-item\"><a href=\"http://www.thedailystar.net/bangla/\" target=\"_blank\">\\xe0\\xa6\\xac\\xe0\\xa6\\xbe\\xe0\\xa6\\x82\\xe0\\xa6\\xb2\\xe0\\xa6\\xbe</a></li></ul>\\n  </section></div>      </div>\\n    </div>\\n  </div>\\n</header>\\n\\n<div class=\"content\">\\n  \\n  \\n  <section id=\"main-content\" class=\"clearfix\">\\n        <div id=\"block-system-main\" class=\"block block-system no-title odd first last block-count-4 block-region-content block-main\" >  \\n  \\n  <div class=\"full-width detailed-page\" itemscope itemtype =\"http://schema.org/NewsArticle\">\\n  <div class=\"container detailed-header zero-bottom\">\\n    <div class=\"panel-pane pane-top no-title block\">\\n  \\n      \\n  \\n  <meta itemscope itemprop=\"mainEntityOfPage\"  itemType=\"https://schema.org/WebPage\" itemid=\"https://google.com/article\"/>\\n\\n<div class=\"breadcrumb\" itemscope itemtype=\"http://schema.org/BreadcrumbList\">\\n      <span itemprop=\"itemListElement\" itemscope itemtype=\"http://schema.org/ListItem\">\\n      <a href=\"/\" itemprop=\"item\"><span itemprop=\"name\">Home</span></a>    </span>\\n          <i class=\"fa fa-angle-double-right\" style=\"padding: 0 7px;\"></i>\\n          <span itemprop=\"itemListElement\" itemscope itemtype=\"http://schema.org/ListItem\">\\n      <a href=\"/business\" itemprop=\"item\"><span itemprop=\"name\">Business</span></a>    </span>\\n      </div>\\n\\n<div class=\"small-text\">\\n  <meta itemprop=\"datePublished\" content=\"2020-10-13T00:00:00+06:00\">\\n  <meta itemprop=\"dateModified\" content=\"2020-10-13T00:00:00+06:00\">\\n  12:00 AM, October 13, 2020 / LAST MODIFIED: 02:04 AM, October 13, 2020</div>\\n\\n\\n<h1 itemprop=\"headline\">Can Bangladesh challenge Vietnam in Japan\\xe2\\x80\\x99s ICT market?</h1>\\n\\n<div itemprop=\"publisher\" itemscope itemtype=\"https://schema.org/Organization\">\\n  <div itemprop=\"logo\" itemscope itemtype=\"https://schema.org/ImageObject\">\\n  <meta itemprop=\"url\" content=\"https://www.thedailystar.net/sites/all/themes/tds/logo.png\">\\n    <meta itemprop=\"width\" content=\"275\">\\n    <meta itemprop=\"height\" content=\"49\">\\n  </div>\\n  <meta itemprop=\"name\" content=\"The Daily Star\">\\n</div>\\n\\n<meta itemprop=\"description\" content=\"Starting in the early 90\\xe2\\x80\\x99s, Bangladesh\\xe2\\x80\\x99s IT industry was reborn in 2009, when Prime Minister Sheikh Hasina declared the Digital Bangladesh programme on December 12 in 2008.\\r\\n\\r\\n\">\\n\\n\\n  \\n  \\n</div>\\n<div class=\"panel-separator\"></div><div class=\"panel-pane pane-block pane-block-7 in-news d-hide tm-show pane-block no-title block\">\\n  \\n      \\n  \\n  <script type=\"text/javascript\" src=\"//s7.addthis.com/js/300/addthis_widget.js#pubid=ra-5d1072ada1b6c266\"></script>\\n<div class=\"addthis_inline_share_toolbox\"></div>\\n\\n<style>\\n.at4-jumboshare .at4-count-container{ display: none important; padding: 0 !important; opacity: 0; }\\n</style>\\n  \\n  \\n</div>\\n  </div>\\n  <div class=\"container detailed-body\">\\n    <div class=\"row\">\\n      <div class=\"detailed-content\">\\n        <div class=\"panel-pane pane-image no-title block\">\\n  \\n      \\n  \\n  <div class=\"featured-image lg-gallery with-content pull-right\" itemprop=\"image\" itemscope itemtype=\"https://schema.org/ImageObject\" data-src=\"https://assetsds.cdnedge.bluemix.net/sites/default/files/styles/very_big_1/public/feature/images/the-young-energetic-and-enthused-talent-pool.jpg?itok=3ee8eJjo\" data-sub-html=\"<div class=\\'lg-caption\\'>The young, energetic and enthused talent pool can be a game changer for Bangladesh. Photo: Collected</div>\">\\n      <img class=\"image-style-big-2\" src=\"https://assetsds.cdnedge.bluemix.net/sites/default/files/styles/big_2/public/feature/images/the-young-energetic-and-enthused-talent-pool.jpg?itok=-j1850Nu&amp;c=ff3b437ac0e733728ae061f61e287be8\" alt=\"\" />        <div class=\"caption\" itemprop=\"caption\">The young, energetic and enthused talent pool can be a game changer for Bangladesh. Photo: Collected</div>\\n    <meta itemprop=\"url\" content=\"https://assetsds.cdnedge.bluemix.net/sites/default/files/styles/big_2/public/feature/images/the-young-energetic-and-enthused-talent-pool.jpg?itok=-j1850Nu\">\\n  <meta itemprop=\"width\" content=\"2100\">\\n  <meta itemprop=\"height\" content=\"1400\">\\n</div>\\n\\n  \\n  \\n</div>\\n<div class=\"panel-separator\"></div><div class=\"panel-pane pane-author no-title block\">\\n  \\n      \\n  \\n    <div class=\"author-name margin-bottom-big\" itemprop=\"author\" itemscope itemtype=\"https://schema.org/Person\">\\n    <span itemprop=\"name\"><a href=\"/author/rashad-kabir\">Rashad Kabir</a></span>\\n  </div>\\n\\n  \\n  \\n</div>\\n<div class=\"panel-separator\"></div><div class=\"panel-pane pane-node-content clearfix no-title block\">\\n  \\n      \\n  \\n  <article id=\"node-1977097\" class=\"node node-news node-pub_fbia article odd node-full clearfix\" role=\"article\">\\n  <div class=\"node-content\">\\n\\n        \\n          \\n  <div class=\"field-body view-mode-full\">\\n    \\n<p>Starting in the early 90\\'s, Bangladesh\\'s IT industry was reborn in 2009, when Prime Minister Sheikh Hasina declared the Digital Bangladesh programme on December 12 in 2008.</p>\\n<p>From that day onwards, a country whose economy is heavily dependent on the RMG sector and remittance from non-resident Bangladeshis, started to think of a new sector which could be the main pillar of economy by 2030.</p>\\n<p>This sector would have to be an industry that consists of innovation and brain work rather than conventional physical labour.</p>\\n<p>There is no doubt that the fourth industrial revolution (4IR) will bring challenges to the garment sector in the coming days due to the introduction of robotics and AI at the factory level.</p>\\n<p>This means that Bangladesh will no longer be able to leverage the advantage of low-cost labour.</p><div class=\"mobile-adv-in-body pull-left pad-left-right-big gero-left pad-bottom-small\"><div id=\"dfp-ad-news_details_after_2nd_paragraph-wrapper\" class=\"dfp-tag-wrapper\">\\n<div  id=\"dfp-ad-news_details_after_2nd_paragraph\" class=\"dfp-tag-wrapper\">\\n    <script type=\"text/javascript\">\\n    googletag.cmd.push(function() {\\n      googletag.display(\"dfp-ad-news_details_after_2nd_paragraph\");\\n    });\\n  </script>\\n</div>\\n</div></div>\\n<p>Considering these factors, the government is now seriously thinking about increasing the IT and ITES exports and developing more skilled human resources in this sector.</p>\\n<p>The government has already declared a target to export $1 billion IT and ITES products by 2018 and $5 billion by 2024.</p>\\n<p>To achieve this target, Bangladesh has to be very strategic and focused. Japan could be a very good market for the local IT and ITES industry in the coming decade. The Bangladesh Association of Software and Information Services (BASIS), the apex trade body for the local IT and ITES industry, is considering Japan as the most promising market.</p>\\n<p>BASIS, in collaboration with the ICT division, started to work in the Japan market in 2015.</p>\\n<p>Bangladesh participated in the Japan IT week every year since 2015, arranged a number of seminars and B2B sessions both in Bangladesh and Japan and last year, BASIS also celebrated a special day titled \\'Japan Day\\' during the BASIS SoftExpo, with a focus on strengthening the ICT relationship between these two countries.</p>\\n<p>Aside from all this, this year BASIS launched a special desk called the \\'BASIS Japan Desk\\', which is the first country-based trade focus desk in the country\\'s history.</p>\\n<p>BASIS also has a plan to establish another desk in Japan that will be called \\'Bangladesh Desk\\', a proposal for which has already been sent to the ministry concerned.</p>\\n<p>The main reason Bangladesh is considering Japan with special care and importance is the diplomatic relationship and also the demographic dividend of the two countries, from which Bangladesh can leverage the advantage.\\xc2\\xa0</p>\\n<p>Ever since Bangladesh gained independence, Japan has been the biggest development partner for the country. The Metrorail project, Matarbari coal power plant project, extension of a third terminal at Hazrat Shahjalal International Airport and many other mega projects are being implemented through Japanese investment.</p>\\n<p>The government has also declared a special economic zone in Araihazar Narayanganj solely for Japanese investors and companies.</p>\\n<p>But aside from diplomatic relations, the opportunity that is going to be created in the Japan IT market in the coming days is due to demographic dividend and Bangladesh is in a very good position to grab this opportunity using its young population and diplomatic relation.</p>\\n<p>In Japan, the average age of 70 per cent of the population is 65, whereas it is just the opposite in Bangladesh.</p>\\n<p>In average, 70 per cent of our population is below 35 while 50 per cent is below 25.</p>\\n<p>This young, energetic and enthused talent pool can be a game changer for Bangladesh. Statistics from the Japan International Corporation Agency (JICA) suggests that by 2025, there will be a shortage of 425,000 engineers in the Japanese market.</p>\\n<p>Now the question is can Bangladesh take this opportunity?</p>\\n<p>The biggest competitor for Bangladesh in Japan is definitely going to be Vietnam. Due to the early moves in Japan market and also due to the language advantage, Vietnam is currently in a better position than Bangladesh in this regard.</p>\\n<p>To work in Japan, language is the main barrier as Japanese people are often not fluent in English and prefer to deal with companies who have Japanese language speaking skills.</p>\\n<p>In Vietnam, children learn Japanese language from the school level. With rapid progress in IT development in the past, Vietnam ranks highly in the world map of IT.</p>\\n<p>It holds the number one spot in the field of global outsourcing software services and also ranks first in the mobile application economy index of ASEAN countries. In fact, most Japanese companies who are doing off-shore development has experience of working with Vietnamese companies in one way or the other.</p>\\n<p>But when we deal with conventional technology like web application development, mobile application development or customised software development, there is not that much of a difference in quality and skills between a Bangladeshi engineer and a Vietnamese engineer.</p>\\n<p>But when speaking of advanced technology like artificial intelligence, block chain, big data, IOT or robotics, the skills of a Bangladeshi engineer will definitely be in advantageous position compared to a Vietnamese one.</p>\\n<p>It has been seen historically proven that children in countries of south east Asia are very skilled in logic and number problems by dint of birth. Technologies of the 4IR like artificial intelligence, block chain or robotics are nothing but a game of logic and numbers.</p>\\n<p>Besides, the government has also taken several initiatives to increase foreign investment in the country. Bangladesh has a plan to develop 28 hi-tech parks all around the country.</p>\\n<p>Some of these parks are in the development phase while others are already in operations.</p>\\n<p>The government also plans to develop one park exclusively for Japanese companies and Japanese investors.</p>\\n<p>It is well-known that the present government has also provided various facilities to promote and scale up the ICT industry. IT and ITES companies are enjoying full tax exemption facilities for until 2024.</p>\\n<p>Not only that, but the government has also been providing 10 per cent cash incentive for IT and ITES companies since 2017. The facility is even applicable for the foreign companies invested in Bangladesh.</p>\\n<p>On top of that, companies can also enjoy 100 per cent repatriation facilities for both profit and capital. Bangladesh is also an attractive destination for foreign investment and as outsourcing destination because of its cheap infrastructure.</p>\\n<p>According to a report of the A.T Kearney Global Service Index, Bangladesh is the number 1 country in terms of cost competitiveness and 26th best location regarding financial attractiveness.</p>\\n<p>The costs of developing infrastructure in Bangladesh is approximately 40 per cent lower than in India, Vietnam and the Philippines. Therefore, it is now time to promote these facilities offered by Bangladesh as we always lag behind in branding and promotion.</p>\\n<p>Bangladesh could also be in a more advantageous position than Vietnam as local companies can acquire additional workers if a project scales up.</p>\\n<p>To this end, credit goes to both public and private universities as thanks to their combined efforts, Bangladesh now produces 20,000 skilled ICT resources every year.</p>\\n<p>The government has also introduced several projects and training courses to build up skilled resources for the Japanese market. One of the projects is the Bangladesh-Japan ICT Engineers\\' Training Programme, where students are taught Japanese language and etiquettes along with technologies.</p>\\n<p>Some students have already graduated from the course and secured jobs in the Japan market and are doing really well. But the number of students producing per batch is not even close to the demand of our market.</p>\\n<p>Another point is that Bangladesh needs to produce an adequate number of graduates that are skilled in emerging technologies in order to take a hold of this attractive market.</p>\\n<p>In summation, it can be said that it\\'s the action of today that will decide what our position will be in the Japanese market in the coming decades.</p>\\n<p>If the government and private industries can work hand in hand to take the right decisions at the right time, Bangladesh will be the thriving player in this market in coming days and we can achieve our export target way before the deadline.</p>\\n<p>\\xc2\\xa0</p>\\n<p>The author is the managing director of Dream71 Bangladesh and a director of the Bangladesh Association of Software and Information Services.</p>\\n\\n  </div>\\n    \\n    \\n  </div>\\n</article>\\n\\n  \\n  \\n</div>\\n<div class=\"panel-separator\"></div><div class=\"panel-pane pane-block pane-dfp-tds-news-details-bottom margin-bottom-small pane-dfp no-title block\">\\n  \\n      \\n  \\n  <div id=\"dfp-ad-tds_news_details_bottom-wrapper\" class=\"dfp-tag-wrapper\">\\n<div  id=\"dfp-ad-tds_news_details_bottom\" class=\"dfp-tag-wrapper\">\\n    <script type=\"text/javascript\">\\n    googletag.cmd.push(function() {\\n      googletag.display(\"dfp-ad-tds_news_details_bottom\");\\n    });\\n  </script>\\n</div>\\n</div>\\n  \\n  \\n</div>\\n<div class=\"panel-separator\"></div><div class=\"panel-pane pane-custom pane-1 no-title block\">\\n  \\n      \\n  \\n  <h3>Stay updated on the go with <a href=\"https://www.thedailystar.net\">The Daily Star</a> Android &amp; iOS <a class=\"color-blue\" href=\"https://www.thedailystar.net/apps-upgrade/index.html\">News App</a>. <a class=\"color-blue\" href=\"https://www.thedailystar.net/apps-upgrade/index.html\">Click  here</a> to download it for your device.</h3>\\n\\n<div class=\"border-right-inner  pad-all-small bg-sky margin-bottom-small centered\">\\n    <div class=\"centered clearfix\"><h4 class=\"margin-bottom-zero\"><a href=\"/sms-subscription\" class=\"centered\"><strong class=\"border-bottom\">The Daily Star <span class=\"color-red\">Breaking news </span>alert on your phone</strong></a></h4>\\n    </div>\\n    <div class=\"two-50 margin-bottom-zero\">\\n        <p class=\"margin-bottom-zero\">Grameenphone:<br>Type <span class=\"color-orange\">START</span> &lt;space&gt; <span class=\"color-orange\">BR</span> and send SMS it to <strong class=\"color-orange\">22222</strong></p>\\n    </div>\\n    <div class=\"two-50  margin-bottom-zero\">\\n        <p class=\"margin-bottom-zero\">Robi:<br>Type <span class=\"color-orange\">START</span> &lt;space&gt; <span class=\"color-orange\">BR</span> and send SMS it to <strong class=\"color-orange\">2222</strong></p>\\n    </div>\\n    <div class=\"clearfix\"><br></div>\\n    <div class=\"centered\">\\n\\t\\t<p class=\"margin-bottom-zero\">Banglalink:<br>Type <span class=\"color-orange\">START</span> &lt;space&gt; <span class=\"color-orange\">BR</span> and send SMS it to <strong class=\"color-orange\">2225</strong></p> \\t<div class=\"color-blue\"><em><a href=\"/sms-subscription\">Find more information on SMS subscription</a></em></div>\\n    </div>\\n</div>\\n  \\n  \\n</div>\\n<div class=\"panel-separator\"></div><div class=\"panel-pane pane-block pane-dfp-79e96a7b9aee952cc6d79a0b4d0a504a margin-bottom-big overflow-hidden pane-dfp no-title block\">\\n  \\n      \\n  \\n  <div id=\"dfp-ad-news_detail_after_body720x300_300x250-wrapper\" class=\"dfp-tag-wrapper\">\\n<div  id=\"dfp-ad-news_detail_after_body720x300_300x250\" class=\"dfp-tag-wrapper\">\\n    <script type=\"text/javascript\">\\n    googletag.cmd.push(function() {\\n      googletag.display(\"dfp-ad-news_detail_after_body720x300_300x250\");\\n    });\\n  </script>\\n</div>\\n</div>\\n  \\n  \\n</div>\\n<div class=\"panel-separator\"></div><div class=\"panel-pane pane-custom pane-2 no-title block\">\\n  \\n      \\n  \\n  <div class=\"border-heading margin-bottom-zero\">\\n<h4>Leave your comments</a></h4>\\n<div class=\"comment-policy pull-right uppercase\"><a href=\"/comment-policy\" target=\"_blank\">Comment Policy </a></div>\\n</div>\\n<div class=\"fb-comments\" data-href=\"http://www.thedailystar.net/business/news/can-bangladesh-challenge-vietnam-japans-ict-market-1977097\" data-numposts=\"5\" data-width=\"100%\"></div>\\n  \\n  \\n</div>\\n<div class=\"panel-separator\"></div><div class=\"panel-pane pane-custom pane-3 d-hide tm-show no-title block\">\\n  \\n      \\n  \\n  <div class=\"border-heading\">\\n  <h4>Top News</h4>\\n</div>\\n<div class=\"pad-top-bottom-small\">\\n  <ul class=\"list-type-bullet more-stories-list top-news-list\">\\n  </ul>\\n  <a href=\"/top-news\" class=\"more-stories more-stories-sa uppercase\">View More</a>\\n</div>\\n  \\n  \\n</div>\\n<div class=\"panel-separator\"></div><div class=\"panel-pane pane-most-popular clearfix no-title block\">\\n  \\n      \\n  \\n  <div class=\"most-popular-stories\">\\n  <div class=\"tab\">\\n    <ul class=\"tab-nav tab-solid\">\\n              <li><a href=\"#\">Most Popular Stories</a></li>\\n              <li><a href=\"#\">Popular In Business</a></li>\\n          </ul>\\n\\n          <div class=\"section-tab-item\">\\n        <ul>\\n                      <li>\\n                              <a href=\"/arts-entertainment/news/new-chapter-begins-shomi-kaiser-1975525\" class=\"thumb-img pull-left\"><picture >\\n<!--[if IE 9]><video style=\"display: none;\"><![endif]-->\\n<source data-srcset=\"https://assetsds.cdnedge.bluemix.net/sites/default/files/styles/small_5/public/feature/images/121103318_10224190704817798_8333065682406590587_n.jpg?itok=F0OdNjX3 1x\" data-aspectratio=\"125/87\" media=\"(min-width: 1024px)\" />\\n<!--[if IE 9]></video><![endif]-->\\n<!--[if lt IE 9]>\\n<img  class=\"lazyload\" data-aspectratio=\"\" data-src=\"https://assetsds.cdnedge.bluemix.net/sites/default/files/styles/small_5/public/feature/images/121103318_10224190704817798_8333065682406590587_n.jpg?itok=F0OdNjX3\" alt=\"A new chapter begins for Shomi Kaiser \" title=\"\" />\\n<![endif]-->\\n<!--[if !lt IE 9]><!-->\\n<img  class=\"lazyload\" data-aspectratio=\"\" data-srcset=\"https://assetsds.cdnedge.bluemix.net/sites/default/files/styles/small_5/public/feature/images/121103318_10224190704817798_8333065682406590587_n.jpg?itok=F0OdNjX3 125w\" alt=\"A new chapter begins for Shomi Kaiser \" title=\"\" />\\n<!-- <![endif]-->\\n</picture></a>                            <h5><a href=\"/arts-entertainment/news/new-chapter-begins-shomi-kaiser-1975525\">A new chapter begins for Shomi Kaiser </a></h5>\\n            </li>\\n                      <li>\\n                              <a href=\"/arts-entertainment/news/epic-fail-ananta-jalils-lesson-rapists-descends-victim-blaming-1976113\" class=\"thumb-img pull-left\"><picture >\\n<!--[if IE 9]><video style=\"display: none;\"><![endif]-->\\n<source data-srcset=\"https://assetsds.cdnedge.bluemix.net/sites/default/files/styles/small_5/public/feature/images/121257436_371407030890111_2281119939345136054_n.jpg?itok=6K8vmPCm 1x\" data-aspectratio=\"125/87\" media=\"(min-width: 1024px)\" />\\n<!--[if IE 9]></video><![endif]-->\\n<!--[if lt IE 9]>\\n<img  class=\"lazyload\" data-aspectratio=\"\" data-src=\"https://assetsds.cdnedge.bluemix.net/sites/default/files/styles/small_5/public/feature/images/121257436_371407030890111_2281119939345136054_n.jpg?itok=6K8vmPCm\" alt=\"Ananta Jalil&#039;s \\xe2\\x80\\x98lesson\\xe2\\x80\\x99 for rapists descends into victim-blaming\" title=\"\" />\\n<![endif]-->\\n<!--[if !lt IE 9]><!-->\\n<img  class=\"lazyload\" data-aspectratio=\"\" data-srcset=\"https://assetsds.cdnedge.bluemix.net/sites/default/files/styles/small_5/public/feature/images/121257436_371407030890111_2281119939345136054_n.jpg?itok=6K8vmPCm 125w\" alt=\"Ananta Jalil&#039;s \\xe2\\x80\\x98lesson\\xe2\\x80\\x99 for rapists descends into victim-blaming\" title=\"\" />\\n<!-- <![endif]-->\\n</picture></a>                            <h5><a href=\"/arts-entertainment/news/epic-fail-ananta-jalils-lesson-rapists-descends-victim-blaming-1976113\">Ananta Jalil\\'s \\xe2\\x80\\x98lesson\\xe2\\x80\\x99 for rapists descends into victim-blaming</a></h5>\\n            </li>\\n                      <li>\\n                              <a href=\"/country/news/rab-arrests-youth-facebook-posts-against-anti-rape-protests-inciting-rape-1976101\" class=\"thumb-img pull-left\"><picture >\\n<!--[if IE 9]><video style=\"display: none;\"><![endif]-->\\n<source data-srcset=\"https://assetsds.cdnedge.bluemix.net/sites/default/files/styles/small_5/public/feature/images/rab-web_11.jpg?itok=MCcYEjiy 1x\" data-aspectratio=\"125/87\" media=\"(min-width: 1024px)\" />\\n<!--[if IE 9]></video><![endif]-->\\n<!--[if lt IE 9]>\\n<img  class=\"lazyload\" data-aspectratio=\"\" data-src=\"https://assetsds.cdnedge.bluemix.net/sites/default/files/styles/small_5/public/feature/images/rab-web_11.jpg?itok=MCcYEjiy\" alt=\"Rab arrests youth for Facebook posts against anti-rape protests, inciting rape\" title=\"\" />\\n<![endif]-->\\n<!--[if !lt IE 9]><!-->\\n<img  class=\"lazyload\" data-aspectratio=\"\" data-srcset=\"https://assetsds.cdnedge.bluemix.net/sites/default/files/styles/small_5/public/feature/images/rab-web_11.jpg?itok=MCcYEjiy 125w\" alt=\"Rab arrests youth for Facebook posts against anti-rape protests, inciting rape\" title=\"\" />\\n<!-- <![endif]-->\\n</picture></a>                            <h5><a href=\"/country/news/rab-arrests-youth-facebook-posts-against-anti-rape-protests-inciting-rape-1976101\">Rab arrests youth for Facebook posts against anti-rape protests, inciting rape</a></h5>\\n            </li>\\n                      <li>\\n                              <a href=\"/arts-entertainment/news/i-wouldnt-be-the-person-i-am-today-without-my-mothers-support-apu-biswas-1975105\" class=\"thumb-img pull-left\"><picture >\\n<!--[if IE 9]><video style=\"display: none;\"><![endif]-->\\n<source data-srcset=\"https://assetsds.cdnedge.bluemix.net/sites/default/files/styles/small_5/public/feature/images/image0.jpeg?itok=FoT6iLS2 1x\" data-aspectratio=\"125/87\" media=\"(min-width: 1024px)\" />\\n<!--[if IE 9]></video><![endif]-->\\n<!--[if lt IE 9]>\\n<img  class=\"lazyload\" data-aspectratio=\"\" data-src=\"https://assetsds.cdnedge.bluemix.net/sites/default/files/styles/small_5/public/feature/images/image0.jpeg?itok=FoT6iLS2\" alt=\"\\xe2\\x80\\x9cI wouldn\\xe2\\x80\\x99t be the person that I am today, without my mother\\xe2\\x80\\x99s support\\xe2\\x80\\x9d - Apu Biswas\" title=\"\" />\\n<![endif]-->\\n<!--[if !lt IE 9]><!-->\\n<img  class=\"lazyload\" data-aspectratio=\"\" data-srcset=\"https://assetsds.cdnedge.bluemix.net/sites/default/files/styles/small_5/public/feature/images/image0.jpeg?itok=FoT6iLS2 125w\" alt=\"\\xe2\\x80\\x9cI wouldn\\xe2\\x80\\x99t be the person that I am today, without my mother\\xe2\\x80\\x99s support\\xe2\\x80\\x9d - Apu Biswas\" title=\"\" />\\n<!-- <![endif]-->\\n</picture></a>                            <h5><a href=\"/arts-entertainment/news/i-wouldnt-be-the-person-i-am-today-without-my-mothers-support-apu-biswas-1975105\">\\xe2\\x80\\x9cI wouldn\\xe2\\x80\\x99t be the person that I am today, without my mother\\xe2\\x80\\x99s support\\xe2\\x80\\x9d - Apu Biswas</a></h5>\\n            </li>\\n                      <li>\\n                              <a href=\"/business/news/hundreds-restaurants-dhaka-closed-good-1975961\" class=\"thumb-img pull-left\"><picture >\\n<!--[if IE 9]><video style=\"display: none;\"><![endif]-->\\n<source data-srcset=\"https://assetsds.cdnedge.bluemix.net/sites/default/files/styles/small_5/public/feature/images/hotel_2.jpg?itok=jMyD3HAp 1x\" data-aspectratio=\"125/87\" media=\"(min-width: 1024px)\" />\\n<!--[if IE 9]></video><![endif]-->\\n<!--[if lt IE 9]>\\n<img  class=\"lazyload\" data-aspectratio=\"\" data-src=\"https://assetsds.cdnedge.bluemix.net/sites/default/files/styles/small_5/public/feature/images/hotel_2.jpg?itok=jMyD3HAp\" alt=\"Hundreds of restaurants in Dhaka  closed for good \" title=\"\" />\\n<![endif]-->\\n<!--[if !lt IE 9]><!-->\\n<img  class=\"lazyload\" data-aspectratio=\"\" data-srcset=\"https://assetsds.cdnedge.bluemix.net/sites/default/files/styles/small_5/public/feature/images/hotel_2.jpg?itok=jMyD3HAp 125w\" alt=\"Hundreds of restaurants in Dhaka  closed for good \" title=\"\" />\\n<!-- <![endif]-->\\n</picture></a>                            <h5><a href=\"/business/news/hundreds-restaurants-dhaka-closed-good-1975961\">Hundreds of restaurants in Dhaka  closed for good </a></h5>\\n            </li>\\n                      <li>\\n                              <a href=\"/frontpage/news/nightmare-jordan-1976461\" class=\"thumb-img pull-left\"><picture >\\n<!--[if IE 9]><video style=\"display: none;\"><![endif]-->\\n<source data-srcset=\"https://assetsds.cdnedge.bluemix.net/sites/default/files/styles/small_5/public/feature/images/nazma-begum.jpg?itok=M3DMrk1b 1x\" data-aspectratio=\"125/87\" media=\"(min-width: 1024px)\" />\\n<!--[if IE 9]></video><![endif]-->\\n<!--[if lt IE 9]>\\n<img  class=\"lazyload\" data-aspectratio=\"\" data-src=\"https://assetsds.cdnedge.bluemix.net/sites/default/files/styles/small_5/public/feature/images/nazma-begum.jpg?itok=M3DMrk1b\" alt=\"Nightmare in Jordan\" title=\"\" />\\n<![endif]-->\\n<!--[if !lt IE 9]><!-->\\n<img  class=\"lazyload\" data-aspectratio=\"\" data-srcset=\"https://assetsds.cdnedge.bluemix.net/sites/default/files/styles/small_5/public/feature/images/nazma-begum.jpg?itok=M3DMrk1b 125w\" alt=\"Nightmare in Jordan\" title=\"\" />\\n<!-- <![endif]-->\\n</picture></a>                            <h5><a href=\"/frontpage/news/nightmare-jordan-1976461\">Nightmare in Jordan</a></h5>\\n            </li>\\n                      <li>\\n                              <a href=\"/frontpage/news/bangladesh-resume-flights-india-oct-28-1978109\" class=\"thumb-img pull-left\"><picture >\\n<!--[if IE 9]><video style=\"display: none;\"><![endif]-->\\n<source data-srcset=\"https://assetsds.cdnedge.bluemix.net/sites/default/files/styles/small_5/public/feature/images/flight_plane_aircraft_biman_4.jpg?itok=XVKeTPiB 1x\" data-aspectratio=\"125/87\" media=\"(min-width: 1024px)\" />\\n<!--[if IE 9]></video><![endif]-->\\n<!--[if lt IE 9]>\\n<img  class=\"lazyload\" data-aspectratio=\"\" data-src=\"https://assetsds.cdnedge.bluemix.net/sites/default/files/styles/small_5/public/feature/images/flight_plane_aircraft_biman_4.jpg?itok=XVKeTPiB\" alt=\"Bangladesh to resume flights to India Oct 28\" title=\"\" />\\n<![endif]-->\\n<!--[if !lt IE 9]><!-->\\n<img  class=\"lazyload\" data-aspectratio=\"\" data-srcset=\"https://assetsds.cdnedge.bluemix.net/sites/default/files/styles/small_5/public/feature/images/flight_plane_aircraft_biman_4.jpg?itok=XVKeTPiB 125w\" alt=\"Bangladesh to resume flights to India Oct 28\" title=\"\" />\\n<!-- <![endif]-->\\n</picture></a>                            <h5><a href=\"/frontpage/news/bangladesh-resume-flights-india-oct-28-1978109\">Bangladesh to resume flights to India Oct 28</a></h5>\\n            </li>\\n                      <li>\\n                              <a href=\"/frontpage/news/new-hsc-exam-grading-system-those-who-might-have-failed-become-lucky-bangladesh-1974733\" class=\"thumb-img pull-left\"><picture >\\n<!--[if IE 9]><video style=\"display: none;\"><![endif]-->\\n<source data-srcset=\"https://assetsds.cdnedge.bluemix.net/sites/default/files/styles/small_5/public/feature/images/hsc-failiur-chart.jpg?itok=2l-E_NQI 1x\" data-aspectratio=\"125/87\" media=\"(min-width: 1024px)\" />\\n<!--[if IE 9]></video><![endif]-->\\n<!--[if lt IE 9]>\\n<img  class=\"lazyload\" data-aspectratio=\"\" data-src=\"https://assetsds.cdnedge.bluemix.net/sites/default/files/styles/small_5/public/feature/images/hsc-failiur-chart.jpg?itok=2l-E_NQI\" alt=\"New HSC Grading System: Those who might have failed lucky\" title=\"\" />\\n<![endif]-->\\n<!--[if !lt IE 9]><!-->\\n<img  class=\"lazyload\" data-aspectratio=\"\" data-srcset=\"https://assetsds.cdnedge.bluemix.net/sites/default/files/styles/small_5/public/feature/images/hsc-failiur-chart.jpg?itok=2l-E_NQI 125w\" alt=\"New HSC Grading System: Those who might have failed lucky\" title=\"\" />\\n<!-- <![endif]-->\\n</picture></a>                            <h5><a href=\"/frontpage/news/new-hsc-exam-grading-system-those-who-might-have-failed-become-lucky-bangladesh-1974733\">New HSC Grading System: Those who might have failed lucky</a></h5>\\n            </li>\\n                      <li>\\n                              <a href=\"/business/news/bangladesh-set-overtake-india-capita-gdp-growth-imf-1977905\" class=\"thumb-img pull-left\"><picture >\\n<!--[if IE 9]><video style=\"display: none;\"><![endif]-->\\n<source data-srcset=\"https://assetsds.cdnedge.bluemix.net/sites/default/files/styles/small_5/public/feature/images/rmg_worker_15.jpg?itok=U9wGpCOR 1x\" data-aspectratio=\"125/87\" media=\"(min-width: 1024px)\" />\\n<!--[if IE 9]></video><![endif]-->\\n<!--[if lt IE 9]>\\n<img  class=\"lazyload\" data-aspectratio=\"\" data-src=\"https://assetsds.cdnedge.bluemix.net/sites/default/files/styles/small_5/public/feature/images/rmg_worker_15.jpg?itok=U9wGpCOR\" alt=\"Bangladesh set to overtake India in per capita GDP growth: IMF \" title=\"\" />\\n<![endif]-->\\n<!--[if !lt IE 9]><!-->\\n<img  class=\"lazyload\" data-aspectratio=\"\" data-srcset=\"https://assetsds.cdnedge.bluemix.net/sites/default/files/styles/small_5/public/feature/images/rmg_worker_15.jpg?itok=U9wGpCOR 125w\" alt=\"Bangladesh set to overtake India in per capita GDP growth: IMF \" title=\"\" />\\n<!-- <![endif]-->\\n</picture></a>                            <h5><a href=\"/business/news/bangladesh-set-overtake-india-capita-gdp-growth-imf-1977905\">Bangladesh set to overtake India in per capita GDP growth: IMF </a></h5>\\n            </li>\\n                      <li>\\n                              <a href=\"/world/news/fahim-saleh-murder-main-accused-pleads-not-guilty-1977817\" class=\"thumb-img pull-left\"><picture >\\n<!--[if IE 9]><video style=\"display: none;\"><![endif]-->\\n<source data-srcset=\"https://assetsds.cdnedge.bluemix.net/sites/default/files/styles/small_5/public/feature/images/fahim-saleh-150720-01.jpg?itok=5oyqG58Q 1x\" data-aspectratio=\"125/87\" media=\"(min-width: 1024px)\" />\\n<!--[if IE 9]></video><![endif]-->\\n<!--[if lt IE 9]>\\n<img  class=\"lazyload\" data-aspectratio=\"\" data-src=\"https://assetsds.cdnedge.bluemix.net/sites/default/files/styles/small_5/public/feature/images/fahim-saleh-150720-01.jpg?itok=5oyqG58Q\" alt=\"Fahim Saleh murder: Main accused pleads not guilty\" title=\"\" />\\n<![endif]-->\\n<!--[if !lt IE 9]><!-->\\n<img  class=\"lazyload\" data-aspectratio=\"\" data-srcset=\"https://assetsds.cdnedge.bluemix.net/sites/default/files/styles/small_5/public/feature/images/fahim-saleh-150720-01.jpg?itok=5oyqG58Q 125w\" alt=\"Fahim Saleh murder: Main accused pleads not guilty\" title=\"\" />\\n<!-- <![endif]-->\\n</picture></a>                            <h5><a href=\"/world/news/fahim-saleh-murder-main-accused-pleads-not-guilty-1977817\">Fahim Saleh murder: Main accused pleads not guilty</a></h5>\\n            </li>\\n                  </ul>\\n      </div>\\n          <div class=\"section-tab-item\">\\n        <ul>\\n                      <li>\\n                              <a href=\"/business/news/hundreds-restaurants-dhaka-closed-good-1975961\" class=\"thumb-img pull-left\"><picture >\\n<!--[if IE 9]><video style=\"display: none;\"><![endif]-->\\n<source data-srcset=\"https://assetsds.cdnedge.bluemix.net/sites/default/files/styles/small_5/public/feature/images/hotel_2.jpg?itok=jMyD3HAp 1x\" data-aspectratio=\"125/87\" media=\"(min-width: 1024px)\" />\\n<!--[if IE 9]></video><![endif]-->\\n<!--[if lt IE 9]>\\n<img  class=\"lazyload\" data-aspectratio=\"\" data-src=\"https://assetsds.cdnedge.bluemix.net/sites/default/files/styles/small_5/public/feature/images/hotel_2.jpg?itok=jMyD3HAp\" alt=\"Hundreds of restaurants in Dhaka  closed for good \" title=\"\" />\\n<![endif]-->\\n<!--[if !lt IE 9]><!-->\\n<img  class=\"lazyload\" data-aspectratio=\"\" data-srcset=\"https://assetsds.cdnedge.bluemix.net/sites/default/files/styles/small_5/public/feature/images/hotel_2.jpg?itok=jMyD3HAp 125w\" alt=\"Hundreds of restaurants in Dhaka  closed for good \" title=\"\" />\\n<!-- <![endif]-->\\n</picture></a>                            <h5><a href=\"/business/news/hundreds-restaurants-dhaka-closed-good-1975961\">Hundreds of restaurants in Dhaka  closed for good </a></h5>\\n            </li>\\n                      <li>\\n                              <a href=\"/business/news/bangladesh-set-overtake-india-capita-gdp-growth-imf-1977905\" class=\"thumb-img pull-left\"><picture >\\n<!--[if IE 9]><video style=\"display: none;\"><![endif]-->\\n<source data-srcset=\"https://assetsds.cdnedge.bluemix.net/sites/default/files/styles/small_5/public/feature/images/rmg_worker_15.jpg?itok=U9wGpCOR 1x\" data-aspectratio=\"125/87\" media=\"(min-width: 1024px)\" />\\n<!--[if IE 9]></video><![endif]-->\\n<!--[if lt IE 9]>\\n<img  class=\"lazyload\" data-aspectratio=\"\" data-src=\"https://assetsds.cdnedge.bluemix.net/sites/default/files/styles/small_5/public/feature/images/rmg_worker_15.jpg?itok=U9wGpCOR\" alt=\"Bangladesh set to overtake India in per capita GDP growth: IMF \" title=\"\" />\\n<![endif]-->\\n<!--[if !lt IE 9]><!-->\\n<img  class=\"lazyload\" data-aspectratio=\"\" data-srcset=\"https://assetsds.cdnedge.bluemix.net/sites/default/files/styles/small_5/public/feature/images/rmg_worker_15.jpg?itok=U9wGpCOR 125w\" alt=\"Bangladesh set to overtake India in per capita GDP growth: IMF \" title=\"\" />\\n<!-- <![endif]-->\\n</picture></a>                            <h5><a href=\"/business/news/bangladesh-set-overtake-india-capita-gdp-growth-imf-1977905\">Bangladesh set to overtake India in per capita GDP growth: IMF </a></h5>\\n            </li>\\n                      <li>\\n                              <a href=\"/savlon-hand-sanitiser-aci-fined-tk-1-crore-using-harmful-chemical-1976657\" class=\"thumb-img pull-left\"><picture >\\n<!--[if IE 9]><video style=\"display: none;\"><![endif]-->\\n<source data-srcset=\"https://assetsds.cdnedge.bluemix.net/sites/default/files/styles/small_5/public/feature/images/sanitizar.jpg?itok=nV4bd13E 1x\" data-aspectratio=\"125/87\" media=\"(min-width: 1024px)\" />\\n<!--[if IE 9]></video><![endif]-->\\n<!--[if lt IE 9]>\\n<img  class=\"lazyload\" data-aspectratio=\"\" data-src=\"https://assetsds.cdnedge.bluemix.net/sites/default/files/styles/small_5/public/feature/images/sanitizar.jpg?itok=nV4bd13E\" alt=\"ACI fined Tk 1 crore for using harmful chemical in Savlon hand sanitiser\" title=\"\" />\\n<![endif]-->\\n<!--[if !lt IE 9]><!-->\\n<img  class=\"lazyload\" data-aspectratio=\"\" data-srcset=\"https://assetsds.cdnedge.bluemix.net/sites/default/files/styles/small_5/public/feature/images/sanitizar.jpg?itok=nV4bd13E 125w\" alt=\"ACI fined Tk 1 crore for using harmful chemical in Savlon hand sanitiser\" title=\"\" />\\n<!-- <![endif]-->\\n</picture></a>                            <h5><a href=\"/savlon-hand-sanitiser-aci-fined-tk-1-crore-using-harmful-chemical-1976657\">ACI fined Tk 1 crore for using harmful chemical in Savlon hand sanitiser</a></h5>\\n            </li>\\n                      <li>\\n                              <a href=\"/business/news/govt-use-forex-reserves-development-projects-1976561\" class=\"thumb-img pull-left\"><picture >\\n<!--[if IE 9]><video style=\"display: none;\"><![endif]-->\\n<source data-srcset=\"https://assetsds.cdnedge.bluemix.net/sites/default/files/styles/small_5/public/feature/images/fer.jpg?itok=UUO1y4cH 1x\" data-aspectratio=\"125/87\" media=\"(min-width: 1024px)\" />\\n<!--[if IE 9]></video><![endif]-->\\n<!--[if lt IE 9]>\\n<img  class=\"lazyload\" data-aspectratio=\"\" data-src=\"https://assetsds.cdnedge.bluemix.net/sites/default/files/styles/small_5/public/feature/images/fer.jpg?itok=UUO1y4cH\" alt=\"Govt to use forex reserves for development projects\" title=\"\" />\\n<![endif]-->\\n<!--[if !lt IE 9]><!-->\\n<img  class=\"lazyload\" data-aspectratio=\"\" data-srcset=\"https://assetsds.cdnedge.bluemix.net/sites/default/files/styles/small_5/public/feature/images/fer.jpg?itok=UUO1y4cH 125w\" alt=\"Govt to use forex reserves for development projects\" title=\"\" />\\n<!-- <![endif]-->\\n</picture></a>                            <h5><a href=\"/business/news/govt-use-forex-reserves-development-projects-1976561\">Govt to use forex reserves for development projects</a></h5>\\n            </li>\\n                      <li>\\n                              <a href=\"/business/news/wb-sees-u-shaped-recovery-1974913\" class=\"thumb-img pull-left\"><picture >\\n<!--[if IE 9]><video style=\"display: none;\"><![endif]-->\\n<source data-srcset=\"https://assetsds.cdnedge.bluemix.net/sites/default/files/styles/small_5/public/feature/images/rural_3_0.jpg?itok=NstpYiYS 1x\" data-aspectratio=\"125/87\" media=\"(min-width: 1024px)\" />\\n<!--[if IE 9]></video><![endif]-->\\n<!--[if lt IE 9]>\\n<img  class=\"lazyload\" data-aspectratio=\"\" data-src=\"https://assetsds.cdnedge.bluemix.net/sites/default/files/styles/small_5/public/feature/images/rural_3_0.jpg?itok=NstpYiYS\" alt=\"World Bank sees U-shaped recovery for Bangladesh&#039;s economy \" title=\"\" />\\n<![endif]-->\\n<!--[if !lt IE 9]><!-->\\n<img  class=\"lazyload\" data-aspectratio=\"\" data-srcset=\"https://assetsds.cdnedge.bluemix.net/sites/default/files/styles/small_5/public/feature/images/rural_3_0.jpg?itok=NstpYiYS 125w\" alt=\"World Bank sees U-shaped recovery for Bangladesh&#039;s economy \" title=\"\" />\\n<!-- <![endif]-->\\n</picture></a>                            <h5><a href=\"/business/news/wb-sees-u-shaped-recovery-1974913\">World Bank sees U-shaped recovery for Bangladesh\\'s economy </a></h5>\\n            </li>\\n                      <li>\\n                              <a href=\"/business/news/bangladesh-set-surpass-india-capita-gdp-1978285\" class=\"thumb-img pull-left\"><picture >\\n<!--[if IE 9]><video style=\"display: none;\"><![endif]-->\\n<source data-srcset=\"https://assetsds.cdnedge.bluemix.net/sites/default/files/styles/small_5/public/feature/images/capita-gdp.jpg?itok=6t5Dxx2L 1x\" data-aspectratio=\"125/87\" media=\"(min-width: 1024px)\" />\\n<!--[if IE 9]></video><![endif]-->\\n<!--[if lt IE 9]>\\n<img  class=\"lazyload\" data-aspectratio=\"\" data-src=\"https://assetsds.cdnedge.bluemix.net/sites/default/files/styles/small_5/public/feature/images/capita-gdp.jpg?itok=6t5Dxx2L\" alt=\"Bangladesh set to surpass India in per capita GDP\" title=\"\" />\\n<![endif]-->\\n<!--[if !lt IE 9]><!-->\\n<img  class=\"lazyload\" data-aspectratio=\"\" data-srcset=\"https://assetsds.cdnedge.bluemix.net/sites/default/files/styles/small_5/public/feature/images/capita-gdp.jpg?itok=6t5Dxx2L 125w\" alt=\"Bangladesh set to surpass India in per capita GDP\" title=\"\" />\\n<!-- <![endif]-->\\n</picture></a>                            <h5><a href=\"/business/news/bangladesh-set-surpass-india-capita-gdp-1978285\">Bangladesh set to surpass India in per capita GDP</a></h5>\\n            </li>\\n                      <li>\\n                              <a href=\"/business/news/bangladesh-achieve-44-gdp-growth-fiscal-year-imf-1977453\" class=\"thumb-img pull-left\"><picture >\\n<!--[if IE 9]><video style=\"display: none;\"><![endif]-->\\n<source data-srcset=\"https://assetsds.cdnedge.bluemix.net/sites/default/files/styles/small_5/public/feature/images/imf-world_bank.jpg?itok=fYfhAEj3 1x\" data-aspectratio=\"125/87\" media=\"(min-width: 1024px)\" />\\n<!--[if IE 9]></video><![endif]-->\\n<!--[if lt IE 9]>\\n<img  class=\"lazyload\" data-aspectratio=\"\" data-src=\"https://assetsds.cdnedge.bluemix.net/sites/default/files/styles/small_5/public/feature/images/imf-world_bank.jpg?itok=fYfhAEj3\" alt=\"Bangladesh to achieve 4.4% GDP growth this fiscal year: IMF\" title=\"\" />\\n<![endif]-->\\n<!--[if !lt IE 9]><!-->\\n<img  class=\"lazyload\" data-aspectratio=\"\" data-srcset=\"https://assetsds.cdnedge.bluemix.net/sites/default/files/styles/small_5/public/feature/images/imf-world_bank.jpg?itok=fYfhAEj3 125w\" alt=\"Bangladesh to achieve 4.4% GDP growth this fiscal year: IMF\" title=\"\" />\\n<!-- <![endif]-->\\n</picture></a>                            <h5><a href=\"/business/news/bangladesh-achieve-44-gdp-growth-fiscal-year-imf-1977453\">Bangladesh to achieve 4.4% GDP growth this fiscal year: IMF</a></h5>\\n            </li>\\n                      <li>\\n                              <a href=\"/business/news/kam-majedur-joins-ak-khan-and-company-ceo-1974825\" class=\"thumb-img pull-left\"><picture >\\n<!--[if IE 9]><video style=\"display: none;\"><![endif]-->\\n<source data-srcset=\"https://assetsds.cdnedge.bluemix.net/sites/default/files/styles/small_5/public/feature/images/kam-majedur-rahman.jpg?itok=w5AtjMgt 1x\" data-aspectratio=\"125/87\" media=\"(min-width: 1024px)\" />\\n<!--[if IE 9]></video><![endif]-->\\n<!--[if lt IE 9]>\\n<img  class=\"lazyload\" data-aspectratio=\"\" data-src=\"https://assetsds.cdnedge.bluemix.net/sites/default/files/styles/small_5/public/feature/images/kam-majedur-rahman.jpg?itok=w5AtjMgt\" alt=\"KAM Majedur joins AK Khan and Company  as CEO\" title=\"\" />\\n<![endif]-->\\n<!--[if !lt IE 9]><!-->\\n<img  class=\"lazyload\" data-aspectratio=\"\" data-srcset=\"https://assetsds.cdnedge.bluemix.net/sites/default/files/styles/small_5/public/feature/images/kam-majedur-rahman.jpg?itok=w5AtjMgt 125w\" alt=\"KAM Majedur joins AK Khan and Company  as CEO\" title=\"\" />\\n<!-- <![endif]-->\\n</picture></a>                            <h5><a href=\"/business/news/kam-majedur-joins-ak-khan-and-company-ceo-1974825\">KAM Majedur joins AK Khan and Company  as CEO</a></h5>\\n            </li>\\n                      <li>\\n                              <a href=\"/business/news/job-recovery-gains-momentum-1977133\" class=\"thumb-img pull-left\"><picture >\\n<!--[if IE 9]><video style=\"display: none;\"><![endif]-->\\n<source data-srcset=\"https://assetsds.cdnedge.bluemix.net/sites/default/files/styles/small_5/public/feature/images/rmg_wb_1.jpg?itok=ybBCizL0 1x\" data-aspectratio=\"125/87\" media=\"(min-width: 1024px)\" />\\n<!--[if IE 9]></video><![endif]-->\\n<!--[if lt IE 9]>\\n<img  class=\"lazyload\" data-aspectratio=\"\" data-src=\"https://assetsds.cdnedge.bluemix.net/sites/default/files/styles/small_5/public/feature/images/rmg_wb_1.jpg?itok=ybBCizL0\" alt=\"Job recovery gains momentum\" title=\"\" />\\n<![endif]-->\\n<!--[if !lt IE 9]><!-->\\n<img  class=\"lazyload\" data-aspectratio=\"\" data-srcset=\"https://assetsds.cdnedge.bluemix.net/sites/default/files/styles/small_5/public/feature/images/rmg_wb_1.jpg?itok=ybBCizL0 125w\" alt=\"Job recovery gains momentum\" title=\"\" />\\n<!-- <![endif]-->\\n</picture></a>                            <h5><a href=\"/business/news/job-recovery-gains-momentum-1977133\">Job recovery gains momentum</a></h5>\\n            </li>\\n                      <li>\\n                              <a href=\"/business/news/businesses-need-adopt-new-marketing-law-8020-rule-over-1974889\" class=\"thumb-img pull-left\"><picture >\\n<!--[if IE 9]><video style=\"display: none;\"><![endif]-->\\n<source data-srcset=\"https://assetsds.cdnedge.bluemix.net/sites/default/files/styles/small_5/public/feature/images/brands-sales.jpg?itok=PWL6Z39r 1x\" data-aspectratio=\"125/87\" media=\"(min-width: 1024px)\" />\\n<!--[if IE 9]></video><![endif]-->\\n<!--[if lt IE 9]>\\n<img  class=\"lazyload\" data-aspectratio=\"\" data-src=\"https://assetsds.cdnedge.bluemix.net/sites/default/files/styles/small_5/public/feature/images/brands-sales.jpg?itok=PWL6Z39r\" alt=\"Businesses need to adopt a new marketing law: 80/20 rule is over\" title=\"\" />\\n<![endif]-->\\n<!--[if !lt IE 9]><!-->\\n<img  class=\"lazyload\" data-aspectratio=\"\" data-srcset=\"https://assetsds.cdnedge.bluemix.net/sites/default/files/styles/small_5/public/feature/images/brands-sales.jpg?itok=PWL6Z39r 125w\" alt=\"Businesses need to adopt a new marketing law: 80/20 rule is over\" title=\"\" />\\n<!-- <![endif]-->\\n</picture></a>                            <h5><a href=\"/business/news/businesses-need-adopt-new-marketing-law-8020-rule-over-1974889\">Businesses need to adopt a new marketing law: 80/20 rule is over</a></h5>\\n            </li>\\n                  </ul>\\n      </div>\\n    \\n  </div>\\n</div>\\n\\n  \\n  \\n</div>\\n<div class=\"panel-separator\"></div><div class=\"panel-pane pane-views-panes pane-news-details-panel-pane-11 no-title block\">\\n  \\n      \\n  \\n  <div class=\"view view-news-details view-id-news_details view-display-id-panel_pane_11 details-bottom-list view-dom-id-da20421b551178df53c1be7701df1486\">\\n            <div class=\"view-header\">\\n      <div class=\"border-heading\">\\n<h4>More from <a href=\"/business\">Business</a></h4>\\n</div>    </div>\\n  \\n  \\n  \\n      <div class=\"container zero-top\">\\n  <div class=\"border-right-inner equalHeight row\">\\n    <div class=\"five-20\">\\n      \\n          <h5><a href=\"/business/news/tata-group-looking-stake-ipo-bound-online-grocer-bigbasket-1978841\">Tata Group looking for stake in IPO-bound online grocer BigBasket</a></h5>    </div>\\n    <div class=\"five-20\">\\n      \\n          <h5><a href=\"/business/news/china-raises-6b-us-investors-look-past-political-tensions-1978845\">China raises $6b as US investors look past political tensions</a></h5>    </div>\\n    <div class=\"five-20\">\\n      \\n          <a href=\"/business/news/teslas-back-back-price-cuts-bring-sticker-us-model-s-below-70000-1978849\" class=\"thumb-img\"><a href=\"/business/news/teslas-back-back-price-cuts-bring-sticker-us-model-s-below-70000-1978849\"><img class=\"image-style-medium-1\" src=\"https://assetsds.cdnedge.bluemix.net/sites/default/files/styles/medium_1/public/feature/images/tesla-1724773_1280.jpg?itok=duITOBYd\" /></a></a>    \\n          <h5><a href=\"/business/news/teslas-back-back-price-cuts-bring-sticker-us-model-s-below-70000-1978849\">Tesla\\xe2\\x80\\x99s back-to-back price cuts bring sticker on US Model S below $70,000</a></h5>    </div>\\n    <div class=\"five-20\">\\n      \\n          <a href=\"/business/news/after-two-lost-decades-uss-weakest-local-economies-may-face-worse-pandemic-1978853\" class=\"thumb-img\"><a href=\"/business/news/after-two-lost-decades-uss-weakest-local-economies-may-face-worse-pandemic-1978853\"><img class=\"image-style-medium-1\" src=\"https://assetsds.cdnedge.bluemix.net/sites/default/files/styles/medium_1/public/feature/images/new-york-city.jpg?itok=Vhejv-UA\" /></a></a>    \\n          <h5><a href=\"/business/news/after-two-lost-decades-uss-weakest-local-economies-may-face-worse-pandemic-1978853\">After two lost decades, US\\xe2\\x80\\x99s weakest local economies may face worse from pandemic</a></h5>    </div>\\n    <div class=\"five-20\">\\n      \\n          <a href=\"/business/news/imfs-georgieva-says-private-creditors-china-need-fully-participate-debt-relief-1978857\" class=\"thumb-img\"><a href=\"/business/news/imfs-georgieva-says-private-creditors-china-need-fully-participate-debt-relief-1978857\"><img class=\"image-style-medium-1\" src=\"https://assetsds.cdnedge.bluemix.net/sites/default/files/styles/medium_1/public/feature/images/imf_24.jpg?itok=Oy9gHUMz\" /></a></a>    \\n          <h5><a href=\"/business/news/imfs-georgieva-says-private-creditors-china-need-fully-participate-debt-relief-1978857\">IMF\\xe2\\x80\\x99s Georgieva says private creditors, China need to fully participate in debt relief</a></h5>    </div>\\n</div></div>\\n  \\n  \\n  \\n  \\n  \\n  \\n</div>\\n  \\n  \\n</div>\\n      </div>\\n\\n      <div class=\"detailed-sidebar four-25\">\\n        <div class=\"panel-pane pane-block pane-block-7 in-news tm-hide pane-block no-title block\">\\n  \\n      \\n  \\n  <script type=\"text/javascript\" src=\"//s7.addthis.com/js/300/addthis_widget.js#pubid=ra-5d1072ada1b6c266\"></script>\\n<div class=\"addthis_inline_share_toolbox\"></div>\\n\\n<style>\\n.at4-jumboshare .at4-count-container{ display: none important; padding: 0 !important; opacity: 0; }\\n</style>\\n  \\n  \\n</div>\\n<div class=\"panel-separator\"></div><div class=\"panel-pane pane-top-news-list tm-hide no-title block\">\\n  \\n      \\n  \\n  <div class=\"border-heading\">\\n  <h4>Top News</h4>\\n</div>\\n<div class=\"pad-top-bottom-small\">\\n  <ul class=\"list-type-bullet more-stories-list top-news-list\">\\n  </ul>\\n  <a href=\"/top-news\" class=\"more-stories more-stories-sa uppercase\">View More</a>\\n</div>\\n\\n  \\n  \\n</div>\\n<div class=\"panel-separator\"></div><div class=\"panel-pane pane-block pane-dfp-news-detail-right-top-rentangle centered overflow-hidden margin-bottom-big pane-dfp no-title block\">\\n  \\n      \\n  \\n  <div id=\"dfp-ad-news_detail_right_top_rentangle-wrapper\" class=\"dfp-tag-wrapper\">\\n<div  id=\"dfp-ad-news_detail_right_top_rentangle\" class=\"dfp-tag-wrapper\">\\n    <script type=\"text/javascript\">\\n    googletag.cmd.push(function() {\\n      googletag.display(\"dfp-ad-news_detail_right_top_rentangle\");\\n    });\\n  </script>\\n</div>\\n</div>\\n  \\n  \\n</div>\\n<div class=\"panel-separator\"></div><div class=\"panel-pane pane-block pane-dfp-news-detail-right-position-2 centered overflow-hidden margin-bottom-small pane-dfp no-title block\">\\n  \\n      \\n  \\n  <div id=\"dfp-ad-news_detail_right_position_2-wrapper\" class=\"dfp-tag-wrapper\">\\n<div  id=\"dfp-ad-news_detail_right_position_2\" class=\"dfp-tag-wrapper\">\\n    <script type=\"text/javascript\">\\n    googletag.cmd.push(function() {\\n      googletag.display(\"dfp-ad-news_detail_right_position_2\");\\n    });\\n  </script>\\n</div>\\n</div>\\n  \\n  \\n</div>\\n<div class=\"panel-separator\"></div><div class=\"panel-pane pane-video-latest-stories overflow-hidden margin-bottom-zero no-title block\">\\n  \\n      \\n  \\n  <div class=\"border-heading\">\\n    <a href=\"/video-stories\"><h4>Latest from Star Live</h4></a>\\n</div>\\n<div class=\"pad-top-bottom-small\">\\n  <ul class=\"list-border-none video-latest-stories\">\\n  </ul> \\n</div>\\n\\n  \\n  \\n</div>\\n<div class=\"panel-separator\"></div><div class=\"panel-pane pane-adv-manager no-title block\">\\n  \\n      \\n  \\n  <div class=\"limit-container advatige 0\"><div class=\"bg-csky-light margin-bottom-big\">\\r\\n<div class=\"news-grid-list margin-bottom-small pad-all-small \"  style=\"background:#4285f4;\">\\r\\n  <a href=\"/bangla/\" class=\"centered thumb margin-bottom-zero\">\\r\\n    <img src=\"https://assetsds.cdnedge.bluemix.net/sites/default/files/daily-star-bangla.png\" alt=\"Daily Star Bangla\" title=\"Daily Star Bangla\" style=\"margin: 0 auto; width:223px;\">\\r\\n  </a>\\r\\n</div>\\r\\n  <ul class=\"top-bangla-news-list pad-left-right-small padding-bottom\" style=\"text-align:left;\"></ul>\\r\\n\\r\\n</div>\\r\\n\\r\\n\\r\\n\\r\\n<script>\\r\\n(function($){\\r\\n  $(function() {\\r\\n    if($(\\'.top-bangla-news-list\\').length) {\\r\\n    \\r\\n      var currentdate = new Date();\\r\\n          var datetime = currentdate.getFullYear() + \"-\"\\r\\n                  + (currentdate.getMonth()+1)  + \"-\"\\r\\n                  + currentdate.getDate() + \"-\"\\r\\n                  + currentdate.getHours() + \"-\";\\r\\n\\r\\n      var minute = currentdate.getMinutes();\\r\\n      minute = minute  - parseInt( minute % 5 );\\r\\n      var time_str = datetime + minute;\\r\\n\\r\\n      $.get(\\'/bangla/json/newsList?catId=377&count=3&time=\\' + time_str, function( data ) {\\r\\n        var html = \\'\\';\\r\\n         var cat_name =  \"\\xe0\\xa6\\xb6\\xe0\\xa7\\x80\\xe0\\xa6\\xb0\\xe0\\xa7\\x8d\\xe0\\xa6\\xb7 \\xe0\\xa6\\x96\\xe0\\xa6\\xac\\xe0\\xa6\\xb0\";\\r\\n        for(var i in data[\\'newslist\\']) {\\r\\n          if(i == 0) {\\r\\n            html += \\'<li class=\"padding-bottom-small\">\\';           \\r\\n            var img_tag = \\'\\'; \\r\\n           \\r\\n           // if(data[\\'newslist\\'][i].byline != \"\\xe0\\xa6\\xb8\\xe0\\xa7\\x8d\\xe0\\xa6\\x9f\\xe0\\xa6\\xbe\\xe0\\xa6\\xb0 \\xe0\\xa6\\x85\\xe0\\xa6\\xa8\\xe0\\xa6\\xb2\\xe0\\xa6\\xbe\\xe0\\xa6\\x87\\xe0\\xa6\\xa8 \\xe0\\xa6\\xb0\\xe0\\xa6\\xbf\\xe0\\xa6\\xaa\\xe0\\xa7\\x8b\\xe0\\xa6\\xb0\"){\\r\\n              //  cat_name = \"\";\\r\\n           // } \\r\\n         \\r\\n          if(typeof data[\\'newslist\\'][i].images[0].img_url != \"undefined\") {\\r\\n              img_tag = \\'<a href=\"\\' + data[\\'newslist\\'][i].url + \\'\"><img class=\"bangla-lead-img\" src=\"\\' + data[\\'newslist\\'][i].images[0].img_url + \\'\"  /></a>\\';\\r\\n            }\\r\\n            html += \\'<p class=\"zero-bottom overflow-hidden\">\\' + img_tag + \\'</p>\\';\\r\\n            //html += \\'<p class=\"zero-bottom color-red overflow-hidden\">\\' +  cat_name + \\'</p><!--\\xe0\\xa6\\xb6\\xe0\\xa7\\x80\\xe0\\xa6\\xb0\\xe0\\xa7\\x8d\\xe0\\xa6\\xb7 \\xe0\\xa6\\x96\\xe0\\xa6\\xac\\xe0\\xa6\\xb0-->\\';           \\r\\n\\r\\n             html += \\'<h3 class=\"margin-bottom-zero\"><a href=\"\\' + data[\\'newslist\\'][i].url + \\'\">\\' + data[\\'newslist\\'][i].headline + \\'</a></h3>\\';    \\r\\n           /*  html += \\'<p class=\"border-bottom overflow-hidden  top-c-lbl\">\\' + data[\\'newslist\\'][i].news_excerpt + \\'</p>\\';   */\\r\\n          } else {\\r\\n            html += \\'<li class=\"padding-bottom-small\">\\';\\r\\n            html += \\'<h4 class=\"margin-bottom-zero\"><a href=\"\\' + data[\\'newslist\\'][i].url + \\'\">\\' + data[\\'newslist\\'][i].headline + \\'</a></h4>\\';\\r\\n          } \\r\\n          html += \\'</li>\\';\\r\\n        }\\r\\n        $(\\'.top-bangla-news-list\\').html(html);\\r\\n      }, \\'json\\' );\\r\\n    }\\r\\n  });\\r\\n})(jQuery);\\r\\n</script></div>\\n  \\n  \\n</div>\\n      </div>\\n    </div>\\n  </div>\\n</div>\\n  <div class=\"container bottom-section\">\\n    <div class=\"panel-pane pane-views-panes pane-news-details-panel-pane-12 no-title block\">\\n  \\n      \\n  \\n  <div class=\"view view-news-details view-id-news_details view-display-id-panel_pane_12 details-bottom-list view-dom-id-a9fd7ee79ba16078401b7b5d5ce84e72\">\\n            <div class=\"view-header\">\\n      <div class=\"border-heading\">\\n<h4>In case you missed it</h4>\\n</div>    </div>\\n  \\n  \\n  \\n      <div class=\"container zero-top\">\\n  <div class=\"border-right-inner equalHeight row\">\\n    <div class=\"five-20\">\\n      \\n          <a href=\"/opinion/asian-editors-circle/rohingya-crisis-concern-the-region-1459393\" class=\"thumb\"><img class=\"image-style-medium-1\" src=\"https://assetsds.cdnedge.bluemix.net/sites/default/files/styles/medium_1/public/feature/images/rohingya_crisis_a_concern_for_the_region.jpg?itok=jG6ZmDtd\" alt=\"Rohingya crisis A concern for the region\" title=\"Rohingya crisis A concern for the region\" /></a>    \\n  <h5>        <a href=\"/opinion/asian-editors-circle/rohingya-crisis-concern-the-region-1459393\">Rohingya crisis: A concern for the region</a>  </h5>  </div>\\n    <div class=\"five-20\">\\n      \\n          <a href=\"/frontpage/change-maker-dragon-fruit-kindles-hope-1459507\" class=\"thumb\"><img class=\"image-style-medium-1\" src=\"https://assetsds.cdnedge.bluemix.net/sites/default/files/styles/medium_1/public/feature/images/dragon_fruit.jpg?itok=y5utCumc&amp;c=b2b74fdf73a4e7b44f1f21d4a2b24f75\" /></a>    \\n  <h5>        <a href=\"/frontpage/change-maker-dragon-fruit-kindles-hope-1459507\">Change Maker: Dragon fruit kindles hope </a>  </h5>  </div>\\n    <div class=\"five-20\">\\n      \\n          <a href=\"/frontpage/land-death-despair-1459498\" class=\"thumb\"><img class=\"image-style-medium-1\" src=\"https://assetsds.cdnedge.bluemix.net/sites/default/files/styles/medium_1/public/feature/images/rohingyas_8.jpg?itok=f83m5wBF&amp;c=9b39a9d96455a9688a5e498d65d12e38\" /></a>    \\n  <h5>        <a href=\"/frontpage/land-death-despair-1459498\">From land of death, despair</a>  </h5>  </div>\\n    <div class=\"five-20\">\\n      \\n          <a href=\"/city/the-joy-cropping-1459489\" class=\"thumb\"><img class=\"image-style-medium-1\" src=\"https://assetsds.cdnedge.bluemix.net/sites/default/files/styles/medium_1/public/feature/images/cropping_1.jpg?itok=sCJ2kUhF\" /></a>    \\n  <h5>        <a href=\"/city/the-joy-cropping-1459489\">The Joy of Cropping</a>  </h5>  </div>\\n    <div class=\"five-20\">\\n      \\n          <a href=\"/frontpage/violence-rakhine-india-keeps-the-bali-declaration-1459504\" class=\"thumb\"><img class=\"image-style-medium-1\" src=\"https://assetsds.cdnedge.bluemix.net/sites/default/files/styles/medium_1/public/feature/images/violence_on_rohingya_1_1.jpg?itok=5cV2lPof&amp;c=aa04f24cfb7f3879d0546a10ade8d9c7\" /></a>    \\n  <h5>        <a href=\"/frontpage/violence-rakhine-india-keeps-the-bali-declaration-1459504\">Violence in Rakhine: India keeps off the Bali declaration </a>  </h5>  </div>\\n</div></div>\\n  \\n  \\n  \\n  \\n  \\n  \\n</div>\\n  \\n  \\n</div>\\n<div class=\"panel-separator\"></div><div class=\"panel-pane pane-views-panes pane-news-details-panel-pane-13 no-title block\">\\n  \\n      \\n  \\n  <div class=\"view view-news-details view-id-news_details view-display-id-panel_pane_13 fixed-slider bg-black details-bottom-list view-dom-id-6dd50781ec2809679a8bc91304f21274\">\\n            <div class=\"view-header\">\\n      <div class=\"border-heading\">\\n<h4>Multimedia you may like</h4>\\n</div>    </div>\\n  \\n  \\n  \\n      <div class=\"row margin-bottom-big\">\\n          <div class=\"six-column\">\\n      <a href=\"/multimedia/homepage/photo/todays-gallery-20201017-1979417\" class=\"thumb\"><img class=\"image-style-small-1\" src=\"https://assetsds.cdnedge.bluemix.net/sites/default/files/styles/small_1/public/movies-return-to-cinemas.jpg?itok=Vtl-1st0\" alt=\"\" /><div class=\"media-icon\"><i class=\"fa fa-camera\"></i></div></a>      <h5><a href=\"/multimedia/homepage/photo/todays-gallery-20201017-1979417\">Today&#039;s Gallery (2020.10.17)</a></h5>\\n    </div>\\n          <div class=\"six-column\">\\n      <a href=\"/multimedia/homepage/photo/todays-gallery-20201016-1979081\" class=\"thumb\"><img class=\"image-style-small-1\" src=\"https://assetsds.cdnedge.bluemix.net/sites/default/files/styles/small_1/public/nature-quest_19.jpg?itok=PyxohX-9\" alt=\"\" /><div class=\"media-icon\"><i class=\"fa fa-camera\"></i></div></a>      <h5><a href=\"/multimedia/homepage/photo/todays-gallery-20201016-1979081\">Today&#039;s Gallery (2020.10.16)</a></h5>\\n    </div>\\n          <div class=\"six-column\">\\n      <a href=\"/multimedia/homepage/photo/todays-gallery-20201015-1978405\" class=\"thumb\"><img class=\"image-style-small-1\" src=\"https://assetsds.cdnedge.bluemix.net/sites/default/files/styles/small_1/public/a-seized-car.jpg?itok=iOfuizLa\" alt=\"\" /><div class=\"media-icon\"><i class=\"fa fa-camera\"></i></div></a>      <h5><a href=\"/multimedia/homepage/photo/todays-gallery-20201015-1978405\">Today&#039;s Gallery (2020.10.15)</a></h5>\\n    </div>\\n          <div class=\"six-column\">\\n      <a href=\"/multimedia/homepage/photo/todays-gallery-20201014-1977665\" class=\"thumb\"><img class=\"image-style-small-1\" src=\"https://assetsds.cdnedge.bluemix.net/sites/default/files/styles/small_1/public/a-construction-worker.jpg?itok=HVwCeG1m\" alt=\"\" /><div class=\"media-icon\"><i class=\"fa fa-camera\"></i></div></a>      <h5><a href=\"/multimedia/homepage/photo/todays-gallery-20201014-1977665\">Today&#039;s Gallery (2020.10.14)</a></h5>\\n    </div>\\n          <div class=\"six-column\">\\n      <a href=\"/multimedia/homepage/photo/todays-gallery-20201013-1977173\" class=\"thumb\"><img class=\"image-style-small-1\" src=\"https://assetsds.cdnedge.bluemix.net/sites/default/files/styles/small_1/public/a-bailey-bridge.jpg?itok=P3_2sDCF\" alt=\"\" /><div class=\"media-icon\"><i class=\"fa fa-camera\"></i></div></a>      <h5><a href=\"/multimedia/homepage/photo/todays-gallery-20201013-1977173\">Today&#039;s Gallery (2020.10.13)</a></h5>\\n    </div>\\n          <div class=\"six-column\">\\n      <a href=\"/multimedia/homepage/photo/todays-gallery-20201012-1976593\" class=\"thumb\"><img class=\"image-style-small-1\" src=\"https://assetsds.cdnedge.bluemix.net/sites/default/files/styles/small_1/public/traffic-jams_1.jpg?itok=zw2DDUXc\" alt=\"\" /><div class=\"media-icon\"><i class=\"fa fa-camera\"></i></div></a>      <h5><a href=\"/multimedia/homepage/photo/todays-gallery-20201012-1976593\">Today&#039;s Gallery (2020.10.12)</a></h5>\\n    </div>\\n  </div>\\n  \\n  \\n  \\n  \\n  \\n  \\n</div>\\n  \\n  \\n</div>\\n  </div>\\n\\n  </div>          </section><!-- /end #main-content -->\\n\\n</div>\\n\\n<footer id=\"footer\" class=\"footer\">\\n  <div class=\"region region-footer-top\"><div class=\"region-inner clearfix\"><div id=\"block-misc-footer-top\" class=\"block block-misc no-title odd first last block-count-5 block-region-footer-top block-footer-top\" ><div class=\"block-inner clearfix\">  \\n  \\n  <div class=\"block-content content\"><div class=\"container border-bottom\"><div class=\"row\"><ul class=\"social-media-list one-100\"><li><a href=\"https://www.facebook.com/dailystarnews\" target=\"_blank\" class=\"fa fa-facebook\"><span>facebook</span></a></li><li><a href=\"http://twitter.com/dailystarnews\" target=\"_blank\" class=\"fa fa-twitter\"><span>twitter</span></a></li><li><a href=\"https://www.instagram.com/dailystar_bd/\" target=\"_blank\" class=\"fa fa-instagram\"><span>Instagram</span></a></li><li><a href=\"https://www.pinterest.com/thedailystar\" target=\"_blank\" class=\"fa fa-pinterest\"><span>pinterest</span></a></li><li><a href=\"https://www.youtube.com/user/dailystarnews\" target=\"_blank\" class=\"fa fa-youtube\"><span>youtube</span></a></li></ul></div></div></div>\\n  </div></div></div></div>      <div class=\"container\">\\n      <div class=\"row\">\\n        <div class=\"region region-footer-first\"><div class=\"region-inner clearfix\"><nav id=\"block-menu-block-5\" class=\"block block-menu-block footer-block no-title odd first last block-count-6 block-region-footer-first block-5\"  role=\"navigation\"><div class=\"block-inner clearfix\">  \\n  \\n  <div class=\"block-content content\"><div class=\"menu-block-wrapper menu-block-5 menu-name-menu-footer-others parent-mlid-0 menu-level-1\">\\n  <ul class=\"footer-menu\"><li class=\"first leaf menu-mlid-937\"><a href=\"/about-us\">About Us</a></li><li class=\"leaf menu-mlid-938\"><a href=\"/contact-us\">Contact Us</a></li><li class=\"leaf menu-mlid-1246\"><a href=\"/sms-subscription\">SMS Subscription</a></li><li class=\"leaf menu-mlid-1245\"><a href=\"/apps\">Apps</a></li><li class=\"leaf menu-mlid-936\"><a href=\"/comment-policy\">Comment Policy</a></li><li class=\"leaf menu-mlid-1247\"><a href=\"/rss\">RSS</a></li><li class=\"leaf menu-mlid-1248\"><a href=\"/sitemap\">Sitemap</a></li><li class=\"leaf menu-mlid-1738\"><a href=\"/advertisement\">Advertisement</a></li><li class=\"leaf menu-mlid-1741\"><a href=\"/newsletter\">Newsletter</a></li><li class=\"leaf menu-mlid-3631\"><a href=\"/conference-hall\">Conference Hall</a></li><li class=\"last leaf menu-mlid-1945\"><a href=\"/newspaper\">Archives</a></li></ul></div>\\n</div>\\n  </div></nav></div></div>      </div>\\n    </div>\\n    <div class=\"region region-copyright\"><div class=\"region-inner clearfix\"><div id=\"block-block-1\" class=\"block block-block no-title odd first last block-count-7 block-region-copyright block-1\" ><div class=\"block-inner clearfix\">  \\n  \\n  <div class=\"block-content content\"><div class=\"copyright centered\">&copy; 2020 / <a href=\"http://www.thedailystar.net\">thedailystar.net</a>  |  Powered By:  <a href=\"http://www.rsi-lab.com/\" target=\"_blank\">RSI LAB</a>\\n <br />\\n<span class=\"message-title\">Copyright: </span>Any unauthorized use or reproduction of The Daily Star content for commercial purposes is strictly prohibited and constitutes copyright infringement liable to legal action.</div></div>\\n  </div></div></div></div></footer>\\n<div class=\"region region-notification\"><div class=\"region-inner clearfix\"><div id=\"block-block-73\" class=\"block block-block no-title odd first last block-count-8 block-region-notification block-73\" ><div class=\"block-inner clearfix\">  \\n  \\n  <div class=\"block-content content\"><style type=\"text/css\">\\n#dsspHS {background: #e7edf0;}\\n#dsspHS, #dsspHS img{width:100%; max-width:100%; height:auto;position:fixed;bottom:0;z-index: 9999999; margin:0px auto;}\\n@media only screen and (min-width: 768px){  #dsspHS {background: #e7edf0;}}  \\n#closeHB {position: fixed; right: 5px;bottom:5px;width: 44px; height:44px;opacity: 0.8;z-index: 99999999; background:#fff; -moz-border-radius: 50%;  -webkit-border-radius: 50%; -khtml-border-radius: 50%;border-radius: 50%;}\\n#closeHB:hover {opacity: 1;}\\n#closeHB:before, #closeHB:after {position: absolute;left: 20px;content: \\' \\';height: 28px;width: 1px;background-color: #000;bottom: 8px;}\\n#closeHB:before {transform: rotate(45deg);}\\n#closeHB:after {transform: rotate(-45deg);}\\n@media only screen and (max-width: 768px){\\n#closeHB{width:25px;height:25px;bottom:45px;}\\n#closeHB:before, #closeHB:after {left: 12px;height: 15px;bottom: 4px;}\\n}\\n</style>\\n<div id=\"dsspHS\" class=\"centered\">\\n    <a target=\"_blank\" href=\"https://bit.ly/3eHpU6h\"><img src=\"https://assetsds.cdnedge.bluemix.net/sites/default/files/iub_mobile.gif\" alt=\"\" class=\"d-hide tm-hide\" style=\"position: relative;width:auto;\"/></a>\\n    <div class=\"d-show tm-show\"><div id=\"dfp-ad-homepage_bottom_sticky_hover-wrapper\" class=\"dfp-tag-wrapper\">\\n<div  id=\"dfp-ad-homepage_bottom_sticky_hover\" class=\"dfp-tag-wrapper\">\\n    <script type=\"text/javascript\">\\n    googletag.cmd.push(function() {\\n      googletag.display(\"dfp-ad-homepage_bottom_sticky_hover\");\\n    });\\n  </script>\\n</div>\\n</div></div>\\n    <a href=\"javascript:void(0);\" id=\"closeHB\" class=\"d-show tm-show\"></a>\\n</div>\\n<script>\\njQuery(function(){\\n   jQuery(\\'#closeHB\\').click(function() {  jQuery(\\'#dsspHS\\').hide(\"slow\"); });\\n});\\n</script>\\n\\n</div>\\n  </div></div></div></div>\\n<a class=\"back-to-top\" rel=\"nofollow\"><i class=\"fa fa-arrow-up\"></i><span>Top</span></a>\\n  <div class=\"adsbyvli\" data-ad-slot=\"vi_15233827\"></div> <script> vitag.videoDiscoverConfig = { random: true, hideStaticVideo:true }; (vitag.Init = window.vitag.Init || []).push(function(){viAPItag.initInstreamBanner(\"vi_15233827\")}); </script><script type=\"text/javascript\">\\n<!--//--><![CDATA[//><!--\\ndocument.createElement( \"picture\" );\\n//--><!]]>\\n</script>\\n<script type=\"text/javascript\" async=\"async\" src=\"https://assetsds.cdnedge.bluemix.net//sites/all/themes/tds/scripts/alert-parent.js?qi9fwq\"></script>\\n<script type=\"text/javascript\" src=\"https://assetsds.cdnedge.bluemix.net/sites/default/files/advagg_js/js__PUP06lxNqHmICHr-fkkPr9ORQxh-4FeKlld1jYVpyXA__oUwPoHC0ljYjs-86et2PjUmuB-1VQuvEk21YH50ZNFg__UwWC12kSN2-mQYTssh22velUooSvluhp15iUVLMKL6I.js\"></script>\\n<script type=\"text/javascript\" src=\"https://assetsds.cdnedge.bluemix.net/sites/default/files/advagg_js/js__iy4tD2V8Qjk2AO_IvcwvlYEK8QzfsaG0wbn51KvkAzg__MhtRytU_ulXN7nXUN0dvPBmcrsNpCYJ47XLotpZpA9Q__UwWC12kSN2-mQYTssh22velUooSvluhp15iUVLMKL6I.js\"></script>\\n<script type=\"text/javascript\" src=\"https://assetsds.cdnedge.bluemix.net/sites/default/files/advagg_js/js__XxopiiXZgcOJIfHG3SfBfDDnDLmlYPjytJtAhOKC5qI__RZOmiwtjcjGwRNplbCJN_lx7xDgWLYvEapkfDhElIzs__UwWC12kSN2-mQYTssh22velUooSvluhp15iUVLMKL6I.js\" async=\"async\"></script>\\n<script type=\"text/javascript\" src=\"https://assetsds.cdnedge.bluemix.net/sites/default/files/advagg_js/js__bfsvtoCFGWwZ4UxDfVIuCzPkFb8OMYE4ixOfSMc3O1I__3kXXtmtols03AsWXEnjjXtl3D-y57MCslSqVUYmxdWM__UwWC12kSN2-mQYTssh22velUooSvluhp15iUVLMKL6I.js\"></script>\\n<script async type=\"text/javascript\" src=\"/_Incapsula_Resource?SWJIYLWA=719d34d31c8e3a6e6fffd425f7e032f3&ns=1&cb=302881271\"></script>\\n</body>\\n</html>\\n'"
      ]
     },
     "execution_count": 6,
     "metadata": {},
     "output_type": "execute_result"
    }
   ],
   "source": [
    "# Return xml text \n",
    "raw"
   ]
  },
  {
   "cell_type": "code",
   "execution_count": 7,
   "metadata": {
    "execution": {
     "iopub.execute_input": "2020-10-17T08:26:58.122054Z",
     "iopub.status.busy": "2020-10-17T08:26:58.120999Z",
     "iopub.status.idle": "2020-10-17T08:26:58.126049Z",
     "shell.execute_reply": "2020-10-17T08:26:58.125292Z"
    },
    "papermill": {
     "duration": 0.058877,
     "end_time": "2020-10-17T08:26:58.126180",
     "exception": false,
     "start_time": "2020-10-17T08:26:58.067303",
     "status": "completed"
    },
    "tags": []
   },
   "outputs": [
    {
     "data": {
      "text/plain": [
       "bytes"
      ]
     },
     "execution_count": 7,
     "metadata": {},
     "output_type": "execute_result"
    }
   ],
   "source": [
    "type(raw)"
   ]
  },
  {
   "cell_type": "code",
   "execution_count": 8,
   "metadata": {
    "execution": {
     "iopub.execute_input": "2020-10-17T08:26:58.232353Z",
     "iopub.status.busy": "2020-10-17T08:26:58.231457Z",
     "iopub.status.idle": "2020-10-17T08:26:58.235846Z",
     "shell.execute_reply": "2020-10-17T08:26:58.235218Z"
    },
    "papermill": {
     "duration": 0.059724,
     "end_time": "2020-10-17T08:26:58.235973",
     "exception": false,
     "start_time": "2020-10-17T08:26:58.176249",
     "status": "completed"
    },
    "tags": []
   },
   "outputs": [
    {
     "data": {
      "text/plain": [
       "89702"
      ]
     },
     "execution_count": 8,
     "metadata": {},
     "output_type": "execute_result"
    }
   ],
   "source": [
    "len(raw)"
   ]
  },
  {
   "cell_type": "code",
   "execution_count": 9,
   "metadata": {
    "execution": {
     "iopub.execute_input": "2020-10-17T08:26:58.343969Z",
     "iopub.status.busy": "2020-10-17T08:26:58.343088Z",
     "iopub.status.idle": "2020-10-17T08:26:58.347035Z",
     "shell.execute_reply": "2020-10-17T08:26:58.346432Z"
    },
    "papermill": {
     "duration": 0.059458,
     "end_time": "2020-10-17T08:26:58.347172",
     "exception": false,
     "start_time": "2020-10-17T08:26:58.287714",
     "status": "completed"
    },
    "tags": []
   },
   "outputs": [],
   "source": [
    "raw_data = raw.decode('utf-8')"
   ]
  },
  {
   "cell_type": "code",
   "execution_count": 10,
   "metadata": {
    "execution": {
     "iopub.execute_input": "2020-10-17T08:26:58.453996Z",
     "iopub.status.busy": "2020-10-17T08:26:58.453074Z",
     "iopub.status.idle": "2020-10-17T08:26:58.457912Z",
     "shell.execute_reply": "2020-10-17T08:26:58.457281Z"
    },
    "papermill": {
     "duration": 0.060429,
     "end_time": "2020-10-17T08:26:58.458039",
     "exception": false,
     "start_time": "2020-10-17T08:26:58.397610",
     "status": "completed"
    },
    "tags": []
   },
   "outputs": [
    {
     "data": {
      "text/plain": [
       "89564"
      ]
     },
     "execution_count": 10,
     "metadata": {},
     "output_type": "execute_result"
    }
   ],
   "source": [
    "len(raw_data)"
   ]
  },
  {
   "cell_type": "code",
   "execution_count": 11,
   "metadata": {
    "execution": {
     "iopub.execute_input": "2020-10-17T08:26:58.567898Z",
     "iopub.status.busy": "2020-10-17T08:26:58.566765Z",
     "iopub.status.idle": "2020-10-17T08:26:58.571267Z",
     "shell.execute_reply": "2020-10-17T08:26:58.571918Z"
    },
    "papermill": {
     "duration": 0.062085,
     "end_time": "2020-10-17T08:26:58.572076",
     "exception": false,
     "start_time": "2020-10-17T08:26:58.509991",
     "status": "completed"
    },
    "tags": []
   },
   "outputs": [
    {
     "data": {
      "text/plain": [
       "bytes"
      ]
     },
     "execution_count": 11,
     "metadata": {},
     "output_type": "execute_result"
    }
   ],
   "source": [
    "type(raw)"
   ]
  },
  {
   "cell_type": "code",
   "execution_count": 12,
   "metadata": {
    "execution": {
     "iopub.execute_input": "2020-10-17T08:26:58.683315Z",
     "iopub.status.busy": "2020-10-17T08:26:58.682480Z",
     "iopub.status.idle": "2020-10-17T08:26:58.788082Z",
     "shell.execute_reply": "2020-10-17T08:26:58.787262Z"
    },
    "papermill": {
     "duration": 0.162995,
     "end_time": "2020-10-17T08:26:58.788227",
     "exception": false,
     "start_time": "2020-10-17T08:26:58.625232",
     "status": "completed"
    },
    "tags": []
   },
   "outputs": [
    {
     "ename": "NameError",
     "evalue": "name 'data' is not defined",
     "output_type": "error",
     "traceback": [
      "\u001b[0;31m---------------------------------------------------------------------------\u001b[0m",
      "\u001b[0;31mNameError\u001b[0m                                 Traceback (most recent call last)",
      "\u001b[0;32m<ipython-input-12-39a68e459921>\u001b[0m in \u001b[0;36m<module>\u001b[0;34m\u001b[0m\n\u001b[0;32m----> 1\u001b[0;31m \u001b[0mtokens\u001b[0m \u001b[0;34m=\u001b[0m \u001b[0mnltk\u001b[0m\u001b[0;34m.\u001b[0m\u001b[0mword_tokenize\u001b[0m\u001b[0;34m(\u001b[0m\u001b[0mdata\u001b[0m\u001b[0;34m)\u001b[0m\u001b[0;34m\u001b[0m\u001b[0;34m\u001b[0m\u001b[0m\n\u001b[0m",
      "\u001b[0;31mNameError\u001b[0m: name 'data' is not defined"
     ]
    }
   ],
   "source": [
    "tokens = nltk.word_tokenize(data)"
   ]
  },
  {
   "cell_type": "code",
   "execution_count": 13,
   "metadata": {
    "execution": {
     "iopub.execute_input": "2020-10-17T08:26:58.933899Z",
     "iopub.status.busy": "2020-10-17T08:26:58.916097Z",
     "iopub.status.idle": "2020-10-17T08:26:59.028775Z",
     "shell.execute_reply": "2020-10-17T08:26:59.028123Z"
    },
    "papermill": {
     "duration": 0.187017,
     "end_time": "2020-10-17T08:26:59.028905",
     "exception": false,
     "start_time": "2020-10-17T08:26:58.841888",
     "status": "completed"
    },
    "tags": []
   },
   "outputs": [
    {
     "name": "stdout",
     "output_type": "stream",
     "text": [
      "Displaying 25 of 77 matches:\n",
      "priety of going , and her own tender love for all her three children determine\n",
      "es .\" \" I believe you are right , my love ; it will be better that there shoul\n",
      " . It implies everything amiable . I love him already .\" \" I think you will li\n",
      "sentiment of approbation inferior to love .\" \" You may esteem him .\" \" I have \n",
      "n what it was to separate esteem and love .\" Mrs . Dashwood now took pains to \n",
      "oner did she perceive any symptom of love in his behaviour to Elinor , than sh\n",
      " how shall we do without her ?\" \" My love , it will be scarcely a separation .\n",
      "ise . Edward is very amiable , and I love him tenderly . But yet -- he is not \n",
      "ll never see a man whom I can really love . I require so much ! He must have a\n",
      "ry possible charm .\" \" Remember , my love , that you are not seventeen . It is\n",
      "f I do not now . When you tell me to love him as a brother , I shall no more s\n",
      "hat Colonel Brandon was very much in love with Marianne Dashwood . She rather \n",
      "e were ever animated enough to be in love , must have long outlived every sens\n",
      "hirty - five anything near enough to love , to make him a desirable companion \n",
      "roach would have been spared .\" \" My love ,\" said her mother , \" you must not \n",
      "pect that the misery of disappointed love had already been known to him . This\n",
      " most melancholy order of disastrous love . CHAPTER 12 As Elinor and Marianne \n",
      "hen she considered what Marianne ' s love for him was , a quarrel seemed almos\n",
      "ctory way ;-- but you , Elinor , who love to doubt where you can -- it will no\n",
      " man whom we have all such reason to love , and no reason in the world to thin\n",
      "ded as he must be of your sister ' s love , should leave her , and leave her p\n",
      "cannot think that . He must and does love her I am sure .\" \" But with a strang\n",
      " I believe not ,\" cried Elinor . \" I love Willoughby , sincerely love him ; an\n",
      "or . \" I love Willoughby , sincerely love him ; and suspicion of his integrity\n",
      "deed a man could not very well be in love with either of her daughters , witho\n"
     ]
    }
   ],
   "source": [
    "# Concord Functions Test \n",
    "text2.concordance('love')\n",
    "\n",
    "# It will shows all context which has word 'love'"
   ]
  },
  {
   "cell_type": "code",
   "execution_count": 14,
   "metadata": {
    "execution": {
     "iopub.execute_input": "2020-10-17T08:26:59.198825Z",
     "iopub.status.busy": "2020-10-17T08:26:59.174767Z",
     "iopub.status.idle": "2020-10-17T08:27:00.725717Z",
     "shell.execute_reply": "2020-10-17T08:27:00.725070Z"
    },
    "papermill": {
     "duration": 1.643219,
     "end_time": "2020-10-17T08:27:00.725844",
     "exception": false,
     "start_time": "2020-10-17T08:26:59.082625",
     "status": "completed"
    },
    "tags": []
   },
   "outputs": [
    {
     "name": "stdout",
     "output_type": "stream",
     "text": [
      "sister mother brother time mind heart son child way husband eyes as\n",
      "children feelings resolution thoughts friend companion interest\n",
      "fortune\n"
     ]
    }
   ],
   "source": [
    "## Similer Test \n",
    "text2.similar('daughter')\n",
    "## Shows all similer word to 'daughter'"
   ]
  },
  {
   "cell_type": "code",
   "execution_count": 15,
   "metadata": {
    "execution": {
     "iopub.execute_input": "2020-10-17T08:27:00.838448Z",
     "iopub.status.busy": "2020-10-17T08:27:00.837673Z",
     "iopub.status.idle": "2020-10-17T08:27:00.841492Z",
     "shell.execute_reply": "2020-10-17T08:27:00.840806Z"
    },
    "papermill": {
     "duration": 0.062215,
     "end_time": "2020-10-17T08:27:00.841613",
     "exception": false,
     "start_time": "2020-10-17T08:27:00.779398",
     "status": "completed"
    },
    "tags": []
   },
   "outputs": [
    {
     "name": "stdout",
     "output_type": "stream",
     "text": [
      "their_s his_and his_was his_he his_s my_s his_might my_and\n"
     ]
    }
   ],
   "source": [
    "## common_context text\n",
    "text2.common_contexts([\"father\", \"mother\"])"
   ]
  },
  {
   "cell_type": "code",
   "execution_count": null,
   "metadata": {
    "papermill": {
     "duration": 0.053745,
     "end_time": "2020-10-17T08:27:00.949470",
     "exception": false,
     "start_time": "2020-10-17T08:27:00.895725",
     "status": "completed"
    },
    "tags": []
   },
   "outputs": [],
   "source": []
  },
  {
   "cell_type": "markdown",
   "metadata": {
    "papermill": {
     "duration": 0.053745,
     "end_time": "2020-10-17T08:27:01.057293",
     "exception": false,
     "start_time": "2020-10-17T08:27:01.003548",
     "status": "completed"
    },
    "tags": []
   },
   "source": [
    "# NLP Pipeline"
   ]
  },
  {
   "cell_type": "markdown",
   "metadata": {
    "papermill": {
     "duration": 0.05357,
     "end_time": "2020-10-17T08:27:01.165115",
     "exception": false,
     "start_time": "2020-10-17T08:27:01.111545",
     "status": "completed"
    },
    "tags": []
   },
   "source": [
    "### **HTML -> ASCII -> TEXT -> VOCAB(Dictionary)**\n",
    "\n",
    "That means at first we download a web page from URL then we do tokenization(seperate all words) and finally createing dictionary. "
   ]
  },
  {
   "cell_type": "code",
   "execution_count": 16,
   "metadata": {
    "execution": {
     "iopub.execute_input": "2020-10-17T08:27:01.279980Z",
     "iopub.status.busy": "2020-10-17T08:27:01.279038Z",
     "iopub.status.idle": "2020-10-17T08:27:01.304496Z",
     "shell.execute_reply": "2020-10-17T08:27:01.303756Z"
    },
    "papermill": {
     "duration": 0.084925,
     "end_time": "2020-10-17T08:27:01.304626",
     "exception": false,
     "start_time": "2020-10-17T08:27:01.219701",
     "status": "completed"
    },
    "tags": []
   },
   "outputs": [],
   "source": [
    "# Okay now  read a text file called news \n",
    "# A text file downloaded into .txt files \n",
    "data = open('../input/newsbd/news.txt', encoding='latin2').read()"
   ]
  },
  {
   "cell_type": "code",
   "execution_count": 17,
   "metadata": {
    "execution": {
     "iopub.execute_input": "2020-10-17T08:27:01.420914Z",
     "iopub.status.busy": "2020-10-17T08:27:01.419930Z",
     "iopub.status.idle": "2020-10-17T08:27:01.425445Z",
     "shell.execute_reply": "2020-10-17T08:27:01.424834Z"
    },
    "papermill": {
     "duration": 0.066465,
     "end_time": "2020-10-17T08:27:01.425574",
     "exception": false,
     "start_time": "2020-10-17T08:27:01.359109",
     "status": "completed"
    },
    "tags": []
   },
   "outputs": [
    {
     "data": {
      "text/plain": [
       "\"People from different walks of life waged demonstrations on the road in front of the Jatiya Sangsad Bhaban this afternoon, protesting the surge in rape incidents in the country and demanding exemplary punishment for rapists.\\n\\nThe protesters, under the banner of 'Feminist X Generations', an independent women's rights organisation, started the demonstration at around 4:00pm on the road in front of Jatiya Sangsad. Several others organisations also took part in the event. \\n\\nHolding placards, the protesters chanted various slogans condemning the long standing culture of impunity in the country and demanded prompt action to put an end to incidents of rape.\\n\\nThe demonstrators said they took to the streets to raise voice against the patriarchy and violence against women.\\n\\nStressing the need for imparting education to end violence against women, protestors said families, as well as the government, have to come forward in this regard.\\n\\nThey underscored the need for ensuring punishment of rapists and ending the prevailing culture of victim-blaming.\""
      ]
     },
     "execution_count": 17,
     "metadata": {},
     "output_type": "execute_result"
    }
   ],
   "source": [
    "data"
   ]
  },
  {
   "cell_type": "code",
   "execution_count": 18,
   "metadata": {
    "execution": {
     "iopub.execute_input": "2020-10-17T08:27:01.541603Z",
     "iopub.status.busy": "2020-10-17T08:27:01.540500Z",
     "iopub.status.idle": "2020-10-17T08:27:01.545284Z",
     "shell.execute_reply": "2020-10-17T08:27:01.544688Z"
    },
    "papermill": {
     "duration": 0.0648,
     "end_time": "2020-10-17T08:27:01.545421",
     "exception": false,
     "start_time": "2020-10-17T08:27:01.480621",
     "status": "completed"
    },
    "tags": []
   },
   "outputs": [
    {
     "data": {
      "text/plain": [
       "str"
      ]
     },
     "execution_count": 18,
     "metadata": {},
     "output_type": "execute_result"
    }
   ],
   "source": [
    "type(data)"
   ]
  },
  {
   "cell_type": "code",
   "execution_count": 19,
   "metadata": {
    "execution": {
     "iopub.execute_input": "2020-10-17T08:27:01.661956Z",
     "iopub.status.busy": "2020-10-17T08:27:01.661188Z",
     "iopub.status.idle": "2020-10-17T08:27:01.683776Z",
     "shell.execute_reply": "2020-10-17T08:27:01.683089Z"
    },
    "papermill": {
     "duration": 0.082459,
     "end_time": "2020-10-17T08:27:01.683904",
     "exception": false,
     "start_time": "2020-10-17T08:27:01.601445",
     "status": "completed"
    },
    "tags": []
   },
   "outputs": [],
   "source": [
    "# now create tokenization \n",
    "tokens = nltk.word_tokenize(data)"
   ]
  },
  {
   "cell_type": "code",
   "execution_count": 20,
   "metadata": {
    "execution": {
     "iopub.execute_input": "2020-10-17T08:27:01.803364Z",
     "iopub.status.busy": "2020-10-17T08:27:01.802416Z",
     "iopub.status.idle": "2020-10-17T08:27:01.807257Z",
     "shell.execute_reply": "2020-10-17T08:27:01.806526Z"
    },
    "papermill": {
     "duration": 0.067474,
     "end_time": "2020-10-17T08:27:01.807382",
     "exception": false,
     "start_time": "2020-10-17T08:27:01.739908",
     "status": "completed"
    },
    "tags": []
   },
   "outputs": [
    {
     "data": {
      "text/plain": [
       "list"
      ]
     },
     "execution_count": 20,
     "metadata": {},
     "output_type": "execute_result"
    }
   ],
   "source": [
    "type(tokens)"
   ]
  },
  {
   "cell_type": "code",
   "execution_count": 21,
   "metadata": {
    "execution": {
     "iopub.execute_input": "2020-10-17T08:27:01.930589Z",
     "iopub.status.busy": "2020-10-17T08:27:01.929379Z",
     "iopub.status.idle": "2020-10-17T08:27:01.934791Z",
     "shell.execute_reply": "2020-10-17T08:27:01.934018Z"
    },
    "papermill": {
     "duration": 0.071007,
     "end_time": "2020-10-17T08:27:01.934925",
     "exception": false,
     "start_time": "2020-10-17T08:27:01.863918",
     "status": "completed"
    },
    "tags": []
   },
   "outputs": [
    {
     "data": {
      "text/plain": [
       "['People',\n",
       " 'from',\n",
       " 'different',\n",
       " 'walks',\n",
       " 'of',\n",
       " 'life',\n",
       " 'waged',\n",
       " 'demonstrations',\n",
       " 'on',\n",
       " 'the',\n",
       " 'road',\n",
       " 'in',\n",
       " 'front',\n",
       " 'of',\n",
       " 'the',\n",
       " 'Jatiya',\n",
       " 'Sangsad',\n",
       " 'Bhaban',\n",
       " 'this',\n",
       " 'afternoon',\n",
       " ',',\n",
       " 'protesting',\n",
       " 'the',\n",
       " 'surge',\n",
       " 'in',\n",
       " 'rape',\n",
       " 'incidents',\n",
       " 'in',\n",
       " 'the',\n",
       " 'country',\n",
       " 'and',\n",
       " 'demanding',\n",
       " 'exemplary',\n",
       " 'punishment',\n",
       " 'for',\n",
       " 'rapists',\n",
       " '.',\n",
       " 'The',\n",
       " 'protesters',\n",
       " ',',\n",
       " 'under',\n",
       " 'the',\n",
       " 'banner',\n",
       " 'of',\n",
       " \"'Feminist\",\n",
       " 'X',\n",
       " 'Generations',\n",
       " \"'\",\n",
       " ',',\n",
       " 'an',\n",
       " 'independent',\n",
       " 'women',\n",
       " \"'s\",\n",
       " 'rights',\n",
       " 'organisation',\n",
       " ',',\n",
       " 'started',\n",
       " 'the',\n",
       " 'demonstration',\n",
       " 'at',\n",
       " 'around',\n",
       " '4:00pm',\n",
       " 'on',\n",
       " 'the',\n",
       " 'road',\n",
       " 'in',\n",
       " 'front',\n",
       " 'of',\n",
       " 'Jatiya',\n",
       " 'Sangsad',\n",
       " '.',\n",
       " 'Several',\n",
       " 'others',\n",
       " 'organisations',\n",
       " 'also',\n",
       " 'took',\n",
       " 'part',\n",
       " 'in',\n",
       " 'the',\n",
       " 'event',\n",
       " '.',\n",
       " 'Holding',\n",
       " 'placards',\n",
       " ',',\n",
       " 'the',\n",
       " 'protesters',\n",
       " 'chanted',\n",
       " 'various',\n",
       " 'slogans',\n",
       " 'condemning',\n",
       " 'the',\n",
       " 'long',\n",
       " 'standing',\n",
       " 'culture',\n",
       " 'of',\n",
       " 'impunity',\n",
       " 'in',\n",
       " 'the',\n",
       " 'country',\n",
       " 'and',\n",
       " 'demanded',\n",
       " 'prompt',\n",
       " 'action',\n",
       " 'to',\n",
       " 'put',\n",
       " 'an',\n",
       " 'end',\n",
       " 'to',\n",
       " 'incidents',\n",
       " 'of',\n",
       " 'rape',\n",
       " '.',\n",
       " 'The',\n",
       " 'demonstrators',\n",
       " 'said',\n",
       " 'they',\n",
       " 'took',\n",
       " 'to',\n",
       " 'the',\n",
       " 'streets',\n",
       " 'to',\n",
       " 'raise',\n",
       " 'voice',\n",
       " 'against',\n",
       " 'the',\n",
       " 'patriarchy',\n",
       " 'and',\n",
       " 'violence',\n",
       " 'against',\n",
       " 'women',\n",
       " '.',\n",
       " 'Stressing',\n",
       " 'the',\n",
       " 'need',\n",
       " 'for',\n",
       " 'imparting',\n",
       " 'education',\n",
       " 'to',\n",
       " 'end',\n",
       " 'violence',\n",
       " 'against',\n",
       " 'women',\n",
       " ',',\n",
       " 'protestors',\n",
       " 'said',\n",
       " 'families',\n",
       " ',',\n",
       " 'as',\n",
       " 'well',\n",
       " 'as',\n",
       " 'the',\n",
       " 'government',\n",
       " ',',\n",
       " 'have',\n",
       " 'to',\n",
       " 'come',\n",
       " 'forward',\n",
       " 'in',\n",
       " 'this',\n",
       " 'regard',\n",
       " '.',\n",
       " 'They',\n",
       " 'underscored',\n",
       " 'the',\n",
       " 'need',\n",
       " 'for',\n",
       " 'ensuring',\n",
       " 'punishment',\n",
       " 'of',\n",
       " 'rapists',\n",
       " 'and',\n",
       " 'ending',\n",
       " 'the',\n",
       " 'prevailing',\n",
       " 'culture',\n",
       " 'of',\n",
       " 'victim-blaming',\n",
       " '.']"
      ]
     },
     "execution_count": 21,
     "metadata": {},
     "output_type": "execute_result"
    }
   ],
   "source": [
    "# After applying it every words even space were seperated with a cotetation. \n",
    "tokens"
   ]
  },
  {
   "cell_type": "code",
   "execution_count": 22,
   "metadata": {
    "execution": {
     "iopub.execute_input": "2020-10-17T08:27:02.057905Z",
     "iopub.status.busy": "2020-10-17T08:27:02.057118Z",
     "iopub.status.idle": "2020-10-17T08:27:02.061350Z",
     "shell.execute_reply": "2020-10-17T08:27:02.060760Z"
    },
    "papermill": {
     "duration": 0.067892,
     "end_time": "2020-10-17T08:27:02.061483",
     "exception": false,
     "start_time": "2020-10-17T08:27:01.993591",
     "status": "completed"
    },
    "tags": []
   },
   "outputs": [],
   "source": [
    "# Here some of the words has upper and lower case. For better understanding lets make all upper case word into lower case word \n",
    "words = [w.lower() for w in tokens]"
   ]
  },
  {
   "cell_type": "code",
   "execution_count": 23,
   "metadata": {
    "execution": {
     "iopub.execute_input": "2020-10-17T08:27:02.186101Z",
     "iopub.status.busy": "2020-10-17T08:27:02.185077Z",
     "iopub.status.idle": "2020-10-17T08:27:02.190353Z",
     "shell.execute_reply": "2020-10-17T08:27:02.189697Z"
    },
    "papermill": {
     "duration": 0.07155,
     "end_time": "2020-10-17T08:27:02.190480",
     "exception": false,
     "start_time": "2020-10-17T08:27:02.118930",
     "status": "completed"
    },
    "tags": []
   },
   "outputs": [
    {
     "data": {
      "text/plain": [
       "['people',\n",
       " 'from',\n",
       " 'different',\n",
       " 'walks',\n",
       " 'of',\n",
       " 'life',\n",
       " 'waged',\n",
       " 'demonstrations',\n",
       " 'on',\n",
       " 'the',\n",
       " 'road',\n",
       " 'in',\n",
       " 'front',\n",
       " 'of',\n",
       " 'the',\n",
       " 'jatiya',\n",
       " 'sangsad',\n",
       " 'bhaban',\n",
       " 'this',\n",
       " 'afternoon',\n",
       " ',',\n",
       " 'protesting',\n",
       " 'the',\n",
       " 'surge',\n",
       " 'in',\n",
       " 'rape',\n",
       " 'incidents',\n",
       " 'in',\n",
       " 'the',\n",
       " 'country',\n",
       " 'and',\n",
       " 'demanding',\n",
       " 'exemplary',\n",
       " 'punishment',\n",
       " 'for',\n",
       " 'rapists',\n",
       " '.',\n",
       " 'the',\n",
       " 'protesters',\n",
       " ',',\n",
       " 'under',\n",
       " 'the',\n",
       " 'banner',\n",
       " 'of',\n",
       " \"'feminist\",\n",
       " 'x',\n",
       " 'generations',\n",
       " \"'\",\n",
       " ',',\n",
       " 'an',\n",
       " 'independent',\n",
       " 'women',\n",
       " \"'s\",\n",
       " 'rights',\n",
       " 'organisation',\n",
       " ',',\n",
       " 'started',\n",
       " 'the',\n",
       " 'demonstration',\n",
       " 'at',\n",
       " 'around',\n",
       " '4:00pm',\n",
       " 'on',\n",
       " 'the',\n",
       " 'road',\n",
       " 'in',\n",
       " 'front',\n",
       " 'of',\n",
       " 'jatiya',\n",
       " 'sangsad',\n",
       " '.',\n",
       " 'several',\n",
       " 'others',\n",
       " 'organisations',\n",
       " 'also',\n",
       " 'took',\n",
       " 'part',\n",
       " 'in',\n",
       " 'the',\n",
       " 'event',\n",
       " '.',\n",
       " 'holding',\n",
       " 'placards',\n",
       " ',',\n",
       " 'the',\n",
       " 'protesters',\n",
       " 'chanted',\n",
       " 'various',\n",
       " 'slogans',\n",
       " 'condemning',\n",
       " 'the',\n",
       " 'long',\n",
       " 'standing',\n",
       " 'culture',\n",
       " 'of',\n",
       " 'impunity',\n",
       " 'in',\n",
       " 'the',\n",
       " 'country',\n",
       " 'and',\n",
       " 'demanded',\n",
       " 'prompt',\n",
       " 'action',\n",
       " 'to',\n",
       " 'put',\n",
       " 'an',\n",
       " 'end',\n",
       " 'to',\n",
       " 'incidents',\n",
       " 'of',\n",
       " 'rape',\n",
       " '.',\n",
       " 'the',\n",
       " 'demonstrators',\n",
       " 'said',\n",
       " 'they',\n",
       " 'took',\n",
       " 'to',\n",
       " 'the',\n",
       " 'streets',\n",
       " 'to',\n",
       " 'raise',\n",
       " 'voice',\n",
       " 'against',\n",
       " 'the',\n",
       " 'patriarchy',\n",
       " 'and',\n",
       " 'violence',\n",
       " 'against',\n",
       " 'women',\n",
       " '.',\n",
       " 'stressing',\n",
       " 'the',\n",
       " 'need',\n",
       " 'for',\n",
       " 'imparting',\n",
       " 'education',\n",
       " 'to',\n",
       " 'end',\n",
       " 'violence',\n",
       " 'against',\n",
       " 'women',\n",
       " ',',\n",
       " 'protestors',\n",
       " 'said',\n",
       " 'families',\n",
       " ',',\n",
       " 'as',\n",
       " 'well',\n",
       " 'as',\n",
       " 'the',\n",
       " 'government',\n",
       " ',',\n",
       " 'have',\n",
       " 'to',\n",
       " 'come',\n",
       " 'forward',\n",
       " 'in',\n",
       " 'this',\n",
       " 'regard',\n",
       " '.',\n",
       " 'they',\n",
       " 'underscored',\n",
       " 'the',\n",
       " 'need',\n",
       " 'for',\n",
       " 'ensuring',\n",
       " 'punishment',\n",
       " 'of',\n",
       " 'rapists',\n",
       " 'and',\n",
       " 'ending',\n",
       " 'the',\n",
       " 'prevailing',\n",
       " 'culture',\n",
       " 'of',\n",
       " 'victim-blaming',\n",
       " '.']"
      ]
     },
     "execution_count": 23,
     "metadata": {},
     "output_type": "execute_result"
    }
   ],
   "source": [
    "# All word are now lower case \n",
    "words"
   ]
  },
  {
   "cell_type": "code",
   "execution_count": 24,
   "metadata": {
    "execution": {
     "iopub.execute_input": "2020-10-17T08:27:02.316304Z",
     "iopub.status.busy": "2020-10-17T08:27:02.315463Z",
     "iopub.status.idle": "2020-10-17T08:27:02.318846Z",
     "shell.execute_reply": "2020-10-17T08:27:02.319448Z"
    },
    "papermill": {
     "duration": 0.069712,
     "end_time": "2020-10-17T08:27:02.319602",
     "exception": false,
     "start_time": "2020-10-17T08:27:02.249890",
     "status": "completed"
    },
    "tags": []
   },
   "outputs": [
    {
     "name": "stdout",
     "output_type": "stream",
     "text": [
      "Without removing duplicated words total length =  178\n",
      "After removing duplicated words total length =  99\n"
     ]
    }
   ],
   "source": [
    "# Okay fine, now sorting the text \n",
    "# But there could be duplicated words. So, at first remove thoese duplicated words\n",
    "\n",
    "print('Without removing duplicated words total length = ', len(words))\n",
    "\n",
    "vocabs = sorted(set(words))\n",
    "print('After removing duplicated words total length = ', len(vocabs))"
   ]
  },
  {
   "cell_type": "markdown",
   "metadata": {
    "papermill": {
     "duration": 0.059186,
     "end_time": "2020-10-17T08:27:02.438203",
     "exception": false,
     "start_time": "2020-10-17T08:27:02.379017",
     "status": "completed"
    },
    "tags": []
   },
   "source": [
    "# Regular Expressions"
   ]
  },
  {
   "cell_type": "code",
   "execution_count": 25,
   "metadata": {
    "execution": {
     "iopub.execute_input": "2020-10-17T08:27:02.562279Z",
     "iopub.status.busy": "2020-10-17T08:27:02.561490Z",
     "iopub.status.idle": "2020-10-17T08:27:02.565119Z",
     "shell.execute_reply": "2020-10-17T08:27:02.564366Z"
    },
    "papermill": {
     "duration": 0.067821,
     "end_time": "2020-10-17T08:27:02.565247",
     "exception": false,
     "start_time": "2020-10-17T08:27:02.497426",
     "status": "completed"
    },
    "tags": []
   },
   "outputs": [],
   "source": [
    "import re "
   ]
  },
  {
   "cell_type": "code",
   "execution_count": 26,
   "metadata": {
    "execution": {
     "iopub.execute_input": "2020-10-17T08:27:02.693431Z",
     "iopub.status.busy": "2020-10-17T08:27:02.692398Z",
     "iopub.status.idle": "2020-10-17T08:27:03.180122Z",
     "shell.execute_reply": "2020-10-17T08:27:03.180838Z"
    },
    "papermill": {
     "duration": 0.55498,
     "end_time": "2020-10-17T08:27:03.181019",
     "exception": false,
     "start_time": "2020-10-17T08:27:02.626039",
     "status": "completed"
    },
    "tags": []
   },
   "outputs": [
    {
     "data": {
      "text/plain": [
       "['a',\n",
       " 'aa',\n",
       " 'aba',\n",
       " 'abaca',\n",
       " 'abasia',\n",
       " 'abepithymia',\n",
       " 'abhiseka',\n",
       " 'abilla',\n",
       " 'ablepharia',\n",
       " 'ablepsia',\n",
       " 'abolla',\n",
       " 'aboma',\n",
       " 'abracadabra',\n",
       " 'abrachia',\n",
       " 'abscissa',\n",
       " 'absconsa',\n",
       " 'abulia',\n",
       " 'abulomania',\n",
       " 'abuna',\n",
       " 'abura',\n",
       " 'acampsia',\n",
       " 'acana',\n",
       " 'acantha',\n",
       " 'acanthoma',\n",
       " 'acapnia',\n",
       " 'acara',\n",
       " 'acardia',\n",
       " 'acarophobia',\n",
       " 'acatalepsia',\n",
       " 'acatamathesia',\n",
       " 'acataphasia',\n",
       " 'acatastasia',\n",
       " 'acatharsia',\n",
       " 'acca',\n",
       " 'accidia',\n",
       " 'acedia',\n",
       " 'acephalia',\n",
       " 'acerra',\n",
       " 'acetonemia',\n",
       " 'acetonuria',\n",
       " 'acetylurea',\n",
       " 'achalasia',\n",
       " 'acheilia',\n",
       " 'acheiria',\n",
       " 'achillodynia',\n",
       " 'achira',\n",
       " 'achlorhydria',\n",
       " 'achloropsia',\n",
       " 'acholia',\n",
       " 'acholuria',\n",
       " 'achondroplasia',\n",
       " 'achroiocythaemia',\n",
       " 'achroiocythemia',\n",
       " 'achroma',\n",
       " 'achromasia',\n",
       " 'achromatopia',\n",
       " 'achromatopsia',\n",
       " 'achromaturia',\n",
       " 'achromia',\n",
       " 'achromoderma',\n",
       " 'achromotrichia',\n",
       " 'achropsia',\n",
       " 'achylia',\n",
       " 'achymia',\n",
       " 'acicula',\n",
       " 'acidemia',\n",
       " 'acmesthesia',\n",
       " 'acnemia',\n",
       " 'acoma',\n",
       " 'acomia',\n",
       " 'aconitia',\n",
       " 'acorea',\n",
       " 'acoria',\n",
       " 'acouophonia',\n",
       " 'acoupa',\n",
       " 'acousmata',\n",
       " 'acquirenda',\n",
       " 'acrasia',\n",
       " 'acratia',\n",
       " 'acrisia',\n",
       " 'acroaesthesia',\n",
       " 'acroama',\n",
       " 'acroanesthesia',\n",
       " 'acroasphyxia',\n",
       " 'acroataxia',\n",
       " 'acrocephalia',\n",
       " 'acrodynia',\n",
       " 'acroesthesia',\n",
       " 'acromania',\n",
       " 'acromegalia',\n",
       " 'acromelalgia',\n",
       " 'acromicria',\n",
       " 'acromyotonia',\n",
       " 'acroparesthesia',\n",
       " 'acrophobia',\n",
       " 'acrorrheuma',\n",
       " 'acroscleroderma',\n",
       " 'acta',\n",
       " 'actinenchyma',\n",
       " 'actinobranchia',\n",
       " 'actinomycoma',\n",
       " 'actinosoma',\n",
       " 'actinotoxemia',\n",
       " 'actinotrocha',\n",
       " 'actinula',\n",
       " 'acuaesthesia',\n",
       " 'acuesthesia',\n",
       " 'aculea',\n",
       " 'acushla',\n",
       " 'acyanoblepsia',\n",
       " 'acyanopsia',\n",
       " 'acystia',\n",
       " 'adactylia',\n",
       " 'adamantinoma',\n",
       " 'adamantoblastoma',\n",
       " 'adamantoma',\n",
       " 'adda',\n",
       " 'addenda',\n",
       " 'adenalgia',\n",
       " 'adenasthenia',\n",
       " 'adenectopia',\n",
       " 'adenia',\n",
       " 'adenoacanthoma',\n",
       " 'adenocarcinoma',\n",
       " 'adenochondroma',\n",
       " 'adenochondrosarcoma',\n",
       " 'adenocystoma',\n",
       " 'adenodermia',\n",
       " 'adenodynia',\n",
       " 'adenofibroma',\n",
       " 'adenohypersthenia',\n",
       " 'adenoliomyofibroma',\n",
       " 'adenolipoma',\n",
       " 'adenolymphoma',\n",
       " 'adenoma',\n",
       " 'adenomalacia',\n",
       " 'adenomyofibroma',\n",
       " 'adenomyoma',\n",
       " 'adenomyxoma',\n",
       " 'adenomyxosarcoma',\n",
       " 'adenophthalmia',\n",
       " 'adenophyma',\n",
       " 'adenosarcoma',\n",
       " 'adephagia',\n",
       " 'adermia',\n",
       " 'adhaka',\n",
       " 'adharma',\n",
       " 'adipofibroma',\n",
       " 'adipoma',\n",
       " 'adipopexia',\n",
       " 'adiposuria',\n",
       " 'adipsia',\n",
       " 'adminicula',\n",
       " 'adularia',\n",
       " 'adventitia',\n",
       " 'adversaria',\n",
       " 'adynamia',\n",
       " 'adyta',\n",
       " 'aedicula',\n",
       " 'aegagropila',\n",
       " 'aegicrania',\n",
       " 'aegyptilla',\n",
       " 'aelurophobia',\n",
       " 'aeolharmonica',\n",
       " 'aeolina',\n",
       " 'aerenchyma',\n",
       " 'aerenterectasia',\n",
       " 'aerocamera',\n",
       " 'aerodermectasia',\n",
       " 'aeroenterectasia',\n",
       " 'aeroperitonia',\n",
       " 'aerophagia',\n",
       " 'aerophobia',\n",
       " 'aevia',\n",
       " 'afara',\n",
       " 'affa',\n",
       " 'aftaba',\n",
       " 'aftosa',\n",
       " 'aga',\n",
       " 'agacella',\n",
       " 'agalactia',\n",
       " 'agalaxia',\n",
       " 'agalma',\n",
       " 'agama',\n",
       " 'agarita',\n",
       " 'agastroneuria',\n",
       " 'agenda',\n",
       " 'agenesia',\n",
       " 'ageusia',\n",
       " 'ageustia',\n",
       " 'agha',\n",
       " 'agla',\n",
       " 'aglaozonia',\n",
       " 'aglobulia',\n",
       " 'aglossia',\n",
       " 'agnathia',\n",
       " 'agnosia',\n",
       " 'agoniada',\n",
       " 'agora',\n",
       " 'agoraphobia',\n",
       " 'agouara',\n",
       " 'agouta',\n",
       " 'agraphia',\n",
       " 'agria',\n",
       " 'agrypnia',\n",
       " 'agua',\n",
       " 'aguavina',\n",
       " 'agyria',\n",
       " 'aha',\n",
       " 'ahaaina',\n",
       " 'ahankara',\n",
       " 'ahimsa',\n",
       " 'ahluwalia',\n",
       " 'ahura',\n",
       " 'ahypnia',\n",
       " 'aichmophobia',\n",
       " 'aimara',\n",
       " 'airphobia',\n",
       " 'aischrolatreia',\n",
       " 'ajaja',\n",
       " 'ajava',\n",
       " 'ajivika',\n",
       " 'aka',\n",
       " 'akala',\n",
       " 'akalimba',\n",
       " 'akaroa',\n",
       " 'akasa',\n",
       " 'akazga',\n",
       " 'akhyana',\n",
       " 'akia',\n",
       " 'akinesia',\n",
       " 'akoasma',\n",
       " 'akoluthia',\n",
       " 'akra',\n",
       " 'ala',\n",
       " 'alacha',\n",
       " 'alada',\n",
       " 'alala',\n",
       " 'alalonga',\n",
       " 'alalunga',\n",
       " 'alameda',\n",
       " 'alba',\n",
       " 'albahaca',\n",
       " 'albata',\n",
       " 'albinuria',\n",
       " 'albuginea',\n",
       " 'albuminaturia',\n",
       " 'albuminocholia',\n",
       " 'albuminorrhea',\n",
       " 'albuminuria',\n",
       " 'albumosuria',\n",
       " 'alcaldia',\n",
       " 'alcanna',\n",
       " 'alcarraza',\n",
       " 'alchera',\n",
       " 'alcheringa',\n",
       " 'alcoholemia',\n",
       " 'alcoholomania',\n",
       " 'alcoholophilia',\n",
       " 'alcoholuria',\n",
       " 'alectoria',\n",
       " 'alemana',\n",
       " 'alexia',\n",
       " 'alfa',\n",
       " 'alfalfa',\n",
       " 'alfilaria',\n",
       " 'alfileria',\n",
       " 'alfilerilla',\n",
       " 'alfiona',\n",
       " 'alforja',\n",
       " 'alga',\n",
       " 'algaesthesia',\n",
       " 'algalia',\n",
       " 'algarroba',\n",
       " 'algarrobilla',\n",
       " 'algebra',\n",
       " 'algesia',\n",
       " 'algolagnia',\n",
       " 'algophilia',\n",
       " 'algophobia',\n",
       " 'alhenna',\n",
       " 'alienicola',\n",
       " 'alima',\n",
       " 'alipata',\n",
       " 'aljoba',\n",
       " 'alkahestica',\n",
       " 'alkalemia',\n",
       " 'alkalinuria',\n",
       " 'alkaptonuria',\n",
       " 'alkenna',\n",
       " 'allabuta',\n",
       " 'allantoinuria',\n",
       " 'alleluia',\n",
       " 'allergia',\n",
       " 'allesthesia',\n",
       " 'allochetia',\n",
       " 'allochezia',\n",
       " 'allochiria',\n",
       " 'alloeostropha',\n",
       " 'allorhythmia',\n",
       " 'allorrhyhmia',\n",
       " 'allotriodontia',\n",
       " 'allotriophagia',\n",
       " 'allotriuria',\n",
       " 'alloxuraemia',\n",
       " 'alloxuremia',\n",
       " 'alluvia',\n",
       " 'allylthiourea',\n",
       " 'alma',\n",
       " 'almaciga',\n",
       " 'almadia',\n",
       " 'almagra',\n",
       " 'almeidina',\n",
       " 'alochia',\n",
       " 'alogia',\n",
       " 'aloma',\n",
       " 'alopecia',\n",
       " 'alpaca',\n",
       " 'alpha',\n",
       " 'alruna',\n",
       " 'althea',\n",
       " 'alula',\n",
       " 'alumina',\n",
       " 'alumna',\n",
       " 'aluta',\n",
       " 'alveola',\n",
       " 'alveoloclasia',\n",
       " 'alymphia',\n",
       " 'ama',\n",
       " 'amaga',\n",
       " 'amala',\n",
       " 'amalaita',\n",
       " 'amalaka',\n",
       " 'amania',\n",
       " 'amapa',\n",
       " 'amastia',\n",
       " 'amatungula',\n",
       " 'amazia',\n",
       " 'amba',\n",
       " 'ambarella',\n",
       " 'ambiopia',\n",
       " 'amblyacousia',\n",
       " 'amblyaphia',\n",
       " 'amblygeusia',\n",
       " 'amblyopia',\n",
       " 'ambrosia',\n",
       " 'amelia',\n",
       " 'amenia',\n",
       " 'amenorrhea',\n",
       " 'amenorrhoea',\n",
       " 'amentia',\n",
       " 'ametabolia',\n",
       " 'ametria',\n",
       " 'ametropia',\n",
       " 'amimia',\n",
       " 'aminoacidemia',\n",
       " 'aminoaciduria',\n",
       " 'amixia',\n",
       " 'amla',\n",
       " 'amma',\n",
       " 'ammochaeta',\n",
       " 'ammonia',\n",
       " 'ammoniemia',\n",
       " 'ammoniuria',\n",
       " 'amnesia',\n",
       " 'amnia',\n",
       " 'amniorrhea',\n",
       " 'amoeba',\n",
       " 'amoebula',\n",
       " 'amolilla',\n",
       " 'amorphia',\n",
       " 'ampalaya',\n",
       " 'ampalea',\n",
       " 'amphiblastula',\n",
       " 'amphibolia',\n",
       " 'amphicrania',\n",
       " 'amphicytula',\n",
       " 'amphigastrula',\n",
       " 'amphimorula',\n",
       " 'amphisarca',\n",
       " 'amphisbaena',\n",
       " 'amphodiplopia',\n",
       " 'amphora',\n",
       " 'ampulla',\n",
       " 'ampullula',\n",
       " 'amra',\n",
       " 'amreeta',\n",
       " 'amrita',\n",
       " 'amula',\n",
       " 'amulla',\n",
       " 'amurca',\n",
       " 'amusia',\n",
       " 'amyelencephalia',\n",
       " 'amyelia',\n",
       " 'amygdala',\n",
       " 'amylemia',\n",
       " 'amylodyspepsia',\n",
       " 'amylophagia',\n",
       " 'amyluria',\n",
       " 'amyosthenia',\n",
       " 'amyotaxia',\n",
       " 'amyotonia',\n",
       " 'amyotrophia',\n",
       " 'amyxorrhea',\n",
       " 'amyxorrhoea',\n",
       " 'ana',\n",
       " 'anabata',\n",
       " 'anaberoga',\n",
       " 'anacahuita',\n",
       " 'anacara',\n",
       " 'anachueta',\n",
       " 'anacoluthia',\n",
       " 'anaconda',\n",
       " 'anacusia',\n",
       " 'anadenia',\n",
       " 'anadipsia',\n",
       " 'anaemia',\n",
       " 'anaerobia',\n",
       " 'anaesthesia',\n",
       " 'anagignoskomena',\n",
       " 'anagua',\n",
       " 'anakoluthia',\n",
       " 'analecta',\n",
       " 'analemma',\n",
       " 'analgesia',\n",
       " 'analgia',\n",
       " 'anama',\n",
       " 'anana',\n",
       " 'ananda',\n",
       " 'anandria',\n",
       " 'anapanapa',\n",
       " 'anaphia',\n",
       " 'anaphora',\n",
       " 'anaphoria',\n",
       " 'anaphrodisia',\n",
       " 'anaplasia',\n",
       " 'anapnea',\n",
       " 'anaqua',\n",
       " 'anareta',\n",
       " 'anarthria',\n",
       " 'anarya',\n",
       " 'anasarca',\n",
       " 'anathema',\n",
       " 'anatifa',\n",
       " 'anatropia',\n",
       " 'anaudia',\n",
       " 'anazoturia',\n",
       " 'anba',\n",
       " 'ancilla',\n",
       " 'anconagra',\n",
       " 'ancora',\n",
       " 'anda',\n",
       " 'andiroba',\n",
       " 'androgonia',\n",
       " 'androgynia',\n",
       " 'androlepsia',\n",
       " 'andromania',\n",
       " 'androphobia',\n",
       " 'androphonomania',\n",
       " 'anecdota',\n",
       " 'anemia',\n",
       " 'anencephalia',\n",
       " 'anencephalotrophia',\n",
       " 'anenergia',\n",
       " 'anepia',\n",
       " 'anepithymia',\n",
       " 'anerethisia',\n",
       " 'anergia',\n",
       " 'anerythroplasia',\n",
       " 'anesthesia',\n",
       " 'aneuria',\n",
       " 'angaria',\n",
       " 'angelica',\n",
       " 'angiasthenia',\n",
       " 'angiectopia',\n",
       " 'angina',\n",
       " 'angioasthenia',\n",
       " 'angioataxia',\n",
       " 'angiochondroma',\n",
       " 'angiofibroma',\n",
       " 'angioglioma',\n",
       " 'angiohypertonia',\n",
       " 'angiohypotonia',\n",
       " 'angiokeratoma',\n",
       " 'angiolipoma',\n",
       " 'angiolymphoma',\n",
       " 'angioma',\n",
       " 'angiomalacia',\n",
       " 'angiomyoma',\n",
       " 'angiomyosarcoma',\n",
       " 'angionoma',\n",
       " 'angiorrhagia',\n",
       " 'angiorrhea',\n",
       " 'angiosarcoma',\n",
       " 'angiotelectasia',\n",
       " 'angostura',\n",
       " 'angula',\n",
       " 'anguria',\n",
       " 'anhedonia',\n",
       " 'anhima',\n",
       " 'anhinga',\n",
       " 'anhydremia',\n",
       " 'anhydromyelia',\n",
       " 'anilla',\n",
       " 'anima',\n",
       " 'animalcula',\n",
       " 'aniridia',\n",
       " 'anischuria',\n",
       " 'aniseikonia',\n",
       " 'anisochromia',\n",
       " 'anisocoria',\n",
       " 'anisomelia',\n",
       " 'anisometropia',\n",
       " 'anisopia',\n",
       " 'anisuria',\n",
       " 'ankusha',\n",
       " 'ankylocheilia',\n",
       " 'ankylodactylia',\n",
       " 'ankylodontia',\n",
       " 'ankyloglossia',\n",
       " 'ankylophobia',\n",
       " 'ankylopodia',\n",
       " 'ankyloproctia',\n",
       " 'ankylorrhinia',\n",
       " 'ankylostoma',\n",
       " 'ankylotia',\n",
       " 'ankylurethria',\n",
       " 'anna',\n",
       " 'annexa',\n",
       " 'annona',\n",
       " 'anoa',\n",
       " 'anodontia',\n",
       " 'anodynia',\n",
       " 'anoesia',\n",
       " 'anonychia',\n",
       " 'anonyma',\n",
       " 'anoopsia',\n",
       " 'anophoria',\n",
       " 'anophthalmia',\n",
       " 'anopia',\n",
       " 'anopsia',\n",
       " 'anorchia',\n",
       " 'anorexia',\n",
       " 'anorgana',\n",
       " 'anorthopia',\n",
       " 'anosmia',\n",
       " 'anosphrasia',\n",
       " 'anosphresia',\n",
       " 'anotia',\n",
       " 'anotropia',\n",
       " 'anotta',\n",
       " 'anoxemia',\n",
       " 'anoxia',\n",
       " 'ansa',\n",
       " 'anta',\n",
       " 'antapocha',\n",
       " 'antarctica',\n",
       " 'antefurca',\n",
       " 'antenna',\n",
       " 'antennula',\n",
       " 'antepagmenta',\n",
       " 'antepenultima',\n",
       " 'antepirrhema',\n",
       " 'anthela',\n",
       " 'anthema',\n",
       " 'anthemia',\n",
       " 'anthomania',\n",
       " 'anthophobia',\n",
       " 'anthracemia',\n",
       " 'anthracia',\n",
       " 'anthropopathia',\n",
       " 'anthropophobia',\n",
       " 'anthypophora',\n",
       " 'antidiphtheria',\n",
       " 'antihypophora',\n",
       " 'antilegomena',\n",
       " 'antimalaria',\n",
       " 'antimetropia',\n",
       " 'antiparabema',\n",
       " 'antiqua',\n",
       " 'antisquama',\n",
       " 'antitegula',\n",
       " 'antlia',\n",
       " 'antonomasia',\n",
       " 'antra',\n",
       " 'antralgia',\n",
       " 'anuloma',\n",
       " 'anuria',\n",
       " 'anusvara',\n",
       " 'anutraminosa',\n",
       " 'aorta',\n",
       " 'aortarctia',\n",
       " 'aortectasia',\n",
       " 'aortoclasia',\n",
       " 'aortomalacia',\n",
       " 'aortoptosia',\n",
       " 'apa',\n",
       " 'apabhramsa',\n",
       " 'apadana',\n",
       " 'apanthropia',\n",
       " 'apepsia',\n",
       " 'apepsinia',\n",
       " 'aperea',\n",
       " 'apesthesia',\n",
       " 'aphagia',\n",
       " 'aphakia',\n",
       " 'aphasia',\n",
       " 'aphemia',\n",
       " 'apheta',\n",
       " 'aphlebia',\n",
       " 'aphonia',\n",
       " 'aphoria',\n",
       " 'aphrasia',\n",
       " 'aphrodisia',\n",
       " 'aphronia',\n",
       " 'aphtha',\n",
       " 'aphthongia',\n",
       " 'apicula',\n",
       " 'apiphobia',\n",
       " 'aplasia',\n",
       " 'apnea',\n",
       " 'apocha',\n",
       " 'apodema',\n",
       " 'apodia',\n",
       " 'apokrea',\n",
       " 'apologia',\n",
       " 'apomorphia',\n",
       " 'aponia',\n",
       " 'apophonia',\n",
       " 'aporia',\n",
       " 'aporrhegma',\n",
       " 'aposia',\n",
       " 'apositia',\n",
       " 'aposthia',\n",
       " 'apozema',\n",
       " 'appassionata',\n",
       " 'appendalgia',\n",
       " 'appendicalgia',\n",
       " 'appoggiatura',\n",
       " 'apraxia',\n",
       " 'aproctia',\n",
       " 'aprosexia',\n",
       " 'aprosopia',\n",
       " 'apselaphesia',\n",
       " 'apsychia',\n",
       " 'aptyalia',\n",
       " 'apyrexia',\n",
       " 'aqua',\n",
       " 'aquaria',\n",
       " 'aquatinta',\n",
       " 'ara',\n",
       " 'araba',\n",
       " 'arabana',\n",
       " 'araca',\n",
       " 'aracanga',\n",
       " 'arachnoidea',\n",
       " 'arachnopia',\n",
       " 'aramina',\n",
       " 'aranga',\n",
       " 'aranzada',\n",
       " 'arapaima',\n",
       " 'arapunga',\n",
       " 'arara',\n",
       " 'araracanga',\n",
       " 'ararauna',\n",
       " 'arariba',\n",
       " 'araroba',\n",
       " 'arba',\n",
       " 'arboreta',\n",
       " 'arbuscula',\n",
       " 'arca',\n",
       " 'arcana',\n",
       " 'archaeostoma',\n",
       " 'archiblastoma',\n",
       " 'archiblastula',\n",
       " 'archicytula',\n",
       " 'archigastrula',\n",
       " 'archimorula',\n",
       " 'archoptoma',\n",
       " 'archorrhagia',\n",
       " 'archorrhea',\n",
       " 'arcula',\n",
       " 'ardella',\n",
       " 'area',\n",
       " 'arena',\n",
       " 'areola',\n",
       " 'argala',\n",
       " 'argyria',\n",
       " 'aria',\n",
       " 'arietta',\n",
       " 'arista',\n",
       " 'arithmomania',\n",
       " 'armada',\n",
       " 'armadilla',\n",
       " 'armilla',\n",
       " 'armonica',\n",
       " 'arna',\n",
       " 'arnica',\n",
       " 'arnotta',\n",
       " 'aroeira',\n",
       " 'arolla',\n",
       " 'aroma',\n",
       " 'arracacha',\n",
       " 'arrastra',\n",
       " 'arrhinia',\n",
       " 'arrhythmia',\n",
       " 'arriba',\n",
       " 'arroba',\n",
       " 'artaba',\n",
       " 'arteriagra',\n",
       " 'arteriarctia',\n",
       " 'arteriectasia',\n",
       " 'arteriectopia',\n",
       " 'arterioarctia',\n",
       " 'arteriomalacia',\n",
       " 'arterioplania',\n",
       " 'arteriorrhagia',\n",
       " 'artha',\n",
       " 'arthragra',\n",
       " 'arthralgia',\n",
       " 'arthredema',\n",
       " 'arthresthesia',\n",
       " 'arthrobranchia',\n",
       " 'arthrocarcinoma',\n",
       " 'arthroclasia',\n",
       " 'arthrodia',\n",
       " 'arthrodynia',\n",
       " 'arthroempyema',\n",
       " 'arthroneuralgia',\n",
       " 'arthrophyma',\n",
       " 'arthropleura',\n",
       " 'arthrorrhagia',\n",
       " 'arthrosia',\n",
       " 'arthrosterigma',\n",
       " 'arthrotrauma',\n",
       " 'arupa',\n",
       " 'arusa',\n",
       " 'arusha',\n",
       " 'asafetida',\n",
       " 'asana',\n",
       " 'asaphia',\n",
       " 'asarabacca',\n",
       " 'ascoma',\n",
       " 'ascula',\n",
       " 'aselgeia',\n",
       " 'asemasia',\n",
       " 'asemia',\n",
       " 'asfetida',\n",
       " 'asialia',\n",
       " 'asiphonogama',\n",
       " 'asitia',\n",
       " 'asoka',\n",
       " 'asonia',\n",
       " 'aspermia',\n",
       " 'asphyxia',\n",
       " 'aspidiaria',\n",
       " 'aspirata',\n",
       " 'assbaa',\n",
       " 'asta',\n",
       " 'astasia',\n",
       " 'asteria',\n",
       " 'asternia',\n",
       " 'asthenia',\n",
       " 'asthenopia',\n",
       " 'asthma',\n",
       " 'astigmia',\n",
       " 'astomia',\n",
       " 'astraphobia',\n",
       " 'astrapophobia',\n",
       " 'astrocytoma',\n",
       " 'astrocytomata',\n",
       " 'astroglia',\n",
       " 'astrophobia',\n",
       " 'asyla',\n",
       " 'asyllabia',\n",
       " 'asymbolia',\n",
       " 'asynergia',\n",
       " 'ataraxia',\n",
       " 'ataxaphasia',\n",
       " 'ataxia',\n",
       " 'ataxiaphasia',\n",
       " 'ataxophemia',\n",
       " 'atelocardia',\n",
       " 'ateloglossia',\n",
       " 'atelognathia',\n",
       " 'atelomyelia',\n",
       " 'atelopodia',\n",
       " 'ateloprosopia',\n",
       " 'atelorachidia',\n",
       " 'atelostomia',\n",
       " 'athanasia',\n",
       " 'athelia',\n",
       " 'atheroma',\n",
       " 'atheromasia',\n",
       " 'atheromata',\n",
       " 'athrepsia',\n",
       " 'athymia',\n",
       " 'athyria',\n",
       " 'atinga',\n",
       " 'atma',\n",
       " 'atmostea',\n",
       " 'atocha',\n",
       " 'atocia',\n",
       " 'atonia',\n",
       " 'atresia',\n",
       " 'atria',\n",
       " 'atrichia',\n",
       " 'atrocha',\n",
       " 'atrophia',\n",
       " 'atrophoderma',\n",
       " 'atropia',\n",
       " 'atta',\n",
       " 'aubrietia',\n",
       " 'auca',\n",
       " 'auchenia',\n",
       " 'aucuba',\n",
       " 'auditoria',\n",
       " 'aula',\n",
       " 'aumaga',\n",
       " 'aupaka',\n",
       " 'aura',\n",
       " 'aurelia',\n",
       " 'aureola',\n",
       " 'auresca',\n",
       " 'auricula',\n",
       " 'auricularia',\n",
       " 'auriphrygia',\n",
       " 'auriscalpia',\n",
       " 'aurophobia',\n",
       " 'aurora',\n",
       " 'autobasidia',\n",
       " 'autocephalia',\n",
       " 'autoecholalia',\n",
       " 'automa',\n",
       " 'automata',\n",
       " 'automysophobia',\n",
       " 'autopepsia',\n",
       " 'autophagia',\n",
       " 'autophobia',\n",
       " 'autopsychorhythmia',\n",
       " 'autosepticemia',\n",
       " 'autosymnoia',\n",
       " 'autotoxaemia',\n",
       " 'auxocardia',\n",
       " 'ava',\n",
       " 'avadana',\n",
       " 'avadhuta',\n",
       " 'avania',\n",
       " 'avera',\n",
       " 'avicularia',\n",
       " 'avidya',\n",
       " 'avifauna',\n",
       " 'avijja',\n",
       " 'awa',\n",
       " 'axilemma',\n",
       " 'axilemmata',\n",
       " 'axilla',\n",
       " 'axolemma',\n",
       " 'axopodia',\n",
       " 'azadrachta',\n",
       " 'azalea',\n",
       " 'aziola',\n",
       " 'azoospermia',\n",
       " 'azotemia',\n",
       " 'azotorrhoea',\n",
       " 'azoturia',\n",
       " 'azteca',\n",
       " 'ba',\n",
       " 'baa',\n",
       " 'baba',\n",
       " 'babirusa',\n",
       " 'babuina',\n",
       " 'babushka',\n",
       " 'bacaba',\n",
       " 'bacca',\n",
       " 'baccara',\n",
       " 'bacillemia',\n",
       " 'bacillophobia',\n",
       " 'bacilluria',\n",
       " 'bacteremia',\n",
       " 'bacteria',\n",
       " 'bactericholia',\n",
       " 'bacteriemia',\n",
       " 'bacteriophagia',\n",
       " 'bacteriophobia',\n",
       " 'bacteriuria',\n",
       " 'bacula',\n",
       " 'badiaga',\n",
       " 'baffeta',\n",
       " 'bafta',\n",
       " 'baga',\n",
       " 'baggala',\n",
       " 'bahera',\n",
       " 'baidarka',\n",
       " 'bajada',\n",
       " 'bajra',\n",
       " 'baka',\n",
       " 'bakula',\n",
       " 'balaclava',\n",
       " 'balalaika',\n",
       " 'balandra',\n",
       " 'balandrana',\n",
       " 'balanoblennorrhea',\n",
       " 'balanorrhagia',\n",
       " 'balata',\n",
       " 'balausta',\n",
       " 'balboa',\n",
       " 'balistraria',\n",
       " 'balita',\n",
       " 'ballata',\n",
       " 'ballerina',\n",
       " 'ballista',\n",
       " 'balneotherapia',\n",
       " 'balonea',\n",
       " 'balsa',\n",
       " 'balsamina',\n",
       " 'baluchitheria',\n",
       " 'balwarra',\n",
       " 'balza',\n",
       " 'bamboula',\n",
       " 'banaba',\n",
       " 'banana',\n",
       " 'banca',\n",
       " 'banda',\n",
       " 'bandaka',\n",
       " 'bandala',\n",
       " 'bandanna',\n",
       " 'bandhava',\n",
       " 'banga',\n",
       " 'baniwa',\n",
       " 'baniya',\n",
       " 'bankera',\n",
       " 'banovina',\n",
       " 'banya',\n",
       " 'bara',\n",
       " 'barabara',\n",
       " 'barabora',\n",
       " 'barasingha',\n",
       " 'barathea',\n",
       " 'barathra',\n",
       " 'barauna',\n",
       " 'barbaralalia',\n",
       " 'barbellula',\n",
       " 'barcella',\n",
       " 'barcelona',\n",
       " 'bareca',\n",
       " 'baresma',\n",
       " 'baretta',\n",
       " 'baria',\n",
       " 'barilla',\n",
       " 'barra',\n",
       " 'barrabora',\n",
       " 'barracouta',\n",
       " 'barracuda',\n",
       " 'barramunda',\n",
       " 'barranca',\n",
       " 'barriguda',\n",
       " 'baruria',\n",
       " 'baryecoia',\n",
       " 'baryglossia',\n",
       " 'barylalia',\n",
       " 'baryphonia',\n",
       " 'baryta',\n",
       " 'barythymia',\n",
       " 'basalia',\n",
       " 'basidia',\n",
       " 'basilemma',\n",
       " 'basilica',\n",
       " 'basilinna',\n",
       " 'basilissa',\n",
       " 'basiphobia',\n",
       " 'basophilia',\n",
       " 'basophobia',\n",
       " 'bassara',\n",
       " 'bassetta',\n",
       " 'basta',\n",
       " 'batara',\n",
       " 'batata',\n",
       " 'batatilla',\n",
       " 'batea',\n",
       " 'bathophobia',\n",
       " 'bathyanesthesia',\n",
       " 'bathyesthesia',\n",
       " 'bathyhyperesthesia',\n",
       " 'bathyhypesthesia',\n",
       " 'batophobia',\n",
       " 'batrachophobia',\n",
       " 'batta',\n",
       " 'battalia',\n",
       " 'bauta',\n",
       " 'baya',\n",
       " 'bayeta',\n",
       " 'bazooka',\n",
       " 'beala',\n",
       " 'beata',\n",
       " 'bebilya',\n",
       " 'becomma',\n",
       " 'becuiba',\n",
       " 'becuna',\n",
       " 'beflea',\n",
       " ...]"
      ]
     },
     "execution_count": 26,
     "metadata": {},
     "output_type": "execute_result"
    }
   ],
   "source": [
    "# Corpus is a collection of text \n",
    "# Create a word list fro corpus data \n",
    "wordlist = [w for w in nltk.corpus.words.words('en') if w.islower()]\n",
    "\n",
    "# Search data in the list end with a\n",
    "[w for w in wordlist if re.search('a$', w)]"
   ]
  },
  {
   "cell_type": "markdown",
   "metadata": {
    "papermill": {
     "duration": 0.062023,
     "end_time": "2020-10-17T08:27:03.305658",
     "exception": false,
     "start_time": "2020-10-17T08:27:03.243635",
     "status": "completed"
    },
    "tags": []
   },
   "source": [
    "# Stamming\n",
    "It is a process to keep only base word from ful word. Like if 'fighting' is a word it will remove ing from it and inly keep 'Fight'"
   ]
  },
  {
   "cell_type": "code",
   "execution_count": 27,
   "metadata": {
    "execution": {
     "iopub.execute_input": "2020-10-17T08:27:03.432969Z",
     "iopub.status.busy": "2020-10-17T08:27:03.432211Z",
     "iopub.status.idle": "2020-10-17T08:27:03.435991Z",
     "shell.execute_reply": "2020-10-17T08:27:03.435384Z"
    },
    "papermill": {
     "duration": 0.069502,
     "end_time": "2020-10-17T08:27:03.436112",
     "exception": false,
     "start_time": "2020-10-17T08:27:03.366610",
     "status": "completed"
    },
    "tags": []
   },
   "outputs": [],
   "source": [
    "# PorterStammer() : Remove extra words \n",
    "# LancasterStammer(): Correct spelling "
   ]
  },
  {
   "cell_type": "code",
   "execution_count": 28,
   "metadata": {
    "execution": {
     "iopub.execute_input": "2020-10-17T08:27:03.564199Z",
     "iopub.status.busy": "2020-10-17T08:27:03.563418Z",
     "iopub.status.idle": "2020-10-17T08:27:03.568049Z",
     "shell.execute_reply": "2020-10-17T08:27:03.567451Z"
    },
    "papermill": {
     "duration": 0.06966,
     "end_time": "2020-10-17T08:27:03.568179",
     "exception": false,
     "start_time": "2020-10-17T08:27:03.498519",
     "status": "completed"
    },
    "tags": []
   },
   "outputs": [],
   "source": [
    "row_data = open('../input/newsbd/news.txt', encoding='latin2').read()"
   ]
  },
  {
   "cell_type": "code",
   "execution_count": 29,
   "metadata": {
    "execution": {
     "iopub.execute_input": "2020-10-17T08:27:03.695971Z",
     "iopub.status.busy": "2020-10-17T08:27:03.694861Z",
     "iopub.status.idle": "2020-10-17T08:27:03.698397Z",
     "shell.execute_reply": "2020-10-17T08:27:03.699031Z"
    },
    "papermill": {
     "duration": 0.069981,
     "end_time": "2020-10-17T08:27:03.699188",
     "exception": false,
     "start_time": "2020-10-17T08:27:03.629207",
     "status": "completed"
    },
    "tags": []
   },
   "outputs": [
    {
     "data": {
      "text/plain": [
       "\"People from different walks of life waged demonstrations on the road in front of the Jatiya Sangsad Bhaban this afternoon, protesting the surge in rape incidents in the country and demanding exemplary punishment for rapists.\\n\\nThe protesters, under the banner of 'Feminist X Generations', an independent women's rights organisation, started the demonstration at around 4:00pm on the road in front of Jatiya Sangsad. Several others organisations also took part in the event. \\n\\nHolding placards, the protesters chanted various slogans condemning the long standing culture of impunity in the country and demanded prompt action to put an end to incidents of rape.\\n\\nThe demonstrators said they took to the streets to raise voice against the patriarchy and violence against women.\\n\\nStressing the need for imparting education to end violence against women, protestors said families, as well as the government, have to come forward in this regard.\\n\\nThey underscored the need for ensuring punishment of rapists and ending the prevailing culture of victim-blaming.\""
      ]
     },
     "execution_count": 29,
     "metadata": {},
     "output_type": "execute_result"
    }
   ],
   "source": [
    "row_data"
   ]
  },
  {
   "cell_type": "code",
   "execution_count": 30,
   "metadata": {
    "execution": {
     "iopub.execute_input": "2020-10-17T08:27:03.829984Z",
     "iopub.status.busy": "2020-10-17T08:27:03.829061Z",
     "iopub.status.idle": "2020-10-17T08:27:03.832073Z",
     "shell.execute_reply": "2020-10-17T08:27:03.831318Z"
    },
    "papermill": {
     "duration": 0.071692,
     "end_time": "2020-10-17T08:27:03.832219",
     "exception": false,
     "start_time": "2020-10-17T08:27:03.760527",
     "status": "completed"
    },
    "tags": []
   },
   "outputs": [],
   "source": [
    "tokens = nltk.word_tokenize(row_data)"
   ]
  },
  {
   "cell_type": "code",
   "execution_count": 31,
   "metadata": {
    "execution": {
     "iopub.execute_input": "2020-10-17T08:27:03.963060Z",
     "iopub.status.busy": "2020-10-17T08:27:03.962184Z",
     "iopub.status.idle": "2020-10-17T08:27:03.966284Z",
     "shell.execute_reply": "2020-10-17T08:27:03.965571Z"
    },
    "papermill": {
     "duration": 0.070404,
     "end_time": "2020-10-17T08:27:03.966409",
     "exception": false,
     "start_time": "2020-10-17T08:27:03.896005",
     "status": "completed"
    },
    "tags": []
   },
   "outputs": [],
   "source": [
    "# Now Creating stammer \n",
    "p = nltk.PorterStemmer() \n",
    "l = nltk.LancasterStemmer()"
   ]
  },
  {
   "cell_type": "code",
   "execution_count": 32,
   "metadata": {
    "execution": {
     "iopub.execute_input": "2020-10-17T08:27:04.109670Z",
     "iopub.status.busy": "2020-10-17T08:27:04.108724Z",
     "iopub.status.idle": "2020-10-17T08:27:04.113906Z",
     "shell.execute_reply": "2020-10-17T08:27:04.113274Z"
    },
    "papermill": {
     "duration": 0.083874,
     "end_time": "2020-10-17T08:27:04.114029",
     "exception": false,
     "start_time": "2020-10-17T08:27:04.030155",
     "status": "completed"
    },
    "tags": []
   },
   "outputs": [
    {
     "data": {
      "text/plain": [
       "['peopl',\n",
       " 'from',\n",
       " 'differ',\n",
       " 'walk',\n",
       " 'of',\n",
       " 'life',\n",
       " 'wage',\n",
       " 'demonstr',\n",
       " 'on',\n",
       " 'the',\n",
       " 'road',\n",
       " 'in',\n",
       " 'front',\n",
       " 'of',\n",
       " 'the',\n",
       " 'jatiya',\n",
       " 'sangsad',\n",
       " 'bhaban',\n",
       " 'thi',\n",
       " 'afternoon',\n",
       " ',',\n",
       " 'protest',\n",
       " 'the',\n",
       " 'surg',\n",
       " 'in',\n",
       " 'rape',\n",
       " 'incid',\n",
       " 'in',\n",
       " 'the',\n",
       " 'countri',\n",
       " 'and',\n",
       " 'demand',\n",
       " 'exemplari',\n",
       " 'punish',\n",
       " 'for',\n",
       " 'rapist',\n",
       " '.',\n",
       " 'the',\n",
       " 'protest',\n",
       " ',',\n",
       " 'under',\n",
       " 'the',\n",
       " 'banner',\n",
       " 'of',\n",
       " \"'feminist\",\n",
       " 'X',\n",
       " 'gener',\n",
       " \"'\",\n",
       " ',',\n",
       " 'an',\n",
       " 'independ',\n",
       " 'women',\n",
       " \"'s\",\n",
       " 'right',\n",
       " 'organis',\n",
       " ',',\n",
       " 'start',\n",
       " 'the',\n",
       " 'demonstr',\n",
       " 'at',\n",
       " 'around',\n",
       " '4:00pm',\n",
       " 'on',\n",
       " 'the',\n",
       " 'road',\n",
       " 'in',\n",
       " 'front',\n",
       " 'of',\n",
       " 'jatiya',\n",
       " 'sangsad',\n",
       " '.',\n",
       " 'sever',\n",
       " 'other',\n",
       " 'organis',\n",
       " 'also',\n",
       " 'took',\n",
       " 'part',\n",
       " 'in',\n",
       " 'the',\n",
       " 'event',\n",
       " '.',\n",
       " 'hold',\n",
       " 'placard',\n",
       " ',',\n",
       " 'the',\n",
       " 'protest',\n",
       " 'chant',\n",
       " 'variou',\n",
       " 'slogan',\n",
       " 'condemn',\n",
       " 'the',\n",
       " 'long',\n",
       " 'stand',\n",
       " 'cultur',\n",
       " 'of',\n",
       " 'impun',\n",
       " 'in',\n",
       " 'the',\n",
       " 'countri',\n",
       " 'and',\n",
       " 'demand',\n",
       " 'prompt',\n",
       " 'action',\n",
       " 'to',\n",
       " 'put',\n",
       " 'an',\n",
       " 'end',\n",
       " 'to',\n",
       " 'incid',\n",
       " 'of',\n",
       " 'rape',\n",
       " '.',\n",
       " 'the',\n",
       " 'demonstr',\n",
       " 'said',\n",
       " 'they',\n",
       " 'took',\n",
       " 'to',\n",
       " 'the',\n",
       " 'street',\n",
       " 'to',\n",
       " 'rais',\n",
       " 'voic',\n",
       " 'against',\n",
       " 'the',\n",
       " 'patriarchi',\n",
       " 'and',\n",
       " 'violenc',\n",
       " 'against',\n",
       " 'women',\n",
       " '.',\n",
       " 'stress',\n",
       " 'the',\n",
       " 'need',\n",
       " 'for',\n",
       " 'impart',\n",
       " 'educ',\n",
       " 'to',\n",
       " 'end',\n",
       " 'violenc',\n",
       " 'against',\n",
       " 'women',\n",
       " ',',\n",
       " 'protestor',\n",
       " 'said',\n",
       " 'famili',\n",
       " ',',\n",
       " 'as',\n",
       " 'well',\n",
       " 'as',\n",
       " 'the',\n",
       " 'govern',\n",
       " ',',\n",
       " 'have',\n",
       " 'to',\n",
       " 'come',\n",
       " 'forward',\n",
       " 'in',\n",
       " 'thi',\n",
       " 'regard',\n",
       " '.',\n",
       " 'they',\n",
       " 'underscor',\n",
       " 'the',\n",
       " 'need',\n",
       " 'for',\n",
       " 'ensur',\n",
       " 'punish',\n",
       " 'of',\n",
       " 'rapist',\n",
       " 'and',\n",
       " 'end',\n",
       " 'the',\n",
       " 'prevail',\n",
       " 'cultur',\n",
       " 'of',\n",
       " 'victim-blam',\n",
       " '.']"
      ]
     },
     "execution_count": 32,
     "metadata": {},
     "output_type": "execute_result"
    }
   ],
   "source": [
    "[p.stem(t) for t in tokens]"
   ]
  },
  {
   "cell_type": "code",
   "execution_count": 33,
   "metadata": {
    "execution": {
     "iopub.execute_input": "2020-10-17T08:27:04.256204Z",
     "iopub.status.busy": "2020-10-17T08:27:04.255089Z",
     "iopub.status.idle": "2020-10-17T08:27:04.260071Z",
     "shell.execute_reply": "2020-10-17T08:27:04.259309Z"
    },
    "papermill": {
     "duration": 0.083367,
     "end_time": "2020-10-17T08:27:04.260197",
     "exception": false,
     "start_time": "2020-10-17T08:27:04.176830",
     "status": "completed"
    },
    "tags": []
   },
   "outputs": [
    {
     "data": {
      "text/plain": [
       "['peopl',\n",
       " 'from',\n",
       " 'diff',\n",
       " 'walk',\n",
       " 'of',\n",
       " 'lif',\n",
       " 'wag',\n",
       " 'demonst',\n",
       " 'on',\n",
       " 'the',\n",
       " 'road',\n",
       " 'in',\n",
       " 'front',\n",
       " 'of',\n",
       " 'the',\n",
       " 'jatiy',\n",
       " 'sangsad',\n",
       " 'bhab',\n",
       " 'thi',\n",
       " 'afternoon',\n",
       " ',',\n",
       " 'protest',\n",
       " 'the',\n",
       " 'surg',\n",
       " 'in',\n",
       " 'rap',\n",
       " 'incid',\n",
       " 'in',\n",
       " 'the',\n",
       " 'country',\n",
       " 'and',\n",
       " 'demand',\n",
       " 'exempl',\n",
       " 'pun',\n",
       " 'for',\n",
       " 'rap',\n",
       " '.',\n",
       " 'the',\n",
       " 'protest',\n",
       " ',',\n",
       " 'und',\n",
       " 'the',\n",
       " 'ban',\n",
       " 'of',\n",
       " \"'feminist\",\n",
       " 'x',\n",
       " 'gen',\n",
       " \"'\",\n",
       " ',',\n",
       " 'an',\n",
       " 'independ',\n",
       " 'wom',\n",
       " \"'s\",\n",
       " 'right',\n",
       " 'org',\n",
       " ',',\n",
       " 'start',\n",
       " 'the',\n",
       " 'demonst',\n",
       " 'at',\n",
       " 'around',\n",
       " '4:00pm',\n",
       " 'on',\n",
       " 'the',\n",
       " 'road',\n",
       " 'in',\n",
       " 'front',\n",
       " 'of',\n",
       " 'jatiy',\n",
       " 'sangsad',\n",
       " '.',\n",
       " 'sev',\n",
       " 'oth',\n",
       " 'org',\n",
       " 'also',\n",
       " 'took',\n",
       " 'part',\n",
       " 'in',\n",
       " 'the',\n",
       " 'ev',\n",
       " '.',\n",
       " 'hold',\n",
       " 'placard',\n",
       " ',',\n",
       " 'the',\n",
       " 'protest',\n",
       " 'chant',\n",
       " 'vary',\n",
       " 'slog',\n",
       " 'condemn',\n",
       " 'the',\n",
       " 'long',\n",
       " 'stand',\n",
       " 'cult',\n",
       " 'of',\n",
       " 'impun',\n",
       " 'in',\n",
       " 'the',\n",
       " 'country',\n",
       " 'and',\n",
       " 'demand',\n",
       " 'prompt',\n",
       " 'act',\n",
       " 'to',\n",
       " 'put',\n",
       " 'an',\n",
       " 'end',\n",
       " 'to',\n",
       " 'incid',\n",
       " 'of',\n",
       " 'rap',\n",
       " '.',\n",
       " 'the',\n",
       " 'demonst',\n",
       " 'said',\n",
       " 'they',\n",
       " 'took',\n",
       " 'to',\n",
       " 'the',\n",
       " 'streets',\n",
       " 'to',\n",
       " 'rais',\n",
       " 'voic',\n",
       " 'against',\n",
       " 'the',\n",
       " 'patriarchy',\n",
       " 'and',\n",
       " 'viol',\n",
       " 'against',\n",
       " 'wom',\n",
       " '.',\n",
       " 'stressing',\n",
       " 'the',\n",
       " 'nee',\n",
       " 'for',\n",
       " 'impart',\n",
       " 'educ',\n",
       " 'to',\n",
       " 'end',\n",
       " 'viol',\n",
       " 'against',\n",
       " 'wom',\n",
       " ',',\n",
       " 'protest',\n",
       " 'said',\n",
       " 'famy',\n",
       " ',',\n",
       " 'as',\n",
       " 'wel',\n",
       " 'as',\n",
       " 'the',\n",
       " 'govern',\n",
       " ',',\n",
       " 'hav',\n",
       " 'to',\n",
       " 'com',\n",
       " 'forward',\n",
       " 'in',\n",
       " 'thi',\n",
       " 'regard',\n",
       " '.',\n",
       " 'they',\n",
       " 'undersc',\n",
       " 'the',\n",
       " 'nee',\n",
       " 'for',\n",
       " 'ens',\n",
       " 'pun',\n",
       " 'of',\n",
       " 'rap',\n",
       " 'and',\n",
       " 'end',\n",
       " 'the',\n",
       " 'prevail',\n",
       " 'cult',\n",
       " 'of',\n",
       " 'victim-blaming',\n",
       " '.']"
      ]
     },
     "execution_count": 33,
     "metadata": {},
     "output_type": "execute_result"
    }
   ],
   "source": [
    "[l.stem(t) for t in tokens]"
   ]
  },
  {
   "cell_type": "markdown",
   "metadata": {
    "papermill": {
     "duration": 0.063416,
     "end_time": "2020-10-17T08:27:04.387815",
     "exception": false,
     "start_time": "2020-10-17T08:27:04.324399",
     "status": "completed"
    },
    "tags": []
   },
   "source": [
    "# Lemmatisation \n",
    "It is a process to groping togeher the different infected words in a forms of word so that it can be analyzed as a single word."
   ]
  },
  {
   "cell_type": "code",
   "execution_count": 34,
   "metadata": {
    "execution": {
     "iopub.execute_input": "2020-10-17T08:27:04.522878Z",
     "iopub.status.busy": "2020-10-17T08:27:04.522073Z",
     "iopub.status.idle": "2020-10-17T08:27:07.202846Z",
     "shell.execute_reply": "2020-10-17T08:27:07.202057Z"
    },
    "papermill": {
     "duration": 2.750263,
     "end_time": "2020-10-17T08:27:07.202985",
     "exception": false,
     "start_time": "2020-10-17T08:27:04.452722",
     "status": "completed"
    },
    "tags": []
   },
   "outputs": [
    {
     "data": {
      "text/plain": [
       "['People',\n",
       " 'from',\n",
       " 'different',\n",
       " 'walk',\n",
       " 'of',\n",
       " 'life',\n",
       " 'waged',\n",
       " 'demonstration',\n",
       " 'on',\n",
       " 'the',\n",
       " 'road',\n",
       " 'in',\n",
       " 'front',\n",
       " 'of',\n",
       " 'the',\n",
       " 'Jatiya',\n",
       " 'Sangsad',\n",
       " 'Bhaban',\n",
       " 'this',\n",
       " 'afternoon',\n",
       " ',',\n",
       " 'protesting',\n",
       " 'the',\n",
       " 'surge',\n",
       " 'in',\n",
       " 'rape',\n",
       " 'incident',\n",
       " 'in',\n",
       " 'the',\n",
       " 'country',\n",
       " 'and',\n",
       " 'demanding',\n",
       " 'exemplary',\n",
       " 'punishment',\n",
       " 'for',\n",
       " 'rapist',\n",
       " '.',\n",
       " 'The',\n",
       " 'protester',\n",
       " ',',\n",
       " 'under',\n",
       " 'the',\n",
       " 'banner',\n",
       " 'of',\n",
       " \"'Feminist\",\n",
       " 'X',\n",
       " 'Generations',\n",
       " \"'\",\n",
       " ',',\n",
       " 'an',\n",
       " 'independent',\n",
       " 'woman',\n",
       " \"'s\",\n",
       " 'right',\n",
       " 'organisation',\n",
       " ',',\n",
       " 'started',\n",
       " 'the',\n",
       " 'demonstration',\n",
       " 'at',\n",
       " 'around',\n",
       " '4:00pm',\n",
       " 'on',\n",
       " 'the',\n",
       " 'road',\n",
       " 'in',\n",
       " 'front',\n",
       " 'of',\n",
       " 'Jatiya',\n",
       " 'Sangsad',\n",
       " '.',\n",
       " 'Several',\n",
       " 'others',\n",
       " 'organisation',\n",
       " 'also',\n",
       " 'took',\n",
       " 'part',\n",
       " 'in',\n",
       " 'the',\n",
       " 'event',\n",
       " '.',\n",
       " 'Holding',\n",
       " 'placard',\n",
       " ',',\n",
       " 'the',\n",
       " 'protester',\n",
       " 'chanted',\n",
       " 'various',\n",
       " 'slogan',\n",
       " 'condemning',\n",
       " 'the',\n",
       " 'long',\n",
       " 'standing',\n",
       " 'culture',\n",
       " 'of',\n",
       " 'impunity',\n",
       " 'in',\n",
       " 'the',\n",
       " 'country',\n",
       " 'and',\n",
       " 'demanded',\n",
       " 'prompt',\n",
       " 'action',\n",
       " 'to',\n",
       " 'put',\n",
       " 'an',\n",
       " 'end',\n",
       " 'to',\n",
       " 'incident',\n",
       " 'of',\n",
       " 'rape',\n",
       " '.',\n",
       " 'The',\n",
       " 'demonstrator',\n",
       " 'said',\n",
       " 'they',\n",
       " 'took',\n",
       " 'to',\n",
       " 'the',\n",
       " 'street',\n",
       " 'to',\n",
       " 'raise',\n",
       " 'voice',\n",
       " 'against',\n",
       " 'the',\n",
       " 'patriarchy',\n",
       " 'and',\n",
       " 'violence',\n",
       " 'against',\n",
       " 'woman',\n",
       " '.',\n",
       " 'Stressing',\n",
       " 'the',\n",
       " 'need',\n",
       " 'for',\n",
       " 'imparting',\n",
       " 'education',\n",
       " 'to',\n",
       " 'end',\n",
       " 'violence',\n",
       " 'against',\n",
       " 'woman',\n",
       " ',',\n",
       " 'protestors',\n",
       " 'said',\n",
       " 'family',\n",
       " ',',\n",
       " 'a',\n",
       " 'well',\n",
       " 'a',\n",
       " 'the',\n",
       " 'government',\n",
       " ',',\n",
       " 'have',\n",
       " 'to',\n",
       " 'come',\n",
       " 'forward',\n",
       " 'in',\n",
       " 'this',\n",
       " 'regard',\n",
       " '.',\n",
       " 'They',\n",
       " 'underscored',\n",
       " 'the',\n",
       " 'need',\n",
       " 'for',\n",
       " 'ensuring',\n",
       " 'punishment',\n",
       " 'of',\n",
       " 'rapist',\n",
       " 'and',\n",
       " 'ending',\n",
       " 'the',\n",
       " 'prevailing',\n",
       " 'culture',\n",
       " 'of',\n",
       " 'victim-blaming',\n",
       " '.']"
      ]
     },
     "execution_count": 34,
     "metadata": {},
     "output_type": "execute_result"
    }
   ],
   "source": [
    "# It will not removing any fefx (last extension of the words) and each words has a meaning\n",
    "le = nltk.WordNetLemmatizer()\n",
    "[le.lemmatize(t) for t in tokens]"
   ]
  },
  {
   "cell_type": "markdown",
   "metadata": {
    "papermill": {
     "duration": 0.065957,
     "end_time": "2020-10-17T08:27:07.337474",
     "exception": false,
     "start_time": "2020-10-17T08:27:07.271517",
     "status": "completed"
    },
    "tags": []
   },
   "source": [
    "# Segmentation "
   ]
  },
  {
   "cell_type": "code",
   "execution_count": 35,
   "metadata": {
    "execution": {
     "iopub.execute_input": "2020-10-17T08:27:07.534501Z",
     "iopub.status.busy": "2020-10-17T08:27:07.533678Z",
     "iopub.status.idle": "2020-10-17T08:27:07.538050Z",
     "shell.execute_reply": "2020-10-17T08:27:07.537271Z"
    },
    "papermill": {
     "duration": 0.135087,
     "end_time": "2020-10-17T08:27:07.538176",
     "exception": false,
     "start_time": "2020-10-17T08:27:07.403089",
     "status": "completed"
    },
    "tags": []
   },
   "outputs": [],
   "source": [
    "# load segmenter \n",
    "sen_segmenter = nltk.data.load('tokenizers/punkt/english.pickle')"
   ]
  },
  {
   "cell_type": "code",
   "execution_count": 36,
   "metadata": {
    "execution": {
     "iopub.execute_input": "2020-10-17T08:27:07.681641Z",
     "iopub.status.busy": "2020-10-17T08:27:07.680783Z",
     "iopub.status.idle": "2020-10-17T08:27:07.685873Z",
     "shell.execute_reply": "2020-10-17T08:27:07.685199Z"
    },
    "papermill": {
     "duration": 0.075941,
     "end_time": "2020-10-17T08:27:07.686010",
     "exception": false,
     "start_time": "2020-10-17T08:27:07.610069",
     "status": "completed"
    },
    "tags": []
   },
   "outputs": [],
   "source": [
    "# load data from corpus \n",
    "text = nltk.corpus.gutenberg.raw('chesterton-thursday.txt')"
   ]
  },
  {
   "cell_type": "code",
   "execution_count": 37,
   "metadata": {
    "execution": {
     "iopub.execute_input": "2020-10-17T08:27:07.870578Z",
     "iopub.status.busy": "2020-10-17T08:27:07.864616Z",
     "iopub.status.idle": "2020-10-17T08:27:08.028232Z",
     "shell.execute_reply": "2020-10-17T08:27:08.027413Z"
    },
    "papermill": {
     "duration": 0.275186,
     "end_time": "2020-10-17T08:27:08.028389",
     "exception": false,
     "start_time": "2020-10-17T08:27:07.753203",
     "status": "completed"
    },
    "tags": []
   },
   "outputs": [],
   "source": [
    "# Find sentences \n",
    "from nltk.tokenize import sent_tokenize\n",
    "sentences = sent_tokenize(text)"
   ]
  },
  {
   "cell_type": "code",
   "execution_count": 38,
   "metadata": {
    "execution": {
     "iopub.execute_input": "2020-10-17T08:27:08.168946Z",
     "iopub.status.busy": "2020-10-17T08:27:08.168157Z",
     "iopub.status.idle": "2020-10-17T08:27:08.173543Z",
     "shell.execute_reply": "2020-10-17T08:27:08.172873Z"
    },
    "papermill": {
     "duration": 0.078148,
     "end_time": "2020-10-17T08:27:08.173674",
     "exception": false,
     "start_time": "2020-10-17T08:27:08.095526",
     "status": "completed"
    },
    "tags": []
   },
   "outputs": [
    {
     "data": {
      "text/plain": [
       "['In the wild events which were to follow this girl had no\\npart at all; he never saw her again until all his tale was over.',\n",
       " 'And yet, in some indescribable way, she kept recurring like a\\nmotive in music through all his mad adventures afterwards, and the\\nglory of her strange hair ran like a red thread through those dark\\nand ill-drawn tapestries of the night.',\n",
       " 'For what followed was so\\nimprobable, that it might well have been a dream.',\n",
       " 'When Syme went out into the starlit street, he found it for the\\nmoment empty.',\n",
       " 'Then he realised (in some odd way) that the silence\\nwas rather a living silence than a dead one.',\n",
       " 'Directly outside the\\ndoor stood a street lamp, whose gleam gilded the leaves of the tree\\nthat bent out over the fence behind him.',\n",
       " 'About a foot from the\\nlamp-post stood a figure almost as rigid and motionless as the\\nlamp-post itself.',\n",
       " 'The tall hat and long frock coat were black; the\\nface, in an abrupt shadow, was almost as dark.',\n",
       " 'Only a fringe of\\nfiery hair against the light, and also something aggressive in the\\nattitude, proclaimed that it was the poet Gregory.',\n",
       " 'He had something\\nof the look of a masked bravo waiting sword in hand for his foe.']"
      ]
     },
     "execution_count": 38,
     "metadata": {},
     "output_type": "execute_result"
    }
   ],
   "source": [
    "sentences[171:181]"
   ]
  },
  {
   "cell_type": "markdown",
   "metadata": {
    "papermill": {
     "duration": 0.075372,
     "end_time": "2020-10-17T08:27:08.318094",
     "exception": false,
     "start_time": "2020-10-17T08:27:08.242722",
     "status": "completed"
    },
    "tags": []
   },
   "source": [
    "# word segmentation"
   ]
  },
  {
   "cell_type": "code",
   "execution_count": 39,
   "metadata": {
    "execution": {
     "iopub.execute_input": "2020-10-17T08:27:08.462433Z",
     "iopub.status.busy": "2020-10-17T08:27:08.461644Z",
     "iopub.status.idle": "2020-10-17T08:27:08.465623Z",
     "shell.execute_reply": "2020-10-17T08:27:08.464847Z"
    },
    "papermill": {
     "duration": 0.079334,
     "end_time": "2020-10-17T08:27:08.465755",
     "exception": false,
     "start_time": "2020-10-17T08:27:08.386421",
     "status": "completed"
    },
    "tags": []
   },
   "outputs": [],
   "source": [
    "def segment(text, segs):\n",
    "    words = []\n",
    "    last = 0\n",
    "    \n",
    "    for i in range(len(segs)):\n",
    "        if segs[i] == '1':\n",
    "            words.append(text[last: i+1])\n",
    "            last = i+1\n",
    "    words.append(text[last:])\n",
    "    return words"
   ]
  },
  {
   "cell_type": "code",
   "execution_count": 40,
   "metadata": {
    "execution": {
     "iopub.execute_input": "2020-10-17T08:27:08.605660Z",
     "iopub.status.busy": "2020-10-17T08:27:08.604854Z",
     "iopub.status.idle": "2020-10-17T08:27:08.608372Z",
     "shell.execute_reply": "2020-10-17T08:27:08.607623Z"
    },
    "papermill": {
     "duration": 0.075588,
     "end_time": "2020-10-17T08:27:08.608499",
     "exception": false,
     "start_time": "2020-10-17T08:27:08.532911",
     "status": "completed"
    },
    "tags": []
   },
   "outputs": [],
   "source": [
    "# Create words and their segmenter \n",
    "text = 'HelloThere.IamHappytoseeyou.'\n",
    "seg1 = '0000000000100000000000000001'\n",
    "seg2 = '000010000011010000101001001'"
   ]
  },
  {
   "cell_type": "code",
   "execution_count": 41,
   "metadata": {
    "execution": {
     "iopub.execute_input": "2020-10-17T08:27:08.749945Z",
     "iopub.status.busy": "2020-10-17T08:27:08.748890Z",
     "iopub.status.idle": "2020-10-17T08:27:08.753650Z",
     "shell.execute_reply": "2020-10-17T08:27:08.752888Z"
    },
    "papermill": {
     "duration": 0.077884,
     "end_time": "2020-10-17T08:27:08.753779",
     "exception": false,
     "start_time": "2020-10-17T08:27:08.675895",
     "status": "completed"
    },
    "tags": []
   },
   "outputs": [
    {
     "data": {
      "text/plain": [
       "['HelloThere.', 'IamHappytoseeyou.', '']"
      ]
     },
     "execution_count": 41,
     "metadata": {},
     "output_type": "execute_result"
    }
   ],
   "source": [
    "# apply functions\n",
    "segment(text, seg1)"
   ]
  },
  {
   "cell_type": "code",
   "execution_count": 42,
   "metadata": {
    "execution": {
     "iopub.execute_input": "2020-10-17T08:27:08.896239Z",
     "iopub.status.busy": "2020-10-17T08:27:08.895141Z",
     "iopub.status.idle": "2020-10-17T08:27:08.900412Z",
     "shell.execute_reply": "2020-10-17T08:27:08.899664Z"
    },
    "papermill": {
     "duration": 0.078906,
     "end_time": "2020-10-17T08:27:08.900547",
     "exception": false,
     "start_time": "2020-10-17T08:27:08.821641",
     "status": "completed"
    },
    "tags": []
   },
   "outputs": [
    {
     "data": {
      "text/plain": [
       "['Hello', 'There.', 'I', 'am', 'Happy', 'to', 'see', 'you', '.']"
      ]
     },
     "execution_count": 42,
     "metadata": {},
     "output_type": "execute_result"
    }
   ],
   "source": [
    "segment(text, seg2)"
   ]
  },
  {
   "cell_type": "markdown",
   "metadata": {
    "papermill": {
     "duration": 0.068198,
     "end_time": "2020-10-17T08:27:09.037363",
     "exception": false,
     "start_time": "2020-10-17T08:27:08.969165",
     "status": "completed"
    },
    "tags": []
   },
   "source": [
    "# Information Extraction "
   ]
  },
  {
   "cell_type": "code",
   "execution_count": 43,
   "metadata": {
    "execution": {
     "iopub.execute_input": "2020-10-17T08:27:09.181731Z",
     "iopub.status.busy": "2020-10-17T08:27:09.180773Z",
     "iopub.status.idle": "2020-10-17T08:27:09.184769Z",
     "shell.execute_reply": "2020-10-17T08:27:09.184018Z"
    },
    "papermill": {
     "duration": 0.078602,
     "end_time": "2020-10-17T08:27:09.184893",
     "exception": false,
     "start_time": "2020-10-17T08:27:09.106291",
     "status": "completed"
    },
    "tags": []
   },
   "outputs": [],
   "source": [
    "text = \"\"\" The most important source of texts is undoubtedly the Web.\"\"\""
   ]
  },
  {
   "cell_type": "code",
   "execution_count": 44,
   "metadata": {
    "execution": {
     "iopub.execute_input": "2020-10-17T08:27:09.330344Z",
     "iopub.status.busy": "2020-10-17T08:27:09.329530Z",
     "iopub.status.idle": "2020-10-17T08:27:09.333518Z",
     "shell.execute_reply": "2020-10-17T08:27:09.332750Z"
    },
    "papermill": {
     "duration": 0.077829,
     "end_time": "2020-10-17T08:27:09.333651",
     "exception": false,
     "start_time": "2020-10-17T08:27:09.255822",
     "status": "completed"
    },
    "tags": []
   },
   "outputs": [],
   "source": [
    "sents = sent_tokenize(text)"
   ]
  },
  {
   "cell_type": "code",
   "execution_count": 45,
   "metadata": {
    "execution": {
     "iopub.execute_input": "2020-10-17T08:27:09.481233Z",
     "iopub.status.busy": "2020-10-17T08:27:09.480144Z",
     "iopub.status.idle": "2020-10-17T08:27:09.485406Z",
     "shell.execute_reply": "2020-10-17T08:27:09.484616Z"
    },
    "papermill": {
     "duration": 0.080528,
     "end_time": "2020-10-17T08:27:09.485541",
     "exception": false,
     "start_time": "2020-10-17T08:27:09.405013",
     "status": "completed"
    },
    "tags": []
   },
   "outputs": [
    {
     "data": {
      "text/plain": [
       "[' The most important source of texts is undoubtedly the Web.']"
      ]
     },
     "execution_count": 45,
     "metadata": {},
     "output_type": "execute_result"
    }
   ],
   "source": [
    "sents"
   ]
  },
  {
   "cell_type": "code",
   "execution_count": 46,
   "metadata": {
    "execution": {
     "iopub.execute_input": "2020-10-17T08:27:09.632293Z",
     "iopub.status.busy": "2020-10-17T08:27:09.631526Z",
     "iopub.status.idle": "2020-10-17T08:27:09.635245Z",
     "shell.execute_reply": "2020-10-17T08:27:09.634633Z"
    },
    "papermill": {
     "duration": 0.079337,
     "end_time": "2020-10-17T08:27:09.635377",
     "exception": false,
     "start_time": "2020-10-17T08:27:09.556040",
     "status": "completed"
    },
    "tags": []
   },
   "outputs": [],
   "source": [
    "# word tokenization \n",
    "sents = [nltk.word_tokenize(sents) for sents in sents]"
   ]
  },
  {
   "cell_type": "code",
   "execution_count": 47,
   "metadata": {
    "execution": {
     "iopub.execute_input": "2020-10-17T08:27:09.781119Z",
     "iopub.status.busy": "2020-10-17T08:27:09.780035Z",
     "iopub.status.idle": "2020-10-17T08:27:09.785446Z",
     "shell.execute_reply": "2020-10-17T08:27:09.784680Z"
    },
    "papermill": {
     "duration": 0.080412,
     "end_time": "2020-10-17T08:27:09.785572",
     "exception": false,
     "start_time": "2020-10-17T08:27:09.705160",
     "status": "completed"
    },
    "tags": []
   },
   "outputs": [
    {
     "data": {
      "text/plain": [
       "[['The',\n",
       "  'most',\n",
       "  'important',\n",
       "  'source',\n",
       "  'of',\n",
       "  'texts',\n",
       "  'is',\n",
       "  'undoubtedly',\n",
       "  'the',\n",
       "  'Web',\n",
       "  '.']]"
      ]
     },
     "execution_count": 47,
     "metadata": {},
     "output_type": "execute_result"
    }
   ],
   "source": [
    "sents"
   ]
  },
  {
   "cell_type": "code",
   "execution_count": 48,
   "metadata": {
    "execution": {
     "iopub.execute_input": "2020-10-17T08:27:09.932138Z",
     "iopub.status.busy": "2020-10-17T08:27:09.931133Z",
     "iopub.status.idle": "2020-10-17T08:27:10.082432Z",
     "shell.execute_reply": "2020-10-17T08:27:10.081745Z"
    },
    "papermill": {
     "duration": 0.226761,
     "end_time": "2020-10-17T08:27:10.082581",
     "exception": false,
     "start_time": "2020-10-17T08:27:09.855820",
     "status": "completed"
    },
    "tags": []
   },
   "outputs": [],
   "source": [
    "sents = [nltk.pos_tag(sents) for sents in sents]"
   ]
  },
  {
   "cell_type": "code",
   "execution_count": 49,
   "metadata": {
    "execution": {
     "iopub.execute_input": "2020-10-17T08:27:10.231017Z",
     "iopub.status.busy": "2020-10-17T08:27:10.229961Z",
     "iopub.status.idle": "2020-10-17T08:27:10.234219Z",
     "shell.execute_reply": "2020-10-17T08:27:10.233437Z"
    },
    "papermill": {
     "duration": 0.080839,
     "end_time": "2020-10-17T08:27:10.234348",
     "exception": false,
     "start_time": "2020-10-17T08:27:10.153509",
     "status": "completed"
    },
    "tags": []
   },
   "outputs": [
    {
     "data": {
      "text/plain": [
       "[[('The', 'DT'),\n",
       "  ('most', 'RBS'),\n",
       "  ('important', 'JJ'),\n",
       "  ('source', 'NN'),\n",
       "  ('of', 'IN'),\n",
       "  ('texts', 'NN'),\n",
       "  ('is', 'VBZ'),\n",
       "  ('undoubtedly', 'RB'),\n",
       "  ('the', 'DT'),\n",
       "  ('Web', 'NNP'),\n",
       "  ('.', '.')]]"
      ]
     },
     "execution_count": 49,
     "metadata": {},
     "output_type": "execute_result"
    }
   ],
   "source": [
    "sents"
   ]
  },
  {
   "cell_type": "code",
   "execution_count": null,
   "metadata": {
    "papermill": {
     "duration": 0.07383,
     "end_time": "2020-10-17T08:27:10.381787",
     "exception": false,
     "start_time": "2020-10-17T08:27:10.307957",
     "status": "completed"
    },
    "tags": []
   },
   "outputs": [],
   "source": []
  }
 ],
 "metadata": {
  "kernelspec": {
   "display_name": "Python 3",
   "language": "python",
   "name": "python3"
  },
  "language_info": {
   "codemirror_mode": {
    "name": "ipython",
    "version": 3
   },
   "file_extension": ".py",
   "mimetype": "text/x-python",
   "name": "python",
   "nbconvert_exporter": "python",
   "pygments_lexer": "ipython3",
   "version": "3.7.6"
  },
  "papermill": {
   "duration": 34.284866,
   "end_time": "2020-10-17T08:27:10.563580",
   "environment_variables": {},
   "exception": null,
   "input_path": "__notebook__.ipynb",
   "output_path": "__notebook__.ipynb",
   "parameters": {},
   "start_time": "2020-10-17T08:26:36.278714",
   "version": "2.1.0"
  }
 },
 "nbformat": 4,
 "nbformat_minor": 4
}
