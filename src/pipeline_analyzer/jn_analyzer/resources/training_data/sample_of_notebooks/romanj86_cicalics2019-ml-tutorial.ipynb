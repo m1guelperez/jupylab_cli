{
 "cells": [
  {
   "cell_type": "markdown",
   "metadata": {},
   "source": [
    "This Notebook is written for the CICALICS Academy 2019 - Machine Learning Workshop\n",
    "\n",
    "The first example will demonstrate how Natural Language Processing can be used to enrich data or create labels. Example 2 is shows an unsupervised learning pipeline on sparse categorical data."
   ]
  },
  {
   "cell_type": "code",
   "execution_count": 1,
   "metadata": {},
   "outputs": [],
   "source": [
    "# import the pandas library for handling CSVs and table-type data \n",
    "# import numpy for some (simple) linear algebra\n",
    "import pandas as pd\n",
    "import numpy as np"
   ]
  },
  {
   "cell_type": "markdown",
   "metadata": {},
   "source": [
    "Let's start with a very simple standard example of supervised ML:\n",
    "\n",
    "![](https://scipy-lectures.org/_images/iris_versicolor.jpg)\n",
    "Setosa\n",
    "![](https://scipy-lectures.org/_images/iris_setosa.jpg)\n",
    "Versicolor\n",
    "![](https://scipy-lectures.org/_images/iris_virginica.jpg)\n",
    "Virginica"
   ]
  },
  {
   "cell_type": "code",
   "execution_count": 2,
   "metadata": {},
   "outputs": [],
   "source": [
    "from sklearn.datasets import load_iris\n",
    "iris = load_iris()"
   ]
  },
  {
   "cell_type": "code",
   "execution_count": 3,
   "metadata": {},
   "outputs": [
    {
     "data": {
      "text/plain": [
       "(150, 4)"
      ]
     },
     "execution_count": 3,
     "metadata": {},
     "output_type": "execute_result"
    }
   ],
   "source": [
    "iris.data.shape"
   ]
  },
  {
   "cell_type": "code",
   "execution_count": 4,
   "metadata": {},
   "outputs": [
    {
     "data": {
      "text/html": [
       "<div>\n",
       "<style scoped>\n",
       "    .dataframe tbody tr th:only-of-type {\n",
       "        vertical-align: middle;\n",
       "    }\n",
       "\n",
       "    .dataframe tbody tr th {\n",
       "        vertical-align: top;\n",
       "    }\n",
       "\n",
       "    .dataframe thead th {\n",
       "        text-align: right;\n",
       "    }\n",
       "</style>\n",
       "<table border=\"1\" class=\"dataframe\">\n",
       "  <thead>\n",
       "    <tr style=\"text-align: right;\">\n",
       "      <th></th>\n",
       "      <th>sepal length (cm)</th>\n",
       "      <th>sepal width (cm)</th>\n",
       "      <th>petal length (cm)</th>\n",
       "      <th>petal width (cm)</th>\n",
       "    </tr>\n",
       "  </thead>\n",
       "  <tbody>\n",
       "    <tr>\n",
       "      <th>0</th>\n",
       "      <td>5.1</td>\n",
       "      <td>3.5</td>\n",
       "      <td>1.4</td>\n",
       "      <td>0.2</td>\n",
       "    </tr>\n",
       "    <tr>\n",
       "      <th>1</th>\n",
       "      <td>4.9</td>\n",
       "      <td>3.0</td>\n",
       "      <td>1.4</td>\n",
       "      <td>0.2</td>\n",
       "    </tr>\n",
       "    <tr>\n",
       "      <th>2</th>\n",
       "      <td>4.7</td>\n",
       "      <td>3.2</td>\n",
       "      <td>1.3</td>\n",
       "      <td>0.2</td>\n",
       "    </tr>\n",
       "    <tr>\n",
       "      <th>3</th>\n",
       "      <td>4.6</td>\n",
       "      <td>3.1</td>\n",
       "      <td>1.5</td>\n",
       "      <td>0.2</td>\n",
       "    </tr>\n",
       "    <tr>\n",
       "      <th>4</th>\n",
       "      <td>5.0</td>\n",
       "      <td>3.6</td>\n",
       "      <td>1.4</td>\n",
       "      <td>0.2</td>\n",
       "    </tr>\n",
       "  </tbody>\n",
       "</table>\n",
       "</div>"
      ],
      "text/plain": [
       "   sepal length (cm)  sepal width (cm)  petal length (cm)  petal width (cm)\n",
       "0                5.1               3.5                1.4               0.2\n",
       "1                4.9               3.0                1.4               0.2\n",
       "2                4.7               3.2                1.3               0.2\n",
       "3                4.6               3.1                1.5               0.2\n",
       "4                5.0               3.6                1.4               0.2"
      ]
     },
     "execution_count": 4,
     "metadata": {},
     "output_type": "execute_result"
    }
   ],
   "source": [
    "pd.DataFrame(iris.data, columns = iris.feature_names).head()"
   ]
  },
  {
   "cell_type": "code",
   "execution_count": 5,
   "metadata": {},
   "outputs": [
    {
     "name": "stdout",
     "output_type": "stream",
     "text": [
      "['setosa' 'versicolor' 'virginica']\n"
     ]
    }
   ],
   "source": [
    "print(iris.target_names)"
   ]
  },
  {
   "cell_type": "code",
   "execution_count": 6,
   "metadata": {},
   "outputs": [],
   "source": [
    "from sklearn.preprocessing import LabelEncoder\n",
    "encoder = LabelEncoder()\n",
    "y = encoder.fit_transform(iris.target) #categorical index"
   ]
  },
  {
   "cell_type": "code",
   "execution_count": 7,
   "metadata": {},
   "outputs": [],
   "source": [
    "from sklearn.model_selection import train_test_split"
   ]
  },
  {
   "cell_type": "code",
   "execution_count": 8,
   "metadata": {},
   "outputs": [],
   "source": [
    "# splitting the data\n",
    "\n",
    "X_train, X_test, y_train, y_test = train_test_split(iris.data, y, test_size=0.2)"
   ]
  },
  {
   "cell_type": "code",
   "execution_count": 9,
   "metadata": {},
   "outputs": [],
   "source": [
    "from sklearn.linear_model import LogisticRegression\n",
    "classifier = LogisticRegression(multi_class='multinomial',solver='lbfgs')"
   ]
  },
  {
   "cell_type": "code",
   "execution_count": 10,
   "metadata": {},
   "outputs": [
    {
     "data": {
      "text/plain": [
       "LogisticRegression(C=1.0, class_weight=None, dual=False, fit_intercept=True,\n",
       "                   intercept_scaling=1, l1_ratio=None, max_iter=100,\n",
       "                   multi_class='multinomial', n_jobs=None, penalty='l2',\n",
       "                   random_state=None, solver='lbfgs', tol=0.0001, verbose=0,\n",
       "                   warm_start=False)"
      ]
     },
     "execution_count": 10,
     "metadata": {},
     "output_type": "execute_result"
    }
   ],
   "source": [
    "classifier.fit(X_train, y_train)"
   ]
  },
  {
   "cell_type": "code",
   "execution_count": 11,
   "metadata": {},
   "outputs": [],
   "source": [
    "y_pred = classifier.predict(X_test)"
   ]
  },
  {
   "cell_type": "code",
   "execution_count": 12,
   "metadata": {},
   "outputs": [
    {
     "data": {
      "text/html": [
       "<div>\n",
       "<style scoped>\n",
       "    .dataframe tbody tr th:only-of-type {\n",
       "        vertical-align: middle;\n",
       "    }\n",
       "\n",
       "    .dataframe tbody tr th {\n",
       "        vertical-align: top;\n",
       "    }\n",
       "\n",
       "    .dataframe thead th {\n",
       "        text-align: right;\n",
       "    }\n",
       "</style>\n",
       "<table border=\"1\" class=\"dataframe\">\n",
       "  <thead>\n",
       "    <tr style=\"text-align: right;\">\n",
       "      <th>col_0</th>\n",
       "      <th>0</th>\n",
       "      <th>1</th>\n",
       "      <th>2</th>\n",
       "    </tr>\n",
       "    <tr>\n",
       "      <th>row_0</th>\n",
       "      <th></th>\n",
       "      <th></th>\n",
       "      <th></th>\n",
       "    </tr>\n",
       "  </thead>\n",
       "  <tbody>\n",
       "    <tr>\n",
       "      <th>0</th>\n",
       "      <td>6</td>\n",
       "      <td>0</td>\n",
       "      <td>0</td>\n",
       "    </tr>\n",
       "    <tr>\n",
       "      <th>1</th>\n",
       "      <td>0</td>\n",
       "      <td>13</td>\n",
       "      <td>1</td>\n",
       "    </tr>\n",
       "    <tr>\n",
       "      <th>2</th>\n",
       "      <td>0</td>\n",
       "      <td>1</td>\n",
       "      <td>9</td>\n",
       "    </tr>\n",
       "  </tbody>\n",
       "</table>\n",
       "</div>"
      ],
      "text/plain": [
       "col_0  0   1  2\n",
       "row_0          \n",
       "0      6   0  0\n",
       "1      0  13  1\n",
       "2      0   1  9"
      ]
     },
     "execution_count": 12,
     "metadata": {},
     "output_type": "execute_result"
    }
   ],
   "source": [
    "pd.crosstab(y_pred,y_test)"
   ]
  },
  {
   "cell_type": "markdown",
   "metadata": {},
   "source": [
    "## Case 1: Predicting categories with a self-trained model\n",
    "\n",
    "In this case we will use work from Upwork.com (from a recent research paper) to predict task-categories.\n",
    "Upwork https://www.upwork.com is a platform that connects freelancers with short term employers online. The dataset contains text, describing the task, as well as a category task. Unfortunately, not all task descriptions had these category labels. This is where we will use NLP + ML to create the misssing labels. \n",
    "\n",
    "Recent paper with Mareike Seifried and Tobias Kretschmer\n",
    "https://conference.druid.dk/acc_papers/48ox0g0vwmp0vvx8gj7lzwhbimflf0.pdf"
   ]
  },
  {
   "cell_type": "code",
   "execution_count": 13,
   "metadata": {},
   "outputs": [],
   "source": [
    "#read in the data\n",
    "data = pd.read_csv('http://sds-datacrunch.aau.dk/public/data/upwork_aom_300k.csv')"
   ]
  },
  {
   "cell_type": "code",
   "execution_count": 14,
   "metadata": {},
   "outputs": [
    {
     "data": {
      "text/html": [
       "<div>\n",
       "<style scoped>\n",
       "    .dataframe tbody tr th:only-of-type {\n",
       "        vertical-align: middle;\n",
       "    }\n",
       "\n",
       "    .dataframe tbody tr th {\n",
       "        vertical-align: top;\n",
       "    }\n",
       "\n",
       "    .dataframe thead th {\n",
       "        text-align: right;\n",
       "    }\n",
       "</style>\n",
       "<table border=\"1\" class=\"dataframe\">\n",
       "  <thead>\n",
       "    <tr style=\"text-align: right;\">\n",
       "      <th></th>\n",
       "      <th>Unnamed: 0</th>\n",
       "      <th>as_opening_title</th>\n",
       "      <th>main_category</th>\n",
       "      <th>sub_category</th>\n",
       "    </tr>\n",
       "  </thead>\n",
       "  <tbody>\n",
       "    <tr>\n",
       "      <th>0</th>\n",
       "      <td>968913</td>\n",
       "      <td>Mailchimp Marketing Assistant</td>\n",
       "      <td>NaN</td>\n",
       "      <td>NaN</td>\n",
       "    </tr>\n",
       "    <tr>\n",
       "      <th>1</th>\n",
       "      <td>1855958</td>\n",
       "      <td>Manually submit 2000 names to an online form</td>\n",
       "      <td>Admin Support</td>\n",
       "      <td>Data Entry</td>\n",
       "    </tr>\n",
       "    <tr>\n",
       "      <th>2</th>\n",
       "      <td>109271</td>\n",
       "      <td>Design</td>\n",
       "      <td>NaN</td>\n",
       "      <td>NaN</td>\n",
       "    </tr>\n",
       "    <tr>\n",
       "      <th>3</th>\n",
       "      <td>1349850</td>\n",
       "      <td>Cool and Fun Graphic Designer/Illustrator need...</td>\n",
       "      <td>Design &amp; Creative</td>\n",
       "      <td>Graphic Design</td>\n",
       "    </tr>\n",
       "    <tr>\n",
       "      <th>4</th>\n",
       "      <td>729567</td>\n",
       "      <td>Html/css/js</td>\n",
       "      <td>NaN</td>\n",
       "      <td>NaN</td>\n",
       "    </tr>\n",
       "  </tbody>\n",
       "</table>\n",
       "</div>"
      ],
      "text/plain": [
       "   Unnamed: 0                                   as_opening_title  \\\n",
       "0      968913                      Mailchimp Marketing Assistant   \n",
       "1     1855958       Manually submit 2000 names to an online form   \n",
       "2      109271                                             Design   \n",
       "3     1349850  Cool and Fun Graphic Designer/Illustrator need...   \n",
       "4      729567                                        Html/css/js   \n",
       "\n",
       "       main_category    sub_category  \n",
       "0                NaN             NaN  \n",
       "1      Admin Support      Data Entry  \n",
       "2                NaN             NaN  \n",
       "3  Design & Creative  Graphic Design  \n",
       "4                NaN             NaN  "
      ]
     },
     "execution_count": 14,
     "metadata": {},
     "output_type": "execute_result"
    }
   ],
   "source": [
    "#let's check it\n",
    "data.head()"
   ]
  },
  {
   "cell_type": "code",
   "execution_count": 15,
   "metadata": {},
   "outputs": [
    {
     "name": "stdout",
     "output_type": "stream",
     "text": [
      "<class 'pandas.core.frame.DataFrame'>\n",
      "RangeIndex: 300000 entries, 0 to 299999\n",
      "Data columns (total 4 columns):\n",
      "Unnamed: 0          300000 non-null int64\n",
      "as_opening_title    299998 non-null object\n",
      "main_category       87967 non-null object\n",
      "sub_category        87967 non-null object\n",
      "dtypes: int64(1), object(3)\n",
      "memory usage: 9.2+ MB\n"
     ]
    }
   ],
   "source": [
    "#some descriptives\n",
    "\n",
    "data.info()"
   ]
  },
  {
   "cell_type": "code",
   "execution_count": 16,
   "metadata": {},
   "outputs": [],
   "source": [
    "# selecting the empty ones\n",
    "\n",
    "data_subset_empty = data[data['main_category'].isnull()]"
   ]
  },
  {
   "cell_type": "code",
   "execution_count": 17,
   "metadata": {},
   "outputs": [],
   "source": [
    "# selecting the complete ones\n",
    "\n",
    "data_full = data[~data['main_category'].isnull()]"
   ]
  },
  {
   "cell_type": "code",
   "execution_count": 18,
   "metadata": {},
   "outputs": [
    {
     "name": "stdout",
     "output_type": "stream",
     "text": [
      "<class 'pandas.core.frame.DataFrame'>\n",
      "Int64Index: 87967 entries, 1 to 299998\n",
      "Data columns (total 4 columns):\n",
      "Unnamed: 0          87967 non-null int64\n",
      "as_opening_title    87967 non-null object\n",
      "main_category       87967 non-null object\n",
      "sub_category        87967 non-null object\n",
      "dtypes: int64(1), object(3)\n",
      "memory usage: 3.4+ MB\n"
     ]
    }
   ],
   "source": [
    "#Some descriptives of the complete table\n",
    "\n",
    "data_full.info()"
   ]
  },
  {
   "cell_type": "code",
   "execution_count": 19,
   "metadata": {},
   "outputs": [
    {
     "name": "stdout",
     "output_type": "stream",
     "text": [
      "Admin Support\n",
      "Design & Creative\n",
      "Sales & Marketing\n",
      "Writing\n",
      "Web, Mobile & Software Dev\n",
      "Accounting & Consulting\n",
      "Data Science & Analytics\n",
      "IT & Networking\n",
      "Translation\n",
      "Engineering & Architecture\n",
      "Customer Service\n",
      "Legal\n",
      "Web & Mobile Development\n"
     ]
    }
   ],
   "source": [
    "# Print out the different categories of tasks\n",
    "\n",
    "for i in data_full['main_category'].unique():\n",
    "    print(i)"
   ]
  },
  {
   "cell_type": "markdown",
   "metadata": {},
   "source": [
    "Now we need to construct our dependant and indepandant variables\n",
    "The independant will be the vector representations of the texts\n",
    "The dependant variable will be a the category of jobs"
   ]
  },
  {
   "cell_type": "code",
   "execution_count": 20,
   "metadata": {},
   "outputs": [],
   "source": [
    "# import encoders for the dependant variable\n",
    "\n",
    "from sklearn.preprocessing import LabelEncoder\n",
    "from sklearn.preprocessing import OneHotEncoder"
   ]
  },
  {
   "cell_type": "code",
   "execution_count": 21,
   "metadata": {},
   "outputs": [
    {
     "name": "stderr",
     "output_type": "stream",
     "text": [
      "/opt/conda/lib/python3.6/site-packages/sklearn/preprocessing/_encoders.py:415: FutureWarning: The handling of integer data will change in version 0.22. Currently, the categories are determined based on the range [0, max(values)], while in the future they will be determined based on the unique values.\n",
      "If you want the future behaviour and silence this warning, you can specify \"categories='auto'\".\n",
      "In case you used a LabelEncoder before this OneHotEncoder to convert the categories to integers, then you can now use the OneHotEncoder directly.\n",
      "  warnings.warn(msg, FutureWarning)\n"
     ]
    }
   ],
   "source": [
    "# encode the dependant into dummy variables\n",
    "\n",
    "encoder = LabelEncoder()\n",
    "onehot = OneHotEncoder()\n",
    "\n",
    "encoded = encoder.fit_transform(data_full['main_category']) #categorical index\n",
    "y = onehot.fit_transform(encoded.reshape(-1,1)) # dummy matrix"
   ]
  },
  {
   "cell_type": "markdown",
   "metadata": {},
   "source": [
    "We will be using spacy: https://spacy.io\n",
    "It is a moden and fast NLP library that allows to do NLP tasks without engaging too much with linguistics and low-level tasks\n",
    "you can download more and other models (also spanish) here https://spacy.io/usage/models"
   ]
  },
  {
   "cell_type": "code",
   "execution_count": 22,
   "metadata": {},
   "outputs": [],
   "source": [
    "# In caggle you have direct access to the large model, which is great\n",
    "import spacy\n",
    "nlp = spacy.load(\"en_core_web_lg\")"
   ]
  },
  {
   "cell_type": "code",
   "execution_count": 23,
   "metadata": {},
   "outputs": [],
   "source": [
    "# Let's try it out on a sentence\n",
    "sentence = nlp(\"The weather in Beijing is great\")"
   ]
  },
  {
   "cell_type": "code",
   "execution_count": 24,
   "metadata": {},
   "outputs": [
    {
     "data": {
      "text/plain": [
       "Beijing"
      ]
     },
     "execution_count": 24,
     "metadata": {},
     "output_type": "execute_result"
    }
   ],
   "source": [
    "# this returns a collection of tokens such as:\n",
    "sentence[3]"
   ]
  },
  {
   "cell_type": "code",
   "execution_count": 25,
   "metadata": {},
   "outputs": [
    {
     "name": "stdout",
     "output_type": "stream",
     "text": [
      "PROPN\n",
      "(Beijing,)\n",
      "GPE\n"
     ]
    }
   ],
   "source": [
    "# Tokens contain many useful fetures\n",
    "# Spacy recognizes parts of speech\n",
    "# It also detects entities\n",
    "print(sentence[3].pos_)\n",
    "print(sentence.ents)\n",
    "print(sentence.ents[0].label_)"
   ]
  },
  {
   "cell_type": "code",
   "execution_count": 26,
   "metadata": {},
   "outputs": [
    {
     "data": {
      "text/plain": [
       "array([ 0.78468  ,  0.10513  ,  0.13023  , -0.28823  ,  0.19203  ,\n",
       "        0.24491  ,  0.61093  , -0.1016   , -0.10848  , -0.10548  ,\n",
       "       -1.0573   , -0.55142  , -0.097834 ,  0.029971 ,  0.2455   ,\n",
       "        0.019219 ,  0.051751 ,  0.15903  , -0.11896  ,  0.56619  ,\n",
       "        0.15302  ,  0.56737  ,  0.33601  , -0.22019  , -0.31817  ,\n",
       "       -0.10002  , -0.11627  ,  0.14066  , -0.30163  ,  0.21938  ,\n",
       "        0.34708  , -0.20998  ,  0.36514  ,  0.7125   , -0.26565  ,\n",
       "       -0.0020111,  0.57861  , -0.2437   ,  0.086438 , -0.28916  ,\n",
       "        0.44238  , -0.35974  , -0.079048 ,  0.35975  , -0.049142 ,\n",
       "       -0.042851 ,  0.27653  , -0.4724   ,  0.022287 ,  0.15678  ,\n",
       "       -0.91171  , -0.38461  , -0.23012  , -0.39248  ,  0.1007   ,\n",
       "        0.3647   ,  0.40107  ,  0.27743  ,  0.27305  ,  0.40702  ,\n",
       "       -0.30853  , -0.70626  ,  0.099023 , -0.68144  , -0.19626  ,\n",
       "        0.32851  , -0.080628 ,  0.35589  , -0.35852  ,  0.40795  ,\n",
       "       -0.41373  , -0.11791  , -0.63033  , -0.13327  ,  0.41296  ,\n",
       "        0.20479  , -0.39671  , -0.07535  ,  0.11206  ,  0.55214  ,\n",
       "       -0.061778 , -0.10434  , -0.23248  , -0.32224  , -0.42331  ,\n",
       "       -0.33187  ,  0.79835  ,  0.12633  , -0.16693  , -0.27337  ,\n",
       "        0.36856  , -0.2987   , -0.49461  , -1.0124   ,  0.30647  ,\n",
       "        0.19789  , -0.25034  , -0.26587  ,  0.41419  ,  0.42795  ,\n",
       "        0.29968  ,  0.025044 ,  0.69477  ,  0.13478  ,  0.1546   ,\n",
       "       -1.3609   ,  0.35487  ,  0.18448  , -0.079322 ,  0.30638  ,\n",
       "        0.06263  , -0.16129  ,  0.27526  ,  0.47015  , -0.19947  ,\n",
       "       -0.20982  ,  0.18818  ,  0.4681   , -0.17361  , -0.1855   ,\n",
       "       -0.43835  ,  0.67904  ,  0.17879  , -0.23206  , -0.42589  ,\n",
       "        0.56438  ,  0.51798  , -0.23983  ,  0.4347   ,  0.13584  ,\n",
       "        0.37448  , -0.46997  ,  0.73761  , -0.82211  ,  0.30011  ,\n",
       "       -0.94634  , -0.28021  , -0.004561 , -0.17247  , -0.098568 ,\n",
       "       -0.83915  , -0.5012   , -0.11032  , -0.31114  ,  0.23831  ,\n",
       "        0.48691  ,  0.49006  ,  0.050662 ,  0.0054211, -0.064451 ,\n",
       "       -0.013323 ,  0.30059  ,  0.090768 ,  0.33658  ,  0.16925  ,\n",
       "        0.17766  , -0.092132 ,  0.2771   ,  0.15359  ,  0.32921  ,\n",
       "        0.4593   , -0.15658  , -0.1753   ,  0.21838  ,  0.46138  ,\n",
       "        0.18285  ,  0.0039319, -0.16254  , -0.098006 ,  0.5919   ,\n",
       "       -0.37839  ,  0.19812  , -0.31773  ,  0.13279  , -0.30709  ,\n",
       "       -0.45153  , -0.23321  ,  0.39089  ,  0.1425   , -0.018858 ,\n",
       "        0.33082  , -0.11051  , -0.16877  , -0.076911 ,  0.67186  ,\n",
       "        0.032307 , -0.16508  ,  0.26247  ,  0.52852  ,  0.22803  ,\n",
       "        0.022187 , -0.59008  ,  0.52735  , -0.4449   , -0.29389  ,\n",
       "        0.4857   ,  1.0811   , -0.019845 ,  0.7043   , -0.56256  ,\n",
       "        0.24138  , -0.056619 , -0.1798   ,  0.021985 ,  0.2578   ,\n",
       "       -0.41486  ,  0.29784  , -0.070622 ,  0.30789  ,  0.37963  ,\n",
       "        0.16059  , -0.17647  ,  0.16409  , -0.63177  , -0.44587  ,\n",
       "        0.017854 ,  0.30554  , -0.43668  ,  0.075263 ,  0.47848  ,\n",
       "       -0.2427   ,  0.060246 , -0.063295 , -0.33635  , -0.24088  ,\n",
       "       -0.35463  ,  0.11022  ,  0.56812  ,  0.11888  ,  0.22495  ,\n",
       "        0.33563  ,  0.42774  ,  0.17612  , -0.34537  , -0.55145  ,\n",
       "        0.13442  ,  0.31285  ,  0.017608 ,  0.28571  , -0.023257 ,\n",
       "       -0.11435  , -0.41769  ,  0.088271 , -0.43111  , -0.0063468,\n",
       "        0.15134  , -0.32629  , -0.035873 , -0.1113   , -0.58842  ,\n",
       "        0.16074  ,  0.0055026, -0.25785  , -0.066362 ,  0.06452  ,\n",
       "        0.29245  , -0.26367  , -0.49617  ,  0.111    , -0.33953  ,\n",
       "        0.3325   , -0.19508  , -0.42217  ,  0.43893  , -0.32203  ,\n",
       "       -0.57616  , -0.35949  , -0.14177  , -0.24262  ,  0.62497  ,\n",
       "       -0.9153   ,  0.19866  , -0.12471  ,  0.9124   ,  0.55592  ,\n",
       "        0.68308  ,  0.6896   , -0.47234  , -0.059605 ,  0.62159  ,\n",
       "       -0.19739  , -0.37893  , -0.37075  ,  0.71086  , -0.71404  ,\n",
       "        0.12299  , -0.57026  , -0.13618  , -0.030697 , -0.072879 ,\n",
       "        0.14124  ,  0.11019  , -0.014195 ,  0.24678  ,  0.12244  ,\n",
       "       -0.42656  , -0.3483   , -0.076675 , -0.47047  ,  0.71304  ],\n",
       "      dtype=float32)"
      ]
     },
     "execution_count": 26,
     "metadata": {},
     "output_type": "execute_result"
    }
   ],
   "source": [
    "# Each token has a vector representation\n",
    "sentence[3].vector"
   ]
  },
  {
   "cell_type": "code",
   "execution_count": 27,
   "metadata": {},
   "outputs": [
    {
     "data": {
      "text/plain": [
       "array([ 1.63962647e-01,  2.87270010e-01,  4.02518883e-02, -1.38135329e-01,\n",
       "        1.45690337e-01,  3.93215343e-02,  1.48931682e-01,  1.39666675e-02,\n",
       "       -3.27511691e-02,  2.00518680e+00, -4.61487442e-01, -1.97942153e-01,\n",
       "        1.62433332e-03,  1.26343677e-02, -1.05564833e-01, -1.71200171e-01,\n",
       "       -6.80288300e-02,  1.10167170e+00, -3.57153341e-02, -6.48703352e-02,\n",
       "       -1.14299498e-01, -7.42251575e-02,  3.42238359e-02, -1.05865277e-01,\n",
       "        2.19966676e-02, -3.14793289e-02, -6.89138398e-02,  1.01022832e-01,\n",
       "       -1.32354826e-01,  9.66366157e-02,  2.43727118e-02,  6.28475025e-02,\n",
       "        3.86699773e-02,  2.17640564e-01,  1.15534998e-01, -4.82185185e-03,\n",
       "        2.27431521e-01, -1.36983275e-01, -5.43190502e-02, -1.83192849e-01,\n",
       "        2.13676855e-01,  8.67266655e-02, -1.74613334e-02, -3.25459987e-02,\n",
       "        8.93228352e-02,  1.34326831e-01, -1.11066669e-01, -1.58855200e-01,\n",
       "        2.73536723e-02, -9.26749930e-02, -8.79511610e-02,  8.34201649e-02,\n",
       "       -4.89758365e-02, -6.09091520e-02,  4.57378328e-02,  8.16446617e-02,\n",
       "        1.26167431e-01,  2.79033333e-02,  6.29805103e-02, -6.31325319e-02,\n",
       "       -1.50287792e-01, -1.47383675e-01, -1.00628167e-01,  1.89912319e-01,\n",
       "        2.95985024e-02, -8.36350024e-02, -2.14647353e-01,  1.55787498e-01,\n",
       "       -9.58066657e-02,  2.23613843e-01, -1.40130177e-01,  1.59757659e-01,\n",
       "       -2.81320065e-02, -9.49188694e-02,  1.30393848e-01,  7.10211769e-02,\n",
       "       -1.29815832e-01, -1.25099989e-02, -1.81657150e-01,  2.56948829e-01,\n",
       "       -1.93761662e-02,  1.93686828e-01,  3.79948355e-02,  2.52457503e-02,\n",
       "        1.10728502e-01, -2.34981835e-01, -1.89916849e-01,  1.84079006e-01,\n",
       "        5.50544970e-02, -3.92106660e-02,  1.31100016e-02, -2.63763708e-03,\n",
       "       -3.85097712e-01, -7.50453398e-02,  3.55650663e-01,  1.73650309e-03,\n",
       "       -2.22943369e-02, -1.07884847e-01,  2.24582672e-01,  1.21538006e-01,\n",
       "        1.28185332e-01,  2.40239948e-02, -6.23329990e-02,  1.31370500e-01,\n",
       "        1.70416668e-01, -7.32225001e-01,  1.97519004e-01,  1.39665335e-01,\n",
       "        1.06746675e-02, -2.29109645e-01,  2.16371659e-02, -1.53248981e-01,\n",
       "        5.30841537e-02, -4.06332314e-04, -1.17651500e-01, -1.11156665e-01,\n",
       "       -1.94481630e-02,  2.31861547e-01, -2.14286670e-01, -1.18844837e-01,\n",
       "       -1.56703651e-01,  6.78969994e-02, -7.72158280e-02, -1.74693152e-01,\n",
       "       -1.26068845e-01,  6.25684932e-02, -4.02928405e-02, -1.86623916e-01,\n",
       "        2.49605164e-01, -6.87775016e-02, -3.23871560e-02, -2.74672657e-01,\n",
       "        7.51886666e-02, -1.84188172e-01,  1.76531672e-01, -9.91866663e-02,\n",
       "       -2.69401520e-01, -1.15603499e-01, -2.52361689e-02, -5.07346652e-02,\n",
       "       -1.11022484e+00,  3.37021649e-02,  3.00528377e-01, -4.42681648e-02,\n",
       "        1.27728656e-01,  9.99356732e-02,  6.10326678e-02, -1.55116862e-03,\n",
       "        2.81736195e-01,  1.39735505e-01, -1.95908174e-01,  2.24881675e-02,\n",
       "        8.33824351e-02, -8.26493278e-02, -1.06350712e-01, -1.21894972e-02,\n",
       "       -1.38810322e-01,  6.98414966e-02, -1.20414771e-01, -1.97861657e-01,\n",
       "        1.36311665e-01,  1.55064180e-01, -2.60643382e-02,  8.63351747e-02,\n",
       "        1.60072103e-01, -8.79919901e-02,  1.28016159e-01, -4.19316813e-03,\n",
       "        1.66588515e-01,  3.19349952e-02, -3.69675718e-02,  1.17686838e-01,\n",
       "        1.01016657e-02, -3.01252995e-02, -1.08728528e-01,  1.31570682e-01,\n",
       "        2.67363321e-02, -1.46082178e-01,  1.73091665e-02,  6.84603378e-02,\n",
       "        8.05423334e-02, -2.17701659e-01, -2.27416679e-01,  4.41048406e-02,\n",
       "        9.09431577e-02, -9.31751728e-02, -1.34401008e-01, -6.48021623e-02,\n",
       "        1.53772667e-01, -1.45165160e-01, -2.98456755e-02, -1.42666325e-01,\n",
       "       -2.20733304e-02,  8.59683286e-03, -1.23321645e-01,  3.58108312e-01,\n",
       "        2.22974166e-01, -3.33123319e-02,  1.21482663e-01,  1.15467496e-01,\n",
       "       -6.09116582e-03,  2.98068132e-02, -3.49988341e-02,  1.52962670e-01,\n",
       "        2.66091496e-01, -7.72560015e-02,  7.12841675e-02,  5.08728325e-02,\n",
       "       -4.74083796e-03,  5.86561672e-02, -6.07150048e-02, -7.37634972e-02,\n",
       "        5.89311682e-02, -3.59948009e-01, -2.42213368e-01,  1.55237332e-01,\n",
       "        3.19283418e-02, -1.57544479e-01, -1.87110171e-01, -6.26738369e-02,\n",
       "        4.17582057e-02, -1.35393664e-01,  8.17258283e-02, -9.26854983e-02,\n",
       "       -1.76481698e-02, -1.53522000e-01, -3.84900090e-03,  1.89473331e-01,\n",
       "        2.68045012e-02,  1.78596064e-01,  6.98491633e-02,  2.34012172e-01,\n",
       "       -9.98293329e-03,  2.13168338e-02, -1.56065509e-01, -5.49883358e-02,\n",
       "       -1.41300010e-02, -2.89166838e-01, -2.07955346e-01,  9.09288451e-02,\n",
       "       -2.55653355e-02, -2.49605011e-02,  3.42896692e-02,  1.56549960e-02,\n",
       "        8.44627023e-02,  6.61599934e-02, -1.01870663e-01, -1.64521828e-01,\n",
       "        4.68331069e-04, -1.96351662e-01, -5.31769991e-02, -1.14701398e-01,\n",
       "        2.37190071e-02, -2.24213317e-01, -5.57415001e-02,  3.45901519e-01,\n",
       "        1.82362840e-01, -5.32483263e-03,  2.94765029e-02, -1.11042343e-01,\n",
       "        3.05359989e-01,  3.18968333e-02, -2.96662375e-02,  1.30433263e-02,\n",
       "       -2.34161690e-02, -1.53235644e-01, -1.57654181e-01,  1.47332326e-01,\n",
       "        6.38466552e-02,  9.42416862e-02, -1.57395840e-01,  4.13071662e-02,\n",
       "       -2.64869332e-01, -6.15794994e-02, -4.56232810e-03,  1.18793160e-01,\n",
       "        2.37385020e-01, -4.80031669e-02,  1.45235313e-02,  2.54530817e-01,\n",
       "        1.80154666e-01, -1.00169159e-01, -2.43873298e-01,  2.21260831e-01,\n",
       "       -1.09832667e-01, -4.81231697e-02,  1.14745498e-01, -9.77345034e-02,\n",
       "        1.99272156e-01, -1.59667671e-01, -1.86342672e-01,  1.47853658e-01,\n",
       "       -7.44966930e-03, -1.78164184e-01,  8.04166719e-02, -8.06018487e-02,\n",
       "       -1.21833324e-01,  4.02183319e-03, -1.84687674e-01,  2.30662778e-01],\n",
       "      dtype=float32)"
      ]
     },
     "execution_count": 27,
     "metadata": {},
     "output_type": "execute_result"
    }
   ],
   "source": [
    "# Sentences (several words) are represented as a mean of the \n",
    "# contained word-vectors\n",
    "sentence.vector"
   ]
  },
  {
   "cell_type": "code",
   "execution_count": 28,
   "metadata": {},
   "outputs": [
    {
     "name": "stdout",
     "output_type": "stream",
     "text": [
      "dog dog 1.0\n",
      "dog cat 0.80168545\n",
      "dog banana 0.24327643\n",
      "cat dog 0.80168545\n",
      "cat cat 1.0\n",
      "cat banana 0.28154364\n",
      "banana dog 0.24327643\n",
      "banana cat 0.28154364\n",
      "banana banana 1.0\n"
     ]
    }
   ],
   "source": [
    "tokens = nlp(u'dog cat banana')\n",
    "\n",
    "for token1 in tokens:\n",
    "    for token2 in tokens:\n",
    "        print(token1.text, token2.text, token1.similarity(token2))"
   ]
  },
  {
   "cell_type": "markdown",
   "metadata": {},
   "source": [
    "Let's get back to our problem. Now we will be trying to represent each job-description as a vector"
   ]
  },
  {
   "cell_type": "code",
   "execution_count": 29,
   "metadata": {},
   "outputs": [],
   "source": [
    "# Vectorizing the text-data\n",
    "vector_list = []\n",
    "\n",
    "for doc in nlp.pipe(data_full['as_opening_title'], n_threads=4, batch_size=10000):\n",
    "    vector_list.append(doc.vector)"
   ]
  },
  {
   "cell_type": "code",
   "execution_count": 30,
   "metadata": {},
   "outputs": [],
   "source": [
    "# Assamble the list of vectors into a matrix\n",
    "X = np.vstack(vector_list)"
   ]
  },
  {
   "cell_type": "code",
   "execution_count": 31,
   "metadata": {},
   "outputs": [
    {
     "data": {
      "text/plain": [
       "(87967, 300)"
      ]
     },
     "execution_count": 31,
     "metadata": {},
     "output_type": "execute_result"
    }
   ],
   "source": [
    "X.shape"
   ]
  },
  {
   "cell_type": "code",
   "execution_count": 32,
   "metadata": {},
   "outputs": [
    {
     "data": {
      "text/plain": [
       "array([[-6.61797523e-02, -1.05569877e-01, -2.54946977e-01,\n",
       "         2.89416276e-02,  1.48502260e-01, -2.35250220e-03,\n",
       "        -7.37528726e-02, -1.23254001e-01, -4.75450121e-02,\n",
       "         1.81063378e+00, -3.05315763e-01,  1.64252996e-01,\n",
       "         1.81349963e-02, -7.96169043e-02,  9.88330841e-02,\n",
       "         4.69601229e-02, -1.53588623e-01,  1.52301371e+00,\n",
       "        -7.83170089e-02, -1.15350010e-02,  7.05676228e-02,\n",
       "        -1.52456000e-01, -1.37074381e-01,  7.36062527e-02,\n",
       "        -1.23024993e-02,  1.73343003e-01, -1.57703429e-01,\n",
       "        -2.26552755e-01,  1.18168369e-01, -9.71997529e-02,\n",
       "         1.07889377e-01,  2.38962490e-02, -7.40383789e-02,\n",
       "         1.74342752e-01, -1.98281258e-01, -2.40431756e-01,\n",
       "        -3.19082662e-02,  3.07103116e-02, -5.13854958e-02,\n",
       "        -1.87032372e-01, -5.80085777e-02,  8.26116279e-02,\n",
       "         1.07144870e-01, -2.66625941e-01, -5.39526194e-02,\n",
       "        -7.20162094e-02,  6.35398775e-02,  6.11887593e-03,\n",
       "         1.00848749e-01,  4.09996286e-02, -3.64992112e-01,\n",
       "         2.47058757e-02,  3.54510024e-02, -1.84666798e-01,\n",
       "         2.19746232e-02, -4.02337499e-02,  2.33471263e-02,\n",
       "        -2.02543020e-01, -1.76723748e-01, -9.28414986e-02,\n",
       "         1.29372120e-01,  8.81081223e-02, -1.32887438e-02,\n",
       "         3.34563404e-01,  1.17023245e-01,  2.33004123e-01,\n",
       "        -7.60112479e-02,  4.05193791e-02,  2.12748408e-01,\n",
       "         5.73092513e-02,  1.86672121e-01,  1.50551209e-02,\n",
       "         3.91442567e-01, -1.29015952e-01,  2.43234262e-01,\n",
       "         1.30443633e-01,  1.46653995e-01, -1.62431628e-01,\n",
       "         5.27751148e-02,  2.42396891e-01, -4.10347506e-02,\n",
       "        -1.87547654e-02, -2.63460010e-01, -2.21958756e-02,\n",
       "         1.78627502e-02, -2.25430131e-01, -1.53621256e-01,\n",
       "         1.49343731e-02,  4.01857227e-01, -3.60402465e-02,\n",
       "        -2.35800743e-01, -3.20357457e-02,  2.14745611e-01,\n",
       "        -1.15915006e-02,  1.54878616e-01, -1.11561477e-01,\n",
       "        -1.11494876e-01, -1.10892504e-01, -2.66547501e-02,\n",
       "        -1.31799877e-01, -1.03513278e-01, -5.55083193e-02,\n",
       "        -5.44224679e-03, -3.20623666e-02,  9.38928798e-02,\n",
       "        -7.10433722e-01, -5.64570799e-02,  2.07008123e-01,\n",
       "         1.27888232e-01,  2.23462023e-02,  1.41019747e-01,\n",
       "        -2.39278361e-01,  2.22843111e-01,  1.79926619e-01,\n",
       "        -8.57586265e-02, -9.35492516e-02, -6.59534894e-03,\n",
       "         1.60765618e-01, -7.85068423e-02,  1.40305623e-01,\n",
       "         4.24999744e-03, -1.84542518e-02, -3.92238721e-02,\n",
       "         8.28046203e-02,  2.64137499e-02,  8.09699148e-02,\n",
       "         1.28423497e-01, -2.45476253e-02, -3.17700719e-03,\n",
       "         1.04803652e-01,  1.01865001e-01,  8.15250352e-03,\n",
       "        -1.63701251e-01,  9.06537659e-03,  8.94056186e-02,\n",
       "        -4.55355011e-02,  9.93108675e-02,  9.67825763e-03,\n",
       "         4.26611267e-02, -9.22086239e-02, -7.00230837e-01,\n",
       "         4.30774987e-02, -1.88949525e-01, -1.36115506e-01,\n",
       "         1.13400623e-01, -1.24610379e-01,  1.81097254e-01,\n",
       "        -9.70134363e-02, -2.43546274e-02,  4.35801633e-02,\n",
       "         1.89374372e-01,  5.16101234e-02,  3.54562141e-03,\n",
       "        -4.36187461e-02,  3.60329337e-02,  1.04817122e-01,\n",
       "         2.80712638e-03,  2.49677449e-02,  5.03920428e-02,\n",
       "         1.18456513e-01,  5.63596226e-02, -2.64246255e-01,\n",
       "         1.19960487e-01, -1.60542876e-01, -2.38929883e-01,\n",
       "        -6.79096207e-02, -1.39666617e-01,  1.26377538e-01,\n",
       "         2.28322633e-02, -1.73000500e-01,  1.77046750e-02,\n",
       "        -1.32152662e-02,  1.87806249e-01, -3.83315049e-02,\n",
       "        -3.87217551e-02,  8.21558684e-02,  9.98475030e-02,\n",
       "        -3.83852050e-02, -1.50461748e-01,  1.49041623e-01,\n",
       "         1.15831122e-01,  2.22731233e-01,  4.61537763e-03,\n",
       "        -2.26983130e-01,  3.86831351e-02, -2.46401243e-02,\n",
       "        -2.03119248e-01,  2.45817471e-02, -1.43330008e-01,\n",
       "        -2.13143736e-01, -1.72640979e-01,  8.38007554e-02,\n",
       "         5.22700027e-02,  1.83042139e-01,  2.53946245e-01,\n",
       "         1.70552880e-01, -1.99269861e-01,  3.63336951e-02,\n",
       "         7.57919997e-02,  2.33305126e-01,  1.59759000e-01,\n",
       "        -3.75671536e-01,  5.83611280e-02,  4.36846204e-02,\n",
       "         2.00478867e-01,  4.70496267e-02,  8.40936303e-02,\n",
       "         1.74706638e-01,  5.87112606e-02,  8.12803730e-02,\n",
       "         1.08920056e-02, -1.61442503e-01, -1.31522998e-01,\n",
       "         2.61925184e-03, -2.56367505e-01,  1.56816751e-01,\n",
       "         1.15365004e-02,  8.23788792e-02, -4.17703390e-01,\n",
       "         1.32873729e-01,  1.39560197e-02, -8.38967487e-02,\n",
       "        -4.85491231e-02, -1.28091164e-02, -1.22511089e-01,\n",
       "         6.63812459e-02,  4.07182500e-02,  2.71223515e-01,\n",
       "         2.07602739e-01, -1.63053006e-01, -4.97952104e-02,\n",
       "         7.00295493e-02,  1.34948879e-01,  1.30077511e-01,\n",
       "        -7.69098774e-02, -1.95382759e-01, -6.83269948e-02,\n",
       "         4.82858792e-02, -1.50965750e-01,  8.12546015e-02,\n",
       "         3.55525017e-02,  3.64682451e-02,  2.60847867e-01,\n",
       "         1.40449591e-03,  2.45290399e-01, -4.23711240e-01,\n",
       "        -7.94337597e-03,  4.18402515e-02,  5.46225160e-03,\n",
       "        -5.45543842e-02,  6.96362555e-02, -9.52049941e-02,\n",
       "        -1.29377484e-01,  2.86154971e-02,  3.42111409e-01,\n",
       "         2.57404774e-01, -1.07727520e-01, -6.24149945e-03,\n",
       "         2.45581977e-02,  6.76059350e-02,  1.53924137e-01,\n",
       "         6.86887559e-03,  1.28009498e-01, -2.49337628e-02,\n",
       "         2.09178776e-02, -3.42059106e-01, -9.22148004e-02,\n",
       "         4.29362506e-02,  7.17611194e-01, -5.17747551e-03,\n",
       "         3.11877489e-01, -1.43551186e-01,  5.87491244e-02,\n",
       "         8.26066732e-02, -3.68196219e-02,  3.58021259e-02,\n",
       "        -1.95472866e-01, -6.77396283e-02,  7.35951290e-02,\n",
       "         2.17047967e-02,  1.08514011e-01,  1.68766364e-01,\n",
       "         1.89090759e-01, -4.32257503e-02,  5.25887609e-02,\n",
       "        -2.62983501e-01, -6.36792481e-02,  3.85737531e-02,\n",
       "         2.39406258e-01, -1.44854784e-01, -1.88107833e-01,\n",
       "         1.00233495e-01,  1.14394091e-01,  1.47218257e-01,\n",
       "        -1.31579995e-01, -2.53912508e-01, -8.90812501e-02,\n",
       "        -6.57219961e-02,  1.58695117e-01,  1.61983132e-01]], dtype=float32)"
      ]
     },
     "execution_count": 32,
     "metadata": {},
     "output_type": "execute_result"
    }
   ],
   "source": [
    "X[:1,:]"
   ]
  },
  {
   "cell_type": "markdown",
   "metadata": {},
   "source": [
    "Having created the variables, we can now split the dataset and train some models"
   ]
  },
  {
   "cell_type": "code",
   "execution_count": 33,
   "metadata": {},
   "outputs": [],
   "source": [
    "# splitting the data\n",
    "\n",
    "X_train, X_test, y_train, y_test = train_test_split(X, encoded, test_size=0.2)"
   ]
  },
  {
   "cell_type": "code",
   "execution_count": 34,
   "metadata": {},
   "outputs": [
    {
     "name": "stderr",
     "output_type": "stream",
     "text": [
      "/opt/conda/lib/python3.6/site-packages/sklearn/linear_model/logistic.py:947: ConvergenceWarning: lbfgs failed to converge. Increase the number of iterations.\n",
      "  \"of iterations.\", ConvergenceWarning)\n"
     ]
    },
    {
     "data": {
      "text/plain": [
       "LogisticRegression(C=1.0, class_weight=None, dual=False, fit_intercept=True,\n",
       "                   intercept_scaling=1, l1_ratio=None, max_iter=100,\n",
       "                   multi_class='multinomial', n_jobs=None, penalty='l2',\n",
       "                   random_state=None, solver='lbfgs', tol=0.0001, verbose=0,\n",
       "                   warm_start=False)"
      ]
     },
     "execution_count": 34,
     "metadata": {},
     "output_type": "execute_result"
    }
   ],
   "source": [
    "# Training a logistic regression\n",
    "\n",
    "classifier = LogisticRegression(multi_class='multinomial',solver='lbfgs')\n",
    "classifier.fit(X_train, y_train)"
   ]
  },
  {
   "cell_type": "code",
   "execution_count": 35,
   "metadata": {},
   "outputs": [
    {
     "name": "stdout",
     "output_type": "stream",
     "text": [
      "                            precision    recall  f1-score   support\n",
      "\n",
      "   Accounting & Consulting       0.76      0.40      0.53       307\n",
      "             Admin Support       0.63      0.69      0.66      2061\n",
      "          Customer Service       0.67      0.35      0.46       126\n",
      "  Data Science & Analytics       0.39      0.18      0.25       234\n",
      "         Design & Creative       0.84      0.86      0.85      3802\n",
      "Engineering & Architecture       0.73      0.61      0.67       345\n",
      "           IT & Networking       0.69      0.49      0.57       352\n",
      "                     Legal       0.72      0.40      0.52        57\n",
      "         Sales & Marketing       0.67      0.60      0.63      1229\n",
      "               Translation       0.87      0.83      0.85       839\n",
      "  Web & Mobile Development       0.00      0.00      0.00         2\n",
      "Web, Mobile & Software Dev       0.82      0.89      0.85      5387\n",
      "                   Writing       0.81      0.81      0.81      2853\n",
      "\n",
      "                  accuracy                           0.78     17594\n",
      "                 macro avg       0.66      0.55      0.59     17594\n",
      "              weighted avg       0.78      0.78      0.78     17594\n",
      "\n"
     ]
    },
    {
     "name": "stderr",
     "output_type": "stream",
     "text": [
      "/opt/conda/lib/python3.6/site-packages/sklearn/metrics/classification.py:1437: UndefinedMetricWarning: Precision and F-score are ill-defined and being set to 0.0 in labels with no predicted samples.\n",
      "  'precision', 'predicted', average, warn_for)\n"
     ]
    }
   ],
   "source": [
    "# How are we doing?\n",
    "\n",
    "from sklearn.metrics import classification_report\n",
    "\n",
    "y_pred = classifier.predict(X_test)\n",
    "\n",
    "classes_list = y_test.tolist() + y_pred.tolist()\n",
    "\n",
    "labels = sorted(set(classes_list))\n",
    "targets = encoder.inverse_transform(labels)\n",
    "\n",
    "print(classification_report(y_test, y_pred, target_names = targets))"
   ]
  },
  {
   "cell_type": "markdown",
   "metadata": {},
   "source": [
    "Finally, we will be training an artificial neural network\n",
    "We will be using Keras for setting it up and training."
   ]
  },
  {
   "cell_type": "code",
   "execution_count": 36,
   "metadata": {},
   "outputs": [
    {
     "name": "stderr",
     "output_type": "stream",
     "text": [
      "Using TensorFlow backend.\n",
      "/opt/conda/lib/python3.6/site-packages/tensorflow/python/framework/dtypes.py:516: FutureWarning: Passing (type, 1) or '1type' as a synonym of type is deprecated; in a future version of numpy, it will be understood as (type, (1,)) / '(1,)type'.\n",
      "  _np_qint8 = np.dtype([(\"qint8\", np.int8, 1)])\n",
      "/opt/conda/lib/python3.6/site-packages/tensorflow/python/framework/dtypes.py:517: FutureWarning: Passing (type, 1) or '1type' as a synonym of type is deprecated; in a future version of numpy, it will be understood as (type, (1,)) / '(1,)type'.\n",
      "  _np_quint8 = np.dtype([(\"quint8\", np.uint8, 1)])\n",
      "/opt/conda/lib/python3.6/site-packages/tensorflow/python/framework/dtypes.py:518: FutureWarning: Passing (type, 1) or '1type' as a synonym of type is deprecated; in a future version of numpy, it will be understood as (type, (1,)) / '(1,)type'.\n",
      "  _np_qint16 = np.dtype([(\"qint16\", np.int16, 1)])\n",
      "/opt/conda/lib/python3.6/site-packages/tensorflow/python/framework/dtypes.py:519: FutureWarning: Passing (type, 1) or '1type' as a synonym of type is deprecated; in a future version of numpy, it will be understood as (type, (1,)) / '(1,)type'.\n",
      "  _np_quint16 = np.dtype([(\"quint16\", np.uint16, 1)])\n",
      "/opt/conda/lib/python3.6/site-packages/tensorflow/python/framework/dtypes.py:520: FutureWarning: Passing (type, 1) or '1type' as a synonym of type is deprecated; in a future version of numpy, it will be understood as (type, (1,)) / '(1,)type'.\n",
      "  _np_qint32 = np.dtype([(\"qint32\", np.int32, 1)])\n",
      "/opt/conda/lib/python3.6/site-packages/tensorflow/python/framework/dtypes.py:525: FutureWarning: Passing (type, 1) or '1type' as a synonym of type is deprecated; in a future version of numpy, it will be understood as (type, (1,)) / '(1,)type'.\n",
      "  np_resource = np.dtype([(\"resource\", np.ubyte, 1)])\n",
      "/opt/conda/lib/python3.6/site-packages/tensorboard/compat/tensorflow_stub/dtypes.py:541: FutureWarning: Passing (type, 1) or '1type' as a synonym of type is deprecated; in a future version of numpy, it will be understood as (type, (1,)) / '(1,)type'.\n",
      "  _np_qint8 = np.dtype([(\"qint8\", np.int8, 1)])\n",
      "/opt/conda/lib/python3.6/site-packages/tensorboard/compat/tensorflow_stub/dtypes.py:542: FutureWarning: Passing (type, 1) or '1type' as a synonym of type is deprecated; in a future version of numpy, it will be understood as (type, (1,)) / '(1,)type'.\n",
      "  _np_quint8 = np.dtype([(\"quint8\", np.uint8, 1)])\n",
      "/opt/conda/lib/python3.6/site-packages/tensorboard/compat/tensorflow_stub/dtypes.py:543: FutureWarning: Passing (type, 1) or '1type' as a synonym of type is deprecated; in a future version of numpy, it will be understood as (type, (1,)) / '(1,)type'.\n",
      "  _np_qint16 = np.dtype([(\"qint16\", np.int16, 1)])\n",
      "/opt/conda/lib/python3.6/site-packages/tensorboard/compat/tensorflow_stub/dtypes.py:544: FutureWarning: Passing (type, 1) or '1type' as a synonym of type is deprecated; in a future version of numpy, it will be understood as (type, (1,)) / '(1,)type'.\n",
      "  _np_quint16 = np.dtype([(\"quint16\", np.uint16, 1)])\n",
      "/opt/conda/lib/python3.6/site-packages/tensorboard/compat/tensorflow_stub/dtypes.py:545: FutureWarning: Passing (type, 1) or '1type' as a synonym of type is deprecated; in a future version of numpy, it will be understood as (type, (1,)) / '(1,)type'.\n",
      "  _np_qint32 = np.dtype([(\"qint32\", np.int32, 1)])\n",
      "/opt/conda/lib/python3.6/site-packages/tensorboard/compat/tensorflow_stub/dtypes.py:550: FutureWarning: Passing (type, 1) or '1type' as a synonym of type is deprecated; in a future version of numpy, it will be understood as (type, (1,)) / '(1,)type'.\n",
      "  np_resource = np.dtype([(\"resource\", np.ubyte, 1)])\n"
     ]
    }
   ],
   "source": [
    "# Importing the keras library for deep learning\n",
    "\n",
    "import keras\n",
    "from keras.models import Sequential\n",
    "from keras.layers import Dense\n",
    "from keras.layers import Dropout"
   ]
  },
  {
   "cell_type": "markdown",
   "metadata": {},
   "source": [
    "![alt text](https://upload.wikimedia.org/wikipedia/commons/thumb/4/46/Colored_neural_network.svg/600px-Colored_neural_network.svg.png)"
   ]
  },
  {
   "cell_type": "code",
   "execution_count": 37,
   "metadata": {},
   "outputs": [],
   "source": [
    "classifier = Sequential() \n",
    "\n",
    "#### RED ####\n",
    "classifier.add(Dense(units = 256, activation='relu', input_dim = 300))\n",
    "\n",
    "#### BLUE ####\n",
    "classifier.add(Dropout(rate = 0.3))\n",
    "classifier.add(Dense(units = 512, activation='relu'))\n",
    "classifier.add(Dropout(rate = 0.1))\n",
    "classifier.add(Dense(units = 64,  activation='relu'))\n",
    "\n",
    "\n",
    "#### GREEN ####\n",
    "classifier.add(Dense(units = 13, activation='softmax'))\n",
    "\n",
    "\n",
    "#### COMPILE ####\n",
    "classifier.compile(optimizer=\"adam\", loss = 'categorical_crossentropy', metrics = ['accuracy'])"
   ]
  },
  {
   "cell_type": "code",
   "execution_count": 38,
   "metadata": {},
   "outputs": [
    {
     "name": "stdout",
     "output_type": "stream",
     "text": [
      "_________________________________________________________________\n",
      "Layer (type)                 Output Shape              Param #   \n",
      "=================================================================\n",
      "dense_1 (Dense)              (None, 256)               77056     \n",
      "_________________________________________________________________\n",
      "dropout_1 (Dropout)          (None, 256)               0         \n",
      "_________________________________________________________________\n",
      "dense_2 (Dense)              (None, 512)               131584    \n",
      "_________________________________________________________________\n",
      "dropout_2 (Dropout)          (None, 512)               0         \n",
      "_________________________________________________________________\n",
      "dense_3 (Dense)              (None, 64)                32832     \n",
      "_________________________________________________________________\n",
      "dense_4 (Dense)              (None, 13)                845       \n",
      "=================================================================\n",
      "Total params: 242,317\n",
      "Trainable params: 242,317\n",
      "Non-trainable params: 0\n",
      "_________________________________________________________________\n"
     ]
    }
   ],
   "source": [
    "classifier.summary()"
   ]
  },
  {
   "cell_type": "code",
   "execution_count": 39,
   "metadata": {},
   "outputs": [],
   "source": [
    "X_train, X_test, y_train, y_test = train_test_split(X, y, test_size=0.2)"
   ]
  },
  {
   "cell_type": "code",
   "execution_count": 40,
   "metadata": {},
   "outputs": [
    {
     "name": "stdout",
     "output_type": "stream",
     "text": [
      "Train on 70373 samples, validate on 17594 samples\n",
      "Epoch 1/10\n",
      "70373/70373 [==============================] - 4s 55us/step - loss: 1.0043 - acc: 0.6982 - val_loss: 0.7557 - val_acc: 0.7715\n",
      "Epoch 2/10\n",
      "70373/70373 [==============================] - 3s 44us/step - loss: 0.7376 - acc: 0.7747 - val_loss: 0.7028 - val_acc: 0.7867\n",
      "Epoch 3/10\n",
      "70373/70373 [==============================] - 3s 45us/step - loss: 0.6933 - acc: 0.7879 - val_loss: 0.6802 - val_acc: 0.7941\n",
      "Epoch 4/10\n",
      "70373/70373 [==============================] - 3s 45us/step - loss: 0.6658 - acc: 0.7948 - val_loss: 0.6704 - val_acc: 0.7983\n",
      "Epoch 5/10\n",
      "70373/70373 [==============================] - 3s 45us/step - loss: 0.6463 - acc: 0.8014 - val_loss: 0.6582 - val_acc: 0.7999\n",
      "Epoch 6/10\n",
      "70373/70373 [==============================] - 3s 48us/step - loss: 0.6253 - acc: 0.8063 - val_loss: 0.6486 - val_acc: 0.8041\n",
      "Epoch 7/10\n",
      "70373/70373 [==============================] - 3s 45us/step - loss: 0.6137 - acc: 0.8104 - val_loss: 0.6472 - val_acc: 0.8032\n",
      "Epoch 8/10\n",
      "70373/70373 [==============================] - 3s 44us/step - loss: 0.5983 - acc: 0.8143 - val_loss: 0.6399 - val_acc: 0.8065\n",
      "Epoch 9/10\n",
      "70373/70373 [==============================] - 3s 44us/step - loss: 0.5888 - acc: 0.8173 - val_loss: 0.6366 - val_acc: 0.8072\n",
      "Epoch 10/10\n",
      "70373/70373 [==============================] - 3s 45us/step - loss: 0.5725 - acc: 0.8213 - val_loss: 0.6409 - val_acc: 0.8042\n"
     ]
    }
   ],
   "source": [
    "history = classifier.fit(X_train, y_train, batch_size= 500, epochs= 10, validation_data=(X_test, y_test))"
   ]
  },
  {
   "cell_type": "code",
   "execution_count": 41,
   "metadata": {},
   "outputs": [
    {
     "data": {
      "text/plain": [
       "<matplotlib.axes._subplots.AxesSubplot at 0x7f72cb8eeb70>"
      ]
     },
     "execution_count": 41,
     "metadata": {},
     "output_type": "execute_result"
    },
    {
     "data": {
      "image/png": "[encoded data removed]",
      "text/plain": [
       "<Figure size 432x288 with 1 Axes>"
      ]
     },
     "metadata": {
      "needs_background": "light"
     },
     "output_type": "display_data"
    }
   ],
   "source": [
    "pd.DataFrame(history.history)[['acc','val_acc']].plot()"
   ]
  },
  {
   "cell_type": "code",
   "execution_count": 42,
   "metadata": {},
   "outputs": [
    {
     "name": "stdout",
     "output_type": "stream",
     "text": [
      "                            precision    recall  f1-score   support\n",
      "\n",
      "   Accounting & Consulting       0.77      0.49      0.60       303\n",
      "             Admin Support       0.68      0.72      0.70      2061\n",
      "          Customer Service       0.64      0.43      0.51       123\n",
      "  Data Science & Analytics       0.41      0.24      0.30       251\n",
      "         Design & Creative       0.86      0.85      0.86      3710\n",
      "Engineering & Architecture       0.66      0.64      0.65       348\n",
      "           IT & Networking       0.71      0.43      0.54       377\n",
      "                     Legal       0.73      0.51      0.60        63\n",
      "         Sales & Marketing       0.72      0.62      0.67      1321\n",
      "               Translation       0.85      0.91      0.88       823\n",
      "  Web & Mobile Development       0.00      0.00      0.00         1\n",
      "Web, Mobile & Software Dev       0.82      0.91      0.86      5442\n",
      "                   Writing       0.87      0.82      0.84      2771\n",
      "\n",
      "                  accuracy                           0.80     17594\n",
      "                 macro avg       0.67      0.58      0.62     17594\n",
      "              weighted avg       0.80      0.80      0.80     17594\n",
      "\n"
     ]
    },
    {
     "name": "stderr",
     "output_type": "stream",
     "text": [
      "/opt/conda/lib/python3.6/site-packages/sklearn/metrics/classification.py:1437: UndefinedMetricWarning: Precision and F-score are ill-defined and being set to 0.0 in labels with no predicted samples.\n",
      "  'precision', 'predicted', average, warn_for)\n"
     ]
    }
   ],
   "source": [
    "from sklearn.metrics import classification_report\n",
    "\n",
    "y_true = np.argmax(y_test, axis=1)\n",
    "labels = sorted(set([x[0] for x in y_true.tolist()]))\n",
    "targets = encoder.inverse_transform(labels)\n",
    "\n",
    "y_pred = classifier.predict_classes(X_test)\n",
    "\n",
    "print(classification_report(y_true, y_pred, target_names=targets))"
   ]
  },
  {
   "cell_type": "markdown",
   "metadata": {},
   "source": [
    "Let's see if we can use all our hard work for something\n",
    "Now, we can use the model on data where we don't know the initial labels"
   ]
  },
  {
   "cell_type": "code",
   "execution_count": 43,
   "metadata": {},
   "outputs": [],
   "source": [
    "# Extract a sample of 1000 rows from the empty-dataset\n",
    "new_data = data_subset_empty.sample(1000)['as_opening_title']"
   ]
  },
  {
   "cell_type": "code",
   "execution_count": 44,
   "metadata": {},
   "outputs": [],
   "source": [
    "# Reindex the sample (just to avoiod potential index-related-problems)\n",
    "new_data.index = range(len(new_data))"
   ]
  },
  {
   "cell_type": "code",
   "execution_count": 45,
   "metadata": {},
   "outputs": [],
   "source": [
    "# Vectorise the text with SpaCy\n",
    "\n",
    "new_X = []\n",
    "\n",
    "for doc in nlp.pipe(new_data, n_threads=4, batch_size=10000):\n",
    "    new_X.append(doc.vector)\n",
    "\n",
    "new_X = np.vstack(new_X)"
   ]
  },
  {
   "cell_type": "code",
   "execution_count": 46,
   "metadata": {},
   "outputs": [],
   "source": [
    "# Make predictions with the neural network model\n",
    "\n",
    "predictions = classifier.predict_classes(new_X)"
   ]
  },
  {
   "cell_type": "code",
   "execution_count": 47,
   "metadata": {},
   "outputs": [],
   "source": [
    "# Write predictions into the dataset\n",
    "\n",
    "result = pd.concat([new_data, pd.Series(predictions.tolist())], axis=1)"
   ]
  },
  {
   "cell_type": "code",
   "execution_count": 48,
   "metadata": {},
   "outputs": [],
   "source": [
    "# Transform nummerical category-predictions into labels\n",
    "result['category'] = encoder.inverse_transform(result[0])"
   ]
  },
  {
   "cell_type": "code",
   "execution_count": 49,
   "metadata": {},
   "outputs": [
    {
     "data": {
      "text/plain": [
       "array(['Web, Mobile & Software Dev', 'Design & Creative', 'Admin Support',\n",
       "       'Engineering & Architecture', 'Sales & Marketing', 'Writing',\n",
       "       'Data Science & Analytics', 'Translation', 'Customer Service',\n",
       "       'IT & Networking', 'Accounting & Consulting', 'Legal'],\n",
       "      dtype=object)"
      ]
     },
     "execution_count": 49,
     "metadata": {},
     "output_type": "execute_result"
    }
   ],
   "source": [
    "result['category'].unique()"
   ]
  },
  {
   "cell_type": "code",
   "execution_count": 50,
   "metadata": {},
   "outputs": [
    {
     "data": {
      "text/html": [
       "<div>\n",
       "<style scoped>\n",
       "    .dataframe tbody tr th:only-of-type {\n",
       "        vertical-align: middle;\n",
       "    }\n",
       "\n",
       "    .dataframe tbody tr th {\n",
       "        vertical-align: top;\n",
       "    }\n",
       "\n",
       "    .dataframe thead th {\n",
       "        text-align: right;\n",
       "    }\n",
       "</style>\n",
       "<table border=\"1\" class=\"dataframe\">\n",
       "  <thead>\n",
       "    <tr style=\"text-align: right;\">\n",
       "      <th></th>\n",
       "      <th>as_opening_title</th>\n",
       "      <th>0</th>\n",
       "      <th>category</th>\n",
       "    </tr>\n",
       "  </thead>\n",
       "  <tbody>\n",
       "    <tr>\n",
       "      <th>8</th>\n",
       "      <td>Writers needed 10 unique articles</td>\n",
       "      <td>12</td>\n",
       "      <td>Writing</td>\n",
       "    </tr>\n",
       "    <tr>\n",
       "      <th>10</th>\n",
       "      <td>Cover Letter</td>\n",
       "      <td>12</td>\n",
       "      <td>Writing</td>\n",
       "    </tr>\n",
       "    <tr>\n",
       "      <th>13</th>\n",
       "      <td>Writer Wanted for Online Review Responses</td>\n",
       "      <td>12</td>\n",
       "      <td>Writing</td>\n",
       "    </tr>\n",
       "    <tr>\n",
       "      <th>22</th>\n",
       "      <td>More short India Videos</td>\n",
       "      <td>12</td>\n",
       "      <td>Writing</td>\n",
       "    </tr>\n",
       "    <tr>\n",
       "      <th>41</th>\n",
       "      <td>JFL SPA</td>\n",
       "      <td>12</td>\n",
       "      <td>Writing</td>\n",
       "    </tr>\n",
       "    <tr>\n",
       "      <th>46</th>\n",
       "      <td>Blog Writer Who Knows SEO (35+ blogs needed pe...</td>\n",
       "      <td>12</td>\n",
       "      <td>Writing</td>\n",
       "    </tr>\n",
       "    <tr>\n",
       "      <th>49</th>\n",
       "      <td>First Million project proofreading.</td>\n",
       "      <td>12</td>\n",
       "      <td>Writing</td>\n",
       "    </tr>\n",
       "    <tr>\n",
       "      <th>67</th>\n",
       "      <td>Natural Remedy Blog Writer</td>\n",
       "      <td>12</td>\n",
       "      <td>Writing</td>\n",
       "    </tr>\n",
       "    <tr>\n",
       "      <th>86</th>\n",
       "      <td>Immediate Proofreading and Editing for Boren F...</td>\n",
       "      <td>12</td>\n",
       "      <td>Writing</td>\n",
       "    </tr>\n",
       "    <tr>\n",
       "      <th>107</th>\n",
       "      <td>Writer to write Website Content</td>\n",
       "      <td>12</td>\n",
       "      <td>Writing</td>\n",
       "    </tr>\n",
       "    <tr>\n",
       "      <th>110</th>\n",
       "      <td>WS bi-monthly campaign copy</td>\n",
       "      <td>12</td>\n",
       "      <td>Writing</td>\n",
       "    </tr>\n",
       "    <tr>\n",
       "      <th>114</th>\n",
       "      <td>Handwritten notes to LaTex</td>\n",
       "      <td>12</td>\n",
       "      <td>Writing</td>\n",
       "    </tr>\n",
       "    <tr>\n",
       "      <th>117</th>\n",
       "      <td>Chick Lit Author</td>\n",
       "      <td>12</td>\n",
       "      <td>Writing</td>\n",
       "    </tr>\n",
       "    <tr>\n",
       "      <th>127</th>\n",
       "      <td>Weekly blogger wanted for Australian eco-frien...</td>\n",
       "      <td>12</td>\n",
       "      <td>Writing</td>\n",
       "    </tr>\n",
       "    <tr>\n",
       "      <th>131</th>\n",
       "      <td>Various Articles / Section and Product Descrip...</td>\n",
       "      <td>12</td>\n",
       "      <td>Writing</td>\n",
       "    </tr>\n",
       "    <tr>\n",
       "      <th>132</th>\n",
       "      <td>Content writting for Precast concrete structur...</td>\n",
       "      <td>12</td>\n",
       "      <td>Writing</td>\n",
       "    </tr>\n",
       "    <tr>\n",
       "      <th>136</th>\n",
       "      <td>Editing two research reports</td>\n",
       "      <td>12</td>\n",
       "      <td>Writing</td>\n",
       "    </tr>\n",
       "    <tr>\n",
       "      <th>141</th>\n",
       "      <td>Promotion of Sleep Book</td>\n",
       "      <td>12</td>\n",
       "      <td>Writing</td>\n",
       "    </tr>\n",
       "    <tr>\n",
       "      <th>146</th>\n",
       "      <td>Ebay listing/writing for secondhand goods</td>\n",
       "      <td>12</td>\n",
       "      <td>Writing</td>\n",
       "    </tr>\n",
       "    <tr>\n",
       "      <th>157</th>\n",
       "      <td>7 Vehicle Landing Page Articles (Project 4)</td>\n",
       "      <td>12</td>\n",
       "      <td>Writing</td>\n",
       "    </tr>\n",
       "    <tr>\n",
       "      <th>163</th>\n",
       "      <td>Reliable Content Writers</td>\n",
       "      <td>12</td>\n",
       "      <td>Writing</td>\n",
       "    </tr>\n",
       "    <tr>\n",
       "      <th>188</th>\n",
       "      <td>9x 2000 word articles on outdoor sport products</td>\n",
       "      <td>12</td>\n",
       "      <td>Writing</td>\n",
       "    </tr>\n",
       "    <tr>\n",
       "      <th>199</th>\n",
       "      <td>Kitchen Tips test articles</td>\n",
       "      <td>12</td>\n",
       "      <td>Writing</td>\n",
       "    </tr>\n",
       "    <tr>\n",
       "      <th>204</th>\n",
       "      <td>Content writer with SEO expertise</td>\n",
       "      <td>12</td>\n",
       "      <td>Writing</td>\n",
       "    </tr>\n",
       "    <tr>\n",
       "      <th>211</th>\n",
       "      <td>Business proposal, Event funding</td>\n",
       "      <td>12</td>\n",
       "      <td>Writing</td>\n",
       "    </tr>\n",
       "    <tr>\n",
       "      <th>240</th>\n",
       "      <td>I need a ghost writer for erotica series</td>\n",
       "      <td>12</td>\n",
       "      <td>Writing</td>\n",
       "    </tr>\n",
       "    <tr>\n",
       "      <th>249</th>\n",
       "      <td>french content for blog on retirement homes</td>\n",
       "      <td>12</td>\n",
       "      <td>Writing</td>\n",
       "    </tr>\n",
       "    <tr>\n",
       "      <th>259</th>\n",
       "      <td>RÃ©daction des guides Rapport de stage et Livre</td>\n",
       "      <td>12</td>\n",
       "      <td>Writing</td>\n",
       "    </tr>\n",
       "    <tr>\n",
       "      <th>265</th>\n",
       "      <td>Ongoing Content Writers</td>\n",
       "      <td>12</td>\n",
       "      <td>Writing</td>\n",
       "    </tr>\n",
       "    <tr>\n",
       "      <th>272</th>\n",
       "      <td>Proofread Document Written in Spanish for Gram...</td>\n",
       "      <td>12</td>\n",
       "      <td>Writing</td>\n",
       "    </tr>\n",
       "    <tr>\n",
       "      <th>...</th>\n",
       "      <td>...</td>\n",
       "      <td>...</td>\n",
       "      <td>...</td>\n",
       "    </tr>\n",
       "    <tr>\n",
       "      <th>826</th>\n",
       "      <td>Product Review Page</td>\n",
       "      <td>12</td>\n",
       "      <td>Writing</td>\n",
       "    </tr>\n",
       "    <tr>\n",
       "      <th>828</th>\n",
       "      <td>Website blog articles - 300-500 words</td>\n",
       "      <td>12</td>\n",
       "      <td>Writing</td>\n",
       "    </tr>\n",
       "    <tr>\n",
       "      <th>835</th>\n",
       "      <td>Blog Writer</td>\n",
       "      <td>12</td>\n",
       "      <td>Writing</td>\n",
       "    </tr>\n",
       "    <tr>\n",
       "      <th>836</th>\n",
       "      <td>Writer for Homeowners Pest Control Guide</td>\n",
       "      <td>12</td>\n",
       "      <td>Writing</td>\n",
       "    </tr>\n",
       "    <tr>\n",
       "      <th>848</th>\n",
       "      <td>Search for Law and IT periodicals concerning i...</td>\n",
       "      <td>12</td>\n",
       "      <td>Writing</td>\n",
       "    </tr>\n",
       "    <tr>\n",
       "      <th>861</th>\n",
       "      <td>Writer</td>\n",
       "      <td>12</td>\n",
       "      <td>Writing</td>\n",
       "    </tr>\n",
       "    <tr>\n",
       "      <th>863</th>\n",
       "      <td>1000 word technical articles</td>\n",
       "      <td>12</td>\n",
       "      <td>Writing</td>\n",
       "    </tr>\n",
       "    <tr>\n",
       "      <th>868</th>\n",
       "      <td>Thesis proofreading and style improvement (in ...</td>\n",
       "      <td>12</td>\n",
       "      <td>Writing</td>\n",
       "    </tr>\n",
       "    <tr>\n",
       "      <th>872</th>\n",
       "      <td>UK English COPYWRITERS for MARKETING/SEO/Brand...</td>\n",
       "      <td>12</td>\n",
       "      <td>Writing</td>\n",
       "    </tr>\n",
       "    <tr>\n",
       "      <th>873</th>\n",
       "      <td>Linguist (ES-419) [1.27 - 7.6]</td>\n",
       "      <td>12</td>\n",
       "      <td>Writing</td>\n",
       "    </tr>\n",
       "    <tr>\n",
       "      <th>874</th>\n",
       "      <td>Transcribe Videos</td>\n",
       "      <td>12</td>\n",
       "      <td>Writing</td>\n",
       "    </tr>\n",
       "    <tr>\n",
       "      <th>877</th>\n",
       "      <td>Editor needed for Ebook</td>\n",
       "      <td>12</td>\n",
       "      <td>Writing</td>\n",
       "    </tr>\n",
       "    <tr>\n",
       "      <th>886</th>\n",
       "      <td>Customer Support and Product Description Editi...</td>\n",
       "      <td>12</td>\n",
       "      <td>Writing</td>\n",
       "    </tr>\n",
       "    <tr>\n",
       "      <th>887</th>\n",
       "      <td>Contemporary Romance - Popular niches - 10K wo...</td>\n",
       "      <td>12</td>\n",
       "      <td>Writing</td>\n",
       "    </tr>\n",
       "    <tr>\n",
       "      <th>891</th>\n",
       "      <td>10 Articles based on Interviews that I have co...</td>\n",
       "      <td>12</td>\n",
       "      <td>Writing</td>\n",
       "    </tr>\n",
       "    <tr>\n",
       "      <th>896</th>\n",
       "      <td>Content Writer</td>\n",
       "      <td>12</td>\n",
       "      <td>Writing</td>\n",
       "    </tr>\n",
       "    <tr>\n",
       "      <th>906</th>\n",
       "      <td>Amazon Book Reviews</td>\n",
       "      <td>12</td>\n",
       "      <td>Writing</td>\n",
       "    </tr>\n",
       "    <tr>\n",
       "      <th>907</th>\n",
       "      <td>Passionate About Pets? Creative? Seeking Freel...</td>\n",
       "      <td>12</td>\n",
       "      <td>Writing</td>\n",
       "    </tr>\n",
       "    <tr>\n",
       "      <th>908</th>\n",
       "      <td>Writing summaries of News items</td>\n",
       "      <td>12</td>\n",
       "      <td>Writing</td>\n",
       "    </tr>\n",
       "    <tr>\n",
       "      <th>909</th>\n",
       "      <td>Editing and proofreading of a 2 page, single s...</td>\n",
       "      <td>12</td>\n",
       "      <td>Writing</td>\n",
       "    </tr>\n",
       "    <tr>\n",
       "      <th>916</th>\n",
       "      <td>Help writing a humorous blog post.</td>\n",
       "      <td>12</td>\n",
       "      <td>Writing</td>\n",
       "    </tr>\n",
       "    <tr>\n",
       "      <th>928</th>\n",
       "      <td>Press Release Writer Needed</td>\n",
       "      <td>12</td>\n",
       "      <td>Writing</td>\n",
       "    </tr>\n",
       "    <tr>\n",
       "      <th>932</th>\n",
       "      <td>Inc article 2</td>\n",
       "      <td>12</td>\n",
       "      <td>Writing</td>\n",
       "    </tr>\n",
       "    <tr>\n",
       "      <th>958</th>\n",
       "      <td>Resume / Executive Job Summary</td>\n",
       "      <td>12</td>\n",
       "      <td>Writing</td>\n",
       "    </tr>\n",
       "    <tr>\n",
       "      <th>959</th>\n",
       "      <td>I need English proofreading of a document.</td>\n",
       "      <td>12</td>\n",
       "      <td>Writing</td>\n",
       "    </tr>\n",
       "    <tr>\n",
       "      <th>967</th>\n",
       "      <td>Website Content Writer</td>\n",
       "      <td>12</td>\n",
       "      <td>Writing</td>\n",
       "    </tr>\n",
       "    <tr>\n",
       "      <th>973</th>\n",
       "      <td>Assignment Natural language</td>\n",
       "      <td>12</td>\n",
       "      <td>Writing</td>\n",
       "    </tr>\n",
       "    <tr>\n",
       "      <th>979</th>\n",
       "      <td>SEO / Web Content Writer</td>\n",
       "      <td>12</td>\n",
       "      <td>Writing</td>\n",
       "    </tr>\n",
       "    <tr>\n",
       "      <th>989</th>\n",
       "      <td>Florist Blog Articles</td>\n",
       "      <td>12</td>\n",
       "      <td>Writing</td>\n",
       "    </tr>\n",
       "    <tr>\n",
       "      <th>991</th>\n",
       "      <td>Business consultant and  business Plan Writer</td>\n",
       "      <td>12</td>\n",
       "      <td>Writing</td>\n",
       "    </tr>\n",
       "  </tbody>\n",
       "</table>\n",
       "<p>149 rows × 3 columns</p>\n",
       "</div>"
      ],
      "text/plain": [
       "                                      as_opening_title   0 category\n",
       "8                    Writers needed 10 unique articles  12  Writing\n",
       "10                                        Cover Letter  12  Writing\n",
       "13           Writer Wanted for Online Review Responses  12  Writing\n",
       "22                             More short India Videos  12  Writing\n",
       "41                                             JFL SPA  12  Writing\n",
       "46   Blog Writer Who Knows SEO (35+ blogs needed pe...  12  Writing\n",
       "49                 First Million project proofreading.  12  Writing\n",
       "67                          Natural Remedy Blog Writer  12  Writing\n",
       "86   Immediate Proofreading and Editing for Boren F...  12  Writing\n",
       "107                    Writer to write Website Content  12  Writing\n",
       "110                        WS bi-monthly campaign copy  12  Writing\n",
       "114                         Handwritten notes to LaTex  12  Writing\n",
       "117                                   Chick Lit Author  12  Writing\n",
       "127  Weekly blogger wanted for Australian eco-frien...  12  Writing\n",
       "131  Various Articles / Section and Product Descrip...  12  Writing\n",
       "132  Content writting for Precast concrete structur...  12  Writing\n",
       "136                       Editing two research reports  12  Writing\n",
       "141                            Promotion of Sleep Book  12  Writing\n",
       "146          Ebay listing/writing for secondhand goods  12  Writing\n",
       "157        7 Vehicle Landing Page Articles (Project 4)  12  Writing\n",
       "163                           Reliable Content Writers  12  Writing\n",
       "188    9x 2000 word articles on outdoor sport products  12  Writing\n",
       "199                         Kitchen Tips test articles  12  Writing\n",
       "204                  Content writer with SEO expertise  12  Writing\n",
       "211                   Business proposal, Event funding  12  Writing\n",
       "240           I need a ghost writer for erotica series  12  Writing\n",
       "249        french content for blog on retirement homes  12  Writing\n",
       "259    RÃ©daction des guides Rapport de stage et Livre  12  Writing\n",
       "265                            Ongoing Content Writers  12  Writing\n",
       "272  Proofread Document Written in Spanish for Gram...  12  Writing\n",
       "..                                                 ...  ..      ...\n",
       "826                                Product Review Page  12  Writing\n",
       "828              Website blog articles - 300-500 words  12  Writing\n",
       "835                                        Blog Writer  12  Writing\n",
       "836           Writer for Homeowners Pest Control Guide  12  Writing\n",
       "848  Search for Law and IT periodicals concerning i...  12  Writing\n",
       "861                                             Writer  12  Writing\n",
       "863                       1000 word technical articles  12  Writing\n",
       "868  Thesis proofreading and style improvement (in ...  12  Writing\n",
       "872  UK English COPYWRITERS for MARKETING/SEO/Brand...  12  Writing\n",
       "873                     Linguist (ES-419) [1.27 - 7.6]  12  Writing\n",
       "874                                  Transcribe Videos  12  Writing\n",
       "877                            Editor needed for Ebook  12  Writing\n",
       "886  Customer Support and Product Description Editi...  12  Writing\n",
       "887  Contemporary Romance - Popular niches - 10K wo...  12  Writing\n",
       "891  10 Articles based on Interviews that I have co...  12  Writing\n",
       "896                                     Content Writer  12  Writing\n",
       "906                                Amazon Book Reviews  12  Writing\n",
       "907  Passionate About Pets? Creative? Seeking Freel...  12  Writing\n",
       "908                    Writing summaries of News items  12  Writing\n",
       "909  Editing and proofreading of a 2 page, single s...  12  Writing\n",
       "916                 Help writing a humorous blog post.  12  Writing\n",
       "928                        Press Release Writer Needed  12  Writing\n",
       "932                                      Inc article 2  12  Writing\n",
       "958                     Resume / Executive Job Summary  12  Writing\n",
       "959         I need English proofreading of a document.  12  Writing\n",
       "967                             Website Content Writer  12  Writing\n",
       "973                        Assignment Natural language  12  Writing\n",
       "979                           SEO / Web Content Writer  12  Writing\n",
       "989                              Florist Blog Articles  12  Writing\n",
       "991      Business consultant and  business Plan Writer  12  Writing\n",
       "\n",
       "[149 rows x 3 columns]"
      ]
     },
     "execution_count": 50,
     "metadata": {},
     "output_type": "execute_result"
    }
   ],
   "source": [
    "# Quick check?\n",
    "\n",
    "result[result.category == 'Writing']"
   ]
  },
  {
   "cell_type": "markdown",
   "metadata": {},
   "source": [
    "## Case2: Gig portfolios of online freelancers\n",
    "\n",
    "![alt text](http://sds-datacrunch.aau.dk/public/adult-alone-bar-1308625.jpg)\n",
    "\n",
    "You get gig-portfolio data for 1000 online freelancers – overall ~35k gigs. Given this data can you identify professional patterns?\n",
    "\n",
    "This part of the tutorial is a short version based on the analysis performed for this paper:\n",
    "**Career Paths in Digital Marketplaces: Same, same but different?**\n",
    "With Mareike Seifried and Tobias Kretschmer\n",
    "LMU Munich\n",
    "Munich School of Management\n",
    "\n",
    " https://conference.druid.dk/acc_papers/48ox0g0vwmp0vvx8gj7lzwhbimflf0.pdf\n",
    "* "
   ]
  },
  {
   "cell_type": "code",
   "execution_count": 51,
   "metadata": {},
   "outputs": [
    {
     "name": "stdout",
     "output_type": "stream",
     "text": [
      "Collecting hdbscan\r\n",
      "\u001b[?25l  Downloading https://files.pythonhosted.org/packages/10/7c/1401ec61b0e7392287e045b6913206cfff050b65d869c19f7ec0f5626487/hdbscan-0.8.22.tar.gz (4.0MB)\r\n",
      "\u001b[K     |████████████████████████████████| 4.0MB 4.9MB/s \r\n",
      "\u001b[?25h  Installing build dependencies ... \u001b[?25l-\b \b\\\b \b|\b \b/\b \b-\b \b\\\b \b|\b \b/\b \bdone\r\n",
      "\u001b[?25h  Getting requirements to build wheel ... \u001b[?25l-\b \bdone\r\n",
      "\u001b[?25h    Preparing wheel metadata ... \u001b[?25l-\b \bdone\r\n",
      "\u001b[?25hRequirement already satisfied: numpy>=1.16.0 in /opt/conda/lib/python3.6/site-packages (from hdbscan) (1.17.0)\r\n",
      "Requirement already satisfied: scipy>=0.9 in /opt/conda/lib/python3.6/site-packages (from hdbscan) (1.2.1)\r\n",
      "Requirement already satisfied: joblib in /opt/conda/lib/python3.6/site-packages (from hdbscan) (0.13.2)\r\n",
      "Requirement already satisfied: scikit-learn>=0.17 in /opt/conda/lib/python3.6/site-packages (from hdbscan) (0.21.3)\r\n",
      "Requirement already satisfied: cython>=0.27 in /opt/conda/lib/python3.6/site-packages (from hdbscan) (0.29.13)\r\n",
      "Building wheels for collected packages: hdbscan\r\n",
      "  Building wheel for hdbscan (PEP 517) ... \u001b[?25l-\b \b\\\b \b|\b \b/\b \b-\b \b\\\b \b|\b \b/\b \b-\b \b\\\b \b|\b \b/\b \b-\b \b\\\b \b|\b \b/\b \b-\b \b\\\b \b|\b \b/\b \b-\b \bdone\r\n",
      "\u001b[?25h  Created wheel for hdbscan: filename=hdbscan-0.8.22-cp36-cp36m-linux_x86_64.whl size=2475947 sha256=ef3780bcba53c5358a081e7c252cbfd7cf5c5c5c1c550dde4004bbf0ea8ecc08\r\n",
      "  Stored in directory: /tmp/.cache/pip/wheels/6d/f9/db/f2e5e704427932f5b05c91fc520effbb0bd10ba8d73fd3bfc7\r\n",
      "Successfully built hdbscan\r\n",
      "Installing collected packages: hdbscan\r\n",
      "Successfully installed hdbscan-0.8.22\r\n"
     ]
    }
   ],
   "source": [
    "!pip3 install hdbscan"
   ]
  },
  {
   "cell_type": "code",
   "execution_count": 52,
   "metadata": {},
   "outputs": [],
   "source": [
    "# loading the data?\n",
    "data = pd.read_csv('http://sds-datacrunch.aau.dk/public/feelance_eda.csv')"
   ]
  },
  {
   "cell_type": "code",
   "execution_count": 53,
   "metadata": {},
   "outputs": [
    {
     "name": "stdout",
     "output_type": "stream",
     "text": [
      "<class 'pandas.core.frame.DataFrame'>\n",
      "RangeIndex: 34606 entries, 0 to 34605\n",
      "Data columns (total 13 columns):\n",
      "Unnamed: 0          34606 non-null int64\n",
      "as_job_type         34606 non-null object\n",
      "as_opening_title    34606 non-null object\n",
      "as_total_charge     25211 non-null float64\n",
      "as_total_hours      14029 non-null float64\n",
      "dev_country         34606 non-null object\n",
      "econ_sit            34606 non-null object\n",
      "fr_continent        34606 non-null object\n",
      "skls_required_no    5659 non-null float64\n",
      "sub_category        34606 non-null object\n",
      "tenure_d            34374 non-null float64\n",
      "hour_percent        34606 non-null float64\n",
      "f_id                34606 non-null int64\n",
      "dtypes: float64(5), int64(2), object(6)\n",
      "memory usage: 3.4+ MB\n"
     ]
    }
   ],
   "source": [
    "# Quick data exploration\n",
    "data.info()"
   ]
  },
  {
   "cell_type": "code",
   "execution_count": 54,
   "metadata": {},
   "outputs": [
    {
     "data": {
      "text/html": [
       "<div>\n",
       "<style scoped>\n",
       "    .dataframe tbody tr th:only-of-type {\n",
       "        vertical-align: middle;\n",
       "    }\n",
       "\n",
       "    .dataframe tbody tr th {\n",
       "        vertical-align: top;\n",
       "    }\n",
       "\n",
       "    .dataframe thead th {\n",
       "        text-align: right;\n",
       "    }\n",
       "</style>\n",
       "<table border=\"1\" class=\"dataframe\">\n",
       "  <thead>\n",
       "    <tr style=\"text-align: right;\">\n",
       "      <th></th>\n",
       "      <th>Unnamed: 0</th>\n",
       "      <th>as_job_type</th>\n",
       "      <th>as_opening_title</th>\n",
       "      <th>as_total_charge</th>\n",
       "      <th>as_total_hours</th>\n",
       "      <th>dev_country</th>\n",
       "      <th>econ_sit</th>\n",
       "      <th>fr_continent</th>\n",
       "      <th>skls_required_no</th>\n",
       "      <th>sub_category</th>\n",
       "      <th>tenure_d</th>\n",
       "      <th>hour_percent</th>\n",
       "      <th>f_id</th>\n",
       "    </tr>\n",
       "  </thead>\n",
       "  <tbody>\n",
       "    <tr>\n",
       "      <th>0</th>\n",
       "      <td>0</td>\n",
       "      <td>Hourly</td>\n",
       "      <td>Seo work. and outher stuff</td>\n",
       "      <td>941.500000</td>\n",
       "      <td>269.0</td>\n",
       "      <td>India</td>\n",
       "      <td>Emerging/Developing</td>\n",
       "      <td>Asia</td>\n",
       "      <td>NaN</td>\n",
       "      <td>SEO - Search Engine Optimization</td>\n",
       "      <td>574.0</td>\n",
       "      <td>0.928571</td>\n",
       "      <td>0</td>\n",
       "    </tr>\n",
       "    <tr>\n",
       "      <th>1</th>\n",
       "      <td>1</td>\n",
       "      <td>Hourly</td>\n",
       "      <td>PPC Keyword Sorting for Neeraj Sunghal</td>\n",
       "      <td>25.000000</td>\n",
       "      <td>5.0</td>\n",
       "      <td>India</td>\n",
       "      <td>Emerging/Developing</td>\n",
       "      <td>Asia</td>\n",
       "      <td>NaN</td>\n",
       "      <td>Data Entry</td>\n",
       "      <td>574.0</td>\n",
       "      <td>0.928571</td>\n",
       "      <td>0</td>\n",
       "    </tr>\n",
       "    <tr>\n",
       "      <th>2</th>\n",
       "      <td>2</td>\n",
       "      <td>Hourly</td>\n",
       "      <td>Shopify SEO Work Required</td>\n",
       "      <td>368.000000</td>\n",
       "      <td>92.0</td>\n",
       "      <td>India</td>\n",
       "      <td>Emerging/Developing</td>\n",
       "      <td>Asia</td>\n",
       "      <td>NaN</td>\n",
       "      <td>SEO - Search Engine Optimization</td>\n",
       "      <td>574.0</td>\n",
       "      <td>0.928571</td>\n",
       "      <td>0</td>\n",
       "    </tr>\n",
       "    <tr>\n",
       "      <th>3</th>\n",
       "      <td>3</td>\n",
       "      <td>Hourly</td>\n",
       "      <td>Need help in listing and SEO and product manag...</td>\n",
       "      <td>146.740005</td>\n",
       "      <td>22.0</td>\n",
       "      <td>India</td>\n",
       "      <td>Emerging/Developing</td>\n",
       "      <td>Asia</td>\n",
       "      <td>NaN</td>\n",
       "      <td>SEO - Search Engine Optimization</td>\n",
       "      <td>574.0</td>\n",
       "      <td>0.928571</td>\n",
       "      <td>0</td>\n",
       "    </tr>\n",
       "    <tr>\n",
       "      <th>4</th>\n",
       "      <td>4</td>\n",
       "      <td>Hourly</td>\n",
       "      <td>Need help with Adwords &amp; Google Merchant Center</td>\n",
       "      <td>160.080002</td>\n",
       "      <td>24.0</td>\n",
       "      <td>India</td>\n",
       "      <td>Emerging/Developing</td>\n",
       "      <td>Asia</td>\n",
       "      <td>NaN</td>\n",
       "      <td>SEM - Search Engine Marketing</td>\n",
       "      <td>574.0</td>\n",
       "      <td>0.928571</td>\n",
       "      <td>0</td>\n",
       "    </tr>\n",
       "  </tbody>\n",
       "</table>\n",
       "</div>"
      ],
      "text/plain": [
       "   Unnamed: 0 as_job_type                                   as_opening_title  \\\n",
       "0           0      Hourly                         Seo work. and outher stuff   \n",
       "1           1      Hourly             PPC Keyword Sorting for Neeraj Sunghal   \n",
       "2           2      Hourly                          Shopify SEO Work Required   \n",
       "3           3      Hourly  Need help in listing and SEO and product manag...   \n",
       "4           4      Hourly    Need help with Adwords & Google Merchant Center   \n",
       "\n",
       "   as_total_charge  as_total_hours dev_country             econ_sit  \\\n",
       "0       941.500000           269.0       India  Emerging/Developing   \n",
       "1        25.000000             5.0       India  Emerging/Developing   \n",
       "2       368.000000            92.0       India  Emerging/Developing   \n",
       "3       146.740005            22.0       India  Emerging/Developing   \n",
       "4       160.080002            24.0       India  Emerging/Developing   \n",
       "\n",
       "  fr_continent  skls_required_no                      sub_category  tenure_d  \\\n",
       "0         Asia               NaN  SEO - Search Engine Optimization     574.0   \n",
       "1         Asia               NaN                        Data Entry     574.0   \n",
       "2         Asia               NaN  SEO - Search Engine Optimization     574.0   \n",
       "3         Asia               NaN  SEO - Search Engine Optimization     574.0   \n",
       "4         Asia               NaN     SEM - Search Engine Marketing     574.0   \n",
       "\n",
       "   hour_percent  f_id  \n",
       "0      0.928571     0  \n",
       "1      0.928571     0  \n",
       "2      0.928571     0  \n",
       "3      0.928571     0  \n",
       "4      0.928571     0  "
      ]
     },
     "execution_count": 54,
     "metadata": {},
     "output_type": "execute_result"
    }
   ],
   "source": [
    "data.head()"
   ]
  },
  {
   "cell_type": "code",
   "execution_count": 55,
   "metadata": {},
   "outputs": [
    {
     "data": {
      "text/plain": [
       "3455    Desktop Software Development\n",
       "3456             Scripts & Utilities\n",
       "3457             Scripts & Utilities\n",
       "3458           Other - Admin Support\n",
       "3459    Desktop Software Development\n",
       "3460    Other - Software Development\n",
       "3461                 Web Development\n",
       "3462                 Web Development\n",
       "3463                 Web Development\n",
       "3464                 Web Development\n",
       "3465                 Web Development\n",
       "3466    Other - Software Development\n",
       "3467                 Web Development\n",
       "3468                 Web Development\n",
       "3469                 Web Development\n",
       "3470                 Web Development\n",
       "3471                 Web Development\n",
       "Name: sub_category, dtype: object"
      ]
     },
     "execution_count": 55,
     "metadata": {},
     "output_type": "execute_result"
    }
   ],
   "source": [
    "# How does one portfolio look like?\n",
    "data[data.f_id == 78].sub_category"
   ]
  },
  {
   "cell_type": "markdown",
   "metadata": {},
   "source": [
    "A bit some thing on loops and slightly more advanced  stuff.\n",
    "\n",
    "the next couple of cells will show how you can \n",
    "- add stuff to lists and how to \n",
    "- work with loops"
   ]
  },
  {
   "cell_type": "code",
   "execution_count": 56,
   "metadata": {},
   "outputs": [
    {
     "name": "stdout",
     "output_type": "stream",
     "text": [
      "[]\n"
     ]
    }
   ],
   "source": [
    "empty_list = []\n",
    "\n",
    "print(empty_list)"
   ]
  },
  {
   "cell_type": "code",
   "execution_count": 57,
   "metadata": {},
   "outputs": [
    {
     "name": "stdout",
     "output_type": "stream",
     "text": [
      "[1]\n"
     ]
    }
   ],
   "source": [
    "empty_list.append(1)\n",
    "\n",
    "print(empty_list)"
   ]
  },
  {
   "cell_type": "code",
   "execution_count": 58,
   "metadata": {},
   "outputs": [
    {
     "name": "stdout",
     "output_type": "stream",
     "text": [
      "[1, \"i don't want to be in that list\"]\n"
     ]
    }
   ],
   "source": [
    "empty_list.append(\"i don't want to be in that list\")\n",
    "\n",
    "print(empty_list)"
   ]
  },
  {
   "cell_type": "code",
   "execution_count": 59,
   "metadata": {},
   "outputs": [
    {
     "name": "stdout",
     "output_type": "stream",
     "text": [
      "[1, \"i don't want to be in that list\", '🐧', '🍅', '🤘']\n"
     ]
    }
   ],
   "source": [
    "empty_list.extend(['🐧','🍅','🤘'])\n",
    "\n",
    "print(empty_list)"
   ]
  },
  {
   "cell_type": "markdown",
   "metadata": {},
   "source": [
    "*From* here we can try to assemble job-portfolios by making a list of lists with performed gigs for individual workers"
   ]
  },
  {
   "cell_type": "code",
   "execution_count": 60,
   "metadata": {},
   "outputs": [],
   "source": [
    "# individual freelancers\n",
    "workers = data.f_id.unique()"
   ]
  },
  {
   "cell_type": "code",
   "execution_count": 61,
   "metadata": {},
   "outputs": [],
   "source": [
    "#create empty list\n",
    "stuff_people_do = []\n",
    "\n",
    "for some_worker_id in workers: #initiate loop\n",
    "  stuff = list(data[data.f_id == some_worker_id].sub_category) # extract portfolio for a single worker\n",
    "  stuff_people_do.append((some_worker_id, stuff)) # append portfolio to the list of portfolios"
   ]
  },
  {
   "cell_type": "code",
   "execution_count": 62,
   "metadata": {},
   "outputs": [],
   "source": [
    "#use pandas to make it into a datafrmae\n",
    "portfolios = pd.DataFrame(stuff_people_do, columns = ['f_id', 'gig_portfolio'])\n",
    "#Calculate the most common gig_activity\n",
    "portfolios['max'] = portfolios['gig_portfolio'].map(lambda t: max(t))"
   ]
  },
  {
   "cell_type": "markdown",
   "metadata": {},
   "source": [
    "Now we are going to use Gensim (a library for Natural Language Processing) to transform these protfolio lists into BoW representations"
   ]
  },
  {
   "cell_type": "code",
   "execution_count": 63,
   "metadata": {},
   "outputs": [],
   "source": [
    "#Gensim is actually an NLP library but we will use it here to construct BagOfJobs representations of freelancer portfolios.\n",
    "import gensim\n",
    "from gensim.corpora.dictionary import Dictionary"
   ]
  },
  {
   "cell_type": "code",
   "execution_count": 64,
   "metadata": {},
   "outputs": [],
   "source": [
    "# First we ceate a dicitonary - an index-subcategory mapping object\n",
    "\n",
    "dictionary = Dictionary(portfolios['gig_portfolio'])"
   ]
  },
  {
   "cell_type": "code",
   "execution_count": 65,
   "metadata": {},
   "outputs": [],
   "source": [
    "# Create a \"corpus of portfolios\" in BoW format\n",
    "corpus = [dictionary.doc2bow(sequence) for sequence in portfolios['gig_portfolio']]"
   ]
  },
  {
   "cell_type": "code",
   "execution_count": 66,
   "metadata": {},
   "outputs": [],
   "source": [
    "# Transform corpus into a matrix \n",
    "portfolio_matrix = gensim.matutils.corpus2dense(corpus=corpus, num_terms=len(dictionary))"
   ]
  },
  {
   "cell_type": "code",
   "execution_count": 67,
   "metadata": {},
   "outputs": [
    {
     "data": {
      "text/plain": [
       "(86, 1000)"
      ]
     },
     "execution_count": 67,
     "metadata": {},
     "output_type": "execute_result"
    }
   ],
   "source": [
    "portfolio_matrix.shape"
   ]
  },
  {
   "cell_type": "code",
   "execution_count": 68,
   "metadata": {},
   "outputs": [],
   "source": [
    "# swap rows and columns with a transponse\n",
    "portfolio_matrix = portfolio_matrix.T"
   ]
  },
  {
   "cell_type": "markdown",
   "metadata": {},
   "source": [
    "Why should I trust this? Can we check if all the transformations didn't mess up things?"
   ]
  },
  {
   "cell_type": "code",
   "execution_count": 69,
   "metadata": {},
   "outputs": [
    {
     "data": {
      "text/plain": [
       "array([1., 1., 1., 6., 5., 0., 0., 0., 0., 0., 0., 0., 0., 0., 0., 0., 0.,\n",
       "       0., 0., 0., 0., 0., 0., 0., 0., 0., 0., 0., 0., 0., 0., 0., 0., 0.,\n",
       "       0., 0., 0., 0., 0., 0., 0., 0., 0., 0., 0., 0., 0., 0., 0., 0., 0.,\n",
       "       0., 0., 0., 0., 0., 0., 0., 0., 0., 0., 0., 0., 0., 0., 0., 0., 0.,\n",
       "       0., 0., 0., 0., 0., 0., 0., 0., 0., 0., 0., 0., 0., 0., 0., 0., 0.,\n",
       "       0.], dtype=float32)"
      ]
     },
     "execution_count": 69,
     "metadata": {},
     "output_type": "execute_result"
    }
   ],
   "source": [
    "# portfolio of worker 0\n",
    "portfolio_matrix[0]"
   ]
  },
  {
   "cell_type": "code",
   "execution_count": 70,
   "metadata": {},
   "outputs": [
    {
     "data": {
      "text/plain": [
       "'SEM - Search Engine Marketing'"
      ]
     },
     "execution_count": 70,
     "metadata": {},
     "output_type": "execute_result"
    }
   ],
   "source": [
    "# what's the taks sub-category of index 3?\n",
    "dictionary.get(3)"
   ]
  },
  {
   "cell_type": "code",
   "execution_count": 71,
   "metadata": {},
   "outputs": [
    {
     "data": {
      "text/plain": [
       "0     SEO - Search Engine Optimization\n",
       "1                           Data Entry\n",
       "2     SEO - Search Engine Optimization\n",
       "3     SEO - Search Engine Optimization\n",
       "4        SEM - Search Engine Marketing\n",
       "5        SEM - Search Engine Marketing\n",
       "6        SEM - Search Engine Marketing\n",
       "7        SEM - Search Engine Marketing\n",
       "8                  Display Advertising\n",
       "9        SEM - Search Engine Marketing\n",
       "10    SEO - Search Engine Optimization\n",
       "11    SEO - Search Engine Optimization\n",
       "12              Article & Blog Writing\n",
       "13       SEM - Search Engine Marketing\n",
       "Name: sub_category, dtype: object"
      ]
     },
     "execution_count": 71,
     "metadata": {},
     "output_type": "execute_result"
    }
   ],
   "source": [
    "# How many times did the worker perform this gig?\n",
    "data[data.f_id == 0].sub_category"
   ]
  },
  {
   "cell_type": "markdown",
   "metadata": {},
   "source": [
    "Now we sucessfully created \"Bag-of-Gigs\" representations of individual workers' portfolios\n",
    "The matrix is however very sparse, as we can see (many zeros and  only some non-0 values) as one would expect that.\n",
    "PCA is not a good choice here. Instead we will use Non-negative Matrix Factorization (NMF), which has the tendency to very well \"squash\" the data into interpretable latent themes:\n",
    "\n",
    "In Natural Language Processing, such themes are called topics and what we are going to do now is referred to as Vector Space Modelling or Topic Modelling\n",
    "\n",
    "The coolest thing about that identified components are very interopretable. This is because the model is build on assumptions about the world related to co-occurence."
   ]
  },
  {
   "cell_type": "code",
   "execution_count": 72,
   "metadata": {},
   "outputs": [],
   "source": [
    "# Let's try to bring it all the way down to 5 dimensions\n",
    "\n",
    "from sklearn.decomposition import NMF\n",
    "\n",
    "model = NMF(n_components=5)\n",
    "\n",
    "portfolio_matrix_reduced = model.fit_transform(portfolio_matrix)"
   ]
  },
  {
   "cell_type": "code",
   "execution_count": 73,
   "metadata": {},
   "outputs": [
    {
     "data": {
      "text/plain": [
       "(5, 86)"
      ]
     },
     "execution_count": 73,
     "metadata": {},
     "output_type": "execute_result"
    }
   ],
   "source": [
    "# what are these components?\n",
    "model.components_.shape"
   ]
  },
  {
   "cell_type": "code",
   "execution_count": 74,
   "metadata": {},
   "outputs": [],
   "source": [
    "# Make a dataframe\n",
    "components_df = pd.DataFrame(model.components_, columns=list(dictionary.values()))"
   ]
  },
  {
   "cell_type": "code",
   "execution_count": 75,
   "metadata": {},
   "outputs": [
    {
     "data": {
      "text/html": [
       "<div>\n",
       "<style scoped>\n",
       "    .dataframe tbody tr th:only-of-type {\n",
       "        vertical-align: middle;\n",
       "    }\n",
       "\n",
       "    .dataframe tbody tr th {\n",
       "        vertical-align: top;\n",
       "    }\n",
       "\n",
       "    .dataframe thead th {\n",
       "        text-align: right;\n",
       "    }\n",
       "</style>\n",
       "<table border=\"1\" class=\"dataframe\">\n",
       "  <thead>\n",
       "    <tr style=\"text-align: right;\">\n",
       "      <th></th>\n",
       "      <th>Article &amp; Blog Writing</th>\n",
       "      <th>Data Entry</th>\n",
       "      <th>Display Advertising</th>\n",
       "      <th>SEM - Search Engine Marketing</th>\n",
       "      <th>SEO - Search Engine Optimization</th>\n",
       "      <th>.</th>\n",
       "      <th>3D Modeling &amp; CAD</th>\n",
       "      <th>General Translation</th>\n",
       "      <th>Presentations</th>\n",
       "      <th>Web &amp; Mobile Design</th>\n",
       "      <th>...</th>\n",
       "      <th>Architecture</th>\n",
       "      <th>Grant Writing</th>\n",
       "      <th>Resumes &amp; Cover Letters</th>\n",
       "      <th>Corporate Law</th>\n",
       "      <th>Medical Translation</th>\n",
       "      <th>Electrical Engineering</th>\n",
       "      <th>Interior Design</th>\n",
       "      <th>Family Law</th>\n",
       "      <th>Contract Manufacturing</th>\n",
       "      <th>Mechanical Engineering</th>\n",
       "    </tr>\n",
       "  </thead>\n",
       "  <tbody>\n",
       "    <tr>\n",
       "      <th>0</th>\n",
       "      <td>0.107932</td>\n",
       "      <td>0.170203</td>\n",
       "      <td>0.019552</td>\n",
       "      <td>0.006089</td>\n",
       "      <td>0.000000</td>\n",
       "      <td>0.026947</td>\n",
       "      <td>0.341505</td>\n",
       "      <td>0.000000</td>\n",
       "      <td>0.577884</td>\n",
       "      <td>0.589457</td>\n",
       "      <td>...</td>\n",
       "      <td>0.004031</td>\n",
       "      <td>0.000000</td>\n",
       "      <td>0.004160</td>\n",
       "      <td>0.000234</td>\n",
       "      <td>0.000000</td>\n",
       "      <td>0.012077</td>\n",
       "      <td>0.005639</td>\n",
       "      <td>0.000000</td>\n",
       "      <td>0.000000</td>\n",
       "      <td>0.002132</td>\n",
       "    </tr>\n",
       "    <tr>\n",
       "      <th>1</th>\n",
       "      <td>0.336679</td>\n",
       "      <td>0.035987</td>\n",
       "      <td>0.014193</td>\n",
       "      <td>0.178154</td>\n",
       "      <td>0.681591</td>\n",
       "      <td>0.161696</td>\n",
       "      <td>0.180080</td>\n",
       "      <td>0.000000</td>\n",
       "      <td>0.000000</td>\n",
       "      <td>4.599583</td>\n",
       "      <td>...</td>\n",
       "      <td>0.017891</td>\n",
       "      <td>0.000229</td>\n",
       "      <td>0.003596</td>\n",
       "      <td>0.000622</td>\n",
       "      <td>0.000000</td>\n",
       "      <td>0.011339</td>\n",
       "      <td>0.010830</td>\n",
       "      <td>0.000078</td>\n",
       "      <td>0.000245</td>\n",
       "      <td>0.002239</td>\n",
       "    </tr>\n",
       "    <tr>\n",
       "      <th>2</th>\n",
       "      <td>4.762109</td>\n",
       "      <td>0.000000</td>\n",
       "      <td>0.001032</td>\n",
       "      <td>0.000000</td>\n",
       "      <td>0.040723</td>\n",
       "      <td>0.572705</td>\n",
       "      <td>0.007302</td>\n",
       "      <td>0.000000</td>\n",
       "      <td>0.018811</td>\n",
       "      <td>0.000000</td>\n",
       "      <td>...</td>\n",
       "      <td>0.000000</td>\n",
       "      <td>0.003040</td>\n",
       "      <td>0.022388</td>\n",
       "      <td>0.000159</td>\n",
       "      <td>0.000094</td>\n",
       "      <td>0.001866</td>\n",
       "      <td>0.000145</td>\n",
       "      <td>0.000009</td>\n",
       "      <td>0.000000</td>\n",
       "      <td>0.000031</td>\n",
       "    </tr>\n",
       "    <tr>\n",
       "      <th>3</th>\n",
       "      <td>1.915879</td>\n",
       "      <td>0.000000</td>\n",
       "      <td>0.000951</td>\n",
       "      <td>0.000000</td>\n",
       "      <td>0.081362</td>\n",
       "      <td>0.188402</td>\n",
       "      <td>0.001894</td>\n",
       "      <td>18.487296</td>\n",
       "      <td>0.085491</td>\n",
       "      <td>0.000000</td>\n",
       "      <td>...</td>\n",
       "      <td>0.000000</td>\n",
       "      <td>0.027489</td>\n",
       "      <td>0.011583</td>\n",
       "      <td>0.000957</td>\n",
       "      <td>0.006599</td>\n",
       "      <td>0.000163</td>\n",
       "      <td>0.000000</td>\n",
       "      <td>0.000503</td>\n",
       "      <td>0.000000</td>\n",
       "      <td>0.000000</td>\n",
       "    </tr>\n",
       "    <tr>\n",
       "      <th>4</th>\n",
       "      <td>1.847351</td>\n",
       "      <td>12.810827</td>\n",
       "      <td>0.044069</td>\n",
       "      <td>0.036026</td>\n",
       "      <td>0.619603</td>\n",
       "      <td>0.171968</td>\n",
       "      <td>0.006375</td>\n",
       "      <td>0.000000</td>\n",
       "      <td>0.127033</td>\n",
       "      <td>0.000000</td>\n",
       "      <td>...</td>\n",
       "      <td>0.003891</td>\n",
       "      <td>0.002139</td>\n",
       "      <td>0.007257</td>\n",
       "      <td>0.002020</td>\n",
       "      <td>0.000329</td>\n",
       "      <td>0.002132</td>\n",
       "      <td>0.000458</td>\n",
       "      <td>0.000219</td>\n",
       "      <td>0.001693</td>\n",
       "      <td>0.005284</td>\n",
       "    </tr>\n",
       "  </tbody>\n",
       "</table>\n",
       "<p>5 rows × 86 columns</p>\n",
       "</div>"
      ],
      "text/plain": [
       "   Article & Blog Writing  Data Entry  Display Advertising  \\\n",
       "0                0.107932    0.170203             0.019552   \n",
       "1                0.336679    0.035987             0.014193   \n",
       "2                4.762109    0.000000             0.001032   \n",
       "3                1.915879    0.000000             0.000951   \n",
       "4                1.847351   12.810827             0.044069   \n",
       "\n",
       "   SEM - Search Engine Marketing  SEO - Search Engine Optimization         .  \\\n",
       "0                       0.006089                          0.000000  0.026947   \n",
       "1                       0.178154                          0.681591  0.161696   \n",
       "2                       0.000000                          0.040723  0.572705   \n",
       "3                       0.000000                          0.081362  0.188402   \n",
       "4                       0.036026                          0.619603  0.171968   \n",
       "\n",
       "   3D Modeling & CAD  General Translation  Presentations  Web & Mobile Design  \\\n",
       "0           0.341505             0.000000       0.577884             0.589457   \n",
       "1           0.180080             0.000000       0.000000             4.599583   \n",
       "2           0.007302             0.000000       0.018811             0.000000   \n",
       "3           0.001894            18.487296       0.085491             0.000000   \n",
       "4           0.006375             0.000000       0.127033             0.000000   \n",
       "\n",
       "            ...            Architecture  Grant Writing  \\\n",
       "0           ...                0.004031       0.000000   \n",
       "1           ...                0.017891       0.000229   \n",
       "2           ...                0.000000       0.003040   \n",
       "3           ...                0.000000       0.027489   \n",
       "4           ...                0.003891       0.002139   \n",
       "\n",
       "   Resumes & Cover Letters  Corporate Law  Medical Translation  \\\n",
       "0                 0.004160       0.000234             0.000000   \n",
       "1                 0.003596       0.000622             0.000000   \n",
       "2                 0.022388       0.000159             0.000094   \n",
       "3                 0.011583       0.000957             0.006599   \n",
       "4                 0.007257       0.002020             0.000329   \n",
       "\n",
       "   Electrical Engineering  Interior Design  Family Law  \\\n",
       "0                0.012077         0.005639    0.000000   \n",
       "1                0.011339         0.010830    0.000078   \n",
       "2                0.001866         0.000145    0.000009   \n",
       "3                0.000163         0.000000    0.000503   \n",
       "4                0.002132         0.000458    0.000219   \n",
       "\n",
       "   Contract Manufacturing  Mechanical Engineering  \n",
       "0                0.000000                0.002132  \n",
       "1                0.000245                0.002239  \n",
       "2                0.000000                0.000031  \n",
       "3                0.000000                0.000000  \n",
       "4                0.001693                0.005284  \n",
       "\n",
       "[5 rows x 86 columns]"
      ]
     },
     "execution_count": 75,
     "metadata": {},
     "output_type": "execute_result"
    }
   ],
   "source": [
    "components_df"
   ]
  },
  {
   "cell_type": "code",
   "execution_count": 76,
   "metadata": {},
   "outputs": [
    {
     "name": "stdout",
     "output_type": "stream",
     "text": [
      "Graphic Design            23.349292\n",
      "Logo Design & Branding     9.242412\n",
      "Illustration               1.788229\n",
      "Web & Mobile Design        0.589457\n",
      "Presentations              0.577884\n",
      "Name: 0, dtype: float64\n"
     ]
    }
   ],
   "source": [
    "# Select a component\n",
    "component = components_df.iloc[0,:]\n",
    "\n",
    "# Print result of nlargest\n",
    "print(component.nlargest())"
   ]
  },
  {
   "cell_type": "code",
   "execution_count": 77,
   "metadata": {},
   "outputs": [
    {
     "name": "stderr",
     "output_type": "stream",
     "text": [
      "/opt/conda/lib/python3.6/site-packages/sklearn/externals/six.py:31: DeprecationWarning: The module is deprecated in version 0.21 and will be removed in version 0.23 since we've dropped support for Python 2.7. Please rely on the official version of six (https://pypi.org/project/six/).\n",
      "  \"(https://pypi.org/project/six/).\", DeprecationWarning)\n",
      "/opt/conda/lib/python3.6/site-packages/sklearn/externals/joblib/__init__.py:15: DeprecationWarning: sklearn.externals.joblib is deprecated in 0.21 and will be removed in 0.23. Please import this functionality directly from joblib, which can be installed with: pip install joblib. If this warning is raised when loading pickled models, you may need to re-serialize those models with scikit-learn 0.21+.\n",
      "  warnings.warn(msg, category=DeprecationWarning)\n"
     ]
    }
   ],
   "source": [
    "# Import clustering and dimensionality reduction\n",
    "# HDBSCAN won't work with numpy < 1.16\n",
    "\n",
    "import hdbscan\n",
    "import umap\n",
    "\n",
    "# Also, we will now need some visualization libraries\n",
    "import matplotlib.pyplot as plt\n",
    "import seaborn as sns"
   ]
  },
  {
   "cell_type": "code",
   "execution_count": 78,
   "metadata": {},
   "outputs": [],
   "source": [
    "# Let's try not to overdo things and maybe keep it at 20 components\n",
    "\n",
    "model = NMF(n_components=20)\n",
    "\n",
    "portfolio_matrix_reduced = model.fit_transform(portfolio_matrix)"
   ]
  },
  {
   "cell_type": "code",
   "execution_count": 79,
   "metadata": {},
   "outputs": [
    {
     "name": "stderr",
     "output_type": "stream",
     "text": [
      "/opt/conda/lib/python3.6/site-packages/umap/umap_.py:349: NumbaWarning: \u001b[1m\n",
      "Compilation is falling back to object mode WITH looplifting enabled because Function \"fuzzy_simplicial_set\" failed type inference due to: \u001b[1mUntyped global name 'nearest_neighbors':\u001b[0m \u001b[1m\u001b[1mcannot determine Numba type of <class 'function'>\u001b[0m\n",
      "\u001b[1m\n",
      "File \"../../opt/conda/lib/python3.6/site-packages/umap/umap_.py\", line 467:\u001b[0m\n",
      "\u001b[1mdef fuzzy_simplicial_set(\n",
      "    <source elided>\n",
      "    if knn_indices is None or knn_dists is None:\n",
      "\u001b[1m        knn_indices, knn_dists, _ = nearest_neighbors(\n",
      "\u001b[0m        \u001b[1m^\u001b[0m\u001b[0m\n",
      "\u001b[0m\u001b[0m\n",
      "  @numba.jit()\n",
      "/opt/conda/lib/python3.6/site-packages/numba/compiler.py:742: NumbaWarning: \u001b[1mFunction \"fuzzy_simplicial_set\" was compiled in object mode without forceobj=True.\n",
      "\u001b[1m\n",
      "File \"../../opt/conda/lib/python3.6/site-packages/umap/umap_.py\", line 350:\u001b[0m\n",
      "\u001b[1m@numba.jit()\n",
      "\u001b[1mdef fuzzy_simplicial_set(\n",
      "\u001b[0m\u001b[1m^\u001b[0m\u001b[0m\n",
      "\u001b[0m\n",
      "  self.func_ir.loc))\n",
      "/opt/conda/lib/python3.6/site-packages/numba/compiler.py:751: NumbaDeprecationWarning: \u001b[1m\n",
      "Fall-back from the nopython compilation path to the object mode compilation path has been detected, this is deprecated behaviour.\n",
      "\n",
      "For more information visit http://numba.pydata.org/numba-doc/latest/reference/deprecation.html#deprecation-of-object-mode-fall-back-behaviour-when-using-jit\n",
      "\u001b[1m\n",
      "File \"../../opt/conda/lib/python3.6/site-packages/umap/umap_.py\", line 350:\u001b[0m\n",
      "\u001b[1m@numba.jit()\n",
      "\u001b[1mdef fuzzy_simplicial_set(\n",
      "\u001b[0m\u001b[1m^\u001b[0m\u001b[0m\n",
      "\u001b[0m\n",
      "  warnings.warn(errors.NumbaDeprecationWarning(msg, self.func_ir.loc))\n"
     ]
    }
   ],
   "source": [
    "# Note that the standard setting of UMAP will produce 2 dimensions\n",
    "embedding = umap.UMAP(n_neighbors=15, metric='cosine').fit_transform(portfolio_matrix_reduced)"
   ]
  },
  {
   "cell_type": "markdown",
   "metadata": {},
   "source": [
    "You can read more about\n",
    "\n",
    "\n",
    "- UMAP here: https://umap-learn.readthedocs.io/en/latest/\n",
    "- HDBSCAN here: https://hdbscan.readthedocs.io/en/latest/how_hdbscan_works.html\n",
    "\n",
    "HDBSCAN is a recent hi-performance density based clustering approach\n"
   ]
  },
  {
   "cell_type": "code",
   "execution_count": 80,
   "metadata": {},
   "outputs": [
    {
     "data": {
      "text/plain": [
       "HDBSCAN(algorithm='best', allow_single_cluster=False, alpha=1.0,\n",
       "        approx_min_span_tree=True, cluster_selection_method='eom',\n",
       "        core_dist_n_jobs=4, gen_min_span_tree=False, leaf_size=40,\n",
       "        match_reference_implementation=False, memory=Memory(location=None),\n",
       "        metric='euclidean', min_cluster_size=50, min_samples=50, p=None,\n",
       "        prediction_data=True)"
      ]
     },
     "execution_count": 80,
     "metadata": {},
     "output_type": "execute_result"
    }
   ],
   "source": [
    "# Now, we will feed the 2-dimensional representation into HDBSCAN\n",
    "# Warning can be ignored for now\n",
    "\n",
    "clusterer = hdbscan.HDBSCAN(min_cluster_size=50, \n",
    "                            min_samples=50, \n",
    "                            leaf_size=40, \n",
    "                            #core_dist_n_jobs=16, \n",
    "                            prediction_data=True)\n",
    "clusterer.fit(embedding)"
   ]
  },
  {
   "cell_type": "code",
   "execution_count": 81,
   "metadata": {},
   "outputs": [
    {
     "data": {
      "text/plain": [
       "<matplotlib.axes._subplots.AxesSubplot at 0x7f722428b5c0>"
      ]
     },
     "execution_count": 81,
     "metadata": {},
     "output_type": "execute_result"
    },
    {
     "data": {
      "image/png": "[encoded data removed]",
      "text/plain": [
       "<Figure size 864x864 with 2 Axes>"
      ]
     },
     "metadata": {
      "needs_background": "light"
     },
     "output_type": "display_data"
    }
   ],
   "source": [
    "pal = sns.color_palette(\"Paired\", n_colors = len(set(clusterer.labels_)))[1:]\n",
    "plt.figure(figsize=(12,12))\n",
    "plt.rcParams.update({'font.size': 15})\n",
    "clusterer.condensed_tree_.plot(select_clusters=True,\n",
    "                               selection_palette=pal, label_clusters=True)"
   ]
  },
  {
   "cell_type": "code",
   "execution_count": 82,
   "metadata": {},
   "outputs": [
    {
     "data": {
      "image/png": "[encoded data removed]",
      "text/plain": [
       "<Figure size 720x720 with 1 Axes>"
      ]
     },
     "metadata": {
      "needs_background": "light"
     },
     "output_type": "display_data"
    }
   ],
   "source": [
    "# Scatterplor of the UMAP embeddings with cluster-coloring\n",
    "plt.rcParams.update({'font.size': 12})\n",
    "plt.figure(figsize=(10,10))\n",
    "g = sns.scatterplot(*embedding.T, \n",
    "                hue=clusterer.labels_, \n",
    "                legend='full',\n",
    "                palette = 'Paired')\n",
    "legend = g.get_legend()"
   ]
  },
  {
   "cell_type": "code",
   "execution_count": 83,
   "metadata": {},
   "outputs": [],
   "source": [
    "portfolios['cluster'] = clusterer.labels_"
   ]
  },
  {
   "cell_type": "code",
   "execution_count": 84,
   "metadata": {},
   "outputs": [],
   "source": [
    "import itertools\n",
    "from collections import Counter"
   ]
  },
  {
   "cell_type": "code",
   "execution_count": 85,
   "metadata": {},
   "outputs": [
    {
     "data": {
      "text/plain": [
       "[('Web Development', 5749),\n",
       " ('Web & Mobile Design', 1414),\n",
       " ('Ecommerce Development', 610),\n",
       " ('Graphic Design', 390),\n",
       " ('3D Modeling & CAD', 379),\n",
       " ('Mobile Development', 334),\n",
       " ('Network & System Administration', 298),\n",
       " ('Other - Software Development', 258),\n",
       " ('Data Entry', 215),\n",
       " ('Scripts & Utilities', 185),\n",
       " ('Desktop Software Development', 128),\n",
       " ('QA & Testing', 110),\n",
       " ('SEO - Search Engine Optimization', 79),\n",
       " ('.', 77),\n",
       " ('Logo Design & Branding', 63),\n",
       " ('Article & Blog Writing', 62),\n",
       " ('Web Research', 61),\n",
       " ('Personal / Virtual Assistant', 54),\n",
       " ('Other - Writing', 47),\n",
       " ('Database Administration', 37)]"
      ]
     },
     "execution_count": 85,
     "metadata": {},
     "output_type": "execute_result"
    }
   ],
   "source": [
    "counter = Counter(list(itertools.chain(*portfolios[portfolios.cluster == 1]['gig_portfolio'])))\n",
    "counter.most_common(20)"
   ]
  },
  {
   "cell_type": "code",
   "execution_count": null,
   "metadata": {},
   "outputs": [],
   "source": []
  }
 ],
 "metadata": {
  "kernelspec": {
   "display_name": "Python 3",
   "language": "python",
   "name": "python3"
  },
  "language_info": {
   "codemirror_mode": {
    "name": "ipython",
    "version": 3
   },
   "file_extension": ".py",
   "mimetype": "text/x-python",
   "name": "python",
   "nbconvert_exporter": "python",
   "pygments_lexer": "ipython3",
   "version": "3.6.6"
  }
 },
 "nbformat": 4,
 "nbformat_minor": 1
}
