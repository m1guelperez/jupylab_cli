{
 "cells": [
  {
   "cell_type": "code",
   "execution_count": 1,
   "metadata": {
    "_cell_guid": "b1076dfc-b9ad-4769-8c92-a6c4dae69d19",
    "_uuid": "8f2839f25d086af736a60e9eeb907d3b93b6e0e5",
    "execution": {
     "iopub.execute_input": "2020-08-18T14:19:54.637070Z",
     "iopub.status.busy": "2020-08-18T14:19:54.636192Z",
     "iopub.status.idle": "2020-08-18T14:19:54.642477Z",
     "shell.execute_reply": "2020-08-18T14:19:54.641659Z"
    },
    "papermill": {
     "duration": 0.048879,
     "end_time": "2020-08-18T14:19:54.642615",
     "exception": false,
     "start_time": "2020-08-18T14:19:54.593736",
     "status": "completed"
    },
    "tags": []
   },
   "outputs": [
    {
     "name": "stdout",
     "output_type": "stream",
     "text": [
      "/kaggle/input/house-prices-advanced-regression-techniques/train.csv\n",
      "/kaggle/input/house-prices-advanced-regression-techniques/data_description.txt\n",
      "/kaggle/input/house-prices-advanced-regression-techniques/test.csv\n",
      "/kaggle/input/house-prices-advanced-regression-techniques/sample_submission.csv\n"
     ]
    }
   ],
   "source": [
    "# This Python 3 environment comes with many helpful analytics libraries installed\n",
    "# It is defined by the kaggle/python Docker image: https://github.com/kaggle/docker-python\n",
    "# For example, here's several helpful packages to load\n",
    "\n",
    "import numpy as np # linear algebra\n",
    "import pandas as pd # data processing, CSV file I/O (e.g. pd.read_csv)\n",
    "\n",
    "# Input data files are available in the read-only \"../input/\" directory\n",
    "# For example, running this (by clicking run or pressing Shift+Enter) will list all files under the input directory\n",
    "\n",
    "import os\n",
    "for dirname, _, filenames in os.walk('/kaggle/input'):\n",
    "    for filename in filenames:\n",
    "        print(os.path.join(dirname, filename))\n",
    "\n",
    "# You can write up to 5GB to the current directory (/kaggle/working/) that gets preserved as output when you create a version using \"Save & Run All\" \n",
    "# You can also write temporary files to /kaggle/temp/, but they won't be saved outside of the current session"
   ]
  },
  {
   "cell_type": "code",
   "execution_count": 2,
   "metadata": {
    "_cell_guid": "79c7e3d0-c299-4dcb-8224-4455121ee9b0",
    "_uuid": "d629ff2d2480ee46fbb7e2d37f6b5fab8052498a",
    "execution": {
     "iopub.execute_input": "2020-08-18T14:19:54.716422Z",
     "iopub.status.busy": "2020-08-18T14:19:54.715680Z",
     "iopub.status.idle": "2020-08-18T14:19:57.302795Z",
     "shell.execute_reply": "2020-08-18T14:19:57.301849Z"
    },
    "papermill": {
     "duration": 2.626635,
     "end_time": "2020-08-18T14:19:57.302949",
     "exception": false,
     "start_time": "2020-08-18T14:19:54.676314",
     "status": "completed"
    },
    "tags": []
   },
   "outputs": [],
   "source": [
    "import numpy as np\n",
    "import pandas as pd\n",
    "import matplotlib.pyplot as plt\n",
    "from sklearn import preprocessing\n",
    "from sklearn.model_selection import train_test_split\n",
    "from lightgbm import LGBMRegressor\n",
    "from xgboost import XGBRegressor\n",
    "import sklearn.metrics as metrics\n",
    "import math\n",
    "\n",
    "\n"
   ]
  },
  {
   "cell_type": "code",
   "execution_count": 3,
   "metadata": {
    "execution": {
     "iopub.execute_input": "2020-08-18T14:19:57.380507Z",
     "iopub.status.busy": "2020-08-18T14:19:57.379618Z",
     "iopub.status.idle": "2020-08-18T14:19:57.478955Z",
     "shell.execute_reply": "2020-08-18T14:19:57.478250Z"
    },
    "papermill": {
     "duration": 0.142951,
     "end_time": "2020-08-18T14:19:57.479108",
     "exception": false,
     "start_time": "2020-08-18T14:19:57.336157",
     "status": "completed"
    },
    "tags": []
   },
   "outputs": [],
   "source": [
    "sample_submission=pd.read_csv(\"../input/house-prices-advanced-regression-techniques/sample_submission.csv\")\n",
    "test=pd.read_csv(\"../input/house-prices-advanced-regression-techniques/test.csv\")\n",
    "train=pd.read_csv(\"../input/house-prices-advanced-regression-techniques/train.csv\")\n",
    "c_test=test.copy()\n",
    "c_train=train.copy()\n"
   ]
  },
  {
   "cell_type": "code",
   "execution_count": 4,
   "metadata": {
    "execution": {
     "iopub.execute_input": "2020-08-18T14:19:57.568984Z",
     "iopub.status.busy": "2020-08-18T14:19:57.555989Z",
     "iopub.status.idle": "2020-08-18T14:19:57.602943Z",
     "shell.execute_reply": "2020-08-18T14:19:57.602016Z"
    },
    "papermill": {
     "duration": 0.089192,
     "end_time": "2020-08-18T14:19:57.603108",
     "exception": false,
     "start_time": "2020-08-18T14:19:57.513916",
     "status": "completed"
    },
    "tags": []
   },
   "outputs": [
    {
     "data": {
      "text/html": [
       "<div>\n",
       "<style scoped>\n",
       "    .dataframe tbody tr th:only-of-type {\n",
       "        vertical-align: middle;\n",
       "    }\n",
       "\n",
       "    .dataframe tbody tr th {\n",
       "        vertical-align: top;\n",
       "    }\n",
       "\n",
       "    .dataframe thead th {\n",
       "        text-align: right;\n",
       "    }\n",
       "</style>\n",
       "<table border=\"1\" class=\"dataframe\">\n",
       "  <thead>\n",
       "    <tr style=\"text-align: right;\">\n",
       "      <th></th>\n",
       "      <th>Id</th>\n",
       "      <th>MSSubClass</th>\n",
       "      <th>MSZoning</th>\n",
       "      <th>LotFrontage</th>\n",
       "      <th>LotArea</th>\n",
       "      <th>Street</th>\n",
       "      <th>Alley</th>\n",
       "      <th>LotShape</th>\n",
       "      <th>LandContour</th>\n",
       "      <th>Utilities</th>\n",
       "      <th>...</th>\n",
       "      <th>PoolArea</th>\n",
       "      <th>PoolQC</th>\n",
       "      <th>Fence</th>\n",
       "      <th>MiscFeature</th>\n",
       "      <th>MiscVal</th>\n",
       "      <th>MoSold</th>\n",
       "      <th>YrSold</th>\n",
       "      <th>SaleType</th>\n",
       "      <th>SaleCondition</th>\n",
       "      <th>SalePrice</th>\n",
       "    </tr>\n",
       "  </thead>\n",
       "  <tbody>\n",
       "    <tr>\n",
       "      <th>0</th>\n",
       "      <td>1</td>\n",
       "      <td>60</td>\n",
       "      <td>RL</td>\n",
       "      <td>65.0</td>\n",
       "      <td>8450</td>\n",
       "      <td>Pave</td>\n",
       "      <td>NaN</td>\n",
       "      <td>Reg</td>\n",
       "      <td>Lvl</td>\n",
       "      <td>AllPub</td>\n",
       "      <td>...</td>\n",
       "      <td>0</td>\n",
       "      <td>NaN</td>\n",
       "      <td>NaN</td>\n",
       "      <td>NaN</td>\n",
       "      <td>0</td>\n",
       "      <td>2</td>\n",
       "      <td>2008</td>\n",
       "      <td>WD</td>\n",
       "      <td>Normal</td>\n",
       "      <td>208500</td>\n",
       "    </tr>\n",
       "    <tr>\n",
       "      <th>1</th>\n",
       "      <td>2</td>\n",
       "      <td>20</td>\n",
       "      <td>RL</td>\n",
       "      <td>80.0</td>\n",
       "      <td>9600</td>\n",
       "      <td>Pave</td>\n",
       "      <td>NaN</td>\n",
       "      <td>Reg</td>\n",
       "      <td>Lvl</td>\n",
       "      <td>AllPub</td>\n",
       "      <td>...</td>\n",
       "      <td>0</td>\n",
       "      <td>NaN</td>\n",
       "      <td>NaN</td>\n",
       "      <td>NaN</td>\n",
       "      <td>0</td>\n",
       "      <td>5</td>\n",
       "      <td>2007</td>\n",
       "      <td>WD</td>\n",
       "      <td>Normal</td>\n",
       "      <td>181500</td>\n",
       "    </tr>\n",
       "    <tr>\n",
       "      <th>2</th>\n",
       "      <td>3</td>\n",
       "      <td>60</td>\n",
       "      <td>RL</td>\n",
       "      <td>68.0</td>\n",
       "      <td>11250</td>\n",
       "      <td>Pave</td>\n",
       "      <td>NaN</td>\n",
       "      <td>IR1</td>\n",
       "      <td>Lvl</td>\n",
       "      <td>AllPub</td>\n",
       "      <td>...</td>\n",
       "      <td>0</td>\n",
       "      <td>NaN</td>\n",
       "      <td>NaN</td>\n",
       "      <td>NaN</td>\n",
       "      <td>0</td>\n",
       "      <td>9</td>\n",
       "      <td>2008</td>\n",
       "      <td>WD</td>\n",
       "      <td>Normal</td>\n",
       "      <td>223500</td>\n",
       "    </tr>\n",
       "    <tr>\n",
       "      <th>3</th>\n",
       "      <td>4</td>\n",
       "      <td>70</td>\n",
       "      <td>RL</td>\n",
       "      <td>60.0</td>\n",
       "      <td>9550</td>\n",
       "      <td>Pave</td>\n",
       "      <td>NaN</td>\n",
       "      <td>IR1</td>\n",
       "      <td>Lvl</td>\n",
       "      <td>AllPub</td>\n",
       "      <td>...</td>\n",
       "      <td>0</td>\n",
       "      <td>NaN</td>\n",
       "      <td>NaN</td>\n",
       "      <td>NaN</td>\n",
       "      <td>0</td>\n",
       "      <td>2</td>\n",
       "      <td>2006</td>\n",
       "      <td>WD</td>\n",
       "      <td>Abnorml</td>\n",
       "      <td>140000</td>\n",
       "    </tr>\n",
       "    <tr>\n",
       "      <th>4</th>\n",
       "      <td>5</td>\n",
       "      <td>60</td>\n",
       "      <td>RL</td>\n",
       "      <td>84.0</td>\n",
       "      <td>14260</td>\n",
       "      <td>Pave</td>\n",
       "      <td>NaN</td>\n",
       "      <td>IR1</td>\n",
       "      <td>Lvl</td>\n",
       "      <td>AllPub</td>\n",
       "      <td>...</td>\n",
       "      <td>0</td>\n",
       "      <td>NaN</td>\n",
       "      <td>NaN</td>\n",
       "      <td>NaN</td>\n",
       "      <td>0</td>\n",
       "      <td>12</td>\n",
       "      <td>2008</td>\n",
       "      <td>WD</td>\n",
       "      <td>Normal</td>\n",
       "      <td>250000</td>\n",
       "    </tr>\n",
       "  </tbody>\n",
       "</table>\n",
       "<p>5 rows × 81 columns</p>\n",
       "</div>"
      ],
      "text/plain": [
       "   Id  MSSubClass MSZoning  LotFrontage  LotArea Street Alley LotShape  \\\n",
       "0   1          60       RL         65.0     8450   Pave   NaN      Reg   \n",
       "1   2          20       RL         80.0     9600   Pave   NaN      Reg   \n",
       "2   3          60       RL         68.0    11250   Pave   NaN      IR1   \n",
       "3   4          70       RL         60.0     9550   Pave   NaN      IR1   \n",
       "4   5          60       RL         84.0    14260   Pave   NaN      IR1   \n",
       "\n",
       "  LandContour Utilities  ... PoolArea PoolQC Fence MiscFeature MiscVal MoSold  \\\n",
       "0         Lvl    AllPub  ...        0    NaN   NaN         NaN       0      2   \n",
       "1         Lvl    AllPub  ...        0    NaN   NaN         NaN       0      5   \n",
       "2         Lvl    AllPub  ...        0    NaN   NaN         NaN       0      9   \n",
       "3         Lvl    AllPub  ...        0    NaN   NaN         NaN       0      2   \n",
       "4         Lvl    AllPub  ...        0    NaN   NaN         NaN       0     12   \n",
       "\n",
       "  YrSold  SaleType  SaleCondition  SalePrice  \n",
       "0   2008        WD         Normal     208500  \n",
       "1   2007        WD         Normal     181500  \n",
       "2   2008        WD         Normal     223500  \n",
       "3   2006        WD        Abnorml     140000  \n",
       "4   2008        WD         Normal     250000  \n",
       "\n",
       "[5 rows x 81 columns]"
      ]
     },
     "execution_count": 4,
     "metadata": {},
     "output_type": "execute_result"
    }
   ],
   "source": [
    "c_train.head()"
   ]
  },
  {
   "cell_type": "code",
   "execution_count": 5,
   "metadata": {
    "execution": {
     "iopub.execute_input": "2020-08-18T14:19:57.690256Z",
     "iopub.status.busy": "2020-08-18T14:19:57.689379Z",
     "iopub.status.idle": "2020-08-18T14:19:57.721976Z",
     "shell.execute_reply": "2020-08-18T14:19:57.721053Z"
    },
    "papermill": {
     "duration": 0.079889,
     "end_time": "2020-08-18T14:19:57.722125",
     "exception": false,
     "start_time": "2020-08-18T14:19:57.642236",
     "status": "completed"
    },
    "tags": []
   },
   "outputs": [],
   "source": [
    "c_train['train']=1\n",
    "c_test['train']=0\n",
    "df=pd.concat([c_train,c_test],axis=0,sort=False)\n"
   ]
  },
  {
   "cell_type": "code",
   "execution_count": 6,
   "metadata": {
    "execution": {
     "iopub.execute_input": "2020-08-18T14:19:57.798045Z",
     "iopub.status.busy": "2020-08-18T14:19:57.796894Z",
     "iopub.status.idle": "2020-08-18T14:19:57.855874Z",
     "shell.execute_reply": "2020-08-18T14:19:57.855211Z"
    },
    "papermill": {
     "duration": 0.099223,
     "end_time": "2020-08-18T14:19:57.856026",
     "exception": false,
     "start_time": "2020-08-18T14:19:57.756803",
     "status": "completed"
    },
    "tags": []
   },
   "outputs": [
    {
     "data": {
      "text/html": [
       "<div>\n",
       "<style scoped>\n",
       "    .dataframe tbody tr th:only-of-type {\n",
       "        vertical-align: middle;\n",
       "    }\n",
       "\n",
       "    .dataframe tbody tr th {\n",
       "        vertical-align: top;\n",
       "    }\n",
       "\n",
       "    .dataframe thead th {\n",
       "        text-align: right;\n",
       "    }\n",
       "</style>\n",
       "<table border=\"1\" class=\"dataframe\">\n",
       "  <thead>\n",
       "    <tr style=\"text-align: right;\">\n",
       "      <th></th>\n",
       "      <th>Id</th>\n",
       "      <th>MSSubClass</th>\n",
       "      <th>MSZoning</th>\n",
       "      <th>LotFrontage</th>\n",
       "      <th>LotArea</th>\n",
       "      <th>Street</th>\n",
       "      <th>Alley</th>\n",
       "      <th>LotShape</th>\n",
       "      <th>LandContour</th>\n",
       "      <th>Utilities</th>\n",
       "      <th>...</th>\n",
       "      <th>PoolQC</th>\n",
       "      <th>Fence</th>\n",
       "      <th>MiscFeature</th>\n",
       "      <th>MiscVal</th>\n",
       "      <th>MoSold</th>\n",
       "      <th>YrSold</th>\n",
       "      <th>SaleType</th>\n",
       "      <th>SaleCondition</th>\n",
       "      <th>SalePrice</th>\n",
       "      <th>train</th>\n",
       "    </tr>\n",
       "  </thead>\n",
       "  <tbody>\n",
       "    <tr>\n",
       "      <th>0</th>\n",
       "      <td>1</td>\n",
       "      <td>60</td>\n",
       "      <td>RL</td>\n",
       "      <td>65.0</td>\n",
       "      <td>8450</td>\n",
       "      <td>Pave</td>\n",
       "      <td>NaN</td>\n",
       "      <td>Reg</td>\n",
       "      <td>Lvl</td>\n",
       "      <td>AllPub</td>\n",
       "      <td>...</td>\n",
       "      <td>NaN</td>\n",
       "      <td>NaN</td>\n",
       "      <td>NaN</td>\n",
       "      <td>0</td>\n",
       "      <td>2</td>\n",
       "      <td>2008</td>\n",
       "      <td>WD</td>\n",
       "      <td>Normal</td>\n",
       "      <td>208500.0</td>\n",
       "      <td>1</td>\n",
       "    </tr>\n",
       "    <tr>\n",
       "      <th>1</th>\n",
       "      <td>2</td>\n",
       "      <td>20</td>\n",
       "      <td>RL</td>\n",
       "      <td>80.0</td>\n",
       "      <td>9600</td>\n",
       "      <td>Pave</td>\n",
       "      <td>NaN</td>\n",
       "      <td>Reg</td>\n",
       "      <td>Lvl</td>\n",
       "      <td>AllPub</td>\n",
       "      <td>...</td>\n",
       "      <td>NaN</td>\n",
       "      <td>NaN</td>\n",
       "      <td>NaN</td>\n",
       "      <td>0</td>\n",
       "      <td>5</td>\n",
       "      <td>2007</td>\n",
       "      <td>WD</td>\n",
       "      <td>Normal</td>\n",
       "      <td>181500.0</td>\n",
       "      <td>1</td>\n",
       "    </tr>\n",
       "    <tr>\n",
       "      <th>2</th>\n",
       "      <td>3</td>\n",
       "      <td>60</td>\n",
       "      <td>RL</td>\n",
       "      <td>68.0</td>\n",
       "      <td>11250</td>\n",
       "      <td>Pave</td>\n",
       "      <td>NaN</td>\n",
       "      <td>IR1</td>\n",
       "      <td>Lvl</td>\n",
       "      <td>AllPub</td>\n",
       "      <td>...</td>\n",
       "      <td>NaN</td>\n",
       "      <td>NaN</td>\n",
       "      <td>NaN</td>\n",
       "      <td>0</td>\n",
       "      <td>9</td>\n",
       "      <td>2008</td>\n",
       "      <td>WD</td>\n",
       "      <td>Normal</td>\n",
       "      <td>223500.0</td>\n",
       "      <td>1</td>\n",
       "    </tr>\n",
       "    <tr>\n",
       "      <th>3</th>\n",
       "      <td>4</td>\n",
       "      <td>70</td>\n",
       "      <td>RL</td>\n",
       "      <td>60.0</td>\n",
       "      <td>9550</td>\n",
       "      <td>Pave</td>\n",
       "      <td>NaN</td>\n",
       "      <td>IR1</td>\n",
       "      <td>Lvl</td>\n",
       "      <td>AllPub</td>\n",
       "      <td>...</td>\n",
       "      <td>NaN</td>\n",
       "      <td>NaN</td>\n",
       "      <td>NaN</td>\n",
       "      <td>0</td>\n",
       "      <td>2</td>\n",
       "      <td>2006</td>\n",
       "      <td>WD</td>\n",
       "      <td>Abnorml</td>\n",
       "      <td>140000.0</td>\n",
       "      <td>1</td>\n",
       "    </tr>\n",
       "    <tr>\n",
       "      <th>4</th>\n",
       "      <td>5</td>\n",
       "      <td>60</td>\n",
       "      <td>RL</td>\n",
       "      <td>84.0</td>\n",
       "      <td>14260</td>\n",
       "      <td>Pave</td>\n",
       "      <td>NaN</td>\n",
       "      <td>IR1</td>\n",
       "      <td>Lvl</td>\n",
       "      <td>AllPub</td>\n",
       "      <td>...</td>\n",
       "      <td>NaN</td>\n",
       "      <td>NaN</td>\n",
       "      <td>NaN</td>\n",
       "      <td>0</td>\n",
       "      <td>12</td>\n",
       "      <td>2008</td>\n",
       "      <td>WD</td>\n",
       "      <td>Normal</td>\n",
       "      <td>250000.0</td>\n",
       "      <td>1</td>\n",
       "    </tr>\n",
       "    <tr>\n",
       "      <th>...</th>\n",
       "      <td>...</td>\n",
       "      <td>...</td>\n",
       "      <td>...</td>\n",
       "      <td>...</td>\n",
       "      <td>...</td>\n",
       "      <td>...</td>\n",
       "      <td>...</td>\n",
       "      <td>...</td>\n",
       "      <td>...</td>\n",
       "      <td>...</td>\n",
       "      <td>...</td>\n",
       "      <td>...</td>\n",
       "      <td>...</td>\n",
       "      <td>...</td>\n",
       "      <td>...</td>\n",
       "      <td>...</td>\n",
       "      <td>...</td>\n",
       "      <td>...</td>\n",
       "      <td>...</td>\n",
       "      <td>...</td>\n",
       "      <td>...</td>\n",
       "    </tr>\n",
       "    <tr>\n",
       "      <th>1454</th>\n",
       "      <td>2915</td>\n",
       "      <td>160</td>\n",
       "      <td>RM</td>\n",
       "      <td>21.0</td>\n",
       "      <td>1936</td>\n",
       "      <td>Pave</td>\n",
       "      <td>NaN</td>\n",
       "      <td>Reg</td>\n",
       "      <td>Lvl</td>\n",
       "      <td>AllPub</td>\n",
       "      <td>...</td>\n",
       "      <td>NaN</td>\n",
       "      <td>NaN</td>\n",
       "      <td>NaN</td>\n",
       "      <td>0</td>\n",
       "      <td>6</td>\n",
       "      <td>2006</td>\n",
       "      <td>WD</td>\n",
       "      <td>Normal</td>\n",
       "      <td>NaN</td>\n",
       "      <td>0</td>\n",
       "    </tr>\n",
       "    <tr>\n",
       "      <th>1455</th>\n",
       "      <td>2916</td>\n",
       "      <td>160</td>\n",
       "      <td>RM</td>\n",
       "      <td>21.0</td>\n",
       "      <td>1894</td>\n",
       "      <td>Pave</td>\n",
       "      <td>NaN</td>\n",
       "      <td>Reg</td>\n",
       "      <td>Lvl</td>\n",
       "      <td>AllPub</td>\n",
       "      <td>...</td>\n",
       "      <td>NaN</td>\n",
       "      <td>NaN</td>\n",
       "      <td>NaN</td>\n",
       "      <td>0</td>\n",
       "      <td>4</td>\n",
       "      <td>2006</td>\n",
       "      <td>WD</td>\n",
       "      <td>Abnorml</td>\n",
       "      <td>NaN</td>\n",
       "      <td>0</td>\n",
       "    </tr>\n",
       "    <tr>\n",
       "      <th>1456</th>\n",
       "      <td>2917</td>\n",
       "      <td>20</td>\n",
       "      <td>RL</td>\n",
       "      <td>160.0</td>\n",
       "      <td>20000</td>\n",
       "      <td>Pave</td>\n",
       "      <td>NaN</td>\n",
       "      <td>Reg</td>\n",
       "      <td>Lvl</td>\n",
       "      <td>AllPub</td>\n",
       "      <td>...</td>\n",
       "      <td>NaN</td>\n",
       "      <td>NaN</td>\n",
       "      <td>NaN</td>\n",
       "      <td>0</td>\n",
       "      <td>9</td>\n",
       "      <td>2006</td>\n",
       "      <td>WD</td>\n",
       "      <td>Abnorml</td>\n",
       "      <td>NaN</td>\n",
       "      <td>0</td>\n",
       "    </tr>\n",
       "    <tr>\n",
       "      <th>1457</th>\n",
       "      <td>2918</td>\n",
       "      <td>85</td>\n",
       "      <td>RL</td>\n",
       "      <td>62.0</td>\n",
       "      <td>10441</td>\n",
       "      <td>Pave</td>\n",
       "      <td>NaN</td>\n",
       "      <td>Reg</td>\n",
       "      <td>Lvl</td>\n",
       "      <td>AllPub</td>\n",
       "      <td>...</td>\n",
       "      <td>NaN</td>\n",
       "      <td>MnPrv</td>\n",
       "      <td>Shed</td>\n",
       "      <td>700</td>\n",
       "      <td>7</td>\n",
       "      <td>2006</td>\n",
       "      <td>WD</td>\n",
       "      <td>Normal</td>\n",
       "      <td>NaN</td>\n",
       "      <td>0</td>\n",
       "    </tr>\n",
       "    <tr>\n",
       "      <th>1458</th>\n",
       "      <td>2919</td>\n",
       "      <td>60</td>\n",
       "      <td>RL</td>\n",
       "      <td>74.0</td>\n",
       "      <td>9627</td>\n",
       "      <td>Pave</td>\n",
       "      <td>NaN</td>\n",
       "      <td>Reg</td>\n",
       "      <td>Lvl</td>\n",
       "      <td>AllPub</td>\n",
       "      <td>...</td>\n",
       "      <td>NaN</td>\n",
       "      <td>NaN</td>\n",
       "      <td>NaN</td>\n",
       "      <td>0</td>\n",
       "      <td>11</td>\n",
       "      <td>2006</td>\n",
       "      <td>WD</td>\n",
       "      <td>Normal</td>\n",
       "      <td>NaN</td>\n",
       "      <td>0</td>\n",
       "    </tr>\n",
       "  </tbody>\n",
       "</table>\n",
       "<p>2919 rows × 82 columns</p>\n",
       "</div>"
      ],
      "text/plain": [
       "        Id  MSSubClass MSZoning  LotFrontage  LotArea Street Alley LotShape  \\\n",
       "0        1          60       RL         65.0     8450   Pave   NaN      Reg   \n",
       "1        2          20       RL         80.0     9600   Pave   NaN      Reg   \n",
       "2        3          60       RL         68.0    11250   Pave   NaN      IR1   \n",
       "3        4          70       RL         60.0     9550   Pave   NaN      IR1   \n",
       "4        5          60       RL         84.0    14260   Pave   NaN      IR1   \n",
       "...    ...         ...      ...          ...      ...    ...   ...      ...   \n",
       "1454  2915         160       RM         21.0     1936   Pave   NaN      Reg   \n",
       "1455  2916         160       RM         21.0     1894   Pave   NaN      Reg   \n",
       "1456  2917          20       RL        160.0    20000   Pave   NaN      Reg   \n",
       "1457  2918          85       RL         62.0    10441   Pave   NaN      Reg   \n",
       "1458  2919          60       RL         74.0     9627   Pave   NaN      Reg   \n",
       "\n",
       "     LandContour Utilities  ... PoolQC  Fence MiscFeature MiscVal MoSold  \\\n",
       "0            Lvl    AllPub  ...    NaN    NaN         NaN       0      2   \n",
       "1            Lvl    AllPub  ...    NaN    NaN         NaN       0      5   \n",
       "2            Lvl    AllPub  ...    NaN    NaN         NaN       0      9   \n",
       "3            Lvl    AllPub  ...    NaN    NaN         NaN       0      2   \n",
       "4            Lvl    AllPub  ...    NaN    NaN         NaN       0     12   \n",
       "...          ...       ...  ...    ...    ...         ...     ...    ...   \n",
       "1454         Lvl    AllPub  ...    NaN    NaN         NaN       0      6   \n",
       "1455         Lvl    AllPub  ...    NaN    NaN         NaN       0      4   \n",
       "1456         Lvl    AllPub  ...    NaN    NaN         NaN       0      9   \n",
       "1457         Lvl    AllPub  ...    NaN  MnPrv        Shed     700      7   \n",
       "1458         Lvl    AllPub  ...    NaN    NaN         NaN       0     11   \n",
       "\n",
       "     YrSold SaleType  SaleCondition  SalePrice  train  \n",
       "0      2008       WD         Normal   208500.0      1  \n",
       "1      2007       WD         Normal   181500.0      1  \n",
       "2      2008       WD         Normal   223500.0      1  \n",
       "3      2006       WD        Abnorml   140000.0      1  \n",
       "4      2008       WD         Normal   250000.0      1  \n",
       "...     ...      ...            ...        ...    ...  \n",
       "1454   2006       WD         Normal        NaN      0  \n",
       "1455   2006       WD        Abnorml        NaN      0  \n",
       "1456   2006       WD        Abnorml        NaN      0  \n",
       "1457   2006       WD         Normal        NaN      0  \n",
       "1458   2006       WD         Normal        NaN      0  \n",
       "\n",
       "[2919 rows x 82 columns]"
      ]
     },
     "execution_count": 6,
     "metadata": {},
     "output_type": "execute_result"
    }
   ],
   "source": [
    "df\n"
   ]
  },
  {
   "cell_type": "code",
   "execution_count": 7,
   "metadata": {
    "execution": {
     "iopub.execute_input": "2020-08-18T14:19:57.949265Z",
     "iopub.status.busy": "2020-08-18T14:19:57.948371Z",
     "iopub.status.idle": "2020-08-18T14:19:57.961710Z",
     "shell.execute_reply": "2020-08-18T14:19:57.960834Z"
    },
    "papermill": {
     "duration": 0.070019,
     "end_time": "2020-08-18T14:19:57.961866",
     "exception": false,
     "start_time": "2020-08-18T14:19:57.891847",
     "status": "completed"
    },
    "tags": []
   },
   "outputs": [
    {
     "data": {
      "text/plain": [
       "Id                  0\n",
       "MSSubClass          0\n",
       "MSZoning            4\n",
       "LotFrontage       486\n",
       "LotArea             0\n",
       "                 ... \n",
       "YrSold              0\n",
       "SaleType            1\n",
       "SaleCondition       0\n",
       "SalePrice        1459\n",
       "train               0\n",
       "Length: 82, dtype: int64"
      ]
     },
     "execution_count": 7,
     "metadata": {},
     "output_type": "execute_result"
    }
   ],
   "source": [
    "df.isnull().sum()"
   ]
  },
  {
   "cell_type": "code",
   "execution_count": 8,
   "metadata": {
    "execution": {
     "iopub.execute_input": "2020-08-18T14:19:58.082088Z",
     "iopub.status.busy": "2020-08-18T14:19:58.081299Z",
     "iopub.status.idle": "2020-08-18T14:19:58.085008Z",
     "shell.execute_reply": "2020-08-18T14:19:58.084350Z"
    },
    "papermill": {
     "duration": 0.086819,
     "end_time": "2020-08-18T14:19:58.085143",
     "exception": false,
     "start_time": "2020-08-18T14:19:57.998324",
     "status": "completed"
    },
    "tags": []
   },
   "outputs": [],
   "source": [
    "\n",
    "NAN = [(c, df[c].isna().mean()*100) for c in df]\n",
    "NAN=pd.DataFrame(NAN,columns=[\"column_name\",\"percentage\"])\n"
   ]
  },
  {
   "cell_type": "code",
   "execution_count": 9,
   "metadata": {
    "execution": {
     "iopub.execute_input": "2020-08-18T14:19:58.173508Z",
     "iopub.status.busy": "2020-08-18T14:19:58.172680Z",
     "iopub.status.idle": "2020-08-18T14:19:58.178644Z",
     "shell.execute_reply": "2020-08-18T14:19:58.177908Z"
    },
    "papermill": {
     "duration": 0.056942,
     "end_time": "2020-08-18T14:19:58.178791",
     "exception": false,
     "start_time": "2020-08-18T14:19:58.121849",
     "status": "completed"
    },
    "tags": []
   },
   "outputs": [
    {
     "data": {
      "text/html": [
       "<div>\n",
       "<style scoped>\n",
       "    .dataframe tbody tr th:only-of-type {\n",
       "        vertical-align: middle;\n",
       "    }\n",
       "\n",
       "    .dataframe tbody tr th {\n",
       "        vertical-align: top;\n",
       "    }\n",
       "\n",
       "    .dataframe thead th {\n",
       "        text-align: right;\n",
       "    }\n",
       "</style>\n",
       "<table border=\"1\" class=\"dataframe\">\n",
       "  <thead>\n",
       "    <tr style=\"text-align: right;\">\n",
       "      <th></th>\n",
       "      <th>column_name</th>\n",
       "      <th>percentage</th>\n",
       "    </tr>\n",
       "  </thead>\n",
       "  <tbody>\n",
       "    <tr>\n",
       "      <th>72</th>\n",
       "      <td>PoolQC</td>\n",
       "      <td>99.657417</td>\n",
       "    </tr>\n",
       "    <tr>\n",
       "      <th>74</th>\n",
       "      <td>MiscFeature</td>\n",
       "      <td>96.402878</td>\n",
       "    </tr>\n",
       "    <tr>\n",
       "      <th>6</th>\n",
       "      <td>Alley</td>\n",
       "      <td>93.216855</td>\n",
       "    </tr>\n",
       "    <tr>\n",
       "      <th>73</th>\n",
       "      <td>Fence</td>\n",
       "      <td>80.438506</td>\n",
       "    </tr>\n",
       "  </tbody>\n",
       "</table>\n",
       "</div>"
      ],
      "text/plain": [
       "    column_name  percentage\n",
       "72       PoolQC   99.657417\n",
       "74  MiscFeature   96.402878\n",
       "6         Alley   93.216855\n",
       "73        Fence   80.438506"
      ]
     },
     "execution_count": 9,
     "metadata": {},
     "output_type": "execute_result"
    }
   ],
   "source": [
    "NAN=NAN[50<NAN.percentage]\n",
    "NAN.sort_values(\"percentage\",ascending=False)"
   ]
  },
  {
   "cell_type": "code",
   "execution_count": 10,
   "metadata": {
    "execution": {
     "iopub.execute_input": "2020-08-18T14:19:58.260229Z",
     "iopub.status.busy": "2020-08-18T14:19:58.259329Z",
     "iopub.status.idle": "2020-08-18T14:19:58.275035Z",
     "shell.execute_reply": "2020-08-18T14:19:58.274086Z"
    },
    "papermill": {
     "duration": 0.059452,
     "end_time": "2020-08-18T14:19:58.275195",
     "exception": false,
     "start_time": "2020-08-18T14:19:58.215743",
     "status": "completed"
    },
    "tags": []
   },
   "outputs": [],
   "source": [
    "df=df.drop(['Alley','PoolQC','Fence','MiscFeature'],axis=1)\n"
   ]
  },
  {
   "cell_type": "code",
   "execution_count": 11,
   "metadata": {
    "execution": {
     "iopub.execute_input": "2020-08-18T14:19:58.369139Z",
     "iopub.status.busy": "2020-08-18T14:19:58.368345Z",
     "iopub.status.idle": "2020-08-18T14:19:58.376605Z",
     "shell.execute_reply": "2020-08-18T14:19:58.375897Z"
    },
    "papermill": {
     "duration": 0.059877,
     "end_time": "2020-08-18T14:19:58.376747",
     "exception": false,
     "start_time": "2020-08-18T14:19:58.316870",
     "status": "completed"
    },
    "tags": []
   },
   "outputs": [],
   "source": [
    "object_columns=df.select_dtypes(include=['object'])\n",
    "numerical_columns=df.select_dtypes(exclude=['object'])\n"
   ]
  },
  {
   "cell_type": "code",
   "execution_count": 12,
   "metadata": {
    "execution": {
     "iopub.execute_input": "2020-08-18T14:19:58.460972Z",
     "iopub.status.busy": "2020-08-18T14:19:58.459896Z",
     "iopub.status.idle": "2020-08-18T14:19:58.465161Z",
     "shell.execute_reply": "2020-08-18T14:19:58.464367Z"
    },
    "papermill": {
     "duration": 0.051149,
     "end_time": "2020-08-18T14:19:58.465290",
     "exception": false,
     "start_time": "2020-08-18T14:19:58.414141",
     "status": "completed"
    },
    "tags": []
   },
   "outputs": [
    {
     "data": {
      "text/plain": [
       "MSZoning         object\n",
       "Street           object\n",
       "LotShape         object\n",
       "LandContour      object\n",
       "Utilities        object\n",
       "LotConfig        object\n",
       "LandSlope        object\n",
       "Neighborhood     object\n",
       "Condition1       object\n",
       "Condition2       object\n",
       "BldgType         object\n",
       "HouseStyle       object\n",
       "RoofStyle        object\n",
       "RoofMatl         object\n",
       "Exterior1st      object\n",
       "Exterior2nd      object\n",
       "MasVnrType       object\n",
       "ExterQual        object\n",
       "ExterCond        object\n",
       "Foundation       object\n",
       "BsmtQual         object\n",
       "BsmtCond         object\n",
       "BsmtExposure     object\n",
       "BsmtFinType1     object\n",
       "BsmtFinType2     object\n",
       "Heating          object\n",
       "HeatingQC        object\n",
       "CentralAir       object\n",
       "Electrical       object\n",
       "KitchenQual      object\n",
       "Functional       object\n",
       "FireplaceQu      object\n",
       "GarageType       object\n",
       "GarageFinish     object\n",
       "GarageQual       object\n",
       "GarageCond       object\n",
       "PavedDrive       object\n",
       "SaleType         object\n",
       "SaleCondition    object\n",
       "dtype: object"
      ]
     },
     "execution_count": 12,
     "metadata": {},
     "output_type": "execute_result"
    }
   ],
   "source": [
    "object_columns.dtypes"
   ]
  },
  {
   "cell_type": "code",
   "execution_count": 13,
   "metadata": {
    "execution": {
     "iopub.execute_input": "2020-08-18T14:19:58.560782Z",
     "iopub.status.busy": "2020-08-18T14:19:58.559570Z",
     "iopub.status.idle": "2020-08-18T14:19:58.569881Z",
     "shell.execute_reply": "2020-08-18T14:19:58.569032Z"
    },
    "papermill": {
     "duration": 0.066409,
     "end_time": "2020-08-18T14:19:58.570022",
     "exception": false,
     "start_time": "2020-08-18T14:19:58.503613",
     "status": "completed"
    },
    "tags": []
   },
   "outputs": [
    {
     "data": {
      "text/plain": [
       "MSZoning            4\n",
       "Street              0\n",
       "LotShape            0\n",
       "LandContour         0\n",
       "Utilities           2\n",
       "LotConfig           0\n",
       "LandSlope           0\n",
       "Neighborhood        0\n",
       "Condition1          0\n",
       "Condition2          0\n",
       "BldgType            0\n",
       "HouseStyle          0\n",
       "RoofStyle           0\n",
       "RoofMatl            0\n",
       "Exterior1st         1\n",
       "Exterior2nd         1\n",
       "MasVnrType         24\n",
       "ExterQual           0\n",
       "ExterCond           0\n",
       "Foundation          0\n",
       "BsmtQual           81\n",
       "BsmtCond           82\n",
       "BsmtExposure       82\n",
       "BsmtFinType1       79\n",
       "BsmtFinType2       80\n",
       "Heating             0\n",
       "HeatingQC           0\n",
       "CentralAir          0\n",
       "Electrical          1\n",
       "KitchenQual         1\n",
       "Functional          2\n",
       "FireplaceQu      1420\n",
       "GarageType        157\n",
       "GarageFinish      159\n",
       "GarageQual        159\n",
       "GarageCond        159\n",
       "PavedDrive          0\n",
       "SaleType            1\n",
       "SaleCondition       0\n",
       "dtype: int64"
      ]
     },
     "execution_count": 13,
     "metadata": {},
     "output_type": "execute_result"
    }
   ],
   "source": [
    "object_columns.isnull().sum()"
   ]
  },
  {
   "cell_type": "code",
   "execution_count": 14,
   "metadata": {
    "execution": {
     "iopub.execute_input": "2020-08-18T14:19:58.658770Z",
     "iopub.status.busy": "2020-08-18T14:19:58.657883Z",
     "iopub.status.idle": "2020-08-18T14:19:58.677747Z",
     "shell.execute_reply": "2020-08-18T14:19:58.676772Z"
    },
    "papermill": {
     "duration": 0.069224,
     "end_time": "2020-08-18T14:19:58.677928",
     "exception": false,
     "start_time": "2020-08-18T14:19:58.608704",
     "status": "completed"
    },
    "tags": []
   },
   "outputs": [
    {
     "name": "stderr",
     "output_type": "stream",
     "text": [
      "/opt/conda/lib/python3.7/site-packages/pandas/core/frame.py:3062: SettingWithCopyWarning: \n",
      "A value is trying to be set on a copy of a slice from a DataFrame.\n",
      "Try using .loc[row_indexer,col_indexer] = value instead\n",
      "\n",
      "See the caveats in the documentation: https://pandas.pydata.org/pandas-docs/stable/user_guide/indexing.html#returning-a-view-versus-a-copy\n",
      "  self[k1] = value[k2]\n"
     ]
    }
   ],
   "source": [
    "columns_none=['BsmtQual','BsmtCond','BsmtExposure','BsmtFinType1','BsmtFinType2','GarageType','GarageFinish','GarageQual','FireplaceQu','GarageCond']\n",
    "object_columns[columns_none]=object_columns[columns_none].fillna('None')\n"
   ]
  },
  {
   "cell_type": "code",
   "execution_count": 15,
   "metadata": {
    "execution": {
     "iopub.execute_input": "2020-08-18T14:19:58.765968Z",
     "iopub.status.busy": "2020-08-18T14:19:58.765128Z",
     "iopub.status.idle": "2020-08-18T14:19:58.814686Z",
     "shell.execute_reply": "2020-08-18T14:19:58.813879Z"
    },
    "papermill": {
     "duration": 0.096859,
     "end_time": "2020-08-18T14:19:58.814817",
     "exception": false,
     "start_time": "2020-08-18T14:19:58.717958",
     "status": "completed"
    },
    "tags": []
   },
   "outputs": [],
   "source": [
    "columns_with_lowNA = ['MSZoning','Utilities','Exterior1st','Exterior2nd','MasVnrType','Electrical','KitchenQual','Functional','SaleType']\n",
    "#fill missing values for each column (using its own most frequent value)\n",
    "object_columns[columns_with_lowNA] = object_columns[columns_with_lowNA].fillna(object_columns.mode().iloc[0])"
   ]
  },
  {
   "cell_type": "code",
   "execution_count": 16,
   "metadata": {
    "execution": {
     "iopub.execute_input": "2020-08-18T14:19:58.901614Z",
     "iopub.status.busy": "2020-08-18T14:19:58.900602Z",
     "iopub.status.idle": "2020-08-18T14:19:58.906806Z",
     "shell.execute_reply": "2020-08-18T14:19:58.905428Z"
    },
    "papermill": {
     "duration": 0.053036,
     "end_time": "2020-08-18T14:19:58.907016",
     "exception": false,
     "start_time": "2020-08-18T14:19:58.853980",
     "status": "completed"
    },
    "tags": []
   },
   "outputs": [
    {
     "name": "stdout",
     "output_type": "stream",
     "text": [
      "35.0\n",
      "68.0\n"
     ]
    }
   ],
   "source": [
    "print((numerical_columns['YrSold']-numerical_columns['YearBuilt']).median())\n",
    "print(numerical_columns[\"LotFrontage\"].median())"
   ]
  },
  {
   "cell_type": "code",
   "execution_count": 17,
   "metadata": {
    "execution": {
     "iopub.execute_input": "2020-08-18T14:19:58.997526Z",
     "iopub.status.busy": "2020-08-18T14:19:58.995603Z",
     "iopub.status.idle": "2020-08-18T14:19:59.006006Z",
     "shell.execute_reply": "2020-08-18T14:19:59.002827Z"
    },
    "papermill": {
     "duration": 0.058632,
     "end_time": "2020-08-18T14:19:59.006563",
     "exception": false,
     "start_time": "2020-08-18T14:19:58.947931",
     "status": "completed"
    },
    "tags": []
   },
   "outputs": [
    {
     "name": "stderr",
     "output_type": "stream",
     "text": [
      "/opt/conda/lib/python3.7/site-packages/ipykernel_launcher.py:1: SettingWithCopyWarning: \n",
      "A value is trying to be set on a copy of a slice from a DataFrame.\n",
      "Try using .loc[row_indexer,col_indexer] = value instead\n",
      "\n",
      "See the caveats in the documentation: https://pandas.pydata.org/pandas-docs/stable/user_guide/indexing.html#returning-a-view-versus-a-copy\n",
      "  \"\"\"Entry point for launching an IPython kernel.\n",
      "/opt/conda/lib/python3.7/site-packages/ipykernel_launcher.py:2: SettingWithCopyWarning: \n",
      "A value is trying to be set on a copy of a slice from a DataFrame.\n",
      "Try using .loc[row_indexer,col_indexer] = value instead\n",
      "\n",
      "See the caveats in the documentation: https://pandas.pydata.org/pandas-docs/stable/user_guide/indexing.html#returning-a-view-versus-a-copy\n",
      "  \n"
     ]
    }
   ],
   "source": [
    "numerical_columns['GarageYrBlt'] = numerical_columns['GarageYrBlt'].fillna(numerical_columns['YrSold']-35)\n",
    "numerical_columns['LotFrontage'] = numerical_columns['LotFrontage'].fillna(68)"
   ]
  },
  {
   "cell_type": "code",
   "execution_count": 18,
   "metadata": {
    "execution": {
     "iopub.execute_input": "2020-08-18T14:19:59.098428Z",
     "iopub.status.busy": "2020-08-18T14:19:59.097292Z",
     "iopub.status.idle": "2020-08-18T14:19:59.103093Z",
     "shell.execute_reply": "2020-08-18T14:19:59.102288Z"
    },
    "papermill": {
     "duration": 0.053186,
     "end_time": "2020-08-18T14:19:59.103228",
     "exception": false,
     "start_time": "2020-08-18T14:19:59.050042",
     "status": "completed"
    },
    "tags": []
   },
   "outputs": [],
   "source": [
    "numerical_columns= numerical_columns.fillna(0)"
   ]
  },
  {
   "cell_type": "code",
   "execution_count": 19,
   "metadata": {
    "execution": {
     "iopub.execute_input": "2020-08-18T14:19:59.195297Z",
     "iopub.status.busy": "2020-08-18T14:19:59.194498Z",
     "iopub.status.idle": "2020-08-18T14:19:59.447585Z",
     "shell.execute_reply": "2020-08-18T14:19:59.446744Z"
    },
    "papermill": {
     "duration": 0.303339,
     "end_time": "2020-08-18T14:19:59.447724",
     "exception": false,
     "start_time": "2020-08-18T14:19:59.144385",
     "status": "completed"
    },
    "tags": []
   },
   "outputs": [
    {
     "data": {
      "text/plain": [
       "<matplotlib.axes._subplots.AxesSubplot at 0x7f936e94ca50>"
      ]
     },
     "execution_count": 19,
     "metadata": {},
     "output_type": "execute_result"
    },
    {
     "data": {
      "image/png": "[encoded data removed]",
      "text/plain": [
       "<Figure size 432x288 with 1 Axes>"
      ]
     },
     "metadata": {
      "needs_background": "light"
     },
     "output_type": "display_data"
    }
   ],
   "source": [
    "object_columns['Utilities'].value_counts().plot(kind='bar')"
   ]
  },
  {
   "cell_type": "code",
   "execution_count": 20,
   "metadata": {
    "execution": {
     "iopub.execute_input": "2020-08-18T14:19:59.554774Z",
     "iopub.status.busy": "2020-08-18T14:19:59.553255Z",
     "iopub.status.idle": "2020-08-18T14:19:59.699471Z",
     "shell.execute_reply": "2020-08-18T14:19:59.698635Z"
    },
    "papermill": {
     "duration": 0.209342,
     "end_time": "2020-08-18T14:19:59.699609",
     "exception": false,
     "start_time": "2020-08-18T14:19:59.490267",
     "status": "completed"
    },
    "tags": []
   },
   "outputs": [
    {
     "data": {
      "text/plain": [
       "<matplotlib.axes._subplots.AxesSubplot at 0x7f936e7c0050>"
      ]
     },
     "execution_count": 20,
     "metadata": {},
     "output_type": "execute_result"
    },
    {
     "data": {
      "image/png": "[encoded data removed]",
      "text/plain": [
       "<Figure size 432x288 with 1 Axes>"
      ]
     },
     "metadata": {
      "needs_background": "light"
     },
     "output_type": "display_data"
    }
   ],
   "source": [
    "object_columns['Street'].value_counts().plot(kind='bar')"
   ]
  },
  {
   "cell_type": "code",
   "execution_count": 21,
   "metadata": {
    "execution": {
     "iopub.execute_input": "2020-08-18T14:19:59.815801Z",
     "iopub.status.busy": "2020-08-18T14:19:59.814534Z",
     "iopub.status.idle": "2020-08-18T14:20:00.001401Z",
     "shell.execute_reply": "2020-08-18T14:20:00.000633Z"
    },
    "papermill": {
     "duration": 0.248292,
     "end_time": "2020-08-18T14:20:00.001571",
     "exception": false,
     "start_time": "2020-08-18T14:19:59.753279",
     "status": "completed"
    },
    "tags": []
   },
   "outputs": [
    {
     "data": {
      "text/plain": [
       "<matplotlib.axes._subplots.AxesSubplot at 0x7f936e6e5050>"
      ]
     },
     "execution_count": 21,
     "metadata": {},
     "output_type": "execute_result"
    },
    {
     "data": {
      "image/png": "[encoded data removed]",
      "text/plain": [
       "<Figure size 720x216 with 1 Axes>"
      ]
     },
     "metadata": {
      "needs_background": "light"
     },
     "output_type": "display_data"
    }
   ],
   "source": [
    "object_columns['Condition2'].value_counts().plot(kind='bar',figsize=[10,3])"
   ]
  },
  {
   "cell_type": "code",
   "execution_count": 22,
   "metadata": {
    "execution": {
     "iopub.execute_input": "2020-08-18T14:20:00.117971Z",
     "iopub.status.busy": "2020-08-18T14:20:00.116327Z",
     "iopub.status.idle": "2020-08-18T14:20:00.316088Z",
     "shell.execute_reply": "2020-08-18T14:20:00.315163Z"
    },
    "papermill": {
     "duration": 0.265723,
     "end_time": "2020-08-18T14:20:00.316245",
     "exception": false,
     "start_time": "2020-08-18T14:20:00.050522",
     "status": "completed"
    },
    "tags": []
   },
   "outputs": [
    {
     "data": {
      "text/plain": [
       "<matplotlib.axes._subplots.AxesSubplot at 0x7f936e685110>"
      ]
     },
     "execution_count": 22,
     "metadata": {},
     "output_type": "execute_result"
    },
    {
     "data": {
      "image/png": "[encoded data removed]",
      "text/plain": [
       "<Figure size 720x216 with 1 Axes>"
      ]
     },
     "metadata": {
      "needs_background": "light"
     },
     "output_type": "display_data"
    }
   ],
   "source": [
    "object_columns['RoofMatl'].value_counts().plot(kind='bar',figsize=[10,3])"
   ]
  },
  {
   "cell_type": "code",
   "execution_count": 23,
   "metadata": {
    "execution": {
     "iopub.execute_input": "2020-08-18T14:20:00.419682Z",
     "iopub.status.busy": "2020-08-18T14:20:00.416864Z",
     "iopub.status.idle": "2020-08-18T14:20:00.422805Z",
     "shell.execute_reply": "2020-08-18T14:20:00.423375Z"
    },
    "papermill": {
     "duration": 0.060105,
     "end_time": "2020-08-18T14:20:00.423577",
     "exception": false,
     "start_time": "2020-08-18T14:20:00.363472",
     "status": "completed"
    },
    "tags": []
   },
   "outputs": [],
   "source": [
    "object_columns = object_columns.drop(['Heating','RoofMatl','Condition2','Street','Utilities'],axis=1)"
   ]
  },
  {
   "cell_type": "code",
   "execution_count": 24,
   "metadata": {
    "execution": {
     "iopub.execute_input": "2020-08-18T14:20:00.527941Z",
     "iopub.status.busy": "2020-08-18T14:20:00.524975Z",
     "iopub.status.idle": "2020-08-18T14:20:00.539372Z",
     "shell.execute_reply": "2020-08-18T14:20:00.538579Z"
    },
    "papermill": {
     "duration": 0.067432,
     "end_time": "2020-08-18T14:20:00.539531",
     "exception": false,
     "start_time": "2020-08-18T14:20:00.472099",
     "status": "completed"
    },
    "tags": []
   },
   "outputs": [
    {
     "data": {
      "text/plain": [
       "count    2919.000000\n",
       "mean       36.479959\n",
       "std        30.336182\n",
       "min        -1.000000\n",
       "25%         7.000000\n",
       "50%        35.000000\n",
       "75%        54.500000\n",
       "max       136.000000\n",
       "Name: Age_House, dtype: float64"
      ]
     },
     "execution_count": 24,
     "metadata": {},
     "output_type": "execute_result"
    }
   ],
   "source": [
    "numerical_columns['Age_House']=(numerical_columns['YrSold']-numerical_columns['YearBuilt'])\n",
    "numerical_columns['Age_House'].describe()"
   ]
  },
  {
   "cell_type": "code",
   "execution_count": 25,
   "metadata": {
    "execution": {
     "iopub.execute_input": "2020-08-18T14:20:00.640842Z",
     "iopub.status.busy": "2020-08-18T14:20:00.640045Z",
     "iopub.status.idle": "2020-08-18T14:20:00.667185Z",
     "shell.execute_reply": "2020-08-18T14:20:00.666507Z"
    },
    "papermill": {
     "duration": 0.079678,
     "end_time": "2020-08-18T14:20:00.667327",
     "exception": false,
     "start_time": "2020-08-18T14:20:00.587649",
     "status": "completed"
    },
    "tags": []
   },
   "outputs": [
    {
     "data": {
      "text/html": [
       "<div>\n",
       "<style scoped>\n",
       "    .dataframe tbody tr th:only-of-type {\n",
       "        vertical-align: middle;\n",
       "    }\n",
       "\n",
       "    .dataframe tbody tr th {\n",
       "        vertical-align: top;\n",
       "    }\n",
       "\n",
       "    .dataframe thead th {\n",
       "        text-align: right;\n",
       "    }\n",
       "</style>\n",
       "<table border=\"1\" class=\"dataframe\">\n",
       "  <thead>\n",
       "    <tr style=\"text-align: right;\">\n",
       "      <th></th>\n",
       "      <th>Id</th>\n",
       "      <th>MSSubClass</th>\n",
       "      <th>LotFrontage</th>\n",
       "      <th>LotArea</th>\n",
       "      <th>OverallQual</th>\n",
       "      <th>OverallCond</th>\n",
       "      <th>YearBuilt</th>\n",
       "      <th>YearRemodAdd</th>\n",
       "      <th>MasVnrArea</th>\n",
       "      <th>BsmtFinSF1</th>\n",
       "      <th>...</th>\n",
       "      <th>EnclosedPorch</th>\n",
       "      <th>3SsnPorch</th>\n",
       "      <th>ScreenPorch</th>\n",
       "      <th>PoolArea</th>\n",
       "      <th>MiscVal</th>\n",
       "      <th>MoSold</th>\n",
       "      <th>YrSold</th>\n",
       "      <th>SalePrice</th>\n",
       "      <th>train</th>\n",
       "      <th>Age_House</th>\n",
       "    </tr>\n",
       "  </thead>\n",
       "  <tbody>\n",
       "    <tr>\n",
       "      <th>1089</th>\n",
       "      <td>2550</td>\n",
       "      <td>20</td>\n",
       "      <td>128.0</td>\n",
       "      <td>39290</td>\n",
       "      <td>10</td>\n",
       "      <td>5</td>\n",
       "      <td>2008</td>\n",
       "      <td>2009</td>\n",
       "      <td>1224.0</td>\n",
       "      <td>4010.0</td>\n",
       "      <td>...</td>\n",
       "      <td>0</td>\n",
       "      <td>0</td>\n",
       "      <td>0</td>\n",
       "      <td>0</td>\n",
       "      <td>17000</td>\n",
       "      <td>10</td>\n",
       "      <td>2007</td>\n",
       "      <td>0.0</td>\n",
       "      <td>0</td>\n",
       "      <td>-1</td>\n",
       "    </tr>\n",
       "  </tbody>\n",
       "</table>\n",
       "<p>1 rows × 40 columns</p>\n",
       "</div>"
      ],
      "text/plain": [
       "        Id  MSSubClass  LotFrontage  LotArea  OverallQual  OverallCond  \\\n",
       "1089  2550          20        128.0    39290           10            5   \n",
       "\n",
       "      YearBuilt  YearRemodAdd  MasVnrArea  BsmtFinSF1  ...  EnclosedPorch  \\\n",
       "1089       2008          2009      1224.0      4010.0  ...              0   \n",
       "\n",
       "      3SsnPorch  ScreenPorch  PoolArea  MiscVal  MoSold  YrSold  SalePrice  \\\n",
       "1089          0            0         0    17000      10    2007        0.0   \n",
       "\n",
       "      train  Age_House  \n",
       "1089      0         -1  \n",
       "\n",
       "[1 rows x 40 columns]"
      ]
     },
     "execution_count": 25,
     "metadata": {},
     "output_type": "execute_result"
    }
   ],
   "source": [
    "Negatif = numerical_columns[numerical_columns['Age_House'] < 0]\n",
    "Negatif"
   ]
  },
  {
   "cell_type": "code",
   "execution_count": 26,
   "metadata": {
    "execution": {
     "iopub.execute_input": "2020-08-18T14:20:00.773564Z",
     "iopub.status.busy": "2020-08-18T14:20:00.772687Z",
     "iopub.status.idle": "2020-08-18T14:20:00.783390Z",
     "shell.execute_reply": "2020-08-18T14:20:00.782597Z"
    },
    "papermill": {
     "duration": 0.0682,
     "end_time": "2020-08-18T14:20:00.783543",
     "exception": false,
     "start_time": "2020-08-18T14:20:00.715343",
     "status": "completed"
    },
    "tags": []
   },
   "outputs": [
    {
     "data": {
      "text/plain": [
       "count    2919.000000\n",
       "mean       36.480644\n",
       "std        30.335358\n",
       "min         0.000000\n",
       "25%         7.000000\n",
       "50%        35.000000\n",
       "75%        54.500000\n",
       "max       136.000000\n",
       "Name: Age_House, dtype: float64"
      ]
     },
     "execution_count": 26,
     "metadata": {},
     "output_type": "execute_result"
    }
   ],
   "source": [
    "numerical_columns.loc[numerical_columns['YrSold'] < numerical_columns['YearBuilt'],'YrSold' ] = 2009\n",
    "numerical_columns['Age_House']= (numerical_columns['YrSold']-numerical_columns['YearBuilt'])\n",
    "numerical_columns['Age_House'].describe()"
   ]
  },
  {
   "cell_type": "code",
   "execution_count": 27,
   "metadata": {
    "execution": {
     "iopub.execute_input": "2020-08-18T14:20:00.892051Z",
     "iopub.status.busy": "2020-08-18T14:20:00.891205Z",
     "iopub.status.idle": "2020-08-18T14:20:00.895293Z",
     "shell.execute_reply": "2020-08-18T14:20:00.894468Z"
    },
    "papermill": {
     "duration": 0.063839,
     "end_time": "2020-08-18T14:20:00.895458",
     "exception": false,
     "start_time": "2020-08-18T14:20:00.831619",
     "status": "completed"
    },
    "tags": []
   },
   "outputs": [],
   "source": [
    "numerical_columns['TotalBsmtBath'] = numerical_columns['BsmtFullBath'] + numerical_columns['BsmtFullBath']*0.5\n",
    "numerical_columns['TotalBath'] = numerical_columns['FullBath'] + numerical_columns['HalfBath']*0.5 \n",
    "numerical_columns['TotalSA']=numerical_columns['TotalBsmtSF'] + numerical_columns['1stFlrSF'] + numerical_columns['2ndFlrSF']"
   ]
  },
  {
   "cell_type": "code",
   "execution_count": 28,
   "metadata": {
    "execution": {
     "iopub.execute_input": "2020-08-18T14:20:01.019863Z",
     "iopub.status.busy": "2020-08-18T14:20:01.012059Z",
     "iopub.status.idle": "2020-08-18T14:20:01.037631Z",
     "shell.execute_reply": "2020-08-18T14:20:01.036726Z"
    },
    "papermill": {
     "duration": 0.093538,
     "end_time": "2020-08-18T14:20:01.037791",
     "exception": false,
     "start_time": "2020-08-18T14:20:00.944253",
     "status": "completed"
    },
    "tags": []
   },
   "outputs": [
    {
     "data": {
      "text/html": [
       "<div>\n",
       "<style scoped>\n",
       "    .dataframe tbody tr th:only-of-type {\n",
       "        vertical-align: middle;\n",
       "    }\n",
       "\n",
       "    .dataframe tbody tr th {\n",
       "        vertical-align: top;\n",
       "    }\n",
       "\n",
       "    .dataframe thead th {\n",
       "        text-align: right;\n",
       "    }\n",
       "</style>\n",
       "<table border=\"1\" class=\"dataframe\">\n",
       "  <thead>\n",
       "    <tr style=\"text-align: right;\">\n",
       "      <th></th>\n",
       "      <th>Id</th>\n",
       "      <th>MSSubClass</th>\n",
       "      <th>LotFrontage</th>\n",
       "      <th>LotArea</th>\n",
       "      <th>OverallQual</th>\n",
       "      <th>OverallCond</th>\n",
       "      <th>YearBuilt</th>\n",
       "      <th>YearRemodAdd</th>\n",
       "      <th>MasVnrArea</th>\n",
       "      <th>BsmtFinSF1</th>\n",
       "      <th>...</th>\n",
       "      <th>PoolArea</th>\n",
       "      <th>MiscVal</th>\n",
       "      <th>MoSold</th>\n",
       "      <th>YrSold</th>\n",
       "      <th>SalePrice</th>\n",
       "      <th>train</th>\n",
       "      <th>Age_House</th>\n",
       "      <th>TotalBsmtBath</th>\n",
       "      <th>TotalBath</th>\n",
       "      <th>TotalSA</th>\n",
       "    </tr>\n",
       "  </thead>\n",
       "  <tbody>\n",
       "    <tr>\n",
       "      <th>0</th>\n",
       "      <td>1</td>\n",
       "      <td>60</td>\n",
       "      <td>65.0</td>\n",
       "      <td>8450</td>\n",
       "      <td>7</td>\n",
       "      <td>5</td>\n",
       "      <td>2003</td>\n",
       "      <td>2003</td>\n",
       "      <td>196.0</td>\n",
       "      <td>706.0</td>\n",
       "      <td>...</td>\n",
       "      <td>0</td>\n",
       "      <td>0</td>\n",
       "      <td>2</td>\n",
       "      <td>2008</td>\n",
       "      <td>208500.0</td>\n",
       "      <td>1</td>\n",
       "      <td>5</td>\n",
       "      <td>1.5</td>\n",
       "      <td>2.5</td>\n",
       "      <td>2566.0</td>\n",
       "    </tr>\n",
       "    <tr>\n",
       "      <th>1</th>\n",
       "      <td>2</td>\n",
       "      <td>20</td>\n",
       "      <td>80.0</td>\n",
       "      <td>9600</td>\n",
       "      <td>6</td>\n",
       "      <td>8</td>\n",
       "      <td>1976</td>\n",
       "      <td>1976</td>\n",
       "      <td>0.0</td>\n",
       "      <td>978.0</td>\n",
       "      <td>...</td>\n",
       "      <td>0</td>\n",
       "      <td>0</td>\n",
       "      <td>5</td>\n",
       "      <td>2007</td>\n",
       "      <td>181500.0</td>\n",
       "      <td>1</td>\n",
       "      <td>31</td>\n",
       "      <td>0.0</td>\n",
       "      <td>2.0</td>\n",
       "      <td>2524.0</td>\n",
       "    </tr>\n",
       "    <tr>\n",
       "      <th>2</th>\n",
       "      <td>3</td>\n",
       "      <td>60</td>\n",
       "      <td>68.0</td>\n",
       "      <td>11250</td>\n",
       "      <td>7</td>\n",
       "      <td>5</td>\n",
       "      <td>2001</td>\n",
       "      <td>2002</td>\n",
       "      <td>162.0</td>\n",
       "      <td>486.0</td>\n",
       "      <td>...</td>\n",
       "      <td>0</td>\n",
       "      <td>0</td>\n",
       "      <td>9</td>\n",
       "      <td>2008</td>\n",
       "      <td>223500.0</td>\n",
       "      <td>1</td>\n",
       "      <td>7</td>\n",
       "      <td>1.5</td>\n",
       "      <td>2.5</td>\n",
       "      <td>2706.0</td>\n",
       "    </tr>\n",
       "    <tr>\n",
       "      <th>3</th>\n",
       "      <td>4</td>\n",
       "      <td>70</td>\n",
       "      <td>60.0</td>\n",
       "      <td>9550</td>\n",
       "      <td>7</td>\n",
       "      <td>5</td>\n",
       "      <td>1915</td>\n",
       "      <td>1970</td>\n",
       "      <td>0.0</td>\n",
       "      <td>216.0</td>\n",
       "      <td>...</td>\n",
       "      <td>0</td>\n",
       "      <td>0</td>\n",
       "      <td>2</td>\n",
       "      <td>2006</td>\n",
       "      <td>140000.0</td>\n",
       "      <td>1</td>\n",
       "      <td>91</td>\n",
       "      <td>1.5</td>\n",
       "      <td>1.0</td>\n",
       "      <td>2473.0</td>\n",
       "    </tr>\n",
       "    <tr>\n",
       "      <th>4</th>\n",
       "      <td>5</td>\n",
       "      <td>60</td>\n",
       "      <td>84.0</td>\n",
       "      <td>14260</td>\n",
       "      <td>8</td>\n",
       "      <td>5</td>\n",
       "      <td>2000</td>\n",
       "      <td>2000</td>\n",
       "      <td>350.0</td>\n",
       "      <td>655.0</td>\n",
       "      <td>...</td>\n",
       "      <td>0</td>\n",
       "      <td>0</td>\n",
       "      <td>12</td>\n",
       "      <td>2008</td>\n",
       "      <td>250000.0</td>\n",
       "      <td>1</td>\n",
       "      <td>8</td>\n",
       "      <td>1.5</td>\n",
       "      <td>2.5</td>\n",
       "      <td>3343.0</td>\n",
       "    </tr>\n",
       "  </tbody>\n",
       "</table>\n",
       "<p>5 rows × 43 columns</p>\n",
       "</div>"
      ],
      "text/plain": [
       "   Id  MSSubClass  LotFrontage  LotArea  OverallQual  OverallCond  YearBuilt  \\\n",
       "0   1          60         65.0     8450            7            5       2003   \n",
       "1   2          20         80.0     9600            6            8       1976   \n",
       "2   3          60         68.0    11250            7            5       2001   \n",
       "3   4          70         60.0     9550            7            5       1915   \n",
       "4   5          60         84.0    14260            8            5       2000   \n",
       "\n",
       "   YearRemodAdd  MasVnrArea  BsmtFinSF1  ...  PoolArea  MiscVal  MoSold  \\\n",
       "0          2003       196.0       706.0  ...         0        0       2   \n",
       "1          1976         0.0       978.0  ...         0        0       5   \n",
       "2          2002       162.0       486.0  ...         0        0       9   \n",
       "3          1970         0.0       216.0  ...         0        0       2   \n",
       "4          2000       350.0       655.0  ...         0        0      12   \n",
       "\n",
       "   YrSold  SalePrice  train  Age_House  TotalBsmtBath  TotalBath  TotalSA  \n",
       "0    2008   208500.0      1          5            1.5        2.5   2566.0  \n",
       "1    2007   181500.0      1         31            0.0        2.0   2524.0  \n",
       "2    2008   223500.0      1          7            1.5        2.5   2706.0  \n",
       "3    2006   140000.0      1         91            1.5        1.0   2473.0  \n",
       "4    2008   250000.0      1          8            1.5        2.5   3343.0  \n",
       "\n",
       "[5 rows x 43 columns]"
      ]
     },
     "execution_count": 28,
     "metadata": {},
     "output_type": "execute_result"
    }
   ],
   "source": [
    "numerical_columns.head()"
   ]
  },
  {
   "cell_type": "code",
   "execution_count": 29,
   "metadata": {
    "execution": {
     "iopub.execute_input": "2020-08-18T14:20:01.157858Z",
     "iopub.status.busy": "2020-08-18T14:20:01.151761Z",
     "iopub.status.idle": "2020-08-18T14:20:01.197591Z",
     "shell.execute_reply": "2020-08-18T14:20:01.196861Z"
    },
    "papermill": {
     "duration": 0.109475,
     "end_time": "2020-08-18T14:20:01.197730",
     "exception": false,
     "start_time": "2020-08-18T14:20:01.088255",
     "status": "completed"
    },
    "tags": []
   },
   "outputs": [],
   "source": [
    "bin_map  = {'TA':2,'Gd':3, 'Fa':1,'Ex':4,'Po':1,'None':0,'Y':1,'N':0,'Reg':3,'IR1':2,'IR2':1,'IR3':0,\"None\" : 0,\n",
    "            \"No\" : 2, \"Mn\" : 2, \"Av\": 3,\"Gd\" : 4,\"Unf\" : 1, \"LwQ\": 2, \"Rec\" : 3,\"BLQ\" : 4, \"ALQ\" : 5, \"GLQ\" : 6\n",
    "            }\n",
    "object_columns['ExterQual'] = object_columns['ExterQual'].map(bin_map)\n",
    "object_columns['ExterCond'] = object_columns['ExterCond'].map(bin_map)\n",
    "object_columns['BsmtCond'] = object_columns['BsmtCond'].map(bin_map)\n",
    "object_columns['BsmtQual'] = object_columns['BsmtQual'].map(bin_map)\n",
    "object_columns['HeatingQC'] = object_columns['HeatingQC'].map(bin_map)\n",
    "object_columns['KitchenQual'] = object_columns['KitchenQual'].map(bin_map)\n",
    "object_columns['FireplaceQu'] = object_columns['FireplaceQu'].map(bin_map)\n",
    "object_columns['GarageQual'] = object_columns['GarageQual'].map(bin_map)\n",
    "object_columns['GarageCond'] = object_columns['GarageCond'].map(bin_map)\n",
    "\n",
    "object_columns['CentralAir'] = object_columns['CentralAir'].map(bin_map)\n",
    "object_columns['LotShape'] = object_columns['LotShape'].map(bin_map)\n",
    "object_columns['BsmtExposure'] = object_columns['BsmtExposure'].map(bin_map)\n",
    "object_columns['BsmtFinType1'] = object_columns['BsmtFinType1'].map(bin_map)\n",
    "object_columns['BsmtFinType2'] = object_columns['BsmtFinType2'].map(bin_map)\n",
    "\n",
    "PavedDrive =   {\"N\" : 0, \"P\" : 1, \"Y\" : 2}\n",
    "object_columns['PavedDrive'] = object_columns['PavedDrive'].map(PavedDrive)"
   ]
  },
  {
   "cell_type": "code",
   "execution_count": 30,
   "metadata": {
    "execution": {
     "iopub.execute_input": "2020-08-18T14:20:01.306913Z",
     "iopub.status.busy": "2020-08-18T14:20:01.306053Z",
     "iopub.status.idle": "2020-08-18T14:20:01.341566Z",
     "shell.execute_reply": "2020-08-18T14:20:01.342209Z"
    },
    "papermill": {
     "duration": 0.095013,
     "end_time": "2020-08-18T14:20:01.342386",
     "exception": false,
     "start_time": "2020-08-18T14:20:01.247373",
     "status": "completed"
    },
    "tags": []
   },
   "outputs": [],
   "source": [
    "#Select categorical features\n",
    "rest_object_columns = object_columns.select_dtypes(include=['object'])\n",
    "#Using One hot encoder\n",
    "object_columns= pd.get_dummies(object_columns, columns=rest_object_columns.columns) "
   ]
  },
  {
   "cell_type": "code",
   "execution_count": 31,
   "metadata": {
    "execution": {
     "iopub.execute_input": "2020-08-18T14:20:01.449385Z",
     "iopub.status.busy": "2020-08-18T14:20:01.448585Z",
     "iopub.status.idle": "2020-08-18T14:20:01.470940Z",
     "shell.execute_reply": "2020-08-18T14:20:01.470256Z"
    },
    "papermill": {
     "duration": 0.078403,
     "end_time": "2020-08-18T14:20:01.471078",
     "exception": false,
     "start_time": "2020-08-18T14:20:01.392675",
     "status": "completed"
    },
    "tags": []
   },
   "outputs": [
    {
     "data": {
      "text/html": [
       "<div>\n",
       "<style scoped>\n",
       "    .dataframe tbody tr th:only-of-type {\n",
       "        vertical-align: middle;\n",
       "    }\n",
       "\n",
       "    .dataframe tbody tr th {\n",
       "        vertical-align: top;\n",
       "    }\n",
       "\n",
       "    .dataframe thead th {\n",
       "        text-align: right;\n",
       "    }\n",
       "</style>\n",
       "<table border=\"1\" class=\"dataframe\">\n",
       "  <thead>\n",
       "    <tr style=\"text-align: right;\">\n",
       "      <th></th>\n",
       "      <th>LotShape</th>\n",
       "      <th>ExterQual</th>\n",
       "      <th>ExterCond</th>\n",
       "      <th>BsmtQual</th>\n",
       "      <th>BsmtCond</th>\n",
       "      <th>BsmtExposure</th>\n",
       "      <th>BsmtFinType1</th>\n",
       "      <th>BsmtFinType2</th>\n",
       "      <th>HeatingQC</th>\n",
       "      <th>CentralAir</th>\n",
       "      <th>...</th>\n",
       "      <th>SaleType_ConLw</th>\n",
       "      <th>SaleType_New</th>\n",
       "      <th>SaleType_Oth</th>\n",
       "      <th>SaleType_WD</th>\n",
       "      <th>SaleCondition_Abnorml</th>\n",
       "      <th>SaleCondition_AdjLand</th>\n",
       "      <th>SaleCondition_Alloca</th>\n",
       "      <th>SaleCondition_Family</th>\n",
       "      <th>SaleCondition_Normal</th>\n",
       "      <th>SaleCondition_Partial</th>\n",
       "    </tr>\n",
       "  </thead>\n",
       "  <tbody>\n",
       "    <tr>\n",
       "      <th>0</th>\n",
       "      <td>3</td>\n",
       "      <td>4</td>\n",
       "      <td>2</td>\n",
       "      <td>4</td>\n",
       "      <td>2</td>\n",
       "      <td>2</td>\n",
       "      <td>6</td>\n",
       "      <td>1</td>\n",
       "      <td>4</td>\n",
       "      <td>1</td>\n",
       "      <td>...</td>\n",
       "      <td>0</td>\n",
       "      <td>0</td>\n",
       "      <td>0</td>\n",
       "      <td>1</td>\n",
       "      <td>0</td>\n",
       "      <td>0</td>\n",
       "      <td>0</td>\n",
       "      <td>0</td>\n",
       "      <td>1</td>\n",
       "      <td>0</td>\n",
       "    </tr>\n",
       "    <tr>\n",
       "      <th>1</th>\n",
       "      <td>3</td>\n",
       "      <td>2</td>\n",
       "      <td>2</td>\n",
       "      <td>4</td>\n",
       "      <td>2</td>\n",
       "      <td>4</td>\n",
       "      <td>5</td>\n",
       "      <td>1</td>\n",
       "      <td>4</td>\n",
       "      <td>1</td>\n",
       "      <td>...</td>\n",
       "      <td>0</td>\n",
       "      <td>0</td>\n",
       "      <td>0</td>\n",
       "      <td>1</td>\n",
       "      <td>0</td>\n",
       "      <td>0</td>\n",
       "      <td>0</td>\n",
       "      <td>0</td>\n",
       "      <td>1</td>\n",
       "      <td>0</td>\n",
       "    </tr>\n",
       "    <tr>\n",
       "      <th>2</th>\n",
       "      <td>2</td>\n",
       "      <td>4</td>\n",
       "      <td>2</td>\n",
       "      <td>4</td>\n",
       "      <td>2</td>\n",
       "      <td>2</td>\n",
       "      <td>6</td>\n",
       "      <td>1</td>\n",
       "      <td>4</td>\n",
       "      <td>1</td>\n",
       "      <td>...</td>\n",
       "      <td>0</td>\n",
       "      <td>0</td>\n",
       "      <td>0</td>\n",
       "      <td>1</td>\n",
       "      <td>0</td>\n",
       "      <td>0</td>\n",
       "      <td>0</td>\n",
       "      <td>0</td>\n",
       "      <td>1</td>\n",
       "      <td>0</td>\n",
       "    </tr>\n",
       "    <tr>\n",
       "      <th>3</th>\n",
       "      <td>2</td>\n",
       "      <td>2</td>\n",
       "      <td>2</td>\n",
       "      <td>2</td>\n",
       "      <td>4</td>\n",
       "      <td>2</td>\n",
       "      <td>5</td>\n",
       "      <td>1</td>\n",
       "      <td>4</td>\n",
       "      <td>1</td>\n",
       "      <td>...</td>\n",
       "      <td>0</td>\n",
       "      <td>0</td>\n",
       "      <td>0</td>\n",
       "      <td>1</td>\n",
       "      <td>1</td>\n",
       "      <td>0</td>\n",
       "      <td>0</td>\n",
       "      <td>0</td>\n",
       "      <td>0</td>\n",
       "      <td>0</td>\n",
       "    </tr>\n",
       "    <tr>\n",
       "      <th>4</th>\n",
       "      <td>2</td>\n",
       "      <td>4</td>\n",
       "      <td>2</td>\n",
       "      <td>4</td>\n",
       "      <td>2</td>\n",
       "      <td>3</td>\n",
       "      <td>6</td>\n",
       "      <td>1</td>\n",
       "      <td>4</td>\n",
       "      <td>1</td>\n",
       "      <td>...</td>\n",
       "      <td>0</td>\n",
       "      <td>0</td>\n",
       "      <td>0</td>\n",
       "      <td>1</td>\n",
       "      <td>0</td>\n",
       "      <td>0</td>\n",
       "      <td>0</td>\n",
       "      <td>0</td>\n",
       "      <td>1</td>\n",
       "      <td>0</td>\n",
       "    </tr>\n",
       "  </tbody>\n",
       "</table>\n",
       "<p>5 rows × 164 columns</p>\n",
       "</div>"
      ],
      "text/plain": [
       "   LotShape  ExterQual  ExterCond  BsmtQual  BsmtCond  BsmtExposure  \\\n",
       "0         3          4          2         4         2             2   \n",
       "1         3          2          2         4         2             4   \n",
       "2         2          4          2         4         2             2   \n",
       "3         2          2          2         2         4             2   \n",
       "4         2          4          2         4         2             3   \n",
       "\n",
       "   BsmtFinType1  BsmtFinType2  HeatingQC  CentralAir  ...  SaleType_ConLw  \\\n",
       "0             6             1          4           1  ...               0   \n",
       "1             5             1          4           1  ...               0   \n",
       "2             6             1          4           1  ...               0   \n",
       "3             5             1          4           1  ...               0   \n",
       "4             6             1          4           1  ...               0   \n",
       "\n",
       "   SaleType_New  SaleType_Oth  SaleType_WD  SaleCondition_Abnorml  \\\n",
       "0             0             0            1                      0   \n",
       "1             0             0            1                      0   \n",
       "2             0             0            1                      0   \n",
       "3             0             0            1                      1   \n",
       "4             0             0            1                      0   \n",
       "\n",
       "   SaleCondition_AdjLand  SaleCondition_Alloca  SaleCondition_Family  \\\n",
       "0                      0                     0                     0   \n",
       "1                      0                     0                     0   \n",
       "2                      0                     0                     0   \n",
       "3                      0                     0                     0   \n",
       "4                      0                     0                     0   \n",
       "\n",
       "   SaleCondition_Normal  SaleCondition_Partial  \n",
       "0                     1                      0  \n",
       "1                     1                      0  \n",
       "2                     1                      0  \n",
       "3                     0                      0  \n",
       "4                     1                      0  \n",
       "\n",
       "[5 rows x 164 columns]"
      ]
     },
     "execution_count": 31,
     "metadata": {},
     "output_type": "execute_result"
    }
   ],
   "source": [
    "object_columns.head()"
   ]
  },
  {
   "cell_type": "code",
   "execution_count": 32,
   "metadata": {
    "execution": {
     "iopub.execute_input": "2020-08-18T14:20:01.580060Z",
     "iopub.status.busy": "2020-08-18T14:20:01.578893Z",
     "iopub.status.idle": "2020-08-18T14:20:01.613994Z",
     "shell.execute_reply": "2020-08-18T14:20:01.613085Z"
    },
    "papermill": {
     "duration": 0.092378,
     "end_time": "2020-08-18T14:20:01.614142",
     "exception": false,
     "start_time": "2020-08-18T14:20:01.521764",
     "status": "completed"
    },
    "tags": []
   },
   "outputs": [
    {
     "data": {
      "text/html": [
       "<div>\n",
       "<style scoped>\n",
       "    .dataframe tbody tr th:only-of-type {\n",
       "        vertical-align: middle;\n",
       "    }\n",
       "\n",
       "    .dataframe tbody tr th {\n",
       "        vertical-align: top;\n",
       "    }\n",
       "\n",
       "    .dataframe thead th {\n",
       "        text-align: right;\n",
       "    }\n",
       "</style>\n",
       "<table border=\"1\" class=\"dataframe\">\n",
       "  <thead>\n",
       "    <tr style=\"text-align: right;\">\n",
       "      <th></th>\n",
       "      <th>LotShape</th>\n",
       "      <th>ExterQual</th>\n",
       "      <th>ExterCond</th>\n",
       "      <th>BsmtQual</th>\n",
       "      <th>BsmtCond</th>\n",
       "      <th>BsmtExposure</th>\n",
       "      <th>BsmtFinType1</th>\n",
       "      <th>BsmtFinType2</th>\n",
       "      <th>HeatingQC</th>\n",
       "      <th>CentralAir</th>\n",
       "      <th>...</th>\n",
       "      <th>PoolArea</th>\n",
       "      <th>MiscVal</th>\n",
       "      <th>MoSold</th>\n",
       "      <th>YrSold</th>\n",
       "      <th>SalePrice</th>\n",
       "      <th>train</th>\n",
       "      <th>Age_House</th>\n",
       "      <th>TotalBsmtBath</th>\n",
       "      <th>TotalBath</th>\n",
       "      <th>TotalSA</th>\n",
       "    </tr>\n",
       "  </thead>\n",
       "  <tbody>\n",
       "    <tr>\n",
       "      <th>0</th>\n",
       "      <td>3</td>\n",
       "      <td>4</td>\n",
       "      <td>2</td>\n",
       "      <td>4</td>\n",
       "      <td>2</td>\n",
       "      <td>2</td>\n",
       "      <td>6</td>\n",
       "      <td>1</td>\n",
       "      <td>4</td>\n",
       "      <td>1</td>\n",
       "      <td>...</td>\n",
       "      <td>0</td>\n",
       "      <td>0</td>\n",
       "      <td>2</td>\n",
       "      <td>2008</td>\n",
       "      <td>208500.0</td>\n",
       "      <td>1</td>\n",
       "      <td>5</td>\n",
       "      <td>1.5</td>\n",
       "      <td>2.5</td>\n",
       "      <td>2566.0</td>\n",
       "    </tr>\n",
       "    <tr>\n",
       "      <th>1</th>\n",
       "      <td>3</td>\n",
       "      <td>2</td>\n",
       "      <td>2</td>\n",
       "      <td>4</td>\n",
       "      <td>2</td>\n",
       "      <td>4</td>\n",
       "      <td>5</td>\n",
       "      <td>1</td>\n",
       "      <td>4</td>\n",
       "      <td>1</td>\n",
       "      <td>...</td>\n",
       "      <td>0</td>\n",
       "      <td>0</td>\n",
       "      <td>5</td>\n",
       "      <td>2007</td>\n",
       "      <td>181500.0</td>\n",
       "      <td>1</td>\n",
       "      <td>31</td>\n",
       "      <td>0.0</td>\n",
       "      <td>2.0</td>\n",
       "      <td>2524.0</td>\n",
       "    </tr>\n",
       "    <tr>\n",
       "      <th>2</th>\n",
       "      <td>2</td>\n",
       "      <td>4</td>\n",
       "      <td>2</td>\n",
       "      <td>4</td>\n",
       "      <td>2</td>\n",
       "      <td>2</td>\n",
       "      <td>6</td>\n",
       "      <td>1</td>\n",
       "      <td>4</td>\n",
       "      <td>1</td>\n",
       "      <td>...</td>\n",
       "      <td>0</td>\n",
       "      <td>0</td>\n",
       "      <td>9</td>\n",
       "      <td>2008</td>\n",
       "      <td>223500.0</td>\n",
       "      <td>1</td>\n",
       "      <td>7</td>\n",
       "      <td>1.5</td>\n",
       "      <td>2.5</td>\n",
       "      <td>2706.0</td>\n",
       "    </tr>\n",
       "    <tr>\n",
       "      <th>3</th>\n",
       "      <td>2</td>\n",
       "      <td>2</td>\n",
       "      <td>2</td>\n",
       "      <td>2</td>\n",
       "      <td>4</td>\n",
       "      <td>2</td>\n",
       "      <td>5</td>\n",
       "      <td>1</td>\n",
       "      <td>4</td>\n",
       "      <td>1</td>\n",
       "      <td>...</td>\n",
       "      <td>0</td>\n",
       "      <td>0</td>\n",
       "      <td>2</td>\n",
       "      <td>2006</td>\n",
       "      <td>140000.0</td>\n",
       "      <td>1</td>\n",
       "      <td>91</td>\n",
       "      <td>1.5</td>\n",
       "      <td>1.0</td>\n",
       "      <td>2473.0</td>\n",
       "    </tr>\n",
       "    <tr>\n",
       "      <th>4</th>\n",
       "      <td>2</td>\n",
       "      <td>4</td>\n",
       "      <td>2</td>\n",
       "      <td>4</td>\n",
       "      <td>2</td>\n",
       "      <td>3</td>\n",
       "      <td>6</td>\n",
       "      <td>1</td>\n",
       "      <td>4</td>\n",
       "      <td>1</td>\n",
       "      <td>...</td>\n",
       "      <td>0</td>\n",
       "      <td>0</td>\n",
       "      <td>12</td>\n",
       "      <td>2008</td>\n",
       "      <td>250000.0</td>\n",
       "      <td>1</td>\n",
       "      <td>8</td>\n",
       "      <td>1.5</td>\n",
       "      <td>2.5</td>\n",
       "      <td>3343.0</td>\n",
       "    </tr>\n",
       "  </tbody>\n",
       "</table>\n",
       "<p>5 rows × 207 columns</p>\n",
       "</div>"
      ],
      "text/plain": [
       "   LotShape  ExterQual  ExterCond  BsmtQual  BsmtCond  BsmtExposure  \\\n",
       "0         3          4          2         4         2             2   \n",
       "1         3          2          2         4         2             4   \n",
       "2         2          4          2         4         2             2   \n",
       "3         2          2          2         2         4             2   \n",
       "4         2          4          2         4         2             3   \n",
       "\n",
       "   BsmtFinType1  BsmtFinType2  HeatingQC  CentralAir  ...  PoolArea  MiscVal  \\\n",
       "0             6             1          4           1  ...         0        0   \n",
       "1             5             1          4           1  ...         0        0   \n",
       "2             6             1          4           1  ...         0        0   \n",
       "3             5             1          4           1  ...         0        0   \n",
       "4             6             1          4           1  ...         0        0   \n",
       "\n",
       "   MoSold  YrSold  SalePrice  train  Age_House  TotalBsmtBath  TotalBath  \\\n",
       "0       2    2008   208500.0      1          5            1.5        2.5   \n",
       "1       5    2007   181500.0      1         31            0.0        2.0   \n",
       "2       9    2008   223500.0      1          7            1.5        2.5   \n",
       "3       2    2006   140000.0      1         91            1.5        1.0   \n",
       "4      12    2008   250000.0      1          8            1.5        2.5   \n",
       "\n",
       "   TotalSA  \n",
       "0   2566.0  \n",
       "1   2524.0  \n",
       "2   2706.0  \n",
       "3   2473.0  \n",
       "4   3343.0  \n",
       "\n",
       "[5 rows x 207 columns]"
      ]
     },
     "execution_count": 32,
     "metadata": {},
     "output_type": "execute_result"
    }
   ],
   "source": [
    "df_final = pd.concat([object_columns, numerical_columns], axis=1,sort=False)\n",
    "df_final.head()"
   ]
  },
  {
   "cell_type": "code",
   "execution_count": 33,
   "metadata": {
    "execution": {
     "iopub.execute_input": "2020-08-18T14:20:01.732862Z",
     "iopub.status.busy": "2020-08-18T14:20:01.731699Z",
     "iopub.status.idle": "2020-08-18T14:20:01.755163Z",
     "shell.execute_reply": "2020-08-18T14:20:01.754425Z"
    },
    "papermill": {
     "duration": 0.083641,
     "end_time": "2020-08-18T14:20:01.755302",
     "exception": false,
     "start_time": "2020-08-18T14:20:01.671661",
     "status": "completed"
    },
    "tags": []
   },
   "outputs": [],
   "source": [
    "df_final = df_final.drop(['Id',],axis=1)\n",
    "\n",
    "df_train = df_final[df_final['train'] == 1]\n",
    "df_train = df_train.drop(['train',],axis=1)\n",
    "\n",
    "\n",
    "df_test = df_final[df_final['train'] == 0]\n",
    "df_test = df_test.drop(['SalePrice'],axis=1)\n",
    "df_test = df_test.drop(['train',],axis=1)"
   ]
  },
  {
   "cell_type": "code",
   "execution_count": 34,
   "metadata": {
    "execution": {
     "iopub.execute_input": "2020-08-18T14:20:01.866135Z",
     "iopub.status.busy": "2020-08-18T14:20:01.865179Z",
     "iopub.status.idle": "2020-08-18T14:20:01.869826Z",
     "shell.execute_reply": "2020-08-18T14:20:01.869044Z"
    },
    "papermill": {
     "duration": 0.063177,
     "end_time": "2020-08-18T14:20:01.869959",
     "exception": false,
     "start_time": "2020-08-18T14:20:01.806782",
     "status": "completed"
    },
    "tags": []
   },
   "outputs": [],
   "source": [
    "target= df_train['SalePrice']\n",
    "df_train = df_train.drop(['SalePrice'],axis=1)"
   ]
  },
  {
   "cell_type": "code",
   "execution_count": 35,
   "metadata": {
    "execution": {
     "iopub.execute_input": "2020-08-18T14:20:01.983364Z",
     "iopub.status.busy": "2020-08-18T14:20:01.982498Z",
     "iopub.status.idle": "2020-08-18T14:20:01.989899Z",
     "shell.execute_reply": "2020-08-18T14:20:01.989117Z"
    },
    "papermill": {
     "duration": 0.067841,
     "end_time": "2020-08-18T14:20:01.990044",
     "exception": false,
     "start_time": "2020-08-18T14:20:01.922203",
     "status": "completed"
    },
    "tags": []
   },
   "outputs": [],
   "source": [
    "x_train,x_test,y_train,y_test = train_test_split(df_train,target,test_size=0.33,random_state=0)\n"
   ]
  },
  {
   "cell_type": "code",
   "execution_count": 36,
   "metadata": {
    "execution": {
     "iopub.execute_input": "2020-08-18T14:20:02.108380Z",
     "iopub.status.busy": "2020-08-18T14:20:02.107136Z",
     "iopub.status.idle": "2020-08-18T14:20:02.111149Z",
     "shell.execute_reply": "2020-08-18T14:20:02.110516Z"
    },
    "papermill": {
     "duration": 0.068465,
     "end_time": "2020-08-18T14:20:02.111298",
     "exception": false,
     "start_time": "2020-08-18T14:20:02.042833",
     "status": "completed"
    },
    "tags": []
   },
   "outputs": [],
   "source": [
    "   xgb =XGBRegressor( booster='gbtree', colsample_bylevel=1,\n",
    "             colsample_bynode=1, colsample_bytree=0.6, gamma=0,\n",
    "             importance_type='gain', learning_rate=0.01, max_delta_step=0,\n",
    "             max_depth=4, min_child_weight=1.5, n_estimators=2400,\n",
    "             n_jobs=1, nthread=None, objective='reg:linear',\n",
    "             reg_alpha=0.6, reg_lambda=0.6, scale_pos_weight=1, \n",
    "             silent=None, subsample=0.8, verbosity=1)\n",
    "\n",
    "    \n",
    "lgbm = LGBMRegressor(objective='regression', \n",
    "                                       num_leaves=4,\n",
    "                                       learning_rate=0.01, \n",
    "                                       n_estimators=12000, \n",
    "                                       max_bin=200, \n",
    "                                       bagging_fraction=0.75,\n",
    "                                       bagging_freq=5, \n",
    "                                       bagging_seed=7,\n",
    "                                       feature_fraction=0.4, \n",
    "                                       )  "
   ]
  },
  {
   "cell_type": "code",
   "execution_count": 37,
   "metadata": {
    "execution": {
     "iopub.execute_input": "2020-08-18T14:20:02.228874Z",
     "iopub.status.busy": "2020-08-18T14:20:02.227952Z",
     "iopub.status.idle": "2020-08-18T14:20:21.771035Z",
     "shell.execute_reply": "2020-08-18T14:20:21.771620Z"
    },
    "papermill": {
     "duration": 19.607299,
     "end_time": "2020-08-18T14:20:21.771815",
     "exception": false,
     "start_time": "2020-08-18T14:20:02.164516",
     "status": "completed"
    },
    "tags": []
   },
   "outputs": [
    {
     "name": "stdout",
     "output_type": "stream",
     "text": [
      "[14:20:02] WARNING: /workspace/src/objective/regression_obj.cu:170: reg:linear is now deprecated in favor of reg:squarederror.\n",
      "[14:20:16] WARNING: /workspace/src/objective/regression_obj.cu:170: reg:linear is now deprecated in favor of reg:squarederror.\n"
     ]
    },
    {
     "data": {
      "text/plain": [
       "LGBMRegressor(bagging_fraction=0.75, bagging_freq=5, bagging_seed=7,\n",
       "              feature_fraction=0.4, learning_rate=0.01, max_bin=200,\n",
       "              n_estimators=12000, num_leaves=4, objective='regression')"
      ]
     },
     "execution_count": 37,
     "metadata": {},
     "output_type": "execute_result"
    }
   ],
   "source": [
    "xgb.fit(x_train,y_train)\n",
    "lgbm.fit(x_train,y_train,eval_metric='rmse')"
   ]
  },
  {
   "cell_type": "code",
   "execution_count": 38,
   "metadata": {
    "execution": {
     "iopub.execute_input": "2020-08-18T14:20:21.892672Z",
     "iopub.status.busy": "2020-08-18T14:20:21.891868Z",
     "iopub.status.idle": "2020-08-18T14:20:22.270574Z",
     "shell.execute_reply": "2020-08-18T14:20:22.269748Z"
    },
    "papermill": {
     "duration": 0.444659,
     "end_time": "2020-08-18T14:20:22.270721",
     "exception": false,
     "start_time": "2020-08-18T14:20:21.826062",
     "status": "completed"
    },
    "tags": []
   },
   "outputs": [],
   "source": [
    "predict1 = xgb.predict(x_test)\n",
    "predict = lgbm.predict(x_test)\n"
   ]
  },
  {
   "cell_type": "code",
   "execution_count": 39,
   "metadata": {
    "execution": {
     "iopub.execute_input": "2020-08-18T14:20:22.386395Z",
     "iopub.status.busy": "2020-08-18T14:20:22.384283Z",
     "iopub.status.idle": "2020-08-18T14:20:22.391053Z",
     "shell.execute_reply": "2020-08-18T14:20:22.390464Z"
    },
    "papermill": {
     "duration": 0.066999,
     "end_time": "2020-08-18T14:20:22.391198",
     "exception": false,
     "start_time": "2020-08-18T14:20:22.324199",
     "status": "completed"
    },
    "tags": []
   },
   "outputs": [
    {
     "name": "stdout",
     "output_type": "stream",
     "text": [
      "Root Mean Square Error test = 26089.30803984919\n",
      "Root Mean Square Error test = 26726.198278903514\n"
     ]
    }
   ],
   "source": [
    "\n",
    "print('Root Mean Square Error test = ' + str(math.sqrt(metrics.mean_squared_error(y_test, predict1))))\n",
    "print('Root Mean Square Error test = ' + str(math.sqrt(metrics.mean_squared_error(y_test, predict))))\n",
    "\n"
   ]
  },
  {
   "cell_type": "code",
   "execution_count": 40,
   "metadata": {
    "execution": {
     "iopub.execute_input": "2020-08-18T14:20:22.511674Z",
     "iopub.status.busy": "2020-08-18T14:20:22.510861Z",
     "iopub.status.idle": "2020-08-18T14:20:49.950650Z",
     "shell.execute_reply": "2020-08-18T14:20:49.951236Z"
    },
    "papermill": {
     "duration": 27.505858,
     "end_time": "2020-08-18T14:20:49.951412",
     "exception": false,
     "start_time": "2020-08-18T14:20:22.445554",
     "status": "completed"
    },
    "tags": []
   },
   "outputs": [
    {
     "name": "stdout",
     "output_type": "stream",
     "text": [
      "[14:20:22] WARNING: /workspace/src/objective/regression_obj.cu:170: reg:linear is now deprecated in favor of reg:squarederror.\n",
      "[14:20:43] WARNING: /workspace/src/objective/regression_obj.cu:170: reg:linear is now deprecated in favor of reg:squarederror.\n"
     ]
    },
    {
     "data": {
      "text/plain": [
       "LGBMRegressor(bagging_fraction=0.75, bagging_freq=5, bagging_seed=7,\n",
       "              feature_fraction=0.4, learning_rate=0.01, max_bin=200,\n",
       "              n_estimators=12000, num_leaves=4, objective='regression')"
      ]
     },
     "execution_count": 40,
     "metadata": {},
     "output_type": "execute_result"
    }
   ],
   "source": [
    "xgb.fit(df_train, target)\n",
    "lgbm.fit(df_train, target,eval_metric='rmse')"
   ]
  },
  {
   "cell_type": "code",
   "execution_count": 41,
   "metadata": {
    "execution": {
     "iopub.execute_input": "2020-08-18T14:20:50.072232Z",
     "iopub.status.busy": "2020-08-18T14:20:50.071473Z",
     "iopub.status.idle": "2020-08-18T14:20:51.157072Z",
     "shell.execute_reply": "2020-08-18T14:20:51.157827Z"
    },
    "papermill": {
     "duration": 1.149932,
     "end_time": "2020-08-18T14:20:51.158049",
     "exception": false,
     "start_time": "2020-08-18T14:20:50.008117",
     "status": "completed"
    },
    "tags": []
   },
   "outputs": [],
   "source": [
    "predict4 = lgbm.predict(df_test)\n",
    "predict3 = xgb.predict(df_test)\n",
    "predict_y = ( predict3*0.45 + predict4 * 0.55)"
   ]
  },
  {
   "cell_type": "code",
   "execution_count": 42,
   "metadata": {
    "execution": {
     "iopub.execute_input": "2020-08-18T14:20:51.279576Z",
     "iopub.status.busy": "2020-08-18T14:20:51.278679Z",
     "iopub.status.idle": "2020-08-18T14:20:51.352517Z",
     "shell.execute_reply": "2020-08-18T14:20:51.351834Z"
    },
    "papermill": {
     "duration": 0.137212,
     "end_time": "2020-08-18T14:20:51.352675",
     "exception": false,
     "start_time": "2020-08-18T14:20:51.215463",
     "status": "completed"
    },
    "tags": []
   },
   "outputs": [],
   "source": [
    "submission = pd.DataFrame({\n",
    "        \"Id\": test[\"Id\"],\n",
    "        \"SalePrice\": predict_y\n",
    "    })\n",
    "submission.to_csv('submission.csv', index=False)"
   ]
  },
  {
   "cell_type": "code",
   "execution_count": null,
   "metadata": {
    "papermill": {
     "duration": 0.056112,
     "end_time": "2020-08-18T14:20:51.465003",
     "exception": false,
     "start_time": "2020-08-18T14:20:51.408891",
     "status": "completed"
    },
    "tags": []
   },
   "outputs": [],
   "source": []
  }
 ],
 "metadata": {
  "kernelspec": {
   "display_name": "Python 3",
   "language": "python",
   "name": "python3"
  },
  "language_info": {
   "codemirror_mode": {
    "name": "ipython",
    "version": 3
   },
   "file_extension": ".py",
   "mimetype": "text/x-python",
   "name": "python",
   "nbconvert_exporter": "python",
   "pygments_lexer": "ipython3",
   "version": "3.7.6"
  },
  "papermill": {
   "duration": 62.659367,
   "end_time": "2020-08-18T14:20:51.629830",
   "environment_variables": {},
   "exception": null,
   "input_path": "__notebook__.ipynb",
   "output_path": "__notebook__.ipynb",
   "parameters": {},
   "start_time": "2020-08-18T14:19:48.970463",
   "version": "2.1.0"
  }
 },
 "nbformat": 4,
 "nbformat_minor": 4
}
