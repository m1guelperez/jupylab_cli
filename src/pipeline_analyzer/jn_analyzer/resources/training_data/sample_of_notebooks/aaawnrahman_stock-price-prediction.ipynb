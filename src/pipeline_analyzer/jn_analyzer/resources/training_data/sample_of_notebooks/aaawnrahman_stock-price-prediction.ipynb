{
 "cells": [
  {
   "cell_type": "code",
   "execution_count": 1,
   "metadata": {
    "_cell_guid": "b1076dfc-b9ad-4769-8c92-a6c4dae69d19",
    "_uuid": "8f2839f25d086af736a60e9eeb907d3b93b6e0e5"
   },
   "outputs": [
    {
     "name": "stdout",
     "output_type": "stream",
     "text": [
      "/kaggle/input/test-data/AAPL_test.csv\n",
      "/kaggle/input/stock-price/AAPL.csv\n"
     ]
    }
   ],
   "source": [
    "# This Python 3 environment comes with many helpful analytics libraries installed\n",
    "# It is defined by the kaggle/python docker image: https://github.com/kaggle/docker-python\n",
    "# For example, here's several helpful packages to load in \n",
    "\n",
    "#reference_help : https://stackabuse.com/time-series-analysis-with-lstm-using-pythons-keras-library\n",
    "import numpy as np # linear algebra\n",
    "import pandas as pd # data processing, CSV file I/O (e.g. pd.read_csv)\n",
    "\n",
    "# Input data files are available in the \"../input/\" directory.\n",
    "# For example, running this (by clicking run or pressing Shift+Enter) will list all files under the input directory\n",
    "\n",
    "import os\n",
    "for dirname, _, filenames in os.walk('/kaggle/input'):\n",
    "    for filename in filenames:\n",
    "        print(os.path.join(dirname, filename))\n",
    "\n",
    "# Any results you write to the current directory are saved as output."
   ]
  },
  {
   "cell_type": "code",
   "execution_count": null,
   "metadata": {
    "_cell_guid": "79c7e3d0-c299-4dcb-8224-4455121ee9b0",
    "_uuid": "d629ff2d2480ee46fbb7e2d37f6b5fab8052498a",
    "collapsed": true
   },
   "outputs": [],
   "source": []
  },
  {
   "cell_type": "code",
   "execution_count": 2,
   "metadata": {
    "_cell_guid": "",
    "_uuid": ""
   },
   "outputs": [],
   "source": [
    "import pandas as pd\n",
    "df = pd.read_csv(\"/kaggle/input/stock-price/AAPL.csv\")"
   ]
  },
  {
   "cell_type": "code",
   "execution_count": 3,
   "metadata": {},
   "outputs": [
    {
     "data": {
      "text/html": [
       "<div>\n",
       "<style scoped>\n",
       "    .dataframe tbody tr th:only-of-type {\n",
       "        vertical-align: middle;\n",
       "    }\n",
       "\n",
       "    .dataframe tbody tr th {\n",
       "        vertical-align: top;\n",
       "    }\n",
       "\n",
       "    .dataframe thead th {\n",
       "        text-align: right;\n",
       "    }\n",
       "</style>\n",
       "<table border=\"1\" class=\"dataframe\">\n",
       "  <thead>\n",
       "    <tr style=\"text-align: right;\">\n",
       "      <th></th>\n",
       "      <th>Date</th>\n",
       "      <th>Open</th>\n",
       "      <th>High</th>\n",
       "      <th>Low</th>\n",
       "      <th>Close</th>\n",
       "      <th>Adj Close</th>\n",
       "      <th>Volume</th>\n",
       "    </tr>\n",
       "  </thead>\n",
       "  <tbody>\n",
       "    <tr>\n",
       "      <th>0</th>\n",
       "      <td>12/31/2012</td>\n",
       "      <td>72.932854</td>\n",
       "      <td>76.485718</td>\n",
       "      <td>72.714287</td>\n",
       "      <td>76.024284</td>\n",
       "      <td>66.736229</td>\n",
       "      <td>164873100</td>\n",
       "    </tr>\n",
       "    <tr>\n",
       "      <th>1</th>\n",
       "      <td>1/2/2013</td>\n",
       "      <td>79.117142</td>\n",
       "      <td>79.285713</td>\n",
       "      <td>77.375717</td>\n",
       "      <td>78.432854</td>\n",
       "      <td>68.850548</td>\n",
       "      <td>140129500</td>\n",
       "    </tr>\n",
       "    <tr>\n",
       "      <th>2</th>\n",
       "      <td>1/3/2013</td>\n",
       "      <td>78.268570</td>\n",
       "      <td>78.524284</td>\n",
       "      <td>77.285713</td>\n",
       "      <td>77.442856</td>\n",
       "      <td>67.981491</td>\n",
       "      <td>88241300</td>\n",
       "    </tr>\n",
       "    <tr>\n",
       "      <th>3</th>\n",
       "      <td>1/4/2013</td>\n",
       "      <td>76.709999</td>\n",
       "      <td>76.947144</td>\n",
       "      <td>75.118568</td>\n",
       "      <td>75.285713</td>\n",
       "      <td>66.087891</td>\n",
       "      <td>148583400</td>\n",
       "    </tr>\n",
       "    <tr>\n",
       "      <th>4</th>\n",
       "      <td>1/7/2013</td>\n",
       "      <td>74.571426</td>\n",
       "      <td>75.614288</td>\n",
       "      <td>73.599998</td>\n",
       "      <td>74.842857</td>\n",
       "      <td>65.699158</td>\n",
       "      <td>121039100</td>\n",
       "    </tr>\n",
       "  </tbody>\n",
       "</table>\n",
       "</div>"
      ],
      "text/plain": [
       "         Date       Open       High        Low      Close  Adj Close  \\\n",
       "0  12/31/2012  72.932854  76.485718  72.714287  76.024284  66.736229   \n",
       "1    1/2/2013  79.117142  79.285713  77.375717  78.432854  68.850548   \n",
       "2    1/3/2013  78.268570  78.524284  77.285713  77.442856  67.981491   \n",
       "3    1/4/2013  76.709999  76.947144  75.118568  75.285713  66.087891   \n",
       "4    1/7/2013  74.571426  75.614288  73.599998  74.842857  65.699158   \n",
       "\n",
       "      Volume  \n",
       "0  164873100  \n",
       "1  140129500  \n",
       "2   88241300  \n",
       "3  148583400  \n",
       "4  121039100  "
      ]
     },
     "execution_count": 3,
     "metadata": {},
     "output_type": "execute_result"
    }
   ],
   "source": [
    "df.head()"
   ]
  },
  {
   "cell_type": "code",
   "execution_count": 4,
   "metadata": {},
   "outputs": [
    {
     "data": {
      "text/html": [
       "<div>\n",
       "<style scoped>\n",
       "    .dataframe tbody tr th:only-of-type {\n",
       "        vertical-align: middle;\n",
       "    }\n",
       "\n",
       "    .dataframe tbody tr th {\n",
       "        vertical-align: top;\n",
       "    }\n",
       "\n",
       "    .dataframe thead th {\n",
       "        text-align: right;\n",
       "    }\n",
       "</style>\n",
       "<table border=\"1\" class=\"dataframe\">\n",
       "  <thead>\n",
       "    <tr style=\"text-align: right;\">\n",
       "      <th></th>\n",
       "      <th>Date</th>\n",
       "      <th>Open</th>\n",
       "      <th>High</th>\n",
       "      <th>Low</th>\n",
       "      <th>Close</th>\n",
       "      <th>Adj Close</th>\n",
       "      <th>Volume</th>\n",
       "    </tr>\n",
       "  </thead>\n",
       "  <tbody>\n",
       "    <tr>\n",
       "      <th>1263</th>\n",
       "      <td>1/5/2018</td>\n",
       "      <td>173.440002</td>\n",
       "      <td>175.369995</td>\n",
       "      <td>173.050003</td>\n",
       "      <td>175.000000</td>\n",
       "      <td>169.859406</td>\n",
       "      <td>23660000</td>\n",
       "    </tr>\n",
       "    <tr>\n",
       "      <th>1264</th>\n",
       "      <td>1/8/2018</td>\n",
       "      <td>174.350006</td>\n",
       "      <td>175.610001</td>\n",
       "      <td>173.929993</td>\n",
       "      <td>174.350006</td>\n",
       "      <td>169.228500</td>\n",
       "      <td>20567800</td>\n",
       "    </tr>\n",
       "    <tr>\n",
       "      <th>1265</th>\n",
       "      <td>1/9/2018</td>\n",
       "      <td>174.550003</td>\n",
       "      <td>175.059998</td>\n",
       "      <td>173.410004</td>\n",
       "      <td>174.330002</td>\n",
       "      <td>169.209091</td>\n",
       "      <td>21584000</td>\n",
       "    </tr>\n",
       "    <tr>\n",
       "      <th>1266</th>\n",
       "      <td>1/10/2018</td>\n",
       "      <td>173.160004</td>\n",
       "      <td>174.300003</td>\n",
       "      <td>173.000000</td>\n",
       "      <td>174.289993</td>\n",
       "      <td>169.170258</td>\n",
       "      <td>23959900</td>\n",
       "    </tr>\n",
       "    <tr>\n",
       "      <th>1267</th>\n",
       "      <td>1/11/2018</td>\n",
       "      <td>174.589996</td>\n",
       "      <td>175.490005</td>\n",
       "      <td>174.490005</td>\n",
       "      <td>175.279999</td>\n",
       "      <td>170.131180</td>\n",
       "      <td>18667700</td>\n",
       "    </tr>\n",
       "  </tbody>\n",
       "</table>\n",
       "</div>"
      ],
      "text/plain": [
       "           Date        Open        High         Low       Close   Adj Close  \\\n",
       "1263   1/5/2018  173.440002  175.369995  173.050003  175.000000  169.859406   \n",
       "1264   1/8/2018  174.350006  175.610001  173.929993  174.350006  169.228500   \n",
       "1265   1/9/2018  174.550003  175.059998  173.410004  174.330002  169.209091   \n",
       "1266  1/10/2018  173.160004  174.300003  173.000000  174.289993  169.170258   \n",
       "1267  1/11/2018  174.589996  175.490005  174.490005  175.279999  170.131180   \n",
       "\n",
       "        Volume  \n",
       "1263  23660000  \n",
       "1264  20567800  \n",
       "1265  21584000  \n",
       "1266  23959900  \n",
       "1267  18667700  "
      ]
     },
     "execution_count": 4,
     "metadata": {},
     "output_type": "execute_result"
    }
   ],
   "source": [
    "df.tail()"
   ]
  },
  {
   "cell_type": "code",
   "execution_count": 5,
   "metadata": {},
   "outputs": [
    {
     "data": {
      "text/plain": [
       "<matplotlib.axes._subplots.AxesSubplot at 0x7f905653ca90>"
      ]
     },
     "execution_count": 5,
     "metadata": {},
     "output_type": "execute_result"
    },
    {
     "data": {
      "image/png": "[encoded data removed]",
      "text/plain": [
       "<Figure size 432x288 with 1 Axes>"
      ]
     },
     "metadata": {
      "needs_background": "light"
     },
     "output_type": "display_data"
    }
   ],
   "source": [
    "df.plot(x='Date', y='Open')"
   ]
  },
  {
   "cell_type": "code",
   "execution_count": 6,
   "metadata": {},
   "outputs": [
    {
     "data": {
      "text/plain": [
       "<matplotlib.axes._subplots.AxesSubplot at 0x7f9056494668>"
      ]
     },
     "execution_count": 6,
     "metadata": {},
     "output_type": "execute_result"
    },
    {
     "data": {
      "image/png": "[encoded data removed]",
      "text/plain": [
       "<Figure size 432x288 with 1 Axes>"
      ]
     },
     "metadata": {
      "needs_background": "light"
     },
     "output_type": "display_data"
    }
   ],
   "source": [
    "df.plot(x='Date', y='Close')"
   ]
  },
  {
   "cell_type": "code",
   "execution_count": 7,
   "metadata": {},
   "outputs": [
    {
     "name": "stdout",
     "output_type": "stream",
     "text": [
      "<class 'pandas.core.frame.DataFrame'>\n",
      "RangeIndex: 1268 entries, 0 to 1267\n",
      "Data columns (total 7 columns):\n",
      "Date         1268 non-null object\n",
      "Open         1268 non-null float64\n",
      "High         1268 non-null float64\n",
      "Low          1268 non-null float64\n",
      "Close        1268 non-null float64\n",
      "Adj Close    1268 non-null float64\n",
      "Volume       1268 non-null int64\n",
      "dtypes: float64(5), int64(1), object(1)\n",
      "memory usage: 69.5+ KB\n"
     ]
    }
   ],
   "source": [
    "df.info()"
   ]
  },
  {
   "cell_type": "code",
   "execution_count": 8,
   "metadata": {},
   "outputs": [
    {
     "data": {
      "text/plain": [
       "array([[ 72.932854],\n",
       "       [ 79.117142],\n",
       "       [ 78.26857 ],\n",
       "       ...,\n",
       "       [170.100006],\n",
       "       [171.      ],\n",
       "       [170.520004]])"
      ]
     },
     "execution_count": 8,
     "metadata": {},
     "output_type": "execute_result"
    }
   ],
   "source": [
    "training_data = df.iloc[0:1260,1:2].values\n",
    "training_data"
   ]
  },
  {
   "cell_type": "code",
   "execution_count": 9,
   "metadata": {},
   "outputs": [],
   "source": [
    "#data normalization......\n",
    "from sklearn.preprocessing import MinMaxScaler\n",
    "scaler = MinMaxScaler(feature_range = (0, 1))\n",
    "training_data = scaler.fit_transform(training_data)"
   ]
  },
  {
   "cell_type": "code",
   "execution_count": 10,
   "metadata": {},
   "outputs": [],
   "source": [
    "#Convert Training Data to Right Shape\n",
    "features_set = []\n",
    "labels = []\n",
    "for i in range(60,1260) :\n",
    "    features_set.append(training_data[i-60:i,0])\n",
    "    labels.append(training_data[i,0])\n",
    "    \n",
    "#convert feature_set and labels in numpy array .....\n",
    "features_set , labels = np.array(features_set) , np.array(labels)\n",
    "\n",
    "#convert the feature_set into a 3 dimentional format.....\n",
    "features_set = np.reshape(features_set, (features_set.shape[0] , features_set.shape[1] , 1))\n",
    "\n",
    "    \n"
   ]
  },
  {
   "cell_type": "code",
   "execution_count": 11,
   "metadata": {},
   "outputs": [
    {
     "name": "stdout",
     "output_type": "stream",
     "text": [
      "(1200, 60, 1)\n",
      "(1200,)\n"
     ]
    }
   ],
   "source": [
    "#features_set shape......\n",
    "print(features_set.shape)\n",
    "print(labels.shape)\n"
   ]
  },
  {
   "cell_type": "code",
   "execution_count": 12,
   "metadata": {},
   "outputs": [
    {
     "name": "stderr",
     "output_type": "stream",
     "text": [
      "Using TensorFlow backend.\n"
     ]
    }
   ],
   "source": [
    "#import libraries.......\n",
    "from keras.models import Sequential\n",
    "from keras.layers import Dense, LSTM, Dropout"
   ]
  },
  {
   "cell_type": "code",
   "execution_count": 13,
   "metadata": {},
   "outputs": [],
   "source": [
    "#build a LSTM model......\n",
    "model = Sequential()\n",
    "\n",
    "model.add(LSTM(units= 50, return_sequences= True , input_shape = (features_set.shape[1], 1) ))\n",
    "model.add(Dropout(0.2))\n",
    "model.add(LSTM(units = 50 , return_sequences = True))\n",
    "model.add(Dropout(0.2))\n",
    "model.add(LSTM(units = 50, return_sequences = True))\n",
    "model.add(Dropout(0.2))\n",
    "model.add(LSTM(units = 50, return_sequences = False))\n",
    "model.add(Dropout(0.2))\n",
    "model.add(Dense(units= 1))"
   ]
  },
  {
   "cell_type": "code",
   "execution_count": 14,
   "metadata": {},
   "outputs": [
    {
     "name": "stdout",
     "output_type": "stream",
     "text": [
      "Model: \"sequential_1\"\n",
      "_________________________________________________________________\n",
      "Layer (type)                 Output Shape              Param #   \n",
      "=================================================================\n",
      "lstm_1 (LSTM)                (None, 60, 50)            10400     \n",
      "_________________________________________________________________\n",
      "dropout_1 (Dropout)          (None, 60, 50)            0         \n",
      "_________________________________________________________________\n",
      "lstm_2 (LSTM)                (None, 60, 50)            20200     \n",
      "_________________________________________________________________\n",
      "dropout_2 (Dropout)          (None, 60, 50)            0         \n",
      "_________________________________________________________________\n",
      "lstm_3 (LSTM)                (None, 60, 50)            20200     \n",
      "_________________________________________________________________\n",
      "dropout_3 (Dropout)          (None, 60, 50)            0         \n",
      "_________________________________________________________________\n",
      "lstm_4 (LSTM)                (None, 50)                20200     \n",
      "_________________________________________________________________\n",
      "dropout_4 (Dropout)          (None, 50)                0         \n",
      "_________________________________________________________________\n",
      "dense_1 (Dense)              (None, 1)                 51        \n",
      "=================================================================\n",
      "Total params: 71,051\n",
      "Trainable params: 71,051\n",
      "Non-trainable params: 0\n",
      "_________________________________________________________________\n"
     ]
    }
   ],
   "source": [
    "model.summary()"
   ]
  },
  {
   "cell_type": "code",
   "execution_count": 15,
   "metadata": {},
   "outputs": [],
   "source": [
    "#compiling the model.....\n",
    "model.compile(optimizer = 'adam' , loss = 'mean_squared_error', metrics=['accuracy'])\n"
   ]
  },
  {
   "cell_type": "code",
   "execution_count": 16,
   "metadata": {},
   "outputs": [
    {
     "name": "stdout",
     "output_type": "stream",
     "text": [
      "(1200, 60, 1)\n",
      "(1200,)\n"
     ]
    }
   ],
   "source": [
    "print(features_set.shape)\n",
    "print(labels.shape)"
   ]
  },
  {
   "cell_type": "code",
   "execution_count": 17,
   "metadata": {},
   "outputs": [
    {
     "name": "stdout",
     "output_type": "stream",
     "text": [
      "Epoch 1/100\n",
      "1200/1200 [==============================] - 11s 9ms/step - loss: 0.0392 - accuracy: 0.0025\n",
      "Epoch 2/100\n",
      "1200/1200 [==============================] - 9s 7ms/step - loss: 0.0052 - accuracy: 0.0025\n",
      "Epoch 3/100\n",
      "1200/1200 [==============================] - 9s 7ms/step - loss: 0.0048 - accuracy: 0.0025\n",
      "Epoch 4/100\n",
      "1200/1200 [==============================] - 9s 7ms/step - loss: 0.0046 - accuracy: 0.0025\n",
      "Epoch 5/100\n",
      "1200/1200 [==============================] - 9s 7ms/step - loss: 0.0051 - accuracy: 0.0025\n",
      "Epoch 6/100\n",
      "1200/1200 [==============================] - 9s 7ms/step - loss: 0.0043 - accuracy: 0.0025\n",
      "Epoch 7/100\n",
      "1200/1200 [==============================] - 9s 7ms/step - loss: 0.0042 - accuracy: 0.0025\n",
      "Epoch 8/100\n",
      "1200/1200 [==============================] - 9s 7ms/step - loss: 0.0038 - accuracy: 0.0025\n",
      "Epoch 9/100\n",
      "1200/1200 [==============================] - 9s 7ms/step - loss: 0.0037 - accuracy: 0.0025\n",
      "Epoch 10/100\n",
      "1200/1200 [==============================] - 9s 7ms/step - loss: 0.0037 - accuracy: 0.0025\n",
      "Epoch 11/100\n",
      "1200/1200 [==============================] - 9s 7ms/step - loss: 0.0035 - accuracy: 0.0025\n",
      "Epoch 12/100\n",
      "1200/1200 [==============================] - 9s 7ms/step - loss: 0.0040 - accuracy: 0.0025\n",
      "Epoch 13/100\n",
      "1200/1200 [==============================] - 9s 7ms/step - loss: 0.0035 - accuracy: 0.0025\n",
      "Epoch 14/100\n",
      "1200/1200 [==============================] - 9s 7ms/step - loss: 0.0036 - accuracy: 0.0025\n",
      "Epoch 15/100\n",
      "1200/1200 [==============================] - 9s 7ms/step - loss: 0.0031 - accuracy: 0.0025\n",
      "Epoch 16/100\n",
      "1200/1200 [==============================] - 9s 7ms/step - loss: 0.0030 - accuracy: 0.0025\n",
      "Epoch 17/100\n",
      "1200/1200 [==============================] - 9s 7ms/step - loss: 0.0029 - accuracy: 0.0025\n",
      "Epoch 18/100\n",
      "1200/1200 [==============================] - 9s 8ms/step - loss: 0.0028 - accuracy: 0.0025\n",
      "Epoch 19/100\n",
      "1200/1200 [==============================] - 9s 7ms/step - loss: 0.0029 - accuracy: 0.0025\n",
      "Epoch 20/100\n",
      "1200/1200 [==============================] - 9s 7ms/step - loss: 0.0026 - accuracy: 0.0025\n",
      "Epoch 21/100\n",
      "1200/1200 [==============================] - 9s 7ms/step - loss: 0.0028 - accuracy: 0.0025\n",
      "Epoch 22/100\n",
      "1200/1200 [==============================] - 9s 7ms/step - loss: 0.0032 - accuracy: 0.0025\n",
      "Epoch 23/100\n",
      "1200/1200 [==============================] - 9s 7ms/step - loss: 0.0029 - accuracy: 0.0025\n",
      "Epoch 24/100\n",
      "1200/1200 [==============================] - 9s 7ms/step - loss: 0.0027 - accuracy: 0.0025\n",
      "Epoch 25/100\n",
      "1200/1200 [==============================] - 9s 7ms/step - loss: 0.0024 - accuracy: 0.0025\n",
      "Epoch 26/100\n",
      "1200/1200 [==============================] - 9s 7ms/step - loss: 0.0029 - accuracy: 0.0025\n",
      "Epoch 27/100\n",
      "1200/1200 [==============================] - 9s 7ms/step - loss: 0.0024 - accuracy: 0.0025\n",
      "Epoch 28/100\n",
      "1200/1200 [==============================] - 9s 7ms/step - loss: 0.0023 - accuracy: 0.0025\n",
      "Epoch 29/100\n",
      "1200/1200 [==============================] - 9s 7ms/step - loss: 0.0021 - accuracy: 0.0025\n",
      "Epoch 30/100\n",
      "1200/1200 [==============================] - 9s 7ms/step - loss: 0.0024 - accuracy: 0.0025\n",
      "Epoch 31/100\n",
      "1200/1200 [==============================] - 9s 7ms/step - loss: 0.0024 - accuracy: 0.0025\n",
      "Epoch 32/100\n",
      "1200/1200 [==============================] - 9s 7ms/step - loss: 0.0022 - accuracy: 0.0025\n",
      "Epoch 33/100\n",
      "1200/1200 [==============================] - 9s 7ms/step - loss: 0.0023 - accuracy: 0.0025\n",
      "Epoch 34/100\n",
      "1200/1200 [==============================] - 9s 7ms/step - loss: 0.0023 - accuracy: 0.0025\n",
      "Epoch 35/100\n",
      "1200/1200 [==============================] - 9s 7ms/step - loss: 0.0021 - accuracy: 0.0025\n",
      "Epoch 36/100\n",
      "1200/1200 [==============================] - 9s 7ms/step - loss: 0.0021 - accuracy: 0.0025\n",
      "Epoch 37/100\n",
      "1200/1200 [==============================] - 9s 7ms/step - loss: 0.0020 - accuracy: 0.0025\n",
      "Epoch 38/100\n",
      "1200/1200 [==============================] - 9s 7ms/step - loss: 0.0021 - accuracy: 0.0025\n",
      "Epoch 39/100\n",
      "1200/1200 [==============================] - 9s 7ms/step - loss: 0.0027 - accuracy: 0.0025\n",
      "Epoch 40/100\n",
      "1200/1200 [==============================] - 9s 7ms/step - loss: 0.0019 - accuracy: 0.0025\n",
      "Epoch 41/100\n",
      "1200/1200 [==============================] - 9s 7ms/step - loss: 0.0019 - accuracy: 0.0025\n",
      "Epoch 42/100\n",
      "1200/1200 [==============================] - 9s 7ms/step - loss: 0.0021 - accuracy: 0.0025\n",
      "Epoch 43/100\n",
      "1200/1200 [==============================] - 9s 7ms/step - loss: 0.0018 - accuracy: 0.0025\n",
      "Epoch 44/100\n",
      "1200/1200 [==============================] - 9s 7ms/step - loss: 0.0020 - accuracy: 0.0025\n",
      "Epoch 45/100\n",
      "1200/1200 [==============================] - 9s 7ms/step - loss: 0.0017 - accuracy: 0.0025\n",
      "Epoch 46/100\n",
      "1200/1200 [==============================] - 9s 7ms/step - loss: 0.0020 - accuracy: 0.0025\n",
      "Epoch 47/100\n",
      "1200/1200 [==============================] - 9s 7ms/step - loss: 0.0020 - accuracy: 0.0025\n",
      "Epoch 48/100\n",
      "1200/1200 [==============================] - 9s 7ms/step - loss: 0.0018 - accuracy: 0.0025\n",
      "Epoch 49/100\n",
      "1200/1200 [==============================] - 9s 7ms/step - loss: 0.0019 - accuracy: 0.0025\n",
      "Epoch 50/100\n",
      "1200/1200 [==============================] - 9s 7ms/step - loss: 0.0019 - accuracy: 0.0025\n",
      "Epoch 51/100\n",
      "1200/1200 [==============================] - 9s 7ms/step - loss: 0.0017 - accuracy: 0.0025\n",
      "Epoch 52/100\n",
      "1200/1200 [==============================] - 9s 7ms/step - loss: 0.0018 - accuracy: 0.0025\n",
      "Epoch 53/100\n",
      "1200/1200 [==============================] - 9s 8ms/step - loss: 0.0017 - accuracy: 0.0025\n",
      "Epoch 54/100\n",
      "1200/1200 [==============================] - 9s 7ms/step - loss: 0.0015 - accuracy: 0.0025\n",
      "Epoch 55/100\n",
      "1200/1200 [==============================] - 9s 7ms/step - loss: 0.0016 - accuracy: 0.0025\n",
      "Epoch 56/100\n",
      "1200/1200 [==============================] - 9s 7ms/step - loss: 0.0017 - accuracy: 0.0025\n",
      "Epoch 57/100\n",
      "1200/1200 [==============================] - 9s 7ms/step - loss: 0.0016 - accuracy: 0.0025\n",
      "Epoch 58/100\n",
      "1200/1200 [==============================] - 9s 7ms/step - loss: 0.0016 - accuracy: 0.0025\n",
      "Epoch 59/100\n",
      "1200/1200 [==============================] - 9s 7ms/step - loss: 0.0016 - accuracy: 0.0025\n",
      "Epoch 60/100\n",
      "1200/1200 [==============================] - 9s 7ms/step - loss: 0.0016 - accuracy: 0.0025\n",
      "Epoch 61/100\n",
      "1200/1200 [==============================] - 8s 7ms/step - loss: 0.0017 - accuracy: 0.0025\n",
      "Epoch 62/100\n",
      "1200/1200 [==============================] - 9s 7ms/step - loss: 0.0015 - accuracy: 0.0025\n",
      "Epoch 63/100\n",
      "1200/1200 [==============================] - 9s 7ms/step - loss: 0.0016 - accuracy: 0.0025\n",
      "Epoch 64/100\n",
      "1200/1200 [==============================] - 9s 7ms/step - loss: 0.0019 - accuracy: 0.0025\n",
      "Epoch 65/100\n",
      "1200/1200 [==============================] - 9s 7ms/step - loss: 0.0016 - accuracy: 0.0025\n",
      "Epoch 66/100\n",
      "1200/1200 [==============================] - 9s 7ms/step - loss: 0.0016 - accuracy: 0.0025\n",
      "Epoch 67/100\n",
      "1200/1200 [==============================] - 9s 7ms/step - loss: 0.0015 - accuracy: 0.0025\n",
      "Epoch 68/100\n",
      "1200/1200 [==============================] - 8s 7ms/step - loss: 0.0015 - accuracy: 0.0025\n",
      "Epoch 69/100\n",
      "1200/1200 [==============================] - 9s 7ms/step - loss: 0.0014 - accuracy: 0.0025\n",
      "Epoch 70/100\n",
      "1200/1200 [==============================] - 8s 7ms/step - loss: 0.0015 - accuracy: 0.0025\n",
      "Epoch 71/100\n",
      "1200/1200 [==============================] - 9s 7ms/step - loss: 0.0014 - accuracy: 0.0025\n",
      "Epoch 72/100\n",
      "1200/1200 [==============================] - 8s 7ms/step - loss: 0.0015 - accuracy: 0.0025\n",
      "Epoch 73/100\n",
      "1200/1200 [==============================] - 9s 7ms/step - loss: 0.0014 - accuracy: 0.0025\n",
      "Epoch 74/100\n",
      "1200/1200 [==============================] - 9s 7ms/step - loss: 0.0014 - accuracy: 0.0025\n",
      "Epoch 75/100\n",
      "1200/1200 [==============================] - 9s 7ms/step - loss: 0.0014 - accuracy: 0.0025\n",
      "Epoch 76/100\n",
      "1200/1200 [==============================] - 9s 7ms/step - loss: 0.0014 - accuracy: 0.0025\n",
      "Epoch 77/100\n",
      "1200/1200 [==============================] - 8s 7ms/step - loss: 0.0014 - accuracy: 0.0025\n",
      "Epoch 78/100\n",
      "1200/1200 [==============================] - 8s 7ms/step - loss: 0.0013 - accuracy: 0.0025\n",
      "Epoch 79/100\n",
      "1200/1200 [==============================] - 8s 7ms/step - loss: 0.0013 - accuracy: 0.0025\n",
      "Epoch 80/100\n",
      "1200/1200 [==============================] - 9s 7ms/step - loss: 0.0013 - accuracy: 0.0025\n",
      "Epoch 81/100\n",
      "1200/1200 [==============================] - 8s 7ms/step - loss: 0.0014 - accuracy: 0.0025\n",
      "Epoch 82/100\n",
      "1200/1200 [==============================] - 8s 7ms/step - loss: 0.0012 - accuracy: 0.0025\n",
      "Epoch 83/100\n",
      "1200/1200 [==============================] - 9s 7ms/step - loss: 0.0013 - accuracy: 0.0025\n",
      "Epoch 84/100\n",
      "1200/1200 [==============================] - 9s 7ms/step - loss: 0.0011 - accuracy: 0.0025\n",
      "Epoch 85/100\n",
      "1200/1200 [==============================] - 9s 7ms/step - loss: 0.0011 - accuracy: 0.0025\n",
      "Epoch 86/100\n",
      "1200/1200 [==============================] - 8s 7ms/step - loss: 0.0012 - accuracy: 0.0025\n",
      "Epoch 87/100\n",
      "1200/1200 [==============================] - 8s 7ms/step - loss: 0.0012 - accuracy: 0.0025\n",
      "Epoch 88/100\n",
      "1200/1200 [==============================] - 9s 8ms/step - loss: 0.0014 - accuracy: 0.0025\n",
      "Epoch 89/100\n",
      "1200/1200 [==============================] - 8s 7ms/step - loss: 0.0011 - accuracy: 0.0025\n",
      "Epoch 90/100\n",
      "1200/1200 [==============================] - 8s 7ms/step - loss: 0.0013 - accuracy: 0.0025\n",
      "Epoch 91/100\n",
      "1200/1200 [==============================] - 8s 7ms/step - loss: 0.0013 - accuracy: 0.0025\n",
      "Epoch 92/100\n",
      "1200/1200 [==============================] - 9s 7ms/step - loss: 0.0013 - accuracy: 0.0025\n",
      "Epoch 93/100\n",
      "1200/1200 [==============================] - 9s 7ms/step - loss: 0.0012 - accuracy: 0.0025\n",
      "Epoch 94/100\n",
      "1200/1200 [==============================] - 8s 7ms/step - loss: 0.0014 - accuracy: 0.0025\n",
      "Epoch 95/100\n",
      "1200/1200 [==============================] - 9s 7ms/step - loss: 0.0011 - accuracy: 0.0025\n",
      "Epoch 96/100\n",
      "1200/1200 [==============================] - 8s 7ms/step - loss: 0.0012 - accuracy: 0.0025\n",
      "Epoch 97/100\n",
      "1200/1200 [==============================] - 8s 7ms/step - loss: 0.0011 - accuracy: 0.0025\n",
      "Epoch 98/100\n",
      "1200/1200 [==============================] - 9s 7ms/step - loss: 0.0011 - accuracy: 0.0025\n",
      "Epoch 99/100\n",
      "1200/1200 [==============================] - 9s 7ms/step - loss: 0.0012 - accuracy: 0.0025\n",
      "Epoch 100/100\n",
      "1200/1200 [==============================] - 9s 7ms/step - loss: 0.0010 - accuracy: 0.0025\n"
     ]
    }
   ],
   "source": [
    "fitted_model =  model.fit(features_set , labels , epochs = 100 , batch_size = 32)"
   ]
  },
  {
   "cell_type": "code",
   "execution_count": 18,
   "metadata": {
    "_cell_guid": "",
    "_uuid": ""
   },
   "outputs": [
    {
     "name": "stdout",
     "output_type": "stream",
     "text": [
      "<class 'pandas.core.frame.DataFrame'>\n",
      "RangeIndex: 238 entries, 0 to 237\n",
      "Data columns (total 7 columns):\n",
      "Date         238 non-null object\n",
      "Open         238 non-null float64\n",
      "High         238 non-null float64\n",
      "Low          238 non-null float64\n",
      "Close        238 non-null float64\n",
      "Adj Close    238 non-null float64\n",
      "Volume       238 non-null int64\n",
      "dtypes: float64(5), int64(1), object(1)\n",
      "memory usage: 13.1+ KB\n"
     ]
    },
    {
     "data": {
      "text/html": [
       "<div>\n",
       "<style scoped>\n",
       "    .dataframe tbody tr th:only-of-type {\n",
       "        vertical-align: middle;\n",
       "    }\n",
       "\n",
       "    .dataframe tbody tr th {\n",
       "        vertical-align: top;\n",
       "    }\n",
       "\n",
       "    .dataframe thead th {\n",
       "        text-align: right;\n",
       "    }\n",
       "</style>\n",
       "<table border=\"1\" class=\"dataframe\">\n",
       "  <thead>\n",
       "    <tr style=\"text-align: right;\">\n",
       "      <th></th>\n",
       "      <th>Date</th>\n",
       "      <th>Open</th>\n",
       "      <th>High</th>\n",
       "      <th>Low</th>\n",
       "      <th>Close</th>\n",
       "      <th>Adj Close</th>\n",
       "      <th>Volume</th>\n",
       "    </tr>\n",
       "  </thead>\n",
       "  <tbody>\n",
       "    <tr>\n",
       "      <th>0</th>\n",
       "      <td>2018-01-02</td>\n",
       "      <td>170.160004</td>\n",
       "      <td>172.300003</td>\n",
       "      <td>169.259995</td>\n",
       "      <td>172.259995</td>\n",
       "      <td>167.199890</td>\n",
       "      <td>25555900</td>\n",
       "    </tr>\n",
       "    <tr>\n",
       "      <th>1</th>\n",
       "      <td>2018-01-03</td>\n",
       "      <td>172.529999</td>\n",
       "      <td>174.550003</td>\n",
       "      <td>171.960007</td>\n",
       "      <td>172.229996</td>\n",
       "      <td>167.170776</td>\n",
       "      <td>29517900</td>\n",
       "    </tr>\n",
       "    <tr>\n",
       "      <th>2</th>\n",
       "      <td>2018-01-04</td>\n",
       "      <td>172.539993</td>\n",
       "      <td>173.470001</td>\n",
       "      <td>172.080002</td>\n",
       "      <td>173.029999</td>\n",
       "      <td>167.947266</td>\n",
       "      <td>22434600</td>\n",
       "    </tr>\n",
       "    <tr>\n",
       "      <th>3</th>\n",
       "      <td>2018-01-05</td>\n",
       "      <td>173.440002</td>\n",
       "      <td>175.369995</td>\n",
       "      <td>173.050003</td>\n",
       "      <td>175.000000</td>\n",
       "      <td>169.859406</td>\n",
       "      <td>23660000</td>\n",
       "    </tr>\n",
       "    <tr>\n",
       "      <th>4</th>\n",
       "      <td>2018-01-08</td>\n",
       "      <td>174.350006</td>\n",
       "      <td>175.610001</td>\n",
       "      <td>173.929993</td>\n",
       "      <td>174.350006</td>\n",
       "      <td>169.228500</td>\n",
       "      <td>20567800</td>\n",
       "    </tr>\n",
       "  </tbody>\n",
       "</table>\n",
       "</div>"
      ],
      "text/plain": [
       "         Date        Open        High         Low       Close   Adj Close  \\\n",
       "0  2018-01-02  170.160004  172.300003  169.259995  172.259995  167.199890   \n",
       "1  2018-01-03  172.529999  174.550003  171.960007  172.229996  167.170776   \n",
       "2  2018-01-04  172.539993  173.470001  172.080002  173.029999  167.947266   \n",
       "3  2018-01-05  173.440002  175.369995  173.050003  175.000000  169.859406   \n",
       "4  2018-01-08  174.350006  175.610001  173.929993  174.350006  169.228500   \n",
       "\n",
       "     Volume  \n",
       "0  25555900  \n",
       "1  29517900  \n",
       "2  22434600  \n",
       "3  23660000  \n",
       "4  20567800  "
      ]
     },
     "execution_count": 18,
     "metadata": {},
     "output_type": "execute_result"
    }
   ],
   "source": [
    "import pandas as pd\n",
    "AAPL_test = pd.read_csv(\"/kaggle/input/test-data/AAPL_test.csv\")\n",
    "AAPL_test.info()\n",
    "AAPL_test.head()"
   ]
  },
  {
   "cell_type": "code",
   "execution_count": 19,
   "metadata": {},
   "outputs": [
    {
     "name": "stdout",
     "output_type": "stream",
     "text": [
      "<class 'pandas.core.series.Series'>\n"
     ]
    }
   ],
   "source": [
    "testing_dataset = AAPL_test.iloc[:,1:2].values\n",
    "x = pd.DataFrame(testing_dataset)\n",
    "y = pd.DataFrame(training_data)\n",
    "total = pd.concat([df['Open'] ,AAPL_test['Open']] , axis = 0)\n",
    "print(type(total))\n",
    "total = total.drop_duplicates()"
   ]
  },
  {
   "cell_type": "code",
   "execution_count": 20,
   "metadata": {},
   "outputs": [
    {
     "data": {
      "text/plain": [
       "(1418,)"
      ]
     },
     "execution_count": 20,
     "metadata": {},
     "output_type": "execute_result"
    }
   ],
   "source": [
    "\n",
    "total.shape"
   ]
  },
  {
   "cell_type": "code",
   "execution_count": 21,
   "metadata": {},
   "outputs": [],
   "source": [
    "#prepare the test input.......\n",
    "test_inputs = total[len(total) - len(AAPL_test) - 60:].values"
   ]
  },
  {
   "cell_type": "code",
   "execution_count": 22,
   "metadata": {},
   "outputs": [],
   "source": [
    "#reshape the test data........\n",
    "test_inputs = test_inputs.reshape(-1,1)\n",
    "test_inputs = scaler.transform(test_inputs)\n"
   ]
  },
  {
   "cell_type": "code",
   "execution_count": 23,
   "metadata": {},
   "outputs": [
    {
     "name": "stdout",
     "output_type": "stream",
     "text": [
      "(238, 1)\n",
      "(298, 1)\n"
     ]
    }
   ],
   "source": [
    "print(testing_dataset.shape)\n",
    "print(test_inputs.shape)\n"
   ]
  },
  {
   "cell_type": "code",
   "execution_count": 24,
   "metadata": {},
   "outputs": [],
   "source": [
    "test_features = []\n",
    "for i in range(60, 298):\n",
    "    test_features.append(test_inputs[i-60:i, 0])"
   ]
  },
  {
   "cell_type": "code",
   "execution_count": 25,
   "metadata": {},
   "outputs": [],
   "source": [
    "test_features = np.array(test_features)\n",
    "test_features = np.reshape(test_features, (test_features.shape[0], test_features.shape[1], 1))"
   ]
  },
  {
   "cell_type": "code",
   "execution_count": 26,
   "metadata": {},
   "outputs": [],
   "source": [
    "#prediction\n",
    "predictions = model.predict(test_features)"
   ]
  },
  {
   "cell_type": "code",
   "execution_count": 27,
   "metadata": {},
   "outputs": [],
   "source": [
    "#inverse scale\n",
    "predictions = scaler.inverse_transform(predictions)"
   ]
  },
  {
   "cell_type": "code",
   "execution_count": 28,
   "metadata": {},
   "outputs": [
    {
     "data": {
      "image/png": "[encoded data removed]",
      "text/plain": [
       "<Figure size 720x432 with 1 Axes>"
      ]
     },
     "metadata": {
      "needs_background": "light"
     },
     "output_type": "display_data"
    }
   ],
   "source": [
    "import matplotlib.pyplot as plt\n",
    "plt.figure(figsize=(10,6))\n",
    "plt.plot(testing_dataset, color='blue', label='Actual Apple Stock Price')\n",
    "plt.plot(predictions , color='red', label='Predicted Apple Stock Price')\n",
    "plt.title('Apple Stock Price Prediction')\n",
    "plt.xlabel('Date')\n",
    "plt.ylabel('Apple Stock Price')\n",
    "plt.legend()\n",
    "plt.show()"
   ]
  }
 ],
 "metadata": {
  "kernelspec": {
   "display_name": "Python 3",
   "language": "python",
   "name": "python3"
  },
  "language_info": {
   "codemirror_mode": {
    "name": "ipython",
    "version": 3
   },
   "file_extension": ".py",
   "mimetype": "text/x-python",
   "name": "python",
   "nbconvert_exporter": "python",
   "pygments_lexer": "ipython3",
   "version": "3.6.6"
  }
 },
 "nbformat": 4,
 "nbformat_minor": 1
}
