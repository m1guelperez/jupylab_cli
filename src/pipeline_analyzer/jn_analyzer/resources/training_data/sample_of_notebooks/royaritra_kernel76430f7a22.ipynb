{
 "cells": [
  {
   "cell_type": "code",
   "execution_count": 1,
   "metadata": {},
   "outputs": [],
   "source": [
    "import pandas as pd\n",
    "import numpy as np\n",
    "data = pd.read_csv('../input/creditcard/creditcard.csv')"
   ]
  },
  {
   "cell_type": "code",
   "execution_count": 2,
   "metadata": {},
   "outputs": [
    {
     "data": {
      "text/html": [
       "<div>\n",
       "<style scoped>\n",
       "    .dataframe tbody tr th:only-of-type {\n",
       "        vertical-align: middle;\n",
       "    }\n",
       "\n",
       "    .dataframe tbody tr th {\n",
       "        vertical-align: top;\n",
       "    }\n",
       "\n",
       "    .dataframe thead th {\n",
       "        text-align: right;\n",
       "    }\n",
       "</style>\n",
       "<table border=\"1\" class=\"dataframe\">\n",
       "  <thead>\n",
       "    <tr style=\"text-align: right;\">\n",
       "      <th></th>\n",
       "      <th>Time</th>\n",
       "      <th>V1</th>\n",
       "      <th>V2</th>\n",
       "      <th>V3</th>\n",
       "      <th>V4</th>\n",
       "      <th>V5</th>\n",
       "      <th>V6</th>\n",
       "      <th>V7</th>\n",
       "      <th>V8</th>\n",
       "      <th>V9</th>\n",
       "      <th>...</th>\n",
       "      <th>V21</th>\n",
       "      <th>V22</th>\n",
       "      <th>V23</th>\n",
       "      <th>V24</th>\n",
       "      <th>V25</th>\n",
       "      <th>V26</th>\n",
       "      <th>V27</th>\n",
       "      <th>V28</th>\n",
       "      <th>Amount</th>\n",
       "      <th>Class</th>\n",
       "    </tr>\n",
       "  </thead>\n",
       "  <tbody>\n",
       "    <tr>\n",
       "      <th>0</th>\n",
       "      <td>0.0</td>\n",
       "      <td>-1.359807</td>\n",
       "      <td>-0.072781</td>\n",
       "      <td>2.536347</td>\n",
       "      <td>1.378155</td>\n",
       "      <td>-0.338321</td>\n",
       "      <td>0.462388</td>\n",
       "      <td>0.239599</td>\n",
       "      <td>0.098698</td>\n",
       "      <td>0.363787</td>\n",
       "      <td>...</td>\n",
       "      <td>-0.018307</td>\n",
       "      <td>0.277838</td>\n",
       "      <td>-0.110474</td>\n",
       "      <td>0.066928</td>\n",
       "      <td>0.128539</td>\n",
       "      <td>-0.189115</td>\n",
       "      <td>0.133558</td>\n",
       "      <td>-0.021053</td>\n",
       "      <td>149.62</td>\n",
       "      <td>0</td>\n",
       "    </tr>\n",
       "    <tr>\n",
       "      <th>1</th>\n",
       "      <td>0.0</td>\n",
       "      <td>1.191857</td>\n",
       "      <td>0.266151</td>\n",
       "      <td>0.166480</td>\n",
       "      <td>0.448154</td>\n",
       "      <td>0.060018</td>\n",
       "      <td>-0.082361</td>\n",
       "      <td>-0.078803</td>\n",
       "      <td>0.085102</td>\n",
       "      <td>-0.255425</td>\n",
       "      <td>...</td>\n",
       "      <td>-0.225775</td>\n",
       "      <td>-0.638672</td>\n",
       "      <td>0.101288</td>\n",
       "      <td>-0.339846</td>\n",
       "      <td>0.167170</td>\n",
       "      <td>0.125895</td>\n",
       "      <td>-0.008983</td>\n",
       "      <td>0.014724</td>\n",
       "      <td>2.69</td>\n",
       "      <td>0</td>\n",
       "    </tr>\n",
       "    <tr>\n",
       "      <th>2</th>\n",
       "      <td>1.0</td>\n",
       "      <td>-1.358354</td>\n",
       "      <td>-1.340163</td>\n",
       "      <td>1.773209</td>\n",
       "      <td>0.379780</td>\n",
       "      <td>-0.503198</td>\n",
       "      <td>1.800499</td>\n",
       "      <td>0.791461</td>\n",
       "      <td>0.247676</td>\n",
       "      <td>-1.514654</td>\n",
       "      <td>...</td>\n",
       "      <td>0.247998</td>\n",
       "      <td>0.771679</td>\n",
       "      <td>0.909412</td>\n",
       "      <td>-0.689281</td>\n",
       "      <td>-0.327642</td>\n",
       "      <td>-0.139097</td>\n",
       "      <td>-0.055353</td>\n",
       "      <td>-0.059752</td>\n",
       "      <td>378.66</td>\n",
       "      <td>0</td>\n",
       "    </tr>\n",
       "    <tr>\n",
       "      <th>3</th>\n",
       "      <td>1.0</td>\n",
       "      <td>-0.966272</td>\n",
       "      <td>-0.185226</td>\n",
       "      <td>1.792993</td>\n",
       "      <td>-0.863291</td>\n",
       "      <td>-0.010309</td>\n",
       "      <td>1.247203</td>\n",
       "      <td>0.237609</td>\n",
       "      <td>0.377436</td>\n",
       "      <td>-1.387024</td>\n",
       "      <td>...</td>\n",
       "      <td>-0.108300</td>\n",
       "      <td>0.005274</td>\n",
       "      <td>-0.190321</td>\n",
       "      <td>-1.175575</td>\n",
       "      <td>0.647376</td>\n",
       "      <td>-0.221929</td>\n",
       "      <td>0.062723</td>\n",
       "      <td>0.061458</td>\n",
       "      <td>123.50</td>\n",
       "      <td>0</td>\n",
       "    </tr>\n",
       "    <tr>\n",
       "      <th>4</th>\n",
       "      <td>2.0</td>\n",
       "      <td>-1.158233</td>\n",
       "      <td>0.877737</td>\n",
       "      <td>1.548718</td>\n",
       "      <td>0.403034</td>\n",
       "      <td>-0.407193</td>\n",
       "      <td>0.095921</td>\n",
       "      <td>0.592941</td>\n",
       "      <td>-0.270533</td>\n",
       "      <td>0.817739</td>\n",
       "      <td>...</td>\n",
       "      <td>-0.009431</td>\n",
       "      <td>0.798278</td>\n",
       "      <td>-0.137458</td>\n",
       "      <td>0.141267</td>\n",
       "      <td>-0.206010</td>\n",
       "      <td>0.502292</td>\n",
       "      <td>0.219422</td>\n",
       "      <td>0.215153</td>\n",
       "      <td>69.99</td>\n",
       "      <td>0</td>\n",
       "    </tr>\n",
       "  </tbody>\n",
       "</table>\n",
       "<p>5 rows × 31 columns</p>\n",
       "</div>"
      ],
      "text/plain": [
       "   Time        V1        V2        V3        V4        V5        V6        V7  \\\n",
       "0   0.0 -1.359807 -0.072781  2.536347  1.378155 -0.338321  0.462388  0.239599   \n",
       "1   0.0  1.191857  0.266151  0.166480  0.448154  0.060018 -0.082361 -0.078803   \n",
       "2   1.0 -1.358354 -1.340163  1.773209  0.379780 -0.503198  1.800499  0.791461   \n",
       "3   1.0 -0.966272 -0.185226  1.792993 -0.863291 -0.010309  1.247203  0.237609   \n",
       "4   2.0 -1.158233  0.877737  1.548718  0.403034 -0.407193  0.095921  0.592941   \n",
       "\n",
       "         V8        V9  ...       V21       V22       V23       V24       V25  \\\n",
       "0  0.098698  0.363787  ... -0.018307  0.277838 -0.110474  0.066928  0.128539   \n",
       "1  0.085102 -0.255425  ... -0.225775 -0.638672  0.101288 -0.339846  0.167170   \n",
       "2  0.247676 -1.514654  ...  0.247998  0.771679  0.909412 -0.689281 -0.327642   \n",
       "3  0.377436 -1.387024  ... -0.108300  0.005274 -0.190321 -1.175575  0.647376   \n",
       "4 -0.270533  0.817739  ... -0.009431  0.798278 -0.137458  0.141267 -0.206010   \n",
       "\n",
       "        V26       V27       V28  Amount  Class  \n",
       "0 -0.189115  0.133558 -0.021053  149.62      0  \n",
       "1  0.125895 -0.008983  0.014724    2.69      0  \n",
       "2 -0.139097 -0.055353 -0.059752  378.66      0  \n",
       "3 -0.221929  0.062723  0.061458  123.50      0  \n",
       "4  0.502292  0.219422  0.215153   69.99      0  \n",
       "\n",
       "[5 rows x 31 columns]"
      ]
     },
     "execution_count": 2,
     "metadata": {},
     "output_type": "execute_result"
    }
   ],
   "source": [
    "data.head(5)"
   ]
  },
  {
   "cell_type": "code",
   "execution_count": 3,
   "metadata": {},
   "outputs": [
    {
     "data": {
      "text/html": [
       "<div>\n",
       "<style scoped>\n",
       "    .dataframe tbody tr th:only-of-type {\n",
       "        vertical-align: middle;\n",
       "    }\n",
       "\n",
       "    .dataframe tbody tr th {\n",
       "        vertical-align: top;\n",
       "    }\n",
       "\n",
       "    .dataframe thead th {\n",
       "        text-align: right;\n",
       "    }\n",
       "</style>\n",
       "<table border=\"1\" class=\"dataframe\">\n",
       "  <thead>\n",
       "    <tr style=\"text-align: right;\">\n",
       "      <th></th>\n",
       "      <th>Time</th>\n",
       "      <th>V1</th>\n",
       "      <th>V2</th>\n",
       "      <th>V3</th>\n",
       "      <th>V4</th>\n",
       "      <th>V5</th>\n",
       "      <th>V6</th>\n",
       "      <th>V7</th>\n",
       "      <th>V8</th>\n",
       "      <th>V9</th>\n",
       "      <th>...</th>\n",
       "      <th>V21</th>\n",
       "      <th>V22</th>\n",
       "      <th>V23</th>\n",
       "      <th>V24</th>\n",
       "      <th>V25</th>\n",
       "      <th>V26</th>\n",
       "      <th>V27</th>\n",
       "      <th>V28</th>\n",
       "      <th>Amount</th>\n",
       "      <th>Class</th>\n",
       "    </tr>\n",
       "  </thead>\n",
       "  <tbody>\n",
       "    <tr>\n",
       "      <th>284802</th>\n",
       "      <td>172786.0</td>\n",
       "      <td>-11.881118</td>\n",
       "      <td>10.071785</td>\n",
       "      <td>-9.834783</td>\n",
       "      <td>-2.066656</td>\n",
       "      <td>-5.364473</td>\n",
       "      <td>-2.606837</td>\n",
       "      <td>-4.918215</td>\n",
       "      <td>7.305334</td>\n",
       "      <td>1.914428</td>\n",
       "      <td>...</td>\n",
       "      <td>0.213454</td>\n",
       "      <td>0.111864</td>\n",
       "      <td>1.014480</td>\n",
       "      <td>-0.509348</td>\n",
       "      <td>1.436807</td>\n",
       "      <td>0.250034</td>\n",
       "      <td>0.943651</td>\n",
       "      <td>0.823731</td>\n",
       "      <td>0.77</td>\n",
       "      <td>0</td>\n",
       "    </tr>\n",
       "    <tr>\n",
       "      <th>284803</th>\n",
       "      <td>172787.0</td>\n",
       "      <td>-0.732789</td>\n",
       "      <td>-0.055080</td>\n",
       "      <td>2.035030</td>\n",
       "      <td>-0.738589</td>\n",
       "      <td>0.868229</td>\n",
       "      <td>1.058415</td>\n",
       "      <td>0.024330</td>\n",
       "      <td>0.294869</td>\n",
       "      <td>0.584800</td>\n",
       "      <td>...</td>\n",
       "      <td>0.214205</td>\n",
       "      <td>0.924384</td>\n",
       "      <td>0.012463</td>\n",
       "      <td>-1.016226</td>\n",
       "      <td>-0.606624</td>\n",
       "      <td>-0.395255</td>\n",
       "      <td>0.068472</td>\n",
       "      <td>-0.053527</td>\n",
       "      <td>24.79</td>\n",
       "      <td>0</td>\n",
       "    </tr>\n",
       "    <tr>\n",
       "      <th>284804</th>\n",
       "      <td>172788.0</td>\n",
       "      <td>1.919565</td>\n",
       "      <td>-0.301254</td>\n",
       "      <td>-3.249640</td>\n",
       "      <td>-0.557828</td>\n",
       "      <td>2.630515</td>\n",
       "      <td>3.031260</td>\n",
       "      <td>-0.296827</td>\n",
       "      <td>0.708417</td>\n",
       "      <td>0.432454</td>\n",
       "      <td>...</td>\n",
       "      <td>0.232045</td>\n",
       "      <td>0.578229</td>\n",
       "      <td>-0.037501</td>\n",
       "      <td>0.640134</td>\n",
       "      <td>0.265745</td>\n",
       "      <td>-0.087371</td>\n",
       "      <td>0.004455</td>\n",
       "      <td>-0.026561</td>\n",
       "      <td>67.88</td>\n",
       "      <td>0</td>\n",
       "    </tr>\n",
       "    <tr>\n",
       "      <th>284805</th>\n",
       "      <td>172788.0</td>\n",
       "      <td>-0.240440</td>\n",
       "      <td>0.530483</td>\n",
       "      <td>0.702510</td>\n",
       "      <td>0.689799</td>\n",
       "      <td>-0.377961</td>\n",
       "      <td>0.623708</td>\n",
       "      <td>-0.686180</td>\n",
       "      <td>0.679145</td>\n",
       "      <td>0.392087</td>\n",
       "      <td>...</td>\n",
       "      <td>0.265245</td>\n",
       "      <td>0.800049</td>\n",
       "      <td>-0.163298</td>\n",
       "      <td>0.123205</td>\n",
       "      <td>-0.569159</td>\n",
       "      <td>0.546668</td>\n",
       "      <td>0.108821</td>\n",
       "      <td>0.104533</td>\n",
       "      <td>10.00</td>\n",
       "      <td>0</td>\n",
       "    </tr>\n",
       "    <tr>\n",
       "      <th>284806</th>\n",
       "      <td>172792.0</td>\n",
       "      <td>-0.533413</td>\n",
       "      <td>-0.189733</td>\n",
       "      <td>0.703337</td>\n",
       "      <td>-0.506271</td>\n",
       "      <td>-0.012546</td>\n",
       "      <td>-0.649617</td>\n",
       "      <td>1.577006</td>\n",
       "      <td>-0.414650</td>\n",
       "      <td>0.486180</td>\n",
       "      <td>...</td>\n",
       "      <td>0.261057</td>\n",
       "      <td>0.643078</td>\n",
       "      <td>0.376777</td>\n",
       "      <td>0.008797</td>\n",
       "      <td>-0.473649</td>\n",
       "      <td>-0.818267</td>\n",
       "      <td>-0.002415</td>\n",
       "      <td>0.013649</td>\n",
       "      <td>217.00</td>\n",
       "      <td>0</td>\n",
       "    </tr>\n",
       "  </tbody>\n",
       "</table>\n",
       "<p>5 rows × 31 columns</p>\n",
       "</div>"
      ],
      "text/plain": [
       "            Time         V1         V2        V3        V4        V5  \\\n",
       "284802  172786.0 -11.881118  10.071785 -9.834783 -2.066656 -5.364473   \n",
       "284803  172787.0  -0.732789  -0.055080  2.035030 -0.738589  0.868229   \n",
       "284804  172788.0   1.919565  -0.301254 -3.249640 -0.557828  2.630515   \n",
       "284805  172788.0  -0.240440   0.530483  0.702510  0.689799 -0.377961   \n",
       "284806  172792.0  -0.533413  -0.189733  0.703337 -0.506271 -0.012546   \n",
       "\n",
       "              V6        V7        V8        V9  ...       V21       V22  \\\n",
       "284802 -2.606837 -4.918215  7.305334  1.914428  ...  0.213454  0.111864   \n",
       "284803  1.058415  0.024330  0.294869  0.584800  ...  0.214205  0.924384   \n",
       "284804  3.031260 -0.296827  0.708417  0.432454  ...  0.232045  0.578229   \n",
       "284805  0.623708 -0.686180  0.679145  0.392087  ...  0.265245  0.800049   \n",
       "284806 -0.649617  1.577006 -0.414650  0.486180  ...  0.261057  0.643078   \n",
       "\n",
       "             V23       V24       V25       V26       V27       V28  Amount  \\\n",
       "284802  1.014480 -0.509348  1.436807  0.250034  0.943651  0.823731    0.77   \n",
       "284803  0.012463 -1.016226 -0.606624 -0.395255  0.068472 -0.053527   24.79   \n",
       "284804 -0.037501  0.640134  0.265745 -0.087371  0.004455 -0.026561   67.88   \n",
       "284805 -0.163298  0.123205 -0.569159  0.546668  0.108821  0.104533   10.00   \n",
       "284806  0.376777  0.008797 -0.473649 -0.818267 -0.002415  0.013649  217.00   \n",
       "\n",
       "        Class  \n",
       "284802      0  \n",
       "284803      0  \n",
       "284804      0  \n",
       "284805      0  \n",
       "284806      0  \n",
       "\n",
       "[5 rows x 31 columns]"
      ]
     },
     "execution_count": 3,
     "metadata": {},
     "output_type": "execute_result"
    }
   ],
   "source": [
    "data.tail()"
   ]
  },
  {
   "cell_type": "code",
   "execution_count": 4,
   "metadata": {},
   "outputs": [
    {
     "name": "stdout",
     "output_type": "stream",
     "text": [
      "<class 'pandas.core.frame.DataFrame'>\n",
      "RangeIndex: 284807 entries, 0 to 284806\n",
      "Data columns (total 31 columns):\n",
      " #   Column  Non-Null Count   Dtype  \n",
      "---  ------  --------------   -----  \n",
      " 0   Time    284807 non-null  float64\n",
      " 1   V1      284807 non-null  float64\n",
      " 2   V2      284807 non-null  float64\n",
      " 3   V3      284807 non-null  float64\n",
      " 4   V4      284807 non-null  float64\n",
      " 5   V5      284807 non-null  float64\n",
      " 6   V6      284807 non-null  float64\n",
      " 7   V7      284807 non-null  float64\n",
      " 8   V8      284807 non-null  float64\n",
      " 9   V9      284807 non-null  float64\n",
      " 10  V10     284807 non-null  float64\n",
      " 11  V11     284807 non-null  float64\n",
      " 12  V12     284807 non-null  float64\n",
      " 13  V13     284807 non-null  float64\n",
      " 14  V14     284807 non-null  float64\n",
      " 15  V15     284807 non-null  float64\n",
      " 16  V16     284807 non-null  float64\n",
      " 17  V17     284807 non-null  float64\n",
      " 18  V18     284807 non-null  float64\n",
      " 19  V19     284807 non-null  float64\n",
      " 20  V20     284807 non-null  float64\n",
      " 21  V21     284807 non-null  float64\n",
      " 22  V22     284807 non-null  float64\n",
      " 23  V23     284807 non-null  float64\n",
      " 24  V24     284807 non-null  float64\n",
      " 25  V25     284807 non-null  float64\n",
      " 26  V26     284807 non-null  float64\n",
      " 27  V27     284807 non-null  float64\n",
      " 28  V28     284807 non-null  float64\n",
      " 29  Amount  284807 non-null  float64\n",
      " 30  Class   284807 non-null  int64  \n",
      "dtypes: float64(30), int64(1)\n",
      "memory usage: 67.4 MB\n"
     ]
    }
   ],
   "source": [
    "data.info()"
   ]
  },
  {
   "cell_type": "code",
   "execution_count": 5,
   "metadata": {},
   "outputs": [
    {
     "data": {
      "text/plain": [
       "(284807, 31)"
      ]
     },
     "execution_count": 5,
     "metadata": {},
     "output_type": "execute_result"
    }
   ],
   "source": [
    "data.shape"
   ]
  },
  {
   "cell_type": "code",
   "execution_count": 6,
   "metadata": {},
   "outputs": [],
   "source": [
    "data = data.drop_duplicates()"
   ]
  },
  {
   "cell_type": "code",
   "execution_count": 7,
   "metadata": {},
   "outputs": [
    {
     "data": {
      "text/plain": [
       "(283726, 31)"
      ]
     },
     "execution_count": 7,
     "metadata": {},
     "output_type": "execute_result"
    }
   ],
   "source": [
    "data.shape"
   ]
  },
  {
   "cell_type": "code",
   "execution_count": 8,
   "metadata": {},
   "outputs": [
    {
     "data": {
      "text/plain": [
       "Time      0\n",
       "V1        0\n",
       "V2        0\n",
       "V3        0\n",
       "V4        0\n",
       "V5        0\n",
       "V6        0\n",
       "V7        0\n",
       "V8        0\n",
       "V9        0\n",
       "V10       0\n",
       "V11       0\n",
       "V12       0\n",
       "V13       0\n",
       "V14       0\n",
       "V15       0\n",
       "V16       0\n",
       "V17       0\n",
       "V18       0\n",
       "V19       0\n",
       "V20       0\n",
       "V21       0\n",
       "V22       0\n",
       "V23       0\n",
       "V24       0\n",
       "V25       0\n",
       "V26       0\n",
       "V27       0\n",
       "V28       0\n",
       "Amount    0\n",
       "Class     0\n",
       "dtype: int64"
      ]
     },
     "execution_count": 8,
     "metadata": {},
     "output_type": "execute_result"
    }
   ],
   "source": [
    "data.isnull().sum()"
   ]
  },
  {
   "cell_type": "code",
   "execution_count": 9,
   "metadata": {},
   "outputs": [
    {
     "data": {
      "text/plain": [
       "Time      124592\n",
       "V1        275663\n",
       "V2        275663\n",
       "V3        275663\n",
       "V4        275663\n",
       "V5        275663\n",
       "V6        275663\n",
       "V7        275663\n",
       "V8        275663\n",
       "V9        275663\n",
       "V10       275663\n",
       "V11       275663\n",
       "V12       275663\n",
       "V13       275663\n",
       "V14       275663\n",
       "V15       275663\n",
       "V16       275663\n",
       "V17       275663\n",
       "V18       275663\n",
       "V19       275663\n",
       "V20       275663\n",
       "V21       275663\n",
       "V22       275663\n",
       "V23       275663\n",
       "V24       275663\n",
       "V25       275663\n",
       "V26       275663\n",
       "V27       275663\n",
       "V28       275663\n",
       "Amount     32767\n",
       "Class          2\n",
       "dtype: int64"
      ]
     },
     "execution_count": 9,
     "metadata": {},
     "output_type": "execute_result"
    }
   ],
   "source": [
    "data.nunique()"
   ]
  },
  {
   "cell_type": "markdown",
   "execution_count": null,
   "metadata": {},
   "source": [
    "##### Converting the time column into hours"
   ]
  },
  {
   "cell_type": "code",
   "execution_count": 10,
   "metadata": {},
   "outputs": [
    {
     "data": {
      "text/html": [
       "<div>\n",
       "<style scoped>\n",
       "    .dataframe tbody tr th:only-of-type {\n",
       "        vertical-align: middle;\n",
       "    }\n",
       "\n",
       "    .dataframe tbody tr th {\n",
       "        vertical-align: top;\n",
       "    }\n",
       "\n",
       "    .dataframe thead th {\n",
       "        text-align: right;\n",
       "    }\n",
       "</style>\n",
       "<table border=\"1\" class=\"dataframe\">\n",
       "  <thead>\n",
       "    <tr style=\"text-align: right;\">\n",
       "      <th></th>\n",
       "      <th>Time</th>\n",
       "      <th>V1</th>\n",
       "      <th>V2</th>\n",
       "      <th>V3</th>\n",
       "      <th>V4</th>\n",
       "      <th>V5</th>\n",
       "      <th>V6</th>\n",
       "      <th>V7</th>\n",
       "      <th>V8</th>\n",
       "      <th>V9</th>\n",
       "      <th>...</th>\n",
       "      <th>V22</th>\n",
       "      <th>V23</th>\n",
       "      <th>V24</th>\n",
       "      <th>V25</th>\n",
       "      <th>V26</th>\n",
       "      <th>V27</th>\n",
       "      <th>V28</th>\n",
       "      <th>Amount</th>\n",
       "      <th>Class</th>\n",
       "      <th>Time_Hr</th>\n",
       "    </tr>\n",
       "  </thead>\n",
       "  <tbody>\n",
       "    <tr>\n",
       "      <th>0</th>\n",
       "      <td>0.0</td>\n",
       "      <td>-1.359807</td>\n",
       "      <td>-0.072781</td>\n",
       "      <td>2.536347</td>\n",
       "      <td>1.378155</td>\n",
       "      <td>-0.338321</td>\n",
       "      <td>0.462388</td>\n",
       "      <td>0.239599</td>\n",
       "      <td>0.098698</td>\n",
       "      <td>0.363787</td>\n",
       "      <td>...</td>\n",
       "      <td>0.277838</td>\n",
       "      <td>-0.110474</td>\n",
       "      <td>0.066928</td>\n",
       "      <td>0.128539</td>\n",
       "      <td>-0.189115</td>\n",
       "      <td>0.133558</td>\n",
       "      <td>-0.021053</td>\n",
       "      <td>149.62</td>\n",
       "      <td>0</td>\n",
       "      <td>0.000000</td>\n",
       "    </tr>\n",
       "    <tr>\n",
       "      <th>1</th>\n",
       "      <td>0.0</td>\n",
       "      <td>1.191857</td>\n",
       "      <td>0.266151</td>\n",
       "      <td>0.166480</td>\n",
       "      <td>0.448154</td>\n",
       "      <td>0.060018</td>\n",
       "      <td>-0.082361</td>\n",
       "      <td>-0.078803</td>\n",
       "      <td>0.085102</td>\n",
       "      <td>-0.255425</td>\n",
       "      <td>...</td>\n",
       "      <td>-0.638672</td>\n",
       "      <td>0.101288</td>\n",
       "      <td>-0.339846</td>\n",
       "      <td>0.167170</td>\n",
       "      <td>0.125895</td>\n",
       "      <td>-0.008983</td>\n",
       "      <td>0.014724</td>\n",
       "      <td>2.69</td>\n",
       "      <td>0</td>\n",
       "      <td>0.000000</td>\n",
       "    </tr>\n",
       "    <tr>\n",
       "      <th>2</th>\n",
       "      <td>1.0</td>\n",
       "      <td>-1.358354</td>\n",
       "      <td>-1.340163</td>\n",
       "      <td>1.773209</td>\n",
       "      <td>0.379780</td>\n",
       "      <td>-0.503198</td>\n",
       "      <td>1.800499</td>\n",
       "      <td>0.791461</td>\n",
       "      <td>0.247676</td>\n",
       "      <td>-1.514654</td>\n",
       "      <td>...</td>\n",
       "      <td>0.771679</td>\n",
       "      <td>0.909412</td>\n",
       "      <td>-0.689281</td>\n",
       "      <td>-0.327642</td>\n",
       "      <td>-0.139097</td>\n",
       "      <td>-0.055353</td>\n",
       "      <td>-0.059752</td>\n",
       "      <td>378.66</td>\n",
       "      <td>0</td>\n",
       "      <td>0.000278</td>\n",
       "    </tr>\n",
       "    <tr>\n",
       "      <th>3</th>\n",
       "      <td>1.0</td>\n",
       "      <td>-0.966272</td>\n",
       "      <td>-0.185226</td>\n",
       "      <td>1.792993</td>\n",
       "      <td>-0.863291</td>\n",
       "      <td>-0.010309</td>\n",
       "      <td>1.247203</td>\n",
       "      <td>0.237609</td>\n",
       "      <td>0.377436</td>\n",
       "      <td>-1.387024</td>\n",
       "      <td>...</td>\n",
       "      <td>0.005274</td>\n",
       "      <td>-0.190321</td>\n",
       "      <td>-1.175575</td>\n",
       "      <td>0.647376</td>\n",
       "      <td>-0.221929</td>\n",
       "      <td>0.062723</td>\n",
       "      <td>0.061458</td>\n",
       "      <td>123.50</td>\n",
       "      <td>0</td>\n",
       "      <td>0.000278</td>\n",
       "    </tr>\n",
       "    <tr>\n",
       "      <th>4</th>\n",
       "      <td>2.0</td>\n",
       "      <td>-1.158233</td>\n",
       "      <td>0.877737</td>\n",
       "      <td>1.548718</td>\n",
       "      <td>0.403034</td>\n",
       "      <td>-0.407193</td>\n",
       "      <td>0.095921</td>\n",
       "      <td>0.592941</td>\n",
       "      <td>-0.270533</td>\n",
       "      <td>0.817739</td>\n",
       "      <td>...</td>\n",
       "      <td>0.798278</td>\n",
       "      <td>-0.137458</td>\n",
       "      <td>0.141267</td>\n",
       "      <td>-0.206010</td>\n",
       "      <td>0.502292</td>\n",
       "      <td>0.219422</td>\n",
       "      <td>0.215153</td>\n",
       "      <td>69.99</td>\n",
       "      <td>0</td>\n",
       "      <td>0.000556</td>\n",
       "    </tr>\n",
       "    <tr>\n",
       "      <th>...</th>\n",
       "      <td>...</td>\n",
       "      <td>...</td>\n",
       "      <td>...</td>\n",
       "      <td>...</td>\n",
       "      <td>...</td>\n",
       "      <td>...</td>\n",
       "      <td>...</td>\n",
       "      <td>...</td>\n",
       "      <td>...</td>\n",
       "      <td>...</td>\n",
       "      <td>...</td>\n",
       "      <td>...</td>\n",
       "      <td>...</td>\n",
       "      <td>...</td>\n",
       "      <td>...</td>\n",
       "      <td>...</td>\n",
       "      <td>...</td>\n",
       "      <td>...</td>\n",
       "      <td>...</td>\n",
       "      <td>...</td>\n",
       "      <td>...</td>\n",
       "    </tr>\n",
       "    <tr>\n",
       "      <th>284802</th>\n",
       "      <td>172786.0</td>\n",
       "      <td>-11.881118</td>\n",
       "      <td>10.071785</td>\n",
       "      <td>-9.834783</td>\n",
       "      <td>-2.066656</td>\n",
       "      <td>-5.364473</td>\n",
       "      <td>-2.606837</td>\n",
       "      <td>-4.918215</td>\n",
       "      <td>7.305334</td>\n",
       "      <td>1.914428</td>\n",
       "      <td>...</td>\n",
       "      <td>0.111864</td>\n",
       "      <td>1.014480</td>\n",
       "      <td>-0.509348</td>\n",
       "      <td>1.436807</td>\n",
       "      <td>0.250034</td>\n",
       "      <td>0.943651</td>\n",
       "      <td>0.823731</td>\n",
       "      <td>0.77</td>\n",
       "      <td>0</td>\n",
       "      <td>47.996111</td>\n",
       "    </tr>\n",
       "    <tr>\n",
       "      <th>284803</th>\n",
       "      <td>172787.0</td>\n",
       "      <td>-0.732789</td>\n",
       "      <td>-0.055080</td>\n",
       "      <td>2.035030</td>\n",
       "      <td>-0.738589</td>\n",
       "      <td>0.868229</td>\n",
       "      <td>1.058415</td>\n",
       "      <td>0.024330</td>\n",
       "      <td>0.294869</td>\n",
       "      <td>0.584800</td>\n",
       "      <td>...</td>\n",
       "      <td>0.924384</td>\n",
       "      <td>0.012463</td>\n",
       "      <td>-1.016226</td>\n",
       "      <td>-0.606624</td>\n",
       "      <td>-0.395255</td>\n",
       "      <td>0.068472</td>\n",
       "      <td>-0.053527</td>\n",
       "      <td>24.79</td>\n",
       "      <td>0</td>\n",
       "      <td>47.996389</td>\n",
       "    </tr>\n",
       "    <tr>\n",
       "      <th>284804</th>\n",
       "      <td>172788.0</td>\n",
       "      <td>1.919565</td>\n",
       "      <td>-0.301254</td>\n",
       "      <td>-3.249640</td>\n",
       "      <td>-0.557828</td>\n",
       "      <td>2.630515</td>\n",
       "      <td>3.031260</td>\n",
       "      <td>-0.296827</td>\n",
       "      <td>0.708417</td>\n",
       "      <td>0.432454</td>\n",
       "      <td>...</td>\n",
       "      <td>0.578229</td>\n",
       "      <td>-0.037501</td>\n",
       "      <td>0.640134</td>\n",
       "      <td>0.265745</td>\n",
       "      <td>-0.087371</td>\n",
       "      <td>0.004455</td>\n",
       "      <td>-0.026561</td>\n",
       "      <td>67.88</td>\n",
       "      <td>0</td>\n",
       "      <td>47.996667</td>\n",
       "    </tr>\n",
       "    <tr>\n",
       "      <th>284805</th>\n",
       "      <td>172788.0</td>\n",
       "      <td>-0.240440</td>\n",
       "      <td>0.530483</td>\n",
       "      <td>0.702510</td>\n",
       "      <td>0.689799</td>\n",
       "      <td>-0.377961</td>\n",
       "      <td>0.623708</td>\n",
       "      <td>-0.686180</td>\n",
       "      <td>0.679145</td>\n",
       "      <td>0.392087</td>\n",
       "      <td>...</td>\n",
       "      <td>0.800049</td>\n",
       "      <td>-0.163298</td>\n",
       "      <td>0.123205</td>\n",
       "      <td>-0.569159</td>\n",
       "      <td>0.546668</td>\n",
       "      <td>0.108821</td>\n",
       "      <td>0.104533</td>\n",
       "      <td>10.00</td>\n",
       "      <td>0</td>\n",
       "      <td>47.996667</td>\n",
       "    </tr>\n",
       "    <tr>\n",
       "      <th>284806</th>\n",
       "      <td>172792.0</td>\n",
       "      <td>-0.533413</td>\n",
       "      <td>-0.189733</td>\n",
       "      <td>0.703337</td>\n",
       "      <td>-0.506271</td>\n",
       "      <td>-0.012546</td>\n",
       "      <td>-0.649617</td>\n",
       "      <td>1.577006</td>\n",
       "      <td>-0.414650</td>\n",
       "      <td>0.486180</td>\n",
       "      <td>...</td>\n",
       "      <td>0.643078</td>\n",
       "      <td>0.376777</td>\n",
       "      <td>0.008797</td>\n",
       "      <td>-0.473649</td>\n",
       "      <td>-0.818267</td>\n",
       "      <td>-0.002415</td>\n",
       "      <td>0.013649</td>\n",
       "      <td>217.00</td>\n",
       "      <td>0</td>\n",
       "      <td>47.997778</td>\n",
       "    </tr>\n",
       "  </tbody>\n",
       "</table>\n",
       "<p>283726 rows × 32 columns</p>\n",
       "</div>"
      ],
      "text/plain": [
       "            Time         V1         V2        V3        V4        V5  \\\n",
       "0            0.0  -1.359807  -0.072781  2.536347  1.378155 -0.338321   \n",
       "1            0.0   1.191857   0.266151  0.166480  0.448154  0.060018   \n",
       "2            1.0  -1.358354  -1.340163  1.773209  0.379780 -0.503198   \n",
       "3            1.0  -0.966272  -0.185226  1.792993 -0.863291 -0.010309   \n",
       "4            2.0  -1.158233   0.877737  1.548718  0.403034 -0.407193   \n",
       "...          ...        ...        ...       ...       ...       ...   \n",
       "284802  172786.0 -11.881118  10.071785 -9.834783 -2.066656 -5.364473   \n",
       "284803  172787.0  -0.732789  -0.055080  2.035030 -0.738589  0.868229   \n",
       "284804  172788.0   1.919565  -0.301254 -3.249640 -0.557828  2.630515   \n",
       "284805  172788.0  -0.240440   0.530483  0.702510  0.689799 -0.377961   \n",
       "284806  172792.0  -0.533413  -0.189733  0.703337 -0.506271 -0.012546   \n",
       "\n",
       "              V6        V7        V8        V9  ...       V22       V23  \\\n",
       "0       0.462388  0.239599  0.098698  0.363787  ...  0.277838 -0.110474   \n",
       "1      -0.082361 -0.078803  0.085102 -0.255425  ... -0.638672  0.101288   \n",
       "2       1.800499  0.791461  0.247676 -1.514654  ...  0.771679  0.909412   \n",
       "3       1.247203  0.237609  0.377436 -1.387024  ...  0.005274 -0.190321   \n",
       "4       0.095921  0.592941 -0.270533  0.817739  ...  0.798278 -0.137458   \n",
       "...          ...       ...       ...       ...  ...       ...       ...   \n",
       "284802 -2.606837 -4.918215  7.305334  1.914428  ...  0.111864  1.014480   \n",
       "284803  1.058415  0.024330  0.294869  0.584800  ...  0.924384  0.012463   \n",
       "284804  3.031260 -0.296827  0.708417  0.432454  ...  0.578229 -0.037501   \n",
       "284805  0.623708 -0.686180  0.679145  0.392087  ...  0.800049 -0.163298   \n",
       "284806 -0.649617  1.577006 -0.414650  0.486180  ...  0.643078  0.376777   \n",
       "\n",
       "             V24       V25       V26       V27       V28  Amount  Class  \\\n",
       "0       0.066928  0.128539 -0.189115  0.133558 -0.021053  149.62      0   \n",
       "1      -0.339846  0.167170  0.125895 -0.008983  0.014724    2.69      0   \n",
       "2      -0.689281 -0.327642 -0.139097 -0.055353 -0.059752  378.66      0   \n",
       "3      -1.175575  0.647376 -0.221929  0.062723  0.061458  123.50      0   \n",
       "4       0.141267 -0.206010  0.502292  0.219422  0.215153   69.99      0   \n",
       "...          ...       ...       ...       ...       ...     ...    ...   \n",
       "284802 -0.509348  1.436807  0.250034  0.943651  0.823731    0.77      0   \n",
       "284803 -1.016226 -0.606624 -0.395255  0.068472 -0.053527   24.79      0   \n",
       "284804  0.640134  0.265745 -0.087371  0.004455 -0.026561   67.88      0   \n",
       "284805  0.123205 -0.569159  0.546668  0.108821  0.104533   10.00      0   \n",
       "284806  0.008797 -0.473649 -0.818267 -0.002415  0.013649  217.00      0   \n",
       "\n",
       "          Time_Hr  \n",
       "0        0.000000  \n",
       "1        0.000000  \n",
       "2        0.000278  \n",
       "3        0.000278  \n",
       "4        0.000556  \n",
       "...           ...  \n",
       "284802  47.996111  \n",
       "284803  47.996389  \n",
       "284804  47.996667  \n",
       "284805  47.996667  \n",
       "284806  47.997778  \n",
       "\n",
       "[283726 rows x 32 columns]"
      ]
     },
     "execution_count": 10,
     "metadata": {},
     "output_type": "execute_result"
    }
   ],
   "source": [
    "data['Time_Hr'] = data['Time']/3600\n",
    "data"
   ]
  },
  {
   "cell_type": "code",
   "execution_count": 11,
   "metadata": {},
   "outputs": [
    {
     "data": {
      "text/plain": [
       "0    283253\n",
       "1       473\n",
       "Name: Class, dtype: int64"
      ]
     },
     "execution_count": 11,
     "metadata": {},
     "output_type": "execute_result"
    }
   ],
   "source": [
    "data['Class'].value_counts()"
   ]
  },
  {
   "cell_type": "code",
   "execution_count": 12,
   "metadata": {},
   "outputs": [],
   "source": [
    "def bar_graph(data,predictor):\n",
    "    grouped=data.groupby(predictor)\n",
    "    chart=grouped.size().plot.bar(rot=0, title='Bar Chart showing the size of different '+str(predictor))\n",
    "    chart.set_xlabel(predictor)\n",
    "    "
   ]
  },
  {
   "cell_type": "code",
   "execution_count": 13,
   "metadata": {},
   "outputs": [
    {
     "data": {
      "image/png": "[encoded data removed]",
      "text/plain": [
       "<Figure size 432x288 with 1 Axes>"
      ]
     },
     "metadata": {
      "needs_background": "light"
     },
     "output_type": "display_data"
    }
   ],
   "source": [
    "bar_graph(data=data,predictor='Class')"
   ]
  },
  {
   "cell_type": "code",
   "execution_count": 14,
   "metadata": {},
   "outputs": [
    {
     "data": {
      "text/plain": [
       "array([[<matplotlib.axes._subplots.AxesSubplot object at 0x7f128dcec810>,\n",
       "        <matplotlib.axes._subplots.AxesSubplot object at 0x7f128dd93490>,\n",
       "        <matplotlib.axes._subplots.AxesSubplot object at 0x7f128defc710>,\n",
       "        <matplotlib.axes._subplots.AxesSubplot object at 0x7f128dccd650>,\n",
       "        <matplotlib.axes._subplots.AxesSubplot object at 0x7f128dc82cd0>],\n",
       "       [<matplotlib.axes._subplots.AxesSubplot object at 0x7f128dc45390>,\n",
       "        <matplotlib.axes._subplots.AxesSubplot object at 0x7f128dbfaa90>,\n",
       "        <matplotlib.axes._subplots.AxesSubplot object at 0x7f128dbbd090>,\n",
       "        <matplotlib.axes._subplots.AxesSubplot object at 0x7f128dbbd0d0>,\n",
       "        <matplotlib.axes._subplots.AxesSubplot object at 0x7f128db74850>],\n",
       "       [<matplotlib.axes._subplots.AxesSubplot object at 0x7f128daee490>,\n",
       "        <matplotlib.axes._subplots.AxesSubplot object at 0x7f128daa1b10>,\n",
       "        <matplotlib.axes._subplots.AxesSubplot object at 0x7f128da661d0>,\n",
       "        <matplotlib.axes._subplots.AxesSubplot object at 0x7f128da1b850>,\n",
       "        <matplotlib.axes._subplots.AxesSubplot object at 0x7f128da51ed0>],\n",
       "       [<matplotlib.axes._subplots.AxesSubplot object at 0x7f128da13590>,\n",
       "        <matplotlib.axes._subplots.AxesSubplot object at 0x7f128d9cac10>,\n",
       "        <matplotlib.axes._subplots.AxesSubplot object at 0x7f128d98b2d0>,\n",
       "        <matplotlib.axes._subplots.AxesSubplot object at 0x7f128d942950>,\n",
       "        <matplotlib.axes._subplots.AxesSubplot object at 0x7f128d8edb10>],\n",
       "       [<matplotlib.axes._subplots.AxesSubplot object at 0x7f128d8b9690>,\n",
       "        <matplotlib.axes._subplots.AxesSubplot object at 0x7f128d870d10>,\n",
       "        <matplotlib.axes._subplots.AxesSubplot object at 0x7f128d8353d0>,\n",
       "        <matplotlib.axes._subplots.AxesSubplot object at 0x7f128d7e8a50>,\n",
       "        <matplotlib.axes._subplots.AxesSubplot object at 0x7f128d7ac110>],\n",
       "       [<matplotlib.axes._subplots.AxesSubplot object at 0x7f128d763790>,\n",
       "        <matplotlib.axes._subplots.AxesSubplot object at 0x7f128d797e10>,\n",
       "        <matplotlib.axes._subplots.AxesSubplot object at 0x7f128c6974d0>,\n",
       "        <matplotlib.axes._subplots.AxesSubplot object at 0x7f128c6ccb50>,\n",
       "        <matplotlib.axes._subplots.AxesSubplot object at 0x7f128c68f210>]],\n",
       "      dtype=object)"
      ]
     },
     "execution_count": 14,
     "metadata": {},
     "output_type": "execute_result"
    },
    {
     "data": {
      "image/png": "[encoded data removed]",
      "text/plain": [
       "<Figure size 1440x1080 with 30 Axes>"
      ]
     },
     "metadata": {
      "needs_background": "light"
     },
     "output_type": "display_data"
    }
   ],
   "source": [
    "%matplotlib inline\n",
    "import matplotlib.pyplot as plt\n",
    "%matplotlib inline\n",
    "data.hist(['V1','V2','V3','V4','V5', 'V6', 'V7', 'V8', 'V9', 'V10',\n",
    "       'V11', 'V12', 'V13', 'V14', 'V15', 'V16', 'V17', 'V18', 'V19', 'V20',\n",
    "       'V21', 'V22', 'V23', 'V24', 'V25', 'V26', 'V27', 'V28'],figsize=(20,15))"
   ]
  },
  {
   "cell_type": "code",
   "execution_count": 15,
   "metadata": {},
   "outputs": [
    {
     "data": {
      "text/plain": [
       "<matplotlib.axes._subplots.AxesSubplot at 0x7f128c132f10>"
      ]
     },
     "execution_count": 15,
     "metadata": {},
     "output_type": "execute_result"
    },
    {
     "data": {
      "image/png": "[encoded data removed]",
      "text/plain": [
       "<Figure size 432x288 with 1 Axes>"
      ]
     },
     "metadata": {
      "needs_background": "light"
     },
     "output_type": "display_data"
    }
   ],
   "source": [
    "data.boxplot(by='Class', column='Amount')"
   ]
  },
  {
   "cell_type": "code",
   "execution_count": 16,
   "metadata": {},
   "outputs": [],
   "source": [
    "data= data[data['Amount']<20000]"
   ]
  },
  {
   "cell_type": "code",
   "execution_count": 17,
   "metadata": {},
   "outputs": [
    {
     "name": "stderr",
     "output_type": "stream",
     "text": [
      "/opt/conda/lib/python3.7/site-packages/ipykernel_launcher.py:1: SettingWithCopyWarning: \n",
      "A value is trying to be set on a copy of a slice from a DataFrame\n",
      "\n",
      "See the caveats in the documentation: https://pandas.pydata.org/pandas-docs/stable/user_guide/indexing.html#returning-a-view-versus-a-copy\n",
      "  \"\"\"Entry point for launching an IPython kernel.\n",
      "/opt/conda/lib/python3.7/site-packages/pandas/core/generic.py:8765: SettingWithCopyWarning: \n",
      "A value is trying to be set on a copy of a slice from a DataFrame\n",
      "\n",
      "See the caveats in the documentation: https://pandas.pydata.org/pandas-docs/stable/user_guide/indexing.html#returning-a-view-versus-a-copy\n",
      "  self._update_inplace(new_data)\n"
     ]
    }
   ],
   "source": [
    "data['Amount'][data['Amount']>12000]=12000"
   ]
  },
  {
   "cell_type": "code",
   "execution_count": 18,
   "metadata": {},
   "outputs": [
    {
     "data": {
      "text/plain": [
       "<matplotlib.axes._subplots.AxesSubplot at 0x7f128572a9d0>"
      ]
     },
     "execution_count": 18,
     "metadata": {},
     "output_type": "execute_result"
    },
    {
     "data": {
      "image/png": "[encoded data removed]",
      "text/plain": [
       "<Figure size 432x288 with 1 Axes>"
      ]
     },
     "metadata": {
      "needs_background": "light"
     },
     "output_type": "display_data"
    }
   ],
   "source": [
    "data.boxplot(by='Class', column='Amount')"
   ]
  },
  {
   "cell_type": "code",
   "execution_count": 19,
   "metadata": {},
   "outputs": [
    {
     "data": {
      "text/html": [
       "<div>\n",
       "<style scoped>\n",
       "    .dataframe tbody tr th:only-of-type {\n",
       "        vertical-align: middle;\n",
       "    }\n",
       "\n",
       "    .dataframe tbody tr th {\n",
       "        vertical-align: top;\n",
       "    }\n",
       "\n",
       "    .dataframe thead th {\n",
       "        text-align: right;\n",
       "    }\n",
       "</style>\n",
       "<table border=\"1\" class=\"dataframe\">\n",
       "  <thead>\n",
       "    <tr style=\"text-align: right;\">\n",
       "      <th></th>\n",
       "      <th>Time</th>\n",
       "      <th>V1</th>\n",
       "      <th>V2</th>\n",
       "      <th>V3</th>\n",
       "      <th>V4</th>\n",
       "      <th>V5</th>\n",
       "      <th>V6</th>\n",
       "      <th>V7</th>\n",
       "      <th>V8</th>\n",
       "      <th>V9</th>\n",
       "      <th>...</th>\n",
       "      <th>V22</th>\n",
       "      <th>V23</th>\n",
       "      <th>V24</th>\n",
       "      <th>V25</th>\n",
       "      <th>V26</th>\n",
       "      <th>V27</th>\n",
       "      <th>V28</th>\n",
       "      <th>Amount</th>\n",
       "      <th>Class</th>\n",
       "      <th>Time_Hr</th>\n",
       "    </tr>\n",
       "  </thead>\n",
       "  <tbody>\n",
       "    <tr>\n",
       "      <th>Time</th>\n",
       "      <td>1.000000</td>\n",
       "      <td>0.118093</td>\n",
       "      <td>-0.010460</td>\n",
       "      <td>-0.422651</td>\n",
       "      <td>-0.105925</td>\n",
       "      <td>0.175788</td>\n",
       "      <td>-0.063913</td>\n",
       "      <td>0.086295</td>\n",
       "      <td>-0.038117</td>\n",
       "      <td>-0.007843</td>\n",
       "      <td>...</td>\n",
       "      <td>0.143702</td>\n",
       "      <td>0.051488</td>\n",
       "      <td>-0.015996</td>\n",
       "      <td>-0.233340</td>\n",
       "      <td>-0.041860</td>\n",
       "      <td>-0.005659</td>\n",
       "      <td>-0.009091</td>\n",
       "      <td>-0.011349</td>\n",
       "      <td>-0.012359</td>\n",
       "      <td>1.000000</td>\n",
       "    </tr>\n",
       "    <tr>\n",
       "      <th>V1</th>\n",
       "      <td>0.118093</td>\n",
       "      <td>1.000000</td>\n",
       "      <td>0.005638</td>\n",
       "      <td>-0.010197</td>\n",
       "      <td>0.002956</td>\n",
       "      <td>-0.012508</td>\n",
       "      <td>0.003977</td>\n",
       "      <td>-0.002906</td>\n",
       "      <td>-0.002664</td>\n",
       "      <td>0.001602</td>\n",
       "      <td>...</td>\n",
       "      <td>-0.000930</td>\n",
       "      <td>-0.001494</td>\n",
       "      <td>-0.000236</td>\n",
       "      <td>0.000340</td>\n",
       "      <td>-0.000228</td>\n",
       "      <td>-0.010695</td>\n",
       "      <td>-0.007922</td>\n",
       "      <td>-0.227079</td>\n",
       "      <td>-0.094544</td>\n",
       "      <td>0.118093</td>\n",
       "    </tr>\n",
       "    <tr>\n",
       "      <th>V2</th>\n",
       "      <td>-0.010460</td>\n",
       "      <td>0.005638</td>\n",
       "      <td>1.000000</td>\n",
       "      <td>0.003102</td>\n",
       "      <td>-0.000758</td>\n",
       "      <td>-0.000426</td>\n",
       "      <td>0.003176</td>\n",
       "      <td>0.014376</td>\n",
       "      <td>0.001320</td>\n",
       "      <td>-0.000515</td>\n",
       "      <td>...</td>\n",
       "      <td>0.001776</td>\n",
       "      <td>-0.004030</td>\n",
       "      <td>0.001217</td>\n",
       "      <td>-0.000974</td>\n",
       "      <td>0.000737</td>\n",
       "      <td>0.013157</td>\n",
       "      <td>-0.001602</td>\n",
       "      <td>-0.536083</td>\n",
       "      <td>0.084677</td>\n",
       "      <td>-0.010460</td>\n",
       "    </tr>\n",
       "    <tr>\n",
       "      <th>V3</th>\n",
       "      <td>-0.422651</td>\n",
       "      <td>-0.010197</td>\n",
       "      <td>0.003102</td>\n",
       "      <td>1.000000</td>\n",
       "      <td>0.004059</td>\n",
       "      <td>-0.016433</td>\n",
       "      <td>0.004736</td>\n",
       "      <td>-0.000644</td>\n",
       "      <td>-0.004446</td>\n",
       "      <td>-0.003985</td>\n",
       "      <td>...</td>\n",
       "      <td>0.000617</td>\n",
       "      <td>0.000163</td>\n",
       "      <td>0.000784</td>\n",
       "      <td>0.001414</td>\n",
       "      <td>0.000707</td>\n",
       "      <td>0.001994</td>\n",
       "      <td>-0.005476</td>\n",
       "      <td>-0.204883</td>\n",
       "      <td>-0.182657</td>\n",
       "      <td>-0.422651</td>\n",
       "    </tr>\n",
       "    <tr>\n",
       "      <th>V4</th>\n",
       "      <td>-0.105925</td>\n",
       "      <td>0.002956</td>\n",
       "      <td>-0.000758</td>\n",
       "      <td>0.004059</td>\n",
       "      <td>1.000000</td>\n",
       "      <td>0.004956</td>\n",
       "      <td>-0.002997</td>\n",
       "      <td>0.000926</td>\n",
       "      <td>0.001777</td>\n",
       "      <td>0.002290</td>\n",
       "      <td>...</td>\n",
       "      <td>-0.000185</td>\n",
       "      <td>0.000829</td>\n",
       "      <td>-0.000409</td>\n",
       "      <td>-0.000172</td>\n",
       "      <td>0.000507</td>\n",
       "      <td>-0.001745</td>\n",
       "      <td>0.002034</td>\n",
       "      <td>0.096218</td>\n",
       "      <td>0.129354</td>\n",
       "      <td>-0.105925</td>\n",
       "    </tr>\n",
       "    <tr>\n",
       "      <th>V5</th>\n",
       "      <td>0.175788</td>\n",
       "      <td>-0.012508</td>\n",
       "      <td>-0.000426</td>\n",
       "      <td>-0.016433</td>\n",
       "      <td>0.004956</td>\n",
       "      <td>1.000000</td>\n",
       "      <td>0.015352</td>\n",
       "      <td>0.020483</td>\n",
       "      <td>-0.005392</td>\n",
       "      <td>-0.002269</td>\n",
       "      <td>...</td>\n",
       "      <td>0.001758</td>\n",
       "      <td>0.000451</td>\n",
       "      <td>0.002431</td>\n",
       "      <td>0.002646</td>\n",
       "      <td>0.002483</td>\n",
       "      <td>0.017873</td>\n",
       "      <td>-0.014751</td>\n",
       "      <td>-0.371152</td>\n",
       "      <td>-0.088900</td>\n",
       "      <td>0.175788</td>\n",
       "    </tr>\n",
       "    <tr>\n",
       "      <th>V6</th>\n",
       "      <td>-0.063913</td>\n",
       "      <td>0.003977</td>\n",
       "      <td>0.003176</td>\n",
       "      <td>0.004736</td>\n",
       "      <td>-0.002997</td>\n",
       "      <td>0.015352</td>\n",
       "      <td>1.000000</td>\n",
       "      <td>-0.019044</td>\n",
       "      <td>0.007582</td>\n",
       "      <td>-0.000049</td>\n",
       "      <td>...</td>\n",
       "      <td>-0.000428</td>\n",
       "      <td>-0.000265</td>\n",
       "      <td>-0.000268</td>\n",
       "      <td>-0.001004</td>\n",
       "      <td>-0.001410</td>\n",
       "      <td>-0.015461</td>\n",
       "      <td>0.010143</td>\n",
       "      <td>0.203031</td>\n",
       "      <td>-0.044144</td>\n",
       "      <td>-0.063913</td>\n",
       "    </tr>\n",
       "    <tr>\n",
       "      <th>V7</th>\n",
       "      <td>0.086295</td>\n",
       "      <td>-0.002906</td>\n",
       "      <td>0.014376</td>\n",
       "      <td>-0.000644</td>\n",
       "      <td>0.000926</td>\n",
       "      <td>0.020483</td>\n",
       "      <td>-0.019044</td>\n",
       "      <td>1.000000</td>\n",
       "      <td>0.001640</td>\n",
       "      <td>-0.003763</td>\n",
       "      <td>...</td>\n",
       "      <td>-0.005098</td>\n",
       "      <td>0.004254</td>\n",
       "      <td>-0.003058</td>\n",
       "      <td>-0.003152</td>\n",
       "      <td>-0.001861</td>\n",
       "      <td>-0.033126</td>\n",
       "      <td>0.018327</td>\n",
       "      <td>0.379274</td>\n",
       "      <td>-0.175339</td>\n",
       "      <td>0.086295</td>\n",
       "    </tr>\n",
       "    <tr>\n",
       "      <th>V8</th>\n",
       "      <td>-0.038117</td>\n",
       "      <td>-0.002664</td>\n",
       "      <td>0.001320</td>\n",
       "      <td>-0.004446</td>\n",
       "      <td>0.001777</td>\n",
       "      <td>-0.005392</td>\n",
       "      <td>0.007582</td>\n",
       "      <td>0.001640</td>\n",
       "      <td>1.000000</td>\n",
       "      <td>0.000750</td>\n",
       "      <td>...</td>\n",
       "      <td>-0.005518</td>\n",
       "      <td>0.004791</td>\n",
       "      <td>0.000732</td>\n",
       "      <td>0.000726</td>\n",
       "      <td>-0.000828</td>\n",
       "      <td>0.007231</td>\n",
       "      <td>-0.003964</td>\n",
       "      <td>-0.098712</td>\n",
       "      <td>0.033096</td>\n",
       "      <td>-0.038117</td>\n",
       "    </tr>\n",
       "    <tr>\n",
       "      <th>V9</th>\n",
       "      <td>-0.007843</td>\n",
       "      <td>0.001602</td>\n",
       "      <td>-0.000515</td>\n",
       "      <td>-0.003985</td>\n",
       "      <td>0.002290</td>\n",
       "      <td>-0.002269</td>\n",
       "      <td>-0.000049</td>\n",
       "      <td>-0.003763</td>\n",
       "      <td>0.000750</td>\n",
       "      <td>1.000000</td>\n",
       "      <td>...</td>\n",
       "      <td>0.000883</td>\n",
       "      <td>0.000645</td>\n",
       "      <td>-0.000009</td>\n",
       "      <td>-0.000166</td>\n",
       "      <td>0.001342</td>\n",
       "      <td>0.009321</td>\n",
       "      <td>0.005025</td>\n",
       "      <td>-0.044007</td>\n",
       "      <td>-0.094024</td>\n",
       "      <td>-0.007843</td>\n",
       "    </tr>\n",
       "    <tr>\n",
       "      <th>V10</th>\n",
       "      <td>0.031134</td>\n",
       "      <td>0.000098</td>\n",
       "      <td>-0.000140</td>\n",
       "      <td>-0.010913</td>\n",
       "      <td>0.003180</td>\n",
       "      <td>-0.009412</td>\n",
       "      <td>-0.000017</td>\n",
       "      <td>-0.009929</td>\n",
       "      <td>-0.000431</td>\n",
       "      <td>-0.012755</td>\n",
       "      <td>...</td>\n",
       "      <td>-0.000171</td>\n",
       "      <td>0.001817</td>\n",
       "      <td>0.000452</td>\n",
       "      <td>-0.000221</td>\n",
       "      <td>0.001368</td>\n",
       "      <td>0.014071</td>\n",
       "      <td>0.007340</td>\n",
       "      <td>-0.099768</td>\n",
       "      <td>-0.207018</td>\n",
       "      <td>0.031134</td>\n",
       "    </tr>\n",
       "    <tr>\n",
       "      <th>V11</th>\n",
       "      <td>-0.248592</td>\n",
       "      <td>0.001462</td>\n",
       "      <td>-0.000175</td>\n",
       "      <td>0.003104</td>\n",
       "      <td>-0.001480</td>\n",
       "      <td>0.002399</td>\n",
       "      <td>-0.001524</td>\n",
       "      <td>0.000127</td>\n",
       "      <td>0.005243</td>\n",
       "      <td>-0.000133</td>\n",
       "      <td>...</td>\n",
       "      <td>-0.000337</td>\n",
       "      <td>0.000023</td>\n",
       "      <td>-0.000100</td>\n",
       "      <td>-0.000160</td>\n",
       "      <td>-0.000372</td>\n",
       "      <td>0.000094</td>\n",
       "      <td>0.003693</td>\n",
       "      <td>-0.002661</td>\n",
       "      <td>0.149080</td>\n",
       "      <td>-0.248592</td>\n",
       "    </tr>\n",
       "    <tr>\n",
       "      <th>V12</th>\n",
       "      <td>0.125569</td>\n",
       "      <td>-0.002120</td>\n",
       "      <td>0.001638</td>\n",
       "      <td>-0.006957</td>\n",
       "      <td>0.003719</td>\n",
       "      <td>-0.005094</td>\n",
       "      <td>0.000610</td>\n",
       "      <td>-0.003007</td>\n",
       "      <td>-0.005175</td>\n",
       "      <td>-0.002500</td>\n",
       "      <td>...</td>\n",
       "      <td>0.000408</td>\n",
       "      <td>0.000403</td>\n",
       "      <td>0.000834</td>\n",
       "      <td>0.000104</td>\n",
       "      <td>0.000092</td>\n",
       "      <td>0.001692</td>\n",
       "      <td>-0.002154</td>\n",
       "      <td>-0.006116</td>\n",
       "      <td>-0.250750</td>\n",
       "      <td>0.125569</td>\n",
       "    </tr>\n",
       "    <tr>\n",
       "      <th>V13</th>\n",
       "      <td>-0.066002</td>\n",
       "      <td>-0.000107</td>\n",
       "      <td>0.001168</td>\n",
       "      <td>0.000923</td>\n",
       "      <td>-0.000096</td>\n",
       "      <td>0.002129</td>\n",
       "      <td>-0.000997</td>\n",
       "      <td>-0.002695</td>\n",
       "      <td>-0.000797</td>\n",
       "      <td>0.000834</td>\n",
       "      <td>...</td>\n",
       "      <td>-0.000183</td>\n",
       "      <td>0.000316</td>\n",
       "      <td>-0.000240</td>\n",
       "      <td>0.000028</td>\n",
       "      <td>-0.000280</td>\n",
       "      <td>-0.003634</td>\n",
       "      <td>0.000585</td>\n",
       "      <td>0.001925</td>\n",
       "      <td>-0.003896</td>\n",
       "      <td>-0.066002</td>\n",
       "    </tr>\n",
       "    <tr>\n",
       "      <th>V14</th>\n",
       "      <td>-0.100288</td>\n",
       "      <td>-0.003124</td>\n",
       "      <td>0.002226</td>\n",
       "      <td>-0.003840</td>\n",
       "      <td>0.003074</td>\n",
       "      <td>-0.003116</td>\n",
       "      <td>0.001577</td>\n",
       "      <td>-0.001368</td>\n",
       "      <td>-0.008980</td>\n",
       "      <td>0.001893</td>\n",
       "      <td>...</td>\n",
       "      <td>-0.001708</td>\n",
       "      <td>0.000602</td>\n",
       "      <td>0.000164</td>\n",
       "      <td>0.000375</td>\n",
       "      <td>-0.000524</td>\n",
       "      <td>-0.002576</td>\n",
       "      <td>-0.005871</td>\n",
       "      <td>0.036780</td>\n",
       "      <td>-0.293403</td>\n",
       "      <td>-0.100288</td>\n",
       "    </tr>\n",
       "    <tr>\n",
       "      <th>V15</th>\n",
       "      <td>-0.184475</td>\n",
       "      <td>0.000022</td>\n",
       "      <td>0.002201</td>\n",
       "      <td>-0.000135</td>\n",
       "      <td>0.000202</td>\n",
       "      <td>0.001675</td>\n",
       "      <td>-0.002365</td>\n",
       "      <td>-0.004836</td>\n",
       "      <td>0.001839</td>\n",
       "      <td>-0.000162</td>\n",
       "      <td>...</td>\n",
       "      <td>-0.001467</td>\n",
       "      <td>0.001056</td>\n",
       "      <td>-0.000146</td>\n",
       "      <td>0.000146</td>\n",
       "      <td>-0.002277</td>\n",
       "      <td>-0.003412</td>\n",
       "      <td>0.002477</td>\n",
       "      <td>-0.007454</td>\n",
       "      <td>-0.003299</td>\n",
       "      <td>-0.184475</td>\n",
       "    </tr>\n",
       "    <tr>\n",
       "      <th>V16</th>\n",
       "      <td>0.011189</td>\n",
       "      <td>-0.002073</td>\n",
       "      <td>0.005371</td>\n",
       "      <td>-0.002199</td>\n",
       "      <td>0.002593</td>\n",
       "      <td>0.003440</td>\n",
       "      <td>-0.003744</td>\n",
       "      <td>-0.013037</td>\n",
       "      <td>-0.002760</td>\n",
       "      <td>0.000161</td>\n",
       "      <td>...</td>\n",
       "      <td>-0.001372</td>\n",
       "      <td>0.001387</td>\n",
       "      <td>-0.001011</td>\n",
       "      <td>-0.000396</td>\n",
       "      <td>-0.001741</td>\n",
       "      <td>-0.009669</td>\n",
       "      <td>0.001664</td>\n",
       "      <td>-0.012505</td>\n",
       "      <td>-0.187313</td>\n",
       "      <td>0.011189</td>\n",
       "    </tr>\n",
       "    <tr>\n",
       "      <th>V17</th>\n",
       "      <td>-0.073784</td>\n",
       "      <td>-0.004042</td>\n",
       "      <td>0.002666</td>\n",
       "      <td>-0.009138</td>\n",
       "      <td>0.003982</td>\n",
       "      <td>-0.007031</td>\n",
       "      <td>-0.000065</td>\n",
       "      <td>-0.005949</td>\n",
       "      <td>-0.006279</td>\n",
       "      <td>-0.002424</td>\n",
       "      <td>...</td>\n",
       "      <td>0.000075</td>\n",
       "      <td>0.000591</td>\n",
       "      <td>0.001234</td>\n",
       "      <td>-0.000422</td>\n",
       "      <td>0.000370</td>\n",
       "      <td>-0.001035</td>\n",
       "      <td>-0.004131</td>\n",
       "      <td>0.010956</td>\n",
       "      <td>-0.313540</td>\n",
       "      <td>-0.073784</td>\n",
       "    </tr>\n",
       "    <tr>\n",
       "      <th>V18</th>\n",
       "      <td>0.090319</td>\n",
       "      <td>-0.003689</td>\n",
       "      <td>0.002318</td>\n",
       "      <td>-0.003767</td>\n",
       "      <td>0.002415</td>\n",
       "      <td>-0.003411</td>\n",
       "      <td>0.001002</td>\n",
       "      <td>-0.003525</td>\n",
       "      <td>-0.001517</td>\n",
       "      <td>-0.000402</td>\n",
       "      <td>...</td>\n",
       "      <td>-0.000468</td>\n",
       "      <td>0.000219</td>\n",
       "      <td>-0.000648</td>\n",
       "      <td>-0.000487</td>\n",
       "      <td>-0.000538</td>\n",
       "      <td>-0.003609</td>\n",
       "      <td>-0.001653</td>\n",
       "      <td>0.036599</td>\n",
       "      <td>-0.105341</td>\n",
       "      <td>0.090319</td>\n",
       "    </tr>\n",
       "    <tr>\n",
       "      <th>V19</th>\n",
       "      <td>0.029503</td>\n",
       "      <td>0.001355</td>\n",
       "      <td>0.000103</td>\n",
       "      <td>0.000749</td>\n",
       "      <td>-0.000819</td>\n",
       "      <td>0.002435</td>\n",
       "      <td>-0.001213</td>\n",
       "      <td>-0.001522</td>\n",
       "      <td>-0.000073</td>\n",
       "      <td>0.000332</td>\n",
       "      <td>...</td>\n",
       "      <td>0.001154</td>\n",
       "      <td>0.000441</td>\n",
       "      <td>-0.000292</td>\n",
       "      <td>-0.000293</td>\n",
       "      <td>0.000687</td>\n",
       "      <td>-0.002476</td>\n",
       "      <td>0.001481</td>\n",
       "      <td>-0.058484</td>\n",
       "      <td>0.033635</td>\n",
       "      <td>0.029503</td>\n",
       "    </tr>\n",
       "    <tr>\n",
       "      <th>V20</th>\n",
       "      <td>-0.051100</td>\n",
       "      <td>-0.006003</td>\n",
       "      <td>-0.006171</td>\n",
       "      <td>-0.010370</td>\n",
       "      <td>0.003046</td>\n",
       "      <td>-0.022255</td>\n",
       "      <td>0.013743</td>\n",
       "      <td>0.023930</td>\n",
       "      <td>-0.005569</td>\n",
       "      <td>-0.002744</td>\n",
       "      <td>...</td>\n",
       "      <td>0.000353</td>\n",
       "      <td>-0.001742</td>\n",
       "      <td>0.001600</td>\n",
       "      <td>0.001551</td>\n",
       "      <td>0.001470</td>\n",
       "      <td>0.020284</td>\n",
       "      <td>-0.009181</td>\n",
       "      <td>0.370626</td>\n",
       "      <td>0.021668</td>\n",
       "      <td>-0.051100</td>\n",
       "    </tr>\n",
       "    <tr>\n",
       "      <th>V21</th>\n",
       "      <td>0.046144</td>\n",
       "      <td>0.000898</td>\n",
       "      <td>-0.006948</td>\n",
       "      <td>0.000128</td>\n",
       "      <td>0.000106</td>\n",
       "      <td>-0.007170</td>\n",
       "      <td>0.003685</td>\n",
       "      <td>0.019718</td>\n",
       "      <td>0.016492</td>\n",
       "      <td>0.000307</td>\n",
       "      <td>...</td>\n",
       "      <td>0.010493</td>\n",
       "      <td>-0.006669</td>\n",
       "      <td>0.002010</td>\n",
       "      <td>0.000047</td>\n",
       "      <td>-0.000128</td>\n",
       "      <td>0.003233</td>\n",
       "      <td>-0.009440</td>\n",
       "      <td>0.119473</td>\n",
       "      <td>0.026395</td>\n",
       "      <td>0.046144</td>\n",
       "    </tr>\n",
       "    <tr>\n",
       "      <th>V22</th>\n",
       "      <td>0.143702</td>\n",
       "      <td>-0.000930</td>\n",
       "      <td>0.001776</td>\n",
       "      <td>0.000617</td>\n",
       "      <td>-0.000185</td>\n",
       "      <td>0.001758</td>\n",
       "      <td>-0.000428</td>\n",
       "      <td>-0.005098</td>\n",
       "      <td>-0.005518</td>\n",
       "      <td>0.000883</td>\n",
       "      <td>...</td>\n",
       "      <td>1.000000</td>\n",
       "      <td>0.002000</td>\n",
       "      <td>-0.000242</td>\n",
       "      <td>-0.000045</td>\n",
       "      <td>-0.001692</td>\n",
       "      <td>0.000827</td>\n",
       "      <td>0.002710</td>\n",
       "      <td>-0.066964</td>\n",
       "      <td>0.004889</td>\n",
       "      <td>0.143702</td>\n",
       "    </tr>\n",
       "    <tr>\n",
       "      <th>V23</th>\n",
       "      <td>0.051488</td>\n",
       "      <td>-0.001494</td>\n",
       "      <td>-0.004030</td>\n",
       "      <td>0.000163</td>\n",
       "      <td>0.000829</td>\n",
       "      <td>0.000451</td>\n",
       "      <td>-0.000265</td>\n",
       "      <td>0.004254</td>\n",
       "      <td>0.004791</td>\n",
       "      <td>0.000645</td>\n",
       "      <td>...</td>\n",
       "      <td>0.002000</td>\n",
       "      <td>1.000000</td>\n",
       "      <td>0.000340</td>\n",
       "      <td>-0.000454</td>\n",
       "      <td>-0.000122</td>\n",
       "      <td>-0.001329</td>\n",
       "      <td>-0.003658</td>\n",
       "      <td>-0.109690</td>\n",
       "      <td>-0.006334</td>\n",
       "      <td>0.051488</td>\n",
       "    </tr>\n",
       "    <tr>\n",
       "      <th>V24</th>\n",
       "      <td>-0.015996</td>\n",
       "      <td>-0.000236</td>\n",
       "      <td>0.001217</td>\n",
       "      <td>0.000784</td>\n",
       "      <td>-0.000409</td>\n",
       "      <td>0.002431</td>\n",
       "      <td>-0.000268</td>\n",
       "      <td>-0.003058</td>\n",
       "      <td>0.000732</td>\n",
       "      <td>-0.000009</td>\n",
       "      <td>...</td>\n",
       "      <td>-0.000242</td>\n",
       "      <td>0.000340</td>\n",
       "      <td>1.000000</td>\n",
       "      <td>-0.000421</td>\n",
       "      <td>0.000379</td>\n",
       "      <td>-0.003051</td>\n",
       "      <td>0.001583</td>\n",
       "      <td>0.002056</td>\n",
       "      <td>-0.007210</td>\n",
       "      <td>-0.015996</td>\n",
       "    </tr>\n",
       "    <tr>\n",
       "      <th>V25</th>\n",
       "      <td>-0.233340</td>\n",
       "      <td>0.000340</td>\n",
       "      <td>-0.000974</td>\n",
       "      <td>0.001414</td>\n",
       "      <td>-0.000172</td>\n",
       "      <td>0.002646</td>\n",
       "      <td>-0.001004</td>\n",
       "      <td>-0.003152</td>\n",
       "      <td>0.000726</td>\n",
       "      <td>-0.000166</td>\n",
       "      <td>...</td>\n",
       "      <td>-0.000045</td>\n",
       "      <td>-0.000454</td>\n",
       "      <td>-0.000421</td>\n",
       "      <td>1.000000</td>\n",
       "      <td>-0.000170</td>\n",
       "      <td>-0.003843</td>\n",
       "      <td>0.000887</td>\n",
       "      <td>-0.049465</td>\n",
       "      <td>0.003204</td>\n",
       "      <td>-0.233340</td>\n",
       "    </tr>\n",
       "    <tr>\n",
       "      <th>V26</th>\n",
       "      <td>-0.041860</td>\n",
       "      <td>-0.000228</td>\n",
       "      <td>0.000737</td>\n",
       "      <td>0.000707</td>\n",
       "      <td>0.000507</td>\n",
       "      <td>0.002483</td>\n",
       "      <td>-0.001410</td>\n",
       "      <td>-0.001861</td>\n",
       "      <td>-0.000828</td>\n",
       "      <td>0.001342</td>\n",
       "      <td>...</td>\n",
       "      <td>-0.001692</td>\n",
       "      <td>-0.000122</td>\n",
       "      <td>0.000379</td>\n",
       "      <td>-0.000170</td>\n",
       "      <td>1.000000</td>\n",
       "      <td>-0.005350</td>\n",
       "      <td>0.000176</td>\n",
       "      <td>-0.005006</td>\n",
       "      <td>0.004266</td>\n",
       "      <td>-0.041860</td>\n",
       "    </tr>\n",
       "    <tr>\n",
       "      <th>V27</th>\n",
       "      <td>-0.005659</td>\n",
       "      <td>-0.010695</td>\n",
       "      <td>0.013157</td>\n",
       "      <td>0.001994</td>\n",
       "      <td>-0.001745</td>\n",
       "      <td>0.017873</td>\n",
       "      <td>-0.015461</td>\n",
       "      <td>-0.033126</td>\n",
       "      <td>0.007231</td>\n",
       "      <td>0.009321</td>\n",
       "      <td>...</td>\n",
       "      <td>0.000827</td>\n",
       "      <td>-0.001329</td>\n",
       "      <td>-0.003051</td>\n",
       "      <td>-0.003843</td>\n",
       "      <td>-0.005350</td>\n",
       "      <td>1.000000</td>\n",
       "      <td>-0.000718</td>\n",
       "      <td>0.001116</td>\n",
       "      <td>0.022154</td>\n",
       "      <td>-0.005659</td>\n",
       "    </tr>\n",
       "    <tr>\n",
       "      <th>V28</th>\n",
       "      <td>-0.009091</td>\n",
       "      <td>-0.007922</td>\n",
       "      <td>-0.001602</td>\n",
       "      <td>-0.005476</td>\n",
       "      <td>0.002034</td>\n",
       "      <td>-0.014751</td>\n",
       "      <td>0.010143</td>\n",
       "      <td>0.018327</td>\n",
       "      <td>-0.003964</td>\n",
       "      <td>0.005025</td>\n",
       "      <td>...</td>\n",
       "      <td>0.002710</td>\n",
       "      <td>-0.003658</td>\n",
       "      <td>0.001583</td>\n",
       "      <td>0.000887</td>\n",
       "      <td>0.000176</td>\n",
       "      <td>-0.000718</td>\n",
       "      <td>1.000000</td>\n",
       "      <td>0.025844</td>\n",
       "      <td>0.009714</td>\n",
       "      <td>-0.009091</td>\n",
       "    </tr>\n",
       "    <tr>\n",
       "      <th>Amount</th>\n",
       "      <td>-0.011349</td>\n",
       "      <td>-0.227079</td>\n",
       "      <td>-0.536083</td>\n",
       "      <td>-0.204883</td>\n",
       "      <td>0.096218</td>\n",
       "      <td>-0.371152</td>\n",
       "      <td>0.203031</td>\n",
       "      <td>0.379274</td>\n",
       "      <td>-0.098712</td>\n",
       "      <td>-0.044007</td>\n",
       "      <td>...</td>\n",
       "      <td>-0.066964</td>\n",
       "      <td>-0.109690</td>\n",
       "      <td>0.002056</td>\n",
       "      <td>-0.049465</td>\n",
       "      <td>-0.005006</td>\n",
       "      <td>0.001116</td>\n",
       "      <td>0.025844</td>\n",
       "      <td>1.000000</td>\n",
       "      <td>0.005994</td>\n",
       "      <td>-0.011349</td>\n",
       "    </tr>\n",
       "    <tr>\n",
       "      <th>Class</th>\n",
       "      <td>-0.012359</td>\n",
       "      <td>-0.094544</td>\n",
       "      <td>0.084677</td>\n",
       "      <td>-0.182657</td>\n",
       "      <td>0.129354</td>\n",
       "      <td>-0.088900</td>\n",
       "      <td>-0.044144</td>\n",
       "      <td>-0.175339</td>\n",
       "      <td>0.033096</td>\n",
       "      <td>-0.094024</td>\n",
       "      <td>...</td>\n",
       "      <td>0.004889</td>\n",
       "      <td>-0.006334</td>\n",
       "      <td>-0.007210</td>\n",
       "      <td>0.003204</td>\n",
       "      <td>0.004266</td>\n",
       "      <td>0.022154</td>\n",
       "      <td>0.009714</td>\n",
       "      <td>0.005994</td>\n",
       "      <td>1.000000</td>\n",
       "      <td>-0.012359</td>\n",
       "    </tr>\n",
       "    <tr>\n",
       "      <th>Time_Hr</th>\n",
       "      <td>1.000000</td>\n",
       "      <td>0.118093</td>\n",
       "      <td>-0.010460</td>\n",
       "      <td>-0.422651</td>\n",
       "      <td>-0.105925</td>\n",
       "      <td>0.175788</td>\n",
       "      <td>-0.063913</td>\n",
       "      <td>0.086295</td>\n",
       "      <td>-0.038117</td>\n",
       "      <td>-0.007843</td>\n",
       "      <td>...</td>\n",
       "      <td>0.143702</td>\n",
       "      <td>0.051488</td>\n",
       "      <td>-0.015996</td>\n",
       "      <td>-0.233340</td>\n",
       "      <td>-0.041860</td>\n",
       "      <td>-0.005659</td>\n",
       "      <td>-0.009091</td>\n",
       "      <td>-0.011349</td>\n",
       "      <td>-0.012359</td>\n",
       "      <td>1.000000</td>\n",
       "    </tr>\n",
       "  </tbody>\n",
       "</table>\n",
       "<p>32 rows × 32 columns</p>\n",
       "</div>"
      ],
      "text/plain": [
       "             Time        V1        V2        V3        V4        V5        V6  \\\n",
       "Time     1.000000  0.118093 -0.010460 -0.422651 -0.105925  0.175788 -0.063913   \n",
       "V1       0.118093  1.000000  0.005638 -0.010197  0.002956 -0.012508  0.003977   \n",
       "V2      -0.010460  0.005638  1.000000  0.003102 -0.000758 -0.000426  0.003176   \n",
       "V3      -0.422651 -0.010197  0.003102  1.000000  0.004059 -0.016433  0.004736   \n",
       "V4      -0.105925  0.002956 -0.000758  0.004059  1.000000  0.004956 -0.002997   \n",
       "V5       0.175788 -0.012508 -0.000426 -0.016433  0.004956  1.000000  0.015352   \n",
       "V6      -0.063913  0.003977  0.003176  0.004736 -0.002997  0.015352  1.000000   \n",
       "V7       0.086295 -0.002906  0.014376 -0.000644  0.000926  0.020483 -0.019044   \n",
       "V8      -0.038117 -0.002664  0.001320 -0.004446  0.001777 -0.005392  0.007582   \n",
       "V9      -0.007843  0.001602 -0.000515 -0.003985  0.002290 -0.002269 -0.000049   \n",
       "V10      0.031134  0.000098 -0.000140 -0.010913  0.003180 -0.009412 -0.000017   \n",
       "V11     -0.248592  0.001462 -0.000175  0.003104 -0.001480  0.002399 -0.001524   \n",
       "V12      0.125569 -0.002120  0.001638 -0.006957  0.003719 -0.005094  0.000610   \n",
       "V13     -0.066002 -0.000107  0.001168  0.000923 -0.000096  0.002129 -0.000997   \n",
       "V14     -0.100288 -0.003124  0.002226 -0.003840  0.003074 -0.003116  0.001577   \n",
       "V15     -0.184475  0.000022  0.002201 -0.000135  0.000202  0.001675 -0.002365   \n",
       "V16      0.011189 -0.002073  0.005371 -0.002199  0.002593  0.003440 -0.003744   \n",
       "V17     -0.073784 -0.004042  0.002666 -0.009138  0.003982 -0.007031 -0.000065   \n",
       "V18      0.090319 -0.003689  0.002318 -0.003767  0.002415 -0.003411  0.001002   \n",
       "V19      0.029503  0.001355  0.000103  0.000749 -0.000819  0.002435 -0.001213   \n",
       "V20     -0.051100 -0.006003 -0.006171 -0.010370  0.003046 -0.022255  0.013743   \n",
       "V21      0.046144  0.000898 -0.006948  0.000128  0.000106 -0.007170  0.003685   \n",
       "V22      0.143702 -0.000930  0.001776  0.000617 -0.000185  0.001758 -0.000428   \n",
       "V23      0.051488 -0.001494 -0.004030  0.000163  0.000829  0.000451 -0.000265   \n",
       "V24     -0.015996 -0.000236  0.001217  0.000784 -0.000409  0.002431 -0.000268   \n",
       "V25     -0.233340  0.000340 -0.000974  0.001414 -0.000172  0.002646 -0.001004   \n",
       "V26     -0.041860 -0.000228  0.000737  0.000707  0.000507  0.002483 -0.001410   \n",
       "V27     -0.005659 -0.010695  0.013157  0.001994 -0.001745  0.017873 -0.015461   \n",
       "V28     -0.009091 -0.007922 -0.001602 -0.005476  0.002034 -0.014751  0.010143   \n",
       "Amount  -0.011349 -0.227079 -0.536083 -0.204883  0.096218 -0.371152  0.203031   \n",
       "Class   -0.012359 -0.094544  0.084677 -0.182657  0.129354 -0.088900 -0.044144   \n",
       "Time_Hr  1.000000  0.118093 -0.010460 -0.422651 -0.105925  0.175788 -0.063913   \n",
       "\n",
       "               V7        V8        V9  ...       V22       V23       V24  \\\n",
       "Time     0.086295 -0.038117 -0.007843  ...  0.143702  0.051488 -0.015996   \n",
       "V1      -0.002906 -0.002664  0.001602  ... -0.000930 -0.001494 -0.000236   \n",
       "V2       0.014376  0.001320 -0.000515  ...  0.001776 -0.004030  0.001217   \n",
       "V3      -0.000644 -0.004446 -0.003985  ...  0.000617  0.000163  0.000784   \n",
       "V4       0.000926  0.001777  0.002290  ... -0.000185  0.000829 -0.000409   \n",
       "V5       0.020483 -0.005392 -0.002269  ...  0.001758  0.000451  0.002431   \n",
       "V6      -0.019044  0.007582 -0.000049  ... -0.000428 -0.000265 -0.000268   \n",
       "V7       1.000000  0.001640 -0.003763  ... -0.005098  0.004254 -0.003058   \n",
       "V8       0.001640  1.000000  0.000750  ... -0.005518  0.004791  0.000732   \n",
       "V9      -0.003763  0.000750  1.000000  ...  0.000883  0.000645 -0.000009   \n",
       "V10     -0.009929 -0.000431 -0.012755  ... -0.000171  0.001817  0.000452   \n",
       "V11      0.000127  0.005243 -0.000133  ... -0.000337  0.000023 -0.000100   \n",
       "V12     -0.003007 -0.005175 -0.002500  ...  0.000408  0.000403  0.000834   \n",
       "V13     -0.002695 -0.000797  0.000834  ... -0.000183  0.000316 -0.000240   \n",
       "V14     -0.001368 -0.008980  0.001893  ... -0.001708  0.000602  0.000164   \n",
       "V15     -0.004836  0.001839 -0.000162  ... -0.001467  0.001056 -0.000146   \n",
       "V16     -0.013037 -0.002760  0.000161  ... -0.001372  0.001387 -0.001011   \n",
       "V17     -0.005949 -0.006279 -0.002424  ...  0.000075  0.000591  0.001234   \n",
       "V18     -0.003525 -0.001517 -0.000402  ... -0.000468  0.000219 -0.000648   \n",
       "V19     -0.001522 -0.000073  0.000332  ...  0.001154  0.000441 -0.000292   \n",
       "V20      0.023930 -0.005569 -0.002744  ...  0.000353 -0.001742  0.001600   \n",
       "V21      0.019718  0.016492  0.000307  ...  0.010493 -0.006669  0.002010   \n",
       "V22     -0.005098 -0.005518  0.000883  ...  1.000000  0.002000 -0.000242   \n",
       "V23      0.004254  0.004791  0.000645  ...  0.002000  1.000000  0.000340   \n",
       "V24     -0.003058  0.000732 -0.000009  ... -0.000242  0.000340  1.000000   \n",
       "V25     -0.003152  0.000726 -0.000166  ... -0.000045 -0.000454 -0.000421   \n",
       "V26     -0.001861 -0.000828  0.001342  ... -0.001692 -0.000122  0.000379   \n",
       "V27     -0.033126  0.007231  0.009321  ...  0.000827 -0.001329 -0.003051   \n",
       "V28      0.018327 -0.003964  0.005025  ...  0.002710 -0.003658  0.001583   \n",
       "Amount   0.379274 -0.098712 -0.044007  ... -0.066964 -0.109690  0.002056   \n",
       "Class   -0.175339  0.033096 -0.094024  ...  0.004889 -0.006334 -0.007210   \n",
       "Time_Hr  0.086295 -0.038117 -0.007843  ...  0.143702  0.051488 -0.015996   \n",
       "\n",
       "              V25       V26       V27       V28    Amount     Class   Time_Hr  \n",
       "Time    -0.233340 -0.041860 -0.005659 -0.009091 -0.011349 -0.012359  1.000000  \n",
       "V1       0.000340 -0.000228 -0.010695 -0.007922 -0.227079 -0.094544  0.118093  \n",
       "V2      -0.000974  0.000737  0.013157 -0.001602 -0.536083  0.084677 -0.010460  \n",
       "V3       0.001414  0.000707  0.001994 -0.005476 -0.204883 -0.182657 -0.422651  \n",
       "V4      -0.000172  0.000507 -0.001745  0.002034  0.096218  0.129354 -0.105925  \n",
       "V5       0.002646  0.002483  0.017873 -0.014751 -0.371152 -0.088900  0.175788  \n",
       "V6      -0.001004 -0.001410 -0.015461  0.010143  0.203031 -0.044144 -0.063913  \n",
       "V7      -0.003152 -0.001861 -0.033126  0.018327  0.379274 -0.175339  0.086295  \n",
       "V8       0.000726 -0.000828  0.007231 -0.003964 -0.098712  0.033096 -0.038117  \n",
       "V9      -0.000166  0.001342  0.009321  0.005025 -0.044007 -0.094024 -0.007843  \n",
       "V10     -0.000221  0.001368  0.014071  0.007340 -0.099768 -0.207018  0.031134  \n",
       "V11     -0.000160 -0.000372  0.000094  0.003693 -0.002661  0.149080 -0.248592  \n",
       "V12      0.000104  0.000092  0.001692 -0.002154 -0.006116 -0.250750  0.125569  \n",
       "V13      0.000028 -0.000280 -0.003634  0.000585  0.001925 -0.003896 -0.066002  \n",
       "V14      0.000375 -0.000524 -0.002576 -0.005871  0.036780 -0.293403 -0.100288  \n",
       "V15      0.000146 -0.002277 -0.003412  0.002477 -0.007454 -0.003299 -0.184475  \n",
       "V16     -0.000396 -0.001741 -0.009669  0.001664 -0.012505 -0.187313  0.011189  \n",
       "V17     -0.000422  0.000370 -0.001035 -0.004131  0.010956 -0.313540 -0.073784  \n",
       "V18     -0.000487 -0.000538 -0.003609 -0.001653  0.036599 -0.105341  0.090319  \n",
       "V19     -0.000293  0.000687 -0.002476  0.001481 -0.058484  0.033635  0.029503  \n",
       "V20      0.001551  0.001470  0.020284 -0.009181  0.370626  0.021668 -0.051100  \n",
       "V21      0.000047 -0.000128  0.003233 -0.009440  0.119473  0.026395  0.046144  \n",
       "V22     -0.000045 -0.001692  0.000827  0.002710 -0.066964  0.004889  0.143702  \n",
       "V23     -0.000454 -0.000122 -0.001329 -0.003658 -0.109690 -0.006334  0.051488  \n",
       "V24     -0.000421  0.000379 -0.003051  0.001583  0.002056 -0.007210 -0.015996  \n",
       "V25      1.000000 -0.000170 -0.003843  0.000887 -0.049465  0.003204 -0.233340  \n",
       "V26     -0.000170  1.000000 -0.005350  0.000176 -0.005006  0.004266 -0.041860  \n",
       "V27     -0.003843 -0.005350  1.000000 -0.000718  0.001116  0.022154 -0.005659  \n",
       "V28      0.000887  0.000176 -0.000718  1.000000  0.025844  0.009714 -0.009091  \n",
       "Amount  -0.049465 -0.005006  0.001116  0.025844  1.000000  0.005994 -0.011349  \n",
       "Class    0.003204  0.004266  0.022154  0.009714  0.005994  1.000000 -0.012359  \n",
       "Time_Hr -0.233340 -0.041860 -0.005659 -0.009091 -0.011349 -0.012359  1.000000  \n",
       "\n",
       "[32 rows x 32 columns]"
      ]
     },
     "execution_count": 19,
     "metadata": {},
     "output_type": "execute_result"
    }
   ],
   "source": [
    "data_corr=data.corr()\n",
    "data_corr"
   ]
  },
  {
   "cell_type": "markdown",
   "execution_count": null,
   "metadata": {},
   "source": [
    "#### ANOVA Test, This is show the relationship between categorical and numeric variables."
   ]
  },
  {
   "cell_type": "code",
   "execution_count": 20,
   "metadata": {},
   "outputs": [],
   "source": [
    "def anova_test(data,target,predictor):\n",
    "    data1=data.groupby(predictor)[target].apply(list)\n",
    "    from scipy.stats import f_oneway\n",
    "    AnovaResults = f_oneway(*data1)\n",
    "    print('P-Value for Anova is: ', AnovaResults[1])\n"
   ]
  },
  {
   "cell_type": "code",
   "execution_count": 21,
   "metadata": {},
   "outputs": [
    {
     "name": "stdout",
     "output_type": "stream",
     "text": [
      "P-Value for Anova is:  0.0014081058191763496\n"
     ]
    }
   ],
   "source": [
    "anova_test(data=data,target='Amount',predictor='Class')"
   ]
  },
  {
   "cell_type": "code",
   "execution_count": 22,
   "metadata": {},
   "outputs": [
    {
     "name": "stdout",
     "output_type": "stream",
     "text": [
      "P-Value for Anova is:  0.0\n"
     ]
    }
   ],
   "source": [
    "anova_test(data=data,target='V1',predictor='Class')"
   ]
  },
  {
   "cell_type": "code",
   "execution_count": 23,
   "metadata": {},
   "outputs": [
    {
     "name": "stdout",
     "output_type": "stream",
     "text": [
      "P-Value for Anova is:  0.0\n"
     ]
    }
   ],
   "source": [
    "anova_test(data=data,target='V2',predictor='Class')"
   ]
  },
  {
   "cell_type": "code",
   "execution_count": 24,
   "metadata": {},
   "outputs": [
    {
     "name": "stdout",
     "output_type": "stream",
     "text": [
      "P-Value for Anova is:  0.0\n"
     ]
    }
   ],
   "source": [
    "anova_test(data=data,target='V3',predictor='Class')"
   ]
  },
  {
   "cell_type": "code",
   "execution_count": 25,
   "metadata": {},
   "outputs": [
    {
     "name": "stdout",
     "output_type": "stream",
     "text": [
      "P-Value for Anova is:  0.0\n"
     ]
    }
   ],
   "source": [
    "anova_test(data=data,target='V4',predictor='Class')"
   ]
  },
  {
   "cell_type": "code",
   "execution_count": 26,
   "metadata": {},
   "outputs": [
    {
     "name": "stdout",
     "output_type": "stream",
     "text": [
      "P-Value for Anova is:  0.0\n"
     ]
    }
   ],
   "source": [
    "anova_test(data=data,target='V5',predictor='Class')"
   ]
  },
  {
   "cell_type": "code",
   "execution_count": 27,
   "metadata": {},
   "outputs": [
    {
     "name": "stdout",
     "output_type": "stream",
     "text": [
      "P-Value for Anova is:  2.2689327112556348e-122\n"
     ]
    }
   ],
   "source": [
    "anova_test(data=data,target='V6',predictor='Class')"
   ]
  },
  {
   "cell_type": "code",
   "execution_count": 28,
   "metadata": {},
   "outputs": [
    {
     "name": "stdout",
     "output_type": "stream",
     "text": [
      "P-Value for Anova is:  0.0\n"
     ]
    }
   ],
   "source": [
    "anova_test(data=data,target='V7',predictor='Class')"
   ]
  },
  {
   "cell_type": "code",
   "execution_count": 29,
   "metadata": {},
   "outputs": [
    {
     "name": "stdout",
     "output_type": "stream",
     "text": [
      "P-Value for Anova is:  1.358918556344433e-69\n"
     ]
    }
   ],
   "source": [
    "anova_test(data=data,target='V8',predictor='Class')"
   ]
  },
  {
   "cell_type": "code",
   "execution_count": 30,
   "metadata": {},
   "outputs": [
    {
     "name": "stdout",
     "output_type": "stream",
     "text": [
      "P-Value for Anova is:  0.0\n"
     ]
    }
   ],
   "source": [
    "anova_test(data=data,target='V9',predictor='Class')"
   ]
  },
  {
   "cell_type": "code",
   "execution_count": 31,
   "metadata": {},
   "outputs": [
    {
     "name": "stdout",
     "output_type": "stream",
     "text": [
      "P-Value for Anova is:  0.0\n"
     ]
    }
   ],
   "source": [
    "anova_test(data=data,target='V10',predictor='Class')"
   ]
  },
  {
   "cell_type": "code",
   "execution_count": 32,
   "metadata": {},
   "outputs": [
    {
     "name": "stdout",
     "output_type": "stream",
     "text": [
      "P-Value for Anova is:  0.0\n"
     ]
    }
   ],
   "source": [
    "anova_test(data=data,target='V11',predictor='Class')"
   ]
  },
  {
   "cell_type": "code",
   "execution_count": 33,
   "metadata": {},
   "outputs": [
    {
     "name": "stdout",
     "output_type": "stream",
     "text": [
      "P-Value for Anova is:  0.0\n"
     ]
    }
   ],
   "source": [
    "anova_test(data=data,target='V12',predictor='Class')"
   ]
  },
  {
   "cell_type": "code",
   "execution_count": 34,
   "metadata": {},
   "outputs": [
    {
     "name": "stdout",
     "output_type": "stream",
     "text": [
      "P-Value for Anova is:  0.037951056850623714\n"
     ]
    }
   ],
   "source": [
    "anova_test(data=data,target='V13',predictor='Class')"
   ]
  },
  {
   "cell_type": "code",
   "execution_count": 35,
   "metadata": {},
   "outputs": [
    {
     "name": "stdout",
     "output_type": "stream",
     "text": [
      "P-Value for Anova is:  0.0\n"
     ]
    }
   ],
   "source": [
    "anova_test(data=data,target='V14',predictor='Class')"
   ]
  },
  {
   "cell_type": "code",
   "execution_count": 36,
   "metadata": {},
   "outputs": [
    {
     "name": "stdout",
     "output_type": "stream",
     "text": [
      "P-Value for Anova is:  0.07890391533026452\n"
     ]
    }
   ],
   "source": [
    "anova_test(data=data,target='V15',predictor='Class')"
   ]
  },
  {
   "cell_type": "code",
   "execution_count": 37,
   "metadata": {},
   "outputs": [
    {
     "name": "stdout",
     "output_type": "stream",
     "text": [
      "P-Value for Anova is:  0.0\n"
     ]
    }
   ],
   "source": [
    "anova_test(data=data,target='V16',predictor='Class')"
   ]
  },
  {
   "cell_type": "code",
   "execution_count": 38,
   "metadata": {},
   "outputs": [
    {
     "name": "stdout",
     "output_type": "stream",
     "text": [
      "P-Value for Anova is:  0.0\n"
     ]
    }
   ],
   "source": [
    "anova_test(data=data,target='V17',predictor='Class')"
   ]
  },
  {
   "cell_type": "code",
   "execution_count": 39,
   "metadata": {},
   "outputs": [
    {
     "name": "stdout",
     "output_type": "stream",
     "text": [
      "P-Value for Anova is:  0.0\n"
     ]
    }
   ],
   "source": [
    "anova_test(data=data,target='V18',predictor='Class')"
   ]
  },
  {
   "cell_type": "code",
   "execution_count": 40,
   "metadata": {},
   "outputs": [
    {
     "name": "stdout",
     "output_type": "stream",
     "text": [
      "P-Value for Anova is:  8.104655624124695e-72\n"
     ]
    }
   ],
   "source": [
    "anova_test(data=data,target='V19',predictor='Class')"
   ]
  },
  {
   "cell_type": "code",
   "execution_count": 41,
   "metadata": {},
   "outputs": [
    {
     "name": "stdout",
     "output_type": "stream",
     "text": [
      "P-Value for Anova is:  7.998846238970604e-31\n"
     ]
    }
   ],
   "source": [
    "anova_test(data=data,target='V20',predictor='Class')"
   ]
  },
  {
   "cell_type": "code",
   "execution_count": 42,
   "metadata": {},
   "outputs": [
    {
     "name": "stdout",
     "output_type": "stream",
     "text": [
      "P-Value for Anova is:  6.527564058245525e-45\n"
     ]
    }
   ],
   "source": [
    "anova_test(data=data,target='V21',predictor='Class')"
   ]
  },
  {
   "cell_type": "code",
   "execution_count": 43,
   "metadata": {},
   "outputs": [
    {
     "name": "stdout",
     "output_type": "stream",
     "text": [
      "P-Value for Anova is:  0.009211060942301254\n"
     ]
    }
   ],
   "source": [
    "anova_test(data=data,target='V22',predictor='Class')"
   ]
  },
  {
   "cell_type": "code",
   "execution_count": 44,
   "metadata": {},
   "outputs": [
    {
     "name": "stdout",
     "output_type": "stream",
     "text": [
      "P-Value for Anova is:  0.0007416791659867088\n"
     ]
    }
   ],
   "source": [
    "anova_test(data=data,target='V23',predictor='Class')"
   ]
  },
  {
   "cell_type": "code",
   "execution_count": 45,
   "metadata": {},
   "outputs": [
    {
     "name": "stdout",
     "output_type": "stream",
     "text": [
      "P-Value for Anova is:  0.00012284701922895172\n"
     ]
    }
   ],
   "source": [
    "anova_test(data=data,target='V24',predictor='Class')"
   ]
  },
  {
   "cell_type": "code",
   "execution_count": 46,
   "metadata": {},
   "outputs": [
    {
     "name": "stdout",
     "output_type": "stream",
     "text": [
      "P-Value for Anova is:  0.08787184342577484\n"
     ]
    }
   ],
   "source": [
    "anova_test(data=data,target='V25',predictor='Class')"
   ]
  },
  {
   "cell_type": "code",
   "execution_count": 47,
   "metadata": {},
   "outputs": [
    {
     "name": "stdout",
     "output_type": "stream",
     "text": [
      "P-Value for Anova is:  0.023067931826518964\n"
     ]
    }
   ],
   "source": [
    "anova_test(data=data,target='V26',predictor='Class')"
   ]
  },
  {
   "cell_type": "code",
   "execution_count": 48,
   "metadata": {},
   "outputs": [
    {
     "name": "stdout",
     "output_type": "stream",
     "text": [
      "P-Value for Anova is:  3.812400705751189e-32\n"
     ]
    }
   ],
   "source": [
    "anova_test(data=data,target='V27',predictor='Class')"
   ]
  },
  {
   "cell_type": "code",
   "execution_count": 49,
   "metadata": {},
   "outputs": [
    {
     "name": "stdout",
     "output_type": "stream",
     "text": [
      "P-Value for Anova is:  2.2897206031627562e-07\n"
     ]
    }
   ],
   "source": [
    "anova_test(data=data,target='V28',predictor='Class')"
   ]
  },
  {
   "cell_type": "code",
   "execution_count": 50,
   "metadata": {},
   "outputs": [],
   "source": [
    "y=data['Class'].values\n",
    "x=data[['Time_Hr', 'V1', 'V2', 'V3', 'V4', 'V5', 'V6', 'V7', 'V8', 'V9', 'V10',\n",
    "       'V11', 'V12', 'V14', 'V16', 'V17', 'V18', 'V19', 'V20', 'V21', 'V22',\n",
    "       'V23', 'V24', 'V26', 'V27', 'V28', 'Amount']].values"
   ]
  },
  {
   "cell_type": "code",
   "execution_count": 51,
   "metadata": {},
   "outputs": [
    {
     "name": "stdout",
     "output_type": "stream",
     "text": [
      "(85117, 27)\n",
      "(85117,)\n",
      "(198608, 27)\n",
      "(198608,)\n"
     ]
    }
   ],
   "source": [
    "from sklearn.model_selection import train_test_split\n",
    "x_train, x_test, y_train, y_test = train_test_split(x, y, test_size=0.7, random_state=457)\n",
    "\n",
    "print(x_train.shape)\n",
    "print(y_train.shape)\n",
    "print(x_test.shape)\n",
    "print(y_test.shape)"
   ]
  },
  {
   "cell_type": "markdown",
   "execution_count": null,
   "metadata": {},
   "source": [
    "#### Applying Undersampling, Oversampling and SMOTE"
   ]
  },
  {
   "cell_type": "code",
   "execution_count": 52,
   "metadata": {},
   "outputs": [],
   "source": [
    "from collections import Counter\n",
    "from sklearn.datasets import make_classification\n",
    "from sklearn.metrics import accuracy_score,f1_score,precision_score,recall_score,classification_report,roc_auc_score\n",
    "from sklearn.metrics import roc_curve"
   ]
  },
  {
   "cell_type": "markdown",
   "execution_count": null,
   "metadata": {},
   "source": [
    "#### Undersampling"
   ]
  },
  {
   "cell_type": "code",
   "execution_count": 53,
   "metadata": {},
   "outputs": [
    {
     "name": "stdout",
     "output_type": "stream",
     "text": [
      "Resampled dataset shape Counter({0: 148, 1: 148})\n"
     ]
    }
   ],
   "source": [
    "from imblearn.under_sampling import RandomUnderSampler\n",
    "rus= RandomUnderSampler(random_state=457)\n",
    "x_under,y_under= rus.fit_resample(x_train,y_train)\n",
    "print('Resampled dataset shape %s' % Counter(y_under))"
   ]
  },
  {
   "cell_type": "markdown",
   "execution_count": null,
   "metadata": {},
   "source": [
    "#### Oversampling"
   ]
  },
  {
   "cell_type": "code",
   "execution_count": 54,
   "metadata": {},
   "outputs": [
    {
     "name": "stdout",
     "output_type": "stream",
     "text": [
      "Resampled dataset shape Counter({0: 84969, 1: 84969})\n"
     ]
    }
   ],
   "source": [
    "from imblearn.over_sampling import RandomOverSampler\n",
    "ros= RandomOverSampler(random_state=457)\n",
    "x_over,y_over= ros.fit_resample(x_train,y_train)\n",
    "print('Resampled dataset shape %s' % Counter(y_over))"
   ]
  },
  {
   "cell_type": "markdown",
   "execution_count": null,
   "metadata": {},
   "source": [
    "#### SMOTE"
   ]
  },
  {
   "cell_type": "code",
   "execution_count": 55,
   "metadata": {},
   "outputs": [
    {
     "name": "stdout",
     "output_type": "stream",
     "text": [
      "Resampled dataset shape Counter({0: 84969, 1: 84969})\n"
     ]
    }
   ],
   "source": [
    "from imblearn.over_sampling import SMOTE\n",
    "smk=SMOTE(random_state=457)\n",
    "x_smote,y_smote=smk.fit_sample(x_train,y_train)\n",
    "print('Resampled dataset shape %s' % Counter(y_smote))"
   ]
  },
  {
   "cell_type": "markdown",
   "execution_count": null,
   "metadata": {},
   "source": [
    "#### Tuning"
   ]
  },
  {
   "cell_type": "code",
   "execution_count": 56,
   "metadata": {},
   "outputs": [],
   "source": [
    "from sklearn.model_selection import GridSearchCV"
   ]
  },
  {
   "cell_type": "markdown",
   "execution_count": null,
   "metadata": {},
   "source": [
    "#### Logistic Regression"
   ]
  },
  {
   "cell_type": "code",
   "execution_count": 57,
   "metadata": {},
   "outputs": [
    {
     "name": "stderr",
     "output_type": "stream",
     "text": [
      "/opt/conda/lib/python3.7/site-packages/sklearn/model_selection/_validation.py:552: FitFailedWarning: Estimator fit failed. The score on this train-test partition for these parameters will be set to nan. Details: \n",
      "Traceback (most recent call last):\n",
      "  File \"/opt/conda/lib/python3.7/site-packages/sklearn/model_selection/_validation.py\", line 531, in _fit_and_score\n",
      "    estimator.fit(X_train, y_train, **fit_params)\n",
      "  File \"/opt/conda/lib/python3.7/site-packages/sklearn/linear_model/_logistic.py\", line 1304, in fit\n",
      "    solver = _check_solver(self.solver, self.penalty, self.dual)\n",
      "  File \"/opt/conda/lib/python3.7/site-packages/sklearn/linear_model/_logistic.py\", line 443, in _check_solver\n",
      "    \"got %s penalty.\" % (solver, penalty))\n",
      "ValueError: Solver lbfgs supports only 'l2' or 'none' penalties, got l1 penalty.\n",
      "\n",
      "  FitFailedWarning)\n",
      "/opt/conda/lib/python3.7/site-packages/sklearn/linear_model/_logistic.py:764: ConvergenceWarning: lbfgs failed to converge (status=1):\n",
      "STOP: TOTAL NO. of ITERATIONS REACHED LIMIT.\n",
      "\n",
      "Increase the number of iterations (max_iter) or scale the data as shown in:\n",
      "    https://scikit-learn.org/stable/modules/preprocessing.html\n",
      "Please also refer to the documentation for alternative solver options:\n",
      "    https://scikit-learn.org/stable/modules/linear_model.html#logistic-regression\n",
      "  extra_warning_msg=_LOGISTIC_SOLVER_CONVERGENCE_MSG)\n",
      "/opt/conda/lib/python3.7/site-packages/sklearn/linear_model/_logistic.py:764: ConvergenceWarning: lbfgs failed to converge (status=1):\n",
      "STOP: TOTAL NO. of ITERATIONS REACHED LIMIT.\n",
      "\n",
      "Increase the number of iterations (max_iter) or scale the data as shown in:\n",
      "    https://scikit-learn.org/stable/modules/preprocessing.html\n",
      "Please also refer to the documentation for alternative solver options:\n",
      "    https://scikit-learn.org/stable/modules/linear_model.html#logistic-regression\n",
      "  extra_warning_msg=_LOGISTIC_SOLVER_CONVERGENCE_MSG)\n",
      "/opt/conda/lib/python3.7/site-packages/sklearn/linear_model/_logistic.py:764: ConvergenceWarning: lbfgs failed to converge (status=1):\n",
      "STOP: TOTAL NO. of ITERATIONS REACHED LIMIT.\n",
      "\n",
      "Increase the number of iterations (max_iter) or scale the data as shown in:\n",
      "    https://scikit-learn.org/stable/modules/preprocessing.html\n",
      "Please also refer to the documentation for alternative solver options:\n",
      "    https://scikit-learn.org/stable/modules/linear_model.html#logistic-regression\n",
      "  extra_warning_msg=_LOGISTIC_SOLVER_CONVERGENCE_MSG)\n",
      "/opt/conda/lib/python3.7/site-packages/sklearn/linear_model/_logistic.py:764: ConvergenceWarning: lbfgs failed to converge (status=1):\n",
      "STOP: TOTAL NO. of ITERATIONS REACHED LIMIT.\n",
      "\n",
      "Increase the number of iterations (max_iter) or scale the data as shown in:\n",
      "    https://scikit-learn.org/stable/modules/preprocessing.html\n",
      "Please also refer to the documentation for alternative solver options:\n",
      "    https://scikit-learn.org/stable/modules/linear_model.html#logistic-regression\n",
      "  extra_warning_msg=_LOGISTIC_SOLVER_CONVERGENCE_MSG)\n",
      "/opt/conda/lib/python3.7/site-packages/sklearn/linear_model/_logistic.py:764: ConvergenceWarning: lbfgs failed to converge (status=1):\n",
      "STOP: TOTAL NO. of ITERATIONS REACHED LIMIT.\n",
      "\n",
      "Increase the number of iterations (max_iter) or scale the data as shown in:\n",
      "    https://scikit-learn.org/stable/modules/preprocessing.html\n",
      "Please also refer to the documentation for alternative solver options:\n",
      "    https://scikit-learn.org/stable/modules/linear_model.html#logistic-regression\n",
      "  extra_warning_msg=_LOGISTIC_SOLVER_CONVERGENCE_MSG)\n",
      "/opt/conda/lib/python3.7/site-packages/sklearn/model_selection/_validation.py:552: FitFailedWarning: Estimator fit failed. The score on this train-test partition for these parameters will be set to nan. Details: \n",
      "Traceback (most recent call last):\n",
      "  File \"/opt/conda/lib/python3.7/site-packages/sklearn/model_selection/_validation.py\", line 531, in _fit_and_score\n",
      "    estimator.fit(X_train, y_train, **fit_params)\n",
      "  File \"/opt/conda/lib/python3.7/site-packages/sklearn/linear_model/_logistic.py\", line 1304, in fit\n",
      "    solver = _check_solver(self.solver, self.penalty, self.dual)\n",
      "  File \"/opt/conda/lib/python3.7/site-packages/sklearn/linear_model/_logistic.py\", line 443, in _check_solver\n",
      "    \"got %s penalty.\" % (solver, penalty))\n",
      "ValueError: Solver lbfgs supports only 'l2' or 'none' penalties, got l1 penalty.\n",
      "\n",
      "  FitFailedWarning)\n",
      "/opt/conda/lib/python3.7/site-packages/sklearn/linear_model/_logistic.py:764: ConvergenceWarning: lbfgs failed to converge (status=1):\n",
      "STOP: TOTAL NO. of ITERATIONS REACHED LIMIT.\n",
      "\n",
      "Increase the number of iterations (max_iter) or scale the data as shown in:\n",
      "    https://scikit-learn.org/stable/modules/preprocessing.html\n",
      "Please also refer to the documentation for alternative solver options:\n",
      "    https://scikit-learn.org/stable/modules/linear_model.html#logistic-regression\n",
      "  extra_warning_msg=_LOGISTIC_SOLVER_CONVERGENCE_MSG)\n",
      "/opt/conda/lib/python3.7/site-packages/sklearn/linear_model/_logistic.py:764: ConvergenceWarning: lbfgs failed to converge (status=1):\n",
      "STOP: TOTAL NO. of ITERATIONS REACHED LIMIT.\n",
      "\n",
      "Increase the number of iterations (max_iter) or scale the data as shown in:\n",
      "    https://scikit-learn.org/stable/modules/preprocessing.html\n",
      "Please also refer to the documentation for alternative solver options:\n",
      "    https://scikit-learn.org/stable/modules/linear_model.html#logistic-regression\n",
      "  extra_warning_msg=_LOGISTIC_SOLVER_CONVERGENCE_MSG)\n",
      "/opt/conda/lib/python3.7/site-packages/sklearn/linear_model/_logistic.py:764: ConvergenceWarning: lbfgs failed to converge (status=1):\n",
      "STOP: TOTAL NO. of ITERATIONS REACHED LIMIT.\n",
      "\n",
      "Increase the number of iterations (max_iter) or scale the data as shown in:\n",
      "    https://scikit-learn.org/stable/modules/preprocessing.html\n",
      "Please also refer to the documentation for alternative solver options:\n",
      "    https://scikit-learn.org/stable/modules/linear_model.html#logistic-regression\n",
      "  extra_warning_msg=_LOGISTIC_SOLVER_CONVERGENCE_MSG)\n",
      "/opt/conda/lib/python3.7/site-packages/sklearn/linear_model/_logistic.py:764: ConvergenceWarning: lbfgs failed to converge (status=1):\n",
      "STOP: TOTAL NO. of ITERATIONS REACHED LIMIT.\n",
      "\n",
      "Increase the number of iterations (max_iter) or scale the data as shown in:\n",
      "    https://scikit-learn.org/stable/modules/preprocessing.html\n",
      "Please also refer to the documentation for alternative solver options:\n",
      "    https://scikit-learn.org/stable/modules/linear_model.html#logistic-regression\n",
      "  extra_warning_msg=_LOGISTIC_SOLVER_CONVERGENCE_MSG)\n",
      "/opt/conda/lib/python3.7/site-packages/sklearn/linear_model/_logistic.py:764: ConvergenceWarning: lbfgs failed to converge (status=1):\n",
      "STOP: TOTAL NO. of ITERATIONS REACHED LIMIT.\n",
      "\n",
      "Increase the number of iterations (max_iter) or scale the data as shown in:\n",
      "    https://scikit-learn.org/stable/modules/preprocessing.html\n",
      "Please also refer to the documentation for alternative solver options:\n",
      "    https://scikit-learn.org/stable/modules/linear_model.html#logistic-regression\n",
      "  extra_warning_msg=_LOGISTIC_SOLVER_CONVERGENCE_MSG)\n",
      "/opt/conda/lib/python3.7/site-packages/sklearn/model_selection/_validation.py:552: FitFailedWarning: Estimator fit failed. The score on this train-test partition for these parameters will be set to nan. Details: \n",
      "Traceback (most recent call last):\n",
      "  File \"/opt/conda/lib/python3.7/site-packages/sklearn/model_selection/_validation.py\", line 531, in _fit_and_score\n",
      "    estimator.fit(X_train, y_train, **fit_params)\n",
      "  File \"/opt/conda/lib/python3.7/site-packages/sklearn/linear_model/_logistic.py\", line 1304, in fit\n",
      "    solver = _check_solver(self.solver, self.penalty, self.dual)\n",
      "  File \"/opt/conda/lib/python3.7/site-packages/sklearn/linear_model/_logistic.py\", line 443, in _check_solver\n",
      "    \"got %s penalty.\" % (solver, penalty))\n",
      "ValueError: Solver lbfgs supports only 'l2' or 'none' penalties, got l1 penalty.\n",
      "\n",
      "  FitFailedWarning)\n",
      "/opt/conda/lib/python3.7/site-packages/sklearn/linear_model/_logistic.py:764: ConvergenceWarning: lbfgs failed to converge (status=1):\n",
      "STOP: TOTAL NO. of ITERATIONS REACHED LIMIT.\n",
      "\n",
      "Increase the number of iterations (max_iter) or scale the data as shown in:\n",
      "    https://scikit-learn.org/stable/modules/preprocessing.html\n",
      "Please also refer to the documentation for alternative solver options:\n",
      "    https://scikit-learn.org/stable/modules/linear_model.html#logistic-regression\n",
      "  extra_warning_msg=_LOGISTIC_SOLVER_CONVERGENCE_MSG)\n",
      "/opt/conda/lib/python3.7/site-packages/sklearn/linear_model/_logistic.py:764: ConvergenceWarning: lbfgs failed to converge (status=1):\n",
      "STOP: TOTAL NO. of ITERATIONS REACHED LIMIT.\n",
      "\n",
      "Increase the number of iterations (max_iter) or scale the data as shown in:\n",
      "    https://scikit-learn.org/stable/modules/preprocessing.html\n",
      "Please also refer to the documentation for alternative solver options:\n",
      "    https://scikit-learn.org/stable/modules/linear_model.html#logistic-regression\n",
      "  extra_warning_msg=_LOGISTIC_SOLVER_CONVERGENCE_MSG)\n",
      "/opt/conda/lib/python3.7/site-packages/sklearn/linear_model/_logistic.py:764: ConvergenceWarning: lbfgs failed to converge (status=1):\n",
      "STOP: TOTAL NO. of ITERATIONS REACHED LIMIT.\n",
      "\n",
      "Increase the number of iterations (max_iter) or scale the data as shown in:\n",
      "    https://scikit-learn.org/stable/modules/preprocessing.html\n",
      "Please also refer to the documentation for alternative solver options:\n",
      "    https://scikit-learn.org/stable/modules/linear_model.html#logistic-regression\n",
      "  extra_warning_msg=_LOGISTIC_SOLVER_CONVERGENCE_MSG)\n",
      "/opt/conda/lib/python3.7/site-packages/sklearn/linear_model/_logistic.py:764: ConvergenceWarning: lbfgs failed to converge (status=1):\n",
      "STOP: TOTAL NO. of ITERATIONS REACHED LIMIT.\n",
      "\n",
      "Increase the number of iterations (max_iter) or scale the data as shown in:\n",
      "    https://scikit-learn.org/stable/modules/preprocessing.html\n",
      "Please also refer to the documentation for alternative solver options:\n",
      "    https://scikit-learn.org/stable/modules/linear_model.html#logistic-regression\n",
      "  extra_warning_msg=_LOGISTIC_SOLVER_CONVERGENCE_MSG)\n",
      "/opt/conda/lib/python3.7/site-packages/sklearn/linear_model/_logistic.py:764: ConvergenceWarning: lbfgs failed to converge (status=1):\n",
      "STOP: TOTAL NO. of ITERATIONS REACHED LIMIT.\n",
      "\n",
      "Increase the number of iterations (max_iter) or scale the data as shown in:\n",
      "    https://scikit-learn.org/stable/modules/preprocessing.html\n",
      "Please also refer to the documentation for alternative solver options:\n",
      "    https://scikit-learn.org/stable/modules/linear_model.html#logistic-regression\n",
      "  extra_warning_msg=_LOGISTIC_SOLVER_CONVERGENCE_MSG)\n"
     ]
    },
    {
     "name": "stdout",
     "output_type": "stream",
     "text": [
      "LogisticRegression(C=1)\n"
     ]
    },
    {
     "name": "stderr",
     "output_type": "stream",
     "text": [
      "/opt/conda/lib/python3.7/site-packages/sklearn/linear_model/_logistic.py:764: ConvergenceWarning: lbfgs failed to converge (status=1):\n",
      "STOP: TOTAL NO. of ITERATIONS REACHED LIMIT.\n",
      "\n",
      "Increase the number of iterations (max_iter) or scale the data as shown in:\n",
      "    https://scikit-learn.org/stable/modules/preprocessing.html\n",
      "Please also refer to the documentation for alternative solver options:\n",
      "    https://scikit-learn.org/stable/modules/linear_model.html#logistic-regression\n",
      "  extra_warning_msg=_LOGISTIC_SOLVER_CONVERGENCE_MSG)\n"
     ]
    }
   ],
   "source": [
    "from sklearn.linear_model import LogisticRegression\n",
    "log_reg_params = {\"penalty\": ['l1', 'l2'], 'C': [0.01, 1, 10]}\n",
    "grid_log_reg = GridSearchCV(LogisticRegression(), log_reg_params)\n",
    "grid_log_reg.fit(x_train, y_train)\n",
    "log_reg = grid_log_reg.best_estimator_\n",
    "print(log_reg)"
   ]
  },
  {
   "cell_type": "markdown",
   "execution_count": null,
   "metadata": {},
   "source": [
    "#### Decision Tree"
   ]
  },
  {
   "cell_type": "code",
   "execution_count": 58,
   "metadata": {},
   "outputs": [
    {
     "name": "stdout",
     "output_type": "stream",
     "text": [
      "DecisionTreeClassifier(max_depth=3)\n"
     ]
    }
   ],
   "source": [
    "from sklearn.tree import DecisionTreeClassifier\n",
    "tree_params = {\"criterion\": [\"gini\", \"entropy\"], \"max_depth\": list(range(3,4,1))}\n",
    "grid_tree = GridSearchCV(DecisionTreeClassifier(), tree_params)\n",
    "grid_tree.fit(x_train, y_train)\n",
    "\n",
    "\n",
    "tree_clf = grid_tree.best_estimator_\n",
    "print(tree_clf)"
   ]
  },
  {
   "cell_type": "markdown",
   "execution_count": null,
   "metadata": {},
   "source": [
    "#### KNN"
   ]
  },
  {
   "cell_type": "code",
   "execution_count": 59,
   "metadata": {},
   "outputs": [
    {
     "name": "stdout",
     "output_type": "stream",
     "text": [
      "KNeighborsClassifier(n_neighbors=4)\n"
     ]
    }
   ],
   "source": [
    "from sklearn.neighbors import KNeighborsClassifier\n",
    "knears_params = {\"n_neighbors\": list(range(4,7,1))}\n",
    "\n",
    "grid_knears = GridSearchCV(KNeighborsClassifier(), knears_params)\n",
    "grid_knears.fit(x_train, y_train)\n",
    "\n",
    "knears_neighbors = grid_knears.best_estimator_\n",
    "\n",
    "print(knears_neighbors)"
   ]
  },
  {
   "cell_type": "markdown",
   "execution_count": null,
   "metadata": {},
   "source": [
    "#### Random Forest"
   ]
  },
  {
   "cell_type": "code",
   "execution_count": 60,
   "metadata": {},
   "outputs": [
    {
     "name": "stdout",
     "output_type": "stream",
     "text": [
      "{'criterion': ['gini', 'entropy'], 'max_depth': [2, 3], 'n_estimators': [200, 300, 400, 500, 600, 700, 800, 900]}\n"
     ]
    }
   ],
   "source": [
    "from sklearn.ensemble import RandomForestClassifier\n",
    "forest_params = {\"criterion\": [\"gini\", \"entropy\"], \"max_depth\": list(range(2,4,1)), \"n_estimators\":list(range(200,1000,100))}\n",
    "grid_tree = GridSearchCV(RandomForestClassifier(), tree_params)\n",
    "grid_tree.fit(x_train, y_train)\n",
    "\n",
    "\n",
    "tree_clf = grid_tree.best_estimator_\n",
    "print(forest_params)"
   ]
  },
  {
   "cell_type": "code",
   "execution_count": 61,
   "metadata": {},
   "outputs": [
    {
     "name": "stderr",
     "output_type": "stream",
     "text": [
      "/opt/conda/lib/python3.7/site-packages/sklearn/linear_model/_logistic.py:764: ConvergenceWarning: lbfgs failed to converge (status=1):\n",
      "STOP: TOTAL NO. of ITERATIONS REACHED LIMIT.\n",
      "\n",
      "Increase the number of iterations (max_iter) or scale the data as shown in:\n",
      "    https://scikit-learn.org/stable/modules/preprocessing.html\n",
      "Please also refer to the documentation for alternative solver options:\n",
      "    https://scikit-learn.org/stable/modules/linear_model.html#logistic-regression\n",
      "  extra_warning_msg=_LOGISTIC_SOLVER_CONVERGENCE_MSG)\n"
     ]
    },
    {
     "name": "stdout",
     "output_type": "stream",
     "text": [
      "Accuracy: 0.9992900588093128\n"
     ]
    },
    {
     "data": {
      "image/png": "[encoded data removed]",
      "text/plain": [
       "<Figure size 432x288 with 1 Axes>"
      ]
     },
     "metadata": {
      "needs_background": "light"
     },
     "output_type": "display_data"
    }
   ],
   "source": [
    "lr = LogisticRegression(C=1)\n",
    "lr.fit( x_train, y_train )\n",
    "\n",
    "\n",
    "y_pred = lr.predict(x_test)\n",
    "\n",
    "\n",
    "print('Accuracy:',accuracy_score(y_pred , y_test))\n",
    "\n",
    "y_pred_proba = lr.predict_proba(x_test)[::,1]\n",
    "fpr, tpr, _ = roc_curve(y_test,  y_pred)\n",
    "auc = roc_auc_score(y_test, y_pred)\n",
    "plt.plot(fpr,tpr,label=\"data 1, auc=\"+str(auc))\n",
    "plt.legend(loc=4)\n",
    "plt.show()"
   ]
  },
  {
   "cell_type": "code",
   "execution_count": 62,
   "metadata": {},
   "outputs": [
    {
     "data": {
      "text/html": [
       "<div>\n",
       "<style scoped>\n",
       "    .dataframe tbody tr th:only-of-type {\n",
       "        vertical-align: middle;\n",
       "    }\n",
       "\n",
       "    .dataframe tbody tr th {\n",
       "        vertical-align: top;\n",
       "    }\n",
       "\n",
       "    .dataframe thead th {\n",
       "        text-align: right;\n",
       "    }\n",
       "</style>\n",
       "<table border=\"1\" class=\"dataframe\">\n",
       "  <thead>\n",
       "    <tr style=\"text-align: right;\">\n",
       "      <th>Actual</th>\n",
       "      <th>0</th>\n",
       "      <th>1</th>\n",
       "    </tr>\n",
       "    <tr>\n",
       "      <th>Predicted</th>\n",
       "      <th></th>\n",
       "      <th></th>\n",
       "    </tr>\n",
       "  </thead>\n",
       "  <tbody>\n",
       "    <tr>\n",
       "      <th>0</th>\n",
       "      <td>198235</td>\n",
       "      <td>93</td>\n",
       "    </tr>\n",
       "    <tr>\n",
       "      <th>1</th>\n",
       "      <td>48</td>\n",
       "      <td>232</td>\n",
       "    </tr>\n",
       "  </tbody>\n",
       "</table>\n",
       "</div>"
      ],
      "text/plain": [
       "Actual          0    1\n",
       "Predicted             \n",
       "0          198235   93\n",
       "1              48  232"
      ]
     },
     "execution_count": 62,
     "metadata": {},
     "output_type": "execute_result"
    }
   ],
   "source": [
    "pd.crosstab(pd.Series(y_pred,name='Predicted'),pd.Series(y_test,name='Actual'))"
   ]
  },
  {
   "cell_type": "markdown",
   "execution_count": null,
   "metadata": {},
   "source": [
    "#### Logistic Regression - UnderSamploing"
   ]
  },
  {
   "cell_type": "code",
   "execution_count": 63,
   "metadata": {},
   "outputs": [
    {
     "name": "stderr",
     "output_type": "stream",
     "text": [
      "/opt/conda/lib/python3.7/site-packages/sklearn/linear_model/_logistic.py:764: ConvergenceWarning: lbfgs failed to converge (status=1):\n",
      "STOP: TOTAL NO. of ITERATIONS REACHED LIMIT.\n",
      "\n",
      "Increase the number of iterations (max_iter) or scale the data as shown in:\n",
      "    https://scikit-learn.org/stable/modules/preprocessing.html\n",
      "Please also refer to the documentation for alternative solver options:\n",
      "    https://scikit-learn.org/stable/modules/linear_model.html#logistic-regression\n",
      "  extra_warning_msg=_LOGISTIC_SOLVER_CONVERGENCE_MSG)\n"
     ]
    },
    {
     "name": "stdout",
     "output_type": "stream",
     "text": [
      "Accuracy: 0.9666730443889471\n"
     ]
    },
    {
     "data": {
      "image/png": "[encoded data removed]",
      "text/plain": [
       "<Figure size 432x288 with 1 Axes>"
      ]
     },
     "metadata": {
      "needs_background": "light"
     },
     "output_type": "display_data"
    }
   ],
   "source": [
    "lr = LogisticRegression(C=1)\n",
    "lr.fit( x_under, y_under )\n",
    "\n",
    "\n",
    "y_pred = lr.predict(x_test)\n",
    "\n",
    "\n",
    "print('Accuracy:',accuracy_score(y_pred , y_test))\n",
    "\n",
    "y_pred_proba = lr.predict_proba(x_test)[::,1]\n",
    "fpr, tpr, _ = roc_curve(y_test,  y_pred)\n",
    "auc = roc_auc_score(y_test, y_pred)\n",
    "plt.plot(fpr,tpr,label=\"data 1, auc=\"+str(auc))\n",
    "plt.legend(loc=4)\n",
    "plt.show()"
   ]
  },
  {
   "cell_type": "code",
   "execution_count": 64,
   "metadata": {},
   "outputs": [
    {
     "data": {
      "text/html": [
       "<div>\n",
       "<style scoped>\n",
       "    .dataframe tbody tr th:only-of-type {\n",
       "        vertical-align: middle;\n",
       "    }\n",
       "\n",
       "    .dataframe tbody tr th {\n",
       "        vertical-align: top;\n",
       "    }\n",
       "\n",
       "    .dataframe thead th {\n",
       "        text-align: right;\n",
       "    }\n",
       "</style>\n",
       "<table border=\"1\" class=\"dataframe\">\n",
       "  <thead>\n",
       "    <tr style=\"text-align: right;\">\n",
       "      <th>Actual</th>\n",
       "      <th>0</th>\n",
       "      <th>1</th>\n",
       "    </tr>\n",
       "    <tr>\n",
       "      <th>Predicted</th>\n",
       "      <th></th>\n",
       "      <th></th>\n",
       "    </tr>\n",
       "  </thead>\n",
       "  <tbody>\n",
       "    <tr>\n",
       "      <th>0</th>\n",
       "      <td>191693</td>\n",
       "      <td>29</td>\n",
       "    </tr>\n",
       "    <tr>\n",
       "      <th>1</th>\n",
       "      <td>6590</td>\n",
       "      <td>296</td>\n",
       "    </tr>\n",
       "  </tbody>\n",
       "</table>\n",
       "</div>"
      ],
      "text/plain": [
       "Actual          0    1\n",
       "Predicted             \n",
       "0          191693   29\n",
       "1            6590  296"
      ]
     },
     "execution_count": 64,
     "metadata": {},
     "output_type": "execute_result"
    }
   ],
   "source": [
    "pd.crosstab(pd.Series(y_pred,name='Predicted'),pd.Series(y_test,name='Actual'))"
   ]
  },
  {
   "cell_type": "markdown",
   "execution_count": null,
   "metadata": {},
   "source": [
    "#### Logistic Regression - Oversampling"
   ]
  },
  {
   "cell_type": "code",
   "execution_count": 65,
   "metadata": {},
   "outputs": [
    {
     "name": "stderr",
     "output_type": "stream",
     "text": [
      "/opt/conda/lib/python3.7/site-packages/sklearn/linear_model/_logistic.py:764: ConvergenceWarning: lbfgs failed to converge (status=1):\n",
      "STOP: TOTAL NO. of ITERATIONS REACHED LIMIT.\n",
      "\n",
      "Increase the number of iterations (max_iter) or scale the data as shown in:\n",
      "    https://scikit-learn.org/stable/modules/preprocessing.html\n",
      "Please also refer to the documentation for alternative solver options:\n",
      "    https://scikit-learn.org/stable/modules/linear_model.html#logistic-regression\n",
      "  extra_warning_msg=_LOGISTIC_SOLVER_CONVERGENCE_MSG)\n"
     ]
    },
    {
     "name": "stdout",
     "output_type": "stream",
     "text": [
      "Accuracy: 0.9659328929348264\n"
     ]
    },
    {
     "data": {
      "image/png": "[encoded data removed]",
      "text/plain": [
       "<Figure size 432x288 with 1 Axes>"
      ]
     },
     "metadata": {
      "needs_background": "light"
     },
     "output_type": "display_data"
    }
   ],
   "source": [
    "lr = LogisticRegression(C=1)\n",
    "lr.fit( x_over, y_over )\n",
    "\n",
    "\n",
    "y_pred = lr.predict(x_test)\n",
    "\n",
    "\n",
    "print('Accuracy:',accuracy_score(y_pred , y_test))\n",
    "\n",
    "y_pred_proba = lr.predict_proba(x_test)[::,1]\n",
    "fpr, tpr, _ = roc_curve(y_test,  y_pred)\n",
    "auc = roc_auc_score(y_test, y_pred)\n",
    "plt.plot(fpr,tpr,label=\"data 1, auc=\"+str(auc))\n",
    "plt.legend(loc=4)\n",
    "plt.show()"
   ]
  },
  {
   "cell_type": "code",
   "execution_count": 66,
   "metadata": {},
   "outputs": [
    {
     "data": {
      "text/html": [
       "<div>\n",
       "<style scoped>\n",
       "    .dataframe tbody tr th:only-of-type {\n",
       "        vertical-align: middle;\n",
       "    }\n",
       "\n",
       "    .dataframe tbody tr th {\n",
       "        vertical-align: top;\n",
       "    }\n",
       "\n",
       "    .dataframe thead th {\n",
       "        text-align: right;\n",
       "    }\n",
       "</style>\n",
       "<table border=\"1\" class=\"dataframe\">\n",
       "  <thead>\n",
       "    <tr style=\"text-align: right;\">\n",
       "      <th>Actual</th>\n",
       "      <th>0</th>\n",
       "      <th>1</th>\n",
       "    </tr>\n",
       "    <tr>\n",
       "      <th>Predicted</th>\n",
       "      <th></th>\n",
       "      <th></th>\n",
       "    </tr>\n",
       "  </thead>\n",
       "  <tbody>\n",
       "    <tr>\n",
       "      <th>0</th>\n",
       "      <td>191542</td>\n",
       "      <td>25</td>\n",
       "    </tr>\n",
       "    <tr>\n",
       "      <th>1</th>\n",
       "      <td>6741</td>\n",
       "      <td>300</td>\n",
       "    </tr>\n",
       "  </tbody>\n",
       "</table>\n",
       "</div>"
      ],
      "text/plain": [
       "Actual          0    1\n",
       "Predicted             \n",
       "0          191542   25\n",
       "1            6741  300"
      ]
     },
     "execution_count": 66,
     "metadata": {},
     "output_type": "execute_result"
    }
   ],
   "source": [
    "pd.crosstab(pd.Series(y_pred,name='Predicted'),pd.Series(y_test,name='Actual'))"
   ]
  },
  {
   "cell_type": "markdown",
   "execution_count": null,
   "metadata": {},
   "source": [
    "#### Logistic Regression - SMOTE"
   ]
  },
  {
   "cell_type": "code",
   "execution_count": 67,
   "metadata": {},
   "outputs": [
    {
     "name": "stderr",
     "output_type": "stream",
     "text": [
      "/opt/conda/lib/python3.7/site-packages/sklearn/linear_model/_logistic.py:764: ConvergenceWarning: lbfgs failed to converge (status=1):\n",
      "STOP: TOTAL NO. of ITERATIONS REACHED LIMIT.\n",
      "\n",
      "Increase the number of iterations (max_iter) or scale the data as shown in:\n",
      "    https://scikit-learn.org/stable/modules/preprocessing.html\n",
      "Please also refer to the documentation for alternative solver options:\n",
      "    https://scikit-learn.org/stable/modules/linear_model.html#logistic-regression\n",
      "  extra_warning_msg=_LOGISTIC_SOLVER_CONVERGENCE_MSG)\n"
     ]
    },
    {
     "name": "stdout",
     "output_type": "stream",
     "text": [
      "Accuracy: 0.9827801498429066\n"
     ]
    },
    {
     "data": {
      "image/png": "[encoded data removed]",
      "text/plain": [
       "<Figure size 432x288 with 1 Axes>"
      ]
     },
     "metadata": {
      "needs_background": "light"
     },
     "output_type": "display_data"
    }
   ],
   "source": [
    "lr = LogisticRegression(C=1)\n",
    "lr.fit( x_smote, y_smote )\n",
    "\n",
    "\n",
    "y_pred = lr.predict(x_test)\n",
    "\n",
    "\n",
    "print('Accuracy:',accuracy_score(y_pred , y_test))\n",
    "\n",
    "y_pred_proba = lr.predict_proba(x_test)[::,1]\n",
    "fpr, tpr, _ = roc_curve(y_test,  y_pred)\n",
    "auc = roc_auc_score(y_test, y_pred)\n",
    "plt.plot(fpr,tpr,label=\"data 1, auc=\"+str(auc))\n",
    "plt.legend(loc=4)\n",
    "plt.show()"
   ]
  },
  {
   "cell_type": "code",
   "execution_count": 68,
   "metadata": {},
   "outputs": [
    {
     "data": {
      "text/html": [
       "<div>\n",
       "<style scoped>\n",
       "    .dataframe tbody tr th:only-of-type {\n",
       "        vertical-align: middle;\n",
       "    }\n",
       "\n",
       "    .dataframe tbody tr th {\n",
       "        vertical-align: top;\n",
       "    }\n",
       "\n",
       "    .dataframe thead th {\n",
       "        text-align: right;\n",
       "    }\n",
       "</style>\n",
       "<table border=\"1\" class=\"dataframe\">\n",
       "  <thead>\n",
       "    <tr style=\"text-align: right;\">\n",
       "      <th>Actual</th>\n",
       "      <th>0</th>\n",
       "      <th>1</th>\n",
       "    </tr>\n",
       "    <tr>\n",
       "      <th>Predicted</th>\n",
       "      <th></th>\n",
       "      <th></th>\n",
       "    </tr>\n",
       "  </thead>\n",
       "  <tbody>\n",
       "    <tr>\n",
       "      <th>0</th>\n",
       "      <td>194893</td>\n",
       "      <td>30</td>\n",
       "    </tr>\n",
       "    <tr>\n",
       "      <th>1</th>\n",
       "      <td>3390</td>\n",
       "      <td>295</td>\n",
       "    </tr>\n",
       "  </tbody>\n",
       "</table>\n",
       "</div>"
      ],
      "text/plain": [
       "Actual          0    1\n",
       "Predicted             \n",
       "0          194893   30\n",
       "1            3390  295"
      ]
     },
     "execution_count": 68,
     "metadata": {},
     "output_type": "execute_result"
    }
   ],
   "source": [
    "pd.crosstab(pd.Series(y_pred,name='Predicted'),pd.Series(y_test,name='Actual'))"
   ]
  },
  {
   "cell_type": "markdown",
   "execution_count": null,
   "metadata": {},
   "source": [
    "#### Decision Tree"
   ]
  },
  {
   "cell_type": "markdown",
   "execution_count": null,
   "metadata": {},
   "source": [
    "#### Base line Model"
   ]
  },
  {
   "cell_type": "code",
   "execution_count": 69,
   "metadata": {},
   "outputs": [
    {
     "name": "stdout",
     "output_type": "stream",
     "text": [
      "Accuracy: 0.9993857246435189\n"
     ]
    },
    {
     "data": {
      "image/png": "[encoded data removed]",
      "text/plain": [
       "<Figure size 432x288 with 1 Axes>"
      ]
     },
     "metadata": {
      "needs_background": "light"
     },
     "output_type": "display_data"
    }
   ],
   "source": [
    "dte = DecisionTreeClassifier(criterion='entropy', max_depth=3)\n",
    "dte.fit( x_train, y_train )\n",
    "\n",
    "\n",
    "y_pred = dte.predict(x_test)\n",
    "\n",
    "\n",
    "print('Accuracy:',accuracy_score(y_pred , y_test))\n",
    "\n",
    "y_pred_proba = dte.predict_proba(x_test)[::,1]\n",
    "fpr, tpr, _ = roc_curve(y_test,  y_pred)\n",
    "auc = roc_auc_score(y_test, y_pred)\n",
    "plt.plot(fpr,tpr,label=\"data 1, auc=\"+str(auc))\n",
    "plt.legend(loc=4)\n",
    "plt.show()"
   ]
  },
  {
   "cell_type": "code",
   "execution_count": 70,
   "metadata": {},
   "outputs": [
    {
     "data": {
      "text/html": [
       "<div>\n",
       "<style scoped>\n",
       "    .dataframe tbody tr th:only-of-type {\n",
       "        vertical-align: middle;\n",
       "    }\n",
       "\n",
       "    .dataframe tbody tr th {\n",
       "        vertical-align: top;\n",
       "    }\n",
       "\n",
       "    .dataframe thead th {\n",
       "        text-align: right;\n",
       "    }\n",
       "</style>\n",
       "<table border=\"1\" class=\"dataframe\">\n",
       "  <thead>\n",
       "    <tr style=\"text-align: right;\">\n",
       "      <th>Actual</th>\n",
       "      <th>0</th>\n",
       "      <th>1</th>\n",
       "    </tr>\n",
       "    <tr>\n",
       "      <th>Predicted</th>\n",
       "      <th></th>\n",
       "      <th></th>\n",
       "    </tr>\n",
       "  </thead>\n",
       "  <tbody>\n",
       "    <tr>\n",
       "      <th>0</th>\n",
       "      <td>198231</td>\n",
       "      <td>70</td>\n",
       "    </tr>\n",
       "    <tr>\n",
       "      <th>1</th>\n",
       "      <td>52</td>\n",
       "      <td>255</td>\n",
       "    </tr>\n",
       "  </tbody>\n",
       "</table>\n",
       "</div>"
      ],
      "text/plain": [
       "Actual          0    1\n",
       "Predicted             \n",
       "0          198231   70\n",
       "1              52  255"
      ]
     },
     "execution_count": 70,
     "metadata": {},
     "output_type": "execute_result"
    }
   ],
   "source": [
    "pd.crosstab(pd.Series(y_pred,name='Predicted'),pd.Series(y_test,name='Actual'))"
   ]
  },
  {
   "cell_type": "markdown",
   "execution_count": null,
   "metadata": {},
   "source": [
    "#### UnderSampling - Decision Tree"
   ]
  },
  {
   "cell_type": "code",
   "execution_count": 71,
   "metadata": {},
   "outputs": [
    {
     "name": "stdout",
     "output_type": "stream",
     "text": [
      "Accuracy: 0.972322363651011\n"
     ]
    },
    {
     "data": {
      "image/png": "[encoded data removed]",
      "text/plain": [
       "<Figure size 432x288 with 1 Axes>"
      ]
     },
     "metadata": {
      "needs_background": "light"
     },
     "output_type": "display_data"
    }
   ],
   "source": [
    "dte = DecisionTreeClassifier(criterion='entropy', max_depth=3)\n",
    "dte.fit( x_under, y_under )\n",
    "\n",
    "\n",
    "y_pred = dte.predict(x_test)\n",
    "\n",
    "\n",
    "print('Accuracy:',accuracy_score(y_pred , y_test))\n",
    "\n",
    "y_pred_proba = dte.predict_proba(x_test)[::,1]\n",
    "fpr, tpr, _ = roc_curve(y_test,  y_pred)\n",
    "auc = roc_auc_score(y_test, y_pred)\n",
    "plt.plot(fpr,tpr,label=\"data 1, auc=\"+str(auc))\n",
    "plt.legend(loc=4)\n",
    "plt.show()"
   ]
  },
  {
   "cell_type": "code",
   "execution_count": 72,
   "metadata": {},
   "outputs": [
    {
     "data": {
      "text/html": [
       "<div>\n",
       "<style scoped>\n",
       "    .dataframe tbody tr th:only-of-type {\n",
       "        vertical-align: middle;\n",
       "    }\n",
       "\n",
       "    .dataframe tbody tr th {\n",
       "        vertical-align: top;\n",
       "    }\n",
       "\n",
       "    .dataframe thead th {\n",
       "        text-align: right;\n",
       "    }\n",
       "</style>\n",
       "<table border=\"1\" class=\"dataframe\">\n",
       "  <thead>\n",
       "    <tr style=\"text-align: right;\">\n",
       "      <th>Actual</th>\n",
       "      <th>0</th>\n",
       "      <th>1</th>\n",
       "    </tr>\n",
       "    <tr>\n",
       "      <th>Predicted</th>\n",
       "      <th></th>\n",
       "      <th></th>\n",
       "    </tr>\n",
       "  </thead>\n",
       "  <tbody>\n",
       "    <tr>\n",
       "      <th>0</th>\n",
       "      <td>192825</td>\n",
       "      <td>39</td>\n",
       "    </tr>\n",
       "    <tr>\n",
       "      <th>1</th>\n",
       "      <td>5458</td>\n",
       "      <td>286</td>\n",
       "    </tr>\n",
       "  </tbody>\n",
       "</table>\n",
       "</div>"
      ],
      "text/plain": [
       "Actual          0    1\n",
       "Predicted             \n",
       "0          192825   39\n",
       "1            5458  286"
      ]
     },
     "execution_count": 72,
     "metadata": {},
     "output_type": "execute_result"
    }
   ],
   "source": [
    "pd.crosstab(pd.Series(y_pred,name='Predicted'),pd.Series(y_test,name='Actual'))"
   ]
  },
  {
   "cell_type": "markdown",
   "execution_count": null,
   "metadata": {},
   "source": [
    "#### Decision Tree - Oversampling\n"
   ]
  },
  {
   "cell_type": "code",
   "execution_count": 73,
   "metadata": {},
   "outputs": [
    {
     "name": "stdout",
     "output_type": "stream",
     "text": [
      "Accuracy: 0.9322937646016273\n"
     ]
    },
    {
     "data": {
      "image/png": "[encoded data removed]",
      "text/plain": [
       "<Figure size 432x288 with 1 Axes>"
      ]
     },
     "metadata": {
      "needs_background": "light"
     },
     "output_type": "display_data"
    }
   ],
   "source": [
    "dte = DecisionTreeClassifier(criterion='entropy', max_depth=3)\n",
    "dte.fit( x_over, y_over )\n",
    "\n",
    "\n",
    "y_pred = dte.predict(x_test)\n",
    "\n",
    "\n",
    "print('Accuracy:',accuracy_score(y_pred , y_test))\n",
    "\n",
    "y_pred_proba = dte.predict_proba(x_test)[::,1]\n",
    "fpr, tpr, _ = roc_curve(y_test,  y_pred)\n",
    "auc = roc_auc_score(y_test, y_pred)\n",
    "plt.plot(fpr,tpr,label=\"data 1, auc=\"+str(auc))\n",
    "plt.legend(loc=4)\n",
    "plt.show()"
   ]
  },
  {
   "cell_type": "code",
   "execution_count": 74,
   "metadata": {},
   "outputs": [
    {
     "data": {
      "text/html": [
       "<div>\n",
       "<style scoped>\n",
       "    .dataframe tbody tr th:only-of-type {\n",
       "        vertical-align: middle;\n",
       "    }\n",
       "\n",
       "    .dataframe tbody tr th {\n",
       "        vertical-align: top;\n",
       "    }\n",
       "\n",
       "    .dataframe thead th {\n",
       "        text-align: right;\n",
       "    }\n",
       "</style>\n",
       "<table border=\"1\" class=\"dataframe\">\n",
       "  <thead>\n",
       "    <tr style=\"text-align: right;\">\n",
       "      <th>Actual</th>\n",
       "      <th>0</th>\n",
       "      <th>1</th>\n",
       "    </tr>\n",
       "    <tr>\n",
       "      <th>Predicted</th>\n",
       "      <th></th>\n",
       "      <th></th>\n",
       "    </tr>\n",
       "  </thead>\n",
       "  <tbody>\n",
       "    <tr>\n",
       "      <th>0</th>\n",
       "      <td>184865</td>\n",
       "      <td>29</td>\n",
       "    </tr>\n",
       "    <tr>\n",
       "      <th>1</th>\n",
       "      <td>13418</td>\n",
       "      <td>296</td>\n",
       "    </tr>\n",
       "  </tbody>\n",
       "</table>\n",
       "</div>"
      ],
      "text/plain": [
       "Actual          0    1\n",
       "Predicted             \n",
       "0          184865   29\n",
       "1           13418  296"
      ]
     },
     "execution_count": 74,
     "metadata": {},
     "output_type": "execute_result"
    }
   ],
   "source": [
    "pd.crosstab(pd.Series(y_pred,name='Predicted'),pd.Series(y_test,name='Actual'))"
   ]
  },
  {
   "cell_type": "markdown",
   "execution_count": null,
   "metadata": {},
   "source": [
    "#### Decision Tree - SMOTE"
   ]
  },
  {
   "cell_type": "code",
   "execution_count": 75,
   "metadata": {},
   "outputs": [
    {
     "name": "stdout",
     "output_type": "stream",
     "text": [
      "Accuracy: 0.9832181986626923\n"
     ]
    },
    {
     "data": {
      "image/png": "[encoded data removed]",
      "text/plain": [
       "<Figure size 432x288 with 1 Axes>"
      ]
     },
     "metadata": {
      "needs_background": "light"
     },
     "output_type": "display_data"
    }
   ],
   "source": [
    "dte = DecisionTreeClassifier(criterion='entropy', max_depth=3)\n",
    "dte.fit( x_smote, y_smote )\n",
    "\n",
    "\n",
    "y_pred = dte.predict(x_test)\n",
    "\n",
    "\n",
    "print('Accuracy:',accuracy_score(y_pred , y_test))\n",
    "\n",
    "y_pred_proba = dte.predict_proba(x_test)[::,1]\n",
    "fpr, tpr, _ = roc_curve(y_test,  y_pred)\n",
    "auc = roc_auc_score(y_test, y_pred)\n",
    "plt.plot(fpr,tpr,label=\"data 1, auc=\"+str(auc))\n",
    "plt.legend(loc=4)\n",
    "plt.show()"
   ]
  },
  {
   "cell_type": "code",
   "execution_count": 76,
   "metadata": {},
   "outputs": [
    {
     "data": {
      "text/html": [
       "<div>\n",
       "<style scoped>\n",
       "    .dataframe tbody tr th:only-of-type {\n",
       "        vertical-align: middle;\n",
       "    }\n",
       "\n",
       "    .dataframe tbody tr th {\n",
       "        vertical-align: top;\n",
       "    }\n",
       "\n",
       "    .dataframe thead th {\n",
       "        text-align: right;\n",
       "    }\n",
       "</style>\n",
       "<table border=\"1\" class=\"dataframe\">\n",
       "  <thead>\n",
       "    <tr style=\"text-align: right;\">\n",
       "      <th>Actual</th>\n",
       "      <th>0</th>\n",
       "      <th>1</th>\n",
       "    </tr>\n",
       "    <tr>\n",
       "      <th>Predicted</th>\n",
       "      <th></th>\n",
       "      <th></th>\n",
       "    </tr>\n",
       "  </thead>\n",
       "  <tbody>\n",
       "    <tr>\n",
       "      <th>0</th>\n",
       "      <td>194995</td>\n",
       "      <td>45</td>\n",
       "    </tr>\n",
       "    <tr>\n",
       "      <th>1</th>\n",
       "      <td>3288</td>\n",
       "      <td>280</td>\n",
       "    </tr>\n",
       "  </tbody>\n",
       "</table>\n",
       "</div>"
      ],
      "text/plain": [
       "Actual          0    1\n",
       "Predicted             \n",
       "0          194995   45\n",
       "1            3288  280"
      ]
     },
     "execution_count": 76,
     "metadata": {},
     "output_type": "execute_result"
    }
   ],
   "source": [
    "pd.crosstab(pd.Series(y_pred,name='Predicted'),pd.Series(y_test,name='Actual'))"
   ]
  },
  {
   "cell_type": "markdown",
   "execution_count": null,
   "metadata": {},
   "source": [
    "#### KNn Base Line Model"
   ]
  },
  {
   "cell_type": "code",
   "execution_count": 77,
   "metadata": {},
   "outputs": [
    {
     "name": "stdout",
     "output_type": "stream",
     "text": [
      "Accuracy: 0.9991490775799565\n"
     ]
    },
    {
     "data": {
      "image/png": "[encoded data removed]",
      "text/plain": [
       "<Figure size 432x288 with 1 Axes>"
      ]
     },
     "metadata": {
      "needs_background": "light"
     },
     "output_type": "display_data"
    }
   ],
   "source": [
    "knc = KNeighborsClassifier(n_neighbors=3)\n",
    "knc.fit( x_train, y_train )\n",
    "\n",
    "\n",
    "y_pred = knc.predict(x_test)\n",
    "\n",
    "\n",
    "print('Accuracy:',accuracy_score(y_pred , y_test))\n",
    "\n",
    "y_pred_proba = knc.predict_proba(x_test)[::,1]\n",
    "fpr, tpr, _ = roc_curve(y_test,  y_pred)\n",
    "auc = roc_auc_score(y_test, y_pred)\n",
    "plt.plot(fpr,tpr,label=\"data 1, auc=\"+str(auc))\n",
    "plt.legend(loc=4)\n",
    "plt.show()"
   ]
  },
  {
   "cell_type": "code",
   "execution_count": 78,
   "metadata": {},
   "outputs": [
    {
     "data": {
      "text/html": [
       "<div>\n",
       "<style scoped>\n",
       "    .dataframe tbody tr th:only-of-type {\n",
       "        vertical-align: middle;\n",
       "    }\n",
       "\n",
       "    .dataframe tbody tr th {\n",
       "        vertical-align: top;\n",
       "    }\n",
       "\n",
       "    .dataframe thead th {\n",
       "        text-align: right;\n",
       "    }\n",
       "</style>\n",
       "<table border=\"1\" class=\"dataframe\">\n",
       "  <thead>\n",
       "    <tr style=\"text-align: right;\">\n",
       "      <th>Actual</th>\n",
       "      <th>0</th>\n",
       "      <th>1</th>\n",
       "    </tr>\n",
       "    <tr>\n",
       "      <th>Predicted</th>\n",
       "      <th></th>\n",
       "      <th></th>\n",
       "    </tr>\n",
       "  </thead>\n",
       "  <tbody>\n",
       "    <tr>\n",
       "      <th>0</th>\n",
       "      <td>198261</td>\n",
       "      <td>147</td>\n",
       "    </tr>\n",
       "    <tr>\n",
       "      <th>1</th>\n",
       "      <td>22</td>\n",
       "      <td>178</td>\n",
       "    </tr>\n",
       "  </tbody>\n",
       "</table>\n",
       "</div>"
      ],
      "text/plain": [
       "Actual          0    1\n",
       "Predicted             \n",
       "0          198261  147\n",
       "1              22  178"
      ]
     },
     "execution_count": 78,
     "metadata": {},
     "output_type": "execute_result"
    }
   ],
   "source": [
    "pd.crosstab(pd.Series(y_pred,name='Predicted'),pd.Series(y_test,name='Actual'))"
   ]
  },
  {
   "cell_type": "markdown",
   "execution_count": null,
   "metadata": {},
   "source": [
    "#### KNN UnderSampling"
   ]
  },
  {
   "cell_type": "code",
   "execution_count": 79,
   "metadata": {},
   "outputs": [
    {
     "name": "stdout",
     "output_type": "stream",
     "text": [
      "Accuracy: 0.913855433819383\n"
     ]
    },
    {
     "data": {
      "image/png": "[encoded data removed]",
      "text/plain": [
       "<Figure size 432x288 with 1 Axes>"
      ]
     },
     "metadata": {
      "needs_background": "light"
     },
     "output_type": "display_data"
    }
   ],
   "source": [
    "knc = KNeighborsClassifier(n_neighbors=3)\n",
    "knc.fit( x_under, y_under )\n",
    "\n",
    "\n",
    "y_pred = knc.predict(x_test)\n",
    "\n",
    "\n",
    "print('Accuracy:',accuracy_score(y_pred , y_test))\n",
    "\n",
    "y_pred_proba = knc.predict_proba(x_test)[::,1]\n",
    "fpr, tpr, _ = roc_curve(y_test,  y_pred)\n",
    "auc = roc_auc_score(y_test, y_pred)\n",
    "plt.plot(fpr,tpr,label=\"data 1, auc=\"+str(auc))\n",
    "plt.legend(loc=4)\n",
    "plt.show()"
   ]
  },
  {
   "cell_type": "code",
   "execution_count": 80,
   "metadata": {},
   "outputs": [
    {
     "data": {
      "text/html": [
       "<div>\n",
       "<style scoped>\n",
       "    .dataframe tbody tr th:only-of-type {\n",
       "        vertical-align: middle;\n",
       "    }\n",
       "\n",
       "    .dataframe tbody tr th {\n",
       "        vertical-align: top;\n",
       "    }\n",
       "\n",
       "    .dataframe thead th {\n",
       "        text-align: right;\n",
       "    }\n",
       "</style>\n",
       "<table border=\"1\" class=\"dataframe\">\n",
       "  <thead>\n",
       "    <tr style=\"text-align: right;\">\n",
       "      <th>Actual</th>\n",
       "      <th>0</th>\n",
       "      <th>1</th>\n",
       "    </tr>\n",
       "    <tr>\n",
       "      <th>Predicted</th>\n",
       "      <th></th>\n",
       "      <th></th>\n",
       "    </tr>\n",
       "  </thead>\n",
       "  <tbody>\n",
       "    <tr>\n",
       "      <th>0</th>\n",
       "      <td>181252</td>\n",
       "      <td>78</td>\n",
       "    </tr>\n",
       "    <tr>\n",
       "      <th>1</th>\n",
       "      <td>17031</td>\n",
       "      <td>247</td>\n",
       "    </tr>\n",
       "  </tbody>\n",
       "</table>\n",
       "</div>"
      ],
      "text/plain": [
       "Actual          0    1\n",
       "Predicted             \n",
       "0          181252   78\n",
       "1           17031  247"
      ]
     },
     "execution_count": 80,
     "metadata": {},
     "output_type": "execute_result"
    }
   ],
   "source": [
    "pd.crosstab(pd.Series(y_pred,name='Predicted'),pd.Series(y_test,name='Actual'))"
   ]
  },
  {
   "cell_type": "markdown",
   "execution_count": null,
   "metadata": {},
   "source": [
    "#### KNN Oversampling"
   ]
  },
  {
   "cell_type": "code",
   "execution_count": 81,
   "metadata": {},
   "outputs": [
    {
     "name": "stdout",
     "output_type": "stream",
     "text": [
      "Accuracy: 0.9987462740675098\n"
     ]
    },
    {
     "data": {
      "image/png": "[encoded data removed]",
      "text/plain": [
       "<Figure size 432x288 with 1 Axes>"
      ]
     },
     "metadata": {
      "needs_background": "light"
     },
     "output_type": "display_data"
    }
   ],
   "source": [
    "knc = KNeighborsClassifier(n_neighbors=3)\n",
    "knc.fit( x_over, y_over )\n",
    "\n",
    "\n",
    "y_pred = knc.predict(x_test)\n",
    "\n",
    "\n",
    "print('Accuracy:',accuracy_score(y_pred , y_test))\n",
    "\n",
    "y_pred_proba = knc.predict_proba(x_test)[::,1]\n",
    "fpr, tpr, _ = roc_curve(y_test,  y_pred)\n",
    "auc = roc_auc_score(y_test, y_pred)\n",
    "plt.plot(fpr,tpr,label=\"data 1, auc=\"+str(auc))\n",
    "plt.legend(loc=4)\n",
    "plt.show()"
   ]
  },
  {
   "cell_type": "code",
   "execution_count": 82,
   "metadata": {},
   "outputs": [
    {
     "data": {
      "text/html": [
       "<div>\n",
       "<style scoped>\n",
       "    .dataframe tbody tr th:only-of-type {\n",
       "        vertical-align: middle;\n",
       "    }\n",
       "\n",
       "    .dataframe tbody tr th {\n",
       "        vertical-align: top;\n",
       "    }\n",
       "\n",
       "    .dataframe thead th {\n",
       "        text-align: right;\n",
       "    }\n",
       "</style>\n",
       "<table border=\"1\" class=\"dataframe\">\n",
       "  <thead>\n",
       "    <tr style=\"text-align: right;\">\n",
       "      <th>Actual</th>\n",
       "      <th>0</th>\n",
       "      <th>1</th>\n",
       "    </tr>\n",
       "    <tr>\n",
       "      <th>Predicted</th>\n",
       "      <th></th>\n",
       "      <th></th>\n",
       "    </tr>\n",
       "  </thead>\n",
       "  <tbody>\n",
       "    <tr>\n",
       "      <th>0</th>\n",
       "      <td>198150</td>\n",
       "      <td>116</td>\n",
       "    </tr>\n",
       "    <tr>\n",
       "      <th>1</th>\n",
       "      <td>133</td>\n",
       "      <td>209</td>\n",
       "    </tr>\n",
       "  </tbody>\n",
       "</table>\n",
       "</div>"
      ],
      "text/plain": [
       "Actual          0    1\n",
       "Predicted             \n",
       "0          198150  116\n",
       "1             133  209"
      ]
     },
     "execution_count": 82,
     "metadata": {},
     "output_type": "execute_result"
    }
   ],
   "source": [
    "pd.crosstab(pd.Series(y_pred,name='Predicted'),pd.Series(y_test,name='Actual'))"
   ]
  },
  {
   "cell_type": "markdown",
   "execution_count": null,
   "metadata": {},
   "source": [
    "#### KNN SMOTE"
   ]
  },
  {
   "cell_type": "code",
   "execution_count": 83,
   "metadata": {},
   "outputs": [
    {
     "name": "stdout",
     "output_type": "stream",
     "text": [
      "Accuracy: 0.9953878997824861\n"
     ]
    },
    {
     "data": {
      "image/png": "[encoded data removed]",
      "text/plain": [
       "<Figure size 432x288 with 1 Axes>"
      ]
     },
     "metadata": {
      "needs_background": "light"
     },
     "output_type": "display_data"
    }
   ],
   "source": [
    "knc = KNeighborsClassifier(n_neighbors=3)\n",
    "knc.fit( x_smote, y_smote )\n",
    "\n",
    "\n",
    "y_pred = knc.predict(x_test)\n",
    "\n",
    "\n",
    "print('Accuracy:',accuracy_score(y_pred , y_test))\n",
    "\n",
    "y_pred_proba = knc.predict_proba(x_test)[::,1]\n",
    "fpr, tpr, _ = roc_curve(y_test,  y_pred)\n",
    "auc = roc_auc_score(y_test, y_pred)\n",
    "plt.plot(fpr,tpr,label=\"data 1, auc=\"+str(auc))\n",
    "plt.legend(loc=4)\n",
    "plt.show()"
   ]
  },
  {
   "cell_type": "code",
   "execution_count": 84,
   "metadata": {},
   "outputs": [
    {
     "data": {
      "text/html": [
       "<div>\n",
       "<style scoped>\n",
       "    .dataframe tbody tr th:only-of-type {\n",
       "        vertical-align: middle;\n",
       "    }\n",
       "\n",
       "    .dataframe tbody tr th {\n",
       "        vertical-align: top;\n",
       "    }\n",
       "\n",
       "    .dataframe thead th {\n",
       "        text-align: right;\n",
       "    }\n",
       "</style>\n",
       "<table border=\"1\" class=\"dataframe\">\n",
       "  <thead>\n",
       "    <tr style=\"text-align: right;\">\n",
       "      <th>Actual</th>\n",
       "      <th>0</th>\n",
       "      <th>1</th>\n",
       "    </tr>\n",
       "    <tr>\n",
       "      <th>Predicted</th>\n",
       "      <th></th>\n",
       "      <th></th>\n",
       "    </tr>\n",
       "  </thead>\n",
       "  <tbody>\n",
       "    <tr>\n",
       "      <th>0</th>\n",
       "      <td>197446</td>\n",
       "      <td>79</td>\n",
       "    </tr>\n",
       "    <tr>\n",
       "      <th>1</th>\n",
       "      <td>837</td>\n",
       "      <td>246</td>\n",
       "    </tr>\n",
       "  </tbody>\n",
       "</table>\n",
       "</div>"
      ],
      "text/plain": [
       "Actual          0    1\n",
       "Predicted             \n",
       "0          197446   79\n",
       "1             837  246"
      ]
     },
     "execution_count": 84,
     "metadata": {},
     "output_type": "execute_result"
    }
   ],
   "source": [
    "pd.crosstab(pd.Series(y_pred,name='Predicted'),pd.Series(y_test,name='Actual'))"
   ]
  },
  {
   "cell_type": "markdown",
   "execution_count": null,
   "metadata": {},
   "source": [
    "#### Random Forest"
   ]
  },
  {
   "cell_type": "markdown",
   "execution_count": null,
   "metadata": {},
   "source": [
    "#### Base Line Model"
   ]
  },
  {
   "cell_type": "code",
   "execution_count": 85,
   "metadata": {},
   "outputs": [
    {
     "name": "stdout",
     "output_type": "stream",
     "text": [
      "Accuracy: 0.9991339724482398\n"
     ]
    },
    {
     "data": {
      "image/png": "[encoded data removed]",
      "text/plain": [
       "<Figure size 432x288 with 1 Axes>"
      ]
     },
     "metadata": {
      "needs_background": "light"
     },
     "output_type": "display_data"
    }
   ],
   "source": [
    "rfc = RandomForestClassifier(criterion='entropy', max_depth=2, n_estimators=200)\n",
    "rfc.fit( x_train, y_train )\n",
    "\n",
    "y_pred = rfc.predict(x_test)\n",
    "\n",
    "print('Accuracy:',accuracy_score(y_pred , y_test))\n",
    "\n",
    "y_pred_proba = rfc.predict_proba(x_test)[::,1]\n",
    "fpr, tpr, _ = roc_curve(y_test,  y_pred)\n",
    "auc = roc_auc_score(y_test, y_pred)\n",
    "plt.plot(fpr,tpr,label=\"data 1, auc=\"+str(auc))\n",
    "plt.legend(loc=4)\n",
    "plt.show()"
   ]
  },
  {
   "cell_type": "code",
   "execution_count": 86,
   "metadata": {},
   "outputs": [
    {
     "data": {
      "text/html": [
       "<div>\n",
       "<style scoped>\n",
       "    .dataframe tbody tr th:only-of-type {\n",
       "        vertical-align: middle;\n",
       "    }\n",
       "\n",
       "    .dataframe tbody tr th {\n",
       "        vertical-align: top;\n",
       "    }\n",
       "\n",
       "    .dataframe thead th {\n",
       "        text-align: right;\n",
       "    }\n",
       "</style>\n",
       "<table border=\"1\" class=\"dataframe\">\n",
       "  <thead>\n",
       "    <tr style=\"text-align: right;\">\n",
       "      <th>Actual</th>\n",
       "      <th>0</th>\n",
       "      <th>1</th>\n",
       "    </tr>\n",
       "    <tr>\n",
       "      <th>Predicted</th>\n",
       "      <th></th>\n",
       "      <th></th>\n",
       "    </tr>\n",
       "  </thead>\n",
       "  <tbody>\n",
       "    <tr>\n",
       "      <th>0</th>\n",
       "      <td>198243</td>\n",
       "      <td>132</td>\n",
       "    </tr>\n",
       "    <tr>\n",
       "      <th>1</th>\n",
       "      <td>40</td>\n",
       "      <td>193</td>\n",
       "    </tr>\n",
       "  </tbody>\n",
       "</table>\n",
       "</div>"
      ],
      "text/plain": [
       "Actual          0    1\n",
       "Predicted             \n",
       "0          198243  132\n",
       "1              40  193"
      ]
     },
     "execution_count": 86,
     "metadata": {},
     "output_type": "execute_result"
    }
   ],
   "source": [
    "pd.crosstab(pd.Series(y_pred,name='Predicted'),pd.Series(y_test,name='Actual'))"
   ]
  },
  {
   "cell_type": "markdown",
   "execution_count": null,
   "metadata": {},
   "source": [
    "#### Random Forest - Undersampling"
   ]
  },
  {
   "cell_type": "code",
   "execution_count": 87,
   "metadata": {},
   "outputs": [
    {
     "name": "stdout",
     "output_type": "stream",
     "text": [
      "Accuracy: 0.9954684604849754\n"
     ]
    },
    {
     "data": {
      "image/png": "[encoded data removed]",
      "text/plain": [
       "<Figure size 432x288 with 1 Axes>"
      ]
     },
     "metadata": {
      "needs_background": "light"
     },
     "output_type": "display_data"
    }
   ],
   "source": [
    "rfc = RandomForestClassifier(criterion='entropy', max_depth=2, n_estimators=200)\n",
    "rfc.fit( x_under, y_under )\n",
    "\n",
    "y_pred = rfc.predict(x_test)\n",
    "\n",
    "print('Accuracy:',accuracy_score(y_pred , y_test))\n",
    "\n",
    "y_pred_proba = rfc.predict_proba(x_test)[::,1]\n",
    "fpr, tpr, _ = roc_curve(y_test,  y_pred)\n",
    "auc = roc_auc_score(y_test, y_pred)\n",
    "plt.plot(fpr,tpr,label=\"data 1, auc=\"+str(auc))\n",
    "plt.legend(loc=4)\n",
    "plt.show()"
   ]
  },
  {
   "cell_type": "code",
   "execution_count": 88,
   "metadata": {},
   "outputs": [
    {
     "data": {
      "text/html": [
       "<div>\n",
       "<style scoped>\n",
       "    .dataframe tbody tr th:only-of-type {\n",
       "        vertical-align: middle;\n",
       "    }\n",
       "\n",
       "    .dataframe tbody tr th {\n",
       "        vertical-align: top;\n",
       "    }\n",
       "\n",
       "    .dataframe thead th {\n",
       "        text-align: right;\n",
       "    }\n",
       "</style>\n",
       "<table border=\"1\" class=\"dataframe\">\n",
       "  <thead>\n",
       "    <tr style=\"text-align: right;\">\n",
       "      <th>Actual</th>\n",
       "      <th>0</th>\n",
       "      <th>1</th>\n",
       "    </tr>\n",
       "    <tr>\n",
       "      <th>Predicted</th>\n",
       "      <th></th>\n",
       "      <th></th>\n",
       "    </tr>\n",
       "  </thead>\n",
       "  <tbody>\n",
       "    <tr>\n",
       "      <th>0</th>\n",
       "      <td>197431</td>\n",
       "      <td>48</td>\n",
       "    </tr>\n",
       "    <tr>\n",
       "      <th>1</th>\n",
       "      <td>852</td>\n",
       "      <td>277</td>\n",
       "    </tr>\n",
       "  </tbody>\n",
       "</table>\n",
       "</div>"
      ],
      "text/plain": [
       "Actual          0    1\n",
       "Predicted             \n",
       "0          197431   48\n",
       "1             852  277"
      ]
     },
     "execution_count": 88,
     "metadata": {},
     "output_type": "execute_result"
    }
   ],
   "source": [
    "pd.crosstab(pd.Series(y_pred,name='Predicted'),pd.Series(y_test,name='Actual'))"
   ]
  },
  {
   "cell_type": "markdown",
   "execution_count": null,
   "metadata": {},
   "source": [
    "#### Random Forest - Oversampling"
   ]
  },
  {
   "cell_type": "code",
   "execution_count": 89,
   "metadata": {},
   "outputs": [
    {
     "name": "stdout",
     "output_type": "stream",
     "text": [
      "Accuracy: 0.9966617658905985\n"
     ]
    },
    {
     "data": {
      "image/png": "[encoded data removed]",
      "text/plain": [
       "<Figure size 432x288 with 1 Axes>"
      ]
     },
     "metadata": {
      "needs_background": "light"
     },
     "output_type": "display_data"
    }
   ],
   "source": [
    "rfc = RandomForestClassifier(criterion='entropy', max_depth=2, n_estimators=200)\n",
    "rfc.fit( x_over, y_over )\n",
    "\n",
    "y_pred = rfc.predict(x_test)\n",
    "\n",
    "print('Accuracy:',accuracy_score(y_pred , y_test))\n",
    "\n",
    "y_pred_proba = rfc.predict_proba(x_test)[::,1]\n",
    "fpr, tpr, _ = roc_curve(y_test,  y_pred)\n",
    "auc = roc_auc_score(y_test, y_pred)\n",
    "plt.plot(fpr,tpr,label=\"data 1, auc=\"+str(auc))\n",
    "plt.legend(loc=4)\n",
    "plt.show()"
   ]
  },
  {
   "cell_type": "code",
   "execution_count": 90,
   "metadata": {},
   "outputs": [
    {
     "data": {
      "text/html": [
       "<div>\n",
       "<style scoped>\n",
       "    .dataframe tbody tr th:only-of-type {\n",
       "        vertical-align: middle;\n",
       "    }\n",
       "\n",
       "    .dataframe tbody tr th {\n",
       "        vertical-align: top;\n",
       "    }\n",
       "\n",
       "    .dataframe thead th {\n",
       "        text-align: right;\n",
       "    }\n",
       "</style>\n",
       "<table border=\"1\" class=\"dataframe\">\n",
       "  <thead>\n",
       "    <tr style=\"text-align: right;\">\n",
       "      <th>Actual</th>\n",
       "      <th>0</th>\n",
       "      <th>1</th>\n",
       "    </tr>\n",
       "    <tr>\n",
       "      <th>Predicted</th>\n",
       "      <th></th>\n",
       "      <th></th>\n",
       "    </tr>\n",
       "  </thead>\n",
       "  <tbody>\n",
       "    <tr>\n",
       "      <th>0</th>\n",
       "      <td>197666</td>\n",
       "      <td>46</td>\n",
       "    </tr>\n",
       "    <tr>\n",
       "      <th>1</th>\n",
       "      <td>617</td>\n",
       "      <td>279</td>\n",
       "    </tr>\n",
       "  </tbody>\n",
       "</table>\n",
       "</div>"
      ],
      "text/plain": [
       "Actual          0    1\n",
       "Predicted             \n",
       "0          197666   46\n",
       "1             617  279"
      ]
     },
     "execution_count": 90,
     "metadata": {},
     "output_type": "execute_result"
    }
   ],
   "source": [
    "pd.crosstab(pd.Series(y_pred,name='Predicted'),pd.Series(y_test,name='Actual'))"
   ]
  },
  {
   "cell_type": "markdown",
   "execution_count": null,
   "metadata": {},
   "source": [
    "#### Random Forest - SMOTE"
   ]
  },
  {
   "cell_type": "code",
   "execution_count": 91,
   "metadata": {},
   "outputs": [
    {
     "name": "stdout",
     "output_type": "stream",
     "text": [
      "Accuracy: 0.9956849673729155\n"
     ]
    },
    {
     "data": {
      "image/png": "[encoded data removed]",
      "text/plain": [
       "<Figure size 432x288 with 1 Axes>"
      ]
     },
     "metadata": {
      "needs_background": "light"
     },
     "output_type": "display_data"
    }
   ],
   "source": [
    "rfc = RandomForestClassifier(criterion='entropy', max_depth=2, n_estimators=200)\n",
    "rfc.fit( x_smote, y_smote )\n",
    "\n",
    "y_pred = rfc.predict(x_test)\n",
    "\n",
    "print('Accuracy:',accuracy_score(y_pred , y_test))\n",
    "\n",
    "y_pred_proba = rfc.predict_proba(x_test)[::,1]\n",
    "fpr, tpr, _ = roc_curve(y_test,  y_pred)\n",
    "auc = roc_auc_score(y_test, y_pred)\n",
    "plt.plot(fpr,tpr,label=\"data 1, auc=\"+str(auc))\n",
    "plt.legend(loc=4)\n",
    "plt.show()"
   ]
  },
  {
   "cell_type": "code",
   "execution_count": 92,
   "metadata": {},
   "outputs": [
    {
     "data": {
      "text/html": [
       "<div>\n",
       "<style scoped>\n",
       "    .dataframe tbody tr th:only-of-type {\n",
       "        vertical-align: middle;\n",
       "    }\n",
       "\n",
       "    .dataframe tbody tr th {\n",
       "        vertical-align: top;\n",
       "    }\n",
       "\n",
       "    .dataframe thead th {\n",
       "        text-align: right;\n",
       "    }\n",
       "</style>\n",
       "<table border=\"1\" class=\"dataframe\">\n",
       "  <thead>\n",
       "    <tr style=\"text-align: right;\">\n",
       "      <th>Actual</th>\n",
       "      <th>0</th>\n",
       "      <th>1</th>\n",
       "    </tr>\n",
       "    <tr>\n",
       "      <th>Predicted</th>\n",
       "      <th></th>\n",
       "      <th></th>\n",
       "    </tr>\n",
       "  </thead>\n",
       "  <tbody>\n",
       "    <tr>\n",
       "      <th>0</th>\n",
       "      <td>197473</td>\n",
       "      <td>47</td>\n",
       "    </tr>\n",
       "    <tr>\n",
       "      <th>1</th>\n",
       "      <td>810</td>\n",
       "      <td>278</td>\n",
       "    </tr>\n",
       "  </tbody>\n",
       "</table>\n",
       "</div>"
      ],
      "text/plain": [
       "Actual          0    1\n",
       "Predicted             \n",
       "0          197473   47\n",
       "1             810  278"
      ]
     },
     "execution_count": 92,
     "metadata": {},
     "output_type": "execute_result"
    }
   ],
   "source": [
    "pd.crosstab(pd.Series(y_pred,name='Predicted'),pd.Series(y_test,name='Actual'))"
   ]
  },
  {
   "cell_type": "markdown",
   "execution_count": null,
   "metadata": {},
   "source": [
    "#### In this analysis Random Forest Model has been found to be the best fit model with least errors in it which is determined with the the help of confusion matrix."
   ]
  },
  {
   "cell_type": "code",
   "execution_count": null,
   "metadata": {},
   "outputs": [],
   "source": []
  },
  {
   "cell_type": "code",
   "execution_count": null,
   "metadata": {},
   "outputs": [],
   "source": []
  }
 ],
 "metadata": {
  "kernelspec": {
   "display_name": "Python 3",
   "language": "python",
   "name": "python3"
  },
  "language_info": {
   "codemirror_mode": {
    "name": "ipython",
    "version": 3
   },
   "file_extension": ".py",
   "mimetype": "text/x-python",
   "name": "python",
   "nbconvert_exporter": "python",
   "pygments_lexer": "ipython3",
   "version": "3.7.6"
  }
 },
 "nbformat": 4,
 "nbformat_minor": 4
}
