{
 "cells": [
  {
   "cell_type": "markdown",
   "metadata": {},
   "source": [
    "# Importing Libraries "
   ]
  },
  {
   "cell_type": "code",
   "execution_count": 1,
   "metadata": {
    "_cell_guid": "b1076dfc-b9ad-4769-8c92-a6c4dae69d19",
    "_uuid": "8f2839f25d086af736a60e9eeb907d3b93b6e0e5"
   },
   "outputs": [
    {
     "name": "stdout",
     "output_type": "stream",
     "text": [
      "scikit-learn version: 0.21.2\n",
      "StackingRegressor imported\n"
     ]
    }
   ],
   "source": [
    "import numpy as np # linear algebra\n",
    "import pandas as pd # data processing\n",
    "import seaborn as sns # for making plots with seaborn\n",
    "import scipy as sp # Math functions\n",
    "from scipy import stats\n",
    "from scipy.stats import norm, skew, kurtosis\n",
    "from scipy.special import boxcox1p\n",
    "import matplotlib.pyplot as plt\n",
    "import time\n",
    "\n",
    "# scikit-learn modules\n",
    "import sklearn\n",
    "print(\"scikit-learn version: {}\". format(sklearn.__version__))\n",
    "# sklearn modules for preprocessing\n",
    "from sklearn.preprocessing import OneHotEncoder, LabelEncoder\n",
    "# sklearn modules for ML model selection\n",
    "from sklearn.model_selection import train_test_split  \n",
    "from sklearn.model_selection import GridSearchCV\n",
    "from sklearn.model_selection import cross_val_score\n",
    "from sklearn.metrics import mean_squared_error\n",
    "\n",
    "# Libraries for data modelling\n",
    "from sklearn.linear_model import LassoCV, RidgeCV\n",
    "from sklearn.linear_model import ElasticNet, ElasticNetCV\n",
    "from sklearn.tree import DecisionTreeRegressor\n",
    "from sklearn.svm import SVR\n",
    "from sklearn.ensemble import RandomForestRegressor \n",
    "from sklearn.ensemble  import GradientBoostingRegressor\n",
    "\n",
    "# Common sklearn Model Helpers\n",
    "from sklearn import feature_selection\n",
    "from sklearn import model_selection\n",
    "from sklearn import metrics\n",
    "from sklearn.metrics import r2_score\n",
    "from sklearn.impute import SimpleImputer\n",
    "from sklearn.preprocessing import StandardScaler\n",
    "from sklearn.preprocessing import MinMaxScaler, RobustScaler\n",
    "\n",
    "# Other ML algorithms\n",
    "from mlxtend.regressor import StackingCVRegressor, StackingRegressor\n",
    "print(\"StackingRegressor imported\")"
   ]
  },
  {
   "cell_type": "code",
   "execution_count": 2,
   "metadata": {},
   "outputs": [
    {
     "name": "stdout",
     "output_type": "stream",
     "text": [
      "['test.csv', 'train.csv', 'sample_submission.csv', 'data_description.txt']\n"
     ]
    }
   ],
   "source": [
    "# Input data files are available in the \"../input/\" directory.\n",
    "# For example, running this (by clicking run or pressing Shift+Enter) will list the files in the input directory\n",
    "import os\n",
    "print(os.listdir(\"../input\"))"
   ]
  },
  {
   "cell_type": "markdown",
   "metadata": {},
   "source": [
    "# Feature Engineering"
   ]
  },
  {
   "cell_type": "code",
   "execution_count": 3,
   "metadata": {
    "_cell_guid": "79c7e3d0-c299-4dcb-8224-4455121ee9b0",
    "_uuid": "d629ff2d2480ee46fbb7e2d37f6b5fab8052498a"
   },
   "outputs": [
    {
     "name": "stdout",
     "output_type": "stream",
     "text": [
      "training_data(shape) : (1460, 81)\n",
      "testing_data(shape) : (1459, 80)\n"
     ]
    }
   ],
   "source": [
    "#import training and testing dataset\n",
    "train_data=pd.read_csv(\"../input/train.csv\")\n",
    "test_data=pd.read_csv(\"../input/test.csv\")\n",
    "#Display shape of the dataset\n",
    "print(\"training_data(shape) : {}\".format(train_data.shape))\n",
    "print(\"testing_data(shape) : {}\".format(test_data.shape))"
   ]
  },
  {
   "cell_type": "code",
   "execution_count": 4,
   "metadata": {},
   "outputs": [
    {
     "name": "stdout",
     "output_type": "stream",
     "text": [
      "training_ID(shape) : (1460,)\n",
      "testing_ID(shape) : (1459,)\n"
     ]
    }
   ],
   "source": [
    "#Extract the ID of both csv\n",
    "train_ID=train_data[\"Id\"]\n",
    "test_ID=test_data[\"Id\"]\n",
    "#drop redundant ID columns\n",
    "train_data.drop('Id', axis=1, inplace=True)\n",
    "test_data.drop('Id', axis=1, inplace=True)\n",
    "#print their shape\n",
    "print(\"training_ID(shape) : {}\".format(train_ID.shape))\n",
    "print(\"testing_ID(shape) : {}\".format(test_ID.shape))"
   ]
  },
  {
   "cell_type": "code",
   "execution_count": 5,
   "metadata": {},
   "outputs": [
    {
     "name": "stdout",
     "output_type": "stream",
     "text": [
      "SalePrice(shape): (1460,)\n"
     ]
    }
   ],
   "source": [
    "#Extract target variable for feature Engineering\n",
    "SalePrice=train_data['SalePrice']\n",
    "#drop SalePrice from dataframe\n",
    "train_data.drop('SalePrice', axis=1, inplace=True)\n",
    "print(\"SalePrice(shape): {}\".format(SalePrice.shape))"
   ]
  },
  {
   "cell_type": "code",
   "execution_count": 6,
   "metadata": {},
   "outputs": [
    {
     "name": "stdout",
     "output_type": "stream",
     "text": [
      "Shape of all data: (2919, 79)\n"
     ]
    }
   ],
   "source": [
    "#concat both the dataframes \n",
    "all_data=pd.concat([train_data,test_data], ignore_index=\"true\", axis=0)\n",
    "all_data.reset_index()\n",
    "print(\"Shape of all data: {}\".format(all_data.shape))"
   ]
  },
  {
   "cell_type": "code",
   "execution_count": 7,
   "metadata": {},
   "outputs": [
    {
     "name": "stdout",
     "output_type": "stream",
     "text": [
      "Index(['MSSubClass', 'MSZoning', 'LotFrontage', 'LotArea', 'Street', 'Alley',\n",
      "       'LotShape', 'LandContour', 'Utilities', 'LotConfig', 'LandSlope',\n",
      "       'Neighborhood', 'Condition1', 'Condition2', 'BldgType', 'HouseStyle',\n",
      "       'OverallQual', 'OverallCond', 'YearBuilt', 'YearRemodAdd', 'RoofStyle',\n",
      "       'RoofMatl', 'Exterior1st', 'Exterior2nd', 'MasVnrType', 'MasVnrArea',\n",
      "       'ExterQual', 'ExterCond', 'Foundation', 'BsmtQual', 'BsmtCond',\n",
      "       'BsmtExposure', 'BsmtFinType1', 'BsmtFinSF1', 'BsmtFinType2',\n",
      "       'BsmtFinSF2', 'BsmtUnfSF', 'TotalBsmtSF', 'Heating', 'HeatingQC',\n",
      "       'CentralAir', 'Electrical', '1stFlrSF', '2ndFlrSF', 'LowQualFinSF',\n",
      "       'GrLivArea', 'BsmtFullBath', 'BsmtHalfBath', 'FullBath', 'HalfBath',\n",
      "       'BedroomAbvGr', 'KitchenAbvGr', 'KitchenQual', 'TotRmsAbvGrd',\n",
      "       'Functional', 'Fireplaces', 'FireplaceQu', 'GarageType', 'GarageYrBlt',\n",
      "       'GarageFinish', 'GarageCars', 'GarageArea', 'GarageQual', 'GarageCond',\n",
      "       'PavedDrive', 'WoodDeckSF', 'OpenPorchSF', 'EnclosedPorch', '3SsnPorch',\n",
      "       'ScreenPorch', 'PoolArea', 'PoolQC', 'Fence', 'MiscFeature', 'MiscVal',\n",
      "       'MoSold', 'YrSold', 'SaleType', 'SaleCondition'],\n",
      "      dtype='object')\n",
      "\n",
      "Total no of columns : 79\n"
     ]
    }
   ],
   "source": [
    "#print columns of dataframe\n",
    "print(all_data.columns)\n",
    "print()\n",
    "print(\"Total no of columns : {}\".format(len(all_data.columns)))"
   ]
  },
  {
   "cell_type": "code",
   "execution_count": 8,
   "metadata": {},
   "outputs": [
    {
     "name": "stdout",
     "output_type": "stream",
     "text": [
      "kurtosis: 6.536282\n",
      "Skewness: 1.882876\n",
      "Normal dist. (mu = 180921.20 and sigma = 79415.29 )\n"
     ]
    }
   ],
   "source": [
    "#lets explore our target varibale\n",
    "#get the kurtosis of SalePrice\n",
    "print(\"kurtosis: %f\" % SalePrice.kurtosis())\n",
    "#get the Skewness of SalePrice\n",
    "print(\"Skewness: %f\" % SalePrice.skew())\n",
    "# calculate mean and standard deviation\n",
    "(mu, sigma) = norm.fit(SalePrice)\n",
    "print('Normal dist. (mu = {:.2f} and sigma = {:.2f} )'.format(mu, sigma))"
   ]
  },
  {
   "cell_type": "code",
   "execution_count": 9,
   "metadata": {},
   "outputs": [
    {
     "data": {
      "image/png": "[encoded data removed]",
      "text/plain": [
       "<Figure size 1584x1008 with 3 Axes>"
      ]
     },
     "metadata": {
      "needs_background": "light"
     },
     "output_type": "display_data"
    }
   ],
   "source": [
    "#plotting diffrent plots to detect outliers\n",
    "fig = plt.figure(figsize=(22,14))\n",
    "ax1 = fig.add_subplot(331)\n",
    "plt.title('original distribution')\n",
    "plt.ylabel('Frequency')\n",
    "sns.distplot(SalePrice, kde=True, fit=stats.lognorm, color=\"blue\");\n",
    "ax2 = fig.add_subplot(332)\n",
    "stats.probplot(SalePrice, plot=plt);\n",
    "ax3 = fig.add_subplot(333)\n",
    "plt.title('boxplot')\n",
    "sns.boxplot(SalePrice,orient=\"v\")\n",
    "fig.show()"
   ]
  },
  {
   "cell_type": "code",
   "execution_count": 10,
   "metadata": {},
   "outputs": [],
   "source": [
    "#Function to count number of outliers\n",
    "def count_outliers(target,state):\n",
    "    # count number of outliers before and after transformation is applied\n",
    "    if state==\"before\":\n",
    "        Q1 = target.quantile(0.25)\n",
    "        Q3 = target.quantile(0.75)\n",
    "        IQR = Q3 - Q1\n",
    "        print(\"Before transformation of SalePrice\")\n",
    "        print(\"Extreme outliers(Above 700000) : {} \".format([x for x in target if x > 700000]))\n",
    "        print(\"IQR value: {}\\nTotal outliers: {}\".format(IQR, ((target < (Q1 - 1.5 * IQR)) | (target > (Q3 + 1.5 * IQR))).sum()))      \n",
    "    if state==\"after\":\n",
    "        Q1 = target.quantile(0.25)\n",
    "        Q3 = target.quantile(0.75)\n",
    "        IQR = Q3 - Q1\n",
    "        print(\"After transformation of SalePrice\")\n",
    "        print(\"Extreme outliers(Above 700000) : {} \".format([x for x in target if x > 700000]))\n",
    "        print(\"IQR value: {}\\nTotal outliers: {}\".format(IQR, ((target < (Q1 - 1.5 * IQR)) | (target > (Q3 + 1.5 * IQR))).sum()))"
   ]
  },
  {
   "cell_type": "code",
   "execution_count": 11,
   "metadata": {},
   "outputs": [
    {
     "name": "stdout",
     "output_type": "stream",
     "text": [
      "Before transformation of SalePrice\n",
      "Extreme outliers(Above 700000) : [755000, 745000] \n",
      "IQR value: 84025.0\n",
      "Total outliers: 61\n"
     ]
    }
   ],
   "source": [
    "count_outliers(SalePrice,\"before\")"
   ]
  },
  {
   "cell_type": "code",
   "execution_count": 12,
   "metadata": {},
   "outputs": [],
   "source": [
    "#Apply and check different transformation on SalePrice \n",
    "def target_transform(target,transformation=None):\n",
    "    if(transformation is None):\n",
    "        print(\"{} transformation \".format(\"Log\"))\n",
    "        #Log transformation for target variable\n",
    "        #count no of zeores in series\n",
    "        count_zero=sum(val == 0 for val in target)\n",
    "        if(count_zero > 0):\n",
    "            print(\"Transformation not applicable for zeroes values\")\n",
    "        else:\n",
    "            SalePrice=np.log1p(target)\n",
    "            return SalePrice\n",
    "    #Sqrt transformation for target variable        \n",
    "    if(transformation==\"sqrt\"):\n",
    "        print(\"{} transformation \".format(transformation))\n",
    "        SalePrice=np.sqrt(target)\n",
    "        return SalePrice\n",
    "    #boxcox1p transformation for target variable    \n",
    "    if(transformation==\"boxcox1p\"):\n",
    "        print(\"{} transformation \".format(transformation))\n",
    "        SalePrice=boxcox1p(target , 0.2)\n",
    "        return SalePrice"
   ]
  },
  {
   "cell_type": "code",
   "execution_count": 13,
   "metadata": {},
   "outputs": [
    {
     "name": "stdout",
     "output_type": "stream",
     "text": [
      "Log transformation \n"
     ]
    }
   ],
   "source": [
    "# since there is no zero values so Log transformation is suitable, eliminates outliers and decreases the range\n",
    "SalePrice=target_transform(SalePrice)"
   ]
  },
  {
   "cell_type": "code",
   "execution_count": 14,
   "metadata": {},
   "outputs": [
    {
     "name": "stdout",
     "output_type": "stream",
     "text": [
      "kurtosis: 0.809519\n",
      "Skewness: 0.121347\n",
      "Normal dist. (mu = 12.02 and sigma = 0.40 )\n"
     ]
    }
   ],
   "source": [
    "#lets explore our target varibale log transformation\n",
    "#get the kurtosis of SalePrice\n",
    "print(\"kurtosis: %f\" % SalePrice.kurtosis())\n",
    "#get the Skewness of SalePrice\n",
    "print(\"Skewness: %f\" % SalePrice.skew())\n",
    "# calculate mean and standard deviation\n",
    "(mu, sigma) = norm.fit(SalePrice)\n",
    "print('Normal dist. (mu = {:.2f} and sigma = {:.2f} )'.format(mu, sigma))"
   ]
  },
  {
   "cell_type": "code",
   "execution_count": 15,
   "metadata": {},
   "outputs": [
    {
     "name": "stdout",
     "output_type": "stream",
     "text": [
      "After transformation of SalePrice\n",
      "Extreme outliers(Above 700000) : [] \n",
      "IQR value: 0.49863092538878107\n",
      "Total outliers: 28\n"
     ]
    }
   ],
   "source": [
    "#After log transformation\n",
    "count_outliers(SalePrice,\"after\")"
   ]
  },
  {
   "cell_type": "code",
   "execution_count": 16,
   "metadata": {},
   "outputs": [
    {
     "data": {
      "image/png": "[encoded data removed]",
      "text/plain": [
       "<Figure size 1584x1008 with 3 Axes>"
      ]
     },
     "metadata": {
      "needs_background": "light"
     },
     "output_type": "display_data"
    }
   ],
   "source": [
    "#plotting diffrent plots log transformation\n",
    "fig = plt.figure(figsize=(22,14))\n",
    "ax1 = fig.add_subplot(331)\n",
    "plt.title('Log distribution')\n",
    "plt.ylabel('Frequency')\n",
    "sns.distplot(SalePrice, kde=True, fit=stats.lognorm, color=\"blue\");\n",
    "ax2 = fig.add_subplot(332)\n",
    "stats.probplot(SalePrice, plot=plt);\n",
    "ax3 = fig.add_subplot(333)\n",
    "plt.title('boxplot')\n",
    "sns.boxplot(SalePrice,orient=\"v\")\n",
    "fig.show()"
   ]
  },
  {
   "cell_type": "code",
   "execution_count": 17,
   "metadata": {},
   "outputs": [
    {
     "data": {
      "text/plain": [
       "count    1460.000000\n",
       "mean       12.024057\n",
       "std         0.399449\n",
       "min        10.460271\n",
       "25%        11.775105\n",
       "50%        12.001512\n",
       "75%        12.273736\n",
       "max        13.534474\n",
       "Name: SalePrice, dtype: float64"
      ]
     },
     "execution_count": 17,
     "metadata": {},
     "output_type": "execute_result"
    }
   ],
   "source": [
    "SalePrice.describe()"
   ]
  },
  {
   "cell_type": "code",
   "execution_count": 18,
   "metadata": {},
   "outputs": [
    {
     "name": "stdout",
     "output_type": "stream",
     "text": [
      "categorical_columns : \n",
      "\n",
      "['MSZoning', 'Street', 'Alley', 'LotShape', 'LandContour', 'Utilities', 'LotConfig', 'LandSlope', 'Neighborhood', 'Condition1', 'Condition2', 'BldgType', 'HouseStyle', 'RoofStyle', 'RoofMatl', 'Exterior1st', 'Exterior2nd', 'MasVnrType', 'ExterQual', 'ExterCond', 'Foundation', 'BsmtQual', 'BsmtCond', 'BsmtExposure', 'BsmtFinType1', 'BsmtFinType2', 'Heating', 'HeatingQC', 'CentralAir', 'Electrical', 'KitchenQual', 'Functional', 'FireplaceQu', 'GarageType', 'GarageFinish', 'GarageQual', 'GarageCond', 'PavedDrive', 'PoolQC', 'Fence', 'MiscFeature', 'SaleType', 'SaleCondition']\n",
      "\n",
      "\n",
      "numerical_columns :\n",
      "\n",
      "['MSSubClass', 'LotFrontage', 'LotArea', 'OverallQual', 'OverallCond', 'YearBuilt', 'YearRemodAdd', 'MasVnrArea', 'BsmtFinSF1', 'BsmtFinSF2', 'BsmtUnfSF', 'TotalBsmtSF', '1stFlrSF', '2ndFlrSF', 'LowQualFinSF', 'GrLivArea', 'BsmtFullBath', 'BsmtHalfBath', 'FullBath', 'HalfBath', 'BedroomAbvGr', 'KitchenAbvGr', 'TotRmsAbvGrd', 'Fireplaces', 'GarageYrBlt', 'GarageCars', 'GarageArea', 'WoodDeckSF', 'OpenPorchSF', 'EnclosedPorch', '3SsnPorch', 'ScreenPorch', 'PoolArea', 'MiscVal', 'MoSold', 'YrSold']\n"
     ]
    }
   ],
   "source": [
    "#count categorical and numerical columns\n",
    "categorical_cols=[col for col in all_data.columns if all_data[col].dtype =='O']\n",
    "numerical_cols=[col for col in all_data.columns if all_data[col].dtype !='O']\n",
    "print(\"categorical_columns : \\n\")\n",
    "print(categorical_cols)\n",
    "print(\"\\n\")\n",
    "print(\"numerical_columns :\\n\")\n",
    "print(numerical_cols)"
   ]
  },
  {
   "cell_type": "code",
   "execution_count": 19,
   "metadata": {},
   "outputs": [
    {
     "name": "stdout",
     "output_type": "stream",
     "text": [
      "(79, 1)\n"
     ]
    },
    {
     "data": {
      "text/html": [
       "<div>\n",
       "<style scoped>\n",
       "    .dataframe tbody tr th:only-of-type {\n",
       "        vertical-align: middle;\n",
       "    }\n",
       "\n",
       "    .dataframe tbody tr th {\n",
       "        vertical-align: top;\n",
       "    }\n",
       "\n",
       "    .dataframe thead th {\n",
       "        text-align: right;\n",
       "    }\n",
       "</style>\n",
       "<table border=\"1\" class=\"dataframe\">\n",
       "  <thead>\n",
       "    <tr style=\"text-align: right;\">\n",
       "      <th></th>\n",
       "      <th>Missing Values Ratio</th>\n",
       "    </tr>\n",
       "  </thead>\n",
       "  <tbody>\n",
       "    <tr>\n",
       "      <th>PoolQC</th>\n",
       "      <td>99.657417</td>\n",
       "    </tr>\n",
       "    <tr>\n",
       "      <th>MiscFeature</th>\n",
       "      <td>96.402878</td>\n",
       "    </tr>\n",
       "    <tr>\n",
       "      <th>Alley</th>\n",
       "      <td>93.216855</td>\n",
       "    </tr>\n",
       "    <tr>\n",
       "      <th>Fence</th>\n",
       "      <td>80.438506</td>\n",
       "    </tr>\n",
       "    <tr>\n",
       "      <th>FireplaceQu</th>\n",
       "      <td>48.646797</td>\n",
       "    </tr>\n",
       "    <tr>\n",
       "      <th>LotFrontage</th>\n",
       "      <td>16.649538</td>\n",
       "    </tr>\n",
       "    <tr>\n",
       "      <th>GarageCond</th>\n",
       "      <td>5.447071</td>\n",
       "    </tr>\n",
       "    <tr>\n",
       "      <th>GarageQual</th>\n",
       "      <td>5.447071</td>\n",
       "    </tr>\n",
       "    <tr>\n",
       "      <th>GarageYrBlt</th>\n",
       "      <td>5.447071</td>\n",
       "    </tr>\n",
       "    <tr>\n",
       "      <th>GarageFinish</th>\n",
       "      <td>5.447071</td>\n",
       "    </tr>\n",
       "  </tbody>\n",
       "</table>\n",
       "</div>"
      ],
      "text/plain": [
       "              Missing Values Ratio\n",
       "PoolQC                   99.657417\n",
       "MiscFeature              96.402878\n",
       "Alley                    93.216855\n",
       "Fence                    80.438506\n",
       "FireplaceQu              48.646797\n",
       "LotFrontage              16.649538\n",
       "GarageCond                5.447071\n",
       "GarageQual                5.447071\n",
       "GarageYrBlt               5.447071\n",
       "GarageFinish              5.447071"
      ]
     },
     "execution_count": 19,
     "metadata": {},
     "output_type": "execute_result"
    }
   ],
   "source": [
    "#lets find the missing value percentage\n",
    "null_percentage = (all_data.isnull().sum()/len(all_data))*100\n",
    "null_ratio = null_percentage.sort_values(ascending=False)\n",
    "missing_data = pd.DataFrame({'Missing Values Ratio' :null_ratio})\n",
    "print(missing_data.shape)\n",
    "missing_data.head(10)"
   ]
  },
  {
   "cell_type": "code",
   "execution_count": 20,
   "metadata": {},
   "outputs": [
    {
     "name": "stdout",
     "output_type": "stream",
     "text": [
      "Number of columns has a missing data\n",
      "34\n"
     ]
    }
   ],
   "source": [
    "print(\"Number of columns has a missing data\")\n",
    "print(len(null_percentage.index) - len([x for x in null_percentage.index if null_percentage.loc[x]==0]))"
   ]
  },
  {
   "cell_type": "code",
   "execution_count": 21,
   "metadata": {},
   "outputs": [],
   "source": [
    "#Handle missing data\n",
    "all_data[\"PoolQC\"] = all_data[\"PoolQC\"].fillna(\"None\")\n",
    "all_data[\"MiscFeature\"] = all_data[\"MiscFeature\"].fillna(\"None\")\n",
    "all_data[\"Alley\"] = all_data[\"Alley\"].fillna(\"None\")\n",
    "all_data[\"Fence\"] = all_data[\"Fence\"].fillna(\"None\")\n",
    "all_data[\"FireplaceQu\"] = all_data[\"FireplaceQu\"].fillna(\"None\")\n",
    "all_data[\"MasVnrType\"] = all_data[\"MasVnrType\"].fillna(\"None\")\n",
    "all_data[\"MasVnrArea\"] = all_data[\"MasVnrArea\"].fillna(0)    \n",
    "all_data['MSZoning'] = all_data['MSZoning'].fillna(all_data['MSZoning'].mode()[0])\n",
    "all_data['MSSubClass'] = all_data['MSSubClass'].fillna(\"None\")\n",
    "all_data[\"Functional\"] = all_data[\"Functional\"].fillna(\"Typ\")\n",
    "all_data = all_data.drop(['Utilities'], axis=1)\n",
    "all_data[\"LotFrontage\"] = all_data.groupby(\"Neighborhood\")[\"LotFrontage\"].transform(lambda x: x.fillna(x.median()))\n",
    "\n",
    "for col in ['GarageType', 'GarageFinish', 'GarageQual', 'GarageCond']:\n",
    "    all_data[col] = all_data[col].fillna('None')\n",
    "for col in ('GarageYrBlt', 'GarageArea', 'GarageCars'):\n",
    "    all_data[col] = all_data[col].fillna(0)\n",
    "for col in ('BsmtFinSF1', 'BsmtFinSF2', 'BsmtUnfSF','TotalBsmtSF', 'BsmtFullBath', 'BsmtHalfBath'):\n",
    "    all_data[col] = all_data[col].fillna(0)\n",
    "for col in ('BsmtQual', 'BsmtCond', 'BsmtExposure', 'BsmtFinType1', 'BsmtFinType2'):\n",
    "    all_data[col] = all_data[col].fillna('None')  \n",
    "for col in ['Electrical','KitchenQual', 'Exterior1st', 'Exterior2nd', 'SaleType']:\n",
    "    all_data[col] = all_data[col].fillna(all_data[col].mode()[0])\n",
    "    "
   ]
  },
  {
   "cell_type": "code",
   "execution_count": 22,
   "metadata": {},
   "outputs": [
    {
     "name": "stdout",
     "output_type": "stream",
     "text": [
      "Number of columns has a missing data\n",
      "0\n"
     ]
    }
   ],
   "source": [
    "null_percentage = (all_data.isnull().sum()/len(all_data))*100\n",
    "null_ratio = null_percentage.sort_values(ascending=False)\n",
    "missing_data = pd.DataFrame({'Missing Values Ratio' :null_ratio})\n",
    "print(\"Number of columns has a missing data\")\n",
    "print(len(null_percentage.index) - len([x for x in null_percentage.index if null_percentage.loc[x]==0]))"
   ]
  },
  {
   "cell_type": "code",
   "execution_count": 23,
   "metadata": {},
   "outputs": [],
   "source": [
    "#Converting some numerical variables that are really categorical type\n",
    "all_data['MSSubClass'] = all_data['MSSubClass'].apply(str)\n",
    "all_data['OverallCond'] = all_data['OverallCond'].astype(str)\n",
    "all_data['YrSold'] = all_data['YrSold'].astype(str)\n",
    "all_data['MoSold'] = all_data['MoSold'].astype(str)"
   ]
  },
  {
   "cell_type": "code",
   "execution_count": 24,
   "metadata": {},
   "outputs": [],
   "source": [
    "# Adding total sqfootage feature \n",
    "all_data['TotalSF'] = all_data['TotalBsmtSF'] + all_data['1stFlrSF'] + all_data['2ndFlrSF']"
   ]
  },
  {
   "cell_type": "code",
   "execution_count": 25,
   "metadata": {},
   "outputs": [],
   "source": [
    "cols_label = ['FireplaceQu', 'BsmtQual', 'BsmtCond', 'GarageQual', 'GarageCond', \n",
    "        'ExterQual', 'ExterCond','HeatingQC', 'PoolQC', 'KitchenQual', 'BsmtFinType1', \n",
    "        'BsmtFinType2', 'Functional', 'Fence', 'BsmtExposure', 'GarageFinish', 'LandSlope',\n",
    "        'LotShape', 'PavedDrive', 'Street', 'Alley', 'CentralAir', 'MSSubClass', 'OverallCond', \n",
    "        'YrSold', 'MoSold']\n",
    "#Convert Features in label encoding\n",
    "enc_label=LabelEncoder()\n",
    "for columns in cols_label:\n",
    "    all_data[columns] = enc_label.fit_transform(all_data[columns]) "
   ]
  },
  {
   "cell_type": "code",
   "execution_count": 26,
   "metadata": {},
   "outputs": [
    {
     "name": "stdout",
     "output_type": "stream",
     "text": [
      "\n",
      "Skew in numerical features: \n",
      "\n"
     ]
    },
    {
     "data": {
      "text/html": [
       "<div>\n",
       "<style scoped>\n",
       "    .dataframe tbody tr th:only-of-type {\n",
       "        vertical-align: middle;\n",
       "    }\n",
       "\n",
       "    .dataframe tbody tr th {\n",
       "        vertical-align: top;\n",
       "    }\n",
       "\n",
       "    .dataframe thead th {\n",
       "        text-align: right;\n",
       "    }\n",
       "</style>\n",
       "<table border=\"1\" class=\"dataframe\">\n",
       "  <thead>\n",
       "    <tr style=\"text-align: right;\">\n",
       "      <th></th>\n",
       "      <th>Skew</th>\n",
       "    </tr>\n",
       "  </thead>\n",
       "  <tbody>\n",
       "    <tr>\n",
       "      <th>MiscVal</th>\n",
       "      <td>21.947195</td>\n",
       "    </tr>\n",
       "    <tr>\n",
       "      <th>PoolArea</th>\n",
       "      <td>16.898328</td>\n",
       "    </tr>\n",
       "    <tr>\n",
       "      <th>LotArea</th>\n",
       "      <td>12.822431</td>\n",
       "    </tr>\n",
       "    <tr>\n",
       "      <th>LowQualFinSF</th>\n",
       "      <td>12.088761</td>\n",
       "    </tr>\n",
       "    <tr>\n",
       "      <th>3SsnPorch</th>\n",
       "      <td>11.376065</td>\n",
       "    </tr>\n",
       "    <tr>\n",
       "      <th>LandSlope</th>\n",
       "      <td>4.975157</td>\n",
       "    </tr>\n",
       "    <tr>\n",
       "      <th>KitchenAbvGr</th>\n",
       "      <td>4.302254</td>\n",
       "    </tr>\n",
       "    <tr>\n",
       "      <th>BsmtFinSF2</th>\n",
       "      <td>4.146143</td>\n",
       "    </tr>\n",
       "    <tr>\n",
       "      <th>EnclosedPorch</th>\n",
       "      <td>4.003891</td>\n",
       "    </tr>\n",
       "    <tr>\n",
       "      <th>ScreenPorch</th>\n",
       "      <td>3.946694</td>\n",
       "    </tr>\n",
       "  </tbody>\n",
       "</table>\n",
       "</div>"
      ],
      "text/plain": [
       "                    Skew\n",
       "MiscVal        21.947195\n",
       "PoolArea       16.898328\n",
       "LotArea        12.822431\n",
       "LowQualFinSF   12.088761\n",
       "3SsnPorch      11.376065\n",
       "LandSlope       4.975157\n",
       "KitchenAbvGr    4.302254\n",
       "BsmtFinSF2      4.146143\n",
       "EnclosedPorch   4.003891\n",
       "ScreenPorch     3.946694"
      ]
     },
     "execution_count": 26,
     "metadata": {},
     "output_type": "execute_result"
    }
   ],
   "source": [
    "numerical_features=all_data.dtypes[all_data.dtypes != \"object\"].index\n",
    "skew_percentage = all_data[numerical_features].apply(lambda x: skew(x.dropna())).sort_values(ascending=False)\n",
    "print(\"\\nSkew in numerical features: \\n\")\n",
    "skewness = pd.DataFrame({'Skew' :skew_percentage})\n",
    "skewness.head(10)"
   ]
  },
  {
   "cell_type": "code",
   "execution_count": 27,
   "metadata": {},
   "outputs": [],
   "source": [
    "#log transformation for top 5 features with high skewness\n",
    "skew_feat=skewness.iloc[:5]\n",
    "for columns in skew_feat.index:\n",
    "    all_data[columns] = boxcox1p(all_data[columns],0.2) \n",
    " "
   ]
  },
  {
   "cell_type": "code",
   "execution_count": 28,
   "metadata": {},
   "outputs": [],
   "source": [
    "# scale all numerical feature \n",
    "scale=StandardScaler()\n",
    "numerical_features=all_data.dtypes[all_data.dtypes != \"object\"].index\n",
    "all_data[numerical_features]=scale.fit_transform(all_data[numerical_features].values)"
   ]
  },
  {
   "cell_type": "code",
   "execution_count": 29,
   "metadata": {},
   "outputs": [],
   "source": [
    "# get dummies for categorical variable\n",
    "all_data=pd.get_dummies(all_data)"
   ]
  },
  {
   "cell_type": "code",
   "execution_count": 30,
   "metadata": {},
   "outputs": [],
   "source": [
    "# split the data in training and prediction set\n",
    "train_set=all_data[:len(train_ID)]\n",
    "predict_set=all_data[len(test_ID)+1:]"
   ]
  },
  {
   "cell_type": "markdown",
   "metadata": {},
   "source": [
    "# Model"
   ]
  },
  {
   "cell_type": "code",
   "execution_count": 31,
   "metadata": {},
   "outputs": [],
   "source": [
    "#splits the dataset into training and testing set\n",
    "X_train, X_test, Y_train, Y_test = train_test_split(train_set, SalePrice, test_size=0.20, random_state=42)"
   ]
  },
  {
   "cell_type": "code",
   "execution_count": 32,
   "metadata": {},
   "outputs": [],
   "source": [
    "model_name=[]\n",
    "r_sqaure_value=[]\n",
    "mean_sqaure_value=[]\n",
    "def calculate_metrics(model, predicted_value, test_value ):\n",
    "    if model not in model_name:\n",
    "        model_name.append(model)\n",
    "        r_sqaure_value.append(r2_score(predicted_value,test_value))\n",
    "        mean_sqaure_value.append(mean_squared_error(predicted_value,test_value))\n",
    "#         print(model_name)\n",
    "#         print(r_sqaure_value)\n",
    "#         print(mean_sqaure_value)"
   ]
  },
  {
   "cell_type": "code",
   "execution_count": 33,
   "metadata": {},
   "outputs": [],
   "source": [
    "# generalized ridge regression with builtin cross validation\n",
    "params={'alphas':[0.001, 0.01 , 0.1 ,1.0],\n",
    " 'cv': 5,\n",
    " 'fit_intercept': True,\n",
    " 'gcv_mode': None,\n",
    " 'normalize': False,\n",
    " 'scoring': None,\n",
    " 'store_cv_values': False}\n",
    "\n",
    "ridge_reg=RidgeCV(**params)\n",
    "ridge_reg.fit(X_train,Y_train)\n",
    "ridge_predicted=ridge_reg.predict(X_test)\n",
    "calculate_metrics(\"LassoCv\", ridge_predicted, Y_test)"
   ]
  },
  {
   "cell_type": "code",
   "execution_count": 34,
   "metadata": {},
   "outputs": [],
   "source": [
    "# generalized lasso regression with builtin cross validation\n",
    "\n",
    "params={'alphas':[0.1,0.001,0.003,0.0001],\n",
    " 'copy_X': True,\n",
    " 'cv': 5,\n",
    " 'eps': 0.001,\n",
    " 'fit_intercept': True,\n",
    " 'max_iter': 2000,\n",
    " 'n_alphas': 100,\n",
    " 'n_jobs': None,\n",
    " 'normalize': False,\n",
    " 'positive': False,\n",
    " 'precompute': 'auto',\n",
    " 'random_state': None,\n",
    " 'selection': 'cyclic',\n",
    " 'tol': 0.0001,\n",
    " 'verbose': False}\n",
    "\n",
    "lasso_reg = LassoCV(**params)\n",
    "lasso_reg.fit(X_train,Y_train)\n",
    "lasso_predicted=lasso_reg.predict(X_test)\n",
    "calculate_metrics(\"RidgeCV\", lasso_predicted, Y_test)"
   ]
  },
  {
   "cell_type": "code",
   "execution_count": 35,
   "metadata": {},
   "outputs": [],
   "source": [
    "# generalized ElasticNetCV with builtin cross validation\n",
    "params={'alphas': [0.1,0.001, 0.02,1.0],\n",
    " 'copy_X': True,\n",
    " 'cv': 5,\n",
    " 'eps': 0.001,\n",
    " 'fit_intercept': True,\n",
    " 'l1_ratio': [0.5,0.4],\n",
    " 'max_iter': 3000,\n",
    " 'n_alphas': 100,\n",
    " 'n_jobs': None,\n",
    " 'normalize': False,\n",
    " 'positive': False,\n",
    " 'precompute': 'auto',\n",
    " 'random_state': None,\n",
    " 'selection': 'cyclic',\n",
    " 'tol': 0.0001,\n",
    " 'verbose': 0}\n",
    "\n",
    "Enet=ElasticNetCV(**params)\n",
    "Enet.fit(X_train,Y_train)\n",
    "Enet_predicted=Enet.predict(X_test)\n",
    "calculate_metrics(\"ElasticNetCV\", Enet_predicted, Y_test)"
   ]
  },
  {
   "cell_type": "code",
   "execution_count": 36,
   "metadata": {},
   "outputs": [
    {
     "name": "stdout",
     "output_type": "stream",
     "text": [
      "Grid Search Started : 1564325128.2449677\n",
      "Grid Search ended: 1564325409.5563483\n",
      "Elapsed time for Grid search: 281.3113806247711\n",
      "Best parameters for grid search\n",
      "\n",
      "{'C': 1, 'epsilon': 0.005, 'gamma': 0.001, 'kernel': 'rbf'}\n",
      "\n",
      "\n"
     ]
    }
   ],
   "source": [
    "#Grid Search for SVR\n",
    "start = time.time()\n",
    "print(\"Grid Search Started : {}\".format(start))\n",
    "grid_ser_svr = GridSearchCV(\n",
    "        estimator=SVR(),\n",
    "        param_grid={'C': [0.1, 1, 0.2],\n",
    "                    'epsilon': [0.0001, 0.001, 0.005],\n",
    "                    'gamma': [0.0001, 0.001, 0.1 ],\n",
    "                    'kernel': [\"linear\", \"poly\", \"rbf\"] \n",
    "                   },\n",
    "        cv=5, scoring='neg_mean_squared_error', verbose=0, n_jobs=-1)\n",
    "svr_grid= grid_ser_svr.fit(X_train,Y_train)\n",
    "end = time.time()\n",
    "print(\"Grid Search ended: {}\".format(end))\n",
    "print(\"Elapsed time for Grid search: {}\".format(end-start))\n",
    "print(\"Best parameters for grid search\\n\")\n",
    "print(svr_grid.best_params_)\n",
    "print(\"\\n\")\n",
    "calculate_metrics(\"SVR\", svr_grid.predict(X_test), Y_test)"
   ]
  },
  {
   "cell_type": "code",
   "execution_count": 37,
   "metadata": {},
   "outputs": [],
   "source": [
    "#Implementation of Decision tree\n",
    "params={'criterion': 'mse',\n",
    " 'max_depth':  None,\n",
    " 'max_features': None,\n",
    " 'max_leaf_nodes': None,\n",
    " 'min_impurity_decrease': 0.0,\n",
    " 'min_impurity_split': None,\n",
    " 'min_samples_leaf': 1,\n",
    " 'min_samples_split': 2,\n",
    " 'min_weight_fraction_leaf': 0.0,\n",
    " 'presort': True,\n",
    " 'random_state': None,\n",
    " 'splitter': 'best'}\n",
    "deci_tree_reg=DecisionTreeRegressor(**params)\n",
    "deci_tree_reg.fit(X_train,Y_train)\n",
    "decision_predicted=deci_tree_reg.predict(X_test)\n",
    "calculate_metrics(\"Decision Tree\", decision_predicted, Y_test)"
   ]
  },
  {
   "cell_type": "code",
   "execution_count": 38,
   "metadata": {},
   "outputs": [
    {
     "name": "stdout",
     "output_type": "stream",
     "text": [
      "Grid Search Started : 1564325409.820138\n",
      "Grid Search ended: 1564325415.5642335\n",
      "Time taken by  Grid search: 5.74409556388855\n",
      "Best parameters for grid search : \n",
      "\n",
      "{'max_depth': 50, 'max_leaf_nodes': 6, 'n_estimators': 8}\n"
     ]
    }
   ],
   "source": [
    "#Grid Search for Random Forest Regressor\n",
    "start = time.time()\n",
    "print(\"Grid Search Started : {}\".format(start))\n",
    "grid_ser_rand = GridSearchCV(\n",
    "        estimator=RandomForestRegressor(),\n",
    "        param_grid={'max_depth': [60, 50, 40, 45],\n",
    "                   'n_estimators': [5,6,7, 8],\n",
    "                   'max_leaf_nodes': [2, 3, 4,5,6]},\n",
    "        cv=5, scoring='neg_mean_squared_error', verbose=0, n_jobs=-1)\n",
    "random_grid= grid_ser_rand.fit(X_train,Y_train)\n",
    "end = time.time()\n",
    "print(\"Grid Search ended: {}\".format(end))\n",
    "print(\"Time taken by  Grid search: {}\".format(end-start))\n",
    "print(\"Best parameters for grid search : \\n\")\n",
    "print(random_grid.best_params_)\n",
    "calculate_metrics(\"Random Forest\", random_grid.predict(X_test), Y_test)"
   ]
  },
  {
   "cell_type": "code",
   "execution_count": 39,
   "metadata": {},
   "outputs": [
    {
     "name": "stdout",
     "output_type": "stream",
     "text": [
      "Grid Search Started : 1564325415.5819929\n",
      "Grid Search ended: 1564325461.8028452\n",
      "Time taken by  Grid search: 46.22085237503052\n",
      "Best parameters for grid search\n",
      "\n",
      "{'max_depth': 4, 'n_estimators': 120}\n"
     ]
    }
   ],
   "source": [
    "#Grid Search for gradient boosting Regressor\n",
    "start = time.time()\n",
    "print(\"Grid Search Started : {}\".format(start))\n",
    "grid_ser_boost = GridSearchCV(\n",
    "        estimator=GradientBoostingRegressor(),\n",
    "        param_grid={'max_depth': [3, 4, 6, 8],\n",
    "                   'n_estimators': [100,120,80,90]},\n",
    "        cv=5, scoring='neg_mean_squared_error', verbose=0, n_jobs=-1)\n",
    "gra_grid= grid_ser_boost.fit(X_train,Y_train)\n",
    "end = time.time()\n",
    "print(\"Grid Search ended: {}\".format(end))\n",
    "print(\"Time taken by  Grid search: {}\".format(end-start))\n",
    "print(\"Best parameters for grid search\\n\")\n",
    "print(gra_grid.best_params_)\n",
    "calculate_metrics(\"GDBRT\", gra_grid.predict(X_test), Y_test)"
   ]
  },
  {
   "cell_type": "code",
   "execution_count": 40,
   "metadata": {},
   "outputs": [
    {
     "data": {
      "image/png": "[encoded data removed]",
      "text/plain": [
       "<Figure size 2160x864 with 1 Axes>"
      ]
     },
     "metadata": {
      "needs_background": "light"
     },
     "output_type": "display_data"
    }
   ],
   "source": [
    "#plotting Accuracy of model\n",
    "fig = plt.figure(figsize=(30,12))\n",
    "ax1 = fig.add_subplot(221)\n",
    "plt.title('Accuracy of Model')\n",
    "plt.ylabel('R Square')\n",
    "sns.set(style=\"whitegrid\")\n",
    "sns.barplot(x=model_name, y=r_sqaure_value)\n",
    "fig.show()"
   ]
  },
  {
   "cell_type": "code",
   "execution_count": 41,
   "metadata": {},
   "outputs": [
    {
     "data": {
      "image/png": "[encoded data removed]",
      "text/plain": [
       "<Figure size 2160x864 with 1 Axes>"
      ]
     },
     "metadata": {},
     "output_type": "display_data"
    }
   ],
   "source": [
    "#plotting Mean Square error of model\n",
    "fig = plt.figure(figsize=(30,12))\n",
    "ax1 = fig.add_subplot(221)\n",
    "plt.title('Mean Squared Error of Model')\n",
    "plt.ylabel('Mean Squared Error')\n",
    "sns.set(style=\"whitegrid\")\n",
    "sns.barplot(x=model_name, y= mean_sqaure_value)\n",
    "fig.show()"
   ]
  },
  {
   "cell_type": "markdown",
   "metadata": {},
   "source": [
    "# Ensembling"
   ]
  },
  {
   "cell_type": "code",
   "execution_count": 42,
   "metadata": {},
   "outputs": [
    {
     "name": "stdout",
     "output_type": "stream",
     "text": [
      "Predicting price of house\n"
     ]
    },
    {
     "data": {
      "text/plain": [
       "array([121467.26350649, 153754.06475063, 178161.87705803, ...,\n",
       "       166298.44581964, 120207.59895137, 226904.33916343])"
      ]
     },
     "execution_count": 42,
     "metadata": {},
     "output_type": "execute_result"
    }
   ],
   "source": [
    "#Taking Average predicted price of all model\n",
    "print(\"Predicting price of house\")\n",
    "final_price=(np.expm1(ridge_reg.predict(predict_set))\n",
    "+np.expm1(svr_grid.predict(predict_set))\n",
    "+np.expm1(lasso_reg.predict(predict_set))\n",
    "+np.expm1(Enet.predict(predict_set))\n",
    "+np.expm1(gra_grid.predict(predict_set))\n",
    "+np.expm1(deci_tree_reg.predict(predict_set)))/6\n",
    "final_price"
   ]
  },
  {
   "cell_type": "code",
   "execution_count": 43,
   "metadata": {},
   "outputs": [],
   "source": [
    "submit = pd.DataFrame()\n",
    "submit['Id'] = test_ID\n",
    "submit['SalePrice'] = final_price\n",
    "submit.to_csv('submission.csv',index=False)"
   ]
  }
 ],
 "metadata": {
  "kernelspec": {
   "display_name": "Python 3",
   "language": "python",
   "name": "python3"
  },
  "language_info": {
   "codemirror_mode": {
    "name": "ipython",
    "version": 3
   },
   "file_extension": ".py",
   "mimetype": "text/x-python",
   "name": "python",
   "nbconvert_exporter": "python",
   "pygments_lexer": "ipython3",
   "version": "3.6.6"
  }
 },
 "nbformat": 4,
 "nbformat_minor": 1
}
