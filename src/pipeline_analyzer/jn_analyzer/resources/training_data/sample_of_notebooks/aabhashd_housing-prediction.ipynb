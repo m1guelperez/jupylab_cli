{
 "cells": [
  {
   "cell_type": "markdown",
   "metadata": {},
   "source": [
    "Import necessary modules and libraries\n",
    "---"
   ]
  },
  {
   "cell_type": "code",
   "execution_count": 1,
   "metadata": {},
   "outputs": [
    {
     "name": "stderr",
     "output_type": "stream",
     "text": [
      "Using TensorFlow backend.\n"
     ]
    }
   ],
   "source": [
    "from pandas import read_csv\n",
    "import numpy as np\n",
    "from keras.models import Sequential\n",
    "from keras.layers import Dense"
   ]
  },
  {
   "cell_type": "markdown",
   "metadata": {},
   "source": [
    "Load Dataset from CSV file\n",
    "---"
   ]
  },
  {
   "cell_type": "code",
   "execution_count": 2,
   "metadata": {},
   "outputs": [],
   "source": [
    "import pandas as pd\n",
    "housing_df = pd.read_csv(\"../input/housing.csv\")\n",
    "\n",
    "dataset = housing_df.values"
   ]
  },
  {
   "cell_type": "markdown",
   "metadata": {},
   "source": [
    "Create an MLP model\n",
    "---"
   ]
  },
  {
   "cell_type": "code",
   "execution_count": 3,
   "metadata": {
    "_cell_guid": "79c7e3d0-c299-4dcb-8224-4455121ee9b0",
    "_uuid": "d629ff2d2480ee46fbb7e2d37f6b5fab8052498a"
   },
   "outputs": [
    {
     "name": "stdout",
     "output_type": "stream",
     "text": [
      "Model: \"sequential_1\"\n",
      "_________________________________________________________________\n",
      "Layer (type)                 Output Shape              Param #   \n",
      "=================================================================\n",
      "dense_1 (Dense)              (None, 10)                140       \n",
      "_________________________________________________________________\n",
      "dense_2 (Dense)              (None, 6)                 66        \n",
      "_________________________________________________________________\n",
      "dense_3 (Dense)              (None, 1)                 7         \n",
      "=================================================================\n",
      "Total params: 213\n",
      "Trainable params: 213\n",
      "Non-trainable params: 0\n",
      "_________________________________________________________________\n"
     ]
    }
   ],
   "source": [
    "X = dataset[:,0:13]\n",
    "Y = dataset[:,13]\n",
    "\n",
    "def mlp_model():\n",
    "    model = Sequential()\n",
    "    model.add(Dense(10, input_dim=13, kernel_initializer='normal', activation='relu'))\n",
    "    model.add(Dense(6, kernel_initializer='normal', activation='relu'))\n",
    "    model.add(Dense(1, kernel_initializer='normal'))\n",
    "    model.compile(loss='mean_squared_error', optimizer='adam')\n",
    "    return model\n",
    "\n",
    "model = mlp_model()\n",
    "model.summary()"
   ]
  },
  {
   "cell_type": "markdown",
   "metadata": {},
   "source": [
    "Train Model\n",
    "---"
   ]
  },
  {
   "cell_type": "code",
   "execution_count": 4,
   "metadata": {},
   "outputs": [
    {
     "name": "stdout",
     "output_type": "stream",
     "text": [
      "Train on 404 samples, validate on 101 samples\n",
      "Epoch 1/100\n",
      "404/404 [==============================] - 0s 1ms/step - loss: 556.7027 - val_loss: 27.6693\n",
      "Epoch 2/100\n",
      "404/404 [==============================] - 0s 325us/step - loss: 141.0658 - val_loss: 120.0623\n",
      "Epoch 3/100\n",
      "404/404 [==============================] - 0s 289us/step - loss: 115.3361 - val_loss: 120.5422\n",
      "Epoch 4/100\n",
      "404/404 [==============================] - 0s 285us/step - loss: 104.7976 - val_loss: 79.6457\n",
      "Epoch 5/100\n",
      "404/404 [==============================] - 0s 286us/step - loss: 96.6748 - val_loss: 48.9767\n",
      "Epoch 6/100\n",
      "404/404 [==============================] - 0s 286us/step - loss: 90.6810 - val_loss: 53.1026\n",
      "Epoch 7/100\n",
      "404/404 [==============================] - 0s 284us/step - loss: 83.4002 - val_loss: 37.1761\n",
      "Epoch 8/100\n",
      "404/404 [==============================] - 0s 284us/step - loss: 78.9651 - val_loss: 46.7531\n",
      "Epoch 9/100\n",
      "404/404 [==============================] - 0s 291us/step - loss: 75.5418 - val_loss: 39.6987\n",
      "Epoch 10/100\n",
      "404/404 [==============================] - 0s 284us/step - loss: 71.9938 - val_loss: 37.7208\n",
      "Epoch 11/100\n",
      "404/404 [==============================] - 0s 286us/step - loss: 70.7588 - val_loss: 36.7660\n",
      "Epoch 12/100\n",
      "404/404 [==============================] - 0s 281us/step - loss: 68.1259 - val_loss: 35.2628\n",
      "Epoch 13/100\n",
      "404/404 [==============================] - 0s 278us/step - loss: 66.4632 - val_loss: 30.7345\n",
      "Epoch 14/100\n",
      "404/404 [==============================] - 0s 284us/step - loss: 64.9095 - val_loss: 25.1510\n",
      "Epoch 15/100\n",
      "404/404 [==============================] - 0s 287us/step - loss: 64.7854 - val_loss: 24.8257\n",
      "Epoch 16/100\n",
      "404/404 [==============================] - 0s 281us/step - loss: 61.9229 - val_loss: 24.0246\n",
      "Epoch 17/100\n",
      "404/404 [==============================] - 0s 284us/step - loss: 60.3844 - val_loss: 18.8825\n",
      "Epoch 18/100\n",
      "404/404 [==============================] - 0s 295us/step - loss: 59.2733 - val_loss: 18.5951\n",
      "Epoch 19/100\n",
      "404/404 [==============================] - 0s 285us/step - loss: 57.7441 - val_loss: 18.7071\n",
      "Epoch 20/100\n",
      "404/404 [==============================] - 0s 283us/step - loss: 55.1944 - val_loss: 21.7921\n",
      "Epoch 21/100\n",
      "404/404 [==============================] - 0s 280us/step - loss: 54.6643 - val_loss: 27.7264\n",
      "Epoch 22/100\n",
      "404/404 [==============================] - 0s 279us/step - loss: 52.4888 - val_loss: 25.3930\n",
      "Epoch 23/100\n",
      "404/404 [==============================] - 0s 286us/step - loss: 50.8441 - val_loss: 24.6145\n",
      "Epoch 24/100\n",
      "404/404 [==============================] - 0s 280us/step - loss: 48.7269 - val_loss: 34.7078\n",
      "Epoch 25/100\n",
      "404/404 [==============================] - 0s 280us/step - loss: 47.7732 - val_loss: 32.7617\n",
      "Epoch 26/100\n",
      "404/404 [==============================] - 0s 283us/step - loss: 46.2825 - val_loss: 54.8416\n",
      "Epoch 27/100\n",
      "404/404 [==============================] - 0s 284us/step - loss: 45.1343 - val_loss: 48.6467\n",
      "Epoch 28/100\n",
      "404/404 [==============================] - 0s 287us/step - loss: 43.4088 - val_loss: 47.6319\n",
      "Epoch 29/100\n",
      "404/404 [==============================] - 0s 291us/step - loss: 44.1926 - val_loss: 41.7859\n",
      "Epoch 30/100\n",
      "404/404 [==============================] - 0s 283us/step - loss: 42.6951 - val_loss: 54.2635\n",
      "Epoch 31/100\n",
      "404/404 [==============================] - 0s 288us/step - loss: 41.6576 - val_loss: 52.7746\n",
      "Epoch 32/100\n",
      "404/404 [==============================] - 0s 288us/step - loss: 40.3735 - val_loss: 61.7150\n",
      "Epoch 33/100\n",
      "404/404 [==============================] - 0s 287us/step - loss: 40.6665 - val_loss: 67.8738\n",
      "Epoch 34/100\n",
      "404/404 [==============================] - 0s 288us/step - loss: 39.8354 - val_loss: 59.6077\n",
      "Epoch 35/100\n",
      "404/404 [==============================] - 0s 286us/step - loss: 37.4561 - val_loss: 71.2550\n",
      "Epoch 36/100\n",
      "404/404 [==============================] - 0s 289us/step - loss: 36.8215 - val_loss: 82.9054\n",
      "Epoch 37/100\n",
      "404/404 [==============================] - 0s 279us/step - loss: 35.6663 - val_loss: 66.6143\n",
      "Epoch 38/100\n",
      "404/404 [==============================] - 0s 281us/step - loss: 35.6988 - val_loss: 65.2757\n",
      "Epoch 39/100\n",
      "404/404 [==============================] - 0s 283us/step - loss: 35.5103 - val_loss: 68.6302\n",
      "Epoch 40/100\n",
      "404/404 [==============================] - 0s 281us/step - loss: 33.8776 - val_loss: 74.0958\n",
      "Epoch 41/100\n",
      "404/404 [==============================] - 0s 282us/step - loss: 33.9746 - val_loss: 64.7716\n",
      "Epoch 42/100\n",
      "404/404 [==============================] - 0s 279us/step - loss: 33.0457 - val_loss: 60.0023\n",
      "Epoch 43/100\n",
      "404/404 [==============================] - 0s 283us/step - loss: 34.4527 - val_loss: 63.0814\n",
      "Epoch 44/100\n",
      "404/404 [==============================] - 0s 285us/step - loss: 32.2607 - val_loss: 69.1781\n",
      "Epoch 45/100\n",
      "404/404 [==============================] - 0s 283us/step - loss: 33.0261 - val_loss: 56.6814\n",
      "Epoch 46/100\n",
      "404/404 [==============================] - 0s 277us/step - loss: 32.1713 - val_loss: 67.9061\n",
      "Epoch 47/100\n",
      "404/404 [==============================] - 0s 289us/step - loss: 31.4530 - val_loss: 68.7583\n",
      "Epoch 48/100\n",
      "404/404 [==============================] - 0s 283us/step - loss: 32.4729 - val_loss: 61.9583\n",
      "Epoch 49/100\n",
      "404/404 [==============================] - 0s 281us/step - loss: 30.1508 - val_loss: 56.0866\n",
      "Epoch 50/100\n",
      "404/404 [==============================] - 0s 281us/step - loss: 29.8488 - val_loss: 60.8344\n",
      "Epoch 51/100\n",
      "404/404 [==============================] - 0s 280us/step - loss: 29.0138 - val_loss: 71.3277\n",
      "Epoch 52/100\n",
      "404/404 [==============================] - 0s 282us/step - loss: 29.1461 - val_loss: 58.3733\n",
      "Epoch 53/100\n",
      "404/404 [==============================] - 0s 283us/step - loss: 29.4422 - val_loss: 54.7835\n",
      "Epoch 54/100\n",
      "404/404 [==============================] - 0s 285us/step - loss: 28.0480 - val_loss: 55.0950\n",
      "Epoch 55/100\n",
      "404/404 [==============================] - 0s 283us/step - loss: 27.1846 - val_loss: 62.6448\n",
      "Epoch 56/100\n",
      "404/404 [==============================] - 0s 281us/step - loss: 28.0493 - val_loss: 47.9357\n",
      "Epoch 57/100\n",
      "404/404 [==============================] - 0s 283us/step - loss: 26.9817 - val_loss: 39.5038\n",
      "Epoch 58/100\n",
      "404/404 [==============================] - 0s 282us/step - loss: 26.7619 - val_loss: 40.2327\n",
      "Epoch 59/100\n",
      "404/404 [==============================] - 0s 286us/step - loss: 26.4219 - val_loss: 42.2897\n",
      "Epoch 60/100\n",
      "404/404 [==============================] - 0s 285us/step - loss: 25.2215 - val_loss: 44.8307\n",
      "Epoch 61/100\n",
      "404/404 [==============================] - 0s 282us/step - loss: 24.1994 - val_loss: 50.4680\n",
      "Epoch 62/100\n",
      "404/404 [==============================] - 0s 288us/step - loss: 24.2738 - val_loss: 36.7625\n",
      "Epoch 63/100\n",
      "404/404 [==============================] - 0s 282us/step - loss: 24.5062 - val_loss: 39.7228\n",
      "Epoch 64/100\n",
      "404/404 [==============================] - 0s 286us/step - loss: 23.0160 - val_loss: 34.4922\n",
      "Epoch 65/100\n",
      "404/404 [==============================] - 0s 289us/step - loss: 23.8479 - val_loss: 39.4714\n",
      "Epoch 66/100\n",
      "404/404 [==============================] - 0s 286us/step - loss: 22.5684 - val_loss: 45.5321\n",
      "Epoch 67/100\n",
      "404/404 [==============================] - 0s 285us/step - loss: 22.0844 - val_loss: 39.6782\n",
      "Epoch 68/100\n",
      "404/404 [==============================] - 0s 278us/step - loss: 21.8095 - val_loss: 39.1615\n",
      "Epoch 69/100\n",
      "404/404 [==============================] - 0s 282us/step - loss: 21.3566 - val_loss: 34.3529\n",
      "Epoch 70/100\n",
      "404/404 [==============================] - 0s 288us/step - loss: 22.2014 - val_loss: 40.0441\n",
      "Epoch 71/100\n",
      "404/404 [==============================] - 0s 282us/step - loss: 21.2850 - val_loss: 53.9557\n",
      "Epoch 72/100\n",
      "404/404 [==============================] - 0s 282us/step - loss: 21.0318 - val_loss: 36.7585\n",
      "Epoch 73/100\n",
      "404/404 [==============================] - 0s 301us/step - loss: 20.8252 - val_loss: 34.3170\n",
      "Epoch 74/100\n",
      "404/404 [==============================] - 0s 289us/step - loss: 21.0272 - val_loss: 39.8932\n",
      "Epoch 75/100\n",
      "404/404 [==============================] - 0s 294us/step - loss: 21.2591 - val_loss: 37.0328\n",
      "Epoch 76/100\n",
      "404/404 [==============================] - 0s 278us/step - loss: 20.5430 - val_loss: 35.9294\n",
      "Epoch 77/100\n",
      "404/404 [==============================] - 0s 279us/step - loss: 20.5665 - val_loss: 38.9989\n",
      "Epoch 78/100\n",
      "404/404 [==============================] - 0s 284us/step - loss: 19.4039 - val_loss: 34.6677\n",
      "Epoch 79/100\n",
      "404/404 [==============================] - 0s 290us/step - loss: 20.9589 - val_loss: 40.6318\n",
      "Epoch 80/100\n",
      "404/404 [==============================] - 0s 284us/step - loss: 20.1735 - val_loss: 46.5136\n",
      "Epoch 81/100\n",
      "404/404 [==============================] - 0s 281us/step - loss: 19.7679 - val_loss: 45.1033\n",
      "Epoch 82/100\n",
      "404/404 [==============================] - 0s 282us/step - loss: 19.4810 - val_loss: 41.2206\n",
      "Epoch 83/100\n",
      "404/404 [==============================] - 0s 283us/step - loss: 20.3248 - val_loss: 58.0291\n",
      "Epoch 84/100\n",
      "404/404 [==============================] - 0s 281us/step - loss: 19.6484 - val_loss: 43.5350\n",
      "Epoch 85/100\n",
      "404/404 [==============================] - 0s 279us/step - loss: 19.0794 - val_loss: 42.2685\n",
      "Epoch 86/100\n",
      "404/404 [==============================] - 0s 283us/step - loss: 19.2571 - val_loss: 52.4641\n",
      "Epoch 87/100\n",
      "404/404 [==============================] - 0s 333us/step - loss: 21.7966 - val_loss: 43.3321\n",
      "Epoch 88/100\n",
      "404/404 [==============================] - 0s 284us/step - loss: 19.5689 - val_loss: 50.2041\n",
      "Epoch 89/100\n",
      "404/404 [==============================] - 0s 289us/step - loss: 20.1325 - val_loss: 42.1138\n",
      "Epoch 90/100\n",
      "404/404 [==============================] - 0s 294us/step - loss: 19.8065 - val_loss: 48.3369\n",
      "Epoch 91/100\n",
      "404/404 [==============================] - 0s 288us/step - loss: 18.6156 - val_loss: 41.0987\n",
      "Epoch 92/100\n",
      "404/404 [==============================] - 0s 286us/step - loss: 18.6536 - val_loss: 46.0224\n",
      "Epoch 93/100\n",
      "404/404 [==============================] - 0s 285us/step - loss: 19.1906 - val_loss: 42.6425\n",
      "Epoch 94/100\n",
      "404/404 [==============================] - 0s 281us/step - loss: 18.9890 - val_loss: 45.2169\n",
      "Epoch 95/100\n",
      "404/404 [==============================] - 0s 286us/step - loss: 19.1612 - val_loss: 45.1537\n",
      "Epoch 96/100\n",
      "404/404 [==============================] - 0s 284us/step - loss: 18.6416 - val_loss: 43.8623\n",
      "Epoch 97/100\n",
      "404/404 [==============================] - 0s 285us/step - loss: 18.2334 - val_loss: 42.3461\n",
      "Epoch 98/100\n",
      "404/404 [==============================] - 0s 284us/step - loss: 19.3678 - val_loss: 41.0334\n",
      "Epoch 99/100\n",
      "404/404 [==============================] - 0s 285us/step - loss: 19.3911 - val_loss: 41.1199\n",
      "Epoch 100/100\n",
      "404/404 [==============================] - 0s 288us/step - loss: 18.0230 - val_loss: 47.5532\n"
     ]
    }
   ],
   "source": [
    "history = model.fit(X, Y, epochs = 100, batch_size = 5, validation_split=0.2)"
   ]
  },
  {
   "cell_type": "markdown",
   "metadata": {},
   "source": [
    "Visualization\n",
    "---"
   ]
  },
  {
   "cell_type": "code",
   "execution_count": 5,
   "metadata": {},
   "outputs": [
    {
     "data": {
      "image/png": "[encoded data removed]",
      "text/plain": [
       "<Figure size 432x288 with 1 Axes>"
      ]
     },
     "metadata": {
      "needs_background": "light"
     },
     "output_type": "display_data"
    }
   ],
   "source": [
    "import matplotlib.pyplot as plt\n",
    "\n",
    "plt.plot(history.history['loss'])\n",
    "plt.plot(history.history['val_loss'])\n",
    "plt.title('Model accuracy')\n",
    "plt.ylabel('MSE')\n",
    "plt.xlabel('Epoch')\n",
    "plt.legend(['Train MSE', 'Test MSE'], loc='upper left')\n",
    "plt.show()"
   ]
  },
  {
   "cell_type": "markdown",
   "metadata": {},
   "source": [
    "Prediction on new data\n",
    "---"
   ]
  },
  {
   "cell_type": "code",
   "execution_count": 6,
   "metadata": {},
   "outputs": [
    {
     "name": "stdout",
     "output_type": "stream",
     "text": [
      "[[21.61729]]\n"
     ]
    }
   ],
   "source": [
    "my_new_data = np.asarray((0.08829,12.50,7.870,0,0.5240,6.0120,66.60,5.5605,5,311.0,15.20,395.60,12.43))\n",
    "my_new_data = my_new_data.reshape((1,13))\n",
    "price_prediction = model.predict(my_new_data)\n",
    "\n",
    "print(price_prediction)"
   ]
  }
 ],
 "metadata": {
  "kernelspec": {
   "display_name": "Python 3",
   "language": "python",
   "name": "python3"
  },
  "language_info": {
   "codemirror_mode": {
    "name": "ipython",
    "version": 3
   },
   "file_extension": ".py",
   "mimetype": "text/x-python",
   "name": "python",
   "nbconvert_exporter": "python",
   "pygments_lexer": "ipython3",
   "version": "3.6.6"
  }
 },
 "nbformat": 4,
 "nbformat_minor": 1
}
