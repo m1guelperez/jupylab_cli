{
 "cells": [
  {
   "cell_type": "markdown",
   "metadata": {
    "_cell_guid": "fa1c2e12-2a43-6c53-d33a-469909f4bc22"
   },
   "source": []
  },
  {
   "cell_type": "markdown",
   "metadata": {
    "_cell_guid": "f1f35987-41dd-30a0-beee-a072feb1c0ee"
   },
   "source": []
  },
  {
   "cell_type": "code",
   "execution_count": 1,
   "metadata": {
    "_cell_guid": "314c5c05-8131-e196-5591-cc4d13d5e4df"
   },
   "outputs": [],
   "source": [
    "import numpy as np\n",
    "import scipy as sp\n",
    "import pandas as pd\n",
    "import seaborn as sns\n",
    "import matplotlib.pyplot as plt\n",
    "\n",
    "def warn(*args, **kwargs): pass\n",
    "import warnings\n",
    "warnings.warn = warn\n",
    "\n",
    "%matplotlib inline\n",
    "\n",
    "# from sklearn.preprocessing import LabelEncoder\n",
    "# from sklearn.cross_validation import StratifiedShuffleSplit\n",
    "\n",
    "train = pd.read_csv('../input/train.csv').drop('id',axis=1)\n",
    "test = pd.read_csv('../input/test.csv')\n",
    "test_ids = test['id']\n",
    "test.drop('id',axis=1,inplace=True)"
   ]
  },
  {
   "cell_type": "markdown",
   "metadata": {
    "_cell_guid": "37e0c773-ff7f-9633-c134-1e1bb5390741"
   },
   "source": []
  },
  {
   "cell_type": "code",
   "execution_count": 2,
   "metadata": {
    "_cell_guid": "061e2a0f-935a-ae30-b8af-d107c67c597b"
   },
   "outputs": [
    {
     "data": {
      "text/plain": [
       "Index(['bone_length', 'rotting_flesh', 'hair_length', 'has_soul', 'color',\n",
       "       'type'],\n",
       "      dtype='object')"
      ]
     },
     "execution_count": 2,
     "metadata": {},
     "output_type": "execute_result"
    }
   ],
   "source": [
    "train.columns"
   ]
  },
  {
   "cell_type": "code",
   "execution_count": 3,
   "metadata": {
    "_cell_guid": "9fb4e58e-4c86-7c13-32fe-4725119b4d2e"
   },
   "outputs": [
    {
     "data": {
      "text/html": [
       "<div>\n",
       "<table border=\"1\" class=\"dataframe\">\n",
       "  <thead>\n",
       "    <tr style=\"text-align: right;\">\n",
       "      <th></th>\n",
       "      <th>bone_length</th>\n",
       "      <th>rotting_flesh</th>\n",
       "      <th>hair_length</th>\n",
       "      <th>has_soul</th>\n",
       "      <th>color</th>\n",
       "      <th>type</th>\n",
       "    </tr>\n",
       "  </thead>\n",
       "  <tbody>\n",
       "    <tr>\n",
       "      <th>0</th>\n",
       "      <td>0.354512</td>\n",
       "      <td>0.350839</td>\n",
       "      <td>0.465761</td>\n",
       "      <td>0.781142</td>\n",
       "      <td>clear</td>\n",
       "      <td>Ghoul</td>\n",
       "    </tr>\n",
       "    <tr>\n",
       "      <th>1</th>\n",
       "      <td>0.575560</td>\n",
       "      <td>0.425868</td>\n",
       "      <td>0.531401</td>\n",
       "      <td>0.439899</td>\n",
       "      <td>green</td>\n",
       "      <td>Goblin</td>\n",
       "    </tr>\n",
       "    <tr>\n",
       "      <th>2</th>\n",
       "      <td>0.467875</td>\n",
       "      <td>0.354330</td>\n",
       "      <td>0.811616</td>\n",
       "      <td>0.791225</td>\n",
       "      <td>black</td>\n",
       "      <td>Ghoul</td>\n",
       "    </tr>\n",
       "    <tr>\n",
       "      <th>3</th>\n",
       "      <td>0.776652</td>\n",
       "      <td>0.508723</td>\n",
       "      <td>0.636766</td>\n",
       "      <td>0.884464</td>\n",
       "      <td>black</td>\n",
       "      <td>Ghoul</td>\n",
       "    </tr>\n",
       "    <tr>\n",
       "      <th>4</th>\n",
       "      <td>0.566117</td>\n",
       "      <td>0.875862</td>\n",
       "      <td>0.418594</td>\n",
       "      <td>0.636438</td>\n",
       "      <td>green</td>\n",
       "      <td>Ghost</td>\n",
       "    </tr>\n",
       "  </tbody>\n",
       "</table>\n",
       "</div>"
      ],
      "text/plain": [
       "   bone_length  rotting_flesh  hair_length  has_soul  color    type\n",
       "0     0.354512       0.350839     0.465761  0.781142  clear   Ghoul\n",
       "1     0.575560       0.425868     0.531401  0.439899  green  Goblin\n",
       "2     0.467875       0.354330     0.811616  0.791225  black   Ghoul\n",
       "3     0.776652       0.508723     0.636766  0.884464  black   Ghoul\n",
       "4     0.566117       0.875862     0.418594  0.636438  green   Ghost"
      ]
     },
     "execution_count": 3,
     "metadata": {},
     "output_type": "execute_result"
    }
   ],
   "source": [
    "train.head()"
   ]
  },
  {
   "cell_type": "code",
   "execution_count": 4,
   "metadata": {
    "_cell_guid": "d64e5334-0823-715e-0ed5-54c71805e17f"
   },
   "outputs": [
    {
     "data": {
      "text/plain": [
       "371"
      ]
     },
     "execution_count": 4,
     "metadata": {},
     "output_type": "execute_result"
    }
   ],
   "source": [
    "len(train)"
   ]
  },
  {
   "cell_type": "code",
   "execution_count": 5,
   "metadata": {
    "_cell_guid": "0566ad19-1287-c20f-63c3-fd08c6465e9f"
   },
   "outputs": [
    {
     "data": {
      "text/plain": [
       "529"
      ]
     },
     "execution_count": 5,
     "metadata": {},
     "output_type": "execute_result"
    }
   ],
   "source": [
    "len(test)"
   ]
  },
  {
   "cell_type": "markdown",
   "metadata": {
    "_cell_guid": "6287bd00-7928-5775-4578-19a0ad764c09"
   },
   "source": []
  },
  {
   "cell_type": "code",
   "execution_count": 6,
   "metadata": {
    "_cell_guid": "0579cd05-ef6d-215b-0b71-30fbd1c0de07"
   },
   "outputs": [
    {
     "name": "stdout",
     "output_type": "stream",
     "text": [
      "False\n",
      "False\n"
     ]
    }
   ],
   "source": [
    "print(train.isnull().any().any())\n",
    "print(test.isnull().any().any())"
   ]
  },
  {
   "cell_type": "markdown",
   "metadata": {
    "_cell_guid": "05461cdf-5090-7089-4369-e419943610fc"
   },
   "source": []
  },
  {
   "cell_type": "code",
   "execution_count": 7,
   "metadata": {
    "_cell_guid": "315e5096-76d7-6fdd-fb5e-6275669598a2"
   },
   "outputs": [],
   "source": [
    "from sklearn.preprocessing import LabelEncoder\n",
    "le = LabelEncoder()"
   ]
  },
  {
   "cell_type": "code",
   "execution_count": 8,
   "metadata": {
    "_cell_guid": "c29fd1b9-ce39-921d-bdf4-3665d48f6faa"
   },
   "outputs": [],
   "source": [
    "gtype = train['type']\n",
    "train.drop('type',axis=1,inplace=True)\n",
    "y_train = le.fit_transform(gtype)"
   ]
  },
  {
   "cell_type": "code",
   "execution_count": 9,
   "metadata": {
    "_cell_guid": "6ae4104b-8260-7883-360d-9f237b46ee40"
   },
   "outputs": [
    {
     "data": {
      "text/plain": [
       "array(['Ghost', 'Ghoul', 'Goblin'], dtype=object)"
      ]
     },
     "execution_count": 9,
     "metadata": {},
     "output_type": "execute_result"
    }
   ],
   "source": [
    "le.classes_"
   ]
  },
  {
   "cell_type": "markdown",
   "metadata": {
    "_cell_guid": "df707089-093d-c339-8c53-85d841a16d0d"
   },
   "source": []
  },
  {
   "cell_type": "code",
   "execution_count": 10,
   "metadata": {
    "_cell_guid": "37200788-6dca-f455-f1ca-f267295537e9"
   },
   "outputs": [
    {
     "name": "stdout",
     "output_type": "stream",
     "text": [
      "There are 3 categories in the label, each category has 10 observations\n",
      "\n"
     ]
    },
    {
     "data": {
      "image/png": "[encoded data removed]",
      "text/plain": [
       "<matplotlib.figure.Figure at 0x7f1a1ce18588>"
      ]
     },
     "metadata": {},
     "output_type": "display_data"
    }
   ],
   "source": [
    "print('There are {} categories in the label, each category has 10 observations\\n'.format(len(gtype.unique())))\n",
    "plt.figure(figsize=(9,6));\n",
    "gtype.value_counts().plot(kind='bar');"
   ]
  },
  {
   "cell_type": "markdown",
   "metadata": {
    "_cell_guid": "b22b2965-6e00-56ce-a003-f31b1f492786"
   },
   "source": []
  },
  {
   "cell_type": "code",
   "execution_count": 11,
   "metadata": {
    "_cell_guid": "12297a64-a380-7b00-fc80-83e1a85cc8ea"
   },
   "outputs": [],
   "source": [
    "contColumns = train.columns[0:4]\n",
    "catColumns = ['color']"
   ]
  },
  {
   "cell_type": "code",
   "execution_count": 12,
   "metadata": {
    "_cell_guid": "a1595b80-6f33-ca07-8ff2-a96ac52077eb"
   },
   "outputs": [],
   "source": [
    "def setBoxplot(ax,ylim):\n",
    "    ax.set_ylim(ylim);\n",
    "    ax.tick_params(axis='y',labelsize=20,);\n",
    "    ax.set_xticklabels(ax.get_xticklabels(),rotation=90,fontsize=16);"
   ]
  },
  {
   "cell_type": "markdown",
   "metadata": {
    "_cell_guid": "4ef674ef-b1b7-790f-ce55-f4b4edbecd6f"
   },
   "source": []
  },
  {
   "cell_type": "code",
   "execution_count": 13,
   "metadata": {
    "_cell_guid": "9dc5164f-c8bf-3315-d73f-14d82ef44907"
   },
   "outputs": [
    {
     "data": {
      "image/png": "[encoded data removed]",
      "text/plain": [
       "<matplotlib.figure.Figure at 0x7f1a19bc54a8>"
      ]
     },
     "metadata": {},
     "output_type": "display_data"
    }
   ],
   "source": [
    "fig = plt.figure(figsize = (9,5));\n",
    "ax = fig.add_subplot(1,1,1);\n",
    "train[contColumns].boxplot(whis=1.5);\n",
    "setBoxplot(ax,[0,1.2])"
   ]
  },
  {
   "cell_type": "code",
   "execution_count": 14,
   "metadata": {
    "_cell_guid": "987ee296-f58e-3e2b-85da-136bb46f44df"
   },
   "outputs": [
    {
     "data": {
      "image/png": "[encoded data removed]",
      "text/plain": [
       "<matplotlib.figure.Figure at 0x7f1a19b09eb8>"
      ]
     },
     "metadata": {},
     "output_type": "display_data"
    },
    {
     "data": {
      "image/png": "[encoded data removed]",
      "text/plain": [
       "<matplotlib.figure.Figure at 0x7f1a19142588>"
      ]
     },
     "metadata": {},
     "output_type": "display_data"
    }
   ],
   "source": [
    "fig=plt.figure(figsize=(9,15))\n",
    "for i,col in enumerate(train[contColumns]):\n",
    "    ax = fig.add_subplot(len(train.columns),1,i+1)\n",
    "    train[col].hist(bins=50,normed=True);\n",
    "    ax.set_title(col)\n",
    "\n",
    "fig=plt.figure(figsize=(9,5))\n",
    "for i,col in enumerate(train[catColumns]):\n",
    "    train[col].value_counts().plot(kind='bar')"
   ]
  },
  {
   "cell_type": "markdown",
   "metadata": {
    "_cell_guid": "19524c16-1be2-bfe2-7715-d54034a0d251"
   },
   "source": []
  },
  {
   "cell_type": "code",
   "execution_count": 15,
   "metadata": {
    "_cell_guid": "abe2fe67-f2e7-3a78-dbf7-eb9b34ca2d23"
   },
   "outputs": [],
   "source": [
    "def correlation_matrix(df,ax1):\n",
    "    import numpy as np\n",
    "    from matplotlib import pyplot as plt\n",
    "    from matplotlib import cm as cm\n",
    "\n",
    "    cmap = cm.get_cmap('RdYlBu', 30)\n",
    "    cax = ax1.imshow(df.corr(), interpolation=\"nearest\", cmap=cmap, vmin=-1.0, vmax=1.0)\n",
    "    ax1.grid(True)\n",
    "    labels = df.columns\n",
    "    ax1.set_xticks(range(0,len(labels)))\n",
    "    ax1.set_xticklabels(labels,fontsize=12,rotation=90)\n",
    "    ax1.set_yticks(range(0,len(labels)))\n",
    "    ax1.set_yticklabels(labels,fontsize=12)\n",
    "    cbar = fig.colorbar(cax)\n",
    "    cbar.ax.tick_params(labelsize=16)\n",
    "    ax1.grid(b=False)"
   ]
  },
  {
   "cell_type": "markdown",
   "metadata": {
    "_cell_guid": "d47dc8cd-c3ce-0a76-9649-1d1c8298852e"
   },
   "source": []
  },
  {
   "cell_type": "code",
   "execution_count": 16,
   "metadata": {
    "_cell_guid": "c04d0e25-22f6-313d-241f-a10b41166cab"
   },
   "outputs": [
    {
     "data": {
      "image/png": "[encoded data removed]",
      "text/plain": [
       "<matplotlib.figure.Figure at 0x7f1a19b87278>"
      ]
     },
     "metadata": {},
     "output_type": "display_data"
    }
   ],
   "source": [
    "# correlation matrix for margin features\n",
    "fig = plt.figure(figsize=(7,7))\n",
    "ax = fig.add_subplot(1,1,1)\n",
    "correlation_matrix(train[contColumns],ax)"
   ]
  },
  {
   "cell_type": "markdown",
   "metadata": {
    "_cell_guid": "82ce845d-67d1-ac2c-0d08-851ae10f904b"
   },
   "source": []
  },
  {
   "cell_type": "code",
   "execution_count": 17,
   "metadata": {
    "_cell_guid": "195c961c-91b0-0021-43fa-61f6fff5b6d8"
   },
   "outputs": [
    {
     "data": {
      "text/html": [
       "<div>\n",
       "<table border=\"1\" class=\"dataframe\">\n",
       "  <thead>\n",
       "    <tr style=\"text-align: right;\">\n",
       "      <th></th>\n",
       "      <th>bone_length</th>\n",
       "      <th>rotting_flesh</th>\n",
       "      <th>hair_length</th>\n",
       "      <th>has_soul</th>\n",
       "      <th>color</th>\n",
       "    </tr>\n",
       "  </thead>\n",
       "  <tbody>\n",
       "    <tr>\n",
       "      <th>0</th>\n",
       "      <td>0.354512</td>\n",
       "      <td>0.350839</td>\n",
       "      <td>0.465761</td>\n",
       "      <td>0.781142</td>\n",
       "      <td>3</td>\n",
       "    </tr>\n",
       "    <tr>\n",
       "      <th>1</th>\n",
       "      <td>0.57556</td>\n",
       "      <td>0.425868</td>\n",
       "      <td>0.531401</td>\n",
       "      <td>0.439899</td>\n",
       "      <td>4</td>\n",
       "    </tr>\n",
       "    <tr>\n",
       "      <th>2</th>\n",
       "      <td>0.467875</td>\n",
       "      <td>0.35433</td>\n",
       "      <td>0.811616</td>\n",
       "      <td>0.791225</td>\n",
       "      <td>0</td>\n",
       "    </tr>\n",
       "    <tr>\n",
       "      <th>3</th>\n",
       "      <td>0.776652</td>\n",
       "      <td>0.508723</td>\n",
       "      <td>0.636766</td>\n",
       "      <td>0.884464</td>\n",
       "      <td>0</td>\n",
       "    </tr>\n",
       "    <tr>\n",
       "      <th>4</th>\n",
       "      <td>0.566117</td>\n",
       "      <td>0.875862</td>\n",
       "      <td>0.418594</td>\n",
       "      <td>0.636438</td>\n",
       "      <td>4</td>\n",
       "    </tr>\n",
       "  </tbody>\n",
       "</table>\n",
       "</div>"
      ],
      "text/plain": [
       "  bone_length rotting_flesh hair_length  has_soul  color\n",
       "0    0.354512      0.350839    0.465761  0.781142      3\n",
       "1     0.57556      0.425868    0.531401  0.439899      4\n",
       "2    0.467875       0.35433    0.811616  0.791225      0\n",
       "3    0.776652      0.508723    0.636766  0.884464      0\n",
       "4    0.566117      0.875862    0.418594  0.636438      4"
      ]
     },
     "execution_count": 17,
     "metadata": {},
     "output_type": "execute_result"
    }
   ],
   "source": [
    "# label encode the categorical features\n",
    "\n",
    "x_data_df = pd.DataFrame(np.vstack([train,test]),columns = train.columns)\n",
    "colLes = []\n",
    "for col in catColumns:\n",
    "    colLe = LabelEncoder()\n",
    "    x_data_df[col] = colLe.fit_transform(x_data_df[col])\n",
    "    colLes.append(colLe)\n",
    "x_data_df.head()"
   ]
  },
  {
   "cell_type": "markdown",
   "metadata": {
    "_cell_guid": "5b870292-efcd-abb0-9eae-0017a4902d24"
   },
   "source": []
  },
  {
   "cell_type": "code",
   "execution_count": 18,
   "metadata": {
    "_cell_guid": "7c3c7047-3085-fa3a-77f1-8ee5a8027624"
   },
   "outputs": [
    {
     "name": "stdout",
     "output_type": "stream",
     "text": [
      "(900, 6)\n"
     ]
    },
    {
     "data": {
      "text/plain": [
       "scipy.sparse.csr.csr_matrix"
      ]
     },
     "execution_count": 18,
     "metadata": {},
     "output_type": "execute_result"
    }
   ],
   "source": [
    "from sklearn.preprocessing import OneHotEncoder\n",
    "ohe = OneHotEncoder()\n",
    "x_cat = ohe.fit_transform(x_data_df[catColumns])\n",
    "n_x_cat = x_cat\n",
    "print(n_x_cat.shape)\n",
    "type(n_x_cat)"
   ]
  },
  {
   "cell_type": "markdown",
   "metadata": {
    "_cell_guid": "15430996-e8f1-0ed9-ef4e-40ee3ba89c73"
   },
   "source": []
  },
  {
   "cell_type": "code",
   "execution_count": 19,
   "metadata": {
    "_cell_guid": "145805f4-248a-b444-93d8-0a3ca8b8aac2"
   },
   "outputs": [
    {
     "name": "stdout",
     "output_type": "stream",
     "text": [
      "(900, 4)\n"
     ]
    },
    {
     "data": {
      "text/plain": [
       "numpy.ndarray"
      ]
     },
     "execution_count": 19,
     "metadata": {},
     "output_type": "execute_result"
    }
   ],
   "source": [
    "from sklearn.preprocessing import StandardScaler\n",
    "ss = StandardScaler()\n",
    "x_cont = x_data_df[contColumns].values\n",
    "n_x_cont = ss.fit_transform(x_cont)\n",
    "print(n_x_cont.shape)\n",
    "type(n_x_cont)"
   ]
  },
  {
   "cell_type": "markdown",
   "metadata": {
    "_cell_guid": "993795ed-10a0-47b2-dc37-1353a147c8fc"
   },
   "source": []
  },
  {
   "cell_type": "code",
   "execution_count": 20,
   "metadata": {
    "_cell_guid": "5bb6f5c7-881d-605d-e997-479f90ae9891"
   },
   "outputs": [
    {
     "name": "stdout",
     "output_type": "stream",
     "text": [
      "(900, 10)\n"
     ]
    },
    {
     "data": {
      "text/plain": [
       "array([[-0.55352147, -1.00416702, -0.33005656, ...,  1.        ,\n",
       "         0.        ,  0.        ],\n",
       "       [ 1.08789151, -0.51531896,  0.05406109, ...,  0.        ,\n",
       "         1.        ,  0.        ],\n",
       "       [ 0.28826969, -0.98141913,  1.69383282, ...,  0.        ,\n",
       "         0.        ,  0.        ],\n",
       "       ..., \n",
       "       [ 0.60476305, -0.04308772,  1.08760456, ...,  0.        ,\n",
       "         0.        ,  1.        ],\n",
       "       [-0.72460763,  1.69970305, -1.0764836 , ...,  1.        ,\n",
       "         0.        ,  0.        ],\n",
       "       [-1.27917377,  1.21735271, -0.62594951, ...,  0.        ,\n",
       "         0.        ,  1.        ]])"
      ]
     },
     "execution_count": 20,
     "metadata": {},
     "output_type": "execute_result"
    }
   ],
   "source": [
    "n_x_data = np.hstack([n_x_cont,n_x_cat.toarray()])\n",
    "print(n_x_data.shape)\n",
    "n_x_data"
   ]
  },
  {
   "cell_type": "markdown",
   "metadata": {
    "_cell_guid": "d1d3c16e-b787-d1b2-323d-4ab25f447552"
   },
   "source": []
  },
  {
   "cell_type": "code",
   "execution_count": 21,
   "metadata": {
    "_cell_guid": "5dd60406-acd1-d69d-251f-88328da53fe6"
   },
   "outputs": [],
   "source": [
    "n_x_test = n_x_data[len(gtype):,:]\n",
    "n_x_train = n_x_data[0:len(gtype),:]"
   ]
  },
  {
   "cell_type": "code",
   "execution_count": 22,
   "metadata": {
    "_cell_guid": "b437e6e9-0a87-4ca4-5173-9069ab8a0a18"
   },
   "outputs": [
    {
     "name": "stdout",
     "output_type": "stream",
     "text": [
      "(371, 10)\n",
      "(371,)\n",
      "(529, 10)\n"
     ]
    }
   ],
   "source": [
    "print(n_x_train.shape)\n",
    "print(y_train.shape)\n",
    "print(n_x_test.shape)"
   ]
  },
  {
   "cell_type": "code",
   "execution_count": 23,
   "metadata": {
    "_cell_guid": "9b689eab-f048-3d10-a3a0-623fab6a2fa7"
   },
   "outputs": [
    {
     "name": "stdout",
     "output_type": "stream",
     "text": [
      "best params: {'C': 1, 'tol': 0.0001}\n",
      "-0.999 (+/-0.007) for {'C': 0.001, 'tol': 0.0001}\n",
      "[-0.99829045 -1.00248861 -0.99210765 -0.99128737 -1.01138702]\n",
      "-0.999 (+/-0.007) for {'C': 0.001, 'tol': 0.001}\n",
      "[-0.99829031 -1.00248861 -0.99210773 -0.99128737 -1.01138702]\n",
      "-0.999 (+/-0.007) for {'C': 0.001, 'tol': 0.005}\n",
      "[-0.99829031 -1.00248672 -0.99210773 -0.99128661 -1.01138678]\n",
      "-0.750 (+/-0.022) for {'C': 0.01, 'tol': 0.0001}\n",
      "[-0.75473107 -0.75157932 -0.72214937 -0.73439262 -0.78575048]\n",
      "-0.750 (+/-0.022) for {'C': 0.01, 'tol': 0.001}\n",
      "[-0.75473107 -0.75157845 -0.72214937 -0.73439231 -0.78575011]\n",
      "-0.750 (+/-0.022) for {'C': 0.01, 'tol': 0.005}\n",
      "[-0.7547323  -0.75157845 -0.72215456 -0.73439707 -0.78575011]\n",
      "-0.567 (+/-0.053) for {'C': 1, 'tol': 0.0001}\n",
      "[-0.58622634 -0.5331408  -0.4834477  -0.59748166 -0.63644676]\n",
      "-0.567 (+/-0.053) for {'C': 1, 'tol': 0.001}\n",
      "[-0.58622575 -0.53314142 -0.48344862 -0.59748272 -0.63645171]\n",
      "-0.567 (+/-0.053) for {'C': 1, 'tol': 0.005}\n",
      "[-0.58623308 -0.5331331  -0.48344862 -0.59747609 -0.636458  ]\n",
      "-0.574 (+/-0.064) for {'C': 10, 'tol': 0.0001}\n",
      "[-0.59703186 -0.53208335 -0.47462308 -0.61604404 -0.65372638]\n",
      "-0.574 (+/-0.064) for {'C': 10, 'tol': 0.001}\n",
      "[-0.59703186 -0.53207424 -0.47462247 -0.6160433  -0.6537255 ]\n",
      "-0.574 (+/-0.064) for {'C': 10, 'tol': 0.005}\n",
      "[-0.59704763 -0.53207424 -0.47461919 -0.61602527 -0.65372516]\n",
      "-0.576 (+/-0.067) for {'C': 100, 'tol': 0.0001}\n",
      "[-0.60040292 -0.52731797 -0.47301136 -0.62095345 -0.65884556]\n",
      "-0.576 (+/-0.067) for {'C': 100, 'tol': 0.001}\n",
      "[-0.60040396 -0.52731797 -0.47301164 -0.62095345 -0.65884556]\n",
      "-0.576 (+/-0.067) for {'C': 100, 'tol': 0.005}\n",
      "[-0.60038517 -0.52783404 -0.47300497 -0.6209851  -0.65885098]\n",
      "-0.576 (+/-0.068) for {'C': 500, 'tol': 0.0001}\n",
      "[-0.60079566 -0.5259803  -0.47283591 -0.62157817 -0.65944058]\n",
      "-0.576 (+/-0.068) for {'C': 500, 'tol': 0.001}\n",
      "[-0.6007894  -0.5259803  -0.47283785 -0.62157815 -0.65943593]\n",
      "-0.576 (+/-0.067) for {'C': 500, 'tol': 0.005}\n",
      "[-0.60078566 -0.52610125 -0.47283857 -0.62151439 -0.65943436]\n",
      "-0.576 (+/-0.068) for {'C': 1000, 'tol': 0.0001}\n",
      "[-0.60084647 -0.52578898 -0.47281346 -0.62166049 -0.65951752]\n",
      "-0.576 (+/-0.068) for {'C': 1000, 'tol': 0.001}\n",
      "[-0.60083967 -0.52578898 -0.47281509 -0.62165288 -0.65951206]\n",
      "-0.576 (+/-0.068) for {'C': 1000, 'tol': 0.005}\n",
      "[-0.60083863 -0.52594174 -0.47281686 -0.62162009 -0.65951206]\n",
      "-0.576 (+/-0.068) for {'C': 2000, 'tol': 0.0001}\n",
      "[-0.60087203 -0.52568923 -0.47280218 -0.62170506 -0.65955613]\n",
      "-0.576 (+/-0.068) for {'C': 2000, 'tol': 0.001}\n",
      "[-0.60086659 -0.52567646 -0.47280218 -0.62171527 -0.65955727]\n",
      "-0.576 (+/-0.068) for {'C': 2000, 'tol': 0.005}\n",
      "[-0.60086473 -0.52586222 -0.47280571 -0.62166159 -0.65955794]\n"
     ]
    }
   ],
   "source": [
    "from sklearn.linear_model import LogisticRegression\n",
    "from sklearn.grid_search import GridSearchCV\n",
    "params = {'C':[0.001, 0.01, 1, 10, 100, 500, 1000, 2000], 'tol': [0.0001, 0.001, 0.005]}\n",
    "log_reg = LogisticRegression(solver='newton-cg', multi_class='multinomial')\n",
    "clf = GridSearchCV(log_reg, params, scoring='log_loss', refit='True', n_jobs=1, cv=5)\n",
    "clf.fit(n_x_train, y_train)\n",
    "\n",
    "print(\"best params: \" + str(clf.best_params_))\n",
    "for params, mean_score, scores in clf.grid_scores_:\n",
    "    print(\"%0.3f (+/-%0.03f) for %r\" % (mean_score, scores.std(), params))\n",
    "    print(scores)"
   ]
  },
  {
   "cell_type": "code",
   "execution_count": 24,
   "metadata": {
    "_cell_guid": "261e7177-405e-032a-aa23-a2f87113cccb"
   },
   "outputs": [
    {
     "data": {
      "text/html": [
       "<div>\n",
       "<table border=\"1\" class=\"dataframe\">\n",
       "  <thead>\n",
       "    <tr style=\"text-align: right;\">\n",
       "      <th></th>\n",
       "      <th>id</th>\n",
       "      <th>type</th>\n",
       "    </tr>\n",
       "  </thead>\n",
       "  <tbody>\n",
       "    <tr>\n",
       "      <th>0</th>\n",
       "      <td>3</td>\n",
       "      <td>Ghoul</td>\n",
       "    </tr>\n",
       "    <tr>\n",
       "      <th>1</th>\n",
       "      <td>6</td>\n",
       "      <td>Goblin</td>\n",
       "    </tr>\n",
       "    <tr>\n",
       "      <th>2</th>\n",
       "      <td>9</td>\n",
       "      <td>Ghoul</td>\n",
       "    </tr>\n",
       "    <tr>\n",
       "      <th>3</th>\n",
       "      <td>10</td>\n",
       "      <td>Goblin</td>\n",
       "    </tr>\n",
       "    <tr>\n",
       "      <th>4</th>\n",
       "      <td>13</td>\n",
       "      <td>Ghost</td>\n",
       "    </tr>\n",
       "    <tr>\n",
       "      <th>5</th>\n",
       "      <td>14</td>\n",
       "      <td>Ghost</td>\n",
       "    </tr>\n",
       "    <tr>\n",
       "      <th>6</th>\n",
       "      <td>15</td>\n",
       "      <td>Ghoul</td>\n",
       "    </tr>\n",
       "    <tr>\n",
       "      <th>7</th>\n",
       "      <td>16</td>\n",
       "      <td>Goblin</td>\n",
       "    </tr>\n",
       "    <tr>\n",
       "      <th>8</th>\n",
       "      <td>17</td>\n",
       "      <td>Goblin</td>\n",
       "    </tr>\n",
       "    <tr>\n",
       "      <th>9</th>\n",
       "      <td>18</td>\n",
       "      <td>Ghoul</td>\n",
       "    </tr>\n",
       "    <tr>\n",
       "      <th>10</th>\n",
       "      <td>20</td>\n",
       "      <td>Ghost</td>\n",
       "    </tr>\n",
       "    <tr>\n",
       "      <th>11</th>\n",
       "      <td>21</td>\n",
       "      <td>Ghoul</td>\n",
       "    </tr>\n",
       "    <tr>\n",
       "      <th>12</th>\n",
       "      <td>24</td>\n",
       "      <td>Goblin</td>\n",
       "    </tr>\n",
       "    <tr>\n",
       "      <th>13</th>\n",
       "      <td>26</td>\n",
       "      <td>Ghost</td>\n",
       "    </tr>\n",
       "    <tr>\n",
       "      <th>14</th>\n",
       "      <td>33</td>\n",
       "      <td>Ghoul</td>\n",
       "    </tr>\n",
       "    <tr>\n",
       "      <th>15</th>\n",
       "      <td>38</td>\n",
       "      <td>Ghost</td>\n",
       "    </tr>\n",
       "    <tr>\n",
       "      <th>16</th>\n",
       "      <td>40</td>\n",
       "      <td>Ghoul</td>\n",
       "    </tr>\n",
       "    <tr>\n",
       "      <th>17</th>\n",
       "      <td>41</td>\n",
       "      <td>Ghost</td>\n",
       "    </tr>\n",
       "    <tr>\n",
       "      <th>18</th>\n",
       "      <td>42</td>\n",
       "      <td>Ghost</td>\n",
       "    </tr>\n",
       "    <tr>\n",
       "      <th>19</th>\n",
       "      <td>43</td>\n",
       "      <td>Ghoul</td>\n",
       "    </tr>\n",
       "    <tr>\n",
       "      <th>20</th>\n",
       "      <td>44</td>\n",
       "      <td>Ghoul</td>\n",
       "    </tr>\n",
       "    <tr>\n",
       "      <th>21</th>\n",
       "      <td>46</td>\n",
       "      <td>Ghoul</td>\n",
       "    </tr>\n",
       "    <tr>\n",
       "      <th>22</th>\n",
       "      <td>48</td>\n",
       "      <td>Ghoul</td>\n",
       "    </tr>\n",
       "    <tr>\n",
       "      <th>23</th>\n",
       "      <td>49</td>\n",
       "      <td>Goblin</td>\n",
       "    </tr>\n",
       "    <tr>\n",
       "      <th>24</th>\n",
       "      <td>50</td>\n",
       "      <td>Goblin</td>\n",
       "    </tr>\n",
       "    <tr>\n",
       "      <th>25</th>\n",
       "      <td>51</td>\n",
       "      <td>Goblin</td>\n",
       "    </tr>\n",
       "    <tr>\n",
       "      <th>26</th>\n",
       "      <td>52</td>\n",
       "      <td>Ghoul</td>\n",
       "    </tr>\n",
       "    <tr>\n",
       "      <th>27</th>\n",
       "      <td>53</td>\n",
       "      <td>Goblin</td>\n",
       "    </tr>\n",
       "    <tr>\n",
       "      <th>28</th>\n",
       "      <td>55</td>\n",
       "      <td>Ghoul</td>\n",
       "    </tr>\n",
       "    <tr>\n",
       "      <th>29</th>\n",
       "      <td>57</td>\n",
       "      <td>Ghoul</td>\n",
       "    </tr>\n",
       "    <tr>\n",
       "      <th>...</th>\n",
       "      <td>...</td>\n",
       "      <td>...</td>\n",
       "    </tr>\n",
       "    <tr>\n",
       "      <th>499</th>\n",
       "      <td>857</td>\n",
       "      <td>Ghost</td>\n",
       "    </tr>\n",
       "    <tr>\n",
       "      <th>500</th>\n",
       "      <td>859</td>\n",
       "      <td>Goblin</td>\n",
       "    </tr>\n",
       "    <tr>\n",
       "      <th>501</th>\n",
       "      <td>860</td>\n",
       "      <td>Ghost</td>\n",
       "    </tr>\n",
       "    <tr>\n",
       "      <th>502</th>\n",
       "      <td>862</td>\n",
       "      <td>Ghost</td>\n",
       "    </tr>\n",
       "    <tr>\n",
       "      <th>503</th>\n",
       "      <td>863</td>\n",
       "      <td>Goblin</td>\n",
       "    </tr>\n",
       "    <tr>\n",
       "      <th>504</th>\n",
       "      <td>865</td>\n",
       "      <td>Ghoul</td>\n",
       "    </tr>\n",
       "    <tr>\n",
       "      <th>505</th>\n",
       "      <td>866</td>\n",
       "      <td>Goblin</td>\n",
       "    </tr>\n",
       "    <tr>\n",
       "      <th>506</th>\n",
       "      <td>868</td>\n",
       "      <td>Ghoul</td>\n",
       "    </tr>\n",
       "    <tr>\n",
       "      <th>507</th>\n",
       "      <td>869</td>\n",
       "      <td>Ghost</td>\n",
       "    </tr>\n",
       "    <tr>\n",
       "      <th>508</th>\n",
       "      <td>870</td>\n",
       "      <td>Ghoul</td>\n",
       "    </tr>\n",
       "    <tr>\n",
       "      <th>509</th>\n",
       "      <td>871</td>\n",
       "      <td>Goblin</td>\n",
       "    </tr>\n",
       "    <tr>\n",
       "      <th>510</th>\n",
       "      <td>872</td>\n",
       "      <td>Goblin</td>\n",
       "    </tr>\n",
       "    <tr>\n",
       "      <th>511</th>\n",
       "      <td>875</td>\n",
       "      <td>Ghoul</td>\n",
       "    </tr>\n",
       "    <tr>\n",
       "      <th>512</th>\n",
       "      <td>876</td>\n",
       "      <td>Ghost</td>\n",
       "    </tr>\n",
       "    <tr>\n",
       "      <th>513</th>\n",
       "      <td>879</td>\n",
       "      <td>Ghost</td>\n",
       "    </tr>\n",
       "    <tr>\n",
       "      <th>514</th>\n",
       "      <td>880</td>\n",
       "      <td>Ghoul</td>\n",
       "    </tr>\n",
       "    <tr>\n",
       "      <th>515</th>\n",
       "      <td>881</td>\n",
       "      <td>Ghoul</td>\n",
       "    </tr>\n",
       "    <tr>\n",
       "      <th>516</th>\n",
       "      <td>882</td>\n",
       "      <td>Ghoul</td>\n",
       "    </tr>\n",
       "    <tr>\n",
       "      <th>517</th>\n",
       "      <td>883</td>\n",
       "      <td>Goblin</td>\n",
       "    </tr>\n",
       "    <tr>\n",
       "      <th>518</th>\n",
       "      <td>884</td>\n",
       "      <td>Goblin</td>\n",
       "    </tr>\n",
       "    <tr>\n",
       "      <th>519</th>\n",
       "      <td>885</td>\n",
       "      <td>Ghost</td>\n",
       "    </tr>\n",
       "    <tr>\n",
       "      <th>520</th>\n",
       "      <td>887</td>\n",
       "      <td>Ghoul</td>\n",
       "    </tr>\n",
       "    <tr>\n",
       "      <th>521</th>\n",
       "      <td>888</td>\n",
       "      <td>Ghoul</td>\n",
       "    </tr>\n",
       "    <tr>\n",
       "      <th>522</th>\n",
       "      <td>891</td>\n",
       "      <td>Ghoul</td>\n",
       "    </tr>\n",
       "    <tr>\n",
       "      <th>523</th>\n",
       "      <td>892</td>\n",
       "      <td>Ghoul</td>\n",
       "    </tr>\n",
       "    <tr>\n",
       "      <th>524</th>\n",
       "      <td>893</td>\n",
       "      <td>Goblin</td>\n",
       "    </tr>\n",
       "    <tr>\n",
       "      <th>525</th>\n",
       "      <td>894</td>\n",
       "      <td>Ghost</td>\n",
       "    </tr>\n",
       "    <tr>\n",
       "      <th>526</th>\n",
       "      <td>895</td>\n",
       "      <td>Ghoul</td>\n",
       "    </tr>\n",
       "    <tr>\n",
       "      <th>527</th>\n",
       "      <td>898</td>\n",
       "      <td>Ghost</td>\n",
       "    </tr>\n",
       "    <tr>\n",
       "      <th>528</th>\n",
       "      <td>899</td>\n",
       "      <td>Ghost</td>\n",
       "    </tr>\n",
       "  </tbody>\n",
       "</table>\n",
       "<p>529 rows × 2 columns</p>\n",
       "</div>"
      ],
      "text/plain": [
       "      id    type\n",
       "0      3   Ghoul\n",
       "1      6  Goblin\n",
       "2      9   Ghoul\n",
       "3     10  Goblin\n",
       "4     13   Ghost\n",
       "5     14   Ghost\n",
       "6     15   Ghoul\n",
       "7     16  Goblin\n",
       "8     17  Goblin\n",
       "9     18   Ghoul\n",
       "10    20   Ghost\n",
       "11    21   Ghoul\n",
       "12    24  Goblin\n",
       "13    26   Ghost\n",
       "14    33   Ghoul\n",
       "15    38   Ghost\n",
       "16    40   Ghoul\n",
       "17    41   Ghost\n",
       "18    42   Ghost\n",
       "19    43   Ghoul\n",
       "20    44   Ghoul\n",
       "21    46   Ghoul\n",
       "22    48   Ghoul\n",
       "23    49  Goblin\n",
       "24    50  Goblin\n",
       "25    51  Goblin\n",
       "26    52   Ghoul\n",
       "27    53  Goblin\n",
       "28    55   Ghoul\n",
       "29    57   Ghoul\n",
       "..   ...     ...\n",
       "499  857   Ghost\n",
       "500  859  Goblin\n",
       "501  860   Ghost\n",
       "502  862   Ghost\n",
       "503  863  Goblin\n",
       "504  865   Ghoul\n",
       "505  866  Goblin\n",
       "506  868   Ghoul\n",
       "507  869   Ghost\n",
       "508  870   Ghoul\n",
       "509  871  Goblin\n",
       "510  872  Goblin\n",
       "511  875   Ghoul\n",
       "512  876   Ghost\n",
       "513  879   Ghost\n",
       "514  880   Ghoul\n",
       "515  881   Ghoul\n",
       "516  882   Ghoul\n",
       "517  883  Goblin\n",
       "518  884  Goblin\n",
       "519  885   Ghost\n",
       "520  887   Ghoul\n",
       "521  888   Ghoul\n",
       "522  891   Ghoul\n",
       "523  892   Ghoul\n",
       "524  893  Goblin\n",
       "525  894   Ghost\n",
       "526  895   Ghoul\n",
       "527  898   Ghost\n",
       "528  899   Ghost\n",
       "\n",
       "[529 rows x 2 columns]"
      ]
     },
     "execution_count": 24,
     "metadata": {},
     "output_type": "execute_result"
    }
   ],
   "source": [
    "y_test_raw = clf.predict_proba(n_x_test)\n",
    "y_test_raw_df = pd.DataFrame(y_test_raw, index=test_ids, columns=le.classes_)\n",
    "submission = pd.DataFrame({'id':y_test_raw_df.idxmax(axis=1).index,'type':y_test_raw_df.idxmax(axis=1).values})\n",
    "\n",
    "submission"
   ]
  },
  {
   "cell_type": "code",
   "execution_count": 25,
   "metadata": {
    "_cell_guid": "02316958-dce7-f480-5519-40dec1ffedae"
   },
   "outputs": [],
   "source": [
    "submission.to_csv('./submission_raw.csv',index=False)"
   ]
  }
 ],
 "metadata": {
  "_change_revision": 266,
  "_is_fork": false,
  "kernelspec": {
   "display_name": "Python 3",
   "language": "python",
   "name": "python3"
  },
  "language_info": {
   "codemirror_mode": {
    "name": "ipython",
    "version": 3
   },
   "file_extension": ".py",
   "mimetype": "text/x-python",
   "name": "python",
   "nbconvert_exporter": "python",
   "pygments_lexer": "ipython3",
   "version": "3.5.2"
  }
 },
 "nbformat": 4,
 "nbformat_minor": 0
}
