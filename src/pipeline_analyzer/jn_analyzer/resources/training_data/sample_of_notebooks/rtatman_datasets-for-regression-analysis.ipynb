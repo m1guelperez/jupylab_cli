{
 "cells": [
  {
   "cell_type": "markdown",
   "metadata": {
    "_cell_guid": "efe91ff4-60d8-4eee-9da2-4f586eeb06b0",
    "_uuid": "0bb6aac007f0fc116966d4e832827c5be515b592"
   },
   "source": [
    "This is a collection of some thematically related datasets that are suitable for different types of regression analysis. Each set of datasets requires a different technique. A suggested question has that can be answered with regression been posed for each dataset.\n",
    "\n",
    "## Linear regression (predicting a continuous value):\n",
    "\n",
    "* [CalCOFI: Over 60 years of oceanographic data](https://www.kaggle.com/sohier/calcofi): Is there a relationship between water salinity & water temperature? Can you predict the water temperature based on salinity?\n",
    "* [Weather in Szeged 2006-2016](https://www.kaggle.com/budincsevity/szeged-weather): Is there a relationship between humidity and temperature? What about between humidity and apparent temperature? Can you predict the apparent temperature given the humidity?\n",
    "* [Weather Conditions in World War Two](https://www.kaggle.com/smid80/weatherww2/data): Is there a relationship between the daily minimum and maximum temperature? Can you predict the maximum temperature given the minimum temperature? \n",
    "\n",
    "## Poisson regression (predicting a count value):\n",
    "\n",
    "* [Montreal bike lanes: Use of bike lanes in Montreal city in 2015](https://www.kaggle.com/pablomonleon/montreal-bike-lanes): Is there a relationship between the number of bicyclists who use different bike paths on the same day? Can you predict how many riders there will be on one path given how many are on another?\n",
    "* [New York City - East River Bicycle Crossings: Daily bicycle counts for major bridges in NYC](https://www.kaggle.com/new-york-city/nyc-east-river-bicycle-crossings): Is there a relationship between the number of bicyclists who cross different bridges in New York?\n",
    "* (Requires some cleaning) [UK 2016 Road Safety Data: Data from the UK Department for Transport](https://www.kaggle.com/bluehorseshoe/uk-2016-road-safety-data/data) : Is there a relationship between the number of people in the car and the number of casualties in road accidents?\n",
    "\n",
    "## Logistic regression (predicting a categorical value, often with two categories):\n",
    "\n",
    "* [The Ultimate Halloween Candy Power Ranking](https://www.kaggle.com/fivethirtyeight/the-ultimate-halloween-candy-power-ranking/): Can you predict if a candy is chocolate or not based on its other features?\n",
    "* [Epicurious - Recipes with Rating and Nutrition](https://www.kaggle.com/hugodarwood/epirecipes): Can you predict whether a recipe was part of #cakeweek based on whether it its other features?\n",
    "* (Requires some cleaning) [Competition context and results from 1,559 Kansas City Barbecue Society Barbeque Competitions](https://www.kaggle.com/jaysobel/kcbs-bbq/):: Can you model whether a team will win first place based on their score and the competition they’re at?"
   ]
  }
 ],
 "metadata": {
  "kernelspec": {
   "display_name": "Python 3",
   "language": "python",
   "name": "python3"
  },
  "language_info": {
   "codemirror_mode": {
    "name": "ipython",
    "version": 3
   },
   "file_extension": ".py",
   "mimetype": "text/x-python",
   "name": "python",
   "nbconvert_exporter": "python",
   "pygments_lexer": "ipython3",
   "version": "3.6.3"
  }
 },
 "nbformat": 4,
 "nbformat_minor": 1
}
