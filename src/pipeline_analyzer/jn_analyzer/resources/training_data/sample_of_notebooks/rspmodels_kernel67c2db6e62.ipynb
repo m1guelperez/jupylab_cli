{
 "cells": [
  {
   "cell_type": "code",
   "execution_count": 1,
   "metadata": {
    "_cell_guid": "b1076dfc-b9ad-4769-8c92-a6c4dae69d19",
    "_uuid": "8f2839f25d086af736a60e9eeb907d3b93b6e0e5"
   },
   "outputs": [
    {
     "name": "stdout",
     "output_type": "stream",
     "text": [
      "/kaggle/input/Kannada-MNIST/test.csv\n",
      "/kaggle/input/Kannada-MNIST/train.csv\n",
      "/kaggle/input/Kannada-MNIST/Dig-MNIST.csv\n",
      "/kaggle/input/Kannada-MNIST/sample_submission.csv\n"
     ]
    }
   ],
   "source": [
    "# This Python 3 environment comes with many helpful analytics libraries installed\n",
    "# It is defined by the kaggle/python docker image: https://github.com/kaggle/docker-python\n",
    "# For example, here's several helpful packages to load in \n",
    "\n",
    "import numpy as np # linear algebra\n",
    "import pandas as pd # data processing, CSV file I/O (e.g. pd.read_csv)\n",
    "\n",
    "# Input data files are available in the \"../input/\" directory.\n",
    "# For example, running this (by clicking run or pressing Shift+Enter) will list all files under the input directory\n",
    "\n",
    "import os\n",
    "for dirname, _, filenames in os.walk('/kaggle/input'):\n",
    "    for filename in filenames:\n",
    "        print(os.path.join(dirname, filename))\n",
    "\n",
    "# Any results you write to the current directory are saved as output."
   ]
  },
  {
   "cell_type": "markdown",
   "metadata": {},
   "source": []
  },
  {
   "cell_type": "code",
   "execution_count": 2,
   "metadata": {
    "_cell_guid": "79c7e3d0-c299-4dcb-8224-4455121ee9b0",
    "_uuid": "d629ff2d2480ee46fbb7e2d37f6b5fab8052498a"
   },
   "outputs": [],
   "source": [
    "\n",
    "#!pip install -q keras\n",
    "#!pip install -q keract\n",
    "#!pip install -q matplotlib\n",
    "#!pip install -q sklearn\n",
    "#!pip install -q numpy\n",
    "#!pip install  imutils\n",
    "#!pip install  Image\n",
    "#!apt-get -qq install -y libsm6 libxext6 && pip install -q -U opencv-python\n",
    "\n",
    "#%matplotlib inline \n"
   ]
  },
  {
   "cell_type": "code",
   "execution_count": 3,
   "metadata": {},
   "outputs": [],
   "source": [
    "import matplotlib.pyplot as plt\n",
    "import pandas as pd\n",
    "import numpy as np"
   ]
  },
  {
   "cell_type": "code",
   "execution_count": 4,
   "metadata": {},
   "outputs": [
    {
     "name": "stderr",
     "output_type": "stream",
     "text": [
      "Using TensorFlow backend.\n"
     ]
    }
   ],
   "source": [
    "from keras.layers import Conv2D, Dense,MaxPooling2D,Dropout,Flatten\n",
    "from keras.models import Sequential\n",
    "import keras"
   ]
  },
  {
   "cell_type": "code",
   "execution_count": 5,
   "metadata": {},
   "outputs": [],
   "source": [
    "treinamento=pd.read_csv('/kaggle/input/Kannada-MNIST/train.csv')\n",
    "teste=pd.read_csv('/kaggle/input/Kannada-MNIST/test.csv')"
   ]
  },
  {
   "cell_type": "code",
   "execution_count": 6,
   "metadata": {},
   "outputs": [],
   "source": [
    "def ConvertCSVImage(frame):\n",
    "  Y=frame['label']\n",
    "  Y=np.array(Y)\n",
    "  X=frame\n",
    "  X=X.drop('label',axis=1)\n",
    "  #del X['label']\n",
    "  X=np.array(X)\n",
    "  #print(X.shape)\n",
    "  X=np.reshape(X, (X.shape[0], 28,28)) # C-like index ordering\n",
    "  X=X/255\n",
    "  Y=keras.utils.to_categorical(Y)\n",
    "\n",
    "  return X,Y"
   ]
  },
  {
   "cell_type": "code",
   "execution_count": 7,
   "metadata": {},
   "outputs": [],
   "source": [
    "X_train,Y_train=ConvertCSVImage(treinamento)\n",
    "#X_test,Y_test=ConvertCSVImage(validacao)\n",
    "X_test=X_train[50000:60000,]\n",
    "Y_test=Y_train[50000:60000,]\n",
    "X_train=X_train[0:50000,]\n",
    "Y_train=Y_train[0:50000,]"
   ]
  },
  {
   "cell_type": "code",
   "execution_count": 8,
   "metadata": {},
   "outputs": [],
   "source": [
    "input_shape=(28,28,1)\n",
    "X_train = X_train.reshape(X_train.shape[0], 28, 28, 1)\n",
    "X_test = X_test.reshape(X_test.shape[0], 28, 28, 1)"
   ]
  },
  {
   "cell_type": "code",
   "execution_count": 9,
   "metadata": {},
   "outputs": [
    {
     "name": "stdout",
     "output_type": "stream",
     "text": [
      "Train on 50000 samples, validate on 10000 samples\n",
      "Epoch 1/10\n",
      "50000/50000 [==============================] - 95s 2ms/step - loss: 0.1384 - accuracy: 0.9582 - val_loss: 0.0370 - val_accuracy: 0.9888\n",
      "Epoch 2/10\n",
      "50000/50000 [==============================] - 96s 2ms/step - loss: 0.0488 - accuracy: 0.9856 - val_loss: 0.0235 - val_accuracy: 0.9920\n",
      "Epoch 3/10\n",
      "50000/50000 [==============================] - 96s 2ms/step - loss: 0.0373 - accuracy: 0.9887 - val_loss: 0.0238 - val_accuracy: 0.9924\n",
      "Epoch 4/10\n",
      "50000/50000 [==============================] - 95s 2ms/step - loss: 0.0268 - accuracy: 0.9919 - val_loss: 0.0281 - val_accuracy: 0.9912\n",
      "Epoch 6/10\n",
      "50000/50000 [==============================] - 95s 2ms/step - loss: 0.0244 - accuracy: 0.9928 - val_loss: 0.0309 - val_accuracy: 0.9917\n",
      "Epoch 7/10\n",
      "50000/50000 [==============================] - 94s 2ms/step - loss: 0.0234 - accuracy: 0.9933 - val_loss: 0.0330 - val_accuracy: 0.9916\n",
      "Epoch 8/10\n",
      "50000/50000 [==============================] - 95s 2ms/step - loss: 0.0234 - accuracy: 0.9934 - val_loss: 0.0304 - val_accuracy: 0.9925\n",
      "Epoch 9/10\n",
      "50000/50000 [==============================] - 96s 2ms/step - loss: 0.0226 - accuracy: 0.9935 - val_loss: 0.0303 - val_accuracy: 0.9928\n",
      "Epoch 10/10\n",
      " 6784/50000 [===>..........................] - ETA: 1:19 - loss: 0.0164 - accuracy: 0.9959"
     ]
    }
   ],
   "source": [
    "epochs=10\n",
    "batch_size=32\n",
    "num_classes=10\n",
    "model = Sequential()\n",
    "model.add(Conv2D(32, kernel_size=(3, 3),\n",
    "                 activation='relu',\n",
    "                 input_shape=input_shape))\n",
    "model.add(Conv2D(64, (3, 3), activation='relu'))\n",
    "model.add(MaxPooling2D(pool_size=(2, 2)))\n",
    "model.add(Dropout(0.25))\n",
    "model.add(Flatten())\n",
    "model.add(Dense(128, activation='relu'))\n",
    "model.add(Dropout(0.5))\n",
    "model.add(Dense(num_classes, activation='softmax'))\n",
    "\n",
    "model.compile(loss=keras.losses.categorical_crossentropy,\n",
    "              optimizer=keras.optimizers.Adadelta(),\n",
    "              metrics=['accuracy'])\n",
    "\n",
    "model.fit(X_train, Y_train,\n",
    "          batch_size=batch_size,\n",
    "          epochs=epochs,\n",
    "          verbose=1,\n",
    "          validation_data=(X_test, Y_test))"
   ]
  },
  {
   "cell_type": "code",
   "execution_count": 10,
   "metadata": {},
   "outputs": [],
   "source": [
    "def GradCAM(model,imagearray,NClasses=1):\n",
    "  #from keras.preprocessing import image\n",
    "  import cv2 \n",
    "  from PIL import Image\n",
    "  #from keras.models import load_model\n",
    "  import numpy as np\n",
    "  #model=load_model(model)\n",
    "  #img_size=img_size\n",
    "  #img_size=img_size\n",
    "  #img_size=list(img_size)\n",
    "  #for j in range(0,(len(img_size)) ):\n",
    "  #  img_size[j]=int(img_size[j])\n",
    "  #img_size=tuple(img_size)  \n",
    "  #Data = image.load_img(img_path, target_size=img_size) #(224,224)\n",
    "  #Data = image.img_to_array(Data)\n",
    "  #Data = np.expand_dims(Data, axis=0)\n",
    " # Data = preprocess_input(Data)\n",
    "\n",
    "  #x=Data\n",
    "  x=imagearray\n",
    "  #x=x/255\n",
    "\n",
    "  layer_names=[]\n",
    "  cont=0\n",
    "  Indices=[]\n",
    "  for layers in model.layers:\n",
    "    aux=type(layers)\n",
    "    aux=str(aux)\n",
    "    if \"Conv2D\" in aux:\n",
    "      layer_names.append(layers.name)\n",
    "      Indices.append(cont)\n",
    "    cont=cont+1\n",
    "  Indices=Indices[-1]\n",
    "\n",
    "  preds = model.predict(x)\n",
    "  class_idx = np.argmax(preds[0,])\n",
    "  class_output = model.output[:, class_idx]\n",
    "  last_conv_layer = model.layers[Indices]#model.get_layer(\"block5_conv3\")\n",
    "\n",
    "  import keras.backend as K\n",
    "  grads = K.gradients(class_output, last_conv_layer.output)[0]\n",
    "  pooled_grads = K.mean(grads, axis=(0, 1, 2))\n",
    "  iterate = K.function([model.input], [pooled_grads, last_conv_layer.output[0]])\n",
    "  pooled_grads_value, conv_layer_output_value = iterate([x])\n",
    "  #print(len(conv_layer_output_value[1,1,:]))\n",
    "  for i in range(len(conv_layer_output_value[1,1,:])):\n",
    "    conv_layer_output_value[:, :, i] *= pooled_grads_value[i]\n",
    "  heatmap = np.mean(conv_layer_output_value, axis=-1)\n",
    "  heatmap = np.maximum(heatmap, 0)\n",
    "  heatmap /= np.max(heatmap)\n",
    "\n",
    " # from google.colab.patches import cv2_imshow\n",
    "\n",
    "  #img = cv2.imread(img_path)\n",
    "  heatmap = cv2.resize(heatmap, (28, 28))\n",
    "  heatmap = np.uint8(255 * heatmap)\n",
    "  heatmap = cv2.applyColorMap(heatmap, cv2.COLORMAP_JET)\n",
    "  superimposed_img=0.6*imagearray + 0.4*heatmap\n",
    "  #superimposed_img = cv2.addWeighted(imagearray, 0.6, heatmap, 0.4, 0)\n",
    "  #cv2.imshow('Original',img)\n",
    "  print(superimposed_img.shape)\n",
    "  img=np.reshape(superimposed_img,(28,28,3))\n",
    "  imagearray=np.reshape(imagearray,(28,28))\n",
    "  #img = Image.fromarray(superimposed_img, 'RGB')\n",
    " # print(\"A classe Predita foi\",class_idx)\n",
    "  return(img,imagearray)\n",
    "  #cv2_imshow(superimposed_img)\n",
    "  #cv2.waitKey(0)\n",
    "  #return(superimposed_img)"
   ]
  },
  {
   "cell_type": "code",
   "execution_count": 11,
   "metadata": {},
   "outputs": [],
   "source": [
    "\n",
    "TesteX=teste\n",
    "TesteX=TesteX.drop('id',axis=1)\n"
   ]
  },
  {
   "cell_type": "code",
   "execution_count": 12,
   "metadata": {},
   "outputs": [],
   "source": [
    "TesteX=np.array(TesteX)\n",
    "TesteX=np.reshape(TesteX, (TesteX.shape[0], 28,28,1)) # C-like index orderin"
   ]
  },
  {
   "cell_type": "code",
   "execution_count": 13,
   "metadata": {},
   "outputs": [],
   "source": [
    "previsoes=model.predict(TesteX)"
   ]
  },
  {
   "cell_type": "code",
   "execution_count": 14,
   "metadata": {},
   "outputs": [],
   "source": [
    "labels=[]\n",
    "for i in range(0,previsoes.shape[0]):\n",
    "  labels.append(np.argmax(previsoes[i,]))"
   ]
  },
  {
   "cell_type": "code",
   "execution_count": 15,
   "metadata": {},
   "outputs": [],
   "source": [
    "PrevisoesFinais=pd.DataFrame([teste['id'].values,labels])"
   ]
  },
  {
   "cell_type": "code",
   "execution_count": 16,
   "metadata": {},
   "outputs": [],
   "source": [
    "PrevisoesFinais=PrevisoesFinais.transpose()"
   ]
  },
  {
   "cell_type": "code",
   "execution_count": 17,
   "metadata": {},
   "outputs": [],
   "source": [
    "PrevisoesFinais.columns = ['id', 'label']"
   ]
  },
  {
   "cell_type": "code",
   "execution_count": 18,
   "metadata": {},
   "outputs": [],
   "source": [
    "PrevisoesFinais.to_csv('submission.csv', index=False)\n"
   ]
  },
  {
   "cell_type": "markdown",
   "metadata": {},
   "source": [
    "Well we then trained a model and found our predictions but we can wonder why does the neural network tough of this answer?\n",
    "\n",
    "To do so we utilize GradCam as defined above to vizualize which pixels were important in the image for top 1 classification"
   ]
  },
  {
   "cell_type": "code",
   "execution_count": 19,
   "metadata": {},
   "outputs": [
    {
     "name": "stdout",
     "output_type": "stream",
     "text": [
      "(1, 28, 28, 3)\n"
     ]
    },
    {
     "name": "stderr",
     "output_type": "stream",
     "text": [
      "/opt/conda/lib/python3.6/site-packages/ipykernel_launcher.py:50: RuntimeWarning: invalid value encountered in true_divide\n"
     ]
    }
   ],
   "source": [
    "Indice=43\n",
    "aux=TesteX[Indice,]\n",
    "aux=np.reshape(aux,(1,aux.shape[0],aux.shape[1],aux.shape[2] ) )\n",
    "aux.shape\n",
    "Novo,Antigo=GradCAM(model,aux,1)\n"
   ]
  },
  {
   "cell_type": "code",
   "execution_count": 20,
   "metadata": {},
   "outputs": [
    {
     "data": {
      "image/png": "[encoded data removed]",
      "text/plain": [
       "<Figure size 432x288 with 1 Axes>"
      ]
     },
     "metadata": {
      "needs_background": "light"
     },
     "output_type": "display_data"
    }
   ],
   "source": [
    "plt.imshow(Antigo,cmap='gray')\n",
    "\n",
    "plt.show()"
   ]
  },
  {
   "cell_type": "code",
   "execution_count": 21,
   "metadata": {},
   "outputs": [
    {
     "data": {
      "image/png": "[encoded data removed]",
      "text/plain": [
       "<Figure size 432x288 with 1 Axes>"
      ]
     },
     "metadata": {
      "needs_background": "light"
     },
     "output_type": "display_data"
    }
   ],
   "source": [
    "plt.imshow(Novo, interpolation='nearest')\n",
    "\n",
    "plt.show()"
   ]
  }
 ],
 "metadata": {
  "kernelspec": {
   "display_name": "Python 3",
   "language": "python",
   "name": "python3"
  },
  "language_info": {
   "codemirror_mode": {
    "name": "ipython",
    "version": 3
   },
   "file_extension": ".py",
   "mimetype": "text/x-python",
   "name": "python",
   "nbconvert_exporter": "python",
   "pygments_lexer": "ipython3",
   "version": "3.6.6"
  }
 },
 "nbformat": 4,
 "nbformat_minor": 1
}
