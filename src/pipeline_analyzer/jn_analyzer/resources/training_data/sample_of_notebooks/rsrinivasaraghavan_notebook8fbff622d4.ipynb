{
 "cells": [
  {
   "cell_type": "code",
   "execution_count": 1,
   "metadata": {
    "_cell_guid": "b1076dfc-b9ad-4769-8c92-a6c4dae69d19",
    "_uuid": "8f2839f25d086af736a60e9eeb907d3b93b6e0e5",
    "execution": {
     "iopub.execute_input": "2020-08-28T09:29:44.677316Z",
     "iopub.status.busy": "2020-08-28T09:29:44.676306Z",
     "iopub.status.idle": "2020-08-28T09:29:44.682657Z",
     "shell.execute_reply": "2020-08-28T09:29:44.681942Z"
    },
    "papermill": {
     "duration": 0.031454,
     "end_time": "2020-08-28T09:29:44.682808",
     "exception": false,
     "start_time": "2020-08-28T09:29:44.651354",
     "status": "completed"
    },
    "tags": []
   },
   "outputs": [
    {
     "name": "stdout",
     "output_type": "stream",
     "text": [
      "/kaggle/input/nlp-getting-started/train.csv\n",
      "/kaggle/input/nlp-getting-started/test.csv\n",
      "/kaggle/input/nlp-getting-started/sample_submission.csv\n"
     ]
    }
   ],
   "source": [
    "# This Python 3 environment comes with many helpful analytics libraries installed\n",
    "# It is defined by the kaggle/python Docker image: https://github.com/kaggle/docker-python\n",
    "# For example, here's several helpful packages to load\n",
    "\n",
    "import numpy as np # linear algebra\n",
    "import pandas as pd # data processing, CSV file I/O (e.g. pd.read_csv)\n",
    "\n",
    "# Input data files are available in the read-only \"../input/\" directory\n",
    "# For example, running this (by clicking run or pressing Shift+Enter) will list all files under the input directory\n",
    "\n",
    "import os\n",
    "for dirname, _, filenames in os.walk('/kaggle/input'):\n",
    "    for filename in filenames:\n",
    "        print(os.path.join(dirname, filename))\n",
    "\n",
    "# You can write up to 5GB to the current directory (/kaggle/working/) that gets preserved as output when you create a version using \"Save & Run All\" \n",
    "# You can also write temporary files to /kaggle/temp/, but they won't be saved outside of the current session"
   ]
  },
  {
   "cell_type": "code",
   "execution_count": 2,
   "metadata": {
    "_cell_guid": "79c7e3d0-c299-4dcb-8224-4455121ee9b0",
    "_uuid": "d629ff2d2480ee46fbb7e2d37f6b5fab8052498a",
    "execution": {
     "iopub.execute_input": "2020-08-28T09:29:44.719033Z",
     "iopub.status.busy": "2020-08-28T09:29:44.718150Z",
     "iopub.status.idle": "2020-08-28T09:29:45.937448Z",
     "shell.execute_reply": "2020-08-28T09:29:45.936708Z"
    },
    "papermill": {
     "duration": 1.239788,
     "end_time": "2020-08-28T09:29:45.937630",
     "exception": false,
     "start_time": "2020-08-28T09:29:44.697842",
     "status": "completed"
    },
    "tags": []
   },
   "outputs": [],
   "source": [
    "import numpy as np # linear algebra\n",
    "import pandas as pd # data processing, CSV file I/O (e.g. pd.read_csv)\n",
    "from sklearn import feature_extraction, linear_model, model_selection, preprocessing"
   ]
  },
  {
   "cell_type": "code",
   "execution_count": 3,
   "metadata": {
    "execution": {
     "iopub.execute_input": "2020-08-28T09:29:45.976753Z",
     "iopub.status.busy": "2020-08-28T09:29:45.975912Z",
     "iopub.status.idle": "2020-08-28T09:29:46.053459Z",
     "shell.execute_reply": "2020-08-28T09:29:46.052763Z"
    },
    "papermill": {
     "duration": 0.101385,
     "end_time": "2020-08-28T09:29:46.053639",
     "exception": false,
     "start_time": "2020-08-28T09:29:45.952254",
     "status": "completed"
    },
    "tags": []
   },
   "outputs": [],
   "source": [
    "train_df = pd.read_csv(\"/kaggle/input/nlp-getting-started/train.csv\")\n",
    "test_df = pd.read_csv(\"/kaggle/input/nlp-getting-started/test.csv\")"
   ]
  },
  {
   "cell_type": "code",
   "execution_count": 4,
   "metadata": {
    "execution": {
     "iopub.execute_input": "2020-08-28T09:29:46.094173Z",
     "iopub.status.busy": "2020-08-28T09:29:46.093259Z",
     "iopub.status.idle": "2020-08-28T09:29:46.125330Z",
     "shell.execute_reply": "2020-08-28T09:29:46.124714Z"
    },
    "papermill": {
     "duration": 0.05731,
     "end_time": "2020-08-28T09:29:46.125474",
     "exception": false,
     "start_time": "2020-08-28T09:29:46.068164",
     "status": "completed"
    },
    "tags": []
   },
   "outputs": [
    {
     "data": {
      "text/plain": [
       "'I love fruits'"
      ]
     },
     "execution_count": 4,
     "metadata": {},
     "output_type": "execute_result"
    }
   ],
   "source": [
    "train_df[train_df[\"target\"] == 0][\"text\"].values[1]"
   ]
  },
  {
   "cell_type": "code",
   "execution_count": 5,
   "metadata": {
    "execution": {
     "iopub.execute_input": "2020-08-28T09:29:46.162932Z",
     "iopub.status.busy": "2020-08-28T09:29:46.162114Z",
     "iopub.status.idle": "2020-08-28T09:29:46.169286Z",
     "shell.execute_reply": "2020-08-28T09:29:46.168618Z"
    },
    "papermill": {
     "duration": 0.028796,
     "end_time": "2020-08-28T09:29:46.169425",
     "exception": false,
     "start_time": "2020-08-28T09:29:46.140629",
     "status": "completed"
    },
    "tags": []
   },
   "outputs": [
    {
     "data": {
      "text/plain": [
       "'Forest fire near La Ronge Sask. Canada'"
      ]
     },
     "execution_count": 5,
     "metadata": {},
     "output_type": "execute_result"
    }
   ],
   "source": [
    "train_df[train_df[\"target\"] == 1][\"text\"].values[1]"
   ]
  },
  {
   "cell_type": "code",
   "execution_count": 6,
   "metadata": {
    "execution": {
     "iopub.execute_input": "2020-08-28T09:29:46.214610Z",
     "iopub.status.busy": "2020-08-28T09:29:46.213733Z",
     "iopub.status.idle": "2020-08-28T09:29:46.217440Z",
     "shell.execute_reply": "2020-08-28T09:29:46.216723Z"
    },
    "papermill": {
     "duration": 0.031942,
     "end_time": "2020-08-28T09:29:46.217589",
     "exception": false,
     "start_time": "2020-08-28T09:29:46.185647",
     "status": "completed"
    },
    "tags": []
   },
   "outputs": [],
   "source": [
    "count_vectorizer = feature_extraction.text.CountVectorizer()\n",
    "\n",
    "## let's get counts for the first 5 tweets in the data\n",
    "example_train_vectors = count_vectorizer.fit_transform(train_df[\"text\"][0:5])"
   ]
  },
  {
   "cell_type": "code",
   "execution_count": 7,
   "metadata": {
    "execution": {
     "iopub.execute_input": "2020-08-28T09:29:46.258736Z",
     "iopub.status.busy": "2020-08-28T09:29:46.257761Z",
     "iopub.status.idle": "2020-08-28T09:29:46.262968Z",
     "shell.execute_reply": "2020-08-28T09:29:46.262152Z"
    },
    "papermill": {
     "duration": 0.029757,
     "end_time": "2020-08-28T09:29:46.263161",
     "exception": false,
     "start_time": "2020-08-28T09:29:46.233404",
     "status": "completed"
    },
    "tags": []
   },
   "outputs": [
    {
     "name": "stdout",
     "output_type": "stream",
     "text": [
      "(1, 54)\n",
      "[[0 0 0 1 1 1 0 0 0 0 0 0 1 1 0 0 0 0 1 0 0 0 0 0 0 1 0 0 0 1 0 0 0 0 1 0\n",
      "  0 0 0 1 0 0 0 0 0 0 0 0 0 1 1 0 1 0]]\n"
     ]
    }
   ],
   "source": [
    "## we use .todense() here because these vectors are \"sparse\" (only non-zero elements are kept to save space)\n",
    "print(example_train_vectors[0].todense().shape)\n",
    "print(example_train_vectors[0].todense())"
   ]
  },
  {
   "cell_type": "code",
   "execution_count": 8,
   "metadata": {
    "execution": {
     "iopub.execute_input": "2020-08-28T09:29:46.323366Z",
     "iopub.status.busy": "2020-08-28T09:29:46.312955Z",
     "iopub.status.idle": "2020-08-28T09:29:46.704282Z",
     "shell.execute_reply": "2020-08-28T09:29:46.703341Z"
    },
    "papermill": {
     "duration": 0.422303,
     "end_time": "2020-08-28T09:29:46.704434",
     "exception": false,
     "start_time": "2020-08-28T09:29:46.282131",
     "status": "completed"
    },
    "tags": []
   },
   "outputs": [],
   "source": [
    "train_vectors = count_vectorizer.fit_transform(train_df[\"text\"])\n",
    "\n",
    "## note that we're NOT using .fit_transform() here. Using just .transform() makes sure\n",
    "# that the tokens in the train vectors are the only ones mapped to the test vectors - \n",
    "# i.e. that the train and test vectors use the same set of tokens.\n",
    "test_vectors = count_vectorizer.transform(test_df[\"text\"])"
   ]
  },
  {
   "cell_type": "code",
   "execution_count": 9,
   "metadata": {
    "execution": {
     "iopub.execute_input": "2020-08-28T09:29:46.744198Z",
     "iopub.status.busy": "2020-08-28T09:29:46.743365Z",
     "iopub.status.idle": "2020-08-28T09:29:46.747056Z",
     "shell.execute_reply": "2020-08-28T09:29:46.746292Z"
    },
    "papermill": {
     "duration": 0.025885,
     "end_time": "2020-08-28T09:29:46.747191",
     "exception": false,
     "start_time": "2020-08-28T09:29:46.721306",
     "status": "completed"
    },
    "tags": []
   },
   "outputs": [],
   "source": [
    "## Our vectors are really big, so we want to push our model's weights\n",
    "## toward 0 without completely discounting different words - ridge regression \n",
    "## is a good way to do this.\n",
    "clf = linear_model.RidgeClassifier()"
   ]
  },
  {
   "cell_type": "code",
   "execution_count": 10,
   "metadata": {
    "execution": {
     "iopub.execute_input": "2020-08-28T09:29:46.789286Z",
     "iopub.status.busy": "2020-08-28T09:29:46.788396Z",
     "iopub.status.idle": "2020-08-28T09:29:47.165905Z",
     "shell.execute_reply": "2020-08-28T09:29:47.165212Z"
    },
    "papermill": {
     "duration": 0.401937,
     "end_time": "2020-08-28T09:29:47.166051",
     "exception": false,
     "start_time": "2020-08-28T09:29:46.764114",
     "status": "completed"
    },
    "tags": []
   },
   "outputs": [
    {
     "data": {
      "text/plain": [
       "array([0.59485531, 0.56498283, 0.64149093])"
      ]
     },
     "execution_count": 10,
     "metadata": {},
     "output_type": "execute_result"
    }
   ],
   "source": [
    "scores = model_selection.cross_val_score(clf, train_vectors, train_df[\"target\"], cv=3, scoring=\"f1\")\n",
    "scores"
   ]
  },
  {
   "cell_type": "code",
   "execution_count": 11,
   "metadata": {
    "execution": {
     "iopub.execute_input": "2020-08-28T09:29:47.209331Z",
     "iopub.status.busy": "2020-08-28T09:29:47.208362Z",
     "iopub.status.idle": "2020-08-28T09:29:47.377610Z",
     "shell.execute_reply": "2020-08-28T09:29:47.376749Z"
    },
    "papermill": {
     "duration": 0.193986,
     "end_time": "2020-08-28T09:29:47.377761",
     "exception": false,
     "start_time": "2020-08-28T09:29:47.183775",
     "status": "completed"
    },
    "tags": []
   },
   "outputs": [
    {
     "data": {
      "text/plain": [
       "RidgeClassifier()"
      ]
     },
     "execution_count": 11,
     "metadata": {},
     "output_type": "execute_result"
    }
   ],
   "source": [
    "clf.fit(train_vectors, train_df[\"target\"])"
   ]
  },
  {
   "cell_type": "code",
   "execution_count": 12,
   "metadata": {
    "execution": {
     "iopub.execute_input": "2020-08-28T09:29:47.422740Z",
     "iopub.status.busy": "2020-08-28T09:29:47.421969Z",
     "iopub.status.idle": "2020-08-28T09:29:47.441117Z",
     "shell.execute_reply": "2020-08-28T09:29:47.440353Z"
    },
    "papermill": {
     "duration": 0.045315,
     "end_time": "2020-08-28T09:29:47.441261",
     "exception": false,
     "start_time": "2020-08-28T09:29:47.395946",
     "status": "completed"
    },
    "tags": []
   },
   "outputs": [],
   "source": [
    "sample_submission = pd.read_csv(\"/kaggle/input/nlp-getting-started/sample_submission.csv\")"
   ]
  },
  {
   "cell_type": "code",
   "execution_count": 13,
   "metadata": {
    "execution": {
     "iopub.execute_input": "2020-08-28T09:29:47.485287Z",
     "iopub.status.busy": "2020-08-28T09:29:47.484118Z",
     "iopub.status.idle": "2020-08-28T09:29:47.490163Z",
     "shell.execute_reply": "2020-08-28T09:29:47.490754Z"
    },
    "papermill": {
     "duration": 0.031394,
     "end_time": "2020-08-28T09:29:47.490961",
     "exception": false,
     "start_time": "2020-08-28T09:29:47.459567",
     "status": "completed"
    },
    "tags": []
   },
   "outputs": [],
   "source": [
    "sample_submission[\"target\"] = clf.predict(test_vectors)"
   ]
  },
  {
   "cell_type": "code",
   "execution_count": 14,
   "metadata": {
    "execution": {
     "iopub.execute_input": "2020-08-28T09:29:47.539347Z",
     "iopub.status.busy": "2020-08-28T09:29:47.538538Z",
     "iopub.status.idle": "2020-08-28T09:29:47.548369Z",
     "shell.execute_reply": "2020-08-28T09:29:47.548999Z"
    },
    "papermill": {
     "duration": 0.039628,
     "end_time": "2020-08-28T09:29:47.549184",
     "exception": false,
     "start_time": "2020-08-28T09:29:47.509556",
     "status": "completed"
    },
    "tags": []
   },
   "outputs": [
    {
     "data": {
      "text/html": [
       "<div>\n",
       "<style scoped>\n",
       "    .dataframe tbody tr th:only-of-type {\n",
       "        vertical-align: middle;\n",
       "    }\n",
       "\n",
       "    .dataframe tbody tr th {\n",
       "        vertical-align: top;\n",
       "    }\n",
       "\n",
       "    .dataframe thead th {\n",
       "        text-align: right;\n",
       "    }\n",
       "</style>\n",
       "<table border=\"1\" class=\"dataframe\">\n",
       "  <thead>\n",
       "    <tr style=\"text-align: right;\">\n",
       "      <th></th>\n",
       "      <th>id</th>\n",
       "      <th>target</th>\n",
       "    </tr>\n",
       "  </thead>\n",
       "  <tbody>\n",
       "    <tr>\n",
       "      <th>0</th>\n",
       "      <td>0</td>\n",
       "      <td>0</td>\n",
       "    </tr>\n",
       "    <tr>\n",
       "      <th>1</th>\n",
       "      <td>2</td>\n",
       "      <td>1</td>\n",
       "    </tr>\n",
       "    <tr>\n",
       "      <th>2</th>\n",
       "      <td>3</td>\n",
       "      <td>1</td>\n",
       "    </tr>\n",
       "    <tr>\n",
       "      <th>3</th>\n",
       "      <td>9</td>\n",
       "      <td>0</td>\n",
       "    </tr>\n",
       "    <tr>\n",
       "      <th>4</th>\n",
       "      <td>11</td>\n",
       "      <td>1</td>\n",
       "    </tr>\n",
       "  </tbody>\n",
       "</table>\n",
       "</div>"
      ],
      "text/plain": [
       "   id  target\n",
       "0   0       0\n",
       "1   2       1\n",
       "2   3       1\n",
       "3   9       0\n",
       "4  11       1"
      ]
     },
     "execution_count": 14,
     "metadata": {},
     "output_type": "execute_result"
    }
   ],
   "source": [
    "sample_submission.head()"
   ]
  },
  {
   "cell_type": "code",
   "execution_count": 15,
   "metadata": {
    "execution": {
     "iopub.execute_input": "2020-08-28T09:29:47.594419Z",
     "iopub.status.busy": "2020-08-28T09:29:47.593232Z",
     "iopub.status.idle": "2020-08-28T09:29:48.053651Z",
     "shell.execute_reply": "2020-08-28T09:29:48.052802Z"
    },
    "papermill": {
     "duration": 0.485484,
     "end_time": "2020-08-28T09:29:48.053802",
     "exception": false,
     "start_time": "2020-08-28T09:29:47.568318",
     "status": "completed"
    },
    "tags": []
   },
   "outputs": [],
   "source": [
    "sample_submission.to_csv(\"submission.csv\", index=False)"
   ]
  },
  {
   "cell_type": "code",
   "execution_count": null,
   "metadata": {
    "papermill": {
     "duration": 0.018753,
     "end_time": "2020-08-28T09:29:48.091908",
     "exception": false,
     "start_time": "2020-08-28T09:29:48.073155",
     "status": "completed"
    },
    "tags": []
   },
   "outputs": [],
   "source": []
  }
 ],
 "metadata": {
  "kernelspec": {
   "display_name": "Python 3",
   "language": "python",
   "name": "python3"
  },
  "language_info": {
   "codemirror_mode": {
    "name": "ipython",
    "version": 3
   },
   "file_extension": ".py",
   "mimetype": "text/x-python",
   "name": "python",
   "nbconvert_exporter": "python",
   "pygments_lexer": "ipython3",
   "version": "3.7.6"
  },
  "papermill": {
   "duration": 8.695258,
   "end_time": "2020-08-28T09:29:48.220835",
   "environment_variables": {},
   "exception": null,
   "input_path": "__notebook__.ipynb",
   "output_path": "__notebook__.ipynb",
   "parameters": {},
   "start_time": "2020-08-28T09:29:39.525577",
   "version": "2.1.0"
  }
 },
 "nbformat": 4,
 "nbformat_minor": 4
}
