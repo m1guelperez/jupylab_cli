{
 "cells": [
  {
   "cell_type": "markdown",
   "metadata": {
    "_cell_guid": "d06a7963-3fb4-4622-bae1-db7d3387491c",
    "_uuid": "9aef45736f1be9ee833b98cc0b8c4292db6c1adb"
   },
   "source": [
    "This is a short code with the objective to better understand the main issues and produce a meaningfull score ( 0.3740 on LB - top 8%). I benefited from reading several of the more detailed kernels (eg beluga, and adapted some of the code) but wanted to have something easier using Light GBM.  "
   ]
  },
  {
   "cell_type": "code",
   "execution_count": 1,
   "metadata": {
    "_cell_guid": "d147a64a-ad7e-456c-aaec-5fb3014316b2",
    "_uuid": "dff9efb914a4485d481f2af33033cc893312342e"
   },
   "outputs": [
    {
     "name": "stdout",
     "output_type": "stream",
     "text": [
      "loading files...\n",
      "(1458644, 11) (625134, 9)\n",
      " max time in min 98.70 and mean time in sec 834.70 \n",
      "(1454702, 12) (625134, 10) 2079836 (2079836, 12)\n"
     ]
    },
    {
     "data": {
      "text/html": [
       "<div>\n",
       "<style>\n",
       "    .dataframe thead tr:only-child th {\n",
       "        text-align: right;\n",
       "    }\n",
       "\n",
       "    .dataframe thead th {\n",
       "        text-align: left;\n",
       "    }\n",
       "\n",
       "    .dataframe tbody tr th {\n",
       "        vertical-align: top;\n",
       "    }\n",
       "</style>\n",
       "<table border=\"1\" class=\"dataframe\">\n",
       "  <thead>\n",
       "    <tr style=\"text-align: right;\">\n",
       "      <th></th>\n",
       "      <th>dropoff_datetime</th>\n",
       "      <th>dropoff_latitude</th>\n",
       "      <th>dropoff_longitude</th>\n",
       "      <th>eval_set</th>\n",
       "      <th>id</th>\n",
       "      <th>passenger_count</th>\n",
       "      <th>pickup_datetime</th>\n",
       "      <th>pickup_latitude</th>\n",
       "      <th>pickup_longitude</th>\n",
       "      <th>store_and_fwd_flag</th>\n",
       "      <th>trip_duration</th>\n",
       "      <th>vendor_id</th>\n",
       "    </tr>\n",
       "  </thead>\n",
       "  <tbody>\n",
       "    <tr>\n",
       "      <th>0</th>\n",
       "      <td>2016-03-14 17:32:30</td>\n",
       "      <td>40.765602</td>\n",
       "      <td>-73.964630</td>\n",
       "      <td>1</td>\n",
       "      <td>id2875421</td>\n",
       "      <td>1</td>\n",
       "      <td>2016-03-14 17:24:55</td>\n",
       "      <td>40.767937</td>\n",
       "      <td>-73.982155</td>\n",
       "      <td>N</td>\n",
       "      <td>455.0</td>\n",
       "      <td>2</td>\n",
       "    </tr>\n",
       "    <tr>\n",
       "      <th>1</th>\n",
       "      <td>2016-06-12 00:54:38</td>\n",
       "      <td>40.731152</td>\n",
       "      <td>-73.999481</td>\n",
       "      <td>1</td>\n",
       "      <td>id2377394</td>\n",
       "      <td>1</td>\n",
       "      <td>2016-06-12 00:43:35</td>\n",
       "      <td>40.738564</td>\n",
       "      <td>-73.980415</td>\n",
       "      <td>N</td>\n",
       "      <td>663.0</td>\n",
       "      <td>1</td>\n",
       "    </tr>\n",
       "  </tbody>\n",
       "</table>\n",
       "</div>"
      ],
      "text/plain": [
       "      dropoff_datetime  dropoff_latitude  dropoff_longitude  eval_set  \\\n",
       "0  2016-03-14 17:32:30         40.765602         -73.964630         1   \n",
       "1  2016-06-12 00:54:38         40.731152         -73.999481         1   \n",
       "\n",
       "          id  passenger_count      pickup_datetime  pickup_latitude  \\\n",
       "0  id2875421                1  2016-03-14 17:24:55        40.767937   \n",
       "1  id2377394                1  2016-06-12 00:43:35        40.738564   \n",
       "\n",
       "   pickup_longitude store_and_fwd_flag  trip_duration  vendor_id  \n",
       "0        -73.982155                  N          455.0          2  \n",
       "1        -73.980415                  N          663.0          1  "
      ]
     },
     "execution_count": 1,
     "metadata": {},
     "output_type": "execute_result"
    }
   ],
   "source": [
    "import pandas as pd\n",
    "import numpy as np\n",
    "import matplotlib.pyplot as plt\n",
    "from pandas.tseries.holiday import USFederalHolidayCalendar as calendar\n",
    "from sklearn.model_selection import train_test_split\n",
    "from sklearn.decomposition import PCA\n",
    "from sklearn.cluster import MiniBatchKMeans\n",
    "import lightgbm as lgb\n",
    "import gc\n",
    "\n",
    "myfolder = '../input/'\n",
    "print('loading files...')\n",
    "train = pd.read_csv(myfolder+'train.csv')\n",
    "test = pd.read_csv(myfolder+'test.csv')\n",
    "print(train.shape, test.shape)\n",
    "\n",
    "#remove outliers  (about an hour and half max to go to JFK )\n",
    "train = train[train['trip_duration'] <  train['trip_duration'].quantile(0.999)]\n",
    "train = train[train['trip_duration'] <= train['trip_duration'].mean() + 3*train['trip_duration'].std()]\n",
    "print(' max time in min {:.2f} and mean time in sec {:.2f} '.format(\n",
    "    train['trip_duration'].max()/60, train['trip_duration'].mean()))\n",
    "\n",
    "# NYC longitude and latitude borders \n",
    "ep = 0.0001      \n",
    "(lng1,lng2)=(-74.257*(1+ep), -73.699*(1-ep))\n",
    "(lat1,lat2)=(40.495*(1+ep), 40.915*(1-ep)) \n",
    "train = train[(train['pickup_longitude'] <=lng2)&(train['pickup_longitude'] >=lng1)]\n",
    "train = train[(train['pickup_latitude'] <=lat2) & (train['pickup_latitude'] >=lat1)]\n",
    "train = train[(train['dropoff_longitude'] <=lng2)&(train['dropoff_longitude'] >=lng1)]\n",
    "train = train[(train['dropoff_latitude'] <=lat2)&(train['dropoff_latitude'] >=lat1)]\n",
    "\n",
    "#  combine train and test into a single frame\n",
    "train['eval_set'] = 1\n",
    "test['eval_set'] = 2\n",
    "Data = pd.concat([train, test], axis=0)\n",
    "print(train.shape,test.shape,len(test)+len(train),Data.shape)\n",
    "\n",
    "del train, test\n",
    "gc.collect()\n",
    "Data.head(2)"
   ]
  },
  {
   "cell_type": "code",
   "execution_count": 2,
   "metadata": {
    "_cell_guid": "4bccbf3d-c0cb-4bd0-b678-df2d47bf7349",
    "_uuid": "3784457e1c53d468badf5e8610d54e5feed606c7"
   },
   "outputs": [
    {
     "data": {
      "text/plain": [
       "(2079836, 15)"
      ]
     },
     "execution_count": 2,
     "metadata": {},
     "output_type": "execute_result"
    }
   ],
   "source": [
    "# transform the time variables, combine hours and minutes and add holidays\n",
    "Data['log_trip_duration'] = np.log(Data['trip_duration'].values + 1)\n",
    "Data['pickup_datetime'] = pd.to_datetime(Data.pickup_datetime)\n",
    "Data['Month'] = Data['pickup_datetime'].dt.month\n",
    "Data['DayofMonth'] = Data['pickup_datetime'].dt.day\n",
    "Data['Timehm'] =Data['pickup_datetime'].dt.hour+Data['pickup_datetime'].dt.minute/60.\n",
    "Data['dayofweek'] = Data['pickup_datetime'].dt.dayofweek\n",
    "holidays = calendar().holidays(start='2015-12-31', end='2016-07-01')\n",
    "Data['Holiday']=Data['pickup_datetime'].dt.date.astype('datetime64[ns]').isin(holidays).astype(int)\n",
    "Data.drop(['trip_duration','dropoff_datetime','pickup_datetime'], axis=1,inplace=True)\n",
    "# and replace the N,Y with 0,1\n",
    "Data['store_and_fwd_flag'] = Data['store_and_fwd_flag'].map({'N': 0, 'Y':1}).astype(int)\n",
    "Data.shape"
   ]
  },
  {
   "cell_type": "code",
   "execution_count": 3,
   "metadata": {
    "_cell_guid": "79374ca6-f2d6-47d2-ba93-de264028ec4f",
    "_uuid": "71d2d547b1d8739b6256bdd32ac1a9b72390982b"
   },
   "outputs": [
    {
     "data": {
      "text/plain": [
       "(2079836, 18)"
      ]
     },
     "execution_count": 3,
     "metadata": {},
     "output_type": "execute_result"
    }
   ],
   "source": [
    "# calculate the distance and direction between pickup and dropooff coordinates\n",
    "\n",
    "def haversine_array(lat1, lng1, lat2, lng2):\n",
    "    lat1, lng1, lat2, lng2 = map(np.radians, (lat1, lng1, lat2, lng2))\n",
    "    d = np.sin(lat2/2-lat1/2)**2 + np.cos(lat1) * np.cos(lat2) * np.sin(lng2/2-lng1/2)**2\n",
    "    return 2 * 6371 * np.arcsin(np.sqrt(d))   # 6,371 km is the earth radius\n",
    "\n",
    "def dummy_manhattan_distance(lat1, lng1, lat2, lng2):\n",
    "    return haversine_array(lat1,lng1,lat1,lng2)+haversine_array(lat1,lng1,lat2,lng1)\n",
    "\n",
    "def bearing_array(lat1, lng1, lat2, lng2):\n",
    "    lat1, lng1, lat2, lng2 = map(np.radians, (lat1, lng1, lat2, lng2))\n",
    "    y = np.sin(lng2 - lng1) * np.cos(lat2)\n",
    "    x = np.cos(lat1) * np.sin(lat2) - np.sin(lat1) * np.cos(lat2) * np.cos(lng2 - lng1)\n",
    "    return np.degrees(np.arctan2(y, x))\n",
    "\n",
    "Data['distance_haversine'] = haversine_array(Data['pickup_latitude'].values, Data['pickup_longitude'].values, \n",
    "                                          Data['dropoff_latitude'].values, Data['dropoff_longitude'].values)\n",
    "Data['distance_dummy_manhattan'] =  dummy_manhattan_distance(Data['pickup_latitude'].values, \n",
    "            Data['pickup_longitude'].values, Data['dropoff_latitude'].values, Data['dropoff_longitude'].values)\n",
    "Data['direction'] = bearing_array(Data['pickup_latitude'].values, Data['pickup_longitude'].values, \n",
    "                                      Data['dropoff_latitude'].values, Data['dropoff_longitude'].values)\n",
    "Data.shape"
   ]
  },
  {
   "cell_type": "code",
   "execution_count": 4,
   "metadata": {
    "_cell_guid": "5b5a89a2-c4cf-4218-a72b-a010589124e2",
    "_uuid": "395a3708817a4f2220ce73486dfa0f955577b9a4"
   },
   "outputs": [
    {
     "data": {
      "text/plain": [
       "(2079836, 20)"
      ]
     },
     "execution_count": 4,
     "metadata": {},
     "output_type": "execute_result"
    }
   ],
   "source": [
    "#  replace latitudes and longitudes with 81 clusters\n",
    "\n",
    "coords = np.vstack((Data[['pickup_latitude', 'pickup_longitude']].values,\n",
    "                    Data[['dropoff_latitude', 'dropoff_longitude']].values))\n",
    "sample_ind = np.random.permutation(len(coords))[:1000000]\n",
    "kmeans = MiniBatchKMeans(n_clusters=9**2, batch_size=36**3).fit(coords[sample_ind])\n",
    "Data['pickup_cluster'] = kmeans.predict(Data[['pickup_latitude', 'pickup_longitude']])\n",
    "Data['dropoff_cluster'] = kmeans.predict(Data[['dropoff_latitude', 'dropoff_longitude']])\n",
    "Data.shape"
   ]
  },
  {
   "cell_type": "code",
   "execution_count": 5,
   "metadata": {
    "_cell_guid": "b20cfa98-24fe-434b-8469-be11fef01b97",
    "_uuid": "716ec3b187ef382904a58c79d58c602b03f6cc8b"
   },
   "outputs": [
    {
     "data": {
      "text/plain": [
       "(2079836, 27)"
      ]
     },
     "execution_count": 5,
     "metadata": {},
     "output_type": "execute_result"
    }
   ],
   "source": [
    "pca = PCA().fit(coords)\n",
    "Data['pickup_pca0'] = pca.transform(Data[['pickup_latitude', 'pickup_longitude']])[:, 0]\n",
    "Data['pickup_pca1'] = pca.transform(Data[['pickup_latitude', 'pickup_longitude']])[:, 1]\n",
    "Data['dropoff_pca0'] = pca.transform(Data[['dropoff_latitude', 'dropoff_longitude']])[:, 0]\n",
    "Data['dropoff_pca1'] = pca.transform(Data[['dropoff_latitude', 'dropoff_longitude']])[:, 1]\n",
    "Data['pca_manhattan'] = np.abs(Data['dropoff_pca1']-Data['pickup_pca1']) +  np.abs(\n",
    "                                 Data['dropoff_pca0']-Data['pickup_pca0'])\n",
    "Data['center_latitude'] = 0.5*Data['pickup_latitude']+0.5*Data['dropoff_latitude']\n",
    "Data['center_longitude'] = 0.5*Data['pickup_longitude']+0.5*Data['dropoff_longitude']\n",
    "del coords, sample_ind, kmeans\n",
    "Data.shape"
   ]
  },
  {
   "cell_type": "code",
   "execution_count": 6,
   "metadata": {
    "_cell_guid": "adbeb79e-d538-4880-9e0a-a39db5751cda",
    "_uuid": "3ebac32fc205dadc11402bed65c458c7dc0f8b20"
   },
   "outputs": [
    {
     "name": "stdout",
     "output_type": "stream",
     "text": [
      "False\n"
     ]
    }
   ],
   "source": [
    "# optional external data (OSRM features) from Oscarleo\n",
    "# https://www.kaggle.com/oscarleo/new-york-city-taxi-with-osrm/data\n",
    "\n",
    "flag=False\n",
    "if flag:\n",
    "    cols=['id', 'total_distance', 'total_travel_time',  'number_of_steps']\n",
    "    fr1 = pd.read_csv(myfolder+'fastest_routes_train_part_1.csv', usecols=cols)\n",
    "    fr2 = pd.read_csv(myfolder+'fastest_routes_train_part_2.csv', usecols=cols)\n",
    "    fr3 = pd.read_csv(myfolder+'fastest_routes_test.csv', usecols=cols)\n",
    "    tmp = pd.concat((fr1, fr2, fr3))\n",
    "    tmp.columns=['id', 'OSRM_distance', 'OSRM_time',  'OSRM_steps']\n",
    "    Data = Data.merge(tmp, how='left', on='id')\n",
    "    del fr1, fr2, fr3, tmp\n",
    "    gc.collect()\n",
    "    Data.shape\n",
    "print(flag)  "
   ]
  },
  {
   "cell_type": "code",
   "execution_count": 7,
   "metadata": {
    "_cell_guid": "219ce763-54ab-46b7-8b91-94e5c3bb4148",
    "_uuid": "c948e3ed6cc36583ed76ac90a0287ff9d67dffb0"
   },
   "outputs": [
    {
     "name": "stdout",
     "output_type": "stream",
     "text": [
      "(2079836, 26) (1454702, 26) (625134, 26)\n"
     ]
    },
    {
     "data": {
      "text/plain": [
       "58"
      ]
     },
     "execution_count": 7,
     "metadata": {},
     "output_type": "execute_result"
    }
   ],
   "source": [
    "# split the data set back to train and test (for submission) and the train into \"train\" and \"eval\" sets for ML\n",
    "# save the ids for future\n",
    "\n",
    "Test_id = Data['id'].loc[Data['eval_set']==2].to_frame()\n",
    "Data.drop('id',axis = 1, inplace=True)\n",
    "train = Data[Data['eval_set'] == 1]\n",
    "test = Data[Data['eval_set'] == 2]\n",
    "print(Data.shape, train.shape, test.shape)\n",
    "\n",
    "X=train.drop(['eval_set','log_trip_duration'],axis=1)\n",
    "y=train['log_trip_duration']\n",
    "features=list(X.columns)\n",
    "cfeatures = list(X.select_dtypes(include = ['int64','int32']).columns)\n",
    "\n",
    "X_train, X_eval, y_train, y_eval = train_test_split(X,y, test_size=0.2, random_state=2)\n",
    "\n",
    "del train, Data\n",
    "gc.collect()"
   ]
  },
  {
   "cell_type": "code",
   "execution_count": 8,
   "metadata": {
    "_cell_guid": "5711dfa3-85f0-4ebd-85e3-1ff3a2ecb415",
    "_uuid": "40acde3b9bd66426efdea2dde3a789be06c92ee2"
   },
   "outputs": [
    {
     "name": "stdout",
     "output_type": "stream",
     "text": [
      "formatting and training LightGBM regression ...\n",
      "Training until validation scores don't improve for 10 rounds.\n",
      "[10]\tvalid_0's rmse: 0.559066\n",
      "[20]\tvalid_0's rmse: 0.453798\n",
      "[30]\tvalid_0's rmse: 0.403444\n",
      "[40]\tvalid_0's rmse: 0.379056\n",
      "[50]\tvalid_0's rmse: 0.366578\n",
      "[60]\tvalid_0's rmse: 0.359202\n",
      "[70]\tvalid_0's rmse: 0.354407\n",
      "[80]\tvalid_0's rmse: 0.350908\n",
      "[90]\tvalid_0's rmse: 0.348347\n",
      "[100]\tvalid_0's rmse: 0.345998\n",
      "[110]\tvalid_0's rmse: 0.344345\n",
      "[120]\tvalid_0's rmse: 0.342637\n",
      "[130]\tvalid_0's rmse: 0.341164\n",
      "[140]\tvalid_0's rmse: 0.339905\n",
      "[150]\tvalid_0's rmse: 0.338526\n",
      "[160]\tvalid_0's rmse: 0.337578\n",
      "[170]\tvalid_0's rmse: 0.336386\n",
      "[180]\tvalid_0's rmse: 0.335296\n",
      "[190]\tvalid_0's rmse: 0.33448\n",
      "[200]\tvalid_0's rmse: 0.333554\n"
     ]
    },
    {
     "data": {
      "text/plain": [
       "41"
      ]
     },
     "execution_count": 8,
     "metadata": {},
     "output_type": "execute_result"
    }
   ],
   "source": [
    "print('formatting and training LightGBM regression ...')\n",
    "# use higher num_boost_round eg 1000\n",
    "\n",
    "lgb_train = lgb.Dataset(X_train.values, y_train.values)\n",
    "lgb_eval = lgb.Dataset(X_eval.values, y_eval.values, reference = lgb_train)\n",
    "params = {'metric': 'rmse', 'learning_rate' : 0.05, 'num_leaves': 512, \n",
    "         'feature_fraction': 0.9,'bagging_fraction':0.9,'bagging_freq':5,'min_data_in_leaf': 500}\n",
    "lgb_model = lgb.train(params, lgb_train, num_boost_round = 200, valid_sets = lgb_eval, \n",
    "             feature_name=features, early_stopping_rounds=10,  verbose_eval = 10)\n",
    "\n",
    "del lgb_train\n",
    "gc.collect()"
   ]
  },
  {
   "cell_type": "code",
   "execution_count": 9,
   "metadata": {
    "_cell_guid": "25786ef4-ab5d-41c0-b6f7-deb195a71d30",
    "_uuid": "1f5a7536f0fb0d8ecb922a960bc1a786018fdf28"
   },
   "outputs": [
    {
     "data": {
      "image/png": "[encoded data removed]",
      "text/plain": [
       "<matplotlib.figure.Figure at 0x7f7deb476ef0>"
      ]
     },
     "metadata": {},
     "output_type": "display_data"
    }
   ],
   "source": [
    "#check feature importance\n",
    "lgb.plot_importance(lgb_model,  max_num_features=28, figsize=(7,9))\n",
    "plt.show()"
   ]
  },
  {
   "cell_type": "code",
   "execution_count": 10,
   "metadata": {
    "_cell_guid": "5167055d-b93f-424b-b88a-92399c9b9966",
    "_uuid": "f9094f538b34e8f57b5ad74c84fe548376a979cc"
   },
   "outputs": [
    {
     "name": "stdout",
     "output_type": "stream",
     "text": [
      "801.5501558966741\n"
     ]
    }
   ],
   "source": [
    "pred = lgb_model.predict(test.drop(['eval_set','log_trip_duration'], axis=1).values, \n",
    "                         num_iteration = lgb_model.best_iteration)\n",
    "Test_id['trip_duration']=np.maximum(0,np.exp(pred) - 1)\n",
    "Test_id.to_csv('submission.csv', index=False)\n",
    "print(Test_id['trip_duration'].mean())           # just a sanity check - it should be around 806"
   ]
  },
  {
   "cell_type": "code",
   "execution_count": 11,
   "metadata": {},
   "outputs": [
    {
     "name": "stdout",
     "output_type": "stream",
     "text": [
      "train score: 0.3224   eval score: 0.3336\n"
     ]
    }
   ],
   "source": [
    "#check the score again\n",
    "pred1 = lgb_model.predict(X_train.values, num_iteration = lgb_model.best_iteration)\n",
    "pred2 = lgb_model.predict(X_eval.values, num_iteration = lgb_model.best_iteration)\n",
    "rmsle1= (((y_train-pred1)**2).mean())**0.5\n",
    "rmsle2 = (((y_eval-pred2)**2).mean())**0.5\n",
    "print('train score: {:.4f}   eval score: {:.4f}'.format(rmsle1,rmsle2))"
   ]
  },
  {
   "cell_type": "markdown",
   "metadata": {
    "_cell_guid": "03166789-b79d-4ae7-b1ce-bfb2fd648b18",
    "_uuid": "ccb688a7c9a4b3be3bff8e5c9a7a29c6c42e441e"
   },
   "source": []
  },
  {
   "cell_type": "markdown",
   "metadata": {
    "_cell_guid": "551e6a3a-a3b8-4ba1-8d4e-8c2ac39cfc08",
    "_uuid": "a2ef61bca36d9c5854714a1639df1adeafe93735"
   },
   "source": []
  }
 ],
 "metadata": {
  "kernelspec": {
   "display_name": "Python 3",
   "language": "python",
   "name": "python3"
  },
  "language_info": {
   "codemirror_mode": {
    "name": "ipython",
    "version": 3
   },
   "file_extension": ".py",
   "mimetype": "text/x-python",
   "name": "python",
   "nbconvert_exporter": "python",
   "pygments_lexer": "ipython3",
   "version": "3.6.1"
  }
 },
 "nbformat": 4,
 "nbformat_minor": 1
}
