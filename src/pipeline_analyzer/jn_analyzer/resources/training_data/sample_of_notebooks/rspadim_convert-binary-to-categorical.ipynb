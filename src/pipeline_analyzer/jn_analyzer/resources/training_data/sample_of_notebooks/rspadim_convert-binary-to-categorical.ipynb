{
 "cells": [
  {
   "cell_type": "markdown",
   "metadata": {
    "_cell_guid": "b83cbe7f-28eb-4575-9aaa-cf1a135370ed",
    "_uuid": "bfcca055e81535af102a1462644ab1b40e1a7936"
   },
   "source": [
    "The idea here is convert binary columns (many) to only one categorical column (this can be more easily used with tree algoritms). Think about something that revert one-hot-encode to categorical."
   ]
  },
  {
   "cell_type": "code",
   "execution_count": 1,
   "metadata": {
    "_cell_guid": "34140cd1-62db-4f16-a388-bb408ab41f68",
    "_uuid": "53af41bf365e07138e8e5e6081134fc4096827b6"
   },
   "outputs": [],
   "source": [
    "# read data\n",
    "import numpy as np\n",
    "import pandas as pd\n",
    "train=pd.read_csv('../input/train.csv')\n",
    "test =pd.read_csv('../input/test.csv')"
   ]
  },
  {
   "cell_type": "code",
   "execution_count": 2,
   "metadata": {
    "_cell_guid": "05e57f28-6b21-4a7c-81e8-d4dfdae25d23",
    "_uuid": "9a9bedd81e77f2cbc906a4a826560dbcd5cd714e",
    "collapsed": true
   },
   "outputs": [],
   "source": [
    "# select binary features\n",
    "bin_cols = [col for col in train.columns if '_bin' in col]\n",
    "# just to test with non binary features...\n",
    "cat_cols = [col for col in train.columns if '_cat' in col]"
   ]
  },
  {
   "cell_type": "code",
   "execution_count": 3,
   "metadata": {
    "_cell_guid": "35c895cf-38d4-41b8-a204-ae68d8719949",
    "_uuid": "46806025ba0ae2cefb7670b9f4ec4fe2ad862ec0",
    "collapsed": true
   },
   "outputs": [],
   "source": [
    "import warnings\n",
    "import numpy as np\n",
    "from sklearn.base import BaseEstimator, TransformerMixin\n",
    "\n",
    "class BinToCat(BaseEstimator, TransformerMixin):\n",
    "    def __init__(self):\n",
    "        pass\n",
    "    def fit(self, X, y=None, **kwargs):\n",
    "        cols=X.columns\n",
    "        if(len(cols)>64):\n",
    "            warnings.warn(\"Caution, more than 64 bin columns, 2**64 can overflow int64\")\n",
    "        for i in cols:\n",
    "            unique_vals=X[i].unique()\n",
    "            if(len(unique_vals)>2):\n",
    "                raise Exception(\"Column \"+i+\" have more than 2 values, is it binary? values: \"+str(unique_vals))\n",
    "            if not (0 in unique_vals and 1 in unique_vals):\n",
    "                raise Exception(\"Column \"+i+\" have values different from 0/1, is it binary? values: \"+str(unique_vals))\n",
    "        self.scale=np.array([1<<i for i in range(np.shape(X)[1])])\n",
    "        \n",
    "    def transform(self, X):\n",
    "        return np.sum(self.scale*X,axis=1)\n",
    "        \n",
    "        "
   ]
  },
  {
   "cell_type": "code",
   "execution_count": 4,
   "metadata": {
    "_cell_guid": "195ae3d7-6419-4d9e-8ab1-fa5b208043b6",
    "_uuid": "4d4217a397c6f375bc60c64163bd1d70b2fe8511"
   },
   "outputs": [
    {
     "name": "stdout",
     "output_type": "stream",
     "text": [
      "scale [    1     2     4     8    16    32    64   128   256   512  1024  2048\n",
      "  4096  8192 16384 32768 65536]\n",
      "bin    :    ps_ind_06_bin  ps_ind_07_bin  ps_ind_08_bin  ps_ind_09_bin  ps_ind_10_bin  \\\n",
      "0              0              1              0              0              0   \n",
      "1              0              0              1              0              0   \n",
      "2              0              0              1              0              0   \n",
      "\n",
      "   ps_ind_11_bin  ps_ind_12_bin  ps_ind_13_bin  ps_ind_16_bin  ps_ind_17_bin  \\\n",
      "0              0              0              0              0              1   \n",
      "1              0              0              0              0              0   \n",
      "2              0              0              0              1              0   \n",
      "\n",
      "   ps_ind_18_bin  ps_calc_15_bin  ps_calc_16_bin  ps_calc_17_bin  \\\n",
      "0              0               0               1               1   \n",
      "1              1               0               1               1   \n",
      "2              0               0               1               1   \n",
      "\n",
      "   ps_calc_18_bin  ps_calc_19_bin  ps_calc_20_bin  \n",
      "0               0               0               1  \n",
      "1               0               1               0  \n",
      "2               0               1               0  \n",
      "bin2cat: 0    78338\n",
      "1    46084\n",
      "2    45316\n",
      "dtype: int64\n"
     ]
    }
   ],
   "source": [
    "a=BinToCat()\n",
    "a.fit(train[bin_cols])\n",
    "t=train[0:3]\n",
    "print('scale',a.scale)\n",
    "print('bin    :',t[bin_cols])\n",
    "print('bin2cat:',a.transform(t[bin_cols]))"
   ]
  },
  {
   "cell_type": "code",
   "execution_count": 5,
   "metadata": {
    "_cell_guid": "c5bdabd0-c602-4a71-a40d-3e121e886d99",
    "_uuid": "a30780102d5c5f70f2f6e360c90563fc955d7866"
   },
   "outputs": [
    {
     "name": "stdout",
     "output_type": "stream",
     "text": [
      "unique length:  2520\n",
      "0          78338\n",
      "1          46084\n",
      "2          45316\n",
      "3            257\n",
      "4          49409\n",
      "5         119048\n",
      "6          37122\n",
      "7          43265\n",
      "8          69892\n",
      "9          37890\n",
      "10        110852\n",
      "11         20738\n",
      "12         73988\n",
      "13         41218\n",
      "14         33800\n",
      "15         46082\n",
      "16          8452\n",
      "17         12545\n",
      "18         16641\n",
      "19         45313\n",
      "20         37889\n",
      "21         33025\n",
      "22         65794\n",
      "23         20738\n",
      "24         29697\n",
      "25         90369\n",
      "26         94468\n",
      "27         20744\n",
      "28         12545\n",
      "29          4353\n",
      "           ...  \n",
      "595182     49409\n",
      "595183     45313\n",
      "595184     66561\n",
      "595185     20740\n",
      "595186     24834\n",
      "595187     78088\n",
      "595188     12545\n",
      "595189     53249\n",
      "595190      8449\n",
      "595191     90628\n",
      "595192    110850\n",
      "595193     20738\n",
      "595194     12290\n",
      "595195    103426\n",
      "595196    105473\n",
      "595197     57346\n",
      "595198     12296\n",
      "595199     41220\n",
      "595200      8449\n",
      "595201     55560\n",
      "595202     45314\n",
      "595203       514\n",
      "595204     37122\n",
      "595205     10498\n",
      "595206     12552\n",
      "595207    110856\n",
      "595208    108808\n",
      "595209      8449\n",
      "595210     28932\n",
      "595211      4353\n",
      "Name: bins, Length: 595212, dtype: int64\n"
     ]
    }
   ],
   "source": [
    "train['bins']=a.transform(train[bin_cols])\n",
    "test['bins'] =a.transform(test[bin_cols])\n",
    "print('unique length: ',len(train['bins'].unique()))\n",
    "print(train['bins'])"
   ]
  },
  {
   "cell_type": "code",
   "execution_count": 6,
   "metadata": {
    "collapsed": true
   },
   "outputs": [],
   "source": [
    "train.to_csv('train.withoutbin.csv',index=False)\n",
    "test.to_csv('test.withoutbin.csv',index=False)"
   ]
  },
  {
   "cell_type": "markdown",
   "metadata": {
    "_cell_guid": "a1f6e77d-e552-4bec-8ba8-22e671ac018d",
    "_uuid": "c455165873ead00387da408e6654a465471cd101"
   },
   "source": [
    "test with categorical values - this should raise an error"
   ]
  },
  {
   "cell_type": "code",
   "execution_count": 7,
   "metadata": {
    "_cell_guid": "14b1c1e2-8ce5-4b6b-a005-c12f7d446cbb",
    "_uuid": "03938c223c06096a406d190a33956e934f5019b4"
   },
   "outputs": [
    {
     "ename": "Exception",
     "evalue": "Column ps_ind_02_cat have more than 2 values, is it binary? values: [ 2  1  4  3 -1]",
     "output_type": "error",
     "traceback": [
      "\u001b[0;31m---------------------------------------------------------------------------\u001b[0m",
      "\u001b[0;31mException\u001b[0m                                 Traceback (most recent call last)",
      "\u001b[0;32m<ipython-input-7-79701a51736b>\u001b[0m in \u001b[0;36m<module>\u001b[0;34m()\u001b[0m\n\u001b[1;32m      1\u001b[0m \u001b[0ma\u001b[0m\u001b[0;34m=\u001b[0m\u001b[0mBinToCat\u001b[0m\u001b[0;34m(\u001b[0m\u001b[0;34m)\u001b[0m\u001b[0;34m\u001b[0m\u001b[0m\n\u001b[0;32m----> 2\u001b[0;31m \u001b[0ma\u001b[0m\u001b[0;34m.\u001b[0m\u001b[0mfit\u001b[0m\u001b[0;34m(\u001b[0m\u001b[0mtrain\u001b[0m\u001b[0;34m[\u001b[0m\u001b[0mcat_cols\u001b[0m\u001b[0;34m]\u001b[0m\u001b[0;34m)\u001b[0m\u001b[0;34m\u001b[0m\u001b[0m\n\u001b[0m",
      "\u001b[0;32m<ipython-input-3-a8ac1aca82da>\u001b[0m in \u001b[0;36mfit\u001b[0;34m(self, X, y, **kwargs)\u001b[0m\n\u001b[1;32m     13\u001b[0m             \u001b[0munique_vals\u001b[0m\u001b[0;34m=\u001b[0m\u001b[0mX\u001b[0m\u001b[0;34m[\u001b[0m\u001b[0mi\u001b[0m\u001b[0;34m]\u001b[0m\u001b[0;34m.\u001b[0m\u001b[0munique\u001b[0m\u001b[0;34m(\u001b[0m\u001b[0;34m)\u001b[0m\u001b[0;34m\u001b[0m\u001b[0m\n\u001b[1;32m     14\u001b[0m             \u001b[0;32mif\u001b[0m\u001b[0;34m(\u001b[0m\u001b[0mlen\u001b[0m\u001b[0;34m(\u001b[0m\u001b[0munique_vals\u001b[0m\u001b[0;34m)\u001b[0m\u001b[0;34m>\u001b[0m\u001b[0;36m2\u001b[0m\u001b[0;34m)\u001b[0m\u001b[0;34m:\u001b[0m\u001b[0;34m\u001b[0m\u001b[0m\n\u001b[0;32m---> 15\u001b[0;31m                 \u001b[0;32mraise\u001b[0m \u001b[0mException\u001b[0m\u001b[0;34m(\u001b[0m\u001b[0;34m\"Column \"\u001b[0m\u001b[0;34m+\u001b[0m\u001b[0mi\u001b[0m\u001b[0;34m+\u001b[0m\u001b[0;34m\" have more than 2 values, is it binary? values: \"\u001b[0m\u001b[0;34m+\u001b[0m\u001b[0mstr\u001b[0m\u001b[0;34m(\u001b[0m\u001b[0munique_vals\u001b[0m\u001b[0;34m)\u001b[0m\u001b[0;34m)\u001b[0m\u001b[0;34m\u001b[0m\u001b[0m\n\u001b[0m\u001b[1;32m     16\u001b[0m             \u001b[0;32mif\u001b[0m \u001b[0;32mnot\u001b[0m \u001b[0;34m(\u001b[0m\u001b[0;36m0\u001b[0m \u001b[0;32min\u001b[0m \u001b[0munique_vals\u001b[0m \u001b[0;32mand\u001b[0m \u001b[0;36m1\u001b[0m \u001b[0;32min\u001b[0m \u001b[0munique_vals\u001b[0m\u001b[0;34m)\u001b[0m\u001b[0;34m:\u001b[0m\u001b[0;34m\u001b[0m\u001b[0m\n\u001b[1;32m     17\u001b[0m                 \u001b[0;32mraise\u001b[0m \u001b[0mException\u001b[0m\u001b[0;34m(\u001b[0m\u001b[0;34m\"Column \"\u001b[0m\u001b[0;34m+\u001b[0m\u001b[0mi\u001b[0m\u001b[0;34m+\u001b[0m\u001b[0;34m\" have values different from 0/1, is it binary? values: \"\u001b[0m\u001b[0;34m+\u001b[0m\u001b[0mstr\u001b[0m\u001b[0;34m(\u001b[0m\u001b[0munique_vals\u001b[0m\u001b[0;34m)\u001b[0m\u001b[0;34m)\u001b[0m\u001b[0;34m\u001b[0m\u001b[0m\n",
      "\u001b[0;31mException\u001b[0m: Column ps_ind_02_cat have more than 2 values, is it binary? values: [ 2  1  4  3 -1]"
     ]
    }
   ],
   "source": [
    "a=BinToCat()\n",
    "a.fit(train[cat_cols])\n"
   ]
  },
  {
   "cell_type": "markdown",
   "metadata": {
    "_cell_guid": "e6e76d7f-9b42-4137-8a7c-84e69f81682f",
    "_uuid": "6193739bf7105092dd0238d0ced830e2ba096b85",
    "collapsed": true
   },
   "source": [
    "test with many columns (more than 64) - this should generate a warning"
   ]
  },
  {
   "cell_type": "code",
   "execution_count": 8,
   "metadata": {},
   "outputs": [
    {
     "ename": "Exception",
     "evalue": "Column id have more than 2 values, is it binary? values: [      7       9      13 ..., 1488017 1488021 1488027]",
     "output_type": "error",
     "traceback": [
      "\u001b[0;31m---------------------------------------------------------------------------\u001b[0m",
      "\u001b[0;31mException\u001b[0m                                 Traceback (most recent call last)",
      "\u001b[0;32m<ipython-input-8-7f1b68e469b0>\u001b[0m in \u001b[0;36m<module>\u001b[0;34m()\u001b[0m\n\u001b[1;32m      1\u001b[0m \u001b[0ma\u001b[0m\u001b[0;34m=\u001b[0m\u001b[0mBinToCat\u001b[0m\u001b[0;34m(\u001b[0m\u001b[0;34m)\u001b[0m\u001b[0;34m\u001b[0m\u001b[0m\n\u001b[0;32m----> 2\u001b[0;31m \u001b[0ma\u001b[0m\u001b[0;34m.\u001b[0m\u001b[0mfit\u001b[0m\u001b[0;34m(\u001b[0m\u001b[0mtrain\u001b[0m\u001b[0;34m)\u001b[0m\u001b[0;34m\u001b[0m\u001b[0m\n\u001b[0m",
      "\u001b[0;32m<ipython-input-3-a8ac1aca82da>\u001b[0m in \u001b[0;36mfit\u001b[0;34m(self, X, y, **kwargs)\u001b[0m\n\u001b[1;32m     13\u001b[0m             \u001b[0munique_vals\u001b[0m\u001b[0;34m=\u001b[0m\u001b[0mX\u001b[0m\u001b[0;34m[\u001b[0m\u001b[0mi\u001b[0m\u001b[0;34m]\u001b[0m\u001b[0;34m.\u001b[0m\u001b[0munique\u001b[0m\u001b[0;34m(\u001b[0m\u001b[0;34m)\u001b[0m\u001b[0;34m\u001b[0m\u001b[0m\n\u001b[1;32m     14\u001b[0m             \u001b[0;32mif\u001b[0m\u001b[0;34m(\u001b[0m\u001b[0mlen\u001b[0m\u001b[0;34m(\u001b[0m\u001b[0munique_vals\u001b[0m\u001b[0;34m)\u001b[0m\u001b[0;34m>\u001b[0m\u001b[0;36m2\u001b[0m\u001b[0;34m)\u001b[0m\u001b[0;34m:\u001b[0m\u001b[0;34m\u001b[0m\u001b[0m\n\u001b[0;32m---> 15\u001b[0;31m                 \u001b[0;32mraise\u001b[0m \u001b[0mException\u001b[0m\u001b[0;34m(\u001b[0m\u001b[0;34m\"Column \"\u001b[0m\u001b[0;34m+\u001b[0m\u001b[0mi\u001b[0m\u001b[0;34m+\u001b[0m\u001b[0;34m\" have more than 2 values, is it binary? values: \"\u001b[0m\u001b[0;34m+\u001b[0m\u001b[0mstr\u001b[0m\u001b[0;34m(\u001b[0m\u001b[0munique_vals\u001b[0m\u001b[0;34m)\u001b[0m\u001b[0;34m)\u001b[0m\u001b[0;34m\u001b[0m\u001b[0m\n\u001b[0m\u001b[1;32m     16\u001b[0m             \u001b[0;32mif\u001b[0m \u001b[0;32mnot\u001b[0m \u001b[0;34m(\u001b[0m\u001b[0;36m0\u001b[0m \u001b[0;32min\u001b[0m \u001b[0munique_vals\u001b[0m \u001b[0;32mand\u001b[0m \u001b[0;36m1\u001b[0m \u001b[0;32min\u001b[0m \u001b[0munique_vals\u001b[0m\u001b[0;34m)\u001b[0m\u001b[0;34m:\u001b[0m\u001b[0;34m\u001b[0m\u001b[0m\n\u001b[1;32m     17\u001b[0m                 \u001b[0;32mraise\u001b[0m \u001b[0mException\u001b[0m\u001b[0;34m(\u001b[0m\u001b[0;34m\"Column \"\u001b[0m\u001b[0;34m+\u001b[0m\u001b[0mi\u001b[0m\u001b[0;34m+\u001b[0m\u001b[0;34m\" have values different from 0/1, is it binary? values: \"\u001b[0m\u001b[0;34m+\u001b[0m\u001b[0mstr\u001b[0m\u001b[0;34m(\u001b[0m\u001b[0munique_vals\u001b[0m\u001b[0;34m)\u001b[0m\u001b[0;34m)\u001b[0m\u001b[0;34m\u001b[0m\u001b[0m\n",
      "\u001b[0;31mException\u001b[0m: Column id have more than 2 values, is it binary? values: [      7       9      13 ..., 1488017 1488021 1488027]"
     ]
    }
   ],
   "source": [
    "a=BinToCat()\n",
    "a.fit(train)\n"
   ]
  },
  {
   "cell_type": "code",
   "execution_count": 9,
   "metadata": {
    "collapsed": true
   },
   "outputs": [],
   "source": []
  }
 ],
 "metadata": {
  "kernelspec": {
   "display_name": "Python 3",
   "language": "python",
   "name": "python3"
  }
 },
 "nbformat": 4,
 "nbformat_minor": 1
}
