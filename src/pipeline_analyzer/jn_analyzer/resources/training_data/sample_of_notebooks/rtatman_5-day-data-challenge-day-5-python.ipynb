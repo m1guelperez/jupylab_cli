{
 "cells": [
  {
   "cell_type": "markdown",
   "metadata": {},
   "source": [
    "I'm interested in finding out if there's a relationship between having programming background and having taken statistics. First, though, I'll need to read in my data."
   ]
  },
  {
   "cell_type": "code",
   "execution_count": 1,
   "metadata": {
    "_cell_guid": "a13e2b6a-22e0-4335-9525-19fe16375d2c",
    "_uuid": "01621fbeef615c584c127d06234e68fd4513c477",
    "collapsed": true
   },
   "outputs": [],
   "source": [
    "# import our libraries\n",
    "import scipy.stats # statistics\n",
    "import pandas as pd # dataframe\n",
    "\n",
    "# read in our data\n",
    "surveyData = pd.read_csv(\"../input/anonymous-survey-responses.csv\")"
   ]
  },
  {
   "cell_type": "markdown",
   "metadata": {},
   "source": [
    "Now let's do a chi-square test! The chisquare function from scipy.stats will only do a one-way comparison, so let's start with that."
   ]
  },
  {
   "cell_type": "code",
   "execution_count": 2,
   "metadata": {
    "_cell_guid": "297608e5-0c9a-4ae2-9b4b-47154d1035d9",
    "_uuid": "90f3f2bb4f7b2919bdecf57db1c4a8381e33f976",
    "collapsed": true
   },
   "outputs": [
    {
     "data": {
      "text/plain": [
       "Power_divergenceResult(statistic=108.50120096076861, pvalue=2.7495623442639547e-24)"
      ]
     },
     "execution_count": 2,
     "metadata": {},
     "output_type": "execute_result"
    }
   ],
   "source": [
    "# first let's do a one-way chi-squared test for stats background\n",
    "scipy.stats.chisquare(surveyData[\"Have you ever taken a course in statistics?\"].value_counts())"
   ]
  },
  {
   "cell_type": "markdown",
   "metadata": {
    "_cell_guid": "ba0483f1-c552-4711-a26f-a16bc8b08c9d",
    "_uuid": "615c70b70558e8901141adb0e7f89129c4cb1f7b"
   },
   "source": [
    "Statistic here is the chi-square value (larger = more difference from a uniform distrobution) and pvalue is the p-value, which is very low here."
   ]
  },
  {
   "cell_type": "code",
   "execution_count": 3,
   "metadata": {
    "_cell_guid": "7628146d-3401-4c9e-be35-891d2a2ae867",
    "_uuid": "24fbfd61c5ab60166c39f23c4fdb981bfc2d15ed",
    "collapsed": true
   },
   "outputs": [
    {
     "data": {
      "text/plain": [
       "Power_divergenceResult(statistic=906.20016012810243, pvalue=7.5559148788603605e-195)"
      ]
     },
     "execution_count": 3,
     "metadata": {},
     "output_type": "execute_result"
    }
   ],
   "source": [
    "# first let's do a one-way chi-squared test for programming background\n",
    "scipy.stats.chisquare(surveyData[\"Do you have any previous experience with programming?\"].value_counts())"
   ]
  },
  {
   "cell_type": "markdown",
   "metadata": {},
   "source": [
    "And, again, our p-value is very low. This means that we can be sure, for both these questions, that the people who answered them are not drawn from a pool of people who are uniformly likely to have chosen each answer."
   ]
  },
  {
   "cell_type": "markdown",
   "metadata": {},
   "source": [
    "Now let's do a two-way comparison. Is there a relationship between having programming background and having taken statistics?"
   ]
  },
  {
   "cell_type": "code",
   "execution_count": 4,
   "metadata": {
    "_cell_guid": "b8bf958a-d826-40ed-a23c-e613ffb0e3a1",
    "_uuid": "7582e5d5fea888dd51bf12c7e027b55e8375f81b",
    "collapsed": true
   },
   "outputs": [
    {
     "data": {
      "text/plain": [
       "(16.827631021435366,\n",
       " 0.03195483698199162,\n",
       " 8,\n",
       " array([[  94.48839071,  204.47878303,  162.03282626],\n",
       "        [   0.40992794,    0.88710969,    0.70296237],\n",
       "        [  43.45236189,   94.0336269 ,   74.51401121],\n",
       "        [ 108.22097678,  234.19695757,  185.58206565],\n",
       "        [   9.42834267,   20.40352282,   16.16813451]]))"
      ]
     },
     "execution_count": 4,
     "metadata": {},
     "output_type": "execute_result"
    }
   ],
   "source": [
    "# now let's do a two-way chi-square test. Is there a relationship between programming background \n",
    "# and stats background?\n",
    "\n",
    "contingencyTable = pd.crosstab(surveyData[\"Do you have any previous experience with programming?\"],\n",
    "                              surveyData[\"Have you ever taken a course in statistics?\"])\n",
    "\n",
    "scipy.stats.chi2_contingency(contingencyTable)"
   ]
  },
  {
   "cell_type": "markdown",
   "metadata": {
    "_cell_guid": "1f19b82b-95c9-4493-8976-6a7aa0e3b0bc",
    "_uuid": "58cc596cb5c5a7225884a30b37e7ec19d4fd55e2"
   },
   "source": [
    "Here, the first value (16.827) is the $\\chi^2$ value, the second value (0.032) is the p-value and the third value (8) is the degrees of freedom. Since our p-value is under our alpha of 0.05, we can say that it seems unlikely that there *isn't* a connection between these two things, right?\n",
    "\n",
    "BUT! Becuase we have preformed three tests of statistical significance we need to correct for the fact that the probability that we're going to get a significant effect just by chance increases with each test. (If you set your alpha to 0.05, you'll be wrong just by chance 1/20 times, so if you preform 20 test you're very likely to get the wrong answer on one of them & you need to correct for that.) We can do by dividing our alpha by x, where x is the number of tests we have preformed. So in this case, our p-value would have to be below a value of 0.016 to have an overall alphs of 0.05.\n",
    "\n",
    "TL;DR because we did three tests, this final result is not significant at alpha = 0.05. "
   ]
  }
 ],
 "metadata": {
  "kernelspec": {
   "display_name": "Python 3",
   "language": "python",
   "name": "python3"
  },
  "language_info": {
   "codemirror_mode": {
    "name": "ipython",
    "version": 3
   },
   "file_extension": ".py",
   "mimetype": "text/x-python",
   "name": "python",
   "nbconvert_exporter": "python",
   "pygments_lexer": "ipython3",
   "version": "3.6.3"
  }
 },
 "nbformat": 4,
 "nbformat_minor": 1
}
