{
 "cells": [
  {
   "cell_type": "markdown",
   "execution_count": null,
   "metadata": {},
   "source": [
    "## Importing Libraries"
   ]
  },
  {
   "cell_type": "code",
   "execution_count": 1,
   "metadata": {
    "_cell_guid": "b1076dfc-b9ad-4769-8c92-a6c4dae69d19",
    "_uuid": "8f2839f25d086af736a60e9eeb907d3b93b6e0e5"
   },
   "outputs": [],
   "source": [
    "import numpy as np\n",
    "import pandas as pd\n",
    "import seaborn as sns\n",
    "from xgboost import XGBClassifier\n",
    "from sklearn.model_selection import train_test_split\n",
    "import matplotlib.pyplot as plt"
   ]
  },
  {
   "cell_type": "markdown",
   "execution_count": null,
   "metadata": {},
   "source": [
    "## Loading the Dataset"
   ]
  },
  {
   "cell_type": "code",
   "execution_count": 2,
   "metadata": {
    "_cell_guid": "79c7e3d0-c299-4dcb-8224-4455121ee9b0",
    "_uuid": "d629ff2d2480ee46fbb7e2d37f6b5fab8052498a"
   },
   "outputs": [],
   "source": [
    "train = pd.read_csv('/kaggle/input/titanic/train.csv')\n",
    "test = pd.read_csv('/kaggle/input/titanic/test.csv')\n",
    "target='Survived'"
   ]
  },
  {
   "cell_type": "code",
   "execution_count": 3,
   "metadata": {},
   "outputs": [],
   "source": [
    "data = pd.concat([train,test],axis=0)"
   ]
  },
  {
   "cell_type": "code",
   "execution_count": 4,
   "metadata": {},
   "outputs": [
    {
     "data": {
      "text/html": [
       "<div>\n",
       "<style scoped>\n",
       "    .dataframe tbody tr th:only-of-type {\n",
       "        vertical-align: middle;\n",
       "    }\n",
       "\n",
       "    .dataframe tbody tr th {\n",
       "        vertical-align: top;\n",
       "    }\n",
       "\n",
       "    .dataframe thead th {\n",
       "        text-align: right;\n",
       "    }\n",
       "</style>\n",
       "<table border=\"1\" class=\"dataframe\">\n",
       "  <thead>\n",
       "    <tr style=\"text-align: right;\">\n",
       "      <th></th>\n",
       "      <th>PassengerId</th>\n",
       "      <th>Survived</th>\n",
       "      <th>Pclass</th>\n",
       "      <th>Name</th>\n",
       "      <th>Sex</th>\n",
       "      <th>Age</th>\n",
       "      <th>SibSp</th>\n",
       "      <th>Parch</th>\n",
       "      <th>Ticket</th>\n",
       "      <th>Fare</th>\n",
       "      <th>Cabin</th>\n",
       "      <th>Embarked</th>\n",
       "    </tr>\n",
       "  </thead>\n",
       "  <tbody>\n",
       "    <tr>\n",
       "      <th>0</th>\n",
       "      <td>1</td>\n",
       "      <td>0.0</td>\n",
       "      <td>3</td>\n",
       "      <td>Braund, Mr. Owen Harris</td>\n",
       "      <td>male</td>\n",
       "      <td>22.0</td>\n",
       "      <td>1</td>\n",
       "      <td>0</td>\n",
       "      <td>A/5 21171</td>\n",
       "      <td>7.2500</td>\n",
       "      <td>NaN</td>\n",
       "      <td>S</td>\n",
       "    </tr>\n",
       "    <tr>\n",
       "      <th>1</th>\n",
       "      <td>2</td>\n",
       "      <td>1.0</td>\n",
       "      <td>1</td>\n",
       "      <td>Cumings, Mrs. John Bradley (Florence Briggs Th...</td>\n",
       "      <td>female</td>\n",
       "      <td>38.0</td>\n",
       "      <td>1</td>\n",
       "      <td>0</td>\n",
       "      <td>PC 17599</td>\n",
       "      <td>71.2833</td>\n",
       "      <td>C85</td>\n",
       "      <td>C</td>\n",
       "    </tr>\n",
       "    <tr>\n",
       "      <th>2</th>\n",
       "      <td>3</td>\n",
       "      <td>1.0</td>\n",
       "      <td>3</td>\n",
       "      <td>Heikkinen, Miss. Laina</td>\n",
       "      <td>female</td>\n",
       "      <td>26.0</td>\n",
       "      <td>0</td>\n",
       "      <td>0</td>\n",
       "      <td>STON/O2. 3101282</td>\n",
       "      <td>7.9250</td>\n",
       "      <td>NaN</td>\n",
       "      <td>S</td>\n",
       "    </tr>\n",
       "    <tr>\n",
       "      <th>3</th>\n",
       "      <td>4</td>\n",
       "      <td>1.0</td>\n",
       "      <td>1</td>\n",
       "      <td>Futrelle, Mrs. Jacques Heath (Lily May Peel)</td>\n",
       "      <td>female</td>\n",
       "      <td>35.0</td>\n",
       "      <td>1</td>\n",
       "      <td>0</td>\n",
       "      <td>113803</td>\n",
       "      <td>53.1000</td>\n",
       "      <td>C123</td>\n",
       "      <td>S</td>\n",
       "    </tr>\n",
       "    <tr>\n",
       "      <th>4</th>\n",
       "      <td>5</td>\n",
       "      <td>0.0</td>\n",
       "      <td>3</td>\n",
       "      <td>Allen, Mr. William Henry</td>\n",
       "      <td>male</td>\n",
       "      <td>35.0</td>\n",
       "      <td>0</td>\n",
       "      <td>0</td>\n",
       "      <td>373450</td>\n",
       "      <td>8.0500</td>\n",
       "      <td>NaN</td>\n",
       "      <td>S</td>\n",
       "    </tr>\n",
       "  </tbody>\n",
       "</table>\n",
       "</div>"
      ],
      "text/plain": [
       "   PassengerId  Survived  Pclass  \\\n",
       "0            1       0.0       3   \n",
       "1            2       1.0       1   \n",
       "2            3       1.0       3   \n",
       "3            4       1.0       1   \n",
       "4            5       0.0       3   \n",
       "\n",
       "                                                Name     Sex   Age  SibSp  \\\n",
       "0                            Braund, Mr. Owen Harris    male  22.0      1   \n",
       "1  Cumings, Mrs. John Bradley (Florence Briggs Th...  female  38.0      1   \n",
       "2                             Heikkinen, Miss. Laina  female  26.0      0   \n",
       "3       Futrelle, Mrs. Jacques Heath (Lily May Peel)  female  35.0      1   \n",
       "4                           Allen, Mr. William Henry    male  35.0      0   \n",
       "\n",
       "   Parch            Ticket     Fare Cabin Embarked  \n",
       "0      0         A/5 21171   7.2500   NaN        S  \n",
       "1      0          PC 17599  71.2833   C85        C  \n",
       "2      0  STON/O2. 3101282   7.9250   NaN        S  \n",
       "3      0            113803  53.1000  C123        S  \n",
       "4      0            373450   8.0500   NaN        S  "
      ]
     },
     "execution_count": 4,
     "metadata": {},
     "output_type": "execute_result"
    }
   ],
   "source": [
    "data.head()"
   ]
  },
  {
   "cell_type": "code",
   "execution_count": 5,
   "metadata": {},
   "outputs": [
    {
     "data": {
      "text/plain": [
       "Name     0\n",
       "SibSp    0\n",
       "Parch    0\n",
       "dtype: int64"
      ]
     },
     "execution_count": 5,
     "metadata": {},
     "output_type": "execute_result"
    }
   ],
   "source": [
    "data[['Name','SibSp','Parch']].isna().sum()"
   ]
  },
  {
   "cell_type": "code",
   "execution_count": 6,
   "metadata": {},
   "outputs": [],
   "source": [
    "data['Name_title']=data['Name'].apply(lambda x: x.split(',')[1]).apply(lambda x: x.split('.')[0])\n",
    "data['Family_size']=data['SibSp']+data['Parch']+1\n",
    "data['Solo']=0\n",
    "data.loc[data['Family_size']==1,'Solo']=1"
   ]
  },
  {
   "cell_type": "markdown",
   "execution_count": null,
   "metadata": {},
   "source": [
    "The mean of the Target column is around 0.383 which means there exists class imbalance in the target variable which should be taken care of. The distribution of Survived and Not Survived population is 38% and 62% respectively."
   ]
  },
  {
   "cell_type": "code",
   "execution_count": 7,
   "metadata": {},
   "outputs": [
    {
     "data": {
      "text/html": [
       "<div>\n",
       "<style scoped>\n",
       "    .dataframe tbody tr th:only-of-type {\n",
       "        vertical-align: middle;\n",
       "    }\n",
       "\n",
       "    .dataframe tbody tr th {\n",
       "        vertical-align: top;\n",
       "    }\n",
       "\n",
       "    .dataframe thead th {\n",
       "        text-align: right;\n",
       "    }\n",
       "</style>\n",
       "<table border=\"1\" class=\"dataframe\">\n",
       "  <thead>\n",
       "    <tr style=\"text-align: right;\">\n",
       "      <th></th>\n",
       "      <th>PassengerId</th>\n",
       "      <th>Survived</th>\n",
       "      <th>Pclass</th>\n",
       "      <th>Name</th>\n",
       "      <th>Sex</th>\n",
       "      <th>Age</th>\n",
       "      <th>SibSp</th>\n",
       "      <th>Parch</th>\n",
       "      <th>Ticket</th>\n",
       "      <th>Fare</th>\n",
       "      <th>Cabin</th>\n",
       "      <th>Embarked</th>\n",
       "      <th>Name_title</th>\n",
       "      <th>Family_size</th>\n",
       "      <th>Solo</th>\n",
       "    </tr>\n",
       "  </thead>\n",
       "  <tbody>\n",
       "    <tr>\n",
       "      <th>count</th>\n",
       "      <td>1309.000000</td>\n",
       "      <td>891.000000</td>\n",
       "      <td>1309.000000</td>\n",
       "      <td>1309</td>\n",
       "      <td>1309</td>\n",
       "      <td>1046.000000</td>\n",
       "      <td>1309.000000</td>\n",
       "      <td>1309.000000</td>\n",
       "      <td>1309</td>\n",
       "      <td>1308.000000</td>\n",
       "      <td>295</td>\n",
       "      <td>1307</td>\n",
       "      <td>1309</td>\n",
       "      <td>1309.000000</td>\n",
       "      <td>1309.000000</td>\n",
       "    </tr>\n",
       "    <tr>\n",
       "      <th>unique</th>\n",
       "      <td>NaN</td>\n",
       "      <td>NaN</td>\n",
       "      <td>NaN</td>\n",
       "      <td>1307</td>\n",
       "      <td>2</td>\n",
       "      <td>NaN</td>\n",
       "      <td>NaN</td>\n",
       "      <td>NaN</td>\n",
       "      <td>929</td>\n",
       "      <td>NaN</td>\n",
       "      <td>186</td>\n",
       "      <td>3</td>\n",
       "      <td>18</td>\n",
       "      <td>NaN</td>\n",
       "      <td>NaN</td>\n",
       "    </tr>\n",
       "    <tr>\n",
       "      <th>top</th>\n",
       "      <td>NaN</td>\n",
       "      <td>NaN</td>\n",
       "      <td>NaN</td>\n",
       "      <td>Kelly, Mr. James</td>\n",
       "      <td>male</td>\n",
       "      <td>NaN</td>\n",
       "      <td>NaN</td>\n",
       "      <td>NaN</td>\n",
       "      <td>CA. 2343</td>\n",
       "      <td>NaN</td>\n",
       "      <td>C23 C25 C27</td>\n",
       "      <td>S</td>\n",
       "      <td>Mr</td>\n",
       "      <td>NaN</td>\n",
       "      <td>NaN</td>\n",
       "    </tr>\n",
       "    <tr>\n",
       "      <th>freq</th>\n",
       "      <td>NaN</td>\n",
       "      <td>NaN</td>\n",
       "      <td>NaN</td>\n",
       "      <td>2</td>\n",
       "      <td>843</td>\n",
       "      <td>NaN</td>\n",
       "      <td>NaN</td>\n",
       "      <td>NaN</td>\n",
       "      <td>11</td>\n",
       "      <td>NaN</td>\n",
       "      <td>6</td>\n",
       "      <td>914</td>\n",
       "      <td>757</td>\n",
       "      <td>NaN</td>\n",
       "      <td>NaN</td>\n",
       "    </tr>\n",
       "    <tr>\n",
       "      <th>mean</th>\n",
       "      <td>655.000000</td>\n",
       "      <td>0.383838</td>\n",
       "      <td>2.294882</td>\n",
       "      <td>NaN</td>\n",
       "      <td>NaN</td>\n",
       "      <td>29.881138</td>\n",
       "      <td>0.498854</td>\n",
       "      <td>0.385027</td>\n",
       "      <td>NaN</td>\n",
       "      <td>33.295479</td>\n",
       "      <td>NaN</td>\n",
       "      <td>NaN</td>\n",
       "      <td>NaN</td>\n",
       "      <td>1.883881</td>\n",
       "      <td>0.603514</td>\n",
       "    </tr>\n",
       "    <tr>\n",
       "      <th>std</th>\n",
       "      <td>378.020061</td>\n",
       "      <td>0.486592</td>\n",
       "      <td>0.837836</td>\n",
       "      <td>NaN</td>\n",
       "      <td>NaN</td>\n",
       "      <td>14.413493</td>\n",
       "      <td>1.041658</td>\n",
       "      <td>0.865560</td>\n",
       "      <td>NaN</td>\n",
       "      <td>51.758668</td>\n",
       "      <td>NaN</td>\n",
       "      <td>NaN</td>\n",
       "      <td>NaN</td>\n",
       "      <td>1.583639</td>\n",
       "      <td>0.489354</td>\n",
       "    </tr>\n",
       "    <tr>\n",
       "      <th>min</th>\n",
       "      <td>1.000000</td>\n",
       "      <td>0.000000</td>\n",
       "      <td>1.000000</td>\n",
       "      <td>NaN</td>\n",
       "      <td>NaN</td>\n",
       "      <td>0.170000</td>\n",
       "      <td>0.000000</td>\n",
       "      <td>0.000000</td>\n",
       "      <td>NaN</td>\n",
       "      <td>0.000000</td>\n",
       "      <td>NaN</td>\n",
       "      <td>NaN</td>\n",
       "      <td>NaN</td>\n",
       "      <td>1.000000</td>\n",
       "      <td>0.000000</td>\n",
       "    </tr>\n",
       "    <tr>\n",
       "      <th>25%</th>\n",
       "      <td>328.000000</td>\n",
       "      <td>0.000000</td>\n",
       "      <td>2.000000</td>\n",
       "      <td>NaN</td>\n",
       "      <td>NaN</td>\n",
       "      <td>21.000000</td>\n",
       "      <td>0.000000</td>\n",
       "      <td>0.000000</td>\n",
       "      <td>NaN</td>\n",
       "      <td>7.895800</td>\n",
       "      <td>NaN</td>\n",
       "      <td>NaN</td>\n",
       "      <td>NaN</td>\n",
       "      <td>1.000000</td>\n",
       "      <td>0.000000</td>\n",
       "    </tr>\n",
       "    <tr>\n",
       "      <th>50%</th>\n",
       "      <td>655.000000</td>\n",
       "      <td>0.000000</td>\n",
       "      <td>3.000000</td>\n",
       "      <td>NaN</td>\n",
       "      <td>NaN</td>\n",
       "      <td>28.000000</td>\n",
       "      <td>0.000000</td>\n",
       "      <td>0.000000</td>\n",
       "      <td>NaN</td>\n",
       "      <td>14.454200</td>\n",
       "      <td>NaN</td>\n",
       "      <td>NaN</td>\n",
       "      <td>NaN</td>\n",
       "      <td>1.000000</td>\n",
       "      <td>1.000000</td>\n",
       "    </tr>\n",
       "    <tr>\n",
       "      <th>75%</th>\n",
       "      <td>982.000000</td>\n",
       "      <td>1.000000</td>\n",
       "      <td>3.000000</td>\n",
       "      <td>NaN</td>\n",
       "      <td>NaN</td>\n",
       "      <td>39.000000</td>\n",
       "      <td>1.000000</td>\n",
       "      <td>0.000000</td>\n",
       "      <td>NaN</td>\n",
       "      <td>31.275000</td>\n",
       "      <td>NaN</td>\n",
       "      <td>NaN</td>\n",
       "      <td>NaN</td>\n",
       "      <td>2.000000</td>\n",
       "      <td>1.000000</td>\n",
       "    </tr>\n",
       "    <tr>\n",
       "      <th>max</th>\n",
       "      <td>1309.000000</td>\n",
       "      <td>1.000000</td>\n",
       "      <td>3.000000</td>\n",
       "      <td>NaN</td>\n",
       "      <td>NaN</td>\n",
       "      <td>80.000000</td>\n",
       "      <td>8.000000</td>\n",
       "      <td>9.000000</td>\n",
       "      <td>NaN</td>\n",
       "      <td>512.329200</td>\n",
       "      <td>NaN</td>\n",
       "      <td>NaN</td>\n",
       "      <td>NaN</td>\n",
       "      <td>11.000000</td>\n",
       "      <td>1.000000</td>\n",
       "    </tr>\n",
       "  </tbody>\n",
       "</table>\n",
       "</div>"
      ],
      "text/plain": [
       "        PassengerId    Survived       Pclass              Name   Sex  \\\n",
       "count   1309.000000  891.000000  1309.000000              1309  1309   \n",
       "unique          NaN         NaN          NaN              1307     2   \n",
       "top             NaN         NaN          NaN  Kelly, Mr. James  male   \n",
       "freq            NaN         NaN          NaN                 2   843   \n",
       "mean     655.000000    0.383838     2.294882               NaN   NaN   \n",
       "std      378.020061    0.486592     0.837836               NaN   NaN   \n",
       "min        1.000000    0.000000     1.000000               NaN   NaN   \n",
       "25%      328.000000    0.000000     2.000000               NaN   NaN   \n",
       "50%      655.000000    0.000000     3.000000               NaN   NaN   \n",
       "75%      982.000000    1.000000     3.000000               NaN   NaN   \n",
       "max     1309.000000    1.000000     3.000000               NaN   NaN   \n",
       "\n",
       "                Age        SibSp        Parch    Ticket         Fare  \\\n",
       "count   1046.000000  1309.000000  1309.000000      1309  1308.000000   \n",
       "unique          NaN          NaN          NaN       929          NaN   \n",
       "top             NaN          NaN          NaN  CA. 2343          NaN   \n",
       "freq            NaN          NaN          NaN        11          NaN   \n",
       "mean      29.881138     0.498854     0.385027       NaN    33.295479   \n",
       "std       14.413493     1.041658     0.865560       NaN    51.758668   \n",
       "min        0.170000     0.000000     0.000000       NaN     0.000000   \n",
       "25%       21.000000     0.000000     0.000000       NaN     7.895800   \n",
       "50%       28.000000     0.000000     0.000000       NaN    14.454200   \n",
       "75%       39.000000     1.000000     0.000000       NaN    31.275000   \n",
       "max       80.000000     8.000000     9.000000       NaN   512.329200   \n",
       "\n",
       "              Cabin Embarked Name_title  Family_size         Solo  \n",
       "count           295     1307       1309  1309.000000  1309.000000  \n",
       "unique          186        3         18          NaN          NaN  \n",
       "top     C23 C25 C27        S         Mr          NaN          NaN  \n",
       "freq              6      914        757          NaN          NaN  \n",
       "mean            NaN      NaN        NaN     1.883881     0.603514  \n",
       "std             NaN      NaN        NaN     1.583639     0.489354  \n",
       "min             NaN      NaN        NaN     1.000000     0.000000  \n",
       "25%             NaN      NaN        NaN     1.000000     0.000000  \n",
       "50%             NaN      NaN        NaN     1.000000     1.000000  \n",
       "75%             NaN      NaN        NaN     2.000000     1.000000  \n",
       "max             NaN      NaN        NaN    11.000000     1.000000  "
      ]
     },
     "execution_count": 7,
     "metadata": {},
     "output_type": "execute_result"
    }
   ],
   "source": [
    "data.describe(include='all')"
   ]
  },
  {
   "cell_type": "code",
   "execution_count": 8,
   "metadata": {},
   "outputs": [
    {
     "data": {
      "text/plain": [
       "PassengerId    1309\n",
       "Survived          2\n",
       "Pclass            3\n",
       "Name           1307\n",
       "Sex               2\n",
       "Age              98\n",
       "SibSp             7\n",
       "Parch             8\n",
       "Ticket          929\n",
       "Fare            281\n",
       "Cabin           186\n",
       "Embarked          3\n",
       "Name_title       18\n",
       "Family_size       9\n",
       "Solo              2\n",
       "dtype: int64"
      ]
     },
     "execution_count": 8,
     "metadata": {},
     "output_type": "execute_result"
    }
   ],
   "source": [
    "data.nunique()"
   ]
  },
  {
   "cell_type": "markdown",
   "execution_count": null,
   "metadata": {},
   "source": [
    "Few numerical columns are having very few unique values and hence they can be categorical variables.\n",
    "So we need to convert those columns into dummy variables."
   ]
  },
  {
   "cell_type": "code",
   "execution_count": 9,
   "metadata": {},
   "outputs": [],
   "source": [
    "# data= pd.get_dummies(data,columns=['Pclass','Sex','SibSp','Parch'])"
   ]
  },
  {
   "cell_type": "code",
   "execution_count": 10,
   "metadata": {},
   "outputs": [
    {
     "data": {
      "text/plain": [
       "PassengerId       0\n",
       "Survived        418\n",
       "Pclass            0\n",
       "Name              0\n",
       "Sex               0\n",
       "Age             263\n",
       "SibSp             0\n",
       "Parch             0\n",
       "Ticket            0\n",
       "Fare              1\n",
       "Cabin          1014\n",
       "Embarked          2\n",
       "Name_title        0\n",
       "Family_size       0\n",
       "Solo              0\n",
       "dtype: int64"
      ]
     },
     "execution_count": 10,
     "metadata": {},
     "output_type": "execute_result"
    }
   ],
   "source": [
    "data.isna().sum()"
   ]
  },
  {
   "cell_type": "markdown",
   "execution_count": null,
   "metadata": {},
   "source": [
    "Columns with missing values are :\n",
    "* Fare\n",
    "* Age\n",
    "* Cabin\n",
    "* Embarked"
   ]
  },
  {
   "cell_type": "code",
   "execution_count": 11,
   "metadata": {},
   "outputs": [
    {
     "data": {
      "text/plain": [
       "<matplotlib.axes._subplots.AxesSubplot at 0x7f6c93be4cd0>"
      ]
     },
     "execution_count": 11,
     "metadata": {},
     "output_type": "execute_result"
    },
    {
     "data": {
      "image/png": "[encoded data removed]",
      "text/plain": [
       "<Figure size 864x864 with 2 Axes>"
      ]
     },
     "metadata": {
      "needs_background": "light"
     },
     "output_type": "display_data"
    }
   ],
   "source": [
    "plt.figure(figsize=(12,12))\n",
    "sns.heatmap(data.corr())"
   ]
  },
  {
   "cell_type": "markdown",
   "execution_count": null,
   "metadata": {},
   "source": [
    "## Handling missing values."
   ]
  },
  {
   "cell_type": "markdown",
   "execution_count": null,
   "metadata": {},
   "source": [
    "### Embarked"
   ]
  },
  {
   "cell_type": "code",
   "execution_count": 12,
   "metadata": {},
   "outputs": [
    {
     "data": {
      "text/plain": [
       "2"
      ]
     },
     "execution_count": 12,
     "metadata": {},
     "output_type": "execute_result"
    }
   ],
   "source": [
    "data['Embarked'].isna().sum()"
   ]
  },
  {
   "cell_type": "code",
   "execution_count": 13,
   "metadata": {},
   "outputs": [],
   "source": [
    "emb_train = data.loc[data['Embarked'].notna(),['Pclass','Fare','Parch','SibSp','Embarked']]\n",
    "emb_missed= data.loc[data['Embarked'].isna(),['Pclass','Fare','Parch','SibSp']]\n",
    "emb_train=emb_train.dropna()\n",
    "emb_train=pd.get_dummies(emb_train,columns=['Pclass','Parch','SibSp'])\n",
    "emb_missed=pd.get_dummies(emb_missed,columns=['Pclass','Parch','SibSp'])"
   ]
  },
  {
   "cell_type": "code",
   "execution_count": 14,
   "metadata": {},
   "outputs": [],
   "source": [
    "emb_x=emb_train.columns[emb_train.columns != 'Embarked'].tolist()\n",
    "emb_y='Embarked'\n",
    "emb_train1, emb_val, train1_embarked,val_embarked = train_test_split(emb_train[emb_x],emb_train[emb_y],stratify=emb_train[emb_y], test_size=0.15, random_state=122)"
   ]
  },
  {
   "cell_type": "code",
   "execution_count": 15,
   "metadata": {},
   "outputs": [
    {
     "name": "stdout",
     "output_type": "stream",
     "text": [
      "Accuracy: 86%\n"
     ]
    }
   ],
   "source": [
    "from sklearn.neighbors import KNeighborsClassifier \n",
    "knn = KNeighborsClassifier(n_neighbors = 3).fit(emb_train1, train1_embarked)\n",
    "print('Accuracy: {:.0f}%'.format(knn.score(emb_val,val_embarked)*100))\n",
    "del(emb_train1, emb_val, train1_embarked,val_embarked)"
   ]
  },
  {
   "cell_type": "markdown",
   "execution_count": null,
   "metadata": {},
   "source": [
    "Using K-Nearest Neighbours classifier with *n_neighbors = 3* we got a validation accuracy of ~86%. Using this we will impute the missing Embarked values."
   ]
  },
  {
   "cell_type": "code",
   "execution_count": 16,
   "metadata": {},
   "outputs": [],
   "source": [
    "emb_model = KNeighborsClassifier(n_neighbors=3)\n",
    "emb_model.fit(emb_train[emb_x],emb_train[emb_y])\n",
    "data_emb=data.copy()\n",
    "data_emb=pd.get_dummies(data_emb,columns=['Pclass','Parch','SibSp'])\n",
    "data.loc[data['Embarked'].isna(),'Embarked']=emb_model.predict(data_emb.loc[data_emb['Embarked'].isna(),emb_x])\n",
    "del(data_emb,emb_x,emb_y)"
   ]
  },
  {
   "cell_type": "code",
   "execution_count": 17,
   "metadata": {},
   "outputs": [
    {
     "data": {
      "text/plain": [
       "0"
      ]
     },
     "execution_count": 17,
     "metadata": {},
     "output_type": "execute_result"
    }
   ],
   "source": [
    "data['Embarked'].isna().sum()"
   ]
  },
  {
   "cell_type": "markdown",
   "execution_count": null,
   "metadata": {},
   "source": [
    "### Fare"
   ]
  },
  {
   "cell_type": "markdown",
   "execution_count": null,
   "metadata": {},
   "source": [
    "The fare should be dependent on the Passenger Class and Embarkment location mainly.\n",
    "So testing this hypothesis"
   ]
  },
  {
   "cell_type": "code",
   "execution_count": 18,
   "metadata": {},
   "outputs": [
    {
     "data": {
      "text/plain": [
       "1"
      ]
     },
     "execution_count": 18,
     "metadata": {},
     "output_type": "execute_result"
    }
   ],
   "source": [
    "data['Fare'].isna().sum()"
   ]
  },
  {
   "cell_type": "markdown",
   "execution_count": null,
   "metadata": {},
   "source": [
    "**Mapping the Fare values of Test data to the closest Fare values for the train data.**"
   ]
  },
  {
   "cell_type": "code",
   "execution_count": 19,
   "metadata": {},
   "outputs": [],
   "source": [
    "#Function to get the closest value from the dataset for the passed value\n",
    "def get_closest(data,value):\n",
    "    a=data.unique().tolist()\n",
    "    min_idx=min(range(len(a)),key=lambda i: abs(a[i]-value))\n",
    "    return a[min_idx]"
   ]
  },
  {
   "cell_type": "code",
   "execution_count": 20,
   "metadata": {},
   "outputs": [
    {
     "name": "stderr",
     "output_type": "stream",
     "text": [
      "/opt/conda/lib/python3.7/site-packages/ipykernel_launcher.py:1: SettingWithCopyWarning: \n",
      "A value is trying to be set on a copy of a slice from a DataFrame.\n",
      "Try using .loc[row_indexer,col_indexer] = value instead\n",
      "\n",
      "See the caveats in the documentation: https://pandas.pydata.org/pandas-docs/stable/user_guide/indexing.html#returning-a-view-versus-a-copy\n",
      "  \"\"\"Entry point for launching an IPython kernel.\n"
     ]
    }
   ],
   "source": [
    "data[data[target].isna()]['Fare']=data[data[target].isna()]['Fare'].apply(lambda x: get_closest(data[data[target].notna()]['Fare'],x))"
   ]
  },
  {
   "cell_type": "code",
   "execution_count": 21,
   "metadata": {},
   "outputs": [
    {
     "data": {
      "text/plain": [
       "Embarked  Pclass\n",
       "C         1         106.469871\n",
       "          2          23.300593\n",
       "          3          11.021624\n",
       "Q         1          90.000000\n",
       "          2          11.735114\n",
       "          3          10.390820\n",
       "S         1          72.148094\n",
       "          2          21.206921\n",
       "          3          14.435422\n",
       "Name: Fare, dtype: float64"
      ]
     },
     "execution_count": 21,
     "metadata": {},
     "output_type": "execute_result"
    }
   ],
   "source": [
    "data.groupby(['Embarked','Pclass'])['Fare'].mean()"
   ]
  },
  {
   "cell_type": "markdown",
   "execution_count": null,
   "metadata": {},
   "source": [
    "It can seen that the fares for different embarkment location has a decreasing mean with the downgradation of Passenger Class."
   ]
  },
  {
   "cell_type": "code",
   "execution_count": 22,
   "metadata": {},
   "outputs": [
    {
     "data": {
      "text/html": [
       "<div>\n",
       "<style scoped>\n",
       "    .dataframe tbody tr th:only-of-type {\n",
       "        vertical-align: middle;\n",
       "    }\n",
       "\n",
       "    .dataframe tbody tr th {\n",
       "        vertical-align: top;\n",
       "    }\n",
       "\n",
       "    .dataframe thead th {\n",
       "        text-align: right;\n",
       "    }\n",
       "</style>\n",
       "<table border=\"1\" class=\"dataframe\">\n",
       "  <thead>\n",
       "    <tr style=\"text-align: right;\">\n",
       "      <th></th>\n",
       "      <th>Pclass</th>\n",
       "      <th>Embarked</th>\n",
       "    </tr>\n",
       "  </thead>\n",
       "  <tbody>\n",
       "    <tr>\n",
       "      <th>152</th>\n",
       "      <td>3</td>\n",
       "      <td>S</td>\n",
       "    </tr>\n",
       "  </tbody>\n",
       "</table>\n",
       "</div>"
      ],
      "text/plain": [
       "     Pclass Embarked\n",
       "152       3        S"
      ]
     },
     "execution_count": 22,
     "metadata": {},
     "output_type": "execute_result"
    }
   ],
   "source": [
    "#Getting the Pclass and Embarked of the missing value of Fare\n",
    "data.loc[data['Fare'].isna(),['Pclass','Embarked']]"
   ]
  },
  {
   "cell_type": "code",
   "execution_count": 23,
   "metadata": {},
   "outputs": [],
   "source": [
    "#Since the mean of Pclass=3 and Embarked=S is 14.44\n",
    "Fare=data.loc[(data[target].isna())&(data['Pclass']==3)&(data['Embarked']=='S'),'Fare'].unique().tolist()\n",
    "data.loc[data['Fare'].isna(),'Fare']=Fare[min(range(len(Fare)),key=lambda i: abs(Fare[i]-14.435422))]"
   ]
  },
  {
   "cell_type": "code",
   "execution_count": 24,
   "metadata": {},
   "outputs": [
    {
     "data": {
      "text/plain": [
       "0"
      ]
     },
     "execution_count": 24,
     "metadata": {},
     "output_type": "execute_result"
    }
   ],
   "source": [
    "data['Fare'].isna().sum()"
   ]
  },
  {
   "cell_type": "markdown",
   "execution_count": null,
   "metadata": {},
   "source": [
    "### Age"
   ]
  },
  {
   "cell_type": "code",
   "execution_count": 25,
   "metadata": {},
   "outputs": [
    {
     "data": {
      "text/plain": [
       "263"
      ]
     },
     "execution_count": 25,
     "metadata": {},
     "output_type": "execute_result"
    }
   ],
   "source": [
    "data['Age'].isna().sum()"
   ]
  },
  {
   "cell_type": "code",
   "execution_count": 26,
   "metadata": {},
   "outputs": [
    {
     "data": {
      "text/plain": [
       " Mr              581\n",
       " Miss            210\n",
       " Mrs             170\n",
       " Master           53\n",
       " Rev               8\n",
       " Dr                7\n",
       " Col               4\n",
       " Major             2\n",
       " Mlle              2\n",
       " Jonkheer          1\n",
       " Capt              1\n",
       " Lady              1\n",
       " the Countess      1\n",
       " Dona              1\n",
       " Ms                1\n",
       " Mme               1\n",
       " Don               1\n",
       " Sir               1\n",
       "Name: Name_title, dtype: int64"
      ]
     },
     "execution_count": 26,
     "metadata": {},
     "output_type": "execute_result"
    }
   ],
   "source": [
    "data.loc[data['Age'].notna(),'Name_title'].value_counts()"
   ]
  },
  {
   "cell_type": "code",
   "execution_count": 27,
   "metadata": {},
   "outputs": [
    {
     "data": {
      "text/plain": [
       " Mr        176\n",
       " Miss       50\n",
       " Mrs        27\n",
       " Master      8\n",
       " Ms          1\n",
       " Dr          1\n",
       "Name: Name_title, dtype: int64"
      ]
     },
     "execution_count": 27,
     "metadata": {},
     "output_type": "execute_result"
    }
   ],
   "source": [
    "data.loc[data['Age'].isna(),'Name_title'].value_counts()"
   ]
  },
  {
   "cell_type": "code",
   "execution_count": 28,
   "metadata": {},
   "outputs": [
    {
     "name": "stdout",
     "output_type": "stream",
     "text": [
      "{'n_neighbors': 18}\n"
     ]
    }
   ],
   "source": [
    "from sklearn.neighbors import KNeighborsRegressor\n",
    "from sklearn.metrics import mean_squared_error\n",
    "from math import sqrt\n",
    "age_df=data[data['Age'].notna()][['Name_title','Solo','Age']]\n",
    "age_df=pd.get_dummies(age_df,columns=['Name_title'],drop_first=True)\n",
    "age_feat=age_df.columns[age_df.columns != 'Age'].tolist()\n",
    "age_train,age_val,age_train_lbl,age_val_lbl=train_test_split(age_df[age_feat],age_df['Age'], test_size = 0.3,random_state=10)\n",
    "    \n",
    "from sklearn.model_selection import GridSearchCV\n",
    "params = {'n_neighbors':range(1,20)}\n",
    "\n",
    "knn = KNeighborsRegressor()\n",
    "\n",
    "model = GridSearchCV(knn, params, cv=25)\n",
    "model.fit(age_train,age_train_lbl)\n",
    "print(model.best_params_)\n",
    "\n",
    "del(age_train,age_val,age_train_lbl,age_val_lbl,model)"
   ]
  },
  {
   "cell_type": "markdown",
   "execution_count": null,
   "metadata": {},
   "source": [
    "The least error is obtained using K = 18"
   ]
  },
  {
   "cell_type": "code",
   "execution_count": 29,
   "metadata": {},
   "outputs": [],
   "source": [
    "age_model = KNeighborsRegressor(n_neighbors=18)\n",
    "age_model.fit(age_df[age_feat],age_df['Age'])\n",
    "data_age=data.copy()\n",
    "data_age=pd.get_dummies(data_age,columns=['Name_title'])\n",
    "data.loc[data['Age'].isna(),'Age']=age_model.predict(data_age.loc[data_age['Age'].isna(),age_feat])\n",
    "del(age_df,data_age,age_feat,age_model)"
   ]
  },
  {
   "cell_type": "code",
   "execution_count": 30,
   "metadata": {},
   "outputs": [
    {
     "data": {
      "text/plain": [
       "0"
      ]
     },
     "execution_count": 30,
     "metadata": {},
     "output_type": "execute_result"
    }
   ],
   "source": [
    "data['Age'].isna().sum()"
   ]
  },
  {
   "cell_type": "markdown",
   "execution_count": null,
   "metadata": {},
   "source": [
    "### Preprocessing\n",
    "* Drop columns **PassengerId**,**Cabin**,**Name** and **Ticket**.\n",
    "* Divide columns **Age** and **Fare** into bins."
   ]
  },
  {
   "cell_type": "code",
   "execution_count": 31,
   "metadata": {},
   "outputs": [],
   "source": [
    "data['Age_bins']=pd.qcut(data['Age'],5)\n",
    "data['Fare_bins']=pd.qcut(data['Fare'],4)"
   ]
  },
  {
   "cell_type": "code",
   "execution_count": 32,
   "metadata": {},
   "outputs": [],
   "source": [
    "data=data.drop(['PassengerId','Cabin','Name','SibSp','Parch','Ticket','Age','Fare'],axis=1)"
   ]
  },
  {
   "cell_type": "code",
   "execution_count": 33,
   "metadata": {},
   "outputs": [
    {
     "data": {
      "text/html": [
       "<div>\n",
       "<style scoped>\n",
       "    .dataframe tbody tr th:only-of-type {\n",
       "        vertical-align: middle;\n",
       "    }\n",
       "\n",
       "    .dataframe tbody tr th {\n",
       "        vertical-align: top;\n",
       "    }\n",
       "\n",
       "    .dataframe thead th {\n",
       "        text-align: right;\n",
       "    }\n",
       "</style>\n",
       "<table border=\"1\" class=\"dataframe\">\n",
       "  <thead>\n",
       "    <tr style=\"text-align: right;\">\n",
       "      <th></th>\n",
       "      <th>Survived</th>\n",
       "      <th>Pclass</th>\n",
       "      <th>Sex</th>\n",
       "      <th>Embarked</th>\n",
       "      <th>Name_title</th>\n",
       "      <th>Family_size</th>\n",
       "      <th>Solo</th>\n",
       "      <th>Age_bins</th>\n",
       "      <th>Fare_bins</th>\n",
       "    </tr>\n",
       "  </thead>\n",
       "  <tbody>\n",
       "    <tr>\n",
       "      <th>0</th>\n",
       "      <td>0.0</td>\n",
       "      <td>3</td>\n",
       "      <td>0</td>\n",
       "      <td>S</td>\n",
       "      <td>Mr</td>\n",
       "      <td>2</td>\n",
       "      <td>0</td>\n",
       "      <td>(20.0, 27.0]</td>\n",
       "      <td>(-0.001, 7.896]</td>\n",
       "    </tr>\n",
       "    <tr>\n",
       "      <th>1</th>\n",
       "      <td>1.0</td>\n",
       "      <td>1</td>\n",
       "      <td>1</td>\n",
       "      <td>C</td>\n",
       "      <td>Mrs</td>\n",
       "      <td>2</td>\n",
       "      <td>0</td>\n",
       "      <td>(34.0, 39.0]</td>\n",
       "      <td>(31.275, 512.329]</td>\n",
       "    </tr>\n",
       "    <tr>\n",
       "      <th>2</th>\n",
       "      <td>1.0</td>\n",
       "      <td>3</td>\n",
       "      <td>1</td>\n",
       "      <td>S</td>\n",
       "      <td>Miss</td>\n",
       "      <td>1</td>\n",
       "      <td>1</td>\n",
       "      <td>(20.0, 27.0]</td>\n",
       "      <td>(7.896, 14.454]</td>\n",
       "    </tr>\n",
       "    <tr>\n",
       "      <th>3</th>\n",
       "      <td>1.0</td>\n",
       "      <td>1</td>\n",
       "      <td>1</td>\n",
       "      <td>S</td>\n",
       "      <td>Mrs</td>\n",
       "      <td>2</td>\n",
       "      <td>0</td>\n",
       "      <td>(34.0, 39.0]</td>\n",
       "      <td>(31.275, 512.329]</td>\n",
       "    </tr>\n",
       "    <tr>\n",
       "      <th>4</th>\n",
       "      <td>0.0</td>\n",
       "      <td>3</td>\n",
       "      <td>0</td>\n",
       "      <td>S</td>\n",
       "      <td>Mr</td>\n",
       "      <td>1</td>\n",
       "      <td>1</td>\n",
       "      <td>(34.0, 39.0]</td>\n",
       "      <td>(7.896, 14.454]</td>\n",
       "    </tr>\n",
       "  </tbody>\n",
       "</table>\n",
       "</div>"
      ],
      "text/plain": [
       "   Survived  Pclass  Sex Embarked Name_title  Family_size  Solo      Age_bins  \\\n",
       "0       0.0       3    0        S         Mr            2     0  (20.0, 27.0]   \n",
       "1       1.0       1    1        C        Mrs            2     0  (34.0, 39.0]   \n",
       "2       1.0       3    1        S       Miss            1     1  (20.0, 27.0]   \n",
       "3       1.0       1    1        S        Mrs            2     0  (34.0, 39.0]   \n",
       "4       0.0       3    0        S         Mr            1     1  (34.0, 39.0]   \n",
       "\n",
       "           Fare_bins  \n",
       "0    (-0.001, 7.896]  \n",
       "1  (31.275, 512.329]  \n",
       "2    (7.896, 14.454]  \n",
       "3  (31.275, 512.329]  \n",
       "4    (7.896, 14.454]  "
      ]
     },
     "execution_count": 33,
     "metadata": {},
     "output_type": "execute_result"
    }
   ],
   "source": [
    "data['Sex'] = data['Sex'].map({'male':0,'female':1})\n",
    "data.head()"
   ]
  },
  {
   "cell_type": "code",
   "execution_count": 34,
   "metadata": {},
   "outputs": [],
   "source": [
    "data=pd.get_dummies(data,columns=['Pclass','Name_title','Embarked','Age_bins','Fare_bins'],drop_first=True)\n",
    "features=data.columns.tolist()\n",
    "features.remove(target)\n",
    "data_train=data.loc[data[target].notna()]\n",
    "data_test=data.loc[data[target].isna()]"
   ]
  },
  {
   "cell_type": "code",
   "execution_count": 35,
   "metadata": {},
   "outputs": [],
   "source": [
    "x_train=data_train[features]\n",
    "y_train=data_train[target].astype(int)\n",
    "x_test=data_test[features]"
   ]
  },
  {
   "cell_type": "code",
   "execution_count": 36,
   "metadata": {},
   "outputs": [],
   "source": [
    "y_train = np.array(y_train)"
   ]
  },
  {
   "cell_type": "code",
   "execution_count": 37,
   "metadata": {},
   "outputs": [
    {
     "data": {
      "text/plain": [
       "array([[-0.73769513,  0.05915988, -1.2316449 , ..., -0.57951021,\n",
       "        -0.58815087, -0.56395686],\n",
       "       [ 1.35557354,  0.05915988, -1.2316449 , ..., -0.57951021,\n",
       "        -0.58815087,  1.77318528],\n",
       "       [ 1.35557354, -0.56097483,  0.81192233, ...,  1.72559514,\n",
       "        -0.58815087, -0.56395686],\n",
       "       ...,\n",
       "       [ 1.35557354,  1.29942929, -1.2316449 , ..., -0.57951021,\n",
       "         1.70024401, -0.56395686],\n",
       "       [-0.73769513, -0.56097483,  0.81192233, ..., -0.57951021,\n",
       "         1.70024401, -0.56395686],\n",
       "       [-0.73769513, -0.56097483,  0.81192233, ..., -0.57951021,\n",
       "        -0.58815087, -0.56395686]])"
      ]
     },
     "execution_count": 37,
     "metadata": {},
     "output_type": "execute_result"
    }
   ],
   "source": [
    "from sklearn.preprocessing import StandardScaler\n",
    "scaler=StandardScaler()\n",
    "scaler.fit(x_train)\n",
    "x_scaled_train=scaler.transform(x_train)\n",
    "x_scaled_train"
   ]
  },
  {
   "cell_type": "code",
   "execution_count": 38,
   "metadata": {},
   "outputs": [
    {
     "data": {
      "text/plain": [
       "array([[-0.73769513, -0.56097483,  0.81192233, ..., -0.57951021,\n",
       "        -0.58815087, -0.56395686],\n",
       "       [ 1.35557354,  0.05915988, -1.2316449 , ..., -0.57951021,\n",
       "        -0.58815087, -0.56395686],\n",
       "       [-0.73769513, -0.56097483,  0.81192233, ...,  1.72559514,\n",
       "        -0.58815087, -0.56395686],\n",
       "       ...,\n",
       "       [-0.73769513, -0.56097483,  0.81192233, ..., -0.57951021,\n",
       "        -0.58815087, -0.56395686],\n",
       "       [-0.73769513, -0.56097483,  0.81192233, ...,  1.72559514,\n",
       "        -0.58815087, -0.56395686],\n",
       "       [-0.73769513,  0.67929458, -1.2316449 , ..., -0.57951021,\n",
       "         1.70024401, -0.56395686]])"
      ]
     },
     "execution_count": 38,
     "metadata": {},
     "output_type": "execute_result"
    }
   ],
   "source": [
    "x_scaled_test=scaler.transform(x_test)\n",
    "x_scaled_test"
   ]
  },
  {
   "cell_type": "markdown",
   "execution_count": null,
   "metadata": {},
   "source": [
    "## PARAMETER TUNING"
   ]
  },
  {
   "cell_type": "code",
   "execution_count": 39,
   "metadata": {},
   "outputs": [
    {
     "data": {
      "text/plain": [
       "({'max_depth': 2, 'min_child_weight': 2}, 0.8789991926349536)"
      ]
     },
     "execution_count": 39,
     "metadata": {},
     "output_type": "execute_result"
    }
   ],
   "source": [
    "param_test1 = {'max_depth':range(1,10),\n",
    "               'min_child_weight':range(1,6)\n",
    "              }\n",
    "gsearch1 = GridSearchCV(\n",
    "    estimator = XGBClassifier(learning_rate =0.05,\n",
    "                              n_estimators=500,\n",
    "                              max_depth=5,\n",
    "                              min_child_weight=1,\n",
    "                              gamma=0,\n",
    "                              subsample=0.8,\n",
    "                              colsample_bytree=0.8,\n",
    "                              objective= 'binary:logistic',\n",
    "                              nthread=4,\n",
    "                              scale_pos_weight=1,\n",
    "                              seed=27),\n",
    "    param_grid = param_test1,\n",
    "    scoring='roc_auc',\n",
    "    n_jobs=4,\n",
    "    cv=5)\n",
    "gsearch1.fit(x_scaled_train,y_train)\n",
    "gsearch1.best_params_, gsearch1.best_score_"
   ]
  },
  {
   "cell_type": "code",
   "execution_count": 40,
   "metadata": {},
   "outputs": [
    {
     "data": {
      "text/plain": [
       "({'gamma': 0.0}, 0.8789991926349536)"
      ]
     },
     "execution_count": 40,
     "metadata": {},
     "output_type": "execute_result"
    }
   ],
   "source": [
    "param_test2 = {'gamma':[i/10.0 for i in range(0,5)]\n",
    "              }\n",
    "gsearch2 = GridSearchCV(\n",
    "    estimator = XGBClassifier(learning_rate =0.05,\n",
    "                              n_estimators=500,\n",
    "                              max_depth=2,\n",
    "                              min_child_weight=2,\n",
    "                              gamma=0,\n",
    "                              subsample=0.8,\n",
    "                              colsample_bytree=0.8,\n",
    "                              objective= 'binary:logistic',\n",
    "                              nthread=4,\n",
    "                              scale_pos_weight=1,\n",
    "                              seed=27),\n",
    "    param_grid = param_test2,\n",
    "    scoring='roc_auc',\n",
    "    n_jobs=4,\n",
    "    cv=5)\n",
    "gsearch2.fit(x_scaled_train,y_train)\n",
    "gsearch2.best_params_, gsearch2.best_score_"
   ]
  },
  {
   "cell_type": "code",
   "execution_count": 41,
   "metadata": {},
   "outputs": [
    {
     "data": {
      "text/plain": [
       "({'colsample_bytree': 0.8, 'subsample': 0.8}, 0.8789991926349536)"
      ]
     },
     "execution_count": 41,
     "metadata": {},
     "output_type": "execute_result"
    }
   ],
   "source": [
    "param_test3 = {'subsample':[i/100.0 for i in range(75,90,5)],\n",
    "               'colsample_bytree':[i/100.0 for i in range(75,90,5)]\n",
    "              }\n",
    "\n",
    "gsearch3 = GridSearchCV(\n",
    "    estimator = XGBClassifier(learning_rate =0.05,\n",
    "                              n_estimators=500,\n",
    "                              max_depth=2,\n",
    "                              min_child_weight=2,\n",
    "                              gamma=0,\n",
    "                              subsample=0.8,\n",
    "                              colsample_bytree=0.8,\n",
    "                              objective= 'binary:logistic',\n",
    "                              nthread=4,\n",
    "                              scale_pos_weight=1,\n",
    "                              seed=27),\n",
    "    param_grid = param_test3,\n",
    "    scoring='roc_auc',\n",
    "    n_jobs=4,\n",
    "    cv=5)\n",
    "gsearch3.fit(x_scaled_train,y_train)\n",
    "gsearch3.best_params_, gsearch3.best_score_"
   ]
  },
  {
   "cell_type": "code",
   "execution_count": 42,
   "metadata": {},
   "outputs": [
    {
     "data": {
      "text/plain": [
       "({'reg_alpha': 1e-05}, 0.8789991926349536)"
      ]
     },
     "execution_count": 42,
     "metadata": {},
     "output_type": "execute_result"
    }
   ],
   "source": [
    "param_test4 = {'reg_alpha':[1e-5, 1e-2, 0.1, 1, 100]}\n",
    "\n",
    "gsearch4 = GridSearchCV(\n",
    "    estimator = XGBClassifier(learning_rate =0.05,\n",
    "                              n_estimators=500,\n",
    "                              max_depth=2,\n",
    "                              min_child_weight=2,\n",
    "                              gamma=0,\n",
    "                              subsample=0.8,\n",
    "                              colsample_bytree=0.8,\n",
    "                              objective= 'binary:logistic',\n",
    "                              nthread=4,\n",
    "                              scale_pos_weight=1,\n",
    "                              seed=27),\n",
    "    param_grid = param_test4,\n",
    "    scoring='roc_auc',\n",
    "    n_jobs=4,\n",
    "    cv=5)\n",
    "gsearch4.fit(x_scaled_train,y_train)\n",
    "gsearch4.best_params_, gsearch4.best_score_"
   ]
  },
  {
   "cell_type": "code",
   "execution_count": 43,
   "metadata": {},
   "outputs": [
    {
     "data": {
      "text/html": [
       "<div>\n",
       "<style scoped>\n",
       "    .dataframe tbody tr th:only-of-type {\n",
       "        vertical-align: middle;\n",
       "    }\n",
       "\n",
       "    .dataframe tbody tr th {\n",
       "        vertical-align: top;\n",
       "    }\n",
       "\n",
       "    .dataframe thead th {\n",
       "        text-align: right;\n",
       "    }\n",
       "</style>\n",
       "<table border=\"1\" class=\"dataframe\">\n",
       "  <thead>\n",
       "    <tr style=\"text-align: right;\">\n",
       "      <th></th>\n",
       "      <th>PassengerId</th>\n",
       "      <th>Survived</th>\n",
       "    </tr>\n",
       "  </thead>\n",
       "  <tbody>\n",
       "    <tr>\n",
       "      <th>0</th>\n",
       "      <td>892</td>\n",
       "      <td>0</td>\n",
       "    </tr>\n",
       "    <tr>\n",
       "      <th>1</th>\n",
       "      <td>893</td>\n",
       "      <td>0</td>\n",
       "    </tr>\n",
       "    <tr>\n",
       "      <th>2</th>\n",
       "      <td>894</td>\n",
       "      <td>0</td>\n",
       "    </tr>\n",
       "    <tr>\n",
       "      <th>3</th>\n",
       "      <td>895</td>\n",
       "      <td>0</td>\n",
       "    </tr>\n",
       "    <tr>\n",
       "      <th>4</th>\n",
       "      <td>896</td>\n",
       "      <td>1</td>\n",
       "    </tr>\n",
       "  </tbody>\n",
       "</table>\n",
       "</div>"
      ],
      "text/plain": [
       "   PassengerId  Survived\n",
       "0          892         0\n",
       "1          893         0\n",
       "2          894         0\n",
       "3          895         0\n",
       "4          896         1"
      ]
     },
     "execution_count": 43,
     "metadata": {},
     "output_type": "execute_result"
    }
   ],
   "source": [
    "predictor=XGBClassifier(learning_rate =0.05,\n",
    "                          n_estimators=500,\n",
    "                          max_depth=2,\n",
    "                          min_child_weight=2,\n",
    "                          gamma=0,\n",
    "                          subsample=0.8,\n",
    "                          colsample_bytree=0.8,\n",
    "                          objective= 'binary:logistic',\n",
    "                          nthread=4,\n",
    "                          reg_alpha=1e-5,\n",
    "                          scale_pos_weight=1,\n",
    "                          seed=27)\n",
    "predictor.fit(x_scaled_train,y_train)\n",
    "submission=pd.DataFrame(columns=['PassengerId',target])\n",
    "submission['PassengerId']=test['PassengerId']\n",
    "submission[target]=predictor.predict(x_scaled_test)\n",
    "submission[target]=submission[target].apply(lambda x: int(x))\n",
    "submission.head()"
   ]
  },
  {
   "cell_type": "code",
   "execution_count": 44,
   "metadata": {},
   "outputs": [],
   "source": [
    "submission.to_csv('xgb.csv',index=False)"
   ]
  }
 ],
 "metadata": {
  "kernelspec": {
   "display_name": "Python 3",
   "language": "python",
   "name": "python3"
  },
  "language_info": {
   "codemirror_mode": {
    "name": "ipython",
    "version": 3
   },
   "file_extension": ".py",
   "mimetype": "text/x-python",
   "name": "python",
   "nbconvert_exporter": "python",
   "pygments_lexer": "ipython3",
   "version": "3.7.6"
  }
 },
 "nbformat": 4,
 "nbformat_minor": 4
}
