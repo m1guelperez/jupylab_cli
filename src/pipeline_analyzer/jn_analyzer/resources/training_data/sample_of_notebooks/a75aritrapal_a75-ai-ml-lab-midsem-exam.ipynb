{
 "cells": [
  {
   "cell_type": "code",
   "execution_count": 1,
   "metadata": {
    "execution": {
     "iopub.execute_input": "2020-09-24T06:23:22.891182Z",
     "iopub.status.busy": "2020-09-24T06:23:22.890248Z",
     "iopub.status.idle": "2020-09-24T06:23:22.895237Z",
     "shell.execute_reply": "2020-09-24T06:23:22.894408Z"
    },
    "papermill": {
     "duration": 0.025381,
     "end_time": "2020-09-24T06:23:22.895371",
     "exception": false,
     "start_time": "2020-09-24T06:23:22.869990",
     "status": "completed"
    },
    "tags": []
   },
   "outputs": [
    {
     "name": "stdout",
     "output_type": "stream",
     "text": [
      "CHECK IF B HAS SAME VIEWS TO MEMORY IN A\n",
      "False\n",
      "CHECK IF A HAS SAME VIEWS TO MEMORY IN B\n",
      "False\n",
      "Divisible By 3\n",
      "[9 3 6]\n",
      "[6 9]\n",
      "SECOND ARRAY SORTED\n",
      "[9 8 6 5 2 1]\n",
      "SUM OF ELEMENTS OF FIRST ARRAY\n",
      "29\n"
     ]
    }
   ],
   "source": [
    "#1\n",
    "import numpy as np\n",
    "a=np.array([9,5,4,3,2,6])\n",
    "b=np.array([5,8,6,9,2,1])\n",
    "print(\"CHECK IF B HAS SAME VIEWS TO MEMORY IN A\")\n",
    "print(b.base is a)\n",
    "print(\"CHECK IF A HAS SAME VIEWS TO MEMORY IN B\")\n",
    "print(a.base is b)\n",
    "div_by_3=a%3==0\n",
    "div1_by_3=b%3==0\n",
    "print(\"Divisible By 3\")\n",
    "print(a[div_by_3])\n",
    "print(b[div1_by_3])\n",
    "b[::-1].sort()\n",
    "print(\"SECOND ARRAY SORTED\")\n",
    "print(b)\n",
    "print(\"SUM OF ELEMENTS OF FIRST ARRAY\")\n",
    "print(np.sum(a))"
   ]
  },
  {
   "cell_type": "code",
   "execution_count": 2,
   "metadata": {
    "execution": {
     "iopub.execute_input": "2020-09-24T06:23:22.916080Z",
     "iopub.status.busy": "2020-09-24T06:23:22.915173Z",
     "iopub.status.idle": "2020-09-24T06:23:22.949455Z",
     "shell.execute_reply": "2020-09-24T06:23:22.948637Z"
    },
    "papermill": {
     "duration": 0.047608,
     "end_time": "2020-09-24T06:23:22.949592",
     "exception": false,
     "start_time": "2020-09-24T06:23:22.901984",
     "status": "completed"
    },
    "tags": []
   },
   "outputs": [
    {
     "ename": "NameError",
     "evalue": "name 'pd' is not defined",
     "output_type": "error",
     "traceback": [
      "\u001b[0;31m---------------------------------------------------------------------------\u001b[0m",
      "\u001b[0;31mNameError\u001b[0m                                 Traceback (most recent call last)",
      "\u001b[0;32m<ipython-input-2-60bb6fbb84da>\u001b[0m in \u001b[0;36m<module>\u001b[0;34m\u001b[0m\n\u001b[1;32m      1\u001b[0m \u001b[0;31m#2\u001b[0m\u001b[0;34m\u001b[0m\u001b[0;34m\u001b[0m\u001b[0;34m\u001b[0m\u001b[0m\n\u001b[0;32m----> 2\u001b[0;31m \u001b[0mdf\u001b[0m \u001b[0;34m=\u001b[0m \u001b[0mpd\u001b[0m\u001b[0;34m.\u001b[0m\u001b[0mread_csv\u001b[0m\u001b[0;34m(\u001b[0m\u001b[0;34m\"../input/titanic/train_and_test2.csv\"\u001b[0m\u001b[0;34m)\u001b[0m\u001b[0;34m\u001b[0m\u001b[0;34m\u001b[0m\u001b[0m\n\u001b[0m\u001b[1;32m      3\u001b[0m \u001b[0mdf\u001b[0m\u001b[0;34m.\u001b[0m\u001b[0mhead\u001b[0m\u001b[0;34m(\u001b[0m\u001b[0;34m)\u001b[0m\u001b[0;34m\u001b[0m\u001b[0;34m\u001b[0m\u001b[0m\n\u001b[1;32m      4\u001b[0m \u001b[0;34m\u001b[0m\u001b[0m\n\u001b[1;32m      5\u001b[0m \u001b[0mdf\u001b[0m\u001b[0;34m.\u001b[0m\u001b[0mdropna\u001b[0m\u001b[0;34m(\u001b[0m\u001b[0maxis\u001b[0m\u001b[0;34m=\u001b[0m\u001b[0;36m1\u001b[0m\u001b[0;34m,\u001b[0m \u001b[0mhow\u001b[0m\u001b[0;34m=\u001b[0m\u001b[0;34m'all'\u001b[0m\u001b[0;34m)\u001b[0m\u001b[0;34m\u001b[0m\u001b[0;34m\u001b[0m\u001b[0m\n",
      "\u001b[0;31mNameError\u001b[0m: name 'pd' is not defined"
     ]
    }
   ],
   "source": [
    "#2\n",
    "df = pd.read_csv(\"../input/titanic/train_and_test2.csv\")\n",
    "df.head()\n",
    "\n",
    "df.dropna(axis=1, how='all')\n",
    "print(df.head())\n",
    "print(df.shape)\n",
    "\n",
    "df[:50].mean()\n",
    "\n",
    "df[df['Sex']==1].mean()\n",
    "\n",
    "df['Fare'].max()"
   ]
  },
  {
   "cell_type": "code",
   "execution_count": 3,
   "metadata": {
    "execution": {
     "iopub.execute_input": "2020-09-24T06:23:22.971958Z",
     "iopub.status.busy": "2020-09-24T06:23:22.971149Z",
     "iopub.status.idle": "2020-09-24T06:23:23.111438Z",
     "shell.execute_reply": "2020-09-24T06:23:23.112046Z"
    },
    "papermill": {
     "duration": 0.156374,
     "end_time": "2020-09-24T06:23:23.112211",
     "exception": false,
     "start_time": "2020-09-24T06:23:22.955837",
     "status": "completed"
    },
    "tags": []
   },
   "outputs": [
    {
     "data": {
      "image/png": "[encoded data removed]",
      "text/plain": [
       "<Figure size 432x288 with 1 Axes>"
      ]
     },
     "metadata": {},
     "output_type": "display_data"
    }
   ],
   "source": [
    "#3\n",
    "import matplotlib.pyplot as plt\n",
    "teams = ['English', 'Maths', 'Science ', 'History', 'Geography']\n",
    "slices = [86, 83, 86, 90, 88]\n",
    "colors = ['r', 'y', 'g', 'b','c']\n",
    "plt.pie(slices, labels = teams, colors=colors,\n",
    " startangle=90, shadow = True, explode = (0, 0.5, 0, 0, 0),\n",
    " radius = 1.2, autopct = '%1.1f%%')\n",
    "plt.show()"
   ]
  },
  {
   "cell_type": "code",
   "execution_count": 4,
   "metadata": {
    "execution": {
     "iopub.execute_input": "2020-09-24T06:23:23.141405Z",
     "iopub.status.busy": "2020-09-24T06:23:23.140456Z",
     "iopub.status.idle": "2020-09-24T06:23:24.393219Z",
     "shell.execute_reply": "2020-09-24T06:23:24.392409Z"
    },
    "papermill": {
     "duration": 1.272659,
     "end_time": "2020-09-24T06:23:24.393391",
     "exception": false,
     "start_time": "2020-09-24T06:23:23.120732",
     "status": "completed"
    },
    "tags": []
   },
   "outputs": [
    {
     "name": "stdout",
     "output_type": "stream",
     "text": [
      "F1 Score(macro): 0.9279503105590061\n",
      "F1 Score(micro): 0.9333333333333333\n",
      "F1 Score(weighted): 0.9328364389233954\n",
      "\\confusion Matrix(below):\n",
      "\n"
     ]
    },
    {
     "data": {
      "text/plain": [
       "array([[16,  0,  0],\n",
       "       [ 0, 10,  2],\n",
       "       [ 0,  1, 16]])"
      ]
     },
     "execution_count": 4,
     "metadata": {},
     "output_type": "execute_result"
    }
   ],
   "source": [
    "#4\n",
    "import pandas as pd\n",
    "import numpy as np\n",
    "from sklearn.model_selection import train_test_split\n",
    "from sklearn.metrics import confusion_matrix\n",
    "from sklearn.model_selection import cross_val_predict\n",
    "from sklearn.linear_model import LogisticRegression\n",
    "from sklearn.metrics import f1_score\n",
    "\n",
    "\n",
    "train = pd.read_csv(\"../input/iris-flower-dataset/IRIS.csv\")\n",
    "X= train.drop(\"species\", axis=1)\n",
    "y= train[\"species\"]\n",
    "X_train, X_test,y_train, y_test= train_test_split(X,y, test_size=0.3)\n",
    "\n",
    "logmodel= LogisticRegression()\n",
    "logmodel.fit(X_train, y_train)\n",
    "\n",
    "predictions = logmodel.predict(X_test)\n",
    "\n",
    "print(\"F1 Score(macro):\", f1_score(y_test, predictions, average='macro'))\n",
    "print(\"F1 Score(micro):\", f1_score(y_test, predictions, average='micro'))\n",
    "print(\"F1 Score(weighted):\", f1_score(y_test, predictions, average='weighted'))\n",
    "print(\"\\confusion Matrix(below):\\n\")\n",
    "confusion_matrix(y_test, predictions)\n"
   ]
  }
 ],
 "metadata": {
  "kernelspec": {
   "display_name": "Python 3",
   "language": "python",
   "name": "python3"
  },
  "language_info": {
   "codemirror_mode": {
    "name": "ipython",
    "version": 3
   },
   "file_extension": ".py",
   "mimetype": "text/x-python",
   "name": "python",
   "nbconvert_exporter": "python",
   "pygments_lexer": "ipython3",
   "version": "3.7.6"
  },
  "papermill": {
   "duration": 6.595949,
   "end_time": "2020-09-24T06:23:24.509632",
   "environment_variables": {},
   "exception": null,
   "input_path": "__notebook__.ipynb",
   "output_path": "__notebook__.ipynb",
   "parameters": {},
   "start_time": "2020-09-24T06:23:17.913683",
   "version": "2.1.0"
  }
 },
 "nbformat": 4,
 "nbformat_minor": 4
}
