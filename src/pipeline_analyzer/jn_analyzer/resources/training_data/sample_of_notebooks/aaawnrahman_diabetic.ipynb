{
 "cells": [
  {
   "cell_type": "code",
   "execution_count": 1,
   "metadata": {
    "_cell_guid": "b1076dfc-b9ad-4769-8c92-a6c4dae69d19",
    "_uuid": "8f2839f25d086af736a60e9eeb907d3b93b6e0e5"
   },
   "outputs": [
    {
     "name": "stdout",
     "output_type": "stream",
     "text": [
      "['messidor_features.csv']\n"
     ]
    }
   ],
   "source": [
    "# This Python 3 environment comes with many helpful analytics libraries installed\n",
    "# It is defined by the kaggle/python docker image: https://github.com/kaggle/docker-python\n",
    "# For example, here's several helpful packages to load in \n",
    "\n",
    "import numpy as np # linear algebra\n",
    "import pandas as pd # data processing, CSV file I/O (e.g. pd.read_csv)\n",
    "\n",
    "# Input data files are available in the \"../input/\" directory.\n",
    "# For example, running this (by clicking run or pressing Shift+Enter) will list the files in the input directory\n",
    "\n",
    "import os\n",
    "print(os.listdir(\"../input\"))\n",
    "\n",
    "# Any results you write to the current directory are saved as output."
   ]
  },
  {
   "cell_type": "code",
   "execution_count": 2,
   "metadata": {},
   "outputs": [
    {
     "data": {
      "text/plain": [
       "(1150, 20)"
      ]
     },
     "execution_count": 2,
     "metadata": {},
     "output_type": "execute_result"
    }
   ],
   "source": [
    "#input data ............\n",
    "dataset = pd.read_csv(\"../input/messidor_features.csv\")\n",
    "dataset.shape"
   ]
  },
  {
   "cell_type": "code",
   "execution_count": 3,
   "metadata": {
    "_cell_guid": "79c7e3d0-c299-4dcb-8224-4455121ee9b0",
    "_uuid": "d629ff2d2480ee46fbb7e2d37f6b5fab8052498a"
   },
   "outputs": [
    {
     "name": "stdout",
     "output_type": "stream",
     "text": [
      "      1  1.1   22  22.1 ...   0.003923.1  0.486903  0.100025  1.2\n",
      "0     1    1   24    24 ...     0.003903  0.520908  0.144414    0\n",
      "1     1    1   62    60 ...     0.007744  0.530904  0.128548    0\n",
      "2     1    1   55    53 ...     0.001531  0.483284  0.114790    0\n",
      "3     1    1   44    44 ...     0.000000  0.475935  0.123572    0\n",
      "4     1    1   44    43 ...     0.000000  0.502831  0.126741    0\n",
      "5     1    0   29    29 ...     0.000000  0.541743  0.139575    0\n",
      "6     1    1    6     6 ...     0.000000  0.576318  0.071071    1\n",
      "7     1    1   22    21 ...     0.000000  0.500073  0.116793    0\n",
      "8     1    1   79    75 ...     0.000000  0.560959  0.109134    0\n",
      "9     1    1   45    45 ...     0.000000  0.546008  0.112378    0\n",
      "10    1    0   25    25 ...     0.000000  0.551682  0.139657    1\n",
      "11    1    1   70    69 ...     0.000000  0.534396  0.089587    0\n",
      "12    1    1   48    43 ...     0.000000  0.501554  0.138287    1\n",
      "13    1    1   94    93 ...     0.000000  0.541277  0.124505    0\n",
      "14    1    1   20    18 ...     0.000978  0.569458  0.089936    1\n",
      "15    1    1  105    95 ...     1.002243  0.524461  0.134247    1\n",
      "16    1    1   25    25 ...     0.130114  0.552002  0.108428    0\n",
      "17    1    1   64    64 ...     0.000000  0.551182  0.098591    0\n",
      "18    1    0   46    41 ...     0.071698  0.540472  0.104949    1\n",
      "19    1    1   37    37 ...     0.000000  0.478189  0.110793    0\n",
      "20    1    1   19    17 ...     0.000000  0.470425  0.094014    1\n",
      "21    1    0   37    34 ...     0.000000  0.538223  0.098270    0\n",
      "22    1    1   10    10 ...     0.000000  0.528929  0.108156    1\n",
      "23    1    1    5     5 ...     0.001055  0.588627  0.109748    1\n",
      "24    1    1   40    38 ...     0.107150  0.527112  0.105129    1\n",
      "25    1    1   55    53 ...     0.000000  0.540769  0.117329    0\n",
      "26    1    1   99    98 ...     0.181282  0.556481  0.117421    1\n",
      "27    1    1   45    45 ...     0.000000  0.543355  0.118110    0\n",
      "28    1    1  103    89 ...     0.001559  0.488566  0.134091    0\n",
      "29    1    1   12    12 ...     0.000000  0.566789  0.096681    1\n",
      "...  ..  ...  ...   ... ...          ...       ...       ...  ...\n",
      "1120  1    1   78    75 ...     0.000000  0.535677  0.118739    0\n",
      "1121  1    1   30    30 ...     0.003925  0.506181  0.095187    1\n",
      "1122  1    1    3     3 ...     0.000000  0.480484  0.113328    1\n",
      "1123  1    1   25    24 ...     0.000000  0.476429  0.131950    0\n",
      "1124  1    1   10    10 ...     0.000000  0.549111  0.120162    0\n",
      "1125  1    1    4     4 ...     0.003959  0.508743  0.105893    1\n",
      "1126  1    1   23    21 ...     0.001033  0.494143  0.099182    1\n",
      "1127  1    1   21    21 ...     0.000000  0.476500  0.073226    1\n",
      "1128  1    1   42    39 ...     0.017565  0.487241  0.084897    0\n",
      "1129  1    1   37    36 ...     0.000000  0.535271  0.093947    0\n",
      "1130  1    1   46    46 ...     0.000000  0.520977  0.095824    0\n",
      "1131  1    1   86    84 ...     0.000000  0.537999  0.097953    0\n",
      "1132  1    1   56    54 ...     0.000000  0.529728  0.100565    0\n",
      "1133  1    1   77    71 ...     1.327518  0.530547  0.127006    1\n",
      "1134  1    1   16    16 ...     0.013390  0.514502  0.104032    1\n",
      "1135  1    1   65    60 ...     0.051778  0.558896  0.127860    1\n",
      "1136  1    1   31    30 ...     0.000000  0.516223  0.120687    0\n",
      "1137  1    1    3     3 ...     0.000000  0.513383  0.106655    0\n",
      "1138  1    1   12    12 ...     0.000000  0.520232  0.100426    0\n",
      "1139  1    1   31    31 ...     0.000000  0.555720  0.109722    0\n",
      "1140  1    1   53    53 ...     0.071803  0.551013  0.087413    1\n",
      "1141  1    1   53    53 ...     0.000000  0.471802  0.141088    0\n",
      "1142  1    1   12    12 ...     0.000000  0.553246  0.084022    1\n",
      "1143  1    1   35    34 ...     0.000000  0.537551  0.124181    0\n",
      "1144  1    1   16    16 ...     0.001952  0.533177  0.104430    1\n",
      "1145  1    1   34    34 ...     0.000000  0.537470  0.116795    0\n",
      "1146  1    1   49    49 ...     0.000000  0.516733  0.124190    0\n",
      "1147  1    0   49    48 ...     0.000000  0.560632  0.129843    0\n",
      "1148  1    1   39    36 ...     0.174584  0.485972  0.106690    1\n",
      "1149  1    1    7     7 ...     0.000000  0.556192  0.088957    0\n",
      "\n",
      "[1150 rows x 19 columns]\n"
     ]
    }
   ],
   "source": [
    "X=dataset.iloc[:,0:19]\n",
    "Y=dataset.iloc[:,19]\n",
    "print(X)"
   ]
  },
  {
   "cell_type": "code",
   "execution_count": 4,
   "metadata": {},
   "outputs": [
    {
     "name": "stdout",
     "output_type": "stream",
     "text": [
      "(1150, 19)\n"
     ]
    }
   ],
   "source": [
    "#data preprocessing.....\n",
    "from sklearn.preprocessing import StandardScaler\n",
    "scaler = StandardScaler()\n",
    "scaler.fit(X)\n",
    "\n",
    "print(X.shape)"
   ]
  },
  {
   "cell_type": "code",
   "execution_count": 5,
   "metadata": {},
   "outputs": [
    {
     "name": "stdout",
     "output_type": "stream",
     "text": [
      "(920, 19)\n",
      "(230, 19)\n"
     ]
    }
   ],
   "source": [
    "#split data.............\n",
    "from sklearn.model_selection import train_test_split\n",
    "X_train, X_test, y_train, y_test = train_test_split(X, Y, test_size=0.20, random_state=1)\n",
    "print(X_train.shape)\n",
    "print( X_test.shape)"
   ]
  },
  {
   "cell_type": "code",
   "execution_count": 6,
   "metadata": {},
   "outputs": [
    {
     "name": "stderr",
     "output_type": "stream",
     "text": [
      "Using TensorFlow backend.\n"
     ]
    }
   ],
   "source": [
    "#import libraries....\n",
    "\n",
    "from keras.datasets import mnist\n",
    "from keras.models import Sequential, load_model\n",
    "from keras.layers.core import Dense, Dropout, Activation"
   ]
  },
  {
   "cell_type": "code",
   "execution_count": 7,
   "metadata": {},
   "outputs": [
    {
     "name": "stdout",
     "output_type": "stream",
     "text": [
      "_________________________________________________________________\n",
      "Layer (type)                 Output Shape              Param #   \n",
      "=================================================================\n",
      "dense_1 (Dense)              (None, 128)               2560      \n",
      "_________________________________________________________________\n",
      "activation_1 (Activation)    (None, 128)               0         \n",
      "_________________________________________________________________\n",
      "dense_2 (Dense)              (None, 56)                7224      \n",
      "_________________________________________________________________\n",
      "activation_2 (Activation)    (None, 56)                0         \n",
      "_________________________________________________________________\n",
      "dense_3 (Dense)              (None, 1)                 57        \n",
      "_________________________________________________________________\n",
      "activation_3 (Activation)    (None, 1)                 0         \n",
      "=================================================================\n",
      "Total params: 9,841\n",
      "Trainable params: 9,841\n",
      "Non-trainable params: 0\n",
      "_________________________________________________________________\n"
     ]
    }
   ],
   "source": [
    "#ann...........\n",
    "\n",
    "model = Sequential()\n",
    "model.add(Dense(128, input_shape=(19,)))\n",
    "model.add(Activation('relu'))                            \n",
    "\n",
    "model.add(Dense(56))\n",
    "model.add(Activation('relu'))\n",
    "\n",
    "#final......\n",
    "model.add(Dense(1))\n",
    "model.add(Activation('sigmoid'))\n",
    "model.summary()"
   ]
  },
  {
   "cell_type": "code",
   "execution_count": 8,
   "metadata": {},
   "outputs": [
    {
     "name": "stdout",
     "output_type": "stream",
     "text": [
      "Epoch 1/20\n",
      "920/920 [==============================] - 3s 4ms/step - loss: 1.3121 - acc: 0.4859\n",
      "Epoch 2/20\n",
      "920/920 [==============================] - 0s 87us/step - loss: 0.7018 - acc: 0.5837\n",
      "Epoch 3/20\n",
      "920/920 [==============================] - 0s 86us/step - loss: 0.7210 - acc: 0.6141\n",
      "Epoch 4/20\n",
      "920/920 [==============================] - 0s 85us/step - loss: 0.6727 - acc: 0.6239\n",
      "Epoch 5/20\n",
      "920/920 [==============================] - 0s 84us/step - loss: 0.6079 - acc: 0.6630\n",
      "Epoch 6/20\n",
      "920/920 [==============================] - 0s 84us/step - loss: 0.6426 - acc: 0.6522\n",
      "Epoch 7/20\n",
      "920/920 [==============================] - 0s 87us/step - loss: 0.5890 - acc: 0.6685\n",
      "Epoch 8/20\n",
      "920/920 [==============================] - 0s 85us/step - loss: 0.5827 - acc: 0.6880\n",
      "Epoch 9/20\n",
      "920/920 [==============================] - 0s 84us/step - loss: 0.5629 - acc: 0.7022\n",
      "Epoch 10/20\n",
      "920/920 [==============================] - 0s 85us/step - loss: 0.5742 - acc: 0.7054\n",
      "Epoch 11/20\n",
      "920/920 [==============================] - 0s 84us/step - loss: 0.5551 - acc: 0.6978\n",
      "Epoch 12/20\n",
      "920/920 [==============================] - 0s 85us/step - loss: 0.5449 - acc: 0.6957\n",
      "Epoch 13/20\n",
      "920/920 [==============================] - 0s 84us/step - loss: 0.5416 - acc: 0.7250\n",
      "Epoch 14/20\n",
      "920/920 [==============================] - 0s 86us/step - loss: 0.5805 - acc: 0.7000\n",
      "Epoch 15/20\n",
      "920/920 [==============================] - 0s 87us/step - loss: 0.5075 - acc: 0.7228\n",
      "Epoch 16/20\n",
      "920/920 [==============================] - 0s 85us/step - loss: 0.5649 - acc: 0.7043\n",
      "Epoch 17/20\n",
      "920/920 [==============================] - 0s 85us/step - loss: 0.5536 - acc: 0.7185\n",
      "Epoch 18/20\n",
      "920/920 [==============================] - 0s 87us/step - loss: 0.5441 - acc: 0.6967\n",
      "Epoch 19/20\n",
      "920/920 [==============================] - 0s 84us/step - loss: 0.5484 - acc: 0.7033\n",
      "Epoch 20/20\n",
      "920/920 [==============================] - 0s 86us/step - loss: 0.5120 - acc: 0.7293\n",
      "['loss', 'acc']\n",
      "[0.5780945977439051, 0.6565217386121335]\n"
     ]
    }
   ],
   "source": [
    "from keras import optimizers\n",
    "model.compile(loss='binary_crossentropy', metrics=['accuracy'], optimizer='adam')\n",
    "#fit the model...\n",
    "\n",
    "fit_model = model.fit(X_train, y_train,epochs=20)\n",
    "print(model.metrics_names)\n",
    "score=model.evaluate(X_test, y_test, verbose=2)\n",
    "print(score)"
   ]
  },
  {
   "cell_type": "code",
   "execution_count": 9,
   "metadata": {},
   "outputs": [
    {
     "name": "stdout",
     "output_type": "stream",
     "text": [
      "[0 0 1 0 0 1 1 0 1 1 0 0 1 1 1 1 1 1 0 1 0 0 0 0 1 0 1 1 0 0 0 1 1 0 0 0 0\n",
      " 0 1 1 1 1 0 0 0 1 1 1 1 0 1 0 0 1 0 1 0 0 0 0 0 0 1 0 1 1 1 1 0 0 1 1 0 1\n",
      " 0 0 1 0 0 0 1 0 1 0 1 0 0 1 0 1 0 1 0 0 1 0 0 1 0 1 0 1 1 0 1 1 0 1 0 0 1\n",
      " 0 1 0 1 1 0 1 0 0 1 0 1 0 1 0 1 1 1 0 1 1 0 1 0 1 1 0 1 0 1 1 1 0 0 1 1 0\n",
      " 1 0 0 0 1 1 1 0 1 0 1 0 0 0 1 1 1 1 1 0 0 0 0 0 0 1 0 1 1 0 1 1 0 1 0 0 0\n",
      " 1 1 1 0 1 0 1 0 1 0 0 1 0 1 0 1 0 0 1 0 0 0 1 0 0 1 1 1 1 0 1 1 0 0 0 1 0\n",
      " 0 0 1 1 0 1 1 0]\n",
      "[[80 31]\n",
      " [38 81]]\n",
      "0.7\n"
     ]
    }
   ],
   "source": [
    "import matplotlib.pyplot as plt\n",
    "from sklearn.metrics import confusion_matrix\n",
    "from sklearn.metrics import accuracy_score\n",
    "#knn.......................\n",
    "\n",
    "from sklearn.neighbors import KNeighborsClassifier\n",
    "neigh = KNeighborsClassifier(n_neighbors=19)\n",
    "neigh.fit(X_train, y_train) \n",
    "\n",
    "y_pred = neigh.predict(X_test)\n",
    "\n",
    "\n",
    "print(y_pred)\n",
    "\n",
    "cnf_matrix = confusion_matrix(y_test, y_pred)\n",
    "print(cnf_matrix)\n",
    "accuracy = accuracy_score(y_test, y_pred)\n",
    "print(accuracy)"
   ]
  },
  {
   "cell_type": "code",
   "execution_count": 10,
   "metadata": {},
   "outputs": [
    {
     "name": "stdout",
     "output_type": "stream",
     "text": [
      "0.7521739130434782\n"
     ]
    }
   ],
   "source": [
    "\n",
    "from sklearn import svm\n",
    "classifier = svm.SVC(kernel='linear', C=0.01)\n",
    "y_pred = classifier.fit(X_train, y_train).predict(X_test)\n",
    "accuracy = accuracy_score(y_test, y_pred)\n",
    "print(accuracy)"
   ]
  },
  {
   "cell_type": "code",
   "execution_count": null,
   "metadata": {},
   "outputs": [],
   "source": []
  }
 ],
 "metadata": {
  "kernelspec": {
   "display_name": "Python 3",
   "language": "python",
   "name": "python3"
  },
  "language_info": {
   "codemirror_mode": {
    "name": "ipython",
    "version": 3
   },
   "file_extension": ".py",
   "mimetype": "text/x-python",
   "name": "python",
   "nbconvert_exporter": "python",
   "pygments_lexer": "ipython3",
   "version": "3.6.6"
  }
 },
 "nbformat": 4,
 "nbformat_minor": 1
}
