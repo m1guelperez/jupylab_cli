{
 "cells": [
  {
   "cell_type": "markdown",
   "metadata": {},
   "source": [
    "**Steps:**\n",
    "1. Import libraries\n",
    "2. Import dataframe\n",
    "3. Data processing\n",
    "4. Bild a model\n",
    "5. Model testing"
   ]
  },
  {
   "cell_type": "code",
   "execution_count": 1,
   "metadata": {},
   "outputs": [],
   "source": [
    "import pandas as pd\n",
    "import numpy as np\n",
    "from sklearn.model_selection import train_test_split\n",
    "from sklearn import tree\n",
    "from sklearn.ensemble import BaggingClassifier, BaggingRegressor, RandomForestClassifier\n",
    "from sklearn.metrics import roc_curve, auc, accuracy_score\n",
    "from sklearn.model_selection import GridSearchCV\n",
    "import matplotlib.pyplot as plt\n",
    "from sklearn.metrics import roc_auc_score\n",
    "from sklearn.preprocessing import LabelEncoder\n",
    "\n",
    "from sklearn.preprocessing import LabelEncoder, OneHotEncoder\n",
    "from sklearn.model_selection import train_test_split\n",
    "from sklearn.metrics import f1_score, accuracy_score\n",
    "\n",
    "from sklearn.ensemble import AdaBoostClassifier\n",
    "\n",
    "from sklearn.model_selection import GridSearchCV\n",
    "\n",
    "from sklearn.tree import DecisionTreeClassifier\n"
   ]
  },
  {
   "cell_type": "code",
   "execution_count": 2,
   "metadata": {},
   "outputs": [
    {
     "data": {
      "text/html": [
       "<div>\n",
       "<style scoped>\n",
       "    .dataframe tbody tr th:only-of-type {\n",
       "        vertical-align: middle;\n",
       "    }\n",
       "\n",
       "    .dataframe tbody tr th {\n",
       "        vertical-align: top;\n",
       "    }\n",
       "\n",
       "    .dataframe thead th {\n",
       "        text-align: right;\n",
       "    }\n",
       "</style>\n",
       "<table border=\"1\" class=\"dataframe\">\n",
       "  <thead>\n",
       "    <tr style=\"text-align: right;\">\n",
       "      <th></th>\n",
       "      <th>age</th>\n",
       "      <th>job</th>\n",
       "      <th>marital</th>\n",
       "      <th>education</th>\n",
       "      <th>default</th>\n",
       "      <th>balance</th>\n",
       "      <th>housing</th>\n",
       "      <th>loan</th>\n",
       "      <th>contact</th>\n",
       "      <th>day</th>\n",
       "      <th>month</th>\n",
       "      <th>campaign</th>\n",
       "      <th>pdays</th>\n",
       "      <th>previous</th>\n",
       "      <th>poutcome</th>\n",
       "      <th>deposit</th>\n",
       "    </tr>\n",
       "  </thead>\n",
       "  <tbody>\n",
       "    <tr>\n",
       "      <th>0</th>\n",
       "      <td>61</td>\n",
       "      <td>management</td>\n",
       "      <td>married</td>\n",
       "      <td>tertiary</td>\n",
       "      <td>no</td>\n",
       "      <td>997</td>\n",
       "      <td>no</td>\n",
       "      <td>no</td>\n",
       "      <td>cellular</td>\n",
       "      <td>10</td>\n",
       "      <td>mar</td>\n",
       "      <td>1</td>\n",
       "      <td>-1</td>\n",
       "      <td>0</td>\n",
       "      <td>unknown</td>\n",
       "      <td>yes</td>\n",
       "    </tr>\n",
       "    <tr>\n",
       "      <th>1</th>\n",
       "      <td>77</td>\n",
       "      <td>retired</td>\n",
       "      <td>married</td>\n",
       "      <td>tertiary</td>\n",
       "      <td>no</td>\n",
       "      <td>699</td>\n",
       "      <td>no</td>\n",
       "      <td>no</td>\n",
       "      <td>cellular</td>\n",
       "      <td>13</td>\n",
       "      <td>aug</td>\n",
       "      <td>2</td>\n",
       "      <td>-1</td>\n",
       "      <td>0</td>\n",
       "      <td>unknown</td>\n",
       "      <td>yes</td>\n",
       "    </tr>\n",
       "    <tr>\n",
       "      <th>2</th>\n",
       "      <td>27</td>\n",
       "      <td>student</td>\n",
       "      <td>single</td>\n",
       "      <td>secondary</td>\n",
       "      <td>no</td>\n",
       "      <td>253</td>\n",
       "      <td>no</td>\n",
       "      <td>no</td>\n",
       "      <td>cellular</td>\n",
       "      <td>25</td>\n",
       "      <td>may</td>\n",
       "      <td>2</td>\n",
       "      <td>-1</td>\n",
       "      <td>0</td>\n",
       "      <td>unknown</td>\n",
       "      <td>yes</td>\n",
       "    </tr>\n",
       "    <tr>\n",
       "      <th>3</th>\n",
       "      <td>48</td>\n",
       "      <td>blue-collar</td>\n",
       "      <td>divorced</td>\n",
       "      <td>primary</td>\n",
       "      <td>no</td>\n",
       "      <td>2677</td>\n",
       "      <td>no</td>\n",
       "      <td>no</td>\n",
       "      <td>unknown</td>\n",
       "      <td>20</td>\n",
       "      <td>jun</td>\n",
       "      <td>3</td>\n",
       "      <td>-1</td>\n",
       "      <td>0</td>\n",
       "      <td>unknown</td>\n",
       "      <td>no</td>\n",
       "    </tr>\n",
       "    <tr>\n",
       "      <th>4</th>\n",
       "      <td>31</td>\n",
       "      <td>technician</td>\n",
       "      <td>divorced</td>\n",
       "      <td>tertiary</td>\n",
       "      <td>no</td>\n",
       "      <td>0</td>\n",
       "      <td>no</td>\n",
       "      <td>no</td>\n",
       "      <td>cellular</td>\n",
       "      <td>27</td>\n",
       "      <td>aug</td>\n",
       "      <td>6</td>\n",
       "      <td>-1</td>\n",
       "      <td>0</td>\n",
       "      <td>unknown</td>\n",
       "      <td>yes</td>\n",
       "    </tr>\n",
       "  </tbody>\n",
       "</table>\n",
       "</div>"
      ],
      "text/plain": [
       "   age          job   marital  education default  balance housing loan  \\\n",
       "0   61   management   married   tertiary      no      997      no   no   \n",
       "1   77      retired   married   tertiary      no      699      no   no   \n",
       "2   27      student    single  secondary      no      253      no   no   \n",
       "3   48  blue-collar  divorced    primary      no     2677      no   no   \n",
       "4   31   technician  divorced   tertiary      no        0      no   no   \n",
       "\n",
       "    contact  day month  campaign  pdays  previous poutcome deposit  \n",
       "0  cellular   10   mar         1     -1         0  unknown     yes  \n",
       "1  cellular   13   aug         2     -1         0  unknown     yes  \n",
       "2  cellular   25   may         2     -1         0  unknown     yes  \n",
       "3   unknown   20   jun         3     -1         0  unknown      no  \n",
       "4  cellular   27   aug         6     -1         0  unknown     yes  "
      ]
     },
     "execution_count": 2,
     "metadata": {},
     "output_type": "execute_result"
    }
   ],
   "source": [
    "# data load\n",
    "deposit_df_train = pd.read_csv('/kaggle/input/devrepublik03/training_set.csv') # set for training-testing\n",
    "test_df = pd.read_csv('/kaggle/input/devrepublik03/validation_set.csv') # set for final validation\n",
    "deposit_df_train.head()"
   ]
  },
  {
   "cell_type": "code",
   "execution_count": 3,
   "metadata": {},
   "outputs": [
    {
     "data": {
      "text/plain": [
       "(1000, 12)"
      ]
     },
     "execution_count": 3,
     "metadata": {},
     "output_type": "execute_result"
    }
   ],
   "source": [
    "# make target feature binary 0/1\n",
    "deposit_df_train['deposit'] = deposit_df_train['deposit'].apply(lambda x: 1 if x == 'yes' else 0)\n",
    "columns_to_keep = ['age','job','marital','education','default','balance','housing','loan','contact','day','month','poutcome']\n",
    "test_df = test_df[columns_to_keep]\n",
    "test_df.shape\n",
    "\n",
    "# ,,"
   ]
  },
  {
   "cell_type": "code",
   "execution_count": 4,
   "metadata": {},
   "outputs": [],
   "source": [
    "# # В колонке # month Замена: \n",
    "# deposit_df_train.replace(to_replace=['jan', 'feb', 'dec','mar','apr','may','jun','jul','aug','sep','oct','nov'],\n",
    "#            value= ['winter','winter','winter','spring','spring','spring','summer','summer','summer','autumn','autumn','autumn'], \n",
    "#            inplace=True)"
   ]
  },
  {
   "cell_type": "code",
   "execution_count": 5,
   "metadata": {},
   "outputs": [
    {
     "data": {
      "text/plain": [
       "may    2578\n",
       "aug    1392\n",
       "jul    1377\n",
       "jun    1107\n",
       "nov     853\n",
       "apr     844\n",
       "feb     711\n",
       "oct     353\n",
       "jan     304\n",
       "sep     285\n",
       "mar     252\n",
       "dec     106\n",
       "Name: month, dtype: int64"
      ]
     },
     "execution_count": 5,
     "metadata": {},
     "output_type": "execute_result"
    }
   ],
   "source": [
    "deposit_df_train['month'].value_counts()"
   ]
  },
  {
   "cell_type": "code",
   "execution_count": 6,
   "metadata": {},
   "outputs": [],
   "source": [
    "# В колонке #job замена: \n",
    "deposit_df_train.replace(to_replace=['unknown', 'housemaid', 'entrepreneur','unemployed','student','self-employed'],\n",
    "           value= ['other','other','other','other','other','other'], \n",
    "           inplace=True)"
   ]
  },
  {
   "cell_type": "code",
   "execution_count": 7,
   "metadata": {},
   "outputs": [
    {
     "data": {
      "text/plain": [
       "management     2326\n",
       "blue-collar    1767\n",
       "technician     1675\n",
       "other          1635\n",
       "admin.         1216\n",
       "services        836\n",
       "retired         707\n",
       "Name: job, dtype: int64"
      ]
     },
     "execution_count": 7,
     "metadata": {},
     "output_type": "execute_result"
    }
   ],
   "source": [
    "deposit_df_train['job'].value_counts()"
   ]
  },
  {
   "cell_type": "code",
   "execution_count": 8,
   "metadata": {},
   "outputs": [
    {
     "data": {
      "text/html": [
       "        <script type=\"text/javascript\">\n",
       "        window.PlotlyConfig = {MathJaxConfig: 'local'};\n",
       "        if (window.MathJax) {MathJax.Hub.Config({SVG: {font: \"STIX-Web\"}});}\n",
       "        if (typeof require !== 'undefined') {\n",
       "        require.undef(\"plotly\");\n",
       "        requirejs.config({\n",
       "            paths: {\n",
       "                'plotly': ['https://cdn.plot.ly/plotly-latest.min']\n",
       "            }\n",
       "        });\n",
       "        require(['plotly'], function(Plotly) {\n",
       "            window._Plotly = Plotly;\n",
       "        });\n",
       "        }\n",
       "        </script>\n",
       "        "
      ]
     },
     "metadata": {},
     "output_type": "display_data"
    }
   ],
   "source": [
    "import plotly.graph_objs as go\n",
    "from plotly.offline import init_notebook_mode, iplot\n",
    "init_notebook_mode(connected=True)\n",
    "import seaborn as sns\n",
    "import matplotlib.pyplot as plt"
   ]
  },
  {
   "cell_type": "code",
   "execution_count": 9,
   "metadata": {},
   "outputs": [],
   "source": [
    "# В колонке #balance замена:\n",
    "deposit_df_train.loc[(deposit_df_train['balance'] < 0), 'balance'] = 0\n",
    "deposit_df_train.loc[(deposit_df_train['balance'] >= 0) & (deposit_df_train['balance'] < 1500), 'balance'] = 1\n",
    "deposit_df_train.loc[(deposit_df_train['balance'] >= 1500) & (deposit_df_train['balance'] < 3000), 'balance'] = 2\n",
    "deposit_df_train.loc[(deposit_df_train['balance'] > 3000) , 'balance'] = 3"
   ]
  },
  {
   "cell_type": "code",
   "execution_count": 10,
   "metadata": {},
   "outputs": [
    {
     "data": {
      "image/png": "[encoded data removed]",
      "text/plain": [
       "<Figure size 720x432 with 2 Axes>"
      ]
     },
     "metadata": {
      "needs_background": "light"
     },
     "output_type": "display_data"
    }
   ],
   "source": [
    "## plot the distribution of  balance\n",
    "# plot the distribution of bore\n",
    "bore_mean = deposit_df_train['balance'].mean()\n",
    "\n",
    "bore_mean = deposit_df_train['balance'].mean()\n",
    "bore_median = deposit_df_train['balance'].median()\n",
    "bore_std = deposit_df_train['balance'].std()\n",
    "bore_missing = deposit_df_train['balance'].isnull().sum()\n",
    "\n",
    "plt.figure(figsize=(10,6))\n",
    "plt.subplot(211)\n",
    "deposit_df_train['balance'].plot.hist(bins=30)\n",
    "plt.axvline(bore_mean, color='red', linestyle='--')\n",
    "plt.axvline(bore_median, color='green', linestyle='--')\n",
    "plt.axvline(bore_mean - bore_std, color='black', linestyle='--')\n",
    "plt.axvline(bore_mean + bore_std, color='black', linestyle='--')\n",
    "plt.title('Distribution of balance')\n",
    "# plt.xlabel('Age')\n",
    "plt.legend(['Mean', 'Median', 'Mean - Std', 'Mean + Std'])\n",
    "\n",
    "plt.subplot(212)\n",
    "sns.boxplot(deposit_df_train['balance'])\n",
    "\n",
    "plt.show()"
   ]
  },
  {
   "cell_type": "code",
   "execution_count": 11,
   "metadata": {},
   "outputs": [
    {
     "name": "stdout",
     "output_type": "stream",
     "text": [
      "1.4188151938594764\n"
     ]
    }
   ],
   "source": [
    "print(deposit_df_train['balance'].mean())"
   ]
  },
  {
   "cell_type": "code",
   "execution_count": 12,
   "metadata": {},
   "outputs": [
    {
     "data": {
      "text/plain": [
       "1    7334\n",
       "3    1428\n",
       "2    1400\n",
       "Name: balance, dtype: int64"
      ]
     },
     "execution_count": 12,
     "metadata": {},
     "output_type": "execute_result"
    }
   ],
   "source": [
    "deposit_df_train['balance'].value_counts()"
   ]
  },
  {
   "cell_type": "code",
   "execution_count": 13,
   "metadata": {},
   "outputs": [
    {
     "data": {
      "text/html": [
       "<div>\n",
       "<style scoped>\n",
       "    .dataframe tbody tr th:only-of-type {\n",
       "        vertical-align: middle;\n",
       "    }\n",
       "\n",
       "    .dataframe tbody tr th {\n",
       "        vertical-align: top;\n",
       "    }\n",
       "\n",
       "    .dataframe thead th {\n",
       "        text-align: right;\n",
       "    }\n",
       "</style>\n",
       "<table border=\"1\" class=\"dataframe\">\n",
       "  <thead>\n",
       "    <tr style=\"text-align: right;\">\n",
       "      <th></th>\n",
       "      <th>age</th>\n",
       "      <th>job</th>\n",
       "      <th>marital</th>\n",
       "      <th>education</th>\n",
       "      <th>default</th>\n",
       "      <th>balance</th>\n",
       "      <th>housing</th>\n",
       "      <th>loan</th>\n",
       "      <th>contact</th>\n",
       "      <th>day</th>\n",
       "      <th>month</th>\n",
       "      <th>campaign</th>\n",
       "      <th>pdays</th>\n",
       "      <th>previous</th>\n",
       "      <th>poutcome</th>\n",
       "      <th>deposit</th>\n",
       "    </tr>\n",
       "  </thead>\n",
       "  <tbody>\n",
       "    <tr>\n",
       "      <th>0</th>\n",
       "      <td>61</td>\n",
       "      <td>management</td>\n",
       "      <td>married</td>\n",
       "      <td>tertiary</td>\n",
       "      <td>no</td>\n",
       "      <td>1</td>\n",
       "      <td>no</td>\n",
       "      <td>no</td>\n",
       "      <td>cellular</td>\n",
       "      <td>10</td>\n",
       "      <td>mar</td>\n",
       "      <td>1</td>\n",
       "      <td>-1</td>\n",
       "      <td>0</td>\n",
       "      <td>other</td>\n",
       "      <td>1</td>\n",
       "    </tr>\n",
       "    <tr>\n",
       "      <th>1</th>\n",
       "      <td>77</td>\n",
       "      <td>retired</td>\n",
       "      <td>married</td>\n",
       "      <td>tertiary</td>\n",
       "      <td>no</td>\n",
       "      <td>1</td>\n",
       "      <td>no</td>\n",
       "      <td>no</td>\n",
       "      <td>cellular</td>\n",
       "      <td>13</td>\n",
       "      <td>aug</td>\n",
       "      <td>2</td>\n",
       "      <td>-1</td>\n",
       "      <td>0</td>\n",
       "      <td>other</td>\n",
       "      <td>1</td>\n",
       "    </tr>\n",
       "    <tr>\n",
       "      <th>2</th>\n",
       "      <td>27</td>\n",
       "      <td>other</td>\n",
       "      <td>single</td>\n",
       "      <td>secondary</td>\n",
       "      <td>no</td>\n",
       "      <td>1</td>\n",
       "      <td>no</td>\n",
       "      <td>no</td>\n",
       "      <td>cellular</td>\n",
       "      <td>25</td>\n",
       "      <td>may</td>\n",
       "      <td>2</td>\n",
       "      <td>-1</td>\n",
       "      <td>0</td>\n",
       "      <td>other</td>\n",
       "      <td>1</td>\n",
       "    </tr>\n",
       "    <tr>\n",
       "      <th>3</th>\n",
       "      <td>48</td>\n",
       "      <td>blue-collar</td>\n",
       "      <td>divorced</td>\n",
       "      <td>primary</td>\n",
       "      <td>no</td>\n",
       "      <td>2</td>\n",
       "      <td>no</td>\n",
       "      <td>no</td>\n",
       "      <td>other</td>\n",
       "      <td>20</td>\n",
       "      <td>jun</td>\n",
       "      <td>3</td>\n",
       "      <td>-1</td>\n",
       "      <td>0</td>\n",
       "      <td>other</td>\n",
       "      <td>0</td>\n",
       "    </tr>\n",
       "    <tr>\n",
       "      <th>4</th>\n",
       "      <td>31</td>\n",
       "      <td>technician</td>\n",
       "      <td>divorced</td>\n",
       "      <td>tertiary</td>\n",
       "      <td>no</td>\n",
       "      <td>1</td>\n",
       "      <td>no</td>\n",
       "      <td>no</td>\n",
       "      <td>cellular</td>\n",
       "      <td>27</td>\n",
       "      <td>aug</td>\n",
       "      <td>6</td>\n",
       "      <td>-1</td>\n",
       "      <td>0</td>\n",
       "      <td>other</td>\n",
       "      <td>1</td>\n",
       "    </tr>\n",
       "  </tbody>\n",
       "</table>\n",
       "</div>"
      ],
      "text/plain": [
       "   age          job   marital  education default  balance housing loan  \\\n",
       "0   61   management   married   tertiary      no        1      no   no   \n",
       "1   77      retired   married   tertiary      no        1      no   no   \n",
       "2   27        other    single  secondary      no        1      no   no   \n",
       "3   48  blue-collar  divorced    primary      no        2      no   no   \n",
       "4   31   technician  divorced   tertiary      no        1      no   no   \n",
       "\n",
       "    contact  day month  campaign  pdays  previous poutcome  deposit  \n",
       "0  cellular   10   mar         1     -1         0    other        1  \n",
       "1  cellular   13   aug         2     -1         0    other        1  \n",
       "2  cellular   25   may         2     -1         0    other        1  \n",
       "3     other   20   jun         3     -1         0    other        0  \n",
       "4  cellular   27   aug         6     -1         0    other        1  "
      ]
     },
     "execution_count": 13,
     "metadata": {},
     "output_type": "execute_result"
    }
   ],
   "source": [
    "deposit_df_train.head()"
   ]
  },
  {
   "cell_type": "code",
   "execution_count": 14,
   "metadata": {},
   "outputs": [
    {
     "data": {
      "text/plain": [
       "0    5332\n",
       "1    4830\n",
       "Name: deposit, dtype: int64"
      ]
     },
     "execution_count": 14,
     "metadata": {},
     "output_type": "execute_result"
    }
   ],
   "source": [
    "deposit_df_train['deposit'].value_counts()"
   ]
  },
  {
   "cell_type": "code",
   "execution_count": 15,
   "metadata": {},
   "outputs": [
    {
     "data": {
      "text/html": [
       "<div>\n",
       "<style scoped>\n",
       "    .dataframe tbody tr th:only-of-type {\n",
       "        vertical-align: middle;\n",
       "    }\n",
       "\n",
       "    .dataframe tbody tr th {\n",
       "        vertical-align: top;\n",
       "    }\n",
       "\n",
       "    .dataframe thead th {\n",
       "        text-align: right;\n",
       "    }\n",
       "</style>\n",
       "<table border=\"1\" class=\"dataframe\">\n",
       "  <thead>\n",
       "    <tr style=\"text-align: right;\">\n",
       "      <th></th>\n",
       "      <th>age</th>\n",
       "      <th>job</th>\n",
       "      <th>marital</th>\n",
       "      <th>education</th>\n",
       "      <th>default</th>\n",
       "      <th>balance</th>\n",
       "      <th>housing</th>\n",
       "      <th>loan</th>\n",
       "      <th>contact</th>\n",
       "      <th>day</th>\n",
       "      <th>month</th>\n",
       "      <th>campaign</th>\n",
       "      <th>pdays</th>\n",
       "      <th>previous</th>\n",
       "      <th>poutcome</th>\n",
       "      <th>deposit</th>\n",
       "    </tr>\n",
       "  </thead>\n",
       "  <tbody>\n",
       "    <tr>\n",
       "      <th>0</th>\n",
       "      <td>61</td>\n",
       "      <td>management</td>\n",
       "      <td>married</td>\n",
       "      <td>tertiary</td>\n",
       "      <td>no</td>\n",
       "      <td>1</td>\n",
       "      <td>no</td>\n",
       "      <td>no</td>\n",
       "      <td>cellular</td>\n",
       "      <td>10</td>\n",
       "      <td>mar</td>\n",
       "      <td>1</td>\n",
       "      <td>-1</td>\n",
       "      <td>0</td>\n",
       "      <td>other</td>\n",
       "      <td>1</td>\n",
       "    </tr>\n",
       "    <tr>\n",
       "      <th>1</th>\n",
       "      <td>77</td>\n",
       "      <td>retired</td>\n",
       "      <td>married</td>\n",
       "      <td>tertiary</td>\n",
       "      <td>no</td>\n",
       "      <td>1</td>\n",
       "      <td>no</td>\n",
       "      <td>no</td>\n",
       "      <td>cellular</td>\n",
       "      <td>13</td>\n",
       "      <td>aug</td>\n",
       "      <td>2</td>\n",
       "      <td>-1</td>\n",
       "      <td>0</td>\n",
       "      <td>other</td>\n",
       "      <td>1</td>\n",
       "    </tr>\n",
       "    <tr>\n",
       "      <th>2</th>\n",
       "      <td>27</td>\n",
       "      <td>other</td>\n",
       "      <td>single</td>\n",
       "      <td>secondary</td>\n",
       "      <td>no</td>\n",
       "      <td>1</td>\n",
       "      <td>no</td>\n",
       "      <td>no</td>\n",
       "      <td>cellular</td>\n",
       "      <td>25</td>\n",
       "      <td>may</td>\n",
       "      <td>2</td>\n",
       "      <td>-1</td>\n",
       "      <td>0</td>\n",
       "      <td>other</td>\n",
       "      <td>1</td>\n",
       "    </tr>\n",
       "    <tr>\n",
       "      <th>3</th>\n",
       "      <td>48</td>\n",
       "      <td>blue-collar</td>\n",
       "      <td>divorced</td>\n",
       "      <td>primary</td>\n",
       "      <td>no</td>\n",
       "      <td>2</td>\n",
       "      <td>no</td>\n",
       "      <td>no</td>\n",
       "      <td>other</td>\n",
       "      <td>20</td>\n",
       "      <td>jun</td>\n",
       "      <td>3</td>\n",
       "      <td>-1</td>\n",
       "      <td>0</td>\n",
       "      <td>other</td>\n",
       "      <td>0</td>\n",
       "    </tr>\n",
       "    <tr>\n",
       "      <th>4</th>\n",
       "      <td>31</td>\n",
       "      <td>technician</td>\n",
       "      <td>divorced</td>\n",
       "      <td>tertiary</td>\n",
       "      <td>no</td>\n",
       "      <td>1</td>\n",
       "      <td>no</td>\n",
       "      <td>no</td>\n",
       "      <td>cellular</td>\n",
       "      <td>27</td>\n",
       "      <td>aug</td>\n",
       "      <td>6</td>\n",
       "      <td>-1</td>\n",
       "      <td>0</td>\n",
       "      <td>other</td>\n",
       "      <td>1</td>\n",
       "    </tr>\n",
       "  </tbody>\n",
       "</table>\n",
       "</div>"
      ],
      "text/plain": [
       "   age          job   marital  education default  balance housing loan  \\\n",
       "0   61   management   married   tertiary      no        1      no   no   \n",
       "1   77      retired   married   tertiary      no        1      no   no   \n",
       "2   27        other    single  secondary      no        1      no   no   \n",
       "3   48  blue-collar  divorced    primary      no        2      no   no   \n",
       "4   31   technician  divorced   tertiary      no        1      no   no   \n",
       "\n",
       "    contact  day month  campaign  pdays  previous poutcome  deposit  \n",
       "0  cellular   10   mar         1     -1         0    other        1  \n",
       "1  cellular   13   aug         2     -1         0    other        1  \n",
       "2  cellular   25   may         2     -1         0    other        1  \n",
       "3     other   20   jun         3     -1         0    other        0  \n",
       "4  cellular   27   aug         6     -1         0    other        1  "
      ]
     },
     "execution_count": 15,
     "metadata": {},
     "output_type": "execute_result"
    }
   ],
   "source": [
    "deposit_df_train.head()"
   ]
  },
  {
   "cell_type": "code",
   "execution_count": 16,
   "metadata": {},
   "outputs": [
    {
     "data": {
      "text/plain": [
       "age          0\n",
       "job          0\n",
       "marital      0\n",
       "education    0\n",
       "default      0\n",
       "balance      0\n",
       "housing      0\n",
       "loan         0\n",
       "contact      0\n",
       "day          0\n",
       "month        0\n",
       "campaign     0\n",
       "pdays        0\n",
       "previous     0\n",
       "poutcome     0\n",
       "deposit      0\n",
       "dtype: int64"
      ]
     },
     "execution_count": 16,
     "metadata": {},
     "output_type": "execute_result"
    }
   ],
   "source": [
    "deposit_df_train.isnull().sum()"
   ]
  },
  {
   "cell_type": "code",
   "execution_count": 17,
   "metadata": {},
   "outputs": [
    {
     "data": {
      "text/plain": [
       "(10162, 16)"
      ]
     },
     "execution_count": 17,
     "metadata": {},
     "output_type": "execute_result"
    }
   ],
   "source": [
    "deposit_df_train.shape"
   ]
  },
  {
   "cell_type": "code",
   "execution_count": 18,
   "metadata": {},
   "outputs": [],
   "source": [
    "#labelEncoder for all non numerical data\n",
    "# deposit_df_train_labeled = deposit_df_train.drop('deposit', axis=1).apply(LabelEncoder().fit_transform)"
   ]
  },
  {
   "cell_type": "code",
   "execution_count": 19,
   "metadata": {},
   "outputs": [
    {
     "data": {
      "text/html": [
       "<div>\n",
       "<style scoped>\n",
       "    .dataframe tbody tr th:only-of-type {\n",
       "        vertical-align: middle;\n",
       "    }\n",
       "\n",
       "    .dataframe tbody tr th {\n",
       "        vertical-align: top;\n",
       "    }\n",
       "\n",
       "    .dataframe thead th {\n",
       "        text-align: right;\n",
       "    }\n",
       "</style>\n",
       "<table border=\"1\" class=\"dataframe\">\n",
       "  <thead>\n",
       "    <tr style=\"text-align: right;\">\n",
       "      <th></th>\n",
       "      <th>age</th>\n",
       "      <th>job</th>\n",
       "      <th>marital</th>\n",
       "      <th>education</th>\n",
       "      <th>default</th>\n",
       "      <th>balance</th>\n",
       "      <th>housing</th>\n",
       "      <th>loan</th>\n",
       "      <th>contact</th>\n",
       "      <th>day</th>\n",
       "      <th>month</th>\n",
       "      <th>poutcome</th>\n",
       "    </tr>\n",
       "  </thead>\n",
       "  <tbody>\n",
       "    <tr>\n",
       "      <th>0</th>\n",
       "      <td>39</td>\n",
       "      <td>management</td>\n",
       "      <td>married</td>\n",
       "      <td>tertiary</td>\n",
       "      <td>no</td>\n",
       "      <td>285</td>\n",
       "      <td>yes</td>\n",
       "      <td>no</td>\n",
       "      <td>cellular</td>\n",
       "      <td>15</td>\n",
       "      <td>jul</td>\n",
       "      <td>unknown</td>\n",
       "    </tr>\n",
       "    <tr>\n",
       "      <th>1</th>\n",
       "      <td>67</td>\n",
       "      <td>retired</td>\n",
       "      <td>married</td>\n",
       "      <td>secondary</td>\n",
       "      <td>no</td>\n",
       "      <td>1146</td>\n",
       "      <td>no</td>\n",
       "      <td>no</td>\n",
       "      <td>cellular</td>\n",
       "      <td>13</td>\n",
       "      <td>nov</td>\n",
       "      <td>failure</td>\n",
       "    </tr>\n",
       "    <tr>\n",
       "      <th>2</th>\n",
       "      <td>38</td>\n",
       "      <td>management</td>\n",
       "      <td>single</td>\n",
       "      <td>tertiary</td>\n",
       "      <td>no</td>\n",
       "      <td>91</td>\n",
       "      <td>yes</td>\n",
       "      <td>no</td>\n",
       "      <td>unknown</td>\n",
       "      <td>19</td>\n",
       "      <td>may</td>\n",
       "      <td>unknown</td>\n",
       "    </tr>\n",
       "    <tr>\n",
       "      <th>3</th>\n",
       "      <td>28</td>\n",
       "      <td>management</td>\n",
       "      <td>married</td>\n",
       "      <td>tertiary</td>\n",
       "      <td>no</td>\n",
       "      <td>12</td>\n",
       "      <td>yes</td>\n",
       "      <td>no</td>\n",
       "      <td>cellular</td>\n",
       "      <td>9</td>\n",
       "      <td>sep</td>\n",
       "      <td>unknown</td>\n",
       "    </tr>\n",
       "    <tr>\n",
       "      <th>4</th>\n",
       "      <td>29</td>\n",
       "      <td>blue-collar</td>\n",
       "      <td>married</td>\n",
       "      <td>secondary</td>\n",
       "      <td>no</td>\n",
       "      <td>8</td>\n",
       "      <td>yes</td>\n",
       "      <td>yes</td>\n",
       "      <td>cellular</td>\n",
       "      <td>10</td>\n",
       "      <td>jul</td>\n",
       "      <td>unknown</td>\n",
       "    </tr>\n",
       "    <tr>\n",
       "      <th>...</th>\n",
       "      <td>...</td>\n",
       "      <td>...</td>\n",
       "      <td>...</td>\n",
       "      <td>...</td>\n",
       "      <td>...</td>\n",
       "      <td>...</td>\n",
       "      <td>...</td>\n",
       "      <td>...</td>\n",
       "      <td>...</td>\n",
       "      <td>...</td>\n",
       "      <td>...</td>\n",
       "      <td>...</td>\n",
       "    </tr>\n",
       "    <tr>\n",
       "      <th>995</th>\n",
       "      <td>22</td>\n",
       "      <td>student</td>\n",
       "      <td>single</td>\n",
       "      <td>tertiary</td>\n",
       "      <td>no</td>\n",
       "      <td>1161</td>\n",
       "      <td>no</td>\n",
       "      <td>yes</td>\n",
       "      <td>cellular</td>\n",
       "      <td>16</td>\n",
       "      <td>jun</td>\n",
       "      <td>unknown</td>\n",
       "    </tr>\n",
       "    <tr>\n",
       "      <th>996</th>\n",
       "      <td>33</td>\n",
       "      <td>self-employed</td>\n",
       "      <td>married</td>\n",
       "      <td>tertiary</td>\n",
       "      <td>no</td>\n",
       "      <td>263</td>\n",
       "      <td>no</td>\n",
       "      <td>no</td>\n",
       "      <td>cellular</td>\n",
       "      <td>16</td>\n",
       "      <td>nov</td>\n",
       "      <td>failure</td>\n",
       "    </tr>\n",
       "    <tr>\n",
       "      <th>997</th>\n",
       "      <td>36</td>\n",
       "      <td>management</td>\n",
       "      <td>married</td>\n",
       "      <td>tertiary</td>\n",
       "      <td>no</td>\n",
       "      <td>6641</td>\n",
       "      <td>no</td>\n",
       "      <td>no</td>\n",
       "      <td>cellular</td>\n",
       "      <td>30</td>\n",
       "      <td>jul</td>\n",
       "      <td>unknown</td>\n",
       "    </tr>\n",
       "    <tr>\n",
       "      <th>998</th>\n",
       "      <td>36</td>\n",
       "      <td>blue-collar</td>\n",
       "      <td>divorced</td>\n",
       "      <td>secondary</td>\n",
       "      <td>no</td>\n",
       "      <td>638</td>\n",
       "      <td>yes</td>\n",
       "      <td>no</td>\n",
       "      <td>unknown</td>\n",
       "      <td>16</td>\n",
       "      <td>jun</td>\n",
       "      <td>unknown</td>\n",
       "    </tr>\n",
       "    <tr>\n",
       "      <th>999</th>\n",
       "      <td>34</td>\n",
       "      <td>services</td>\n",
       "      <td>single</td>\n",
       "      <td>secondary</td>\n",
       "      <td>no</td>\n",
       "      <td>4062</td>\n",
       "      <td>yes</td>\n",
       "      <td>yes</td>\n",
       "      <td>cellular</td>\n",
       "      <td>15</td>\n",
       "      <td>may</td>\n",
       "      <td>unknown</td>\n",
       "    </tr>\n",
       "  </tbody>\n",
       "</table>\n",
       "<p>1000 rows × 12 columns</p>\n",
       "</div>"
      ],
      "text/plain": [
       "     age            job   marital  education default  balance housing loan  \\\n",
       "0     39     management   married   tertiary      no      285     yes   no   \n",
       "1     67        retired   married  secondary      no     1146      no   no   \n",
       "2     38     management    single   tertiary      no       91     yes   no   \n",
       "3     28     management   married   tertiary      no       12     yes   no   \n",
       "4     29    blue-collar   married  secondary      no        8     yes  yes   \n",
       "..   ...            ...       ...        ...     ...      ...     ...  ...   \n",
       "995   22        student    single   tertiary      no     1161      no  yes   \n",
       "996   33  self-employed   married   tertiary      no      263      no   no   \n",
       "997   36     management   married   tertiary      no     6641      no   no   \n",
       "998   36    blue-collar  divorced  secondary      no      638     yes   no   \n",
       "999   34       services    single  secondary      no     4062     yes  yes   \n",
       "\n",
       "      contact  day month poutcome  \n",
       "0    cellular   15   jul  unknown  \n",
       "1    cellular   13   nov  failure  \n",
       "2     unknown   19   may  unknown  \n",
       "3    cellular    9   sep  unknown  \n",
       "4    cellular   10   jul  unknown  \n",
       "..        ...  ...   ...      ...  \n",
       "995  cellular   16   jun  unknown  \n",
       "996  cellular   16   nov  failure  \n",
       "997  cellular   30   jul  unknown  \n",
       "998   unknown   16   jun  unknown  \n",
       "999  cellular   15   may  unknown  \n",
       "\n",
       "[1000 rows x 12 columns]"
      ]
     },
     "execution_count": 19,
     "metadata": {},
     "output_type": "execute_result"
    }
   ],
   "source": [
    "test_df"
   ]
  },
  {
   "cell_type": "code",
   "execution_count": 20,
   "metadata": {},
   "outputs": [],
   "source": [
    "# # В колонке #month замена: \n",
    "# test_df.replace(to_replace=['jan', 'feb', 'dec','mar','apr','may','jun','jul','aug','sep','oct','nov'],\n",
    "#            value= ['winter','winter','winter','spring','spring','spring','summer','summer','summer','autumn','autumn','autumn'], \n",
    "#            inplace=True)"
   ]
  },
  {
   "cell_type": "code",
   "execution_count": 21,
   "metadata": {},
   "outputs": [],
   "source": [
    "# В колонке #job замена: \n",
    "test_df.replace(to_replace=['unknown', 'housemaid', 'entrepreneur','unemployed','student','self-employed'],\n",
    "           value= ['other','other','other','other','other','other'], \n",
    "           inplace=True)"
   ]
  },
  {
   "cell_type": "code",
   "execution_count": 22,
   "metadata": {},
   "outputs": [],
   "source": [
    "# В колонке #balance замена:\n",
    "deposit_df_train.loc[(deposit_df_train['balance'] < 0), 'balance'] = 0\n",
    "deposit_df_train.loc[(deposit_df_train['balance'] >= 0) & (deposit_df_train['balance'] < 1500), 'balance'] = 1\n",
    "deposit_df_train.loc[(deposit_df_train['balance'] >= 1500) & (deposit_df_train['balance'] < 3000), 'balance'] = 2\n",
    "deposit_df_train.loc[(deposit_df_train['balance'] > 3000) , 'balance'] = 3"
   ]
  },
  {
   "cell_type": "code",
   "execution_count": 23,
   "metadata": {},
   "outputs": [],
   "source": [
    "# DROP SOME COLUMNS becouse of low correlations / hihgt variance and no economyc sence: pdays, previous, campaign, education\n",
    "deposit_df_train_labeled = deposit_df_train.drop(['deposit','pdays','previous','campaign'], axis=1).apply(LabelEncoder().fit_transform)\n",
    "test_df = test_df.apply(LabelEncoder().fit_transform)\n",
    "\n",
    "# 'marital','education'"
   ]
  },
  {
   "cell_type": "code",
   "execution_count": 24,
   "metadata": {},
   "outputs": [
    {
     "data": {
      "text/html": [
       "<div>\n",
       "<style scoped>\n",
       "    .dataframe tbody tr th:only-of-type {\n",
       "        vertical-align: middle;\n",
       "    }\n",
       "\n",
       "    .dataframe tbody tr th {\n",
       "        vertical-align: top;\n",
       "    }\n",
       "\n",
       "    .dataframe thead th {\n",
       "        text-align: right;\n",
       "    }\n",
       "</style>\n",
       "<table border=\"1\" class=\"dataframe\">\n",
       "  <thead>\n",
       "    <tr style=\"text-align: right;\">\n",
       "      <th></th>\n",
       "      <th>age</th>\n",
       "      <th>job</th>\n",
       "      <th>marital</th>\n",
       "      <th>education</th>\n",
       "      <th>default</th>\n",
       "      <th>balance</th>\n",
       "      <th>housing</th>\n",
       "      <th>loan</th>\n",
       "      <th>contact</th>\n",
       "      <th>day</th>\n",
       "      <th>month</th>\n",
       "      <th>poutcome</th>\n",
       "    </tr>\n",
       "  </thead>\n",
       "  <tbody>\n",
       "    <tr>\n",
       "      <th>0</th>\n",
       "      <td>43</td>\n",
       "      <td>2</td>\n",
       "      <td>1</td>\n",
       "      <td>3</td>\n",
       "      <td>0</td>\n",
       "      <td>0</td>\n",
       "      <td>0</td>\n",
       "      <td>0</td>\n",
       "      <td>0</td>\n",
       "      <td>9</td>\n",
       "      <td>7</td>\n",
       "      <td>1</td>\n",
       "    </tr>\n",
       "    <tr>\n",
       "      <th>1</th>\n",
       "      <td>59</td>\n",
       "      <td>4</td>\n",
       "      <td>1</td>\n",
       "      <td>3</td>\n",
       "      <td>0</td>\n",
       "      <td>0</td>\n",
       "      <td>0</td>\n",
       "      <td>0</td>\n",
       "      <td>0</td>\n",
       "      <td>12</td>\n",
       "      <td>1</td>\n",
       "      <td>1</td>\n",
       "    </tr>\n",
       "    <tr>\n",
       "      <th>2</th>\n",
       "      <td>9</td>\n",
       "      <td>3</td>\n",
       "      <td>2</td>\n",
       "      <td>2</td>\n",
       "      <td>0</td>\n",
       "      <td>0</td>\n",
       "      <td>0</td>\n",
       "      <td>0</td>\n",
       "      <td>0</td>\n",
       "      <td>24</td>\n",
       "      <td>8</td>\n",
       "      <td>1</td>\n",
       "    </tr>\n",
       "    <tr>\n",
       "      <th>3</th>\n",
       "      <td>30</td>\n",
       "      <td>1</td>\n",
       "      <td>0</td>\n",
       "      <td>1</td>\n",
       "      <td>0</td>\n",
       "      <td>0</td>\n",
       "      <td>0</td>\n",
       "      <td>0</td>\n",
       "      <td>1</td>\n",
       "      <td>19</td>\n",
       "      <td>6</td>\n",
       "      <td>1</td>\n",
       "    </tr>\n",
       "    <tr>\n",
       "      <th>4</th>\n",
       "      <td>13</td>\n",
       "      <td>6</td>\n",
       "      <td>0</td>\n",
       "      <td>3</td>\n",
       "      <td>0</td>\n",
       "      <td>0</td>\n",
       "      <td>0</td>\n",
       "      <td>0</td>\n",
       "      <td>0</td>\n",
       "      <td>26</td>\n",
       "      <td>1</td>\n",
       "      <td>1</td>\n",
       "    </tr>\n",
       "  </tbody>\n",
       "</table>\n",
       "</div>"
      ],
      "text/plain": [
       "   age  job  marital  education  default  balance  housing  loan  contact  \\\n",
       "0   43    2        1          3        0        0        0     0        0   \n",
       "1   59    4        1          3        0        0        0     0        0   \n",
       "2    9    3        2          2        0        0        0     0        0   \n",
       "3   30    1        0          1        0        0        0     0        1   \n",
       "4   13    6        0          3        0        0        0     0        0   \n",
       "\n",
       "   day  month  poutcome  \n",
       "0    9      7         1  \n",
       "1   12      1         1  \n",
       "2   24      8         1  \n",
       "3   19      6         1  \n",
       "4   26      1         1  "
      ]
     },
     "execution_count": 24,
     "metadata": {},
     "output_type": "execute_result"
    }
   ],
   "source": [
    "deposit_df_train_labeled.head()"
   ]
  },
  {
   "cell_type": "code",
   "execution_count": 25,
   "metadata": {},
   "outputs": [
    {
     "data": {
      "text/plain": [
       "8     2578\n",
       "1     1392\n",
       "5     1377\n",
       "6     1107\n",
       "9      853\n",
       "0      844\n",
       "3      711\n",
       "10     353\n",
       "4      304\n",
       "11     285\n",
       "7      252\n",
       "2      106\n",
       "Name: month, dtype: int64"
      ]
     },
     "execution_count": 25,
     "metadata": {},
     "output_type": "execute_result"
    }
   ],
   "source": [
    "deposit_df_train_labeled['month'].value_counts()"
   ]
  },
  {
   "cell_type": "code",
   "execution_count": 26,
   "metadata": {},
   "outputs": [
    {
     "data": {
      "text/html": [
       "<div>\n",
       "<style scoped>\n",
       "    .dataframe tbody tr th:only-of-type {\n",
       "        vertical-align: middle;\n",
       "    }\n",
       "\n",
       "    .dataframe tbody tr th {\n",
       "        vertical-align: top;\n",
       "    }\n",
       "\n",
       "    .dataframe thead th {\n",
       "        text-align: right;\n",
       "    }\n",
       "</style>\n",
       "<table border=\"1\" class=\"dataframe\">\n",
       "  <thead>\n",
       "    <tr style=\"text-align: right;\">\n",
       "      <th></th>\n",
       "      <th>age</th>\n",
       "      <th>job</th>\n",
       "      <th>marital</th>\n",
       "      <th>education</th>\n",
       "      <th>default</th>\n",
       "      <th>balance</th>\n",
       "      <th>housing</th>\n",
       "      <th>loan</th>\n",
       "      <th>contact</th>\n",
       "      <th>day</th>\n",
       "      <th>month</th>\n",
       "      <th>poutcome</th>\n",
       "    </tr>\n",
       "  </thead>\n",
       "  <tbody>\n",
       "    <tr>\n",
       "      <th>0</th>\n",
       "      <td>20</td>\n",
       "      <td>2</td>\n",
       "      <td>1</td>\n",
       "      <td>3</td>\n",
       "      <td>0</td>\n",
       "      <td>218</td>\n",
       "      <td>1</td>\n",
       "      <td>0</td>\n",
       "      <td>0</td>\n",
       "      <td>14</td>\n",
       "      <td>5</td>\n",
       "      <td>1</td>\n",
       "    </tr>\n",
       "    <tr>\n",
       "      <th>1</th>\n",
       "      <td>48</td>\n",
       "      <td>4</td>\n",
       "      <td>1</td>\n",
       "      <td>2</td>\n",
       "      <td>0</td>\n",
       "      <td>469</td>\n",
       "      <td>0</td>\n",
       "      <td>0</td>\n",
       "      <td>0</td>\n",
       "      <td>12</td>\n",
       "      <td>9</td>\n",
       "      <td>0</td>\n",
       "    </tr>\n",
       "    <tr>\n",
       "      <th>2</th>\n",
       "      <td>19</td>\n",
       "      <td>2</td>\n",
       "      <td>2</td>\n",
       "      <td>3</td>\n",
       "      <td>0</td>\n",
       "      <td>109</td>\n",
       "      <td>1</td>\n",
       "      <td>0</td>\n",
       "      <td>1</td>\n",
       "      <td>18</td>\n",
       "      <td>8</td>\n",
       "      <td>1</td>\n",
       "    </tr>\n",
       "    <tr>\n",
       "      <th>3</th>\n",
       "      <td>9</td>\n",
       "      <td>2</td>\n",
       "      <td>1</td>\n",
       "      <td>3</td>\n",
       "      <td>0</td>\n",
       "      <td>70</td>\n",
       "      <td>1</td>\n",
       "      <td>0</td>\n",
       "      <td>0</td>\n",
       "      <td>8</td>\n",
       "      <td>11</td>\n",
       "      <td>1</td>\n",
       "    </tr>\n",
       "    <tr>\n",
       "      <th>4</th>\n",
       "      <td>10</td>\n",
       "      <td>1</td>\n",
       "      <td>1</td>\n",
       "      <td>2</td>\n",
       "      <td>0</td>\n",
       "      <td>66</td>\n",
       "      <td>1</td>\n",
       "      <td>1</td>\n",
       "      <td>0</td>\n",
       "      <td>9</td>\n",
       "      <td>5</td>\n",
       "      <td>1</td>\n",
       "    </tr>\n",
       "  </tbody>\n",
       "</table>\n",
       "</div>"
      ],
      "text/plain": [
       "   age  job  marital  education  default  balance  housing  loan  contact  \\\n",
       "0   20    2        1          3        0      218        1     0        0   \n",
       "1   48    4        1          2        0      469        0     0        0   \n",
       "2   19    2        2          3        0      109        1     0        1   \n",
       "3    9    2        1          3        0       70        1     0        0   \n",
       "4   10    1        1          2        0       66        1     1        0   \n",
       "\n",
       "   day  month  poutcome  \n",
       "0   14      5         1  \n",
       "1   12      9         0  \n",
       "2   18      8         1  \n",
       "3    8     11         1  \n",
       "4    9      5         1  "
      ]
     },
     "execution_count": 26,
     "metadata": {},
     "output_type": "execute_result"
    }
   ],
   "source": [
    "test_df.head()"
   ]
  },
  {
   "cell_type": "code",
   "execution_count": 27,
   "metadata": {},
   "outputs": [
    {
     "data": {
      "text/plain": [
       "8     246\n",
       "5     137\n",
       "1     127\n",
       "6     115\n",
       "9      90\n",
       "0      79\n",
       "3      65\n",
       "4      40\n",
       "10     39\n",
       "11     34\n",
       "7      24\n",
       "2       4\n",
       "Name: month, dtype: int64"
      ]
     },
     "execution_count": 27,
     "metadata": {},
     "output_type": "execute_result"
    }
   ],
   "source": [
    "test_df['month'].value_counts()"
   ]
  },
  {
   "cell_type": "code",
   "execution_count": 28,
   "metadata": {},
   "outputs": [],
   "source": [
    "# train/test split\n",
    "\n",
    "X = deposit_df_train_labeled\n",
    "y = deposit_df_train['deposit']\n",
    "\n",
    "X_train, X_test, y_train, y_test = train_test_split(X, y)"
   ]
  },
  {
   "cell_type": "code",
   "execution_count": 29,
   "metadata": {},
   "outputs": [
    {
     "name": "stdout",
     "output_type": "stream",
     "text": [
      "Sklearn AdaBoost classifier:\n",
      " - accuracy_score:  0.71114\n",
      " - f1_score:  0.65637\n"
     ]
    }
   ],
   "source": [
    "# Adaboost\n",
    "clf_ada = AdaBoostClassifier(\n",
    "    DecisionTreeClassifier(max_depth=1),\n",
    "    n_estimators=148\n",
    ")\n",
    "\n",
    "clf_ada.fit(X_train, y_train)\n",
    "test_y_pred = clf_ada.predict(X_test)\n",
    "\n",
    "print(\"Sklearn AdaBoost classifier:\")\n",
    "print(f\" - accuracy_score: {accuracy_score(y_test, test_y_pred): .5f}\")\n",
    "print(f\" - f1_score: {f1_score(y_test, test_y_pred): .5f}\")"
   ]
  },
  {
   "cell_type": "code",
   "execution_count": 30,
   "metadata": {},
   "outputs": [
    {
     "data": {
      "text/plain": [
       "0.7711745008570232"
      ]
     },
     "execution_count": 30,
     "metadata": {},
     "output_type": "execute_result"
    }
   ],
   "source": [
    "# make predictions on a test set and get AUC score\n",
    "y_pred = clf_ada.predict_proba(X_test)\n",
    "roc_auc_score(y_test, y_pred[:,1])"
   ]
  },
  {
   "cell_type": "markdown",
   "metadata": {},
   "source": [
    "Model AdaBoost with Greed Search"
   ]
  },
  {
   "cell_type": "code",
   "execution_count": 31,
   "metadata": {},
   "outputs": [],
   "source": [
    "# parameters = {\n",
    "#     'n_estimators': list(range(101, 200)) \n",
    "#    }\n",
    "\n",
    "# #  'max_depth': list(range(100, 1000)), "
   ]
  },
  {
   "cell_type": "code",
   "execution_count": 32,
   "metadata": {},
   "outputs": [],
   "source": [
    "# base_model = AdaBoostClassifier()\n",
    "# gs_model = GridSearchCV(\n",
    "#     base_model, \n",
    "#     parameters, \n",
    "#     verbose=True,\n",
    "#     scoring='roc_auc')"
   ]
  },
  {
   "cell_type": "code",
   "execution_count": 33,
   "metadata": {},
   "outputs": [],
   "source": [
    "# # Adaboost\n",
    "# gs_model.fit(X_train, y_train)\n",
    "# gs_model.best_score_\n",
    "# gs_model.best_params_\n",
    "# gs_model.best_estimator_"
   ]
  },
  {
   "cell_type": "code",
   "execution_count": 34,
   "metadata": {},
   "outputs": [],
   "source": [
    "# AdaBoostClassifier(algorithm='SAMME.R', base_estimator=None, learning_rate=1.0,\n",
    "#                    n_estimators=148, random_state=None)\n",
    "\n",
    "# roc_auc = 0.7760502293049913"
   ]
  },
  {
   "cell_type": "code",
   "execution_count": 35,
   "metadata": {},
   "outputs": [],
   "source": [
    "# y_pred_gs = gs_model.predict(X_test)"
   ]
  },
  {
   "cell_type": "code",
   "execution_count": 36,
   "metadata": {},
   "outputs": [],
   "source": [
    "# # calculate the AUC\n",
    "# y_pred_prob_gs = gs_model.predict_proba(X_test)\n",
    "# fpr, tpr, thresholds = roc_curve(y_true=y_test, y_score=y_pred_prob_gs[:,1], pos_label=1)\n",
    "\n",
    "# roc_auc = auc(fpr, tpr)\n",
    "# roc_auc"
   ]
  },
  {
   "cell_type": "markdown",
   "metadata": {},
   "source": [
    "# XGBoost"
   ]
  },
  {
   "cell_type": "code",
   "execution_count": 37,
   "metadata": {},
   "outputs": [
    {
     "name": "stdout",
     "output_type": "stream",
     "text": [
      "Requirement already satisfied: xgboost in /opt/conda/lib/python3.6/site-packages (1.0.2)\r\n",
      "Requirement already satisfied: numpy in /opt/conda/lib/python3.6/site-packages (from xgboost) (1.18.1)\r\n",
      "Requirement already satisfied: scipy in /opt/conda/lib/python3.6/site-packages (from xgboost) (1.4.1)\r\n",
      "Note: you may need to restart the kernel to use updated packages.\n"
     ]
    }
   ],
   "source": [
    "pip install xgboost"
   ]
  },
  {
   "cell_type": "code",
   "execution_count": 38,
   "metadata": {},
   "outputs": [],
   "source": [
    "from xgboost import XGBClassifier"
   ]
  },
  {
   "cell_type": "code",
   "execution_count": 39,
   "metadata": {},
   "outputs": [
    {
     "data": {
      "text/plain": [
       "XGBClassifier(base_score=0.5, booster=None, colsample_bylevel=1,\n",
       "              colsample_bynode=1, colsample_bytree=1, gamma=0, gpu_id=-1,\n",
       "              importance_type='gain', interaction_constraints=None,\n",
       "              learning_rate=0.1, max_delta_step=0, max_depth=6,\n",
       "              min_child_weight=1, missing=nan, monotone_constraints=None,\n",
       "              n_estimators=100, n_jobs=0, num_parallel_tree=1,\n",
       "              objective='binary:logistic', random_state=0, reg_alpha=0,\n",
       "              reg_lambda=1, scale_pos_weight=1, subsample=1, tree_method=None,\n",
       "              validate_parameters=False, verbosity=None)"
      ]
     },
     "execution_count": 39,
     "metadata": {},
     "output_type": "execute_result"
    }
   ],
   "source": [
    "test_size = 0.2                # proportion of dataset to be used as test set\n",
    "cv_size = 0.2                  # proportion of dataset to be used as cross-validation set\n",
    "N = 20                        # for feature at day t, we use lags from t-1, t-2, ..., t-N as features\n",
    "\n",
    "n_estimators = 100             # Number of boosted trees to fit. default = 100\n",
    "max_depth = 6                  # Maximum tree depth for base learners. default = 3\n",
    "learning_rate = 0.1            # Boosting learning rate (xgb’s “eta”). default = 0.1\n",
    "min_child_weight = 1           # Minimum sum of instance weight(hessian) needed in a child. default = 1\n",
    "subsample = 1                  # Subsample ratio of the training instance. default = 1\n",
    "colsample_bytree = 1           # Subsample ratio of columns when constructing each tree. default = 1\n",
    "colsample_bylevel = 1          # Subsample ratio of columns for each split, in each level. default = 1\n",
    "gamma = 0                      # Minimum loss reduction required to make a further partition on a leaf node of the tree. default=0\n",
    "\n",
    "model_seed = 100\n",
    "\n",
    "fontsize = 14\n",
    "ticklabelsize = 14\n",
    "\n",
    "\n",
    "\n",
    "modelXGB = XGBClassifier(n_estimators=n_estimators,\n",
    "                     max_depth=max_depth,\n",
    "                     learning_rate=learning_rate,\n",
    "                     min_child_weight=min_child_weight,\n",
    "                     subsample=subsample,\n",
    "                     colsample_bytree=colsample_bytree,\n",
    "                     colsample_bylevel=colsample_bylevel,\n",
    "                     gamma=gamma)\n",
    "\n",
    "modelXGB.fit(X_train, y_train)"
   ]
  },
  {
   "cell_type": "code",
   "execution_count": 40,
   "metadata": {},
   "outputs": [],
   "source": [
    "test_y_pred3 = modelXGB.predict(X_test)"
   ]
  },
  {
   "cell_type": "code",
   "execution_count": 41,
   "metadata": {},
   "outputs": [
    {
     "data": {
      "text/plain": [
       "0.7903907130756008"
      ]
     },
     "execution_count": 41,
     "metadata": {},
     "output_type": "execute_result"
    }
   ],
   "source": [
    "# make predictions on a test set and get AUC score\n",
    "\n",
    "y_pred = modelXGB.predict_proba(X_test)\n",
    "\n",
    "roc_auc_score(y_test, y_pred[:,1])"
   ]
  },
  {
   "cell_type": "code",
   "execution_count": 42,
   "metadata": {},
   "outputs": [
    {
     "name": "stdout",
     "output_type": "stream",
     "text": [
      "Sklearn XGBoost classifier:\n",
      " - accuracy_score:  0.73672\n",
      " - f1_score:  0.69156\n"
     ]
    }
   ],
   "source": [
    "print(\"Sklearn XGBoost classifier:\")\n",
    "print(f\" - accuracy_score: {accuracy_score(y_test, test_y_pred3): .5f}\")\n",
    "\n",
    "print(f\" - f1_score: {f1_score(y_test, test_y_pred3): .5f}\")"
   ]
  },
  {
   "cell_type": "code",
   "execution_count": 43,
   "metadata": {},
   "outputs": [
    {
     "data": {
      "text/plain": [
       "0.010132451609402631"
      ]
     },
     "execution_count": 43,
     "metadata": {},
     "output_type": "execute_result"
    }
   ],
   "source": [
    "from sklearn.model_selection import cross_val_score\n",
    "\n",
    "cross_val_score(modelXGB, X_train, y_train, cv=5).std()"
   ]
  },
  {
   "cell_type": "code",
   "execution_count": 44,
   "metadata": {},
   "outputs": [],
   "source": [
    "# subm = pd.DataFrame() # create an empty DF for final submissiob\n",
    "# subm['deposit'] = modelXGB.predict_proba(test_df)[:,1] # create a new column that holds probability of first (1) class\n",
    "# subm.reset_index(drop=False, inplace=True) # duplicate index as a columns\n",
    "# subm.to_csv('my_submission.csv', index=False) # save as csv file"
   ]
  },
  {
   "cell_type": "code",
   "execution_count": 45,
   "metadata": {},
   "outputs": [],
   "source": [
    "# subm.head() "
   ]
  },
  {
   "cell_type": "code",
   "execution_count": 46,
   "metadata": {},
   "outputs": [],
   "source": [
    "##"
   ]
  },
  {
   "cell_type": "markdown",
   "metadata": {},
   "source": [
    "## CatBoost"
   ]
  },
  {
   "cell_type": "code",
   "execution_count": 47,
   "metadata": {},
   "outputs": [],
   "source": [
    "from catboost import CatBoostClassifier"
   ]
  },
  {
   "cell_type": "code",
   "execution_count": 48,
   "metadata": {},
   "outputs": [
    {
     "name": "stdout",
     "output_type": "stream",
     "text": [
      "0:\tlearn: 0.6791523\ttotal: 57.1ms\tremaining: 10.2s\n",
      "1:\tlearn: 0.6663321\ttotal: 60.6ms\tremaining: 5.4s\n",
      "2:\tlearn: 0.6547973\ttotal: 63.7ms\tremaining: 3.76s\n",
      "3:\tlearn: 0.6439884\ttotal: 66.8ms\tremaining: 2.94s\n",
      "4:\tlearn: 0.6353431\ttotal: 70ms\tremaining: 2.45s\n",
      "5:\tlearn: 0.6277422\ttotal: 73.1ms\tremaining: 2.12s\n",
      "6:\tlearn: 0.6216468\ttotal: 76.2ms\tremaining: 1.88s\n",
      "7:\tlearn: 0.6163322\ttotal: 79ms\tremaining: 1.7s\n",
      "8:\tlearn: 0.6115697\ttotal: 82.1ms\tremaining: 1.56s\n",
      "9:\tlearn: 0.6076652\ttotal: 86.2ms\tremaining: 1.47s\n",
      "10:\tlearn: 0.6032639\ttotal: 89.2ms\tremaining: 1.37s\n",
      "11:\tlearn: 0.6012011\ttotal: 91.1ms\tremaining: 1.27s\n",
      "12:\tlearn: 0.5983059\ttotal: 94.9ms\tremaining: 1.22s\n",
      "13:\tlearn: 0.5945442\ttotal: 98.6ms\tremaining: 1.17s\n",
      "14:\tlearn: 0.5910054\ttotal: 102ms\tremaining: 1.13s\n",
      "15:\tlearn: 0.5875807\ttotal: 105ms\tremaining: 1.08s\n",
      "16:\tlearn: 0.5854288\ttotal: 108ms\tremaining: 1.04s\n",
      "17:\tlearn: 0.5835502\ttotal: 111ms\tremaining: 1s\n",
      "18:\tlearn: 0.5816785\ttotal: 114ms\tremaining: 969ms\n",
      "19:\tlearn: 0.5795746\ttotal: 117ms\tremaining: 938ms\n",
      "20:\tlearn: 0.5768504\ttotal: 120ms\tremaining: 912ms\n",
      "21:\tlearn: 0.5744998\ttotal: 124ms\tremaining: 887ms\n",
      "22:\tlearn: 0.5731274\ttotal: 127ms\tremaining: 865ms\n",
      "23:\tlearn: 0.5712975\ttotal: 130ms\tremaining: 844ms\n",
      "24:\tlearn: 0.5698112\ttotal: 133ms\tremaining: 825ms\n",
      "25:\tlearn: 0.5687636\ttotal: 136ms\tremaining: 806ms\n",
      "26:\tlearn: 0.5675471\ttotal: 139ms\tremaining: 789ms\n",
      "27:\tlearn: 0.5660437\ttotal: 142ms\tremaining: 772ms\n",
      "28:\tlearn: 0.5645748\ttotal: 145ms\tremaining: 756ms\n",
      "29:\tlearn: 0.5632608\ttotal: 149ms\tremaining: 743ms\n",
      "30:\tlearn: 0.5621419\ttotal: 152ms\tremaining: 732ms\n",
      "31:\tlearn: 0.5611350\ttotal: 157ms\tremaining: 724ms\n",
      "32:\tlearn: 0.5594733\ttotal: 161ms\tremaining: 717ms\n",
      "33:\tlearn: 0.5587547\ttotal: 164ms\tremaining: 706ms\n",
      "34:\tlearn: 0.5579760\ttotal: 167ms\tremaining: 693ms\n",
      "35:\tlearn: 0.5567942\ttotal: 170ms\tremaining: 681ms\n",
      "36:\tlearn: 0.5555059\ttotal: 173ms\tremaining: 670ms\n",
      "37:\tlearn: 0.5546703\ttotal: 176ms\tremaining: 659ms\n",
      "38:\tlearn: 0.5538516\ttotal: 179ms\tremaining: 649ms\n",
      "39:\tlearn: 0.5531327\ttotal: 183ms\tremaining: 639ms\n",
      "40:\tlearn: 0.5523587\ttotal: 186ms\tremaining: 629ms\n",
      "41:\tlearn: 0.5516092\ttotal: 189ms\tremaining: 620ms\n",
      "42:\tlearn: 0.5509174\ttotal: 192ms\tremaining: 611ms\n",
      "43:\tlearn: 0.5502359\ttotal: 195ms\tremaining: 602ms\n",
      "44:\tlearn: 0.5491284\ttotal: 198ms\tremaining: 594ms\n",
      "45:\tlearn: 0.5482789\ttotal: 201ms\tremaining: 586ms\n",
      "46:\tlearn: 0.5476451\ttotal: 204ms\tremaining: 577ms\n",
      "47:\tlearn: 0.5470594\ttotal: 207ms\tremaining: 570ms\n",
      "48:\tlearn: 0.5464997\ttotal: 210ms\tremaining: 562ms\n",
      "49:\tlearn: 0.5456267\ttotal: 213ms\tremaining: 555ms\n",
      "50:\tlearn: 0.5449005\ttotal: 217ms\tremaining: 548ms\n",
      "51:\tlearn: 0.5445324\ttotal: 220ms\tremaining: 541ms\n",
      "52:\tlearn: 0.5440914\ttotal: 223ms\tremaining: 534ms\n",
      "53:\tlearn: 0.5432461\ttotal: 226ms\tremaining: 527ms\n",
      "54:\tlearn: 0.5425169\ttotal: 229ms\tremaining: 521ms\n",
      "55:\tlearn: 0.5419184\ttotal: 235ms\tremaining: 519ms\n",
      "56:\tlearn: 0.5412028\ttotal: 238ms\tremaining: 513ms\n",
      "57:\tlearn: 0.5404317\ttotal: 241ms\tremaining: 507ms\n",
      "58:\tlearn: 0.5399664\ttotal: 244ms\tremaining: 501ms\n",
      "59:\tlearn: 0.5394693\ttotal: 247ms\tremaining: 495ms\n",
      "60:\tlearn: 0.5385668\ttotal: 252ms\tremaining: 491ms\n",
      "61:\tlearn: 0.5381229\ttotal: 255ms\tremaining: 485ms\n",
      "62:\tlearn: 0.5379581\ttotal: 258ms\tremaining: 479ms\n",
      "63:\tlearn: 0.5376520\ttotal: 261ms\tremaining: 473ms\n",
      "64:\tlearn: 0.5367850\ttotal: 264ms\tremaining: 467ms\n",
      "65:\tlearn: 0.5361111\ttotal: 267ms\tremaining: 461ms\n",
      "66:\tlearn: 0.5357663\ttotal: 270ms\tremaining: 455ms\n",
      "67:\tlearn: 0.5353358\ttotal: 272ms\tremaining: 449ms\n",
      "68:\tlearn: 0.5348018\ttotal: 275ms\tremaining: 443ms\n",
      "69:\tlearn: 0.5343421\ttotal: 278ms\tremaining: 437ms\n",
      "70:\tlearn: 0.5335989\ttotal: 281ms\tremaining: 432ms\n",
      "71:\tlearn: 0.5334032\ttotal: 283ms\tremaining: 425ms\n",
      "72:\tlearn: 0.5327014\ttotal: 286ms\tremaining: 420ms\n",
      "73:\tlearn: 0.5321480\ttotal: 290ms\tremaining: 415ms\n",
      "74:\tlearn: 0.5318986\ttotal: 293ms\tremaining: 410ms\n",
      "75:\tlearn: 0.5314764\ttotal: 296ms\tremaining: 405ms\n",
      "76:\tlearn: 0.5309705\ttotal: 299ms\tremaining: 400ms\n",
      "77:\tlearn: 0.5305663\ttotal: 302ms\tremaining: 395ms\n",
      "78:\tlearn: 0.5298847\ttotal: 305ms\tremaining: 390ms\n",
      "79:\tlearn: 0.5295076\ttotal: 308ms\tremaining: 385ms\n",
      "80:\tlearn: 0.5289395\ttotal: 311ms\tremaining: 380ms\n",
      "81:\tlearn: 0.5283040\ttotal: 314ms\tremaining: 376ms\n",
      "82:\tlearn: 0.5276735\ttotal: 318ms\tremaining: 371ms\n",
      "83:\tlearn: 0.5271432\ttotal: 321ms\tremaining: 367ms\n",
      "84:\tlearn: 0.5265188\ttotal: 324ms\tremaining: 362ms\n",
      "85:\tlearn: 0.5260445\ttotal: 327ms\tremaining: 357ms\n",
      "86:\tlearn: 0.5257410\ttotal: 330ms\tremaining: 353ms\n",
      "87:\tlearn: 0.5252837\ttotal: 333ms\tremaining: 348ms\n",
      "88:\tlearn: 0.5244127\ttotal: 336ms\tremaining: 344ms\n",
      "89:\tlearn: 0.5238963\ttotal: 339ms\tremaining: 339ms\n",
      "90:\tlearn: 0.5235743\ttotal: 342ms\tremaining: 335ms\n",
      "91:\tlearn: 0.5231806\ttotal: 345ms\tremaining: 330ms\n",
      "92:\tlearn: 0.5228748\ttotal: 348ms\tremaining: 326ms\n",
      "93:\tlearn: 0.5225890\ttotal: 352ms\tremaining: 322ms\n",
      "94:\tlearn: 0.5223687\ttotal: 354ms\tremaining: 317ms\n",
      "95:\tlearn: 0.5216160\ttotal: 358ms\tremaining: 313ms\n",
      "96:\tlearn: 0.5208807\ttotal: 361ms\tremaining: 309ms\n",
      "97:\tlearn: 0.5205065\ttotal: 364ms\tremaining: 305ms\n",
      "98:\tlearn: 0.5199102\ttotal: 368ms\tremaining: 301ms\n",
      "99:\tlearn: 0.5192704\ttotal: 371ms\tremaining: 297ms\n",
      "100:\tlearn: 0.5187098\ttotal: 374ms\tremaining: 293ms\n",
      "101:\tlearn: 0.5184529\ttotal: 377ms\tremaining: 288ms\n",
      "102:\tlearn: 0.5179833\ttotal: 380ms\tremaining: 284ms\n",
      "103:\tlearn: 0.5177414\ttotal: 383ms\tremaining: 280ms\n",
      "104:\tlearn: 0.5172751\ttotal: 386ms\tremaining: 276ms\n",
      "105:\tlearn: 0.5166899\ttotal: 389ms\tremaining: 272ms\n",
      "106:\tlearn: 0.5160942\ttotal: 393ms\tremaining: 268ms\n",
      "107:\tlearn: 0.5156033\ttotal: 396ms\tremaining: 264ms\n",
      "108:\tlearn: 0.5152737\ttotal: 399ms\tremaining: 260ms\n",
      "109:\tlearn: 0.5148701\ttotal: 402ms\tremaining: 256ms\n",
      "110:\tlearn: 0.5145578\ttotal: 406ms\tremaining: 252ms\n",
      "111:\tlearn: 0.5141524\ttotal: 409ms\tremaining: 248ms\n",
      "112:\tlearn: 0.5135431\ttotal: 412ms\tremaining: 244ms\n",
      "113:\tlearn: 0.5130530\ttotal: 415ms\tremaining: 240ms\n",
      "114:\tlearn: 0.5124181\ttotal: 418ms\tremaining: 236ms\n",
      "115:\tlearn: 0.5119723\ttotal: 421ms\tremaining: 233ms\n",
      "116:\tlearn: 0.5113215\ttotal: 424ms\tremaining: 229ms\n",
      "117:\tlearn: 0.5107702\ttotal: 427ms\tremaining: 225ms\n",
      "118:\tlearn: 0.5104865\ttotal: 430ms\tremaining: 221ms\n",
      "119:\tlearn: 0.5101765\ttotal: 433ms\tremaining: 217ms\n",
      "120:\tlearn: 0.5095852\ttotal: 436ms\tremaining: 213ms\n",
      "121:\tlearn: 0.5091378\ttotal: 439ms\tremaining: 209ms\n",
      "122:\tlearn: 0.5088421\ttotal: 442ms\tremaining: 205ms\n",
      "123:\tlearn: 0.5084829\ttotal: 447ms\tremaining: 202ms\n",
      "124:\tlearn: 0.5081020\ttotal: 451ms\tremaining: 199ms\n",
      "125:\tlearn: 0.5077312\ttotal: 456ms\tremaining: 195ms\n",
      "126:\tlearn: 0.5073673\ttotal: 461ms\tremaining: 192ms\n",
      "127:\tlearn: 0.5070643\ttotal: 464ms\tremaining: 188ms\n",
      "128:\tlearn: 0.5068286\ttotal: 467ms\tremaining: 185ms\n",
      "129:\tlearn: 0.5063852\ttotal: 470ms\tremaining: 181ms\n",
      "130:\tlearn: 0.5060556\ttotal: 473ms\tremaining: 177ms\n",
      "131:\tlearn: 0.5054766\ttotal: 476ms\tremaining: 173ms\n",
      "132:\tlearn: 0.5049064\ttotal: 480ms\tremaining: 170ms\n",
      "133:\tlearn: 0.5044357\ttotal: 483ms\tremaining: 166ms\n",
      "134:\tlearn: 0.5042697\ttotal: 486ms\tremaining: 162ms\n",
      "135:\tlearn: 0.5038142\ttotal: 489ms\tremaining: 158ms\n",
      "136:\tlearn: 0.5034493\ttotal: 493ms\tremaining: 155ms\n",
      "137:\tlearn: 0.5030545\ttotal: 496ms\tremaining: 151ms\n",
      "138:\tlearn: 0.5025800\ttotal: 499ms\tremaining: 147ms\n",
      "139:\tlearn: 0.5020783\ttotal: 502ms\tremaining: 143ms\n",
      "140:\tlearn: 0.5015887\ttotal: 505ms\tremaining: 140ms\n",
      "141:\tlearn: 0.5013239\ttotal: 509ms\tremaining: 136ms\n",
      "142:\tlearn: 0.5010667\ttotal: 512ms\tremaining: 133ms\n",
      "143:\tlearn: 0.5007578\ttotal: 515ms\tremaining: 129ms\n",
      "144:\tlearn: 0.5003917\ttotal: 519ms\tremaining: 125ms\n",
      "145:\tlearn: 0.5000439\ttotal: 522ms\tremaining: 122ms\n",
      "146:\tlearn: 0.4993796\ttotal: 526ms\tremaining: 118ms\n",
      "147:\tlearn: 0.4990322\ttotal: 529ms\tremaining: 114ms\n",
      "148:\tlearn: 0.4984304\ttotal: 532ms\tremaining: 111ms\n",
      "149:\tlearn: 0.4980415\ttotal: 535ms\tremaining: 107ms\n",
      "150:\tlearn: 0.4973671\ttotal: 538ms\tremaining: 103ms\n",
      "151:\tlearn: 0.4972669\ttotal: 541ms\tremaining: 99.7ms\n",
      "152:\tlearn: 0.4971360\ttotal: 544ms\tremaining: 96.1ms\n",
      "153:\tlearn: 0.4968001\ttotal: 548ms\tremaining: 92.5ms\n",
      "154:\tlearn: 0.4963458\ttotal: 551ms\tremaining: 88.9ms\n",
      "155:\tlearn: 0.4961031\ttotal: 554ms\tremaining: 85.2ms\n",
      "156:\tlearn: 0.4958864\ttotal: 557ms\tremaining: 81.6ms\n",
      "157:\tlearn: 0.4957113\ttotal: 560ms\tremaining: 78ms\n",
      "158:\tlearn: 0.4953136\ttotal: 563ms\tremaining: 74.4ms\n",
      "159:\tlearn: 0.4951194\ttotal: 566ms\tremaining: 70.8ms\n",
      "160:\tlearn: 0.4945800\ttotal: 569ms\tremaining: 67.2ms\n",
      "161:\tlearn: 0.4939313\ttotal: 572ms\tremaining: 63.6ms\n",
      "162:\tlearn: 0.4935132\ttotal: 576ms\tremaining: 60ms\n",
      "163:\tlearn: 0.4932215\ttotal: 579ms\tremaining: 56.4ms\n",
      "164:\tlearn: 0.4927584\ttotal: 582ms\tremaining: 52.9ms\n",
      "165:\tlearn: 0.4925262\ttotal: 585ms\tremaining: 49.3ms\n",
      "166:\tlearn: 0.4922227\ttotal: 588ms\tremaining: 45.8ms\n",
      "167:\tlearn: 0.4920062\ttotal: 591ms\tremaining: 42.2ms\n",
      "168:\tlearn: 0.4916818\ttotal: 594ms\tremaining: 38.7ms\n",
      "169:\tlearn: 0.4913729\ttotal: 597ms\tremaining: 35.1ms\n",
      "170:\tlearn: 0.4910461\ttotal: 601ms\tremaining: 31.6ms\n",
      "171:\tlearn: 0.4908719\ttotal: 604ms\tremaining: 28.1ms\n",
      "172:\tlearn: 0.4905057\ttotal: 607ms\tremaining: 24.6ms\n",
      "173:\tlearn: 0.4900264\ttotal: 610ms\tremaining: 21ms\n",
      "174:\tlearn: 0.4897245\ttotal: 615ms\tremaining: 17.6ms\n",
      "175:\tlearn: 0.4895124\ttotal: 619ms\tremaining: 14.1ms\n",
      "176:\tlearn: 0.4891869\ttotal: 622ms\tremaining: 10.5ms\n",
      "177:\tlearn: 0.4890706\ttotal: 625ms\tremaining: 7.03ms\n",
      "178:\tlearn: 0.4889036\ttotal: 628ms\tremaining: 3.51ms\n",
      "179:\tlearn: 0.4887627\ttotal: 631ms\tremaining: 0us\n"
     ]
    },
    {
     "data": {
      "text/plain": [
       "<catboost.core.CatBoostClassifier at 0x7f12e4124668>"
      ]
     },
     "execution_count": 48,
     "metadata": {},
     "output_type": "execute_result"
    }
   ],
   "source": [
    "model_cat = CatBoostClassifier(iterations=180, depth=7, learning_rate=0.1)\n",
    "\n",
    "# model_cat = CatBoostClassifier(iterations=180, depth=7, learning_rate=0.1)\n",
    "model_cat.fit(X_train, y_train)"
   ]
  },
  {
   "cell_type": "code",
   "execution_count": 49,
   "metadata": {},
   "outputs": [],
   "source": [
    "test_y_pred4 = model_cat.predict(X_test)"
   ]
  },
  {
   "cell_type": "code",
   "execution_count": 50,
   "metadata": {},
   "outputs": [
    {
     "data": {
      "text/plain": [
       "0.791876675669864"
      ]
     },
     "execution_count": 50,
     "metadata": {},
     "output_type": "execute_result"
    }
   ],
   "source": [
    "# make predictions on a test set and get AUC score\n",
    "\n",
    "y_pred = model_cat.predict_proba(X_test)\n",
    "\n",
    "roc_auc_score(y_test, y_pred[:,1])"
   ]
  },
  {
   "cell_type": "code",
   "execution_count": 51,
   "metadata": {},
   "outputs": [
    {
     "data": {
      "text/plain": [
       "0.0016139760774775969"
      ]
     },
     "execution_count": 51,
     "metadata": {},
     "output_type": "execute_result"
    }
   ],
   "source": [
    "0.8033339760774776 - 0.80172"
   ]
  },
  {
   "cell_type": "code",
   "execution_count": 52,
   "metadata": {},
   "outputs": [],
   "source": [
    "# Best model\n",
    "\n",
    "subm = pd.DataFrame() # create an empty DF for final submissiob\n",
    "subm['deposit'] = model_cat.predict_proba(test_df)[:,1] # create a new column that holds probability of first (1) class\n",
    "subm.reset_index(drop=False, inplace=True) # duplicate index as a columns\n",
    "subm.to_csv('my_submission.csv', index=False) # save as csv file"
   ]
  },
  {
   "cell_type": "markdown",
   "metadata": {},
   "source": [
    "## sklearn.ensemble.HistGradientBoostingClassifier"
   ]
  },
  {
   "cell_type": "code",
   "execution_count": 53,
   "metadata": {},
   "outputs": [],
   "source": [
    "# from sklearn.experimental import enable_hist_gradient_boosting  # noqa\n",
    "# from sklearn.ensemble import HistGradientBoostingClassifier"
   ]
  },
  {
   "cell_type": "code",
   "execution_count": 54,
   "metadata": {},
   "outputs": [],
   "source": [
    "# model_hist = HistGradientBoostingClassifier(max_iter=170, max_depth=7, learning_rate = 0.11)\n",
    "# model_hist.fit(X_train, y_train)"
   ]
  },
  {
   "cell_type": "code",
   "execution_count": 55,
   "metadata": {},
   "outputs": [],
   "source": [
    "# make predictions on a test set and get AUC score\n",
    "\n",
    "# test_y_pred5_hist = model_hist.predict(X_test)\n",
    "\n",
    "# y_pred = model_hist.predict_proba(X_test)\n",
    "\n",
    "# roc_auc_score(y_test, y_pred[:,1])"
   ]
  },
  {
   "cell_type": "code",
   "execution_count": 56,
   "metadata": {},
   "outputs": [],
   "source": [
    "# # Analysys of DF\n",
    "# from pandas_profiling import ProfileReport\n",
    "# ProfileReport(deposit_df_train, title='Pandas Profiling Report', html={'style':{'full_width':True}})"
   ]
  },
  {
   "cell_type": "code",
   "execution_count": null,
   "metadata": {},
   "outputs": [],
   "source": []
  },
  {
   "cell_type": "markdown",
   "metadata": {},
   "source": [
    "## Model Hist Boost with Greed Search"
   ]
  },
  {
   "cell_type": "code",
   "execution_count": 57,
   "metadata": {},
   "outputs": [],
   "source": [
    "# parameters = {\n",
    "#     'max_iter' : list(range(50, 300)), \n",
    "#     'max_depth': list(range(2, 10))\n",
    "#    }"
   ]
  },
  {
   "cell_type": "code",
   "execution_count": 58,
   "metadata": {},
   "outputs": [],
   "source": [
    "# base_model = HistGradientBoostingClassifier()\n",
    "# gs_model_hist = GridSearchCV(\n",
    "#     base_model, \n",
    "#     parameters, \n",
    "#     verbose=True,\n",
    "#     scoring='roc_auc')"
   ]
  },
  {
   "cell_type": "code",
   "execution_count": 59,
   "metadata": {},
   "outputs": [],
   "source": [
    "# # # Hist Boost\n",
    "# gs_model_hist.fit(X_train, y_train)\n",
    "# gs_model_hist.best_score_\n",
    "# gs_model_hist.best_params_\n",
    "# gs_model_hist.best_estimator_"
   ]
  }
 ],
 "metadata": {
  "kernelspec": {
   "display_name": "Python 3",
   "language": "python",
   "name": "python3"
  },
  "language_info": {
   "codemirror_mode": {
    "name": "ipython",
    "version": 3
   },
   "file_extension": ".py",
   "mimetype": "text/x-python",
   "name": "python",
   "nbconvert_exporter": "python",
   "pygments_lexer": "ipython3",
   "version": "3.6.6"
  }
 },
 "nbformat": 4,
 "nbformat_minor": 4
}
