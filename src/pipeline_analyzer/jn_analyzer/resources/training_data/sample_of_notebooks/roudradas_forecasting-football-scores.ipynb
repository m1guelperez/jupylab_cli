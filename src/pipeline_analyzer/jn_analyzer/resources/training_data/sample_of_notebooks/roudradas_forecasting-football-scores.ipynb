{
 "cells": [
  {
   "cell_type": "markdown",
   "execution_count": null,
   "metadata": {
    "papermill": {
     "duration": 0.010681,
     "end_time": "2020-09-06T08:45:13.544499",
     "exception": false,
     "start_time": "2020-09-06T08:45:13.533818",
     "status": "completed"
    },
    "tags": []
   },
   "source": [
    "# Forecasting Football Scores in Python/Jupyter\n",
    "\n",
    "## Introduction\n",
    "\n",
    "The goal (pun intented) of this notebook is to model football scores using a Poisson distribution\n",
    "and determine the expected scores of football matches and visualise them with heatmaps."
   ]
  },
  {
   "cell_type": "code",
   "execution_count": 1,
   "metadata": {
    "_cell_guid": "79c7e3d0-c299-4dcb-8224-4455121ee9b0",
    "_uuid": "d629ff2d2480ee46fbb7e2d37f6b5fab8052498a",
    "execution": {
     "iopub.execute_input": "2020-09-06T08:45:13.571188Z",
     "iopub.status.busy": "2020-09-06T08:45:13.570417Z",
     "iopub.status.idle": "2020-09-06T08:45:14.494369Z",
     "shell.execute_reply": "2020-09-06T08:45:14.493551Z"
    },
    "papermill": {
     "duration": 0.940537,
     "end_time": "2020-09-06T08:45:14.494495",
     "exception": false,
     "start_time": "2020-09-06T08:45:13.553958",
     "status": "completed"
    },
    "tags": []
   },
   "outputs": [],
   "source": [
    "import pandas as pd\n",
    "import numpy as np\n",
    "import seaborn as sns\n",
    "import scipy\n",
    "import matplotlib.pyplot as plt"
   ]
  },
  {
   "cell_type": "markdown",
   "execution_count": null,
   "metadata": {
    "papermill": {
     "duration": 0.009483,
     "end_time": "2020-09-06T08:45:14.513859",
     "exception": false,
     "start_time": "2020-09-06T08:45:14.504376",
     "status": "completed"
    },
    "tags": []
   },
   "source": [
    "## Assumptions\n",
    "\n",
    "1. Probability of a scoring a goal in a time period is independent of time\n",
    "\n",
    "2. Goals are randomly distributed\n",
    "\n",
    "3. Goals are independent of one another\n",
    "\n",
    "\n",
    "This notebook will be relying on a metric, Xg, which has been developed to capture the\n",
    "scoring intensity of the team, thus satisfying the first assumption. We can grab the Xg for each match from https://projects.fivethirtyeight.com/soccer-predictions/europa-league/.  \n",
    "\n",
    "For the next assumption, I've found enough studies to suggest that goals occur randomly for the most part, especially \n",
    "at the professional level where the skill gap is negligible. \n",
    "Here's a few studies that support this notion:\n",
    "\n",
    "Hughes, M., & Franks, I. (2005). Analysis of passing sequences, shots and goals in soccer. Journal of sports sciences, 23(5), 509-514.\n",
    "\n",
    "Goddard, J. (2005). Regression models for forecasting goals and match results in association football. International Journal of forecasting, 21(2), 331-340.\n",
    "\n",
    "Greenhough, J., Birch, P. C., Chapman, S. C., & Rowlands, G. (2002). Football goal distributions and extremal statistics. Physica A: Statistical Mechanics and its Applications, 316(1-4), 615-624.\n",
    "\n",
    "Almost ready to go, do goals occur independently?\n",
    "This question is actually a bit more complex there have been many games where one team just pulls away or stages a comeback such that the final assumption cannot be satisfied and must end the project here.\n",
    ".\n",
    ".\n",
    ".\n",
    ".\n",
    ".\n",
    ".\n",
    ".\n",
    ".\n",
    ".\n",
    ".\n",
    ".\n",
    ".\n",
    ".\n",
    ".\n",
    ".\n",
    ".\n",
    ".\n",
    ".\n",
    ".|\n",
    "(But we will continue anyway)"
   ]
  },
  {
   "cell_type": "code",
   "execution_count": 2,
   "metadata": {
    "execution": {
     "iopub.execute_input": "2020-09-06T08:45:14.544122Z",
     "iopub.status.busy": "2020-09-06T08:45:14.543208Z",
     "iopub.status.idle": "2020-09-06T08:45:14.545580Z",
     "shell.execute_reply": "2020-09-06T08:45:14.546163Z"
    },
    "papermill": {
     "duration": 0.023265,
     "end_time": "2020-09-06T08:45:14.546299",
     "exception": false,
     "start_time": "2020-09-06T08:45:14.523034",
     "status": "completed"
    },
    "tags": []
   },
   "outputs": [],
   "source": [
    "def ScoreGrid(homeXg, awayXg):\n",
    "    A = np.zeros(11)\n",
    "    B = np.zeros(11)\n",
    "\n",
    "    for i in range(10):\n",
    "        A[i] = scipy.stats.poisson.pmf(i,homeXg)\n",
    "        B[i] = scipy.stats.poisson.pmf(i,awayXg)\n",
    "    \n",
    "    A[10] = 1 - sum(A[:10])\n",
    "    B[10] = 1 - sum(B[:10])\n",
    "\n",
    "    #name = [\"0\", \"1\", \"2\", \"3\", \"4\", \"5\", \"6\", \"7\", \"8\", \"9\", \"10+\"]\n",
    "    #zero = np.zeros(11)\n",
    "\n",
    "    C = pd.DataFrame(np.zeros((11,11)))\n",
    "    \n",
    "    for j in range(11):\n",
    "        for k in range(11):\n",
    "            C[j][k] = A[j]*B[k]\n",
    "    \n",
    "    #C_new = C.rename(columns = name, index = name)\n",
    "\n",
    "    return round(C*100,2)/100"
   ]
  },
  {
   "cell_type": "markdown",
   "execution_count": null,
   "metadata": {
    "papermill": {
     "duration": 0.008978,
     "end_time": "2020-09-06T08:45:14.564386",
     "exception": false,
     "start_time": "2020-09-06T08:45:14.555408",
     "status": "completed"
    },
    "tags": []
   },
   "source": [
    "The above code creates a function to generate a proability matrix as demonstrated by the following line of code."
   ]
  },
  {
   "cell_type": "code",
   "execution_count": 3,
   "metadata": {
    "execution": {
     "iopub.execute_input": "2020-09-06T08:45:14.592328Z",
     "iopub.status.busy": "2020-09-06T08:45:14.591275Z",
     "iopub.status.idle": "2020-09-06T08:45:14.657945Z",
     "shell.execute_reply": "2020-09-06T08:45:14.658500Z"
    },
    "papermill": {
     "duration": 0.085189,
     "end_time": "2020-09-06T08:45:14.658638",
     "exception": false,
     "start_time": "2020-09-06T08:45:14.573449",
     "status": "completed"
    },
    "tags": []
   },
   "outputs": [
    {
     "data": {
      "text/html": [
       "<div>\n",
       "<style scoped>\n",
       "    .dataframe tbody tr th:only-of-type {\n",
       "        vertical-align: middle;\n",
       "    }\n",
       "\n",
       "    .dataframe tbody tr th {\n",
       "        vertical-align: top;\n",
       "    }\n",
       "\n",
       "    .dataframe thead th {\n",
       "        text-align: right;\n",
       "    }\n",
       "</style>\n",
       "<table border=\"1\" class=\"dataframe\">\n",
       "  <thead>\n",
       "    <tr style=\"text-align: right;\">\n",
       "      <th></th>\n",
       "      <th>0</th>\n",
       "      <th>1</th>\n",
       "      <th>2</th>\n",
       "      <th>3</th>\n",
       "      <th>4</th>\n",
       "      <th>5</th>\n",
       "      <th>6</th>\n",
       "      <th>7</th>\n",
       "      <th>8</th>\n",
       "      <th>9</th>\n",
       "      <th>10</th>\n",
       "    </tr>\n",
       "  </thead>\n",
       "  <tbody>\n",
       "    <tr>\n",
       "      <th>0</th>\n",
       "      <td>0.0608</td>\n",
       "      <td>0.1034</td>\n",
       "      <td>0.0879</td>\n",
       "      <td>0.0498</td>\n",
       "      <td>0.0212</td>\n",
       "      <td>0.0072</td>\n",
       "      <td>0.0020</td>\n",
       "      <td>0.0005</td>\n",
       "      <td>0.0001</td>\n",
       "      <td>0.0</td>\n",
       "      <td>0.0</td>\n",
       "    </tr>\n",
       "    <tr>\n",
       "      <th>1</th>\n",
       "      <td>0.0669</td>\n",
       "      <td>0.1137</td>\n",
       "      <td>0.0967</td>\n",
       "      <td>0.0548</td>\n",
       "      <td>0.0233</td>\n",
       "      <td>0.0079</td>\n",
       "      <td>0.0022</td>\n",
       "      <td>0.0005</td>\n",
       "      <td>0.0001</td>\n",
       "      <td>0.0</td>\n",
       "      <td>0.0</td>\n",
       "    </tr>\n",
       "    <tr>\n",
       "      <th>2</th>\n",
       "      <td>0.0368</td>\n",
       "      <td>0.0625</td>\n",
       "      <td>0.0532</td>\n",
       "      <td>0.0301</td>\n",
       "      <td>0.0128</td>\n",
       "      <td>0.0044</td>\n",
       "      <td>0.0012</td>\n",
       "      <td>0.0003</td>\n",
       "      <td>0.0001</td>\n",
       "      <td>0.0</td>\n",
       "      <td>0.0</td>\n",
       "    </tr>\n",
       "    <tr>\n",
       "      <th>3</th>\n",
       "      <td>0.0135</td>\n",
       "      <td>0.0229</td>\n",
       "      <td>0.0195</td>\n",
       "      <td>0.0110</td>\n",
       "      <td>0.0047</td>\n",
       "      <td>0.0016</td>\n",
       "      <td>0.0005</td>\n",
       "      <td>0.0001</td>\n",
       "      <td>0.0000</td>\n",
       "      <td>0.0</td>\n",
       "      <td>0.0</td>\n",
       "    </tr>\n",
       "    <tr>\n",
       "      <th>4</th>\n",
       "      <td>0.0037</td>\n",
       "      <td>0.0063</td>\n",
       "      <td>0.0054</td>\n",
       "      <td>0.0030</td>\n",
       "      <td>0.0013</td>\n",
       "      <td>0.0004</td>\n",
       "      <td>0.0001</td>\n",
       "      <td>0.0000</td>\n",
       "      <td>0.0000</td>\n",
       "      <td>0.0</td>\n",
       "      <td>0.0</td>\n",
       "    </tr>\n",
       "    <tr>\n",
       "      <th>5</th>\n",
       "      <td>0.0008</td>\n",
       "      <td>0.0014</td>\n",
       "      <td>0.0012</td>\n",
       "      <td>0.0007</td>\n",
       "      <td>0.0003</td>\n",
       "      <td>0.0001</td>\n",
       "      <td>0.0000</td>\n",
       "      <td>0.0000</td>\n",
       "      <td>0.0000</td>\n",
       "      <td>0.0</td>\n",
       "      <td>0.0</td>\n",
       "    </tr>\n",
       "    <tr>\n",
       "      <th>6</th>\n",
       "      <td>0.0001</td>\n",
       "      <td>0.0003</td>\n",
       "      <td>0.0002</td>\n",
       "      <td>0.0001</td>\n",
       "      <td>0.0001</td>\n",
       "      <td>0.0000</td>\n",
       "      <td>0.0000</td>\n",
       "      <td>0.0000</td>\n",
       "      <td>0.0000</td>\n",
       "      <td>0.0</td>\n",
       "      <td>0.0</td>\n",
       "    </tr>\n",
       "    <tr>\n",
       "      <th>7</th>\n",
       "      <td>0.0000</td>\n",
       "      <td>0.0000</td>\n",
       "      <td>0.0000</td>\n",
       "      <td>0.0000</td>\n",
       "      <td>0.0000</td>\n",
       "      <td>0.0000</td>\n",
       "      <td>0.0000</td>\n",
       "      <td>0.0000</td>\n",
       "      <td>0.0000</td>\n",
       "      <td>0.0</td>\n",
       "      <td>0.0</td>\n",
       "    </tr>\n",
       "    <tr>\n",
       "      <th>8</th>\n",
       "      <td>0.0000</td>\n",
       "      <td>0.0000</td>\n",
       "      <td>0.0000</td>\n",
       "      <td>0.0000</td>\n",
       "      <td>0.0000</td>\n",
       "      <td>0.0000</td>\n",
       "      <td>0.0000</td>\n",
       "      <td>0.0000</td>\n",
       "      <td>0.0000</td>\n",
       "      <td>0.0</td>\n",
       "      <td>0.0</td>\n",
       "    </tr>\n",
       "    <tr>\n",
       "      <th>9</th>\n",
       "      <td>0.0000</td>\n",
       "      <td>0.0000</td>\n",
       "      <td>0.0000</td>\n",
       "      <td>0.0000</td>\n",
       "      <td>0.0000</td>\n",
       "      <td>0.0000</td>\n",
       "      <td>0.0000</td>\n",
       "      <td>0.0000</td>\n",
       "      <td>0.0000</td>\n",
       "      <td>0.0</td>\n",
       "      <td>0.0</td>\n",
       "    </tr>\n",
       "    <tr>\n",
       "      <th>10</th>\n",
       "      <td>0.0000</td>\n",
       "      <td>0.0000</td>\n",
       "      <td>0.0000</td>\n",
       "      <td>0.0000</td>\n",
       "      <td>0.0000</td>\n",
       "      <td>0.0000</td>\n",
       "      <td>0.0000</td>\n",
       "      <td>0.0000</td>\n",
       "      <td>0.0000</td>\n",
       "      <td>0.0</td>\n",
       "      <td>0.0</td>\n",
       "    </tr>\n",
       "  </tbody>\n",
       "</table>\n",
       "</div>"
      ],
      "text/plain": [
       "        0       1       2       3       4       5       6       7       8   \\\n",
       "0   0.0608  0.1034  0.0879  0.0498  0.0212  0.0072  0.0020  0.0005  0.0001   \n",
       "1   0.0669  0.1137  0.0967  0.0548  0.0233  0.0079  0.0022  0.0005  0.0001   \n",
       "2   0.0368  0.0625  0.0532  0.0301  0.0128  0.0044  0.0012  0.0003  0.0001   \n",
       "3   0.0135  0.0229  0.0195  0.0110  0.0047  0.0016  0.0005  0.0001  0.0000   \n",
       "4   0.0037  0.0063  0.0054  0.0030  0.0013  0.0004  0.0001  0.0000  0.0000   \n",
       "5   0.0008  0.0014  0.0012  0.0007  0.0003  0.0001  0.0000  0.0000  0.0000   \n",
       "6   0.0001  0.0003  0.0002  0.0001  0.0001  0.0000  0.0000  0.0000  0.0000   \n",
       "7   0.0000  0.0000  0.0000  0.0000  0.0000  0.0000  0.0000  0.0000  0.0000   \n",
       "8   0.0000  0.0000  0.0000  0.0000  0.0000  0.0000  0.0000  0.0000  0.0000   \n",
       "9   0.0000  0.0000  0.0000  0.0000  0.0000  0.0000  0.0000  0.0000  0.0000   \n",
       "10  0.0000  0.0000  0.0000  0.0000  0.0000  0.0000  0.0000  0.0000  0.0000   \n",
       "\n",
       "     9    10  \n",
       "0   0.0  0.0  \n",
       "1   0.0  0.0  \n",
       "2   0.0  0.0  \n",
       "3   0.0  0.0  \n",
       "4   0.0  0.0  \n",
       "5   0.0  0.0  \n",
       "6   0.0  0.0  \n",
       "7   0.0  0.0  \n",
       "8   0.0  0.0  \n",
       "9   0.0  0.0  \n",
       "10  0.0  0.0  "
      ]
     },
     "execution_count": 3,
     "metadata": {},
     "output_type": "execute_result"
    }
   ],
   "source": [
    "ScoreGrid(1.7,1.1)"
   ]
  },
  {
   "cell_type": "code",
   "execution_count": 4,
   "metadata": {
    "execution": {
     "iopub.execute_input": "2020-09-06T08:45:14.686645Z",
     "iopub.status.busy": "2020-09-06T08:45:14.685889Z",
     "iopub.status.idle": "2020-09-06T08:45:14.689342Z",
     "shell.execute_reply": "2020-09-06T08:45:14.688640Z"
    },
    "papermill": {
     "duration": 0.021149,
     "end_time": "2020-09-06T08:45:14.689453",
     "exception": false,
     "start_time": "2020-09-06T08:45:14.668304",
     "status": "completed"
    },
    "tags": []
   },
   "outputs": [],
   "source": [
    "def ScoreHeatMap(home, away, homeXg, awayXg, datasource):\n",
    "    adjustedHome = home.replace(\"_\", \" \")\n",
    "    adjustedAway = away.replace(\"_\", \" \")\n",
    "\n",
    "    df = ScoreGrid(homeXg, awayXg)\n",
    "\n",
    "    ax = sns.heatmap(df, cbar = True, cmap = \"OrRd\")\n",
    "\n",
    "    ax.set_yticklabels(ax.get_yticklabels(), rotation = 0)\n",
    "    #ax.xaxis.tick_top()\n",
    "    plt.xlabel(adjustedHome)\n",
    "    plt.ylabel(adjustedAway)\n",
    "    plt.title('Expected Scores')\n",
    "    \n",
    "    return ax"
   ]
  },
  {
   "cell_type": "markdown",
   "execution_count": null,
   "metadata": {
    "papermill": {
     "duration": 0.009352,
     "end_time": "2020-09-06T08:45:14.708486",
     "exception": false,
     "start_time": "2020-09-06T08:45:14.699134",
     "status": "completed"
    },
    "tags": []
   },
   "source": [
    "The above function visualises the probabilty matrix as a heatmap. Lest take a match between Barcelona and Bayer Munich."
   ]
  },
  {
   "cell_type": "code",
   "execution_count": 5,
   "metadata": {
    "execution": {
     "iopub.execute_input": "2020-09-06T08:45:14.736718Z",
     "iopub.status.busy": "2020-09-06T08:45:14.732521Z",
     "iopub.status.idle": "2020-09-06T08:45:15.084379Z",
     "shell.execute_reply": "2020-09-06T08:45:15.084977Z"
    },
    "papermill": {
     "duration": 0.367021,
     "end_time": "2020-09-06T08:45:15.085147",
     "exception": false,
     "start_time": "2020-09-06T08:45:14.718126",
     "status": "completed"
    },
    "tags": []
   },
   "outputs": [
    {
     "data": {
      "text/plain": [
       "<matplotlib.axes._subplots.AxesSubplot at 0x7f17ec9d0c90>"
      ]
     },
     "execution_count": 5,
     "metadata": {},
     "output_type": "execute_result"
    },
    {
     "data": {
      "image/png": "[encoded data removed]",
      "text/plain": [
       "<Figure size 432x288 with 2 Axes>"
      ]
     },
     "metadata": {
      "needs_background": "light"
     },
     "output_type": "display_data"
    }
   ],
   "source": [
    "ScoreHeatMap(\"Barcelona\", \"Bayern_Munich\", 1.2, 5.6, \"FiveThirtyEight\")"
   ]
  },
  {
   "cell_type": "markdown",
   "execution_count": null,
   "metadata": {
    "papermill": {
     "duration": 0.009976,
     "end_time": "2020-09-06T08:45:15.105756",
     "exception": false,
     "start_time": "2020-09-06T08:45:15.095780",
     "status": "completed"
    },
    "tags": []
   },
   "source": [
    "Here we observe that the score is most likely to be around 1-5 How about Paris SG vs Bayern Munich?"
   ]
  },
  {
   "cell_type": "code",
   "execution_count": 6,
   "metadata": {
    "execution": {
     "iopub.execute_input": "2020-09-06T08:45:15.133813Z",
     "iopub.status.busy": "2020-09-06T08:45:15.132720Z",
     "iopub.status.idle": "2020-09-06T08:45:15.407247Z",
     "shell.execute_reply": "2020-09-06T08:45:15.406462Z"
    },
    "papermill": {
     "duration": 0.291451,
     "end_time": "2020-09-06T08:45:15.407382",
     "exception": false,
     "start_time": "2020-09-06T08:45:15.115931",
     "status": "completed"
    },
    "tags": []
   },
   "outputs": [
    {
     "data": {
      "text/plain": [
       "<matplotlib.axes._subplots.AxesSubplot at 0x7f17e66d9210>"
      ]
     },
     "execution_count": 6,
     "metadata": {},
     "output_type": "execute_result"
    },
    {
     "data": {
      "image/png": "[encoded data removed]",
      "text/plain": [
       "<Figure size 432x288 with 2 Axes>"
      ]
     },
     "metadata": {
      "needs_background": "light"
     },
     "output_type": "display_data"
    }
   ],
   "source": [
    "ScoreHeatMap(\"Paris_SG\", \"Bayern_Munich\", 1.4,1.6,\"FiveThirtyEight\")"
   ]
  },
  {
   "cell_type": "markdown",
   "execution_count": null,
   "metadata": {
    "papermill": {
     "duration": 0.010074,
     "end_time": "2020-09-06T08:45:15.428340",
     "exception": false,
     "start_time": "2020-09-06T08:45:15.418266",
     "status": "completed"
    },
    "tags": []
   },
   "source": [
    "Since the score is most likley to 1-1, we can expect this match to be quite a bit closer."
   ]
  },
  {
   "cell_type": "markdown",
   "execution_count": null,
   "metadata": {
    "papermill": {
     "duration": 0.010279,
     "end_time": "2020-09-06T08:45:15.449014",
     "exception": false,
     "start_time": "2020-09-06T08:45:15.438735",
     "status": "completed"
    },
    "tags": []
   },
   "source": [
    "## Validation\n",
    "\n",
    "Earliest UEFA Champions League bracket (that I could find, Jul-10-2020):\n",
    "<center><img src=\"https://pbs.twimg.com/media/EcjxLbsWsAAbBYR?format=jpg&name=small\"></center>"
   ]
  },
  {
   "cell_type": "markdown",
   "execution_count": null,
   "metadata": {
    "papermill": {
     "duration": 0.010037,
     "end_time": "2020-09-06T08:45:15.469701",
     "exception": false,
     "start_time": "2020-09-06T08:45:15.459664",
     "status": "completed"
    },
    "tags": []
   },
   "source": [
    "### Round of 16\n",
    "\n",
    "Since we already know the result of half the matches in the bracket, lets see how our model compares. \n",
    "\n",
    "#### Leipzig vs Tottenham\n",
    "We expect Leipzig to win 1-0. "
   ]
  },
  {
   "cell_type": "code",
   "execution_count": 7,
   "metadata": {
    "execution": {
     "iopub.execute_input": "2020-09-06T08:45:15.498761Z",
     "iopub.status.busy": "2020-09-06T08:45:15.496913Z",
     "iopub.status.idle": "2020-09-06T08:45:15.765759Z",
     "shell.execute_reply": "2020-09-06T08:45:15.765174Z"
    },
    "papermill": {
     "duration": 0.285753,
     "end_time": "2020-09-06T08:45:15.765894",
     "exception": false,
     "start_time": "2020-09-06T08:45:15.480141",
     "status": "completed"
    },
    "tags": []
   },
   "outputs": [
    {
     "data": {
      "text/plain": [
       "<matplotlib.axes._subplots.AxesSubplot at 0x7f17e6625990>"
      ]
     },
     "execution_count": 7,
     "metadata": {},
     "output_type": "execute_result"
    },
    {
     "data": {
      "image/png": "[encoded data removed]",
      "text/plain": [
       "<Figure size 432x288 with 2 Axes>"
      ]
     },
     "metadata": {
      "needs_background": "light"
     },
     "output_type": "display_data"
    }
   ],
   "source": [
    "ScoreHeatMap(\"Leipzig\", \"Tottenham\", 1.1, 0.3,\"FiveThirtyEight\")"
   ]
  },
  {
   "cell_type": "markdown",
   "execution_count": null,
   "metadata": {
    "papermill": {
     "duration": 0.010622,
     "end_time": "2020-09-06T08:45:15.788453",
     "exception": false,
     "start_time": "2020-09-06T08:45:15.777831",
     "status": "completed"
    },
    "tags": []
   },
   "source": [
    "#### Liverpool vs Atletico Madrid\n",
    "\n",
    "Liverpool should win with a score of 3-1"
   ]
  },
  {
   "cell_type": "code",
   "execution_count": 8,
   "metadata": {
    "execution": {
     "iopub.execute_input": "2020-09-06T08:45:15.833653Z",
     "iopub.status.busy": "2020-09-06T08:45:15.819052Z",
     "iopub.status.idle": "2020-09-06T08:45:16.103364Z",
     "shell.execute_reply": "2020-09-06T08:45:16.102599Z"
    },
    "papermill": {
     "duration": 0.304129,
     "end_time": "2020-09-06T08:45:16.103485",
     "exception": false,
     "start_time": "2020-09-06T08:45:15.799356",
     "status": "completed"
    },
    "tags": []
   },
   "outputs": [
    {
     "data": {
      "text/plain": [
       "<matplotlib.axes._subplots.AxesSubplot at 0x7f17e6633c10>"
      ]
     },
     "execution_count": 8,
     "metadata": {},
     "output_type": "execute_result"
    },
    {
     "data": {
      "image/png": "[encoded data removed]",
      "text/plain": [
       "<Figure size 432x288 with 2 Axes>"
      ]
     },
     "metadata": {
      "needs_background": "light"
     },
     "output_type": "display_data"
    }
   ],
   "source": [
    "ScoreHeatMap('Liverpool', \"Atletico Madrid\", 3.6, 1.1,\"FiveThirtyEight\")"
   ]
  },
  {
   "cell_type": "markdown",
   "execution_count": null,
   "metadata": {
    "papermill": {
     "duration": 0.011268,
     "end_time": "2020-09-06T08:45:16.126404",
     "exception": false,
     "start_time": "2020-09-06T08:45:16.115136",
     "status": "completed"
    },
    "tags": []
   },
   "source": [
    "#### Atalanta vs Valencia\n",
    "Atalanta is expected to win with a score of 3-2"
   ]
  },
  {
   "cell_type": "code",
   "execution_count": 9,
   "metadata": {
    "execution": {
     "iopub.execute_input": "2020-09-06T08:45:16.159751Z",
     "iopub.status.busy": "2020-09-06T08:45:16.155415Z",
     "iopub.status.idle": "2020-09-06T08:45:16.505291Z",
     "shell.execute_reply": "2020-09-06T08:45:16.505828Z"
    },
    "papermill": {
     "duration": 0.367915,
     "end_time": "2020-09-06T08:45:16.506012",
     "exception": false,
     "start_time": "2020-09-06T08:45:16.138097",
     "status": "completed"
    },
    "tags": []
   },
   "outputs": [
    {
     "data": {
      "text/plain": [
       "<matplotlib.axes._subplots.AxesSubplot at 0x7f17e6456110>"
      ]
     },
     "execution_count": 9,
     "metadata": {},
     "output_type": "execute_result"
    },
    {
     "data": {
      "image/png": "[encoded data removed]",
      "text/plain": [
       "<Figure size 432x288 with 2 Axes>"
      ]
     },
     "metadata": {
      "needs_background": "light"
     },
     "output_type": "display_data"
    }
   ],
   "source": [
    "ScoreHeatMap('Atalanta', \"Valencia\", 3.0, 2.1,\"FiveThirtyEight\")"
   ]
  },
  {
   "cell_type": "markdown",
   "execution_count": null,
   "metadata": {
    "papermill": {
     "duration": 0.014348,
     "end_time": "2020-09-06T08:45:16.532558",
     "exception": false,
     "start_time": "2020-09-06T08:45:16.518210",
     "status": "completed"
    },
    "tags": []
   },
   "source": [
    "#### PSG vs Dortmund\n",
    "Paris SG should win 1-0"
   ]
  },
  {
   "cell_type": "code",
   "execution_count": 10,
   "metadata": {
    "execution": {
     "iopub.execute_input": "2020-09-06T08:45:16.572485Z",
     "iopub.status.busy": "2020-09-06T08:45:16.570710Z",
     "iopub.status.idle": "2020-09-06T08:45:16.834199Z",
     "shell.execute_reply": "2020-09-06T08:45:16.833611Z"
    },
    "papermill": {
     "duration": 0.285378,
     "end_time": "2020-09-06T08:45:16.834316",
     "exception": false,
     "start_time": "2020-09-06T08:45:16.548938",
     "status": "completed"
    },
    "tags": []
   },
   "outputs": [
    {
     "data": {
      "text/plain": [
       "<matplotlib.axes._subplots.AxesSubplot at 0x7f17e64b1810>"
      ]
     },
     "execution_count": 10,
     "metadata": {},
     "output_type": "execute_result"
    },
    {
     "data": {
      "image/png": "[encoded data removed]",
      "text/plain": [
       "<Figure size 432x288 with 2 Axes>"
      ]
     },
     "metadata": {
      "needs_background": "light"
     },
     "output_type": "display_data"
    }
   ],
   "source": [
    "ScoreHeatMap('Paris_SG', \"Dortmund\", 1.2, 0.4,\"FiveThirtyEight\")"
   ]
  },
  {
   "cell_type": "markdown",
   "execution_count": null,
   "metadata": {
    "papermill": {
     "duration": 0.01195,
     "end_time": "2020-09-06T08:45:16.858836",
     "exception": false,
     "start_time": "2020-09-06T08:45:16.846886",
     "status": "completed"
    },
    "tags": []
   },
   "source": [
    "#### Manchester City vs Real Madrid\n",
    "2-0\n",
    "\n",
    "#### Juventus vs Olympique Lyon\n",
    "2-1\n",
    "\n",
    "#### Barcelona vs Napoli\n",
    "1-2\n",
    "\n",
    "#### Bayern Munich vs Chelsea\n",
    "3-1"
   ]
  },
  {
   "cell_type": "code",
   "execution_count": 11,
   "metadata": {
    "execution": {
     "iopub.execute_input": "2020-09-06T08:45:16.892428Z",
     "iopub.status.busy": "2020-09-06T08:45:16.891720Z",
     "iopub.status.idle": "2020-09-06T08:45:17.165611Z",
     "shell.execute_reply": "2020-09-06T08:45:17.166170Z"
    },
    "papermill": {
     "duration": 0.295075,
     "end_time": "2020-09-06T08:45:17.166319",
     "exception": false,
     "start_time": "2020-09-06T08:45:16.871244",
     "status": "completed"
    },
    "tags": []
   },
   "outputs": [
    {
     "data": {
      "text/plain": [
       "<matplotlib.axes._subplots.AxesSubplot at 0x7f17e62c26d0>"
      ]
     },
     "execution_count": 11,
     "metadata": {},
     "output_type": "execute_result"
    },
    {
     "data": {
      "image/png": "[encoded data removed]",
      "text/plain": [
       "<Figure size 432x288 with 2 Axes>"
      ]
     },
     "metadata": {
      "needs_background": "light"
     },
     "output_type": "display_data"
    }
   ],
   "source": [
    "ScoreHeatMap('Manchester City', \"Real Madrid\", 2.0, 0.7,\"FiveThirtyEight\")"
   ]
  },
  {
   "cell_type": "code",
   "execution_count": 12,
   "metadata": {
    "execution": {
     "iopub.execute_input": "2020-09-06T08:45:17.205985Z",
     "iopub.status.busy": "2020-09-06T08:45:17.204086Z",
     "iopub.status.idle": "2020-09-06T08:45:17.469772Z",
     "shell.execute_reply": "2020-09-06T08:45:17.469217Z"
    },
    "papermill": {
     "duration": 0.290554,
     "end_time": "2020-09-06T08:45:17.469913",
     "exception": false,
     "start_time": "2020-09-06T08:45:17.179359",
     "status": "completed"
    },
    "tags": []
   },
   "outputs": [
    {
     "data": {
      "text/plain": [
       "<matplotlib.axes._subplots.AxesSubplot at 0x7f17e6226d90>"
      ]
     },
     "execution_count": 12,
     "metadata": {},
     "output_type": "execute_result"
    },
    {
     "data": {
      "image/png": "[encoded data removed]",
      "text/plain": [
       "<Figure size 432x288 with 2 Axes>"
      ]
     },
     "metadata": {
      "needs_background": "light"
     },
     "output_type": "display_data"
    }
   ],
   "source": [
    "ScoreHeatMap('Juventus', \"Olympique Lyon\", 2.7, 1.0,\"FiveThirtyEight\")"
   ]
  },
  {
   "cell_type": "code",
   "execution_count": 13,
   "metadata": {
    "execution": {
     "iopub.execute_input": "2020-09-06T08:45:17.509139Z",
     "iopub.status.busy": "2020-09-06T08:45:17.507976Z",
     "iopub.status.idle": "2020-09-06T08:45:17.772946Z",
     "shell.execute_reply": "2020-09-06T08:45:17.772201Z"
    },
    "papermill": {
     "duration": 0.289624,
     "end_time": "2020-09-06T08:45:17.773072",
     "exception": false,
     "start_time": "2020-09-06T08:45:17.483448",
     "status": "completed"
    },
    "tags": []
   },
   "outputs": [
    {
     "data": {
      "text/plain": [
       "<matplotlib.axes._subplots.AxesSubplot at 0x7f17e616b8d0>"
      ]
     },
     "execution_count": 13,
     "metadata": {},
     "output_type": "execute_result"
    },
    {
     "data": {
      "image/png": "[encoded data removed]",
      "text/plain": [
       "<Figure size 432x288 with 2 Axes>"
      ]
     },
     "metadata": {
      "needs_background": "light"
     },
     "output_type": "display_data"
    }
   ],
   "source": [
    "ScoreHeatMap('Barcelona', \"Napoli\", 1.2, 2.3,\"FiveThirtyEight\")"
   ]
  },
  {
   "cell_type": "code",
   "execution_count": 14,
   "metadata": {
    "execution": {
     "iopub.execute_input": "2020-09-06T08:45:17.810658Z",
     "iopub.status.busy": "2020-09-06T08:45:17.808678Z",
     "iopub.status.idle": "2020-09-06T08:45:18.095207Z",
     "shell.execute_reply": "2020-09-06T08:45:18.095722Z"
    },
    "papermill": {
     "duration": 0.308439,
     "end_time": "2020-09-06T08:45:18.095900",
     "exception": false,
     "start_time": "2020-09-06T08:45:17.787461",
     "status": "completed"
    },
    "tags": []
   },
   "outputs": [
    {
     "data": {
      "text/plain": [
       "<matplotlib.axes._subplots.AxesSubplot at 0x7f17e604d1d0>"
      ]
     },
     "execution_count": 14,
     "metadata": {},
     "output_type": "execute_result"
    },
    {
     "data": {
      "image/png": "[encoded data removed]",
      "text/plain": [
       "<Figure size 432x288 with 2 Axes>"
      ]
     },
     "metadata": {
      "needs_background": "light"
     },
     "output_type": "display_data"
    }
   ],
   "source": [
    "ScoreHeatMap('Bayern Munich', \"Chelsea\", 3.0, 1.0,\"FiveThirtyEight\")"
   ]
  },
  {
   "cell_type": "markdown",
   "execution_count": null,
   "metadata": {
    "papermill": {
     "duration": 0.013704,
     "end_time": "2020-09-06T08:45:18.124020",
     "exception": false,
     "start_time": "2020-09-06T08:45:18.110316",
     "status": "completed"
    },
    "tags": []
   },
   "source": [
    "#### Recap\n",
    "So far 6 out of 8 matches have been predicted correctly, not bad. However all actual scores are within the margin of error, even the upset between Liverpool and Atletico Madrid. Let's continue with forecasts for the remaining matches.  \n",
    "\n",
    "### Quater-finals\n",
    "\n",
    "A: Man. City vs Olmpique Lyon\n",
    "3-0\n",
    "\n",
    "B: Leipzig vs Atletico Madrid\n",
    "0-0\n",
    "\n",
    "C: Barcelona vs Bayern Munich\n",
    "1-5\n",
    "\n",
    "D: Atalanta vs Paris SG\n",
    "0-2"
   ]
  },
  {
   "cell_type": "code",
   "execution_count": 15,
   "metadata": {
    "execution": {
     "iopub.execute_input": "2020-09-06T08:45:18.161389Z",
     "iopub.status.busy": "2020-09-06T08:45:18.159282Z",
     "iopub.status.idle": "2020-09-06T08:45:18.425947Z",
     "shell.execute_reply": "2020-09-06T08:45:18.425368Z"
    },
    "papermill": {
     "duration": 0.288133,
     "end_time": "2020-09-06T08:45:18.426067",
     "exception": false,
     "start_time": "2020-09-06T08:45:18.137934",
     "status": "completed"
    },
    "tags": []
   },
   "outputs": [
    {
     "data": {
      "text/plain": [
       "<matplotlib.axes._subplots.AxesSubplot at 0x7f17e5f87350>"
      ]
     },
     "execution_count": 15,
     "metadata": {},
     "output_type": "execute_result"
    },
    {
     "data": {
      "image/png": "[encoded data removed]",
      "text/plain": [
       "<Figure size 432x288 with 2 Axes>"
      ]
     },
     "metadata": {
      "needs_background": "light"
     },
     "output_type": "display_data"
    }
   ],
   "source": [
    "ScoreHeatMap('Man. City', \"Olympique Lyon\", 3.1, 0.9, \"FiveThirtyEight\")"
   ]
  },
  {
   "cell_type": "code",
   "execution_count": 16,
   "metadata": {
    "execution": {
     "iopub.execute_input": "2020-09-06T08:45:18.464623Z",
     "iopub.status.busy": "2020-09-06T08:45:18.463268Z",
     "iopub.status.idle": "2020-09-06T08:45:18.740658Z",
     "shell.execute_reply": "2020-09-06T08:45:18.740062Z"
    },
    "papermill": {
     "duration": 0.300022,
     "end_time": "2020-09-06T08:45:18.740781",
     "exception": false,
     "start_time": "2020-09-06T08:45:18.440759",
     "status": "completed"
    },
    "tags": []
   },
   "outputs": [
    {
     "data": {
      "text/plain": [
       "<matplotlib.axes._subplots.AxesSubplot at 0x7f17e5ef4190>"
      ]
     },
     "execution_count": 16,
     "metadata": {},
     "output_type": "execute_result"
    },
    {
     "data": {
      "image/png": "[encoded data removed]",
      "text/plain": [
       "<Figure size 432x288 with 2 Axes>"
      ]
     },
     "metadata": {
      "needs_background": "light"
     },
     "output_type": "display_data"
    }
   ],
   "source": [
    "ScoreHeatMap('Leipzig', \"Atletico Madrid\", 0.9, 1.0,\"FiveThirtyEight\")"
   ]
  },
  {
   "cell_type": "code",
   "execution_count": 17,
   "metadata": {
    "execution": {
     "iopub.execute_input": "2020-09-06T08:45:18.779597Z",
     "iopub.status.busy": "2020-09-06T08:45:18.777572Z",
     "iopub.status.idle": "2020-09-06T08:45:19.059173Z",
     "shell.execute_reply": "2020-09-06T08:45:19.058411Z"
    },
    "papermill": {
     "duration": 0.303578,
     "end_time": "2020-09-06T08:45:19.059296",
     "exception": false,
     "start_time": "2020-09-06T08:45:18.755718",
     "status": "completed"
    },
    "tags": []
   },
   "outputs": [
    {
     "data": {
      "text/plain": [
       "<matplotlib.axes._subplots.AxesSubplot at 0x7f17e5e3cf50>"
      ]
     },
     "execution_count": 17,
     "metadata": {},
     "output_type": "execute_result"
    },
    {
     "data": {
      "image/png": "[encoded data removed]",
      "text/plain": [
       "<Figure size 432x288 with 2 Axes>"
      ]
     },
     "metadata": {
      "needs_background": "light"
     },
     "output_type": "display_data"
    }
   ],
   "source": [
    "ScoreHeatMap('Barcelona', \"Bayern Munich\", 1.2, 5.6,\"FiveThirtyEight\")"
   ]
  },
  {
   "cell_type": "code",
   "execution_count": 18,
   "metadata": {
    "execution": {
     "iopub.execute_input": "2020-09-06T08:45:19.100699Z",
     "iopub.status.busy": "2020-09-06T08:45:19.099746Z",
     "iopub.status.idle": "2020-09-06T08:45:19.399493Z",
     "shell.execute_reply": "2020-09-06T08:45:19.400185Z"
    },
    "papermill": {
     "duration": 0.32492,
     "end_time": "2020-09-06T08:45:19.400398",
     "exception": false,
     "start_time": "2020-09-06T08:45:19.075478",
     "status": "completed"
    },
    "tags": []
   },
   "outputs": [
    {
     "data": {
      "text/plain": [
       "<matplotlib.axes._subplots.AxesSubplot at 0x7f17e5d0f490>"
      ]
     },
     "execution_count": 18,
     "metadata": {},
     "output_type": "execute_result"
    },
    {
     "data": {
      "image/png": "[encoded data removed]",
      "text/plain": [
       "<Figure size 432x288 with 2 Axes>"
      ]
     },
     "metadata": {
      "needs_background": "light"
     },
     "output_type": "display_data"
    }
   ],
   "source": [
    "ScoreHeatMap('Atalanta', \"Paris SG\", 0.5, 2.9,\"FiveThirtyEight\")"
   ]
  },
  {
   "cell_type": "markdown",
   "execution_count": null,
   "metadata": {
    "papermill": {
     "duration": 0.022963,
     "end_time": "2020-09-06T08:45:19.448562",
     "exception": false,
     "start_time": "2020-09-06T08:45:19.425599",
     "status": "completed"
    },
    "tags": []
   },
   "source": [
    "Now we have correctly forecast 2 out of 4 matches, Olympique Lyon won in another upset. The Leipzig vs Atletico Madrid was a pretty close match anyway so we'll take a half point there. Not looking too good.\n",
    "\n",
    "### Semi Finals\n",
    "\n",
    "1. Olympique Lyon vs Bayern Munich\n",
    "1-3\n",
    "\n",
    "2. Leipzig vs Paris SG\n",
    "1-3"
   ]
  },
  {
   "cell_type": "code",
   "execution_count": 19,
   "metadata": {
    "execution": {
     "iopub.execute_input": "2020-09-06T08:45:19.496141Z",
     "iopub.status.busy": "2020-09-06T08:45:19.495156Z",
     "iopub.status.idle": "2020-09-06T08:45:19.776367Z",
     "shell.execute_reply": "2020-09-06T08:45:19.775595Z"
    },
    "papermill": {
     "duration": 0.306986,
     "end_time": "2020-09-06T08:45:19.776516",
     "exception": false,
     "start_time": "2020-09-06T08:45:19.469530",
     "status": "completed"
    },
    "tags": []
   },
   "outputs": [
    {
     "data": {
      "text/plain": [
       "<matplotlib.axes._subplots.AxesSubplot at 0x7f17e5c43bd0>"
      ]
     },
     "execution_count": 19,
     "metadata": {},
     "output_type": "execute_result"
    },
    {
     "data": {
      "image/png": "[encoded data removed]",
      "text/plain": [
       "<Figure size 432x288 with 2 Axes>"
      ]
     },
     "metadata": {
      "needs_background": "light"
     },
     "output_type": "display_data"
    }
   ],
   "source": [
    "ScoreHeatMap('Olympique Lyon', \"Bayern Munich\", 1.6, 3.2,\"FiveThirtyEight\")"
   ]
  },
  {
   "cell_type": "code",
   "execution_count": 20,
   "metadata": {
    "execution": {
     "iopub.execute_input": "2020-09-06T08:45:19.823062Z",
     "iopub.status.busy": "2020-09-06T08:45:19.820487Z",
     "iopub.status.idle": "2020-09-06T08:45:20.207248Z",
     "shell.execute_reply": "2020-09-06T08:45:20.206523Z"
    },
    "papermill": {
     "duration": 0.41414,
     "end_time": "2020-09-06T08:45:20.207369",
     "exception": false,
     "start_time": "2020-09-06T08:45:19.793229",
     "status": "completed"
    },
    "tags": []
   },
   "outputs": [
    {
     "data": {
      "text/plain": [
       "<matplotlib.axes._subplots.AxesSubplot at 0x7f17e5c43c90>"
      ]
     },
     "execution_count": 20,
     "metadata": {},
     "output_type": "execute_result"
    },
    {
     "data": {
      "image/png": "[encoded data removed]",
      "text/plain": [
       "<Figure size 432x288 with 2 Axes>"
      ]
     },
     "metadata": {
      "needs_background": "light"
     },
     "output_type": "display_data"
    }
   ],
   "source": [
    "ScoreHeatMap('Leipzig', \"Paris SG\", 1.4, 3.7,\"FiveThirtyEight\")"
   ]
  },
  {
   "cell_type": "markdown",
   "execution_count": null,
   "metadata": {
    "papermill": {
     "duration": 0.016112,
     "end_time": "2020-09-06T08:45:20.239998",
     "exception": false,
     "start_time": "2020-09-06T08:45:20.223886",
     "status": "completed"
    },
    "tags": []
   },
   "source": [
    "### Finals\n",
    "\n",
    "Looks like our model has finally come through with a prediction accuracy of 100% in the semi-finals. \n",
    "Here we are at the Finals and with the model predicting a tight game favouring Bayern Munich. \n",
    "\n",
    "Paris SG vs Bayern Munich \n",
    "1-1"
   ]
  },
  {
   "cell_type": "code",
   "execution_count": 21,
   "metadata": {
    "execution": {
     "iopub.execute_input": "2020-09-06T08:45:20.297927Z",
     "iopub.status.busy": "2020-09-06T08:45:20.282226Z",
     "iopub.status.idle": "2020-09-06T08:45:20.553378Z",
     "shell.execute_reply": "2020-09-06T08:45:20.552745Z"
    },
    "papermill": {
     "duration": 0.295086,
     "end_time": "2020-09-06T08:45:20.553498",
     "exception": false,
     "start_time": "2020-09-06T08:45:20.258412",
     "status": "completed"
    },
    "tags": []
   },
   "outputs": [
    {
     "data": {
      "text/plain": [
       "<matplotlib.axes._subplots.AxesSubplot at 0x7f17e6327910>"
      ]
     },
     "execution_count": 21,
     "metadata": {},
     "output_type": "execute_result"
    },
    {
     "data": {
      "image/png": "[encoded data removed]",
      "text/plain": [
       "<Figure size 432x288 with 2 Axes>"
      ]
     },
     "metadata": {
      "needs_background": "light"
     },
     "output_type": "display_data"
    }
   ],
   "source": [
    "ScoreHeatMap('Paris SG', \"Bayern Munich\", 1.4, 1.6,\"FiveThirtyEight\")"
   ]
  },
  {
   "cell_type": "markdown",
   "execution_count": null,
   "metadata": {
    "papermill": {
     "duration": 0.016523,
     "end_time": "2020-09-06T08:45:20.586933",
     "exception": false,
     "start_time": "2020-09-06T08:45:20.570410",
     "status": "completed"
    },
    "tags": []
   },
   "source": [
    "Updated UEFA Champions League bracket as of Aug-23-2020:\n",
    "<center><img src=\"https://sportshub.cbsistatic.com/i/r/2020/08/19/5cfc52ea-322b-48a9-857d-3635171724f0/resize/670x377/ecdd597325d1c932fc95e9e5d6a6c368/champions-league-bracket.png\"></center>\n"
   ]
  },
  {
   "cell_type": "markdown",
   "execution_count": null,
   "metadata": {
    "papermill": {
     "duration": 0.016367,
     "end_time": "2020-09-06T08:45:20.619976",
     "exception": false,
     "start_time": "2020-09-06T08:45:20.603609",
     "status": "completed"
    },
    "tags": []
   },
   "source": [
    "## Conclusion\n",
    "\n",
    "Lets break this down a bit before we celebrate and start generating prediction and placing bets for the next season.\n",
    "Yes, we've accurately predicted the victors of the UEFA Champions League finals and semi-finals, definitely adds points in our favour (3-0).\n",
    "However the score balances out a bit in the quater finals where it was only able to predict 2 matches, 2.5 if we include Leipzig vs Atletico Madrid (5.5-1.5) and is more noticeable in the Round of 16 where the model had prediction accuracy of 75%. \n",
    "\n",
    "Final Score: 11.5-5.5 (~68% model accuracy)"
   ]
  }
 ],
 "metadata": {
  "kernelspec": {
   "display_name": "Python 3",
   "language": "python",
   "name": "python3"
  },
  "language_info": {
   "codemirror_mode": {
    "name": "ipython",
    "version": 3
   },
   "file_extension": ".py",
   "mimetype": "text/x-python",
   "name": "python",
   "nbconvert_exporter": "python",
   "pygments_lexer": "ipython3",
   "version": "3.7.6"
  },
  "papermill": {
   "duration": 11.80897,
   "end_time": "2020-09-06T08:45:20.743623",
   "environment_variables": {},
   "exception": null,
   "input_path": "__notebook__.ipynb",
   "output_path": "__notebook__.ipynb",
   "parameters": {},
   "start_time": "2020-09-06T08:45:08.934653",
   "version": "2.1.0"
  }
 },
 "nbformat": 4,
 "nbformat_minor": 4
}
