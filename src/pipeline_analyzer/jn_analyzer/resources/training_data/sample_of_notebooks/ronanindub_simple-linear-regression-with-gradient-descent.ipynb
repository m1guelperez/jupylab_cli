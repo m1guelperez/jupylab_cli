{
 "cells": [
  {
   "cell_type": "markdown",
   "metadata": {},
   "source": [
    "<h1>Simple Linear Regression</h1>\n",
    "with one independent variable <br><br>\n",
    "Going to create a simple <b>linear regression</b> tool based on the equation of a line:<br><br>\n",
    "$$y=mx+c$$ <br>\n",
    "\n",
    "<br>** Everything is good until I try to undo the standardisation - see the very end.**\n",
    "\n"
   ]
  },
  {
   "cell_type": "code",
   "execution_count": 1,
   "metadata": {},
   "outputs": [],
   "source": [
    "import numpy as np\n",
    "import pandas as pd\n",
    "import matplotlib.pyplot as plt"
   ]
  },
  {
   "cell_type": "code",
   "execution_count": 2,
   "metadata": {
    "_cell_guid": "b1076dfc-b9ad-4769-8c92-a6c4dae69d19",
    "_uuid": "8f2839f25d086af736a60e9eeb907d3b93b6e0e5"
   },
   "outputs": [],
   "source": [
    "# Set up the X values.\n",
    "\n",
    "# Anscombe's Quartet - Set 1 - X Values\n",
    "\n",
    "X=np.array([10.0, 8.0, 13.0, 9.0, 11.0, 14.0, 6.0, 4.0 ,12.0 ,7.0, 5.0], dtype=\"float64\")\n",
    "\n",
    "X.flags.writeable = False   # Protecting the contents of X - make it immutable (ie. read only)."
   ]
  },
  {
   "cell_type": "code",
   "execution_count": 3,
   "metadata": {},
   "outputs": [],
   "source": [
    "# Set up the Y values.\n",
    "\n",
    "\n",
    "# Anscombe's Quartet - Set 1 - Y Values\n",
    "\n",
    "Y=np.array([8.04, 6.95, 7.58, 8.81, 8.33, 9.96, 7.24, 4.26, 10.84, 4.82, 5.68], dtype=\"float64\")\n",
    "\n",
    "Y.flags.writeable = False  # Protecting the contents of Y - make it immutable (ie. read only).\n"
   ]
  },
  {
   "cell_type": "code",
   "execution_count": 4,
   "metadata": {},
   "outputs": [
    {
     "name": "stdout",
     "output_type": "stream",
     "text": [
      "X min & max: 4.0 14.0\n",
      "Y min & max: 4.26 10.84\n"
     ]
    },
    {
     "data": {
      "image/png": "[encoded data removed]",
      "text/plain": [
       "<Figure size 432x288 with 1 Axes>"
      ]
     },
     "metadata": {
      "needs_background": "light"
     },
     "output_type": "display_data"
    }
   ],
   "source": [
    "# Setting up some global values and also plotting the data to get a feel for it.\n",
    "\n",
    "Xmin=np.min(X)\n",
    "Xmax=np.max(X)\n",
    "Ymin=np.min(Y)\n",
    "Ymax=np.max(Y)\n",
    "print(\"X min & max:\", Xmin, Xmax)\n",
    "print(\"Y min & max:\", Ymin, Ymax)\n",
    "\n",
    "\n",
    "# plt.xlim(Xmin-1,Xmax+1)\n",
    "plt.xlim(0,Xmax+1)\n",
    "plt.ylim(0,Ymax+1)\n",
    "\n",
    "plt.scatter(X,Y, 10, color = 'blue')\n",
    "plt.show()"
   ]
  },
  {
   "cell_type": "markdown",
   "metadata": {},
   "source": [
    "We now want to \"standardise\" the data. This will make the optimisation quicker. There are various ways to standardise the data but I am going to set the minimum value to 0 and the maximum value to 1. \n",
    "\n",
    "The formula is $$ x_{new} = \\frac{ x_{orig} - x_{min}}{x_{max} - x_{min}} $$\n",
    "\n",
    "\n",
    "<b>Post Script</b>: The optimisation method that I use later, gradient descent using the Sum of Square Errors function(SSE), does not work unless the data is standardised. Go ahead and try it. If you do not standarise, the optimisation blows up! \n",
    "\n",
    "<b>To Try</b>: Implement the optimisation with another error function."
   ]
  },
  {
   "cell_type": "code",
   "execution_count": 5,
   "metadata": {},
   "outputs": [
    {
     "name": "stdout",
     "output_type": "stream",
     "text": [
      "i=  0 \t\tx   0.60 \ty   0.57\n",
      "i=  1 \t\tx   0.40 \ty   0.41\n",
      "i=  2 \t\tx   0.90 \ty   0.50\n",
      "i=  3 \t\tx   0.50 \ty   0.69\n",
      "i=  4 \t\tx   0.70 \ty   0.62\n",
      "i=  5 \t\tx   1.00 \ty   0.87\n",
      "i=  6 \t\tx   0.20 \ty   0.45\n",
      "i=  7 \t\tx   0.00 \ty   0.00\n",
      "i=  8 \t\tx   0.80 \ty   1.00\n",
      "i=  9 \t\tx   0.30 \ty   0.09\n",
      "i=  10 \t\tx   0.10 \ty   0.22\n"
     ]
    },
    {
     "data": {
      "image/png": "[encoded data removed]",
      "text/plain": [
       "<Figure size 432x288 with 1 Axes>"
      ]
     },
     "metadata": {
      "needs_background": "light"
     },
     "output_type": "display_data"
    }
   ],
   "source": [
    "X_s=np.empty_like(X, dtype=\"float64\")     # X_s  X standardised\n",
    "Y_s=np.empty_like(Y, dtype=\"float64\")     # Y_s  Y standardised\n",
    "\n",
    "X_s = (X - Xmin)/(Xmax-Xmin)\n",
    "Y_s = (Y - Ymin)/(Ymax-Ymin)\n",
    "\n",
    "\n",
    "for i in range(0, X.size):\n",
    "    print(\"i= \", i, \"\\t\\tx {:6.2f}\".format(X_s[i]),\"\\ty {:6.2f}\".format(Y_s[i]))\n",
    "\n",
    "\n",
    "\n",
    "plt.scatter(X_s,Y_s, 10, color = 'blue')\n",
    "plt.show()"
   ]
  },
  {
   "cell_type": "markdown",
   "metadata": {},
   "source": [
    "<br>We need to calculate the values of Y that are produced by our equation $y=mx+c$ equation.<br>"
   ]
  },
  {
   "cell_type": "code",
   "execution_count": 6,
   "metadata": {},
   "outputs": [],
   "source": [
    "def CalculateNewY(X_orig, slope, intercept):\n",
    "    \n",
    "    Y_calc = np.empty_like(X_orig, dtype=\"float64\")\n",
    "\n",
    "    Y_calc = X_orig*slope+intercept\n",
    "        \n",
    "    return Y_calc"
   ]
  },
  {
   "cell_type": "markdown",
   "metadata": {},
   "source": [
    "For the Cost Function we are going to use the Sum of Squared Errors (SSE) function, which we define as follows:<br><br>\n",
    "$$\\frac{1}{2}\\sum_{1}^n (y-\\hat{y})^2  $$\n",
    "<br>\n",
    "$y$ is the sample value - the one that is given. <br>\n",
    "$\\hat{y}$ is the predicted value for the same x using the equation.<br><br>\n",
    "Initially the difference between these, $y-\\hat{y}$, will be large but by minimising the SSE equation we should be able to reduce this difference to be negligible."
   ]
  },
  {
   "cell_type": "code",
   "execution_count": 7,
   "metadata": {},
   "outputs": [],
   "source": [
    "def CalculateSSE(original_Y, predicted_Y):\n",
    "    theSSE=0.0\n",
    "    \n",
    "    for i in range(0, original_Y.size):\n",
    "        theSSE += (original_Y[i]-predicted_Y[i])**2\n",
    "        \n",
    "    theSSE = theSSE/2\n",
    "    \n",
    "    return theSSE"
   ]
  },
  {
   "cell_type": "markdown",
   "metadata": {},
   "source": [
    "You need to next get the gradients of the Cost Function - these are the partial derivatives of the SSE wrt the slope and the intercept <br><br>\n",
    "$$ \\frac{\\partial SSE}{\\partial m} and \\frac{\\partial SSE}{\\partial c}$$\n",
    "\n",
    "\n",
    "Eventually we are going to take the partial derivatives w.r.t. m and c of SE but we need to prepare SE first. That is, to get a form of it that makes taking the partial derivatives possible.<br>\n",
    "\n",
    "$$\n",
    "\\begin{eqnarray}\n",
    "SE = \\frac{1}{2}(y-\\hat{y})^2  \\\\\n",
    "SE = \\frac{1}{2}(y^2+\\hat{y}^2 -2y\\hat{y}) \n",
    "\\end{eqnarray}\n",
    "$$\n",
    "\n",
    "\n",
    "Recall that $\\hat{y}=mx+c$ gives us...\n",
    "$$\n",
    "\\begin{eqnarray}\n",
    "SE = \\frac{1}{2}(y^2+(mx+c)^2-2y(mx+c)) \\\\\n",
    "SE = \\frac{1}{2}(y^2+m^2x^2+c^2+2mxc -2ymx -2yc )\n",
    "\\end{eqnarray}\n",
    "$$\n",
    "<br><br> We now need to take partial derivatives w.r.t. m and c (\n",
    "$ \\frac{\\partial SE}{\\partial m} $ and $ \\frac{\\partial SE}{\\partial c} $) <br><br>\n",
    "\n",
    "$$\n",
    "\\begin{eqnarray}\n",
    "\\frac{\\partial SE}{\\partial m} = \\frac{1}{2} (2mx^2+2xc-2yx)    \\\\  \n",
    "\\\\\n",
    "\\frac{\\partial SE}{\\partial m} = mx^2+xc-yx \\\\\n",
    "\\\\\n",
    "\\frac{\\partial SE}{\\partial m} =x(mx+c-y)  \n",
    "\\end{eqnarray}\n",
    "$$\n",
    "\n",
    "Recall $\\hspace{1cm} \\hat{y}=mx+c $\n",
    "\n",
    "$$ \\frac{\\partial SE}{\\partial m} =x( \\hat{y}-y)$$\n",
    "This can also be written as\n",
    "$$ \\frac{\\partial SE}{\\partial m} = -( y - \\hat{y})x$$\n",
    "On to the partial derivative of SE w.r.t. <b>c</b>.\n",
    "$$\n",
    "\\begin{eqnarray}\n",
    "\\frac{\\partial SE}{\\partial c} = \\frac{1}{2} (2c+2mx-2y) \\\\\n",
    "\\frac{\\partial SE}{\\partial c} = c+mx-y  \\\\\n",
    "\\frac{\\partial SE}{\\partial c} = mx+c-y  \\\\\n",
    "\\end{eqnarray}\n",
    "$$\n",
    "\n",
    "Recall $\\hspace{1cm} \\hat{y}=mx+c        $\n",
    "$$\\frac{\\partial SE}{\\partial c} =  \\hat{y}-y   $$ \n",
    "This can also be written as\n",
    "$$\\frac{\\partial SE}{\\partial c} = -(y- \\hat{y})   $$ "
   ]
  },
  {
   "cell_type": "markdown",
   "metadata": {},
   "source": [
    "<br><br>\n",
    "$\\frac{\\partial SSE}{\\partial m} is just the \\sum \\frac{\\partial SE}{\\partial m}  $ <br><br>and<br><br> $\\frac{\\partial SSE}{\\partial c} is just the \\sum \\frac{\\partial SE}{\\partial c} $."
   ]
  },
  {
   "cell_type": "code",
   "execution_count": 8,
   "metadata": {},
   "outputs": [],
   "source": [
    "def SumPartialDerivativeOf_m (original_Y, calculated_Y , original_X):\n",
    "    \n",
    "    theSPD_m = 0.0\n",
    "    \n",
    "    for i in range(0, original_Y.size):\n",
    "        theSPD_m += original_X[i] *(calculated_Y[i]-original_Y[i])      \n",
    "\n",
    "    return theSPD_m"
   ]
  },
  {
   "cell_type": "code",
   "execution_count": 9,
   "metadata": {},
   "outputs": [],
   "source": [
    "def SumPartialDerivativeOf_c (original_Y, calculated_Y ):\n",
    "    \n",
    "    theSPD_c = 0.0\n",
    "    \n",
    "    for i in range(0, original_Y.size):\n",
    "        theSPD_c +=  calculated_Y[i] - original_Y[i]\n",
    "\n",
    "        \n",
    "    return theSPD_c"
   ]
  },
  {
   "cell_type": "markdown",
   "metadata": {},
   "source": [
    "We now need to update <b>m</b> and <b>c</b> so that they become better values. Recall that we start off with random values of <b>m</b> abd <b>c</b>. The update rules are:\n",
    "\n",
    "$$ m_{new}= m -r \\sum \\frac{\\partial SE}{\\partial m} $$\n",
    "<br>\n",
    "$$ c_{new}= c -r \\sum \\frac{\\partial SE}{\\partial c} $$\n",
    "<br>\n",
    "<br>\n",
    "<b>r</b> is the learning rate, the pace of adjustment of <b>m</b> and <b> c</b>."
   ]
  },
  {
   "cell_type": "code",
   "execution_count": 10,
   "metadata": {},
   "outputs": [],
   "source": [
    "# Helper function\n",
    "\n",
    "def DrawLineFromFormula(slope, intercept, color):\n",
    "    plt.xlim(-0.05, 1.05)\n",
    "    plt.ylim(-0.05, 1.05)\n",
    "    x = np.arange(-100, 100, 0.1)\n",
    "    plt.plot(x, slope*x+intercept, color)\n",
    "    return"
   ]
  },
  {
   "cell_type": "markdown",
   "metadata": {},
   "source": [
    "To get better and better values for m and c you re-run the following code:\n"
   ]
  },
  {
   "cell_type": "code",
   "execution_count": 11,
   "metadata": {},
   "outputs": [],
   "source": [
    "# The Iteration\n",
    "\n",
    "# This is where we iterate until the optimistaion equation has stopped getting any better\n",
    "\n",
    "def trials( m = 1, c = 0.75 , r= 0.01, acceptableDifference = 0.000001, maxNumOfTrials = 10000 ):\n",
    "\n",
    "    SSE_storage = []\n",
    "    \n",
    "    recordOfIterations = []\n",
    "    recordOfSlope = []\n",
    "    recordOfIntercept = []\n",
    "    recordOfSSE = []\n",
    "    \n",
    "\n",
    "    for i in range(0, maxNumOfTrials):    \n",
    "    \n",
    "        Y_hat = CalculateNewY(X_s, m, c)\n",
    "\n",
    "        ourSSE = CalculateSSE(Y_s,Y_hat)\n",
    "    \n",
    "        SSE_storage.append(ourSSE)    # This list is used to store the SSE errors - used for plotting later.\n",
    "        \n",
    " \n",
    "        if ( i > 0):\n",
    "            \n",
    "            if ( abs(oldSSE-ourSSE) < acceptableDifference):\n",
    "                print(\"\\nAfter \", i, \"iterations - we are done({:.10f})!\\n\\nOld SSE:\".format(acceptableDifference),oldSSE, \" new SSE: \", ourSSE, \"\\t Difference < {:12.10f}\".format(oldSSE-ourSSE),\"\\n\" )\n",
    "                \n",
    "                # Make sure to store the last value !\n",
    "        \n",
    "                recordOfIterations.append(i)\n",
    "                recordOfSlope.append(m)\n",
    "                recordOfIntercept.append(c)\n",
    "                recordOfSSE.append(ourSSE)        \n",
    "                break\n",
    "    \n",
    "            if( ourSSE > oldSSE):\n",
    "                print(\"Error adjustment process going the wrong way ...abort.\")\n",
    "                break\n",
    "\n",
    "\n",
    "        ourSPD_m = SumPartialDerivativeOf_m( Y_s, Y_hat, X_s)\n",
    "        ourSPD_c = SumPartialDerivativeOf_c( Y_s, Y_hat)\n",
    "\n",
    "        m = m - r*ourSPD_m\n",
    "        c = c - r*ourSPD_c\n",
    "\n",
    "        if (i%100 == 0):\n",
    "#       print(\"{:12}\".format(i),\"{:12.6f}\".format(m), \"{:12.6f}\".format(c), \"{:16.14f}\".format(ourSSE))\n",
    "            recordOfIterations.append(i)\n",
    "            recordOfSlope.append(m)\n",
    "            recordOfIntercept.append(c)\n",
    "            recordOfSSE.append(ourSSE)\n",
    "        \n",
    "        if((i%100 ==0)):\n",
    "            DrawLineFromFormula(m, c, 'g--')\n",
    "            \n",
    "        oldSSE = ourSSE\n",
    "        \n",
    "\n",
    "# Show the table of values\n",
    "\n",
    "    whatHappened = pd.DataFrame({\"Iterations\":recordOfIterations, \n",
    "                                \"Slope\":recordOfSlope,\n",
    "                                \"c\":recordOfIntercept,    \n",
    "                                \"SSE\":recordOfSSE\n",
    "                            })\n",
    "\n",
    "    pd.set_option('display.max_rows', None)\n",
    "    display(whatHappened)\n",
    "\n",
    "# Plot the original points and the final line.\n",
    "\n",
    "    plt.scatter(X_s, Y_s, 30, color = 'blue')\n",
    "\n",
    "    DrawLineFromFormula(m, c, 'black')\n",
    "    \n",
    "    plt.show()\n",
    "\n",
    "# Plot the SSE - it should show a nice decrease.\n",
    "# Plotting the error\n",
    "    \n",
    "    plt.title(\"SSE Plot\")\n",
    "    plt.xlabel('Number of iterations')\n",
    "    plt.ylabel('SSE')\n",
    "    plt.plot(SSE_storage)\n",
    "    plt.show()\n",
    "    \n",
    "\n",
    "    return m,c\n"
   ]
  },
  {
   "cell_type": "markdown",
   "metadata": {},
   "source": [
    "Recall $$y=mx+c$$ We have to choose values for m and c. \n",
    "<br><br>\n",
    "These can be anything but if they are \"reasonable\" you will need less iterations to converge on good values for m and c. \n",
    "\n"
   ]
  },
  {
   "cell_type": "code",
   "execution_count": 12,
   "metadata": {},
   "outputs": [
    {
     "name": "stdout",
     "output_type": "stream",
     "text": [
      "\n",
      "After  986 iterations - we are done(0.0000000001)!\n",
      "\n",
      "Old SSE: 0.15893573712852668  new SSE:  0.15893573702943325 \t Difference < 0.0000000001 \n",
      "\n"
     ]
    },
    {
     "data": {
      "text/html": [
       "<div>\n",
       "<style scoped>\n",
       "    .dataframe tbody tr th:only-of-type {\n",
       "        vertical-align: middle;\n",
       "    }\n",
       "\n",
       "    .dataframe tbody tr th {\n",
       "        vertical-align: top;\n",
       "    }\n",
       "\n",
       "    .dataframe thead th {\n",
       "        text-align: right;\n",
       "    }\n",
       "</style>\n",
       "<table border=\"1\" class=\"dataframe\">\n",
       "  <thead>\n",
       "    <tr style=\"text-align: right;\">\n",
       "      <th></th>\n",
       "      <th>Iterations</th>\n",
       "      <th>Slope</th>\n",
       "      <th>c</th>\n",
       "      <th>SSE</th>\n",
       "    </tr>\n",
       "  </thead>\n",
       "  <tbody>\n",
       "    <tr>\n",
       "      <th>0</th>\n",
       "      <td>0</td>\n",
       "      <td>0.983100</td>\n",
       "      <td>1.773679</td>\n",
       "      <td>23.504803</td>\n",
       "    </tr>\n",
       "    <tr>\n",
       "      <th>1</th>\n",
       "      <td>100</td>\n",
       "      <td>0.540240</td>\n",
       "      <td>0.231801</td>\n",
       "      <td>0.186460</td>\n",
       "    </tr>\n",
       "    <tr>\n",
       "      <th>2</th>\n",
       "      <td>200</td>\n",
       "      <td>0.667848</td>\n",
       "      <td>0.162550</td>\n",
       "      <td>0.163777</td>\n",
       "    </tr>\n",
       "    <tr>\n",
       "      <th>3</th>\n",
       "      <td>300</td>\n",
       "      <td>0.721363</td>\n",
       "      <td>0.133508</td>\n",
       "      <td>0.159787</td>\n",
       "    </tr>\n",
       "    <tr>\n",
       "      <th>4</th>\n",
       "      <td>400</td>\n",
       "      <td>0.743806</td>\n",
       "      <td>0.121328</td>\n",
       "      <td>0.159085</td>\n",
       "    </tr>\n",
       "    <tr>\n",
       "      <th>5</th>\n",
       "      <td>500</td>\n",
       "      <td>0.753218</td>\n",
       "      <td>0.116220</td>\n",
       "      <td>0.158962</td>\n",
       "    </tr>\n",
       "    <tr>\n",
       "      <th>6</th>\n",
       "      <td>600</td>\n",
       "      <td>0.757166</td>\n",
       "      <td>0.114078</td>\n",
       "      <td>0.158940</td>\n",
       "    </tr>\n",
       "    <tr>\n",
       "      <th>7</th>\n",
       "      <td>700</td>\n",
       "      <td>0.758821</td>\n",
       "      <td>0.113180</td>\n",
       "      <td>0.158937</td>\n",
       "    </tr>\n",
       "    <tr>\n",
       "      <th>8</th>\n",
       "      <td>800</td>\n",
       "      <td>0.759515</td>\n",
       "      <td>0.112803</td>\n",
       "      <td>0.158936</td>\n",
       "    </tr>\n",
       "    <tr>\n",
       "      <th>9</th>\n",
       "      <td>900</td>\n",
       "      <td>0.759806</td>\n",
       "      <td>0.112645</td>\n",
       "      <td>0.158936</td>\n",
       "    </tr>\n",
       "    <tr>\n",
       "      <th>10</th>\n",
       "      <td>986</td>\n",
       "      <td>0.759916</td>\n",
       "      <td>0.112586</td>\n",
       "      <td>0.158936</td>\n",
       "    </tr>\n",
       "  </tbody>\n",
       "</table>\n",
       "</div>"
      ],
      "text/plain": [
       "    Iterations     Slope         c        SSE\n",
       "0            0  0.983100  1.773679  23.504803\n",
       "1          100  0.540240  0.231801   0.186460\n",
       "2          200  0.667848  0.162550   0.163777\n",
       "3          300  0.721363  0.133508   0.159787\n",
       "4          400  0.743806  0.121328   0.159085\n",
       "5          500  0.753218  0.116220   0.158962\n",
       "6          600  0.757166  0.114078   0.158940\n",
       "7          700  0.758821  0.113180   0.158937\n",
       "8          800  0.759515  0.112803   0.158936\n",
       "9          900  0.759806  0.112645   0.158936\n",
       "10         986  0.759916  0.112586   0.158936"
      ]
     },
     "metadata": {},
     "output_type": "display_data"
    },
    {
     "data": {
      "image/png": "[encoded data removed]",
      "text/plain": [
       "<Figure size 432x288 with 1 Axes>"
      ]
     },
     "metadata": {
      "needs_background": "light"
     },
     "output_type": "display_data"
    },
    {
     "data": {
      "image/png": "[encoded data removed]",
      "text/plain": [
       "<Figure size 432x288 with 1 Axes>"
      ]
     },
     "metadata": {
      "needs_background": "light"
     },
     "output_type": "display_data"
    }
   ],
   "source": [
    "m_slope = 1.1\n",
    "c_intercept = 2.0\n",
    "r_learning_rate = .01\n",
    "\n",
    "m,c = trials( m_slope, c_intercept, r_learning_rate, 0.0000000001, 3000)\n"
   ]
  },
  {
   "cell_type": "markdown",
   "metadata": {},
   "source": [
    "Recall that we used the functions, $$ x_{new} = \\frac{ x_{orig} - x_{min}}{x_{max} - x_{min}} $$ and $$ y_{new} = \\frac{ y_{orig} - y_{min}}{y_{max} - y_{min}} $$<br>, to \"standardise\" our samples (the x,y pairs we were given at the start). \n",
    "\n",
    "Our new <b>m</b> is correct but our <b>c</b> needs to be mapped back to the range that our original y values were in.\n",
    "\n",
    "\n",
    "To reverse this we need to use the following \n",
    "\n",
    "$$ y_{orig} = ({ y_{new} } * (y_{max} - y_{min})) + y_{min}  $$\n",
    "\n",
    "We need to execute this once to map our <b>c</b> back to the orginal range."
   ]
  },
  {
   "cell_type": "code",
   "execution_count": 13,
   "metadata": {},
   "outputs": [
    {
     "name": "stdout",
     "output_type": "stream",
     "text": [
      "0.7599161158521673 0.11258560597344808\n",
      "Ymin: 4.26\n",
      "Y Range: 6.58\n",
      "m 0.7599 \t final c 5.0008\n"
     ]
    },
    {
     "data": {
      "image/png": "[encoded data removed]",
      "text/plain": [
       "<Figure size 432x288 with 1 Axes>"
      ]
     },
     "metadata": {
      "needs_background": "light"
     },
     "output_type": "display_data"
    }
   ],
   "source": [
    "print(m, c)\n",
    "print(\"Ymin:\", Ymin)\n",
    "print(\"Y Range:\", Ymax - Ymin)\n",
    "\n",
    "c_final = (c * (Ymax - Ymin)) + Ymin\n",
    "\n",
    "print(\"m {:6.4f}\".format(m),\"\\t final c {:6.4f}\".format(c_final))\n",
    "\n",
    "# plt.xlim(-1,Xmax+1)\n",
    "# plt.ylim(2,Ymax+1)\n",
    "\n",
    "x = np.arange(0, Xmax+1, 0.1, dtype=\"float64\")\n",
    "y = np.empty_like(x, dtype=\"float64\") \n",
    "y = m*x + c_final\n",
    "\n",
    "# plt.plot(x, y, 'black')\n",
    "# Plot the original points and the final line.\n",
    "\n",
    "points = np.arange(Xmin-1, Xmax+1, 0.1)\n",
    "plt.plot(points, m*points+c_final, 'g--')\n",
    "\n",
    "\n",
    "plt.scatter(X,Y, 10, color = 'blue')\n",
    "plt.show()"
   ]
  },
  {
   "cell_type": "markdown",
   "metadata": {},
   "source": [
    "Not correct - the intercept 'c' is far too big. \n",
    "\n",
    "**What is the proper way to undo the standardisation of the sample data?**\n"
   ]
  },
  {
   "cell_type": "code",
   "execution_count": null,
   "metadata": {},
   "outputs": [],
   "source": []
  }
 ],
 "metadata": {
  "kernelspec": {
   "display_name": "Python 3",
   "language": "python",
   "name": "python3"
  },
  "language_info": {
   "codemirror_mode": {
    "name": "ipython",
    "version": 3
   },
   "file_extension": ".py",
   "mimetype": "text/x-python",
   "name": "python",
   "nbconvert_exporter": "python",
   "pygments_lexer": "ipython3",
   "version": "3.6.6"
  }
 },
 "nbformat": 4,
 "nbformat_minor": 1
}
