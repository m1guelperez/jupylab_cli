{
 "cells": [
  {
   "cell_type": "markdown",
   "metadata": {
    "_cell_guid": "deba8149-0f47-4855-8caf-ed69994baad1",
    "_uuid": "2bb9be79a7b8fbdf7a865dde43896c3bb0881e99"
   },
   "source": [
    "Today we're going to do a t-test, but first let's read in our data & set up our environment."
   ]
  },
  {
   "cell_type": "code",
   "execution_count": 1,
   "metadata": {
    "_cell_guid": "a0823296-e114-4a96-b10c-d82fa24a43dc",
    "_uuid": "1f471ac9a878e87ddf0edb54589d5d250f35fb55"
   },
   "outputs": [
    {
     "data": {
      "text/html": [
       "<div>\n",
       "<style>\n",
       "    .dataframe thead tr:only-child th {\n",
       "        text-align: right;\n",
       "    }\n",
       "\n",
       "    .dataframe thead th {\n",
       "        text-align: left;\n",
       "    }\n",
       "\n",
       "    .dataframe tbody tr th {\n",
       "        vertical-align: top;\n",
       "    }\n",
       "</style>\n",
       "<table border=\"1\" class=\"dataframe\">\n",
       "  <thead>\n",
       "    <tr style=\"text-align: right;\">\n",
       "      <th></th>\n",
       "      <th>name</th>\n",
       "      <th>mfr</th>\n",
       "      <th>type</th>\n",
       "      <th>calories</th>\n",
       "      <th>protein</th>\n",
       "      <th>fat</th>\n",
       "      <th>sodium</th>\n",
       "      <th>fiber</th>\n",
       "      <th>carbo</th>\n",
       "      <th>sugars</th>\n",
       "      <th>potass</th>\n",
       "      <th>vitamins</th>\n",
       "      <th>shelf</th>\n",
       "      <th>weight</th>\n",
       "      <th>cups</th>\n",
       "      <th>rating</th>\n",
       "    </tr>\n",
       "  </thead>\n",
       "  <tbody>\n",
       "    <tr>\n",
       "      <th>0</th>\n",
       "      <td>100% Bran</td>\n",
       "      <td>N</td>\n",
       "      <td>C</td>\n",
       "      <td>70</td>\n",
       "      <td>4</td>\n",
       "      <td>1</td>\n",
       "      <td>130</td>\n",
       "      <td>10.0</td>\n",
       "      <td>5.0</td>\n",
       "      <td>6</td>\n",
       "      <td>280</td>\n",
       "      <td>25</td>\n",
       "      <td>3</td>\n",
       "      <td>1.0</td>\n",
       "      <td>0.33</td>\n",
       "      <td>68.402973</td>\n",
       "    </tr>\n",
       "    <tr>\n",
       "      <th>1</th>\n",
       "      <td>100% Natural Bran</td>\n",
       "      <td>Q</td>\n",
       "      <td>C</td>\n",
       "      <td>120</td>\n",
       "      <td>3</td>\n",
       "      <td>5</td>\n",
       "      <td>15</td>\n",
       "      <td>2.0</td>\n",
       "      <td>8.0</td>\n",
       "      <td>8</td>\n",
       "      <td>135</td>\n",
       "      <td>0</td>\n",
       "      <td>3</td>\n",
       "      <td>1.0</td>\n",
       "      <td>1.00</td>\n",
       "      <td>33.983679</td>\n",
       "    </tr>\n",
       "    <tr>\n",
       "      <th>2</th>\n",
       "      <td>All-Bran</td>\n",
       "      <td>K</td>\n",
       "      <td>C</td>\n",
       "      <td>70</td>\n",
       "      <td>4</td>\n",
       "      <td>1</td>\n",
       "      <td>260</td>\n",
       "      <td>9.0</td>\n",
       "      <td>7.0</td>\n",
       "      <td>5</td>\n",
       "      <td>320</td>\n",
       "      <td>25</td>\n",
       "      <td>3</td>\n",
       "      <td>1.0</td>\n",
       "      <td>0.33</td>\n",
       "      <td>59.425505</td>\n",
       "    </tr>\n",
       "    <tr>\n",
       "      <th>3</th>\n",
       "      <td>All-Bran with Extra Fiber</td>\n",
       "      <td>K</td>\n",
       "      <td>C</td>\n",
       "      <td>50</td>\n",
       "      <td>4</td>\n",
       "      <td>0</td>\n",
       "      <td>140</td>\n",
       "      <td>14.0</td>\n",
       "      <td>8.0</td>\n",
       "      <td>0</td>\n",
       "      <td>330</td>\n",
       "      <td>25</td>\n",
       "      <td>3</td>\n",
       "      <td>1.0</td>\n",
       "      <td>0.50</td>\n",
       "      <td>93.704912</td>\n",
       "    </tr>\n",
       "    <tr>\n",
       "      <th>4</th>\n",
       "      <td>Almond Delight</td>\n",
       "      <td>R</td>\n",
       "      <td>C</td>\n",
       "      <td>110</td>\n",
       "      <td>2</td>\n",
       "      <td>2</td>\n",
       "      <td>200</td>\n",
       "      <td>1.0</td>\n",
       "      <td>14.0</td>\n",
       "      <td>8</td>\n",
       "      <td>-1</td>\n",
       "      <td>25</td>\n",
       "      <td>3</td>\n",
       "      <td>1.0</td>\n",
       "      <td>0.75</td>\n",
       "      <td>34.384843</td>\n",
       "    </tr>\n",
       "  </tbody>\n",
       "</table>\n",
       "</div>"
      ],
      "text/plain": [
       "                        name mfr type  calories  protein  fat  sodium  fiber  \\\n",
       "0                  100% Bran   N    C        70        4    1     130   10.0   \n",
       "1          100% Natural Bran   Q    C       120        3    5      15    2.0   \n",
       "2                   All-Bran   K    C        70        4    1     260    9.0   \n",
       "3  All-Bran with Extra Fiber   K    C        50        4    0     140   14.0   \n",
       "4             Almond Delight   R    C       110        2    2     200    1.0   \n",
       "\n",
       "   carbo  sugars  potass  vitamins  shelf  weight  cups     rating  \n",
       "0    5.0       6     280        25      3     1.0  0.33  68.402973  \n",
       "1    8.0       8     135         0      3     1.0  1.00  33.983679  \n",
       "2    7.0       5     320        25      3     1.0  0.33  59.425505  \n",
       "3    8.0       0     330        25      3     1.0  0.50  93.704912  \n",
       "4   14.0       8      -1        25      3     1.0  0.75  34.384843  "
      ]
     },
     "execution_count": 1,
     "metadata": {},
     "output_type": "execute_result"
    }
   ],
   "source": [
    "# load in our libraries\n",
    "import pandas as pd # pandas for data frames\n",
    "from scipy.stats import ttest_ind # just the t-test from scipy.stats\n",
    "from scipy.stats import probplot # for a qqplot\n",
    "import matplotlib.pyplot as plt # for a qqplot\n",
    "import pylab #\n",
    "\n",
    "# read in our data\n",
    "cereals = pd.read_csv(\"../input/cereal.csv\")\n",
    "# check out the first few lines\n",
    "cereals.head()"
   ]
  },
  {
   "cell_type": "markdown",
   "metadata": {
    "_cell_guid": "a2f977c8-eef5-4db2-a066-3e9925a8345f",
    "_uuid": "57ba377970c16f37f28b5b2ecb71d9f28b71a0c2"
   },
   "source": [
    "We should make sure that the variable is normally distributed (spoiler: I checked that it was beforehand ;) so let's use a qq-polt to do that."
   ]
  },
  {
   "cell_type": "code",
   "execution_count": 2,
   "metadata": {
    "_cell_guid": "1edf8984-1b2c-45fa-b9f2-d38657e7a8fa",
    "_uuid": "134ef3af447254ba88eda5337555f0bc0a1e4fd6"
   },
   "outputs": [
    {
     "data": {
      "text/plain": [
       "((array([-2.3672044 , -2.01892399, -1.81615497, -1.6685929 , -1.55038319,\n",
       "         -1.45056491, -1.36341252, -1.28553894, -1.2147656 , -1.14960406,\n",
       "         -1.08898961, -1.03213271, -0.97843053, -0.92741151, -0.87869918,\n",
       "         -0.8319877 , -0.78702477, -0.74359942, -0.70153318, -0.66067335,\n",
       "         -0.62088802, -0.5820622 , -0.54409476, -0.50689606, -0.47038604,\n",
       "         -0.43449267, -0.39915065, -0.36430042, -0.32988724, -0.29586046,\n",
       "         -0.26217291, -0.22878038, -0.19564108, -0.16271532, -0.12996506,\n",
       "         -0.09735365, -0.06484548, -0.0324057 ,  0.        ,  0.0324057 ,\n",
       "          0.06484548,  0.09735365,  0.12996506,  0.16271532,  0.19564108,\n",
       "          0.22878038,  0.26217291,  0.29586046,  0.32988724,  0.36430042,\n",
       "          0.39915065,  0.43449267,  0.47038604,  0.50689606,  0.54409476,\n",
       "          0.5820622 ,  0.62088802,  0.66067335,  0.70153318,  0.74359942,\n",
       "          0.78702477,  0.8319877 ,  0.87869918,  0.92741151,  0.97843053,\n",
       "          1.03213271,  1.08898961,  1.14960406,  1.2147656 ,  1.28553894,\n",
       "          1.36341252,  1.45056491,  1.55038319,  1.6685929 ,  1.81615497,\n",
       "          2.01892399,  2.3672044 ]),\n",
       "  array([  0,   0,   0,   0,   0,   0,   0,   0,   0,  15,  15,  45,  70,\n",
       "          75,  80,  90,  95, 125, 125, 130, 135, 135, 140, 140, 140, 140,\n",
       "         140, 140, 140, 150, 150, 150, 160, 170, 170, 170, 170, 170, 180,\n",
       "         180, 180, 180, 180, 190, 190, 190, 200, 200, 200, 200, 200, 200,\n",
       "         200, 200, 210, 210, 210, 210, 220, 220, 220, 220, 220, 230, 230,\n",
       "         240, 240, 250, 250, 260, 260, 280, 280, 290, 290, 290, 320])),\n",
       " (82.646706757772662, 159.67532467532465, 0.96760593044117926))"
      ]
     },
     "execution_count": 2,
     "metadata": {},
     "output_type": "execute_result"
    },
    {
     "data": {
      "image/png": "[encoded data removed]",
      "text/plain": [
       "<matplotlib.figure.Figure at 0x7fb8654366d8>"
      ]
     },
     "metadata": {},
     "output_type": "display_data"
    }
   ],
   "source": [
    "# plot a qqplot to check normality. If the varaible is normally distributed, most of the points \n",
    "# should be along the center diagonal.\n",
    "probplot(cereals[\"sodium\"], dist=\"norm\", plot=pylab)"
   ]
  },
  {
   "cell_type": "markdown",
   "metadata": {
    "_cell_guid": "66bdca8e-4d23-4877-8a4d-cc47167b45d9",
    "_uuid": "c9800c055acb1688c2bb720d127ffbc6d5e03afa"
   },
   "source": [
    "Preform our t-test."
   ]
  },
  {
   "cell_type": "code",
   "execution_count": 3,
   "metadata": {
    "_cell_guid": "f56872fe-bd9f-43c6-be9e-44a8013ca5d0",
    "_uuid": "0dff22a3f0b696007bd888c51b50f1186fc9fc43"
   },
   "outputs": [
    {
     "data": {
      "text/plain": [
       "Ttest_indResult(statistic=-4.8963576189325932, pvalue=0.024114820819458219)"
      ]
     },
     "execution_count": 3,
     "metadata": {},
     "output_type": "execute_result"
    }
   ],
   "source": [
    "# get the sodium for hot cerals\n",
    "hotCereals = cereals[\"sodium\"][cereals[\"type\"] == \"H\"]\n",
    "# get the sodium for cold ceareals\n",
    "coldCereals = cereals[\"sodium\"][cereals[\"type\"] == \"C\"]\n",
    "\n",
    "# compare them\n",
    "ttest_ind(hotCereals, coldCereals, equal_var=False)"
   ]
  },
  {
   "cell_type": "markdown",
   "metadata": {
    "_cell_guid": "5d8cd1dc-b615-4da7-8e11-274b789c6e2d",
    "_uuid": "4bb75d8811cb02efae4c13c2bd49f42c67e374d1"
   },
   "source": [
    "So, if we decided to set our alpha (the highest p-value that would still allow us to reject the null) to 0.05 before we started, we would reject the null (i.e. can be pretty sure that there's not not a difference between these two groups). Statistic is the actual value of the t-test, and the pvalue is the probability that we saw a difference this large between our two groups just due to chance if they were actually drawn from the same underlying population."
   ]
  },
  {
   "cell_type": "code",
   "execution_count": 4,
   "metadata": {
    "_cell_guid": "146ada6d-842b-4102-8083-721d7abf5590",
    "_uuid": "ebdd0abcceb88e3d195f6814b0bee2440dc7bd0d"
   },
   "outputs": [
    {
     "name": "stdout",
     "output_type": "stream",
     "text": [
      "Mean sodium for the hot cereals:\n",
      "26.666666666666668\n",
      "Mean sodium for the cold cereals:\n",
      "165.06756756756758\n"
     ]
    }
   ],
   "source": [
    "# let's look at the means (averages) of each group to see which is larger\n",
    "print(\"Mean sodium for the hot cereals:\")\n",
    "print(hotCereals.mean())\n",
    "\n",
    "print(\"Mean sodium for the cold cereals:\")\n",
    "print(coldCereals.mean())"
   ]
  },
  {
   "cell_type": "markdown",
   "metadata": {
    "_cell_guid": "d6606056-d0ac-426b-86ec-1e50999ac769",
    "_uuid": "b2872d56572ecfa00c68084b77e454c93bf77ea0"
   },
   "source": [
    "Now plot for the two cereal types, with each as a different color."
   ]
  },
  {
   "cell_type": "code",
   "execution_count": 5,
   "metadata": {
    "_cell_guid": "2c3d5f99-47a7-4697-bf3a-5085817fa04f",
    "_uuid": "8d004dc7a055e1ca493309fd944bb86810d1eb70"
   },
   "outputs": [
    {
     "data": {
      "text/plain": [
       "<matplotlib.text.Text at 0x7fb849ffb780>"
      ]
     },
     "execution_count": 5,
     "metadata": {},
     "output_type": "execute_result"
    },
    {
     "data": {
      "image/png": "[encoded data removed]",
      "text/plain": [
       "<matplotlib.figure.Figure at 0x7fb84a094438>"
      ]
     },
     "metadata": {},
     "output_type": "display_data"
    }
   ],
   "source": [
    "# plot the cold cereals\n",
    "plt.hist(coldCereals, alpha=0.5, label='cold')\n",
    "# and the hot cereals\n",
    "plt.hist(hotCereals, label='hot')\n",
    "# and add a legend\n",
    "plt.legend(loc='upper right')\n",
    "# add a title\n",
    "plt.title(\"Sodium(mg) content of cereals by type\")"
   ]
  }
 ],
 "metadata": {
  "kernelspec": {
   "display_name": "Python 3",
   "language": "python",
   "name": "python3"
  },
  "language_info": {
   "codemirror_mode": {
    "name": "ipython",
    "version": 3
   },
   "file_extension": ".py",
   "mimetype": "text/x-python",
   "name": "python",
   "nbconvert_exporter": "python",
   "pygments_lexer": "ipython3",
   "version": "3.6.3"
  }
 },
 "nbformat": 4,
 "nbformat_minor": 1
}
