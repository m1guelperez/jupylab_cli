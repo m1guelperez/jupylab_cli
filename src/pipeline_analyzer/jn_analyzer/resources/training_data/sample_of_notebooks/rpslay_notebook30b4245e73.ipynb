{
 "cells": [
  {
   "cell_type": "code",
   "execution_count": 1,
   "metadata": {
    "_cell_guid": "0863e6de-26af-c1dc-ed7b-bae2f4959a6e"
   },
   "outputs": [
    {
     "name": "stdout",
     "output_type": "stream",
     "text": [
      "Uber-Jan-Feb-FOIL.csv\n",
      "other-American_B01362.csv\n",
      "other-Carmel_B00256.csv\n",
      "other-Dial7_B00887.csv\n",
      "other-Diplo_B01196.csv\n",
      "other-FHV-services_jan-aug-2015.csv\n",
      "other-Federal_02216.csv\n",
      "other-Firstclass_B01536.csv\n",
      "other-Highclass_B01717.csv\n",
      "other-Lyft_B02510.csv\n",
      "other-Prestige_B01338.csv\n",
      "other-Skyline_B00111.csv\n",
      "uber-raw-data-apr14.csv\n",
      "uber-raw-data-aug14.csv\n",
      "uber-raw-data-janjune-15.csv\n",
      "uber-raw-data-jul14.csv\n",
      "uber-raw-data-jun14.csv\n",
      "uber-raw-data-may14.csv\n",
      "uber-raw-data-sep14.csv\n",
      "\n"
     ]
    }
   ],
   "source": [
    "# This Python 3 environment comes with many helpful analytics libraries installed\n",
    "# It is defined by the kaggle/python docker image: https://github.com/kaggle/docker-python\n",
    "# For example, here's several helpful packages to load in \n",
    "\n",
    "import numpy as np # linear algebra\n",
    "import pandas as pd # data processing, CSV file I/O (e.g. pd.read_csv)\n",
    "\n",
    "# Input data files are available in the \"../input/\" directory.\n",
    "# For example, running this (by clicking run or pressing Shift+Enter) will list the files in the input directory\n",
    "\n",
    "from subprocess import check_output\n",
    "print(check_output([\"ls\", \"../input\"]).decode(\"utf8\"))\n",
    "\n",
    "# Any results you write to the current directory are saved as output."
   ]
  },
  {
   "cell_type": "code",
   "execution_count": 2,
   "metadata": {
    "_cell_guid": "ffcf816c-4fd4-94ca-89a1-906ee44d1cd9"
   },
   "outputs": [],
   "source": []
  }
 ],
 "metadata": {
  "_change_revision": 16,
  "_is_fork": false,
  "kernelspec": {
   "display_name": "Python 3",
   "language": "python",
   "name": "python3"
  },
  "language_info": {
   "codemirror_mode": {
    "name": "ipython",
    "version": 3
   },
   "file_extension": ".py",
   "mimetype": "text/x-python",
   "name": "python",
   "nbconvert_exporter": "python",
   "pygments_lexer": "ipython3",
   "version": "3.5.2"
  }
 },
 "nbformat": 4,
 "nbformat_minor": 0
}
