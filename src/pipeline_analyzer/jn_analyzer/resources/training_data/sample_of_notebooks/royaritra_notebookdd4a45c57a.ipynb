{
 "cells": [
  {
   "cell_type": "code",
   "execution_count": 1,
   "metadata": {
    "execution": {
     "iopub.execute_input": "2020-08-12T18:55:09.628062Z",
     "iopub.status.busy": "2020-08-12T18:55:09.627213Z",
     "iopub.status.idle": "2020-08-12T18:55:09.631596Z",
     "shell.execute_reply": "2020-08-12T18:55:09.630795Z"
    },
    "papermill": {
     "duration": 0.031613,
     "end_time": "2020-08-12T18:55:09.631743",
     "exception": false,
     "start_time": "2020-08-12T18:55:09.600130",
     "status": "completed"
    },
    "tags": []
   },
   "outputs": [],
   "source": [
    "import pandas as pd\n",
    "import numpy as np"
   ]
  },
  {
   "cell_type": "code",
   "execution_count": 2,
   "metadata": {
    "execution": {
     "iopub.execute_input": "2020-08-12T18:55:09.671296Z",
     "iopub.status.busy": "2020-08-12T18:55:09.670396Z",
     "iopub.status.idle": "2020-08-12T18:55:10.403098Z",
     "shell.execute_reply": "2020-08-12T18:55:10.403966Z"
    },
    "papermill": {
     "duration": 0.756383,
     "end_time": "2020-08-12T18:55:10.404161",
     "exception": false,
     "start_time": "2020-08-12T18:55:09.647778",
     "status": "completed"
    },
    "tags": []
   },
   "outputs": [
    {
     "data": {
      "text/html": [
       "<div>\n",
       "<style scoped>\n",
       "    .dataframe tbody tr th:only-of-type {\n",
       "        vertical-align: middle;\n",
       "    }\n",
       "\n",
       "    .dataframe tbody tr th {\n",
       "        vertical-align: top;\n",
       "    }\n",
       "\n",
       "    .dataframe thead th {\n",
       "        text-align: right;\n",
       "    }\n",
       "</style>\n",
       "<table border=\"1\" class=\"dataframe\">\n",
       "  <thead>\n",
       "    <tr style=\"text-align: right;\">\n",
       "      <th></th>\n",
       "      <th>Hours</th>\n",
       "      <th>Scores</th>\n",
       "    </tr>\n",
       "  </thead>\n",
       "  <tbody>\n",
       "    <tr>\n",
       "      <th>0</th>\n",
       "      <td>2.5</td>\n",
       "      <td>21</td>\n",
       "    </tr>\n",
       "    <tr>\n",
       "      <th>1</th>\n",
       "      <td>5.1</td>\n",
       "      <td>47</td>\n",
       "    </tr>\n",
       "    <tr>\n",
       "      <th>2</th>\n",
       "      <td>3.2</td>\n",
       "      <td>27</td>\n",
       "    </tr>\n",
       "    <tr>\n",
       "      <th>3</th>\n",
       "      <td>8.5</td>\n",
       "      <td>75</td>\n",
       "    </tr>\n",
       "    <tr>\n",
       "      <th>4</th>\n",
       "      <td>3.5</td>\n",
       "      <td>30</td>\n",
       "    </tr>\n",
       "    <tr>\n",
       "      <th>5</th>\n",
       "      <td>1.5</td>\n",
       "      <td>20</td>\n",
       "    </tr>\n",
       "    <tr>\n",
       "      <th>6</th>\n",
       "      <td>9.2</td>\n",
       "      <td>88</td>\n",
       "    </tr>\n",
       "    <tr>\n",
       "      <th>7</th>\n",
       "      <td>5.5</td>\n",
       "      <td>60</td>\n",
       "    </tr>\n",
       "    <tr>\n",
       "      <th>8</th>\n",
       "      <td>8.3</td>\n",
       "      <td>81</td>\n",
       "    </tr>\n",
       "    <tr>\n",
       "      <th>9</th>\n",
       "      <td>2.7</td>\n",
       "      <td>25</td>\n",
       "    </tr>\n",
       "    <tr>\n",
       "      <th>10</th>\n",
       "      <td>7.7</td>\n",
       "      <td>85</td>\n",
       "    </tr>\n",
       "    <tr>\n",
       "      <th>11</th>\n",
       "      <td>5.9</td>\n",
       "      <td>62</td>\n",
       "    </tr>\n",
       "    <tr>\n",
       "      <th>12</th>\n",
       "      <td>4.5</td>\n",
       "      <td>41</td>\n",
       "    </tr>\n",
       "    <tr>\n",
       "      <th>13</th>\n",
       "      <td>3.3</td>\n",
       "      <td>42</td>\n",
       "    </tr>\n",
       "    <tr>\n",
       "      <th>14</th>\n",
       "      <td>1.1</td>\n",
       "      <td>17</td>\n",
       "    </tr>\n",
       "    <tr>\n",
       "      <th>15</th>\n",
       "      <td>8.9</td>\n",
       "      <td>95</td>\n",
       "    </tr>\n",
       "    <tr>\n",
       "      <th>16</th>\n",
       "      <td>2.5</td>\n",
       "      <td>30</td>\n",
       "    </tr>\n",
       "    <tr>\n",
       "      <th>17</th>\n",
       "      <td>1.9</td>\n",
       "      <td>24</td>\n",
       "    </tr>\n",
       "    <tr>\n",
       "      <th>18</th>\n",
       "      <td>6.1</td>\n",
       "      <td>67</td>\n",
       "    </tr>\n",
       "    <tr>\n",
       "      <th>19</th>\n",
       "      <td>7.4</td>\n",
       "      <td>69</td>\n",
       "    </tr>\n",
       "    <tr>\n",
       "      <th>20</th>\n",
       "      <td>2.7</td>\n",
       "      <td>30</td>\n",
       "    </tr>\n",
       "    <tr>\n",
       "      <th>21</th>\n",
       "      <td>4.8</td>\n",
       "      <td>54</td>\n",
       "    </tr>\n",
       "    <tr>\n",
       "      <th>22</th>\n",
       "      <td>3.8</td>\n",
       "      <td>35</td>\n",
       "    </tr>\n",
       "    <tr>\n",
       "      <th>23</th>\n",
       "      <td>6.9</td>\n",
       "      <td>76</td>\n",
       "    </tr>\n",
       "    <tr>\n",
       "      <th>24</th>\n",
       "      <td>7.8</td>\n",
       "      <td>86</td>\n",
       "    </tr>\n",
       "  </tbody>\n",
       "</table>\n",
       "</div>"
      ],
      "text/plain": [
       "    Hours  Scores\n",
       "0     2.5      21\n",
       "1     5.1      47\n",
       "2     3.2      27\n",
       "3     8.5      75\n",
       "4     3.5      30\n",
       "5     1.5      20\n",
       "6     9.2      88\n",
       "7     5.5      60\n",
       "8     8.3      81\n",
       "9     2.7      25\n",
       "10    7.7      85\n",
       "11    5.9      62\n",
       "12    4.5      41\n",
       "13    3.3      42\n",
       "14    1.1      17\n",
       "15    8.9      95\n",
       "16    2.5      30\n",
       "17    1.9      24\n",
       "18    6.1      67\n",
       "19    7.4      69\n",
       "20    2.7      30\n",
       "21    4.8      54\n",
       "22    3.8      35\n",
       "23    6.9      76\n",
       "24    7.8      86"
      ]
     },
     "execution_count": 2,
     "metadata": {},
     "output_type": "execute_result"
    }
   ],
   "source": [
    "source = 'http://bit.ly/w-data'\n",
    "data = pd.read_csv(source)\n",
    "\n",
    "data"
   ]
  },
  {
   "cell_type": "code",
   "execution_count": 3,
   "metadata": {
    "execution": {
     "iopub.execute_input": "2020-08-12T18:55:10.454063Z",
     "iopub.status.busy": "2020-08-12T18:55:10.452942Z",
     "iopub.status.idle": "2020-08-12T18:55:10.458751Z",
     "shell.execute_reply": "2020-08-12T18:55:10.457925Z"
    },
    "papermill": {
     "duration": 0.035725,
     "end_time": "2020-08-12T18:55:10.458918",
     "exception": false,
     "start_time": "2020-08-12T18:55:10.423193",
     "status": "completed"
    },
    "tags": []
   },
   "outputs": [
    {
     "data": {
      "text/html": [
       "<div>\n",
       "<style scoped>\n",
       "    .dataframe tbody tr th:only-of-type {\n",
       "        vertical-align: middle;\n",
       "    }\n",
       "\n",
       "    .dataframe tbody tr th {\n",
       "        vertical-align: top;\n",
       "    }\n",
       "\n",
       "    .dataframe thead th {\n",
       "        text-align: right;\n",
       "    }\n",
       "</style>\n",
       "<table border=\"1\" class=\"dataframe\">\n",
       "  <thead>\n",
       "    <tr style=\"text-align: right;\">\n",
       "      <th></th>\n",
       "      <th>Hours</th>\n",
       "      <th>Scores</th>\n",
       "    </tr>\n",
       "  </thead>\n",
       "  <tbody>\n",
       "    <tr>\n",
       "      <th>0</th>\n",
       "      <td>2.5</td>\n",
       "      <td>21</td>\n",
       "    </tr>\n",
       "    <tr>\n",
       "      <th>1</th>\n",
       "      <td>5.1</td>\n",
       "      <td>47</td>\n",
       "    </tr>\n",
       "    <tr>\n",
       "      <th>2</th>\n",
       "      <td>3.2</td>\n",
       "      <td>27</td>\n",
       "    </tr>\n",
       "    <tr>\n",
       "      <th>3</th>\n",
       "      <td>8.5</td>\n",
       "      <td>75</td>\n",
       "    </tr>\n",
       "    <tr>\n",
       "      <th>4</th>\n",
       "      <td>3.5</td>\n",
       "      <td>30</td>\n",
       "    </tr>\n",
       "  </tbody>\n",
       "</table>\n",
       "</div>"
      ],
      "text/plain": [
       "   Hours  Scores\n",
       "0    2.5      21\n",
       "1    5.1      47\n",
       "2    3.2      27\n",
       "3    8.5      75\n",
       "4    3.5      30"
      ]
     },
     "execution_count": 3,
     "metadata": {},
     "output_type": "execute_result"
    }
   ],
   "source": [
    "data.head(5)"
   ]
  },
  {
   "cell_type": "code",
   "execution_count": 4,
   "metadata": {
    "execution": {
     "iopub.execute_input": "2020-08-12T18:55:10.509674Z",
     "iopub.status.busy": "2020-08-12T18:55:10.508352Z",
     "iopub.status.idle": "2020-08-12T18:55:10.513493Z",
     "shell.execute_reply": "2020-08-12T18:55:10.512761Z"
    },
    "papermill": {
     "duration": 0.034184,
     "end_time": "2020-08-12T18:55:10.513665",
     "exception": false,
     "start_time": "2020-08-12T18:55:10.479481",
     "status": "completed"
    },
    "tags": []
   },
   "outputs": [
    {
     "data": {
      "text/html": [
       "<div>\n",
       "<style scoped>\n",
       "    .dataframe tbody tr th:only-of-type {\n",
       "        vertical-align: middle;\n",
       "    }\n",
       "\n",
       "    .dataframe tbody tr th {\n",
       "        vertical-align: top;\n",
       "    }\n",
       "\n",
       "    .dataframe thead th {\n",
       "        text-align: right;\n",
       "    }\n",
       "</style>\n",
       "<table border=\"1\" class=\"dataframe\">\n",
       "  <thead>\n",
       "    <tr style=\"text-align: right;\">\n",
       "      <th></th>\n",
       "      <th>Hours</th>\n",
       "      <th>Scores</th>\n",
       "    </tr>\n",
       "  </thead>\n",
       "  <tbody>\n",
       "    <tr>\n",
       "      <th>20</th>\n",
       "      <td>2.7</td>\n",
       "      <td>30</td>\n",
       "    </tr>\n",
       "    <tr>\n",
       "      <th>21</th>\n",
       "      <td>4.8</td>\n",
       "      <td>54</td>\n",
       "    </tr>\n",
       "    <tr>\n",
       "      <th>22</th>\n",
       "      <td>3.8</td>\n",
       "      <td>35</td>\n",
       "    </tr>\n",
       "    <tr>\n",
       "      <th>23</th>\n",
       "      <td>6.9</td>\n",
       "      <td>76</td>\n",
       "    </tr>\n",
       "    <tr>\n",
       "      <th>24</th>\n",
       "      <td>7.8</td>\n",
       "      <td>86</td>\n",
       "    </tr>\n",
       "  </tbody>\n",
       "</table>\n",
       "</div>"
      ],
      "text/plain": [
       "    Hours  Scores\n",
       "20    2.7      30\n",
       "21    4.8      54\n",
       "22    3.8      35\n",
       "23    6.9      76\n",
       "24    7.8      86"
      ]
     },
     "execution_count": 4,
     "metadata": {},
     "output_type": "execute_result"
    }
   ],
   "source": [
    "data.tail()"
   ]
  },
  {
   "cell_type": "code",
   "execution_count": 5,
   "metadata": {
    "execution": {
     "iopub.execute_input": "2020-08-12T18:55:10.575930Z",
     "iopub.status.busy": "2020-08-12T18:55:10.574744Z",
     "iopub.status.idle": "2020-08-12T18:55:10.579186Z",
     "shell.execute_reply": "2020-08-12T18:55:10.580245Z"
    },
    "papermill": {
     "duration": 0.046773,
     "end_time": "2020-08-12T18:55:10.580519",
     "exception": false,
     "start_time": "2020-08-12T18:55:10.533746",
     "status": "completed"
    },
    "tags": []
   },
   "outputs": [
    {
     "name": "stdout",
     "output_type": "stream",
     "text": [
      "<class 'pandas.core.frame.DataFrame'>\n",
      "RangeIndex: 25 entries, 0 to 24\n",
      "Data columns (total 2 columns):\n",
      " #   Column  Non-Null Count  Dtype  \n",
      "---  ------  --------------  -----  \n",
      " 0   Hours   25 non-null     float64\n",
      " 1   Scores  25 non-null     int64  \n",
      "dtypes: float64(1), int64(1)\n",
      "memory usage: 528.0 bytes\n"
     ]
    }
   ],
   "source": [
    "data.info()"
   ]
  },
  {
   "cell_type": "code",
   "execution_count": 6,
   "metadata": {
    "execution": {
     "iopub.execute_input": "2020-08-12T18:55:10.638801Z",
     "iopub.status.busy": "2020-08-12T18:55:10.637915Z",
     "iopub.status.idle": "2020-08-12T18:55:10.645249Z",
     "shell.execute_reply": "2020-08-12T18:55:10.644122Z"
    },
    "papermill": {
     "duration": 0.043175,
     "end_time": "2020-08-12T18:55:10.645482",
     "exception": false,
     "start_time": "2020-08-12T18:55:10.602307",
     "status": "completed"
    },
    "tags": []
   },
   "outputs": [
    {
     "data": {
      "text/plain": [
       "(25, 2)"
      ]
     },
     "execution_count": 6,
     "metadata": {},
     "output_type": "execute_result"
    }
   ],
   "source": [
    "data.shape"
   ]
  },
  {
   "cell_type": "code",
   "execution_count": 7,
   "metadata": {
    "execution": {
     "iopub.execute_input": "2020-08-12T18:55:10.706372Z",
     "iopub.status.busy": "2020-08-12T18:55:10.705130Z",
     "iopub.status.idle": "2020-08-12T18:55:10.710922Z",
     "shell.execute_reply": "2020-08-12T18:55:10.710154Z"
    },
    "papermill": {
     "duration": 0.039151,
     "end_time": "2020-08-12T18:55:10.711082",
     "exception": false,
     "start_time": "2020-08-12T18:55:10.671931",
     "status": "completed"
    },
    "tags": []
   },
   "outputs": [
    {
     "data": {
      "text/plain": [
       "0"
      ]
     },
     "execution_count": 7,
     "metadata": {},
     "output_type": "execute_result"
    }
   ],
   "source": [
    "data.duplicated().sum()"
   ]
  },
  {
   "cell_type": "code",
   "execution_count": 8,
   "metadata": {
    "execution": {
     "iopub.execute_input": "2020-08-12T18:55:10.769337Z",
     "iopub.status.busy": "2020-08-12T18:55:10.768028Z",
     "iopub.status.idle": "2020-08-12T18:55:10.790474Z",
     "shell.execute_reply": "2020-08-12T18:55:10.789230Z"
    },
    "papermill": {
     "duration": 0.052986,
     "end_time": "2020-08-12T18:55:10.790702",
     "exception": false,
     "start_time": "2020-08-12T18:55:10.737716",
     "status": "completed"
    },
    "tags": []
   },
   "outputs": [
    {
     "data": {
      "text/html": [
       "<div>\n",
       "<style scoped>\n",
       "    .dataframe tbody tr th:only-of-type {\n",
       "        vertical-align: middle;\n",
       "    }\n",
       "\n",
       "    .dataframe tbody tr th {\n",
       "        vertical-align: top;\n",
       "    }\n",
       "\n",
       "    .dataframe thead th {\n",
       "        text-align: right;\n",
       "    }\n",
       "</style>\n",
       "<table border=\"1\" class=\"dataframe\">\n",
       "  <thead>\n",
       "    <tr style=\"text-align: right;\">\n",
       "      <th></th>\n",
       "      <th>Hours</th>\n",
       "      <th>Scores</th>\n",
       "    </tr>\n",
       "  </thead>\n",
       "  <tbody>\n",
       "    <tr>\n",
       "      <th>count</th>\n",
       "      <td>25.000000</td>\n",
       "      <td>25.000000</td>\n",
       "    </tr>\n",
       "    <tr>\n",
       "      <th>mean</th>\n",
       "      <td>5.012000</td>\n",
       "      <td>51.480000</td>\n",
       "    </tr>\n",
       "    <tr>\n",
       "      <th>std</th>\n",
       "      <td>2.525094</td>\n",
       "      <td>25.286887</td>\n",
       "    </tr>\n",
       "    <tr>\n",
       "      <th>min</th>\n",
       "      <td>1.100000</td>\n",
       "      <td>17.000000</td>\n",
       "    </tr>\n",
       "    <tr>\n",
       "      <th>25%</th>\n",
       "      <td>2.700000</td>\n",
       "      <td>30.000000</td>\n",
       "    </tr>\n",
       "    <tr>\n",
       "      <th>50%</th>\n",
       "      <td>4.800000</td>\n",
       "      <td>47.000000</td>\n",
       "    </tr>\n",
       "    <tr>\n",
       "      <th>75%</th>\n",
       "      <td>7.400000</td>\n",
       "      <td>75.000000</td>\n",
       "    </tr>\n",
       "    <tr>\n",
       "      <th>max</th>\n",
       "      <td>9.200000</td>\n",
       "      <td>95.000000</td>\n",
       "    </tr>\n",
       "  </tbody>\n",
       "</table>\n",
       "</div>"
      ],
      "text/plain": [
       "           Hours     Scores\n",
       "count  25.000000  25.000000\n",
       "mean    5.012000  51.480000\n",
       "std     2.525094  25.286887\n",
       "min     1.100000  17.000000\n",
       "25%     2.700000  30.000000\n",
       "50%     4.800000  47.000000\n",
       "75%     7.400000  75.000000\n",
       "max     9.200000  95.000000"
      ]
     },
     "execution_count": 8,
     "metadata": {},
     "output_type": "execute_result"
    }
   ],
   "source": [
    "data.describe(include='all')"
   ]
  },
  {
   "cell_type": "code",
   "execution_count": 9,
   "metadata": {
    "execution": {
     "iopub.execute_input": "2020-08-12T18:55:10.853493Z",
     "iopub.status.busy": "2020-08-12T18:55:10.852328Z",
     "iopub.status.idle": "2020-08-12T18:55:10.861184Z",
     "shell.execute_reply": "2020-08-12T18:55:10.861900Z"
    },
    "papermill": {
     "duration": 0.03953,
     "end_time": "2020-08-12T18:55:10.862123",
     "exception": false,
     "start_time": "2020-08-12T18:55:10.822593",
     "status": "completed"
    },
    "tags": []
   },
   "outputs": [
    {
     "data": {
      "text/plain": [
       "Hours     0\n",
       "Scores    0\n",
       "dtype: int64"
      ]
     },
     "execution_count": 9,
     "metadata": {},
     "output_type": "execute_result"
    }
   ],
   "source": [
    "data.isnull().sum()"
   ]
  },
  {
   "cell_type": "code",
   "execution_count": 10,
   "metadata": {
    "execution": {
     "iopub.execute_input": "2020-08-12T18:55:10.915074Z",
     "iopub.status.busy": "2020-08-12T18:55:10.914133Z",
     "iopub.status.idle": "2020-08-12T18:55:10.932703Z",
     "shell.execute_reply": "2020-08-12T18:55:10.933685Z"
    },
    "papermill": {
     "duration": 0.048348,
     "end_time": "2020-08-12T18:55:10.933970",
     "exception": false,
     "start_time": "2020-08-12T18:55:10.885622",
     "status": "completed"
    },
    "tags": []
   },
   "outputs": [
    {
     "data": {
      "text/plain": [
       "Hours     23\n",
       "Scores    23\n",
       "dtype: int64"
      ]
     },
     "execution_count": 10,
     "metadata": {},
     "output_type": "execute_result"
    }
   ],
   "source": [
    "data.nunique()"
   ]
  },
  {
   "cell_type": "markdown",
   "execution_count": null,
   "metadata": {
    "papermill": {
     "duration": 0.024272,
     "end_time": "2020-08-12T18:55:10.983530",
     "exception": false,
     "start_time": "2020-08-12T18:55:10.959258",
     "status": "completed"
    },
    "tags": []
   },
   "source": [
    "##### Generating scatterplot for numeric columns in data"
   ]
  },
  {
   "cell_type": "code",
   "execution_count": 11,
   "metadata": {
    "execution": {
     "iopub.execute_input": "2020-08-12T18:55:11.038951Z",
     "iopub.status.busy": "2020-08-12T18:55:11.038111Z",
     "iopub.status.idle": "2020-08-12T18:55:11.411477Z",
     "shell.execute_reply": "2020-08-12T18:55:11.412087Z"
    },
    "papermill": {
     "duration": 0.40378,
     "end_time": "2020-08-12T18:55:11.412299",
     "exception": false,
     "start_time": "2020-08-12T18:55:11.008519",
     "status": "completed"
    },
    "tags": []
   },
   "outputs": [
    {
     "data": {
      "text/plain": [
       "<matplotlib.axes._subplots.AxesSubplot at 0x7f83021a5b10>"
      ]
     },
     "execution_count": 11,
     "metadata": {},
     "output_type": "execute_result"
    },
    {
     "data": {
      "image/png": "[encoded data removed]",
      "text/plain": [
       "<Figure size 360x288 with 1 Axes>"
      ]
     },
     "metadata": {
      "needs_background": "light"
     },
     "output_type": "display_data"
    }
   ],
   "source": [
    "data.plot.scatter(x='Hours', y='Scores', figsize = (5,4), marker = 'o',color = 'blue')"
   ]
  },
  {
   "cell_type": "code",
   "execution_count": 12,
   "metadata": {
    "execution": {
     "iopub.execute_input": "2020-08-12T18:55:11.472547Z",
     "iopub.status.busy": "2020-08-12T18:55:11.471358Z",
     "iopub.status.idle": "2020-08-12T18:55:11.476686Z",
     "shell.execute_reply": "2020-08-12T18:55:11.475892Z"
    },
    "papermill": {
     "duration": 0.04213,
     "end_time": "2020-08-12T18:55:11.476831",
     "exception": false,
     "start_time": "2020-08-12T18:55:11.434701",
     "status": "completed"
    },
    "tags": []
   },
   "outputs": [
    {
     "data": {
      "text/html": [
       "<div>\n",
       "<style scoped>\n",
       "    .dataframe tbody tr th:only-of-type {\n",
       "        vertical-align: middle;\n",
       "    }\n",
       "\n",
       "    .dataframe tbody tr th {\n",
       "        vertical-align: top;\n",
       "    }\n",
       "\n",
       "    .dataframe thead th {\n",
       "        text-align: right;\n",
       "    }\n",
       "</style>\n",
       "<table border=\"1\" class=\"dataframe\">\n",
       "  <thead>\n",
       "    <tr style=\"text-align: right;\">\n",
       "      <th></th>\n",
       "      <th>Hours</th>\n",
       "      <th>Scores</th>\n",
       "    </tr>\n",
       "  </thead>\n",
       "  <tbody>\n",
       "    <tr>\n",
       "      <th>Hours</th>\n",
       "      <td>1.000000</td>\n",
       "      <td>0.976191</td>\n",
       "    </tr>\n",
       "    <tr>\n",
       "      <th>Scores</th>\n",
       "      <td>0.976191</td>\n",
       "      <td>1.000000</td>\n",
       "    </tr>\n",
       "  </tbody>\n",
       "</table>\n",
       "</div>"
      ],
      "text/plain": [
       "           Hours    Scores\n",
       "Hours   1.000000  0.976191\n",
       "Scores  0.976191  1.000000"
      ]
     },
     "execution_count": 12,
     "metadata": {},
     "output_type": "execute_result"
    }
   ],
   "source": [
    " data.corr()"
   ]
  },
  {
   "cell_type": "markdown",
   "execution_count": null,
   "metadata": {
    "papermill": {
     "duration": 0.021946,
     "end_time": "2020-08-12T18:55:11.521367",
     "exception": false,
     "start_time": "2020-08-12T18:55:11.499421",
     "status": "completed"
    },
    "tags": []
   },
   "source": [
    "#### Training And Testing The Data"
   ]
  },
  {
   "cell_type": "code",
   "execution_count": 13,
   "metadata": {
    "execution": {
     "iopub.execute_input": "2020-08-12T18:55:11.576305Z",
     "iopub.status.busy": "2020-08-12T18:55:11.575026Z",
     "iopub.status.idle": "2020-08-12T18:55:11.579322Z",
     "shell.execute_reply": "2020-08-12T18:55:11.578429Z"
    },
    "papermill": {
     "duration": 0.035733,
     "end_time": "2020-08-12T18:55:11.579476",
     "exception": false,
     "start_time": "2020-08-12T18:55:11.543743",
     "status": "completed"
    },
    "tags": []
   },
   "outputs": [],
   "source": [
    "TargetVariable = ['Scores']\n",
    "Predictor = ['Hours']\n",
    "X = data[Predictor].values\n",
    "y = data[TargetVariable].values"
   ]
  },
  {
   "cell_type": "code",
   "execution_count": 14,
   "metadata": {
    "execution": {
     "iopub.execute_input": "2020-08-12T18:55:11.637537Z",
     "iopub.status.busy": "2020-08-12T18:55:11.636492Z",
     "iopub.status.idle": "2020-08-12T18:55:13.055132Z",
     "shell.execute_reply": "2020-08-12T18:55:13.056006Z"
    },
    "papermill": {
     "duration": 1.451307,
     "end_time": "2020-08-12T18:55:13.056243",
     "exception": false,
     "start_time": "2020-08-12T18:55:11.604936",
     "status": "completed"
    },
    "tags": []
   },
   "outputs": [
    {
     "name": "stdout",
     "output_type": "stream",
     "text": [
      "(20, 1)\n",
      "(20, 1)\n",
      "(5, 1)\n",
      "(5, 1)\n"
     ]
    }
   ],
   "source": [
    "from sklearn.model_selection import train_test_split\n",
    "X_train, X_test, y_train, y_test = train_test_split(X, y, test_size=0.2, shuffle=True, random_state=0)\n",
    "\n",
    "print(X_train.shape)\n",
    "print(y_train.shape)\n",
    "print(X_test.shape)\n",
    "print(y_test.shape)"
   ]
  },
  {
   "cell_type": "markdown",
   "execution_count": null,
   "metadata": {
    "papermill": {
     "duration": 0.022438,
     "end_time": "2020-08-12T18:55:13.103765",
     "exception": false,
     "start_time": "2020-08-12T18:55:13.081327",
     "status": "completed"
    },
    "tags": []
   },
   "source": [
    "### Machine Learning Aalgorithm "
   ]
  },
  {
   "cell_type": "markdown",
   "execution_count": null,
   "metadata": {
    "papermill": {
     "duration": 0.022016,
     "end_time": "2020-08-12T18:55:13.149194",
     "exception": false,
     "start_time": "2020-08-12T18:55:13.127178",
     "status": "completed"
    },
    "tags": []
   },
   "source": [
    "#### Linear Regression"
   ]
  },
  {
   "cell_type": "code",
   "execution_count": 15,
   "metadata": {
    "execution": {
     "iopub.execute_input": "2020-08-12T18:55:13.200564Z",
     "iopub.status.busy": "2020-08-12T18:55:13.199669Z",
     "iopub.status.idle": "2020-08-12T18:55:13.324171Z",
     "shell.execute_reply": "2020-08-12T18:55:13.323297Z"
    },
    "papermill": {
     "duration": 0.152822,
     "end_time": "2020-08-12T18:55:13.324314",
     "exception": false,
     "start_time": "2020-08-12T18:55:13.171492",
     "status": "completed"
    },
    "tags": []
   },
   "outputs": [],
   "source": [
    "from sklearn.linear_model import LinearRegression\n",
    "from sklearn.metrics import r2_score, accuracy_score\n",
    "RegModel = LinearRegression()"
   ]
  },
  {
   "cell_type": "code",
   "execution_count": 16,
   "metadata": {
    "execution": {
     "iopub.execute_input": "2020-08-12T18:55:13.423475Z",
     "iopub.status.busy": "2020-08-12T18:55:13.393196Z",
     "iopub.status.idle": "2020-08-12T18:55:13.431157Z",
     "shell.execute_reply": "2020-08-12T18:55:13.429656Z"
    },
    "papermill": {
     "duration": 0.084378,
     "end_time": "2020-08-12T18:55:13.431389",
     "exception": false,
     "start_time": "2020-08-12T18:55:13.347011",
     "status": "completed"
    },
    "tags": []
   },
   "outputs": [
    {
     "name": "stdout",
     "output_type": "stream",
     "text": [
      "The value of slope is:  [[9.91065648]]\n",
      "The value of Intercept is:  [2.01816004]\n",
      "r-squared for training data 0.949084259502248\n",
      "r-squared for testing data 0.9546785947197246\n",
      "Accuracy(MAPE): 87.43110838295433\n"
     ]
    }
   ],
   "source": [
    "LREG=RegModel.fit(X_train,y_train)\n",
    "train_prediction=LREG.predict(X_train)\n",
    "\n",
    "print('The value of slope is: ',LREG.coef_)\n",
    "print('The value of Intercept is: ',LREG.intercept_)\n",
    "\n",
    "print('r-squared for training data',r2_score(train_prediction,y_train))\n",
    "test_prediction = LREG.predict(X_test)\n",
    "print('r-squared for testing data',r2_score(test_prediction,y_test))\n",
    "print('Accuracy(MAPE):', 100-(np.mean(np.abs((y_test-test_prediction) / y_test)) * 100))"
   ]
  },
  {
   "cell_type": "markdown",
   "execution_count": null,
   "metadata": {
    "papermill": {
     "duration": 0.02231,
     "end_time": "2020-08-12T18:55:13.477345",
     "exception": false,
     "start_time": "2020-08-12T18:55:13.455035",
     "status": "completed"
    },
    "tags": []
   },
   "source": [
    "#### Equation of Simple Linear Regression Model becomes"
   ]
  },
  {
   "cell_type": "raw",
   "execution_count": null,
   "metadata": {
    "papermill": {
     "duration": 0.02251,
     "end_time": "2020-08-12T18:55:13.522770",
     "exception": false,
     "start_time": "2020-08-12T18:55:13.500260",
     "status": "completed"
    },
    "tags": []
   },
   "source": [
    "Scores = 9.775 * Hours + 2.483"
   ]
  },
  {
   "cell_type": "code",
   "execution_count": 17,
   "metadata": {
    "execution": {
     "iopub.execute_input": "2020-08-12T18:55:13.576641Z",
     "iopub.status.busy": "2020-08-12T18:55:13.575779Z",
     "iopub.status.idle": "2020-08-12T18:55:13.579387Z",
     "shell.execute_reply": "2020-08-12T18:55:13.578583Z"
    },
    "papermill": {
     "duration": 0.034148,
     "end_time": "2020-08-12T18:55:13.579526",
     "exception": false,
     "start_time": "2020-08-12T18:55:13.545378",
     "status": "completed"
    },
    "tags": []
   },
   "outputs": [],
   "source": [
    "import copy\n",
    "data1 = copy.deepcopy(data)\n",
    "predicted_scores = LREG.predict(X)\n",
    "data1['Predicted_Scores'] = predicted_scores"
   ]
  },
  {
   "cell_type": "code",
   "execution_count": 18,
   "metadata": {
    "execution": {
     "iopub.execute_input": "2020-08-12T18:55:13.645506Z",
     "iopub.status.busy": "2020-08-12T18:55:13.641511Z",
     "iopub.status.idle": "2020-08-12T18:55:13.837372Z",
     "shell.execute_reply": "2020-08-12T18:55:13.836725Z"
    },
    "papermill": {
     "duration": 0.235128,
     "end_time": "2020-08-12T18:55:13.837519",
     "exception": false,
     "start_time": "2020-08-12T18:55:13.602391",
     "status": "completed"
    },
    "tags": []
   },
   "outputs": [
    {
     "data": {
      "image/png": "[encoded data removed]",
      "text/plain": [
       "<Figure size 432x288 with 1 Axes>"
      ]
     },
     "metadata": {
      "needs_background": "light"
     },
     "output_type": "display_data"
    }
   ],
   "source": [
    "import matplotlib.pyplot as plt\n",
    "plt.scatter(x = data['Hours'],y = data['Scores'])\n",
    "plt.plot(data1['Hours'], data1['Predicted_Scores'], color = 'green')\n",
    "\n",
    "plt.xlabel('Hours')\n",
    "plt.ylabel('Scores')\n",
    "plt.show()"
   ]
  },
  {
   "cell_type": "markdown",
   "execution_count": null,
   "metadata": {
    "papermill": {
     "duration": 0.022761,
     "end_time": "2020-08-12T18:55:13.883748",
     "exception": false,
     "start_time": "2020-08-12T18:55:13.860987",
     "status": "completed"
    },
    "tags": []
   },
   "source": [
    "### KNN"
   ]
  },
  {
   "cell_type": "code",
   "execution_count": 19,
   "metadata": {
    "execution": {
     "iopub.execute_input": "2020-08-12T18:55:13.938626Z",
     "iopub.status.busy": "2020-08-12T18:55:13.937643Z",
     "iopub.status.idle": "2020-08-12T18:55:14.040274Z",
     "shell.execute_reply": "2020-08-12T18:55:14.039082Z"
    },
    "papermill": {
     "duration": 0.133903,
     "end_time": "2020-08-12T18:55:14.040473",
     "exception": false,
     "start_time": "2020-08-12T18:55:13.906570",
     "status": "completed"
    },
    "tags": []
   },
   "outputs": [
    {
     "name": "stdout",
     "output_type": "stream",
     "text": [
      "R2 Value: 0.886830603020788\n",
      "Accuracy 77.69443145810607\n"
     ]
    }
   ],
   "source": [
    "from sklearn.neighbors import KNeighborsRegressor\n",
    "Model = KNeighborsRegressor(n_neighbors=10)\n",
    "\n",
    "KNN=Model.fit(X_train,y_train)\n",
    "prediction=KNN.predict(X_test)\n",
    "\n",
    "print('R2 Value:',r2_score(y_train, KNN.predict(X_train))) # Measuring goodness of fit in training data\n",
    "\n",
    "print('Accuracy',100- (np.mean(np.abs((y_test - prediction) / y_test)) * 100)) # Measuring Accuracy in testing data"
   ]
  },
  {
   "cell_type": "markdown",
   "execution_count": null,
   "metadata": {
    "papermill": {
     "duration": 0.025061,
     "end_time": "2020-08-12T18:55:14.092260",
     "exception": false,
     "start_time": "2020-08-12T18:55:14.067199",
     "status": "completed"
    },
    "tags": []
   },
   "source": [
    "### Standardization"
   ]
  },
  {
   "cell_type": "code",
   "execution_count": 20,
   "metadata": {
    "execution": {
     "iopub.execute_input": "2020-08-12T18:55:14.153243Z",
     "iopub.status.busy": "2020-08-12T18:55:14.151939Z",
     "iopub.status.idle": "2020-08-12T18:55:14.160298Z",
     "shell.execute_reply": "2020-08-12T18:55:14.159482Z"
    },
    "papermill": {
     "duration": 0.042296,
     "end_time": "2020-08-12T18:55:14.160456",
     "exception": false,
     "start_time": "2020-08-12T18:55:14.118160",
     "status": "completed"
    },
    "tags": []
   },
   "outputs": [],
   "source": [
    "from sklearn.preprocessing import StandardScaler\n",
    "PredictorScaler=StandardScaler()\n",
    "TargetVarScaler=StandardScaler()\n",
    "\n",
    "# Storing the fit object for later reference\n",
    "PredictorScalerFit=PredictorScaler.fit(X)\n",
    "TargetVarScalerFit=TargetVarScaler.fit(y)\n",
    "\n",
    "# Generating the standardized values of X and y\n",
    "X_standard=PredictorScalerFit.transform(X)\n",
    "y_standard=TargetVarScalerFit.transform(y)\n",
    "\n",
    "\n",
    "# Split the data into training and testing set\n",
    "from sklearn.model_selection import train_test_split\n",
    "X_train, X_test, y_train, y_test = train_test_split(X_standard, y_standard, test_size=0.2, random_state=0)\n"
   ]
  },
  {
   "cell_type": "markdown",
   "execution_count": null,
   "metadata": {
    "papermill": {
     "duration": 0.023016,
     "end_time": "2020-08-12T18:55:14.210335",
     "exception": false,
     "start_time": "2020-08-12T18:55:14.187319",
     "status": "completed"
    },
    "tags": []
   },
   "source": [
    "#### Linear Regression (Standardized)"
   ]
  },
  {
   "cell_type": "code",
   "execution_count": 21,
   "metadata": {
    "execution": {
     "iopub.execute_input": "2020-08-12T18:55:14.275598Z",
     "iopub.status.busy": "2020-08-12T18:55:14.274390Z",
     "iopub.status.idle": "2020-08-12T18:55:14.278590Z",
     "shell.execute_reply": "2020-08-12T18:55:14.279486Z"
    },
    "papermill": {
     "duration": 0.044682,
     "end_time": "2020-08-12T18:55:14.279736",
     "exception": false,
     "start_time": "2020-08-12T18:55:14.235054",
     "status": "completed"
    },
    "tags": []
   },
   "outputs": [
    {
     "name": "stdout",
     "output_type": "stream",
     "text": [
      "The value of slope is:  [[0.98965679]]\n",
      "The value of Intercept is:  [0.0084909]\n",
      "r-squared for training data 0.9490842595022481\n",
      "r-squared for testing data 0.9546785947197246\n",
      "Accuracy(MAPE): 79.41022501083505\n"
     ]
    }
   ],
   "source": [
    "LREG=RegModel.fit(X_train,y_train)\n",
    "train_prediction=LREG.predict(X_train)\n",
    "\n",
    "print('The value of slope is: ',LREG.coef_)\n",
    "print('The value of Intercept is: ',LREG.intercept_)\n",
    "\n",
    "print('r-squared for training data',r2_score(train_prediction,y_train))\n",
    "test_prediction = LREG.predict(X_test)\n",
    "print('r-squared for testing data',r2_score(test_prediction,y_test))\n",
    "print('Accuracy(MAPE):', 100-(np.mean(np.abs((y_test-test_prediction) / y_test)) * 100))"
   ]
  },
  {
   "cell_type": "markdown",
   "execution_count": null,
   "metadata": {
    "papermill": {
     "duration": 0.025268,
     "end_time": "2020-08-12T18:55:14.329150",
     "exception": false,
     "start_time": "2020-08-12T18:55:14.303882",
     "status": "completed"
    },
    "tags": []
   },
   "source": [
    "#### KNN (Standardized)"
   ]
  },
  {
   "cell_type": "code",
   "execution_count": 22,
   "metadata": {
    "execution": {
     "iopub.execute_input": "2020-08-12T18:55:14.390223Z",
     "iopub.status.busy": "2020-08-12T18:55:14.388142Z",
     "iopub.status.idle": "2020-08-12T18:55:14.397583Z",
     "shell.execute_reply": "2020-08-12T18:55:14.396786Z"
    },
    "papermill": {
     "duration": 0.042947,
     "end_time": "2020-08-12T18:55:14.397739",
     "exception": false,
     "start_time": "2020-08-12T18:55:14.354792",
     "status": "completed"
    },
    "tags": []
   },
   "outputs": [
    {
     "name": "stdout",
     "output_type": "stream",
     "text": [
      "R2 Value: 0.8868306030207881\n",
      "Accuracy 73.94407192805946\n"
     ]
    }
   ],
   "source": [
    "from sklearn.neighbors import KNeighborsRegressor\n",
    "Model = KNeighborsRegressor(n_neighbors=10)\n",
    "\n",
    "KNN=Model.fit(X_train,y_train)\n",
    "prediction=KNN.predict(X_test)\n",
    "\n",
    "print('R2 Value:',r2_score(y_train, KNN.predict(X_train))) # Measuring goodness of fit in training data\n",
    "\n",
    "print('Accuracy',100- (np.mean(np.abs((y_test - prediction) / y_test)) * 100)) # Measuring Accuracy in testing data"
   ]
  },
  {
   "cell_type": "markdown",
   "execution_count": null,
   "metadata": {
    "papermill": {
     "duration": 0.023076,
     "end_time": "2020-08-12T18:55:14.444667",
     "exception": false,
     "start_time": "2020-08-12T18:55:14.421591",
     "status": "completed"
    },
    "tags": []
   },
   "source": [
    "### Normalization"
   ]
  },
  {
   "cell_type": "code",
   "execution_count": 23,
   "metadata": {
    "execution": {
     "iopub.execute_input": "2020-08-12T18:55:14.513950Z",
     "iopub.status.busy": "2020-08-12T18:55:14.506277Z",
     "iopub.status.idle": "2020-08-12T18:55:14.522966Z",
     "shell.execute_reply": "2020-08-12T18:55:14.521954Z"
    },
    "papermill": {
     "duration": 0.054922,
     "end_time": "2020-08-12T18:55:14.523163",
     "exception": false,
     "start_time": "2020-08-12T18:55:14.468241",
     "status": "completed"
    },
    "tags": []
   },
   "outputs": [
    {
     "name": "stdout",
     "output_type": "stream",
     "text": [
      "Scaled Train Data: \n",
      "\n",
      "\n",
      "[[0.33333333]\n",
      " [0.09876543]\n",
      " [0.82716049]\n",
      " [0.71604938]\n",
      " [0.        ]\n",
      " [0.49382716]\n",
      " [0.81481481]\n",
      " [0.27160494]\n",
      " [0.88888889]\n",
      " [1.        ]\n",
      " [0.61728395]\n",
      " [0.2962963 ]\n",
      " [0.19753086]\n",
      " [0.54320988]\n",
      " [0.19753086]\n",
      " [0.91358025]\n",
      " [0.17283951]\n",
      " [0.45679012]\n",
      " [0.96296296]\n",
      " [0.41975309]]\n",
      "\n",
      "\n",
      "Scaled Test Data: \n",
      "\n",
      "\n",
      "[[0.04938272]\n",
      " [0.25925926]\n",
      " [0.77777778]\n",
      " [0.17283951]\n",
      " [0.59259259]]\n"
     ]
    }
   ],
   "source": [
    "from sklearn.preprocessing import MinMaxScaler\n",
    "\n",
    "X = data[['Hours']]\n",
    "y = data['Scores']\n",
    "\n",
    "X_train, X_test, y_train, y_test = train_test_split(X,y,test_size=0.2,random_state=0)\n",
    "\n",
    "norm = MinMaxScaler().fit(X_train)\n",
    "\n",
    "X_train_norm = norm.transform(X_train)\n",
    "print(\"Scaled Train Data: \\n\\n\")\n",
    "print(X_train_norm)\n",
    "\n",
    "X_test_norm = norm.transform(X_test)\n",
    "print(\"\\n\\nScaled Test Data: \\n\\n\")\n",
    "print(X_test_norm)"
   ]
  },
  {
   "cell_type": "markdown",
   "execution_count": null,
   "metadata": {
    "papermill": {
     "duration": 0.026382,
     "end_time": "2020-08-12T18:55:14.576772",
     "exception": false,
     "start_time": "2020-08-12T18:55:14.550390",
     "status": "completed"
    },
    "tags": []
   },
   "source": [
    "#### Linear Regression (Standardized)"
   ]
  },
  {
   "cell_type": "code",
   "execution_count": 24,
   "metadata": {
    "execution": {
     "iopub.execute_input": "2020-08-12T18:55:14.650300Z",
     "iopub.status.busy": "2020-08-12T18:55:14.649245Z",
     "iopub.status.idle": "2020-08-12T18:55:14.678939Z",
     "shell.execute_reply": "2020-08-12T18:55:14.678204Z"
    },
    "papermill": {
     "duration": 0.075746,
     "end_time": "2020-08-12T18:55:14.679095",
     "exception": false,
     "start_time": "2020-08-12T18:55:14.603349",
     "status": "completed"
    },
    "tags": []
   },
   "outputs": [
    {
     "name": "stdout",
     "output_type": "stream",
     "text": [
      "r-squared for training data 0.949084259502248\n",
      "r-squared for testing data 0.9546785947197246\n",
      "Accuracy(MAPE): 87.43110838295433\n"
     ]
    }
   ],
   "source": [
    "LREG=RegModel.fit(X_train,y_train)\n",
    "train_prediction=LREG.predict(X_train)\n",
    "\n",
    "\n",
    "print('r-squared for training data',r2_score(train_prediction,y_train))\n",
    "test_prediction = LREG.predict(X_test)\n",
    "print('r-squared for testing data',r2_score(test_prediction,y_test))\n",
    "print('Accuracy(MAPE):', 100-(np.mean(np.abs((y_test-test_prediction) / y_test)) * 100))"
   ]
  },
  {
   "cell_type": "markdown",
   "execution_count": null,
   "metadata": {
    "papermill": {
     "duration": 0.023658,
     "end_time": "2020-08-12T18:55:14.727219",
     "exception": false,
     "start_time": "2020-08-12T18:55:14.703561",
     "status": "completed"
    },
    "tags": []
   },
   "source": [
    "#### KNN (Standardized)"
   ]
  },
  {
   "cell_type": "code",
   "execution_count": 25,
   "metadata": {
    "execution": {
     "iopub.execute_input": "2020-08-12T18:55:14.789699Z",
     "iopub.status.busy": "2020-08-12T18:55:14.788382Z",
     "iopub.status.idle": "2020-08-12T18:55:14.799607Z",
     "shell.execute_reply": "2020-08-12T18:55:14.798919Z"
    },
    "papermill": {
     "duration": 0.048928,
     "end_time": "2020-08-12T18:55:14.799747",
     "exception": false,
     "start_time": "2020-08-12T18:55:14.750819",
     "status": "completed"
    },
    "tags": []
   },
   "outputs": [
    {
     "name": "stdout",
     "output_type": "stream",
     "text": [
      "R2 Value: 0.886830603020788\n",
      "Accuracy 77.69443145810607\n"
     ]
    }
   ],
   "source": [
    "from sklearn.neighbors import KNeighborsRegressor\n",
    "RegModel1 = KNeighborsRegressor(n_neighbors=10)\n",
    "\n",
    "KNN=RegModel1.fit(X_train,y_train)\n",
    "prediction=KNN.predict(X_test)\n",
    "\n",
    "print('R2 Value:',r2_score(y_train, KNN.predict(X_train))) # Measuring goodness of fit in training data\n",
    "\n",
    "print('Accuracy',100- (np.mean(np.abs((y_test - prediction) / y_test)) * 100)) # Measuring Accuracy in testing data"
   ]
  },
  {
   "cell_type": "code",
   "execution_count": null,
   "metadata": {
    "papermill": {
     "duration": 0.023801,
     "end_time": "2020-08-12T18:55:14.847894",
     "exception": false,
     "start_time": "2020-08-12T18:55:14.824093",
     "status": "completed"
    },
    "tags": []
   },
   "outputs": [],
   "source": []
  }
 ],
 "metadata": {
  "kernelspec": {
   "display_name": "Python 3",
   "language": "python",
   "name": "python3"
  },
  "language_info": {
   "codemirror_mode": {
    "name": "ipython",
    "version": 3
   },
   "file_extension": ".py",
   "mimetype": "text/x-python",
   "name": "python",
   "nbconvert_exporter": "python",
   "pygments_lexer": "ipython3",
   "version": "3.7.6"
  },
  "papermill": {
   "duration": 11.610898,
   "end_time": "2020-08-12T18:55:14.981318",
   "environment_variables": {},
   "exception": null,
   "input_path": "__notebook__.ipynb",
   "output_path": "__notebook__.ipynb",
   "parameters": {},
   "start_time": "2020-08-12T18:55:03.370420",
   "version": "2.1.0"
  }
 },
 "nbformat": 4,
 "nbformat_minor": 4
}
