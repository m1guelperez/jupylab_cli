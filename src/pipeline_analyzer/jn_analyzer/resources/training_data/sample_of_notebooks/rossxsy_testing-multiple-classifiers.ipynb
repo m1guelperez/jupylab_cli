{
 "cells": [
  {
   "cell_type": "markdown",
   "metadata": {
    "_cell_guid": "b9675f4a-5eca-0058-da49-02edfd690a25"
   },
   "source": [
    "# Testing Multiple Classifiers"
   ]
  },
  {
   "cell_type": "markdown",
   "metadata": {
    "_cell_guid": "f69b524f-1abb-fa25-29c6-94f7b68e6403"
   },
   "source": [
    "The objective of this study is to test performance of multiple classifiers and the ensembled estimation. "
   ]
  },
  {
   "cell_type": "code",
   "execution_count": 1,
   "metadata": {
    "_cell_guid": "a85cd02d-dcdf-823a-6bd6-3c6b748569ec"
   },
   "outputs": [],
   "source": [
    "import numpy as np\n",
    "import scipy as sp\n",
    "import pandas as pd\n",
    "import seaborn as sns\n",
    "import matplotlib.pyplot as plt\n",
    "\n",
    "def warn(*args, **kwargs): pass\n",
    "import warnings\n",
    "warnings.warn = warn\n",
    "\n",
    "%matplotlib inline\n",
    "\n",
    "# from sklearn.preprocessing import LabelEncoder\n",
    "# from sklearn.cross_validation import StratifiedShuffleSplit\n",
    "\n",
    "train = pd.read_csv('../input/train.csv').drop('id',axis=1)\n",
    "test = pd.read_csv('../input/test.csv')\n",
    "test_ids = test['id']\n",
    "test.drop('id',axis=1,inplace=True)"
   ]
  },
  {
   "cell_type": "markdown",
   "metadata": {
    "_cell_guid": "c94047a5-e38e-89ae-2710-954ad3493df2"
   },
   "source": [
    "There is no null value in train and test data."
   ]
  },
  {
   "cell_type": "code",
   "execution_count": 2,
   "metadata": {
    "_cell_guid": "eaccc1a2-9d90-c9ae-ebc2-058fcff4576a"
   },
   "outputs": [
    {
     "name": "stdout",
     "output_type": "stream",
     "text": [
      "False\n",
      "False\n"
     ]
    }
   ],
   "source": [
    "print(train.isnull().any().any())\n",
    "print(test.isnull().any().any())"
   ]
  },
  {
   "cell_type": "markdown",
   "metadata": {
    "_cell_guid": "5d9a73a9-f78d-43ad-646b-4ddf54a9d479"
   },
   "source": [
    "# Label Encoding the Label"
   ]
  },
  {
   "cell_type": "code",
   "execution_count": 3,
   "metadata": {
    "_cell_guid": "9b7d0afd-51b1-ba74-f183-5ca3ab4f57a0"
   },
   "outputs": [],
   "source": [
    "from sklearn.preprocessing import LabelEncoder\n",
    "le = LabelEncoder()"
   ]
  },
  {
   "cell_type": "code",
   "execution_count": 4,
   "metadata": {
    "_cell_guid": "328b107b-d458-70d8-e92f-953a0f51f86e"
   },
   "outputs": [],
   "source": [
    "species = train['species']\n",
    "train.drop('species',axis=1,inplace=True)\n",
    "y_train = le.fit_transform(species)"
   ]
  },
  {
   "cell_type": "markdown",
   "metadata": {
    "_cell_guid": "77d23e9e-579c-166d-7f25-d49d23a5ca2d"
   },
   "source": [
    "# Normalize the Sparse Features"
   ]
  },
  {
   "cell_type": "code",
   "execution_count": 5,
   "metadata": {
    "_cell_guid": "11d1fa86-6505-389e-a08c-f8636236d28e"
   },
   "outputs": [],
   "source": [
    "from sklearn.preprocessing import MaxAbsScaler"
   ]
  },
  {
   "cell_type": "code",
   "execution_count": 6,
   "metadata": {
    "_cell_guid": "e2022927-9088-f936-0e50-3a087cf86cc9"
   },
   "outputs": [
    {
     "name": "stdout",
     "output_type": "stream",
     "text": [
      "(1584, 192)\n"
     ]
    },
    {
     "data": {
      "text/plain": [
       "array([[ 0.08888282,  0.11428711,  0.13953682, ...,  0.01298739,\n",
       "         0.        ,  0.16994177],\n",
       "       [ 0.06666212,  0.        ,  0.18604513, ...,  0.00259854,\n",
       "         0.44943277,  0.1503313 ],\n",
       "       [ 0.06666212,  0.04762044,  0.11627672, ...,  0.        ,\n",
       "         0.23595738,  0.01961047],\n",
       "       ..., \n",
       "       [ 0.19999772,  0.14285645,  0.09302256, ...,  0.        ,\n",
       "         0.49438525,  0.0457533 ],\n",
       "       [ 0.15555631,  0.04762044,  0.36046318, ...,  0.        ,\n",
       "         0.13483443,  0.12418847],\n",
       "       [ 0.        ,  0.57143554,  0.        , ...,  0.04155806,\n",
       "         0.        ,  0.11764942]])"
      ]
     },
     "execution_count": 6,
     "metadata": {},
     "output_type": "execute_result"
    }
   ],
   "source": [
    "x_data = np.vstack([train,test])\n",
    "mas = MaxAbsScaler()\n",
    "n_x_data = mas.fit_transform(x_data)\n",
    "print(n_x_data.shape)\n",
    "n_x_data"
   ]
  },
  {
   "cell_type": "markdown",
   "metadata": {
    "_cell_guid": "3820f743-4d09-c23d-db00-2c4902d0f35f"
   },
   "source": [
    "# Split the dataset - raw features"
   ]
  },
  {
   "cell_type": "code",
   "execution_count": 7,
   "metadata": {
    "_cell_guid": "965a4901-e3cb-e351-6bed-1e6705add2ca"
   },
   "outputs": [],
   "source": [
    "from sklearn.model_selection import StratifiedShuffleSplit\n",
    "\n",
    "n_x_test = n_x_data[len(species):,:]\n",
    "x_train = n_x_data[0:len(species),:]\n",
    "\n",
    "# val_size = 0.1\n",
    "# seed = 0\n",
    "# n_x_train, n_x_val, y_train, y_val = cross_validation.train_test_split(n_x_train, y_train, test_size=val_size, \n",
    "#                                                                        random_state=seed, stratify=y_train)\n",
    "\n",
    "sss = StratifiedShuffleSplit(n_splits=2, test_size=0.1, random_state=0)\n",
    "\n",
    "for train_index, test_index in sss.split(x_train,y_train):\n",
    "    n_x_train, n_x_val = x_train[train_index], x_train[test_index]\n",
    "    n_y_train, n_y_val = y_train[train_index], y_train[test_index]"
   ]
  },
  {
   "cell_type": "code",
   "execution_count": 8,
   "metadata": {
    "_cell_guid": "08b8ea46-1d65-61c4-0bb9-47e209cfd957"
   },
   "outputs": [
    {
     "name": "stdout",
     "output_type": "stream",
     "text": [
      "(891, 192)\n",
      "(891,)\n",
      "(99, 192)\n",
      "(99,)\n",
      "(594, 192)\n"
     ]
    }
   ],
   "source": [
    "print(n_x_train.shape)\n",
    "print(n_y_train.shape)\n",
    "print(n_x_val.shape)\n",
    "print(n_y_val.shape)\n",
    "print(n_x_test.shape)"
   ]
  },
  {
   "cell_type": "code",
   "execution_count": 9,
   "metadata": {
    "_cell_guid": "2387ab67-b569-1527-9e4b-8055578e0d9d"
   },
   "outputs": [
    {
     "data": {
      "text/plain": [
       "False"
      ]
     },
     "execution_count": 9,
     "metadata": {},
     "output_type": "execute_result"
    }
   ],
   "source": [
    "np.isnan(y_train).any()"
   ]
  },
  {
   "cell_type": "markdown",
   "metadata": {
    "_cell_guid": "574122b8-64b3-747c-1528-3c01d66b734c"
   },
   "source": [
    "# Setting up models and grid search"
   ]
  },
  {
   "cell_type": "code",
   "execution_count": 10,
   "metadata": {
    "_cell_guid": "b59d7682-9a4d-c924-b196-122eee9feb2d"
   },
   "outputs": [],
   "source": [
    "from sklearn.ensemble import AdaBoostClassifier\n",
    "from sklearn.ensemble import GradientBoostingClassifier\n",
    "from sklearn.ensemble import RandomForestClassifier\n",
    "from sklearn.neighbors import KNeighborsClassifier\n",
    "from sklearn.svm import SVC\n",
    "from sklearn.linear_model import LogisticRegression\n",
    "from sklearn.grid_search import GridSearchCV\n",
    "from sklearn.metrics import accuracy_score, log_loss"
   ]
  },
  {
   "cell_type": "code",
   "execution_count": 11,
   "metadata": {
    "_cell_guid": "733589a3-ac8b-018c-7676-67ab79ac7281"
   },
   "outputs": [],
   "source": [
    "seed=1\n",
    "models = [\n",
    "            'ADB',\n",
    "            'GBC',\n",
    "            'RFC',\n",
    "            'KNC',\n",
    "            'SVC',\n",
    "            'logisticRegression'\n",
    "         ]\n",
    "clfs = [\n",
    "        AdaBoostClassifier(random_state=seed),\n",
    "        GradientBoostingClassifier(random_state=seed),\n",
    "        RandomForestClassifier(random_state=seed,n_jobs=-1),\n",
    "        KNeighborsClassifier(n_jobs=-1),\n",
    "        SVC(random_state=seed,probability=True),\n",
    "        LogisticRegression(solver='newton-cg', multi_class='multinomial')\n",
    "        ]"
   ]
  },
  {
   "cell_type": "code",
   "execution_count": 12,
   "metadata": {
    "_cell_guid": "2df76f81-1527-1e44-5a64-49b9e519ea15"
   },
   "outputs": [],
   "source": [
    "params = {\n",
    "            models[0]:{'learning_rate':[0.01], 'n_estimators':[150]},\n",
    "            models[1]:{'learning_rate':[0.01],'n_estimators':[100], 'max_depth':[3],\n",
    "                       'min_samples_split':[2],'min_samples_leaf': [2]},\n",
    "            models[2]:{'n_estimators':[100], 'criterion':['gini'],'min_samples_split':[2],\n",
    "                      'min_samples_leaf': [4]},\n",
    "            models[3]:{'n_neighbors':[5], 'weights':['distance'],'leaf_size':[15]},\n",
    "            models[4]: {'C':[100], 'tol': [0.005],\n",
    "                       'kernel':['sigmoid']},\n",
    "            models[5]: {'C':[2000], 'tol': [0.0001]}\n",
    "         }"
   ]
  },
  {
   "cell_type": "code",
   "execution_count": 13,
   "metadata": {
    "_cell_guid": "d4d43321-074e-477d-c7e4-637f8654a473"
   },
   "outputs": [],
   "source": [
    "y_test = 0\n",
    "test_scores = []"
   ]
  },
  {
   "cell_type": "code",
   "execution_count": 14,
   "metadata": {
    "_cell_guid": "c36656b8-8feb-0d61-a70e-e64571b404f5"
   },
   "outputs": [
    {
     "name": "stdout",
     "output_type": "stream",
     "text": [
      "ADB\n",
      "best params: {'n_estimators': 150, 'learning_rate': 0.01}\n",
      "best scores: -2.271160197186102\n",
      "Accuracy: 63.6364%\n",
      "GBC\n",
      "best params: {'n_estimators': 100, 'max_depth': 3, 'min_samples_split': 2, 'learning_rate': 0.01, 'min_samples_leaf': 2}\n",
      "best scores: -2.2416002434828592\n",
      "Accuracy: 67.6768%\n",
      "RFC\n",
      "best params: {'min_samples_split': 2, 'criterion': 'gini', 'min_samples_leaf': 4, 'n_estimators': 100}\n",
      "best scores: -1.0429103612341104\n",
      "Accuracy: 98.9899%\n",
      "KNC\n",
      "best params: {'leaf_size': 15, 'weights': 'distance', 'n_neighbors': 5}\n",
      "best scores: -0.173115044295944\n",
      "Accuracy: 97.9798%\n",
      "SVC\n",
      "best params: {'C': 100, 'tol': 0.005, 'kernel': 'sigmoid'}\n",
      "best scores: -2.409326500304996\n",
      "Accuracy: 98.9899%\n",
      "logisticRegression\n",
      "best params: {'C': 2000, 'tol': 0.0001}\n",
      "best scores: -0.03842124714330611\n",
      "Accuracy: 98.9899%\n"
     ]
    }
   ],
   "source": [
    "for name, estimator in zip(models,clfs):\n",
    "    print(name)\n",
    "    clf = GridSearchCV(estimator, params[name], scoring='log_loss', refit='True', n_jobs=-1, cv=5)\n",
    "    clf.fit(n_x_train, n_y_train)\n",
    "\n",
    "    print(\"best params: \" + str(clf.best_params_))\n",
    "    print(\"best scores: \" + str(clf.best_score_))\n",
    "    estimates = clf.predict_proba(n_x_test)\n",
    "    y_test+=estimates\n",
    "    acc = accuracy_score(n_y_val, clf.predict(n_x_val))\n",
    "    print(\"Accuracy: {:.4%}\".format(acc))\n",
    "    \n",
    "    test_scores.append((acc,clf.best_score_))\n",
    "    \n",
    "    submission = pd.DataFrame(estimates, index=test_ids, columns=le.classes_)\n",
    "    submission.to_csv('./'+name+'.csv')"
   ]
  },
  {
   "cell_type": "code",
   "execution_count": 15,
   "metadata": {
    "_cell_guid": "8f38a656-c1dd-3b85-eeb2-deef87619bbe"
   },
   "outputs": [],
   "source": [
    "y_test = y_test/len(models)\n",
    "submission = pd.DataFrame(y_test, index=test_ids, columns=le.classes_)\n",
    "submission.to_csv('./avgEnsembles.csv')"
   ]
  }
 ],
 "metadata": {
  "_change_revision": 101,
  "_is_fork": false,
  "kernelspec": {
   "display_name": "Python 3",
   "language": "python",
   "name": "python3"
  },
  "language_info": {
   "codemirror_mode": {
    "name": "ipython",
    "version": 3
   },
   "file_extension": ".py",
   "mimetype": "text/x-python",
   "name": "python",
   "nbconvert_exporter": "python",
   "pygments_lexer": "ipython3",
   "version": "3.5.2"
  }
 },
 "nbformat": 4,
 "nbformat_minor": 0
}
