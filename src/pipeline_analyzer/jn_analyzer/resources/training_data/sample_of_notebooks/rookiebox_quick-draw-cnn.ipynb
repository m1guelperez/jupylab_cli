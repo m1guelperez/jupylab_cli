{
 "cells": [
  {
   "cell_type": "markdown",
   "metadata": {},
   "source": [
    "\n",
    "**Quick Draw** 게임을 해보니 제한 시간 안에 그림을 그리면 AI가 \"이건가요?\" \"저건가요?\" 말하다가 \"아 알겠어요 이건 만리장성입니다.\" 이런 게임이다. 사실 엄청나게 놀랬다. 완성된 그림을 주는 게 아니라 한 획, 한 획 그리는 와중에 정답을 말하는 AI의 성능이 대단하다고 생각했다. class가 340개라는 한정이 있지만 모든 사람이 동그라미조차도 같게 그리지 않으므로 만리장성을 맞춘 건 대단하다고 생각한다.\n",
    "\n",
    "데이터셋을 받아서 구조 분석을 하는 데에는 Getting Started{[image-Based CNN](https://www.kaggle.com/jpmiller/image-based-cnn),[Quick Draw! - Simple EDA](https://www.kaggle.com/dimitreoliveira/quick-draw-simple-eda)} 커널을 참고했다. 나의 예상과는 다르게 인풋 데이터가 이미지가 아닌 선들의 좌표 배열이었다. 이 좌표를 이용해서 다시 이미지로 변환한 다음 input으로 사용할 예정이다. 이미지를 분류하는 데는 CNN이 성능이 가장 좋으니까 CNN을 포커스로 잡고 진행하였다.\n",
    "\n",
    "데이터가 선 1, 선 2, 선 3 이런 식으로 시간의 속성이 들어가서 LSTM을 적용해도 괜찮을 것 같지만 자신 있는 CNN으로 과제를 진행하고 시간이 남는다면 바꿔보는 것도 괜찮을 것 같다.\n",
    "\n",
    "***"
   ]
  },
  {
   "cell_type": "markdown",
   "metadata": {},
   "source": [
    "# 1차 사용 방법 \n",
    "\n",
    "**CNN**<br>\n",
    "이미지의 데이터가 많은 상황에서 CNN은 최고의 성능을 낸다. \n",
    "\n",
    "**keras**<br>\n",
    "원래 tensorflow를 사용했었지만, 카글에서 keras를 처음 사용해봤다.<br>\n",
    "input, kernel, output을 블록으로 설명한 부분이 인상 깊었고 tensorflow 기반으로 만들어져서 그런지 습득하고 사용하는데 많은 부담감은 없었다.<br>\n",
    "코드가 훨씬 깔끔하고 사용하기 쉽지만 keras가 tensorflow를 커버할 수 없다고 한다. 이는 좀 더 사용해봐야 알 것 같다.\n",
    "\n",
    "***\n",
    "\n",
    "# 2차 사용 방법\n",
    "\n",
    "**배치 사이즈와 에폭수를 늘려보았다.** \n",
    "\n",
    "- batch_size = 32, epochs = 22 <br> \n",
    " Private Score 0.60357 <br>\n",
    " Public Score 0.60229\n",
    "\n",
    "- batch_size = 128, epochs = 50 <br>\n",
    "Private Score 0.62959 <br>\n",
    "Public Score 0.63262\n",
    "\n",
    "- batch_size = 128, epochs = 100 <br>\n",
    "Private Score 0.62893 <br>\n",
    "Public Score 0.62818\n",
    "\n",
    "하이파라미터에 의존하는 것보단 다른 방법을 생각해봐야겠다.\n",
    "\n",
    "***"
   ]
  },
  {
   "cell_type": "markdown",
   "metadata": {},
   "source": [
    "\n",
    "# 3차 사용 방법 \n",
    "\n",
    "2차 사용 방법은 '전체 데이터셋을 한 번에 읽어오는 방법'이다. 최종적으로 (680000, 1025) 배열을 만들었다. <br>\n",
    "keras 에서 model.fit_generator() 함수를 보고 스텝 바이 스텝으로 data generator를 만드는 것을 적용해보았다. \n",
    "\n",
    "==> 실패했다. <br>\n",
    "왜 실패한 건지 도무지 모르겠다. 에폭이 증가하지 않는다. <br>\n",
    "[Fork of Quick_Draw_FAIL](https://www.kaggle.com/rookiebox/fork-of-quick-draw-cnn-fail)커널에 기록해놨다.<br>\n",
    "모델의 input의 shape와 데이터의 shape를 맞춰주면 될 것 같았지만, 실행이 되지 않았다. 에러 메세지도 출력되지 않고 어느 순간 CPU의 점유율이 0%로 떨어졌다.\n",
    "\n",
    "***\n",
    "\n",
    "# 4차 사용 방법\n",
    "\n",
    "클래스 마다(.csv) 2500개의 값 중 (recognized == True) 을 만족하는 2000개의 값만 사용한다. <br>\n",
    "이를 무작정 10000 값으로 늘려봤다. 하지만 이 많은 데이터를 한 번에 로드하는 것은 메모리가 버티지 못해 문제가 생겼고(중간에 커널의 연결이 계속 off 되었다)<br>\n",
    "'좌표를 이용해서 다시 이미지로 변환'하는 과정이 생각보다 너무 오래 걸려서 다른 방법을 생각해봐야 겠다.\n",
    "\n",
    "기존 데이터셋의 [None, 32, 32, 1] 배열을 [None, 80, 2]로 바꿔보았다. <br>\n",
    "다른 코드를 살펴보니 x, y 값이 차례로 있다고 한다. 연속된 좌표의 패턴을 학습해보자.\n",
    "단, 이렇게 input 데이터의 shape를 바꾸면 기존에 사용했던 모델을 변경해야 한다.\n",
    "\n",
    "==> 성공했다. <br>\n",
    "한 클래스당 사용하는 값의 수를 2000에서 10000으로 5배 늘렸다. <br>\n",
    "기존 [32,32] shape에서 [80,2] shape로 줄이니 연산속도가 더 빨랐고 더 많은 값을 사용할 수 있었다. <br>\n",
    "기존에 사용했던 2D Convolution을 1D Convolution 모델로 변경하고 돌려보았다.\n",
    "\n",
    "- epochs = 3 <br> \n",
    " Private Score 0.71686<br>\n",
    " Public Score 0.71671\n",
    "- epochs = 10 <br> \n",
    " Private Score 0.76240 <br>\n",
    " Public Score 0.75738\n",
    "- epochs = 30 <br> \n",
    " Private Score <br>\n",
    " Public Score \n",
    " 30에서 강제 새로고침을 당했다...\n",
    "- epochs = 25 <br> \n",
    " Private Score 0.77515<br>\n",
    " Public Score 0.77511\n",
    "***\n",
    "\n",
    "아쉬운 점 <br>\n",
    "keras의 EarlyStopping 함수를 사용해보고 싶었는데 callback으로 넣어주면 자꾸 에러가 생겨 진행이 안 돼서 뺐다. 그래서 어느 시점에 epoch을 멈춰야하는지 일일이 돌려봐야 했다. \n",
    "\n",
    "***"
   ]
  },
  {
   "cell_type": "markdown",
   "metadata": {},
   "source": [
    "## training data 구조 분석\n",
    "'Getting Started' kernel을 참고했다.<br>\n",
    "- glob 폴데에 있는 모든 파일 접근해서 list 형태로 변환\n",
    "- tqdm for문의 상태바 보여줌"
   ]
  },
  {
   "cell_type": "code",
   "execution_count": 1,
   "metadata": {
    "_cell_guid": "b1076dfc-b9ad-4769-8c92-a6c4dae69d19",
    "_uuid": "8f2839f25d086af736a60e9eeb907d3b93b6e0e5"
   },
   "outputs": [],
   "source": [
    "import os\n",
    "import re\n",
    "from glob import glob\n",
    "from tqdm import tqdm\n",
    "import numpy as np\n",
    "import pandas as pd\n",
    "import ast\n",
    "import matplotlib.pyplot as plt\n",
    "%matplotlib inline"
   ]
  },
  {
   "cell_type": "markdown",
   "metadata": {},
   "source": [
    "\n"
   ]
  },
  {
   "cell_type": "code",
   "execution_count": 2,
   "metadata": {
    "_cell_guid": "79c7e3d0-c299-4dcb-8224-4455121ee9b0",
    "_uuid": "d629ff2d2480ee46fbb7e2d37f6b5fab8052498a"
   },
   "outputs": [
    {
     "data": {
      "text/html": [
       "<div>\n",
       "<style scoped>\n",
       "    .dataframe tbody tr th:only-of-type {\n",
       "        vertical-align: middle;\n",
       "    }\n",
       "\n",
       "    .dataframe tbody tr th {\n",
       "        vertical-align: top;\n",
       "    }\n",
       "\n",
       "    .dataframe thead th {\n",
       "        text-align: right;\n",
       "    }\n",
       "</style>\n",
       "<table border=\"1\" class=\"dataframe\">\n",
       "  <thead>\n",
       "    <tr style=\"text-align: right;\">\n",
       "      <th></th>\n",
       "      <th>countrycode</th>\n",
       "      <th>drawing</th>\n",
       "      <th>key_id</th>\n",
       "      <th>recognized</th>\n",
       "      <th>timestamp</th>\n",
       "      <th>word</th>\n",
       "    </tr>\n",
       "  </thead>\n",
       "  <tbody>\n",
       "    <tr>\n",
       "      <th>0</th>\n",
       "      <td>US</td>\n",
       "      <td>[[[92, 91, 82, 69, 64, 56, 28, 15, 6, 0, 1, 18...</td>\n",
       "      <td>4745881255411712</td>\n",
       "      <td>True</td>\n",
       "      <td>2017-03-10 13:46:31.635970</td>\n",
       "      <td>sleeping bag</td>\n",
       "    </tr>\n",
       "    <tr>\n",
       "      <th>1</th>\n",
       "      <td>AU</td>\n",
       "      <td>[[[4, 3, 11, 22, 38, 63, 251, 255, 251, 252, 2...</td>\n",
       "      <td>4573190200229888</td>\n",
       "      <td>True</td>\n",
       "      <td>2017-03-17 06:36:27.083520</td>\n",
       "      <td>sleeping bag</td>\n",
       "    </tr>\n",
       "    <tr>\n",
       "      <th>2</th>\n",
       "      <td>GB</td>\n",
       "      <td>[[[28, 110, 126, 106, 59, 37, 32, 25], [168, 1...</td>\n",
       "      <td>5546137161302016</td>\n",
       "      <td>True</td>\n",
       "      <td>2017-03-29 12:39:34.815400</td>\n",
       "      <td>house plant</td>\n",
       "    </tr>\n",
       "    <tr>\n",
       "      <th>3</th>\n",
       "      <td>GB</td>\n",
       "      <td>[[[60, 60, 62, 69, 98, 116, 169, 171, 157, 152...</td>\n",
       "      <td>6020882763874304</td>\n",
       "      <td>True</td>\n",
       "      <td>2017-03-03 12:09:53.163390</td>\n",
       "      <td>house plant</td>\n",
       "    </tr>\n",
       "    <tr>\n",
       "      <th>4</th>\n",
       "      <td>BR</td>\n",
       "      <td>[[[48, 119, 208, 222, 228, 209, 175, 80, 25, 7...</td>\n",
       "      <td>4801185506656256</td>\n",
       "      <td>True</td>\n",
       "      <td>2017-01-26 00:40:23.964940</td>\n",
       "      <td>bathtub</td>\n",
       "    </tr>\n",
       "    <tr>\n",
       "      <th>5</th>\n",
       "      <td>GB</td>\n",
       "      <td>[[[17, 230], [138, 136]], [[1, 8, 21, 33, 55, ...</td>\n",
       "      <td>5242011433041920</td>\n",
       "      <td>True</td>\n",
       "      <td>2017-03-21 19:08:39.365000</td>\n",
       "      <td>bathtub</td>\n",
       "    </tr>\n",
       "    <tr>\n",
       "      <th>6</th>\n",
       "      <td>US</td>\n",
       "      <td>[[[4, 0, 2], [202, 98, 24]], [[1, 12, 10, 25, ...</td>\n",
       "      <td>5223042911305728</td>\n",
       "      <td>True</td>\n",
       "      <td>2017-03-18 02:52:34.909590</td>\n",
       "      <td>key</td>\n",
       "    </tr>\n",
       "    <tr>\n",
       "      <th>7</th>\n",
       "      <td>GB</td>\n",
       "      <td>[[[36, 25, 9, 0, 0, 15, 30, 75, 90, 95, 97, 84...</td>\n",
       "      <td>5425151371902976</td>\n",
       "      <td>True</td>\n",
       "      <td>2017-03-04 09:29:43.337260</td>\n",
       "      <td>key</td>\n",
       "    </tr>\n",
       "    <tr>\n",
       "      <th>8</th>\n",
       "      <td>US</td>\n",
       "      <td>[[[69, 32, 19, 7, 0, 18, 55, 86, 145, 196, 209...</td>\n",
       "      <td>4848879067463680</td>\n",
       "      <td>True</td>\n",
       "      <td>2017-03-06 15:00:27.328800</td>\n",
       "      <td>triangle</td>\n",
       "    </tr>\n",
       "    <tr>\n",
       "      <th>9</th>\n",
       "      <td>US</td>\n",
       "      <td>[[[98, 48, 0], [0, 108, 235]], [[100, 133, 171...</td>\n",
       "      <td>5548323891052544</td>\n",
       "      <td>True</td>\n",
       "      <td>2017-01-27 12:47:55.869040</td>\n",
       "      <td>triangle</td>\n",
       "    </tr>\n",
       "    <tr>\n",
       "      <th>10</th>\n",
       "      <td>US</td>\n",
       "      <td>[[[38, 25, 13, 4, 0, 4, 12, 25, 32, 30], [29, ...</td>\n",
       "      <td>5480798142595072</td>\n",
       "      <td>True</td>\n",
       "      <td>2017-03-05 13:27:18.160120</td>\n",
       "      <td>grapes</td>\n",
       "    </tr>\n",
       "    <tr>\n",
       "      <th>11</th>\n",
       "      <td>PL</td>\n",
       "      <td>[[[167, 151], [0, 12]], [[99, 74, 32, 21, 15, ...</td>\n",
       "      <td>6617529151651840</td>\n",
       "      <td>True</td>\n",
       "      <td>2017-03-03 19:54:09.398390</td>\n",
       "      <td>grapes</td>\n",
       "    </tr>\n",
       "  </tbody>\n",
       "</table>\n",
       "</div>"
      ],
      "text/plain": [
       "   countrycode      ...               word\n",
       "0           US      ...       sleeping bag\n",
       "1           AU      ...       sleeping bag\n",
       "2           GB      ...        house plant\n",
       "3           GB      ...        house plant\n",
       "4           BR      ...            bathtub\n",
       "5           GB      ...            bathtub\n",
       "6           US      ...                key\n",
       "7           GB      ...                key\n",
       "8           US      ...           triangle\n",
       "9           US      ...           triangle\n",
       "10          US      ...             grapes\n",
       "11          PL      ...             grapes\n",
       "\n",
       "[12 rows x 6 columns]"
      ]
     },
     "execution_count": 2,
     "metadata": {},
     "output_type": "execute_result"
    }
   ],
   "source": [
    "fnames = glob('../input/train_simplified/*.csv') #<class 'list'>\n",
    "cnames = ['countrycode', 'drawing', 'key_id', 'recognized', 'timestamp', 'word']\n",
    "drawlist = []\n",
    "for f in fnames[0:6]: # num of word : 5\n",
    "    first = pd.read_csv(f, nrows=10) # make sure we get a recognized drawing\n",
    "    first = first[first.recognized==True].head(2) # top head 2 get \n",
    "    drawlist.append(first)\n",
    "draw_df = pd.DataFrame(np.concatenate(drawlist), columns=cnames) # <class 'pandas.core.frame.DataFrame'>\n",
    "draw_df"
   ]
  },
  {
   "cell_type": "markdown",
   "metadata": {},
   "source": [
    "그림 데이터는 아래와 같이 숫자들의 배열로 저장한다. \n",
    "```\n",
    "drawing.values = [[선1점1, 선1점2, 선1점3, ... 선1점n], [선2점1, 선2점2, 선2점3, ... 선2점n], ..., [선i점1, 선i점2, 선i점3, ... 선i점n]]\n",
    "```"
   ]
  },
  {
   "cell_type": "code",
   "execution_count": 3,
   "metadata": {},
   "outputs": [
    {
     "data": {
      "text/plain": [
       "'[[[92, 91, 82, 69, 64, 56, 28, 15, 6, 0, 1, 18, 27, 54, 69, 83, 92, 92], [143, 78, 60, 15, 6, 0, 1, 14, 29, 85, 224, 250, 253, 255, 246, 227, 184, 105]], [[59, 39, 13, 10, 38], [73, 80, 80, 74, 81]]]'"
      ]
     },
     "execution_count": 3,
     "metadata": {},
     "output_type": "execute_result"
    }
   ],
   "source": [
    "draw_df.drawing.values[0]"
   ]
  },
  {
   "cell_type": "code",
   "execution_count": 4,
   "metadata": {},
   "outputs": [
    {
     "name": "stderr",
     "output_type": "stream",
     "text": [
      "/opt/conda/lib/python3.6/site-packages/matplotlib/figure.py:98: MatplotlibDeprecationWarning: \n",
      "Adding an axes using the same arguments as a previous axes currently reuses the earlier instance.  In a future version, a new instance will always be created and returned.  Meanwhile, this warning can be suppressed, and the future behavior ensured, by passing a unique label to each axes instance.\n",
      "  \"Adding an axes using the same arguments as a previous axes \"\n"
     ]
    },
    {
     "data": {
      "image/png": "[encoded data removed]",
      "text/plain": [
       "<Figure size 432x216 with 2 Axes>"
      ]
     },
     "metadata": {},
     "output_type": "display_data"
    },
    {
     "data": {
      "image/png": "[encoded data removed]",
      "text/plain": [
       "<Figure size 432x216 with 2 Axes>"
      ]
     },
     "metadata": {},
     "output_type": "display_data"
    },
    {
     "data": {
      "image/png": "[encoded data removed]",
      "text/plain": [
       "<Figure size 432x216 with 2 Axes>"
      ]
     },
     "metadata": {},
     "output_type": "display_data"
    },
    {
     "data": {
      "image/png": "[encoded data removed]",
      "text/plain": [
       "<Figure size 432x216 with 2 Axes>"
      ]
     },
     "metadata": {},
     "output_type": "display_data"
    },
    {
     "data": {
      "image/png": "[encoded data removed]",
      "text/plain": [
       "<Figure size 432x216 with 2 Axes>"
      ]
     },
     "metadata": {},
     "output_type": "display_data"
    },
    {
     "data": {
      "image/png": "[encoded data removed]",
      "text/plain": [
       "<Figure size 432x216 with 2 Axes>"
      ]
     },
     "metadata": {},
     "output_type": "display_data"
    }
   ],
   "source": [
    "evens = range(0,11,2)\n",
    "odds = range(1,12, 2)\n",
    "# We have drawing images, 2 per label, consecutively\n",
    "df1 = draw_df[draw_df.index.isin(evens)]\n",
    "df2 = draw_df[draw_df.index.isin(odds)]\n",
    "\n",
    "example1s = [ast.literal_eval(pts) for pts in df1.drawing.values]\n",
    "example2s = [ast.literal_eval(pts) for pts in df2.drawing.values]\n",
    "labels = df2.word.tolist()\n",
    "\n",
    "for i, example in enumerate(example1s):\n",
    "    plt.figure(figsize=(6,3))\n",
    "    \n",
    "    for x,y in example:\n",
    "        plt.subplot(1,2,1)\n",
    "        plt.plot(x, y, marker='.')\n",
    "        plt.axis('off')\n",
    "\n",
    "    for x,y, in example2s[i]:\n",
    "        plt.subplot(1,2,2)\n",
    "        plt.plot(x, y, marker='.')\n",
    "        plt.axis('off')\n",
    "        label = labels[i]\n",
    "        plt.title(label, fontsize=10)\n",
    "\n",
    "    plt.show()  "
   ]
  },
  {
   "cell_type": "code",
   "execution_count": 5,
   "metadata": {},
   "outputs": [],
   "source": [
    "%reset -f"
   ]
  },
  {
   "cell_type": "markdown",
   "metadata": {},
   "source": [
    "## 모델 만들기\n",
    "\n",
    "이제 CNN 모델을 만들어보자.<br>\n",
    "csv의 데이터에서 x, y점의 좌표를 읽어와 모델의 input으로 주기 위한 전처리 작업이 필요하다.\n",
    "\n",
    "- Dask 패키지는 Pandas 데이터프레임 형식으로 빅데이터를 처리하기 위한 파이썬 패키지이다.\n",
    "\n",
    "### **코드의 주석은 1차 사용 방법의 주석입니다. **"
   ]
  },
  {
   "cell_type": "code",
   "execution_count": 6,
   "metadata": {},
   "outputs": [
    {
     "name": "stderr",
     "output_type": "stream",
     "text": [
      "Using TensorFlow backend.\n"
     ]
    }
   ],
   "source": [
    "\n",
    "import os\n",
    "from glob import glob\n",
    "import re\n",
    "import ast\n",
    "import numpy as np \n",
    "import pandas as pd\n",
    "from PIL import Image, ImageDraw \n",
    "from tqdm import tqdm\n",
    "from dask import bag\n",
    "import json\n",
    "\n",
    "import tensorflow as tf\n",
    "from tensorflow import keras\n",
    "from tensorflow.keras.models import Sequential\n",
    "from keras.models import Model\n",
    "from tensorflow.keras.layers import Dense, Dropout, Flatten\n",
    "from tensorflow.keras.layers import Conv2D, MaxPooling2D\n",
    "from tensorflow.keras.metrics import top_k_categorical_accuracy\n",
    "from keras.layers import Input, Conv1D, Dense, Dropout, BatchNormalization, Flatten, MaxPool1D\n",
    "from tensorflow.keras.callbacks import ModelCheckpoint, ReduceLROnPlateau, EarlyStopping"
   ]
  },
  {
   "cell_type": "markdown",
   "metadata": {},
   "source": [
    "> The data are also available in a zip file (automatically extracted inside the Kernels environment).\n",
    "> 카글은 대단하다."
   ]
  },
  {
   "cell_type": "code",
   "execution_count": 7,
   "metadata": {},
   "outputs": [],
   "source": [
    "path = '../input/train_simplified/'\n",
    "classfiles = os.listdir(path)\n",
    "\n",
    "numstonames = {i: v[:-4].replace(\" \", \"_\") for i, v in enumerate(classfiles)} # sleeping bag -> sleeping_bag\n",
    "files = [os.path.join(path, file) for i, file in enumerate(classfiles)]\n",
    "word_mapping = {file.split('/')[-1][:-4]:i for i, file in enumerate(files)}\n",
    "\n",
    "num_classes = len(files)    #340\n",
    "imheight, imwidth = 32, 32 # size of an image\n",
    "ims_per_class = 2000  #max? # in the code above and above, there existed more than 100 thousand images per class(/label)\n",
    "sequence_length = 80"
   ]
  },
  {
   "cell_type": "markdown",
   "metadata": {},
   "source": [
    "## 1. TRAIN 데이터 만들기 \n",
    "\n",
    "한 class 마다 (class 개수는 340) sleeping bag.csv 에서 15000 읽어온다. (단, 필요한 col인 'drawing', 'recognized'만 뽑아온다)<br>\n",
    "이중 'recognized' 가 'True' 인 애들 탑 10000 개를 뽑는다.\n",
    "\n",
    "**배열 X**<br>\n",
    "sequence of x- 와 y-coordinates 의 패턴을 X 배열에 넣는다. [10000, 80, 2]<br>\n",
    "X 배열의 차원을 줄여 [10000, 160] 배열을 만든다.\n",
    "\n",
    "**배열 y**<br>\n",
    "y 배열에는 class를 구별할 수 있는 index 값을 넣어 [10000, 1] 배열을 만든다.\n",
    "\n",
    "X와 y 배열을 합쳐준다. [10000, 161]\n",
    "\n",
    "**배열 train_grand**<br>\n",
    "[10000, 161] 을 'train_grand'에 append 해준다.<br>\n",
    "shape을 변경해준다. [340, 10000, 161] -> [3400000, 161]\n",
    "\n",
    "\n"
   ]
  },
  {
   "cell_type": "code",
   "execution_count": 8,
   "metadata": {},
   "outputs": [
    {
     "name": "stderr",
     "output_type": "stream",
     "text": [
      "100%|██████████| 340/340 [02:37<00:00,  2.02it/s]\n"
     ]
    },
    {
     "name": "stdout",
     "output_type": "stream",
     "text": [
      "(340, 10000, 161)\n",
      "(3400000, 161)\n"
     ]
    }
   ],
   "source": [
    "train_grand= []\n",
    "\n",
    "class_paths = glob('../input/train_simplified/*.csv')\n",
    "\n",
    "df = []\n",
    "\n",
    "for i,c in enumerate(tqdm(class_paths[0: num_classes])):\n",
    "    train = pd.read_csv(c, usecols=['drawing', 'recognized'], nrows=15000) # [2500 rows x 2 columns]\n",
    "    train = train[train.recognized == True].head(10000) # use data only recognized == True -> [2000 rows x 2 columns]\n",
    "    \n",
    "    X = []\n",
    "    for values in train.drawing.values:\n",
    "        image = json.loads(values)\n",
    "        strokes = []\n",
    "        for x_axis, y_axis in image:\n",
    "            strokes.extend(list(zip(x_axis, y_axis)))\n",
    "        strokes = np.array(strokes)\n",
    "        pad = np.zeros((sequence_length, 2))\n",
    "        if sequence_length>strokes.shape[0]:\n",
    "            pad[:strokes.shape[0],:] = strokes\n",
    "        else:\n",
    "            pad = strokes[:sequence_length, :]\n",
    "        X.append(pad)\n",
    "    X = np.array(X)\n",
    "    y = np.full((train.shape[0], 1), i)\n",
    "    X = np.reshape(X, (10000, -1))\n",
    "    X = np.concatenate((y, X), axis=1)\n",
    "    train_grand.append(X)\n",
    "   \n",
    "    \n",
    "#     trainarray = np.reshape(trainarray, (ims_per_class, -1)) # (2000, 1024)\n",
    "#     labelarray = np.full((train.shape[0], 1), i) # (2000, 1) fill with 'i' 0~339\n",
    "#     trainarray = np.concatenate((labelarray, trainarray), axis=1) # (2000, 1025)\n",
    "#     train_grand.append(trainarray)\n",
    "\n",
    "train_grand = np.array([train_grand.pop() for i in np.arange(num_classes)]) \n",
    "print(train_grand.shape)\n",
    "train_grand = train_grand.reshape((-1, sequence_length*2+1))\n",
    "print(train_grand.shape)\n",
    "\n",
    "del X\n",
    "del train"
   ]
  },
  {
   "cell_type": "markdown",
   "metadata": {},
   "source": [
    "## 2. TRAIN, VALIDATION data 나누기\n",
    "\n",
    "전체 데이터 셋 3400000중 10%는 validation data로 90%는 train data로 사용한다.\n",
    "  \n",
    "y_train : (3060000, 340)\n",
    "\n",
    "X_train : (3060000, 80, 2) \n",
    "\n",
    "y_val : (340000, 340) \n",
    "\n",
    "X_val : (340000, 80, 2)\n"
   ]
  },
  {
   "cell_type": "markdown",
   "metadata": {},
   "source": [
    "> keras.utils.to_categorical() 은 \n",
    "> \n",
    "> ex: y_tain=[0,2,1,2,0] 이라하면, \n",
    "> y_train= [[ 1.,  0.,  0.],\n",
    ">          [ 0.,  0.,  1.],\n",
    ">          [ 0.,  1.,  0.],\n",
    ">          [ 0.,  0.,  1.],\n",
    ">          [ 1.,  0.,  0.]] 로 변경된다."
   ]
  },
  {
   "cell_type": "code",
   "execution_count": 9,
   "metadata": {},
   "outputs": [
    {
     "name": "stdout",
     "output_type": "stream",
     "text": [
      "340000\n",
      "(3060000, 340) \n",
      " (3060000, 80, 2) \n",
      " (340000, 340) \n",
      " (340000, 80, 2)\n"
     ]
    }
   ],
   "source": [
    "valfrac = 0.1 \n",
    "cutpt = int(valfrac * train_grand.shape[0])\n",
    "print(cutpt)\n",
    "\n",
    "np.random.shuffle(train_grand)\n",
    "y_train, X_train = train_grand[cutpt: , 0], train_grand[cutpt: , 1:]\n",
    "y_val, X_val = train_grand[0:cutpt, 0], train_grand[0:cutpt, 1:]\n",
    "\n",
    "del train_grand\n",
    "\n",
    "y_train = keras.utils.to_categorical(y_train, num_classes)\n",
    "X_train = X_train.reshape(-1, sequence_length,2)\n",
    "\n",
    "y_val = keras.utils.to_categorical(y_val, num_classes)\n",
    "X_val = X_val.reshape(-1, sequence_length,2)\n",
    "\n",
    "print(y_train.shape, \"\\n\",\n",
    "      X_train.shape, \"\\n\",\n",
    "      y_val.shape, \"\\n\",\n",
    "      X_val.shape)\n"
   ]
  },
  {
   "cell_type": "markdown",
   "metadata": {},
   "source": [
    "## 3. keras 를 이용해 model 정의하기\n",
    "\n",
    "x, y 의 sequece pattern을 파악하기 위해 conv1을 사용했다.\n"
   ]
  },
  {
   "cell_type": "markdown",
   "metadata": {},
   "source": [
    "> Conv2D(32, kernel_size=(3, 3), padding='same', activation='relu', input_shape=(imheight, imwidth, 1))\n",
    "> - 입력 : (32, 32) 채널은 1개\n",
    "> - 중간 : (3, 3)커널 필터개수 32개\n",
    "> - 아웃 : (32, 32) 채널은 32개\n",
    "> - 가중치 개수 : 3x3x32 = 288개\n",
    "> - 참고로 케라스 코드에서는 가장 첫번째 레이어를 제외하고는 입력 형태를 자동으로 계산하므로 이 부분은 신경쓰지 않아도 됩니다.\n",
    "> \n",
    "> model.add(MaxPooling2D(pool_size=(2, 2)))\n",
    "> - pool_size=(수직, 수평) 비율 즉, 크기를 반으로 줄입니다.\n",
    ">\n",
    ">Conv1D\tExtracts local features using 1D filters.\n",
    ">필터를 이용하여 지역적인 특징을 추출합니다."
   ]
  },
  {
   "cell_type": "code",
   "execution_count": 10,
   "metadata": {},
   "outputs": [],
   "source": [
    "\n",
    "# model = Sequential()\n",
    "# model.add(Conv2D(32, kernel_size=(3, 3), padding='same', activation='relu', input_shape=(isequence_length,2)))\n",
    "# model.add(MaxPooling2D(pool_size=(2, 2)))\n",
    "\n",
    "# model.add(Conv2D(64, kernel_size=(3, 3), padding='same', activation='relu'))\n",
    "# model.add(MaxPooling2D(pool_size=(2, 2)))\n",
    "# model.add(Dropout(0.2))\n",
    "\n",
    "# model.add(Flatten())\n",
    "# model.add(Dense(680, activation='relu'))\n",
    "# model.add(Dropout(0.5))\n",
    "# model.add(Dense(num_classes, activation='softmax'))\n",
    "\n",
    "# model.summary()"
   ]
  },
  {
   "cell_type": "code",
   "execution_count": 11,
   "metadata": {},
   "outputs": [
    {
     "name": "stdout",
     "output_type": "stream",
     "text": [
      "WARNING:tensorflow:From /opt/conda/lib/python3.6/site-packages/tensorflow/python/framework/op_def_library.py:263: colocate_with (from tensorflow.python.framework.ops) is deprecated and will be removed in a future version.\n",
      "Instructions for updating:\n",
      "Colocations handled automatically by placer.\n",
      "WARNING:tensorflow:From /opt/conda/lib/python3.6/site-packages/keras/backend/tensorflow_backend.py:3445: calling dropout (from tensorflow.python.ops.nn_ops) with keep_prob is deprecated and will be removed in a future version.\n",
      "Instructions for updating:\n",
      "Please use `rate` instead of `keep_prob`. Rate should be set to `rate = 1 - keep_prob`.\n"
     ]
    }
   ],
   "source": [
    "def createNetwork(seq_len):\n",
    "    \n",
    "    # Function to add a convolution layer with batch normalization\n",
    "    def addConv(network, features, kernel):\n",
    "        network = BatchNormalization()(network)\n",
    "        return Conv1D(features, kernel, padding='same', activation='relu')(network)\n",
    "    \n",
    "    # Function to add a dense layer with batch normalization and dropout\n",
    "    def addDense(network, size):\n",
    "        network = BatchNormalization()(network)\n",
    "        network = Dropout(0.2)(network)\n",
    "        return Dense(size, activation='relu')(network)\n",
    "    \n",
    "    \n",
    "    # Input layer\n",
    "    input = Input(shape=(seq_len, 2))\n",
    "    network = input\n",
    "    \n",
    "    # Add 1D Convolution\n",
    "    for features in [16, 24, 32]:\n",
    "        network = addConv(network, features, 5)\n",
    "    network = MaxPool1D(pool_size=5)(network)\n",
    "    \n",
    "    # Add 1D Convolution\n",
    "    for features in [64, 96, 128]:\n",
    "        network = addConv(network, features, 5)\n",
    "    network = MaxPool1D(pool_size=5)(network)\n",
    "\n",
    "    # Add 1D Convolution\n",
    "    for features in [256, 384, 512]:\n",
    "        network = addConv(network, features, 5)\n",
    "    #network = MaxPool1D(pool_size=5)(network)\n",
    "\n",
    "    # Flatten\n",
    "    network = Flatten()(network)\n",
    "    \n",
    "    # Dense layer for combination\n",
    "    for size in [128, 128]:\n",
    "        network = addDense(network, size)\n",
    "    \n",
    "    # Output layer\n",
    "    output = Dense(len(files), activation='softmax')(network)\n",
    "\n",
    "\n",
    "    # Create and compile model\n",
    "    model = Model(inputs = input, outputs = output)\n",
    "#     model.compile(optimizer='adam', loss='categorical_crossentropy', metrics=['acc'])\n",
    "\n",
    "#     # Display model\n",
    "#     model.summary()\n",
    "    return model\n",
    "\n",
    "model = createNetwork(sequence_length)"
   ]
  },
  {
   "cell_type": "markdown",
   "metadata": {},
   "source": [
    "## 4. 정의한 모델 사용하기\n",
    "모델을 정의했으니 모델에 손실함수와 최적화 알고리즘을 적용해보자.\n",
    "\n",
    "model.compile()\n",
    "- 다중 클래스 문제이므로 ‘categorical_crossentropy’으로 지정\n",
    "- 경사 하강법 알고리즘 중 하나인 ‘adam’을 사용\n",
    "- 평가 척도를 나타내며 분류 문제에서는 일반적으로 ‘accuracy’으로 지정\n",
    "\n",
    "모델을 학습시켜보자\n",
    "\n",
    "model.fit() \n",
    "- 훈련 데이터셋 , batch 사이즈, epoch 수, 검증 데이터셋, 학습 중 출력되는 문구 설정"
   ]
  },
  {
   "cell_type": "code",
   "execution_count": 12,
   "metadata": {},
   "outputs": [
    {
     "name": "stdout",
     "output_type": "stream",
     "text": [
      "_________________________________________________________________\n",
      "Layer (type)                 Output Shape              Param #   \n",
      "=================================================================\n",
      "input_1 (InputLayer)         (None, 80, 2)             0         \n",
      "_________________________________________________________________\n",
      "batch_normalization_1 (Batch (None, 80, 2)             8         \n",
      "_________________________________________________________________\n",
      "conv1d_1 (Conv1D)            (None, 80, 16)            176       \n",
      "_________________________________________________________________\n",
      "batch_normalization_2 (Batch (None, 80, 16)            64        \n",
      "_________________________________________________________________\n",
      "conv1d_2 (Conv1D)            (None, 80, 24)            1944      \n",
      "_________________________________________________________________\n",
      "batch_normalization_3 (Batch (None, 80, 24)            96        \n",
      "_________________________________________________________________\n",
      "conv1d_3 (Conv1D)            (None, 80, 32)            3872      \n",
      "_________________________________________________________________\n",
      "max_pooling1d_1 (MaxPooling1 (None, 16, 32)            0         \n",
      "_________________________________________________________________\n",
      "batch_normalization_4 (Batch (None, 16, 32)            128       \n",
      "_________________________________________________________________\n",
      "conv1d_4 (Conv1D)            (None, 16, 64)            10304     \n",
      "_________________________________________________________________\n",
      "batch_normalization_5 (Batch (None, 16, 64)            256       \n",
      "_________________________________________________________________\n",
      "conv1d_5 (Conv1D)            (None, 16, 96)            30816     \n",
      "_________________________________________________________________\n",
      "batch_normalization_6 (Batch (None, 16, 96)            384       \n",
      "_________________________________________________________________\n",
      "conv1d_6 (Conv1D)            (None, 16, 128)           61568     \n",
      "_________________________________________________________________\n",
      "max_pooling1d_2 (MaxPooling1 (None, 3, 128)            0         \n",
      "_________________________________________________________________\n",
      "batch_normalization_7 (Batch (None, 3, 128)            512       \n",
      "_________________________________________________________________\n",
      "conv1d_7 (Conv1D)            (None, 3, 256)            164096    \n",
      "_________________________________________________________________\n",
      "batch_normalization_8 (Batch (None, 3, 256)            1024      \n",
      "_________________________________________________________________\n",
      "conv1d_8 (Conv1D)            (None, 3, 384)            491904    \n",
      "_________________________________________________________________\n",
      "batch_normalization_9 (Batch (None, 3, 384)            1536      \n",
      "_________________________________________________________________\n",
      "conv1d_9 (Conv1D)            (None, 3, 512)            983552    \n",
      "_________________________________________________________________\n",
      "flatten_1 (Flatten)          (None, 1536)              0         \n",
      "_________________________________________________________________\n",
      "batch_normalization_10 (Batc (None, 1536)              6144      \n",
      "_________________________________________________________________\n",
      "dropout_1 (Dropout)          (None, 1536)              0         \n",
      "_________________________________________________________________\n",
      "dense_1 (Dense)              (None, 128)               196736    \n",
      "_________________________________________________________________\n",
      "batch_normalization_11 (Batc (None, 128)               512       \n",
      "_________________________________________________________________\n",
      "dropout_2 (Dropout)          (None, 128)               0         \n",
      "_________________________________________________________________\n",
      "dense_2 (Dense)              (None, 128)               16512     \n",
      "_________________________________________________________________\n",
      "dense_3 (Dense)              (None, 340)               43860     \n",
      "=================================================================\n",
      "Total params: 2,016,004\n",
      "Trainable params: 2,010,672\n",
      "Non-trainable params: 5,332\n",
      "_________________________________________________________________\n",
      "WARNING:tensorflow:From /opt/conda/lib/python3.6/site-packages/tensorflow/python/ops/math_ops.py:3066: to_int32 (from tensorflow.python.ops.math_ops) is deprecated and will be removed in a future version.\n",
      "Instructions for updating:\n",
      "Use tf.cast instead.\n",
      "Train on 3060000 samples, validate on 340000 samples\n",
      "Epoch 1/25\n",
      "3060000/3060000 [==============================] - 126s 41us/step - loss: 2.1592 - acc: 0.4645 - top_3_accuracy: 0.6751 - val_loss: 1.4696 - val_acc: 0.6016 - val_top_3_accuracy: 0.8110\n",
      "Epoch 2/25\n",
      "3060000/3060000 [==============================] - 115s 38us/step - loss: 1.3936 - acc: 0.6214 - top_3_accuracy: 0.8251 - val_loss: 1.2373 - val_acc: 0.6561 - val_top_3_accuracy: 0.8507\n",
      "Epoch 3/25\n",
      "3060000/3060000 [==============================] - 116s 38us/step - loss: 1.2161 - acc: 0.6629 - top_3_accuracy: 0.8561 - val_loss: 1.1510 - val_acc: 0.6785 - val_top_3_accuracy: 0.8664\n",
      "Epoch 4/25\n",
      "2015000/3060000 [==================>...........] - ETA: 38s - loss: 1.1249 - acc: 0.6849 - top_3_accuracy: 0.8714"
     ]
    }
   ],
   "source": [
    "def top_3_accuracy(x,y): \n",
    "    t3 = top_k_categorical_accuracy(x,y, 3)\n",
    "    return t3\n",
    "\n",
    "reduceLROnPlat = ReduceLROnPlateau(monitor='val_loss', factor=0.5, patience=3, \n",
    "                                   verbose=1, mode='auto', min_delta=0.005, cooldown=5, min_lr=0)\n",
    "\n",
    "earlystop = EarlyStopping(monitor='val_loss', mode='auto', patience=2,verbose=0) \n",
    "\n",
    "#callbacks = [reduceLROnPlat, earlystop]\n",
    "#callbacks = earlystop\n",
    "\n",
    "model.compile(loss='categorical_crossentropy',\n",
    "              optimizer='adam',\n",
    "              metrics=['accuracy', top_3_accuracy])\n",
    "\n",
    "model.summary()\n",
    "\n",
    "# model.fit(x=X_train, y=y_train,\n",
    "#           batch_size = 1000,\n",
    "#           epochs = 100,\n",
    "#           validation_data = (X_val, y_val),\n",
    "#           callbacks = callbacks,\n",
    "#           verbose = 1)\n",
    "model.fit(x=X_train, y=y_train,\n",
    "          batch_size = 1000,\n",
    "          epochs = 25,\n",
    "          validation_data = (X_val, y_val),\n",
    "          verbose = 1)\n"
   ]
  },
  {
   "cell_type": "markdown",
   "metadata": {},
   "source": [
    "## 5. TEST SET 돌리기\n",
    "\n",
    "잘 돌아가는걸 확인했다.\n",
    "\n",
    "이제 test set 을 넣어보자.\n",
    "\n",
    "model.predict()"
   ]
  },
  {
   "cell_type": "code",
   "execution_count": 13,
   "metadata": {},
   "outputs": [
    {
     "name": "stderr",
     "output_type": "stream",
     "text": [
      "100%|██████████| 55/55 [00:22<00:00,  2.48it/s]\n"
     ]
    }
   ],
   "source": [
    "#%% get test set\n",
    "ttvlist = []\n",
    "reader = pd.read_csv('../input/test_simplified.csv', index_col=['key_id'],\n",
    "    chunksize=2048)\n",
    "\n",
    "for chunk in tqdm(reader, total=55):\n",
    "    X =[]\n",
    "    for values in chunk.drawing.values:\n",
    "        image = json.loads(values)\n",
    "        strokes = []\n",
    "        for x_axis, y_axis in image:\n",
    "            strokes.extend(list(zip(x_axis, y_axis)))\n",
    "        strokes = np.array(strokes)\n",
    "        pad = np.zeros((sequence_length, 2))\n",
    "        if sequence_length>strokes.shape[0]:\n",
    "            pad[:strokes.shape[0],:] = strokes\n",
    "        else:\n",
    "            pad = strokes[:sequence_length, :]\n",
    "        X.append(pad)\n",
    "        \n",
    "    X = np.array(X)\n",
    "    X = np.reshape(X, (-1,sequence_length, 2))\n",
    "    testpreds = model.predict(X, verbose=0)\n",
    "    ttvs = np.argsort(-testpreds)[:, 0:3]\n",
    "    ttvlist.append(ttvs)\n",
    "#     imagebag = bag.from_sequence(chunk.drawing.values).map(draw_it)\n",
    "#     testarray = np.array(imagebag.compute())\n",
    "\n",
    "#     testarray = np.reshape(testarray, (testarray.shape[0], imheight, imwidth, 1))\n",
    "#     testpreds = model.predict(testarray, verbose=0)\n",
    "#     ttvs = np.argsort(-testpreds)[:, 0:3]  # top 3\n",
    "#     ttvlist.append(ttvs)\n",
    "    \n",
    "ttvarray = np.concatenate(ttvlist)"
   ]
  },
  {
   "cell_type": "code",
   "execution_count": 14,
   "metadata": {},
   "outputs": [
    {
     "data": {
      "text/html": [
       "<div>\n",
       "<style scoped>\n",
       "    .dataframe tbody tr th:only-of-type {\n",
       "        vertical-align: middle;\n",
       "    }\n",
       "\n",
       "    .dataframe tbody tr th {\n",
       "        vertical-align: top;\n",
       "    }\n",
       "\n",
       "    .dataframe thead th {\n",
       "        text-align: right;\n",
       "    }\n",
       "</style>\n",
       "<table border=\"1\" class=\"dataframe\">\n",
       "  <thead>\n",
       "    <tr style=\"text-align: right;\">\n",
       "      <th></th>\n",
       "      <th>word</th>\n",
       "    </tr>\n",
       "    <tr>\n",
       "      <th>key_id</th>\n",
       "      <th></th>\n",
       "    </tr>\n",
       "  </thead>\n",
       "  <tbody>\n",
       "    <tr>\n",
       "      <th>9000003627287624</th>\n",
       "      <td>radio stereo stove</td>\n",
       "    </tr>\n",
       "    <tr>\n",
       "      <th>9000010688666847</th>\n",
       "      <td>hockey_puck bottlecap steak</td>\n",
       "    </tr>\n",
       "    <tr>\n",
       "      <th>9000023642890129</th>\n",
       "      <td>The_Great_Wall_of_China castle fence</td>\n",
       "    </tr>\n",
       "    <tr>\n",
       "      <th>9000038588854897</th>\n",
       "      <td>mountain tent church</td>\n",
       "    </tr>\n",
       "    <tr>\n",
       "      <th>9000052667981386</th>\n",
       "      <td>campfire fireplace crown</td>\n",
       "    </tr>\n",
       "  </tbody>\n",
       "</table>\n",
       "</div>"
      ],
      "text/plain": [
       "                                                  word\n",
       "key_id                                                \n",
       "9000003627287624                    radio stereo stove\n",
       "9000010688666847           hockey_puck bottlecap steak\n",
       "9000023642890129  The_Great_Wall_of_China castle fence\n",
       "9000038588854897                  mountain tent church\n",
       "9000052667981386              campfire fireplace crown"
      ]
     },
     "execution_count": 14,
     "metadata": {},
     "output_type": "execute_result"
    }
   ],
   "source": [
    "preds_df = pd.DataFrame({'first': ttvarray[:,0], 'second': ttvarray[:,1], 'third': ttvarray[:,2]})\n",
    "preds_df = preds_df.replace(numstonames)\n",
    "preds_df['words'] = preds_df['first'] + \" \" + preds_df['second'] + \" \" + preds_df['third']\n",
    "\n",
    "sub = pd.read_csv('../input/sample_submission.csv', index_col=['key_id'])\n",
    "sub['word'] = preds_df.words.values\n",
    "sub.to_csv('subcnn_small.csv')\n",
    "sub.head()"
   ]
  }
 ],
 "metadata": {
  "kernelspec": {
   "display_name": "Python 3",
   "language": "python",
   "name": "python3"
  },
  "language_info": {
   "codemirror_mode": {
    "name": "ipython",
    "version": 3
   },
   "file_extension": ".py",
   "mimetype": "text/x-python",
   "name": "python",
   "nbconvert_exporter": "python",
   "pygments_lexer": "ipython3",
   "version": "3.6.4"
  }
 },
 "nbformat": 4,
 "nbformat_minor": 1
}
