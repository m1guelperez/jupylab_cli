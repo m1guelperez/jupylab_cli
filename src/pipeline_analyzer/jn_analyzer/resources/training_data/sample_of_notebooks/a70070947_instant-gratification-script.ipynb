{
 "cells": [
  {
   "cell_type": "code",
   "execution_count": 1,
   "metadata": {
    "_cell_guid": "b1076dfc-b9ad-4769-8c92-a6c4dae69d19",
    "_uuid": "8f2839f25d086af736a60e9eeb907d3b93b6e0e5"
   },
   "outputs": [],
   "source": [
    "# This Python 3 environment comes with many helpful analytics libraries installed\n",
    "# It is defined by the kaggle/python docker image: https://github.com/kaggle/docker-python\n",
    "# For example, here's several helpful packages to load in \n",
    "\n",
    "import numpy as np # linear algebra\n",
    "import pandas as pd # data processing, CSV file I/O (e.g. pd.read_csv)\n",
    "import os\n",
    "import warnings\n",
    "warnings.filterwarnings('ignore')\n",
    "from sklearn.metrics import roc_auc_score\n",
    "from sklearn.metrics import accuracy_score\n",
    "from sklearn.feature_selection import VarianceThreshold\n",
    "from sklearn.mixture import GaussianMixture\n",
    "from sklearn.covariance import GraphicalLasso\n",
    "from sklearn.preprocessing import StandardScaler"
   ]
  },
  {
   "cell_type": "code",
   "execution_count": 2,
   "metadata": {
    "_cell_guid": "79c7e3d0-c299-4dcb-8224-4455121ee9b0",
    "_uuid": "d629ff2d2480ee46fbb7e2d37f6b5fab8052498a"
   },
   "outputs": [],
   "source": [
    "train = pd.read_csv('../input/train.csv')\n",
    "test = pd.read_csv('../input/test.csv')\n",
    "train['wheezy-copper-turtle-magic'] = train['wheezy-copper-turtle-magic'].astype('category')\n",
    "test['wheezy-copper-turtle-magic'] = test['wheezy-copper-turtle-magic'].astype('category')"
   ]
  },
  {
   "cell_type": "code",
   "execution_count": 3,
   "metadata": {},
   "outputs": [],
   "source": [
    "magicNum = 131073\n",
    "default_cols = [c for c in train.columns if c not in ['id', 'target','target_pred', 'wheezy-copper-turtle-magic']]\n",
    "cols = [c for c in default_cols]\n",
    "sub = pd.read_csv('../input/sample_submission.csv')\n",
    "sub.to_csv('submission.csv',index=False)"
   ]
  },
  {
   "cell_type": "code",
   "execution_count": 4,
   "metadata": {},
   "outputs": [],
   "source": [
    "y_perfect = [0,0,0,0,0,0,0,0,0,0,1,1,1,1,1,1,1,1,1,1]\n",
    "y_flliped = [1,0,0,1,0,0,0,0,0,0,1,1,1,0,1,1,1,1,0,1]"
   ]
  },
  {
   "cell_type": "code",
   "execution_count": 5,
   "metadata": {},
   "outputs": [],
   "source": [
    "y_preds = [0.33,0.33,0.33,0.5,0.5,0,0,0,0,0,1,1,0.5,0.5,1,1,1,0.66,0.66,0.66]"
   ]
  },
  {
   "cell_type": "code",
   "execution_count": 6,
   "metadata": {},
   "outputs": [],
   "source": [
    "preds=np.zeros(len(test))\n",
    "train_err=np.zeros(512)\n",
    "test_err=np.zeros(512)\n",
    "\n",
    "for i in range(512):  \n",
    "    \n",
    "    X = train[train['wheezy-copper-turtle-magic']==i].copy()\n",
    "    Y = X.pop('target').values\n",
    "    X_test = test[test['wheezy-copper-turtle-magic']==i].copy()\n",
    "\n",
    "    idx_train = X.index \n",
    "    idx_test = X_test.index\n",
    "    \n",
    "    X.reset_index(drop=True,inplace=True)\n",
    "    \n",
    "    X = X[cols].values             \n",
    "    X_test = X_test[cols].values\n",
    "\n",
    "    vt = VarianceThreshold(threshold=2).fit(X)\n",
    "    \n",
    "    X = vt.transform(X)         \n",
    "    X_test = vt.transform(X_test)\n",
    "    X_all = np.concatenate([X,X_test])\n",
    "    train_size = len(X)\n",
    "    test1_size = test[:131073][test[:131073]['wheezy-copper-turtle-magic']==i].shape[0]\n",
    "    compo_cnt = 6\n",
    "    for ii in range(30):\n",
    "        gmm = GaussianMixture(n_components=compo_cnt,init_params='random',covariance_type='full',max_iter=100,tol=1e-10,reg_covar=0.0001).fit(X_all)\n",
    "        labels = gmm.predict(X_all)\n",
    "        \n",
    "        cntStd = np.std([len(labels[labels==j]) for j in range(compo_cnt)])\n",
    "        #there are chances that the clustering doesn't converge, so we only choose the case that it clustered equally\n",
    "        #in which case, the sizes are 171,170,171,170,...\n",
    "        if round(cntStd,4) == 0.4714:\n",
    "            check_labels = labels[:train_size]\n",
    "            cvt_labels=np.zeros(len(labels))\n",
    "\n",
    "            #first get the perfect classification label\n",
    "            for iii in range(compo_cnt):\n",
    "                mean_val = Y[check_labels==iii].mean()\n",
    "                mean_val = 1 if mean_val > 0.5 else 0\n",
    "                cvt_labels[labels==iii] = mean_val\n",
    "            \n",
    "            #then try to predict the expected err for the test set\n",
    "            train_err[i] = len(Y[Y != cvt_labels[:train_size]])\n",
    "            if (train_err[i] >= 10) and (train_err[i] <= 15):\n",
    "                train_err[i] = 12.5\n",
    "            exp_err = max(0,(25 - train_err[i])/(train_size + test1_size))\n",
    "\n",
    "            for iii in range(compo_cnt):\n",
    "                mean_val = Y[check_labels==iii].mean()\n",
    "                mean_val = (1-exp_err) if mean_val > 0.5 else exp_err\n",
    "                cvt_labels[labels==iii] = mean_val\n",
    "\n",
    "            preds[idx_test] = cvt_labels[train_size:]\n",
    "            break\n",
    "\n",
    "sub['target'] = preds\n",
    "sub.to_csv('submission.csv',index=False)"
   ]
  }
 ],
 "metadata": {
  "kernelspec": {
   "display_name": "Python 3",
   "language": "python",
   "name": "python3"
  },
  "language_info": {
   "codemirror_mode": {
    "name": "ipython",
    "version": 3
   },
   "file_extension": ".py",
   "mimetype": "text/x-python",
   "name": "python",
   "nbconvert_exporter": "python",
   "pygments_lexer": "ipython3",
   "version": "3.6.6"
  }
 },
 "nbformat": 4,
 "nbformat_minor": 1
}
