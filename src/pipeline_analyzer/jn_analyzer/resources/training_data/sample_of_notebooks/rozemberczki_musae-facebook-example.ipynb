{
 "cells": [
  {
   "cell_type": "code",
   "execution_count": 1,
   "metadata": {
    "_cell_guid": "b1076dfc-b9ad-4769-8c92-a6c4dae69d19",
    "_uuid": "8f2839f25d086af736a60e9eeb907d3b93b6e0e5"
   },
   "outputs": [],
   "source": [
    "import os\n",
    "import numpy as np\n",
    "import pandas as pd\n",
    "import networkx as nx\n",
    "from scipy import sparse\n",
    "from sklearn.metrics import f1_score\n",
    "from sklearn.decomposition import NMF, TruncatedSVD\n",
    "from sklearn.model_selection import train_test_split\n",
    "from sklearn.linear_model import LogisticRegression, ElasticNet"
   ]
  },
  {
   "cell_type": "code",
   "execution_count": 2,
   "metadata": {},
   "outputs": [],
   "source": [
    "target = pd.read_csv(\"/kaggle/input/musae-facebook-pagepage-network/musae_facebook_target.csv\")\n",
    "features = pd.read_csv(\"/kaggle/input/musae-facebook-pagepage-network/musae_facebook_features.csv\")\n",
    "edges = pd.read_csv(\"/kaggle/input/musae-facebook-pagepage-network/musae_facebook_edges.csv\")"
   ]
  },
  {
   "cell_type": "code",
   "execution_count": 3,
   "metadata": {
    "_cell_guid": "79c7e3d0-c299-4dcb-8224-4455121ee9b0",
    "_uuid": "d629ff2d2480ee46fbb7e2d37f6b5fab8052498a"
   },
   "outputs": [],
   "source": [
    "def transform_features_to_sparse(table):\n",
    "    table[\"weight\"] = 1\n",
    "    table = table.values.tolist()\n",
    "    index_1 = [row[0] for row in table]\n",
    "    index_2 =  [row[1] for row in table]\n",
    "    values =  [row[2] for row in table] \n",
    "    count_1, count_2 = max(index_1)+1, max(index_2)+1\n",
    "    sp_m = sparse.csr_matrix(sparse.coo_matrix((values,(index_1,index_2)),shape=(count_1,count_2),dtype=np.float32))\n",
    "    return sp_m"
   ]
  },
  {
   "cell_type": "code",
   "execution_count": 4,
   "metadata": {},
   "outputs": [],
   "source": [
    "def normalize_adjacency(raw_edges):\n",
    "    raw_edges_t = pd.DataFrame()\n",
    "    raw_edges_t[\"id_1\"] = raw_edges[\"id_2\"]\n",
    "    raw_edges_t[\"id_2\"] = raw_edges[\"id_1\"]\n",
    "    raw_edges = pd.concat([raw_edges,raw_edges_t])\n",
    "    edges = raw_edges.values.tolist()\n",
    "    graph = nx.from_edgelist(edges)\n",
    "    ind = range(len(graph.nodes()))\n",
    "    degs = [1.0/graph.degree(node) for node in graph.nodes()]\n",
    "    A = transform_features_to_sparse(raw_edges)\n",
    "    degs = sparse.csr_matrix(sparse.coo_matrix((degs, (ind, ind)), shape=A.shape,dtype=np.float32))\n",
    "    A = A.dot(degs)\n",
    "    return A"
   ]
  },
  {
   "cell_type": "code",
   "execution_count": 5,
   "metadata": {},
   "outputs": [],
   "source": [
    "def mapper(x):\n",
    "    if x ==\"politician\":\n",
    "        y = 0\n",
    "    elif x ==\"company\":\n",
    "        y = 1\n",
    "    elif x ==\"government\":\n",
    "        y = 2\n",
    "    else:\n",
    "        y = 3\n",
    "    return y"
   ]
  },
  {
   "cell_type": "code",
   "execution_count": 6,
   "metadata": {},
   "outputs": [],
   "source": [
    "target = target[\"page_type\"].values.tolist()\n",
    "y = np.array([mapper(t) for t in target])\n",
    "A = normalize_adjacency(edges)\n",
    "X = transform_features_to_sparse(features)\n",
    "X_tilde = A.dot(X)"
   ]
  },
  {
   "cell_type": "code",
   "execution_count": 7,
   "metadata": {},
   "outputs": [],
   "source": [
    "def eval_factorization(W,y):\n",
    "    scores = []\n",
    "    for i in range(10):\n",
    "        X_train, X_test, y_train, y_test = train_test_split(W, y, test_size=0.9, random_state = i)\n",
    "        model = LogisticRegression(C=0.01, solver = \"saga\",multi_class = \"auto\")\n",
    "        model.fit(X_train, y_train)\n",
    "        y_pred = model.predict(X_test)\n",
    "        score = f1_score(y_test, y_pred, average = \"weighted\")\n",
    "        scores.append(score)\n",
    "    print(np.mean(scores))\n"
   ]
  },
  {
   "cell_type": "code",
   "execution_count": 8,
   "metadata": {},
   "outputs": [],
   "source": [
    "model = TruncatedSVD(n_components=16, random_state=0)\n",
    "W = model.fit_transform(X)\n",
    "model = TruncatedSVD(n_components=16, random_state=0)\n",
    "W_tilde = model.fit_transform(A)"
   ]
  },
  {
   "cell_type": "code",
   "execution_count": 9,
   "metadata": {},
   "outputs": [
    {
     "name": "stdout",
     "output_type": "stream",
     "text": [
      "0.6071540562439189\n",
      "0.6248426429186396\n"
     ]
    }
   ],
   "source": [
    "eval_factorization(W, y)\n",
    "eval_factorization(np.concatenate([W,W_tilde],axis=1), y)"
   ]
  },
  {
   "cell_type": "code",
   "execution_count": null,
   "metadata": {},
   "outputs": [],
   "source": []
  }
 ],
 "metadata": {
  "kernelspec": {
   "display_name": "Python 3",
   "language": "python",
   "name": "python3"
  },
  "language_info": {
   "codemirror_mode": {
    "name": "ipython",
    "version": 3
   },
   "file_extension": ".py",
   "mimetype": "text/x-python",
   "name": "python",
   "nbconvert_exporter": "python",
   "pygments_lexer": "ipython3",
   "version": "3.6.6"
  }
 },
 "nbformat": 4,
 "nbformat_minor": 1
}
