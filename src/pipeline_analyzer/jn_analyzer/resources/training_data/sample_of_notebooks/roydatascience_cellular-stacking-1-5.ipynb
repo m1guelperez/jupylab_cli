{
 "cells": [
  {
   "cell_type": "markdown",
   "metadata": {},
   "source": [
    "## Stacking the Best Models\n",
    "<pre><b>\n",
    "This Kernel shows how the scores can be improved using Stacking Method.\n",
    "Credit Goes to the following kernels\n",
    "ref:\n",
    "1. https://www.kaggle.com/zaharch/keras-model-boosted-with-plates-leak\n",
    "2. https://www.kaggle.com/xhlulu/recursion-2-headed-efficientnet-2-stage-training\n",
    "3. https://www.kaggle.com/antgoldbloom/doing-inference-using-google-automl\n",
    "</b></pre>"
   ]
  },
  {
   "cell_type": "markdown",
   "metadata": {},
   "source": [
    "## Stat Stack"
   ]
  },
  {
   "cell_type": "code",
   "execution_count": 1,
   "metadata": {
    "_cell_guid": "b1076dfc-b9ad-4769-8c92-a6c4dae69d19",
    "_uuid": "8f2839f25d086af736a60e9eeb907d3b93b6e0e5"
   },
   "outputs": [
    {
     "name": "stdout",
     "output_type": "stream",
     "text": [
      "cellstack\n",
      "recursion-cellular-image-classification\n",
      "\n"
     ]
    }
   ],
   "source": [
    "import os\n",
    "import numpy as np \n",
    "import pandas as pd \n",
    "import matplotlib.pyplot as plt\n",
    "import seaborn as sns\n",
    "%matplotlib inline\n",
    "from subprocess import check_output\n",
    "print(check_output([\"ls\", \"../input\"]).decode(\"utf8\"))"
   ]
  },
  {
   "cell_type": "code",
   "execution_count": 2,
   "metadata": {},
   "outputs": [
    {
     "data": {
      "text/plain": [
       "['../input/cellstack/submission-174.csv',\n",
       " '../input/cellstack/submission-193.csv',\n",
       " '../input/cellstack/submission-201.csv',\n",
       " '../input/cellstack/submission-231.csv']"
      ]
     },
     "execution_count": 2,
     "metadata": {},
     "output_type": "execute_result"
    }
   ],
   "source": [
    "from scipy.stats import rankdata\n",
    "import glob\n",
    "LABELS = [\"sirna\"]\n",
    "all_files = glob.glob(\"../input/cellstack/*.csv\")\n",
    "all_files"
   ]
  },
  {
   "cell_type": "code",
   "execution_count": 3,
   "metadata": {},
   "outputs": [],
   "source": [
    "outs = [pd.read_csv(f, index_col=0) for f in all_files]\n",
    "concat_sub = pd.concat(outs, axis=1)\n",
    "cols = list(map(lambda x: \"m\" + str(x), range(len(concat_sub.columns))))\n",
    "concat_sub.columns = cols\n",
    "concat_sub.reset_index(inplace=True)"
   ]
  },
  {
   "cell_type": "code",
   "execution_count": 4,
   "metadata": {},
   "outputs": [
    {
     "name": "stdout",
     "output_type": "stream",
     "text": [
      "1.0\n",
      "0.819672131147541\n",
      "0.6451612903225806\n",
      "0.4761904761904762\n"
     ]
    },
    {
     "name": "stderr",
     "output_type": "stream",
     "text": [
      "/opt/conda/lib/python3.6/site-packages/pandas/core/series.py:853: RuntimeWarning: divide by zero encountered in log\n",
      "  result = getattr(ufunc, method)(*inputs, **kwargs)\n"
     ]
    }
   ],
   "source": [
    "rank = np.tril(concat_sub.iloc[:,1:].corr().values,-1)\n",
    "m = (rank>0).sum()\n",
    "m_gmean, s = 0, 0\n",
    "for n in range(min(rank.shape[0],m)):\n",
    "    mx = np.unravel_index(rank.argmin(), rank.shape)\n",
    "    w = (m-n)/(m+n/10)\n",
    "    print(w)\n",
    "    m_gmean += w*(np.log(concat_sub.iloc[:,mx[0]+1])+np.log(concat_sub.iloc[:,mx[1]+1]))/2\n",
    "    s += w\n",
    "    rank[mx] = 1\n",
    "m_gmean = np.exp(m_gmean/s).clip(0.0,1.0)"
   ]
  },
  {
   "cell_type": "code",
   "execution_count": 5,
   "metadata": {},
   "outputs": [],
   "source": [
    "predict_list = []\n",
    "predict_list.append(pd.read_csv(\"../input/cellstack/submission-174.csv\")[LABELS].values)\n",
    "predict_list.append(pd.read_csv(\"../input/cellstack/submission-201.csv\")[LABELS].values)\n",
    "predict_list.append(pd.read_csv(\"../input/cellstack/submission-231.csv\")[LABELS].values)"
   ]
  },
  {
   "cell_type": "code",
   "execution_count": 6,
   "metadata": {},
   "outputs": [
    {
     "name": "stdout",
     "output_type": "stream",
     "text": [
      "Rank averaging on  3  files\n"
     ]
    }
   ],
   "source": [
    "import warnings\n",
    "warnings.filterwarnings(\"ignore\")\n",
    "print(\"Rank averaging on \", len(predict_list), \" files\")\n",
    "predictions = np.zeros_like(predict_list[0])\n",
    "for predict in predict_list:\n",
    "    for i in range(1):\n",
    "        predictions[:, i] = np.add(predictions[:, i], rankdata(predict[:, i])/predictions.shape[0])  \n",
    "\n",
    "predictions = predictions /len(predict_list)\n",
    "\n",
    "submission = pd.read_csv('../input/recursion-cellular-image-classification/sample_submission.csv')\n",
    "submission[LABELS] = predictions\n",
    "submission.to_csv('AggStacker.csv', index=False)"
   ]
  },
  {
   "cell_type": "code",
   "execution_count": 7,
   "metadata": {},
   "outputs": [
    {
     "data": {
      "text/plain": [
       "['submission-174.csv',\n",
       " 'submission-193.csv',\n",
       " 'submission-201.csv',\n",
       " 'submission-231.csv']"
      ]
     },
     "execution_count": 7,
     "metadata": {},
     "output_type": "execute_result"
    }
   ],
   "source": [
    "sub_path = \"../input/cellstack\"\n",
    "all_files = os.listdir(sub_path)\n",
    "all_files"
   ]
  },
  {
   "cell_type": "code",
   "execution_count": 8,
   "metadata": {
    "_cell_guid": "79c7e3d0-c299-4dcb-8224-4455121ee9b0",
    "_uuid": "d629ff2d2480ee46fbb7e2d37f6b5fab8052498a"
   },
   "outputs": [],
   "source": [
    "import warnings\n",
    "warnings.filterwarnings(\"ignore\")\n",
    "outs = [pd.read_csv(os.path.join(sub_path, f), index_col=0) for f in all_files]\n",
    "concat_sub = pd.concat(outs, axis=1)\n",
    "cols = list(map(lambda x: \"var\" + str(x), range(len(concat_sub.columns))))\n",
    "concat_sub.columns = cols\n",
    "concat_sub.reset_index(inplace=True)\n",
    "concat_sub.head()\n",
    "ncol = concat_sub.shape[1]"
   ]
  },
  {
   "cell_type": "code",
   "execution_count": 9,
   "metadata": {},
   "outputs": [
    {
     "data": {
      "text/html": [
       "<div>\n",
       "<style scoped>\n",
       "    .dataframe tbody tr th:only-of-type {\n",
       "        vertical-align: middle;\n",
       "    }\n",
       "\n",
       "    .dataframe tbody tr th {\n",
       "        vertical-align: top;\n",
       "    }\n",
       "\n",
       "    .dataframe thead th {\n",
       "        text-align: right;\n",
       "    }\n",
       "</style>\n",
       "<table border=\"1\" class=\"dataframe\">\n",
       "  <thead>\n",
       "    <tr style=\"text-align: right;\">\n",
       "      <th></th>\n",
       "      <th>var0</th>\n",
       "      <th>var1</th>\n",
       "      <th>var2</th>\n",
       "      <th>var3</th>\n",
       "    </tr>\n",
       "  </thead>\n",
       "  <tbody>\n",
       "    <tr>\n",
       "      <th>var0</th>\n",
       "      <td>1.000000</td>\n",
       "      <td>0.155259</td>\n",
       "      <td>0.191232</td>\n",
       "      <td>0.195601</td>\n",
       "    </tr>\n",
       "    <tr>\n",
       "      <th>var1</th>\n",
       "      <td>0.155259</td>\n",
       "      <td>1.000000</td>\n",
       "      <td>0.243492</td>\n",
       "      <td>0.237270</td>\n",
       "    </tr>\n",
       "    <tr>\n",
       "      <th>var2</th>\n",
       "      <td>0.191232</td>\n",
       "      <td>0.243492</td>\n",
       "      <td>1.000000</td>\n",
       "      <td>0.232355</td>\n",
       "    </tr>\n",
       "    <tr>\n",
       "      <th>var3</th>\n",
       "      <td>0.195601</td>\n",
       "      <td>0.237270</td>\n",
       "      <td>0.232355</td>\n",
       "      <td>1.000000</td>\n",
       "    </tr>\n",
       "  </tbody>\n",
       "</table>\n",
       "</div>"
      ],
      "text/plain": [
       "          var0      var1      var2      var3\n",
       "var0  1.000000  0.155259  0.191232  0.195601\n",
       "var1  0.155259  1.000000  0.243492  0.237270\n",
       "var2  0.191232  0.243492  1.000000  0.232355\n",
       "var3  0.195601  0.237270  0.232355  1.000000"
      ]
     },
     "execution_count": 9,
     "metadata": {},
     "output_type": "execute_result"
    }
   ],
   "source": [
    "# check correlation\n",
    "concat_sub.iloc[:,1:ncol].corr()"
   ]
  },
  {
   "cell_type": "code",
   "execution_count": 10,
   "metadata": {},
   "outputs": [
    {
     "data": {
      "text/plain": [
       "<matplotlib.axes._subplots.AxesSubplot at 0x7faf2ed20dd8>"
      ]
     },
     "execution_count": 10,
     "metadata": {},
     "output_type": "execute_result"
    },
    {
     "data": {
      "image/png": "[encoded data removed]",
      "text/plain": [
       "<Figure size 792x648 with 2 Axes>"
      ]
     },
     "metadata": {
      "needs_background": "light"
     },
     "output_type": "display_data"
    }
   ],
   "source": [
    "corr = concat_sub.iloc[:,1:7].corr()\n",
    "mask = np.zeros_like(corr, dtype=np.bool)\n",
    "mask[np.triu_indices_from(mask)] = True\n",
    "\n",
    "# Set up the matplotlib figure\n",
    "f, ax = plt.subplots(figsize=(11, 9))\n",
    "\n",
    "# Generate a custom diverging colormap\n",
    "cmap = sns.diverging_palette(220, 10, as_cmap=True)\n",
    "\n",
    "# Draw the heatmap with the mask and correct aspect ratio\n",
    "sns.heatmap(corr, mask=mask, cmap=cmap, vmax=.3, center=0,\n",
    "            square=True, linewidths=.5, cbar_kws={\"shrink\": .5})"
   ]
  },
  {
   "cell_type": "code",
   "execution_count": 11,
   "metadata": {},
   "outputs": [],
   "source": [
    "# get the data fields ready for stacking\n",
    "concat_sub['m_max'] = concat_sub.iloc[:, 1:ncol].max(axis=1)\n",
    "concat_sub['m_min'] = concat_sub.iloc[:, 1:ncol].min(axis=1)\n",
    "concat_sub['m_median'] = concat_sub.iloc[:, 1:ncol].median(axis=1)"
   ]
  },
  {
   "cell_type": "code",
   "execution_count": 12,
   "metadata": {},
   "outputs": [
    {
     "data": {
      "text/html": [
       "<div>\n",
       "<style scoped>\n",
       "    .dataframe tbody tr th:only-of-type {\n",
       "        vertical-align: middle;\n",
       "    }\n",
       "\n",
       "    .dataframe tbody tr th {\n",
       "        vertical-align: top;\n",
       "    }\n",
       "\n",
       "    .dataframe thead th {\n",
       "        text-align: right;\n",
       "    }\n",
       "</style>\n",
       "<table border=\"1\" class=\"dataframe\">\n",
       "  <thead>\n",
       "    <tr style=\"text-align: right;\">\n",
       "      <th></th>\n",
       "      <th>var0</th>\n",
       "      <th>var1</th>\n",
       "      <th>var2</th>\n",
       "      <th>var3</th>\n",
       "      <th>m_max</th>\n",
       "      <th>m_min</th>\n",
       "      <th>m_median</th>\n",
       "    </tr>\n",
       "  </thead>\n",
       "  <tbody>\n",
       "    <tr>\n",
       "      <th>count</th>\n",
       "      <td>19897.000000</td>\n",
       "      <td>19897.000000</td>\n",
       "      <td>19897.000000</td>\n",
       "      <td>19897.000000</td>\n",
       "      <td>19897.000000</td>\n",
       "      <td>19897.000000</td>\n",
       "      <td>19897.000000</td>\n",
       "    </tr>\n",
       "    <tr>\n",
       "      <th>mean</th>\n",
       "      <td>676.155702</td>\n",
       "      <td>543.729457</td>\n",
       "      <td>560.524200</td>\n",
       "      <td>554.542896</td>\n",
       "      <td>864.565814</td>\n",
       "      <td>309.833342</td>\n",
       "      <td>580.276549</td>\n",
       "    </tr>\n",
       "    <tr>\n",
       "      <th>std</th>\n",
       "      <td>365.592197</td>\n",
       "      <td>313.796791</td>\n",
       "      <td>312.046642</td>\n",
       "      <td>320.031087</td>\n",
       "      <td>260.673533</td>\n",
       "      <td>248.020554</td>\n",
       "      <td>250.070307</td>\n",
       "    </tr>\n",
       "    <tr>\n",
       "      <th>min</th>\n",
       "      <td>0.000000</td>\n",
       "      <td>0.000000</td>\n",
       "      <td>0.000000</td>\n",
       "      <td>0.000000</td>\n",
       "      <td>0.000000</td>\n",
       "      <td>0.000000</td>\n",
       "      <td>0.000000</td>\n",
       "    </tr>\n",
       "    <tr>\n",
       "      <th>25%</th>\n",
       "      <td>354.000000</td>\n",
       "      <td>291.000000</td>\n",
       "      <td>303.000000</td>\n",
       "      <td>278.000000</td>\n",
       "      <td>720.000000</td>\n",
       "      <td>114.000000</td>\n",
       "      <td>402.000000</td>\n",
       "    </tr>\n",
       "    <tr>\n",
       "      <th>50%</th>\n",
       "      <td>704.000000</td>\n",
       "      <td>536.000000</td>\n",
       "      <td>556.000000</td>\n",
       "      <td>544.000000</td>\n",
       "      <td>948.000000</td>\n",
       "      <td>255.000000</td>\n",
       "      <td>585.000000</td>\n",
       "    </tr>\n",
       "    <tr>\n",
       "      <th>75%</th>\n",
       "      <td>1064.000000</td>\n",
       "      <td>810.000000</td>\n",
       "      <td>822.000000</td>\n",
       "      <td>835.000000</td>\n",
       "      <td>1092.000000</td>\n",
       "      <td>444.000000</td>\n",
       "      <td>766.000000</td>\n",
       "    </tr>\n",
       "    <tr>\n",
       "      <th>max</th>\n",
       "      <td>1108.000000</td>\n",
       "      <td>1107.000000</td>\n",
       "      <td>1107.000000</td>\n",
       "      <td>1107.000000</td>\n",
       "      <td>1108.000000</td>\n",
       "      <td>1103.000000</td>\n",
       "      <td>1106.000000</td>\n",
       "    </tr>\n",
       "  </tbody>\n",
       "</table>\n",
       "</div>"
      ],
      "text/plain": [
       "               var0          var1          var2          var3         m_max  \\\n",
       "count  19897.000000  19897.000000  19897.000000  19897.000000  19897.000000   \n",
       "mean     676.155702    543.729457    560.524200    554.542896    864.565814   \n",
       "std      365.592197    313.796791    312.046642    320.031087    260.673533   \n",
       "min        0.000000      0.000000      0.000000      0.000000      0.000000   \n",
       "25%      354.000000    291.000000    303.000000    278.000000    720.000000   \n",
       "50%      704.000000    536.000000    556.000000    544.000000    948.000000   \n",
       "75%     1064.000000    810.000000    822.000000    835.000000   1092.000000   \n",
       "max     1108.000000   1107.000000   1107.000000   1107.000000   1108.000000   \n",
       "\n",
       "              m_min      m_median  \n",
       "count  19897.000000  19897.000000  \n",
       "mean     309.833342    580.276549  \n",
       "std      248.020554    250.070307  \n",
       "min        0.000000      0.000000  \n",
       "25%      114.000000    402.000000  \n",
       "50%      255.000000    585.000000  \n",
       "75%      444.000000    766.000000  \n",
       "max     1103.000000   1106.000000  "
      ]
     },
     "execution_count": 12,
     "metadata": {},
     "output_type": "execute_result"
    }
   ],
   "source": [
    "concat_sub.describe()"
   ]
  },
  {
   "cell_type": "code",
   "execution_count": 13,
   "metadata": {},
   "outputs": [],
   "source": [
    "cutoff_lo = 0.8\n",
    "cutoff_hi = 0.2"
   ]
  },
  {
   "cell_type": "markdown",
   "metadata": {},
   "source": [
    "# Mean Stacking"
   ]
  },
  {
   "cell_type": "code",
   "execution_count": 14,
   "metadata": {},
   "outputs": [],
   "source": [
    "concat_sub['sirna'] = m_gmean.astype(int)\n",
    "concat_sub[['id_code','sirna']].to_csv('stack_mean.csv', \n",
    "                                        index=False, float_format='%.6f')"
   ]
  },
  {
   "cell_type": "markdown",
   "metadata": {},
   "source": [
    "# Median Stacking"
   ]
  },
  {
   "cell_type": "code",
   "execution_count": 15,
   "metadata": {},
   "outputs": [],
   "source": [
    "concat_sub['sirna']  = concat_sub['m_median'].astype(int)\n",
    "concat_sub[['id_code','sirna']].to_csv('stack_median.csv', \n",
    "                                        index=False, float_format='%.6f')"
   ]
  },
  {
   "cell_type": "markdown",
   "metadata": {},
   "source": [
    "# Pushout + Median Stacking\n",
    ">* Pushout strategy is bit aggresive"
   ]
  },
  {
   "cell_type": "code",
   "execution_count": 16,
   "metadata": {},
   "outputs": [],
   "source": [
    "concat_sub['sirna']  = np.where(np.all(concat_sub.iloc[:,1:ncol] > cutoff_lo, axis=1), 1, \n",
    "                                    np.where(np.all(concat_sub.iloc[:,1:ncol] < cutoff_hi, axis=1),\n",
    "                                             0, concat_sub['m_median']))\n",
    "concat_sub[['id_code','sirna']].to_csv('stack_pushout_median.csv', \n",
    "                                        index=False, float_format='%.6f')"
   ]
  },
  {
   "cell_type": "markdown",
   "metadata": {},
   "source": [
    "# MinMax + Mean Stacking\n",
    ">* MinMax seems more gentle and it outperforms the previous one"
   ]
  },
  {
   "cell_type": "code",
   "execution_count": 17,
   "metadata": {},
   "outputs": [],
   "source": [
    "concat_sub['m_mean'] = m_gmean.astype(int)\n",
    "concat_sub['sirna']  = np.where(np.all(concat_sub.iloc[:,1:ncol] > cutoff_lo, axis=1), \n",
    "                                    concat_sub['m_max'], \n",
    "                                    np.where(np.all(concat_sub.iloc[:,1:ncol] < cutoff_hi, axis=1),\n",
    "                                             concat_sub['m_min'], \n",
    "                                             concat_sub['m_mean'])).astype(int)\n",
    "concat_sub[['id_code','sirna']].to_csv('stack_minmax_mean.csv', \n",
    "                                        index=False, float_format='%.6f')"
   ]
  },
  {
   "cell_type": "markdown",
   "metadata": {},
   "source": [
    "# MinMax + Median Stacking"
   ]
  },
  {
   "cell_type": "code",
   "execution_count": 18,
   "metadata": {},
   "outputs": [],
   "source": [
    "concat_sub['sirna'] = np.where(np.all(concat_sub.iloc[:,1:ncol] > cutoff_lo, axis=1), \n",
    "                                    concat_sub['m_max'], \n",
    "                                    np.where(np.all(concat_sub.iloc[:,1:ncol] < cutoff_hi, axis=1),\n",
    "                                             concat_sub['m_min'], \n",
    "                                             concat_sub['m_median'])).astype(int)\n",
    "concat_sub[['id_code','sirna']].to_csv('stack_minmax_median.csv', \n",
    "                                        index=False, float_format='%.6f')"
   ]
  }
 ],
 "metadata": {
  "kernelspec": {
   "display_name": "Python 3",
   "language": "python",
   "name": "python3"
  },
  "language_info": {
   "codemirror_mode": {
    "name": "ipython",
    "version": 3
   },
   "file_extension": ".py",
   "mimetype": "text/x-python",
   "name": "python",
   "nbconvert_exporter": "python",
   "pygments_lexer": "ipython3",
   "version": "3.6.6"
  }
 },
 "nbformat": 4,
 "nbformat_minor": 1
}
