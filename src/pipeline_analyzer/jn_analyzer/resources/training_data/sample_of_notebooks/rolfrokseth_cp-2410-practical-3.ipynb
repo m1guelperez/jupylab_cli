{
 "cells": [
  {
   "cell_type": "markdown",
   "metadata": {},
   "source": [
    "# Question 1"
   ]
  },
  {
   "cell_type": "code",
   "execution_count": 1,
   "metadata": {},
   "outputs": [
    {
     "name": "stdout",
     "output_type": "stream",
     "text": [
      "1\n",
      "2\n",
      "3\n",
      "5\n",
      "6\n",
      "90\n"
     ]
    }
   ],
   "source": [
    "# Q.1 \n",
    "n = 0\n",
    "h = 0\n",
    "s = [1,2,3,5,6,4,90,40,50]\n",
    "def maxElement (s,n,h):\n",
    "    if len(s) == n:\n",
    "        return s\n",
    "    else:\n",
    "        s_value = s[n]\n",
    "        if s_value > h:\n",
    "            h = s_value\n",
    "            print(h)\n",
    "    if n != len(s):\n",
    "        maxElement(s, n + 1,h)\n",
    "            \n",
    "maxElement(s,n,h)"
   ]
  },
  {
   "cell_type": "markdown",
   "metadata": {},
   "source": [
    "# Question 2"
   ]
  },
  {
   "cell_type": "code",
   "execution_count": 2,
   "metadata": {},
   "outputs": [
    {
     "data": {
      "text/plain": [
       "32"
      ]
     },
     "execution_count": 2,
     "metadata": {},
     "output_type": "execute_result"
    }
   ],
   "source": [
    "def power (x,n):\n",
    "    if n==0:\n",
    "        return 1\n",
    "    else:\n",
    "        return x * power(x, n-1)\n",
    "power(2,5)"
   ]
  },
  {
   "cell_type": "markdown",
   "metadata": {},
   "source": [
    "# Question 3"
   ]
  },
  {
   "cell_type": "code",
   "execution_count": 3,
   "metadata": {},
   "outputs": [
    {
     "data": {
      "text/plain": [
       "262144"
      ]
     },
     "execution_count": 3,
     "metadata": {},
     "output_type": "execute_result"
    }
   ],
   "source": [
    "def power (x,n):\n",
    "    if n==0:\n",
    "        return 1\n",
    "    else:\n",
    "        partial = power(x, n // 2)\n",
    "        result = partial * partial\n",
    "        if n % 2 == 1:\n",
    "            result *= x\n",
    "        return result\n",
    "\n",
    "power(2,18)"
   ]
  },
  {
   "cell_type": "markdown",
   "metadata": {},
   "source": [
    "# Question 4"
   ]
  },
  {
   "cell_type": "code",
   "execution_count": 4,
   "metadata": {
    "_uuid": "6afe8ec4b46bebd4d6a47ace9ce7138188560007"
   },
   "outputs": [
    {
     "data": {
      "text/plain": [
       "10"
      ]
     },
     "execution_count": 4,
     "metadata": {},
     "output_type": "execute_result"
    }
   ],
   "source": [
    "# Q.4\n",
    "\n",
    "def product(m,n):\n",
    "    if m == 1:\n",
    "        return n\n",
    "    elif n == 1:\n",
    "            return m\n",
    "    else:\n",
    "        return m + product(m,n-1)\n",
    "    \n",
    "product(5,2)\n",
    "\n",
    "\n",
    "\n"
   ]
  },
  {
   "cell_type": "code",
   "execution_count": 5,
   "metadata": {},
   "outputs": [],
   "source": [
    "import ctypes                                      # provides low-level arrays\n",
    "\n",
    "class DynamicArray():\n",
    "  \"\"\"A dynamic array class akin to a simplified Python list.\"\"\"\n",
    "\n",
    "  def __init__(self):\n",
    "    \"\"\"Create an empty array.\"\"\"\n",
    "    self._n = 0                                    # count actual elements\n",
    "    self._capacity = 1                             # default array capacity\n",
    "    self._A = self._make_array(self._capacity)     # low-level array\n",
    "    \n",
    "  def __len__(self):\n",
    "    \"\"\"Return number of elements stored in the array.\"\"\"\n",
    "    return self._n\n",
    "    \n",
    "  def __getitem__(self, k):\n",
    "    \"\"\"Return element at index k.\"\"\"\n",
    "    if not 0 <= k < self._n:\n",
    "      raise IndexError('invalid index')\n",
    "    return self._A[k]                              # retrieve from array\n",
    "  \n",
    "  def append(self, obj):\n",
    "    \"\"\"Add object to end of the array.\"\"\"\n",
    "    if self._n == self._capacity:                  # not enough room\n",
    "      self._resize(2 * self._capacity)             # so double capacity\n",
    "    self._A[self._n] = obj\n",
    "    self._n += 1\n",
    "\n",
    "  def _resize(self, c):                            # nonpublic utitity\n",
    "    \"\"\"Resize internal array to capacity c.\"\"\"\n",
    "    B = self._make_array(c)                        # new (bigger) array\n",
    "    for k in range(self._n):                       # for each existing value\n",
    "      B[k] = self._A[k]\n",
    "    self._A = B                                    # use the bigger array\n",
    "    self._capacity = c\n",
    "\n",
    "  def _make_array(self, c):                        # nonpublic utitity\n",
    "     \"\"\"Return new array with capacity c.\"\"\"   \n",
    "     return (c * ctypes.py_object)()               # see ctypes documentation\n",
    "\n",
    "  def insert(self, k, value):\n",
    "    \"\"\"Insert value at index k, shifting subsequent values rightward.\"\"\"\n",
    "    # (for simplicity, we assume 0 <= k <= n in this verion)\n",
    "    if self._n == self._capacity:                  # not enough room\n",
    "      self._resize(2 * self._capacity)             # so double capacity\n",
    "    for j in range(self._n, k, -1):                # shift rightmost first\n",
    "      self._A[j] = self._A[j-1]\n",
    "    self._A[k] = value                             # store newest element\n",
    "    self._n += 1\n",
    "\n",
    "  def remove(self, value):\n",
    "    \"\"\"Remove first occurrence of value (or raise ValueError).\"\"\"\n",
    "    # note: we do not consider shrinking the dynamic array in this version\n",
    "    for k in range(self._n):\n",
    "      if self._A[k] == value:              # found a match!\n",
    "        for j in range(k, self._n - 1):    # shift others to fill gap\n",
    "          self._A[j] = self._A[j+1]\n",
    "        self._A[self._n - 1] = None        # help garbage collection\n",
    "        self._n -= 1                       # we have one less item\n",
    "        return                             # exit immediately\n",
    "    raise ValueError('value not found')    # only reached if no match\n",
    "    "
   ]
  },
  {
   "cell_type": "markdown",
   "metadata": {},
   "source": [
    "# Question 5"
   ]
  },
  {
   "cell_type": "code",
   "execution_count": 6,
   "metadata": {},
   "outputs": [
    {
     "name": "stdout",
     "output_type": "stream",
     "text": [
      "Average of 13.375 for n 10\n",
      "Average of 2.170 for n 100\n",
      "Average of 1.096 for n 1000\n",
      "Average of 0.954 for n 10000\n",
      "Average of 0.886 for n 100000\n",
      "Average of 0.779 for n 1000000\n",
      "Average of 0.903 for n 10000000\n"
     ]
    }
   ],
   "source": [
    "import sys\n",
    "from time import time\n",
    "\n",
    "try:\n",
    "    maxN = int(sys.argv[1])\n",
    "except:\n",
    "    maxN = 10000000\n",
    "\n",
    "from time import time            # import time function from time module\n",
    "def compute_average(n):\n",
    "  \"\"\"Perform n appends to an empty list and return average time elapsed.\"\"\"\n",
    "  data = DynamicArray()\n",
    "  start = time()                 # record the start time (in seconds)\n",
    "  for k in range(n):\n",
    "    data.append(None)\n",
    "  end = time()                   # record the end time (in seconds)\n",
    "  return (end - start) / n       # compute average per operation\n",
    "\n",
    "n = 10\n",
    "while n <= maxN:\n",
    "  print('Average of {0:.3f} for n {1}'.format(compute_average(n)*1000000, n))\n",
    "  n *= 10"
   ]
  },
  {
   "cell_type": "markdown",
   "metadata": {},
   "source": [
    "# Question 6"
   ]
  },
  {
   "cell_type": "code",
   "execution_count": 7,
   "metadata": {
    "_uuid": "a507fa8af2d304b53bcb3173bc21d49813703bbd"
   },
   "outputs": [
    {
     "name": "stdout",
     "output_type": "stream",
     "text": [
      "Resize Num 2\n",
      "Average of 14.615 for n 10\n",
      "Average of 1.626 for n 100\n",
      "Average of 0.849 for n 1000\n",
      "Average of 0.952 for n 10000\n",
      "Average of 0.899 for n 100000\n",
      "Average of 0.768 for n 1000000\n",
      "Average of 0.912 for n 10000000\n",
      "Resize Num 4\n",
      "Average of 7.915 for n 10\n",
      "Average of 1.240 for n 100\n",
      "Average of 0.672 for n 1000\n",
      "Average of 0.804 for n 10000\n",
      "Average of 0.859 for n 100000\n",
      "Average of 0.661 for n 1000000\n",
      "Average of 0.722 for n 10000000\n",
      "Resize Num 8\n",
      "Average of 13.423 for n 10\n",
      "Average of 1.240 for n 100\n",
      "Average of 0.744 for n 1000\n",
      "Average of 0.739 for n 10000\n",
      "Average of 0.692 for n 100000\n",
      "Average of 0.670 for n 1000000\n",
      "Average of 0.641 for n 10000000\n"
     ]
    }
   ],
   "source": [
    "#Q.6\n",
    "\n",
    "import ctypes                                      # provides low-level arrays\n",
    "\n",
    "import sys\n",
    "from time import time\n",
    "\n",
    "class ResizeDynamicArray(DynamicArray):\n",
    "    def __init__(self, resize_factor):\n",
    "        super().__init__()\n",
    "        self.resize_factor = resize_factor\n",
    "    \n",
    "    def append(self, obj):\n",
    "        \"\"\"Add object to end of the array.\"\"\"\n",
    "        if self._n == self._capacity:                  # not enough room\n",
    "              self._resize(int(self.resize_factor * self._capacity) + 1)             # so double capacity\n",
    "        self._A[self._n] = obj\n",
    "        self._n += 1\n",
    "\n",
    "\n",
    "\n",
    "try:\n",
    "    maxN = int(sys.argv[1])\n",
    "except:\n",
    "    maxN = 10000000\n",
    "\n",
    "from time import time            # import time function from time module\n",
    "def compute_average_resize(n, resize_num):\n",
    "  \"\"\"Perform n appends to an empty list and return average time elapsed.\"\"\"\n",
    "  data = ResizeDynamicArray(resize_num)\n",
    "  start = time()                 # record the start time (in seconds)\n",
    "  for k in range(n):\n",
    "    data.append(None)\n",
    "  end = time()                   # record the end time (in seconds)\n",
    "  return (end - start) / n       # compute average per operation\n",
    "\n",
    "\n",
    "def calc_resize_avg(resize_num):\n",
    "    n = 10\n",
    "    print('Resize Num {0}'.format(resize_num))\n",
    "    while n <= maxN:\n",
    "      print('Average of {0:.3f} for n {1}'.format(compute_average_resize(n,resize_num)*1000000, n))\n",
    "      n *= 10\n",
    "\n",
    "calc_resize_avg(2)\n",
    "calc_resize_avg(4)\n",
    "calc_resize_avg(8)\n"
   ]
  }
 ],
 "metadata": {
  "kernelspec": {
   "display_name": "Python 3",
   "language": "python",
   "name": "python3"
  },
  "language_info": {
   "codemirror_mode": {
    "name": "ipython",
    "version": 3
   },
   "file_extension": ".py",
   "mimetype": "text/x-python",
   "name": "python",
   "nbconvert_exporter": "python",
   "pygments_lexer": "ipython3",
   "version": "3.6.6"
  }
 },
 "nbformat": 4,
 "nbformat_minor": 1
}
