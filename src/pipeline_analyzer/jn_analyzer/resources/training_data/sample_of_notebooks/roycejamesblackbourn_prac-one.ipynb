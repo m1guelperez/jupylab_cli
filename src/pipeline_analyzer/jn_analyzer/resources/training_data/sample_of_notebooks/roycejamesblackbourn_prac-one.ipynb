{
 "cells": [
  {
   "cell_type": "code",
   "execution_count": 1,
   "metadata": {
    "_cell_guid": "b1076dfc-b9ad-4769-8c92-a6c4dae69d19",
    "_uuid": "8f2839f25d086af736a60e9eeb907d3b93b6e0e5"
   },
   "outputs": [
    {
     "name": "stdout",
     "output_type": "stream",
     "text": [
      "True\n",
      "[1, 2, 4, 8, 16, 32, 64, 128, 256]\n",
      "False\n",
      "[1.0, 1.5, 1.8333333333333333, 2.083333333333333, 2.283333333333333, 2.4499999999999997, 2.5928571428571425, 2.7178571428571425, 2.8289682539682537, 2.9289682539682538]\n"
     ]
    }
   ],
   "source": [
    "# Question 1\n",
    "def isMultiple(n, m):\n",
    "    return m % n == 0;\n",
    "    \n",
    "print(isMultiple(5, 25))\n",
    "\n",
    "# Question 2\n",
    "def powerOfTwo():\n",
    "    twoList = [2**i for i in range(9)]\n",
    "    print(twoList)\n",
    "\n",
    "powerOfTwo()\n",
    "\n",
    "# Question 3\n",
    "def distinctChecker(numList):\n",
    "    counter = 0\n",
    "    # for each number\n",
    "    for i in range(0, len(numList) - 1):\n",
    "        for j in range(i + 1, len(numList)):  \n",
    "            if str(numList[i]) == str(numList[j]):\n",
    "                return False\n",
    "    \n",
    "    return True\n",
    "    \n",
    "        \n",
    "print(distinctChecker([3, 1, 670, 4, 8, 9, 670]))\n",
    "\n",
    "# Question 4\n",
    "def harmonic_gen(n):\n",
    "        \n",
    "    h = 0\n",
    "    for i in range(1, n + 1):\n",
    "        h += 1 / i\n",
    "        yield h\n",
    "\n",
    "new_list = []\n",
    "for value in harmonic_gen(10):\n",
    "    new_list.append(value)\n",
    "    \n",
    "print(new_list)"
   ]
  },
  {
   "cell_type": "code",
   "execution_count": null,
   "metadata": {},
   "outputs": [],
   "source": []
  }
 ],
 "metadata": {
  "kernelspec": {
   "display_name": "Python 3",
   "language": "python",
   "name": "python3"
  },
  "language_info": {
   "codemirror_mode": {
    "name": "ipython",
    "version": 3
   },
   "file_extension": ".py",
   "mimetype": "text/x-python",
   "name": "python",
   "nbconvert_exporter": "python",
   "pygments_lexer": "ipython3",
   "version": "3.6.6"
  }
 },
 "nbformat": 4,
 "nbformat_minor": 4
}
