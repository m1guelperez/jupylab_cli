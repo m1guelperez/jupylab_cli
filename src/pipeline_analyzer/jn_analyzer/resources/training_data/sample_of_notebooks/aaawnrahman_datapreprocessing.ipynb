{
 "cells": [
  {
   "cell_type": "code",
   "execution_count": 1,
   "metadata": {
    "_cell_guid": "b1076dfc-b9ad-4769-8c92-a6c4dae69d19",
    "_uuid": "8f2839f25d086af736a60e9eeb907d3b93b6e0e5"
   },
   "outputs": [
    {
     "name": "stdout",
     "output_type": "stream",
     "text": [
      "['thesisda', 'thesisdata']\n"
     ]
    }
   ],
   "source": [
    "# This Python 3 environment comes with many helpful analytics libraries installed\n",
    "# It is defined by the kaggle/python docker image: https://github.com/kaggle/docker-python\n",
    "# For example, here's several helpful packages to load in \n",
    "\n",
    "import numpy as np # linear algebra\n",
    "import pandas as pd # data processing, CSV file I/O (e.g. pd.read_csv)\n",
    "\n",
    "# Input data files are available in the \"../input/\" directory.\n",
    "# For example, running this (by clicking run or pressing Shift+Enter) will list the files in the input directory\n",
    "\n",
    "import os\n",
    "print(os.listdir(\"../input\"))\n",
    "\n",
    "# Any results you write to the current directory are saved as output."
   ]
  },
  {
   "cell_type": "code",
   "execution_count": 2,
   "metadata": {
    "_cell_guid": "79c7e3d0-c299-4dcb-8224-4455121ee9b0",
    "_uuid": "d629ff2d2480ee46fbb7e2d37f6b5fab8052498a"
   },
   "outputs": [
    {
     "name": "stdout",
     "output_type": "stream",
     "text": [
      "      id  'age'   'bp'   'sg'  'al'   ...    'cad' 'appet' 'pe' 'ane' 'class'\n",
      "0      1   48.0   80.0  1.020   1.0   ...       no    good   no    no     ckd\n",
      "1      2    7.0   50.0  1.020   4.0   ...       no    good   no    no     ckd\n",
      "2      3   62.0   80.0  1.010   2.0   ...       no    poor   no   yes     ckd\n",
      "3      4   48.0   70.0  1.005   4.0   ...       no    poor  yes   yes     ckd\n",
      "4      5   51.0   80.0  1.010   2.0   ...       no    good   no    no     ckd\n",
      "5      6   60.0   90.0  1.015   3.0   ...       no    good  yes    no     ckd\n",
      "6      7   68.0   70.0  1.010   0.0   ...       no    good   no    no     ckd\n",
      "7      8   24.0    NaN  1.015   2.0   ...       no    good  yes    no     ckd\n",
      "8      9   52.0  100.0  1.015   3.0   ...       no    good   no   yes     ckd\n",
      "9     10   53.0   90.0  1.020   2.0   ...       no    poor   no   yes     ckd\n",
      "10    11   50.0   60.0  1.010   2.0   ...       no    good   no   yes     ckd\n",
      "11    12   63.0   70.0  1.010   3.0   ...       no    poor  yes    no     ckd\n",
      "12    13   68.0   70.0  1.015   3.0   ...      yes    poor  yes    no     ckd\n",
      "13    14   68.0   70.0    NaN   NaN   ...      yes    poor  yes    no     ckd\n",
      "14    15   68.0   80.0  1.010   3.0   ...      yes    poor  yes    no     ckd\n",
      "15    16   40.0   80.0  1.015   3.0   ...       no    good   no   yes     ckd\n",
      "16    17   47.0   70.0  1.015   2.0   ...       no    good   no    no     ckd\n",
      "17    18   47.0   80.0    NaN   NaN   ...       no    poor   no    no     ckd\n",
      "18    19   60.0  100.0  1.025   0.0   ...      yes    good   no    no     ckd\n",
      "19    20   62.0   60.0  1.015   1.0   ...      yes    good   no    no     ckd\n",
      "20    21   61.0   80.0  1.015   2.0   ...      yes    poor  yes   yes     ckd\n",
      "21    22   60.0   90.0    NaN   NaN   ...      yes    good   no    no     ckd\n",
      "22    23   48.0   80.0  1.025   4.0   ...       no    good   no   yes     ckd\n",
      "23    24   21.0   70.0  1.010   0.0   ...       no    poor   no   yes     ckd\n",
      "24    25   42.0  100.0  1.015   4.0   ...       no    poor   no    no     ckd\n",
      "25    26   61.0   60.0  1.025   0.0   ...       no    good   no   yes     ckd\n",
      "26    27   75.0   80.0  1.015   0.0   ...       no    poor   no    no     ckd\n",
      "27    28   69.0   70.0  1.010   3.0   ...      yes    good  yes    no     ckd\n",
      "28    29   75.0   70.0    NaN   1.0   ...       no    good   no    no     ckd\n",
      "29    30   68.0   70.0  1.005   1.0   ...      yes    good   no    no     ckd\n",
      "..   ...    ...    ...    ...   ...   ...      ...     ...  ...   ...     ...\n",
      "370  371   69.0   70.0  1.020   0.0   ...       no    good   no    no  notckd\n",
      "371  372   28.0   60.0  1.025   0.0   ...       no    good   no    no  notckd\n",
      "372  373   72.0   60.0  1.020   0.0   ...       no    good   no    no  notckd\n",
      "373  374   61.0   70.0  1.025   0.0   ...       no    good   no    no  notckd\n",
      "374  375   79.0   80.0  1.025   0.0   ...       no    good   no    no  notckd\n",
      "375  376   70.0   80.0  1.020   0.0   ...       no    good   no    no  notckd\n",
      "376  377   58.0   70.0  1.025   0.0   ...       no    good   no    no  notckd\n",
      "377  378   64.0   70.0  1.020   0.0   ...       no    good   no    no  notckd\n",
      "378  379   71.0   60.0  1.025   0.0   ...       no    good   no    no  notckd\n",
      "379  380   62.0   80.0  1.025   0.0   ...       no    good   no    no  notckd\n",
      "380  381   59.0   60.0  1.020   0.0   ...       no    good   no    no  notckd\n",
      "381  382   71.0   70.0  1.025   0.0   ...       no    good   no    no  notckd\n",
      "382  383   48.0   80.0  1.025   0.0   ...       no    good   no    no  notckd\n",
      "383  384   80.0   80.0  1.025   0.0   ...       no    good   no    no  notckd\n",
      "384  385   57.0   60.0  1.020   0.0   ...       no    good   no    no  notckd\n",
      "385  386   63.0   70.0  1.020   0.0   ...       no    good   no    no  notckd\n",
      "386  387   46.0   70.0  1.025   0.0   ...       no    good   no    no  notckd\n",
      "387  388   15.0   80.0  1.025   0.0   ...       no    good   no    no  notckd\n",
      "388  389   51.0   80.0  1.020   0.0   ...       no    good   no    no  notckd\n",
      "389  390   41.0   80.0  1.025   0.0   ...       no    good   no    no  notckd\n",
      "390  391   52.0   80.0  1.025   0.0   ...       no    good   no    no  notckd\n",
      "391  392   36.0   80.0  1.025   0.0   ...       no    good   no    no  notckd\n",
      "392  393   57.0   80.0  1.020   0.0   ...       no    good   no    no  notckd\n",
      "393  394   43.0   60.0  1.025   0.0   ...       no    good   no    no  notckd\n",
      "394  395   50.0   80.0  1.020   0.0   ...       no    good   no    no  notckd\n",
      "395  396   55.0   80.0  1.020   0.0   ...       no    good   no    no  notckd\n",
      "396  397   42.0   70.0  1.025   0.0   ...       no    good   no    no  notckd\n",
      "397  398   12.0   80.0  1.020   0.0   ...       no    good   no    no  notckd\n",
      "398  399   17.0   60.0  1.025   0.0   ...       no    good   no    no  notckd\n",
      "399  400   58.0   80.0  1.025   0.0   ...       no    good   no    no  notckd\n",
      "\n",
      "[400 rows x 26 columns]\n"
     ]
    }
   ],
   "source": [
    "data = pd.read_csv(\"../input/thesisda/final.csv\")\n",
    "print(data)"
   ]
  },
  {
   "cell_type": "code",
   "execution_count": null,
   "metadata": {},
   "outputs": [],
   "source": []
  },
  {
   "cell_type": "code",
   "execution_count": null,
   "metadata": {},
   "outputs": [],
   "source": [
    "\n"
   ]
  },
  {
   "cell_type": "code",
   "execution_count": 3,
   "metadata": {},
   "outputs": [
    {
     "name": "stdout",
     "output_type": "stream",
     "text": [
      "['ckd' 'ckd' 'ckd' 'ckd' 'ckd' 'ckd' 'ckd' 'ckd' 'ckd' 'ckd' 'ckd' 'ckd'\n",
      " 'ckd' 'ckd' 'ckd' 'ckd' 'ckd' 'ckd' 'ckd' 'ckd' 'ckd' 'ckd' 'ckd' 'ckd'\n",
      " 'ckd' 'ckd' 'ckd' 'ckd' 'ckd' 'ckd' 'ckd' 'ckd' 'ckd' 'ckd' 'ckd' 'ckd'\n",
      " 'ckd' 'ckd' 'ckd' 'ckd' 'ckd' 'ckd' 'ckd' 'ckd' 'ckd' 'ckd' 'ckd' 'ckd'\n",
      " 'ckd' 'ckd' 'ckd' 'ckd' 'ckd' 'ckd' 'ckd' 'ckd' 'ckd' 'ckd' 'ckd' 'ckd'\n",
      " 'ckd' 'ckd' 'ckd' 'ckd' 'ckd' 'ckd' 'ckd' 'ckd' 'ckd' 'ckd' 'ckd' 'ckd'\n",
      " 'ckd' 'ckd' 'ckd' 'ckd' 'ckd' 'ckd' 'ckd' 'ckd' 'ckd' 'ckd' 'ckd' 'ckd'\n",
      " 'ckd' 'ckd' 'ckd' 'ckd' 'ckd' 'ckd' 'ckd' 'ckd' 'ckd' 'ckd' 'ckd' 'ckd'\n",
      " 'ckd' 'ckd' 'ckd' 'ckd' 'ckd' 'ckd' 'ckd' 'ckd' 'ckd' 'ckd' 'ckd' 'ckd'\n",
      " 'ckd' 'ckd' 'ckd' 'ckd' 'ckd' 'ckd' 'ckd' 'ckd' 'ckd' 'ckd' 'ckd' 'ckd'\n",
      " 'ckd' 'ckd' 'ckd' 'ckd' 'ckd' 'ckd' 'ckd' 'ckd' 'ckd' 'ckd' 'ckd' 'ckd'\n",
      " 'ckd' 'ckd' 'ckd' 'ckd' 'ckd' 'ckd' 'ckd' 'ckd' 'ckd' 'ckd' 'ckd' 'ckd'\n",
      " 'ckd' 'ckd' 'ckd' 'ckd' 'ckd' 'ckd' 'ckd' 'ckd' 'ckd' 'ckd' 'ckd' 'ckd'\n",
      " 'ckd' 'ckd' 'ckd' 'ckd' 'ckd' 'ckd' 'ckd' 'ckd' 'ckd' 'ckd' 'ckd' 'ckd'\n",
      " 'ckd' 'ckd' 'ckd' 'ckd' 'ckd' 'ckd' 'ckd' 'ckd' 'ckd' 'ckd' 'ckd' 'ckd'\n",
      " 'ckd' 'ckd' 'ckd' 'ckd' 'ckd' 'ckd' 'ckd' 'ckd' 'ckd' 'ckd' 'ckd' 'ckd'\n",
      " 'ckd' 'ckd' 'ckd' 'ckd' 'ckd' 'ckd' 'ckd' 'ckd' 'ckd' 'ckd' 'ckd' 'ckd'\n",
      " 'ckd' 'ckd' 'ckd' 'ckd' 'ckd' 'ckd' 'ckd' 'ckd' 'ckd' 'ckd' 'ckd' 'ckd'\n",
      " 'ckd' 'ckd' 'ckd' 'ckd' 'ckd' 'ckd' 'ckd' 'ckd' 'ckd' 'ckd' 'ckd' 'ckd'\n",
      " 'ckd' 'ckd' 'ckd' 'ckd' 'ckd' 'ckd' 'ckd' 'ckd' 'ckd' 'ckd' 'ckd' 'ckd'\n",
      " 'ckd' 'ckd' 'ckd' 'ckd' 'ckd' 'ckd' 'ckd' 'ckd' 'ckd' 'ckd' 'notckd'\n",
      " 'notckd' 'notckd' 'notckd' 'notckd' 'notckd' 'notckd' 'notckd' 'notckd'\n",
      " 'notckd' 'notckd' 'notckd' 'notckd' 'notckd' 'notckd' 'notckd' 'notckd'\n",
      " 'notckd' 'notckd' 'notckd' 'notckd' 'notckd' 'notckd' 'notckd' 'notckd'\n",
      " 'notckd' 'notckd' 'notckd' 'notckd' 'notckd' 'notckd' 'notckd' 'notckd'\n",
      " 'notckd' 'notckd' 'notckd' 'notckd' 'notckd' 'notckd' 'notckd' 'notckd'\n",
      " 'notckd' 'notckd' 'notckd' 'notckd' 'notckd' 'notckd' 'notckd' 'notckd'\n",
      " 'notckd' 'notckd' 'notckd' 'notckd' 'notckd' 'notckd' 'notckd' 'notckd'\n",
      " 'notckd' 'notckd' 'notckd' 'notckd' 'notckd' 'notckd' 'notckd' 'notckd'\n",
      " 'notckd' 'notckd' 'notckd' 'notckd' 'notckd' 'notckd' 'notckd' 'notckd'\n",
      " 'notckd' 'notckd' 'notckd' 'notckd' 'notckd' 'notckd' 'notckd' 'notckd'\n",
      " 'notckd' 'notckd' 'notckd' 'notckd' 'notckd' 'notckd' 'notckd' 'notckd'\n",
      " 'notckd' 'notckd' 'notckd' 'notckd' 'notckd' 'notckd' 'notckd' 'notckd'\n",
      " 'notckd' 'notckd' 'notckd' 'notckd' 'notckd' 'notckd' 'notckd' 'notckd'\n",
      " 'notckd' 'notckd' 'notckd' 'notckd' 'notckd' 'notckd' 'notckd' 'notckd'\n",
      " 'notckd' 'notckd' 'notckd' 'notckd' 'notckd' 'notckd' 'notckd' 'notckd'\n",
      " 'notckd' 'notckd' 'notckd' 'notckd' 'notckd' 'notckd' 'notckd' 'notckd'\n",
      " 'notckd' 'notckd' 'notckd' 'notckd' 'notckd' 'notckd' 'notckd' 'notckd'\n",
      " 'notckd' 'notckd' 'notckd' 'notckd' 'notckd' 'notckd' 'notckd' 'notckd'\n",
      " 'notckd' 'notckd' 'notckd' 'notckd' 'notckd']\n"
     ]
    }
   ],
   "source": [
    "X= np.array(data.iloc[:,1:25].values)\n",
    "Y=np.array(data.iloc[:,25].values)\n",
    "print(Y)"
   ]
  },
  {
   "cell_type": "code",
   "execution_count": 4,
   "metadata": {},
   "outputs": [
    {
     "name": "stdout",
     "output_type": "stream",
     "text": [
      "[[48.0 80.0 1.02 ... 1 1 1]\n",
      " [7.0 50.0 1.02 ... 1 1 1]\n",
      " [62.0 80.0 1.01 ... 2 1 2]\n",
      " ...\n",
      " [12.0 80.0 1.02 ... 1 1 1]\n",
      " [17.0 60.0 1.025 ... 1 1 1]\n",
      " [58.0 80.0 1.025 ... 1 1 1]]\n",
      "[0 0 0 0 0 0 0 0 0 0 0 0 0 0 0 0 0 0 0 0 0 0 0 0 0 0 0 0 0 0 0 0 0 0 0 0 0\n",
      " 0 0 0 0 0 0 0 0 0 0 0 0 0 0 0 0 0 0 0 0 0 0 0 0 0 0 0 0 0 0 0 0 0 0 0 0 0\n",
      " 0 0 0 0 0 0 0 0 0 0 0 0 0 0 0 0 0 0 0 0 0 0 0 0 0 0 0 0 0 0 0 0 0 0 0 0 0\n",
      " 0 0 0 0 0 0 0 0 0 0 0 0 0 0 0 0 0 0 0 0 0 0 0 0 0 0 0 0 0 0 0 0 0 0 0 0 0\n",
      " 0 0 0 0 0 0 0 0 0 0 0 0 0 0 0 0 0 0 0 0 0 0 0 0 0 0 0 0 0 0 0 0 0 0 0 0 0\n",
      " 0 0 0 0 0 0 0 0 0 0 0 0 0 0 0 0 0 0 0 0 0 0 0 0 0 0 0 0 0 0 0 0 0 0 0 0 0\n",
      " 0 0 0 0 0 0 0 0 0 0 0 0 0 0 0 0 0 0 0 0 0 0 0 0 0 0 0 0 1 1 1 1 1 1 1 1 1\n",
      " 1 1 1 1 1 1 1 1 1 1 1 1 1 1 1 1 1 1 1 1 1 1 1 1 1 1 1 1 1 1 1 1 1 1 1 1 1\n",
      " 1 1 1 1 1 1 1 1 1 1 1 1 1 1 1 1 1 1 1 1 1 1 1 1 1 1 1 1 1 1 1 1 1 1 1 1 1\n",
      " 1 1 1 1 1 1 1 1 1 1 1 1 1 1 1 1 1 1 1 1 1 1 1 1 1 1 1 1 1 1 1 1 1 1 1 1 1\n",
      " 1 1 1 1 1 1 1 1 1 1 1 1 1 1 1 1 1 1 1 1 1 1 1 1 1 1 1 1 1 1]\n"
     ]
    }
   ],
   "source": [
    "val = [5,6,7,8,18,19,20,21,22,23]\n",
    "from sklearn.preprocessing import LabelEncoder, OneHotEncoder\n",
    "labelencoder_X = LabelEncoder()\n",
    "for v in val :\n",
    "    X[:, v] = labelencoder_X.fit_transform(X[:, v])\n",
    "\n",
    "labelencoder_y = LabelEncoder()\n",
    "Y = labelencoder_y.fit_transform( Y)\n",
    "\n",
    "print(X)\n",
    "print(Y)\n"
   ]
  },
  {
   "cell_type": "code",
   "execution_count": 5,
   "metadata": {},
   "outputs": [
    {
     "name": "stdout",
     "output_type": "stream",
     "text": [
      "[[48.0 80.0 1.02 1.0 0.0 0 2 1 1 121.0 36.0 1.2 nan nan 15.4 44.0 7800.0\n",
      "  5.2 2 2 1 1 1 1]\n",
      " [7.0 50.0 1.02 4.0 0.0 0 2 1 1 nan 18.0 0.8 nan nan 11.3 38.0 6000.0 nan\n",
      "  1 1 1 1 1 1]]\n",
      "[[48.0 80.0 1.02 1.0 0.0 0 2 1 1 121.0 36.0 1.2 137.5176282051282\n",
      "  4.62724358974359 15.4 44.0 7800.0 5.2 2 2 1 1 1 1]\n",
      " [7.0 50.0 1.02 4.0 0.0 0 2 1 1 148.0365168539326 18.0 0.8\n",
      "  137.5176282051282 4.62724358974359 11.3 38.0 6000.0 4.707434944237917 1\n",
      "  1 1 1 1 1]]\n"
     ]
    },
    {
     "name": "stderr",
     "output_type": "stream",
     "text": [
      "/opt/conda/lib/python3.6/site-packages/sklearn/utils/deprecation.py:66: DeprecationWarning: Class Imputer is deprecated; Imputer was deprecated in version 0.20 and will be removed in 0.22. Import impute.SimpleImputer from sklearn instead.\n",
      "  warnings.warn(msg, category=DeprecationWarning)\n",
      "/opt/conda/lib/python3.6/site-packages/sklearn/utils/deprecation.py:66: DeprecationWarning: Class Imputer is deprecated; Imputer was deprecated in version 0.20 and will be removed in 0.22. Import impute.SimpleImputer from sklearn instead.\n",
      "  warnings.warn(msg, category=DeprecationWarning)\n"
     ]
    }
   ],
   "source": [
    "from sklearn.preprocessing import Imputer\n",
    "\n",
    "miss= [1,2,3,4,9,10,11,12,13,14,15,16,17]\n",
    "print(X[:2])\n",
    "calcul=X[:,v ].reshape(-1,1)\n",
    "\n",
    "imputer = Imputer(missing_values = 'NaN', strategy = 'mean', axis = 0)\n",
    "imputer = imputer.fit(X[:, 1:5])\n",
    "z=np.array(X[:, 1:3])\n",
    "X[:, 1:5] = imputer.transform(X[:, 1:5])\n",
    "z1=np.array(X[:, 1:5])\n",
    "\n",
    "imputer = Imputer(missing_values = 'NaN', strategy = 'mean', axis = 0)\n",
    "imputer = imputer.fit(X[:, 9:18])\n",
    "z=np.array(X[:, 9:18])\n",
    "X[:, 9:18] = imputer.transform(X[:, 9:18])\n",
    "z1=np.array(X[:, 9:18])\n",
    "print(X[:2])"
   ]
  }
 ],
 "metadata": {
  "kernelspec": {
   "display_name": "Python 3",
   "language": "python",
   "name": "python3"
  },
  "language_info": {
   "codemirror_mode": {
    "name": "ipython",
    "version": 3
   },
   "file_extension": ".py",
   "mimetype": "text/x-python",
   "name": "python",
   "nbconvert_exporter": "python",
   "pygments_lexer": "ipython3",
   "version": "3.6.6"
  }
 },
 "nbformat": 4,
 "nbformat_minor": 1
}
