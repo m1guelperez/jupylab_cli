{
 "cells": [
  {
   "cell_type": "code",
   "execution_count": 1,
   "metadata": {
    "_cell_guid": "b1076dfc-b9ad-4769-8c92-a6c4dae69d19",
    "_uuid": "8f2839f25d086af736a60e9eeb907d3b93b6e0e5"
   },
   "outputs": [
    {
     "name": "stdout",
     "output_type": "stream",
     "text": [
      "/kaggle/input/novel-corona-virus-2019-dataset/time_series_covid_19_confirmed.csv\n",
      "/kaggle/input/novel-corona-virus-2019-dataset/time_series_covid_19_recovered.csv\n",
      "/kaggle/input/novel-corona-virus-2019-dataset/COVID19_open_line_list.csv\n",
      "/kaggle/input/novel-corona-virus-2019-dataset/time_series_covid_19_deaths.csv\n",
      "/kaggle/input/novel-corona-virus-2019-dataset/covid_19_data.csv\n",
      "/kaggle/input/novel-corona-virus-2019-dataset/COVID19_line_list_data.csv\n"
     ]
    }
   ],
   "source": [
    "# This Python 3 environment comes with many helpful analytics libraries installed\n",
    "# It is defined by the kaggle/python docker image: https://github.com/kaggle/docker-python\n",
    "# For example, here's several helpful packages to load in \n",
    "\n",
    "import numpy as np # linear algebra\n",
    "import pandas as pd # data processing, CSV file I/O (e.g. pd.read_csv)\n",
    "\n",
    "# Input data files are available in the \"../input/\" directory.\n",
    "# For example, running this (by clicking run or pressing Shift+Enter) will list all files under the input directory\n",
    "\n",
    "import os\n",
    "for dirname, _, filenames in os.walk('/kaggle/input'):\n",
    "    for filename in filenames:\n",
    "        print(os.path.join(dirname, filename))\n",
    "\n",
    "# Any results you write to the current directory are saved as output."
   ]
  },
  {
   "cell_type": "code",
   "execution_count": 2,
   "metadata": {},
   "outputs": [],
   "source": [
    "import pandas as pd\n",
    "import numpy as np"
   ]
  },
  {
   "cell_type": "code",
   "execution_count": 3,
   "metadata": {
    "_cell_guid": "79c7e3d0-c299-4dcb-8224-4455121ee9b0",
    "_uuid": "d629ff2d2480ee46fbb7e2d37f6b5fab8052498a"
   },
   "outputs": [],
   "source": [
    "tscovid = pd.read_csv('/kaggle/input/novel-corona-virus-2019-dataset/time_series_covid_19_deaths.csv', sep=',')"
   ]
  },
  {
   "cell_type": "code",
   "execution_count": 4,
   "metadata": {},
   "outputs": [],
   "source": [
    "artime = tscovid.iloc[0:405, 4:54]"
   ]
  },
  {
   "cell_type": "code",
   "execution_count": 5,
   "metadata": {},
   "outputs": [],
   "source": [
    "days = pd.date_range('2020/1/22', periods=50, freq='D')"
   ]
  },
  {
   "cell_type": "code",
   "execution_count": 6,
   "metadata": {},
   "outputs": [],
   "source": [
    "artime = artime.T"
   ]
  },
  {
   "cell_type": "code",
   "execution_count": 7,
   "metadata": {},
   "outputs": [
    {
     "data": {
      "text/html": [
       "<div>\n",
       "<style scoped>\n",
       "    .dataframe tbody tr th:only-of-type {\n",
       "        vertical-align: middle;\n",
       "    }\n",
       "\n",
       "    .dataframe tbody tr th {\n",
       "        vertical-align: top;\n",
       "    }\n",
       "\n",
       "    .dataframe thead th {\n",
       "        text-align: right;\n",
       "    }\n",
       "</style>\n",
       "<table border=\"1\" class=\"dataframe\">\n",
       "  <thead>\n",
       "    <tr style=\"text-align: right;\">\n",
       "      <th></th>\n",
       "      <th>0</th>\n",
       "      <th>1</th>\n",
       "      <th>2</th>\n",
       "      <th>3</th>\n",
       "      <th>4</th>\n",
       "      <th>5</th>\n",
       "      <th>6</th>\n",
       "      <th>7</th>\n",
       "      <th>8</th>\n",
       "      <th>9</th>\n",
       "      <th>...</th>\n",
       "      <th>395</th>\n",
       "      <th>396</th>\n",
       "      <th>397</th>\n",
       "      <th>398</th>\n",
       "      <th>399</th>\n",
       "      <th>400</th>\n",
       "      <th>401</th>\n",
       "      <th>402</th>\n",
       "      <th>403</th>\n",
       "      <th>404</th>\n",
       "    </tr>\n",
       "  </thead>\n",
       "  <tbody>\n",
       "    <tr>\n",
       "      <th>1/22/20</th>\n",
       "      <td>0</td>\n",
       "      <td>0</td>\n",
       "      <td>0</td>\n",
       "      <td>0</td>\n",
       "      <td>0</td>\n",
       "      <td>0</td>\n",
       "      <td>0</td>\n",
       "      <td>0</td>\n",
       "      <td>0</td>\n",
       "      <td>0</td>\n",
       "      <td>...</td>\n",
       "      <td>0</td>\n",
       "      <td>0</td>\n",
       "      <td>0</td>\n",
       "      <td>0</td>\n",
       "      <td>0</td>\n",
       "      <td>0</td>\n",
       "      <td>0</td>\n",
       "      <td>0</td>\n",
       "      <td>0</td>\n",
       "      <td>0</td>\n",
       "    </tr>\n",
       "    <tr>\n",
       "      <th>1/23/20</th>\n",
       "      <td>0</td>\n",
       "      <td>0</td>\n",
       "      <td>0</td>\n",
       "      <td>0</td>\n",
       "      <td>0</td>\n",
       "      <td>0</td>\n",
       "      <td>0</td>\n",
       "      <td>0</td>\n",
       "      <td>0</td>\n",
       "      <td>0</td>\n",
       "      <td>...</td>\n",
       "      <td>0</td>\n",
       "      <td>0</td>\n",
       "      <td>0</td>\n",
       "      <td>0</td>\n",
       "      <td>0</td>\n",
       "      <td>0</td>\n",
       "      <td>0</td>\n",
       "      <td>0</td>\n",
       "      <td>0</td>\n",
       "      <td>0</td>\n",
       "    </tr>\n",
       "    <tr>\n",
       "      <th>1/24/20</th>\n",
       "      <td>0</td>\n",
       "      <td>0</td>\n",
       "      <td>0</td>\n",
       "      <td>0</td>\n",
       "      <td>0</td>\n",
       "      <td>0</td>\n",
       "      <td>0</td>\n",
       "      <td>0</td>\n",
       "      <td>0</td>\n",
       "      <td>0</td>\n",
       "      <td>...</td>\n",
       "      <td>0</td>\n",
       "      <td>0</td>\n",
       "      <td>0</td>\n",
       "      <td>0</td>\n",
       "      <td>0</td>\n",
       "      <td>0</td>\n",
       "      <td>0</td>\n",
       "      <td>0</td>\n",
       "      <td>0</td>\n",
       "      <td>0</td>\n",
       "    </tr>\n",
       "    <tr>\n",
       "      <th>1/25/20</th>\n",
       "      <td>0</td>\n",
       "      <td>0</td>\n",
       "      <td>0</td>\n",
       "      <td>0</td>\n",
       "      <td>0</td>\n",
       "      <td>0</td>\n",
       "      <td>0</td>\n",
       "      <td>0</td>\n",
       "      <td>0</td>\n",
       "      <td>0</td>\n",
       "      <td>...</td>\n",
       "      <td>0</td>\n",
       "      <td>0</td>\n",
       "      <td>0</td>\n",
       "      <td>0</td>\n",
       "      <td>0</td>\n",
       "      <td>0</td>\n",
       "      <td>0</td>\n",
       "      <td>0</td>\n",
       "      <td>0</td>\n",
       "      <td>0</td>\n",
       "    </tr>\n",
       "    <tr>\n",
       "      <th>1/26/20</th>\n",
       "      <td>0</td>\n",
       "      <td>0</td>\n",
       "      <td>0</td>\n",
       "      <td>0</td>\n",
       "      <td>0</td>\n",
       "      <td>0</td>\n",
       "      <td>0</td>\n",
       "      <td>0</td>\n",
       "      <td>0</td>\n",
       "      <td>0</td>\n",
       "      <td>...</td>\n",
       "      <td>0</td>\n",
       "      <td>0</td>\n",
       "      <td>0</td>\n",
       "      <td>0</td>\n",
       "      <td>0</td>\n",
       "      <td>0</td>\n",
       "      <td>0</td>\n",
       "      <td>0</td>\n",
       "      <td>0</td>\n",
       "      <td>0</td>\n",
       "    </tr>\n",
       "  </tbody>\n",
       "</table>\n",
       "<p>5 rows × 405 columns</p>\n",
       "</div>"
      ],
      "text/plain": [
       "         0    1    2    3    4    5    6    7    8    9    ...  395  396  397  \\\n",
       "1/22/20    0    0    0    0    0    0    0    0    0    0  ...    0    0    0   \n",
       "1/23/20    0    0    0    0    0    0    0    0    0    0  ...    0    0    0   \n",
       "1/24/20    0    0    0    0    0    0    0    0    0    0  ...    0    0    0   \n",
       "1/25/20    0    0    0    0    0    0    0    0    0    0  ...    0    0    0   \n",
       "1/26/20    0    0    0    0    0    0    0    0    0    0  ...    0    0    0   \n",
       "\n",
       "         398  399  400  401  402  403  404  \n",
       "1/22/20    0    0    0    0    0    0    0  \n",
       "1/23/20    0    0    0    0    0    0    0  \n",
       "1/24/20    0    0    0    0    0    0    0  \n",
       "1/25/20    0    0    0    0    0    0    0  \n",
       "1/26/20    0    0    0    0    0    0    0  \n",
       "\n",
       "[5 rows x 405 columns]"
      ]
     },
     "execution_count": 7,
     "metadata": {},
     "output_type": "execute_result"
    }
   ],
   "source": [
    "artime.head()"
   ]
  },
  {
   "cell_type": "code",
   "execution_count": 8,
   "metadata": {},
   "outputs": [],
   "source": [
    "artime = pd.DataFrame(artime)"
   ]
  },
  {
   "cell_type": "code",
   "execution_count": 9,
   "metadata": {},
   "outputs": [],
   "source": [
    "df = tscovid.iloc[0:405, 4:54]"
   ]
  },
  {
   "cell_type": "code",
   "execution_count": 10,
   "metadata": {},
   "outputs": [],
   "source": [
    "total = df.sum(axis=0)"
   ]
  },
  {
   "cell_type": "code",
   "execution_count": 11,
   "metadata": {},
   "outputs": [
    {
     "data": {
      "text/plain": [
       "1/22/20      17\n",
       "1/23/20      18\n",
       "1/24/20      26\n",
       "1/25/20      42\n",
       "1/26/20      56\n",
       "1/27/20      82\n",
       "1/28/20     131\n",
       "1/29/20     133\n",
       "1/30/20     171\n",
       "1/31/20     213\n",
       "2/1/20      259\n",
       "2/2/20      362\n",
       "2/3/20      426\n",
       "2/4/20      492\n",
       "2/5/20      564\n",
       "2/6/20      634\n",
       "2/7/20      719\n",
       "2/8/20      806\n",
       "2/9/20      906\n",
       "2/10/20    1013\n",
       "2/11/20    1113\n",
       "2/12/20    1118\n",
       "2/13/20    1371\n",
       "2/14/20    1523\n",
       "2/15/20    1666\n",
       "2/16/20    1770\n",
       "2/17/20    1868\n",
       "2/18/20    2007\n",
       "2/19/20    2122\n",
       "2/20/20    2247\n",
       "2/21/20    2251\n",
       "2/22/20    2458\n",
       "2/23/20    2469\n",
       "2/24/20    2629\n",
       "2/25/20    2708\n",
       "2/26/20    2770\n",
       "2/27/20    2814\n",
       "2/28/20    2872\n",
       "2/29/20    2941\n",
       "3/1/20     2996\n",
       "3/2/20     3085\n",
       "3/3/20     3160\n",
       "3/4/20     3254\n",
       "3/5/20     3347\n",
       "3/6/20     3458\n",
       "3/7/20     3556\n",
       "3/8/20     3799\n",
       "3/9/20     3984\n",
       "3/10/20    4256\n",
       "3/11/20    4607\n",
       "dtype: int64"
      ]
     },
     "execution_count": 11,
     "metadata": {},
     "output_type": "execute_result"
    }
   ],
   "source": [
    "total"
   ]
  },
  {
   "cell_type": "code",
   "execution_count": 12,
   "metadata": {},
   "outputs": [],
   "source": [
    "artime['Total'] = total"
   ]
  },
  {
   "cell_type": "code",
   "execution_count": 13,
   "metadata": {},
   "outputs": [],
   "source": [
    "artime['Day'] = days"
   ]
  },
  {
   "cell_type": "code",
   "execution_count": 14,
   "metadata": {},
   "outputs": [],
   "source": [
    "artime.set_index('Day', inplace=True)"
   ]
  },
  {
   "cell_type": "code",
   "execution_count": 15,
   "metadata": {},
   "outputs": [
    {
     "data": {
      "text/plain": [
       "Day\n",
       "2020-01-22      17\n",
       "2020-01-23      18\n",
       "2020-01-24      26\n",
       "2020-01-25      42\n",
       "2020-01-26      56\n",
       "2020-01-27      82\n",
       "2020-01-28     131\n",
       "2020-01-29     133\n",
       "2020-01-30     171\n",
       "2020-01-31     213\n",
       "2020-02-01     259\n",
       "2020-02-02     362\n",
       "2020-02-03     426\n",
       "2020-02-04     492\n",
       "2020-02-05     564\n",
       "2020-02-06     634\n",
       "2020-02-07     719\n",
       "2020-02-08     806\n",
       "2020-02-09     906\n",
       "2020-02-10    1013\n",
       "2020-02-11    1113\n",
       "2020-02-12    1118\n",
       "2020-02-13    1371\n",
       "2020-02-14    1523\n",
       "2020-02-15    1666\n",
       "2020-02-16    1770\n",
       "2020-02-17    1868\n",
       "2020-02-18    2007\n",
       "2020-02-19    2122\n",
       "2020-02-20    2247\n",
       "2020-02-21    2251\n",
       "2020-02-22    2458\n",
       "2020-02-23    2469\n",
       "2020-02-24    2629\n",
       "2020-02-25    2708\n",
       "2020-02-26    2770\n",
       "2020-02-27    2814\n",
       "2020-02-28    2872\n",
       "2020-02-29    2941\n",
       "2020-03-01    2996\n",
       "2020-03-02    3085\n",
       "2020-03-03    3160\n",
       "2020-03-04    3254\n",
       "2020-03-05    3347\n",
       "2020-03-06    3458\n",
       "2020-03-07    3556\n",
       "2020-03-08    3799\n",
       "2020-03-09    3984\n",
       "2020-03-10    4256\n",
       "2020-03-11    4607\n",
       "Name: Total, dtype: int64"
      ]
     },
     "execution_count": 15,
     "metadata": {},
     "output_type": "execute_result"
    }
   ],
   "source": [
    "artime['Total']"
   ]
  },
  {
   "cell_type": "code",
   "execution_count": 16,
   "metadata": {},
   "outputs": [],
   "source": [
    "from statsmodels.tsa.ar_model import AR,ARResults"
   ]
  },
  {
   "cell_type": "code",
   "execution_count": 17,
   "metadata": {},
   "outputs": [],
   "source": [
    "train = artime.iloc[:42]\n",
    "test = artime.iloc[42:]"
   ]
  },
  {
   "cell_type": "code",
   "execution_count": 18,
   "metadata": {},
   "outputs": [],
   "source": [
    "import warnings\n",
    "warnings.filterwarnings(\"ignore\")"
   ]
  },
  {
   "cell_type": "code",
   "execution_count": 19,
   "metadata": {},
   "outputs": [
    {
     "name": "stdout",
     "output_type": "stream",
     "text": [
      "Lag: 2\n",
      "Coefficients:\n",
      "const       60.169904\n",
      "L1.Total     1.025845\n",
      "L2.Total    -0.012929\n",
      "dtype: float64\n"
     ]
    }
   ],
   "source": [
    "model = AR(train['Total'])\n",
    "AR1fit = model.fit(maxlag=2,method='cmle')\n",
    "print(f'Lag: {AR1fit.k_ar}')\n",
    "print(f'Coefficients:\\n{AR1fit.params}')"
   ]
  },
  {
   "cell_type": "code",
   "execution_count": 20,
   "metadata": {},
   "outputs": [],
   "source": [
    "start=len(train)\n",
    "end=len(train)+len(test)-1\n",
    "predictions1 = AR1fit.predict(start=start, end=end).rename('AR(1) Predictions')"
   ]
  },
  {
   "cell_type": "code",
   "execution_count": 21,
   "metadata": {},
   "outputs": [
    {
     "name": "stdout",
     "output_type": "stream",
     "text": [
      "predicted=3261.954038785016, expected=3254\n",
      "predicted=3365.573399385171, expected=3347\n",
      "predicted=3470.5526353580544, expected=3458\n",
      "predicted=3576.9053617220775, expected=3556\n",
      "predicted=3684.649494465544, expected=3799\n",
      "predicted=3793.8032365860063, expected=3984\n",
      "predicted=3904.3850299011056, expected=4256\n",
      "predicted=4016.4135575101354, expected=4607\n"
     ]
    }
   ],
   "source": [
    "for i in range(len(predictions1)):\n",
    "    print(f\"predicted={predictions1[i]}, expected={test['Total'][i]}\")"
   ]
  },
  {
   "cell_type": "code",
   "execution_count": 22,
   "metadata": {},
   "outputs": [
    {
     "data": {
      "image/png": "[encoded data removed]",
      "text/plain": [
       "<Figure size 864x432 with 1 Axes>"
      ]
     },
     "metadata": {
      "needs_background": "light"
     },
     "output_type": "display_data"
    }
   ],
   "source": [
    "test['Total'].plot(legend=True)\n",
    "predictions1.plot(legend=True,figsize=(12,6));"
   ]
  },
  {
   "cell_type": "code",
   "execution_count": 23,
   "metadata": {},
   "outputs": [
    {
     "name": "stdout",
     "output_type": "stream",
     "text": [
      "Lag: 2\n",
      "Coefficients:\n",
      "const       60.169904\n",
      "L1.Total     1.025845\n",
      "L2.Total    -0.012929\n",
      "dtype: float64\n"
     ]
    }
   ],
   "source": [
    "AR2fit = model.fit(maxlag=2,method='cmle')\n",
    "print(f'Lag: {AR2fit.k_ar}')\n",
    "print(f'Coefficients:\\n{AR2fit.params}')"
   ]
  },
  {
   "cell_type": "code",
   "execution_count": 24,
   "metadata": {},
   "outputs": [],
   "source": [
    "start=len(train)\n",
    "end=len(train)+len(test)-1\n",
    "predictions2 = AR2fit.predict(start=start, end=end).rename('AR(2) Predictions')"
   ]
  },
  {
   "cell_type": "code",
   "execution_count": 25,
   "metadata": {},
   "outputs": [
    {
     "data": {
      "image/png": "[encoded data removed]",
      "text/plain": [
       "<Figure size 864x432 with 1 Axes>"
      ]
     },
     "metadata": {
      "needs_background": "light"
     },
     "output_type": "display_data"
    }
   ],
   "source": [
    "test['Total'].plot(legend=True)\n",
    "predictions1.plot(legend=True)\n",
    "predictions2.plot(legend=True,figsize=(12,6));"
   ]
  },
  {
   "cell_type": "code",
   "execution_count": 26,
   "metadata": {},
   "outputs": [
    {
     "name": "stdout",
     "output_type": "stream",
     "text": [
      "Lag: 2\n",
      "Coefficients:\n",
      "const       60.169904\n",
      "L1.Total     1.025845\n",
      "L2.Total    -0.012929\n",
      "dtype: float64\n"
     ]
    }
   ],
   "source": [
    "ARfit = model.fit(maxlag=2,method='cmle')\n",
    "print(f'Lag: {ARfit.k_ar}')\n",
    "print(f'Coefficients:\\n{ARfit.params}')"
   ]
  },
  {
   "cell_type": "code",
   "execution_count": 27,
   "metadata": {},
   "outputs": [],
   "source": [
    "start = len(train)\n",
    "end = len(train)+len(test)-1\n",
    "rename = f'AR(12) Predictions'\n",
    "\n",
    "predictions11 = ARfit.predict(start=start,end=end).rename(rename)"
   ]
  },
  {
   "cell_type": "code",
   "execution_count": 28,
   "metadata": {},
   "outputs": [
    {
     "data": {
      "image/png": "[encoded data removed]",
      "text/plain": [
       "<Figure size 864x432 with 1 Axes>"
      ]
     },
     "metadata": {
      "needs_background": "light"
     },
     "output_type": "display_data"
    }
   ],
   "source": [
    "test['Total'].plot(legend=True)\n",
    "predictions1.plot(legend=True)\n",
    "predictions2.plot(legend=True)\n",
    "predictions11.plot(legend=True,figsize=(12,6));"
   ]
  },
  {
   "cell_type": "code",
   "execution_count": 29,
   "metadata": {},
   "outputs": [
    {
     "name": "stdout",
     "output_type": "stream",
     "text": [
      "AR(1) Error: 65334.89011\n",
      "AR(2) Error: 65334.89011\n",
      "AR(11) Error: 65334.89011\n"
     ]
    }
   ],
   "source": [
    "from sklearn.metrics import mean_squared_error\n",
    "\n",
    "labels = ['AR(1)','AR(2)','AR(11)']\n",
    "preds = [predictions1, predictions2, predictions11]  # these are variables, not strings!\n",
    "\n",
    "for i in range(3):\n",
    "    error = mean_squared_error(test['Total'], preds[i])\n",
    "    print(f'{labels[i]} Error: {error:11.10}')"
   ]
  },
  {
   "cell_type": "code",
   "execution_count": 30,
   "metadata": {},
   "outputs": [
    {
     "data": {
      "image/png": "[encoded data removed]",
      "text/plain": [
       "<Figure size 864x432 with 1 Axes>"
      ]
     },
     "metadata": {
      "needs_background": "light"
     },
     "output_type": "display_data"
    }
   ],
   "source": [
    "model = AR(artime['Total'])\n",
    "\n",
    "# Next, fit the model\n",
    "ARfit = model.fit(maxlag=8)\n",
    "\n",
    "# Make predictions\n",
    "fcast = ARfit.predict(start=len(artime), end=len(artime)+20).rename('Forecast')\n",
    "\n",
    "# Plot the results\n",
    "artime['Total'].plot(legend=True)\n",
    "fcast.plot(legend=True, grid=True, figsize=(12,6));"
   ]
  },
  {
   "cell_type": "code",
   "execution_count": 31,
   "metadata": {},
   "outputs": [
    {
     "name": "stdout",
     "output_type": "stream",
     "text": [
      "Expectative for coronavirus deaths till April 01 is 2020-03-12     4921.371589\n",
      "2020-03-13     5307.473790\n",
      "2020-03-14     5683.215876\n",
      "2020-03-15     6084.313163\n",
      "2020-03-16     6505.520214\n",
      "2020-03-17     6914.453739\n",
      "2020-03-18     7336.696027\n",
      "2020-03-19     7760.788020\n",
      "2020-03-20     8183.360771\n",
      "2020-03-21     8614.191928\n",
      "2020-03-22     9041.688415\n",
      "2020-03-23     9477.793811\n",
      "2020-03-24     9921.747216\n",
      "2020-03-25    10374.392654\n",
      "2020-03-26    10841.632024\n",
      "2020-03-27    11323.954588\n",
      "2020-03-28    11825.921645\n",
      "2020-03-29    12350.804754\n",
      "2020-03-30    12899.906736\n",
      "2020-03-31    13477.294531\n",
      "2020-04-01    14084.528247\n",
      "Freq: D, Name: Forecast, dtype: float64\n"
     ]
    }
   ],
   "source": [
    "print('Expectative for coronavirus deaths till April 01 is', fcast)"
   ]
  }
 ],
 "metadata": {
  "kernelspec": {
   "display_name": "Python 3",
   "language": "python",
   "name": "python3"
  },
  "language_info": {
   "codemirror_mode": {
    "name": "ipython",
    "version": 3
   },
   "file_extension": ".py",
   "mimetype": "text/x-python",
   "name": "python",
   "nbconvert_exporter": "python",
   "pygments_lexer": "ipython3",
   "version": "3.6.6"
  }
 },
 "nbformat": 4,
 "nbformat_minor": 4
}
