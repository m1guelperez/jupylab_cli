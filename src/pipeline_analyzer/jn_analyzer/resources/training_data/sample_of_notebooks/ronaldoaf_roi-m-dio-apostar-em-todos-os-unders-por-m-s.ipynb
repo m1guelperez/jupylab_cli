{
 "cells": [
  {
   "cell_type": "markdown",
   "metadata": {},
   "source": [
    "Vamos analisar qual seria o ROI (média e desvio)  de apostar em todos os jogos de amostras de 5000 jogos em cada mês do ano"
   ]
  },
  {
   "cell_type": "code",
   "execution_count": 1,
   "metadata": {
    "_cell_guid": "b1076dfc-b9ad-4769-8c92-a6c4dae69d19",
    "_uuid": "8f2839f25d086af736a60e9eeb907d3b93b6e0e5"
   },
   "outputs": [
    {
     "data": {
      "text/html": [
       "<div>\n",
       "<style scoped>\n",
       "    .dataframe tbody tr th:only-of-type {\n",
       "        vertical-align: middle;\n",
       "    }\n",
       "\n",
       "    .dataframe tbody tr th {\n",
       "        vertical-align: top;\n",
       "    }\n",
       "\n",
       "    .dataframe thead th {\n",
       "        text-align: right;\n",
       "    }\n",
       "</style>\n",
       "<table border=\"1\" class=\"dataframe\">\n",
       "  <thead>\n",
       "    <tr style=\"text-align: right;\">\n",
       "      <th></th>\n",
       "      <th>data_inicio</th>\n",
       "      <th>pl_u</th>\n",
       "    </tr>\n",
       "  </thead>\n",
       "  <tbody>\n",
       "    <tr>\n",
       "      <th>0</th>\n",
       "      <td>2019-05-07 23:15:00</td>\n",
       "      <td>0.0000</td>\n",
       "    </tr>\n",
       "    <tr>\n",
       "      <th>1</th>\n",
       "      <td>2019-05-07 23:15:00</td>\n",
       "      <td>0.0000</td>\n",
       "    </tr>\n",
       "    <tr>\n",
       "      <th>2</th>\n",
       "      <td>2019-05-07 22:00:00</td>\n",
       "      <td>-1.0000</td>\n",
       "    </tr>\n",
       "    <tr>\n",
       "      <th>3</th>\n",
       "      <td>2019-05-07 22:00:00</td>\n",
       "      <td>0.4125</td>\n",
       "    </tr>\n",
       "    <tr>\n",
       "      <th>4</th>\n",
       "      <td>2019-05-07 21:30:00</td>\n",
       "      <td>0.8750</td>\n",
       "    </tr>\n",
       "  </tbody>\n",
       "</table>\n",
       "</div>"
      ],
      "text/plain": [
       "          data_inicio    pl_u\n",
       "0 2019-05-07 23:15:00  0.0000\n",
       "1 2019-05-07 23:15:00  0.0000\n",
       "2 2019-05-07 22:00:00 -1.0000\n",
       "3 2019-05-07 22:00:00  0.4125\n",
       "4 2019-05-07 21:30:00  0.8750"
      ]
     },
     "execution_count": 1,
     "metadata": {},
     "output_type": "execute_result"
    }
   ],
   "source": [
    "import numpy as np # linear algebra\n",
    "import pandas as pd # data processing, CSV file I/O (e.g. pd.read_csv)\n",
    "\n",
    "#Carrega o CSV e seleciona apenas a data e o pl_u\n",
    "dateparse = lambda x: pd.datetime.strptime(x, '%Y-%m-%d %H:%M:%S')\n",
    "df=pd.read_csv('../input/goalline.csv', parse_dates=['data_inicio'],date_parser=dateparse,  usecols=['data_inicio', 'pl_u'] )\n",
    "\n",
    "#Exibe as 5 primeiras linhas do DataFrame\n",
    "df.head(5)"
   ]
  },
  {
   "cell_type": "code",
   "execution_count": 2,
   "metadata": {
    "_cell_guid": "79c7e3d0-c299-4dcb-8224-4455121ee9b0",
    "_uuid": "d629ff2d2480ee46fbb7e2d37f6b5fab8052498a"
   },
   "outputs": [],
   "source": [
    "#Cria uma lista com DataFrame para cada mês do ano\n",
    "dfs_mes=[ df[ df['data_inicio'].map(lambda x: x.month) == i+1 ]  for i in range(12)    ]\n",
    "\n"
   ]
  },
  {
   "cell_type": "code",
   "execution_count": 3,
   "metadata": {},
   "outputs": [
    {
     "name": "stdout",
     "output_type": "stream",
     "text": [
      "mês    média      desvio_padrão\n",
      "1      -0.95%     1.05%     \n",
      "2      -0.89%     1.10%     \n",
      "3      -2.28%     1.11%     \n",
      "4      -2.75%     1.12%     \n",
      "5      -3.53%     1.09%     \n",
      "6      -4.19%     0.96%     \n",
      "7      -0.80%     1.01%     \n",
      "8      -1.56%     1.06%     \n",
      "9      -2.64%     1.12%     \n",
      "10     -2.72%     1.11%     \n",
      "11     -1.86%     1.07%     \n",
      "12     -2.22%     1.04%     \n"
     ]
    }
   ],
   "source": [
    "#Print nome dos campos\n",
    "print('{:<6} {:<10} {:<10}'.format('mês', 'média', 'desvio_padrão') )\n",
    "\n",
    "#Para cada mês do ano\n",
    "for i in range(12):\n",
    "    ROIs_medios=[]\n",
    "    #Faz 10 mil simulações\n",
    "    for _ in range(10000):\n",
    "        #Selecionando um amostra aleatório de 5000 jogos e calcula o o ROI médio\n",
    "        ROIs_medios+=[ dfs_mes[i].sample(5000).pl_u.mean()]\n",
    "    \n",
    "    #Exibe o mês, a  média e o desvio padrão\n",
    "    ROIs_medios=np.array(ROIs_medios)\n",
    "    print('{:<6} {:<10.2%} {:<10.2%}'.format(i+1, ROIs_medios.mean(), ROIs_medios.std()) )"
   ]
  },
  {
   "cell_type": "code",
   "execution_count": 4,
   "metadata": {},
   "outputs": [
    {
     "name": "stderr",
     "output_type": "stream",
     "text": [
      "/opt/conda/lib/python3.6/site-packages/scipy/stats/stats.py:1713: FutureWarning: Using a non-tuple sequence for multidimensional indexing is deprecated; use `arr[tuple(seq)]` instead of `arr[seq]`. In the future this will be interpreted as an array index, `arr[np.array(seq)]`, which will result either in an error or a different result.\n",
      "  return np.add.reduce(sorted[indexer] * weights, axis=axis) / sumval\n"
     ]
    },
    {
     "data": {
      "text/plain": [
       "<matplotlib.axes._subplots.AxesSubplot at 0x7f179a456dd8>"
      ]
     },
     "execution_count": 4,
     "metadata": {},
     "output_type": "execute_result"
    },
    {
     "data": {
      "image/png": "[encoded data removed]",
      "text/plain": [
       "<Figure size 432x288 with 1 Axes>"
      ]
     },
     "metadata": {},
     "output_type": "display_data"
    }
   ],
   "source": [
    "import seaborn as sns\n",
    "\n",
    "#Vamos visualiar o histograma para para o mês de Dezembro (o último processado)\n",
    "sns.distplot(ROIs_medios)"
   ]
  }
 ],
 "metadata": {
  "kernelspec": {
   "display_name": "Python 3",
   "language": "python",
   "name": "python3"
  },
  "language_info": {
   "codemirror_mode": {
    "name": "ipython",
    "version": 3
   },
   "file_extension": ".py",
   "mimetype": "text/x-python",
   "name": "python",
   "nbconvert_exporter": "python",
   "pygments_lexer": "ipython3",
   "version": "3.6.4"
  }
 },
 "nbformat": 4,
 "nbformat_minor": 1
}
