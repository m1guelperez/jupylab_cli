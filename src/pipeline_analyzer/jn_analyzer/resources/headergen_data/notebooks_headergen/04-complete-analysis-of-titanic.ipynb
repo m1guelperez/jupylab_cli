{
    "metadata": {
        "kernelspec": {
            "language": "python",
            "display_name": "Python 3",
            "name": "python3"
        },
        "language_info": {
            "pygments_lexer": "ipython3",
            "nbconvert_exporter": "python",
            "version": "3.6.4",
            "file_extension": ".py",
            "codemirror_mode": {
                "name": "ipython",
                "version": 3
            },
            "name": "python",
            "mimetype": "text/x-python"
        }
    },
    "nbformat_minor": 4,
    "nbformat": 4,
    "cells": [
        {
            "cell_type": "code",
            "source": "# This Python 3 environment comes with many helpful analytics libraries installed\n# It is defined by the kaggle/python Docker image: https://github.com/kaggle/docker-python\n# For example, here's several helpful packages to load\n\nimport numpy as np # linear algebra\nimport pandas as pd # data processing, CSV file I/O (e.g. pd.read_csv)\n\n# Input data files are available in the read-only \"../input/\" directory\n# For example, running this (by clicking run or pressing Shift+Enter) will list all files under the input directory\n\nimport os\nfor dirname, _, filenames in os.walk('/kaggle/input'):\n    for filename in filenames:\n        print(os.path.join(dirname, filename))\n\n# You can write up to 20GB to the current directory (/kaggle/working/) that gets preserved as output when you create a version using \"Save & Run All\" \n# You can also write temporary files to /kaggle/temp/, but they won't be saved outside of the current session",
            "metadata": {
                "_uuid": "8f2839f25d086af736a60e9eeb907d3b93b6e0e5",
                "_cell_guid": "b1076dfc-b9ad-4769-8c92-a6c4dae69d19",
                "execution": {
                    "iopub.status.busy": "2021-08-03T07:05:12.070261Z",
                    "iopub.execute_input": "2021-08-03T07:05:12.070885Z",
                    "iopub.status.idle": "2021-08-03T07:05:12.085697Z",
                    "shell.execute_reply.started": "2021-08-03T07:05:12.070707Z",
                    "shell.execute_reply": "2021-08-03T07:05:12.084344Z"
                },
                "trusted": true
            },
            "execution_count": null,
            "outputs": []
        },
        {
            "cell_type": "code",
            "source": "import matplotlib.pyplot as plt \n%matplotlib inline \nimport seaborn as sns",
            "metadata": {
                "execution": {
                    "iopub.status.busy": "2021-08-03T07:05:43.46807Z",
                    "iopub.execute_input": "2021-08-03T07:05:43.468671Z",
                    "iopub.status.idle": "2021-08-03T07:05:43.478226Z",
                    "shell.execute_reply.started": "2021-08-03T07:05:43.4686Z",
                    "shell.execute_reply": "2021-08-03T07:05:43.477222Z"
                },
                "trusted": true
            },
            "execution_count": null,
            "outputs": []
        },
        {
            "cell_type": "code",
            "source": "df_Train=pd.read_csv('/kaggle/input/titanic/train.csv')\ndf_Test=pd.read_csv('/kaggle/input/titanic/test.csv')",
            "metadata": {
                "execution": {
                    "iopub.status.busy": "2021-08-03T07:06:53.190711Z",
                    "iopub.execute_input": "2021-08-03T07:06:53.191058Z",
                    "iopub.status.idle": "2021-08-03T07:06:53.219961Z",
                    "shell.execute_reply.started": "2021-08-03T07:06:53.191031Z",
                    "shell.execute_reply": "2021-08-03T07:06:53.219121Z"
                },
                "trusted": true
            },
            "execution_count": null,
            "outputs": []
        },
        {
            "cell_type": "code",
            "source": "df_Train.head()",
            "metadata": {
                "execution": {
                    "iopub.status.busy": "2021-08-03T07:07:21.986468Z",
                    "iopub.execute_input": "2021-08-03T07:07:21.987009Z",
                    "iopub.status.idle": "2021-08-03T07:07:22.021416Z",
                    "shell.execute_reply.started": "2021-08-03T07:07:21.986975Z",
                    "shell.execute_reply": "2021-08-03T07:07:22.020694Z"
                },
                "trusted": true
            },
            "execution_count": null,
            "outputs": []
        },
        {
            "cell_type": "code",
            "source": "df_Test.head()",
            "metadata": {
                "execution": {
                    "iopub.status.busy": "2021-08-03T07:07:42.524477Z",
                    "iopub.execute_input": "2021-08-03T07:07:42.525093Z",
                    "iopub.status.idle": "2021-08-03T07:07:42.544429Z",
                    "shell.execute_reply.started": "2021-08-03T07:07:42.525059Z",
                    "shell.execute_reply": "2021-08-03T07:07:42.543354Z"
                },
                "trusted": true
            },
            "execution_count": null,
            "outputs": []
        },
        {
            "cell_type": "code",
            "source": "df_Train.isnull().sum()",
            "metadata": {
                "execution": {
                    "iopub.status.busy": "2021-08-03T07:08:00.992001Z",
                    "iopub.execute_input": "2021-08-03T07:08:00.992398Z",
                    "iopub.status.idle": "2021-08-03T07:08:01.003345Z",
                    "shell.execute_reply.started": "2021-08-03T07:08:00.992365Z",
                    "shell.execute_reply": "2021-08-03T07:08:01.002332Z"
                },
                "trusted": true
            },
            "execution_count": null,
            "outputs": []
        },
        {
            "cell_type": "code",
            "source": "df_Test.isnull().sum()",
            "metadata": {
                "execution": {
                    "iopub.status.busy": "2021-08-03T07:08:13.850181Z",
                    "iopub.execute_input": "2021-08-03T07:08:13.850517Z",
                    "iopub.status.idle": "2021-08-03T07:08:13.859757Z",
                    "shell.execute_reply.started": "2021-08-03T07:08:13.850489Z",
                    "shell.execute_reply": "2021-08-03T07:08:13.858695Z"
                },
                "trusted": true
            },
            "execution_count": null,
            "outputs": []
        },
        {
            "cell_type": "code",
            "source": "def bar_chart(feature):\n    survived = df_Train[df_Train['Survived']==1][feature].value_counts()\n    dead = df_Train[df_Train['Survived']==0][feature].value_counts()\n    df = pd.DataFrame([survived,dead])\n    df.index = ['Survived','Dead']\n    df.plot(kind='bar',stacked=True, figsize=(10,5))",
            "metadata": {
                "execution": {
                    "iopub.status.busy": "2021-08-03T07:09:07.060003Z",
                    "iopub.execute_input": "2021-08-03T07:09:07.060355Z",
                    "iopub.status.idle": "2021-08-03T07:09:07.067085Z",
                    "shell.execute_reply.started": "2021-08-03T07:09:07.060326Z",
                    "shell.execute_reply": "2021-08-03T07:09:07.066012Z"
                },
                "trusted": true
            },
            "execution_count": null,
            "outputs": []
        },
        {
            "cell_type": "code",
            "source": "bar_chart('Sex')",
            "metadata": {
                "execution": {
                    "iopub.status.busy": "2021-08-03T07:09:19.65477Z",
                    "iopub.execute_input": "2021-08-03T07:09:19.655344Z",
                    "iopub.status.idle": "2021-08-03T07:09:19.907839Z",
                    "shell.execute_reply.started": "2021-08-03T07:09:19.655309Z",
                    "shell.execute_reply": "2021-08-03T07:09:19.906617Z"
                },
                "trusted": true
            },
            "execution_count": null,
            "outputs": []
        },
        {
            "cell_type": "code",
            "source": "bar_chart('Pclass')",
            "metadata": {
                "execution": {
                    "iopub.status.busy": "2021-08-03T07:09:43.69274Z",
                    "iopub.execute_input": "2021-08-03T07:09:43.693092Z",
                    "iopub.status.idle": "2021-08-03T07:09:43.884316Z",
                    "shell.execute_reply.started": "2021-08-03T07:09:43.693063Z",
                    "shell.execute_reply": "2021-08-03T07:09:43.883307Z"
                },
                "trusted": true
            },
            "execution_count": null,
            "outputs": []
        },
        {
            "cell_type": "code",
            "source": "bar_chart('Embarked')",
            "metadata": {
                "execution": {
                    "iopub.status.busy": "2021-08-03T07:10:02.216349Z",
                    "iopub.execute_input": "2021-08-03T07:10:02.216839Z",
                    "iopub.status.idle": "2021-08-03T07:10:02.408768Z",
                    "shell.execute_reply.started": "2021-08-03T07:10:02.216802Z",
                    "shell.execute_reply": "2021-08-03T07:10:02.407446Z"
                },
                "trusted": true
            },
            "execution_count": null,
            "outputs": []
        },
        {
            "cell_type": "code",
            "source": "#Deleting unneccesary columns\ndf_Train.drop('Name', axis=1, inplace=True)\ndf_Test.drop('Name', axis=1, inplace=True)",
            "metadata": {
                "execution": {
                    "iopub.status.busy": "2021-08-03T07:10:20.214847Z",
                    "iopub.execute_input": "2021-08-03T07:10:20.215212Z",
                    "iopub.status.idle": "2021-08-03T07:10:20.223749Z",
                    "shell.execute_reply.started": "2021-08-03T07:10:20.21518Z",
                    "shell.execute_reply": "2021-08-03T07:10:20.222399Z"
                },
                "trusted": true
            },
            "execution_count": null,
            "outputs": []
        },
        {
            "cell_type": "code",
            "source": "df_Train.head()",
            "metadata": {
                "execution": {
                    "iopub.status.busy": "2021-08-03T07:10:32.303864Z",
                    "iopub.execute_input": "2021-08-03T07:10:32.304224Z",
                    "iopub.status.idle": "2021-08-03T07:10:32.323447Z",
                    "shell.execute_reply.started": "2021-08-03T07:10:32.304196Z",
                    "shell.execute_reply": "2021-08-03T07:10:32.322278Z"
                },
                "trusted": true
            },
            "execution_count": null,
            "outputs": []
        },
        {
            "cell_type": "code",
            "source": "df_Test.head()",
            "metadata": {
                "execution": {
                    "iopub.status.busy": "2021-08-03T07:10:52.833414Z",
                    "iopub.execute_input": "2021-08-03T07:10:52.833824Z",
                    "iopub.status.idle": "2021-08-03T07:10:52.853314Z",
                    "shell.execute_reply.started": "2021-08-03T07:10:52.833793Z",
                    "shell.execute_reply": "2021-08-03T07:10:52.851595Z"
                },
                "trusted": true
            },
            "execution_count": null,
            "outputs": []
        },
        {
            "cell_type": "code",
            "source": "df_Train.Sex[df_Train.Sex == 'male'] = 1\ndf_Train.Sex[df_Train.Sex == 'female'] = 2\n\ndf_Test.Sex[df_Test.Sex == 'male'] = 1\ndf_Test.Sex[df_Test.Sex == 'female'] = 2",
            "metadata": {
                "execution": {
                    "iopub.status.busy": "2021-08-03T07:11:07.097494Z",
                    "iopub.execute_input": "2021-08-03T07:11:07.097896Z",
                    "iopub.status.idle": "2021-08-03T07:11:07.119132Z",
                    "shell.execute_reply.started": "2021-08-03T07:11:07.097861Z",
                    "shell.execute_reply": "2021-08-03T07:11:07.117949Z"
                },
                "trusted": true
            },
            "execution_count": null,
            "outputs": []
        },
        {
            "cell_type": "code",
            "source": "df_Train.Embarked[df_Train.Embarked == 'Q'] = 1\ndf_Train.Embarked[df_Train.Embarked == 'S'] = 2\ndf_Train.Embarked[df_Train.Embarked == 'C'] = 3\n\ndf_Test.Embarked[df_Test.Embarked == 'Q'] = 1\ndf_Test.Embarked[df_Test.Embarked == 'S'] = 2\ndf_Test.Embarked[df_Test.Embarked == 'C'] = 3",
            "metadata": {
                "execution": {
                    "iopub.status.busy": "2021-08-03T07:11:23.635955Z",
                    "iopub.execute_input": "2021-08-03T07:11:23.636329Z",
                    "iopub.status.idle": "2021-08-03T07:11:23.661968Z",
                    "shell.execute_reply.started": "2021-08-03T07:11:23.636294Z",
                    "shell.execute_reply": "2021-08-03T07:11:23.661027Z"
                },
                "trusted": true
            },
            "execution_count": null,
            "outputs": []
        },
        {
            "cell_type": "code",
            "source": "df_Train['Age']=df_Train['Age'].fillna(df_Train['Age'].mode()[0])\ndf_Test['Age']=df_Test['Age'].fillna(df_Test['Age'].mode()[0])\n\ndf_Train['Embarked']=df_Train['Embarked'].fillna(df_Train['Embarked'].mode()[0])\ndf_Test['Fare']=df_Test['Fare'].fillna(df_Test['Fare'].mode()[0])",
            "metadata": {
                "execution": {
                    "iopub.status.busy": "2021-08-03T07:11:38.970592Z",
                    "iopub.execute_input": "2021-08-03T07:11:38.971027Z",
                    "iopub.status.idle": "2021-08-03T07:11:38.983657Z",
                    "shell.execute_reply.started": "2021-08-03T07:11:38.970993Z",
                    "shell.execute_reply": "2021-08-03T07:11:38.982362Z"
                },
                "trusted": true
            },
            "execution_count": null,
            "outputs": []
        },
        {
            "cell_type": "code",
            "source": "sns.heatmap(df_Train.isnull(),yticklabels=False,cbar=False)",
            "metadata": {
                "execution": {
                    "iopub.status.busy": "2021-08-03T07:11:52.052099Z",
                    "iopub.execute_input": "2021-08-03T07:11:52.05253Z",
                    "iopub.status.idle": "2021-08-03T07:11:52.274789Z",
                    "shell.execute_reply.started": "2021-08-03T07:11:52.052499Z",
                    "shell.execute_reply": "2021-08-03T07:11:52.27379Z"
                },
                "trusted": true
            },
            "execution_count": null,
            "outputs": []
        },
        {
            "cell_type": "code",
            "source": "sns.heatmap(df_Test.isnull(),yticklabels=False,cbar=False)",
            "metadata": {
                "execution": {
                    "iopub.status.busy": "2021-08-03T07:12:08.678689Z",
                    "iopub.execute_input": "2021-08-03T07:12:08.679061Z",
                    "iopub.status.idle": "2021-08-03T07:12:08.879917Z",
                    "shell.execute_reply.started": "2021-08-03T07:12:08.679025Z",
                    "shell.execute_reply": "2021-08-03T07:12:08.878938Z"
                },
                "trusted": true
            },
            "execution_count": null,
            "outputs": []
        },
        {
            "cell_type": "code",
            "source": "df_Train.drop(['Cabin'],axis=1,inplace=True)\ndf_Test.drop(['Cabin'],axis=1,inplace=True)\n\ndf_Train.drop(['Ticket'],axis=1,inplace=True)\ndf_Test.drop(['Ticket'],axis=1,inplace=True)",
            "metadata": {
                "execution": {
                    "iopub.status.busy": "2021-08-03T07:12:23.168466Z",
                    "iopub.execute_input": "2021-08-03T07:12:23.168907Z",
                    "iopub.status.idle": "2021-08-03T07:12:23.179794Z",
                    "shell.execute_reply.started": "2021-08-03T07:12:23.16887Z",
                    "shell.execute_reply": "2021-08-03T07:12:23.178363Z"
                },
                "trusted": true
            },
            "execution_count": null,
            "outputs": []
        },
        {
            "cell_type": "code",
            "source": "df_Train.head()",
            "metadata": {
                "execution": {
                    "iopub.status.busy": "2021-08-03T07:12:35.952809Z",
                    "iopub.execute_input": "2021-08-03T07:12:35.95315Z",
                    "iopub.status.idle": "2021-08-03T07:12:35.969174Z",
                    "shell.execute_reply.started": "2021-08-03T07:12:35.953122Z",
                    "shell.execute_reply": "2021-08-03T07:12:35.96786Z"
                },
                "trusted": true
            },
            "execution_count": null,
            "outputs": []
        },
        {
            "cell_type": "code",
            "source": "df_Test.head()",
            "metadata": {
                "execution": {
                    "iopub.status.busy": "2021-08-03T07:12:47.620222Z",
                    "iopub.execute_input": "2021-08-03T07:12:47.620605Z",
                    "iopub.status.idle": "2021-08-03T07:12:47.637421Z",
                    "shell.execute_reply.started": "2021-08-03T07:12:47.620571Z",
                    "shell.execute_reply": "2021-08-03T07:12:47.636374Z"
                },
                "trusted": true
            },
            "execution_count": null,
            "outputs": []
        },
        {
            "cell_type": "code",
            "source": "df_Train.Fare[df_Train.Fare <= 17] = 1\ndf_Train.Fare[(df_Train.Fare > 17) & (df_Train.Fare <= 30)] = 2\ndf_Train.Fare[(df_Train.Fare > 30) & (df_Train.Fare <= 100)] = 3\ndf_Train.Fare[df_Train.Fare > 100] = 4\n\ndf_Test.Fare[df_Test.Fare <= 17] = 1\ndf_Test.Fare[(df_Test.Fare > 17) & (df_Test.Fare <= 30)] = 2\ndf_Test.Fare[(df_Test.Fare > 30) & (df_Test.Fare <= 100)] = 3\ndf_Test.Fare[df_Test.Fare > 100] = 4",
            "metadata": {
                "execution": {
                    "iopub.status.busy": "2021-08-03T07:13:00.667825Z",
                    "iopub.execute_input": "2021-08-03T07:13:00.668198Z",
                    "iopub.status.idle": "2021-08-03T07:13:00.702342Z",
                    "shell.execute_reply.started": "2021-08-03T07:13:00.668156Z",
                    "shell.execute_reply": "2021-08-03T07:13:00.701075Z"
                },
                "trusted": true
            },
            "execution_count": null,
            "outputs": []
        },
        {
            "cell_type": "code",
            "source": "df_Train.Age[df_Train.Age <= 16] = 0\ndf_Train.Age[(df_Train.Age > 16) & (df_Train.Age <= 26)] = 1\ndf_Train.Age[(df_Train.Age > 26) & (df_Train.Age <= 36)] = 2\ndf_Train.Age[(df_Train.Age > 36) & (df_Train.Age <= 62)] = 3\ndf_Train.Age[df_Train.Age > 62] = 4\n\ndf_Test.Age[df_Test.Age <= 16] = 0\ndf_Test.Age[(df_Test.Age > 16) & (df_Test.Age <= 26)] = 1\ndf_Test.Age[(df_Test.Age > 26) & (df_Test.Age <= 36)] = 2\ndf_Test.Age[(df_Test.Age > 36) & (df_Test.Age <= 62)] = 3\ndf_Test.Age[df_Test.Age > 62] = 4",
            "metadata": {
                "execution": {
                    "iopub.status.busy": "2021-08-03T07:13:19.39311Z",
                    "iopub.execute_input": "2021-08-03T07:13:19.393578Z",
                    "iopub.status.idle": "2021-08-03T07:13:19.433907Z",
                    "shell.execute_reply.started": "2021-08-03T07:13:19.393526Z",
                    "shell.execute_reply": "2021-08-03T07:13:19.43259Z"
                },
                "trusted": true
            },
            "execution_count": null,
            "outputs": []
        },
        {
            "cell_type": "code",
            "source": "df_Train.head()",
            "metadata": {
                "execution": {
                    "iopub.status.busy": "2021-08-03T07:13:35.865421Z",
                    "iopub.execute_input": "2021-08-03T07:13:35.865832Z",
                    "iopub.status.idle": "2021-08-03T07:13:35.881499Z",
                    "shell.execute_reply.started": "2021-08-03T07:13:35.865799Z",
                    "shell.execute_reply": "2021-08-03T07:13:35.880584Z"
                },
                "trusted": true
            },
            "execution_count": null,
            "outputs": []
        },
        {
            "cell_type": "code",
            "source": "df_Test.head()",
            "metadata": {
                "execution": {
                    "iopub.status.busy": "2021-08-03T07:13:48.02377Z",
                    "iopub.execute_input": "2021-08-03T07:13:48.024141Z",
                    "iopub.status.idle": "2021-08-03T07:13:48.039879Z",
                    "shell.execute_reply.started": "2021-08-03T07:13:48.024102Z",
                    "shell.execute_reply": "2021-08-03T07:13:48.038592Z"
                },
                "trusted": true
            },
            "execution_count": null,
            "outputs": []
        },
        {
            "cell_type": "code",
            "source": "X=df_Train[['PassengerId','Pclass','Sex','Age','SibSp','Parch','Fare','Embarked']]\ny=df_Train[['Survived']]",
            "metadata": {
                "execution": {
                    "iopub.status.busy": "2021-08-03T07:14:02.215636Z",
                    "iopub.execute_input": "2021-08-03T07:14:02.216023Z",
                    "iopub.status.idle": "2021-08-03T07:14:02.223259Z",
                    "shell.execute_reply.started": "2021-08-03T07:14:02.215989Z",
                    "shell.execute_reply": "2021-08-03T07:14:02.222248Z"
                },
                "trusted": true
            },
            "execution_count": null,
            "outputs": []
        },
        {
            "cell_type": "code",
            "source": "from sklearn.model_selection import train_test_split\nX_train, X_test, y_train, y_test = train_test_split(X, y, test_size = 0.2, random_state = 0)",
            "metadata": {
                "execution": {
                    "iopub.status.busy": "2021-08-03T07:14:16.835328Z",
                    "iopub.execute_input": "2021-08-03T07:14:16.835689Z",
                    "iopub.status.idle": "2021-08-03T07:14:17.011243Z",
                    "shell.execute_reply.started": "2021-08-03T07:14:16.835659Z",
                    "shell.execute_reply": "2021-08-03T07:14:17.010282Z"
                },
                "trusted": true
            },
            "execution_count": null,
            "outputs": []
        },
        {
            "cell_type": "code",
            "source": "df_Train.isnull().sum()",
            "metadata": {
                "execution": {
                    "iopub.status.busy": "2021-08-03T07:14:30.87968Z",
                    "iopub.execute_input": "2021-08-03T07:14:30.880078Z",
                    "iopub.status.idle": "2021-08-03T07:14:30.89242Z",
                    "shell.execute_reply.started": "2021-08-03T07:14:30.880046Z",
                    "shell.execute_reply": "2021-08-03T07:14:30.891227Z"
                },
                "trusted": true
            },
            "execution_count": null,
            "outputs": []
        },
        {
            "cell_type": "code",
            "source": "df_Test.dtypes",
            "metadata": {
                "execution": {
                    "iopub.status.busy": "2021-08-03T07:14:52.258824Z",
                    "iopub.execute_input": "2021-08-03T07:14:52.259221Z",
                    "iopub.status.idle": "2021-08-03T07:14:52.269347Z",
                    "shell.execute_reply.started": "2021-08-03T07:14:52.259191Z",
                    "shell.execute_reply": "2021-08-03T07:14:52.267924Z"
                },
                "trusted": true
            },
            "execution_count": null,
            "outputs": []
        },
        {
            "cell_type": "code",
            "source": "df_Test['Sex'] = df_Test['Sex'].astype(int) \ndf_Test['Embarked'] = df_Test['Embarked'].astype(int)\ndf_Test.dtypes",
            "metadata": {
                "execution": {
                    "iopub.status.busy": "2021-08-03T07:15:20.264702Z",
                    "iopub.execute_input": "2021-08-03T07:15:20.265072Z",
                    "iopub.status.idle": "2021-08-03T07:15:20.277387Z",
                    "shell.execute_reply.started": "2021-08-03T07:15:20.265044Z",
                    "shell.execute_reply": "2021-08-03T07:15:20.276036Z"
                },
                "trusted": true
            },
            "execution_count": null,
            "outputs": []
        },
        {
            "cell_type": "code",
            "source": "df_Test.isnull().sum()",
            "metadata": {
                "execution": {
                    "iopub.status.busy": "2021-08-03T07:15:41.499376Z",
                    "iopub.execute_input": "2021-08-03T07:15:41.499812Z",
                    "iopub.status.idle": "2021-08-03T07:15:41.510297Z",
                    "shell.execute_reply.started": "2021-08-03T07:15:41.499778Z",
                    "shell.execute_reply": "2021-08-03T07:15:41.509145Z"
                },
                "trusted": true
            },
            "execution_count": null,
            "outputs": []
        },
        {
            "cell_type": "code",
            "source": "df_Test",
            "metadata": {
                "execution": {
                    "iopub.status.busy": "2021-08-03T07:15:53.363967Z",
                    "iopub.execute_input": "2021-08-03T07:15:53.364364Z",
                    "iopub.status.idle": "2021-08-03T07:15:53.388716Z",
                    "shell.execute_reply.started": "2021-08-03T07:15:53.364332Z",
                    "shell.execute_reply": "2021-08-03T07:15:53.387522Z"
                },
                "trusted": true
            },
            "execution_count": null,
            "outputs": []
        },
        {
            "cell_type": "code",
            "source": "from sklearn.preprocessing import StandardScaler\nsc = StandardScaler()\ndf_Test1 = sc.fit_transform(df_Test)\ndf_Test1",
            "metadata": {
                "execution": {
                    "iopub.status.busy": "2021-08-03T07:16:28.986314Z",
                    "iopub.execute_input": "2021-08-03T07:16:28.986699Z",
                    "iopub.status.idle": "2021-08-03T07:16:29.002322Z",
                    "shell.execute_reply.started": "2021-08-03T07:16:28.986665Z",
                    "shell.execute_reply": "2021-08-03T07:16:29.001131Z"
                },
                "trusted": true
            },
            "execution_count": null,
            "outputs": []
        },
        {
            "cell_type": "code",
            "source": "X.shape",
            "metadata": {
                "execution": {
                    "iopub.status.busy": "2021-08-03T07:16:52.600258Z",
                    "iopub.execute_input": "2021-08-03T07:16:52.600815Z",
                    "iopub.status.idle": "2021-08-03T07:16:52.608174Z",
                    "shell.execute_reply.started": "2021-08-03T07:16:52.600778Z",
                    "shell.execute_reply": "2021-08-03T07:16:52.60684Z"
                },
                "trusted": true
            },
            "execution_count": null,
            "outputs": []
        },
        {
            "cell_type": "code",
            "source": "# Feature Scaling\nfrom sklearn.preprocessing import StandardScaler\nsc = StandardScaler()\nX_train = sc.fit_transform(X_train)\nX_test = sc.transform(X_test)",
            "metadata": {
                "execution": {
                    "iopub.status.busy": "2021-08-03T07:17:08.298798Z",
                    "iopub.execute_input": "2021-08-03T07:17:08.299232Z",
                    "iopub.status.idle": "2021-08-03T07:17:08.317066Z",
                    "shell.execute_reply.started": "2021-08-03T07:17:08.299196Z",
                    "shell.execute_reply": "2021-08-03T07:17:08.315877Z"
                },
                "trusted": true
            },
            "execution_count": null,
            "outputs": []
        },
        {
            "cell_type": "code",
            "source": "import keras\nfrom keras.models import Sequential\nfrom keras.layers import Dense\nfrom keras.layers import LeakyReLU,PReLU,ELU\nfrom keras.layers import Dropout",
            "metadata": {
                "execution": {
                    "iopub.status.busy": "2021-08-03T07:17:25.284103Z",
                    "iopub.execute_input": "2021-08-03T07:17:25.284499Z",
                    "iopub.status.idle": "2021-08-03T07:17:31.635219Z",
                    "shell.execute_reply.started": "2021-08-03T07:17:25.284468Z",
                    "shell.execute_reply": "2021-08-03T07:17:31.634235Z"
                },
                "trusted": true
            },
            "execution_count": null,
            "outputs": []
        },
        {
            "cell_type": "code",
            "source": "classifier = Sequential()\nclassifier.add(Dense(units = 20, kernel_initializer = 'he_uniform',activation='relu',input_dim = 8))\nclassifier.add(Dense(units = 10, kernel_initializer = 'he_uniform',activation='relu'))\nclassifier.add(Dense(units = 15, kernel_initializer = 'he_uniform',activation='relu'))\nclassifier.add(Dense(units = 1, kernel_initializer = 'glorot_uniform', activation = 'sigmoid'))\n\nclassifier.compile(optimizer = 'Adamax', loss = 'binary_crossentropy', metrics = ['accuracy'])",
            "metadata": {
                "execution": {
                    "iopub.status.busy": "2021-08-03T07:17:47.294655Z",
                    "iopub.execute_input": "2021-08-03T07:17:47.295368Z",
                    "iopub.status.idle": "2021-08-03T07:17:47.430401Z",
                    "shell.execute_reply.started": "2021-08-03T07:17:47.29533Z",
                    "shell.execute_reply": "2021-08-03T07:17:47.429588Z"
                },
                "trusted": true
            },
            "execution_count": null,
            "outputs": []
        },
        {
            "cell_type": "code",
            "source": "model=classifier.fit(X_train, y_train, validation_split=0.350, batch_size = 5, epochs = 100)",
            "metadata": {
                "execution": {
                    "iopub.status.busy": "2021-08-03T07:18:04.192821Z",
                    "iopub.execute_input": "2021-08-03T07:18:04.193467Z",
                    "iopub.status.idle": "2021-08-03T07:18:27.876661Z",
                    "shell.execute_reply.started": "2021-08-03T07:18:04.193426Z",
                    "shell.execute_reply": "2021-08-03T07:18:27.87563Z"
                },
                "trusted": true
            },
            "execution_count": null,
            "outputs": []
        },
        {
            "cell_type": "code",
            "source": "y_pred = classifier.predict(df_Test1)\ny_pred = (y_pred > 0.5) #returns values in True / False in a list of lists format\n\n# Converting True and False values to int\ny_pred_int = y_pred.astype(int)\n\n# Coverting list of list to 1 flat list\ny_pred_list = [item for sublist in y_pred_int for item in sublist]\n\n# Converting the flat list to np array\ny_pred1 = np.asarray(y_pred_list , dtype = int)",
            "metadata": {
                "execution": {
                    "iopub.status.busy": "2021-08-03T07:18:41.634418Z",
                    "iopub.execute_input": "2021-08-03T07:18:41.63484Z",
                    "iopub.status.idle": "2021-08-03T07:18:41.778101Z",
                    "shell.execute_reply.started": "2021-08-03T07:18:41.634808Z",
                    "shell.execute_reply": "2021-08-03T07:18:41.777013Z"
                },
                "trusted": true
            },
            "execution_count": null,
            "outputs": []
        },
        {
            "cell_type": "code",
            "source": "y_pred1",
            "metadata": {
                "execution": {
                    "iopub.status.busy": "2021-08-03T07:18:59.112681Z",
                    "iopub.execute_input": "2021-08-03T07:18:59.113124Z",
                    "iopub.status.idle": "2021-08-03T07:18:59.121607Z",
                    "shell.execute_reply.started": "2021-08-03T07:18:59.113086Z",
                    "shell.execute_reply": "2021-08-03T07:18:59.120429Z"
                },
                "trusted": true
            },
            "execution_count": null,
            "outputs": []
        },
        {
            "cell_type": "code",
            "source": "output = pd.DataFrame({'PassengerId': df_Test.PassengerId, 'Survived': y_pred1})\noutput.to_csv('my_submission15.csv', index=False)",
            "metadata": {
                "execution": {
                    "iopub.status.busy": "2021-08-03T07:19:20.731834Z",
                    "iopub.execute_input": "2021-08-03T07:19:20.732212Z",
                    "iopub.status.idle": "2021-08-03T07:19:20.743805Z",
                    "shell.execute_reply.started": "2021-08-03T07:19:20.732182Z",
                    "shell.execute_reply": "2021-08-03T07:19:20.742643Z"
                },
                "trusted": true
            },
            "execution_count": null,
            "outputs": []
        },
        {
            "cell_type": "code",
            "source": "",
            "metadata": {},
            "execution_count": null,
            "outputs": []
        }
    ]
}