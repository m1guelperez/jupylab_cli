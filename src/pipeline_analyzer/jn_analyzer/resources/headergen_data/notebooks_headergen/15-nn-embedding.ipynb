{
    "cells": [
        {
            "metadata": {
                "_uuid": "8f2839f25d086af736a60e9eeb907d3b93b6e0e5",
                "_cell_guid": "b1076dfc-b9ad-4769-8c92-a6c4dae69d19",
                "trusted": true
            },
            "cell_type": "code",
            "source": "import os\nimport numpy as np\nimport pandas as pd",
            "execution_count": null,
            "outputs": []
        },
        {
            "metadata": {
                "_cell_guid": "79c7e3d0-c299-4dcb-8224-4455121ee9b0",
                "_uuid": "d629ff2d2480ee46fbb7e2d37f6b5fab8052498a",
                "trusted": true
            },
            "cell_type": "code",
            "source": "train_df = pd.read_csv('../input/train.csv')\ntest_df = pd.read_csv('../input/test.csv')",
            "execution_count": null,
            "outputs": []
        },
        {
            "metadata": {
                "trusted": true
            },
            "cell_type": "code",
            "source": "features = train_df.columns\nfeatures[2:]",
            "execution_count": null,
            "outputs": []
        },
        {
            "metadata": {
                "trusted": true
            },
            "cell_type": "code",
            "source": "from tqdm import tqdm_notebook as tqdm",
            "execution_count": null,
            "outputs": []
        },
        {
            "metadata": {
                "trusted": true
            },
            "cell_type": "code",
            "source": "# Code from: https://stackoverflow.com/questions/45028260/gaussian-to-uniform-distribution-conversion-has-errors-at-the-edges-of-uniform-d\ndef gaussian_estimation(vector):\n    mu = np.mean(vector)\n    sig = np.std(vector)\n    return mu, sig\n\n# Adjusts the data so it forms a gaussian with mean of 0 and std of 1\ndef gaussian_normalization(vector, char = None):\n    if char is None:\n        mu , sig = gaussian_estimation(vector)\n    else:\n        mu = char[0]\n        sig = char[1]\n    normalized = (vector-mu)/sig\n    return normalized\n\n# Taken from https://en.wikipedia.org/wiki/Normal_distribution#Cumulative_distribution_function\ndef CDF(x, max_i = 100):\n    sum = x\n    value = x\n    for i in np.arange(max_i)+1:\n        value = value*x*x/(2.0*i+1)\n        sum = sum + value\n    return 0.5 + (sum/np.sqrt(2*np.pi))*np.exp(-1*(x*x)/2)\n\ndef gaussian_to_uniform(vector, if_normal = False):\n    if (if_normal == False):\n        vector = gaussian_normalization(vector)\n    uni = np.apply_along_axis(CDF, 0, vector)\n    return uni\n",
            "execution_count": null,
            "outputs": []
        },
        {
            "metadata": {
                "trusted": true
            },
            "cell_type": "code",
            "source": "#for f in tqdm(features[2:]):\n#     train_df.loc[:, f] = gaussian_to_uniform(train_df.loc[:, f].values)\n#    \n#     test_df.loc[:, f] = gaussian_to_uniform(test_df.loc[:, f].values)",
            "execution_count": null,
            "outputs": []
        },
        {
            "metadata": {
                "trusted": true
            },
            "cell_type": "code",
            "source": "from keras.utils import Sequence  \nfrom keras.callbacks import Callback\nimport random\n\nclass DataGenerator(Sequence):\n    def __init__(self, x, y, batch_size=256):\n        self.x = x\n        self.y = y\n        self.batch_size = batch_size\n        \n        self.pos_x = x[y==1]\n        self.neg_x = x[y==0]\n        \n        self.pos_idx = list(range(len(self.pos_x)))\n        self.neg_idx = list(range(len(self.neg_x)))\n        \n    def __len__(self):\n        return int(len(self.y)/self.batch_size)\n    \n    def __getitem__(self, indx):\n        poss_b, neg_b, anch_b = [], [], []\n        \n        for _ in range(self.batch_size):\n            if random.uniform(0, 1) > 0.5:\n                p_i = random.choice(self.pos_idx)\n                n_i = random.choice(self.neg_idx)\n                a_i = random.choice(self.pos_idx)\n                    \n                p_x = self.pos_x[p_i]\n                n_x = self.neg_x[n_i]\n                a_x = self.pos_x[a_i]\n            else:\n                p_i = random.choice(self.neg_idx)\n                n_i = random.choice(self.pos_idx)\n                a_i = random.choice(self.neg_idx)\n                \n                p_x = self.neg_x[p_i]\n                n_x = self.pos_x[n_i]\n                a_x = self.neg_x[a_i]\n            # augmentation\n            if random.uniform(0, 1) > 0.5:\n                ids = [0, 1]\n                np.random.shuffle(ids)\n                _x = np.array([p_x, a_x])\n                _x1 = np.array([p_x, a_x])\n                for c in range(_x.shape[1]):\n                    np.random.shuffle(ids)\n                    _x1[:,c] = _x[ids][:,c]\n                p_x, a_x = _x1[0], _x[1]    \n            \n            poss_b.append(p_x)\n            neg_b.append(n_x)\n            anch_b.append(a_x)\n        return [np.array(poss_b), np.array(neg_b), np.array(anch_b)], np.zeros((self.batch_size, 2))",
            "execution_count": null,
            "outputs": []
        },
        {
            "metadata": {
                "trusted": true
            },
            "cell_type": "code",
            "source": "class CyclicLR(Callback):\n    \"\"\"This callback implements a cyclical learning rate policy (CLR).\n    The method cycles the learning rate between two boundaries with\n    some constant frequency, as detailed in this paper (https://arxiv.org/abs/1506.01186).\n    The amplitude of the cycle can be scaled on a per-iteration or \n    per-cycle basis.\n    This class has three built-in policies, as put forth in the paper.\n    \"triangular\":\n        A basic triangular cycle w/ no amplitude scaling.\n    \"triangular2\":\n        A basic triangular cycle that scales initial amplitude by half each cycle.\n    \"exp_range\":\n        A cycle that scales initial amplitude by gamma**(cycle iterations) at each \n        cycle iteration.\n    For more detail, please see paper.\n    \n    # Example\n        ```python\n            clr = CyclicLR(base_lr=0.001, max_lr=0.006,\n                                step_size=2000., mode='triangular')\n            model.fit(X_train, Y_train, callbacks=[clr])\n        ```\n    \n    Class also supports custom scaling functions:\n        ```python\n            clr_fn = lambda x: 0.5*(1+np.sin(x*np.pi/2.))\n            clr = CyclicLR(base_lr=0.001, max_lr=0.006,\n                                step_size=2000., scale_fn=clr_fn,\n                                scale_mode='cycle')\n            model.fit(X_train, Y_train, callbacks=[clr])\n        ```    \n    # Arguments\n        base_lr: initial learning rate which is the\n            lower boundary in the cycle.\n        max_lr: upper boundary in the cycle. Functionally,\n            it defines the cycle amplitude (max_lr - base_lr).\n            The lr at any cycle is the sum of base_lr\n            and some scaling of the amplitude; therefore \n            max_lr may not actually be reached depending on\n            scaling function.\n        step_size: number of training iterations per\n            half cycle. Authors suggest setting step_size\n            2-8 x training iterations in epoch.\n        mode: one of {triangular, triangular2, exp_range}.\n            Default 'triangular'.\n            Values correspond to policies detailed above.\n            If scale_fn is not None, this argument is ignored.\n        gamma: constant in 'exp_range' scaling function:\n            gamma**(cycle iterations)\n        scale_fn: Custom scaling policy defined by a single\n            argument lambda function, where \n            0 <= scale_fn(x) <= 1 for all x >= 0.\n            mode paramater is ignored \n        scale_mode: {'cycle', 'iterations'}.\n            Defines whether scale_fn is evaluated on \n            cycle number or cycle iterations (training\n            iterations since start of cycle). Default is 'cycle'.\n    \"\"\"\n\n    def __init__(self, base_lr=0.001, max_lr=0.006, step_size=2000., mode='triangular',\n                 gamma=1., scale_fn=None, scale_mode='cycle', decay=0.1):\n        super(CyclicLR, self).__init__()\n\n        self.base_lr = base_lr\n        self.max_lr = max_lr\n        self.step_size = step_size\n        self.mode = mode\n        self.gamma = gamma\n        if scale_fn == None:\n            if self.mode == 'triangular':\n                self.scale_fn = lambda x: 1.\n                self.scale_mode = 'cycle'\n            elif self.mode == 'triangular2':\n                self.scale_fn = lambda x: 1/(2.**(x-1))\n                self.scale_mode = 'cycle'\n            elif self.mode == 'exp_range':\n                self.scale_fn = lambda x: gamma**(x)\n                self.scale_mode = 'iterations'\n        else:\n            self.scale_fn = scale_fn\n            self.scale_mode = scale_mode\n        self.clr_iterations = 0.\n        self.trn_iterations = 0.\n        self.history = {}\n        self.decay = decay\n\n        self._reset()\n\n    def _reset(self, new_base_lr=None, new_max_lr=None,\n               new_step_size=None):\n        \"\"\"Resets cycle iterations.\n        Optional boundary/step size adjustment.\n        \"\"\"\n        if new_base_lr != None:\n            self.base_lr = new_base_lr\n        if new_max_lr != None:\n            self.max_lr = new_max_lr\n        if new_step_size != None:\n            self.step_size = new_step_size\n        self.clr_iterations = 0.\n        \n    def clr(self):\n        cycle = np.floor(1+self.clr_iterations/(2*self.step_size))\n        x = np.abs(self.clr_iterations/self.step_size - 2*cycle + 1)\n        if self.scale_mode == 'cycle':\n            return self.base_lr + (self.max_lr-self.base_lr)*np.maximum(0, (1-x))*self.scale_fn(cycle)\n        else:\n            return self.base_lr + (self.max_lr-self.base_lr)*np.maximum(0, (1-x))*self.scale_fn(self.clr_iterations)\n        \n    def on_train_begin(self, logs={}):\n        logs = logs or {}\n\n        if self.clr_iterations == 0:\n            K.set_value(self.model.optimizer.lr, self.base_lr)\n        else:\n            K.set_value(self.model.optimizer.lr, self.clr())        \n            \n    def on_batch_end(self, epoch, logs=None):\n        \n        logs = logs or {}\n        self.trn_iterations += 1\n        self.clr_iterations += 1\n\n        self.history.setdefault('lr', []).append(K.get_value(self.model.optimizer.lr))\n        self.history.setdefault('iterations', []).append(self.trn_iterations)\n\n        for k, v in logs.items():\n            self.history.setdefault(k, []).append(v)\n        \n        K.set_value(self.model.optimizer.lr, self.clr())\n        \n        \n    def on_epoch_end(self, epoch, logs=None):\n        self.base_lr = self.base_lr*np.exp(-epoch*self.decay)\n        self.max_lr = self.max_lr*np.exp(-epoch*self.decay)\n\n",
            "execution_count": null,
            "outputs": []
        },
        {
            "metadata": {
                "trusted": true
            },
            "cell_type": "code",
            "source": "from keras import Model\nfrom keras.layers import Dense, BatchNormalization, Activation, Dropout, Input, Add, AlphaDropout, GaussianNoise, GaussianDropout, Conv1D, GlobalMaxPool1D, Concatenate, LeakyReLU\nfrom keras.optimizers import Nadam\n",
            "execution_count": null,
            "outputs": []
        },
        {
            "metadata": {
                "trusted": true
            },
            "cell_type": "code",
            "source": "OUTPUT_SIZE = 32",
            "execution_count": null,
            "outputs": []
        },
        {
            "metadata": {
                "trusted": true
            },
            "cell_type": "code",
            "source": "import keras.backend as K\nbeta=OUTPUT_SIZE\nepsilon=1e-4\ndef triplet_loss_distance(y_true, y_pred):\n    y_pred = K.sigmoid(y_pred)\n    anchor = y_pred[..., :OUTPUT_SIZE]\n    positive = y_pred[..., OUTPUT_SIZE:2*OUTPUT_SIZE]\n    negative = y_pred[..., 2*OUTPUT_SIZE:]\n    \n    # distance between the anchor and the positive\n    pos_dist = K.tf.reduce_sum(K.tf.square(K.tf.subtract(anchor,positive)),1)\n    # distance between the anchor and the negative\n    neg_dist = K.tf.reduce_sum(K.tf.square(K.tf.subtract(anchor,negative)),1)\n    \n    #Non Linear Values  \n    \n    # -ln(-x/N+1)\n    pos_dist = -K.tf.log(-K.tf.divide((pos_dist),beta)+1+epsilon)\n    neg_dist = -K.tf.log(-K.tf.divide((OUTPUT_SIZE-neg_dist),beta)+1+epsilon)\n    \n    return pos_dist + neg_dist",
            "execution_count": null,
            "outputs": []
        },
        {
            "metadata": {
                "trusted": true
            },
            "cell_type": "code",
            "source": "def get_model(shape=(200,)):\n    inp = Input(shape)\n    \n    x = GaussianNoise(0.01)(inp)\n    x = Dense(128, kernel_initializer='glorot_normal')(x)\n    x = BatchNormalization()(x)\n    x = Activation('relu')(x)\n    \n    x = Dense(128, kernel_initializer='glorot_normal')(x)\n    x = BatchNormalization()(x)\n    x = Activation('relu')(x)\n    \n    x = Dense(64, kernel_initializer='glorot_normal')(x)\n    x = BatchNormalization()(x)\n    x = Activation('relu')(x)\n    \n    x = Dense(64, kernel_initializer='glorot_normal')(x)\n    x = BatchNormalization()(x)\n    x = Activation('relu')(x)\n    \n    x = Dense(32)(x)\n    \n    model = Model(inp, x)\n    return model",
            "execution_count": null,
            "outputs": []
        },
        {
            "metadata": {
                "trusted": true
            },
            "cell_type": "code",
            "source": "emb_model = get_model()\n    ",
            "execution_count": null,
            "outputs": []
        },
        {
            "metadata": {
                "trusted": true
            },
            "cell_type": "code",
            "source": "p_inp, n_inp, a_inp = Input((200,)), Input((200,)), Input((200,))\n\npo, no, ao = emb_model(p_inp), emb_model(n_inp), emb_model(a_inp)\nout = Concatenate()([ao, po, no])\n\nmodel = Model(inputs=[p_inp, n_inp, a_inp], outputs=out)\nmodel.compile(optimizer=Nadam(1e-3), loss=triplet_loss_distance)\n",
            "execution_count": null,
            "outputs": []
        },
        {
            "metadata": {
                "trusted": true
            },
            "cell_type": "code",
            "source": "x_train = train_df.iloc[:, 2:].values\ny = train_df.loc[:, 'target'].values",
            "execution_count": null,
            "outputs": []
        },
        {
            "metadata": {
                "trusted": true
            },
            "cell_type": "code",
            "source": "model.fit_generator(DataGenerator(x_train, y, batch_size=1024), \n                    steps_per_epoch=1000,\n                    epochs=15,\n                    callbacks=[CyclicLR(base_lr=1*1e-3, max_lr=7*1e-3, step_size=500)])",
            "execution_count": null,
            "outputs": []
        },
        {
            "metadata": {
                "trusted": true
            },
            "cell_type": "code",
            "source": "x_emb = emb_model.predict(x_train, verbose=1)\nx_emb_t = emb_model.predict(test_df.iloc[:, 1:].values, verbose=1)\n\nnp.savez('emb.npz', x=x_emb, xt=x_emb_t)",
            "execution_count": null,
            "outputs": []
        },
        {
            "metadata": {
                "trusted": true
            },
            "cell_type": "code",
            "source": "import matplotlib.pyplot as plt",
            "execution_count": null,
            "outputs": []
        },
        {
            "metadata": {
                "trusted": true
            },
            "cell_type": "code",
            "source": "from sklearn.decomposition import PCA",
            "execution_count": null,
            "outputs": []
        },
        {
            "metadata": {
                "trusted": true
            },
            "cell_type": "code",
            "source": "pca = PCA(n_components=2)\nx_pca = pca.fit_transform(x_emb)",
            "execution_count": null,
            "outputs": []
        },
        {
            "metadata": {
                "trusted": true
            },
            "cell_type": "code",
            "source": "pca.explained_variance_ratio_",
            "execution_count": null,
            "outputs": []
        },
        {
            "metadata": {
                "trusted": true
            },
            "cell_type": "code",
            "source": "xep = x_pca[y==1]\nxen = x_pca[y==0]",
            "execution_count": null,
            "outputs": []
        },
        {
            "metadata": {
                "trusted": true
            },
            "cell_type": "code",
            "source": "plt.figure(figsize=(10,10))\n\nplt.scatter(xep[:, 0], xep[:, 1], alpha=0.9)\nplt.scatter(xen[:, 0], xen[:, 1], alpha=0.3)",
            "execution_count": null,
            "outputs": []
        },
        {
            "metadata": {
                "trusted": true
            },
            "cell_type": "code",
            "source": "",
            "execution_count": null,
            "outputs": []
        },
        {
            "metadata": {
                "trusted": true
            },
            "cell_type": "code",
            "source": "",
            "execution_count": null,
            "outputs": []
        }
    ],
    "metadata": {
        "kernelspec": {
            "display_name": "Python 3",
            "language": "python",
            "name": "python3"
        },
        "language_info": {
            "name": "python",
            "version": "3.6.4",
            "mimetype": "text/x-python",
            "codemirror_mode": {
                "name": "ipython",
                "version": 3
            },
            "pygments_lexer": "ipython3",
            "nbconvert_exporter": "python",
            "file_extension": ".py"
        }
    },
    "nbformat": 4,
    "nbformat_minor": 1
}