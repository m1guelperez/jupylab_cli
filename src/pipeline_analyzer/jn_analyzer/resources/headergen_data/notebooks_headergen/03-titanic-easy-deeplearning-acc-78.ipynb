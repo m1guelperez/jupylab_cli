{
    "cells": [
        {
            "metadata": {
                "_uuid": "8f2839f25d086af736a60e9eeb907d3b93b6e0e5",
                "_cell_guid": "b1076dfc-b9ad-4769-8c92-a6c4dae69d19",
                "trusted": true
            },
            "cell_type": "code",
            "source": "import numpy as np\nimport pandas as pd\nimport tensorflow as tf\nfrom tensorflow import keras\ntrain = pd.read_csv('/kaggle/input/titanic/train.csv')\ntrain['Sec_Name'] = train['Name'].astype(str).str.split().str[1]\n#print(train)\nY_train = np.array(train['Survived'])\nX_train = train[['Pclass', 'Sex', 'Age', 'Embarked', 'Sec_Name']]\nX_train = X_train.replace('male', 0)\nX_train = X_train.replace('female', 1)\nX_train['Embarked'] = X_train['Embarked'].replace('S',1)\nX_train['Embarked'] = X_train['Embarked'].replace('C',2)\nX_train['Embarked'] = X_train['Embarked'].replace('Q',3)\nX_train = X_train.replace(np.nan, X_train['Age'].mean())\nX_train['Sec_Name'] = X_train['Sec_Name'].replace('Mr.',1)\nX_train['Sec_Name'] = X_train['Sec_Name'].replace('Mrs.',2)\nX_train['Sec_Name'] = X_train['Sec_Name'].replace('Miss.',3)\nX_train['Sec_Name'] = X_train['Sec_Name'].replace('Master.',4)\nX_train['Sec_Name'] = pd.to_numeric(X_train['Sec_Name'], errors = 'coerce')\nX_train['Sec_Name'] = X_train['Sec_Name'].replace(np.nan,0)\nX_train = np.array(X_train)\nprint(X_train)",
            "execution_count": null,
            "outputs": []
        },
        {
            "metadata": {
                "trusted": true
            },
            "cell_type": "code",
            "source": "class myCallback(tf.keras.callbacks.Callback):\n    def on_epoch_end(self, epoch, logs={}):\n        if(logs.get('accuracy') > 0.82):\n            self.model.stop_training = True\ncallbacks = myCallback();",
            "execution_count": null,
            "outputs": []
        },
        {
            "metadata": {
                "_uuid": "d629ff2d2480ee46fbb7e2d37f6b5fab8052498a",
                "_cell_guid": "79c7e3d0-c299-4dcb-8224-4455121ee9b0",
                "trusted": true
            },
            "cell_type": "code",
            "source": "model = tf.keras.Sequential([keras.layers.Dense(5, input_dim = 5, activation = tf.nn.relu), tf.keras.layers.Dense(4, activation = tf.nn.relu), tf.keras.layers.Dense(3, activation = tf.nn.relu), tf.keras.layers.Dense(2, activation = tf.nn.relu), tf.keras.layers.Dense(1, activation = tf.nn.sigmoid)])\nmodel.compile(optimizer=\"Adam\", loss = 'binary_crossentropy', metrics = ['accuracy'])\nmodel.fit(X_train, Y_train, validation_split=0.15,epochs = 100,batch_size=5, callbacks = [callbacks])",
            "execution_count": null,
            "outputs": []
        },
        {
            "metadata": {
                "trusted": true
            },
            "cell_type": "code",
            "source": "test = pd.read_csv('/kaggle/input/titanic/test.csv')\ntest['Sec_Name'] = test['Name'].astype(str).str.split().str[1]\nX_test = test[['Pclass', 'Sex', 'Age', 'Embarked', 'Sec_Name']]\nX_test = X_test.replace('male', 0)\nX_test = X_test.replace('female', 1)\nX_test = X_test.replace(np.nan, X_test['Age'].mean())\nX_test['Embarked'] = X_test['Embarked'].replace('S',1)\nX_test['Embarked'] = X_test['Embarked'].replace('C',2)\nX_test['Embarked'] = X_test['Embarked'].replace('Q',3)\nX_test['Sec_Name'] = X_test['Sec_Name'].replace('Mr.',1)\nX_test['Sec_Name'] = X_test['Sec_Name'].replace('Mrs.',2)\nX_test['Sec_Name'] = X_test['Sec_Name'].replace('Miss.',3)\nX_test['Sec_Name'] = X_test['Sec_Name'].replace('Master.',4)\nX_test['Sec_Name'] = pd.to_numeric(X_test['Sec_Name'], errors = 'coerce')\nX_test['Sec_Name'] = X_test['Sec_Name'].replace(np.nan,0)\nX_test = np.array(X_test)\np = model.predict(X_test)\np = np.where(p >= 0.5, 1, 0)\n#model.evaluate(x_test, y_test)\n#np.savetxt(\"test_ans4.csv\", p, delimiter=\",\")\ndf_sub = pd.DataFrame()\ndf_sub['PassengerId'] = test['PassengerId']\ndf_sub['Survived'] = p.astype(np.int)\n\ndf_sub.to_csv('submission4.csv', index=False)",
            "execution_count": null,
            "outputs": []
        },
        {
            "metadata": {
                "trusted": true
            },
            "cell_type": "code",
            "source": "",
            "execution_count": null,
            "outputs": []
        }
    ],
    "metadata": {
        "kernelspec": {
            "language": "python",
            "display_name": "Python 3",
            "name": "python3"
        },
        "language_info": {
            "pygments_lexer": "ipython3",
            "nbconvert_exporter": "python",
            "version": "3.6.4",
            "file_extension": ".py",
            "codemirror_mode": {
                "name": "ipython",
                "version": 3
            },
            "name": "python",
            "mimetype": "text/x-python"
        }
    },
    "nbformat": 4,
    "nbformat_minor": 4
}