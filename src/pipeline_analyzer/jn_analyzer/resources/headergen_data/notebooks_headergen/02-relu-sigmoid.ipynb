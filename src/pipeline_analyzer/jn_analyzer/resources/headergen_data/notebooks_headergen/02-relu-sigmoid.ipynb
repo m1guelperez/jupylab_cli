{
    "metadata": {
        "kernelspec": {
            "language": "python",
            "display_name": "Python 3",
            "name": "python3"
        },
        "language_info": {
            "pygments_lexer": "ipython3",
            "nbconvert_exporter": "python",
            "version": "3.6.4",
            "file_extension": ".py",
            "codemirror_mode": {
                "name": "ipython",
                "version": 3
            },
            "name": "python",
            "mimetype": "text/x-python"
        }
    },
    "nbformat_minor": 4,
    "nbformat": 4,
    "cells": [
        {
            "cell_type": "code",
            "source": "import pandas as pd\nimport numpy as np\nimport h5py\nimport tensorflow as tf\nfrom tensorflow import keras\nfrom keras.models import Sequential\nfrom keras.layers import Dense\nfrom keras.layers import Dropout\nfrom keras.optimizers import Adam\nfrom keras.optimizers import SGD\nimport matplotlib.pyplot as plt\nfrom keras.models import load_model",
            "metadata": {
                "_uuid": "8f2839f25d086af736a60e9eeb907d3b93b6e0e5",
                "_cell_guid": "b1076dfc-b9ad-4769-8c92-a6c4dae69d19",
                "execution": {
                    "iopub.status.busy": "2021-09-05T15:37:25.609568Z",
                    "iopub.execute_input": "2021-09-05T15:37:25.609819Z",
                    "iopub.status.idle": "2021-09-05T15:37:29.620867Z",
                    "shell.execute_reply.started": "2021-09-05T15:37:25.609796Z",
                    "shell.execute_reply": "2021-09-05T15:37:29.620047Z"
                },
                "trusted": true
            },
            "execution_count": null,
            "outputs": []
        },
        {
            "cell_type": "code",
            "source": "train_df = pd.read_csv(\"../input/titanic/train.csv\")\ntest_df = pd.read_csv(\"../input/titanic/test.csv\")",
            "metadata": {
                "execution": {
                    "iopub.status.busy": "2021-09-05T15:37:29.622514Z",
                    "iopub.execute_input": "2021-09-05T15:37:29.622846Z",
                    "iopub.status.idle": "2021-09-05T15:37:29.643686Z",
                    "shell.execute_reply.started": "2021-09-05T15:37:29.622811Z",
                    "shell.execute_reply": "2021-09-05T15:37:29.642971Z"
                },
                "trusted": true
            },
            "execution_count": null,
            "outputs": []
        },
        {
            "cell_type": "code",
            "source": "train_df['Age'].fillna((train_df['Age'].mean()),inplace=True)\n\ntest_df['Age'].fillna((test_df['Age'].mean()),inplace=True)\n\ntrain_df['Sex'] = train_df['Sex'].replace('male',value = 1)\ntrain_df['Sex'] = train_df['Sex'].replace('female',value = 0)\n\ntest_df['Sex'] = test_df['Sex'].replace('male',value = 1)\ntest_df['Sex'] = test_df['Sex'].replace('female',value = 0)",
            "metadata": {
                "execution": {
                    "iopub.status.busy": "2021-09-05T15:37:29.645221Z",
                    "iopub.execute_input": "2021-09-05T15:37:29.645471Z",
                    "iopub.status.idle": "2021-09-05T15:37:29.662138Z",
                    "shell.execute_reply.started": "2021-09-05T15:37:29.645448Z",
                    "shell.execute_reply": "2021-09-05T15:37:29.661402Z"
                },
                "trusted": true
            },
            "execution_count": null,
            "outputs": []
        },
        {
            "cell_type": "code",
            "source": "train_df.describe()",
            "metadata": {
                "execution": {
                    "iopub.status.busy": "2021-09-05T15:37:29.664364Z",
                    "iopub.execute_input": "2021-09-05T15:37:29.664837Z",
                    "iopub.status.idle": "2021-09-05T15:37:29.708232Z",
                    "shell.execute_reply.started": "2021-09-05T15:37:29.664802Z",
                    "shell.execute_reply": "2021-09-05T15:37:29.707341Z"
                },
                "trusted": true
            },
            "execution_count": null,
            "outputs": []
        },
        {
            "cell_type": "code",
            "source": "n_train = 700\nX_train_class = train_df[\"Pclass\"].values.reshape(-1,1)\nX_train_sex = train_df[\"Sex\"].values.reshape(-1,1)\nX_train_age = train_df[\"Age\"].values.reshape(-1,1)\nX_train_sib = train_df[\"SibSp\"].values.reshape(-1,1)\nX_train_par = train_df[\"Parch\"].values.reshape(-1,1)\n\n\ny = train_df[\"Survived\"].values.T",
            "metadata": {
                "execution": {
                    "iopub.status.busy": "2021-09-05T15:37:29.709547Z",
                    "iopub.execute_input": "2021-09-05T15:37:29.709883Z",
                    "iopub.status.idle": "2021-09-05T15:37:29.71784Z",
                    "shell.execute_reply.started": "2021-09-05T15:37:29.70985Z",
                    "shell.execute_reply": "2021-09-05T15:37:29.716961Z"
                },
                "trusted": true
            },
            "execution_count": null,
            "outputs": []
        },
        {
            "cell_type": "code",
            "source": "X_train = np.hstack((X_train_sex[:n_train,:],X_train_class[:n_train,:],X_train_sib[:n_train,:],X_train_age[:n_train,:],X_train_par[:n_train,:]))\nX_test = np.hstack((X_train_sex[n_train:,:],X_train_class[n_train:,:],X_train_sib[n_train:,:],X_train_age[n_train:,:],X_train_par[n_train:,:]))\nX_train, X_test = tf.convert_to_tensor(X_train.astype(np.float64)),tf.convert_to_tensor(X_test.astype(np.float64))\ny_train, y_test = y[:n_train], y[n_train:]",
            "metadata": {
                "execution": {
                    "iopub.status.busy": "2021-09-05T15:37:29.719024Z",
                    "iopub.execute_input": "2021-09-05T15:37:29.71945Z",
                    "iopub.status.idle": "2021-09-05T15:37:31.309859Z",
                    "shell.execute_reply.started": "2021-09-05T15:37:29.719414Z",
                    "shell.execute_reply": "2021-09-05T15:37:31.30895Z"
                },
                "trusted": true
            },
            "execution_count": null,
            "outputs": []
        },
        {
            "cell_type": "code",
            "source": "model = Sequential()\nmodel.add(Dense(300,input_dim=5,activation='relu'))\nmodel.add(Dropout(0.2))\nmodel.add(Dense(150,activation='relu'))\nmodel.add(Dropout(0.2))\nmodel.add(Dense(100,activation='relu'))\nmodel.add(Dropout(0.2))\nmodel.add(Dense(50,activation='relu'))\nmodel.add(Dropout(0.2))\nmodel.add(Dense(25,activation='relu'))\nmodel.add(Dropout(0.2))\nmodel.add(Dense(1,activation='sigmoid'))\nmodel.compile(loss='binary_crossentropy', optimizer=Adam(learning_rate=0.01,beta_1=0.99,beta_2=0.999), metrics=['accuracy'])",
            "metadata": {
                "execution": {
                    "iopub.status.busy": "2021-09-05T15:48:24.597173Z",
                    "iopub.execute_input": "2021-09-05T15:48:24.59758Z",
                    "iopub.status.idle": "2021-09-05T15:48:24.664261Z",
                    "shell.execute_reply.started": "2021-09-05T15:48:24.597551Z",
                    "shell.execute_reply": "2021-09-05T15:48:24.663531Z"
                },
                "trusted": true
            },
            "execution_count": null,
            "outputs": []
        },
        {
            "cell_type": "code",
            "source": "history = model.fit(X_train, y_train, validation_data=(X_test, y_test), epochs = 300, verbose = 0)",
            "metadata": {
                "execution": {
                    "iopub.status.busy": "2021-09-05T15:48:26.206504Z",
                    "iopub.execute_input": "2021-09-05T15:48:26.20681Z",
                    "iopub.status.idle": "2021-09-05T15:48:54.894593Z",
                    "shell.execute_reply.started": "2021-09-05T15:48:26.206783Z",
                    "shell.execute_reply": "2021-09-05T15:48:54.893648Z"
                },
                "trusted": true
            },
            "execution_count": null,
            "outputs": []
        },
        {
            "cell_type": "code",
            "source": "_, train_acc = model.evaluate(X_train, y_train, verbose=2)\n_, test_acc = model.evaluate(X_test, y_test, verbose=2)\nprint('Train: %.3f, Test: %.3f' % (train_acc, test_acc))\n\nplt.plot(history.history['accuracy'], label='train')\nplt.plot(history.history['val_accuracy'], label='test')\nplt.legend()\nplt.show()",
            "metadata": {
                "execution": {
                    "iopub.status.busy": "2021-09-05T15:48:54.896515Z",
                    "iopub.execute_input": "2021-09-05T15:48:54.896822Z",
                    "iopub.status.idle": "2021-09-05T15:48:55.182163Z",
                    "shell.execute_reply.started": "2021-09-05T15:48:54.896786Z",
                    "shell.execute_reply": "2021-09-05T15:48:55.181265Z"
                },
                "trusted": true
            },
            "execution_count": null,
            "outputs": []
        },
        {
            "cell_type": "code",
            "source": "model.save('model_' + str(1) + '.h5')",
            "metadata": {
                "execution": {
                    "iopub.status.busy": "2021-09-05T15:51:29.335098Z",
                    "iopub.execute_input": "2021-09-05T15:51:29.335464Z",
                    "iopub.status.idle": "2021-09-05T15:51:29.3737Z",
                    "shell.execute_reply.started": "2021-09-05T15:51:29.335436Z",
                    "shell.execute_reply": "2021-09-05T15:51:29.372868Z"
                },
                "trusted": true
            },
            "execution_count": null,
            "outputs": []
        },
        {
            "cell_type": "code",
            "source": "model = load_model(\"./model_1.h5\")\nmodel.summary()",
            "metadata": {
                "execution": {
                    "iopub.status.busy": "2021-09-05T15:46:25.39798Z",
                    "iopub.execute_input": "2021-09-05T15:46:25.398336Z",
                    "iopub.status.idle": "2021-09-05T15:46:25.518774Z",
                    "shell.execute_reply.started": "2021-09-05T15:46:25.398305Z",
                    "shell.execute_reply": "2021-09-05T15:46:25.517961Z"
                },
                "trusted": true
            },
            "execution_count": null,
            "outputs": []
        },
        {
            "cell_type": "code",
            "source": "X_test_class = test_df[\"Pclass\"].values.reshape(-1,1)\nX_test_sex = test_df[\"Sex\"].values.reshape(-1,1)\nX_test_age = test_df[\"Age\"].values.reshape(-1,1)\nX_test_sib = test_df[\"SibSp\"].values.reshape(-1,1)\nX_test_par = test_df[\"Parch\"].values.reshape(-1,1)\n\nx_test = np.hstack((X_test_sex,X_test_class,X_test_sib,X_test_age,X_test_par)).astype(np.float64)",
            "metadata": {
                "execution": {
                    "iopub.status.busy": "2021-09-05T15:49:21.372561Z",
                    "iopub.execute_input": "2021-09-05T15:49:21.372871Z",
                    "iopub.status.idle": "2021-09-05T15:49:21.378629Z",
                    "shell.execute_reply.started": "2021-09-05T15:49:21.372844Z",
                    "shell.execute_reply": "2021-09-05T15:49:21.377806Z"
                },
                "trusted": true
            },
            "execution_count": null,
            "outputs": []
        },
        {
            "cell_type": "code",
            "source": "y_pred =[]\nprediction = model.predict(x_test).ravel().tolist()\ny_pred += prediction",
            "metadata": {
                "execution": {
                    "iopub.status.busy": "2021-09-05T15:49:21.56175Z",
                    "iopub.execute_input": "2021-09-05T15:49:21.562058Z",
                    "iopub.status.idle": "2021-09-05T15:49:21.658975Z",
                    "shell.execute_reply.started": "2021-09-05T15:49:21.562023Z",
                    "shell.execute_reply": "2021-09-05T15:49:21.658172Z"
                },
                "trusted": true
            },
            "execution_count": null,
            "outputs": []
        },
        {
            "cell_type": "code",
            "source": "for i in range(0,len(y_pred)):\n    if y_pred[i] > 0.8:\n        y_pred[i] = 1\n    else:\n        y_pred[i] = 0",
            "metadata": {
                "execution": {
                    "iopub.status.busy": "2021-09-05T15:49:21.740511Z",
                    "iopub.execute_input": "2021-09-05T15:49:21.740784Z",
                    "iopub.status.idle": "2021-09-05T15:49:21.745618Z",
                    "shell.execute_reply.started": "2021-09-05T15:49:21.740759Z",
                    "shell.execute_reply": "2021-09-05T15:49:21.744658Z"
                },
                "trusted": true
            },
            "execution_count": null,
            "outputs": []
        },
        {
            "cell_type": "code",
            "source": "submission = pd.read_csv('../input/titanic/gender_submission.csv')\nsubmission['Survived'] = y_pred\nsubmission.to_csv('submission.csv',index=False)",
            "metadata": {
                "execution": {
                    "iopub.status.busy": "2021-09-05T15:49:22.779775Z",
                    "iopub.execute_input": "2021-09-05T15:49:22.78011Z",
                    "iopub.status.idle": "2021-09-05T15:49:22.79173Z",
                    "shell.execute_reply.started": "2021-09-05T15:49:22.780082Z",
                    "shell.execute_reply": "2021-09-05T15:49:22.790831Z"
                },
                "trusted": true
            },
            "execution_count": null,
            "outputs": []
        },
        {
            "cell_type": "code",
            "source": "",
            "metadata": {},
            "execution_count": null,
            "outputs": []
        }
    ]
}