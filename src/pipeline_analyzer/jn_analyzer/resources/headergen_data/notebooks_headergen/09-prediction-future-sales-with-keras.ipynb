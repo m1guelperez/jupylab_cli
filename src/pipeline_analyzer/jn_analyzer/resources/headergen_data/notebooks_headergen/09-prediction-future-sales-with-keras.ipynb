{
    "metadata": {
        "kernelspec": {
            "language": "python",
            "display_name": "Python 3",
            "name": "python3"
        },
        "language_info": {
            "pygments_lexer": "ipython3",
            "nbconvert_exporter": "python",
            "version": "3.6.4",
            "file_extension": ".py",
            "codemirror_mode": {
                "name": "ipython",
                "version": 3
            },
            "name": "python",
            "mimetype": "text/x-python"
        }
    },
    "nbformat_minor": 4,
    "nbformat": 4,
    "cells": [
        {
            "cell_type": "code",
            "source": "# This Python 3 environment comes with many helpful analytics libraries installed\n# It is defined by the kaggle/python Docker image: https://github.com/kaggle/docker-python\n# For example, here's several helpful packages to load\n\nimport numpy as np # linear algebra\nimport pandas as pd # data processing, CSV file I/O (e.g. pd.read_csv)\n\n# Input data files are available in the read-only \"../input/\" directory\n# For example, running this (by clicking run or pressing Shift+Enter) will list all files under the input directory\n\nimport os\nfor dirname, _, filenames in os.walk('/kaggle/input'):\n    for filename in filenames:\n        print(os.path.join(dirname, filename))\n\n# You can write up to 20GB to the current directory (/kaggle/working/) that gets preserved as output when you create a version using \"Save & Run All\" \n# You can also write temporary files to /kaggle/temp/, but they won't be saved outside of the current session",
            "metadata": {
                "_uuid": "8f2839f25d086af736a60e9eeb907d3b93b6e0e5",
                "_cell_guid": "b1076dfc-b9ad-4769-8c92-a6c4dae69d19",
                "execution": {
                    "iopub.status.busy": "2021-09-04T10:26:23.497029Z",
                    "iopub.execute_input": "2021-09-04T10:26:23.497343Z",
                    "iopub.status.idle": "2021-09-04T10:26:23.514315Z",
                    "shell.execute_reply.started": "2021-09-04T10:26:23.49727Z",
                    "shell.execute_reply": "2021-09-04T10:26:23.513283Z"
                },
                "trusted": true
            },
            "execution_count": null,
            "outputs": []
        },
        {
            "cell_type": "code",
            "source": "train = pd.read_csv('/kaggle/input/competitive-data-science-predict-future-sales/sales_train.csv')\ntrain.head(2)",
            "metadata": {
                "execution": {
                    "iopub.status.busy": "2021-09-04T10:26:23.515809Z",
                    "iopub.execute_input": "2021-09-04T10:26:23.516331Z",
                    "iopub.status.idle": "2021-09-04T10:26:26.016691Z",
                    "shell.execute_reply.started": "2021-09-04T10:26:23.516296Z",
                    "shell.execute_reply": "2021-09-04T10:26:26.015862Z"
                },
                "trusted": true
            },
            "execution_count": null,
            "outputs": []
        },
        {
            "cell_type": "code",
            "source": "item = pd.read_csv('/kaggle/input/competitive-data-science-predict-future-sales/items.csv')\nitem.head(2)",
            "metadata": {
                "execution": {
                    "iopub.status.busy": "2021-09-04T10:26:26.018592Z",
                    "iopub.execute_input": "2021-09-04T10:26:26.018973Z",
                    "iopub.status.idle": "2021-09-04T10:26:26.093664Z",
                    "shell.execute_reply.started": "2021-09-04T10:26:26.018921Z",
                    "shell.execute_reply": "2021-09-04T10:26:26.092868Z"
                },
                "trusted": true
            },
            "execution_count": null,
            "outputs": []
        },
        {
            "cell_type": "code",
            "source": "cat = pd.read_csv('/kaggle/input/competitive-data-science-predict-future-sales/item_categories.csv')\ncat.head(2)",
            "metadata": {
                "execution": {
                    "iopub.status.busy": "2021-09-04T10:26:26.095182Z",
                    "iopub.execute_input": "2021-09-04T10:26:26.095507Z",
                    "iopub.status.idle": "2021-09-04T10:26:26.111659Z",
                    "shell.execute_reply.started": "2021-09-04T10:26:26.095473Z",
                    "shell.execute_reply": "2021-09-04T10:26:26.110972Z"
                },
                "trusted": true
            },
            "execution_count": null,
            "outputs": []
        },
        {
            "cell_type": "code",
            "source": "shop = pd.read_csv('/kaggle/input/competitive-data-science-predict-future-sales/shops.csv')\nshop.head(2)",
            "metadata": {
                "execution": {
                    "iopub.status.busy": "2021-09-04T10:26:26.112901Z",
                    "iopub.execute_input": "2021-09-04T10:26:26.113248Z",
                    "iopub.status.idle": "2021-09-04T10:26:26.126196Z",
                    "shell.execute_reply.started": "2021-09-04T10:26:26.113213Z",
                    "shell.execute_reply": "2021-09-04T10:26:26.125269Z"
                },
                "trusted": true
            },
            "execution_count": null,
            "outputs": []
        },
        {
            "cell_type": "code",
            "source": "test = pd.read_csv('/kaggle/input/competitive-data-science-predict-future-sales/test.csv')\ntest.head(2)",
            "metadata": {
                "execution": {
                    "iopub.status.busy": "2021-09-04T10:26:26.127452Z",
                    "iopub.execute_input": "2021-09-04T10:26:26.127795Z",
                    "iopub.status.idle": "2021-09-04T10:26:26.226943Z",
                    "shell.execute_reply.started": "2021-09-04T10:26:26.12776Z",
                    "shell.execute_reply": "2021-09-04T10:26:26.226183Z"
                },
                "trusted": true
            },
            "execution_count": null,
            "outputs": []
        },
        {
            "cell_type": "code",
            "source": "train.head()",
            "metadata": {
                "execution": {
                    "iopub.status.busy": "2021-09-04T10:26:26.228326Z",
                    "iopub.execute_input": "2021-09-04T10:26:26.228694Z",
                    "iopub.status.idle": "2021-09-04T10:26:26.242745Z",
                    "shell.execute_reply.started": "2021-09-04T10:26:26.228656Z",
                    "shell.execute_reply": "2021-09-04T10:26:26.241535Z"
                },
                "trusted": true
            },
            "execution_count": null,
            "outputs": []
        },
        {
            "cell_type": "code",
            "source": "test.shape",
            "metadata": {
                "execution": {
                    "iopub.status.busy": "2021-09-04T10:26:26.247223Z",
                    "iopub.execute_input": "2021-09-04T10:26:26.247953Z",
                    "iopub.status.idle": "2021-09-04T10:26:26.25383Z",
                    "shell.execute_reply.started": "2021-09-04T10:26:26.247896Z",
                    "shell.execute_reply": "2021-09-04T10:26:26.252796Z"
                },
                "trusted": true
            },
            "execution_count": null,
            "outputs": []
        },
        {
            "cell_type": "code",
            "source": "submission = pd.read_csv('/kaggle/input/competitive-data-science-predict-future-sales/sample_submission.csv')\nsubmission.head(2)",
            "metadata": {
                "execution": {
                    "iopub.status.busy": "2021-09-04T10:26:26.256394Z",
                    "iopub.execute_input": "2021-09-04T10:26:26.25679Z",
                    "iopub.status.idle": "2021-09-04T10:26:26.327273Z",
                    "shell.execute_reply.started": "2021-09-04T10:26:26.256751Z",
                    "shell.execute_reply": "2021-09-04T10:26:26.326382Z"
                },
                "trusted": true
            },
            "execution_count": null,
            "outputs": []
        },
        {
            "cell_type": "code",
            "source": "submission.shape",
            "metadata": {
                "execution": {
                    "iopub.status.busy": "2021-09-04T10:26:26.328867Z",
                    "iopub.execute_input": "2021-09-04T10:26:26.329542Z",
                    "iopub.status.idle": "2021-09-04T10:26:26.335492Z",
                    "shell.execute_reply.started": "2021-09-04T10:26:26.329482Z",
                    "shell.execute_reply": "2021-09-04T10:26:26.334669Z"
                },
                "trusted": true
            },
            "execution_count": null,
            "outputs": []
        },
        {
            "cell_type": "code",
            "source": "train.shape",
            "metadata": {
                "execution": {
                    "iopub.status.busy": "2021-09-04T10:26:26.337038Z",
                    "iopub.execute_input": "2021-09-04T10:26:26.337637Z",
                    "iopub.status.idle": "2021-09-04T10:26:26.346451Z",
                    "shell.execute_reply.started": "2021-09-04T10:26:26.337594Z",
                    "shell.execute_reply": "2021-09-04T10:26:26.345239Z"
                },
                "trusted": true
            },
            "execution_count": null,
            "outputs": []
        },
        {
            "cell_type": "code",
            "source": "train = train[train.item_id.isin (test.item_id)]\ntrain = train[train.shop_id.isin (test.shop_id)]",
            "metadata": {
                "execution": {
                    "iopub.status.busy": "2021-09-04T10:26:26.348214Z",
                    "iopub.execute_input": "2021-09-04T10:26:26.348685Z",
                    "iopub.status.idle": "2021-09-04T10:26:26.504591Z",
                    "shell.execute_reply.started": "2021-09-04T10:26:26.348643Z",
                    "shell.execute_reply": "2021-09-04T10:26:26.50373Z"
                },
                "trusted": true
            },
            "execution_count": null,
            "outputs": []
        },
        {
            "cell_type": "code",
            "source": "train.info()",
            "metadata": {
                "execution": {
                    "iopub.status.busy": "2021-09-04T10:26:26.505953Z",
                    "iopub.execute_input": "2021-09-04T10:26:26.506302Z",
                    "iopub.status.idle": "2021-09-04T10:26:26.640411Z",
                    "shell.execute_reply.started": "2021-09-04T10:26:26.506268Z",
                    "shell.execute_reply": "2021-09-04T10:26:26.639529Z"
                },
                "trusted": true
            },
            "execution_count": null,
            "outputs": []
        },
        {
            "cell_type": "code",
            "source": "train.head()",
            "metadata": {
                "execution": {
                    "iopub.status.busy": "2021-09-04T10:26:26.641885Z",
                    "iopub.execute_input": "2021-09-04T10:26:26.642268Z",
                    "iopub.status.idle": "2021-09-04T10:26:26.655845Z",
                    "shell.execute_reply.started": "2021-09-04T10:26:26.64223Z",
                    "shell.execute_reply": "2021-09-04T10:26:26.654633Z"
                },
                "trusted": true
            },
            "execution_count": null,
            "outputs": []
        },
        {
            "cell_type": "code",
            "source": "train.drop(['date'],axis=1,inplace=True)",
            "metadata": {
                "execution": {
                    "iopub.status.busy": "2021-09-04T10:26:26.657751Z",
                    "iopub.execute_input": "2021-09-04T10:26:26.658369Z",
                    "iopub.status.idle": "2021-09-04T10:26:26.674259Z",
                    "shell.execute_reply.started": "2021-09-04T10:26:26.658319Z",
                    "shell.execute_reply": "2021-09-04T10:26:26.673373Z"
                },
                "trusted": true
            },
            "execution_count": null,
            "outputs": []
        },
        {
            "cell_type": "code",
            "source": "test.head()",
            "metadata": {
                "execution": {
                    "iopub.status.busy": "2021-09-04T10:26:26.675878Z",
                    "iopub.execute_input": "2021-09-04T10:26:26.676356Z",
                    "iopub.status.idle": "2021-09-04T10:26:26.687846Z",
                    "shell.execute_reply.started": "2021-09-04T10:26:26.676319Z",
                    "shell.execute_reply": "2021-09-04T10:26:26.686726Z"
                },
                "trusted": true
            },
            "execution_count": null,
            "outputs": []
        },
        {
            "cell_type": "code",
            "source": "train['date_block_num']",
            "metadata": {
                "execution": {
                    "iopub.status.busy": "2021-09-04T10:26:26.689446Z",
                    "iopub.execute_input": "2021-09-04T10:26:26.689963Z",
                    "iopub.status.idle": "2021-09-04T10:26:26.699248Z",
                    "shell.execute_reply.started": "2021-09-04T10:26:26.6899Z",
                    "shell.execute_reply": "2021-09-04T10:26:26.698231Z"
                },
                "trusted": true
            },
            "execution_count": null,
            "outputs": []
        },
        {
            "cell_type": "code",
            "source": "test['date_block_num'] = 34\ntest = test[['date_block_num','shop_id','item_id']]\ntest.head(2)",
            "metadata": {
                "execution": {
                    "iopub.status.busy": "2021-09-04T10:26:26.700732Z",
                    "iopub.execute_input": "2021-09-04T10:26:26.701193Z",
                    "iopub.status.idle": "2021-09-04T10:26:26.720439Z",
                    "shell.execute_reply.started": "2021-09-04T10:26:26.701154Z",
                    "shell.execute_reply": "2021-09-04T10:26:26.71968Z"
                },
                "trusted": true
            },
            "execution_count": null,
            "outputs": []
        },
        {
            "cell_type": "code",
            "source": "item_price = dict(train.groupby('item_id')['item_price'].last().reset_index().values)",
            "metadata": {
                "execution": {
                    "iopub.status.busy": "2021-09-04T10:26:26.721556Z",
                    "iopub.execute_input": "2021-09-04T10:26:26.721906Z",
                    "iopub.status.idle": "2021-09-04T10:26:26.764868Z",
                    "shell.execute_reply.started": "2021-09-04T10:26:26.721872Z",
                    "shell.execute_reply": "2021-09-04T10:26:26.764064Z"
                },
                "trusted": true
            },
            "execution_count": null,
            "outputs": []
        },
        {
            "cell_type": "code",
            "source": "test['item_price'] = test.item_id.map(item_price)\ntest.head()",
            "metadata": {
                "execution": {
                    "iopub.status.busy": "2021-09-04T10:26:26.766073Z",
                    "iopub.execute_input": "2021-09-04T10:26:26.766548Z",
                    "iopub.status.idle": "2021-09-04T10:26:26.819311Z",
                    "shell.execute_reply.started": "2021-09-04T10:26:26.766501Z",
                    "shell.execute_reply": "2021-09-04T10:26:26.818343Z"
                },
                "trusted": true
            },
            "execution_count": null,
            "outputs": []
        },
        {
            "cell_type": "code",
            "source": "test.isnull().sum()",
            "metadata": {
                "execution": {
                    "iopub.status.busy": "2021-09-04T10:26:26.820841Z",
                    "iopub.execute_input": "2021-09-04T10:26:26.82126Z",
                    "iopub.status.idle": "2021-09-04T10:26:26.832281Z",
                    "shell.execute_reply.started": "2021-09-04T10:26:26.821219Z",
                    "shell.execute_reply": "2021-09-04T10:26:26.831071Z"
                },
                "trusted": true
            },
            "execution_count": null,
            "outputs": []
        },
        {
            "cell_type": "code",
            "source": "train.shape, test.shape",
            "metadata": {
                "execution": {
                    "iopub.status.busy": "2021-09-04T10:26:26.833789Z",
                    "iopub.execute_input": "2021-09-04T10:26:26.834185Z",
                    "iopub.status.idle": "2021-09-04T10:26:26.84008Z",
                    "shell.execute_reply.started": "2021-09-04T10:26:26.834147Z",
                    "shell.execute_reply": "2021-09-04T10:26:26.838984Z"
                },
                "trusted": true
            },
            "execution_count": null,
            "outputs": []
        },
        {
            "cell_type": "code",
            "source": "train = train[train.item_id.isin (test.item_id)]\ntrain = train[train.shop_id.isin (test.shop_id)]",
            "metadata": {
                "execution": {
                    "iopub.status.busy": "2021-09-04T10:26:26.846382Z",
                    "iopub.execute_input": "2021-09-04T10:26:26.846627Z",
                    "iopub.status.idle": "2021-09-04T10:26:26.955367Z",
                    "shell.execute_reply.started": "2021-09-04T10:26:26.846603Z",
                    "shell.execute_reply": "2021-09-04T10:26:26.954225Z"
                },
                "trusted": true
            },
            "execution_count": null,
            "outputs": []
        },
        {
            "cell_type": "code",
            "source": "train.shape, test.shape",
            "metadata": {
                "execution": {
                    "iopub.status.busy": "2021-09-04T10:26:26.957922Z",
                    "iopub.execute_input": "2021-09-04T10:26:26.958429Z",
                    "iopub.status.idle": "2021-09-04T10:26:26.978459Z",
                    "shell.execute_reply.started": "2021-09-04T10:26:26.958388Z",
                    "shell.execute_reply": "2021-09-04T10:26:26.975178Z"
                },
                "trusted": true
            },
            "execution_count": null,
            "outputs": []
        },
        {
            "cell_type": "code",
            "source": "test.isnull().sum()",
            "metadata": {
                "execution": {
                    "iopub.status.busy": "2021-09-04T10:26:26.980017Z",
                    "iopub.execute_input": "2021-09-04T10:26:26.981418Z",
                    "iopub.status.idle": "2021-09-04T10:26:27.000771Z",
                    "shell.execute_reply.started": "2021-09-04T10:26:26.981259Z",
                    "shell.execute_reply": "2021-09-04T10:26:26.999831Z"
                },
                "trusted": true
            },
            "execution_count": null,
            "outputs": []
        },
        {
            "cell_type": "code",
            "source": "train['shop*item'] = train.shop_id *train.item_id\ntest['shop*item'] = test.shop_id *test.item_id",
            "metadata": {
                "execution": {
                    "iopub.status.busy": "2021-09-04T10:26:27.00332Z",
                    "iopub.execute_input": "2021-09-04T10:26:27.003754Z",
                    "iopub.status.idle": "2021-09-04T10:26:27.044674Z",
                    "shell.execute_reply.started": "2021-09-04T10:26:27.003716Z",
                    "shell.execute_reply": "2021-09-04T10:26:27.04369Z"
                },
                "trusted": true
            },
            "execution_count": null,
            "outputs": []
        },
        {
            "cell_type": "code",
            "source": "item.head()\nitem.drop('item_name',axis=1,inplace = True)",
            "metadata": {
                "execution": {
                    "iopub.status.busy": "2021-09-04T10:26:27.049367Z",
                    "iopub.execute_input": "2021-09-04T10:26:27.051581Z",
                    "iopub.status.idle": "2021-09-04T10:26:27.058454Z",
                    "shell.execute_reply.started": "2021-09-04T10:26:27.051549Z",
                    "shell.execute_reply": "2021-09-04T10:26:27.057359Z"
                },
                "trusted": true
            },
            "execution_count": null,
            "outputs": []
        },
        {
            "cell_type": "code",
            "source": "item_cat = dict(item.values)\ntrain['item_cat'] = train.item_id.map(item_cat)\ntest['item_cat'] = test.item_id.map(item_cat)\n",
            "metadata": {
                "execution": {
                    "iopub.status.busy": "2021-09-04T10:26:27.061856Z",
                    "iopub.execute_input": "2021-09-04T10:26:27.062235Z",
                    "iopub.status.idle": "2021-09-04T10:26:27.213107Z",
                    "shell.execute_reply.started": "2021-09-04T10:26:27.062198Z",
                    "shell.execute_reply": "2021-09-04T10:26:27.212034Z"
                },
                "trusted": true
            },
            "execution_count": null,
            "outputs": []
        },
        {
            "cell_type": "code",
            "source": "train.head(2)",
            "metadata": {
                "execution": {
                    "iopub.status.busy": "2021-09-04T10:26:27.217985Z",
                    "iopub.execute_input": "2021-09-04T10:26:27.220053Z",
                    "iopub.status.idle": "2021-09-04T10:26:27.237312Z",
                    "shell.execute_reply.started": "2021-09-04T10:26:27.220013Z",
                    "shell.execute_reply": "2021-09-04T10:26:27.236411Z"
                },
                "trusted": true
            },
            "execution_count": null,
            "outputs": []
        },
        {
            "cell_type": "code",
            "source": "train.info()",
            "metadata": {
                "execution": {
                    "iopub.status.busy": "2021-09-04T10:26:27.241822Z",
                    "iopub.execute_input": "2021-09-04T10:26:27.244093Z",
                    "iopub.status.idle": "2021-09-04T10:26:27.277975Z",
                    "shell.execute_reply.started": "2021-09-04T10:26:27.244053Z",
                    "shell.execute_reply": "2021-09-04T10:26:27.2772Z"
                },
                "trusted": true
            },
            "execution_count": null,
            "outputs": []
        },
        {
            "cell_type": "code",
            "source": "import seaborn as sns\nimport matplotlib.pyplot as plt",
            "metadata": {
                "execution": {
                    "iopub.status.busy": "2021-09-04T10:26:27.281756Z",
                    "iopub.execute_input": "2021-09-04T10:26:27.283889Z",
                    "iopub.status.idle": "2021-09-04T10:26:28.015512Z",
                    "shell.execute_reply.started": "2021-09-04T10:26:27.283851Z",
                    "shell.execute_reply": "2021-09-04T10:26:28.014674Z"
                },
                "trusted": true
            },
            "execution_count": null,
            "outputs": []
        },
        {
            "cell_type": "code",
            "source": "df = pd.concat([train,test])",
            "metadata": {
                "execution": {
                    "iopub.status.busy": "2021-09-04T10:26:28.01755Z",
                    "iopub.execute_input": "2021-09-04T10:26:28.017802Z",
                    "iopub.status.idle": "2021-09-04T10:26:28.104162Z",
                    "shell.execute_reply.started": "2021-09-04T10:26:28.017778Z",
                    "shell.execute_reply": "2021-09-04T10:26:28.103259Z"
                },
                "trusted": true
            },
            "execution_count": null,
            "outputs": []
        },
        {
            "cell_type": "code",
            "source": "sns.histplot(df['item_price']);",
            "metadata": {
                "execution": {
                    "iopub.status.busy": "2021-09-04T10:26:28.107338Z",
                    "iopub.execute_input": "2021-09-04T10:26:28.107619Z",
                    "iopub.status.idle": "2021-09-04T10:26:36.468724Z",
                    "shell.execute_reply.started": "2021-09-04T10:26:28.107592Z",
                    "shell.execute_reply": "2021-09-04T10:26:36.467921Z"
                },
                "trusted": true
            },
            "execution_count": null,
            "outputs": []
        },
        {
            "cell_type": "code",
            "source": "\ndf = pd.concat([train,test])\n#Normalize\ndf.item_price = np.log1p(df.item_price)\n#fil l the missing\ndf.item_price = df.item_price.fillna(df.item_price.mean())\n\n#rremove the outlier\ndf.item_cnt_day = df.item_cnt_day.apply(lambda x : 10 if x>10 else x)",
            "metadata": {
                "execution": {
                    "iopub.status.busy": "2021-09-04T10:26:36.470123Z",
                    "iopub.execute_input": "2021-09-04T10:26:36.470468Z",
                    "iopub.status.idle": "2021-09-04T10:26:37.099018Z",
                    "shell.execute_reply.started": "2021-09-04T10:26:36.470431Z",
                    "shell.execute_reply": "2021-09-04T10:26:37.098046Z"
                },
                "trusted": true
            },
            "execution_count": null,
            "outputs": []
        },
        {
            "cell_type": "code",
            "source": "train = df[df.item_cnt_day.notnull()]\ntest = df[df.item_cnt_day.isnull()]",
            "metadata": {
                "execution": {
                    "iopub.status.busy": "2021-09-04T10:26:37.100464Z",
                    "iopub.execute_input": "2021-09-04T10:26:37.1009Z",
                    "iopub.status.idle": "2021-09-04T10:26:37.198027Z",
                    "shell.execute_reply.started": "2021-09-04T10:26:37.100857Z",
                    "shell.execute_reply": "2021-09-04T10:26:37.197137Z"
                },
                "trusted": true
            },
            "execution_count": null,
            "outputs": []
        },
        {
            "cell_type": "code",
            "source": "train.shape",
            "metadata": {
                "execution": {
                    "iopub.status.busy": "2021-09-04T10:26:37.199497Z",
                    "iopub.execute_input": "2021-09-04T10:26:37.19986Z",
                    "iopub.status.idle": "2021-09-04T10:26:37.206659Z",
                    "shell.execute_reply.started": "2021-09-04T10:26:37.199822Z",
                    "shell.execute_reply": "2021-09-04T10:26:37.205821Z"
                },
                "trusted": true
            },
            "execution_count": null,
            "outputs": []
        },
        {
            "cell_type": "code",
            "source": "test.isnull().sum()",
            "metadata": {
                "execution": {
                    "iopub.status.busy": "2021-09-04T10:26:37.208101Z",
                    "iopub.execute_input": "2021-09-04T10:26:37.208747Z",
                    "iopub.status.idle": "2021-09-04T10:26:37.221534Z",
                    "shell.execute_reply.started": "2021-09-04T10:26:37.208686Z",
                    "shell.execute_reply": "2021-09-04T10:26:37.220556Z"
                },
                "trusted": true
            },
            "execution_count": null,
            "outputs": []
        },
        {
            "cell_type": "code",
            "source": "test.drop('item_cnt_day',axis = 1,inplace  = True)",
            "metadata": {
                "execution": {
                    "iopub.status.busy": "2021-09-04T10:26:37.222943Z",
                    "iopub.execute_input": "2021-09-04T10:26:37.223283Z",
                    "iopub.status.idle": "2021-09-04T10:26:37.236586Z",
                    "shell.execute_reply.started": "2021-09-04T10:26:37.223248Z",
                    "shell.execute_reply": "2021-09-04T10:26:37.235639Z"
                },
                "trusted": true
            },
            "execution_count": null,
            "outputs": []
        },
        {
            "cell_type": "code",
            "source": "test.shape",
            "metadata": {
                "execution": {
                    "iopub.status.busy": "2021-09-04T10:26:37.237877Z",
                    "iopub.execute_input": "2021-09-04T10:26:37.238332Z",
                    "iopub.status.idle": "2021-09-04T10:26:37.244207Z",
                    "shell.execute_reply.started": "2021-09-04T10:26:37.238295Z",
                    "shell.execute_reply": "2021-09-04T10:26:37.243199Z"
                },
                "trusted": true
            },
            "execution_count": null,
            "outputs": []
        },
        {
            "cell_type": "code",
            "source": "x_train = train.drop('item_cnt_day',axis = 1).values\ny_train = train.item_cnt_day.values",
            "metadata": {
                "execution": {
                    "iopub.status.busy": "2021-09-04T10:26:37.245704Z",
                    "iopub.execute_input": "2021-09-04T10:26:37.246081Z",
                    "iopub.status.idle": "2021-09-04T10:26:37.284838Z",
                    "shell.execute_reply.started": "2021-09-04T10:26:37.246046Z",
                    "shell.execute_reply": "2021-09-04T10:26:37.283977Z"
                },
                "trusted": true
            },
            "execution_count": null,
            "outputs": []
        },
        {
            "cell_type": "code",
            "source": "x_test = test",
            "metadata": {
                "execution": {
                    "iopub.status.busy": "2021-09-04T10:26:37.286348Z",
                    "iopub.execute_input": "2021-09-04T10:26:37.286743Z",
                    "iopub.status.idle": "2021-09-04T10:26:37.291032Z",
                    "shell.execute_reply.started": "2021-09-04T10:26:37.286704Z",
                    "shell.execute_reply": "2021-09-04T10:26:37.289807Z"
                },
                "trusted": true
            },
            "execution_count": null,
            "outputs": []
        },
        {
            "cell_type": "code",
            "source": "from sklearn.preprocessing import MinMaxScaler\nSC = MinMaxScaler()\n#SC = StandardScaler()\nx_train = SC.fit_transform(x_train)\nx_test = SC.transform(x_test)",
            "metadata": {
                "execution": {
                    "iopub.status.busy": "2021-09-04T10:28:40.616453Z",
                    "iopub.execute_input": "2021-09-04T10:28:40.616808Z",
                    "iopub.status.idle": "2021-09-04T10:28:40.794717Z",
                    "shell.execute_reply.started": "2021-09-04T10:28:40.616778Z",
                    "shell.execute_reply": "2021-09-04T10:28:40.79367Z"
                },
                "trusted": true
            },
            "execution_count": null,
            "outputs": []
        },
        {
            "cell_type": "code",
            "source": "import keras \nfrom keras.models import Sequential \nfrom keras.layers import Dense",
            "metadata": {
                "execution": {
                    "iopub.status.busy": "2021-09-04T10:28:41.912401Z",
                    "iopub.execute_input": "2021-09-04T10:28:41.912767Z",
                    "iopub.status.idle": "2021-09-04T10:28:45.856702Z",
                    "shell.execute_reply.started": "2021-09-04T10:28:41.912736Z",
                    "shell.execute_reply": "2021-09-04T10:28:45.855791Z"
                },
                "trusted": true
            },
            "execution_count": null,
            "outputs": []
        },
        {
            "cell_type": "code",
            "source": "\n# Initialising the NN\nmodel = Sequential()\n\n# layers\nmodel.add(Dense(9, kernel_initializer = 'uniform', activation = 'relu', input_dim = 6))\nmodel.add(Dense(9, kernel_initializer = 'uniform', activation = 'relu'))\nmodel.add(Dense(5, kernel_initializer = 'uniform', activation = 'relu'))\nmodel.add(Dense(1, kernel_initializer = 'uniform', activation = 'linear'))\n\n# summary\nmodel.summary()",
            "metadata": {
                "execution": {
                    "iopub.status.busy": "2021-09-04T10:28:48.245741Z",
                    "iopub.execute_input": "2021-09-04T10:28:48.246096Z",
                    "iopub.status.idle": "2021-09-04T10:28:50.400475Z",
                    "shell.execute_reply.started": "2021-09-04T10:28:48.246063Z",
                    "shell.execute_reply": "2021-09-04T10:28:50.399621Z"
                },
                "trusted": true
            },
            "execution_count": null,
            "outputs": []
        },
        {
            "cell_type": "code",
            "source": "model.compile(optimizer = 'adam', loss = 'mean_absolute_error', metrics = ['mse','mae'])\n",
            "metadata": {
                "execution": {
                    "iopub.status.busy": "2021-09-04T10:28:51.752851Z",
                    "iopub.execute_input": "2021-09-04T10:28:51.75323Z",
                    "iopub.status.idle": "2021-09-04T10:28:51.769085Z",
                    "shell.execute_reply.started": "2021-09-04T10:28:51.753198Z",
                    "shell.execute_reply": "2021-09-04T10:28:51.768206Z"
                },
                "trusted": true
            },
            "execution_count": null,
            "outputs": []
        },
        {
            "cell_type": "code",
            "source": "history = model.fit(x_train, y_train, epochs=32, validation_split=0.2)\n",
            "metadata": {
                "execution": {
                    "iopub.status.busy": "2021-09-04T10:28:52.960738Z",
                    "iopub.execute_input": "2021-09-04T10:28:52.961183Z",
                    "iopub.status.idle": "2021-09-04T11:10:54.5511Z",
                    "shell.execute_reply.started": "2021-09-04T10:28:52.961136Z",
                    "shell.execute_reply": "2021-09-04T11:10:54.550214Z"
                },
                "trusted": true
            },
            "execution_count": null,
            "outputs": []
        },
        {
            "cell_type": "code",
            "source": "from sklearn.metrics import mean_squared_error\npred_train= model.predict(x_train)\nprint(np.sqrt(mean_squared_error(y_train,pred_train)))",
            "metadata": {
                "execution": {
                    "iopub.status.busy": "2021-09-04T11:12:22.34501Z",
                    "iopub.execute_input": "2021-09-04T11:12:22.34533Z",
                    "iopub.status.idle": "2021-09-04T11:12:47.301492Z",
                    "shell.execute_reply.started": "2021-09-04T11:12:22.345301Z",
                    "shell.execute_reply": "2021-09-04T11:12:47.300549Z"
                },
                "trusted": true
            },
            "execution_count": null,
            "outputs": []
        },
        {
            "cell_type": "code",
            "source": "y_pred = model.predict(x_test).flatten()",
            "metadata": {
                "execution": {
                    "iopub.status.busy": "2021-09-04T11:12:51.879435Z",
                    "iopub.execute_input": "2021-09-04T11:12:51.879761Z",
                    "iopub.status.idle": "2021-09-04T11:12:56.617271Z",
                    "shell.execute_reply.started": "2021-09-04T11:12:51.879732Z",
                    "shell.execute_reply": "2021-09-04T11:12:56.61637Z"
                },
                "trusted": true
            },
            "execution_count": null,
            "outputs": []
        },
        {
            "cell_type": "code",
            "source": "output = pd.DataFrame({'ID': submission['ID'], 'item_cnt_month': y_pred})\noutput.to_csv('submission1.csv', index=False)",
            "metadata": {
                "execution": {
                    "iopub.status.busy": "2021-09-04T11:13:02.223485Z",
                    "iopub.execute_input": "2021-09-04T11:13:02.223809Z",
                    "iopub.status.idle": "2021-09-04T11:13:02.736029Z",
                    "shell.execute_reply.started": "2021-09-04T11:13:02.223777Z",
                    "shell.execute_reply": "2021-09-04T11:13:02.735152Z"
                },
                "trusted": true
            },
            "execution_count": null,
            "outputs": []
        },
        {
            "cell_type": "code",
            "source": "pred=pd.DataFrame(y_pred)\ndatasets=pd.concat([submission['ID'],pred],axis=1)\ndatasets.columns=['ID','item_cnt_day']\ndatasets.to_csv('new_submission.csv',index=False)",
            "metadata": {
                "execution": {
                    "iopub.status.busy": "2021-09-04T11:13:26.625575Z",
                    "iopub.execute_input": "2021-09-04T11:13:26.62589Z",
                    "iopub.status.idle": "2021-09-04T11:13:27.418791Z",
                    "shell.execute_reply.started": "2021-09-04T11:13:26.62586Z",
                    "shell.execute_reply": "2021-09-04T11:13:27.417987Z"
                },
                "trusted": true
            },
            "execution_count": null,
            "outputs": []
        },
        {
            "cell_type": "code",
            "source": "",
            "metadata": {},
            "execution_count": null,
            "outputs": []
        }
    ]
}