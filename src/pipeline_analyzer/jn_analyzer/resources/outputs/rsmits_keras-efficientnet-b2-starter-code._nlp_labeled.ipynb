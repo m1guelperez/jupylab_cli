{
    "cells": [
        {
            "cell_type": "markdown",
            "metadata": {},
            "source": [
                "This competition provides an exciting and challenging task of doing multi-label classification on a dataset with well over half a million images. There are multiple very nice notebooks which perform only 2 or 3 epochs with all the training data. In this notebook I will try out and see what the effect is of using more epochs but less steps per epoch. By averaging the predictions made during the last few epochs we should be able to achieve a nice LB score. This also should provide some alternative ways to experiment for the Kagglers that don't have the adequate computing resources available and are dependent on Kaggle Kernels.\n",
                "\n",
                "As model I will be using the EfficientNet B2 model. It should be able to provide highly accurate predictions while still being able to run within the kernel limits. With 9 hours max time for a GPU kernel you have to make some trade-offs ;-)\n",
                "\n",
                "I hope this kernel will be usefull and may'be will provide you with some new and alternative ideas to try out. If you like it..then please upvote it ;-)\n",
                "Any feedback or remarks are appreciated.\n",
                "\n",
                "Lets start by importing all the necessary modules.\n",
                "\n",
                "Note!! This kernel is now updated for Stage2 Training and Test data..altough with less epochs because of the increase in train and test data."
            ]
        },
        {
            "cell_type": "code",
            "execution_count": 1,
            "metadata": {
                "tags": [
                    "setup_notebook"
                ]
            },
            "outputs": [
                {
                    "name": "stderr",
                    "output_type": "stream",
                    "text": [
                        "Using TensorFlow backend.\n"
                    ]
                }
            ],
            "source": [
                "import numpy as np\n",
                "import pandas as pd\n",
                "import pydicom\n",
                "import os\n",
                "import collections\n",
                "import sys\n",
                "import glob\n",
                "import random\n",
                "import cv2\n",
                "import tensorflow as tf\n",
                "import multiprocessing\n",
                "\n",
                "from math import ceil, floor\n",
                "from copy import deepcopy\n",
                "from tqdm import tqdm_notebook as tqdm\n",
                "from imgaug import augmenters as iaa\n",
                "\n",
                "import keras\n",
                "import keras.backend as K\n",
                "from keras.callbacks import Callback, ModelCheckpoint\n",
                "from keras.layers import Dense, Flatten, Dropout\n",
                "from keras.models import Model, load_model\n",
                "from keras.utils import Sequence\n",
                "from keras.losses import binary_crossentropy\n",
                "from keras.optimizers import Adam"
            ]
        },
        {
            "cell_type": "markdown",
            "metadata": {},
            "source": [
                "Install and import the efficientnet and iterative-stratification packages from the internet. The iterative-stratification package provides a very nice implementation of multi-label stratification. I've used it in a few competitions now with good results. There are offcourse more packages that provide implementations for it."
            ]
        },
        {
            "cell_type": "code",
            "execution_count": 2,
            "metadata": {
                "tags": [
                    "setup_notebook"
                ]
            },
            "outputs": [
                {
                    "name": "stdout",
                    "output_type": "stream",
                    "text": [
                        "Collecting efficientnet\r\n",
                        "  Downloading https://files.pythonhosted.org/packages/97/82/f3ae07316f0461417dc54affab6e86ab188a5a22f33176d35271628b96e0/efficientnet-1.0.0-py3-none-any.whl\r\n",
                        "Requirement already satisfied: keras-applications<=1.0.8,>=1.0.7 in /opt/conda/lib/python3.6/site-packages (from efficientnet) (1.0.8)\r\n",
                        "Requirement already satisfied: scikit-image in /opt/conda/lib/python3.6/site-packages (from efficientnet) (0.15.0)\r\n",
                        "Requirement already satisfied: h5py in /opt/conda/lib/python3.6/site-packages (from keras-applications<=1.0.8,>=1.0.7->efficientnet) (2.9.0)\r\n",
                        "Requirement already satisfied: numpy>=1.9.1 in /opt/conda/lib/python3.6/site-packages (from keras-applications<=1.0.8,>=1.0.7->efficientnet) (1.16.4)\r\n",
                        "Requirement already satisfied: matplotlib!=3.0.0,>=2.0.0 in /opt/conda/lib/python3.6/site-packages (from scikit-image->efficientnet) (3.0.3)\r\n",
                        "Requirement already satisfied: imageio>=2.0.1 in /opt/conda/lib/python3.6/site-packages (from scikit-image->efficientnet) (2.5.0)\r\n",
                        "Requirement already satisfied: PyWavelets>=0.4.0 in /opt/conda/lib/python3.6/site-packages (from scikit-image->efficientnet) (1.0.3)\r\n",
                        "Requirement already satisfied: pillow>=4.3.0 in /opt/conda/lib/python3.6/site-packages (from scikit-image->efficientnet) (5.4.1)\r\n",
                        "Requirement already satisfied: networkx>=2.0 in /opt/conda/lib/python3.6/site-packages (from scikit-image->efficientnet) (2.3)\r\n",
                        "Requirement already satisfied: six in /opt/conda/lib/python3.6/site-packages (from h5py->keras-applications<=1.0.8,>=1.0.7->efficientnet) (1.12.0)\r\n",
                        "Requirement already satisfied: cycler>=0.10 in /opt/conda/lib/python3.6/site-packages (from matplotlib!=3.0.0,>=2.0.0->scikit-image->efficientnet) (0.10.0)\r\n",
                        "Requirement already satisfied: kiwisolver>=1.0.1 in /opt/conda/lib/python3.6/site-packages (from matplotlib!=3.0.0,>=2.0.0->scikit-image->efficientnet) (1.1.0)\r\n",
                        "Requirement already satisfied: pyparsing!=2.0.4,!=2.1.2,!=2.1.6,>=2.0.1 in /opt/conda/lib/python3.6/site-packages (from matplotlib!=3.0.0,>=2.0.0->scikit-image->efficientnet) (2.4.2)\r\n",
                        "Requirement already satisfied: python-dateutil>=2.1 in /opt/conda/lib/python3.6/site-packages (from matplotlib!=3.0.0,>=2.0.0->scikit-image->efficientnet) (2.8.0)\r\n",
                        "Requirement already satisfied: decorator>=4.3.0 in /opt/conda/lib/python3.6/site-packages (from networkx>=2.0->scikit-image->efficientnet) (4.4.0)\r\n",
                        "Requirement already satisfied: setuptools in /opt/conda/lib/python3.6/site-packages (from kiwisolver>=1.0.1->matplotlib!=3.0.0,>=2.0.0->scikit-image->efficientnet) (41.2.0)\r\n",
                        "Installing collected packages: efficientnet\r\n",
                        "Successfully installed efficientnet-1.0.0\r\n",
                        "Collecting iterative-stratification\r\n",
                        "  Downloading https://files.pythonhosted.org/packages/9d/79/9ba64c8c07b07b8b45d80725b2ebd7b7884701c1da34f70d4749f7b45f9a/iterative_stratification-0.1.6-py3-none-any.whl\r\n",
                        "Requirement already satisfied: scikit-learn in /opt/conda/lib/python3.6/site-packages (from iterative-stratification) (0.21.3)\r\n",
                        "Requirement already satisfied: numpy in /opt/conda/lib/python3.6/site-packages (from iterative-stratification) (1.16.4)\r\n",
                        "Requirement already satisfied: scipy in /opt/conda/lib/python3.6/site-packages (from iterative-stratification) (1.2.1)\r\n",
                        "Requirement already satisfied: joblib>=0.11 in /opt/conda/lib/python3.6/site-packages (from scikit-learn->iterative-stratification) (0.13.2)\r\n",
                        "Installing collected packages: iterative-stratification\r\n",
                        "Successfully installed iterative-stratification-0.1.6\r\n"
                    ]
                }
            ],
            "source": [
                "# Install Modules from internet\n",
                "!pip install efficientnet\n",
                "!pip install iterative-stratification"
            ]
        },
        {
            "cell_type": "code",
            "execution_count": 3,
            "metadata": {
                "tags": [
                    "setup_notebook"
                ]
            },
            "outputs": [],
            "source": [
                "# Import Custom Modules\n",
                "import efficientnet.keras as efn \n",
                "from iterstrat.ml_stratifiers import MultilabelStratifiedShuffleSplit"
            ]
        },
        {
            "cell_type": "markdown",
            "metadata": {},
            "source": [
                "Next we will set the random_state, some constants and folders that will be used later on. I've specified a rather small test size as I want to maximize the training time available and minimize the time used for validation. I'am not using methods like early stopping...when the kernel time limit is approaching we could still increase the results on the LB if we were allowed to continue."
            ]
        },
        {
            "cell_type": "code",
            "execution_count": 4,
            "metadata": {
                "_cell_guid": "79c7e3d0-c299-4dcb-8224-4455121ee9b0",
                "_uuid": "d629ff2d2480ee46fbb7e2d37f6b5fab8052498a",
                "tags": [
                    "setup_notebook"
                ]
            },
            "outputs": [],
            "source": [
                "# Seed\n",
                "SEED = 12345\n",
                "np.random.seed(SEED)\n",
                "tf.set_random_seed(SEED)\n",
                "\n",
                "# Constants\n",
                "TEST_SIZE = 0.02\n",
                "HEIGHT = 256\n",
                "WIDTH = 256\n",
                "CHANNELS = 3\n",
                "TRAIN_BATCH_SIZE = 32\n",
                "VALID_BATCH_SIZE = 64\n",
                "SHAPE = (HEIGHT, WIDTH, CHANNELS)\n",
                "\n",
                "# Folders\n",
                "DATA_DIR = '/kaggle/input/rsna-intracranial-hemorrhage-detection/rsna-intracranial-hemorrhage-detection/'\n",
                "TEST_IMAGES_DIR = DATA_DIR + 'stage_2_test/'\n",
                "TRAIN_IMAGES_DIR = DATA_DIR + 'stage_2_train/'"
            ]
        },
        {
            "cell_type": "markdown",
            "metadata": {},
            "source": [
                "Next the code for the DICOM windowing and the Data Generators. After seeing the effect of different versions of windowing as presented in this very nice [kernel](https://www.kaggle.com/akensert/inceptionv3-prev-resnet50-keras-baseline-model) I decided to also update my kernel with it. Lets see what the effect will be."
            ]
        },
        {
            "cell_type": "code",
            "execution_count": 5,
            "metadata": {
                "tags": [
                    "ingest_data",
                    "process_data"
                ]
            },
            "outputs": [],
            "source": [
                "def correct_dcm(dcm):\n",
                "    x = dcm.pixel_array + 1000\n",
                "    px_mode = 4096\n",
                "    x[x>=px_mode] = x[x>=px_mode] - px_mode\n",
                "    dcm.PixelData = x.tobytes()\n",
                "    dcm.RescaleIntercept = -1000\n",
                "\n",
                "def window_image(dcm, window_center, window_width):    \n",
                "    if (dcm.BitsStored == 12) and (dcm.PixelRepresentation == 0) and (int(dcm.RescaleIntercept) > -100):\n",
                "        correct_dcm(dcm)\n",
                "    img = dcm.pixel_array * dcm.RescaleSlope + dcm.RescaleIntercept\n",
                "    \n",
                "    # Resize\n",
                "    img = cv2.resize(img, SHAPE[:2], interpolation = cv2.INTER_LINEAR)\n",
                "   \n",
                "    img_min = window_center - window_width // 2\n",
                "    img_max = window_center + window_width // 2\n",
                "    img = np.clip(img, img_min, img_max)\n",
                "    return img\n",
                "\n",
                "def bsb_window(dcm):\n",
                "    brain_img = window_image(dcm, 40, 80)\n",
                "    subdural_img = window_image(dcm, 80, 200)\n",
                "    soft_img = window_image(dcm, 40, 380)\n",
                "    \n",
                "    brain_img = (brain_img - 0) / 80\n",
                "    subdural_img = (subdural_img - (-20)) / 200\n",
                "    soft_img = (soft_img - (-150)) / 380\n",
                "    bsb_img = np.array([brain_img, subdural_img, soft_img]).transpose(1,2,0)\n",
                "    return bsb_img\n",
                "\n",
                "def _read(path, SHAPE):\n",
                "    dcm = pydicom.dcmread(path)\n",
                "    try:\n",
                "        img = bsb_window(dcm)\n",
                "    except:\n",
                "        img = np.zeros(SHAPE)\n",
                "    return img"
            ]
        },
        {
            "cell_type": "markdown",
            "metadata": {},
            "source": [
                "I'll specify some light image augmentation. Some horizontal and vertical flipping and some cropping. I haven't yet tried out more augmentation but will do so in future versions of the kernel. Also the code for Data Generators for train and test data."
            ]
        },
        {
            "cell_type": "code",
            "execution_count": 6,
            "metadata": {
                "tags": [
                    "ingest_data",
                    "process_data",
                    "check_results"
                ]
            },
            "outputs": [],
            "source": [
                "# Image Augmentation\n",
                "sometimes = lambda aug: iaa.Sometimes(0.25, aug)\n",
                "augmentation = iaa.Sequential([ iaa.Fliplr(0.25),\n",
                "                                iaa.Flipud(0.10),\n",
                "                                sometimes(iaa.Crop(px=(0, 25), keep_size = True, sample_independently = False))   \n",
                "                            ], random_order = True)       \n",
                "        \n",
                "# Generators\n",
                "class TrainDataGenerator(keras.utils.Sequence):\n",
                "    def __init__(self, dataset, labels, batch_size = 16, img_size = SHAPE, img_dir = TRAIN_IMAGES_DIR, augment = False, *args, **kwargs):\n",
                "        self.dataset = dataset\n",
                "        self.ids = dataset.index\n",
                "        self.labels = labels\n",
                "        self.batch_size = batch_size\n",
                "        self.img_size = img_size\n",
                "        self.img_dir = img_dir\n",
                "        self.augment = augment\n",
                "        self.on_epoch_end()\n",
                "\n",
                "    def __len__(self):\n",
                "        return int(ceil(len(self.ids) / self.batch_size))\n",
                "\n",
                "    def __getitem__(self, index):\n",
                "        indices = self.indices[index*self.batch_size:(index+1)*self.batch_size]\n",
                "        X, Y = self.__data_generation(indices)\n",
                "        return X, Y\n",
                "\n",
                "    def augmentor(self, image):\n",
                "        augment_img = augmentation        \n",
                "        image_aug = augment_img.augment_image(image)\n",
                "        return image_aug\n",
                "\n",
                "    def on_epoch_end(self):\n",
                "        self.indices = np.arange(len(self.ids))\n",
                "        np.random.shuffle(self.indices)\n",
                "\n",
                "    def __data_generation(self, indices):\n",
                "        X = np.empty((self.batch_size, *self.img_size))\n",
                "        Y = np.empty((self.batch_size, 6), dtype=np.float32)\n",
                "        \n",
                "        for i, index in enumerate(indices):\n",
                "            ID = self.ids[index]\n",
                "            image = _read(self.img_dir+ID+\".dcm\", self.img_size)\n",
                "            if self.augment:\n",
                "                X[i,] = self.augmentor(image)\n",
                "            else:\n",
                "                X[i,] = image\n",
                "            Y[i,] = self.labels.iloc[index].values        \n",
                "        return X, Y\n",
                "    \n",
                "class TestDataGenerator(keras.utils.Sequence):\n",
                "    def __init__(self, dataset, labels, batch_size = 16, img_size = SHAPE, img_dir = TEST_IMAGES_DIR, *args, **kwargs):\n",
                "        self.dataset = dataset\n",
                "        self.ids = dataset.index\n",
                "        self.labels = labels\n",
                "        self.batch_size = batch_size\n",
                "        self.img_size = img_size\n",
                "        self.img_dir = img_dir\n",
                "        self.on_epoch_end()\n",
                "\n",
                "    def __len__(self):\n",
                "        return int(ceil(len(self.ids) / self.batch_size))\n",
                "\n",
                "    def __getitem__(self, index):\n",
                "        indices = self.indices[index*self.batch_size:(index+1)*self.batch_size]\n",
                "        X = self.__data_generation(indices)\n",
                "        return X\n",
                "\n",
                "    def on_epoch_end(self):\n",
                "        self.indices = np.arange(len(self.ids))\n",
                "    \n",
                "    def __data_generation(self, indices):\n",
                "        X = np.empty((self.batch_size, *self.img_size))\n",
                "        \n",
                "        for i, index in enumerate(indices):\n",
                "            ID = self.ids[index]\n",
                "            image = _read(self.img_dir+ID+\".dcm\", self.img_size)\n",
                "            X[i,] = image              \n",
                "        return X"
            ]
        },
        {
            "cell_type": "markdown",
            "metadata": {},
            "source": [
                "Import the training and test datasets."
            ]
        },
        {
            "cell_type": "code",
            "execution_count": 7,
            "metadata": {
                "tags": [
                    "ingest_data",
                    "process_data",
                    "transfer_results"
                ]
            },
            "outputs": [],
            "source": [
                "def read_testset(filename = DATA_DIR + \"stage_2_sample_submission.csv\"):\n",
                "    df = pd.read_csv(filename)\n",
                "    df[\"Image\"] = df[\"ID\"].str.slice(stop=12)\n",
                "    df[\"Diagnosis\"] = df[\"ID\"].str.slice(start=13)\n",
                "    df = df.loc[:, [\"Label\", \"Diagnosis\", \"Image\"]]\n",
                "    df = df.set_index(['Image', 'Diagnosis']).unstack(level=-1)\n",
                "    return df\n",
                "\n",
                "def read_trainset(filename = DATA_DIR + \"stage_2_train.csv\"):\n",
                "    df = pd.read_csv(filename)\n",
                "    df[\"Image\"] = df[\"ID\"].str.slice(stop=12)\n",
                "    df[\"Diagnosis\"] = df[\"ID\"].str.slice(start=13)\n",
                "    duplicates_to_remove = [56346, 56347, 56348, 56349,\n",
                "                            56350, 56351, 1171830, 1171831,\n",
                "                            1171832, 1171833, 1171834, 1171835,\n",
                "                            3705312, 3705313, 3705314, 3705315,\n",
                "                            3705316, 3705317, 3842478, 3842479,\n",
                "                            3842480, 3842481, 3842482, 3842483 ]\n",
                "    df = df.drop(index = duplicates_to_remove)\n",
                "    df = df.reset_index(drop = True)    \n",
                "    df = df.loc[:, [\"Label\", \"Diagnosis\", \"Image\"]]\n",
                "    df = df.set_index(['Image', 'Diagnosis']).unstack(level=-1)\n",
                "    return df\n",
                "\n",
                "# Read Train and Test Datasets\n",
                "test_df = read_testset()\n",
                "train_df = read_trainset()"
            ]
        },
        {
            "cell_type": "markdown",
            "metadata": {},
            "source": [
                "The training data contains some class inbalance. Multiple kernels explored the use of undersampling..so let's try the opposite and oversample the minority class 'epidural' one additional time."
            ]
        },
        {
            "cell_type": "code",
            "execution_count": 8,
            "metadata": {
                "tags": [
                    "process_data",
                    "check_results"
                ]
            },
            "outputs": [
                {
                    "name": "stdout",
                    "output_type": "stream",
                    "text": [
                        "Train Shape: (755948, 6)\n",
                        "Test Shape: (121232, 6)\n"
                    ]
                }
            ],
            "source": [
                "# Oversampling\n",
                "epidural_df = train_df[train_df.Label['epidural'] == 1]\n",
                "train_oversample_df = pd.concat([train_df, epidural_df])\n",
                "train_df = train_oversample_df\n",
                "\n",
                "# Summary\n",
                "print('Train Shape: {}'.format(train_df.shape))\n",
                "print('Test Shape: {}'.format(test_df.shape))"
            ]
        },
        {
            "cell_type": "markdown",
            "metadata": {},
            "source": [
                "Some methods for predictions on the test data, a callback method and a method to create the EfficientNet B2 model. For the EfficientNet we use the pretrained imagenet weights. Also a Dropout layer is added with a small value to prevent some overfitting. "
            ]
        },
        {
            "cell_type": "code",
            "execution_count": 9,
            "metadata": {
                "tags": [
                    "train_model",
                    "evaluate_model"
                ]
            },
            "outputs": [],
            "source": [
                "def predictions(test_df, model):    \n",
                "    test_preds = model.predict_generator(TestDataGenerator(test_df, None, 8, SHAPE, TEST_IMAGES_DIR), verbose = 1)\n",
                "    return test_preds[:test_df.iloc[range(test_df.shape[0])].shape[0]]\n",
                "\n",
                "def ModelCheckpointFull(model_name):\n",
                "    return ModelCheckpoint(model_name, \n",
                "                            monitor = 'val_loss', \n",
                "                            verbose = 1, \n",
                "                            save_best_only = False, \n",
                "                            save_weights_only = True, \n",
                "                            mode = 'min', \n",
                "                            period = 1)\n",
                "\n",
                "# Create Model\n",
                "def create_model():\n",
                "    K.clear_session()\n",
                "    \n",
                "    base_model =  efn.EfficientNetB2(weights = 'imagenet', include_top = False, pooling = 'avg', input_shape = SHAPE)\n",
                "    x = base_model.output\n",
                "    x = Dropout(0.15)(x)\n",
                "    y_pred = Dense(6, activation = 'sigmoid')(x)\n",
                "\n",
                "    return Model(inputs = base_model.input, outputs = y_pred)"
            ]
        },
        {
            "cell_type": "markdown",
            "metadata": {},
            "source": [
                "Next we setup the multi label stratification. I've specified multiple splits but only using the first one for train data and validation data. Optionally you can also loop through the different splits and use a different train and validation set for each epoch. "
            ]
        },
        {
            "cell_type": "code",
            "execution_count": 10,
            "metadata": {
                "tags": [
                    "process_data"
                ]
            },
            "outputs": [],
            "source": [
                "# Submission Placeholder\n",
                "submission_predictions = []\n",
                "\n",
                "# Multi Label Stratified Split stuff...\n",
                "msss = MultilabelStratifiedShuffleSplit(n_splits = 10, test_size = TEST_SIZE, random_state = SEED)\n",
                "X = train_df.index\n",
                "Y = train_df.Label.values\n",
                "\n",
                "# Get train and test index\n",
                "msss_splits = next(msss.split(X, Y))\n",
                "train_idx = msss_splits[0]\n",
                "valid_idx = msss_splits[1]"
            ]
        },
        {
            "cell_type": "markdown",
            "metadata": {},
            "source": [
                "Now we can train the model for a number of epochs. All epochs we train the full model but each time on only 1/6 of the train data. With each epoch only a subset of the train data will allow us to make more epochs and allows todo averaging over more then just 1 or 2 epochs (compared to using all data every epoch).\n",
                "\n",
                "Note that I recreate the data generators and model on each epoch. This is only necessary when using the different Multi-label stratified splits since the data generators will get a totally different set of data on each epoch then. I left it in so that you can try it out.\n",
                "\n",
                "Starting with the 4th epoch a prediction for the test set is made on each epoch. In total predictions from the last 5 epochs will be averaged this way for the final submission."
            ]
        },
        {
            "cell_type": "code",
            "execution_count": 11,
            "metadata": {
                "tags": [
                    "setup_notebook",
                    "ingest_data",
                    "train_model",
                    "evaluate_model",
                    "check_results"
                ]
            },
            "outputs": [
                {
                    "name": "stdout",
                    "output_type": "stream",
                    "text": [
                        "=========== EPOCH 0\n",
                        "[246222 105520 251440 403415 476684]\n",
                        "[ 62 147 225 252 258]\n",
                        "Downloading data from https://github.com/Callidior/keras-applications/releases/download/efficientnet/efficientnet-b2_weights_tf_dim_ordering_tf_kernels_autoaugment_notop.h5\n",
                        "31940608/31936256 [==============================] - 0s 0us/step\n",
                        "Epoch 1/1\n",
                        "3858/3858 [==============================] - 2437s 632ms/step - loss: 0.1096 - acc: 0.9618 - auc: 0.9122 - val_loss: 0.4179 - val_acc: 0.9693 - val_auc: 0.9459\n",
                        "\n",
                        "Epoch 00001: saving model to model.h5\n",
                        "=========== EPOCH 1\n",
                        "[159953 380897 521800 145724 655884]\n",
                        "[ 62 147 225 252 258]\n",
                        "Epoch 1/1\n",
                        "3858/3858 [==============================] - 2351s 609ms/step - loss: 0.0861 - acc: 0.9694 - auc: 0.9633 - val_loss: 17.4195 - val_acc: 0.9704 - val_auc: 0.9658\n",
                        "\n",
                        "Epoch 00001: saving model to model.h5\n",
                        "=========== EPOCH 2\n",
                        "[400414 548038 701478 752302 669582]\n",
                        "[ 62 147 225 252 258]\n",
                        "Epoch 1/1\n",
                        "3858/3858 [==============================] - 2340s 606ms/step - loss: 0.0805 - acc: 0.9711 - auc: 0.9705 - val_loss: nan - val_acc: 0.9740 - val_auc: 0.9711\n",
                        "\n",
                        "Epoch 00001: saving model to model.h5\n",
                        "=========== EPOCH 3\n",
                        "[ 40308 674038 277508 494152 686062]\n",
                        "[ 62 147 225 252 258]\n",
                        "Epoch 1/1\n",
                        "3858/3858 [==============================] - 2353s 610ms/step - loss: 0.0773 - acc: 0.9724 - auc: 0.9727 - val_loss: 0.4698 - val_acc: 0.9749 - val_auc: 0.9730\n",
                        "\n",
                        "Epoch 00001: saving model to model.h5\n",
                        "3858/3858 [==============================] - 2346s 608ms/step - loss: 0.0749 - acc: 0.9733 - auc: 0.9743 - val_loss: nan - val_acc: 0.9748 - val_auc: 0.9744\n",
                        "\n",
                        "Epoch 00001: saving model to model.h5\n",
                        "15154/15154 [==============================] - 1539s 102ms/step\n",
                        "=========== EPOCH 6\n",
                        "[347774 121929 244450 579570 183005]\n",
                        "[ 62 147 225 252 258]\n",
                        "Epoch 1/1\n",
                        "3858/3858 [==============================] - 2399s 622ms/step - loss: 0.0688 - acc: 0.9753 - auc: 0.9787 - val_loss: 0.6016 - val_acc: 0.9755 - val_auc: 0.9789\n",
                        "\n",
                        "Epoch 00001: saving model to model.h5\n",
                        "15154/15154 [==============================] - 1487s 98ms/step\n",
                        "=========== EPOCH 8\n",
                        "[619889 421306 693512 220036  98406]\n",
                        "[ 62 147 225 252 258]\n",
                        "Epoch 1/1\n",
                        "12672/15154 [========================>.....] - ETA: 4:16"
                    ]
                }
            ],
            "source": [
                "# Loop through Folds of Multi Label Stratified Split\n",
                "#for epoch, msss_splits in zip(range(0, 9), msss.split(X, Y)): \n",
                "#    # Get train and test index\n",
                "#    train_idx = msss_splits[0]\n",
                "#    valid_idx = msss_splits[1]\n",
                "for epoch in range(0, 9):\n",
                "    print('=========== EPOCH {}'.format(epoch))\n",
                "\n",
                "    # Shuffle Train data\n",
                "    np.random.shuffle(train_idx)\n",
                "    print(train_idx[:5])    \n",
                "    print(valid_idx[:5])\n",
                "\n",
                "    # Create Data Generators for Train and Valid\n",
                "    data_generator_train = TrainDataGenerator(train_df.iloc[train_idx], \n",
                "                                                train_df.iloc[train_idx], \n",
                "                                                TRAIN_BATCH_SIZE, \n",
                "                                                SHAPE,\n",
                "                                                augment = True)\n",
                "    data_generator_val = TrainDataGenerator(train_df.iloc[valid_idx], \n",
                "                                            train_df.iloc[valid_idx], \n",
                "                                            VALID_BATCH_SIZE, \n",
                "                                            SHAPE,\n",
                "                                            augment = False)\n",
                "\n",
                "    # Create Model\n",
                "    model = create_model()\n",
                "    \n",
                "    # Full Training Model\n",
                "    for base_layer in model.layers[:-1]:\n",
                "        base_layer.trainable = True\n",
                "    TRAIN_STEPS = int(len(data_generator_train) / 6)\n",
                "    LR = 0.000125\n",
                "\n",
                "    if epoch != 0:\n",
                "        # Load Model Weights\n",
                "        model.load_weights('model.h5')    \n",
                "\n",
                "    model.compile(optimizer = Adam(learning_rate = LR), \n",
                "                  loss = 'binary_crossentropy',\n",
                "                  metrics = ['acc', tf.keras.metrics.AUC()])\n",
                "    \n",
                "    # Train Model\n",
                "    model.fit_generator(generator = data_generator_train,\n",
                "                        validation_data = data_generator_val,\n",
                "                        steps_per_epoch = TRAIN_STEPS,\n",
                "                        epochs = 1,\n",
                "                        callbacks = [ModelCheckpointFull('model.h5')],\n",
                "                        verbose = 1)\n",
                "    \n",
                "    # Starting with the 4th epoch we create predictions for the test set on each epoch\n",
                "    if epoch >= 3:\n",
                "        preds = predictions(test_df, model)\n",
                "        submission_predictions.append(preds)"
            ]
        },
        {
            "cell_type": "markdown",
            "metadata": {},
            "source": [
                "And finally we create the submission file by averaging all submission_predictions."
            ]
        },
        {
            "cell_type": "code",
            "execution_count": 12,
            "metadata": {
                "tags": [
                    "process_data",
                    "transfer_results",
                    "check_results"
                ]
            },
            "outputs": [
                {
                    "name": "stdout",
                    "output_type": "stream",
                    "text": [
                        "                               ID     Label\n",
                        "0                ID_000000e27_any  0.016222\n",
                        "1           ID_000000e27_epidural  0.000204\n",
                        "2   ID_000000e27_intraparenchymal  0.002585\n",
                        "3   ID_000000e27_intraventricular  0.000368\n",
                        "4       ID_000000e27_subarachnoid  0.008434\n",
                        "5           ID_000000e27_subdural  0.007547\n",
                        "6                ID_000009146_any  0.000069\n",
                        "7           ID_000009146_epidural  0.000007\n",
                        "8   ID_000009146_intraparenchymal  0.000015\n",
                        "9   ID_000009146_intraventricular  0.000007\n",
                        "10      ID_000009146_subarachnoid  0.000074\n",
                        "11          ID_000009146_subdural  0.000048\n"
                    ]
                }
            ],
            "source": [
                "test_df.iloc[:, :] = np.average(submission_predictions, axis = 0, weights = [2**i for i in range(len(submission_predictions))])\n",
                "test_df = test_df.stack().reset_index()\n",
                "test_df.insert(loc = 0, column = 'ID', value = test_df['Image'].astype(str) + \"_\" + test_df['Diagnosis'])\n",
                "test_df = test_df.drop([\"Image\", \"Diagnosis\"], axis=1)\n",
                "test_df.to_csv('submission.csv', index = False)\n",
                "print(test_df.head(12))"
            ]
        }
    ],
    "metadata": {
        "kernelspec": {
            "display_name": "Python 3",
            "language": "python",
            "name": "python3"
        },
        "language_info": {
            "codemirror_mode": {
                "name": "ipython",
                "version": 3
            },
            "file_extension": ".py",
            "mimetype": "text/x-python",
            "name": "python",
            "nbconvert_exporter": "python",
            "pygments_lexer": "ipython3",
            "version": "3.6.6"
        },
        "celltoolbar": "Tags"
    },
    "nbformat": 4,
    "nbformat_minor": 1
}