{
    "cells": [
        {
            "cell_type": "markdown",
            "metadata": {
                "_cell_guid": "a05273b8-14a3-4bd5-9585-f5cdbdeea189",
                "_uuid": "f348a3adf6b26b730d3dbb51bb5bbe2985c1a122"
            },
            "source": [
                "<h1 align=\"center\"><font color='Orange'>ETL & FE Notebook  </font></h1> "
            ]
        },
        {
            "cell_type": "markdown",
            "metadata": {
                "_cell_guid": "f537535d-6cb8-465f-80a0-87206e5f9aa9",
                "_uuid": "8f6b30ca3c979fef374367c29090d3b6ee861a0a"
            },
            "source": [
                "<h2 align=\"center\"><font color='Orange'> The quieter you become the more you are able to hear. </font></h2> "
            ]
        },
        {
            "cell_type": "markdown",
            "metadata": {
                "_cell_guid": "59e1430a-665f-40fe-92e9-366db63d02a9",
                "_uuid": "6b4f9e4a5ee890989e045ac697efac997caa220a"
            },
            "source": [
                "# 1 Import Packages"
            ]
        },
        {
            "cell_type": "code",
            "execution_count": 1,
            "metadata": {
                "_cell_guid": "35916bc0-9362-47e3-aa2d-1a3f025286e4",
                "_uuid": "c60a7264ef56885ef0cbefb2073a981d30a66d00",
                "collapsed": true,
                "tags": [
                    "setup_notebook",
                    "visualize_data"
                ]
            },
            "outputs": [
                {
                    "data": {
                        "text/html": [
                            "<script>requirejs.config({paths: { 'plotly': ['https://cdn.plot.ly/plotly-latest.min']},});if(!window.Plotly) {{require(['plotly'],function(plotly) {window.Plotly=plotly;});}}</script>"
                        ],
                        "text/vnd.plotly.v1+html": [
                            "<script>requirejs.config({paths: { 'plotly': ['https://cdn.plot.ly/plotly-latest.min']},});if(!window.Plotly) {{require(['plotly'],function(plotly) {window.Plotly=plotly;});}}</script>"
                        ]
                    },
                    "metadata": {},
                    "output_type": "display_data"
                }
            ],
            "source": [
                "# Packages\n",
                "import pandas as pd\n",
                "import numpy as np\n",
                "import seaborn as sns\n",
                "import matplotlib.pyplot as plt\n",
                "%matplotlib inline\n",
                "import plotly.offline as py\n",
                "py.init_notebook_mode(connected=True)\n",
                "import plotly.graph_objs as go\n",
                "import plotly.tools as tls\n",
                "import warnings\n",
                "from collections import Counter\n",
                "from sklearn.feature_selection import mutual_info_classif\n",
                "warnings.filterwarnings('ignore')\n",
                "####################\n",
                "from sklearn import *\n",
                "import xgboost as xgb\n"
            ]
        },
        {
            "cell_type": "markdown",
            "metadata": {
                "_cell_guid": "c8b1af78-f86e-4a1f-8d4b-d9e3f5762fd0",
                "_uuid": "d13f6964d9675a74f7d8061f1a67badfc582c017"
            },
            "source": [
                "# 2. Data: Train an test  "
            ]
        },
        {
            "cell_type": "code",
            "execution_count": 2,
            "metadata": {
                "_cell_guid": "cf1260f6-c97c-433c-926a-fb50cc5a2e2b",
                "_uuid": "b342f301af1c54000c243fccc1d4da2d19d9a53e",
                "collapsed": true,
                "tags": [
                    "ingest_data",
                    "check_results"
                ]
            },
            "outputs": [
                {
                    "data": {
                        "text/html": [
                            "<div>\n",
                            "<style scoped>\n",
                            "    .dataframe tbody tr th:only-of-type {\n",
                            "        vertical-align: middle;\n",
                            "    }\n",
                            "\n",
                            "    .dataframe tbody tr th {\n",
                            "        vertical-align: top;\n",
                            "    }\n",
                            "\n",
                            "    .dataframe thead th {\n",
                            "        text-align: right;\n",
                            "    }\n",
                            "</style>\n",
                            "<table border=\"1\" class=\"dataframe\">\n",
                            "  <thead>\n",
                            "    <tr style=\"text-align: right;\">\n",
                            "      <th></th>\n",
                            "      <th>id</th>\n",
                            "      <th>target</th>\n",
                            "      <th>ps_ind_01</th>\n",
                            "      <th>ps_ind_02_cat</th>\n",
                            "      <th>ps_ind_03</th>\n",
                            "      <th>ps_ind_04_cat</th>\n",
                            "      <th>ps_ind_05_cat</th>\n",
                            "      <th>ps_ind_06_bin</th>\n",
                            "      <th>ps_ind_07_bin</th>\n",
                            "      <th>ps_ind_08_bin</th>\n",
                            "      <th>...</th>\n",
                            "      <th>ps_calc_11</th>\n",
                            "      <th>ps_calc_12</th>\n",
                            "      <th>ps_calc_13</th>\n",
                            "      <th>ps_calc_14</th>\n",
                            "      <th>ps_calc_15_bin</th>\n",
                            "      <th>ps_calc_16_bin</th>\n",
                            "      <th>ps_calc_17_bin</th>\n",
                            "      <th>ps_calc_18_bin</th>\n",
                            "      <th>ps_calc_19_bin</th>\n",
                            "      <th>ps_calc_20_bin</th>\n",
                            "    </tr>\n",
                            "  </thead>\n",
                            "  <tbody>\n",
                            "    <tr>\n",
                            "      <th>0</th>\n",
                            "      <td>7</td>\n",
                            "      <td>0</td>\n",
                            "      <td>2</td>\n",
                            "      <td>2</td>\n",
                            "      <td>5</td>\n",
                            "      <td>1</td>\n",
                            "      <td>0</td>\n",
                            "      <td>0</td>\n",
                            "      <td>1</td>\n",
                            "      <td>0</td>\n",
                            "      <td>...</td>\n",
                            "      <td>9</td>\n",
                            "      <td>1</td>\n",
                            "      <td>5</td>\n",
                            "      <td>8</td>\n",
                            "      <td>0</td>\n",
                            "      <td>1</td>\n",
                            "      <td>1</td>\n",
                            "      <td>0</td>\n",
                            "      <td>0</td>\n",
                            "      <td>1</td>\n",
                            "    </tr>\n",
                            "    <tr>\n",
                            "      <th>1</th>\n",
                            "      <td>9</td>\n",
                            "      <td>0</td>\n",
                            "      <td>1</td>\n",
                            "      <td>1</td>\n",
                            "      <td>7</td>\n",
                            "      <td>0</td>\n",
                            "      <td>0</td>\n",
                            "      <td>0</td>\n",
                            "      <td>0</td>\n",
                            "      <td>1</td>\n",
                            "      <td>...</td>\n",
                            "      <td>3</td>\n",
                            "      <td>1</td>\n",
                            "      <td>1</td>\n",
                            "      <td>9</td>\n",
                            "      <td>0</td>\n",
                            "      <td>1</td>\n",
                            "      <td>1</td>\n",
                            "      <td>0</td>\n",
                            "      <td>1</td>\n",
                            "      <td>0</td>\n",
                            "    </tr>\n",
                            "    <tr>\n",
                            "      <th>2</th>\n",
                            "      <td>13</td>\n",
                            "      <td>0</td>\n",
                            "      <td>5</td>\n",
                            "      <td>4</td>\n",
                            "      <td>9</td>\n",
                            "      <td>1</td>\n",
                            "      <td>0</td>\n",
                            "      <td>0</td>\n",
                            "      <td>0</td>\n",
                            "      <td>1</td>\n",
                            "      <td>...</td>\n",
                            "      <td>4</td>\n",
                            "      <td>2</td>\n",
                            "      <td>7</td>\n",
                            "      <td>7</td>\n",
                            "      <td>0</td>\n",
                            "      <td>1</td>\n",
                            "      <td>1</td>\n",
                            "      <td>0</td>\n",
                            "      <td>1</td>\n",
                            "      <td>0</td>\n",
                            "    </tr>\n",
                            "    <tr>\n",
                            "      <th>3</th>\n",
                            "      <td>16</td>\n",
                            "      <td>0</td>\n",
                            "      <td>0</td>\n",
                            "      <td>1</td>\n",
                            "      <td>2</td>\n",
                            "      <td>0</td>\n",
                            "      <td>0</td>\n",
                            "      <td>1</td>\n",
                            "      <td>0</td>\n",
                            "      <td>0</td>\n",
                            "      <td>...</td>\n",
                            "      <td>2</td>\n",
                            "      <td>2</td>\n",
                            "      <td>4</td>\n",
                            "      <td>9</td>\n",
                            "      <td>0</td>\n",
                            "      <td>0</td>\n",
                            "      <td>0</td>\n",
                            "      <td>0</td>\n",
                            "      <td>0</td>\n",
                            "      <td>0</td>\n",
                            "    </tr>\n",
                            "    <tr>\n",
                            "      <th>4</th>\n",
                            "      <td>17</td>\n",
                            "      <td>0</td>\n",
                            "      <td>0</td>\n",
                            "      <td>2</td>\n",
                            "      <td>0</td>\n",
                            "      <td>1</td>\n",
                            "      <td>0</td>\n",
                            "      <td>1</td>\n",
                            "      <td>0</td>\n",
                            "      <td>0</td>\n",
                            "      <td>...</td>\n",
                            "      <td>3</td>\n",
                            "      <td>1</td>\n",
                            "      <td>1</td>\n",
                            "      <td>3</td>\n",
                            "      <td>0</td>\n",
                            "      <td>0</td>\n",
                            "      <td>0</td>\n",
                            "      <td>1</td>\n",
                            "      <td>1</td>\n",
                            "      <td>0</td>\n",
                            "    </tr>\n",
                            "  </tbody>\n",
                            "</table>\n",
                            "<p>5 rows × 59 columns</p>\n",
                            "</div>"
                        ],
                        "text/plain": [
                            "   id  target  ps_ind_01  ps_ind_02_cat  ps_ind_03  ps_ind_04_cat  \\\n",
                            "0   7       0          2              2          5              1   \n",
                            "1   9       0          1              1          7              0   \n",
                            "2  13       0          5              4          9              1   \n",
                            "3  16       0          0              1          2              0   \n",
                            "4  17       0          0              2          0              1   \n",
                            "\n",
                            "   ps_ind_05_cat  ps_ind_06_bin  ps_ind_07_bin  ps_ind_08_bin       ...        \\\n",
                            "0              0              0              1              0       ...         \n",
                            "1              0              0              0              1       ...         \n",
                            "2              0              0              0              1       ...         \n",
                            "3              0              1              0              0       ...         \n",
                            "4              0              1              0              0       ...         \n",
                            "\n",
                            "   ps_calc_11  ps_calc_12  ps_calc_13  ps_calc_14  ps_calc_15_bin  \\\n",
                            "0           9           1           5           8               0   \n",
                            "1           3           1           1           9               0   \n",
                            "2           4           2           7           7               0   \n",
                            "3           2           2           4           9               0   \n",
                            "4           3           1           1           3               0   \n",
                            "\n",
                            "   ps_calc_16_bin  ps_calc_17_bin  ps_calc_18_bin  ps_calc_19_bin  \\\n",
                            "0               1               1               0               0   \n",
                            "1               1               1               0               1   \n",
                            "2               1               1               0               1   \n",
                            "3               0               0               0               0   \n",
                            "4               0               0               1               1   \n",
                            "\n",
                            "   ps_calc_20_bin  \n",
                            "0               1  \n",
                            "1               0  \n",
                            "2               0  \n",
                            "3               0  \n",
                            "4               0  \n",
                            "\n",
                            "[5 rows x 59 columns]"
                        ]
                    },
                    "execution_count": 2,
                    "metadata": {},
                    "output_type": "execute_result"
                }
            ],
            "source": [
                "# Train data \n",
                "train = pd.read_csv(\"../input/train.csv\")\n",
                "train.head()"
            ]
        },
        {
            "cell_type": "code",
            "execution_count": 3,
            "metadata": {
                "_cell_guid": "5a5597f0-252c-4b38-ad9c-3ed487bce9e1",
                "_uuid": "0ebe4e9f17013696f6957c17fa436f1266eae80d",
                "collapsed": true,
                "tags": [
                    "ingest_data",
                    "check_results"
                ]
            },
            "outputs": [
                {
                    "data": {
                        "text/html": [
                            "<div>\n",
                            "<style scoped>\n",
                            "    .dataframe tbody tr th:only-of-type {\n",
                            "        vertical-align: middle;\n",
                            "    }\n",
                            "\n",
                            "    .dataframe tbody tr th {\n",
                            "        vertical-align: top;\n",
                            "    }\n",
                            "\n",
                            "    .dataframe thead th {\n",
                            "        text-align: right;\n",
                            "    }\n",
                            "</style>\n",
                            "<table border=\"1\" class=\"dataframe\">\n",
                            "  <thead>\n",
                            "    <tr style=\"text-align: right;\">\n",
                            "      <th></th>\n",
                            "      <th>id</th>\n",
                            "      <th>ps_ind_01</th>\n",
                            "      <th>ps_ind_02_cat</th>\n",
                            "      <th>ps_ind_03</th>\n",
                            "      <th>ps_ind_04_cat</th>\n",
                            "      <th>ps_ind_05_cat</th>\n",
                            "      <th>ps_ind_06_bin</th>\n",
                            "      <th>ps_ind_07_bin</th>\n",
                            "      <th>ps_ind_08_bin</th>\n",
                            "      <th>ps_ind_09_bin</th>\n",
                            "      <th>...</th>\n",
                            "      <th>ps_calc_11</th>\n",
                            "      <th>ps_calc_12</th>\n",
                            "      <th>ps_calc_13</th>\n",
                            "      <th>ps_calc_14</th>\n",
                            "      <th>ps_calc_15_bin</th>\n",
                            "      <th>ps_calc_16_bin</th>\n",
                            "      <th>ps_calc_17_bin</th>\n",
                            "      <th>ps_calc_18_bin</th>\n",
                            "      <th>ps_calc_19_bin</th>\n",
                            "      <th>ps_calc_20_bin</th>\n",
                            "    </tr>\n",
                            "  </thead>\n",
                            "  <tbody>\n",
                            "    <tr>\n",
                            "      <th>0</th>\n",
                            "      <td>0</td>\n",
                            "      <td>0</td>\n",
                            "      <td>1</td>\n",
                            "      <td>8</td>\n",
                            "      <td>1</td>\n",
                            "      <td>0</td>\n",
                            "      <td>0</td>\n",
                            "      <td>1</td>\n",
                            "      <td>0</td>\n",
                            "      <td>0</td>\n",
                            "      <td>...</td>\n",
                            "      <td>1</td>\n",
                            "      <td>1</td>\n",
                            "      <td>1</td>\n",
                            "      <td>12</td>\n",
                            "      <td>0</td>\n",
                            "      <td>1</td>\n",
                            "      <td>1</td>\n",
                            "      <td>0</td>\n",
                            "      <td>0</td>\n",
                            "      <td>1</td>\n",
                            "    </tr>\n",
                            "    <tr>\n",
                            "      <th>1</th>\n",
                            "      <td>1</td>\n",
                            "      <td>4</td>\n",
                            "      <td>2</td>\n",
                            "      <td>5</td>\n",
                            "      <td>1</td>\n",
                            "      <td>0</td>\n",
                            "      <td>0</td>\n",
                            "      <td>0</td>\n",
                            "      <td>0</td>\n",
                            "      <td>1</td>\n",
                            "      <td>...</td>\n",
                            "      <td>2</td>\n",
                            "      <td>0</td>\n",
                            "      <td>3</td>\n",
                            "      <td>10</td>\n",
                            "      <td>0</td>\n",
                            "      <td>0</td>\n",
                            "      <td>1</td>\n",
                            "      <td>1</td>\n",
                            "      <td>0</td>\n",
                            "      <td>1</td>\n",
                            "    </tr>\n",
                            "    <tr>\n",
                            "      <th>2</th>\n",
                            "      <td>2</td>\n",
                            "      <td>5</td>\n",
                            "      <td>1</td>\n",
                            "      <td>3</td>\n",
                            "      <td>0</td>\n",
                            "      <td>0</td>\n",
                            "      <td>0</td>\n",
                            "      <td>0</td>\n",
                            "      <td>0</td>\n",
                            "      <td>1</td>\n",
                            "      <td>...</td>\n",
                            "      <td>4</td>\n",
                            "      <td>0</td>\n",
                            "      <td>2</td>\n",
                            "      <td>4</td>\n",
                            "      <td>0</td>\n",
                            "      <td>0</td>\n",
                            "      <td>0</td>\n",
                            "      <td>0</td>\n",
                            "      <td>0</td>\n",
                            "      <td>0</td>\n",
                            "    </tr>\n",
                            "    <tr>\n",
                            "      <th>3</th>\n",
                            "      <td>3</td>\n",
                            "      <td>0</td>\n",
                            "      <td>1</td>\n",
                            "      <td>6</td>\n",
                            "      <td>0</td>\n",
                            "      <td>0</td>\n",
                            "      <td>1</td>\n",
                            "      <td>0</td>\n",
                            "      <td>0</td>\n",
                            "      <td>0</td>\n",
                            "      <td>...</td>\n",
                            "      <td>5</td>\n",
                            "      <td>1</td>\n",
                            "      <td>0</td>\n",
                            "      <td>5</td>\n",
                            "      <td>1</td>\n",
                            "      <td>0</td>\n",
                            "      <td>1</td>\n",
                            "      <td>0</td>\n",
                            "      <td>0</td>\n",
                            "      <td>0</td>\n",
                            "    </tr>\n",
                            "    <tr>\n",
                            "      <th>4</th>\n",
                            "      <td>4</td>\n",
                            "      <td>5</td>\n",
                            "      <td>1</td>\n",
                            "      <td>7</td>\n",
                            "      <td>0</td>\n",
                            "      <td>0</td>\n",
                            "      <td>0</td>\n",
                            "      <td>0</td>\n",
                            "      <td>0</td>\n",
                            "      <td>1</td>\n",
                            "      <td>...</td>\n",
                            "      <td>4</td>\n",
                            "      <td>0</td>\n",
                            "      <td>0</td>\n",
                            "      <td>4</td>\n",
                            "      <td>0</td>\n",
                            "      <td>1</td>\n",
                            "      <td>1</td>\n",
                            "      <td>0</td>\n",
                            "      <td>0</td>\n",
                            "      <td>1</td>\n",
                            "    </tr>\n",
                            "  </tbody>\n",
                            "</table>\n",
                            "<p>5 rows × 58 columns</p>\n",
                            "</div>"
                        ],
                        "text/plain": [
                            "   id  ps_ind_01  ps_ind_02_cat  ps_ind_03  ps_ind_04_cat  ps_ind_05_cat  \\\n",
                            "0   0          0              1          8              1              0   \n",
                            "1   1          4              2          5              1              0   \n",
                            "2   2          5              1          3              0              0   \n",
                            "3   3          0              1          6              0              0   \n",
                            "4   4          5              1          7              0              0   \n",
                            "\n",
                            "   ps_ind_06_bin  ps_ind_07_bin  ps_ind_08_bin  ps_ind_09_bin       ...        \\\n",
                            "0              0              1              0              0       ...         \n",
                            "1              0              0              0              1       ...         \n",
                            "2              0              0              0              1       ...         \n",
                            "3              1              0              0              0       ...         \n",
                            "4              0              0              0              1       ...         \n",
                            "\n",
                            "   ps_calc_11  ps_calc_12  ps_calc_13  ps_calc_14  ps_calc_15_bin  \\\n",
                            "0           1           1           1          12               0   \n",
                            "1           2           0           3          10               0   \n",
                            "2           4           0           2           4               0   \n",
                            "3           5           1           0           5               1   \n",
                            "4           4           0           0           4               0   \n",
                            "\n",
                            "   ps_calc_16_bin  ps_calc_17_bin  ps_calc_18_bin  ps_calc_19_bin  \\\n",
                            "0               1               1               0               0   \n",
                            "1               0               1               1               0   \n",
                            "2               0               0               0               0   \n",
                            "3               0               1               0               0   \n",
                            "4               1               1               0               0   \n",
                            "\n",
                            "   ps_calc_20_bin  \n",
                            "0               1  \n",
                            "1               1  \n",
                            "2               0  \n",
                            "3               0  \n",
                            "4               1  \n",
                            "\n",
                            "[5 rows x 58 columns]"
                        ]
                    },
                    "execution_count": 3,
                    "metadata": {},
                    "output_type": "execute_result"
                }
            ],
            "source": [
                "# test data \n",
                "test = pd.read_csv(\"../input/test.csv\")\n",
                "test.head()"
            ]
        },
        {
            "cell_type": "markdown",
            "metadata": {
                "_cell_guid": "efbfacd9-3320-4eca-abcb-498ad8d8a754",
                "_uuid": "d8e8710b79a51dfd150d987ec7fa0d819730a31e"
            },
            "source": [
                "<h1 align=\"left\"><font color='Orange'> I . ETL  </font></h1> "
            ]
        },
        {
            "cell_type": "markdown",
            "metadata": {
                "_cell_guid": "89bff4e1-3d52-478b-a383-4dfb11677d95",
                "_uuid": "7a7a87eb6165f7cc521054005e6a699e106b1c2b"
            },
            "source": [
                "# 1. Features Dico"
            ]
        },
        {
            "cell_type": "code",
            "execution_count": 4,
            "metadata": {
                "_cell_guid": "680d7cdf-a250-464e-84e0-054fd84b19aa",
                "_uuid": "5e21e668df2fd2aa76a5592a3714a08befdb8f9c",
                "collapsed": true,
                "tags": [
                    "process_data"
                ]
            },
            "outputs": [],
            "source": [
                "Features=dict()\n",
                "Features['All']=list(train.columns)\n",
                "Features['target']=['target']\n",
                "Features['train']= list(set(train.columns)- set(['id','target']))"
            ]
        },
        {
            "cell_type": "markdown",
            "metadata": {
                "_cell_guid": "ec858f47-58ba-4112-bba1-508f7ab83084",
                "_uuid": "b75d14b6fc55090ffe0a4757b93439063dc904ce"
            },
            "source": [
                "# 2. X_train/ X_test datasets"
            ]
        },
        {
            "cell_type": "code",
            "execution_count": 5,
            "metadata": {
                "_cell_guid": "586836c2-0417-4152-ab5f-070ee75f4158",
                "_uuid": "9177109b132ce1f89e3dbec8c62a798d36bf0c0d",
                "collapsed": true,
                "tags": [
                    "process_data"
                ]
            },
            "outputs": [],
            "source": [
                "X_train=train[Features['train']]\n",
                "X_test=test[Features['train']]"
            ]
        },
        {
            "cell_type": "code",
            "execution_count": 6,
            "metadata": {
                "_cell_guid": "a5f3f2a3-ff53-416d-974d-cab8dfc1c8c7",
                "_uuid": "32b05a5bd319525774dc9bd68f9bf749964b94bd",
                "collapsed": true,
                "tags": [
                    "check_results"
                ]
            },
            "outputs": [
                {
                    "data": {
                        "text/plain": [
                            "(595212, 57)"
                        ]
                    },
                    "execution_count": 6,
                    "metadata": {},
                    "output_type": "execute_result"
                }
            ],
            "source": [
                "X_train.shape"
            ]
        },
        {
            "cell_type": "code",
            "execution_count": 7,
            "metadata": {
                "_cell_guid": "773ef074-efa1-415f-ad73-27f02c97bd5f",
                "_uuid": "6f1d4b58777a7d4a5c36d32e441c1bc73712dadc",
                "collapsed": true,
                "tags": [
                    "check_results"
                ]
            },
            "outputs": [
                {
                    "data": {
                        "text/plain": [
                            "(892816, 57)"
                        ]
                    },
                    "execution_count": 7,
                    "metadata": {},
                    "output_type": "execute_result"
                }
            ],
            "source": [
                "X_test.shape"
            ]
        },
        {
            "cell_type": "code",
            "execution_count": 8,
            "metadata": {
                "_cell_guid": "ea06eb0d-1717-4529-bad3-64e979056497",
                "_uuid": "afd8fbee7bce29c2620950e85f716491bf2871dd",
                "collapsed": true,
                "tags": [
                    "process_data"
                ]
            },
            "outputs": [],
            "source": [
                "Y=train.target"
            ]
        },
        {
            "cell_type": "markdown",
            "metadata": {
                "_cell_guid": "e8bd29a9-ed5e-4810-a22b-2d341b11fa73",
                "_uuid": "2b13c48cac0d689e83e4cb5c9cd336e5e1ddbf24"
            },
            "source": [
                "# 3. Benchmark for FE "
            ]
        },
        {
            "cell_type": "code",
            "execution_count": 9,
            "metadata": {
                "_cell_guid": "c0114fd5-2899-4259-b81f-1294fc0a6ba5",
                "_uuid": "e9b2b87d5e1d83bdb5fb2bdc33cd60a137ceeaf6",
                "collapsed": true,
                "scrolled": true,
                "tags": [
                    "setup_notebook",
                    "train_model"
                ]
            },
            "outputs": [
                {
                    "name": "stdout",
                    "output_type": "stream",
                    "text": [
                        "[0]\ttrain-error:0.036501\tvalid-error:0.036245\ttrain-gini:0.22002\tvalid-gini:0.207044\n",
                        "Multiple eval metrics have been passed: 'valid-gini' will be used for early stopping.\n",
                        "\n",
                        "Will train until valid-gini hasn't improved in 100 rounds.\n",
                        "[50]\ttrain-error:0.036515\tvalid-error:0.036256\ttrain-gini:0.336831\tvalid-gini:0.275488\n",
                        "[100]\ttrain-error:0.036503\tvalid-error:0.03625\ttrain-gini:0.418744\tvalid-gini:0.282424\n",
                        "[150]\ttrain-error:0.036491\tvalid-error:0.03625\ttrain-gini:0.470955\tvalid-gini:0.278719\n",
                        "Stopping. Best iteration:\n",
                        "[86]\ttrain-error:0.036503\tvalid-error:0.03625\ttrain-gini:0.400169\tvalid-gini:0.283463\n",
                        "\n"
                    ]
                }
            ],
            "source": [
                "import random\n",
                "random.seed( 3 )\n",
                "\n",
                "def gini(y, pred):\n",
                "    fpr, tpr, thr = metrics.roc_curve(y, pred, pos_label=1)\n",
                "    g = 2 * metrics.auc(fpr, tpr) - 1\n",
                "    return g\n",
                "\n",
                "def gini_xgb(pred, y):\n",
                "    y = y.get_label()\n",
                "    return 'gini', gini(y, pred) / gini(y, y)\n",
                "\n",
                "x1, x2, y1, y2 = model_selection.train_test_split(X_train, train['target'], test_size=0.3, random_state=6)\n",
                "watchlist = [(xgb.DMatrix(x1, y1), 'train'), (xgb.DMatrix(x2, y2), 'valid')]\n",
                "params = {'eta': 0.09, 'max_depth': 6, 'objective': 'binary:logistic', 'seed': 16, 'silent': True, 'colsample_bytree': 0.6}\n",
                "model = xgb.train(params, xgb.DMatrix(x1, y1), 1000,  watchlist, feval=gini_xgb, maximize=True, verbose_eval=50, early_stopping_rounds=100)"
            ]
        },
        {
            "cell_type": "markdown",
            "metadata": {
                "_cell_guid": "018c3911-c3ad-4706-a2ab-e0e979c23ee5",
                "_uuid": "93f4f922ed72ef1b892d661d1ff02038fa8b872e"
            },
            "source": [
                "With this XGb and with those Features we have a **valid Gini : 0.285829** : this is our Benchmark for Feature Engineering"
            ]
        },
        {
            "cell_type": "markdown",
            "metadata": {
                "_cell_guid": "dd81947f-8d64-4c96-a289-8b3485733d57",
                "_uuid": "06e6b2e8e113339931b156941223f8b4aec8eda3"
            },
            "source": [
                "> <h1 align=\"left\"><font color='Orange'> II . FE </font></h1> "
            ]
        },
        {
            "cell_type": "markdown",
            "metadata": {
                "_cell_guid": "7312eec0-8c1b-4169-8ee8-85ca32642b09",
                "_uuid": "0fdccaccd67aea5ba98a8fb6bcf1cb11e5f67d9c"
            },
            "source": [
                "# 1. Level 1 of FE "
            ]
        },
        {
            "cell_type": "code",
            "execution_count": 10,
            "metadata": {
                "_cell_guid": "e7478bc6-f9c1-4996-b46f-fc92883c88c5",
                "_uuid": "d19c16481b60cf61ef653a897d11c0050779d45c",
                "collapsed": true,
                "tags": [
                    "process_data"
                ]
            },
            "outputs": [],
            "source": [
                "train_float = X_train.select_dtypes(include=['float64'])\n",
                "train_int = X_train.select_dtypes(include=['int64'])"
            ]
        },
        {
            "cell_type": "code",
            "execution_count": 11,
            "metadata": {
                "_cell_guid": "9da78991-1518-4f71-a4ae-21b638e9a3f5",
                "_uuid": "24dec006ae7efe901c240bb68cf9aae3861acce1",
                "collapsed": true,
                "tags": [
                    "check_results"
                ]
            },
            "outputs": [
                {
                    "data": {
                        "text/html": [
                            "<div>\n",
                            "<style scoped>\n",
                            "    .dataframe tbody tr th:only-of-type {\n",
                            "        vertical-align: middle;\n",
                            "    }\n",
                            "\n",
                            "    .dataframe tbody tr th {\n",
                            "        vertical-align: top;\n",
                            "    }\n",
                            "\n",
                            "    .dataframe thead th {\n",
                            "        text-align: right;\n",
                            "    }\n",
                            "</style>\n",
                            "<table border=\"1\" class=\"dataframe\">\n",
                            "  <thead>\n",
                            "    <tr style=\"text-align: right;\">\n",
                            "      <th></th>\n",
                            "      <th>ps_calc_03</th>\n",
                            "      <th>ps_reg_01</th>\n",
                            "      <th>ps_reg_03</th>\n",
                            "      <th>ps_car_13</th>\n",
                            "      <th>ps_car_15</th>\n",
                            "      <th>ps_calc_02</th>\n",
                            "      <th>ps_car_12</th>\n",
                            "      <th>ps_car_14</th>\n",
                            "      <th>ps_reg_02</th>\n",
                            "      <th>ps_calc_01</th>\n",
                            "    </tr>\n",
                            "  </thead>\n",
                            "  <tbody>\n",
                            "    <tr>\n",
                            "      <th>0</th>\n",
                            "      <td>0.2</td>\n",
                            "      <td>0.7</td>\n",
                            "      <td>0.718070</td>\n",
                            "      <td>0.883679</td>\n",
                            "      <td>3.605551</td>\n",
                            "      <td>0.5</td>\n",
                            "      <td>0.400000</td>\n",
                            "      <td>0.370810</td>\n",
                            "      <td>0.2</td>\n",
                            "      <td>0.6</td>\n",
                            "    </tr>\n",
                            "    <tr>\n",
                            "      <th>1</th>\n",
                            "      <td>0.3</td>\n",
                            "      <td>0.8</td>\n",
                            "      <td>0.766078</td>\n",
                            "      <td>0.618817</td>\n",
                            "      <td>2.449490</td>\n",
                            "      <td>0.1</td>\n",
                            "      <td>0.316228</td>\n",
                            "      <td>0.388716</td>\n",
                            "      <td>0.4</td>\n",
                            "      <td>0.3</td>\n",
                            "    </tr>\n",
                            "    <tr>\n",
                            "      <th>2</th>\n",
                            "      <td>0.1</td>\n",
                            "      <td>0.0</td>\n",
                            "      <td>-1.000000</td>\n",
                            "      <td>0.641586</td>\n",
                            "      <td>3.316625</td>\n",
                            "      <td>0.7</td>\n",
                            "      <td>0.316228</td>\n",
                            "      <td>0.347275</td>\n",
                            "      <td>0.0</td>\n",
                            "      <td>0.5</td>\n",
                            "    </tr>\n",
                            "    <tr>\n",
                            "      <th>3</th>\n",
                            "      <td>0.1</td>\n",
                            "      <td>0.9</td>\n",
                            "      <td>0.580948</td>\n",
                            "      <td>0.542949</td>\n",
                            "      <td>2.000000</td>\n",
                            "      <td>0.9</td>\n",
                            "      <td>0.374166</td>\n",
                            "      <td>0.294958</td>\n",
                            "      <td>0.2</td>\n",
                            "      <td>0.6</td>\n",
                            "    </tr>\n",
                            "    <tr>\n",
                            "      <th>4</th>\n",
                            "      <td>0.0</td>\n",
                            "      <td>0.7</td>\n",
                            "      <td>0.840759</td>\n",
                            "      <td>0.565832</td>\n",
                            "      <td>2.000000</td>\n",
                            "      <td>0.6</td>\n",
                            "      <td>0.316070</td>\n",
                            "      <td>0.365103</td>\n",
                            "      <td>0.6</td>\n",
                            "      <td>0.4</td>\n",
                            "    </tr>\n",
                            "  </tbody>\n",
                            "</table>\n",
                            "</div>"
                        ],
                        "text/plain": [
                            "   ps_calc_03  ps_reg_01  ps_reg_03  ps_car_13  ps_car_15  ps_calc_02  \\\n",
                            "0         0.2        0.7   0.718070   0.883679   3.605551         0.5   \n",
                            "1         0.3        0.8   0.766078   0.618817   2.449490         0.1   \n",
                            "2         0.1        0.0  -1.000000   0.641586   3.316625         0.7   \n",
                            "3         0.1        0.9   0.580948   0.542949   2.000000         0.9   \n",
                            "4         0.0        0.7   0.840759   0.565832   2.000000         0.6   \n",
                            "\n",
                            "   ps_car_12  ps_car_14  ps_reg_02  ps_calc_01  \n",
                            "0   0.400000   0.370810        0.2         0.6  \n",
                            "1   0.316228   0.388716        0.4         0.3  \n",
                            "2   0.316228   0.347275        0.0         0.5  \n",
                            "3   0.374166   0.294958        0.2         0.6  \n",
                            "4   0.316070   0.365103        0.6         0.4  "
                        ]
                    },
                    "execution_count": 11,
                    "metadata": {},
                    "output_type": "execute_result"
                }
            ],
            "source": [
                "train_float.head()"
            ]
        },
        {
            "cell_type": "code",
            "execution_count": 12,
            "metadata": {
                "_cell_guid": "839fc889-199b-4e2e-a8ab-d35a135310e8",
                "_uuid": "9ef5a5e6e3fe44eb44b5eb41cf0e9020cec11d3d",
                "collapsed": true,
                "tags": [
                    "visualize_data"
                ]
            },
            "outputs": [
                {
                    "data": {
                        "text/plain": [
                            "<matplotlib.axes._subplots.AxesSubplot at 0x7f351551fb70>"
                        ]
                    },
                    "execution_count": 12,
                    "metadata": {},
                    "output_type": "execute_result"
                },
                {
                    "data": {
                        "image/png": "[encoded data removed]",
                        "text/plain": [
                            "<matplotlib.figure.Figure at 0x7f351551f4e0>"
                        ]
                    },
                    "metadata": {},
                    "output_type": "display_data"
                }
            ],
            "source": [
                "colormap = plt.cm.inferno\n",
                "plt.figure(figsize=(16,12))\n",
                "plt.title('Pearson correlation of continuous features', y=1.05, size=15)\n",
                "sns.heatmap(train_float.corr(),linewidths=0.1,vmax=1.0, square=True, cmap=colormap, linecolor='white', annot=True)"
            ]
        },
        {
            "cell_type": "code",
            "execution_count": 13,
            "metadata": {
                "_cell_guid": "0e010d7d-2d91-41cc-8d38-d4e9e90187fc",
                "_uuid": "22d49c40471fd1e16a9b3ddfd9e50e8c818b183b",
                "collapsed": true,
                "tags": [
                    "process_data"
                ]
            },
            "outputs": [],
            "source": [
                "Features['Reg']=['ps_reg_03','ps_reg_02','ps_reg_01'] # Reg maybe regression !! Why not ? "
            ]
        },
        {
            "cell_type": "code",
            "execution_count": 14,
            "metadata": {
                "_cell_guid": "0684edde-d9eb-443b-9c65-6c3434567d5e",
                "_uuid": "ad8dc10be5a8de684d5ab55619e08de2ee2b9a02",
                "collapsed": true,
                "scrolled": true,
                "tags": [
                    "check_results"
                ]
            },
            "outputs": [
                {
                    "data": {
                        "text/plain": [
                            "count    595212.000000\n",
                            "mean          0.551102\n",
                            "std           0.793506\n",
                            "min          -1.000000\n",
                            "25%           0.525000\n",
                            "50%           0.720677\n",
                            "75%           1.000000\n",
                            "max           4.037945\n",
                            "Name: ps_reg_03, dtype: float64"
                        ]
                    },
                    "execution_count": 14,
                    "metadata": {},
                    "output_type": "execute_result"
                }
            ],
            "source": [
                "X_train.ps_reg_03.describe()"
            ]
        },
        {
            "cell_type": "code",
            "execution_count": 15,
            "metadata": {
                "_cell_guid": "0b57c83a-ba0c-4085-910f-1477ca564e91",
                "_uuid": "6149bf5c6caf1b89b26990c1bb93ee2575ccde04",
                "collapsed": true,
                "tags": [
                    "check_results"
                ]
            },
            "outputs": [
                {
                    "data": {
                        "text/plain": [
                            "count    595212.000000\n",
                            "mean          0.439184\n",
                            "std           0.404264\n",
                            "min           0.000000\n",
                            "25%           0.200000\n",
                            "50%           0.300000\n",
                            "75%           0.600000\n",
                            "max           1.800000\n",
                            "Name: ps_reg_02, dtype: float64"
                        ]
                    },
                    "execution_count": 15,
                    "metadata": {},
                    "output_type": "execute_result"
                }
            ],
            "source": [
                "X_train.ps_reg_02.describe()"
            ]
        },
        {
            "cell_type": "code",
            "execution_count": 16,
            "metadata": {
                "_cell_guid": "e0bf8560-cb25-4501-acd3-c5e3a00a97d3",
                "_uuid": "eeebc4c63485b00723d557e7a1e100c398bef9a5",
                "collapsed": true,
                "tags": [
                    "check_results"
                ]
            },
            "outputs": [
                {
                    "data": {
                        "text/plain": [
                            "count    595212.000000\n",
                            "mean          0.610991\n",
                            "std           0.287643\n",
                            "min           0.000000\n",
                            "25%           0.400000\n",
                            "50%           0.700000\n",
                            "75%           0.900000\n",
                            "max           0.900000\n",
                            "Name: ps_reg_01, dtype: float64"
                        ]
                    },
                    "execution_count": 16,
                    "metadata": {},
                    "output_type": "execute_result"
                }
            ],
            "source": [
                "X_train.ps_reg_01.describe()"
            ]
        },
        {
            "cell_type": "code",
            "execution_count": 17,
            "metadata": {
                "_cell_guid": "96291ce5-1b2c-4786-b488-ccfa238a4da4",
                "_uuid": "a20f1e46000914ee89509d82512095863af474b9",
                "collapsed": true,
                "tags": [
                    "process_data",
                    "check_results"
                ]
            },
            "outputs": [],
            "source": [
                "Features['FE']=['sum_Reg']"
            ]
        },
        {
            "cell_type": "code",
            "execution_count": 18,
            "metadata": {
                "_cell_guid": "1380cc2b-a093-4b4e-8091-80a44fe63100",
                "_uuid": "ddb7b97a6ab5b6f345d4eaeb469b7cbbc24cf9a6",
                "collapsed": true,
                "tags": [
                    "process_data"
                ]
            },
            "outputs": [],
            "source": [
                "X_train['Sum_Reg']=X_train['ps_reg_03']+X_train['ps_reg_02']+X_train['ps_reg_01']"
            ]
        },
        {
            "cell_type": "markdown",
            "metadata": {
                "_cell_guid": "0507c892-07ff-4cfe-84bd-98ace499452a",
                "_uuid": "dc6f4076545d4a38d72958f74795136300c0cb2b"
            },
            "source": [
                "Now We will chek if the FE_i increase the Gini metric"
            ]
        },
        {
            "cell_type": "code",
            "execution_count": 19,
            "metadata": {
                "_cell_guid": "bb245461-7095-4bc4-92bc-ebe2fcf902b0",
                "_uuid": "8ffbb21c5864c3aca8d326077959b140ef4eebb7",
                "collapsed": true,
                "scrolled": true,
                "tags": [
                    "setup_notebook",
                    "train_model"
                ]
            },
            "outputs": [
                {
                    "name": "stdout",
                    "output_type": "stream",
                    "text": [
                        "[0]\ttrain-error:0.036501\tvalid-error:0.036245\ttrain-gini:0.22002\tvalid-gini:0.207044\n",
                        "Multiple eval metrics have been passed: 'valid-gini' will be used for early stopping.\n",
                        "\n",
                        "Will train until valid-gini hasn't improved in 100 rounds.\n",
                        "[50]\ttrain-error:0.036508\tvalid-error:0.03625\ttrain-gini:0.337658\tvalid-gini:0.277899\n",
                        "[100]\ttrain-error:0.036491\tvalid-error:0.036239\ttrain-gini:0.417851\tvalid-gini:0.285824\n",
                        "[150]\ttrain-error:0.036477\tvalid-error:0.036239\ttrain-gini:0.471024\tvalid-gini:0.284577\n",
                        "[200]\ttrain-error:0.036443\tvalid-error:0.03625\ttrain-gini:0.510376\tvalid-gini:0.282194\n",
                        "Stopping. Best iteration:\n",
                        "[125]\ttrain-error:0.036489\tvalid-error:0.036239\ttrain-gini:0.447285\tvalid-gini:0.286908\n",
                        "\n"
                    ]
                }
            ],
            "source": [
                "import random\n",
                "random.seed( 3 )\n",
                "x1, x2, y1, y2 = model_selection.train_test_split(X_train, train['target'], test_size=0.3, random_state=6)\n",
                "watchlist = [(xgb.DMatrix(x1, y1), 'train'), (xgb.DMatrix(x2, y2), 'valid')]\n",
                "params = {'eta': 0.09, 'max_depth': 6, 'objective': 'binary:logistic', 'seed': 16, 'silent': True, 'colsample_bytree': 0.6}\n",
                "model = xgb.train(params, xgb.DMatrix(x1, y1), 1000,  watchlist, feval=gini_xgb, maximize=True, verbose_eval=50, early_stopping_rounds=100)"
            ]
        },
        {
            "cell_type": "markdown",
            "metadata": {
                "_cell_guid": "2bc171d5-fd6f-4723-9926-2c9e733f45bd",
                "_uuid": "ca2e77d97e88d8cc3d2700c612e19ab9e59dcd16"
            },
            "source": [
                "So like you see with only 5 Features we passed from **valid Gini : 0.2858**  to **valid Gini :0.2860**  "
            ]
        },
        {
            "cell_type": "code",
            "execution_count": 20,
            "metadata": {
                "_cell_guid": "30a4a192-4c15-4b3c-be8c-e9c22b94ab9d",
                "_uuid": "96ea92c4383fa6dea1da3fa2c5665e479a69c6e1",
                "collapsed": true,
                "tags": [
                    "visualize_data"
                ]
            },
            "outputs": [
                {
                    "data": {
                        "text/plain": [
                            "<matplotlib.axes._subplots.AxesSubplot at 0x7f351551f390>"
                        ]
                    },
                    "execution_count": 20,
                    "metadata": {},
                    "output_type": "execute_result"
                },
                {
                    "data": {
                        "image/png": "[encoded data removed]",
                        "text/plain": [
                            "<matplotlib.figure.Figure at 0x7f35155797f0>"
                        ]
                    },
                    "metadata": {},
                    "output_type": "display_data"
                }
            ],
            "source": [
                "xgb.plot_importance(booster=model,max_num_features=15)"
            ]
        },
        {
            "cell_type": "code",
            "execution_count": 21,
            "metadata": {
                "_cell_guid": "fe8af4cd-1c5f-4015-900d-da3aa9327d27",
                "_uuid": "cec9aa1efeef9df141e46496234b10239458c4ec",
                "collapsed": true,
                "tags": [
                    "setup_notebook",
                    "process_data",
                    "check_results"
                ]
            },
            "outputs": [
                {
                    "name": "stdout",
                    "output_type": "stream",
                    "text": [
                        "logps_car13_0\n",
                        "logps_car13_1\n",
                        "logps_car13_5\n",
                        "logps_car13_10\n",
                        "logps_car13_20\n",
                        "logps_car13_100\n"
                    ]
                }
            ],
            "source": [
                "for a in [0,1,5,10,20,100]:\n",
                "    FE_1='logps_car13_'+str(a)\n",
                "    print(FE_1)\n",
                "    X_train[FE_1]=np.log(a+X_train.ps_car_13)"
            ]
        },
        {
            "cell_type": "code",
            "execution_count": 22,
            "metadata": {
                "_cell_guid": "3c869773-a490-4615-9c88-aeb44bbaabc7",
                "_uuid": "431be459d271c652764dbf54f137bc20b04e036f",
                "collapsed": true,
                "tags": [
                    "setup_notebook",
                    "train_model"
                ]
            },
            "outputs": [
                {
                    "name": "stdout",
                    "output_type": "stream",
                    "text": [
                        "[0]\ttrain-error:0.036508\tvalid-error:0.036267\ttrain-gini:0.219759\tvalid-gini:0.206665\n",
                        "Multiple eval metrics have been passed: 'valid-gini' will be used for early stopping.\n",
                        "\n",
                        "Will train until valid-gini hasn't improved in 100 rounds.\n",
                        "[50]\ttrain-error:0.036508\tvalid-error:0.036234\ttrain-gini:0.33466\tvalid-gini:0.277356\n",
                        "[100]\ttrain-error:0.036494\tvalid-error:0.036228\ttrain-gini:0.417167\tvalid-gini:0.285942\n",
                        "[150]\ttrain-error:0.036474\tvalid-error:0.036222\ttrain-gini:0.471128\tvalid-gini:0.284096\n",
                        "Stopping. Best iteration:\n",
                        "[90]\ttrain-error:0.036494\tvalid-error:0.036228\ttrain-gini:0.399931\tvalid-gini:0.286139\n",
                        "\n"
                    ]
                }
            ],
            "source": [
                "import random\n",
                "random.seed( 3 )\n",
                "x1, x2, y1, y2 = model_selection.train_test_split(X_train, train['target'], test_size=0.3, random_state=6)\n",
                "watchlist = [(xgb.DMatrix(x1, y1), 'train'), (xgb.DMatrix(x2, y2), 'valid')]\n",
                "params = {'eta': 0.09, 'max_depth': 6, 'objective': 'binary:logistic', 'seed': 16, 'silent': True, 'colsample_bytree': 0.6}\n",
                "model = xgb.train(params, xgb.DMatrix(x1, y1), 1000,  watchlist, feval=gini_xgb, maximize=True, verbose_eval=50, early_stopping_rounds=100)"
            ]
        },
        {
            "cell_type": "code",
            "execution_count": 23,
            "metadata": {
                "_cell_guid": "9619b749-2187-49e1-bc64-7314e8a507c3",
                "_uuid": "5eb7efb01bf4954a58d119bc2dd14d151d693778",
                "collapsed": true,
                "tags": [
                    "visualize_data"
                ]
            },
            "outputs": [
                {
                    "data": {
                        "text/plain": [
                            "<matplotlib.axes._subplots.AxesSubplot at 0x7f34c7022550>"
                        ]
                    },
                    "execution_count": 23,
                    "metadata": {},
                    "output_type": "execute_result"
                },
                {
                    "data": {
                        "image/png": "[encoded data removed]",
                        "text/plain": [
                            "<matplotlib.figure.Figure at 0x7f3508d175f8>"
                        ]
                    },
                    "metadata": {},
                    "output_type": "display_data"
                }
            ],
            "source": [
                "xgb.plot_importance(booster=model,max_num_features=15)"
            ]
        },
        {
            "cell_type": "code",
            "execution_count": 24,
            "metadata": {
                "_cell_guid": "2de90bfe-c989-4dac-9d23-947ecf62f1fc",
                "_uuid": "1270b11f59a0c4eb63ce3b8810631c4f89cce5e0",
                "collapsed": true,
                "scrolled": true,
                "tags": [
                    "check_results"
                ]
            },
            "outputs": [
                {
                    "data": {
                        "text/plain": [
                            "-1.000000    107772\n",
                            " 0.633936       664\n",
                            " 0.602599       637\n",
                            " 0.704894       627\n",
                            " 0.587899       616\n",
                            " 0.680074       598\n",
                            " 0.596343       597\n",
                            " 0.621993       592\n",
                            " 0.668487       582\n",
                            " 0.664737       581\n",
                            " 0.631467       565\n",
                            " 0.575543       563\n",
                            " 0.602080       561\n",
                            " 0.657172       561\n",
                            " 0.619476       557\n",
                            " 0.573367       555\n",
                            " 0.684197       555\n",
                            " 0.701338       553\n",
                            " 0.517204       552\n",
                            " 0.647592       551\n",
                            " 0.669888       550\n",
                            " 0.616948       544\n",
                            " 0.557898       539\n",
                            " 0.667083       539\n",
                            " 0.653357       536\n",
                            " 0.740355       535\n",
                            " 0.648074       535\n",
                            " 0.647109       531\n",
                            " 0.615934       530\n",
                            " 0.630971       530\n",
                            "              ...  \n",
                            " 1.676492         1\n",
                            " 1.612645         1\n",
                            " 0.230489         1\n",
                            " 1.877998         1\n",
                            " 1.490386         1\n",
                            " 1.686527         1\n",
                            " 1.581139         1\n",
                            " 1.489127         1\n",
                            " 1.326885         1\n",
                            " 0.278388         1\n",
                            " 1.417965         1\n",
                            " 2.486715         1\n",
                            " 1.947434         1\n",
                            " 1.650757         1\n",
                            " 1.518017         1\n",
                            " 2.198437         1\n",
                            " 1.630759         1\n",
                            " 1.748571         1\n",
                            " 1.544547         1\n",
                            " 1.967073         1\n",
                            " 2.005773         1\n",
                            " 1.595501         1\n",
                            " 1.728258         1\n",
                            " 1.620764         1\n",
                            " 0.282843         1\n",
                            " 0.301040         1\n",
                            " 1.409787         1\n",
                            " 2.090155         1\n",
                            " 1.772357         1\n",
                            " 1.888452         1\n",
                            "Name: ps_reg_03, Length: 5013, dtype: int64"
                        ]
                    },
                    "execution_count": 24,
                    "metadata": {},
                    "output_type": "execute_result"
                }
            ],
            "source": [
                "X_train.ps_reg_03.value_counts()"
            ]
        },
        {
            "cell_type": "code",
            "execution_count": 25,
            "metadata": {
                "_cell_guid": "8ed5c822-ca58-4b1e-889a-ab3eff561d26",
                "_uuid": "25e264ff1814a56b2db09e92df74bfb44cdc2866",
                "collapsed": true,
                "scrolled": true,
                "tags": [
                    "check_results"
                ]
            },
            "outputs": [
                {
                    "data": {
                        "text/plain": [
                            "0.674583    386\n",
                            "0.741689    377\n",
                            "0.692776    363\n",
                            "0.841781    362\n",
                            "0.749228    353\n",
                            "0.659561    350\n",
                            "0.747765    333\n",
                            "0.596391    326\n",
                            "0.743720    317\n",
                            "0.687777    312\n",
                            "0.679694    308\n",
                            "0.901055    300\n",
                            "0.709222    297\n",
                            "0.763947    295\n",
                            "0.676754    289\n",
                            "0.751101    282\n",
                            "0.690685    277\n",
                            "0.701401    273\n",
                            "0.685927    272\n",
                            "0.682030    271\n",
                            "0.752613    270\n",
                            "0.607205    269\n",
                            "0.673280    267\n",
                            "0.690924    258\n",
                            "0.679314    257\n",
                            "0.753573    255\n",
                            "0.657443    253\n",
                            "0.674506    252\n",
                            "0.802321    247\n",
                            "0.711723    244\n",
                            "           ... \n",
                            "0.667660      1\n",
                            "1.058788      1\n",
                            "0.664305      1\n",
                            "1.062273      1\n",
                            "0.938747      1\n",
                            "1.188695      1\n",
                            "0.632833      1\n",
                            "0.861265      1\n",
                            "0.800823      1\n",
                            "0.681692      1\n",
                            "0.980039      1\n",
                            "0.883931      1\n",
                            "1.034320      1\n",
                            "0.648941      1\n",
                            "1.384425      1\n",
                            "0.839778      1\n",
                            "0.864331      1\n",
                            "0.849539      1\n",
                            "0.984699      1\n",
                            "0.858357      1\n",
                            "1.952002      1\n",
                            "0.903859      1\n",
                            "1.337013      1\n",
                            "0.621119      1\n",
                            "1.583854      1\n",
                            "1.113268      1\n",
                            "1.517569      1\n",
                            "0.808997      1\n",
                            "1.175791      1\n",
                            "0.500000      1\n",
                            "Name: ps_car_13, Length: 70482, dtype: int64"
                        ]
                    },
                    "execution_count": 25,
                    "metadata": {},
                    "output_type": "execute_result"
                }
            ],
            "source": [
                "X_train.ps_car_13.value_counts()"
            ]
        },
        {
            "cell_type": "code",
            "execution_count": 26,
            "metadata": {
                "_cell_guid": "74c7c2d0-ce34-448c-850d-f7423df08f02",
                "_uuid": "3c3c6c462f09755c9a597825294248642a77ab7f",
                "collapsed": true,
                "tags": [
                    "process_data"
                ]
            },
            "outputs": [],
            "source": [
                "X_train['Sum_Top_2']=X_train.ps_car_13+X_train.ps_reg_03\n",
                "X_train['Prod_Top_2']=X_train.ps_car_13*X_train.ps_reg_03\n",
                "X_train['M_Top_2']=X_train.ps_car_13-X_train.ps_reg_03\n",
                "X_train['ratio_Top_2']=X_train.ps_car_13 / X_train.ps_reg_03"
            ]
        },
        {
            "cell_type": "code",
            "execution_count": 27,
            "metadata": {
                "_cell_guid": "6c72e0fb-5172-4f80-9080-792a9c536576",
                "_uuid": "cc2586cfa1b19db121fa67bc55a3610ab48f41d4",
                "collapsed": true,
                "tags": [
                    "setup_notebook",
                    "train_model"
                ]
            },
            "outputs": [
                {
                    "name": "stdout",
                    "output_type": "stream",
                    "text": [
                        "[0]\ttrain-error:0.036494\tvalid-error:0.036323\ttrain-gini:0.213177\tvalid-gini:0.205722\n",
                        "Multiple eval metrics have been passed: 'valid-gini' will be used for early stopping.\n",
                        "\n",
                        "Will train until valid-gini hasn't improved in 100 rounds.\n",
                        "[50]\ttrain-error:0.036498\tvalid-error:0.03625\ttrain-gini:0.334688\tvalid-gini:0.275656\n",
                        "[100]\ttrain-error:0.036482\tvalid-error:0.036239\ttrain-gini:0.42144\tvalid-gini:0.286605\n",
                        "[150]\ttrain-error:0.036458\tvalid-error:0.036245\ttrain-gini:0.476522\tvalid-gini:0.283677\n",
                        "[200]\ttrain-error:0.036422\tvalid-error:0.03625\ttrain-gini:0.5112\tvalid-gini:0.281337\n",
                        "Stopping. Best iteration:\n",
                        "[112]\ttrain-error:0.036482\tvalid-error:0.036245\ttrain-gini:0.436794\tvalid-gini:0.286899\n",
                        "\n"
                    ]
                }
            ],
            "source": [
                "import random\n",
                "random.seed( 3 )\n",
                "x1, x2, y1, y2 = model_selection.train_test_split(X_train, train['target'], test_size=0.3, random_state=6)\n",
                "watchlist = [(xgb.DMatrix(x1, y1), 'train'), (xgb.DMatrix(x2, y2), 'valid')]\n",
                "params = {'eta': 0.09, 'max_depth': 6, 'objective': 'binary:logistic', 'seed': 16, 'silent': True, 'colsample_bytree': 0.6}\n",
                "model = xgb.train(params, xgb.DMatrix(x1, y1), 1000,  watchlist, feval=gini_xgb, maximize=True, verbose_eval=50, early_stopping_rounds=100)"
            ]
        },
        {
            "cell_type": "code",
            "execution_count": 28,
            "metadata": {
                "_cell_guid": "99907c1f-e6d7-4a52-9494-5507311bb3fb",
                "_uuid": "8c39b9879654d6641f2e811d13ce055232e1956c",
                "collapsed": true,
                "tags": [
                    "visualize_data"
                ]
            },
            "outputs": [
                {
                    "data": {
                        "text/plain": [
                            "<matplotlib.axes._subplots.AxesSubplot at 0x7f3508d220f0>"
                        ]
                    },
                    "execution_count": 28,
                    "metadata": {},
                    "output_type": "execute_result"
                },
                {
                    "data": {
                        "image/png": "[encoded data removed]",
                        "text/plain": [
                            "<matplotlib.figure.Figure at 0x7f3507c94b38>"
                        ]
                    },
                    "metadata": {},
                    "output_type": "display_data"
                }
            ],
            "source": [
                "xgb.plot_importance(booster=model,max_num_features=15)"
            ]
        },
        {
            "cell_type": "markdown",
            "metadata": {
                "_cell_guid": "0a50d051-407a-4edb-a572-560090bd02a5",
                "_uuid": "f82be3e12f34476082ae70fd9745b95f7fc405aa"
            },
            "source": [
                "<h1 align=\"Center\"><font color='Orange'>  Stay tuned  ! </font></h1> "
            ]
        },
        {
            "cell_type": "code",
            "execution_count": 29,
            "metadata": {
                "_cell_guid": "20877ad7-f6b1-461e-b631-ce620a11b6a9",
                "_uuid": "3da5e383d8971845195c50da0055837312901b92",
                "collapsed": true,
                "tags": [
                    "None"
                ]
            },
            "outputs": [],
            "source": []
        }
    ],
    "metadata": {
        "kernelspec": {
            "display_name": "Python 3",
            "language": "python",
            "name": "python3"
        },
        "language_info": {
            "codemirror_mode": {
                "name": "ipython",
                "version": 3
            },
            "file_extension": ".py",
            "mimetype": "text/x-python",
            "name": "python",
            "nbconvert_exporter": "python",
            "pygments_lexer": "ipython3",
            "version": "3.6.3"
        },
        "celltoolbar": "Tags"
    },
    "nbformat": 4,
    "nbformat_minor": 1
}