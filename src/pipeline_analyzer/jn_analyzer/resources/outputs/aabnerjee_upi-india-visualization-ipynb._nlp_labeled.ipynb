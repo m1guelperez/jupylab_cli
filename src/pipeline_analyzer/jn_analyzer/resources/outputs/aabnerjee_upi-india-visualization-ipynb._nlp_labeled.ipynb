{
    "cells": [
        {
            "cell_type": "markdown",
            "metadata": {
                "colab_type": "text",
                "id": "OqLFuVW0ODBq"
            },
            "source": [
                "**Data Visualization of UPI Data**\n",
                "\n",
                "Data Source - National Payments Corporation of India (NPCI)\n",
                "(https://www.npci.org.in/product-statistics/upi-product-statistics)\n",
                "\n",
                "NPCI - https://en.wikipedia.org/wiki/National_Payments_Corporation_of_India\n",
                "UPI - https://en.wikipedia.org/wiki/Unified_Payments_Interface\n",
                "\n"
            ]
        },
        {
            "cell_type": "code",
            "execution_count": 1,
            "metadata": {
                "colab": {},
                "colab_type": "code",
                "id": "gZo2OaTkjr4I",
                "tags": [
                    "setup_notebook"
                ]
            },
            "outputs": [],
            "source": [
                "#Import the required libararies\n",
                "\n",
                "import requests\n",
                "import pandas as pd\n",
                "import datetime\n",
                "import matplotlib.pyplot as plt\n",
                "from pandas.plotting import register_matplotlib_converters"
            ]
        },
        {
            "cell_type": "markdown",
            "metadata": {
                "colab_type": "text",
                "id": "1xJZqV_wjyzU"
            },
            "source": [
                "# **Read the UPI Data**"
            ]
        },
        {
            "cell_type": "code",
            "execution_count": 2,
            "metadata": {
                "tags": [
                    "setup_notebook",
                    "ingest_data"
                ]
            },
            "outputs": [],
            "source": [
                "import pandas as pd\n",
                "df = pd.read_csv(\"../input/UPI_Data_FEB_2020.csv\")"
            ]
        },
        {
            "cell_type": "code",
            "execution_count": 3,
            "metadata": {
                "tags": [
                    "process_data"
                ]
            },
            "outputs": [],
            "source": [
                "#Drop the unwanted columns\n",
                "df = df.drop(columns = \"Unnamed: 0\")\n",
                "df['month'] = df['month'].astype('datetime64[ns]')"
            ]
        },
        {
            "cell_type": "code",
            "execution_count": 4,
            "metadata": {
                "tags": [
                    "check_results"
                ]
            },
            "outputs": [
                {
                    "data": {
                        "text/html": [
                            "<div>\n",
                            "<style scoped>\n",
                            "    .dataframe tbody tr th:only-of-type {\n",
                            "        vertical-align: middle;\n",
                            "    }\n",
                            "\n",
                            "    .dataframe tbody tr th {\n",
                            "        vertical-align: top;\n",
                            "    }\n",
                            "\n",
                            "    .dataframe thead th {\n",
                            "        text-align: right;\n",
                            "    }\n",
                            "</style>\n",
                            "<table border=\"1\" class=\"dataframe\">\n",
                            "  <thead>\n",
                            "    <tr style=\"text-align: right;\">\n",
                            "      <th></th>\n",
                            "      <th>no_of_bank</th>\n",
                            "      <th>volume</th>\n",
                            "      <th>amount</th>\n",
                            "      <th>month</th>\n",
                            "    </tr>\n",
                            "  </thead>\n",
                            "  <tbody>\n",
                            "    <tr>\n",
                            "      <th>0</th>\n",
                            "      <td>146.0</td>\n",
                            "      <td>1325.69</td>\n",
                            "      <td>222516.95</td>\n",
                            "      <td>2020-02-01</td>\n",
                            "    </tr>\n",
                            "    <tr>\n",
                            "      <th>1</th>\n",
                            "      <td>144.0</td>\n",
                            "      <td>1305.02</td>\n",
                            "      <td>216242.97</td>\n",
                            "      <td>2020-01-01</td>\n",
                            "    </tr>\n",
                            "    <tr>\n",
                            "      <th>2</th>\n",
                            "      <td>143.0</td>\n",
                            "      <td>1308.40</td>\n",
                            "      <td>202520.76</td>\n",
                            "      <td>2019-12-01</td>\n",
                            "    </tr>\n",
                            "    <tr>\n",
                            "      <th>3</th>\n",
                            "      <td>143.0</td>\n",
                            "      <td>1218.77</td>\n",
                            "      <td>189229.09</td>\n",
                            "      <td>2019-11-01</td>\n",
                            "    </tr>\n",
                            "    <tr>\n",
                            "      <th>4</th>\n",
                            "      <td>141.0</td>\n",
                            "      <td>1148.36</td>\n",
                            "      <td>191359.94</td>\n",
                            "      <td>2019-10-01</td>\n",
                            "    </tr>\n",
                            "  </tbody>\n",
                            "</table>\n",
                            "</div>"
                        ],
                        "text/plain": [
                            "   no_of_bank   volume     amount      month\n",
                            "0       146.0  1325.69  222516.95 2020-02-01\n",
                            "1       144.0  1305.02  216242.97 2020-01-01\n",
                            "2       143.0  1308.40  202520.76 2019-12-01\n",
                            "3       143.0  1218.77  189229.09 2019-11-01\n",
                            "4       141.0  1148.36  191359.94 2019-10-01"
                        ]
                    },
                    "execution_count": 4,
                    "metadata": {},
                    "output_type": "execute_result"
                }
            ],
            "source": [
                "df.head(5)"
            ]
        },
        {
            "cell_type": "code",
            "execution_count": 5,
            "metadata": {
                "colab": {
                    "base_uri": "https://localhost:8080/",
                    "height": 297
                },
                "colab_type": "code",
                "id": "5Ly7KcnUhUZo",
                "outputId": "e1770861-9977-498a-dc17-b3068f637299",
                "tags": [
                    "check_results"
                ]
            },
            "outputs": [
                {
                    "data": {
                        "text/html": [
                            "<div>\n",
                            "<style scoped>\n",
                            "    .dataframe tbody tr th:only-of-type {\n",
                            "        vertical-align: middle;\n",
                            "    }\n",
                            "\n",
                            "    .dataframe tbody tr th {\n",
                            "        vertical-align: top;\n",
                            "    }\n",
                            "\n",
                            "    .dataframe thead th {\n",
                            "        text-align: right;\n",
                            "    }\n",
                            "</style>\n",
                            "<table border=\"1\" class=\"dataframe\">\n",
                            "  <thead>\n",
                            "    <tr style=\"text-align: right;\">\n",
                            "      <th></th>\n",
                            "      <th>no_of_bank</th>\n",
                            "      <th>volume</th>\n",
                            "      <th>amount</th>\n",
                            "    </tr>\n",
                            "  </thead>\n",
                            "  <tbody>\n",
                            "    <tr>\n",
                            "      <th>count</th>\n",
                            "      <td>43.000000</td>\n",
                            "      <td>43.000000</td>\n",
                            "      <td>43.000000</td>\n",
                            "    </tr>\n",
                            "    <tr>\n",
                            "      <th>mean</th>\n",
                            "      <td>93.953488</td>\n",
                            "      <td>409.158372</td>\n",
                            "      <td>67876.038372</td>\n",
                            "    </tr>\n",
                            "    <tr>\n",
                            "      <th>std</th>\n",
                            "      <td>44.269173</td>\n",
                            "      <td>435.369330</td>\n",
                            "      <td>73417.354884</td>\n",
                            "    </tr>\n",
                            "    <tr>\n",
                            "      <th>min</th>\n",
                            "      <td>21.000000</td>\n",
                            "      <td>0.085000</td>\n",
                            "      <td>3.100000</td>\n",
                            "    </tr>\n",
                            "    <tr>\n",
                            "      <th>25%</th>\n",
                            "      <td>52.500000</td>\n",
                            "      <td>10.799500</td>\n",
                            "      <td>3224.150000</td>\n",
                            "    </tr>\n",
                            "    <tr>\n",
                            "      <th>50%</th>\n",
                            "      <td>101.000000</td>\n",
                            "      <td>190.080000</td>\n",
                            "      <td>33288.510000</td>\n",
                            "    </tr>\n",
                            "    <tr>\n",
                            "      <th>75%</th>\n",
                            "      <td>141.000000</td>\n",
                            "      <td>744.040000</td>\n",
                            "      <td>137747.555000</td>\n",
                            "    </tr>\n",
                            "    <tr>\n",
                            "      <th>max</th>\n",
                            "      <td>146.000000</td>\n",
                            "      <td>1325.690000</td>\n",
                            "      <td>222516.950000</td>\n",
                            "    </tr>\n",
                            "  </tbody>\n",
                            "</table>\n",
                            "</div>"
                        ],
                        "text/plain": [
                            "       no_of_bank       volume         amount\n",
                            "count   43.000000    43.000000      43.000000\n",
                            "mean    93.953488   409.158372   67876.038372\n",
                            "std     44.269173   435.369330   73417.354884\n",
                            "min     21.000000     0.085000       3.100000\n",
                            "25%     52.500000    10.799500    3224.150000\n",
                            "50%    101.000000   190.080000   33288.510000\n",
                            "75%    141.000000   744.040000  137747.555000\n",
                            "max    146.000000  1325.690000  222516.950000"
                        ]
                    },
                    "execution_count": 5,
                    "metadata": {},
                    "output_type": "execute_result"
                }
            ],
            "source": [
                "df.describe()"
            ]
        },
        {
            "cell_type": "code",
            "execution_count": 6,
            "metadata": {
                "colab": {
                    "base_uri": "https://localhost:8080/",
                    "height": 170
                },
                "colab_type": "code",
                "id": "dDXQhDeOo32Z",
                "outputId": "08b0339f-1070-471a-a8c4-f36d782d071f",
                "tags": [
                    "check_results"
                ]
            },
            "outputs": [
                {
                    "name": "stdout",
                    "output_type": "stream",
                    "text": [
                        "<class 'pandas.core.frame.DataFrame'>\n",
                        "RangeIndex: 43 entries, 0 to 42\n",
                        "Data columns (total 4 columns):\n",
                        "no_of_bank    43 non-null float64\n",
                        "volume        43 non-null float64\n",
                        "amount        43 non-null float64\n",
                        "month         43 non-null datetime64[ns]\n",
                        "dtypes: datetime64[ns](1), float64(3)\n",
                        "memory usage: 1.5 KB\n"
                    ]
                }
            ],
            "source": [
                "df.info()"
            ]
        },
        {
            "cell_type": "code",
            "execution_count": 7,
            "metadata": {
                "colab": {
                    "base_uri": "https://localhost:8080/",
                    "height": 585
                },
                "colab_type": "code",
                "id": "HFCA28lgIHZm",
                "outputId": "2dced756-1732-4b8c-9344-ec31f1d73e37",
                "tags": [
                    "transfer_results",
                    "visualize_data"
                ]
            },
            "outputs": [
                {
                    "name": "stderr",
                    "output_type": "stream",
                    "text": [
                        "/opt/conda/lib/python3.6/site-packages/pandas/plotting/_matplotlib/converter.py:103: FutureWarning: Using an implicitly registered datetime converter for a matplotlib plotting method. The converter was registered by pandas on import. Future versions of pandas will require you to explicitly register matplotlib converters.\n",
                        "\n",
                        "To register the converters:\n",
                        "\t>>> from pandas.plotting import register_matplotlib_converters\n",
                        "\t>>> register_matplotlib_converters()\n",
                        "  warnings.warn(msg, FutureWarning)\n"
                    ]
                },
                {
                    "data": {
                        "image/png": "[encoded data removed]",
                        "text/plain": [
                            "<Figure size 432x288 with 1 Axes>"
                        ]
                    },
                    "metadata": {
                        "needs_background": "light"
                    },
                    "output_type": "display_data"
                },
                {
                    "data": {
                        "image/png": "[encoded data removed]",
                        "text/plain": [
                            "<Figure size 432x288 with 1 Axes>"
                        ]
                    },
                    "metadata": {
                        "needs_background": "light"
                    },
                    "output_type": "display_data"
                }
            ],
            "source": [
                "fig, ax = plt.subplots()\n",
                "ax.plot(df['month'], df['amount'])\n",
                "ax.set(xlabel='Months', ylabel='Transaction Amount (in cr)',\n",
                "       title='UPI Amount wise growth')\n",
                "ax.grid()\n",
                "fig.savefig(\"test.png\")\n",
                "plt.show()\n",
                "\n",
                "fig, ax = plt.subplots()\n",
                "ax.plot(df['month'], df['volume'])\n",
                "ax.set(xlabel='Months', ylabel='Transaction Volume (in Mn)',\n",
                "       title='UPI Volume wise growth')\n",
                "ax.grid()\n",
                "fig.savefig(\"test.png\")\n",
                "plt.show()\n",
                "\n"
            ]
        }
    ],
    "metadata": {
        "colab": {
            "collapsed_sections": [],
            "name": "UPI_Stat.ipynb",
            "provenance": []
        },
        "kernelspec": {
            "display_name": "Python 3",
            "name": "python3"
        },
        "language_info": {
            "codemirror_mode": {
                "name": "ipython",
                "version": 3
            },
            "file_extension": ".py",
            "mimetype": "text/x-python",
            "name": "python",
            "nbconvert_exporter": "python",
            "pygments_lexer": "ipython3",
            "version": "3.6.6"
        },
        "celltoolbar": "Tags"
    },
    "nbformat": 4,
    "nbformat_minor": 4
}