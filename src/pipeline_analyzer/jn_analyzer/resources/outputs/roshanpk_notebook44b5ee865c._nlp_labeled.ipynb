{
    "cells": [
        {
            "cell_type": "code",
            "execution_count": 1,
            "metadata": {
                "_cell_guid": "d46ef03f-b156-41e9-aed1-ac030da82a02",
                "_uuid": "f7ec120a-145e-4138-8bc9-a15cebcc6038",
                "execution": {
                    "iopub.execute_input": "2020-08-15T18:03:04.676696Z",
                    "iopub.status.busy": "2020-08-15T18:03:04.675685Z",
                    "iopub.status.idle": "2020-08-15T18:03:06.336392Z",
                    "shell.execute_reply": "2020-08-15T18:03:06.335065Z"
                },
                "papermill": {
                    "duration": 1.716149,
                    "end_time": "2020-08-15T18:03:06.336710",
                    "exception": false,
                    "start_time": "2020-08-15T18:03:04.620561",
                    "status": "completed"
                },
                "tags": [
                    "setup_notebook"
                ]
            },
            "outputs": [],
            "source": [
                "import pandas as pd\n",
                "import numpy as np\n",
                "import random as rnd\n",
                "\n",
                "# visualization\n",
                "import seaborn as sns\n",
                "import matplotlib.pyplot as plt\n",
                "%matplotlib inline\n",
                "\n",
                "# machine learning\n",
                "from sklearn.linear_model import LogisticRegression\n",
                "from sklearn.svm import SVC, LinearSVC\n",
                "from sklearn.ensemble import RandomForestClassifier\n",
                "from sklearn.neighbors import KNeighborsClassifier\n",
                "from sklearn.naive_bayes import GaussianNB\n",
                "from sklearn.linear_model import Perceptron\n",
                "from sklearn.linear_model import SGDClassifier\n",
                "from sklearn.tree import DecisionTreeClassifier"
            ]
        },
        {
            "cell_type": "code",
            "execution_count": 2,
            "metadata": {
                "execution": {
                    "iopub.execute_input": "2020-08-15T18:03:06.439681Z",
                    "iopub.status.busy": "2020-08-15T18:03:06.438345Z",
                    "iopub.status.idle": "2020-08-15T18:03:06.468710Z",
                    "shell.execute_reply": "2020-08-15T18:03:06.467862Z"
                },
                "papermill": {
                    "duration": 0.077741,
                    "end_time": "2020-08-15T18:03:06.468972",
                    "exception": false,
                    "start_time": "2020-08-15T18:03:06.391231",
                    "status": "completed"
                },
                "tags": [
                    "ingest_data",
                    "process_data"
                ]
            },
            "outputs": [],
            "source": [
                "train_df = pd.read_csv('../input/titanic/train.csv')\n",
                "test_df = pd.read_csv('../input/titanic/test.csv')\n",
                "combine = [train_df, test_df]\n"
            ]
        },
        {
            "cell_type": "code",
            "execution_count": 3,
            "metadata": {
                "execution": {
                    "iopub.execute_input": "2020-08-15T18:03:06.561968Z",
                    "iopub.status.busy": "2020-08-15T18:03:06.560857Z",
                    "iopub.status.idle": "2020-08-15T18:03:06.565536Z",
                    "shell.execute_reply": "2020-08-15T18:03:06.566371Z"
                },
                "papermill": {
                    "duration": 0.05263,
                    "end_time": "2020-08-15T18:03:06.566637",
                    "exception": false,
                    "start_time": "2020-08-15T18:03:06.514007",
                    "status": "completed"
                },
                "tags": [
                    "check_results"
                ]
            },
            "outputs": [
                {
                    "name": "stdout",
                    "output_type": "stream",
                    "text": [
                        "['PassengerId' 'Survived' 'Pclass' 'Name' 'Sex' 'Age' 'SibSp' 'Parch'\n",
                        " 'Ticket' 'Fare' 'Cabin' 'Embarked']\n"
                    ]
                }
            ],
            "source": [
                "print(train_df.columns.values)"
            ]
        },
        {
            "cell_type": "code",
            "execution_count": 4,
            "metadata": {
                "execution": {
                    "iopub.execute_input": "2020-08-15T18:03:06.665010Z",
                    "iopub.status.busy": "2020-08-15T18:03:06.657320Z",
                    "iopub.status.idle": "2020-08-15T18:03:06.686645Z",
                    "shell.execute_reply": "2020-08-15T18:03:06.685772Z"
                },
                "papermill": {
                    "duration": 0.079269,
                    "end_time": "2020-08-15T18:03:06.686825",
                    "exception": false,
                    "start_time": "2020-08-15T18:03:06.607556",
                    "status": "completed"
                },
                "tags": [
                    "check_results"
                ]
            },
            "outputs": [
                {
                    "data": {
                        "text/html": [
                            "<div>\n",
                            "<style scoped>\n",
                            "    .dataframe tbody tr th:only-of-type {\n",
                            "        vertical-align: middle;\n",
                            "    }\n",
                            "\n",
                            "    .dataframe tbody tr th {\n",
                            "        vertical-align: top;\n",
                            "    }\n",
                            "\n",
                            "    .dataframe thead th {\n",
                            "        text-align: right;\n",
                            "    }\n",
                            "</style>\n",
                            "<table border=\"1\" class=\"dataframe\">\n",
                            "  <thead>\n",
                            "    <tr style=\"text-align: right;\">\n",
                            "      <th></th>\n",
                            "      <th>PassengerId</th>\n",
                            "      <th>Survived</th>\n",
                            "      <th>Pclass</th>\n",
                            "      <th>Name</th>\n",
                            "      <th>Sex</th>\n",
                            "      <th>Age</th>\n",
                            "      <th>SibSp</th>\n",
                            "      <th>Parch</th>\n",
                            "      <th>Ticket</th>\n",
                            "      <th>Fare</th>\n",
                            "      <th>Cabin</th>\n",
                            "      <th>Embarked</th>\n",
                            "    </tr>\n",
                            "  </thead>\n",
                            "  <tbody>\n",
                            "    <tr>\n",
                            "      <th>0</th>\n",
                            "      <td>1</td>\n",
                            "      <td>0</td>\n",
                            "      <td>3</td>\n",
                            "      <td>Braund, Mr. Owen Harris</td>\n",
                            "      <td>male</td>\n",
                            "      <td>22.0</td>\n",
                            "      <td>1</td>\n",
                            "      <td>0</td>\n",
                            "      <td>A/5 21171</td>\n",
                            "      <td>7.2500</td>\n",
                            "      <td>NaN</td>\n",
                            "      <td>S</td>\n",
                            "    </tr>\n",
                            "    <tr>\n",
                            "      <th>1</th>\n",
                            "      <td>2</td>\n",
                            "      <td>1</td>\n",
                            "      <td>1</td>\n",
                            "      <td>Cumings, Mrs. John Bradley (Florence Briggs Th...</td>\n",
                            "      <td>female</td>\n",
                            "      <td>38.0</td>\n",
                            "      <td>1</td>\n",
                            "      <td>0</td>\n",
                            "      <td>PC 17599</td>\n",
                            "      <td>71.2833</td>\n",
                            "      <td>C85</td>\n",
                            "      <td>C</td>\n",
                            "    </tr>\n",
                            "    <tr>\n",
                            "      <th>2</th>\n",
                            "      <td>3</td>\n",
                            "      <td>1</td>\n",
                            "      <td>3</td>\n",
                            "      <td>Heikkinen, Miss. Laina</td>\n",
                            "      <td>female</td>\n",
                            "      <td>26.0</td>\n",
                            "      <td>0</td>\n",
                            "      <td>0</td>\n",
                            "      <td>STON/O2. 3101282</td>\n",
                            "      <td>7.9250</td>\n",
                            "      <td>NaN</td>\n",
                            "      <td>S</td>\n",
                            "    </tr>\n",
                            "    <tr>\n",
                            "      <th>3</th>\n",
                            "      <td>4</td>\n",
                            "      <td>1</td>\n",
                            "      <td>1</td>\n",
                            "      <td>Futrelle, Mrs. Jacques Heath (Lily May Peel)</td>\n",
                            "      <td>female</td>\n",
                            "      <td>35.0</td>\n",
                            "      <td>1</td>\n",
                            "      <td>0</td>\n",
                            "      <td>113803</td>\n",
                            "      <td>53.1000</td>\n",
                            "      <td>C123</td>\n",
                            "      <td>S</td>\n",
                            "    </tr>\n",
                            "    <tr>\n",
                            "      <th>4</th>\n",
                            "      <td>5</td>\n",
                            "      <td>0</td>\n",
                            "      <td>3</td>\n",
                            "      <td>Allen, Mr. William Henry</td>\n",
                            "      <td>male</td>\n",
                            "      <td>35.0</td>\n",
                            "      <td>0</td>\n",
                            "      <td>0</td>\n",
                            "      <td>373450</td>\n",
                            "      <td>8.0500</td>\n",
                            "      <td>NaN</td>\n",
                            "      <td>S</td>\n",
                            "    </tr>\n",
                            "  </tbody>\n",
                            "</table>\n",
                            "</div>"
                        ],
                        "text/plain": [
                            "   PassengerId  Survived  Pclass  \\\n",
                            "0            1         0       3   \n",
                            "1            2         1       1   \n",
                            "2            3         1       3   \n",
                            "3            4         1       1   \n",
                            "4            5         0       3   \n",
                            "\n",
                            "                                                Name     Sex   Age  SibSp  \\\n",
                            "0                            Braund, Mr. Owen Harris    male  22.0      1   \n",
                            "1  Cumings, Mrs. John Bradley (Florence Briggs Th...  female  38.0      1   \n",
                            "2                             Heikkinen, Miss. Laina  female  26.0      0   \n",
                            "3       Futrelle, Mrs. Jacques Heath (Lily May Peel)  female  35.0      1   \n",
                            "4                           Allen, Mr. William Henry    male  35.0      0   \n",
                            "\n",
                            "   Parch            Ticket     Fare Cabin Embarked  \n",
                            "0      0         A/5 21171   7.2500   NaN        S  \n",
                            "1      0          PC 17599  71.2833   C85        C  \n",
                            "2      0  STON/O2. 3101282   7.9250   NaN        S  \n",
                            "3      0            113803  53.1000  C123        S  \n",
                            "4      0            373450   8.0500   NaN        S  "
                        ]
                    },
                    "execution_count": 4,
                    "metadata": {},
                    "output_type": "execute_result"
                }
            ],
            "source": [
                "train_df.head()"
            ]
        },
        {
            "cell_type": "code",
            "execution_count": 5,
            "metadata": {
                "execution": {
                    "iopub.execute_input": "2020-08-15T18:03:06.792630Z",
                    "iopub.status.busy": "2020-08-15T18:03:06.791253Z",
                    "iopub.status.idle": "2020-08-15T18:03:06.797582Z",
                    "shell.execute_reply": "2020-08-15T18:03:06.796929Z"
                },
                "papermill": {
                    "duration": 0.070321,
                    "end_time": "2020-08-15T18:03:06.797773",
                    "exception": false,
                    "start_time": "2020-08-15T18:03:06.727452",
                    "status": "completed"
                },
                "tags": [
                    "check_results"
                ]
            },
            "outputs": [
                {
                    "data": {
                        "text/html": [
                            "<div>\n",
                            "<style scoped>\n",
                            "    .dataframe tbody tr th:only-of-type {\n",
                            "        vertical-align: middle;\n",
                            "    }\n",
                            "\n",
                            "    .dataframe tbody tr th {\n",
                            "        vertical-align: top;\n",
                            "    }\n",
                            "\n",
                            "    .dataframe thead th {\n",
                            "        text-align: right;\n",
                            "    }\n",
                            "</style>\n",
                            "<table border=\"1\" class=\"dataframe\">\n",
                            "  <thead>\n",
                            "    <tr style=\"text-align: right;\">\n",
                            "      <th></th>\n",
                            "      <th>PassengerId</th>\n",
                            "      <th>Survived</th>\n",
                            "      <th>Pclass</th>\n",
                            "      <th>Name</th>\n",
                            "      <th>Sex</th>\n",
                            "      <th>Age</th>\n",
                            "      <th>SibSp</th>\n",
                            "      <th>Parch</th>\n",
                            "      <th>Ticket</th>\n",
                            "      <th>Fare</th>\n",
                            "      <th>Cabin</th>\n",
                            "      <th>Embarked</th>\n",
                            "    </tr>\n",
                            "  </thead>\n",
                            "  <tbody>\n",
                            "    <tr>\n",
                            "      <th>886</th>\n",
                            "      <td>887</td>\n",
                            "      <td>0</td>\n",
                            "      <td>2</td>\n",
                            "      <td>Montvila, Rev. Juozas</td>\n",
                            "      <td>male</td>\n",
                            "      <td>27.0</td>\n",
                            "      <td>0</td>\n",
                            "      <td>0</td>\n",
                            "      <td>211536</td>\n",
                            "      <td>13.00</td>\n",
                            "      <td>NaN</td>\n",
                            "      <td>S</td>\n",
                            "    </tr>\n",
                            "    <tr>\n",
                            "      <th>887</th>\n",
                            "      <td>888</td>\n",
                            "      <td>1</td>\n",
                            "      <td>1</td>\n",
                            "      <td>Graham, Miss. Margaret Edith</td>\n",
                            "      <td>female</td>\n",
                            "      <td>19.0</td>\n",
                            "      <td>0</td>\n",
                            "      <td>0</td>\n",
                            "      <td>112053</td>\n",
                            "      <td>30.00</td>\n",
                            "      <td>B42</td>\n",
                            "      <td>S</td>\n",
                            "    </tr>\n",
                            "    <tr>\n",
                            "      <th>888</th>\n",
                            "      <td>889</td>\n",
                            "      <td>0</td>\n",
                            "      <td>3</td>\n",
                            "      <td>Johnston, Miss. Catherine Helen \"Carrie\"</td>\n",
                            "      <td>female</td>\n",
                            "      <td>NaN</td>\n",
                            "      <td>1</td>\n",
                            "      <td>2</td>\n",
                            "      <td>W./C. 6607</td>\n",
                            "      <td>23.45</td>\n",
                            "      <td>NaN</td>\n",
                            "      <td>S</td>\n",
                            "    </tr>\n",
                            "    <tr>\n",
                            "      <th>889</th>\n",
                            "      <td>890</td>\n",
                            "      <td>1</td>\n",
                            "      <td>1</td>\n",
                            "      <td>Behr, Mr. Karl Howell</td>\n",
                            "      <td>male</td>\n",
                            "      <td>26.0</td>\n",
                            "      <td>0</td>\n",
                            "      <td>0</td>\n",
                            "      <td>111369</td>\n",
                            "      <td>30.00</td>\n",
                            "      <td>C148</td>\n",
                            "      <td>C</td>\n",
                            "    </tr>\n",
                            "    <tr>\n",
                            "      <th>890</th>\n",
                            "      <td>891</td>\n",
                            "      <td>0</td>\n",
                            "      <td>3</td>\n",
                            "      <td>Dooley, Mr. Patrick</td>\n",
                            "      <td>male</td>\n",
                            "      <td>32.0</td>\n",
                            "      <td>0</td>\n",
                            "      <td>0</td>\n",
                            "      <td>370376</td>\n",
                            "      <td>7.75</td>\n",
                            "      <td>NaN</td>\n",
                            "      <td>Q</td>\n",
                            "    </tr>\n",
                            "  </tbody>\n",
                            "</table>\n",
                            "</div>"
                        ],
                        "text/plain": [
                            "     PassengerId  Survived  Pclass                                      Name  \\\n",
                            "886          887         0       2                     Montvila, Rev. Juozas   \n",
                            "887          888         1       1              Graham, Miss. Margaret Edith   \n",
                            "888          889         0       3  Johnston, Miss. Catherine Helen \"Carrie\"   \n",
                            "889          890         1       1                     Behr, Mr. Karl Howell   \n",
                            "890          891         0       3                       Dooley, Mr. Patrick   \n",
                            "\n",
                            "        Sex   Age  SibSp  Parch      Ticket   Fare Cabin Embarked  \n",
                            "886    male  27.0      0      0      211536  13.00   NaN        S  \n",
                            "887  female  19.0      0      0      112053  30.00   B42        S  \n",
                            "888  female   NaN      1      2  W./C. 6607  23.45   NaN        S  \n",
                            "889    male  26.0      0      0      111369  30.00  C148        C  \n",
                            "890    male  32.0      0      0      370376   7.75   NaN        Q  "
                        ]
                    },
                    "execution_count": 5,
                    "metadata": {},
                    "output_type": "execute_result"
                }
            ],
            "source": [
                "train_df.tail()"
            ]
        },
        {
            "cell_type": "code",
            "execution_count": 6,
            "metadata": {
                "execution": {
                    "iopub.execute_input": "2020-08-15T18:03:06.915550Z",
                    "iopub.status.busy": "2020-08-15T18:03:06.914372Z",
                    "iopub.status.idle": "2020-08-15T18:03:06.918980Z",
                    "shell.execute_reply": "2020-08-15T18:03:06.919811Z"
                },
                "papermill": {
                    "duration": 0.079527,
                    "end_time": "2020-08-15T18:03:06.920036",
                    "exception": false,
                    "start_time": "2020-08-15T18:03:06.840509",
                    "status": "completed"
                },
                "tags": [
                    "check_results"
                ]
            },
            "outputs": [
                {
                    "name": "stdout",
                    "output_type": "stream",
                    "text": [
                        "<class 'pandas.core.frame.DataFrame'>\n",
                        "RangeIndex: 891 entries, 0 to 890\n",
                        "Data columns (total 12 columns):\n",
                        " #   Column       Non-Null Count  Dtype  \n",
                        "---  ------       --------------  -----  \n",
                        " 0   PassengerId  891 non-null    int64  \n",
                        " 1   Survived     891 non-null    int64  \n",
                        " 2   Pclass       891 non-null    int64  \n",
                        " 3   Name         891 non-null    object \n",
                        " 4   Sex          891 non-null    object \n",
                        " 5   Age          714 non-null    float64\n",
                        " 6   SibSp        891 non-null    int64  \n",
                        " 7   Parch        891 non-null    int64  \n",
                        " 8   Ticket       891 non-null    object \n",
                        " 9   Fare         891 non-null    float64\n",
                        " 10  Cabin        204 non-null    object \n",
                        " 11  Embarked     889 non-null    object \n",
                        "dtypes: float64(2), int64(5), object(5)\n",
                        "memory usage: 83.7+ KB\n",
                        "----------------------------------------\n",
                        "<class 'pandas.core.frame.DataFrame'>\n",
                        "RangeIndex: 418 entries, 0 to 417\n",
                        "Data columns (total 11 columns):\n",
                        " #   Column       Non-Null Count  Dtype  \n",
                        "---  ------       --------------  -----  \n",
                        " 0   PassengerId  418 non-null    int64  \n",
                        " 1   Pclass       418 non-null    int64  \n",
                        " 2   Name         418 non-null    object \n",
                        " 3   Sex          418 non-null    object \n",
                        " 4   Age          332 non-null    float64\n",
                        " 5   SibSp        418 non-null    int64  \n",
                        " 6   Parch        418 non-null    int64  \n",
                        " 7   Ticket       418 non-null    object \n",
                        " 8   Fare         417 non-null    float64\n",
                        " 9   Cabin        91 non-null     object \n",
                        " 10  Embarked     418 non-null    object \n",
                        "dtypes: float64(2), int64(4), object(5)\n",
                        "memory usage: 36.0+ KB\n"
                    ]
                }
            ],
            "source": [
                "train_df.info()\n",
                "print('-'*40)\n",
                "test_df.info()"
            ]
        },
        {
            "cell_type": "code",
            "execution_count": 7,
            "metadata": {
                "execution": {
                    "iopub.execute_input": "2020-08-15T18:03:07.022197Z",
                    "iopub.status.busy": "2020-08-15T18:03:07.021235Z",
                    "iopub.status.idle": "2020-08-15T18:03:07.057690Z",
                    "shell.execute_reply": "2020-08-15T18:03:07.056931Z"
                },
                "papermill": {
                    "duration": 0.095512,
                    "end_time": "2020-08-15T18:03:07.057882",
                    "exception": false,
                    "start_time": "2020-08-15T18:03:06.962370",
                    "status": "completed"
                },
                "tags": [
                    "check_results"
                ]
            },
            "outputs": [
                {
                    "data": {
                        "text/html": [
                            "<div>\n",
                            "<style scoped>\n",
                            "    .dataframe tbody tr th:only-of-type {\n",
                            "        vertical-align: middle;\n",
                            "    }\n",
                            "\n",
                            "    .dataframe tbody tr th {\n",
                            "        vertical-align: top;\n",
                            "    }\n",
                            "\n",
                            "    .dataframe thead th {\n",
                            "        text-align: right;\n",
                            "    }\n",
                            "</style>\n",
                            "<table border=\"1\" class=\"dataframe\">\n",
                            "  <thead>\n",
                            "    <tr style=\"text-align: right;\">\n",
                            "      <th></th>\n",
                            "      <th>PassengerId</th>\n",
                            "      <th>Survived</th>\n",
                            "      <th>Pclass</th>\n",
                            "      <th>Age</th>\n",
                            "      <th>SibSp</th>\n",
                            "      <th>Parch</th>\n",
                            "      <th>Fare</th>\n",
                            "    </tr>\n",
                            "  </thead>\n",
                            "  <tbody>\n",
                            "    <tr>\n",
                            "      <th>count</th>\n",
                            "      <td>891.000000</td>\n",
                            "      <td>891.000000</td>\n",
                            "      <td>891.000000</td>\n",
                            "      <td>714.000000</td>\n",
                            "      <td>891.000000</td>\n",
                            "      <td>891.000000</td>\n",
                            "      <td>891.000000</td>\n",
                            "    </tr>\n",
                            "    <tr>\n",
                            "      <th>mean</th>\n",
                            "      <td>446.000000</td>\n",
                            "      <td>0.383838</td>\n",
                            "      <td>2.308642</td>\n",
                            "      <td>29.699118</td>\n",
                            "      <td>0.523008</td>\n",
                            "      <td>0.381594</td>\n",
                            "      <td>32.204208</td>\n",
                            "    </tr>\n",
                            "    <tr>\n",
                            "      <th>std</th>\n",
                            "      <td>257.353842</td>\n",
                            "      <td>0.486592</td>\n",
                            "      <td>0.836071</td>\n",
                            "      <td>14.526497</td>\n",
                            "      <td>1.102743</td>\n",
                            "      <td>0.806057</td>\n",
                            "      <td>49.693429</td>\n",
                            "    </tr>\n",
                            "    <tr>\n",
                            "      <th>min</th>\n",
                            "      <td>1.000000</td>\n",
                            "      <td>0.000000</td>\n",
                            "      <td>1.000000</td>\n",
                            "      <td>0.420000</td>\n",
                            "      <td>0.000000</td>\n",
                            "      <td>0.000000</td>\n",
                            "      <td>0.000000</td>\n",
                            "    </tr>\n",
                            "    <tr>\n",
                            "      <th>25%</th>\n",
                            "      <td>223.500000</td>\n",
                            "      <td>0.000000</td>\n",
                            "      <td>2.000000</td>\n",
                            "      <td>20.125000</td>\n",
                            "      <td>0.000000</td>\n",
                            "      <td>0.000000</td>\n",
                            "      <td>7.910400</td>\n",
                            "    </tr>\n",
                            "    <tr>\n",
                            "      <th>50%</th>\n",
                            "      <td>446.000000</td>\n",
                            "      <td>0.000000</td>\n",
                            "      <td>3.000000</td>\n",
                            "      <td>28.000000</td>\n",
                            "      <td>0.000000</td>\n",
                            "      <td>0.000000</td>\n",
                            "      <td>14.454200</td>\n",
                            "    </tr>\n",
                            "    <tr>\n",
                            "      <th>75%</th>\n",
                            "      <td>668.500000</td>\n",
                            "      <td>1.000000</td>\n",
                            "      <td>3.000000</td>\n",
                            "      <td>38.000000</td>\n",
                            "      <td>1.000000</td>\n",
                            "      <td>0.000000</td>\n",
                            "      <td>31.000000</td>\n",
                            "    </tr>\n",
                            "    <tr>\n",
                            "      <th>max</th>\n",
                            "      <td>891.000000</td>\n",
                            "      <td>1.000000</td>\n",
                            "      <td>3.000000</td>\n",
                            "      <td>80.000000</td>\n",
                            "      <td>8.000000</td>\n",
                            "      <td>6.000000</td>\n",
                            "      <td>512.329200</td>\n",
                            "    </tr>\n",
                            "  </tbody>\n",
                            "</table>\n",
                            "</div>"
                        ],
                        "text/plain": [
                            "       PassengerId    Survived      Pclass         Age       SibSp  \\\n",
                            "count   891.000000  891.000000  891.000000  714.000000  891.000000   \n",
                            "mean    446.000000    0.383838    2.308642   29.699118    0.523008   \n",
                            "std     257.353842    0.486592    0.836071   14.526497    1.102743   \n",
                            "min       1.000000    0.000000    1.000000    0.420000    0.000000   \n",
                            "25%     223.500000    0.000000    2.000000   20.125000    0.000000   \n",
                            "50%     446.000000    0.000000    3.000000   28.000000    0.000000   \n",
                            "75%     668.500000    1.000000    3.000000   38.000000    1.000000   \n",
                            "max     891.000000    1.000000    3.000000   80.000000    8.000000   \n",
                            "\n",
                            "            Parch        Fare  \n",
                            "count  891.000000  891.000000  \n",
                            "mean     0.381594   32.204208  \n",
                            "std      0.806057   49.693429  \n",
                            "min      0.000000    0.000000  \n",
                            "25%      0.000000    7.910400  \n",
                            "50%      0.000000   14.454200  \n",
                            "75%      0.000000   31.000000  \n",
                            "max      6.000000  512.329200  "
                        ]
                    },
                    "execution_count": 7,
                    "metadata": {},
                    "output_type": "execute_result"
                }
            ],
            "source": [
                "train_df.describe()"
            ]
        },
        {
            "cell_type": "code",
            "execution_count": 8,
            "metadata": {
                "execution": {
                    "iopub.execute_input": "2020-08-15T18:03:07.165897Z",
                    "iopub.status.busy": "2020-08-15T18:03:07.164714Z",
                    "iopub.status.idle": "2020-08-15T18:03:07.170072Z",
                    "shell.execute_reply": "2020-08-15T18:03:07.169249Z"
                },
                "papermill": {
                    "duration": 0.068764,
                    "end_time": "2020-08-15T18:03:07.170230",
                    "exception": false,
                    "start_time": "2020-08-15T18:03:07.101466",
                    "status": "completed"
                },
                "tags": [
                    "process_data"
                ]
            },
            "outputs": [
                {
                    "data": {
                        "text/html": [
                            "<div>\n",
                            "<style scoped>\n",
                            "    .dataframe tbody tr th:only-of-type {\n",
                            "        vertical-align: middle;\n",
                            "    }\n",
                            "\n",
                            "    .dataframe tbody tr th {\n",
                            "        vertical-align: top;\n",
                            "    }\n",
                            "\n",
                            "    .dataframe thead th {\n",
                            "        text-align: right;\n",
                            "    }\n",
                            "</style>\n",
                            "<table border=\"1\" class=\"dataframe\">\n",
                            "  <thead>\n",
                            "    <tr style=\"text-align: right;\">\n",
                            "      <th></th>\n",
                            "      <th>Pclass</th>\n",
                            "      <th>Survived</th>\n",
                            "    </tr>\n",
                            "  </thead>\n",
                            "  <tbody>\n",
                            "    <tr>\n",
                            "      <th>0</th>\n",
                            "      <td>1</td>\n",
                            "      <td>0.629630</td>\n",
                            "    </tr>\n",
                            "    <tr>\n",
                            "      <th>1</th>\n",
                            "      <td>2</td>\n",
                            "      <td>0.472826</td>\n",
                            "    </tr>\n",
                            "    <tr>\n",
                            "      <th>2</th>\n",
                            "      <td>3</td>\n",
                            "      <td>0.242363</td>\n",
                            "    </tr>\n",
                            "  </tbody>\n",
                            "</table>\n",
                            "</div>"
                        ],
                        "text/plain": [
                            "   Pclass  Survived\n",
                            "0       1  0.629630\n",
                            "1       2  0.472826\n",
                            "2       3  0.242363"
                        ]
                    },
                    "execution_count": 8,
                    "metadata": {},
                    "output_type": "execute_result"
                }
            ],
            "source": [
                "train_df[['Pclass','Survived']].groupby(['Pclass'],as_index=False).mean().sort_values(by='Survived',ascending=False)\n"
            ]
        },
        {
            "cell_type": "code",
            "execution_count": 9,
            "metadata": {
                "execution": {
                    "iopub.execute_input": "2020-08-15T18:03:07.280207Z",
                    "iopub.status.busy": "2020-08-15T18:03:07.279160Z",
                    "iopub.status.idle": "2020-08-15T18:03:07.285374Z",
                    "shell.execute_reply": "2020-08-15T18:03:07.284581Z"
                },
                "papermill": {
                    "duration": 0.070634,
                    "end_time": "2020-08-15T18:03:07.285534",
                    "exception": false,
                    "start_time": "2020-08-15T18:03:07.214900",
                    "status": "completed"
                },
                "tags": [
                    "process_data"
                ]
            },
            "outputs": [
                {
                    "data": {
                        "text/html": [
                            "<div>\n",
                            "<style scoped>\n",
                            "    .dataframe tbody tr th:only-of-type {\n",
                            "        vertical-align: middle;\n",
                            "    }\n",
                            "\n",
                            "    .dataframe tbody tr th {\n",
                            "        vertical-align: top;\n",
                            "    }\n",
                            "\n",
                            "    .dataframe thead th {\n",
                            "        text-align: right;\n",
                            "    }\n",
                            "</style>\n",
                            "<table border=\"1\" class=\"dataframe\">\n",
                            "  <thead>\n",
                            "    <tr style=\"text-align: right;\">\n",
                            "      <th></th>\n",
                            "      <th>Sex</th>\n",
                            "      <th>Survived</th>\n",
                            "    </tr>\n",
                            "  </thead>\n",
                            "  <tbody>\n",
                            "    <tr>\n",
                            "      <th>0</th>\n",
                            "      <td>female</td>\n",
                            "      <td>0.742038</td>\n",
                            "    </tr>\n",
                            "    <tr>\n",
                            "      <th>1</th>\n",
                            "      <td>male</td>\n",
                            "      <td>0.188908</td>\n",
                            "    </tr>\n",
                            "  </tbody>\n",
                            "</table>\n",
                            "</div>"
                        ],
                        "text/plain": [
                            "      Sex  Survived\n",
                            "0  female  0.742038\n",
                            "1    male  0.188908"
                        ]
                    },
                    "execution_count": 9,
                    "metadata": {},
                    "output_type": "execute_result"
                }
            ],
            "source": [
                "train_df[['Sex','Survived']].groupby(['Sex'],as_index=False).mean().sort_values(by='Survived',ascending=False)"
            ]
        },
        {
            "cell_type": "code",
            "execution_count": 10,
            "metadata": {
                "execution": {
                    "iopub.execute_input": "2020-08-15T18:03:07.396911Z",
                    "iopub.status.busy": "2020-08-15T18:03:07.395524Z",
                    "iopub.status.idle": "2020-08-15T18:03:07.400873Z",
                    "shell.execute_reply": "2020-08-15T18:03:07.400084Z"
                },
                "papermill": {
                    "duration": 0.070501,
                    "end_time": "2020-08-15T18:03:07.401030",
                    "exception": false,
                    "start_time": "2020-08-15T18:03:07.330529",
                    "status": "completed"
                },
                "tags": [
                    "process_data"
                ]
            },
            "outputs": [
                {
                    "data": {
                        "text/html": [
                            "<div>\n",
                            "<style scoped>\n",
                            "    .dataframe tbody tr th:only-of-type {\n",
                            "        vertical-align: middle;\n",
                            "    }\n",
                            "\n",
                            "    .dataframe tbody tr th {\n",
                            "        vertical-align: top;\n",
                            "    }\n",
                            "\n",
                            "    .dataframe thead th {\n",
                            "        text-align: right;\n",
                            "    }\n",
                            "</style>\n",
                            "<table border=\"1\" class=\"dataframe\">\n",
                            "  <thead>\n",
                            "    <tr style=\"text-align: right;\">\n",
                            "      <th></th>\n",
                            "      <th>Parch</th>\n",
                            "      <th>Survived</th>\n",
                            "    </tr>\n",
                            "  </thead>\n",
                            "  <tbody>\n",
                            "    <tr>\n",
                            "      <th>3</th>\n",
                            "      <td>3</td>\n",
                            "      <td>0.600000</td>\n",
                            "    </tr>\n",
                            "    <tr>\n",
                            "      <th>1</th>\n",
                            "      <td>1</td>\n",
                            "      <td>0.550847</td>\n",
                            "    </tr>\n",
                            "    <tr>\n",
                            "      <th>2</th>\n",
                            "      <td>2</td>\n",
                            "      <td>0.500000</td>\n",
                            "    </tr>\n",
                            "    <tr>\n",
                            "      <th>0</th>\n",
                            "      <td>0</td>\n",
                            "      <td>0.343658</td>\n",
                            "    </tr>\n",
                            "    <tr>\n",
                            "      <th>5</th>\n",
                            "      <td>5</td>\n",
                            "      <td>0.200000</td>\n",
                            "    </tr>\n",
                            "    <tr>\n",
                            "      <th>4</th>\n",
                            "      <td>4</td>\n",
                            "      <td>0.000000</td>\n",
                            "    </tr>\n",
                            "    <tr>\n",
                            "      <th>6</th>\n",
                            "      <td>6</td>\n",
                            "      <td>0.000000</td>\n",
                            "    </tr>\n",
                            "  </tbody>\n",
                            "</table>\n",
                            "</div>"
                        ],
                        "text/plain": [
                            "   Parch  Survived\n",
                            "3      3  0.600000\n",
                            "1      1  0.550847\n",
                            "2      2  0.500000\n",
                            "0      0  0.343658\n",
                            "5      5  0.200000\n",
                            "4      4  0.000000\n",
                            "6      6  0.000000"
                        ]
                    },
                    "execution_count": 10,
                    "metadata": {},
                    "output_type": "execute_result"
                }
            ],
            "source": [
                "train_df[['Parch','Survived']].groupby('Parch',as_index=False).mean().sort_values(by='Survived',ascending=False)"
            ]
        },
        {
            "cell_type": "code",
            "execution_count": 11,
            "metadata": {
                "execution": {
                    "iopub.execute_input": "2020-08-15T18:03:07.504953Z",
                    "iopub.status.busy": "2020-08-15T18:03:07.503969Z",
                    "iopub.status.idle": "2020-08-15T18:03:07.519469Z",
                    "shell.execute_reply": "2020-08-15T18:03:07.518526Z"
                },
                "papermill": {
                    "duration": 0.073072,
                    "end_time": "2020-08-15T18:03:07.519637",
                    "exception": false,
                    "start_time": "2020-08-15T18:03:07.446565",
                    "status": "completed"
                },
                "tags": [
                    "process_data"
                ]
            },
            "outputs": [
                {
                    "data": {
                        "text/html": [
                            "<div>\n",
                            "<style scoped>\n",
                            "    .dataframe tbody tr th:only-of-type {\n",
                            "        vertical-align: middle;\n",
                            "    }\n",
                            "\n",
                            "    .dataframe tbody tr th {\n",
                            "        vertical-align: top;\n",
                            "    }\n",
                            "\n",
                            "    .dataframe thead th {\n",
                            "        text-align: right;\n",
                            "    }\n",
                            "</style>\n",
                            "<table border=\"1\" class=\"dataframe\">\n",
                            "  <thead>\n",
                            "    <tr style=\"text-align: right;\">\n",
                            "      <th></th>\n",
                            "      <th>SibSp</th>\n",
                            "      <th>Survived</th>\n",
                            "    </tr>\n",
                            "  </thead>\n",
                            "  <tbody>\n",
                            "    <tr>\n",
                            "      <th>1</th>\n",
                            "      <td>1</td>\n",
                            "      <td>0.535885</td>\n",
                            "    </tr>\n",
                            "    <tr>\n",
                            "      <th>2</th>\n",
                            "      <td>2</td>\n",
                            "      <td>0.464286</td>\n",
                            "    </tr>\n",
                            "    <tr>\n",
                            "      <th>0</th>\n",
                            "      <td>0</td>\n",
                            "      <td>0.345395</td>\n",
                            "    </tr>\n",
                            "    <tr>\n",
                            "      <th>3</th>\n",
                            "      <td>3</td>\n",
                            "      <td>0.250000</td>\n",
                            "    </tr>\n",
                            "    <tr>\n",
                            "      <th>4</th>\n",
                            "      <td>4</td>\n",
                            "      <td>0.166667</td>\n",
                            "    </tr>\n",
                            "    <tr>\n",
                            "      <th>5</th>\n",
                            "      <td>5</td>\n",
                            "      <td>0.000000</td>\n",
                            "    </tr>\n",
                            "    <tr>\n",
                            "      <th>6</th>\n",
                            "      <td>8</td>\n",
                            "      <td>0.000000</td>\n",
                            "    </tr>\n",
                            "  </tbody>\n",
                            "</table>\n",
                            "</div>"
                        ],
                        "text/plain": [
                            "   SibSp  Survived\n",
                            "1      1  0.535885\n",
                            "2      2  0.464286\n",
                            "0      0  0.345395\n",
                            "3      3  0.250000\n",
                            "4      4  0.166667\n",
                            "5      5  0.000000\n",
                            "6      8  0.000000"
                        ]
                    },
                    "execution_count": 11,
                    "metadata": {},
                    "output_type": "execute_result"
                }
            ],
            "source": [
                "train_df[[\"SibSp\", \"Survived\"]].groupby(['SibSp'], as_index=False).mean().sort_values(by='Survived', ascending=False)"
            ]
        },
        {
            "cell_type": "code",
            "execution_count": 12,
            "metadata": {
                "execution": {
                    "iopub.execute_input": "2020-08-15T18:03:07.625416Z",
                    "iopub.status.busy": "2020-08-15T18:03:07.623958Z",
                    "iopub.status.idle": "2020-08-15T18:03:07.628483Z",
                    "shell.execute_reply": "2020-08-15T18:03:07.627518Z"
                },
                "papermill": {
                    "duration": 0.06216,
                    "end_time": "2020-08-15T18:03:07.628681",
                    "exception": false,
                    "start_time": "2020-08-15T18:03:07.566521",
                    "status": "completed"
                },
                "tags": [
                    "process_data"
                ]
            },
            "outputs": [],
            "source": [
                "\n",
                "train_df = train_df.drop(['Ticket', 'Cabin'], axis=1)\n",
                "test_df = test_df.drop(['Ticket', 'Cabin'], axis=1)\n",
                "combine = [train_df, test_df]\n"
            ]
        },
        {
            "cell_type": "code",
            "execution_count": 13,
            "metadata": {
                "execution": {
                    "iopub.execute_input": "2020-08-15T18:03:07.745001Z",
                    "iopub.status.busy": "2020-08-15T18:03:07.743927Z",
                    "iopub.status.idle": "2020-08-15T18:03:07.797987Z",
                    "shell.execute_reply": "2020-08-15T18:03:07.797195Z"
                },
                "papermill": {
                    "duration": 0.120924,
                    "end_time": "2020-08-15T18:03:07.798158",
                    "exception": false,
                    "start_time": "2020-08-15T18:03:07.677234",
                    "status": "completed"
                },
                "tags": [
                    "process_data"
                ]
            },
            "outputs": [
                {
                    "data": {
                        "text/html": [
                            "<div>\n",
                            "<style scoped>\n",
                            "    .dataframe tbody tr th:only-of-type {\n",
                            "        vertical-align: middle;\n",
                            "    }\n",
                            "\n",
                            "    .dataframe tbody tr th {\n",
                            "        vertical-align: top;\n",
                            "    }\n",
                            "\n",
                            "    .dataframe thead th {\n",
                            "        text-align: right;\n",
                            "    }\n",
                            "</style>\n",
                            "<table border=\"1\" class=\"dataframe\">\n",
                            "  <thead>\n",
                            "    <tr style=\"text-align: right;\">\n",
                            "      <th>Sex</th>\n",
                            "      <th>female</th>\n",
                            "      <th>male</th>\n",
                            "    </tr>\n",
                            "    <tr>\n",
                            "      <th>Title</th>\n",
                            "      <th></th>\n",
                            "      <th></th>\n",
                            "    </tr>\n",
                            "  </thead>\n",
                            "  <tbody>\n",
                            "    <tr>\n",
                            "      <th>Capt</th>\n",
                            "      <td>0</td>\n",
                            "      <td>1</td>\n",
                            "    </tr>\n",
                            "    <tr>\n",
                            "      <th>Col</th>\n",
                            "      <td>0</td>\n",
                            "      <td>2</td>\n",
                            "    </tr>\n",
                            "    <tr>\n",
                            "      <th>Countess</th>\n",
                            "      <td>1</td>\n",
                            "      <td>0</td>\n",
                            "    </tr>\n",
                            "    <tr>\n",
                            "      <th>Don</th>\n",
                            "      <td>0</td>\n",
                            "      <td>1</td>\n",
                            "    </tr>\n",
                            "    <tr>\n",
                            "      <th>Dr</th>\n",
                            "      <td>1</td>\n",
                            "      <td>6</td>\n",
                            "    </tr>\n",
                            "    <tr>\n",
                            "      <th>Jonkheer</th>\n",
                            "      <td>0</td>\n",
                            "      <td>1</td>\n",
                            "    </tr>\n",
                            "    <tr>\n",
                            "      <th>Lady</th>\n",
                            "      <td>1</td>\n",
                            "      <td>0</td>\n",
                            "    </tr>\n",
                            "    <tr>\n",
                            "      <th>Major</th>\n",
                            "      <td>0</td>\n",
                            "      <td>2</td>\n",
                            "    </tr>\n",
                            "    <tr>\n",
                            "      <th>Master</th>\n",
                            "      <td>0</td>\n",
                            "      <td>40</td>\n",
                            "    </tr>\n",
                            "    <tr>\n",
                            "      <th>Miss</th>\n",
                            "      <td>182</td>\n",
                            "      <td>0</td>\n",
                            "    </tr>\n",
                            "    <tr>\n",
                            "      <th>Mlle</th>\n",
                            "      <td>2</td>\n",
                            "      <td>0</td>\n",
                            "    </tr>\n",
                            "    <tr>\n",
                            "      <th>Mme</th>\n",
                            "      <td>1</td>\n",
                            "      <td>0</td>\n",
                            "    </tr>\n",
                            "    <tr>\n",
                            "      <th>Mr</th>\n",
                            "      <td>0</td>\n",
                            "      <td>517</td>\n",
                            "    </tr>\n",
                            "    <tr>\n",
                            "      <th>Mrs</th>\n",
                            "      <td>125</td>\n",
                            "      <td>0</td>\n",
                            "    </tr>\n",
                            "    <tr>\n",
                            "      <th>Ms</th>\n",
                            "      <td>1</td>\n",
                            "      <td>0</td>\n",
                            "    </tr>\n",
                            "    <tr>\n",
                            "      <th>Rev</th>\n",
                            "      <td>0</td>\n",
                            "      <td>6</td>\n",
                            "    </tr>\n",
                            "    <tr>\n",
                            "      <th>Sir</th>\n",
                            "      <td>0</td>\n",
                            "      <td>1</td>\n",
                            "    </tr>\n",
                            "  </tbody>\n",
                            "</table>\n",
                            "</div>"
                        ],
                        "text/plain": [
                            "Sex       female  male\n",
                            "Title                 \n",
                            "Capt           0     1\n",
                            "Col            0     2\n",
                            "Countess       1     0\n",
                            "Don            0     1\n",
                            "Dr             1     6\n",
                            "Jonkheer       0     1\n",
                            "Lady           1     0\n",
                            "Major          0     2\n",
                            "Master         0    40\n",
                            "Miss         182     0\n",
                            "Mlle           2     0\n",
                            "Mme            1     0\n",
                            "Mr             0   517\n",
                            "Mrs          125     0\n",
                            "Ms             1     0\n",
                            "Rev            0     6\n",
                            "Sir            0     1"
                        ]
                    },
                    "execution_count": 13,
                    "metadata": {},
                    "output_type": "execute_result"
                }
            ],
            "source": [
                "for i in combine:\n",
                "    i['Title']=i.Name.str.extract('([A-Za-z]+)\\.',expand=False)\n",
                "pd.crosstab(train_df['Title'],train_df['Sex'])\n"
            ]
        },
        {
            "cell_type": "code",
            "execution_count": 14,
            "metadata": {
                "execution": {
                    "iopub.execute_input": "2020-08-15T18:03:07.914387Z",
                    "iopub.status.busy": "2020-08-15T18:03:07.910588Z",
                    "iopub.status.idle": "2020-08-15T18:03:07.931158Z",
                    "shell.execute_reply": "2020-08-15T18:03:07.930320Z"
                },
                "papermill": {
                    "duration": 0.085796,
                    "end_time": "2020-08-15T18:03:07.931336",
                    "exception": false,
                    "start_time": "2020-08-15T18:03:07.845540",
                    "status": "completed"
                },
                "tags": [
                    "process_data"
                ]
            },
            "outputs": [],
            "source": [
                "for dataset in combine:\n",
                "    dataset['Title']=dataset['Title'].replace(['Lady','Countess','Capt', 'Col',\\\n",
                " \t'Don', 'Dr', 'Major', 'Rev', 'Sir', 'Jonkheer', 'Dona'], 'Rare')\n",
                "    dataset['Title'] = dataset['Title'].replace('Mlle', 'Miss')\n",
                "    dataset['Title'] = dataset['Title'].replace('Ms', 'Miss')\n",
                "    dataset['Title'] = dataset['Title'].replace('Mme', 'Mrs')\n",
                "    train_df[['Title','Survived']].groupby(['Title'],as_index=False).mean().sort_values(by='Survived',ascending=False)"
            ]
        },
        {
            "cell_type": "code",
            "execution_count": 15,
            "metadata": {
                "execution": {
                    "iopub.execute_input": "2020-08-15T18:03:08.058764Z",
                    "iopub.status.busy": "2020-08-15T18:03:08.057236Z",
                    "iopub.status.idle": "2020-08-15T18:03:08.062997Z",
                    "shell.execute_reply": "2020-08-15T18:03:08.062168Z"
                },
                "papermill": {
                    "duration": 0.082344,
                    "end_time": "2020-08-15T18:03:08.063212",
                    "exception": false,
                    "start_time": "2020-08-15T18:03:07.980868",
                    "status": "completed"
                },
                "tags": [
                    "process_data",
                    "check_results"
                ]
            },
            "outputs": [
                {
                    "data": {
                        "text/html": [
                            "<div>\n",
                            "<style scoped>\n",
                            "    .dataframe tbody tr th:only-of-type {\n",
                            "        vertical-align: middle;\n",
                            "    }\n",
                            "\n",
                            "    .dataframe tbody tr th {\n",
                            "        vertical-align: top;\n",
                            "    }\n",
                            "\n",
                            "    .dataframe thead th {\n",
                            "        text-align: right;\n",
                            "    }\n",
                            "</style>\n",
                            "<table border=\"1\" class=\"dataframe\">\n",
                            "  <thead>\n",
                            "    <tr style=\"text-align: right;\">\n",
                            "      <th></th>\n",
                            "      <th>PassengerId</th>\n",
                            "      <th>Survived</th>\n",
                            "      <th>Pclass</th>\n",
                            "      <th>Name</th>\n",
                            "      <th>Sex</th>\n",
                            "      <th>Age</th>\n",
                            "      <th>SibSp</th>\n",
                            "      <th>Parch</th>\n",
                            "      <th>Fare</th>\n",
                            "      <th>Embarked</th>\n",
                            "      <th>Title</th>\n",
                            "    </tr>\n",
                            "  </thead>\n",
                            "  <tbody>\n",
                            "    <tr>\n",
                            "      <th>0</th>\n",
                            "      <td>1</td>\n",
                            "      <td>0</td>\n",
                            "      <td>3</td>\n",
                            "      <td>Braund, Mr. Owen Harris</td>\n",
                            "      <td>male</td>\n",
                            "      <td>22.0</td>\n",
                            "      <td>1</td>\n",
                            "      <td>0</td>\n",
                            "      <td>7.2500</td>\n",
                            "      <td>S</td>\n",
                            "      <td>1</td>\n",
                            "    </tr>\n",
                            "    <tr>\n",
                            "      <th>1</th>\n",
                            "      <td>2</td>\n",
                            "      <td>1</td>\n",
                            "      <td>1</td>\n",
                            "      <td>Cumings, Mrs. John Bradley (Florence Briggs Th...</td>\n",
                            "      <td>female</td>\n",
                            "      <td>38.0</td>\n",
                            "      <td>1</td>\n",
                            "      <td>0</td>\n",
                            "      <td>71.2833</td>\n",
                            "      <td>C</td>\n",
                            "      <td>3</td>\n",
                            "    </tr>\n",
                            "    <tr>\n",
                            "      <th>2</th>\n",
                            "      <td>3</td>\n",
                            "      <td>1</td>\n",
                            "      <td>3</td>\n",
                            "      <td>Heikkinen, Miss. Laina</td>\n",
                            "      <td>female</td>\n",
                            "      <td>26.0</td>\n",
                            "      <td>0</td>\n",
                            "      <td>0</td>\n",
                            "      <td>7.9250</td>\n",
                            "      <td>S</td>\n",
                            "      <td>2</td>\n",
                            "    </tr>\n",
                            "    <tr>\n",
                            "      <th>3</th>\n",
                            "      <td>4</td>\n",
                            "      <td>1</td>\n",
                            "      <td>1</td>\n",
                            "      <td>Futrelle, Mrs. Jacques Heath (Lily May Peel)</td>\n",
                            "      <td>female</td>\n",
                            "      <td>35.0</td>\n",
                            "      <td>1</td>\n",
                            "      <td>0</td>\n",
                            "      <td>53.1000</td>\n",
                            "      <td>S</td>\n",
                            "      <td>3</td>\n",
                            "    </tr>\n",
                            "    <tr>\n",
                            "      <th>4</th>\n",
                            "      <td>5</td>\n",
                            "      <td>0</td>\n",
                            "      <td>3</td>\n",
                            "      <td>Allen, Mr. William Henry</td>\n",
                            "      <td>male</td>\n",
                            "      <td>35.0</td>\n",
                            "      <td>0</td>\n",
                            "      <td>0</td>\n",
                            "      <td>8.0500</td>\n",
                            "      <td>S</td>\n",
                            "      <td>1</td>\n",
                            "    </tr>\n",
                            "  </tbody>\n",
                            "</table>\n",
                            "</div>"
                        ],
                        "text/plain": [
                            "   PassengerId  Survived  Pclass  \\\n",
                            "0            1         0       3   \n",
                            "1            2         1       1   \n",
                            "2            3         1       3   \n",
                            "3            4         1       1   \n",
                            "4            5         0       3   \n",
                            "\n",
                            "                                                Name     Sex   Age  SibSp  \\\n",
                            "0                            Braund, Mr. Owen Harris    male  22.0      1   \n",
                            "1  Cumings, Mrs. John Bradley (Florence Briggs Th...  female  38.0      1   \n",
                            "2                             Heikkinen, Miss. Laina  female  26.0      0   \n",
                            "3       Futrelle, Mrs. Jacques Heath (Lily May Peel)  female  35.0      1   \n",
                            "4                           Allen, Mr. William Henry    male  35.0      0   \n",
                            "\n",
                            "   Parch     Fare Embarked  Title  \n",
                            "0      0   7.2500        S      1  \n",
                            "1      0  71.2833        C      3  \n",
                            "2      0   7.9250        S      2  \n",
                            "3      0  53.1000        S      3  \n",
                            "4      0   8.0500        S      1  "
                        ]
                    },
                    "execution_count": 15,
                    "metadata": {},
                    "output_type": "execute_result"
                }
            ],
            "source": [
                "title_mapping = {\"Mr\": 1, \"Miss\": 2, \"Mrs\": 3, \"Master\": 4, \"Rare\": 5}\n",
                "for dataset in combine:\n",
                "    dataset['Title'] = dataset['Title'].map(title_mapping)\n",
                "    dataset['Title'] = dataset['Title'].fillna(0)\n",
                "\n",
                "train_df.head()"
            ]
        },
        {
            "cell_type": "code",
            "execution_count": 16,
            "metadata": {
                "execution": {
                    "iopub.execute_input": "2020-08-15T18:03:08.174803Z",
                    "iopub.status.busy": "2020-08-15T18:03:08.171435Z",
                    "iopub.status.idle": "2020-08-15T18:03:08.190520Z",
                    "shell.execute_reply": "2020-08-15T18:03:08.189579Z"
                },
                "papermill": {
                    "duration": 0.07866,
                    "end_time": "2020-08-15T18:03:08.190688",
                    "exception": false,
                    "start_time": "2020-08-15T18:03:08.112028",
                    "status": "completed"
                },
                "tags": [
                    "process_data"
                ]
            },
            "outputs": [
                {
                    "data": {
                        "text/html": [
                            "<div>\n",
                            "<style scoped>\n",
                            "    .dataframe tbody tr th:only-of-type {\n",
                            "        vertical-align: middle;\n",
                            "    }\n",
                            "\n",
                            "    .dataframe tbody tr th {\n",
                            "        vertical-align: top;\n",
                            "    }\n",
                            "\n",
                            "    .dataframe thead th {\n",
                            "        text-align: right;\n",
                            "    }\n",
                            "</style>\n",
                            "<table border=\"1\" class=\"dataframe\">\n",
                            "  <thead>\n",
                            "    <tr style=\"text-align: right;\">\n",
                            "      <th></th>\n",
                            "      <th>Title</th>\n",
                            "      <th>Survived</th>\n",
                            "    </tr>\n",
                            "  </thead>\n",
                            "  <tbody>\n",
                            "    <tr>\n",
                            "      <th>2</th>\n",
                            "      <td>3</td>\n",
                            "      <td>0.793651</td>\n",
                            "    </tr>\n",
                            "    <tr>\n",
                            "      <th>1</th>\n",
                            "      <td>2</td>\n",
                            "      <td>0.702703</td>\n",
                            "    </tr>\n",
                            "    <tr>\n",
                            "      <th>3</th>\n",
                            "      <td>4</td>\n",
                            "      <td>0.575000</td>\n",
                            "    </tr>\n",
                            "    <tr>\n",
                            "      <th>4</th>\n",
                            "      <td>5</td>\n",
                            "      <td>0.347826</td>\n",
                            "    </tr>\n",
                            "    <tr>\n",
                            "      <th>0</th>\n",
                            "      <td>1</td>\n",
                            "      <td>0.156673</td>\n",
                            "    </tr>\n",
                            "  </tbody>\n",
                            "</table>\n",
                            "</div>"
                        ],
                        "text/plain": [
                            "   Title  Survived\n",
                            "2      3  0.793651\n",
                            "1      2  0.702703\n",
                            "3      4  0.575000\n",
                            "4      5  0.347826\n",
                            "0      1  0.156673"
                        ]
                    },
                    "execution_count": 16,
                    "metadata": {},
                    "output_type": "execute_result"
                }
            ],
            "source": [
                "train_df[['Title','Survived']].groupby(['Title'],as_index=False).mean().sort_values(by='Survived',ascending=False)"
            ]
        },
        {
            "cell_type": "code",
            "execution_count": 17,
            "metadata": {
                "execution": {
                    "iopub.execute_input": "2020-08-15T18:03:08.299419Z",
                    "iopub.status.busy": "2020-08-15T18:03:08.298163Z",
                    "iopub.status.idle": "2020-08-15T18:03:08.304376Z",
                    "shell.execute_reply": "2020-08-15T18:03:08.303585Z"
                },
                "papermill": {
                    "duration": 0.065153,
                    "end_time": "2020-08-15T18:03:08.304566",
                    "exception": false,
                    "start_time": "2020-08-15T18:03:08.239413",
                    "status": "completed"
                },
                "tags": [
                    "process_data"
                ]
            },
            "outputs": [],
            "source": [
                "train_df=train_df.drop(['Name','PassengerId'],axis=1)\n",
                "test_df=test_df.drop(['Name'],axis=1)\n",
                "combine=[train_df,test_df]"
            ]
        },
        {
            "cell_type": "code",
            "execution_count": 18,
            "metadata": {
                "execution": {
                    "iopub.execute_input": "2020-08-15T18:03:08.415023Z",
                    "iopub.status.busy": "2020-08-15T18:03:08.414081Z",
                    "iopub.status.idle": "2020-08-15T18:03:08.418555Z",
                    "shell.execute_reply": "2020-08-15T18:03:08.417801Z"
                },
                "papermill": {
                    "duration": 0.065434,
                    "end_time": "2020-08-15T18:03:08.418720",
                    "exception": false,
                    "start_time": "2020-08-15T18:03:08.353286",
                    "status": "completed"
                },
                "tags": [
                    "process_data"
                ]
            },
            "outputs": [],
            "source": [
                "for dataset in combine:\n",
                "    dataset['Sex']=dataset['Sex'].map({'female':1,'male':0}).astype(int)\n",
                "    "
            ]
        },
        {
            "cell_type": "code",
            "execution_count": 19,
            "metadata": {
                "execution": {
                    "iopub.execute_input": "2020-08-15T18:03:08.535928Z",
                    "iopub.status.busy": "2020-08-15T18:03:08.534890Z",
                    "iopub.status.idle": "2020-08-15T18:03:08.541190Z",
                    "shell.execute_reply": "2020-08-15T18:03:08.540244Z"
                },
                "papermill": {
                    "duration": 0.073705,
                    "end_time": "2020-08-15T18:03:08.541373",
                    "exception": false,
                    "start_time": "2020-08-15T18:03:08.467668",
                    "status": "completed"
                },
                "tags": [
                    "check_results"
                ]
            },
            "outputs": [
                {
                    "data": {
                        "text/html": [
                            "<div>\n",
                            "<style scoped>\n",
                            "    .dataframe tbody tr th:only-of-type {\n",
                            "        vertical-align: middle;\n",
                            "    }\n",
                            "\n",
                            "    .dataframe tbody tr th {\n",
                            "        vertical-align: top;\n",
                            "    }\n",
                            "\n",
                            "    .dataframe thead th {\n",
                            "        text-align: right;\n",
                            "    }\n",
                            "</style>\n",
                            "<table border=\"1\" class=\"dataframe\">\n",
                            "  <thead>\n",
                            "    <tr style=\"text-align: right;\">\n",
                            "      <th></th>\n",
                            "      <th>Survived</th>\n",
                            "      <th>Pclass</th>\n",
                            "      <th>Sex</th>\n",
                            "      <th>Age</th>\n",
                            "      <th>SibSp</th>\n",
                            "      <th>Parch</th>\n",
                            "      <th>Fare</th>\n",
                            "      <th>Embarked</th>\n",
                            "      <th>Title</th>\n",
                            "    </tr>\n",
                            "  </thead>\n",
                            "  <tbody>\n",
                            "    <tr>\n",
                            "      <th>0</th>\n",
                            "      <td>0</td>\n",
                            "      <td>3</td>\n",
                            "      <td>0</td>\n",
                            "      <td>22.0</td>\n",
                            "      <td>1</td>\n",
                            "      <td>0</td>\n",
                            "      <td>7.2500</td>\n",
                            "      <td>S</td>\n",
                            "      <td>1</td>\n",
                            "    </tr>\n",
                            "    <tr>\n",
                            "      <th>1</th>\n",
                            "      <td>1</td>\n",
                            "      <td>1</td>\n",
                            "      <td>1</td>\n",
                            "      <td>38.0</td>\n",
                            "      <td>1</td>\n",
                            "      <td>0</td>\n",
                            "      <td>71.2833</td>\n",
                            "      <td>C</td>\n",
                            "      <td>3</td>\n",
                            "    </tr>\n",
                            "    <tr>\n",
                            "      <th>2</th>\n",
                            "      <td>1</td>\n",
                            "      <td>3</td>\n",
                            "      <td>1</td>\n",
                            "      <td>26.0</td>\n",
                            "      <td>0</td>\n",
                            "      <td>0</td>\n",
                            "      <td>7.9250</td>\n",
                            "      <td>S</td>\n",
                            "      <td>2</td>\n",
                            "    </tr>\n",
                            "    <tr>\n",
                            "      <th>3</th>\n",
                            "      <td>1</td>\n",
                            "      <td>1</td>\n",
                            "      <td>1</td>\n",
                            "      <td>35.0</td>\n",
                            "      <td>1</td>\n",
                            "      <td>0</td>\n",
                            "      <td>53.1000</td>\n",
                            "      <td>S</td>\n",
                            "      <td>3</td>\n",
                            "    </tr>\n",
                            "    <tr>\n",
                            "      <th>4</th>\n",
                            "      <td>0</td>\n",
                            "      <td>3</td>\n",
                            "      <td>0</td>\n",
                            "      <td>35.0</td>\n",
                            "      <td>0</td>\n",
                            "      <td>0</td>\n",
                            "      <td>8.0500</td>\n",
                            "      <td>S</td>\n",
                            "      <td>1</td>\n",
                            "    </tr>\n",
                            "  </tbody>\n",
                            "</table>\n",
                            "</div>"
                        ],
                        "text/plain": [
                            "   Survived  Pclass  Sex   Age  SibSp  Parch     Fare Embarked  Title\n",
                            "0         0       3    0  22.0      1      0   7.2500        S      1\n",
                            "1         1       1    1  38.0      1      0  71.2833        C      3\n",
                            "2         1       3    1  26.0      0      0   7.9250        S      2\n",
                            "3         1       1    1  35.0      1      0  53.1000        S      3\n",
                            "4         0       3    0  35.0      0      0   8.0500        S      1"
                        ]
                    },
                    "execution_count": 19,
                    "metadata": {},
                    "output_type": "execute_result"
                }
            ],
            "source": [
                "train_df.head()"
            ]
        },
        {
            "cell_type": "code",
            "execution_count": 20,
            "metadata": {
                "execution": {
                    "iopub.execute_input": "2020-08-15T18:03:08.651481Z",
                    "iopub.status.busy": "2020-08-15T18:03:08.650411Z",
                    "iopub.status.idle": "2020-08-15T18:03:11.531956Z",
                    "shell.execute_reply": "2020-08-15T18:03:11.531180Z"
                },
                "papermill": {
                    "duration": 2.940095,
                    "end_time": "2020-08-15T18:03:11.532116",
                    "exception": false,
                    "start_time": "2020-08-15T18:03:08.592021",
                    "status": "completed"
                },
                "tags": [
                    "visualize_data"
                ]
            },
            "outputs": [
                {
                    "name": "stderr",
                    "output_type": "stream",
                    "text": [
                        "/opt/conda/lib/python3.7/site-packages/seaborn/axisgrid.py:243: UserWarning: The `size` parameter has been renamed to `height`; please update your code.\n",
                        "  warnings.warn(msg, UserWarning)\n"
                    ]
                },
                {
                    "data": {
                        "text/plain": [
                            "<seaborn.axisgrid.FacetGrid at 0x7fc4180d43d0>"
                        ]
                    },
                    "execution_count": 20,
                    "metadata": {},
                    "output_type": "execute_result"
                },
                {
                    "data": {
                        "image/png": "[encoded data removed]",
                        "text/plain": [
                            "<Figure size 514.88x475.2 with 6 Axes>"
                        ]
                    },
                    "metadata": {
                        "needs_background": "light"
                    },
                    "output_type": "display_data"
                }
            ],
            "source": [
                "grid = sns.FacetGrid(train_df, row='Pclass', col='Sex', size=2.2, aspect=1.6)\n",
                "grid.map(plt.hist, 'Age', alpha=.5, bins=20)\n",
                "grid.add_legend()"
            ]
        },
        {
            "cell_type": "code",
            "execution_count": 21,
            "metadata": {
                "execution": {
                    "iopub.execute_input": "2020-08-15T18:03:11.645482Z",
                    "iopub.status.busy": "2020-08-15T18:03:11.644089Z",
                    "iopub.status.idle": "2020-08-15T18:03:11.648539Z",
                    "shell.execute_reply": "2020-08-15T18:03:11.649193Z"
                },
                "papermill": {
                    "duration": 0.064978,
                    "end_time": "2020-08-15T18:03:11.649451",
                    "exception": false,
                    "start_time": "2020-08-15T18:03:11.584473",
                    "status": "completed"
                },
                "tags": [
                    "process_data",
                    "check_results"
                ]
            },
            "outputs": [
                {
                    "data": {
                        "text/plain": [
                            "array([[0., 0., 0.],\n",
                            "       [0., 0., 0.]])"
                        ]
                    },
                    "execution_count": 21,
                    "metadata": {},
                    "output_type": "execute_result"
                }
            ],
            "source": [
                "guess_ages = np.zeros((2,3))\n",
                "guess_ages\n"
            ]
        },
        {
            "cell_type": "code",
            "execution_count": 22,
            "metadata": {
                "execution": {
                    "iopub.execute_input": "2020-08-15T18:03:11.816386Z",
                    "iopub.status.busy": "2020-08-15T18:03:11.791243Z",
                    "iopub.status.idle": "2020-08-15T18:03:11.832432Z",
                    "shell.execute_reply": "2020-08-15T18:03:11.831650Z"
                },
                "papermill": {
                    "duration": 0.130942,
                    "end_time": "2020-08-15T18:03:11.832631",
                    "exception": false,
                    "start_time": "2020-08-15T18:03:11.701689",
                    "status": "completed"
                },
                "tags": [
                    "process_data",
                    "check_results"
                ]
            },
            "outputs": [
                {
                    "data": {
                        "text/html": [
                            "<div>\n",
                            "<style scoped>\n",
                            "    .dataframe tbody tr th:only-of-type {\n",
                            "        vertical-align: middle;\n",
                            "    }\n",
                            "\n",
                            "    .dataframe tbody tr th {\n",
                            "        vertical-align: top;\n",
                            "    }\n",
                            "\n",
                            "    .dataframe thead th {\n",
                            "        text-align: right;\n",
                            "    }\n",
                            "</style>\n",
                            "<table border=\"1\" class=\"dataframe\">\n",
                            "  <thead>\n",
                            "    <tr style=\"text-align: right;\">\n",
                            "      <th></th>\n",
                            "      <th>Survived</th>\n",
                            "      <th>Pclass</th>\n",
                            "      <th>Sex</th>\n",
                            "      <th>Age</th>\n",
                            "      <th>SibSp</th>\n",
                            "      <th>Parch</th>\n",
                            "      <th>Fare</th>\n",
                            "      <th>Embarked</th>\n",
                            "      <th>Title</th>\n",
                            "    </tr>\n",
                            "  </thead>\n",
                            "  <tbody>\n",
                            "    <tr>\n",
                            "      <th>0</th>\n",
                            "      <td>0</td>\n",
                            "      <td>3</td>\n",
                            "      <td>0</td>\n",
                            "      <td>22</td>\n",
                            "      <td>1</td>\n",
                            "      <td>0</td>\n",
                            "      <td>7.2500</td>\n",
                            "      <td>S</td>\n",
                            "      <td>1</td>\n",
                            "    </tr>\n",
                            "    <tr>\n",
                            "      <th>1</th>\n",
                            "      <td>1</td>\n",
                            "      <td>1</td>\n",
                            "      <td>1</td>\n",
                            "      <td>38</td>\n",
                            "      <td>1</td>\n",
                            "      <td>0</td>\n",
                            "      <td>71.2833</td>\n",
                            "      <td>C</td>\n",
                            "      <td>3</td>\n",
                            "    </tr>\n",
                            "    <tr>\n",
                            "      <th>2</th>\n",
                            "      <td>1</td>\n",
                            "      <td>3</td>\n",
                            "      <td>1</td>\n",
                            "      <td>26</td>\n",
                            "      <td>0</td>\n",
                            "      <td>0</td>\n",
                            "      <td>7.9250</td>\n",
                            "      <td>S</td>\n",
                            "      <td>2</td>\n",
                            "    </tr>\n",
                            "    <tr>\n",
                            "      <th>3</th>\n",
                            "      <td>1</td>\n",
                            "      <td>1</td>\n",
                            "      <td>1</td>\n",
                            "      <td>35</td>\n",
                            "      <td>1</td>\n",
                            "      <td>0</td>\n",
                            "      <td>53.1000</td>\n",
                            "      <td>S</td>\n",
                            "      <td>3</td>\n",
                            "    </tr>\n",
                            "    <tr>\n",
                            "      <th>4</th>\n",
                            "      <td>0</td>\n",
                            "      <td>3</td>\n",
                            "      <td>0</td>\n",
                            "      <td>35</td>\n",
                            "      <td>0</td>\n",
                            "      <td>0</td>\n",
                            "      <td>8.0500</td>\n",
                            "      <td>S</td>\n",
                            "      <td>1</td>\n",
                            "    </tr>\n",
                            "  </tbody>\n",
                            "</table>\n",
                            "</div>"
                        ],
                        "text/plain": [
                            "   Survived  Pclass  Sex  Age  SibSp  Parch     Fare Embarked  Title\n",
                            "0         0       3    0   22      1      0   7.2500        S      1\n",
                            "1         1       1    1   38      1      0  71.2833        C      3\n",
                            "2         1       3    1   26      0      0   7.9250        S      2\n",
                            "3         1       1    1   35      1      0  53.1000        S      3\n",
                            "4         0       3    0   35      0      0   8.0500        S      1"
                        ]
                    },
                    "execution_count": 22,
                    "metadata": {},
                    "output_type": "execute_result"
                }
            ],
            "source": [
                "for dataset in combine:\n",
                "    for i in range(0, 2):\n",
                "        for j in range(0, 3):\n",
                "            guess_df = dataset[(dataset['Sex'] == i) & \\\n",
                "                                  (dataset['Pclass'] == j+1)]['Age'].dropna()\n",
                "\n",
                "            # age_mean = guess_df.mean()\n",
                "            # age_std = guess_df.std()\n",
                "            # age_guess = rnd.uniform(age_mean - age_std, age_mean + age_std)\n",
                "\n",
                "            age_guess = guess_df.median()\n",
                "\n",
                "            # Convert random age float to nearest .5 age\n",
                "            guess_ages[i,j] = int( age_guess/0.5 + 0.5 ) * 0.5\n",
                "    for i in range(0, 2):\n",
                "        for j in range(0, 3):\n",
                "            dataset.loc[ (dataset.Age.isnull()) & (dataset.Sex == i) & (dataset.Pclass == j+1),\\\n",
                "                    'Age'] = guess_ages[i,j]\n",
                "\n",
                "    dataset['Age'] = dataset['Age'].astype(int)\n",
                "\n",
                "train_df.head()\n",
                "      "
            ]
        },
        {
            "cell_type": "code",
            "execution_count": 23,
            "metadata": {
                "execution": {
                    "iopub.execute_input": "2020-08-15T18:03:11.978759Z",
                    "iopub.status.busy": "2020-08-15T18:03:11.961174Z",
                    "iopub.status.idle": "2020-08-15T18:03:11.984569Z",
                    "shell.execute_reply": "2020-08-15T18:03:11.983873Z"
                },
                "papermill": {
                    "duration": 0.098139,
                    "end_time": "2020-08-15T18:03:11.984780",
                    "exception": false,
                    "start_time": "2020-08-15T18:03:11.886641",
                    "status": "completed"
                },
                "tags": [
                    "process_data"
                ]
            },
            "outputs": [
                {
                    "data": {
                        "text/html": [
                            "<div>\n",
                            "<style scoped>\n",
                            "    .dataframe tbody tr th:only-of-type {\n",
                            "        vertical-align: middle;\n",
                            "    }\n",
                            "\n",
                            "    .dataframe tbody tr th {\n",
                            "        vertical-align: top;\n",
                            "    }\n",
                            "\n",
                            "    .dataframe thead th {\n",
                            "        text-align: right;\n",
                            "    }\n",
                            "</style>\n",
                            "<table border=\"1\" class=\"dataframe\">\n",
                            "  <thead>\n",
                            "    <tr style=\"text-align: right;\">\n",
                            "      <th></th>\n",
                            "      <th>AgeBand</th>\n",
                            "      <th>Survived</th>\n",
                            "    </tr>\n",
                            "  </thead>\n",
                            "  <tbody>\n",
                            "    <tr>\n",
                            "      <th>4</th>\n",
                            "      <td>(64.0, 80.0]</td>\n",
                            "      <td>0.090909</td>\n",
                            "    </tr>\n",
                            "    <tr>\n",
                            "      <th>1</th>\n",
                            "      <td>(16.0, 32.0]</td>\n",
                            "      <td>0.337374</td>\n",
                            "    </tr>\n",
                            "    <tr>\n",
                            "      <th>2</th>\n",
                            "      <td>(32.0, 48.0]</td>\n",
                            "      <td>0.412037</td>\n",
                            "    </tr>\n",
                            "    <tr>\n",
                            "      <th>3</th>\n",
                            "      <td>(48.0, 64.0]</td>\n",
                            "      <td>0.434783</td>\n",
                            "    </tr>\n",
                            "    <tr>\n",
                            "      <th>0</th>\n",
                            "      <td>(-0.08, 16.0]</td>\n",
                            "      <td>0.550000</td>\n",
                            "    </tr>\n",
                            "  </tbody>\n",
                            "</table>\n",
                            "</div>"
                        ],
                        "text/plain": [
                            "         AgeBand  Survived\n",
                            "4   (64.0, 80.0]  0.090909\n",
                            "1   (16.0, 32.0]  0.337374\n",
                            "2   (32.0, 48.0]  0.412037\n",
                            "3   (48.0, 64.0]  0.434783\n",
                            "0  (-0.08, 16.0]  0.550000"
                        ]
                    },
                    "execution_count": 23,
                    "metadata": {},
                    "output_type": "execute_result"
                }
            ],
            "source": [
                "train_df['AgeBand']=pd.cut(train_df['Age'],5)\n",
                "train_df[['AgeBand','Survived']].groupby(['AgeBand'],as_index=False).mean().sort_values(by='Survived',ascending=True)\n"
            ]
        },
        {
            "cell_type": "code",
            "execution_count": 24,
            "metadata": {
                "execution": {
                    "iopub.execute_input": "2020-08-15T18:03:12.132584Z",
                    "iopub.status.busy": "2020-08-15T18:03:12.124534Z",
                    "iopub.status.idle": "2020-08-15T18:03:12.139017Z",
                    "shell.execute_reply": "2020-08-15T18:03:12.138081Z"
                },
                "papermill": {
                    "duration": 0.100518,
                    "end_time": "2020-08-15T18:03:12.139182",
                    "exception": false,
                    "start_time": "2020-08-15T18:03:12.038664",
                    "status": "completed"
                },
                "tags": [
                    "process_data",
                    "check_results"
                ]
            },
            "outputs": [
                {
                    "data": {
                        "text/html": [
                            "<div>\n",
                            "<style scoped>\n",
                            "    .dataframe tbody tr th:only-of-type {\n",
                            "        vertical-align: middle;\n",
                            "    }\n",
                            "\n",
                            "    .dataframe tbody tr th {\n",
                            "        vertical-align: top;\n",
                            "    }\n",
                            "\n",
                            "    .dataframe thead th {\n",
                            "        text-align: right;\n",
                            "    }\n",
                            "</style>\n",
                            "<table border=\"1\" class=\"dataframe\">\n",
                            "  <thead>\n",
                            "    <tr style=\"text-align: right;\">\n",
                            "      <th></th>\n",
                            "      <th>Survived</th>\n",
                            "      <th>Pclass</th>\n",
                            "      <th>Sex</th>\n",
                            "      <th>Age</th>\n",
                            "      <th>SibSp</th>\n",
                            "      <th>Parch</th>\n",
                            "      <th>Fare</th>\n",
                            "      <th>Embarked</th>\n",
                            "      <th>Title</th>\n",
                            "      <th>AgeBand</th>\n",
                            "    </tr>\n",
                            "  </thead>\n",
                            "  <tbody>\n",
                            "    <tr>\n",
                            "      <th>0</th>\n",
                            "      <td>0</td>\n",
                            "      <td>3</td>\n",
                            "      <td>0</td>\n",
                            "      <td>1</td>\n",
                            "      <td>1</td>\n",
                            "      <td>0</td>\n",
                            "      <td>7.2500</td>\n",
                            "      <td>S</td>\n",
                            "      <td>1</td>\n",
                            "      <td>(16.0, 32.0]</td>\n",
                            "    </tr>\n",
                            "    <tr>\n",
                            "      <th>1</th>\n",
                            "      <td>1</td>\n",
                            "      <td>1</td>\n",
                            "      <td>1</td>\n",
                            "      <td>2</td>\n",
                            "      <td>1</td>\n",
                            "      <td>0</td>\n",
                            "      <td>71.2833</td>\n",
                            "      <td>C</td>\n",
                            "      <td>3</td>\n",
                            "      <td>(32.0, 48.0]</td>\n",
                            "    </tr>\n",
                            "    <tr>\n",
                            "      <th>2</th>\n",
                            "      <td>1</td>\n",
                            "      <td>3</td>\n",
                            "      <td>1</td>\n",
                            "      <td>1</td>\n",
                            "      <td>0</td>\n",
                            "      <td>0</td>\n",
                            "      <td>7.9250</td>\n",
                            "      <td>S</td>\n",
                            "      <td>2</td>\n",
                            "      <td>(16.0, 32.0]</td>\n",
                            "    </tr>\n",
                            "    <tr>\n",
                            "      <th>3</th>\n",
                            "      <td>1</td>\n",
                            "      <td>1</td>\n",
                            "      <td>1</td>\n",
                            "      <td>2</td>\n",
                            "      <td>1</td>\n",
                            "      <td>0</td>\n",
                            "      <td>53.1000</td>\n",
                            "      <td>S</td>\n",
                            "      <td>3</td>\n",
                            "      <td>(32.0, 48.0]</td>\n",
                            "    </tr>\n",
                            "    <tr>\n",
                            "      <th>4</th>\n",
                            "      <td>0</td>\n",
                            "      <td>3</td>\n",
                            "      <td>0</td>\n",
                            "      <td>2</td>\n",
                            "      <td>0</td>\n",
                            "      <td>0</td>\n",
                            "      <td>8.0500</td>\n",
                            "      <td>S</td>\n",
                            "      <td>1</td>\n",
                            "      <td>(32.0, 48.0]</td>\n",
                            "    </tr>\n",
                            "  </tbody>\n",
                            "</table>\n",
                            "</div>"
                        ],
                        "text/plain": [
                            "   Survived  Pclass  Sex  Age  SibSp  Parch     Fare Embarked  Title  \\\n",
                            "0         0       3    0    1      1      0   7.2500        S      1   \n",
                            "1         1       1    1    2      1      0  71.2833        C      3   \n",
                            "2         1       3    1    1      0      0   7.9250        S      2   \n",
                            "3         1       1    1    2      1      0  53.1000        S      3   \n",
                            "4         0       3    0    2      0      0   8.0500        S      1   \n",
                            "\n",
                            "        AgeBand  \n",
                            "0  (16.0, 32.0]  \n",
                            "1  (32.0, 48.0]  \n",
                            "2  (16.0, 32.0]  \n",
                            "3  (32.0, 48.0]  \n",
                            "4  (32.0, 48.0]  "
                        ]
                    },
                    "execution_count": 24,
                    "metadata": {},
                    "output_type": "execute_result"
                }
            ],
            "source": [
                "for dataset in combine:    \n",
                "    dataset.loc[ dataset['Age'] <= 16, 'Age'] = 0\n",
                "    dataset.loc[(dataset['Age'] > 16) & (dataset['Age'] <= 32), 'Age'] = 1\n",
                "    dataset.loc[(dataset['Age'] > 32) & (dataset['Age'] <= 48), 'Age'] = 2\n",
                "    dataset.loc[(dataset['Age'] > 48) & (dataset['Age'] <= 64), 'Age'] = 3\n",
                "    dataset.loc[ dataset['Age'] > 64, 'Age']\n",
                "train_df.head()"
            ]
        },
        {
            "cell_type": "code",
            "execution_count": 25,
            "metadata": {
                "execution": {
                    "iopub.execute_input": "2020-08-15T18:03:12.270175Z",
                    "iopub.status.busy": "2020-08-15T18:03:12.269147Z",
                    "iopub.status.idle": "2020-08-15T18:03:12.275417Z",
                    "shell.execute_reply": "2020-08-15T18:03:12.274706Z"
                },
                "papermill": {
                    "duration": 0.081459,
                    "end_time": "2020-08-15T18:03:12.275580",
                    "exception": false,
                    "start_time": "2020-08-15T18:03:12.194121",
                    "status": "completed"
                },
                "tags": [
                    "process_data",
                    "check_results"
                ]
            },
            "outputs": [
                {
                    "data": {
                        "text/html": [
                            "<div>\n",
                            "<style scoped>\n",
                            "    .dataframe tbody tr th:only-of-type {\n",
                            "        vertical-align: middle;\n",
                            "    }\n",
                            "\n",
                            "    .dataframe tbody tr th {\n",
                            "        vertical-align: top;\n",
                            "    }\n",
                            "\n",
                            "    .dataframe thead th {\n",
                            "        text-align: right;\n",
                            "    }\n",
                            "</style>\n",
                            "<table border=\"1\" class=\"dataframe\">\n",
                            "  <thead>\n",
                            "    <tr style=\"text-align: right;\">\n",
                            "      <th></th>\n",
                            "      <th>Survived</th>\n",
                            "      <th>Pclass</th>\n",
                            "      <th>Sex</th>\n",
                            "      <th>Age</th>\n",
                            "      <th>SibSp</th>\n",
                            "      <th>Parch</th>\n",
                            "      <th>Fare</th>\n",
                            "      <th>Embarked</th>\n",
                            "      <th>Title</th>\n",
                            "    </tr>\n",
                            "  </thead>\n",
                            "  <tbody>\n",
                            "    <tr>\n",
                            "      <th>0</th>\n",
                            "      <td>0</td>\n",
                            "      <td>3</td>\n",
                            "      <td>0</td>\n",
                            "      <td>1</td>\n",
                            "      <td>1</td>\n",
                            "      <td>0</td>\n",
                            "      <td>7.2500</td>\n",
                            "      <td>S</td>\n",
                            "      <td>1</td>\n",
                            "    </tr>\n",
                            "    <tr>\n",
                            "      <th>1</th>\n",
                            "      <td>1</td>\n",
                            "      <td>1</td>\n",
                            "      <td>1</td>\n",
                            "      <td>2</td>\n",
                            "      <td>1</td>\n",
                            "      <td>0</td>\n",
                            "      <td>71.2833</td>\n",
                            "      <td>C</td>\n",
                            "      <td>3</td>\n",
                            "    </tr>\n",
                            "    <tr>\n",
                            "      <th>2</th>\n",
                            "      <td>1</td>\n",
                            "      <td>3</td>\n",
                            "      <td>1</td>\n",
                            "      <td>1</td>\n",
                            "      <td>0</td>\n",
                            "      <td>0</td>\n",
                            "      <td>7.9250</td>\n",
                            "      <td>S</td>\n",
                            "      <td>2</td>\n",
                            "    </tr>\n",
                            "    <tr>\n",
                            "      <th>3</th>\n",
                            "      <td>1</td>\n",
                            "      <td>1</td>\n",
                            "      <td>1</td>\n",
                            "      <td>2</td>\n",
                            "      <td>1</td>\n",
                            "      <td>0</td>\n",
                            "      <td>53.1000</td>\n",
                            "      <td>S</td>\n",
                            "      <td>3</td>\n",
                            "    </tr>\n",
                            "    <tr>\n",
                            "      <th>4</th>\n",
                            "      <td>0</td>\n",
                            "      <td>3</td>\n",
                            "      <td>0</td>\n",
                            "      <td>2</td>\n",
                            "      <td>0</td>\n",
                            "      <td>0</td>\n",
                            "      <td>8.0500</td>\n",
                            "      <td>S</td>\n",
                            "      <td>1</td>\n",
                            "    </tr>\n",
                            "  </tbody>\n",
                            "</table>\n",
                            "</div>"
                        ],
                        "text/plain": [
                            "   Survived  Pclass  Sex  Age  SibSp  Parch     Fare Embarked  Title\n",
                            "0         0       3    0    1      1      0   7.2500        S      1\n",
                            "1         1       1    1    2      1      0  71.2833        C      3\n",
                            "2         1       3    1    1      0      0   7.9250        S      2\n",
                            "3         1       1    1    2      1      0  53.1000        S      3\n",
                            "4         0       3    0    2      0      0   8.0500        S      1"
                        ]
                    },
                    "execution_count": 25,
                    "metadata": {},
                    "output_type": "execute_result"
                }
            ],
            "source": [
                "train_df=train_df.drop(['AgeBand'],axis=1)\n",
                "combine=[train_df,test_df]\n",
                "train_df.head()"
            ]
        },
        {
            "cell_type": "code",
            "execution_count": 26,
            "metadata": {
                "execution": {
                    "iopub.execute_input": "2020-08-15T18:03:12.400324Z",
                    "iopub.status.busy": "2020-08-15T18:03:12.399338Z",
                    "iopub.status.idle": "2020-08-15T18:03:12.417132Z",
                    "shell.execute_reply": "2020-08-15T18:03:12.416279Z"
                },
                "papermill": {
                    "duration": 0.085967,
                    "end_time": "2020-08-15T18:03:12.417289",
                    "exception": false,
                    "start_time": "2020-08-15T18:03:12.331322",
                    "status": "completed"
                },
                "tags": [
                    "process_data"
                ]
            },
            "outputs": [
                {
                    "data": {
                        "text/html": [
                            "<div>\n",
                            "<style scoped>\n",
                            "    .dataframe tbody tr th:only-of-type {\n",
                            "        vertical-align: middle;\n",
                            "    }\n",
                            "\n",
                            "    .dataframe tbody tr th {\n",
                            "        vertical-align: top;\n",
                            "    }\n",
                            "\n",
                            "    .dataframe thead th {\n",
                            "        text-align: right;\n",
                            "    }\n",
                            "</style>\n",
                            "<table border=\"1\" class=\"dataframe\">\n",
                            "  <thead>\n",
                            "    <tr style=\"text-align: right;\">\n",
                            "      <th></th>\n",
                            "      <th>FamilySize</th>\n",
                            "      <th>Survived</th>\n",
                            "    </tr>\n",
                            "  </thead>\n",
                            "  <tbody>\n",
                            "    <tr>\n",
                            "      <th>3</th>\n",
                            "      <td>4</td>\n",
                            "      <td>0.724138</td>\n",
                            "    </tr>\n",
                            "    <tr>\n",
                            "      <th>2</th>\n",
                            "      <td>3</td>\n",
                            "      <td>0.578431</td>\n",
                            "    </tr>\n",
                            "    <tr>\n",
                            "      <th>1</th>\n",
                            "      <td>2</td>\n",
                            "      <td>0.552795</td>\n",
                            "    </tr>\n",
                            "    <tr>\n",
                            "      <th>6</th>\n",
                            "      <td>7</td>\n",
                            "      <td>0.333333</td>\n",
                            "    </tr>\n",
                            "    <tr>\n",
                            "      <th>0</th>\n",
                            "      <td>1</td>\n",
                            "      <td>0.303538</td>\n",
                            "    </tr>\n",
                            "    <tr>\n",
                            "      <th>4</th>\n",
                            "      <td>5</td>\n",
                            "      <td>0.200000</td>\n",
                            "    </tr>\n",
                            "    <tr>\n",
                            "      <th>5</th>\n",
                            "      <td>6</td>\n",
                            "      <td>0.136364</td>\n",
                            "    </tr>\n",
                            "    <tr>\n",
                            "      <th>7</th>\n",
                            "      <td>8</td>\n",
                            "      <td>0.000000</td>\n",
                            "    </tr>\n",
                            "    <tr>\n",
                            "      <th>8</th>\n",
                            "      <td>11</td>\n",
                            "      <td>0.000000</td>\n",
                            "    </tr>\n",
                            "  </tbody>\n",
                            "</table>\n",
                            "</div>"
                        ],
                        "text/plain": [
                            "   FamilySize  Survived\n",
                            "3           4  0.724138\n",
                            "2           3  0.578431\n",
                            "1           2  0.552795\n",
                            "6           7  0.333333\n",
                            "0           1  0.303538\n",
                            "4           5  0.200000\n",
                            "5           6  0.136364\n",
                            "7           8  0.000000\n",
                            "8          11  0.000000"
                        ]
                    },
                    "execution_count": 26,
                    "metadata": {},
                    "output_type": "execute_result"
                }
            ],
            "source": [
                "for dataset in combine:\n",
                "    dataset['FamilySize']=dataset['SibSp']+dataset['Parch']+1\n",
                "train_df[['FamilySize','Survived']].groupby(['FamilySize'],as_index=False).mean().sort_values(by='Survived',ascending=False) \n"
            ]
        },
        {
            "cell_type": "code",
            "execution_count": 27,
            "metadata": {
                "execution": {
                    "iopub.execute_input": "2020-08-15T18:03:12.547102Z",
                    "iopub.status.busy": "2020-08-15T18:03:12.543325Z",
                    "iopub.status.idle": "2020-08-15T18:03:12.561355Z",
                    "shell.execute_reply": "2020-08-15T18:03:12.560484Z"
                },
                "papermill": {
                    "duration": 0.087045,
                    "end_time": "2020-08-15T18:03:12.561523",
                    "exception": false,
                    "start_time": "2020-08-15T18:03:12.474478",
                    "status": "completed"
                },
                "tags": [
                    "process_data"
                ]
            },
            "outputs": [
                {
                    "data": {
                        "text/html": [
                            "<div>\n",
                            "<style scoped>\n",
                            "    .dataframe tbody tr th:only-of-type {\n",
                            "        vertical-align: middle;\n",
                            "    }\n",
                            "\n",
                            "    .dataframe tbody tr th {\n",
                            "        vertical-align: top;\n",
                            "    }\n",
                            "\n",
                            "    .dataframe thead th {\n",
                            "        text-align: right;\n",
                            "    }\n",
                            "</style>\n",
                            "<table border=\"1\" class=\"dataframe\">\n",
                            "  <thead>\n",
                            "    <tr style=\"text-align: right;\">\n",
                            "      <th></th>\n",
                            "      <th>IsAlone</th>\n",
                            "      <th>Survived</th>\n",
                            "    </tr>\n",
                            "  </thead>\n",
                            "  <tbody>\n",
                            "    <tr>\n",
                            "      <th>0</th>\n",
                            "      <td>0</td>\n",
                            "      <td>0.505650</td>\n",
                            "    </tr>\n",
                            "    <tr>\n",
                            "      <th>1</th>\n",
                            "      <td>1</td>\n",
                            "      <td>0.303538</td>\n",
                            "    </tr>\n",
                            "  </tbody>\n",
                            "</table>\n",
                            "</div>"
                        ],
                        "text/plain": [
                            "   IsAlone  Survived\n",
                            "0        0  0.505650\n",
                            "1        1  0.303538"
                        ]
                    },
                    "execution_count": 27,
                    "metadata": {},
                    "output_type": "execute_result"
                }
            ],
            "source": [
                "for dataset in combine:\n",
                "    dataset['IsAlone'] = 0\n",
                "    dataset.loc[dataset['FamilySize'] == 1, 'IsAlone'] = 1\n",
                "\n",
                "train_df[['IsAlone', 'Survived']].groupby(['IsAlone'], as_index=False).mean()"
            ]
        },
        {
            "cell_type": "code",
            "execution_count": 28,
            "metadata": {
                "execution": {
                    "iopub.execute_input": "2020-08-15T18:03:12.698064Z",
                    "iopub.status.busy": "2020-08-15T18:03:12.692152Z",
                    "iopub.status.idle": "2020-08-15T18:03:12.704140Z",
                    "shell.execute_reply": "2020-08-15T18:03:12.703094Z"
                },
                "papermill": {
                    "duration": 0.085319,
                    "end_time": "2020-08-15T18:03:12.704325",
                    "exception": false,
                    "start_time": "2020-08-15T18:03:12.619006",
                    "status": "completed"
                },
                "tags": [
                    "process_data",
                    "check_results"
                ]
            },
            "outputs": [
                {
                    "data": {
                        "text/html": [
                            "<div>\n",
                            "<style scoped>\n",
                            "    .dataframe tbody tr th:only-of-type {\n",
                            "        vertical-align: middle;\n",
                            "    }\n",
                            "\n",
                            "    .dataframe tbody tr th {\n",
                            "        vertical-align: top;\n",
                            "    }\n",
                            "\n",
                            "    .dataframe thead th {\n",
                            "        text-align: right;\n",
                            "    }\n",
                            "</style>\n",
                            "<table border=\"1\" class=\"dataframe\">\n",
                            "  <thead>\n",
                            "    <tr style=\"text-align: right;\">\n",
                            "      <th></th>\n",
                            "      <th>Survived</th>\n",
                            "      <th>Pclass</th>\n",
                            "      <th>Sex</th>\n",
                            "      <th>Age</th>\n",
                            "      <th>Fare</th>\n",
                            "      <th>Embarked</th>\n",
                            "      <th>Title</th>\n",
                            "      <th>IsAlone</th>\n",
                            "    </tr>\n",
                            "  </thead>\n",
                            "  <tbody>\n",
                            "    <tr>\n",
                            "      <th>0</th>\n",
                            "      <td>0</td>\n",
                            "      <td>3</td>\n",
                            "      <td>0</td>\n",
                            "      <td>1</td>\n",
                            "      <td>7.2500</td>\n",
                            "      <td>S</td>\n",
                            "      <td>1</td>\n",
                            "      <td>0</td>\n",
                            "    </tr>\n",
                            "    <tr>\n",
                            "      <th>1</th>\n",
                            "      <td>1</td>\n",
                            "      <td>1</td>\n",
                            "      <td>1</td>\n",
                            "      <td>2</td>\n",
                            "      <td>71.2833</td>\n",
                            "      <td>C</td>\n",
                            "      <td>3</td>\n",
                            "      <td>0</td>\n",
                            "    </tr>\n",
                            "    <tr>\n",
                            "      <th>2</th>\n",
                            "      <td>1</td>\n",
                            "      <td>3</td>\n",
                            "      <td>1</td>\n",
                            "      <td>1</td>\n",
                            "      <td>7.9250</td>\n",
                            "      <td>S</td>\n",
                            "      <td>2</td>\n",
                            "      <td>1</td>\n",
                            "    </tr>\n",
                            "    <tr>\n",
                            "      <th>3</th>\n",
                            "      <td>1</td>\n",
                            "      <td>1</td>\n",
                            "      <td>1</td>\n",
                            "      <td>2</td>\n",
                            "      <td>53.1000</td>\n",
                            "      <td>S</td>\n",
                            "      <td>3</td>\n",
                            "      <td>0</td>\n",
                            "    </tr>\n",
                            "    <tr>\n",
                            "      <th>4</th>\n",
                            "      <td>0</td>\n",
                            "      <td>3</td>\n",
                            "      <td>0</td>\n",
                            "      <td>2</td>\n",
                            "      <td>8.0500</td>\n",
                            "      <td>S</td>\n",
                            "      <td>1</td>\n",
                            "      <td>1</td>\n",
                            "    </tr>\n",
                            "  </tbody>\n",
                            "</table>\n",
                            "</div>"
                        ],
                        "text/plain": [
                            "   Survived  Pclass  Sex  Age     Fare Embarked  Title  IsAlone\n",
                            "0         0       3    0    1   7.2500        S      1        0\n",
                            "1         1       1    1    2  71.2833        C      3        0\n",
                            "2         1       3    1    1   7.9250        S      2        1\n",
                            "3         1       1    1    2  53.1000        S      3        0\n",
                            "4         0       3    0    2   8.0500        S      1        1"
                        ]
                    },
                    "execution_count": 28,
                    "metadata": {},
                    "output_type": "execute_result"
                }
            ],
            "source": [
                "train_df=train_df.drop(['Parch','SibSp','FamilySize'],axis=1)\n",
                "test_df=test_df.drop(['Parch','SibSp','FamilySize'],axis=1)\n",
                "combine=[train_df,test_df]\n",
                "train_df.head()\n"
            ]
        },
        {
            "cell_type": "code",
            "execution_count": 29,
            "metadata": {
                "execution": {
                    "iopub.execute_input": "2020-08-15T18:03:12.843498Z",
                    "iopub.status.busy": "2020-08-15T18:03:12.835501Z",
                    "iopub.status.idle": "2020-08-15T18:03:12.849506Z",
                    "shell.execute_reply": "2020-08-15T18:03:12.848787Z"
                },
                "papermill": {
                    "duration": 0.084999,
                    "end_time": "2020-08-15T18:03:12.849659",
                    "exception": false,
                    "start_time": "2020-08-15T18:03:12.764660",
                    "status": "completed"
                },
                "tags": [
                    "process_data",
                    "check_results"
                ]
            },
            "outputs": [
                {
                    "data": {
                        "text/html": [
                            "<div>\n",
                            "<style scoped>\n",
                            "    .dataframe tbody tr th:only-of-type {\n",
                            "        vertical-align: middle;\n",
                            "    }\n",
                            "\n",
                            "    .dataframe tbody tr th {\n",
                            "        vertical-align: top;\n",
                            "    }\n",
                            "\n",
                            "    .dataframe thead th {\n",
                            "        text-align: right;\n",
                            "    }\n",
                            "</style>\n",
                            "<table border=\"1\" class=\"dataframe\">\n",
                            "  <thead>\n",
                            "    <tr style=\"text-align: right;\">\n",
                            "      <th></th>\n",
                            "      <th>Age*Class</th>\n",
                            "      <th>Age</th>\n",
                            "      <th>Pclass</th>\n",
                            "    </tr>\n",
                            "  </thead>\n",
                            "  <tbody>\n",
                            "    <tr>\n",
                            "      <th>0</th>\n",
                            "      <td>3</td>\n",
                            "      <td>1</td>\n",
                            "      <td>3</td>\n",
                            "    </tr>\n",
                            "    <tr>\n",
                            "      <th>1</th>\n",
                            "      <td>2</td>\n",
                            "      <td>2</td>\n",
                            "      <td>1</td>\n",
                            "    </tr>\n",
                            "    <tr>\n",
                            "      <th>2</th>\n",
                            "      <td>3</td>\n",
                            "      <td>1</td>\n",
                            "      <td>3</td>\n",
                            "    </tr>\n",
                            "    <tr>\n",
                            "      <th>3</th>\n",
                            "      <td>2</td>\n",
                            "      <td>2</td>\n",
                            "      <td>1</td>\n",
                            "    </tr>\n",
                            "    <tr>\n",
                            "      <th>4</th>\n",
                            "      <td>6</td>\n",
                            "      <td>2</td>\n",
                            "      <td>3</td>\n",
                            "    </tr>\n",
                            "    <tr>\n",
                            "      <th>5</th>\n",
                            "      <td>3</td>\n",
                            "      <td>1</td>\n",
                            "      <td>3</td>\n",
                            "    </tr>\n",
                            "    <tr>\n",
                            "      <th>6</th>\n",
                            "      <td>3</td>\n",
                            "      <td>3</td>\n",
                            "      <td>1</td>\n",
                            "    </tr>\n",
                            "    <tr>\n",
                            "      <th>7</th>\n",
                            "      <td>0</td>\n",
                            "      <td>0</td>\n",
                            "      <td>3</td>\n",
                            "    </tr>\n",
                            "    <tr>\n",
                            "      <th>8</th>\n",
                            "      <td>3</td>\n",
                            "      <td>1</td>\n",
                            "      <td>3</td>\n",
                            "    </tr>\n",
                            "    <tr>\n",
                            "      <th>9</th>\n",
                            "      <td>0</td>\n",
                            "      <td>0</td>\n",
                            "      <td>2</td>\n",
                            "    </tr>\n",
                            "  </tbody>\n",
                            "</table>\n",
                            "</div>"
                        ],
                        "text/plain": [
                            "   Age*Class  Age  Pclass\n",
                            "0          3    1       3\n",
                            "1          2    2       1\n",
                            "2          3    1       3\n",
                            "3          2    2       1\n",
                            "4          6    2       3\n",
                            "5          3    1       3\n",
                            "6          3    3       1\n",
                            "7          0    0       3\n",
                            "8          3    1       3\n",
                            "9          0    0       2"
                        ]
                    },
                    "execution_count": 29,
                    "metadata": {},
                    "output_type": "execute_result"
                }
            ],
            "source": [
                "for dataset in combine:\n",
                "    dataset['Age*Class'] = dataset.Age * dataset.Pclass\n",
                "\n",
                "train_df.loc[:, ['Age*Class', 'Age', 'Pclass']].head(10)"
            ]
        },
        {
            "cell_type": "code",
            "execution_count": 30,
            "metadata": {
                "execution": {
                    "iopub.execute_input": "2020-08-15T18:03:12.978907Z",
                    "iopub.status.busy": "2020-08-15T18:03:12.977616Z",
                    "iopub.status.idle": "2020-08-15T18:03:12.983122Z",
                    "shell.execute_reply": "2020-08-15T18:03:12.982383Z"
                },
                "papermill": {
                    "duration": 0.073457,
                    "end_time": "2020-08-15T18:03:12.983279",
                    "exception": false,
                    "start_time": "2020-08-15T18:03:12.909822",
                    "status": "completed"
                },
                "tags": [
                    "process_data",
                    "check_results"
                ]
            },
            "outputs": [
                {
                    "data": {
                        "text/plain": [
                            "'S'"
                        ]
                    },
                    "execution_count": 30,
                    "metadata": {},
                    "output_type": "execute_result"
                }
            ],
            "source": [
                "freq_port=train_df.Embarked.dropna().mode()[0]\n",
                "freq_port"
            ]
        },
        {
            "cell_type": "code",
            "execution_count": 31,
            "metadata": {
                "execution": {
                    "iopub.execute_input": "2020-08-15T18:03:13.117920Z",
                    "iopub.status.busy": "2020-08-15T18:03:13.116640Z",
                    "iopub.status.idle": "2020-08-15T18:03:13.132637Z",
                    "shell.execute_reply": "2020-08-15T18:03:13.131846Z"
                },
                "papermill": {
                    "duration": 0.089417,
                    "end_time": "2020-08-15T18:03:13.132819",
                    "exception": false,
                    "start_time": "2020-08-15T18:03:13.043402",
                    "status": "completed"
                },
                "tags": [
                    "process_data"
                ]
            },
            "outputs": [
                {
                    "data": {
                        "text/html": [
                            "<div>\n",
                            "<style scoped>\n",
                            "    .dataframe tbody tr th:only-of-type {\n",
                            "        vertical-align: middle;\n",
                            "    }\n",
                            "\n",
                            "    .dataframe tbody tr th {\n",
                            "        vertical-align: top;\n",
                            "    }\n",
                            "\n",
                            "    .dataframe thead th {\n",
                            "        text-align: right;\n",
                            "    }\n",
                            "</style>\n",
                            "<table border=\"1\" class=\"dataframe\">\n",
                            "  <thead>\n",
                            "    <tr style=\"text-align: right;\">\n",
                            "      <th></th>\n",
                            "      <th>Embarked</th>\n",
                            "      <th>Survived</th>\n",
                            "    </tr>\n",
                            "  </thead>\n",
                            "  <tbody>\n",
                            "    <tr>\n",
                            "      <th>0</th>\n",
                            "      <td>C</td>\n",
                            "      <td>0.553571</td>\n",
                            "    </tr>\n",
                            "    <tr>\n",
                            "      <th>1</th>\n",
                            "      <td>Q</td>\n",
                            "      <td>0.389610</td>\n",
                            "    </tr>\n",
                            "    <tr>\n",
                            "      <th>2</th>\n",
                            "      <td>S</td>\n",
                            "      <td>0.339009</td>\n",
                            "    </tr>\n",
                            "  </tbody>\n",
                            "</table>\n",
                            "</div>"
                        ],
                        "text/plain": [
                            "  Embarked  Survived\n",
                            "0        C  0.553571\n",
                            "1        Q  0.389610\n",
                            "2        S  0.339009"
                        ]
                    },
                    "execution_count": 31,
                    "metadata": {},
                    "output_type": "execute_result"
                }
            ],
            "source": [
                "for dataset in combine:\n",
                "    dataset['Embarked']=dataset['Embarked'].fillna(freq_port)\n",
                "train_df[['Embarked', 'Survived']].groupby(['Embarked'], as_index=False).mean().sort_values(by='Survived', ascending=False)"
            ]
        },
        {
            "cell_type": "code",
            "execution_count": 32,
            "metadata": {
                "execution": {
                    "iopub.execute_input": "2020-08-15T18:03:13.275341Z",
                    "iopub.status.busy": "2020-08-15T18:03:13.274064Z",
                    "iopub.status.idle": "2020-08-15T18:03:13.280656Z",
                    "shell.execute_reply": "2020-08-15T18:03:13.279673Z"
                },
                "papermill": {
                    "duration": 0.087187,
                    "end_time": "2020-08-15T18:03:13.280853",
                    "exception": false,
                    "start_time": "2020-08-15T18:03:13.193666",
                    "status": "completed"
                },
                "tags": [
                    "process_data",
                    "check_results"
                ]
            },
            "outputs": [
                {
                    "data": {
                        "text/html": [
                            "<div>\n",
                            "<style scoped>\n",
                            "    .dataframe tbody tr th:only-of-type {\n",
                            "        vertical-align: middle;\n",
                            "    }\n",
                            "\n",
                            "    .dataframe tbody tr th {\n",
                            "        vertical-align: top;\n",
                            "    }\n",
                            "\n",
                            "    .dataframe thead th {\n",
                            "        text-align: right;\n",
                            "    }\n",
                            "</style>\n",
                            "<table border=\"1\" class=\"dataframe\">\n",
                            "  <thead>\n",
                            "    <tr style=\"text-align: right;\">\n",
                            "      <th></th>\n",
                            "      <th>Survived</th>\n",
                            "      <th>Pclass</th>\n",
                            "      <th>Sex</th>\n",
                            "      <th>Age</th>\n",
                            "      <th>Fare</th>\n",
                            "      <th>Embarked</th>\n",
                            "      <th>Title</th>\n",
                            "      <th>IsAlone</th>\n",
                            "      <th>Age*Class</th>\n",
                            "    </tr>\n",
                            "  </thead>\n",
                            "  <tbody>\n",
                            "    <tr>\n",
                            "      <th>0</th>\n",
                            "      <td>0</td>\n",
                            "      <td>3</td>\n",
                            "      <td>0</td>\n",
                            "      <td>1</td>\n",
                            "      <td>7.2500</td>\n",
                            "      <td>0</td>\n",
                            "      <td>1</td>\n",
                            "      <td>0</td>\n",
                            "      <td>3</td>\n",
                            "    </tr>\n",
                            "    <tr>\n",
                            "      <th>1</th>\n",
                            "      <td>1</td>\n",
                            "      <td>1</td>\n",
                            "      <td>1</td>\n",
                            "      <td>2</td>\n",
                            "      <td>71.2833</td>\n",
                            "      <td>1</td>\n",
                            "      <td>3</td>\n",
                            "      <td>0</td>\n",
                            "      <td>2</td>\n",
                            "    </tr>\n",
                            "    <tr>\n",
                            "      <th>2</th>\n",
                            "      <td>1</td>\n",
                            "      <td>3</td>\n",
                            "      <td>1</td>\n",
                            "      <td>1</td>\n",
                            "      <td>7.9250</td>\n",
                            "      <td>0</td>\n",
                            "      <td>2</td>\n",
                            "      <td>1</td>\n",
                            "      <td>3</td>\n",
                            "    </tr>\n",
                            "    <tr>\n",
                            "      <th>3</th>\n",
                            "      <td>1</td>\n",
                            "      <td>1</td>\n",
                            "      <td>1</td>\n",
                            "      <td>2</td>\n",
                            "      <td>53.1000</td>\n",
                            "      <td>0</td>\n",
                            "      <td>3</td>\n",
                            "      <td>0</td>\n",
                            "      <td>2</td>\n",
                            "    </tr>\n",
                            "    <tr>\n",
                            "      <th>4</th>\n",
                            "      <td>0</td>\n",
                            "      <td>3</td>\n",
                            "      <td>0</td>\n",
                            "      <td>2</td>\n",
                            "      <td>8.0500</td>\n",
                            "      <td>0</td>\n",
                            "      <td>1</td>\n",
                            "      <td>1</td>\n",
                            "      <td>6</td>\n",
                            "    </tr>\n",
                            "  </tbody>\n",
                            "</table>\n",
                            "</div>"
                        ],
                        "text/plain": [
                            "   Survived  Pclass  Sex  Age     Fare  Embarked  Title  IsAlone  Age*Class\n",
                            "0         0       3    0    1   7.2500         0      1        0          3\n",
                            "1         1       1    1    2  71.2833         1      3        0          2\n",
                            "2         1       3    1    1   7.9250         0      2        1          3\n",
                            "3         1       1    1    2  53.1000         0      3        0          2\n",
                            "4         0       3    0    2   8.0500         0      1        1          6"
                        ]
                    },
                    "execution_count": 32,
                    "metadata": {},
                    "output_type": "execute_result"
                }
            ],
            "source": [
                "for dataset in combine:\n",
                "    dataset['Embarked'] = dataset['Embarked'].map( {'S': 0, 'C': 1, 'Q': 2} ).astype(int)\n",
                "\n",
                "train_df.head()"
            ]
        },
        {
            "cell_type": "code",
            "execution_count": 33,
            "metadata": {
                "execution": {
                    "iopub.execute_input": "2020-08-15T18:03:13.413944Z",
                    "iopub.status.busy": "2020-08-15T18:03:13.410513Z",
                    "iopub.status.idle": "2020-08-15T18:03:13.420439Z",
                    "shell.execute_reply": "2020-08-15T18:03:13.419510Z"
                },
                "papermill": {
                    "duration": 0.078501,
                    "end_time": "2020-08-15T18:03:13.420606",
                    "exception": false,
                    "start_time": "2020-08-15T18:03:13.342105",
                    "status": "completed"
                },
                "tags": [
                    "check_results"
                ]
            },
            "outputs": [
                {
                    "data": {
                        "text/plain": [
                            "PassengerId    0\n",
                            "Pclass         0\n",
                            "Sex            0\n",
                            "Age            0\n",
                            "Fare           1\n",
                            "Embarked       0\n",
                            "Title          0\n",
                            "IsAlone        0\n",
                            "Age*Class      0\n",
                            "dtype: int64"
                        ]
                    },
                    "execution_count": 33,
                    "metadata": {},
                    "output_type": "execute_result"
                }
            ],
            "source": [
                "test_df.isnull().sum()"
            ]
        },
        {
            "cell_type": "code",
            "execution_count": 34,
            "metadata": {
                "execution": {
                    "iopub.execute_input": "2020-08-15T18:03:13.566330Z",
                    "iopub.status.busy": "2020-08-15T18:03:13.565189Z",
                    "iopub.status.idle": "2020-08-15T18:03:13.570395Z",
                    "shell.execute_reply": "2020-08-15T18:03:13.571053Z"
                },
                "papermill": {
                    "duration": 0.088263,
                    "end_time": "2020-08-15T18:03:13.571290",
                    "exception": false,
                    "start_time": "2020-08-15T18:03:13.483027",
                    "status": "completed"
                },
                "tags": [
                    "process_data",
                    "check_results"
                ]
            },
            "outputs": [
                {
                    "data": {
                        "text/html": [
                            "<div>\n",
                            "<style scoped>\n",
                            "    .dataframe tbody tr th:only-of-type {\n",
                            "        vertical-align: middle;\n",
                            "    }\n",
                            "\n",
                            "    .dataframe tbody tr th {\n",
                            "        vertical-align: top;\n",
                            "    }\n",
                            "\n",
                            "    .dataframe thead th {\n",
                            "        text-align: right;\n",
                            "    }\n",
                            "</style>\n",
                            "<table border=\"1\" class=\"dataframe\">\n",
                            "  <thead>\n",
                            "    <tr style=\"text-align: right;\">\n",
                            "      <th></th>\n",
                            "      <th>PassengerId</th>\n",
                            "      <th>Pclass</th>\n",
                            "      <th>Sex</th>\n",
                            "      <th>Age</th>\n",
                            "      <th>Fare</th>\n",
                            "      <th>Embarked</th>\n",
                            "      <th>Title</th>\n",
                            "      <th>IsAlone</th>\n",
                            "      <th>Age*Class</th>\n",
                            "    </tr>\n",
                            "  </thead>\n",
                            "  <tbody>\n",
                            "    <tr>\n",
                            "      <th>0</th>\n",
                            "      <td>892</td>\n",
                            "      <td>3</td>\n",
                            "      <td>0</td>\n",
                            "      <td>2</td>\n",
                            "      <td>7.8292</td>\n",
                            "      <td>2</td>\n",
                            "      <td>1</td>\n",
                            "      <td>1</td>\n",
                            "      <td>6</td>\n",
                            "    </tr>\n",
                            "    <tr>\n",
                            "      <th>1</th>\n",
                            "      <td>893</td>\n",
                            "      <td>3</td>\n",
                            "      <td>1</td>\n",
                            "      <td>2</td>\n",
                            "      <td>7.0000</td>\n",
                            "      <td>0</td>\n",
                            "      <td>3</td>\n",
                            "      <td>0</td>\n",
                            "      <td>6</td>\n",
                            "    </tr>\n",
                            "    <tr>\n",
                            "      <th>2</th>\n",
                            "      <td>894</td>\n",
                            "      <td>2</td>\n",
                            "      <td>0</td>\n",
                            "      <td>3</td>\n",
                            "      <td>9.6875</td>\n",
                            "      <td>2</td>\n",
                            "      <td>1</td>\n",
                            "      <td>1</td>\n",
                            "      <td>6</td>\n",
                            "    </tr>\n",
                            "    <tr>\n",
                            "      <th>3</th>\n",
                            "      <td>895</td>\n",
                            "      <td>3</td>\n",
                            "      <td>0</td>\n",
                            "      <td>1</td>\n",
                            "      <td>8.6625</td>\n",
                            "      <td>0</td>\n",
                            "      <td>1</td>\n",
                            "      <td>1</td>\n",
                            "      <td>3</td>\n",
                            "    </tr>\n",
                            "    <tr>\n",
                            "      <th>4</th>\n",
                            "      <td>896</td>\n",
                            "      <td>3</td>\n",
                            "      <td>1</td>\n",
                            "      <td>1</td>\n",
                            "      <td>12.2875</td>\n",
                            "      <td>0</td>\n",
                            "      <td>3</td>\n",
                            "      <td>0</td>\n",
                            "      <td>3</td>\n",
                            "    </tr>\n",
                            "  </tbody>\n",
                            "</table>\n",
                            "</div>"
                        ],
                        "text/plain": [
                            "   PassengerId  Pclass  Sex  Age     Fare  Embarked  Title  IsAlone  Age*Class\n",
                            "0          892       3    0    2   7.8292         2      1        1          6\n",
                            "1          893       3    1    2   7.0000         0      3        0          6\n",
                            "2          894       2    0    3   9.6875         2      1        1          6\n",
                            "3          895       3    0    1   8.6625         0      1        1          3\n",
                            "4          896       3    1    1  12.2875         0      3        0          3"
                        ]
                    },
                    "execution_count": 34,
                    "metadata": {},
                    "output_type": "execute_result"
                }
            ],
            "source": [
                "test_df['Fare'].fillna(test_df['Fare'].dropna().median(), inplace=True)\n",
                "test_df.head()"
            ]
        },
        {
            "cell_type": "code",
            "execution_count": 35,
            "metadata": {
                "execution": {
                    "iopub.execute_input": "2020-08-15T18:03:13.709962Z",
                    "iopub.status.busy": "2020-08-15T18:03:13.709102Z",
                    "iopub.status.idle": "2020-08-15T18:03:13.731522Z",
                    "shell.execute_reply": "2020-08-15T18:03:13.730787Z"
                },
                "papermill": {
                    "duration": 0.098071,
                    "end_time": "2020-08-15T18:03:13.731694",
                    "exception": false,
                    "start_time": "2020-08-15T18:03:13.633623",
                    "status": "completed"
                },
                "tags": [
                    "process_data"
                ]
            },
            "outputs": [
                {
                    "data": {
                        "text/html": [
                            "<div>\n",
                            "<style scoped>\n",
                            "    .dataframe tbody tr th:only-of-type {\n",
                            "        vertical-align: middle;\n",
                            "    }\n",
                            "\n",
                            "    .dataframe tbody tr th {\n",
                            "        vertical-align: top;\n",
                            "    }\n",
                            "\n",
                            "    .dataframe thead th {\n",
                            "        text-align: right;\n",
                            "    }\n",
                            "</style>\n",
                            "<table border=\"1\" class=\"dataframe\">\n",
                            "  <thead>\n",
                            "    <tr style=\"text-align: right;\">\n",
                            "      <th></th>\n",
                            "      <th>FareBand</th>\n",
                            "      <th>Survived</th>\n",
                            "    </tr>\n",
                            "  </thead>\n",
                            "  <tbody>\n",
                            "    <tr>\n",
                            "      <th>0</th>\n",
                            "      <td>(-0.001, 7.91]</td>\n",
                            "      <td>0.197309</td>\n",
                            "    </tr>\n",
                            "    <tr>\n",
                            "      <th>1</th>\n",
                            "      <td>(7.91, 14.454]</td>\n",
                            "      <td>0.303571</td>\n",
                            "    </tr>\n",
                            "    <tr>\n",
                            "      <th>2</th>\n",
                            "      <td>(14.454, 31.0]</td>\n",
                            "      <td>0.454955</td>\n",
                            "    </tr>\n",
                            "    <tr>\n",
                            "      <th>3</th>\n",
                            "      <td>(31.0, 512.329]</td>\n",
                            "      <td>0.581081</td>\n",
                            "    </tr>\n",
                            "  </tbody>\n",
                            "</table>\n",
                            "</div>"
                        ],
                        "text/plain": [
                            "          FareBand  Survived\n",
                            "0   (-0.001, 7.91]  0.197309\n",
                            "1   (7.91, 14.454]  0.303571\n",
                            "2   (14.454, 31.0]  0.454955\n",
                            "3  (31.0, 512.329]  0.581081"
                        ]
                    },
                    "execution_count": 35,
                    "metadata": {},
                    "output_type": "execute_result"
                }
            ],
            "source": [
                "train_df['FareBand'] = pd.qcut(train_df['Fare'], 4)\n",
                "train_df[['FareBand', 'Survived']].groupby(['FareBand'], as_index=False).mean().sort_values(by='FareBand', ascending=True)"
            ]
        },
        {
            "cell_type": "code",
            "execution_count": 36,
            "metadata": {
                "execution": {
                    "iopub.execute_input": "2020-08-15T18:03:13.884276Z",
                    "iopub.status.busy": "2020-08-15T18:03:13.883246Z",
                    "iopub.status.idle": "2020-08-15T18:03:13.907702Z",
                    "shell.execute_reply": "2020-08-15T18:03:13.906845Z"
                },
                "papermill": {
                    "duration": 0.105973,
                    "end_time": "2020-08-15T18:03:13.907881",
                    "exception": false,
                    "start_time": "2020-08-15T18:03:13.801908",
                    "status": "completed"
                },
                "tags": [
                    "process_data",
                    "check_results"
                ]
            },
            "outputs": [
                {
                    "data": {
                        "text/html": [
                            "<div>\n",
                            "<style scoped>\n",
                            "    .dataframe tbody tr th:only-of-type {\n",
                            "        vertical-align: middle;\n",
                            "    }\n",
                            "\n",
                            "    .dataframe tbody tr th {\n",
                            "        vertical-align: top;\n",
                            "    }\n",
                            "\n",
                            "    .dataframe thead th {\n",
                            "        text-align: right;\n",
                            "    }\n",
                            "</style>\n",
                            "<table border=\"1\" class=\"dataframe\">\n",
                            "  <thead>\n",
                            "    <tr style=\"text-align: right;\">\n",
                            "      <th></th>\n",
                            "      <th>Survived</th>\n",
                            "      <th>Pclass</th>\n",
                            "      <th>Sex</th>\n",
                            "      <th>Age</th>\n",
                            "      <th>Fare</th>\n",
                            "      <th>Embarked</th>\n",
                            "      <th>Title</th>\n",
                            "      <th>IsAlone</th>\n",
                            "      <th>Age*Class</th>\n",
                            "    </tr>\n",
                            "  </thead>\n",
                            "  <tbody>\n",
                            "    <tr>\n",
                            "      <th>0</th>\n",
                            "      <td>0</td>\n",
                            "      <td>3</td>\n",
                            "      <td>0</td>\n",
                            "      <td>1</td>\n",
                            "      <td>0</td>\n",
                            "      <td>0</td>\n",
                            "      <td>1</td>\n",
                            "      <td>0</td>\n",
                            "      <td>3</td>\n",
                            "    </tr>\n",
                            "    <tr>\n",
                            "      <th>1</th>\n",
                            "      <td>1</td>\n",
                            "      <td>1</td>\n",
                            "      <td>1</td>\n",
                            "      <td>2</td>\n",
                            "      <td>3</td>\n",
                            "      <td>1</td>\n",
                            "      <td>3</td>\n",
                            "      <td>0</td>\n",
                            "      <td>2</td>\n",
                            "    </tr>\n",
                            "    <tr>\n",
                            "      <th>2</th>\n",
                            "      <td>1</td>\n",
                            "      <td>3</td>\n",
                            "      <td>1</td>\n",
                            "      <td>1</td>\n",
                            "      <td>1</td>\n",
                            "      <td>0</td>\n",
                            "      <td>2</td>\n",
                            "      <td>1</td>\n",
                            "      <td>3</td>\n",
                            "    </tr>\n",
                            "    <tr>\n",
                            "      <th>3</th>\n",
                            "      <td>1</td>\n",
                            "      <td>1</td>\n",
                            "      <td>1</td>\n",
                            "      <td>2</td>\n",
                            "      <td>3</td>\n",
                            "      <td>0</td>\n",
                            "      <td>3</td>\n",
                            "      <td>0</td>\n",
                            "      <td>2</td>\n",
                            "    </tr>\n",
                            "    <tr>\n",
                            "      <th>4</th>\n",
                            "      <td>0</td>\n",
                            "      <td>3</td>\n",
                            "      <td>0</td>\n",
                            "      <td>2</td>\n",
                            "      <td>1</td>\n",
                            "      <td>0</td>\n",
                            "      <td>1</td>\n",
                            "      <td>1</td>\n",
                            "      <td>6</td>\n",
                            "    </tr>\n",
                            "    <tr>\n",
                            "      <th>5</th>\n",
                            "      <td>0</td>\n",
                            "      <td>3</td>\n",
                            "      <td>0</td>\n",
                            "      <td>1</td>\n",
                            "      <td>1</td>\n",
                            "      <td>2</td>\n",
                            "      <td>1</td>\n",
                            "      <td>1</td>\n",
                            "      <td>3</td>\n",
                            "    </tr>\n",
                            "    <tr>\n",
                            "      <th>6</th>\n",
                            "      <td>0</td>\n",
                            "      <td>1</td>\n",
                            "      <td>0</td>\n",
                            "      <td>3</td>\n",
                            "      <td>3</td>\n",
                            "      <td>0</td>\n",
                            "      <td>1</td>\n",
                            "      <td>1</td>\n",
                            "      <td>3</td>\n",
                            "    </tr>\n",
                            "    <tr>\n",
                            "      <th>7</th>\n",
                            "      <td>0</td>\n",
                            "      <td>3</td>\n",
                            "      <td>0</td>\n",
                            "      <td>0</td>\n",
                            "      <td>2</td>\n",
                            "      <td>0</td>\n",
                            "      <td>4</td>\n",
                            "      <td>0</td>\n",
                            "      <td>0</td>\n",
                            "    </tr>\n",
                            "    <tr>\n",
                            "      <th>8</th>\n",
                            "      <td>1</td>\n",
                            "      <td>3</td>\n",
                            "      <td>1</td>\n",
                            "      <td>1</td>\n",
                            "      <td>1</td>\n",
                            "      <td>0</td>\n",
                            "      <td>3</td>\n",
                            "      <td>0</td>\n",
                            "      <td>3</td>\n",
                            "    </tr>\n",
                            "    <tr>\n",
                            "      <th>9</th>\n",
                            "      <td>1</td>\n",
                            "      <td>2</td>\n",
                            "      <td>1</td>\n",
                            "      <td>0</td>\n",
                            "      <td>2</td>\n",
                            "      <td>1</td>\n",
                            "      <td>3</td>\n",
                            "      <td>0</td>\n",
                            "      <td>0</td>\n",
                            "    </tr>\n",
                            "  </tbody>\n",
                            "</table>\n",
                            "</div>"
                        ],
                        "text/plain": [
                            "   Survived  Pclass  Sex  Age  Fare  Embarked  Title  IsAlone  Age*Class\n",
                            "0         0       3    0    1     0         0      1        0          3\n",
                            "1         1       1    1    2     3         1      3        0          2\n",
                            "2         1       3    1    1     1         0      2        1          3\n",
                            "3         1       1    1    2     3         0      3        0          2\n",
                            "4         0       3    0    2     1         0      1        1          6\n",
                            "5         0       3    0    1     1         2      1        1          3\n",
                            "6         0       1    0    3     3         0      1        1          3\n",
                            "7         0       3    0    0     2         0      4        0          0\n",
                            "8         1       3    1    1     1         0      3        0          3\n",
                            "9         1       2    1    0     2         1      3        0          0"
                        ]
                    },
                    "execution_count": 36,
                    "metadata": {},
                    "output_type": "execute_result"
                }
            ],
            "source": [
                "for dataset in combine:\n",
                "    dataset.loc[ dataset['Fare'] <= 7.91, 'Fare'] = 0\n",
                "    dataset.loc[(dataset['Fare'] > 7.91) & (dataset['Fare'] <= 14.454), 'Fare'] = 1\n",
                "    dataset.loc[(dataset['Fare'] > 14.454) & (dataset['Fare'] <= 31), 'Fare']   = 2\n",
                "    dataset.loc[ dataset['Fare'] > 31, 'Fare'] = 3\n",
                "    dataset['Fare'] = dataset['Fare'].astype(int)\n",
                "\n",
                "train_df = train_df.drop(['FareBand'], axis=1)\n",
                "combine = [train_df, test_df]\n",
                "    \n",
                "train_df.head(10)"
            ]
        },
        {
            "cell_type": "code",
            "execution_count": 37,
            "metadata": {
                "execution": {
                    "iopub.execute_input": "2020-08-15T18:03:14.051278Z",
                    "iopub.status.busy": "2020-08-15T18:03:14.048158Z",
                    "iopub.status.idle": "2020-08-15T18:03:14.057245Z",
                    "shell.execute_reply": "2020-08-15T18:03:14.056400Z"
                },
                "papermill": {
                    "duration": 0.084463,
                    "end_time": "2020-08-15T18:03:14.057413",
                    "exception": false,
                    "start_time": "2020-08-15T18:03:13.972950",
                    "status": "completed"
                },
                "tags": [
                    "process_data"
                ]
            },
            "outputs": [
                {
                    "data": {
                        "text/plain": [
                            "((891, 8), (891,), (418, 8))"
                        ]
                    },
                    "execution_count": 37,
                    "metadata": {},
                    "output_type": "execute_result"
                }
            ],
            "source": [
                "X_train = train_df.drop(\"Survived\", axis=1)\n",
                "Y_train = train_df[\"Survived\"]\n",
                "X_test  = test_df.drop(\"PassengerId\", axis=1).copy()\n",
                "X_train.shape, Y_train.shape, X_test.shape\n",
                "\n"
            ]
        },
        {
            "cell_type": "code",
            "execution_count": 38,
            "metadata": {
                "execution": {
                    "iopub.execute_input": "2020-08-15T18:03:14.199766Z",
                    "iopub.status.busy": "2020-08-15T18:03:14.198901Z",
                    "iopub.status.idle": "2020-08-15T18:03:14.244114Z",
                    "shell.execute_reply": "2020-08-15T18:03:14.243353Z"
                },
                "papermill": {
                    "duration": 0.12108,
                    "end_time": "2020-08-15T18:03:14.244283",
                    "exception": false,
                    "start_time": "2020-08-15T18:03:14.123203",
                    "status": "completed"
                },
                "tags": [
                    "train_model",
                    "evaluate_model",
                    "check_results"
                ]
            },
            "outputs": [
                {
                    "data": {
                        "text/plain": [
                            "80.36"
                        ]
                    },
                    "execution_count": 38,
                    "metadata": {},
                    "output_type": "execute_result"
                }
            ],
            "source": [
                "\n",
                "logreg = LogisticRegression()\n",
                "logreg.fit(X_train, Y_train)\n",
                "Y_pred = logreg.predict(X_test)\n",
                "acc_log = round(logreg.score(X_train, Y_train) * 100, 2)\n",
                "acc_log"
            ]
        },
        {
            "cell_type": "code",
            "execution_count": 39,
            "metadata": {
                "execution": {
                    "iopub.execute_input": "2020-08-15T18:03:14.394578Z",
                    "iopub.status.busy": "2020-08-15T18:03:14.393256Z",
                    "iopub.status.idle": "2020-08-15T18:03:14.399394Z",
                    "shell.execute_reply": "2020-08-15T18:03:14.398543Z"
                },
                "papermill": {
                    "duration": 0.089918,
                    "end_time": "2020-08-15T18:03:14.399557",
                    "exception": false,
                    "start_time": "2020-08-15T18:03:14.309639",
                    "status": "completed"
                },
                "tags": [
                    "process_data"
                ]
            },
            "outputs": [
                {
                    "data": {
                        "text/html": [
                            "<div>\n",
                            "<style scoped>\n",
                            "    .dataframe tbody tr th:only-of-type {\n",
                            "        vertical-align: middle;\n",
                            "    }\n",
                            "\n",
                            "    .dataframe tbody tr th {\n",
                            "        vertical-align: top;\n",
                            "    }\n",
                            "\n",
                            "    .dataframe thead th {\n",
                            "        text-align: right;\n",
                            "    }\n",
                            "</style>\n",
                            "<table border=\"1\" class=\"dataframe\">\n",
                            "  <thead>\n",
                            "    <tr style=\"text-align: right;\">\n",
                            "      <th></th>\n",
                            "      <th>Feature</th>\n",
                            "      <th>Correlation</th>\n",
                            "    </tr>\n",
                            "  </thead>\n",
                            "  <tbody>\n",
                            "    <tr>\n",
                            "      <th>1</th>\n",
                            "      <td>Sex</td>\n",
                            "      <td>2.201619</td>\n",
                            "    </tr>\n",
                            "    <tr>\n",
                            "      <th>5</th>\n",
                            "      <td>Title</td>\n",
                            "      <td>0.397888</td>\n",
                            "    </tr>\n",
                            "    <tr>\n",
                            "      <th>2</th>\n",
                            "      <td>Age</td>\n",
                            "      <td>0.287011</td>\n",
                            "    </tr>\n",
                            "    <tr>\n",
                            "      <th>4</th>\n",
                            "      <td>Embarked</td>\n",
                            "      <td>0.261473</td>\n",
                            "    </tr>\n",
                            "    <tr>\n",
                            "      <th>6</th>\n",
                            "      <td>IsAlone</td>\n",
                            "      <td>0.126553</td>\n",
                            "    </tr>\n",
                            "    <tr>\n",
                            "      <th>3</th>\n",
                            "      <td>Fare</td>\n",
                            "      <td>-0.086655</td>\n",
                            "    </tr>\n",
                            "    <tr>\n",
                            "      <th>7</th>\n",
                            "      <td>Age*Class</td>\n",
                            "      <td>-0.311069</td>\n",
                            "    </tr>\n",
                            "    <tr>\n",
                            "      <th>0</th>\n",
                            "      <td>Pclass</td>\n",
                            "      <td>-0.750700</td>\n",
                            "    </tr>\n",
                            "  </tbody>\n",
                            "</table>\n",
                            "</div>"
                        ],
                        "text/plain": [
                            "     Feature  Correlation\n",
                            "1        Sex     2.201619\n",
                            "5      Title     0.397888\n",
                            "2        Age     0.287011\n",
                            "4   Embarked     0.261473\n",
                            "6    IsAlone     0.126553\n",
                            "3       Fare    -0.086655\n",
                            "7  Age*Class    -0.311069\n",
                            "0     Pclass    -0.750700"
                        ]
                    },
                    "execution_count": 39,
                    "metadata": {},
                    "output_type": "execute_result"
                }
            ],
            "source": [
                "coeff_df = pd.DataFrame(train_df.columns.delete(0))\n",
                "coeff_df.columns = ['Feature']\n",
                "coeff_df[\"Correlation\"] = pd.Series(logreg.coef_[0])\n",
                "\n",
                "coeff_df.sort_values(by='Correlation', ascending=False)"
            ]
        },
        {
            "cell_type": "code",
            "execution_count": 40,
            "metadata": {
                "execution": {
                    "iopub.execute_input": "2020-08-15T18:03:14.543646Z",
                    "iopub.status.busy": "2020-08-15T18:03:14.542800Z",
                    "iopub.status.idle": "2020-08-15T18:03:14.608682Z",
                    "shell.execute_reply": "2020-08-15T18:03:14.609352Z"
                },
                "papermill": {
                    "duration": 0.144145,
                    "end_time": "2020-08-15T18:03:14.609589",
                    "exception": false,
                    "start_time": "2020-08-15T18:03:14.465444",
                    "status": "completed"
                },
                "tags": [
                    "train_model",
                    "evaluate_model",
                    "check_results"
                ]
            },
            "outputs": [
                {
                    "data": {
                        "text/plain": [
                            "78.23"
                        ]
                    },
                    "execution_count": 40,
                    "metadata": {},
                    "output_type": "execute_result"
                }
            ],
            "source": [
                "svc=SVC()\n",
                "svc.fit(X_train,Y_train)\n",
                "Y_pred=svc.predict(X_test)\n",
                "acc_svc=round(svc.score(X_train,Y_train)*100,2)\n",
                "acc_svc"
            ]
        },
        {
            "cell_type": "code",
            "execution_count": 41,
            "metadata": {
                "execution": {
                    "iopub.execute_input": "2020-08-15T18:03:14.754689Z",
                    "iopub.status.busy": "2020-08-15T18:03:14.753578Z",
                    "iopub.status.idle": "2020-08-15T18:03:14.834550Z",
                    "shell.execute_reply": "2020-08-15T18:03:14.833628Z"
                },
                "papermill": {
                    "duration": 0.158256,
                    "end_time": "2020-08-15T18:03:14.834716",
                    "exception": false,
                    "start_time": "2020-08-15T18:03:14.676460",
                    "status": "completed"
                },
                "tags": [
                    "train_model",
                    "evaluate_model",
                    "check_results"
                ]
            },
            "outputs": [
                {
                    "data": {
                        "text/plain": [
                            "84.74"
                        ]
                    },
                    "execution_count": 41,
                    "metadata": {},
                    "output_type": "execute_result"
                }
            ],
            "source": [
                "knn=KNeighborsClassifier(n_neighbors=3)\n",
                "knn.fit(X_train,Y_train)\n",
                "Y_pred = knn.predict(X_test)\n",
                "acc_knn = round(knn.score(X_train, Y_train) * 100, 2)\n",
                "acc_knn"
            ]
        },
        {
            "cell_type": "code",
            "execution_count": 42,
            "metadata": {
                "execution": {
                    "iopub.execute_input": "2020-08-15T18:03:14.984502Z",
                    "iopub.status.busy": "2020-08-15T18:03:14.983124Z",
                    "iopub.status.idle": "2020-08-15T18:03:14.998968Z",
                    "shell.execute_reply": "2020-08-15T18:03:14.998159Z"
                },
                "papermill": {
                    "duration": 0.095763,
                    "end_time": "2020-08-15T18:03:14.999151",
                    "exception": false,
                    "start_time": "2020-08-15T18:03:14.903388",
                    "status": "completed"
                },
                "tags": [
                    "train_model",
                    "evaluate_model",
                    "check_results"
                ]
            },
            "outputs": [
                {
                    "data": {
                        "text/plain": [
                            "72.28"
                        ]
                    },
                    "execution_count": 42,
                    "metadata": {},
                    "output_type": "execute_result"
                }
            ],
            "source": [
                "gaussian = GaussianNB()\n",
                "gaussian.fit(X_train, Y_train)\n",
                "Y_pred = gaussian.predict(X_test)\n",
                "acc_gaussian = round(gaussian.score(X_train, Y_train) * 100, 2)\n",
                "acc_gaussian"
            ]
        },
        {
            "cell_type": "code",
            "execution_count": 43,
            "metadata": {
                "execution": {
                    "iopub.execute_input": "2020-08-15T18:03:15.149405Z",
                    "iopub.status.busy": "2020-08-15T18:03:15.147960Z",
                    "iopub.status.idle": "2020-08-15T18:03:15.168043Z",
                    "shell.execute_reply": "2020-08-15T18:03:15.167192Z"
                },
                "papermill": {
                    "duration": 0.100051,
                    "end_time": "2020-08-15T18:03:15.168238",
                    "exception": false,
                    "start_time": "2020-08-15T18:03:15.068187",
                    "status": "completed"
                },
                "tags": [
                    "train_model",
                    "evaluate_model",
                    "check_results"
                ]
            },
            "outputs": [
                {
                    "data": {
                        "text/plain": [
                            "78.34"
                        ]
                    },
                    "execution_count": 43,
                    "metadata": {},
                    "output_type": "execute_result"
                }
            ],
            "source": [
                "\n",
                "perceptron = Perceptron()\n",
                "perceptron.fit(X_train, Y_train)\n",
                "Y_pred = perceptron.predict(X_test)\n",
                "acc_perceptron = round(perceptron.score(X_train, Y_train) * 100, 2)\n",
                "acc_perceptron"
            ]
        },
        {
            "cell_type": "code",
            "execution_count": 44,
            "metadata": {
                "execution": {
                    "iopub.execute_input": "2020-08-15T18:03:15.317900Z",
                    "iopub.status.busy": "2020-08-15T18:03:15.316961Z",
                    "iopub.status.idle": "2020-08-15T18:03:15.387703Z",
                    "shell.execute_reply": "2020-08-15T18:03:15.388631Z"
                },
                "papermill": {
                    "duration": 0.151384,
                    "end_time": "2020-08-15T18:03:15.388960",
                    "exception": false,
                    "start_time": "2020-08-15T18:03:15.237576",
                    "status": "completed"
                },
                "tags": [
                    "train_model",
                    "evaluate_model",
                    "check_results"
                ]
            },
            "outputs": [
                {
                    "name": "stderr",
                    "output_type": "stream",
                    "text": [
                        "/opt/conda/lib/python3.7/site-packages/sklearn/svm/_base.py:977: ConvergenceWarning: Liblinear failed to converge, increase the number of iterations.\n",
                        "  \"the number of iterations.\", ConvergenceWarning)\n"
                    ]
                },
                {
                    "data": {
                        "text/plain": [
                            "79.12"
                        ]
                    },
                    "execution_count": 44,
                    "metadata": {},
                    "output_type": "execute_result"
                }
            ],
            "source": [
                "\n",
                "linear_svc = LinearSVC()\n",
                "linear_svc.fit(X_train, Y_train)\n",
                "Y_pred = linear_svc.predict(X_test)\n",
                "acc_linear_svc = round(linear_svc.score(X_train, Y_train) * 100, 2)\n",
                "acc_linear_svc"
            ]
        },
        {
            "cell_type": "code",
            "execution_count": 45,
            "metadata": {
                "execution": {
                    "iopub.execute_input": "2020-08-15T18:03:15.540251Z",
                    "iopub.status.busy": "2020-08-15T18:03:15.539072Z",
                    "iopub.status.idle": "2020-08-15T18:03:15.555276Z",
                    "shell.execute_reply": "2020-08-15T18:03:15.554426Z"
                },
                "papermill": {
                    "duration": 0.096672,
                    "end_time": "2020-08-15T18:03:15.555454",
                    "exception": false,
                    "start_time": "2020-08-15T18:03:15.458782",
                    "status": "completed"
                },
                "tags": [
                    "train_model",
                    "evaluate_model",
                    "check_results"
                ]
            },
            "outputs": [
                {
                    "data": {
                        "text/plain": [
                            "75.76"
                        ]
                    },
                    "execution_count": 45,
                    "metadata": {},
                    "output_type": "execute_result"
                }
            ],
            "source": [
                "\n",
                "sgd = SGDClassifier()\n",
                "sgd.fit(X_train, Y_train)\n",
                "Y_pred = sgd.predict(X_test)\n",
                "acc_sgd = round(sgd.score(X_train, Y_train) * 100, 2)\n",
                "acc_sgd"
            ]
        },
        {
            "cell_type": "code",
            "execution_count": 46,
            "metadata": {
                "execution": {
                    "iopub.execute_input": "2020-08-15T18:03:15.707391Z",
                    "iopub.status.busy": "2020-08-15T18:03:15.706476Z",
                    "iopub.status.idle": "2020-08-15T18:03:15.726450Z",
                    "shell.execute_reply": "2020-08-15T18:03:15.725512Z"
                },
                "papermill": {
                    "duration": 0.100802,
                    "end_time": "2020-08-15T18:03:15.726623",
                    "exception": false,
                    "start_time": "2020-08-15T18:03:15.625821",
                    "status": "completed"
                },
                "tags": [
                    "train_model",
                    "evaluate_model",
                    "check_results"
                ]
            },
            "outputs": [
                {
                    "data": {
                        "text/plain": [
                            "86.76"
                        ]
                    },
                    "execution_count": 46,
                    "metadata": {},
                    "output_type": "execute_result"
                }
            ],
            "source": [
                "\n",
                "decision_tree = DecisionTreeClassifier()\n",
                "decision_tree.fit(X_train, Y_train)\n",
                "Y_pred = decision_tree.predict(X_test)\n",
                "acc_decision_tree = round(decision_tree.score(X_train, Y_train) * 100, 2)\n",
                "acc_decision_tree"
            ]
        },
        {
            "cell_type": "code",
            "execution_count": 47,
            "metadata": {
                "execution": {
                    "iopub.execute_input": "2020-08-15T18:03:15.882673Z",
                    "iopub.status.busy": "2020-08-15T18:03:15.881787Z",
                    "iopub.status.idle": "2020-08-15T18:03:16.192977Z",
                    "shell.execute_reply": "2020-08-15T18:03:16.191962Z"
                },
                "papermill": {
                    "duration": 0.394882,
                    "end_time": "2020-08-15T18:03:16.193159",
                    "exception": false,
                    "start_time": "2020-08-15T18:03:15.798277",
                    "status": "completed"
                },
                "tags": [
                    "train_model",
                    "evaluate_model",
                    "check_results"
                ]
            },
            "outputs": [
                {
                    "data": {
                        "text/plain": [
                            "86.76"
                        ]
                    },
                    "execution_count": 47,
                    "metadata": {},
                    "output_type": "execute_result"
                }
            ],
            "source": [
                "random_forest = RandomForestClassifier(n_estimators=100)\n",
                "random_forest.fit(X_train, Y_train)\n",
                "Y_pred = random_forest.predict(X_test)\n",
                "\n",
                "acc_random_forest = round(random_forest.score(X_train, Y_train) * 100, 2)\n",
                "acc_random_forest"
            ]
        },
        {
            "cell_type": "code",
            "execution_count": 48,
            "metadata": {
                "execution": {
                    "iopub.execute_input": "2020-08-15T18:03:16.357077Z",
                    "iopub.status.busy": "2020-08-15T18:03:16.355967Z",
                    "iopub.status.idle": "2020-08-15T18:03:16.361973Z",
                    "shell.execute_reply": "2020-08-15T18:03:16.361114Z"
                },
                "papermill": {
                    "duration": 0.095735,
                    "end_time": "2020-08-15T18:03:16.362133",
                    "exception": false,
                    "start_time": "2020-08-15T18:03:16.266398",
                    "status": "completed"
                },
                "tags": [
                    "process_data"
                ]
            },
            "outputs": [
                {
                    "data": {
                        "text/html": [
                            "<div>\n",
                            "<style scoped>\n",
                            "    .dataframe tbody tr th:only-of-type {\n",
                            "        vertical-align: middle;\n",
                            "    }\n",
                            "\n",
                            "    .dataframe tbody tr th {\n",
                            "        vertical-align: top;\n",
                            "    }\n",
                            "\n",
                            "    .dataframe thead th {\n",
                            "        text-align: right;\n",
                            "    }\n",
                            "</style>\n",
                            "<table border=\"1\" class=\"dataframe\">\n",
                            "  <thead>\n",
                            "    <tr style=\"text-align: right;\">\n",
                            "      <th></th>\n",
                            "      <th>Model</th>\n",
                            "      <th>Score</th>\n",
                            "    </tr>\n",
                            "  </thead>\n",
                            "  <tbody>\n",
                            "    <tr>\n",
                            "      <th>3</th>\n",
                            "      <td>Random Forest</td>\n",
                            "      <td>86.76</td>\n",
                            "    </tr>\n",
                            "    <tr>\n",
                            "      <th>8</th>\n",
                            "      <td>Decision Tree</td>\n",
                            "      <td>86.76</td>\n",
                            "    </tr>\n",
                            "    <tr>\n",
                            "      <th>1</th>\n",
                            "      <td>KNN</td>\n",
                            "      <td>84.74</td>\n",
                            "    </tr>\n",
                            "    <tr>\n",
                            "      <th>2</th>\n",
                            "      <td>Logistic Regression</td>\n",
                            "      <td>80.36</td>\n",
                            "    </tr>\n",
                            "    <tr>\n",
                            "      <th>7</th>\n",
                            "      <td>Linear SVC</td>\n",
                            "      <td>79.12</td>\n",
                            "    </tr>\n",
                            "    <tr>\n",
                            "      <th>5</th>\n",
                            "      <td>Perceptron</td>\n",
                            "      <td>78.34</td>\n",
                            "    </tr>\n",
                            "    <tr>\n",
                            "      <th>0</th>\n",
                            "      <td>Support Vector Machines</td>\n",
                            "      <td>78.23</td>\n",
                            "    </tr>\n",
                            "    <tr>\n",
                            "      <th>6</th>\n",
                            "      <td>Stochastic Gradient Decent</td>\n",
                            "      <td>75.76</td>\n",
                            "    </tr>\n",
                            "    <tr>\n",
                            "      <th>4</th>\n",
                            "      <td>Naive Bayes</td>\n",
                            "      <td>72.28</td>\n",
                            "    </tr>\n",
                            "  </tbody>\n",
                            "</table>\n",
                            "</div>"
                        ],
                        "text/plain": [
                            "                        Model  Score\n",
                            "3               Random Forest  86.76\n",
                            "8               Decision Tree  86.76\n",
                            "1                         KNN  84.74\n",
                            "2         Logistic Regression  80.36\n",
                            "7                  Linear SVC  79.12\n",
                            "5                  Perceptron  78.34\n",
                            "0     Support Vector Machines  78.23\n",
                            "6  Stochastic Gradient Decent  75.76\n",
                            "4                 Naive Bayes  72.28"
                        ]
                    },
                    "execution_count": 48,
                    "metadata": {},
                    "output_type": "execute_result"
                }
            ],
            "source": [
                "models = pd.DataFrame({\n",
                "    'Model': ['Support Vector Machines', 'KNN', 'Logistic Regression', \n",
                "              'Random Forest', 'Naive Bayes', 'Perceptron', \n",
                "              'Stochastic Gradient Decent', 'Linear SVC', \n",
                "              'Decision Tree'],\n",
                "    'Score': [acc_svc, acc_knn, acc_log, \n",
                "              acc_random_forest, acc_gaussian, acc_perceptron, \n",
                "              acc_sgd, acc_linear_svc, acc_decision_tree]})\n",
                "models.sort_values(by='Score', ascending=False)"
            ]
        },
        {
            "cell_type": "code",
            "execution_count": 49,
            "metadata": {
                "execution": {
                    "iopub.execute_input": "2020-08-15T18:03:16.517012Z",
                    "iopub.status.busy": "2020-08-15T18:03:16.516097Z",
                    "iopub.status.idle": "2020-08-15T18:03:16.519977Z",
                    "shell.execute_reply": "2020-08-15T18:03:16.519091Z"
                },
                "papermill": {
                    "duration": 0.084778,
                    "end_time": "2020-08-15T18:03:16.520154",
                    "exception": false,
                    "start_time": "2020-08-15T18:03:16.435376",
                    "status": "completed"
                },
                "tags": [
                    "process_data"
                ]
            },
            "outputs": [],
            "source": [
                "sub = pd.DataFrame({\n",
                "        \"PassengerId\": test_df[\"PassengerId\"],\n",
                "        \"Survived\": Y_pred\n",
                "    })"
            ]
        },
        {
            "cell_type": "code",
            "execution_count": 50,
            "metadata": {
                "execution": {
                    "iopub.execute_input": "2020-08-15T18:03:16.676195Z",
                    "iopub.status.busy": "2020-08-15T18:03:16.675321Z",
                    "iopub.status.idle": "2020-08-15T18:03:16.830554Z",
                    "shell.execute_reply": "2020-08-15T18:03:16.829476Z"
                },
                "papermill": {
                    "duration": 0.236343,
                    "end_time": "2020-08-15T18:03:16.830719",
                    "exception": false,
                    "start_time": "2020-08-15T18:03:16.594376",
                    "status": "completed"
                },
                "tags": [
                    "transfer_results"
                ]
            },
            "outputs": [],
            "source": [
                "\n",
                "sub.to_csv('submission.csv', index=False)"
            ]
        },
        {
            "cell_type": "code",
            "execution_count": null,
            "metadata": {
                "papermill": {
                    "duration": 0.072575,
                    "end_time": "2020-08-15T18:03:16.976787",
                    "exception": false,
                    "start_time": "2020-08-15T18:03:16.904212",
                    "status": "completed"
                },
                "tags": [
                    "None"
                ]
            },
            "outputs": [],
            "source": []
        }
    ],
    "metadata": {
        "kernelspec": {
            "display_name": "Python 3",
            "language": "python",
            "name": "python3"
        },
        "language_info": {
            "codemirror_mode": {
                "name": "ipython",
                "version": 3
            },
            "file_extension": ".py",
            "mimetype": "text/x-python",
            "name": "python",
            "nbconvert_exporter": "python",
            "pygments_lexer": "ipython3",
            "version": "3.7.6"
        },
        "papermill": {
            "duration": 18.743563,
            "end_time": "2020-08-15T18:03:17.162889",
            "environment_variables": {},
            "exception": null,
            "input_path": "__notebook__.ipynb",
            "output_path": "__notebook__.ipynb",
            "parameters": {},
            "start_time": "2020-08-15T18:02:58.419326",
            "version": "2.1.0"
        },
        "celltoolbar": "Tags"
    },
    "nbformat": 4,
    "nbformat_minor": 4
}