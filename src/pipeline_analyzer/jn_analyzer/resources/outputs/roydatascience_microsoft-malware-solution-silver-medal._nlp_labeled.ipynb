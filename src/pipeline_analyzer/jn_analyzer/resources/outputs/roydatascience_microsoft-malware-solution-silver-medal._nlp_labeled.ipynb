{
    "cells": [
        {
            "cell_type": "markdown",
            "execution_count": null,
            "metadata": {
                "_uuid": "b4b034a256bbf494857127fed186a4f5538415d6"
            },
            "source": [
                "I have used different KFolds techniques with Light GBM Classifier and stacked them together.\n",
                "\n",
                "This solution fetched me a Silver medal in the Competition."
            ]
        },
        {
            "cell_type": "code",
            "execution_count": 1,
            "metadata": {
                "_uuid": "79367977d17b67064ab2b2f5ea3b012657ada3b3",
                "tags": [
                    "setup_notebook"
                ]
            },
            "outputs": [],
            "source": [
                "import numpy as np\n",
                "import pandas as pd\n",
                "import os\n",
                "\n",
                "from scipy.stats import rankdata\n",
                "\n",
                "LABELS = [\"HasDetections\"]"
            ]
        },
        {
            "cell_type": "code",
            "execution_count": 2,
            "metadata": {
                "_uuid": "660f76560eb53a35a2471ed3b757b5cb43a2a7f9",
                "tags": [
                    "setup_notebook"
                ]
            },
            "outputs": [
                {
                    "name": "stdout",
                    "output_type": "stream",
                    "text": [
                        "submission_ashish_v2.csv  submission_ashish_v4.csv\r\n",
                        "submission_ashish_v3.csv  submission_ashish_vb1.csv\r\n"
                    ]
                }
            ],
            "source": [
                "!ls ../input/last-stages"
            ]
        },
        {
            "cell_type": "code",
            "execution_count": 3,
            "metadata": {
                "_uuid": "7baf1816219bc42c571670616923b54e294a48ad",
                "tags": [
                    "setup_notebook"
                ]
            },
            "outputs": [
                {
                    "name": "stdout",
                    "output_type": "stream",
                    "text": [
                        "submission_ashish_v3.csv\r\n"
                    ]
                }
            ],
            "source": [
                "!ls ../input/laststages"
            ]
        },
        {
            "cell_type": "code",
            "execution_count": 4,
            "metadata": {
                "_uuid": "3ed9a7300093e281f26989096abd59682a2afbfb",
                "tags": [
                    "setup_notebook"
                ]
            },
            "outputs": [
                {
                    "name": "stdout",
                    "output_type": "stream",
                    "text": [
                        "nffm_submission.csv\r\n"
                    ]
                }
            ],
            "source": [
                "!ls ../input/aimalware"
            ]
        },
        {
            "cell_type": "code",
            "execution_count": 5,
            "metadata": {
                "_uuid": "0a9925c3d96f95fd7598f576038584a66c36bd40",
                "tags": [
                    "ingest_data",
                    "process_data"
                ]
            },
            "outputs": [],
            "source": [
                "predict_list = []\n",
                "predict_list.append(pd.read_csv(\"../input/aimalware/nffm_submission.csv\")[LABELS].values)\n",
                "predict_list.append(pd.read_csv(\"../input/last-stages/submission_ashish_v2.csv\")[LABELS].values)\n",
                "predict_list.append(pd.read_csv(\"../input/laststages/submission_ashish_v3.csv\")[LABELS].values)\n",
                "predict_list.append(pd.read_csv(\"../input/last-stages/submission_ashish_v4.csv\")[LABELS].values)\n",
                "predict_list.append(pd.read_csv(\"../input/last-stages/submission_ashish_vb1.csv\")[LABELS].values)\n",
                "predict_list.append(pd.read_csv(\"../input/finalai/blending.csv\")[LABELS].values)"
            ]
        },
        {
            "cell_type": "code",
            "execution_count": 6,
            "metadata": {
                "_uuid": "1b3c1436762f4c9f634745157ec75ca16607b8eb",
                "tags": [
                    "ingest_data",
                    "evaluate_model",
                    "transfer_results",
                    "check_results"
                ]
            },
            "outputs": [
                {
                    "name": "stdout",
                    "output_type": "stream",
                    "text": [
                        "Rank averaging on  6  files\n"
                    ]
                }
            ],
            "source": [
                "print(\"Rank averaging on \", len(predict_list), \" files\")\n",
                "predictions = np.zeros_like(predict_list[0])\n",
                "for predict in predict_list:\n",
                "    for i in range(1):\n",
                "        predictions[:, i] = np.add(predictions[:, i], rankdata(predict[:, i])/predictions.shape[0])  \n",
                "predictions /= len(predict_list)\n",
                "\n",
                "submission = pd.read_csv('../input/microsoft-malware-prediction/sample_submission.csv')\n",
                "submission[LABELS] = predictions\n",
                "submission.to_csv('super_blend.csv', index=False)"
            ]
        },
        {
            "cell_type": "code",
            "execution_count": 7,
            "metadata": {
                "_uuid": "d09c1af5c618c5d90b8400a3ef66c8e2045929f3",
                "tags": [
                    "check_results"
                ]
            },
            "outputs": [
                {
                    "data": {
                        "text/html": [
                            "<div>\n",
                            "<style scoped>\n",
                            "    .dataframe tbody tr th:only-of-type {\n",
                            "        vertical-align: middle;\n",
                            "    }\n",
                            "\n",
                            "    .dataframe tbody tr th {\n",
                            "        vertical-align: top;\n",
                            "    }\n",
                            "\n",
                            "    .dataframe thead th {\n",
                            "        text-align: right;\n",
                            "    }\n",
                            "</style>\n",
                            "<table border=\"1\" class=\"dataframe\">\n",
                            "  <thead>\n",
                            "    <tr style=\"text-align: right;\">\n",
                            "      <th></th>\n",
                            "      <th>MachineIdentifier</th>\n",
                            "      <th>HasDetections</th>\n",
                            "    </tr>\n",
                            "  </thead>\n",
                            "  <tbody>\n",
                            "    <tr>\n",
                            "      <th>0</th>\n",
                            "      <td>0000010489e3af074adeac69c53e555e</td>\n",
                            "      <td>0.543850</td>\n",
                            "    </tr>\n",
                            "    <tr>\n",
                            "      <th>1</th>\n",
                            "      <td>00000176ac758d54827acd545b6315a5</td>\n",
                            "      <td>0.703742</td>\n",
                            "    </tr>\n",
                            "    <tr>\n",
                            "      <th>2</th>\n",
                            "      <td>0000019dcefc128c2d4387c1273dae1d</td>\n",
                            "      <td>0.697078</td>\n",
                            "    </tr>\n",
                            "    <tr>\n",
                            "      <th>3</th>\n",
                            "      <td>0000055553dc51b1295785415f1a224d</td>\n",
                            "      <td>0.311931</td>\n",
                            "    </tr>\n",
                            "    <tr>\n",
                            "      <th>4</th>\n",
                            "      <td>00000574cefffeca83ec8adf9285b2bf</td>\n",
                            "      <td>0.530662</td>\n",
                            "    </tr>\n",
                            "  </tbody>\n",
                            "</table>\n",
                            "</div>"
                        ],
                        "text/plain": [
                            "                  MachineIdentifier  HasDetections\n",
                            "0  0000010489e3af074adeac69c53e555e       0.543850\n",
                            "1  00000176ac758d54827acd545b6315a5       0.703742\n",
                            "2  0000019dcefc128c2d4387c1273dae1d       0.697078\n",
                            "3  0000055553dc51b1295785415f1a224d       0.311931\n",
                            "4  00000574cefffeca83ec8adf9285b2bf       0.530662"
                        ]
                    },
                    "execution_count": 7,
                    "metadata": {},
                    "output_type": "execute_result"
                }
            ],
            "source": [
                "submission.head()"
            ]
        },
        {
            "cell_type": "code",
            "execution_count": 8,
            "metadata": {
                "_uuid": "779bf92a803140eeee0e7ff2c6cbc832e087dc22",
                "tags": [
                    "ingest_data",
                    "process_data",
                    "transfer_results"
                ]
            },
            "outputs": [],
            "source": [
                "#another blend\n",
                "submission = pd.read_csv('../input/microsoft-malware-prediction/sample_submission.csv')\n",
                "\n",
                "sample_3 = pd.read_csv(\"../input/last-stages/submission_ashish_v2.csv\")\n",
                "sample_4 = pd.read_csv(\"../input/laststages/submission_ashish_v3.csv\")\n",
                "sample_5 = pd.read_csv(\"../input/last-stages/submission_ashish_v4.csv\")\n",
                "sample_6 = pd.read_csv(\"../input/last-stages/submission_ashish_vb1.csv\")\n",
                "sample_7 = pd.read_csv(\"../input/aimalware/nffm_submission.csv\")\n",
                "sample_8 = pd.read_csv(\"../input/finalai/blending.csv\")\n",
                "\n",
                "submission['HasDetections'] = sample_6['HasDetections'] * 0.3 + sample_8['HasDetections'] * 0.3 + sample_3['HasDetections'] * 0.2 + sample_7['HasDetections'] * 0.2\n",
                "submission.to_csv('super_blend_2.csv', index=False)"
            ]
        }
    ],
    "metadata": {
        "kernelspec": {
            "display_name": "Python 3",
            "language": "python",
            "name": "python3"
        },
        "language_info": {
            "codemirror_mode": {
                "name": "ipython",
                "version": 3
            },
            "file_extension": ".py",
            "mimetype": "text/x-python",
            "name": "python",
            "nbconvert_exporter": "python",
            "pygments_lexer": "ipython3",
            "version": "3.6.4"
        },
        "celltoolbar": "Tags"
    },
    "nbformat": 4,
    "nbformat_minor": 4
}