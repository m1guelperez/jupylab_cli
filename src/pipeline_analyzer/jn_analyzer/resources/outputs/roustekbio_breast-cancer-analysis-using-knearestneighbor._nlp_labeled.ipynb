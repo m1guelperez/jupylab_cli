{
    "cells": [
        {
            "cell_type": "code",
            "execution_count": 1,
            "metadata": {
                "collapsed": true,
                "tags": [
                    "ingest_data"
                ]
            },
            "outputs": [
                {
                    "ename": "NameError",
                    "evalue": "name 'pd' is not defined",
                    "output_type": "error",
                    "traceback": [
                        "\u001b[0;31m---------------------------------------------------------------------------\u001b[0m",
                        "\u001b[0;31mNameError\u001b[0m                                 Traceback (most recent call last)",
                        "\u001b[0;32m<ipython-input-1-8ecf86f63987>\u001b[0m in \u001b[0;36m<module>\u001b[0;34m()\u001b[0m\n\u001b[0;32m----> 1\u001b[0;31m \u001b[0mdata\u001b[0m \u001b[0;34m=\u001b[0m \u001b[0mpd\u001b[0m\u001b[0;34m.\u001b[0m\u001b[0mread_csv\u001b[0m\u001b[0;34m(\u001b[0m\u001b[0;34m'../input/breast-cancer-csv/breastCancer.csv'\u001b[0m\u001b[0;34m)\u001b[0m\u001b[0;34m\u001b[0m\u001b[0m\n\u001b[0m",
                        "\u001b[0;31mNameError\u001b[0m: name 'pd' is not defined"
                    ]
                }
            ],
            "source": [
                "data = pd.read_csv('../input/breast-cancer-csv/breastCancer.csv')"
            ]
        },
        {
            "cell_type": "markdown",
            "metadata": {
                "_cell_guid": "85d88df5-704c-4fc7-9b02-09d6e235d925",
                "_kg_hide-input": false,
                "_kg_hide-output": false,
                "_uuid": "1a9c3990d4e1a94a30c175a0d2e880705c1eade7"
            },
            "source": [
                "# Load Libraries"
            ]
        },
        {
            "cell_type": "code",
            "execution_count": 2,
            "metadata": {
                "_cell_guid": "c1ef23cb-15d0-4956-838c-ee14d96dfc6d",
                "_kg_hide-input": false,
                "_kg_hide-output": false,
                "_uuid": "0028a684be7170ac8294185f18e3c0eb93bed2a8",
                "collapsed": true,
                "tags": [
                    "setup_notebook"
                ]
            },
            "outputs": [],
            "source": [
                "from sklearn.datasets import load_breast_cancer\n",
                "from sklearn.neighbors import KNeighborsClassifier\n",
                "from sklearn.model_selection import train_test_split\n",
                "import matplotlib.pyplot as plt\n",
                "%matplotlib inline"
            ]
        },
        {
            "cell_type": "markdown",
            "metadata": {
                "_cell_guid": "7e99d28b-ca15-40df-8d0b-bb7f71cfc4e2",
                "_uuid": "caf5da13d8cbc57f9fcdb4e45f8569f45144c251"
            },
            "source": [
                "# Allocate variable to dataset and print description"
            ]
        },
        {
            "cell_type": "code",
            "execution_count": 3,
            "metadata": {
                "_cell_guid": "e0c1ca36-d96b-4605-b5a0-c98f6492c9e5",
                "_kg_hide-input": false,
                "_kg_hide-output": false,
                "_uuid": "2ec7b3d668551c59d0a66849a26096980c4a6921",
                "tags": [
                    "ingest_data",
                    "check_results"
                ]
            },
            "outputs": [
                {
                    "name": "stdout",
                    "output_type": "stream",
                    "text": [
                        "Breast Cancer Wisconsin (Diagnostic) Database\n",
                        "=============================================\n",
                        "\n",
                        "Notes\n",
                        "-----\n",
                        "Data Set Characteristics:\n",
                        "    :Number of Instances: 569\n",
                        "\n",
                        "    :Number of Attributes: 30 numeric, predictive attributes and the class\n",
                        "\n",
                        "    :Attribute Information:\n",
                        "        - radius (mean of distances from center to points on the perimeter)\n",
                        "        - texture (standard deviation of gray-scale values)\n",
                        "        - perimeter\n",
                        "        - area\n",
                        "        - smoothness (local variation in radius lengths)\n",
                        "        - compactness (perimeter^2 / area - 1.0)\n",
                        "        - concavity (severity of concave portions of the contour)\n",
                        "        - concave points (number of concave portions of the contour)\n",
                        "        - symmetry \n",
                        "        - fractal dimension (\"coastline approximation\" - 1)\n",
                        "\n",
                        "        The mean, standard error, and \"worst\" or largest (mean of the three\n",
                        "        largest values) of these features were computed for each image,\n",
                        "        resulting in 30 features.  For instance, field 3 is Mean Radius, field\n",
                        "        13 is Radius SE, field 23 is Worst Radius.\n",
                        "\n",
                        "        - class:\n",
                        "                - WDBC-Malignant\n",
                        "                - WDBC-Benign\n",
                        "\n",
                        "    :Summary Statistics:\n",
                        "\n",
                        "    ===================================== ====== ======\n",
                        "                                           Min    Max\n",
                        "    ===================================== ====== ======\n",
                        "    radius (mean):                        6.981  28.11\n",
                        "    texture (mean):                       9.71   39.28\n",
                        "    perimeter (mean):                     43.79  188.5\n",
                        "    area (mean):                          143.5  2501.0\n",
                        "    smoothness (mean):                    0.053  0.163\n",
                        "    compactness (mean):                   0.019  0.345\n",
                        "    concavity (mean):                     0.0    0.427\n",
                        "    concave points (mean):                0.0    0.201\n",
                        "    symmetry (mean):                      0.106  0.304\n",
                        "    fractal dimension (mean):             0.05   0.097\n",
                        "    radius (standard error):              0.112  2.873\n",
                        "    texture (standard error):             0.36   4.885\n",
                        "    perimeter (standard error):           0.757  21.98\n",
                        "    area (standard error):                6.802  542.2\n",
                        "    smoothness (standard error):          0.002  0.031\n",
                        "    compactness (standard error):         0.002  0.135\n",
                        "    concavity (standard error):           0.0    0.396\n",
                        "    concave points (standard error):      0.0    0.053\n",
                        "    symmetry (standard error):            0.008  0.079\n",
                        "    fractal dimension (standard error):   0.001  0.03\n",
                        "    radius (worst):                       7.93   36.04\n",
                        "    texture (worst):                      12.02  49.54\n",
                        "    perimeter (worst):                    50.41  251.2\n",
                        "    area (worst):                         185.2  4254.0\n",
                        "    smoothness (worst):                   0.071  0.223\n",
                        "    compactness (worst):                  0.027  1.058\n",
                        "    concavity (worst):                    0.0    1.252\n",
                        "    concave points (worst):               0.0    0.291\n",
                        "    symmetry (worst):                     0.156  0.664\n",
                        "    fractal dimension (worst):            0.055  0.208\n",
                        "    ===================================== ====== ======\n",
                        "\n",
                        "    :Missing Attribute Values: None\n",
                        "\n",
                        "    :Class Distribution: 212 - Malignant, 357 - Benign\n",
                        "\n",
                        "    :Creator:  Dr. William H. Wolberg, W. Nick Street, Olvi L. Mangasarian\n",
                        "\n",
                        "    :Donor: Nick Street\n",
                        "\n",
                        "    :Date: November, 1995\n",
                        "\n",
                        "This is a copy of UCI ML Breast Cancer Wisconsin (Diagnostic) datasets.\n",
                        "https://goo.gl/U2Uwz2\n",
                        "\n",
                        "Features are computed from a digitized image of a fine needle\n",
                        "aspirate (FNA) of a breast mass.  They describe\n",
                        "characteristics of the cell nuclei present in the image.\n",
                        "\n",
                        "Separating plane described above was obtained using\n",
                        "Multisurface Method-Tree (MSM-T) [K. P. Bennett, \"Decision Tree\n",
                        "Construction Via Linear Programming.\" Proceedings of the 4th\n",
                        "Midwest Artificial Intelligence and Cognitive Science Society,\n",
                        "pp. 97-101, 1992], a classification method which uses linear\n",
                        "programming to construct a decision tree.  Relevant features\n",
                        "were selected using an exhaustive search in the space of 1-4\n",
                        "features and 1-3 separating planes.\n",
                        "\n",
                        "The actual linear program used to obtain the separating plane\n",
                        "in the 3-dimensional space is that described in:\n",
                        "[K. P. Bennett and O. L. Mangasarian: \"Robust Linear\n",
                        "Programming Discrimination of Two Linearly Inseparable Sets\",\n",
                        "Optimization Methods and Software 1, 1992, 23-34].\n",
                        "\n",
                        "This database is also available through the UW CS ftp server:\n",
                        "\n",
                        "ftp ftp.cs.wisc.edu\n",
                        "cd math-prog/cpo-dataset/machine-learn/WDBC/\n",
                        "\n",
                        "References\n",
                        "----------\n",
                        "   - W.N. Street, W.H. Wolberg and O.L. Mangasarian. Nuclear feature extraction \n",
                        "     for breast tumor diagnosis. IS&T/SPIE 1993 International Symposium on \n",
                        "     Electronic Imaging: Science and Technology, volume 1905, pages 861-870,\n",
                        "     San Jose, CA, 1993.\n",
                        "   - O.L. Mangasarian, W.N. Street and W.H. Wolberg. Breast cancer diagnosis and \n",
                        "     prognosis via linear programming. Operations Research, 43(4), pages 570-577, \n",
                        "     July-August 1995.\n",
                        "   - W.H. Wolberg, W.N. Street, and O.L. Mangasarian. Machine learning techniques\n",
                        "     to diagnose breast cancer from fine-needle aspirates. Cancer Letters 77 (1994) \n",
                        "     163-171.\n",
                        "\n"
                    ]
                }
            ],
            "source": [
                "cells = load_breast_cancer()\n",
                "print(cells.DESCR)"
            ]
        },
        {
            "cell_type": "markdown",
            "metadata": {
                "_cell_guid": "da5a1a02-2df8-4d2a-95c0-a889eebb81fb",
                "_uuid": "9267a310d182242759cc3b20e62257cce5551be7"
            },
            "source": [
                "# Identify Target Names"
            ]
        },
        {
            "cell_type": "code",
            "execution_count": 4,
            "metadata": {
                "_cell_guid": "9615f966-2771-4d17-a62b-a6d174eddd6b",
                "_uuid": "11c6819e2c5e35c5b521017537ab610978141d03",
                "tags": [
                    "check_results"
                ]
            },
            "outputs": [
                {
                    "name": "stdout",
                    "output_type": "stream",
                    "text": [
                        "['malignant' 'benign']\n"
                    ]
                }
            ],
            "source": [
                "print(cells.target_names)"
            ]
        },
        {
            "cell_type": "markdown",
            "metadata": {
                "_cell_guid": "7e78b7eb-d572-47d8-bcdd-ddcc8dbbfea8",
                "_uuid": "183819a309fe46aeff49d2329fd08fa23b25f8be"
            },
            "source": [
                "# Identify and show data type. "
            ]
        },
        {
            "cell_type": "code",
            "execution_count": 5,
            "metadata": {
                "_cell_guid": "29b1103b-1ccd-460c-8edc-cea0a4b30148",
                "_uuid": "400915afb5dc16e14de947d6a91633376e289fbb",
                "tags": [
                    "check_results"
                ]
            },
            "outputs": [
                {
                    "data": {
                        "text/plain": [
                            "numpy.ndarray"
                        ]
                    },
                    "execution_count": 5,
                    "metadata": {},
                    "output_type": "execute_result"
                }
            ],
            "source": [
                "type(cells.data)\n"
            ]
        },
        {
            "cell_type": "code",
            "execution_count": 6,
            "metadata": {
                "_cell_guid": "597b09e6-be59-4985-b74b-f08ecd6b0ca9",
                "_uuid": "c9324f31ad2c31093b3f533bcfd433cec9a8ff46",
                "collapsed": true,
                "tags": [
                    "check_results"
                ]
            },
            "outputs": [
                {
                    "data": {
                        "text/plain": [
                            "array([[  1.79900000e+01,   1.03800000e+01,   1.22800000e+02, ...,\n",
                            "          2.65400000e-01,   4.60100000e-01,   1.18900000e-01],\n",
                            "       [  2.05700000e+01,   1.77700000e+01,   1.32900000e+02, ...,\n",
                            "          1.86000000e-01,   2.75000000e-01,   8.90200000e-02],\n",
                            "       [  1.96900000e+01,   2.12500000e+01,   1.30000000e+02, ...,\n",
                            "          2.43000000e-01,   3.61300000e-01,   8.75800000e-02],\n",
                            "       ..., \n",
                            "       [  1.66000000e+01,   2.80800000e+01,   1.08300000e+02, ...,\n",
                            "          1.41800000e-01,   2.21800000e-01,   7.82000000e-02],\n",
                            "       [  2.06000000e+01,   2.93300000e+01,   1.40100000e+02, ...,\n",
                            "          2.65000000e-01,   4.08700000e-01,   1.24000000e-01],\n",
                            "       [  7.76000000e+00,   2.45400000e+01,   4.79200000e+01, ...,\n",
                            "          0.00000000e+00,   2.87100000e-01,   7.03900000e-02]])"
                        ]
                    },
                    "execution_count": 6,
                    "metadata": {},
                    "output_type": "execute_result"
                }
            ],
            "source": [
                "cells.data"
            ]
        },
        {
            "cell_type": "markdown",
            "metadata": {
                "_cell_guid": "d2c38bc1-733f-46e9-a084-c04701c87f0b",
                "_uuid": "99b634dc704a6a35622029aefe7417bad1db6101"
            },
            "source": [
                "# Quantify (nSamples, nFeatures) i.e.  rows and columns"
            ]
        },
        {
            "cell_type": "code",
            "execution_count": 7,
            "metadata": {
                "_cell_guid": "8abef1b6-46e3-44d3-b79d-d5780d6e7d2c",
                "_uuid": "3f7766f6e4ce1daab8adac2f9d44c6f6f56b2606",
                "tags": [
                    "check_results"
                ]
            },
            "outputs": [
                {
                    "data": {
                        "text/plain": [
                            "(569, 30)"
                        ]
                    },
                    "execution_count": 7,
                    "metadata": {},
                    "output_type": "execute_result"
                }
            ],
            "source": [
                "cells.data.shape"
            ]
        },
        {
            "cell_type": "code",
            "execution_count": 8,
            "metadata": {
                "collapsed": true,
                "tags": [
                    "None"
                ]
            },
            "outputs": [],
            "source": []
        },
        {
            "cell_type": "markdown",
            "metadata": {},
            "source": [
                "# Import pandas  \n",
                "# Switch Datasets for more instances  \n",
                "# Read last 10 instances of new dataframe."
            ]
        },
        {
            "cell_type": "code",
            "execution_count": 8,
            "metadata": {
                "_cell_guid": "48407cfd-aaf4-4065-a93e-d3d5476b77ce",
                "_uuid": "5043bd90fff1148d0571438144e3b130eb6db227",
                "tags": [
                    "setup_notebook",
                    "ingest_data",
                    "check_results"
                ]
            },
            "outputs": [
                {
                    "data": {
                        "text/html": [
                            "<div>\n",
                            "<style>\n",
                            "    .dataframe thead tr:only-child th {\n",
                            "        text-align: right;\n",
                            "    }\n",
                            "\n",
                            "    .dataframe thead th {\n",
                            "        text-align: left;\n",
                            "    }\n",
                            "\n",
                            "    .dataframe tbody tr th {\n",
                            "        vertical-align: top;\n",
                            "    }\n",
                            "</style>\n",
                            "<table border=\"1\" class=\"dataframe\">\n",
                            "  <thead>\n",
                            "    <tr style=\"text-align: right;\">\n",
                            "      <th></th>\n",
                            "      <th>id</th>\n",
                            "      <th>clump_thickness</th>\n",
                            "      <th>size_uniformity</th>\n",
                            "      <th>shape_uniformity</th>\n",
                            "      <th>marginal_adhesion</th>\n",
                            "      <th>epithelial_size</th>\n",
                            "      <th>bare_nucleoli</th>\n",
                            "      <th>bland_chromatin</th>\n",
                            "      <th>normal_nucleoli</th>\n",
                            "      <th>mitoses</th>\n",
                            "      <th>class</th>\n",
                            "    </tr>\n",
                            "  </thead>\n",
                            "  <tbody>\n",
                            "    <tr>\n",
                            "      <th>689</th>\n",
                            "      <td>654546</td>\n",
                            "      <td>1</td>\n",
                            "      <td>1</td>\n",
                            "      <td>1</td>\n",
                            "      <td>1</td>\n",
                            "      <td>2</td>\n",
                            "      <td>1</td>\n",
                            "      <td>1</td>\n",
                            "      <td>1</td>\n",
                            "      <td>8</td>\n",
                            "      <td>2</td>\n",
                            "    </tr>\n",
                            "    <tr>\n",
                            "      <th>690</th>\n",
                            "      <td>654546</td>\n",
                            "      <td>1</td>\n",
                            "      <td>1</td>\n",
                            "      <td>1</td>\n",
                            "      <td>3</td>\n",
                            "      <td>2</td>\n",
                            "      <td>1</td>\n",
                            "      <td>1</td>\n",
                            "      <td>1</td>\n",
                            "      <td>1</td>\n",
                            "      <td>2</td>\n",
                            "    </tr>\n",
                            "    <tr>\n",
                            "      <th>691</th>\n",
                            "      <td>695091</td>\n",
                            "      <td>5</td>\n",
                            "      <td>10</td>\n",
                            "      <td>10</td>\n",
                            "      <td>5</td>\n",
                            "      <td>4</td>\n",
                            "      <td>5</td>\n",
                            "      <td>4</td>\n",
                            "      <td>4</td>\n",
                            "      <td>1</td>\n",
                            "      <td>4</td>\n",
                            "    </tr>\n",
                            "    <tr>\n",
                            "      <th>692</th>\n",
                            "      <td>714039</td>\n",
                            "      <td>3</td>\n",
                            "      <td>1</td>\n",
                            "      <td>1</td>\n",
                            "      <td>1</td>\n",
                            "      <td>2</td>\n",
                            "      <td>1</td>\n",
                            "      <td>1</td>\n",
                            "      <td>1</td>\n",
                            "      <td>1</td>\n",
                            "      <td>2</td>\n",
                            "    </tr>\n",
                            "    <tr>\n",
                            "      <th>693</th>\n",
                            "      <td>763235</td>\n",
                            "      <td>3</td>\n",
                            "      <td>1</td>\n",
                            "      <td>1</td>\n",
                            "      <td>1</td>\n",
                            "      <td>2</td>\n",
                            "      <td>1</td>\n",
                            "      <td>2</td>\n",
                            "      <td>1</td>\n",
                            "      <td>2</td>\n",
                            "      <td>2</td>\n",
                            "    </tr>\n",
                            "    <tr>\n",
                            "      <th>694</th>\n",
                            "      <td>776715</td>\n",
                            "      <td>3</td>\n",
                            "      <td>1</td>\n",
                            "      <td>1</td>\n",
                            "      <td>1</td>\n",
                            "      <td>3</td>\n",
                            "      <td>2</td>\n",
                            "      <td>1</td>\n",
                            "      <td>1</td>\n",
                            "      <td>1</td>\n",
                            "      <td>2</td>\n",
                            "    </tr>\n",
                            "    <tr>\n",
                            "      <th>695</th>\n",
                            "      <td>841769</td>\n",
                            "      <td>2</td>\n",
                            "      <td>1</td>\n",
                            "      <td>1</td>\n",
                            "      <td>1</td>\n",
                            "      <td>2</td>\n",
                            "      <td>1</td>\n",
                            "      <td>1</td>\n",
                            "      <td>1</td>\n",
                            "      <td>1</td>\n",
                            "      <td>2</td>\n",
                            "    </tr>\n",
                            "    <tr>\n",
                            "      <th>696</th>\n",
                            "      <td>888820</td>\n",
                            "      <td>5</td>\n",
                            "      <td>10</td>\n",
                            "      <td>10</td>\n",
                            "      <td>3</td>\n",
                            "      <td>7</td>\n",
                            "      <td>3</td>\n",
                            "      <td>8</td>\n",
                            "      <td>10</td>\n",
                            "      <td>2</td>\n",
                            "      <td>4</td>\n",
                            "    </tr>\n",
                            "    <tr>\n",
                            "      <th>697</th>\n",
                            "      <td>897471</td>\n",
                            "      <td>4</td>\n",
                            "      <td>8</td>\n",
                            "      <td>6</td>\n",
                            "      <td>4</td>\n",
                            "      <td>3</td>\n",
                            "      <td>4</td>\n",
                            "      <td>10</td>\n",
                            "      <td>6</td>\n",
                            "      <td>1</td>\n",
                            "      <td>4</td>\n",
                            "    </tr>\n",
                            "    <tr>\n",
                            "      <th>698</th>\n",
                            "      <td>897471</td>\n",
                            "      <td>4</td>\n",
                            "      <td>8</td>\n",
                            "      <td>8</td>\n",
                            "      <td>5</td>\n",
                            "      <td>4</td>\n",
                            "      <td>5</td>\n",
                            "      <td>10</td>\n",
                            "      <td>4</td>\n",
                            "      <td>1</td>\n",
                            "      <td>4</td>\n",
                            "    </tr>\n",
                            "  </tbody>\n",
                            "</table>\n",
                            "</div>"
                        ],
                        "text/plain": [
                            "         id  clump_thickness  size_uniformity  shape_uniformity  \\\n",
                            "689  654546                1                1                 1   \n",
                            "690  654546                1                1                 1   \n",
                            "691  695091                5               10                10   \n",
                            "692  714039                3                1                 1   \n",
                            "693  763235                3                1                 1   \n",
                            "694  776715                3                1                 1   \n",
                            "695  841769                2                1                 1   \n",
                            "696  888820                5               10                10   \n",
                            "697  897471                4                8                 6   \n",
                            "698  897471                4                8                 8   \n",
                            "\n",
                            "     marginal_adhesion  epithelial_size bare_nucleoli  bland_chromatin  \\\n",
                            "689                  1                2             1                1   \n",
                            "690                  3                2             1                1   \n",
                            "691                  5                4             5                4   \n",
                            "692                  1                2             1                1   \n",
                            "693                  1                2             1                2   \n",
                            "694                  1                3             2                1   \n",
                            "695                  1                2             1                1   \n",
                            "696                  3                7             3                8   \n",
                            "697                  4                3             4               10   \n",
                            "698                  5                4             5               10   \n",
                            "\n",
                            "     normal_nucleoli  mitoses  class  \n",
                            "689                1        8      2  \n",
                            "690                1        1      2  \n",
                            "691                4        1      4  \n",
                            "692                1        1      2  \n",
                            "693                1        2      2  \n",
                            "694                1        1      2  \n",
                            "695                1        1      2  \n",
                            "696               10        2      4  \n",
                            "697                6        1      4  \n",
                            "698                4        1      4  "
                        ]
                    },
                    "execution_count": 8,
                    "metadata": {},
                    "output_type": "execute_result"
                }
            ],
            "source": [
                "import pandas as pd\n",
                "raw_data=pd.read_csv('../input/breast-cancer-csv/breastCancer.csv')\n",
                "raw_data.tail(10)"
            ]
        },
        {
            "cell_type": "markdown",
            "metadata": {
                "_cell_guid": "928b8b75-4248-4a43-9683-a7e8a95c1048",
                "_uuid": "f7686e55cf906c5897d874148f04cf54099d1f29"
            },
            "source": [
                "# Install  for visualization we don't have permissions to load mods on kaggle but the following line of code will work like butter on your local machine using Anaconda Jupyter! I will show code and a link to image of output!"
            ]
        },
        {
            "cell_type": "markdown",
            "metadata": {
                "_cell_guid": "d727d4a8-a679-43ba-b199-9ed5779a0315",
                "_uuid": "3601963f0c9a90a632fb3840202f0167579c53c8"
            },
            "source": [
                "!pip install mglearn  \n",
                "\n",
                "import mglearn  \n",
                "\n",
                "mglearn.plots.plot_knn_classification(n_neighbors=5)  \n",
                "\n",
                "\n",
                "![kNN mglearn plot](https://www.dropbox.com/s/tp3ebx4ud7vnrfj/kNNmglearnplot.png?dl=0)  "
            ]
        }
    ],
    "metadata": {
        "kernelspec": {
            "display_name": "Python 3",
            "language": "python",
            "name": "python3"
        },
        "language_info": {
            "codemirror_mode": {
                "name": "ipython",
                "version": 3
            },
            "file_extension": ".py",
            "mimetype": "text/x-python",
            "name": "python",
            "nbconvert_exporter": "python",
            "pygments_lexer": "ipython3",
            "version": "3.6.3"
        },
        "celltoolbar": "Tags"
    },
    "nbformat": 4,
    "nbformat_minor": 1
}