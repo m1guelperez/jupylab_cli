{
    "cells": [
        {
            "cell_type": "code",
            "execution_count": 1,
            "metadata": {
                "_cell_guid": "b1076dfc-b9ad-4769-8c92-a6c4dae69d19",
                "_uuid": "8f2839f25d086af736a60e9eeb907d3b93b6e0e5",
                "tags": [
                    "setup_notebook",
                    "check_results"
                ]
            },
            "outputs": [
                {
                    "name": "stdout",
                    "output_type": "stream",
                    "text": [
                        "/kaggle/input/movie-review-sentiment-analysis-kernels-only/test.tsv\n",
                        "/kaggle/input/movie-review-sentiment-analysis-kernels-only/train.tsv\n",
                        "/kaggle/input/movie-review-sentiment-analysis-kernels-only/sampleSubmission.csv\n"
                    ]
                }
            ],
            "source": [
                "# This Python 3 environment comes with many helpful analytics libraries installed\n",
                "# It is defined by the kaggle/python docker image: https://github.com/kaggle/docker-python\n",
                "# For example, here's several helpful packages to load in \n",
                "\n",
                "import numpy as np # linear algebra\n",
                "import pandas as pd # data processing, CSV file I/O (e.g. pd.read_csv)\n",
                "\n",
                "# Input data files are available in the \"../input/\" directory.\n",
                "# For example, running this (by clicking run or pressing Shift+Enter) will list all files under the input directory\n",
                "\n",
                "import os\n",
                "for dirname, _, filenames in os.walk('/kaggle/input'):\n",
                "    for filename in filenames:\n",
                "        print(os.path.join(dirname, filename))\n",
                "\n",
                "# Any results you write to the current directory are saved as output."
            ]
        },
        {
            "cell_type": "markdown",
            "metadata": {},
            "source": [
                "# 01 Frame the Problem"
            ]
        },
        {
            "cell_type": "markdown",
            "metadata": {},
            "source": [
                "Problem statement link :https://www.kaggle.com/c/movie-review-sentiment-analysis-kernels-only/overview"
            ]
        },
        {
            "cell_type": "markdown",
            "metadata": {},
            "source": [
                "# 02 Obtain the data"
            ]
        },
        {
            "cell_type": "code",
            "execution_count": 2,
            "metadata": {
                "_cell_guid": "79c7e3d0-c299-4dcb-8224-4455121ee9b0",
                "_uuid": "d629ff2d2480ee46fbb7e2d37f6b5fab8052498a",
                "tags": [
                    "setup_notebook"
                ]
            },
            "outputs": [],
            "source": [
                "import pandas as pd\n",
                "import numpy as np"
            ]
        },
        {
            "cell_type": "code",
            "execution_count": 3,
            "metadata": {
                "tags": [
                    "ingest_data"
                ]
            },
            "outputs": [],
            "source": [
                "df1 = pd.read_csv('../input/movie-review-sentiment-analysis-kernels-only/sampleSubmission.csv', sep=\",\")\n",
                "df2 = pd.read_csv('../input/movie-review-sentiment-analysis-kernels-only/train.tsv', sep=\"\\t\")\n",
                "df3 = pd.read_csv('../input/movie-review-sentiment-analysis-kernels-only/test.tsv', sep=\"\\t\")\n"
            ]
        },
        {
            "cell_type": "markdown",
            "metadata": {},
            "source": [
                "# 03 Analyze The data"
            ]
        },
        {
            "cell_type": "code",
            "execution_count": 4,
            "metadata": {
                "tags": [
                    "check_results"
                ]
            },
            "outputs": [
                {
                    "data": {
                        "text/html": [
                            "<div>\n",
                            "<style scoped>\n",
                            "    .dataframe tbody tr th:only-of-type {\n",
                            "        vertical-align: middle;\n",
                            "    }\n",
                            "\n",
                            "    .dataframe tbody tr th {\n",
                            "        vertical-align: top;\n",
                            "    }\n",
                            "\n",
                            "    .dataframe thead th {\n",
                            "        text-align: right;\n",
                            "    }\n",
                            "</style>\n",
                            "<table border=\"1\" class=\"dataframe\">\n",
                            "  <thead>\n",
                            "    <tr style=\"text-align: right;\">\n",
                            "      <th></th>\n",
                            "      <th>PhraseId</th>\n",
                            "      <th>Sentiment</th>\n",
                            "    </tr>\n",
                            "  </thead>\n",
                            "  <tbody>\n",
                            "    <tr>\n",
                            "      <td>0</td>\n",
                            "      <td>156061</td>\n",
                            "      <td>2</td>\n",
                            "    </tr>\n",
                            "    <tr>\n",
                            "      <td>1</td>\n",
                            "      <td>156062</td>\n",
                            "      <td>2</td>\n",
                            "    </tr>\n",
                            "    <tr>\n",
                            "      <td>2</td>\n",
                            "      <td>156063</td>\n",
                            "      <td>2</td>\n",
                            "    </tr>\n",
                            "    <tr>\n",
                            "      <td>3</td>\n",
                            "      <td>156064</td>\n",
                            "      <td>2</td>\n",
                            "    </tr>\n",
                            "    <tr>\n",
                            "      <td>4</td>\n",
                            "      <td>156065</td>\n",
                            "      <td>2</td>\n",
                            "    </tr>\n",
                            "  </tbody>\n",
                            "</table>\n",
                            "</div>"
                        ],
                        "text/plain": [
                            "   PhraseId  Sentiment\n",
                            "0    156061          2\n",
                            "1    156062          2\n",
                            "2    156063          2\n",
                            "3    156064          2\n",
                            "4    156065          2"
                        ]
                    },
                    "execution_count": 4,
                    "metadata": {},
                    "output_type": "execute_result"
                }
            ],
            "source": [
                "df1.head(5)"
            ]
        },
        {
            "cell_type": "code",
            "execution_count": 5,
            "metadata": {
                "tags": [
                    "check_results"
                ]
            },
            "outputs": [
                {
                    "data": {
                        "text/html": [
                            "<div>\n",
                            "<style scoped>\n",
                            "    .dataframe tbody tr th:only-of-type {\n",
                            "        vertical-align: middle;\n",
                            "    }\n",
                            "\n",
                            "    .dataframe tbody tr th {\n",
                            "        vertical-align: top;\n",
                            "    }\n",
                            "\n",
                            "    .dataframe thead th {\n",
                            "        text-align: right;\n",
                            "    }\n",
                            "</style>\n",
                            "<table border=\"1\" class=\"dataframe\">\n",
                            "  <thead>\n",
                            "    <tr style=\"text-align: right;\">\n",
                            "      <th></th>\n",
                            "      <th>PhraseId</th>\n",
                            "      <th>SentenceId</th>\n",
                            "      <th>Phrase</th>\n",
                            "      <th>Sentiment</th>\n",
                            "    </tr>\n",
                            "  </thead>\n",
                            "  <tbody>\n",
                            "    <tr>\n",
                            "      <td>0</td>\n",
                            "      <td>1</td>\n",
                            "      <td>1</td>\n",
                            "      <td>A series of escapades demonstrating the adage ...</td>\n",
                            "      <td>1</td>\n",
                            "    </tr>\n",
                            "    <tr>\n",
                            "      <td>1</td>\n",
                            "      <td>2</td>\n",
                            "      <td>1</td>\n",
                            "      <td>A series of escapades demonstrating the adage ...</td>\n",
                            "      <td>2</td>\n",
                            "    </tr>\n",
                            "    <tr>\n",
                            "      <td>2</td>\n",
                            "      <td>3</td>\n",
                            "      <td>1</td>\n",
                            "      <td>A series</td>\n",
                            "      <td>2</td>\n",
                            "    </tr>\n",
                            "    <tr>\n",
                            "      <td>3</td>\n",
                            "      <td>4</td>\n",
                            "      <td>1</td>\n",
                            "      <td>A</td>\n",
                            "      <td>2</td>\n",
                            "    </tr>\n",
                            "    <tr>\n",
                            "      <td>4</td>\n",
                            "      <td>5</td>\n",
                            "      <td>1</td>\n",
                            "      <td>series</td>\n",
                            "      <td>2</td>\n",
                            "    </tr>\n",
                            "  </tbody>\n",
                            "</table>\n",
                            "</div>"
                        ],
                        "text/plain": [
                            "   PhraseId  SentenceId                                             Phrase  \\\n",
                            "0         1           1  A series of escapades demonstrating the adage ...   \n",
                            "1         2           1  A series of escapades demonstrating the adage ...   \n",
                            "2         3           1                                           A series   \n",
                            "3         4           1                                                  A   \n",
                            "4         5           1                                             series   \n",
                            "\n",
                            "   Sentiment  \n",
                            "0          1  \n",
                            "1          2  \n",
                            "2          2  \n",
                            "3          2  \n",
                            "4          2  "
                        ]
                    },
                    "execution_count": 5,
                    "metadata": {},
                    "output_type": "execute_result"
                }
            ],
            "source": [
                "df2.head(5)"
            ]
        },
        {
            "cell_type": "code",
            "execution_count": 6,
            "metadata": {
                "tags": [
                    "check_results"
                ]
            },
            "outputs": [
                {
                    "data": {
                        "text/html": [
                            "<div>\n",
                            "<style scoped>\n",
                            "    .dataframe tbody tr th:only-of-type {\n",
                            "        vertical-align: middle;\n",
                            "    }\n",
                            "\n",
                            "    .dataframe tbody tr th {\n",
                            "        vertical-align: top;\n",
                            "    }\n",
                            "\n",
                            "    .dataframe thead th {\n",
                            "        text-align: right;\n",
                            "    }\n",
                            "</style>\n",
                            "<table border=\"1\" class=\"dataframe\">\n",
                            "  <thead>\n",
                            "    <tr style=\"text-align: right;\">\n",
                            "      <th></th>\n",
                            "      <th>PhraseId</th>\n",
                            "      <th>SentenceId</th>\n",
                            "      <th>Phrase</th>\n",
                            "    </tr>\n",
                            "  </thead>\n",
                            "  <tbody>\n",
                            "    <tr>\n",
                            "      <td>0</td>\n",
                            "      <td>156061</td>\n",
                            "      <td>8545</td>\n",
                            "      <td>An intermittently pleasing but mostly routine ...</td>\n",
                            "    </tr>\n",
                            "    <tr>\n",
                            "      <td>1</td>\n",
                            "      <td>156062</td>\n",
                            "      <td>8545</td>\n",
                            "      <td>An intermittently pleasing but mostly routine ...</td>\n",
                            "    </tr>\n",
                            "    <tr>\n",
                            "      <td>2</td>\n",
                            "      <td>156063</td>\n",
                            "      <td>8545</td>\n",
                            "      <td>An</td>\n",
                            "    </tr>\n",
                            "    <tr>\n",
                            "      <td>3</td>\n",
                            "      <td>156064</td>\n",
                            "      <td>8545</td>\n",
                            "      <td>intermittently pleasing but mostly routine effort</td>\n",
                            "    </tr>\n",
                            "    <tr>\n",
                            "      <td>4</td>\n",
                            "      <td>156065</td>\n",
                            "      <td>8545</td>\n",
                            "      <td>intermittently pleasing but mostly routine</td>\n",
                            "    </tr>\n",
                            "  </tbody>\n",
                            "</table>\n",
                            "</div>"
                        ],
                        "text/plain": [
                            "   PhraseId  SentenceId                                             Phrase\n",
                            "0    156061        8545  An intermittently pleasing but mostly routine ...\n",
                            "1    156062        8545  An intermittently pleasing but mostly routine ...\n",
                            "2    156063        8545                                                 An\n",
                            "3    156064        8545  intermittently pleasing but mostly routine effort\n",
                            "4    156065        8545         intermittently pleasing but mostly routine"
                        ]
                    },
                    "execution_count": 6,
                    "metadata": {},
                    "output_type": "execute_result"
                }
            ],
            "source": [
                "df3.head(5)"
            ]
        },
        {
            "cell_type": "code",
            "execution_count": 7,
            "metadata": {
                "tags": [
                    "check_results"
                ]
            },
            "outputs": [
                {
                    "name": "stdout",
                    "output_type": "stream",
                    "text": [
                        "<class 'pandas.core.frame.DataFrame'>\n",
                        "RangeIndex: 156060 entries, 0 to 156059\n",
                        "Data columns (total 4 columns):\n",
                        "PhraseId      156060 non-null int64\n",
                        "SentenceId    156060 non-null int64\n",
                        "Phrase        156060 non-null object\n",
                        "Sentiment     156060 non-null int64\n",
                        "dtypes: int64(3), object(1)\n",
                        "memory usage: 4.8+ MB\n"
                    ]
                }
            ],
            "source": [
                "df2.info()"
            ]
        },
        {
            "cell_type": "code",
            "execution_count": 8,
            "metadata": {
                "tags": [
                    "check_results"
                ]
            },
            "outputs": [
                {
                    "name": "stdout",
                    "output_type": "stream",
                    "text": [
                        "<class 'pandas.core.frame.DataFrame'>\n",
                        "RangeIndex: 66292 entries, 0 to 66291\n",
                        "Data columns (total 3 columns):\n",
                        "PhraseId      66292 non-null int64\n",
                        "SentenceId    66292 non-null int64\n",
                        "Phrase        66292 non-null object\n",
                        "dtypes: int64(2), object(1)\n",
                        "memory usage: 1.5+ MB\n"
                    ]
                }
            ],
            "source": [
                "df3.info()"
            ]
        },
        {
            "cell_type": "code",
            "execution_count": 9,
            "metadata": {
                "tags": [
                    "check_results"
                ]
            },
            "outputs": [
                {
                    "data": {
                        "text/plain": [
                            "2    79582\n",
                            "3    32927\n",
                            "1    27273\n",
                            "4     9206\n",
                            "0     7072\n",
                            "Name: Sentiment, dtype: int64"
                        ]
                    },
                    "execution_count": 9,
                    "metadata": {},
                    "output_type": "execute_result"
                }
            ],
            "source": [
                "df2['Sentiment'].value_counts()"
            ]
        },
        {
            "cell_type": "code",
            "execution_count": 10,
            "metadata": {
                "tags": [
                    "process_data",
                    "check_results"
                ]
            },
            "outputs": [
                {
                    "data": {
                        "text/plain": [
                            "0     A series of escapades demonstrating the adage ...\n",
                            "33    the gander , some of which occasionally amuses...\n",
                            "47         but none of which amounts to much of a story\n",
                            "Name: Phrase, dtype: object"
                        ]
                    },
                    "execution_count": 10,
                    "metadata": {},
                    "output_type": "execute_result"
                }
            ],
            "source": [
                "df2[df2['Sentiment']==1]['Phrase'].head(3)"
            ]
        },
        {
            "cell_type": "code",
            "execution_count": 11,
            "metadata": {
                "tags": [
                    "process_data"
                ]
            },
            "outputs": [
                {
                    "data": {
                        "text/html": [
                            "<div>\n",
                            "<style scoped>\n",
                            "    .dataframe tbody tr th:only-of-type {\n",
                            "        vertical-align: middle;\n",
                            "    }\n",
                            "\n",
                            "    .dataframe tbody tr th {\n",
                            "        vertical-align: top;\n",
                            "    }\n",
                            "\n",
                            "    .dataframe thead th {\n",
                            "        text-align: right;\n",
                            "    }\n",
                            "</style>\n",
                            "<table border=\"1\" class=\"dataframe\">\n",
                            "  <thead>\n",
                            "    <tr style=\"text-align: right;\">\n",
                            "      <th></th>\n",
                            "      <th>PhraseId</th>\n",
                            "      <th>SentenceId</th>\n",
                            "      <th>Phrase</th>\n",
                            "      <th>Sentiment</th>\n",
                            "    </tr>\n",
                            "  </thead>\n",
                            "  <tbody>\n",
                            "    <tr>\n",
                            "      <td>63</td>\n",
                            "      <td>64</td>\n",
                            "      <td>2</td>\n",
                            "      <td>This quiet , introspective and entertaining in...</td>\n",
                            "      <td>4</td>\n",
                            "    </tr>\n",
                            "    <tr>\n",
                            "      <td>64</td>\n",
                            "      <td>65</td>\n",
                            "      <td>2</td>\n",
                            "      <td>This quiet , introspective and entertaining in...</td>\n",
                            "      <td>3</td>\n",
                            "    </tr>\n",
                            "    <tr>\n",
                            "      <td>65</td>\n",
                            "      <td>66</td>\n",
                            "      <td>2</td>\n",
                            "      <td>This</td>\n",
                            "      <td>2</td>\n",
                            "    </tr>\n",
                            "    <tr>\n",
                            "      <td>66</td>\n",
                            "      <td>67</td>\n",
                            "      <td>2</td>\n",
                            "      <td>quiet , introspective and entertaining indepen...</td>\n",
                            "      <td>4</td>\n",
                            "    </tr>\n",
                            "    <tr>\n",
                            "      <td>67</td>\n",
                            "      <td>68</td>\n",
                            "      <td>2</td>\n",
                            "      <td>quiet , introspective and entertaining</td>\n",
                            "      <td>3</td>\n",
                            "    </tr>\n",
                            "    <tr>\n",
                            "      <td>68</td>\n",
                            "      <td>69</td>\n",
                            "      <td>2</td>\n",
                            "      <td>quiet</td>\n",
                            "      <td>2</td>\n",
                            "    </tr>\n",
                            "    <tr>\n",
                            "      <td>69</td>\n",
                            "      <td>70</td>\n",
                            "      <td>2</td>\n",
                            "      <td>, introspective and entertaining</td>\n",
                            "      <td>3</td>\n",
                            "    </tr>\n",
                            "    <tr>\n",
                            "      <td>70</td>\n",
                            "      <td>71</td>\n",
                            "      <td>2</td>\n",
                            "      <td>introspective and entertaining</td>\n",
                            "      <td>3</td>\n",
                            "    </tr>\n",
                            "    <tr>\n",
                            "      <td>71</td>\n",
                            "      <td>72</td>\n",
                            "      <td>2</td>\n",
                            "      <td>introspective and</td>\n",
                            "      <td>3</td>\n",
                            "    </tr>\n",
                            "    <tr>\n",
                            "      <td>72</td>\n",
                            "      <td>73</td>\n",
                            "      <td>2</td>\n",
                            "      <td>introspective</td>\n",
                            "      <td>2</td>\n",
                            "    </tr>\n",
                            "    <tr>\n",
                            "      <td>73</td>\n",
                            "      <td>74</td>\n",
                            "      <td>2</td>\n",
                            "      <td>and</td>\n",
                            "      <td>2</td>\n",
                            "    </tr>\n",
                            "    <tr>\n",
                            "      <td>74</td>\n",
                            "      <td>75</td>\n",
                            "      <td>2</td>\n",
                            "      <td>entertaining</td>\n",
                            "      <td>4</td>\n",
                            "    </tr>\n",
                            "    <tr>\n",
                            "      <td>75</td>\n",
                            "      <td>76</td>\n",
                            "      <td>2</td>\n",
                            "      <td>independent</td>\n",
                            "      <td>2</td>\n",
                            "    </tr>\n",
                            "    <tr>\n",
                            "      <td>76</td>\n",
                            "      <td>77</td>\n",
                            "      <td>2</td>\n",
                            "      <td>is worth seeking .</td>\n",
                            "      <td>3</td>\n",
                            "    </tr>\n",
                            "    <tr>\n",
                            "      <td>77</td>\n",
                            "      <td>78</td>\n",
                            "      <td>2</td>\n",
                            "      <td>is worth seeking</td>\n",
                            "      <td>4</td>\n",
                            "    </tr>\n",
                            "    <tr>\n",
                            "      <td>78</td>\n",
                            "      <td>79</td>\n",
                            "      <td>2</td>\n",
                            "      <td>is worth</td>\n",
                            "      <td>2</td>\n",
                            "    </tr>\n",
                            "    <tr>\n",
                            "      <td>79</td>\n",
                            "      <td>80</td>\n",
                            "      <td>2</td>\n",
                            "      <td>worth</td>\n",
                            "      <td>2</td>\n",
                            "    </tr>\n",
                            "    <tr>\n",
                            "      <td>80</td>\n",
                            "      <td>81</td>\n",
                            "      <td>2</td>\n",
                            "      <td>seeking</td>\n",
                            "      <td>2</td>\n",
                            "    </tr>\n",
                            "  </tbody>\n",
                            "</table>\n",
                            "</div>"
                        ],
                        "text/plain": [
                            "    PhraseId  SentenceId                                             Phrase  \\\n",
                            "63        64           2  This quiet , introspective and entertaining in...   \n",
                            "64        65           2  This quiet , introspective and entertaining in...   \n",
                            "65        66           2                                               This   \n",
                            "66        67           2  quiet , introspective and entertaining indepen...   \n",
                            "67        68           2             quiet , introspective and entertaining   \n",
                            "68        69           2                                              quiet   \n",
                            "69        70           2                   , introspective and entertaining   \n",
                            "70        71           2                     introspective and entertaining   \n",
                            "71        72           2                                  introspective and   \n",
                            "72        73           2                                      introspective   \n",
                            "73        74           2                                                and   \n",
                            "74        75           2                                       entertaining   \n",
                            "75        76           2                                        independent   \n",
                            "76        77           2                                 is worth seeking .   \n",
                            "77        78           2                                   is worth seeking   \n",
                            "78        79           2                                           is worth   \n",
                            "79        80           2                                              worth   \n",
                            "80        81           2                                            seeking   \n",
                            "\n",
                            "    Sentiment  \n",
                            "63          4  \n",
                            "64          3  \n",
                            "65          2  \n",
                            "66          4  \n",
                            "67          3  \n",
                            "68          2  \n",
                            "69          3  \n",
                            "70          3  \n",
                            "71          3  \n",
                            "72          2  \n",
                            "73          2  \n",
                            "74          4  \n",
                            "75          2  \n",
                            "76          3  \n",
                            "77          4  \n",
                            "78          2  \n",
                            "79          2  \n",
                            "80          2  "
                        ]
                    },
                    "execution_count": 11,
                    "metadata": {},
                    "output_type": "execute_result"
                }
            ],
            "source": [
                "df2.loc[df2.SentenceId ==2]"
            ]
        },
        {
            "cell_type": "code",
            "execution_count": 12,
            "metadata": {
                "tags": [
                    "setup_notebook"
                ]
            },
            "outputs": [],
            "source": [
                "#regular expression \n",
                "import re \n",
                "\n",
                "#regular expression for the removal of name tags and the emoticons from tweets.\n",
                "def process(Phrase):\n",
                "    return \" \".join(re.sub(\"(@[A-Za-z0-9]+)|([^0-9A-Za-z \\t])\", \" \",Phrase.lower()).split())"
            ]
        },
        {
            "cell_type": "code",
            "execution_count": 13,
            "metadata": {
                "tags": [
                    "process_data"
                ]
            },
            "outputs": [],
            "source": [
                "#Applying the Process function to the given Train Data\n",
                "df2['Newphrase']= df2['Phrase'].apply(process)"
            ]
        },
        {
            "cell_type": "code",
            "execution_count": 14,
            "metadata": {
                "tags": [
                    "setup_notebook"
                ]
            },
            "outputs": [],
            "source": [
                "import matplotlib.pyplot as plt\n",
                "import seaborn as sns"
            ]
        },
        {
            "cell_type": "code",
            "execution_count": 15,
            "metadata": {
                "tags": [
                    "visualize_data"
                ]
            },
            "outputs": [
                {
                    "data": {
                        "image/png": "[encoded data removed]",
                        "text/plain": [
                            "<Figure size 432x288 with 1 Axes>"
                        ]
                    },
                    "metadata": {
                        "needs_background": "light"
                    },
                    "output_type": "display_data"
                }
            ],
            "source": [
                "z = df2['Sentiment']\n",
                "plt.hist(z, bins=5,color='Red')\n",
                "plt.ylabel('count')\n",
                "plt.xlabel('rating')\n",
                "plt.show()"
            ]
        },
        {
            "cell_type": "markdown",
            "metadata": {},
            "source": [
                "# 04 Feature Enginnering"
            ]
        },
        {
            "cell_type": "code",
            "execution_count": 16,
            "metadata": {
                "tags": [
                    "check_results"
                ]
            },
            "outputs": [
                {
                    "data": {
                        "text/html": [
                            "<div>\n",
                            "<style scoped>\n",
                            "    .dataframe tbody tr th:only-of-type {\n",
                            "        vertical-align: middle;\n",
                            "    }\n",
                            "\n",
                            "    .dataframe tbody tr th {\n",
                            "        vertical-align: top;\n",
                            "    }\n",
                            "\n",
                            "    .dataframe thead th {\n",
                            "        text-align: right;\n",
                            "    }\n",
                            "</style>\n",
                            "<table border=\"1\" class=\"dataframe\">\n",
                            "  <thead>\n",
                            "    <tr style=\"text-align: right;\">\n",
                            "      <th></th>\n",
                            "      <th>PhraseId</th>\n",
                            "      <th>SentenceId</th>\n",
                            "      <th>Phrase</th>\n",
                            "      <th>Sentiment</th>\n",
                            "      <th>Newphrase</th>\n",
                            "    </tr>\n",
                            "  </thead>\n",
                            "  <tbody>\n",
                            "    <tr>\n",
                            "      <td>0</td>\n",
                            "      <td>1</td>\n",
                            "      <td>1</td>\n",
                            "      <td>A series of escapades demonstrating the adage ...</td>\n",
                            "      <td>1</td>\n",
                            "      <td>a series of escapades demonstrating the adage ...</td>\n",
                            "    </tr>\n",
                            "    <tr>\n",
                            "      <td>1</td>\n",
                            "      <td>2</td>\n",
                            "      <td>1</td>\n",
                            "      <td>A series of escapades demonstrating the adage ...</td>\n",
                            "      <td>2</td>\n",
                            "      <td>a series of escapades demonstrating the adage ...</td>\n",
                            "    </tr>\n",
                            "    <tr>\n",
                            "      <td>2</td>\n",
                            "      <td>3</td>\n",
                            "      <td>1</td>\n",
                            "      <td>A series</td>\n",
                            "      <td>2</td>\n",
                            "      <td>a series</td>\n",
                            "    </tr>\n",
                            "    <tr>\n",
                            "      <td>3</td>\n",
                            "      <td>4</td>\n",
                            "      <td>1</td>\n",
                            "      <td>A</td>\n",
                            "      <td>2</td>\n",
                            "      <td>a</td>\n",
                            "    </tr>\n",
                            "    <tr>\n",
                            "      <td>4</td>\n",
                            "      <td>5</td>\n",
                            "      <td>1</td>\n",
                            "      <td>series</td>\n",
                            "      <td>2</td>\n",
                            "      <td>series</td>\n",
                            "    </tr>\n",
                            "  </tbody>\n",
                            "</table>\n",
                            "</div>"
                        ],
                        "text/plain": [
                            "   PhraseId  SentenceId                                             Phrase  \\\n",
                            "0         1           1  A series of escapades demonstrating the adage ...   \n",
                            "1         2           1  A series of escapades demonstrating the adage ...   \n",
                            "2         3           1                                           A series   \n",
                            "3         4           1                                                  A   \n",
                            "4         5           1                                             series   \n",
                            "\n",
                            "   Sentiment                                          Newphrase  \n",
                            "0          1  a series of escapades demonstrating the adage ...  \n",
                            "1          2  a series of escapades demonstrating the adage ...  \n",
                            "2          2                                           a series  \n",
                            "3          2                                                  a  \n",
                            "4          2                                             series  "
                        ]
                    },
                    "execution_count": 16,
                    "metadata": {},
                    "output_type": "execute_result"
                }
            ],
            "source": [
                "df2.head(5)"
            ]
        },
        {
            "cell_type": "code",
            "execution_count": 17,
            "metadata": {
                "tags": [
                    "None"
                ]
            },
            "outputs": [],
            "source": [
                "#df2.drop('Phrase',inplace=True,axis=1)"
            ]
        },
        {
            "cell_type": "code",
            "execution_count": 18,
            "metadata": {
                "tags": [
                    "None"
                ]
            },
            "outputs": [],
            "source": [
                "#df2.drop('PhraseId', inplace=True,axis=1)"
            ]
        },
        {
            "cell_type": "markdown",
            "metadata": {},
            "source": [
                "# 05 Model Selection"
            ]
        },
        {
            "cell_type": "code",
            "execution_count": 19,
            "metadata": {
                "tags": [
                    "setup_notebook"
                ]
            },
            "outputs": [],
            "source": [
                "from sklearn.model_selection import train_test_split\n",
                "from sklearn.pipeline import Pipeline\n",
                "from sklearn.feature_extraction.text import CountVectorizer, TfidfTransformer, TfidfVectorizer\n",
                "from sklearn.ensemble import RandomForestClassifier"
            ]
        },
        {
            "cell_type": "code",
            "execution_count": 20,
            "metadata": {
                "tags": [
                    "check_results"
                ]
            },
            "outputs": [
                {
                    "name": "stdout",
                    "output_type": "stream",
                    "text": [
                        "<class 'pandas.core.frame.DataFrame'>\n",
                        "RangeIndex: 156060 entries, 0 to 156059\n",
                        "Data columns (total 5 columns):\n",
                        "PhraseId      156060 non-null int64\n",
                        "SentenceId    156060 non-null int64\n",
                        "Phrase        156060 non-null object\n",
                        "Sentiment     156060 non-null int64\n",
                        "Newphrase     156060 non-null object\n",
                        "dtypes: int64(3), object(2)\n",
                        "memory usage: 6.0+ MB\n"
                    ]
                }
            ],
            "source": [
                "df2.info()"
            ]
        },
        {
            "cell_type": "markdown",
            "metadata": {},
            "source": [
                "# 1st model"
            ]
        },
        {
            "cell_type": "code",
            "execution_count": 21,
            "metadata": {
                "tags": [
                    "None"
                ]
            },
            "outputs": [],
            "source": [
                "count_vect = CountVectorizer(stop_words='english',ngram_range=(1,3),analyzer='word')\n",
                "transformer = TfidfTransformer(norm='l2',sublinear_tf=True)"
            ]
        },
        {
            "cell_type": "code",
            "execution_count": 22,
            "metadata": {
                "tags": [
                    "process_data"
                ]
            },
            "outputs": [],
            "source": [
                "#splitting the data into random train and test subsets\n",
                "x_train, x_test, y_train, y_test = train_test_split(df2[\"Newphrase\"],df2[\"Sentiment\"],\n",
                "                                                    test_size = 0.2, random_state = 20)\n",
                "\n",
                "x_train_counts = count_vect.fit_transform(x_train)\n",
                "x_train_tfidf = transformer.fit_transform(x_train_counts)\n",
                "x_test_counts = count_vect.transform(x_test)\n",
                "x_test_tfidf = transformer.transform(x_test_counts)"
            ]
        },
        {
            "cell_type": "code",
            "execution_count": 23,
            "metadata": {
                "tags": [
                    "check_results"
                ]
            },
            "outputs": [
                {
                    "name": "stdout",
                    "output_type": "stream",
                    "text": [
                        "(124848, 128658)\n",
                        "(124848, 128658)\n",
                        "(31212, 128658)\n",
                        "(31212, 128658)\n"
                    ]
                }
            ],
            "source": [
                "print(x_train_counts.shape)\n",
                "print(x_train_tfidf.shape)\n",
                "print(x_test_counts.shape)\n",
                "print(x_test_tfidf.shape)"
            ]
        },
        {
            "cell_type": "code",
            "execution_count": 24,
            "metadata": {
                "tags": [
                    "setup_notebook",
                    "train_model",
                    "evaluate_model"
                ]
            },
            "outputs": [],
            "source": [
                "from sklearn.linear_model import SGDClassifier\n",
                "\n",
                "model = SGDClassifier(loss=\"modified_huber\", penalty=\"l1\")\n",
                "model.fit(x_train_tfidf,y_train)\n",
                "predictions = model.predict(x_test_tfidf)"
            ]
        },
        {
            "cell_type": "code",
            "execution_count": 25,
            "metadata": {
                "tags": [
                    "setup_notebook"
                ]
            },
            "outputs": [],
            "source": [
                "from sklearn.metrics import precision_score,recall_score,f1_score, accuracy_score, confusion_matrix"
            ]
        },
        {
            "cell_type": "code",
            "execution_count": 26,
            "metadata": {
                "tags": [
                    "evaluate_model",
                    "check_results"
                ]
            },
            "outputs": [
                {
                    "data": {
                        "text/plain": [
                            "0.5523836985774702"
                        ]
                    },
                    "execution_count": 26,
                    "metadata": {},
                    "output_type": "execute_result"
                }
            ],
            "source": [
                "accuracy_score(y_test,predictions)"
            ]
        },
        {
            "cell_type": "code",
            "execution_count": 27,
            "metadata": {
                "tags": [
                    "evaluate_model"
                ]
            },
            "outputs": [
                {
                    "data": {
                        "text/plain": [
                            "0.5523836985774702"
                        ]
                    },
                    "execution_count": 27,
                    "metadata": {},
                    "output_type": "execute_result"
                }
            ],
            "source": [
                "f1_score(y_test,predictions, average ='micro')"
            ]
        },
        {
            "cell_type": "code",
            "execution_count": 28,
            "metadata": {
                "tags": [
                    "evaluate_model"
                ]
            },
            "outputs": [
                {
                    "data": {
                        "text/plain": [
                            "0.5523836985774702"
                        ]
                    },
                    "execution_count": 28,
                    "metadata": {},
                    "output_type": "execute_result"
                }
            ],
            "source": [
                "recall_score(y_test,predictions, average = 'micro')"
            ]
        },
        {
            "cell_type": "code",
            "execution_count": 29,
            "metadata": {
                "tags": [
                    "evaluate_model"
                ]
            },
            "outputs": [
                {
                    "data": {
                        "text/plain": [
                            "0.5523836985774702"
                        ]
                    },
                    "execution_count": 29,
                    "metadata": {},
                    "output_type": "execute_result"
                }
            ],
            "source": [
                "precision_score(y_test,predictions,average = 'micro')"
            ]
        },
        {
            "cell_type": "markdown",
            "metadata": {},
            "source": [
                "# 2nd model"
            ]
        },
        {
            "cell_type": "code",
            "execution_count": 30,
            "metadata": {
                "tags": [
                    "setup_notebook",
                    "train_model"
                ]
            },
            "outputs": [
                {
                    "name": "stderr",
                    "output_type": "stream",
                    "text": [
                        "/opt/conda/lib/python3.6/site-packages/sklearn/svm/base.py:929: ConvergenceWarning: Liblinear failed to converge, increase the number of iterations.\n",
                        "  \"the number of iterations.\", ConvergenceWarning)\n"
                    ]
                },
                {
                    "data": {
                        "text/plain": [
                            "LinearSVC(C=2.0, class_weight=None, dual=True, fit_intercept=True,\n",
                            "          intercept_scaling=1, loss='hinge', max_iter=500, multi_class='ovr',\n",
                            "          penalty='l2', random_state=None, tol=0.0001, verbose=0)"
                        ]
                    },
                    "execution_count": 30,
                    "metadata": {},
                    "output_type": "execute_result"
                }
            ],
            "source": [
                "#different classification modesls being used\n",
                "from sklearn.svm import LinearSVC\n",
                "\n",
                "model_svc = LinearSVC(C=2.0,max_iter=500,tol=0.0001,loss ='hinge')\n",
                "model_svc.fit(x_train_counts,y_train)"
            ]
        },
        {
            "cell_type": "code",
            "execution_count": 31,
            "metadata": {
                "tags": [
                    "evaluate_model"
                ]
            },
            "outputs": [],
            "source": [
                "predict_svc = model_svc.predict(x_test_counts)"
            ]
        },
        {
            "cell_type": "code",
            "execution_count": 32,
            "metadata": {
                "tags": [
                    "evaluate_model"
                ]
            },
            "outputs": [
                {
                    "data": {
                        "text/plain": [
                            "0.645520953479431"
                        ]
                    },
                    "execution_count": 32,
                    "metadata": {},
                    "output_type": "execute_result"
                }
            ],
            "source": [
                "f1_score(y_test,predict_svc, average = 'micro')"
            ]
        },
        {
            "cell_type": "code",
            "execution_count": 33,
            "metadata": {
                "tags": [
                    "evaluate_model"
                ]
            },
            "outputs": [
                {
                    "data": {
                        "text/plain": [
                            "0.645520953479431"
                        ]
                    },
                    "execution_count": 33,
                    "metadata": {},
                    "output_type": "execute_result"
                }
            ],
            "source": [
                "recall_score(y_test,predict_svc, average = 'micro')"
            ]
        },
        {
            "cell_type": "code",
            "execution_count": 34,
            "metadata": {
                "tags": [
                    "evaluate_model"
                ]
            },
            "outputs": [
                {
                    "data": {
                        "text/plain": [
                            "0.645520953479431"
                        ]
                    },
                    "execution_count": 34,
                    "metadata": {},
                    "output_type": "execute_result"
                }
            ],
            "source": [
                "accuracy_score(y_test,predict_svc)"
            ]
        },
        {
            "cell_type": "markdown",
            "metadata": {},
            "source": [
                "# 06 Tune the model"
            ]
        },
        {
            "cell_type": "code",
            "execution_count": 35,
            "metadata": {
                "tags": [
                    "setup_notebook",
                    "train_model",
                    "evaluate_model",
                    "check_results"
                ]
            },
            "outputs": [
                {
                    "name": "stdout",
                    "output_type": "stream",
                    "text": [
                        "Fitting 3 folds for each of 15 candidates, totalling 45 fits\n"
                    ]
                },
                {
                    "name": "stderr",
                    "output_type": "stream",
                    "text": [
                        "/opt/conda/lib/python3.6/site-packages/sklearn/model_selection/_split.py:1978: FutureWarning: The default value of cv will change from 3 to 5 in version 0.22. Specify it explicitly to silence this warning.\n",
                        "  warnings.warn(CV_WARNING, FutureWarning)\n",
                        "[Parallel(n_jobs=-1)]: Using backend LokyBackend with 4 concurrent workers.\n",
                        "[Parallel(n_jobs=-1)]: Done  17 tasks      | elapsed:  2.0min\n",
                        "[Parallel(n_jobs=-1)]: Done  45 out of  45 | elapsed: 12.2min finished\n"
                    ]
                },
                {
                    "name": "stdout",
                    "output_type": "stream",
                    "text": [
                        "Best Estimator =  Pipeline(memory=None,\n",
                        "         steps=[('tfidf',\n",
                        "                 TfidfVectorizer(analyzer='word', binary=False,\n",
                        "                                 decode_error='strict',\n",
                        "                                 dtype=<class 'numpy.float64'>,\n",
                        "                                 encoding='utf-8', input='content',\n",
                        "                                 lowercase=True, max_df=1.0, max_features=None,\n",
                        "                                 min_df=1, ngram_range=(1, 2), norm='l2',\n",
                        "                                 preprocessor=None, smooth_idf=True,\n",
                        "                                 stop_words=None, strip_accents=None,\n",
                        "                                 sublinear_tf=True,\n",
                        "                                 token_pattern='(?u)\\\\b\\\\w\\\\w+\\\\b',\n",
                        "                                 tokenizer=None, use_idf=True,\n",
                        "                                 vocabulary=None)),\n",
                        "                ('svc',\n",
                        "                 LinearSVC(C=1, class_weight=None, dual=True,\n",
                        "                           fit_intercept=True, intercept_scaling=1,\n",
                        "                           loss='hinge', max_iter=1000, multi_class='ovr',\n",
                        "                           penalty='l2', random_state=None, tol=0.0001,\n",
                        "                           verbose=0))],\n",
                        "         verbose=False)\n",
                        "Best Score =  0.638520440856081\n"
                    ]
                },
                {
                    "name": "stderr",
                    "output_type": "stream",
                    "text": [
                        "/opt/conda/lib/python3.6/site-packages/sklearn/svm/base.py:929: ConvergenceWarning: Liblinear failed to converge, increase the number of iterations.\n",
                        "  \"the number of iterations.\", ConvergenceWarning)\n"
                    ]
                }
            ],
            "source": [
                "#optimizing parameters\n",
                "from sklearn.model_selection import GridSearchCV\n",
                "\n",
                "\n",
                "params = {\"tfidf__ngram_range\": [(1, 2), (1,3), (1,4)],\n",
                "          \"svc__C\": [.01, .1, 1, 10, 100]}\n",
                "\n",
                "clf = Pipeline([(\"tfidf\", TfidfVectorizer(sublinear_tf=True)),\n",
                "                (\"svc\", LinearSVC(loss='hinge'))])\n",
                "\n",
                "gs = GridSearchCV(clf, params, verbose=4, n_jobs=-1)\n",
                "gs.fit(x_train,y_train)\n",
                "print(\"Best Estimator = \", gs.best_estimator_)\n",
                "print(\"Best Score = \",gs.best_score_)"
            ]
        },
        {
            "cell_type": "code",
            "execution_count": 36,
            "metadata": {
                "tags": [
                    "evaluate_model"
                ]
            },
            "outputs": [],
            "source": [
                "predicted = gs.predict(x_test)"
            ]
        },
        {
            "cell_type": "code",
            "execution_count": 37,
            "metadata": {
                "tags": [
                    "check_results"
                ]
            },
            "outputs": [
                {
                    "data": {
                        "text/plain": [
                            "array([2, 2, 2, ..., 3, 3, 3])"
                        ]
                    },
                    "execution_count": 37,
                    "metadata": {},
                    "output_type": "execute_result"
                }
            ],
            "source": [
                "predicted"
            ]
        },
        {
            "cell_type": "code",
            "execution_count": 38,
            "metadata": {
                "tags": [
                    "evaluate_model"
                ]
            },
            "outputs": [
                {
                    "data": {
                        "text/plain": [
                            "0.6543637062668205"
                        ]
                    },
                    "execution_count": 38,
                    "metadata": {},
                    "output_type": "execute_result"
                }
            ],
            "source": [
                "f1_score(y_test,predicted, average = 'micro')"
            ]
        },
        {
            "cell_type": "code",
            "execution_count": 39,
            "metadata": {
                "tags": [
                    "evaluate_model"
                ]
            },
            "outputs": [
                {
                    "data": {
                        "text/plain": [
                            "0.6543637062668205"
                        ]
                    },
                    "execution_count": 39,
                    "metadata": {},
                    "output_type": "execute_result"
                }
            ],
            "source": [
                "recall_score(y_test,predicted, average = 'micro')"
            ]
        },
        {
            "cell_type": "code",
            "execution_count": 40,
            "metadata": {
                "tags": [
                    "evaluate_model"
                ]
            },
            "outputs": [
                {
                    "data": {
                        "text/plain": [
                            "0.6543637062668205"
                        ]
                    },
                    "execution_count": 40,
                    "metadata": {},
                    "output_type": "execute_result"
                }
            ],
            "source": [
                "precision_score(y_test,predicted, average = 'micro')"
            ]
        },
        {
            "cell_type": "code",
            "execution_count": 41,
            "metadata": {
                "tags": [
                    "evaluate_model"
                ]
            },
            "outputs": [
                {
                    "data": {
                        "text/plain": [
                            "0.6543637062668205"
                        ]
                    },
                    "execution_count": 41,
                    "metadata": {},
                    "output_type": "execute_result"
                }
            ],
            "source": [
                "accuracy_score(y_test,predicted)"
            ]
        },
        {
            "cell_type": "markdown",
            "metadata": {},
            "source": [
                "# 07 Predict on new cases"
            ]
        },
        {
            "cell_type": "code",
            "execution_count": 42,
            "metadata": {
                "tags": [
                    "process_data"
                ]
            },
            "outputs": [],
            "source": [
                "df3['Newphrase']= df3['Phrase'].apply(process)"
            ]
        },
        {
            "cell_type": "code",
            "execution_count": 43,
            "metadata": {
                "tags": [
                    "None"
                ]
            },
            "outputs": [],
            "source": [
                "#df3.drop('Phrase',inplace=True,axis=1)"
            ]
        },
        {
            "cell_type": "code",
            "execution_count": 44,
            "metadata": {
                "tags": [
                    "None"
                ]
            },
            "outputs": [],
            "source": [
                "#df3.drop('PhraseId', inplace=True,axis=1)"
            ]
        },
        {
            "cell_type": "code",
            "execution_count": 45,
            "metadata": {
                "tags": [
                    "check_results"
                ]
            },
            "outputs": [
                {
                    "data": {
                        "text/html": [
                            "<div>\n",
                            "<style scoped>\n",
                            "    .dataframe tbody tr th:only-of-type {\n",
                            "        vertical-align: middle;\n",
                            "    }\n",
                            "\n",
                            "    .dataframe tbody tr th {\n",
                            "        vertical-align: top;\n",
                            "    }\n",
                            "\n",
                            "    .dataframe thead th {\n",
                            "        text-align: right;\n",
                            "    }\n",
                            "</style>\n",
                            "<table border=\"1\" class=\"dataframe\">\n",
                            "  <thead>\n",
                            "    <tr style=\"text-align: right;\">\n",
                            "      <th></th>\n",
                            "      <th>PhraseId</th>\n",
                            "      <th>SentenceId</th>\n",
                            "      <th>Phrase</th>\n",
                            "      <th>Newphrase</th>\n",
                            "    </tr>\n",
                            "  </thead>\n",
                            "  <tbody>\n",
                            "    <tr>\n",
                            "      <td>0</td>\n",
                            "      <td>156061</td>\n",
                            "      <td>8545</td>\n",
                            "      <td>An intermittently pleasing but mostly routine ...</td>\n",
                            "      <td>an intermittently pleasing but mostly routine ...</td>\n",
                            "    </tr>\n",
                            "    <tr>\n",
                            "      <td>1</td>\n",
                            "      <td>156062</td>\n",
                            "      <td>8545</td>\n",
                            "      <td>An intermittently pleasing but mostly routine ...</td>\n",
                            "      <td>an intermittently pleasing but mostly routine ...</td>\n",
                            "    </tr>\n",
                            "    <tr>\n",
                            "      <td>2</td>\n",
                            "      <td>156063</td>\n",
                            "      <td>8545</td>\n",
                            "      <td>An</td>\n",
                            "      <td>an</td>\n",
                            "    </tr>\n",
                            "    <tr>\n",
                            "      <td>3</td>\n",
                            "      <td>156064</td>\n",
                            "      <td>8545</td>\n",
                            "      <td>intermittently pleasing but mostly routine effort</td>\n",
                            "      <td>intermittently pleasing but mostly routine effort</td>\n",
                            "    </tr>\n",
                            "    <tr>\n",
                            "      <td>4</td>\n",
                            "      <td>156065</td>\n",
                            "      <td>8545</td>\n",
                            "      <td>intermittently pleasing but mostly routine</td>\n",
                            "      <td>intermittently pleasing but mostly routine</td>\n",
                            "    </tr>\n",
                            "  </tbody>\n",
                            "</table>\n",
                            "</div>"
                        ],
                        "text/plain": [
                            "   PhraseId  SentenceId                                             Phrase  \\\n",
                            "0    156061        8545  An intermittently pleasing but mostly routine ...   \n",
                            "1    156062        8545  An intermittently pleasing but mostly routine ...   \n",
                            "2    156063        8545                                                 An   \n",
                            "3    156064        8545  intermittently pleasing but mostly routine effort   \n",
                            "4    156065        8545         intermittently pleasing but mostly routine   \n",
                            "\n",
                            "                                           Newphrase  \n",
                            "0  an intermittently pleasing but mostly routine ...  \n",
                            "1  an intermittently pleasing but mostly routine ...  \n",
                            "2                                                 an  \n",
                            "3  intermittently pleasing but mostly routine effort  \n",
                            "4         intermittently pleasing but mostly routine  "
                        ]
                    },
                    "execution_count": 45,
                    "metadata": {},
                    "output_type": "execute_result"
                }
            ],
            "source": [
                "df3.head(5)"
            ]
        },
        {
            "cell_type": "code",
            "execution_count": 46,
            "metadata": {
                "tags": [
                    "evaluate_model"
                ]
            },
            "outputs": [],
            "source": [
                "predicted = gs.predict(df3['Newphrase'])"
            ]
        },
        {
            "cell_type": "code",
            "execution_count": 47,
            "metadata": {
                "tags": [
                    "evaluate_model",
                    "transfer_results"
                ]
            },
            "outputs": [],
            "source": [
                "final_predict = pd.DataFrame(predicted,columns=['Sentiment'])\n",
                "result = pd.DataFrame(df3['PhraseId'])\n",
                "result = pd.concat([result,final_predict],axis=1)\n",
                "result.to_csv('Submission.csv',index=False)"
            ]
        },
        {
            "cell_type": "code",
            "execution_count": 48,
            "metadata": {
                "tags": [
                    "check_results"
                ]
            },
            "outputs": [
                {
                    "data": {
                        "text/plain": [
                            "array([3, 3, 3, ..., 1, 1, 1])"
                        ]
                    },
                    "execution_count": 48,
                    "metadata": {},
                    "output_type": "execute_result"
                }
            ],
            "source": [
                "predicted"
            ]
        },
        {
            "cell_type": "code",
            "execution_count": 49,
            "metadata": {
                "tags": [
                    "check_results"
                ]
            },
            "outputs": [
                {
                    "data": {
                        "text/html": [
                            "<div>\n",
                            "<style scoped>\n",
                            "    .dataframe tbody tr th:only-of-type {\n",
                            "        vertical-align: middle;\n",
                            "    }\n",
                            "\n",
                            "    .dataframe tbody tr th {\n",
                            "        vertical-align: top;\n",
                            "    }\n",
                            "\n",
                            "    .dataframe thead th {\n",
                            "        text-align: right;\n",
                            "    }\n",
                            "</style>\n",
                            "<table border=\"1\" class=\"dataframe\">\n",
                            "  <thead>\n",
                            "    <tr style=\"text-align: right;\">\n",
                            "      <th></th>\n",
                            "      <th>PhraseId</th>\n",
                            "      <th>Sentiment</th>\n",
                            "    </tr>\n",
                            "  </thead>\n",
                            "  <tbody>\n",
                            "    <tr>\n",
                            "      <td>0</td>\n",
                            "      <td>156061</td>\n",
                            "      <td>3</td>\n",
                            "    </tr>\n",
                            "    <tr>\n",
                            "      <td>1</td>\n",
                            "      <td>156062</td>\n",
                            "      <td>3</td>\n",
                            "    </tr>\n",
                            "    <tr>\n",
                            "      <td>2</td>\n",
                            "      <td>156063</td>\n",
                            "      <td>3</td>\n",
                            "    </tr>\n",
                            "    <tr>\n",
                            "      <td>3</td>\n",
                            "      <td>156064</td>\n",
                            "      <td>2</td>\n",
                            "    </tr>\n",
                            "    <tr>\n",
                            "      <td>4</td>\n",
                            "      <td>156065</td>\n",
                            "      <td>2</td>\n",
                            "    </tr>\n",
                            "    <tr>\n",
                            "      <td>...</td>\n",
                            "      <td>...</td>\n",
                            "      <td>...</td>\n",
                            "    </tr>\n",
                            "    <tr>\n",
                            "      <td>66287</td>\n",
                            "      <td>222348</td>\n",
                            "      <td>1</td>\n",
                            "    </tr>\n",
                            "    <tr>\n",
                            "      <td>66288</td>\n",
                            "      <td>222349</td>\n",
                            "      <td>1</td>\n",
                            "    </tr>\n",
                            "    <tr>\n",
                            "      <td>66289</td>\n",
                            "      <td>222350</td>\n",
                            "      <td>1</td>\n",
                            "    </tr>\n",
                            "    <tr>\n",
                            "      <td>66290</td>\n",
                            "      <td>222351</td>\n",
                            "      <td>1</td>\n",
                            "    </tr>\n",
                            "    <tr>\n",
                            "      <td>66291</td>\n",
                            "      <td>222352</td>\n",
                            "      <td>1</td>\n",
                            "    </tr>\n",
                            "  </tbody>\n",
                            "</table>\n",
                            "<p>66292 rows × 2 columns</p>\n",
                            "</div>"
                        ],
                        "text/plain": [
                            "       PhraseId  Sentiment\n",
                            "0        156061          3\n",
                            "1        156062          3\n",
                            "2        156063          3\n",
                            "3        156064          2\n",
                            "4        156065          2\n",
                            "...         ...        ...\n",
                            "66287    222348          1\n",
                            "66288    222349          1\n",
                            "66289    222350          1\n",
                            "66290    222351          1\n",
                            "66291    222352          1\n",
                            "\n",
                            "[66292 rows x 2 columns]"
                        ]
                    },
                    "execution_count": 49,
                    "metadata": {},
                    "output_type": "execute_result"
                }
            ],
            "source": [
                "result"
            ]
        },
        {
            "cell_type": "code",
            "execution_count": 50,
            "metadata": {
                "tags": [
                    "check_results"
                ]
            },
            "outputs": [
                {
                    "data": {
                        "text/plain": [
                            "2    41600\n",
                            "3    12991\n",
                            "1     8048\n",
                            "4     2313\n",
                            "0     1340\n",
                            "Name: Sentiment, dtype: int64"
                        ]
                    },
                    "execution_count": 50,
                    "metadata": {},
                    "output_type": "execute_result"
                }
            ],
            "source": [
                "result['Sentiment'].value_counts()"
            ]
        },
        {
            "cell_type": "code",
            "execution_count": null,
            "metadata": {
                "tags": [
                    "None"
                ]
            },
            "outputs": [],
            "source": []
        }
    ],
    "metadata": {
        "kernelspec": {
            "display_name": "Python 3",
            "language": "python",
            "name": "python3"
        },
        "language_info": {
            "codemirror_mode": {
                "name": "ipython",
                "version": 3
            },
            "file_extension": ".py",
            "mimetype": "text/x-python",
            "name": "python",
            "nbconvert_exporter": "python",
            "pygments_lexer": "ipython3",
            "version": "3.6.6"
        },
        "celltoolbar": "Tags"
    },
    "nbformat": 4,
    "nbformat_minor": 1
}