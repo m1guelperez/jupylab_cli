{
    "cells": [
        {
            "cell_type": "markdown",
            "metadata": {},
            "source": [
                "# **Vectorizers** - #1 micro challenge\n",
                "# Rules\n",
                "I have an idea of an alternative challenge format for a while. I want to test it.\n",
                "In short, it's a short challenge with specific measurable goals to be achieved.\n",
                "\n",
                "In this challenge, you are given a fixed pipeline and only can change the vectorization process. The vectorization method interface is fixed, the rest is up to you.\n",
                "\n",
                "You need to **fork [original notebook](https://www.kaggle.com/dremovd/micro-challenge-vectorizers)**\n",
                "In order to compete, you also need to **make your Kaggle notebook public**.\n",
                "\n",
                "# Challenge [data](https://www.kaggle.com/c/nlp-getting-started/data)\n",
                "Data is the same as for the official competition, you can read description here https://www.kaggle.com/c/nlp-getting-started/data\n",
                "\n",
                "# Goals\n",
                "- 🥉 Bronze. F1-score >= **0.80** at **public** leaderboard \n",
                "- 🥈 Silver. F1-score >= **0.81** at **public** leaderboard\n",
                "- 🥇 Gold. F1-score >= **0.81** at **public** leaderboard + runtime is below **1 minute**\n",
                "\n",
                "# [Submit](https://forms.gle/H8MPo4xpu4NDVsX49)\n",
                "You can submit your **public** Kaggle notebook via this [link](https://forms.gle/H8MPo4xpu4NDVsX49) \n",
                "# [Leaderboard](http://bit.ly/36pSp3S) \n",
                "The final leaderboard is sorted by a medal type and then by submission time. The earlier you achieved the goal is better. You can see current leaderboard by this [link](http://bit.ly/36pSp3S)"
            ]
        },
        {
            "cell_type": "markdown",
            "metadata": {},
            "source": [
                "# Fixed pipeline\n",
                "In order to participate, the part below need to be unchanged"
            ]
        },
        {
            "cell_type": "code",
            "execution_count": 1,
            "metadata": {
                "_cell_guid": "b1076dfc-b9ad-4769-8c92-a6c4dae69d19",
                "_uuid": "8f2839f25d086af736a60e9eeb907d3b93b6e0e5",
                "tags": [
                    "setup_notebook",
                    "ingest_data",
                    "train_model",
                    "evaluate_model",
                    "transfer_results",
                    "check_results"
                ]
            },
            "outputs": [],
            "source": [
                "import pandas as pd\n",
                "import numpy as np\n",
                "from joblib import Parallel, delayed\n",
                "\n",
                "from sklearn.svm import LinearSVC\n",
                "from sklearn.linear_model import LogisticRegression, RidgeClassifier\n",
                "from sklearn.model_selection import StratifiedKFold, cross_val_score\n",
                "from sklearn.metrics import f1_score\n",
                "import scipy\n",
                "\n",
                "\n",
                "def simple_pipeline():\n",
                "    print(\"Load data\")\n",
                "    train, test = load_data()\n",
                "    \n",
                "    data = pd.concat([train, test], axis=0, ignore_index=True)\n",
                "    print(\"Vectorization\")\n",
                "    X = vectorization(data.drop('target', axis=1))\n",
                "    if type(X) == scipy.sparse.coo_matrix:\n",
                "        X = X.tocsr()\n",
                "        \n",
                "    test_mask = data.is_test.values\n",
                "    \n",
                "    X_train = X[~test_mask]\n",
                "    y_train = data['target'][~test_mask]\n",
                "    \n",
                "    X_test = X[test_mask]\n",
                "    if scipy.sparse.issparse(X):\n",
                "        X_train.sort_indices()\n",
                "        X_test.sort_indices()\n",
                "\n",
                "    model = build_model(X_train, y_train)\n",
                "    \n",
                "    print(\"Prediction with model\")\n",
                "    p = model.predict(X_test)\n",
                "    \n",
                "    print(\"Generate submission\")\n",
                "    make_submission(data[test_mask], p)\n",
                "\n",
                "\n",
                "def load_data():\n",
                "    train = pd.read_csv('/kaggle/input/nlp-getting-started/train.csv')\n",
                "    train['is_test'] = False\n",
                "    \n",
                "    test = pd.read_csv('/kaggle/input/nlp-getting-started/test.csv')\n",
                "    test['target'] = -1\n",
                "    test['is_test'] = True\n",
                "    \n",
                "    return train, test\n",
                "\n",
                "\n",
                "def calculate_validation_metric(model, X, y, metric):\n",
                "    folds = StratifiedKFold(n_splits=4, shuffle=True, random_state=0)\n",
                "    score = cross_val_score(model, X, y, scoring=metric, cv=folds, n_jobs=4)\n",
                "    \n",
                "    return np.mean(score), model\n",
                "\n",
                "\n",
                "def select_model(X, y):\n",
                "    models = [\n",
                "        LinearSVC(C=30),\n",
                "        LinearSVC(C=10),\n",
                "        LinearSVC(C=3),\n",
                "        LinearSVC(C=1),\n",
                "        LinearSVC(C=0.3),\n",
                "        LinearSVC(C=0.1),\n",
                "        LinearSVC(C=0.03),\n",
                "        RidgeClassifier(alpha=30),\n",
                "        RidgeClassifier(alpha=10),\n",
                "        RidgeClassifier(alpha=3),\n",
                "        RidgeClassifier(alpha=1),\n",
                "        RidgeClassifier(alpha=0.3),\n",
                "        RidgeClassifier(alpha=0.1),\n",
                "        RidgeClassifier(alpha=0.03),\n",
                "        LogisticRegression(C=30),\n",
                "        LogisticRegression(C=10),\n",
                "        LogisticRegression(C=3),\n",
                "        LogisticRegression(C=1),\n",
                "        LogisticRegression(C=0.3),\n",
                "        LogisticRegression(C=0.1),\n",
                "        LogisticRegression(C=0.03),\n",
                "    ]\n",
                "    \n",
                "    results = [calculate_validation_metric(\n",
                "        model, X, y, 'f1_macro',\n",
                "    ) for model in models]\n",
                "\n",
                "    best_result, best_model = max(results, key = lambda x: x[0]) \n",
                "    print(\"Best model validation result: {:.4f}\".format(best_result))\n",
                "    print(\"Best model: {}\".format(best_model))\n",
                "    \n",
                "    return best_model\n",
                "\n",
                "\n",
                "def build_model(X, y):\n",
                "    print(\"Selecting best model\")\n",
                "    best_model = select_model(X, y)\n",
                "    \n",
                "    print(\"Refit model to full dataset\")\n",
                "    best_model.fit(X, y)\n",
                "    \n",
                "    return best_model\n",
                "\n",
                "    \n",
                "def make_submission(data, p):\n",
                "    submission = data[['id']].copy()\n",
                "    submission['target'] = p\n",
                "    submission.to_csv('submission.csv', index=False)"
            ]
        },
        {
            "cell_type": "markdown",
            "metadata": {},
            "source": [
                "# Your part\n",
                "## In *vectorization* method you can change everything and use any dependencies"
            ]
        },
        {
            "cell_type": "code",
            "execution_count": 2,
            "metadata": {
                "tags": [
                    "setup_notebook",
                    "process_data"
                ]
            },
            "outputs": [],
            "source": [
                "from sklearn.feature_extraction.text import TfidfVectorizer, CountVectorizer, HashingVectorizer\n",
                "from scipy.sparse import hstack\n",
                "\n",
                "def vectorization(data):\n",
                "    \"\"\"\n",
                "    data is concatenated train and test datasets with target excluded\n",
                "    Result value \"vectors\" expected to have some number of rows as data\n",
                "    \"\"\"\n",
                "    \n",
                "    tfidf_chars = TfidfVectorizer(\n",
                "        analyzer='char',\n",
                "        strip_accents='ascii',\n",
                "        ngram_range=(3, 6),\n",
                "        min_df=0.0015\n",
                "    )\n",
                "    \n",
                "    tfidf_words = TfidfVectorizer(\n",
                "        analyzer='word',\n",
                "        strip_accents='ascii',\n",
                "    )\n",
                "    \n",
                "    \n",
                "    \n",
                "    text = data['text'].fillna('').str.lower()\n",
                "    keyword = data['keyword'].fillna('').str.lower()\n",
                "    \n",
                "    vectors_word = tfidf_words.fit_transform(text + ' ' + keyword)\n",
                "    vectors_char = tfidf_chars.fit_transform(text)\n",
                "\n",
                "    return hstack((vectors_word, vectors_char))"
            ]
        },
        {
            "cell_type": "code",
            "execution_count": 3,
            "metadata": {
                "tags": [
                    "setup_notebook"
                ]
            },
            "outputs": [
                {
                    "name": "stdout",
                    "output_type": "stream",
                    "text": [
                        "Load data\n",
                        "Vectorization\n",
                        "Selecting best model\n",
                        "Best model validation result: 0.8071\n",
                        "Best model: LinearSVC(C=0.1, class_weight=None, dual=True, fit_intercept=True,\n",
                        "          intercept_scaling=1, loss='squared_hinge', max_iter=1000,\n",
                        "          multi_class='ovr', penalty='l2', random_state=None, tol=0.0001,\n",
                        "          verbose=0)\n",
                        "Refit model to full dataset\n",
                        "Prediction with model\n",
                        "Generate submission\n",
                        "CPU times: user 13.4 s, sys: 1.09 s, total: 14.5 s\n",
                        "Wall time: 1min\n"
                    ]
                }
            ],
            "source": [
                "%%time \n",
                "\n",
                "simple_pipeline()"
            ]
        }
    ],
    "metadata": {
        "kernelspec": {
            "display_name": "Python 3",
            "language": "python",
            "name": "python3"
        },
        "language_info": {
            "codemirror_mode": {
                "name": "ipython",
                "version": 3
            },
            "file_extension": ".py",
            "mimetype": "text/x-python",
            "name": "python",
            "nbconvert_exporter": "python",
            "pygments_lexer": "ipython3",
            "version": "3.6.6"
        },
        "celltoolbar": "Tags"
    },
    "nbformat": 4,
    "nbformat_minor": 1
}