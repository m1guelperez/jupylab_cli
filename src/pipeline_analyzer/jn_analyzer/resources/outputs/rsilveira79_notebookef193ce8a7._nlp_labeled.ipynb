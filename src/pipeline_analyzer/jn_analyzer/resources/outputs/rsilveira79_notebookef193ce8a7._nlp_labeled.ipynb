{
    "cells": [
        {
            "cell_type": "markdown",
            "metadata": {
                "_cell_guid": "2a95adb3-4e18-e85e-15e2-c84e90cf006d"
            },
            "source": [
                "Basic Test"
            ]
        },
        {
            "cell_type": "code",
            "execution_count": 1,
            "metadata": {
                "_cell_guid": "010c1db0-8b12-00e9-6a9e-7eeb2a3272df",
                "tags": [
                    "setup_notebook",
                    "check_results"
                ]
            },
            "outputs": [
                {
                    "ename": "NameError",
                    "evalue": "name 'sys' is not defined",
                    "output_type": "error",
                    "traceback": [
                        "\u001b[0;31m---------------------------------------------------------------------------\u001b[0m",
                        "\u001b[0;31mNameError\u001b[0m                                 Traceback (most recent call last)",
                        "\u001b[0;32m<ipython-input-1-f6095fe7b71e>\u001b[0m in \u001b[0;36m<module>\u001b[0;34m()\u001b[0m\n\u001b[0;32m----> 1\u001b[0;31m \u001b[0msys\u001b[0m\u001b[0;31m# This Python 3 environment comes with many helpful analytics libraries installed\u001b[0m\u001b[0;34m\u001b[0m\u001b[0m\n\u001b[0m\u001b[1;32m      2\u001b[0m \u001b[0;31m# It is defined by the kaggle/python docker image: https://github.com/kaggle/docker-python\u001b[0m\u001b[0;34m\u001b[0m\u001b[0;34m\u001b[0m\u001b[0m\n\u001b[1;32m      3\u001b[0m \u001b[0;31m# For example, here's several helpful packages to load in\u001b[0m\u001b[0;34m\u001b[0m\u001b[0;34m\u001b[0m\u001b[0m\n\u001b[1;32m      4\u001b[0m \u001b[0;34m\u001b[0m\u001b[0m\n\u001b[1;32m      5\u001b[0m \u001b[0;32mimport\u001b[0m \u001b[0mnumpy\u001b[0m \u001b[0;32mas\u001b[0m \u001b[0mnp\u001b[0m \u001b[0;31m# linear algebra\u001b[0m\u001b[0;34m\u001b[0m\u001b[0m\n",
                        "\u001b[0;31mNameError\u001b[0m: name 'sys' is not defined"
                    ]
                }
            ],
            "source": [
                "sys# This Python 3 environment comes with many helpful analytics libraries installed\n",
                "# It is defined by the kaggle/python docker image: https://github.com/kaggle/docker-python\n",
                "# For example, here's several helpful packages to load in \n",
                "\n",
                "import numpy as np # linear algebra\n",
                "import pandas as pd # data processing, CSV file I/O (e.g. pd.read_csv)\n",
                "\n",
                "# Input data files are available in the \"../input/\" directory.\n",
                "# For example, running this (by clicking run or pressing Shift+Enter) will list the files in the input directory\n",
                "\n",
                "from subprocess import check_output\n",
                "print(check_output([\"ls\", \"../input\"]).decode(\"utf8\"))\n",
                "\n",
                "# Any results you write to the current directory are saved as output.\n",
                "\n",
                "import pandas as pd\n",
                "import numpy as np\n",
                "import tensorflow as tf\n",
                "from pandas import DataFrame, read_csv\n",
                "import sys\n",
                "import matplotlib.pyplot as plt\n",
                "import matplotlib\n",
                "%matplotlib inline"
            ]
        },
        {
            "cell_type": "code",
            "execution_count": 2,
            "metadata": {
                "_cell_guid": "39389041-e467-5943-68a0-d41a99a422e6",
                "tags": [
                    "check_results"
                ]
            },
            "outputs": [
                {
                    "ename": "NameError",
                    "evalue": "name 'sys' is not defined",
                    "output_type": "error",
                    "traceback": [
                        "\u001b[0;31m---------------------------------------------------------------------------\u001b[0m",
                        "\u001b[0;31mNameError\u001b[0m                                 Traceback (most recent call last)",
                        "\u001b[0;32m<ipython-input-2-4ccb711d81e2>\u001b[0m in \u001b[0;36m<module>\u001b[0;34m()\u001b[0m\n\u001b[0;32m----> 1\u001b[0;31m \u001b[0msys\u001b[0m\u001b[0;34m.\u001b[0m\u001b[0mversion\u001b[0m\u001b[0;34m\u001b[0m\u001b[0m\n\u001b[0m\u001b[1;32m      2\u001b[0m \u001b[0mtf\u001b[0m\u001b[0;34m.\u001b[0m\u001b[0mversion\u001b[0m\u001b[0;34m\u001b[0m\u001b[0m\n",
                        "\u001b[0;31mNameError\u001b[0m: name 'sys' is not defined"
                    ]
                }
            ],
            "source": [
                "sys.version\n",
                "tf.version"
            ]
        },
        {
            "cell_type": "code",
            "execution_count": 3,
            "metadata": {
                "_cell_guid": "3a1c4552-56f2-5f97-6b5f-863da8f1ac57",
                "tags": [
                    "None"
                ]
            },
            "outputs": [],
            "source": []
        }
    ],
    "metadata": {
        "_change_revision": 38,
        "_is_fork": false,
        "kernelspec": {
            "display_name": "Python 3",
            "language": "python",
            "name": "python3"
        },
        "language_info": {
            "codemirror_mode": {
                "name": "ipython",
                "version": 3
            },
            "file_extension": ".py",
            "mimetype": "text/x-python",
            "name": "python",
            "nbconvert_exporter": "python",
            "pygments_lexer": "ipython3",
            "version": "3.5.2"
        },
        "celltoolbar": "Tags"
    },
    "nbformat": 4,
    "nbformat_minor": 0
}