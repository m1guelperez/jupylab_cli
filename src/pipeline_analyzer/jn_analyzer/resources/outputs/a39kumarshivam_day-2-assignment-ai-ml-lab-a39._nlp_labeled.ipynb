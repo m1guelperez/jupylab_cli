{
    "cells": [
        {
            "cell_type": "code",
            "execution_count": 1,
            "metadata": {
                "_cell_guid": "b1076dfc-b9ad-4769-8c92-a6c4dae69d19",
                "_uuid": "8f2839f25d086af736a60e9eeb907d3b93b6e0e5",
                "execution": {
                    "iopub.execute_input": "2020-08-10T10:16:36.050378Z",
                    "iopub.status.busy": "2020-08-10T10:16:36.048972Z",
                    "iopub.status.idle": "2020-08-10T10:16:36.054355Z",
                    "shell.execute_reply": "2020-08-10T10:16:36.053383Z"
                },
                "papermill": {
                    "duration": 0.026316,
                    "end_time": "2020-08-10T10:16:36.054551",
                    "exception": false,
                    "start_time": "2020-08-10T10:16:36.028235",
                    "status": "completed"
                },
                "tags": [
                    "setup_notebook",
                    "check_results"
                ]
            },
            "outputs": [],
            "source": [
                "# This Python 3 environment comes with many helpful analytics libraries installed\n",
                "# It is defined by the kaggle/python Docker image: https://github.com/kaggle/docker-python\n",
                "# For example, here's several helpful packages to load\n",
                "\n",
                "import numpy as np # linear algebra\n",
                "import pandas as pd # data processing, CSV file I/O (e.g. pd.read_csv)\n",
                "\n",
                "# Input data files are available in the read-only \"../input/\" directory\n",
                "# For example, running this (by clicking run or pressing Shift+Enter) will list all files under the input directory\n",
                "\n",
                "import os\n",
                "for dirname, _, filenames in os.walk('/kaggle/input'):\n",
                "    for filename in filenames:\n",
                "        print(os.path.join(dirname, filename))\n",
                "\n",
                "# You can write up to 5GB to the current directory (/kaggle/working/) that gets preserved as output when you create a version using \"Save & Run All\" \n",
                "# You can also write temporary files to /kaggle/temp/, but they won't be saved outside of the current session"
            ]
        },
        {
            "cell_type": "code",
            "execution_count": 2,
            "metadata": {
                "_cell_guid": "79c7e3d0-c299-4dcb-8224-4455121ee9b0",
                "_uuid": "d629ff2d2480ee46fbb7e2d37f6b5fab8052498a",
                "execution": {
                    "iopub.execute_input": "2020-08-10T10:16:36.083797Z",
                    "iopub.status.busy": "2020-08-10T10:16:36.082828Z",
                    "iopub.status.idle": "2020-08-10T10:16:36.088623Z",
                    "shell.execute_reply": "2020-08-10T10:16:36.087705Z"
                },
                "papermill": {
                    "duration": 0.024453,
                    "end_time": "2020-08-10T10:16:36.088811",
                    "exception": false,
                    "start_time": "2020-08-10T10:16:36.064358",
                    "status": "completed"
                },
                "tags": [
                    "setup_notebook",
                    "process_data",
                    "check_results"
                ]
            },
            "outputs": [
                {
                    "name": "stdout",
                    "output_type": "stream",
                    "text": [
                        "[ 1  1  2  3  5  8 13 21 34 55 79]\n"
                    ]
                }
            ],
            "source": [
                "# 1.Create 1D,2D and boolean array using numpy.\n",
                "#1D array\n",
                "import numpy as np\n",
                "a = np.array([1,1,2,3,5,8,13,21,34,55,79])\n",
                "print(a)"
            ]
        },
        {
            "cell_type": "code",
            "execution_count": 3,
            "metadata": {
                "execution": {
                    "iopub.execute_input": "2020-08-10T10:16:36.117658Z",
                    "iopub.status.busy": "2020-08-10T10:16:36.116659Z",
                    "iopub.status.idle": "2020-08-10T10:16:36.121949Z",
                    "shell.execute_reply": "2020-08-10T10:16:36.120945Z"
                },
                "papermill": {
                    "duration": 0.023139,
                    "end_time": "2020-08-10T10:16:36.122145",
                    "exception": false,
                    "start_time": "2020-08-10T10:16:36.099006",
                    "status": "completed"
                },
                "tags": [
                    "setup_notebook",
                    "process_data",
                    "check_results"
                ]
            },
            "outputs": [
                {
                    "name": "stdout",
                    "output_type": "stream",
                    "text": [
                        "[[  2   3   5   7]\n",
                        " [ 73  37  19  17]\n",
                        " [101 111 153  59]]\n"
                    ]
                }
            ],
            "source": [
                "#2D array\n",
                "import numpy as np\n",
                "b = [2,3,5,7],[73,37,19,17],[101,111,153,59]\n",
                "c = np.array(b)\n",
                "print(c)\n"
            ]
        },
        {
            "cell_type": "code",
            "execution_count": 4,
            "metadata": {
                "execution": {
                    "iopub.execute_input": "2020-08-10T10:16:36.150542Z",
                    "iopub.status.busy": "2020-08-10T10:16:36.149635Z",
                    "iopub.status.idle": "2020-08-10T10:16:36.154472Z",
                    "shell.execute_reply": "2020-08-10T10:16:36.153714Z"
                },
                "papermill": {
                    "duration": 0.021679,
                    "end_time": "2020-08-10T10:16:36.154603",
                    "exception": false,
                    "start_time": "2020-08-10T10:16:36.132924",
                    "status": "completed"
                },
                "tags": [
                    "setup_notebook",
                    "process_data",
                    "check_results"
                ]
            },
            "outputs": [
                {
                    "name": "stdout",
                    "output_type": "stream",
                    "text": [
                        "[ True  True  True False  True]\n"
                    ]
                }
            ],
            "source": [
                "#boolean array\n",
                "import numpy as np\n",
                "d = np.array([1,1,.5,0,0.66], dtype=bool)\n",
                "print(d)"
            ]
        },
        {
            "cell_type": "code",
            "execution_count": 5,
            "metadata": {
                "execution": {
                    "iopub.execute_input": "2020-08-10T10:16:36.184948Z",
                    "iopub.status.busy": "2020-08-10T10:16:36.184059Z",
                    "iopub.status.idle": "2020-08-10T10:16:36.188220Z",
                    "shell.execute_reply": "2020-08-10T10:16:36.188855Z"
                },
                "papermill": {
                    "duration": 0.0239,
                    "end_time": "2020-08-10T10:16:36.189074",
                    "exception": false,
                    "start_time": "2020-08-10T10:16:36.165174",
                    "status": "completed"
                },
                "tags": [
                    "setup_notebook",
                    "process_data",
                    "check_results"
                ]
            },
            "outputs": [
                {
                    "name": "stdout",
                    "output_type": "stream",
                    "text": [
                        "[ 3  5  1 11]\n"
                    ]
                }
            ],
            "source": [
                "# 2. Extract the odd numbers from a 2D array using numpy package.\n",
                "import numpy as np\n",
                "b = np.array([[2,3,5], [1,6,11]], np.int32)\n",
                "c = (b[b%2!=0])\n",
                "print(c)"
            ]
        },
        {
            "cell_type": "code",
            "execution_count": 6,
            "metadata": {
                "execution": {
                    "iopub.execute_input": "2020-08-10T10:16:36.217632Z",
                    "iopub.status.busy": "2020-08-10T10:16:36.216839Z",
                    "iopub.status.idle": "2020-08-10T10:16:36.220443Z",
                    "shell.execute_reply": "2020-08-10T10:16:36.219572Z"
                },
                "papermill": {
                    "duration": 0.020095,
                    "end_time": "2020-08-10T10:16:36.220595",
                    "exception": false,
                    "start_time": "2020-08-10T10:16:36.200500",
                    "status": "completed"
                },
                "tags": [
                    "None"
                ]
            },
            "outputs": [],
            "source": [
                "# 3. How to replace items that satisfy a condition with another value in numpy array?\n",
                "# this is done by following syntax\n",
                "# Arraynew = (<condition of the array>).<function>"
            ]
        },
        {
            "cell_type": "code",
            "execution_count": 7,
            "metadata": {
                "execution": {
                    "iopub.execute_input": "2020-08-10T10:16:36.253678Z",
                    "iopub.status.busy": "2020-08-10T10:16:36.252462Z",
                    "iopub.status.idle": "2020-08-10T10:16:36.258819Z",
                    "shell.execute_reply": "2020-08-10T10:16:36.257971Z"
                },
                "papermill": {
                    "duration": 0.026871,
                    "end_time": "2020-08-10T10:16:36.258979",
                    "exception": false,
                    "start_time": "2020-08-10T10:16:36.232108",
                    "status": "completed"
                },
                "tags": [
                    "setup_notebook",
                    "process_data",
                    "check_results"
                ]
            },
            "outputs": [
                {
                    "name": "stdout",
                    "output_type": "stream",
                    "text": [
                        "[ 2  3  5  7 11]\n",
                        "[1, 2, 3, 4, 5, 6, 7, 8, 9]\n",
                        "common values between two arrays are\n",
                        "[2 3 5 7]\n"
                    ]
                }
            ],
            "source": [
                "# 4. How to get the common items between two python numpy arrays?\n",
                "import numpy as np\n",
                "a1 = np.array([2,3,5,7,11])\n",
                "print(a1)\n",
                "a2 = [1,2,3,4,5,6,7,8,9]\n",
                "print(a2)\n",
                "print(\"common values between two arrays are\")\n",
                "print(np.intersect1d(a1,a2))"
            ]
        },
        {
            "cell_type": "code",
            "execution_count": 8,
            "metadata": {
                "execution": {
                    "iopub.execute_input": "2020-08-10T10:16:36.294644Z",
                    "iopub.status.busy": "2020-08-10T10:16:36.293551Z",
                    "iopub.status.idle": "2020-08-10T10:16:36.298454Z",
                    "shell.execute_reply": "2020-08-10T10:16:36.297450Z"
                },
                "papermill": {
                    "duration": 0.027361,
                    "end_time": "2020-08-10T10:16:36.298646",
                    "exception": false,
                    "start_time": "2020-08-10T10:16:36.271285",
                    "status": "completed"
                },
                "tags": [
                    "setup_notebook",
                    "process_data",
                    "check_results"
                ]
            },
            "outputs": [
                {
                    "name": "stdout",
                    "output_type": "stream",
                    "text": [
                        "[ 2  3  5  7 11]\n",
                        "[1, 2, 3, 4, 5, 6, 7, 8, 9]\n",
                        "new array is [1, 4, 6, 8, 9]\n"
                    ]
                }
            ],
            "source": [
                "# 5. How to remove from one array those items that exist in another?\n",
                "import numpy as np\n",
                "b1 = np.array([2,4,6,8,10,12])\n",
                "print(a1)\n",
                "b2 = [1,2,3,4,5,6,7,8,9,10]\n",
                "print(a2)\n",
                "for i in a1:\n",
                "    if i in a2:\n",
                "        a2.remove(i)\n",
                "print(\"new array is\",a2)        "
            ]
        },
        {
            "cell_type": "code",
            "execution_count": 9,
            "metadata": {
                "execution": {
                    "iopub.execute_input": "2020-08-10T10:16:36.336792Z",
                    "iopub.status.busy": "2020-08-10T10:16:36.335869Z",
                    "iopub.status.idle": "2020-08-10T10:16:36.341576Z",
                    "shell.execute_reply": "2020-08-10T10:16:36.340863Z"
                },
                "papermill": {
                    "duration": 0.02956,
                    "end_time": "2020-08-10T10:16:36.341760",
                    "exception": false,
                    "start_time": "2020-08-10T10:16:36.312200",
                    "status": "completed"
                },
                "tags": [
                    "setup_notebook",
                    "process_data"
                ]
            },
            "outputs": [
                {
                    "data": {
                        "text/plain": [
                            "(array([3]),)"
                        ]
                    },
                    "execution_count": 9,
                    "metadata": {},
                    "output_type": "execute_result"
                }
            ],
            "source": [
                "# 6. How to get the position where elements of two arrays match?\n",
                "import numpy as np\n",
                "a1 = np.array([1,2,3,4,6,10])\n",
                "a2 = np.array([10,9,5,4,2,3])\n",
                "np.where(a1==a2)"
            ]
        }
    ],
    "metadata": {
        "kernelspec": {
            "display_name": "Python 3",
            "language": "python",
            "name": "python3"
        },
        "language_info": {
            "codemirror_mode": {
                "name": "ipython",
                "version": 3
            },
            "file_extension": ".py",
            "mimetype": "text/x-python",
            "name": "python",
            "nbconvert_exporter": "python",
            "pygments_lexer": "ipython3",
            "version": "3.7.6"
        },
        "papermill": {
            "duration": 5.992563,
            "end_time": "2020-08-10T10:16:36.465109",
            "environment_variables": {},
            "exception": null,
            "input_path": "__notebook__.ipynb",
            "output_path": "__notebook__.ipynb",
            "parameters": {},
            "start_time": "2020-08-10T10:16:30.472546",
            "version": "2.1.0"
        },
        "celltoolbar": "Tags"
    },
    "nbformat": 4,
    "nbformat_minor": 4
}