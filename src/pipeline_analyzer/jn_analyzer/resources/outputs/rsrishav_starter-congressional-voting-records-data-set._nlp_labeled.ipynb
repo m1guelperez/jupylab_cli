{
    "cells": [
        {
            "cell_type": "markdown",
            "execution_count": null,
            "metadata": {
                "papermill": {
                    "duration": 0.006995,
                    "end_time": "2020-08-10T16:39:08.852702",
                    "exception": false,
                    "start_time": "2020-08-10T16:39:08.845707",
                    "status": "completed"
                },
                "tags": []
            },
            "source": [
                "## Introduction\n",
                "This is generated kernel with starter code demonstrating how to read in the data and begin exploring. If you're inspired to dig deeper, click the blue \"Fork Notebook\" button at the top of this kernel to begin editing."
            ]
        },
        {
            "cell_type": "markdown",
            "execution_count": null,
            "metadata": {
                "papermill": {
                    "duration": 0.004995,
                    "end_time": "2020-08-10T16:39:08.863488",
                    "exception": false,
                    "start_time": "2020-08-10T16:39:08.858493",
                    "status": "completed"
                },
                "tags": []
            },
            "source": [
                "## Exploratory Analysis\n",
                "To begin this exploratory analysis, first import libraries and define functions for plotting the data using `matplotlib`. Depending on the data, not all plots will be made."
            ]
        },
        {
            "cell_type": "code",
            "execution_count": 1,
            "metadata": {
                "_cell_guid": "b1076dfc-b9ad-4769-8c92-a6c4dae69d19",
                "_uuid": "8f2839f25d086af736a60e9eeb907d3b93b6e0e5",
                "execution": {
                    "iopub.execute_input": "2020-08-10T16:39:08.881302Z",
                    "iopub.status.busy": "2020-08-10T16:39:08.880449Z",
                    "iopub.status.idle": "2020-08-10T16:39:09.831441Z",
                    "shell.execute_reply": "2020-08-10T16:39:09.830702Z"
                },
                "papermill": {
                    "duration": 0.962802,
                    "end_time": "2020-08-10T16:39:09.831582",
                    "exception": false,
                    "start_time": "2020-08-10T16:39:08.868780",
                    "status": "completed"
                },
                "tags": [
                    "setup_notebook"
                ]
            },
            "outputs": [],
            "source": [
                "from mpl_toolkits.mplot3d import Axes3D\n",
                "from sklearn.preprocessing import StandardScaler\n",
                "import matplotlib.pyplot as plt # plotting\n",
                "import numpy as np # linear algebra\n",
                "import os # accessing directory structure\n",
                "import pandas as pd # data processing, CSV file I/O (e.g. pd.read_csv)\n"
            ]
        },
        {
            "cell_type": "code",
            "execution_count": 2,
            "metadata": {
                "execution": {
                    "iopub.execute_input": "2020-08-10T16:39:09.848946Z",
                    "iopub.status.busy": "2020-08-10T16:39:09.848121Z",
                    "iopub.status.idle": "2020-08-10T16:39:09.855398Z",
                    "shell.execute_reply": "2020-08-10T16:39:09.854637Z"
                },
                "papermill": {
                    "duration": 0.018422,
                    "end_time": "2020-08-10T16:39:09.855537",
                    "exception": false,
                    "start_time": "2020-08-10T16:39:09.837115",
                    "status": "completed"
                },
                "tags": [
                    "check_results"
                ]
            },
            "outputs": [
                {
                    "name": "stdout",
                    "output_type": "stream",
                    "text": [
                        "/kaggle/input/congressional-voting-records-data-set/house-votes-84.data.csv\n",
                        "/kaggle/input/congressional-voting-records-data-set/README.md\n",
                        "/kaggle/input/congressional-voting-records-data-set/house-votes-84.names\n"
                    ]
                }
            ],
            "source": [
                "for dirname, _, filenames in os.walk('/kaggle/input'):\n",
                "    for filename in filenames:\n",
                "        print(os.path.join(dirname, filename))\n"
            ]
        },
        {
            "cell_type": "markdown",
            "execution_count": null,
            "metadata": {
                "papermill": {
                    "duration": 0.007003,
                    "end_time": "2020-08-10T16:39:09.868295",
                    "exception": false,
                    "start_time": "2020-08-10T16:39:09.861292",
                    "status": "completed"
                },
                "tags": []
            },
            "source": [
                "The next hidden code cells define functions for plotting data. Click on the \"Code\" button in the published kernel to reveal the hidden code."
            ]
        },
        {
            "cell_type": "code",
            "execution_count": 3,
            "metadata": {
                "_cell_guid": "79c7e3d0-c299-4dcb-8224-4455121ee9b0",
                "_uuid": "d629ff2d2480ee46fbb7e2d37f6b5fab8052498a",
                "execution": {
                    "iopub.execute_input": "2020-08-10T16:39:09.894510Z",
                    "iopub.status.busy": "2020-08-10T16:39:09.893333Z",
                    "iopub.status.idle": "2020-08-10T16:39:09.898402Z",
                    "shell.execute_reply": "2020-08-10T16:39:09.897599Z"
                },
                "papermill": {
                    "duration": 0.024839,
                    "end_time": "2020-08-10T16:39:09.898536",
                    "exception": false,
                    "start_time": "2020-08-10T16:39:09.873697",
                    "status": "completed"
                },
                "tags": [
                    "visualize_data"
                ]
            },
            "outputs": [],
            "source": [
                "# Distribution graphs (histogram/bar graph) of column data\n",
                "def plotPerColumnDistribution(df, nGraphShown, nGraphPerRow):\n",
                "    nunique = df.nunique()\n",
                "    df = df[[col for col in df if nunique[col] > 1 and nunique[col] < 50]] # For displaying purposes, pick columns that have between 1 and 50 unique values\n",
                "    nRow, nCol = df.shape\n",
                "    columnNames = list(df)\n",
                "    nGraphRow = (nCol + nGraphPerRow - 1) / nGraphPerRow\n",
                "    plt.figure(num = None, figsize = (6 * nGraphPerRow, 8 * nGraphRow), dpi = 80, facecolor = 'w', edgecolor = 'k')\n",
                "    for i in range(min(nCol, nGraphShown)):\n",
                "        plt.subplot(nGraphRow, nGraphPerRow, i + 1)\n",
                "        columnDf = df.iloc[:, i]\n",
                "        if (not np.issubdtype(type(columnDf.iloc[0]), np.number)):\n",
                "            valueCounts = columnDf.value_counts()\n",
                "            valueCounts.plot.bar()\n",
                "        else:\n",
                "            columnDf.hist()\n",
                "        plt.ylabel('counts')\n",
                "        plt.xticks(rotation = 90)\n",
                "        plt.title(f'{columnNames[i]} (column {i})')\n",
                "    plt.tight_layout(pad = 1.0, w_pad = 1.0, h_pad = 1.0)\n",
                "    plt.show()\n"
            ]
        },
        {
            "cell_type": "code",
            "execution_count": 4,
            "metadata": {
                "execution": {
                    "iopub.execute_input": "2020-08-10T16:39:09.923775Z",
                    "iopub.status.busy": "2020-08-10T16:39:09.922834Z",
                    "iopub.status.idle": "2020-08-10T16:39:09.925937Z",
                    "shell.execute_reply": "2020-08-10T16:39:09.925242Z"
                },
                "papermill": {
                    "duration": 0.021649,
                    "end_time": "2020-08-10T16:39:09.926085",
                    "exception": false,
                    "start_time": "2020-08-10T16:39:09.904436",
                    "status": "completed"
                },
                "tags": [
                    "visualize_data",
                    "check_results"
                ]
            },
            "outputs": [],
            "source": [
                "# Correlation matrix\n",
                "def plotCorrelationMatrix(df, graphWidth):\n",
                "    filename = df.dataframeName\n",
                "    df = df.dropna('columns') # drop columns with NaN\n",
                "    df = df[[col for col in df if df[col].nunique() > 1]] # keep columns where there are more than 1 unique values\n",
                "    if df.shape[1] < 2:\n",
                "        print(f'No correlation plots shown: The number of non-NaN or constant columns ({df.shape[1]}) is less than 2')\n",
                "        return\n",
                "    corr = df.corr()\n",
                "    plt.figure(num=None, figsize=(graphWidth, graphWidth), dpi=80, facecolor='w', edgecolor='k')\n",
                "    corrMat = plt.matshow(corr, fignum = 1)\n",
                "    plt.xticks(range(len(corr.columns)), corr.columns, rotation=90)\n",
                "    plt.yticks(range(len(corr.columns)), corr.columns)\n",
                "    plt.gca().xaxis.tick_bottom()\n",
                "    plt.colorbar(corrMat)\n",
                "    plt.title(f'Correlation Matrix for {filename}', fontsize=15)\n",
                "    plt.show()\n"
            ]
        },
        {
            "cell_type": "code",
            "execution_count": 5,
            "metadata": {
                "execution": {
                    "iopub.execute_input": "2020-08-10T16:39:09.950764Z",
                    "iopub.status.busy": "2020-08-10T16:39:09.946088Z",
                    "iopub.status.idle": "2020-08-10T16:39:09.954740Z",
                    "shell.execute_reply": "2020-08-10T16:39:09.954015Z"
                },
                "papermill": {
                    "duration": 0.023007,
                    "end_time": "2020-08-10T16:39:09.954896",
                    "exception": false,
                    "start_time": "2020-08-10T16:39:09.931889",
                    "status": "completed"
                },
                "tags": [
                    "visualize_data"
                ]
            },
            "outputs": [],
            "source": [
                "# Scatter and density plots\n",
                "def plotScatterMatrix(df, plotSize, textSize):\n",
                "    df = df.select_dtypes(include =[np.number]) # keep only numerical columns\n",
                "    # Remove rows and columns that would lead to df being singular\n",
                "    df = df.dropna('columns')\n",
                "    df = df[[col for col in df if df[col].nunique() > 1]] # keep columns where there are more than 1 unique values\n",
                "    columnNames = list(df)\n",
                "    if len(columnNames) > 10: # reduce the number of columns for matrix inversion of kernel density plots\n",
                "        columnNames = columnNames[:10]\n",
                "    df = df[columnNames]\n",
                "    ax = pd.plotting.scatter_matrix(df, alpha=0.75, figsize=[plotSize, plotSize], diagonal='kde')\n",
                "    corrs = df.corr().values\n",
                "    for i, j in zip(*plt.np.triu_indices_from(ax, k = 1)):\n",
                "        ax[i, j].annotate('Corr. coef = %.3f' % corrs[i, j], (0.8, 0.2), xycoords='axes fraction', ha='center', va='center', size=textSize)\n",
                "    plt.suptitle('Scatter and Density Plot')\n",
                "    plt.show()\n"
            ]
        },
        {
            "cell_type": "markdown",
            "execution_count": null,
            "metadata": {
                "papermill": {
                    "duration": 0.005646,
                    "end_time": "2020-08-10T16:39:09.966555",
                    "exception": false,
                    "start_time": "2020-08-10T16:39:09.960909",
                    "status": "completed"
                },
                "tags": []
            },
            "source": [
                "Now you're ready to read in the data and use the plotting functions to visualize the data."
            ]
        },
        {
            "cell_type": "markdown",
            "execution_count": null,
            "metadata": {
                "papermill": {
                    "duration": 0.005301,
                    "end_time": "2020-08-10T16:39:09.977486",
                    "exception": false,
                    "start_time": "2020-08-10T16:39:09.972185",
                    "status": "completed"
                },
                "tags": []
            },
            "source": [
                "### Let's check the file: /kaggle/input/congressional-voting-records-data-set/house-votes-84.data.csv"
            ]
        },
        {
            "cell_type": "code",
            "execution_count": 6,
            "metadata": {
                "execution": {
                    "iopub.execute_input": "2020-08-10T16:39:09.997595Z",
                    "iopub.status.busy": "2020-08-10T16:39:09.996700Z",
                    "iopub.status.idle": "2020-08-10T16:39:10.014136Z",
                    "shell.execute_reply": "2020-08-10T16:39:10.013276Z"
                },
                "papermill": {
                    "duration": 0.0312,
                    "end_time": "2020-08-10T16:39:10.014330",
                    "exception": false,
                    "start_time": "2020-08-10T16:39:09.983130",
                    "status": "completed"
                },
                "tags": [
                    "ingest_data",
                    "check_results"
                ]
            },
            "outputs": [
                {
                    "name": "stdout",
                    "output_type": "stream",
                    "text": [
                        "There are 435 rows and 17 columns\n"
                    ]
                }
            ],
            "source": [
                "nRowsRead = 1000 # specify 'None' if want to read whole file\n",
                "# tic-tac-toe.data.csv may have more rows in reality, but we are only loading/previewing the first 1000 rows\n",
                "df1 = pd.read_csv('/kaggle/input/congressional-voting-records-data-set/house-votes-84.data.csv', delimiter=',', nrows = nRowsRead)\n",
                "df1.dataframeName = 'house-votes-84.data.csv.csv'\n",
                "nRow, nCol = df1.shape\n",
                "print(f'There are {nRow} rows and {nCol} columns')"
            ]
        },
        {
            "cell_type": "code",
            "execution_count": 7,
            "metadata": {
                "execution": {
                    "iopub.execute_input": "2020-08-10T16:39:10.048257Z",
                    "iopub.status.busy": "2020-08-10T16:39:10.047428Z",
                    "iopub.status.idle": "2020-08-10T16:39:10.064646Z",
                    "shell.execute_reply": "2020-08-10T16:39:10.065208Z"
                },
                "papermill": {
                    "duration": 0.044526,
                    "end_time": "2020-08-10T16:39:10.065384",
                    "exception": false,
                    "start_time": "2020-08-10T16:39:10.020858",
                    "status": "completed"
                },
                "tags": [
                    "check_results"
                ]
            },
            "outputs": [
                {
                    "data": {
                        "text/html": [
                            "<div>\n",
                            "<style scoped>\n",
                            "    .dataframe tbody tr th:only-of-type {\n",
                            "        vertical-align: middle;\n",
                            "    }\n",
                            "\n",
                            "    .dataframe tbody tr th {\n",
                            "        vertical-align: top;\n",
                            "    }\n",
                            "\n",
                            "    .dataframe thead th {\n",
                            "        text-align: right;\n",
                            "    }\n",
                            "</style>\n",
                            "<table border=\"1\" class=\"dataframe\">\n",
                            "  <thead>\n",
                            "    <tr style=\"text-align: right;\">\n",
                            "      <th></th>\n",
                            "      <th>Class Name</th>\n",
                            "      <th>handicapped-infants</th>\n",
                            "      <th>water-project-cost-sharing</th>\n",
                            "      <th>adoption-of-the-budget-resolution</th>\n",
                            "      <th>physician-fee-freeze</th>\n",
                            "      <th>el-salvador-aid</th>\n",
                            "      <th>religious-groups-in-schools</th>\n",
                            "      <th>anti-satellite-test-ban</th>\n",
                            "      <th>aid-to-nicaraguan-contras</th>\n",
                            "      <th>mx-missile</th>\n",
                            "      <th>immigration</th>\n",
                            "      <th>synfuels-corporation-cutback</th>\n",
                            "      <th>education-spending</th>\n",
                            "      <th>superfund-right-to-sue</th>\n",
                            "      <th>crime</th>\n",
                            "      <th>duty-free-exports</th>\n",
                            "      <th>export-administration-act-south-africa</th>\n",
                            "    </tr>\n",
                            "  </thead>\n",
                            "  <tbody>\n",
                            "    <tr>\n",
                            "      <th>0</th>\n",
                            "      <td>republican</td>\n",
                            "      <td>n</td>\n",
                            "      <td>y</td>\n",
                            "      <td>n</td>\n",
                            "      <td>y</td>\n",
                            "      <td>y</td>\n",
                            "      <td>y</td>\n",
                            "      <td>n</td>\n",
                            "      <td>n</td>\n",
                            "      <td>n</td>\n",
                            "      <td>y</td>\n",
                            "      <td>?</td>\n",
                            "      <td>y</td>\n",
                            "      <td>y</td>\n",
                            "      <td>y</td>\n",
                            "      <td>n</td>\n",
                            "      <td>y</td>\n",
                            "    </tr>\n",
                            "    <tr>\n",
                            "      <th>1</th>\n",
                            "      <td>republican</td>\n",
                            "      <td>n</td>\n",
                            "      <td>y</td>\n",
                            "      <td>n</td>\n",
                            "      <td>y</td>\n",
                            "      <td>y</td>\n",
                            "      <td>y</td>\n",
                            "      <td>n</td>\n",
                            "      <td>n</td>\n",
                            "      <td>n</td>\n",
                            "      <td>n</td>\n",
                            "      <td>n</td>\n",
                            "      <td>y</td>\n",
                            "      <td>y</td>\n",
                            "      <td>y</td>\n",
                            "      <td>n</td>\n",
                            "      <td>?</td>\n",
                            "    </tr>\n",
                            "    <tr>\n",
                            "      <th>2</th>\n",
                            "      <td>democrat</td>\n",
                            "      <td>?</td>\n",
                            "      <td>y</td>\n",
                            "      <td>y</td>\n",
                            "      <td>?</td>\n",
                            "      <td>y</td>\n",
                            "      <td>y</td>\n",
                            "      <td>n</td>\n",
                            "      <td>n</td>\n",
                            "      <td>n</td>\n",
                            "      <td>n</td>\n",
                            "      <td>y</td>\n",
                            "      <td>n</td>\n",
                            "      <td>y</td>\n",
                            "      <td>y</td>\n",
                            "      <td>n</td>\n",
                            "      <td>n</td>\n",
                            "    </tr>\n",
                            "    <tr>\n",
                            "      <th>3</th>\n",
                            "      <td>democrat</td>\n",
                            "      <td>n</td>\n",
                            "      <td>y</td>\n",
                            "      <td>y</td>\n",
                            "      <td>n</td>\n",
                            "      <td>?</td>\n",
                            "      <td>y</td>\n",
                            "      <td>n</td>\n",
                            "      <td>n</td>\n",
                            "      <td>n</td>\n",
                            "      <td>n</td>\n",
                            "      <td>y</td>\n",
                            "      <td>n</td>\n",
                            "      <td>y</td>\n",
                            "      <td>n</td>\n",
                            "      <td>n</td>\n",
                            "      <td>y</td>\n",
                            "    </tr>\n",
                            "    <tr>\n",
                            "      <th>4</th>\n",
                            "      <td>democrat</td>\n",
                            "      <td>y</td>\n",
                            "      <td>y</td>\n",
                            "      <td>y</td>\n",
                            "      <td>n</td>\n",
                            "      <td>y</td>\n",
                            "      <td>y</td>\n",
                            "      <td>n</td>\n",
                            "      <td>n</td>\n",
                            "      <td>n</td>\n",
                            "      <td>n</td>\n",
                            "      <td>y</td>\n",
                            "      <td>?</td>\n",
                            "      <td>y</td>\n",
                            "      <td>y</td>\n",
                            "      <td>y</td>\n",
                            "      <td>y</td>\n",
                            "    </tr>\n",
                            "  </tbody>\n",
                            "</table>\n",
                            "</div>"
                        ],
                        "text/plain": [
                            "   Class Name handicapped-infants water-project-cost-sharing  \\\n",
                            "0  republican                   n                          y   \n",
                            "1  republican                   n                          y   \n",
                            "2    democrat                   ?                          y   \n",
                            "3    democrat                   n                          y   \n",
                            "4    democrat                   y                          y   \n",
                            "\n",
                            "  adoption-of-the-budget-resolution physician-fee-freeze el-salvador-aid  \\\n",
                            "0                                 n                    y               y   \n",
                            "1                                 n                    y               y   \n",
                            "2                                 y                    ?               y   \n",
                            "3                                 y                    n               ?   \n",
                            "4                                 y                    n               y   \n",
                            "\n",
                            "  religious-groups-in-schools anti-satellite-test-ban  \\\n",
                            "0                           y                       n   \n",
                            "1                           y                       n   \n",
                            "2                           y                       n   \n",
                            "3                           y                       n   \n",
                            "4                           y                       n   \n",
                            "\n",
                            "  aid-to-nicaraguan-contras mx-missile immigration  \\\n",
                            "0                         n          n           y   \n",
                            "1                         n          n           n   \n",
                            "2                         n          n           n   \n",
                            "3                         n          n           n   \n",
                            "4                         n          n           n   \n",
                            "\n",
                            "  synfuels-corporation-cutback education-spending superfund-right-to-sue  \\\n",
                            "0                            ?                  y                      y   \n",
                            "1                            n                  y                      y   \n",
                            "2                            y                  n                      y   \n",
                            "3                            y                  n                      y   \n",
                            "4                            y                  ?                      y   \n",
                            "\n",
                            "  crime duty-free-exports export-administration-act-south-africa  \n",
                            "0     y                 n                                      y  \n",
                            "1     y                 n                                      ?  \n",
                            "2     y                 n                                      n  \n",
                            "3     n                 n                                      y  \n",
                            "4     y                 y                                      y  "
                        ]
                    },
                    "execution_count": 7,
                    "metadata": {},
                    "output_type": "execute_result"
                }
            ],
            "source": [
                "df1.head(5)"
            ]
        },
        {
            "cell_type": "markdown",
            "execution_count": null,
            "metadata": {
                "papermill": {
                    "duration": 0.006105,
                    "end_time": "2020-08-10T16:39:10.078024",
                    "exception": false,
                    "start_time": "2020-08-10T16:39:10.071919",
                    "status": "completed"
                },
                "tags": []
            },
            "source": [
                "Distribution graphs (histogram/bar graph) of sampled columns:"
            ]
        },
        {
            "cell_type": "code",
            "execution_count": 8,
            "metadata": {
                "execution": {
                    "iopub.execute_input": "2020-08-10T16:39:10.096137Z",
                    "iopub.status.busy": "2020-08-10T16:39:10.095297Z",
                    "iopub.status.idle": "2020-08-10T16:39:11.785988Z",
                    "shell.execute_reply": "2020-08-10T16:39:11.786580Z"
                },
                "papermill": {
                    "duration": 1.702562,
                    "end_time": "2020-08-10T16:39:11.786747",
                    "exception": false,
                    "start_time": "2020-08-10T16:39:10.084185",
                    "status": "completed"
                },
                "tags": [
                    "visualize_data"
                ]
            },
            "outputs": [
                {
                    "data": {
                        "image/png": "[encoded data removed]",
                        "text/plain": [
                            "<Figure size 2400x2688 with 10 Axes>"
                        ]
                    },
                    "metadata": {},
                    "output_type": "display_data"
                }
            ],
            "source": [
                "plotPerColumnDistribution(df1, 10, 5)"
            ]
        },
        {
            "cell_type": "markdown",
            "execution_count": null,
            "metadata": {
                "papermill": {
                    "duration": 0.007221,
                    "end_time": "2020-08-10T16:39:11.802094",
                    "exception": false,
                    "start_time": "2020-08-10T16:39:11.794873",
                    "status": "completed"
                },
                "tags": []
            },
            "source": [
                "## Conclusion\n",
                "This concludes your starter analysis! To go forward from here, click the blue \"Fork Notebook\" button at the top of this kernel. This will create a copy of the code and environment for you to edit. Delete, modify, and add code as you please. Happy Kaggling!"
            ]
        }
    ],
    "metadata": {
        "kernelspec": {
            "display_name": "Python 3",
            "language": "python",
            "name": "python3"
        },
        "language_info": {
            "codemirror_mode": {
                "name": "ipython",
                "version": 3
            },
            "file_extension": ".py",
            "mimetype": "text/x-python",
            "name": "python",
            "nbconvert_exporter": "python",
            "pygments_lexer": "ipython3",
            "version": "3.7.6"
        },
        "papermill": {
            "duration": 7.758502,
            "end_time": "2020-08-10T16:39:11.917117",
            "environment_variables": {},
            "exception": null,
            "input_path": "__notebook__.ipynb",
            "output_path": "__notebook__.ipynb",
            "parameters": {},
            "start_time": "2020-08-10T16:39:04.158615",
            "version": "2.1.0"
        },
        "celltoolbar": "Tags"
    },
    "nbformat": 4,
    "nbformat_minor": 4
}