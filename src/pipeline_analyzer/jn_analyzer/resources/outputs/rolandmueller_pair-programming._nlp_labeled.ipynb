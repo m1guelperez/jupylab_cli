{
    "cells": [
        {
            "cell_type": "code",
            "execution_count": 1,
            "metadata": {
                "_cell_guid": "b1076dfc-b9ad-4769-8c92-a6c4dae69d19",
                "_uuid": "8f2839f25d086af736a60e9eeb907d3b93b6e0e5",
                "tags": [
                    "setup_notebook",
                    "check_results"
                ]
            },
            "outputs": [],
            "source": [
                "# This Python 3 environment comes with many helpful analytics libraries installed\n",
                "# It is defined by the kaggle/python Docker image: https://github.com/kaggle/docker-python\n",
                "# For example, here's several helpful packages to load\n",
                "\n",
                "import numpy as np # linear algebra\n",
                "import pandas as pd # data processing, CSV file I/O (e.g. pd.read_csv)\n",
                "\n",
                "# Input data files are available in the read-only \"../input/\" directory\n",
                "# For example, running this (by clicking run or pressing Shift+Enter) will list all files under the input directory\n",
                "\n",
                "import os\n",
                "for dirname, _, filenames in os.walk('/kaggle/input'):\n",
                "    for filename in filenames:\n",
                "        print(os.path.join(dirname, filename))\n",
                "\n",
                "# You can write up to 5GB to the current directory (/kaggle/working/) that gets preserved as output when you create a version using \"Save & Run All\" \n",
                "# You can also write temporary files to /kaggle/temp/, but they won't be saved outside of the current session"
            ]
        },
        {
            "cell_type": "markdown",
            "execution_count": null,
            "metadata": {},
            "source": [
                "# Aufgabe 1"
            ]
        },
        {
            "cell_type": "code",
            "execution_count": 2,
            "metadata": {
                "_cell_guid": "79c7e3d0-c299-4dcb-8224-4455121ee9b0",
                "_uuid": "d629ff2d2480ee46fbb7e2d37f6b5fab8052498a",
                "tags": [
                    "check_results"
                ]
            },
            "outputs": [],
            "source": [
                "def flaeche(breite, laenge):\n",
                "    return breite * laenge"
            ]
        },
        {
            "cell_type": "code",
            "execution_count": 3,
            "metadata": {
                "tags": [
                    "check_results"
                ]
            },
            "outputs": [
                {
                    "name": "stdout",
                    "output_type": "stream",
                    "text": [
                        "6\n"
                    ]
                }
            ],
            "source": [
                "print(flaeche(2, 3))"
            ]
        },
        {
            "cell_type": "code",
            "execution_count": 4,
            "metadata": {
                "tags": [
                    "process_data",
                    "check_results"
                ]
            },
            "outputs": [
                {
                    "name": "stdout",
                    "output_type": "stream",
                    "text": [
                        "6\n"
                    ]
                }
            ],
            "source": [
                "a = 2\n",
                "b = 3\n",
                "flaeche = a * b\n",
                "print(flaeche)"
            ]
        },
        {
            "cell_type": "markdown",
            "execution_count": null,
            "metadata": {},
            "source": [
                "# Aufgabe 2"
            ]
        },
        {
            "cell_type": "code",
            "execution_count": 5,
            "metadata": {
                "tags": [
                    "check_results"
                ]
            },
            "outputs": [
                {
                    "name": "stdout",
                    "output_type": "stream",
                    "text": [
                        "Falscher Nutzername und Falsches Passwort\n"
                    ]
                }
            ],
            "source": [
                "username = \"Pet\"\n",
                "password = \"Gem\"\n",
                "\n",
                "if username == \"Peter\" and password == \"Geheim\":\n",
                "    print(\"Willkommen Peter!\")\n",
                "elif username != \"Peter\" and password != \"Geheim\":\n",
                "    print(\"Falscher Nutzername und Falsches Passwort\")\n",
                "elif username != \"Peter\":\n",
                "    print(\"Falscher Nutzername\")\n",
                "elif password != \"Geheim\":\n",
                "    print(\"Falsches Password\")\n"
            ]
        },
        {
            "cell_type": "markdown",
            "execution_count": null,
            "metadata": {},
            "source": [
                "# Aufgabe 3"
            ]
        },
        {
            "cell_type": "code",
            "execution_count": 6,
            "metadata": {
                "tags": [
                    "process_data",
                    "check_results"
                ]
            },
            "outputs": [
                {
                    "name": "stdout",
                    "output_type": "stream",
                    "text": [
                        "4\n",
                        "16\n",
                        "36\n",
                        "100\n",
                        "225\n"
                    ]
                }
            ],
            "source": [
                "liste = [2, 4, 6, 10, 15]\n",
                "\n",
                "for l in liste:\n",
                "    print(l ** 2)"
            ]
        },
        {
            "cell_type": "markdown",
            "execution_count": null,
            "metadata": {},
            "source": [
                "# Aufgabe 4"
            ]
        },
        {
            "cell_type": "code",
            "execution_count": 7,
            "metadata": {
                "tags": [
                    "process_data",
                    "check_results"
                ]
            },
            "outputs": [
                {
                    "name": "stdout",
                    "output_type": "stream",
                    "text": [
                        "preiswerte Stühle\n",
                        "preiswerte Sessel\n",
                        "preiswerte Möbel\n",
                        "preiswerte Tische\n",
                        "billige Stühle\n",
                        "billige Sessel\n",
                        "billige Möbel\n",
                        "billige Tische\n",
                        "günstig Stühle\n",
                        "günstig Sessel\n",
                        "günstig Möbel\n",
                        "günstig Tische\n",
                        "herabgesetzt Stühle\n",
                        "herabgesetzt Sessel\n",
                        "herabgesetzt Möbel\n",
                        "herabgesetzt Tische\n"
                    ]
                }
            ],
            "source": [
                "adjectives = [\"preiswerte\", \"billige\", \"günstig\", \"herabgesetzt\"]\n",
                "nouns = [\"Stühle\", \"Sessel\", \"Möbel\", \"Tische\"]\n",
                "\n",
                "for a in adjectives:\n",
                "    for b in nouns:\n",
                "        print(a, b)"
            ]
        },
        {
            "cell_type": "code",
            "execution_count": null,
            "metadata": {
                "tags": [
                    "None"
                ]
            },
            "outputs": [],
            "source": []
        }
    ],
    "metadata": {
        "kernelspec": {
            "display_name": "Python 3",
            "language": "python",
            "name": "python3"
        },
        "language_info": {
            "codemirror_mode": {
                "name": "ipython",
                "version": 3
            },
            "file_extension": ".py",
            "mimetype": "text/x-python",
            "name": "python",
            "nbconvert_exporter": "python",
            "pygments_lexer": "ipython3",
            "version": "3.7.6"
        },
        "celltoolbar": "Tags"
    },
    "nbformat": 4,
    "nbformat_minor": 4
}