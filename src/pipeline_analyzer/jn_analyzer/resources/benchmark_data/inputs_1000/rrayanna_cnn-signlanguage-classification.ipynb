{
 "cells": [
  {
   "cell_type": "code",
   "execution_count": 1,
   "metadata": {
    "_cell_guid": "b1076dfc-b9ad-4769-8c92-a6c4dae69d19",
    "_uuid": "8f2839f25d086af736a60e9eeb907d3b93b6e0e5",
    "execution": {
     "iopub.execute_input": "2020-08-25T20:29:51.869192Z",
     "iopub.status.busy": "2020-08-25T20:29:51.868411Z",
     "iopub.status.idle": "2020-08-25T20:29:58.225153Z",
     "shell.execute_reply": "2020-08-25T20:29:58.224250Z"
    },
    "papermill": {
     "duration": 6.376646,
     "end_time": "2020-08-25T20:29:58.225300",
     "exception": false,
     "start_time": "2020-08-25T20:29:51.848654",
     "status": "completed"
    },
    "tags": []
   },
   "outputs": [],
   "source": [
    "# Import Libraries\n",
    "\n",
    "import numpy as np # linear algebra\n",
    "import pandas as pd # data processing, CSV file I/O (e.g. pd.read_csv)\n",
    "\n",
    "import tensorflow as tf\n",
    "from tensorflow import keras\n",
    "\n",
    "import matplotlib.pyplot as plt"
   ]
  },
  {
   "cell_type": "code",
   "execution_count": 2,
   "metadata": {
    "_cell_guid": "79c7e3d0-c299-4dcb-8224-4455121ee9b0",
    "_uuid": "d629ff2d2480ee46fbb7e2d37f6b5fab8052498a",
    "execution": {
     "iopub.execute_input": "2020-08-25T20:29:58.261474Z",
     "iopub.status.busy": "2020-08-25T20:29:58.260647Z",
     "iopub.status.idle": "2020-08-25T20:30:03.285011Z",
     "shell.execute_reply": "2020-08-25T20:30:03.284175Z"
    },
    "papermill": {
     "duration": 5.047691,
     "end_time": "2020-08-25T20:30:03.285224",
     "exception": false,
     "start_time": "2020-08-25T20:29:58.237533",
     "status": "completed"
    },
    "tags": []
   },
   "outputs": [],
   "source": [
    "# Load Data\n",
    "train = pd.read_csv('../input/sign-language-mnist/sign_mnist_train/sign_mnist_train.csv')\n",
    "test = pd.read_csv('../input/sign-language-mnist/sign_mnist_test/sign_mnist_test.csv')"
   ]
  },
  {
   "cell_type": "code",
   "execution_count": 3,
   "metadata": {
    "execution": {
     "iopub.execute_input": "2020-08-25T20:30:03.319084Z",
     "iopub.status.busy": "2020-08-25T20:30:03.318335Z",
     "iopub.status.idle": "2020-08-25T20:30:03.477916Z",
     "shell.execute_reply": "2020-08-25T20:30:03.477183Z"
    },
    "papermill": {
     "duration": 0.180693,
     "end_time": "2020-08-25T20:30:03.478038",
     "exception": false,
     "start_time": "2020-08-25T20:30:03.297345",
     "status": "completed"
    },
    "tags": []
   },
   "outputs": [
    {
     "name": "stdout",
     "output_type": "stream",
     "text": [
      "Using 21964 samples for training and 5491 for validation\n"
     ]
    }
   ],
   "source": [
    "# Split the train data to train set and valid set\n",
    "val_data = train.sample(frac=0.2, random_state=42)\n",
    "train_data = train.drop(val_data.index)\n",
    "\n",
    "print(\n",
    "    \"Using %d samples for training and %d for validation\"\n",
    "    % (len(train_data), len(val_data))\n",
    ")"
   ]
  },
  {
   "cell_type": "code",
   "execution_count": 4,
   "metadata": {
    "execution": {
     "iopub.execute_input": "2020-08-25T20:30:03.515170Z",
     "iopub.status.busy": "2020-08-25T20:30:03.513576Z",
     "iopub.status.idle": "2020-08-25T20:30:03.804062Z",
     "shell.execute_reply": "2020-08-25T20:30:03.803417Z"
    },
    "papermill": {
     "duration": 0.313686,
     "end_time": "2020-08-25T20:30:03.804204",
     "exception": false,
     "start_time": "2020-08-25T20:30:03.490518",
     "status": "completed"
    },
    "tags": []
   },
   "outputs": [],
   "source": [
    "# Split data to X and y labels\n",
    "x_train = train_data.drop('label', axis = 1)\n",
    "y_train = train_data.pop(\"label\")\n",
    "\n",
    "x_valid = val_data.drop('label', axis = 1)\n",
    "y_valid = val_data.pop(\"label\")\n",
    "\n",
    "x_test = test.drop('label', axis = 1)\n",
    "y_test = test.pop(\"label\")"
   ]
  },
  {
   "cell_type": "code",
   "execution_count": 5,
   "metadata": {
    "execution": {
     "iopub.execute_input": "2020-08-25T20:30:03.836309Z",
     "iopub.status.busy": "2020-08-25T20:30:03.835473Z",
     "iopub.status.idle": "2020-08-25T20:30:03.978460Z",
     "shell.execute_reply": "2020-08-25T20:30:03.977354Z"
    },
    "papermill": {
     "duration": 0.162098,
     "end_time": "2020-08-25T20:30:03.978645",
     "exception": false,
     "start_time": "2020-08-25T20:30:03.816547",
     "status": "completed"
    },
    "tags": []
   },
   "outputs": [],
   "source": [
    "# Scale/Normalize the data and Prep for the model\n",
    "x_train = x_train.values/255\n",
    "x_valid = x_valid.values/255\n",
    "x_test = x_test.values/255\n",
    "\n",
    "y_train = keras.utils.to_categorical(y_train, 26)\n",
    "y_valid = keras.utils.to_categorical(y_valid, 26)\n",
    "y_test = keras.utils.to_categorical(y_test, 26)"
   ]
  },
  {
   "cell_type": "code",
   "execution_count": 6,
   "metadata": {
    "execution": {
     "iopub.execute_input": "2020-08-25T20:30:04.021942Z",
     "iopub.status.busy": "2020-08-25T20:30:04.020901Z",
     "iopub.status.idle": "2020-08-25T20:30:04.026378Z",
     "shell.execute_reply": "2020-08-25T20:30:04.025639Z"
    },
    "papermill": {
     "duration": 0.030621,
     "end_time": "2020-08-25T20:30:04.026506",
     "exception": false,
     "start_time": "2020-08-25T20:30:03.995885",
     "status": "completed"
    },
    "tags": []
   },
   "outputs": [
    {
     "data": {
      "text/plain": [
       "((21964, 784), (5491, 784), (7172, 784), (21964, 26), (5491, 26), (7172, 26))"
      ]
     },
     "execution_count": 6,
     "metadata": {},
     "output_type": "execute_result"
    }
   ],
   "source": [
    "# Get the shape of the data\n",
    "x_train.shape, x_valid.shape, x_test.shape, y_train.shape, y_valid.shape, y_test.shape"
   ]
  },
  {
   "cell_type": "code",
   "execution_count": 7,
   "metadata": {
    "execution": {
     "iopub.execute_input": "2020-08-25T20:30:04.068975Z",
     "iopub.status.busy": "2020-08-25T20:30:04.066028Z",
     "iopub.status.idle": "2020-08-25T20:30:04.073502Z",
     "shell.execute_reply": "2020-08-25T20:30:04.074086Z"
    },
    "papermill": {
     "duration": 0.034385,
     "end_time": "2020-08-25T20:30:04.074261",
     "exception": false,
     "start_time": "2020-08-25T20:30:04.039876",
     "status": "completed"
    },
    "tags": []
   },
   "outputs": [
    {
     "data": {
      "text/plain": [
       "((21964, 28, 28, 1),\n",
       " (5491, 28, 28, 1),\n",
       " (7172, 28, 28, 1),\n",
       " (21964, 26),\n",
       " (5491, 26),\n",
       " (7172, 26))"
      ]
     },
     "execution_count": 7,
     "metadata": {},
     "output_type": "execute_result"
    }
   ],
   "source": [
    "# Reshape the X data to fit the model\n",
    "x_train = x_train.reshape(x_train.shape[0], 28, 28, 1)\n",
    "x_valid = x_valid.reshape(x_valid.shape[0], 28, 28, 1)\n",
    "x_test = x_test.reshape(x_test.shape[0], 28, 28, 1)\n",
    "\n",
    "x_train.shape, x_valid.shape, x_test.shape, y_train.shape, y_valid.shape, y_test.shape"
   ]
  },
  {
   "cell_type": "code",
   "execution_count": 8,
   "metadata": {
    "execution": {
     "iopub.execute_input": "2020-08-25T20:30:04.112920Z",
     "iopub.status.busy": "2020-08-25T20:30:04.111859Z",
     "iopub.status.idle": "2020-08-25T20:30:04.324369Z",
     "shell.execute_reply": "2020-08-25T20:30:04.325475Z"
    },
    "papermill": {
     "duration": 0.237633,
     "end_time": "2020-08-25T20:30:04.325721",
     "exception": false,
     "start_time": "2020-08-25T20:30:04.088088",
     "status": "completed"
    },
    "tags": []
   },
   "outputs": [
    {
     "name": "stdout",
     "output_type": "stream",
     "text": [
      "Model: \"sequential\"\n",
      "_________________________________________________________________\n",
      "Layer (type)                 Output Shape              Param #   \n",
      "=================================================================\n",
      "conv2d (Conv2D)              (None, 28, 28, 32)        320       \n",
      "_________________________________________________________________\n",
      "max_pooling2d (MaxPooling2D) (None, 14, 14, 32)        0         \n",
      "_________________________________________________________________\n",
      "dropout (Dropout)            (None, 14, 14, 32)        0         \n",
      "_________________________________________________________________\n",
      "conv2d_1 (Conv2D)            (None, 14, 14, 64)        18496     \n",
      "_________________________________________________________________\n",
      "max_pooling2d_1 (MaxPooling2 (None, 7, 7, 64)          0         \n",
      "_________________________________________________________________\n",
      "dropout_1 (Dropout)          (None, 7, 7, 64)          0         \n",
      "_________________________________________________________________\n",
      "conv2d_2 (Conv2D)            (None, 7, 7, 128)         73856     \n",
      "_________________________________________________________________\n",
      "flatten (Flatten)            (None, 6272)              0         \n",
      "_________________________________________________________________\n",
      "dense (Dense)                (None, 128)               802944    \n",
      "_________________________________________________________________\n",
      "dense_1 (Dense)              (None, 26)                3354      \n",
      "=================================================================\n",
      "Total params: 898,970\n",
      "Trainable params: 898,970\n",
      "Non-trainable params: 0\n",
      "_________________________________________________________________\n"
     ]
    }
   ],
   "source": [
    "# Build the model \n",
    "model = keras.Sequential([\n",
    "    keras.layers.Conv2D(32, 3, padding = 'same', activation = 'relu', input_shape = (28, 28, 1)),\n",
    "    keras.layers.MaxPool2D(),\n",
    "    keras.layers.Dropout(0.2),\n",
    "    keras.layers.Conv2D(64, 3, padding = 'same', activation = 'relu'),\n",
    "    keras.layers.MaxPool2D(),\n",
    "    keras.layers.Dropout(0.2),\n",
    "    keras.layers.Conv2D(128, 3, padding = 'same', activation = 'relu'),\n",
    "    keras.layers.Flatten(),\n",
    "    keras.layers.Dense(128, activation = 'relu'),\n",
    "    keras.layers.Dense(26, activation = 'softmax')\n",
    "])\n",
    "\n",
    "model.summary()"
   ]
  },
  {
   "cell_type": "code",
   "execution_count": 9,
   "metadata": {
    "execution": {
     "iopub.execute_input": "2020-08-25T20:30:04.362254Z",
     "iopub.status.busy": "2020-08-25T20:30:04.361219Z",
     "iopub.status.idle": "2020-08-25T20:30:04.363833Z",
     "shell.execute_reply": "2020-08-25T20:30:04.364387Z"
    },
    "papermill": {
     "duration": 0.02398,
     "end_time": "2020-08-25T20:30:04.364572",
     "exception": false,
     "start_time": "2020-08-25T20:30:04.340592",
     "status": "completed"
    },
    "tags": []
   },
   "outputs": [],
   "source": [
    "def scheduler(epoch, lr):\n",
    "    if epoch < 10:\n",
    "        return lr\n",
    "    else:\n",
    "        return lr*tf.math.exp(-0.1)"
   ]
  },
  {
   "cell_type": "code",
   "execution_count": 10,
   "metadata": {
    "execution": {
     "iopub.execute_input": "2020-08-25T20:30:04.408018Z",
     "iopub.status.busy": "2020-08-25T20:30:04.403352Z",
     "iopub.status.idle": "2020-08-25T20:30:04.415257Z",
     "shell.execute_reply": "2020-08-25T20:30:04.414444Z"
    },
    "papermill": {
     "duration": 0.036168,
     "end_time": "2020-08-25T20:30:04.415393",
     "exception": false,
     "start_time": "2020-08-25T20:30:04.379225",
     "status": "completed"
    },
    "tags": []
   },
   "outputs": [],
   "source": [
    "model.compile(optimizer='adam', loss='categorical_crossentropy', metrics = ['accuracy'])\n",
    "\n",
    "callbacks = [keras.callbacks.LearningRateScheduler(scheduler),\n",
    "             keras.callbacks.EarlyStopping(monitor = 'val_loss', patience=10)\n",
    "            ]"
   ]
  },
  {
   "cell_type": "code",
   "execution_count": 11,
   "metadata": {
    "execution": {
     "iopub.execute_input": "2020-08-25T20:30:04.451756Z",
     "iopub.status.busy": "2020-08-25T20:30:04.450928Z",
     "iopub.status.idle": "2020-08-25T20:32:00.068528Z",
     "shell.execute_reply": "2020-08-25T20:32:00.069231Z"
    },
    "papermill": {
     "duration": 115.639363,
     "end_time": "2020-08-25T20:32:00.069445",
     "exception": false,
     "start_time": "2020-08-25T20:30:04.430082",
     "status": "completed"
    },
    "tags": []
   },
   "outputs": [
    {
     "name": "stdout",
     "output_type": "stream",
     "text": [
      "Epoch 1/5\n",
      "344/344 [==============================] - 23s 65ms/step - loss: 1.2341 - accuracy: 0.6153 - val_loss: 0.2370 - val_accuracy: 0.9224\n",
      "Epoch 2/5\n",
      "344/344 [==============================] - 23s 66ms/step - loss: 0.1528 - accuracy: 0.9509 - val_loss: 0.0370 - val_accuracy: 0.9938\n",
      "Epoch 3/5\n",
      "344/344 [==============================] - 24s 69ms/step - loss: 0.0449 - accuracy: 0.9869 - val_loss: 0.0147 - val_accuracy: 0.9978\n",
      "Epoch 4/5\n",
      "344/344 [==============================] - 23s 67ms/step - loss: 0.0228 - accuracy: 0.9935 - val_loss: 0.0035 - val_accuracy: 0.9998\n",
      "Epoch 5/5\n",
      "344/344 [==============================] - 22s 65ms/step - loss: 0.0216 - accuracy: 0.9936 - val_loss: 0.0048 - val_accuracy: 0.9989\n"
     ]
    }
   ],
   "source": [
    "epochs = 5\n",
    "batch_size = 64\n",
    "\n",
    "history = model.fit(x_train, y_train, epochs = epochs, batch_size = batch_size, \n",
    "                    validation_data = (x_valid, y_valid), callbacks = [callbacks])"
   ]
  },
  {
   "cell_type": "code",
   "execution_count": 12,
   "metadata": {
    "execution": {
     "iopub.execute_input": "2020-08-25T20:32:01.477354Z",
     "iopub.status.busy": "2020-08-25T20:32:01.474055Z",
     "iopub.status.idle": "2020-08-25T20:32:01.887978Z",
     "shell.execute_reply": "2020-08-25T20:32:01.887344Z"
    },
    "papermill": {
     "duration": 1.123736,
     "end_time": "2020-08-25T20:32:01.888106",
     "exception": false,
     "start_time": "2020-08-25T20:32:00.764370",
     "status": "completed"
    },
    "tags": []
   },
   "outputs": [
    {
     "data": {
      "image/png": "[encoded data removed]",
      "text/plain": [
       "<Figure size 576x576 with 2 Axes>"
      ]
     },
     "metadata": {
      "needs_background": "light"
     },
     "output_type": "display_data"
    }
   ],
   "source": [
    "#Plot Losses and Accuracies \n",
    "\n",
    "acc = history.history['accuracy']\n",
    "val_acc = history.history['val_accuracy']\n",
    "\n",
    "loss = history.history['loss']\n",
    "val_loss = history.history['val_loss']\n",
    "\n",
    "epochs_range = range(epochs)\n",
    "\n",
    "plt.figure(figsize=(8, 8))\n",
    "plt.subplot(1, 2, 1)\n",
    "plt.plot(epochs_range, acc, label='Training Accuracy')\n",
    "plt.plot(epochs_range, val_acc, label='Validation Accuracy')\n",
    "plt.legend(loc='lower right')\n",
    "plt.title('Training and Validation Accuracy')\n",
    "\n",
    "plt.subplot(1, 2, 2)\n",
    "plt.plot(epochs_range, loss, label='Training Loss')\n",
    "plt.plot(epochs_range, val_loss, label='Validation Loss')\n",
    "plt.legend(loc='upper right')\n",
    "plt.title('Training and Validation Loss')\n",
    "plt.show()\n"
   ]
  },
  {
   "cell_type": "code",
   "execution_count": 13,
   "metadata": {
    "execution": {
     "iopub.execute_input": "2020-08-25T20:32:03.289279Z",
     "iopub.status.busy": "2020-08-25T20:32:03.288161Z",
     "iopub.status.idle": "2020-08-25T20:32:05.392476Z",
     "shell.execute_reply": "2020-08-25T20:32:05.391702Z"
    },
    "papermill": {
     "duration": 2.806723,
     "end_time": "2020-08-25T20:32:05.392611",
     "exception": false,
     "start_time": "2020-08-25T20:32:02.585888",
     "status": "completed"
    },
    "tags": []
   },
   "outputs": [
    {
     "name": "stdout",
     "output_type": "stream",
     "text": [
      "225/225 [==============================] - 2s 9ms/step - loss: 0.2490 - accuracy: 0.9460\n"
     ]
    },
    {
     "data": {
      "text/plain": [
       "[0.24903275072574615, 0.946040153503418]"
      ]
     },
     "execution_count": 13,
     "metadata": {},
     "output_type": "execute_result"
    }
   ],
   "source": [
    "# Evaluate the Model\n",
    "model.evaluate(x_test, y_test)"
   ]
  }
 ],
 "metadata": {
  "kernelspec": {
   "display_name": "Python 3",
   "language": "python",
   "name": "python3"
  },
  "language_info": {
   "codemirror_mode": {
    "name": "ipython",
    "version": 3
   },
   "file_extension": ".py",
   "mimetype": "text/x-python",
   "name": "python",
   "nbconvert_exporter": "python",
   "pygments_lexer": "ipython3",
   "version": "3.7.6"
  },
  "papermill": {
   "duration": 139.457126,
   "end_time": "2020-08-25T20:32:06.215032",
   "environment_variables": {},
   "exception": null,
   "input_path": "__notebook__.ipynb",
   "output_path": "__notebook__.ipynb",
   "parameters": {},
   "start_time": "2020-08-25T20:29:46.757906",
   "version": "2.1.0"
  }
 },
 "nbformat": 4,
 "nbformat_minor": 4
}
