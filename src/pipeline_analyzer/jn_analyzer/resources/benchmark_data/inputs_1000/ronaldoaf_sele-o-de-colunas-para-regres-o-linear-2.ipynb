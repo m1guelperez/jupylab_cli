{
 "cells": [
  {
   "cell_type": "markdown",
   "metadata": {},
   "source": [
    "No notebook atual que é fork [Seleção de colunas para Regresão Linear](https://www.kaggle.com/ronaldoaf/sele-o-de-colunas-para-regres-o-linear) demonostro que é possível melhorar uma regressão através da combinação e modificação de colunas e filtragem de valores."
   ]
  },
  {
   "cell_type": "code",
   "execution_count": 1,
   "metadata": {
    "_cell_guid": "b1076dfc-b9ad-4769-8c92-a6c4dae69d19",
    "_uuid": "8f2839f25d086af736a60e9eeb907d3b93b6e0e5"
   },
   "outputs": [
    {
     "name": "stdout",
     "output_type": "stream",
     "text": [
      "43.45 A,B,C,D,E,G,H,J,K,A/D,D1,D2,D3,J1\n"
     ]
    }
   ],
   "source": [
    "import numpy as np \n",
    "import pandas as pd \n",
    "from sklearn.linear_model import LinearRegression  \n",
    "\n",
    "df=pd.read_csv('/kaggle/input/exemplo-regresso-apostas/under.csv')\n",
    "\n",
    "#Criamos colunas novas baseadas nas originais \"A a P\"\n",
    "df['A/D']=df.A/(df.D+1)\n",
    "df['D1']=np.log(df.D+1)\n",
    "df['D2']=np.log(df.D1+1)\n",
    "df['D3']=np.log(df.D2+1)\n",
    "df['J1']=np.log(df.J+1)\n",
    "\n",
    "\n",
    "#Quais colunas que entraram na regressão\n",
    "colunas='A,B,C,D,E,G,H,J,K,A/D,D1,D2,D3,J1'\n",
    "\n",
    "#Fitra o df baseado nas colunas\n",
    "df=df[(colunas+',PL').split(',')]\n",
    "\n",
    "\n",
    "SLs=[] \n",
    "for i in range(100):\n",
    "    #Embaralha o dataframe baseado no random_state i \n",
    "    df=df.sample(frac=1, random_state=i)\n",
    "    \n",
    "    #Divide em 100 mil linhas para teste e o restante treinamento\n",
    "    df_test,df_train=df[:100000],df[100000:]\n",
    "\n",
    "    #Filta o dataframe por intervalo de alguns campos que podem melhorar a regressão\n",
    "    df_train=df_train[(df_train.E<=3)& (df_train.J>=1.25) & (df_train.J<=4)]\n",
    "    df_test=df_test[(df_test.E<=3)& (df_test.J>=1.25) & (df_test.J<=4)]\n",
    "    \n",
    "    \n",
    "    #Os Xs são todas as colunas exceto a PL que será o Y\n",
    "    X_train,Y_train = df_train.loc[:,(df_train.columns!='PL') ], df_train.PL\n",
    "    X_test, Y_test  = df_test.loc[:,(df_test.columns!='PL') ], df_test.PL\n",
    "\n",
    "    #Treina a regressão os dados de treinamento\n",
    "    reg=LinearRegression().fit(X_train,Y_train)\n",
    "    \n",
    "    #Veifica a lucratividade nos dados de teste\n",
    "    SLs+=[sum(np.log(1+y*y_pred) for y_pred,y in zip(reg.predict(X_test),Y_test) if y_pred>0 ) ]\n",
    "    \n",
    "\n",
    "#Mostra a lucrativida média e colunas selecionadas que deram origem a essa lucratividade\n",
    "print( round(np.mean(SLs),2), colunas  )\n"
   ]
  }
 ],
 "metadata": {
  "kernelspec": {
   "display_name": "Python 3",
   "language": "python",
   "name": "python3"
  },
  "language_info": {
   "codemirror_mode": {
    "name": "ipython",
    "version": 3
   },
   "file_extension": ".py",
   "mimetype": "text/x-python",
   "name": "python",
   "nbconvert_exporter": "python",
   "pygments_lexer": "ipython3",
   "version": "3.6.6"
  }
 },
 "nbformat": 4,
 "nbformat_minor": 4
}
