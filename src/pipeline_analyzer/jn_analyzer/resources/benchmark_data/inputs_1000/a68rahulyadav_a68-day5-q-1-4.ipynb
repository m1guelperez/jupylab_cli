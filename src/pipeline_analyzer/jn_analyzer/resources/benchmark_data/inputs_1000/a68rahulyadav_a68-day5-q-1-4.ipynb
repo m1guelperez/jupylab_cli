{
 "cells": [
  {
   "cell_type": "code",
   "execution_count": 1,
   "metadata": {
    "_cell_guid": "79c7e3d0-c299-4dcb-8224-4455121ee9b0",
    "_uuid": "d629ff2d2480ee46fbb7e2d37f6b5fab8052498a",
    "execution": {
     "iopub.execute_input": "2020-08-31T10:33:35.006287Z",
     "iopub.status.busy": "2020-08-31T10:33:35.005594Z",
     "iopub.status.idle": "2020-08-31T10:33:35.046366Z",
     "shell.execute_reply": "2020-08-31T10:33:35.047099Z"
    },
    "papermill": {
     "duration": 0.050104,
     "end_time": "2020-08-31T10:33:35.047327",
     "exception": false,
     "start_time": "2020-08-31T10:33:34.997223",
     "status": "completed"
    },
    "tags": []
   },
   "outputs": [
    {
     "name": "stdout",
     "output_type": "stream",
     "text": [
      "\n",
      "Keys of Iris dataset:\n",
      "Index(['5.1', '3.5', '1.4', '0.2', 'Iris-setosa'], dtype='object')\n",
      "\n",
      "Number of rows and columns of Iris dataset:\n",
      "(149, 5)\n",
      "Data type:\n",
      "<class 'pandas.core.frame.DataFrame'>\n"
     ]
    }
   ],
   "source": [
    "#Q1.printing the keys, number of rows-columns, feature names \n",
    "#and the description of the Iris data.\n",
    "import pandas as pd\n",
    "iris_data = pd.read_csv(\"../input/iris-dataset/iris.data.csv\")\n",
    "print(\"\\nKeys of Iris dataset:\")\n",
    "print(iris_data.keys())\n",
    "print(\"\\nNumber of rows and columns of Iris dataset:\")\n",
    "print(iris_data.shape)\n",
    "print(\"Data type:\")\n",
    "print(type(iris_data))"
   ]
  },
  {
   "cell_type": "code",
   "execution_count": 2,
   "metadata": {
    "execution": {
     "iopub.execute_input": "2020-08-31T10:33:35.062494Z",
     "iopub.status.busy": "2020-08-31T10:33:35.061701Z",
     "iopub.status.idle": "2020-08-31T10:33:35.075923Z",
     "shell.execute_reply": "2020-08-31T10:33:35.076501Z"
    },
    "papermill": {
     "duration": 0.022561,
     "end_time": "2020-08-31T10:33:35.076651",
     "exception": false,
     "start_time": "2020-08-31T10:33:35.054090",
     "status": "completed"
    },
    "tags": []
   },
   "outputs": [
    {
     "name": "stdout",
     "output_type": "stream",
     "text": [
      "No.of Observations are:\n",
      "745\n",
      "No. of Nan is:\n",
      "5.1            0\n",
      "3.5            0\n",
      "1.4            0\n",
      "0.2            0\n",
      "Iris-setosa    0\n",
      "dtype: int64\n"
     ]
    }
   ],
   "source": [
    "#Q2.get the number of observations, missing values and nan values.\n",
    "print(\"No.of Observations are:\")\n",
    "print(iris_data.count().sum())\n",
    "print(\"No. of Nan is:\")\n",
    "print(iris_data.isnull().sum())"
   ]
  },
  {
   "cell_type": "code",
   "execution_count": 3,
   "metadata": {
    "execution": {
     "iopub.execute_input": "2020-08-31T10:33:35.090199Z",
     "iopub.status.busy": "2020-08-31T10:33:35.089476Z",
     "iopub.status.idle": "2020-08-31T10:33:35.252875Z",
     "shell.execute_reply": "2020-08-31T10:33:35.252068Z"
    },
    "papermill": {
     "duration": 0.17127,
     "end_time": "2020-08-31T10:33:35.253072",
     "exception": false,
     "start_time": "2020-08-31T10:33:35.081802",
     "status": "completed"
    },
    "tags": []
   },
   "outputs": [
    {
     "name": "stdout",
     "output_type": "stream",
     "text": [
      "NumPy array:\n",
      " [[1. 0. 0. 0. 0.]\n",
      " [0. 1. 0. 0. 0.]\n",
      " [0. 0. 1. 0. 0.]\n",
      " [0. 0. 0. 1. 0.]\n",
      " [0. 0. 0. 0. 1.]]\n",
      "\n",
      "SciPy sparse CSR matrix:\n",
      "   (0, 0)\t1.0\n",
      "  (1, 1)\t1.0\n",
      "  (2, 2)\t1.0\n",
      "  (3, 3)\t1.0\n",
      "  (4, 4)\t1.0\n"
     ]
    }
   ],
   "source": [
    "#Q3.create a 2-D array with ones on the diagonal and zeros elsewhere.\n",
    "import numpy as np\n",
    "from scipy import sparse\n",
    "eye = np.eye(5)\n",
    "print(\"NumPy array:\\n\", eye)\n",
    "sparse_matrix = sparse.csr_matrix(eye)\n",
    "print(\"\\nSciPy sparse CSR matrix:\\n\", sparse_matrix)"
   ]
  },
  {
   "cell_type": "code",
   "execution_count": 4,
   "metadata": {
    "execution": {
     "iopub.execute_input": "2020-08-31T10:33:35.339870Z",
     "iopub.status.busy": "2020-08-31T10:33:35.339119Z",
     "iopub.status.idle": "2020-08-31T10:33:35.351678Z",
     "shell.execute_reply": "2020-08-31T10:33:35.351054Z"
    },
    "papermill": {
     "duration": 0.092418,
     "end_time": "2020-08-31T10:33:35.351825",
     "exception": false,
     "start_time": "2020-08-31T10:33:35.259407",
     "status": "completed"
    },
    "tags": []
   },
   "outputs": [
    {
     "name": "stdout",
     "output_type": "stream",
     "text": [
      "Shape of the data:\n",
      "(149, 5)\n",
      "\n",
      "Data Type:\n",
      "<class 'pandas.core.frame.DataFrame'>\n",
      "\n",
      "First 3 rows:\n",
      "   5.1  3.5  1.4  0.2  Iris-setosa\n",
      "0  4.9  3.0  1.4  0.2  Iris-setosa\n",
      "1  4.7  3.2  1.3  0.2  Iris-setosa\n",
      "2  4.6  3.1  1.5  0.2  Iris-setosa\n"
     ]
    }
   ],
   "source": [
    "#Q4.load the iris data from a given csv file into a dataframe and \n",
    "#print the shape of the data, type of the data and first 3 rows.\n",
    "print(\"Shape of the data:\")\n",
    "print(iris_data.shape)\n",
    "print(\"\\nData Type:\")\n",
    "print(type(iris_data))\n",
    "print(\"\\nFirst 3 rows:\")\n",
    "print(iris_data.head(3))"
   ]
  }
 ],
 "metadata": {
  "kernelspec": {
   "display_name": "Python 3",
   "language": "python",
   "name": "python3"
  },
  "language_info": {
   "codemirror_mode": {
    "name": "ipython",
    "version": 3
   },
   "file_extension": ".py",
   "mimetype": "text/x-python",
   "name": "python",
   "nbconvert_exporter": "python",
   "pygments_lexer": "ipython3",
   "version": "3.7.6"
  },
  "papermill": {
   "duration": 5.448231,
   "end_time": "2020-08-31T10:33:35.471146",
   "environment_variables": {},
   "exception": null,
   "input_path": "__notebook__.ipynb",
   "output_path": "__notebook__.ipynb",
   "parameters": {},
   "start_time": "2020-08-31T10:33:30.022915",
   "version": "2.1.0"
  }
 },
 "nbformat": 4,
 "nbformat_minor": 4
}
