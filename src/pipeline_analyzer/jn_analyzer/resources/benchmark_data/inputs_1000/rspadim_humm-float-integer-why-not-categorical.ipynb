{
 "cells": [
  {
   "cell_type": "markdown",
   "metadata": {
    "_cell_guid": "5cb825d3-dbf6-432d-aed4-7a59cfab2812",
    "_uuid": "d0865ebd80675f1e6a3db00ca6854fc921bd8a4c"
   },
   "source": [
    "Hi guys :) motivation: no cpu power here, kaggle computers are nice, and i was with some time to take a coffee\n",
    "\n",
    "what's categorical variables? well, algorithms that don't do math with values of features don't need \"categorical values\", in other words, if you use an reglin + decision tree, categorical matters to reglin part \"but not\" to decision tree (ok >= need values, but we can change \"some text\" to some number 0,1,2,3...)\n",
    "\n",
    "but if we don't use reglin? why take care if variable is categorical or not?"
   ]
  },
  {
   "cell_type": "code",
   "execution_count": 1,
   "metadata": {
    "_cell_guid": "6cb9e2b2-1ed7-494d-8165-99a808a7ec00",
    "_uuid": "2f6546284c9f654d181e28128415998a616e2296"
   },
   "outputs": [
    {
     "name": "stdout",
     "output_type": "stream",
     "text": [
      "columns:  ['id', 'ps_calc_01', 'ps_calc_02', 'ps_calc_03', 'ps_calc_04', 'ps_calc_05', 'ps_calc_06', 'ps_calc_07', 'ps_calc_08', 'ps_calc_09', 'ps_calc_10', 'ps_calc_11', 'ps_calc_12', 'ps_calc_13', 'ps_calc_14', 'ps_calc_15_bin', 'ps_calc_16_bin', 'ps_calc_17_bin', 'ps_calc_18_bin', 'ps_calc_19_bin', 'ps_calc_20_bin', 'ps_car_01_cat', 'ps_car_02_cat', 'ps_car_03_cat', 'ps_car_04_cat', 'ps_car_05_cat', 'ps_car_06_cat', 'ps_car_07_cat', 'ps_car_08_cat', 'ps_car_09_cat', 'ps_car_10_cat', 'ps_car_11', 'ps_car_11_cat', 'ps_car_12', 'ps_car_13', 'ps_car_14', 'ps_car_15', 'ps_ind_01', 'ps_ind_02_cat', 'ps_ind_03', 'ps_ind_04_cat', 'ps_ind_05_cat', 'ps_ind_06_bin', 'ps_ind_07_bin', 'ps_ind_08_bin', 'ps_ind_09_bin', 'ps_ind_10_bin', 'ps_ind_11_bin', 'ps_ind_12_bin', 'ps_ind_13_bin', 'ps_ind_14', 'ps_ind_15', 'ps_ind_16_bin', 'ps_ind_17_bin', 'ps_ind_18_bin', 'ps_reg_01', 'ps_reg_02', 'ps_reg_03', 'target']\n",
      "target values:  [-1  0  1]\n"
     ]
    }
   ],
   "source": [
    "#reading data :)\n",
    "import numpy as np\n",
    "import pandas as pd\n",
    "train=pd.read_csv('../input/train.csv')\n",
    "test =pd.read_csv('../input/test.csv')\n",
    "test['target']=-1 # just to match columns\n",
    "both=test.copy()\n",
    "both=both.append(train.copy())\n",
    "del test  #bye!\n",
    "del train #bye!\n",
    "cols=both.columns.drop(['id','target']).tolist()\n",
    "print('columns: ',both.columns.tolist())\n",
    "print('target values: ',both['target'].unique())"
   ]
  },
  {
   "cell_type": "markdown",
   "metadata": {
    "_cell_guid": "538ca5b8-316f-4cbb-a475-83b083c623ba",
    "_uuid": "b1d45bca5b0eea9b01d9a0769bc5dc26d1ec6dc5"
   },
   "source": [
    "from wikipedia =) https://en.wikipedia.org/wiki/Categorical_variable\n",
    "\n",
    "\"categorical variable is a variable that can take on one of a **limited**, and usually **fixed, number of possible values**, assigning each individual or other unit of observation to a particular group or nominal category on the basis of some qualitative property.\"\n",
    "\n",
    "very nice explanation, all we need is limited + fixed numer of possible values :) thanks wikipedia!\n",
    "\n",
    "what about float, integers, bla bla bla? well, some guys prefer VARCHAR(255) than TINYINT(3) :P  why not?! all we need is:\n",
    "\n",
    "unique values of (train['some variable']) = unique values of (all_data['same variable'])\n",
    "\n",
    "why this couldn't be a categorical variable? you don't know it's an int/float/number.. now it's categorical =)"
   ]
  },
  {
   "cell_type": "code",
   "execution_count": 2,
   "metadata": {
    "_cell_guid": "bd6f6eac-17f0-4ace-b292-efbd4635f401",
    "_uuid": "2168b92678d03fb65396c217cb5e6aed5d8f80b2"
   },
   "outputs": [
    {
     "name": "stdout",
     "output_type": "stream",
     "text": [
      "Column:  ps_calc_01 \t unique values at train/both= 10  /  10 \t <- categorical?!\n",
      "Column:  ps_calc_02 \t unique values at train/both= 10  /  10 \t <- categorical?!\n",
      "Column:  ps_calc_03 \t unique values at train/both= 10  /  10 \t <- categorical?!\n",
      "Column:  ps_calc_04 \t unique values at train/both= 6  /  6 \t <- categorical?!\n",
      "Column:  ps_calc_05 \t unique values at train/both= 7  /  7 \t <- categorical?!\n",
      "Column:  ps_calc_06 \t unique values at train/both= 11  /  11 \t <- categorical?!\n",
      "Column:  ps_calc_07 \t unique values at train/both= 10  /  10 \t <- categorical?!\n",
      "Column:  ps_calc_08 \t unique values at train/both= 11  /  12 \n",
      "Column:  ps_calc_09 \t unique values at train/both= 8  /  8 \t <- categorical?!\n",
      "Column:  ps_calc_10 \t unique values at train/both= 26  /  26 \t <- categorical?!\n",
      "Column:  ps_calc_11 \t unique values at train/both= 20  /  21 \n",
      "Column:  ps_calc_12 \t unique values at train/both= 11  /  12 \n",
      "Column:  ps_calc_13 \t unique values at train/both= 14  /  16 \n",
      "Column:  ps_calc_14 \t unique values at train/both= 24  /  25 \n",
      "Column:  ps_calc_15_bin \t unique values at train/both= 2  /  2 \t <- categorical?!\n",
      "Column:  ps_calc_16_bin \t unique values at train/both= 2  /  2 \t <- categorical?!\n",
      "Column:  ps_calc_17_bin \t unique values at train/both= 2  /  2 \t <- categorical?!\n",
      "Column:  ps_calc_18_bin \t unique values at train/both= 2  /  2 \t <- categorical?!\n",
      "Column:  ps_calc_19_bin \t unique values at train/both= 2  /  2 \t <- categorical?!\n",
      "Column:  ps_calc_20_bin \t unique values at train/both= 2  /  2 \t <- categorical?!\n",
      "Column:  ps_car_01_cat \t unique values at train/both= 13  /  13 \t <- categorical?!\n",
      "Column:  ps_car_02_cat \t unique values at train/both= 3  /  3 \t <- categorical?!\n",
      "Column:  ps_car_03_cat \t unique values at train/both= 3  /  3 \t <- categorical?!\n",
      "Column:  ps_car_04_cat \t unique values at train/both= 10  /  10 \t <- categorical?!\n",
      "Column:  ps_car_05_cat \t unique values at train/both= 3  /  3 \t <- categorical?!\n",
      "Column:  ps_car_06_cat \t unique values at train/both= 18  /  18 \t <- categorical?!\n",
      "Column:  ps_car_07_cat \t unique values at train/both= 3  /  3 \t <- categorical?!\n",
      "Column:  ps_car_08_cat \t unique values at train/both= 2  /  2 \t <- categorical?!\n",
      "Column:  ps_car_09_cat \t unique values at train/both= 6  /  6 \t <- categorical?!\n",
      "Column:  ps_car_10_cat \t unique values at train/both= 3  /  3 \t <- categorical?!\n",
      "Column:  ps_car_11 \t unique values at train/both= 5  /  5 \t <- categorical?!\n",
      "Column:  ps_car_11_cat \t unique values at train/both= 104  /  104 \t <- categorical?!\n",
      "Column:  ps_car_12 \t unique values at train/both= 184  /  214 \n",
      "Column:  ps_car_13 \t unique values at train/both= 70482  /  104192 \n",
      "Column:  ps_car_14 \t unique values at train/both= 850  /  905 \n",
      "Column:  ps_car_15 \t unique values at train/both= 15  /  15 \t <- categorical?!\n",
      "Column:  ps_ind_01 \t unique values at train/both= 8  /  8 \t <- categorical?!\n",
      "Column:  ps_ind_02_cat \t unique values at train/both= 5  /  5 \t <- categorical?!\n",
      "Column:  ps_ind_03 \t unique values at train/both= 12  /  12 \t <- categorical?!\n",
      "Column:  ps_ind_04_cat \t unique values at train/both= 3  /  3 \t <- categorical?!\n",
      "Column:  ps_ind_05_cat \t unique values at train/both= 8  /  8 \t <- categorical?!\n",
      "Column:  ps_ind_06_bin \t unique values at train/both= 2  /  2 \t <- categorical?!\n",
      "Column:  ps_ind_07_bin \t unique values at train/both= 2  /  2 \t <- categorical?!\n",
      "Column:  ps_ind_08_bin \t unique values at train/both= 2  /  2 \t <- categorical?!\n",
      "Column:  ps_ind_09_bin \t unique values at train/both= 2  /  2 \t <- categorical?!\n",
      "Column:  ps_ind_10_bin \t unique values at train/both= 2  /  2 \t <- categorical?!\n",
      "Column:  ps_ind_11_bin \t unique values at train/both= 2  /  2 \t <- categorical?!\n",
      "Column:  ps_ind_12_bin \t unique values at train/both= 2  /  2 \t <- categorical?!\n",
      "Column:  ps_ind_13_bin \t unique values at train/both= 2  /  2 \t <- categorical?!\n",
      "Column:  ps_ind_14 \t unique values at train/both= 5  /  5 \t <- categorical?!\n",
      "Column:  ps_ind_15 \t unique values at train/both= 14  /  14 \t <- categorical?!\n",
      "Column:  ps_ind_16_bin \t unique values at train/both= 2  /  2 \t <- categorical?!\n",
      "Column:  ps_ind_17_bin \t unique values at train/both= 2  /  2 \t <- categorical?!\n",
      "Column:  ps_ind_18_bin \t unique values at train/both= 2  /  2 \t <- categorical?!\n",
      "Column:  ps_reg_01 \t unique values at train/both= 10  /  10 \t <- categorical?!\n",
      "Column:  ps_reg_02 \t unique values at train/both= 19  /  19 \t <- categorical?!\n",
      "Column:  ps_reg_03 \t unique values at train/both= 5013  /  5077 \n",
      "these variables should be categorical, or not?! =)  ['ps_calc_01', 'ps_calc_02', 'ps_calc_03', 'ps_calc_04', 'ps_calc_05', 'ps_calc_06', 'ps_calc_07', 'ps_calc_09', 'ps_calc_10', 'ps_car_01_cat', 'ps_car_02_cat', 'ps_car_03_cat', 'ps_car_04_cat', 'ps_car_05_cat', 'ps_car_06_cat', 'ps_car_07_cat', 'ps_car_09_cat', 'ps_car_10_cat', 'ps_car_11', 'ps_car_11_cat', 'ps_car_15', 'ps_ind_01', 'ps_ind_02_cat', 'ps_ind_03', 'ps_ind_04_cat', 'ps_ind_05_cat', 'ps_ind_14', 'ps_ind_15', 'ps_reg_01', 'ps_reg_02']\n"
     ]
    }
   ],
   "source": [
    "cats=[]\n",
    "cats_prefix={}\n",
    "for i in cols:\n",
    "    unique_train=both[both['target']!=-1][i].unique()\n",
    "    unique_both =both[i].unique()\n",
    "    equal=(sorted(unique_train) == sorted(unique_both))\n",
    "    length_train=len(unique_train)\n",
    "    length_both=len(unique_both)\n",
    "    print('Column: ',i,'\\t unique values at train/both=',\n",
    "          length_train,' / ',length_both,\n",
    "          '\\t <- categorical?!' if equal else ''\n",
    "         )\n",
    "    if(equal and length_both>2):\n",
    "        cats.append(i)\n",
    "        cats_prefix[i]=\"OHE_\"+i\n",
    "print(\"these variables should be categorical, or not?! =) \",cats)"
   ]
  },
  {
   "cell_type": "code",
   "execution_count": 3,
   "metadata": {
    "_uuid": "cf3b9569476462f53ec9c4a8860c870a2c5e56c7",
    "collapsed": true
   },
   "outputs": [],
   "source": [
    "#i will OHE to you :)\n",
    "both=pd.get_dummies(both,prefix=cats_prefix,columns=cats)"
   ]
  },
  {
   "cell_type": "code",
   "execution_count": 4,
   "metadata": {
    "_uuid": "1bb84964d81ad8510c24c40494bdb9015ccf91de"
   },
   "outputs": [],
   "source": [
    "both[both['target']!=-1].to_csv('train.cat.ohe.csv.gzip',index=False,compression='gzip')\n",
    "both[both['target']==-1].to_csv('test.cat.ohe.csv.gzip' ,index=False,compression='gzip')"
   ]
  },
  {
   "cell_type": "markdown",
   "metadata": {
    "_uuid": "0ebbb537865725eaf741ab2fa6494cc63d66665e"
   },
   "source": [
    "do you have any idea with this? :) one hot encode categoricals and use it? =) neural networks + one hot encoder are nice friends ehhe =], good luck guys!"
   ]
  },
  {
   "cell_type": "code",
   "execution_count": 5,
   "metadata": {
    "_uuid": "aa4c4cf70685c38231c1342fb2035cffce14bd14",
    "collapsed": true
   },
   "outputs": [
    {
     "name": "stdout",
     "output_type": "stream",
     "text": [
      "['id', 'ps_calc_08', 'ps_calc_11', 'ps_calc_12', 'ps_calc_13', 'ps_calc_14', 'ps_calc_15_bin', 'ps_calc_16_bin', 'ps_calc_17_bin', 'ps_calc_18_bin', 'ps_calc_19_bin', 'ps_calc_20_bin', 'ps_car_08_cat', 'ps_car_12', 'ps_car_13', 'ps_car_14', 'ps_ind_06_bin', 'ps_ind_07_bin', 'ps_ind_08_bin', 'ps_ind_09_bin', 'ps_ind_10_bin', 'ps_ind_11_bin', 'ps_ind_12_bin', 'ps_ind_13_bin', 'ps_ind_16_bin', 'ps_ind_17_bin', 'ps_ind_18_bin', 'ps_reg_03', 'target', 'OHE_ps_calc_01_0.0', 'OHE_ps_calc_01_0.1', 'OHE_ps_calc_01_0.2', 'OHE_ps_calc_01_0.3', 'OHE_ps_calc_01_0.4', 'OHE_ps_calc_01_0.5', 'OHE_ps_calc_01_0.6', 'OHE_ps_calc_01_0.7', 'OHE_ps_calc_01_0.8', 'OHE_ps_calc_01_0.9', 'OHE_ps_calc_02_0.0', 'OHE_ps_calc_02_0.1', 'OHE_ps_calc_02_0.2', 'OHE_ps_calc_02_0.3', 'OHE_ps_calc_02_0.4', 'OHE_ps_calc_02_0.5', 'OHE_ps_calc_02_0.6', 'OHE_ps_calc_02_0.7', 'OHE_ps_calc_02_0.8', 'OHE_ps_calc_02_0.9', 'OHE_ps_calc_03_0.0', 'OHE_ps_calc_03_0.1', 'OHE_ps_calc_03_0.2', 'OHE_ps_calc_03_0.3', 'OHE_ps_calc_03_0.4', 'OHE_ps_calc_03_0.5', 'OHE_ps_calc_03_0.6', 'OHE_ps_calc_03_0.7', 'OHE_ps_calc_03_0.8', 'OHE_ps_calc_03_0.9', 'OHE_ps_calc_04_0', 'OHE_ps_calc_04_1', 'OHE_ps_calc_04_2', 'OHE_ps_calc_04_3', 'OHE_ps_calc_04_4', 'OHE_ps_calc_04_5', 'OHE_ps_calc_05_0', 'OHE_ps_calc_05_1', 'OHE_ps_calc_05_2', 'OHE_ps_calc_05_3', 'OHE_ps_calc_05_4', 'OHE_ps_calc_05_5', 'OHE_ps_calc_05_6', 'OHE_ps_calc_06_0', 'OHE_ps_calc_06_1', 'OHE_ps_calc_06_2', 'OHE_ps_calc_06_3', 'OHE_ps_calc_06_4', 'OHE_ps_calc_06_5', 'OHE_ps_calc_06_6', 'OHE_ps_calc_06_7', 'OHE_ps_calc_06_8', 'OHE_ps_calc_06_9', 'OHE_ps_calc_06_10', 'OHE_ps_calc_07_0', 'OHE_ps_calc_07_1', 'OHE_ps_calc_07_2', 'OHE_ps_calc_07_3', 'OHE_ps_calc_07_4', 'OHE_ps_calc_07_5', 'OHE_ps_calc_07_6', 'OHE_ps_calc_07_7', 'OHE_ps_calc_07_8', 'OHE_ps_calc_07_9', 'OHE_ps_calc_09_0', 'OHE_ps_calc_09_1', 'OHE_ps_calc_09_2', 'OHE_ps_calc_09_3', 'OHE_ps_calc_09_4', 'OHE_ps_calc_09_5', 'OHE_ps_calc_09_6', 'OHE_ps_calc_09_7', 'OHE_ps_calc_10_0', 'OHE_ps_calc_10_1', 'OHE_ps_calc_10_2', 'OHE_ps_calc_10_3', 'OHE_ps_calc_10_4', 'OHE_ps_calc_10_5', 'OHE_ps_calc_10_6', 'OHE_ps_calc_10_7', 'OHE_ps_calc_10_8', 'OHE_ps_calc_10_9', 'OHE_ps_calc_10_10', 'OHE_ps_calc_10_11', 'OHE_ps_calc_10_12', 'OHE_ps_calc_10_13', 'OHE_ps_calc_10_14', 'OHE_ps_calc_10_15', 'OHE_ps_calc_10_16', 'OHE_ps_calc_10_17', 'OHE_ps_calc_10_18', 'OHE_ps_calc_10_19', 'OHE_ps_calc_10_20', 'OHE_ps_calc_10_21', 'OHE_ps_calc_10_22', 'OHE_ps_calc_10_23', 'OHE_ps_calc_10_24', 'OHE_ps_calc_10_25', 'OHE_ps_car_01_cat_-1', 'OHE_ps_car_01_cat_0', 'OHE_ps_car_01_cat_1', 'OHE_ps_car_01_cat_2', 'OHE_ps_car_01_cat_3', 'OHE_ps_car_01_cat_4', 'OHE_ps_car_01_cat_5', 'OHE_ps_car_01_cat_6', 'OHE_ps_car_01_cat_7', 'OHE_ps_car_01_cat_8', 'OHE_ps_car_01_cat_9', 'OHE_ps_car_01_cat_10', 'OHE_ps_car_01_cat_11', 'OHE_ps_car_02_cat_-1', 'OHE_ps_car_02_cat_0', 'OHE_ps_car_02_cat_1', 'OHE_ps_car_03_cat_-1', 'OHE_ps_car_03_cat_0', 'OHE_ps_car_03_cat_1', 'OHE_ps_car_04_cat_0', 'OHE_ps_car_04_cat_1', 'OHE_ps_car_04_cat_2', 'OHE_ps_car_04_cat_3', 'OHE_ps_car_04_cat_4', 'OHE_ps_car_04_cat_5', 'OHE_ps_car_04_cat_6', 'OHE_ps_car_04_cat_7', 'OHE_ps_car_04_cat_8', 'OHE_ps_car_04_cat_9', 'OHE_ps_car_05_cat_-1', 'OHE_ps_car_05_cat_0', 'OHE_ps_car_05_cat_1', 'OHE_ps_car_06_cat_0', 'OHE_ps_car_06_cat_1', 'OHE_ps_car_06_cat_2', 'OHE_ps_car_06_cat_3', 'OHE_ps_car_06_cat_4', 'OHE_ps_car_06_cat_5', 'OHE_ps_car_06_cat_6', 'OHE_ps_car_06_cat_7', 'OHE_ps_car_06_cat_8', 'OHE_ps_car_06_cat_9', 'OHE_ps_car_06_cat_10', 'OHE_ps_car_06_cat_11', 'OHE_ps_car_06_cat_12', 'OHE_ps_car_06_cat_13', 'OHE_ps_car_06_cat_14', 'OHE_ps_car_06_cat_15', 'OHE_ps_car_06_cat_16', 'OHE_ps_car_06_cat_17', 'OHE_ps_car_07_cat_-1', 'OHE_ps_car_07_cat_0', 'OHE_ps_car_07_cat_1', 'OHE_ps_car_09_cat_-1', 'OHE_ps_car_09_cat_0', 'OHE_ps_car_09_cat_1', 'OHE_ps_car_09_cat_2', 'OHE_ps_car_09_cat_3', 'OHE_ps_car_09_cat_4', 'OHE_ps_car_10_cat_0', 'OHE_ps_car_10_cat_1', 'OHE_ps_car_10_cat_2', 'OHE_ps_car_11_-1', 'OHE_ps_car_11_0', 'OHE_ps_car_11_1', 'OHE_ps_car_11_2', 'OHE_ps_car_11_3', 'OHE_ps_car_11_cat_1', 'OHE_ps_car_11_cat_2', 'OHE_ps_car_11_cat_3', 'OHE_ps_car_11_cat_4', 'OHE_ps_car_11_cat_5', 'OHE_ps_car_11_cat_6', 'OHE_ps_car_11_cat_7', 'OHE_ps_car_11_cat_8', 'OHE_ps_car_11_cat_9', 'OHE_ps_car_11_cat_10', 'OHE_ps_car_11_cat_11', 'OHE_ps_car_11_cat_12', 'OHE_ps_car_11_cat_13', 'OHE_ps_car_11_cat_14', 'OHE_ps_car_11_cat_15', 'OHE_ps_car_11_cat_16', 'OHE_ps_car_11_cat_17', 'OHE_ps_car_11_cat_18', 'OHE_ps_car_11_cat_19', 'OHE_ps_car_11_cat_20', 'OHE_ps_car_11_cat_21', 'OHE_ps_car_11_cat_22', 'OHE_ps_car_11_cat_23', 'OHE_ps_car_11_cat_24', 'OHE_ps_car_11_cat_25', 'OHE_ps_car_11_cat_26', 'OHE_ps_car_11_cat_27', 'OHE_ps_car_11_cat_28', 'OHE_ps_car_11_cat_29', 'OHE_ps_car_11_cat_30', 'OHE_ps_car_11_cat_31', 'OHE_ps_car_11_cat_32', 'OHE_ps_car_11_cat_33', 'OHE_ps_car_11_cat_34', 'OHE_ps_car_11_cat_35', 'OHE_ps_car_11_cat_36', 'OHE_ps_car_11_cat_37', 'OHE_ps_car_11_cat_38', 'OHE_ps_car_11_cat_39', 'OHE_ps_car_11_cat_40', 'OHE_ps_car_11_cat_41', 'OHE_ps_car_11_cat_42', 'OHE_ps_car_11_cat_43', 'OHE_ps_car_11_cat_44', 'OHE_ps_car_11_cat_45', 'OHE_ps_car_11_cat_46', 'OHE_ps_car_11_cat_47', 'OHE_ps_car_11_cat_48', 'OHE_ps_car_11_cat_49', 'OHE_ps_car_11_cat_50', 'OHE_ps_car_11_cat_51', 'OHE_ps_car_11_cat_52', 'OHE_ps_car_11_cat_53', 'OHE_ps_car_11_cat_54', 'OHE_ps_car_11_cat_55', 'OHE_ps_car_11_cat_56', 'OHE_ps_car_11_cat_57', 'OHE_ps_car_11_cat_58', 'OHE_ps_car_11_cat_59', 'OHE_ps_car_11_cat_60', 'OHE_ps_car_11_cat_61', 'OHE_ps_car_11_cat_62', 'OHE_ps_car_11_cat_63', 'OHE_ps_car_11_cat_64', 'OHE_ps_car_11_cat_65', 'OHE_ps_car_11_cat_66', 'OHE_ps_car_11_cat_67', 'OHE_ps_car_11_cat_68', 'OHE_ps_car_11_cat_69', 'OHE_ps_car_11_cat_70', 'OHE_ps_car_11_cat_71', 'OHE_ps_car_11_cat_72', 'OHE_ps_car_11_cat_73', 'OHE_ps_car_11_cat_74', 'OHE_ps_car_11_cat_75', 'OHE_ps_car_11_cat_76', 'OHE_ps_car_11_cat_77', 'OHE_ps_car_11_cat_78', 'OHE_ps_car_11_cat_79', 'OHE_ps_car_11_cat_80', 'OHE_ps_car_11_cat_81', 'OHE_ps_car_11_cat_82', 'OHE_ps_car_11_cat_83', 'OHE_ps_car_11_cat_84', 'OHE_ps_car_11_cat_85', 'OHE_ps_car_11_cat_86', 'OHE_ps_car_11_cat_87', 'OHE_ps_car_11_cat_88', 'OHE_ps_car_11_cat_89', 'OHE_ps_car_11_cat_90', 'OHE_ps_car_11_cat_91', 'OHE_ps_car_11_cat_92', 'OHE_ps_car_11_cat_93', 'OHE_ps_car_11_cat_94', 'OHE_ps_car_11_cat_95', 'OHE_ps_car_11_cat_96', 'OHE_ps_car_11_cat_97', 'OHE_ps_car_11_cat_98', 'OHE_ps_car_11_cat_99', 'OHE_ps_car_11_cat_100', 'OHE_ps_car_11_cat_101', 'OHE_ps_car_11_cat_102', 'OHE_ps_car_11_cat_103', 'OHE_ps_car_11_cat_104', 'OHE_ps_car_15_0.0', 'OHE_ps_car_15_1.0', 'OHE_ps_car_15_1.4142135624', 'OHE_ps_car_15_1.7320508076', 'OHE_ps_car_15_2.0', 'OHE_ps_car_15_2.2360679775', 'OHE_ps_car_15_2.4494897428', 'OHE_ps_car_15_2.6457513111', 'OHE_ps_car_15_2.8284271247', 'OHE_ps_car_15_3.0', 'OHE_ps_car_15_3.1622776602', 'OHE_ps_car_15_3.3166247904', 'OHE_ps_car_15_3.4641016151', 'OHE_ps_car_15_3.6055512755', 'OHE_ps_car_15_3.7416573868', 'OHE_ps_ind_01_0', 'OHE_ps_ind_01_1', 'OHE_ps_ind_01_2', 'OHE_ps_ind_01_3', 'OHE_ps_ind_01_4', 'OHE_ps_ind_01_5', 'OHE_ps_ind_01_6', 'OHE_ps_ind_01_7', 'OHE_ps_ind_02_cat_-1', 'OHE_ps_ind_02_cat_1', 'OHE_ps_ind_02_cat_2', 'OHE_ps_ind_02_cat_3', 'OHE_ps_ind_02_cat_4', 'OHE_ps_ind_03_0', 'OHE_ps_ind_03_1', 'OHE_ps_ind_03_2', 'OHE_ps_ind_03_3', 'OHE_ps_ind_03_4', 'OHE_ps_ind_03_5', 'OHE_ps_ind_03_6', 'OHE_ps_ind_03_7', 'OHE_ps_ind_03_8', 'OHE_ps_ind_03_9', 'OHE_ps_ind_03_10', 'OHE_ps_ind_03_11', 'OHE_ps_ind_04_cat_-1', 'OHE_ps_ind_04_cat_0', 'OHE_ps_ind_04_cat_1', 'OHE_ps_ind_05_cat_-1', 'OHE_ps_ind_05_cat_0', 'OHE_ps_ind_05_cat_1', 'OHE_ps_ind_05_cat_2', 'OHE_ps_ind_05_cat_3', 'OHE_ps_ind_05_cat_4', 'OHE_ps_ind_05_cat_5', 'OHE_ps_ind_05_cat_6', 'OHE_ps_ind_14_0', 'OHE_ps_ind_14_1', 'OHE_ps_ind_14_2', 'OHE_ps_ind_14_3', 'OHE_ps_ind_14_4', 'OHE_ps_ind_15_0', 'OHE_ps_ind_15_1', 'OHE_ps_ind_15_2', 'OHE_ps_ind_15_3', 'OHE_ps_ind_15_4', 'OHE_ps_ind_15_5', 'OHE_ps_ind_15_6', 'OHE_ps_ind_15_7', 'OHE_ps_ind_15_8', 'OHE_ps_ind_15_9', 'OHE_ps_ind_15_10', 'OHE_ps_ind_15_11', 'OHE_ps_ind_15_12', 'OHE_ps_ind_15_13', 'OHE_ps_reg_01_0.0', 'OHE_ps_reg_01_0.1', 'OHE_ps_reg_01_0.2', 'OHE_ps_reg_01_0.3', 'OHE_ps_reg_01_0.4', 'OHE_ps_reg_01_0.5', 'OHE_ps_reg_01_0.6', 'OHE_ps_reg_01_0.7', 'OHE_ps_reg_01_0.8', 'OHE_ps_reg_01_0.9', 'OHE_ps_reg_02_0.0', 'OHE_ps_reg_02_0.1', 'OHE_ps_reg_02_0.2', 'OHE_ps_reg_02_0.3', 'OHE_ps_reg_02_0.4', 'OHE_ps_reg_02_0.5', 'OHE_ps_reg_02_0.6', 'OHE_ps_reg_02_0.7', 'OHE_ps_reg_02_0.8', 'OHE_ps_reg_02_0.9', 'OHE_ps_reg_02_1.0', 'OHE_ps_reg_02_1.1', 'OHE_ps_reg_02_1.2', 'OHE_ps_reg_02_1.3', 'OHE_ps_reg_02_1.4', 'OHE_ps_reg_02_1.5', 'OHE_ps_reg_02_1.6', 'OHE_ps_reg_02_1.7', 'OHE_ps_reg_02_1.8']\n"
     ]
    }
   ],
   "source": [
    "print(both.columns.tolist())"
   ]
  },
  {
   "cell_type": "code",
   "execution_count": 6,
   "metadata": {
    "collapsed": true
   },
   "outputs": [],
   "source": []
  }
 ],
 "metadata": {
  "kernelspec": {
   "display_name": "Python 3",
   "language": "python",
   "name": "python3"
  },
  "language_info": {
   "codemirror_mode": {
    "name": "ipython",
    "version": 3
   },
   "file_extension": ".py",
   "mimetype": "text/x-python",
   "name": "python",
   "nbconvert_exporter": "python",
   "pygments_lexer": "ipython3",
   "version": "3.6.3"
  }
 },
 "nbformat": 4,
 "nbformat_minor": 1
}
