{
 "cells": [
  {
   "cell_type": "markdown",
   "metadata": {
    "_uuid": "0cc4e92cc4b55d20f1fcc60bb2ed532f6aca6486"
   },
   "source": [
    "There are many different method's to select the important features from a dataset. In this notebook I will show a quick way to select important features with the use of Boruta.\n",
    "\n",
    "Boruta tries to find all relevant features that carry information to make an accurate classification. You can read more about Boruta [here](http://danielhomola.com/2015/05/08/borutapy-an-all-relevant-feature-selection-method/)\n",
    "\n",
    "Let's start by doing all necessary imports."
   ]
  },
  {
   "cell_type": "code",
   "execution_count": 1,
   "metadata": {
    "_cell_guid": "b1076dfc-b9ad-4769-8c92-a6c4dae69d19",
    "_uuid": "8f2839f25d086af736a60e9eeb907d3b93b6e0e5"
   },
   "outputs": [],
   "source": [
    "import numpy as np \n",
    "import pandas as pd \n",
    "from sklearn.ensemble import RandomForestClassifier\n",
    "from boruta import BorutaPy"
   ]
  },
  {
   "cell_type": "markdown",
   "metadata": {
    "_uuid": "ec828ecdd72e9db30693401e02a6505e398c37c2"
   },
   "source": [
    "Next we load only the 'application_train' data as this is to demonstrate Boruta only. "
   ]
  },
  {
   "cell_type": "code",
   "execution_count": 2,
   "metadata": {
    "_cell_guid": "79c7e3d0-c299-4dcb-8224-4455121ee9b0",
    "_uuid": "d629ff2d2480ee46fbb7e2d37f6b5fab8052498a",
    "collapsed": true
   },
   "outputs": [
    {
     "data": {
      "text/plain": [
       "(307511, 122)"
      ]
     },
     "execution_count": 2,
     "metadata": {},
     "output_type": "execute_result"
    }
   ],
   "source": [
    "train = pd.read_csv(\"../input/application_train.csv\")\n",
    "train.shape"
   ]
  },
  {
   "cell_type": "markdown",
   "metadata": {
    "_uuid": "2c0d804c6e7e68c9d04b52f30466454b95542f8f"
   },
   "source": [
    "All categorical values will be one-hot encoded."
   ]
  },
  {
   "cell_type": "code",
   "execution_count": 3,
   "metadata": {
    "_uuid": "93cb173855027664447e440cb86c4773e46a439e"
   },
   "outputs": [
    {
     "data": {
      "text/plain": [
       "(307511, 246)"
      ]
     },
     "execution_count": 3,
     "metadata": {},
     "output_type": "execute_result"
    }
   ],
   "source": [
    "train = pd.get_dummies(train, drop_first=True, dummy_na=True)\n",
    "train.shape"
   ]
  },
  {
   "cell_type": "markdown",
   "metadata": {
    "_uuid": "41c4522d63eb5d0df62c8fa3e166d504ba2473d6"
   },
   "source": [
    "Get all feature names from the dataset"
   ]
  },
  {
   "cell_type": "code",
   "execution_count": 4,
   "metadata": {
    "_uuid": "6146759b7e93ad38630ebfbb5286ebe4b61de6f6"
   },
   "outputs": [
    {
     "data": {
      "text/plain": [
       "244"
      ]
     },
     "execution_count": 4,
     "metadata": {},
     "output_type": "execute_result"
    }
   ],
   "source": [
    "features = [f for f in train.columns if f not in ['TARGET','SK_ID_CURR']]\n",
    "len(features)"
   ]
  },
  {
   "cell_type": "markdown",
   "metadata": {
    "_uuid": "165c21232b569be72098d6b95336233b492ade3a"
   },
   "source": [
    "Replace all missing values with the Mean."
   ]
  },
  {
   "cell_type": "code",
   "execution_count": 5,
   "metadata": {
    "_uuid": "83b4018f12d2280031cd72921963f33260233ba9"
   },
   "outputs": [],
   "source": [
    "train[features] = train[features].fillna(train[features].mean()).clip(-1e9,1e9)"
   ]
  },
  {
   "cell_type": "markdown",
   "metadata": {
    "_uuid": "81b5dedd4e74a12fb1eb715f789db6a3f43aeb8e"
   },
   "source": [
    "Get the final dataset *X* and labels *Y*"
   ]
  },
  {
   "cell_type": "code",
   "execution_count": 6,
   "metadata": {
    "_uuid": "8f9ae078324f516837c4d5e920a308f2a05d75c7"
   },
   "outputs": [],
   "source": [
    "X = train[features].values\n",
    "Y = train['TARGET'].values.ravel()"
   ]
  },
  {
   "cell_type": "markdown",
   "metadata": {
    "_uuid": "afb29960c5daa71b8bae15ef462de2de99a058a9"
   },
   "source": [
    "Next we setup the *RandomForrestClassifier* as the estimator to use for Boruta. The *max_depth* of the tree is advised on the Boruta Github page to be between 3 to 7."
   ]
  },
  {
   "cell_type": "code",
   "execution_count": 7,
   "metadata": {
    "_uuid": "d9be9c2d15e228658017865d15f261f1e18e3f23"
   },
   "outputs": [],
   "source": [
    "rf = RandomForestClassifier(n_jobs=-1, class_weight='balanced', max_depth=5)"
   ]
  },
  {
   "cell_type": "markdown",
   "metadata": {
    "_uuid": "efb5dde4c2018f209de9dfd0afcd77c3fa8999cb"
   },
   "source": [
    "Next we setup Boruta. It uses the *scikit-learn* interface as much as possible so we can use *fit(X, y), transform(X), fit_transform(X, y)*. I'll let it run for a maximum of *max_iter = 50* iterations. With *perc = 90* a threshold is specified. The lower the threshold the more features will be selected. I usually use a percentage between 80 and 90. "
   ]
  },
  {
   "cell_type": "code",
   "execution_count": 8,
   "metadata": {
    "_uuid": "613175f06ad987527513455ce911ddb7212fb70a"
   },
   "outputs": [
    {
     "name": "stdout",
     "output_type": "stream",
     "text": [
      "Iteration: \t1 / 50\n",
      "Confirmed: \t0\n",
      "Tentative: \t244\n",
      "Rejected: \t0\n",
      "Iteration: \t2 / 50\n",
      "Confirmed: \t0\n",
      "Tentative: \t244\n",
      "Rejected: \t0\n",
      "Iteration: \t3 / 50\n",
      "Confirmed: \t0\n",
      "Tentative: \t244\n",
      "Rejected: \t0\n",
      "Iteration: \t4 / 50\n",
      "Confirmed: \t0\n",
      "Tentative: \t244\n",
      "Rejected: \t0\n",
      "Iteration: \t5 / 50\n",
      "Confirmed: \t0\n",
      "Tentative: \t244\n",
      "Rejected: \t0\n",
      "Iteration: \t6 / 50\n",
      "Confirmed: \t0\n",
      "Tentative: \t244\n",
      "Rejected: \t0\n",
      "Iteration: \t7 / 50\n",
      "Confirmed: \t0\n",
      "Tentative: \t244\n",
      "Rejected: \t0\n",
      "Iteration: \t8 / 50\n",
      "Confirmed: \t97\n",
      "Tentative: \t16\n",
      "Rejected: \t131\n",
      "Iteration: \t9 / 50\n",
      "Confirmed: \t97\n",
      "Tentative: \t16\n",
      "Rejected: \t131\n",
      "Iteration: \t10 / 50\n",
      "Confirmed: \t97\n",
      "Tentative: \t16\n",
      "Rejected: \t131\n",
      "Iteration: \t11 / 50\n",
      "Confirmed: \t97\n",
      "Tentative: \t16\n",
      "Rejected: \t131\n",
      "Iteration: \t12 / 50\n",
      "Confirmed: \t98\n",
      "Tentative: \t15\n",
      "Rejected: \t131\n",
      "Iteration: \t13 / 50\n",
      "Confirmed: \t98\n",
      "Tentative: \t15\n",
      "Rejected: \t131\n",
      "Iteration: \t14 / 50\n",
      "Confirmed: \t98\n",
      "Tentative: \t15\n",
      "Rejected: \t131\n",
      "Iteration: \t15 / 50\n",
      "Confirmed: \t98\n",
      "Tentative: \t15\n",
      "Rejected: \t131\n",
      "Iteration: \t16 / 50\n",
      "Confirmed: \t98\n",
      "Tentative: \t14\n",
      "Rejected: \t132\n",
      "Iteration: \t17 / 50\n",
      "Confirmed: \t98\n",
      "Tentative: \t14\n",
      "Rejected: \t132\n",
      "Iteration: \t18 / 50\n",
      "Confirmed: \t98\n",
      "Tentative: \t14\n",
      "Rejected: \t132\n",
      "Iteration: \t19 / 50\n",
      "Confirmed: \t98\n",
      "Tentative: \t13\n",
      "Rejected: \t133\n",
      "Iteration: \t20 / 50\n",
      "Confirmed: \t98\n",
      "Tentative: \t13\n",
      "Rejected: \t133\n",
      "Iteration: \t21 / 50\n",
      "Confirmed: \t98\n",
      "Tentative: \t13\n",
      "Rejected: \t133\n",
      "Iteration: \t22 / 50\n",
      "Confirmed: \t99\n",
      "Tentative: \t12\n",
      "Rejected: \t133\n",
      "Iteration: \t23 / 50\n",
      "Confirmed: \t99\n",
      "Tentative: \t12\n",
      "Rejected: \t133\n",
      "Iteration: \t24 / 50\n",
      "Confirmed: \t99\n",
      "Tentative: \t12\n",
      "Rejected: \t133\n",
      "Iteration: \t25 / 50\n",
      "Confirmed: \t99\n",
      "Tentative: \t12\n",
      "Rejected: \t133\n",
      "Iteration: \t26 / 50\n",
      "Confirmed: \t99\n",
      "Tentative: \t11\n",
      "Rejected: \t134\n",
      "Iteration: \t27 / 50\n",
      "Confirmed: \t99\n",
      "Tentative: \t11\n",
      "Rejected: \t134\n",
      "Iteration: \t28 / 50\n",
      "Confirmed: \t99\n",
      "Tentative: \t11\n",
      "Rejected: \t134\n",
      "Iteration: \t29 / 50\n",
      "Confirmed: \t99\n",
      "Tentative: \t11\n",
      "Rejected: \t134\n",
      "Iteration: \t30 / 50\n",
      "Confirmed: \t99\n",
      "Tentative: \t9\n",
      "Rejected: \t136\n",
      "Iteration: \t31 / 50\n",
      "Confirmed: \t99\n",
      "Tentative: \t9\n",
      "Rejected: \t136\n",
      "Iteration: \t32 / 50\n",
      "Confirmed: \t99\n",
      "Tentative: \t9\n",
      "Rejected: \t136\n",
      "Iteration: \t33 / 50\n",
      "Confirmed: \t99\n",
      "Tentative: \t9\n",
      "Rejected: \t136\n",
      "Iteration: \t34 / 50\n",
      "Confirmed: \t99\n",
      "Tentative: \t9\n",
      "Rejected: \t136\n",
      "Iteration: \t35 / 50\n",
      "Confirmed: \t99\n",
      "Tentative: \t9\n",
      "Rejected: \t136\n",
      "Iteration: \t36 / 50\n",
      "Confirmed: \t99\n",
      "Tentative: \t9\n",
      "Rejected: \t136\n",
      "Iteration: \t37 / 50\n",
      "Confirmed: \t99\n",
      "Tentative: \t8\n",
      "Rejected: \t137\n",
      "Iteration: \t38 / 50\n",
      "Confirmed: \t99\n",
      "Tentative: \t8\n",
      "Rejected: \t137\n",
      "Iteration: \t39 / 50\n",
      "Confirmed: \t99\n",
      "Tentative: \t8\n",
      "Rejected: \t137\n",
      "Iteration: \t40 / 50\n",
      "Confirmed: \t99\n",
      "Tentative: \t5\n",
      "Rejected: \t140\n",
      "Iteration: \t41 / 50\n",
      "Confirmed: \t99\n",
      "Tentative: \t5\n",
      "Rejected: \t140\n",
      "Iteration: \t42 / 50\n",
      "Confirmed: \t99\n",
      "Tentative: \t5\n",
      "Rejected: \t140\n",
      "Iteration: \t43 / 50\n",
      "Confirmed: \t99\n",
      "Tentative: \t5\n",
      "Rejected: \t140\n",
      "Iteration: \t44 / 50\n",
      "Confirmed: \t99\n",
      "Tentative: \t5\n",
      "Rejected: \t140\n",
      "Iteration: \t45 / 50\n",
      "Confirmed: \t99\n",
      "Tentative: \t5\n",
      "Rejected: \t140\n",
      "Iteration: \t46 / 50\n",
      "Confirmed: \t99\n",
      "Tentative: \t5\n",
      "Rejected: \t140\n",
      "Iteration: \t47 / 50\n",
      "Confirmed: \t99\n",
      "Tentative: \t5\n",
      "Rejected: \t140\n",
      "Iteration: \t48 / 50\n",
      "Confirmed: \t99\n",
      "Tentative: \t5\n",
      "Rejected: \t140\n",
      "Iteration: \t49 / 50\n",
      "Confirmed: \t99\n",
      "Tentative: \t5\n",
      "Rejected: \t140\n",
      "\n",
      "\n",
      "BorutaPy finished running.\n",
      "\n",
      "Iteration: \t50 / 50\n",
      "Confirmed: \t99\n",
      "Tentative: \t1\n",
      "Rejected: \t140\n"
     ]
    },
    {
     "data": {
      "text/plain": [
       "BorutaPy(alpha=0.05,\n",
       "         estimator=RandomForestClassifier(bootstrap=True,\n",
       "                                          class_weight='balanced',\n",
       "                                          criterion='gini', max_depth=5,\n",
       "                                          max_features='auto',\n",
       "                                          max_leaf_nodes=None,\n",
       "                                          min_impurity_decrease=0.0,\n",
       "                                          min_impurity_split=None,\n",
       "                                          min_samples_leaf=1,\n",
       "                                          min_samples_split=2,\n",
       "                                          min_weight_fraction_leaf=0.0,\n",
       "                                          n_estimators=288, n_jobs=-1,\n",
       "                                          oob_score=False,\n",
       "                                          random_state=<mtrand.RandomState object at 0x7fe1a8bf9090>,\n",
       "                                          verbose=0, warm_start=False),\n",
       "         max_iter=50, n_estimators='auto', perc=90,\n",
       "         random_state=<mtrand.RandomState object at 0x7fe1a8bf9090>,\n",
       "         two_step=True, verbose=2)"
      ]
     },
     "execution_count": 8,
     "metadata": {},
     "output_type": "execute_result"
    }
   ],
   "source": [
    "boruta_feature_selector = BorutaPy(rf, n_estimators='auto', verbose=2, random_state=4242, max_iter = 50, perc = 90)\n",
    "boruta_feature_selector.fit(X, Y)"
   ]
  },
  {
   "cell_type": "markdown",
   "metadata": {
    "_uuid": "5ab0a855065ebdf857bf9cd605c3c4feaa03f1ce"
   },
   "source": [
    "After Boruta has run we can transform our dataset."
   ]
  },
  {
   "cell_type": "code",
   "execution_count": 9,
   "metadata": {
    "_uuid": "a9cec04cba85457a85164ccacc55fba4e05cbd9c"
   },
   "outputs": [
    {
     "data": {
      "text/plain": [
       "(307511, 99)"
      ]
     },
     "execution_count": 9,
     "metadata": {},
     "output_type": "execute_result"
    }
   ],
   "source": [
    "X_filtered = boruta_feature_selector.transform(X)\n",
    "X_filtered.shape"
   ]
  },
  {
   "cell_type": "markdown",
   "metadata": {
    "_uuid": "9352719a4f7a56ca9741c2f99662aa85fa0f936e"
   },
   "source": [
    "And we create a list of the feature names if we would like to use them at a later stage."
   ]
  },
  {
   "cell_type": "code",
   "execution_count": 10,
   "metadata": {
    "_uuid": "d92229aaf6b15451c538985ed3e4f5f9dd25b33b"
   },
   "outputs": [
    {
     "name": "stdout",
     "output_type": "stream",
     "text": [
      "['CNT_CHILDREN', 'AMT_INCOME_TOTAL', 'AMT_CREDIT', 'AMT_ANNUITY', 'AMT_GOODS_PRICE', 'REGION_POPULATION_RELATIVE', 'DAYS_BIRTH', 'DAYS_EMPLOYED', 'DAYS_REGISTRATION', 'DAYS_ID_PUBLISH', 'OWN_CAR_AGE', 'FLAG_EMP_PHONE', 'FLAG_WORK_PHONE', 'CNT_FAM_MEMBERS', 'REGION_RATING_CLIENT', 'REGION_RATING_CLIENT_W_CITY', 'HOUR_APPR_PROCESS_START', 'REG_CITY_NOT_LIVE_CITY', 'REG_CITY_NOT_WORK_CITY', 'LIVE_CITY_NOT_WORK_CITY', 'EXT_SOURCE_1', 'EXT_SOURCE_2', 'EXT_SOURCE_3', 'APARTMENTS_AVG', 'BASEMENTAREA_AVG', 'YEARS_BEGINEXPLUATATION_AVG', 'YEARS_BUILD_AVG', 'COMMONAREA_AVG', 'ELEVATORS_AVG', 'ENTRANCES_AVG', 'FLOORSMAX_AVG', 'FLOORSMIN_AVG', 'LANDAREA_AVG', 'LIVINGAPARTMENTS_AVG', 'LIVINGAREA_AVG', 'NONLIVINGAREA_AVG', 'APARTMENTS_MODE', 'BASEMENTAREA_MODE', 'YEARS_BEGINEXPLUATATION_MODE', 'YEARS_BUILD_MODE', 'COMMONAREA_MODE', 'ELEVATORS_MODE', 'ENTRANCES_MODE', 'FLOORSMAX_MODE', 'FLOORSMIN_MODE', 'LANDAREA_MODE', 'LIVINGAPARTMENTS_MODE', 'LIVINGAREA_MODE', 'NONLIVINGAREA_MODE', 'APARTMENTS_MEDI', 'BASEMENTAREA_MEDI', 'YEARS_BEGINEXPLUATATION_MEDI', 'YEARS_BUILD_MEDI', 'ELEVATORS_MEDI', 'ENTRANCES_MEDI', 'FLOORSMAX_MEDI', 'FLOORSMIN_MEDI', 'LANDAREA_MEDI', 'LIVINGAPARTMENTS_MEDI', 'LIVINGAREA_MEDI', 'NONLIVINGAPARTMENTS_MEDI', 'NONLIVINGAREA_MEDI', 'TOTALAREA_MODE', 'DEF_30_CNT_SOCIAL_CIRCLE', 'DEF_60_CNT_SOCIAL_CIRCLE', 'DAYS_LAST_PHONE_CHANGE', 'FLAG_DOCUMENT_3', 'FLAG_DOCUMENT_6', 'AMT_REQ_CREDIT_BUREAU_HOUR', 'AMT_REQ_CREDIT_BUREAU_DAY', 'AMT_REQ_CREDIT_BUREAU_WEEK', 'AMT_REQ_CREDIT_BUREAU_YEAR', 'NAME_CONTRACT_TYPE_Revolving loans', 'CODE_GENDER_M', 'FLAG_OWN_CAR_Y', 'NAME_INCOME_TYPE_Commercial associate', 'NAME_INCOME_TYPE_Pensioner', 'NAME_INCOME_TYPE_State servant', 'NAME_INCOME_TYPE_Working', 'NAME_EDUCATION_TYPE_Higher education', 'NAME_EDUCATION_TYPE_Secondary / secondary special', 'NAME_FAMILY_STATUS_Married', 'NAME_FAMILY_STATUS_Single / not married', 'NAME_FAMILY_STATUS_Widow', 'NAME_HOUSING_TYPE_House / apartment', 'NAME_HOUSING_TYPE_With parents', 'OCCUPATION_TYPE_Core staff', 'OCCUPATION_TYPE_Drivers', 'OCCUPATION_TYPE_Laborers', 'OCCUPATION_TYPE_Sales staff', 'OCCUPATION_TYPE_nan', 'ORGANIZATION_TYPE_Business Entity Type 3', 'ORGANIZATION_TYPE_Self-employed', 'ORGANIZATION_TYPE_XNA', 'FONDKAPREMONT_MODE_nan', 'HOUSETYPE_MODE_nan', 'WALLSMATERIAL_MODE_Panel', 'WALLSMATERIAL_MODE_nan', 'EMERGENCYSTATE_MODE_nan']\n"
     ]
    }
   ],
   "source": [
    "final_features = list()\n",
    "indexes = np.where(boruta_feature_selector.support_ == True)\n",
    "for x in np.nditer(indexes):\n",
    "    final_features.append(features[x])\n",
    "print(final_features)"
   ]
  },
  {
   "cell_type": "markdown",
   "metadata": {
    "_uuid": "7b2efffc66d89b8ad7deb2d9c0008720e1672498"
   },
   "source": [
    "So I hope you enjoyed my very first Kaggle Kernel :-)\n",
    "Let me know if you have any feedback or suggestions."
   ]
  }
 ],
 "metadata": {
  "kernelspec": {
   "display_name": "Python 3",
   "language": "python",
   "name": "python3"
  },
  "language_info": {
   "codemirror_mode": {
    "name": "ipython",
    "version": 3
   },
   "file_extension": ".py",
   "mimetype": "text/x-python",
   "name": "python",
   "nbconvert_exporter": "python",
   "pygments_lexer": "ipython3",
   "version": "3.6.6"
  }
 },
 "nbformat": 4,
 "nbformat_minor": 1
}
