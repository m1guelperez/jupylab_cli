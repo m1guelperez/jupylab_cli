{
 "cells": [
  {
   "cell_type": "code",
   "execution_count": 1,
   "metadata": {
    "_cell_guid": "b1076dfc-b9ad-4769-8c92-a6c4dae69d19",
    "_uuid": "8f2839f25d086af736a60e9eeb907d3b93b6e0e5"
   },
   "outputs": [
    {
     "name": "stdout",
     "output_type": "stream",
     "text": [
      "[]\n"
     ]
    }
   ],
   "source": [
    "# This Python 3 environment comes with many helpful analytics libraries installed\n",
    "# It is defined by the kaggle/python docker image: https://github.com/kaggle/docker-python\n",
    "# For example, here's several helpful packages to load in \n",
    "\n",
    "import numpy as np # linear algebra\n",
    "import pandas as pd # data processing, CSV file I/O (e.g. pd.read_csv)\n",
    "\n",
    "# Input data files are available in the \"../input/\" directory.\n",
    "# For example, running this (by clicking run or pressing Shift+Enter) will list the files in the input directory\n",
    "\n",
    "import os\n",
    "print(os.listdir(\"../input\"))\n",
    "\n",
    "# Any results you write to the current directory are saved as output."
   ]
  },
  {
   "cell_type": "markdown",
   "metadata": {},
   "source": [
    "1.\t (R-6.1) What values are returned during the following series of stack operations, if executed upon an initially empty stack?\n",
    "a.\t push(5), push(3), pop(), push(2), push(8), pop(), pop(), push(9), push(1), pop(), push(7), push(6), pop(), pop(), push(4), pop(), pop().\n"
   ]
  },
  {
   "cell_type": "markdown",
   "metadata": {},
   "source": [
    "-\t5\n",
    "-\t5,3\n",
    "-\t5\n",
    "-\t5,2\n",
    "-\t5,2,8\n",
    "-\t5,2\n",
    "-\t5,\n",
    "-\t5,9\n",
    "-\t5,9,1\n",
    "-\t5,9\n",
    "-\t5,9,7\n",
    "-\t5,9,7,6\n",
    "-\t5,9,7\n",
    "-\t5,9,\n",
    "-\t5,9,4,\n",
    "-\t5,9\n",
    "-\t5,\n"
   ]
  },
  {
   "cell_type": "markdown",
   "metadata": {},
   "source": [
    "2.\t(R-6.2) Suppose an initially empty stack S has executed a total of 25 push operations, 12 top operations, and 10 pop operations, 3 of which raised Empty errors that were caught and ignored. What is the current size of S?"
   ]
  },
  {
   "cell_type": "markdown",
   "metadata": {},
   "source": [
    "a.\tSize 25 initial,  3 pops that do not actually return anything, therefore “Empty” as such \n",
    "i.\t25 – 7 = 18 \n"
   ]
  },
  {
   "cell_type": "markdown",
   "metadata": {},
   "source": [
    "3.\t(R-6.3) Implement a function transfer(S, T) that transfers all elements from stack S onto stack T, so that the element that starts at the top of S is the first to be inserted onto T, and the element at the bottom of S ends up at the top of T. Use (ch06/array_stack.py) to test your function.\n",
    "\n"
   ]
  },
  {
   "cell_type": "code",
   "execution_count": 2,
   "metadata": {},
   "outputs": [],
   "source": [
    "def transfer(S,T):\n",
    "    while not S.is_empty():\n",
    "        T.push(S.pop())"
   ]
  },
  {
   "cell_type": "markdown",
   "metadata": {},
   "source": [
    "(R-6.7) What values are returned during the following sequence of queue operations, if executed on an initially empty queue?\n",
    "enqueue(5), enqueue(3), dequeue(), enqueue(2), enqueue(8), dequeue(), dequeue(), enqueue(9), enqueue(1), dequeue(), enqueue(7), enqueue(6), dequeue(), dequeue(), enqueue(4), dequeue(),dequeue().\n",
    "\n",
    "- 5\n",
    "-\t5,3\n",
    "-\t5, return 3 \n",
    "-\t5,2\n",
    "-\t5,2,8\n",
    "-\t5,2, return 8 \n",
    "-\t5, return 2\n",
    "-\t5,9\n",
    "-\t5,9,1\n",
    "-\t5,9, return 1\n",
    "-\t5,9,7\n",
    "-\t5,9,7,6\n",
    "-\t5,9,7, return 6\n",
    "-\t5,9, return 7 \n",
    "-\t5,9,4\n",
    "-\t5,9, return 4 \n",
    "-\t5, return 9 \n",
    "\n"
   ]
  },
  {
   "cell_type": "markdown",
   "metadata": {},
   "source": [
    "Q5.\t(R-6.8) Suppose an initially empty queue Q has executed a total of 32 enqueue operations. 15 dequeue operations were also executed, 5 of which raised Empty errors that were caught and ignored. What is the current size of Q?\n",
    "\n",
    "- 32 enqueues with 15 denqueues, however 5 do not complete, so only 10 denques, meaning 32-10 = 22 \n"
   ]
  },
  {
   "cell_type": "markdown",
   "metadata": {},
   "source": [
    "Q6.\t(R-6.13) Suppose you have a deque D containing the numbers (1,2,3,4,5,6,7,8), in this order. Suppose further that you have an initially empty queue Q. Give a code fragment that uses only D and Q (and no other variables) and results in D storing the elements in the order (1,2,3,5,4,6,7,8).\n",
    "\n",
    "\t\t\n",
    "\t\t\n",
    "\t\t\n",
    "\t\t\n",
    "\t\t\n",
    "\t\t\n",
    "\t\t\n"
   ]
  },
  {
   "cell_type": "code",
   "execution_count": 3,
   "metadata": {},
   "outputs": [
    {
     "name": "stdout",
     "output_type": "stream",
     "text": [
      "deque([1, 2, 3, 5, 4, 6, 7, 8])\n"
     ]
    }
   ],
   "source": [
    "from collections import deque as dqu\n",
    "Dlist = [1,2,3,4,5,6,7,8]\n",
    "D = dqu()\n",
    "Q = dqu()\n",
    "\n",
    "for i in Dlist:\n",
    "    D.append(i)\n",
    "    \n",
    "Q.append(D.popleft())\n",
    "Q.append(D.popleft())\n",
    "Q.append(D.popleft())\n",
    "D.append(D.popleft())\n",
    "Q.append(D.popleft())\n",
    "\n",
    "Q.append(D.pop())\n",
    "\n",
    "Q.append(D.popleft())\n",
    "Q.append(D.popleft())\n",
    "Q.append(D.popleft())\n",
    "\n",
    "D.append(Q.popleft())\n",
    "D.append(Q.popleft())\n",
    "D.append(Q.popleft())\n",
    "D.append(Q.popleft())\n",
    "D.append(Q.popleft())\n",
    "D.append(Q.popleft())\n",
    "D.append(Q.popleft())\n",
    "D.append(Q.popleft())\n",
    "\n",
    "\n",
    "print(D)"
   ]
  },
  {
   "cell_type": "markdown",
   "metadata": {},
   "source": [
    "7. (R-6.14) Repeat the previous problem using the deque D and an initially empty stack S."
   ]
  },
  {
   "cell_type": "code",
   "execution_count": 4,
   "metadata": {},
   "outputs": [
    {
     "name": "stdout",
     "output_type": "stream",
     "text": [
      "deque([1, 2, 3, 5, 4, 6, 7, 8])\n"
     ]
    }
   ],
   "source": [
    "from collections import deque as dqu\n",
    "Dlist = [1,2,3,4,5,6,7,8]\n",
    "D = dqu()\n",
    "S = dqu()\n",
    "\n",
    "for i in Dlist:\n",
    "    D.append(i)\n",
    "    \n",
    "S.append(D.pop())\n",
    "S.append(D.pop())\n",
    "S.append(D.pop())\n",
    "D.appendleft(D.pop())\n",
    "S.append(D.pop())\n",
    "S.append(D.popleft())\n",
    "S.append(D.pop())\n",
    "S.append(D.pop())\n",
    "S.append(D.pop())\n",
    "\n",
    "D.append(S.pop())\n",
    "D.append(S.pop())\n",
    "D.append(S.pop())\n",
    "D.append(S.pop())\n",
    "D.append(S.pop())\n",
    "D.append(S.pop())\n",
    "D.append(S.pop())\n",
    "D.append(S.pop())\n",
    "print(D)"
   ]
  }
 ],
 "metadata": {
  "kernelspec": {
   "display_name": "Python 3",
   "language": "python",
   "name": "python3"
  },
  "language_info": {
   "codemirror_mode": {
    "name": "ipython",
    "version": 3
   },
   "file_extension": ".py",
   "mimetype": "text/x-python",
   "name": "python",
   "nbconvert_exporter": "python",
   "pygments_lexer": "ipython3",
   "version": "3.6.4"
  }
 },
 "nbformat": 4,
 "nbformat_minor": 1
}
