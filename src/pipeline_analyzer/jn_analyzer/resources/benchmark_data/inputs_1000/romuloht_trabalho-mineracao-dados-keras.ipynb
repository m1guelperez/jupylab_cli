{
 "cells": [
  {
   "cell_type": "code",
   "execution_count": 1,
   "metadata": {
    "_cell_guid": "b1076dfc-b9ad-4769-8c92-a6c4dae69d19",
    "_uuid": "8f2839f25d086af736a60e9eeb907d3b93b6e0e5"
   },
   "outputs": [
    {
     "name": "stdout",
     "output_type": "stream",
     "text": [
      "/kaggle/input/mnist-in-csv/mnist_train.csv\n",
      "/kaggle/input/mnist-in-csv/mnist_test.csv\n"
     ]
    }
   ],
   "source": [
    "# This Python 3 environment comes with many helpful analytics libraries installed\n",
    "# It is defined by the kaggle/python docker image: https://github.com/kaggle/docker-python\n",
    "# For example, here's several helpful packages to load in \n",
    "\n",
    "import numpy as np # linear algebra\n",
    "import pandas as pd # data processing, CSV file I/O (e.g. pd.read_csv)\n",
    "\n",
    "# Input data files are available in the \"../input/\" directory.\n",
    "# For example, running this (by clicking run or pressing Shift+Enter) will list all files under the input directory\n",
    "\n",
    "import os\n",
    "for dirname, _, filenames in os.walk('/kaggle/input'):\n",
    "    for filename in filenames:\n",
    "        print(os.path.join(dirname, filename))\n",
    "\n",
    "# Any results you write to the current directory are saved as output."
   ]
  },
  {
   "cell_type": "code",
   "execution_count": 2,
   "metadata": {
    "_cell_guid": "79c7e3d0-c299-4dcb-8224-4455121ee9b0",
    "_uuid": "d629ff2d2480ee46fbb7e2d37f6b5fab8052498a"
   },
   "outputs": [],
   "source": [
    "train = pd.read_csv('/kaggle/input/mnist-in-csv/mnist_train.csv')"
   ]
  },
  {
   "cell_type": "code",
   "execution_count": 3,
   "metadata": {},
   "outputs": [],
   "source": [
    "test = pd.read_csv('/kaggle/input/mnist-in-csv/mnist_test.csv')"
   ]
  },
  {
   "cell_type": "code",
   "execution_count": 4,
   "metadata": {},
   "outputs": [],
   "source": [
    "y_train = train['label']\n",
    "X_train = train.drop('label',axis=1)\n",
    "y_test = test['label']\n",
    "X_test = test.drop('label',axis=1)"
   ]
  },
  {
   "cell_type": "code",
   "execution_count": 5,
   "metadata": {},
   "outputs": [],
   "source": [
    "X_train = X_train.values.reshape(-1,28,28,1)\n",
    "X_test = X_test.values.reshape(-1,28,28,1)"
   ]
  },
  {
   "cell_type": "code",
   "execution_count": 6,
   "metadata": {},
   "outputs": [
    {
     "name": "stderr",
     "output_type": "stream",
     "text": [
      "Using TensorFlow backend.\n"
     ]
    }
   ],
   "source": [
    "from keras.utils.np_utils import to_categorical\n",
    "y_train = to_categorical(y_train, num_classes=10)\n",
    "y_test = to_categorical(y_test, num_classes=10)"
   ]
  },
  {
   "cell_type": "code",
   "execution_count": 7,
   "metadata": {},
   "outputs": [
    {
     "data": {
      "text/plain": [
       "(60000, 60000, 10000, 10000)"
      ]
     },
     "execution_count": 7,
     "metadata": {},
     "output_type": "execute_result"
    }
   ],
   "source": [
    "len(X_train), len(y_train), len(X_test), len(y_test)"
   ]
  },
  {
   "cell_type": "code",
   "execution_count": 8,
   "metadata": {},
   "outputs": [],
   "source": [
    "from keras import models\n",
    "from keras import layers\n",
    "from keras.optimizers import RMSprop"
   ]
  },
  {
   "cell_type": "code",
   "execution_count": 9,
   "metadata": {},
   "outputs": [],
   "source": [
    "def build_model():\n",
    "  model = models.Sequential()\n",
    "\n",
    "  model.add(layers.Conv2D(filters = 32, kernel_size = (5,5), activation ='relu', input_shape = (28,28,1)))\n",
    "  model.add(layers.MaxPool2D(pool_size=(2,2)))\n",
    "  model.add(layers.Dropout(0.2))\n",
    "  model.add(layers.Conv2D(filters = 64, kernel_size = (3,3), activation ='relu'))\n",
    "  model.add(layers.MaxPool2D(pool_size=(2,2), strides=(2,2)))\n",
    "  model.add(layers.Dropout(0.2))\n",
    "  model.add(layers.Flatten())\n",
    "  model.add(layers.Dense(256, activation = \"relu\"))\n",
    "  model.add(layers.Dropout(0.2))\n",
    "  model.add(layers.Dense(10, activation = \"softmax\"))\n",
    "\n",
    "  optimizer = RMSprop(lr=0.001, rho=0.9, epsilon=1e-08, decay=0.0)\n",
    "\n",
    "  model.compile(optimizer=optimizer, loss='categorical_crossentropy', metrics=['accuracy'])\n",
    "  return model"
   ]
  },
  {
   "cell_type": "code",
   "execution_count": 10,
   "metadata": {},
   "outputs": [
    {
     "name": "stdout",
     "output_type": "stream",
     "text": [
      "Train on 48000 samples, validate on 12000 samples\n",
      "Epoch 1/30\n",
      "48000/48000 [==============================] - 17s 354us/step - loss: 0.6331 - accuracy: 0.9194 - val_loss: 0.0839 - val_accuracy: 0.9779\n",
      "Epoch 2/30\n",
      "48000/48000 [==============================] - 13s 261us/step - loss: 0.1542 - accuracy: 0.9637 - val_loss: 0.0714 - val_accuracy: 0.9809\n",
      "Epoch 3/30\n",
      "48000/48000 [==============================] - 13s 266us/step - loss: 0.1508 - accuracy: 0.9671 - val_loss: 0.1016 - val_accuracy: 0.9815\n",
      "Epoch 4/30\n",
      "48000/48000 [==============================] - 13s 262us/step - loss: 0.1635 - accuracy: 0.9667 - val_loss: 0.0846 - val_accuracy: 0.9779\n",
      "Epoch 5/30\n",
      "48000/48000 [==============================] - 13s 271us/step - loss: 0.1702 - accuracy: 0.9654 - val_loss: 0.1202 - val_accuracy: 0.9671\n",
      "Epoch 6/30\n",
      "48000/48000 [==============================] - 13s 266us/step - loss: 0.1732 - accuracy: 0.9636 - val_loss: 0.0730 - val_accuracy: 0.9828\n",
      "Epoch 7/30\n",
      "48000/48000 [==============================] - 13s 262us/step - loss: 0.1937 - accuracy: 0.9616 - val_loss: 0.0745 - val_accuracy: 0.9807\n",
      "Epoch 8/30\n",
      "48000/48000 [==============================] - 13s 264us/step - loss: 0.2099 - accuracy: 0.9586 - val_loss: 0.0869 - val_accuracy: 0.9746\n",
      "Epoch 9/30\n",
      "48000/48000 [==============================] - 13s 262us/step - loss: 0.2378 - accuracy: 0.9529 - val_loss: 0.1412 - val_accuracy: 0.9726\n",
      "Epoch 10/30\n",
      "48000/48000 [==============================] - 13s 262us/step - loss: 0.2459 - accuracy: 0.9520 - val_loss: 0.1563 - val_accuracy: 0.9630\n",
      "Epoch 11/30\n",
      "48000/48000 [==============================] - 13s 263us/step - loss: 0.2647 - accuracy: 0.9510 - val_loss: 0.0885 - val_accuracy: 0.9793\n",
      "Epoch 12/30\n",
      "48000/48000 [==============================] - 13s 264us/step - loss: 0.2717 - accuracy: 0.9488 - val_loss: 0.1214 - val_accuracy: 0.9702\n",
      "Epoch 13/30\n",
      "48000/48000 [==============================] - 13s 263us/step - loss: 0.2937 - accuracy: 0.9450 - val_loss: 0.1420 - val_accuracy: 0.9613\n",
      "Epoch 14/30\n",
      "48000/48000 [==============================] - 13s 263us/step - loss: 0.3025 - accuracy: 0.9451 - val_loss: 0.1409 - val_accuracy: 0.9693\n",
      "Epoch 15/30\n",
      "48000/48000 [==============================] - 13s 264us/step - loss: 0.3058 - accuracy: 0.9424 - val_loss: 0.1017 - val_accuracy: 0.9737\n",
      "Epoch 16/30\n",
      "48000/48000 [==============================] - 13s 264us/step - loss: 0.3265 - accuracy: 0.9413 - val_loss: 0.1376 - val_accuracy: 0.9638\n",
      "Epoch 17/30\n",
      "48000/48000 [==============================] - 13s 266us/step - loss: 0.3362 - accuracy: 0.9383 - val_loss: 0.1463 - val_accuracy: 0.9636\n",
      "Epoch 18/30\n",
      "48000/48000 [==============================] - 13s 263us/step - loss: 0.3373 - accuracy: 0.9381 - val_loss: 0.1930 - val_accuracy: 0.9606\n",
      "Epoch 19/30\n",
      "48000/48000 [==============================] - 14s 283us/step - loss: 0.3735 - accuracy: 0.9340 - val_loss: 0.1689 - val_accuracy: 0.9603\n",
      "Epoch 20/30\n",
      "48000/48000 [==============================] - 13s 266us/step - loss: 0.3745 - accuracy: 0.9321 - val_loss: 0.2229 - val_accuracy: 0.9547\n",
      "Epoch 21/30\n",
      "48000/48000 [==============================] - 13s 263us/step - loss: 0.3720 - accuracy: 0.9323 - val_loss: 0.1193 - val_accuracy: 0.9677\n",
      "Epoch 22/30\n",
      "48000/48000 [==============================] - 13s 266us/step - loss: 0.3910 - accuracy: 0.9314 - val_loss: 0.1689 - val_accuracy: 0.9589\n",
      "Epoch 23/30\n",
      "48000/48000 [==============================] - 13s 264us/step - loss: 0.3936 - accuracy: 0.9302 - val_loss: 0.1178 - val_accuracy: 0.9704\n",
      "Epoch 24/30\n",
      "48000/48000 [==============================] - 13s 266us/step - loss: 0.4157 - accuracy: 0.9267 - val_loss: 0.1207 - val_accuracy: 0.9699\n",
      "Epoch 25/30\n",
      "48000/48000 [==============================] - 13s 262us/step - loss: 0.4096 - accuracy: 0.9304 - val_loss: 0.1462 - val_accuracy: 0.9632\n",
      "Epoch 26/30\n",
      "48000/48000 [==============================] - 13s 266us/step - loss: 0.4186 - accuracy: 0.9271 - val_loss: 0.1553 - val_accuracy: 0.9587\n",
      "Epoch 27/30\n",
      "48000/48000 [==============================] - 13s 265us/step - loss: 0.4287 - accuracy: 0.9291 - val_loss: 0.2894 - val_accuracy: 0.9228\n",
      "Epoch 28/30\n",
      "44672/48000 [==========================>...] - ETA: 0s - loss: 0.4662 - accuracy: 0.9229"
     ]
    }
   ],
   "source": [
    "model = build_model()\n",
    "model.fit(X_train, y_train, epochs=30, validation_split=0.2)"
   ]
  },
  {
   "cell_type": "code",
   "execution_count": 11,
   "metadata": {},
   "outputs": [
    {
     "name": "stdout",
     "output_type": "stream",
     "text": [
      "10000/10000 [==============================] - 1s 103us/step\n"
     ]
    }
   ],
   "source": [
    "cce_score, acc_score = model.evaluate(X_test, y_test)"
   ]
  },
  {
   "cell_type": "code",
   "execution_count": 12,
   "metadata": {},
   "outputs": [
    {
     "data": {
      "text/plain": [
       "(0.17280521854919098, 0.9703999757766724)"
      ]
     },
     "execution_count": 12,
     "metadata": {},
     "output_type": "execute_result"
    }
   ],
   "source": [
    "cce_score, acc_score"
   ]
  }
 ],
 "metadata": {
  "kernelspec": {
   "display_name": "Python 3",
   "language": "python",
   "name": "python3"
  },
  "language_info": {
   "codemirror_mode": {
    "name": "ipython",
    "version": 3
   },
   "file_extension": ".py",
   "mimetype": "text/x-python",
   "name": "python",
   "nbconvert_exporter": "python",
   "pygments_lexer": "ipython3",
   "version": "3.6.6"
  }
 },
 "nbformat": 4,
 "nbformat_minor": 1
}
