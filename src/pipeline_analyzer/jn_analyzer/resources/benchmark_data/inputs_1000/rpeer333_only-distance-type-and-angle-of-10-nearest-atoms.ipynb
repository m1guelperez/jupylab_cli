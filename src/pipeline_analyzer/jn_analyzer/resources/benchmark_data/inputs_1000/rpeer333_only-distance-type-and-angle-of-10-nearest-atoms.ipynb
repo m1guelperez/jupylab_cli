{
 "cells": [
  {
   "cell_type": "markdown",
   "metadata": {},
   "source": [
    "# How to get a good score with only 31 features\n",
    "\n",
    "Inspired by the really cool kernel \"Distance - is all you need\" (https://www.kaggle.com/criskiev/distance-is-all-you-need-lb-1-481), I tried to devise my own system of simple, geomtric features.\n",
    "\n",
    "## Steps\n",
    "\n",
    "* Calculate the center-point on the axis between the two j-coupled atoms\n",
    "  (let's refer to them as atom_0 and and atom_1)\n",
    "* Get the 10 closet atoms and rank them by their distance to the center point (from closest to farthest away)\n",
    "* For each of the 10-nearest neighbor atoms calculate the angle between this atom, the center-point and atom_1. \n",
    "\n",
    "\n",
    "## Features\n",
    "Now, or each of the 10-nearest neighbor atoms, we have 3 features:\n",
    "\n",
    "* atom-type\n",
    "* distance from the center\n",
    "* angle between atom, center-point and atom_1 (using the cosine, the feature is automatically scaled between 1 and -1)\n",
    "   \n",
    "Throw in the distance between atom_0 and atom_1 and we have our 31 features.\n",
    "\n",
    "    \n",
    "## Intuition\n",
    "\n",
    "These features provide three sources of information:\n",
    "\n",
    "* Which atom: H, C, N, O, or F\n",
    "* How far away from the j-coupled atoms\n",
    "* Which side of the interactions: \n",
    "    - close to 1:  side of atom_1\n",
    "    - close to -1: side of atom_0\n",
    "    - close to 0:  equal distance to both (in-between)\n",
    "    \n",
    "Essentially, what we got is a 2C polar-coordinate system centered around the center-point between atom_0 and atom_1.  \n",
    "The only thing missing for a 3D poloar-coordinate system representing the whole molecular geometry would be to add the angle of rotion around the atom_0-atom_1 axis.  \n",
    "See next section, why this wasn't done :-)\n",
    "\n",
    "\n",
    "## Model\n",
    "\n",
    "The same LGBM used in the above mentioned kernel.  \n",
    "Only more estimators are used for test-set prediction\n",
    "\n",
    "## Limitations\n",
    "\n",
    "The decent score given the simple features suggests that geometry and atom type is all you need (it's also all you got ... :-D).\n",
    "However, this simple approach suffers from two main drawbacks:\n",
    "\n",
    "#### Permutation\n",
    "  A small difference in distances can lead to a different order of neighbor-atoms. This way very similar geometries can end up a different feature ordering which impedes learning.\n",
    "... that's why Message Passing Neural Networks or Graph Neural networks are used: the employ permutation invariant aggregation functions, such as $sum$ or $mean$.\n",
    "  \n",
    "#### No feature structure\n",
    "\n",
    "Note that the 31 features above are not simply 31 scalar features. Obviously there is some structure:\n",
    "For each atom, the features type, distance and cosine belong togheter (actually it's more like a single, vector valued feature rather than 3 features).  \n",
    "However, the model can't account for this structure when it's simply provided a list of features. For this reason, adding even more features to this approach would probably not lead to substantial improvements.\n",
    "\n",
    "## Runtime\n",
    "\n",
    "It takes forever.  \n",
    "The computation was not optimized due to the inherent limitations of the approach explained above :-)\n",
    "  \n"
   ]
  },
  {
   "cell_type": "code",
   "execution_count": 1,
   "metadata": {
    "_cell_guid": "b1076dfc-b9ad-4769-8c92-a6c4dae69d19",
    "_uuid": "8f2839f25d086af736a60e9eeb907d3b93b6e0e5"
   },
   "outputs": [],
   "source": [
    "%%capture\n",
    "\n",
    "import os\n",
    "from os.path import join\n",
    "import sys\n",
    "from pprint import pprint\n",
    "\n",
    "import numpy as np\n",
    "from numpy.linalg import norm\n",
    "import pandas as pd\n",
    "import matplotlib.pyplot as plt\n",
    "\n",
    "from scipy.spatial import distance_matrix\n",
    "\n",
    "from sklearn.model_selection import train_test_split\n",
    "from sklearn.metrics import mean_absolute_error\n",
    "\n",
    "from lightgbm import LGBMRegressor\n",
    "\n",
    "import warnings\n",
    "warnings.filterwarnings('ignore')\n",
    "\n",
    "DATA_DIR = '../input/champs-scalar-coupling'\n",
    "ATOMIC_NUMBERS = {\n",
    "    'H': 1,\n",
    "    'C': 6,\n",
    "    'N': 7,\n",
    "    'O': 8,\n",
    "    'F': 9\n",
    "}"
   ]
  },
  {
   "cell_type": "markdown",
   "metadata": {},
   "source": [
    "# Load Data"
   ]
  },
  {
   "cell_type": "code",
   "execution_count": 2,
   "metadata": {},
   "outputs": [
    {
     "name": "stdout",
     "output_type": "stream",
     "text": [
      "(2358657, 5)\n"
     ]
    },
    {
     "data": {
      "text/html": [
       "<div>\n",
       "<style scoped>\n",
       "    .dataframe tbody tr th:only-of-type {\n",
       "        vertical-align: middle;\n",
       "    }\n",
       "\n",
       "    .dataframe tbody tr th {\n",
       "        vertical-align: top;\n",
       "    }\n",
       "\n",
       "    .dataframe thead th {\n",
       "        text-align: right;\n",
       "    }\n",
       "</style>\n",
       "<table border=\"1\" class=\"dataframe\">\n",
       "  <thead>\n",
       "    <tr style=\"text-align: right;\">\n",
       "      <th></th>\n",
       "      <th>atom_index</th>\n",
       "      <th>atom</th>\n",
       "      <th>x</th>\n",
       "      <th>y</th>\n",
       "      <th>z</th>\n",
       "    </tr>\n",
       "    <tr>\n",
       "      <th>molecule_index</th>\n",
       "      <th></th>\n",
       "      <th></th>\n",
       "      <th></th>\n",
       "      <th></th>\n",
       "      <th></th>\n",
       "    </tr>\n",
       "  </thead>\n",
       "  <tbody>\n",
       "    <tr>\n",
       "      <th>1</th>\n",
       "      <td>0</td>\n",
       "      <td>6</td>\n",
       "      <td>-0.001270</td>\n",
       "      <td>0.108580</td>\n",
       "      <td>0.000800</td>\n",
       "    </tr>\n",
       "    <tr>\n",
       "      <th>1</th>\n",
       "      <td>1</td>\n",
       "      <td>1</td>\n",
       "      <td>0.000215</td>\n",
       "      <td>-0.000603</td>\n",
       "      <td>0.000198</td>\n",
       "    </tr>\n",
       "    <tr>\n",
       "      <th>1</th>\n",
       "      <td>2</td>\n",
       "      <td>1</td>\n",
       "      <td>0.101173</td>\n",
       "      <td>0.146375</td>\n",
       "      <td>0.000028</td>\n",
       "    </tr>\n",
       "    <tr>\n",
       "      <th>1</th>\n",
       "      <td>3</td>\n",
       "      <td>1</td>\n",
       "      <td>-0.054082</td>\n",
       "      <td>0.144753</td>\n",
       "      <td>-0.087664</td>\n",
       "    </tr>\n",
       "    <tr>\n",
       "      <th>1</th>\n",
       "      <td>4</td>\n",
       "      <td>1</td>\n",
       "      <td>-0.052381</td>\n",
       "      <td>0.143793</td>\n",
       "      <td>0.090640</td>\n",
       "    </tr>\n",
       "  </tbody>\n",
       "</table>\n",
       "</div>"
      ],
      "text/plain": [
       "                atom_index  atom         x         y         z\n",
       "molecule_index                                                \n",
       "1                        0     6 -0.001270  0.108580  0.000800\n",
       "1                        1     1  0.000215 -0.000603  0.000198\n",
       "1                        2     1  0.101173  0.146375  0.000028\n",
       "1                        3     1 -0.054082  0.144753 -0.087664\n",
       "1                        4     1 -0.052381  0.143793  0.090640"
      ]
     },
     "metadata": {},
     "output_type": "display_data"
    }
   ],
   "source": [
    "structures_dtypes = {\n",
    "    'molecule_name': 'category',\n",
    "    'atom_index': 'int8',\n",
    "    'atom': 'category',\n",
    "    'x': 'float32',\n",
    "    'y': 'float32',\n",
    "    'z': 'float32'\n",
    "}\n",
    "structures_df = pd.read_csv(join(DATA_DIR, 'structures.csv'), dtype=structures_dtypes)\n",
    "\n",
    "structures_df['molecule_index'] = structures_df.molecule_name.str.replace('dsgdb9nsd_', '').astype('int32')\n",
    "structures_df['atom'] = structures_df['atom'].replace(ATOMIC_NUMBERS).astype('int8')\n",
    "structures_df.index = structures_df.molecule_index\n",
    "structures_df = structures_df[['atom_index', 'atom', 'x', 'y', 'z']]\n",
    "\n",
    "structures_df[['x', 'y', 'z']] = structures_df[['x', 'y', 'z']] / 10  # puts all distances approx. in range [0, 1]\n",
    "print(structures_df.shape)\n",
    "display(structures_df.head())"
   ]
  },
  {
   "cell_type": "code",
   "execution_count": 3,
   "metadata": {},
   "outputs": [
    {
     "name": "stdout",
     "output_type": "stream",
     "text": [
      "(4658147, 6)\n"
     ]
    },
    {
     "data": {
      "text/html": [
       "<div>\n",
       "<style scoped>\n",
       "    .dataframe tbody tr th:only-of-type {\n",
       "        vertical-align: middle;\n",
       "    }\n",
       "\n",
       "    .dataframe tbody tr th {\n",
       "        vertical-align: top;\n",
       "    }\n",
       "\n",
       "    .dataframe thead th {\n",
       "        text-align: right;\n",
       "    }\n",
       "</style>\n",
       "<table border=\"1\" class=\"dataframe\">\n",
       "  <thead>\n",
       "    <tr style=\"text-align: right;\">\n",
       "      <th></th>\n",
       "      <th>id</th>\n",
       "      <th>molecule_index</th>\n",
       "      <th>atom_index_0</th>\n",
       "      <th>atom_index_1</th>\n",
       "      <th>type</th>\n",
       "      <th>scalar_coupling_constant</th>\n",
       "    </tr>\n",
       "  </thead>\n",
       "  <tbody>\n",
       "    <tr>\n",
       "      <th>0</th>\n",
       "      <td>0</td>\n",
       "      <td>1</td>\n",
       "      <td>1</td>\n",
       "      <td>0</td>\n",
       "      <td>1JHC</td>\n",
       "      <td>84.807602</td>\n",
       "    </tr>\n",
       "    <tr>\n",
       "      <th>1</th>\n",
       "      <td>1</td>\n",
       "      <td>1</td>\n",
       "      <td>1</td>\n",
       "      <td>2</td>\n",
       "      <td>2JHH</td>\n",
       "      <td>-11.257000</td>\n",
       "    </tr>\n",
       "    <tr>\n",
       "      <th>2</th>\n",
       "      <td>2</td>\n",
       "      <td>1</td>\n",
       "      <td>1</td>\n",
       "      <td>3</td>\n",
       "      <td>2JHH</td>\n",
       "      <td>-11.254800</td>\n",
       "    </tr>\n",
       "    <tr>\n",
       "      <th>3</th>\n",
       "      <td>3</td>\n",
       "      <td>1</td>\n",
       "      <td>1</td>\n",
       "      <td>4</td>\n",
       "      <td>2JHH</td>\n",
       "      <td>-11.254300</td>\n",
       "    </tr>\n",
       "    <tr>\n",
       "      <th>4</th>\n",
       "      <td>4</td>\n",
       "      <td>1</td>\n",
       "      <td>2</td>\n",
       "      <td>0</td>\n",
       "      <td>1JHC</td>\n",
       "      <td>84.807404</td>\n",
       "    </tr>\n",
       "  </tbody>\n",
       "</table>\n",
       "</div>"
      ],
      "text/plain": [
       "   id  molecule_index  atom_index_0  atom_index_1  type  \\\n",
       "0   0               1             1             0  1JHC   \n",
       "1   1               1             1             2  2JHH   \n",
       "2   2               1             1             3  2JHH   \n",
       "3   3               1             1             4  2JHH   \n",
       "4   4               1             2             0  1JHC   \n",
       "\n",
       "   scalar_coupling_constant  \n",
       "0                 84.807602  \n",
       "1                -11.257000  \n",
       "2                -11.254800  \n",
       "3                -11.254300  \n",
       "4                 84.807404  "
      ]
     },
     "metadata": {},
     "output_type": "display_data"
    }
   ],
   "source": [
    "def load_j_coupling_csv(file_path: str, train=True, verbose=False):\n",
    "    train_dtypes = {\n",
    "        'molecule_name': 'category',\n",
    "        'atom_index_0': 'int8',\n",
    "        'atom_index_1': 'int8',\n",
    "        'type': 'category',\n",
    "        'scalar_coupling_constant': 'float32'\n",
    "    }\n",
    "    df = pd.read_csv(file_path, dtype=train_dtypes)\n",
    "    df['molecule_index'] = df.molecule_name.str.replace('dsgdb9nsd_', '').astype('int32')\n",
    "    \n",
    "    if train:\n",
    "        cols = ['id', 'molecule_index', 'atom_index_0', 'atom_index_1', 'type', 'scalar_coupling_constant']\n",
    "    else: \n",
    "        cols = ['id', 'molecule_index', 'atom_index_0', 'atom_index_1', 'type']\n",
    "    df = df[cols]\n",
    "\n",
    "    if verbose:\n",
    "        print(df.shape)\n",
    "        display(df.head())\n",
    "        \n",
    "    return df\n",
    "    \n",
    "train_df = load_j_coupling_csv(join(DATA_DIR, 'train.csv'), verbose=True)\n",
    "\n",
    "mol2distance_matrix = structures_df.groupby('molecule_index').apply(\n",
    "    lambda df: distance_matrix(df[['x','y', 'z']].values, df[['x','y', 'z']].values))"
   ]
  },
  {
   "cell_type": "markdown",
   "metadata": {},
   "source": [
    "# Calculate Features"
   ]
  },
  {
   "cell_type": "code",
   "execution_count": 4,
   "metadata": {
    "_cell_guid": "79c7e3d0-c299-4dcb-8224-4455121ee9b0",
    "_uuid": "d629ff2d2480ee46fbb7e2d37f6b5fab8052498a"
   },
   "outputs": [],
   "source": [
    "def get_center(p0: np.array, p1: np.array) -> np.array:\n",
    "    return p0 + (p1 - p0)/2\n",
    "\n",
    "\n",
    "def get_vector(p0: np.array, p1: np.array) -> np.array:\n",
    "    return p1 - p0\n",
    "\n",
    "\n",
    "def calc_cosines(coords: np.array, a0: int, a1: int) -> np.array:\n",
    "    \"\"\"\n",
    "    @coordinates:\n",
    "    atom    x     y     z\n",
    "    1       1     2     3\n",
    "    2       4     5     6\n",
    "    ...\n",
    "    \"\"\"\n",
    "    atom_axes = coords - get_center(coords[a0, :], coords[a1, :])\n",
    "    main_axis = get_vector(coords[a0, :], coords[a1, :])\n",
    "    \n",
    "    dot_products = np.dot(atom_axes, main_axis)\n",
    "    atom_axes_norms = np.apply_along_axis(norm, 1, atom_axes)\n",
    "    main_axis_norm = norm(main_axis)\n",
    "    \n",
    "    return dot_products / (atom_axes_norms * main_axis_norm)\n",
    "\n",
    "\n",
    "def get_knn_coordinates(j_coupling: pd.Series,\n",
    "                        structures=structures_df,\n",
    "                        mol2dist=mol2distance_matrix,\n",
    "                        k=10) -> np.array:\n",
    "    \n",
    "    a_0, a_1 = j_coupling.atom_index_0, j_coupling.atom_index_1\n",
    "    mol_df   = structures.loc[j_coupling.molecule_index]\n",
    "    \n",
    "    coordinates = mol_df[['x','y', 'z']].values\n",
    "    a0_coords   = coordinates[a_0, :]\n",
    "    a1_coords   = coordinates[a_1, :]\n",
    "    center      = get_center(a0_coords, a1_coords)\n",
    "    \n",
    "    cosines = calc_cosines(coordinates, a_0, a_1)\n",
    "    \n",
    "    center_distances = distance_matrix(center.reshape(1, 3), coordinates).ravel()\n",
    "    knn = np.argsort(center_distances)[:(k + 2)]  # atom-indices of KNN-atoms\n",
    "    \n",
    "    knn = np.array([x for x in knn if x not in (a_0, a_1)])\n",
    "    \n",
    "    distances = center_distances[knn]\n",
    "    cosines   = cosines[knn]\n",
    "    types = mol_df.iloc[knn].atom\n",
    "    \n",
    "    distances = np.pad(distances, (0, k - len(distances)), 'constant')\n",
    "    cosines   = np.pad(cosines,   (0, k - len(cosines)),   'constant')\n",
    "    types     = np.pad(types,     (0, k - len(types)),     'constant')\n",
    "    \n",
    "    d_a0_a1 = norm(a1_coords - a0_coords)\n",
    "\n",
    "    return np.concatenate([[d_a0_a1], distances, cosines, types])\n",
    "\n",
    "\n",
    "# this may take a while...\n",
    "id2features = {row.id : get_knn_coordinates(row) for _, row in train_df.iterrows()}"
   ]
  },
  {
   "cell_type": "markdown",
   "metadata": {},
   "source": [
    "# Make Model"
   ]
  },
  {
   "cell_type": "code",
   "execution_count": 5,
   "metadata": {},
   "outputs": [],
   "source": [
    "def make_data(df: pd.DataFrame, id2features: dict, random_state=128, split=True):\n",
    "    tmp_df = df.copy()\n",
    "    tmp_df['features'] = tmp_df.id.map(id2features)\n",
    "    \n",
    "    X = np.stack(tmp_df.features)\n",
    "    y = tmp_df.scalar_coupling_constant.values\n",
    "\n",
    "    if split:\n",
    "        X_train, X_val, y_train, y_val = train_test_split(X, y, test_size=0.2, random_state=random_state)\n",
    "        return (X_train, y_train), (X_val, y_val)\n",
    "    else:\n",
    "        return X, y\n",
    "\n",
    "    \n",
    "# hyper-parameters like in this kernel:\n",
    "# https://www.kaggle.com/criskiev/distance-is-all-you-need-lb-1-481\n",
    "LGB_PARAMS = {\n",
    "        'objective': 'regression',\n",
    "        'metric': 'mae',\n",
    "        'verbosity': -1,\n",
    "        'boosting_type': 'gbdt',\n",
    "        'learning_rate': 0.2,\n",
    "        'num_leaves': 128,\n",
    "        'min_child_samples': 79,\n",
    "        'max_depth': 9,\n",
    "        'subsample_freq': 1,\n",
    "        'subsample': 0.9,\n",
    "        'bagging_seed': 11,\n",
    "        'reg_alpha': 0.1,\n",
    "        'reg_lambda': 0.3,\n",
    "        'colsample_bytree': 1.0\n",
    "        }\n",
    "\n",
    "    \n",
    "def train_model(train, validation):\n",
    "    \n",
    "    X_train, y_train = train\n",
    "    X_val,   y_val   = validation\n",
    "\n",
    "    model = LGBMRegressor(**LGB_PARAMS, n_estimators=1500, n_jobs = -1)  # 6000 estimators would be better but take much longer\n",
    "    model.fit(X_train, y_train,\n",
    "            eval_set=[(X_train, y_train), (X_val, y_val)], eval_metric='mae',\n",
    "            verbose=100, early_stopping_rounds=200)\n",
    "\n",
    "    y_pred    = model.predict(X_val)\n",
    "    score     = np.log(mean_absolute_error(y_val, y_pred))\n",
    "    residuals = y_val - y_pred\n",
    "    \n",
    "    print(f'competition-metric score: {score}')\n",
    "    return model, score, residuals\n",
    "\n",
    "\n",
    "def plot_residuals(residuals: np.array):\n",
    "    plt.hist(residuals, bins=50)\n",
    "    plt.title('residual distribution')\n",
    "    plt.show();"
   ]
  },
  {
   "cell_type": "code",
   "execution_count": 6,
   "metadata": {},
   "outputs": [
    {
     "name": "stdout",
     "output_type": "stream",
     "text": [
      "(34690, 31) (8673, 31) (34690,) (8673,)\n",
      "Training until validation scores don't improve for 200 rounds.\n",
      "[100]\ttraining's l1: 0.448225\tvalid_1's l1: 0.570783\n",
      "[200]\ttraining's l1: 0.359946\tvalid_1's l1: 0.519412\n",
      "[300]\ttraining's l1: 0.301587\tvalid_1's l1: 0.48905\n",
      "[400]\ttraining's l1: 0.260787\tvalid_1's l1: 0.470359\n",
      "[500]\ttraining's l1: 0.229345\tvalid_1's l1: 0.458981\n",
      "[600]\ttraining's l1: 0.201949\tvalid_1's l1: 0.450218\n",
      "[700]\ttraining's l1: 0.177991\tvalid_1's l1: 0.443445\n",
      "[800]\ttraining's l1: 0.158559\tvalid_1's l1: 0.438351\n",
      "[900]\ttraining's l1: 0.141324\tvalid_1's l1: 0.433221\n",
      "[1000]\ttraining's l1: 0.127862\tvalid_1's l1: 0.431203\n",
      "[1100]\ttraining's l1: 0.116296\tvalid_1's l1: 0.428626\n",
      "[1200]\ttraining's l1: 0.105711\tvalid_1's l1: 0.426672\n",
      "[1300]\ttraining's l1: 0.0963767\tvalid_1's l1: 0.424798\n",
      "[1400]\ttraining's l1: 0.0879855\tvalid_1's l1: 0.423175\n",
      "[1500]\ttraining's l1: 0.0804111\tvalid_1's l1: 0.421794\n",
      "Did not meet early stopping. Best iteration is:\n",
      "[1500]\ttraining's l1: 0.0804111\tvalid_1's l1: 0.421794\n",
      "competition-metric score: -0.8632384722939297\n"
     ]
    },
    {
     "data": {
      "image/png": "[encoded data removed]",
      "text/plain": [
       "<Figure size 432x288 with 1 Axes>"
      ]
     },
     "metadata": {
      "needs_background": "light"
     },
     "output_type": "display_data"
    }
   ],
   "source": [
    "# test pipeline with smallest type:\n",
    "\n",
    "sub_train_df = train_df.query('type == \"1JHN\"')\n",
    "\n",
    "(X_train, y_train), (X_val, y_val) = make_data(sub_train_df, id2features)\n",
    "print(X_train.shape, X_val.shape, y_train.shape, y_val.shape)\n",
    "\n",
    "model, score, residuals = train_model((X_train, y_train), (X_val, y_val))\n",
    "plot_residuals(residuals)"
   ]
  },
  {
   "cell_type": "markdown",
   "metadata": {},
   "source": [
    "# Cross-validate"
   ]
  },
  {
   "cell_type": "code",
   "execution_count": 7,
   "metadata": {},
   "outputs": [
    {
     "name": "stdout",
     "output_type": "stream",
     "text": [
      "\n",
      "\n",
      "### 1JHC\n",
      "Training until validation scores don't improve for 200 rounds.\n",
      "[100]\ttraining's l1: 1.21437\tvalid_1's l1: 1.2623\n",
      "[200]\ttraining's l1: 1.01695\tvalid_1's l1: 1.09564\n",
      "[300]\ttraining's l1: 0.915588\tvalid_1's l1: 1.01881\n",
      "[400]\ttraining's l1: 0.844311\tvalid_1's l1: 0.96888\n",
      "[500]\ttraining's l1: 0.789861\tvalid_1's l1: 0.933285\n",
      "[600]\ttraining's l1: 0.744869\tvalid_1's l1: 0.90643\n",
      "[700]\ttraining's l1: 0.706355\tvalid_1's l1: 0.88447\n",
      "[800]\ttraining's l1: 0.675311\tvalid_1's l1: 0.867806\n",
      "[900]\ttraining's l1: 0.647279\tvalid_1's l1: 0.852934\n",
      "[1000]\ttraining's l1: 0.622204\tvalid_1's l1: 0.840379\n",
      "[1100]\ttraining's l1: 0.599179\tvalid_1's l1: 0.829402\n",
      "[1200]\ttraining's l1: 0.577726\tvalid_1's l1: 0.819427\n",
      "[1300]\ttraining's l1: 0.557945\tvalid_1's l1: 0.810295\n",
      "[1400]\ttraining's l1: 0.540106\tvalid_1's l1: 0.802522\n",
      "[1500]\ttraining's l1: 0.523479\tvalid_1's l1: 0.79531\n",
      "Did not meet early stopping. Best iteration is:\n",
      "[1500]\ttraining's l1: 0.523479\tvalid_1's l1: 0.79531\n",
      "competition-metric score: -0.22902319461463033\n"
     ]
    },
    {
     "data": {
      "image/png": "[encoded data removed]",
      "text/plain": [
       "<Figure size 432x288 with 1 Axes>"
      ]
     },
     "metadata": {
      "needs_background": "light"
     },
     "output_type": "display_data"
    },
    {
     "name": "stdout",
     "output_type": "stream",
     "text": [
      "\n",
      "\n",
      "### 1JHN\n",
      "Training until validation scores don't improve for 200 rounds.\n",
      "[100]\ttraining's l1: 0.448225\tvalid_1's l1: 0.570783\n",
      "[200]\ttraining's l1: 0.359946\tvalid_1's l1: 0.519412\n",
      "[300]\ttraining's l1: 0.301587\tvalid_1's l1: 0.48905\n",
      "[400]\ttraining's l1: 0.260787\tvalid_1's l1: 0.470359\n",
      "[500]\ttraining's l1: 0.229345\tvalid_1's l1: 0.458981\n",
      "[600]\ttraining's l1: 0.201949\tvalid_1's l1: 0.450218\n",
      "[700]\ttraining's l1: 0.177991\tvalid_1's l1: 0.443445\n",
      "[800]\ttraining's l1: 0.158559\tvalid_1's l1: 0.438351\n",
      "[900]\ttraining's l1: 0.141324\tvalid_1's l1: 0.433221\n",
      "[1000]\ttraining's l1: 0.127862\tvalid_1's l1: 0.431203\n",
      "[1100]\ttraining's l1: 0.116296\tvalid_1's l1: 0.428626\n",
      "[1200]\ttraining's l1: 0.105711\tvalid_1's l1: 0.426672\n",
      "[1300]\ttraining's l1: 0.0963767\tvalid_1's l1: 0.424798\n",
      "[1400]\ttraining's l1: 0.0879855\tvalid_1's l1: 0.423175\n",
      "[1500]\ttraining's l1: 0.0804111\tvalid_1's l1: 0.421794\n",
      "Did not meet early stopping. Best iteration is:\n",
      "[1500]\ttraining's l1: 0.0804111\tvalid_1's l1: 0.421794\n",
      "competition-metric score: -0.8632384722939297\n"
     ]
    },
    {
     "data": {
      "image/png": "[encoded data removed]",
      "text/plain": [
       "<Figure size 432x288 with 1 Axes>"
      ]
     },
     "metadata": {
      "needs_background": "light"
     },
     "output_type": "display_data"
    },
    {
     "name": "stdout",
     "output_type": "stream",
     "text": [
      "\n",
      "\n",
      "### 2JHC\n",
      "Training until validation scores don't improve for 200 rounds.\n",
      "[100]\ttraining's l1: 0.555766\tvalid_1's l1: 0.574333\n",
      "[200]\ttraining's l1: 0.470642\tvalid_1's l1: 0.498336\n",
      "[300]\ttraining's l1: 0.425388\tvalid_1's l1: 0.460763\n",
      "[400]\ttraining's l1: 0.394917\tvalid_1's l1: 0.437354\n",
      "[500]\ttraining's l1: 0.371887\tvalid_1's l1: 0.420454\n",
      "[600]\ttraining's l1: 0.352645\tvalid_1's l1: 0.406602\n",
      "[700]\ttraining's l1: 0.336305\tvalid_1's l1: 0.39578\n",
      "[800]\ttraining's l1: 0.322616\tvalid_1's l1: 0.387141\n",
      "[900]\ttraining's l1: 0.310312\tvalid_1's l1: 0.379431\n",
      "[1000]\ttraining's l1: 0.299604\tvalid_1's l1: 0.372987\n",
      "[1100]\ttraining's l1: 0.289728\tvalid_1's l1: 0.367143\n",
      "[1200]\ttraining's l1: 0.280736\tvalid_1's l1: 0.361995\n",
      "[1300]\ttraining's l1: 0.272349\tvalid_1's l1: 0.357208\n",
      "[1400]\ttraining's l1: 0.264599\tvalid_1's l1: 0.353142\n",
      "[1500]\ttraining's l1: 0.257472\tvalid_1's l1: 0.349513\n",
      "Did not meet early stopping. Best iteration is:\n",
      "[1500]\ttraining's l1: 0.257472\tvalid_1's l1: 0.349513\n",
      "competition-metric score: -1.0512146326105318\n"
     ]
    },
    {
     "data": {
      "image/png": "[encoded data removed]",
      "text/plain": [
       "<Figure size 432x288 with 1 Axes>"
      ]
     },
     "metadata": {
      "needs_background": "light"
     },
     "output_type": "display_data"
    },
    {
     "name": "stdout",
     "output_type": "stream",
     "text": [
      "\n",
      "\n",
      "### 2JHH\n",
      "Training until validation scores don't improve for 200 rounds.\n",
      "[100]\ttraining's l1: 0.259549\tvalid_1's l1: 0.283273\n",
      "[200]\ttraining's l1: 0.213292\tvalid_1's l1: 0.248024\n",
      "[300]\ttraining's l1: 0.187371\tvalid_1's l1: 0.231501\n",
      "[400]\ttraining's l1: 0.169524\tvalid_1's l1: 0.221444\n",
      "[500]\ttraining's l1: 0.156122\tvalid_1's l1: 0.214745\n",
      "[600]\ttraining's l1: 0.145149\tvalid_1's l1: 0.20929\n",
      "[700]\ttraining's l1: 0.135976\tvalid_1's l1: 0.205114\n",
      "[800]\ttraining's l1: 0.127888\tvalid_1's l1: 0.201644\n",
      "[900]\ttraining's l1: 0.12093\tvalid_1's l1: 0.198901\n",
      "[1000]\ttraining's l1: 0.114531\tvalid_1's l1: 0.196657\n",
      "[1100]\ttraining's l1: 0.108999\tvalid_1's l1: 0.194713\n",
      "[1200]\ttraining's l1: 0.103777\tvalid_1's l1: 0.192946\n",
      "[1300]\ttraining's l1: 0.0990141\tvalid_1's l1: 0.191389\n",
      "[1400]\ttraining's l1: 0.0944662\tvalid_1's l1: 0.190015\n",
      "[1500]\ttraining's l1: 0.0904313\tvalid_1's l1: 0.188741\n",
      "Did not meet early stopping. Best iteration is:\n",
      "[1500]\ttraining's l1: 0.0904313\tvalid_1's l1: 0.188741\n",
      "competition-metric score: -1.6673793268867814\n"
     ]
    },
    {
     "data": {
      "image/png": "[encoded data removed]",
      "text/plain": [
       "<Figure size 432x288 with 1 Axes>"
      ]
     },
     "metadata": {
      "needs_background": "light"
     },
     "output_type": "display_data"
    },
    {
     "name": "stdout",
     "output_type": "stream",
     "text": [
      "\n",
      "\n",
      "### 2JHN\n",
      "Training until validation scores don't improve for 200 rounds.\n",
      "[100]\ttraining's l1: 0.199125\tvalid_1's l1: 0.237363\n",
      "[200]\ttraining's l1: 0.161081\tvalid_1's l1: 0.210972\n",
      "[300]\ttraining's l1: 0.137909\tvalid_1's l1: 0.197283\n",
      "[400]\ttraining's l1: 0.121734\tvalid_1's l1: 0.189056\n",
      "[500]\ttraining's l1: 0.109575\tvalid_1's l1: 0.183216\n",
      "[600]\ttraining's l1: 0.0993136\tvalid_1's l1: 0.1785\n",
      "[700]\ttraining's l1: 0.0910976\tvalid_1's l1: 0.175304\n",
      "[800]\ttraining's l1: 0.0832616\tvalid_1's l1: 0.172344\n",
      "[900]\ttraining's l1: 0.0765566\tvalid_1's l1: 0.169826\n",
      "[1000]\ttraining's l1: 0.0710681\tvalid_1's l1: 0.168089\n",
      "[1100]\ttraining's l1: 0.0659219\tvalid_1's l1: 0.16653\n",
      "[1200]\ttraining's l1: 0.0613758\tvalid_1's l1: 0.165102\n",
      "[1300]\ttraining's l1: 0.0573022\tvalid_1's l1: 0.163969\n",
      "[1400]\ttraining's l1: 0.0536416\tvalid_1's l1: 0.162838\n",
      "[1500]\ttraining's l1: 0.0504336\tvalid_1's l1: 0.162084\n",
      "Did not meet early stopping. Best iteration is:\n",
      "[1500]\ttraining's l1: 0.0504336\tvalid_1's l1: 0.162084\n",
      "competition-metric score: -1.819638295873539\n"
     ]
    },
    {
     "data": {
      "image/png": "[encoded data removed]",
      "text/plain": [
       "<Figure size 432x288 with 1 Axes>"
      ]
     },
     "metadata": {
      "needs_background": "light"
     },
     "output_type": "display_data"
    },
    {
     "name": "stdout",
     "output_type": "stream",
     "text": [
      "\n",
      "\n",
      "### 3JHC\n",
      "Training until validation scores don't improve for 200 rounds.\n",
      "[100]\ttraining's l1: 0.555474\tvalid_1's l1: 0.564716\n",
      "[200]\ttraining's l1: 0.4825\tvalid_1's l1: 0.499324\n",
      "[300]\ttraining's l1: 0.442407\tvalid_1's l1: 0.465289\n",
      "[400]\ttraining's l1: 0.412663\tvalid_1's l1: 0.440789\n",
      "[500]\ttraining's l1: 0.391397\tvalid_1's l1: 0.424369\n",
      "[600]\ttraining's l1: 0.373605\tvalid_1's l1: 0.410997\n",
      "[700]\ttraining's l1: 0.359378\tvalid_1's l1: 0.400792\n",
      "[800]\ttraining's l1: 0.346828\tvalid_1's l1: 0.392226\n",
      "[900]\ttraining's l1: 0.335416\tvalid_1's l1: 0.384481\n",
      "[1000]\ttraining's l1: 0.325113\tvalid_1's l1: 0.377776\n",
      "[1100]\ttraining's l1: 0.316091\tvalid_1's l1: 0.371972\n",
      "[1200]\ttraining's l1: 0.307894\tvalid_1's l1: 0.366927\n",
      "[1300]\ttraining's l1: 0.300179\tvalid_1's l1: 0.362207\n",
      "[1400]\ttraining's l1: 0.293113\tvalid_1's l1: 0.358049\n",
      "[1500]\ttraining's l1: 0.28651\tvalid_1's l1: 0.354158\n",
      "Did not meet early stopping. Best iteration is:\n",
      "[1500]\ttraining's l1: 0.28651\tvalid_1's l1: 0.354158\n",
      "competition-metric score: -1.0380134514615706\n"
     ]
    },
    {
     "data": {
      "image/png": "[encoded data removed]",
      "text/plain": [
       "<Figure size 432x288 with 1 Axes>"
      ]
     },
     "metadata": {
      "needs_background": "light"
     },
     "output_type": "display_data"
    },
    {
     "name": "stdout",
     "output_type": "stream",
     "text": [
      "\n",
      "\n",
      "### 3JHH\n",
      "Training until validation scores don't improve for 200 rounds.\n",
      "[100]\ttraining's l1: 0.264523\tvalid_1's l1: 0.275707\n",
      "[200]\ttraining's l1: 0.220535\tvalid_1's l1: 0.239119\n",
      "[300]\ttraining's l1: 0.197616\tvalid_1's l1: 0.22215\n",
      "[400]\ttraining's l1: 0.181191\tvalid_1's l1: 0.211276\n",
      "[500]\ttraining's l1: 0.168424\tvalid_1's l1: 0.203057\n",
      "[600]\ttraining's l1: 0.158312\tvalid_1's l1: 0.197293\n",
      "[700]\ttraining's l1: 0.149791\tvalid_1's l1: 0.192462\n",
      "[800]\ttraining's l1: 0.142366\tvalid_1's l1: 0.188298\n",
      "[900]\ttraining's l1: 0.135951\tvalid_1's l1: 0.185056\n",
      "[1000]\ttraining's l1: 0.13012\tvalid_1's l1: 0.182215\n",
      "[1100]\ttraining's l1: 0.124973\tvalid_1's l1: 0.17981\n",
      "[1200]\ttraining's l1: 0.120197\tvalid_1's l1: 0.177675\n",
      "[1300]\ttraining's l1: 0.115826\tvalid_1's l1: 0.175843\n",
      "[1400]\ttraining's l1: 0.111887\tvalid_1's l1: 0.174129\n",
      "[1500]\ttraining's l1: 0.108186\tvalid_1's l1: 0.172637\n",
      "Did not meet early stopping. Best iteration is:\n",
      "[1500]\ttraining's l1: 0.108186\tvalid_1's l1: 0.172637\n",
      "competition-metric score: -1.7565626748911474\n"
     ]
    },
    {
     "data": {
      "image/png": "[encoded data removed]",
      "text/plain": [
       "<Figure size 432x288 with 1 Axes>"
      ]
     },
     "metadata": {
      "needs_background": "light"
     },
     "output_type": "display_data"
    },
    {
     "name": "stdout",
     "output_type": "stream",
     "text": [
      "\n",
      "\n",
      "### 3JHN\n",
      "Training until validation scores don't improve for 200 rounds.\n",
      "[100]\ttraining's l1: 0.1588\tvalid_1's l1: 0.181072\n",
      "[200]\ttraining's l1: 0.128359\tvalid_1's l1: 0.159441\n",
      "[300]\ttraining's l1: 0.110737\tvalid_1's l1: 0.148978\n",
      "[400]\ttraining's l1: 0.0983434\tvalid_1's l1: 0.14231\n",
      "[500]\ttraining's l1: 0.0879531\tvalid_1's l1: 0.137082\n",
      "[600]\ttraining's l1: 0.0800577\tvalid_1's l1: 0.133605\n",
      "[700]\ttraining's l1: 0.0735362\tvalid_1's l1: 0.130845\n",
      "[800]\ttraining's l1: 0.0682512\tvalid_1's l1: 0.128671\n",
      "[900]\ttraining's l1: 0.0633959\tvalid_1's l1: 0.126845\n",
      "[1000]\ttraining's l1: 0.0591158\tvalid_1's l1: 0.125244\n",
      "[1100]\ttraining's l1: 0.0553719\tvalid_1's l1: 0.123988\n",
      "[1200]\ttraining's l1: 0.0520534\tvalid_1's l1: 0.122892\n",
      "[1300]\ttraining's l1: 0.049104\tvalid_1's l1: 0.121953\n",
      "[1400]\ttraining's l1: 0.0463951\tvalid_1's l1: 0.121178\n",
      "[1500]\ttraining's l1: 0.0438147\tvalid_1's l1: 0.120398\n",
      "Did not meet early stopping. Best iteration is:\n",
      "[1500]\ttraining's l1: 0.0438147\tvalid_1's l1: 0.120398\n",
      "competition-metric score: -2.1169488392536437\n"
     ]
    },
    {
     "data": {
      "image/png": "[encoded data removed]",
      "text/plain": [
       "<Figure size 432x288 with 1 Axes>"
      ]
     },
     "metadata": {
      "needs_background": "light"
     },
     "output_type": "display_data"
    }
   ],
   "source": [
    "def cross_validate(df, id2features):\n",
    "    type2model = {}\n",
    "    scores = {}\n",
    "\n",
    "    for type_, type_df in df.groupby('type'):\n",
    "        print(f'\\n\\n### {type_}')\n",
    "        train, validation = make_data(type_df, id2features)\n",
    "        model, score, residuals = train_model(train, validation)\n",
    "        type2model[type_] = model\n",
    "        scores[type_] = score\n",
    "        plot_residuals(residuals)\n",
    "\n",
    "    assert len(scores) == len(type2model) == 8\n",
    "    return  scores\n",
    "\n",
    "\n",
    "scores = cross_validate(train_df, id2features)"
   ]
  },
  {
   "cell_type": "code",
   "execution_count": 8,
   "metadata": {},
   "outputs": [
    {
     "name": "stdout",
     "output_type": "stream",
     "text": [
      "competition-metric: -1.32\n",
      "scores per type:\n",
      "{'1JHC': -0.22902319461463033,\n",
      " '1JHN': -0.8632384722939297,\n",
      " '2JHC': -1.0512146326105318,\n",
      " '2JHH': -1.6673793268867814,\n",
      " '2JHN': -1.819638295873539,\n",
      " '3JHC': -1.0380134514615706,\n",
      " '3JHH': -1.7565626748911474,\n",
      " '3JHN': -2.1169488392536437}\n"
     ]
    }
   ],
   "source": [
    "print(f'competition-metric: {np.mean(list(scores.values())):.2f}')\n",
    "print('scores per type:')\n",
    "pprint(scores, width=1)"
   ]
  },
  {
   "cell_type": "markdown",
   "metadata": {},
   "source": [
    "# Predict and submit"
   ]
  },
  {
   "cell_type": "code",
   "execution_count": 9,
   "metadata": {},
   "outputs": [
    {
     "name": "stdout",
     "output_type": "stream",
     "text": [
      "(2505542, 5)\n"
     ]
    },
    {
     "data": {
      "text/html": [
       "<div>\n",
       "<style scoped>\n",
       "    .dataframe tbody tr th:only-of-type {\n",
       "        vertical-align: middle;\n",
       "    }\n",
       "\n",
       "    .dataframe tbody tr th {\n",
       "        vertical-align: top;\n",
       "    }\n",
       "\n",
       "    .dataframe thead th {\n",
       "        text-align: right;\n",
       "    }\n",
       "</style>\n",
       "<table border=\"1\" class=\"dataframe\">\n",
       "  <thead>\n",
       "    <tr style=\"text-align: right;\">\n",
       "      <th></th>\n",
       "      <th>id</th>\n",
       "      <th>molecule_index</th>\n",
       "      <th>atom_index_0</th>\n",
       "      <th>atom_index_1</th>\n",
       "      <th>type</th>\n",
       "    </tr>\n",
       "  </thead>\n",
       "  <tbody>\n",
       "    <tr>\n",
       "      <th>0</th>\n",
       "      <td>4658147</td>\n",
       "      <td>4</td>\n",
       "      <td>2</td>\n",
       "      <td>0</td>\n",
       "      <td>2JHC</td>\n",
       "    </tr>\n",
       "    <tr>\n",
       "      <th>1</th>\n",
       "      <td>4658148</td>\n",
       "      <td>4</td>\n",
       "      <td>2</td>\n",
       "      <td>1</td>\n",
       "      <td>1JHC</td>\n",
       "    </tr>\n",
       "    <tr>\n",
       "      <th>2</th>\n",
       "      <td>4658149</td>\n",
       "      <td>4</td>\n",
       "      <td>2</td>\n",
       "      <td>3</td>\n",
       "      <td>3JHH</td>\n",
       "    </tr>\n",
       "    <tr>\n",
       "      <th>3</th>\n",
       "      <td>4658150</td>\n",
       "      <td>4</td>\n",
       "      <td>3</td>\n",
       "      <td>0</td>\n",
       "      <td>1JHC</td>\n",
       "    </tr>\n",
       "    <tr>\n",
       "      <th>4</th>\n",
       "      <td>4658151</td>\n",
       "      <td>4</td>\n",
       "      <td>3</td>\n",
       "      <td>1</td>\n",
       "      <td>2JHC</td>\n",
       "    </tr>\n",
       "  </tbody>\n",
       "</table>\n",
       "</div>"
      ],
      "text/plain": [
       "        id  molecule_index  atom_index_0  atom_index_1  type\n",
       "0  4658147               4             2             0  2JHC\n",
       "1  4658148               4             2             1  1JHC\n",
       "2  4658149               4             2             3  3JHH\n",
       "3  4658150               4             3             0  1JHC\n",
       "4  4658151               4             3             1  2JHC"
      ]
     },
     "metadata": {},
     "output_type": "display_data"
    },
    {
     "name": "stdout",
     "output_type": "stream",
     "text": [
      "\n",
      "### 1JHC\n",
      "\n",
      "### 1JHN\n",
      "\n",
      "### 2JHC\n",
      "\n",
      "### 2JHH\n",
      "\n",
      "### 2JHN\n",
      "\n",
      "### 3JHC\n",
      "\n",
      "### 3JHH\n",
      "\n",
      "### 3JHN\n"
     ]
    }
   ],
   "source": [
    "def make_test_data(df: pd.DataFrame, id2features: dict, random_state=128):\n",
    "    tmp_df = df.copy()\n",
    "    tmp_df['features'] = tmp_df.id.map(id2features)\n",
    "    X = np.stack(tmp_df.features)\n",
    "    return X\n",
    "\n",
    "\n",
    "test_df = load_j_coupling_csv(join(DATA_DIR, 'test.csv'), train=False, verbose=True)\n",
    "id2features_test = {row.id : get_knn_coordinates(row) for _, row in test_df.iterrows()}\n",
    "prediction_df = pd.DataFrame()\n",
    "\n",
    "\n",
    "for type_ in sorted(train_df.type.unique()):\n",
    "    print(f'\\n### {type_}')\n",
    "    \n",
    "    train_type_df = train_df.query('type == @type_')\n",
    "    X_train, y_train = make_data(train_type_df, id2features, split=False)\n",
    "    model = LGBMRegressor(**LGB_PARAMS, n_estimators=2000, n_jobs = -1)  # more estimators for test-set\n",
    "    model.fit(X_train, y_train, eval_metric='mae')\n",
    "    \n",
    "    test_type_df = test_df.query('type == @type_')\n",
    "    X_test = make_test_data(test_type_df, id2features_test)\n",
    "    y_hat  = model.predict(X_test)\n",
    "    \n",
    "    type_pred_df  = pd.DataFrame({'id': test_type_df.id, 'scalar_coupling_constant': y_hat})\n",
    "    prediction_df = pd.concat([prediction_df, type_pred_df], ignore_index=True)"
   ]
  },
  {
   "cell_type": "code",
   "execution_count": 10,
   "metadata": {},
   "outputs": [],
   "source": [
    "prediction_df = prediction_df.sort_values('id')\n",
    "prediction_df.to_csv('submission.csv', index=False)"
   ]
  },
  {
   "cell_type": "code",
   "execution_count": 11,
   "metadata": {},
   "outputs": [
    {
     "name": "stdout",
     "output_type": "stream",
     "text": [
      "(2505542, 2)\n"
     ]
    },
    {
     "data": {
      "text/html": [
       "<div>\n",
       "<style scoped>\n",
       "    .dataframe tbody tr th:only-of-type {\n",
       "        vertical-align: middle;\n",
       "    }\n",
       "\n",
       "    .dataframe tbody tr th {\n",
       "        vertical-align: top;\n",
       "    }\n",
       "\n",
       "    .dataframe thead th {\n",
       "        text-align: right;\n",
       "    }\n",
       "</style>\n",
       "<table border=\"1\" class=\"dataframe\">\n",
       "  <thead>\n",
       "    <tr style=\"text-align: right;\">\n",
       "      <th></th>\n",
       "      <th>id</th>\n",
       "      <th>scalar_coupling_constant</th>\n",
       "    </tr>\n",
       "  </thead>\n",
       "  <tbody>\n",
       "    <tr>\n",
       "      <th>404804</th>\n",
       "      <td>4658147</td>\n",
       "      <td>11.265111</td>\n",
       "    </tr>\n",
       "    <tr>\n",
       "      <th>0</th>\n",
       "      <td>4658148</td>\n",
       "      <td>173.456840</td>\n",
       "    </tr>\n",
       "    <tr>\n",
       "      <th>2097491</th>\n",
       "      <td>4658149</td>\n",
       "      <td>11.479863</td>\n",
       "    </tr>\n",
       "    <tr>\n",
       "      <th>1</th>\n",
       "      <td>4658150</td>\n",
       "      <td>173.456840</td>\n",
       "    </tr>\n",
       "    <tr>\n",
       "      <th>404805</th>\n",
       "      <td>4658151</td>\n",
       "      <td>11.265111</td>\n",
       "    </tr>\n",
       "  </tbody>\n",
       "</table>\n",
       "</div>"
      ],
      "text/plain": [
       "              id  scalar_coupling_constant\n",
       "404804   4658147                 11.265111\n",
       "0        4658148                173.456840\n",
       "2097491  4658149                 11.479863\n",
       "1        4658150                173.456840\n",
       "404805   4658151                 11.265111"
      ]
     },
     "metadata": {},
     "output_type": "display_data"
    }
   ],
   "source": [
    "assert len(prediction_df) == len(test_df)\n",
    "print(prediction_df.shape)\n",
    "display(prediction_df.head())"
   ]
  }
 ],
 "metadata": {
  "kernelspec": {
   "display_name": "Python 3",
   "language": "python",
   "name": "python3"
  },
  "language_info": {
   "codemirror_mode": {
    "name": "ipython",
    "version": 3
   },
   "file_extension": ".py",
   "mimetype": "text/x-python",
   "name": "python",
   "nbconvert_exporter": "python",
   "pygments_lexer": "ipython3",
   "version": "3.6.6"
  }
 },
 "nbformat": 4,
 "nbformat_minor": 1
}
