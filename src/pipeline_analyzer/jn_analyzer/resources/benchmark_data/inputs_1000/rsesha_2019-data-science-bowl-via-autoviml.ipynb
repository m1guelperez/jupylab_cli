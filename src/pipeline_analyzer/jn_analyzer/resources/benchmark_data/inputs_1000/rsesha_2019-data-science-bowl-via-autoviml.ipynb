{
 "cells": [
  {
   "cell_type": "markdown",
   "metadata": {},
   "source": [
    "# Data Science Bowl 2019: Demonstrating a new Python Library called Auto_ViML which automatically builds multiple models from a single line of code\n",
    "The Reduce_traina dn Reduce_Test data are derviced from another Kernel below. \n",
    "WE are going to use a new library named \"autoviml\" in order to try and get an automated prediction"
   ]
  },
  {
   "cell_type": "markdown",
   "metadata": {},
   "source": [
    "Link for getting to this point from the Data Science Bowl competition is here:\n",
    "https://www.kaggle.com/morenoh149/autoviml-quickstart"
   ]
  },
  {
   "cell_type": "code",
   "execution_count": 1,
   "metadata": {
    "_cell_guid": "b1076dfc-b9ad-4769-8c92-a6c4dae69d19",
    "_uuid": "8f2839f25d086af736a60e9eeb907d3b93b6e0e5"
   },
   "outputs": [
    {
     "name": "stdout",
     "output_type": "stream",
     "text": [
      "/kaggle/input/ram-reduce/reduce_test.csv\n",
      "/kaggle/input/ram-reduce/reduce_train.csv\n",
      "/kaggle/input/data-science-bowl-2019/sample_submission.csv\n",
      "/kaggle/input/data-science-bowl-2019/specs.csv\n",
      "/kaggle/input/data-science-bowl-2019/train_labels.csv\n",
      "/kaggle/input/data-science-bowl-2019/train.csv\n",
      "/kaggle/input/data-science-bowl-2019/test.csv\n"
     ]
    }
   ],
   "source": [
    "import numpy as np # linear algebra\n",
    "import pandas as pd # data processing, CSV file I/O (e.g. pd.read_csv)\n",
    "from tqdm import tqdm_notebook\n",
    "from tqdm import tqdm\n",
    "from collections import Counter\n",
    "import os\n",
    "for dirname, _, filenames in os.walk('/kaggle/input'):\n",
    "    for filename in filenames:\n",
    "        print(os.path.join(dirname, filename))"
   ]
  },
  {
   "cell_type": "code",
   "execution_count": 2,
   "metadata": {},
   "outputs": [
    {
     "name": "stdout",
     "output_type": "stream",
     "text": [
      "(17690, 900) (1000, 900)\n"
     ]
    }
   ],
   "source": [
    "url1 = '../input/ram-reduce/reduce_train.csv'\n",
    "url2 = '../input/ram-reduce/reduce_test.csv'\n",
    "reduce_train = pd.read_csv(url1,index_col=None)\n",
    "reduce_test = pd.read_csv(url2,index_col=None)\n",
    "print(reduce_train.shape,reduce_test.shape)"
   ]
  },
  {
   "cell_type": "code",
   "execution_count": 3,
   "metadata": {},
   "outputs": [],
   "source": [
    "target='accuracy_group'"
   ]
  },
  {
   "cell_type": "code",
   "execution_count": 4,
   "metadata": {},
   "outputs": [
    {
     "data": {
      "text/plain": [
       "79"
      ]
     },
     "execution_count": 4,
     "metadata": {},
     "output_type": "execute_result"
    }
   ],
   "source": [
    "select = ['session_title', 'Cart Balancer (Assessment)_3121', 'Bird Measurer (Assessment)_3120', 'Bird Measurer (Assessment)_3021', 'e4f1efe6', 'acc_Chest Sorter (Assessment)', 'accumulated_accuracy', '7525289a', 'Scrub-A-Dub_3021', 'a52b92d5', 'Crystal Caves - Level 3', 'acc_Bird Measurer (Assessment)', '3afb49e6', 'Tree Top City - Level 3', 'Chow Time_2030', 'Clip', 'b74258a0', 'Mushroom Sorter (Assessment)_3121', 'acc_Mushroom Sorter (Assessment)', 'c7f7f0e1', '5290eab1', '3393b68b', 'Mushroom Sorter (Assessment)_4070', '0a08139c', '8f094001', 'a5be6304', 'Tree Top City - Level 3_2000', 'Mushroom Sorter (Assessment)_3010', 'Chest Sorter (Assessment)_2010', 'ecaab346', 'Cart Balancer (Assessment)_3110', 'Fireworks (Activity)_2000', 'c51d8688', '6c930e6e', '070a5291', 'Dino Drink_3020', '04df9b66', 'Happy Camel_2030', '222660ff', 'Mushroom Sorter (Assessment)_3120', 'Scrub-A-Dub_2000', 'Chest Sorter (Assessment)_2030', 'Cauldron Filler (Assessment)_3120', 'All Star Sorting_3121', '65a38bf7', 'Cart Balancer (Assessment)_3021', 'Tree Top City - Level 2', 'All Star Sorting_2000', 'Pan Balance_3120', 'Air Show_3121', 'Chest Sorter (Assessment)_4030', 'c7fe2a55', 'Bird Measurer (Assessment)_2000', '37937459', 'Mushroom Sorter (Assessment)_2010', 'ab4ec3a4', 'Mushroom Sorter (Assessment)_4100', 'Egg Dropper (Activity)_2020', 'Cart Balancer (Assessment)_2020', 'Scrub-A-Dub_2050', 'acc_Cauldron Filler (Assessment)', 'Egg Dropper (Activity)_2000', 'Crystal Caves - Level 2', 'Chest Sorter (Assessment)_4025', 'Ordering Spheres_2000', 'Cart Balancer (Assessment)_2000', 'f54238ee', '3a4be871', 'Bird Measurer (Assessment)_2020', 'acc_Cart Balancer (Assessment)', 'Chow Time_4035', 'Air Show_2000', 'Mushroom Sorter (Assessment)_2035', 'd3640339', '77c76bc5', 'Air Show_2030', 'installation_title_nunique', 'Bubble Bath_4090', '92687c59']\n",
    "len(select)"
   ]
  },
  {
   "cell_type": "code",
   "execution_count": 5,
   "metadata": {},
   "outputs": [],
   "source": [
    "from catboost import CatBoostClassifier, CatBoostRegressor\n",
    "cat =  CatBoostClassifier(verbose=0,n_estimators=1000,\n",
    "                                random_state=99,one_hot_max_size=100,\n",
    "                                loss_function='MultiClass', eval_metric='AUC',\n",
    "                                subsample=0.7,bootstrap_type='Bernoulli',\n",
    "                               early_stopping_rounds=25,boosting_type='Plain')\n"
   ]
  },
  {
   "cell_type": "code",
   "execution_count": 6,
   "metadata": {},
   "outputs": [
    {
     "data": {
      "text/plain": [
       "<catboost.core.CatBoostClassifier at 0x7f4afaecf748>"
      ]
     },
     "execution_count": 6,
     "metadata": {},
     "output_type": "execute_result"
    }
   ],
   "source": [
    "cat.fit(reduce_train[select],reduce_train[target])"
   ]
  },
  {
   "cell_type": "code",
   "execution_count": 7,
   "metadata": {},
   "outputs": [
    {
     "data": {
      "text/plain": [
       "(1000, 1)"
      ]
     },
     "execution_count": 7,
     "metadata": {},
     "output_type": "execute_result"
    }
   ],
   "source": [
    "testm = cat.predict(reduce_test[select]).astype(int)\n",
    "testm.shape"
   ]
  },
  {
   "cell_type": "code",
   "execution_count": 8,
   "metadata": {},
   "outputs": [
    {
     "name": "stdout",
     "output_type": "stream",
     "text": [
      "(1000, 2)\n"
     ]
    },
    {
     "data": {
      "text/html": [
       "<div>\n",
       "<style scoped>\n",
       "    .dataframe tbody tr th:only-of-type {\n",
       "        vertical-align: middle;\n",
       "    }\n",
       "\n",
       "    .dataframe tbody tr th {\n",
       "        vertical-align: top;\n",
       "    }\n",
       "\n",
       "    .dataframe thead th {\n",
       "        text-align: right;\n",
       "    }\n",
       "</style>\n",
       "<table border=\"1\" class=\"dataframe\">\n",
       "  <thead>\n",
       "    <tr style=\"text-align: right;\">\n",
       "      <th></th>\n",
       "      <th>installation_id</th>\n",
       "      <th>accuracy_group</th>\n",
       "    </tr>\n",
       "  </thead>\n",
       "  <tbody>\n",
       "    <tr>\n",
       "      <th>0</th>\n",
       "      <td>00abaee7</td>\n",
       "      <td>3</td>\n",
       "    </tr>\n",
       "    <tr>\n",
       "      <th>1</th>\n",
       "      <td>01242218</td>\n",
       "      <td>3</td>\n",
       "    </tr>\n",
       "    <tr>\n",
       "      <th>2</th>\n",
       "      <td>017c5718</td>\n",
       "      <td>0</td>\n",
       "    </tr>\n",
       "    <tr>\n",
       "      <th>3</th>\n",
       "      <td>01a44906</td>\n",
       "      <td>0</td>\n",
       "    </tr>\n",
       "    <tr>\n",
       "      <th>4</th>\n",
       "      <td>01bc6cb6</td>\n",
       "      <td>3</td>\n",
       "    </tr>\n",
       "  </tbody>\n",
       "</table>\n",
       "</div>"
      ],
      "text/plain": [
       "  installation_id  accuracy_group\n",
       "0        00abaee7               3\n",
       "1        01242218               3\n",
       "2        017c5718               0\n",
       "3        01a44906               0\n",
       "4        01bc6cb6               3"
      ]
     },
     "execution_count": 8,
     "metadata": {},
     "output_type": "execute_result"
    }
   ],
   "source": [
    "subm = pd.DataFrame(index=range(1000))\n",
    "subm['installation_id'] = reduce_test['installation_id'].values[:1000]\n",
    "subm[target] = testm\n",
    "print(subm.shape)\n",
    "subm.head()"
   ]
  },
  {
   "cell_type": "code",
   "execution_count": 9,
   "metadata": {},
   "outputs": [],
   "source": [
    "subm.to_csv('submission.csv',index=False)"
   ]
  },
  {
   "cell_type": "code",
   "execution_count": null,
   "metadata": {},
   "outputs": [],
   "source": []
  }
 ],
 "metadata": {
  "kernelspec": {
   "display_name": "Python 3",
   "language": "python",
   "name": "python3"
  },
  "language_info": {
   "codemirror_mode": {
    "name": "ipython",
    "version": 3
   },
   "file_extension": ".py",
   "mimetype": "text/x-python",
   "name": "python",
   "nbconvert_exporter": "python",
   "pygments_lexer": "ipython3",
   "version": "3.6.6"
  }
 },
 "nbformat": 4,
 "nbformat_minor": 1
}
