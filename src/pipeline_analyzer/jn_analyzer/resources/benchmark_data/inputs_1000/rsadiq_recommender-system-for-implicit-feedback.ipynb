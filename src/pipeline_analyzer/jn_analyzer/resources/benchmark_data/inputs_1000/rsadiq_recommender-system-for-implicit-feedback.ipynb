{
 "cells": [
  {
   "cell_type": "markdown",
   "metadata": {
    "_uuid": "012fec9ae64e84b0656ad08f6ebad47d95093e35"
   },
   "source": [
    "# Recommender system by Alternating Least Squares for Implicit Feedback"
   ]
  },
  {
   "cell_type": "code",
   "execution_count": 1,
   "metadata": {
    "_uuid": "8c1f2081dbec8b9e52cfecbb70cd2ed7ff6a4d68"
   },
   "outputs": [
    {
     "data": {
      "text/html": [
       "<div>\n",
       "<style scoped>\n",
       "    .dataframe tbody tr th:only-of-type {\n",
       "        vertical-align: middle;\n",
       "    }\n",
       "\n",
       "    .dataframe tbody tr th {\n",
       "        vertical-align: top;\n",
       "    }\n",
       "\n",
       "    .dataframe thead th {\n",
       "        text-align: right;\n",
       "    }\n",
       "</style>\n",
       "<table border=\"1\" class=\"dataframe\">\n",
       "  <thead>\n",
       "    <tr style=\"text-align: right;\">\n",
       "      <th></th>\n",
       "      <th>user_id</th>\n",
       "      <th>item_id</th>\n",
       "      <th>dow</th>\n",
       "      <th>hod</th>\n",
       "      <th>category_id</th>\n",
       "      <th>cusine_id</th>\n",
       "      <th>restaurant_id</th>\n",
       "      <th>item_count</th>\n",
       "    </tr>\n",
       "  </thead>\n",
       "  <tbody>\n",
       "    <tr>\n",
       "      <th>0</th>\n",
       "      <td>-6088859261566846925</td>\n",
       "      <td>601d4dc5-2ad</td>\n",
       "      <td>7</td>\n",
       "      <td>3</td>\n",
       "      <td>9c64431e-79f</td>\n",
       "      <td>fb8b5b7f-013</td>\n",
       "      <td>706247b3-86e</td>\n",
       "      <td>1</td>\n",
       "    </tr>\n",
       "    <tr>\n",
       "      <th>1</th>\n",
       "      <td>-4662982070704311223</td>\n",
       "      <td>af48a23f-f80</td>\n",
       "      <td>7</td>\n",
       "      <td>2</td>\n",
       "      <td>a989cb37-db5</td>\n",
       "      <td>8631ea96-a78</td>\n",
       "      <td>ea90883c-a2f</td>\n",
       "      <td>1</td>\n",
       "    </tr>\n",
       "    <tr>\n",
       "      <th>2</th>\n",
       "      <td>-4849981472186386714</td>\n",
       "      <td>bab8cfae-930</td>\n",
       "      <td>1</td>\n",
       "      <td>1</td>\n",
       "      <td>4f31b9ea-059</td>\n",
       "      <td>5aa1a680-942</td>\n",
       "      <td>d9ab8a13-380</td>\n",
       "      <td>1</td>\n",
       "    </tr>\n",
       "    <tr>\n",
       "      <th>3</th>\n",
       "      <td>-5400975689533971605</td>\n",
       "      <td>3ae9d553-282</td>\n",
       "      <td>4</td>\n",
       "      <td>0</td>\n",
       "      <td>37d510f8-745</td>\n",
       "      <td>c9aa3993-86f</td>\n",
       "      <td>0b8d021a-c5c</td>\n",
       "      <td>1</td>\n",
       "    </tr>\n",
       "    <tr>\n",
       "      <th>4</th>\n",
       "      <td>4810905585891548302</td>\n",
       "      <td>3d673534-8f8</td>\n",
       "      <td>3</td>\n",
       "      <td>1</td>\n",
       "      <td>4264559d-470</td>\n",
       "      <td>5aa1a680-942</td>\n",
       "      <td>5772716f-1f3</td>\n",
       "      <td>1</td>\n",
       "    </tr>\n",
       "  </tbody>\n",
       "</table>\n",
       "</div>"
      ],
      "text/plain": [
       "               user_id       item_id     ...      restaurant_id  item_count\n",
       "0 -6088859261566846925  601d4dc5-2ad     ...       706247b3-86e           1\n",
       "1 -4662982070704311223  af48a23f-f80     ...       ea90883c-a2f           1\n",
       "2 -4849981472186386714  bab8cfae-930     ...       d9ab8a13-380           1\n",
       "3 -5400975689533971605  3ae9d553-282     ...       0b8d021a-c5c           1\n",
       "4  4810905585891548302  3d673534-8f8     ...       5772716f-1f3           1\n",
       "\n",
       "[5 rows x 8 columns]"
      ]
     },
     "execution_count": 1,
     "metadata": {},
     "output_type": "execute_result"
    }
   ],
   "source": [
    "import pandas as pd\n",
    "data = pd.read_csv('../input/data.csv')\n",
    "data.head()"
   ]
  },
  {
   "cell_type": "code",
   "execution_count": 2,
   "metadata": {
    "_uuid": "c8314d1dacc40f9c59ed1987a800d31e7953064c"
   },
   "outputs": [
    {
     "name": "stdout",
     "output_type": "stream",
     "text": [
      "Number of rows and columns: (323138, 8)\n"
     ]
    }
   ],
   "source": [
    "print('Number of rows and columns:',data.shape)"
   ]
  },
  {
   "cell_type": "markdown",
   "metadata": {
    "_uuid": "3b831c24fa4bdc56cf25699ae7d45d5c7f5495b9"
   },
   "source": [
    "## Exploratory Data Analysis"
   ]
  },
  {
   "cell_type": "code",
   "execution_count": 3,
   "metadata": {
    "_uuid": "2ed15b4a32e68a6835548cb5879d2041f99730d5"
   },
   "outputs": [
    {
     "name": "stdout",
     "output_type": "stream",
     "text": [
      "Number of user: 68109\n",
      "Number of item: 53403\n",
      "Number of category: 15131\n",
      "Number of cusine: 47\n",
      "Number of restaurant: 3357\n"
     ]
    }
   ],
   "source": [
    "print('Number of user:', len(data.user_id.unique()))\n",
    "print('Number of item:', len(data.item_id.unique()))\n",
    "print('Number of category:', len(data.category_id.unique()))\n",
    "print('Number of cusine:', len(data.cusine_id.unique()))\n",
    "print('Number of restaurant:', len(data.restaurant_id.unique()))"
   ]
  },
  {
   "cell_type": "markdown",
   "metadata": {
    "_uuid": "57f41dba9a20aaa2c4089d98539b3eed90aa6b0e"
   },
   "source": [
    "#### Different item_id consists of different combination of category, cusine and restaurant so finally I will work with item_id as it consists all the information of category, cusine and restaurant."
   ]
  },
  {
   "cell_type": "code",
   "execution_count": 4,
   "metadata": {
    "_uuid": "0963bb37c152f9fcbf2e5f54eb9de0a1ac83397d"
   },
   "outputs": [
    {
     "name": "stdout",
     "output_type": "stream",
     "text": [
      "Number of orders on different days\n"
     ]
    },
    {
     "data": {
      "text/plain": [
       "6    49954\n",
       "5    49468\n",
       "7    46886\n",
       "4    46580\n",
       "3    45232\n",
       "1    43293\n",
       "2    41725\n",
       "Name: dow, dtype: int64"
      ]
     },
     "execution_count": 4,
     "metadata": {},
     "output_type": "execute_result"
    }
   ],
   "source": [
    "print('Number of orders on different days')\n",
    "data.dow.value_counts()"
   ]
  },
  {
   "cell_type": "code",
   "execution_count": 5,
   "metadata": {
    "_uuid": "9ba91aeb65fa7e2fb6236c69eeae2b068edb1382"
   },
   "outputs": [
    {
     "name": "stdout",
     "output_type": "stream",
     "text": [
      "Number of items sold on different days:\n"
     ]
    },
    {
     "data": {
      "text/html": [
       "<div>\n",
       "<style scoped>\n",
       "    .dataframe tbody tr th:only-of-type {\n",
       "        vertical-align: middle;\n",
       "    }\n",
       "\n",
       "    .dataframe tbody tr th {\n",
       "        vertical-align: top;\n",
       "    }\n",
       "\n",
       "    .dataframe thead th {\n",
       "        text-align: right;\n",
       "    }\n",
       "</style>\n",
       "<table border=\"1\" class=\"dataframe\">\n",
       "  <thead>\n",
       "    <tr style=\"text-align: right;\">\n",
       "      <th></th>\n",
       "      <th>item_count</th>\n",
       "    </tr>\n",
       "    <tr>\n",
       "      <th>dow</th>\n",
       "      <th></th>\n",
       "    </tr>\n",
       "  </thead>\n",
       "  <tbody>\n",
       "    <tr>\n",
       "      <th>6</th>\n",
       "      <td>50848</td>\n",
       "    </tr>\n",
       "    <tr>\n",
       "      <th>5</th>\n",
       "      <td>50373</td>\n",
       "    </tr>\n",
       "    <tr>\n",
       "      <th>7</th>\n",
       "      <td>47592</td>\n",
       "    </tr>\n",
       "    <tr>\n",
       "      <th>4</th>\n",
       "      <td>47313</td>\n",
       "    </tr>\n",
       "    <tr>\n",
       "      <th>3</th>\n",
       "      <td>46080</td>\n",
       "    </tr>\n",
       "    <tr>\n",
       "      <th>1</th>\n",
       "      <td>43999</td>\n",
       "    </tr>\n",
       "    <tr>\n",
       "      <th>2</th>\n",
       "      <td>42493</td>\n",
       "    </tr>\n",
       "  </tbody>\n",
       "</table>\n",
       "</div>"
      ],
      "text/plain": [
       "     item_count\n",
       "dow            \n",
       "6         50848\n",
       "5         50373\n",
       "7         47592\n",
       "4         47313\n",
       "3         46080\n",
       "1         43999\n",
       "2         42493"
      ]
     },
     "execution_count": 5,
     "metadata": {},
     "output_type": "execute_result"
    }
   ],
   "source": [
    "print('Number of items sold on different days:')\n",
    "x_d =pd.pivot_table(data, values = 'item_count', index = 'dow', aggfunc = sum)\n",
    "x_d.sort_values('item_count', ascending = False)"
   ]
  },
  {
   "cell_type": "code",
   "execution_count": 6,
   "metadata": {
    "_uuid": "8109daa7766c9119fd40e453883fcb4c4efd34db"
   },
   "outputs": [
    {
     "name": "stdout",
     "output_type": "stream",
     "text": [
      "Number of orders on different hours of the day:\n"
     ]
    },
    {
     "data": {
      "text/plain": [
       "2     35400\n",
       "3     34646\n",
       "1     34144\n",
       "4     30011\n",
       "0     28778\n",
       "21    24197\n",
       "20    23857\n",
       "23    19484\n",
       "22    19042\n",
       "19    17584\n",
       "5     14956\n",
       "16    10558\n",
       "17    10257\n",
       "15     8879\n",
       "18     8393\n",
       "6      2952\n",
       "Name: hod, dtype: int64"
      ]
     },
     "execution_count": 6,
     "metadata": {},
     "output_type": "execute_result"
    }
   ],
   "source": [
    "print('Number of orders on different hours of the day:')\n",
    "data.hod.value_counts()"
   ]
  },
  {
   "cell_type": "code",
   "execution_count": 7,
   "metadata": {
    "_uuid": "d9dccb2b01c206a032d562bcd327f83eeb3e14e8"
   },
   "outputs": [
    {
     "name": "stdout",
     "output_type": "stream",
     "text": [
      "Number of items sold in different hours of the day:\n"
     ]
    },
    {
     "data": {
      "text/html": [
       "<div>\n",
       "<style scoped>\n",
       "    .dataframe tbody tr th:only-of-type {\n",
       "        vertical-align: middle;\n",
       "    }\n",
       "\n",
       "    .dataframe tbody tr th {\n",
       "        vertical-align: top;\n",
       "    }\n",
       "\n",
       "    .dataframe thead th {\n",
       "        text-align: right;\n",
       "    }\n",
       "</style>\n",
       "<table border=\"1\" class=\"dataframe\">\n",
       "  <thead>\n",
       "    <tr style=\"text-align: right;\">\n",
       "      <th></th>\n",
       "      <th>item_count</th>\n",
       "    </tr>\n",
       "    <tr>\n",
       "      <th>hod</th>\n",
       "      <th></th>\n",
       "    </tr>\n",
       "  </thead>\n",
       "  <tbody>\n",
       "    <tr>\n",
       "      <th>2</th>\n",
       "      <td>35917</td>\n",
       "    </tr>\n",
       "    <tr>\n",
       "      <th>3</th>\n",
       "      <td>35165</td>\n",
       "    </tr>\n",
       "    <tr>\n",
       "      <th>1</th>\n",
       "      <td>34728</td>\n",
       "    </tr>\n",
       "    <tr>\n",
       "      <th>4</th>\n",
       "      <td>30476</td>\n",
       "    </tr>\n",
       "    <tr>\n",
       "      <th>0</th>\n",
       "      <td>29243</td>\n",
       "    </tr>\n",
       "    <tr>\n",
       "      <th>21</th>\n",
       "      <td>24566</td>\n",
       "    </tr>\n",
       "    <tr>\n",
       "      <th>20</th>\n",
       "      <td>24318</td>\n",
       "    </tr>\n",
       "    <tr>\n",
       "      <th>23</th>\n",
       "      <td>19733</td>\n",
       "    </tr>\n",
       "    <tr>\n",
       "      <th>22</th>\n",
       "      <td>19283</td>\n",
       "    </tr>\n",
       "    <tr>\n",
       "      <th>19</th>\n",
       "      <td>17891</td>\n",
       "    </tr>\n",
       "    <tr>\n",
       "      <th>5</th>\n",
       "      <td>15159</td>\n",
       "    </tr>\n",
       "    <tr>\n",
       "      <th>16</th>\n",
       "      <td>10898</td>\n",
       "    </tr>\n",
       "    <tr>\n",
       "      <th>17</th>\n",
       "      <td>10445</td>\n",
       "    </tr>\n",
       "    <tr>\n",
       "      <th>15</th>\n",
       "      <td>9330</td>\n",
       "    </tr>\n",
       "    <tr>\n",
       "      <th>18</th>\n",
       "      <td>8550</td>\n",
       "    </tr>\n",
       "    <tr>\n",
       "      <th>6</th>\n",
       "      <td>2996</td>\n",
       "    </tr>\n",
       "  </tbody>\n",
       "</table>\n",
       "</div>"
      ],
      "text/plain": [
       "     item_count\n",
       "hod            \n",
       "2         35917\n",
       "3         35165\n",
       "1         34728\n",
       "4         30476\n",
       "0         29243\n",
       "21        24566\n",
       "20        24318\n",
       "23        19733\n",
       "22        19283\n",
       "19        17891\n",
       "5         15159\n",
       "16        10898\n",
       "17        10445\n",
       "15         9330\n",
       "18         8550\n",
       "6          2996"
      ]
     },
     "execution_count": 7,
     "metadata": {},
     "output_type": "execute_result"
    }
   ],
   "source": [
    "print('Number of items sold in different hours of the day:')\n",
    "x = pd.pivot_table(data, values = 'item_count', index = 'hod', aggfunc = sum)\n",
    "x.sort_values('item_count', ascending = False)"
   ]
  },
  {
   "cell_type": "markdown",
   "metadata": {
    "_uuid": "c61f3cf6b18b393e12ae8402fe58070561f6e8ff"
   },
   "source": [
    "#### Number of orders and number of items sold have no significant changes for different days and hours, I mean day 6 or hour 2 has the highest orders and the highest item sold and also true for lowest. I wanted to check if any lower nubmer of order has higher number of sell or not."
   ]
  },
  {
   "cell_type": "code",
   "execution_count": 8,
   "metadata": {
    "_uuid": "40a9c9bb0e2890301e1f0a8726a22fef87206b9d"
   },
   "outputs": [
    {
     "data": {
      "image/png": "[encoded data removed]",
      "text/plain": [
       "<Figure size 1440x432 with 2 Axes>"
      ]
     },
     "metadata": {},
     "output_type": "display_data"
    }
   ],
   "source": [
    "import matplotlib.pyplot as plt\n",
    "import seaborn as sns\n",
    "data.dow = data.dow.astype('str')\n",
    "order = data.dow.value_counts().index\n",
    "color = sns.color_palette()[9]\n",
    "n_dow = data.dow.shape[0]\n",
    "dow_counts = data.dow.value_counts()\n",
    "fig = plt.figure(figsize = (20,6))\n",
    "plt.subplot(1,2,1)\n",
    "sns.countplot(data = data, y = 'dow', order = order, color = color)\n",
    "for i in range(dow_counts.shape[0]):\n",
    "    count = dow_counts[i]\n",
    "    string = '{:0.1f}%'.format(100*count/n_dow)\n",
    "    plt.text(count+1, i, string)\n",
    "    plt.xlabel('Proportion')\n",
    "    plt.title('Order (%) on different days of week')\n",
    "    \n",
    "data.hod = data.hod.astype('str')\n",
    "order_hod = data.hod.value_counts().index\n",
    "n_hod = data.hod.shape[0]\n",
    "hod_counts = data.hod.value_counts()\n",
    "plt.subplot(1,2,2)\n",
    "sns.countplot(data = data, y = 'hod', order = order_hod, color = color)\n",
    "for i in range(hod_counts.shape[0]):\n",
    "    count_h = hod_counts[i]\n",
    "    string_h = '{:.1f}%'.format(100*count_h/n_hod)\n",
    "    plt.text(count_h+i, i, string_h)\n",
    "    plt.xlabel('Proportion')\n",
    "    plt.title('Order (%) on different hours of the day')"
   ]
  },
  {
   "cell_type": "markdown",
   "metadata": {
    "_uuid": "ee174ee89542f4714768c11c357e90f4587ae687"
   },
   "source": [
    "#### Though there are no significant differences among different days of the week, day 6 and 5 have more than 15% orders may be 5 and 6 are friday and saturday respectively. \n",
    "#### For hour we can see there is no data for hour 7 to hour 14, may be this period is 12 AM (Night) to 8 AM (Morning). Other than this period we can see 0 to 4 (may be 5 PM to 9 PM) are the pick hours for the orders, within these hours maximum orders have been placed. \n"
   ]
  },
  {
   "cell_type": "code",
   "execution_count": 9,
   "metadata": {
    "_uuid": "d120f40167dd8e50e4de8e057d56e362d69b3172"
   },
   "outputs": [
    {
     "data": {
      "text/html": [
       "<div>\n",
       "<style scoped>\n",
       "    .dataframe tbody tr th:only-of-type {\n",
       "        vertical-align: middle;\n",
       "    }\n",
       "\n",
       "    .dataframe tbody tr th {\n",
       "        vertical-align: top;\n",
       "    }\n",
       "\n",
       "    .dataframe thead th {\n",
       "        text-align: right;\n",
       "    }\n",
       "</style>\n",
       "<table border=\"1\" class=\"dataframe\">\n",
       "  <thead>\n",
       "    <tr style=\"text-align: right;\">\n",
       "      <th></th>\n",
       "      <th>user_id</th>\n",
       "      <th>item_id</th>\n",
       "      <th>dow</th>\n",
       "      <th>hod</th>\n",
       "      <th>H_D</th>\n",
       "      <th>category_id</th>\n",
       "      <th>cusine_id</th>\n",
       "      <th>restaurant_id</th>\n",
       "      <th>item_count</th>\n",
       "    </tr>\n",
       "  </thead>\n",
       "  <tbody>\n",
       "    <tr>\n",
       "      <th>0</th>\n",
       "      <td>-6088859261566846925</td>\n",
       "      <td>601d4dc5-2ad</td>\n",
       "      <td>7</td>\n",
       "      <td>3</td>\n",
       "      <td>73</td>\n",
       "      <td>9c64431e-79f</td>\n",
       "      <td>fb8b5b7f-013</td>\n",
       "      <td>706247b3-86e</td>\n",
       "      <td>1</td>\n",
       "    </tr>\n",
       "    <tr>\n",
       "      <th>1</th>\n",
       "      <td>-4662982070704311223</td>\n",
       "      <td>af48a23f-f80</td>\n",
       "      <td>7</td>\n",
       "      <td>2</td>\n",
       "      <td>72</td>\n",
       "      <td>a989cb37-db5</td>\n",
       "      <td>8631ea96-a78</td>\n",
       "      <td>ea90883c-a2f</td>\n",
       "      <td>1</td>\n",
       "    </tr>\n",
       "    <tr>\n",
       "      <th>2</th>\n",
       "      <td>-4849981472186386714</td>\n",
       "      <td>bab8cfae-930</td>\n",
       "      <td>1</td>\n",
       "      <td>1</td>\n",
       "      <td>11</td>\n",
       "      <td>4f31b9ea-059</td>\n",
       "      <td>5aa1a680-942</td>\n",
       "      <td>d9ab8a13-380</td>\n",
       "      <td>1</td>\n",
       "    </tr>\n",
       "    <tr>\n",
       "      <th>3</th>\n",
       "      <td>-5400975689533971605</td>\n",
       "      <td>3ae9d553-282</td>\n",
       "      <td>4</td>\n",
       "      <td>0</td>\n",
       "      <td>40</td>\n",
       "      <td>37d510f8-745</td>\n",
       "      <td>c9aa3993-86f</td>\n",
       "      <td>0b8d021a-c5c</td>\n",
       "      <td>1</td>\n",
       "    </tr>\n",
       "    <tr>\n",
       "      <th>4</th>\n",
       "      <td>4810905585891548302</td>\n",
       "      <td>3d673534-8f8</td>\n",
       "      <td>3</td>\n",
       "      <td>1</td>\n",
       "      <td>31</td>\n",
       "      <td>4264559d-470</td>\n",
       "      <td>5aa1a680-942</td>\n",
       "      <td>5772716f-1f3</td>\n",
       "      <td>1</td>\n",
       "    </tr>\n",
       "  </tbody>\n",
       "</table>\n",
       "</div>"
      ],
      "text/plain": [
       "               user_id       item_id    ...     restaurant_id item_count\n",
       "0 -6088859261566846925  601d4dc5-2ad    ...      706247b3-86e          1\n",
       "1 -4662982070704311223  af48a23f-f80    ...      ea90883c-a2f          1\n",
       "2 -4849981472186386714  bab8cfae-930    ...      d9ab8a13-380          1\n",
       "3 -5400975689533971605  3ae9d553-282    ...      0b8d021a-c5c          1\n",
       "4  4810905585891548302  3d673534-8f8    ...      5772716f-1f3          1\n",
       "\n",
       "[5 rows x 9 columns]"
      ]
     },
     "execution_count": 9,
     "metadata": {},
     "output_type": "execute_result"
    }
   ],
   "source": [
    "a = data['dow'].astype('str')\n",
    "b = data['hod'].astype('str')\n",
    "H_D = a + b\n",
    "data.insert(4, 'H_D', H_D)\n",
    "data.head()"
   ]
  },
  {
   "cell_type": "code",
   "execution_count": 10,
   "metadata": {
    "_uuid": "751dc55fc1ca54f07bf82b541539946d48f53fbe"
   },
   "outputs": [
    {
     "data": {
      "text/plain": [
       "63    6119\n",
       "62    5988\n",
       "61    5577\n",
       "72    5418\n",
       "71    5412\n",
       "64    5350\n",
       "51    5044\n",
       "      ... \n",
       "66     546\n",
       "16     481\n",
       "56     469\n",
       "36     417\n",
       "76     373\n",
       "46     351\n",
       "26     315\n",
       "Name: H_D, Length: 112, dtype: int64"
      ]
     },
     "execution_count": 10,
     "metadata": {},
     "output_type": "execute_result"
    }
   ],
   "source": [
    "pd.set_option('max_r', 15)\n",
    "data.H_D.value_counts()"
   ]
  },
  {
   "cell_type": "code",
   "execution_count": 11,
   "metadata": {
    "_uuid": "adf8733b7204dbe0c62f759771064d85d97eb62f"
   },
   "outputs": [
    {
     "data": {
      "image/png": "[encoded data removed]",
      "text/plain": [
       "<Figure size 720x7200 with 1 Axes>"
      ]
     },
     "metadata": {},
     "output_type": "display_data"
    }
   ],
   "source": [
    "order_H = data.H_D.value_counts().index\n",
    "n_H = data.H_D.shape[0]\n",
    "H_counts = data.H_D.value_counts()\n",
    "fig = plt.figure(figsize = (10,100))\n",
    "sns.countplot(data = data, y = 'H_D', order = order_H, color = color)\n",
    "for i in range(H_counts.shape[0]):\n",
    "    count_H = H_counts[i]\n",
    "    string_H = '{:.1f}%'.format(100*count_H/n_H)\n",
    "    plt.text(count_H+i, i, string_H)\n",
    "    plt.xlabel('Proportion')\n",
    "    plt.title('Order (%) of different hours of different days')"
   ]
  },
  {
   "cell_type": "code",
   "execution_count": 12,
   "metadata": {
    "_uuid": "c6a768a3fe553225b1693c8646fe4690ecb62054"
   },
   "outputs": [
    {
     "data": {
      "text/html": [
       "<div>\n",
       "<style scoped>\n",
       "    .dataframe tbody tr th:only-of-type {\n",
       "        vertical-align: middle;\n",
       "    }\n",
       "\n",
       "    .dataframe tbody tr th {\n",
       "        vertical-align: top;\n",
       "    }\n",
       "\n",
       "    .dataframe thead th {\n",
       "        text-align: right;\n",
       "    }\n",
       "</style>\n",
       "<table border=\"1\" class=\"dataframe\">\n",
       "  <thead>\n",
       "    <tr style=\"text-align: right;\">\n",
       "      <th>dow</th>\n",
       "      <th>1</th>\n",
       "      <th>2</th>\n",
       "      <th>3</th>\n",
       "      <th>4</th>\n",
       "      <th>5</th>\n",
       "      <th>6</th>\n",
       "      <th>7</th>\n",
       "    </tr>\n",
       "    <tr>\n",
       "      <th>hod</th>\n",
       "      <th></th>\n",
       "      <th></th>\n",
       "      <th></th>\n",
       "      <th></th>\n",
       "      <th></th>\n",
       "      <th></th>\n",
       "      <th></th>\n",
       "    </tr>\n",
       "  </thead>\n",
       "  <tbody>\n",
       "    <tr>\n",
       "      <th>0</th>\n",
       "      <td>4420</td>\n",
       "      <td>3576</td>\n",
       "      <td>3747</td>\n",
       "      <td>3857</td>\n",
       "      <td>4169</td>\n",
       "      <td>4567</td>\n",
       "      <td>4907</td>\n",
       "    </tr>\n",
       "    <tr>\n",
       "      <th>1</th>\n",
       "      <td>4946</td>\n",
       "      <td>4452</td>\n",
       "      <td>4414</td>\n",
       "      <td>4593</td>\n",
       "      <td>5148</td>\n",
       "      <td>5677</td>\n",
       "      <td>5498</td>\n",
       "    </tr>\n",
       "    <tr>\n",
       "      <th>15</th>\n",
       "      <td>1148</td>\n",
       "      <td>1163</td>\n",
       "      <td>1188</td>\n",
       "      <td>1376</td>\n",
       "      <td>1425</td>\n",
       "      <td>1683</td>\n",
       "      <td>1347</td>\n",
       "    </tr>\n",
       "    <tr>\n",
       "      <th>16</th>\n",
       "      <td>1200</td>\n",
       "      <td>1437</td>\n",
       "      <td>1427</td>\n",
       "      <td>1630</td>\n",
       "      <td>1691</td>\n",
       "      <td>1961</td>\n",
       "      <td>1552</td>\n",
       "    </tr>\n",
       "    <tr>\n",
       "      <th>17</th>\n",
       "      <td>1204</td>\n",
       "      <td>1348</td>\n",
       "      <td>1566</td>\n",
       "      <td>1538</td>\n",
       "      <td>1764</td>\n",
       "      <td>1556</td>\n",
       "      <td>1469</td>\n",
       "    </tr>\n",
       "    <tr>\n",
       "      <th>18</th>\n",
       "      <td>1050</td>\n",
       "      <td>1264</td>\n",
       "      <td>1240</td>\n",
       "      <td>1264</td>\n",
       "      <td>1456</td>\n",
       "      <td>1162</td>\n",
       "      <td>1114</td>\n",
       "    </tr>\n",
       "    <tr>\n",
       "      <th>19</th>\n",
       "      <td>2252</td>\n",
       "      <td>2410</td>\n",
       "      <td>2638</td>\n",
       "      <td>2764</td>\n",
       "      <td>3223</td>\n",
       "      <td>2178</td>\n",
       "      <td>2426</td>\n",
       "    </tr>\n",
       "    <tr>\n",
       "      <th>...</th>\n",
       "      <td>...</td>\n",
       "      <td>...</td>\n",
       "      <td>...</td>\n",
       "      <td>...</td>\n",
       "      <td>...</td>\n",
       "      <td>...</td>\n",
       "      <td>...</td>\n",
       "    </tr>\n",
       "    <tr>\n",
       "      <th>21</th>\n",
       "      <td>3235</td>\n",
       "      <td>3259</td>\n",
       "      <td>3806</td>\n",
       "      <td>3876</td>\n",
       "      <td>3958</td>\n",
       "      <td>3174</td>\n",
       "      <td>3258</td>\n",
       "    </tr>\n",
       "    <tr>\n",
       "      <th>22</th>\n",
       "      <td>2550</td>\n",
       "      <td>2597</td>\n",
       "      <td>2976</td>\n",
       "      <td>3022</td>\n",
       "      <td>3048</td>\n",
       "      <td>2446</td>\n",
       "      <td>2644</td>\n",
       "    </tr>\n",
       "    <tr>\n",
       "      <th>23</th>\n",
       "      <td>2363</td>\n",
       "      <td>2706</td>\n",
       "      <td>2941</td>\n",
       "      <td>2923</td>\n",
       "      <td>3124</td>\n",
       "      <td>2935</td>\n",
       "      <td>2741</td>\n",
       "    </tr>\n",
       "    <tr>\n",
       "      <th>3</th>\n",
       "      <td>4785</td>\n",
       "      <td>4355</td>\n",
       "      <td>4761</td>\n",
       "      <td>4990</td>\n",
       "      <td>5058</td>\n",
       "      <td>6217</td>\n",
       "      <td>4999</td>\n",
       "    </tr>\n",
       "    <tr>\n",
       "      <th>4</th>\n",
       "      <td>4026</td>\n",
       "      <td>3800</td>\n",
       "      <td>4359</td>\n",
       "      <td>4312</td>\n",
       "      <td>4310</td>\n",
       "      <td>5429</td>\n",
       "      <td>4240</td>\n",
       "    </tr>\n",
       "    <tr>\n",
       "      <th>5</th>\n",
       "      <td>2013</td>\n",
       "      <td>1867</td>\n",
       "      <td>2073</td>\n",
       "      <td>2163</td>\n",
       "      <td>2306</td>\n",
       "      <td>2638</td>\n",
       "      <td>2099</td>\n",
       "    </tr>\n",
       "    <tr>\n",
       "      <th>6</th>\n",
       "      <td>484</td>\n",
       "      <td>324</td>\n",
       "      <td>422</td>\n",
       "      <td>357</td>\n",
       "      <td>477</td>\n",
       "      <td>549</td>\n",
       "      <td>383</td>\n",
       "    </tr>\n",
       "  </tbody>\n",
       "</table>\n",
       "<p>16 rows × 7 columns</p>\n",
       "</div>"
      ],
      "text/plain": [
       "dow     1     2     3     4     5     6     7\n",
       "hod                                          \n",
       "0    4420  3576  3747  3857  4169  4567  4907\n",
       "1    4946  4452  4414  4593  5148  5677  5498\n",
       "15   1148  1163  1188  1376  1425  1683  1347\n",
       "16   1200  1437  1427  1630  1691  1961  1552\n",
       "17   1204  1348  1566  1538  1764  1556  1469\n",
       "18   1050  1264  1240  1264  1456  1162  1114\n",
       "19   2252  2410  2638  2764  3223  2178  2426\n",
       "..    ...   ...   ...   ...   ...   ...   ...\n",
       "21   3235  3259  3806  3876  3958  3174  3258\n",
       "22   2550  2597  2976  3022  3048  2446  2644\n",
       "23   2363  2706  2941  2923  3124  2935  2741\n",
       "3    4785  4355  4761  4990  5058  6217  4999\n",
       "4    4026  3800  4359  4312  4310  5429  4240\n",
       "5    2013  1867  2073  2163  2306  2638  2099\n",
       "6     484   324   422   357   477   549   383\n",
       "\n",
       "[16 rows x 7 columns]"
      ]
     },
     "execution_count": 12,
     "metadata": {},
     "output_type": "execute_result"
    }
   ],
   "source": [
    "pd.pivot_table(data, values = 'item_count', index = 'hod', columns = 'dow', aggfunc = sum)"
   ]
  },
  {
   "cell_type": "markdown",
   "metadata": {
    "_uuid": "30bc9ecb2c704077b826fa47e335e04a589d0c5b"
   },
   "source": [
    "#### Different hours of different days can be a good indicator for the model, I will stop here and try to incorporate this with the model later."
   ]
  },
  {
   "cell_type": "markdown",
   "metadata": {
    "_uuid": "09c9d7aa57d0efd0a6236c6e4af4da8172084ef9"
   },
   "source": [
    "## Data preprocessing"
   ]
  },
  {
   "cell_type": "code",
   "execution_count": 13,
   "metadata": {
    "_uuid": "e34ea87493a3c127f3e5bd02c8e9b41b6f97e3dc"
   },
   "outputs": [
    {
     "name": "stdout",
     "output_type": "stream",
     "text": [
      "Number of missing values:\n"
     ]
    },
    {
     "data": {
      "text/plain": [
       "user_id          0\n",
       "item_id          0\n",
       "dow              0\n",
       "hod              0\n",
       "H_D              0\n",
       "category_id      7\n",
       "cusine_id        3\n",
       "restaurant_id    0\n",
       "item_count       0\n",
       "dtype: int64"
      ]
     },
     "execution_count": 13,
     "metadata": {},
     "output_type": "execute_result"
    }
   ],
   "source": [
    "print('Number of missing values:')\n",
    "data.isnull().sum()"
   ]
  },
  {
   "cell_type": "markdown",
   "metadata": {
    "_uuid": "58f1a1363b312222934e6724562f54506aafdaaf"
   },
   "source": [
    "#### As I am not using category_id and cusine_id I will not impute those missing values."
   ]
  },
  {
   "cell_type": "code",
   "execution_count": 14,
   "metadata": {
    "_uuid": "f1f9b22345cb37e26c793b698121f3351e2bba23"
   },
   "outputs": [
    {
     "name": "stdout",
     "output_type": "stream",
     "text": [
      "item_id dtype: object\n"
     ]
    }
   ],
   "source": [
    "print('item_id dtype:',data.item_id.dtype)"
   ]
  },
  {
   "cell_type": "markdown",
   "metadata": {
    "_uuid": "66eaf6700546a7f070b08bd4b80c362905cc1a5a"
   },
   "source": [
    "#### For my model I need user id and item id as numeric data type instead of category. So I will convert those into numeric."
   ]
  },
  {
   "cell_type": "code",
   "execution_count": 15,
   "metadata": {
    "_uuid": "2827060bb2a0e5c22a308a8b12af17da80957b70"
   },
   "outputs": [],
   "source": [
    "data['userId'] = data['user_id'].astype('category').cat.codes\n",
    "data['itemId'] = data['item_id'].astype('category').cat.codes"
   ]
  },
  {
   "cell_type": "code",
   "execution_count": 16,
   "metadata": {
    "_uuid": "4f999c282626e3dd10e5a872612e6f5ed3b815e6"
   },
   "outputs": [
    {
     "data": {
      "text/html": [
       "<div>\n",
       "<style scoped>\n",
       "    .dataframe tbody tr th:only-of-type {\n",
       "        vertical-align: middle;\n",
       "    }\n",
       "\n",
       "    .dataframe tbody tr th {\n",
       "        vertical-align: top;\n",
       "    }\n",
       "\n",
       "    .dataframe thead th {\n",
       "        text-align: right;\n",
       "    }\n",
       "</style>\n",
       "<table border=\"1\" class=\"dataframe\">\n",
       "  <thead>\n",
       "    <tr style=\"text-align: right;\">\n",
       "      <th></th>\n",
       "      <th>user_id</th>\n",
       "      <th>item_id</th>\n",
       "      <th>dow</th>\n",
       "      <th>hod</th>\n",
       "      <th>H_D</th>\n",
       "      <th>category_id</th>\n",
       "      <th>cusine_id</th>\n",
       "      <th>restaurant_id</th>\n",
       "      <th>item_count</th>\n",
       "      <th>userId</th>\n",
       "      <th>itemId</th>\n",
       "    </tr>\n",
       "  </thead>\n",
       "  <tbody>\n",
       "    <tr>\n",
       "      <th>0</th>\n",
       "      <td>-6088859261566846925</td>\n",
       "      <td>601d4dc5-2ad</td>\n",
       "      <td>7</td>\n",
       "      <td>3</td>\n",
       "      <td>73</td>\n",
       "      <td>9c64431e-79f</td>\n",
       "      <td>fb8b5b7f-013</td>\n",
       "      <td>706247b3-86e</td>\n",
       "      <td>1</td>\n",
       "      <td>11800</td>\n",
       "      <td>20043</td>\n",
       "    </tr>\n",
       "    <tr>\n",
       "      <th>1</th>\n",
       "      <td>-4662982070704311223</td>\n",
       "      <td>af48a23f-f80</td>\n",
       "      <td>7</td>\n",
       "      <td>2</td>\n",
       "      <td>72</td>\n",
       "      <td>a989cb37-db5</td>\n",
       "      <td>8631ea96-a78</td>\n",
       "      <td>ea90883c-a2f</td>\n",
       "      <td>1</td>\n",
       "      <td>17106</td>\n",
       "      <td>36473</td>\n",
       "    </tr>\n",
       "    <tr>\n",
       "      <th>2</th>\n",
       "      <td>-4849981472186386714</td>\n",
       "      <td>bab8cfae-930</td>\n",
       "      <td>1</td>\n",
       "      <td>1</td>\n",
       "      <td>11</td>\n",
       "      <td>4f31b9ea-059</td>\n",
       "      <td>5aa1a680-942</td>\n",
       "      <td>d9ab8a13-380</td>\n",
       "      <td>1</td>\n",
       "      <td>16397</td>\n",
       "      <td>38909</td>\n",
       "    </tr>\n",
       "    <tr>\n",
       "      <th>3</th>\n",
       "      <td>-5400975689533971605</td>\n",
       "      <td>3ae9d553-282</td>\n",
       "      <td>4</td>\n",
       "      <td>0</td>\n",
       "      <td>40</td>\n",
       "      <td>37d510f8-745</td>\n",
       "      <td>c9aa3993-86f</td>\n",
       "      <td>0b8d021a-c5c</td>\n",
       "      <td>1</td>\n",
       "      <td>14412</td>\n",
       "      <td>12338</td>\n",
       "    </tr>\n",
       "    <tr>\n",
       "      <th>4</th>\n",
       "      <td>4810905585891548302</td>\n",
       "      <td>3d673534-8f8</td>\n",
       "      <td>3</td>\n",
       "      <td>1</td>\n",
       "      <td>31</td>\n",
       "      <td>4264559d-470</td>\n",
       "      <td>5aa1a680-942</td>\n",
       "      <td>5772716f-1f3</td>\n",
       "      <td>1</td>\n",
       "      <td>52030</td>\n",
       "      <td>12849</td>\n",
       "    </tr>\n",
       "  </tbody>\n",
       "</table>\n",
       "</div>"
      ],
      "text/plain": [
       "               user_id       item_id dow  ...   item_count userId itemId\n",
       "0 -6088859261566846925  601d4dc5-2ad   7  ...            1  11800  20043\n",
       "1 -4662982070704311223  af48a23f-f80   7  ...            1  17106  36473\n",
       "2 -4849981472186386714  bab8cfae-930   1  ...            1  16397  38909\n",
       "3 -5400975689533971605  3ae9d553-282   4  ...            1  14412  12338\n",
       "4  4810905585891548302  3d673534-8f8   3  ...            1  52030  12849\n",
       "\n",
       "[5 rows x 11 columns]"
      ]
     },
     "execution_count": 16,
     "metadata": {},
     "output_type": "execute_result"
    }
   ],
   "source": [
    "data.head()"
   ]
  },
  {
   "cell_type": "markdown",
   "metadata": {
    "_uuid": "3ffc384f9cc478ee5bfd9627642cb9ac8f9900ed"
   },
   "source": [
    "#### I will retain old user_id and item_id so that I can generate recommended list based on old IDs."
   ]
  },
  {
   "cell_type": "code",
   "execution_count": 17,
   "metadata": {
    "_uuid": "26e8df384cb8d1342edf3fd195909dee5b3fb139"
   },
   "outputs": [],
   "source": [
    "from sklearn.model_selection import train_test_split\n",
    "train, cros_val = train_test_split(data, test_size = 0.2, random_state = 1)"
   ]
  },
  {
   "cell_type": "code",
   "execution_count": 18,
   "metadata": {
    "_uuid": "2ce058e6363524bd8de7ca5c312a531ce726b991"
   },
   "outputs": [],
   "source": [
    "train, test = train_test_split(train, test_size = 0.25, random_state = 1)"
   ]
  },
  {
   "cell_type": "code",
   "execution_count": 19,
   "metadata": {
    "_uuid": "4690c634cd6d734b2e09d1db76a75b1ea30ceecf"
   },
   "outputs": [
    {
     "name": "stdout",
     "output_type": "stream",
     "text": [
      "Splitted dataset into train set, cross validation set and test set\n",
      "Train shape: (193882, 11)\n",
      "Test shape: (64628, 11)\n",
      "cros_val shape: (64628, 11)\n"
     ]
    }
   ],
   "source": [
    "print('Splitted dataset into train set, cross validation set and test set')\n",
    "print('Train shape:', train.shape)\n",
    "print('Test shape:', test.shape)\n",
    "print('cros_val shape:',cros_val.shape)"
   ]
  },
  {
   "cell_type": "markdown",
   "metadata": {
    "_uuid": "eed5724396be7176ec32e51950e53fce123b87dc"
   },
   "source": [
    "#### Splitted the dataset into 60,24,16."
   ]
  },
  {
   "cell_type": "markdown",
   "metadata": {
    "_uuid": "473425033c3670884d70409699fa618e0fc2f183"
   },
   "source": [
    "# Recommender system\n",
    "#### I don't have explicit ratings in my dataset, so I need to use implicit feedback from customers. Here item_count considered as implicit feedback from customers, item_counts represents customers's preference or confidence for a specific item. \n",
    "\n",
    "#### I will use implicit Alternating Least Squares (ALS) as a recommendation model. To go forward we need two csr matrix, user_items (csr_matrix) – Sparse matrix containing the liked items for the user and item_users (csr_matrix) – Matrix of confidences for the liked items. This matrix should be a csr_matrix where the rows of the matrix are the item, the columns are the users that liked that item, and the value is the confidence that the user liked the item."
   ]
  },
  {
   "cell_type": "code",
   "execution_count": 20,
   "metadata": {
    "_uuid": "00a5505bd5f655a38d337bd177e6767142596016"
   },
   "outputs": [],
   "source": [
    "import scipy.sparse as sparse\n",
    "user_items = sparse.csr_matrix((train['item_count'].astype(float),(train['userId'], train['itemId'])))\n",
    "item_users = sparse.csr_matrix((train['item_count'].astype(float),(train['itemId'], train['userId'])))"
   ]
  },
  {
   "cell_type": "code",
   "execution_count": 21,
   "metadata": {
    "_uuid": "18289ed100c8bff6ba5d3030d40fbd0759b8e21f"
   },
   "outputs": [
    {
     "name": "stdout",
     "output_type": "stream",
     "text": [
      "  (0, 10245)\t1.0\n",
      "  (0, 27974)\t1.0\n",
      "  (0, 30094)\t1.0\n",
      "  (0, 62148)\t1.0\n",
      "  (1, 30300)\t1.0\n",
      "  (2, 10508)\t1.0\n",
      "  (2, 24852)\t1.0\n",
      "  (2, 42938)\t1.0\n",
      "  (2, 49491)\t1.0\n",
      "  (3, 18148)\t1.0\n",
      "  (3, 27487)\t1.0\n",
      "  (3, 44722)\t1.0\n",
      "  (3, 67581)\t1.0\n",
      "  (4, 8042)\t1.0\n",
      "  (4, 19024)\t1.0\n",
      "  (4, 19897)\t1.0\n",
      "  (4, 24292)\t1.0\n",
      "  (4, 35717)\t1.0\n",
      "  (4, 35747)\t1.0\n",
      "  (4, 38992)\t5.0\n",
      "  (4, 40428)\t4.0\n",
      "  (4, 66014)\t1.0\n",
      "  (5, 53978)\t1.0\n",
      "  (6, 2162)\t2.0\n",
      "  (6, 5753)\t1.0\n",
      "  :\t:\n",
      "  (53397, 34710)\t1.0\n",
      "  (53397, 39157)\t1.0\n",
      "  (53397, 46744)\t1.0\n",
      "  (53397, 50097)\t1.0\n",
      "  (53397, 56267)\t1.0\n",
      "  (53397, 66850)\t1.0\n",
      "  (53399, 59001)\t1.0\n",
      "  (53401, 2603)\t1.0\n",
      "  (53401, 9811)\t1.0\n",
      "  (53401, 12394)\t1.0\n",
      "  (53401, 13644)\t1.0\n",
      "  (53401, 14191)\t1.0\n",
      "  (53401, 23215)\t1.0\n",
      "  (53401, 26125)\t1.0\n",
      "  (53401, 27942)\t1.0\n",
      "  (53401, 34807)\t1.0\n",
      "  (53401, 34849)\t1.0\n",
      "  (53401, 44764)\t1.0\n",
      "  (53401, 47134)\t1.0\n",
      "  (53401, 47813)\t1.0\n",
      "  (53401, 49219)\t1.0\n",
      "  (53401, 49468)\t1.0\n",
      "  (53401, 54297)\t1.0\n",
      "  (53402, 22079)\t1.0\n",
      "  (53402, 25703)\t1.0\n"
     ]
    }
   ],
   "source": [
    "print(item_users)"
   ]
  },
  {
   "cell_type": "markdown",
   "metadata": {
    "_uuid": "82e7f6941050798970155136b7b21ff825e47cde"
   },
   "source": [
    "#### User 40428 bought item 4 6 times already, so s/he pretty confident about the item 4 or possesses higher preference for item 4."
   ]
  },
  {
   "cell_type": "code",
   "execution_count": 22,
   "metadata": {
    "_uuid": "874da32d7662f635b3a9a5c5ab8bcf135772806e"
   },
   "outputs": [],
   "source": [
    "import os\n",
    "os.environ['MKL_NUM_THREADS'] = '1' #To avoid multithreading.\n",
    "os.environ['OPENBLAS_NUM_THREADS'] = '1'\n",
    "import implicit\n",
    "model = implicit.als.AlternatingLeastSquares(factors = 500, iterations = 10)\n",
    "''''Parameters: (factors=100, regularization=0.01, dtype=<type 'numpy.float32'>, use_native=True, use_cg=True, \n",
    "use_gpu=False, iterations=15, calculate_training_loss=False, num_threads=0)''';"
   ]
  },
  {
   "cell_type": "code",
   "execution_count": 23,
   "metadata": {
    "_uuid": "38bdc07db792e3802538c701d417915eb868e3c2"
   },
   "outputs": [],
   "source": [
    "alpha = 40\n",
    "train_conf = (item_users*alpha).astype('double')"
   ]
  },
  {
   "cell_type": "code",
   "execution_count": 24,
   "metadata": {
    "_uuid": "94af818cab32578d50656a12f5aa8c46ec0ffa7a"
   },
   "outputs": [
    {
     "name": "stderr",
     "output_type": "stream",
     "text": [
      "100%|██████████| 10.0/10 [00:31<00:00,  3.04s/it]\n"
     ]
    }
   ],
   "source": [
    "model.fit(train_conf)"
   ]
  },
  {
   "cell_type": "markdown",
   "metadata": {
    "_uuid": "3e927521862cbe4bd4985501569222748924f4a4"
   },
   "source": [
    "## Model evaluation \n",
    "#### Comparision of train, cros_val and test scores. I used map@k as evaluation matric. map@k considers the order of the predicted items so recommendation accuracy can be obtained easily. "
   ]
  },
  {
   "cell_type": "code",
   "execution_count": 25,
   "metadata": {
    "_uuid": "768069115e55c4b06900a51da17b136a1d23ff37"
   },
   "outputs": [],
   "source": [
    "import csv\n",
    "fields = 'userId', 'item_list'\n",
    "filename = 'rec_train.csv'\n",
    "with open (filename, 'a', newline = '') as f:\n",
    "    writer = csv.writer(f)\n",
    "    writer.writerow(fields)\n",
    "    userId = train['userId'].values.tolist()\n",
    "    for user in userId:\n",
    "        scores = []\n",
    "        items =[]\n",
    "        results = []\n",
    "        results.append(user)\n",
    "        recommendations = model.recommend(user, user_items, N = 5)\n",
    "        for item in recommendations:\n",
    "            ids, score = item\n",
    "            scores.append(score)\n",
    "            items.append(ids)\n",
    "        results.append(items)\n",
    "        writer.writerow(results)"
   ]
  },
  {
   "cell_type": "code",
   "execution_count": 26,
   "metadata": {
    "_uuid": "6108cce31f9989ae4da18809e9142deb1274a48b"
   },
   "outputs": [
    {
     "name": "stdout",
     "output_type": "stream",
     "text": [
      "Mean avg. precision at k for train set: 0.00002063\n"
     ]
    }
   ],
   "source": [
    "predicted = pd.read_csv('rec_train.csv')\n",
    "predicted = predicted['item_list']\n",
    "import ast\n",
    "predicted = [ast.literal_eval(a) for a in predicted]\n",
    "actual = train['itemId']\n",
    "import numpy as np\n",
    "actual = np.array(actual).reshape(193882,1)\n",
    "import ml_metrics\n",
    "score = ml_metrics.mapk(actual, predicted, 5)\n",
    "print('Mean avg. precision at k for train set:','{:.8f}'.format(score))"
   ]
  },
  {
   "cell_type": "code",
   "execution_count": 27,
   "metadata": {
    "_uuid": "87c30138930f9b088bec00998cf593a5b7ec77a9"
   },
   "outputs": [],
   "source": [
    "import csv\n",
    "fields = 'user_id', 'item_list'\n",
    "filename = 'rec_cros.csv'\n",
    "with open(filename, 'a', newline = '') as f:\n",
    "    writer = csv.writer(f)\n",
    "    writer.writerow(fields)\n",
    "    userId = cros_val['userId'].values.tolist()\n",
    "    for user in userId:\n",
    "        scores = []\n",
    "        items = []\n",
    "        results = []\n",
    "        results.append(user)\n",
    "        recommendations = model.recommend(user, user_items, N = 5)\n",
    "        for item in recommendations:\n",
    "            ids, score = item\n",
    "            scores.append(score)\n",
    "            items.append(ids)\n",
    "        results.append(items)\n",
    "        writer.writerow(results)"
   ]
  },
  {
   "cell_type": "code",
   "execution_count": 28,
   "metadata": {
    "_uuid": "cfaacb90084213cf1ccb8a840496619666686bec"
   },
   "outputs": [
    {
     "name": "stdout",
     "output_type": "stream",
     "text": [
      "Mean avg. precision at k for cros_val set: 0.090623\n"
     ]
    }
   ],
   "source": [
    "predicted_c = pd.read_csv('rec_cros.csv')\n",
    "predicted_c = predicted_c['item_list']\n",
    "import ast \n",
    "predicted_c = [ast.literal_eval(a) for a in predicted_c]\n",
    "actual_c = cros_val['itemId']\n",
    "import numpy as np\n",
    "actual_c = np.array(actual_c).reshape(64628,1)\n",
    "import ml_metrics\n",
    "score_c = ml_metrics.mapk(actual_c, predicted_c, 5)\n",
    "print('Mean avg. precision at k for cros_val set:','{:.6f}'.format(score_c))"
   ]
  },
  {
   "cell_type": "code",
   "execution_count": 29,
   "metadata": {
    "_uuid": "65726fa5f1d1fe17f770d4d7c9f515e37e79871a"
   },
   "outputs": [],
   "source": [
    "fields = 'user_id', 'item_list'\n",
    "filename = 'rec_test.csv'\n",
    "with open(filename, 'a', newline = '') as f:\n",
    "    writer = csv.writer(f)\n",
    "    writer.writerow(fields)\n",
    "    userId = test['userId'].values.tolist()\n",
    "    for user in userId:\n",
    "        scores = []\n",
    "        items = []\n",
    "        results = []\n",
    "        results.append(user)\n",
    "        recommendations = model.recommend(user, user_items, N = 5)\n",
    "        for item in recommendations:\n",
    "            ids, score = item\n",
    "            scores.append(score)\n",
    "            items.append(ids)\n",
    "        results.append(items)\n",
    "        writer.writerow(results)"
   ]
  },
  {
   "cell_type": "code",
   "execution_count": 30,
   "metadata": {
    "_uuid": "f6d46616489d2b471e67a258cbb3350c192f0c64"
   },
   "outputs": [
    {
     "name": "stdout",
     "output_type": "stream",
     "text": [
      "Mean avg. precision at k for test set: 0.089186\n"
     ]
    }
   ],
   "source": [
    "predicted_t = pd.read_csv('rec_test.csv')\n",
    "predicted_t = predicted_t['item_list']\n",
    "predicted_t = [ast.literal_eval(a) for a in predicted_t]\n",
    "actual_t = test['itemId']\n",
    "actual_t = np.array(actual_t).reshape(64628,1)\n",
    "score_t = ml_metrics.mapk(actual_t, predicted_t, 5)\n",
    "print('Mean avg. precision at k for test set:','{:.6f}'.format(score_t))"
   ]
  },
  {
   "cell_type": "markdown",
   "metadata": {
    "_uuid": "07c71152ff9851424fe565bd311c76c57bbd50ed"
   },
   "source": [
    "#### Fortunately or unfortunately I have lower score in training set. cros_val score and test score are good and consistant. "
   ]
  },
  {
   "cell_type": "code",
   "execution_count": 31,
   "metadata": {
    "_uuid": "0db1e97bf29ad22cdf122c86250fb4bfb9a483fd"
   },
   "outputs": [
    {
     "data": {
      "text/plain": [
       "(0.2055936122116023,\n",
       " [(4, 0.09716541064284075),\n",
       "  (18416, 0.06746789251817327),\n",
       "  (5664, 0.01152320801944037),\n",
       "  (18193, 0.01076883464702783),\n",
       "  (3298, 0.009468811155531996)],\n",
       " (array([[ 1.20038532,  0.85038123,  0.86206283, ...,  0.83566746,\n",
       "           0.88750451,  0.89688408],\n",
       "         [ 1.02078514,  0.85886864,  0.3764744 , ...,  0.34399923,\n",
       "           0.37645845,  0.382302  ],\n",
       "         [ 1.03480756,  1.0564241 ,  0.78053554, ...,  0.21352302,\n",
       "           0.26136783,  0.25366922],\n",
       "         ...,\n",
       "         [ 1.00312296,  1.00608608,  1.01656707, ...,  0.62018821,\n",
       "           0.00423606,  0.0077073 ],\n",
       "         [ 1.06534739,  1.07804553,  1.1108185 , ...,  1.05914125,\n",
       "           0.61682567, -0.00435509],\n",
       "         [ 1.07660648,  1.09104058,  1.11509518, ...,  1.07600034,\n",
       "           1.14466685,  0.61737012]]), False))"
      ]
     },
     "execution_count": 31,
     "metadata": {},
     "output_type": "execute_result"
    }
   ],
   "source": [
    "model.explain(40428, user_items, 4, N = 5)"
   ]
  },
  {
   "cell_type": "markdown",
   "metadata": {
    "_uuid": "37c432e6049172cafbab541c3087aea009431e06"
   },
   "source": [
    "#### We can check the total predicted score for a specific user/item pair, e.g., 40428/4 pair total score is 0.2. Also top 5 (items) contributions for this pair is return by model.explain. So the model can explain the reason behind the recommendation."
   ]
  },
  {
   "cell_type": "code",
   "execution_count": 32,
   "metadata": {
    "_uuid": "0b00196f86ffe398bbbf93a0b82d3f60a4c9d2c1"
   },
   "outputs": [
    {
     "name": "stdout",
     "output_type": "stream",
     "text": [
      "List of similar items for itemId 4:\n"
     ]
    },
    {
     "data": {
      "text/plain": [
       "[(4, 0.1583462),\n",
       " (17294, 0.15257971),\n",
       " (18416, 0.15100181),\n",
       " (33646, 0.14369155),\n",
       " (7619, 0.13908173)]"
      ]
     },
     "execution_count": 32,
     "metadata": {},
     "output_type": "execute_result"
    }
   ],
   "source": [
    "print('List of similar items for itemId 4:')\n",
    "model.similar_items(4, N = 5)"
   ]
  },
  {
   "cell_type": "code",
   "execution_count": 33,
   "metadata": {
    "_uuid": "2ef9f724f2b6cf13cd8ecf6fe0c29eb4267621e0"
   },
   "outputs": [
    {
     "name": "stdout",
     "output_type": "stream",
     "text": [
      "List of similar users for userId 40428:\n"
     ]
    },
    {
     "data": {
      "text/plain": [
       "[(40428, 11.148637),\n",
       " (38992, 9.129002),\n",
       " (19024, 8.761371),\n",
       " (23007, 8.758601),\n",
       " (39821, 8.758567)]"
      ]
     },
     "execution_count": 33,
     "metadata": {},
     "output_type": "execute_result"
    }
   ],
   "source": [
    "print('List of similar users for userId 40428:')\n",
    "model.similar_users(40428, N = 5)"
   ]
  },
  {
   "cell_type": "markdown",
   "metadata": {
    "_uuid": "ae31884dfd496e34d3f4d12e900ec26f19aee627"
   },
   "source": [
    "## Food for thought\n",
    "#### 1. Why my training set has lower score?\n",
    "#### 2. model.recommend returns recommendation for 1 user only so I needed to write a csv with all recommendation. Is there any way to get recommendations for all user ids without exporting csv? I have tried with different alpha and regularizations.\n",
    "#### 3. What are the other evaluation matrics should I use?\n",
    "#### 4. How can I incorporate days and hours in my model?\n",
    "### If you fork or create a separate kernel you may include any of the above.\n",
    "### Thanks for your patience and please let me know your feedback."
   ]
  }
 ],
 "metadata": {
  "kernelspec": {
   "display_name": "Python 3",
   "language": "python",
   "name": "python3"
  },
  "language_info": {
   "codemirror_mode": {
    "name": "ipython",
    "version": 3
   },
   "file_extension": ".py",
   "mimetype": "text/x-python",
   "name": "python",
   "nbconvert_exporter": "python",
   "pygments_lexer": "ipython3",
   "version": "3.6.6"
  }
 },
 "nbformat": 4,
 "nbformat_minor": 1
}
