{
 "cells": [
  {
   "cell_type": "code",
   "execution_count": 1,
   "metadata": {
    "_cell_guid": "79c7e3d0-c299-4dcb-8224-4455121ee9b0",
    "_uuid": "d629ff2d2480ee46fbb7e2d37f6b5fab8052498a",
    "execution": {
     "iopub.execute_input": "2020-08-31T09:23:17.720834Z",
     "iopub.status.busy": "2020-08-31T09:23:17.719561Z",
     "iopub.status.idle": "2020-08-31T09:23:17.734978Z",
     "shell.execute_reply": "2020-08-31T09:23:17.733917Z"
    },
    "papermill": {
     "duration": 0.041819,
     "end_time": "2020-08-31T09:23:17.735178",
     "exception": false,
     "start_time": "2020-08-31T09:23:17.693359",
     "status": "completed"
    },
    "tags": []
   },
   "outputs": [
    {
     "name": "stdout",
     "output_type": "stream",
     "text": [
      "\n",
      "Keys of Iris dataset:\n",
      "Index(['5.1', '3.5', '1.4', '0.2', 'Iris-setosa'], dtype='object')\n",
      "\n",
      "Number of rows and columns of Iris dataset:\n",
      "(149, 5)\n"
     ]
    }
   ],
   "source": [
    "#1\n",
    "import pandas as pd \n",
    "iris_data = pd.read_csv(\"../input/iris-dataset/iris.data.csv\")\n",
    "print(\"\\nKeys of Iris dataset:\")\n",
    "print(iris_data.keys())\n",
    "print(\"\\nNumber of rows and columns of Iris dataset:\")\n",
    "print(iris_data.shape)"
   ]
  },
  {
   "cell_type": "code",
   "execution_count": 2,
   "metadata": {
    "execution": {
     "iopub.execute_input": "2020-08-31T09:23:17.754580Z",
     "iopub.status.busy": "2020-08-31T09:23:17.753709Z",
     "iopub.status.idle": "2020-08-31T09:23:17.784770Z",
     "shell.execute_reply": "2020-08-31T09:23:17.785453Z"
    },
    "papermill": {
     "duration": 0.043542,
     "end_time": "2020-08-31T09:23:17.785624",
     "exception": false,
     "start_time": "2020-08-31T09:23:17.742082",
     "status": "completed"
    },
    "tags": []
   },
   "outputs": [
    {
     "name": "stdout",
     "output_type": "stream",
     "text": [
      "<class 'pandas.core.frame.DataFrame'>\n",
      "RangeIndex: 149 entries, 0 to 148\n",
      "Data columns (total 5 columns):\n",
      " #   Column       Non-Null Count  Dtype  \n",
      "---  ------       --------------  -----  \n",
      " 0   5.1          149 non-null    float64\n",
      " 1   3.5          149 non-null    float64\n",
      " 2   1.4          149 non-null    float64\n",
      " 3   0.2          149 non-null    float64\n",
      " 4   Iris-setosa  149 non-null    object \n",
      "dtypes: float64(4), object(1)\n",
      "memory usage: 5.9+ KB\n",
      "None\n"
     ]
    }
   ],
   "source": [
    "#2\n",
    "import pandas as pd\n",
    "iris = pd.read_csv(\"../input/iris-dataset/iris.data.csv\")\n",
    "print(iris.info())\n"
   ]
  },
  {
   "cell_type": "code",
   "execution_count": 3,
   "metadata": {
    "execution": {
     "iopub.execute_input": "2020-08-31T09:23:17.805179Z",
     "iopub.status.busy": "2020-08-31T09:23:17.804315Z",
     "iopub.status.idle": "2020-08-31T09:23:18.101723Z",
     "shell.execute_reply": "2020-08-31T09:23:18.100924Z"
    },
    "papermill": {
     "duration": 0.309982,
     "end_time": "2020-08-31T09:23:18.101882",
     "exception": false,
     "start_time": "2020-08-31T09:23:17.791900",
     "status": "completed"
    },
    "tags": []
   },
   "outputs": [
    {
     "name": "stdout",
     "output_type": "stream",
     "text": [
      "NumPy array:\n",
      " [[1. 0. 0. 0.]\n",
      " [0. 1. 0. 0.]\n",
      " [0. 0. 1. 0.]\n",
      " [0. 0. 0. 1.]]\n",
      "\n",
      "SciPy sparse CSR matrix:\n",
      "   (0, 0)\t1.0\n",
      "  (1, 1)\t1.0\n",
      "  (2, 2)\t1.0\n",
      "  (3, 3)\t1.0\n"
     ]
    }
   ],
   "source": [
    "#3\n",
    "import numpy as np\n",
    "from scipy import sparse\n",
    "eye = np.eye(4)\n",
    "print(\"NumPy array:\\n\", eye)\n",
    "sparse_matrix = sparse.csr_matrix(eye)\n",
    "print(\"\\nSciPy sparse CSR matrix:\\n\", sparse_matrix)"
   ]
  },
  {
   "cell_type": "code",
   "execution_count": 4,
   "metadata": {
    "execution": {
     "iopub.execute_input": "2020-08-31T09:23:18.124182Z",
     "iopub.status.busy": "2020-08-31T09:23:18.123188Z",
     "iopub.status.idle": "2020-08-31T09:23:18.136254Z",
     "shell.execute_reply": "2020-08-31T09:23:18.135343Z"
    },
    "papermill": {
     "duration": 0.027914,
     "end_time": "2020-08-31T09:23:18.136425",
     "exception": false,
     "start_time": "2020-08-31T09:23:18.108511",
     "status": "completed"
    },
    "tags": []
   },
   "outputs": [
    {
     "name": "stdout",
     "output_type": "stream",
     "text": [
      "Shape of the data:\n",
      "(149, 5)\n",
      "\n",
      "Data Type:\n",
      "<class 'pandas.core.frame.DataFrame'>\n",
      "\n",
      "First 3 rows:\n",
      "   5.1  3.5  1.4  0.2  Iris-setosa\n",
      "0  4.9  3.0  1.4  0.2  Iris-setosa\n",
      "1  4.7  3.2  1.3  0.2  Iris-setosa\n",
      "2  4.6  3.1  1.5  0.2  Iris-setosa\n"
     ]
    }
   ],
   "source": [
    "#4\n",
    "import pandas as pd\n",
    "data = pd.read_csv(\"../input/iris-dataset/iris.data.csv\")\n",
    "print(\"Shape of the data:\")\n",
    "print(data.shape)\n",
    "print(\"\\nData Type:\")\n",
    "print(type(data))\n",
    "print(\"\\nFirst 3 rows:\")\n",
    "print(data.head(3))"
   ]
  }
 ],
 "metadata": {
  "kernelspec": {
   "display_name": "Python 3",
   "language": "python",
   "name": "python3"
  },
  "language_info": {
   "codemirror_mode": {
    "name": "ipython",
    "version": 3
   },
   "file_extension": ".py",
   "mimetype": "text/x-python",
   "name": "python",
   "nbconvert_exporter": "python",
   "pygments_lexer": "ipython3",
   "version": "3.7.6"
  },
  "papermill": {
   "duration": 6.252592,
   "end_time": "2020-08-31T09:23:18.253074",
   "environment_variables": {},
   "exception": null,
   "input_path": "__notebook__.ipynb",
   "output_path": "__notebook__.ipynb",
   "parameters": {},
   "start_time": "2020-08-31T09:23:12.000482",
   "version": "2.1.0"
  }
 },
 "nbformat": 4,
 "nbformat_minor": 4
}
