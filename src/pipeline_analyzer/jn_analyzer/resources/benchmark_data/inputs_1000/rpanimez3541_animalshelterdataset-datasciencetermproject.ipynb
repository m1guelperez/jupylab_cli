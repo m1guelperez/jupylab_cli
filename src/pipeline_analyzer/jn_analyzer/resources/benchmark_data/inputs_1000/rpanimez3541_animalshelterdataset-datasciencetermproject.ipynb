{
 "cells": [
  {
   "cell_type": "markdown",
   "metadata": {},
   "source": [
    "# Why this data?"
   ]
  },
  {
   "cell_type": "markdown",
   "metadata": {},
   "source": [
    "Data Set from year 2013 - 2018"
   ]
  },
  {
   "cell_type": "markdown",
   "metadata": {},
   "source": [
    "To be frank, I've no interest in pets. But, I question those who are. That is why I decided to explore this shelter dataset. I'll be looking for factors that make people abandon their pets and factors that make people adopt these pets. Again, I have little to no experience or understanding in the fields still, there should be some findings that I may conclude."
   ]
  },
  {
   "cell_type": "markdown",
   "metadata": {},
   "source": [
    "## Prep"
   ]
  },
  {
   "cell_type": "code",
   "execution_count": 1,
   "metadata": {
    "_cell_guid": "b1076dfc-b9ad-4769-8c92-a6c4dae69d19",
    "_uuid": "8f2839f25d086af736a60e9eeb907d3b93b6e0e5"
   },
   "outputs": [],
   "source": [
    "import numpy as np\n",
    "import matplotlib.pyplot as plt\n",
    "import pandas as pd\n",
    "import csv\n",
    "import seaborn as sns\n",
    "\n",
    "fig_size = (12, 8)"
   ]
  },
  {
   "cell_type": "code",
   "execution_count": 2,
   "metadata": {
    "_cell_guid": "79c7e3d0-c299-4dcb-8224-4455121ee9b0",
    "_uuid": "d629ff2d2480ee46fbb7e2d37f6b5fab8052498a"
   },
   "outputs": [],
   "source": [
    "df_in_out = pd.read_csv(\"../input/aac_intakes_outcomes.csv\")\n",
    "df_in = pd.read_csv(\"../input/aac_intakes.csv\")\n",
    "df_out = pd.read_csv(\"../input/aac_outcomes.csv\")"
   ]
  },
  {
   "cell_type": "code",
   "execution_count": 3,
   "metadata": {},
   "outputs": [
    {
     "name": "stdout",
     "output_type": "stream",
     "text": [
      "(79672, 41)\n",
      "(80187, 12)\n",
      "(80681, 12)\n"
     ]
    }
   ],
   "source": [
    "print(df_in_out.shape)\n",
    "print(df_in.shape)\n",
    "print(df_out.shape)\n",
    "df = df_in_out"
   ]
  },
  {
   "cell_type": "markdown",
   "metadata": {},
   "source": [
    "So by using the merege data set lose 80681 - 79672 = 1009 rows of data <br>\n",
    "1009 is ~1.25% of 80681 which is rather small so I'm okay with losing those <br>\n",
    "Hence I'll only use df_in_out [Merged data]"
   ]
  },
  {
   "cell_type": "markdown",
   "metadata": {},
   "source": [
    "Now to see how many values are missing?"
   ]
  },
  {
   "cell_type": "code",
   "execution_count": 4,
   "metadata": {},
   "outputs": [
    {
     "data": {
      "text/plain": [
       "age_upon_outcome                  0\n",
       "animal_id_outcome                 0\n",
       "date_of_birth                     0\n",
       "outcome_subtype               43324\n",
       "outcome_type                     10\n",
       "sex_upon_outcome                  1\n",
       "age_upon_outcome_(days)           0\n",
       "age_upon_outcome_(years)          0\n",
       "age_upon_outcome_age_group        0\n",
       "outcome_datetime                  0\n",
       "outcome_month                     0\n",
       "outcome_year                      0\n",
       "outcome_monthyear                 0\n",
       "outcome_weekday                   0\n",
       "outcome_hour                      0\n",
       "outcome_number                    0\n",
       "dob_year                          0\n",
       "dob_month                         0\n",
       "dob_monthyear                     0\n",
       "age_upon_intake                   0\n",
       "animal_id_intake                  0\n",
       "animal_type                       0\n",
       "breed                             0\n",
       "color                             0\n",
       "found_location                    0\n",
       "intake_condition                  0\n",
       "intake_type                       0\n",
       "sex_upon_intake                   1\n",
       "count                             0\n",
       "age_upon_intake_(days)            0\n",
       "age_upon_intake_(years)           0\n",
       "age_upon_intake_age_group         0\n",
       "intake_datetime                   0\n",
       "intake_month                      0\n",
       "intake_year                       0\n",
       "intake_monthyear                  0\n",
       "intake_weekday                    0\n",
       "intake_hour                       0\n",
       "intake_number                     0\n",
       "time_in_shelter                   0\n",
       "time_in_shelter_days              0\n",
       "dtype: int64"
      ]
     },
     "execution_count": 4,
     "metadata": {},
     "output_type": "execute_result"
    }
   ],
   "source": [
    "df.isnull().sum()"
   ]
  },
  {
   "cell_type": "markdown",
   "metadata": {},
   "source": [
    "Notice that more than half of the record <br>\n",
    "is missing 'outcome_subtype' <br>\n",
    "thus I decided to drop the column"
   ]
  },
  {
   "cell_type": "code",
   "execution_count": 5,
   "metadata": {},
   "outputs": [],
   "source": [
    "df = df.drop(['outcome_subtype'], axis = 1)"
   ]
  },
  {
   "cell_type": "markdown",
   "metadata": {},
   "source": [
    "Looking at the columns <br>\n",
    "breed is related to animal_type <br>\n",
    "So, I think I'll seperate the data by animal types"
   ]
  },
  {
   "cell_type": "code",
   "execution_count": 6,
   "metadata": {},
   "outputs": [
    {
     "data": {
      "text/plain": [
       "Index(['age_upon_outcome', 'animal_id_outcome', 'date_of_birth',\n",
       "       'outcome_type', 'sex_upon_outcome', 'age_upon_outcome_(days)',\n",
       "       'age_upon_outcome_(years)', 'age_upon_outcome_age_group',\n",
       "       'outcome_datetime', 'outcome_month', 'outcome_year',\n",
       "       'outcome_monthyear', 'outcome_weekday', 'outcome_hour',\n",
       "       'outcome_number', 'dob_year', 'dob_month', 'dob_monthyear',\n",
       "       'age_upon_intake', 'animal_id_intake', 'animal_type', 'breed', 'color',\n",
       "       'found_location', 'intake_condition', 'intake_type', 'sex_upon_intake',\n",
       "       'count', 'age_upon_intake_(days)', 'age_upon_intake_(years)',\n",
       "       'age_upon_intake_age_group', 'intake_datetime', 'intake_month',\n",
       "       'intake_year', 'intake_monthyear', 'intake_weekday', 'intake_hour',\n",
       "       'intake_number', 'time_in_shelter', 'time_in_shelter_days'],\n",
       "      dtype='object')"
      ]
     },
     "execution_count": 6,
     "metadata": {},
     "output_type": "execute_result"
    }
   ],
   "source": [
    "df.columns"
   ]
  },
  {
   "cell_type": "markdown",
   "metadata": {},
   "source": [
    "Let's look at the number of animal types"
   ]
  },
  {
   "cell_type": "code",
   "execution_count": 7,
   "metadata": {},
   "outputs": [
    {
     "data": {
      "text/plain": [
       "animal_type\n",
       "Bird       339\n",
       "Cat      29539\n",
       "Dog      45366\n",
       "Other     4428\n",
       "Name: animal_id_outcome, dtype: int64"
      ]
     },
     "execution_count": 7,
     "metadata": {},
     "output_type": "execute_result"
    }
   ],
   "source": [
    "df.groupby('animal_type')['animal_id_outcome'].count()"
   ]
  },
  {
   "cell_type": "markdown",
   "metadata": {},
   "source": [
    "I've expect Dogs and Cats to be greater in numbers <br>\n",
    "But not to this extent <br>\n",
    "So, change of plans <br>\n",
    "I think I will split the data into 3 groups:  dogs, cats and others <br>\n",
    "<br>\n",
    "For Dogs and Cats I will look at when and why were they left at the shelter <br>\n",
    "For others (including birds), I will explore and decide further"
   ]
  },
  {
   "cell_type": "code",
   "execution_count": 8,
   "metadata": {},
   "outputs": [
    {
     "name": "stdout",
     "output_type": "stream",
     "text": [
      "dogs: 45366\n",
      "cats: 29539\n",
      "others: 4767\n"
     ]
    }
   ],
   "source": [
    "dogs   = df[df.animal_type=='Dog']\n",
    "cats   = df[df.animal_type=='Cat']\n",
    "others = df[(df['animal_type'] != 'Dog') & (df['animal_type'] != 'Cat')]\n",
    "print(\"dogs: \"   + str(dogs['animal_id_outcome'].count()))\n",
    "print(\"cats: \"   + str(cats['animal_id_outcome'].count()))\n",
    "print(\"others: \" + str(others['animal_id_outcome'].count()))"
   ]
  },
  {
   "cell_type": "markdown",
   "metadata": {},
   "source": [
    "# Dogs"
   ]
  },
  {
   "cell_type": "markdown",
   "metadata": {},
   "source": [
    "We know from earlier that there are way more records of dogs <br>\n",
    "coming in and going out of the shelter more than any other animals <br>\n",
    "\n",
    "First and foremost let's explore dogs data"
   ]
  },
  {
   "cell_type": "markdown",
   "metadata": {},
   "source": [
    "## Gender of dogs changes?"
   ]
  },
  {
   "cell_type": "markdown",
   "metadata": {},
   "source": [
    "Well, in my country Thailand. Stray dogs caused so much problems <br>\n",
    "captured dogs will be sterilized so I figure would it be the same in the U.S.? <br>"
   ]
  },
  {
   "cell_type": "code",
   "execution_count": 9,
   "metadata": {},
   "outputs": [
    {
     "data": {
      "image/png": "[encoded data removed]",
      "text/plain": [
       "<Figure size 864x576 with 1 Axes>"
      ]
     },
     "metadata": {},
     "output_type": "display_data"
    }
   ],
   "source": [
    "x = pd.DataFrame({'intake': dogs['sex_upon_intake'].value_counts(), 'outcome': dogs['sex_upon_outcome'].value_counts()}, index = dogs['sex_upon_intake'].unique())\n",
    "ax = x.plot.bar(rot=0, figsize = fig_size)"
   ]
  },
  {
   "cell_type": "markdown",
   "metadata": {},
   "source": [
    "From the graph, my assumption holds true <br>\n",
    "Most of the dogs that came in the shelter got sterilized <br>"
   ]
  },
  {
   "cell_type": "markdown",
   "metadata": {},
   "source": [
    "## Breeds discrimination?"
   ]
  },
  {
   "cell_type": "markdown",
   "metadata": {},
   "source": [
    "Of to the next discovery, I am thinking of breed <br>\n",
    "Are the chance of sheltering dogs and release them affected by their breeds? <br>\n",
    "If so, can we identify the popular and unpopular breeds?"
   ]
  },
  {
   "cell_type": "markdown",
   "metadata": {},
   "source": [
    "First I want to observe the unpopular ones <br>\n",
    "Specifically stray dogs <br>\n",
    "\n",
    "Noted that this 'Stray' in this case can be interpret 2 ways <br>\n",
    "Either it is that those dogs are abandoned by their previous owner <br>\n",
    "Or that it is the breed of dogs that populate well and later taken in by government or shelter officers"
   ]
  },
  {
   "cell_type": "code",
   "execution_count": 10,
   "metadata": {},
   "outputs": [
    {
     "data": {
      "text/plain": [
       "Stray                 32157\n",
       "Owner Surrender        8924\n",
       "Public Assist          4103\n",
       "Euthanasia Request      182\n",
       "Name: intake_type, dtype: int64"
      ]
     },
     "execution_count": 10,
     "metadata": {},
     "output_type": "execute_result"
    }
   ],
   "source": [
    "dogs['intake_type'].value_counts()"
   ]
  },
  {
   "cell_type": "markdown",
   "metadata": {},
   "source": [
    "As I mentioned earlier, I am only interested in 'Stray' dogs <br>\n",
    "So let's look at their breed <br>"
   ]
  },
  {
   "cell_type": "code",
   "execution_count": 11,
   "metadata": {},
   "outputs": [
    {
     "data": {
      "text/plain": [
       "Pit Bull Mix                 4221\n",
       "Labrador Retriever Mix       3588\n",
       "Chihuahua Shorthair Mix      3449\n",
       "German Shepherd Mix          1386\n",
       "Australian Cattle Dog Mix     780\n",
       "Dachshund Mix                 589\n",
       "Miniature Poodle Mix          521\n",
       "Boxer Mix                     476\n",
       "Border Collie Mix             435\n",
       "Rat Terrier Mix               355\n",
       "Siberian Husky Mix            350\n",
       "Catahoula Mix                 331\n",
       "Australian Shepherd Mix       327\n",
       "Yorkshire Terrier Mix         327\n",
       "Jack Russell Terrier Mix      319\n",
       "Miniature Schnauzer Mix       311\n",
       "Beagle Mix                    295\n",
       "Great Pyrenees Mix            290\n",
       "Cairn Terrier Mix             274\n",
       "Staffordshire Mix             269\n",
       "Name: breed, dtype: int64"
      ]
     },
     "execution_count": 11,
     "metadata": {},
     "output_type": "execute_result"
    }
   ],
   "source": [
    "stray_dogs = dogs[dogs['intake_type'] == 'Stray']\n",
    "\n",
    "# Top 20\n",
    "stray_dogs['breed'].value_counts().head(20)"
   ]
  },
  {
   "cell_type": "code",
   "execution_count": 12,
   "metadata": {},
   "outputs": [
    {
     "data": {
      "text/plain": [
       "<matplotlib.axes._subplots.AxesSubplot at 0x7f47ef2dc208>"
      ]
     },
     "execution_count": 12,
     "metadata": {},
     "output_type": "execute_result"
    },
    {
     "data": {
      "image/png": "[encoded data removed]",
      "text/plain": [
       "<Figure size 864x576 with 1 Axes>"
      ]
     },
     "metadata": {},
     "output_type": "display_data"
    }
   ],
   "source": [
    "stray_dogs['breed'].value_counts().head(20).plot.bar(figsize = fig_size)"
   ]
  },
  {
   "cell_type": "markdown",
   "metadata": {},
   "source": [
    "The result for breed stray dogs coming in is quite surprising <br>\n",
    "The graph showed 'Pit Bull' coming in first then follow by 'Labrador' and 'Chihuahua' <br>\n",
    "\n",
    "Now let's proceed to outcome"
   ]
  },
  {
   "cell_type": "code",
   "execution_count": 13,
   "metadata": {},
   "outputs": [
    {
     "data": {
      "text/plain": [
       "Adoption           20581\n",
       "Return to Owner    13273\n",
       "Transfer            9697\n",
       "Euthanasia          1502\n",
       "Rto-Adopt            143\n",
       "Died                 142\n",
       "Missing               16\n",
       "Disposal              10\n",
       "Name: outcome_type, dtype: int64"
      ]
     },
     "execution_count": 13,
     "metadata": {},
     "output_type": "execute_result"
    }
   ],
   "source": [
    "dogs['outcome_type'].value_counts()"
   ]
  },
  {
   "cell_type": "markdown",
   "metadata": {},
   "source": [
    "For outcome, I want to see data of dogs being adopted <br>\n",
    "That should also include 'Return to Owner' <br>\n",
    "\n",
    "But to merge them just like that is wrong <br>\n",
    "So I must examine them separately first then decide <br>"
   ]
  },
  {
   "cell_type": "code",
   "execution_count": 14,
   "metadata": {},
   "outputs": [
    {
     "data": {
      "text/plain": [
       "Labrador Retriever Mix       2368\n",
       "Pit Bull Mix                 2324\n",
       "Chihuahua Shorthair Mix      2270\n",
       "German Shepherd Mix           922\n",
       "Australian Cattle Dog Mix     607\n",
       "Dachshund Mix                 390\n",
       "Border Collie Mix             352\n",
       "Boxer Mix                     306\n",
       "Miniature Poodle Mix          275\n",
       "Catahoula Mix                 250\n",
       "Australian Shepherd Mix       219\n",
       "Jack Russell Terrier Mix      215\n",
       "Cairn Terrier Mix             209\n",
       "Staffordshire Mix             206\n",
       "Rat Terrier Mix               205\n",
       "Pointer Mix                   197\n",
       "Chihuahua Longhair Mix        188\n",
       "Siberian Husky Mix            187\n",
       "Yorkshire Terrier Mix         182\n",
       "Beagle Mix                    173\n",
       "Name: breed, dtype: int64"
      ]
     },
     "execution_count": 14,
     "metadata": {},
     "output_type": "execute_result"
    }
   ],
   "source": [
    "a_dogs = dogs[dogs.outcome_type == 'Adoption']\n",
    "r_dogs = dogs[dogs.outcome_type == 'Return to Owner']\n",
    "a_r_dogs = dogs[(dogs.outcome_type == 'Adoption') | (dogs.outcome_type == 'Return to Owner')]\n",
    "\n",
    "# Top 20\n",
    "a_dogs['breed'].value_counts().head(20)"
   ]
  },
  {
   "cell_type": "code",
   "execution_count": 15,
   "metadata": {},
   "outputs": [
    {
     "data": {
      "text/plain": [
       "Pit Bull Mix                 2199\n",
       "Labrador Retriever Mix       1247\n",
       "Chihuahua Shorthair Mix      1169\n",
       "German Shepherd Mix           587\n",
       "Australian Cattle Dog Mix     251\n",
       "Miniature Poodle Mix          240\n",
       "Boxer Mix                     210\n",
       "Dachshund Mix                 202\n",
       "Siberian Husky Mix            194\n",
       "Border Collie Mix             175\n",
       "Yorkshire Terrier Mix         145\n",
       "Australian Shepherd Mix       140\n",
       "Rat Terrier Mix               136\n",
       "Miniature Schnauzer Mix       135\n",
       "Rottweiler Mix                128\n",
       "Catahoula Mix                 126\n",
       "Jack Russell Terrier Mix      113\n",
       "Staffordshire Mix             112\n",
       "Beagle Mix                    112\n",
       "Pit Bull                      107\n",
       "Name: breed, dtype: int64"
      ]
     },
     "execution_count": 15,
     "metadata": {},
     "output_type": "execute_result"
    }
   ],
   "source": [
    "r_dogs['breed'].value_counts().head(20)"
   ]
  },
  {
   "cell_type": "code",
   "execution_count": 16,
   "metadata": {},
   "outputs": [
    {
     "data": {
      "text/plain": [
       "Pit Bull Mix                 4523\n",
       "Labrador Retriever Mix       3615\n",
       "Chihuahua Shorthair Mix      3439\n",
       "German Shepherd Mix          1509\n",
       "Australian Cattle Dog Mix     858\n",
       "Dachshund Mix                 592\n",
       "Border Collie Mix             527\n",
       "Boxer Mix                     516\n",
       "Miniature Poodle Mix          515\n",
       "Siberian Husky Mix            381\n",
       "Catahoula Mix                 376\n",
       "Australian Shepherd Mix       359\n",
       "Rat Terrier Mix               341\n",
       "Jack Russell Terrier Mix      328\n",
       "Yorkshire Terrier Mix         327\n",
       "Staffordshire Mix             318\n",
       "Miniature Schnauzer Mix       307\n",
       "Beagle Mix                    285\n",
       "Chihuahua Longhair Mix        276\n",
       "Cairn Terrier Mix             272\n",
       "Name: breed, dtype: int64"
      ]
     },
     "execution_count": 16,
     "metadata": {},
     "output_type": "execute_result"
    }
   ],
   "source": [
    "a_r_dogs['breed'].value_counts().head(20)"
   ]
  },
  {
   "cell_type": "code",
   "execution_count": 17,
   "metadata": {},
   "outputs": [
    {
     "data": {
      "image/png": "[encoded data removed]",
      "text/plain": [
       "<Figure size 864x576 with 1 Axes>"
      ]
     },
     "metadata": {},
     "output_type": "display_data"
    }
   ],
   "source": [
    "x = pd.DataFrame({'adopted': a_dogs['breed'].value_counts().head(9), 'returned': r_dogs['breed'].value_counts().head(9), 'abandoned': stray_dogs['breed'].value_counts().head(9)}, index = a_r_dogs['breed'].value_counts().head(10).index.values)\n",
    "ax = x.plot.bar(rot=90, figsize = fig_size)"
   ]
  },
  {
   "cell_type": "markdown",
   "metadata": {},
   "source": [
    "From the graph, it is expected to see discrimination of 'Pit Bull' <br>\n",
    "'Pib Bull' came in first as 'abandoned' or 'stray' pets <br>\n",
    "But fall short to 'Labrador' as per number of adoption <br>\n",
    "\n",
    "On the other hand, 'Pit Bull' has the highest return to owner / abandon ratio <br>\n",
    "Facts:\n",
    "* Pit bull was taken in most (as stray)\n",
    "* There are fewer People who adopted Pit Bulls\n",
    "* Pit bulls are most likely breed to be returned to their owner\n",
    "\n",
    "My conclusion:\n",
    "\n",
    "I would not call it discrimination, but rather unique<br>\n",
    "'Pit Bull' owner are niche compare to other breed of dogs <br>\n",
    "But this niche group is quite loyal to their dogs <br>\n",
    "As their returned rate is rather high compare to the rest"
   ]
  },
  {
   "cell_type": "markdown",
   "metadata": {},
   "source": [
    "## When in? and When out?"
   ]
  },
  {
   "cell_type": "markdown",
   "metadata": {},
   "source": [
    "Lastly for dogs, are they any pattern in number of intakes and outcomes when looking at dates? <br>\n",
    "Fist I'll aggregate them by year"
   ]
  },
  {
   "cell_type": "code",
   "execution_count": 18,
   "metadata": {},
   "outputs": [],
   "source": [
    "dogs_year_in  = dogs.groupby(['intake_year'])\n",
    "dogs_year_out = dogs.groupby(['outcome_year'])"
   ]
  },
  {
   "cell_type": "code",
   "execution_count": 19,
   "metadata": {},
   "outputs": [
    {
     "data": {
      "text/plain": [
       "<matplotlib.axes._subplots.AxesSubplot at 0x7f47eca1ed30>"
      ]
     },
     "execution_count": 19,
     "metadata": {},
     "output_type": "execute_result"
    },
    {
     "data": {
      "image/png": "[encoded data removed]",
      "text/plain": [
       "<Figure size 864x576 with 1 Axes>"
      ]
     },
     "metadata": {},
     "output_type": "display_data"
    }
   ],
   "source": [
    "# ref 1\n",
    "# https://www.theguardian.com/us-news/2015/may/27/chimpanzee-animals-rights-new-york-court\n",
    "# ref 2\n",
    "# https://www.avma.org/Events/pethealth/Pages/default.aspx#May\n",
    "\n",
    "dogs_year_in['intake_month'].value_counts().sort_index().plot.bar(figsize = fig_size)"
   ]
  },
  {
   "cell_type": "markdown",
   "metadata": {},
   "source": [
    "We can observe some spikes in shelter intakes around April to May of 2015 and 2016 <br>\n",
    "In addtion, intakes on average is higher during spring (highest, March - May [U.S.]) and summer (June - August [U.S.]) <br>\n",
    "\n",
    "This information is too little to conclude."
   ]
  },
  {
   "cell_type": "code",
   "execution_count": 20,
   "metadata": {},
   "outputs": [
    {
     "data": {
      "text/plain": [
       "<matplotlib.axes._subplots.AxesSubplot at 0x7f47ec89a940>"
      ]
     },
     "execution_count": 20,
     "metadata": {},
     "output_type": "execute_result"
    },
    {
     "data": {
      "image/png": "[encoded data removed]",
      "text/plain": [
       "<Figure size 864x576 with 1 Axes>"
      ]
     },
     "metadata": {},
     "output_type": "display_data"
    }
   ],
   "source": [
    "dogs_year_out['outcome_month'].value_counts().sort_index().plot.bar(figsize = fig_size)"
   ]
  },
  {
   "cell_type": "markdown",
   "metadata": {},
   "source": [
    "Some thing has to happend in the U.S. during May of 2015 <br>\n",
    "having high spikes in both intakes and outcomes <br>\n",
    "\n",
    "Let's see 2015's data"
   ]
  },
  {
   "cell_type": "code",
   "execution_count": 21,
   "metadata": {},
   "outputs": [
    {
     "data": {
      "image/png": "[encoded data removed]",
      "text/plain": [
       "<Figure size 864x576 with 1 Axes>"
      ]
     },
     "metadata": {},
     "output_type": "display_data"
    }
   ],
   "source": [
    "dogs_in_2015  = dogs[dogs.intake_year == 2015].groupby(['intake_year'])['intake_month'].value_counts().sort_index()\n",
    "dogs_out_2015  = dogs[dogs.outcome_year == 2015].groupby(['outcome_year'])['outcome_month'].value_counts().sort_index()\n",
    "\n",
    "# dogs_2015_g_in  = dogs_in_2015.plot.bar(figsize = fig_size)\n",
    "# dogs_2015_g_out  = dogs_out_2015.plot.bar(figsize = fig_size)\n",
    "\n",
    "x = pd.DataFrame({'intake': dogs_in_2015, 'outcome': dogs_out_2015})\n",
    "ax = x.plot.bar(rot=90, figsize = fig_size)"
   ]
  },
  {
   "cell_type": "markdown",
   "metadata": {},
   "source": [
    "So in May and June of 2015, a spike exist for outcomes <br>\n",
    "for intakes, instead of spikes, I can observe a steady rise since February <br>\n",
    "\n",
    "Could this disaster be the result? <br>\n",
    "https://en.wikipedia.org/wiki/2015_Texas%E2%80%93Oklahoma_flood_and_tornado_outbreak\n",
    "https://en.wikipedia.org/wiki/Yarnell_Hill_Fire"
   ]
  },
  {
   "cell_type": "code",
   "execution_count": 22,
   "metadata": {},
   "outputs": [
    {
     "name": "stderr",
     "output_type": "stream",
     "text": [
      "/opt/conda/lib/python3.6/site-packages/ipykernel_launcher.py:1: SettingWithCopyWarning: \n",
      "A value is trying to be set on a copy of a slice from a DataFrame.\n",
      "Try using .loc[row_indexer,col_indexer] = value instead\n",
      "\n",
      "See the caveats in the documentation: http://pandas.pydata.org/pandas-docs/stable/indexing.html#indexing-view-versus-copy\n",
      "  \"\"\"Entry point for launching an IPython kernel.\n",
      "/opt/conda/lib/python3.6/site-packages/ipykernel_launcher.py:2: SettingWithCopyWarning: \n",
      "A value is trying to be set on a copy of a slice from a DataFrame.\n",
      "Try using .loc[row_indexer,col_indexer] = value instead\n",
      "\n",
      "See the caveats in the documentation: http://pandas.pydata.org/pandas-docs/stable/indexing.html#indexing-view-versus-copy\n",
      "  \n"
     ]
    },
    {
     "data": {
      "text/plain": [
       "<matplotlib.axes._subplots.AxesSubplot at 0x7f47eca1eef0>"
      ]
     },
     "execution_count": 22,
     "metadata": {},
     "output_type": "execute_result"
    },
    {
     "data": {
      "image/png": "[encoded data removed]",
      "text/plain": [
       "<Figure size 864x576 with 1 Axes>"
      ]
     },
     "metadata": {},
     "output_type": "display_data"
    }
   ],
   "source": [
    "dogs[\"intake_date\"]  = pd.to_datetime(dogs[\"intake_datetime\"]).dt.date\n",
    "dogs[\"outcome_date\"] = pd.to_datetime(dogs[\"outcome_datetime\"]).dt.date\n",
    "dogs[(dogs.intake_year == 2015) & (dogs.intake_month == 5)]['intake_date'].value_counts().sort_index().plot.bar(figsize = fig_size)"
   ]
  },
  {
   "cell_type": "code",
   "execution_count": 23,
   "metadata": {},
   "outputs": [
    {
     "data": {
      "text/plain": [
       "<matplotlib.axes._subplots.AxesSubplot at 0x7f47ef3331d0>"
      ]
     },
     "execution_count": 23,
     "metadata": {},
     "output_type": "execute_result"
    },
    {
     "data": {
      "image/png": "[encoded data removed]",
      "text/plain": [
       "<Figure size 864x576 with 1 Axes>"
      ]
     },
     "metadata": {},
     "output_type": "display_data"
    }
   ],
   "source": [
    "dogs[(dogs.outcome_year == 2015) & (dogs.outcome_month == 5)]['outcome_date'].value_counts().sort_index().plot.bar(figsize = fig_size)"
   ]
  },
  {
   "cell_type": "markdown",
   "metadata": {},
   "source": [
    "For, intakes there's a steady increasing trend from the the beginning of the month until the very end <br>\n",
    "This indicates that something happened and animals were found and taken it <br>\n",
    "\n",
    "As for outcome, the number piled at the beginning of the month and the end <br>\n",
    "If the disaster is the cause, then this number indicates 2 disasters <br>\n",
    "one at the end of last month and another one around middle of this month <br>\n",
    "\n",
    "Which is not the case, it's likely something else"
   ]
  },
  {
   "cell_type": "markdown",
   "metadata": {},
   "source": [
    "# Cats"
   ]
  },
  {
   "cell_type": "markdown",
   "metadata": {},
   "source": [
    "The number of records of cats come in second, <br>\n",
    "Let's answer the same question I did so with dogs <br>\n",
    "\n",
    "Does cat get sterilized? or it is just against dogs?"
   ]
  },
  {
   "cell_type": "markdown",
   "metadata": {},
   "source": [
    "## Gender of cats changes?"
   ]
  },
  {
   "cell_type": "code",
   "execution_count": 24,
   "metadata": {},
   "outputs": [
    {
     "data": {
      "image/png": "[encoded data removed]",
      "text/plain": [
       "<Figure size 864x576 with 1 Axes>"
      ]
     },
     "metadata": {},
     "output_type": "display_data"
    }
   ],
   "source": [
    "x = pd.DataFrame({'intake': cats['sex_upon_intake'].value_counts(), 'outcome': cats['sex_upon_outcome'].value_counts()}, index = cats['sex_upon_intake'].unique())\n",
    "ax = x.plot.bar(rot=0, figsize = fig_size)"
   ]
  },
  {
   "cell_type": "markdown",
   "metadata": {},
   "source": [
    "The ratio of cats being sterilized is similiar or equal to dogs <br>\n",
    "No surprise value here, cats are being treated the same way."
   ]
  },
  {
   "cell_type": "markdown",
   "metadata": {},
   "source": [
    "# Breed discrimination?"
   ]
  },
  {
   "cell_type": "markdown",
   "metadata": {},
   "source": [
    "I know there is quite a number of cat people out there <br>\n",
    "But, is there a pattern of mutual preferrence among them? <br>\n",
    "\n",
    "Does any breed of cats is more popular or unpopular?"
   ]
  },
  {
   "cell_type": "markdown",
   "metadata": {},
   "source": [
    "First, always the unpopylar ones <br>\n",
    "I'm looking at 'Stray' cats <br>\n",
    "\n",
    "Noted that there actually people who request for Euthanasia for their cats <br>\n",
    "I thought most people will just leave their cats when they are old at home <br>"
   ]
  },
  {
   "cell_type": "code",
   "execution_count": 25,
   "metadata": {},
   "outputs": [
    {
     "data": {
      "text/plain": [
       "Stray                 23042\n",
       "Owner Surrender        5767\n",
       "Public Assist           672\n",
       "Euthanasia Request       58\n",
       "Name: intake_type, dtype: int64"
      ]
     },
     "execution_count": 25,
     "metadata": {},
     "output_type": "execute_result"
    }
   ],
   "source": [
    "cats['intake_type'].value_counts()"
   ]
  },
  {
   "cell_type": "code",
   "execution_count": 26,
   "metadata": {},
   "outputs": [
    {
     "data": {
      "text/plain": [
       "Domestic Shorthair Mix         18494\n",
       "Domestic Medium Hair Mix        1832\n",
       "Domestic Longhair Mix            920\n",
       "Siamese Mix                      757\n",
       "Domestic Shorthair               261\n",
       "American Shorthair Mix           176\n",
       "Snowshoe Mix                     102\n",
       "Domestic Medium Hair              97\n",
       "Manx Mix                          52\n",
       "Maine Coon Mix                    50\n",
       "Siamese                           47\n",
       "Russian Blue Mix                  41\n",
       "Domestic Longhair                 22\n",
       "Himalayan Mix                     19\n",
       "Ragdoll Mix                       15\n",
       "Persian Mix                       12\n",
       "Balinese Mix                       8\n",
       "Angora Mix                         8\n",
       "American Curl Shorthair Mix        7\n",
       "Bengal Mix                         7\n",
       "Name: breed, dtype: int64"
      ]
     },
     "execution_count": 26,
     "metadata": {},
     "output_type": "execute_result"
    }
   ],
   "source": [
    "stray_cats = cats[cats['intake_type'] == 'Stray']\n",
    "\n",
    "# Top 20\n",
    "stray_cats['breed'].value_counts().head(20)"
   ]
  },
  {
   "cell_type": "markdown",
   "metadata": {},
   "source": [
    "ref for ['Domestic shorthair'](https://www.google.com/search?rlz=1C1CHBF_enTH842TH842&tbm=isch&q=domestic+shorthair&spell=1&sa=X&ved=0ahUKEwjU1IbPuvThAhUaT48KHch-D0kQBQhmKAA&biw=1920&bih=975&dpr=1)"
   ]
  },
  {
   "cell_type": "code",
   "execution_count": 27,
   "metadata": {},
   "outputs": [
    {
     "data": {
      "text/plain": [
       "<matplotlib.axes._subplots.AxesSubplot at 0x7f47ed1bfa90>"
      ]
     },
     "execution_count": 27,
     "metadata": {},
     "output_type": "execute_result"
    },
    {
     "data": {
      "image/png": "[encoded data removed]",
      "text/plain": [
       "<Figure size 864x576 with 1 Axes>"
      ]
     },
     "metadata": {},
     "output_type": "display_data"
    }
   ],
   "source": [
    "stray_cats['breed'].value_counts().head(5).plot.bar(figsize = fig_size)"
   ]
  },
  {
   "cell_type": "markdown",
   "metadata": {},
   "source": [
    "Wow, that was quite a number <br>\n",
    "Reality check()! <br>\n",
    "It could means either that <br>\n",
    "1. Short hairs are the less fortunate breed or\n",
    "2. Most of the cats in the U.S. is short hair as the number of intakes increases\n",
    "\n",
    "We have to look at the ratio <br>\n",
    "(Only if I managed to find it of course)"
   ]
  },
  {
   "cell_type": "markdown",
   "metadata": {},
   "source": [
    "Let's proceed to the out come"
   ]
  },
  {
   "cell_type": "code",
   "execution_count": 28,
   "metadata": {},
   "outputs": [
    {
     "data": {
      "text/plain": [
       "Adoption           20581\n",
       "Return to Owner    13273\n",
       "Transfer            9697\n",
       "Euthanasia          1502\n",
       "Rto-Adopt            143\n",
       "Died                 142\n",
       "Missing               16\n",
       "Disposal              10\n",
       "Name: outcome_type, dtype: int64"
      ]
     },
     "execution_count": 28,
     "metadata": {},
     "output_type": "execute_result"
    }
   ],
   "source": [
    "dogs['outcome_type'].value_counts()"
   ]
  },
  {
   "cell_type": "markdown",
   "metadata": {},
   "source": [
    "Same as what I did with dogs, for the very same reason <br>\n",
    "I need to consider 'Adoption' along with 'Return to owner <br>"
   ]
  },
  {
   "cell_type": "code",
   "execution_count": 29,
   "metadata": {},
   "outputs": [
    {
     "data": {
      "text/plain": [
       "Domestic Shorthair Mix      9865\n",
       "Domestic Medium Hair Mix    1037\n",
       "Domestic Longhair Mix        578\n",
       "Siamese Mix                  455\n",
       "Domestic Shorthair           179\n",
       "Name: breed, dtype: int64"
      ]
     },
     "execution_count": 29,
     "metadata": {},
     "output_type": "execute_result"
    }
   ],
   "source": [
    "a_cats = cats[cats.outcome_type == 'Adoption']\n",
    "r_cats = cats[cats.outcome_type == 'Return to Owner']\n",
    "a_r_cats = cats[(cats.outcome_type == 'Adoption') | (cats.outcome_type == 'Return to Owner')]\n",
    "\n",
    "# Top 20\n",
    "a_cats['breed'].value_counts().head(5)"
   ]
  },
  {
   "cell_type": "code",
   "execution_count": 30,
   "metadata": {},
   "outputs": [
    {
     "data": {
      "text/plain": [
       "Domestic Shorthair Mix      1051\n",
       "Domestic Longhair Mix        104\n",
       "Domestic Medium Hair Mix     104\n",
       "Siamese Mix                   69\n",
       "Domestic Shorthair            34\n",
       "Name: breed, dtype: int64"
      ]
     },
     "execution_count": 30,
     "metadata": {},
     "output_type": "execute_result"
    }
   ],
   "source": [
    "r_cats['breed'].value_counts().head(5)"
   ]
  },
  {
   "cell_type": "code",
   "execution_count": 31,
   "metadata": {},
   "outputs": [
    {
     "data": {
      "text/plain": [
       "Domestic Shorthair Mix      10916\n",
       "Domestic Medium Hair Mix     1141\n",
       "Domestic Longhair Mix         682\n",
       "Siamese Mix                   524\n",
       "Domestic Shorthair            213\n",
       "Name: breed, dtype: int64"
      ]
     },
     "execution_count": 31,
     "metadata": {},
     "output_type": "execute_result"
    }
   ],
   "source": [
    "a_r_cats['breed'].value_counts().head(5)"
   ]
  },
  {
   "cell_type": "markdown",
   "metadata": {},
   "source": [
    "Well, again no surprise value <br>\n",
    "There is a siginificant diffrence between **shorthair** and **mediumhair** <br>\n",
    "\n",
    "I think it is safe to say that there is just more cats with **shorthair** <br>\n",
    "It does not have anything to do with preferrence at all <br>\n",
    "Since, there is more **shorthair** coming in and out of the shelter"
   ]
  },
  {
   "cell_type": "markdown",
   "metadata": {},
   "source": [
    "Off to the last question"
   ]
  },
  {
   "cell_type": "markdown",
   "metadata": {},
   "source": [
    "# When in? and When out?"
   ]
  },
  {
   "cell_type": "markdown",
   "metadata": {},
   "source": [
    "We know for sure from examining dogs data that some event occured aroung April - June of 2015 <br>\n",
    "Does cat intakes and outcomes data corresponds to those of dogs? <br>\n",
    "If not can we conclude that those data are just pure chances?"
   ]
  },
  {
   "cell_type": "code",
   "execution_count": 32,
   "metadata": {},
   "outputs": [],
   "source": [
    "cats_year_in  = cats.groupby(['intake_year'])\n",
    "cats_year_out = cats.groupby(['outcome_year'])"
   ]
  },
  {
   "cell_type": "code",
   "execution_count": 33,
   "metadata": {},
   "outputs": [
    {
     "data": {
      "text/plain": [
       "<matplotlib.axes._subplots.AxesSubplot at 0x7f47ed131828>"
      ]
     },
     "execution_count": 33,
     "metadata": {},
     "output_type": "execute_result"
    },
    {
     "data": {
      "image/png": "[encoded data removed]",
      "text/plain": [
       "<Figure size 864x576 with 1 Axes>"
      ]
     },
     "metadata": {},
     "output_type": "display_data"
    }
   ],
   "source": [
    "cats_year_in['intake_month'].value_counts().sort_index().plot.bar(figsize = fig_size)"
   ]
  },
  {
   "cell_type": "markdown",
   "metadata": {},
   "source": [
    "For intakes earlier assumption holds true <br>\n",
    "Some thing is going on during May of 2015 <br>\n",
    "\n",
    "Unlike dogs which have constant intakes then spikes as of May 2015, <br>\n",
    "cat intakes pile up heavilty at second half of each year <br>"
   ]
  },
  {
   "cell_type": "code",
   "execution_count": 34,
   "metadata": {},
   "outputs": [
    {
     "data": {
      "text/plain": [
       "<matplotlib.axes._subplots.AxesSubplot at 0x7f47ed04bbe0>"
      ]
     },
     "execution_count": 34,
     "metadata": {},
     "output_type": "execute_result"
    },
    {
     "data": {
      "image/png": "[encoded data removed]",
      "text/plain": [
       "<Figure size 864x576 with 1 Axes>"
      ]
     },
     "metadata": {},
     "output_type": "display_data"
    }
   ],
   "source": [
    "cats_year_out['outcome_month'].value_counts().sort_index().plot.bar(figsize = fig_size)"
   ]
  },
  {
   "cell_type": "code",
   "execution_count": 35,
   "metadata": {},
   "outputs": [],
   "source": []
  }
 ],
 "metadata": {
  "kernelspec": {
   "display_name": "Python 3",
   "language": "python",
   "name": "python3"
  },
  "language_info": {
   "codemirror_mode": {
    "name": "ipython",
    "version": 3
   },
   "file_extension": ".py",
   "mimetype": "text/x-python",
   "name": "python",
   "nbconvert_exporter": "python",
   "pygments_lexer": "ipython3",
   "version": "3.6.6"
  }
 },
 "nbformat": 4,
 "nbformat_minor": 1
}
