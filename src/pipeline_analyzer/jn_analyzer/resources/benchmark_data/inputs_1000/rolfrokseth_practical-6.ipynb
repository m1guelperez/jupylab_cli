{
 "cells": [
  {
   "cell_type": "markdown",
   "metadata": {},
   "source": [
    "# Q.1\n",
    "\n",
    "- a) /user/rt/courses\n",
    "- b) Internal nodes are any nodes that has a chil node\n",
    "- c) cs016/ has 9 decendants\n",
    "- d) cs016/ has 1 ancestor, the /user/rt/courses node.\n",
    "- e) the programs/ and grades/ nodes\n",
    "- f) papers/ , bylow, sellhigh and demos/ , market\n",
    "- g) the depth of papers is 3. \n",
    "- h) the height of the tree is 5. "
   ]
  },
  {
   "cell_type": "markdown",
   "metadata": {},
   "source": [
    "# Q.2\n",
    "\n",
    "- a) Inorder(Left,Root,Right): 4,2,5,1,8,6,9,3,7,10\n",
    "- b) Preorder (Root,Left,Right): 1,2,4,5,3,6,8,9,7,10\n",
    "- c) Postorder (Left,Right,Root): 4,5,2,8,9,6,10,7,3,1"
   ]
  },
  {
   "cell_type": "code",
   "execution_count": 1,
   "metadata": {},
   "outputs": [
    {
     "name": "stdout",
     "output_type": "stream",
     "text": [
      "Collecting binarytree\r\n",
      "  Downloading https://files.pythonhosted.org/packages/4f/df/43fe21208abbb67a37c9aa1b970de64984b95959610b00d68316302b5fcd/binarytree-4.0.0.tar.gz\r\n",
      "Building wheels for collected packages: binarytree\r\n",
      "  Building wheel for binarytree (setup.py) ... \u001b[?25l-\b \bdone\r\n",
      "\u001b[?25h  Stored in directory: /tmp/.cache/pip/wheels/f0/a2/28/6186a7ac05e3a38d3f3823bc6a3839ed5035de2819f4ca71cd\r\n",
      "Successfully built binarytree\r\n",
      "Installing collected packages: binarytree\r\n",
      "Successfully installed binarytree-4.0.0\r\n",
      "Root height:  3\n",
      "Inorder:  [Node(4), Node(2), Node(5), Node(1), Node(8), Node(6), Node(9), Node(3), Node(7), Node(10)]\n",
      "Preorder:  [Node(1), Node(2), Node(4), Node(5), Node(3), Node(6), Node(8), Node(9), Node(7), Node(10)]\n",
      "Postorder:  [Node(4), Node(5), Node(2), Node(8), Node(9), Node(6), Node(10), Node(7), Node(3), Node(1)]\n",
      "\n",
      "    __1______\n",
      "   /         \\\n",
      "  2         __3\n",
      " / \\       /   \\\n",
      "4   5     6     7\n",
      "         / \\     \\\n",
      "        8   9     10\n",
      "\n"
     ]
    }
   ],
   "source": [
    "!pip install binarytree\n",
    "#!pip install anytree\n",
    "\n",
    "\n",
    "from binarytree import Node\n",
    "\n",
    "root = Node(1)\n",
    "root.left = Node(2)\n",
    "root.right = Node(3)\n",
    "root.left.left = Node(4)\n",
    "root.left.right = Node(5)\n",
    "root.right.left = Node(6)\n",
    "root.right.right = Node(7)\n",
    "root.right.left.left = Node(8)\n",
    "root.right.left.right = Node(9)\n",
    "root.right.right.right = Node(10)\n",
    "                             \n",
    "print(\"Root height: \", root.height)\n",
    "print(\"Inorder: \", root.inorder)\n",
    "print(\"Preorder: \", root.preorder)\n",
    "print(\"Postorder: \", root.postorder)\n",
    "print(root)\n",
    "\n",
    "\n"
   ]
  }
 ],
 "metadata": {
  "kernelspec": {
   "display_name": "Python 3",
   "language": "python",
   "name": "python3"
  },
  "language_info": {
   "codemirror_mode": {
    "name": "ipython",
    "version": 3
   },
   "file_extension": ".py",
   "mimetype": "text/x-python",
   "name": "python",
   "nbconvert_exporter": "python",
   "pygments_lexer": "ipython3",
   "version": "3.6.4"
  }
 },
 "nbformat": 4,
 "nbformat_minor": 1
}
