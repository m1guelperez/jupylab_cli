{
 "cells": [
  {
   "cell_type": "markdown",
   "metadata": {
    "_cell_guid": "9f036d7f-e7b6-44cf-bbbd-af0304344da4",
    "_uuid": "fc0eb870b7099e2e13e79bb2ede6aef76224ffcf"
   },
   "source": [
    "Let's plot a bar chart. I'm going to do it in maplotlib first (warning: fairly involved) and then using seaborn, which I will import at the bottom right before I use it."
   ]
  },
  {
   "cell_type": "code",
   "execution_count": 1,
   "metadata": {
    "_cell_guid": "039e963a-0a48-464a-92b9-f00b86bb204c",
    "_uuid": "b28ecc0d6ceafcb23be8c7c42136e559b8de505b"
   },
   "outputs": [
    {
     "data": {
      "text/html": [
       "<div>\n",
       "<style>\n",
       "    .dataframe thead tr:only-child th {\n",
       "        text-align: right;\n",
       "    }\n",
       "\n",
       "    .dataframe thead th {\n",
       "        text-align: left;\n",
       "    }\n",
       "\n",
       "    .dataframe tbody tr th {\n",
       "        vertical-align: top;\n",
       "    }\n",
       "</style>\n",
       "<table border=\"1\" class=\"dataframe\">\n",
       "  <thead>\n",
       "    <tr style=\"text-align: right;\">\n",
       "      <th></th>\n",
       "      <th>Have you ever taken a course in statistics?</th>\n",
       "      <th>Do you have any previous experience with programming?</th>\n",
       "      <th>What's your interest in data science?</th>\n",
       "      <th>Just for fun, do you prefer dogs or cat?</th>\n",
       "    </tr>\n",
       "  </thead>\n",
       "  <tbody>\n",
       "    <tr>\n",
       "      <th>0</th>\n",
       "      <td>Yep</td>\n",
       "      <td>Nope</td>\n",
       "      <td>I want to get a job where I use data science</td>\n",
       "      <td>Cats ?±</td>\n",
       "    </tr>\n",
       "    <tr>\n",
       "      <th>1</th>\n",
       "      <td>Yep</td>\n",
       "      <td>I have quite a bit of experience</td>\n",
       "      <td>I want to get a job where I use data science</td>\n",
       "      <td>Dogs ?¶</td>\n",
       "    </tr>\n",
       "    <tr>\n",
       "      <th>2</th>\n",
       "      <td>Yep</td>\n",
       "      <td>I have a little bit of experience</td>\n",
       "      <td>It will help me in my current job</td>\n",
       "      <td>Dogs ?¶</td>\n",
       "    </tr>\n",
       "    <tr>\n",
       "      <th>3</th>\n",
       "      <td>Nope</td>\n",
       "      <td>I have a little bit of experience</td>\n",
       "      <td>Just curious</td>\n",
       "      <td>Cats ?±</td>\n",
       "    </tr>\n",
       "    <tr>\n",
       "      <th>4</th>\n",
       "      <td>Yes, but I've forgotten everything</td>\n",
       "      <td>I have quite a bit of experience</td>\n",
       "      <td>I want to get a job where I use data science</td>\n",
       "      <td>Neither ?…</td>\n",
       "    </tr>\n",
       "  </tbody>\n",
       "</table>\n",
       "</div>"
      ],
      "text/plain": [
       "  Have you ever taken a course in statistics?  \\\n",
       "0                                         Yep   \n",
       "1                                         Yep   \n",
       "2                                         Yep   \n",
       "3                                        Nope   \n",
       "4          Yes, but I've forgotten everything   \n",
       "\n",
       "  Do you have any previous experience with programming?  \\\n",
       "0                                               Nope      \n",
       "1                   I have quite a bit of experience      \n",
       "2                  I have a little bit of experience      \n",
       "3                  I have a little bit of experience      \n",
       "4                   I have quite a bit of experience      \n",
       "\n",
       "          What's your interest in data science?  \\\n",
       "0  I want to get a job where I use data science   \n",
       "1  I want to get a job where I use data science   \n",
       "2             It will help me in my current job   \n",
       "3                                  Just curious   \n",
       "4  I want to get a job where I use data science   \n",
       "\n",
       "  Just for fun, do you prefer dogs or cat?  \n",
       "0                                  Cats ?±  \n",
       "1                                  Dogs ?¶  \n",
       "2                                  Dogs ?¶  \n",
       "3                                  Cats ?±  \n",
       "4                               Neither ?…  "
      ]
     },
     "execution_count": 1,
     "metadata": {},
     "output_type": "execute_result"
    }
   ],
   "source": [
    "import pandas as pd # data processing, CSV file I/O (e.g. pd.read_csv)\n",
    "import matplotlib.pyplot as plt # for plotting\n",
    "\n",
    "# read in our data\n",
    "dataframe = pd.read_csv(\"../input/anonymous-survey-responses.csv\")\n",
    "# look at the first few rows\n",
    "dataframe.head()"
   ]
  },
  {
   "cell_type": "markdown",
   "metadata": {
    "_cell_guid": "b4dc63d1-40a1-4afb-8826-10a0b143bb70",
    "_uuid": "7a9805176a18ea30530b5a304a34eed434f562ac"
   },
   "source": [
    "Plot a barchart using matplotlib. You will need to pass the function the following things:\n",
    "\n",
    "* The positions where the bars should be (as a list of numbers, e.g. [1, 2, 3])\n",
    "* The counts for each bar in order, also as a list of numbers\n",
    "* The labels for each bar in order, as a list of words, to be added after the bars are plotting using plt.xticks\n",
    "\n",
    "The first half of this cell is for the data preperation and the last three lines are the actual plotting."
   ]
  },
  {
   "cell_type": "code",
   "execution_count": 2,
   "metadata": {
    "_cell_guid": "59df5e74-a2ac-4642-93ee-44660f984c6c",
    "_uuid": "d5f277a764b212920a9aa8ef0ea8064ff72ad6d4"
   },
   "outputs": [
    {
     "data": {
      "text/plain": [
       "Text(0.5,1,'Pet Preferences')"
      ]
     },
     "execution_count": 2,
     "metadata": {},
     "output_type": "execute_result"
    },
    {
     "data": {
      "image/png": "[encoded data removed]",
      "text/plain": [
       "<matplotlib.figure.Figure at 0x7f80c0328978>"
      ]
     },
     "metadata": {},
     "output_type": "display_data"
    }
   ],
   "source": [
    "# Matplotlib is a little bit involved, so we need to do quite a bit of \n",
    "# data manipulation before we can make our bar chart\n",
    "\n",
    "## data preperation\n",
    "\n",
    "# count how often each pet preference is observed \n",
    "petFreqTable = dataframe[\"Just for fun, do you prefer dogs or cat?\"].value_counts()\n",
    "\n",
    "# just FYI: this will get us a list of the names\n",
    "list(petFreqTable.index)\n",
    "# just FYI: this will get us a list of the counts\n",
    "petFreqTable.values\n",
    "\n",
    "# get all the name from our frequency plot & save them for later\n",
    "labels = list(petFreqTable.index)\n",
    "\n",
    "# generate a list of numbers as long as our number of labels\n",
    "positionsForBars = list(range(len(labels)))\n",
    "\n",
    "## actual plotting\n",
    "\n",
    "# pass the names and counts to the bar function\n",
    "plt.bar(positionsForBars, petFreqTable.values) # plot our bars\n",
    "plt.xticks(positionsForBars, labels) # add lables\n",
    "plt.title(\"Pet Preferences\")"
   ]
  },
  {
   "cell_type": "markdown",
   "metadata": {
    "_cell_guid": "16aada37-fdc4-468d-b00b-1d55f8c96e52",
    "_uuid": "b80b258f25776d22ca57bbd3015a019f8d319894"
   },
   "source": [
    "Another option for plotting is the seaborn package, which is much more streamlined, as you can see."
   ]
  },
  {
   "cell_type": "code",
   "execution_count": 3,
   "metadata": {
    "_cell_guid": "624e12c6-f6de-4069-b974-251a6e181ce5",
    "_uuid": "7744aa1e2fed1c90a6e047b9364745c0f2ac9eb6"
   },
   "outputs": [
    {
     "data": {
      "text/plain": [
       "Text(0.5,1,'Dogs vs. Cats')"
      ]
     },
     "execution_count": 3,
     "metadata": {},
     "output_type": "execute_result"
    },
    {
     "data": {
      "image/png": "[encoded data removed]",
      "text/plain": [
       "<matplotlib.figure.Figure at 0x7f80bcf4a358>"
      ]
     },
     "metadata": {},
     "output_type": "display_data"
    }
   ],
   "source": [
    "# We can also use the seaborn package to plot\n",
    "\n",
    "# import seaborn and alias it as sns\n",
    "import seaborn as sns\n",
    "\n",
    "# make a barplot from a column in our dataframe\n",
    "sns.countplot(dataframe[\"Just for fun, do you prefer dogs or cat?\"]).set_title(\"Dogs vs. Cats\")"
   ]
  }
 ],
 "metadata": {
  "kernelspec": {
   "display_name": "Python 3",
   "language": "python",
   "name": "python3"
  },
  "language_info": {
   "codemirror_mode": {
    "name": "ipython",
    "version": 3
   },
   "file_extension": ".py",
   "mimetype": "text/x-python",
   "name": "python",
   "nbconvert_exporter": "python",
   "pygments_lexer": "ipython3",
   "version": "3.6.3"
  }
 },
 "nbformat": 4,
 "nbformat_minor": 1
}
