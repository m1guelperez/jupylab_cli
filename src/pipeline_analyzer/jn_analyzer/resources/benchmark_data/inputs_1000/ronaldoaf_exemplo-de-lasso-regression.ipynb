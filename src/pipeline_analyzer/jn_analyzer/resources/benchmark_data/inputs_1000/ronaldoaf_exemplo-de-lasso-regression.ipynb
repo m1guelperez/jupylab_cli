{
 "cells": [
  {
   "cell_type": "code",
   "execution_count": 1,
   "metadata": {
    "_cell_guid": "b1076dfc-b9ad-4769-8c92-a6c4dae69d19",
    "_uuid": "8f2839f25d086af736a60e9eeb907d3b93b6e0e5"
   },
   "outputs": [
    {
     "data": {
      "text/html": [
       "<div>\n",
       "<style scoped>\n",
       "    .dataframe tbody tr th:only-of-type {\n",
       "        vertical-align: middle;\n",
       "    }\n",
       "\n",
       "    .dataframe tbody tr th {\n",
       "        vertical-align: top;\n",
       "    }\n",
       "\n",
       "    .dataframe thead th {\n",
       "        text-align: right;\n",
       "    }\n",
       "</style>\n",
       "<table border=\"1\" class=\"dataframe\">\n",
       "  <thead>\n",
       "    <tr style=\"text-align: right;\">\n",
       "      <th></th>\n",
       "      <th>s_g</th>\n",
       "      <th>s_c</th>\n",
       "      <th>s_da</th>\n",
       "      <th>s_s</th>\n",
       "      <th>s_r</th>\n",
       "      <th>d_g</th>\n",
       "      <th>d_c</th>\n",
       "      <th>d_da</th>\n",
       "      <th>d_s</th>\n",
       "      <th>goal</th>\n",
       "      <th>goal_diff</th>\n",
       "      <th>oddsU</th>\n",
       "      <th>probU</th>\n",
       "      <th>probU_diff</th>\n",
       "      <th>mod0</th>\n",
       "      <th>mod25</th>\n",
       "      <th>mod50</th>\n",
       "      <th>mod75</th>\n",
       "      <th>pl_u</th>\n",
       "    </tr>\n",
       "  </thead>\n",
       "  <tbody>\n",
       "    <tr>\n",
       "      <th>0</th>\n",
       "      <td>0.0</td>\n",
       "      <td>6.0</td>\n",
       "      <td>54.0</td>\n",
       "      <td>8.0</td>\n",
       "      <td>0.0</td>\n",
       "      <td>0.0</td>\n",
       "      <td>4.0</td>\n",
       "      <td>12.0</td>\n",
       "      <td>6.0</td>\n",
       "      <td>1.25</td>\n",
       "      <td>1.25</td>\n",
       "      <td>1.925</td>\n",
       "      <td>0.493421</td>\n",
       "      <td>0.006579</td>\n",
       "      <td>0.0</td>\n",
       "      <td>1.0</td>\n",
       "      <td>0.0</td>\n",
       "      <td>0.0</td>\n",
       "      <td>0.4625</td>\n",
       "    </tr>\n",
       "    <tr>\n",
       "      <th>1</th>\n",
       "      <td>0.0</td>\n",
       "      <td>2.0</td>\n",
       "      <td>66.0</td>\n",
       "      <td>6.0</td>\n",
       "      <td>0.0</td>\n",
       "      <td>0.0</td>\n",
       "      <td>2.0</td>\n",
       "      <td>10.0</td>\n",
       "      <td>4.0</td>\n",
       "      <td>1.25</td>\n",
       "      <td>1.25</td>\n",
       "      <td>1.950</td>\n",
       "      <td>0.486842</td>\n",
       "      <td>0.013158</td>\n",
       "      <td>0.0</td>\n",
       "      <td>1.0</td>\n",
       "      <td>0.0</td>\n",
       "      <td>0.0</td>\n",
       "      <td>-1.0000</td>\n",
       "    </tr>\n",
       "    <tr>\n",
       "      <th>2</th>\n",
       "      <td>1.0</td>\n",
       "      <td>8.0</td>\n",
       "      <td>34.0</td>\n",
       "      <td>9.0</td>\n",
       "      <td>0.0</td>\n",
       "      <td>1.0</td>\n",
       "      <td>8.0</td>\n",
       "      <td>0.0</td>\n",
       "      <td>3.0</td>\n",
       "      <td>2.50</td>\n",
       "      <td>1.50</td>\n",
       "      <td>1.750</td>\n",
       "      <td>0.539474</td>\n",
       "      <td>0.039474</td>\n",
       "      <td>0.0</td>\n",
       "      <td>0.0</td>\n",
       "      <td>1.0</td>\n",
       "      <td>0.0</td>\n",
       "      <td>-1.0000</td>\n",
       "    </tr>\n",
       "    <tr>\n",
       "      <th>3</th>\n",
       "      <td>3.0</td>\n",
       "      <td>9.0</td>\n",
       "      <td>52.0</td>\n",
       "      <td>6.0</td>\n",
       "      <td>0.0</td>\n",
       "      <td>1.0</td>\n",
       "      <td>5.0</td>\n",
       "      <td>2.0</td>\n",
       "      <td>0.0</td>\n",
       "      <td>4.25</td>\n",
       "      <td>1.25</td>\n",
       "      <td>1.975</td>\n",
       "      <td>0.480263</td>\n",
       "      <td>0.019737</td>\n",
       "      <td>0.0</td>\n",
       "      <td>1.0</td>\n",
       "      <td>0.0</td>\n",
       "      <td>0.0</td>\n",
       "      <td>-1.0000</td>\n",
       "    </tr>\n",
       "    <tr>\n",
       "      <th>4</th>\n",
       "      <td>2.0</td>\n",
       "      <td>4.0</td>\n",
       "      <td>28.0</td>\n",
       "      <td>11.0</td>\n",
       "      <td>0.0</td>\n",
       "      <td>0.0</td>\n",
       "      <td>0.0</td>\n",
       "      <td>6.0</td>\n",
       "      <td>5.0</td>\n",
       "      <td>3.50</td>\n",
       "      <td>1.50</td>\n",
       "      <td>1.900</td>\n",
       "      <td>0.500000</td>\n",
       "      <td>0.000000</td>\n",
       "      <td>0.0</td>\n",
       "      <td>0.0</td>\n",
       "      <td>1.0</td>\n",
       "      <td>0.0</td>\n",
       "      <td>-1.0000</td>\n",
       "    </tr>\n",
       "  </tbody>\n",
       "</table>\n",
       "</div>"
      ],
      "text/plain": [
       "   s_g  s_c  s_da   s_s  s_r   ...    mod0  mod25  mod50  mod75    pl_u\n",
       "0  0.0  6.0  54.0   8.0  0.0   ...     0.0    1.0    0.0    0.0  0.4625\n",
       "1  0.0  2.0  66.0   6.0  0.0   ...     0.0    1.0    0.0    0.0 -1.0000\n",
       "2  1.0  8.0  34.0   9.0  0.0   ...     0.0    0.0    1.0    0.0 -1.0000\n",
       "3  3.0  9.0  52.0   6.0  0.0   ...     0.0    1.0    0.0    0.0 -1.0000\n",
       "4  2.0  4.0  28.0  11.0  0.0   ...     0.0    0.0    1.0    0.0 -1.0000\n",
       "\n",
       "[5 rows x 19 columns]"
      ]
     },
     "execution_count": 1,
     "metadata": {},
     "output_type": "execute_result"
    }
   ],
   "source": [
    "# -*- coding: utf-8 -*-\n",
    "import numpy as np # linear algebra\n",
    "import pandas as pd # data processing, CSV file I/O (e.g. pd.read_csv)\n",
    "from sklearn.linear_model import Lasso\n",
    "\n",
    "\n",
    "#Le o csv e filtra as colunas que serão utilizadas\n",
    "df=pd.read_csv('../input/jogos_.csv')\n",
    "df=df['s_g,s_c,s_da,s_s,s_r,d_g,d_c,d_da,d_s,goal,goal_diff,oddsU,probU,probU_diff,mod0,mod25,mod50,mod75,pl_u'.split(',')]\n",
    "\n",
    "#Remove as linhas estão NaN, (preguiça de procurar, mas como é só um exemplo de uso tudo bem)\n",
    "df.dropna(inplace=True)\n",
    "\n",
    "#Mostra as 5 primeiras linhas\n",
    "df.head(5)"
   ]
  },
  {
   "cell_type": "markdown",
   "metadata": {},
   "source": [
    "Agora vamos fazer uma Lasso Regression com alpha=1e-4 e ver como ficam os coeficientes da equação."
   ]
  },
  {
   "cell_type": "code",
   "execution_count": 2,
   "metadata": {
    "_cell_guid": "79c7e3d0-c299-4dcb-8224-4455121ee9b0",
    "_uuid": "d629ff2d2480ee46fbb7e2d37f6b5fab8052498a"
   },
   "outputs": [
    {
     "name": "stdout",
     "output_type": "stream",
     "text": [
      "\n",
      "pl_u= -0.00371659334*s_g + -0.00414871176*s_c + -0.000248670545*s_da + -0.00575672762*s_s + -0.0*s_r + -0.0271933122*d_g + -0.000386189549*d_c + -0.000590967238*d_da + -0.00131025568*d_s + -0.0*goal + 0.0857483357*goal_diff + 0.0616697013*oddsU + -0.0*probU + -0.0*probU_diff + 0.012222911*mod0 + 0.00387520584*mod25 + -1.25557802e-08*mod50 + -0.012530747*mod75 + -0.143807574\n"
     ]
    }
   ],
   "source": [
    "#Divide em X e Y\n",
    "X=df.loc[:,df.columns!='pl_u']\n",
    "Y=df.pl_u\n",
    "\n",
    "\n",
    "#Treinamos a regressão com alpha=1e-4  ( ou seja, 0.0001)\n",
    "reg1=Lasso(alpha=1e-4).fit(X,Y)\n",
    "\n",
    "#Exibe a equação\n",
    "print('\\npl_u= '+' + '.join([ \"{0:.9}\".format(reg1.coef_[i])+'*'+df.columns[col_sel] for i,col_sel in enumerate(range(len(X.columns))) ])+\" + {0:.9}\".format(reg1.intercept_))\n"
   ]
  },
  {
   "cell_type": "markdown",
   "metadata": {},
   "source": [
    "Perceba que coeficiente das colunas s_r, goal, probU e  probU_diff ficaram zerados. Lasso Regression acabou por fazer uma seleção de colunas na própria regressão linear.\n",
    "\n",
    "Vamos fazer uma nova regressão mas com alpha maior, alpha=1e-3"
   ]
  },
  {
   "cell_type": "code",
   "execution_count": 3,
   "metadata": {},
   "outputs": [
    {
     "name": "stdout",
     "output_type": "stream",
     "text": [
      "\n",
      "pl_u= -0.0024211369*s_g + -0.00395984658*s_c + -0.000251282403*s_da + -0.0056919051*s_s + -0.0*s_r + -0.0253008064*d_g + -0.000104370595*d_c + -0.000504947194*d_da + -0.000999275485*d_s + 0.0*goal + 0.0692845808*goal_diff + 0.0*oddsU + -0.0*probU + -0.0*probU_diff + 0.00809677527*mod0 + 0.0*mod25 + -0.0*mod50 + -0.00469689533*mod75 + -0.00821581949\n"
     ]
    }
   ],
   "source": [
    "#Treinamos a regressão com alpha=1e-3  ( ou seja, 0.001)\n",
    "reg2=Lasso(alpha=1e-3).fit(X,Y)\n",
    "\n",
    "#Exibe a equação\n",
    "print('\\npl_u= '+' + '.join([ \"{0:.9}\".format(reg2.coef_[i])+'*'+df.columns[col_sel] for i,col_sel in enumerate(range(len(X.columns))) ])+\" + {0:.9}\".format(reg2.intercept_))\n"
   ]
  },
  {
   "cell_type": "markdown",
   "metadata": {},
   "source": [
    "Perceba agora, que mais colunas tiveram seus coeficientes zerados"
   ]
  }
 ],
 "metadata": {
  "kernelspec": {
   "display_name": "Python 3",
   "language": "python",
   "name": "python3"
  },
  "language_info": {
   "codemirror_mode": {
    "name": "ipython",
    "version": 3
   },
   "file_extension": ".py",
   "mimetype": "text/x-python",
   "name": "python",
   "nbconvert_exporter": "python",
   "pygments_lexer": "ipython3",
   "version": "3.6.4"
  }
 },
 "nbformat": 4,
 "nbformat_minor": 1
}
