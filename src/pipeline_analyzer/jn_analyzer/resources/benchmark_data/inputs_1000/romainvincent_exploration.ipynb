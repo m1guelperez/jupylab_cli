{
 "cells": [
  {
   "cell_type": "markdown",
   "metadata": {
    "_cell_guid": "283e0f5c-859a-6a67-28ac-039044095a8e"
   },
   "source": [
    "Here are a few lines to clean up two inconsistencies in this data set : characters with unique logs and characters with two different races at the same time. "
   ]
  },
  {
   "cell_type": "markdown",
   "metadata": {
    "_cell_guid": "edc00ff5-1bff-d626-856e-5a7e6386b355"
   },
   "source": [
    "Here are a few lines to clean this data set from single logs characters and characters with several races."
   ]
  },
  {
   "cell_type": "code",
   "execution_count": 1,
   "metadata": {
    "_cell_guid": "271662c8-4c2d-4980-b159-bc0e3cd37258"
   },
   "outputs": [
    {
     "name": "stdout",
     "output_type": "stream",
     "text": [
      "location_coords.csv\n",
      "locations.csv\n",
      "wowah_data.csv\n",
      "zones.csv\n",
      "\n"
     ]
    }
   ],
   "source": [
    "import numpy as np\n",
    "import pandas as pd\n",
    "\n",
    "from subprocess import check_output\n",
    "print(check_output([\"ls\", \"../input\"]).decode(\"utf8\"))"
   ]
  },
  {
   "cell_type": "code",
   "execution_count": 2,
   "metadata": {
    "_cell_guid": "2ad735be-aa65-4810-b5ca-08c1c2714f06"
   },
   "outputs": [],
   "source": [
    "# date parsing function\n",
    "parser = lambda x: pd.to_datetime(x, format='%m/%d/%y %H:%M:%S')"
   ]
  },
  {
   "cell_type": "code",
   "execution_count": 3,
   "metadata": {
    "_cell_guid": "cd82df87-e3a1-4d24-817f-3cf90d31f7ba"
   },
   "outputs": [],
   "source": [
    "# load data\n",
    "df = pd.read_csv('../input/wowah_data.csv', parse_dates=[' timestamp'], date_parser=parser)"
   ]
  },
  {
   "cell_type": "markdown",
   "metadata": {
    "_cell_guid": "9486bcad-cac7-45ca-804f-e4414b21aff7"
   },
   "source": [
    "### Avatars\n",
    "Let's have a look at the avatars used by the players. Since players can have multiple avatars, their data is only a proxy to actual player's behavior."
   ]
  },
  {
   "cell_type": "code",
   "execution_count": 4,
   "metadata": {
    "_cell_guid": "934051e7-993e-4705-903d-dbec930ee469"
   },
   "outputs": [
    {
     "data": {
      "text/plain": [
       "37354"
      ]
     },
     "execution_count": 4,
     "metadata": {},
     "output_type": "execute_result"
    }
   ],
   "source": [
    "# group logs by character\n",
    "avatars = df.groupby('char')\n",
    "\n",
    "# number of unique characters\n",
    "len(avatars)"
   ]
  },
  {
   "cell_type": "code",
   "execution_count": 5,
   "metadata": {
    "_cell_guid": "0f3572d4-7f71-4fef-9dd7-e51954a6035e"
   },
   "outputs": [
    {
     "data": {
      "text/plain": [
       "8956"
      ]
     },
     "execution_count": 5,
     "metadata": {},
     "output_type": "execute_result"
    }
   ],
   "source": [
    "# count logs per characters\n",
    "log_number = avatars.count()\n",
    "\n",
    "# number of characters with a single log\n",
    "len(avatars.filter(lambda x: len(x) == 1))"
   ]
  },
  {
   "cell_type": "markdown",
   "metadata": {
    "_cell_guid": "8645b2e4-da62-4572-893b-368ef4dced99"
   },
   "source": [
    "It seems that a significant proportion of the logs belong to avatars who connected only once on the server. It could be a series of avatars left stillborn, or a bunch of bots spawning only for a second to spam the whole server before getting banned. Either way, there is not much we can do with these."
   ]
  },
  {
   "cell_type": "code",
   "execution_count": 6,
   "metadata": {
    "_cell_guid": "b0ed32fc-04e9-4d85-bebe-453b437c2500"
   },
   "outputs": [
    {
     "data": {
      "text/plain": [
       "28398"
      ]
     },
     "execution_count": 6,
     "metadata": {},
     "output_type": "execute_result"
    }
   ],
   "source": [
    "# clean data from single logs\n",
    "df = avatars.filter(lambda x: len(x) > 1)\n",
    "\n",
    "# number of remaining avatars\n",
    "avatars = df.groupby('char')\n",
    "len(avatars)"
   ]
  },
  {
   "cell_type": "markdown",
   "metadata": {
    "_cell_guid": "4ba68cbe-6610-4e0f-b85b-30e929d825c4"
   },
   "source": [
    "### Races\n",
    "Many of you have already looked at the races/classes combinations, so I'm not going to run the same analysis at length. But let's have a quick look."
   ]
  },
  {
   "cell_type": "code",
   "execution_count": 7,
   "metadata": {
    "_cell_guid": "aacf549d-0433-4d21-8312-c092947c325b"
   },
   "outputs": [
    {
     "data": {
      "text/plain": [
       "[Blood Elf]              10343\n",
       "[Undead]                  4764\n",
       "[Troll]                   4409\n",
       "[Tauren]                  4220\n",
       "[Orc]                     4182\n",
       "[Tauren, Orc, Undead]        1\n",
       "[Blood Elf, Undead]          1\n",
       "[Blood Elf, Undead]          1\n",
       "[Blood Elf, Orc]             1\n",
       "[Orc, Tauren]                1\n",
       "Name:  race, dtype: int64"
      ]
     },
     "execution_count": 7,
     "metadata": {},
     "output_type": "execute_result"
    }
   ],
   "source": [
    "races = avatars[' race'].unique().value_counts()\n",
    "races.head(n=10)"
   ]
  },
  {
   "cell_type": "markdown",
   "metadata": {
    "_cell_guid": "c0e9c8f3-7690-4e64-91b9-2172c666899f"
   },
   "source": [
    "Wait... Wat? So it seems that we have a few mixed-races in the data set. How come? I see three possible explanations. (1) The data contains records from the avatar creation, including races and class swaps. (2) Player actually bought a race swap. This explanation is unlikely since this feature was implemented on October 27th 2009. (3) There are inconsistencies in the original dataset. "
   ]
  },
  {
   "cell_type": "code",
   "execution_count": 8,
   "metadata": {
    "_cell_guid": "32c4fa6b-4380-4cdd-9287-5a775a884bde"
   },
   "outputs": [
    {
     "data": {
      "text/plain": [
       "Tauren       126\n",
       "Blood Elf     40\n",
       "Name:  race, dtype: int64"
      ]
     },
     "execution_count": 8,
     "metadata": {},
     "output_type": "execute_result"
    }
   ],
   "source": [
    "# let's look at this avatar\n",
    "avatars.get_group(65856).sort_index()[' race'].value_counts()"
   ]
  },
  {
   "cell_type": "markdown",
   "metadata": {
    "_cell_guid": "bfe90cb5-9918-4864-af8e-d57167f46bf6"
   },
   "source": [
    "I have no idea why this guy is a Tauren only 2/3 of the time, so I assume there are inconsistencies. Better to get rid of these avatars as well. If anyone has another explanation, I take it."
   ]
  },
  {
   "cell_type": "code",
   "execution_count": 9,
   "metadata": {
    "_cell_guid": "436329e7-85e6-b7b5-e118-6762cd8398b1"
   },
   "outputs": [
    {
     "data": {
      "text/plain": [
       "[Blood Elf]    10343\n",
       "[Undead]        4764\n",
       "[Troll]         4409\n",
       "[Tauren]        4220\n",
       "[Orc]           4182\n",
       "Name:  race, dtype: int64"
      ]
     },
     "execution_count": 9,
     "metadata": {},
     "output_type": "execute_result"
    }
   ],
   "source": [
    "# clean characters with multiple races\n",
    "df = df.groupby('char').filter(lambda x: len(x[' race'].unique()) == 1)\n",
    "df.groupby('char')[' race'].unique().value_counts().head(n=10)"
   ]
  }
 ],
 "metadata": {
  "_change_revision": 3,
  "_is_fork": false,
  "kernelspec": {
   "display_name": "Python 3",
   "language": "python",
   "name": "python3"
  },
  "language_info": {
   "codemirror_mode": {
    "name": "ipython",
    "version": 3
   },
   "file_extension": ".py",
   "mimetype": "text/x-python",
   "name": "python",
   "nbconvert_exporter": "python",
   "pygments_lexer": "ipython3",
   "version": "3.5.2"
  }
 },
 "nbformat": 4,
 "nbformat_minor": 0
}
