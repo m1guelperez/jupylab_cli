{
 "cells": [
  {
   "cell_type": "code",
   "execution_count": 1,
   "metadata": {
    "_cell_guid": "b1076dfc-b9ad-4769-8c92-a6c4dae69d19",
    "_uuid": "8f2839f25d086af736a60e9eeb907d3b93b6e0e5",
    "execution": {
     "iopub.execute_input": "2020-09-23T06:16:44.914953Z",
     "iopub.status.busy": "2020-09-23T06:16:44.914092Z",
     "iopub.status.idle": "2020-09-23T06:16:44.925326Z",
     "shell.execute_reply": "2020-09-23T06:16:44.926107Z"
    },
    "papermill": {
     "duration": 0.028669,
     "end_time": "2020-09-23T06:16:44.926346",
     "exception": false,
     "start_time": "2020-09-23T06:16:44.897677",
     "status": "completed"
    },
    "tags": []
   },
   "outputs": [
    {
     "name": "stdout",
     "output_type": "stream",
     "text": [
      "/kaggle/input/flight-route-database/routes.csv\n",
      "/kaggle/input/iris/database.sqlite\n",
      "/kaggle/input/iris/Iris.csv\n"
     ]
    }
   ],
   "source": [
    "# This Python 3 environment comes with many helpful analytics libraries installed\n",
    "# It is defined by the kaggle/python Docker image: https://github.com/kaggle/docker-python\n",
    "# For example, here's several helpful packages to load\n",
    "\n",
    "import numpy as np # linear algebra\n",
    "import pandas as pd # data processing, CSV file I/O (e.g. pd.read_csv)\n",
    "\n",
    "# Input data files are available in the read-only \"../input/\" directory\n",
    "# For example, running this (by clicking run or pressing Shift+Enter) will list all files under the input directory\n",
    "\n",
    "import os\n",
    "for dirname, _, filenames in os.walk('/kaggle/input'):\n",
    "    for filename in filenames:\n",
    "        print(os.path.join(dirname, filename))\n",
    "\n",
    "# You can write up to 5GB to the current directory (/kaggle/working/) that gets preserved as output when you create a version using \"Save & Run All\" \n",
    "# You can also write temporary files to /kaggle/temp/, but they won't be saved outside of the current session"
   ]
  },
  {
   "cell_type": "markdown",
   "metadata": {
    "papermill": {
     "duration": 0.007622,
     "end_time": "2020-09-23T06:16:44.943406",
     "exception": false,
     "start_time": "2020-09-23T06:16:44.935784",
     "status": "completed"
    },
    "tags": []
   },
   "source": [
    "**1. Load a dataset of your choice, display the first11 rows, display a row of that dataset having missing values, and replace missing values with Nan.**"
   ]
  },
  {
   "cell_type": "code",
   "execution_count": 2,
   "metadata": {
    "_cell_guid": "79c7e3d0-c299-4dcb-8224-4455121ee9b0",
    "_uuid": "d629ff2d2480ee46fbb7e2d37f6b5fab8052498a",
    "execution": {
     "iopub.execute_input": "2020-09-23T06:16:44.969063Z",
     "iopub.status.busy": "2020-09-23T06:16:44.968245Z",
     "iopub.status.idle": "2020-09-23T06:16:45.291949Z",
     "shell.execute_reply": "2020-09-23T06:16:45.292768Z"
    },
    "papermill": {
     "duration": 0.341569,
     "end_time": "2020-09-23T06:16:45.292972",
     "exception": false,
     "start_time": "2020-09-23T06:16:44.951403",
     "status": "completed"
    },
    "tags": []
   },
   "outputs": [
    {
     "name": "stdout",
     "output_type": "stream",
     "text": [
      "   airline airline ID  source airport  source airport id  \\\n",
      "0       2B        410             AER               2965   \n",
      "1       2B        410             ASF               2966   \n",
      "2       2B        410             ASF               2966   \n",
      "3       2B        410             CEK               2968   \n",
      "4       2B        410             CEK               2968   \n",
      "5       2B        410             DME               4029   \n",
      "6       2B        410             DME               4029   \n",
      "7       2B        410             DME               4029   \n",
      "8       2B        410             DME               4029   \n",
      "9       2B        410             EGO               6156   \n",
      "10      2B        410             EGO               6156   \n",
      "\n",
      "    destination apirport  destination airport id  codeshare   stops  equipment  \n",
      "0                    KZN                    2990        NaN       0        CR2  \n",
      "1                    KZN                    2990        NaN       0        CR2  \n",
      "2                    MRV                    2962        NaN       0        CR2  \n",
      "3                    KZN                    2990        NaN       0        CR2  \n",
      "4                    OVB                    4078        NaN       0        CR2  \n",
      "5                    KZN                    2990        NaN       0        CR2  \n",
      "6                    NBC                    6969        NaN       0        CR2  \n",
      "7                    TGK                      \\N        NaN       0        CR2  \n",
      "8                    UUA                    6160        NaN       0        CR2  \n",
      "9                    KGD                    2952        NaN       0        CR2  \n",
      "10                   KZN                    2990        NaN       0        CR2  \n",
      "  airline airline ID  source airport  source airport id  destination apirport  \\\n",
      "0      2B        410             AER               2965                   KZN   \n",
      "\n",
      "   destination airport id  codeshare   stops  equipment  \n",
      "0                    2990        NaN       0        CR2  \n"
     ]
    },
    {
     "data": {
      "text/html": [
       "<div>\n",
       "<style scoped>\n",
       "    .dataframe tbody tr th:only-of-type {\n",
       "        vertical-align: middle;\n",
       "    }\n",
       "\n",
       "    .dataframe tbody tr th {\n",
       "        vertical-align: top;\n",
       "    }\n",
       "\n",
       "    .dataframe thead th {\n",
       "        text-align: right;\n",
       "    }\n",
       "</style>\n",
       "<table border=\"1\" class=\"dataframe\">\n",
       "  <thead>\n",
       "    <tr style=\"text-align: right;\">\n",
       "      <th></th>\n",
       "      <th>airline</th>\n",
       "      <th>airline ID</th>\n",
       "      <th>source airport</th>\n",
       "      <th>source airport id</th>\n",
       "      <th>destination apirport</th>\n",
       "      <th>destination airport id</th>\n",
       "      <th>codeshare</th>\n",
       "      <th>stops</th>\n",
       "      <th>equipment</th>\n",
       "    </tr>\n",
       "  </thead>\n",
       "  <tbody>\n",
       "    <tr>\n",
       "      <th>0</th>\n",
       "      <td>2B</td>\n",
       "      <td>410</td>\n",
       "      <td>AER</td>\n",
       "      <td>2965</td>\n",
       "      <td>KZN</td>\n",
       "      <td>2990</td>\n",
       "      <td>0</td>\n",
       "      <td>0</td>\n",
       "      <td>CR2</td>\n",
       "    </tr>\n",
       "    <tr>\n",
       "      <th>1</th>\n",
       "      <td>2B</td>\n",
       "      <td>410</td>\n",
       "      <td>ASF</td>\n",
       "      <td>2966</td>\n",
       "      <td>KZN</td>\n",
       "      <td>2990</td>\n",
       "      <td>0</td>\n",
       "      <td>0</td>\n",
       "      <td>CR2</td>\n",
       "    </tr>\n",
       "    <tr>\n",
       "      <th>2</th>\n",
       "      <td>2B</td>\n",
       "      <td>410</td>\n",
       "      <td>ASF</td>\n",
       "      <td>2966</td>\n",
       "      <td>MRV</td>\n",
       "      <td>2962</td>\n",
       "      <td>0</td>\n",
       "      <td>0</td>\n",
       "      <td>CR2</td>\n",
       "    </tr>\n",
       "    <tr>\n",
       "      <th>3</th>\n",
       "      <td>2B</td>\n",
       "      <td>410</td>\n",
       "      <td>CEK</td>\n",
       "      <td>2968</td>\n",
       "      <td>KZN</td>\n",
       "      <td>2990</td>\n",
       "      <td>0</td>\n",
       "      <td>0</td>\n",
       "      <td>CR2</td>\n",
       "    </tr>\n",
       "    <tr>\n",
       "      <th>4</th>\n",
       "      <td>2B</td>\n",
       "      <td>410</td>\n",
       "      <td>CEK</td>\n",
       "      <td>2968</td>\n",
       "      <td>OVB</td>\n",
       "      <td>4078</td>\n",
       "      <td>0</td>\n",
       "      <td>0</td>\n",
       "      <td>CR2</td>\n",
       "    </tr>\n",
       "    <tr>\n",
       "      <th>...</th>\n",
       "      <td>...</td>\n",
       "      <td>...</td>\n",
       "      <td>...</td>\n",
       "      <td>...</td>\n",
       "      <td>...</td>\n",
       "      <td>...</td>\n",
       "      <td>...</td>\n",
       "      <td>...</td>\n",
       "      <td>...</td>\n",
       "    </tr>\n",
       "    <tr>\n",
       "      <th>67658</th>\n",
       "      <td>ZL</td>\n",
       "      <td>4178</td>\n",
       "      <td>WYA</td>\n",
       "      <td>6334</td>\n",
       "      <td>ADL</td>\n",
       "      <td>3341</td>\n",
       "      <td>0</td>\n",
       "      <td>0</td>\n",
       "      <td>SF3</td>\n",
       "    </tr>\n",
       "    <tr>\n",
       "      <th>67659</th>\n",
       "      <td>ZM</td>\n",
       "      <td>19016</td>\n",
       "      <td>DME</td>\n",
       "      <td>4029</td>\n",
       "      <td>FRU</td>\n",
       "      <td>2912</td>\n",
       "      <td>0</td>\n",
       "      <td>0</td>\n",
       "      <td>734</td>\n",
       "    </tr>\n",
       "    <tr>\n",
       "      <th>67660</th>\n",
       "      <td>ZM</td>\n",
       "      <td>19016</td>\n",
       "      <td>FRU</td>\n",
       "      <td>2912</td>\n",
       "      <td>DME</td>\n",
       "      <td>4029</td>\n",
       "      <td>0</td>\n",
       "      <td>0</td>\n",
       "      <td>734</td>\n",
       "    </tr>\n",
       "    <tr>\n",
       "      <th>67661</th>\n",
       "      <td>ZM</td>\n",
       "      <td>19016</td>\n",
       "      <td>FRU</td>\n",
       "      <td>2912</td>\n",
       "      <td>OSS</td>\n",
       "      <td>2913</td>\n",
       "      <td>0</td>\n",
       "      <td>0</td>\n",
       "      <td>734</td>\n",
       "    </tr>\n",
       "    <tr>\n",
       "      <th>67662</th>\n",
       "      <td>ZM</td>\n",
       "      <td>19016</td>\n",
       "      <td>OSS</td>\n",
       "      <td>2913</td>\n",
       "      <td>FRU</td>\n",
       "      <td>2912</td>\n",
       "      <td>0</td>\n",
       "      <td>0</td>\n",
       "      <td>734</td>\n",
       "    </tr>\n",
       "  </tbody>\n",
       "</table>\n",
       "<p>67663 rows × 9 columns</p>\n",
       "</div>"
      ],
      "text/plain": [
       "      airline airline ID  source airport  source airport id  \\\n",
       "0          2B        410             AER               2965   \n",
       "1          2B        410             ASF               2966   \n",
       "2          2B        410             ASF               2966   \n",
       "3          2B        410             CEK               2968   \n",
       "4          2B        410             CEK               2968   \n",
       "...       ...        ...             ...                ...   \n",
       "67658      ZL       4178             WYA               6334   \n",
       "67659      ZM      19016             DME               4029   \n",
       "67660      ZM      19016             FRU               2912   \n",
       "67661      ZM      19016             FRU               2912   \n",
       "67662      ZM      19016             OSS               2913   \n",
       "\n",
       "       destination apirport  destination airport id  codeshare   stops  \\\n",
       "0                       KZN                    2990          0       0   \n",
       "1                       KZN                    2990          0       0   \n",
       "2                       MRV                    2962          0       0   \n",
       "3                       KZN                    2990          0       0   \n",
       "4                       OVB                    4078          0       0   \n",
       "...                     ...                     ...        ...     ...   \n",
       "67658                   ADL                    3341          0       0   \n",
       "67659                   FRU                    2912          0       0   \n",
       "67660                   DME                    4029          0       0   \n",
       "67661                   OSS                    2913          0       0   \n",
       "67662                   FRU                    2912          0       0   \n",
       "\n",
       "       equipment  \n",
       "0            CR2  \n",
       "1            CR2  \n",
       "2            CR2  \n",
       "3            CR2  \n",
       "4            CR2  \n",
       "...          ...  \n",
       "67658        SF3  \n",
       "67659        734  \n",
       "67660        734  \n",
       "67661        734  \n",
       "67662        734  \n",
       "\n",
       "[67663 rows x 9 columns]"
      ]
     },
     "execution_count": 2,
     "metadata": {},
     "output_type": "execute_result"
    }
   ],
   "source": [
    "import pandas as pd\n",
    "import numpy as np\n",
    "data=pd.read_csv(\"../input/flight-route-database/routes.csv\")\n",
    "print(data.head(11))\n",
    "print(data[data.isnull().any(axis=1)].head(1))\n",
    "data.replace(to_replace=np.nan,value=0)"
   ]
  },
  {
   "cell_type": "markdown",
   "metadata": {
    "papermill": {
     "duration": 0.009484,
     "end_time": "2020-09-23T06:16:45.312718",
     "exception": false,
     "start_time": "2020-09-23T06:16:45.303234",
     "status": "completed"
    },
    "tags": []
   },
   "source": [
    "**2. Given the score of CSK, KKR, DC, and MI such that no two teams has the same score, chalk out an appropriate graph for the best display of the scores. Also, highlight the team having the highest score in the graph.¶**"
   ]
  },
  {
   "cell_type": "code",
   "execution_count": 3,
   "metadata": {
    "execution": {
     "iopub.execute_input": "2020-09-23T06:16:45.340109Z",
     "iopub.status.busy": "2020-09-23T06:16:45.339222Z",
     "iopub.status.idle": "2020-09-23T06:16:45.533590Z",
     "shell.execute_reply": "2020-09-23T06:16:45.532883Z"
    },
    "papermill": {
     "duration": 0.211555,
     "end_time": "2020-09-23T06:16:45.533721",
     "exception": false,
     "start_time": "2020-09-23T06:16:45.322166",
     "status": "completed"
    },
    "tags": []
   },
   "outputs": [
    {
     "data": {
      "text/plain": [
       "Text(0, 0.5, 'SCORE')"
      ]
     },
     "execution_count": 3,
     "metadata": {},
     "output_type": "execute_result"
    },
    {
     "data": {
      "image/png": "[encoded data removed]",
      "text/plain": [
       "<Figure size 432x288 with 1 Axes>"
      ]
     },
     "metadata": {
      "needs_background": "light"
     },
     "output_type": "display_data"
    }
   ],
   "source": [
    "import matplotlib.pyplot as plt\n",
    "team=['CSK','KKR','DC','MI']\n",
    "score=[146,184,157,175]\n",
    "    \n",
    "      \n",
    "plt.bar(team,score,color=['green','red','green','green'])\n",
    "plt.title('IPL')\n",
    "plt.xlabel('TEAMS')\n",
    "plt.ylabel('SCORE')"
   ]
  },
  {
   "cell_type": "markdown",
   "metadata": {
    "papermill": {
     "duration": 0.011287,
     "end_time": "2020-09-23T06:16:45.556078",
     "exception": false,
     "start_time": "2020-09-23T06:16:45.544791",
     "status": "completed"
    },
    "tags": []
   },
   "source": [
    "**3. Take two NumPy array of your choice, find the common items between the arrays, and remove the matching items but only from one array such that they exist in the second one.**"
   ]
  },
  {
   "cell_type": "code",
   "execution_count": 4,
   "metadata": {
    "execution": {
     "iopub.execute_input": "2020-09-23T06:16:45.588897Z",
     "iopub.status.busy": "2020-09-23T06:16:45.587528Z",
     "iopub.status.idle": "2020-09-23T06:16:45.592832Z",
     "shell.execute_reply": "2020-09-23T06:16:45.593478Z"
    },
    "papermill": {
     "duration": 0.026355,
     "end_time": "2020-09-23T06:16:45.593669",
     "exception": false,
     "start_time": "2020-09-23T06:16:45.567314",
     "status": "completed"
    },
    "tags": []
   },
   "outputs": [
    {
     "name": "stdout",
     "output_type": "stream",
     "text": [
      "Common items are:  [1 6]\n",
      "\n",
      "\n",
      " 1st array: [8 2 4 9]\n",
      "\n",
      "\n",
      " 2nd array: [1 3 6 5]\n"
     ]
    }
   ],
   "source": [
    "a = np.array([1,8,2,6,4,9])\n",
    "b = np.array([1,3,6,5])\n",
    "\n",
    "c = np.intersect1d(a,b) #Finding the common items\n",
    "\n",
    "print(\"Common items are: \",c)\n",
    "print(\"\\n\")\n",
    "for i in b:\n",
    "    for j in a:\n",
    "        if i == j:\n",
    "            a = a[a!=j] #removing the common items from the array \"a\"\n",
    "print(\" 1st array:\",a)\n",
    "print(\"\\n\")\n",
    "print(\" 2nd array:\",b)"
   ]
  },
  {
   "cell_type": "markdown",
   "metadata": {
    "papermill": {
     "duration": 0.011537,
     "end_time": "2020-09-23T06:16:45.617047",
     "exception": false,
     "start_time": "2020-09-23T06:16:45.605510",
     "status": "completed"
    },
    "tags": []
   },
   "source": [
    "**4. Write a program to display the confusion matrix and f1_score on the iris dataset.¶**"
   ]
  },
  {
   "cell_type": "code",
   "execution_count": 5,
   "metadata": {
    "execution": {
     "iopub.execute_input": "2020-09-23T06:16:45.651154Z",
     "iopub.status.busy": "2020-09-23T06:16:45.650351Z",
     "iopub.status.idle": "2020-09-23T06:16:46.800579Z",
     "shell.execute_reply": "2020-09-23T06:16:46.801321Z"
    },
    "papermill": {
     "duration": 1.1729,
     "end_time": "2020-09-23T06:16:46.801515",
     "exception": false,
     "start_time": "2020-09-23T06:16:45.628615",
     "status": "completed"
    },
    "tags": []
   },
   "outputs": [
    {
     "name": "stdout",
     "output_type": "stream",
     "text": [
      "F1 Score: 1.0\n",
      "\n",
      "Confusion Matrix(below):\n",
      "\n"
     ]
    },
    {
     "name": "stderr",
     "output_type": "stream",
     "text": [
      "/opt/conda/lib/python3.7/site-packages/sklearn/linear_model/_logistic.py:764: ConvergenceWarning: lbfgs failed to converge (status=1):\n",
      "STOP: TOTAL NO. of ITERATIONS REACHED LIMIT.\n",
      "\n",
      "Increase the number of iterations (max_iter) or scale the data as shown in:\n",
      "    https://scikit-learn.org/stable/modules/preprocessing.html\n",
      "Please also refer to the documentation for alternative solver options:\n",
      "    https://scikit-learn.org/stable/modules/linear_model.html#logistic-regression\n",
      "  extra_warning_msg=_LOGISTIC_SOLVER_CONVERGENCE_MSG)\n"
     ]
    },
    {
     "data": {
      "text/plain": [
       "array([[17,  0,  0],\n",
       "       [ 0, 12,  0],\n",
       "       [ 0,  0, 16]])"
      ]
     },
     "execution_count": 5,
     "metadata": {},
     "output_type": "execute_result"
    }
   ],
   "source": [
    "from sklearn.model_selection import train_test_split\n",
    "from sklearn.metrics import confusion_matrix\n",
    "from sklearn.model_selection import cross_val_predict\n",
    "from sklearn.linear_model import LogisticRegression\n",
    "from sklearn.metrics import f1_score\n",
    "\n",
    "train = pd.read_csv(\"../input/iris/Iris.csv\")\n",
    "\n",
    "\n",
    "X = train.drop(\"Species\",axis=1)\n",
    "y = train[\"Species\"]\n",
    "\n",
    "X_train, X_test, y_train, y_test = train_test_split(X, y, test_size = 0.3)\n",
    "\n",
    "logmodel = LogisticRegression()\n",
    "logmodel.fit(X_train,y_train)\n",
    "\n",
    "predictions = logmodel.predict(X_test)\n",
    "\n",
    "print(\"F1 Score:\",f1_score(y_test, predictions,average='weighted'))\n",
    " \n",
    "print(\"\\nConfusion Matrix(below):\\n\")\n",
    "confusion_matrix(y_test, predictions)"
   ]
  }
 ],
 "metadata": {
  "kernelspec": {
   "display_name": "Python 3",
   "language": "python",
   "name": "python3"
  },
  "language_info": {
   "codemirror_mode": {
    "name": "ipython",
    "version": 3
   },
   "file_extension": ".py",
   "mimetype": "text/x-python",
   "name": "python",
   "nbconvert_exporter": "python",
   "pygments_lexer": "ipython3",
   "version": "3.7.6"
  },
  "papermill": {
   "duration": 6.771351,
   "end_time": "2020-09-23T06:16:46.923008",
   "environment_variables": {},
   "exception": null,
   "input_path": "__notebook__.ipynb",
   "output_path": "__notebook__.ipynb",
   "parameters": {},
   "start_time": "2020-09-23T06:16:40.151657",
   "version": "2.1.0"
  }
 },
 "nbformat": 4,
 "nbformat_minor": 4
}
