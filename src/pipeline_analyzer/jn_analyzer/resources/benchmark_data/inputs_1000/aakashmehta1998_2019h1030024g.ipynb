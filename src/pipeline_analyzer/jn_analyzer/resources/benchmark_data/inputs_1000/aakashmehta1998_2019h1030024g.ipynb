{
 "cells": [
  {
   "cell_type": "code",
   "execution_count": 1,
   "metadata": {
    "execution": {
     "iopub.execute_input": "2020-09-30T06:01:58.874557Z",
     "iopub.status.busy": "2020-09-30T06:01:58.873554Z",
     "iopub.status.idle": "2020-09-30T06:01:58.878105Z",
     "shell.execute_reply": "2020-09-30T06:01:58.878750Z"
    },
    "id": "wNqPwlYncLgW",
    "papermill": {
     "duration": 0.078958,
     "end_time": "2020-09-30T06:01:58.878921",
     "exception": false,
     "start_time": "2020-09-30T06:01:58.799963",
     "status": "completed"
    },
    "tags": []
   },
   "outputs": [],
   "source": [
    "import numpy as np\n",
    "import pandas as pd"
   ]
  },
  {
   "cell_type": "code",
   "execution_count": 2,
   "metadata": {
    "_cell_guid": "79c7e3d0-c299-4dcb-8224-4455121ee9b0",
    "_uuid": "d629ff2d2480ee46fbb7e2d37f6b5fab8052498a",
    "execution": {
     "iopub.execute_input": "2020-09-30T06:01:58.997540Z",
     "iopub.status.busy": "2020-09-30T06:01:58.996503Z",
     "iopub.status.idle": "2020-09-30T06:02:02.775411Z",
     "shell.execute_reply": "2020-09-30T06:02:02.775901Z"
    },
    "id": "U2rQmXXrcIq6",
    "outputId": "edab6d89-c5c5-4588-e34a-c87344494d8c",
    "papermill": {
     "duration": 3.839271,
     "end_time": "2020-09-30T06:02:02.776090",
     "exception": false,
     "start_time": "2020-09-30T06:01:58.936819",
     "status": "completed"
    },
    "tags": []
   },
   "outputs": [
    {
     "data": {
      "text/plain": [
       "Index(['id', 'col_0', 'col_1', 'col_2', 'col_3', 'col_4', 'col_5', 'col_6',\n",
       "       'col_7', 'col_8', 'col_9', 'col_10', 'col_11', 'col_12', 'col_13',\n",
       "       'col_14', 'col_15', 'col_16', 'col_17', 'col_18', 'col_19', 'col_20',\n",
       "       'col_21', 'col_22', 'col_23', 'col_24', 'col_25', 'col_26', 'col_27',\n",
       "       'col_28', 'col_29', 'col_30', 'col_31', 'col_32', 'col_33', 'col_34',\n",
       "       'col_35', 'col_36', 'col_37', 'col_38', 'col_39', 'col_40', 'col_41',\n",
       "       'col_42', 'col_43', 'col_44', 'col_45', 'col_46', 'col_47', 'col_48',\n",
       "       'col_49', 'col_50', 'col_51', 'col_52', 'col_53', 'col_54', 'col_55',\n",
       "       'col_56', 'col_57', 'col_58', 'col_59', 'col_60', 'col_61', 'col_62',\n",
       "       'col_63', 'col_64', 'col_65', 'col_66', 'col_67', 'col_68', 'col_69',\n",
       "       'col_70', 'col_71', 'col_72', 'col_73', 'col_74', 'col_75', 'col_76',\n",
       "       'col_77', 'col_78', 'col_79', 'col_80', 'col_81', 'col_82', 'col_83',\n",
       "       'col_84', 'col_85', 'col_86', 'col_87'],\n",
       "      dtype='object')"
      ]
     },
     "execution_count": 2,
     "metadata": {},
     "output_type": "execute_result"
    }
   ],
   "source": [
    "test_data = pd.read_csv('../input/minor-project-2020/test.csv')\n",
    "test_data.columns"
   ]
  },
  {
   "cell_type": "code",
   "execution_count": 3,
   "metadata": {
    "execution": {
     "iopub.execute_input": "2020-09-30T06:02:02.899377Z",
     "iopub.status.busy": "2020-09-30T06:02:02.898323Z",
     "iopub.status.idle": "2020-09-30T06:02:14.907305Z",
     "shell.execute_reply": "2020-09-30T06:02:14.906669Z"
    },
    "id": "7YGtRWL0cIq_",
    "outputId": "e1f3f066-8f81-4ead-8d11-b748ae3a9270",
    "papermill": {
     "duration": 12.072841,
     "end_time": "2020-09-30T06:02:14.907413",
     "exception": false,
     "start_time": "2020-09-30T06:02:02.834572",
     "status": "completed"
    },
    "tags": []
   },
   "outputs": [
    {
     "data": {
      "text/plain": [
       "Index(['id', 'col_0', 'col_1', 'col_2', 'col_3', 'col_4', 'col_5', 'col_6',\n",
       "       'col_7', 'col_8', 'col_9', 'col_10', 'col_11', 'col_12', 'col_13',\n",
       "       'col_14', 'col_15', 'col_16', 'col_17', 'col_18', 'col_19', 'col_20',\n",
       "       'col_21', 'col_22', 'col_23', 'col_24', 'col_25', 'col_26', 'col_27',\n",
       "       'col_28', 'col_29', 'col_30', 'col_31', 'col_32', 'col_33', 'col_34',\n",
       "       'col_35', 'col_36', 'col_37', 'col_38', 'col_39', 'col_40', 'col_41',\n",
       "       'col_42', 'col_43', 'col_44', 'col_45', 'col_46', 'col_47', 'col_48',\n",
       "       'col_49', 'col_50', 'col_51', 'col_52', 'col_53', 'col_54', 'col_55',\n",
       "       'col_56', 'col_57', 'col_58', 'col_59', 'col_60', 'col_61', 'col_62',\n",
       "       'col_63', 'col_64', 'col_65', 'col_66', 'col_67', 'col_68', 'col_69',\n",
       "       'col_70', 'col_71', 'col_72', 'col_73', 'col_74', 'col_75', 'col_76',\n",
       "       'col_77', 'col_78', 'col_79', 'col_80', 'col_81', 'col_82', 'col_83',\n",
       "       'col_84', 'col_85', 'col_86', 'col_87', 'target'],\n",
       "      dtype='object')"
      ]
     },
     "execution_count": 3,
     "metadata": {},
     "output_type": "execute_result"
    }
   ],
   "source": [
    "train_data = pd.read_csv('../input/minor-project-2020/train.csv')\n",
    "train_data.columns"
   ]
  },
  {
   "cell_type": "markdown",
   "metadata": {
    "papermill": {
     "duration": 0.061214,
     "end_time": "2020-09-30T06:02:15.025807",
     "exception": false,
     "start_time": "2020-09-30T06:02:14.964593",
     "status": "completed"
    },
    "tags": []
   },
   "source": [
    "Preparing testing data "
   ]
  },
  {
   "cell_type": "code",
   "execution_count": 4,
   "metadata": {
    "execution": {
     "iopub.execute_input": "2020-09-30T06:02:15.156509Z",
     "iopub.status.busy": "2020-09-30T06:02:15.155845Z",
     "iopub.status.idle": "2020-09-30T06:02:15.193213Z",
     "shell.execute_reply": "2020-09-30T06:02:15.193692Z"
    },
    "id": "gx-cF89UsLOb",
    "papermill": {
     "duration": 0.11107,
     "end_time": "2020-09-30T06:02:15.193845",
     "exception": false,
     "start_time": "2020-09-30T06:02:15.082775",
     "status": "completed"
    },
    "tags": []
   },
   "outputs": [],
   "source": [
    "Xtest = test_data[['col_0', 'col_1', 'col_2', 'col_3', 'col_4', 'col_5', 'col_6',\n",
    "       'col_7', 'col_8', 'col_9', 'col_10', 'col_11', 'col_12', 'col_13',\n",
    "       'col_14', 'col_15', 'col_16', 'col_17', 'col_18', 'col_19', 'col_20',\n",
    "       'col_21', 'col_22', 'col_23', 'col_24', 'col_25', 'col_26', 'col_27',\n",
    "       'col_28', 'col_29', 'col_30', 'col_31', 'col_32', 'col_33', 'col_34',\n",
    "       'col_35', 'col_36', 'col_37', 'col_38', 'col_39', 'col_40', 'col_41',\n",
    "       'col_42', 'col_43', 'col_44', 'col_45', 'col_46', 'col_47', 'col_48',\n",
    "       'col_49', 'col_50', 'col_51', 'col_52', 'col_53', 'col_54', 'col_55',\n",
    "       'col_56', 'col_57', 'col_58', 'col_59', 'col_60', 'col_61', 'col_62',\n",
    "       'col_63', 'col_64', 'col_65', 'col_66', 'col_67', 'col_68', 'col_69',\n",
    "       'col_70', 'col_71', 'col_72', 'col_73', 'col_74', 'col_75', 'col_76',\n",
    "       'col_77', 'col_78', 'col_79', 'col_80', 'col_81', 'col_82', 'col_83',\n",
    "       'col_84', 'col_85', 'col_86', 'col_87']]"
   ]
  },
  {
   "cell_type": "markdown",
   "metadata": {
    "papermill": {
     "duration": 0.05602,
     "end_time": "2020-09-30T06:02:15.306938",
     "exception": false,
     "start_time": "2020-09-30T06:02:15.250918",
     "status": "completed"
    },
    "tags": []
   },
   "source": [
    "Preparing training data"
   ]
  },
  {
   "cell_type": "code",
   "execution_count": 5,
   "metadata": {
    "execution": {
     "iopub.execute_input": "2020-09-30T06:02:15.423412Z",
     "iopub.status.busy": "2020-09-30T06:02:15.422428Z",
     "iopub.status.idle": "2020-09-30T06:02:15.617953Z",
     "shell.execute_reply": "2020-09-30T06:02:15.618579Z"
    },
    "id": "mmmRLPabcIrF",
    "papermill": {
     "duration": 0.256005,
     "end_time": "2020-09-30T06:02:15.618902",
     "exception": false,
     "start_time": "2020-09-30T06:02:15.362897",
     "status": "completed"
    },
    "tags": []
   },
   "outputs": [],
   "source": [
    "X = train_data[['col_0', 'col_1', 'col_2', 'col_3', 'col_4', 'col_5', 'col_6',\n",
    "       'col_7', 'col_8', 'col_9', 'col_10', 'col_11', 'col_12', 'col_13',\n",
    "       'col_14', 'col_15', 'col_16', 'col_17', 'col_18', 'col_19', 'col_20',\n",
    "       'col_21', 'col_22', 'col_23', 'col_24', 'col_25', 'col_26', 'col_27',\n",
    "       'col_28', 'col_29', 'col_30', 'col_31', 'col_32', 'col_33', 'col_34',\n",
    "       'col_35', 'col_36', 'col_37', 'col_38', 'col_39', 'col_40', 'col_41',\n",
    "       'col_42', 'col_43', 'col_44', 'col_45', 'col_46', 'col_47', 'col_48',\n",
    "       'col_49', 'col_50', 'col_51', 'col_52', 'col_53', 'col_54', 'col_55',\n",
    "       'col_56', 'col_57', 'col_58', 'col_59', 'col_60', 'col_61', 'col_62',\n",
    "       'col_63', 'col_64', 'col_65', 'col_66', 'col_67', 'col_68', 'col_69',\n",
    "       'col_70', 'col_71', 'col_72', 'col_73', 'col_74', 'col_75', 'col_76',\n",
    "       'col_77', 'col_78', 'col_79', 'col_80', 'col_81', 'col_82', 'col_83',\n",
    "       'col_84', 'col_85', 'col_86', 'col_87']]"
   ]
  },
  {
   "cell_type": "code",
   "execution_count": 6,
   "metadata": {
    "execution": {
     "iopub.execute_input": "2020-09-30T06:02:15.749569Z",
     "iopub.status.busy": "2020-09-30T06:02:15.748908Z",
     "iopub.status.idle": "2020-09-30T06:02:15.779389Z",
     "shell.execute_reply": "2020-09-30T06:02:15.778843Z"
    },
    "id": "pg_p1n9YcIrK",
    "outputId": "e84e119b-485e-4272-96f4-8f5247321751",
    "papermill": {
     "duration": 0.090679,
     "end_time": "2020-09-30T06:02:15.779518",
     "exception": false,
     "start_time": "2020-09-30T06:02:15.688839",
     "status": "completed"
    },
    "tags": []
   },
   "outputs": [
    {
     "data": {
      "text/html": [
       "<div>\n",
       "<style scoped>\n",
       "    .dataframe tbody tr th:only-of-type {\n",
       "        vertical-align: middle;\n",
       "    }\n",
       "\n",
       "    .dataframe tbody tr th {\n",
       "        vertical-align: top;\n",
       "    }\n",
       "\n",
       "    .dataframe thead th {\n",
       "        text-align: right;\n",
       "    }\n",
       "</style>\n",
       "<table border=\"1\" class=\"dataframe\">\n",
       "  <thead>\n",
       "    <tr style=\"text-align: right;\">\n",
       "      <th></th>\n",
       "      <th>col_0</th>\n",
       "      <th>col_1</th>\n",
       "      <th>col_2</th>\n",
       "      <th>col_3</th>\n",
       "      <th>col_4</th>\n",
       "      <th>col_5</th>\n",
       "      <th>col_6</th>\n",
       "      <th>col_7</th>\n",
       "      <th>col_8</th>\n",
       "      <th>col_9</th>\n",
       "      <th>...</th>\n",
       "      <th>col_78</th>\n",
       "      <th>col_79</th>\n",
       "      <th>col_80</th>\n",
       "      <th>col_81</th>\n",
       "      <th>col_82</th>\n",
       "      <th>col_83</th>\n",
       "      <th>col_84</th>\n",
       "      <th>col_85</th>\n",
       "      <th>col_86</th>\n",
       "      <th>col_87</th>\n",
       "    </tr>\n",
       "  </thead>\n",
       "  <tbody>\n",
       "    <tr>\n",
       "      <th>0</th>\n",
       "      <td>-0.02</td>\n",
       "      <td>2.03</td>\n",
       "      <td>2.54</td>\n",
       "      <td>-0.53</td>\n",
       "      <td>0.73</td>\n",
       "      <td>0.01</td>\n",
       "      <td>-0.09</td>\n",
       "      <td>-0.17</td>\n",
       "      <td>-0.04</td>\n",
       "      <td>-0.15</td>\n",
       "      <td>...</td>\n",
       "      <td>0.70</td>\n",
       "      <td>0.06</td>\n",
       "      <td>-0.08</td>\n",
       "      <td>-0.30</td>\n",
       "      <td>-0.99</td>\n",
       "      <td>0.11</td>\n",
       "      <td>-0.78</td>\n",
       "      <td>0.04</td>\n",
       "      <td>0.19</td>\n",
       "      <td>-0.06</td>\n",
       "    </tr>\n",
       "    <tr>\n",
       "      <th>1</th>\n",
       "      <td>0.01</td>\n",
       "      <td>-2.96</td>\n",
       "      <td>-2.53</td>\n",
       "      <td>-0.84</td>\n",
       "      <td>0.90</td>\n",
       "      <td>0.65</td>\n",
       "      <td>0.58</td>\n",
       "      <td>0.95</td>\n",
       "      <td>-0.73</td>\n",
       "      <td>1.22</td>\n",
       "      <td>...</td>\n",
       "      <td>-0.90</td>\n",
       "      <td>0.07</td>\n",
       "      <td>-0.07</td>\n",
       "      <td>-0.09</td>\n",
       "      <td>1.55</td>\n",
       "      <td>-0.87</td>\n",
       "      <td>1.52</td>\n",
       "      <td>-0.06</td>\n",
       "      <td>1.89</td>\n",
       "      <td>-0.61</td>\n",
       "    </tr>\n",
       "    <tr>\n",
       "      <th>2</th>\n",
       "      <td>0.06</td>\n",
       "      <td>-8.82</td>\n",
       "      <td>1.24</td>\n",
       "      <td>-0.30</td>\n",
       "      <td>-0.54</td>\n",
       "      <td>0.41</td>\n",
       "      <td>-0.13</td>\n",
       "      <td>0.44</td>\n",
       "      <td>-0.02</td>\n",
       "      <td>0.52</td>\n",
       "      <td>...</td>\n",
       "      <td>1.05</td>\n",
       "      <td>0.49</td>\n",
       "      <td>-0.61</td>\n",
       "      <td>-1.64</td>\n",
       "      <td>-0.17</td>\n",
       "      <td>-0.26</td>\n",
       "      <td>2.26</td>\n",
       "      <td>2.19</td>\n",
       "      <td>0.75</td>\n",
       "      <td>-0.24</td>\n",
       "    </tr>\n",
       "    <tr>\n",
       "      <th>3</th>\n",
       "      <td>0.01</td>\n",
       "      <td>-3.72</td>\n",
       "      <td>-3.90</td>\n",
       "      <td>0.17</td>\n",
       "      <td>-1.20</td>\n",
       "      <td>-2.21</td>\n",
       "      <td>0.30</td>\n",
       "      <td>-0.88</td>\n",
       "      <td>2.16</td>\n",
       "      <td>-1.32</td>\n",
       "      <td>...</td>\n",
       "      <td>0.64</td>\n",
       "      <td>0.66</td>\n",
       "      <td>-0.36</td>\n",
       "      <td>-1.93</td>\n",
       "      <td>2.53</td>\n",
       "      <td>0.28</td>\n",
       "      <td>0.35</td>\n",
       "      <td>-0.05</td>\n",
       "      <td>-1.62</td>\n",
       "      <td>0.44</td>\n",
       "    </tr>\n",
       "    <tr>\n",
       "      <th>4</th>\n",
       "      <td>-0.01</td>\n",
       "      <td>2.10</td>\n",
       "      <td>-3.32</td>\n",
       "      <td>0.04</td>\n",
       "      <td>-0.73</td>\n",
       "      <td>-2.45</td>\n",
       "      <td>1.11</td>\n",
       "      <td>0.18</td>\n",
       "      <td>1.65</td>\n",
       "      <td>-0.06</td>\n",
       "      <td>...</td>\n",
       "      <td>-0.09</td>\n",
       "      <td>-0.09</td>\n",
       "      <td>-0.25</td>\n",
       "      <td>0.35</td>\n",
       "      <td>-0.22</td>\n",
       "      <td>0.03</td>\n",
       "      <td>-0.33</td>\n",
       "      <td>0.11</td>\n",
       "      <td>0.45</td>\n",
       "      <td>-0.17</td>\n",
       "    </tr>\n",
       "  </tbody>\n",
       "</table>\n",
       "<p>5 rows × 88 columns</p>\n",
       "</div>"
      ],
      "text/plain": [
       "   col_0  col_1  col_2  col_3  col_4  col_5  col_6  col_7  col_8  col_9  ...  \\\n",
       "0  -0.02   2.03   2.54  -0.53   0.73   0.01  -0.09  -0.17  -0.04  -0.15  ...   \n",
       "1   0.01  -2.96  -2.53  -0.84   0.90   0.65   0.58   0.95  -0.73   1.22  ...   \n",
       "2   0.06  -8.82   1.24  -0.30  -0.54   0.41  -0.13   0.44  -0.02   0.52  ...   \n",
       "3   0.01  -3.72  -3.90   0.17  -1.20  -2.21   0.30  -0.88   2.16  -1.32  ...   \n",
       "4  -0.01   2.10  -3.32   0.04  -0.73  -2.45   1.11   0.18   1.65  -0.06  ...   \n",
       "\n",
       "   col_78  col_79  col_80  col_81  col_82  col_83  col_84  col_85  col_86  \\\n",
       "0    0.70    0.06   -0.08   -0.30   -0.99    0.11   -0.78    0.04    0.19   \n",
       "1   -0.90    0.07   -0.07   -0.09    1.55   -0.87    1.52   -0.06    1.89   \n",
       "2    1.05    0.49   -0.61   -1.64   -0.17   -0.26    2.26    2.19    0.75   \n",
       "3    0.64    0.66   -0.36   -1.93    2.53    0.28    0.35   -0.05   -1.62   \n",
       "4   -0.09   -0.09   -0.25    0.35   -0.22    0.03   -0.33    0.11    0.45   \n",
       "\n",
       "   col_87  \n",
       "0   -0.06  \n",
       "1   -0.61  \n",
       "2   -0.24  \n",
       "3    0.44  \n",
       "4   -0.17  \n",
       "\n",
       "[5 rows x 88 columns]"
      ]
     },
     "execution_count": 6,
     "metadata": {},
     "output_type": "execute_result"
    }
   ],
   "source": [
    "X.head()"
   ]
  },
  {
   "cell_type": "code",
   "execution_count": 7,
   "metadata": {
    "execution": {
     "iopub.execute_input": "2020-09-30T06:02:15.902522Z",
     "iopub.status.busy": "2020-09-30T06:02:15.901843Z",
     "iopub.status.idle": "2020-09-30T06:02:15.906533Z",
     "shell.execute_reply": "2020-09-30T06:02:15.905948Z"
    },
    "id": "Zp28McOUcIrP",
    "papermill": {
     "duration": 0.069474,
     "end_time": "2020-09-30T06:02:15.906651",
     "exception": false,
     "start_time": "2020-09-30T06:02:15.837177",
     "status": "completed"
    },
    "tags": []
   },
   "outputs": [],
   "source": [
    "y = train_data[['target']]"
   ]
  },
  {
   "cell_type": "code",
   "execution_count": 8,
   "metadata": {
    "execution": {
     "iopub.execute_input": "2020-09-30T06:02:16.031132Z",
     "iopub.status.busy": "2020-09-30T06:02:16.030064Z",
     "iopub.status.idle": "2020-09-30T06:02:16.038202Z",
     "shell.execute_reply": "2020-09-30T06:02:16.039246Z"
    },
    "id": "4vrvZ9FzcIrU",
    "outputId": "83c06203-f78b-45ac-d041-773cbcdf0b41",
    "papermill": {
     "duration": 0.074975,
     "end_time": "2020-09-30T06:02:16.039460",
     "exception": false,
     "start_time": "2020-09-30T06:02:15.964485",
     "status": "completed"
    },
    "tags": []
   },
   "outputs": [
    {
     "data": {
      "text/html": [
       "<div>\n",
       "<style scoped>\n",
       "    .dataframe tbody tr th:only-of-type {\n",
       "        vertical-align: middle;\n",
       "    }\n",
       "\n",
       "    .dataframe tbody tr th {\n",
       "        vertical-align: top;\n",
       "    }\n",
       "\n",
       "    .dataframe thead th {\n",
       "        text-align: right;\n",
       "    }\n",
       "</style>\n",
       "<table border=\"1\" class=\"dataframe\">\n",
       "  <thead>\n",
       "    <tr style=\"text-align: right;\">\n",
       "      <th></th>\n",
       "      <th>target</th>\n",
       "    </tr>\n",
       "  </thead>\n",
       "  <tbody>\n",
       "    <tr>\n",
       "      <th>0</th>\n",
       "      <td>0</td>\n",
       "    </tr>\n",
       "    <tr>\n",
       "      <th>1</th>\n",
       "      <td>0</td>\n",
       "    </tr>\n",
       "    <tr>\n",
       "      <th>2</th>\n",
       "      <td>0</td>\n",
       "    </tr>\n",
       "    <tr>\n",
       "      <th>3</th>\n",
       "      <td>0</td>\n",
       "    </tr>\n",
       "    <tr>\n",
       "      <th>4</th>\n",
       "      <td>0</td>\n",
       "    </tr>\n",
       "  </tbody>\n",
       "</table>\n",
       "</div>"
      ],
      "text/plain": [
       "   target\n",
       "0       0\n",
       "1       0\n",
       "2       0\n",
       "3       0\n",
       "4       0"
      ]
     },
     "execution_count": 8,
     "metadata": {},
     "output_type": "execute_result"
    }
   ],
   "source": [
    "y.head()"
   ]
  },
  {
   "cell_type": "markdown",
   "metadata": {
    "papermill": {
     "duration": 0.058943,
     "end_time": "2020-09-30T06:02:16.157541",
     "exception": false,
     "start_time": "2020-09-30T06:02:16.098598",
     "status": "completed"
    },
    "tags": []
   },
   "source": [
    "Unbalanced dataset"
   ]
  },
  {
   "cell_type": "code",
   "execution_count": 9,
   "metadata": {
    "execution": {
     "iopub.execute_input": "2020-09-30T06:02:16.278521Z",
     "iopub.status.busy": "2020-09-30T06:02:16.277796Z",
     "iopub.status.idle": "2020-09-30T06:02:16.295900Z",
     "shell.execute_reply": "2020-09-30T06:02:16.296425Z"
    },
    "id": "pyeZ0hNhcIra",
    "outputId": "69a0418c-8993-44be-b2f6-fba805349d9f",
    "papermill": {
     "duration": 0.079682,
     "end_time": "2020-09-30T06:02:16.296574",
     "exception": false,
     "start_time": "2020-09-30T06:02:16.216892",
     "status": "completed"
    },
    "tags": []
   },
   "outputs": [
    {
     "name": "stdout",
     "output_type": "stream",
     "text": [
      "Class 0: 798499\n",
      "Class 1: 1501\n"
     ]
    }
   ],
   "source": [
    "target_count = train_data.target.value_counts()\n",
    "print('Class 0:', target_count[0])\n",
    "print('Class 1:', target_count[1])"
   ]
  },
  {
   "cell_type": "code",
   "execution_count": 10,
   "metadata": {
    "execution": {
     "iopub.execute_input": "2020-09-30T06:02:16.418745Z",
     "iopub.status.busy": "2020-09-30T06:02:16.417853Z",
     "iopub.status.idle": "2020-09-30T06:02:16.421453Z",
     "shell.execute_reply": "2020-09-30T06:02:16.420771Z"
    },
    "id": "DaOZxms-s7ds",
    "papermill": {
     "duration": 0.066345,
     "end_time": "2020-09-30T06:02:16.421564",
     "exception": false,
     "start_time": "2020-09-30T06:02:16.355219",
     "status": "completed"
    },
    "tags": []
   },
   "outputs": [],
   "source": [
    "#trainX, testX, trainy, testy = train_test_split(X, y, test_size=0.2, random_state=2,stratify=y)"
   ]
  },
  {
   "cell_type": "code",
   "execution_count": 11,
   "metadata": {
    "execution": {
     "iopub.execute_input": "2020-09-30T06:02:16.543433Z",
     "iopub.status.busy": "2020-09-30T06:02:16.542735Z",
     "iopub.status.idle": "2020-09-30T06:02:17.869474Z",
     "shell.execute_reply": "2020-09-30T06:02:17.868661Z"
    },
    "id": "mwltkm0pcIrf",
    "outputId": "75a1c1fb-b697-4f06-eb04-c1658d246400",
    "papermill": {
     "duration": 1.389028,
     "end_time": "2020-09-30T06:02:17.869658",
     "exception": false,
     "start_time": "2020-09-30T06:02:16.480630",
     "status": "completed"
    },
    "tags": []
   },
   "outputs": [],
   "source": [
    "import imblearn"
   ]
  },
  {
   "cell_type": "code",
   "execution_count": 12,
   "metadata": {
    "execution": {
     "iopub.execute_input": "2020-09-30T06:02:17.994096Z",
     "iopub.status.busy": "2020-09-30T06:02:17.993389Z",
     "iopub.status.idle": "2020-09-30T06:02:17.996708Z",
     "shell.execute_reply": "2020-09-30T06:02:17.996151Z"
    },
    "id": "o1XiIxm2cIrk",
    "papermill": {
     "duration": 0.067149,
     "end_time": "2020-09-30T06:02:17.996834",
     "exception": false,
     "start_time": "2020-09-30T06:02:17.929685",
     "status": "completed"
    },
    "tags": []
   },
   "outputs": [],
   "source": [
    "from imblearn.over_sampling import RandomOverSampler"
   ]
  },
  {
   "cell_type": "markdown",
   "metadata": {
    "papermill": {
     "duration": 0.05866,
     "end_time": "2020-09-30T06:02:18.115102",
     "exception": false,
     "start_time": "2020-09-30T06:02:18.056442",
     "status": "completed"
    },
    "tags": []
   },
   "source": [
    "# Random over-sampling with imbalanced-learn"
   ]
  },
  {
   "cell_type": "code",
   "execution_count": 13,
   "metadata": {
    "execution": {
     "iopub.execute_input": "2020-09-30T06:02:18.241969Z",
     "iopub.status.busy": "2020-09-30T06:02:18.240721Z",
     "iopub.status.idle": "2020-09-30T06:02:21.863736Z",
     "shell.execute_reply": "2020-09-30T06:02:21.863021Z"
    },
    "id": "4LnNIaDWcIrp",
    "outputId": "160c21e8-25a9-4781-9400-241e510d4e96",
    "papermill": {
     "duration": 3.689582,
     "end_time": "2020-09-30T06:02:21.863868",
     "exception": false,
     "start_time": "2020-09-30T06:02:18.174286",
     "status": "completed"
    },
    "tags": []
   },
   "outputs": [],
   "source": [
    "rus = RandomOverSampler()\n",
    "trainX_1, trainy_1 = rus.fit_sample(X, y)\n",
    "\n",
    "#print('Removed indexes:', id_rus)"
   ]
  },
  {
   "cell_type": "code",
   "execution_count": 14,
   "metadata": {
    "execution": {
     "iopub.execute_input": "2020-09-30T06:02:21.988881Z",
     "iopub.status.busy": "2020-09-30T06:02:21.988222Z",
     "iopub.status.idle": "2020-09-30T06:02:21.991672Z",
     "shell.execute_reply": "2020-09-30T06:02:21.991092Z"
    },
    "id": "VkXm8CE3cIry",
    "papermill": {
     "duration": 0.067749,
     "end_time": "2020-09-30T06:02:21.991782",
     "exception": false,
     "start_time": "2020-09-30T06:02:21.924033",
     "status": "completed"
    },
    "tags": []
   },
   "outputs": [],
   "source": [
    "from sklearn.linear_model import LogisticRegression\n",
    "from sklearn.model_selection import train_test_split\n",
    "from sklearn.metrics import roc_curve\n",
    "from matplotlib import pyplot"
   ]
  },
  {
   "cell_type": "code",
   "execution_count": 15,
   "metadata": {
    "execution": {
     "iopub.execute_input": "2020-09-30T06:02:22.117533Z",
     "iopub.status.busy": "2020-09-30T06:02:22.116830Z",
     "iopub.status.idle": "2020-09-30T06:02:22.119434Z",
     "shell.execute_reply": "2020-09-30T06:02:22.119970Z"
    },
    "id": "P9eQMErgcIr3",
    "papermill": {
     "duration": 0.068047,
     "end_time": "2020-09-30T06:02:22.120146",
     "exception": false,
     "start_time": "2020-09-30T06:02:22.052099",
     "status": "completed"
    },
    "tags": []
   },
   "outputs": [],
   "source": [
    "from sklearn.model_selection import KFold, StratifiedKFold, cross_val_score "
   ]
  },
  {
   "cell_type": "code",
   "execution_count": 16,
   "metadata": {
    "execution": {
     "iopub.execute_input": "2020-09-30T06:02:22.246688Z",
     "iopub.status.busy": "2020-09-30T06:02:22.246019Z",
     "iopub.status.idle": "2020-09-30T06:02:22.249249Z",
     "shell.execute_reply": "2020-09-30T06:02:22.248593Z"
    },
    "id": "Xxa6j760oj_n",
    "papermill": {
     "duration": 0.069174,
     "end_time": "2020-09-30T06:02:22.249381",
     "exception": false,
     "start_time": "2020-09-30T06:02:22.180207",
     "status": "completed"
    },
    "tags": []
   },
   "outputs": [],
   "source": [
    "from sklearn.linear_model import LogisticRegression\n",
    "from sklearn.model_selection import train_test_split\n",
    "from sklearn.metrics import roc_curve\n",
    "from matplotlib import pyplot"
   ]
  },
  {
   "cell_type": "code",
   "execution_count": 17,
   "metadata": {
    "execution": {
     "iopub.execute_input": "2020-09-30T06:02:22.372195Z",
     "iopub.status.busy": "2020-09-30T06:02:22.371220Z",
     "iopub.status.idle": "2020-09-30T06:02:35.221169Z",
     "shell.execute_reply": "2020-09-30T06:02:35.220308Z"
    },
    "id": "RixfF5QfcIsB",
    "papermill": {
     "duration": 12.912479,
     "end_time": "2020-09-30T06:02:35.221298",
     "exception": false,
     "start_time": "2020-09-30T06:02:22.308819",
     "status": "completed"
    },
    "tags": []
   },
   "outputs": [],
   "source": [
    "trainX, testX, trainy, testy = train_test_split(trainX_1, trainy_1, test_size=0.3, random_state=2,stratify=trainy_1)"
   ]
  },
  {
   "cell_type": "code",
   "execution_count": 18,
   "metadata": {
    "execution": {
     "iopub.execute_input": "2020-09-30T06:02:35.344758Z",
     "iopub.status.busy": "2020-09-30T06:02:35.343710Z",
     "iopub.status.idle": "2020-09-30T06:02:35.347937Z",
     "shell.execute_reply": "2020-09-30T06:02:35.348608Z"
    },
    "id": "FiCIlEKVp0jI",
    "papermill": {
     "duration": 0.067606,
     "end_time": "2020-09-30T06:02:35.348748",
     "exception": false,
     "start_time": "2020-09-30T06:02:35.281142",
     "status": "completed"
    },
    "tags": []
   },
   "outputs": [],
   "source": [
    "from sklearn.model_selection import GridSearchCV"
   ]
  },
  {
   "cell_type": "markdown",
   "metadata": {
    "papermill": {
     "duration": 0.059692,
     "end_time": "2020-09-30T06:02:35.468358",
     "exception": false,
     "start_time": "2020-09-30T06:02:35.408666",
     "status": "completed"
    },
    "tags": []
   },
   "source": [
    "Grid Search Cross Validation for Logistic Regression"
   ]
  },
  {
   "cell_type": "code",
   "execution_count": 19,
   "metadata": {
    "execution": {
     "iopub.execute_input": "2020-09-30T06:02:35.592679Z",
     "iopub.status.busy": "2020-09-30T06:02:35.591632Z",
     "iopub.status.idle": "2020-09-30T06:02:35.595406Z",
     "shell.execute_reply": "2020-09-30T06:02:35.595971Z"
    },
    "papermill": {
     "duration": 0.067908,
     "end_time": "2020-09-30T06:02:35.596148",
     "exception": false,
     "start_time": "2020-09-30T06:02:35.528240",
     "status": "completed"
    },
    "tags": []
   },
   "outputs": [],
   "source": [
    "# model = LogisticRegression()\n",
    "# grid = {'C': np.logspace(-3,3,7), 'penalty': ['l1', 'l2']}\n",
    "# model_cv = GridSearchCV(model,grid,cv=10)\n",
    "# model_cv.fit(trainX, trainy)"
   ]
  },
  {
   "cell_type": "markdown",
   "metadata": {
    "papermill": {
     "duration": 0.062102,
     "end_time": "2020-09-30T06:02:35.718433",
     "exception": false,
     "start_time": "2020-09-30T06:02:35.656331",
     "status": "completed"
    },
    "tags": []
   },
   "source": [
    "After the grid search cross validation for logistic regression I found that logistic regression regularization parameters should be;\n",
    "\n",
    "C = 1000\n",
    "penalty = l2"
   ]
  },
  {
   "cell_type": "code",
   "execution_count": 20,
   "metadata": {
    "execution": {
     "iopub.execute_input": "2020-09-30T06:02:35.844077Z",
     "iopub.status.busy": "2020-09-30T06:02:35.842901Z",
     "iopub.status.idle": "2020-09-30T06:02:35.849280Z",
     "shell.execute_reply": "2020-09-30T06:02:35.849858Z"
    },
    "id": "J_L4uBUHqfJe",
    "papermill": {
     "duration": 0.071057,
     "end_time": "2020-09-30T06:02:35.850005",
     "exception": false,
     "start_time": "2020-09-30T06:02:35.778948",
     "status": "completed"
    },
    "tags": []
   },
   "outputs": [],
   "source": [
    "model = LogisticRegression(C=1000.0, class_weight=None, dual=False, fit_intercept=True,\n",
    "                   intercept_scaling=1, l1_ratio=None, max_iter=100,\n",
    "                   multi_class='auto', n_jobs=None, penalty='l2',\n",
    "                   random_state=None, solver='lbfgs', tol=0.0001, verbose=0,\n",
    "                   warm_start=False)"
   ]
  },
  {
   "cell_type": "code",
   "execution_count": 21,
   "metadata": {
    "execution": {
     "iopub.execute_input": "2020-09-30T06:02:35.977182Z",
     "iopub.status.busy": "2020-09-30T06:02:35.976129Z",
     "iopub.status.idle": "2020-09-30T06:02:55.921690Z",
     "shell.execute_reply": "2020-09-30T06:02:55.922791Z"
    },
    "id": "gE0wFwjUrtaH",
    "outputId": "3842d93a-6138-4385-8f09-2faacd8f7b22",
    "papermill": {
     "duration": 20.011202,
     "end_time": "2020-09-30T06:02:55.922975",
     "exception": false,
     "start_time": "2020-09-30T06:02:35.911773",
     "status": "completed"
    },
    "tags": []
   },
   "outputs": [
    {
     "name": "stderr",
     "output_type": "stream",
     "text": [
      "/opt/conda/lib/python3.7/site-packages/sklearn/linear_model/_logistic.py:764: ConvergenceWarning: lbfgs failed to converge (status=1):\n",
      "STOP: TOTAL NO. of ITERATIONS REACHED LIMIT.\n",
      "\n",
      "Increase the number of iterations (max_iter) or scale the data as shown in:\n",
      "    https://scikit-learn.org/stable/modules/preprocessing.html\n",
      "Please also refer to the documentation for alternative solver options:\n",
      "    https://scikit-learn.org/stable/modules/linear_model.html#logistic-regression\n",
      "  extra_warning_msg=_LOGISTIC_SOLVER_CONVERGENCE_MSG)\n"
     ]
    },
    {
     "data": {
      "text/plain": [
       "LogisticRegression(C=1000.0)"
      ]
     },
     "execution_count": 21,
     "metadata": {},
     "output_type": "execute_result"
    }
   ],
   "source": [
    "model.fit(trainX,trainy.values.ravel())"
   ]
  },
  {
   "cell_type": "code",
   "execution_count": 22,
   "metadata": {
    "execution": {
     "iopub.execute_input": "2020-09-30T06:02:56.060629Z",
     "iopub.status.busy": "2020-09-30T06:02:56.059312Z",
     "iopub.status.idle": "2020-09-30T06:02:56.109433Z",
     "shell.execute_reply": "2020-09-30T06:02:56.108870Z"
    },
    "papermill": {
     "duration": 0.120405,
     "end_time": "2020-09-30T06:02:56.109563",
     "exception": false,
     "start_time": "2020-09-30T06:02:55.989158",
     "status": "completed"
    },
    "tags": []
   },
   "outputs": [],
   "source": [
    "y_pred = model.predict(testX)"
   ]
  },
  {
   "cell_type": "markdown",
   "metadata": {
    "papermill": {
     "duration": 0.062352,
     "end_time": "2020-09-30T06:02:56.233863",
     "exception": false,
     "start_time": "2020-09-30T06:02:56.171511",
     "status": "completed"
    },
    "tags": []
   },
   "source": [
    "Confusion matrix"
   ]
  },
  {
   "cell_type": "code",
   "execution_count": 23,
   "metadata": {
    "execution": {
     "iopub.execute_input": "2020-09-30T06:02:56.368399Z",
     "iopub.status.busy": "2020-09-30T06:02:56.367342Z",
     "iopub.status.idle": "2020-09-30T06:02:57.307152Z",
     "shell.execute_reply": "2020-09-30T06:02:57.306589Z"
    },
    "papermill": {
     "duration": 1.010993,
     "end_time": "2020-09-30T06:02:57.307273",
     "exception": false,
     "start_time": "2020-09-30T06:02:56.296280",
     "status": "completed"
    },
    "tags": []
   },
   "outputs": [
    {
     "name": "stdout",
     "output_type": "stream",
     "text": [
      "Confusion matrix:\n",
      " [[155384  84166]\n",
      " [ 83938 155612]]\n"
     ]
    },
    {
     "data": {
      "image/png": "[encoded data removed]",
      "text/plain": [
       "<Figure size 432x288 with 2 Axes>"
      ]
     },
     "metadata": {
      "needs_background": "light"
     },
     "output_type": "display_data"
    }
   ],
   "source": [
    "from sklearn.metrics import confusion_matrix\n",
    "from matplotlib import pyplot as plt\n",
    "\n",
    "conf_mat = confusion_matrix(y_true=testy, y_pred=y_pred)\n",
    "print('Confusion matrix:\\n', conf_mat)\n",
    "\n",
    "labels = ['Class 0', 'Class 1']\n",
    "fig = plt.figure()\n",
    "ax = fig.add_subplot(111)\n",
    "cax = ax.matshow(conf_mat, cmap=plt.cm.Blues)\n",
    "fig.colorbar(cax)\n",
    "ax.set_xticklabels([''] + labels)\n",
    "ax.set_yticklabels([''] + labels)\n",
    "plt.xlabel('Predicted')\n",
    "plt.ylabel('Expected')\n",
    "plt.show()"
   ]
  },
  {
   "cell_type": "markdown",
   "metadata": {
    "papermill": {
     "duration": 0.062673,
     "end_time": "2020-09-30T06:02:57.432974",
     "exception": false,
     "start_time": "2020-09-30T06:02:57.370301",
     "status": "completed"
    },
    "tags": []
   },
   "source": [
    "ROC curve"
   ]
  },
  {
   "cell_type": "code",
   "execution_count": 24,
   "metadata": {
    "execution": {
     "iopub.execute_input": "2020-09-30T06:02:57.568102Z",
     "iopub.status.busy": "2020-09-30T06:02:57.567389Z",
     "iopub.status.idle": "2020-09-30T06:02:57.938287Z",
     "shell.execute_reply": "2020-09-30T06:02:57.937696Z"
    },
    "id": "I_DvHHzuqlpW",
    "outputId": "67427f78-1ce0-4300-ad43-bfdc6bfbc9bb",
    "papermill": {
     "duration": 0.443126,
     "end_time": "2020-09-30T06:02:57.938403",
     "exception": false,
     "start_time": "2020-09-30T06:02:57.495277",
     "status": "completed"
    },
    "tags": []
   },
   "outputs": [
    {
     "data": {
      "image/png": "[encoded data removed]",
      "text/plain": [
       "<Figure size 432x288 with 1 Axes>"
      ]
     },
     "metadata": {
      "needs_background": "light"
     },
     "output_type": "display_data"
    }
   ],
   "source": [
    "yhat = model.predict_proba(testX)\n",
    "pos_probs = yhat[:, 1]\n",
    "pyplot.plot([0, 1], [0, 1], linestyle='--', label='No Skill')\n",
    "fpr, tpr, _ = roc_curve(testy, pos_probs)\n",
    "pyplot.plot(fpr, tpr, marker='.', label='Logistic')\n",
    "pyplot.xlabel('False Positive Rate')\n",
    "pyplot.ylabel('True Positive Rate')\n",
    "pyplot.legend('roc-auc curve')\n",
    "pyplot.show()"
   ]
  },
  {
   "cell_type": "code",
   "execution_count": 25,
   "metadata": {
    "execution": {
     "iopub.execute_input": "2020-09-30T06:02:58.070219Z",
     "iopub.status.busy": "2020-09-30T06:02:58.069237Z",
     "iopub.status.idle": "2020-09-30T06:02:58.072294Z",
     "shell.execute_reply": "2020-09-30T06:02:58.072777Z"
    },
    "id": "jZVNQfb5qyl7",
    "papermill": {
     "duration": 0.07151,
     "end_time": "2020-09-30T06:02:58.072912",
     "exception": false,
     "start_time": "2020-09-30T06:02:58.001402",
     "status": "completed"
    },
    "tags": []
   },
   "outputs": [],
   "source": [
    "from sklearn.metrics import roc_auc_score"
   ]
  },
  {
   "cell_type": "code",
   "execution_count": 26,
   "metadata": {
    "execution": {
     "iopub.execute_input": "2020-09-30T06:02:58.205305Z",
     "iopub.status.busy": "2020-09-30T06:02:58.204650Z",
     "iopub.status.idle": "2020-09-30T06:02:58.391764Z",
     "shell.execute_reply": "2020-09-30T06:02:58.391172Z"
    },
    "id": "_1hWdibPq348",
    "outputId": "19bcce6a-3c18-4139-971b-0634bb48689b",
    "papermill": {
     "duration": 0.255328,
     "end_time": "2020-09-30T06:02:58.391886",
     "exception": false,
     "start_time": "2020-09-30T06:02:58.136558",
     "status": "completed"
    },
    "tags": []
   },
   "outputs": [
    {
     "name": "stdout",
     "output_type": "stream",
     "text": [
      "0.7048588843157662\n"
     ]
    }
   ],
   "source": [
    "roc_auc = roc_auc_score(testy, pos_probs)\n",
    "print(roc_auc)"
   ]
  },
  {
   "cell_type": "code",
   "execution_count": 27,
   "metadata": {
    "execution": {
     "iopub.execute_input": "2020-09-30T06:02:58.527315Z",
     "iopub.status.busy": "2020-09-30T06:02:58.526332Z",
     "iopub.status.idle": "2020-09-30T06:02:58.529582Z",
     "shell.execute_reply": "2020-09-30T06:02:58.528934Z"
    },
    "id": "RYyJ795vrCEE",
    "outputId": "64951abf-28f4-484d-dfee-4dc753985ce3",
    "papermill": {
     "duration": 0.073445,
     "end_time": "2020-09-30T06:02:58.529688",
     "exception": false,
     "start_time": "2020-09-30T06:02:58.456243",
     "status": "completed"
    },
    "tags": []
   },
   "outputs": [],
   "source": [
    "model = LogisticRegression(C=1000.0, class_weight=None, dual=False, fit_intercept=True,\n",
    "                   intercept_scaling=1, l1_ratio=None, max_iter=100,\n",
    "                   multi_class='auto', n_jobs=None, penalty='l2',\n",
    "                   random_state=None, solver='lbfgs', tol=0.0001, verbose=0,\n",
    "                   warm_start=False)"
   ]
  },
  {
   "cell_type": "code",
   "execution_count": 28,
   "metadata": {
    "execution": {
     "iopub.execute_input": "2020-09-30T06:02:58.712260Z",
     "iopub.status.busy": "2020-09-30T06:02:58.711573Z",
     "iopub.status.idle": "2020-09-30T06:03:26.632064Z",
     "shell.execute_reply": "2020-09-30T06:03:26.632903Z"
    },
    "papermill": {
     "duration": 28.039508,
     "end_time": "2020-09-30T06:03:26.633138",
     "exception": false,
     "start_time": "2020-09-30T06:02:58.593630",
     "status": "completed"
    },
    "tags": []
   },
   "outputs": [
    {
     "name": "stderr",
     "output_type": "stream",
     "text": [
      "/opt/conda/lib/python3.7/site-packages/sklearn/linear_model/_logistic.py:764: ConvergenceWarning: lbfgs failed to converge (status=1):\n",
      "STOP: TOTAL NO. of ITERATIONS REACHED LIMIT.\n",
      "\n",
      "Increase the number of iterations (max_iter) or scale the data as shown in:\n",
      "    https://scikit-learn.org/stable/modules/preprocessing.html\n",
      "Please also refer to the documentation for alternative solver options:\n",
      "    https://scikit-learn.org/stable/modules/linear_model.html#logistic-regression\n",
      "  extra_warning_msg=_LOGISTIC_SOLVER_CONVERGENCE_MSG)\n"
     ]
    },
    {
     "data": {
      "text/plain": [
       "LogisticRegression(C=1000.0)"
      ]
     },
     "execution_count": 28,
     "metadata": {},
     "output_type": "execute_result"
    }
   ],
   "source": [
    "model.fit(trainX_1,trainy_1.values.ravel())"
   ]
  },
  {
   "cell_type": "code",
   "execution_count": 29,
   "metadata": {
    "execution": {
     "iopub.execute_input": "2020-09-30T06:03:26.769623Z",
     "iopub.status.busy": "2020-09-30T06:03:26.768880Z",
     "iopub.status.idle": "2020-09-30T06:03:26.810415Z",
     "shell.execute_reply": "2020-09-30T06:03:26.809803Z"
    },
    "id": "GzqMbiKDsWql",
    "papermill": {
     "duration": 0.110231,
     "end_time": "2020-09-30T06:03:26.810532",
     "exception": false,
     "start_time": "2020-09-30T06:03:26.700301",
     "status": "completed"
    },
    "tags": []
   },
   "outputs": [],
   "source": [
    "c = model.predict(Xtest)"
   ]
  },
  {
   "cell_type": "code",
   "execution_count": 30,
   "metadata": {
    "execution": {
     "iopub.execute_input": "2020-09-30T06:03:26.951261Z",
     "iopub.status.busy": "2020-09-30T06:03:26.950030Z",
     "iopub.status.idle": "2020-09-30T06:03:26.978940Z",
     "shell.execute_reply": "2020-09-30T06:03:26.978365Z"
    },
    "id": "VRG0Ljv44Mht",
    "papermill": {
     "duration": 0.102707,
     "end_time": "2020-09-30T06:03:26.979071",
     "exception": false,
     "start_time": "2020-09-30T06:03:26.876364",
     "status": "completed"
    },
    "tags": []
   },
   "outputs": [],
   "source": [
    "d = model.predict_proba(Xtest)"
   ]
  },
  {
   "cell_type": "code",
   "execution_count": 31,
   "metadata": {
    "execution": {
     "iopub.execute_input": "2020-09-30T06:03:27.113297Z",
     "iopub.status.busy": "2020-09-30T06:03:27.112624Z",
     "iopub.status.idle": "2020-09-30T06:04:51.897073Z",
     "shell.execute_reply": "2020-09-30T06:04:51.896401Z"
    },
    "id": "XjoAB7Yi43lr",
    "papermill": {
     "duration": 84.852563,
     "end_time": "2020-09-30T06:04:51.897215",
     "exception": false,
     "start_time": "2020-09-30T06:03:27.044652",
     "status": "completed"
    },
    "tags": []
   },
   "outputs": [],
   "source": [
    "list1 = []\n",
    "for i in range(0,len(c)):\n",
    "  id1 = test_data.loc[[i][:]]\n",
    "  id1 = id1['id']\n",
    "  id1 = id1[i]\n",
    "  #print(id1)\n",
    "  target1 = d[i][1]\n",
    "  dict1 = {'id':(int)(id1),'target':(target1)}\n",
    "  list1.append(dict1)"
   ]
  },
  {
   "cell_type": "code",
   "execution_count": 32,
   "metadata": {
    "execution": {
     "iopub.execute_input": "2020-09-30T06:04:52.034288Z",
     "iopub.status.busy": "2020-09-30T06:04:52.033584Z",
     "iopub.status.idle": "2020-09-30T06:04:52.036938Z",
     "shell.execute_reply": "2020-09-30T06:04:52.036366Z"
    },
    "id": "sWCpQIYgChX5",
    "papermill": {
     "duration": 0.073905,
     "end_time": "2020-09-30T06:04:52.037066",
     "exception": false,
     "start_time": "2020-09-30T06:04:51.963161",
     "status": "completed"
    },
    "tags": []
   },
   "outputs": [],
   "source": [
    "import csv"
   ]
  },
  {
   "cell_type": "markdown",
   "metadata": {
    "papermill": {
     "duration": 0.06559,
     "end_time": "2020-09-30T06:04:52.168170",
     "exception": false,
     "start_time": "2020-09-30T06:04:52.102580",
     "status": "completed"
    },
    "tags": []
   },
   "source": [
    "I forgot to use random state in model. so, there is minor difference in score than private leaderboard."
   ]
  },
  {
   "cell_type": "code",
   "execution_count": 33,
   "metadata": {
    "execution": {
     "iopub.execute_input": "2020-09-30T06:04:52.304554Z",
     "iopub.status.busy": "2020-09-30T06:04:52.303796Z",
     "iopub.status.idle": "2020-09-30T06:04:53.199192Z",
     "shell.execute_reply": "2020-09-30T06:04:53.199721Z"
    },
    "id": "9sC3jNKgAsut",
    "papermill": {
     "duration": 0.965635,
     "end_time": "2020-09-30T06:04:53.199862",
     "exception": false,
     "start_time": "2020-09-30T06:04:52.234227",
     "status": "completed"
    },
    "tags": []
   },
   "outputs": [],
   "source": [
    "csvfile=open('log_reg_oversampling_prob_final.csv','w', newline='')\n",
    "fields=list(list1[0].keys())\n",
    "obj=csv.DictWriter(csvfile, fieldnames=fields)\n",
    "obj.writeheader()\n",
    "obj.writerows(list1)\n",
    "csvfile.close()"
   ]
  },
  {
   "cell_type": "markdown",
   "metadata": {
    "papermill": {
     "duration": 0.066135,
     "end_time": "2020-09-30T06:04:53.332829",
     "exception": false,
     "start_time": "2020-09-30T06:04:53.266694",
     "status": "completed"
    },
    "tags": []
   },
   "source": [
    "I tried below techniques for sampling. But using that I was not able to get higher accuracy than Random over sampling"
   ]
  },
  {
   "cell_type": "markdown",
   "metadata": {
    "papermill": {
     "duration": 0.065599,
     "end_time": "2020-09-30T06:04:53.464490",
     "exception": false,
     "start_time": "2020-09-30T06:04:53.398891",
     "status": "completed"
    },
    "tags": []
   },
   "source": [
    "# Over-sampling: SMOTE"
   ]
  },
  {
   "cell_type": "code",
   "execution_count": 34,
   "metadata": {
    "execution": {
     "iopub.execute_input": "2020-09-30T06:04:53.600293Z",
     "iopub.status.busy": "2020-09-30T06:04:53.599566Z",
     "iopub.status.idle": "2020-09-30T06:04:58.142226Z",
     "shell.execute_reply": "2020-09-30T06:04:58.142806Z"
    },
    "papermill": {
     "duration": 4.612147,
     "end_time": "2020-09-30T06:04:58.142987",
     "exception": false,
     "start_time": "2020-09-30T06:04:53.530840",
     "status": "completed"
    },
    "tags": []
   },
   "outputs": [],
   "source": [
    "from imblearn.over_sampling import SMOTE\n",
    "\n",
    "smote = SMOTE(sampling_strategy='minority')\n",
    "trainX_1, trainy_1 = smote.fit_sample(X, y)"
   ]
  },
  {
   "cell_type": "code",
   "execution_count": 35,
   "metadata": {
    "execution": {
     "iopub.execute_input": "2020-09-30T06:04:58.281821Z",
     "iopub.status.busy": "2020-09-30T06:04:58.281184Z",
     "iopub.status.idle": "2020-09-30T06:04:58.285869Z",
     "shell.execute_reply": "2020-09-30T06:04:58.286476Z"
    },
    "papermill": {
     "duration": 0.075072,
     "end_time": "2020-09-30T06:04:58.286615",
     "exception": false,
     "start_time": "2020-09-30T06:04:58.211543",
     "status": "completed"
    },
    "tags": []
   },
   "outputs": [],
   "source": [
    "from sklearn.linear_model import LogisticRegression\n",
    "from sklearn.model_selection import train_test_split\n",
    "from sklearn.metrics import roc_curve\n",
    "from matplotlib import pyplot"
   ]
  },
  {
   "cell_type": "code",
   "execution_count": 36,
   "metadata": {
    "execution": {
     "iopub.execute_input": "2020-09-30T06:04:58.422281Z",
     "iopub.status.busy": "2020-09-30T06:04:58.421647Z",
     "iopub.status.idle": "2020-09-30T06:04:58.426257Z",
     "shell.execute_reply": "2020-09-30T06:04:58.425639Z"
    },
    "papermill": {
     "duration": 0.073855,
     "end_time": "2020-09-30T06:04:58.426417",
     "exception": false,
     "start_time": "2020-09-30T06:04:58.352562",
     "status": "completed"
    },
    "tags": []
   },
   "outputs": [],
   "source": [
    "from sklearn.model_selection import KFold, StratifiedKFold, cross_val_score"
   ]
  },
  {
   "cell_type": "code",
   "execution_count": 37,
   "metadata": {
    "execution": {
     "iopub.execute_input": "2020-09-30T06:04:58.562006Z",
     "iopub.status.busy": "2020-09-30T06:04:58.561334Z",
     "iopub.status.idle": "2020-09-30T06:04:58.565438Z",
     "shell.execute_reply": "2020-09-30T06:04:58.565999Z"
    },
    "papermill": {
     "duration": 0.073614,
     "end_time": "2020-09-30T06:04:58.566146",
     "exception": false,
     "start_time": "2020-09-30T06:04:58.492532",
     "status": "completed"
    },
    "tags": []
   },
   "outputs": [],
   "source": [
    "from sklearn.linear_model import LogisticRegression\n",
    "from sklearn.model_selection import train_test_split\n",
    "from sklearn.metrics import roc_curve\n",
    "from matplotlib import pyplot"
   ]
  },
  {
   "cell_type": "code",
   "execution_count": 38,
   "metadata": {
    "execution": {
     "iopub.execute_input": "2020-09-30T06:04:58.703259Z",
     "iopub.status.busy": "2020-09-30T06:04:58.702591Z",
     "iopub.status.idle": "2020-09-30T06:05:11.517314Z",
     "shell.execute_reply": "2020-09-30T06:05:11.516675Z"
    },
    "papermill": {
     "duration": 12.885492,
     "end_time": "2020-09-30T06:05:11.517438",
     "exception": false,
     "start_time": "2020-09-30T06:04:58.631946",
     "status": "completed"
    },
    "tags": []
   },
   "outputs": [],
   "source": [
    "trainX, testX, trainy, testy = train_test_split(trainX_1, trainy_1, test_size=0.3, random_state=2,stratify=trainy_1)"
   ]
  },
  {
   "cell_type": "code",
   "execution_count": 39,
   "metadata": {
    "execution": {
     "iopub.execute_input": "2020-09-30T06:05:11.657130Z",
     "iopub.status.busy": "2020-09-30T06:05:11.656423Z",
     "iopub.status.idle": "2020-09-30T06:05:11.659568Z",
     "shell.execute_reply": "2020-09-30T06:05:11.660079Z"
    },
    "papermill": {
     "duration": 0.07568,
     "end_time": "2020-09-30T06:05:11.660259",
     "exception": false,
     "start_time": "2020-09-30T06:05:11.584579",
     "status": "completed"
    },
    "tags": []
   },
   "outputs": [],
   "source": [
    "from sklearn.model_selection import GridSearchCV"
   ]
  },
  {
   "cell_type": "markdown",
   "metadata": {
    "papermill": {
     "duration": 0.066755,
     "end_time": "2020-09-30T06:05:11.795225",
     "exception": false,
     "start_time": "2020-09-30T06:05:11.728470",
     "status": "completed"
    },
    "tags": []
   },
   "source": [
    "Grid Search Cross Validation for Logistic Regression"
   ]
  },
  {
   "cell_type": "code",
   "execution_count": 40,
   "metadata": {
    "execution": {
     "iopub.execute_input": "2020-09-30T06:05:11.936495Z",
     "iopub.status.busy": "2020-09-30T06:05:11.935416Z",
     "iopub.status.idle": "2020-09-30T06:05:11.937895Z",
     "shell.execute_reply": "2020-09-30T06:05:11.938460Z"
    },
    "papermill": {
     "duration": 0.075497,
     "end_time": "2020-09-30T06:05:11.938607",
     "exception": false,
     "start_time": "2020-09-30T06:05:11.863110",
     "status": "completed"
    },
    "tags": []
   },
   "outputs": [],
   "source": [
    "# model = LogisticRegression()\n",
    "# grid = {'C': np.logspace(-3,3,7), 'penalty': ['l1', 'l2']}\n",
    "# model_cv = GridSearchCV(model,grid,cv=10)\n",
    "# model_cv.fit(trainX, trainy)"
   ]
  },
  {
   "cell_type": "markdown",
   "metadata": {
    "papermill": {
     "duration": 0.067141,
     "end_time": "2020-09-30T06:05:12.073087",
     "exception": false,
     "start_time": "2020-09-30T06:05:12.005946",
     "status": "completed"
    },
    "tags": []
   },
   "source": [
    "After the grid search cross validation for logistic regression I found that logistic regression regularization parameters should be;\n",
    "\n",
    "C = 0.1 penalty = l2"
   ]
  },
  {
   "cell_type": "code",
   "execution_count": 41,
   "metadata": {
    "execution": {
     "iopub.execute_input": "2020-09-30T06:05:12.211401Z",
     "iopub.status.busy": "2020-09-30T06:05:12.210440Z",
     "iopub.status.idle": "2020-09-30T06:05:12.217579Z",
     "shell.execute_reply": "2020-09-30T06:05:12.216960Z"
    },
    "papermill": {
     "duration": 0.077585,
     "end_time": "2020-09-30T06:05:12.217697",
     "exception": false,
     "start_time": "2020-09-30T06:05:12.140112",
     "status": "completed"
    },
    "tags": []
   },
   "outputs": [],
   "source": [
    "model = LogisticRegression(C=0.1, class_weight=None, dual=False, fit_intercept=True,\n",
    "                   intercept_scaling=1, l1_ratio=None, max_iter=100,\n",
    "                   multi_class='auto', n_jobs=None, penalty='l2',\n",
    "                   random_state=None, solver='lbfgs', tol=0.0001, verbose=0,\n",
    "                   warm_start=False)"
   ]
  },
  {
   "cell_type": "code",
   "execution_count": 42,
   "metadata": {
    "execution": {
     "iopub.execute_input": "2020-09-30T06:05:12.361227Z",
     "iopub.status.busy": "2020-09-30T06:05:12.360525Z",
     "iopub.status.idle": "2020-09-30T06:05:31.899900Z",
     "shell.execute_reply": "2020-09-30T06:05:31.900564Z"
    },
    "papermill": {
     "duration": 19.614709,
     "end_time": "2020-09-30T06:05:31.900734",
     "exception": false,
     "start_time": "2020-09-30T06:05:12.286025",
     "status": "completed"
    },
    "tags": []
   },
   "outputs": [
    {
     "name": "stderr",
     "output_type": "stream",
     "text": [
      "/opt/conda/lib/python3.7/site-packages/sklearn/utils/validation.py:72: DataConversionWarning: A column-vector y was passed when a 1d array was expected. Please change the shape of y to (n_samples, ), for example using ravel().\n",
      "  return f(**kwargs)\n",
      "/opt/conda/lib/python3.7/site-packages/sklearn/linear_model/_logistic.py:764: ConvergenceWarning: lbfgs failed to converge (status=1):\n",
      "STOP: TOTAL NO. of ITERATIONS REACHED LIMIT.\n",
      "\n",
      "Increase the number of iterations (max_iter) or scale the data as shown in:\n",
      "    https://scikit-learn.org/stable/modules/preprocessing.html\n",
      "Please also refer to the documentation for alternative solver options:\n",
      "    https://scikit-learn.org/stable/modules/linear_model.html#logistic-regression\n",
      "  extra_warning_msg=_LOGISTIC_SOLVER_CONVERGENCE_MSG)\n"
     ]
    },
    {
     "data": {
      "text/plain": [
       "LogisticRegression(C=0.1)"
      ]
     },
     "execution_count": 42,
     "metadata": {},
     "output_type": "execute_result"
    }
   ],
   "source": [
    "model.fit(trainX,trainy)"
   ]
  },
  {
   "cell_type": "code",
   "execution_count": 43,
   "metadata": {
    "execution": {
     "iopub.execute_input": "2020-09-30T06:05:32.051280Z",
     "iopub.status.busy": "2020-09-30T06:05:32.050423Z",
     "iopub.status.idle": "2020-09-30T06:05:32.096840Z",
     "shell.execute_reply": "2020-09-30T06:05:32.096301Z"
    },
    "papermill": {
     "duration": 0.12725,
     "end_time": "2020-09-30T06:05:32.096957",
     "exception": false,
     "start_time": "2020-09-30T06:05:31.969707",
     "status": "completed"
    },
    "tags": []
   },
   "outputs": [],
   "source": [
    "y_pred = model.predict(testX)"
   ]
  },
  {
   "cell_type": "markdown",
   "metadata": {
    "papermill": {
     "duration": 0.068882,
     "end_time": "2020-09-30T06:05:32.235172",
     "exception": false,
     "start_time": "2020-09-30T06:05:32.166290",
     "status": "completed"
    },
    "tags": []
   },
   "source": [
    "Confusion Matrix"
   ]
  },
  {
   "cell_type": "code",
   "execution_count": 44,
   "metadata": {
    "execution": {
     "iopub.execute_input": "2020-09-30T06:05:32.382151Z",
     "iopub.status.busy": "2020-09-30T06:05:32.381119Z",
     "iopub.status.idle": "2020-09-30T06:05:33.275384Z",
     "shell.execute_reply": "2020-09-30T06:05:33.274728Z"
    },
    "papermill": {
     "duration": 0.971538,
     "end_time": "2020-09-30T06:05:33.275496",
     "exception": false,
     "start_time": "2020-09-30T06:05:32.303958",
     "status": "completed"
    },
    "tags": []
   },
   "outputs": [
    {
     "name": "stdout",
     "output_type": "stream",
     "text": [
      "Confusion matrix:\n",
      " [[155430  84120]\n",
      " [ 84255 155295]]\n"
     ]
    },
    {
     "data": {
      "image/png": "[encoded data removed]",
      "text/plain": [
       "<Figure size 432x288 with 2 Axes>"
      ]
     },
     "metadata": {
      "needs_background": "light"
     },
     "output_type": "display_data"
    }
   ],
   "source": [
    "from sklearn.metrics import confusion_matrix\n",
    "from matplotlib import pyplot as plt\n",
    "\n",
    "conf_mat = confusion_matrix(y_true=testy, y_pred=y_pred)\n",
    "print('Confusion matrix:\\n', conf_mat)\n",
    "\n",
    "labels = ['Class 0', 'Class 1']\n",
    "fig = plt.figure()\n",
    "ax = fig.add_subplot(111)\n",
    "cax = ax.matshow(conf_mat, cmap=plt.cm.Blues)\n",
    "fig.colorbar(cax)\n",
    "ax.set_xticklabels([''] + labels)\n",
    "ax.set_yticklabels([''] + labels)\n",
    "plt.xlabel('Predicted')\n",
    "plt.ylabel('Expected')\n",
    "plt.show()"
   ]
  },
  {
   "cell_type": "markdown",
   "metadata": {
    "papermill": {
     "duration": 0.069255,
     "end_time": "2020-09-30T06:05:33.415400",
     "exception": false,
     "start_time": "2020-09-30T06:05:33.346145",
     "status": "completed"
    },
    "tags": []
   },
   "source": [
    "ROC curve"
   ]
  },
  {
   "cell_type": "code",
   "execution_count": 45,
   "metadata": {
    "execution": {
     "iopub.execute_input": "2020-09-30T06:05:33.566022Z",
     "iopub.status.busy": "2020-09-30T06:05:33.565389Z",
     "iopub.status.idle": "2020-09-30T06:05:34.237485Z",
     "shell.execute_reply": "2020-09-30T06:05:34.236443Z"
    },
    "papermill": {
     "duration": 0.752609,
     "end_time": "2020-09-30T06:05:34.237620",
     "exception": false,
     "start_time": "2020-09-30T06:05:33.485011",
     "status": "completed"
    },
    "tags": []
   },
   "outputs": [
    {
     "data": {
      "image/png": "[encoded data removed]",
      "text/plain": [
       "<Figure size 432x288 with 1 Axes>"
      ]
     },
     "metadata": {
      "needs_background": "light"
     },
     "output_type": "display_data"
    }
   ],
   "source": [
    "yhat = model.predict_proba(testX)\n",
    "pos_probs = yhat[:, 1]\n",
    "pyplot.plot([0, 1], [0, 1], linestyle='--', label='No Skill')\n",
    "fpr, tpr, _ = roc_curve(testy, pos_probs)\n",
    "pyplot.plot(fpr, tpr, marker='.', label='Logistic')\n",
    "pyplot.xlabel('False Positive Rate')\n",
    "pyplot.ylabel('True Positive Rate')\n",
    "pyplot.legend('roc-auc curve')\n",
    "pyplot.show()"
   ]
  },
  {
   "cell_type": "code",
   "execution_count": 46,
   "metadata": {
    "execution": {
     "iopub.execute_input": "2020-09-30T06:05:34.386278Z",
     "iopub.status.busy": "2020-09-30T06:05:34.385311Z",
     "iopub.status.idle": "2020-09-30T06:05:34.388531Z",
     "shell.execute_reply": "2020-09-30T06:05:34.388992Z"
    },
    "papermill": {
     "duration": 0.079535,
     "end_time": "2020-09-30T06:05:34.389192",
     "exception": false,
     "start_time": "2020-09-30T06:05:34.309657",
     "status": "completed"
    },
    "tags": []
   },
   "outputs": [],
   "source": [
    "from sklearn.metrics import roc_auc_score"
   ]
  },
  {
   "cell_type": "code",
   "execution_count": 47,
   "metadata": {
    "execution": {
     "iopub.execute_input": "2020-09-30T06:05:34.536688Z",
     "iopub.status.busy": "2020-09-30T06:05:34.535669Z",
     "iopub.status.idle": "2020-09-30T06:05:34.732993Z",
     "shell.execute_reply": "2020-09-30T06:05:34.732060Z"
    },
    "papermill": {
     "duration": 0.273484,
     "end_time": "2020-09-30T06:05:34.733174",
     "exception": false,
     "start_time": "2020-09-30T06:05:34.459690",
     "status": "completed"
    },
    "tags": []
   },
   "outputs": [
    {
     "name": "stdout",
     "output_type": "stream",
     "text": [
      "0.7066608973436549\n"
     ]
    }
   ],
   "source": [
    "roc_auc = roc_auc_score(testy, pos_probs)\n",
    "print(roc_auc)"
   ]
  },
  {
   "cell_type": "code",
   "execution_count": 48,
   "metadata": {
    "execution": {
     "iopub.execute_input": "2020-09-30T06:05:34.886268Z",
     "iopub.status.busy": "2020-09-30T06:05:34.884672Z",
     "iopub.status.idle": "2020-09-30T06:05:34.889099Z",
     "shell.execute_reply": "2020-09-30T06:05:34.888431Z"
    },
    "papermill": {
     "duration": 0.083217,
     "end_time": "2020-09-30T06:05:34.889215",
     "exception": false,
     "start_time": "2020-09-30T06:05:34.805998",
     "status": "completed"
    },
    "tags": []
   },
   "outputs": [],
   "source": [
    "model = LogisticRegression(C=0.1, class_weight=None, dual=False, fit_intercept=True,\n",
    "                   intercept_scaling=1, l1_ratio=None, max_iter=100,\n",
    "                   multi_class='auto', n_jobs=None, penalty='l2',\n",
    "                   random_state=None, solver='lbfgs', tol=0.0001, verbose=0,\n",
    "                   warm_start=False)"
   ]
  },
  {
   "cell_type": "code",
   "execution_count": 49,
   "metadata": {
    "execution": {
     "iopub.execute_input": "2020-09-30T06:05:35.041386Z",
     "iopub.status.busy": "2020-09-30T06:05:35.040288Z",
     "iopub.status.idle": "2020-09-30T06:06:04.039071Z",
     "shell.execute_reply": "2020-09-30T06:06:04.039665Z"
    },
    "papermill": {
     "duration": 29.078839,
     "end_time": "2020-09-30T06:06:04.039842",
     "exception": false,
     "start_time": "2020-09-30T06:05:34.961003",
     "status": "completed"
    },
    "tags": []
   },
   "outputs": [
    {
     "name": "stderr",
     "output_type": "stream",
     "text": [
      "/opt/conda/lib/python3.7/site-packages/sklearn/utils/validation.py:72: DataConversionWarning: A column-vector y was passed when a 1d array was expected. Please change the shape of y to (n_samples, ), for example using ravel().\n",
      "  return f(**kwargs)\n",
      "/opt/conda/lib/python3.7/site-packages/sklearn/linear_model/_logistic.py:764: ConvergenceWarning: lbfgs failed to converge (status=1):\n",
      "STOP: TOTAL NO. of ITERATIONS REACHED LIMIT.\n",
      "\n",
      "Increase the number of iterations (max_iter) or scale the data as shown in:\n",
      "    https://scikit-learn.org/stable/modules/preprocessing.html\n",
      "Please also refer to the documentation for alternative solver options:\n",
      "    https://scikit-learn.org/stable/modules/linear_model.html#logistic-regression\n",
      "  extra_warning_msg=_LOGISTIC_SOLVER_CONVERGENCE_MSG)\n"
     ]
    },
    {
     "data": {
      "text/plain": [
       "LogisticRegression(C=0.1)"
      ]
     },
     "execution_count": 49,
     "metadata": {},
     "output_type": "execute_result"
    }
   ],
   "source": [
    "model.fit(trainX_1,trainy_1)"
   ]
  },
  {
   "cell_type": "code",
   "execution_count": 50,
   "metadata": {
    "execution": {
     "iopub.execute_input": "2020-09-30T06:06:04.232710Z",
     "iopub.status.busy": "2020-09-30T06:06:04.231486Z",
     "iopub.status.idle": "2020-09-30T06:06:04.269154Z",
     "shell.execute_reply": "2020-09-30T06:06:04.268406Z"
    },
    "papermill": {
     "duration": 0.127218,
     "end_time": "2020-09-30T06:06:04.269279",
     "exception": false,
     "start_time": "2020-09-30T06:06:04.142061",
     "status": "completed"
    },
    "tags": []
   },
   "outputs": [],
   "source": [
    "c = model.predict(Xtest)"
   ]
  },
  {
   "cell_type": "code",
   "execution_count": 51,
   "metadata": {
    "execution": {
     "iopub.execute_input": "2020-09-30T06:06:04.427426Z",
     "iopub.status.busy": "2020-09-30T06:06:04.426519Z",
     "iopub.status.idle": "2020-09-30T06:06:04.455534Z",
     "shell.execute_reply": "2020-09-30T06:06:04.454643Z"
    },
    "papermill": {
     "duration": 0.110609,
     "end_time": "2020-09-30T06:06:04.455693",
     "exception": false,
     "start_time": "2020-09-30T06:06:04.345084",
     "status": "completed"
    },
    "tags": []
   },
   "outputs": [],
   "source": [
    "d = model.predict_proba(Xtest)"
   ]
  },
  {
   "cell_type": "code",
   "execution_count": 52,
   "metadata": {
    "execution": {
     "iopub.execute_input": "2020-09-30T06:06:04.709254Z",
     "iopub.status.busy": "2020-09-30T06:06:04.701933Z",
     "iopub.status.idle": "2020-09-30T06:07:29.217375Z",
     "shell.execute_reply": "2020-09-30T06:07:29.217863Z"
    },
    "papermill": {
     "duration": 84.684504,
     "end_time": "2020-09-30T06:07:29.218032",
     "exception": false,
     "start_time": "2020-09-30T06:06:04.533528",
     "status": "completed"
    },
    "tags": []
   },
   "outputs": [],
   "source": [
    "list1 = []\n",
    "for i in range(0,len(d)):\n",
    "  id1 = test_data.loc[[i][:]]\n",
    "  id1 = id1['id']\n",
    "  id1 = id1[i]\n",
    "  #print(id1)\n",
    "  target1 = d[i][1]\n",
    "  dict1 = {'id':(int)(id1),'target':(target1)}\n",
    "  list1.append(dict1)"
   ]
  },
  {
   "cell_type": "markdown",
   "metadata": {
    "papermill": {
     "duration": 0.073149,
     "end_time": "2020-09-30T06:07:29.364868",
     "exception": false,
     "start_time": "2020-09-30T06:07:29.291719",
     "status": "completed"
    },
    "tags": []
   },
   "source": [
    "commenting below two cells because it was not giving me accuracy higher than Random Oversampling."
   ]
  },
  {
   "cell_type": "code",
   "execution_count": 53,
   "metadata": {
    "execution": {
     "iopub.execute_input": "2020-09-30T06:07:29.514093Z",
     "iopub.status.busy": "2020-09-30T06:07:29.513436Z",
     "iopub.status.idle": "2020-09-30T06:07:29.516692Z",
     "shell.execute_reply": "2020-09-30T06:07:29.517142Z"
    },
    "papermill": {
     "duration": 0.08001,
     "end_time": "2020-09-30T06:07:29.517307",
     "exception": false,
     "start_time": "2020-09-30T06:07:29.437297",
     "status": "completed"
    },
    "tags": []
   },
   "outputs": [],
   "source": [
    "# import csv"
   ]
  },
  {
   "cell_type": "code",
   "execution_count": 54,
   "metadata": {
    "execution": {
     "iopub.execute_input": "2020-09-30T06:07:29.666765Z",
     "iopub.status.busy": "2020-09-30T06:07:29.666075Z",
     "iopub.status.idle": "2020-09-30T06:07:29.669523Z",
     "shell.execute_reply": "2020-09-30T06:07:29.669988Z"
    },
    "papermill": {
     "duration": 0.079762,
     "end_time": "2020-09-30T06:07:29.670194",
     "exception": false,
     "start_time": "2020-09-30T06:07:29.590432",
     "status": "completed"
    },
    "tags": []
   },
   "outputs": [],
   "source": [
    "# csvfile=open('log_reg_oversampling_SMOTE_prob_final.csv','w', newline='')\n",
    "# fields=list(list1[0].keys())\n",
    "# obj=csv.DictWriter(csvfile, fieldnames=fields)\n",
    "# obj.writeheader()\n",
    "# obj.writerows(list1)\n",
    "# csvfile.close()"
   ]
  },
  {
   "cell_type": "markdown",
   "metadata": {
    "papermill": {
     "duration": 0.074129,
     "end_time": "2020-09-30T06:07:29.818231",
     "exception": false,
     "start_time": "2020-09-30T06:07:29.744102",
     "status": "completed"
    },
    "tags": []
   },
   "source": [
    "# Random under-sampling with imbalanced-learn"
   ]
  },
  {
   "cell_type": "code",
   "execution_count": 55,
   "metadata": {
    "execution": {
     "iopub.execute_input": "2020-09-30T06:07:29.968459Z",
     "iopub.status.busy": "2020-09-30T06:07:29.967800Z",
     "iopub.status.idle": "2020-09-30T06:07:30.366465Z",
     "shell.execute_reply": "2020-09-30T06:07:30.367013Z"
    },
    "papermill": {
     "duration": 0.475222,
     "end_time": "2020-09-30T06:07:30.367193",
     "exception": false,
     "start_time": "2020-09-30T06:07:29.891971",
     "status": "completed"
    },
    "tags": []
   },
   "outputs": [],
   "source": [
    "from imblearn.under_sampling import RandomUnderSampler\n",
    "\n",
    "rus = RandomUnderSampler()\n",
    "trainX_1, trainy_1 = rus.fit_sample(X, y)"
   ]
  },
  {
   "cell_type": "code",
   "execution_count": 56,
   "metadata": {
    "execution": {
     "iopub.execute_input": "2020-09-30T06:07:30.521925Z",
     "iopub.status.busy": "2020-09-30T06:07:30.521273Z",
     "iopub.status.idle": "2020-09-30T06:07:30.523460Z",
     "shell.execute_reply": "2020-09-30T06:07:30.523964Z"
    },
    "papermill": {
     "duration": 0.082644,
     "end_time": "2020-09-30T06:07:30.524132",
     "exception": false,
     "start_time": "2020-09-30T06:07:30.441488",
     "status": "completed"
    },
    "tags": []
   },
   "outputs": [],
   "source": [
    "from sklearn.linear_model import LogisticRegression\n",
    "from sklearn.model_selection import train_test_split\n",
    "from sklearn.metrics import roc_curve\n",
    "from matplotlib import pyplot"
   ]
  },
  {
   "cell_type": "code",
   "execution_count": 57,
   "metadata": {
    "execution": {
     "iopub.execute_input": "2020-09-30T06:07:30.676261Z",
     "iopub.status.busy": "2020-09-30T06:07:30.675557Z",
     "iopub.status.idle": "2020-09-30T06:07:30.680316Z",
     "shell.execute_reply": "2020-09-30T06:07:30.680854Z"
    },
    "papermill": {
     "duration": 0.082133,
     "end_time": "2020-09-30T06:07:30.680992",
     "exception": false,
     "start_time": "2020-09-30T06:07:30.598859",
     "status": "completed"
    },
    "tags": []
   },
   "outputs": [],
   "source": [
    "from sklearn.model_selection import KFold, StratifiedKFold, cross_val_score"
   ]
  },
  {
   "cell_type": "code",
   "execution_count": 58,
   "metadata": {
    "execution": {
     "iopub.execute_input": "2020-09-30T06:07:30.834830Z",
     "iopub.status.busy": "2020-09-30T06:07:30.834087Z",
     "iopub.status.idle": "2020-09-30T06:07:30.837579Z",
     "shell.execute_reply": "2020-09-30T06:07:30.836973Z"
    },
    "papermill": {
     "duration": 0.082603,
     "end_time": "2020-09-30T06:07:30.837709",
     "exception": false,
     "start_time": "2020-09-30T06:07:30.755106",
     "status": "completed"
    },
    "tags": []
   },
   "outputs": [],
   "source": [
    "from sklearn.linear_model import LogisticRegression\n",
    "from sklearn.model_selection import train_test_split\n",
    "from sklearn.metrics import roc_curve\n",
    "from matplotlib import pyplot"
   ]
  },
  {
   "cell_type": "code",
   "execution_count": 59,
   "metadata": {
    "execution": {
     "iopub.execute_input": "2020-09-30T06:07:31.014005Z",
     "iopub.status.busy": "2020-09-30T06:07:31.010342Z",
     "iopub.status.idle": "2020-09-30T06:07:31.026449Z",
     "shell.execute_reply": "2020-09-30T06:07:31.026997Z"
    },
    "papermill": {
     "duration": 0.114835,
     "end_time": "2020-09-30T06:07:31.027160",
     "exception": false,
     "start_time": "2020-09-30T06:07:30.912325",
     "status": "completed"
    },
    "tags": []
   },
   "outputs": [],
   "source": [
    "trainX, testX, trainy, testy = train_test_split(trainX_1, trainy_1, test_size=0.3, random_state=2,stratify=trainy_1)"
   ]
  },
  {
   "cell_type": "code",
   "execution_count": 60,
   "metadata": {
    "execution": {
     "iopub.execute_input": "2020-09-30T06:07:31.199018Z",
     "iopub.status.busy": "2020-09-30T06:07:31.197911Z",
     "iopub.status.idle": "2020-09-30T06:07:31.205557Z",
     "shell.execute_reply": "2020-09-30T06:07:31.206153Z"
    },
    "papermill": {
     "duration": 0.105048,
     "end_time": "2020-09-30T06:07:31.206322",
     "exception": false,
     "start_time": "2020-09-30T06:07:31.101274",
     "status": "completed"
    },
    "tags": []
   },
   "outputs": [],
   "source": [
    "from sklearn.model_selection import GridSearchCV"
   ]
  },
  {
   "cell_type": "markdown",
   "metadata": {
    "papermill": {
     "duration": 0.075294,
     "end_time": "2020-09-30T06:07:31.368893",
     "exception": false,
     "start_time": "2020-09-30T06:07:31.293599",
     "status": "completed"
    },
    "tags": []
   },
   "source": [
    "Grid Search Cross Validation for Logistic Regression"
   ]
  },
  {
   "cell_type": "code",
   "execution_count": 61,
   "metadata": {
    "execution": {
     "iopub.execute_input": "2020-09-30T06:07:31.521910Z",
     "iopub.status.busy": "2020-09-30T06:07:31.521262Z",
     "iopub.status.idle": "2020-09-30T06:07:31.524440Z",
     "shell.execute_reply": "2020-09-30T06:07:31.524950Z"
    },
    "papermill": {
     "duration": 0.081378,
     "end_time": "2020-09-30T06:07:31.525108",
     "exception": false,
     "start_time": "2020-09-30T06:07:31.443730",
     "status": "completed"
    },
    "tags": []
   },
   "outputs": [],
   "source": [
    "# model = LogisticRegression()\n",
    "# grid = {'C': np.logspace(-3,3,7), 'penalty': ['l1', 'l2']}\n",
    "# model_cv = GridSearchCV(model,grid,cv=10)\n",
    "# model_cv.fit(trainX, trainy)"
   ]
  },
  {
   "cell_type": "markdown",
   "metadata": {
    "papermill": {
     "duration": 0.081871,
     "end_time": "2020-09-30T06:07:31.681352",
     "exception": false,
     "start_time": "2020-09-30T06:07:31.599481",
     "status": "completed"
    },
    "tags": []
   },
   "source": [
    "After the grid search cross validation for logistic regression I found that logistic regression regularization parameters should be;\n",
    "\n",
    "C = 10 penalty = l2"
   ]
  },
  {
   "cell_type": "code",
   "execution_count": 62,
   "metadata": {
    "execution": {
     "iopub.execute_input": "2020-09-30T06:07:31.836150Z",
     "iopub.status.busy": "2020-09-30T06:07:31.835496Z",
     "iopub.status.idle": "2020-09-30T06:07:31.842559Z",
     "shell.execute_reply": "2020-09-30T06:07:31.841837Z"
    },
    "papermill": {
     "duration": 0.084172,
     "end_time": "2020-09-30T06:07:31.842674",
     "exception": false,
     "start_time": "2020-09-30T06:07:31.758502",
     "status": "completed"
    },
    "tags": []
   },
   "outputs": [],
   "source": [
    "model = LogisticRegression(C=10.0, class_weight=None, dual=False, fit_intercept=True,\n",
    "                   intercept_scaling=1, l1_ratio=None, max_iter=100,\n",
    "                   multi_class='auto', n_jobs=None, penalty='l2',\n",
    "                   random_state=None, solver='lbfgs', tol=0.0001, verbose=0,\n",
    "                   warm_start=False)"
   ]
  },
  {
   "cell_type": "code",
   "execution_count": 63,
   "metadata": {
    "execution": {
     "iopub.execute_input": "2020-09-30T06:07:32.000831Z",
     "iopub.status.busy": "2020-09-30T06:07:31.999922Z",
     "iopub.status.idle": "2020-09-30T06:07:32.069667Z",
     "shell.execute_reply": "2020-09-30T06:07:32.068981Z"
    },
    "papermill": {
     "duration": 0.152185,
     "end_time": "2020-09-30T06:07:32.069818",
     "exception": false,
     "start_time": "2020-09-30T06:07:31.917633",
     "status": "completed"
    },
    "tags": []
   },
   "outputs": [
    {
     "name": "stderr",
     "output_type": "stream",
     "text": [
      "/opt/conda/lib/python3.7/site-packages/sklearn/utils/validation.py:72: DataConversionWarning: A column-vector y was passed when a 1d array was expected. Please change the shape of y to (n_samples, ), for example using ravel().\n",
      "  return f(**kwargs)\n",
      "/opt/conda/lib/python3.7/site-packages/sklearn/linear_model/_logistic.py:764: ConvergenceWarning: lbfgs failed to converge (status=1):\n",
      "STOP: TOTAL NO. of ITERATIONS REACHED LIMIT.\n",
      "\n",
      "Increase the number of iterations (max_iter) or scale the data as shown in:\n",
      "    https://scikit-learn.org/stable/modules/preprocessing.html\n",
      "Please also refer to the documentation for alternative solver options:\n",
      "    https://scikit-learn.org/stable/modules/linear_model.html#logistic-regression\n",
      "  extra_warning_msg=_LOGISTIC_SOLVER_CONVERGENCE_MSG)\n"
     ]
    },
    {
     "data": {
      "text/plain": [
       "LogisticRegression(C=10.0)"
      ]
     },
     "execution_count": 63,
     "metadata": {},
     "output_type": "execute_result"
    }
   ],
   "source": [
    "model.fit(trainX,trainy)"
   ]
  },
  {
   "cell_type": "code",
   "execution_count": 64,
   "metadata": {
    "execution": {
     "iopub.execute_input": "2020-09-30T06:07:32.235446Z",
     "iopub.status.busy": "2020-09-30T06:07:32.234615Z",
     "iopub.status.idle": "2020-09-30T06:07:32.238398Z",
     "shell.execute_reply": "2020-09-30T06:07:32.237623Z"
    },
    "papermill": {
     "duration": 0.087419,
     "end_time": "2020-09-30T06:07:32.238531",
     "exception": false,
     "start_time": "2020-09-30T06:07:32.151112",
     "status": "completed"
    },
    "tags": []
   },
   "outputs": [],
   "source": [
    "y_pred = model.predict(testX)"
   ]
  },
  {
   "cell_type": "markdown",
   "metadata": {
    "papermill": {
     "duration": 0.075872,
     "end_time": "2020-09-30T06:07:32.393183",
     "exception": false,
     "start_time": "2020-09-30T06:07:32.317311",
     "status": "completed"
    },
    "tags": []
   },
   "source": [
    "Confusion Matrix"
   ]
  },
  {
   "cell_type": "code",
   "execution_count": 65,
   "metadata": {
    "execution": {
     "iopub.execute_input": "2020-09-30T06:07:32.554085Z",
     "iopub.status.busy": "2020-09-30T06:07:32.553100Z",
     "iopub.status.idle": "2020-09-30T06:07:32.714019Z",
     "shell.execute_reply": "2020-09-30T06:07:32.713445Z"
    },
    "papermill": {
     "duration": 0.245413,
     "end_time": "2020-09-30T06:07:32.714149",
     "exception": false,
     "start_time": "2020-09-30T06:07:32.468736",
     "status": "completed"
    },
    "tags": []
   },
   "outputs": [
    {
     "name": "stdout",
     "output_type": "stream",
     "text": [
      "Confusion matrix:\n",
      " [[265 186]\n",
      " [170 280]]\n"
     ]
    },
    {
     "data": {
      "image/png": "[encoded data removed]",
      "text/plain": [
       "<Figure size 432x288 with 2 Axes>"
      ]
     },
     "metadata": {
      "needs_background": "light"
     },
     "output_type": "display_data"
    }
   ],
   "source": [
    "from sklearn.metrics import confusion_matrix\n",
    "from matplotlib import pyplot as plt\n",
    "\n",
    "conf_mat = confusion_matrix(y_true=testy, y_pred=y_pred)\n",
    "print('Confusion matrix:\\n', conf_mat)\n",
    "\n",
    "labels = ['Class 0', 'Class 1']\n",
    "fig = plt.figure()\n",
    "ax = fig.add_subplot(111)\n",
    "cax = ax.matshow(conf_mat, cmap=plt.cm.Blues)\n",
    "fig.colorbar(cax)\n",
    "ax.set_xticklabels([''] + labels)\n",
    "ax.set_yticklabels([''] + labels)\n",
    "plt.xlabel('Predicted')\n",
    "plt.ylabel('Expected')\n",
    "plt.show()"
   ]
  },
  {
   "cell_type": "markdown",
   "metadata": {
    "papermill": {
     "duration": 0.07739,
     "end_time": "2020-09-30T06:07:32.868710",
     "exception": false,
     "start_time": "2020-09-30T06:07:32.791320",
     "status": "completed"
    },
    "tags": []
   },
   "source": [
    "ROC curve"
   ]
  },
  {
   "cell_type": "code",
   "execution_count": 66,
   "metadata": {
    "execution": {
     "iopub.execute_input": "2020-09-30T06:07:33.035327Z",
     "iopub.status.busy": "2020-09-30T06:07:33.034532Z",
     "iopub.status.idle": "2020-09-30T06:07:33.202954Z",
     "shell.execute_reply": "2020-09-30T06:07:33.203797Z"
    },
    "papermill": {
     "duration": 0.257531,
     "end_time": "2020-09-30T06:07:33.203946",
     "exception": false,
     "start_time": "2020-09-30T06:07:32.946415",
     "status": "completed"
    },
    "tags": []
   },
   "outputs": [
    {
     "data": {
      "image/png": "[encoded data removed]",
      "text/plain": [
       "<Figure size 432x288 with 1 Axes>"
      ]
     },
     "metadata": {
      "needs_background": "light"
     },
     "output_type": "display_data"
    }
   ],
   "source": [
    "yhat = model.predict_proba(testX)\n",
    "pos_probs = yhat[:, 1]\n",
    "pyplot.plot([0, 1], [0, 1], linestyle='--', label='No Skill')\n",
    "fpr, tpr, _ = roc_curve(testy, pos_probs)\n",
    "pyplot.plot(fpr, tpr, marker='.', label='Logistic')\n",
    "pyplot.xlabel('False Positive Rate')\n",
    "pyplot.ylabel('True Positive Rate')\n",
    "pyplot.legend('roc-auc curve')\n",
    "pyplot.show()"
   ]
  },
  {
   "cell_type": "code",
   "execution_count": 67,
   "metadata": {
    "execution": {
     "iopub.execute_input": "2020-09-30T06:07:33.365444Z",
     "iopub.status.busy": "2020-09-30T06:07:33.364705Z",
     "iopub.status.idle": "2020-09-30T06:07:33.370014Z",
     "shell.execute_reply": "2020-09-30T06:07:33.369447Z"
    },
    "papermill": {
     "duration": 0.086866,
     "end_time": "2020-09-30T06:07:33.370153",
     "exception": false,
     "start_time": "2020-09-30T06:07:33.283287",
     "status": "completed"
    },
    "tags": []
   },
   "outputs": [],
   "source": [
    "from sklearn.metrics import roc_auc_score"
   ]
  },
  {
   "cell_type": "code",
   "execution_count": 68,
   "metadata": {
    "execution": {
     "iopub.execute_input": "2020-09-30T06:07:33.534992Z",
     "iopub.status.busy": "2020-09-30T06:07:33.533956Z",
     "iopub.status.idle": "2020-09-30T06:07:33.539665Z",
     "shell.execute_reply": "2020-09-30T06:07:33.540138Z"
    },
    "papermill": {
     "duration": 0.091261,
     "end_time": "2020-09-30T06:07:33.540282",
     "exception": false,
     "start_time": "2020-09-30T06:07:33.449021",
     "status": "completed"
    },
    "tags": []
   },
   "outputs": [
    {
     "name": "stdout",
     "output_type": "stream",
     "text": [
      "0.6676028578467603\n"
     ]
    }
   ],
   "source": [
    "roc_auc = roc_auc_score(testy, pos_probs)\n",
    "print(roc_auc)"
   ]
  },
  {
   "cell_type": "code",
   "execution_count": 69,
   "metadata": {
    "execution": {
     "iopub.execute_input": "2020-09-30T06:07:33.701222Z",
     "iopub.status.busy": "2020-09-30T06:07:33.700214Z",
     "iopub.status.idle": "2020-09-30T06:07:33.706455Z",
     "shell.execute_reply": "2020-09-30T06:07:33.706913Z"
    },
    "papermill": {
     "duration": 0.088306,
     "end_time": "2020-09-30T06:07:33.707076",
     "exception": false,
     "start_time": "2020-09-30T06:07:33.618770",
     "status": "completed"
    },
    "tags": []
   },
   "outputs": [],
   "source": [
    "model = LogisticRegression(C=10.0, class_weight=None, dual=False, fit_intercept=True,\n",
    "                   intercept_scaling=1, l1_ratio=None, max_iter=100,\n",
    "                   multi_class='auto', n_jobs=None, penalty='l2',\n",
    "                   random_state=None, solver='lbfgs', tol=0.0001, verbose=0,\n",
    "                   warm_start=False)"
   ]
  },
  {
   "cell_type": "code",
   "execution_count": 70,
   "metadata": {
    "execution": {
     "iopub.execute_input": "2020-09-30T06:07:33.870271Z",
     "iopub.status.busy": "2020-09-30T06:07:33.869272Z",
     "iopub.status.idle": "2020-09-30T06:07:33.953381Z",
     "shell.execute_reply": "2020-09-30T06:07:33.953951Z"
    },
    "papermill": {
     "duration": 0.1666,
     "end_time": "2020-09-30T06:07:33.954145",
     "exception": false,
     "start_time": "2020-09-30T06:07:33.787545",
     "status": "completed"
    },
    "tags": []
   },
   "outputs": [
    {
     "name": "stderr",
     "output_type": "stream",
     "text": [
      "/opt/conda/lib/python3.7/site-packages/sklearn/utils/validation.py:72: DataConversionWarning: A column-vector y was passed when a 1d array was expected. Please change the shape of y to (n_samples, ), for example using ravel().\n",
      "  return f(**kwargs)\n",
      "/opt/conda/lib/python3.7/site-packages/sklearn/linear_model/_logistic.py:764: ConvergenceWarning: lbfgs failed to converge (status=1):\n",
      "STOP: TOTAL NO. of ITERATIONS REACHED LIMIT.\n",
      "\n",
      "Increase the number of iterations (max_iter) or scale the data as shown in:\n",
      "    https://scikit-learn.org/stable/modules/preprocessing.html\n",
      "Please also refer to the documentation for alternative solver options:\n",
      "    https://scikit-learn.org/stable/modules/linear_model.html#logistic-regression\n",
      "  extra_warning_msg=_LOGISTIC_SOLVER_CONVERGENCE_MSG)\n"
     ]
    },
    {
     "data": {
      "text/plain": [
       "LogisticRegression(C=10.0)"
      ]
     },
     "execution_count": 70,
     "metadata": {},
     "output_type": "execute_result"
    }
   ],
   "source": [
    "model.fit(trainX_1,trainy_1)"
   ]
  },
  {
   "cell_type": "code",
   "execution_count": 71,
   "metadata": {
    "execution": {
     "iopub.execute_input": "2020-09-30T06:07:34.128250Z",
     "iopub.status.busy": "2020-09-30T06:07:34.127000Z",
     "iopub.status.idle": "2020-09-30T06:07:34.150306Z",
     "shell.execute_reply": "2020-09-30T06:07:34.149600Z"
    },
    "papermill": {
     "duration": 0.110435,
     "end_time": "2020-09-30T06:07:34.150424",
     "exception": false,
     "start_time": "2020-09-30T06:07:34.039989",
     "status": "completed"
    },
    "tags": []
   },
   "outputs": [],
   "source": [
    "c = model.predict(Xtest)"
   ]
  },
  {
   "cell_type": "code",
   "execution_count": 72,
   "metadata": {
    "execution": {
     "iopub.execute_input": "2020-09-30T06:07:34.321011Z",
     "iopub.status.busy": "2020-09-30T06:07:34.319837Z",
     "iopub.status.idle": "2020-09-30T06:07:34.349658Z",
     "shell.execute_reply": "2020-09-30T06:07:34.348976Z"
    },
    "papermill": {
     "duration": 0.119139,
     "end_time": "2020-09-30T06:07:34.349771",
     "exception": false,
     "start_time": "2020-09-30T06:07:34.230632",
     "status": "completed"
    },
    "tags": []
   },
   "outputs": [],
   "source": [
    "d = model.predict_proba(Xtest)"
   ]
  },
  {
   "cell_type": "code",
   "execution_count": 73,
   "metadata": {
    "execution": {
     "iopub.execute_input": "2020-09-30T06:07:34.588013Z",
     "iopub.status.busy": "2020-09-30T06:07:34.578865Z",
     "iopub.status.idle": "2020-09-30T06:08:59.020544Z",
     "shell.execute_reply": "2020-09-30T06:08:59.021117Z"
    },
    "papermill": {
     "duration": 84.590555,
     "end_time": "2020-09-30T06:08:59.021275",
     "exception": false,
     "start_time": "2020-09-30T06:07:34.430720",
     "status": "completed"
    },
    "tags": []
   },
   "outputs": [],
   "source": [
    "list1 = []\n",
    "for i in range(0,len(d)):\n",
    "  id1 = test_data.loc[[i][:]]\n",
    "  id1 = id1['id']\n",
    "  id1 = id1[i]\n",
    "  #print(id1)\n",
    "  target1 = d[i][1]\n",
    "  dict1 = {'id':(int)(id1),'target':(target1)}\n",
    "  list1.append(dict1)"
   ]
  },
  {
   "cell_type": "markdown",
   "metadata": {
    "papermill": {
     "duration": 0.079901,
     "end_time": "2020-09-30T06:08:59.185843",
     "exception": false,
     "start_time": "2020-09-30T06:08:59.105942",
     "status": "completed"
    },
    "tags": []
   },
   "source": [
    "commenting below two cells because it was not giving me accuracy higher than Random Oversampling."
   ]
  },
  {
   "cell_type": "code",
   "execution_count": 74,
   "metadata": {
    "execution": {
     "iopub.execute_input": "2020-09-30T06:08:59.406053Z",
     "iopub.status.busy": "2020-09-30T06:08:59.405370Z",
     "iopub.status.idle": "2020-09-30T06:08:59.407425Z",
     "shell.execute_reply": "2020-09-30T06:08:59.407958Z"
    },
    "papermill": {
     "duration": 0.131181,
     "end_time": "2020-09-30T06:08:59.408134",
     "exception": false,
     "start_time": "2020-09-30T06:08:59.276953",
     "status": "completed"
    },
    "tags": []
   },
   "outputs": [],
   "source": [
    "# import csv"
   ]
  },
  {
   "cell_type": "code",
   "execution_count": 75,
   "metadata": {
    "execution": {
     "iopub.execute_input": "2020-09-30T06:08:59.572010Z",
     "iopub.status.busy": "2020-09-30T06:08:59.571418Z",
     "iopub.status.idle": "2020-09-30T06:08:59.574718Z",
     "shell.execute_reply": "2020-09-30T06:08:59.575275Z"
    },
    "papermill": {
     "duration": 0.08618,
     "end_time": "2020-09-30T06:08:59.575412",
     "exception": false,
     "start_time": "2020-09-30T06:08:59.489232",
     "status": "completed"
    },
    "tags": []
   },
   "outputs": [],
   "source": [
    "# csvfile=open('log_reg_undersampling_final.csv','w', newline='')\n",
    "# fields=list(list1[0].keys())\n",
    "# obj=csv.DictWriter(csvfile, fieldnames=fields)\n",
    "# obj.writeheader()\n",
    "# obj.writerows(list1)\n",
    "# csvfile.close()"
   ]
  }
 ],
 "metadata": {
  "kernelspec": {
   "display_name": "Python 3",
   "language": "python",
   "name": "python3"
  },
  "language_info": {
   "codemirror_mode": {
    "name": "ipython",
    "version": 3
   },
   "file_extension": ".py",
   "mimetype": "text/x-python",
   "name": "python",
   "nbconvert_exporter": "python",
   "pygments_lexer": "ipython3",
   "version": "3.7.6"
  },
  "papermill": {
   "duration": 426.632522,
   "end_time": "2020-09-30T06:08:59.763941",
   "environment_variables": {},
   "exception": null,
   "input_path": "__notebook__.ipynb",
   "output_path": "__notebook__.ipynb",
   "parameters": {},
   "start_time": "2020-09-30T06:01:53.131419",
   "version": "2.1.0"
  }
 },
 "nbformat": 4,
 "nbformat_minor": 4
}
