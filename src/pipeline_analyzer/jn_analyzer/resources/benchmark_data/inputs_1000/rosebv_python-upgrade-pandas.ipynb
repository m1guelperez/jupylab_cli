{
 "cells": [
  {
   "cell_type": "code",
   "execution_count": 1,
   "metadata": {
    "_cell_guid": "79c7e3d0-c299-4dcb-8224-4455121ee9b0",
    "_uuid": "d629ff2d2480ee46fbb7e2d37f6b5fab8052498a"
   },
   "outputs": [
    {
     "name": "stdout",
     "output_type": "stream",
     "text": [
      "Collecting pandas\r\n",
      "\u001b[?25l  Downloading https://files.pythonhosted.org/packages/19/74/e50234bc82c553fecdbd566d8650801e3fe2d6d8c8d940638e3d8a7c5522/pandas-0.24.2-cp36-cp36m-manylinux1_x86_64.whl (10.1MB)\r\n",
      "\u001b[K     |████████████████████████████████| 10.1MB 2.9MB/s \r\n",
      "\u001b[?25hRequirement already satisfied, skipping upgrade: python-dateutil>=2.5.0 in /opt/conda/lib/python3.6/site-packages (from pandas) (2.8.0)\r\n",
      "Requirement already satisfied, skipping upgrade: numpy>=1.12.0 in /opt/conda/lib/python3.6/site-packages (from pandas) (1.16.4)\r\n",
      "Requirement already satisfied, skipping upgrade: pytz>=2011k in /opt/conda/lib/python3.6/site-packages (from pandas) (2019.1)\r\n",
      "Requirement already satisfied, skipping upgrade: six>=1.5 in /opt/conda/lib/python3.6/site-packages (from python-dateutil>=2.5.0->pandas) (1.12.0)\r\n",
      "\u001b[31mERROR: tsfresh 0.12.0 has requirement pandas<=0.23.4,>=0.20.3, but you'll have pandas 0.24.2 which is incompatible.\u001b[0m\r\n",
      "\u001b[31mERROR: ethnicolr 0.2.1 has requirement tensorflow==1.12.3, but you'll have tensorflow 1.14.0 which is incompatible.\u001b[0m\r\n",
      "Installing collected packages: pandas\r\n",
      "  Found existing installation: pandas 0.23.4\r\n",
      "    Uninstalling pandas-0.23.4:\r\n",
      "      Successfully uninstalled pandas-0.23.4\r\n",
      "Successfully installed pandas-0.24.2\r\n"
     ]
    }
   ],
   "source": [
    "!pip install pandas --upgrade\n",
    "import importlib\n",
    "importlib.invalidate_caches()"
   ]
  },
  {
   "cell_type": "code",
   "execution_count": 2,
   "metadata": {},
   "outputs": [
    {
     "name": "stdout",
     "output_type": "stream",
     "text": [
      "Name: pandas\r\n",
      "Version: 0.24.2\r\n",
      "Summary: Powerful data structures for data analysis, time series, and statistics\r\n",
      "Home-page: http://pandas.pydata.org\r\n",
      "Author: None\r\n",
      "Author-email: None\r\n",
      "License: BSD\r\n",
      "Location: /opt/conda/lib/python3.6/site-packages\r\n",
      "Requires: numpy, pytz, python-dateutil\r\n",
      "Required-by: xarray, Wordbatch, wfdb, tsfresh, TPOT, statsmodels, speedml, sklearn-pandas, shap, seaborn, scattertext, PyUpSet, pytext-nlp, pysal, pymc3, pyLDAvis, pyflux, py-stringsimjoin, plotnine, plotly-express, phik, PDPbox, pandasql, pandas-summary, pandas-profiling, pandas-datareader, optuna, mlxtend, mlcrate, ml-metrics, mizani, ktext, ibis-framework, hypertools, hep-ml, heamy, hallucinate, ggplot, geoplot, geopandas, fitter, featuretools, fbprophet, fastai, ethnicolr, datashader, dask-ml, cufflinks, cesium, category-encoders, catboost, altair, bq-helper\r\n",
      "0.23.4\n"
     ]
    }
   ],
   "source": [
    "import pandas as pd\n",
    "!pip show pandas\n",
    "print(pd.__version__) # NOT WORKING"
   ]
  }
 ],
 "metadata": {
  "kernelspec": {
   "display_name": "Python 3",
   "language": "python",
   "name": "python3"
  },
  "language_info": {
   "codemirror_mode": {
    "name": "ipython",
    "version": 3
   },
   "file_extension": ".py",
   "mimetype": "text/x-python",
   "name": "python",
   "nbconvert_exporter": "python",
   "pygments_lexer": "ipython3",
   "version": "3.6.6"
  }
 },
 "nbformat": 4,
 "nbformat_minor": 1
}
