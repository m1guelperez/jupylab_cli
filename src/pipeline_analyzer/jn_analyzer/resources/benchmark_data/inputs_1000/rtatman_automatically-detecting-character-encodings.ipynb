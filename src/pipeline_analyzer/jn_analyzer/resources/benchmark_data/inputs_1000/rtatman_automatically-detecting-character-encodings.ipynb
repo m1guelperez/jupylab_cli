{
 "cells": [
  {
   "cell_type": "markdown",
   "metadata": {
    "_cell_guid": "644f69f0-1f6f-456a-a6e5-7441eccf8c5c",
    "_uuid": "5d187c0178c0346c1b1aaac6f45b25a97e7f8ace"
   },
   "source": [
    "You can automatically detect the correct character encoding for a file using the Python Module chardet. (The documentation is [here](http://chardet.readthedocs.io/en/latest/), but note that the code examples are all in Python 2.)"
   ]
  },
  {
   "cell_type": "code",
   "execution_count": 1,
   "metadata": {
    "_cell_guid": "3927a9dd-4409-4340-8fe6-58a9147c9723",
    "_uuid": "293803b941b16ad12f22fb87ff691e8cc7486cd8"
   },
   "outputs": [
    {
     "name": "stdout",
     "output_type": "stream",
     "text": [
      "File                                          Encoding\n",
      "../input/die_ISO-8859-1.txt                   ISO-8859-1\n",
      "../input/shisei_UTF-8.txt                     UTF-8-SIG\n",
      "../input/harpers_ASCII.txt                    ascii\n",
      "../input/olaf_Windows-1251.txt                windows-1251\n",
      "../input/portugal_ISO-8859-1.txt              ISO-8859-1\n",
      "../input/yan_BIG-5.txt                        Big5\n"
     ]
    }
   ],
   "source": [
    "# import a library to detect encodings\n",
    "import chardet\n",
    "import glob\n",
    "\n",
    "# for every text file, print the file name & a gues of its file encoding\n",
    "print(\"File\".ljust(45), \"Encoding\")\n",
    "for filename in glob.glob('../input/*.txt'):\n",
    "    with open(filename, 'rb') as rawdata:\n",
    "        result = chardet.detect(rawdata.read())\n",
    "    print(filename.ljust(45), result['encoding'])"
   ]
  },
  {
   "cell_type": "markdown",
   "metadata": {
    "_cell_guid": "23191aee-5233-4720-b943-fbd7923c8a53",
    "_uuid": "842dcc59a5ec7222095496b2ddc5ebdd80b4d959"
   },
   "source": [
    "We can also use this to build a quick test to see if our files are in UTF-8."
   ]
  },
  {
   "cell_type": "code",
   "execution_count": 2,
   "metadata": {
    "_cell_guid": "07404b40-ff50-4a0d-b318-592ef9109ee5",
    "_uuid": "991a286636fbd2c6f9af4a626206b96449c22f8c",
    "collapsed": true,
    "scrolled": true
   },
   "outputs": [
    {
     "name": "stdout",
     "output_type": "stream",
     "text": [
      "This isn't Unicode! It's ISO-8859-1\n",
      "Yep, it's Unicode.\n"
     ]
    }
   ],
   "source": [
    "# function to test if a file is in unicode\n",
    "def isItUnicode(filename):\n",
    "    with open(filename, 'rb') as f:\n",
    "        encodingInfo = chardet.detect(f.read())\n",
    "        if \"UTF\" not in encodingInfo['encoding']: \n",
    "            print(\"This isn't Unicode! It's\", encodingInfo['encoding'])\n",
    "        else: \n",
    "            print(\"Yep, it's Unicode.\")\n",
    " \n",
    "# test our function, the first one is not unicode, the second one is!\n",
    "isItUnicode(\"../input/die_ISO-8859-1.txt\")\n",
    "isItUnicode(\"../input/shisei_UTF-8.txt\")"
   ]
  }
 ],
 "metadata": {
  "kernelspec": {
   "display_name": "Python 3",
   "language": "python",
   "name": "python3"
  },
  "language_info": {
   "codemirror_mode": {
    "name": "ipython",
    "version": 3
   },
   "file_extension": ".py",
   "mimetype": "text/x-python",
   "name": "python",
   "nbconvert_exporter": "python",
   "pygments_lexer": "ipython3",
   "version": "3.6.3"
  }
 },
 "nbformat": 4,
 "nbformat_minor": 1
}
