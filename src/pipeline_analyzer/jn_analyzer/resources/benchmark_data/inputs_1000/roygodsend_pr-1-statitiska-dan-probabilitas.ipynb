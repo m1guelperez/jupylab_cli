{
 "cells": [
  {
   "cell_type": "code",
   "execution_count": 1,
   "metadata": {
    "_cell_guid": "b1076dfc-b9ad-4769-8c92-a6c4dae69d19",
    "_uuid": "8f2839f25d086af736a60e9eeb907d3b93b6e0e5"
   },
   "outputs": [
    {
     "name": "stdout",
     "output_type": "stream",
     "text": [
      "/kaggle/input/500-person-gender-height-weight-bodymassindex/500_Person_Gender_Height_Weight_Index.csv\n"
     ]
    }
   ],
   "source": [
    "# This Python 3 environment comes with many helpful analytics libraries installed\n",
    "# It is defined by the kaggle/python docker image: https://github.com/kaggle/docker-python\n",
    "# For example, here's several helpful packages to load in \n",
    "\n",
    "import numpy as np # linear algebra\n",
    "import pandas as pd # data processing, CSV file I/O (e.g. pd.read_csv)\n",
    "import matplotlib.pyplot as plt\n",
    "import seaborn as sns\n",
    "\n",
    "# Input data files are available in the \"../input/\" directory.\n",
    "# For example, running this (by clicking run or pressing Shift+Enter) will list all files under the input directory\n",
    "\n",
    "import os\n",
    "for dirname, _, filenames in os.walk('/kaggle/input'):\n",
    "    for filename in filenames:\n",
    "        print(os.path.join(dirname, filename))\n",
    "\n",
    "# Any results you write to the current directory are saved as output."
   ]
  },
  {
   "cell_type": "code",
   "execution_count": 2,
   "metadata": {
    "_cell_guid": "79c7e3d0-c299-4dcb-8224-4455121ee9b0",
    "_uuid": "d629ff2d2480ee46fbb7e2d37f6b5fab8052498a"
   },
   "outputs": [],
   "source": [
    "df = pd.read_csv(\"../input/500-person-gender-height-weight-bodymassindex/500_Person_Gender_Height_Weight_Index.csv\")"
   ]
  },
  {
   "cell_type": "code",
   "execution_count": 3,
   "metadata": {},
   "outputs": [],
   "source": [
    "# Remove \"Height\" feature\n",
    "df = df.drop([\"Height\"],axis=1)\n"
   ]
  },
  {
   "cell_type": "markdown",
   "metadata": {},
   "source": [
    "# 1. Hitung sample mean, sample median, dan sample mode dari data tersebut"
   ]
  },
  {
   "cell_type": "code",
   "execution_count": 4,
   "metadata": {},
   "outputs": [
    {
     "name": "stdout",
     "output_type": "stream",
     "text": [
      "The mean of the weight is : 106.0\n"
     ]
    }
   ],
   "source": [
    "# Mean\n",
    "print(\"The mean of the weight is :\",np.mean(df[\"Weight\"]))"
   ]
  },
  {
   "cell_type": "code",
   "execution_count": 5,
   "metadata": {},
   "outputs": [
    {
     "name": "stdout",
     "output_type": "stream",
     "text": [
      "The median of the weight is : 106.0\n"
     ]
    }
   ],
   "source": [
    "# Median\n",
    "\n",
    "print(\"The median of the weight is :\",np.median(df[\"Weight\"]))"
   ]
  },
  {
   "cell_type": "code",
   "execution_count": 6,
   "metadata": {},
   "outputs": [
    {
     "name": "stdout",
     "output_type": "stream",
     "text": [
      "The modus of the weight are : \n",
      "104    9\n",
      "80     9\n",
      "50     9\n",
      "Name: Weight, dtype: int64\n"
     ]
    }
   ],
   "source": [
    "# Mode\n",
    "data = df[\"Weight\"]\n",
    "maxValue = pd.Series.max(data.value_counts())\n",
    "\n",
    "print(\"The modus of the weight are : \")\n",
    "print(data.value_counts()[data.value_counts() == maxValue])"
   ]
  },
  {
   "cell_type": "markdown",
   "metadata": {},
   "source": [
    "# 2. Hitung range, sample variance, dan sample standard deviation dari data tersebut."
   ]
  },
  {
   "cell_type": "code",
   "execution_count": 7,
   "metadata": {},
   "outputs": [
    {
     "name": "stdout",
     "output_type": "stream",
     "text": [
      "110\n"
     ]
    }
   ],
   "source": [
    "# Range\n",
    "\n",
    "print(pd.Series.max(data) - pd.Series.min(data))"
   ]
  },
  {
   "cell_type": "code",
   "execution_count": 8,
   "metadata": {},
   "outputs": [
    {
     "name": "stdout",
     "output_type": "stream",
     "text": [
      "Variance of Weight data is  1048.633266533066\n"
     ]
    }
   ],
   "source": [
    "# Variance\n",
    "mean = np.mean(data)\n",
    "\n",
    "variance = (sum((data - mean)**2))/(len(data)-1)\n",
    "print(\"Variance of Weight data is \" ,variance)"
   ]
  },
  {
   "cell_type": "code",
   "execution_count": 9,
   "metadata": {},
   "outputs": [
    {
     "name": "stdout",
     "output_type": "stream",
     "text": [
      "Standar deviation of Weight data is 32.38260746964435\n"
     ]
    }
   ],
   "source": [
    "# Standar Deviation\n",
    "std = variance**0.5\n",
    "\n",
    "print(\"Standar deviation of Weight data is\" ,std)"
   ]
  },
  {
   "cell_type": "markdown",
   "metadata": {},
   "source": [
    "# Jelaskan hasil yang didapatkan dari ketiga perhitungan yang ditanyakan.\n",
    "\n",
    "Dari data kita dapatkan range 110 dimana sudah cukup untuk data berat badan. Juga kita dapatkan nilai variance sekitar 1048,63 dan standar deviasi sekitar 32.38."
   ]
  },
  {
   "cell_type": "markdown",
   "metadata": {},
   "source": [
    "# 3. Selain perbedaan di rumus formula, apa perbedaan antara variance dan standard deviation ?\n",
    "\n",
    "Variance :\n",
    "1. nilai numerik menggambarkan keragaman dari data secara aritmatika (dibutuhkan untuk model statistika)\n",
    "2. pangkat 2 dari standar deviasi\n",
    "3. menunjukkan seberapa jauh persebaran suatu sample di dalam populasi/sample data tersebut.\n",
    "\n",
    "Standar deviasi : \n",
    "1. ukuran dispersi/persebaran data dalam skala data tersebut.\n",
    "2. akar pangkat 2 dari variance.\n",
    "3. seberapa jauh persebaran data dari rata-ratanya(mean).\n"
   ]
  },
  {
   "cell_type": "markdown",
   "metadata": {},
   "source": [
    "# 4. Hitunglah nilai percentile-15 dan percentile-90 . Apa maksud dari nilai percentile -15 dan percentile -90 untuk data tersebut?\n",
    "\n",
    "percentile-15 yaitu nilai terendah yang sama atau lebih besar dari 15% data yang ada (terurut). Begitu juga percentile-90, nilai terendah yang sama atau lebih besar dari 90% data yang ada."
   ]
  },
  {
   "cell_type": "code",
   "execution_count": 10,
   "metadata": {},
   "outputs": [
    {
     "name": "stdout",
     "output_type": "stream",
     "text": [
      "Percentile-15 of the data is: 67.0\n",
      "Percentile-90 of the data is: 150.10000000000002\n"
     ]
    }
   ],
   "source": [
    "# Percentile-15\n",
    "print(\"Percentile-15 of the data is:\", df.Weight.quantile(0.15))\n",
    "\n",
    "# Percentile-90\n",
    "print(\"Percentile-90 of the data is:\", df.Weight.quantile(0.90))"
   ]
  },
  {
   "cell_type": "markdown",
   "metadata": {},
   "source": [
    "# 5. Hitung Interquartile Range (IQR), Reasonable Lower Boundary (RLB), dan Reasonable Upper Boundary (RUB) . Jelaskan apa kegunaan dari ketiga perhitungan di atas.\n",
    "\n",
    "\n",
    "IQR digunakan untuk menentukan range dari Q1 dan Q3 sehingga menggambarkan ukuran dari penyebaran data.\n",
    "RLB dan RUB digunakan untuk memperkirakan adanya outliers dari data yang kita punya. Dapat digunakan juga untuk memperkirakan error."
   ]
  },
  {
   "cell_type": "code",
   "execution_count": 11,
   "metadata": {},
   "outputs": [
    {
     "name": "stdout",
     "output_type": "stream",
     "text": [
      "IQR of the Weight data is: 56.0\n",
      "RLB of the Weight data is -4.0\n",
      "RUB of the Weight data is 220.0\n"
     ]
    }
   ],
   "source": [
    "IQR = df.Weight.quantile(0.75) - df.Weight.quantile(0.25)\n",
    "\n",
    "print(\"IQR of the Weight data is:\",IQR)\n",
    "\n",
    "RLB = df.Weight.quantile(0.25) - 1.5*IQR\n",
    "print(\"RLB of the Weight data is\", RLB)\n",
    "\n",
    "RUB = df.Weight.quantile(0.75) +1.5*IQR\n",
    "print(\"RUB of the Weight data is\", RUB)\n"
   ]
  },
  {
   "cell_type": "markdown",
   "metadata": {},
   "source": [
    "# 6.Apakah ada outlier pada data tersebut? Jelaskan. Apakah outliers dapat mempengaruhi perhitungan Anda di soal nomor 1 s.d. 2? Berikan alasan.\n",
    "\n",
    "Tidak ada outliers karena data-data tinggi berada pada rentang 50-160 dan masih pada rentang RLB dan RUB. \n",
    "Outliers dapat mempengaruhi soal nomor 1 dan 2, terutama lebih terasa pada nilai-nilai mean, range, variance dan standar deviasi karena akan menjadi lebih tinggi atau lebih rendah dan tidak dapat digunakan untuk merepresentasikan data."
   ]
  },
  {
   "cell_type": "code",
   "execution_count": 12,
   "metadata": {},
   "outputs": [
    {
     "name": "stdout",
     "output_type": "stream",
     "text": [
      "Min of Weight data is  50\n",
      "Max of Weight data is  160\n"
     ]
    }
   ],
   "source": [
    "print(\"Min of Weight data is \" ,df[\"Weight\"].min())\n",
    "print(\"Max of Weight data is \", df[\"Weight\"].max())"
   ]
  },
  {
   "cell_type": "markdown",
   "metadata": {},
   "source": [
    "# 7.Gambarkan box plot . Informasi apa saja yang bisa didapatkan dari menggambar box plot ?\n",
    "\n",
    "Informasi yang didapat dari boxplot antara lain:\n",
    "1) Q2 atau median dari data\n",
    "2) Q1 dan Q3\n",
    "3) RUB dan RLB dari data\n",
    "4) Penyebaran(Keragaman) dari data"
   ]
  },
  {
   "cell_type": "code",
   "execution_count": 13,
   "metadata": {},
   "outputs": [
    {
     "data": {
      "text/plain": [
       "{'whiskers': [<matplotlib.lines.Line2D at 0x7fbb7aacf4a8>,\n",
       "  <matplotlib.lines.Line2D at 0x7fbb7aacf7f0>],\n",
       " 'caps': [<matplotlib.lines.Line2D at 0x7fbb7aacfb38>,\n",
       "  <matplotlib.lines.Line2D at 0x7fbb7aacfe80>],\n",
       " 'boxes': [<matplotlib.lines.Line2D at 0x7fbb7aacf320>],\n",
       " 'medians': [<matplotlib.lines.Line2D at 0x7fbb7aae8208>],\n",
       " 'fliers': [<matplotlib.lines.Line2D at 0x7fbb7aae8550>],\n",
       " 'means': []}"
      ]
     },
     "execution_count": 13,
     "metadata": {},
     "output_type": "execute_result"
    },
    {
     "data": {
      "image/png": "[encoded data removed]",
      "text/plain": [
       "<Figure size 432x288 with 1 Axes>"
      ]
     },
     "metadata": {
      "needs_background": "light"
     },
     "output_type": "display_data"
    }
   ],
   "source": [
    "plt.boxplot(df[\"Weight\"])"
   ]
  },
  {
   "cell_type": "markdown",
   "metadata": {},
   "source": [
    "# 8. Gambarkan Histogram dengan melakukan grouping terhadap data dengan lebar kelas interval 10 dimulai dari nilai 50 (Weight). Anda tidak diwajibkan untuk membuat grouped frequency table ."
   ]
  },
  {
   "cell_type": "code",
   "execution_count": 14,
   "metadata": {},
   "outputs": [
    {
     "data": {
      "image/png": "[encoded data removed]",
      "text/plain": [
       "<Figure size 576x288 with 1 Axes>"
      ]
     },
     "metadata": {
      "needs_background": "light"
     },
     "output_type": "display_data"
    }
   ],
   "source": [
    "group_num = (max(df[\"Weight\"]) - min(df[\"Weight\"])) // 10\n",
    "\n",
    "f, ax = plt.subplots(1,1, figsize=(8,4))\n",
    "ax = sns.distplot(df['Weight'], bins = group_num, color = '#156DF3', kde = False)\n",
    "plt.ylabel('Frequency', size = 15)\n",
    "plt.xlabel('Weight', size = 15)\n",
    "plt.title('Weight Histogram', size = 20)\n",
    "\n",
    "plt.show()"
   ]
  },
  {
   "cell_type": "markdown",
   "metadata": {},
   "source": [
    "# 9. Apakah perbedaan antara Histogram dan Bar Graph (min 3)?\n",
    "\n",
    "Histogram : \n",
    "1. Setiap kolom pada histogram mewakili suatu kelompok yang didefinisikan oleh variable kuantitatif dan kontinu.\n",
    "2. Dengan menggunakan histogram kita dapat melihat kemiringan dari data.\n",
    "3. Tidak ada gaps di Histogram.\n",
    "4. Histogram cocok untuk data yang kontinu.\n",
    "\n",
    "Bar :\n",
    "1. Setiap kolom pada Bar Graph mewakili suatu kelompok yang didefinisikan oleh variabel kategori.\n",
    "2. Bar Graph tidak dapat melihat kemiringan dari data.\n",
    "3. Ada gaps di Bar Graph.\n",
    "4. Bar Graph cocok untuk tipe data kategorial."
   ]
  },
  {
   "cell_type": "markdown",
   "metadata": {},
   "source": [
    "# 10. Buatlah refleksi diri mengenai menggunakan library python dalam membantu pengerjaan tugas PR ini. Refleksi Anda harus memuat apa yang telah kamu pelajari dari tugas ini."
   ]
  },
  {
   "cell_type": "markdown",
   "metadata": {},
   "source": [
    "Library-library yang terdapat di Python sangat membantu saya dalam mengerjakan tugas ini,antara lain pandas, numpy, matplotlib dan seaborn.Dari tugas ini saya mempelajari tentang bagaimana mengolah data, melakukan pengambilan data tertentu menggunakan pandas, membuat visualisasi data menggunakan Histogram, Boxplot, ScatterPlot dan lainnnya serta Python dapat melakukan banyak hal lainnya juga.\n",
    "\n",
    "Python juga sangat membantu dalam hal mengurutkan data dimana jika saya ingin mencari kuartil saya harus mengurutkan data terlebih dahulu secara manual namun dengan menggunakan pandas saya bisa langsung mencari kuartilenya dengan menggunakan method quantile. Terkadang library-library pada python terdapat metode-metode yang tujuannya sama, contohnya jika saya ingin membuat sebuah box-plot kita dapat menggunakan metode boxplot yang terdapat pada package matplotlib atau package panda yang tentu akan menghasilkan box-plot yang sama namun kita dapat melakukan lebih banyak variasi jika menggunakan boxplot dari matplotlib. \n",
    "\n",
    "Saya sangat kagum dengan kemudahan-kemudahan yang diberikan oleh library-library python. Saya rasa semua keperluan untuk analisis data telah disediakan dalam library python dengan baik serta dengan adanya jupyter notebook sangat memudahkan Saya untuk ngoding menyelasaikan tugas ini. Untuk mencari mean, median, dll saja seharusnya saya hanya perlu menggunakan method describe untuk mendapatkan gambaran dari data saya. Saya rasa untuk melakukan analisis data dengan python akan sangat menghemat waktu dan tenaga apalagi untuk mengolah data yang berjumalah juta-an bahkan milyaran.  \n",
    "\n",
    "-terimakasih python."
   ]
  },
  {
   "cell_type": "code",
   "execution_count": null,
   "metadata": {},
   "outputs": [],
   "source": []
  }
 ],
 "metadata": {
  "kernelspec": {
   "display_name": "Python 3",
   "language": "python",
   "name": "python3"
  },
  "language_info": {
   "codemirror_mode": {
    "name": "ipython",
    "version": 3
   },
   "file_extension": ".py",
   "mimetype": "text/x-python",
   "name": "python",
   "nbconvert_exporter": "python",
   "pygments_lexer": "ipython3",
   "version": "3.6.6"
  }
 },
 "nbformat": 4,
 "nbformat_minor": 1
}
