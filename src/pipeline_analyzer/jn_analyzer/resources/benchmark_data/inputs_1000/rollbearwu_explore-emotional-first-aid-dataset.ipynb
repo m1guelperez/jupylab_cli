{
 "cells": [
  {
   "cell_type": "markdown",
   "metadata": {
    "_cell_guid": "ff605b55-52b5-40dd-b720-37a9fd842fe0",
    "_uuid": "bd7cd78c-c7f1-453a-b0a3-419fba43acac",
    "papermill": {
     "duration": 0.051346,
     "end_time": "2020-10-09T02:32:04.188692",
     "exception": false,
     "start_time": "2020-10-09T02:32:04.137346",
     "status": "completed"
    },
    "tags": []
   },
   "source": [
    "# 中文心理咨询数据集"
   ]
  },
  {
   "cell_type": "code",
   "execution_count": 1,
   "metadata": {
    "_cell_guid": "3b366e9a-31c2-475b-9c8e-d19b83a39f05",
    "_uuid": "77153234-7657-477e-a0b6-1a99edc71e38",
    "execution": {
     "iopub.execute_input": "2020-10-09T02:32:04.297711Z",
     "iopub.status.busy": "2020-10-09T02:32:04.296876Z",
     "iopub.status.idle": "2020-10-09T02:32:04.343361Z",
     "shell.execute_reply": "2020-10-09T02:32:04.342581Z"
    },
    "papermill": {
     "duration": 0.1047,
     "end_time": "2020-10-09T02:32:04.343488",
     "exception": false,
     "start_time": "2020-10-09T02:32:04.238788",
     "status": "completed"
    },
    "tags": []
   },
   "outputs": [
    {
     "name": "stdout",
     "output_type": "stream",
     "text": [
      "file path imported:\n",
      "/kaggle/input/emotional-first-aid-dataset/efaqa-corpus-zh.utf8\n",
      "/kaggle/input/tipdmcup2020-data-and-scripts/README.md\n",
      "/kaggle/input/tipdmcup2020-data-and-scripts/.gitignore\n",
      "/kaggle/input/tipdmcup2020-data-and-scripts/src/train_wv.py\n",
      "/kaggle/input/tipdmcup2020-data-and-scripts/src/issue3.py\n",
      "/kaggle/input/tipdmcup2020-data-and-scripts/src/train_knn.py\n",
      "/kaggle/input/tipdmcup2020-data-and-scripts/src/issue1_more_clfs.ipynb\n",
      "/kaggle/input/tipdmcup2020-data-and-scripts/src/issue2.py\n",
      "/kaggle/input/tipdmcup2020-data-and-scripts/src/train_label_spreading.py\n",
      "/kaggle/input/tipdmcup2020-data-and-scripts/src/bayes_optimization.py\n",
      "/kaggle/input/tipdmcup2020-data-and-scripts/src/entity/comm.py\n",
      "/kaggle/input/tipdmcup2020-data-and-scripts/src/entity/label.py\n",
      "/kaggle/input/tipdmcup2020-data-and-scripts/src/entity/__init__.py\n",
      "/kaggle/input/tipdmcup2020-data-and-scripts/src/temp_script/issue1.py\n",
      "/kaggle/input/tipdmcup2020-data-and-scripts/src/temp_script/naive_bayes.py\n",
      "/kaggle/input/tipdmcup2020-data-and-scripts/src/temp_script/topic_modeling.py\n",
      "/kaggle/input/tipdmcup2020-data-and-scripts/src/temp_script/data_analysis.py\n",
      "/kaggle/input/tipdmcup2020-data-and-scripts/src/temp_script/random_search.py\n",
      "/kaggle/input/tipdmcup2020-data-and-scripts/src/temp_script/from_word2vec_to_knn.py\n",
      "/kaggle/input/tipdmcup2020-data-and-scripts/src/temp_script/named_entity_recognition.py\n",
      "/kaggle/input/tipdmcup2020-data-and-scripts/src/temp_script/reply_evaluation_with_knn.py\n",
      "/kaggle/input/tipdmcup2020-data-and-scripts/src/temp_script/text_clustering.py\n",
      "/kaggle/input/tipdmcup2020-data-and-scripts/src/temp_script/more_classifiers.py\n",
      "/kaggle/input/tipdmcup2020-data-and-scripts/src/temp_script/reply_evaluation.py\n",
      "/kaggle/input/tipdmcup2020-data-and-scripts/src/util/standardization.py\n",
      "/kaggle/input/tipdmcup2020-data-and-scripts/src/util/xl.py\n",
      "/kaggle/input/tipdmcup2020-data-and-scripts/src/util/timer.py\n",
      "/kaggle/input/tipdmcup2020-data-and-scripts/src/util/word_type.py\n",
      "/kaggle/input/tipdmcup2020-data-and-scripts/src/util/dataset.py\n",
      "/kaggle/input/tipdmcup2020-data-and-scripts/src/util/vec.py\n",
      "/kaggle/input/tipdmcup2020-data-and-scripts/src/util/txt_read.py\n",
      "/kaggle/input/tipdmcup2020-data-and-scripts/src/util/__init__.py\n",
      "/kaggle/input/tipdmcup2020-data-and-scripts/src/util/topic_model.py\n",
      "/kaggle/input/tipdmcup2020-data-and-scripts/src/util/output.py\n",
      "/kaggle/input/tipdmcup2020-data-and-scripts/src/util/path.py\n",
      "/kaggle/input/tipdmcup2020-data-and-scripts/src/util/evaluation.py\n",
      "/kaggle/input/tipdmcup2020-data-and-scripts/src/util/read_accessory/test_e2_store.py\n",
      "/kaggle/input/tipdmcup2020-data-and-scripts/src/util/read_accessory/e3_store.py\n",
      "/kaggle/input/tipdmcup2020-data-and-scripts/src/util/read_accessory/test_sqlite.py\n",
      "/kaggle/input/tipdmcup2020-data-and-scripts/src/util/read_accessory/__init__.py\n",
      "/kaggle/input/tipdmcup2020-data-and-scripts/src/util/read_accessory/e4_store.py\n",
      "/kaggle/input/tipdmcup2020-data-and-scripts/resources/wv_reply_text\n",
      "/kaggle/input/tipdmcup2020-data-and-scripts/resources/label_spreading_interpretability_clf_0507\n",
      "/kaggle/input/tipdmcup2020-data-and-scripts/resources/label_propagation_integrity_clf_0507\n",
      "/kaggle/input/tipdmcup2020-data-and-scripts/resources/test.db\n",
      "/kaggle/input/tipdmcup2020-data-and-scripts/resources/line_sents.txt\n",
      "/kaggle/input/tipdmcup2020-data-and-scripts/resources/e2_line_sents.txt\n",
      "/kaggle/input/tipdmcup2020-data-and-scripts/resources/word2vec_build_on_all_text\n",
      "/kaggle/input/tipdmcup2020-data-and-scripts/resources/ms_model_sheet_3_wv\n",
      "/kaggle/input/tipdmcup2020-data-and-scripts/resources/word2vec_e2_model\n",
      "/kaggle/input/tipdmcup2020-data-and-scripts/resources/lda_model/lda_model_bow_0427.state\n",
      "/kaggle/input/tipdmcup2020-data-and-scripts/resources/lda_model/lda_model_bow_0427.expElogbeta.npy\n",
      "/kaggle/input/tipdmcup2020-data-and-scripts/resources/lda_model/lda_model_bow_0427.state.sstats.npy\n",
      "/kaggle/input/tipdmcup2020-data-and-scripts/resources/lda_model/lda_model_bow_0427.id2word\n",
      "/kaggle/input/tipdmcup2020-data-and-scripts/resources/lda_model/lda_model_bow_0427\n",
      "/kaggle/input/tipdmcup2020-data-and-scripts/resources/temp/fd_sheet_2_text.txt\n",
      "/kaggle/input/tipdmcup2020-data-and-scripts/resources/temp/full_dataset_cut_all.txt\n",
      "/kaggle/input/tipdmcup2020-data-and-scripts/resources/temp/full_dataset_text.txt\n",
      "/kaggle/input/tipdmcup2020-data-and-scripts/resources/xls/e3.xlsx\n",
      "/kaggle/input/tipdmcup2020-data-and-scripts/resources/xls/e4.xlsx\n",
      "/kaggle/input/tipdmcup2020-data-and-scripts/resources/xls/e1.xlsx\n",
      "/kaggle/input/tipdmcup2020-data-and-scripts/resources/xls/e2.xlsx\n",
      "/kaggle/input/tipdmcup2020-data-and-scripts/resources/sents/line_sents.txt\n",
      "/kaggle/input/tipdmcup2020-data-and-scripts/resources/sents/e2_line_sents.txt\n",
      "/kaggle/input/tipdmcup2020-data-and-scripts/resources/special-words/stop_words.txt\n",
      "/kaggle/input/tipdmcup2020-data-and-scripts/resources/special-words/README.md\n",
      "/kaggle/input/tipdmcup2020-data-and-scripts/resources/special-words/unfamiliar-words.txt\n",
      "/kaggle/input/tipdmcup2020-data-and-scripts/resources/special-words/3500-common-used-chinese-char.txt\n",
      "/kaggle/input/tipdmcup2020-data-and-scripts/resources/lp_model/label_propagation_integrity_clf\n",
      "/kaggle/input/tipdmcup2020-data-and-scripts/resources/lp_model/label_spreading_interpretability_clf\n",
      "/kaggle/input/tipdmcup2020-data-and-scripts/resources/full_dataset/sheet_4_labeled.xlsx\n",
      "/kaggle/input/tipdmcup2020-data-and-scripts/resources/full_dataset/full_dataset_sheet_3.xlsx\n",
      "/kaggle/input/tipdmcup2020-data-and-scripts/resources/full_dataset/full_dataset_sheet_1.xlsx\n",
      "/kaggle/input/tipdmcup2020-data-and-scripts/resources/full_dataset/full_dataset_sheet_2.xlsx\n",
      "/kaggle/input/tipdmcup2020-data-and-scripts/resources/full_dataset/full_dataset_sheet_4.xlsx\n",
      "/kaggle/input/tipdmcup2020-data-and-scripts/resources/knn_model/target_names_0507.txt\n",
      "/kaggle/input/tipdmcup2020-data-and-scripts/resources/knn_model/knn_model_0507\n",
      "/kaggle/input/tipdmcup2020-data-and-scripts/resources/wv_model/wv_model_0507\n",
      "/kaggle/input/tipdmcup2020-data-and-scripts/README.assets/image-20200617203601472.png\n",
      "/kaggle/input/tipdmcup2020-data-and-scripts/tests/test_jieba.py\n",
      "/kaggle/input/tipdmcup2020-data-and-scripts/tests/test_label_pick.py\n"
     ]
    }
   ],
   "source": [
    "import numpy as np # linear algebra\n",
    "import pandas as pd # data processing, CSV file I/O (e.g. pd.read_csv)\n",
    "\n",
    "import os\n",
    "\n",
    "print(\"file path imported:\")\n",
    "for dirname, _, filenames in os.walk('/kaggle/input'):\n",
    "    for filename in filenames:\n",
    "        print(os.path.join(dirname, filename))"
   ]
  },
  {
   "cell_type": "code",
   "execution_count": 2,
   "metadata": {
    "_cell_guid": "e726d25b-8d80-49c5-ae58-4841deddd308",
    "_uuid": "737d03d4-2871-4af6-81fb-0268efece1b3",
    "execution": {
     "iopub.execute_input": "2020-10-09T02:32:04.454195Z",
     "iopub.status.busy": "2020-10-09T02:32:04.453372Z",
     "iopub.status.idle": "2020-10-09T02:32:05.365068Z",
     "shell.execute_reply": "2020-10-09T02:32:05.364276Z"
    },
    "papermill": {
     "duration": 0.969004,
     "end_time": "2020-10-09T02:32:05.365188",
     "exception": false,
     "start_time": "2020-10-09T02:32:04.396184",
     "status": "completed"
    },
    "tags": []
   },
   "outputs": [],
   "source": [
    "import json\n",
    "import matplotlib.pyplot as plt\n",
    "import sklearn"
   ]
  },
  {
   "cell_type": "markdown",
   "metadata": {
    "_cell_guid": "960e9ffb-7f17-4798-bb0f-3a5c83577457",
    "_uuid": "03c6c82e-eded-4d92-9433-ab06ea747785",
    "papermill": {
     "duration": 0.051303,
     "end_time": "2020-10-09T02:32:05.467857",
     "exception": false,
     "start_time": "2020-10-09T02:32:05.416554",
     "status": "completed"
    },
    "tags": []
   },
   "source": [
    "# 一、数据集结构"
   ]
  },
  {
   "cell_type": "code",
   "execution_count": 3,
   "metadata": {
    "_cell_guid": "11ee6339-53ca-446b-940f-cd8ee91703aa",
    "_uuid": "998c84fa-6a71-40bd-b4e2-74867472df3a",
    "execution": {
     "iopub.execute_input": "2020-10-09T02:32:05.579351Z",
     "iopub.status.busy": "2020-10-09T02:32:05.578547Z",
     "iopub.status.idle": "2020-10-09T02:32:17.008742Z",
     "shell.execute_reply": "2020-10-09T02:32:17.007860Z"
    },
    "papermill": {
     "duration": 11.48949,
     "end_time": "2020-10-09T02:32:17.008874",
     "exception": false,
     "start_time": "2020-10-09T02:32:05.519384",
     "status": "completed"
    },
    "tags": []
   },
   "outputs": [
    {
     "name": "stdout",
     "output_type": "stream",
     "text": [
      "Collecting efaqa-corpus-zh\r\n",
      "  Downloading efaqa_corpus_zh-0.2.tar.gz (8.1 kB)\r\n",
      "Building wheels for collected packages: efaqa-corpus-zh\r\n",
      "  Building wheel for efaqa-corpus-zh (setup.py) ... \u001b[?25l-\b \b\\\b \bdone\r\n",
      "\u001b[?25h  Created wheel for efaqa-corpus-zh: filename=efaqa_corpus_zh-0.2-py3-none-any.whl size=8666 sha256=96d8f38244eb5f8c4f4c001cfc47d4c3bba48b2b7e7091545316dd6fff1d19a0\r\n",
      "  Stored in directory: /root/.cache/pip/wheels/da/91/bb/3b58838599764e769f8b61d91a6d6d80a86743fe02e24431f2\r\n",
      "Successfully built efaqa-corpus-zh\r\n",
      "Installing collected packages: efaqa-corpus-zh\r\n",
      "Successfully installed efaqa-corpus-zh-0.2\r\n",
      "\u001b[33mWARNING: You are using pip version 20.1.1; however, version 20.2.3 is available.\r\n",
      "You should consider upgrading via the '/opt/conda/bin/python3.7 -m pip install --upgrade pip' command.\u001b[0m\r\n"
     ]
    }
   ],
   "source": [
    "!pip install efaqa-corpus-zh"
   ]
  },
  {
   "cell_type": "code",
   "execution_count": 4,
   "metadata": {
    "_cell_guid": "0ccdfeaf-1ef2-4a71-a2ba-9def9aa37d17",
    "_uuid": "125d7e29-ad9a-43ee-ba2d-db99dd7dec29",
    "execution": {
     "iopub.execute_input": "2020-10-09T02:32:17.128848Z",
     "iopub.status.busy": "2020-10-09T02:32:17.127808Z",
     "iopub.status.idle": "2020-10-09T02:32:21.118212Z",
     "shell.execute_reply": "2020-10-09T02:32:21.117333Z"
    },
    "papermill": {
     "duration": 4.0525,
     "end_time": "2020-10-09T02:32:21.118372",
     "exception": false,
     "start_time": "2020-10-09T02:32:17.065872",
     "status": "completed"
    },
    "tags": []
   },
   "outputs": [
    {
     "name": "stdout",
     "output_type": "stream",
     "text": [
      "\n",
      " [efaqa-corpus-zh] downloading data https://github.com/chatopera/efaqa-corpus-zh/raw/master/data/efaqa-corpus-zh.utf8.gz ... \n",
      "\n"
     ]
    },
    {
     "name": "stderr",
     "output_type": "stream",
     "text": [
      "/opt/conda/lib/python3.7/site-packages/smart_open/smart_open_lib.py:254: UserWarning: This function is deprecated, use smart_open.open instead. See the migration notes for details: https://github.com/RaRe-Technologies/smart_open/blob/master/README.rst#migrating-to-the-new-open-function\n",
      "  'See the migration notes for details: %s' % _MIGRATION_NOTES_URL\n"
     ]
    }
   ],
   "source": [
    "# 使用github上的库（kaggle上的可能是旧版本）\n",
    "import efaqa_corpus_zh\n",
    "data = list(efaqa_corpus_zh.load())"
   ]
  },
  {
   "cell_type": "code",
   "execution_count": 5,
   "metadata": {
    "execution": {
     "iopub.execute_input": "2020-10-09T02:32:21.264878Z",
     "iopub.status.busy": "2020-10-09T02:32:21.254581Z",
     "iopub.status.idle": "2020-10-09T02:32:21.305628Z",
     "shell.execute_reply": "2020-10-09T02:32:21.305011Z"
    },
    "papermill": {
     "duration": 0.131292,
     "end_time": "2020-10-09T02:32:21.305757",
     "exception": false,
     "start_time": "2020-10-09T02:32:21.174465",
     "status": "completed"
    },
    "tags": []
   },
   "outputs": [
    {
     "name": "stdout",
     "output_type": "stream",
     "text": [
      "帖子数量 20000\n",
      "文本条数（不计title） 207745\n",
      "帖均文本条数 10.38725\n",
      "文本平均长度（不计title）/字 17.68224987364317\n"
     ]
    }
   ],
   "source": [
    "num_post = len(data)\n",
    "num_sentence = sum([len(post[\"chats\"]) for post in data])\n",
    "avg_num_word = sum(len(chat[\"value\"]) for post in data for chat in post[\"chats\"]) / num_sentence\n",
    "\n",
    "print(\"帖子数量\", num_post)\n",
    "print(\"文本条数（不计title）\", num_sentence)\n",
    "print(\"帖均文本条数\", num_sentence / num_post)\n",
    "print(\"文本平均长度（不计title）/字\", avg_num_word)"
   ]
  },
  {
   "cell_type": "code",
   "execution_count": 6,
   "metadata": {
    "_cell_guid": "0f9003a3-162e-4854-bf72-07f597b1ada8",
    "_uuid": "3d5e852b-cc1f-4bbb-965c-0ac2d57f070b",
    "execution": {
     "iopub.execute_input": "2020-10-09T02:32:21.430118Z",
     "iopub.status.busy": "2020-10-09T02:32:21.428946Z",
     "iopub.status.idle": "2020-10-09T02:32:21.433121Z",
     "shell.execute_reply": "2020-10-09T02:32:21.433715Z"
    },
    "papermill": {
     "duration": 0.070878,
     "end_time": "2020-10-09T02:32:21.433863",
     "exception": false,
     "start_time": "2020-10-09T02:32:21.362985",
     "status": "completed"
    },
    "tags": []
   },
   "outputs": [
    {
     "data": {
      "text/plain": [
       "{'chats': [{'label': {'knowledge': False, 'negative': False, 'question': True},\n",
       "   'sender': 'audience',\n",
       "   'time': '11:02:45',\n",
       "   'type': 'textMessage',\n",
       "   'value': '这样的议论是针对谁呢？'},\n",
       "  {'label': {'knowledge': False, 'negative': False, 'question': False},\n",
       "   'sender': 'audience',\n",
       "   'time': '11:08:38',\n",
       "   'type': 'textMessage',\n",
       "   'value': '我也是一个从小被这样训到大的女生哦，总会被指责缺心少肺、没心眼儿、没眼力见儿、看不出来眉眼高低等等。不过在我成长一段时间之后，发现这件事情其实很简单，也没有什么大的问题。如果你愿意的话，可以找我聊聊，倾诉一下你遇到的事情，希望能够帮到你。我是树洞小太阳，欢迎你来找我玩❤'},\n",
       "  {'label': {'knowledge': False, 'negative': False, 'question': False},\n",
       "   'sender': 'audience',\n",
       "   'time': '11:15:17',\n",
       "   'type': 'textMessage',\n",
       "   'value': '好惨'},\n",
       "  {'label': {'knowledge': False, 'negative': False, 'question': False},\n",
       "   'sender': 'audience',\n",
       "   'time': '11:15:35',\n",
       "   'type': 'textMessage',\n",
       "   'value': '原生家庭也这么对你吗'}],\n",
       " 'date': '2020-03-02 11:01:08',\n",
       " 'label': {'s1': '1.13', 's2': '2.7', 's3': '3.4'},\n",
       " 'owner': '匿名',\n",
       " 'title': '女 听过别人最多的议论就是干啥啥不行不长心眼没有脑子'}"
      ]
     },
     "execution_count": 6,
     "metadata": {},
     "output_type": "execute_result"
    }
   ],
   "source": [
    "# 数据集包含20000个样本\n",
    "# 每个样本即为一个帖子，内含若干跟帖和相关信息\n",
    "data[0]  # 展示一条数据"
   ]
  },
  {
   "cell_type": "code",
   "execution_count": 7,
   "metadata": {
    "_cell_guid": "81e28c94-b869-491e-973e-7d05e2761b56",
    "_uuid": "96d41951-5eaa-48cd-810f-cdcee6629484",
    "execution": {
     "iopub.execute_input": "2020-10-09T02:32:21.555619Z",
     "iopub.status.busy": "2020-10-09T02:32:21.554586Z",
     "iopub.status.idle": "2020-10-09T02:32:21.560444Z",
     "shell.execute_reply": "2020-10-09T02:32:21.559705Z"
    },
    "papermill": {
     "duration": 0.069428,
     "end_time": "2020-10-09T02:32:21.560565",
     "exception": false,
     "start_time": "2020-10-09T02:32:21.491137",
     "status": "completed"
    },
    "tags": []
   },
   "outputs": [
    {
     "name": "stdout",
     "output_type": "stream",
     "text": [
      "<class 'dict'>\n"
     ]
    },
    {
     "data": {
      "text/plain": [
       "dict_keys(['chats', 'date', 'label', 'owner', 'title'])"
      ]
     },
     "execution_count": 7,
     "metadata": {},
     "output_type": "execute_result"
    }
   ],
   "source": [
    "# 每个帖子是一个字典对象，包含对话（跟帖）、发帖人、标题、hash码、心理状态标签（label）五个属性\n",
    "# label标签是重要属性\n",
    "print(type(data[0]))\n",
    "data[0].keys()"
   ]
  },
  {
   "cell_type": "code",
   "execution_count": 8,
   "metadata": {
    "_cell_guid": "f9ce25b1-9f2b-4031-b029-c55c82c40579",
    "_uuid": "5d70e546-6fc0-4d67-8bc6-e7784b0ed083",
    "execution": {
     "iopub.execute_input": "2020-10-09T02:32:21.719770Z",
     "iopub.status.busy": "2020-10-09T02:32:21.718827Z",
     "iopub.status.idle": "2020-10-09T02:32:21.724891Z",
     "shell.execute_reply": "2020-10-09T02:32:21.724129Z"
    },
    "papermill": {
     "duration": 0.105418,
     "end_time": "2020-10-09T02:32:21.725014",
     "exception": false,
     "start_time": "2020-10-09T02:32:21.619596",
     "status": "completed"
    },
    "tags": []
   },
   "outputs": [
    {
     "name": "stdout",
     "output_type": "stream",
     "text": [
      "<class 'list'>\n"
     ]
    },
    {
     "data": {
      "text/plain": [
       "{'label': {'knowledge': False, 'negative': False, 'question': True},\n",
       " 'sender': 'audience',\n",
       " 'time': '11:02:45',\n",
       " 'type': 'textMessage',\n",
       " 'value': '这样的议论是针对谁呢？'}"
      ]
     },
     "execution_count": 8,
     "metadata": {},
     "output_type": "execute_result"
    }
   ],
   "source": [
    "# chats字段是一个列表，包含若干跟帖\n",
    "print(type(data[0][\"chats\"]))\n",
    "\n",
    "# 跟帖的结构是字典对象，包含跟帖时间、内容、发送者（是楼主还是其他用户）、内容类型（文本还是..）、标签（是否为问句，是否知识，是否为消极消息）\n",
    "data[0][\"chats\"][0]"
   ]
  },
  {
   "cell_type": "code",
   "execution_count": 9,
   "metadata": {
    "_cell_guid": "e7bb437e-92d6-48a0-910c-a9396431d684",
    "_uuid": "115d5e96-a173-4d12-b292-5aaf69f8e64b",
    "execution": {
     "iopub.execute_input": "2020-10-09T02:32:21.930378Z",
     "iopub.status.busy": "2020-10-09T02:32:21.884980Z",
     "iopub.status.idle": "2020-10-09T02:32:21.936223Z",
     "shell.execute_reply": "2020-10-09T02:32:21.935360Z"
    },
    "papermill": {
     "duration": 0.146771,
     "end_time": "2020-10-09T02:32:21.936427",
     "exception": false,
     "start_time": "2020-10-09T02:32:21.789656",
     "status": "completed"
    },
    "tags": []
   },
   "outputs": [
    {
     "data": {
      "text/plain": [
       "{'textMessage'}"
      ]
     },
     "execution_count": 9,
     "metadata": {},
     "output_type": "execute_result"
    }
   ],
   "source": [
    "# 文本类型是唯一的回帖类型\n",
    "content_types = set([follow[\"type\"] for lt in data for follow in lt[\"chats\"] ])\n",
    "content_types"
   ]
  },
  {
   "cell_type": "code",
   "execution_count": 10,
   "metadata": {
    "_cell_guid": "5262e3ee-4e2e-496f-bcc7-fa960afdb017",
    "_uuid": "9f0d5b7e-52b4-4eba-97f5-618c49ff364b",
    "execution": {
     "iopub.execute_input": "2020-10-09T02:32:22.087546Z",
     "iopub.status.busy": "2020-10-09T02:32:22.071966Z",
     "iopub.status.idle": "2020-10-09T02:32:22.281123Z",
     "shell.execute_reply": "2020-10-09T02:32:22.280483Z"
    },
    "papermill": {
     "duration": 0.279126,
     "end_time": "2020-10-09T02:32:22.281244",
     "exception": false,
     "start_time": "2020-10-09T02:32:22.002118",
     "status": "completed"
    },
    "tags": []
   },
   "outputs": [
    {
     "data": {
      "text/plain": [
       "{('label', 'sender', 'time', 'type', 'value')}"
      ]
     },
     "execution_count": 10,
     "metadata": {},
     "output_type": "execute_result"
    }
   ],
   "source": [
    "data_fields = set([tuple(chat.keys()) for post in data for chat in post[\"chats\"]])\n",
    "data_fields"
   ]
  },
  {
   "cell_type": "markdown",
   "metadata": {
    "papermill": {
     "duration": 0.060803,
     "end_time": "2020-10-09T02:32:22.402953",
     "exception": false,
     "start_time": "2020-10-09T02:32:22.342150",
     "status": "completed"
    },
    "tags": []
   },
   "source": [
    "# 二、数据集描述性数据分析"
   ]
  },
  {
   "cell_type": "code",
   "execution_count": 11,
   "metadata": {
    "_cell_guid": "d629c63f-a4ea-40bb-b01a-031b2a561e99",
    "_uuid": "c6e0393b-a791-4b45-91fd-0286fcc29dbc",
    "execution": {
     "iopub.execute_input": "2020-10-09T02:32:22.528089Z",
     "iopub.status.busy": "2020-10-09T02:32:22.527288Z",
     "iopub.status.idle": "2020-10-09T02:32:22.529676Z",
     "shell.execute_reply": "2020-10-09T02:32:22.530236Z"
    },
    "papermill": {
     "duration": 0.066944,
     "end_time": "2020-10-09T02:32:22.530408",
     "exception": false,
     "start_time": "2020-10-09T02:32:22.463464",
     "status": "completed"
    },
    "tags": []
   },
   "outputs": [],
   "source": [
    "# y_s1 = [post['label']['s1'] for post in data]\n",
    "# plt.plot(y_s1)\n",
    "# plt.show()"
   ]
  },
  {
   "cell_type": "code",
   "execution_count": 12,
   "metadata": {
    "execution": {
     "iopub.execute_input": "2020-10-09T02:32:22.666815Z",
     "iopub.status.busy": "2020-10-09T02:32:22.665441Z",
     "iopub.status.idle": "2020-10-09T02:32:22.667515Z",
     "shell.execute_reply": "2020-10-09T02:32:22.666094Z"
    },
    "papermill": {
     "duration": 0.076498,
     "end_time": "2020-10-09T02:32:22.667648",
     "exception": false,
     "start_time": "2020-10-09T02:32:22.591150",
     "status": "completed"
    },
    "tags": []
   },
   "outputs": [],
   "source": [
    "# y_s2 = [post['label']['s2'] for post in data]\n",
    "# plt.plot(y_s2)\n",
    "# plt.show()"
   ]
  },
  {
   "cell_type": "code",
   "execution_count": 13,
   "metadata": {
    "execution": {
     "iopub.execute_input": "2020-10-09T02:32:22.794402Z",
     "iopub.status.busy": "2020-10-09T02:32:22.793470Z",
     "iopub.status.idle": "2020-10-09T02:32:22.796529Z",
     "shell.execute_reply": "2020-10-09T02:32:22.795901Z"
    },
    "papermill": {
     "duration": 0.067971,
     "end_time": "2020-10-09T02:32:22.796649",
     "exception": false,
     "start_time": "2020-10-09T02:32:22.728678",
     "status": "completed"
    },
    "tags": []
   },
   "outputs": [],
   "source": [
    "# y_s3 = [post['label']['s3'] for post in data]\n",
    "# plt.plot(y_s3)\n",
    "# plt.show()"
   ]
  },
  {
   "cell_type": "code",
   "execution_count": 14,
   "metadata": {
    "execution": {
     "iopub.execute_input": "2020-10-09T02:32:22.926695Z",
     "iopub.status.busy": "2020-10-09T02:32:22.925693Z",
     "iopub.status.idle": "2020-10-09T02:32:22.930092Z",
     "shell.execute_reply": "2020-10-09T02:32:22.929382Z"
    },
    "papermill": {
     "duration": 0.071522,
     "end_time": "2020-10-09T02:32:22.930221",
     "exception": false,
     "start_time": "2020-10-09T02:32:22.858699",
     "status": "completed"
    },
    "tags": []
   },
   "outputs": [
    {
     "name": "stdout",
     "output_type": "stream",
     "text": [
      "------------------\n",
      "('s1', '1.13')\n",
      "('s2', '2.7')\n",
      "('s3', '3.4')\n",
      "------------------\n",
      "('s1', '1.16')\n",
      "('s2', '2.7')\n",
      "('s3', '3.4')\n"
     ]
    }
   ],
   "source": [
    "# 心理状态标签\n",
    "for post in data[:2]:\n",
    "    print(\"------------------\")\n",
    "    for item in post[\"label\"].items():\n",
    "        print(item)"
   ]
  },
  {
   "cell_type": "markdown",
   "metadata": {
    "papermill": {
     "duration": 0.0622,
     "end_time": "2020-10-09T02:32:23.055087",
     "exception": false,
     "start_time": "2020-10-09T02:32:22.992887",
     "status": "completed"
    },
    "tags": []
   },
   "source": [
    "# 三、文本预处理"
   ]
  },
  {
   "cell_type": "code",
   "execution_count": 15,
   "metadata": {
    "execution": {
     "iopub.execute_input": "2020-10-09T02:32:23.183953Z",
     "iopub.status.busy": "2020-10-09T02:32:23.183195Z",
     "iopub.status.idle": "2020-10-09T02:32:23.186393Z",
     "shell.execute_reply": "2020-10-09T02:32:23.186917Z"
    },
    "papermill": {
     "duration": 0.06972,
     "end_time": "2020-10-09T02:32:23.187088",
     "exception": false,
     "start_time": "2020-10-09T02:32:23.117368",
     "status": "completed"
    },
    "tags": []
   },
   "outputs": [],
   "source": [
    "# !pip install bert-serving-server\n",
    "# !pip install bert-serving-client"
   ]
  },
  {
   "cell_type": "code",
   "execution_count": 16,
   "metadata": {
    "execution": {
     "iopub.execute_input": "2020-10-09T02:32:23.316451Z",
     "iopub.status.busy": "2020-10-09T02:32:23.315667Z",
     "iopub.status.idle": "2020-10-09T02:32:23.318939Z",
     "shell.execute_reply": "2020-10-09T02:32:23.318378Z"
    },
    "papermill": {
     "duration": 0.070151,
     "end_time": "2020-10-09T02:32:23.319069",
     "exception": false,
     "start_time": "2020-10-09T02:32:23.248918",
     "status": "completed"
    },
    "tags": []
   },
   "outputs": [],
   "source": [
    "# from bert_serving.client import BertClient\n",
    "# bc = BertClient()\n",
    "# print(bc.encode(['中国', '美国']))"
   ]
  },
  {
   "cell_type": "code",
   "execution_count": 17,
   "metadata": {
    "execution": {
     "iopub.execute_input": "2020-10-09T02:32:23.450207Z",
     "iopub.status.busy": "2020-10-09T02:32:23.449448Z",
     "iopub.status.idle": "2020-10-09T02:32:23.646160Z",
     "shell.execute_reply": "2020-10-09T02:32:23.645390Z"
    },
    "papermill": {
     "duration": 0.265079,
     "end_time": "2020-10-09T02:32:23.646284",
     "exception": false,
     "start_time": "2020-10-09T02:32:23.381205",
     "status": "completed"
    },
    "tags": []
   },
   "outputs": [],
   "source": [
    "import jieba\n",
    "from gensim.models import Word2Vec\n",
    "from gensim.models.word2vec import LineSentence"
   ]
  },
  {
   "cell_type": "code",
   "execution_count": 18,
   "metadata": {
    "execution": {
     "iopub.execute_input": "2020-10-09T02:32:23.778999Z",
     "iopub.status.busy": "2020-10-09T02:32:23.778199Z",
     "iopub.status.idle": "2020-10-09T02:32:23.786777Z",
     "shell.execute_reply": "2020-10-09T02:32:23.787411Z"
    },
    "papermill": {
     "duration": 0.077618,
     "end_time": "2020-10-09T02:32:23.787563",
     "exception": false,
     "start_time": "2020-10-09T02:32:23.709945",
     "status": "completed"
    },
    "tags": []
   },
   "outputs": [
    {
     "data": {
      "text/plain": [
       "2315"
      ]
     },
     "execution_count": 18,
     "metadata": {},
     "output_type": "execute_result"
    }
   ],
   "source": [
    "stop_word_path = \"/kaggle/input/tipdmcup2020-data-and-scripts/resources/special-words/stop_words.txt\"\n",
    "# 读取停用词\n",
    "stopwords = [line.strip() for line in open(stop_word_path, 'r', encoding='utf-8').readlines()]\n",
    "\n",
    "stopwords += [\" \", \"，\", \"。\"]\n",
    "\n",
    "len(stopwords)"
   ]
  },
  {
   "cell_type": "code",
   "execution_count": 19,
   "metadata": {
    "execution": {
     "iopub.execute_input": "2020-10-09T02:32:23.944719Z",
     "iopub.status.busy": "2020-10-09T02:32:23.934454Z",
     "iopub.status.idle": "2020-10-09T02:32:23.989096Z",
     "shell.execute_reply": "2020-10-09T02:32:23.990195Z"
    },
    "papermill": {
     "duration": 0.139478,
     "end_time": "2020-10-09T02:32:23.990473",
     "exception": false,
     "start_time": "2020-10-09T02:32:23.850995",
     "status": "completed"
    },
    "tags": []
   },
   "outputs": [],
   "source": [
    "# 将每个帖子中的文本分离出来\n",
    "lines = [[post[\"title\"]] + [chat[\"value\"] for chat in post[\"chats\"]] for post in data]"
   ]
  },
  {
   "cell_type": "code",
   "execution_count": 20,
   "metadata": {
    "execution": {
     "iopub.execute_input": "2020-10-09T02:32:24.128324Z",
     "iopub.status.busy": "2020-10-09T02:32:24.127475Z",
     "iopub.status.idle": "2020-10-09T02:32:24.132354Z",
     "shell.execute_reply": "2020-10-09T02:32:24.131631Z"
    },
    "papermill": {
     "duration": 0.073774,
     "end_time": "2020-10-09T02:32:24.132473",
     "exception": false,
     "start_time": "2020-10-09T02:32:24.058699",
     "status": "completed"
    },
    "tags": []
   },
   "outputs": [
    {
     "data": {
      "text/plain": [
       "['女 听过别人最多的议论就是干啥啥不行不长心眼没有脑子',\n",
       " '这样的议论是针对谁呢？',\n",
       " '我也是一个从小被这样训到大的女生哦，总会被指责缺心少肺、没心眼儿、没眼力见儿、看不出来眉眼高低等等。不过在我成长一段时间之后，发现这件事情其实很简单，也没有什么大的问题。如果你愿意的话，可以找我聊聊，倾诉一下你遇到的事情，希望能够帮到你。我是树洞小太阳，欢迎你来找我玩❤',\n",
       " '好惨',\n",
       " '原生家庭也这么对你吗']"
      ]
     },
     "execution_count": 20,
     "metadata": {},
     "output_type": "execute_result"
    }
   ],
   "source": [
    "lines[0]"
   ]
  },
  {
   "cell_type": "code",
   "execution_count": 21,
   "metadata": {
    "execution": {
     "iopub.execute_input": "2020-10-09T02:32:24.264405Z",
     "iopub.status.busy": "2020-10-09T02:32:24.263674Z",
     "iopub.status.idle": "2020-10-09T02:32:24.267041Z",
     "shell.execute_reply": "2020-10-09T02:32:24.266345Z"
    },
    "papermill": {
     "duration": 0.071206,
     "end_time": "2020-10-09T02:32:24.267166",
     "exception": false,
     "start_time": "2020-10-09T02:32:24.195960",
     "status": "completed"
    },
    "tags": []
   },
   "outputs": [],
   "source": [
    "import jieba\n",
    "from functools import reduce\n",
    "from tqdm import tqdm"
   ]
  },
  {
   "cell_type": "code",
   "execution_count": 22,
   "metadata": {
    "execution": {
     "iopub.execute_input": "2020-10-09T02:32:24.403961Z",
     "iopub.status.busy": "2020-10-09T02:32:24.402959Z",
     "iopub.status.idle": "2020-10-09T02:34:32.303720Z",
     "shell.execute_reply": "2020-10-09T02:34:32.303054Z"
    },
    "papermill": {
     "duration": 127.973132,
     "end_time": "2020-10-09T02:34:32.303852",
     "exception": false,
     "start_time": "2020-10-09T02:32:24.330720",
     "status": "completed"
    },
    "tags": []
   },
   "outputs": [
    {
     "name": "stderr",
     "output_type": "stream",
     "text": [
      "  0%|          | 0/20000 [00:00<?, ?it/s]Building prefix dict from the default dictionary ...\n",
      "Dumping model to file cache /tmp/jieba.cache\n",
      "Loading model cost 1.484 seconds.\n",
      "Prefix dict has been built successfully.\n",
      "100%|██████████| 20000/20000 [02:07<00:00, 156.38it/s]\n"
     ]
    }
   ],
   "source": [
    "# 分词\n",
    "x = []\n",
    "for cluster in tqdm(lines):\n",
    "    x_line = []\n",
    "    for line in cluster:\n",
    "        tmp = [char for char in jieba.lcut(line) if char not in stopwords]\n",
    "        x_line.append(tmp)\n",
    "    x.append(reduce(lambda a, b: a+b, x_line))"
   ]
  },
  {
   "cell_type": "code",
   "execution_count": 23,
   "metadata": {
    "execution": {
     "iopub.execute_input": "2020-10-09T02:34:33.381660Z",
     "iopub.status.busy": "2020-10-09T02:34:33.380778Z",
     "iopub.status.idle": "2020-10-09T02:34:33.386076Z",
     "shell.execute_reply": "2020-10-09T02:34:33.385393Z"
    },
    "papermill": {
     "duration": 0.517007,
     "end_time": "2020-10-09T02:34:33.386191",
     "exception": false,
     "start_time": "2020-10-09T02:34:32.869184",
     "status": "completed"
    },
    "tags": []
   },
   "outputs": [
    {
     "data": {
      "text/plain": [
       "['女',\n",
       " '听过',\n",
       " '最多',\n",
       " '议论',\n",
       " '干',\n",
       " '不行',\n",
       " '长',\n",
       " '心眼',\n",
       " '脑子',\n",
       " '议论',\n",
       " '训到',\n",
       " '女生',\n",
       " '总会',\n",
       " '指责',\n",
       " '缺心少肺',\n",
       " '没',\n",
       " '心眼儿',\n",
       " '没',\n",
       " '眼力',\n",
       " '见儿',\n",
       " '看不出来',\n",
       " '眉眼高低',\n",
       " '成长',\n",
       " '一段时间',\n",
       " '发现',\n",
       " '这件',\n",
       " '事情',\n",
       " '简单',\n",
       " '找',\n",
       " '聊聊',\n",
       " '倾诉',\n",
       " '事情',\n",
       " '希望',\n",
       " '帮到',\n",
       " '树洞',\n",
       " '太阳',\n",
       " '找',\n",
       " '玩',\n",
       " '❤',\n",
       " '好惨',\n",
       " '原生',\n",
       " '家庭']"
      ]
     },
     "execution_count": 23,
     "metadata": {},
     "output_type": "execute_result"
    }
   ],
   "source": [
    "x[0]"
   ]
  },
  {
   "cell_type": "code",
   "execution_count": 24,
   "metadata": {
    "execution": {
     "iopub.execute_input": "2020-10-09T02:34:34.410650Z",
     "iopub.status.busy": "2020-10-09T02:34:34.409847Z",
     "iopub.status.idle": "2020-10-09T02:34:34.484255Z",
     "shell.execute_reply": "2020-10-09T02:34:34.484904Z"
    },
    "papermill": {
     "duration": 0.591194,
     "end_time": "2020-10-09T02:34:34.485068",
     "exception": false,
     "start_time": "2020-10-09T02:34:33.893874",
     "status": "completed"
    },
    "tags": []
   },
   "outputs": [
    {
     "name": "stderr",
     "output_type": "stream",
     "text": [
      "100%|██████████| 20000/20000 [00:00<00:00, 289606.88it/s]\n"
     ]
    }
   ],
   "source": [
    "# 预测目标y（心理状态标签）\n",
    "y_s1_raw = []\n",
    "y_s2_raw = []\n",
    "y_s3_raw = []\n",
    "\n",
    "for post in tqdm(data):\n",
    "    cluster = {item[0]: item[1] for item in post[\"label\"].items()} \n",
    "    y_s1_raw.append(cluster[\"s1\"])\n",
    "    y_s2_raw.append(cluster[\"s2\"])\n",
    "    y_s3_raw.append(cluster[\"s3\"])"
   ]
  },
  {
   "cell_type": "code",
   "execution_count": 25,
   "metadata": {
    "execution": {
     "iopub.execute_input": "2020-10-09T02:34:35.529698Z",
     "iopub.status.busy": "2020-10-09T02:34:35.528943Z",
     "iopub.status.idle": "2020-10-09T02:34:35.532327Z",
     "shell.execute_reply": "2020-10-09T02:34:35.532889Z"
    },
    "papermill": {
     "duration": 0.539681,
     "end_time": "2020-10-09T02:34:35.533051",
     "exception": false,
     "start_time": "2020-10-09T02:34:34.993370",
     "status": "completed"
    },
    "tags": []
   },
   "outputs": [],
   "source": [
    "y_map = {}\n",
    "for label in y_s1_raw + y_s2_raw + y_s3_raw:\n",
    "    if label not in y_map:\n",
    "        y_map[label] = len(y_map)"
   ]
  },
  {
   "cell_type": "code",
   "execution_count": 26,
   "metadata": {
    "execution": {
     "iopub.execute_input": "2020-10-09T02:34:36.561962Z",
     "iopub.status.busy": "2020-10-09T02:34:36.560889Z",
     "iopub.status.idle": "2020-10-09T02:34:36.564641Z",
     "shell.execute_reply": "2020-10-09T02:34:36.565373Z"
    },
    "papermill": {
     "duration": 0.521754,
     "end_time": "2020-10-09T02:34:36.565530",
     "exception": false,
     "start_time": "2020-10-09T02:34:36.043776",
     "status": "completed"
    },
    "tags": []
   },
   "outputs": [
    {
     "data": {
      "text/plain": [
       "{'1.13': 0,\n",
       " '1.16': 1,\n",
       " '1.6': 2,\n",
       " '1.9': 3,\n",
       " '1.14': 4,\n",
       " '1.7': 5,\n",
       " '1.12': 6,\n",
       " '1.3': 7,\n",
       " '1.15': 8,\n",
       " '1.8': 9,\n",
       " '1.2': 10,\n",
       " '1.1': 11,\n",
       " '1.10': 12,\n",
       " '1.11': 13,\n",
       " '1.4': 14,\n",
       " '1.5': 15,\n",
       " '1.18': 16,\n",
       " '1.17': 17,\n",
       " '1.19': 18,\n",
       " '2.7': 19,\n",
       " '2.1': 20,\n",
       " '2.2': 21,\n",
       " '2.8': 22,\n",
       " '2.3': 23,\n",
       " '2.4': 24,\n",
       " '2.5': 25,\n",
       " '2.6': 26,\n",
       " '3.4': 27,\n",
       " '3.2': 28,\n",
       " '3.3': 29,\n",
       " '3.6': 30,\n",
       " '3.5': 31}"
      ]
     },
     "execution_count": 26,
     "metadata": {},
     "output_type": "execute_result"
    }
   ],
   "source": [
    "y_map"
   ]
  },
  {
   "cell_type": "code",
   "execution_count": 27,
   "metadata": {
    "execution": {
     "iopub.execute_input": "2020-10-09T02:34:37.608013Z",
     "iopub.status.busy": "2020-10-09T02:34:37.606985Z",
     "iopub.status.idle": "2020-10-09T02:34:37.610538Z",
     "shell.execute_reply": "2020-10-09T02:34:37.609811Z"
    },
    "papermill": {
     "duration": 0.532662,
     "end_time": "2020-10-09T02:34:37.610665",
     "exception": false,
     "start_time": "2020-10-09T02:34:37.078003",
     "status": "completed"
    },
    "tags": []
   },
   "outputs": [],
   "source": [
    "y_s1 = [y_map[label] for label in y_s1_raw]\n",
    "y_s2 = [y_map[label] for label in y_s2_raw]\n",
    "y_s3 = [y_map[label] for label in y_s3_raw]"
   ]
  },
  {
   "cell_type": "markdown",
   "metadata": {
    "papermill": {
     "duration": 0.511985,
     "end_time": "2020-10-09T02:34:38.635545",
     "exception": false,
     "start_time": "2020-10-09T02:34:38.123560",
     "status": "completed"
    },
    "tags": []
   },
   "source": [
    "# 获得词向量(s1)"
   ]
  },
  {
   "cell_type": "code",
   "execution_count": 28,
   "metadata": {
    "execution": {
     "iopub.execute_input": "2020-10-09T02:34:39.666854Z",
     "iopub.status.busy": "2020-10-09T02:34:39.666031Z",
     "iopub.status.idle": "2020-10-09T02:34:39.763209Z",
     "shell.execute_reply": "2020-10-09T02:34:39.762420Z"
    },
    "papermill": {
     "duration": 0.615031,
     "end_time": "2020-10-09T02:34:39.763371",
     "exception": false,
     "start_time": "2020-10-09T02:34:39.148340",
     "status": "completed"
    },
    "tags": []
   },
   "outputs": [],
   "source": [
    "import gensim\n",
    "from sklearn.model_selection import train_test_split"
   ]
  },
  {
   "cell_type": "code",
   "execution_count": 29,
   "metadata": {
    "execution": {
     "iopub.execute_input": "2020-10-09T02:34:40.800983Z",
     "iopub.status.busy": "2020-10-09T02:34:40.795774Z",
     "iopub.status.idle": "2020-10-09T02:34:40.816813Z",
     "shell.execute_reply": "2020-10-09T02:34:40.815999Z"
    },
    "papermill": {
     "duration": 0.540186,
     "end_time": "2020-10-09T02:34:40.816944",
     "exception": false,
     "start_time": "2020-10-09T02:34:40.276758",
     "status": "completed"
    },
    "tags": []
   },
   "outputs": [],
   "source": [
    "# 分割测试集和训练集\n",
    "x_train, x_test, y_train, y_test \\\n",
    "        = train_test_split(x, y_s1, test_size=0.3)"
   ]
  },
  {
   "cell_type": "code",
   "execution_count": 30,
   "metadata": {
    "execution": {
     "iopub.execute_input": "2020-10-09T02:34:41.849352Z",
     "iopub.status.busy": "2020-10-09T02:34:41.848151Z",
     "iopub.status.idle": "2020-10-09T02:34:51.253642Z",
     "shell.execute_reply": "2020-10-09T02:34:51.254250Z"
    },
    "papermill": {
     "duration": 9.925747,
     "end_time": "2020-10-09T02:34:51.254442",
     "exception": false,
     "start_time": "2020-10-09T02:34:41.328695",
     "status": "completed"
    },
    "tags": []
   },
   "outputs": [],
   "source": [
    "# 获得词嵌入\n",
    "word2vec_model = gensim.models.Word2Vec(x_train)"
   ]
  },
  {
   "cell_type": "code",
   "execution_count": 31,
   "metadata": {
    "execution": {
     "iopub.execute_input": "2020-10-09T02:34:52.299752Z",
     "iopub.status.busy": "2020-10-09T02:34:52.298616Z",
     "iopub.status.idle": "2020-10-09T02:34:52.302436Z",
     "shell.execute_reply": "2020-10-09T02:34:52.301651Z"
    },
    "papermill": {
     "duration": 0.532668,
     "end_time": "2020-10-09T02:34:52.302567",
     "exception": false,
     "start_time": "2020-10-09T02:34:51.769899",
     "status": "completed"
    },
    "tags": []
   },
   "outputs": [],
   "source": [
    "# 文档向量计算方法：词向量的加权平均\n",
    "def get_doc_vec(x, word2vec_model):\n",
    "    doc_vec_s1 = []\n",
    "    zero_count = 0\n",
    "    for doc in tqdm(x):\n",
    "        tmp = [word2vec_model[word] for word in doc if word in word2vec_model]\n",
    "        if len(tmp) == 0:\n",
    "            avg = np.zeros(len(doc_vec_s1[0]))\n",
    "            zero_count += 1\n",
    "        else:\n",
    "            avg = [item/len(tmp) for item in reduce(lambda lt1, lt2: [lt1[index]+lt2[index] for index in range(len(lt1))], tmp)]\n",
    "        doc_vec_s1.append(avg)\n",
    "    print(\"零向量占比\", zero_count/len(doc_vec_s1))\n",
    "    return doc_vec_s1"
   ]
  },
  {
   "cell_type": "code",
   "execution_count": 32,
   "metadata": {
    "execution": {
     "iopub.execute_input": "2020-10-09T02:34:53.384096Z",
     "iopub.status.busy": "2020-10-09T02:34:53.383075Z",
     "iopub.status.idle": "2020-10-09T02:35:55.481202Z",
     "shell.execute_reply": "2020-10-09T02:35:55.481801Z"
    },
    "papermill": {
     "duration": 62.655768,
     "end_time": "2020-10-09T02:35:55.481979",
     "exception": false,
     "start_time": "2020-10-09T02:34:52.826211",
     "status": "completed"
    },
    "tags": []
   },
   "outputs": [
    {
     "name": "stderr",
     "output_type": "stream",
     "text": [
      "  0%|          | 0/14000 [00:00<?, ?it/s]/opt/conda/lib/python3.7/site-packages/ipykernel_launcher.py:6: DeprecationWarning: Call to deprecated `__contains__` (Method will be removed in 4.0.0, use self.wv.__contains__() instead).\n",
      "  \n",
      "/opt/conda/lib/python3.7/site-packages/ipykernel_launcher.py:6: DeprecationWarning: Call to deprecated `__getitem__` (Method will be removed in 4.0.0, use self.wv.__getitem__() instead).\n",
      "  \n",
      "100%|██████████| 14000/14000 [01:02<00:00, 225.48it/s]"
     ]
    },
    {
     "name": "stdout",
     "output_type": "stream",
     "text": [
      "零向量占比 7.142857142857143e-05\n"
     ]
    },
    {
     "name": "stderr",
     "output_type": "stream",
     "text": [
      "\n"
     ]
    }
   ],
   "source": [
    "doc_vec_s1 = get_doc_vec(x_train, word2vec_model)"
   ]
  },
  {
   "cell_type": "code",
   "execution_count": 33,
   "metadata": {
    "execution": {
     "iopub.execute_input": "2020-10-09T02:35:56.975419Z",
     "iopub.status.busy": "2020-10-09T02:35:56.974363Z",
     "iopub.status.idle": "2020-10-09T02:35:56.978688Z",
     "shell.execute_reply": "2020-10-09T02:35:56.977963Z"
    },
    "papermill": {
     "duration": 0.756094,
     "end_time": "2020-10-09T02:35:56.978822",
     "exception": false,
     "start_time": "2020-10-09T02:35:56.222728",
     "status": "completed"
    },
    "tags": []
   },
   "outputs": [
    {
     "data": {
      "text/plain": [
       "14000"
      ]
     },
     "execution_count": 33,
     "metadata": {},
     "output_type": "execute_result"
    }
   ],
   "source": [
    "len(doc_vec_s1)"
   ]
  },
  {
   "cell_type": "code",
   "execution_count": 34,
   "metadata": {
    "execution": {
     "iopub.execute_input": "2020-10-09T02:35:58.464594Z",
     "iopub.status.busy": "2020-10-09T02:35:58.463778Z",
     "iopub.status.idle": "2020-10-09T02:35:58.468196Z",
     "shell.execute_reply": "2020-10-09T02:35:58.468762Z"
    },
    "papermill": {
     "duration": 0.752541,
     "end_time": "2020-10-09T02:35:58.468929",
     "exception": false,
     "start_time": "2020-10-09T02:35:57.716388",
     "status": "completed"
    },
    "tags": []
   },
   "outputs": [
    {
     "data": {
      "text/plain": [
       "100"
      ]
     },
     "execution_count": 34,
     "metadata": {},
     "output_type": "execute_result"
    }
   ],
   "source": [
    "len(doc_vec_s1[0])"
   ]
  },
  {
   "cell_type": "markdown",
   "metadata": {
    "papermill": {
     "duration": 0.739655,
     "end_time": "2020-10-09T02:36:00.026239",
     "exception": false,
     "start_time": "2020-10-09T02:35:59.286584",
     "status": "completed"
    },
    "tags": []
   },
   "source": [
    "# 训练模型（s1）"
   ]
  },
  {
   "cell_type": "code",
   "execution_count": 35,
   "metadata": {
    "execution": {
     "iopub.execute_input": "2020-10-09T02:36:01.510241Z",
     "iopub.status.busy": "2020-10-09T02:36:01.509532Z",
     "iopub.status.idle": "2020-10-09T02:36:01.591536Z",
     "shell.execute_reply": "2020-10-09T02:36:01.590829Z"
    },
    "papermill": {
     "duration": 0.822044,
     "end_time": "2020-10-09T02:36:01.591665",
     "exception": false,
     "start_time": "2020-10-09T02:36:00.769621",
     "status": "completed"
    },
    "tags": []
   },
   "outputs": [],
   "source": [
    "from sklearn.svm import SVC  # 支持向量机分类器"
   ]
  },
  {
   "cell_type": "code",
   "execution_count": 36,
   "metadata": {
    "execution": {
     "iopub.execute_input": "2020-10-09T02:36:03.073076Z",
     "iopub.status.busy": "2020-10-09T02:36:03.072352Z",
     "iopub.status.idle": "2020-10-09T02:36:03.075518Z",
     "shell.execute_reply": "2020-10-09T02:36:03.074753Z"
    },
    "papermill": {
     "duration": 0.743695,
     "end_time": "2020-10-09T02:36:03.075645",
     "exception": false,
     "start_time": "2020-10-09T02:36:02.331950",
     "status": "completed"
    },
    "tags": []
   },
   "outputs": [],
   "source": [
    "svm_model = SVC()"
   ]
  },
  {
   "cell_type": "code",
   "execution_count": 37,
   "metadata": {
    "execution": {
     "iopub.execute_input": "2020-10-09T02:36:04.824649Z",
     "iopub.status.busy": "2020-10-09T02:36:04.823810Z",
     "iopub.status.idle": "2020-10-09T02:36:36.913335Z",
     "shell.execute_reply": "2020-10-09T02:36:36.913989Z"
    },
    "papermill": {
     "duration": 33.103815,
     "end_time": "2020-10-09T02:36:36.914143",
     "exception": false,
     "start_time": "2020-10-09T02:36:03.810328",
     "status": "completed"
    },
    "tags": []
   },
   "outputs": [
    {
     "data": {
      "text/plain": [
       "SVC()"
      ]
     },
     "execution_count": 37,
     "metadata": {},
     "output_type": "execute_result"
    }
   ],
   "source": [
    "svm_model.fit(doc_vec_s1, y_train)"
   ]
  },
  {
   "cell_type": "code",
   "execution_count": 38,
   "metadata": {
    "execution": {
     "iopub.execute_input": "2020-10-09T02:36:38.406142Z",
     "iopub.status.busy": "2020-10-09T02:36:38.405068Z",
     "iopub.status.idle": "2020-10-09T02:37:17.458883Z",
     "shell.execute_reply": "2020-10-09T02:37:17.459451Z"
    },
    "papermill": {
     "duration": 39.806408,
     "end_time": "2020-10-09T02:37:17.459618",
     "exception": false,
     "start_time": "2020-10-09T02:36:37.653210",
     "status": "completed"
    },
    "tags": []
   },
   "outputs": [
    {
     "name": "stderr",
     "output_type": "stream",
     "text": [
      "  0%|          | 0/6000 [00:00<?, ?it/s]/opt/conda/lib/python3.7/site-packages/ipykernel_launcher.py:6: DeprecationWarning: Call to deprecated `__contains__` (Method will be removed in 4.0.0, use self.wv.__contains__() instead).\n",
      "  \n",
      "/opt/conda/lib/python3.7/site-packages/ipykernel_launcher.py:6: DeprecationWarning: Call to deprecated `__getitem__` (Method will be removed in 4.0.0, use self.wv.__getitem__() instead).\n",
      "  \n",
      "100%|██████████| 6000/6000 [00:26<00:00, 230.29it/s]\n"
     ]
    },
    {
     "name": "stdout",
     "output_type": "stream",
     "text": [
      "零向量占比 0.0\n"
     ]
    }
   ],
   "source": [
    "predicted = svm_model.predict(get_doc_vec(x_test, word2vec_model))"
   ]
  },
  {
   "cell_type": "code",
   "execution_count": 39,
   "metadata": {
    "execution": {
     "iopub.execute_input": "2020-10-09T02:37:19.140582Z",
     "iopub.status.busy": "2020-10-09T02:37:19.139653Z",
     "iopub.status.idle": "2020-10-09T02:37:19.168070Z",
     "shell.execute_reply": "2020-10-09T02:37:19.167164Z"
    },
    "papermill": {
     "duration": 0.871784,
     "end_time": "2020-10-09T02:37:19.168256",
     "exception": false,
     "start_time": "2020-10-09T02:37:18.296472",
     "status": "completed"
    },
    "tags": []
   },
   "outputs": [
    {
     "name": "stdout",
     "output_type": "stream",
     "text": [
      "              precision    recall  f1-score   support\n",
      "\n",
      "           0       0.45      0.03      0.06       167\n",
      "           1       0.57      0.82      0.67      2132\n",
      "           2       0.61      0.30      0.40       126\n",
      "           3       0.63      0.85      0.72      1532\n",
      "           4       0.00      0.00      0.00        58\n",
      "           5       0.65      0.08      0.14       263\n",
      "           6       0.00      0.00      0.00       124\n",
      "           7       0.50      0.47      0.48       576\n",
      "           8       0.00      0.00      0.00        72\n",
      "           9       0.60      0.11      0.18       228\n",
      "          10       0.69      0.19      0.30        94\n",
      "          11       0.66      0.47      0.55       210\n",
      "          12       0.41      0.06      0.10       121\n",
      "          13       1.00      0.01      0.03       202\n",
      "          14       0.00      0.00      0.00        28\n",
      "          15       0.00      0.00      0.00        11\n",
      "          16       0.00      0.00      0.00        13\n",
      "          17       0.00      0.00      0.00        17\n",
      "          18       0.00      0.00      0.00        26\n",
      "\n",
      "    accuracy                           0.59      6000\n",
      "   macro avg       0.36      0.18      0.19      6000\n",
      "weighted avg       0.56      0.59      0.52      6000\n",
      "\n"
     ]
    },
    {
     "name": "stderr",
     "output_type": "stream",
     "text": [
      "/opt/conda/lib/python3.7/site-packages/sklearn/metrics/_classification.py:1221: UndefinedMetricWarning: Precision and F-score are ill-defined and being set to 0.0 in labels with no predicted samples. Use `zero_division` parameter to control this behavior.\n",
      "  _warn_prf(average, modifier, msg_start, len(result))\n"
     ]
    }
   ],
   "source": [
    "from sklearn import metrics  # 模型评价工具\n",
    "print(metrics.classification_report(y_test, predicted))"
   ]
  },
  {
   "cell_type": "code",
   "execution_count": 40,
   "metadata": {
    "execution": {
     "iopub.execute_input": "2020-10-09T02:37:20.851878Z",
     "iopub.status.busy": "2020-10-09T02:37:20.850871Z",
     "iopub.status.idle": "2020-10-09T02:37:20.962388Z",
     "shell.execute_reply": "2020-10-09T02:37:20.961711Z"
    },
    "papermill": {
     "duration": 0.954907,
     "end_time": "2020-10-09T02:37:20.962533",
     "exception": false,
     "start_time": "2020-10-09T02:37:20.007626",
     "status": "completed"
    },
    "tags": []
   },
   "outputs": [],
   "source": [
    "# 换模型\n",
    "from sklearn.ensemble import RandomForestClassifier\n",
    "rf = RandomForestClassifier()"
   ]
  },
  {
   "cell_type": "code",
   "execution_count": 41,
   "metadata": {
    "execution": {
     "iopub.execute_input": "2020-10-09T02:37:23.128384Z",
     "iopub.status.busy": "2020-10-09T02:37:23.127344Z",
     "iopub.status.idle": "2020-10-09T02:38:09.431210Z",
     "shell.execute_reply": "2020-10-09T02:38:09.430476Z"
    },
    "papermill": {
     "duration": 47.538026,
     "end_time": "2020-10-09T02:38:09.431361",
     "exception": false,
     "start_time": "2020-10-09T02:37:21.893335",
     "status": "completed"
    },
    "tags": []
   },
   "outputs": [
    {
     "name": "stderr",
     "output_type": "stream",
     "text": [
      "  0%|          | 0/6000 [00:00<?, ?it/s]/opt/conda/lib/python3.7/site-packages/ipykernel_launcher.py:6: DeprecationWarning: Call to deprecated `__contains__` (Method will be removed in 4.0.0, use self.wv.__contains__() instead).\n",
      "  \n",
      "/opt/conda/lib/python3.7/site-packages/ipykernel_launcher.py:6: DeprecationWarning: Call to deprecated `__getitem__` (Method will be removed in 4.0.0, use self.wv.__getitem__() instead).\n",
      "  \n",
      "100%|██████████| 6000/6000 [00:25<00:00, 232.42it/s]\n"
     ]
    },
    {
     "name": "stdout",
     "output_type": "stream",
     "text": [
      "零向量占比 0.0\n",
      "              precision    recall  f1-score   support\n",
      "\n",
      "           0       0.53      0.16      0.24       167\n",
      "           1       0.56      0.82      0.67      2132\n",
      "           2       0.65      0.28      0.39       126\n",
      "           3       0.62      0.83      0.71      1532\n",
      "           4       0.50      0.02      0.03        58\n",
      "           5       0.45      0.07      0.12       263\n",
      "           6       0.50      0.02      0.05       124\n",
      "           7       0.51      0.39      0.44       576\n",
      "           8       0.00      0.00      0.00        72\n",
      "           9       0.45      0.11      0.17       228\n",
      "          10       0.67      0.15      0.24        94\n",
      "          11       0.62      0.34      0.44       210\n",
      "          12       0.31      0.04      0.07       121\n",
      "          13       0.59      0.08      0.14       202\n",
      "          14       0.00      0.00      0.00        28\n",
      "          15       0.00      0.00      0.00        11\n",
      "          16       0.00      0.00      0.00        13\n",
      "          17       0.00      0.00      0.00        17\n",
      "          18       0.00      0.00      0.00        26\n",
      "\n",
      "    accuracy                           0.58      6000\n",
      "   macro avg       0.37      0.17      0.20      6000\n",
      "weighted avg       0.55      0.58      0.51      6000\n",
      "\n"
     ]
    },
    {
     "name": "stderr",
     "output_type": "stream",
     "text": [
      "/opt/conda/lib/python3.7/site-packages/sklearn/metrics/_classification.py:1221: UndefinedMetricWarning: Precision and F-score are ill-defined and being set to 0.0 in labels with no predicted samples. Use `zero_division` parameter to control this behavior.\n",
      "  _warn_prf(average, modifier, msg_start, len(result))\n"
     ]
    }
   ],
   "source": [
    "rf.fit(doc_vec_s1, y_train)\n",
    "predicted = rf.predict(get_doc_vec(x_test, word2vec_model))\n",
    "print(metrics.classification_report(y_test, predicted))"
   ]
  },
  {
   "cell_type": "markdown",
   "metadata": {
    "papermill": {
     "duration": 0.979387,
     "end_time": "2020-10-09T02:38:11.346459",
     "exception": false,
     "start_time": "2020-10-09T02:38:10.367072",
     "status": "completed"
    },
    "tags": []
   },
   "source": [
    "# 训练模型（s2）"
   ]
  },
  {
   "cell_type": "code",
   "execution_count": 42,
   "metadata": {
    "execution": {
     "iopub.execute_input": "2020-10-09T02:38:13.245954Z",
     "iopub.status.busy": "2020-10-09T02:38:13.244211Z",
     "iopub.status.idle": "2020-10-09T02:38:13.249124Z",
     "shell.execute_reply": "2020-10-09T02:38:13.248522Z"
    },
    "papermill": {
     "duration": 0.959379,
     "end_time": "2020-10-09T02:38:13.249255",
     "exception": false,
     "start_time": "2020-10-09T02:38:12.289876",
     "status": "completed"
    },
    "tags": []
   },
   "outputs": [],
   "source": [
    "# 分割测试集和训练集\n",
    "x_train, x_test, y_train, y_test \\\n",
    "        = train_test_split(x, y_s2, test_size=0.3)"
   ]
  },
  {
   "cell_type": "code",
   "execution_count": 43,
   "metadata": {
    "execution": {
     "iopub.execute_input": "2020-10-09T02:38:15.131693Z",
     "iopub.status.busy": "2020-10-09T02:38:15.130916Z",
     "iopub.status.idle": "2020-10-09T02:40:04.705183Z",
     "shell.execute_reply": "2020-10-09T02:40:04.704369Z"
    },
    "papermill": {
     "duration": 110.5174,
     "end_time": "2020-10-09T02:40:04.705336",
     "exception": false,
     "start_time": "2020-10-09T02:38:14.187936",
     "status": "completed"
    },
    "tags": []
   },
   "outputs": [
    {
     "name": "stderr",
     "output_type": "stream",
     "text": [
      "  0%|          | 0/14000 [00:00<?, ?it/s]/opt/conda/lib/python3.7/site-packages/ipykernel_launcher.py:6: DeprecationWarning: Call to deprecated `__contains__` (Method will be removed in 4.0.0, use self.wv.__contains__() instead).\n",
      "  \n",
      "/opt/conda/lib/python3.7/site-packages/ipykernel_launcher.py:6: DeprecationWarning: Call to deprecated `__getitem__` (Method will be removed in 4.0.0, use self.wv.__getitem__() instead).\n",
      "  \n",
      "100%|██████████| 14000/14000 [01:01<00:00, 228.99it/s]\n"
     ]
    },
    {
     "name": "stdout",
     "output_type": "stream",
     "text": [
      "零向量占比 7.142857142857143e-05\n"
     ]
    },
    {
     "name": "stderr",
     "output_type": "stream",
     "text": [
      "  0%|          | 0/6000 [00:00<?, ?it/s]/opt/conda/lib/python3.7/site-packages/ipykernel_launcher.py:6: DeprecationWarning: Call to deprecated `__contains__` (Method will be removed in 4.0.0, use self.wv.__contains__() instead).\n",
      "  \n",
      "/opt/conda/lib/python3.7/site-packages/ipykernel_launcher.py:6: DeprecationWarning: Call to deprecated `__getitem__` (Method will be removed in 4.0.0, use self.wv.__getitem__() instead).\n",
      "  \n",
      "100%|██████████| 6000/6000 [00:26<00:00, 223.68it/s]\n"
     ]
    },
    {
     "name": "stdout",
     "output_type": "stream",
     "text": [
      "零向量占比 0.0\n"
     ]
    }
   ],
   "source": [
    "doc_vec_s2 = get_doc_vec(x_train, word2vec_model)\n",
    "svm_model = SVC()\n",
    "svm_model.fit(doc_vec_s2, y_train)\n",
    "predicted = svm_model.predict(get_doc_vec(x_test, word2vec_model))"
   ]
  },
  {
   "cell_type": "code",
   "execution_count": 44,
   "metadata": {
    "execution": {
     "iopub.execute_input": "2020-10-09T02:40:07.257768Z",
     "iopub.status.busy": "2020-10-09T02:40:07.256751Z",
     "iopub.status.idle": "2020-10-09T02:40:07.274732Z",
     "shell.execute_reply": "2020-10-09T02:40:07.273954Z"
    },
    "papermill": {
     "duration": 1.297601,
     "end_time": "2020-10-09T02:40:07.274864",
     "exception": false,
     "start_time": "2020-10-09T02:40:05.977263",
     "status": "completed"
    },
    "tags": []
   },
   "outputs": [
    {
     "name": "stdout",
     "output_type": "stream",
     "text": [
      "              precision    recall  f1-score   support\n",
      "\n",
      "          19       0.89      1.00      0.94      5340\n",
      "          20       0.00      0.00      0.00       281\n",
      "          21       0.00      0.00      0.00       214\n",
      "          22       0.00      0.00      0.00        44\n",
      "          23       0.00      0.00      0.00        29\n",
      "          24       0.00      0.00      0.00        63\n",
      "          25       0.00      0.00      0.00        19\n",
      "          26       0.00      0.00      0.00        10\n",
      "\n",
      "    accuracy                           0.89      6000\n",
      "   macro avg       0.11      0.12      0.12      6000\n",
      "weighted avg       0.79      0.89      0.84      6000\n",
      "\n"
     ]
    },
    {
     "name": "stderr",
     "output_type": "stream",
     "text": [
      "/opt/conda/lib/python3.7/site-packages/sklearn/metrics/_classification.py:1221: UndefinedMetricWarning: Precision and F-score are ill-defined and being set to 0.0 in labels with no predicted samples. Use `zero_division` parameter to control this behavior.\n",
      "  _warn_prf(average, modifier, msg_start, len(result))\n"
     ]
    }
   ],
   "source": [
    "print(metrics.classification_report(y_test, predicted))"
   ]
  },
  {
   "cell_type": "markdown",
   "metadata": {
    "papermill": {
     "duration": 1.275198,
     "end_time": "2020-10-09T02:40:09.825745",
     "exception": false,
     "start_time": "2020-10-09T02:40:08.550547",
     "status": "completed"
    },
    "tags": []
   },
   "source": [
    "# 训练模型（s3）"
   ]
  },
  {
   "cell_type": "code",
   "execution_count": 45,
   "metadata": {
    "execution": {
     "iopub.execute_input": "2020-10-09T02:40:12.445890Z",
     "iopub.status.busy": "2020-10-09T02:40:12.445097Z",
     "iopub.status.idle": "2020-10-09T02:40:12.448186Z",
     "shell.execute_reply": "2020-10-09T02:40:12.448741Z"
    },
    "papermill": {
     "duration": 1.35853,
     "end_time": "2020-10-09T02:40:12.448897",
     "exception": false,
     "start_time": "2020-10-09T02:40:11.090367",
     "status": "completed"
    },
    "tags": []
   },
   "outputs": [],
   "source": [
    "# 分割测试集和训练集\n",
    "x_train, x_test, y_train, y_test \\\n",
    "        = train_test_split(x, y_s3, test_size=0.3)"
   ]
  },
  {
   "cell_type": "code",
   "execution_count": 46,
   "metadata": {
    "execution": {
     "iopub.execute_input": "2020-10-09T02:40:14.972093Z",
     "iopub.status.busy": "2020-10-09T02:40:14.971230Z",
     "iopub.status.idle": "2020-10-09T02:41:51.203251Z",
     "shell.execute_reply": "2020-10-09T02:41:51.202527Z"
    },
    "papermill": {
     "duration": 97.492876,
     "end_time": "2020-10-09T02:41:51.203397",
     "exception": false,
     "start_time": "2020-10-09T02:40:13.710521",
     "status": "completed"
    },
    "tags": []
   },
   "outputs": [
    {
     "name": "stderr",
     "output_type": "stream",
     "text": [
      "  0%|          | 0/14000 [00:00<?, ?it/s]/opt/conda/lib/python3.7/site-packages/ipykernel_launcher.py:6: DeprecationWarning: Call to deprecated `__contains__` (Method will be removed in 4.0.0, use self.wv.__contains__() instead).\n",
      "  \n",
      "/opt/conda/lib/python3.7/site-packages/ipykernel_launcher.py:6: DeprecationWarning: Call to deprecated `__getitem__` (Method will be removed in 4.0.0, use self.wv.__getitem__() instead).\n",
      "  \n",
      "100%|██████████| 14000/14000 [01:02<00:00, 225.09it/s]\n"
     ]
    },
    {
     "name": "stdout",
     "output_type": "stream",
     "text": [
      "零向量占比 7.142857142857143e-05\n"
     ]
    },
    {
     "name": "stderr",
     "output_type": "stream",
     "text": [
      "  0%|          | 0/6000 [00:00<?, ?it/s]/opt/conda/lib/python3.7/site-packages/ipykernel_launcher.py:6: DeprecationWarning: Call to deprecated `__contains__` (Method will be removed in 4.0.0, use self.wv.__contains__() instead).\n",
      "  \n",
      "/opt/conda/lib/python3.7/site-packages/ipykernel_launcher.py:6: DeprecationWarning: Call to deprecated `__getitem__` (Method will be removed in 4.0.0, use self.wv.__getitem__() instead).\n",
      "  \n",
      "100%|██████████| 6000/6000 [00:26<00:00, 226.60it/s]\n"
     ]
    },
    {
     "name": "stdout",
     "output_type": "stream",
     "text": [
      "零向量占比 0.0\n"
     ]
    }
   ],
   "source": [
    "doc_vec_s3 = get_doc_vec(x_train, word2vec_model)\n",
    "svm_model = SVC()\n",
    "svm_model.fit(doc_vec_s3, y_train)\n",
    "predicted = svm_model.predict(get_doc_vec(x_test, word2vec_model))"
   ]
  },
  {
   "cell_type": "code",
   "execution_count": 47,
   "metadata": {
    "execution": {
     "iopub.execute_input": "2020-10-09T02:41:54.434334Z",
     "iopub.status.busy": "2020-10-09T02:41:54.433287Z",
     "iopub.status.idle": "2020-10-09T02:41:54.450463Z",
     "shell.execute_reply": "2020-10-09T02:41:54.449574Z"
    },
    "papermill": {
     "duration": 1.607095,
     "end_time": "2020-10-09T02:41:54.450642",
     "exception": false,
     "start_time": "2020-10-09T02:41:52.843547",
     "status": "completed"
    },
    "tags": []
   },
   "outputs": [
    {
     "name": "stdout",
     "output_type": "stream",
     "text": [
      "              precision    recall  f1-score   support\n",
      "\n",
      "          27       0.98      1.00      0.99      5887\n",
      "          28       0.00      0.00      0.00        67\n",
      "          29       0.00      0.00      0.00        32\n",
      "          30       0.00      0.00      0.00        13\n",
      "          31       0.00      0.00      0.00         1\n",
      "\n",
      "    accuracy                           0.98      6000\n",
      "   macro avg       0.20      0.20      0.20      6000\n",
      "weighted avg       0.96      0.98      0.97      6000\n",
      "\n"
     ]
    },
    {
     "name": "stderr",
     "output_type": "stream",
     "text": [
      "/opt/conda/lib/python3.7/site-packages/sklearn/metrics/_classification.py:1221: UndefinedMetricWarning: Precision and F-score are ill-defined and being set to 0.0 in labels with no predicted samples. Use `zero_division` parameter to control this behavior.\n",
      "  _warn_prf(average, modifier, msg_start, len(result))\n"
     ]
    }
   ],
   "source": [
    "print(metrics.classification_report(y_test, predicted))"
   ]
  },
  {
   "cell_type": "markdown",
   "metadata": {
    "papermill": {
     "duration": 1.588666,
     "end_time": "2020-10-09T02:41:57.631804",
     "exception": false,
     "start_time": "2020-10-09T02:41:56.043138",
     "status": "completed"
    },
    "tags": []
   },
   "source": [
    "# 转化为二分类来改进"
   ]
  },
  {
   "cell_type": "code",
   "execution_count": 48,
   "metadata": {
    "execution": {
     "iopub.execute_input": "2020-10-09T02:42:00.805792Z",
     "iopub.status.busy": "2020-10-09T02:42:00.804907Z",
     "iopub.status.idle": "2020-10-09T02:42:00.808246Z",
     "shell.execute_reply": "2020-10-09T02:42:00.807515Z"
    },
    "papermill": {
     "duration": 1.590969,
     "end_time": "2020-10-09T02:42:00.808388",
     "exception": false,
     "start_time": "2020-10-09T02:41:59.217419",
     "status": "completed"
    },
    "tags": []
   },
   "outputs": [],
   "source": [
    "y_s3_bi_map = [0 if item is 27 else 1 for item in y_s3]"
   ]
  },
  {
   "cell_type": "code",
   "execution_count": 49,
   "metadata": {
    "execution": {
     "iopub.execute_input": "2020-10-09T02:42:04.058722Z",
     "iopub.status.busy": "2020-10-09T02:42:04.053501Z",
     "iopub.status.idle": "2020-10-09T02:42:04.075032Z",
     "shell.execute_reply": "2020-10-09T02:42:04.075688Z"
    },
    "papermill": {
     "duration": 1.606324,
     "end_time": "2020-10-09T02:42:04.075846",
     "exception": false,
     "start_time": "2020-10-09T02:42:02.469522",
     "status": "completed"
    },
    "tags": []
   },
   "outputs": [],
   "source": [
    "# 分割测试集和训练集\n",
    "x_train, x_test, y_train, y_test \\\n",
    "        = train_test_split(x, y_s3_bi_map, test_size=0.3)"
   ]
  },
  {
   "cell_type": "code",
   "execution_count": 50,
   "metadata": {
    "execution": {
     "iopub.execute_input": "2020-10-09T02:42:07.239704Z",
     "iopub.status.busy": "2020-10-09T02:42:07.238879Z",
     "iopub.status.idle": "2020-10-09T02:43:41.745323Z",
     "shell.execute_reply": "2020-10-09T02:43:41.744692Z"
    },
    "papermill": {
     "duration": 96.089793,
     "end_time": "2020-10-09T02:43:41.745455",
     "exception": false,
     "start_time": "2020-10-09T02:42:05.655662",
     "status": "completed"
    },
    "tags": []
   },
   "outputs": [
    {
     "name": "stderr",
     "output_type": "stream",
     "text": [
      "  0%|          | 0/14000 [00:00<?, ?it/s]/opt/conda/lib/python3.7/site-packages/ipykernel_launcher.py:6: DeprecationWarning: Call to deprecated `__contains__` (Method will be removed in 4.0.0, use self.wv.__contains__() instead).\n",
      "  \n",
      "/opt/conda/lib/python3.7/site-packages/ipykernel_launcher.py:6: DeprecationWarning: Call to deprecated `__getitem__` (Method will be removed in 4.0.0, use self.wv.__getitem__() instead).\n",
      "  \n",
      "100%|██████████| 14000/14000 [01:01<00:00, 227.28it/s]\n"
     ]
    },
    {
     "name": "stdout",
     "output_type": "stream",
     "text": [
      "零向量占比 0.0\n"
     ]
    },
    {
     "name": "stderr",
     "output_type": "stream",
     "text": [
      "  0%|          | 0/6000 [00:00<?, ?it/s]/opt/conda/lib/python3.7/site-packages/ipykernel_launcher.py:6: DeprecationWarning: Call to deprecated `__contains__` (Method will be removed in 4.0.0, use self.wv.__contains__() instead).\n",
      "  \n",
      "/opt/conda/lib/python3.7/site-packages/ipykernel_launcher.py:6: DeprecationWarning: Call to deprecated `__getitem__` (Method will be removed in 4.0.0, use self.wv.__getitem__() instead).\n",
      "  \n",
      "100%|██████████| 6000/6000 [00:26<00:00, 226.43it/s]\n"
     ]
    },
    {
     "name": "stdout",
     "output_type": "stream",
     "text": [
      "零向量占比 0.00016666666666666666\n"
     ]
    }
   ],
   "source": [
    "doc_vec_s3 = get_doc_vec(x_train, word2vec_model)\n",
    "svm_model = SVC()\n",
    "svm_model.fit(doc_vec_s3, y_train)\n",
    "predicted = svm_model.predict(get_doc_vec(x_test, word2vec_model))"
   ]
  },
  {
   "cell_type": "code",
   "execution_count": 51,
   "metadata": {
    "execution": {
     "iopub.execute_input": "2020-10-09T02:43:45.661172Z",
     "iopub.status.busy": "2020-10-09T02:43:45.660397Z",
     "iopub.status.idle": "2020-10-09T02:43:45.677471Z",
     "shell.execute_reply": "2020-10-09T02:43:45.676687Z"
    },
    "papermill": {
     "duration": 1.936617,
     "end_time": "2020-10-09T02:43:45.677600",
     "exception": false,
     "start_time": "2020-10-09T02:43:43.740983",
     "status": "completed"
    },
    "tags": []
   },
   "outputs": [
    {
     "name": "stdout",
     "output_type": "stream",
     "text": [
      "              precision    recall  f1-score   support\n",
      "\n",
      "           0       0.98      1.00      0.99      5895\n",
      "           1       0.00      0.00      0.00       105\n",
      "\n",
      "    accuracy                           0.98      6000\n",
      "   macro avg       0.49      0.50      0.50      6000\n",
      "weighted avg       0.97      0.98      0.97      6000\n",
      "\n"
     ]
    },
    {
     "name": "stderr",
     "output_type": "stream",
     "text": [
      "/opt/conda/lib/python3.7/site-packages/sklearn/metrics/_classification.py:1221: UndefinedMetricWarning: Precision and F-score are ill-defined and being set to 0.0 in labels with no predicted samples. Use `zero_division` parameter to control this behavior.\n",
      "  _warn_prf(average, modifier, msg_start, len(result))\n"
     ]
    }
   ],
   "source": [
    "print(metrics.classification_report(y_test, predicted))"
   ]
  },
  {
   "cell_type": "code",
   "execution_count": 52,
   "metadata": {
    "execution": {
     "iopub.execute_input": "2020-10-09T02:43:49.883061Z",
     "iopub.status.busy": "2020-10-09T02:43:49.881914Z",
     "iopub.status.idle": "2020-10-09T02:44:27.812287Z",
     "shell.execute_reply": "2020-10-09T02:44:27.813179Z"
    },
    "papermill": {
     "duration": 40.226686,
     "end_time": "2020-10-09T02:44:27.813443",
     "exception": false,
     "start_time": "2020-10-09T02:43:47.586757",
     "status": "completed"
    },
    "tags": []
   },
   "outputs": [
    {
     "name": "stderr",
     "output_type": "stream",
     "text": [
      "  0%|          | 0/6000 [00:00<?, ?it/s]/opt/conda/lib/python3.7/site-packages/ipykernel_launcher.py:6: DeprecationWarning: Call to deprecated `__contains__` (Method will be removed in 4.0.0, use self.wv.__contains__() instead).\n",
      "  \n",
      "/opt/conda/lib/python3.7/site-packages/ipykernel_launcher.py:6: DeprecationWarning: Call to deprecated `__getitem__` (Method will be removed in 4.0.0, use self.wv.__getitem__() instead).\n",
      "  \n",
      "100%|██████████| 6000/6000 [00:26<00:00, 226.63it/s]\n"
     ]
    },
    {
     "name": "stdout",
     "output_type": "stream",
     "text": [
      "零向量占比 0.00016666666666666666\n",
      "              precision    recall  f1-score   support\n",
      "\n",
      "           0       0.98      1.00      0.99      5895\n",
      "           1       0.00      0.00      0.00       105\n",
      "\n",
      "    accuracy                           0.98      6000\n",
      "   macro avg       0.49      0.50      0.50      6000\n",
      "weighted avg       0.97      0.98      0.97      6000\n",
      "\n"
     ]
    },
    {
     "name": "stderr",
     "output_type": "stream",
     "text": [
      "/opt/conda/lib/python3.7/site-packages/sklearn/metrics/_classification.py:1221: UndefinedMetricWarning: Precision and F-score are ill-defined and being set to 0.0 in labels with no predicted samples. Use `zero_division` parameter to control this behavior.\n",
      "  _warn_prf(average, modifier, msg_start, len(result))\n"
     ]
    }
   ],
   "source": [
    "rf_model = RandomForestClassifier()\n",
    "rf_model.fit(doc_vec_s3, y_train)\n",
    "predicted = rf_model.predict(get_doc_vec(x_test, word2vec_model))\n",
    "print(metrics.classification_report(y_test, predicted))"
   ]
  },
  {
   "cell_type": "markdown",
   "metadata": {
    "papermill": {
     "duration": 2.016557,
     "end_time": "2020-10-09T02:44:31.885516",
     "exception": false,
     "start_time": "2020-10-09T02:44:29.868959",
     "status": "completed"
    },
    "tags": []
   },
   "source": [
    "# 均衡规模"
   ]
  },
  {
   "cell_type": "code",
   "execution_count": 53,
   "metadata": {
    "execution": {
     "iopub.execute_input": "2020-10-09T02:44:35.956438Z",
     "iopub.status.busy": "2020-10-09T02:44:35.955381Z",
     "iopub.status.idle": "2020-10-09T02:44:35.958781Z",
     "shell.execute_reply": "2020-10-09T02:44:35.958158Z"
    },
    "papermill": {
     "duration": 2.05358,
     "end_time": "2020-10-09T02:44:35.958904",
     "exception": false,
     "start_time": "2020-10-09T02:44:33.905324",
     "status": "completed"
    },
    "tags": []
   },
   "outputs": [],
   "source": [
    "x_train_0 = [x_train[i] for i in range(len(x_train)) if y_train[i] is 0]\n",
    "x_train_1 = [x_train[i] for i in range(len(x_train)) if y_train[i] is 1]"
   ]
  },
  {
   "cell_type": "code",
   "execution_count": 54,
   "metadata": {
    "execution": {
     "iopub.execute_input": "2020-10-09T02:44:40.137894Z",
     "iopub.status.busy": "2020-10-09T02:44:40.136698Z",
     "iopub.status.idle": "2020-10-09T02:44:40.140802Z",
     "shell.execute_reply": "2020-10-09T02:44:40.141506Z"
    },
    "papermill": {
     "duration": 2.101748,
     "end_time": "2020-10-09T02:44:40.141769",
     "exception": false,
     "start_time": "2020-10-09T02:44:38.040021",
     "status": "completed"
    },
    "tags": []
   },
   "outputs": [
    {
     "name": "stdout",
     "output_type": "stream",
     "text": [
      "13717\n",
      "283\n"
     ]
    }
   ],
   "source": [
    "# 两个类别的样本数量悬殊\n",
    "print(len(x_train_0))\n",
    "print(len(x_train_1))"
   ]
  },
  {
   "cell_type": "code",
   "execution_count": 55,
   "metadata": {
    "execution": {
     "iopub.execute_input": "2020-10-09T02:44:44.269600Z",
     "iopub.status.busy": "2020-10-09T02:44:44.268402Z",
     "iopub.status.idle": "2020-10-09T02:44:44.272145Z",
     "shell.execute_reply": "2020-10-09T02:44:44.271333Z"
    },
    "papermill": {
     "duration": 2.053544,
     "end_time": "2020-10-09T02:44:44.272276",
     "exception": false,
     "start_time": "2020-10-09T02:44:42.218732",
     "status": "completed"
    },
    "tags": []
   },
   "outputs": [],
   "source": [
    "import random\n",
    "x_train_0_balanced = random.sample(x_train_0, len(x_train_1))"
   ]
  },
  {
   "cell_type": "code",
   "execution_count": 56,
   "metadata": {
    "execution": {
     "iopub.execute_input": "2020-10-09T02:44:48.509924Z",
     "iopub.status.busy": "2020-10-09T02:44:48.509120Z",
     "iopub.status.idle": "2020-10-09T02:44:48.513054Z",
     "shell.execute_reply": "2020-10-09T02:44:48.512257Z"
    },
    "papermill": {
     "duration": 2.140207,
     "end_time": "2020-10-09T02:44:48.513184",
     "exception": false,
     "start_time": "2020-10-09T02:44:46.372977",
     "status": "completed"
    },
    "tags": []
   },
   "outputs": [
    {
     "name": "stdout",
     "output_type": "stream",
     "text": [
      "283\n",
      "283\n"
     ]
    }
   ],
   "source": [
    "print(len(x_train_0_balanced))\n",
    "print(len(x_train_1))"
   ]
  },
  {
   "cell_type": "code",
   "execution_count": 57,
   "metadata": {
    "execution": {
     "iopub.execute_input": "2020-10-09T02:44:52.571385Z",
     "iopub.status.busy": "2020-10-09T02:44:52.570530Z",
     "iopub.status.idle": "2020-10-09T02:44:52.574281Z",
     "shell.execute_reply": "2020-10-09T02:44:52.574889Z"
    },
    "papermill": {
     "duration": 2.036397,
     "end_time": "2020-10-09T02:44:52.575047",
     "exception": false,
     "start_time": "2020-10-09T02:44:50.538650",
     "status": "completed"
    },
    "tags": []
   },
   "outputs": [
    {
     "name": "stdout",
     "output_type": "stream",
     "text": [
      "566\n",
      "566\n"
     ]
    }
   ],
   "source": [
    "# 合成新的x_train和y_train\n",
    "tuples = [(item, 0) for item in x_train_0_balanced] + [(item, 1) for item in x_train_1]\n",
    "random.shuffle(tuples)  # 打乱顺序\n",
    "x_train = [item[0] for item in tuples]\n",
    "y_train = [item[1] for item in tuples]\n",
    "\n",
    "print(len(x_train))\n",
    "print(len(y_train))"
   ]
  },
  {
   "cell_type": "code",
   "execution_count": 58,
   "metadata": {
    "execution": {
     "iopub.execute_input": "2020-10-09T02:44:56.676268Z",
     "iopub.status.busy": "2020-10-09T02:44:56.675509Z",
     "iopub.status.idle": "2020-10-09T02:45:26.595049Z",
     "shell.execute_reply": "2020-10-09T02:45:26.594056Z"
    },
    "papermill": {
     "duration": 31.997237,
     "end_time": "2020-10-09T02:45:26.595238",
     "exception": false,
     "start_time": "2020-10-09T02:44:54.598001",
     "status": "completed"
    },
    "tags": []
   },
   "outputs": [
    {
     "name": "stderr",
     "output_type": "stream",
     "text": [
      "  0%|          | 0/566 [00:00<?, ?it/s]/opt/conda/lib/python3.7/site-packages/ipykernel_launcher.py:6: DeprecationWarning: Call to deprecated `__contains__` (Method will be removed in 4.0.0, use self.wv.__contains__() instead).\n",
      "  \n",
      "/opt/conda/lib/python3.7/site-packages/ipykernel_launcher.py:6: DeprecationWarning: Call to deprecated `__getitem__` (Method will be removed in 4.0.0, use self.wv.__getitem__() instead).\n",
      "  \n",
      "100%|██████████| 566/566 [00:02<00:00, 217.08it/s]\n"
     ]
    },
    {
     "name": "stdout",
     "output_type": "stream",
     "text": [
      "零向量占比 0.0\n"
     ]
    },
    {
     "name": "stderr",
     "output_type": "stream",
     "text": [
      "  0%|          | 0/6000 [00:00<?, ?it/s]/opt/conda/lib/python3.7/site-packages/ipykernel_launcher.py:6: DeprecationWarning: Call to deprecated `__contains__` (Method will be removed in 4.0.0, use self.wv.__contains__() instead).\n",
      "  \n",
      "/opt/conda/lib/python3.7/site-packages/ipykernel_launcher.py:6: DeprecationWarning: Call to deprecated `__getitem__` (Method will be removed in 4.0.0, use self.wv.__getitem__() instead).\n",
      "  \n",
      "100%|██████████| 6000/6000 [00:26<00:00, 226.78it/s]\n"
     ]
    },
    {
     "name": "stdout",
     "output_type": "stream",
     "text": [
      "零向量占比 0.00016666666666666666\n",
      "              precision    recall  f1-score   support\n",
      "\n",
      "           0       0.99      0.76      0.86      5895\n",
      "           1       0.05      0.71      0.10       105\n",
      "\n",
      "    accuracy                           0.76      6000\n",
      "   macro avg       0.52      0.74      0.48      6000\n",
      "weighted avg       0.98      0.76      0.85      6000\n",
      "\n"
     ]
    }
   ],
   "source": [
    "rf_model = RandomForestClassifier()\n",
    "rf_model.fit(get_doc_vec(x_train, word2vec_model), y_train)\n",
    "predicted = rf_model.predict(get_doc_vec(x_test, word2vec_model))\n",
    "print(metrics.classification_report(y_true=y_test, y_pred=predicted))"
   ]
  },
  {
   "cell_type": "code",
   "execution_count": 59,
   "metadata": {
    "execution": {
     "iopub.execute_input": "2020-10-09T02:45:30.950698Z",
     "iopub.status.busy": "2020-10-09T02:45:30.949921Z",
     "iopub.status.idle": "2020-10-09T02:46:00.637571Z",
     "shell.execute_reply": "2020-10-09T02:46:00.636893Z"
    },
    "papermill": {
     "duration": 31.884776,
     "end_time": "2020-10-09T02:46:00.637711",
     "exception": false,
     "start_time": "2020-10-09T02:45:28.752935",
     "status": "completed"
    },
    "tags": []
   },
   "outputs": [
    {
     "name": "stderr",
     "output_type": "stream",
     "text": [
      "  0%|          | 0/566 [00:00<?, ?it/s]/opt/conda/lib/python3.7/site-packages/ipykernel_launcher.py:6: DeprecationWarning: Call to deprecated `__contains__` (Method will be removed in 4.0.0, use self.wv.__contains__() instead).\n",
      "  \n",
      "/opt/conda/lib/python3.7/site-packages/ipykernel_launcher.py:6: DeprecationWarning: Call to deprecated `__getitem__` (Method will be removed in 4.0.0, use self.wv.__getitem__() instead).\n",
      "  \n",
      "100%|██████████| 566/566 [00:02<00:00, 218.59it/s]\n",
      "  0%|          | 0/6000 [00:00<?, ?it/s]/opt/conda/lib/python3.7/site-packages/ipykernel_launcher.py:6: DeprecationWarning: Call to deprecated `__contains__` (Method will be removed in 4.0.0, use self.wv.__contains__() instead).\n",
      "  \n",
      "/opt/conda/lib/python3.7/site-packages/ipykernel_launcher.py:6: DeprecationWarning: Call to deprecated `__getitem__` (Method will be removed in 4.0.0, use self.wv.__getitem__() instead).\n",
      "  \n",
      "  0%|          | 29/6000 [00:00<00:21, 280.87it/s]"
     ]
    },
    {
     "name": "stdout",
     "output_type": "stream",
     "text": [
      "零向量占比 0.0\n"
     ]
    },
    {
     "name": "stderr",
     "output_type": "stream",
     "text": [
      "100%|██████████| 6000/6000 [00:26<00:00, 228.63it/s]\n"
     ]
    },
    {
     "name": "stdout",
     "output_type": "stream",
     "text": [
      "零向量占比 0.00016666666666666666\n"
     ]
    }
   ],
   "source": [
    "doc_vec_s3 = get_doc_vec(x_train, word2vec_model)\n",
    "svm_model = SVC()\n",
    "svm_model.fit(doc_vec_s3, y_train)\n",
    "predicted = svm_model.predict(get_doc_vec(x_test, word2vec_model))"
   ]
  },
  {
   "cell_type": "code",
   "execution_count": 60,
   "metadata": {
    "execution": {
     "iopub.execute_input": "2020-10-09T02:46:05.169905Z",
     "iopub.status.busy": "2020-10-09T02:46:05.168893Z",
     "iopub.status.idle": "2020-10-09T02:46:05.186622Z",
     "shell.execute_reply": "2020-10-09T02:46:05.187509Z"
    },
    "papermill": {
     "duration": 2.328285,
     "end_time": "2020-10-09T02:46:05.187750",
     "exception": false,
     "start_time": "2020-10-09T02:46:02.859465",
     "status": "completed"
    },
    "tags": []
   },
   "outputs": [
    {
     "name": "stdout",
     "output_type": "stream",
     "text": [
      "              precision    recall  f1-score   support\n",
      "\n",
      "           0       1.00      0.76      0.86      5895\n",
      "           1       0.06      0.79      0.10       105\n",
      "\n",
      "    accuracy                           0.76      6000\n",
      "   macro avg       0.53      0.77      0.48      6000\n",
      "weighted avg       0.98      0.76      0.85      6000\n",
      "\n"
     ]
    }
   ],
   "source": [
    "print(metrics.classification_report(y_true=y_test, y_pred=predicted))"
   ]
  },
  {
   "cell_type": "code",
   "execution_count": null,
   "metadata": {
    "papermill": {
     "duration": 2.237175,
     "end_time": "2020-10-09T02:46:09.652887",
     "exception": false,
     "start_time": "2020-10-09T02:46:07.415712",
     "status": "completed"
    },
    "tags": []
   },
   "outputs": [],
   "source": []
  }
 ],
 "metadata": {
  "kernelspec": {
   "display_name": "Python 3",
   "language": "python",
   "name": "python3"
  },
  "language_info": {
   "codemirror_mode": {
    "name": "ipython",
    "version": 3
   },
   "file_extension": ".py",
   "mimetype": "text/x-python",
   "name": "python",
   "nbconvert_exporter": "python",
   "pygments_lexer": "ipython3",
   "version": "3.7.6"
  },
  "papermill": {
   "duration": 852.600531,
   "end_time": "2020-10-09T02:46:11.985971",
   "environment_variables": {},
   "exception": null,
   "input_path": "__notebook__.ipynb",
   "output_path": "__notebook__.ipynb",
   "parameters": {},
   "start_time": "2020-10-09T02:31:59.385440",
   "version": "2.1.0"
  }
 },
 "nbformat": 4,
 "nbformat_minor": 4
}
