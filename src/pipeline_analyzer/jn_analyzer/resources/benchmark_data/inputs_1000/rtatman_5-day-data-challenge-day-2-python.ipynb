{
 "cells": [
  {
   "cell_type": "markdown",
   "metadata": {},
   "source": [
    "Read in our data, pick a variable and plot a histogram of it."
   ]
  },
  {
   "cell_type": "code",
   "execution_count": 1,
   "metadata": {
    "_cell_guid": "148bf905-26e3-468f-9623-a9224195934b",
    "_uuid": "3185aa88db6dd8e413e2af3001ed7e371abe9dde"
   },
   "outputs": [
    {
     "data": {
      "text/html": [
       "<div>\n",
       "<style>\n",
       "    .dataframe thead tr:only-child th {\n",
       "        text-align: right;\n",
       "    }\n",
       "\n",
       "    .dataframe thead th {\n",
       "        text-align: left;\n",
       "    }\n",
       "\n",
       "    .dataframe tbody tr th {\n",
       "        vertical-align: top;\n",
       "    }\n",
       "</style>\n",
       "<table border=\"1\" class=\"dataframe\">\n",
       "  <thead>\n",
       "    <tr style=\"text-align: right;\">\n",
       "      <th></th>\n",
       "      <th>Calories</th>\n",
       "      <th>Trans Fat (g)</th>\n",
       "      <th>Saturated Fat (g)</th>\n",
       "      <th>Sodium (mg)</th>\n",
       "      <th>Total Carbohydrates (g)</th>\n",
       "      <th>Cholesterol (mg)</th>\n",
       "      <th>Dietary Fibre (g)</th>\n",
       "      <th>Sugars (g)</th>\n",
       "      <th>Protein (g)</th>\n",
       "    </tr>\n",
       "  </thead>\n",
       "  <tbody>\n",
       "    <tr>\n",
       "      <th>count</th>\n",
       "      <td>242.000000</td>\n",
       "      <td>242.000000</td>\n",
       "      <td>242.000000</td>\n",
       "      <td>242.000000</td>\n",
       "      <td>242.000000</td>\n",
       "      <td>242.000000</td>\n",
       "      <td>242.000000</td>\n",
       "      <td>242.000000</td>\n",
       "      <td>242.000000</td>\n",
       "    </tr>\n",
       "    <tr>\n",
       "      <th>mean</th>\n",
       "      <td>193.871901</td>\n",
       "      <td>1.307025</td>\n",
       "      <td>0.037603</td>\n",
       "      <td>6.363636</td>\n",
       "      <td>128.884298</td>\n",
       "      <td>35.991736</td>\n",
       "      <td>0.805785</td>\n",
       "      <td>32.962810</td>\n",
       "      <td>6.978512</td>\n",
       "    </tr>\n",
       "    <tr>\n",
       "      <th>std</th>\n",
       "      <td>102.863303</td>\n",
       "      <td>1.640259</td>\n",
       "      <td>0.071377</td>\n",
       "      <td>8.630257</td>\n",
       "      <td>82.303223</td>\n",
       "      <td>20.795186</td>\n",
       "      <td>1.445944</td>\n",
       "      <td>19.730199</td>\n",
       "      <td>4.871659</td>\n",
       "    </tr>\n",
       "    <tr>\n",
       "      <th>min</th>\n",
       "      <td>0.000000</td>\n",
       "      <td>0.000000</td>\n",
       "      <td>0.000000</td>\n",
       "      <td>0.000000</td>\n",
       "      <td>0.000000</td>\n",
       "      <td>0.000000</td>\n",
       "      <td>0.000000</td>\n",
       "      <td>0.000000</td>\n",
       "      <td>0.000000</td>\n",
       "    </tr>\n",
       "    <tr>\n",
       "      <th>25%</th>\n",
       "      <td>120.000000</td>\n",
       "      <td>0.100000</td>\n",
       "      <td>0.000000</td>\n",
       "      <td>0.000000</td>\n",
       "      <td>70.000000</td>\n",
       "      <td>21.000000</td>\n",
       "      <td>0.000000</td>\n",
       "      <td>18.000000</td>\n",
       "      <td>3.000000</td>\n",
       "    </tr>\n",
       "    <tr>\n",
       "      <th>50%</th>\n",
       "      <td>185.000000</td>\n",
       "      <td>0.500000</td>\n",
       "      <td>0.000000</td>\n",
       "      <td>5.000000</td>\n",
       "      <td>125.000000</td>\n",
       "      <td>34.000000</td>\n",
       "      <td>0.000000</td>\n",
       "      <td>32.000000</td>\n",
       "      <td>6.000000</td>\n",
       "    </tr>\n",
       "    <tr>\n",
       "      <th>75%</th>\n",
       "      <td>260.000000</td>\n",
       "      <td>2.000000</td>\n",
       "      <td>0.100000</td>\n",
       "      <td>10.000000</td>\n",
       "      <td>170.000000</td>\n",
       "      <td>50.750000</td>\n",
       "      <td>1.000000</td>\n",
       "      <td>43.750000</td>\n",
       "      <td>10.000000</td>\n",
       "    </tr>\n",
       "    <tr>\n",
       "      <th>max</th>\n",
       "      <td>510.000000</td>\n",
       "      <td>9.000000</td>\n",
       "      <td>0.300000</td>\n",
       "      <td>40.000000</td>\n",
       "      <td>340.000000</td>\n",
       "      <td>90.000000</td>\n",
       "      <td>8.000000</td>\n",
       "      <td>84.000000</td>\n",
       "      <td>20.000000</td>\n",
       "    </tr>\n",
       "  </tbody>\n",
       "</table>\n",
       "</div>"
      ],
      "text/plain": [
       "         Calories  Trans Fat (g)   Saturated Fat (g)   Sodium (mg)  \\\n",
       "count  242.000000      242.000000         242.000000    242.000000   \n",
       "mean   193.871901        1.307025           0.037603      6.363636   \n",
       "std    102.863303        1.640259           0.071377      8.630257   \n",
       "min      0.000000        0.000000           0.000000      0.000000   \n",
       "25%    120.000000        0.100000           0.000000      0.000000   \n",
       "50%    185.000000        0.500000           0.000000      5.000000   \n",
       "75%    260.000000        2.000000           0.100000     10.000000   \n",
       "max    510.000000        9.000000           0.300000     40.000000   \n",
       "\n",
       "        Total Carbohydrates (g)   Cholesterol (mg)   Dietary Fibre (g)  \\\n",
       "count                 242.000000        242.000000          242.000000   \n",
       "mean                  128.884298         35.991736            0.805785   \n",
       "std                    82.303223         20.795186            1.445944   \n",
       "min                     0.000000          0.000000            0.000000   \n",
       "25%                    70.000000         21.000000            0.000000   \n",
       "50%                   125.000000         34.000000            0.000000   \n",
       "75%                   170.000000         50.750000            1.000000   \n",
       "max                   340.000000         90.000000            8.000000   \n",
       "\n",
       "        Sugars (g)   Protein (g)   \n",
       "count   242.000000     242.000000  \n",
       "mean     32.962810       6.978512  \n",
       "std      19.730199       4.871659  \n",
       "min       0.000000       0.000000  \n",
       "25%      18.000000       3.000000  \n",
       "50%      32.000000       6.000000  \n",
       "75%      43.750000      10.000000  \n",
       "max      84.000000      20.000000  "
      ]
     },
     "execution_count": 1,
     "metadata": {},
     "output_type": "execute_result"
    }
   ],
   "source": [
    "# Import our libraries\n",
    "import matplotlib.pyplot as plt\n",
    "import pandas as pd\n",
    "\n",
    "# read in our data\n",
    "nutrition = pd.read_csv(\"../input/starbucks_drinkMenu_expanded.csv\")\n",
    "\n",
    "# look at only the numeric columns\n",
    "nutrition.describe()\n",
    "# This version will show all the columns, including non-numeric\n",
    "# nutrition.describe(include=\"all\")"
   ]
  },
  {
   "cell_type": "markdown",
   "metadata": {},
   "source": [
    "Plot a histogram using matplotlib."
   ]
  },
  {
   "cell_type": "code",
   "execution_count": 2,
   "metadata": {
    "collapsed": true
   },
   "outputs": [
    {
     "name": "stdout",
     "output_type": "stream",
     "text": [
      "Index(['Beverage_category', 'Beverage', 'Beverage_prep', 'Calories',\n",
      "       ' Total Fat (g)', 'Trans Fat (g) ', 'Saturated Fat (g)', ' Sodium (mg)',\n",
      "       ' Total Carbohydrates (g) ', 'Cholesterol (mg)', ' Dietary Fibre (g)',\n",
      "       ' Sugars (g)', ' Protein (g) ', 'Vitamin A (% DV) ', 'Vitamin C (% DV)',\n",
      "       ' Calcium (% DV) ', 'Iron (% DV) ', 'Caffeine (mg)'],\n",
      "      dtype='object')\n"
     ]
    },
    {
     "data": {
      "text/plain": [
       "<matplotlib.text.Text at 0x7f8b57d17ac8>"
      ]
     },
     "execution_count": 2,
     "metadata": {},
     "output_type": "execute_result"
    },
    {
     "data": {
      "image/png": "[encoded data removed]",
      "text/plain": [
       "<matplotlib.figure.Figure at 0x7f8b5b0a9dd8>"
      ]
     },
     "metadata": {},
     "output_type": "display_data"
    }
   ],
   "source": [
    "# list all the coulmn names\n",
    "print(nutrition.columns)\n",
    "\n",
    "# get the sodium column\n",
    "sodium = nutrition[\" Sodium (mg)\"]\n",
    "\n",
    "# Plot a histogram of sodium content\n",
    "plt.hist(sodium)\n",
    "plt.title(\"Sodium in Starbucks Menu Items\")"
   ]
  },
  {
   "cell_type": "markdown",
   "metadata": {},
   "source": [
    "Plot a histogram using matplotlib with some extra fancy stuff (thanks to the Twitch chat for helping out!)"
   ]
  },
  {
   "cell_type": "code",
   "execution_count": 3,
   "metadata": {},
   "outputs": [
    {
     "data": {
      "text/plain": [
       "<matplotlib.text.Text at 0x7f8b57c7cc88>"
      ]
     },
     "execution_count": 3,
     "metadata": {},
     "output_type": "execute_result"
    },
    {
     "data": {
      "image/png": "[encoded data removed]",
      "text/plain": [
       "<matplotlib.figure.Figure at 0x7f8b57d07a58>"
      ]
     },
     "metadata": {},
     "output_type": "display_data"
    }
   ],
   "source": [
    "# Plot a histogram of sodium content with nine bins, a black edge \n",
    "# around the columns & at a larger size\n",
    "plt.hist(sodium, bins=9, edgecolor = \"black\")\n",
    "plt.title(\"Sodium in Starbucks Menu Items\") # add a title\n",
    "plt.xlabel(\"Sodium in milligrams\") # label the x axes \n",
    "plt.ylabel(\"Count\") # label the y axes"
   ]
  },
  {
   "cell_type": "markdown",
   "metadata": {},
   "source": [
    "Plot a histogram using the pandas wrapper of matplotlib."
   ]
  },
  {
   "cell_type": "code",
   "execution_count": 4,
   "metadata": {},
   "outputs": [
    {
     "data": {
      "text/plain": [
       "array([[<matplotlib.axes._subplots.AxesSubplot object at 0x7f8b57bfae10>]], dtype=object)"
      ]
     },
     "execution_count": 4,
     "metadata": {},
     "output_type": "execute_result"
    },
    {
     "data": {
      "image/png": "[encoded data removed]",
      "text/plain": [
       "<matplotlib.figure.Figure at 0x7f8b57c9f358>"
      ]
     },
     "metadata": {},
     "output_type": "display_data"
    }
   ],
   "source": [
    "### another way of plotting a histogram (from the pandas plotting API)\n",
    "# figsize is an argument to make it bigger\n",
    "nutrition.hist(column= \" Sodium (mg)\", figsize = (12,12))"
   ]
  }
 ],
 "metadata": {
  "kernelspec": {
   "display_name": "Python 3",
   "language": "python",
   "name": "python3"
  },
  "language_info": {
   "codemirror_mode": {
    "name": "ipython",
    "version": 3
   },
   "file_extension": ".py",
   "mimetype": "text/x-python",
   "name": "python",
   "nbconvert_exporter": "python",
   "pygments_lexer": "ipython3",
   "version": "3.6.3"
  }
 },
 "nbformat": 4,
 "nbformat_minor": 1
}
