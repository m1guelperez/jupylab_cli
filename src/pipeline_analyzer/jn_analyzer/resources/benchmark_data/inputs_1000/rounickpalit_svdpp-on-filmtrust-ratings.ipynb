{
 "cells": [
  {
   "cell_type": "code",
   "execution_count": 1,
   "metadata": {
    "_cell_guid": "b1076dfc-b9ad-4769-8c92-a6c4dae69d19",
    "_uuid": "8f2839f25d086af736a60e9eeb907d3b93b6e0e5"
   },
   "outputs": [
    {
     "name": "stdout",
     "output_type": "stream",
     "text": [
      "/kaggle/input/ratingstxt/ratings.txt\n",
      "/kaggle/input/goodbooks-10k/book_tags.csv\n",
      "/kaggle/input/goodbooks-10k/to_read.csv\n",
      "/kaggle/input/goodbooks-10k/tags.csv\n",
      "/kaggle/input/goodbooks-10k/books.csv\n",
      "/kaggle/input/goodbooks-10k/sample_book.xml\n",
      "/kaggle/input/goodbooks-10k/ratings.csv\n"
     ]
    }
   ],
   "source": [
    "# This Python 3 environment comes with many helpful analytics libraries installed\n",
    "# It is defined by the kaggle/python docker image: https://github.com/kaggle/docker-python\n",
    "# For example, here's several helpful packages to load in \n",
    "\n",
    "import numpy as np # linear algebra\n",
    "import pandas as pd # data processing, CSV file I/O (e.g. pd.read_csv)\n",
    "\n",
    "# Input data files are available in the \"../input/\" directory.\n",
    "# For example, running this (by clicking run or pressing Shift+Enter) will list all files under the input directory\n",
    "\n",
    "import os\n",
    "for dirname, _, filenames in os.walk('/kaggle/input'):\n",
    "    for filename in filenames:\n",
    "        print(os.path.join(dirname, filename))\n",
    "\n",
    "# Any results you write to the current directory are saved as output."
   ]
  },
  {
   "cell_type": "code",
   "execution_count": 2,
   "metadata": {
    "_cell_guid": "79c7e3d0-c299-4dcb-8224-4455121ee9b0",
    "_uuid": "d629ff2d2480ee46fbb7e2d37f6b5fab8052498a"
   },
   "outputs": [
    {
     "data": {
      "text/html": [
       "<div>\n",
       "<style scoped>\n",
       "    .dataframe tbody tr th:only-of-type {\n",
       "        vertical-align: middle;\n",
       "    }\n",
       "\n",
       "    .dataframe tbody tr th {\n",
       "        vertical-align: top;\n",
       "    }\n",
       "\n",
       "    .dataframe thead th {\n",
       "        text-align: right;\n",
       "    }\n",
       "</style>\n",
       "<table border=\"1\" class=\"dataframe\">\n",
       "  <thead>\n",
       "    <tr style=\"text-align: right;\">\n",
       "      <th></th>\n",
       "      <th>uid</th>\n",
       "      <th>iid</th>\n",
       "      <th>rating</th>\n",
       "    </tr>\n",
       "  </thead>\n",
       "  <tbody>\n",
       "    <tr>\n",
       "      <th>0</th>\n",
       "      <td>1</td>\n",
       "      <td>1</td>\n",
       "      <td>2.0</td>\n",
       "    </tr>\n",
       "    <tr>\n",
       "      <th>1</th>\n",
       "      <td>1</td>\n",
       "      <td>2</td>\n",
       "      <td>4.0</td>\n",
       "    </tr>\n",
       "    <tr>\n",
       "      <th>2</th>\n",
       "      <td>1</td>\n",
       "      <td>3</td>\n",
       "      <td>3.5</td>\n",
       "    </tr>\n",
       "    <tr>\n",
       "      <th>3</th>\n",
       "      <td>1</td>\n",
       "      <td>4</td>\n",
       "      <td>3.0</td>\n",
       "    </tr>\n",
       "    <tr>\n",
       "      <th>4</th>\n",
       "      <td>1</td>\n",
       "      <td>5</td>\n",
       "      <td>4.0</td>\n",
       "    </tr>\n",
       "  </tbody>\n",
       "</table>\n",
       "</div>"
      ],
      "text/plain": [
       "   uid  iid  rating\n",
       "0    1    1     2.0\n",
       "1    1    2     4.0\n",
       "2    1    3     3.5\n",
       "3    1    4     3.0\n",
       "4    1    5     4.0"
      ]
     },
     "execution_count": 2,
     "metadata": {},
     "output_type": "execute_result"
    }
   ],
   "source": [
    "import urllib\n",
    "import io\n",
    "import zipfile\n",
    "import surprise\n",
    "\n",
    "# Download zip file\n",
    "# tmpFile = urllib.request.urlopen('https://librec.net/datasets/fimltrust.zip')\n",
    "# Unzip file\n",
    "# tmpFile = zipfile.zipFile(io.BytesIO(tmpFile.read()))\n",
    "# Open desired data file as pandas dataframe, close zipfile\n",
    "# dataset = pd.read_table(io.BytesIO(tmpFile.read('ratings.txt')), sep = ' ', names = ['uid', 'iid', 'rating'])\n",
    "dataset = pd.read_csv('/kaggle/input/ratingstxt/ratings.txt', sep = ' ', names = ['uid', 'iid', 'rating'])\n",
    "# tmpFile.close()\n",
    "\n",
    "dataset.head()"
   ]
  },
  {
   "cell_type": "code",
   "execution_count": 3,
   "metadata": {},
   "outputs": [
    {
     "name": "stdout",
     "output_type": "stream",
     "text": [
      "Review range: 0.5 to 4.0\n"
     ]
    }
   ],
   "source": [
    "lower_rating = dataset['rating'].min()\n",
    "upper_rating = dataset['rating'].max()\n",
    "print('Review range: {0} to {1}'.format(lower_rating, upper_rating))"
   ]
  },
  {
   "cell_type": "code",
   "execution_count": 4,
   "metadata": {},
   "outputs": [],
   "source": [
    "reader = surprise.Reader(rating_scale = (0.5,4))\n",
    "data = surprise.Dataset.load_from_df(dataset, reader)"
   ]
  },
  {
   "cell_type": "code",
   "execution_count": 5,
   "metadata": {},
   "outputs": [],
   "source": [
    "alg = surprise.SVDpp()\n",
    "output = alg.fit(data.build_full_trainset())"
   ]
  },
  {
   "cell_type": "code",
   "execution_count": 6,
   "metadata": {},
   "outputs": [
    {
     "name": "stdout",
     "output_type": "stream",
     "text": [
      "3.0028030537791928\n"
     ]
    }
   ],
   "source": [
    "# the uids and iids should be set as strings\n",
    "pred = alg.predict(uid = '50', iid = '52')\n",
    "score = pred.est\n",
    "print(score)"
   ]
  },
  {
   "cell_type": "code",
   "execution_count": 7,
   "metadata": {},
   "outputs": [],
   "source": [
    "# Get a list of all movie ids\n",
    "iids = dataset['iid'].unique()\n",
    "# Get a list of iids that uid 50 has rated\n",
    "iids50 = dataset.loc[dataset['uid'] == 50, 'iid']\n",
    "# Remove the iids that uid 50 has rated from the list of all movie ids\n",
    "iids_to_pred = np.setdiff1d(iids, iids50)\n",
    "# np.setdiff1d -> Return the unique values in ar1 that are not in ar2"
   ]
  },
  {
   "cell_type": "code",
   "execution_count": 8,
   "metadata": {},
   "outputs": [
    {
     "data": {
      "text/plain": [
       "Prediction(uid=50, iid=14, r_ui=4.0, est=2.9982213132502, details={'was_impossible': False})"
      ]
     },
     "execution_count": 8,
     "metadata": {},
     "output_type": "execute_result"
    }
   ],
   "source": [
    "testset = [[50, iid, 4.] for iid in iids_to_pred]\n",
    "predictions = alg.test(testset)\n",
    "predictions[0]"
   ]
  },
  {
   "cell_type": "code",
   "execution_count": 9,
   "metadata": {},
   "outputs": [
    {
     "name": "stdout",
     "output_type": "stream",
     "text": [
      "Top item for user 50 has iid 189 with predicted rating 4.0\n"
     ]
    }
   ],
   "source": [
    "pred_ratings = np.array([pred.est for pred in predictions])\n",
    "# Find the indec of the maximum predicted rating\n",
    "i_max = pred_ratings.argmax()\n",
    "# Use this to find the corresponding iid to recommend\n",
    "iid = iids_to_pred[i_max]\n",
    "print('Top item for user 50 has iid {0} with predicted rating {1}'.format(iid, pred_ratings[i_max]))"
   ]
  },
  {
   "cell_type": "code",
   "execution_count": 10,
   "metadata": {},
   "outputs": [
    {
     "ename": "TypeError",
     "evalue": "Argument given by name ('axis') and position (2)",
     "output_type": "error",
     "traceback": [
      "\u001b[0;31m---------------------------------------------------------------------------\u001b[0m",
      "\u001b[0;31mTypeError\u001b[0m                                 Traceback (most recent call last)",
      "\u001b[0;32m<ipython-input-10-bcb9ff26916a>\u001b[0m in \u001b[0;36m<module>\u001b[0;34m\u001b[0m\n\u001b[1;32m      1\u001b[0m \u001b[0mpred_ratings\u001b[0m \u001b[0;34m=\u001b[0m \u001b[0mnp\u001b[0m\u001b[0;34m.\u001b[0m\u001b[0marray\u001b[0m\u001b[0;34m(\u001b[0m\u001b[0;34m[\u001b[0m\u001b[0mpred\u001b[0m\u001b[0;34m.\u001b[0m\u001b[0mest\u001b[0m \u001b[0;32mfor\u001b[0m \u001b[0mpred\u001b[0m \u001b[0;32min\u001b[0m \u001b[0mpredictions\u001b[0m\u001b[0;34m]\u001b[0m\u001b[0;34m)\u001b[0m\u001b[0;34m\u001b[0m\u001b[0m\n\u001b[1;32m      2\u001b[0m \u001b[0;31m# Find the indec of the maximum predicted rating\u001b[0m\u001b[0;34m\u001b[0m\u001b[0;34m\u001b[0m\u001b[0m\n\u001b[0;32m----> 3\u001b[0;31m \u001b[0mi_max\u001b[0m \u001b[0;34m=\u001b[0m \u001b[0mpred_ratings\u001b[0m\u001b[0;34m.\u001b[0m\u001b[0margpartition\u001b[0m\u001b[0;34m(\u001b[0m\u001b[0mpred_ratings\u001b[0m\u001b[0;34m,\u001b[0m \u001b[0;36m0\u001b[0m\u001b[0;34m,\u001b[0m \u001b[0maxis\u001b[0m \u001b[0;34m=\u001b[0m \u001b[0;32mNone\u001b[0m\u001b[0;34m)\u001b[0m\u001b[0;34m[\u001b[0m\u001b[0;36m0\u001b[0m\u001b[0;34m:\u001b[0m\u001b[0;34m]\u001b[0m\u001b[0;34m\u001b[0m\u001b[0m\n\u001b[0m\u001b[1;32m      4\u001b[0m \u001b[0;31m# Use this to find the corresponding iid to recommend\u001b[0m\u001b[0;34m\u001b[0m\u001b[0;34m\u001b[0m\u001b[0m\n\u001b[1;32m      5\u001b[0m \u001b[0miid\u001b[0m \u001b[0;34m=\u001b[0m \u001b[0miids_to_pred\u001b[0m\u001b[0;34m[\u001b[0m\u001b[0mi_max\u001b[0m\u001b[0;34m]\u001b[0m\u001b[0;34m\u001b[0m\u001b[0m\n",
      "\u001b[0;31mTypeError\u001b[0m: Argument given by name ('axis') and position (2)"
     ]
    }
   ],
   "source": [
    "pred_ratings = np.array([pred.est for pred in predictions])\n",
    "# Find the indec of the maximum predicted rating\n",
    "i_max = pred_ratings.argpartition(pred_ratings, 0, axis = None)[0:]\n",
    "# Use this to find the corresponding iid to recommend\n",
    "iid = iids_to_pred[i_max]\n",
    "print('Top item for user 50 has iid {0} with predicted rating {1}'.format(iid, pred_ratings[i_max]))"
   ]
  },
  {
   "cell_type": "code",
   "execution_count": 11,
   "metadata": {},
   "outputs": [
    {
     "name": "stdout",
     "output_type": "stream",
     "text": [
      "{'lr_all': 0.01, 'reg_all': 0.1}\n"
     ]
    }
   ],
   "source": [
    "param_grid = {'lr_all' : [.001, .01], 'reg_all' : [.1, .5]}\n",
    "gs = surprise.model_selection.GridSearchCV(surprise.SVDpp, param_grid, measures=['rmse', 'mae'], cv=3)\n",
    "gs.fit(data)\n",
    "# Print combination of parameters that gave best RMSE score\n",
    "print(gs.best_params['rmse'])"
   ]
  },
  {
   "cell_type": "code",
   "execution_count": 12,
   "metadata": {},
   "outputs": [
    {
     "name": "stdout",
     "output_type": "stream",
     "text": [
      "Evaluating RMSE, MAE of algorithm SVDpp on 5 split(s).\n",
      "\n",
      "                  Fold 1  Fold 2  Fold 3  Fold 4  Fold 5  Mean    Std     \n",
      "RMSE (testset)    0.8047  0.8124  0.8012  0.7989  0.8019  0.8038  0.0047  \n",
      "MAE (testset)     0.6172  0.6193  0.6119  0.6139  0.6094  0.6144  0.0036  \n",
      "Fit time          18.40   18.59   18.34   18.43   18.39   18.43   0.08    \n",
      "Test time         0.34    0.30    0.30    0.32    0.38    0.33    0.03    \n"
     ]
    }
   ],
   "source": [
    "alg = surprise.SVDpp(lr_all = 0.01) # parameter choices can be added here\n",
    "output = surprise.model_selection.cross_validate(alg, data, verbose = True)"
   ]
  },
  {
   "cell_type": "code",
   "execution_count": null,
   "metadata": {},
   "outputs": [],
   "source": []
  }
 ],
 "metadata": {
  "kernelspec": {
   "display_name": "Python 3",
   "language": "python",
   "name": "python3"
  },
  "language_info": {
   "codemirror_mode": {
    "name": "ipython",
    "version": 3
   },
   "file_extension": ".py",
   "mimetype": "text/x-python",
   "name": "python",
   "nbconvert_exporter": "python",
   "pygments_lexer": "ipython3",
   "version": "3.6.6"
  }
 },
 "nbformat": 4,
 "nbformat_minor": 1
}
