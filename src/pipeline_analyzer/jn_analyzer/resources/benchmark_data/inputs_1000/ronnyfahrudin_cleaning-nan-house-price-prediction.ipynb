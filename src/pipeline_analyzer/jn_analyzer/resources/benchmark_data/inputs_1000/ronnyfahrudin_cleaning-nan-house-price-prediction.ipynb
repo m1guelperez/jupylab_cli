{
 "cells": [
  {
   "cell_type": "code",
   "execution_count": 1,
   "metadata": {
    "_cell_guid": "b1076dfc-b9ad-4769-8c92-a6c4dae69d19",
    "_uuid": "8f2839f25d086af736a60e9eeb907d3b93b6e0e5",
    "execution": {
     "iopub.execute_input": "2020-08-25T17:00:53.376268Z",
     "iopub.status.busy": "2020-08-25T17:00:53.375439Z",
     "iopub.status.idle": "2020-08-25T17:00:54.768470Z",
     "shell.execute_reply": "2020-08-25T17:00:54.769451Z"
    },
    "papermill": {
     "duration": 1.417549,
     "end_time": "2020-08-25T17:00:54.769702",
     "exception": false,
     "start_time": "2020-08-25T17:00:53.352153",
     "status": "completed"
    },
    "tags": []
   },
   "outputs": [
    {
     "name": "stdout",
     "output_type": "stream",
     "text": [
      "/kaggle/input/house-prices-advanced-regression-techniques/sample_submission.csv\n",
      "/kaggle/input/house-prices-advanced-regression-techniques/data_description.txt\n",
      "/kaggle/input/house-prices-advanced-regression-techniques/test.csv\n",
      "/kaggle/input/house-prices-advanced-regression-techniques/train.csv\n"
     ]
    }
   ],
   "source": [
    "# This Python 3 environment comes with many helpful analytics libraries installed\n",
    "# It is defined by the kaggle/python Docker image: https://github.com/kaggle/docker-python\n",
    "# For example, here's several helpful packages to load\n",
    "\n",
    "import numpy as np # linear algebra\n",
    "import pandas as pd # data processing, CSV file I/O (e.g. pd.read_csv)\n",
    "import matplotlib.pyplot as plt\n",
    "import seaborn as sns\n",
    "\n",
    "# Input data files are available in the read-only \"../input/\" directory\n",
    "# For example, running this (by clicking run or pressing Shift+Enter) will list all files under the input directory\n",
    "\n",
    "import os\n",
    "for dirname, _, filenames in os.walk('/kaggle/input'):\n",
    "    for filename in filenames:\n",
    "        print(os.path.join(dirname, filename))\n",
    "\n",
    "# You can write up to 5GB to the current directory (/kaggle/working/) that gets preserved as output when you create a version using \"Save & Run All\" \n",
    "# You can also write temporary files to /kaggle/temp/, but they won't be saved outside of the current session"
   ]
  },
  {
   "cell_type": "code",
   "execution_count": 2,
   "metadata": {
    "_cell_guid": "79c7e3d0-c299-4dcb-8224-4455121ee9b0",
    "_uuid": "d629ff2d2480ee46fbb7e2d37f6b5fab8052498a",
    "execution": {
     "iopub.execute_input": "2020-08-25T17:00:54.809173Z",
     "iopub.status.busy": "2020-08-25T17:00:54.808322Z",
     "iopub.status.idle": "2020-08-25T17:00:54.913599Z",
     "shell.execute_reply": "2020-08-25T17:00:54.912700Z"
    },
    "papermill": {
     "duration": 0.128848,
     "end_time": "2020-08-25T17:00:54.913782",
     "exception": false,
     "start_time": "2020-08-25T17:00:54.784934",
     "status": "completed"
    },
    "tags": []
   },
   "outputs": [],
   "source": [
    "trainset = pd.read_csv('/kaggle/input/house-prices-advanced-regression-techniques/train.csv')\n",
    "testset = pd.read_csv('/kaggle/input/house-prices-advanced-regression-techniques/test.csv')"
   ]
  },
  {
   "cell_type": "code",
   "execution_count": 3,
   "metadata": {
    "execution": {
     "iopub.execute_input": "2020-08-25T17:00:54.952014Z",
     "iopub.status.busy": "2020-08-25T17:00:54.951127Z",
     "iopub.status.idle": "2020-08-25T17:00:54.975764Z",
     "shell.execute_reply": "2020-08-25T17:00:54.975023Z"
    },
    "papermill": {
     "duration": 0.047583,
     "end_time": "2020-08-25T17:00:54.975894",
     "exception": false,
     "start_time": "2020-08-25T17:00:54.928311",
     "status": "completed"
    },
    "tags": []
   },
   "outputs": [],
   "source": [
    "#build function to count caolumn that has missing value\n",
    "def column_nan(missing):\n",
    "    s = []\n",
    "    for i in missing:\n",
    "        if i > 0:\n",
    "            s.append(i)\n",
    "    print(len(s))\n",
    "train = trainset.isnull().sum().sort_values(ascending = False)\n",
    "test = testset.isnull().sum().sort_values(ascending = False)"
   ]
  },
  {
   "cell_type": "code",
   "execution_count": 4,
   "metadata": {
    "execution": {
     "iopub.execute_input": "2020-08-25T17:00:55.011216Z",
     "iopub.status.busy": "2020-08-25T17:00:55.010386Z",
     "iopub.status.idle": "2020-08-25T17:00:55.015248Z",
     "shell.execute_reply": "2020-08-25T17:00:55.014581Z"
    },
    "papermill": {
     "duration": 0.025149,
     "end_time": "2020-08-25T17:00:55.015383",
     "exception": false,
     "start_time": "2020-08-25T17:00:54.990234",
     "status": "completed"
    },
    "tags": []
   },
   "outputs": [
    {
     "name": "stdout",
     "output_type": "stream",
     "text": [
      "Sum of column has Nan in trainset:\n",
      "19\n",
      "Sum of column has Nan in testset:\n",
      "33\n"
     ]
    }
   ],
   "source": [
    "print(\"Sum of column has Nan in trainset:\")\n",
    "column_nan(train)\n",
    "print(\"Sum of column has Nan in testset:\")\n",
    "column_nan(test)"
   ]
  },
  {
   "cell_type": "code",
   "execution_count": 5,
   "metadata": {
    "execution": {
     "iopub.execute_input": "2020-08-25T17:00:55.060775Z",
     "iopub.status.busy": "2020-08-25T17:00:55.059800Z",
     "iopub.status.idle": "2020-08-25T17:00:55.100790Z",
     "shell.execute_reply": "2020-08-25T17:00:55.099987Z"
    },
    "papermill": {
     "duration": 0.070095,
     "end_time": "2020-08-25T17:00:55.100925",
     "exception": false,
     "start_time": "2020-08-25T17:00:55.030830",
     "status": "completed"
    },
    "tags": []
   },
   "outputs": [
    {
     "data": {
      "text/plain": [
       "PoolQC          0.995205\n",
       "MiscFeature     0.963014\n",
       "Alley           0.937671\n",
       "Fence           0.807534\n",
       "FireplaceQu     0.472603\n",
       "LotFrontage     0.177397\n",
       "GarageCond      0.055479\n",
       "GarageType      0.055479\n",
       "GarageYrBlt     0.055479\n",
       "GarageFinish    0.055479\n",
       "GarageQual      0.055479\n",
       "BsmtExposure    0.026027\n",
       "BsmtFinType2    0.026027\n",
       "BsmtFinType1    0.025342\n",
       "BsmtCond        0.025342\n",
       "BsmtQual        0.025342\n",
       "MasVnrArea      0.005479\n",
       "MasVnrType      0.005479\n",
       "Electrical      0.000685\n",
       "Utilities       0.000000\n",
       "dtype: float64"
      ]
     },
     "execution_count": 5,
     "metadata": {},
     "output_type": "execute_result"
    }
   ],
   "source": [
    "#summing missing value trainset\n",
    "trainset.isnull().sum().sort_values(ascending = False).head(20)/len(trainset)"
   ]
  },
  {
   "cell_type": "code",
   "execution_count": 6,
   "metadata": {
    "execution": {
     "iopub.execute_input": "2020-08-25T17:00:55.147091Z",
     "iopub.status.busy": "2020-08-25T17:00:55.145923Z",
     "iopub.status.idle": "2020-08-25T17:00:55.157444Z",
     "shell.execute_reply": "2020-08-25T17:00:55.156706Z"
    },
    "papermill": {
     "duration": 0.040528,
     "end_time": "2020-08-25T17:00:55.157602",
     "exception": false,
     "start_time": "2020-08-25T17:00:55.117074",
     "status": "completed"
    },
    "tags": []
   },
   "outputs": [
    {
     "data": {
      "text/plain": [
       "PoolQC          0.997260\n",
       "MiscFeature     0.964384\n",
       "Alley           0.926027\n",
       "Fence           0.800685\n",
       "FireplaceQu     0.500000\n",
       "LotFrontage     0.155479\n",
       "GarageCond      0.053425\n",
       "GarageQual      0.053425\n",
       "GarageYrBlt     0.053425\n",
       "GarageFinish    0.053425\n",
       "GarageType      0.052055\n",
       "BsmtCond        0.030822\n",
       "BsmtQual        0.030137\n",
       "BsmtExposure    0.030137\n",
       "BsmtFinType1    0.028767\n",
       "BsmtFinType2    0.028767\n",
       "MasVnrType      0.010959\n",
       "MasVnrArea      0.010274\n",
       "MSZoning        0.002740\n",
       "BsmtHalfBath    0.001370\n",
       "Utilities       0.001370\n",
       "Functional      0.001370\n",
       "BsmtFullBath    0.001370\n",
       "BsmtFinSF2      0.000685\n",
       "BsmtFinSF1      0.000685\n",
       "Exterior2nd     0.000685\n",
       "BsmtUnfSF       0.000685\n",
       "TotalBsmtSF     0.000685\n",
       "SaleType        0.000685\n",
       "Exterior1st     0.000685\n",
       "KitchenQual     0.000685\n",
       "GarageArea      0.000685\n",
       "GarageCars      0.000685\n",
       "dtype: float64"
      ]
     },
     "execution_count": 6,
     "metadata": {},
     "output_type": "execute_result"
    }
   ],
   "source": [
    "#summing percentage missing value\n",
    "testset.isnull().sum().sort_values(ascending = False).head(33)/len(trainset)"
   ]
  },
  {
   "cell_type": "code",
   "execution_count": 7,
   "metadata": {
    "execution": {
     "iopub.execute_input": "2020-08-25T17:00:55.208775Z",
     "iopub.status.busy": "2020-08-25T17:00:55.207865Z",
     "iopub.status.idle": "2020-08-25T17:00:55.215710Z",
     "shell.execute_reply": "2020-08-25T17:00:55.216305Z"
    },
    "papermill": {
     "duration": 0.042605,
     "end_time": "2020-08-25T17:00:55.216525",
     "exception": false,
     "start_time": "2020-08-25T17:00:55.173920",
     "status": "completed"
    },
    "tags": []
   },
   "outputs": [],
   "source": [
    "#clean columns 'PoolQC','MiscFeature','Alley','Fence' because columns has missing values more than 80%\n",
    "cleaning_train = trainset.drop(['PoolQC','MiscFeature','Alley','Fence'], axis= 1)\n",
    "cleaning_test = testset.drop(['PoolQC','MiscFeature','Alley','Fence'], axis= 1)"
   ]
  },
  {
   "cell_type": "code",
   "execution_count": 8,
   "metadata": {
    "execution": {
     "iopub.execute_input": "2020-08-25T17:00:55.271722Z",
     "iopub.status.busy": "2020-08-25T17:00:55.270544Z",
     "iopub.status.idle": "2020-08-25T17:00:55.323076Z",
     "shell.execute_reply": "2020-08-25T17:00:55.324057Z"
    },
    "papermill": {
     "duration": 0.087624,
     "end_time": "2020-08-25T17:00:55.324266",
     "exception": false,
     "start_time": "2020-08-25T17:00:55.236642",
     "status": "completed"
    },
    "tags": []
   },
   "outputs": [
    {
     "data": {
      "text/html": [
       "<div>\n",
       "<style scoped>\n",
       "    .dataframe tbody tr th:only-of-type {\n",
       "        vertical-align: middle;\n",
       "    }\n",
       "\n",
       "    .dataframe tbody tr th {\n",
       "        vertical-align: top;\n",
       "    }\n",
       "\n",
       "    .dataframe thead th {\n",
       "        text-align: right;\n",
       "    }\n",
       "</style>\n",
       "<table border=\"1\" class=\"dataframe\">\n",
       "  <thead>\n",
       "    <tr style=\"text-align: right;\">\n",
       "      <th></th>\n",
       "      <th>LotFrontage</th>\n",
       "      <th>GarageYrBlt</th>\n",
       "      <th>MasVnrArea</th>\n",
       "    </tr>\n",
       "  </thead>\n",
       "  <tbody>\n",
       "    <tr>\n",
       "      <th>count</th>\n",
       "      <td>1201.000000</td>\n",
       "      <td>1379.000000</td>\n",
       "      <td>1452.000000</td>\n",
       "    </tr>\n",
       "    <tr>\n",
       "      <th>mean</th>\n",
       "      <td>70.049958</td>\n",
       "      <td>1978.506164</td>\n",
       "      <td>103.685262</td>\n",
       "    </tr>\n",
       "    <tr>\n",
       "      <th>std</th>\n",
       "      <td>24.284752</td>\n",
       "      <td>24.689725</td>\n",
       "      <td>181.066207</td>\n",
       "    </tr>\n",
       "    <tr>\n",
       "      <th>min</th>\n",
       "      <td>21.000000</td>\n",
       "      <td>1900.000000</td>\n",
       "      <td>0.000000</td>\n",
       "    </tr>\n",
       "    <tr>\n",
       "      <th>25%</th>\n",
       "      <td>59.000000</td>\n",
       "      <td>1961.000000</td>\n",
       "      <td>0.000000</td>\n",
       "    </tr>\n",
       "    <tr>\n",
       "      <th>50%</th>\n",
       "      <td>69.000000</td>\n",
       "      <td>1980.000000</td>\n",
       "      <td>0.000000</td>\n",
       "    </tr>\n",
       "    <tr>\n",
       "      <th>75%</th>\n",
       "      <td>80.000000</td>\n",
       "      <td>2002.000000</td>\n",
       "      <td>166.000000</td>\n",
       "    </tr>\n",
       "    <tr>\n",
       "      <th>max</th>\n",
       "      <td>313.000000</td>\n",
       "      <td>2010.000000</td>\n",
       "      <td>1600.000000</td>\n",
       "    </tr>\n",
       "  </tbody>\n",
       "</table>\n",
       "</div>"
      ],
      "text/plain": [
       "       LotFrontage  GarageYrBlt   MasVnrArea\n",
       "count  1201.000000  1379.000000  1452.000000\n",
       "mean     70.049958  1978.506164   103.685262\n",
       "std      24.284752    24.689725   181.066207\n",
       "min      21.000000  1900.000000     0.000000\n",
       "25%      59.000000  1961.000000     0.000000\n",
       "50%      69.000000  1980.000000     0.000000\n",
       "75%      80.000000  2002.000000   166.000000\n",
       "max     313.000000  2010.000000  1600.000000"
      ]
     },
     "execution_count": 8,
     "metadata": {},
     "output_type": "execute_result"
    }
   ],
   "source": [
    "#cleaning trainig_set\n",
    "s = cleaning_train.isnull().sum(axis=0).reset_index().sort_values(0,ascending=False).head(15)\n",
    "s.columns = ['variable','missing']\n",
    "col_miss_train = s['variable'].tolist()\n",
    "miss = cleaning_train[col_miss_train]\n",
    "miss.describe()"
   ]
  },
  {
   "cell_type": "code",
   "execution_count": 9,
   "metadata": {
    "execution": {
     "iopub.execute_input": "2020-08-25T17:00:55.385085Z",
     "iopub.status.busy": "2020-08-25T17:00:55.379000Z",
     "iopub.status.idle": "2020-08-25T17:00:56.212302Z",
     "shell.execute_reply": "2020-08-25T17:00:56.211616Z"
    },
    "papermill": {
     "duration": 0.861986,
     "end_time": "2020-08-25T17:00:56.212436",
     "exception": false,
     "start_time": "2020-08-25T17:00:55.350450",
     "status": "completed"
    },
    "tags": []
   },
   "outputs": [
    {
     "data": {
      "text/plain": [
       "<matplotlib.axes._subplots.AxesSubplot at 0x7f5314017890>"
      ]
     },
     "execution_count": 9,
     "metadata": {},
     "output_type": "execute_result"
    },
    {
     "data": {
      "image/png": "[encoded data removed]",
      "text/plain": [
       "<Figure size 1440x432 with 3 Axes>"
      ]
     },
     "metadata": {
      "needs_background": "light"
     },
     "output_type": "display_data"
    }
   ],
   "source": [
    "# see distribution\n",
    "fig,axes = plt.subplots(1,3, figsize = (20,6))\n",
    "sns.distplot(miss['LotFrontage'], color = 'b',ax = axes[0])\n",
    "sns.distplot(miss['GarageYrBlt'], color = 'r', ax = axes[1])\n",
    "sns.distplot(miss['MasVnrArea'], color = 'y',ax = axes[2])"
   ]
  },
  {
   "cell_type": "code",
   "execution_count": 10,
   "metadata": {
    "execution": {
     "iopub.execute_input": "2020-08-25T17:00:56.264103Z",
     "iopub.status.busy": "2020-08-25T17:00:56.263307Z",
     "iopub.status.idle": "2020-08-25T17:00:56.267036Z",
     "shell.execute_reply": "2020-08-25T17:00:56.266349Z"
    },
    "papermill": {
     "duration": 0.034831,
     "end_time": "2020-08-25T17:00:56.267169",
     "exception": false,
     "start_time": "2020-08-25T17:00:56.232338",
     "status": "completed"
    },
    "tags": []
   },
   "outputs": [],
   "source": [
    "# clean with median on numerical\n",
    "cleaning_train[['LotFrontage','GarageYrBlt','MasVnrArea']] = cleaning_train[['LotFrontage','GarageYrBlt','MasVnrArea']].fillna(cleaning_train[['LotFrontage','GarageYrBlt','MasVnrArea']].median())"
   ]
  },
  {
   "cell_type": "code",
   "execution_count": 11,
   "metadata": {
    "execution": {
     "iopub.execute_input": "2020-08-25T17:00:56.323300Z",
     "iopub.status.busy": "2020-08-25T17:00:56.322437Z",
     "iopub.status.idle": "2020-08-25T17:00:56.349529Z",
     "shell.execute_reply": "2020-08-25T17:00:56.348849Z"
    },
    "papermill": {
     "duration": 0.061565,
     "end_time": "2020-08-25T17:00:56.349690",
     "exception": false,
     "start_time": "2020-08-25T17:00:56.288125",
     "status": "completed"
    },
    "tags": []
   },
   "outputs": [],
   "source": [
    "# clean with mode on categorical\n",
    "list_miss = cleaning_train.isnull().sum().sort_values(ascending = False).head(12).index.values.tolist()\n",
    "cleaning_train[list_miss] = cleaning_train[list_miss].fillna(cleaning_train[list_miss].mode().iloc[0])"
   ]
  },
  {
   "cell_type": "code",
   "execution_count": 12,
   "metadata": {
    "execution": {
     "iopub.execute_input": "2020-08-25T17:00:56.404937Z",
     "iopub.status.busy": "2020-08-25T17:00:56.404120Z",
     "iopub.status.idle": "2020-08-25T17:00:56.445356Z",
     "shell.execute_reply": "2020-08-25T17:00:56.444600Z"
    },
    "papermill": {
     "duration": 0.076202,
     "end_time": "2020-08-25T17:00:56.445506",
     "exception": false,
     "start_time": "2020-08-25T17:00:56.369304",
     "status": "completed"
    },
    "tags": []
   },
   "outputs": [],
   "source": [
    "# Cleaning testset in numerical\n",
    "list_miss_test = cleaning_test.isnull().sum().sort_values(ascending = False).head(29).index.values.tolist()\n",
    "list_numeric = cleaning_test[list_miss_test].describe().columns.values.tolist()\n",
    "# handling with median\n",
    "cleaning_test[list_numeric] = cleaning_test[list_numeric].fillna(cleaning_test[list_numeric].median())"
   ]
  },
  {
   "cell_type": "code",
   "execution_count": 13,
   "metadata": {
    "execution": {
     "iopub.execute_input": "2020-08-25T17:00:56.499772Z",
     "iopub.status.busy": "2020-08-25T17:00:56.498966Z",
     "iopub.status.idle": "2020-08-25T17:00:56.530067Z",
     "shell.execute_reply": "2020-08-25T17:00:56.529213Z"
    },
    "papermill": {
     "duration": 0.064621,
     "end_time": "2020-08-25T17:00:56.530213",
     "exception": false,
     "start_time": "2020-08-25T17:00:56.465592",
     "status": "completed"
    },
    "tags": []
   },
   "outputs": [],
   "source": [
    "# cleaning testset in categorical\n",
    "lst_categ = cleaning_test.isnull().sum().sort_values(ascending = False).head(18).index.values.tolist()\n",
    "cleaning_test[lst_categ] = cleaning_test[lst_categ].fillna(cleaning_test[lst_categ].mode().iloc[0])"
   ]
  },
  {
   "cell_type": "code",
   "execution_count": 14,
   "metadata": {
    "execution": {
     "iopub.execute_input": "2020-08-25T17:00:56.584399Z",
     "iopub.status.busy": "2020-08-25T17:00:56.583554Z",
     "iopub.status.idle": "2020-08-25T17:00:56.593582Z",
     "shell.execute_reply": "2020-08-25T17:00:56.592787Z"
    },
    "papermill": {
     "duration": 0.042656,
     "end_time": "2020-08-25T17:00:56.593721",
     "exception": false,
     "start_time": "2020-08-25T17:00:56.551065",
     "status": "completed"
    },
    "tags": []
   },
   "outputs": [
    {
     "data": {
      "text/plain": [
       "Id              0\n",
       "Functional      0\n",
       "TotRmsAbvGrd    0\n",
       "KitchenQual     0\n",
       "KitchenAbvGr    0\n",
       "               ..\n",
       "Exterior1st     0\n",
       "RoofMatl        0\n",
       "RoofStyle       0\n",
       "ExterCond       0\n",
       "SalePrice       0\n",
       "Length: 77, dtype: int64"
      ]
     },
     "execution_count": 14,
     "metadata": {},
     "output_type": "execute_result"
    }
   ],
   "source": [
    "cleaning_train.isnull().sum().sort_values()"
   ]
  },
  {
   "cell_type": "code",
   "execution_count": 15,
   "metadata": {
    "execution": {
     "iopub.execute_input": "2020-08-25T17:00:56.648063Z",
     "iopub.status.busy": "2020-08-25T17:00:56.646897Z",
     "iopub.status.idle": "2020-08-25T17:00:56.657137Z",
     "shell.execute_reply": "2020-08-25T17:00:56.656373Z"
    },
    "papermill": {
     "duration": 0.042919,
     "end_time": "2020-08-25T17:00:56.657267",
     "exception": false,
     "start_time": "2020-08-25T17:00:56.614348",
     "status": "completed"
    },
    "tags": []
   },
   "outputs": [
    {
     "data": {
      "text/plain": [
       "Id               0\n",
       "Functional       0\n",
       "TotRmsAbvGrd     0\n",
       "KitchenQual      0\n",
       "KitchenAbvGr     0\n",
       "                ..\n",
       "Exterior1st      0\n",
       "RoofMatl         0\n",
       "RoofStyle        0\n",
       "ExterCond        0\n",
       "SaleCondition    0\n",
       "Length: 76, dtype: int64"
      ]
     },
     "execution_count": 15,
     "metadata": {},
     "output_type": "execute_result"
    }
   ],
   "source": [
    "cleaning_test.isnull().sum().sort_values()"
   ]
  },
  {
   "cell_type": "code",
   "execution_count": null,
   "metadata": {
    "papermill": {
     "duration": 0.020701,
     "end_time": "2020-08-25T17:00:56.699226",
     "exception": false,
     "start_time": "2020-08-25T17:00:56.678525",
     "status": "completed"
    },
    "tags": []
   },
   "outputs": [],
   "source": []
  }
 ],
 "metadata": {
  "kernelspec": {
   "display_name": "Python 3",
   "language": "python",
   "name": "python3"
  },
  "language_info": {
   "codemirror_mode": {
    "name": "ipython",
    "version": 3
   },
   "file_extension": ".py",
   "mimetype": "text/x-python",
   "name": "python",
   "nbconvert_exporter": "python",
   "pygments_lexer": "ipython3",
   "version": "3.7.6"
  },
  "papermill": {
   "duration": 10.14065,
   "end_time": "2020-08-25T17:00:57.756766",
   "environment_variables": {},
   "exception": null,
   "input_path": "__notebook__.ipynb",
   "output_path": "__notebook__.ipynb",
   "parameters": {},
   "start_time": "2020-08-25T17:00:47.616116",
   "version": "2.1.0"
  }
 },
 "nbformat": 4,
 "nbformat_minor": 4
}
