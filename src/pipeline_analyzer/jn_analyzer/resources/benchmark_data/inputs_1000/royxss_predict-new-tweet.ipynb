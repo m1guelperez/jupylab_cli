{
 "cells": [
  {
   "cell_type": "markdown",
   "metadata": {
    "_cell_guid": "a535bfcc-36ad-85ef-67f6-fccf7d853f21"
   },
   "source": [
    "## Classify Tweets. Compare classifiers and select best model at run time. "
   ]
  },
  {
   "cell_type": "code",
   "execution_count": 1,
   "metadata": {
    "_cell_guid": "a8a91ae8-10d2-d457-8139-b7293c9ff88f"
   },
   "outputs": [],
   "source": [
    "# Import File and Packages\n",
    "import sklearn\n",
    "import matplotlib.pyplot as plt\n",
    "import pandas as pd\n",
    "import numpy as np\n",
    "%matplotlib inline\n",
    "import re\n",
    "import warnings\n",
    "warnings.filterwarnings(\"ignore\")\n",
    "\n",
    "# Read csv file into data frame\n",
    "tweet=pd.read_csv(\"../input/Tweets.csv\")"
   ]
  },
  {
   "cell_type": "markdown",
   "metadata": {
    "_cell_guid": "b1ce6ebd-2f09-500d-2db5-0ee0528c93e4"
   },
   "source": [
    "### Load and preprocess data using NLTK:\n",
    "##### Tokenize, Clean, Stem, Lemmatize, Remove stopwords"
   ]
  },
  {
   "cell_type": "code",
   "execution_count": 2,
   "metadata": {
    "_cell_guid": "270dd1e0-cf8f-df03-30e5-02a964080aff"
   },
   "outputs": [],
   "source": [
    "# Preprocess the data {'negative': 0 , 'positive': 1 , 'neutral': 2}\n",
    "\n",
    "df=tweet.iloc[:,(10,1)]\n",
    "df.columns = ['data', 'target']\n",
    "df['target']=df['target'].str.strip().str.lower()\n",
    "df['target']=df['target'].map({'negative': 0 , 'positive': 1 , 'neutral': 2})\n",
    "\n",
    "# Copy df to a temporary dataframe for pre-processing\n",
    "# Below assignment is causing problems\n",
    "dft=df"
   ]
  },
  {
   "cell_type": "code",
   "execution_count": 3,
   "metadata": {
    "_cell_guid": "44f3ff1e-afee-375c-96a8-590bc3243dc3"
   },
   "outputs": [
    {
     "name": "stdout",
     "output_type": "stream",
     "text": [
      "CPU times: user 3.05 s, sys: 100 ms, total: 3.15 s\n",
      "Wall time: 3.16 s\n"
     ]
    }
   ],
   "source": [
    "%%time\n",
    "# Remove @tweets, numbers, hyperlinks that do not start with letters\n",
    "dft['data']=dft['data'].str.replace(\"(@[A-Za-z0-9]+)|([^0-9A-Za-z \\t])|(\\w+:\\/\\/\\S+)|([0-9])\",\" \")\n",
    "\n",
    "# tokenize into words\n",
    "import nltk\n",
    "dft['data']=dft['data'].apply(nltk.word_tokenize)"
   ]
  },
  {
   "cell_type": "code",
   "execution_count": 4,
   "metadata": {
    "_cell_guid": "af5f8f23-4f00-daaa-eb92-0f4dd710db2c"
   },
   "outputs": [
    {
     "name": "stdout",
     "output_type": "stream",
     "text": [
      "CPU times: user 3.66 s, sys: 20 ms, total: 3.68 s\n",
      "Wall time: 3.68 s\n"
     ]
    }
   ],
   "source": [
    "%%time\n",
    "# stem the tokens\n",
    "from nltk.stem.snowball import SnowballStemmer\n",
    "stemmer = SnowballStemmer('english')\n",
    "dft['data']=dft['data'].apply(lambda x: [stemmer.stem(y) for y in x])"
   ]
  },
  {
   "cell_type": "code",
   "execution_count": 5,
   "metadata": {
    "_cell_guid": "5914b0bb-a998-8d67-8026-8455567a80c5"
   },
   "outputs": [
    {
     "name": "stdout",
     "output_type": "stream",
     "text": [
      "CPU times: user 3.82 s, sys: 64 ms, total: 3.89 s\n",
      "Wall time: 3.9 s\n"
     ]
    }
   ],
   "source": [
    "%%time\n",
    "# Lemmatizing\n",
    "lemmatizer = nltk.WordNetLemmatizer()\n",
    "dft['data']=dft['data'].apply(lambda x: [lemmatizer.lemmatize(y) for y in x])"
   ]
  },
  {
   "cell_type": "code",
   "execution_count": 6,
   "metadata": {
    "_cell_guid": "e0e32ab2-3e9e-afca-219c-3c793aa7a6c3"
   },
   "outputs": [
    {
     "name": "stdout",
     "output_type": "stream",
     "text": [
      "CPU times: user 3.38 s, sys: 76 ms, total: 3.46 s\n",
      "Wall time: 3.52 s\n"
     ]
    }
   ],
   "source": [
    "%%time\n",
    "# Remove stopwords\n",
    "stopwords = nltk.corpus.stopwords.words('english')\n",
    "\n",
    "# stem the stopwords\n",
    "stemmed_stops = [stemmer.stem(t) for t in stopwords]\n",
    "\n",
    "# remove stopwords from stemmed/lemmatized tokens\n",
    "dft['data']=dft['data'].apply(lambda x: [stemmer.stem(y) for y in x if y not in stemmed_stops])\n",
    "\n",
    "# remove words whose length is <3\n",
    "dft['data']=dft['data'].apply(lambda x: [e for e in x if len(e) >= 3])"
   ]
  },
  {
   "cell_type": "code",
   "execution_count": 7,
   "metadata": {
    "_cell_guid": "9762683e-6edd-c829-41c3-d8de80782d61"
   },
   "outputs": [
    {
     "name": "stdout",
     "output_type": "stream",
     "text": [
      "CPU times: user 156 ms, sys: 4 ms, total: 160 ms\n",
      "Wall time: 173 ms\n"
     ]
    }
   ],
   "source": [
    "%%time\n",
    "# Detokenize cleaned dataframe for vectorizing\n",
    "dft['data']=dft['data'].str.join(\" \")"
   ]
  },
  {
   "cell_type": "markdown",
   "metadata": {
    "_cell_guid": "57f7e08e-e268-d780-14c1-6d30c9bee3c7"
   },
   "source": [
    "### Printing data shape:"
   ]
  },
  {
   "cell_type": "code",
   "execution_count": 8,
   "metadata": {
    "_cell_guid": "05e9ccb1-4b09-ddf2-0513-29657ae2a186"
   },
   "outputs": [
    {
     "name": "stdout",
     "output_type": "stream",
     "text": [
      "Shape of original file :  (14640, 15)\n",
      "All columns of the original file :  ['tweet_id', 'airline_sentiment', 'airline_sentiment_confidence', 'negativereason', 'negativereason_confidence', 'airline', 'airline_sentiment_gold', 'name', 'negativereason_gold', 'retweet_count', 'text', 'tweet_coord', 'tweet_created', 'tweet_location', 'user_timezone'] \n",
      "\n",
      "Columns dft dataframe :  ['data', 'target'] \n",
      "\n",
      "Shape data and target :  (14640,) (14640,) \n",
      "\n",
      "Mood Count target :\n",
      " negative    9178\n",
      "neutral     3099\n",
      "positive    2363\n",
      "Name: airline_sentiment, dtype: int64\n"
     ]
    }
   ],
   "source": [
    "#Print attributes of tweet, X and y\n",
    "print('Shape of original file : ', tweet.shape)\n",
    "print('All columns of the original file : ', tweet.columns.tolist() , '\\n')\n",
    "print('Columns dft dataframe : ',dft.columns.tolist(), '\\n') \n",
    "print('Shape data and target : ', dft['data'].shape, dft['target'].shape, '\\n')\n",
    "print('Mood Count target :\\n',tweet['airline_sentiment'].value_counts())"
   ]
  },
  {
   "cell_type": "markdown",
   "metadata": {
    "_cell_guid": "1e918bdf-b63e-3d1e-c562-28b4942fe3a7"
   },
   "source": [
    "### Printing accuracy using DummyClassifier (baseline) w.r.t Train Test Split:\n",
    "#### Performance Measure: Accuracy_score and runtime  \n",
    "##### Testing the dataset using Dummy classifier and train test. Purpose is to find an optimum random state for train test which gives the best accuracy."
   ]
  },
  {
   "cell_type": "code",
   "execution_count": 9,
   "metadata": {
    "_cell_guid": "b030f96b-5680-a094-7d44-1a89df47fad0"
   },
   "outputs": [
    {
     "name": "stdout",
     "output_type": "stream",
     "text": [
      "Random State :  1    Accuracy :  0.454056291391\n",
      "Random State :  2    Accuracy :  0.475165562914\n",
      "Random State :  3    Accuracy :  0.45571192053\n",
      "Random State :  4    Accuracy :  0.465852649007\n",
      "Random State :  5    Accuracy :  0.466266556291\n",
      "Random State :  6    Accuracy :  0.469163907285\n",
      "Random State :  7    Accuracy :  0.46792218543\n",
      "Random State :  8    Accuracy :  0.464817880795\n",
      "Random State :  9    Accuracy :  0.472475165563\n",
      "Random State :  10    Accuracy :  0.451986754967\n",
      "Random State :  11    Accuracy :  0.453435430464\n",
      "Random State :  12    Accuracy :  0.466059602649\n",
      "Random State :  13    Accuracy :  0.456953642384\n",
      "Random State :  14    Accuracy :  0.466059602649\n",
      "Random State :  15    Accuracy :  0.465231788079\n",
      "Random State :  16    Accuracy :  0.460885761589\n",
      "Random State :  17    Accuracy :  0.456332781457\n",
      "Random State :  18    Accuracy :  0.459850993377\n",
      "Random State :  19    Accuracy :  0.459437086093\n",
      "CPU times: user 4.54 s, sys: 8 ms, total: 4.55 s\n",
      "Wall time: 4.62 s\n"
     ]
    }
   ],
   "source": [
    "%%time\n",
    "from sklearn.cross_validation import train_test_split\n",
    "from sklearn.dummy import DummyClassifier\n",
    "from sklearn import metrics\n",
    "from sklearn.feature_extraction.text import CountVectorizer\n",
    "\n",
    "X=dft['data']\n",
    "y=dft['target']\n",
    "\n",
    "arr_Accu=[]\n",
    "\n",
    "#Using train_test_split\n",
    "#Selecting the best random state and comapring the accuracy using Dummy Classifier\n",
    "for i in range(1,20):\n",
    "    \n",
    "    X_train, X_test, y_train, y_test = train_test_split(X, y, train_size=0.67, random_state=i)\n",
    "\n",
    "    vect = CountVectorizer(stop_words='english',analyzer=\"word\",min_df = 2, max_df = 0.8)\n",
    "    X_train_dtm = vect.fit_transform(X_train)\n",
    "    X_test_dtm = vect.transform(X_test)\n",
    "    feat_dtm = vect.get_feature_names()\n",
    "    #feat_dtm\n",
    "\n",
    "    clf = DummyClassifier()\n",
    "    clf.fit(X_train_dtm, y_train)\n",
    "    y_pred = clf.predict(X_test_dtm)\n",
    "\n",
    "    accuracy = metrics.accuracy_score(y_test, y_pred)\n",
    "    #print(accuracy)\n",
    "    arr_Accu.append(accuracy)\n",
    "\n",
    "for j in range(1,20):\n",
    "    print(\"Random State : \", j, \"   Accuracy : \", arr_Accu[j-1])"
   ]
  },
  {
   "cell_type": "markdown",
   "metadata": {
    "_cell_guid": "73f1d920-7941-b659-af96-792dcf0811fa"
   },
   "source": [
    "### Printing accuracy using Dummy Classifier w.r.t K-fold:\n",
    "#### Performance Measure: Accuracy_score and runtime\n",
    "##### Testing the dataset using dummy classifier and K-fold. Purpose is to find an optimum K value for CV which gives the best accuracy."
   ]
  },
  {
   "cell_type": "code",
   "execution_count": 10,
   "metadata": {
    "_cell_guid": "4547d1dc-5d4d-4bb1-066e-38b3bf5a390c"
   },
   "outputs": [
    {
     "name": "stdout",
     "output_type": "stream",
     "text": [
      "K-Fold :  3    Accuracy :  0.464754825147\n",
      "K-Fold :  4    Accuracy :  0.459839197229\n",
      "K-Fold :  5    Accuracy :  0.458537986687\n",
      "K-Fold :  6    Accuracy :  0.469668203445\n",
      "K-Fold :  7    Accuracy :  0.463184585732\n",
      "K-Fold :  8    Accuracy :  0.462297151229\n",
      "K-Fold :  9    Accuracy :  0.469668334448\n",
      "K-Fold :  10    Accuracy :  0.461952977837\n",
      "K-Fold :  11    Accuracy :  0.463794050987\n",
      "K-Fold :  12    Accuracy :  0.467142835733\n",
      "K-Fold :  13    Accuracy :  0.460452132403\n",
      "K-Fold :  14    Accuracy :  0.464892620348\n",
      "CPU times: user 3.4 s, sys: 4 ms, total: 3.4 s\n",
      "Wall time: 3.42 s\n"
     ]
    }
   ],
   "source": [
    "%%time\n",
    "#Using K-fold validation\n",
    "#Selecting the best fold and comparing the accuracy using Naive Bayes\n",
    "from sklearn.cross_validation import cross_val_score\n",
    "arr_Accu=[]\n",
    "\n",
    "#Selecting the best random state and comparing the accuracy using dummy classifier\n",
    "for i in range(3,15):\n",
    "\n",
    "    vect = CountVectorizer(stop_words='english',analyzer=\"word\",min_df = 2, max_df = 0.8)\n",
    "    X_dtm = vect.fit_transform(X)\n",
    "\n",
    "    clf = DummyClassifier()\n",
    "    accuracy = cross_val_score(clf, X_dtm, y, cv=i, scoring='accuracy')\n",
    "    \n",
    "    arr_Accu.append(np.mean(accuracy))\n",
    "\n",
    "#print(arr_Accu)\n",
    "for j in range(3,15):\n",
    "    print(\"K-Fold : \", j, \"   Accuracy : \", arr_Accu[j-3])"
   ]
  },
  {
   "cell_type": "markdown",
   "metadata": {
    "_cell_guid": "76ad89c6-fc1a-c772-3086-cfe9d01b0cdd"
   },
   "source": [
    "### Print top features with frequency:"
   ]
  },
  {
   "cell_type": "code",
   "execution_count": 11,
   "metadata": {
    "_cell_guid": "139c60db-7a81-efcf-d440-80f596ea0354"
   },
   "outputs": [
    {
     "data": {
      "image/png": "[encoded data removed]",
      "text/plain": [
       "<matplotlib.figure.Figure at 0x7f5f29ae3cf8>"
      ]
     },
     "metadata": {},
     "output_type": "display_data"
    }
   ],
   "source": [
    "def print_top_words():    \n",
    "    # Print top words\n",
    "    vect = CountVectorizer(stop_words='english',analyzer=\"word\",min_df = 2, max_df = 0.8)\n",
    "    data_dtm = vect.fit_transform(dft['data'])\n",
    "    feat_dtm = vect.get_feature_names()\n",
    "\n",
    "    # Count words\n",
    "    freq_tbl=pd.DataFrame({'Word':feat_dtm,'Occurence':np.asarray(data_dtm.sum(axis=0)).ravel().tolist()})\n",
    "    freq_tbl['Word']=freq_tbl['Word'].str.strip()\n",
    "\n",
    "    # Print top words\n",
    "    topt = freq_tbl.sort(['Occurence'], ascending=[False]).head(10)\n",
    "    y = topt['Occurence']\n",
    "    plt.grid()\n",
    "    X = range(1, 11)\n",
    "    plt.bar(X,y,color='g')\n",
    "    plt.xlabel('Top words')\n",
    "    plt.ylabel('Occurence')\n",
    "    plt.title('Frequency of top 10 words')\n",
    "    plt.xticks(X,topt['Word'],rotation=90)\n",
    "    \n",
    "def print_top_neg_words():    \n",
    "    # Print top negative words\n",
    "    vect = CountVectorizer(stop_words='english',analyzer=\"word\",min_df = 2, max_df = 0.8)\n",
    "    filt = dft[dft['target'] == 0]\n",
    "    data_dtm = vect.fit_transform(filt['data'])\n",
    "    feat_dtm = vect.get_feature_names()\n",
    "\n",
    "    # Count words\n",
    "    freq_tbl=pd.DataFrame({'Word':feat_dtm,'Occurence':np.asarray(data_dtm.sum(axis=0)).ravel().tolist()})\n",
    "    freq_tbl['Word']=freq_tbl['Word'].str.strip()\n",
    "\n",
    "    # Print top negative words\n",
    "    topt = freq_tbl.sort(['Occurence'], ascending=[False]).head(10)\n",
    "    y = topt['Occurence']\n",
    "    plt.grid()\n",
    "    X = range(1, 11)\n",
    "    plt.bar(X,y,color='g')\n",
    "    plt.xlabel('Top negative words')\n",
    "    plt.ylabel('Occurence')\n",
    "    plt.title('Frequency of top 10 negative words')\n",
    "    plt.xticks(X,topt['Word'],rotation=90)\n",
    "    \n",
    "def print_top_pos_words():    \n",
    "    # Print top positive words\n",
    "    vect = CountVectorizer(stop_words='english',analyzer=\"word\",min_df = 2, max_df = 0.8)\n",
    "    filt = dft[dft['target'] == 1]\n",
    "    data_dtm = vect.fit_transform(filt['data'])\n",
    "    feat_dtm = vect.get_feature_names()\n",
    "\n",
    "    # Count words\n",
    "    freq_tbl=pd.DataFrame({'Word':feat_dtm,'Occurence':np.asarray(data_dtm.sum(axis=0)).ravel().tolist()})\n",
    "    freq_tbl['Word']=freq_tbl['Word'].str.strip()\n",
    "\n",
    "    # Print top positive words\n",
    "    topt = freq_tbl.sort(['Occurence'], ascending=[False]).head(10)\n",
    "    y = topt['Occurence']\n",
    "    plt.grid()\n",
    "    X = range(1, 11)\n",
    "    plt.bar(X,y,color='g')\n",
    "    plt.xlabel('Top positive words')\n",
    "    plt.ylabel('Occurence')\n",
    "    plt.title('Frequency of top 10 positive words')\n",
    "    plt.xticks(X,topt['Word'],rotation=90)\n",
    "\n",
    "\n",
    "plt.figure(1,figsize=(16, 16))\n",
    "plt.subplot(251)\n",
    "print_top_words()  \n",
    "plt.subplot(253)\n",
    "print_top_pos_words()\n",
    "plt.subplot(255)\n",
    "print_top_neg_words()"
   ]
  },
  {
   "cell_type": "markdown",
   "metadata": {
    "_cell_guid": "f4f7e7fe-4630-e8fc-1fa2-084c91c9df83"
   },
   "source": [
    "### Comparing different model accuracy using Train Test:\n",
    "#### 1. Multinomial Naive Bayes\n",
    "#### 2. Logistic Regression\n",
    "#### 3. KNN\n",
    "#### 4. Decision Tree\n",
    "#### 5. Random Forest\n",
    "#### 6. ADA Boost Classifier\n",
    "#### 7. LinearSVC\n",
    "#### 8. Gaussian Naive Bayes\n",
    "### Performance Measure: Accuracy_score and Run time\n",
    "##### Each model mentioned above will be tested for accuracy and Run time using Train Test and the best performing model will be automatically selected."
   ]
  },
  {
   "cell_type": "code",
   "execution_count": 12,
   "metadata": {
    "_cell_guid": "433ac165-a447-d1b0-7c7a-8663cb58cc3b"
   },
   "outputs": [
    {
     "name": "stdout",
     "output_type": "stream",
     "text": [
      "CPU times: user 268 ms, sys: 8 ms, total: 276 ms\n",
      "Wall time: 279 ms\n"
     ]
    }
   ],
   "source": [
    "%%time\n",
    "import time\n",
    "#Train Test split data with random state=11\n",
    "X_train, X_test, y_train, y_test = train_test_split(X, y, train_size=0.67, random_state=11)\n",
    "\n",
    "#Vectorize\n",
    "vect = CountVectorizer(stop_words='english',analyzer=\"word\",min_df = 2, max_df = 0.8)\n",
    "X_train_dtm = vect.fit_transform(X_train)\n",
    "X_test_dtm = vect.transform(X_test)\n",
    "feat_dtm = vect.get_feature_names()\n",
    "\n",
    "#Initialize classifier stats\n",
    "clf_stats=pd.DataFrame()"
   ]
  },
  {
   "cell_type": "code",
   "execution_count": 13,
   "metadata": {
    "_cell_guid": "0d865a99-8e32-e6ac-87da-f6d0940a2eb1"
   },
   "outputs": [
    {
     "name": "stdout",
     "output_type": "stream",
     "text": [
      "Accuracy :  0.762210264901\n"
     ]
    }
   ],
   "source": [
    "# Multinomial Naive Bayes\n",
    "from sklearn.naive_bayes import MultinomialNB\n",
    "clf = MultinomialNB()\n",
    "\n",
    "start_time=time.time()\n",
    "clf.fit(X_train_dtm, y_train)\n",
    "runtime = time.time()-start_time\n",
    "y_pred = clf.predict(X_test_dtm)\n",
    "accuracy = metrics.accuracy_score(y_test, y_pred)\n",
    "\n",
    "print('Accuracy : ',accuracy)\n",
    "\n",
    "#Store stats for classifier\n",
    "clf_stats=clf_stats.append({'Classifier': 'Multinomial Naive Bayes', 'Accuracy': accuracy, 'Runtime': runtime, 'Callable': 'clf = MultinomialNB()'}, ignore_index=True)"
   ]
  },
  {
   "cell_type": "code",
   "execution_count": 14,
   "metadata": {
    "_cell_guid": "05ae6bf2-425a-a1cc-c17b-328ff848d38d"
   },
   "outputs": [
    {
     "name": "stdout",
     "output_type": "stream",
     "text": [
      "Accuracy :  0.770281456954\n"
     ]
    }
   ],
   "source": [
    "# Logistic Regression\n",
    "from sklearn.linear_model import LogisticRegression\n",
    "clf = LogisticRegression()\n",
    "\n",
    "start_time=time.time()\n",
    "clf.fit(X_train_dtm, y_train)\n",
    "runtime = time.time()-start_time\n",
    "y_pred = clf.predict(X_test_dtm)\n",
    "accuracy = metrics.accuracy_score(y_test, y_pred)\n",
    "print('Accuracy : ',accuracy)\n",
    "\n",
    "#Store stats for classifier\n",
    "clf_stats=clf_stats.append({'Classifier': 'Logistic Regression', 'Accuracy': accuracy, 'Runtime': runtime, 'Callable': 'clf = LogisticRegression()'}, ignore_index=True)"
   ]
  },
  {
   "cell_type": "code",
   "execution_count": 15,
   "metadata": {
    "_cell_guid": "ddacbabf-c202-b509-3e11-7a9efd66356d"
   },
   "outputs": [
    {
     "name": "stdout",
     "output_type": "stream",
     "text": [
      "Accuracy :  0.604718543046\n"
     ]
    }
   ],
   "source": [
    "# K Nearest Neighbour\n",
    "from sklearn.neighbors import KNeighborsClassifier\n",
    "clf = KNeighborsClassifier(n_neighbors=2)\n",
    "\n",
    "start_time=time.time()\n",
    "clf.fit(X_train_dtm, y_train)\n",
    "runtime = time.time()-start_time\n",
    "y_pred = clf.predict(X_test_dtm)\n",
    "accuracy = metrics.accuracy_score(y_test, y_pred)\n",
    "\n",
    "print('Accuracy : ',accuracy)\n",
    "\n",
    "#Store stats for classifier\n",
    "clf_stats=clf_stats.append({'Classifier': 'KNN', 'Accuracy': accuracy, 'Runtime': runtime, 'Callable': 'clf = KNeighborsClassifier(n_neighbors=2)'}, ignore_index=True)"
   ]
  },
  {
   "cell_type": "code",
   "execution_count": 16,
   "metadata": {
    "_cell_guid": "4bf73d6a-9ec5-71e1-7b05-fdfe36c45994"
   },
   "outputs": [
    {
     "name": "stdout",
     "output_type": "stream",
     "text": [
      "Accuracy :  0.685430463576\n"
     ]
    }
   ],
   "source": [
    "# Decision Tree\n",
    "from sklearn.tree import DecisionTreeClassifier\n",
    "clf = DecisionTreeClassifier(criterion='entropy')\n",
    "\n",
    "start_time=time.time()\n",
    "clf.fit(X_train_dtm, y_train)\n",
    "runtime = time.time()-start_time\n",
    "y_pred = clf.predict(X_test_dtm)\n",
    "accuracy = metrics.accuracy_score(y_test, y_pred)\n",
    "\n",
    "print('Accuracy : ',accuracy)\n",
    "\n",
    "#Store stats for classifier\n",
    "clf_stats=clf_stats.append({'Classifier': 'Decision Trees', 'Accuracy': accuracy, 'Runtime': runtime, 'Callable': 'clf = DecisionTreeClassifier(criterion=''entropy'')'}, ignore_index=True)"
   ]
  },
  {
   "cell_type": "code",
   "execution_count": 17,
   "metadata": {
    "_cell_guid": "3f715e41-32a1-ac99-1f71-4fc358b4c02c"
   },
   "outputs": [
    {
     "name": "stdout",
     "output_type": "stream",
     "text": [
      "Accuracy :  0.730546357616\n"
     ]
    }
   ],
   "source": [
    "# RandomForestClassifier\n",
    "from sklearn.ensemble import RandomForestClassifier\n",
    "clf = RandomForestClassifier(criterion='entropy')\n",
    "\n",
    "start_time=time.time()\n",
    "clf.fit(X_train_dtm, y_train)\n",
    "runtime = time.time()-start_time\n",
    "y_pred = clf.predict(X_test_dtm)\n",
    "accuracy = metrics.accuracy_score(y_test, y_pred)\n",
    "\n",
    "print('Accuracy : ',accuracy)\n",
    "\n",
    "#Store stats for classifier\n",
    "clf_stats=clf_stats.append({'Classifier': 'Random Forest', 'Accuracy': accuracy, 'Runtime': runtime, 'Callable': 'clf = RandomForestClassifier(criterion=''entropy'')'}, ignore_index=True)"
   ]
  },
  {
   "cell_type": "code",
   "execution_count": 18,
   "metadata": {
    "_cell_guid": "81be450d-5c0f-b05b-51af-b9d45669bbab"
   },
   "outputs": [
    {
     "name": "stdout",
     "output_type": "stream",
     "text": [
      "Accuracy :  0.693087748344\n"
     ]
    }
   ],
   "source": [
    "# AdaBoostClassifier\n",
    "from sklearn.ensemble import AdaBoostClassifier\n",
    "clf = AdaBoostClassifier()\n",
    "\n",
    "start_time=time.time()\n",
    "clf.fit(X_train_dtm, y_train)\n",
    "runtime = time.time()-start_time\n",
    "y_pred = clf.predict(X_test_dtm)\n",
    "accuracy = metrics.accuracy_score(y_test, y_pred)\n",
    "\n",
    "print('Accuracy : ',accuracy)\n",
    "\n",
    "#Store stats for classifier\n",
    "clf_stats=clf_stats.append({'Classifier': 'ADA Boost', 'Accuracy': accuracy, 'Runtime': runtime, 'Callable': 'clf = AdaBoostClassifier()'}, ignore_index=True)"
   ]
  },
  {
   "cell_type": "code",
   "execution_count": 19,
   "metadata": {
    "_cell_guid": "81ea10cd-728b-7fe0-26cb-0010ea4ee4ca"
   },
   "outputs": [
    {
     "name": "stdout",
     "output_type": "stream",
     "text": [
      "Accuracy :  0.747930463576\n"
     ]
    }
   ],
   "source": [
    "# SVM SVC\n",
    "from sklearn.svm import LinearSVC\n",
    "clf = LinearSVC()\n",
    "\n",
    "start_time=time.time()\n",
    "clf.fit(X_train_dtm, y_train)\n",
    "runtime = time.time()-start_time\n",
    "y_pred = clf.predict(X_test_dtm)\n",
    "accuracy = metrics.accuracy_score(y_test, y_pred)\n",
    "\n",
    "print('Accuracy : ',accuracy)\n",
    "\n",
    "#Store stats for classifier\n",
    "clf_stats=clf_stats.append({'Classifier': 'SVM SVC', 'Accuracy': accuracy, 'Runtime': runtime, 'Callable': 'clf = LinearSVC()'}, ignore_index=True)"
   ]
  },
  {
   "cell_type": "code",
   "execution_count": 20,
   "metadata": {
    "_cell_guid": "9040eaac-87a9-aca0-c78a-594ca0b15e9a"
   },
   "outputs": [
    {
     "name": "stdout",
     "output_type": "stream",
     "text": [
      "Accuracy :  0.378518211921\n"
     ]
    }
   ],
   "source": [
    "# GaussianNB\n",
    "# Not good with words\n",
    "from sklearn.naive_bayes import GaussianNB\n",
    "clf = GaussianNB()\n",
    "\n",
    "start_time=time.time()\n",
    "clf.fit(X_train_dtm.toarray(), y_train)\n",
    "runtime = time.time()-start_time\n",
    "y_pred = clf.predict(X_test_dtm.toarray())\n",
    "accuracy = metrics.accuracy_score(y_test, y_pred)\n",
    "\n",
    "print('Accuracy : ',accuracy)\n",
    "\n",
    "#Store stats for classifier\n",
    "clf_stats=clf_stats.append({'Classifier': 'Gaussian NB', 'Accuracy': accuracy, 'Runtime': runtime, 'Callable': 'clf = GaussianNB()'}, ignore_index=True)"
   ]
  },
  {
   "cell_type": "markdown",
   "metadata": {
    "_cell_guid": "0278a0ff-e136-1adc-aa72-89c18d834a84"
   },
   "source": [
    "### Plotting Classifier vs Accuracy and Runtime:"
   ]
  },
  {
   "cell_type": "code",
   "execution_count": 21,
   "metadata": {
    "_cell_guid": "6ec1cf5f-93bf-2b3e-c13d-8f8802b1214e"
   },
   "outputs": [
    {
     "name": "stdout",
     "output_type": "stream",
     "text": [
      "                Classifier  Accuracy   Runtime\n",
      "1      Logistic Regression  0.770281  0.137723\n",
      "0  Multinomial Naive Bayes  0.762210  0.003662\n",
      "6                  SVM SVC  0.747930  0.452993\n",
      "4            Random Forest  0.730546  0.940945\n",
      "5                ADA Boost  0.693088  0.381215\n",
      "3           Decision Trees  0.685430  1.045885\n",
      "2                      KNN  0.604719  0.001214\n",
      "7              Gaussian NB  0.378518  0.702168\n"
     ]
    },
    {
     "data": {
      "text/plain": [
       "([<matplotlib.axis.XTick at 0x7f5f298a81d0>,\n",
       "  <matplotlib.axis.XTick at 0x7f5f29a1f7b8>,\n",
       "  <matplotlib.axis.XTick at 0x7f5f298a8390>,\n",
       "  <matplotlib.axis.XTick at 0x7f5f2996f048>,\n",
       "  <matplotlib.axis.XTick at 0x7f5f2992beb8>,\n",
       "  <matplotlib.axis.XTick at 0x7f5f2996c198>,\n",
       "  <matplotlib.axis.XTick at 0x7f5f29a36390>,\n",
       "  <matplotlib.axis.XTick at 0x7f5f298f3f60>],\n",
       " <a list of 8 Text xticklabel objects>)"
      ]
     },
     "execution_count": 21,
     "metadata": {},
     "output_type": "execute_result"
    },
    {
     "data": {
      "image/png": "[encoded data removed]",
      "text/plain": [
       "<matplotlib.figure.Figure at 0x7f5f2999af60>"
      ]
     },
     "metadata": {},
     "output_type": "display_data"
    }
   ],
   "source": [
    "import matplotlib.pyplot as plt\n",
    "%matplotlib inline\n",
    "\n",
    "print (clf_stats[['Classifier','Accuracy','Runtime']].sort(['Accuracy'], ascending=[False]))\n",
    "#Plot performance measures of classifiers\n",
    "\n",
    "x=range(1,(len(clf_stats.Classifier)+1))\n",
    "plt.figure(1,figsize=(14, 5))\n",
    "\n",
    "plt.subplot(131)\n",
    "plt.xlabel('Classifier')\n",
    "plt.ylabel('Classifier Accuracy')\n",
    "plt.plot(x, clf_stats['Accuracy'],color='g')\n",
    "plt.xticks(x,clf_stats.Classifier,rotation=90)\n",
    "\n",
    "plt.subplot(133)\n",
    "plt.xlabel('Classifier')\n",
    "plt.ylabel('Classifier Runtime')\n",
    "plt.plot(x, clf_stats['Runtime'],color='g')\n",
    "plt.xticks(x,clf_stats.Classifier,rotation=90)    "
   ]
  },
  {
   "cell_type": "markdown",
   "metadata": {
    "_cell_guid": "31ee8089-c49c-afe0-7b3e-422c5d04945a"
   },
   "source": [
    "### Classifying new tweets: Fit model, Clean Tweet, Predict Mood\n",
    "#### Clean incoming new tweet:"
   ]
  },
  {
   "cell_type": "code",
   "execution_count": 22,
   "metadata": {
    "_cell_guid": "f296bf5e-7475-d342-7afc-b8b930c7a544"
   },
   "outputs": [],
   "source": [
    "# Clean input tweet\n",
    "\n",
    "def fmt_input_tweet(txt):\n",
    "    \n",
    "    # Remove @tweets, numbers, hyperlinks that do not start with letters\n",
    "    txt = re.sub(\"(@[A-Za-z0-9]+)|([^0-9A-Za-z \\t])|(\\w+:\\/\\/\\S+)|([0-9])\",\" \",txt)\n",
    "    #print(txt)\n",
    "    \n",
    "    # tokenize into words\n",
    "    tokens = [word for word in nltk.word_tokenize(txt)]\n",
    "    #print(tokens)\n",
    "\n",
    "    # only keep tokens that start with a letter (using regular expressions)\n",
    "    clean_tokens = [token for token in tokens if re.search(r'^[a-zA-Z]+', token)]\n",
    "    #print('clean_tokens:\\n',clean_tokens)\n",
    "\n",
    "    # stem the tokens\n",
    "    stemmer = SnowballStemmer('english')\n",
    "    stemmed_tokens = [stemmer.stem(t) for t in clean_tokens]\n",
    "    #print('stemmed_tokens:\\n',stemmed_tokens)\n",
    "\n",
    "    #Lemmatizing\n",
    "    lemmatizer = nltk.WordNetLemmatizer()\n",
    "    lem_tokens = [lemmatizer.lemmatize(t) for t in stemmed_tokens]\n",
    "    #print('lemmatizer : \\n',lem_tokens)\n",
    "    \n",
    "    #Remove stopwords\n",
    "    stopwords = nltk.corpus.stopwords.words('english')\n",
    "\n",
    "    # stem the stopwords\n",
    "    stemmed_stops = [stemmer.stem(t) for t in stopwords]\n",
    "\n",
    "    # remove stopwords from stemmed/lemmatized tokens\n",
    "    lem_tokens_no_stop = [stemmer.stem(t) for t in lem_tokens if t not in stemmed_stops]\n",
    "\n",
    "    # remove words whose length is <3\n",
    "    clean_lem_tok = [e for e in lem_tokens_no_stop if len(e) >= 3]\n",
    "    #print('clean_lem_tok: ',clean_lem_tok)\n",
    "    \n",
    "    # Detokenize new tweet for vector processing\n",
    "    new_formatted_tweet=\" \".join(clean_lem_tok)\n",
    "    #print('new_formatted_tweet: ',new_formatted_tweet)\n",
    "    \n",
    "    return new_formatted_tweet\n",
    "    "
   ]
  },
  {
   "cell_type": "markdown",
   "metadata": {
    "_cell_guid": "577dd0bf-3f88-931b-4141-31f9bdc6d3ca"
   },
   "source": [
    "### Classify incoming new tweet:"
   ]
  },
  {
   "cell_type": "code",
   "execution_count": 23,
   "metadata": {
    "_cell_guid": "23e54a1d-c1f1-2621-1eaa-2e36ff7a0351"
   },
   "outputs": [
    {
     "name": "stdout",
     "output_type": "stream",
     "text": [
      "Model :  LogisticRegression\n"
     ]
    }
   ],
   "source": [
    "# Logistic Regression performs better. So it will automatically used as an appropriate classifier\n",
    "\n",
    "# Vectorize, fit, transform. Select model randomly\n",
    "vect = CountVectorizer(stop_words='english', analyzer=\"word\", min_df = 2, max_df = 0.8)\n",
    "X_dtm = vect.fit_transform(X)\n",
    "feat_dtm = vect.get_feature_names()\n",
    "\n",
    "# Select the best performing classifier\n",
    "Call_clf = str(clf_stats[['Callable','Accuracy']].sort(['Accuracy'], ascending=[False]).head(1).iloc[:,(0)])\n",
    "temp = Call_clf.__repr__()\n",
    "Call_clf = temp[temp.index('c'):(temp.index(')'))+1]\n",
    "print('Model :',temp[(temp.index('=') + 1) : temp.index('(')])\n",
    "exec(Call_clf)\n",
    "clf.fit(X_dtm.toarray(), y) \n",
    "\n",
    "def classify_new_tweet(new_twt):  \n",
    "\n",
    "    fmt_twt = fmt_input_tweet(new_twt)\n",
    "    fmt_twt_dtm = vect.transform([fmt_twt])[0]\n",
    "    #print('Formatted Tweet :',fmt_twt)\n",
    "    pred = clf.predict(fmt_twt_dtm.toarray())\n",
    "\n",
    "    def mood(x):\n",
    "        return {\n",
    "            0: 'negative',\n",
    "            1: 'positive',\n",
    "            2: 'neutral'\n",
    "        }[x]\n",
    "\n",
    "    print('Mood of the incoming tweet is:',mood(pred[0]))"
   ]
  },
  {
   "cell_type": "code",
   "execution_count": 24,
   "metadata": {
    "_cell_guid": "6cfc0d31-12b4-338e-5c45-19ffeb82575e"
   },
   "outputs": [
    {
     "name": "stdout",
     "output_type": "stream",
     "text": [
      "Mood of the incoming tweet is: negative\n"
     ]
    }
   ],
   "source": [
    "twt='@united I am sick!! https://www.abc.com'\n",
    "classify_new_tweet(twt)"
   ]
  },
  {
   "cell_type": "code",
   "execution_count": 25,
   "metadata": {
    "_cell_guid": "c74129de-b184-c4f5-dd4d-f0cd3323d15d"
   },
   "outputs": [
    {
     "name": "stdout",
     "output_type": "stream",
     "text": [
      "Accuracy of random (positive) prediction :  0.161407103825\n"
     ]
    }
   ],
   "source": [
    "# Predict performance of random prediction. Testing for positive classes.\n",
    "y_random_pred = np.ones(y.shape[0])\n",
    "accuracy = metrics.accuracy_score(y, y_random_pred)\n",
    "print('Accuracy of random (positive) prediction : ',accuracy)"
   ]
  },
  {
   "cell_type": "code",
   "execution_count": 26,
   "metadata": {
    "_cell_guid": "f10a9648-f9a8-475a-ead1-2aeb24498fc5"
   },
   "outputs": [
    {
     "name": "stdout",
     "output_type": "stream",
     "text": [
      "Accuracy of majority class (negative) prediction :  0.626912568306\n"
     ]
    }
   ],
   "source": [
    "# Predict performance of majority class prediction. Testing for negative classes.\n",
    "y_random_pred = np.zeros(y.shape[0])\n",
    "accuracy = metrics.accuracy_score(y, y_random_pred)\n",
    "print('Accuracy of majority class (negative) prediction : ',accuracy)"
   ]
  }
 ],
 "metadata": {
  "_change_revision": 8,
  "_is_fork": false,
  "kernelspec": {
   "display_name": "Python 3",
   "language": "python",
   "name": "python3"
  },
  "language_info": {
   "codemirror_mode": {
    "name": "ipython",
    "version": 3
   },
   "file_extension": ".py",
   "mimetype": "text/x-python",
   "name": "python",
   "nbconvert_exporter": "python",
   "pygments_lexer": "ipython3",
   "version": "3.5.2"
  }
 },
 "nbformat": 4,
 "nbformat_minor": 0
}
