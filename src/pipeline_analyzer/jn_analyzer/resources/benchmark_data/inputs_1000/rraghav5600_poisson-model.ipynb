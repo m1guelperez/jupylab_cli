{
 "cells": [
  {
   "cell_type": "code",
   "execution_count": 1,
   "metadata": {
    "_cell_guid": "b1076dfc-b9ad-4769-8c92-a6c4dae69d19",
    "_uuid": "8f2839f25d086af736a60e9eeb907d3b93b6e0e5"
   },
   "outputs": [
    {
     "name": "stdout",
     "output_type": "stream",
     "text": [
      "/kaggle/input/ds4_valid.csv\n",
      "/kaggle/input/ds4_train.csv\n"
     ]
    }
   ],
   "source": [
    "# This Python 3 environment comes with many helpful analytics libraries installed\n",
    "# It is defined by the kaggle/python Docker image: https://github.com/kaggle/docker-python\n",
    "# For example, here's several helpful packages to load\n",
    "\n",
    "import numpy as np # linear algebra\n",
    "import pandas as pd # data processing, CSV file I/O (e.g. pd.read_csv)\n",
    "import matplotlib.pyplot as plt\n",
    "import time\n",
    "\n",
    "# Input data files are available in the read-only \"../input/\" directory\n",
    "# For example, running this (by clicking run or pressing Shift+Enter) will list all files under the input directory\n",
    "\n",
    "import os\n",
    "for dirname, _, filenames in os.walk('/kaggle/input'):\n",
    "    for filename in filenames:\n",
    "        print(os.path.join(dirname, filename))\n",
    "\n",
    "# You can write up to 5GB to the current directory (/kaggle/working/) that gets preserved as output when you create a version using \"Save & Run All\" \n",
    "# You can also write temporary files to /kaggle/temp/, but they won't be saved outside of the current session"
   ]
  },
  {
   "cell_type": "code",
   "execution_count": 2,
   "metadata": {
    "_cell_guid": "79c7e3d0-c299-4dcb-8224-4455121ee9b0",
    "_uuid": "d629ff2d2480ee46fbb7e2d37f6b5fab8052498a"
   },
   "outputs": [],
   "source": [
    "DATA = \"/kaggle/input/\"\n",
    "class Poisson:\n",
    "    def __init__(self, eps=1e-15, alpha=1e-12, iterations=1e7):\n",
    "        self.eps=eps\n",
    "        self.theta=0\n",
    "        self.alpha = alpha\n",
    "        self.iterations = iterations\n",
    "        self.h = lambda x: np.exp(x)\n",
    "        \n",
    "    def norm(self, x):\n",
    "        ans=0\n",
    "        for i in x: ans = ans+(i*i)\n",
    "        return np.sqrt(ans)\n",
    "    \n",
    "    def fit(self, x, y):\n",
    "        start = time.time()\n",
    "        m,n = x.shape\n",
    "        self.theta = np.zeros(n)\n",
    "        for i in range(int(self.iterations)):\n",
    "            theta = self.theta\n",
    "            tt = self.alpha*(y - self.h(x.dot(theta))).dot(x)\n",
    "            self.theta = theta + tt\n",
    "            if self.norm(tt)<self.eps: \n",
    "                print(i+1, \"Iterations in\", time.time()-start, \"seconds\")\n",
    "                break\n",
    "                \n",
    "    def predict(self, x):\n",
    "        return self.h(x.dot(self.theta))"
   ]
  },
  {
   "cell_type": "code",
   "execution_count": 3,
   "metadata": {},
   "outputs": [
    {
     "name": "stdout",
     "output_type": "stream",
     "text": [
      "120667 Iterations in 9.624710083007812 seconds\n"
     ]
    },
    {
     "data": {
      "text/plain": [
       "array([7.36662539, 3.93332774, 3.43329765, 2.00006   , 4.4000118 ])"
      ]
     },
     "execution_count": 3,
     "metadata": {},
     "output_type": "execute_result"
    }
   ],
   "source": [
    "train_df = pd.read_csv(DATA+\"ds4_train.csv\")\n",
    "train_df['x_0'] = [1 for _ in range(len(train_df))]\n",
    "x, y = train_df.drop(['y'], axis=1), train_df['y']\n",
    "x = train_df[['x_0', 'x_1', 'x_2', 'x_3', 'x_4']]\n",
    "x = np.array(x)\n",
    "y = np.array(y)\n",
    "\n",
    "model = Poisson()\n",
    "model.fit(x,y)\n",
    "\n",
    "test_df = pd.read_csv(DATA+\"ds4_valid.csv\")\n",
    "test_df['x_0'] = [1 for _ in range(len(test_df))]\n",
    "x_test, y_test = test_df.drop(['y'], axis=1), test_df['y']\n",
    "x_test = test_df[['x_0', 'x_1', 'x_2', 'x_3', 'x_4']]\n",
    "x_test = np.array(x_test)\n",
    "y_test = np.array(y_test)\n",
    "pred = model.predict(x_test)\n",
    "\n",
    "model.theta"
   ]
  },
  {
   "cell_type": "code",
   "execution_count": 4,
   "metadata": {},
   "outputs": [
    {
     "data": {
      "text/plain": [
       "(98, 250)"
      ]
     },
     "execution_count": 4,
     "metadata": {},
     "output_type": "execute_result"
    }
   ],
   "source": [
    "cnt = 0\n",
    "for i in range(len(pred)):\n",
    "    if abs(pred[i]-y_test[i])>1000: cnt+=1\n",
    "cnt, len(pred)"
   ]
  },
  {
   "cell_type": "code",
   "execution_count": null,
   "metadata": {},
   "outputs": [],
   "source": []
  }
 ],
 "metadata": {
  "kernelspec": {
   "display_name": "Python 3",
   "language": "python",
   "name": "python3"
  },
  "language_info": {
   "codemirror_mode": {
    "name": "ipython",
    "version": 3
   },
   "file_extension": ".py",
   "mimetype": "text/x-python",
   "name": "python",
   "nbconvert_exporter": "python",
   "pygments_lexer": "ipython3",
   "version": "3.7.6"
  }
 },
 "nbformat": 4,
 "nbformat_minor": 4
}
