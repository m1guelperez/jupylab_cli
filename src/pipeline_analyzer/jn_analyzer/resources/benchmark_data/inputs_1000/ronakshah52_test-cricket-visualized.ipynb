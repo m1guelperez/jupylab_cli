{
 "cells": [
  {
   "cell_type": "code",
   "execution_count": 1,
   "metadata": {
    "_cell_guid": "b1076dfc-b9ad-4769-8c92-a6c4dae69d19",
    "_kg_hide-input": true,
    "_uuid": "8f2839f25d086af736a60e9eeb907d3b93b6e0e5"
   },
   "outputs": [],
   "source": [
    "# This Python 3 environment comes with many helpful analytics libraries installed\n",
    "# It is defined by the kaggle/python docker image: https://github.com/kaggle/docker-python\n",
    "# For example, here's several helpful packages to load in \n",
    "\n",
    "import numpy as np # linear algebra\n",
    "import pandas as pd # data processing, CSV file I/O (e.g. pd.read_csv)\n",
    "import matplotlib.pyplot as plt\n",
    "import seaborn as sns\n",
    "import random\n",
    "import plotly.graph_objects as go\n",
    "# Input data files are available in the \"../input/\" directory.\n",
    "# For example, running this (by clicking run or pressing Shift+Enter) will list all files under the input directory\n"
   ]
  },
  {
   "cell_type": "code",
   "execution_count": 2,
   "metadata": {
    "_kg_hide-input": true
   },
   "outputs": [],
   "source": [
    "data = pd.read_csv('/kaggle/input/icc-test-cricket-runs/ICC Test Batting Figures.csv', encoding='ISO-8859-1')"
   ]
  },
  {
   "cell_type": "code",
   "execution_count": 3,
   "metadata": {
    "_kg_hide-input": true,
    "_kg_hide-output": true
   },
   "outputs": [],
   "source": [
    "def row(player):\n",
    "    if '*' in player['HS']:\n",
    "        return 1\n",
    "    else:\n",
    "        return 0\n",
    "\n",
    "data['hs_not_out'] = data.apply(row, axis=1)\n",
    "data['HS'] = data['HS'].str.replace('*', '')\n",
    "data['HS'] = data['HS'].str.replace('-', '0')\n",
    "data['Mat'] = data['Mat'].replace('-', '0')\n",
    "data['Inn'] = data['Inn'].str.replace('-', '0')\n",
    "data['NO'] = data['NO'].str.replace('-', '0')\n",
    "data['Runs'] = data['Runs'].str.replace('-', '0')\n",
    "data['100'] = data['100'].str.replace('-', '0')\n",
    "data['50'] = data['50'].str.replace('-', '0')\n",
    "data['0'] = data['0'].str.replace('-', '0')\n",
    "data['Avg'] = data['Avg'].str.replace('-', '0')\n",
    "data['Inn'] = data['Inn'].astype('int32')\n",
    "data['NO'] = data['NO'].astype('int32')\n",
    "data['Runs'] = data['Runs'].astype('int32')\n",
    "data['HS'] = data['HS'].astype('int32')\n",
    "data['Avg'] = data['Avg'].astype('float32')\n",
    "data['100'] = data['100'].astype('int32')\n",
    "data['50'] = data['50'].astype('int32')\n",
    "data['0'] = data['0'].astype('int32')\n",
    "data['Country'] = data.Player.apply(lambda st: st[st.find(\"(\")+1:st.find(\")\")].replace(\"ICC/\",''))\n",
    "data['Player'] = data['Player'].apply(lambda x: x.split(\"(\")[0])\n",
    "data['Span_Years'] = data['Span'].apply(lambda x: int(x.split(\"-\")[1])-int(x.split(\"-\")[0])).\\\n",
    "apply(lambda x: \"5\" if x<=5 else \"10\" if x<=10 else \"15\" if x <= 15 else \"15+\")\n",
    "data['Span_Yrs'] = data['Span'].apply(lambda x: int(x.split(\"-\")[1])-int(x.split(\"-\")[0]))\n",
    "data_filter = data[(data.Inn>=50) & (data.Runs >= 5000)]\n",
    "# data_filter.shape"
   ]
  },
  {
   "cell_type": "code",
   "execution_count": 4,
   "metadata": {
    "_kg_hide-input": true
   },
   "outputs": [
    {
     "data": {
      "text/html": [
       "        <script type=\"text/javascript\">\n",
       "        window.PlotlyConfig = {MathJaxConfig: 'local'};\n",
       "        if (window.MathJax) {MathJax.Hub.Config({SVG: {font: \"STIX-Web\"}});}\n",
       "        if (typeof require !== 'undefined') {\n",
       "        require.undef(\"plotly\");\n",
       "        requirejs.config({\n",
       "            paths: {\n",
       "                'plotly': ['https://cdn.plot.ly/plotly-latest.min']\n",
       "            }\n",
       "        });\n",
       "        require(['plotly'], function(Plotly) {\n",
       "            window._Plotly = Plotly;\n",
       "        });\n",
       "        }\n",
       "        </script>\n",
       "        "
      ]
     },
     "metadata": {},
     "output_type": "display_data"
    },
    {
     "data": {
      "text/html": [
       "<div>\n",
       "        \n",
       "        \n",
       "            <div id=\"fe0cb2c3-58ff-4d83-ba87-2362fe73c34f\" class=\"plotly-graph-div\" style=\"height:525px; width:100%;\"></div>\n",
       "            <script type=\"text/javascript\">\n",
       "                require([\"plotly\"], function(Plotly) {\n",
       "                    window.PLOTLYENV=window.PLOTLYENV || {};\n",
       "                    \n",
       "                if (document.getElementById(\"fe0cb2c3-58ff-4d83-ba87-2362fe73c34f\")) {\n",
       "                    Plotly.newPlot(\n",
       "                        'fe0cb2c3-58ff-4d83-ba87-2362fe73c34f',\n",
       "                        [{\"marker\": {\"color\": [24, 17, 18, 16, 12, 15, 16, 21, 17, 16, 19, 16, 17, 15, 12, 20, 17, 15, 16, 14, 11, 15, 12, 17, 13, 14, 9, 18, 20, 11, 12, 11, 14, 21, 17, 12, 10, 19, 16, 12, 7, 11, 20, 14, 12, 8, 14, 9, 12, 14, 8, 8, 20, 16, 18, 16, 13, 12, 12, 9, 18, 8, 17, 16, 12, 15, 14, 12, 9, 11, 6, 20, 17, 14, 15, 9, 9, 10, 9, 15, 17, 14, 12, 13, 22, 16, 16, 15, 8, 16, 10, 16, 15, 13, 18, 16], \"showscale\": true, \"size\": [12.4, 12.85, 11.2, 13.5, 14.7, 15.95, 20.0, 10.15, 18.7, 10.25, 10.0, 11.8, 15.65, 15.55, 13.85, 16.65, 14.0, 16.45, 14.05, 13.9, 16.45, 19.0, 15.95, 14.55, 9.5, 10.75, 11.35, 12.3, 18.25, 7.65, 9.25, 11.75, 12.5, 9.1, 11.3, 11.15, 16.7, 12.1, 9.2, 10.0, 12.7, 13.75, 16.8, 16.65, 11.95, 12.7, 13.7, 11.95, 14.5, 12.35, 16.75, 8.85, 16.7, 17.0, 18.2, 8.3, 12.8, 10.0, 15.1, 12.1, 13.35, 9.75, 12.8, 9.95, 11.4, 10.25, 11.1, 9.7, 15.1, 14.55, 10.95, 13.9, 11.85, 10.35, 11.65, 10.3, 9.85, 8.0, 10.2, 6.25, 12.45, 9.65, 11.55, 14.95, 10.55, 12.5, 9.8, 9.25, 10.95, 8.15, 10.5, 8.05, 10.4, 15.5, 6.75, 13.7]}, \"mode\": \"markers\", \"text\": [\"Player: SR Tendulkar\\u00a0<br>Country: INDIA<br>Runs: 15921<br>Highest Score: 248<br>\", \"Player: RT Ponting\\u00a0<br>Country: AUS<br>Runs: 13378<br>Highest Score: 257<br>\", \"Player: JH Kallis\\u00a0<br>Country: SA<br>Runs: 13289<br>Highest Score: 224<br>\", \"Player: R Dravid\\u00a0<br>Country: INDIA<br>Runs: 13288<br>Highest Score: 270<br>\", \"Player: AN Cook\\u00a0<br>Country: ENG<br>Runs: 12472<br>Highest Score: 294<br>\", \"Player: KC Sangakkara\\u00a0<br>Country: SL<br>Runs: 12400<br>Highest Score: 319<br>\", \"Player: BC Lara\\u00a0<br>Country: WI<br>Runs: 11953<br>Highest Score: 400<br>\", \"Player: S Chanderpaul\\u00a0<br>Country: WI<br>Runs: 11867<br>Highest Score: 203<br>\", \"Player: DPMD Jayawardene\\u00a0<br>Country: SL<br>Runs: 11814<br>Highest Score: 374<br>\", \"Player: AR Border\\u00a0<br>Country: AUS<br>Runs: 11174<br>Highest Score: 205<br>\", \"Player: SR Waugh\\u00a0<br>Country: AUS<br>Runs: 10927<br>Highest Score: 200<br>\", \"Player: SM Gavaskar\\u00a0<br>Country: INDIA<br>Runs: 10122<br>Highest Score: 236<br>\", \"Player: Younis Khan\\u00a0<br>Country: PAK<br>Runs: 10099<br>Highest Score: 313<br>\", \"Player: HM Amla\\u00a0<br>Country: SA<br>Runs: 9282<br>Highest Score: 311<br>\", \"Player: GC Smith\\u00a0<br>Country: SA<br>Runs: 9265<br>Highest Score: 277<br>\", \"Player: GA Gooch\\u00a0<br>Country: ENG<br>Runs: 8900<br>Highest Score: 333<br>\", \"Player: Javed Miandad\\u00a0<br>Country: PAK<br>Runs: 8832<br>Highest Score: 280<br>\", \"Player: Inzamam-ul-Haq\\u00a0<br>Country: PAK<br>Runs: 8830<br>Highest Score: 329<br>\", \"Player: VVS Laxman\\u00a0<br>Country: INDIA<br>Runs: 8781<br>Highest Score: 281<br>\", \"Player: AB de Villiers\\u00a0<br>Country: SA<br>Runs: 8765<br>Highest Score: 278<br>\", \"Player: MJ Clarke\\u00a0<br>Country: AUS<br>Runs: 8643<br>Highest Score: 329<br>\", \"Player: ML Hayden\\u00a0<br>Country: AUS<br>Runs: 8625<br>Highest Score: 380<br>\", \"Player: V Sehwag\\u00a0<br>Country: INDIA<br>Runs: 8586<br>Highest Score: 319<br>\", \"Player: IVA Richards\\u00a0<br>Country: WI<br>Runs: 8540<br>Highest Score: 291<br>\", \"Player: AJ Stewart\\u00a0<br>Country: ENG<br>Runs: 8463<br>Highest Score: 190<br>\", \"Player: DI Gower\\u00a0<br>Country: ENG<br>Runs: 8231<br>Highest Score: 215<br>\", \"Player: KP Pietersen\\u00a0<br>Country: ENG<br>Runs: 8181<br>Highest Score: 227<br>\", \"Player: G Boycott\\u00a0<br>Country: ENG<br>Runs: 8114<br>Highest Score: 246<br>\", \"Player: GS Sobers\\u00a0<br>Country: WI<br>Runs: 8032<br>Highest Score: 365<br>\", \"Player: ME Waugh\\u00a0<br>Country: AUS<br>Runs: 8029<br>Highest Score: 153<br>\", \"Player: MA Atherton\\u00a0<br>Country: ENG<br>Runs: 7728<br>Highest Score: 185<br>\", \"Player: IR Bell\\u00a0<br>Country: ENG<br>Runs: 7727<br>Highest Score: 235<br>\", \"Player: JL Langer\\u00a0<br>Country: AUS<br>Runs: 7696<br>Highest Score: 250<br>\", \"Player: MC Cowdrey\\u00a0<br>Country: ENG<br>Runs: 7624<br>Highest Score: 182<br>\", \"Player: CG Greenidge\\u00a0<br>Country: WI<br>Runs: 7558<br>Highest Score: 226<br>\", \"Player: Mohammad Yousuf\\u00a0<br>Country: PAK<br>Runs: 7530<br>Highest Score: 223<br>\", \"Player: MA Taylor\\u00a0<br>Country: AUS<br>Runs: 7525<br>Highest Score: 334<br>\", \"Player: CH Lloyd\\u00a0<br>Country: WI<br>Runs: 7515<br>Highest Score: 242<br>\", \"Player: DL Haynes\\u00a0<br>Country: WI<br>Runs: 7487<br>Highest Score: 184<br>\", \"Player: DC Boon\\u00a0<br>Country: AUS<br>Runs: 7422<br>Highest Score: 200<br>\", \"Player: JE Root\\u00a0<br>Country: ENG<br>Runs: 7359<br>Highest Score: 254<br>\", \"Player: G Kirsten\\u00a0<br>Country: SA<br>Runs: 7289<br>Highest Score: 275<br>\", \"Player: WR Hammond\\u00a0<br>Country: ENG<br>Runs: 7249<br>Highest Score: 336<br>\", \"Player: CH Gayle\\u00a0<br>Country: WI<br>Runs: 7214<br>Highest Score: 333<br>\", \"Player: SC Ganguly\\u00a0<br>Country: INDIA<br>Runs: 7212<br>Highest Score: 239<br>\", \"Player: V Kohli\\u00a0<br>Country: INDIA<br>Runs: 7202<br>Highest Score: 254<br>\", \"Player: SP Fleming\\u00a0<br>Country: NZ<br>Runs: 7172<br>Highest Score: 274<br>\", \"Player: SPD Smith\\u00a0<br>Country: AUS<br>Runs: 7164<br>Highest Score: 239<br>\", \"Player: LRPL Taylor\\u00a0<br>Country: NZ<br>Runs: 7130<br>Highest Score: 290<br>\", \"Player: GS Chappell\\u00a0<br>Country: AUS<br>Runs: 7110<br>Highest Score: 247<br>\", \"Player: DA Warner\\u00a0<br>Country: AUS<br>Runs: 7088<br>Highest Score: 335<br>\", \"Player: AJ Strauss\\u00a0<br>Country: ENG<br>Runs: 7037<br>Highest Score: 177<br>\", \"Player: DG Bradman\\u00a0<br>Country: AUS<br>Runs: 6996<br>Highest Score: 334<br>\", \"Player: ST Jayasuriya\\u00a0<br>Country: SL<br>Runs: 6973<br>Highest Score: 340<br>\", \"Player: L Hutton\\u00a0<br>Country: ENG<br>Runs: 6971<br>Highest Score: 364<br>\", \"Player: DB Vengsarkar\\u00a0<br>Country: INDIA<br>Runs: 6868<br>Highest Score: 166<br>\", \"Player: KF Barrington\\u00a0<br>Country: ENG<br>Runs: 6806<br>Highest Score: 256<br>\", \"Player: GP Thorpe\\u00a0<br>Country: ENG<br>Runs: 6744<br>Highest Score: 200<br>\", \"Player: BB McCullum\\u00a0<br>Country: NZ<br>Runs: 6453<br>Highest Score: 302<br>\", \"Player: KS Williamson\\u00a0<br>Country: NZ<br>Runs: 6379<br>Highest Score: 242<br>\", \"Player: PA de Silva\\u00a0<br>Country: SL<br>Runs: 6361<br>Highest Score: 267<br>\", \"Player: MEK Hussey\\u00a0<br>Country: AUS<br>Runs: 6235<br>Highest Score: 195<br>\", \"Player: RB Kanhai\\u00a0<br>Country: WI<br>Runs: 6227<br>Highest Score: 256<br>\", \"Player: M Azharuddin\\u00a0<br>Country: INDIA<br>Runs: 6215<br>Highest Score: 199<br>\", \"Player: HH Gibbs\\u00a0<br>Country: SA<br>Runs: 6167<br>Highest Score: 228<br>\", \"Player: RN Harvey\\u00a0<br>Country: AUS<br>Runs: 6149<br>Highest Score: 205<br>\", \"Player: GR Viswanath\\u00a0<br>Country: INDIA<br>Runs: 6080<br>Highest Score: 222<br>\", \"Player: RB Richardson\\u00a0<br>Country: WI<br>Runs: 5949<br>Highest Score: 194<br>\", \"Player: Azhar Ali\\u00a0<br>Country: PAK<br>Runs: 5885<br>Highest Score: 302<br>\", \"Player: RR Sarwan\\u00a0<br>Country: WI<br>Runs: 5842<br>Highest Score: 291<br>\", \"Player: ME Trescothick\\u00a0<br>Country: ENG<br>Runs: 5825<br>Highest Score: 219<br>\", \"Player: DCS Compton\\u00a0<br>Country: ENG<br>Runs: 5807<br>Highest Score: 278<br>\", \"Player: Saleem Malik\\u00a0<br>Country: PAK<br>Runs: 5768<br>Highest Score: 237<br>\", \"Player: N Hussain\\u00a0<br>Country: ENG<br>Runs: 5764<br>Highest Score: 207<br>\", \"Player: CL Hooper\\u00a0<br>Country: WI<br>Runs: 5762<br>Highest Score: 233<br>\", \"Player: CA Pujara\\u00a0<br>Country: INDIA<br>Runs: 5740<br>Highest Score: 206<br>\", \"Player: MP Vaughan\\u00a0<br>Country: ENG<br>Runs: 5719<br>Highest Score: 197<br>\", \"Player: AD Mathews\\u00a0<br>Country: SL<br>Runs: 5704<br>Highest Score: 160<br>\", \"Player: AC Gilchrist\\u00a0<br>Country: AUS<br>Runs: 5570<br>Highest Score: 204<br>\", \"Player: MV Boucher\\u00a0<br>Country: SA<br>Runs: 5515<br>Highest Score: 125<br>\", \"Player: MS Atapattu\\u00a0<br>Country: SL<br>Runs: 5502<br>Highest Score: 249<br>\", \"Player: TM Dilshan\\u00a0<br>Country: SL<br>Runs: 5492<br>Highest Score: 193<br>\", \"Player: TT Samaraweera\\u00a0<br>Country: SL<br>Runs: 5462<br>Highest Score: 231<br>\", \"Player: MD Crowe\\u00a0<br>Country: NZ<br>Runs: 5444<br>Highest Score: 299<br>\", \"Player: JB Hobbs\\u00a0<br>Country: ENG<br>Runs: 5410<br>Highest Score: 211<br>\", \"Player: KD Walters\\u00a0<br>Country: AUS<br>Runs: 5357<br>Highest Score: 250<br>\", \"Player: IM Chappell\\u00a0<br>Country: AUS<br>Runs: 5345<br>Highest Score: 196<br>\", \"Player: JG Wright\\u00a0<br>Country: NZ<br>Runs: 5334<br>Highest Score: 185<br>\", \"Player: MJ Slater\\u00a0<br>Country: AUS<br>Runs: 5312<br>Highest Score: 219<br>\", \"Player: N Kapil Dev\\u00a0<br>Country: INDIA<br>Runs: 5248<br>Highest Score: 163<br>\", \"Player: WM Lawry\\u00a0<br>Country: AUS<br>Runs: 5234<br>Highest Score: 210<br>\", \"Player: Misbah-ul-Haq\\u00a0<br>Country: PAK<br>Runs: 5222<br>Highest Score: 161<br>\", \"Player: IT Botham\\u00a0<br>Country: ENG<br>Runs: 5200<br>Highest Score: 208<br>\", \"Player: JH Edrich\\u00a0<br>Country: ENG<br>Runs: 5138<br>Highest Score: 310<br>\", \"Player: A Ranatunga\\u00a0<br>Country: SL<br>Runs: 5105<br>Highest Score: 135<br>\", \"Player: Zaheer Abbas\\u00a0<br>Country: PAK<br>Runs: 5062<br>Highest Score: 274<br>\"], \"type\": \"scatter\", \"x\": [329, 287, 280, 286, 291, 233, 232, 280, 252, 265, 260, 214, 213, 215, 205, 215, 189, 200, 225, 191, 198, 184, 180, 182, 235, 204, 181, 193, 160, 209, 212, 205, 182, 188, 185, 156, 186, 175, 202, 190, 164, 176, 140, 182, 188, 141, 189, 130, 173, 151, 153, 178, 80, 188, 138, 185, 131, 179, 176, 137, 159, 137, 137, 147, 154, 137, 155, 146, 146, 154, 143, 131, 154, 171, 173, 124, 147, 151, 137, 206, 156, 145, 132, 131, 102, 125, 136, 148, 131, 184, 123, 132, 161, 127, 155, 124], \"y\": [15921, 13378, 13289, 13288, 12472, 12400, 11953, 11867, 11814, 11174, 10927, 10122, 10099, 9282, 9265, 8900, 8832, 8830, 8781, 8765, 8643, 8625, 8586, 8540, 8463, 8231, 8181, 8114, 8032, 8029, 7728, 7727, 7696, 7624, 7558, 7530, 7525, 7515, 7487, 7422, 7359, 7289, 7249, 7214, 7212, 7202, 7172, 7164, 7130, 7110, 7088, 7037, 6996, 6973, 6971, 6868, 6806, 6744, 6453, 6379, 6361, 6235, 6227, 6215, 6167, 6149, 6080, 5949, 5885, 5842, 5825, 5807, 5768, 5764, 5762, 5740, 5719, 5704, 5570, 5515, 5502, 5492, 5462, 5444, 5410, 5357, 5345, 5334, 5312, 5248, 5234, 5222, 5200, 5138, 5105, 5062]}],\n",
       "                        {\"template\": {\"data\": {\"bar\": [{\"error_x\": {\"color\": \"#2a3f5f\"}, \"error_y\": {\"color\": \"#2a3f5f\"}, \"marker\": {\"line\": {\"color\": \"#E5ECF6\", \"width\": 0.5}}, \"type\": \"bar\"}], \"barpolar\": [{\"marker\": {\"line\": {\"color\": \"#E5ECF6\", \"width\": 0.5}}, \"type\": \"barpolar\"}], \"carpet\": [{\"aaxis\": {\"endlinecolor\": \"#2a3f5f\", \"gridcolor\": \"white\", \"linecolor\": \"white\", \"minorgridcolor\": \"white\", \"startlinecolor\": \"#2a3f5f\"}, \"baxis\": {\"endlinecolor\": \"#2a3f5f\", \"gridcolor\": \"white\", \"linecolor\": \"white\", \"minorgridcolor\": \"white\", \"startlinecolor\": \"#2a3f5f\"}, \"type\": \"carpet\"}], \"choropleth\": [{\"colorbar\": {\"outlinewidth\": 0, \"ticks\": \"\"}, \"type\": \"choropleth\"}], \"contour\": [{\"colorbar\": {\"outlinewidth\": 0, \"ticks\": \"\"}, \"colorscale\": [[0.0, \"#0d0887\"], [0.1111111111111111, \"#46039f\"], [0.2222222222222222, \"#7201a8\"], [0.3333333333333333, \"#9c179e\"], [0.4444444444444444, \"#bd3786\"], [0.5555555555555556, \"#d8576b\"], [0.6666666666666666, \"#ed7953\"], [0.7777777777777778, \"#fb9f3a\"], [0.8888888888888888, \"#fdca26\"], [1.0, \"#f0f921\"]], \"type\": \"contour\"}], \"contourcarpet\": [{\"colorbar\": {\"outlinewidth\": 0, \"ticks\": \"\"}, \"type\": \"contourcarpet\"}], \"heatmap\": [{\"colorbar\": {\"outlinewidth\": 0, \"ticks\": \"\"}, \"colorscale\": [[0.0, \"#0d0887\"], [0.1111111111111111, \"#46039f\"], [0.2222222222222222, \"#7201a8\"], [0.3333333333333333, \"#9c179e\"], [0.4444444444444444, \"#bd3786\"], [0.5555555555555556, \"#d8576b\"], [0.6666666666666666, \"#ed7953\"], [0.7777777777777778, \"#fb9f3a\"], [0.8888888888888888, \"#fdca26\"], [1.0, \"#f0f921\"]], \"type\": \"heatmap\"}], \"heatmapgl\": [{\"colorbar\": {\"outlinewidth\": 0, \"ticks\": \"\"}, \"colorscale\": [[0.0, \"#0d0887\"], [0.1111111111111111, \"#46039f\"], [0.2222222222222222, \"#7201a8\"], [0.3333333333333333, \"#9c179e\"], [0.4444444444444444, \"#bd3786\"], [0.5555555555555556, \"#d8576b\"], [0.6666666666666666, \"#ed7953\"], [0.7777777777777778, \"#fb9f3a\"], [0.8888888888888888, \"#fdca26\"], [1.0, \"#f0f921\"]], \"type\": \"heatmapgl\"}], \"histogram\": [{\"marker\": {\"colorbar\": {\"outlinewidth\": 0, \"ticks\": \"\"}}, \"type\": \"histogram\"}], \"histogram2d\": [{\"colorbar\": {\"outlinewidth\": 0, \"ticks\": \"\"}, \"colorscale\": [[0.0, \"#0d0887\"], [0.1111111111111111, \"#46039f\"], [0.2222222222222222, \"#7201a8\"], [0.3333333333333333, \"#9c179e\"], [0.4444444444444444, \"#bd3786\"], [0.5555555555555556, \"#d8576b\"], [0.6666666666666666, \"#ed7953\"], [0.7777777777777778, \"#fb9f3a\"], [0.8888888888888888, \"#fdca26\"], [1.0, \"#f0f921\"]], \"type\": \"histogram2d\"}], \"histogram2dcontour\": [{\"colorbar\": {\"outlinewidth\": 0, \"ticks\": \"\"}, \"colorscale\": [[0.0, \"#0d0887\"], [0.1111111111111111, \"#46039f\"], [0.2222222222222222, \"#7201a8\"], [0.3333333333333333, \"#9c179e\"], [0.4444444444444444, \"#bd3786\"], [0.5555555555555556, \"#d8576b\"], [0.6666666666666666, \"#ed7953\"], [0.7777777777777778, \"#fb9f3a\"], [0.8888888888888888, \"#fdca26\"], [1.0, \"#f0f921\"]], \"type\": \"histogram2dcontour\"}], \"mesh3d\": [{\"colorbar\": {\"outlinewidth\": 0, \"ticks\": \"\"}, \"type\": \"mesh3d\"}], \"parcoords\": [{\"line\": {\"colorbar\": {\"outlinewidth\": 0, \"ticks\": \"\"}}, \"type\": \"parcoords\"}], \"pie\": [{\"automargin\": true, \"type\": \"pie\"}], \"scatter\": [{\"marker\": {\"colorbar\": {\"outlinewidth\": 0, \"ticks\": \"\"}}, \"type\": \"scatter\"}], \"scatter3d\": [{\"line\": {\"colorbar\": {\"outlinewidth\": 0, \"ticks\": \"\"}}, \"marker\": {\"colorbar\": {\"outlinewidth\": 0, \"ticks\": \"\"}}, \"type\": \"scatter3d\"}], \"scattercarpet\": [{\"marker\": {\"colorbar\": {\"outlinewidth\": 0, \"ticks\": \"\"}}, \"type\": \"scattercarpet\"}], \"scattergeo\": [{\"marker\": {\"colorbar\": {\"outlinewidth\": 0, \"ticks\": \"\"}}, \"type\": \"scattergeo\"}], \"scattergl\": [{\"marker\": {\"colorbar\": {\"outlinewidth\": 0, \"ticks\": \"\"}}, \"type\": \"scattergl\"}], \"scattermapbox\": [{\"marker\": {\"colorbar\": {\"outlinewidth\": 0, \"ticks\": \"\"}}, \"type\": \"scattermapbox\"}], \"scatterpolar\": [{\"marker\": {\"colorbar\": {\"outlinewidth\": 0, \"ticks\": \"\"}}, \"type\": \"scatterpolar\"}], \"scatterpolargl\": [{\"marker\": {\"colorbar\": {\"outlinewidth\": 0, \"ticks\": \"\"}}, \"type\": \"scatterpolargl\"}], \"scatterternary\": [{\"marker\": {\"colorbar\": {\"outlinewidth\": 0, \"ticks\": \"\"}}, \"type\": \"scatterternary\"}], \"surface\": [{\"colorbar\": {\"outlinewidth\": 0, \"ticks\": \"\"}, \"colorscale\": [[0.0, \"#0d0887\"], [0.1111111111111111, \"#46039f\"], [0.2222222222222222, \"#7201a8\"], [0.3333333333333333, \"#9c179e\"], [0.4444444444444444, \"#bd3786\"], [0.5555555555555556, \"#d8576b\"], [0.6666666666666666, \"#ed7953\"], [0.7777777777777778, \"#fb9f3a\"], [0.8888888888888888, \"#fdca26\"], [1.0, \"#f0f921\"]], \"type\": \"surface\"}], \"table\": [{\"cells\": {\"fill\": {\"color\": \"#EBF0F8\"}, \"line\": {\"color\": \"white\"}}, \"header\": {\"fill\": {\"color\": \"#C8D4E3\"}, \"line\": {\"color\": \"white\"}}, \"type\": \"table\"}]}, \"layout\": {\"annotationdefaults\": {\"arrowcolor\": \"#2a3f5f\", \"arrowhead\": 0, \"arrowwidth\": 1}, \"coloraxis\": {\"colorbar\": {\"outlinewidth\": 0, \"ticks\": \"\"}}, \"colorscale\": {\"diverging\": [[0, \"#8e0152\"], [0.1, \"#c51b7d\"], [0.2, \"#de77ae\"], [0.3, \"#f1b6da\"], [0.4, \"#fde0ef\"], [0.5, \"#f7f7f7\"], [0.6, \"#e6f5d0\"], [0.7, \"#b8e186\"], [0.8, \"#7fbc41\"], [0.9, \"#4d9221\"], [1, \"#276419\"]], \"sequential\": [[0.0, \"#0d0887\"], [0.1111111111111111, \"#46039f\"], [0.2222222222222222, \"#7201a8\"], [0.3333333333333333, \"#9c179e\"], [0.4444444444444444, \"#bd3786\"], [0.5555555555555556, \"#d8576b\"], [0.6666666666666666, \"#ed7953\"], [0.7777777777777778, \"#fb9f3a\"], [0.8888888888888888, \"#fdca26\"], [1.0, \"#f0f921\"]], \"sequentialminus\": [[0.0, \"#0d0887\"], [0.1111111111111111, \"#46039f\"], [0.2222222222222222, \"#7201a8\"], [0.3333333333333333, \"#9c179e\"], [0.4444444444444444, \"#bd3786\"], [0.5555555555555556, \"#d8576b\"], [0.6666666666666666, \"#ed7953\"], [0.7777777777777778, \"#fb9f3a\"], [0.8888888888888888, \"#fdca26\"], [1.0, \"#f0f921\"]]}, \"colorway\": [\"#636efa\", \"#EF553B\", \"#00cc96\", \"#ab63fa\", \"#FFA15A\", \"#19d3f3\", \"#FF6692\", \"#B6E880\", \"#FF97FF\", \"#FECB52\"], \"font\": {\"color\": \"#2a3f5f\"}, \"geo\": {\"bgcolor\": \"white\", \"lakecolor\": \"white\", \"landcolor\": \"#E5ECF6\", \"showlakes\": true, \"showland\": true, \"subunitcolor\": \"white\"}, \"hoverlabel\": {\"align\": \"left\"}, \"hovermode\": \"closest\", \"mapbox\": {\"style\": \"light\"}, \"paper_bgcolor\": \"white\", \"plot_bgcolor\": \"#E5ECF6\", \"polar\": {\"angularaxis\": {\"gridcolor\": \"white\", \"linecolor\": \"white\", \"ticks\": \"\"}, \"bgcolor\": \"#E5ECF6\", \"radialaxis\": {\"gridcolor\": \"white\", \"linecolor\": \"white\", \"ticks\": \"\"}}, \"scene\": {\"xaxis\": {\"backgroundcolor\": \"#E5ECF6\", \"gridcolor\": \"white\", \"gridwidth\": 2, \"linecolor\": \"white\", \"showbackground\": true, \"ticks\": \"\", \"zerolinecolor\": \"white\"}, \"yaxis\": {\"backgroundcolor\": \"#E5ECF6\", \"gridcolor\": \"white\", \"gridwidth\": 2, \"linecolor\": \"white\", \"showbackground\": true, \"ticks\": \"\", \"zerolinecolor\": \"white\"}, \"zaxis\": {\"backgroundcolor\": \"#E5ECF6\", \"gridcolor\": \"white\", \"gridwidth\": 2, \"linecolor\": \"white\", \"showbackground\": true, \"ticks\": \"\", \"zerolinecolor\": \"white\"}}, \"shapedefaults\": {\"line\": {\"color\": \"#2a3f5f\"}}, \"ternary\": {\"aaxis\": {\"gridcolor\": \"white\", \"linecolor\": \"white\", \"ticks\": \"\"}, \"baxis\": {\"gridcolor\": \"white\", \"linecolor\": \"white\", \"ticks\": \"\"}, \"bgcolor\": \"#E5ECF6\", \"caxis\": {\"gridcolor\": \"white\", \"linecolor\": \"white\", \"ticks\": \"\"}}, \"title\": {\"x\": 0.05}, \"xaxis\": {\"automargin\": true, \"gridcolor\": \"white\", \"linecolor\": \"white\", \"ticks\": \"\", \"title\": {\"standoff\": 15}, \"zerolinecolor\": \"white\", \"zerolinewidth\": 2}, \"yaxis\": {\"automargin\": true, \"gridcolor\": \"white\", \"linecolor\": \"white\", \"ticks\": \"\", \"title\": {\"standoff\": 15}, \"zerolinecolor\": \"white\", \"zerolinewidth\": 2}}}, \"title\": {\"text\": \"Runs v. Innings\"}, \"xaxis\": {\"title\": {\"text\": \"Innings\"}}, \"yaxis\": {\"title\": {\"text\": \"Runs\"}}},\n",
       "                        {\"responsive\": true}\n",
       "                    ).then(function(){\n",
       "                            \n",
       "var gd = document.getElementById('fe0cb2c3-58ff-4d83-ba87-2362fe73c34f');\n",
       "var x = new MutationObserver(function (mutations, observer) {{\n",
       "        var display = window.getComputedStyle(gd).display;\n",
       "        if (!display || display === 'none') {{\n",
       "            console.log([gd, 'removed!']);\n",
       "            Plotly.purge(gd);\n",
       "            observer.disconnect();\n",
       "        }}\n",
       "}});\n",
       "\n",
       "// Listen for the removal of the full notebook cells\n",
       "var notebookContainer = gd.closest('#notebook-container');\n",
       "if (notebookContainer) {{\n",
       "    x.observe(notebookContainer, {childList: true});\n",
       "}}\n",
       "\n",
       "// Listen for the clearing of the current output cell\n",
       "var outputEl = gd.closest('.output');\n",
       "if (outputEl) {{\n",
       "    x.observe(outputEl, {childList: true});\n",
       "}}\n",
       "\n",
       "                        })\n",
       "                };\n",
       "                });\n",
       "            </script>\n",
       "        </div>"
      ]
     },
     "metadata": {},
     "output_type": "display_data"
    }
   ],
   "source": [
    "runs = []\n",
    "for i in data_filter['Runs']:\n",
    "    runs.append(i)\n",
    "hover_text = []\n",
    "for index, row in data_filter.iterrows():\n",
    "    hover_text.append(('Player: {}<br>'+\\\n",
    "         'Country: {}<br>'+\\\n",
    "        'Runs: {}<br>'+\\\n",
    "        'Highest Score: {}<br>').format(row['Player'], row['Country'],row['Runs'], row['HS']))\n",
    "\n",
    "max_ = data_filter['HS'].max()\n",
    "fig = go.Figure(data=[go.Scatter(\n",
    "    x=data_filter['Inn'], y=runs,\n",
    "    text=hover_text,\n",
    "    mode='markers',\n",
    "    marker=dict(\n",
    "        color=data_filter['Span_Yrs'],\n",
    "        size=20*data_filter['HS']/max_,\n",
    "        showscale = True\n",
    "    )\n",
    ")])\n",
    "\n",
    "fig.update_layout(\n",
    "    title='Runs v. Innings',\n",
    "    xaxis=dict(\n",
    "        title='Innings'\n",
    "    ),\n",
    "    yaxis=dict(\n",
    "        title='Runs'\n",
    "    )\n",
    ")\n",
    "\n",
    "fig.show()"
   ]
  },
  {
   "cell_type": "code",
   "execution_count": 5,
   "metadata": {
    "_kg_hide-input": true
   },
   "outputs": [
    {
     "data": {
      "text/html": [
       "<div>\n",
       "        \n",
       "        \n",
       "            <div id=\"99430cf5-bafa-4465-b388-9f210513df12\" class=\"plotly-graph-div\" style=\"height:525px; width:100%;\"></div>\n",
       "            <script type=\"text/javascript\">\n",
       "                require([\"plotly\"], function(Plotly) {\n",
       "                    window.PLOTLYENV=window.PLOTLYENV || {};\n",
       "                    \n",
       "                if (document.getElementById(\"99430cf5-bafa-4465-b388-9f210513df12\")) {\n",
       "                    Plotly.newPlot(\n",
       "                        '99430cf5-bafa-4465-b388-9f210513df12',\n",
       "                        [{\"marker\": {\"size\": [33, 29, 40, 32, 16, 17, 6, 49, 15, 44, 46, 16, 19, 16, 13, 6, 21, 22, 34, 18, 22, 14, 6, 12, 21, 18, 8, 23, 21, 17, 7, 24, 12, 15, 16, 12, 13, 14, 25, 20, 12, 15, 16, 11, 17, 10, 10, 16, 20, 19, 6, 6, 10, 14, 15, 22, 15, 28, 9, 13, 11, 16, 6, 9, 7, 10, 10, 12, 8, 8, 10, 15, 22, 16, 15, 8, 9, 21, 20, 24, 15, 11, 20, 11, 7, 14, 10, 7, 7, 15, 12, 20, 6, 9, 12, 11]}, \"mode\": \"markers\", \"text\": [\"Player: SR Tendulkar\\u00a0<br>Country: INDIA<br>Tons Per Duck: 3.642857142857143<br>Not Outs: 33<br>\", \"Player: RT Ponting\\u00a0<br>Country: AUS<br>Tons Per Duck: 2.411764705882353<br>Not Outs: 29<br>\", \"Player: JH Kallis\\u00a0<br>Country: SA<br>Tons Per Duck: 2.8125<br>Not Outs: 40<br>\", \"Player: R Dravid\\u00a0<br>Country: INDIA<br>Tons Per Duck: 4.5<br>Not Outs: 32<br>\", \"Player: AN Cook\\u00a0<br>Country: ENG<br>Tons Per Duck: 3.6666666666666665<br>Not Outs: 16<br>\", \"Player: KC Sangakkara\\u00a0<br>Country: SL<br>Tons Per Duck: 3.4545454545454546<br>Not Outs: 17<br>\", \"Player: BC Lara\\u00a0<br>Country: WI<br>Tons Per Duck: 2.0<br>Not Outs: 6<br>\", \"Player: S Chanderpaul\\u00a0<br>Country: WI<br>Tons Per Duck: 2.0<br>Not Outs: 49<br>\", \"Player: DPMD Jayawardene\\u00a0<br>Country: SL<br>Tons Per Duck: 2.2666666666666666<br>Not Outs: 15<br>\", \"Player: AR Border\\u00a0<br>Country: AUS<br>Tons Per Duck: 2.4545454545454546<br>Not Outs: 44<br>\", \"Player: SR Waugh\\u00a0<br>Country: AUS<br>Tons Per Duck: 1.4545454545454546<br>Not Outs: 46<br>\", \"Player: SM Gavaskar\\u00a0<br>Country: INDIA<br>Tons Per Duck: 2.8333333333333335<br>Not Outs: 16<br>\", \"Player: Younis Khan\\u00a0<br>Country: PAK<br>Tons Per Duck: 1.7894736842105263<br>Not Outs: 19<br>\", \"Player: HM Amla\\u00a0<br>Country: SA<br>Tons Per Duck: 2.1538461538461537<br>Not Outs: 16<br>\", \"Player: GC Smith\\u00a0<br>Country: SA<br>Tons Per Duck: 2.4545454545454546<br>Not Outs: 13<br>\", \"Player: GA Gooch\\u00a0<br>Country: ENG<br>Tons Per Duck: 1.5384615384615385<br>Not Outs: 6<br>\", \"Player: Javed Miandad\\u00a0<br>Country: PAK<br>Tons Per Duck: 3.8333333333333335<br>Not Outs: 21<br>\", \"Player: Inzamam-ul-Haq\\u00a0<br>Country: PAK<br>Tons Per Duck: 1.6666666666666667<br>Not Outs: 22<br>\", \"Player: VVS Laxman\\u00a0<br>Country: INDIA<br>Tons Per Duck: 1.2142857142857142<br>Not Outs: 34<br>\", \"Player: AB de Villiers\\u00a0<br>Country: SA<br>Tons Per Duck: 2.75<br>Not Outs: 18<br>\", \"Player: MJ Clarke\\u00a0<br>Country: AUS<br>Tons Per Duck: 3.111111111111111<br>Not Outs: 22<br>\", \"Player: ML Hayden\\u00a0<br>Country: AUS<br>Tons Per Duck: 2.142857142857143<br>Not Outs: 14<br>\", \"Player: V Sehwag\\u00a0<br>Country: INDIA<br>Tons Per Duck: 1.4375<br>Not Outs: 6<br>\", \"Player: IVA Richards\\u00a0<br>Country: WI<br>Tons Per Duck: 2.4<br>Not Outs: 12<br>\", \"Player: AJ Stewart\\u00a0<br>Country: ENG<br>Tons Per Duck: 1.0714285714285714<br>Not Outs: 21<br>\", \"Player: DI Gower\\u00a0<br>Country: ENG<br>Tons Per Duck: 2.5714285714285716<br>Not Outs: 18<br>\", \"Player: KP Pietersen\\u00a0<br>Country: ENG<br>Tons Per Duck: 2.3<br>Not Outs: 8<br>\", \"Player: G Boycott\\u00a0<br>Country: ENG<br>Tons Per Duck: 2.2<br>Not Outs: 23<br>\", \"Player: GS Sobers\\u00a0<br>Country: WI<br>Tons Per Duck: 2.1666666666666665<br>Not Outs: 21<br>\", \"Player: ME Waugh\\u00a0<br>Country: AUS<br>Tons Per Duck: 1.0526315789473684<br>Not Outs: 17<br>\", \"Player: MA Atherton\\u00a0<br>Country: ENG<br>Tons Per Duck: 0.8<br>Not Outs: 7<br>\", \"Player: IR Bell\\u00a0<br>Country: ENG<br>Tons Per Duck: 1.5714285714285714<br>Not Outs: 24<br>\", \"Player: JL Langer\\u00a0<br>Country: AUS<br>Tons Per Duck: 2.090909090909091<br>Not Outs: 12<br>\", \"Player: MC Cowdrey\\u00a0<br>Country: ENG<br>Tons Per Duck: 2.4444444444444446<br>Not Outs: 15<br>\", \"Player: CG Greenidge\\u00a0<br>Country: WI<br>Tons Per Duck: 1.7272727272727273<br>Not Outs: 16<br>\", \"Player: Mohammad Yousuf\\u00a0<br>Country: PAK<br>Tons Per Duck: 2.1818181818181817<br>Not Outs: 12<br>\", \"Player: MA Taylor\\u00a0<br>Country: AUS<br>Tons Per Duck: 3.8<br>Not Outs: 13<br>\", \"Player: CH Lloyd\\u00a0<br>Country: WI<br>Tons Per Duck: 4.75<br>Not Outs: 14<br>\", \"Player: DL Haynes\\u00a0<br>Country: WI<br>Tons Per Duck: 1.8<br>Not Outs: 25<br>\", \"Player: DC Boon\\u00a0<br>Country: AUS<br>Tons Per Duck: 1.3125<br>Not Outs: 20<br>\", \"Player: JE Root\\u00a0<br>Country: ENG<br>Tons Per Duck: 2.125<br>Not Outs: 12<br>\", \"Player: G Kirsten\\u00a0<br>Country: SA<br>Tons Per Duck: 1.6153846153846154<br>Not Outs: 15<br>\", \"Player: WR Hammond\\u00a0<br>Country: ENG<br>Tons Per Duck: 5.5<br>Not Outs: 16<br>\", \"Player: CH Gayle\\u00a0<br>Country: WI<br>Tons Per Duck: 1.0<br>Not Outs: 11<br>\", \"Player: SC Ganguly\\u00a0<br>Country: INDIA<br>Tons Per Duck: 1.2307692307692308<br>Not Outs: 17<br>\", \"Player: V Kohli\\u00a0<br>Country: INDIA<br>Tons Per Duck: 2.7<br>Not Outs: 10<br>\", \"Player: SP Fleming\\u00a0<br>Country: NZ<br>Tons Per Duck: 0.5625<br>Not Outs: 10<br>\", \"Player: SPD Smith\\u00a0<br>Country: AUS<br>Tons Per Duck: 6.5<br>Not Outs: 16<br>\", \"Player: LRPL Taylor\\u00a0<br>Country: NZ<br>Tons Per Duck: 1.3571428571428572<br>Not Outs: 20<br>\", \"Player: GS Chappell\\u00a0<br>Country: AUS<br>Tons Per Duck: 2.0<br>Not Outs: 19<br>\", \"Player: DA Warner\\u00a0<br>Country: AUS<br>Tons Per Duck: 2.5555555555555554<br>Not Outs: 6<br>\", \"Player: AJ Strauss\\u00a0<br>Country: ENG<br>Tons Per Duck: 1.4<br>Not Outs: 6<br>\", \"Player: DG Bradman\\u00a0<br>Country: AUS<br>Tons Per Duck: 4.142857142857143<br>Not Outs: 10<br>\", \"Player: ST Jayasuriya\\u00a0<br>Country: SL<br>Tons Per Duck: 0.9333333333333333<br>Not Outs: 14<br>\", \"Player: L Hutton\\u00a0<br>Country: ENG<br>Tons Per Duck: 3.8<br>Not Outs: 15<br>\", \"Player: DB Vengsarkar\\u00a0<br>Country: INDIA<br>Tons Per Duck: 1.1333333333333333<br>Not Outs: 22<br>\", \"Player: KF Barrington\\u00a0<br>Country: ENG<br>Tons Per Duck: 4.0<br>Not Outs: 15<br>\", \"Player: GP Thorpe\\u00a0<br>Country: ENG<br>Tons Per Duck: 1.3333333333333333<br>Not Outs: 28<br>\", \"Player: BB McCullum\\u00a0<br>Country: NZ<br>Tons Per Duck: 0.8571428571428571<br>Not Outs: 9<br>\", \"Player: KS Williamson\\u00a0<br>Country: NZ<br>Tons Per Duck: 2.3333333333333335<br>Not Outs: 13<br>\", \"Player: PA de Silva\\u00a0<br>Country: SL<br>Tons Per Duck: 2.857142857142857<br>Not Outs: 11<br>\", \"Player: MEK Hussey\\u00a0<br>Country: AUS<br>Tons Per Duck: 1.5833333333333333<br>Not Outs: 16<br>\", \"Player: RB Kanhai\\u00a0<br>Country: WI<br>Tons Per Duck: 2.142857142857143<br>Not Outs: 6<br>\", \"Player: M Azharuddin\\u00a0<br>Country: INDIA<br>Tons Per Duck: 4.4<br>Not Outs: 9<br>\", \"Player: HH Gibbs\\u00a0<br>Country: SA<br>Tons Per Duck: 1.2727272727272727<br>Not Outs: 7<br>\", \"Player: RN Harvey\\u00a0<br>Country: AUS<br>Tons Per Duck: 3.0<br>Not Outs: 10<br>\", \"Player: GR Viswanath\\u00a0<br>Country: INDIA<br>Tons Per Duck: 1.4<br>Not Outs: 10<br>\", \"Player: RB Richardson\\u00a0<br>Country: WI<br>Tons Per Duck: 2.0<br>Not Outs: 12<br>\", \"Player: Azhar Ali\\u00a0<br>Country: PAK<br>Tons Per Duck: 1.1428571428571428<br>Not Outs: 8<br>\", \"Player: RR Sarwan\\u00a0<br>Country: WI<br>Tons Per Duck: 1.25<br>Not Outs: 8<br>\", \"Player: ME Trescothick\\u00a0<br>Country: ENG<br>Tons Per Duck: 1.1666666666666667<br>Not Outs: 10<br>\", \"Player: DCS Compton\\u00a0<br>Country: ENG<br>Tons Per Duck: 1.7<br>Not Outs: 15<br>\", \"Player: Saleem Malik\\u00a0<br>Country: PAK<br>Tons Per Duck: 1.25<br>Not Outs: 22<br>\", \"Player: N Hussain\\u00a0<br>Country: ENG<br>Tons Per Duck: 1.0<br>Not Outs: 16<br>\", \"Player: CL Hooper\\u00a0<br>Country: WI<br>Tons Per Duck: 1.0<br>Not Outs: 15<br>\", \"Player: CA Pujara\\u00a0<br>Country: INDIA<br>Tons Per Duck: 2.5714285714285716<br>Not Outs: 8<br>\", \"Player: MP Vaughan\\u00a0<br>Country: ENG<br>Tons Per Duck: 2.0<br>Not Outs: 9<br>\", \"Player: AD Mathews\\u00a0<br>Country: SL<br>Tons Per Duck: 4.5<br>Not Outs: 21<br>\", \"Player: AC Gilchrist\\u00a0<br>Country: AUS<br>Tons Per Duck: 1.2142857142857142<br>Not Outs: 20<br>\", \"Player: MV Boucher\\u00a0<br>Country: SA<br>Tons Per Duck: 0.29411764705882354<br>Not Outs: 24<br>\", \"Player: MS Atapattu\\u00a0<br>Country: SL<br>Tons Per Duck: 0.7272727272727273<br>Not Outs: 15<br>\", \"Player: TM Dilshan\\u00a0<br>Country: SL<br>Tons Per Duck: 1.1428571428571428<br>Not Outs: 11<br>\", \"Player: TT Samaraweera\\u00a0<br>Country: SL<br>Tons Per Duck: 1.2727272727272727<br>Not Outs: 20<br>\", \"Player: MD Crowe\\u00a0<br>Country: NZ<br>Tons Per Duck: 1.8888888888888888<br>Not Outs: 11<br>\", \"Player: JB Hobbs\\u00a0<br>Country: ENG<br>Tons Per Duck: 3.75<br>Not Outs: 7<br>\", \"Player: KD Walters\\u00a0<br>Country: AUS<br>Tons Per Duck: 3.75<br>Not Outs: 14<br>\", \"Player: IM Chappell\\u00a0<br>Country: AUS<br>Tons Per Duck: 1.2727272727272727<br>Not Outs: 10<br>\", \"Player: JG Wright\\u00a0<br>Country: NZ<br>Tons Per Duck: 1.7142857142857142<br>Not Outs: 7<br>\", \"Player: MJ Slater\\u00a0<br>Country: AUS<br>Tons Per Duck: 1.5555555555555556<br>Not Outs: 7<br>\", \"Player: N Kapil Dev\\u00a0<br>Country: INDIA<br>Tons Per Duck: 0.5<br>Not Outs: 15<br>\", \"Player: WM Lawry\\u00a0<br>Country: AUS<br>Tons Per Duck: 2.1666666666666665<br>Not Outs: 12<br>\", \"Player: Misbah-ul-Haq\\u00a0<br>Country: PAK<br>Tons Per Duck: 1.1111111111111112<br>Not Outs: 20<br>\", \"Player: IT Botham\\u00a0<br>Country: ENG<br>Tons Per Duck: 1.0<br>Not Outs: 6<br>\", \"Player: JH Edrich\\u00a0<br>Country: ENG<br>Tons Per Duck: 2.0<br>Not Outs: 9<br>\", \"Player: A Ranatunga\\u00a0<br>Country: SL<br>Tons Per Duck: 0.3333333333333333<br>Not Outs: 12<br>\", \"Player: Zaheer Abbas\\u00a0<br>Country: PAK<br>Tons Per Duck: 1.2<br>Not Outs: 11<br>\"], \"type\": \"scatter\", \"x\": [329, 287, 280, 286, 291, 233, 232, 280, 252, 265, 260, 214, 213, 215, 205, 215, 189, 200, 225, 191, 198, 184, 180, 182, 235, 204, 181, 193, 160, 209, 212, 205, 182, 188, 185, 156, 186, 175, 202, 190, 164, 176, 140, 182, 188, 141, 189, 130, 173, 151, 153, 178, 80, 188, 138, 185, 131, 179, 176, 137, 159, 137, 137, 147, 154, 137, 155, 146, 146, 154, 143, 131, 154, 171, 173, 124, 147, 151, 137, 206, 156, 145, 132, 131, 102, 125, 136, 148, 131, 184, 123, 132, 161, 127, 155, 124], \"y\": [3.642857142857143, 2.411764705882353, 2.8125, 4.5, 3.6666666666666665, 3.4545454545454546, 2.0, 2.0, 2.2666666666666666, 2.4545454545454546, 1.4545454545454546, 2.8333333333333335, 1.7894736842105263, 2.1538461538461537, 2.4545454545454546, 1.5384615384615385, 3.8333333333333335, 1.6666666666666667, 1.2142857142857142, 2.75, 3.111111111111111, 2.142857142857143, 1.4375, 2.4, 1.0714285714285714, 2.5714285714285716, 2.3, 2.2, 2.1666666666666665, 1.0526315789473684, 0.8, 1.5714285714285714, 2.090909090909091, 2.4444444444444446, 1.7272727272727273, 2.1818181818181817, 3.8, 4.75, 1.8, 1.3125, 2.125, 1.6153846153846154, 5.5, 1.0, 1.2307692307692308, 2.7, 0.5625, 6.5, 1.3571428571428572, 2.0, 2.5555555555555554, 1.4, 4.142857142857143, 0.9333333333333333, 3.8, 1.1333333333333333, 4.0, 1.3333333333333333, 0.8571428571428571, 2.3333333333333335, 2.857142857142857, 1.5833333333333333, 2.142857142857143, 4.4, 1.2727272727272727, 3.0, 1.4, 2.0, 1.1428571428571428, 1.25, 1.1666666666666667, 1.7, 1.25, 1.0, 1.0, 2.5714285714285716, 2.0, 4.5, 1.2142857142857142, 0.29411764705882354, 0.7272727272727273, 1.1428571428571428, 1.2727272727272727, 1.8888888888888888, 3.75, 3.75, 1.2727272727272727, 1.7142857142857142, 1.5555555555555556, 0.5, 2.1666666666666665, 1.1111111111111112, 1.0, 2.0, 0.3333333333333333, 1.2]}],\n",
       "                        {\"template\": {\"data\": {\"bar\": [{\"error_x\": {\"color\": \"#2a3f5f\"}, \"error_y\": {\"color\": \"#2a3f5f\"}, \"marker\": {\"line\": {\"color\": \"#E5ECF6\", \"width\": 0.5}}, \"type\": \"bar\"}], \"barpolar\": [{\"marker\": {\"line\": {\"color\": \"#E5ECF6\", \"width\": 0.5}}, \"type\": \"barpolar\"}], \"carpet\": [{\"aaxis\": {\"endlinecolor\": \"#2a3f5f\", \"gridcolor\": \"white\", \"linecolor\": \"white\", \"minorgridcolor\": \"white\", \"startlinecolor\": \"#2a3f5f\"}, \"baxis\": {\"endlinecolor\": \"#2a3f5f\", \"gridcolor\": \"white\", \"linecolor\": \"white\", \"minorgridcolor\": \"white\", \"startlinecolor\": \"#2a3f5f\"}, \"type\": \"carpet\"}], \"choropleth\": [{\"colorbar\": {\"outlinewidth\": 0, \"ticks\": \"\"}, \"type\": \"choropleth\"}], \"contour\": [{\"colorbar\": {\"outlinewidth\": 0, \"ticks\": \"\"}, \"colorscale\": [[0.0, \"#0d0887\"], [0.1111111111111111, \"#46039f\"], [0.2222222222222222, \"#7201a8\"], [0.3333333333333333, \"#9c179e\"], [0.4444444444444444, \"#bd3786\"], [0.5555555555555556, \"#d8576b\"], [0.6666666666666666, \"#ed7953\"], [0.7777777777777778, \"#fb9f3a\"], [0.8888888888888888, \"#fdca26\"], [1.0, \"#f0f921\"]], \"type\": \"contour\"}], \"contourcarpet\": [{\"colorbar\": {\"outlinewidth\": 0, \"ticks\": \"\"}, \"type\": \"contourcarpet\"}], \"heatmap\": [{\"colorbar\": {\"outlinewidth\": 0, \"ticks\": \"\"}, \"colorscale\": [[0.0, \"#0d0887\"], [0.1111111111111111, \"#46039f\"], [0.2222222222222222, \"#7201a8\"], [0.3333333333333333, \"#9c179e\"], [0.4444444444444444, \"#bd3786\"], [0.5555555555555556, \"#d8576b\"], [0.6666666666666666, \"#ed7953\"], [0.7777777777777778, \"#fb9f3a\"], [0.8888888888888888, \"#fdca26\"], [1.0, \"#f0f921\"]], \"type\": \"heatmap\"}], \"heatmapgl\": [{\"colorbar\": {\"outlinewidth\": 0, \"ticks\": \"\"}, \"colorscale\": [[0.0, \"#0d0887\"], [0.1111111111111111, \"#46039f\"], [0.2222222222222222, \"#7201a8\"], [0.3333333333333333, \"#9c179e\"], [0.4444444444444444, \"#bd3786\"], [0.5555555555555556, \"#d8576b\"], [0.6666666666666666, \"#ed7953\"], [0.7777777777777778, \"#fb9f3a\"], [0.8888888888888888, \"#fdca26\"], [1.0, \"#f0f921\"]], \"type\": \"heatmapgl\"}], \"histogram\": [{\"marker\": {\"colorbar\": {\"outlinewidth\": 0, \"ticks\": \"\"}}, \"type\": \"histogram\"}], \"histogram2d\": [{\"colorbar\": {\"outlinewidth\": 0, \"ticks\": \"\"}, \"colorscale\": [[0.0, \"#0d0887\"], [0.1111111111111111, \"#46039f\"], [0.2222222222222222, \"#7201a8\"], [0.3333333333333333, \"#9c179e\"], [0.4444444444444444, \"#bd3786\"], [0.5555555555555556, \"#d8576b\"], [0.6666666666666666, \"#ed7953\"], [0.7777777777777778, \"#fb9f3a\"], [0.8888888888888888, \"#fdca26\"], [1.0, \"#f0f921\"]], \"type\": \"histogram2d\"}], \"histogram2dcontour\": [{\"colorbar\": {\"outlinewidth\": 0, \"ticks\": \"\"}, \"colorscale\": [[0.0, \"#0d0887\"], [0.1111111111111111, \"#46039f\"], [0.2222222222222222, \"#7201a8\"], [0.3333333333333333, \"#9c179e\"], [0.4444444444444444, \"#bd3786\"], [0.5555555555555556, \"#d8576b\"], [0.6666666666666666, \"#ed7953\"], [0.7777777777777778, \"#fb9f3a\"], [0.8888888888888888, \"#fdca26\"], [1.0, \"#f0f921\"]], \"type\": \"histogram2dcontour\"}], \"mesh3d\": [{\"colorbar\": {\"outlinewidth\": 0, \"ticks\": \"\"}, \"type\": \"mesh3d\"}], \"parcoords\": [{\"line\": {\"colorbar\": {\"outlinewidth\": 0, \"ticks\": \"\"}}, \"type\": \"parcoords\"}], \"pie\": [{\"automargin\": true, \"type\": \"pie\"}], \"scatter\": [{\"marker\": {\"colorbar\": {\"outlinewidth\": 0, \"ticks\": \"\"}}, \"type\": \"scatter\"}], \"scatter3d\": [{\"line\": {\"colorbar\": {\"outlinewidth\": 0, \"ticks\": \"\"}}, \"marker\": {\"colorbar\": {\"outlinewidth\": 0, \"ticks\": \"\"}}, \"type\": \"scatter3d\"}], \"scattercarpet\": [{\"marker\": {\"colorbar\": {\"outlinewidth\": 0, \"ticks\": \"\"}}, \"type\": \"scattercarpet\"}], \"scattergeo\": [{\"marker\": {\"colorbar\": {\"outlinewidth\": 0, \"ticks\": \"\"}}, \"type\": \"scattergeo\"}], \"scattergl\": [{\"marker\": {\"colorbar\": {\"outlinewidth\": 0, \"ticks\": \"\"}}, \"type\": \"scattergl\"}], \"scattermapbox\": [{\"marker\": {\"colorbar\": {\"outlinewidth\": 0, \"ticks\": \"\"}}, \"type\": \"scattermapbox\"}], \"scatterpolar\": [{\"marker\": {\"colorbar\": {\"outlinewidth\": 0, \"ticks\": \"\"}}, \"type\": \"scatterpolar\"}], \"scatterpolargl\": [{\"marker\": {\"colorbar\": {\"outlinewidth\": 0, \"ticks\": \"\"}}, \"type\": \"scatterpolargl\"}], \"scatterternary\": [{\"marker\": {\"colorbar\": {\"outlinewidth\": 0, \"ticks\": \"\"}}, \"type\": \"scatterternary\"}], \"surface\": [{\"colorbar\": {\"outlinewidth\": 0, \"ticks\": \"\"}, \"colorscale\": [[0.0, \"#0d0887\"], [0.1111111111111111, \"#46039f\"], [0.2222222222222222, \"#7201a8\"], [0.3333333333333333, \"#9c179e\"], [0.4444444444444444, \"#bd3786\"], [0.5555555555555556, \"#d8576b\"], [0.6666666666666666, \"#ed7953\"], [0.7777777777777778, \"#fb9f3a\"], [0.8888888888888888, \"#fdca26\"], [1.0, \"#f0f921\"]], \"type\": \"surface\"}], \"table\": [{\"cells\": {\"fill\": {\"color\": \"#EBF0F8\"}, \"line\": {\"color\": \"white\"}}, \"header\": {\"fill\": {\"color\": \"#C8D4E3\"}, \"line\": {\"color\": \"white\"}}, \"type\": \"table\"}]}, \"layout\": {\"annotationdefaults\": {\"arrowcolor\": \"#2a3f5f\", \"arrowhead\": 0, \"arrowwidth\": 1}, \"coloraxis\": {\"colorbar\": {\"outlinewidth\": 0, \"ticks\": \"\"}}, \"colorscale\": {\"diverging\": [[0, \"#8e0152\"], [0.1, \"#c51b7d\"], [0.2, \"#de77ae\"], [0.3, \"#f1b6da\"], [0.4, \"#fde0ef\"], [0.5, \"#f7f7f7\"], [0.6, \"#e6f5d0\"], [0.7, \"#b8e186\"], [0.8, \"#7fbc41\"], [0.9, \"#4d9221\"], [1, \"#276419\"]], \"sequential\": [[0.0, \"#0d0887\"], [0.1111111111111111, \"#46039f\"], [0.2222222222222222, \"#7201a8\"], [0.3333333333333333, \"#9c179e\"], [0.4444444444444444, \"#bd3786\"], [0.5555555555555556, \"#d8576b\"], [0.6666666666666666, \"#ed7953\"], [0.7777777777777778, \"#fb9f3a\"], [0.8888888888888888, \"#fdca26\"], [1.0, \"#f0f921\"]], \"sequentialminus\": [[0.0, \"#0d0887\"], [0.1111111111111111, \"#46039f\"], [0.2222222222222222, \"#7201a8\"], [0.3333333333333333, \"#9c179e\"], [0.4444444444444444, \"#bd3786\"], [0.5555555555555556, \"#d8576b\"], [0.6666666666666666, \"#ed7953\"], [0.7777777777777778, \"#fb9f3a\"], [0.8888888888888888, \"#fdca26\"], [1.0, \"#f0f921\"]]}, \"colorway\": [\"#636efa\", \"#EF553B\", \"#00cc96\", \"#ab63fa\", \"#FFA15A\", \"#19d3f3\", \"#FF6692\", \"#B6E880\", \"#FF97FF\", \"#FECB52\"], \"font\": {\"color\": \"#2a3f5f\"}, \"geo\": {\"bgcolor\": \"white\", \"lakecolor\": \"white\", \"landcolor\": \"#E5ECF6\", \"showlakes\": true, \"showland\": true, \"subunitcolor\": \"white\"}, \"hoverlabel\": {\"align\": \"left\"}, \"hovermode\": \"closest\", \"mapbox\": {\"style\": \"light\"}, \"paper_bgcolor\": \"white\", \"plot_bgcolor\": \"#E5ECF6\", \"polar\": {\"angularaxis\": {\"gridcolor\": \"white\", \"linecolor\": \"white\", \"ticks\": \"\"}, \"bgcolor\": \"#E5ECF6\", \"radialaxis\": {\"gridcolor\": \"white\", \"linecolor\": \"white\", \"ticks\": \"\"}}, \"scene\": {\"xaxis\": {\"backgroundcolor\": \"#E5ECF6\", \"gridcolor\": \"white\", \"gridwidth\": 2, \"linecolor\": \"white\", \"showbackground\": true, \"ticks\": \"\", \"zerolinecolor\": \"white\"}, \"yaxis\": {\"backgroundcolor\": \"#E5ECF6\", \"gridcolor\": \"white\", \"gridwidth\": 2, \"linecolor\": \"white\", \"showbackground\": true, \"ticks\": \"\", \"zerolinecolor\": \"white\"}, \"zaxis\": {\"backgroundcolor\": \"#E5ECF6\", \"gridcolor\": \"white\", \"gridwidth\": 2, \"linecolor\": \"white\", \"showbackground\": true, \"ticks\": \"\", \"zerolinecolor\": \"white\"}}, \"shapedefaults\": {\"line\": {\"color\": \"#2a3f5f\"}}, \"ternary\": {\"aaxis\": {\"gridcolor\": \"white\", \"linecolor\": \"white\", \"ticks\": \"\"}, \"baxis\": {\"gridcolor\": \"white\", \"linecolor\": \"white\", \"ticks\": \"\"}, \"bgcolor\": \"#E5ECF6\", \"caxis\": {\"gridcolor\": \"white\", \"linecolor\": \"white\", \"ticks\": \"\"}}, \"title\": {\"x\": 0.05}, \"xaxis\": {\"automargin\": true, \"gridcolor\": \"white\", \"linecolor\": \"white\", \"ticks\": \"\", \"title\": {\"standoff\": 15}, \"zerolinecolor\": \"white\", \"zerolinewidth\": 2}, \"yaxis\": {\"automargin\": true, \"gridcolor\": \"white\", \"linecolor\": \"white\", \"ticks\": \"\", \"title\": {\"standoff\": 15}, \"zerolinecolor\": \"white\", \"zerolinewidth\": 2}}}, \"title\": {\"text\": \"Tons/Ducks v. Innings\"}, \"xaxis\": {\"title\": {\"text\": \"Innings\"}}, \"yaxis\": {\"title\": {\"text\": \"Tons/Ducks\"}}},\n",
       "                        {\"responsive\": true}\n",
       "                    ).then(function(){\n",
       "                            \n",
       "var gd = document.getElementById('99430cf5-bafa-4465-b388-9f210513df12');\n",
       "var x = new MutationObserver(function (mutations, observer) {{\n",
       "        var display = window.getComputedStyle(gd).display;\n",
       "        if (!display || display === 'none') {{\n",
       "            console.log([gd, 'removed!']);\n",
       "            Plotly.purge(gd);\n",
       "            observer.disconnect();\n",
       "        }}\n",
       "}});\n",
       "\n",
       "// Listen for the removal of the full notebook cells\n",
       "var notebookContainer = gd.closest('#notebook-container');\n",
       "if (notebookContainer) {{\n",
       "    x.observe(notebookContainer, {childList: true});\n",
       "}}\n",
       "\n",
       "// Listen for the clearing of the current output cell\n",
       "var outputEl = gd.closest('.output');\n",
       "if (outputEl) {{\n",
       "    x.observe(outputEl, {childList: true});\n",
       "}}\n",
       "\n",
       "                        })\n",
       "                };\n",
       "                });\n",
       "            </script>\n",
       "        </div>"
      ]
     },
     "metadata": {},
     "output_type": "display_data"
    }
   ],
   "source": [
    "hover_text = []\n",
    "for index, row in data_filter.iterrows():\n",
    "    hover_text.append(('Player: {}<br>'+\\\n",
    "         'Country: {}<br>'+\\\n",
    "        'Tons Per Duck: {}<br>'+\\\n",
    "        'Not Outs: {}<br>').format(row['Player'], row['Country'],row['100']/row['0'] ,row['NO']))\n",
    "fig = go.Figure(data=[go.Scatter(\n",
    "    x=data_filter['Inn'], y=data_filter['100']/data_filter['0'],\n",
    "    text=hover_text,\n",
    "    mode='markers',\n",
    "    marker=dict(\n",
    "        size=data_filter['NO'],\n",
    "    )\n",
    ")])\n",
    "\n",
    "fig.update_layout(\n",
    "    title='Tons/Ducks v. Innings',\n",
    "    xaxis=dict(\n",
    "        title='Innings'\n",
    "    ),\n",
    "    yaxis=dict(\n",
    "        title='Tons/Ducks'\n",
    "    )\n",
    ")\n",
    "\n",
    "fig.show()"
   ]
  }
 ],
 "metadata": {
  "kernelspec": {
   "display_name": "Python 3",
   "language": "python",
   "name": "python3"
  },
  "language_info": {
   "codemirror_mode": {
    "name": "ipython",
    "version": 3
   },
   "file_extension": ".py",
   "mimetype": "text/x-python",
   "name": "python",
   "nbconvert_exporter": "python",
   "pygments_lexer": "ipython3",
   "version": "3.6.6"
  }
 },
 "nbformat": 4,
 "nbformat_minor": 1
}
