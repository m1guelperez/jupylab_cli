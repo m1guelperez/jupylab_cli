{
 "cells": [
  {
   "cell_type": "code",
   "execution_count": 1,
   "metadata": {
    "_cell_guid": "b1076dfc-b9ad-4769-8c92-a6c4dae69d19",
    "_uuid": "8f2839f25d086af736a60e9eeb907d3b93b6e0e5",
    "execution": {
     "iopub.execute_input": "2020-08-28T09:14:06.959985Z",
     "iopub.status.busy": "2020-08-28T09:14:06.959000Z",
     "iopub.status.idle": "2020-08-28T09:14:06.962818Z",
     "shell.execute_reply": "2020-08-28T09:14:06.961733Z"
    },
    "papermill": {
     "duration": 0.017566,
     "end_time": "2020-08-28T09:14:06.962988",
     "exception": false,
     "start_time": "2020-08-28T09:14:06.945422",
     "status": "completed"
    },
    "tags": []
   },
   "outputs": [],
   "source": [
    "import matplotlib.pyplot as plt"
   ]
  },
  {
   "cell_type": "markdown",
   "execution_count": null,
   "metadata": {
    "papermill": {
     "duration": 0.007834,
     "end_time": "2020-08-28T09:14:06.979397",
     "exception": false,
     "start_time": "2020-08-28T09:14:06.971563",
     "status": "completed"
    },
    "tags": []
   },
   "source": [
    "Store blood group of 50 different patients (O+,A+,B+,AB+,O-,A-,B-,AB-). Graphically show how mnay patients have O- blood group."
   ]
  },
  {
   "cell_type": "code",
   "execution_count": 2,
   "metadata": {
    "execution": {
     "iopub.execute_input": "2020-08-28T09:14:07.004917Z",
     "iopub.status.busy": "2020-08-28T09:14:07.003978Z",
     "iopub.status.idle": "2020-08-28T09:14:07.266689Z",
     "shell.execute_reply": "2020-08-28T09:14:07.265709Z"
    },
    "papermill": {
     "duration": 0.2796,
     "end_time": "2020-08-28T09:14:07.266857",
     "exception": false,
     "start_time": "2020-08-28T09:14:06.987257",
     "status": "completed"
    },
    "tags": []
   },
   "outputs": [
    {
     "data": {
      "text/plain": [
       "Text(0, 0.5, 'Y-axis')"
      ]
     },
     "execution_count": 2,
     "metadata": {},
     "output_type": "execute_result"
    },
    {
     "data": {
      "image/png": "[encoded data removed]",
      "text/plain": [
       "<Figure size 432x288 with 1 Axes>"
      ]
     },
     "metadata": {
      "needs_background": "light"
     },
     "output_type": "display_data"
    }
   ],
   "source": [
    "bg=['O+','A+','B+','AB+','O-','A-','B-','AB-']\n",
    "no=[12,11,2,15,22,14,34,21]\n",
    "plt.bar(bg,no,color=['red','red','red','red','black','red','red','red'])\n",
    "plt.title('BLOOD GROUP')\n",
    "plt.xlabel('X-axis')\n",
    "plt.ylabel(\"Y-axis\")"
   ]
  },
  {
   "cell_type": "markdown",
   "execution_count": null,
   "metadata": {
    "papermill": {
     "duration": 0.00701,
     "end_time": "2020-08-28T09:14:07.282484",
     "exception": false,
     "start_time": "2020-08-28T09:14:07.275474",
     "status": "completed"
    },
    "tags": []
   },
   "source": [
    "For a certain student Store data of marks obtained by the student in English, Bengali, Hindi, Maths, History and Geography. Graphically represent the data in a pie chart and bring out the slice having least marks. ( No subject should have same marks).\n"
   ]
  },
  {
   "cell_type": "code",
   "execution_count": 3,
   "metadata": {
    "_cell_guid": "79c7e3d0-c299-4dcb-8224-4455121ee9b0",
    "_uuid": "d629ff2d2480ee46fbb7e2d37f6b5fab8052498a",
    "execution": {
     "iopub.execute_input": "2020-08-28T09:14:07.304273Z",
     "iopub.status.busy": "2020-08-28T09:14:07.303449Z",
     "iopub.status.idle": "2020-08-28T09:14:07.306325Z",
     "shell.execute_reply": "2020-08-28T09:14:07.306931Z"
    },
    "papermill": {
     "duration": 0.016021,
     "end_time": "2020-08-28T09:14:07.307078",
     "exception": false,
     "start_time": "2020-08-28T09:14:07.291057",
     "status": "completed"
    },
    "tags": []
   },
   "outputs": [],
   "source": [
    "slc=[ 'English', 'Bengali', 'Hindi', 'Maths', 'History','Geography']\n",
    "mrks=[100,85,95,99,98,75]"
   ]
  },
  {
   "cell_type": "code",
   "execution_count": 4,
   "metadata": {
    "execution": {
     "iopub.execute_input": "2020-08-28T09:14:07.399649Z",
     "iopub.status.busy": "2020-08-28T09:14:07.398444Z",
     "iopub.status.idle": "2020-08-28T09:14:07.458835Z",
     "shell.execute_reply": "2020-08-28T09:14:07.459397Z"
    },
    "papermill": {
     "duration": 0.146299,
     "end_time": "2020-08-28T09:14:07.459585",
     "exception": false,
     "start_time": "2020-08-28T09:14:07.313286",
     "status": "completed"
    },
    "tags": []
   },
   "outputs": [
    {
     "data": {
      "text/plain": [
       "([<matplotlib.patches.Wedge at 0x7ff0ab9e0cd0>,\n",
       "  <matplotlib.patches.Wedge at 0x7ff0aaf67a10>,\n",
       "  <matplotlib.patches.Wedge at 0x7ff0aaf0d090>,\n",
       "  <matplotlib.patches.Wedge at 0x7ff0aaf0d5d0>,\n",
       "  <matplotlib.patches.Wedge at 0x7ff0aaf0ded0>,\n",
       "  <matplotlib.patches.Wedge at 0x7ff0aaf1a550>],\n",
       " [Text(0.9266076783810917, 0.5927885039077627, 'English'),\n",
       "  Text(-0.05631913333603039, 1.0985573062978002, 'Bengali'),\n",
       "  Text(-0.9678911919493224, 0.5226725940270069, 'Hindi'),\n",
       "  Text(-0.9022625726870924, -0.6292235293821024, 'Maths'),\n",
       "  Text(0.17455081068085274, -1.086062619967494, 'History'),\n",
       "  Text(1.092330837056816, -0.49680312238829183, 'Geography')])"
      ]
     },
     "execution_count": 4,
     "metadata": {},
     "output_type": "execute_result"
    },
    {
     "data": {
      "image/png": "[encoded data removed]",
      "text/plain": [
       "<Figure size 432x288 with 1 Axes>"
      ]
     },
     "metadata": {},
     "output_type": "display_data"
    }
   ],
   "source": [
    "plt.pie(mrks,labels=slc,explode=(0,0,0,0,0,0.1))"
   ]
  },
  {
   "cell_type": "markdown",
   "execution_count": null,
   "metadata": {
    "papermill": {
     "duration": 0.006427,
     "end_time": "2020-08-28T09:14:07.473299",
     "exception": false,
     "start_time": "2020-08-28T09:14:07.466872",
     "status": "completed"
    },
    "tags": []
   },
   "source": [
    " Store height of 50 students in inches. Now while the data was beign recorded manually there has been some typing mistake and therefore height of 2 students have been recorded as 172 inch and 2 students have been recorded as 12 inch. Graphically plot and show how you can seggregate correct data from abnormal data"
   ]
  },
  {
   "cell_type": "code",
   "execution_count": 5,
   "metadata": {
    "execution": {
     "iopub.execute_input": "2020-08-28T09:14:07.492923Z",
     "iopub.status.busy": "2020-08-28T09:14:07.491969Z",
     "iopub.status.idle": "2020-08-28T09:14:07.495417Z",
     "shell.execute_reply": "2020-08-28T09:14:07.494472Z"
    },
    "papermill": {
     "duration": 0.015713,
     "end_time": "2020-08-28T09:14:07.495588",
     "exception": false,
     "start_time": "2020-08-28T09:14:07.479875",
     "status": "completed"
    },
    "tags": []
   },
   "outputs": [],
   "source": [
    "import numpy as np\n",
    "import random as rn"
   ]
  },
  {
   "cell_type": "code",
   "execution_count": 6,
   "metadata": {
    "execution": {
     "iopub.execute_input": "2020-08-28T09:14:07.521202Z",
     "iopub.status.busy": "2020-08-28T09:14:07.520177Z",
     "iopub.status.idle": "2020-08-28T09:14:07.526111Z",
     "shell.execute_reply": "2020-08-28T09:14:07.525081Z"
    },
    "papermill": {
     "duration": 0.021607,
     "end_time": "2020-08-28T09:14:07.526268",
     "exception": false,
     "start_time": "2020-08-28T09:14:07.504661",
     "status": "completed"
    },
    "tags": []
   },
   "outputs": [],
   "source": [
    "ht=np.array([])\n",
    "for i in range(50):\n",
    "    ht=np.append(ht,[rn.randint(50,70)])\n",
    "    "
   ]
  },
  {
   "cell_type": "code",
   "execution_count": 7,
   "metadata": {
    "execution": {
     "iopub.execute_input": "2020-08-28T09:14:07.555802Z",
     "iopub.status.busy": "2020-08-28T09:14:07.555066Z",
     "iopub.status.idle": "2020-08-28T09:14:07.561563Z",
     "shell.execute_reply": "2020-08-28T09:14:07.560913Z"
    },
    "papermill": {
     "duration": 0.021265,
     "end_time": "2020-08-28T09:14:07.561690",
     "exception": false,
     "start_time": "2020-08-28T09:14:07.540425",
     "status": "completed"
    },
    "tags": []
   },
   "outputs": [
    {
     "data": {
      "text/plain": [
       "array([60., 54., 63., 68., 68., 64., 70., 52., 53., 65., 52., 64., 68.,\n",
       "       67., 65., 50., 54., 51., 65., 64., 59., 70., 54., 55., 50., 67.,\n",
       "       50., 51., 65., 51., 70., 70., 57., 65., 60., 59., 58., 69., 65.,\n",
       "       52., 62., 57., 51., 69., 64., 62., 58., 57., 53., 66.])"
      ]
     },
     "execution_count": 7,
     "metadata": {},
     "output_type": "execute_result"
    }
   ],
   "source": [
    "ht"
   ]
  },
  {
   "cell_type": "code",
   "execution_count": 8,
   "metadata": {
    "execution": {
     "iopub.execute_input": "2020-08-28T09:14:07.581976Z",
     "iopub.status.busy": "2020-08-28T09:14:07.581040Z",
     "iopub.status.idle": "2020-08-28T09:14:07.584798Z",
     "shell.execute_reply": "2020-08-28T09:14:07.583804Z"
    },
    "papermill": {
     "duration": 0.016129,
     "end_time": "2020-08-28T09:14:07.584947",
     "exception": false,
     "start_time": "2020-08-28T09:14:07.568818",
     "status": "completed"
    },
    "tags": []
   },
   "outputs": [],
   "source": [
    "ht[10]=172\n",
    "ht[11]=172\n",
    "ht[22]=2\n",
    "ht[49]=2"
   ]
  },
  {
   "cell_type": "code",
   "execution_count": 9,
   "metadata": {
    "execution": {
     "iopub.execute_input": "2020-08-28T09:14:07.624944Z",
     "iopub.status.busy": "2020-08-28T09:14:07.623330Z",
     "iopub.status.idle": "2020-08-28T09:14:07.752789Z",
     "shell.execute_reply": "2020-08-28T09:14:07.752002Z"
    },
    "papermill": {
     "duration": 0.158742,
     "end_time": "2020-08-28T09:14:07.752918",
     "exception": false,
     "start_time": "2020-08-28T09:14:07.594176",
     "status": "completed"
    },
    "tags": []
   },
   "outputs": [
    {
     "data": {
      "image/png": "[encoded data removed]",
      "text/plain": [
       "<Figure size 432x288 with 1 Axes>"
      ]
     },
     "metadata": {
      "needs_background": "light"
     },
     "output_type": "display_data"
    }
   ],
   "source": [
    "plt.boxplot(ht)\n",
    "plt.title('Height')\n",
    "plt.xlabel('X-axis')\n",
    "plt.ylabel('Y-axis')\n",
    "plt.show()"
   ]
  },
  {
   "cell_type": "code",
   "execution_count": null,
   "metadata": {
    "papermill": {
     "duration": 0.007436,
     "end_time": "2020-08-28T09:14:07.768044",
     "exception": false,
     "start_time": "2020-08-28T09:14:07.760608",
     "status": "completed"
    },
    "tags": []
   },
   "outputs": [],
   "source": []
  },
  {
   "cell_type": "code",
   "execution_count": null,
   "metadata": {
    "papermill": {
     "duration": 0.006863,
     "end_time": "2020-08-28T09:14:07.782391",
     "exception": false,
     "start_time": "2020-08-28T09:14:07.775528",
     "status": "completed"
    },
    "tags": []
   },
   "outputs": [],
   "source": []
  }
 ],
 "metadata": {
  "kernelspec": {
   "display_name": "Python 3",
   "language": "python",
   "name": "python3"
  },
  "language_info": {
   "codemirror_mode": {
    "name": "ipython",
    "version": 3
   },
   "file_extension": ".py",
   "mimetype": "text/x-python",
   "name": "python",
   "nbconvert_exporter": "python",
   "pygments_lexer": "ipython3",
   "version": "3.7.6"
  },
  "papermill": {
   "duration": 6.890705,
   "end_time": "2020-08-28T09:14:07.899941",
   "environment_variables": {},
   "exception": null,
   "input_path": "__notebook__.ipynb",
   "output_path": "__notebook__.ipynb",
   "parameters": {},
   "start_time": "2020-08-28T09:14:01.009236",
   "version": "2.1.0"
  }
 },
 "nbformat": 4,
 "nbformat_minor": 4
}
