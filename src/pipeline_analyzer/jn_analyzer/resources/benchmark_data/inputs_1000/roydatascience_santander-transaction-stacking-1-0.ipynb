{
 "cells": [
  {
   "cell_type": "markdown",
   "metadata": {
    "_uuid": "4547cd372a38e007a0222639f212c3029040f34e"
   },
   "source": [
    "In this Module I have stacked the Validation and Submission outputs using KFold Cross Validation technique and Stratified K-Fold Cross validatiom technique. Referring to the my previous kernel\n",
    "\n",
    "**Stratified K Folds on Santander**\n",
    "https://www.kaggle.com/roydatascience/eda-pca-simple-lgbm-santander-transactions\n",
    "\n",
    "**K Folds on Santander**\n",
    "https://www.kaggle.com/roydatascience/fork-of-eda-pca-simple-lgbm-kfold\n",
    "\n",
    "The attempt is to improve the accuracy using Baysian Ridge Stacking approach"
   ]
  },
  {
   "cell_type": "code",
   "execution_count": 1,
   "metadata": {
    "_cell_guid": "b1076dfc-b9ad-4769-8c92-a6c4dae69d19",
    "_uuid": "8f2839f25d086af736a60e9eeb907d3b93b6e0e5"
   },
   "outputs": [
    {
     "name": "stdout",
     "output_type": "stream",
     "text": [
      "['santander-customer-transaction-prediction', 'santander-outputs']\n"
     ]
    }
   ],
   "source": [
    "import numpy as np # linear algebra\n",
    "import pandas as pd # data processing, CSV file I/O (e.g. pd.read_csv)\n",
    "from sklearn.linear_model import BayesianRidge\n",
    "from sklearn.model_selection import RepeatedKFold\n",
    "import os\n",
    "print(os.listdir(\"../input/\"))"
   ]
  },
  {
   "cell_type": "code",
   "execution_count": 2,
   "metadata": {
    "_uuid": "01adb818828ddf385a30ce585cc4015caf66e7e4"
   },
   "outputs": [],
   "source": [
    "#Import the Validation output and submissions\n",
    "\n",
    "oof = pd.read_csv(\"../input/santander-outputs/Validation_Skfold.csv\")['0']\n",
    "oof_2 = pd.read_csv(\"../input/santander-outputs/Validation_kfold.csv\")['0']\n",
    "\n",
    "predictions = pd.read_csv(\"../input/santander-outputs/submission26_skfold.csv\")[\"target\"]\n",
    "predictions_2 = pd.read_csv(\"../input/santander-outputs/submission26_kfold.csv\")[\"target\"]"
   ]
  },
  {
   "cell_type": "code",
   "execution_count": 3,
   "metadata": {
    "_uuid": "1913bd146c792ff8a67a4adf20adb0d0929e85f2"
   },
   "outputs": [],
   "source": [
    "train = pd.read_csv('../input/santander-customer-transaction-prediction/train.csv')\n",
    "features = [c for c in train.columns if c not in ['ID_code', 'target']]"
   ]
  },
  {
   "cell_type": "code",
   "execution_count": 4,
   "metadata": {
    "_uuid": "f3fc37d65bc55b1fec205269c1e95121ed02097f"
   },
   "outputs": [],
   "source": [
    "target = train['target']\n",
    "train = train.drop([\"ID_code\", \"target\"], axis=1)"
   ]
  },
  {
   "cell_type": "code",
   "execution_count": 5,
   "metadata": {
    "_cell_guid": "79c7e3d0-c299-4dcb-8224-4455121ee9b0",
    "_uuid": "d629ff2d2480ee46fbb7e2d37f6b5fab8052498a"
   },
   "outputs": [
    {
     "name": "stdout",
     "output_type": "stream",
     "text": [
      "fold 0\n",
      "fold 1\n",
      "fold 2\n",
      "fold 3\n",
      "fold 4\n",
      "fold 5\n",
      "fold 6\n",
      "fold 7\n",
      "fold 8\n",
      "fold 9\n"
     ]
    }
   ],
   "source": [
    "train_stack = np.vstack([oof,oof_2]).transpose()\n",
    "test_stack = np.vstack([predictions, predictions_2]).transpose()\n",
    "\n",
    "folds_stack = RepeatedKFold(n_splits=5, n_repeats=2, random_state=15)\n",
    "oof_stack = np.zeros(train_stack.shape[0])\n",
    "predictions_3 = np.zeros(test_stack.shape[0])\n",
    "\n",
    "for fold_, (trn_idx, val_idx) in enumerate(folds_stack.split(train_stack,target)):\n",
    "    print(\"fold {}\".format(fold_))\n",
    "    trn_data, trn_y = train_stack[trn_idx], target.iloc[trn_idx].values\n",
    "    val_data, val_y = train_stack[val_idx], target.iloc[val_idx].values\n",
    "    \n",
    "    clf_3 = BayesianRidge()\n",
    "    clf_3.fit(trn_data, trn_y)\n",
    "    \n",
    "    oof_stack[val_idx] = clf_3.predict(val_data)\n",
    "    predictions_3 += clf_3.predict(test_stack) / 10"
   ]
  },
  {
   "cell_type": "code",
   "execution_count": 6,
   "metadata": {
    "_uuid": "5beded47cf5a34fa1c1f43e5032786d2ebae9765"
   },
   "outputs": [],
   "source": [
    "sample_submission = pd.read_csv('../input/santander-customer-transaction-prediction/sample_submission.csv')\n",
    "sample_submission['target'] = predictions_3\n",
    "sample_submission.to_csv('submission_ashish.csv', index=False)"
   ]
  }
 ],
 "metadata": {
  "kernelspec": {
   "display_name": "Python 3",
   "language": "python",
   "name": "python3"
  },
  "language_info": {
   "codemirror_mode": {
    "name": "ipython",
    "version": 3
   },
   "file_extension": ".py",
   "mimetype": "text/x-python",
   "name": "python",
   "nbconvert_exporter": "python",
   "pygments_lexer": "ipython3",
   "version": "3.6.6"
  }
 },
 "nbformat": 4,
 "nbformat_minor": 1
}
