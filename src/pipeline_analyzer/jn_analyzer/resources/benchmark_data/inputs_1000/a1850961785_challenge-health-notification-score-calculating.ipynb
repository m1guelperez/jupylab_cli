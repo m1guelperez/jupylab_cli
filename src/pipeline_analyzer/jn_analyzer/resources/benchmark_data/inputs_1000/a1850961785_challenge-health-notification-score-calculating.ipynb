{
 "cells": [
  {
   "cell_type": "code",
   "execution_count": 1,
   "metadata": {
    "_cell_guid": "b1076dfc-b9ad-4769-8c92-a6c4dae69d19",
    "_uuid": "8f2839f25d086af736a60e9eeb907d3b93b6e0e5",
    "execution": {
     "iopub.execute_input": "2020-09-24T10:29:02.948136Z",
     "iopub.status.busy": "2020-09-24T10:29:02.947211Z",
     "iopub.status.idle": "2020-09-24T10:29:07.548109Z",
     "shell.execute_reply": "2020-09-24T10:29:07.547256Z"
    },
    "papermill": {
     "duration": 4.622558,
     "end_time": "2020-09-24T10:29:07.548255",
     "exception": false,
     "start_time": "2020-09-24T10:29:02.925697",
     "status": "completed"
    },
    "tags": []
   },
   "outputs": [
    {
     "name": "stdout",
     "output_type": "stream",
     "text": [
      "1 files\n"
     ]
    }
   ],
   "source": [
    "import numpy as np\n",
    "import pandas as pd\n",
    "import joblib\n",
    "import lightgbm as lgb\n",
    "import time\n",
    "import pickle\n",
    "import math\n",
    "import string\n",
    "import datetime\n",
    "from sklearn.model_selection import KFold\n",
    "from sklearn.metrics import f1_score, mean_squared_error\n",
    "import glob\n",
    "import json\n",
    "\n",
    "def challenge_data_conversion(challenge_data):\n",
    "    output = []\n",
    "    output.append(challenge_data['id'])\n",
    "    output.append(1 if len(challenge_data['winners']) > 0 else 0)\n",
    "    output.append(len(challenge_data['winners']))\n",
    "    \n",
    "    return output\n",
    "\n",
    "def data_conversion(training_file_path):\n",
    "    data_df = pd.DataFrame(columns=['id', 'hasWinner', 'numOfWinners'])\n",
    "    file_list = []\n",
    "    extensions = [\"json\"]\n",
    "    for extension in extensions:\n",
    "        file_glob = glob.glob(training_file_path+\"/*.\"+extension)\n",
    "        file_list.extend(file_glob)\n",
    "    print(str(len(file_list))+' files')\n",
    "        \n",
    "    for file_path in file_list:\n",
    "        with open(file_path,'r') as f:\n",
    "            data_dict = json.load(f)\n",
    "        for challenge_data in data_dict:\n",
    "            #try:\n",
    "            data_df.loc[len(data_df)] = challenge_data_conversion(challenge_data)\n",
    "            #except:\n",
    "            #    print(challenge_data_conversion(challenge_data))\n",
    "            \n",
    "            \n",
    "    return data_df\n",
    "\n",
    "test_data = data_conversion('../input/challenge-health-notification-test-data/')\n",
    "reg_output = pd.read_csv('../input/challenge-health-notification-reg-output/lightgbm_numOfWinners_prediction.csv')\n",
    "cls_output = pd.read_csv('../input/challenge-health-notification-cls-output/lightgbm_hasWinner_prediction.csv')"
   ]
  },
  {
   "cell_type": "code",
   "execution_count": 2,
   "metadata": {
    "_cell_guid": "79c7e3d0-c299-4dcb-8224-4455121ee9b0",
    "_uuid": "d629ff2d2480ee46fbb7e2d37f6b5fab8052498a",
    "execution": {
     "iopub.execute_input": "2020-09-24T10:29:07.565828Z",
     "iopub.status.busy": "2020-09-24T10:29:07.564745Z",
     "iopub.status.idle": "2020-09-24T10:29:07.573989Z",
     "shell.execute_reply": "2020-09-24T10:29:07.574551Z"
    },
    "papermill": {
     "duration": 0.021869,
     "end_time": "2020-09-24T10:29:07.574789",
     "exception": false,
     "start_time": "2020-09-24T10:29:07.552920",
     "status": "completed"
    },
    "tags": []
   },
   "outputs": [
    {
     "name": "stdout",
     "output_type": "stream",
     "text": [
      "f1 score:\n",
      "0.9846153846153846\n",
      "\n",
      "mean squared error:\n",
      "0.4980628253654328\n"
     ]
    }
   ],
   "source": [
    "print('f1 score:')\n",
    "print(f1_score(test_data['hasWinner'].astype(\"int\").values, cls_output['hasWinner'].values))\n",
    "\n",
    "print('')\n",
    "\n",
    "print('mean squared error:')\n",
    "print(mean_squared_error(test_data['numOfWinners'].values, reg_output['numOfWinners'].values))"
   ]
  }
 ],
 "metadata": {
  "kernelspec": {
   "display_name": "Python 3",
   "language": "python",
   "name": "python3"
  },
  "language_info": {
   "codemirror_mode": {
    "name": "ipython",
    "version": 3
   },
   "file_extension": ".py",
   "mimetype": "text/x-python",
   "name": "python",
   "nbconvert_exporter": "python",
   "pygments_lexer": "ipython3",
   "version": "3.7.6"
  },
  "papermill": {
   "duration": 9.998833,
   "end_time": "2020-09-24T10:29:07.689395",
   "environment_variables": {},
   "exception": null,
   "input_path": "__notebook__.ipynb",
   "output_path": "__notebook__.ipynb",
   "parameters": {},
   "start_time": "2020-09-24T10:28:57.690562",
   "version": "2.1.0"
  }
 },
 "nbformat": 4,
 "nbformat_minor": 4
}
