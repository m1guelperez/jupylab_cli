{
 "cells": [
  {
   "cell_type": "code",
   "execution_count": 1,
   "metadata": {
    "_cell_guid": "b1076dfc-b9ad-4769-8c92-a6c4dae69d19",
    "_uuid": "8f2839f25d086af736a60e9eeb907d3b93b6e0e5"
   },
   "outputs": [
    {
     "data": {
      "text/html": [
       "<div>\n",
       "<style scoped>\n",
       "    .dataframe tbody tr th:only-of-type {\n",
       "        vertical-align: middle;\n",
       "    }\n",
       "\n",
       "    .dataframe tbody tr th {\n",
       "        vertical-align: top;\n",
       "    }\n",
       "\n",
       "    .dataframe thead th {\n",
       "        text-align: right;\n",
       "    }\n",
       "</style>\n",
       "<table border=\"1\" class=\"dataframe\">\n",
       "  <thead>\n",
       "    <tr style=\"text-align: right;\">\n",
       "      <th></th>\n",
       "      <th>s_g</th>\n",
       "      <th>s_c</th>\n",
       "      <th>s_da</th>\n",
       "      <th>s_s</th>\n",
       "      <th>s_r</th>\n",
       "      <th>d_g</th>\n",
       "      <th>d_c</th>\n",
       "      <th>d_da</th>\n",
       "      <th>d_s</th>\n",
       "      <th>goal</th>\n",
       "      <th>goal_diff</th>\n",
       "      <th>oddsU</th>\n",
       "      <th>probU</th>\n",
       "      <th>probU_diff</th>\n",
       "      <th>mod0</th>\n",
       "      <th>mod25</th>\n",
       "      <th>mod50</th>\n",
       "      <th>mod75</th>\n",
       "      <th>pl_u</th>\n",
       "    </tr>\n",
       "  </thead>\n",
       "  <tbody>\n",
       "    <tr>\n",
       "      <th>0</th>\n",
       "      <td>0.0</td>\n",
       "      <td>6.0</td>\n",
       "      <td>54.0</td>\n",
       "      <td>8.0</td>\n",
       "      <td>0.0</td>\n",
       "      <td>0.0</td>\n",
       "      <td>4.0</td>\n",
       "      <td>12.0</td>\n",
       "      <td>6.0</td>\n",
       "      <td>1.25</td>\n",
       "      <td>1.25</td>\n",
       "      <td>1.925</td>\n",
       "      <td>0.493421</td>\n",
       "      <td>0.006579</td>\n",
       "      <td>0.0</td>\n",
       "      <td>1.0</td>\n",
       "      <td>0.0</td>\n",
       "      <td>0.0</td>\n",
       "      <td>0.4625</td>\n",
       "    </tr>\n",
       "    <tr>\n",
       "      <th>1</th>\n",
       "      <td>0.0</td>\n",
       "      <td>2.0</td>\n",
       "      <td>66.0</td>\n",
       "      <td>6.0</td>\n",
       "      <td>0.0</td>\n",
       "      <td>0.0</td>\n",
       "      <td>2.0</td>\n",
       "      <td>10.0</td>\n",
       "      <td>4.0</td>\n",
       "      <td>1.25</td>\n",
       "      <td>1.25</td>\n",
       "      <td>1.950</td>\n",
       "      <td>0.486842</td>\n",
       "      <td>0.013158</td>\n",
       "      <td>0.0</td>\n",
       "      <td>1.0</td>\n",
       "      <td>0.0</td>\n",
       "      <td>0.0</td>\n",
       "      <td>-1.0000</td>\n",
       "    </tr>\n",
       "    <tr>\n",
       "      <th>2</th>\n",
       "      <td>1.0</td>\n",
       "      <td>8.0</td>\n",
       "      <td>34.0</td>\n",
       "      <td>9.0</td>\n",
       "      <td>0.0</td>\n",
       "      <td>1.0</td>\n",
       "      <td>8.0</td>\n",
       "      <td>0.0</td>\n",
       "      <td>3.0</td>\n",
       "      <td>2.50</td>\n",
       "      <td>1.50</td>\n",
       "      <td>1.750</td>\n",
       "      <td>0.539474</td>\n",
       "      <td>0.039474</td>\n",
       "      <td>0.0</td>\n",
       "      <td>0.0</td>\n",
       "      <td>1.0</td>\n",
       "      <td>0.0</td>\n",
       "      <td>-1.0000</td>\n",
       "    </tr>\n",
       "    <tr>\n",
       "      <th>3</th>\n",
       "      <td>3.0</td>\n",
       "      <td>9.0</td>\n",
       "      <td>52.0</td>\n",
       "      <td>6.0</td>\n",
       "      <td>0.0</td>\n",
       "      <td>1.0</td>\n",
       "      <td>5.0</td>\n",
       "      <td>2.0</td>\n",
       "      <td>0.0</td>\n",
       "      <td>4.25</td>\n",
       "      <td>1.25</td>\n",
       "      <td>1.975</td>\n",
       "      <td>0.480263</td>\n",
       "      <td>0.019737</td>\n",
       "      <td>0.0</td>\n",
       "      <td>1.0</td>\n",
       "      <td>0.0</td>\n",
       "      <td>0.0</td>\n",
       "      <td>-1.0000</td>\n",
       "    </tr>\n",
       "    <tr>\n",
       "      <th>4</th>\n",
       "      <td>2.0</td>\n",
       "      <td>4.0</td>\n",
       "      <td>28.0</td>\n",
       "      <td>11.0</td>\n",
       "      <td>0.0</td>\n",
       "      <td>0.0</td>\n",
       "      <td>0.0</td>\n",
       "      <td>6.0</td>\n",
       "      <td>5.0</td>\n",
       "      <td>3.50</td>\n",
       "      <td>1.50</td>\n",
       "      <td>1.900</td>\n",
       "      <td>0.500000</td>\n",
       "      <td>0.000000</td>\n",
       "      <td>0.0</td>\n",
       "      <td>0.0</td>\n",
       "      <td>1.0</td>\n",
       "      <td>0.0</td>\n",
       "      <td>-1.0000</td>\n",
       "    </tr>\n",
       "  </tbody>\n",
       "</table>\n",
       "</div>"
      ],
      "text/plain": [
       "   s_g  s_c  s_da   s_s  s_r   ...    mod0  mod25  mod50  mod75    pl_u\n",
       "0  0.0  6.0  54.0   8.0  0.0   ...     0.0    1.0    0.0    0.0  0.4625\n",
       "1  0.0  2.0  66.0   6.0  0.0   ...     0.0    1.0    0.0    0.0 -1.0000\n",
       "2  1.0  8.0  34.0   9.0  0.0   ...     0.0    0.0    1.0    0.0 -1.0000\n",
       "3  3.0  9.0  52.0   6.0  0.0   ...     0.0    1.0    0.0    0.0 -1.0000\n",
       "4  2.0  4.0  28.0  11.0  0.0   ...     0.0    0.0    1.0    0.0 -1.0000\n",
       "\n",
       "[5 rows x 19 columns]"
      ]
     },
     "execution_count": 1,
     "metadata": {},
     "output_type": "execute_result"
    }
   ],
   "source": [
    "# -*- coding: utf-8 -*-\n",
    "import numpy as np # linear algebra\n",
    "import pandas as pd # data processing, CSV file I/O (e.g. pd.read_csv)\n",
    "from sklearn.linear_model import LinearRegression  #Regressão Linear Simples\n",
    "from sklearn.model_selection import train_test_split\n",
    "\n",
    "\n",
    "#Função que recebe os Ys calculados pela regressão, que são os Percents, e os Ys reais que são os PL (perdas/lucros) de cada aposta\n",
    "def SomaLog(Percent,PL):\n",
    "    MIN_BANCA,MAX_BANCA= 0.01, 0.1\n",
    "    return sum((MAX_BANCA if p>MAX_BANCA else p)*pl for p,pl in zip(Percent,PL) if p>=MIN_BANCA )\n",
    "\n",
    "\n",
    "\n",
    "#Le o csv e filtra as colunas que serão utilizadas\n",
    "df=pd.read_csv('../input/jogos_.csv')\n",
    "df=df['s_g,s_c,s_da,s_s,s_r,d_g,d_c,d_da,d_s,goal,goal_diff,oddsU,probU,probU_diff,mod0,mod25,mod50,mod75,pl_u'.split(',')]\n",
    "\n",
    "#Remove as linhas estão NaN, (preguiça de procurar, mas como é só um exemplo de uso tudo bem)\n",
    "df.dropna(inplace=True)\n",
    "\n",
    "#Mostra as 5 primeiras linhas\n",
    "df.head(5)"
   ]
  },
  {
   "cell_type": "markdown",
   "metadata": {},
   "source": [
    "Vamos dividir df entre conjunto de Treinamento e Teste de forma randômica, mas fixando o tamanho entre 50 mil registros. Será escolhido um estado randômico de forma que a média do pl_u do conjunto de teste esteja bem próxima da média do conjunto de treinamento."
   ]
  },
  {
   "cell_type": "code",
   "execution_count": 2,
   "metadata": {},
   "outputs": [
    {
     "name": "stdout",
     "output_type": "stream",
     "text": [
      "pl_medio_train: -0.02396081235105205 \n",
      "pl_medio_test:  -0.023993450000000093\n"
     ]
    }
   ],
   "source": [
    "#Divide entre treinamento e teste, foi escolhi o random_state=881, pois nesse as médias de Y_train e  Y_test estão bem próximas\n",
    "df_train, df_test = train_test_split(df, test_size=50000, random_state=881)\n",
    "\n",
    "print('pl_medio_train:', df_train.pl_u.mean(), '\\npl_medio_test: ', df_test.pl_u.mean())"
   ]
  },
  {
   "cell_type": "markdown",
   "metadata": {},
   "source": [
    "Vamos fazer uma Regressão Linear sem nenhum crtiério de seleção\n"
   ]
  },
  {
   "cell_type": "code",
   "execution_count": 3,
   "metadata": {},
   "outputs": [
    {
     "name": "stdout",
     "output_type": "stream",
     "text": [
      "Lucratividade Todos os Jogos\n",
      "SomaLog:  25.3739214558526\n",
      "SomaLog/mil jogos:  0.507478429117052\n"
     ]
    }
   ],
   "source": [
    "X_train, Y_train=df_train.loc[:,df_train.columns!='pl_u'], df_train.pl_u\n",
    "X_test, Y_test  =df_test.loc[:,df_test.columns!='pl_u'], df_test.pl_u\n",
    "\n",
    "#Treinamos a regressão Linear\n",
    "reg1=LinearRegression().fit(X_train,Y_train)\n",
    "\n",
    "\n",
    "#Exibe a Lucratividade através do SomaLog\n",
    "print('Lucratividade Todos os Jogos')\n",
    "print( 'SomaLog: ', SomaLog( reg1.predict(X_test), Y_test)  )\n",
    "print( 'SomaLog/mil jogos: ', SomaLog( reg1.predict(X_test), Y_test)/(len(Y_test)/1000  ) )\n",
    "\n"
   ]
  },
  {
   "cell_type": "markdown",
   "metadata": {},
   "source": [
    "Vamos agora fazer uma regressão linear filtrando apenas os jogos que estejam empatados ao intervalo, ou seja, dg=0"
   ]
  },
  {
   "cell_type": "code",
   "execution_count": 4,
   "metadata": {},
   "outputs": [
    {
     "name": "stdout",
     "output_type": "stream",
     "text": [
      "Lucratividade Todos os Jogos\n",
      "SomaLog:  20.14135583805771\n",
      "SomaLog/mil jogos:  0.9849073759441423\n"
     ]
    }
   ],
   "source": [
    "#Filtra apenas os jogos empatados\n",
    "df_train=df_train[df_train.d_g==0]\n",
    "df_test=df_test[df_test.d_g==0]\n",
    "\n",
    "X_train, Y_train=df_train.loc[:,df_train.columns!='pl_u'], df_train.pl_u\n",
    "X_test, Y_test  =df_test.loc[:,df_test.columns!='pl_u'], df_test.pl_u\n",
    "\n",
    "#Treinamos a regressão Linear\n",
    "reg1=LinearRegression().fit(X_train,Y_train)\n",
    "\n",
    "\n",
    "#Exibe a Lucratividade através do SomaLog\n",
    "print('Lucratividade Todos os Jogos')\n",
    "print( 'SomaLog: ', SomaLog( reg1.predict(X_test), Y_test)  )\n",
    "print( 'SomaLog/mil jogos: ', SomaLog( reg1.predict(X_test), Y_test)/(len(Y_test)/1000  ) )"
   ]
  },
  {
   "cell_type": "markdown",
   "metadata": {},
   "source": [
    "Perceba que usar apenas os empates deixa nosso modelo muito mais lucrativo. Quase dobrando a relação SomaLog/mil jogos"
   ]
  }
 ],
 "metadata": {
  "kernelspec": {
   "display_name": "Python 3",
   "language": "python",
   "name": "python3"
  },
  "language_info": {
   "codemirror_mode": {
    "name": "ipython",
    "version": 3
   },
   "file_extension": ".py",
   "mimetype": "text/x-python",
   "name": "python",
   "nbconvert_exporter": "python",
   "pygments_lexer": "ipython3",
   "version": "3.6.4"
  }
 },
 "nbformat": 4,
 "nbformat_minor": 1
}
