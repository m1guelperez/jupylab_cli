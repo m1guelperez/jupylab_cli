{
 "cells": [
  {
   "cell_type": "markdown",
   "metadata": {
    "_uuid": "b8f0dc277e3be803ecf9291bc1975cc2498fc026"
   },
   "source": [
    "Bloom filters are memory efficent & fast ways to check if an item appears in a set. It won't return false negatives (item is in set and it says that it isn't) but does have a chance to return a false positive. You can set your tolerance for this with a specific filter using error_rate.\n",
    "\n",
    "This kernel has an example of how to create a bloom filter for both unigrams (aka single words) and 5-grams (five words that occur congruently). "
   ]
  },
  {
   "cell_type": "code",
   "execution_count": 1,
   "metadata": {
    "_uuid": "b8dad5b5a44e2d391d5f105e0c0539af06bbdeaf"
   },
   "outputs": [
    {
     "name": "stdout",
     "output_type": "stream",
     "text": [
      "Collecting bloom_filter\r\n",
      "  Downloading https://files.pythonhosted.org/packages/6f/85/c26819421801c5a04a2743e329641dde22225a55153d5477c032b4f7d40e/bloom_filter-1.3-py3-none-any.whl\r\n",
      "Installing collected packages: bloom-filter\r\n",
      "Successfully installed bloom-filter-1.3\r\n"
     ]
    }
   ],
   "source": [
    "! pip install bloom_filter"
   ]
  },
  {
   "cell_type": "code",
   "execution_count": 2,
   "metadata": {
    "_cell_guid": "79c7e3d0-c299-4dcb-8224-4455121ee9b0",
    "_uuid": "d629ff2d2480ee46fbb7e2d37f6b5fab8052498a"
   },
   "outputs": [
    {
     "data": {
      "text/plain": [
       "True"
      ]
     },
     "execution_count": 2,
     "metadata": {},
     "output_type": "execute_result"
    }
   ],
   "source": [
    "# import bloom filters\n",
    "from bloom_filter import BloomFilter\n",
    "from nltk.util import ngrams\n",
    "\n",
    "# bloom filter with default # of max elements and \n",
    "# acceptable false positive rate\n",
    "bloom = BloomFilter(max_elements=1000, error_rate=0.1)\n",
    "\n",
    "# sample text\n",
    "text = '''The numpy sieve with trial division is actually a pretty fast Python\n",
    "implementation. I've done some benchmarks in the past and saw around of 2-3x or so slower \n",
    "than a similar C++ implementation and less than an order of magnitude slower than C.'''\n",
    "text = text.lower()\n",
    "\n",
    "# split by word & add to filter\n",
    "for i in text.split():\n",
    "    bloom.add(i)\n",
    "\n",
    "# check if word in filter\n",
    "\"sieve\" in bloom "
   ]
  },
  {
   "cell_type": "code",
   "execution_count": 3,
   "metadata": {
    "_uuid": "89ece7c0e0e24d24b7958e99457eb7b67e9a9a7e"
   },
   "outputs": [
    {
     "name": "stdout",
     "output_type": "stream",
     "text": [
      "check unigram:\n",
      "False\n",
      "check 5gram:\n",
      "True\n"
     ]
    }
   ],
   "source": [
    "# bloom filter to store our ngrams in \n",
    "bloom_ngram = BloomFilter(max_elements=1000, error_rate=0.1)\n",
    "\n",
    "# get 5 grams from our text\n",
    "tokens = [token for token in text.split(\" \") if token != \"\"]\n",
    "output = list(ngrams(tokens, 5))\n",
    "\n",
    "# add each 5gram to our bloom filter\n",
    "for i in output:\n",
    "    bloom_ngram.add(\" \".join(i))\n",
    "\n",
    "# check if word in filter\n",
    "print(\"check unigram:\")\n",
    "print(\"sieve\" in bloom_ngram)\n",
    "\n",
    "# check if ngram in filter\n",
    "print(\"check 5gram:\")\n",
    "print(\"numpy sieve with trial division\" in bloom_ngram)"
   ]
  }
 ],
 "metadata": {
  "kernelspec": {
   "display_name": "Python 3",
   "language": "python",
   "name": "python3"
  },
  "language_info": {
   "codemirror_mode": {
    "name": "ipython",
    "version": 3
   },
   "file_extension": ".py",
   "mimetype": "text/x-python",
   "name": "python",
   "nbconvert_exporter": "python",
   "pygments_lexer": "ipython3",
   "version": "3.6.6"
  }
 },
 "nbformat": 4,
 "nbformat_minor": 1
}
