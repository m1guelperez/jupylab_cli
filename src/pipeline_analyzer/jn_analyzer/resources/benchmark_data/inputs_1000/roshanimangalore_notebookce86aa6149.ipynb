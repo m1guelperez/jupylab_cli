{
 "cells": [
  {
   "cell_type": "code",
   "execution_count": 1,
   "metadata": {
    "_cell_guid": "58b85b2e-739f-4e06-84b7-b265737b51fa",
    "_uuid": "756e3b04a05624d74fff780c8df379a656ec3de4",
    "scrolled": true
   },
   "outputs": [
    {
     "data": {
      "image/png": "[encoded data removed]",
      "text/plain": [
       "<matplotlib.figure.Figure at 0x7efd202d0e10>"
      ]
     },
     "metadata": {},
     "output_type": "display_data"
    },
    {
     "data": {
      "image/png": "[encoded data removed]",
      "text/plain": [
       "<matplotlib.figure.Figure at 0x7efd202e78d0>"
      ]
     },
     "metadata": {},
     "output_type": "display_data"
    }
   ],
   "source": [
    "import numpy as np # linear algebra\n",
    "import pandas as pd # data processing, CSV file I/O (e.g. pd.read_csv)\n",
    "import matplotlib.pyplot as plt\n",
    "import seaborn as sns\n",
    "from sklearn.linear_model import LogisticRegression\n",
    "\n",
    "# Input data files are available in the \"../input/\" directory.\n",
    "titanictrain_df=pd.read_csv(\"../input/train.csv\")\n",
    "titanictest_df=pd.read_csv(\"../input/test.csv\")\n",
    "\n",
    "#drop unnecessary features\n",
    "titanictrain_df=titanictrain_df.drop(['PassengerId','Name','Ticket'],axis=1)\n",
    "\n",
    "#Analysis of Individual Features\n",
    "#Feature1: Embarked\n",
    "#find the most occured value for Embarked to fill the missing values\n",
    "titanictrain_df.groupby(\"Embarked\").agg([\"count\",\"mean\"])\n",
    "\n",
    "#'S' has maximum count, fill the missing values with 'S'\n",
    "titanictrain_df[\"Embarked\"]=titanictrain_df[\"Embarked\"].fillna(\"S\")\n",
    "titanictest_df=titanictest_df.drop(['Name','Ticket'],axis=1)\n",
    "\n",
    "#plot\n",
    "sns.factorplot('Embarked','Survived',data=titanictrain_df,kind=\"bar\")\n",
    "plt.show()\n",
    "\n",
    "fig, (axis1, axis2, axis3) = plt.subplots(1,3,figsize=(15,5))\n",
    "sns.countplot(x='Embarked',data=titanictrain_df,ax=axis1)\n",
    "sns.countplot(x='Survived',hue=\"Embarked\",data=titanictrain_df,order=[1,0],ax=axis2)\n",
    "mean_df=titanictrain_df[[\"Embarked\",\"Survived\"]].groupby(['Embarked'],as_index=False).mean()\n",
    "sns.barplot(x='Embarked',y='Survived',data=mean_df,order=['S','C','Q'],ax=axis3)\n",
    "\n",
    "\n",
    "embark_train_dummy=pd.get_dummies(titanictrain_df['Embarked'])\n",
    "embark_train_dummy.drop(['S'],axis=1,inplace=True)\n",
    "embark_test_dummy=pd.get_dummies(titanictest_df['Embarked'])\n",
    "embark_test_dummy.drop(['S'],axis=1,inplace=True)\n",
    "\n",
    "titanictrain_df=titanictrain_df.join(embark_train_dummy)\n",
    "titanictest_df=titanictest_df.join(embark_test_dummy)\n",
    "\n",
    "titanictrain_df.drop(['Embarked'],axis=1,inplace=True)\n",
    "titanictest_df.drop(['Embarked'],axis=1,inplace=True)\n"
   ]
  },
  {
   "cell_type": "code",
   "execution_count": 2,
   "metadata": {
    "_cell_guid": "76da1338-b3a1-4908-8300-cbd945a53fab",
    "_uuid": "727b1bc4177dec305852f1ca567978f9ca09b220"
   },
   "outputs": [
    {
     "name": "stdout",
     "output_type": "stream",
     "text": [
      "Null values\n"
     ]
    }
   ],
   "source": [
    "#Feature2: Fare\n",
    "for x in titanictest_df['Fare']:\n",
    "    if pd.isnull(x):\n",
    "        print(\"Null values\")\n",
    "\n",
    "titanictest_df[\"Fare\"].fillna(titanictest_df[\"Fare\"].median(),inplace=True)\n",
    "#convert fare from float to int\n",
    "titanictrain_df[\"Fare\"]=titanictrain_df[\"Fare\"].astype(int)\n",
    "titanictest_df[\"Fare\"]=titanictest_df[\"Fare\"].astype(int)\n"
   ]
  },
  {
   "cell_type": "code",
   "execution_count": 3,
   "metadata": {
    "_cell_guid": "8ad20afd-c1c0-45e3-a8cf-8e049fe311c8",
    "_uuid": "d72dd2acb7233af751c96adaf8172bf0f763fcaa"
   },
   "outputs": [
    {
     "name": "stderr",
     "output_type": "stream",
     "text": [
      "/opt/conda/lib/python3.6/site-packages/ipykernel_launcher.py:16: SettingWithCopyWarning: \n",
      "A value is trying to be set on a copy of a slice from a DataFrame\n",
      "\n",
      "See the caveats in the documentation: http://pandas.pydata.org/pandas-docs/stable/indexing.html#indexing-view-versus-copy\n",
      "  app.launch_new_instance()\n",
      "/opt/conda/lib/python3.6/site-packages/ipykernel_launcher.py:17: SettingWithCopyWarning: \n",
      "A value is trying to be set on a copy of a slice from a DataFrame\n",
      "\n",
      "See the caveats in the documentation: http://pandas.pydata.org/pandas-docs/stable/indexing.html#indexing-view-versus-copy\n"
     ]
    }
   ],
   "source": [
    "#Feature 3: Age\n",
    "#get average titanic, std titanic and count titanic null values\n",
    "avg_titanic_train=titanictrain_df[\"Age\"].mean()\n",
    "std_titanic_train=titanictrain_df[\"Age\"].std()\n",
    "count_titanic_train=titanictrain_df[\"Age\"].isnull().sum()\n",
    "\n",
    "avg_titanic_test=titanictest_df[\"Age\"].mean()\n",
    "std_titanic_test=titanictest_df[\"Age\"].std()\n",
    "count_titanic_test=titanictest_df[\"Age\"].isnull().sum()\n",
    "\n",
    "\n",
    "#generate random number between mean and std deviation\n",
    "rand_1=np.random.randint(avg_titanic_train-std_titanic_train,avg_titanic_train+std_titanic_train,size=count_titanic_train)\n",
    "rand_2=np.random.randint(avg_titanic_test-std_titanic_test,avg_titanic_test+std_titanic_test,size=count_titanic_test)\n",
    "\n",
    "titanictest_df[\"Age\"][np.isnan(titanictest_df[\"Age\"])]=rand_2\n",
    "titanictrain_df[\"Age\"][np.isnan(titanictrain_df[\"Age\"])]=rand_1\n",
    "\n",
    "titanictrain_df[\"Age\"]=titanictrain_df[\"Age\"].astype(int)\n",
    "titanictest_df[\"Age\"]=titanictest_df[\"Age\"].astype(int)\n"
   ]
  },
  {
   "cell_type": "code",
   "execution_count": 4,
   "metadata": {
    "_cell_guid": "9e3f3a67-2e17-43de-b223-96e8b30f8280",
    "_uuid": "745a610ccc02930fab7c6afd121fab9319eaa748"
   },
   "outputs": [
    {
     "data": {
      "text/html": [
       "<div>\n",
       "<style>\n",
       "    .dataframe thead tr:only-child th {\n",
       "        text-align: right;\n",
       "    }\n",
       "\n",
       "    .dataframe thead th {\n",
       "        text-align: left;\n",
       "    }\n",
       "\n",
       "    .dataframe tbody tr th {\n",
       "        vertical-align: top;\n",
       "    }\n",
       "</style>\n",
       "<table border=\"1\" class=\"dataframe\">\n",
       "  <thead>\n",
       "    <tr style=\"text-align: right;\">\n",
       "      <th></th>\n",
       "      <th>Survived</th>\n",
       "      <th>Pclass</th>\n",
       "      <th>Sex</th>\n",
       "      <th>Age</th>\n",
       "      <th>SibSp</th>\n",
       "      <th>Parch</th>\n",
       "      <th>Fare</th>\n",
       "      <th>C</th>\n",
       "      <th>Q</th>\n",
       "    </tr>\n",
       "  </thead>\n",
       "  <tbody>\n",
       "    <tr>\n",
       "      <th>0</th>\n",
       "      <td>0</td>\n",
       "      <td>3</td>\n",
       "      <td>male</td>\n",
       "      <td>22</td>\n",
       "      <td>1</td>\n",
       "      <td>0</td>\n",
       "      <td>7</td>\n",
       "      <td>0</td>\n",
       "      <td>0</td>\n",
       "    </tr>\n",
       "    <tr>\n",
       "      <th>1</th>\n",
       "      <td>1</td>\n",
       "      <td>1</td>\n",
       "      <td>female</td>\n",
       "      <td>38</td>\n",
       "      <td>1</td>\n",
       "      <td>0</td>\n",
       "      <td>71</td>\n",
       "      <td>1</td>\n",
       "      <td>0</td>\n",
       "    </tr>\n",
       "    <tr>\n",
       "      <th>2</th>\n",
       "      <td>1</td>\n",
       "      <td>3</td>\n",
       "      <td>female</td>\n",
       "      <td>26</td>\n",
       "      <td>0</td>\n",
       "      <td>0</td>\n",
       "      <td>7</td>\n",
       "      <td>0</td>\n",
       "      <td>0</td>\n",
       "    </tr>\n",
       "    <tr>\n",
       "      <th>3</th>\n",
       "      <td>1</td>\n",
       "      <td>1</td>\n",
       "      <td>female</td>\n",
       "      <td>35</td>\n",
       "      <td>1</td>\n",
       "      <td>0</td>\n",
       "      <td>53</td>\n",
       "      <td>0</td>\n",
       "      <td>0</td>\n",
       "    </tr>\n",
       "    <tr>\n",
       "      <th>4</th>\n",
       "      <td>0</td>\n",
       "      <td>3</td>\n",
       "      <td>male</td>\n",
       "      <td>35</td>\n",
       "      <td>0</td>\n",
       "      <td>0</td>\n",
       "      <td>8</td>\n",
       "      <td>0</td>\n",
       "      <td>0</td>\n",
       "    </tr>\n",
       "  </tbody>\n",
       "</table>\n",
       "</div>"
      ],
      "text/plain": [
       "   Survived  Pclass     Sex  Age  SibSp  Parch  Fare  C  Q\n",
       "0         0       3    male   22      1      0     7  0  0\n",
       "1         1       1  female   38      1      0    71  1  0\n",
       "2         1       3  female   26      0      0     7  0  0\n",
       "3         1       1  female   35      1      0    53  0  0\n",
       "4         0       3    male   35      0      0     8  0  0"
      ]
     },
     "execution_count": 4,
     "metadata": {},
     "output_type": "execute_result"
    }
   ],
   "source": [
    "#Feature 4: Cabin\n",
    "\n",
    "titanictest_df=titanictest_df.drop(\"Cabin\",axis=1)\n",
    "titanictrain_df=titanictrain_df.drop(\"Cabin\",axis=1)\n",
    "\n",
    "titanictrain_df.head()"
   ]
  },
  {
   "cell_type": "code",
   "execution_count": 5,
   "metadata": {
    "_cell_guid": "8b99b8da-143d-4303-9bb2-05697d9f5805",
    "_uuid": "4ec2d195a3ac4ee36e003f50d7c87601f001b077"
   },
   "outputs": [
    {
     "name": "stderr",
     "output_type": "stream",
     "text": [
      "/opt/conda/lib/python3.6/site-packages/pandas/core/indexing.py:179: SettingWithCopyWarning: \n",
      "A value is trying to be set on a copy of a slice from a DataFrame\n",
      "\n",
      "See the caveats in the documentation: http://pandas.pydata.org/pandas-docs/stable/indexing.html#indexing-view-versus-copy\n",
      "  self._setitem_with_indexer(indexer, value)\n"
     ]
    }
   ],
   "source": [
    "#Feature 5: Family\n",
    "# Instead of having two columns Parch & SibSp, \n",
    "# we can have only one column represent if the passenger had any family member aboard or not,\n",
    "titanictrain_df[\"Family\"]=titanictrain_df[\"SibSp\"]+titanictrain_df[\"Parch\"]\n",
    "titanictrain_df[\"Family\"].loc[titanictrain_df[\"Family\"]>0]=1\n",
    "titanictrain_df[\"Family\"].loc[titanictrain_df[\"Family\"]==0]=0\n",
    "\n",
    "titanictest_df[\"Family\"]=titanictest_df[\"SibSp\"]+titanictest_df[\"Parch\"]\n",
    "titanictest_df[\"Family\"].loc[titanictest_df[\"Family\"]>0]=1\n",
    "titanictest_df[\"Family\"].loc[titanictest_df[\"Family\"]==0]=0\n",
    "\n",
    "titanictrain_df=titanictrain_df.drop(['SibSp','Parch'],axis=1)\n",
    "titanictest_df=titanictest_df.drop(['SibSp','Parch'],axis=1)\n"
   ]
  },
  {
   "cell_type": "code",
   "execution_count": 6,
   "metadata": {
    "_cell_guid": "6415042e-53e0-423e-80d5-7f42a5045570",
    "_uuid": "37bdb00b67e3f50d97ce29f69e38f84a3dd748fb",
    "collapsed": true
   },
   "outputs": [],
   "source": [
    "#Feature 6: Sex\n",
    "\n",
    "# As we see, children(age < ~16) on aboard seem to have a high chances for Survival.\n",
    "# So, we can classify passengers as males, females, and child\n",
    "def get_person(passenger):\n",
    "  age,sex = passenger\n",
    "  return 'child' if age < 16 else sex\n",
    "    \n",
    "titanictrain_df['Person'] = titanictrain_df[['Age','Sex']].apply(get_person,axis=1)\n",
    "titanictest_df['Person']    = titanictest_df[['Age','Sex']].apply(get_person,axis=1)\n",
    "\n",
    "titanictrain_df.drop(['Sex'],axis=1,inplace=True)\n",
    "titanictest_df.drop(['Sex'],axis=1,inplace=True)\n",
    "\n",
    "#remove male from person coz men are the least saved ones\n",
    "person_dummy_train=pd.get_dummies(titanictrain_df['Person'])\n",
    "person_dummy_train.columns=['Child','Female','Male']\n",
    "person_dummy_train.drop(['Male'],axis=1,inplace=True)\n",
    "\n",
    "person_dummy_test=pd.get_dummies(titanictest_df['Person'])\n",
    "person_dummy_test.columns=['Child','Female','Male']\n",
    "person_dummy_test.drop(['Male'],axis=1,inplace=True)\n",
    "\n",
    "titanictrain_df=titanictrain_df.join(person_dummy_train)\n",
    "titanictest_df=titanictest_df.join(person_dummy_test)\n",
    "titanictrain_df.drop(['Person'],axis=1,inplace=True)\n",
    "titanictest_df.drop(['Person'],axis=1,inplace=True)\n"
   ]
  },
  {
   "cell_type": "code",
   "execution_count": 7,
   "metadata": {
    "_cell_guid": "9b31d22b-ca9e-4fb6-9a0e-57b052def589",
    "_uuid": "a5b4ed551a430b5d77a3d78a2606425bfb6d0faf"
   },
   "outputs": [
    {
     "data": {
      "text/html": [
       "<div>\n",
       "<style>\n",
       "    .dataframe thead tr:only-child th {\n",
       "        text-align: right;\n",
       "    }\n",
       "\n",
       "    .dataframe thead th {\n",
       "        text-align: left;\n",
       "    }\n",
       "\n",
       "    .dataframe tbody tr th {\n",
       "        vertical-align: top;\n",
       "    }\n",
       "</style>\n",
       "<table border=\"1\" class=\"dataframe\">\n",
       "  <thead>\n",
       "    <tr style=\"text-align: right;\">\n",
       "      <th></th>\n",
       "      <th>Survived</th>\n",
       "      <th>Age</th>\n",
       "      <th>Fare</th>\n",
       "      <th>C</th>\n",
       "      <th>Q</th>\n",
       "      <th>Family</th>\n",
       "      <th>Child</th>\n",
       "      <th>Female</th>\n",
       "      <th>Class_1</th>\n",
       "      <th>Class_2</th>\n",
       "    </tr>\n",
       "  </thead>\n",
       "  <tbody>\n",
       "    <tr>\n",
       "      <th>0</th>\n",
       "      <td>0</td>\n",
       "      <td>22</td>\n",
       "      <td>7</td>\n",
       "      <td>0</td>\n",
       "      <td>0</td>\n",
       "      <td>1</td>\n",
       "      <td>0</td>\n",
       "      <td>0</td>\n",
       "      <td>0</td>\n",
       "      <td>0</td>\n",
       "    </tr>\n",
       "    <tr>\n",
       "      <th>1</th>\n",
       "      <td>1</td>\n",
       "      <td>38</td>\n",
       "      <td>71</td>\n",
       "      <td>1</td>\n",
       "      <td>0</td>\n",
       "      <td>1</td>\n",
       "      <td>0</td>\n",
       "      <td>1</td>\n",
       "      <td>1</td>\n",
       "      <td>0</td>\n",
       "    </tr>\n",
       "    <tr>\n",
       "      <th>2</th>\n",
       "      <td>1</td>\n",
       "      <td>26</td>\n",
       "      <td>7</td>\n",
       "      <td>0</td>\n",
       "      <td>0</td>\n",
       "      <td>0</td>\n",
       "      <td>0</td>\n",
       "      <td>1</td>\n",
       "      <td>0</td>\n",
       "      <td>0</td>\n",
       "    </tr>\n",
       "    <tr>\n",
       "      <th>3</th>\n",
       "      <td>1</td>\n",
       "      <td>35</td>\n",
       "      <td>53</td>\n",
       "      <td>0</td>\n",
       "      <td>0</td>\n",
       "      <td>1</td>\n",
       "      <td>0</td>\n",
       "      <td>1</td>\n",
       "      <td>1</td>\n",
       "      <td>0</td>\n",
       "    </tr>\n",
       "    <tr>\n",
       "      <th>4</th>\n",
       "      <td>0</td>\n",
       "      <td>35</td>\n",
       "      <td>8</td>\n",
       "      <td>0</td>\n",
       "      <td>0</td>\n",
       "      <td>0</td>\n",
       "      <td>0</td>\n",
       "      <td>0</td>\n",
       "      <td>0</td>\n",
       "      <td>0</td>\n",
       "    </tr>\n",
       "  </tbody>\n",
       "</table>\n",
       "</div>"
      ],
      "text/plain": [
       "   Survived  Age  Fare  C  Q  Family  Child  Female  Class_1  Class_2\n",
       "0         0   22     7  0  0       1      0       0        0        0\n",
       "1         1   38    71  1  0       1      0       1        1        0\n",
       "2         1   26     7  0  0       0      0       1        0        0\n",
       "3         1   35    53  0  0       1      0       1        1        0\n",
       "4         0   35     8  0  0       0      0       0        0        0"
      ]
     },
     "execution_count": 7,
     "metadata": {},
     "output_type": "execute_result"
    }
   ],
   "source": [
    "#Feature 7:  Pclass\n",
    "#sns.factorplot('Pclass','Survived',order=[1,2,3], data=titanictrain_df,size=5)\n",
    "\n",
    "# create dummy variables for Pclass column, & drop 3rd class as it has the lowest average of survived passengers\n",
    "pclass_dummies_train = pd.get_dummies(titanictrain_df['Pclass'])\n",
    "pclass_dummies_train.columns=['Class_1','Class_2','Class_3']\n",
    "pclass_dummies_train.drop(['Class_3'],axis=1, inplace=True)\n",
    "\n",
    "pclass_dummies_test = pd.get_dummies(titanictest_df['Pclass'])\n",
    "pclass_dummies_test.columns=['Class_1','Class_2','Class_3']\n",
    "pclass_dummies_test.drop(['Class_3'],axis=1, inplace=True)\n",
    "\n",
    "titanictrain_df=titanictrain_df.join(pclass_dummies_train)\n",
    "titanictest_df=titanictest_df.join(pclass_dummies_test)\n",
    "\n",
    "titanictrain_df.drop(['Pclass'],axis=1,inplace=True)\n",
    "titanictest_df.drop(['Pclass'],axis=1,inplace=True)\n",
    "\n",
    "titanictrain_df.head()"
   ]
  },
  {
   "cell_type": "code",
   "execution_count": 8,
   "metadata": {
    "_cell_guid": "78c28590-2bb7-4c28-8709-85a20024b021",
    "_uuid": "17d91841b39ddd18720a335f1f679f3cf5b12f40",
    "collapsed": true
   },
   "outputs": [],
   "source": [
    "#Define Training and Testing sets\n",
    "\n",
    "X_Train = titanictrain_df.drop(\"Survived\",axis=1)\n",
    "Y_Train = titanictrain_df[\"Survived\"]\n",
    "X_Test = titanictest_df.drop(\"PassengerId\",axis=1).copy()"
   ]
  },
  {
   "cell_type": "code",
   "execution_count": 9,
   "metadata": {
    "_cell_guid": "e2eae1cd-c3b5-4963-a903-4771f417ee52",
    "_uuid": "10e965375851f1d74e58201b90cc2931c647742b"
   },
   "outputs": [
    {
     "data": {
      "text/plain": [
       "0.80471380471380471"
      ]
     },
     "execution_count": 9,
     "metadata": {},
     "output_type": "execute_result"
    }
   ],
   "source": [
    "#Logistic Regression\n",
    "logreg = LogisticRegression()\n",
    "logreg.fit(X_Train, Y_Train)\n",
    "Y_pred = logreg.predict(X_Test)\n",
    "logreg.score(X_Train,Y_Train)\n"
   ]
  },
  {
   "cell_type": "code",
   "execution_count": 10,
   "metadata": {
    "_cell_guid": "469161db-0d69-44ed-85b9-594ca7a6bccb",
    "_uuid": "18c6ea7d59cde6ad4d24ab7a33ba2263ea8c32a9",
    "collapsed": true
   },
   "outputs": [],
   "source": []
  }
 ],
 "metadata": {
  "kernelspec": {
   "display_name": "Python 3",
   "language": "python",
   "name": "python3"
  },
  "language_info": {
   "codemirror_mode": {
    "name": "ipython",
    "version": 3
   },
   "file_extension": ".py",
   "mimetype": "text/x-python",
   "name": "python",
   "nbconvert_exporter": "python",
   "pygments_lexer": "ipython3",
   "version": "3.6.3"
  }
 },
 "nbformat": 4,
 "nbformat_minor": 1
}
