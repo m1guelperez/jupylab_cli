{
 "cells": [
  {
   "cell_type": "markdown",
   "execution_count": null,
   "metadata": {},
   "source": [
    "<h1 id=\"tocheading\">Table of Contents</h1>\n",
    "<div id=\"toc\"></div>"
   ]
  },
  {
   "cell_type": "code",
   "execution_count": 1,
   "metadata": {},
   "outputs": [
    {
     "data": {
      "application/javascript": [
       "$.getScript('https://kmahelona.github.io/ipython_notebook_goodies/ipython_notebook_toc.js')"
      ],
      "text/plain": [
       "<IPython.core.display.Javascript object>"
      ]
     },
     "metadata": {},
     "output_type": "display_data"
    }
   ],
   "source": [
    "%%javascript\n",
    "$.getScript('https://kmahelona.github.io/ipython_notebook_goodies/ipython_notebook_toc.js')"
   ]
  },
  {
   "cell_type": "markdown",
   "execution_count": null,
   "metadata": {
    "_uuid": "762db3adf372aea5d13bd50b8aeeac7f561e6f3f"
   },
   "source": [
    "This is my 2nd Kernel for this competition. Link to my previous kernel is pasted below.\n",
    "\n",
    "[Step By Step Tutorial For Beginners](http://www.kaggle.com/rp1611/step-by-step-tutorial-for-beginners)\n",
    "\n",
    "All data visualization remains the same, however, instead of emsembling method, I have tried simple neural network in this Kernal. The purpose of this kernel is to show how a simple NN model can be constructed. The model provides accuracy of **87.99%** on training dataset. \n",
    "\n",
    "The kernel is purely for learning purpose so I would keep the kernel simple and leave it as it is post training the model. The best way to learn is by practicing so please feel free to tweak the parameters and use the framework to further improve. \n",
    "\n",
    "**Remember...It's all about experimenting and learning.**\n",
    "\n",
    "\n",
    "**If you like this notebook or find this notebook helpful, Please upvote and/or leave a comment**"
   ]
  },
  {
   "cell_type": "markdown",
   "execution_count": null,
   "metadata": {},
   "source": [
    "# **Article on medium publication**\n",
    "\n",
    "\n",
    "I also wrote an article on medium on the same topic. You can [click this clink](https://medium.com/@rp1611/model-ensembles-for-survival-prediction-a3ecc9f7c2ae) and access the blog.\n"
   ]
  },
  {
   "cell_type": "markdown",
   "execution_count": null,
   "metadata": {
    "_uuid": "5a2d85d3533c25ba9e035977e994265429b8b744"
   },
   "source": [
    "# **What would be the workflow?**\n",
    "\n",
    "I will keep it simple & crisp rather than using buzz words & useless data science frameworks. Frankly speaking no one cares. \n",
    "\n",
    "This will help you to stay on track. So here is the workflow.\n",
    "\n",
    "**1. Problem Identification**\n",
    "\n",
    "**2. What data do we have?**\n",
    "\n",
    "**3. Exploratory data analysis**\n",
    "\n",
    "**4. Data preparation including feature engineering**\n",
    "\n",
    "**5. Developing a model**\n",
    "\n",
    "**6. Model evaluation**\n",
    "\n",
    "**7. Conclusions**\n",
    "\n",
    "**That's all you need to solve a data science problem.**"
   ]
  },
  {
   "cell_type": "markdown",
   "execution_count": null,
   "metadata": {
    "_uuid": "b6fbf513e47c6919dc4f11afde43d826d51aa578"
   },
   "source": [
    "# **Problem Identification** \n",
    "\n",
    "**Best Practice -** \n",
    "\n",
    "The most important part of any project is correct problem identification. Before you jump to \"How to do this\" part like typical Data Scientists, understand \"What/Why\" part.  \n",
    "Understand the problem first and draft a rough strategy on a piece of paper to start with. Write down things like what are you expected to do & what data you might need or let's say what all algorithms you plan to use. \n",
    "\n",
    "Now the <a href=\"https://www.kaggle.com/c/titanic/\"> Titanic challenge</a>  hosted by Kaggle is a competition in which the goal is to predict the survival or the death of a given passenger based on a set of variables describing  age, sex, or passenger's class on the boat.\n",
    "\n",
    "![](http://www.tyro.com/content/uploads/2016/04/blog-twenty-one-business-icebergs-sink-business-280416.jpg)\n",
    "\n",
    "So it is a classification problem and you are expected to predict Survived as 1 and Died as 0."
   ]
  },
  {
   "cell_type": "markdown",
   "execution_count": null,
   "metadata": {
    "_uuid": "3e92ce3869da9c0f748b8bf847e3a1fd8f43e4ea"
   },
   "source": [
    "# **What data do we have?**\n",
    "\n",
    "\n",
    "Let's import necessary libraries & bring in the datasets in Python environment first. Once we have the datasets in Python environment we can slice & dice the data to understand what we have and what is missing."
   ]
  },
  {
   "cell_type": "code",
   "execution_count": 2,
   "metadata": {
    "_uuid": "ba2388a955ff87a842421a8dff346e387c943155"
   },
   "outputs": [
    {
     "name": "stdout",
     "output_type": "stream",
     "text": [
      "<class 'pandas.core.frame.DataFrame'>\n",
      "RangeIndex: 891 entries, 0 to 890\n",
      "Data columns (total 12 columns):\n",
      "PassengerId    891 non-null int64\n",
      "Survived       891 non-null int64\n",
      "Pclass         891 non-null int64\n",
      "Name           891 non-null object\n",
      "Sex            891 non-null object\n",
      "Age            714 non-null float64\n",
      "SibSp          891 non-null int64\n",
      "Parch          891 non-null int64\n",
      "Ticket         891 non-null object\n",
      "Fare           891 non-null float64\n",
      "Cabin          204 non-null object\n",
      "Embarked       889 non-null object\n",
      "dtypes: float64(2), int64(5), object(5)\n",
      "memory usage: 83.6+ KB\n",
      "<class 'pandas.core.frame.DataFrame'>\n",
      "RangeIndex: 418 entries, 0 to 417\n",
      "Data columns (total 11 columns):\n",
      "PassengerId    418 non-null int64\n",
      "Pclass         418 non-null int64\n",
      "Name           418 non-null object\n",
      "Sex            418 non-null object\n",
      "Age            332 non-null float64\n",
      "SibSp          418 non-null int64\n",
      "Parch          418 non-null int64\n",
      "Ticket         418 non-null object\n",
      "Fare           417 non-null float64\n",
      "Cabin          91 non-null object\n",
      "Embarked       418 non-null object\n",
      "dtypes: float64(2), int64(4), object(5)\n",
      "memory usage: 36.0+ KB\n"
     ]
    }
   ],
   "source": [
    "# Import the basic python libraries\n",
    "import pandas as pd\n",
    "import numpy as np\n",
    "import seaborn as sns\n",
    "import matplotlib.pyplot as plt \n",
    "\n",
    "get_ipython().run_line_magic('matplotlib', 'inline')\n",
    "sns.set(style='white', context='notebook', palette='deep')\n",
    "import warnings\n",
    "warnings.filterwarnings('ignore')\n",
    "\n",
    "# Read the datasets\n",
    "train = pd.read_csv(\"../input/train.csv\")\n",
    "test = pd.read_csv(\"../input/test.csv\")\n",
    "IDtest = test[\"PassengerId\"]\n",
    "train.info()\n",
    "test.info()"
   ]
  },
  {
   "cell_type": "code",
   "execution_count": 3,
   "metadata": {
    "_uuid": "1b16faaf7e8107877fea47a9017df9398bbccb34"
   },
   "outputs": [
    {
     "name": "stdout",
     "output_type": "stream",
     "text": [
      "<class 'pandas.core.frame.DataFrame'>\n",
      "RangeIndex: 891 entries, 0 to 890\n",
      "Data columns (total 12 columns):\n",
      "PassengerId    891 non-null int64\n",
      "Survived       891 non-null int64\n",
      "Pclass         891 non-null int64\n",
      "Name           891 non-null object\n",
      "Sex            891 non-null object\n",
      "Age            714 non-null float64\n",
      "SibSp          891 non-null int64\n",
      "Parch          891 non-null int64\n",
      "Ticket         891 non-null object\n",
      "Fare           891 non-null float64\n",
      "Cabin          204 non-null object\n",
      "Embarked       889 non-null object\n",
      "dtypes: float64(2), int64(5), object(5)\n",
      "memory usage: 83.6+ KB\n"
     ]
    }
   ],
   "source": [
    "train.info() # We have 891 observations & 12 columns. See the mix of variable types."
   ]
  },
  {
   "cell_type": "code",
   "execution_count": 4,
   "metadata": {
    "_uuid": "5b8c22488ff36fc6ef6df7ca633f8c344108d157"
   },
   "outputs": [
    {
     "name": "stdout",
     "output_type": "stream",
     "text": [
      "<class 'pandas.core.frame.DataFrame'>\n",
      "RangeIndex: 418 entries, 0 to 417\n",
      "Data columns (total 11 columns):\n",
      "PassengerId    418 non-null int64\n",
      "Pclass         418 non-null int64\n",
      "Name           418 non-null object\n",
      "Sex            418 non-null object\n",
      "Age            332 non-null float64\n",
      "SibSp          418 non-null int64\n",
      "Parch          418 non-null int64\n",
      "Ticket         418 non-null object\n",
      "Fare           417 non-null float64\n",
      "Cabin          91 non-null object\n",
      "Embarked       418 non-null object\n",
      "dtypes: float64(2), int64(4), object(5)\n",
      "memory usage: 36.0+ KB\n"
     ]
    }
   ],
   "source": [
    "test.info() # We have 417 observations & 11 columns (no response 'Survived' column)."
   ]
  },
  {
   "cell_type": "markdown",
   "execution_count": null,
   "metadata": {
    "_uuid": "d77626295edb8819397862a3da630de9af95af74"
   },
   "source": [
    "# **Exploratory data analysis**\n",
    "\n",
    "One important aspect of machine learning is to ensure that the variables show almost the same trend across train & test data. If not, it would lead to overfitting because model is representing a relationship which is not applicable in the test dataset. \n",
    "\n",
    "I will give you one example here. As we do variable analysis, try to replicate (wherever applicable) the code for test data and see if there is any major difference in data distribution. \n",
    "\n",
    "**Example** - Let's start with finding the number of missing values. If you compare the output you will see that missing value percentages do not vary much across train & test datasets.\n",
    "\n",
    "Use the groupby/univariate/bivariate analysis method to compare the distribution across Train & Test data"
   ]
  },
  {
   "cell_type": "code",
   "execution_count": 5,
   "metadata": {
    "_uuid": "70a39bc792bf1720f8dec7d6ea717ffe9816a8af"
   },
   "outputs": [],
   "source": [
    "# Check missing values in train data set\n",
    "train_na = (train.isnull().sum() / len(train)) * 100\n",
    "train_na = train_na.drop(train_na[train_na == 0].index).sort_values(ascending=False)[:30]\n",
    "miss_train = pd.DataFrame({'Train Missing Ratio' :train_na})\n",
    "miss_train.head()\n",
    "\n",
    "# Check missing values in train data set\n",
    "test_na = (test.isnull().sum() / len(test)) * 100\n",
    "test_na = test_na.drop(test_na[test_na == 0].index).sort_values(ascending=False)[:30]\n",
    "miss_test = pd.DataFrame({'Test Missing Ratio' :test_na})\n",
    "miss_test.head()\n",
    "\n",
    "# Fill empty and NaNs values with NaN\n",
    "train = train.fillna(np.nan)\n",
    "test = test.fillna(np.nan)"
   ]
  },
  {
   "cell_type": "markdown",
   "execution_count": null,
   "metadata": {
    "_uuid": "ed251c6dec1785fdb82de8eaa675f46986557c21"
   },
   "source": [
    "**PassengerId**\n",
    "\n",
    "Not relevant from modeling perspective so we will drop this variable later"
   ]
  },
  {
   "cell_type": "markdown",
   "execution_count": null,
   "metadata": {
    "_uuid": "4633ab44bc65651715cf60ef4d4c0f56cb9cd602"
   },
   "source": [
    "**Pclass**\n",
    "\n",
    "Pclass is categorical variable. Let's look at the distribution."
   ]
  },
  {
   "cell_type": "code",
   "execution_count": 6,
   "metadata": {
    "_uuid": "02b5abf56e329bda1c7525fde6febe4faaf87a0e"
   },
   "outputs": [
    {
     "data": {
      "text/html": [
       "<div>\n",
       "<style scoped>\n",
       "    .dataframe tbody tr th:only-of-type {\n",
       "        vertical-align: middle;\n",
       "    }\n",
       "\n",
       "    .dataframe tbody tr th {\n",
       "        vertical-align: top;\n",
       "    }\n",
       "\n",
       "    .dataframe thead th {\n",
       "        text-align: right;\n",
       "    }\n",
       "</style>\n",
       "<table border=\"1\" class=\"dataframe\">\n",
       "  <thead>\n",
       "    <tr style=\"text-align: right;\">\n",
       "      <th></th>\n",
       "      <th>Survived</th>\n",
       "    </tr>\n",
       "    <tr>\n",
       "      <th>Pclass</th>\n",
       "      <th></th>\n",
       "    </tr>\n",
       "  </thead>\n",
       "  <tbody>\n",
       "    <tr>\n",
       "      <th>3</th>\n",
       "      <td>491</td>\n",
       "    </tr>\n",
       "    <tr>\n",
       "      <th>1</th>\n",
       "      <td>216</td>\n",
       "    </tr>\n",
       "    <tr>\n",
       "      <th>2</th>\n",
       "      <td>184</td>\n",
       "    </tr>\n",
       "  </tbody>\n",
       "</table>\n",
       "</div>"
      ],
      "text/plain": [
       "        Survived\n",
       "Pclass          \n",
       "3            491\n",
       "1            216\n",
       "2            184"
      ]
     },
     "execution_count": 6,
     "metadata": {},
     "output_type": "execute_result"
    },
    {
     "data": {
      "image/png": "[encoded data removed]",
      "text/plain": [
       "<Figure size 432x288 with 1 Axes>"
      ]
     },
     "metadata": {},
     "output_type": "display_data"
    }
   ],
   "source": [
    "# Analyze the count of survivors by Pclass\n",
    "ax = sns.countplot(x=\"Pclass\", hue=\"Survived\", data=train)\n",
    "train[['Pclass', 'Survived']].groupby(['Pclass']).count().sort_values(by='Survived', ascending=False)"
   ]
  },
  {
   "cell_type": "code",
   "execution_count": 7,
   "metadata": {
    "_uuid": "572de6d9ddd104546385f79de63003bc93b6b6a0"
   },
   "outputs": [
    {
     "data": {
      "text/html": [
       "<div>\n",
       "<style scoped>\n",
       "    .dataframe tbody tr th:only-of-type {\n",
       "        vertical-align: middle;\n",
       "    }\n",
       "\n",
       "    .dataframe tbody tr th {\n",
       "        vertical-align: top;\n",
       "    }\n",
       "\n",
       "    .dataframe thead th {\n",
       "        text-align: right;\n",
       "    }\n",
       "</style>\n",
       "<table border=\"1\" class=\"dataframe\">\n",
       "  <thead>\n",
       "    <tr style=\"text-align: right;\">\n",
       "      <th></th>\n",
       "      <th>Survived</th>\n",
       "    </tr>\n",
       "    <tr>\n",
       "      <th>Pclass</th>\n",
       "      <th></th>\n",
       "    </tr>\n",
       "  </thead>\n",
       "  <tbody>\n",
       "    <tr>\n",
       "      <th>1</th>\n",
       "      <td>0.629630</td>\n",
       "    </tr>\n",
       "    <tr>\n",
       "      <th>2</th>\n",
       "      <td>0.472826</td>\n",
       "    </tr>\n",
       "    <tr>\n",
       "      <th>3</th>\n",
       "      <td>0.242363</td>\n",
       "    </tr>\n",
       "  </tbody>\n",
       "</table>\n",
       "</div>"
      ],
      "text/plain": [
       "        Survived\n",
       "Pclass          \n",
       "1       0.629630\n",
       "2       0.472826\n",
       "3       0.242363"
      ]
     },
     "execution_count": 7,
     "metadata": {},
     "output_type": "execute_result"
    },
    {
     "data": {
      "image/png": "[encoded data removed]",
      "text/plain": [
       "<Figure size 432x288 with 1 Axes>"
      ]
     },
     "metadata": {},
     "output_type": "display_data"
    }
   ],
   "source": [
    "# Analyze the Survival Probability by Pclass\n",
    "g = sns.barplot(x=\"Pclass\",y=\"Survived\",data=train)\n",
    "g = g.set_ylabel(\"Survival Probability\")\n",
    "train[['Pclass', 'Survived']].groupby(['Pclass']).mean().sort_values(by='Survived', ascending=False)"
   ]
  },
  {
   "cell_type": "markdown",
   "execution_count": null,
   "metadata": {
    "_uuid": "99ea5ef744ab6d7396fc73ad60150e99a3479167"
   },
   "source": [
    "Approximately 62% of Pclass = 1 passenger survived followed by 47% of Pclass2."
   ]
  },
  {
   "cell_type": "markdown",
   "execution_count": null,
   "metadata": {
    "_uuid": "3cb40cafbbd7bdc74e39302dbfc46577392ac6ab"
   },
   "source": [
    "**Name**\n",
    "\n",
    "Not relevant from analysis & modeling perspective. We will drop this feature later after creating a new variable as Title."
   ]
  },
  {
   "cell_type": "markdown",
   "execution_count": null,
   "metadata": {
    "_uuid": "367d6832643bc7aa379699722d795c1723160e4f"
   },
   "source": [
    "**Sex**\n",
    "\n",
    "Based on analysis below, female had better chances of survival. \n",
    "\n",
    "![](https://www.ajc.com/rf/image_large/Pub/p9/AJC/2018/07/12/Images/newsEngin.22048809_071418-titanic_Titanic-Image-7--2-.jpg)"
   ]
  },
  {
   "cell_type": "code",
   "execution_count": 8,
   "metadata": {
    "_uuid": "082001f486cb3397fecce23f3963dbd702004f11"
   },
   "outputs": [
    {
     "data": {
      "text/html": [
       "<div>\n",
       "<style scoped>\n",
       "    .dataframe tbody tr th:only-of-type {\n",
       "        vertical-align: middle;\n",
       "    }\n",
       "\n",
       "    .dataframe tbody tr th {\n",
       "        vertical-align: top;\n",
       "    }\n",
       "\n",
       "    .dataframe thead th {\n",
       "        text-align: right;\n",
       "    }\n",
       "</style>\n",
       "<table border=\"1\" class=\"dataframe\">\n",
       "  <thead>\n",
       "    <tr style=\"text-align: right;\">\n",
       "      <th></th>\n",
       "      <th>Survived</th>\n",
       "    </tr>\n",
       "    <tr>\n",
       "      <th>Sex</th>\n",
       "      <th></th>\n",
       "    </tr>\n",
       "  </thead>\n",
       "  <tbody>\n",
       "    <tr>\n",
       "      <th>male</th>\n",
       "      <td>577</td>\n",
       "    </tr>\n",
       "    <tr>\n",
       "      <th>female</th>\n",
       "      <td>314</td>\n",
       "    </tr>\n",
       "  </tbody>\n",
       "</table>\n",
       "</div>"
      ],
      "text/plain": [
       "        Survived\n",
       "Sex             \n",
       "male         577\n",
       "female       314"
      ]
     },
     "execution_count": 8,
     "metadata": {},
     "output_type": "execute_result"
    },
    {
     "data": {
      "image/png": "[encoded data removed]",
      "text/plain": [
       "<Figure size 432x288 with 1 Axes>"
      ]
     },
     "metadata": {},
     "output_type": "display_data"
    }
   ],
   "source": [
    "# Count the number of passengers by gender\n",
    "ax = sns.countplot(x=\"Sex\", hue=\"Survived\", data=train)\n",
    "# Analyze survival count by gender\n",
    "train[[\"Sex\", \"Survived\"]].groupby(['Sex']).count().sort_values(by='Survived', ascending=False)"
   ]
  },
  {
   "cell_type": "code",
   "execution_count": 9,
   "metadata": {
    "_uuid": "e09e151e6dc8536615875b8a7fc15cbfd4b00367"
   },
   "outputs": [
    {
     "data": {
      "text/html": [
       "<div>\n",
       "<style scoped>\n",
       "    .dataframe tbody tr th:only-of-type {\n",
       "        vertical-align: middle;\n",
       "    }\n",
       "\n",
       "    .dataframe tbody tr th {\n",
       "        vertical-align: top;\n",
       "    }\n",
       "\n",
       "    .dataframe thead th {\n",
       "        text-align: right;\n",
       "    }\n",
       "</style>\n",
       "<table border=\"1\" class=\"dataframe\">\n",
       "  <thead>\n",
       "    <tr style=\"text-align: right;\">\n",
       "      <th></th>\n",
       "      <th>Survived</th>\n",
       "    </tr>\n",
       "    <tr>\n",
       "      <th>Sex</th>\n",
       "      <th></th>\n",
       "    </tr>\n",
       "  </thead>\n",
       "  <tbody>\n",
       "    <tr>\n",
       "      <th>female</th>\n",
       "      <td>0.742038</td>\n",
       "    </tr>\n",
       "    <tr>\n",
       "      <th>male</th>\n",
       "      <td>0.188908</td>\n",
       "    </tr>\n",
       "  </tbody>\n",
       "</table>\n",
       "</div>"
      ],
      "text/plain": [
       "        Survived\n",
       "Sex             \n",
       "female  0.742038\n",
       "male    0.188908"
      ]
     },
     "execution_count": 9,
     "metadata": {},
     "output_type": "execute_result"
    },
    {
     "data": {
      "image/png": "[encoded data removed]",
      "text/plain": [
       "<Figure size 432x288 with 1 Axes>"
      ]
     },
     "metadata": {},
     "output_type": "display_data"
    }
   ],
   "source": [
    "# Analyze the Survival Probability by Gender\n",
    "g = sns.barplot(x=\"Sex\",y=\"Survived\",data=train)\n",
    "g = g.set_ylabel(\"Survival Probability\")\n",
    "train[[\"Sex\", \"Survived\"]].groupby(['Sex']).mean().sort_values(by='Survived', ascending=False)"
   ]
  },
  {
   "cell_type": "markdown",
   "execution_count": null,
   "metadata": {
    "_uuid": "d23539445192cf450ad54c79a0e6a7b77f034534"
   },
   "source": [
    "Based on data above, female passengers had better chances of survival than male passengers"
   ]
  },
  {
   "cell_type": "markdown",
   "execution_count": null,
   "metadata": {
    "_uuid": "ff453189556bfc633b5b65f5a7ab33c512c31db9"
   },
   "source": [
    "**Age**\n",
    "\n",
    "The insight below connects back to \"Ladies and Kids First\" scene of the movie. It shows that a good number of babies & young kids survived."
   ]
  },
  {
   "cell_type": "code",
   "execution_count": 10,
   "metadata": {
    "_uuid": "5bbd39cf1589cfa77de7ba0a75658da2bf475bcc"
   },
   "outputs": [
    {
     "data": {
      "image/png": "[encoded data removed]",
      "text/plain": [
       "<Figure size 720x576 with 1 Axes>"
      ]
     },
     "metadata": {},
     "output_type": "display_data"
    }
   ],
   "source": [
    "# Let's explore the distribution of age by response variable (Survived)\n",
    "fig = plt.figure(figsize=(10,8),)\n",
    "axis = sns.kdeplot(train.loc[(train['Survived'] == 1),'Age'] , color='g',shade=True, label='Survived')\n",
    "axis = sns.kdeplot(train.loc[(train['Survived'] == 0),'Age'] , color='b',shade=True,label='Did Not Survived')\n",
    "plt.title('Age Distribution - Surviver V.S. Non Survivors', fontsize = 20)\n",
    "plt.xlabel(\"Passenger Age\", fontsize = 12)\n",
    "plt.ylabel('Frequency', fontsize = 12);"
   ]
  },
  {
   "cell_type": "code",
   "execution_count": 11,
   "metadata": {
    "_uuid": "4aa1c91ed0ae561402351195a449d654928aba65"
   },
   "outputs": [
    {
     "data": {
      "text/plain": [
       "<seaborn.axisgrid.FacetGrid at 0x7f12733ee630>"
      ]
     },
     "execution_count": 11,
     "metadata": {},
     "output_type": "execute_result"
    },
    {
     "data": {
      "image/png": "[encoded data removed]",
      "text/plain": [
       "<Figure size 360x360 with 1 Axes>"
      ]
     },
     "metadata": {},
     "output_type": "display_data"
    }
   ],
   "source": [
    "sns.lmplot('Age','Survived',data=train)\n",
    "\n",
    "# We can also say that the older the passenger the lesser the chance of survival"
   ]
  },
  {
   "cell_type": "markdown",
   "execution_count": null,
   "metadata": {
    "_uuid": "a9cb59ebd5aa97288a029031828a2423106d8ec9"
   },
   "source": [
    "**SibSP**\n",
    "\n",
    "This variable refers to number of siblings/spouse onboard. SibSP = 1 and SibSP = 2 shows higher chances of survival."
   ]
  },
  {
   "cell_type": "code",
   "execution_count": 12,
   "metadata": {
    "_uuid": "3f19f567e202c1e140077f03badc5e63dfba8245"
   },
   "outputs": [
    {
     "data": {
      "text/html": [
       "<div>\n",
       "<style scoped>\n",
       "    .dataframe tbody tr th:only-of-type {\n",
       "        vertical-align: middle;\n",
       "    }\n",
       "\n",
       "    .dataframe tbody tr th {\n",
       "        vertical-align: top;\n",
       "    }\n",
       "\n",
       "    .dataframe thead th {\n",
       "        text-align: right;\n",
       "    }\n",
       "</style>\n",
       "<table border=\"1\" class=\"dataframe\">\n",
       "  <thead>\n",
       "    <tr style=\"text-align: right;\">\n",
       "      <th></th>\n",
       "      <th>Survived</th>\n",
       "    </tr>\n",
       "    <tr>\n",
       "      <th>SibSp</th>\n",
       "      <th></th>\n",
       "    </tr>\n",
       "  </thead>\n",
       "  <tbody>\n",
       "    <tr>\n",
       "      <th>0</th>\n",
       "      <td>608</td>\n",
       "    </tr>\n",
       "    <tr>\n",
       "      <th>1</th>\n",
       "      <td>209</td>\n",
       "    </tr>\n",
       "    <tr>\n",
       "      <th>2</th>\n",
       "      <td>28</td>\n",
       "    </tr>\n",
       "    <tr>\n",
       "      <th>4</th>\n",
       "      <td>18</td>\n",
       "    </tr>\n",
       "    <tr>\n",
       "      <th>3</th>\n",
       "      <td>16</td>\n",
       "    </tr>\n",
       "    <tr>\n",
       "      <th>8</th>\n",
       "      <td>7</td>\n",
       "    </tr>\n",
       "    <tr>\n",
       "      <th>5</th>\n",
       "      <td>5</td>\n",
       "    </tr>\n",
       "  </tbody>\n",
       "</table>\n",
       "</div>"
      ],
      "text/plain": [
       "       Survived\n",
       "SibSp          \n",
       "0           608\n",
       "1           209\n",
       "2            28\n",
       "4            18\n",
       "3            16\n",
       "8             7\n",
       "5             5"
      ]
     },
     "execution_count": 12,
     "metadata": {},
     "output_type": "execute_result"
    },
    {
     "data": {
      "image/png": "[encoded data removed]",
      "text/plain": [
       "<Figure size 432x288 with 1 Axes>"
      ]
     },
     "metadata": {},
     "output_type": "display_data"
    }
   ],
   "source": [
    "# Analyze the count of survivors by SibSP\n",
    "\n",
    "ax = sns.countplot(x=\"SibSp\", hue=\"Survived\", data=train)\n",
    "train[['SibSp', 'Survived']].groupby(['SibSp']).count().sort_values(by='Survived', ascending=False)"
   ]
  },
  {
   "cell_type": "code",
   "execution_count": 13,
   "metadata": {
    "_uuid": "16bba43d835f146baac86e2bed8ba2ac26ad5547"
   },
   "outputs": [
    {
     "data": {
      "text/html": [
       "<div>\n",
       "<style scoped>\n",
       "    .dataframe tbody tr th:only-of-type {\n",
       "        vertical-align: middle;\n",
       "    }\n",
       "\n",
       "    .dataframe tbody tr th {\n",
       "        vertical-align: top;\n",
       "    }\n",
       "\n",
       "    .dataframe thead th {\n",
       "        text-align: right;\n",
       "    }\n",
       "</style>\n",
       "<table border=\"1\" class=\"dataframe\">\n",
       "  <thead>\n",
       "    <tr style=\"text-align: right;\">\n",
       "      <th></th>\n",
       "      <th>Survived</th>\n",
       "    </tr>\n",
       "    <tr>\n",
       "      <th>SibSp</th>\n",
       "      <th></th>\n",
       "    </tr>\n",
       "  </thead>\n",
       "  <tbody>\n",
       "    <tr>\n",
       "      <th>1</th>\n",
       "      <td>0.535885</td>\n",
       "    </tr>\n",
       "    <tr>\n",
       "      <th>2</th>\n",
       "      <td>0.464286</td>\n",
       "    </tr>\n",
       "    <tr>\n",
       "      <th>0</th>\n",
       "      <td>0.345395</td>\n",
       "    </tr>\n",
       "    <tr>\n",
       "      <th>3</th>\n",
       "      <td>0.250000</td>\n",
       "    </tr>\n",
       "    <tr>\n",
       "      <th>4</th>\n",
       "      <td>0.166667</td>\n",
       "    </tr>\n",
       "    <tr>\n",
       "      <th>5</th>\n",
       "      <td>0.000000</td>\n",
       "    </tr>\n",
       "    <tr>\n",
       "      <th>8</th>\n",
       "      <td>0.000000</td>\n",
       "    </tr>\n",
       "  </tbody>\n",
       "</table>\n",
       "</div>"
      ],
      "text/plain": [
       "       Survived\n",
       "SibSp          \n",
       "1      0.535885\n",
       "2      0.464286\n",
       "0      0.345395\n",
       "3      0.250000\n",
       "4      0.166667\n",
       "5      0.000000\n",
       "8      0.000000"
      ]
     },
     "execution_count": 13,
     "metadata": {},
     "output_type": "execute_result"
    },
    {
     "data": {
      "image/png": "[encoded data removed]",
      "text/plain": [
       "<Figure size 504x504 with 1 Axes>"
      ]
     },
     "metadata": {},
     "output_type": "display_data"
    }
   ],
   "source": [
    "# Analyze probability of survival by SibSP\n",
    "g  = sns.factorplot(x=\"SibSp\",y=\"Survived\",data=train,kind=\"bar\", size = 7 ,palette = \"muted\")\n",
    "g.despine(left=True)\n",
    "g = g.set_ylabels(\"survival probability\")\n",
    "train[[\"SibSp\", \"Survived\"]].groupby(['SibSp']).mean().sort_values(by='Survived', ascending=False)"
   ]
  },
  {
   "cell_type": "markdown",
   "execution_count": null,
   "metadata": {
    "_uuid": "1e450a6dd9b0e0bdfafb4ae0052be978c07d0486"
   },
   "source": [
    "**Parch**\n",
    "\n",
    "Parch indicates number of parents / children aboard the Titanic. Note that Parch = 3 and Parch = 1 shows higher survival probabilities. "
   ]
  },
  {
   "cell_type": "code",
   "execution_count": 14,
   "metadata": {
    "_uuid": "67bfdf552febd9fed9c7ad37280cc811bf7ce7b2"
   },
   "outputs": [
    {
     "data": {
      "text/html": [
       "<div>\n",
       "<style scoped>\n",
       "    .dataframe tbody tr th:only-of-type {\n",
       "        vertical-align: middle;\n",
       "    }\n",
       "\n",
       "    .dataframe tbody tr th {\n",
       "        vertical-align: top;\n",
       "    }\n",
       "\n",
       "    .dataframe thead th {\n",
       "        text-align: right;\n",
       "    }\n",
       "</style>\n",
       "<table border=\"1\" class=\"dataframe\">\n",
       "  <thead>\n",
       "    <tr style=\"text-align: right;\">\n",
       "      <th></th>\n",
       "      <th>Survived</th>\n",
       "    </tr>\n",
       "    <tr>\n",
       "      <th>Parch</th>\n",
       "      <th></th>\n",
       "    </tr>\n",
       "  </thead>\n",
       "  <tbody>\n",
       "    <tr>\n",
       "      <th>0</th>\n",
       "      <td>678</td>\n",
       "    </tr>\n",
       "    <tr>\n",
       "      <th>1</th>\n",
       "      <td>118</td>\n",
       "    </tr>\n",
       "    <tr>\n",
       "      <th>2</th>\n",
       "      <td>80</td>\n",
       "    </tr>\n",
       "    <tr>\n",
       "      <th>3</th>\n",
       "      <td>5</td>\n",
       "    </tr>\n",
       "    <tr>\n",
       "      <th>5</th>\n",
       "      <td>5</td>\n",
       "    </tr>\n",
       "    <tr>\n",
       "      <th>4</th>\n",
       "      <td>4</td>\n",
       "    </tr>\n",
       "    <tr>\n",
       "      <th>6</th>\n",
       "      <td>1</td>\n",
       "    </tr>\n",
       "  </tbody>\n",
       "</table>\n",
       "</div>"
      ],
      "text/plain": [
       "       Survived\n",
       "Parch          \n",
       "0           678\n",
       "1           118\n",
       "2            80\n",
       "3             5\n",
       "5             5\n",
       "4             4\n",
       "6             1"
      ]
     },
     "execution_count": 14,
     "metadata": {},
     "output_type": "execute_result"
    },
    {
     "data": {
      "image/png": "[encoded data removed]",
      "text/plain": [
       "<Figure size 432x288 with 1 Axes>"
      ]
     },
     "metadata": {},
     "output_type": "display_data"
    }
   ],
   "source": [
    "# Analyze the count of survivors by Parch\n",
    "\n",
    "ax = sns.countplot(x=\"Parch\", hue=\"Survived\", data=train)\n",
    "train[['Parch', 'Survived']].groupby(['Parch']).count().sort_values(by='Survived', ascending=False)"
   ]
  },
  {
   "cell_type": "code",
   "execution_count": 15,
   "metadata": {
    "_uuid": "ddade8ef9f0373ebab6a2496f400fa65753f6caf"
   },
   "outputs": [
    {
     "data": {
      "text/html": [
       "<div>\n",
       "<style scoped>\n",
       "    .dataframe tbody tr th:only-of-type {\n",
       "        vertical-align: middle;\n",
       "    }\n",
       "\n",
       "    .dataframe tbody tr th {\n",
       "        vertical-align: top;\n",
       "    }\n",
       "\n",
       "    .dataframe thead th {\n",
       "        text-align: right;\n",
       "    }\n",
       "</style>\n",
       "<table border=\"1\" class=\"dataframe\">\n",
       "  <thead>\n",
       "    <tr style=\"text-align: right;\">\n",
       "      <th></th>\n",
       "      <th>Survived</th>\n",
       "    </tr>\n",
       "    <tr>\n",
       "      <th>Parch</th>\n",
       "      <th></th>\n",
       "    </tr>\n",
       "  </thead>\n",
       "  <tbody>\n",
       "    <tr>\n",
       "      <th>3</th>\n",
       "      <td>0.600000</td>\n",
       "    </tr>\n",
       "    <tr>\n",
       "      <th>1</th>\n",
       "      <td>0.550847</td>\n",
       "    </tr>\n",
       "    <tr>\n",
       "      <th>2</th>\n",
       "      <td>0.500000</td>\n",
       "    </tr>\n",
       "    <tr>\n",
       "      <th>0</th>\n",
       "      <td>0.343658</td>\n",
       "    </tr>\n",
       "    <tr>\n",
       "      <th>5</th>\n",
       "      <td>0.200000</td>\n",
       "    </tr>\n",
       "    <tr>\n",
       "      <th>4</th>\n",
       "      <td>0.000000</td>\n",
       "    </tr>\n",
       "    <tr>\n",
       "      <th>6</th>\n",
       "      <td>0.000000</td>\n",
       "    </tr>\n",
       "  </tbody>\n",
       "</table>\n",
       "</div>"
      ],
      "text/plain": [
       "       Survived\n",
       "Parch          \n",
       "3      0.600000\n",
       "1      0.550847\n",
       "2      0.500000\n",
       "0      0.343658\n",
       "5      0.200000\n",
       "4      0.000000\n",
       "6      0.000000"
      ]
     },
     "execution_count": 15,
     "metadata": {},
     "output_type": "execute_result"
    },
    {
     "data": {
      "image/png": "[encoded data removed]",
      "text/plain": [
       "<Figure size 504x504 with 1 Axes>"
      ]
     },
     "metadata": {},
     "output_type": "display_data"
    }
   ],
   "source": [
    "# Analyze the Survival Probability by Parch\n",
    "g  = sns.factorplot(x=\"Parch\",y=\"Survived\",data=train,kind=\"bar\", size = 7 ,palette = \"muted\")\n",
    "g.despine(left=True)\n",
    "g = g.set_ylabels(\"Survival Probability\")\n",
    "train[[\"Parch\", \"Survived\"]].groupby(['Parch']).mean().sort_values(by='Survived', ascending=False)"
   ]
  },
  {
   "cell_type": "markdown",
   "execution_count": null,
   "metadata": {
    "_uuid": "a172d6b011b38b7adb7a59cef415279459a5ea63"
   },
   "source": [
    "**Ticket**\n",
    "\n",
    "This variable has alphanumeric value which might not be related to Survival directly but we can use this variable to create some additional features."
   ]
  },
  {
   "cell_type": "code",
   "execution_count": 16,
   "metadata": {
    "_uuid": "9d606873c54e30ba3aace372ef18dd816f0deb6f"
   },
   "outputs": [
    {
     "data": {
      "text/plain": [
       "0           A/5 21171\n",
       "1            PC 17599\n",
       "2    STON/O2. 3101282\n",
       "3              113803\n",
       "4              373450\n",
       "Name: Ticket, dtype: object"
      ]
     },
     "execution_count": 16,
     "metadata": {},
     "output_type": "execute_result"
    }
   ],
   "source": [
    "train['Ticket'].head()"
   ]
  },
  {
   "cell_type": "markdown",
   "execution_count": null,
   "metadata": {
    "_uuid": "754f852ff1b4d429e7f440f2c9377d2f29fb6e77"
   },
   "source": [
    "**Fare**\n",
    "\n",
    "Let's check the distribution first."
   ]
  },
  {
   "cell_type": "code",
   "execution_count": 17,
   "metadata": {
    "_uuid": "504240e6309d874a22db3e69f71563d4d0b240a6"
   },
   "outputs": [
    {
     "name": "stdout",
     "output_type": "stream",
     "text": [
      "\n",
      " mu = 32.20 and sigma = 49.67\n",
      "\n"
     ]
    },
    {
     "data": {
      "text/plain": [
       "Text(0.5,1,'Fare distribution')"
      ]
     },
     "execution_count": 17,
     "metadata": {},
     "output_type": "execute_result"
    },
    {
     "data": {
      "image/png": "[encoded data removed]",
      "text/plain": [
       "<Figure size 432x288 with 1 Axes>"
      ]
     },
     "metadata": {},
     "output_type": "display_data"
    }
   ],
   "source": [
    "from scipy import stats\n",
    "from scipy.stats import norm, skew #for some statistics\n",
    "sns.distplot(train['Fare'] , fit=norm);\n",
    "# Get the fitted parameters used by the function\n",
    "(mu, sigma) = norm.fit(train['Fare'])\n",
    "print( '\\n mu = {:.2f} and sigma = {:.2f}\\n'.format(mu, sigma))\n",
    "#Now plot the distribution\n",
    "plt.legend(['Normal dist. ($\\mu=$ {:.2f} and $\\sigma=$ {:.2f} )'.format(mu, sigma)],loc='best')\n",
    "plt.ylabel('Frequency')\n",
    "plt.title('Fare distribution')"
   ]
  },
  {
   "cell_type": "markdown",
   "execution_count": null,
   "metadata": {
    "_uuid": "a5369c51fa10fda70f84aa42a053ffb03b486143"
   },
   "source": [
    "The Fare variable is right skewed. We need to transform this variable using log function and make it more normally distributed. We will do this during feature engineering process."
   ]
  },
  {
   "cell_type": "markdown",
   "execution_count": null,
   "metadata": {
    "_uuid": "2c34d20a2a95e5f5449d9d2fcbafb59de8d50687"
   },
   "source": [
    "**Cabin**\n",
    "\n",
    "Alphanumeric variable. \n",
    "\n",
    "687 missing values in train & 327 missing values in test data - which needs to be treated. We can create more features using this Cabin variable. "
   ]
  },
  {
   "cell_type": "code",
   "execution_count": 18,
   "metadata": {
    "_uuid": "68ec1a3cab8c17ba89db9238c72df4d9aa5fbcc1"
   },
   "outputs": [
    {
     "data": {
      "text/plain": [
       "array([nan, 'C85', 'C123', 'E46', 'G6', 'C103', 'D56', 'A6',\n",
       "       'C23 C25 C27', 'B78', 'D33', 'B30', 'C52', 'B28', 'C83', 'F33',\n",
       "       'F G73', 'E31', 'A5', 'D10 D12', 'D26', 'C110', 'B58 B60', 'E101',\n",
       "       'F E69', 'D47', 'B86', 'F2', 'C2', 'E33', 'B19', 'A7', 'C49', 'F4',\n",
       "       'A32', 'B4', 'B80', 'A31', 'D36', 'D15', 'C93', 'C78', 'D35',\n",
       "       'C87', 'B77', 'E67', 'B94', 'C125', 'C99', 'C118', 'D7', 'A19',\n",
       "       'B49', 'D', 'C22 C26', 'C106', 'C65', 'E36', 'C54',\n",
       "       'B57 B59 B63 B66', 'C7', 'E34', 'C32', 'B18', 'C124', 'C91', 'E40',\n",
       "       'T', 'C128', 'D37', 'B35', 'E50', 'C82', 'B96 B98', 'E10', 'E44',\n",
       "       'A34', 'C104', 'C111', 'C92', 'E38', 'D21', 'E12', 'E63', 'A14',\n",
       "       'B37', 'C30', 'D20', 'B79', 'E25', 'D46', 'B73', 'C95', 'B38',\n",
       "       'B39', 'B22', 'C86', 'C70', 'A16', 'C101', 'C68', 'A10', 'E68',\n",
       "       'B41', 'A20', 'D19', 'D50', 'D9', 'A23', 'B50', 'A26', 'D48',\n",
       "       'E58', 'C126', 'B71', 'B51 B53 B55', 'D49', 'B5', 'B20', 'F G63',\n",
       "       'C62 C64', 'E24', 'C90', 'C45', 'E8', 'B101', 'D45', 'C46', 'D30',\n",
       "       'E121', 'D11', 'E77', 'F38', 'B3', 'D6', 'B82 B84', 'D17', 'A36',\n",
       "       'B102', 'B69', 'E49', 'C47', 'D28', 'E17', 'A24', 'C50', 'B42',\n",
       "       'C148'], dtype=object)"
      ]
     },
     "execution_count": 18,
     "metadata": {},
     "output_type": "execute_result"
    }
   ],
   "source": [
    "# Let's check the unique values\n",
    "train['Cabin'].unique()"
   ]
  },
  {
   "cell_type": "markdown",
   "execution_count": null,
   "metadata": {
    "_uuid": "4ab411fe4009615c143eb2c7b8e1533b4ebdd7a5"
   },
   "source": [
    "**Embarked**\n",
    "\n",
    "C = Cherbourg, Q = Queenstown, S = Southampton\n",
    "\n",
    "Let's explore the variable with Survival rate. Embarked represents port of embarkation. As the analysis output below suggests Emabrked C shows high probabilities of survival."
   ]
  },
  {
   "cell_type": "code",
   "execution_count": 19,
   "metadata": {
    "_uuid": "d3d6a8f503269671db2b3cfaafdc432322f2cf42"
   },
   "outputs": [
    {
     "data": {
      "text/html": [
       "<div>\n",
       "<style scoped>\n",
       "    .dataframe tbody tr th:only-of-type {\n",
       "        vertical-align: middle;\n",
       "    }\n",
       "\n",
       "    .dataframe tbody tr th {\n",
       "        vertical-align: top;\n",
       "    }\n",
       "\n",
       "    .dataframe thead th {\n",
       "        text-align: right;\n",
       "    }\n",
       "</style>\n",
       "<table border=\"1\" class=\"dataframe\">\n",
       "  <thead>\n",
       "    <tr style=\"text-align: right;\">\n",
       "      <th></th>\n",
       "      <th>Survived</th>\n",
       "    </tr>\n",
       "    <tr>\n",
       "      <th>Embarked</th>\n",
       "      <th></th>\n",
       "    </tr>\n",
       "  </thead>\n",
       "  <tbody>\n",
       "    <tr>\n",
       "      <th>S</th>\n",
       "      <td>644</td>\n",
       "    </tr>\n",
       "    <tr>\n",
       "      <th>C</th>\n",
       "      <td>168</td>\n",
       "    </tr>\n",
       "    <tr>\n",
       "      <th>Q</th>\n",
       "      <td>77</td>\n",
       "    </tr>\n",
       "  </tbody>\n",
       "</table>\n",
       "</div>"
      ],
      "text/plain": [
       "          Survived\n",
       "Embarked          \n",
       "S              644\n",
       "C              168\n",
       "Q               77"
      ]
     },
     "execution_count": 19,
     "metadata": {},
     "output_type": "execute_result"
    },
    {
     "data": {
      "image/png": "[encoded data removed]",
      "text/plain": [
       "<Figure size 432x288 with 1 Axes>"
      ]
     },
     "metadata": {},
     "output_type": "display_data"
    }
   ],
   "source": [
    "# Analyze the count of survivors by Embarked variable\n",
    "ax = sns.countplot(x=\"Embarked\", hue=\"Survived\", data=train)\n",
    "train[['Embarked', 'Survived']].groupby(['Embarked']).count().sort_values(by='Survived', ascending=False)"
   ]
  },
  {
   "cell_type": "code",
   "execution_count": 20,
   "metadata": {
    "_uuid": "0bdf9bb790dae2a916babc95160564774929cde0"
   },
   "outputs": [
    {
     "data": {
      "text/html": [
       "<div>\n",
       "<style scoped>\n",
       "    .dataframe tbody tr th:only-of-type {\n",
       "        vertical-align: middle;\n",
       "    }\n",
       "\n",
       "    .dataframe tbody tr th {\n",
       "        vertical-align: top;\n",
       "    }\n",
       "\n",
       "    .dataframe thead th {\n",
       "        text-align: right;\n",
       "    }\n",
       "</style>\n",
       "<table border=\"1\" class=\"dataframe\">\n",
       "  <thead>\n",
       "    <tr style=\"text-align: right;\">\n",
       "      <th></th>\n",
       "      <th>Survived</th>\n",
       "    </tr>\n",
       "    <tr>\n",
       "      <th>Embarked</th>\n",
       "      <th></th>\n",
       "    </tr>\n",
       "  </thead>\n",
       "  <tbody>\n",
       "    <tr>\n",
       "      <th>C</th>\n",
       "      <td>0.553571</td>\n",
       "    </tr>\n",
       "    <tr>\n",
       "      <th>Q</th>\n",
       "      <td>0.389610</td>\n",
       "    </tr>\n",
       "    <tr>\n",
       "      <th>S</th>\n",
       "      <td>0.336957</td>\n",
       "    </tr>\n",
       "  </tbody>\n",
       "</table>\n",
       "</div>"
      ],
      "text/plain": [
       "          Survived\n",
       "Embarked          \n",
       "C         0.553571\n",
       "Q         0.389610\n",
       "S         0.336957"
      ]
     },
     "execution_count": 20,
     "metadata": {},
     "output_type": "execute_result"
    },
    {
     "data": {
      "image/png": "[encoded data removed]",
      "text/plain": [
       "<Figure size 504x504 with 1 Axes>"
      ]
     },
     "metadata": {},
     "output_type": "display_data"
    }
   ],
   "source": [
    "# Analyze the Survival Probability by Embarked\n",
    "g  = sns.factorplot(x=\"Embarked\",y=\"Survived\",data=train,kind=\"bar\", size = 7 ,palette = \"muted\")\n",
    "g.despine(left=True)\n",
    "g = g.set_ylabels(\"survival probability\")\n",
    "train[[\"Embarked\", \"Survived\"]].groupby(['Embarked']).mean().sort_values(by='Survived', ascending=False)"
   ]
  },
  {
   "cell_type": "markdown",
   "execution_count": null,
   "metadata": {
    "_uuid": "5936f65b9bf5f666d027fc1c276eb4bb19d35786"
   },
   "source": [
    "> # **Additional analysis**\n",
    "\n",
    "Let's create few additional charts to see how different variables are related."
   ]
  },
  {
   "cell_type": "code",
   "execution_count": 21,
   "metadata": {
    "_uuid": "c79b09b8c761bcbea9944f0ea66be101101f196c"
   },
   "outputs": [
    {
     "data": {
      "text/plain": [
       "<seaborn.axisgrid.FacetGrid at 0x7f126eaf6518>"
      ]
     },
     "execution_count": 21,
     "metadata": {},
     "output_type": "execute_result"
    },
    {
     "data": {
      "image/png": "[encoded data removed]",
      "text/plain": [
       "<Figure size 406.6x360 with 1 Axes>"
      ]
     },
     "metadata": {},
     "output_type": "display_data"
    }
   ],
   "source": [
    "# Age, Pclass & Survival\n",
    "sns.lmplot('Age','Survived',data=train,hue='Pclass')"
   ]
  },
  {
   "cell_type": "code",
   "execution_count": 22,
   "metadata": {
    "_uuid": "d341cfd9f0b7284037606bb282174cd9c5656602"
   },
   "outputs": [
    {
     "data": {
      "image/png": "[encoded data removed]",
      "text/plain": [
       "<Figure size 509.975x432 with 3 Axes>"
      ]
     },
     "metadata": {},
     "output_type": "display_data"
    }
   ],
   "source": [
    "# Age, Embarked, Sex, Pclass\n",
    "g = sns.catplot(x=\"Age\", y=\"Embarked\",  hue=\"Sex\", row=\"Pclass\",   data=train[train.Embarked.notnull()], \n",
    "orient=\"h\", height=2, aspect=3, palette=\"Set3\",  kind=\"violin\", dodge=True, cut=0, bw=.2)"
   ]
  },
  {
   "cell_type": "code",
   "execution_count": 23,
   "metadata": {
    "_uuid": "f1fefa70759adaefed939d3671870cbc1bfeeb76"
   },
   "outputs": [
    {
     "data": {
      "image/png": "[encoded data removed]",
      "text/plain": [
       "<Figure size 648x360 with 3 Axes>"
      ]
     },
     "metadata": {},
     "output_type": "display_data"
    }
   ],
   "source": [
    "# Relation among Pclass, Gender & Survival Rate\n",
    "g = sns.catplot(x=\"Sex\", y=\"Survived\", col=\"Pclass\", data=train, saturation=.5, kind=\"bar\", ci=None, aspect=.6)"
   ]
  },
  {
   "cell_type": "code",
   "execution_count": 24,
   "metadata": {
    "_uuid": "904eff86e0696565d00e07036ddbef2f36f94102"
   },
   "outputs": [
    {
     "data": {
      "image/png": "[encoded data removed]",
      "text/plain": [
       "<Figure size 1512x360 with 7 Axes>"
      ]
     },
     "metadata": {},
     "output_type": "display_data"
    }
   ],
   "source": [
    "# Relation among SibSP, Gender & Survival Rate\n",
    "g = sns.catplot(x=\"Sex\", y=\"Survived\", col=\"SibSp\", data=train, saturation=.5,kind=\"bar\", ci=None, aspect=.6)"
   ]
  },
  {
   "cell_type": "code",
   "execution_count": 25,
   "metadata": {
    "_uuid": "6fe8a9ab5608d378b02fe8c80e40a5e643d518e5"
   },
   "outputs": [
    {
     "data": {
      "image/png": "[encoded data removed]",
      "text/plain": [
       "<Figure size 1512x360 with 7 Axes>"
      ]
     },
     "metadata": {},
     "output_type": "display_data"
    }
   ],
   "source": [
    "# Relation among Parch, Gender & Survival Rate\n",
    "g = sns.catplot(x=\"Sex\", y=\"Survived\", col=\"Parch\", data=train, saturation=.5,kind=\"bar\", ci=None, aspect=.6)"
   ]
  },
  {
   "cell_type": "markdown",
   "execution_count": null,
   "metadata": {},
   "source": [
    "# **Data preparation including feature engineering**"
   ]
  },
  {
   "cell_type": "markdown",
   "execution_count": null,
   "metadata": {
    "_uuid": "8082afbbb17b1acc38d8e5ce0df2aeac64f22d03"
   },
   "source": [
    "\n",
    "\n",
    "What we need to do to process following variables  - \n",
    "\n",
    "**PassengerID** - No action required\n",
    "\n",
    "**PClass** - Have only 3 numerical values. We will use it as it is.\n",
    "\n",
    "**Name** - Can be used to create new variable Title by extracting the salutation from name.\n",
    "\n",
    "**Sex** - Create dummy variables\n",
    "\n",
    "**Age** - Missing value treatment, followed by creating dummy variables\n",
    "\n",
    "**SibSP** - Create dummy variables\n",
    "\n",
    "**Parch** - Create dummy variables\n",
    "\n",
    "**Ticket** - Create dummy variables post feature engineering\n",
    "\n",
    "**Fare** - Missing value treatment followed by log normalization\n",
    "\n",
    "**Cabin** - Create dummy variables post feature engineering\n",
    "\n",
    "**Embarked** - Create dummy variables"
   ]
  },
  {
   "cell_type": "code",
   "execution_count": 26,
   "metadata": {
    "_uuid": "4fbee6875ca68412a5b65c8d40075b40b7f5809d"
   },
   "outputs": [
    {
     "name": "stdout",
     "output_type": "stream",
     "text": [
      "(891, 13) (418, 12) (1309, 13)\n"
     ]
    }
   ],
   "source": [
    "# Let's combining train & test for quick feature engineering. \n",
    "# Variable source is a kind of tag which indicates data source in combined data\n",
    "train['source']='train'\n",
    "test['source']='test'\n",
    "combdata = pd.concat([train, test],ignore_index=True)\n",
    "print (train.shape, test.shape, combdata.shape)"
   ]
  },
  {
   "cell_type": "code",
   "execution_count": 27,
   "metadata": {
    "_uuid": "dc804117901ca859d8f082c0bfcc3a44dda9e736"
   },
   "outputs": [
    {
     "data": {
      "text/html": [
       "<div>\n",
       "<style scoped>\n",
       "    .dataframe tbody tr th:only-of-type {\n",
       "        vertical-align: middle;\n",
       "    }\n",
       "\n",
       "    .dataframe tbody tr th {\n",
       "        vertical-align: top;\n",
       "    }\n",
       "\n",
       "    .dataframe thead th {\n",
       "        text-align: right;\n",
       "    }\n",
       "</style>\n",
       "<table border=\"1\" class=\"dataframe\">\n",
       "  <thead>\n",
       "    <tr style=\"text-align: right;\">\n",
       "      <th></th>\n",
       "      <th>Age</th>\n",
       "      <th>Cabin</th>\n",
       "      <th>Embarked</th>\n",
       "      <th>Fare</th>\n",
       "      <th>Name</th>\n",
       "      <th>Parch</th>\n",
       "      <th>PassengerId</th>\n",
       "      <th>Pclass</th>\n",
       "      <th>Sex</th>\n",
       "      <th>SibSp</th>\n",
       "      <th>Survived</th>\n",
       "      <th>Ticket</th>\n",
       "      <th>source</th>\n",
       "    </tr>\n",
       "  </thead>\n",
       "  <tbody>\n",
       "    <tr>\n",
       "      <th>0</th>\n",
       "      <td>22.0</td>\n",
       "      <td>NaN</td>\n",
       "      <td>S</td>\n",
       "      <td>7.2500</td>\n",
       "      <td>Braund, Mr. Owen Harris</td>\n",
       "      <td>0</td>\n",
       "      <td>1</td>\n",
       "      <td>3</td>\n",
       "      <td>male</td>\n",
       "      <td>1</td>\n",
       "      <td>0.0</td>\n",
       "      <td>A/5 21171</td>\n",
       "      <td>train</td>\n",
       "    </tr>\n",
       "    <tr>\n",
       "      <th>1</th>\n",
       "      <td>38.0</td>\n",
       "      <td>C85</td>\n",
       "      <td>C</td>\n",
       "      <td>71.2833</td>\n",
       "      <td>Cumings, Mrs. John Bradley (Florence Briggs Th...</td>\n",
       "      <td>0</td>\n",
       "      <td>2</td>\n",
       "      <td>1</td>\n",
       "      <td>female</td>\n",
       "      <td>1</td>\n",
       "      <td>1.0</td>\n",
       "      <td>PC 17599</td>\n",
       "      <td>train</td>\n",
       "    </tr>\n",
       "    <tr>\n",
       "      <th>2</th>\n",
       "      <td>26.0</td>\n",
       "      <td>NaN</td>\n",
       "      <td>S</td>\n",
       "      <td>7.9250</td>\n",
       "      <td>Heikkinen, Miss. Laina</td>\n",
       "      <td>0</td>\n",
       "      <td>3</td>\n",
       "      <td>3</td>\n",
       "      <td>female</td>\n",
       "      <td>0</td>\n",
       "      <td>1.0</td>\n",
       "      <td>STON/O2. 3101282</td>\n",
       "      <td>train</td>\n",
       "    </tr>\n",
       "    <tr>\n",
       "      <th>3</th>\n",
       "      <td>35.0</td>\n",
       "      <td>C123</td>\n",
       "      <td>S</td>\n",
       "      <td>53.1000</td>\n",
       "      <td>Futrelle, Mrs. Jacques Heath (Lily May Peel)</td>\n",
       "      <td>0</td>\n",
       "      <td>4</td>\n",
       "      <td>1</td>\n",
       "      <td>female</td>\n",
       "      <td>1</td>\n",
       "      <td>1.0</td>\n",
       "      <td>113803</td>\n",
       "      <td>train</td>\n",
       "    </tr>\n",
       "    <tr>\n",
       "      <th>4</th>\n",
       "      <td>35.0</td>\n",
       "      <td>NaN</td>\n",
       "      <td>S</td>\n",
       "      <td>8.0500</td>\n",
       "      <td>Allen, Mr. William Henry</td>\n",
       "      <td>0</td>\n",
       "      <td>5</td>\n",
       "      <td>3</td>\n",
       "      <td>male</td>\n",
       "      <td>0</td>\n",
       "      <td>0.0</td>\n",
       "      <td>373450</td>\n",
       "      <td>train</td>\n",
       "    </tr>\n",
       "  </tbody>\n",
       "</table>\n",
       "</div>"
      ],
      "text/plain": [
       "    Age Cabin Embarked     Fare   ...   SibSp  Survived            Ticket  source\n",
       "0  22.0   NaN        S   7.2500   ...       1       0.0         A/5 21171   train\n",
       "1  38.0   C85        C  71.2833   ...       1       1.0          PC 17599   train\n",
       "2  26.0   NaN        S   7.9250   ...       0       1.0  STON/O2. 3101282   train\n",
       "3  35.0  C123        S  53.1000   ...       1       1.0            113803   train\n",
       "4  35.0   NaN        S   8.0500   ...       0       0.0            373450   train\n",
       "\n",
       "[5 rows x 13 columns]"
      ]
     },
     "execution_count": 27,
     "metadata": {},
     "output_type": "execute_result"
    }
   ],
   "source": [
    "# Let's check the data\n",
    "combdata.head()"
   ]
  },
  {
   "cell_type": "markdown",
   "execution_count": null,
   "metadata": {
    "_uuid": "99c9a0f8bc336b6bb67cdf7e6ea1b5201b90a4bb"
   },
   "source": [
    "**PassengerID**"
   ]
  },
  {
   "cell_type": "code",
   "execution_count": 28,
   "metadata": {
    "_uuid": "bc3f3bcef1f44c323ad02968d14fe3bff66d9ce5"
   },
   "outputs": [],
   "source": [
    "# PassengerID - Drop PassengerID\n",
    "combdata.drop(labels = [\"PassengerId\"], axis = 1, inplace = True)"
   ]
  },
  {
   "cell_type": "markdown",
   "execution_count": null,
   "metadata": {
    "_uuid": "e939f53ab7c9ae0b9ae1dd9c2aae26a18ec8199d"
   },
   "source": [
    "**Pclass**"
   ]
  },
  {
   "cell_type": "code",
   "execution_count": 29,
   "metadata": {
    "_uuid": "5f35386ac0383cdfd9b03f31bb621b183179f294"
   },
   "outputs": [
    {
     "data": {
      "text/plain": [
       "array([3, 1, 2])"
      ]
     },
     "execution_count": 29,
     "metadata": {},
     "output_type": "execute_result"
    }
   ],
   "source": [
    "# Pclass - Use as it is\n",
    "combdata['Pclass'].unique()"
   ]
  },
  {
   "cell_type": "markdown",
   "execution_count": null,
   "metadata": {
    "_kg_hide-input": false,
    "_uuid": "15d54da51de1dabb63f8207536ce2977c21e70e8"
   },
   "source": [
    "**Name**"
   ]
  },
  {
   "cell_type": "code",
   "execution_count": 30,
   "metadata": {
    "_uuid": "424d3241ff267ada41798344368e6b551cda1425"
   },
   "outputs": [
    {
     "data": {
      "text/plain": [
       "array(['Mr', 'Mrs', 'Miss', 'Master', 'Don', 'Rev', 'Dr', 'Mme', 'Ms',\n",
       "       'Major', 'Lady', 'Sir', 'Mlle', 'Col', 'Capt', 'the Countess',\n",
       "       'Jonkheer', 'Dona'], dtype=object)"
      ]
     },
     "execution_count": 30,
     "metadata": {},
     "output_type": "execute_result"
    }
   ],
   "source": [
    "# Name - Extract Salutation from Name variable\n",
    "salutation = [i.split(\",\")[1].split(\".\")[0].strip() for i in combdata[\"Name\"]]\n",
    "combdata[\"Title\"] = pd.Series(salutation)\n",
    "combdata[\"Title\"].unique()"
   ]
  },
  {
   "cell_type": "markdown",
   "execution_count": null,
   "metadata": {
    "_uuid": "d8f26cde80a8dff07f991fe90d537812e2ac140a"
   },
   "source": [
    "**Title**"
   ]
  },
  {
   "cell_type": "code",
   "execution_count": 31,
   "metadata": {
    "_uuid": "2f40a430895916ae700cdded93ef80836f912b01"
   },
   "outputs": [
    {
     "data": {
      "text/plain": [
       "array([2, 1, 0, 3])"
      ]
     },
     "execution_count": 31,
     "metadata": {},
     "output_type": "execute_result"
    }
   ],
   "source": [
    "# Convert other salutations to fixed Title \n",
    "combdata[\"Title\"] = combdata[\"Title\"].replace(['Lady', 'the Countess','Countess','Capt', 'Col','Don', 'Dr', 'Major', 'Rev', 'Sir', 'Jonkheer', 'Dona'], 'Rare')\n",
    "combdata[\"Title\"] = combdata[\"Title\"].map({\"Master\":0, \"Miss\":1, \"Ms\" : 1 , \"Mme\":1, \"Mlle\":1, \"Mrs\":1, \"Mr\":2, \"Rare\":3})\n",
    "combdata[\"Title\"] = combdata[\"Title\"].astype(int)\n",
    "combdata[\"Title\"].unique()"
   ]
  },
  {
   "cell_type": "code",
   "execution_count": 32,
   "metadata": {},
   "outputs": [],
   "source": [
    "combdata = pd.get_dummies(combdata, columns = [\"Title\"])"
   ]
  },
  {
   "cell_type": "code",
   "execution_count": 33,
   "metadata": {
    "_uuid": "0308c612a7f929a0c21689bec9026de0dad57c27"
   },
   "outputs": [
    {
     "data": {
      "text/html": [
       "<div>\n",
       "<style scoped>\n",
       "    .dataframe tbody tr th:only-of-type {\n",
       "        vertical-align: middle;\n",
       "    }\n",
       "\n",
       "    .dataframe tbody tr th {\n",
       "        vertical-align: top;\n",
       "    }\n",
       "\n",
       "    .dataframe thead th {\n",
       "        text-align: right;\n",
       "    }\n",
       "</style>\n",
       "<table border=\"1\" class=\"dataframe\">\n",
       "  <thead>\n",
       "    <tr style=\"text-align: right;\">\n",
       "      <th></th>\n",
       "      <th>Age</th>\n",
       "      <th>Cabin</th>\n",
       "      <th>Embarked</th>\n",
       "      <th>Fare</th>\n",
       "      <th>Parch</th>\n",
       "      <th>Pclass</th>\n",
       "      <th>Sex</th>\n",
       "      <th>SibSp</th>\n",
       "      <th>Survived</th>\n",
       "      <th>Ticket</th>\n",
       "      <th>source</th>\n",
       "      <th>Title_0</th>\n",
       "      <th>Title_1</th>\n",
       "      <th>Title_2</th>\n",
       "      <th>Title_3</th>\n",
       "    </tr>\n",
       "  </thead>\n",
       "  <tbody>\n",
       "    <tr>\n",
       "      <th>0</th>\n",
       "      <td>22.0</td>\n",
       "      <td>NaN</td>\n",
       "      <td>S</td>\n",
       "      <td>7.2500</td>\n",
       "      <td>0</td>\n",
       "      <td>3</td>\n",
       "      <td>male</td>\n",
       "      <td>1</td>\n",
       "      <td>0.0</td>\n",
       "      <td>A/5 21171</td>\n",
       "      <td>train</td>\n",
       "      <td>0</td>\n",
       "      <td>0</td>\n",
       "      <td>1</td>\n",
       "      <td>0</td>\n",
       "    </tr>\n",
       "    <tr>\n",
       "      <th>1</th>\n",
       "      <td>38.0</td>\n",
       "      <td>C85</td>\n",
       "      <td>C</td>\n",
       "      <td>71.2833</td>\n",
       "      <td>0</td>\n",
       "      <td>1</td>\n",
       "      <td>female</td>\n",
       "      <td>1</td>\n",
       "      <td>1.0</td>\n",
       "      <td>PC 17599</td>\n",
       "      <td>train</td>\n",
       "      <td>0</td>\n",
       "      <td>1</td>\n",
       "      <td>0</td>\n",
       "      <td>0</td>\n",
       "    </tr>\n",
       "    <tr>\n",
       "      <th>2</th>\n",
       "      <td>26.0</td>\n",
       "      <td>NaN</td>\n",
       "      <td>S</td>\n",
       "      <td>7.9250</td>\n",
       "      <td>0</td>\n",
       "      <td>3</td>\n",
       "      <td>female</td>\n",
       "      <td>0</td>\n",
       "      <td>1.0</td>\n",
       "      <td>STON/O2. 3101282</td>\n",
       "      <td>train</td>\n",
       "      <td>0</td>\n",
       "      <td>1</td>\n",
       "      <td>0</td>\n",
       "      <td>0</td>\n",
       "    </tr>\n",
       "    <tr>\n",
       "      <th>3</th>\n",
       "      <td>35.0</td>\n",
       "      <td>C123</td>\n",
       "      <td>S</td>\n",
       "      <td>53.1000</td>\n",
       "      <td>0</td>\n",
       "      <td>1</td>\n",
       "      <td>female</td>\n",
       "      <td>1</td>\n",
       "      <td>1.0</td>\n",
       "      <td>113803</td>\n",
       "      <td>train</td>\n",
       "      <td>0</td>\n",
       "      <td>1</td>\n",
       "      <td>0</td>\n",
       "      <td>0</td>\n",
       "    </tr>\n",
       "    <tr>\n",
       "      <th>4</th>\n",
       "      <td>35.0</td>\n",
       "      <td>NaN</td>\n",
       "      <td>S</td>\n",
       "      <td>8.0500</td>\n",
       "      <td>0</td>\n",
       "      <td>3</td>\n",
       "      <td>male</td>\n",
       "      <td>0</td>\n",
       "      <td>0.0</td>\n",
       "      <td>373450</td>\n",
       "      <td>train</td>\n",
       "      <td>0</td>\n",
       "      <td>0</td>\n",
       "      <td>1</td>\n",
       "      <td>0</td>\n",
       "    </tr>\n",
       "  </tbody>\n",
       "</table>\n",
       "</div>"
      ],
      "text/plain": [
       "    Age Cabin Embarked     Fare   ...     Title_0  Title_1 Title_2  Title_3\n",
       "0  22.0   NaN        S   7.2500   ...           0        0       1        0\n",
       "1  38.0   C85        C  71.2833   ...           0        1       0        0\n",
       "2  26.0   NaN        S   7.9250   ...           0        1       0        0\n",
       "3  35.0  C123        S  53.1000   ...           0        1       0        0\n",
       "4  35.0   NaN        S   8.0500   ...           0        0       1        0\n",
       "\n",
       "[5 rows x 15 columns]"
      ]
     },
     "execution_count": 33,
     "metadata": {},
     "output_type": "execute_result"
    }
   ],
   "source": [
    "# Drop Name variable\n",
    "combdata.drop(labels = [\"Name\"], axis = 1, inplace = True)\n",
    "combdata.head()"
   ]
  },
  {
   "cell_type": "markdown",
   "execution_count": null,
   "metadata": {
    "_uuid": "bba619ad322f7995872a15d4bf27abbc85be9c5a"
   },
   "source": [
    "**Age**"
   ]
  },
  {
   "cell_type": "code",
   "execution_count": 34,
   "metadata": {
    "_uuid": "876964cb3da84b076dd0a0862bb82ffa4880b130"
   },
   "outputs": [],
   "source": [
    "# Age\n",
    "\n",
    "## Fill Age with the median age of similar rows according to Sex, Pclass, Parch and SibSp\n",
    "# Index of NaN age rows\n",
    "missing_index = list(combdata[\"Age\"][combdata[\"Age\"].isnull()].index)\n",
    "\n",
    "for i in missing_index :\n",
    "    median_age = combdata[\"Age\"].median()\n",
    "    filled_age = combdata[\"Age\"][((combdata['Sex'] == combdata.iloc[i][\"Sex\"]) & \n",
    "                                (combdata['SibSp'] == combdata.iloc[i][\"SibSp\"]) & \n",
    "                                (combdata['Parch'] == combdata.iloc[i][\"Parch\"]) & \n",
    "                                (combdata['Pclass'] == combdata.iloc[i][\"Pclass\"]))].median()\n",
    "    if not np.isnan(filled_age) :\n",
    "        combdata['Age'].iloc[i] = filled_age\n",
    "    else :\n",
    "        combdata['Age'].iloc[i] = median_age"
   ]
  },
  {
   "cell_type": "markdown",
   "execution_count": null,
   "metadata": {
    "_uuid": "f4dd844dbbd8f3df3549ead5e2ebf4106780cb2a"
   },
   "source": [
    "**Sex**"
   ]
  },
  {
   "cell_type": "code",
   "execution_count": 35,
   "metadata": {
    "_uuid": "bc64d67aace4160066be183611da446b29b19687"
   },
   "outputs": [],
   "source": [
    "# Sex - Create dummy variables\n",
    "#combdata[\"Sex\"] = combdata[\"Sex\"].map({\"male\": 0, \"female\":1}) or\n",
    "combdata = pd.get_dummies(combdata, columns = [\"Sex\"])"
   ]
  },
  {
   "cell_type": "markdown",
   "execution_count": null,
   "metadata": {
    "_uuid": "fffe5254d879bdc9177725069f30064d2bcb5586"
   },
   "source": [
    "**Creating Family Size variable using SibSp & Parch**"
   ]
  },
  {
   "cell_type": "code",
   "execution_count": 36,
   "metadata": {
    "_uuid": "86c8cb6a1c7f0d7251f0c644073c4c4a61079f45"
   },
   "outputs": [],
   "source": [
    "# Create a variable representing family size from SibSp and Parch\n",
    "combdata[\"Fsize\"] = combdata[\"SibSp\"] + combdata[\"Parch\"] + 1\n",
    "\n",
    "# Create new feature of family size\n",
    "combdata['Single'] = combdata['Fsize'].map(lambda s: 1 if s == 1 else 0)\n",
    "combdata['SmallF'] = combdata['Fsize'].map(lambda s: 1 if  s == 2  else 0)\n",
    "combdata['MedF'] = combdata['Fsize'].map(lambda s: 1 if 3 <= s <= 4 else 0)\n",
    "combdata['LargeF'] = combdata['Fsize'].map(lambda s: 1 if s >= 5 else 0)"
   ]
  },
  {
   "cell_type": "code",
   "execution_count": 37,
   "metadata": {
    "_uuid": "d476c245c77e08074814d7f5ab6fc38ea95c8696"
   },
   "outputs": [
    {
     "data": {
      "text/html": [
       "<div>\n",
       "<style scoped>\n",
       "    .dataframe tbody tr th:only-of-type {\n",
       "        vertical-align: middle;\n",
       "    }\n",
       "\n",
       "    .dataframe tbody tr th {\n",
       "        vertical-align: top;\n",
       "    }\n",
       "\n",
       "    .dataframe thead th {\n",
       "        text-align: right;\n",
       "    }\n",
       "</style>\n",
       "<table border=\"1\" class=\"dataframe\">\n",
       "  <thead>\n",
       "    <tr style=\"text-align: right;\">\n",
       "      <th></th>\n",
       "      <th>Survived</th>\n",
       "    </tr>\n",
       "    <tr>\n",
       "      <th>Fsize</th>\n",
       "      <th></th>\n",
       "    </tr>\n",
       "  </thead>\n",
       "  <tbody>\n",
       "    <tr>\n",
       "      <th>4</th>\n",
       "      <td>0.724138</td>\n",
       "    </tr>\n",
       "    <tr>\n",
       "      <th>3</th>\n",
       "      <td>0.578431</td>\n",
       "    </tr>\n",
       "    <tr>\n",
       "      <th>2</th>\n",
       "      <td>0.552795</td>\n",
       "    </tr>\n",
       "    <tr>\n",
       "      <th>7</th>\n",
       "      <td>0.333333</td>\n",
       "    </tr>\n",
       "    <tr>\n",
       "      <th>1</th>\n",
       "      <td>0.303538</td>\n",
       "    </tr>\n",
       "    <tr>\n",
       "      <th>5</th>\n",
       "      <td>0.200000</td>\n",
       "    </tr>\n",
       "    <tr>\n",
       "      <th>6</th>\n",
       "      <td>0.136364</td>\n",
       "    </tr>\n",
       "    <tr>\n",
       "      <th>8</th>\n",
       "      <td>0.000000</td>\n",
       "    </tr>\n",
       "    <tr>\n",
       "      <th>11</th>\n",
       "      <td>0.000000</td>\n",
       "    </tr>\n",
       "  </tbody>\n",
       "</table>\n",
       "</div>"
      ],
      "text/plain": [
       "       Survived\n",
       "Fsize          \n",
       "4      0.724138\n",
       "3      0.578431\n",
       "2      0.552795\n",
       "7      0.333333\n",
       "1      0.303538\n",
       "5      0.200000\n",
       "6      0.136364\n",
       "8      0.000000\n",
       "11     0.000000"
      ]
     },
     "execution_count": 37,
     "metadata": {},
     "output_type": "execute_result"
    },
    {
     "data": {
      "image/png": "[encoded data removed]",
      "text/plain": [
       "<Figure size 504x504 with 1 Axes>"
      ]
     },
     "metadata": {},
     "output_type": "display_data"
    }
   ],
   "source": [
    "# Analyze the Survival Probability by Fsize\n",
    "\n",
    "g  = sns.factorplot(x=\"Fsize\",y=\"Survived\",data=combdata,kind=\"bar\", size = 7 ,palette = \"muted\")\n",
    "g.despine(left=True)\n",
    "g = g.set_ylabels(\"Survival Probability\")\n",
    "combdata[[\"Fsize\", \"Survived\"]].groupby(['Fsize']).mean().sort_values(by='Survived', ascending=False)"
   ]
  },
  {
   "cell_type": "code",
   "execution_count": 38,
   "metadata": {},
   "outputs": [],
   "source": [
    "# Drop FSize variable\n",
    "combdata.drop(labels = [\"Fsize\"], axis = 1, inplace = True)"
   ]
  },
  {
   "cell_type": "markdown",
   "execution_count": null,
   "metadata": {
    "_uuid": "e86f944450ee1a0c1b362145390fb258c2443d97"
   },
   "source": [
    "**SibSp**"
   ]
  },
  {
   "cell_type": "code",
   "execution_count": 39,
   "metadata": {
    "_uuid": "0c4985ed23bad5977bf379e3d990b46ba995401a"
   },
   "outputs": [],
   "source": [
    "# SibSp - Create dummy variables\n",
    "combdata = pd.get_dummies(combdata, columns = [\"SibSp\"])"
   ]
  },
  {
   "cell_type": "markdown",
   "execution_count": null,
   "metadata": {
    "_uuid": "ba81d3aaf560c5039e8dff62f144edead5752079"
   },
   "source": [
    "**Parch**"
   ]
  },
  {
   "cell_type": "code",
   "execution_count": 40,
   "metadata": {
    "_uuid": "4a9934a9b4027c800e6f225b324e25b0ccf37071"
   },
   "outputs": [],
   "source": [
    "# Parch - Create dummy variables\n",
    "combdata = pd.get_dummies(combdata, columns = [\"Parch\"])"
   ]
  },
  {
   "cell_type": "markdown",
   "execution_count": null,
   "metadata": {
    "_uuid": "c09df5ae58c3fc49d7d4490d77a6fe5022cff418"
   },
   "source": [
    "**Ticket**"
   ]
  },
  {
   "cell_type": "code",
   "execution_count": 41,
   "metadata": {
    "_uuid": "0e38e79e52bb92e25dd7b16b7d88a314e6cdff2a"
   },
   "outputs": [],
   "source": [
    "# Ticket - Extracting the ticket prefix. This might be a representation of class/compartment.\n",
    "# If there is no prefix replace with U (Unknown). \n",
    "\n",
    "Ticket = []\n",
    "for i in list(combdata.Ticket):\n",
    "    if not i.isdigit() :\n",
    "        Ticket.append(i.replace(\".\",\"\").replace(\"/\",\"\").strip().split(' ')[0])\n",
    "    else:\n",
    "        Ticket.append(\"U\")\n",
    "        \n",
    "combdata[\"Ticket\"] = Ticket\n",
    "combdata[\"Ticket\"].unique()\n",
    "\n",
    "combdata = pd.get_dummies(combdata, columns = [\"Ticket\"], prefix=\"T\")"
   ]
  },
  {
   "cell_type": "markdown",
   "execution_count": null,
   "metadata": {
    "_uuid": "bf2340c1cdf76be7442ab32f3e410468b400812e"
   },
   "source": [
    "**Fare**"
   ]
  },
  {
   "cell_type": "code",
   "execution_count": 42,
   "metadata": {
    "_uuid": "815fe7637105c910448ac2221ed3e96578b08712"
   },
   "outputs": [
    {
     "data": {
      "image/png": "[encoded data removed]",
      "text/plain": [
       "<Figure size 432x288 with 1 Axes>"
      ]
     },
     "metadata": {},
     "output_type": "display_data"
    }
   ],
   "source": [
    "# Fare - Check the number of missing value\n",
    "combdata[\"Fare\"].isnull().sum()\n",
    "\n",
    "# Only 1 value is missing so we will fill the same with median\n",
    "combdata[\"Fare\"] = combdata[\"Fare\"].fillna(combdata[\"Fare\"].median())\n",
    "\n",
    "# Use the numpy fuction log1p which  applies log(1+x) to all elements of the column\n",
    "#combdata[\"Fare\"] = np.log1p(combdata[\"Fare\"])\n",
    "\n",
    "#Check the new distribution \n",
    "sns.distplot(combdata['Fare'] , fit=norm);"
   ]
  },
  {
   "cell_type": "code",
   "execution_count": 43,
   "metadata": {
    "_uuid": "4b9a797cc6b0cc16a50a65d1f8d4b20bd503dbec"
   },
   "outputs": [],
   "source": [
    "# Cabin - Replace the missing Cabin number by the type of cabin unknown 'U'\n",
    "combdata[\"Cabin\"] = pd.Series([i[0] if not pd.isnull(i) else 'U' for i in combdata['Cabin'] ])"
   ]
  },
  {
   "cell_type": "code",
   "execution_count": 44,
   "metadata": {
    "_uuid": "0cfbfce6ce3378547146fddec3f2d32825cb95a9"
   },
   "outputs": [
    {
     "data": {
      "image/png": "[encoded data removed]",
      "text/plain": [
       "<Figure size 504x504 with 1 Axes>"
      ]
     },
     "metadata": {},
     "output_type": "display_data"
    }
   ],
   "source": [
    "# Let's plot the survival probability by Cabin\n",
    "g  = sns.factorplot(x=\"Cabin\",y=\"Survived\",data=combdata,kind=\"bar\", size = 7 ,\n",
    "                    palette = \"muted\",order=['A','B','C','D','E','F','G','T','U'])\n",
    "g.despine(left=True)\n",
    "g = g.set_ylabels(\"survival probability\")"
   ]
  },
  {
   "cell_type": "code",
   "execution_count": 45,
   "metadata": {
    "_uuid": "e8a8253dea9e7100a1c5230ed7165ae49e84ede4"
   },
   "outputs": [],
   "source": [
    "# Create dummy variables\n",
    "combdata = pd.get_dummies(combdata, columns = [\"Cabin\"], prefix=\"Cabin\")"
   ]
  },
  {
   "cell_type": "markdown",
   "execution_count": null,
   "metadata": {
    "_uuid": "0f13c3f5f03fc2ed53edfb082b5fe52365884443"
   },
   "source": [
    "**Embarked**"
   ]
  },
  {
   "cell_type": "code",
   "execution_count": 46,
   "metadata": {
    "_uuid": "8b977f94cea926deaca1f13534da38f26ba38708"
   },
   "outputs": [],
   "source": [
    "# Embarked - Find the number of missing values\n",
    "combdata[\"Embarked\"].isnull().sum()\n",
    "\n",
    "# Fill Embarked missing values of dataset set with mode 'S'\n",
    "combdata[\"Embarked\"] = combdata[\"Embarked\"].fillna(\"S\")\n",
    "\n",
    "# Create dummy variables\n",
    "combdata = pd.get_dummies(combdata, columns = [\"Embarked\"], prefix=\"Emb\")"
   ]
  },
  {
   "cell_type": "code",
   "execution_count": 47,
   "metadata": {},
   "outputs": [],
   "source": [
    "# Create dummies for PClass Now\n",
    "combdata = pd.get_dummies(combdata, columns = [\"Pclass\"], prefix=\"Pclass\")"
   ]
  },
  {
   "cell_type": "code",
   "execution_count": 48,
   "metadata": {},
   "outputs": [
    {
     "name": "stdout",
     "output_type": "stream",
     "text": [
      "<class 'pandas.core.frame.DataFrame'>\n",
      "RangeIndex: 1309 entries, 0 to 1308\n",
      "Data columns (total 81 columns):\n",
      "Age           1309 non-null float64\n",
      "Fare          1309 non-null float64\n",
      "Survived      891 non-null float64\n",
      "source        1309 non-null object\n",
      "Title_0       1309 non-null uint8\n",
      "Title_1       1309 non-null uint8\n",
      "Title_2       1309 non-null uint8\n",
      "Title_3       1309 non-null uint8\n",
      "Sex_female    1309 non-null uint8\n",
      "Sex_male      1309 non-null uint8\n",
      "Single        1309 non-null int64\n",
      "SmallF        1309 non-null int64\n",
      "MedF          1309 non-null int64\n",
      "LargeF        1309 non-null int64\n",
      "SibSp_0       1309 non-null uint8\n",
      "SibSp_1       1309 non-null uint8\n",
      "SibSp_2       1309 non-null uint8\n",
      "SibSp_3       1309 non-null uint8\n",
      "SibSp_4       1309 non-null uint8\n",
      "SibSp_5       1309 non-null uint8\n",
      "SibSp_8       1309 non-null uint8\n",
      "Parch_0       1309 non-null uint8\n",
      "Parch_1       1309 non-null uint8\n",
      "Parch_2       1309 non-null uint8\n",
      "Parch_3       1309 non-null uint8\n",
      "Parch_4       1309 non-null uint8\n",
      "Parch_5       1309 non-null uint8\n",
      "Parch_6       1309 non-null uint8\n",
      "Parch_9       1309 non-null uint8\n",
      "T_A           1309 non-null uint8\n",
      "T_A4          1309 non-null uint8\n",
      "T_A5          1309 non-null uint8\n",
      "T_AQ3         1309 non-null uint8\n",
      "T_AQ4         1309 non-null uint8\n",
      "T_AS          1309 non-null uint8\n",
      "T_C           1309 non-null uint8\n",
      "T_CA          1309 non-null uint8\n",
      "T_CASOTON     1309 non-null uint8\n",
      "T_FC          1309 non-null uint8\n",
      "T_FCC         1309 non-null uint8\n",
      "T_Fa          1309 non-null uint8\n",
      "T_LINE        1309 non-null uint8\n",
      "T_LP          1309 non-null uint8\n",
      "T_PC          1309 non-null uint8\n",
      "T_PP          1309 non-null uint8\n",
      "T_PPP         1309 non-null uint8\n",
      "T_SC          1309 non-null uint8\n",
      "T_SCA3        1309 non-null uint8\n",
      "T_SCA4        1309 non-null uint8\n",
      "T_SCAH        1309 non-null uint8\n",
      "T_SCOW        1309 non-null uint8\n",
      "T_SCPARIS     1309 non-null uint8\n",
      "T_SCParis     1309 non-null uint8\n",
      "T_SOC         1309 non-null uint8\n",
      "T_SOP         1309 non-null uint8\n",
      "T_SOPP        1309 non-null uint8\n",
      "T_SOTONO2     1309 non-null uint8\n",
      "T_SOTONOQ     1309 non-null uint8\n",
      "T_SP          1309 non-null uint8\n",
      "T_STONO       1309 non-null uint8\n",
      "T_STONO2      1309 non-null uint8\n",
      "T_STONOQ      1309 non-null uint8\n",
      "T_SWPP        1309 non-null uint8\n",
      "T_U           1309 non-null uint8\n",
      "T_WC          1309 non-null uint8\n",
      "T_WEP         1309 non-null uint8\n",
      "Cabin_A       1309 non-null uint8\n",
      "Cabin_B       1309 non-null uint8\n",
      "Cabin_C       1309 non-null uint8\n",
      "Cabin_D       1309 non-null uint8\n",
      "Cabin_E       1309 non-null uint8\n",
      "Cabin_F       1309 non-null uint8\n",
      "Cabin_G       1309 non-null uint8\n",
      "Cabin_T       1309 non-null uint8\n",
      "Cabin_U       1309 non-null uint8\n",
      "Emb_C         1309 non-null uint8\n",
      "Emb_Q         1309 non-null uint8\n",
      "Emb_S         1309 non-null uint8\n",
      "Pclass_1      1309 non-null uint8\n",
      "Pclass_2      1309 non-null uint8\n",
      "Pclass_3      1309 non-null uint8\n",
      "dtypes: float64(3), int64(4), object(1), uint8(73)\n",
      "memory usage: 175.2+ KB\n"
     ]
    }
   ],
   "source": [
    "combdata.info()"
   ]
  },
  {
   "cell_type": "markdown",
   "execution_count": null,
   "metadata": {
    "_uuid": "0491f97e6e64133708d42a6218351623a085857d"
   },
   "source": [
    "# **Creating a Model**"
   ]
  },
  {
   "cell_type": "code",
   "execution_count": 49,
   "metadata": {
    "_uuid": "fde428a1dc1b195ecad13fb6d1c0d16bed9cbce9"
   },
   "outputs": [
    {
     "data": {
      "text/plain": [
       "(418, 79)"
      ]
     },
     "execution_count": 49,
     "metadata": {},
     "output_type": "execute_result"
    }
   ],
   "source": [
    "## Separate train dataset and test dataset using the index variable 'source'\n",
    "\n",
    "train_x = combdata.loc[combdata['source']==\"train\"]\n",
    "test_x = combdata.loc[combdata['source']==\"test\"]\n",
    "\n",
    "test_x.drop(labels=[\"Survived\"],axis = 1,inplace=True)\n",
    "\n",
    "train_x.drop(labels=[\"source\"],axis = 1,inplace=True)\n",
    "test_x.drop(labels=[\"source\"],axis = 1,inplace=True)\n",
    "\n",
    "# You may want to drop some variables to avoid dummy variable trap\n",
    "# test.drop(labels=['source','Sex_male', 'Fsize', 'LargeF', 'SibSp_8','Parch_9','T_WEP','Cabin_T','Emb_Q'],axis = 1,inplace=True)\n",
    "test_x.shape"
   ]
  },
  {
   "cell_type": "code",
   "execution_count": 50,
   "metadata": {
    "_uuid": "46f7c82d1a8f1eb8bdbe9a4d2ae0488ff0fe35ea"
   },
   "outputs": [],
   "source": [
    "## Separate train features and label \n",
    "\n",
    "#train_x[\"Survived\"] = train_x[\"Survived\"].astype(int)\n",
    "Y_train = train_x[\"Survived\"].astype(int)\n",
    "train_x = train_x.drop(labels = [\"Survived\"],axis = 1)\n",
    "\n",
    "# You may want to drop some variables to avoid dummy variable trap\n",
    "# X_train = train.drop(labels = [\"Survived\", 'Sex_male', 'Fsize', 'LargeF', 'SibSp_8','Parch_9','T_WEP','Cabin_T','Emb_Q'],axis = 1)\n",
    "#X_train.shape\n",
    "\n",
    "X_train = train_x.values\n",
    "Y_train = Y_train.values\n",
    "test = test_x.astype(np.float64, copy=False)"
   ]
  },
  {
   "cell_type": "code",
   "execution_count": 51,
   "metadata": {},
   "outputs": [],
   "source": [
    "from sklearn.preprocessing import StandardScaler\n",
    "scaler = StandardScaler()\n",
    "X_train = scaler.fit_transform(X_train)\n",
    "test = scaler.fit_transform(test)\n"
   ]
  },
  {
   "cell_type": "code",
   "execution_count": 52,
   "metadata": {},
   "outputs": [
    {
     "name": "stderr",
     "output_type": "stream",
     "text": [
      "Using TensorFlow backend.\n"
     ]
    }
   ],
   "source": [
    "import keras\n",
    "import tensorflow as tf\n",
    "from keras.optimizers import SGD\n",
    "from keras.models import Sequential\n",
    "from keras.layers import Dense, Activation, Dropout"
   ]
  },
  {
   "cell_type": "code",
   "execution_count": 53,
   "metadata": {},
   "outputs": [
    {
     "name": "stdout",
     "output_type": "stream",
     "text": [
      "_________________________________________________________________\n",
      "Layer (type)                 Output Shape              Param #   \n",
      "=================================================================\n",
      "Hidden1 (Dense)              (None, 32)                2560      \n",
      "_________________________________________________________________\n",
      "dropout_1 (Dropout)          (None, 32)                0         \n",
      "_________________________________________________________________\n",
      "Hidden2 (Dense)              (None, 16)                528       \n",
      "_________________________________________________________________\n",
      "dropout_2 (Dropout)          (None, 16)                0         \n",
      "_________________________________________________________________\n",
      "Output (Dense)               (None, 1)                 17        \n",
      "=================================================================\n",
      "Total params: 3,105\n",
      "Trainable params: 3,105\n",
      "Non-trainable params: 0\n",
      "_________________________________________________________________\n",
      "Epoch 1/200\n",
      " - 4s - loss: 0.6846 - acc: 0.6117\n",
      "Epoch 2/200\n",
      " - 0s - loss: 0.6701 - acc: 0.6162\n",
      "Epoch 3/200\n",
      " - 0s - loss: 0.6663 - acc: 0.6162\n",
      "Epoch 4/200\n",
      " - 0s - loss: 0.6653 - acc: 0.6162\n",
      "Epoch 5/200\n",
      " - 0s - loss: 0.6641 - acc: 0.6162\n",
      "Epoch 6/200\n",
      " - 0s - loss: 0.6635 - acc: 0.6162\n",
      "Epoch 7/200\n",
      " - 0s - loss: 0.6617 - acc: 0.6162\n",
      "Epoch 8/200\n",
      " - 0s - loss: 0.6584 - acc: 0.6162\n",
      "Epoch 9/200\n",
      " - 0s - loss: 0.6486 - acc: 0.6162\n",
      "Epoch 10/200\n",
      " - 0s - loss: 0.6301 - acc: 0.6162\n",
      "Epoch 11/200\n",
      " - 0s - loss: 0.5985 - acc: 0.6162\n",
      "Epoch 12/200\n",
      " - 0s - loss: 0.5515 - acc: 0.6824\n",
      "Epoch 13/200\n",
      " - 0s - loss: 0.5141 - acc: 0.7026\n",
      "Epoch 14/200\n",
      " - 0s - loss: 0.4713 - acc: 0.7946\n",
      "Epoch 15/200\n",
      " - 0s - loss: 0.4658 - acc: 0.8328\n",
      "Epoch 16/200\n",
      " - 0s - loss: 0.4380 - acc: 0.8305\n",
      "Epoch 17/200\n",
      " - 0s - loss: 0.4342 - acc: 0.8283\n",
      "Epoch 18/200\n",
      " - 0s - loss: 0.4701 - acc: 0.8384\n",
      "Epoch 19/200\n",
      " - 0s - loss: 0.4459 - acc: 0.8316\n",
      "Epoch 20/200\n",
      " - 0s - loss: 0.4439 - acc: 0.8384\n",
      "Epoch 21/200\n",
      " - 0s - loss: 0.4225 - acc: 0.8339\n",
      "Epoch 22/200\n",
      " - 0s - loss: 0.4255 - acc: 0.8451\n",
      "Epoch 23/200\n",
      " - 0s - loss: 0.4273 - acc: 0.8496\n",
      "Epoch 24/200\n",
      " - 0s - loss: 0.3999 - acc: 0.8418\n",
      "Epoch 25/200\n",
      " - 0s - loss: 0.4004 - acc: 0.8429\n",
      "Epoch 26/200\n",
      " - 0s - loss: 0.4051 - acc: 0.8440\n",
      "Epoch 27/200\n",
      " - 0s - loss: 0.3893 - acc: 0.8418\n",
      "Epoch 28/200\n",
      " - 0s - loss: 0.3917 - acc: 0.8384\n",
      "Epoch 29/200\n",
      " - 0s - loss: 0.3913 - acc: 0.8429\n",
      "Epoch 30/200\n",
      " - 0s - loss: 0.4106 - acc: 0.8384\n",
      "Epoch 31/200\n",
      " - 0s - loss: 0.3878 - acc: 0.8530\n",
      "Epoch 32/200\n",
      " - 0s - loss: 0.3893 - acc: 0.8462\n",
      "Epoch 33/200\n",
      " - 0s - loss: 0.3822 - acc: 0.8563\n",
      "Epoch 34/200\n",
      " - 0s - loss: 0.4004 - acc: 0.8305\n",
      "Epoch 35/200\n",
      " - 0s - loss: 0.3912 - acc: 0.8496\n",
      "Epoch 36/200\n",
      " - 0s - loss: 0.3934 - acc: 0.8384\n",
      "Epoch 37/200\n",
      " - 0s - loss: 0.3794 - acc: 0.8429\n",
      "Epoch 38/200\n",
      " - 0s - loss: 0.3905 - acc: 0.8429\n",
      "Epoch 39/200\n",
      " - 0s - loss: 0.3980 - acc: 0.8451\n",
      "Epoch 40/200\n",
      " - 0s - loss: 0.3722 - acc: 0.8530\n",
      "Epoch 41/200\n",
      " - 0s - loss: 0.3868 - acc: 0.8485\n",
      "Epoch 42/200\n",
      " - 0s - loss: 0.3702 - acc: 0.8642\n",
      "Epoch 43/200\n",
      " - 0s - loss: 0.3914 - acc: 0.8429\n",
      "Epoch 44/200\n",
      " - 0s - loss: 0.3534 - acc: 0.8597\n",
      "Epoch 45/200\n",
      " - 0s - loss: 0.3606 - acc: 0.8507\n",
      "Epoch 46/200\n",
      " - 0s - loss: 0.3777 - acc: 0.8440\n",
      "Epoch 47/200\n",
      " - 0s - loss: 0.3775 - acc: 0.8519\n",
      "Epoch 48/200\n",
      " - 0s - loss: 0.3541 - acc: 0.8608\n",
      "Epoch 49/200\n",
      " - 0s - loss: 0.3907 - acc: 0.8451\n",
      "Epoch 50/200\n",
      " - 0s - loss: 0.3740 - acc: 0.8395\n",
      "Epoch 51/200\n",
      " - 0s - loss: 0.3736 - acc: 0.8530\n",
      "Epoch 52/200\n",
      " - 0s - loss: 0.3596 - acc: 0.8519\n",
      "Epoch 53/200\n",
      " - 0s - loss: 0.3709 - acc: 0.8462\n",
      "Epoch 54/200\n",
      " - 0s - loss: 0.3768 - acc: 0.8552\n",
      "Epoch 55/200\n",
      " - 0s - loss: 0.3555 - acc: 0.8541\n",
      "Epoch 56/200\n",
      " - 0s - loss: 0.3652 - acc: 0.8563\n",
      "Epoch 57/200\n",
      " - 0s - loss: 0.3692 - acc: 0.8620\n",
      "Epoch 58/200\n",
      " - 0s - loss: 0.3602 - acc: 0.8474\n",
      "Epoch 59/200\n",
      " - 0s - loss: 0.3592 - acc: 0.8507\n",
      "Epoch 60/200\n",
      " - 0s - loss: 0.3689 - acc: 0.8451\n",
      "Epoch 61/200\n",
      " - 0s - loss: 0.3704 - acc: 0.8485\n",
      "Epoch 62/200\n",
      " - 0s - loss: 0.3683 - acc: 0.8620\n",
      "Epoch 63/200\n",
      " - 0s - loss: 0.3480 - acc: 0.8507\n",
      "Epoch 64/200\n",
      " - 0s - loss: 0.3691 - acc: 0.8418\n",
      "Epoch 65/200\n",
      " - 0s - loss: 0.3541 - acc: 0.8519\n",
      "Epoch 66/200\n",
      " - 0s - loss: 0.3515 - acc: 0.8474\n",
      "Epoch 67/200\n",
      " - 0s - loss: 0.3611 - acc: 0.8507\n",
      "Epoch 68/200\n",
      " - 0s - loss: 0.3686 - acc: 0.8451\n",
      "Epoch 69/200\n",
      " - 0s - loss: 0.3501 - acc: 0.8462\n",
      "Epoch 70/200\n",
      " - 0s - loss: 0.3561 - acc: 0.8620\n",
      "Epoch 71/200\n",
      " - 0s - loss: 0.3435 - acc: 0.8563\n",
      "Epoch 72/200\n",
      " - 0s - loss: 0.3337 - acc: 0.8642\n",
      "Epoch 73/200\n",
      " - 0s - loss: 0.3509 - acc: 0.8620\n",
      "Epoch 74/200\n",
      " - 0s - loss: 0.3461 - acc: 0.8597\n",
      "Epoch 75/200\n",
      " - 0s - loss: 0.3475 - acc: 0.8485\n",
      "Epoch 76/200\n",
      " - 0s - loss: 0.3600 - acc: 0.8575\n",
      "Epoch 77/200\n",
      " - 0s - loss: 0.3285 - acc: 0.8597\n",
      "Epoch 78/200\n",
      " - 0s - loss: 0.3559 - acc: 0.8563\n",
      "Epoch 79/200\n",
      " - 0s - loss: 0.3351 - acc: 0.8620\n",
      "Epoch 80/200\n",
      " - 0s - loss: 0.3265 - acc: 0.8519\n",
      "Epoch 81/200\n",
      " - 0s - loss: 0.3411 - acc: 0.8642\n",
      "Epoch 82/200\n",
      " - 0s - loss: 0.3373 - acc: 0.8507\n",
      "Epoch 83/200\n",
      " - 0s - loss: 0.3496 - acc: 0.8597\n",
      "Epoch 84/200\n",
      " - 0s - loss: 0.3375 - acc: 0.8530\n",
      "Epoch 85/200\n",
      " - 0s - loss: 0.3444 - acc: 0.8608\n",
      "Epoch 86/200\n",
      " - 0s - loss: 0.3264 - acc: 0.8687\n",
      "Epoch 87/200\n",
      " - 0s - loss: 0.3471 - acc: 0.8530\n",
      "Epoch 88/200\n",
      " - 0s - loss: 0.3342 - acc: 0.8597\n",
      "Epoch 89/200\n",
      " - 0s - loss: 0.3505 - acc: 0.8507\n",
      "Epoch 90/200\n",
      " - 0s - loss: 0.3474 - acc: 0.8608\n",
      "Epoch 91/200\n",
      " - 0s - loss: 0.3246 - acc: 0.8698\n",
      "Epoch 92/200\n",
      " - 0s - loss: 0.3390 - acc: 0.8552\n",
      "Epoch 93/200\n",
      " - 0s - loss: 0.3272 - acc: 0.8754\n",
      "Epoch 94/200\n",
      " - 0s - loss: 0.3263 - acc: 0.8608\n",
      "Epoch 95/200\n",
      " - 0s - loss: 0.3630 - acc: 0.8395\n",
      "Epoch 96/200\n",
      " - 0s - loss: 0.3213 - acc: 0.8642\n",
      "Epoch 97/200\n",
      " - 0s - loss: 0.3291 - acc: 0.8575\n",
      "Epoch 98/200\n",
      " - 0s - loss: 0.3089 - acc: 0.8653\n",
      "Epoch 99/200\n",
      " - 0s - loss: 0.3210 - acc: 0.8541\n",
      "Epoch 100/200\n",
      " - 0s - loss: 0.3381 - acc: 0.8653\n",
      "Epoch 101/200\n",
      " - 0s - loss: 0.3476 - acc: 0.8563\n",
      "Epoch 102/200\n",
      " - 0s - loss: 0.3182 - acc: 0.8743\n",
      "Epoch 103/200\n",
      " - 0s - loss: 0.3429 - acc: 0.8451\n",
      "Epoch 104/200\n",
      " - 0s - loss: 0.3446 - acc: 0.8575\n",
      "Epoch 105/200\n",
      " - 0s - loss: 0.3336 - acc: 0.8608\n",
      "Epoch 106/200\n",
      " - 0s - loss: 0.3419 - acc: 0.8552\n",
      "Epoch 107/200\n",
      " - 0s - loss: 0.3200 - acc: 0.8698\n",
      "Epoch 108/200\n",
      " - 0s - loss: 0.3303 - acc: 0.8754\n",
      "Epoch 109/200\n",
      " - 0s - loss: 0.3202 - acc: 0.8631\n",
      "Epoch 110/200\n",
      " - 0s - loss: 0.3346 - acc: 0.8698\n",
      "Epoch 111/200\n",
      " - 0s - loss: 0.3391 - acc: 0.8743\n",
      "Epoch 112/200\n",
      " - 0s - loss: 0.3272 - acc: 0.8620\n",
      "Epoch 113/200\n",
      " - 0s - loss: 0.3233 - acc: 0.8664\n",
      "Epoch 114/200\n",
      " - 0s - loss: 0.3297 - acc: 0.8653\n",
      "Epoch 115/200\n",
      " - 0s - loss: 0.3257 - acc: 0.8765\n",
      "Epoch 116/200\n",
      " - 0s - loss: 0.3275 - acc: 0.8732\n",
      "Epoch 117/200\n",
      " - 0s - loss: 0.3267 - acc: 0.8653\n",
      "Epoch 118/200\n",
      " - 0s - loss: 0.3316 - acc: 0.8631\n",
      "Epoch 119/200\n",
      " - 0s - loss: 0.3041 - acc: 0.8765\n",
      "Epoch 120/200\n",
      " - 0s - loss: 0.3258 - acc: 0.8698\n",
      "Epoch 121/200\n",
      " - 0s - loss: 0.3130 - acc: 0.8743\n",
      "Epoch 122/200\n",
      " - 0s - loss: 0.3144 - acc: 0.8721\n",
      "Epoch 123/200\n",
      " - 0s - loss: 0.3181 - acc: 0.8631\n",
      "Epoch 124/200\n",
      " - 0s - loss: 0.3021 - acc: 0.8721\n",
      "Epoch 125/200\n",
      " - 0s - loss: 0.3278 - acc: 0.8642\n",
      "Epoch 126/200\n",
      " - 0s - loss: 0.3343 - acc: 0.8620\n",
      "Epoch 127/200\n",
      " - 0s - loss: 0.3528 - acc: 0.8474\n",
      "Epoch 128/200\n",
      " - 0s - loss: 0.3089 - acc: 0.8788\n",
      "Epoch 129/200\n",
      " - 0s - loss: 0.3169 - acc: 0.8608\n",
      "Epoch 130/200\n",
      " - 0s - loss: 0.3253 - acc: 0.8687\n",
      "Epoch 131/200\n",
      " - 0s - loss: 0.3062 - acc: 0.8631\n",
      "Epoch 132/200\n",
      " - 0s - loss: 0.3112 - acc: 0.8653\n",
      "Epoch 133/200\n",
      " - 0s - loss: 0.3222 - acc: 0.8698\n",
      "Epoch 134/200\n",
      " - 0s - loss: 0.3332 - acc: 0.8631\n",
      "Epoch 135/200\n",
      " - 0s - loss: 0.3090 - acc: 0.8676\n",
      "Epoch 136/200\n",
      " - 0s - loss: 0.3412 - acc: 0.8530\n",
      "Epoch 137/200\n",
      " - 0s - loss: 0.2988 - acc: 0.8642\n",
      "Epoch 138/200\n",
      " - 0s - loss: 0.3189 - acc: 0.8687\n",
      "Epoch 139/200\n",
      " - 0s - loss: 0.3224 - acc: 0.8721\n",
      "Epoch 140/200\n",
      " - 0s - loss: 0.3006 - acc: 0.8788\n",
      "Epoch 141/200\n",
      " - 0s - loss: 0.3227 - acc: 0.8631\n",
      "Epoch 142/200\n",
      " - 0s - loss: 0.3176 - acc: 0.8620\n",
      "Epoch 143/200\n",
      " - 0s - loss: 0.3035 - acc: 0.8687\n",
      "Epoch 144/200\n",
      " - 0s - loss: 0.3128 - acc: 0.8721\n",
      "Epoch 145/200\n",
      " - 0s - loss: 0.3192 - acc: 0.8664\n",
      "Epoch 146/200\n",
      " - 0s - loss: 0.3046 - acc: 0.8732\n",
      "Epoch 147/200\n",
      " - 0s - loss: 0.3182 - acc: 0.8653\n",
      "Epoch 148/200\n",
      " - 0s - loss: 0.3008 - acc: 0.8709\n",
      "Epoch 149/200\n",
      " - 0s - loss: 0.3163 - acc: 0.8642\n",
      "Epoch 150/200\n",
      " - 0s - loss: 0.3121 - acc: 0.8721\n",
      "Epoch 151/200\n",
      " - 0s - loss: 0.3244 - acc: 0.8552\n",
      "Epoch 152/200\n",
      " - 0s - loss: 0.3141 - acc: 0.8676\n",
      "Epoch 153/200\n",
      " - 0s - loss: 0.3380 - acc: 0.8620\n",
      "Epoch 154/200\n",
      " - 0s - loss: 0.3133 - acc: 0.8799\n",
      "Epoch 155/200\n",
      " - 0s - loss: 0.3132 - acc: 0.8653\n",
      "Epoch 156/200\n",
      " - 0s - loss: 0.3222 - acc: 0.8586\n",
      "Epoch 157/200\n",
      " - 0s - loss: 0.3200 - acc: 0.8653\n",
      "Epoch 158/200\n",
      " - 0s - loss: 0.3111 - acc: 0.8575\n",
      "Epoch 159/200\n",
      " - 0s - loss: 0.3233 - acc: 0.8586\n",
      "Epoch 160/200\n",
      " - 0s - loss: 0.3087 - acc: 0.8687\n",
      "Epoch 161/200\n",
      " - 0s - loss: 0.2957 - acc: 0.8687\n",
      "Epoch 162/200\n",
      " - 0s - loss: 0.3197 - acc: 0.8653\n",
      "Epoch 163/200\n",
      " - 0s - loss: 0.3098 - acc: 0.8541\n",
      "Epoch 164/200\n",
      " - 0s - loss: 0.2999 - acc: 0.8732\n",
      "Epoch 165/200\n",
      " - 0s - loss: 0.3218 - acc: 0.8608\n",
      "Epoch 166/200\n",
      " - 0s - loss: 0.3133 - acc: 0.8608\n",
      "Epoch 167/200\n",
      " - 0s - loss: 0.3009 - acc: 0.8676\n",
      "Epoch 168/200\n",
      " - 0s - loss: 0.3206 - acc: 0.8709\n",
      "Epoch 169/200\n",
      " - 0s - loss: 0.3063 - acc: 0.8642\n",
      "Epoch 170/200\n",
      " - 0s - loss: 0.3038 - acc: 0.8743\n",
      "Epoch 171/200\n",
      " - 0s - loss: 0.3252 - acc: 0.8519\n",
      "Epoch 172/200\n",
      " - 0s - loss: 0.3061 - acc: 0.8642\n",
      "Epoch 173/200\n",
      " - 0s - loss: 0.3127 - acc: 0.8732\n",
      "Epoch 174/200\n",
      " - 0s - loss: 0.3251 - acc: 0.8687\n",
      "Epoch 175/200\n",
      " - 0s - loss: 0.3008 - acc: 0.8631\n",
      "Epoch 176/200\n",
      " - 0s - loss: 0.3131 - acc: 0.8631\n",
      "Epoch 177/200\n",
      " - 0s - loss: 0.3126 - acc: 0.8676\n",
      "Epoch 178/200\n",
      " - 0s - loss: 0.3317 - acc: 0.8519\n",
      "Epoch 179/200\n",
      " - 0s - loss: 0.3210 - acc: 0.8552\n",
      "Epoch 180/200\n",
      " - 0s - loss: 0.3071 - acc: 0.8709\n",
      "Epoch 181/200\n",
      " - 0s - loss: 0.3056 - acc: 0.8631\n",
      "Epoch 182/200\n",
      " - 0s - loss: 0.3142 - acc: 0.8765\n",
      "Epoch 183/200\n",
      " - 0s - loss: 0.2984 - acc: 0.8765\n",
      "Epoch 184/200\n",
      " - 0s - loss: 0.3136 - acc: 0.8698\n",
      "Epoch 185/200\n",
      " - 0s - loss: 0.3162 - acc: 0.8676\n",
      "Epoch 186/200\n",
      " - 0s - loss: 0.2989 - acc: 0.8754\n",
      "Epoch 187/200\n",
      " - 0s - loss: 0.3152 - acc: 0.8485\n",
      "Epoch 188/200\n",
      " - 0s - loss: 0.2961 - acc: 0.8788\n",
      "Epoch 189/200\n",
      " - 0s - loss: 0.3044 - acc: 0.8765\n",
      "Epoch 190/200\n",
      " - 0s - loss: 0.2816 - acc: 0.8676\n",
      "Epoch 191/200\n",
      " - 0s - loss: 0.3141 - acc: 0.8721\n",
      "Epoch 192/200\n",
      " - 0s - loss: 0.3156 - acc: 0.8642\n",
      "Epoch 193/200\n",
      " - 0s - loss: 0.3069 - acc: 0.8698\n",
      "Epoch 194/200\n",
      " - 0s - loss: 0.3160 - acc: 0.8664\n",
      "Epoch 195/200\n",
      " - 0s - loss: 0.3121 - acc: 0.8687\n",
      "Epoch 196/200\n",
      " - 0s - loss: 0.3121 - acc: 0.8709\n",
      "Epoch 197/200\n",
      " - 0s - loss: 0.3288 - acc: 0.8631\n",
      "Epoch 198/200\n",
      " - 0s - loss: 0.2938 - acc: 0.8754\n",
      "Epoch 199/200\n",
      " - 0s - loss: 0.3012 - acc: 0.8754\n",
      "Epoch 200/200\n",
      " - 0s - loss: 0.3012 - acc: 0.8608\n"
     ]
    },
    {
     "data": {
      "text/plain": [
       "<keras.callbacks.History at 0x7f126d70e2e8>"
      ]
     },
     "execution_count": 53,
     "metadata": {},
     "output_type": "execute_result"
    }
   ],
   "source": [
    "# Creating the model\n",
    "model = Sequential()\n",
    "\n",
    "# Inputing the first layer with input dimensions\n",
    "model.add(Dense(32,  activation='relu',  \n",
    "                input_dim=79,\n",
    "                kernel_initializer='uniform',\n",
    "                name='Hidden1'))\n",
    "\n",
    "# Adding an Dropout layer to prevent from overfitting\n",
    "model.add(Dropout(0.50))\n",
    "\n",
    "#adding second hidden layer \n",
    "model.add(Dense(16,\n",
    "                kernel_initializer='uniform',\n",
    "                activation='relu',\n",
    "                name='Hidden2'))\n",
    "\n",
    "# Adding another Dropout layer\n",
    "model.add(Dropout(0.50))\n",
    "\n",
    "# adding the output layer that is binary [0,1]\n",
    "model.add(Dense(1,\n",
    "                kernel_initializer='uniform',\n",
    "                activation='sigmoid', name='Output'))\n",
    "\n",
    "#Visualizing the model\n",
    "model.summary()\n",
    "\n",
    "#Creating an Stochastic Gradient Descent\n",
    "sgd = SGD(lr = 0.01, momentum = 0.9)\n",
    "\n",
    "# Compiling our model\n",
    "model.compile(optimizer = sgd, \n",
    "                   loss = 'binary_crossentropy', \n",
    "                   metrics = ['accuracy'])\n",
    "\n",
    "# Fitting the ANN to the Training set\n",
    "model.fit(X_train, Y_train, \n",
    "               batch_size = 30, \n",
    "               epochs = 200, verbose=2)"
   ]
  },
  {
   "cell_type": "code",
   "execution_count": 54,
   "metadata": {},
   "outputs": [],
   "source": [
    "# y_preds = model.predict(test)\n",
    "# y_final = (y_preds > 0.5).astype(int)\n",
    "# submission = pd.read_csv(\"../input/gender_submission.csv\", index_col='PassengerId')\n",
    "# submission['Survived'] = y_final.astype(int)\n",
    "# submission.to_csv('NNPrediction1.csv')"
   ]
  },
  {
   "cell_type": "markdown",
   "execution_count": null,
   "metadata": {},
   "source": [
    "# **Model evaluation**"
   ]
  },
  {
   "cell_type": "code",
   "execution_count": 55,
   "metadata": {},
   "outputs": [
    {
     "name": "stdout",
     "output_type": "stream",
     "text": [
      "891/891 [==============================] - 0s 90us/step\n",
      "acc: 89.45%\n"
     ]
    }
   ],
   "source": [
    "scores = model.evaluate(X_train, Y_train, batch_size=30)\n",
    "print(\"%s: %.2f%%\" % (model.metrics_names[1], scores[1]*100))"
   ]
  },
  {
   "cell_type": "markdown",
   "execution_count": null,
   "metadata": {
    "_uuid": "e7c95185405804050d876706e90cd2a78ccd051a"
   },
   "source": [
    "# **Conclusion**\n",
    "\n",
    "Title, Sex_Female, Fare & PClass seems to be common features preferred for classification.\n",
    "\n",
    "While Title & Age feature represents the Age category of passengers the features like Fare, PClass, Cabin etc. represents the economic status. Based on findings we can conclude that Age, Gender & features representing social/economic status were primary factors affecting the survival of passenger.\n"
   ]
  },
  {
   "cell_type": "markdown",
   "execution_count": null,
   "metadata": {
    "_uuid": "9788422b1d1b920dd13ae9010acedd6ebc40822f"
   },
   "source": [
    "**If you find this notebook helpful, Please upvote and/or leave a comment**"
   ]
  }
 ],
 "metadata": {
  "kernelspec": {
   "display_name": "Python 3",
   "language": "python",
   "name": "python3"
  },
  "language_info": {
   "codemirror_mode": {
    "name": "ipython",
    "version": 3
   },
   "file_extension": ".py",
   "mimetype": "text/x-python",
   "name": "python",
   "nbconvert_exporter": "python",
   "pygments_lexer": "ipython3",
   "version": "3.6.4"
  }
 },
 "nbformat": 4,
 "nbformat_minor": 4
}
