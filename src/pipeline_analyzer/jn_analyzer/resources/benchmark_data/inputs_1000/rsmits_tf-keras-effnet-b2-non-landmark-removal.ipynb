{
 "cells": [
  {
   "cell_type": "markdown",
   "execution_count": null,
   "metadata": {
    "papermill": {
     "duration": 0.0056,
     "end_time": "2020-08-23T21:59:50.757742",
     "exception": false,
     "start_time": "2020-08-23T21:59:50.752142",
     "status": "completed"
    },
    "tags": []
   },
   "source": [
    "In the current competition there seem to be only a few kernels (ok .. besides the kernel provided by the competition organisers and related forks) that use a DL classification model.\n",
    "\n",
    "With this kernel I hope to add a little to the choices that are available and still provide a nice score given the GPU time available. Some keypoints of this kernel:\n",
    "* Simple EfficientNet B2 model\n",
    "* Custom head\n",
    "* Custom sampling\n",
    "* An attempt to detect when an object is no landmark by using a Places365 model. I'am using the same model as in my notebook during last years Landmark Recognition [Landmark Notebook](https://www.kaggle.com/rsmits/keras-landmark-or-non-landmark-identification)\n",
    "\n",
    "If you liked this kernel then please give it an upvote :-)\n",
    "\n",
    "I'am looking forward to any questions or remarks you might have that I can use to improve this kernel."
   ]
  },
  {
   "cell_type": "markdown",
   "execution_count": null,
   "metadata": {
    "papermill": {
     "duration": 0.00419,
     "end_time": "2020-08-23T21:59:50.766773",
     "exception": false,
     "start_time": "2020-08-23T21:59:50.762583",
     "status": "completed"
    },
    "tags": []
   },
   "source": [
    "## Version Updates"
   ]
  },
  {
   "cell_type": "markdown",
   "execution_count": null,
   "metadata": {
    "papermill": {
     "duration": 0.004081,
     "end_time": "2020-08-23T21:59:50.775305",
     "exception": false,
     "start_time": "2020-08-23T21:59:50.771224",
     "status": "completed"
    },
    "tags": []
   },
   "source": [
    "Version 10:\n",
    "* Increase image size to 256.\n",
    "* Slightly lower Batch Size and Learning Rate.\n",
    "* Lower the minimum sample threshold to include more classes.\n",
    "* Add Label Smoothing\n",
    "* Trained for 6 epochs on external M60 GPU VM.\n",
    "\n",
    "Altough I trained on an external GPU server the code to run the training is updated in the notebook. The score is however then in Version 8. I suspect this is due to the Label Smoothing. I will try the next version without it.. to be continued.."
   ]
  },
  {
   "cell_type": "code",
   "execution_count": 1,
   "metadata": {
    "execution": {
     "iopub.execute_input": "2020-08-23T21:59:50.801409Z",
     "iopub.status.busy": "2020-08-23T21:59:50.800665Z",
     "iopub.status.idle": "2020-08-23T22:00:57.343513Z",
     "shell.execute_reply": "2020-08-23T22:00:57.342301Z"
    },
    "papermill": {
     "duration": 66.563774,
     "end_time": "2020-08-23T22:00:57.343661",
     "exception": false,
     "start_time": "2020-08-23T21:59:50.779887",
     "status": "completed"
    },
    "tags": []
   },
   "outputs": [
    {
     "name": "stdout",
     "output_type": "stream",
     "text": [
      "Processing /kaggle/input/glrec2020/Keras_Applications-1.0.8-py3-none-any.whl\r\n",
      "Requirement already satisfied: h5py in /opt/conda/lib/python3.7/site-packages (from Keras-Applications==1.0.8) (2.10.0)\r\n",
      "Requirement already satisfied: numpy>=1.9.1 in /opt/conda/lib/python3.7/site-packages (from Keras-Applications==1.0.8) (1.18.5)\r\n",
      "Requirement already satisfied: six in /opt/conda/lib/python3.7/site-packages (from h5py->Keras-Applications==1.0.8) (1.14.0)\r\n",
      "Installing collected packages: Keras-Applications\r\n",
      "Successfully installed Keras-Applications-1.0.8\r\n",
      "Processing /kaggle/input/glrec2020/efficientnet-1.1.0-py3-none-any.whl\r\n",
      "Requirement already satisfied: keras-applications<=1.0.8,>=1.0.7 in /opt/conda/lib/python3.7/site-packages (from efficientnet==1.1.0) (1.0.8)\r\n",
      "Requirement already satisfied: scikit-image in /opt/conda/lib/python3.7/site-packages (from efficientnet==1.1.0) (0.16.2)\r\n",
      "Requirement already satisfied: numpy>=1.9.1 in /opt/conda/lib/python3.7/site-packages (from keras-applications<=1.0.8,>=1.0.7->efficientnet==1.1.0) (1.18.5)\r\n",
      "Requirement already satisfied: h5py in /opt/conda/lib/python3.7/site-packages (from keras-applications<=1.0.8,>=1.0.7->efficientnet==1.1.0) (2.10.0)\r\n",
      "Requirement already satisfied: scipy>=0.19.0 in /opt/conda/lib/python3.7/site-packages (from scikit-image->efficientnet==1.1.0) (1.4.1)\r\n",
      "Requirement already satisfied: matplotlib!=3.0.0,>=2.0.0 in /opt/conda/lib/python3.7/site-packages (from scikit-image->efficientnet==1.1.0) (3.2.1)\r\n",
      "Requirement already satisfied: networkx>=2.0 in /opt/conda/lib/python3.7/site-packages (from scikit-image->efficientnet==1.1.0) (2.4)\r\n",
      "Requirement already satisfied: pillow>=4.3.0 in /opt/conda/lib/python3.7/site-packages (from scikit-image->efficientnet==1.1.0) (7.2.0)\r\n",
      "Requirement already satisfied: imageio>=2.3.0 in /opt/conda/lib/python3.7/site-packages (from scikit-image->efficientnet==1.1.0) (2.8.0)\r\n",
      "Requirement already satisfied: PyWavelets>=0.4.0 in /opt/conda/lib/python3.7/site-packages (from scikit-image->efficientnet==1.1.0) (1.1.1)\r\n",
      "Requirement already satisfied: six in /opt/conda/lib/python3.7/site-packages (from h5py->keras-applications<=1.0.8,>=1.0.7->efficientnet==1.1.0) (1.14.0)\r\n",
      "Requirement already satisfied: kiwisolver>=1.0.1 in /opt/conda/lib/python3.7/site-packages (from matplotlib!=3.0.0,>=2.0.0->scikit-image->efficientnet==1.1.0) (1.2.0)\r\n",
      "Requirement already satisfied: cycler>=0.10 in /opt/conda/lib/python3.7/site-packages (from matplotlib!=3.0.0,>=2.0.0->scikit-image->efficientnet==1.1.0) (0.10.0)\r\n",
      "Requirement already satisfied: pyparsing!=2.0.4,!=2.1.2,!=2.1.6,>=2.0.1 in /opt/conda/lib/python3.7/site-packages (from matplotlib!=3.0.0,>=2.0.0->scikit-image->efficientnet==1.1.0) (2.4.7)\r\n",
      "Requirement already satisfied: python-dateutil>=2.1 in /opt/conda/lib/python3.7/site-packages (from matplotlib!=3.0.0,>=2.0.0->scikit-image->efficientnet==1.1.0) (2.8.1)\r\n",
      "Requirement already satisfied: decorator>=4.3.0 in /opt/conda/lib/python3.7/site-packages (from networkx>=2.0->scikit-image->efficientnet==1.1.0) (4.4.2)\r\n",
      "Installing collected packages: efficientnet\r\n",
      "Successfully installed efficientnet-1.1.0\r\n"
     ]
    }
   ],
   "source": [
    "# Import Modules\n",
    "import albumentations as A\n",
    "import cv2\n",
    "import gc\n",
    "import numpy as np\n",
    "import os\n",
    "import pandas as pd\n",
    "import random\n",
    "import sys\n",
    "from math import floor\n",
    "import matplotlib.pyplot as plt\n",
    "import seaborn as sns\n",
    "from tqdm.notebook import tqdm\n",
    "import tensorflow as tf\n",
    "from tensorflow.keras import backend as K\n",
    "from tensorflow.keras.mixed_precision import experimental as mixed_precision\n",
    "from sklearn.model_selection import train_test_split\n",
    "from sklearn.preprocessing import MultiLabelBinarizer, LabelBinarizer\n",
    "\n",
    "# EfficientNet\n",
    "!pip install '../input/glrec2020/Keras_Applications-1.0.8-py3-none-any.whl'\n",
    "!pip install '../input/glrec2020/efficientnet-1.1.0-py3-none-any.whl'\n",
    "import efficientnet.tfkeras as efn\n",
    "\n",
    "# VGG 16 Places 365 scripts in custom dataset\n",
    "os.chdir(\"../input/keras-vgg16-places365\")\n",
    "from vgg16_places_365 import VGG16_Places365\n",
    "os.chdir(\"/kaggle/working/\")"
   ]
  },
  {
   "cell_type": "code",
   "execution_count": 2,
   "metadata": {
    "execution": {
     "iopub.execute_input": "2020-08-23T22:00:57.366674Z",
     "iopub.status.busy": "2020-08-23T22:00:57.366075Z",
     "iopub.status.idle": "2020-08-23T22:00:58.461122Z",
     "shell.execute_reply": "2020-08-23T22:00:58.459567Z"
    },
    "papermill": {
     "duration": 1.110968,
     "end_time": "2020-08-23T22:00:58.461243",
     "exception": false,
     "start_time": "2020-08-23T22:00:57.350275",
     "status": "completed"
    },
    "tags": []
   },
   "outputs": [],
   "source": [
    "# Set All Random Stuff\n",
    "SEED = 4249\n",
    "np.random.seed(SEED)\n",
    "tf.random.set_seed(SEED)\n",
    "\n",
    "#  Constants and Folders\n",
    "TEST_SIZE = 0.05\n",
    "SIZE = 256\n",
    "BATCH_SIZE = 24\n",
    "LR = 0.00035\n",
    "CHANNELS = 3\n",
    "SHAPE = (SIZE, SIZE, CHANNELS)\n",
    "\n",
    "TRAIN_ROOT_PATH = '../input/landmark-recognition-2020/train'\n",
    "TEST_ROOT_PATH = '../input/landmark-recognition-2020/test'\n",
    "submission = pd.read_csv('../input/landmark-recognition-2020/sample_submission.csv')\n",
    "train_data = pd.read_csv('../input/glrec2020/train.csv')\n",
    "\n",
    "# Perform Training or Inference (with or without Places Support)\n",
    "INFERENCE = True\n",
    "PLACES = True"
   ]
  },
  {
   "cell_type": "code",
   "execution_count": 3,
   "metadata": {
    "execution": {
     "iopub.execute_input": "2020-08-23T22:00:58.483938Z",
     "iopub.status.busy": "2020-08-23T22:00:58.482229Z",
     "iopub.status.idle": "2020-08-23T22:00:58.484578Z",
     "shell.execute_reply": "2020-08-23T22:00:58.485047Z"
    },
    "papermill": {
     "duration": 0.015787,
     "end_time": "2020-08-23T22:00:58.485169",
     "exception": false,
     "start_time": "2020-08-23T22:00:58.469382",
     "status": "completed"
    },
    "tags": []
   },
   "outputs": [],
   "source": [
    "# Read Image\n",
    "def read_image(path, im_size, normalize_image = False):\n",
    "    img = cv2.imread(path, cv2.IMREAD_COLOR)  \n",
    "    img = cv2.resize(img, (im_size, im_size))\n",
    "    img = cv2.cvtColor(img, cv2.COLOR_BGR2RGB).astype(np.float32)\n",
    "    if normalize_image:\n",
    "        img /= 255.0  \n",
    "    return img"
   ]
  },
  {
   "cell_type": "code",
   "execution_count": 4,
   "metadata": {
    "_cell_guid": "b1076dfc-b9ad-4769-8c92-a6c4dae69d19",
    "_uuid": "8f2839f25d086af736a60e9eeb907d3b93b6e0e5",
    "execution": {
     "iopub.execute_input": "2020-08-23T22:00:58.517424Z",
     "iopub.status.busy": "2020-08-23T22:00:58.515743Z",
     "iopub.status.idle": "2020-08-23T22:00:58.518413Z",
     "shell.execute_reply": "2020-08-23T22:00:58.518909Z"
    },
    "papermill": {
     "duration": 0.027887,
     "end_time": "2020-08-23T22:00:58.519027",
     "exception": false,
     "start_time": "2020-08-23T22:00:58.491140",
     "status": "completed"
    },
    "tags": []
   },
   "outputs": [],
   "source": [
    "def get_train_transforms():\n",
    "    return A.Compose([\n",
    "            A.HorizontalFlip(p = 0.2),\n",
    "            A.VerticalFlip(p = 0.2),\n",
    "            A.RandomRotate90(p = 0.2),\n",
    "            A.Transpose(p = 0.15),\n",
    "            A.ShiftScaleRotate(shift_limit = 0.05, scale_limit = 0.1, rotate_limit = 25, interpolation = 1, border_mode = 4, p = 0.15)\n",
    "        ], p = 0.9)\n",
    "\n",
    "class TrainDataGenerator(tf.keras.utils.Sequence):\n",
    "    def __init__(self, image_ids, labels, classes, batch_size = 16, augmentation = False, *args, **kwargs):\n",
    "        self.image_ids = image_ids\n",
    "        self.labels = labels\n",
    "        self.classes = classes\n",
    "        self.batch_size = batch_size\n",
    "        self.augmentation = augmentation\n",
    "        self.indices = range(len(self.image_ids))\n",
    "        self.on_epoch_end()\n",
    "\n",
    "    def __len__(self):\n",
    "        return int(floor(len(self.image_ids) / self.batch_size))\n",
    "\n",
    "    def __getitem__(self, index):\n",
    "        indices = self.indices[index*self.batch_size:(index+1)*self.batch_size]\n",
    "        X, Y = self.__data_generation(indices)\n",
    "        return X, Y\n",
    "\n",
    "    def on_epoch_end(self):\n",
    "        self.indices = np.arange(len(self.image_ids))\n",
    "    \n",
    "    def __data_generation(self, indices):\n",
    "        if self.augmentation:\n",
    "            augmentor = get_train_transforms()\n",
    "        X = np.empty((self.batch_size, *(SIZE, SIZE, CHANNELS)))\n",
    "        Y = np.empty((self.batch_size, self.classes))\n",
    "        \n",
    "        # Get Images for Batch\n",
    "        for i, index in enumerate(indices):\n",
    "            image_id, label = self.image_ids[index], self.labels[index]\n",
    "            image = read_image(f\"{TRAIN_ROOT_PATH}/{image_id[0]}/{image_id[1]}/{image_id[2]}/{image_id}.jpg\", SIZE, normalize_image = True)\n",
    "            if self.augmentation:\n",
    "                data = {\"image\": image}\n",
    "                augmented = augmentor(**data)\n",
    "                image = augmented[\"image\"]\n",
    "            \n",
    "            X[i,] = image\n",
    "            Y[i,] = label.toarray()\n",
    "        \n",
    "        return X, Y "
   ]
  },
  {
   "cell_type": "code",
   "execution_count": 5,
   "metadata": {
    "execution": {
     "iopub.execute_input": "2020-08-23T22:00:58.547674Z",
     "iopub.status.busy": "2020-08-23T22:00:58.546787Z",
     "iopub.status.idle": "2020-08-23T22:00:58.818340Z",
     "shell.execute_reply": "2020-08-23T22:00:58.818804Z"
    },
    "papermill": {
     "duration": 0.293875,
     "end_time": "2020-08-23T22:00:58.818957",
     "exception": false,
     "start_time": "2020-08-23T22:00:58.525082",
     "status": "completed"
    },
    "tags": []
   },
   "outputs": [
    {
     "name": "stdout",
     "output_type": "stream",
     "text": [
      "                 id  landmark_id\n",
      "0  17660ef415d37059            1\n",
      "1  92b6290d571448f6            1\n",
      "2  cd41bf948edc0340            1\n",
      "3  fb09f1e98c6d2f70            1\n",
      "4  25c9dfc7ea69838d            7\n",
      "(1580470, 2)\n"
     ]
    },
    {
     "data": {
      "image/png": "[encoded data removed]",
      "text/plain": [
       "<Figure size 864x576 with 1 Axes>"
      ]
     },
     "metadata": {
      "needs_background": "light"
     },
     "output_type": "display_data"
    }
   ],
   "source": [
    "# Train Dataset Default Summary\n",
    "print(train_data.head())\n",
    "print(train_data.shape)\n",
    "\n",
    "# Show default distribution of value_counts - ! Class Imbalance\n",
    "train_value_counts_regular = train_data['landmark_id'].value_counts()\n",
    "plt.figure(figsize=(12, 8))\n",
    "sns.distplot(train_value_counts_regular, hist = False, rug = False, label = \"Train Data normal value count distribution\")\n",
    "plt.xlabel(\"Value Counts\")\n",
    "plt.show()"
   ]
  },
  {
   "cell_type": "code",
   "execution_count": 6,
   "metadata": {
    "execution": {
     "iopub.execute_input": "2020-08-23T22:00:58.841412Z",
     "iopub.status.busy": "2020-08-23T22:00:58.840582Z",
     "iopub.status.idle": "2020-08-23T22:01:32.910665Z",
     "shell.execute_reply": "2020-08-23T22:01:32.911160Z"
    },
    "papermill": {
     "duration": 34.085351,
     "end_time": "2020-08-23T22:01:32.911299",
     "exception": false,
     "start_time": "2020-08-23T22:00:58.825948",
     "status": "completed"
    },
    "tags": []
   },
   "outputs": [
    {
     "data": {
      "image/png": "[encoded data removed]",
      "text/plain": [
       "<Figure size 864x576 with 1 Axes>"
      ]
     },
     "metadata": {
      "needs_background": "light"
     },
     "output_type": "display_data"
    }
   ],
   "source": [
    "# Subsample Train.csv\n",
    "def custom_sampler(df, min_samples, max_samples):\n",
    "    landmark_id_counts = df['landmark_id'].value_counts()\n",
    "\n",
    "    # First get part of data set between min_samples and max_samples\n",
    "    df1 = df[df['landmark_id'].isin(landmark_id_counts[(landmark_id_counts >= min_samples) & (landmark_id_counts <= max_samples)].index)]\n",
    "    \n",
    "    # Next for all Landmark_ids that have higher than max_samples sample count...down sample to max_samples\n",
    "    for id in landmark_id_counts[landmark_id_counts > max_samples].index:\n",
    "        # Get max_samples for specific landmark_id\n",
    "        temp_df = df[df.landmark_id == id].sample(max_samples, random_state = SEED)\n",
    "\n",
    "        # Concatenate Dataframes\n",
    "        df1 = pd.concat([df1, temp_df], axis = 0)\n",
    "        \n",
    "    return df1\n",
    "\n",
    "# Perform Custom datasampling on Train.csv\n",
    "# Only use Labels that have a minimum of min_samples in images.\n",
    "# Any Label that has more images than max_samples...downsample to the amount of max_samples\n",
    "train_data = custom_sampler(train_data, min_samples = 12, max_samples = 140)\n",
    "\n",
    "# New Distribution - Class Imbalance is smaller\n",
    "train_value_counts_custom = train_data['landmark_id'].value_counts()\n",
    "plt.figure(figsize=(12, 8))\n",
    "sns.distplot(train_value_counts_custom, hist = False, rug = False, label = \"Train Data custom value count distribution\")\n",
    "plt.xlabel(\"Value Counts\")\n",
    "plt.show() "
   ]
  },
  {
   "cell_type": "code",
   "execution_count": 7,
   "metadata": {
    "execution": {
     "iopub.execute_input": "2020-08-23T22:01:32.931090Z",
     "iopub.status.busy": "2020-08-23T22:01:32.930435Z",
     "iopub.status.idle": "2020-08-23T22:01:32.985414Z",
     "shell.execute_reply": "2020-08-23T22:01:32.985911Z"
    },
    "papermill": {
     "duration": 0.067616,
     "end_time": "2020-08-23T22:01:32.986037",
     "exception": false,
     "start_time": "2020-08-23T22:01:32.918421",
     "status": "completed"
    },
    "tags": []
   },
   "outputs": [
    {
     "name": "stdout",
     "output_type": "stream",
     "text": [
      "Total number of classes sampled: 34045\n"
     ]
    },
    {
     "data": {
      "text/plain": [
       "LabelBinarizer(sparse_output=True)"
      ]
     },
     "execution_count": 7,
     "metadata": {},
     "output_type": "execute_result"
    }
   ],
   "source": [
    "# Get all unique landmark_ids\n",
    "all_landmark_ids = train_data.landmark_id.unique().tolist()\n",
    "print(f'Total number of classes sampled: {len(all_landmark_ids)}')\n",
    "\n",
    "# Get All Labels for One-Hot\n",
    "ALL_LABELS = np.sort(np.unique(all_landmark_ids))\n",
    "lb = LabelBinarizer(sparse_output = True)\n",
    "lb.fit(ALL_LABELS)"
   ]
  },
  {
   "cell_type": "code",
   "execution_count": 8,
   "metadata": {
    "execution": {
     "iopub.execute_input": "2020-08-23T22:01:33.025900Z",
     "iopub.status.busy": "2020-08-23T22:01:33.024421Z",
     "iopub.status.idle": "2020-08-23T22:01:33.027007Z",
     "shell.execute_reply": "2020-08-23T22:01:33.027477Z"
    },
    "papermill": {
     "duration": 0.034654,
     "end_time": "2020-08-23T22:01:33.027592",
     "exception": false,
     "start_time": "2020-08-23T22:01:32.992938",
     "status": "completed"
    },
    "tags": []
   },
   "outputs": [],
   "source": [
    "def batch_gap(y_t, y_p):\n",
    "    pred_cat = tf.argmax(y_p, axis=-1)    \n",
    "    y_t_cat = tf.argmax(y_t, axis=-1) * tf.cast(\n",
    "        tf.reduce_sum(y_t, axis=-1), tf.int64)\n",
    "    \n",
    "    n_pred = tf.shape(pred_cat)[0]\n",
    "    is_c = tf.cast(tf.equal(pred_cat, y_t_cat), tf.float32)\n",
    "\n",
    "    GAP = tf.reduce_mean(\n",
    "          tf.cumsum(is_c) * is_c / tf.cast(\n",
    "              tf.range(1, n_pred + 1), \n",
    "              dtype=tf.float32))\n",
    "    \n",
    "    return GAP\n",
    "\n",
    "# Modelcheckpoint Callback\n",
    "def ModelCheckpoint():\n",
    "    return tf.keras.callbacks.ModelCheckpoint(\n",
    "                            'Model_epoch{epoch:02d}_vl{val_loss:.4f}_va{val_acc:.4f}_vbg{val_batch_gap:.4f}.h5', \n",
    "                            monitor = 'val_loss', \n",
    "                            verbose = 1, \n",
    "                            save_best_only = False, \n",
    "                            save_weights_only = True, \n",
    "                            mode = 'min', \n",
    "                            save_freq = 'epoch')\n",
    "\n",
    "# Generalized mean pool - GeM\n",
    "def generalized_mean_pool_2d(X):\n",
    "    gm_exp = 3.0\n",
    "    pool = (tf.reduce_mean(tf.abs(X**(gm_exp)), \n",
    "                        axis = [1, 2], \n",
    "                        keepdims = False) + 1.e-7)**(1./gm_exp)\n",
    "    return pool\n",
    "\n",
    "# I've also put in a model with a GeM layer. Given enough compute time a model with a GeM layer will likely score higher.\n",
    "def create_model_gem(WEIGHTS, CLASSES): \n",
    "    # Input Layer\n",
    "    input = tf.keras.layers.Input(shape = SHAPE)\n",
    "    \n",
    "    # Create and Compile Model and show Summary\n",
    "    effnet_model = efn.EfficientNetB2(weights = WEIGHTS, include_top = False, input_tensor = input, pooling = None , classes = None)\n",
    "        \n",
    "    X = tf.keras.layers.Lambda(generalized_mean_pool_2d, name = 'gem')(effnet_model.output)\n",
    "    X = tf.keras.layers.Dropout(0.25)(X)\n",
    "    X = tf.keras.layers.Dense(1024, activation = 'relu')(X)\n",
    "    X = tf.keras.layers.BatchNormalization()(X)\n",
    "    X = tf.keras.layers.Dropout(0.25)(X)\n",
    "    preds = tf.keras.layers.Dense(CLASSES, activation = 'softmax')(X)\n",
    "    \n",
    "    # Create Final Model\n",
    "    model = tf.keras.Model(inputs = effnet_model.input, outputs = preds)\n",
    "\n",
    "    # UnFreeze all layers\n",
    "    for layer in model.layers:\n",
    "        layer.trainable = True\n",
    "    \n",
    "    return model\n",
    "\n",
    "def create_model(WEIGHTS, CLASSES): \n",
    "    # Input Layer\n",
    "    input = tf.keras.layers.Input(shape = SHAPE)\n",
    "    \n",
    "    # Create and Compile Model and show Summary\n",
    "    effnet_model = efn.EfficientNetB2(weights = WEIGHTS, include_top = False, input_tensor = input, pooling = 'avg', classes = None)\n",
    "    \n",
    "    X = tf.keras.layers.Dropout(0.25)(effnet_model.output)\n",
    "    X = tf.keras.layers.Dense(1024, activation = 'relu')(X)\n",
    "    X = tf.keras.layers.BatchNormalization()(X)\n",
    "    X = tf.keras.layers.Dropout(0.25)(X)\n",
    "    preds = tf.keras.layers.Dense(CLASSES, activation = 'softmax')(X)\n",
    "    \n",
    "    # Create Final Model\n",
    "    model = tf.keras.Model(inputs = effnet_model.input, outputs = preds)\n",
    "\n",
    "    # UnFreeze all layers\n",
    "    for layer in model.layers:\n",
    "        layer.trainable = True\n",
    "    \n",
    "    return model"
   ]
  },
  {
   "cell_type": "code",
   "execution_count": 9,
   "metadata": {
    "execution": {
     "iopub.execute_input": "2020-08-23T22:01:33.055022Z",
     "iopub.status.busy": "2020-08-23T22:01:33.054267Z",
     "iopub.status.idle": "2020-08-23T22:01:33.057104Z",
     "shell.execute_reply": "2020-08-23T22:01:33.057533Z"
    },
    "papermill": {
     "duration": 0.023189,
     "end_time": "2020-08-23T22:01:33.057646",
     "exception": false,
     "start_time": "2020-08-23T22:01:33.034457",
     "status": "completed"
    },
    "tags": []
   },
   "outputs": [],
   "source": [
    "if not INFERENCE:\n",
    "    # Randomize Data\n",
    "    train_data = train_data.sample(frac = 1, random_state = SEED)\n",
    "\n",
    "    # Create Landmark Prediction Model\n",
    "    model = create_model('imagenet', len(all_landmark_ids))\n",
    "\n",
    "    # Compile Model\n",
    "    loss = tf.keras.losses.CategoricalCrossentropy(label_smoothing = 0.1)\n",
    "    optimizer = tf.keras.optimizers.Adam(lr = LR)\n",
    "    model.compile(loss = loss, optimizer = optimizer, metrics = ['acc', batch_gap])\n",
    "    \n",
    "    # Model Summary\n",
    "    #print(model.summary())\n",
    "\n",
    "    # Stratified Train Test Split\n",
    "    idsTrain, idsVal, labelsTrain, labelsVal = train_test_split(train_data.id.tolist(), \n",
    "                                                                lb.transform(train_data.landmark_id), \n",
    "                                                                test_size = TEST_SIZE, \n",
    "                                                                random_state = SEED, \n",
    "                                                                stratify = train_data.landmark_id)\n",
    "\n",
    "    # Create Data Generators for Train and Valid\n",
    "    data_generator_train = TrainDataGenerator(image_ids = idsTrain,\n",
    "                                            labels = labelsTrain, \n",
    "                                            classes = len(ALL_LABELS),\n",
    "                                            batch_size = BATCH_SIZE,\n",
    "                                            augmentation = True)\n",
    "    data_generator_val = TrainDataGenerator(image_ids = idsVal,\n",
    "                                            labels = labelsVal,\n",
    "                                            classes = len(ALL_LABELS),\n",
    "                                            batch_size = 2 * BATCH_SIZE,\n",
    "                                            augmentation = False)\n",
    "\n",
    "    TRAIN_STEPS = int(len(data_generator_train))\n",
    "    VALID_STEPS = int(len(data_generator_val))\n",
    "    print('Train Generator Size: {0}'.format(len(data_generator_train)))\n",
    "    print('Validation Generator Size: {0}'.format(len(data_generator_val)))\n",
    "\n",
    "    history = model.fit_generator(generator = data_generator_train,\n",
    "                        validation_data = data_generator_val,\n",
    "                        steps_per_epoch = TRAIN_STEPS,\n",
    "                        validation_steps = VALID_STEPS,\n",
    "                        epochs = 6,\n",
    "                        callbacks = [ModelCheckpoint()],\n",
    "                        verbose = 1)"
   ]
  },
  {
   "cell_type": "code",
   "execution_count": 10,
   "metadata": {
    "_cell_guid": "79c7e3d0-c299-4dcb-8224-4455121ee9b0",
    "_uuid": "d629ff2d2480ee46fbb7e2d37f6b5fab8052498a",
    "execution": {
     "iopub.execute_input": "2020-08-23T22:01:33.094012Z",
     "iopub.status.busy": "2020-08-23T22:01:33.089516Z",
     "iopub.status.idle": "2020-08-23T22:17:57.378652Z",
     "shell.execute_reply": "2020-08-23T22:17:57.379371Z"
    },
    "papermill": {
     "duration": 984.315063,
     "end_time": "2020-08-23T22:17:57.379597",
     "exception": false,
     "start_time": "2020-08-23T22:01:33.064534",
     "status": "completed"
    },
    "tags": []
   },
   "outputs": [
    {
     "name": "stdout",
     "output_type": "stream",
     "text": [
      "Start Creating Submission...\n"
     ]
    },
    {
     "data": {
      "application/vnd.jupyter.widget-view+json": {
       "model_id": "32e358087a5d4b86a08d1d7897bf25b1",
       "version_major": 2,
       "version_minor": 0
      },
      "text/plain": [
       "HBox(children=(FloatProgress(value=0.0, max=10345.0), HTML(value='')))"
      ]
     },
     "metadata": {},
     "output_type": "display_data"
    },
    {
     "name": "stdout",
     "output_type": "stream",
     "text": [
      "\n",
      "                  id          landmarks\n",
      "0   00084cdf8f600d00   159483 0.9450343\n",
      "1   000b15b043eb8cf0                   \n",
      "2   0011a52f9b948fd2                   \n",
      "3   00141b8a5a729084     4406 0.1416435\n",
      "4   0018aa4b92532b77                   \n",
      "5   001baaaab791d8db                   \n",
      "6   002bc16418269c3d   6208 0.105002806\n",
      "7   0043158ee252596c                   \n",
      "8   00441c9ba2d68ce4   57116 0.29259682\n",
      "9   0044d82ea7654ece   22363 0.41546354\n",
      "10  004f3afc1377b6fb   87237 0.27189934\n",
      "11  004fba3dc75efae7                   \n",
      "12  0065fe4125634e9c                   \n",
      "13  006c3aaa4f75b6c4                   \n",
      "14  00779bb62b0a3387                   \n",
      "15  0087f2ac45a2244f                   \n",
      "16  0089378b1d5d278a  151358 0.11016494\n",
      "17  008e86554b3d09bd    57004 0.2276597\n",
      "18  0093ec8e65398bcb                   \n",
      "19  009713af66b57b09                   \n",
      "20  00a2954c0d5954ca                   \n",
      "21  00a3a6ba9065d42b   42858 0.13870476\n",
      "22  00acc93c3633d496                   \n",
      "23  00aecdf67eba413a                   \n",
      "24  00b92a90aee9a47e    145268 0.990396\n"
     ]
    }
   ],
   "source": [
    "if INFERENCE:    \n",
    "    def create_image_tta(im_res):\n",
    "        # Flip Image Left-Right\n",
    "        im_res_lr = np.fliplr(im_res)\n",
    "        \n",
    "        return np.stack((im_res, im_res_lr))  \n",
    "\n",
    "    # Create Landmark Prediction Model\n",
    "    model = create_model(None, len(all_landmark_ids))\n",
    "\n",
    "    # Reload Weights\n",
    "    model.load_weights('../input/glrec2020/Model_epoch06_vl3.2417_va0.6774_vbg0.4803.h5')\n",
    "    \n",
    "    if PLACES:\n",
    "        # Places365 Model\n",
    "        model_places = VGG16_Places365(weights = '../input/keras-vgg16-places365/vgg16-places365_weights_tf_dim_ordering_tf_kernels.h5')\n",
    "        predictions_to_return = 6\n",
    "        places_classes = pd.read_csv('../input/keras-vgg16-places365/categories_places365_extended_v1.csv')\n",
    "        \n",
    "    print('Start Creating Submission...')\n",
    "    prediction = []\n",
    "    \n",
    "    for index, row in tqdm(submission.iterrows(), total = submission.shape[0]):\n",
    "        # Image Id\n",
    "        image_id = row['id']\n",
    "\n",
    "        # Get full file path\n",
    "        file_name = f\"{TEST_ROOT_PATH}/{image_id[0]}/{image_id[1]}/{image_id[2]}/{image_id}.jpg\"\n",
    "\n",
    "        # Read and resize image\n",
    "        image = read_image(file_name, SIZE, normalize_image = True)\n",
    "\n",
    "        if PLACES:\n",
    "            # Read and resize image. For the Places Model I use a fixed size.\n",
    "            image_places = read_image(file_name, 224, normalize_image = False)\n",
    "\n",
    "            # Identify Indoor/Outdoor with Places365\n",
    "            places_preds = model_places.predict(create_image_tta(image_places))\n",
    "            places_pred = np.mean(places_preds, axis = 0)\n",
    "            places_top_preds = np.argsort(places_pred)[::-1][0:predictions_to_return]\n",
    "            \n",
    "            # Reset nonlandmark counter\n",
    "            counter = 0\n",
    "\n",
    "            # Get the Indoor/Outdoor Marker for the first 4 predictions. \n",
    "            # Update counter+1 if marker is NonLandmark      \n",
    "            if (places_classes.loc[places_classes['class'] == places_top_preds[0]].io == 1).bool():\n",
    "                counter +=1\n",
    "            if (places_classes.loc[places_classes['class'] == places_top_preds[1]].io == 1).bool():\n",
    "                counter +=1\n",
    "            if (places_classes.loc[places_classes['class'] == places_top_preds[2]].io == 1).bool():\n",
    "                counter +=1\n",
    "            if (places_classes.loc[places_classes['class'] == places_top_preds[3]].io == 1).bool():\n",
    "                counter +=1\n",
    "\n",
    "            # Get Predictions for Landmarks\n",
    "            if counter >= 3:\n",
    "                prediction.append(' ')                    \n",
    "            else:\n",
    "                pred = model.predict(create_image_tta(image))\n",
    "                max_value = np.max(np.mean(pred, axis = 0))\n",
    "                max_index = np.argmax(np.mean(pred, axis = 0))\n",
    "                prediction.append(str(ALL_LABELS[max_index]) + ' ' + str(max_value))\n",
    "        else:\n",
    "            pred = model.predict(create_image_tta(image))\n",
    "            max_value = np.max(np.mean(pred, axis = 0))\n",
    "            max_index = np.argmax(np.mean(pred, axis = 0))\n",
    "            prediction.append(str(ALL_LABELS[max_index]) + ' ' + str(max_value))\n",
    "            \n",
    "    # Create Submission CSV\n",
    "    submission['landmarks'] = np.array(prediction)\n",
    "    submission.to_csv('submission.csv', index = False)\n",
    "\n",
    "    # Show Summary\n",
    "    print(submission.head(25))"
   ]
  }
 ],
 "metadata": {
  "kernelspec": {
   "display_name": "Python 3",
   "language": "python",
   "name": "python3"
  },
  "language_info": {
   "codemirror_mode": {
    "name": "ipython",
    "version": 3
   },
   "file_extension": ".py",
   "mimetype": "text/x-python",
   "name": "python",
   "nbconvert_exporter": "python",
   "pygments_lexer": "ipython3",
   "version": "3.7.6"
  },
  "papermill": {
   "duration": 1092.117767,
   "end_time": "2020-08-23T22:17:58.655791",
   "environment_variables": {},
   "exception": null,
   "input_path": "__notebook__.ipynb",
   "output_path": "__notebook__.ipynb",
   "parameters": {},
   "start_time": "2020-08-23T21:59:46.538024",
   "version": "2.1.0"
  },
  "widgets": {
   "application/vnd.jupyter.widget-state+json": {
    "state": {
     "05d90a668d8f4bb98f1f9d389813c23b": {
      "model_module": "@jupyter-widgets/base",
      "model_module_version": "1.2.0",
      "model_name": "LayoutModel",
      "state": {
       "_model_module": "@jupyter-widgets/base",
       "_model_module_version": "1.2.0",
       "_model_name": "LayoutModel",
       "_view_count": null,
       "_view_module": "@jupyter-widgets/base",
       "_view_module_version": "1.2.0",
       "_view_name": "LayoutView",
       "align_content": null,
       "align_items": null,
       "align_self": null,
       "border": null,
       "bottom": null,
       "display": null,
       "flex": null,
       "flex_flow": null,
       "grid_area": null,
       "grid_auto_columns": null,
       "grid_auto_flow": null,
       "grid_auto_rows": null,
       "grid_column": null,
       "grid_gap": null,
       "grid_row": null,
       "grid_template_areas": null,
       "grid_template_columns": null,
       "grid_template_rows": null,
       "height": null,
       "justify_content": null,
       "justify_items": null,
       "left": null,
       "margin": null,
       "max_height": null,
       "max_width": null,
       "min_height": null,
       "min_width": null,
       "object_fit": null,
       "object_position": null,
       "order": null,
       "overflow": null,
       "overflow_x": null,
       "overflow_y": null,
       "padding": null,
       "right": null,
       "top": null,
       "visibility": null,
       "width": null
      }
     },
     "243f997662f74bc8883d259210781b21": {
      "model_module": "@jupyter-widgets/controls",
      "model_module_version": "1.5.0",
      "model_name": "FloatProgressModel",
      "state": {
       "_dom_classes": [],
       "_model_module": "@jupyter-widgets/controls",
       "_model_module_version": "1.5.0",
       "_model_name": "FloatProgressModel",
       "_view_count": null,
       "_view_module": "@jupyter-widgets/controls",
       "_view_module_version": "1.5.0",
       "_view_name": "ProgressView",
       "bar_style": "success",
       "description": "100%",
       "description_tooltip": null,
       "layout": "IPY_MODEL_05d90a668d8f4bb98f1f9d389813c23b",
       "max": 10345.0,
       "min": 0.0,
       "orientation": "horizontal",
       "style": "IPY_MODEL_34627a528b6e4dc5a96713dbeb35e7da",
       "value": 10345.0
      }
     },
     "32e358087a5d4b86a08d1d7897bf25b1": {
      "model_module": "@jupyter-widgets/controls",
      "model_module_version": "1.5.0",
      "model_name": "HBoxModel",
      "state": {
       "_dom_classes": [],
       "_model_module": "@jupyter-widgets/controls",
       "_model_module_version": "1.5.0",
       "_model_name": "HBoxModel",
       "_view_count": null,
       "_view_module": "@jupyter-widgets/controls",
       "_view_module_version": "1.5.0",
       "_view_name": "HBoxView",
       "box_style": "",
       "children": [
        "IPY_MODEL_243f997662f74bc8883d259210781b21",
        "IPY_MODEL_a02a71fafa6e4aecab7fd7ebddaa6135"
       ],
       "layout": "IPY_MODEL_db548e18df744f8f9a49a75b777c6fa9"
      }
     },
     "34627a528b6e4dc5a96713dbeb35e7da": {
      "model_module": "@jupyter-widgets/controls",
      "model_module_version": "1.5.0",
      "model_name": "ProgressStyleModel",
      "state": {
       "_model_module": "@jupyter-widgets/controls",
       "_model_module_version": "1.5.0",
       "_model_name": "ProgressStyleModel",
       "_view_count": null,
       "_view_module": "@jupyter-widgets/base",
       "_view_module_version": "1.2.0",
       "_view_name": "StyleView",
       "bar_color": null,
       "description_width": "initial"
      }
     },
     "891bd314843146d69410cd34e9a98fb5": {
      "model_module": "@jupyter-widgets/base",
      "model_module_version": "1.2.0",
      "model_name": "LayoutModel",
      "state": {
       "_model_module": "@jupyter-widgets/base",
       "_model_module_version": "1.2.0",
       "_model_name": "LayoutModel",
       "_view_count": null,
       "_view_module": "@jupyter-widgets/base",
       "_view_module_version": "1.2.0",
       "_view_name": "LayoutView",
       "align_content": null,
       "align_items": null,
       "align_self": null,
       "border": null,
       "bottom": null,
       "display": null,
       "flex": null,
       "flex_flow": null,
       "grid_area": null,
       "grid_auto_columns": null,
       "grid_auto_flow": null,
       "grid_auto_rows": null,
       "grid_column": null,
       "grid_gap": null,
       "grid_row": null,
       "grid_template_areas": null,
       "grid_template_columns": null,
       "grid_template_rows": null,
       "height": null,
       "justify_content": null,
       "justify_items": null,
       "left": null,
       "margin": null,
       "max_height": null,
       "max_width": null,
       "min_height": null,
       "min_width": null,
       "object_fit": null,
       "object_position": null,
       "order": null,
       "overflow": null,
       "overflow_x": null,
       "overflow_y": null,
       "padding": null,
       "right": null,
       "top": null,
       "visibility": null,
       "width": null
      }
     },
     "a02a71fafa6e4aecab7fd7ebddaa6135": {
      "model_module": "@jupyter-widgets/controls",
      "model_module_version": "1.5.0",
      "model_name": "HTMLModel",
      "state": {
       "_dom_classes": [],
       "_model_module": "@jupyter-widgets/controls",
       "_model_module_version": "1.5.0",
       "_model_name": "HTMLModel",
       "_view_count": null,
       "_view_module": "@jupyter-widgets/controls",
       "_view_module_version": "1.5.0",
       "_view_name": "HTMLView",
       "description": "",
       "description_tooltip": null,
       "layout": "IPY_MODEL_891bd314843146d69410cd34e9a98fb5",
       "placeholder": "​",
       "style": "IPY_MODEL_c0e0cc8eeb23463fa79c249793114ee5",
       "value": " 10345/10345 [16:15&lt;00:00, 10.60it/s]"
      }
     },
     "c0e0cc8eeb23463fa79c249793114ee5": {
      "model_module": "@jupyter-widgets/controls",
      "model_module_version": "1.5.0",
      "model_name": "DescriptionStyleModel",
      "state": {
       "_model_module": "@jupyter-widgets/controls",
       "_model_module_version": "1.5.0",
       "_model_name": "DescriptionStyleModel",
       "_view_count": null,
       "_view_module": "@jupyter-widgets/base",
       "_view_module_version": "1.2.0",
       "_view_name": "StyleView",
       "description_width": ""
      }
     },
     "db548e18df744f8f9a49a75b777c6fa9": {
      "model_module": "@jupyter-widgets/base",
      "model_module_version": "1.2.0",
      "model_name": "LayoutModel",
      "state": {
       "_model_module": "@jupyter-widgets/base",
       "_model_module_version": "1.2.0",
       "_model_name": "LayoutModel",
       "_view_count": null,
       "_view_module": "@jupyter-widgets/base",
       "_view_module_version": "1.2.0",
       "_view_name": "LayoutView",
       "align_content": null,
       "align_items": null,
       "align_self": null,
       "border": null,
       "bottom": null,
       "display": null,
       "flex": null,
       "flex_flow": null,
       "grid_area": null,
       "grid_auto_columns": null,
       "grid_auto_flow": null,
       "grid_auto_rows": null,
       "grid_column": null,
       "grid_gap": null,
       "grid_row": null,
       "grid_template_areas": null,
       "grid_template_columns": null,
       "grid_template_rows": null,
       "height": null,
       "justify_content": null,
       "justify_items": null,
       "left": null,
       "margin": null,
       "max_height": null,
       "max_width": null,
       "min_height": null,
       "min_width": null,
       "object_fit": null,
       "object_position": null,
       "order": null,
       "overflow": null,
       "overflow_x": null,
       "overflow_y": null,
       "padding": null,
       "right": null,
       "top": null,
       "visibility": null,
       "width": null
      }
     }
    },
    "version_major": 2,
    "version_minor": 0
   }
  }
 },
 "nbformat": 4,
 "nbformat_minor": 4
}
