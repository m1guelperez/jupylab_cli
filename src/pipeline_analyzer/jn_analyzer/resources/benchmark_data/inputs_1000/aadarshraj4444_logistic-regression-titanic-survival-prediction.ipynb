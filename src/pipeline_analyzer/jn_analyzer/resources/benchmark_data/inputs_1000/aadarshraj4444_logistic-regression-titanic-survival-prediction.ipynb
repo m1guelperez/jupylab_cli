{
 "cells": [
  {
   "cell_type": "code",
   "execution_count": null,
   "metadata": {
    "papermill": {
     "duration": 0.029075,
     "end_time": "2020-08-13T01:04:13.464659",
     "exception": false,
     "start_time": "2020-08-13T01:04:13.435584",
     "status": "completed"
    },
    "tags": []
   },
   "outputs": [],
   "source": []
  },
  {
   "cell_type": "code",
   "execution_count": 1,
   "metadata": {
    "_cell_guid": "b1076dfc-b9ad-4769-8c92-a6c4dae69d19",
    "_uuid": "8f2839f25d086af736a60e9eeb907d3b93b6e0e5",
    "execution": {
     "iopub.execute_input": "2020-08-13T01:04:13.531205Z",
     "iopub.status.busy": "2020-08-13T01:04:13.529907Z",
     "iopub.status.idle": "2020-08-13T01:04:14.872531Z",
     "shell.execute_reply": "2020-08-13T01:04:14.871137Z"
    },
    "papermill": {
     "duration": 1.382298,
     "end_time": "2020-08-13T01:04:14.872842",
     "exception": false,
     "start_time": "2020-08-13T01:04:13.490544",
     "status": "completed"
    },
    "tags": []
   },
   "outputs": [
    {
     "name": "stdout",
     "output_type": "stream",
     "text": [
      "/kaggle/input/titanic/gender_submission.csv\n",
      "/kaggle/input/titanic/test.csv\n",
      "/kaggle/input/titanic/train.csv\n"
     ]
    }
   ],
   "source": [
    "# This Python 3 environment comes with many helpful analytics libraries installed\n",
    "# It is defined by the kaggle/python Docker image: https://github.com/kaggle/docker-python\n",
    "# For example, here's several helpful packages to load\n",
    "\n",
    "import numpy as np # linear algebra\n",
    "import pandas as pd # data processing, CSV file I/O (e.g. pd.read_csv)\n",
    "import matplotlib.pyplot as plt\n",
    "import seaborn as sns\n",
    "from sklearn.model_selection import train_test_split\n",
    "from sklearn.preprocessing import StandardScaler\n",
    "from sklearn.metrics import accuracy_score,confusion_matrix,classification_report\n",
    "from sklearn.linear_model import LogisticRegression\n",
    "\n",
    "%matplotlib inline\n",
    "\n",
    "# Input data files are available in the read-only \"../input/\" directory\n",
    "# For example, running this (by clicking run or pressing Shift+Enter) will list all files under the input directory\n",
    "\n",
    "import os\n",
    "for dirname, _, filenames in os.walk('/kaggle/input'):\n",
    "    for filename in filenames:\n",
    "        print(os.path.join(dirname, filename))\n",
    "\n",
    "# You can write up to 5GB to the current directory (/kaggle/working/) that gets preserved as output when you create a version using \"Save & Run All\" \n",
    "# You can also write temporary files to /kaggle/temp/, but they won't be saved outside of the current session"
   ]
  },
  {
   "cell_type": "code",
   "execution_count": 2,
   "metadata": {
    "_cell_guid": "79c7e3d0-c299-4dcb-8224-4455121ee9b0",
    "_uuid": "d629ff2d2480ee46fbb7e2d37f6b5fab8052498a",
    "execution": {
     "iopub.execute_input": "2020-08-13T01:04:14.936174Z",
     "iopub.status.busy": "2020-08-13T01:04:14.935380Z",
     "iopub.status.idle": "2020-08-13T01:04:14.957973Z",
     "shell.execute_reply": "2020-08-13T01:04:14.957166Z"
    },
    "papermill": {
     "duration": 0.058035,
     "end_time": "2020-08-13T01:04:14.958115",
     "exception": false,
     "start_time": "2020-08-13T01:04:14.900080",
     "status": "completed"
    },
    "tags": []
   },
   "outputs": [],
   "source": [
    "# Load The Dataset\n",
    "df_train = pd.read_csv(\"/kaggle/input/titanic/train.csv\")\n",
    "df_test = pd.read_csv(\"/kaggle/input/titanic/test.csv\")"
   ]
  },
  {
   "cell_type": "code",
   "execution_count": 3,
   "metadata": {
    "execution": {
     "iopub.execute_input": "2020-08-13T01:04:15.032768Z",
     "iopub.status.busy": "2020-08-13T01:04:15.031607Z",
     "iopub.status.idle": "2020-08-13T01:04:15.046270Z",
     "shell.execute_reply": "2020-08-13T01:04:15.045429Z"
    },
    "papermill": {
     "duration": 0.06083,
     "end_time": "2020-08-13T01:04:15.046430",
     "exception": false,
     "start_time": "2020-08-13T01:04:14.985600",
     "status": "completed"
    },
    "tags": []
   },
   "outputs": [
    {
     "data": {
      "text/html": [
       "<div>\n",
       "<style scoped>\n",
       "    .dataframe tbody tr th:only-of-type {\n",
       "        vertical-align: middle;\n",
       "    }\n",
       "\n",
       "    .dataframe tbody tr th {\n",
       "        vertical-align: top;\n",
       "    }\n",
       "\n",
       "    .dataframe thead th {\n",
       "        text-align: right;\n",
       "    }\n",
       "</style>\n",
       "<table border=\"1\" class=\"dataframe\">\n",
       "  <thead>\n",
       "    <tr style=\"text-align: right;\">\n",
       "      <th></th>\n",
       "      <th>PassengerId</th>\n",
       "      <th>Survived</th>\n",
       "      <th>Pclass</th>\n",
       "      <th>Name</th>\n",
       "      <th>Sex</th>\n",
       "      <th>Age</th>\n",
       "      <th>SibSp</th>\n",
       "      <th>Parch</th>\n",
       "      <th>Ticket</th>\n",
       "      <th>Fare</th>\n",
       "      <th>Cabin</th>\n",
       "      <th>Embarked</th>\n",
       "    </tr>\n",
       "  </thead>\n",
       "  <tbody>\n",
       "    <tr>\n",
       "      <th>0</th>\n",
       "      <td>1</td>\n",
       "      <td>0</td>\n",
       "      <td>3</td>\n",
       "      <td>Braund, Mr. Owen Harris</td>\n",
       "      <td>male</td>\n",
       "      <td>22.0</td>\n",
       "      <td>1</td>\n",
       "      <td>0</td>\n",
       "      <td>A/5 21171</td>\n",
       "      <td>7.2500</td>\n",
       "      <td>NaN</td>\n",
       "      <td>S</td>\n",
       "    </tr>\n",
       "    <tr>\n",
       "      <th>1</th>\n",
       "      <td>2</td>\n",
       "      <td>1</td>\n",
       "      <td>1</td>\n",
       "      <td>Cumings, Mrs. John Bradley (Florence Briggs Th...</td>\n",
       "      <td>female</td>\n",
       "      <td>38.0</td>\n",
       "      <td>1</td>\n",
       "      <td>0</td>\n",
       "      <td>PC 17599</td>\n",
       "      <td>71.2833</td>\n",
       "      <td>C85</td>\n",
       "      <td>C</td>\n",
       "    </tr>\n",
       "    <tr>\n",
       "      <th>2</th>\n",
       "      <td>3</td>\n",
       "      <td>1</td>\n",
       "      <td>3</td>\n",
       "      <td>Heikkinen, Miss. Laina</td>\n",
       "      <td>female</td>\n",
       "      <td>26.0</td>\n",
       "      <td>0</td>\n",
       "      <td>0</td>\n",
       "      <td>STON/O2. 3101282</td>\n",
       "      <td>7.9250</td>\n",
       "      <td>NaN</td>\n",
       "      <td>S</td>\n",
       "    </tr>\n",
       "    <tr>\n",
       "      <th>3</th>\n",
       "      <td>4</td>\n",
       "      <td>1</td>\n",
       "      <td>1</td>\n",
       "      <td>Futrelle, Mrs. Jacques Heath (Lily May Peel)</td>\n",
       "      <td>female</td>\n",
       "      <td>35.0</td>\n",
       "      <td>1</td>\n",
       "      <td>0</td>\n",
       "      <td>113803</td>\n",
       "      <td>53.1000</td>\n",
       "      <td>C123</td>\n",
       "      <td>S</td>\n",
       "    </tr>\n",
       "    <tr>\n",
       "      <th>4</th>\n",
       "      <td>5</td>\n",
       "      <td>0</td>\n",
       "      <td>3</td>\n",
       "      <td>Allen, Mr. William Henry</td>\n",
       "      <td>male</td>\n",
       "      <td>35.0</td>\n",
       "      <td>0</td>\n",
       "      <td>0</td>\n",
       "      <td>373450</td>\n",
       "      <td>8.0500</td>\n",
       "      <td>NaN</td>\n",
       "      <td>S</td>\n",
       "    </tr>\n",
       "  </tbody>\n",
       "</table>\n",
       "</div>"
      ],
      "text/plain": [
       "   PassengerId  Survived  Pclass  \\\n",
       "0            1         0       3   \n",
       "1            2         1       1   \n",
       "2            3         1       3   \n",
       "3            4         1       1   \n",
       "4            5         0       3   \n",
       "\n",
       "                                                Name     Sex   Age  SibSp  \\\n",
       "0                            Braund, Mr. Owen Harris    male  22.0      1   \n",
       "1  Cumings, Mrs. John Bradley (Florence Briggs Th...  female  38.0      1   \n",
       "2                             Heikkinen, Miss. Laina  female  26.0      0   \n",
       "3       Futrelle, Mrs. Jacques Heath (Lily May Peel)  female  35.0      1   \n",
       "4                           Allen, Mr. William Henry    male  35.0      0   \n",
       "\n",
       "   Parch            Ticket     Fare Cabin Embarked  \n",
       "0      0         A/5 21171   7.2500   NaN        S  \n",
       "1      0          PC 17599  71.2833   C85        C  \n",
       "2      0  STON/O2. 3101282   7.9250   NaN        S  \n",
       "3      0            113803  53.1000  C123        S  \n",
       "4      0            373450   8.0500   NaN        S  "
      ]
     },
     "execution_count": 3,
     "metadata": {},
     "output_type": "execute_result"
    }
   ],
   "source": [
    "# Check first 5 rows of the data\n",
    "df_train.head()"
   ]
  },
  {
   "cell_type": "code",
   "execution_count": 4,
   "metadata": {
    "execution": {
     "iopub.execute_input": "2020-08-13T01:04:15.104472Z",
     "iopub.status.busy": "2020-08-13T01:04:15.103595Z",
     "iopub.status.idle": "2020-08-13T01:04:15.108831Z",
     "shell.execute_reply": "2020-08-13T01:04:15.108005Z"
    },
    "papermill": {
     "duration": 0.036742,
     "end_time": "2020-08-13T01:04:15.108978",
     "exception": false,
     "start_time": "2020-08-13T01:04:15.072236",
     "status": "completed"
    },
    "tags": []
   },
   "outputs": [
    {
     "data": {
      "text/plain": [
       "Index(['PassengerId', 'Survived', 'Pclass', 'Name', 'Sex', 'Age', 'SibSp',\n",
       "       'Parch', 'Ticket', 'Fare', 'Cabin', 'Embarked'],\n",
       "      dtype='object')"
      ]
     },
     "execution_count": 4,
     "metadata": {},
     "output_type": "execute_result"
    }
   ],
   "source": [
    "# Check the columns\n",
    "df_train.columns"
   ]
  },
  {
   "cell_type": "code",
   "execution_count": 5,
   "metadata": {
    "execution": {
     "iopub.execute_input": "2020-08-13T01:04:15.168190Z",
     "iopub.status.busy": "2020-08-13T01:04:15.167335Z",
     "iopub.status.idle": "2020-08-13T01:04:15.171624Z",
     "shell.execute_reply": "2020-08-13T01:04:15.172353Z"
    },
    "papermill": {
     "duration": 0.036927,
     "end_time": "2020-08-13T01:04:15.172531",
     "exception": false,
     "start_time": "2020-08-13T01:04:15.135604",
     "status": "completed"
    },
    "tags": []
   },
   "outputs": [
    {
     "data": {
      "text/plain": [
       "(891, 12)"
      ]
     },
     "execution_count": 5,
     "metadata": {},
     "output_type": "execute_result"
    }
   ],
   "source": [
    "# Check the shape of the data\n",
    "df_train.shape"
   ]
  },
  {
   "cell_type": "code",
   "execution_count": 6,
   "metadata": {
    "execution": {
     "iopub.execute_input": "2020-08-13T01:04:15.243376Z",
     "iopub.status.busy": "2020-08-13T01:04:15.242565Z",
     "iopub.status.idle": "2020-08-13T01:04:15.274366Z",
     "shell.execute_reply": "2020-08-13T01:04:15.275015Z"
    },
    "papermill": {
     "duration": 0.075074,
     "end_time": "2020-08-13T01:04:15.275183",
     "exception": false,
     "start_time": "2020-08-13T01:04:15.200109",
     "status": "completed"
    },
    "tags": []
   },
   "outputs": [
    {
     "data": {
      "text/html": [
       "<div>\n",
       "<style scoped>\n",
       "    .dataframe tbody tr th:only-of-type {\n",
       "        vertical-align: middle;\n",
       "    }\n",
       "\n",
       "    .dataframe tbody tr th {\n",
       "        vertical-align: top;\n",
       "    }\n",
       "\n",
       "    .dataframe thead th {\n",
       "        text-align: right;\n",
       "    }\n",
       "</style>\n",
       "<table border=\"1\" class=\"dataframe\">\n",
       "  <thead>\n",
       "    <tr style=\"text-align: right;\">\n",
       "      <th></th>\n",
       "      <th>PassengerId</th>\n",
       "      <th>Survived</th>\n",
       "      <th>Pclass</th>\n",
       "      <th>Age</th>\n",
       "      <th>SibSp</th>\n",
       "      <th>Parch</th>\n",
       "      <th>Fare</th>\n",
       "    </tr>\n",
       "  </thead>\n",
       "  <tbody>\n",
       "    <tr>\n",
       "      <th>count</th>\n",
       "      <td>891.000000</td>\n",
       "      <td>891.000000</td>\n",
       "      <td>891.000000</td>\n",
       "      <td>714.000000</td>\n",
       "      <td>891.000000</td>\n",
       "      <td>891.000000</td>\n",
       "      <td>891.000000</td>\n",
       "    </tr>\n",
       "    <tr>\n",
       "      <th>mean</th>\n",
       "      <td>446.000000</td>\n",
       "      <td>0.383838</td>\n",
       "      <td>2.308642</td>\n",
       "      <td>29.699118</td>\n",
       "      <td>0.523008</td>\n",
       "      <td>0.381594</td>\n",
       "      <td>32.204208</td>\n",
       "    </tr>\n",
       "    <tr>\n",
       "      <th>std</th>\n",
       "      <td>257.353842</td>\n",
       "      <td>0.486592</td>\n",
       "      <td>0.836071</td>\n",
       "      <td>14.526497</td>\n",
       "      <td>1.102743</td>\n",
       "      <td>0.806057</td>\n",
       "      <td>49.693429</td>\n",
       "    </tr>\n",
       "    <tr>\n",
       "      <th>min</th>\n",
       "      <td>1.000000</td>\n",
       "      <td>0.000000</td>\n",
       "      <td>1.000000</td>\n",
       "      <td>0.420000</td>\n",
       "      <td>0.000000</td>\n",
       "      <td>0.000000</td>\n",
       "      <td>0.000000</td>\n",
       "    </tr>\n",
       "    <tr>\n",
       "      <th>25%</th>\n",
       "      <td>223.500000</td>\n",
       "      <td>0.000000</td>\n",
       "      <td>2.000000</td>\n",
       "      <td>20.125000</td>\n",
       "      <td>0.000000</td>\n",
       "      <td>0.000000</td>\n",
       "      <td>7.910400</td>\n",
       "    </tr>\n",
       "    <tr>\n",
       "      <th>50%</th>\n",
       "      <td>446.000000</td>\n",
       "      <td>0.000000</td>\n",
       "      <td>3.000000</td>\n",
       "      <td>28.000000</td>\n",
       "      <td>0.000000</td>\n",
       "      <td>0.000000</td>\n",
       "      <td>14.454200</td>\n",
       "    </tr>\n",
       "    <tr>\n",
       "      <th>75%</th>\n",
       "      <td>668.500000</td>\n",
       "      <td>1.000000</td>\n",
       "      <td>3.000000</td>\n",
       "      <td>38.000000</td>\n",
       "      <td>1.000000</td>\n",
       "      <td>0.000000</td>\n",
       "      <td>31.000000</td>\n",
       "    </tr>\n",
       "    <tr>\n",
       "      <th>max</th>\n",
       "      <td>891.000000</td>\n",
       "      <td>1.000000</td>\n",
       "      <td>3.000000</td>\n",
       "      <td>80.000000</td>\n",
       "      <td>8.000000</td>\n",
       "      <td>6.000000</td>\n",
       "      <td>512.329200</td>\n",
       "    </tr>\n",
       "  </tbody>\n",
       "</table>\n",
       "</div>"
      ],
      "text/plain": [
       "       PassengerId    Survived      Pclass         Age       SibSp  \\\n",
       "count   891.000000  891.000000  891.000000  714.000000  891.000000   \n",
       "mean    446.000000    0.383838    2.308642   29.699118    0.523008   \n",
       "std     257.353842    0.486592    0.836071   14.526497    1.102743   \n",
       "min       1.000000    0.000000    1.000000    0.420000    0.000000   \n",
       "25%     223.500000    0.000000    2.000000   20.125000    0.000000   \n",
       "50%     446.000000    0.000000    3.000000   28.000000    0.000000   \n",
       "75%     668.500000    1.000000    3.000000   38.000000    1.000000   \n",
       "max     891.000000    1.000000    3.000000   80.000000    8.000000   \n",
       "\n",
       "            Parch        Fare  \n",
       "count  891.000000  891.000000  \n",
       "mean     0.381594   32.204208  \n",
       "std      0.806057   49.693429  \n",
       "min      0.000000    0.000000  \n",
       "25%      0.000000    7.910400  \n",
       "50%      0.000000   14.454200  \n",
       "75%      0.000000   31.000000  \n",
       "max      6.000000  512.329200  "
      ]
     },
     "execution_count": 6,
     "metadata": {},
     "output_type": "execute_result"
    }
   ],
   "source": [
    "# Check all data (mean, min,max etc) \n",
    "df_train.describe()"
   ]
  },
  {
   "cell_type": "code",
   "execution_count": 7,
   "metadata": {
    "execution": {
     "iopub.execute_input": "2020-08-13T01:04:15.349510Z",
     "iopub.status.busy": "2020-08-13T01:04:15.348683Z",
     "iopub.status.idle": "2020-08-13T01:04:15.352985Z",
     "shell.execute_reply": "2020-08-13T01:04:15.352001Z"
    },
    "papermill": {
     "duration": 0.050083,
     "end_time": "2020-08-13T01:04:15.353151",
     "exception": false,
     "start_time": "2020-08-13T01:04:15.303068",
     "status": "completed"
    },
    "tags": []
   },
   "outputs": [
    {
     "name": "stdout",
     "output_type": "stream",
     "text": [
      "<class 'pandas.core.frame.DataFrame'>\n",
      "RangeIndex: 891 entries, 0 to 890\n",
      "Data columns (total 12 columns):\n",
      " #   Column       Non-Null Count  Dtype  \n",
      "---  ------       --------------  -----  \n",
      " 0   PassengerId  891 non-null    int64  \n",
      " 1   Survived     891 non-null    int64  \n",
      " 2   Pclass       891 non-null    int64  \n",
      " 3   Name         891 non-null    object \n",
      " 4   Sex          891 non-null    object \n",
      " 5   Age          714 non-null    float64\n",
      " 6   SibSp        891 non-null    int64  \n",
      " 7   Parch        891 non-null    int64  \n",
      " 8   Ticket       891 non-null    object \n",
      " 9   Fare         891 non-null    float64\n",
      " 10  Cabin        204 non-null    object \n",
      " 11  Embarked     889 non-null    object \n",
      "dtypes: float64(2), int64(5), object(5)\n",
      "memory usage: 83.7+ KB\n"
     ]
    }
   ],
   "source": [
    "# Check the data types of all columns in dataset\n",
    "df_train.info()"
   ]
  },
  {
   "cell_type": "code",
   "execution_count": 8,
   "metadata": {
    "execution": {
     "iopub.execute_input": "2020-08-13T01:04:15.417114Z",
     "iopub.status.busy": "2020-08-13T01:04:15.416266Z",
     "iopub.status.idle": "2020-08-13T01:04:15.420389Z",
     "shell.execute_reply": "2020-08-13T01:04:15.419569Z"
    },
    "papermill": {
     "duration": 0.038088,
     "end_time": "2020-08-13T01:04:15.420517",
     "exception": false,
     "start_time": "2020-08-13T01:04:15.382429",
     "status": "completed"
    },
    "tags": []
   },
   "outputs": [
    {
     "name": "stdout",
     "output_type": "stream",
     "text": [
      "Total Passenger :  891\n"
     ]
    }
   ],
   "source": [
    "# Check how many passengers on Ship\n",
    "print(\"Total Passenger : \",len(df_train[\"PassengerId\"]))"
   ]
  },
  {
   "cell_type": "code",
   "execution_count": 9,
   "metadata": {
    "execution": {
     "iopub.execute_input": "2020-08-13T01:04:15.485471Z",
     "iopub.status.busy": "2020-08-13T01:04:15.484677Z",
     "iopub.status.idle": "2020-08-13T01:04:15.512101Z",
     "shell.execute_reply": "2020-08-13T01:04:15.511277Z"
    },
    "papermill": {
     "duration": 0.062393,
     "end_time": "2020-08-13T01:04:15.512227",
     "exception": false,
     "start_time": "2020-08-13T01:04:15.449834",
     "status": "completed"
    },
    "tags": []
   },
   "outputs": [],
   "source": [
    "# Check how many survived or how many not survived\n",
    "survived = df_train[df_train[\"Survived\"]==1]\n",
    "not_survived = df_train[df_train[\"Survived\"]==0]"
   ]
  },
  {
   "cell_type": "code",
   "execution_count": 10,
   "metadata": {
    "execution": {
     "iopub.execute_input": "2020-08-13T01:04:15.577792Z",
     "iopub.status.busy": "2020-08-13T01:04:15.576847Z",
     "iopub.status.idle": "2020-08-13T01:04:15.580362Z",
     "shell.execute_reply": "2020-08-13T01:04:15.581048Z"
    },
    "papermill": {
     "duration": 0.039313,
     "end_time": "2020-08-13T01:04:15.581206",
     "exception": false,
     "start_time": "2020-08-13T01:04:15.541893",
     "status": "completed"
    },
    "tags": []
   },
   "outputs": [
    {
     "name": "stdout",
     "output_type": "stream",
     "text": [
      "Total Passenger Who Survived : 342\n",
      "Total Passener Who Not Survived : 549\n"
     ]
    }
   ],
   "source": [
    "print(f\"Total Passenger Who Survived : {len(survived)}\")\n",
    "print(f\"Total Passener Who Not Survived : {len(not_survived)}\")"
   ]
  },
  {
   "cell_type": "code",
   "execution_count": 11,
   "metadata": {
    "execution": {
     "iopub.execute_input": "2020-08-13T01:04:15.648475Z",
     "iopub.status.busy": "2020-08-13T01:04:15.647678Z",
     "iopub.status.idle": "2020-08-13T01:04:15.651356Z",
     "shell.execute_reply": "2020-08-13T01:04:15.650673Z"
    },
    "papermill": {
     "duration": 0.04036,
     "end_time": "2020-08-13T01:04:15.651479",
     "exception": false,
     "start_time": "2020-08-13T01:04:15.611119",
     "status": "completed"
    },
    "tags": []
   },
   "outputs": [
    {
     "name": "stdout",
     "output_type": "stream",
     "text": [
      "Survived % =  38.38383838383838\n",
      "Not Survived % =  61.61616161616161\n"
     ]
    }
   ],
   "source": [
    "print(\"Survived % = \",1*len(survived)/len(df_train)*100)\n",
    "print(\"Not Survived % = \",1*len(not_survived)/len(df_train)*100)"
   ]
  },
  {
   "cell_type": "code",
   "execution_count": 12,
   "metadata": {
    "execution": {
     "iopub.execute_input": "2020-08-13T01:04:15.719812Z",
     "iopub.status.busy": "2020-08-13T01:04:15.718975Z",
     "iopub.status.idle": "2020-08-13T01:04:15.925254Z",
     "shell.execute_reply": "2020-08-13T01:04:15.925849Z"
    },
    "papermill": {
     "duration": 0.244022,
     "end_time": "2020-08-13T01:04:15.926035",
     "exception": false,
     "start_time": "2020-08-13T01:04:15.682013",
     "status": "completed"
    },
    "tags": []
   },
   "outputs": [
    {
     "data": {
      "text/plain": [
       "<matplotlib.axes._subplots.AxesSubplot at 0x7f31fa3bf250>"
      ]
     },
     "execution_count": 12,
     "metadata": {},
     "output_type": "execute_result"
    },
    {
     "data": {
      "image/png": "[encoded data removed]",
      "text/plain": [
       "<Figure size 432x288 with 1 Axes>"
      ]
     },
     "metadata": {
      "needs_background": "light"
     },
     "output_type": "display_data"
    }
   ],
   "source": [
    "# Check which class has more passengers and check how much this impact on survived or not_survived\n",
    "df_train[\"Pclass\"].value_counts().plot(kind=\"bar\")"
   ]
  },
  {
   "cell_type": "markdown",
   "execution_count": null,
   "metadata": {
    "papermill": {
     "duration": 0.031673,
     "end_time": "2020-08-13T01:04:15.989715",
     "exception": false,
     "start_time": "2020-08-13T01:04:15.958042",
     "status": "completed"
    },
    "tags": []
   },
   "source": [
    "## We can see those who stay in Pclass 1 and 2 Are More Survived but those who have Pclass 3 are not more survived rate"
   ]
  },
  {
   "cell_type": "code",
   "execution_count": 13,
   "metadata": {
    "execution": {
     "iopub.execute_input": "2020-08-13T01:04:16.068004Z",
     "iopub.status.busy": "2020-08-13T01:04:16.066873Z",
     "iopub.status.idle": "2020-08-13T01:04:16.362872Z",
     "shell.execute_reply": "2020-08-13T01:04:16.362246Z"
    },
    "papermill": {
     "duration": 0.341482,
     "end_time": "2020-08-13T01:04:16.362998",
     "exception": false,
     "start_time": "2020-08-13T01:04:16.021516",
     "status": "completed"
    },
    "tags": []
   },
   "outputs": [
    {
     "data": {
      "text/plain": [
       "<matplotlib.axes._subplots.AxesSubplot at 0x7f31eeeaff10>"
      ]
     },
     "execution_count": 13,
     "metadata": {},
     "output_type": "execute_result"
    },
    {
     "data": {
      "image/png": "[encoded data removed]",
      "text/plain": [
       "<Figure size 432x864 with 2 Axes>"
      ]
     },
     "metadata": {
      "needs_background": "light"
     },
     "output_type": "display_data"
    }
   ],
   "source": [
    "plt.figure(figsize=(6,12))\n",
    "plt.subplot(211)\n",
    "sns.countplot(x=\"Pclass\",data=df_train)\n",
    "plt.subplot(212)\n",
    "sns.countplot(x=\"Pclass\",data=df_train,hue=\"Survived\",palette=\"summer\")"
   ]
  },
  {
   "cell_type": "markdown",
   "execution_count": null,
   "metadata": {
    "papermill": {
     "duration": 0.03252,
     "end_time": "2020-08-13T01:04:16.427764",
     "exception": false,
     "start_time": "2020-08-13T01:04:16.395244",
     "status": "completed"
    },
    "tags": []
   },
   "source": [
    "## Sex is more impact we can see female surviving rate is more than male surviving rate"
   ]
  },
  {
   "cell_type": "code",
   "execution_count": 14,
   "metadata": {
    "execution": {
     "iopub.execute_input": "2020-08-13T01:04:16.508623Z",
     "iopub.status.busy": "2020-08-13T01:04:16.507855Z",
     "iopub.status.idle": "2020-08-13T01:04:16.850826Z",
     "shell.execute_reply": "2020-08-13T01:04:16.850161Z"
    },
    "papermill": {
     "duration": 0.389774,
     "end_time": "2020-08-13T01:04:16.850964",
     "exception": false,
     "start_time": "2020-08-13T01:04:16.461190",
     "status": "completed"
    },
    "tags": []
   },
   "outputs": [
    {
     "data": {
      "text/plain": [
       "<matplotlib.axes._subplots.AxesSubplot at 0x7f31eede2a90>"
      ]
     },
     "execution_count": 14,
     "metadata": {},
     "output_type": "execute_result"
    },
    {
     "data": {
      "image/png": "[encoded data removed]",
      "text/plain": [
       "<Figure size 432x864 with 2 Axes>"
      ]
     },
     "metadata": {
      "needs_background": "light"
     },
     "output_type": "display_data"
    }
   ],
   "source": [
    "## Check how much sex can impact on survived or not_survived\n",
    "plt.figure(figsize=(6,12))\n",
    "plt.subplot(211)\n",
    "sns.countplot(x=\"Sex\",data=df_train)\n",
    "plt.subplot(212)\n",
    "sns.countplot(x=\"Sex\",data=df_train,hue=\"Survived\",palette=\"winter\")"
   ]
  },
  {
   "cell_type": "code",
   "execution_count": 15,
   "metadata": {
    "execution": {
     "iopub.execute_input": "2020-08-13T01:04:16.937148Z",
     "iopub.status.busy": "2020-08-13T01:04:16.936362Z",
     "iopub.status.idle": "2020-08-13T01:04:17.318660Z",
     "shell.execute_reply": "2020-08-13T01:04:17.318017Z"
    },
    "papermill": {
     "duration": 0.435063,
     "end_time": "2020-08-13T01:04:17.318795",
     "exception": false,
     "start_time": "2020-08-13T01:04:16.883732",
     "status": "completed"
    },
    "tags": []
   },
   "outputs": [
    {
     "data": {
      "text/plain": [
       "<matplotlib.axes._subplots.AxesSubplot at 0x7f31eecdcdd0>"
      ]
     },
     "execution_count": 15,
     "metadata": {},
     "output_type": "execute_result"
    },
    {
     "data": {
      "image/png": "[encoded data removed]",
      "text/plain": [
       "<Figure size 576x864 with 2 Axes>"
      ]
     },
     "metadata": {
      "needs_background": "light"
     },
     "output_type": "display_data"
    }
   ],
   "source": [
    "plt.figure(figsize=(8,12))\n",
    "plt.subplot(211)\n",
    "sns.countplot(x=\"SibSp\",data=df_train)\n",
    "plt.subplot(212)\n",
    "sns.countplot(x=\"SibSp\",data=df_train,hue=\"Survived\",palette=\"winter_d\")"
   ]
  },
  {
   "cell_type": "code",
   "execution_count": 16,
   "metadata": {
    "execution": {
     "iopub.execute_input": "2020-08-13T01:04:17.400873Z",
     "iopub.status.busy": "2020-08-13T01:04:17.400046Z",
     "iopub.status.idle": "2020-08-13T01:04:17.762966Z",
     "shell.execute_reply": "2020-08-13T01:04:17.762177Z"
    },
    "papermill": {
     "duration": 0.410105,
     "end_time": "2020-08-13T01:04:17.763091",
     "exception": false,
     "start_time": "2020-08-13T01:04:17.352986",
     "status": "completed"
    },
    "tags": []
   },
   "outputs": [
    {
     "data": {
      "text/plain": [
       "<matplotlib.axes._subplots.AxesSubplot at 0x7f31eea11650>"
      ]
     },
     "execution_count": 16,
     "metadata": {},
     "output_type": "execute_result"
    },
    {
     "data": {
      "image/png": "[encoded data removed]",
      "text/plain": [
       "<Figure size 576x864 with 2 Axes>"
      ]
     },
     "metadata": {
      "needs_background": "light"
     },
     "output_type": "display_data"
    }
   ],
   "source": [
    "plt.figure(figsize=(8,12))\n",
    "plt.subplot(211)\n",
    "sns.countplot(x=\"Parch\",data=df_train)\n",
    "plt.subplot(212)\n",
    "sns.countplot(x=\"Parch\",data=df_train,hue=\"Survived\",palette=\"winter_d\")"
   ]
  },
  {
   "cell_type": "code",
   "execution_count": 17,
   "metadata": {
    "execution": {
     "iopub.execute_input": "2020-08-13T01:04:17.843781Z",
     "iopub.status.busy": "2020-08-13T01:04:17.842891Z",
     "iopub.status.idle": "2020-08-13T01:04:18.144574Z",
     "shell.execute_reply": "2020-08-13T01:04:18.143729Z"
    },
    "papermill": {
     "duration": 0.348004,
     "end_time": "2020-08-13T01:04:18.144707",
     "exception": false,
     "start_time": "2020-08-13T01:04:17.796703",
     "status": "completed"
    },
    "tags": []
   },
   "outputs": [
    {
     "data": {
      "text/plain": [
       "<matplotlib.axes._subplots.AxesSubplot at 0x7f31eeb23750>"
      ]
     },
     "execution_count": 17,
     "metadata": {},
     "output_type": "execute_result"
    },
    {
     "data": {
      "image/png": "[encoded data removed]",
      "text/plain": [
       "<Figure size 576x864 with 2 Axes>"
      ]
     },
     "metadata": {
      "needs_background": "light"
     },
     "output_type": "display_data"
    }
   ],
   "source": [
    "plt.figure(figsize=(8,12))\n",
    "plt.subplot(211)\n",
    "sns.countplot(x=\"Embarked\",data=df_train)\n",
    "plt.subplot(212)\n",
    "sns.countplot(x=\"Embarked\",data=df_train,hue=\"Survived\",palette=\"winter_d\")"
   ]
  },
  {
   "cell_type": "code",
   "execution_count": 18,
   "metadata": {
    "execution": {
     "iopub.execute_input": "2020-08-13T01:04:18.226484Z",
     "iopub.status.busy": "2020-08-13T01:04:18.224790Z",
     "iopub.status.idle": "2020-08-13T01:04:18.479176Z",
     "shell.execute_reply": "2020-08-13T01:04:18.478399Z"
    },
    "papermill": {
     "duration": 0.300208,
     "end_time": "2020-08-13T01:04:18.479321",
     "exception": false,
     "start_time": "2020-08-13T01:04:18.179113",
     "status": "completed"
    },
    "tags": []
   },
   "outputs": [
    {
     "data": {
      "text/plain": [
       "<matplotlib.axes._subplots.AxesSubplot at 0x7f31eea79650>"
      ]
     },
     "execution_count": 18,
     "metadata": {},
     "output_type": "execute_result"
    },
    {
     "data": {
      "image/png": "[encoded data removed]",
      "text/plain": [
       "<Figure size 432x288 with 1 Axes>"
      ]
     },
     "metadata": {
      "needs_background": "light"
     },
     "output_type": "display_data"
    }
   ],
   "source": [
    "# Check the histogram of Age\n",
    "df_train[\"Age\"].hist(bins=40)"
   ]
  },
  {
   "cell_type": "code",
   "execution_count": 19,
   "metadata": {
    "execution": {
     "iopub.execute_input": "2020-08-13T01:04:18.563116Z",
     "iopub.status.busy": "2020-08-13T01:04:18.560259Z",
     "iopub.status.idle": "2020-08-13T01:04:18.826413Z",
     "shell.execute_reply": "2020-08-13T01:04:18.827051Z"
    },
    "papermill": {
     "duration": 0.313064,
     "end_time": "2020-08-13T01:04:18.827230",
     "exception": false,
     "start_time": "2020-08-13T01:04:18.514166",
     "status": "completed"
    },
    "tags": []
   },
   "outputs": [
    {
     "data": {
      "text/plain": [
       "<matplotlib.axes._subplots.AxesSubplot at 0x7f31eea64150>"
      ]
     },
     "execution_count": 19,
     "metadata": {},
     "output_type": "execute_result"
    },
    {
     "data": {
      "image/png": "[encoded data removed]",
      "text/plain": [
       "<Figure size 432x288 with 1 Axes>"
      ]
     },
     "metadata": {
      "needs_background": "light"
     },
     "output_type": "display_data"
    }
   ],
   "source": [
    "# Check the histogram of Fare\n",
    "df_train[\"Fare\"].hist(bins=40)"
   ]
  },
  {
   "cell_type": "code",
   "execution_count": null,
   "metadata": {
    "papermill": {
     "duration": 0.034574,
     "end_time": "2020-08-13T01:04:18.896733",
     "exception": false,
     "start_time": "2020-08-13T01:04:18.862159",
     "status": "completed"
    },
    "tags": []
   },
   "outputs": [],
   "source": []
  },
  {
   "cell_type": "code",
   "execution_count": 20,
   "metadata": {
    "execution": {
     "iopub.execute_input": "2020-08-13T01:04:18.976883Z",
     "iopub.status.busy": "2020-08-13T01:04:18.975705Z",
     "iopub.status.idle": "2020-08-13T01:04:19.149889Z",
     "shell.execute_reply": "2020-08-13T01:04:19.149262Z"
    },
    "papermill": {
     "duration": 0.21824,
     "end_time": "2020-08-13T01:04:19.150016",
     "exception": false,
     "start_time": "2020-08-13T01:04:18.931776",
     "status": "completed"
    },
    "tags": []
   },
   "outputs": [
    {
     "data": {
      "text/plain": [
       "<matplotlib.axes._subplots.AxesSubplot at 0x7f31ee863150>"
      ]
     },
     "execution_count": 20,
     "metadata": {},
     "output_type": "execute_result"
    },
    {
     "data": {
      "image/png": "[encoded data removed]",
      "text/plain": [
       "<Figure size 720x576 with 1 Axes>"
      ]
     },
     "metadata": {
      "needs_background": "light"
     },
     "output_type": "display_data"
    }
   ],
   "source": [
    "# Check how many null values have in data\n",
    "plt.figure(figsize=(10,8))\n",
    "sns.heatmap(df_train.isnull(),yticklabels=False,cbar=False,cmap=\"Blues\")"
   ]
  },
  {
   "cell_type": "code",
   "execution_count": 21,
   "metadata": {
    "execution": {
     "iopub.execute_input": "2020-08-13T01:04:19.239268Z",
     "iopub.status.busy": "2020-08-13T01:04:19.238262Z",
     "iopub.status.idle": "2020-08-13T01:04:19.241914Z",
     "shell.execute_reply": "2020-08-13T01:04:19.242560Z"
    },
    "papermill": {
     "duration": 0.056356,
     "end_time": "2020-08-13T01:04:19.242722",
     "exception": false,
     "start_time": "2020-08-13T01:04:19.186366",
     "status": "completed"
    },
    "tags": []
   },
   "outputs": [
    {
     "name": "stdout",
     "output_type": "stream",
     "text": [
      "PassengerId    False\n",
      "Survived       False\n",
      "Pclass         False\n",
      "Name           False\n",
      "Sex            False\n",
      "Age             True\n",
      "SibSp          False\n",
      "Parch          False\n",
      "Ticket         False\n",
      "Fare           False\n",
      "Cabin           True\n",
      "Embarked        True\n",
      "dtype: bool\n",
      "      Age Cabin Embarked\n",
      "0    22.0   NaN        S\n",
      "1    38.0   C85        C\n",
      "2    26.0   NaN        S\n",
      "3    35.0  C123        S\n",
      "4    35.0   NaN        S\n",
      "..    ...   ...      ...\n",
      "886  27.0   NaN        S\n",
      "887  19.0   B42        S\n",
      "888   NaN   NaN        S\n",
      "889  26.0  C148        C\n",
      "890  32.0   NaN        Q\n",
      "\n",
      "[891 rows x 3 columns]\n"
     ]
    }
   ],
   "source": [
    "## Those column who is True are null values columns and second print showing null values columns\n",
    "print(df_train.isna().any())\n",
    "print(df_train.loc[:,df_train.isna().any()])"
   ]
  },
  {
   "cell_type": "code",
   "execution_count": 22,
   "metadata": {
    "execution": {
     "iopub.execute_input": "2020-08-13T01:04:19.323651Z",
     "iopub.status.busy": "2020-08-13T01:04:19.322831Z",
     "iopub.status.idle": "2020-08-13T01:04:19.326487Z",
     "shell.execute_reply": "2020-08-13T01:04:19.325719Z"
    },
    "papermill": {
     "duration": 0.04836,
     "end_time": "2020-08-13T01:04:19.326620",
     "exception": false,
     "start_time": "2020-08-13T01:04:19.278260",
     "status": "completed"
    },
    "tags": []
   },
   "outputs": [],
   "source": [
    "# Now drop unussual columns like Cabin,Name,PassengerId,Ticket because this are not so useful..\n",
    "df_train.drop([\"Ticket\",\"PassengerId\",\"Name\",\"Cabin\"],axis=1,inplace=True)\n",
    "df_test.drop([\"Ticket\",\"PassengerId\",\"Name\",\"Cabin\"],axis=1,inplace=True)"
   ]
  },
  {
   "cell_type": "code",
   "execution_count": 23,
   "metadata": {
    "execution": {
     "iopub.execute_input": "2020-08-13T01:04:19.416318Z",
     "iopub.status.busy": "2020-08-13T01:04:19.415244Z",
     "iopub.status.idle": "2020-08-13T01:04:19.420431Z",
     "shell.execute_reply": "2020-08-13T01:04:19.419823Z"
    },
    "papermill": {
     "duration": 0.05718,
     "end_time": "2020-08-13T01:04:19.420570",
     "exception": false,
     "start_time": "2020-08-13T01:04:19.363390",
     "status": "completed"
    },
    "tags": []
   },
   "outputs": [
    {
     "data": {
      "text/html": [
       "<div>\n",
       "<style scoped>\n",
       "    .dataframe tbody tr th:only-of-type {\n",
       "        vertical-align: middle;\n",
       "    }\n",
       "\n",
       "    .dataframe tbody tr th {\n",
       "        vertical-align: top;\n",
       "    }\n",
       "\n",
       "    .dataframe thead th {\n",
       "        text-align: right;\n",
       "    }\n",
       "</style>\n",
       "<table border=\"1\" class=\"dataframe\">\n",
       "  <thead>\n",
       "    <tr style=\"text-align: right;\">\n",
       "      <th></th>\n",
       "      <th>Survived</th>\n",
       "      <th>Pclass</th>\n",
       "      <th>Sex</th>\n",
       "      <th>Age</th>\n",
       "      <th>SibSp</th>\n",
       "      <th>Parch</th>\n",
       "      <th>Fare</th>\n",
       "      <th>Embarked</th>\n",
       "    </tr>\n",
       "  </thead>\n",
       "  <tbody>\n",
       "    <tr>\n",
       "      <th>0</th>\n",
       "      <td>0</td>\n",
       "      <td>3</td>\n",
       "      <td>male</td>\n",
       "      <td>22.0</td>\n",
       "      <td>1</td>\n",
       "      <td>0</td>\n",
       "      <td>7.2500</td>\n",
       "      <td>S</td>\n",
       "    </tr>\n",
       "    <tr>\n",
       "      <th>1</th>\n",
       "      <td>1</td>\n",
       "      <td>1</td>\n",
       "      <td>female</td>\n",
       "      <td>38.0</td>\n",
       "      <td>1</td>\n",
       "      <td>0</td>\n",
       "      <td>71.2833</td>\n",
       "      <td>C</td>\n",
       "    </tr>\n",
       "    <tr>\n",
       "      <th>2</th>\n",
       "      <td>1</td>\n",
       "      <td>3</td>\n",
       "      <td>female</td>\n",
       "      <td>26.0</td>\n",
       "      <td>0</td>\n",
       "      <td>0</td>\n",
       "      <td>7.9250</td>\n",
       "      <td>S</td>\n",
       "    </tr>\n",
       "    <tr>\n",
       "      <th>3</th>\n",
       "      <td>1</td>\n",
       "      <td>1</td>\n",
       "      <td>female</td>\n",
       "      <td>35.0</td>\n",
       "      <td>1</td>\n",
       "      <td>0</td>\n",
       "      <td>53.1000</td>\n",
       "      <td>S</td>\n",
       "    </tr>\n",
       "    <tr>\n",
       "      <th>4</th>\n",
       "      <td>0</td>\n",
       "      <td>3</td>\n",
       "      <td>male</td>\n",
       "      <td>35.0</td>\n",
       "      <td>0</td>\n",
       "      <td>0</td>\n",
       "      <td>8.0500</td>\n",
       "      <td>S</td>\n",
       "    </tr>\n",
       "  </tbody>\n",
       "</table>\n",
       "</div>"
      ],
      "text/plain": [
       "   Survived  Pclass     Sex   Age  SibSp  Parch     Fare Embarked\n",
       "0         0       3    male  22.0      1      0   7.2500        S\n",
       "1         1       1  female  38.0      1      0  71.2833        C\n",
       "2         1       3  female  26.0      0      0   7.9250        S\n",
       "3         1       1  female  35.0      1      0  53.1000        S\n",
       "4         0       3    male  35.0      0      0   8.0500        S"
      ]
     },
     "execution_count": 23,
     "metadata": {},
     "output_type": "execute_result"
    }
   ],
   "source": [
    "# Check the first 5 rows of data for verify that column successfull dropped\n",
    "df_train.head()"
   ]
  },
  {
   "cell_type": "code",
   "execution_count": 24,
   "metadata": {
    "execution": {
     "iopub.execute_input": "2020-08-13T01:04:19.513000Z",
     "iopub.status.busy": "2020-08-13T01:04:19.511894Z",
     "iopub.status.idle": "2020-08-13T01:04:19.516507Z",
     "shell.execute_reply": "2020-08-13T01:04:19.515852Z"
    },
    "papermill": {
     "duration": 0.060083,
     "end_time": "2020-08-13T01:04:19.516634",
     "exception": false,
     "start_time": "2020-08-13T01:04:19.456551",
     "status": "completed"
    },
    "tags": []
   },
   "outputs": [
    {
     "data": {
      "text/html": [
       "<div>\n",
       "<style scoped>\n",
       "    .dataframe tbody tr th:only-of-type {\n",
       "        vertical-align: middle;\n",
       "    }\n",
       "\n",
       "    .dataframe tbody tr th {\n",
       "        vertical-align: top;\n",
       "    }\n",
       "\n",
       "    .dataframe thead tr th {\n",
       "        text-align: left;\n",
       "    }\n",
       "\n",
       "    .dataframe thead tr:last-of-type th {\n",
       "        text-align: right;\n",
       "    }\n",
       "</style>\n",
       "<table border=\"1\" class=\"dataframe\">\n",
       "  <thead>\n",
       "    <tr>\n",
       "      <th></th>\n",
       "      <th>Age</th>\n",
       "    </tr>\n",
       "    <tr>\n",
       "      <th></th>\n",
       "      <th>mean</th>\n",
       "    </tr>\n",
       "    <tr>\n",
       "      <th>Sex</th>\n",
       "      <th></th>\n",
       "    </tr>\n",
       "  </thead>\n",
       "  <tbody>\n",
       "    <tr>\n",
       "      <th>female</th>\n",
       "      <td>27.915709</td>\n",
       "    </tr>\n",
       "    <tr>\n",
       "      <th>male</th>\n",
       "      <td>30.726645</td>\n",
       "    </tr>\n",
       "  </tbody>\n",
       "</table>\n",
       "</div>"
      ],
      "text/plain": [
       "              Age\n",
       "             mean\n",
       "Sex              \n",
       "female  27.915709\n",
       "male    30.726645"
      ]
     },
     "execution_count": 24,
     "metadata": {},
     "output_type": "execute_result"
    }
   ],
   "source": [
    "# Groupby Age With Sex And Check the mean of male age and female age for fill nan(null) values\n",
    "df_train.groupby(\"Sex\").agg({\"Age\":[\"mean\"]})"
   ]
  },
  {
   "cell_type": "code",
   "execution_count": 25,
   "metadata": {
    "execution": {
     "iopub.execute_input": "2020-08-13T01:04:19.605112Z",
     "iopub.status.busy": "2020-08-13T01:04:19.604203Z",
     "iopub.status.idle": "2020-08-13T01:04:19.609474Z",
     "shell.execute_reply": "2020-08-13T01:04:19.608797Z"
    },
    "papermill": {
     "duration": 0.0568,
     "end_time": "2020-08-13T01:04:19.609599",
     "exception": false,
     "start_time": "2020-08-13T01:04:19.552799",
     "status": "completed"
    },
    "tags": []
   },
   "outputs": [
    {
     "data": {
      "text/html": [
       "<div>\n",
       "<style scoped>\n",
       "    .dataframe tbody tr th:only-of-type {\n",
       "        vertical-align: middle;\n",
       "    }\n",
       "\n",
       "    .dataframe tbody tr th {\n",
       "        vertical-align: top;\n",
       "    }\n",
       "\n",
       "    .dataframe thead tr th {\n",
       "        text-align: left;\n",
       "    }\n",
       "\n",
       "    .dataframe thead tr:last-of-type th {\n",
       "        text-align: right;\n",
       "    }\n",
       "</style>\n",
       "<table border=\"1\" class=\"dataframe\">\n",
       "  <thead>\n",
       "    <tr>\n",
       "      <th></th>\n",
       "      <th>Age</th>\n",
       "    </tr>\n",
       "    <tr>\n",
       "      <th></th>\n",
       "      <th>mean</th>\n",
       "    </tr>\n",
       "    <tr>\n",
       "      <th>Sex</th>\n",
       "      <th></th>\n",
       "    </tr>\n",
       "  </thead>\n",
       "  <tbody>\n",
       "    <tr>\n",
       "      <th>female</th>\n",
       "      <td>30.272362</td>\n",
       "    </tr>\n",
       "    <tr>\n",
       "      <th>male</th>\n",
       "      <td>30.272732</td>\n",
       "    </tr>\n",
       "  </tbody>\n",
       "</table>\n",
       "</div>"
      ],
      "text/plain": [
       "              Age\n",
       "             mean\n",
       "Sex              \n",
       "female  30.272362\n",
       "male    30.272732"
      ]
     },
     "execution_count": 25,
     "metadata": {},
     "output_type": "execute_result"
    }
   ],
   "source": [
    "df_test.groupby(\"Sex\").agg({\"Age\":[\"mean\"]})"
   ]
  },
  {
   "cell_type": "code",
   "execution_count": 26,
   "metadata": {
    "execution": {
     "iopub.execute_input": "2020-08-13T01:04:19.690960Z",
     "iopub.status.busy": "2020-08-13T01:04:19.689864Z",
     "iopub.status.idle": "2020-08-13T01:04:19.692683Z",
     "shell.execute_reply": "2020-08-13T01:04:19.693207Z"
    },
    "papermill": {
     "duration": 0.047183,
     "end_time": "2020-08-13T01:04:19.693406",
     "exception": false,
     "start_time": "2020-08-13T01:04:19.646223",
     "status": "completed"
    },
    "tags": []
   },
   "outputs": [],
   "source": [
    "# Create def fucntion for filling nan values of age\n",
    "def fill_age(data):\n",
    "    age = data[0]\n",
    "    sex = data[1]\n",
    "    if pd.isnull(age):\n",
    "        if sex is \"male\":\n",
    "            return 30\n",
    "        else:\n",
    "            return 27\n",
    "    else:\n",
    "        return age"
   ]
  },
  {
   "cell_type": "code",
   "execution_count": 27,
   "metadata": {
    "execution": {
     "iopub.execute_input": "2020-08-13T01:04:19.776086Z",
     "iopub.status.busy": "2020-08-13T01:04:19.774932Z",
     "iopub.status.idle": "2020-08-13T01:04:19.778362Z",
     "shell.execute_reply": "2020-08-13T01:04:19.777677Z"
    },
    "papermill": {
     "duration": 0.048168,
     "end_time": "2020-08-13T01:04:19.778494",
     "exception": false,
     "start_time": "2020-08-13T01:04:19.730326",
     "status": "completed"
    },
    "tags": []
   },
   "outputs": [],
   "source": [
    "def fill_age_test(data):\n",
    "    age = data[0]\n",
    "    sex = data[1]\n",
    "    if pd.isnull(age):\n",
    "        if sex is \"male\":\n",
    "            return 30\n",
    "        else:\n",
    "            return 30\n",
    "    else:\n",
    "        return age"
   ]
  },
  {
   "cell_type": "code",
   "execution_count": 28,
   "metadata": {
    "execution": {
     "iopub.execute_input": "2020-08-13T01:04:19.861417Z",
     "iopub.status.busy": "2020-08-13T01:04:19.860505Z",
     "iopub.status.idle": "2020-08-13T01:04:19.892499Z",
     "shell.execute_reply": "2020-08-13T01:04:19.891827Z"
    },
    "papermill": {
     "duration": 0.076838,
     "end_time": "2020-08-13T01:04:19.892655",
     "exception": false,
     "start_time": "2020-08-13T01:04:19.815817",
     "status": "completed"
    },
    "tags": []
   },
   "outputs": [],
   "source": [
    "# Now fill the nan values of age with mean of male and female\n",
    "df_train[\"Age\"] = df_train[[\"Age\",\"Sex\"]].apply(fill_age,axis=1)\n",
    "df_test[\"Age\"] = df_test[[\"Age\",\"Sex\"]].apply(fill_age_test,axis=1)"
   ]
  },
  {
   "cell_type": "code",
   "execution_count": 29,
   "metadata": {
    "execution": {
     "iopub.execute_input": "2020-08-13T01:04:19.975935Z",
     "iopub.status.busy": "2020-08-13T01:04:19.975188Z",
     "iopub.status.idle": "2020-08-13T01:04:20.191913Z",
     "shell.execute_reply": "2020-08-13T01:04:20.191184Z"
    },
    "papermill": {
     "duration": 0.261976,
     "end_time": "2020-08-13T01:04:20.192039",
     "exception": false,
     "start_time": "2020-08-13T01:04:19.930063",
     "status": "completed"
    },
    "tags": []
   },
   "outputs": [
    {
     "data": {
      "text/plain": [
       "<matplotlib.axes._subplots.AxesSubplot at 0x7f31ee7ea790>"
      ]
     },
     "execution_count": 29,
     "metadata": {},
     "output_type": "execute_result"
    },
    {
     "data": {
      "image/png": "[encoded data removed]",
      "text/plain": [
       "<Figure size 720x576 with 2 Axes>"
      ]
     },
     "metadata": {
      "needs_background": "light"
     },
     "output_type": "display_data"
    }
   ],
   "source": [
    "# Now verify nan values filled\n",
    "plt.figure(figsize=(10,8))\n",
    "sns.heatmap(df_train.isnull(),yticklabels=False,cbar=True,cmap=\"Blues\")"
   ]
  },
  {
   "cell_type": "code",
   "execution_count": 30,
   "metadata": {
    "execution": {
     "iopub.execute_input": "2020-08-13T01:04:20.276632Z",
     "iopub.status.busy": "2020-08-13T01:04:20.275475Z",
     "iopub.status.idle": "2020-08-13T01:04:20.279832Z",
     "shell.execute_reply": "2020-08-13T01:04:20.279065Z"
    },
    "papermill": {
     "duration": 0.050354,
     "end_time": "2020-08-13T01:04:20.279965",
     "exception": false,
     "start_time": "2020-08-13T01:04:20.229611",
     "status": "completed"
    },
    "tags": []
   },
   "outputs": [
    {
     "data": {
      "text/plain": [
       "Survived    False\n",
       "Pclass      False\n",
       "Sex         False\n",
       "Age         False\n",
       "SibSp       False\n",
       "Parch       False\n",
       "Fare        False\n",
       "Embarked     True\n",
       "dtype: bool"
      ]
     },
     "execution_count": 30,
     "metadata": {},
     "output_type": "execute_result"
    }
   ],
   "source": [
    "df_train.isna().any()"
   ]
  },
  {
   "cell_type": "code",
   "execution_count": 31,
   "metadata": {
    "execution": {
     "iopub.execute_input": "2020-08-13T01:04:20.362498Z",
     "iopub.status.busy": "2020-08-13T01:04:20.361552Z",
     "iopub.status.idle": "2020-08-13T01:04:20.507010Z",
     "shell.execute_reply": "2020-08-13T01:04:20.506215Z"
    },
    "papermill": {
     "duration": 0.189128,
     "end_time": "2020-08-13T01:04:20.507137",
     "exception": false,
     "start_time": "2020-08-13T01:04:20.318009",
     "status": "completed"
    },
    "tags": []
   },
   "outputs": [
    {
     "data": {
      "text/plain": [
       "<matplotlib.axes._subplots.AxesSubplot at 0x7f31ee715cd0>"
      ]
     },
     "execution_count": 31,
     "metadata": {},
     "output_type": "execute_result"
    },
    {
     "data": {
      "image/png": "[encoded data removed]",
      "text/plain": [
       "<Figure size 432x288 with 1 Axes>"
      ]
     },
     "metadata": {
      "needs_background": "light"
     },
     "output_type": "display_data"
    }
   ],
   "source": [
    "# Now check histogram of Embarked and check which Embarked have more passenger then fill then nan value\n",
    "df_train[\"Embarked\"].hist()"
   ]
  },
  {
   "cell_type": "code",
   "execution_count": 32,
   "metadata": {
    "execution": {
     "iopub.execute_input": "2020-08-13T01:04:20.595142Z",
     "iopub.status.busy": "2020-08-13T01:04:20.593967Z",
     "iopub.status.idle": "2020-08-13T01:04:20.732709Z",
     "shell.execute_reply": "2020-08-13T01:04:20.731935Z"
    },
    "papermill": {
     "duration": 0.187645,
     "end_time": "2020-08-13T01:04:20.732839",
     "exception": false,
     "start_time": "2020-08-13T01:04:20.545194",
     "status": "completed"
    },
    "tags": []
   },
   "outputs": [
    {
     "data": {
      "text/plain": [
       "<matplotlib.axes._subplots.AxesSubplot at 0x7f31ee68e210>"
      ]
     },
     "execution_count": 32,
     "metadata": {},
     "output_type": "execute_result"
    },
    {
     "data": {
      "image/png": "[encoded data removed]",
      "text/plain": [
       "<Figure size 432x288 with 1 Axes>"
      ]
     },
     "metadata": {
      "needs_background": "light"
     },
     "output_type": "display_data"
    }
   ],
   "source": [
    "df_test[\"Embarked\"].hist()"
   ]
  },
  {
   "cell_type": "code",
   "execution_count": 33,
   "metadata": {
    "execution": {
     "iopub.execute_input": "2020-08-13T01:04:20.819595Z",
     "iopub.status.busy": "2020-08-13T01:04:20.818566Z",
     "iopub.status.idle": "2020-08-13T01:04:20.822031Z",
     "shell.execute_reply": "2020-08-13T01:04:20.822626Z"
    },
    "papermill": {
     "duration": 0.052069,
     "end_time": "2020-08-13T01:04:20.822788",
     "exception": false,
     "start_time": "2020-08-13T01:04:20.770719",
     "status": "completed"
    },
    "tags": []
   },
   "outputs": [
    {
     "name": "stdout",
     "output_type": "stream",
     "text": [
      "S    644\n",
      "C    168\n",
      "Q     77\n",
      "Name: Embarked, dtype: int64\n",
      "S\n"
     ]
    }
   ],
   "source": [
    "## Embarked S Have More Passengers So That's why we choose Emabarked S For fill nan data\n",
    "print(df_train[\"Embarked\"].value_counts())\n",
    "print(df_train[\"Embarked\"].value_counts().idxmax())"
   ]
  },
  {
   "cell_type": "code",
   "execution_count": 34,
   "metadata": {
    "execution": {
     "iopub.execute_input": "2020-08-13T01:04:20.960993Z",
     "iopub.status.busy": "2020-08-13T01:04:20.959883Z",
     "iopub.status.idle": "2020-08-13T01:04:20.963591Z",
     "shell.execute_reply": "2020-08-13T01:04:20.962894Z"
    },
    "papermill": {
     "duration": 0.050362,
     "end_time": "2020-08-13T01:04:20.963716",
     "exception": false,
     "start_time": "2020-08-13T01:04:20.913354",
     "status": "completed"
    },
    "tags": []
   },
   "outputs": [],
   "source": [
    "df_train[\"Embarked\"].replace(np.nan,\"S\",inplace=True)\n",
    "df_test[\"Embarked\"].replace(np.nan,\"S\",inplace=True)"
   ]
  },
  {
   "cell_type": "code",
   "execution_count": 35,
   "metadata": {
    "execution": {
     "iopub.execute_input": "2020-08-13T01:04:21.052519Z",
     "iopub.status.busy": "2020-08-13T01:04:21.049500Z",
     "iopub.status.idle": "2020-08-13T01:04:21.403983Z",
     "shell.execute_reply": "2020-08-13T01:04:21.404557Z"
    },
    "papermill": {
     "duration": 0.402734,
     "end_time": "2020-08-13T01:04:21.404737",
     "exception": false,
     "start_time": "2020-08-13T01:04:21.002003",
     "status": "completed"
    },
    "tags": []
   },
   "outputs": [
    {
     "data": {
      "text/plain": [
       "<matplotlib.axes._subplots.AxesSubplot at 0x7f31ee640dd0>"
      ]
     },
     "execution_count": 35,
     "metadata": {},
     "output_type": "execute_result"
    },
    {
     "data": {
      "image/png": "[encoded data removed]",
      "text/plain": [
       "<Figure size 720x576 with 2 Axes>"
      ]
     },
     "metadata": {
      "needs_background": "light"
     },
     "output_type": "display_data"
    }
   ],
   "source": [
    "# Now verify nan Data filled or not\n",
    "plt.figure(figsize=(10,8))\n",
    "sns.heatmap(df_train.isnull(),yticklabels=False,cbar=True,cmap=\"Blues\")"
   ]
  },
  {
   "cell_type": "code",
   "execution_count": 36,
   "metadata": {
    "execution": {
     "iopub.execute_input": "2020-08-13T01:04:21.493004Z",
     "iopub.status.busy": "2020-08-13T01:04:21.491846Z",
     "iopub.status.idle": "2020-08-13T01:04:21.496639Z",
     "shell.execute_reply": "2020-08-13T01:04:21.495878Z"
    },
    "papermill": {
     "duration": 0.052988,
     "end_time": "2020-08-13T01:04:21.496762",
     "exception": false,
     "start_time": "2020-08-13T01:04:21.443774",
     "status": "completed"
    },
    "tags": []
   },
   "outputs": [
    {
     "data": {
      "text/plain": [
       "Survived    False\n",
       "Pclass      False\n",
       "Sex         False\n",
       "Age         False\n",
       "SibSp       False\n",
       "Parch       False\n",
       "Fare        False\n",
       "Embarked    False\n",
       "dtype: bool"
      ]
     },
     "execution_count": 36,
     "metadata": {},
     "output_type": "execute_result"
    }
   ],
   "source": [
    "# So We Successfully removed all missing value from data and drop unussual columns\n",
    "df_train.isna().any()"
   ]
  },
  {
   "cell_type": "code",
   "execution_count": 37,
   "metadata": {
    "execution": {
     "iopub.execute_input": "2020-08-13T01:04:21.584163Z",
     "iopub.status.busy": "2020-08-13T01:04:21.583249Z",
     "iopub.status.idle": "2020-08-13T01:04:21.587769Z",
     "shell.execute_reply": "2020-08-13T01:04:21.587022Z"
    },
    "papermill": {
     "duration": 0.052141,
     "end_time": "2020-08-13T01:04:21.587906",
     "exception": false,
     "start_time": "2020-08-13T01:04:21.535765",
     "status": "completed"
    },
    "tags": []
   },
   "outputs": [
    {
     "data": {
      "text/plain": [
       "Pclass      False\n",
       "Sex         False\n",
       "Age         False\n",
       "SibSp       False\n",
       "Parch       False\n",
       "Fare         True\n",
       "Embarked    False\n",
       "dtype: bool"
      ]
     },
     "execution_count": 37,
     "metadata": {},
     "output_type": "execute_result"
    }
   ],
   "source": [
    "df_test.isna().any()"
   ]
  },
  {
   "cell_type": "code",
   "execution_count": 38,
   "metadata": {
    "execution": {
     "iopub.execute_input": "2020-08-13T01:04:21.674936Z",
     "iopub.status.busy": "2020-08-13T01:04:21.673927Z",
     "iopub.status.idle": "2020-08-13T01:04:21.678821Z",
     "shell.execute_reply": "2020-08-13T01:04:21.678148Z"
    },
    "papermill": {
     "duration": 0.051487,
     "end_time": "2020-08-13T01:04:21.678948",
     "exception": false,
     "start_time": "2020-08-13T01:04:21.627461",
     "status": "completed"
    },
    "tags": []
   },
   "outputs": [
    {
     "data": {
      "text/plain": [
       "35.6271884892086"
      ]
     },
     "execution_count": 38,
     "metadata": {},
     "output_type": "execute_result"
    }
   ],
   "source": [
    "fare = df_test[\"Fare\"].astype(\"float64\").mean(axis=0)\n",
    "fare"
   ]
  },
  {
   "cell_type": "code",
   "execution_count": 39,
   "metadata": {
    "execution": {
     "iopub.execute_input": "2020-08-13T01:04:21.764656Z",
     "iopub.status.busy": "2020-08-13T01:04:21.763659Z",
     "iopub.status.idle": "2020-08-13T01:04:21.766911Z",
     "shell.execute_reply": "2020-08-13T01:04:21.766167Z"
    },
    "papermill": {
     "duration": 0.04867,
     "end_time": "2020-08-13T01:04:21.767040",
     "exception": false,
     "start_time": "2020-08-13T01:04:21.718370",
     "status": "completed"
    },
    "tags": []
   },
   "outputs": [],
   "source": [
    "df_test[\"Fare\"].replace(np.nan,fare,inplace=True)"
   ]
  },
  {
   "cell_type": "code",
   "execution_count": 40,
   "metadata": {
    "execution": {
     "iopub.execute_input": "2020-08-13T01:04:21.854211Z",
     "iopub.status.busy": "2020-08-13T01:04:21.853418Z",
     "iopub.status.idle": "2020-08-13T01:04:21.857691Z",
     "shell.execute_reply": "2020-08-13T01:04:21.857086Z"
    },
    "papermill": {
     "duration": 0.051658,
     "end_time": "2020-08-13T01:04:21.857821",
     "exception": false,
     "start_time": "2020-08-13T01:04:21.806163",
     "status": "completed"
    },
    "tags": []
   },
   "outputs": [
    {
     "data": {
      "text/plain": [
       "Pclass      False\n",
       "Sex         False\n",
       "Age         False\n",
       "SibSp       False\n",
       "Parch       False\n",
       "Fare        False\n",
       "Embarked    False\n",
       "dtype: bool"
      ]
     },
     "execution_count": 40,
     "metadata": {},
     "output_type": "execute_result"
    }
   ],
   "source": [
    "df_test.isna().any()"
   ]
  },
  {
   "cell_type": "code",
   "execution_count": 41,
   "metadata": {
    "execution": {
     "iopub.execute_input": "2020-08-13T01:04:21.944570Z",
     "iopub.status.busy": "2020-08-13T01:04:21.943490Z",
     "iopub.status.idle": "2020-08-13T01:04:21.948485Z",
     "shell.execute_reply": "2020-08-13T01:04:21.947865Z"
    },
    "papermill": {
     "duration": 0.05149,
     "end_time": "2020-08-13T01:04:21.948613",
     "exception": false,
     "start_time": "2020-08-13T01:04:21.897123",
     "status": "completed"
    },
    "tags": []
   },
   "outputs": [
    {
     "data": {
      "text/plain": [
       "Pclass        int64\n",
       "Sex          object\n",
       "Age         float64\n",
       "SibSp         int64\n",
       "Parch         int64\n",
       "Fare        float64\n",
       "Embarked     object\n",
       "dtype: object"
      ]
     },
     "execution_count": 41,
     "metadata": {},
     "output_type": "execute_result"
    }
   ],
   "source": [
    "df_test.dtypes"
   ]
  },
  {
   "cell_type": "code",
   "execution_count": 42,
   "metadata": {
    "execution": {
     "iopub.execute_input": "2020-08-13T01:04:22.036049Z",
     "iopub.status.busy": "2020-08-13T01:04:22.034945Z",
     "iopub.status.idle": "2020-08-13T01:04:22.039346Z",
     "shell.execute_reply": "2020-08-13T01:04:22.038590Z"
    },
    "papermill": {
     "duration": 0.051078,
     "end_time": "2020-08-13T01:04:22.039473",
     "exception": false,
     "start_time": "2020-08-13T01:04:21.988395",
     "status": "completed"
    },
    "tags": []
   },
   "outputs": [
    {
     "data": {
      "text/plain": [
       "Survived      int64\n",
       "Pclass        int64\n",
       "Sex          object\n",
       "Age         float64\n",
       "SibSp         int64\n",
       "Parch         int64\n",
       "Fare        float64\n",
       "Embarked     object\n",
       "dtype: object"
      ]
     },
     "execution_count": 42,
     "metadata": {},
     "output_type": "execute_result"
    }
   ],
   "source": [
    "# Now check dtypes of all columns\n",
    "df_train.dtypes"
   ]
  },
  {
   "cell_type": "code",
   "execution_count": 43,
   "metadata": {
    "execution": {
     "iopub.execute_input": "2020-08-13T01:04:22.125149Z",
     "iopub.status.busy": "2020-08-13T01:04:22.124373Z",
     "iopub.status.idle": "2020-08-13T01:04:22.128116Z",
     "shell.execute_reply": "2020-08-13T01:04:22.127382Z"
    },
    "papermill": {
     "duration": 0.048792,
     "end_time": "2020-08-13T01:04:22.128243",
     "exception": false,
     "start_time": "2020-08-13T01:04:22.079451",
     "status": "completed"
    },
    "tags": []
   },
   "outputs": [],
   "source": [
    "# So we have to convert object = int or float because sklearn not take objects only take numeric values like int,float etc"
   ]
  },
  {
   "cell_type": "code",
   "execution_count": 44,
   "metadata": {
    "execution": {
     "iopub.execute_input": "2020-08-13T01:04:22.222596Z",
     "iopub.status.busy": "2020-08-13T01:04:22.221635Z",
     "iopub.status.idle": "2020-08-13T01:04:22.225887Z",
     "shell.execute_reply": "2020-08-13T01:04:22.226440Z"
    },
    "papermill": {
     "duration": 0.058348,
     "end_time": "2020-08-13T01:04:22.226614",
     "exception": false,
     "start_time": "2020-08-13T01:04:22.168266",
     "status": "completed"
    },
    "tags": []
   },
   "outputs": [
    {
     "data": {
      "text/html": [
       "<div>\n",
       "<style scoped>\n",
       "    .dataframe tbody tr th:only-of-type {\n",
       "        vertical-align: middle;\n",
       "    }\n",
       "\n",
       "    .dataframe tbody tr th {\n",
       "        vertical-align: top;\n",
       "    }\n",
       "\n",
       "    .dataframe thead th {\n",
       "        text-align: right;\n",
       "    }\n",
       "</style>\n",
       "<table border=\"1\" class=\"dataframe\">\n",
       "  <thead>\n",
       "    <tr style=\"text-align: right;\">\n",
       "      <th></th>\n",
       "      <th>male</th>\n",
       "    </tr>\n",
       "  </thead>\n",
       "  <tbody>\n",
       "    <tr>\n",
       "      <th>0</th>\n",
       "      <td>1</td>\n",
       "    </tr>\n",
       "    <tr>\n",
       "      <th>1</th>\n",
       "      <td>0</td>\n",
       "    </tr>\n",
       "    <tr>\n",
       "      <th>2</th>\n",
       "      <td>0</td>\n",
       "    </tr>\n",
       "    <tr>\n",
       "      <th>3</th>\n",
       "      <td>0</td>\n",
       "    </tr>\n",
       "    <tr>\n",
       "      <th>4</th>\n",
       "      <td>1</td>\n",
       "    </tr>\n",
       "    <tr>\n",
       "      <th>...</th>\n",
       "      <td>...</td>\n",
       "    </tr>\n",
       "    <tr>\n",
       "      <th>886</th>\n",
       "      <td>1</td>\n",
       "    </tr>\n",
       "    <tr>\n",
       "      <th>887</th>\n",
       "      <td>0</td>\n",
       "    </tr>\n",
       "    <tr>\n",
       "      <th>888</th>\n",
       "      <td>0</td>\n",
       "    </tr>\n",
       "    <tr>\n",
       "      <th>889</th>\n",
       "      <td>1</td>\n",
       "    </tr>\n",
       "    <tr>\n",
       "      <th>890</th>\n",
       "      <td>1</td>\n",
       "    </tr>\n",
       "  </tbody>\n",
       "</table>\n",
       "<p>891 rows × 1 columns</p>\n",
       "</div>"
      ],
      "text/plain": [
       "     male\n",
       "0       1\n",
       "1       0\n",
       "2       0\n",
       "3       0\n",
       "4       1\n",
       "..    ...\n",
       "886     1\n",
       "887     0\n",
       "888     0\n",
       "889     1\n",
       "890     1\n",
       "\n",
       "[891 rows x 1 columns]"
      ]
     },
     "execution_count": 44,
     "metadata": {},
     "output_type": "execute_result"
    }
   ],
   "source": [
    "# Create dummy variable for Sex\n",
    "sex_variable = pd.get_dummies(df_train[\"Sex\"],drop_first=True)\n",
    "sex_variable"
   ]
  },
  {
   "cell_type": "code",
   "execution_count": 45,
   "metadata": {
    "execution": {
     "iopub.execute_input": "2020-08-13T01:04:22.319547Z",
     "iopub.status.busy": "2020-08-13T01:04:22.318719Z",
     "iopub.status.idle": "2020-08-13T01:04:22.323185Z",
     "shell.execute_reply": "2020-08-13T01:04:22.323734Z"
    },
    "papermill": {
     "duration": 0.056454,
     "end_time": "2020-08-13T01:04:22.323934",
     "exception": false,
     "start_time": "2020-08-13T01:04:22.267480",
     "status": "completed"
    },
    "tags": []
   },
   "outputs": [],
   "source": [
    "# Now conat the sex_vaiable with df_train and drop the Sex columns\n",
    "df_train = pd.concat([df_train,sex_variable],axis=1)\n",
    "df_train.drop(\"Sex\",axis=1,inplace=True)"
   ]
  },
  {
   "cell_type": "code",
   "execution_count": 46,
   "metadata": {
    "execution": {
     "iopub.execute_input": "2020-08-13T01:04:22.421248Z",
     "iopub.status.busy": "2020-08-13T01:04:22.420238Z",
     "iopub.status.idle": "2020-08-13T01:04:22.425431Z",
     "shell.execute_reply": "2020-08-13T01:04:22.424646Z"
    },
    "papermill": {
     "duration": 0.059889,
     "end_time": "2020-08-13T01:04:22.425559",
     "exception": false,
     "start_time": "2020-08-13T01:04:22.365670",
     "status": "completed"
    },
    "tags": []
   },
   "outputs": [
    {
     "data": {
      "text/html": [
       "<div>\n",
       "<style scoped>\n",
       "    .dataframe tbody tr th:only-of-type {\n",
       "        vertical-align: middle;\n",
       "    }\n",
       "\n",
       "    .dataframe tbody tr th {\n",
       "        vertical-align: top;\n",
       "    }\n",
       "\n",
       "    .dataframe thead th {\n",
       "        text-align: right;\n",
       "    }\n",
       "</style>\n",
       "<table border=\"1\" class=\"dataframe\">\n",
       "  <thead>\n",
       "    <tr style=\"text-align: right;\">\n",
       "      <th></th>\n",
       "      <th>Survived</th>\n",
       "      <th>Pclass</th>\n",
       "      <th>Age</th>\n",
       "      <th>SibSp</th>\n",
       "      <th>Parch</th>\n",
       "      <th>Fare</th>\n",
       "      <th>Embarked</th>\n",
       "      <th>male</th>\n",
       "    </tr>\n",
       "  </thead>\n",
       "  <tbody>\n",
       "    <tr>\n",
       "      <th>0</th>\n",
       "      <td>0</td>\n",
       "      <td>3</td>\n",
       "      <td>22.0</td>\n",
       "      <td>1</td>\n",
       "      <td>0</td>\n",
       "      <td>7.2500</td>\n",
       "      <td>S</td>\n",
       "      <td>1</td>\n",
       "    </tr>\n",
       "    <tr>\n",
       "      <th>1</th>\n",
       "      <td>1</td>\n",
       "      <td>1</td>\n",
       "      <td>38.0</td>\n",
       "      <td>1</td>\n",
       "      <td>0</td>\n",
       "      <td>71.2833</td>\n",
       "      <td>C</td>\n",
       "      <td>0</td>\n",
       "    </tr>\n",
       "    <tr>\n",
       "      <th>2</th>\n",
       "      <td>1</td>\n",
       "      <td>3</td>\n",
       "      <td>26.0</td>\n",
       "      <td>0</td>\n",
       "      <td>0</td>\n",
       "      <td>7.9250</td>\n",
       "      <td>S</td>\n",
       "      <td>0</td>\n",
       "    </tr>\n",
       "    <tr>\n",
       "      <th>3</th>\n",
       "      <td>1</td>\n",
       "      <td>1</td>\n",
       "      <td>35.0</td>\n",
       "      <td>1</td>\n",
       "      <td>0</td>\n",
       "      <td>53.1000</td>\n",
       "      <td>S</td>\n",
       "      <td>0</td>\n",
       "    </tr>\n",
       "    <tr>\n",
       "      <th>4</th>\n",
       "      <td>0</td>\n",
       "      <td>3</td>\n",
       "      <td>35.0</td>\n",
       "      <td>0</td>\n",
       "      <td>0</td>\n",
       "      <td>8.0500</td>\n",
       "      <td>S</td>\n",
       "      <td>1</td>\n",
       "    </tr>\n",
       "  </tbody>\n",
       "</table>\n",
       "</div>"
      ],
      "text/plain": [
       "   Survived  Pclass   Age  SibSp  Parch     Fare Embarked  male\n",
       "0         0       3  22.0      1      0   7.2500        S     1\n",
       "1         1       1  38.0      1      0  71.2833        C     0\n",
       "2         1       3  26.0      0      0   7.9250        S     0\n",
       "3         1       1  35.0      1      0  53.1000        S     0\n",
       "4         0       3  35.0      0      0   8.0500        S     1"
      ]
     },
     "execution_count": 46,
     "metadata": {},
     "output_type": "execute_result"
    }
   ],
   "source": [
    "# Verify the data correct or not\n",
    "df_train.head()"
   ]
  },
  {
   "cell_type": "code",
   "execution_count": 47,
   "metadata": {
    "execution": {
     "iopub.execute_input": "2020-08-13T01:04:22.514966Z",
     "iopub.status.busy": "2020-08-13T01:04:22.513943Z",
     "iopub.status.idle": "2020-08-13T01:04:22.517506Z",
     "shell.execute_reply": "2020-08-13T01:04:22.516705Z"
    },
    "papermill": {
     "duration": 0.050901,
     "end_time": "2020-08-13T01:04:22.517636",
     "exception": false,
     "start_time": "2020-08-13T01:04:22.466735",
     "status": "completed"
    },
    "tags": []
   },
   "outputs": [],
   "source": [
    "sex_variable = pd.get_dummies(df_test[\"Sex\"],drop_first=True)"
   ]
  },
  {
   "cell_type": "code",
   "execution_count": 48,
   "metadata": {
    "execution": {
     "iopub.execute_input": "2020-08-13T01:04:22.611703Z",
     "iopub.status.busy": "2020-08-13T01:04:22.610328Z",
     "iopub.status.idle": "2020-08-13T01:04:22.615960Z",
     "shell.execute_reply": "2020-08-13T01:04:22.615163Z"
    },
    "papermill": {
     "duration": 0.05617,
     "end_time": "2020-08-13T01:04:22.616085",
     "exception": false,
     "start_time": "2020-08-13T01:04:22.559915",
     "status": "completed"
    },
    "tags": []
   },
   "outputs": [],
   "source": [
    "df_test = pd.concat([df_test,sex_variable],axis=1)\n",
    "df_test.drop(\"Sex\",axis=1,inplace=True)"
   ]
  },
  {
   "cell_type": "code",
   "execution_count": 49,
   "metadata": {
    "execution": {
     "iopub.execute_input": "2020-08-13T01:04:22.712625Z",
     "iopub.status.busy": "2020-08-13T01:04:22.711529Z",
     "iopub.status.idle": "2020-08-13T01:04:22.716483Z",
     "shell.execute_reply": "2020-08-13T01:04:22.717010Z"
    },
    "papermill": {
     "duration": 0.060457,
     "end_time": "2020-08-13T01:04:22.717177",
     "exception": false,
     "start_time": "2020-08-13T01:04:22.656720",
     "status": "completed"
    },
    "tags": []
   },
   "outputs": [
    {
     "data": {
      "text/html": [
       "<div>\n",
       "<style scoped>\n",
       "    .dataframe tbody tr th:only-of-type {\n",
       "        vertical-align: middle;\n",
       "    }\n",
       "\n",
       "    .dataframe tbody tr th {\n",
       "        vertical-align: top;\n",
       "    }\n",
       "\n",
       "    .dataframe thead th {\n",
       "        text-align: right;\n",
       "    }\n",
       "</style>\n",
       "<table border=\"1\" class=\"dataframe\">\n",
       "  <thead>\n",
       "    <tr style=\"text-align: right;\">\n",
       "      <th></th>\n",
       "      <th>Q</th>\n",
       "      <th>S</th>\n",
       "    </tr>\n",
       "  </thead>\n",
       "  <tbody>\n",
       "    <tr>\n",
       "      <th>0</th>\n",
       "      <td>0</td>\n",
       "      <td>1</td>\n",
       "    </tr>\n",
       "    <tr>\n",
       "      <th>1</th>\n",
       "      <td>0</td>\n",
       "      <td>0</td>\n",
       "    </tr>\n",
       "    <tr>\n",
       "      <th>2</th>\n",
       "      <td>0</td>\n",
       "      <td>1</td>\n",
       "    </tr>\n",
       "    <tr>\n",
       "      <th>3</th>\n",
       "      <td>0</td>\n",
       "      <td>1</td>\n",
       "    </tr>\n",
       "    <tr>\n",
       "      <th>4</th>\n",
       "      <td>0</td>\n",
       "      <td>1</td>\n",
       "    </tr>\n",
       "    <tr>\n",
       "      <th>...</th>\n",
       "      <td>...</td>\n",
       "      <td>...</td>\n",
       "    </tr>\n",
       "    <tr>\n",
       "      <th>886</th>\n",
       "      <td>0</td>\n",
       "      <td>1</td>\n",
       "    </tr>\n",
       "    <tr>\n",
       "      <th>887</th>\n",
       "      <td>0</td>\n",
       "      <td>1</td>\n",
       "    </tr>\n",
       "    <tr>\n",
       "      <th>888</th>\n",
       "      <td>0</td>\n",
       "      <td>1</td>\n",
       "    </tr>\n",
       "    <tr>\n",
       "      <th>889</th>\n",
       "      <td>0</td>\n",
       "      <td>0</td>\n",
       "    </tr>\n",
       "    <tr>\n",
       "      <th>890</th>\n",
       "      <td>1</td>\n",
       "      <td>0</td>\n",
       "    </tr>\n",
       "  </tbody>\n",
       "</table>\n",
       "<p>891 rows × 2 columns</p>\n",
       "</div>"
      ],
      "text/plain": [
       "     Q  S\n",
       "0    0  1\n",
       "1    0  0\n",
       "2    0  1\n",
       "3    0  1\n",
       "4    0  1\n",
       "..  .. ..\n",
       "886  0  1\n",
       "887  0  1\n",
       "888  0  1\n",
       "889  0  0\n",
       "890  1  0\n",
       "\n",
       "[891 rows x 2 columns]"
      ]
     },
     "execution_count": 49,
     "metadata": {},
     "output_type": "execute_result"
    }
   ],
   "source": [
    "# Create dummy variable for Embarked\n",
    "embarked_var = pd.get_dummies(df_train[\"Embarked\"],drop_first=True)\n",
    "embarked_var"
   ]
  },
  {
   "cell_type": "code",
   "execution_count": 50,
   "metadata": {
    "execution": {
     "iopub.execute_input": "2020-08-13T01:04:22.808687Z",
     "iopub.status.busy": "2020-08-13T01:04:22.807261Z",
     "iopub.status.idle": "2020-08-13T01:04:22.811743Z",
     "shell.execute_reply": "2020-08-13T01:04:22.812329Z"
    },
    "papermill": {
     "duration": 0.054262,
     "end_time": "2020-08-13T01:04:22.812494",
     "exception": false,
     "start_time": "2020-08-13T01:04:22.758232",
     "status": "completed"
    },
    "tags": []
   },
   "outputs": [],
   "source": [
    "# Now conat the embarked_var with df_train and drop the Embarked columns\n",
    "df_train = pd.concat([df_train,embarked_var],axis=1)\n",
    "df_train.drop(\"Embarked\",axis=1,inplace=True)"
   ]
  },
  {
   "cell_type": "code",
   "execution_count": 51,
   "metadata": {
    "execution": {
     "iopub.execute_input": "2020-08-13T01:04:22.910276Z",
     "iopub.status.busy": "2020-08-13T01:04:22.909490Z",
     "iopub.status.idle": "2020-08-13T01:04:22.914289Z",
     "shell.execute_reply": "2020-08-13T01:04:22.914874Z"
    },
    "papermill": {
     "duration": 0.061235,
     "end_time": "2020-08-13T01:04:22.915048",
     "exception": false,
     "start_time": "2020-08-13T01:04:22.853813",
     "status": "completed"
    },
    "tags": []
   },
   "outputs": [
    {
     "data": {
      "text/html": [
       "<div>\n",
       "<style scoped>\n",
       "    .dataframe tbody tr th:only-of-type {\n",
       "        vertical-align: middle;\n",
       "    }\n",
       "\n",
       "    .dataframe tbody tr th {\n",
       "        vertical-align: top;\n",
       "    }\n",
       "\n",
       "    .dataframe thead th {\n",
       "        text-align: right;\n",
       "    }\n",
       "</style>\n",
       "<table border=\"1\" class=\"dataframe\">\n",
       "  <thead>\n",
       "    <tr style=\"text-align: right;\">\n",
       "      <th></th>\n",
       "      <th>Survived</th>\n",
       "      <th>Pclass</th>\n",
       "      <th>Age</th>\n",
       "      <th>SibSp</th>\n",
       "      <th>Parch</th>\n",
       "      <th>Fare</th>\n",
       "      <th>male</th>\n",
       "      <th>Q</th>\n",
       "      <th>S</th>\n",
       "    </tr>\n",
       "  </thead>\n",
       "  <tbody>\n",
       "    <tr>\n",
       "      <th>0</th>\n",
       "      <td>0</td>\n",
       "      <td>3</td>\n",
       "      <td>22.0</td>\n",
       "      <td>1</td>\n",
       "      <td>0</td>\n",
       "      <td>7.2500</td>\n",
       "      <td>1</td>\n",
       "      <td>0</td>\n",
       "      <td>1</td>\n",
       "    </tr>\n",
       "    <tr>\n",
       "      <th>1</th>\n",
       "      <td>1</td>\n",
       "      <td>1</td>\n",
       "      <td>38.0</td>\n",
       "      <td>1</td>\n",
       "      <td>0</td>\n",
       "      <td>71.2833</td>\n",
       "      <td>0</td>\n",
       "      <td>0</td>\n",
       "      <td>0</td>\n",
       "    </tr>\n",
       "    <tr>\n",
       "      <th>2</th>\n",
       "      <td>1</td>\n",
       "      <td>3</td>\n",
       "      <td>26.0</td>\n",
       "      <td>0</td>\n",
       "      <td>0</td>\n",
       "      <td>7.9250</td>\n",
       "      <td>0</td>\n",
       "      <td>0</td>\n",
       "      <td>1</td>\n",
       "    </tr>\n",
       "    <tr>\n",
       "      <th>3</th>\n",
       "      <td>1</td>\n",
       "      <td>1</td>\n",
       "      <td>35.0</td>\n",
       "      <td>1</td>\n",
       "      <td>0</td>\n",
       "      <td>53.1000</td>\n",
       "      <td>0</td>\n",
       "      <td>0</td>\n",
       "      <td>1</td>\n",
       "    </tr>\n",
       "    <tr>\n",
       "      <th>4</th>\n",
       "      <td>0</td>\n",
       "      <td>3</td>\n",
       "      <td>35.0</td>\n",
       "      <td>0</td>\n",
       "      <td>0</td>\n",
       "      <td>8.0500</td>\n",
       "      <td>1</td>\n",
       "      <td>0</td>\n",
       "      <td>1</td>\n",
       "    </tr>\n",
       "  </tbody>\n",
       "</table>\n",
       "</div>"
      ],
      "text/plain": [
       "   Survived  Pclass   Age  SibSp  Parch     Fare  male  Q  S\n",
       "0         0       3  22.0      1      0   7.2500     1  0  1\n",
       "1         1       1  38.0      1      0  71.2833     0  0  0\n",
       "2         1       3  26.0      0      0   7.9250     0  0  1\n",
       "3         1       1  35.0      1      0  53.1000     0  0  1\n",
       "4         0       3  35.0      0      0   8.0500     1  0  1"
      ]
     },
     "execution_count": 51,
     "metadata": {},
     "output_type": "execute_result"
    }
   ],
   "source": [
    "# Verify the data correct or not\n",
    "df_train.head()"
   ]
  },
  {
   "cell_type": "code",
   "execution_count": 52,
   "metadata": {
    "execution": {
     "iopub.execute_input": "2020-08-13T01:04:23.005658Z",
     "iopub.status.busy": "2020-08-13T01:04:23.004810Z",
     "iopub.status.idle": "2020-08-13T01:04:23.008430Z",
     "shell.execute_reply": "2020-08-13T01:04:23.007643Z"
    },
    "papermill": {
     "duration": 0.051927,
     "end_time": "2020-08-13T01:04:23.008559",
     "exception": false,
     "start_time": "2020-08-13T01:04:22.956632",
     "status": "completed"
    },
    "tags": []
   },
   "outputs": [],
   "source": [
    "# Now Change the column name of Q and S with Embarked_Q and Embarked_S\n",
    "df_train = df_train.rename(columns={\"Q\":\"Embarked_Q\",\"S\":\"Embarked_S\"})"
   ]
  },
  {
   "cell_type": "code",
   "execution_count": 53,
   "metadata": {
    "execution": {
     "iopub.execute_input": "2020-08-13T01:04:23.107547Z",
     "iopub.status.busy": "2020-08-13T01:04:23.106506Z",
     "iopub.status.idle": "2020-08-13T01:04:23.112758Z",
     "shell.execute_reply": "2020-08-13T01:04:23.111942Z"
    },
    "papermill": {
     "duration": 0.062027,
     "end_time": "2020-08-13T01:04:23.112888",
     "exception": false,
     "start_time": "2020-08-13T01:04:23.050861",
     "status": "completed"
    },
    "tags": []
   },
   "outputs": [
    {
     "data": {
      "text/html": [
       "<div>\n",
       "<style scoped>\n",
       "    .dataframe tbody tr th:only-of-type {\n",
       "        vertical-align: middle;\n",
       "    }\n",
       "\n",
       "    .dataframe tbody tr th {\n",
       "        vertical-align: top;\n",
       "    }\n",
       "\n",
       "    .dataframe thead th {\n",
       "        text-align: right;\n",
       "    }\n",
       "</style>\n",
       "<table border=\"1\" class=\"dataframe\">\n",
       "  <thead>\n",
       "    <tr style=\"text-align: right;\">\n",
       "      <th></th>\n",
       "      <th>Survived</th>\n",
       "      <th>Pclass</th>\n",
       "      <th>Age</th>\n",
       "      <th>SibSp</th>\n",
       "      <th>Parch</th>\n",
       "      <th>Fare</th>\n",
       "      <th>male</th>\n",
       "      <th>Embarked_Q</th>\n",
       "      <th>Embarked_S</th>\n",
       "    </tr>\n",
       "  </thead>\n",
       "  <tbody>\n",
       "    <tr>\n",
       "      <th>0</th>\n",
       "      <td>0</td>\n",
       "      <td>3</td>\n",
       "      <td>22.0</td>\n",
       "      <td>1</td>\n",
       "      <td>0</td>\n",
       "      <td>7.2500</td>\n",
       "      <td>1</td>\n",
       "      <td>0</td>\n",
       "      <td>1</td>\n",
       "    </tr>\n",
       "    <tr>\n",
       "      <th>1</th>\n",
       "      <td>1</td>\n",
       "      <td>1</td>\n",
       "      <td>38.0</td>\n",
       "      <td>1</td>\n",
       "      <td>0</td>\n",
       "      <td>71.2833</td>\n",
       "      <td>0</td>\n",
       "      <td>0</td>\n",
       "      <td>0</td>\n",
       "    </tr>\n",
       "    <tr>\n",
       "      <th>2</th>\n",
       "      <td>1</td>\n",
       "      <td>3</td>\n",
       "      <td>26.0</td>\n",
       "      <td>0</td>\n",
       "      <td>0</td>\n",
       "      <td>7.9250</td>\n",
       "      <td>0</td>\n",
       "      <td>0</td>\n",
       "      <td>1</td>\n",
       "    </tr>\n",
       "    <tr>\n",
       "      <th>3</th>\n",
       "      <td>1</td>\n",
       "      <td>1</td>\n",
       "      <td>35.0</td>\n",
       "      <td>1</td>\n",
       "      <td>0</td>\n",
       "      <td>53.1000</td>\n",
       "      <td>0</td>\n",
       "      <td>0</td>\n",
       "      <td>1</td>\n",
       "    </tr>\n",
       "    <tr>\n",
       "      <th>4</th>\n",
       "      <td>0</td>\n",
       "      <td>3</td>\n",
       "      <td>35.0</td>\n",
       "      <td>0</td>\n",
       "      <td>0</td>\n",
       "      <td>8.0500</td>\n",
       "      <td>1</td>\n",
       "      <td>0</td>\n",
       "      <td>1</td>\n",
       "    </tr>\n",
       "  </tbody>\n",
       "</table>\n",
       "</div>"
      ],
      "text/plain": [
       "   Survived  Pclass   Age  SibSp  Parch     Fare  male  Embarked_Q  Embarked_S\n",
       "0         0       3  22.0      1      0   7.2500     1           0           1\n",
       "1         1       1  38.0      1      0  71.2833     0           0           0\n",
       "2         1       3  26.0      0      0   7.9250     0           0           1\n",
       "3         1       1  35.0      1      0  53.1000     0           0           1\n",
       "4         0       3  35.0      0      0   8.0500     1           0           1"
      ]
     },
     "execution_count": 53,
     "metadata": {},
     "output_type": "execute_result"
    }
   ],
   "source": [
    "# Now Check the data all are correct or not\n",
    "df_train.head()"
   ]
  },
  {
   "cell_type": "code",
   "execution_count": 54,
   "metadata": {
    "execution": {
     "iopub.execute_input": "2020-08-13T01:04:23.205621Z",
     "iopub.status.busy": "2020-08-13T01:04:23.204535Z",
     "iopub.status.idle": "2020-08-13T01:04:23.207989Z",
     "shell.execute_reply": "2020-08-13T01:04:23.207166Z"
    },
    "papermill": {
     "duration": 0.052303,
     "end_time": "2020-08-13T01:04:23.208136",
     "exception": false,
     "start_time": "2020-08-13T01:04:23.155833",
     "status": "completed"
    },
    "tags": []
   },
   "outputs": [],
   "source": [
    "embarked_var = pd.get_dummies(df_test[\"Embarked\"],drop_first=True)"
   ]
  },
  {
   "cell_type": "code",
   "execution_count": 55,
   "metadata": {
    "execution": {
     "iopub.execute_input": "2020-08-13T01:04:23.301032Z",
     "iopub.status.busy": "2020-08-13T01:04:23.300209Z",
     "iopub.status.idle": "2020-08-13T01:04:23.306642Z",
     "shell.execute_reply": "2020-08-13T01:04:23.305811Z"
    },
    "papermill": {
     "duration": 0.056367,
     "end_time": "2020-08-13T01:04:23.306771",
     "exception": false,
     "start_time": "2020-08-13T01:04:23.250404",
     "status": "completed"
    },
    "tags": []
   },
   "outputs": [],
   "source": [
    "df_test = pd.concat([df_test,embarked_var],axis=1)\n",
    "df_test.drop(\"Embarked\",axis=1,inplace=True)"
   ]
  },
  {
   "cell_type": "code",
   "execution_count": 56,
   "metadata": {
    "execution": {
     "iopub.execute_input": "2020-08-13T01:04:23.400410Z",
     "iopub.status.busy": "2020-08-13T01:04:23.399346Z",
     "iopub.status.idle": "2020-08-13T01:04:23.403028Z",
     "shell.execute_reply": "2020-08-13T01:04:23.402205Z"
    },
    "papermill": {
     "duration": 0.053356,
     "end_time": "2020-08-13T01:04:23.403161",
     "exception": false,
     "start_time": "2020-08-13T01:04:23.349805",
     "status": "completed"
    },
    "tags": []
   },
   "outputs": [],
   "source": [
    "df_test = df_test.rename(columns={\"Q\":\"Embarked_Q\",\"S\":\"Embarked_S\"})"
   ]
  },
  {
   "cell_type": "code",
   "execution_count": 57,
   "metadata": {
    "execution": {
     "iopub.execute_input": "2020-08-13T01:04:23.496362Z",
     "iopub.status.busy": "2020-08-13T01:04:23.495345Z",
     "iopub.status.idle": "2020-08-13T01:04:23.499558Z",
     "shell.execute_reply": "2020-08-13T01:04:23.498888Z"
    },
    "papermill": {
     "duration": 0.054213,
     "end_time": "2020-08-13T01:04:23.499691",
     "exception": false,
     "start_time": "2020-08-13T01:04:23.445478",
     "status": "completed"
    },
    "tags": []
   },
   "outputs": [
    {
     "data": {
      "text/plain": [
       "Survived        int64\n",
       "Pclass          int64\n",
       "Age           float64\n",
       "SibSp           int64\n",
       "Parch           int64\n",
       "Fare          float64\n",
       "male            uint8\n",
       "Embarked_Q      uint8\n",
       "Embarked_S      uint8\n",
       "dtype: object"
      ]
     },
     "execution_count": 57,
     "metadata": {},
     "output_type": "execute_result"
    }
   ],
   "source": [
    "# Now check the dtypes of all the columns all are good or not\n",
    "df_train.dtypes"
   ]
  },
  {
   "cell_type": "code",
   "execution_count": 58,
   "metadata": {
    "execution": {
     "iopub.execute_input": "2020-08-13T01:04:23.605758Z",
     "iopub.status.busy": "2020-08-13T01:04:23.604789Z",
     "iopub.status.idle": "2020-08-13T01:04:23.609616Z",
     "shell.execute_reply": "2020-08-13T01:04:23.608862Z"
    },
    "papermill": {
     "duration": 0.067169,
     "end_time": "2020-08-13T01:04:23.609741",
     "exception": false,
     "start_time": "2020-08-13T01:04:23.542572",
     "status": "completed"
    },
    "tags": []
   },
   "outputs": [
    {
     "data": {
      "text/plain": [
       "Pclass          int64\n",
       "Age           float64\n",
       "SibSp           int64\n",
       "Parch           int64\n",
       "Fare          float64\n",
       "male            uint8\n",
       "Embarked_Q      uint8\n",
       "Embarked_S      uint8\n",
       "dtype: object"
      ]
     },
     "execution_count": 58,
     "metadata": {},
     "output_type": "execute_result"
    }
   ],
   "source": [
    "df_test.dtypes"
   ]
  },
  {
   "cell_type": "code",
   "execution_count": 59,
   "metadata": {
    "execution": {
     "iopub.execute_input": "2020-08-13T01:04:23.703591Z",
     "iopub.status.busy": "2020-08-13T01:04:23.702487Z",
     "iopub.status.idle": "2020-08-13T01:04:23.705234Z",
     "shell.execute_reply": "2020-08-13T01:04:23.705800Z"
    },
    "papermill": {
     "duration": 0.053799,
     "end_time": "2020-08-13T01:04:23.705963",
     "exception": false,
     "start_time": "2020-08-13T01:04:23.652164",
     "status": "completed"
    },
    "tags": []
   },
   "outputs": [],
   "source": [
    "X = df_train.drop(\"Survived\",axis=1).values"
   ]
  },
  {
   "cell_type": "code",
   "execution_count": 60,
   "metadata": {
    "execution": {
     "iopub.execute_input": "2020-08-13T01:04:23.796708Z",
     "iopub.status.busy": "2020-08-13T01:04:23.795903Z",
     "iopub.status.idle": "2020-08-13T01:04:23.799899Z",
     "shell.execute_reply": "2020-08-13T01:04:23.799121Z"
    },
    "papermill": {
     "duration": 0.0513,
     "end_time": "2020-08-13T01:04:23.800058",
     "exception": false,
     "start_time": "2020-08-13T01:04:23.748758",
     "status": "completed"
    },
    "tags": []
   },
   "outputs": [],
   "source": [
    "y = df_train[\"Survived\"].values"
   ]
  },
  {
   "cell_type": "code",
   "execution_count": 61,
   "metadata": {
    "execution": {
     "iopub.execute_input": "2020-08-13T01:04:23.891423Z",
     "iopub.status.busy": "2020-08-13T01:04:23.890646Z",
     "iopub.status.idle": "2020-08-13T01:04:23.894242Z",
     "shell.execute_reply": "2020-08-13T01:04:23.893610Z"
    },
    "papermill": {
     "duration": 0.051218,
     "end_time": "2020-08-13T01:04:23.894383",
     "exception": false,
     "start_time": "2020-08-13T01:04:23.843165",
     "status": "completed"
    },
    "tags": []
   },
   "outputs": [
    {
     "name": "stdout",
     "output_type": "stream",
     "text": [
      "(891, 8)\n",
      "(891,)\n"
     ]
    }
   ],
   "source": [
    "print(X.shape)\n",
    "print(y.shape)"
   ]
  },
  {
   "cell_type": "code",
   "execution_count": 62,
   "metadata": {
    "execution": {
     "iopub.execute_input": "2020-08-13T01:04:23.986773Z",
     "iopub.status.busy": "2020-08-13T01:04:23.985981Z",
     "iopub.status.idle": "2020-08-13T01:04:23.996485Z",
     "shell.execute_reply": "2020-08-13T01:04:23.995640Z"
    },
    "papermill": {
     "duration": 0.059366,
     "end_time": "2020-08-13T01:04:23.996624",
     "exception": false,
     "start_time": "2020-08-13T01:04:23.937258",
     "status": "completed"
    },
    "tags": []
   },
   "outputs": [],
   "source": [
    "# Feature Scaling\n",
    "sc = StandardScaler()\n",
    "X = sc.fit_transform(X)\n",
    "df_test = sc.fit_transform(df_test)"
   ]
  },
  {
   "cell_type": "code",
   "execution_count": 63,
   "metadata": {
    "execution": {
     "iopub.execute_input": "2020-08-13T01:04:24.089008Z",
     "iopub.status.busy": "2020-08-13T01:04:24.088122Z",
     "iopub.status.idle": "2020-08-13T01:04:24.092248Z",
     "shell.execute_reply": "2020-08-13T01:04:24.092801Z"
    },
    "papermill": {
     "duration": 0.053293,
     "end_time": "2020-08-13T01:04:24.092956",
     "exception": false,
     "start_time": "2020-08-13T01:04:24.039663",
     "status": "completed"
    },
    "tags": []
   },
   "outputs": [
    {
     "data": {
      "text/plain": [
       "array([[ 0.82737724, -0.5493354 ,  0.43279337, ...,  0.73769513,\n",
       "        -0.30756234,  0.61583843],\n",
       "       [-1.56610693,  0.67772773,  0.43279337, ..., -1.35557354,\n",
       "        -0.30756234, -1.62380254],\n",
       "       [ 0.82737724, -0.24256962, -0.4745452 , ..., -1.35557354,\n",
       "        -0.30756234,  0.61583843],\n",
       "       ...,\n",
       "       [ 0.82737724, -0.16587817,  0.43279337, ..., -1.35557354,\n",
       "        -0.30756234,  0.61583843],\n",
       "       [-1.56610693, -0.24256962, -0.4745452 , ...,  0.73769513,\n",
       "        -0.30756234, -1.62380254],\n",
       "       [ 0.82737724,  0.21757905, -0.4745452 , ...,  0.73769513,\n",
       "         3.25137334, -1.62380254]])"
      ]
     },
     "execution_count": 63,
     "metadata": {},
     "output_type": "execute_result"
    }
   ],
   "source": [
    "X"
   ]
  },
  {
   "cell_type": "code",
   "execution_count": 64,
   "metadata": {
    "execution": {
     "iopub.execute_input": "2020-08-13T01:04:24.187263Z",
     "iopub.status.busy": "2020-08-13T01:04:24.186257Z",
     "iopub.status.idle": "2020-08-13T01:04:24.191596Z",
     "shell.execute_reply": "2020-08-13T01:04:24.190848Z"
    },
    "papermill": {
     "duration": 0.055348,
     "end_time": "2020-08-13T01:04:24.191722",
     "exception": false,
     "start_time": "2020-08-13T01:04:24.136374",
     "status": "completed"
    },
    "tags": []
   },
   "outputs": [
    {
     "data": {
      "text/plain": [
       "array([[ 0.87348191,  0.33942386, -0.49947002, ...,  0.75592895,\n",
       "         2.84375747, -1.35067551],\n",
       "       [ 0.87348191,  1.32992353,  0.61699237, ..., -1.32287566,\n",
       "        -0.35164743,  0.74037028],\n",
       "       [-0.31581919,  2.51852314, -0.49947002, ...,  0.75592895,\n",
       "         2.84375747, -1.35067551],\n",
       "       ...,\n",
       "       [ 0.87348191,  0.65638375, -0.49947002, ...,  0.75592895,\n",
       "        -0.35164743,  0.74037028],\n",
       "       [ 0.87348191, -0.01715602, -0.49947002, ...,  0.75592895,\n",
       "        -0.35164743,  0.74037028],\n",
       "       [ 0.87348191, -0.01715602,  0.61699237, ...,  0.75592895,\n",
       "        -0.35164743, -1.35067551]])"
      ]
     },
     "execution_count": 64,
     "metadata": {},
     "output_type": "execute_result"
    }
   ],
   "source": [
    "df_test"
   ]
  },
  {
   "cell_type": "code",
   "execution_count": 65,
   "metadata": {
    "execution": {
     "iopub.execute_input": "2020-08-13T01:04:24.284567Z",
     "iopub.status.busy": "2020-08-13T01:04:24.283693Z",
     "iopub.status.idle": "2020-08-13T01:04:24.287047Z",
     "shell.execute_reply": "2020-08-13T01:04:24.286441Z"
    },
    "papermill": {
     "duration": 0.051682,
     "end_time": "2020-08-13T01:04:24.287188",
     "exception": false,
     "start_time": "2020-08-13T01:04:24.235506",
     "status": "completed"
    },
    "tags": []
   },
   "outputs": [],
   "source": [
    "# Model Training"
   ]
  },
  {
   "cell_type": "code",
   "execution_count": 66,
   "metadata": {
    "execution": {
     "iopub.execute_input": "2020-08-13T01:04:24.387838Z",
     "iopub.status.busy": "2020-08-13T01:04:24.384940Z",
     "iopub.status.idle": "2020-08-13T01:04:24.402889Z",
     "shell.execute_reply": "2020-08-13T01:04:24.402167Z"
    },
    "papermill": {
     "duration": 0.070558,
     "end_time": "2020-08-13T01:04:24.403018",
     "exception": false,
     "start_time": "2020-08-13T01:04:24.332460",
     "status": "completed"
    },
    "tags": []
   },
   "outputs": [
    {
     "data": {
      "text/plain": [
       "LogisticRegression(random_state=10)"
      ]
     },
     "execution_count": 66,
     "metadata": {},
     "output_type": "execute_result"
    }
   ],
   "source": [
    "lin_model = LogisticRegression(random_state=10)\n",
    "lin_model.fit(X,y)"
   ]
  },
  {
   "cell_type": "code",
   "execution_count": 67,
   "metadata": {
    "execution": {
     "iopub.execute_input": "2020-08-13T01:04:24.497318Z",
     "iopub.status.busy": "2020-08-13T01:04:24.496509Z",
     "iopub.status.idle": "2020-08-13T01:04:24.500336Z",
     "shell.execute_reply": "2020-08-13T01:04:24.499474Z"
    },
    "papermill": {
     "duration": 0.053968,
     "end_time": "2020-08-13T01:04:24.500485",
     "exception": false,
     "start_time": "2020-08-13T01:04:24.446517",
     "status": "completed"
    },
    "tags": []
   },
   "outputs": [],
   "source": [
    "Survived = lin_model.predict(df_test)"
   ]
  },
  {
   "cell_type": "code",
   "execution_count": 68,
   "metadata": {
    "execution": {
     "iopub.execute_input": "2020-08-13T01:04:24.599912Z",
     "iopub.status.busy": "2020-08-13T01:04:24.598437Z",
     "iopub.status.idle": "2020-08-13T01:04:24.603146Z",
     "shell.execute_reply": "2020-08-13T01:04:24.603794Z"
    },
    "papermill": {
     "duration": 0.056969,
     "end_time": "2020-08-13T01:04:24.603975",
     "exception": false,
     "start_time": "2020-08-13T01:04:24.547006",
     "status": "completed"
    },
    "tags": []
   },
   "outputs": [
    {
     "data": {
      "text/plain": [
       "array([0, 0, 0, 0, 1, 0, 1, 0, 1, 0, 0, 0, 1, 0, 1, 1, 0, 0, 1, 1, 0, 0,\n",
       "       1, 1, 1, 0, 1, 0, 0, 0, 0, 0, 0, 0, 0, 0, 1, 1, 0, 0, 0, 0, 0, 1,\n",
       "       1, 0, 0, 0, 1, 0, 0, 0, 1, 1, 0, 0, 0, 0, 0, 1, 0, 0, 0, 1, 1, 1,\n",
       "       1, 0, 1, 1, 1, 0, 1, 1, 1, 1, 0, 1, 0, 1, 0, 0, 0, 0, 0, 0, 1, 1,\n",
       "       1, 0, 1, 0, 1, 0, 1, 0, 1, 0, 1, 0, 1, 0, 0, 0, 1, 0, 0, 0, 0, 0,\n",
       "       0, 1, 1, 1, 1, 0, 0, 1, 1, 1, 1, 0, 1, 0, 0, 1, 0, 0, 0, 0, 0, 0,\n",
       "       1, 0, 0, 0, 0, 0, 1, 0, 0, 1, 0, 0, 0, 0, 0, 0, 0, 0, 1, 0, 0, 0,\n",
       "       0, 0, 1, 1, 0, 1, 1, 0, 1, 0, 0, 1, 0, 0, 1, 1, 0, 0, 0, 0, 0, 1,\n",
       "       1, 0, 1, 1, 0, 0, 1, 0, 1, 0, 1, 0, 0, 0, 0, 0, 0, 0, 0, 0, 1, 1,\n",
       "       0, 1, 1, 0, 0, 1, 0, 1, 1, 0, 1, 0, 0, 0, 0, 0, 0, 0, 1, 0, 1, 0,\n",
       "       1, 0, 1, 0, 1, 1, 0, 1, 0, 0, 0, 1, 0, 0, 0, 0, 0, 0, 1, 1, 1, 1,\n",
       "       0, 0, 0, 0, 1, 0, 1, 1, 1, 0, 1, 0, 0, 0, 0, 0, 1, 0, 0, 0, 1, 1,\n",
       "       0, 0, 0, 0, 1, 0, 0, 0, 1, 1, 0, 1, 0, 0, 0, 0, 1, 0, 1, 1, 1, 0,\n",
       "       0, 0, 0, 0, 0, 1, 0, 0, 0, 0, 1, 0, 0, 0, 0, 0, 0, 0, 1, 1, 0, 0,\n",
       "       0, 0, 0, 0, 0, 1, 1, 1, 0, 0, 0, 0, 0, 0, 0, 0, 1, 0, 1, 0, 0, 0,\n",
       "       1, 0, 0, 1, 0, 0, 0, 0, 0, 0, 0, 0, 0, 1, 0, 1, 0, 1, 0, 1, 1, 0,\n",
       "       0, 0, 1, 0, 1, 0, 0, 0, 0, 1, 1, 0, 1, 0, 0, 1, 1, 0, 0, 1, 0, 0,\n",
       "       1, 1, 0, 0, 0, 0, 0, 0, 1, 1, 0, 1, 0, 0, 0, 0, 1, 1, 0, 0, 0, 1,\n",
       "       0, 1, 0, 0, 1, 0, 1, 1, 0, 0, 0, 0, 1, 1, 1, 1, 1, 0, 1, 0, 0, 0])"
      ]
     },
     "execution_count": 68,
     "metadata": {},
     "output_type": "execute_result"
    }
   ],
   "source": [
    "Survived"
   ]
  },
  {
   "cell_type": "code",
   "execution_count": 69,
   "metadata": {
    "execution": {
     "iopub.execute_input": "2020-08-13T01:04:24.701066Z",
     "iopub.status.busy": "2020-08-13T01:04:24.700250Z",
     "iopub.status.idle": "2020-08-13T01:04:24.708773Z",
     "shell.execute_reply": "2020-08-13T01:04:24.708065Z"
    },
    "papermill": {
     "duration": 0.060008,
     "end_time": "2020-08-13T01:04:24.708904",
     "exception": false,
     "start_time": "2020-08-13T01:04:24.648896",
     "status": "completed"
    },
    "tags": []
   },
   "outputs": [],
   "source": [
    "new_df = pd.read_csv(\"/kaggle/input/titanic/test.csv\")"
   ]
  },
  {
   "cell_type": "code",
   "execution_count": 70,
   "metadata": {
    "execution": {
     "iopub.execute_input": "2020-08-13T01:04:24.806093Z",
     "iopub.status.busy": "2020-08-13T01:04:24.805264Z",
     "iopub.status.idle": "2020-08-13T01:04:24.809019Z",
     "shell.execute_reply": "2020-08-13T01:04:24.808245Z"
    },
    "papermill": {
     "duration": 0.055713,
     "end_time": "2020-08-13T01:04:24.809143",
     "exception": false,
     "start_time": "2020-08-13T01:04:24.753430",
     "status": "completed"
    },
    "tags": []
   },
   "outputs": [],
   "source": [
    "new_df.drop([\"Pclass\",\"Name\",\"Sex\",\"Age\",\"SibSp\",\"Parch\",\"Ticket\",\"Fare\",\"Cabin\",\"Embarked\"],axis=1,inplace=True)"
   ]
  },
  {
   "cell_type": "code",
   "execution_count": 71,
   "metadata": {
    "execution": {
     "iopub.execute_input": "2020-08-13T01:04:24.905909Z",
     "iopub.status.busy": "2020-08-13T01:04:24.904920Z",
     "iopub.status.idle": "2020-08-13T01:04:24.908118Z",
     "shell.execute_reply": "2020-08-13T01:04:24.907356Z"
    },
    "papermill": {
     "duration": 0.054161,
     "end_time": "2020-08-13T01:04:24.908242",
     "exception": false,
     "start_time": "2020-08-13T01:04:24.854081",
     "status": "completed"
    },
    "tags": []
   },
   "outputs": [],
   "source": [
    "Survived = pd.DataFrame(Survived)"
   ]
  },
  {
   "cell_type": "code",
   "execution_count": 72,
   "metadata": {
    "execution": {
     "iopub.execute_input": "2020-08-13T01:04:25.009611Z",
     "iopub.status.busy": "2020-08-13T01:04:25.008082Z",
     "iopub.status.idle": "2020-08-13T01:04:25.015319Z",
     "shell.execute_reply": "2020-08-13T01:04:25.013965Z"
    },
    "papermill": {
     "duration": 0.062803,
     "end_time": "2020-08-13T01:04:25.015556",
     "exception": false,
     "start_time": "2020-08-13T01:04:24.952753",
     "status": "completed"
    },
    "tags": []
   },
   "outputs": [
    {
     "data": {
      "text/html": [
       "<div>\n",
       "<style scoped>\n",
       "    .dataframe tbody tr th:only-of-type {\n",
       "        vertical-align: middle;\n",
       "    }\n",
       "\n",
       "    .dataframe tbody tr th {\n",
       "        vertical-align: top;\n",
       "    }\n",
       "\n",
       "    .dataframe thead th {\n",
       "        text-align: right;\n",
       "    }\n",
       "</style>\n",
       "<table border=\"1\" class=\"dataframe\">\n",
       "  <thead>\n",
       "    <tr style=\"text-align: right;\">\n",
       "      <th></th>\n",
       "      <th>0</th>\n",
       "    </tr>\n",
       "  </thead>\n",
       "  <tbody>\n",
       "    <tr>\n",
       "      <th>0</th>\n",
       "      <td>0</td>\n",
       "    </tr>\n",
       "    <tr>\n",
       "      <th>1</th>\n",
       "      <td>0</td>\n",
       "    </tr>\n",
       "    <tr>\n",
       "      <th>2</th>\n",
       "      <td>0</td>\n",
       "    </tr>\n",
       "    <tr>\n",
       "      <th>3</th>\n",
       "      <td>0</td>\n",
       "    </tr>\n",
       "    <tr>\n",
       "      <th>4</th>\n",
       "      <td>1</td>\n",
       "    </tr>\n",
       "    <tr>\n",
       "      <th>...</th>\n",
       "      <td>...</td>\n",
       "    </tr>\n",
       "    <tr>\n",
       "      <th>413</th>\n",
       "      <td>0</td>\n",
       "    </tr>\n",
       "    <tr>\n",
       "      <th>414</th>\n",
       "      <td>1</td>\n",
       "    </tr>\n",
       "    <tr>\n",
       "      <th>415</th>\n",
       "      <td>0</td>\n",
       "    </tr>\n",
       "    <tr>\n",
       "      <th>416</th>\n",
       "      <td>0</td>\n",
       "    </tr>\n",
       "    <tr>\n",
       "      <th>417</th>\n",
       "      <td>0</td>\n",
       "    </tr>\n",
       "  </tbody>\n",
       "</table>\n",
       "<p>418 rows × 1 columns</p>\n",
       "</div>"
      ],
      "text/plain": [
       "     0\n",
       "0    0\n",
       "1    0\n",
       "2    0\n",
       "3    0\n",
       "4    1\n",
       "..  ..\n",
       "413  0\n",
       "414  1\n",
       "415  0\n",
       "416  0\n",
       "417  0\n",
       "\n",
       "[418 rows x 1 columns]"
      ]
     },
     "execution_count": 72,
     "metadata": {},
     "output_type": "execute_result"
    }
   ],
   "source": [
    "Survived"
   ]
  },
  {
   "cell_type": "code",
   "execution_count": 73,
   "metadata": {
    "execution": {
     "iopub.execute_input": "2020-08-13T01:04:25.113226Z",
     "iopub.status.busy": "2020-08-13T01:04:25.112260Z",
     "iopub.status.idle": "2020-08-13T01:04:25.115729Z",
     "shell.execute_reply": "2020-08-13T01:04:25.114950Z"
    },
    "papermill": {
     "duration": 0.054905,
     "end_time": "2020-08-13T01:04:25.115860",
     "exception": false,
     "start_time": "2020-08-13T01:04:25.060955",
     "status": "completed"
    },
    "tags": []
   },
   "outputs": [],
   "source": [
    "new_df = pd.concat([new_df,Survived],axis=1)"
   ]
  },
  {
   "cell_type": "code",
   "execution_count": 74,
   "metadata": {
    "execution": {
     "iopub.execute_input": "2020-08-13T01:04:25.215032Z",
     "iopub.status.busy": "2020-08-13T01:04:25.214027Z",
     "iopub.status.idle": "2020-08-13T01:04:25.218523Z",
     "shell.execute_reply": "2020-08-13T01:04:25.219060Z"
    },
    "papermill": {
     "duration": 0.057656,
     "end_time": "2020-08-13T01:04:25.219233",
     "exception": false,
     "start_time": "2020-08-13T01:04:25.161577",
     "status": "completed"
    },
    "tags": []
   },
   "outputs": [
    {
     "data": {
      "text/plain": [
       "Index(['PassengerId', 'Survived'], dtype='object')"
      ]
     },
     "execution_count": 74,
     "metadata": {},
     "output_type": "execute_result"
    }
   ],
   "source": [
    "new_df = new_df.rename(columns={0:\"Survived\"})\n",
    "new_df.columns"
   ]
  },
  {
   "cell_type": "code",
   "execution_count": 75,
   "metadata": {
    "execution": {
     "iopub.execute_input": "2020-08-13T01:04:25.314984Z",
     "iopub.status.busy": "2020-08-13T01:04:25.314085Z",
     "iopub.status.idle": "2020-08-13T01:04:25.430282Z",
     "shell.execute_reply": "2020-08-13T01:04:25.429492Z"
    },
    "papermill": {
     "duration": 0.166453,
     "end_time": "2020-08-13T01:04:25.430444",
     "exception": false,
     "start_time": "2020-08-13T01:04:25.263991",
     "status": "completed"
    },
    "tags": []
   },
   "outputs": [],
   "source": [
    "new_df.to_csv(\"titanic_submissions_1\",index=False)"
   ]
  },
  {
   "cell_type": "code",
   "execution_count": null,
   "metadata": {
    "papermill": {
     "duration": 0.045215,
     "end_time": "2020-08-13T01:04:25.521573",
     "exception": false,
     "start_time": "2020-08-13T01:04:25.476358",
     "status": "completed"
    },
    "tags": []
   },
   "outputs": [],
   "source": []
  }
 ],
 "metadata": {
  "kernelspec": {
   "display_name": "Python 3",
   "language": "python",
   "name": "python3"
  },
  "language_info": {
   "codemirror_mode": {
    "name": "ipython",
    "version": 3
   },
   "file_extension": ".py",
   "mimetype": "text/x-python",
   "name": "python",
   "nbconvert_exporter": "python",
   "pygments_lexer": "ipython3",
   "version": "3.7.6"
  },
  "papermill": {
   "duration": 17.276765,
   "end_time": "2020-08-13T01:04:25.676095",
   "environment_variables": {},
   "exception": null,
   "input_path": "__notebook__.ipynb",
   "output_path": "__notebook__.ipynb",
   "parameters": {},
   "start_time": "2020-08-13T01:04:08.399330",
   "version": "2.1.0"
  }
 },
 "nbformat": 4,
 "nbformat_minor": 4
}
