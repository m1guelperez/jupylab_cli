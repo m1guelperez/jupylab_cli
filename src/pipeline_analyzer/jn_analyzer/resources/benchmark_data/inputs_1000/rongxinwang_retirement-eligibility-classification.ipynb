{
 "cells": [
  {
   "cell_type": "code",
   "execution_count": 1,
   "metadata": {
    "_cell_guid": "b1076dfc-b9ad-4769-8c92-a6c4dae69d19",
    "_uuid": "8f2839f25d086af736a60e9eeb907d3b93b6e0e5",
    "execution": {
     "iopub.execute_input": "2020-09-28T23:10:02.190849Z",
     "iopub.status.busy": "2020-09-28T23:10:02.190129Z",
     "iopub.status.idle": "2020-09-28T23:10:02.196038Z",
     "shell.execute_reply": "2020-09-28T23:10:02.196723Z"
    },
    "papermill": {
     "duration": 0.034259,
     "end_time": "2020-09-28T23:10:02.196965",
     "exception": false,
     "start_time": "2020-09-28T23:10:02.162706",
     "status": "completed"
    },
    "tags": []
   },
   "outputs": [
    {
     "name": "stdout",
     "output_type": "stream",
     "text": [
      "/kaggle/input/bank-customer-retirement/Bank_Customer_retirement.csv\n"
     ]
    }
   ],
   "source": [
    "# This Python 3 environment comes with many helpful analytics libraries installed\n",
    "# It is defined by the kaggle/python Docker image: https://github.com/kaggle/docker-python\n",
    "# For example, here's several helpful packages to load\n",
    "\n",
    "import numpy as np # linear algebra\n",
    "import pandas as pd # data processing, CSV file I/O (e.g. pd.read_csv)\n",
    "\n",
    "# Input data files are available in the read-only \"../input/\" directory\n",
    "# For example, running this (by clicking run or pressing Shift+Enter) will list all files under the input directory\n",
    "\n",
    "import os\n",
    "for dirname, _, filenames in os.walk('/kaggle/input'):\n",
    "    for filename in filenames:\n",
    "        print(os.path.join(dirname, filename))\n",
    "\n",
    "# You can write up to 5GB to the current directory (/kaggle/working/) that gets preserved as output when you create a version using \"Save & Run All\" \n",
    "# You can also write temporary files to /kaggle/temp/, but they won't be saved outside of the current session"
   ]
  },
  {
   "cell_type": "markdown",
   "metadata": {
    "papermill": {
     "duration": 0.021687,
     "end_time": "2020-09-28T23:10:02.241066",
     "exception": false,
     "start_time": "2020-09-28T23:10:02.219379",
     "status": "completed"
    },
    "tags": []
   },
   "source": [
    "# Problem Statement"
   ]
  },
  {
   "cell_type": "markdown",
   "metadata": {
    "papermill": {
     "duration": 0.019998,
     "end_time": "2020-09-28T23:10:02.281465",
     "exception": false,
     "start_time": "2020-09-28T23:10:02.261467",
     "status": "completed"
    },
    "tags": []
   },
   "source": [
    "This notebook seeks to predict the eligibility of bank customers to retire, based on numerous user features. SVM models are used for this purpose."
   ]
  },
  {
   "cell_type": "markdown",
   "metadata": {
    "papermill": {
     "duration": 0.02015,
     "end_time": "2020-09-28T23:10:02.322002",
     "exception": false,
     "start_time": "2020-09-28T23:10:02.301852",
     "status": "completed"
    },
    "tags": []
   },
   "source": [
    "# Step 1: Import packages and datasets"
   ]
  },
  {
   "cell_type": "code",
   "execution_count": 2,
   "metadata": {
    "_cell_guid": "79c7e3d0-c299-4dcb-8224-4455121ee9b0",
    "_uuid": "d629ff2d2480ee46fbb7e2d37f6b5fab8052498a",
    "execution": {
     "iopub.execute_input": "2020-09-28T23:10:02.367533Z",
     "iopub.status.busy": "2020-09-28T23:10:02.366873Z",
     "iopub.status.idle": "2020-09-28T23:10:03.457531Z",
     "shell.execute_reply": "2020-09-28T23:10:03.456886Z"
    },
    "papermill": {
     "duration": 1.115469,
     "end_time": "2020-09-28T23:10:03.457642",
     "exception": false,
     "start_time": "2020-09-28T23:10:02.342173",
     "status": "completed"
    },
    "tags": []
   },
   "outputs": [],
   "source": [
    "#Import packages\n",
    "import pandas as pd\n",
    "import numpy as np\n",
    "import seaborn as sns\n",
    "import matplotlib.pyplot as plt"
   ]
  },
  {
   "cell_type": "code",
   "execution_count": 3,
   "metadata": {
    "execution": {
     "iopub.execute_input": "2020-09-28T23:10:03.506521Z",
     "iopub.status.busy": "2020-09-28T23:10:03.505918Z",
     "iopub.status.idle": "2020-09-28T23:10:03.533525Z",
     "shell.execute_reply": "2020-09-28T23:10:03.532934Z"
    },
    "papermill": {
     "duration": 0.054932,
     "end_time": "2020-09-28T23:10:03.533632",
     "exception": false,
     "start_time": "2020-09-28T23:10:03.478700",
     "status": "completed"
    },
    "tags": []
   },
   "outputs": [
    {
     "data": {
      "text/html": [
       "<div>\n",
       "<style scoped>\n",
       "    .dataframe tbody tr th:only-of-type {\n",
       "        vertical-align: middle;\n",
       "    }\n",
       "\n",
       "    .dataframe tbody tr th {\n",
       "        vertical-align: top;\n",
       "    }\n",
       "\n",
       "    .dataframe thead th {\n",
       "        text-align: right;\n",
       "    }\n",
       "</style>\n",
       "<table border=\"1\" class=\"dataframe\">\n",
       "  <thead>\n",
       "    <tr style=\"text-align: right;\">\n",
       "      <th></th>\n",
       "      <th>Customer ID</th>\n",
       "      <th>Age</th>\n",
       "      <th>401K Savings</th>\n",
       "      <th>Retire</th>\n",
       "    </tr>\n",
       "  </thead>\n",
       "  <tbody>\n",
       "    <tr>\n",
       "      <th>0</th>\n",
       "      <td>0</td>\n",
       "      <td>39.180417</td>\n",
       "      <td>322349.8740</td>\n",
       "      <td>0</td>\n",
       "    </tr>\n",
       "    <tr>\n",
       "      <th>1</th>\n",
       "      <td>1</td>\n",
       "      <td>56.101686</td>\n",
       "      <td>768671.5740</td>\n",
       "      <td>1</td>\n",
       "    </tr>\n",
       "    <tr>\n",
       "      <th>2</th>\n",
       "      <td>2</td>\n",
       "      <td>57.023043</td>\n",
       "      <td>821505.4718</td>\n",
       "      <td>1</td>\n",
       "    </tr>\n",
       "    <tr>\n",
       "      <th>3</th>\n",
       "      <td>3</td>\n",
       "      <td>43.711358</td>\n",
       "      <td>494187.4850</td>\n",
       "      <td>0</td>\n",
       "    </tr>\n",
       "    <tr>\n",
       "      <th>4</th>\n",
       "      <td>4</td>\n",
       "      <td>54.728823</td>\n",
       "      <td>691435.7723</td>\n",
       "      <td>1</td>\n",
       "    </tr>\n",
       "  </tbody>\n",
       "</table>\n",
       "</div>"
      ],
      "text/plain": [
       "   Customer ID        Age  401K Savings  Retire\n",
       "0            0  39.180417   322349.8740       0\n",
       "1            1  56.101686   768671.5740       1\n",
       "2            2  57.023043   821505.4718       1\n",
       "3            3  43.711358   494187.4850       0\n",
       "4            4  54.728823   691435.7723       1"
      ]
     },
     "execution_count": 3,
     "metadata": {},
     "output_type": "execute_result"
    }
   ],
   "source": [
    "data = pd.read_csv('../input/bank-customer-retirement/Bank_Customer_retirement.csv')\n",
    "data.head()"
   ]
  },
  {
   "cell_type": "code",
   "execution_count": 4,
   "metadata": {
    "execution": {
     "iopub.execute_input": "2020-09-28T23:10:03.586092Z",
     "iopub.status.busy": "2020-09-28T23:10:03.585139Z",
     "iopub.status.idle": "2020-09-28T23:10:03.588996Z",
     "shell.execute_reply": "2020-09-28T23:10:03.588511Z"
    },
    "papermill": {
     "duration": 0.034571,
     "end_time": "2020-09-28T23:10:03.589114",
     "exception": false,
     "start_time": "2020-09-28T23:10:03.554543",
     "status": "completed"
    },
    "tags": []
   },
   "outputs": [
    {
     "data": {
      "text/html": [
       "<div>\n",
       "<style scoped>\n",
       "    .dataframe tbody tr th:only-of-type {\n",
       "        vertical-align: middle;\n",
       "    }\n",
       "\n",
       "    .dataframe tbody tr th {\n",
       "        vertical-align: top;\n",
       "    }\n",
       "\n",
       "    .dataframe thead th {\n",
       "        text-align: right;\n",
       "    }\n",
       "</style>\n",
       "<table border=\"1\" class=\"dataframe\">\n",
       "  <thead>\n",
       "    <tr style=\"text-align: right;\">\n",
       "      <th></th>\n",
       "      <th>Customer ID</th>\n",
       "      <th>Age</th>\n",
       "      <th>401K Savings</th>\n",
       "      <th>Retire</th>\n",
       "    </tr>\n",
       "  </thead>\n",
       "  <tbody>\n",
       "    <tr>\n",
       "      <th>495</th>\n",
       "      <td>495</td>\n",
       "      <td>46.678128</td>\n",
       "      <td>704243.0776</td>\n",
       "      <td>1</td>\n",
       "    </tr>\n",
       "    <tr>\n",
       "      <th>496</th>\n",
       "      <td>496</td>\n",
       "      <td>43.545007</td>\n",
       "      <td>483175.9998</td>\n",
       "      <td>0</td>\n",
       "    </tr>\n",
       "    <tr>\n",
       "      <th>497</th>\n",
       "      <td>497</td>\n",
       "      <td>46.476724</td>\n",
       "      <td>354919.1987</td>\n",
       "      <td>0</td>\n",
       "    </tr>\n",
       "    <tr>\n",
       "      <th>498</th>\n",
       "      <td>498</td>\n",
       "      <td>50.903631</td>\n",
       "      <td>639789.9219</td>\n",
       "      <td>1</td>\n",
       "    </tr>\n",
       "    <tr>\n",
       "      <th>499</th>\n",
       "      <td>499</td>\n",
       "      <td>38.590586</td>\n",
       "      <td>491310.0096</td>\n",
       "      <td>0</td>\n",
       "    </tr>\n",
       "  </tbody>\n",
       "</table>\n",
       "</div>"
      ],
      "text/plain": [
       "     Customer ID        Age  401K Savings  Retire\n",
       "495          495  46.678128   704243.0776       1\n",
       "496          496  43.545007   483175.9998       0\n",
       "497          497  46.476724   354919.1987       0\n",
       "498          498  50.903631   639789.9219       1\n",
       "499          499  38.590586   491310.0096       0"
      ]
     },
     "execution_count": 4,
     "metadata": {},
     "output_type": "execute_result"
    }
   ],
   "source": [
    "data.tail()"
   ]
  },
  {
   "cell_type": "code",
   "execution_count": 5,
   "metadata": {
    "execution": {
     "iopub.execute_input": "2020-09-28T23:10:03.649383Z",
     "iopub.status.busy": "2020-09-28T23:10:03.648725Z",
     "iopub.status.idle": "2020-09-28T23:10:03.652851Z",
     "shell.execute_reply": "2020-09-28T23:10:03.652277Z"
    },
    "papermill": {
     "duration": 0.0425,
     "end_time": "2020-09-28T23:10:03.652971",
     "exception": false,
     "start_time": "2020-09-28T23:10:03.610471",
     "status": "completed"
    },
    "tags": []
   },
   "outputs": [
    {
     "name": "stdout",
     "output_type": "stream",
     "text": [
      "<class 'pandas.core.frame.DataFrame'>\n",
      "RangeIndex: 500 entries, 0 to 499\n",
      "Data columns (total 4 columns):\n",
      " #   Column        Non-Null Count  Dtype  \n",
      "---  ------        --------------  -----  \n",
      " 0   Customer ID   500 non-null    int64  \n",
      " 1   Age           500 non-null    float64\n",
      " 2   401K Savings  500 non-null    float64\n",
      " 3   Retire        500 non-null    int64  \n",
      "dtypes: float64(2), int64(2)\n",
      "memory usage: 15.8 KB\n"
     ]
    }
   ],
   "source": [
    "data.info()"
   ]
  },
  {
   "cell_type": "markdown",
   "metadata": {
    "papermill": {
     "duration": 0.021457,
     "end_time": "2020-09-28T23:10:03.696453",
     "exception": false,
     "start_time": "2020-09-28T23:10:03.674996",
     "status": "completed"
    },
    "tags": []
   },
   "source": [
    "There is no missing values in the dataset. All variables are in the correct format."
   ]
  },
  {
   "cell_type": "markdown",
   "metadata": {
    "papermill": {
     "duration": 0.02188,
     "end_time": "2020-09-28T23:10:03.740126",
     "exception": false,
     "start_time": "2020-09-28T23:10:03.718246",
     "status": "completed"
    },
    "tags": []
   },
   "source": [
    "# Step 2: Exploratory Data Analysis"
   ]
  },
  {
   "cell_type": "markdown",
   "metadata": {
    "papermill": {
     "duration": 0.021475,
     "end_time": "2020-09-28T23:10:03.783428",
     "exception": false,
     "start_time": "2020-09-28T23:10:03.761953",
     "status": "completed"
    },
    "tags": []
   },
   "source": [
    "Answer the following questions:\n",
    "* How many customers are retired and how many are not?\n",
    "* What is the distribution of age (by retirement)?\n",
    "* What is the distribution of 401K Savings (by retirement)?"
   ]
  },
  {
   "cell_type": "code",
   "execution_count": 6,
   "metadata": {
    "execution": {
     "iopub.execute_input": "2020-09-28T23:10:03.833813Z",
     "iopub.status.busy": "2020-09-28T23:10:03.833023Z",
     "iopub.status.idle": "2020-09-28T23:10:03.860246Z",
     "shell.execute_reply": "2020-09-28T23:10:03.859664Z"
    },
    "papermill": {
     "duration": 0.05528,
     "end_time": "2020-09-28T23:10:03.860358",
     "exception": false,
     "start_time": "2020-09-28T23:10:03.805078",
     "status": "completed"
    },
    "tags": []
   },
   "outputs": [
    {
     "name": "stdout",
     "output_type": "stream",
     "text": [
      "The total number of customers in this dataset is:  500\n",
      "Out of those customers, the number of retired customers is:  250\n",
      "Out of those customers, the number of not retired customers is:  250\n"
     ]
    }
   ],
   "source": [
    "#Retirement\n",
    "print(\"The total number of customers in this dataset is: \", len(data))\n",
    "print(\"Out of those customers, the number of retired customers is: \", len(data[data['Retire']==1]))\n",
    "print(\"Out of those customers, the number of not retired customers is: \", len(data[data['Retire']==0]))"
   ]
  },
  {
   "cell_type": "markdown",
   "metadata": {
    "papermill": {
     "duration": 0.022,
     "end_time": "2020-09-28T23:10:03.905044",
     "exception": false,
     "start_time": "2020-09-28T23:10:03.883044",
     "status": "completed"
    },
    "tags": []
   },
   "source": [
    "The dataset is very balanced between retired and non-retired customers."
   ]
  },
  {
   "cell_type": "code",
   "execution_count": 7,
   "metadata": {
    "execution": {
     "iopub.execute_input": "2020-09-28T23:10:03.956698Z",
     "iopub.status.busy": "2020-09-28T23:10:03.956049Z",
     "iopub.status.idle": "2020-09-28T23:10:04.246006Z",
     "shell.execute_reply": "2020-09-28T23:10:04.245322Z"
    },
    "papermill": {
     "duration": 0.318724,
     "end_time": "2020-09-28T23:10:04.246127",
     "exception": false,
     "start_time": "2020-09-28T23:10:03.927403",
     "status": "completed"
    },
    "tags": []
   },
   "outputs": [
    {
     "data": {
      "image/png": "[encoded data removed]",
      "text/plain": [
       "<Figure size 432x288 with 1 Axes>"
      ]
     },
     "metadata": {
      "needs_background": "light"
     },
     "output_type": "display_data"
    }
   ],
   "source": [
    "#Distribution of age\n",
    "sns.distplot(data[data['Retire']==1]['Age'], label = 'Retire == 1')\n",
    "sns.distplot(data[data['Retire']==0]['Age'], label = 'Retire == 0')\n",
    "plt.legend()\n",
    "plt.show()"
   ]
  },
  {
   "cell_type": "markdown",
   "metadata": {
    "papermill": {
     "duration": 0.025699,
     "end_time": "2020-09-28T23:10:04.296727",
     "exception": false,
     "start_time": "2020-09-28T23:10:04.271028",
     "status": "completed"
    },
    "tags": []
   },
   "source": [
    "Intuitively, retired customers on average are older than non-retired customers. Most retired customers are in the 50-58 interval."
   ]
  },
  {
   "cell_type": "code",
   "execution_count": 8,
   "metadata": {
    "execution": {
     "iopub.execute_input": "2020-09-28T23:10:04.355624Z",
     "iopub.status.busy": "2020-09-28T23:10:04.351669Z",
     "iopub.status.idle": "2020-09-28T23:10:04.579932Z",
     "shell.execute_reply": "2020-09-28T23:10:04.579294Z"
    },
    "papermill": {
     "duration": 0.259789,
     "end_time": "2020-09-28T23:10:04.580046",
     "exception": false,
     "start_time": "2020-09-28T23:10:04.320257",
     "status": "completed"
    },
    "tags": []
   },
   "outputs": [
    {
     "data": {
      "image/png": "[encoded data removed]",
      "text/plain": [
       "<Figure size 432x288 with 1 Axes>"
      ]
     },
     "metadata": {
      "needs_background": "light"
     },
     "output_type": "display_data"
    }
   ],
   "source": [
    "#Distribution of 401k savings\n",
    "sns.distplot(data[data['Retire']==1]['401K Savings'], label = 'Retire == 1')\n",
    "sns.distplot(data[data['Retire']==0]['401K Savings'], label = 'Retire == 0')\n",
    "plt.legend()\n",
    "plt.show()"
   ]
  },
  {
   "cell_type": "markdown",
   "metadata": {
    "papermill": {
     "duration": 0.024367,
     "end_time": "2020-09-28T23:10:04.629183",
     "exception": false,
     "start_time": "2020-09-28T23:10:04.604816",
     "status": "completed"
    },
    "tags": []
   },
   "source": [
    "Intuitively, on average retired customers have higher savings than non-retired customers."
   ]
  },
  {
   "cell_type": "code",
   "execution_count": 9,
   "metadata": {
    "execution": {
     "iopub.execute_input": "2020-09-28T23:10:04.688319Z",
     "iopub.status.busy": "2020-09-28T23:10:04.687350Z",
     "iopub.status.idle": "2020-09-28T23:10:04.901255Z",
     "shell.execute_reply": "2020-09-28T23:10:04.900683Z"
    },
    "papermill": {
     "duration": 0.24745,
     "end_time": "2020-09-28T23:10:04.901368",
     "exception": false,
     "start_time": "2020-09-28T23:10:04.653918",
     "status": "completed"
    },
    "tags": []
   },
   "outputs": [
    {
     "data": {
      "text/plain": [
       "<matplotlib.axes._subplots.AxesSubplot at 0x7f27a1630450>"
      ]
     },
     "execution_count": 9,
     "metadata": {},
     "output_type": "execute_result"
    },
    {
     "data": {
      "image/png": "[encoded data removed]",
      "text/plain": [
       "<Figure size 432x288 with 1 Axes>"
      ]
     },
     "metadata": {
      "needs_background": "light"
     },
     "output_type": "display_data"
    }
   ],
   "source": [
    "#Scatterplot\n",
    "sns.scatterplot(data = data, x = '401K Savings', y = 'Age', hue = 'Retire')"
   ]
  },
  {
   "cell_type": "markdown",
   "metadata": {
    "papermill": {
     "duration": 0.026001,
     "end_time": "2020-09-28T23:10:04.953700",
     "exception": false,
     "start_time": "2020-09-28T23:10:04.927699",
     "status": "completed"
    },
    "tags": []
   },
   "source": [
    "Support Vector Machine seems to be a great classifier based on the scatterplot."
   ]
  },
  {
   "cell_type": "markdown",
   "metadata": {
    "papermill": {
     "duration": 0.025829,
     "end_time": "2020-09-28T23:10:05.005805",
     "exception": false,
     "start_time": "2020-09-28T23:10:04.979976",
     "status": "completed"
    },
    "tags": []
   },
   "source": [
    "# Step 3: Data Cleaning and Model Training"
   ]
  },
  {
   "cell_type": "markdown",
   "metadata": {
    "papermill": {
     "duration": 0.02588,
     "end_time": "2020-09-28T23:10:05.058987",
     "exception": false,
     "start_time": "2020-09-28T23:10:05.033107",
     "status": "completed"
    },
    "tags": []
   },
   "source": [
    "Previously we've seen that this dataset does not have missing values. The applicable data cleaning steps include:\n",
    "* Normalizing the variables, as 401K Savings and Age are on very different scales\n",
    "* Drop useless columns, e.g. Customer ID\n",
    "* Separate dataset into dependent and independent variables"
   ]
  },
  {
   "cell_type": "code",
   "execution_count": 10,
   "metadata": {
    "execution": {
     "iopub.execute_input": "2020-09-28T23:10:05.122911Z",
     "iopub.status.busy": "2020-09-28T23:10:05.122116Z",
     "iopub.status.idle": "2020-09-28T23:10:05.126494Z",
     "shell.execute_reply": "2020-09-28T23:10:05.125970Z"
    },
    "papermill": {
     "duration": 0.041455,
     "end_time": "2020-09-28T23:10:05.126605",
     "exception": false,
     "start_time": "2020-09-28T23:10:05.085150",
     "status": "completed"
    },
    "tags": []
   },
   "outputs": [
    {
     "data": {
      "text/html": [
       "<div>\n",
       "<style scoped>\n",
       "    .dataframe tbody tr th:only-of-type {\n",
       "        vertical-align: middle;\n",
       "    }\n",
       "\n",
       "    .dataframe tbody tr th {\n",
       "        vertical-align: top;\n",
       "    }\n",
       "\n",
       "    .dataframe thead th {\n",
       "        text-align: right;\n",
       "    }\n",
       "</style>\n",
       "<table border=\"1\" class=\"dataframe\">\n",
       "  <thead>\n",
       "    <tr style=\"text-align: right;\">\n",
       "      <th></th>\n",
       "      <th>Age</th>\n",
       "      <th>401K Savings</th>\n",
       "      <th>Retire</th>\n",
       "    </tr>\n",
       "  </thead>\n",
       "  <tbody>\n",
       "    <tr>\n",
       "      <th>0</th>\n",
       "      <td>39.180417</td>\n",
       "      <td>322349.8740</td>\n",
       "      <td>0</td>\n",
       "    </tr>\n",
       "    <tr>\n",
       "      <th>1</th>\n",
       "      <td>56.101686</td>\n",
       "      <td>768671.5740</td>\n",
       "      <td>1</td>\n",
       "    </tr>\n",
       "    <tr>\n",
       "      <th>2</th>\n",
       "      <td>57.023043</td>\n",
       "      <td>821505.4718</td>\n",
       "      <td>1</td>\n",
       "    </tr>\n",
       "    <tr>\n",
       "      <th>3</th>\n",
       "      <td>43.711358</td>\n",
       "      <td>494187.4850</td>\n",
       "      <td>0</td>\n",
       "    </tr>\n",
       "    <tr>\n",
       "      <th>4</th>\n",
       "      <td>54.728823</td>\n",
       "      <td>691435.7723</td>\n",
       "      <td>1</td>\n",
       "    </tr>\n",
       "  </tbody>\n",
       "</table>\n",
       "</div>"
      ],
      "text/plain": [
       "         Age  401K Savings  Retire\n",
       "0  39.180417   322349.8740       0\n",
       "1  56.101686   768671.5740       1\n",
       "2  57.023043   821505.4718       1\n",
       "3  43.711358   494187.4850       0\n",
       "4  54.728823   691435.7723       1"
      ]
     },
     "execution_count": 10,
     "metadata": {},
     "output_type": "execute_result"
    }
   ],
   "source": [
    "#Drop customer ID\n",
    "data = data.drop(['Customer ID'], axis = 1)\n",
    "data.head()"
   ]
  },
  {
   "cell_type": "code",
   "execution_count": 11,
   "metadata": {
    "execution": {
     "iopub.execute_input": "2020-09-28T23:10:05.187658Z",
     "iopub.status.busy": "2020-09-28T23:10:05.186705Z",
     "iopub.status.idle": "2020-09-28T23:10:05.189503Z",
     "shell.execute_reply": "2020-09-28T23:10:05.190009Z"
    },
    "papermill": {
     "duration": 0.036369,
     "end_time": "2020-09-28T23:10:05.190169",
     "exception": false,
     "start_time": "2020-09-28T23:10:05.153800",
     "status": "completed"
    },
    "tags": []
   },
   "outputs": [],
   "source": [
    "#Split into X and y\n",
    "X = data.drop(['Retire'], axis = 1)\n",
    "y = data['Retire']"
   ]
  },
  {
   "cell_type": "code",
   "execution_count": 12,
   "metadata": {
    "execution": {
     "iopub.execute_input": "2020-09-28T23:10:05.254104Z",
     "iopub.status.busy": "2020-09-28T23:10:05.253113Z",
     "iopub.status.idle": "2020-09-28T23:10:05.255954Z",
     "shell.execute_reply": "2020-09-28T23:10:05.255222Z"
    },
    "papermill": {
     "duration": 0.03808,
     "end_time": "2020-09-28T23:10:05.256073",
     "exception": false,
     "start_time": "2020-09-28T23:10:05.217993",
     "status": "completed"
    },
    "tags": []
   },
   "outputs": [],
   "source": [
    "#Normalize X\n",
    "X_min = X.min()\n",
    "X_range = (X - X_min).max()\n",
    "X_scaled = (X - X_min)/X_range"
   ]
  },
  {
   "cell_type": "code",
   "execution_count": 13,
   "metadata": {
    "execution": {
     "iopub.execute_input": "2020-09-28T23:10:05.325864Z",
     "iopub.status.busy": "2020-09-28T23:10:05.319270Z",
     "iopub.status.idle": "2020-09-28T23:10:05.467197Z",
     "shell.execute_reply": "2020-09-28T23:10:05.467657Z"
    },
    "papermill": {
     "duration": 0.183747,
     "end_time": "2020-09-28T23:10:05.467824",
     "exception": false,
     "start_time": "2020-09-28T23:10:05.284077",
     "status": "completed"
    },
    "tags": []
   },
   "outputs": [
    {
     "data": {
      "text/plain": [
       "<matplotlib.axes._subplots.AxesSubplot at 0x7f27a150ef90>"
      ]
     },
     "execution_count": 13,
     "metadata": {},
     "output_type": "execute_result"
    },
    {
     "data": {
      "image/png": "[encoded data removed]",
      "text/plain": [
       "<Figure size 432x288 with 1 Axes>"
      ]
     },
     "metadata": {
      "needs_background": "light"
     },
     "output_type": "display_data"
    }
   ],
   "source": [
    "#Inspect normalization\n",
    "sns.scatterplot(data = X, x = 'Age', y = '401K Savings')"
   ]
  },
  {
   "cell_type": "code",
   "execution_count": 14,
   "metadata": {
    "execution": {
     "iopub.execute_input": "2020-09-28T23:10:05.615534Z",
     "iopub.status.busy": "2020-09-28T23:10:05.538183Z",
     "iopub.status.idle": "2020-09-28T23:10:05.761300Z",
     "shell.execute_reply": "2020-09-28T23:10:05.760670Z"
    },
    "papermill": {
     "duration": 0.264353,
     "end_time": "2020-09-28T23:10:05.761409",
     "exception": false,
     "start_time": "2020-09-28T23:10:05.497056",
     "status": "completed"
    },
    "tags": []
   },
   "outputs": [
    {
     "data": {
      "text/plain": [
       "<matplotlib.axes._subplots.AxesSubplot at 0x7f27a14806d0>"
      ]
     },
     "execution_count": 14,
     "metadata": {},
     "output_type": "execute_result"
    },
    {
     "data": {
      "image/png": "[encoded data removed]",
      "text/plain": [
       "<Figure size 432x288 with 1 Axes>"
      ]
     },
     "metadata": {
      "needs_background": "light"
     },
     "output_type": "display_data"
    }
   ],
   "source": [
    "sns.scatterplot(data = X_scaled, x = 'Age', y = '401K Savings')"
   ]
  },
  {
   "cell_type": "code",
   "execution_count": 15,
   "metadata": {
    "execution": {
     "iopub.execute_input": "2020-09-28T23:10:05.828057Z",
     "iopub.status.busy": "2020-09-28T23:10:05.827265Z",
     "iopub.status.idle": "2020-09-28T23:10:05.967515Z",
     "shell.execute_reply": "2020-09-28T23:10:05.966874Z"
    },
    "papermill": {
     "duration": 0.175273,
     "end_time": "2020-09-28T23:10:05.967622",
     "exception": false,
     "start_time": "2020-09-28T23:10:05.792349",
     "status": "completed"
    },
    "tags": []
   },
   "outputs": [],
   "source": [
    "#Train test split\n",
    "from sklearn.model_selection import train_test_split\n",
    "X_train, X_test, y_train, y_test = train_test_split(X_scaled, y, test_size = 0.25, random_state = 42)"
   ]
  },
  {
   "cell_type": "code",
   "execution_count": 16,
   "metadata": {
    "execution": {
     "iopub.execute_input": "2020-09-28T23:10:06.032962Z",
     "iopub.status.busy": "2020-09-28T23:10:06.032204Z",
     "iopub.status.idle": "2020-09-28T23:10:06.135007Z",
     "shell.execute_reply": "2020-09-28T23:10:06.134349Z"
    },
    "papermill": {
     "duration": 0.13717,
     "end_time": "2020-09-28T23:10:06.135118",
     "exception": false,
     "start_time": "2020-09-28T23:10:05.997948",
     "status": "completed"
    },
    "tags": []
   },
   "outputs": [
    {
     "data": {
      "text/plain": [
       "SVC()"
      ]
     },
     "execution_count": 16,
     "metadata": {},
     "output_type": "execute_result"
    }
   ],
   "source": [
    "#Fit model\n",
    "from sklearn.svm import SVC\n",
    "svc_model = SVC()\n",
    "svc_model.fit(X_train, y_train)"
   ]
  },
  {
   "cell_type": "code",
   "execution_count": 17,
   "metadata": {
    "execution": {
     "iopub.execute_input": "2020-09-28T23:10:06.203215Z",
     "iopub.status.busy": "2020-09-28T23:10:06.202583Z",
     "iopub.status.idle": "2020-09-28T23:10:06.211790Z",
     "shell.execute_reply": "2020-09-28T23:10:06.211204Z"
    },
    "papermill": {
     "duration": 0.046293,
     "end_time": "2020-09-28T23:10:06.211903",
     "exception": false,
     "start_time": "2020-09-28T23:10:06.165610",
     "status": "completed"
    },
    "tags": []
   },
   "outputs": [
    {
     "name": "stdout",
     "output_type": "stream",
     "text": [
      "              precision    recall  f1-score   support\n",
      "\n",
      "           0       0.96      0.98      0.97        55\n",
      "           1       0.99      0.97      0.98        70\n",
      "\n",
      "    accuracy                           0.98       125\n",
      "   macro avg       0.97      0.98      0.98       125\n",
      "weighted avg       0.98      0.98      0.98       125\n",
      "\n"
     ]
    }
   ],
   "source": [
    "#Evaluate model\n",
    "y_pred = svc_model.predict(X_test)\n",
    "from sklearn.metrics import classification_report, confusion_matrix\n",
    "print(classification_report(y_test, y_pred))"
   ]
  },
  {
   "cell_type": "code",
   "execution_count": 18,
   "metadata": {
    "execution": {
     "iopub.execute_input": "2020-09-28T23:10:06.288214Z",
     "iopub.status.busy": "2020-09-28T23:10:06.286649Z",
     "iopub.status.idle": "2020-09-28T23:10:06.444863Z",
     "shell.execute_reply": "2020-09-28T23:10:06.444304Z"
    },
    "papermill": {
     "duration": 0.201591,
     "end_time": "2020-09-28T23:10:06.444984",
     "exception": false,
     "start_time": "2020-09-28T23:10:06.243393",
     "status": "completed"
    },
    "tags": []
   },
   "outputs": [
    {
     "data": {
      "text/plain": [
       "Text(33.0, 0.5, 'Predicted Value')"
      ]
     },
     "execution_count": 18,
     "metadata": {},
     "output_type": "execute_result"
    },
    {
     "data": {
      "image/png": "[encoded data removed]",
      "text/plain": [
       "<Figure size 432x288 with 2 Axes>"
      ]
     },
     "metadata": {
      "needs_background": "light"
     },
     "output_type": "display_data"
    }
   ],
   "source": [
    "sns.heatmap(confusion_matrix(y_test, y_pred), annot = True, fmt = 'd')\n",
    "plt.xlabel('Actual Value')\n",
    "plt.ylabel('Predicted Value')"
   ]
  },
  {
   "cell_type": "markdown",
   "metadata": {
    "papermill": {
     "duration": 0.031652,
     "end_time": "2020-09-28T23:10:06.508812",
     "exception": false,
     "start_time": "2020-09-28T23:10:06.477160",
     "status": "completed"
    },
    "tags": []
   },
   "source": [
    "The model accuracy is ~97%. We can try to improve the results further using GridSearchCV."
   ]
  },
  {
   "cell_type": "markdown",
   "metadata": {
    "papermill": {
     "duration": 0.031565,
     "end_time": "2020-09-28T23:10:06.572397",
     "exception": false,
     "start_time": "2020-09-28T23:10:06.540832",
     "status": "completed"
    },
    "tags": []
   },
   "source": [
    "# Step 4: Model Improvement Using Grid Search"
   ]
  },
  {
   "cell_type": "code",
   "execution_count": 19,
   "metadata": {
    "execution": {
     "iopub.execute_input": "2020-09-28T23:10:06.641232Z",
     "iopub.status.busy": "2020-09-28T23:10:06.640276Z",
     "iopub.status.idle": "2020-09-28T23:10:06.643216Z",
     "shell.execute_reply": "2020-09-28T23:10:06.642697Z"
    },
    "papermill": {
     "duration": 0.039017,
     "end_time": "2020-09-28T23:10:06.643338",
     "exception": false,
     "start_time": "2020-09-28T23:10:06.604321",
     "status": "completed"
    },
    "tags": []
   },
   "outputs": [],
   "source": [
    "from sklearn.model_selection import GridSearchCV"
   ]
  },
  {
   "cell_type": "code",
   "execution_count": 20,
   "metadata": {
    "execution": {
     "iopub.execute_input": "2020-09-28T23:10:06.728367Z",
     "iopub.status.busy": "2020-09-28T23:10:06.727449Z",
     "iopub.status.idle": "2020-09-28T23:10:06.730725Z",
     "shell.execute_reply": "2020-09-28T23:10:06.731351Z"
    },
    "papermill": {
     "duration": 0.051921,
     "end_time": "2020-09-28T23:10:06.731490",
     "exception": false,
     "start_time": "2020-09-28T23:10:06.679569",
     "status": "completed"
    },
    "tags": []
   },
   "outputs": [],
   "source": [
    "#specify parameters and instantiate grid search cv\n",
    "params = {'C': [0.1, 1, 10, 100],\n",
    "         'gamma': [0.1, 1, 10, 100],\n",
    "         'kernel': ['linear', 'rbf']}\n",
    "gs = GridSearchCV(SVC(), params)"
   ]
  },
  {
   "cell_type": "code",
   "execution_count": 21,
   "metadata": {
    "execution": {
     "iopub.execute_input": "2020-09-28T23:10:06.816060Z",
     "iopub.status.busy": "2020-09-28T23:10:06.815025Z",
     "iopub.status.idle": "2020-09-28T23:10:07.753151Z",
     "shell.execute_reply": "2020-09-28T23:10:07.752554Z"
    },
    "papermill": {
     "duration": 0.98107,
     "end_time": "2020-09-28T23:10:07.753262",
     "exception": false,
     "start_time": "2020-09-28T23:10:06.772192",
     "status": "completed"
    },
    "tags": []
   },
   "outputs": [
    {
     "data": {
      "text/plain": [
       "GridSearchCV(estimator=SVC(),\n",
       "             param_grid={'C': [0.1, 1, 10, 100], 'gamma': [0.1, 1, 10, 100],\n",
       "                         'kernel': ['linear', 'rbf']})"
      ]
     },
     "execution_count": 21,
     "metadata": {},
     "output_type": "execute_result"
    }
   ],
   "source": [
    "#fit gs\n",
    "gs.fit(X_train, y_train)"
   ]
  },
  {
   "cell_type": "code",
   "execution_count": 22,
   "metadata": {
    "execution": {
     "iopub.execute_input": "2020-09-28T23:10:07.823832Z",
     "iopub.status.busy": "2020-09-28T23:10:07.823163Z",
     "iopub.status.idle": "2020-09-28T23:10:07.826864Z",
     "shell.execute_reply": "2020-09-28T23:10:07.826235Z"
    },
    "papermill": {
     "duration": 0.040796,
     "end_time": "2020-09-28T23:10:07.826976",
     "exception": false,
     "start_time": "2020-09-28T23:10:07.786180",
     "status": "completed"
    },
    "tags": []
   },
   "outputs": [
    {
     "data": {
      "text/plain": [
       "{'C': 0.1, 'gamma': 1, 'kernel': 'rbf'}"
      ]
     },
     "execution_count": 22,
     "metadata": {},
     "output_type": "execute_result"
    }
   ],
   "source": [
    "gs.best_params_"
   ]
  },
  {
   "cell_type": "code",
   "execution_count": 23,
   "metadata": {
    "execution": {
     "iopub.execute_input": "2020-09-28T23:10:07.898927Z",
     "iopub.status.busy": "2020-09-28T23:10:07.898263Z",
     "iopub.status.idle": "2020-09-28T23:10:07.900588Z",
     "shell.execute_reply": "2020-09-28T23:10:07.901122Z"
    },
    "papermill": {
     "duration": 0.041087,
     "end_time": "2020-09-28T23:10:07.901276",
     "exception": false,
     "start_time": "2020-09-28T23:10:07.860189",
     "status": "completed"
    },
    "tags": []
   },
   "outputs": [],
   "source": [
    "#move the range of C leftwards to check validity\n",
    "params_1 = {'C': [0.001, 0.01, 0.1, 1],\n",
    "         'gamma': [0.1, 1, 10, 100],\n",
    "         'kernel': ['linear', 'rbf']}\n",
    "gs_1 = GridSearchCV(SVC(), params_1)"
   ]
  },
  {
   "cell_type": "code",
   "execution_count": 24,
   "metadata": {
    "execution": {
     "iopub.execute_input": "2020-09-28T23:10:07.973473Z",
     "iopub.status.busy": "2020-09-28T23:10:07.972843Z",
     "iopub.status.idle": "2020-09-28T23:10:08.981593Z",
     "shell.execute_reply": "2020-09-28T23:10:08.982058Z"
    },
    "papermill": {
     "duration": 1.047654,
     "end_time": "2020-09-28T23:10:08.982239",
     "exception": false,
     "start_time": "2020-09-28T23:10:07.934585",
     "status": "completed"
    },
    "tags": []
   },
   "outputs": [
    {
     "data": {
      "text/plain": [
       "{'C': 0.1, 'gamma': 1, 'kernel': 'rbf'}"
      ]
     },
     "execution_count": 24,
     "metadata": {},
     "output_type": "execute_result"
    }
   ],
   "source": [
    "gs_1.fit(X_train, y_train)\n",
    "gs_1.best_params_"
   ]
  },
  {
   "cell_type": "markdown",
   "metadata": {
    "papermill": {
     "duration": 0.035259,
     "end_time": "2020-09-28T23:10:09.052354",
     "exception": false,
     "start_time": "2020-09-28T23:10:09.017095",
     "status": "completed"
    },
    "tags": []
   },
   "source": [
    "The best selection of parameters will be {'C': 0.1, 'gamma': 1, 'kernel': 'rbf'}"
   ]
  },
  {
   "cell_type": "code",
   "execution_count": 25,
   "metadata": {
    "execution": {
     "iopub.execute_input": "2020-09-28T23:10:09.125457Z",
     "iopub.status.busy": "2020-09-28T23:10:09.124618Z",
     "iopub.status.idle": "2020-09-28T23:10:09.128212Z",
     "shell.execute_reply": "2020-09-28T23:10:09.128686Z"
    },
    "papermill": {
     "duration": 0.043347,
     "end_time": "2020-09-28T23:10:09.128873",
     "exception": false,
     "start_time": "2020-09-28T23:10:09.085526",
     "status": "completed"
    },
    "tags": []
   },
   "outputs": [],
   "source": [
    "#predict based on gs\n",
    "y_pred_gs1= gs_1.predict(X_test)"
   ]
  },
  {
   "cell_type": "code",
   "execution_count": 26,
   "metadata": {
    "execution": {
     "iopub.execute_input": "2020-09-28T23:10:09.203556Z",
     "iopub.status.busy": "2020-09-28T23:10:09.202931Z",
     "iopub.status.idle": "2020-09-28T23:10:09.210218Z",
     "shell.execute_reply": "2020-09-28T23:10:09.209657Z"
    },
    "papermill": {
     "duration": 0.046934,
     "end_time": "2020-09-28T23:10:09.210330",
     "exception": false,
     "start_time": "2020-09-28T23:10:09.163396",
     "status": "completed"
    },
    "tags": []
   },
   "outputs": [
    {
     "name": "stdout",
     "output_type": "stream",
     "text": [
      "              precision    recall  f1-score   support\n",
      "\n",
      "           0       0.96      0.98      0.97        55\n",
      "           1       0.99      0.97      0.98        70\n",
      "\n",
      "    accuracy                           0.98       125\n",
      "   macro avg       0.97      0.98      0.98       125\n",
      "weighted avg       0.98      0.98      0.98       125\n",
      "\n"
     ]
    }
   ],
   "source": [
    "#evaluate gs results\n",
    "print(classification_report(y_test, y_pred_gs1))"
   ]
  },
  {
   "cell_type": "code",
   "execution_count": 27,
   "metadata": {
    "execution": {
     "iopub.execute_input": "2020-09-28T23:10:09.292874Z",
     "iopub.status.busy": "2020-09-28T23:10:09.290605Z",
     "iopub.status.idle": "2020-09-28T23:10:09.442228Z",
     "shell.execute_reply": "2020-09-28T23:10:09.441697Z"
    },
    "papermill": {
     "duration": 0.197964,
     "end_time": "2020-09-28T23:10:09.442355",
     "exception": false,
     "start_time": "2020-09-28T23:10:09.244391",
     "status": "completed"
    },
    "tags": []
   },
   "outputs": [
    {
     "data": {
      "text/plain": [
       "Text(33.0, 0.5, 'Predicted Value')"
      ]
     },
     "execution_count": 27,
     "metadata": {},
     "output_type": "execute_result"
    },
    {
     "data": {
      "image/png": "[encoded data removed]",
      "text/plain": [
       "<Figure size 432x288 with 2 Axes>"
      ]
     },
     "metadata": {
      "needs_background": "light"
     },
     "output_type": "display_data"
    }
   ],
   "source": [
    "sns.heatmap(confusion_matrix(y_test, y_pred_gs1), annot = True)\n",
    "plt.xlabel('Actual Value')\n",
    "plt.ylabel('Predicted Value')"
   ]
  },
  {
   "cell_type": "markdown",
   "metadata": {
    "papermill": {
     "duration": 0.03507,
     "end_time": "2020-09-28T23:10:09.512730",
     "exception": false,
     "start_time": "2020-09-28T23:10:09.477660",
     "status": "completed"
    },
    "tags": []
   },
   "source": [
    "The model accuracy stays at ~97%."
   ]
  }
 ],
 "metadata": {
  "kernelspec": {
   "display_name": "Python 3",
   "language": "python",
   "name": "python3"
  },
  "language_info": {
   "codemirror_mode": {
    "name": "ipython",
    "version": 3
   },
   "file_extension": ".py",
   "mimetype": "text/x-python",
   "name": "python",
   "nbconvert_exporter": "python",
   "pygments_lexer": "ipython3",
   "version": "3.7.6"
  },
  "papermill": {
   "duration": 12.177401,
   "end_time": "2020-09-28T23:10:09.654360",
   "environment_variables": {},
   "exception": null,
   "input_path": "__notebook__.ipynb",
   "output_path": "__notebook__.ipynb",
   "parameters": {},
   "start_time": "2020-09-28T23:09:57.476959",
   "version": "2.1.0"
  }
 },
 "nbformat": 4,
 "nbformat_minor": 4
}
