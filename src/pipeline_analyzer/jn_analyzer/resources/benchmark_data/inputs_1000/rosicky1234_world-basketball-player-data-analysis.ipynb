{
 "cells": [
  {
   "cell_type": "markdown",
   "metadata": {
    "papermill": {
     "duration": 0.013154,
     "end_time": "2020-09-30T08:52:19.100747",
     "exception": false,
     "start_time": "2020-09-30T08:52:19.087593",
     "status": "completed"
    },
    "tags": []
   },
   "source": [
    "Table of Contents\n",
    "\n",
    "- <a href='#1'>1. Introduction</a> \n",
    "- <a href='#2'>2. Library and Data Import</a>\n",
    "- <a href='#3'>3. Calculated Columns</a>\n",
    "- <a href='#4'>4. 2018-2019 NBA Statistics (Regular)</a>\n",
    "- <a href='#5'>5. 2018-2019 NBA Statistics (Playoff)</a>\n",
    "- <a href='#6'>6. Young Potential Players in the world</a>\n"
   ]
  },
  {
   "cell_type": "markdown",
   "metadata": {
    "papermill": {
     "duration": 0.011231,
     "end_time": "2020-09-30T08:52:19.124034",
     "exception": false,
     "start_time": "2020-09-30T08:52:19.112803",
     "status": "completed"
    },
    "tags": []
   },
   "source": [
    "# <a id='1'> 1. Introduction </a>"
   ]
  },
  {
   "cell_type": "markdown",
   "metadata": {
    "papermill": {
     "duration": 0.011164,
     "end_time": "2020-09-30T08:52:19.146632",
     "exception": false,
     "start_time": "2020-09-30T08:52:19.135468",
     "status": "completed"
    },
    "tags": []
   },
   "source": [
    "Content\n",
    "This Dataset Includes:\n",
    "\n",
    "Seasons 1999-2020\n",
    "49 Leagues, ~11K players details & stats per Season\n",
    "\n",
    "Player Details: Birth Date, Height, Weight, Nationality, High School\n",
    "Stats per Season: Scoring Stats, Free Throws, Rebounds, Blocks, Assists, Minutes, Games etc.\n",
    "\n",
    "What's inside is more than just rows and columns. Make it easy for others to get started by describing how you acquired the data and what time period it represents, too."
   ]
  },
  {
   "cell_type": "markdown",
   "metadata": {
    "papermill": {
     "duration": 0.017013,
     "end_time": "2020-09-30T08:52:19.179188",
     "exception": false,
     "start_time": "2020-09-30T08:52:19.162175",
     "status": "completed"
    },
    "tags": []
   },
   "source": [
    "# <a id='2'> 2. Library and Data Import </a>"
   ]
  },
  {
   "cell_type": "code",
   "execution_count": 1,
   "metadata": {
    "_cell_guid": "b1076dfc-b9ad-4769-8c92-a6c4dae69d19",
    "_uuid": "8f2839f25d086af736a60e9eeb907d3b93b6e0e5",
    "execution": {
     "iopub.execute_input": "2020-09-30T08:52:19.208976Z",
     "iopub.status.busy": "2020-09-30T08:52:19.208350Z",
     "iopub.status.idle": "2020-09-30T08:52:19.215954Z",
     "shell.execute_reply": "2020-09-30T08:52:19.216388Z"
    },
    "papermill": {
     "duration": 0.024933,
     "end_time": "2020-09-30T08:52:19.216550",
     "exception": false,
     "start_time": "2020-09-30T08:52:19.191617",
     "status": "completed"
    },
    "tags": []
   },
   "outputs": [
    {
     "name": "stdout",
     "output_type": "stream",
     "text": [
      "/kaggle/input/basketball-players-stats-per-season-49-leagues/players_stats_by_season_full_details.csv\n"
     ]
    }
   ],
   "source": [
    "#https://www.kaggle.com/jacobbaruch/basketball-players-stats-per-season-49-leagues/notebooks\n",
    "\n",
    "import numpy as np # linear algebra\n",
    "import pandas as pd # data processing, CSV file I/O (e.g. pd.read_csv)\n",
    "import matplotlib.pyplot as plt\n",
    "# Input data files are available in the read-only \"../input/\" directory\n",
    "# For example, running this (by clicking run or pressing Shift+Enter) will list all files under the input directory\n",
    "\n",
    "import os\n",
    "for dirname, _, filenames in os.walk('/kaggle/input'):\n",
    "    for filename in filenames:\n",
    "        print(os.path.join(dirname, filename))\n",
    "\n"
   ]
  },
  {
   "cell_type": "code",
   "execution_count": 2,
   "metadata": {
    "_cell_guid": "79c7e3d0-c299-4dcb-8224-4455121ee9b0",
    "_uuid": "d629ff2d2480ee46fbb7e2d37f6b5fab8052498a",
    "execution": {
     "iopub.execute_input": "2020-09-30T08:52:19.247861Z",
     "iopub.status.busy": "2020-09-30T08:52:19.247246Z",
     "iopub.status.idle": "2020-09-30T08:52:19.519010Z",
     "shell.execute_reply": "2020-09-30T08:52:19.518410Z"
    },
    "papermill": {
     "duration": 0.289956,
     "end_time": "2020-09-30T08:52:19.519128",
     "exception": false,
     "start_time": "2020-09-30T08:52:19.229172",
     "status": "completed"
    },
    "tags": []
   },
   "outputs": [
    {
     "data": {
      "text/html": [
       "<div>\n",
       "<style scoped>\n",
       "    .dataframe tbody tr th:only-of-type {\n",
       "        vertical-align: middle;\n",
       "    }\n",
       "\n",
       "    .dataframe tbody tr th {\n",
       "        vertical-align: top;\n",
       "    }\n",
       "\n",
       "    .dataframe thead th {\n",
       "        text-align: right;\n",
       "    }\n",
       "</style>\n",
       "<table border=\"1\" class=\"dataframe\">\n",
       "  <thead>\n",
       "    <tr style=\"text-align: right;\">\n",
       "      <th></th>\n",
       "      <th>League</th>\n",
       "      <th>Season</th>\n",
       "      <th>Stage</th>\n",
       "      <th>Player</th>\n",
       "      <th>Team</th>\n",
       "      <th>GP</th>\n",
       "      <th>MIN</th>\n",
       "      <th>FGM</th>\n",
       "      <th>FGA</th>\n",
       "      <th>3PM</th>\n",
       "      <th>...</th>\n",
       "      <th>PTS</th>\n",
       "      <th>birth_year</th>\n",
       "      <th>birth_month</th>\n",
       "      <th>birth_date</th>\n",
       "      <th>height</th>\n",
       "      <th>height_cm</th>\n",
       "      <th>weight</th>\n",
       "      <th>weight_kg</th>\n",
       "      <th>nationality</th>\n",
       "      <th>high_school</th>\n",
       "    </tr>\n",
       "  </thead>\n",
       "  <tbody>\n",
       "    <tr>\n",
       "      <th>0</th>\n",
       "      <td>NBA</td>\n",
       "      <td>2019 - 2020</td>\n",
       "      <td>Regular_Season</td>\n",
       "      <td>James Harden</td>\n",
       "      <td>HOU</td>\n",
       "      <td>68</td>\n",
       "      <td>2482.6</td>\n",
       "      <td>672</td>\n",
       "      <td>1514</td>\n",
       "      <td>299</td>\n",
       "      <td>...</td>\n",
       "      <td>2335</td>\n",
       "      <td>1989.0</td>\n",
       "      <td>Aug</td>\n",
       "      <td>Aug 26, 1989</td>\n",
       "      <td>06-May</td>\n",
       "      <td>196.0</td>\n",
       "      <td>220.0</td>\n",
       "      <td>100.0</td>\n",
       "      <td>United States</td>\n",
       "      <td>Artesia High School</td>\n",
       "    </tr>\n",
       "    <tr>\n",
       "      <th>1</th>\n",
       "      <td>NBA</td>\n",
       "      <td>2019 - 2020</td>\n",
       "      <td>Regular_Season</td>\n",
       "      <td>Damian Lillard</td>\n",
       "      <td>POR</td>\n",
       "      <td>66</td>\n",
       "      <td>2473.7</td>\n",
       "      <td>624</td>\n",
       "      <td>1349</td>\n",
       "      <td>270</td>\n",
       "      <td>...</td>\n",
       "      <td>1978</td>\n",
       "      <td>1990.0</td>\n",
       "      <td>Jul</td>\n",
       "      <td>Jul 15, 1990</td>\n",
       "      <td>06-Mar</td>\n",
       "      <td>191.0</td>\n",
       "      <td>195.0</td>\n",
       "      <td>88.0</td>\n",
       "      <td>United States</td>\n",
       "      <td>Oakland High School</td>\n",
       "    </tr>\n",
       "    <tr>\n",
       "      <th>2</th>\n",
       "      <td>NBA</td>\n",
       "      <td>2019 - 2020</td>\n",
       "      <td>Regular_Season</td>\n",
       "      <td>Devin Booker</td>\n",
       "      <td>PHX</td>\n",
       "      <td>70</td>\n",
       "      <td>2511.8</td>\n",
       "      <td>627</td>\n",
       "      <td>1283</td>\n",
       "      <td>141</td>\n",
       "      <td>...</td>\n",
       "      <td>1863</td>\n",
       "      <td>1996.0</td>\n",
       "      <td>Oct</td>\n",
       "      <td>Oct 30, 1996</td>\n",
       "      <td>06-Jun</td>\n",
       "      <td>198.0</td>\n",
       "      <td>206.0</td>\n",
       "      <td>93.0</td>\n",
       "      <td>United States</td>\n",
       "      <td>Moss Point High School</td>\n",
       "    </tr>\n",
       "    <tr>\n",
       "      <th>3</th>\n",
       "      <td>NBA</td>\n",
       "      <td>2019 - 2020</td>\n",
       "      <td>Regular_Season</td>\n",
       "      <td>Giannis Antetokounmpo</td>\n",
       "      <td>MIL</td>\n",
       "      <td>63</td>\n",
       "      <td>1916.9</td>\n",
       "      <td>685</td>\n",
       "      <td>1238</td>\n",
       "      <td>89</td>\n",
       "      <td>...</td>\n",
       "      <td>1857</td>\n",
       "      <td>1994.0</td>\n",
       "      <td>Dec</td>\n",
       "      <td>Dec 6, 1994</td>\n",
       "      <td>06-Nov</td>\n",
       "      <td>211.0</td>\n",
       "      <td>242.0</td>\n",
       "      <td>110.0</td>\n",
       "      <td>Greece / Nigeria</td>\n",
       "      <td>NaN</td>\n",
       "    </tr>\n",
       "    <tr>\n",
       "      <th>4</th>\n",
       "      <td>NBA</td>\n",
       "      <td>2019 - 2020</td>\n",
       "      <td>Regular_Season</td>\n",
       "      <td>Trae Young</td>\n",
       "      <td>ATL</td>\n",
       "      <td>60</td>\n",
       "      <td>2120.1</td>\n",
       "      <td>546</td>\n",
       "      <td>1249</td>\n",
       "      <td>205</td>\n",
       "      <td>...</td>\n",
       "      <td>1778</td>\n",
       "      <td>1998.0</td>\n",
       "      <td>Sep</td>\n",
       "      <td>Sep 19, 1998</td>\n",
       "      <td>06-Feb</td>\n",
       "      <td>188.0</td>\n",
       "      <td>180.0</td>\n",
       "      <td>82.0</td>\n",
       "      <td>United States</td>\n",
       "      <td>Norman High School</td>\n",
       "    </tr>\n",
       "  </tbody>\n",
       "</table>\n",
       "<p>5 rows × 31 columns</p>\n",
       "</div>"
      ],
      "text/plain": [
       "  League       Season           Stage                 Player Team  GP     MIN  \\\n",
       "0    NBA  2019 - 2020  Regular_Season           James Harden  HOU  68  2482.6   \n",
       "1    NBA  2019 - 2020  Regular_Season         Damian Lillard  POR  66  2473.7   \n",
       "2    NBA  2019 - 2020  Regular_Season           Devin Booker  PHX  70  2511.8   \n",
       "3    NBA  2019 - 2020  Regular_Season  Giannis Antetokounmpo  MIL  63  1916.9   \n",
       "4    NBA  2019 - 2020  Regular_Season             Trae Young  ATL  60  2120.1   \n",
       "\n",
       "   FGM   FGA  3PM  ...   PTS  birth_year  birth_month    birth_date  height  \\\n",
       "0  672  1514  299  ...  2335      1989.0          Aug  Aug 26, 1989  06-May   \n",
       "1  624  1349  270  ...  1978      1990.0          Jul  Jul 15, 1990  06-Mar   \n",
       "2  627  1283  141  ...  1863      1996.0          Oct  Oct 30, 1996  06-Jun   \n",
       "3  685  1238   89  ...  1857      1994.0          Dec   Dec 6, 1994  06-Nov   \n",
       "4  546  1249  205  ...  1778      1998.0          Sep  Sep 19, 1998  06-Feb   \n",
       "\n",
       "   height_cm  weight  weight_kg       nationality             high_school  \n",
       "0      196.0   220.0      100.0     United States     Artesia High School  \n",
       "1      191.0   195.0       88.0     United States     Oakland High School  \n",
       "2      198.0   206.0       93.0     United States  Moss Point High School  \n",
       "3      211.0   242.0      110.0  Greece / Nigeria                     NaN  \n",
       "4      188.0   180.0       82.0     United States      Norman High School  \n",
       "\n",
       "[5 rows x 31 columns]"
      ]
     },
     "execution_count": 2,
     "metadata": {},
     "output_type": "execute_result"
    }
   ],
   "source": [
    "df=pd.read_csv(\"/kaggle/input/basketball-players-stats-per-season-49-leagues/players_stats_by_season_full_details.csv\")\n",
    "df.head()"
   ]
  },
  {
   "cell_type": "markdown",
   "metadata": {
    "papermill": {
     "duration": 0.012191,
     "end_time": "2020-09-30T08:52:19.544690",
     "exception": false,
     "start_time": "2020-09-30T08:52:19.532499",
     "status": "completed"
    },
    "tags": []
   },
   "source": [
    "The columns are as follows"
   ]
  },
  {
   "cell_type": "code",
   "execution_count": 3,
   "metadata": {
    "execution": {
     "iopub.execute_input": "2020-09-30T08:52:19.574516Z",
     "iopub.status.busy": "2020-09-30T08:52:19.573612Z",
     "iopub.status.idle": "2020-09-30T08:52:19.579579Z",
     "shell.execute_reply": "2020-09-30T08:52:19.579985Z"
    },
    "papermill": {
     "duration": 0.022341,
     "end_time": "2020-09-30T08:52:19.580132",
     "exception": false,
     "start_time": "2020-09-30T08:52:19.557791",
     "status": "completed"
    },
    "tags": []
   },
   "outputs": [
    {
     "data": {
      "text/plain": [
       "Index(['League', 'Season', 'Stage', 'Player', 'Team', 'GP', 'MIN', 'FGM',\n",
       "       'FGA', '3PM', '3PA', 'FTM', 'FTA', 'TOV', 'PF', 'ORB', 'DRB', 'REB',\n",
       "       'AST', 'STL', 'BLK', 'PTS', 'birth_year', 'birth_month', 'birth_date',\n",
       "       'height', 'height_cm', 'weight', 'weight_kg', 'nationality',\n",
       "       'high_school'],\n",
       "      dtype='object')"
      ]
     },
     "execution_count": 3,
     "metadata": {},
     "output_type": "execute_result"
    }
   ],
   "source": [
    "df.columns"
   ]
  },
  {
   "cell_type": "markdown",
   "metadata": {
    "papermill": {
     "duration": 0.012397,
     "end_time": "2020-09-30T08:52:19.606265",
     "exception": false,
     "start_time": "2020-09-30T08:52:19.593868",
     "status": "completed"
    },
    "tags": []
   },
   "source": [
    "The leagues included in the dataset are listed as below:"
   ]
  },
  {
   "cell_type": "code",
   "execution_count": 4,
   "metadata": {
    "execution": {
     "iopub.execute_input": "2020-09-30T08:52:19.634403Z",
     "iopub.status.busy": "2020-09-30T08:52:19.633871Z",
     "iopub.status.idle": "2020-09-30T08:52:19.648154Z",
     "shell.execute_reply": "2020-09-30T08:52:19.648850Z"
    },
    "papermill": {
     "duration": 0.030081,
     "end_time": "2020-09-30T08:52:19.649017",
     "exception": false,
     "start_time": "2020-09-30T08:52:19.618936",
     "status": "completed"
    },
    "tags": []
   },
   "outputs": [
    {
     "name": "stdout",
     "output_type": "stream",
     "text": [
      "['NBA' 'Euroleague' 'Israeli-BSL' 'Argentinian-Liga-A' 'Australian-NBL'\n",
      " 'Austrian-A-Bundesliga' 'Balkan-BIL' 'Belarusian-BPL'\n",
      " 'Belgium-Scooore-League' 'Bosnian-BiH-Liga' 'Brazilian-NBB' 'British-BBL'\n",
      " 'Bulgarian-NBL' 'Canadian-NBL' 'Chinese-CBA' 'Croatian-A-1-Liga'\n",
      " 'Czech-NBL' 'Danish-Basketligaen' 'Estonian-Latvian-Basketball-League'\n",
      " 'Eurocup' 'FIBA-Europe-Cup' 'Finnish-Korisliiga' 'French-Jeep-Elite'\n",
      " 'Georgian-Super-Liga' 'German-BBL' 'Greek-HEBA-A1' 'Hungarian-NBIA'\n",
      " 'Italian-Lega-Basket-Serie-A' 'Japanese-BLeague' 'Kosovo-FBK'\n",
      " 'Lebanese-Division-A' 'Lithuanian-LKL' 'Luxembourg-Total-League'\n",
      " 'Macedonian-Superleague' 'Mexican-LNBP' 'Netherlands-DBL'\n",
      " 'New-Zealand-NBL' 'Norwegian-BLNO' 'Polish-TBL' 'Romanian-Divizia-A'\n",
      " 'Serbian-KLS' 'Slovakian-Extraliga' 'Slovenian-SKL' 'South-Korean-KBL'\n",
      " 'Spanish-ACB' 'Swedish-Basketligan' 'Swiss-LNA' 'Turkish-BSL'\n",
      " 'Ukrainian-Superleague' 'Balkan-BIBL']\n"
     ]
    }
   ],
   "source": [
    "all_league = df['League'].unique()\n",
    "print(all_league)\n"
   ]
  },
  {
   "cell_type": "markdown",
   "metadata": {
    "papermill": {
     "duration": 0.012613,
     "end_time": "2020-09-30T08:52:19.674735",
     "exception": false,
     "start_time": "2020-09-30T08:52:19.662122",
     "status": "completed"
    },
    "tags": []
   },
   "source": [
    "# <a id='3'> 3. Calculated Columns </a>\n",
    "\n",
    "Average figures such as minutes played, points, total rebounds, offensive and defensive rebound, assist will be created below.\n",
    "\n",
    "The shoot accurary figures, namely field goal %,3 points %, free throw % will also be calculated. \n",
    "\n",
    "\n",
    "The data will be divided into NBA players and non-NBA players after the insertion of calculated fields.\n",
    "\n"
   ]
  },
  {
   "cell_type": "code",
   "execution_count": 5,
   "metadata": {
    "execution": {
     "iopub.execute_input": "2020-09-30T08:52:19.711288Z",
     "iopub.status.busy": "2020-09-30T08:52:19.708676Z",
     "iopub.status.idle": "2020-09-30T08:52:19.782330Z",
     "shell.execute_reply": "2020-09-30T08:52:19.782772Z"
    },
    "papermill": {
     "duration": 0.09523,
     "end_time": "2020-09-30T08:52:19.782943",
     "exception": false,
     "start_time": "2020-09-30T08:52:19.687713",
     "status": "completed"
    },
    "tags": []
   },
   "outputs": [
    {
     "data": {
      "text/html": [
       "<div>\n",
       "<style scoped>\n",
       "    .dataframe tbody tr th:only-of-type {\n",
       "        vertical-align: middle;\n",
       "    }\n",
       "\n",
       "    .dataframe tbody tr th {\n",
       "        vertical-align: top;\n",
       "    }\n",
       "\n",
       "    .dataframe thead th {\n",
       "        text-align: right;\n",
       "    }\n",
       "</style>\n",
       "<table border=\"1\" class=\"dataframe\">\n",
       "  <thead>\n",
       "    <tr style=\"text-align: right;\">\n",
       "      <th></th>\n",
       "      <th>League</th>\n",
       "      <th>Season</th>\n",
       "      <th>Stage</th>\n",
       "      <th>Player</th>\n",
       "      <th>Team</th>\n",
       "      <th>GP</th>\n",
       "      <th>MIN</th>\n",
       "      <th>FGM</th>\n",
       "      <th>FGA</th>\n",
       "      <th>3PM</th>\n",
       "      <th>...</th>\n",
       "      <th>BlkPerGame</th>\n",
       "      <th>PfPerGame</th>\n",
       "      <th>ToPerGame</th>\n",
       "      <th>StlPerGame</th>\n",
       "      <th>FieldGoal%</th>\n",
       "      <th>3Pts%</th>\n",
       "      <th>FT%</th>\n",
       "      <th>AstTovRatio</th>\n",
       "      <th>BMI</th>\n",
       "      <th>age</th>\n",
       "    </tr>\n",
       "  </thead>\n",
       "  <tbody>\n",
       "    <tr>\n",
       "      <th>0</th>\n",
       "      <td>NBA</td>\n",
       "      <td>2019 - 2020</td>\n",
       "      <td>Regular_Season</td>\n",
       "      <td>James Harden</td>\n",
       "      <td>HOU</td>\n",
       "      <td>68</td>\n",
       "      <td>2482.6</td>\n",
       "      <td>672</td>\n",
       "      <td>1514</td>\n",
       "      <td>299</td>\n",
       "      <td>...</td>\n",
       "      <td>0.9</td>\n",
       "      <td>3.3</td>\n",
       "      <td>4.5</td>\n",
       "      <td>1.8</td>\n",
       "      <td>44.4</td>\n",
       "      <td>35.5</td>\n",
       "      <td>86.5</td>\n",
       "      <td>1.7</td>\n",
       "      <td>26.030820</td>\n",
       "      <td>31.0</td>\n",
       "    </tr>\n",
       "    <tr>\n",
       "      <th>1</th>\n",
       "      <td>NBA</td>\n",
       "      <td>2019 - 2020</td>\n",
       "      <td>Regular_Season</td>\n",
       "      <td>Damian Lillard</td>\n",
       "      <td>POR</td>\n",
       "      <td>66</td>\n",
       "      <td>2473.7</td>\n",
       "      <td>624</td>\n",
       "      <td>1349</td>\n",
       "      <td>270</td>\n",
       "      <td>...</td>\n",
       "      <td>0.3</td>\n",
       "      <td>1.7</td>\n",
       "      <td>2.9</td>\n",
       "      <td>1.1</td>\n",
       "      <td>46.3</td>\n",
       "      <td>40.1</td>\n",
       "      <td>88.8</td>\n",
       "      <td>2.7</td>\n",
       "      <td>24.296583</td>\n",
       "      <td>30.0</td>\n",
       "    </tr>\n",
       "    <tr>\n",
       "      <th>2</th>\n",
       "      <td>NBA</td>\n",
       "      <td>2019 - 2020</td>\n",
       "      <td>Regular_Season</td>\n",
       "      <td>Devin Booker</td>\n",
       "      <td>PHX</td>\n",
       "      <td>70</td>\n",
       "      <td>2511.8</td>\n",
       "      <td>627</td>\n",
       "      <td>1283</td>\n",
       "      <td>141</td>\n",
       "      <td>...</td>\n",
       "      <td>0.3</td>\n",
       "      <td>3.0</td>\n",
       "      <td>3.8</td>\n",
       "      <td>0.7</td>\n",
       "      <td>48.9</td>\n",
       "      <td>35.4</td>\n",
       "      <td>91.9</td>\n",
       "      <td>1.7</td>\n",
       "      <td>23.884390</td>\n",
       "      <td>24.0</td>\n",
       "    </tr>\n",
       "    <tr>\n",
       "      <th>3</th>\n",
       "      <td>NBA</td>\n",
       "      <td>2019 - 2020</td>\n",
       "      <td>Regular_Season</td>\n",
       "      <td>Giannis Antetokounmpo</td>\n",
       "      <td>MIL</td>\n",
       "      <td>63</td>\n",
       "      <td>1916.9</td>\n",
       "      <td>685</td>\n",
       "      <td>1238</td>\n",
       "      <td>89</td>\n",
       "      <td>...</td>\n",
       "      <td>1.0</td>\n",
       "      <td>3.1</td>\n",
       "      <td>3.7</td>\n",
       "      <td>1.0</td>\n",
       "      <td>55.3</td>\n",
       "      <td>30.4</td>\n",
       "      <td>63.3</td>\n",
       "      <td>1.5</td>\n",
       "      <td>24.707441</td>\n",
       "      <td>26.0</td>\n",
       "    </tr>\n",
       "    <tr>\n",
       "      <th>4</th>\n",
       "      <td>NBA</td>\n",
       "      <td>2019 - 2020</td>\n",
       "      <td>Regular_Season</td>\n",
       "      <td>Trae Young</td>\n",
       "      <td>ATL</td>\n",
       "      <td>60</td>\n",
       "      <td>2120.1</td>\n",
       "      <td>546</td>\n",
       "      <td>1249</td>\n",
       "      <td>205</td>\n",
       "      <td>...</td>\n",
       "      <td>0.1</td>\n",
       "      <td>1.7</td>\n",
       "      <td>4.8</td>\n",
       "      <td>1.1</td>\n",
       "      <td>43.7</td>\n",
       "      <td>36.1</td>\n",
       "      <td>86.0</td>\n",
       "      <td>1.9</td>\n",
       "      <td>23.149101</td>\n",
       "      <td>22.0</td>\n",
       "    </tr>\n",
       "  </tbody>\n",
       "</table>\n",
       "<p>5 rows × 45 columns</p>\n",
       "</div>"
      ],
      "text/plain": [
       "  League       Season           Stage                 Player Team  GP     MIN  \\\n",
       "0    NBA  2019 - 2020  Regular_Season           James Harden  HOU  68  2482.6   \n",
       "1    NBA  2019 - 2020  Regular_Season         Damian Lillard  POR  66  2473.7   \n",
       "2    NBA  2019 - 2020  Regular_Season           Devin Booker  PHX  70  2511.8   \n",
       "3    NBA  2019 - 2020  Regular_Season  Giannis Antetokounmpo  MIL  63  1916.9   \n",
       "4    NBA  2019 - 2020  Regular_Season             Trae Young  ATL  60  2120.1   \n",
       "\n",
       "   FGM   FGA  3PM  ...  BlkPerGame  PfPerGame  ToPerGame  StlPerGame  \\\n",
       "0  672  1514  299  ...         0.9        3.3        4.5         1.8   \n",
       "1  624  1349  270  ...         0.3        1.7        2.9         1.1   \n",
       "2  627  1283  141  ...         0.3        3.0        3.8         0.7   \n",
       "3  685  1238   89  ...         1.0        3.1        3.7         1.0   \n",
       "4  546  1249  205  ...         0.1        1.7        4.8         1.1   \n",
       "\n",
       "   FieldGoal%  3Pts%   FT%  AstTovRatio        BMI   age  \n",
       "0        44.4   35.5  86.5          1.7  26.030820  31.0  \n",
       "1        46.3   40.1  88.8          2.7  24.296583  30.0  \n",
       "2        48.9   35.4  91.9          1.7  23.884390  24.0  \n",
       "3        55.3   30.4  63.3          1.5  24.707441  26.0  \n",
       "4        43.7   36.1  86.0          1.9  23.149101  22.0  \n",
       "\n",
       "[5 rows x 45 columns]"
      ]
     },
     "execution_count": 5,
     "metadata": {},
     "output_type": "execute_result"
    }
   ],
   "source": [
    "df['MinPerGame'] = round(df['MIN']/df['GP'],1)\n",
    "df['PtsPerGame'] = round(df['PTS']/df['GP'],1)\n",
    "df['RebPerGame']=round(df['REB']/df['GP'],1)\n",
    "df['AstPerGame']=round(df['AST']/df['GP'],1)\n",
    "df['BlkPerGame']=round(df['BLK']/df['GP'],1)\n",
    "df['PfPerGame']=round(df['PF']/df['GP'],1)\n",
    "df['ToPerGame']=round(df['TOV']/df['GP'],1)\n",
    "df['StlPerGame']=round(df['STL']/df['GP'],1)\n",
    "\n",
    "df['FieldGoal%']=round(df['FGM']*100/df['FGA'],1)\n",
    "df['3Pts%']=round(df['3PM']*100/df['3PA'],1)\n",
    "df['FT%']=round(df['FTM']*100/df['FTA'],1)\n",
    "\n",
    "df['AstTovRatio'] = round(df['AST']/df['TOV'],1)\n",
    "df['BMI'] = (df['weight']/2.2) / pow(df['height_cm']/100,2)\n",
    "df['age']=2020-df['birth_year']\n",
    "\n",
    "df.head()"
   ]
  },
  {
   "cell_type": "code",
   "execution_count": 6,
   "metadata": {
    "execution": {
     "iopub.execute_input": "2020-09-30T08:52:19.813972Z",
     "iopub.status.busy": "2020-09-30T08:52:19.813429Z",
     "iopub.status.idle": "2020-09-30T08:52:19.850144Z",
     "shell.execute_reply": "2020-09-30T08:52:19.849640Z"
    },
    "papermill": {
     "duration": 0.053134,
     "end_time": "2020-09-30T08:52:19.850263",
     "exception": false,
     "start_time": "2020-09-30T08:52:19.797129",
     "status": "completed"
    },
    "tags": []
   },
   "outputs": [],
   "source": [
    "NBA_players = df[df['League']=='NBA']\n",
    "Other_players = df[df['League']!='NBA']\n",
    "\n",
    "\n"
   ]
  },
  {
   "cell_type": "markdown",
   "metadata": {
    "papermill": {
     "duration": 0.013588,
     "end_time": "2020-09-30T08:52:19.877796",
     "exception": false,
     "start_time": "2020-09-30T08:52:19.864208",
     "status": "completed"
    },
    "tags": []
   },
   "source": [
    "# <a id='4'> 4. 2018-2019 NBA Statistics (Regular) </a>\n",
    "\n",
    "\n",
    "I will plot the graph for top 15 Players with \n",
    "\n",
    "1. Highest Average Score\n",
    "1. Highest Average Assist\n",
    "1. Highest Average Rebound\n",
    "1. Best Assist / Turnover Ratio\n",
    "\n",
    "in 2019 - 2020 Regular Season\n",
    "\n",
    "Players in 50-40-90 Club for Regular Season will also be found.\n",
    "\n",
    "Let's look at the first 4 items first.\n",
    "\n"
   ]
  },
  {
   "cell_type": "markdown",
   "metadata": {
    "papermill": {
     "duration": 0.014453,
     "end_time": "2020-09-30T08:52:19.907476",
     "exception": false,
     "start_time": "2020-09-30T08:52:19.893023",
     "status": "completed"
    },
    "tags": []
   },
   "source": []
  },
  {
   "cell_type": "code",
   "execution_count": 7,
   "metadata": {
    "execution": {
     "iopub.execute_input": "2020-09-30T08:52:19.946225Z",
     "iopub.status.busy": "2020-09-30T08:52:19.944017Z",
     "iopub.status.idle": "2020-09-30T08:52:20.803173Z",
     "shell.execute_reply": "2020-09-30T08:52:20.802683Z"
    },
    "papermill": {
     "duration": 0.881354,
     "end_time": "2020-09-30T08:52:20.803280",
     "exception": false,
     "start_time": "2020-09-30T08:52:19.921926",
     "status": "completed"
    },
    "tags": []
   },
   "outputs": [
    {
     "data": {
      "image/png": "[encoded data removed]",
      "text/plain": [
       "<Figure size 432x288 with 1 Axes>"
      ]
     },
     "metadata": {
      "needs_background": "light"
     },
     "output_type": "display_data"
    },
    {
     "data": {
      "image/png": "[encoded data removed]",
      "text/plain": [
       "<Figure size 432x288 with 1 Axes>"
      ]
     },
     "metadata": {
      "needs_background": "light"
     },
     "output_type": "display_data"
    },
    {
     "data": {
      "image/png": "[encoded data removed]",
      "text/plain": [
       "<Figure size 432x288 with 1 Axes>"
      ]
     },
     "metadata": {
      "needs_background": "light"
     },
     "output_type": "display_data"
    },
    {
     "data": {
      "image/png": "[encoded data removed]",
      "text/plain": [
       "<Figure size 432x288 with 1 Axes>"
      ]
     },
     "metadata": {
      "needs_background": "light"
     },
     "output_type": "display_data"
    }
   ],
   "source": [
    "NBA_Regular = NBA_players[ (NBA_players['Season']=='2018 - 2019') & (NBA_players['Stage']=='Regular_Season')]\n",
    "\n",
    "y_value = ['PtsPerGame','AstPerGame','RebPerGame','AstTovRatio']\n",
    "\n",
    "for y in y_value:\n",
    "    temp = NBA_Regular.nlargest(15,y)\n",
    "    ax = temp.plot.bar(x='Player', y=y)\n",
    "    title = 'Top 15 ' + y + ' players in Regular Season' \n",
    "    plt.title(title)\n"
   ]
  },
  {
   "cell_type": "markdown",
   "metadata": {
    "papermill": {
     "duration": 0.016958,
     "end_time": "2020-09-30T08:52:20.837725",
     "exception": false,
     "start_time": "2020-09-30T08:52:20.820767",
     "status": "completed"
    },
    "tags": []
   },
   "source": [
    "# Players in 50-40-90 Club "
   ]
  },
  {
   "cell_type": "code",
   "execution_count": 8,
   "metadata": {
    "execution": {
     "iopub.execute_input": "2020-09-30T08:52:20.882817Z",
     "iopub.status.busy": "2020-09-30T08:52:20.882179Z",
     "iopub.status.idle": "2020-09-30T08:52:20.886665Z",
     "shell.execute_reply": "2020-09-30T08:52:20.886217Z"
    },
    "papermill": {
     "duration": 0.031002,
     "end_time": "2020-09-30T08:52:20.886767",
     "exception": false,
     "start_time": "2020-09-30T08:52:20.855765",
     "status": "completed"
    },
    "tags": []
   },
   "outputs": [
    {
     "name": "stdout",
     "output_type": "stream",
     "text": [
      "               Player Team\n",
      "7194  Malcolm Brogdon  MIL\n"
     ]
    }
   ],
   "source": [
    "#Players in 50-40-90 Club \n",
    "\n",
    "\n",
    "NBA_504090 = NBA_Regular[(NBA_Regular['FieldGoal%']>=50)&(NBA_Regular['3PM']>=40)&(NBA_Regular['FT%']>=90)]\n",
    "\n",
    "print(NBA_504090[['Player','Team']])"
   ]
  },
  {
   "cell_type": "markdown",
   "metadata": {
    "papermill": {
     "duration": 0.018087,
     "end_time": "2020-09-30T08:52:20.922257",
     "exception": false,
     "start_time": "2020-09-30T08:52:20.904170",
     "status": "completed"
    },
    "tags": []
   },
   "source": [
    "Since only Malcolm Brogdon can enter the 50-40-90 club in 2018-19 Season, I will set the FT% to >=80%"
   ]
  },
  {
   "cell_type": "code",
   "execution_count": 9,
   "metadata": {
    "execution": {
     "iopub.execute_input": "2020-09-30T08:52:20.967817Z",
     "iopub.status.busy": "2020-09-30T08:52:20.967250Z",
     "iopub.status.idle": "2020-09-30T08:52:20.969686Z",
     "shell.execute_reply": "2020-09-30T08:52:20.970226Z"
    },
    "papermill": {
     "duration": 0.030157,
     "end_time": "2020-09-30T08:52:20.970366",
     "exception": false,
     "start_time": "2020-09-30T08:52:20.940209",
     "status": "completed"
    },
    "tags": []
   },
   "outputs": [
    {
     "name": "stdout",
     "output_type": "stream",
     "text": [
      "                  Player Team\n",
      "7121        Kevin Durant  GSW\n",
      "7124  Karl-Anthony Towns  MIN\n",
      "7137        Nikola Jokic  DEN\n",
      "7191          Joe Harris  BRK\n",
      "7194     Malcolm Brogdon  MIL\n",
      "7206            Rudy Gay  SAS\n",
      "7211          Al Horford  BOS\n",
      "7371      Meyers Leonard  POR\n"
     ]
    }
   ],
   "source": [
    "NBA_504080 = NBA_Regular[(NBA_Regular['FieldGoal%']>=50)&(NBA_Regular['3PM']>=40)&(NBA_Regular['FT%']>=80)]\n",
    "\n",
    "print(NBA_504080[['Player','Team']])"
   ]
  },
  {
   "cell_type": "markdown",
   "metadata": {
    "papermill": {
     "duration": 0.018752,
     "end_time": "2020-09-30T08:52:21.006819",
     "exception": false,
     "start_time": "2020-09-30T08:52:20.988067",
     "status": "completed"
    },
    "tags": []
   },
   "source": [
    "# <a id='5'> 5. 2018-2019 NBA Statistics (Playoff) </a>"
   ]
  },
  {
   "cell_type": "code",
   "execution_count": 10,
   "metadata": {
    "execution": {
     "iopub.execute_input": "2020-09-30T08:52:21.045922Z",
     "iopub.status.busy": "2020-09-30T08:52:21.045335Z",
     "iopub.status.idle": "2020-09-30T08:52:21.775047Z",
     "shell.execute_reply": "2020-09-30T08:52:21.774550Z"
    },
    "papermill": {
     "duration": 0.750032,
     "end_time": "2020-09-30T08:52:21.775366",
     "exception": false,
     "start_time": "2020-09-30T08:52:21.025334",
     "status": "completed"
    },
    "tags": []
   },
   "outputs": [
    {
     "data": {
      "image/png": "[encoded data removed]",
      "text/plain": [
       "<Figure size 432x288 with 1 Axes>"
      ]
     },
     "metadata": {
      "needs_background": "light"
     },
     "output_type": "display_data"
    },
    {
     "data": {
      "image/png": "[encoded data removed]",
      "text/plain": [
       "<Figure size 432x288 with 1 Axes>"
      ]
     },
     "metadata": {
      "needs_background": "light"
     },
     "output_type": "display_data"
    },
    {
     "data": {
      "image/png": "[encoded data removed]",
      "text/plain": [
       "<Figure size 432x288 with 1 Axes>"
      ]
     },
     "metadata": {
      "needs_background": "light"
     },
     "output_type": "display_data"
    },
    {
     "data": {
      "image/png": "[encoded data removed]",
      "text/plain": [
       "<Figure size 432x288 with 1 Axes>"
      ]
     },
     "metadata": {
      "needs_background": "light"
     },
     "output_type": "display_data"
    }
   ],
   "source": [
    "NBA_Playoff = NBA_players[ (NBA_players['Season']=='2018 - 2019') & (NBA_players['Stage']=='Playoffs')]\n",
    "NBA_Playoff.head()\n",
    "\n",
    "\n",
    "y_value = ['PtsPerGame','AstPerGame','RebPerGame','AstTovRatio']\n",
    "\n",
    "for y in y_value:\n",
    "    temp = NBA_Playoff.nlargest(15,y)\n",
    "    ax = temp.plot.bar(x='Player', y=y)\n",
    "    title = 'Top 15 ' + y + ' players in Playoffs' \n",
    "    plt.title(title)"
   ]
  },
  {
   "cell_type": "markdown",
   "metadata": {
    "papermill": {
     "duration": 0.021661,
     "end_time": "2020-09-30T08:52:21.820193",
     "exception": false,
     "start_time": "2020-09-30T08:52:21.798532",
     "status": "completed"
    },
    "tags": []
   },
   "source": [
    "The Bar of Cory Joseph in Ast/To ratio has disappeared. It maybe due to \n",
    "0 turnovers is made by  him. Let see whether this is true."
   ]
  },
  {
   "cell_type": "code",
   "execution_count": 11,
   "metadata": {
    "execution": {
     "iopub.execute_input": "2020-09-30T08:52:21.871360Z",
     "iopub.status.busy": "2020-09-30T08:52:21.870735Z",
     "iopub.status.idle": "2020-09-30T08:52:21.874690Z",
     "shell.execute_reply": "2020-09-30T08:52:21.874260Z"
    },
    "papermill": {
     "duration": 0.033401,
     "end_time": "2020-09-30T08:52:21.874797",
     "exception": false,
     "start_time": "2020-09-30T08:52:21.841396",
     "status": "completed"
    },
    "tags": []
   },
   "outputs": [
    {
     "name": "stdout",
     "output_type": "stream",
     "text": [
      "           Player  ToPerGame\n",
      "7534  Cory Joseph        0.0\n"
     ]
    }
   ],
   "source": [
    "CJ = NBA_Playoff[NBA_Playoff['Player']=='Cory Joseph']\n",
    "CJ = CJ[['Player','ToPerGame']]\n",
    "print(CJ)"
   ]
  },
  {
   "cell_type": "markdown",
   "metadata": {
    "papermill": {
     "duration": 0.021208,
     "end_time": "2020-09-30T08:52:21.918450",
     "exception": false,
     "start_time": "2020-09-30T08:52:21.897242",
     "status": "completed"
    },
    "tags": []
   },
   "source": [
    "# <a id='6'> 6. Young Potential Players in the world </a>\n",
    "\n",
    "We will also look at the young potentials (age <= 25) in the world.\n",
    "\n",
    "# 1. Playmaker \n",
    "\n",
    "Criteria : 1. Ast per Game >= 6 , 2. Assist / Turnover Ratio >=3, \n",
    "\n",
    "# 2. Scorer\n",
    "\n",
    "Criteria : 1. Points per game >=20 , 2. FieldGoal% >= 45% , 3. 3 Points % >=40%\n",
    "\n",
    "# 3. Inside Man \n",
    "\n",
    "Crtieria : 1. Total Rebound >= 10, 2. Block per Game >= 1\n",
    "\n",
    "# 4. All-Rounded Player\n",
    "\n",
    "An all-rounded player contributes the team in all aspects. \n",
    "The criteria are as follows : 15+points, 5+assist, 5+rebound"
   ]
  },
  {
   "cell_type": "code",
   "execution_count": 12,
   "metadata": {
    "execution": {
     "iopub.execute_input": "2020-09-30T08:52:21.973602Z",
     "iopub.status.busy": "2020-09-30T08:52:21.972126Z",
     "iopub.status.idle": "2020-09-30T08:52:21.989705Z",
     "shell.execute_reply": "2020-09-30T08:52:21.988551Z"
    },
    "papermill": {
     "duration": 0.048565,
     "end_time": "2020-09-30T08:52:21.989903",
     "exception": false,
     "start_time": "2020-09-30T08:52:21.941338",
     "status": "completed"
    },
    "tags": []
   },
   "outputs": [
    {
     "name": "stdout",
     "output_type": "stream",
     "text": [
      "Potential good Playmakers\n",
      "\n",
      "                    League            Player  AstPerGame  AstTovRatio\n",
      "1192        Belarusian-BPL       Brian Starr         6.8          3.8\n",
      "1753           British-BBL  Kyron Cartwright         8.8          3.4\n",
      "2433             Czech-NBL     Viktor Pulpan         6.2          3.2\n",
      "3041       FIBA-Europe-Cup    T.J. Shorts II         6.3          5.1\n",
      "4600            Kosovo-FBK      Divine Myles         6.2          3.1\n",
      "6669   Swedish-Basketligan        Davon Bell         6.6          3.0\n",
      "8338      Bosnian-BiH-Liga   Goran Filipovic         6.2          4.2\n",
      "9799     French-Jeep-Elite   Justin Robinson         8.2          3.0\n",
      "11678        Slovenian-SKL         Zan Sisko         6.8          4.1\n",
      "13755         Canadian-NBL       Jaylon Tate         7.4          3.2\n",
      "20136  Lebanese-Division-A        Jad Khalil         6.4          3.1\n"
     ]
    }
   ],
   "source": [
    "Other_players_1920 = Other_players[Other_players['Season']=='2019 - 2020']\n",
    "Young_players_1920 = Other_players[Other_players['age']<= 25]\n",
    "\n",
    "print('Potential good Playmakers'+'\\n')\n",
    "\n",
    "Gd_Playmaker = Young_players_1920[ (Young_players_1920['AstPerGame']>=6) & (Young_players_1920['AstTovRatio']>=3)]\n",
    "print(Gd_Playmaker[['League','Player','AstPerGame','AstTovRatio']])"
   ]
  },
  {
   "cell_type": "markdown",
   "metadata": {
    "papermill": {
     "duration": 0.022547,
     "end_time": "2020-09-30T08:52:22.035504",
     "exception": false,
     "start_time": "2020-09-30T08:52:22.012957",
     "status": "completed"
    },
    "tags": []
   },
   "source": [
    "The Potential Scorers are as follows :"
   ]
  },
  {
   "cell_type": "code",
   "execution_count": 13,
   "metadata": {
    "execution": {
     "iopub.execute_input": "2020-09-30T08:52:22.091646Z",
     "iopub.status.busy": "2020-09-30T08:52:22.087888Z",
     "iopub.status.idle": "2020-09-30T08:52:22.098398Z",
     "shell.execute_reply": "2020-09-30T08:52:22.097790Z"
    },
    "papermill": {
     "duration": 0.040208,
     "end_time": "2020-09-30T08:52:22.098515",
     "exception": false,
     "start_time": "2020-09-30T08:52:22.058307",
     "status": "completed"
    },
    "tags": []
   },
   "outputs": [
    {
     "name": "stdout",
     "output_type": "stream",
     "text": [
      "Potential Scorers\n",
      "\n",
      "                    League              Player  PtsPerGame  FieldGoal%  3Pts%\n",
      "0              Israeli-BSL       Marcus Foster        20.2        51.3   42.3\n",
      "1             Canadian-NBL         Xavier Moon        21.5        51.1   44.8\n",
      "2          FIBA-Europe-Cup        Divine Myles        22.2        51.4   47.4\n",
      "3       Finnish-Korisliiga        Silas Melson        21.3        51.0   44.5\n",
      "4       Finnish-Korisliiga        Steph Branch        21.1        55.6   43.8\n",
      "5            Greek-HEBA-A1     Conner Frankamp        20.9        48.0   42.3\n",
      "6               Polish-TBL      Robert Johnson        20.2        51.7   42.9\n",
      "7              Balkan-BIBL     Conner Frankamp        21.7        59.0   48.0\n",
      "8      Danish-Basketligaen     Deionte Simmons        20.1        67.2   75.0\n",
      "9   Macedonian-Superleague         Gabe Bealer        23.5        51.9   42.3\n",
      "10             Serbian-KLS  Marcus LoVett, Jr.        20.6        53.7   49.5\n",
      "11           Slovenian-SKL         David Kralj        27.6        45.2   41.0\n"
     ]
    }
   ],
   "source": [
    "GD_scorer =  Young_players_1920[ (Young_players_1920['PtsPerGame']>=20) & (Young_players_1920['FieldGoal%']>=45) & (Young_players_1920['3Pts%']>=40)]\n",
    "GD_scorer.reset_index(drop=True, inplace=True)\n",
    "print('Potential Scorers'+'\\n')\n",
    "print(GD_scorer[['League','Player','PtsPerGame','FieldGoal%','3Pts%']])"
   ]
  },
  {
   "cell_type": "code",
   "execution_count": 14,
   "metadata": {
    "execution": {
     "iopub.execute_input": "2020-09-30T08:52:22.154780Z",
     "iopub.status.busy": "2020-09-30T08:52:22.154175Z",
     "iopub.status.idle": "2020-09-30T08:52:22.159008Z",
     "shell.execute_reply": "2020-09-30T08:52:22.158520Z"
    },
    "papermill": {
     "duration": 0.038367,
     "end_time": "2020-09-30T08:52:22.159123",
     "exception": false,
     "start_time": "2020-09-30T08:52:22.120756",
     "status": "completed"
    },
    "tags": []
   },
   "outputs": [
    {
     "name": "stdout",
     "output_type": "stream",
     "text": [
      "Potential Inside Man\n",
      "\n",
      "                                   League              Player  RebPerGame  \\\n",
      "675                    Argentinian-Liga-A      Horace Spencer        11.6   \n",
      "1799                        Bulgarian-NBL   Milenko Veljkovic        14.8   \n",
      "1975                          Chinese-CBA             Zhou Qi        13.1   \n",
      "1978                          Chinese-CBA           Jinqiu Hu        10.0   \n",
      "2000                          Chinese-CBA      Dakari Johnson        14.5   \n",
      "2664   Estonian-Latvian-Basketball-League        Montae Glenn        10.5   \n",
      "4363                     Japanese-BLeague       Kennedy Meeks        10.9   \n",
      "4673                  Lebanese-Division-A      Phillip Rankin        10.0   \n",
      "6230                     South-Korean-KBL      Chinanu Onuaku        10.3   \n",
      "8215                       Belarusian-BPL    Kiryl Vinakuraua        10.7   \n",
      "8776                          Chinese-CBA      Dakari Johnson        14.8   \n",
      "10499                    Japanese-BLeague          Ben Lawson        10.5   \n",
      "11486                         Serbian-KLS   Milenko Veljkovic        10.6   \n",
      "11594                         Serbian-KLS         William Lee        11.0   \n",
      "18605                         Chinese-CBA             Zhou Qi        10.0   \n",
      "26625                      Belarusian-BPL  Dzianis Vikentsyeu        12.0   \n",
      "28958                         Serbian-KLS        Nikola Jokic        10.4   \n",
      "\n",
      "       BlkPerGame  \n",
      "675           1.4  \n",
      "1799          1.1  \n",
      "1975          2.2  \n",
      "1978          1.3  \n",
      "2000          1.6  \n",
      "2664          1.0  \n",
      "4363          1.2  \n",
      "4673          3.0  \n",
      "6230          1.5  \n",
      "8215          1.0  \n",
      "8776          1.8  \n",
      "10499         1.7  \n",
      "11486         2.4  \n",
      "11594         3.0  \n",
      "18605         2.3  \n",
      "26625         1.1  \n",
      "28958         1.1  \n"
     ]
    }
   ],
   "source": [
    "GD_insider =  Young_players_1920[ (Young_players_1920['RebPerGame']>=10) & (Young_players_1920['BlkPerGame']>=1) ]\n",
    "print('Potential Inside Man'+'\\n')\n",
    "print(GD_insider[['League','Player','RebPerGame','BlkPerGame']])"
   ]
  },
  {
   "cell_type": "code",
   "execution_count": 15,
   "metadata": {
    "execution": {
     "iopub.execute_input": "2020-09-30T08:52:22.222248Z",
     "iopub.status.busy": "2020-09-30T08:52:22.221572Z",
     "iopub.status.idle": "2020-09-30T08:52:22.225194Z",
     "shell.execute_reply": "2020-09-30T08:52:22.224194Z"
    },
    "papermill": {
     "duration": 0.043184,
     "end_time": "2020-09-30T08:52:22.225350",
     "exception": false,
     "start_time": "2020-09-30T08:52:22.182166",
     "status": "completed"
    },
    "tags": []
   },
   "outputs": [
    {
     "name": "stdout",
     "output_type": "stream",
     "text": [
      "Potential All-Rounded Player\n",
      "\n",
      "                    League                     Player  PtsPerGame  AstPerGame  \\\n",
      "1192        Belarusian-BPL                Brian Starr        16.3         6.8   \n",
      "1409      Bosnian-BiH-Liga               Corlbe Ervin        18.8         5.6   \n",
      "1535         Brazilian-NBB            George de Paula        15.5         7.5   \n",
      "1703           British-BBL  Parker Jackson-Cartwright        19.9         7.4   \n",
      "1884          Canadian-NBL                Xavier Moon        21.5         5.2   \n",
      "1894          Canadian-NBL             Jeremiah Mordi        16.0         5.9   \n",
      "2058           Chinese-CBA                 Kay Felder        18.9         8.4   \n",
      "3303    Finnish-Korisliiga               Steph Branch        21.1         5.2   \n",
      "4594            Kosovo-FBK              Valon Bunjaku        16.2         6.3   \n",
      "4595            Kosovo-FBK             Malcolm Canada        22.6         6.5   \n",
      "4690   Lebanese-Division-A                Ali Mansour        16.3         5.7   \n",
      "5293       Netherlands-DBL             Tayler Persons        16.7         7.3   \n",
      "5394       New-Zealand-NBL               Hyrum Harris        15.1         5.8   \n",
      "5445        Norwegian-BLNO            Kenny Carpenter        24.9         6.2   \n",
      "5624            Polish-TBL             Robert Johnson        20.2         5.8   \n",
      "10593           Kosovo-FBK               Divine Myles        17.1         5.2   \n",
      "11177       Norwegian-BLNO           Robert Hubbs III        22.5         5.0   \n",
      "18706    Croatian-A-1-Liga                 Luka Bozic        22.2         6.0   \n",
      "\n",
      "       RebPerGame  \n",
      "1192          5.6  \n",
      "1409          5.0  \n",
      "1535          8.7  \n",
      "1703          5.2  \n",
      "1884          6.4  \n",
      "1894          7.1  \n",
      "2058          5.5  \n",
      "3303          9.6  \n",
      "4594          5.4  \n",
      "4595          6.8  \n",
      "4690          6.0  \n",
      "5293          5.7  \n",
      "5394         11.7  \n",
      "5445          6.0  \n",
      "5624          7.3  \n",
      "10593         5.0  \n",
      "11177         6.7  \n",
      "18706         6.8  \n"
     ]
    }
   ],
   "source": [
    "GD_allRound =  Young_players_1920[ (Young_players_1920['PtsPerGame']>=15) &(Young_players_1920['RebPerGame']>=5) & (Young_players_1920['AstPerGame']>=5) ]\n",
    "print('Potential All-Rounded Player'+'\\n')\n",
    "print(GD_allRound[['League','Player','PtsPerGame','AstPerGame','RebPerGame']])"
   ]
  }
 ],
 "metadata": {
  "kernelspec": {
   "display_name": "Python 3",
   "language": "python",
   "name": "python3"
  },
  "language_info": {
   "codemirror_mode": {
    "name": "ipython",
    "version": 3
   },
   "file_extension": ".py",
   "mimetype": "text/x-python",
   "name": "python",
   "nbconvert_exporter": "python",
   "pygments_lexer": "ipython3",
   "version": "3.7.6"
  },
  "papermill": {
   "duration": 7.151578,
   "end_time": "2020-09-30T08:52:22.357764",
   "environment_variables": {},
   "exception": null,
   "input_path": "__notebook__.ipynb",
   "output_path": "__notebook__.ipynb",
   "parameters": {},
   "start_time": "2020-09-30T08:52:15.206186",
   "version": "2.1.0"
  }
 },
 "nbformat": 4,
 "nbformat_minor": 4
}
