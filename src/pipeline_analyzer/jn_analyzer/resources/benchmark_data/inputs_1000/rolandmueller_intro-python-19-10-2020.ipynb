{
 "cells": [
  {
   "cell_type": "code",
   "execution_count": 1,
   "metadata": {
    "_cell_guid": "b1076dfc-b9ad-4769-8c92-a6c4dae69d19",
    "_uuid": "8f2839f25d086af736a60e9eeb907d3b93b6e0e5",
    "execution": {
     "iopub.execute_input": "2020-10-19T11:40:15.900493Z",
     "iopub.status.busy": "2020-10-19T11:40:15.899588Z",
     "iopub.status.idle": "2020-10-19T11:40:15.902914Z",
     "shell.execute_reply": "2020-10-19T11:40:15.902161Z"
    },
    "papermill": {
     "duration": 0.068774,
     "end_time": "2020-10-19T11:40:15.903075",
     "exception": false,
     "start_time": "2020-10-19T11:40:15.834301",
     "status": "completed"
    },
    "tags": []
   },
   "outputs": [],
   "source": [
    "# This Python 3 environment comes with many helpful analytics libraries installed\n",
    "# It is defined by the kaggle/python Docker image: https://github.com/kaggle/docker-python\n",
    "# For example, here's several helpful packages to load\n",
    "\n",
    "import numpy as np # linear algebra\n",
    "import pandas as pd # data processing, CSV file I/O (e.g. pd.read_csv)\n",
    "\n",
    "# Input data files are available in the read-only \"../input/\" directory\n",
    "# For example, running this (by clicking run or pressing Shift+Enter) will list all files under the input directory\n",
    "\n",
    "import os\n",
    "for dirname, _, filenames in os.walk('/kaggle/input'):\n",
    "    for filename in filenames:\n",
    "        print(os.path.join(dirname, filename))\n",
    "\n",
    "# You can write up to 5GB to the current directory (/kaggle/working/) that gets preserved as output when you create a version using \"Save & Run All\" \n",
    "# You can also write temporary files to /kaggle/temp/, but they won't be saved outside of the current session"
   ]
  },
  {
   "cell_type": "markdown",
   "metadata": {
    "papermill": {
     "duration": 0.057161,
     "end_time": "2020-10-19T11:40:16.018115",
     "exception": false,
     "start_time": "2020-10-19T11:40:15.960954",
     "status": "completed"
    },
    "tags": []
   },
   "source": [
    "# Rechnen mit Python\n",
    "* Grundrechenarten: *. +, -, /\n",
    "* Hoch: **\n",
    "* Modulo: %"
   ]
  },
  {
   "cell_type": "code",
   "execution_count": 2,
   "metadata": {
    "_cell_guid": "79c7e3d0-c299-4dcb-8224-4455121ee9b0",
    "_uuid": "d629ff2d2480ee46fbb7e2d37f6b5fab8052498a",
    "execution": {
     "iopub.execute_input": "2020-10-19T11:40:16.139910Z",
     "iopub.status.busy": "2020-10-19T11:40:16.138796Z",
     "iopub.status.idle": "2020-10-19T11:40:16.142965Z",
     "shell.execute_reply": "2020-10-19T11:40:16.143544Z"
    },
    "papermill": {
     "duration": 0.069139,
     "end_time": "2020-10-19T11:40:16.143697",
     "exception": false,
     "start_time": "2020-10-19T11:40:16.074558",
     "status": "completed"
    },
    "tags": []
   },
   "outputs": [
    {
     "data": {
      "text/plain": [
       "3.6"
      ]
     },
     "execution_count": 2,
     "metadata": {},
     "output_type": "execute_result"
    }
   ],
   "source": [
    "2 * (4 + 5) / 5"
   ]
  },
  {
   "cell_type": "code",
   "execution_count": 3,
   "metadata": {
    "execution": {
     "iopub.execute_input": "2020-10-19T11:40:16.263689Z",
     "iopub.status.busy": "2020-10-19T11:40:16.262734Z",
     "iopub.status.idle": "2020-10-19T11:40:16.267591Z",
     "shell.execute_reply": "2020-10-19T11:40:16.266781Z"
    },
    "papermill": {
     "duration": 0.066665,
     "end_time": "2020-10-19T11:40:16.267720",
     "exception": false,
     "start_time": "2020-10-19T11:40:16.201055",
     "status": "completed"
    },
    "tags": []
   },
   "outputs": [
    {
     "data": {
      "text/plain": [
       "16"
      ]
     },
     "execution_count": 3,
     "metadata": {},
     "output_type": "execute_result"
    }
   ],
   "source": [
    "2 ** 4"
   ]
  },
  {
   "cell_type": "code",
   "execution_count": 4,
   "metadata": {
    "execution": {
     "iopub.execute_input": "2020-10-19T11:40:16.389406Z",
     "iopub.status.busy": "2020-10-19T11:40:16.388385Z",
     "iopub.status.idle": "2020-10-19T11:40:16.393594Z",
     "shell.execute_reply": "2020-10-19T11:40:16.392973Z"
    },
    "papermill": {
     "duration": 0.068412,
     "end_time": "2020-10-19T11:40:16.393715",
     "exception": false,
     "start_time": "2020-10-19T11:40:16.325303",
     "status": "completed"
    },
    "tags": []
   },
   "outputs": [
    {
     "data": {
      "text/plain": [
       "1"
      ]
     },
     "execution_count": 4,
     "metadata": {},
     "output_type": "execute_result"
    }
   ],
   "source": [
    "10 % 3"
   ]
  },
  {
   "cell_type": "markdown",
   "metadata": {
    "papermill": {
     "duration": 0.058023,
     "end_time": "2020-10-19T11:40:16.510039",
     "exception": false,
     "start_time": "2020-10-19T11:40:16.452016",
     "status": "completed"
    },
    "tags": []
   },
   "source": [
    "# Variablen"
   ]
  },
  {
   "cell_type": "code",
   "execution_count": 5,
   "metadata": {
    "execution": {
     "iopub.execute_input": "2020-10-19T11:40:16.632637Z",
     "iopub.status.busy": "2020-10-19T11:40:16.631789Z",
     "iopub.status.idle": "2020-10-19T11:40:16.635133Z",
     "shell.execute_reply": "2020-10-19T11:40:16.635702Z"
    },
    "papermill": {
     "duration": 0.067999,
     "end_time": "2020-10-19T11:40:16.635867",
     "exception": false,
     "start_time": "2020-10-19T11:40:16.567868",
     "status": "completed"
    },
    "tags": []
   },
   "outputs": [
    {
     "data": {
      "text/plain": [
       "12"
      ]
     },
     "execution_count": 5,
     "metadata": {},
     "output_type": "execute_result"
    }
   ],
   "source": [
    "x = 2 * (3 + 3)\n",
    "x"
   ]
  },
  {
   "cell_type": "code",
   "execution_count": 6,
   "metadata": {
    "execution": {
     "iopub.execute_input": "2020-10-19T11:40:16.760119Z",
     "iopub.status.busy": "2020-10-19T11:40:16.759104Z",
     "iopub.status.idle": "2020-10-19T11:40:16.762722Z",
     "shell.execute_reply": "2020-10-19T11:40:16.761999Z"
    },
    "papermill": {
     "duration": 0.068255,
     "end_time": "2020-10-19T11:40:16.762842",
     "exception": false,
     "start_time": "2020-10-19T11:40:16.694587",
     "status": "completed"
    },
    "tags": []
   },
   "outputs": [],
   "source": [
    "z = 2\n",
    "a = x + z\n"
   ]
  },
  {
   "cell_type": "code",
   "execution_count": 7,
   "metadata": {
    "execution": {
     "iopub.execute_input": "2020-10-19T11:40:16.887957Z",
     "iopub.status.busy": "2020-10-19T11:40:16.886785Z",
     "iopub.status.idle": "2020-10-19T11:40:16.891138Z",
     "shell.execute_reply": "2020-10-19T11:40:16.891661Z"
    },
    "papermill": {
     "duration": 0.069302,
     "end_time": "2020-10-19T11:40:16.891823",
     "exception": false,
     "start_time": "2020-10-19T11:40:16.822521",
     "status": "completed"
    },
    "tags": []
   },
   "outputs": [
    {
     "data": {
      "text/plain": [
       "28"
      ]
     },
     "execution_count": 7,
     "metadata": {},
     "output_type": "execute_result"
    }
   ],
   "source": [
    "a = 2 * a\n",
    "a"
   ]
  },
  {
   "cell_type": "markdown",
   "metadata": {
    "papermill": {
     "duration": 0.059823,
     "end_time": "2020-10-19T11:40:17.011949",
     "exception": false,
     "start_time": "2020-10-19T11:40:16.952126",
     "status": "completed"
    },
    "tags": []
   },
   "source": [
    "# Datentypen\n",
    "* Ganzzahl: int (Integer)\n",
    "* Kommazahlen: float (Floating Point Number)\n",
    "* Text: str (String)\n",
    "* Wahrheitswert: bool\n",
    "\n",
    "* Datentyp anzeigen: type\n",
    "* Datentyp umwandeln (Type Casting): int(), float(), ..."
   ]
  },
  {
   "cell_type": "code",
   "execution_count": 8,
   "metadata": {
    "execution": {
     "iopub.execute_input": "2020-10-19T11:40:17.138576Z",
     "iopub.status.busy": "2020-10-19T11:40:17.137281Z",
     "iopub.status.idle": "2020-10-19T11:40:17.142013Z",
     "shell.execute_reply": "2020-10-19T11:40:17.141245Z"
    },
    "papermill": {
     "duration": 0.069945,
     "end_time": "2020-10-19T11:40:17.142139",
     "exception": false,
     "start_time": "2020-10-19T11:40:17.072194",
     "status": "completed"
    },
    "tags": []
   },
   "outputs": [
    {
     "data": {
      "text/plain": [
       "int"
      ]
     },
     "execution_count": 8,
     "metadata": {},
     "output_type": "execute_result"
    }
   ],
   "source": [
    "type(x)"
   ]
  },
  {
   "cell_type": "code",
   "execution_count": 9,
   "metadata": {
    "execution": {
     "iopub.execute_input": "2020-10-19T11:40:17.277290Z",
     "iopub.status.busy": "2020-10-19T11:40:17.276509Z",
     "iopub.status.idle": "2020-10-19T11:40:17.279677Z",
     "shell.execute_reply": "2020-10-19T11:40:17.279059Z"
    },
    "papermill": {
     "duration": 0.073494,
     "end_time": "2020-10-19T11:40:17.279800",
     "exception": false,
     "start_time": "2020-10-19T11:40:17.206306",
     "status": "completed"
    },
    "tags": []
   },
   "outputs": [],
   "source": [
    "y = str(x)"
   ]
  },
  {
   "cell_type": "code",
   "execution_count": 10,
   "metadata": {
    "execution": {
     "iopub.execute_input": "2020-10-19T11:40:17.408891Z",
     "iopub.status.busy": "2020-10-19T11:40:17.408076Z",
     "iopub.status.idle": "2020-10-19T11:40:17.412103Z",
     "shell.execute_reply": "2020-10-19T11:40:17.412632Z"
    },
    "papermill": {
     "duration": 0.070788,
     "end_time": "2020-10-19T11:40:17.412795",
     "exception": false,
     "start_time": "2020-10-19T11:40:17.342007",
     "status": "completed"
    },
    "tags": []
   },
   "outputs": [
    {
     "data": {
      "text/plain": [
       "str"
      ]
     },
     "execution_count": 10,
     "metadata": {},
     "output_type": "execute_result"
    }
   ],
   "source": [
    "type(y)"
   ]
  },
  {
   "cell_type": "code",
   "execution_count": 11,
   "metadata": {
    "execution": {
     "iopub.execute_input": "2020-10-19T11:40:17.541552Z",
     "iopub.status.busy": "2020-10-19T11:40:17.540566Z",
     "iopub.status.idle": "2020-10-19T11:40:17.545161Z",
     "shell.execute_reply": "2020-10-19T11:40:17.544422Z"
    },
    "papermill": {
     "duration": 0.071416,
     "end_time": "2020-10-19T11:40:17.545286",
     "exception": false,
     "start_time": "2020-10-19T11:40:17.473870",
     "status": "completed"
    },
    "tags": []
   },
   "outputs": [
    {
     "data": {
      "text/plain": [
       "2"
      ]
     },
     "execution_count": 11,
     "metadata": {},
     "output_type": "execute_result"
    }
   ],
   "source": [
    "int(2.67)"
   ]
  },
  {
   "cell_type": "code",
   "execution_count": 12,
   "metadata": {
    "execution": {
     "iopub.execute_input": "2020-10-19T11:40:17.673966Z",
     "iopub.status.busy": "2020-10-19T11:40:17.673194Z",
     "iopub.status.idle": "2020-10-19T11:40:17.676119Z",
     "shell.execute_reply": "2020-10-19T11:40:17.675502Z"
    },
    "papermill": {
     "duration": 0.06907,
     "end_time": "2020-10-19T11:40:17.676251",
     "exception": false,
     "start_time": "2020-10-19T11:40:17.607181",
     "status": "completed"
    },
    "tags": []
   },
   "outputs": [],
   "source": [
    "w = True"
   ]
  },
  {
   "cell_type": "code",
   "execution_count": 13,
   "metadata": {
    "execution": {
     "iopub.execute_input": "2020-10-19T11:40:17.806657Z",
     "iopub.status.busy": "2020-10-19T11:40:17.805678Z",
     "iopub.status.idle": "2020-10-19T11:40:17.810288Z",
     "shell.execute_reply": "2020-10-19T11:40:17.809690Z"
    },
    "papermill": {
     "duration": 0.072257,
     "end_time": "2020-10-19T11:40:17.810418",
     "exception": false,
     "start_time": "2020-10-19T11:40:17.738161",
     "status": "completed"
    },
    "tags": []
   },
   "outputs": [
    {
     "data": {
      "text/plain": [
       "bool"
      ]
     },
     "execution_count": 13,
     "metadata": {},
     "output_type": "execute_result"
    }
   ],
   "source": [
    "type(w)"
   ]
  },
  {
   "cell_type": "code",
   "execution_count": 14,
   "metadata": {
    "execution": {
     "iopub.execute_input": "2020-10-19T11:40:17.941967Z",
     "iopub.status.busy": "2020-10-19T11:40:17.940868Z",
     "iopub.status.idle": "2020-10-19T11:40:17.945392Z",
     "shell.execute_reply": "2020-10-19T11:40:17.944762Z"
    },
    "papermill": {
     "duration": 0.072542,
     "end_time": "2020-10-19T11:40:17.945515",
     "exception": false,
     "start_time": "2020-10-19T11:40:17.872973",
     "status": "completed"
    },
    "tags": []
   },
   "outputs": [
    {
     "data": {
      "text/plain": [
       "str"
      ]
     },
     "execution_count": 14,
     "metadata": {},
     "output_type": "execute_result"
    }
   ],
   "source": [
    "s = \"Das ist ein String\"\n",
    "type(s)"
   ]
  },
  {
   "cell_type": "code",
   "execution_count": 15,
   "metadata": {
    "execution": {
     "iopub.execute_input": "2020-10-19T11:40:18.079473Z",
     "iopub.status.busy": "2020-10-19T11:40:18.078538Z",
     "iopub.status.idle": "2020-10-19T11:40:18.081007Z",
     "shell.execute_reply": "2020-10-19T11:40:18.081694Z"
    },
    "papermill": {
     "duration": 0.072358,
     "end_time": "2020-10-19T11:40:18.081847",
     "exception": false,
     "start_time": "2020-10-19T11:40:18.009489",
     "status": "completed"
    },
    "tags": []
   },
   "outputs": [],
   "source": [
    "ein_langer_variablen_name = 2"
   ]
  },
  {
   "cell_type": "code",
   "execution_count": 16,
   "metadata": {
    "execution": {
     "iopub.execute_input": "2020-10-19T11:40:18.218050Z",
     "iopub.status.busy": "2020-10-19T11:40:18.217161Z",
     "iopub.status.idle": "2020-10-19T11:40:18.221450Z",
     "shell.execute_reply": "2020-10-19T11:40:18.220726Z"
    },
    "papermill": {
     "duration": 0.075115,
     "end_time": "2020-10-19T11:40:18.221579",
     "exception": false,
     "start_time": "2020-10-19T11:40:18.146464",
     "status": "completed"
    },
    "tags": []
   },
   "outputs": [
    {
     "data": {
      "text/plain": [
       "0.6666666666666666"
      ]
     },
     "execution_count": 16,
     "metadata": {},
     "output_type": "execute_result"
    }
   ],
   "source": [
    "2 / 3"
   ]
  },
  {
   "cell_type": "code",
   "execution_count": 17,
   "metadata": {
    "execution": {
     "iopub.execute_input": "2020-10-19T11:40:18.394345Z",
     "iopub.status.busy": "2020-10-19T11:40:18.393304Z",
     "iopub.status.idle": "2020-10-19T11:40:18.399367Z",
     "shell.execute_reply": "2020-10-19T11:40:18.400187Z"
    },
    "papermill": {
     "duration": 0.101645,
     "end_time": "2020-10-19T11:40:18.400396",
     "exception": false,
     "start_time": "2020-10-19T11:40:18.298751",
     "status": "completed"
    },
    "tags": []
   },
   "outputs": [
    {
     "data": {
      "text/plain": [
       "10000"
      ]
     },
     "execution_count": 17,
     "metadata": {},
     "output_type": "execute_result"
    }
   ],
   "source": [
    "int(\"10000\")"
   ]
  },
  {
   "cell_type": "markdown",
   "metadata": {
    "papermill": {
     "duration": 0.074904,
     "end_time": "2020-10-19T11:40:18.545442",
     "exception": false,
     "start_time": "2020-10-19T11:40:18.470538",
     "status": "completed"
    },
    "tags": []
   },
   "source": [
    "# Funktionen\n",
    "\n",
    "def funktionsname(parameter1, parameter2):\n",
    "\n",
    "* Parameter\n",
    "* Optionale Parameter mit Default Wert\n",
    "* Rückgabe des Ergebnis: return\n",
    "* Einrücken ist wichtig"
   ]
  },
  {
   "cell_type": "code",
   "execution_count": 18,
   "metadata": {
    "execution": {
     "iopub.execute_input": "2020-10-19T11:40:18.684862Z",
     "iopub.status.busy": "2020-10-19T11:40:18.683814Z",
     "iopub.status.idle": "2020-10-19T11:40:18.687710Z",
     "shell.execute_reply": "2020-10-19T11:40:18.688659Z"
    },
    "papermill": {
     "duration": 0.075637,
     "end_time": "2020-10-19T11:40:18.688846",
     "exception": false,
     "start_time": "2020-10-19T11:40:18.613209",
     "status": "completed"
    },
    "tags": []
   },
   "outputs": [
    {
     "name": "stdout",
     "output_type": "stream",
     "text": [
      "12\n"
     ]
    }
   ],
   "source": [
    "print(x)"
   ]
  },
  {
   "cell_type": "code",
   "execution_count": 19,
   "metadata": {
    "execution": {
     "iopub.execute_input": "2020-10-19T11:40:18.832890Z",
     "iopub.status.busy": "2020-10-19T11:40:18.831643Z",
     "iopub.status.idle": "2020-10-19T11:40:18.835193Z",
     "shell.execute_reply": "2020-10-19T11:40:18.834509Z"
    },
    "papermill": {
     "duration": 0.076776,
     "end_time": "2020-10-19T11:40:18.835333",
     "exception": false,
     "start_time": "2020-10-19T11:40:18.758557",
     "status": "completed"
    },
    "tags": []
   },
   "outputs": [],
   "source": [
    "f = 23.6345245\n",
    "rounded_f = round(f)"
   ]
  },
  {
   "cell_type": "code",
   "execution_count": 20,
   "metadata": {
    "execution": {
     "iopub.execute_input": "2020-10-19T11:40:18.974282Z",
     "iopub.status.busy": "2020-10-19T11:40:18.973060Z",
     "iopub.status.idle": "2020-10-19T11:40:18.977194Z",
     "shell.execute_reply": "2020-10-19T11:40:18.978076Z"
    },
    "papermill": {
     "duration": 0.076423,
     "end_time": "2020-10-19T11:40:18.978296",
     "exception": false,
     "start_time": "2020-10-19T11:40:18.901873",
     "status": "completed"
    },
    "tags": []
   },
   "outputs": [
    {
     "data": {
      "text/plain": [
       "23.6345245"
      ]
     },
     "execution_count": 20,
     "metadata": {},
     "output_type": "execute_result"
    }
   ],
   "source": [
    "f"
   ]
  },
  {
   "cell_type": "code",
   "execution_count": 21,
   "metadata": {
    "execution": {
     "iopub.execute_input": "2020-10-19T11:40:19.125583Z",
     "iopub.status.busy": "2020-10-19T11:40:19.124690Z",
     "iopub.status.idle": "2020-10-19T11:40:19.129291Z",
     "shell.execute_reply": "2020-10-19T11:40:19.128630Z"
    },
    "papermill": {
     "duration": 0.07761,
     "end_time": "2020-10-19T11:40:19.129427",
     "exception": false,
     "start_time": "2020-10-19T11:40:19.051817",
     "status": "completed"
    },
    "tags": []
   },
   "outputs": [
    {
     "data": {
      "text/plain": [
       "24"
      ]
     },
     "execution_count": 21,
     "metadata": {},
     "output_type": "execute_result"
    }
   ],
   "source": [
    "rounded_f"
   ]
  },
  {
   "cell_type": "code",
   "execution_count": 22,
   "metadata": {
    "execution": {
     "iopub.execute_input": "2020-10-19T11:40:19.269275Z",
     "iopub.status.busy": "2020-10-19T11:40:19.268161Z",
     "iopub.status.idle": "2020-10-19T11:40:19.272144Z",
     "shell.execute_reply": "2020-10-19T11:40:19.272954Z"
    },
    "papermill": {
     "duration": 0.077368,
     "end_time": "2020-10-19T11:40:19.273162",
     "exception": false,
     "start_time": "2020-10-19T11:40:19.195794",
     "status": "completed"
    },
    "tags": []
   },
   "outputs": [
    {
     "name": "stdout",
     "output_type": "stream",
     "text": [
      "Help on built-in function round in module builtins:\n",
      "\n",
      "round(number, ndigits=None)\n",
      "    Round a number to a given precision in decimal digits.\n",
      "    \n",
      "    The return value is an integer if ndigits is omitted or None.  Otherwise\n",
      "    the return value has the same type as the number.  ndigits may be negative.\n",
      "\n"
     ]
    }
   ],
   "source": [
    "help(round)"
   ]
  },
  {
   "cell_type": "code",
   "execution_count": 23,
   "metadata": {
    "execution": {
     "iopub.execute_input": "2020-10-19T11:40:19.416492Z",
     "iopub.status.busy": "2020-10-19T11:40:19.415487Z",
     "iopub.status.idle": "2020-10-19T11:40:19.420442Z",
     "shell.execute_reply": "2020-10-19T11:40:19.419660Z"
    },
    "papermill": {
     "duration": 0.078003,
     "end_time": "2020-10-19T11:40:19.420571",
     "exception": false,
     "start_time": "2020-10-19T11:40:19.342568",
     "status": "completed"
    },
    "tags": []
   },
   "outputs": [
    {
     "data": {
      "text/plain": [
       "23.6"
      ]
     },
     "execution_count": 23,
     "metadata": {},
     "output_type": "execute_result"
    }
   ],
   "source": [
    "round(f, 1)"
   ]
  },
  {
   "cell_type": "code",
   "execution_count": 24,
   "metadata": {
    "execution": {
     "iopub.execute_input": "2020-10-19T11:40:19.563948Z",
     "iopub.status.busy": "2020-10-19T11:40:19.562892Z",
     "iopub.status.idle": "2020-10-19T11:40:19.567755Z",
     "shell.execute_reply": "2020-10-19T11:40:19.567020Z"
    },
    "papermill": {
     "duration": 0.079286,
     "end_time": "2020-10-19T11:40:19.567890",
     "exception": false,
     "start_time": "2020-10-19T11:40:19.488604",
     "status": "completed"
    },
    "tags": []
   },
   "outputs": [
    {
     "data": {
      "text/plain": [
       "4"
      ]
     },
     "execution_count": 24,
     "metadata": {},
     "output_type": "execute_result"
    }
   ],
   "source": [
    "def vervielfachen(zahl, vielfach=2):\n",
    "    ergebnis = zahl * vielfach\n",
    "    return ergebnis\n",
    "\n",
    "vervielfachen(2)"
   ]
  },
  {
   "cell_type": "markdown",
   "metadata": {
    "papermill": {
     "duration": 0.067466,
     "end_time": "2020-10-19T11:40:19.704581",
     "exception": false,
     "start_time": "2020-10-19T11:40:19.637115",
     "status": "completed"
    },
    "tags": []
   },
   "source": [
    "# Kommentare\n",
    "Das ist **Markdown** *Kommentar*.\n",
    "\n",
    "### Unterüberschrift\n",
    "\n",
    "Mathematische Gleichung:\n",
    "\n",
    "LaTeX\n",
    "\n",
    "$f(n) = \\sum_{i=1}^n 2^{i}$\n"
   ]
  },
  {
   "cell_type": "code",
   "execution_count": 25,
   "metadata": {
    "execution": {
     "iopub.execute_input": "2020-10-19T11:40:19.847623Z",
     "iopub.status.busy": "2020-10-19T11:40:19.846484Z",
     "iopub.status.idle": "2020-10-19T11:40:19.850327Z",
     "shell.execute_reply": "2020-10-19T11:40:19.849721Z"
    },
    "papermill": {
     "duration": 0.077755,
     "end_time": "2020-10-19T11:40:19.850458",
     "exception": false,
     "start_time": "2020-10-19T11:40:19.772703",
     "status": "completed"
    },
    "tags": []
   },
   "outputs": [],
   "source": [
    "# Das ist ein Kommentar\n",
    "x = 1"
   ]
  },
  {
   "cell_type": "code",
   "execution_count": 26,
   "metadata": {
    "execution": {
     "iopub.execute_input": "2020-10-19T11:40:19.999457Z",
     "iopub.status.busy": "2020-10-19T11:40:19.998551Z",
     "iopub.status.idle": "2020-10-19T11:40:20.002098Z",
     "shell.execute_reply": "2020-10-19T11:40:20.001488Z"
    },
    "papermill": {
     "duration": 0.083402,
     "end_time": "2020-10-19T11:40:20.002227",
     "exception": false,
     "start_time": "2020-10-19T11:40:19.918825",
     "status": "completed"
    },
    "tags": []
   },
   "outputs": [],
   "source": [
    "def vervielfachen(zahl, vielfach=2):\n",
    "    \"\"\"\n",
    "    Funktion zum vervielfachen\n",
    "    2. Paramter is optional. Ansonsten ist es verdoppeln\n",
    "    \n",
    "    zahl: Zu vervielfachende Zahl\n",
    "    vielfach: Der Multiplikator\n",
    "    \"\"\"\n",
    "    return zahl * vielfach"
   ]
  },
  {
   "cell_type": "code",
   "execution_count": 27,
   "metadata": {
    "execution": {
     "iopub.execute_input": "2020-10-19T11:40:20.147458Z",
     "iopub.status.busy": "2020-10-19T11:40:20.146467Z",
     "iopub.status.idle": "2020-10-19T11:40:20.150000Z",
     "shell.execute_reply": "2020-10-19T11:40:20.150566Z"
    },
    "papermill": {
     "duration": 0.079621,
     "end_time": "2020-10-19T11:40:20.150738",
     "exception": false,
     "start_time": "2020-10-19T11:40:20.071117",
     "status": "completed"
    },
    "tags": []
   },
   "outputs": [
    {
     "name": "stdout",
     "output_type": "stream",
     "text": [
      "Help on function vervielfachen in module __main__:\n",
      "\n",
      "vervielfachen(zahl, vielfach=2)\n",
      "    Funktion zum vervielfachen\n",
      "    2. Paramter is optional. Ansonsten ist es verdoppeln\n",
      "    \n",
      "    zahl: Zu vervielfachende Zahl\n",
      "    vielfach: Der Multiplikator\n",
      "\n"
     ]
    }
   ],
   "source": [
    "help(vervielfachen)"
   ]
  },
  {
   "cell_type": "code",
   "execution_count": 28,
   "metadata": {
    "execution": {
     "iopub.execute_input": "2020-10-19T11:40:20.295398Z",
     "iopub.status.busy": "2020-10-19T11:40:20.294408Z",
     "iopub.status.idle": "2020-10-19T11:40:20.298945Z",
     "shell.execute_reply": "2020-10-19T11:40:20.298210Z"
    },
    "papermill": {
     "duration": 0.078933,
     "end_time": "2020-10-19T11:40:20.299071",
     "exception": false,
     "start_time": "2020-10-19T11:40:20.220138",
     "status": "completed"
    },
    "tags": []
   },
   "outputs": [
    {
     "name": "stdout",
     "output_type": "stream",
     "text": [
      "Help on built-in function print in module builtins:\n",
      "\n",
      "print(...)\n",
      "    print(value, ..., sep=' ', end='\\n', file=sys.stdout, flush=False)\n",
      "    \n",
      "    Prints the values to a stream, or to sys.stdout by default.\n",
      "    Optional keyword arguments:\n",
      "    file:  a file-like object (stream); defaults to the current sys.stdout.\n",
      "    sep:   string inserted between values, default a space.\n",
      "    end:   string appended after the last value, default a newline.\n",
      "    flush: whether to forcibly flush the stream.\n",
      "\n"
     ]
    }
   ],
   "source": [
    "help(print)"
   ]
  },
  {
   "cell_type": "markdown",
   "metadata": {
    "papermill": {
     "duration": 0.080323,
     "end_time": "2020-10-19T11:40:20.469834",
     "exception": false,
     "start_time": "2020-10-19T11:40:20.389511",
     "status": "completed"
    },
    "tags": []
   },
   "source": [
    "# Boolesche Werte"
   ]
  },
  {
   "cell_type": "code",
   "execution_count": 29,
   "metadata": {
    "execution": {
     "iopub.execute_input": "2020-10-19T11:40:20.622241Z",
     "iopub.status.busy": "2020-10-19T11:40:20.621320Z",
     "iopub.status.idle": "2020-10-19T11:40:20.625096Z",
     "shell.execute_reply": "2020-10-19T11:40:20.624256Z"
    },
    "papermill": {
     "duration": 0.0805,
     "end_time": "2020-10-19T11:40:20.625236",
     "exception": false,
     "start_time": "2020-10-19T11:40:20.544736",
     "status": "completed"
    },
    "tags": []
   },
   "outputs": [],
   "source": [
    "w = True\n",
    "f = False"
   ]
  },
  {
   "cell_type": "code",
   "execution_count": 30,
   "metadata": {
    "execution": {
     "iopub.execute_input": "2020-10-19T11:40:20.772606Z",
     "iopub.status.busy": "2020-10-19T11:40:20.771432Z",
     "iopub.status.idle": "2020-10-19T11:40:20.776274Z",
     "shell.execute_reply": "2020-10-19T11:40:20.775641Z"
    },
    "papermill": {
     "duration": 0.080166,
     "end_time": "2020-10-19T11:40:20.776396",
     "exception": false,
     "start_time": "2020-10-19T11:40:20.696230",
     "status": "completed"
    },
    "tags": []
   },
   "outputs": [
    {
     "data": {
      "text/plain": [
       "False"
      ]
     },
     "execution_count": 30,
     "metadata": {},
     "output_type": "execute_result"
    }
   ],
   "source": [
    "f"
   ]
  },
  {
   "cell_type": "code",
   "execution_count": 31,
   "metadata": {
    "execution": {
     "iopub.execute_input": "2020-10-19T11:40:20.975282Z",
     "iopub.status.busy": "2020-10-19T11:40:20.974312Z",
     "iopub.status.idle": "2020-10-19T11:40:20.978973Z",
     "shell.execute_reply": "2020-10-19T11:40:20.978233Z"
    },
    "papermill": {
     "duration": 0.081765,
     "end_time": "2020-10-19T11:40:20.979096",
     "exception": false,
     "start_time": "2020-10-19T11:40:20.897331",
     "status": "completed"
    },
    "tags": []
   },
   "outputs": [
    {
     "data": {
      "text/plain": [
       "False"
      ]
     },
     "execution_count": 31,
     "metadata": {},
     "output_type": "execute_result"
    }
   ],
   "source": [
    "w and f"
   ]
  },
  {
   "cell_type": "code",
   "execution_count": 32,
   "metadata": {
    "execution": {
     "iopub.execute_input": "2020-10-19T11:40:21.133747Z",
     "iopub.status.busy": "2020-10-19T11:40:21.132658Z",
     "iopub.status.idle": "2020-10-19T11:40:21.137844Z",
     "shell.execute_reply": "2020-10-19T11:40:21.137107Z"
    },
    "papermill": {
     "duration": 0.087718,
     "end_time": "2020-10-19T11:40:21.137991",
     "exception": false,
     "start_time": "2020-10-19T11:40:21.050273",
     "status": "completed"
    },
    "tags": []
   },
   "outputs": [
    {
     "data": {
      "text/plain": [
       "False"
      ]
     },
     "execution_count": 32,
     "metadata": {},
     "output_type": "execute_result"
    }
   ],
   "source": [
    "f and f"
   ]
  },
  {
   "cell_type": "code",
   "execution_count": 33,
   "metadata": {
    "execution": {
     "iopub.execute_input": "2020-10-19T11:40:21.288782Z",
     "iopub.status.busy": "2020-10-19T11:40:21.287738Z",
     "iopub.status.idle": "2020-10-19T11:40:21.291304Z",
     "shell.execute_reply": "2020-10-19T11:40:21.291893Z"
    },
    "papermill": {
     "duration": 0.082186,
     "end_time": "2020-10-19T11:40:21.292072",
     "exception": false,
     "start_time": "2020-10-19T11:40:21.209886",
     "status": "completed"
    },
    "tags": []
   },
   "outputs": [
    {
     "data": {
      "text/plain": [
       "True"
      ]
     },
     "execution_count": 33,
     "metadata": {},
     "output_type": "execute_result"
    }
   ],
   "source": [
    "w or f"
   ]
  },
  {
   "cell_type": "code",
   "execution_count": 34,
   "metadata": {
    "execution": {
     "iopub.execute_input": "2020-10-19T11:40:21.443202Z",
     "iopub.status.busy": "2020-10-19T11:40:21.442114Z",
     "iopub.status.idle": "2020-10-19T11:40:21.446370Z",
     "shell.execute_reply": "2020-10-19T11:40:21.445632Z"
    },
    "papermill": {
     "duration": 0.081816,
     "end_time": "2020-10-19T11:40:21.446507",
     "exception": false,
     "start_time": "2020-10-19T11:40:21.364691",
     "status": "completed"
    },
    "tags": []
   },
   "outputs": [
    {
     "data": {
      "text/plain": [
       "False"
      ]
     },
     "execution_count": 34,
     "metadata": {},
     "output_type": "execute_result"
    }
   ],
   "source": [
    "not w"
   ]
  },
  {
   "cell_type": "code",
   "execution_count": 35,
   "metadata": {
    "execution": {
     "iopub.execute_input": "2020-10-19T11:40:21.599660Z",
     "iopub.status.busy": "2020-10-19T11:40:21.598657Z",
     "iopub.status.idle": "2020-10-19T11:40:21.603526Z",
     "shell.execute_reply": "2020-10-19T11:40:21.602684Z"
    },
    "papermill": {
     "duration": 0.083492,
     "end_time": "2020-10-19T11:40:21.603664",
     "exception": false,
     "start_time": "2020-10-19T11:40:21.520172",
     "status": "completed"
    },
    "tags": []
   },
   "outputs": [
    {
     "data": {
      "text/plain": [
       "True"
      ]
     },
     "execution_count": 35,
     "metadata": {},
     "output_type": "execute_result"
    }
   ],
   "source": [
    "not f"
   ]
  },
  {
   "cell_type": "code",
   "execution_count": 36,
   "metadata": {
    "execution": {
     "iopub.execute_input": "2020-10-19T11:40:21.757095Z",
     "iopub.status.busy": "2020-10-19T11:40:21.756200Z",
     "iopub.status.idle": "2020-10-19T11:40:21.760055Z",
     "shell.execute_reply": "2020-10-19T11:40:21.760591Z"
    },
    "papermill": {
     "duration": 0.083118,
     "end_time": "2020-10-19T11:40:21.760755",
     "exception": false,
     "start_time": "2020-10-19T11:40:21.677637",
     "status": "completed"
    },
    "tags": []
   },
   "outputs": [
    {
     "data": {
      "text/plain": [
       "False"
      ]
     },
     "execution_count": 36,
     "metadata": {},
     "output_type": "execute_result"
    }
   ],
   "source": [
    "(not w or f)"
   ]
  },
  {
   "cell_type": "code",
   "execution_count": 37,
   "metadata": {
    "execution": {
     "iopub.execute_input": "2020-10-19T11:40:21.916601Z",
     "iopub.status.busy": "2020-10-19T11:40:21.915536Z",
     "iopub.status.idle": "2020-10-19T11:40:21.919018Z",
     "shell.execute_reply": "2020-10-19T11:40:21.919597Z"
    },
    "papermill": {
     "duration": 0.083863,
     "end_time": "2020-10-19T11:40:21.919749",
     "exception": false,
     "start_time": "2020-10-19T11:40:21.835886",
     "status": "completed"
    },
    "tags": []
   },
   "outputs": [
    {
     "data": {
      "text/plain": [
       "bool"
      ]
     },
     "execution_count": 37,
     "metadata": {},
     "output_type": "execute_result"
    }
   ],
   "source": [
    "type(w)"
   ]
  },
  {
   "cell_type": "code",
   "execution_count": 38,
   "metadata": {
    "execution": {
     "iopub.execute_input": "2020-10-19T11:40:22.076300Z",
     "iopub.status.busy": "2020-10-19T11:40:22.075307Z",
     "iopub.status.idle": "2020-10-19T11:40:22.078340Z",
     "shell.execute_reply": "2020-10-19T11:40:22.077553Z"
    },
    "papermill": {
     "duration": 0.082855,
     "end_time": "2020-10-19T11:40:22.078510",
     "exception": false,
     "start_time": "2020-10-19T11:40:21.995655",
     "status": "completed"
    },
    "tags": []
   },
   "outputs": [],
   "source": [
    "nochnichtdas = \"s\""
   ]
  },
  {
   "cell_type": "code",
   "execution_count": 39,
   "metadata": {
    "execution": {
     "iopub.execute_input": "2020-10-19T11:40:22.237986Z",
     "iopub.status.busy": "2020-10-19T11:40:22.236784Z",
     "iopub.status.idle": "2020-10-19T11:40:22.241958Z",
     "shell.execute_reply": "2020-10-19T11:40:22.241208Z"
    },
    "papermill": {
     "duration": 0.085801,
     "end_time": "2020-10-19T11:40:22.242086",
     "exception": false,
     "start_time": "2020-10-19T11:40:22.156285",
     "status": "completed"
    },
    "tags": []
   },
   "outputs": [
    {
     "data": {
      "text/plain": [
       "'s'"
      ]
     },
     "execution_count": 39,
     "metadata": {},
     "output_type": "execute_result"
    }
   ],
   "source": [
    "nochnichtdas"
   ]
  },
  {
   "cell_type": "markdown",
   "metadata": {
    "papermill": {
     "duration": 0.075483,
     "end_time": "2020-10-19T11:40:22.393323",
     "exception": false,
     "start_time": "2020-10-19T11:40:22.317840",
     "status": "completed"
    },
    "tags": []
   },
   "source": [
    "# Vergleich\n",
    "* <, >, >=, <=, ==, !="
   ]
  },
  {
   "cell_type": "code",
   "execution_count": 40,
   "metadata": {
    "execution": {
     "iopub.execute_input": "2020-10-19T11:40:22.550952Z",
     "iopub.status.busy": "2020-10-19T11:40:22.550045Z",
     "iopub.status.idle": "2020-10-19T11:40:22.553452Z",
     "shell.execute_reply": "2020-10-19T11:40:22.552691Z"
    },
    "papermill": {
     "duration": 0.084213,
     "end_time": "2020-10-19T11:40:22.553576",
     "exception": false,
     "start_time": "2020-10-19T11:40:22.469363",
     "status": "completed"
    },
    "tags": []
   },
   "outputs": [],
   "source": [
    "a = 2\n",
    "b = 2\n",
    "c = 3"
   ]
  },
  {
   "cell_type": "code",
   "execution_count": 41,
   "metadata": {
    "execution": {
     "iopub.execute_input": "2020-10-19T11:40:22.710973Z",
     "iopub.status.busy": "2020-10-19T11:40:22.710157Z",
     "iopub.status.idle": "2020-10-19T11:40:22.714655Z",
     "shell.execute_reply": "2020-10-19T11:40:22.713889Z"
    },
    "papermill": {
     "duration": 0.085686,
     "end_time": "2020-10-19T11:40:22.714777",
     "exception": false,
     "start_time": "2020-10-19T11:40:22.629091",
     "status": "completed"
    },
    "tags": []
   },
   "outputs": [
    {
     "data": {
      "text/plain": [
       "True"
      ]
     },
     "execution_count": 41,
     "metadata": {},
     "output_type": "execute_result"
    }
   ],
   "source": [
    "a == b"
   ]
  },
  {
   "cell_type": "code",
   "execution_count": 42,
   "metadata": {
    "execution": {
     "iopub.execute_input": "2020-10-19T11:40:22.874193Z",
     "iopub.status.busy": "2020-10-19T11:40:22.873250Z",
     "iopub.status.idle": "2020-10-19T11:40:22.877603Z",
     "shell.execute_reply": "2020-10-19T11:40:22.878255Z"
    },
    "papermill": {
     "duration": 0.087311,
     "end_time": "2020-10-19T11:40:22.878425",
     "exception": false,
     "start_time": "2020-10-19T11:40:22.791114",
     "status": "completed"
    },
    "tags": []
   },
   "outputs": [
    {
     "data": {
      "text/plain": [
       "False"
      ]
     },
     "execution_count": 42,
     "metadata": {},
     "output_type": "execute_result"
    }
   ],
   "source": [
    "a == c"
   ]
  },
  {
   "cell_type": "code",
   "execution_count": 43,
   "metadata": {
    "execution": {
     "iopub.execute_input": "2020-10-19T11:40:23.042569Z",
     "iopub.status.busy": "2020-10-19T11:40:23.041498Z",
     "iopub.status.idle": "2020-10-19T11:40:23.045605Z",
     "shell.execute_reply": "2020-10-19T11:40:23.044837Z"
    },
    "papermill": {
     "duration": 0.086906,
     "end_time": "2020-10-19T11:40:23.045731",
     "exception": false,
     "start_time": "2020-10-19T11:40:22.958825",
     "status": "completed"
    },
    "tags": []
   },
   "outputs": [
    {
     "data": {
      "text/plain": [
       "False"
      ]
     },
     "execution_count": 43,
     "metadata": {},
     "output_type": "execute_result"
    }
   ],
   "source": [
    "a > c"
   ]
  },
  {
   "cell_type": "code",
   "execution_count": 44,
   "metadata": {
    "execution": {
     "iopub.execute_input": "2020-10-19T11:40:23.208109Z",
     "iopub.status.busy": "2020-10-19T11:40:23.207231Z",
     "iopub.status.idle": "2020-10-19T11:40:23.211868Z",
     "shell.execute_reply": "2020-10-19T11:40:23.211132Z"
    },
    "papermill": {
     "duration": 0.088639,
     "end_time": "2020-10-19T11:40:23.212021",
     "exception": false,
     "start_time": "2020-10-19T11:40:23.123382",
     "status": "completed"
    },
    "tags": []
   },
   "outputs": [
    {
     "data": {
      "text/plain": [
       "True"
      ]
     },
     "execution_count": 44,
     "metadata": {},
     "output_type": "execute_result"
    }
   ],
   "source": [
    "a < c"
   ]
  },
  {
   "cell_type": "code",
   "execution_count": 45,
   "metadata": {
    "execution": {
     "iopub.execute_input": "2020-10-19T11:40:23.376757Z",
     "iopub.status.busy": "2020-10-19T11:40:23.375598Z",
     "iopub.status.idle": "2020-10-19T11:40:23.379403Z",
     "shell.execute_reply": "2020-10-19T11:40:23.380034Z"
    },
    "papermill": {
     "duration": 0.087724,
     "end_time": "2020-10-19T11:40:23.380193",
     "exception": false,
     "start_time": "2020-10-19T11:40:23.292469",
     "status": "completed"
    },
    "tags": []
   },
   "outputs": [
    {
     "data": {
      "text/plain": [
       "True"
      ]
     },
     "execution_count": 45,
     "metadata": {},
     "output_type": "execute_result"
    }
   ],
   "source": [
    "a <= b"
   ]
  },
  {
   "cell_type": "code",
   "execution_count": 46,
   "metadata": {
    "execution": {
     "iopub.execute_input": "2020-10-19T11:40:23.544916Z",
     "iopub.status.busy": "2020-10-19T11:40:23.543916Z",
     "iopub.status.idle": "2020-10-19T11:40:23.548806Z",
     "shell.execute_reply": "2020-10-19T11:40:23.548080Z"
    },
    "papermill": {
     "duration": 0.089767,
     "end_time": "2020-10-19T11:40:23.548958",
     "exception": false,
     "start_time": "2020-10-19T11:40:23.459191",
     "status": "completed"
    },
    "tags": []
   },
   "outputs": [
    {
     "data": {
      "text/plain": [
       "True"
      ]
     },
     "execution_count": 46,
     "metadata": {},
     "output_type": "execute_result"
    }
   ],
   "source": [
    "(a == b) and (a < c)"
   ]
  },
  {
   "cell_type": "markdown",
   "metadata": {
    "papermill": {
     "duration": 0.079581,
     "end_time": "2020-10-19T11:40:23.708151",
     "exception": false,
     "start_time": "2020-10-19T11:40:23.628570",
     "status": "completed"
    },
    "tags": []
   },
   "source": [
    "# Verzweigung\n",
    "\n",
    "* wenn: if\n",
    "* sonst wenn: elif\n",
    "* Sonst: else"
   ]
  },
  {
   "cell_type": "code",
   "execution_count": 47,
   "metadata": {
    "execution": {
     "iopub.execute_input": "2020-10-19T11:40:23.872855Z",
     "iopub.status.busy": "2020-10-19T11:40:23.871808Z",
     "iopub.status.idle": "2020-10-19T11:40:23.875885Z",
     "shell.execute_reply": "2020-10-19T11:40:23.875144Z"
    },
    "papermill": {
     "duration": 0.089252,
     "end_time": "2020-10-19T11:40:23.876030",
     "exception": false,
     "start_time": "2020-10-19T11:40:23.786778",
     "status": "completed"
    },
    "tags": []
   },
   "outputs": [],
   "source": [
    "i = 1\n",
    "j = 1"
   ]
  },
  {
   "cell_type": "code",
   "execution_count": 48,
   "metadata": {
    "execution": {
     "iopub.execute_input": "2020-10-19T11:40:24.041759Z",
     "iopub.status.busy": "2020-10-19T11:40:24.040709Z",
     "iopub.status.idle": "2020-10-19T11:40:24.044323Z",
     "shell.execute_reply": "2020-10-19T11:40:24.044905Z"
    },
    "papermill": {
     "duration": 0.089905,
     "end_time": "2020-10-19T11:40:24.045079",
     "exception": false,
     "start_time": "2020-10-19T11:40:23.955174",
     "status": "completed"
    },
    "tags": []
   },
   "outputs": [
    {
     "name": "stdout",
     "output_type": "stream",
     "text": [
      "i ist gleich j\n"
     ]
    }
   ],
   "source": [
    "if i == j:\n",
    "    print(\"i ist gleich j\")"
   ]
  },
  {
   "cell_type": "code",
   "execution_count": 49,
   "metadata": {
    "execution": {
     "iopub.execute_input": "2020-10-19T11:40:24.213820Z",
     "iopub.status.busy": "2020-10-19T11:40:24.213045Z",
     "iopub.status.idle": "2020-10-19T11:40:24.216516Z",
     "shell.execute_reply": "2020-10-19T11:40:24.217066Z"
    },
    "papermill": {
     "duration": 0.09089,
     "end_time": "2020-10-19T11:40:24.217227",
     "exception": false,
     "start_time": "2020-10-19T11:40:24.126337",
     "status": "completed"
    },
    "tags": []
   },
   "outputs": [
    {
     "name": "stdout",
     "output_type": "stream",
     "text": [
      "i ist größer als j\n"
     ]
    }
   ],
   "source": [
    "i = 1\n",
    "j = 0\n",
    "if i == j:\n",
    "    print(\"i ist gleich j\")\n",
    "elif i < j:\n",
    "    print(\"i ist kleiner als j\")\n",
    "else:\n",
    "    print(\"i ist größer als j\")"
   ]
  },
  {
   "cell_type": "markdown",
   "metadata": {
    "papermill": {
     "duration": 0.080176,
     "end_time": "2020-10-19T11:40:24.379378",
     "exception": false,
     "start_time": "2020-10-19T11:40:24.299202",
     "status": "completed"
    },
    "tags": []
   },
   "source": [
    "# Listen\n",
    "\n",
    "Array"
   ]
  },
  {
   "cell_type": "code",
   "execution_count": 50,
   "metadata": {
    "execution": {
     "iopub.execute_input": "2020-10-19T11:40:24.546349Z",
     "iopub.status.busy": "2020-10-19T11:40:24.545245Z",
     "iopub.status.idle": "2020-10-19T11:40:24.547828Z",
     "shell.execute_reply": "2020-10-19T11:40:24.548378Z"
    },
    "papermill": {
     "duration": 0.088574,
     "end_time": "2020-10-19T11:40:24.548538",
     "exception": false,
     "start_time": "2020-10-19T11:40:24.459964",
     "status": "completed"
    },
    "tags": []
   },
   "outputs": [],
   "source": [
    "gewinn_1 = 200\n",
    "gewinn_2 = 500\n",
    "gewinn_3 = -200\n",
    "gewinn_4 = 0"
   ]
  },
  {
   "cell_type": "code",
   "execution_count": 51,
   "metadata": {
    "execution": {
     "iopub.execute_input": "2020-10-19T11:40:24.721670Z",
     "iopub.status.busy": "2020-10-19T11:40:24.720718Z",
     "iopub.status.idle": "2020-10-19T11:40:24.723829Z",
     "shell.execute_reply": "2020-10-19T11:40:24.723254Z"
    },
    "papermill": {
     "duration": 0.089393,
     "end_time": "2020-10-19T11:40:24.723972",
     "exception": false,
     "start_time": "2020-10-19T11:40:24.634579",
     "status": "completed"
    },
    "tags": []
   },
   "outputs": [],
   "source": [
    "summe = gewinn_1 + gewinn_2 + gewinn_3 + gewinn_4"
   ]
  },
  {
   "cell_type": "code",
   "execution_count": 52,
   "metadata": {
    "execution": {
     "iopub.execute_input": "2020-10-19T11:40:24.892069Z",
     "iopub.status.busy": "2020-10-19T11:40:24.891183Z",
     "iopub.status.idle": "2020-10-19T11:40:24.895786Z",
     "shell.execute_reply": "2020-10-19T11:40:24.895040Z"
    },
    "papermill": {
     "duration": 0.090841,
     "end_time": "2020-10-19T11:40:24.895909",
     "exception": false,
     "start_time": "2020-10-19T11:40:24.805068",
     "status": "completed"
    },
    "tags": []
   },
   "outputs": [
    {
     "data": {
      "text/plain": [
       "500"
      ]
     },
     "execution_count": 52,
     "metadata": {},
     "output_type": "execute_result"
    }
   ],
   "source": [
    "summe"
   ]
  },
  {
   "cell_type": "code",
   "execution_count": 53,
   "metadata": {
    "execution": {
     "iopub.execute_input": "2020-10-19T11:40:25.066713Z",
     "iopub.status.busy": "2020-10-19T11:40:25.065603Z",
     "iopub.status.idle": "2020-10-19T11:40:25.068886Z",
     "shell.execute_reply": "2020-10-19T11:40:25.068156Z"
    },
    "papermill": {
     "duration": 0.089858,
     "end_time": "2020-10-19T11:40:25.069044",
     "exception": false,
     "start_time": "2020-10-19T11:40:24.979186",
     "status": "completed"
    },
    "tags": []
   },
   "outputs": [],
   "source": [
    "gewinn = [200, 500, -200, 0]"
   ]
  },
  {
   "cell_type": "code",
   "execution_count": 54,
   "metadata": {
    "execution": {
     "iopub.execute_input": "2020-10-19T11:40:25.240545Z",
     "iopub.status.busy": "2020-10-19T11:40:25.239514Z",
     "iopub.status.idle": "2020-10-19T11:40:25.242918Z",
     "shell.execute_reply": "2020-10-19T11:40:25.243668Z"
    },
    "papermill": {
     "duration": 0.092221,
     "end_time": "2020-10-19T11:40:25.243844",
     "exception": false,
     "start_time": "2020-10-19T11:40:25.151623",
     "status": "completed"
    },
    "tags": []
   },
   "outputs": [
    {
     "data": {
      "text/plain": [
       "[200, 500, -200, 0]"
      ]
     },
     "execution_count": 54,
     "metadata": {},
     "output_type": "execute_result"
    }
   ],
   "source": [
    "gewinn"
   ]
  },
  {
   "cell_type": "code",
   "execution_count": 55,
   "metadata": {
    "execution": {
     "iopub.execute_input": "2020-10-19T11:40:25.414107Z",
     "iopub.status.busy": "2020-10-19T11:40:25.413035Z",
     "iopub.status.idle": "2020-10-19T11:40:25.417412Z",
     "shell.execute_reply": "2020-10-19T11:40:25.416790Z"
    },
    "papermill": {
     "duration": 0.091698,
     "end_time": "2020-10-19T11:40:25.417541",
     "exception": false,
     "start_time": "2020-10-19T11:40:25.325843",
     "status": "completed"
    },
    "tags": []
   },
   "outputs": [
    {
     "data": {
      "text/plain": [
       "list"
      ]
     },
     "execution_count": 55,
     "metadata": {},
     "output_type": "execute_result"
    }
   ],
   "source": [
    "type(gewinn)"
   ]
  },
  {
   "cell_type": "code",
   "execution_count": 56,
   "metadata": {
    "execution": {
     "iopub.execute_input": "2020-10-19T11:40:25.596560Z",
     "iopub.status.busy": "2020-10-19T11:40:25.595715Z",
     "iopub.status.idle": "2020-10-19T11:40:25.600135Z",
     "shell.execute_reply": "2020-10-19T11:40:25.599401Z"
    },
    "papermill": {
     "duration": 0.097444,
     "end_time": "2020-10-19T11:40:25.600264",
     "exception": false,
     "start_time": "2020-10-19T11:40:25.502820",
     "status": "completed"
    },
    "tags": []
   },
   "outputs": [
    {
     "data": {
      "text/plain": [
       "200"
      ]
     },
     "execution_count": 56,
     "metadata": {},
     "output_type": "execute_result"
    }
   ],
   "source": [
    "# Erster Wert\n",
    "gewinn[0]"
   ]
  },
  {
   "cell_type": "code",
   "execution_count": 57,
   "metadata": {
    "execution": {
     "iopub.execute_input": "2020-10-19T11:40:25.775966Z",
     "iopub.status.busy": "2020-10-19T11:40:25.774770Z",
     "iopub.status.idle": "2020-10-19T11:40:25.778972Z",
     "shell.execute_reply": "2020-10-19T11:40:25.778363Z"
    },
    "papermill": {
     "duration": 0.093589,
     "end_time": "2020-10-19T11:40:25.779093",
     "exception": false,
     "start_time": "2020-10-19T11:40:25.685504",
     "status": "completed"
    },
    "tags": []
   },
   "outputs": [
    {
     "data": {
      "text/plain": [
       "0"
      ]
     },
     "execution_count": 57,
     "metadata": {},
     "output_type": "execute_result"
    }
   ],
   "source": [
    "gewinn[3]"
   ]
  },
  {
   "cell_type": "code",
   "execution_count": 58,
   "metadata": {
    "execution": {
     "iopub.execute_input": "2020-10-19T11:40:25.956399Z",
     "iopub.status.busy": "2020-10-19T11:40:25.955357Z",
     "iopub.status.idle": "2020-10-19T11:40:25.960568Z",
     "shell.execute_reply": "2020-10-19T11:40:25.959768Z"
    },
    "papermill": {
     "duration": 0.095759,
     "end_time": "2020-10-19T11:40:25.960711",
     "exception": false,
     "start_time": "2020-10-19T11:40:25.864952",
     "status": "completed"
    },
    "tags": []
   },
   "outputs": [
    {
     "data": {
      "text/plain": [
       "0"
      ]
     },
     "execution_count": 58,
     "metadata": {},
     "output_type": "execute_result"
    }
   ],
   "source": [
    "gewinn[-1]"
   ]
  },
  {
   "cell_type": "code",
   "execution_count": 59,
   "metadata": {
    "execution": {
     "iopub.execute_input": "2020-10-19T11:40:26.138507Z",
     "iopub.status.busy": "2020-10-19T11:40:26.137596Z",
     "iopub.status.idle": "2020-10-19T11:40:26.142947Z",
     "shell.execute_reply": "2020-10-19T11:40:26.142260Z"
    },
    "papermill": {
     "duration": 0.096861,
     "end_time": "2020-10-19T11:40:26.143077",
     "exception": false,
     "start_time": "2020-10-19T11:40:26.046216",
     "status": "completed"
    },
    "tags": []
   },
   "outputs": [
    {
     "data": {
      "text/plain": [
       "4"
      ]
     },
     "execution_count": 59,
     "metadata": {},
     "output_type": "execute_result"
    }
   ],
   "source": [
    "len(gewinn)"
   ]
  },
  {
   "cell_type": "code",
   "execution_count": 60,
   "metadata": {
    "execution": {
     "iopub.execute_input": "2020-10-19T11:40:26.329870Z",
     "iopub.status.busy": "2020-10-19T11:40:26.328906Z",
     "iopub.status.idle": "2020-10-19T11:40:26.332458Z",
     "shell.execute_reply": "2020-10-19T11:40:26.333236Z"
    },
    "papermill": {
     "duration": 0.094796,
     "end_time": "2020-10-19T11:40:26.333428",
     "exception": false,
     "start_time": "2020-10-19T11:40:26.238632",
     "status": "completed"
    },
    "tags": []
   },
   "outputs": [
    {
     "name": "stdout",
     "output_type": "stream",
     "text": [
      "Help on built-in function len in module builtins:\n",
      "\n",
      "len(obj, /)\n",
      "    Return the number of items in a container.\n",
      "\n"
     ]
    }
   ],
   "source": [
    "help(len)"
   ]
  },
  {
   "cell_type": "code",
   "execution_count": 61,
   "metadata": {
    "execution": {
     "iopub.execute_input": "2020-10-19T11:40:26.512328Z",
     "iopub.status.busy": "2020-10-19T11:40:26.511204Z",
     "iopub.status.idle": "2020-10-19T11:40:26.516090Z",
     "shell.execute_reply": "2020-10-19T11:40:26.515309Z"
    },
    "papermill": {
     "duration": 0.095917,
     "end_time": "2020-10-19T11:40:26.516218",
     "exception": false,
     "start_time": "2020-10-19T11:40:26.420301",
     "status": "completed"
    },
    "tags": []
   },
   "outputs": [
    {
     "data": {
      "text/plain": [
       "0"
      ]
     },
     "execution_count": 61,
     "metadata": {},
     "output_type": "execute_result"
    }
   ],
   "source": [
    "anzahl_der_elemente = len(gewinn)\n",
    "gewinn[anzahl_der_elemente - 1]"
   ]
  },
  {
   "cell_type": "markdown",
   "metadata": {
    "papermill": {
     "duration": 0.087047,
     "end_time": "2020-10-19T11:40:26.690212",
     "exception": false,
     "start_time": "2020-10-19T11:40:26.603165",
     "status": "completed"
    },
    "tags": []
   },
   "source": [
    "# Schleifen\n",
    "\n",
    "* for Schleife\n",
    "* while Schleifen"
   ]
  },
  {
   "cell_type": "code",
   "execution_count": 62,
   "metadata": {
    "execution": {
     "iopub.execute_input": "2020-10-19T11:40:26.872138Z",
     "iopub.status.busy": "2020-10-19T11:40:26.871040Z",
     "iopub.status.idle": "2020-10-19T11:40:26.875670Z",
     "shell.execute_reply": "2020-10-19T11:40:26.874940Z"
    },
    "papermill": {
     "duration": 0.097871,
     "end_time": "2020-10-19T11:40:26.875791",
     "exception": false,
     "start_time": "2020-10-19T11:40:26.777920",
     "status": "completed"
    },
    "tags": []
   },
   "outputs": [
    {
     "name": "stdout",
     "output_type": "stream",
     "text": [
      "200\n",
      "500\n",
      "-200\n",
      "0\n"
     ]
    }
   ],
   "source": [
    "for g in gewinn:\n",
    "    print(g)"
   ]
  },
  {
   "cell_type": "code",
   "execution_count": 63,
   "metadata": {
    "execution": {
     "iopub.execute_input": "2020-10-19T11:40:27.058501Z",
     "iopub.status.busy": "2020-10-19T11:40:27.057549Z",
     "iopub.status.idle": "2020-10-19T11:40:27.063778Z",
     "shell.execute_reply": "2020-10-19T11:40:27.063095Z"
    },
    "papermill": {
     "duration": 0.10048,
     "end_time": "2020-10-19T11:40:27.063910",
     "exception": false,
     "start_time": "2020-10-19T11:40:26.963430",
     "status": "completed"
    },
    "tags": []
   },
   "outputs": [
    {
     "name": "stdout",
     "output_type": "stream",
     "text": [
      "0\n",
      "1\n",
      "2\n",
      "3\n",
      "4\n",
      "5\n",
      "6\n",
      "7\n",
      "8\n",
      "9\n"
     ]
    }
   ],
   "source": [
    "for i in range(10):\n",
    "    print(i)"
   ]
  },
  {
   "cell_type": "code",
   "execution_count": 64,
   "metadata": {
    "execution": {
     "iopub.execute_input": "2020-10-19T11:40:27.257882Z",
     "iopub.status.busy": "2020-10-19T11:40:27.256829Z",
     "iopub.status.idle": "2020-10-19T11:40:27.260722Z",
     "shell.execute_reply": "2020-10-19T11:40:27.261350Z"
    },
    "papermill": {
     "duration": 0.104766,
     "end_time": "2020-10-19T11:40:27.261514",
     "exception": false,
     "start_time": "2020-10-19T11:40:27.156748",
     "status": "completed"
    },
    "tags": []
   },
   "outputs": [
    {
     "name": "stdout",
     "output_type": "stream",
     "text": [
      "Help on class range in module builtins:\n",
      "\n",
      "class range(object)\n",
      " |  range(stop) -> range object\n",
      " |  range(start, stop[, step]) -> range object\n",
      " |  \n",
      " |  Return an object that produces a sequence of integers from start (inclusive)\n",
      " |  to stop (exclusive) by step.  range(i, j) produces i, i+1, i+2, ..., j-1.\n",
      " |  start defaults to 0, and stop is omitted!  range(4) produces 0, 1, 2, 3.\n",
      " |  These are exactly the valid indices for a list of 4 elements.\n",
      " |  When step is given, it specifies the increment (or decrement).\n",
      " |  \n",
      " |  Methods defined here:\n",
      " |  \n",
      " |  __bool__(self, /)\n",
      " |      self != 0\n",
      " |  \n",
      " |  __contains__(self, key, /)\n",
      " |      Return key in self.\n",
      " |  \n",
      " |  __eq__(self, value, /)\n",
      " |      Return self==value.\n",
      " |  \n",
      " |  __ge__(self, value, /)\n",
      " |      Return self>=value.\n",
      " |  \n",
      " |  __getattribute__(self, name, /)\n",
      " |      Return getattr(self, name).\n",
      " |  \n",
      " |  __getitem__(self, key, /)\n",
      " |      Return self[key].\n",
      " |  \n",
      " |  __gt__(self, value, /)\n",
      " |      Return self>value.\n",
      " |  \n",
      " |  __hash__(self, /)\n",
      " |      Return hash(self).\n",
      " |  \n",
      " |  __iter__(self, /)\n",
      " |      Implement iter(self).\n",
      " |  \n",
      " |  __le__(self, value, /)\n",
      " |      Return self<=value.\n",
      " |  \n",
      " |  __len__(self, /)\n",
      " |      Return len(self).\n",
      " |  \n",
      " |  __lt__(self, value, /)\n",
      " |      Return self<value.\n",
      " |  \n",
      " |  __ne__(self, value, /)\n",
      " |      Return self!=value.\n",
      " |  \n",
      " |  __reduce__(...)\n",
      " |      Helper for pickle.\n",
      " |  \n",
      " |  __repr__(self, /)\n",
      " |      Return repr(self).\n",
      " |  \n",
      " |  __reversed__(...)\n",
      " |      Return a reverse iterator.\n",
      " |  \n",
      " |  count(...)\n",
      " |      rangeobject.count(value) -> integer -- return number of occurrences of value\n",
      " |  \n",
      " |  index(...)\n",
      " |      rangeobject.index(value) -> integer -- return index of value.\n",
      " |      Raise ValueError if the value is not present.\n",
      " |  \n",
      " |  ----------------------------------------------------------------------\n",
      " |  Static methods defined here:\n",
      " |  \n",
      " |  __new__(*args, **kwargs) from builtins.type\n",
      " |      Create and return a new object.  See help(type) for accurate signature.\n",
      " |  \n",
      " |  ----------------------------------------------------------------------\n",
      " |  Data descriptors defined here:\n",
      " |  \n",
      " |  start\n",
      " |  \n",
      " |  step\n",
      " |  \n",
      " |  stop\n",
      "\n"
     ]
    }
   ],
   "source": [
    "help(range)"
   ]
  },
  {
   "cell_type": "code",
   "execution_count": 65,
   "metadata": {
    "execution": {
     "iopub.execute_input": "2020-10-19T11:40:27.445044Z",
     "iopub.status.busy": "2020-10-19T11:40:27.444118Z",
     "iopub.status.idle": "2020-10-19T11:40:27.447614Z",
     "shell.execute_reply": "2020-10-19T11:40:27.449252Z"
    },
    "papermill": {
     "duration": 0.099168,
     "end_time": "2020-10-19T11:40:27.449425",
     "exception": false,
     "start_time": "2020-10-19T11:40:27.350257",
     "status": "completed"
    },
    "tags": []
   },
   "outputs": [
    {
     "name": "stdout",
     "output_type": "stream",
     "text": [
      "1\n",
      "2\n",
      "3\n",
      "4\n",
      "5\n",
      "6\n",
      "7\n",
      "8\n",
      "9\n",
      "10\n"
     ]
    }
   ],
   "source": [
    "for i in range(1, 11):\n",
    "    print(i)"
   ]
  },
  {
   "cell_type": "markdown",
   "metadata": {
    "papermill": {
     "duration": 0.134741,
     "end_time": "2020-10-19T11:40:27.673710",
     "exception": false,
     "start_time": "2020-10-19T11:40:27.538969",
     "status": "completed"
    },
    "tags": []
   },
   "source": [
    "# Aufgabe:\n",
    "Erstelle eine Funktion die die Gewinne in einer Liste summiert und zurückgibt. "
   ]
  },
  {
   "cell_type": "code",
   "execution_count": 66,
   "metadata": {
    "execution": {
     "iopub.execute_input": "2020-10-19T11:40:27.870982Z",
     "iopub.status.busy": "2020-10-19T11:40:27.869882Z",
     "iopub.status.idle": "2020-10-19T11:40:27.875534Z",
     "shell.execute_reply": "2020-10-19T11:40:27.874761Z"
    },
    "papermill": {
     "duration": 0.103096,
     "end_time": "2020-10-19T11:40:27.875664",
     "exception": false,
     "start_time": "2020-10-19T11:40:27.772568",
     "status": "completed"
    },
    "tags": []
   },
   "outputs": [
    {
     "data": {
      "text/plain": [
       "500"
      ]
     },
     "execution_count": 66,
     "metadata": {},
     "output_type": "execute_result"
    }
   ],
   "source": [
    "sum(gewinn)"
   ]
  },
  {
   "cell_type": "code",
   "execution_count": 67,
   "metadata": {
    "execution": {
     "iopub.execute_input": "2020-10-19T11:40:28.066396Z",
     "iopub.status.busy": "2020-10-19T11:40:28.065481Z",
     "iopub.status.idle": "2020-10-19T11:40:28.069904Z",
     "shell.execute_reply": "2020-10-19T11:40:28.069325Z"
    },
    "papermill": {
     "duration": 0.103,
     "end_time": "2020-10-19T11:40:28.070052",
     "exception": false,
     "start_time": "2020-10-19T11:40:27.967052",
     "status": "completed"
    },
    "tags": []
   },
   "outputs": [
    {
     "data": {
      "text/plain": [
       "500"
      ]
     },
     "execution_count": 67,
     "metadata": {},
     "output_type": "execute_result"
    }
   ],
   "source": [
    "def summieren(gewinne):\n",
    "    \"\"\"\n",
    "    Summiert unsere Gewinne\n",
    "    \"\"\"\n",
    "    summe = 0\n",
    "    for gewinn in gewinne:\n",
    "        summe += gewinn\n",
    "    return summe\n",
    "\n",
    "summieren(gewinn)"
   ]
  },
  {
   "cell_type": "code",
   "execution_count": 68,
   "metadata": {
    "execution": {
     "iopub.execute_input": "2020-10-19T11:40:28.258210Z",
     "iopub.status.busy": "2020-10-19T11:40:28.257226Z",
     "iopub.status.idle": "2020-10-19T11:40:28.261535Z",
     "shell.execute_reply": "2020-10-19T11:40:28.260755Z"
    },
    "papermill": {
     "duration": 0.100428,
     "end_time": "2020-10-19T11:40:28.261663",
     "exception": false,
     "start_time": "2020-10-19T11:40:28.161235",
     "status": "completed"
    },
    "tags": []
   },
   "outputs": [
    {
     "name": "stdout",
     "output_type": "stream",
     "text": [
      "Help on function summieren in module __main__:\n",
      "\n",
      "summieren(gewinne)\n",
      "    Summiert unsere Gewinne\n",
      "\n"
     ]
    }
   ],
   "source": [
    "help(summieren)"
   ]
  },
  {
   "cell_type": "code",
   "execution_count": 69,
   "metadata": {
    "execution": {
     "iopub.execute_input": "2020-10-19T11:40:28.455513Z",
     "iopub.status.busy": "2020-10-19T11:40:28.454411Z",
     "iopub.status.idle": "2020-10-19T11:40:28.459060Z",
     "shell.execute_reply": "2020-10-19T11:40:28.458471Z"
    },
    "papermill": {
     "duration": 0.103073,
     "end_time": "2020-10-19T11:40:28.459191",
     "exception": false,
     "start_time": "2020-10-19T11:40:28.356118",
     "status": "completed"
    },
    "tags": []
   },
   "outputs": [
    {
     "data": {
      "text/plain": [
       "500"
      ]
     },
     "execution_count": 69,
     "metadata": {},
     "output_type": "execute_result"
    }
   ],
   "source": [
    "def summieren_mit_while(gewinne):\n",
    "    i = 0\n",
    "    summe = 0\n",
    "    while i < len(gewinne) - 1:\n",
    "        summe += gewinne[i]\n",
    "        i += 1\n",
    "    return summe\n",
    "\n",
    "summieren_mit_while(gewinn)"
   ]
  },
  {
   "cell_type": "code",
   "execution_count": null,
   "metadata": {
    "papermill": {
     "duration": 0.096595,
     "end_time": "2020-10-19T11:40:28.647106",
     "exception": false,
     "start_time": "2020-10-19T11:40:28.550511",
     "status": "completed"
    },
    "tags": []
   },
   "outputs": [],
   "source": []
  }
 ],
 "metadata": {
  "kernelspec": {
   "display_name": "Python 3",
   "language": "python",
   "name": "python3"
  },
  "language_info": {
   "codemirror_mode": {
    "name": "ipython",
    "version": 3
   },
   "file_extension": ".py",
   "mimetype": "text/x-python",
   "name": "python",
   "nbconvert_exporter": "python",
   "pygments_lexer": "ipython3",
   "version": "3.7.6"
  },
  "papermill": {
   "duration": 18.041888,
   "end_time": "2020-10-19T11:40:28.846376",
   "environment_variables": {},
   "exception": null,
   "input_path": "__notebook__.ipynb",
   "output_path": "__notebook__.ipynb",
   "parameters": {},
   "start_time": "2020-10-19T11:40:10.804488",
   "version": "2.1.0"
  }
 },
 "nbformat": 4,
 "nbformat_minor": 4
}
