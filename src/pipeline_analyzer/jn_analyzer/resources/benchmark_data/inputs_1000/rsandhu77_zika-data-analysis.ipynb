{
  "cells": [
    {
      "cell_type": "markdown",
      "metadata": {
        "_cell_guid": "cc539e58-f51d-3fd1-edb3-b166179410fd"
      },
      "source": [
        "I have done some clean up but more study should be consecrated to the data_field field. This is just a start point."
      ]
    },
    {
      "cell_type": "markdown",
      "metadata": {
        "_cell_guid": "cc3d856d-fc37-3c21-54df-f6d014294b63"
      },
      "source": [
        "**Cleaning up**"
      ]
    },
    {
      "cell_type": "code",
      "execution_count": null,
      "metadata": {
        "_cell_guid": "74f38695-cfd9-bb4a-f7c3-22de7d643067"
      },
      "outputs": [],
      "source": [
        "library(\"dplyr\")\n",
        "library(ggplot2)\n",
        "\n",
        "system(\"ls ../input\")\n",
        "zika = read.csv(\"../input/cdc_zika.csv\", stringsAsFactors = F, header = T)\n",
        "\n",
        "# cleaning up empty values and cases = 'municipalities'\n",
        "zika1 <- subset(zika, !is.na(value) & unit == 'cases')\n",
        "\n",
        "# treatment for country\n",
        "my_country_name <- c(\"ARGENTINA\",\"BRAZIL\",\"COLOMBIA\",\"DOMINICAN REPUBLIC\",\"ECUADOR\",\"EL SALVADOR\",\"GUATEMALA\",\"HAITI\",\"MEXICO\",\"NICARAGUA\",\"PANAMA\",\"PUERTO RICO\",\"UNITED STATES\",\"VIRGIN ISLANDS, U.S.\")\n",
        "names(my_country_name) <- c(\"AR\",\"BR\", \"CO\", \"DO\", \"EC\", \"SV\", \"GT\", \"HT\", \"MX\", \"NI\", \"PA\", \"PR\", \"US\", \"VI\")\n",
        "\n",
        "# fixing code for Haiti\n",
        "zika1$country_code <- ifelse(substr(zika1$data_field_code,1, 2) == \"HA\", \"HT\", substr(zika1$data_field_code,1, 2)) \n",
        "zika1$country <- as.character(my_country_name[zika1$country_code])\n",
        "\n",
        "# year_month - new field\n",
        "zika1$year_month <- format(as.Date(zika1$report_date,format=\"%Y-%m-%d\"), \"%Y-%m\")\n",
        "\n",
        "# year - new field\n",
        "zika1$year <- format(as.Date(zika1$report_date,format=\"%Y-%m-%d\"), \"%Y\")\n",
        "\n",
        "# Treatment to remove redundat records\n",
        "my_location_code <- c(10,9,8,7,6,5,4,3,2,1)\n",
        "names(my_location_code) <- c(\"country\",\"territory\",\"region\",\"province\",\"state\",\"county\",\"municipality\",\"department\",\"district\",\"city\")\n",
        "zika1$location_weight <- as.character(my_location_code[zika1$location_type])\n",
        "\n",
        "zika2 <- summarise(group_by(zika1, report_date, data_field_code),\n",
        "                   min_location = min(location_weight))\n",
        "\n",
        "zika1$identifier <- paste(zika1$report_date, zika1$data_field_code, sep=\"/\")\n",
        "zika2$identifier <- paste(zika2$report_date, zika2$data_field_code, sep=\"/\")\n",
        "\n",
        "# attempt to create a dictionary\n",
        "min_locations <- zika2$min_location\n",
        "names(min_locations) <- zika2$identifier\n",
        "zika1$min_location <- as.character(min_locations[zika1$identifier])\n",
        "\n",
        "zika1$value <- strtoi(zika1$value)\n",
        "\n",
        "# removing reduntant records to the same report_date + data_field_code\n",
        "my_data <- filter(zika1, !is.na(value) & location_weight == min_location )\n",
        "\n",
        "\n",
        "\n",
        "\n",
        "\n",
        "# Zika cases evolution by country\n",
        "ggplot(data=my_data,\n",
        "       aes(x=year_month,\n",
        "           y=value,\n",
        "           fill=country))+\n",
        "  geom_bar(stat='identity') + \n",
        "  xlab('Year-Month') + \n",
        "  ylab('Number of cases') +\n",
        "  ggtitle('Number of cases by time')\n",
        "\n",
        "\n",
        "# Evolution in the top 6 countries\n",
        "my_data_by_country <- head(arrange(summarise(group_by(my_data, country),cases=sum(value)),desc(cases)),n=6)\n",
        "top6 <- my_data_by_country$country\n",
        "ggplot(data=subset(my_data, country %in% top6),\n",
        "       aes(x=year_month,\n",
        "           y=value,\n",
        "           fill=country))+\n",
        "  geom_bar(stat='identity') + \n",
        "  xlab('Country') + \n",
        "  ylab('Number of cases') +\n",
        "  ggtitle('Number of cases by time - Top 6 Countries')\n",
        "\n",
        "# Brazil shows a huge decrease in the last months. Based on recent news, I believe it is missing data.\n",
        "\n",
        "# Number of cases for 6 top countries\n",
        "\n",
        "ggplot(my_data_by_country, \n",
        "       aes(x = reorder(country, desc(cases)), \n",
        "           y = cases,\n",
        "           fill = cases)) + \n",
        "  geom_bar(stat='identity') + \n",
        "  xlab('Country') + \n",
        "  ylab('Number of cases') +\n",
        "  ggtitle('Number of cases - Top 6 Countries')\n",
        "\n",
        "# Brazil and Colombia are the worst countries and it justifies a more detailed view.\n",
        "\n",
        "my_data_top2 <- head(arrange(summarise(group_by(my_data, country),cases=sum(value)),desc(cases)),n=2)\n",
        "top2 <- my_data_top2$country\n",
        "ggplot(data=subset(my_data, country %in% top2),\n",
        "       aes(x = reorder(country, desc(value)), \n",
        "           y = value,\n",
        "           fill = data_field)) + \n",
        "  geom_bar(stat='identity') + \n",
        "  xlab('Country') + \n",
        "  ylab('Number of cases') +\n",
        "  ggtitle('Cases - Top 2 countries')\n",
        "\n",
        "# For both countries, I'm wondering if \"zika_suspected\" and \"zika-reported\" will turn to zika_confirmed. If it is the case, many records may be redundants.\n",
        "\n",
        "# Microcephaly cases\n",
        "\n",
        "microcephaly <- c(\"microcephaly_confirmed\",\"microcephaly_confirmed_cumulative\",\"microcephaly_fatal_confirmed\",\"microcephaly_fatal_not\",\"microcephaly_fatal_under_investigation\",\"microcephaly_not\",\"microcephaly_suspected\",\"microcephaly_suspected_4weeks\",\"microcephaly_suspected_cumulative\",\"microcephaly_under_investigation\")\n",
        "ggplot(data=subset(my_data, data_field %in% microcephaly),\n",
        "       aes(x = reorder(country, desc(value)), \n",
        "           y = value,\n",
        "           fill = data_field)) + \n",
        "  geom_bar(stat='identity') + \n",
        "  xlab('Country') + \n",
        "  ylab('Number of cases') +\n",
        "  ggtitle('Microcephaly cases')\n",
        "\n"
      ]
    },
    {
      "cell_type": "markdown",
      "metadata": {
        "_cell_guid": "e0e47944-722f-939c-0627-e88a48223f31"
      },
      "source": [
        "*For now, Brazil is the only country with microcephaly. Dominican Republic has records with zero values. I wonder if other countries are recording microcephaly cases.*"
      ]
    }
  ],
  "metadata": {
    "_change_revision": 2,
    "_is_fork": false,
    "kernelspec": {
      "display_name": "Python 3",
      "language": "python",
      "name": "python3"
    },
    "language_info": {
      "codemirror_mode": {
        "name": "ipython",
        "version": 3
      },
      "file_extension": ".py",
      "mimetype": "text/x-python",
      "name": "python",
      "nbconvert_exporter": "python",
      "pygments_lexer": "ipython3",
      "version": "3.5.2"
    }
  },
  "nbformat": 4,
  "nbformat_minor": 0
}