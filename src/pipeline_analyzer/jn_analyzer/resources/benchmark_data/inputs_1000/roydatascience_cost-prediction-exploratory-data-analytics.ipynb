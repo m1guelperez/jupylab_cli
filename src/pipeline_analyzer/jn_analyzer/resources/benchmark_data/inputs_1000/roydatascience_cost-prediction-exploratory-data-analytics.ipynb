{
 "cells": [
  {
   "cell_type": "code",
   "execution_count": 1,
   "metadata": {
    "_cell_guid": "b1076dfc-b9ad-4769-8c92-a6c4dae69d19",
    "_uuid": "8f2839f25d086af736a60e9eeb907d3b93b6e0e5",
    "execution": {
     "iopub.execute_input": "2020-10-17T05:22:11.087367Z",
     "iopub.status.busy": "2020-10-17T05:22:11.086696Z",
     "iopub.status.idle": "2020-10-17T05:22:12.650045Z",
     "shell.execute_reply": "2020-10-17T05:22:12.649301Z"
    },
    "papermill": {
     "duration": 1.611371,
     "end_time": "2020-10-17T05:22:12.650165",
     "exception": false,
     "start_time": "2020-10-17T05:22:11.038794",
     "status": "completed"
    },
    "tags": []
   },
   "outputs": [],
   "source": [
    "import numpy as np\n",
    "import pandas as pd\n",
    "import os\n",
    "import time\n",
    "import warnings\n",
    "import os\n",
    "from six.moves import urllib\n",
    "import seaborn as sns\n",
    "import matplotlib\n",
    "import matplotlib.pyplot as plt\n",
    "warnings.filterwarnings('ignore')\n",
    "\n",
    "import statsmodels.api  as sm"
   ]
  },
  {
   "cell_type": "code",
   "execution_count": 2,
   "metadata": {
    "_cell_guid": "79c7e3d0-c299-4dcb-8224-4455121ee9b0",
    "_uuid": "d629ff2d2480ee46fbb7e2d37f6b5fab8052498a",
    "execution": {
     "iopub.execute_input": "2020-10-17T05:22:12.738741Z",
     "iopub.status.busy": "2020-10-17T05:22:12.738057Z",
     "iopub.status.idle": "2020-10-17T05:22:13.081433Z",
     "shell.execute_reply": "2020-10-17T05:22:13.080760Z"
    },
    "papermill": {
     "duration": 0.39054,
     "end_time": "2020-10-17T05:22:13.081566",
     "exception": false,
     "start_time": "2020-10-17T05:22:12.691026",
     "status": "completed"
    },
    "tags": []
   },
   "outputs": [],
   "source": [
    "from sklearn.preprocessing import OneHotEncoder, LabelEncoder\n",
    "from sklearn import feature_selection\n",
    "from sklearn import model_selection\n",
    "from sklearn import metrics\n",
    "from sklearn.base import BaseEstimator, TransformerMixin\n",
    "from sklearn.utils import check_array\n",
    "from scipy import sparse\n",
    "from sklearn.model_selection import train_test_split"
   ]
  },
  {
   "cell_type": "code",
   "execution_count": 3,
   "metadata": {
    "execution": {
     "iopub.execute_input": "2020-10-17T05:22:13.169875Z",
     "iopub.status.busy": "2020-10-17T05:22:13.169195Z",
     "iopub.status.idle": "2020-10-17T05:22:13.212881Z",
     "shell.execute_reply": "2020-10-17T05:22:13.212135Z"
    },
    "papermill": {
     "duration": 0.089599,
     "end_time": "2020-10-17T05:22:13.212999",
     "exception": false,
     "start_time": "2020-10-17T05:22:13.123400",
     "status": "completed"
    },
    "tags": []
   },
   "outputs": [],
   "source": [
    "from sklearn.preprocessing import StandardScaler, MinMaxScaler\n",
    "from sklearn.utils import shuffle\n",
    "from sklearn.pipeline import Pipeline\n",
    "from sklearn.pipeline import FeatureUnion\n",
    "from sklearn.preprocessing import LabelEncoder\n",
    "\n",
    "from lightgbm import LGBMRegressor\n",
    "from sklearn.feature_selection import RFECV\n",
    "from sklearn.model_selection import KFold "
   ]
  },
  {
   "cell_type": "markdown",
   "metadata": {
    "papermill": {
     "duration": 0.040176,
     "end_time": "2020-10-17T05:22:13.293738",
     "exception": false,
     "start_time": "2020-10-17T05:22:13.253562",
     "status": "completed"
    },
    "tags": []
   },
   "source": [
    "# Import the Data"
   ]
  },
  {
   "cell_type": "code",
   "execution_count": 4,
   "metadata": {
    "execution": {
     "iopub.execute_input": "2020-10-17T05:22:13.381082Z",
     "iopub.status.busy": "2020-10-17T05:22:13.380006Z",
     "iopub.status.idle": "2020-10-17T05:22:13.469803Z",
     "shell.execute_reply": "2020-10-17T05:22:13.469234Z"
    },
    "papermill": {
     "duration": 0.13585,
     "end_time": "2020-10-17T05:22:13.469931",
     "exception": false,
     "start_time": "2020-10-17T05:22:13.334081",
     "status": "completed"
    },
    "tags": []
   },
   "outputs": [],
   "source": [
    "DataFile = pd.read_csv(\"../input/cost-prediction-for-logistic-company/train.csv\")"
   ]
  },
  {
   "cell_type": "code",
   "execution_count": 5,
   "metadata": {
    "execution": {
     "iopub.execute_input": "2020-10-17T05:22:13.565792Z",
     "iopub.status.busy": "2020-10-17T05:22:13.565112Z",
     "iopub.status.idle": "2020-10-17T05:22:13.576104Z",
     "shell.execute_reply": "2020-10-17T05:22:13.575545Z"
    },
    "papermill": {
     "duration": 0.065643,
     "end_time": "2020-10-17T05:22:13.576214",
     "exception": false,
     "start_time": "2020-10-17T05:22:13.510571",
     "status": "completed"
    },
    "tags": []
   },
   "outputs": [
    {
     "data": {
      "text/html": [
       "<div>\n",
       "<style scoped>\n",
       "    .dataframe tbody tr th:only-of-type {\n",
       "        vertical-align: middle;\n",
       "    }\n",
       "\n",
       "    .dataframe tbody tr th {\n",
       "        vertical-align: top;\n",
       "    }\n",
       "\n",
       "    .dataframe thead th {\n",
       "        text-align: right;\n",
       "    }\n",
       "</style>\n",
       "<table border=\"1\" class=\"dataframe\">\n",
       "  <thead>\n",
       "    <tr style=\"text-align: right;\">\n",
       "      <th></th>\n",
       "      <th>trip</th>\n",
       "      <th>date</th>\n",
       "      <th>dayPart</th>\n",
       "      <th>exWeatherTag</th>\n",
       "      <th>originLocation</th>\n",
       "      <th>destinationLocation</th>\n",
       "      <th>distance</th>\n",
       "      <th>type</th>\n",
       "      <th>weight</th>\n",
       "      <th>packageType</th>\n",
       "      <th>carrier</th>\n",
       "      <th>cost</th>\n",
       "    </tr>\n",
       "  </thead>\n",
       "  <tbody>\n",
       "    <tr>\n",
       "      <th>0</th>\n",
       "      <td>t52712528</td>\n",
       "      <td>2017-09-06</td>\n",
       "      <td>night</td>\n",
       "      <td>NaN</td>\n",
       "      <td>S4</td>\n",
       "      <td>D7</td>\n",
       "      <td>2200</td>\n",
       "      <td>expedited</td>\n",
       "      <td>50</td>\n",
       "      <td>NaN</td>\n",
       "      <td>D</td>\n",
       "      <td>68.413152</td>\n",
       "    </tr>\n",
       "    <tr>\n",
       "      <th>1</th>\n",
       "      <td>t29859381</td>\n",
       "      <td>2017-10-21</td>\n",
       "      <td>night</td>\n",
       "      <td>NaN</td>\n",
       "      <td>S8</td>\n",
       "      <td>D1</td>\n",
       "      <td>1800</td>\n",
       "      <td>NaN</td>\n",
       "      <td>12</td>\n",
       "      <td>NaN</td>\n",
       "      <td>B</td>\n",
       "      <td>36.450649</td>\n",
       "    </tr>\n",
       "  </tbody>\n",
       "</table>\n",
       "</div>"
      ],
      "text/plain": [
       "        trip        date dayPart exWeatherTag originLocation  \\\n",
       "0  t52712528  2017-09-06   night          NaN             S4   \n",
       "1  t29859381  2017-10-21   night          NaN             S8   \n",
       "\n",
       "  destinationLocation  distance       type  weight packageType carrier  \\\n",
       "0                  D7      2200  expedited      50         NaN       D   \n",
       "1                  D1      1800        NaN      12         NaN       B   \n",
       "\n",
       "        cost  \n",
       "0  68.413152  \n",
       "1  36.450649  "
      ]
     },
     "execution_count": 5,
     "metadata": {},
     "output_type": "execute_result"
    }
   ],
   "source": [
    "DataFile.head(2)"
   ]
  },
  {
   "cell_type": "code",
   "execution_count": 6,
   "metadata": {
    "execution": {
     "iopub.execute_input": "2020-10-17T05:22:13.678824Z",
     "iopub.status.busy": "2020-10-17T05:22:13.678111Z",
     "iopub.status.idle": "2020-10-17T05:22:13.692787Z",
     "shell.execute_reply": "2020-10-17T05:22:13.691916Z"
    },
    "papermill": {
     "duration": 0.074903,
     "end_time": "2020-10-17T05:22:13.692945",
     "exception": false,
     "start_time": "2020-10-17T05:22:13.618042",
     "status": "completed"
    },
    "tags": []
   },
   "outputs": [
    {
     "name": "stdout",
     "output_type": "stream",
     "text": [
      "<class 'pandas.core.frame.DataFrame'>\n",
      "RangeIndex: 38999 entries, 0 to 38998\n",
      "Data columns (total 12 columns):\n",
      " #   Column               Non-Null Count  Dtype  \n",
      "---  ------               --------------  -----  \n",
      " 0   trip                 38999 non-null  object \n",
      " 1   date                 38999 non-null  object \n",
      " 2   dayPart              38999 non-null  object \n",
      " 3   exWeatherTag         4882 non-null   object \n",
      " 4   originLocation       38999 non-null  object \n",
      " 5   destinationLocation  38999 non-null  object \n",
      " 6   distance             38999 non-null  int64  \n",
      " 7   type                 3748 non-null   object \n",
      " 8   weight               38999 non-null  int64  \n",
      " 9   packageType          2500 non-null   object \n",
      " 10  carrier              38999 non-null  object \n",
      " 11  cost                 38999 non-null  float64\n",
      "dtypes: float64(1), int64(2), object(9)\n",
      "memory usage: 3.6+ MB\n"
     ]
    }
   ],
   "source": [
    "DataFile.info()"
   ]
  },
  {
   "cell_type": "code",
   "execution_count": 7,
   "metadata": {
    "execution": {
     "iopub.execute_input": "2020-10-17T05:22:13.786850Z",
     "iopub.status.busy": "2020-10-17T05:22:13.786082Z",
     "iopub.status.idle": "2020-10-17T05:22:13.807042Z",
     "shell.execute_reply": "2020-10-17T05:22:13.807489Z"
    },
    "papermill": {
     "duration": 0.072053,
     "end_time": "2020-10-17T05:22:13.807671",
     "exception": false,
     "start_time": "2020-10-17T05:22:13.735618",
     "status": "completed"
    },
    "tags": []
   },
   "outputs": [
    {
     "data": {
      "text/html": [
       "<div>\n",
       "<style scoped>\n",
       "    .dataframe tbody tr th:only-of-type {\n",
       "        vertical-align: middle;\n",
       "    }\n",
       "\n",
       "    .dataframe tbody tr th {\n",
       "        vertical-align: top;\n",
       "    }\n",
       "\n",
       "    .dataframe thead th {\n",
       "        text-align: right;\n",
       "    }\n",
       "</style>\n",
       "<table border=\"1\" class=\"dataframe\">\n",
       "  <thead>\n",
       "    <tr style=\"text-align: right;\">\n",
       "      <th></th>\n",
       "      <th>distance</th>\n",
       "      <th>weight</th>\n",
       "      <th>cost</th>\n",
       "    </tr>\n",
       "  </thead>\n",
       "  <tbody>\n",
       "    <tr>\n",
       "      <th>count</th>\n",
       "      <td>38999.000000</td>\n",
       "      <td>38999.000000</td>\n",
       "      <td>38999.000000</td>\n",
       "    </tr>\n",
       "    <tr>\n",
       "      <th>mean</th>\n",
       "      <td>2004.061643</td>\n",
       "      <td>42.293033</td>\n",
       "      <td>80.972210</td>\n",
       "    </tr>\n",
       "    <tr>\n",
       "      <th>std</th>\n",
       "      <td>728.996843</td>\n",
       "      <td>75.473752</td>\n",
       "      <td>180.715055</td>\n",
       "    </tr>\n",
       "    <tr>\n",
       "      <th>min</th>\n",
       "      <td>400.000000</td>\n",
       "      <td>1.000000</td>\n",
       "      <td>5.000000</td>\n",
       "    </tr>\n",
       "    <tr>\n",
       "      <th>25%</th>\n",
       "      <td>1400.000000</td>\n",
       "      <td>13.000000</td>\n",
       "      <td>38.768742</td>\n",
       "    </tr>\n",
       "    <tr>\n",
       "      <th>50%</th>\n",
       "      <td>2000.000000</td>\n",
       "      <td>25.000000</td>\n",
       "      <td>46.468476</td>\n",
       "    </tr>\n",
       "    <tr>\n",
       "      <th>75%</th>\n",
       "      <td>2600.000000</td>\n",
       "      <td>39.000000</td>\n",
       "      <td>70.239797</td>\n",
       "    </tr>\n",
       "    <tr>\n",
       "      <th>max</th>\n",
       "      <td>3600.000000</td>\n",
       "      <td>500.000000</td>\n",
       "      <td>2019.734797</td>\n",
       "    </tr>\n",
       "  </tbody>\n",
       "</table>\n",
       "</div>"
      ],
      "text/plain": [
       "           distance        weight          cost\n",
       "count  38999.000000  38999.000000  38999.000000\n",
       "mean    2004.061643     42.293033     80.972210\n",
       "std      728.996843     75.473752    180.715055\n",
       "min      400.000000      1.000000      5.000000\n",
       "25%     1400.000000     13.000000     38.768742\n",
       "50%     2000.000000     25.000000     46.468476\n",
       "75%     2600.000000     39.000000     70.239797\n",
       "max     3600.000000    500.000000   2019.734797"
      ]
     },
     "execution_count": 7,
     "metadata": {},
     "output_type": "execute_result"
    }
   ],
   "source": [
    "DataFile.describe()"
   ]
  },
  {
   "cell_type": "markdown",
   "metadata": {
    "papermill": {
     "duration": 0.041981,
     "end_time": "2020-10-17T05:22:13.892272",
     "exception": false,
     "start_time": "2020-10-17T05:22:13.850291",
     "status": "completed"
    },
    "tags": []
   },
   "source": [
    "# Explore the Data"
   ]
  },
  {
   "cell_type": "markdown",
   "metadata": {
    "papermill": {
     "duration": 0.042105,
     "end_time": "2020-10-17T05:22:13.980088",
     "exception": false,
     "start_time": "2020-10-17T05:22:13.937983",
     "status": "completed"
    },
    "tags": []
   },
   "source": [
    "#### Split the Date to DD / MM /YY"
   ]
  },
  {
   "cell_type": "code",
   "execution_count": 8,
   "metadata": {
    "execution": {
     "iopub.execute_input": "2020-10-17T05:22:14.076898Z",
     "iopub.status.busy": "2020-10-17T05:22:14.076174Z",
     "iopub.status.idle": "2020-10-17T05:22:14.257258Z",
     "shell.execute_reply": "2020-10-17T05:22:14.256563Z"
    },
    "papermill": {
     "duration": 0.234983,
     "end_time": "2020-10-17T05:22:14.257378",
     "exception": false,
     "start_time": "2020-10-17T05:22:14.022395",
     "status": "completed"
    },
    "tags": []
   },
   "outputs": [],
   "source": [
    "date_ac = np.vstack(DataFile.date.astype(str).apply(lambda x:list(map(int,x.split('-')))).values)\n",
    "DataFile['Year'] = date_ac[:,0]\n",
    "DataFile['Month']= date_ac[:,1]\n",
    "DataFile['Day'] = date_ac[:,2]"
   ]
  },
  {
   "cell_type": "code",
   "execution_count": 9,
   "metadata": {
    "execution": {
     "iopub.execute_input": "2020-10-17T05:22:14.353390Z",
     "iopub.status.busy": "2020-10-17T05:22:14.348028Z",
     "iopub.status.idle": "2020-10-17T05:22:14.363952Z",
     "shell.execute_reply": "2020-10-17T05:22:14.364386Z"
    },
    "papermill": {
     "duration": 0.064582,
     "end_time": "2020-10-17T05:22:14.364549",
     "exception": false,
     "start_time": "2020-10-17T05:22:14.299967",
     "status": "completed"
    },
    "tags": []
   },
   "outputs": [
    {
     "data": {
      "text/html": [
       "<div>\n",
       "<style scoped>\n",
       "    .dataframe tbody tr th:only-of-type {\n",
       "        vertical-align: middle;\n",
       "    }\n",
       "\n",
       "    .dataframe tbody tr th {\n",
       "        vertical-align: top;\n",
       "    }\n",
       "\n",
       "    .dataframe thead th {\n",
       "        text-align: right;\n",
       "    }\n",
       "</style>\n",
       "<table border=\"1\" class=\"dataframe\">\n",
       "  <thead>\n",
       "    <tr style=\"text-align: right;\">\n",
       "      <th></th>\n",
       "      <th>trip</th>\n",
       "      <th>date</th>\n",
       "      <th>dayPart</th>\n",
       "      <th>exWeatherTag</th>\n",
       "      <th>originLocation</th>\n",
       "      <th>destinationLocation</th>\n",
       "      <th>distance</th>\n",
       "      <th>type</th>\n",
       "      <th>weight</th>\n",
       "      <th>packageType</th>\n",
       "      <th>carrier</th>\n",
       "      <th>cost</th>\n",
       "      <th>Year</th>\n",
       "      <th>Month</th>\n",
       "      <th>Day</th>\n",
       "    </tr>\n",
       "  </thead>\n",
       "  <tbody>\n",
       "    <tr>\n",
       "      <th>0</th>\n",
       "      <td>t52712528</td>\n",
       "      <td>2017-09-06</td>\n",
       "      <td>night</td>\n",
       "      <td>NaN</td>\n",
       "      <td>S4</td>\n",
       "      <td>D7</td>\n",
       "      <td>2200</td>\n",
       "      <td>expedited</td>\n",
       "      <td>50</td>\n",
       "      <td>NaN</td>\n",
       "      <td>D</td>\n",
       "      <td>68.413152</td>\n",
       "      <td>2017</td>\n",
       "      <td>9</td>\n",
       "      <td>6</td>\n",
       "    </tr>\n",
       "    <tr>\n",
       "      <th>1</th>\n",
       "      <td>t29859381</td>\n",
       "      <td>2017-10-21</td>\n",
       "      <td>night</td>\n",
       "      <td>NaN</td>\n",
       "      <td>S8</td>\n",
       "      <td>D1</td>\n",
       "      <td>1800</td>\n",
       "      <td>NaN</td>\n",
       "      <td>12</td>\n",
       "      <td>NaN</td>\n",
       "      <td>B</td>\n",
       "      <td>36.450649</td>\n",
       "      <td>2017</td>\n",
       "      <td>10</td>\n",
       "      <td>21</td>\n",
       "    </tr>\n",
       "    <tr>\n",
       "      <th>2</th>\n",
       "      <td>t25702332</td>\n",
       "      <td>2017-07-15</td>\n",
       "      <td>night</td>\n",
       "      <td>NaN</td>\n",
       "      <td>S9</td>\n",
       "      <td>D5</td>\n",
       "      <td>2800</td>\n",
       "      <td>NaN</td>\n",
       "      <td>1</td>\n",
       "      <td>NaN</td>\n",
       "      <td>B</td>\n",
       "      <td>9.057939</td>\n",
       "      <td>2017</td>\n",
       "      <td>7</td>\n",
       "      <td>15</td>\n",
       "    </tr>\n",
       "    <tr>\n",
       "      <th>3</th>\n",
       "      <td>t27713405</td>\n",
       "      <td>2017-10-22</td>\n",
       "      <td>day</td>\n",
       "      <td>NaN</td>\n",
       "      <td>S9</td>\n",
       "      <td>D7</td>\n",
       "      <td>3200</td>\n",
       "      <td>NaN</td>\n",
       "      <td>50</td>\n",
       "      <td>NaN</td>\n",
       "      <td>C</td>\n",
       "      <td>57.320087</td>\n",
       "      <td>2017</td>\n",
       "      <td>10</td>\n",
       "      <td>22</td>\n",
       "    </tr>\n",
       "  </tbody>\n",
       "</table>\n",
       "</div>"
      ],
      "text/plain": [
       "        trip        date dayPart exWeatherTag originLocation  \\\n",
       "0  t52712528  2017-09-06   night          NaN             S4   \n",
       "1  t29859381  2017-10-21   night          NaN             S8   \n",
       "2  t25702332  2017-07-15   night          NaN             S9   \n",
       "3  t27713405  2017-10-22     day          NaN             S9   \n",
       "\n",
       "  destinationLocation  distance       type  weight packageType carrier  \\\n",
       "0                  D7      2200  expedited      50         NaN       D   \n",
       "1                  D1      1800        NaN      12         NaN       B   \n",
       "2                  D5      2800        NaN       1         NaN       B   \n",
       "3                  D7      3200        NaN      50         NaN       C   \n",
       "\n",
       "        cost  Year  Month  Day  \n",
       "0  68.413152  2017      9    6  \n",
       "1  36.450649  2017     10   21  \n",
       "2   9.057939  2017      7   15  \n",
       "3  57.320087  2017     10   22  "
      ]
     },
     "execution_count": 9,
     "metadata": {},
     "output_type": "execute_result"
    }
   ],
   "source": [
    "DataFile.head(4)"
   ]
  },
  {
   "cell_type": "markdown",
   "metadata": {
    "papermill": {
     "duration": 0.042763,
     "end_time": "2020-10-17T05:22:14.450677",
     "exception": false,
     "start_time": "2020-10-17T05:22:14.407914",
     "status": "completed"
    },
    "tags": []
   },
   "source": [
    "#### Check for the Missing Values. As they may have some insights for Visualizations"
   ]
  },
  {
   "cell_type": "code",
   "execution_count": 10,
   "metadata": {
    "execution": {
     "iopub.execute_input": "2020-10-17T05:22:14.556884Z",
     "iopub.status.busy": "2020-10-17T05:22:14.542639Z",
     "iopub.status.idle": "2020-10-17T05:22:14.605143Z",
     "shell.execute_reply": "2020-10-17T05:22:14.604534Z"
    },
    "papermill": {
     "duration": 0.111501,
     "end_time": "2020-10-17T05:22:14.605263",
     "exception": false,
     "start_time": "2020-10-17T05:22:14.493762",
     "status": "completed"
    },
    "tags": []
   },
   "outputs": [
    {
     "data": {
      "text/html": [
       "<div>\n",
       "<style scoped>\n",
       "    .dataframe tbody tr th:only-of-type {\n",
       "        vertical-align: middle;\n",
       "    }\n",
       "\n",
       "    .dataframe tbody tr th {\n",
       "        vertical-align: top;\n",
       "    }\n",
       "\n",
       "    .dataframe thead th {\n",
       "        text-align: right;\n",
       "    }\n",
       "</style>\n",
       "<table border=\"1\" class=\"dataframe\">\n",
       "  <thead>\n",
       "    <tr style=\"text-align: right;\">\n",
       "      <th></th>\n",
       "      <th>Number of Observations</th>\n",
       "      <th>Percent</th>\n",
       "    </tr>\n",
       "  </thead>\n",
       "  <tbody>\n",
       "    <tr>\n",
       "      <th>packageType</th>\n",
       "      <td>36499</td>\n",
       "      <td>93.59</td>\n",
       "    </tr>\n",
       "    <tr>\n",
       "      <th>type</th>\n",
       "      <td>35251</td>\n",
       "      <td>90.39</td>\n",
       "    </tr>\n",
       "    <tr>\n",
       "      <th>exWeatherTag</th>\n",
       "      <td>34117</td>\n",
       "      <td>87.48</td>\n",
       "    </tr>\n",
       "    <tr>\n",
       "      <th>Day</th>\n",
       "      <td>0</td>\n",
       "      <td>0.00</td>\n",
       "    </tr>\n",
       "    <tr>\n",
       "      <th>Month</th>\n",
       "      <td>0</td>\n",
       "      <td>0.00</td>\n",
       "    </tr>\n",
       "    <tr>\n",
       "      <th>Year</th>\n",
       "      <td>0</td>\n",
       "      <td>0.00</td>\n",
       "    </tr>\n",
       "    <tr>\n",
       "      <th>cost</th>\n",
       "      <td>0</td>\n",
       "      <td>0.00</td>\n",
       "    </tr>\n",
       "    <tr>\n",
       "      <th>carrier</th>\n",
       "      <td>0</td>\n",
       "      <td>0.00</td>\n",
       "    </tr>\n",
       "    <tr>\n",
       "      <th>weight</th>\n",
       "      <td>0</td>\n",
       "      <td>0.00</td>\n",
       "    </tr>\n",
       "    <tr>\n",
       "      <th>distance</th>\n",
       "      <td>0</td>\n",
       "      <td>0.00</td>\n",
       "    </tr>\n",
       "    <tr>\n",
       "      <th>destinationLocation</th>\n",
       "      <td>0</td>\n",
       "      <td>0.00</td>\n",
       "    </tr>\n",
       "    <tr>\n",
       "      <th>originLocation</th>\n",
       "      <td>0</td>\n",
       "      <td>0.00</td>\n",
       "    </tr>\n",
       "    <tr>\n",
       "      <th>dayPart</th>\n",
       "      <td>0</td>\n",
       "      <td>0.00</td>\n",
       "    </tr>\n",
       "    <tr>\n",
       "      <th>date</th>\n",
       "      <td>0</td>\n",
       "      <td>0.00</td>\n",
       "    </tr>\n",
       "    <tr>\n",
       "      <th>trip</th>\n",
       "      <td>0</td>\n",
       "      <td>0.00</td>\n",
       "    </tr>\n",
       "  </tbody>\n",
       "</table>\n",
       "</div>"
      ],
      "text/plain": [
       "                     Number of Observations  Percent\n",
       "packageType                           36499    93.59\n",
       "type                                  35251    90.39\n",
       "exWeatherTag                          34117    87.48\n",
       "Day                                       0     0.00\n",
       "Month                                     0     0.00\n",
       "Year                                      0     0.00\n",
       "cost                                      0     0.00\n",
       "carrier                                   0     0.00\n",
       "weight                                    0     0.00\n",
       "distance                                  0     0.00\n",
       "destinationLocation                       0     0.00\n",
       "originLocation                            0     0.00\n",
       "dayPart                                   0     0.00\n",
       "date                                      0     0.00\n",
       "trip                                      0     0.00"
      ]
     },
     "execution_count": 10,
     "metadata": {},
     "output_type": "execute_result"
    }
   ],
   "source": [
    "obs = DataFile.isnull().sum().sort_values(ascending = False)\n",
    "percent = round(DataFile.isnull().sum().sort_values(ascending = False)/len(DataFile)*100, 2)\n",
    "pd.concat([obs, percent], axis = 1,keys= ['Number of Observations', 'Percent'])"
   ]
  },
  {
   "cell_type": "markdown",
   "metadata": {
    "papermill": {
     "duration": 0.043401,
     "end_time": "2020-10-17T05:22:14.692792",
     "exception": false,
     "start_time": "2020-10-17T05:22:14.649391",
     "status": "completed"
    },
    "tags": []
   },
   "source": [
    "Weather tag could be crutial for the company - it may impact the cost. However the type and package type is also > 90% missing. For my analysis, i will drop type for now (as no business information is available), I will keep the package type and weather tag for now. "
   ]
  },
  {
   "cell_type": "code",
   "execution_count": 11,
   "metadata": {
    "execution": {
     "iopub.execute_input": "2020-10-17T05:22:14.787755Z",
     "iopub.status.busy": "2020-10-17T05:22:14.786722Z",
     "iopub.status.idle": "2020-10-17T05:22:14.796633Z",
     "shell.execute_reply": "2020-10-17T05:22:14.795993Z"
    },
    "papermill": {
     "duration": 0.059725,
     "end_time": "2020-10-17T05:22:14.796747",
     "exception": false,
     "start_time": "2020-10-17T05:22:14.737022",
     "status": "completed"
    },
    "tags": []
   },
   "outputs": [],
   "source": [
    "DataFile = DataFile.drop(['packageType'],axis=1)"
   ]
  },
  {
   "cell_type": "markdown",
   "metadata": {
    "papermill": {
     "duration": 0.043718,
     "end_time": "2020-10-17T05:22:14.884534",
     "exception": false,
     "start_time": "2020-10-17T05:22:14.840816",
     "status": "completed"
    },
    "tags": []
   },
   "source": [
    "#### Impute the missing values (with \"NA\")"
   ]
  },
  {
   "cell_type": "code",
   "execution_count": 12,
   "metadata": {
    "execution": {
     "iopub.execute_input": "2020-10-17T05:22:14.999083Z",
     "iopub.status.busy": "2020-10-17T05:22:14.998214Z",
     "iopub.status.idle": "2020-10-17T05:22:15.008430Z",
     "shell.execute_reply": "2020-10-17T05:22:15.009056Z"
    },
    "papermill": {
     "duration": 0.072841,
     "end_time": "2020-10-17T05:22:15.009225",
     "exception": false,
     "start_time": "2020-10-17T05:22:14.936384",
     "status": "completed"
    },
    "tags": []
   },
   "outputs": [],
   "source": [
    "DataFile['type'].fillna(\"NA_type\", inplace=True)\n",
    "DataFile['exWeatherTag'].fillna(\"NA_Weather\", inplace=True)"
   ]
  },
  {
   "cell_type": "code",
   "execution_count": 13,
   "metadata": {
    "execution": {
     "iopub.execute_input": "2020-10-17T05:22:15.133950Z",
     "iopub.status.busy": "2020-10-17T05:22:15.132931Z",
     "iopub.status.idle": "2020-10-17T05:22:15.137642Z",
     "shell.execute_reply": "2020-10-17T05:22:15.136908Z"
    },
    "papermill": {
     "duration": 0.067678,
     "end_time": "2020-10-17T05:22:15.137771",
     "exception": false,
     "start_time": "2020-10-17T05:22:15.070093",
     "status": "completed"
    },
    "tags": []
   },
   "outputs": [
    {
     "data": {
      "text/html": [
       "<div>\n",
       "<style scoped>\n",
       "    .dataframe tbody tr th:only-of-type {\n",
       "        vertical-align: middle;\n",
       "    }\n",
       "\n",
       "    .dataframe tbody tr th {\n",
       "        vertical-align: top;\n",
       "    }\n",
       "\n",
       "    .dataframe thead th {\n",
       "        text-align: right;\n",
       "    }\n",
       "</style>\n",
       "<table border=\"1\" class=\"dataframe\">\n",
       "  <thead>\n",
       "    <tr style=\"text-align: right;\">\n",
       "      <th></th>\n",
       "      <th>trip</th>\n",
       "      <th>date</th>\n",
       "      <th>dayPart</th>\n",
       "      <th>exWeatherTag</th>\n",
       "      <th>originLocation</th>\n",
       "      <th>destinationLocation</th>\n",
       "      <th>distance</th>\n",
       "      <th>type</th>\n",
       "      <th>weight</th>\n",
       "      <th>carrier</th>\n",
       "      <th>cost</th>\n",
       "      <th>Year</th>\n",
       "      <th>Month</th>\n",
       "      <th>Day</th>\n",
       "    </tr>\n",
       "  </thead>\n",
       "  <tbody>\n",
       "    <tr>\n",
       "      <th>0</th>\n",
       "      <td>t52712528</td>\n",
       "      <td>2017-09-06</td>\n",
       "      <td>night</td>\n",
       "      <td>NA_Weather</td>\n",
       "      <td>S4</td>\n",
       "      <td>D7</td>\n",
       "      <td>2200</td>\n",
       "      <td>expedited</td>\n",
       "      <td>50</td>\n",
       "      <td>D</td>\n",
       "      <td>68.413152</td>\n",
       "      <td>2017</td>\n",
       "      <td>9</td>\n",
       "      <td>6</td>\n",
       "    </tr>\n",
       "    <tr>\n",
       "      <th>1</th>\n",
       "      <td>t29859381</td>\n",
       "      <td>2017-10-21</td>\n",
       "      <td>night</td>\n",
       "      <td>NA_Weather</td>\n",
       "      <td>S8</td>\n",
       "      <td>D1</td>\n",
       "      <td>1800</td>\n",
       "      <td>NA_type</td>\n",
       "      <td>12</td>\n",
       "      <td>B</td>\n",
       "      <td>36.450649</td>\n",
       "      <td>2017</td>\n",
       "      <td>10</td>\n",
       "      <td>21</td>\n",
       "    </tr>\n",
       "    <tr>\n",
       "      <th>2</th>\n",
       "      <td>t25702332</td>\n",
       "      <td>2017-07-15</td>\n",
       "      <td>night</td>\n",
       "      <td>NA_Weather</td>\n",
       "      <td>S9</td>\n",
       "      <td>D5</td>\n",
       "      <td>2800</td>\n",
       "      <td>NA_type</td>\n",
       "      <td>1</td>\n",
       "      <td>B</td>\n",
       "      <td>9.057939</td>\n",
       "      <td>2017</td>\n",
       "      <td>7</td>\n",
       "      <td>15</td>\n",
       "    </tr>\n",
       "    <tr>\n",
       "      <th>3</th>\n",
       "      <td>t27713405</td>\n",
       "      <td>2017-10-22</td>\n",
       "      <td>day</td>\n",
       "      <td>NA_Weather</td>\n",
       "      <td>S9</td>\n",
       "      <td>D7</td>\n",
       "      <td>3200</td>\n",
       "      <td>NA_type</td>\n",
       "      <td>50</td>\n",
       "      <td>C</td>\n",
       "      <td>57.320087</td>\n",
       "      <td>2017</td>\n",
       "      <td>10</td>\n",
       "      <td>22</td>\n",
       "    </tr>\n",
       "    <tr>\n",
       "      <th>4</th>\n",
       "      <td>t49439220</td>\n",
       "      <td>2019-12-11</td>\n",
       "      <td>day</td>\n",
       "      <td>snow</td>\n",
       "      <td>S9</td>\n",
       "      <td>D1</td>\n",
       "      <td>2000</td>\n",
       "      <td>NA_type</td>\n",
       "      <td>43</td>\n",
       "      <td>B</td>\n",
       "      <td>77.263777</td>\n",
       "      <td>2019</td>\n",
       "      <td>12</td>\n",
       "      <td>11</td>\n",
       "    </tr>\n",
       "  </tbody>\n",
       "</table>\n",
       "</div>"
      ],
      "text/plain": [
       "        trip        date dayPart exWeatherTag originLocation  \\\n",
       "0  t52712528  2017-09-06   night   NA_Weather             S4   \n",
       "1  t29859381  2017-10-21   night   NA_Weather             S8   \n",
       "2  t25702332  2017-07-15   night   NA_Weather             S9   \n",
       "3  t27713405  2017-10-22     day   NA_Weather             S9   \n",
       "4  t49439220  2019-12-11     day         snow             S9   \n",
       "\n",
       "  destinationLocation  distance       type  weight carrier       cost  Year  \\\n",
       "0                  D7      2200  expedited      50       D  68.413152  2017   \n",
       "1                  D1      1800    NA_type      12       B  36.450649  2017   \n",
       "2                  D5      2800    NA_type       1       B   9.057939  2017   \n",
       "3                  D7      3200    NA_type      50       C  57.320087  2017   \n",
       "4                  D1      2000    NA_type      43       B  77.263777  2019   \n",
       "\n",
       "   Month  Day  \n",
       "0      9    6  \n",
       "1     10   21  \n",
       "2      7   15  \n",
       "3     10   22  \n",
       "4     12   11  "
      ]
     },
     "execution_count": 13,
     "metadata": {},
     "output_type": "execute_result"
    }
   ],
   "source": [
    "DataFile.head(5)"
   ]
  },
  {
   "cell_type": "markdown",
   "metadata": {
    "papermill": {
     "duration": 0.044513,
     "end_time": "2020-10-17T05:22:15.227239",
     "exception": false,
     "start_time": "2020-10-17T05:22:15.182726",
     "status": "completed"
    },
    "tags": []
   },
   "source": [
    "#### Check the Weight carried and Distance Traveled across months"
   ]
  },
  {
   "cell_type": "code",
   "execution_count": 14,
   "metadata": {
    "execution": {
     "iopub.execute_input": "2020-10-17T05:22:15.323431Z",
     "iopub.status.busy": "2020-10-17T05:22:15.322582Z",
     "iopub.status.idle": "2020-10-17T05:22:15.341464Z",
     "shell.execute_reply": "2020-10-17T05:22:15.341970Z"
    },
    "papermill": {
     "duration": 0.070072,
     "end_time": "2020-10-17T05:22:15.342126",
     "exception": false,
     "start_time": "2020-10-17T05:22:15.272054",
     "status": "completed"
    },
    "tags": []
   },
   "outputs": [],
   "source": [
    "weight_Aggregated = pd.DataFrame(DataFile.groupby([\"Month\",\"originLocation\",\"destinationLocation\",\"carrier\"],sort=True)[\"weight\"].mean()).reset_index()"
   ]
  },
  {
   "cell_type": "code",
   "execution_count": 15,
   "metadata": {
    "execution": {
     "iopub.execute_input": "2020-10-17T05:22:15.441232Z",
     "iopub.status.busy": "2020-10-17T05:22:15.440486Z",
     "iopub.status.idle": "2020-10-17T05:22:15.452329Z",
     "shell.execute_reply": "2020-10-17T05:22:15.451853Z"
    },
    "papermill": {
     "duration": 0.065184,
     "end_time": "2020-10-17T05:22:15.452442",
     "exception": false,
     "start_time": "2020-10-17T05:22:15.387258",
     "status": "completed"
    },
    "tags": []
   },
   "outputs": [
    {
     "data": {
      "text/html": [
       "<div>\n",
       "<style scoped>\n",
       "    .dataframe tbody tr th:only-of-type {\n",
       "        vertical-align: middle;\n",
       "    }\n",
       "\n",
       "    .dataframe tbody tr th {\n",
       "        vertical-align: top;\n",
       "    }\n",
       "\n",
       "    .dataframe thead th {\n",
       "        text-align: right;\n",
       "    }\n",
       "</style>\n",
       "<table border=\"1\" class=\"dataframe\">\n",
       "  <thead>\n",
       "    <tr style=\"text-align: right;\">\n",
       "      <th></th>\n",
       "      <th>carrier</th>\n",
       "      <th>Month</th>\n",
       "      <th>weight</th>\n",
       "    </tr>\n",
       "  </thead>\n",
       "  <tbody>\n",
       "    <tr>\n",
       "      <th>0</th>\n",
       "      <td>A</td>\n",
       "      <td>1</td>\n",
       "      <td>23.811291</td>\n",
       "    </tr>\n",
       "    <tr>\n",
       "      <th>1</th>\n",
       "      <td>A</td>\n",
       "      <td>2</td>\n",
       "      <td>22.668159</td>\n",
       "    </tr>\n",
       "    <tr>\n",
       "      <th>2</th>\n",
       "      <td>A</td>\n",
       "      <td>3</td>\n",
       "      <td>24.523689</td>\n",
       "    </tr>\n",
       "  </tbody>\n",
       "</table>\n",
       "</div>"
      ],
      "text/plain": [
       "  carrier  Month     weight\n",
       "0       A      1  23.811291\n",
       "1       A      2  22.668159\n",
       "2       A      3  24.523689"
      ]
     },
     "execution_count": 15,
     "metadata": {},
     "output_type": "execute_result"
    }
   ],
   "source": [
    "weight_Aggregated = weight_Aggregated.drop([\"originLocation\",\"destinationLocation\"],axis=1)\n",
    "weight_Aggregated = pd.DataFrame(weight_Aggregated.groupby([\"carrier\",\"Month\"],sort=True)[\"weight\"].mean()).reset_index()\n",
    "\n",
    "weight_Aggregated.head(3)"
   ]
  },
  {
   "cell_type": "code",
   "execution_count": 16,
   "metadata": {
    "execution": {
     "iopub.execute_input": "2020-10-17T05:22:15.550741Z",
     "iopub.status.busy": "2020-10-17T05:22:15.549995Z",
     "iopub.status.idle": "2020-10-17T05:22:15.568551Z",
     "shell.execute_reply": "2020-10-17T05:22:15.567926Z"
    },
    "papermill": {
     "duration": 0.06978,
     "end_time": "2020-10-17T05:22:15.568672",
     "exception": false,
     "start_time": "2020-10-17T05:22:15.498892",
     "status": "completed"
    },
    "tags": []
   },
   "outputs": [],
   "source": [
    "Distance_Aggregated = pd.DataFrame(DataFile.groupby([\"Month\",\"originLocation\",\"destinationLocation\",\"carrier\"],sort=True)[\"distance\"].sum()).reset_index()"
   ]
  },
  {
   "cell_type": "code",
   "execution_count": 17,
   "metadata": {
    "execution": {
     "iopub.execute_input": "2020-10-17T05:22:15.668725Z",
     "iopub.status.busy": "2020-10-17T05:22:15.668064Z",
     "iopub.status.idle": "2020-10-17T05:22:15.680747Z",
     "shell.execute_reply": "2020-10-17T05:22:15.680177Z"
    },
    "papermill": {
     "duration": 0.066745,
     "end_time": "2020-10-17T05:22:15.680860",
     "exception": false,
     "start_time": "2020-10-17T05:22:15.614115",
     "status": "completed"
    },
    "tags": []
   },
   "outputs": [
    {
     "data": {
      "text/html": [
       "<div>\n",
       "<style scoped>\n",
       "    .dataframe tbody tr th:only-of-type {\n",
       "        vertical-align: middle;\n",
       "    }\n",
       "\n",
       "    .dataframe tbody tr th {\n",
       "        vertical-align: top;\n",
       "    }\n",
       "\n",
       "    .dataframe thead th {\n",
       "        text-align: right;\n",
       "    }\n",
       "</style>\n",
       "<table border=\"1\" class=\"dataframe\">\n",
       "  <thead>\n",
       "    <tr style=\"text-align: right;\">\n",
       "      <th></th>\n",
       "      <th>carrier</th>\n",
       "      <th>Month</th>\n",
       "      <th>distance</th>\n",
       "    </tr>\n",
       "  </thead>\n",
       "  <tbody>\n",
       "    <tr>\n",
       "      <th>0</th>\n",
       "      <td>A</td>\n",
       "      <td>1</td>\n",
       "      <td>21533.333333</td>\n",
       "    </tr>\n",
       "    <tr>\n",
       "      <th>1</th>\n",
       "      <td>A</td>\n",
       "      <td>2</td>\n",
       "      <td>20600.000000</td>\n",
       "    </tr>\n",
       "    <tr>\n",
       "      <th>2</th>\n",
       "      <td>A</td>\n",
       "      <td>3</td>\n",
       "      <td>21600.000000</td>\n",
       "    </tr>\n",
       "    <tr>\n",
       "      <th>3</th>\n",
       "      <td>A</td>\n",
       "      <td>4</td>\n",
       "      <td>21866.666667</td>\n",
       "    </tr>\n",
       "  </tbody>\n",
       "</table>\n",
       "</div>"
      ],
      "text/plain": [
       "  carrier  Month      distance\n",
       "0       A      1  21533.333333\n",
       "1       A      2  20600.000000\n",
       "2       A      3  21600.000000\n",
       "3       A      4  21866.666667"
      ]
     },
     "execution_count": 17,
     "metadata": {},
     "output_type": "execute_result"
    }
   ],
   "source": [
    "Distance_Aggregated = Distance_Aggregated.drop([\"originLocation\",\"destinationLocation\"],axis=1)\n",
    "\n",
    "Distance_Aggregated = pd.DataFrame(Distance_Aggregated.groupby([\"carrier\",\"Month\"],sort=True)[\"distance\"].mean()).reset_index()\n",
    "\n",
    "Distance_Aggregated.head(4)"
   ]
  },
  {
   "cell_type": "code",
   "execution_count": 18,
   "metadata": {
    "execution": {
     "iopub.execute_input": "2020-10-17T05:22:15.782569Z",
     "iopub.status.busy": "2020-10-17T05:22:15.781769Z",
     "iopub.status.idle": "2020-10-17T05:22:16.436842Z",
     "shell.execute_reply": "2020-10-17T05:22:16.437342Z"
    },
    "papermill": {
     "duration": 0.710754,
     "end_time": "2020-10-17T05:22:16.437485",
     "exception": false,
     "start_time": "2020-10-17T05:22:15.726731",
     "status": "completed"
    },
    "tags": []
   },
   "outputs": [
    {
     "data": {
      "text/plain": [
       "[Text(0, 0.5, 'distance'),\n",
       " Text(0.5, 0, 'Month of the year'),\n",
       " Text(0.5, 1.0, 'Total distance travelled by different carriers across months'),\n",
       " None]"
      ]
     },
     "execution_count": 18,
     "metadata": {},
     "output_type": "execute_result"
    },
    {
     "data": {
      "image/png": "[encoded data removed]",
      "text/plain": [
       "<Figure size 864x1440 with 2 Axes>"
      ]
     },
     "metadata": {
      "needs_background": "light"
     },
     "output_type": "display_data"
    }
   ],
   "source": [
    "fig,(ax1,ax2)= plt.subplots(nrows=2)\n",
    "fig.set_size_inches(12, 20)\n",
    "\n",
    "sns.pointplot(x= weight_Aggregated[\"Month\"], y= weight_Aggregated[\"weight\"],hue=weight_Aggregated[\"carrier\"], data=weight_Aggregated, join=True,ax=ax1)\n",
    "ax1.set(xlabel='Month of the year', ylabel='weight',title=\"Average weight carried by different carriers across months\",label='big')\n",
    "\n",
    "sns.pointplot(x= Distance_Aggregated[\"Month\"], y= Distance_Aggregated[\"distance\"],hue=Distance_Aggregated[\"carrier\"], data=Distance_Aggregated, join=True,ax=ax2)\n",
    "ax2.set(xlabel='Month of the year', ylabel='distance',title=\"Total distance travelled by different carriers across months\",label='big')"
   ]
  },
  {
   "cell_type": "markdown",
   "metadata": {
    "papermill": {
     "duration": 0.047672,
     "end_time": "2020-10-17T05:22:16.532914",
     "exception": false,
     "start_time": "2020-10-17T05:22:16.485242",
     "status": "completed"
    },
    "tags": []
   },
   "source": [
    "#### Check the Weight carried and Distance Traveled by days."
   ]
  },
  {
   "cell_type": "code",
   "execution_count": 19,
   "metadata": {
    "execution": {
     "iopub.execute_input": "2020-10-17T05:22:16.636698Z",
     "iopub.status.busy": "2020-10-17T05:22:16.636010Z",
     "iopub.status.idle": "2020-10-17T05:22:16.655368Z",
     "shell.execute_reply": "2020-10-17T05:22:16.654653Z"
    },
    "papermill": {
     "duration": 0.073776,
     "end_time": "2020-10-17T05:22:16.655487",
     "exception": false,
     "start_time": "2020-10-17T05:22:16.581711",
     "status": "completed"
    },
    "tags": []
   },
   "outputs": [],
   "source": [
    "weight_Aggregated = pd.DataFrame(DataFile.groupby([\"Day\",\"originLocation\",\"destinationLocation\",\"carrier\"],sort=True)[\"weight\"].mean()).reset_index()"
   ]
  },
  {
   "cell_type": "code",
   "execution_count": 20,
   "metadata": {
    "execution": {
     "iopub.execute_input": "2020-10-17T05:22:16.761592Z",
     "iopub.status.busy": "2020-10-17T05:22:16.759148Z",
     "iopub.status.idle": "2020-10-17T05:22:16.774373Z",
     "shell.execute_reply": "2020-10-17T05:22:16.773830Z"
    },
    "papermill": {
     "duration": 0.070561,
     "end_time": "2020-10-17T05:22:16.774549",
     "exception": false,
     "start_time": "2020-10-17T05:22:16.703988",
     "status": "completed"
    },
    "tags": []
   },
   "outputs": [
    {
     "data": {
      "text/html": [
       "<div>\n",
       "<style scoped>\n",
       "    .dataframe tbody tr th:only-of-type {\n",
       "        vertical-align: middle;\n",
       "    }\n",
       "\n",
       "    .dataframe tbody tr th {\n",
       "        vertical-align: top;\n",
       "    }\n",
       "\n",
       "    .dataframe thead th {\n",
       "        text-align: right;\n",
       "    }\n",
       "</style>\n",
       "<table border=\"1\" class=\"dataframe\">\n",
       "  <thead>\n",
       "    <tr style=\"text-align: right;\">\n",
       "      <th></th>\n",
       "      <th>carrier</th>\n",
       "      <th>Day</th>\n",
       "      <th>weight</th>\n",
       "    </tr>\n",
       "  </thead>\n",
       "  <tbody>\n",
       "    <tr>\n",
       "      <th>0</th>\n",
       "      <td>A</td>\n",
       "      <td>1</td>\n",
       "      <td>25.105952</td>\n",
       "    </tr>\n",
       "    <tr>\n",
       "      <th>1</th>\n",
       "      <td>A</td>\n",
       "      <td>2</td>\n",
       "      <td>24.187053</td>\n",
       "    </tr>\n",
       "    <tr>\n",
       "      <th>2</th>\n",
       "      <td>A</td>\n",
       "      <td>3</td>\n",
       "      <td>23.804118</td>\n",
       "    </tr>\n",
       "  </tbody>\n",
       "</table>\n",
       "</div>"
      ],
      "text/plain": [
       "  carrier  Day     weight\n",
       "0       A    1  25.105952\n",
       "1       A    2  24.187053\n",
       "2       A    3  23.804118"
      ]
     },
     "execution_count": 20,
     "metadata": {},
     "output_type": "execute_result"
    }
   ],
   "source": [
    "weight_Aggregated = weight_Aggregated.drop([\"originLocation\",\"destinationLocation\"],axis=1)\n",
    "weight_Aggregated = pd.DataFrame(weight_Aggregated.groupby([\"carrier\",\"Day\"],sort=True)[\"weight\"].mean()).reset_index()\n",
    "\n",
    "weight_Aggregated.head(3)"
   ]
  },
  {
   "cell_type": "code",
   "execution_count": 21,
   "metadata": {
    "execution": {
     "iopub.execute_input": "2020-10-17T05:22:16.879469Z",
     "iopub.status.busy": "2020-10-17T05:22:16.878780Z",
     "iopub.status.idle": "2020-10-17T05:22:16.898103Z",
     "shell.execute_reply": "2020-10-17T05:22:16.898591Z"
    },
    "papermill": {
     "duration": 0.075216,
     "end_time": "2020-10-17T05:22:16.898747",
     "exception": false,
     "start_time": "2020-10-17T05:22:16.823531",
     "status": "completed"
    },
    "tags": []
   },
   "outputs": [],
   "source": [
    "Distance_Aggregated = pd.DataFrame(DataFile.groupby([\"Day\",\"originLocation\",\"destinationLocation\",\"carrier\"],sort=True)[\"distance\"].sum()).reset_index()"
   ]
  },
  {
   "cell_type": "code",
   "execution_count": 22,
   "metadata": {
    "execution": {
     "iopub.execute_input": "2020-10-17T05:22:17.006831Z",
     "iopub.status.busy": "2020-10-17T05:22:17.003925Z",
     "iopub.status.idle": "2020-10-17T05:22:17.019590Z",
     "shell.execute_reply": "2020-10-17T05:22:17.018939Z"
    },
    "papermill": {
     "duration": 0.071247,
     "end_time": "2020-10-17T05:22:17.019713",
     "exception": false,
     "start_time": "2020-10-17T05:22:16.948466",
     "status": "completed"
    },
    "tags": []
   },
   "outputs": [
    {
     "data": {
      "text/html": [
       "<div>\n",
       "<style scoped>\n",
       "    .dataframe tbody tr th:only-of-type {\n",
       "        vertical-align: middle;\n",
       "    }\n",
       "\n",
       "    .dataframe tbody tr th {\n",
       "        vertical-align: top;\n",
       "    }\n",
       "\n",
       "    .dataframe thead th {\n",
       "        text-align: right;\n",
       "    }\n",
       "</style>\n",
       "<table border=\"1\" class=\"dataframe\">\n",
       "  <thead>\n",
       "    <tr style=\"text-align: right;\">\n",
       "      <th></th>\n",
       "      <th>carrier</th>\n",
       "      <th>Day</th>\n",
       "      <th>distance</th>\n",
       "    </tr>\n",
       "  </thead>\n",
       "  <tbody>\n",
       "    <tr>\n",
       "      <th>0</th>\n",
       "      <td>A</td>\n",
       "      <td>1</td>\n",
       "      <td>58800</td>\n",
       "    </tr>\n",
       "    <tr>\n",
       "      <th>1</th>\n",
       "      <td>A</td>\n",
       "      <td>2</td>\n",
       "      <td>45600</td>\n",
       "    </tr>\n",
       "    <tr>\n",
       "      <th>2</th>\n",
       "      <td>A</td>\n",
       "      <td>3</td>\n",
       "      <td>50800</td>\n",
       "    </tr>\n",
       "    <tr>\n",
       "      <th>3</th>\n",
       "      <td>A</td>\n",
       "      <td>4</td>\n",
       "      <td>42400</td>\n",
       "    </tr>\n",
       "  </tbody>\n",
       "</table>\n",
       "</div>"
      ],
      "text/plain": [
       "  carrier  Day  distance\n",
       "0       A    1     58800\n",
       "1       A    2     45600\n",
       "2       A    3     50800\n",
       "3       A    4     42400"
      ]
     },
     "execution_count": 22,
     "metadata": {},
     "output_type": "execute_result"
    }
   ],
   "source": [
    "Distance_Aggregated = Distance_Aggregated.drop([\"originLocation\",\"destinationLocation\"],axis=1)\n",
    "\n",
    "Distance_Aggregated = pd.DataFrame(Distance_Aggregated.groupby([\"carrier\",\"Day\"],sort=True)[\"distance\"].sum()).reset_index()\n",
    "\n",
    "Distance_Aggregated.head(4)"
   ]
  },
  {
   "cell_type": "code",
   "execution_count": 23,
   "metadata": {
    "execution": {
     "iopub.execute_input": "2020-10-17T05:22:17.134493Z",
     "iopub.status.busy": "2020-10-17T05:22:17.133493Z",
     "iopub.status.idle": "2020-10-17T05:22:18.244185Z",
     "shell.execute_reply": "2020-10-17T05:22:18.244744Z"
    },
    "papermill": {
     "duration": 1.174158,
     "end_time": "2020-10-17T05:22:18.244888",
     "exception": false,
     "start_time": "2020-10-17T05:22:17.070730",
     "status": "completed"
    },
    "tags": []
   },
   "outputs": [
    {
     "data": {
      "text/plain": [
       "[Text(0, 0.5, 'distance'),\n",
       " Text(0.5, 0, 'Day of Month'),\n",
       " Text(0.5, 1.0, 'Total distance travelled by different carriers across days'),\n",
       " None]"
      ]
     },
     "execution_count": 23,
     "metadata": {},
     "output_type": "execute_result"
    },
    {
     "data": {
      "image/png": "[encoded data removed]",
      "text/plain": [
       "<Figure size 864x1440 with 2 Axes>"
      ]
     },
     "metadata": {
      "needs_background": "light"
     },
     "output_type": "display_data"
    }
   ],
   "source": [
    "fig,(ax1,ax2)= plt.subplots(nrows=2)\n",
    "fig.set_size_inches(12, 20)\n",
    "\n",
    "sns.pointplot(x= weight_Aggregated[\"Day\"], y= weight_Aggregated[\"weight\"],hue=weight_Aggregated[\"carrier\"], data=weight_Aggregated, join=True,ax=ax1)\n",
    "ax1.set(xlabel='Day of Month', ylabel='weight',title=\"Average weight carried by different carriers across days\",label='big')\n",
    "\n",
    "sns.pointplot(x= Distance_Aggregated[\"Day\"], y= Distance_Aggregated[\"distance\"],hue=Distance_Aggregated[\"carrier\"], data=Distance_Aggregated, join=True,ax=ax2)\n",
    "ax2.set(xlabel='Day of Month', ylabel='distance',title=\"Total distance travelled by different carriers across days\",label='big')"
   ]
  },
  {
   "cell_type": "markdown",
   "metadata": {
    "papermill": {
     "duration": 0.053127,
     "end_time": "2020-10-17T05:22:18.350601",
     "exception": false,
     "start_time": "2020-10-17T05:22:18.297474",
     "status": "completed"
    },
    "tags": []
   },
   "source": [
    "Carrier C has been most productive by carrying most of the goods (weights) across the time. it has also travelled lesser distance compared to Carrier D and B. This means carrier is an important feature, we can further use one hot encoding."
   ]
  },
  {
   "cell_type": "markdown",
   "metadata": {
    "papermill": {
     "duration": 0.051969,
     "end_time": "2020-10-17T05:22:18.454615",
     "exception": false,
     "start_time": "2020-10-17T05:22:18.402646",
     "status": "completed"
    },
    "tags": []
   },
   "source": [
    "#### Check the Weight carried and Distance Traveled during day/night by different carriers for different Months."
   ]
  },
  {
   "cell_type": "code",
   "execution_count": 24,
   "metadata": {
    "execution": {
     "iopub.execute_input": "2020-10-17T05:22:18.570936Z",
     "iopub.status.busy": "2020-10-17T05:22:18.570018Z",
     "iopub.status.idle": "2020-10-17T05:22:18.593819Z",
     "shell.execute_reply": "2020-10-17T05:22:18.593145Z"
    },
    "papermill": {
     "duration": 0.087224,
     "end_time": "2020-10-17T05:22:18.593936",
     "exception": false,
     "start_time": "2020-10-17T05:22:18.506712",
     "status": "completed"
    },
    "tags": []
   },
   "outputs": [],
   "source": [
    "daypart_Weight_Aggregated = pd.DataFrame(DataFile.groupby([\"Month\",\"originLocation\",\"destinationLocation\",\"carrier\",\"dayPart\"],sort=True)[\"weight\"].mean()).reset_index()"
   ]
  },
  {
   "cell_type": "code",
   "execution_count": 25,
   "metadata": {
    "execution": {
     "iopub.execute_input": "2020-10-17T05:22:18.704908Z",
     "iopub.status.busy": "2020-10-17T05:22:18.704191Z",
     "iopub.status.idle": "2020-10-17T05:22:18.727679Z",
     "shell.execute_reply": "2020-10-17T05:22:18.727103Z"
    },
    "papermill": {
     "duration": 0.081217,
     "end_time": "2020-10-17T05:22:18.727811",
     "exception": false,
     "start_time": "2020-10-17T05:22:18.646594",
     "status": "completed"
    },
    "tags": []
   },
   "outputs": [],
   "source": [
    "daypart_distance_Aggregated = pd.DataFrame(DataFile.groupby([\"Month\",\"originLocation\",\"destinationLocation\",\"carrier\",\"dayPart\"],sort=True)[\"distance\"].sum()).reset_index()"
   ]
  },
  {
   "cell_type": "code",
   "execution_count": 26,
   "metadata": {
    "execution": {
     "iopub.execute_input": "2020-10-17T05:22:18.844910Z",
     "iopub.status.busy": "2020-10-17T05:22:18.844218Z",
     "iopub.status.idle": "2020-10-17T05:22:18.858544Z",
     "shell.execute_reply": "2020-10-17T05:22:18.857906Z"
    },
    "papermill": {
     "duration": 0.075885,
     "end_time": "2020-10-17T05:22:18.858662",
     "exception": false,
     "start_time": "2020-10-17T05:22:18.782777",
     "status": "completed"
    },
    "tags": []
   },
   "outputs": [
    {
     "data": {
      "text/html": [
       "<div>\n",
       "<style scoped>\n",
       "    .dataframe tbody tr th:only-of-type {\n",
       "        vertical-align: middle;\n",
       "    }\n",
       "\n",
       "    .dataframe tbody tr th {\n",
       "        vertical-align: top;\n",
       "    }\n",
       "\n",
       "    .dataframe thead th {\n",
       "        text-align: right;\n",
       "    }\n",
       "</style>\n",
       "<table border=\"1\" class=\"dataframe\">\n",
       "  <thead>\n",
       "    <tr style=\"text-align: right;\">\n",
       "      <th></th>\n",
       "      <th>dayPart</th>\n",
       "      <th>Month</th>\n",
       "      <th>carrier</th>\n",
       "      <th>weight</th>\n",
       "    </tr>\n",
       "  </thead>\n",
       "  <tbody>\n",
       "    <tr>\n",
       "      <th>0</th>\n",
       "      <td>day</td>\n",
       "      <td>1</td>\n",
       "      <td>A</td>\n",
       "      <td>25.294172</td>\n",
       "    </tr>\n",
       "    <tr>\n",
       "      <th>1</th>\n",
       "      <td>day</td>\n",
       "      <td>1</td>\n",
       "      <td>B</td>\n",
       "      <td>24.678230</td>\n",
       "    </tr>\n",
       "    <tr>\n",
       "      <th>2</th>\n",
       "      <td>day</td>\n",
       "      <td>1</td>\n",
       "      <td>C</td>\n",
       "      <td>273.114286</td>\n",
       "    </tr>\n",
       "  </tbody>\n",
       "</table>\n",
       "</div>"
      ],
      "text/plain": [
       "  dayPart  Month carrier      weight\n",
       "0     day      1       A   25.294172\n",
       "1     day      1       B   24.678230\n",
       "2     day      1       C  273.114286"
      ]
     },
     "execution_count": 26,
     "metadata": {},
     "output_type": "execute_result"
    }
   ],
   "source": [
    "daypart_Weight_Aggregated = daypart_Weight_Aggregated.drop([\"originLocation\",\"destinationLocation\"],axis=1)\n",
    "daypart_Weight_Aggregated = pd.DataFrame(daypart_Weight_Aggregated.groupby([\"dayPart\",\"Month\",\"carrier\"],sort=True)[\"weight\"].mean()).reset_index()\n",
    "\n",
    "daypart_Weight_Aggregated.head(3)"
   ]
  },
  {
   "cell_type": "code",
   "execution_count": 27,
   "metadata": {
    "execution": {
     "iopub.execute_input": "2020-10-17T05:22:19.018064Z",
     "iopub.status.busy": "2020-10-17T05:22:19.017386Z",
     "iopub.status.idle": "2020-10-17T05:22:19.033466Z",
     "shell.execute_reply": "2020-10-17T05:22:19.032857Z"
    },
    "papermill": {
     "duration": 0.121709,
     "end_time": "2020-10-17T05:22:19.033601",
     "exception": false,
     "start_time": "2020-10-17T05:22:18.911892",
     "status": "completed"
    },
    "tags": []
   },
   "outputs": [
    {
     "data": {
      "text/html": [
       "<div>\n",
       "<style scoped>\n",
       "    .dataframe tbody tr th:only-of-type {\n",
       "        vertical-align: middle;\n",
       "    }\n",
       "\n",
       "    .dataframe tbody tr th {\n",
       "        vertical-align: top;\n",
       "    }\n",
       "\n",
       "    .dataframe thead th {\n",
       "        text-align: right;\n",
       "    }\n",
       "</style>\n",
       "<table border=\"1\" class=\"dataframe\">\n",
       "  <thead>\n",
       "    <tr style=\"text-align: right;\">\n",
       "      <th></th>\n",
       "      <th>dayPart</th>\n",
       "      <th>Month</th>\n",
       "      <th>carrier</th>\n",
       "      <th>distance</th>\n",
       "    </tr>\n",
       "  </thead>\n",
       "  <tbody>\n",
       "    <tr>\n",
       "      <th>0</th>\n",
       "      <td>day</td>\n",
       "      <td>1</td>\n",
       "      <td>A</td>\n",
       "      <td>39800</td>\n",
       "    </tr>\n",
       "    <tr>\n",
       "      <th>1</th>\n",
       "      <td>day</td>\n",
       "      <td>1</td>\n",
       "      <td>B</td>\n",
       "      <td>1747400</td>\n",
       "    </tr>\n",
       "    <tr>\n",
       "      <th>2</th>\n",
       "      <td>day</td>\n",
       "      <td>1</td>\n",
       "      <td>C</td>\n",
       "      <td>159400</td>\n",
       "    </tr>\n",
       "  </tbody>\n",
       "</table>\n",
       "</div>"
      ],
      "text/plain": [
       "  dayPart  Month carrier  distance\n",
       "0     day      1       A     39800\n",
       "1     day      1       B   1747400\n",
       "2     day      1       C    159400"
      ]
     },
     "execution_count": 27,
     "metadata": {},
     "output_type": "execute_result"
    }
   ],
   "source": [
    "daypart_distance_Aggregated = daypart_distance_Aggregated.drop([\"originLocation\",\"destinationLocation\"],axis=1)\n",
    "daypart_distance_Aggregated = pd.DataFrame(daypart_distance_Aggregated.groupby([\"dayPart\",\"Month\",\"carrier\"],sort=True)[\"distance\"].sum()).reset_index()\n",
    "\n",
    "daypart_distance_Aggregated.head(3)"
   ]
  },
  {
   "cell_type": "code",
   "execution_count": 28,
   "metadata": {
    "execution": {
     "iopub.execute_input": "2020-10-17T05:22:19.156650Z",
     "iopub.status.busy": "2020-10-17T05:22:19.155372Z",
     "iopub.status.idle": "2020-10-17T05:22:20.024750Z",
     "shell.execute_reply": "2020-10-17T05:22:20.025245Z"
    },
    "papermill": {
     "duration": 0.937277,
     "end_time": "2020-10-17T05:22:20.025383",
     "exception": false,
     "start_time": "2020-10-17T05:22:19.088106",
     "status": "completed"
    },
    "tags": []
   },
   "outputs": [
    {
     "data": {
      "text/plain": [
       "[Text(0, 0.5, 'distance'),\n",
       " Text(0.5, 0, 'Month of the year'),\n",
       " Text(0.5, 1.0, 'Total distance travelled by different carriers during day / night across months'),\n",
       " None]"
      ]
     },
     "execution_count": 28,
     "metadata": {},
     "output_type": "execute_result"
    },
    {
     "data": {
      "image/png": "[encoded data removed]",
      "text/plain": [
       "<Figure size 864x1440 with 2 Axes>"
      ]
     },
     "metadata": {
      "needs_background": "light"
     },
     "output_type": "display_data"
    }
   ],
   "source": [
    "fig,(ax1,ax2)= plt.subplots(nrows=2)\n",
    "fig.set_size_inches(12, 20)\n",
    "\n",
    "sns.pointplot(x= daypart_Weight_Aggregated[\"Month\"], y= daypart_Weight_Aggregated[\"weight\"],hue=(daypart_Weight_Aggregated[\"dayPart\"]+\"-\"+daypart_Weight_Aggregated[\"carrier\"]), data=daypart_Weight_Aggregated, join=True,ax=ax1)\n",
    "ax1.set(xlabel='Month of the year', ylabel='weight',title=\"Average weight carried by day / night\",label='big')\n",
    "\n",
    "sns.pointplot(x= daypart_distance_Aggregated[\"Month\"], y= daypart_distance_Aggregated[\"distance\"],hue=(daypart_distance_Aggregated[\"dayPart\"]+\"-\"+daypart_distance_Aggregated[\"carrier\"]), data=daypart_distance_Aggregated, join=True,ax=ax2)\n",
    "ax2.set(xlabel='Month of the year', ylabel='distance',title=\"Total distance travelled by different carriers during day / night across months\",label='big')"
   ]
  },
  {
   "cell_type": "markdown",
   "metadata": {
    "papermill": {
     "duration": 0.056945,
     "end_time": "2020-10-17T05:22:20.139615",
     "exception": false,
     "start_time": "2020-10-17T05:22:20.082670",
     "status": "completed"
    },
    "tags": []
   },
   "source": [
    "From the last graphs, we knew that Career \"B\" travelled the most, they travelled the most during nights, compared to days. Thus day/night is a useful feature"
   ]
  },
  {
   "cell_type": "markdown",
   "metadata": {
    "papermill": {
     "duration": 0.056185,
     "end_time": "2020-10-17T05:22:20.252856",
     "exception": false,
     "start_time": "2020-10-17T05:22:20.196671",
     "status": "completed"
    },
    "tags": []
   },
   "source": [
    "#### Check the Weights and Distance travelled during snow / heat in effect for days"
   ]
  },
  {
   "cell_type": "code",
   "execution_count": 29,
   "metadata": {
    "execution": {
     "iopub.execute_input": "2020-10-17T05:22:20.372166Z",
     "iopub.status.busy": "2020-10-17T05:22:20.371532Z",
     "iopub.status.idle": "2020-10-17T05:22:20.402595Z",
     "shell.execute_reply": "2020-10-17T05:22:20.401824Z"
    },
    "papermill": {
     "duration": 0.093438,
     "end_time": "2020-10-17T05:22:20.402715",
     "exception": false,
     "start_time": "2020-10-17T05:22:20.309277",
     "status": "completed"
    },
    "tags": []
   },
   "outputs": [],
   "source": [
    "weather_Weight_Aggregated = pd.DataFrame(DataFile.groupby([\"Day\",\"originLocation\",\"destinationLocation\",\"carrier\",\"dayPart\",\"exWeatherTag\"],sort=True)[\"weight\"].mean()).reset_index()"
   ]
  },
  {
   "cell_type": "code",
   "execution_count": 30,
   "metadata": {
    "execution": {
     "iopub.execute_input": "2020-10-17T05:22:20.524680Z",
     "iopub.status.busy": "2020-10-17T05:22:20.523778Z",
     "iopub.status.idle": "2020-10-17T05:22:20.556235Z",
     "shell.execute_reply": "2020-10-17T05:22:20.555716Z"
    },
    "papermill": {
     "duration": 0.096014,
     "end_time": "2020-10-17T05:22:20.556365",
     "exception": false,
     "start_time": "2020-10-17T05:22:20.460351",
     "status": "completed"
    },
    "tags": []
   },
   "outputs": [],
   "source": [
    "weather_distance_Aggregated = pd.DataFrame(DataFile.groupby([\"Day\",\"originLocation\",\"destinationLocation\",\"carrier\",\"dayPart\",\"exWeatherTag\"],sort=True)[\"distance\"].sum()).reset_index()"
   ]
  },
  {
   "cell_type": "code",
   "execution_count": 31,
   "metadata": {
    "execution": {
     "iopub.execute_input": "2020-10-17T05:22:20.677142Z",
     "iopub.status.busy": "2020-10-17T05:22:20.676487Z",
     "iopub.status.idle": "2020-10-17T05:22:20.682435Z",
     "shell.execute_reply": "2020-10-17T05:22:20.682903Z"
    },
    "papermill": {
     "duration": 0.069253,
     "end_time": "2020-10-17T05:22:20.683048",
     "exception": false,
     "start_time": "2020-10-17T05:22:20.613795",
     "status": "completed"
    },
    "tags": []
   },
   "outputs": [],
   "source": [
    "#Filter out the blank rows\n",
    "exWeatherTag = ['NA_Weather']\n",
    "weather_Weight_Aggregated = weather_Weight_Aggregated[~weather_Weight_Aggregated.exWeatherTag.isin(exWeatherTag)].reset_index()"
   ]
  },
  {
   "cell_type": "code",
   "execution_count": 32,
   "metadata": {
    "execution": {
     "iopub.execute_input": "2020-10-17T05:22:20.807419Z",
     "iopub.status.busy": "2020-10-17T05:22:20.806746Z",
     "iopub.status.idle": "2020-10-17T05:22:20.823446Z",
     "shell.execute_reply": "2020-10-17T05:22:20.822819Z"
    },
    "papermill": {
     "duration": 0.081842,
     "end_time": "2020-10-17T05:22:20.823581",
     "exception": false,
     "start_time": "2020-10-17T05:22:20.741739",
     "status": "completed"
    },
    "tags": []
   },
   "outputs": [
    {
     "data": {
      "text/html": [
       "<div>\n",
       "<style scoped>\n",
       "    .dataframe tbody tr th:only-of-type {\n",
       "        vertical-align: middle;\n",
       "    }\n",
       "\n",
       "    .dataframe tbody tr th {\n",
       "        vertical-align: top;\n",
       "    }\n",
       "\n",
       "    .dataframe thead th {\n",
       "        text-align: right;\n",
       "    }\n",
       "</style>\n",
       "<table border=\"1\" class=\"dataframe\">\n",
       "  <thead>\n",
       "    <tr style=\"text-align: right;\">\n",
       "      <th></th>\n",
       "      <th>carrier</th>\n",
       "      <th>Day</th>\n",
       "      <th>exWeatherTag</th>\n",
       "      <th>weight</th>\n",
       "    </tr>\n",
       "  </thead>\n",
       "  <tbody>\n",
       "    <tr>\n",
       "      <th>0</th>\n",
       "      <td>A</td>\n",
       "      <td>1</td>\n",
       "      <td>heat</td>\n",
       "      <td>35.000</td>\n",
       "    </tr>\n",
       "    <tr>\n",
       "      <th>1</th>\n",
       "      <td>A</td>\n",
       "      <td>1</td>\n",
       "      <td>snow</td>\n",
       "      <td>22.375</td>\n",
       "    </tr>\n",
       "    <tr>\n",
       "      <th>2</th>\n",
       "      <td>A</td>\n",
       "      <td>2</td>\n",
       "      <td>heat</td>\n",
       "      <td>32.250</td>\n",
       "    </tr>\n",
       "  </tbody>\n",
       "</table>\n",
       "</div>"
      ],
      "text/plain": [
       "  carrier  Day exWeatherTag  weight\n",
       "0       A    1         heat  35.000\n",
       "1       A    1         snow  22.375\n",
       "2       A    2         heat  32.250"
      ]
     },
     "execution_count": 32,
     "metadata": {},
     "output_type": "execute_result"
    }
   ],
   "source": [
    "weather_Weight_Aggregated = weather_Weight_Aggregated.drop([\"originLocation\",\"destinationLocation\"],axis=1)\n",
    "weather_Weight_Aggregated = pd.DataFrame(weather_Weight_Aggregated.groupby([\"carrier\",\"Day\",\"exWeatherTag\"],sort=True)[\"weight\"].mean()).reset_index()\n",
    "\n",
    "weather_Weight_Aggregated.head(3)"
   ]
  },
  {
   "cell_type": "code",
   "execution_count": 33,
   "metadata": {
    "execution": {
     "iopub.execute_input": "2020-10-17T05:22:20.946379Z",
     "iopub.status.busy": "2020-10-17T05:22:20.945774Z",
     "iopub.status.idle": "2020-10-17T05:22:20.952797Z",
     "shell.execute_reply": "2020-10-17T05:22:20.952188Z"
    },
    "papermill": {
     "duration": 0.071387,
     "end_time": "2020-10-17T05:22:20.952920",
     "exception": false,
     "start_time": "2020-10-17T05:22:20.881533",
     "status": "completed"
    },
    "tags": []
   },
   "outputs": [],
   "source": [
    "#Filter out the blank rows\n",
    "exWeatherTag = ['NA_Weather']\n",
    "weather_distance_Aggregated = weather_distance_Aggregated[~weather_distance_Aggregated.exWeatherTag.isin(exWeatherTag)].reset_index()"
   ]
  },
  {
   "cell_type": "code",
   "execution_count": 34,
   "metadata": {
    "execution": {
     "iopub.execute_input": "2020-10-17T05:22:21.079363Z",
     "iopub.status.busy": "2020-10-17T05:22:21.077534Z",
     "iopub.status.idle": "2020-10-17T05:22:21.092950Z",
     "shell.execute_reply": "2020-10-17T05:22:21.092357Z"
    },
    "papermill": {
     "duration": 0.080809,
     "end_time": "2020-10-17T05:22:21.093071",
     "exception": false,
     "start_time": "2020-10-17T05:22:21.012262",
     "status": "completed"
    },
    "tags": []
   },
   "outputs": [
    {
     "data": {
      "text/html": [
       "<div>\n",
       "<style scoped>\n",
       "    .dataframe tbody tr th:only-of-type {\n",
       "        vertical-align: middle;\n",
       "    }\n",
       "\n",
       "    .dataframe tbody tr th {\n",
       "        vertical-align: top;\n",
       "    }\n",
       "\n",
       "    .dataframe thead th {\n",
       "        text-align: right;\n",
       "    }\n",
       "</style>\n",
       "<table border=\"1\" class=\"dataframe\">\n",
       "  <thead>\n",
       "    <tr style=\"text-align: right;\">\n",
       "      <th></th>\n",
       "      <th>carrier</th>\n",
       "      <th>Day</th>\n",
       "      <th>exWeatherTag</th>\n",
       "      <th>distance</th>\n",
       "    </tr>\n",
       "  </thead>\n",
       "  <tbody>\n",
       "    <tr>\n",
       "      <th>0</th>\n",
       "      <td>A</td>\n",
       "      <td>1</td>\n",
       "      <td>heat</td>\n",
       "      <td>2800</td>\n",
       "    </tr>\n",
       "    <tr>\n",
       "      <th>1</th>\n",
       "      <td>A</td>\n",
       "      <td>1</td>\n",
       "      <td>snow</td>\n",
       "      <td>5400</td>\n",
       "    </tr>\n",
       "    <tr>\n",
       "      <th>2</th>\n",
       "      <td>A</td>\n",
       "      <td>2</td>\n",
       "      <td>heat</td>\n",
       "      <td>2400</td>\n",
       "    </tr>\n",
       "  </tbody>\n",
       "</table>\n",
       "</div>"
      ],
      "text/plain": [
       "  carrier  Day exWeatherTag  distance\n",
       "0       A    1         heat      2800\n",
       "1       A    1         snow      5400\n",
       "2       A    2         heat      2400"
      ]
     },
     "execution_count": 34,
     "metadata": {},
     "output_type": "execute_result"
    }
   ],
   "source": [
    "weather_distance_Aggregated = weather_distance_Aggregated.drop([\"originLocation\",\"destinationLocation\"],axis=1)\n",
    "weather_distance_Aggregated = pd.DataFrame(weather_distance_Aggregated.groupby([\"carrier\",\"Day\",\"exWeatherTag\"],sort=True)[\"distance\"].sum()).reset_index()\n",
    "\n",
    "weather_distance_Aggregated.head(3)"
   ]
  },
  {
   "cell_type": "code",
   "execution_count": 35,
   "metadata": {
    "execution": {
     "iopub.execute_input": "2020-10-17T05:22:21.224706Z",
     "iopub.status.busy": "2020-10-17T05:22:21.223740Z",
     "iopub.status.idle": "2020-10-17T05:22:22.882872Z",
     "shell.execute_reply": "2020-10-17T05:22:22.882170Z"
    },
    "papermill": {
     "duration": 1.730978,
     "end_time": "2020-10-17T05:22:22.882996",
     "exception": false,
     "start_time": "2020-10-17T05:22:21.152018",
     "status": "completed"
    },
    "tags": []
   },
   "outputs": [
    {
     "data": {
      "text/plain": [
       "[Text(0, 0.5, 'distance'),\n",
       " Text(0.5, 0, 'Day of the month'),\n",
       " Text(0.5, 1.0, 'Total distance travelled by different carriers during day / night (with heat/snow) across days'),\n",
       " None]"
      ]
     },
     "execution_count": 35,
     "metadata": {},
     "output_type": "execute_result"
    },
    {
     "data": {
      "image/png": "[encoded data removed]",
      "text/plain": [
       "<Figure size 864x1440 with 2 Axes>"
      ]
     },
     "metadata": {
      "needs_background": "light"
     },
     "output_type": "display_data"
    }
   ],
   "source": [
    "fig,(ax1,ax2)= plt.subplots(nrows=2)\n",
    "fig.set_size_inches(12, 20)\n",
    "\n",
    "sns.pointplot(x= weather_Weight_Aggregated[\"Day\"], y= weather_Weight_Aggregated[\"weight\"],hue=(weather_Weight_Aggregated[\"carrier\"]+\"-\"+weather_Weight_Aggregated[\"exWeatherTag\"]), data=weather_Weight_Aggregated,join=False,ax=ax1)\n",
    "ax1.set(xlabel='Day of the month', ylabel='weight',title=\"Average weight carried by day / night (with heat / snow)\",label='big')\n",
    "\n",
    "sns.pointplot(x= weather_distance_Aggregated[\"Day\"], y= weather_distance_Aggregated[\"distance\"],hue=(weather_Weight_Aggregated[\"carrier\"]+\"-\"+weather_Weight_Aggregated[\"exWeatherTag\"]), data=weather_distance_Aggregated,join=False,ax=ax2)\n",
    "ax2.set(xlabel='Day of the month', ylabel='distance',title=\"Total distance travelled by different carriers during day / night (with heat/snow) across days\",label='big')"
   ]
  },
  {
   "cell_type": "markdown",
   "metadata": {
    "papermill": {
     "duration": 0.060446,
     "end_time": "2020-10-17T05:22:23.012295",
     "exception": false,
     "start_time": "2020-10-17T05:22:22.951849",
     "status": "completed"
    },
    "tags": []
   },
   "source": [
    "#### Check the Weights and Distance travelled during snow / heat in effect for months "
   ]
  },
  {
   "cell_type": "code",
   "execution_count": 36,
   "metadata": {
    "execution": {
     "iopub.execute_input": "2020-10-17T05:22:23.140221Z",
     "iopub.status.busy": "2020-10-17T05:22:23.139204Z",
     "iopub.status.idle": "2020-10-17T05:22:23.167736Z",
     "shell.execute_reply": "2020-10-17T05:22:23.167017Z"
    },
    "papermill": {
     "duration": 0.094994,
     "end_time": "2020-10-17T05:22:23.167858",
     "exception": false,
     "start_time": "2020-10-17T05:22:23.072864",
     "status": "completed"
    },
    "tags": []
   },
   "outputs": [],
   "source": [
    "weather_Weight_Aggregated = pd.DataFrame(DataFile.groupby([\"Month\",\"originLocation\",\"destinationLocation\",\"carrier\",\"dayPart\",\"exWeatherTag\"],sort=True)[\"weight\"].mean()).reset_index()"
   ]
  },
  {
   "cell_type": "code",
   "execution_count": 37,
   "metadata": {
    "execution": {
     "iopub.execute_input": "2020-10-17T05:22:23.295919Z",
     "iopub.status.busy": "2020-10-17T05:22:23.295036Z",
     "iopub.status.idle": "2020-10-17T05:22:23.323104Z",
     "shell.execute_reply": "2020-10-17T05:22:23.322431Z"
    },
    "papermill": {
     "duration": 0.094539,
     "end_time": "2020-10-17T05:22:23.323214",
     "exception": false,
     "start_time": "2020-10-17T05:22:23.228675",
     "status": "completed"
    },
    "tags": []
   },
   "outputs": [],
   "source": [
    "weather_distance_Aggregated = pd.DataFrame(DataFile.groupby([\"Month\",\"originLocation\",\"destinationLocation\",\"carrier\",\"dayPart\",\"exWeatherTag\"],sort=True)[\"distance\"].sum()).reset_index()"
   ]
  },
  {
   "cell_type": "code",
   "execution_count": 38,
   "metadata": {
    "execution": {
     "iopub.execute_input": "2020-10-17T05:22:23.457730Z",
     "iopub.status.busy": "2020-10-17T05:22:23.456232Z",
     "iopub.status.idle": "2020-10-17T05:22:23.460770Z",
     "shell.execute_reply": "2020-10-17T05:22:23.460215Z"
    },
    "papermill": {
     "duration": 0.074932,
     "end_time": "2020-10-17T05:22:23.460887",
     "exception": false,
     "start_time": "2020-10-17T05:22:23.385955",
     "status": "completed"
    },
    "tags": []
   },
   "outputs": [],
   "source": [
    "#Filter out the blank rows\n",
    "exWeatherTag = ['NA_Weather']\n",
    "weather_Weight_Aggregated = weather_Weight_Aggregated[~weather_Weight_Aggregated.exWeatherTag.isin(exWeatherTag)].reset_index()"
   ]
  },
  {
   "cell_type": "code",
   "execution_count": 39,
   "metadata": {
    "execution": {
     "iopub.execute_input": "2020-10-17T05:22:23.599092Z",
     "iopub.status.busy": "2020-10-17T05:22:23.589179Z",
     "iopub.status.idle": "2020-10-17T05:22:23.606662Z",
     "shell.execute_reply": "2020-10-17T05:22:23.606150Z"
    },
    "papermill": {
     "duration": 0.084717,
     "end_time": "2020-10-17T05:22:23.606806",
     "exception": false,
     "start_time": "2020-10-17T05:22:23.522089",
     "status": "completed"
    },
    "tags": []
   },
   "outputs": [
    {
     "data": {
      "text/html": [
       "<div>\n",
       "<style scoped>\n",
       "    .dataframe tbody tr th:only-of-type {\n",
       "        vertical-align: middle;\n",
       "    }\n",
       "\n",
       "    .dataframe tbody tr th {\n",
       "        vertical-align: top;\n",
       "    }\n",
       "\n",
       "    .dataframe thead th {\n",
       "        text-align: right;\n",
       "    }\n",
       "</style>\n",
       "<table border=\"1\" class=\"dataframe\">\n",
       "  <thead>\n",
       "    <tr style=\"text-align: right;\">\n",
       "      <th></th>\n",
       "      <th>carrier</th>\n",
       "      <th>Month</th>\n",
       "      <th>exWeatherTag</th>\n",
       "      <th>weight</th>\n",
       "    </tr>\n",
       "  </thead>\n",
       "  <tbody>\n",
       "    <tr>\n",
       "      <th>0</th>\n",
       "      <td>A</td>\n",
       "      <td>6</td>\n",
       "      <td>heat</td>\n",
       "      <td>25.714334</td>\n",
       "    </tr>\n",
       "    <tr>\n",
       "      <th>1</th>\n",
       "      <td>A</td>\n",
       "      <td>12</td>\n",
       "      <td>snow</td>\n",
       "      <td>24.773027</td>\n",
       "    </tr>\n",
       "    <tr>\n",
       "      <th>2</th>\n",
       "      <td>B</td>\n",
       "      <td>6</td>\n",
       "      <td>heat</td>\n",
       "      <td>23.659504</td>\n",
       "    </tr>\n",
       "  </tbody>\n",
       "</table>\n",
       "</div>"
      ],
      "text/plain": [
       "  carrier  Month exWeatherTag     weight\n",
       "0       A      6         heat  25.714334\n",
       "1       A     12         snow  24.773027\n",
       "2       B      6         heat  23.659504"
      ]
     },
     "execution_count": 39,
     "metadata": {},
     "output_type": "execute_result"
    }
   ],
   "source": [
    "weather_Weight_Aggregated = weather_Weight_Aggregated.drop([\"originLocation\",\"destinationLocation\"],axis=1)\n",
    "weather_Weight_Aggregated = pd.DataFrame(weather_Weight_Aggregated.groupby([\"carrier\",\"Month\",\"exWeatherTag\"],sort=True)[\"weight\"].mean()).reset_index()\n",
    "\n",
    "weather_Weight_Aggregated.head(3)"
   ]
  },
  {
   "cell_type": "code",
   "execution_count": 40,
   "metadata": {
    "execution": {
     "iopub.execute_input": "2020-10-17T05:22:23.736143Z",
     "iopub.status.busy": "2020-10-17T05:22:23.735524Z",
     "iopub.status.idle": "2020-10-17T05:22:23.741091Z",
     "shell.execute_reply": "2020-10-17T05:22:23.740430Z"
    },
    "papermill": {
     "duration": 0.072883,
     "end_time": "2020-10-17T05:22:23.741204",
     "exception": false,
     "start_time": "2020-10-17T05:22:23.668321",
     "status": "completed"
    },
    "tags": []
   },
   "outputs": [],
   "source": [
    "#Filter out the blank rows\n",
    "exWeatherTag = ['NA_Weather']\n",
    "weather_distance_Aggregated = weather_distance_Aggregated[~weather_distance_Aggregated.exWeatherTag.isin(exWeatherTag)].reset_index()"
   ]
  },
  {
   "cell_type": "code",
   "execution_count": 41,
   "metadata": {
    "execution": {
     "iopub.execute_input": "2020-10-17T05:22:23.875861Z",
     "iopub.status.busy": "2020-10-17T05:22:23.874879Z",
     "iopub.status.idle": "2020-10-17T05:22:23.888601Z",
     "shell.execute_reply": "2020-10-17T05:22:23.887966Z"
    },
    "papermill": {
     "duration": 0.08448,
     "end_time": "2020-10-17T05:22:23.888716",
     "exception": false,
     "start_time": "2020-10-17T05:22:23.804236",
     "status": "completed"
    },
    "tags": []
   },
   "outputs": [
    {
     "data": {
      "text/html": [
       "<div>\n",
       "<style scoped>\n",
       "    .dataframe tbody tr th:only-of-type {\n",
       "        vertical-align: middle;\n",
       "    }\n",
       "\n",
       "    .dataframe tbody tr th {\n",
       "        vertical-align: top;\n",
       "    }\n",
       "\n",
       "    .dataframe thead th {\n",
       "        text-align: right;\n",
       "    }\n",
       "</style>\n",
       "<table border=\"1\" class=\"dataframe\">\n",
       "  <thead>\n",
       "    <tr style=\"text-align: right;\">\n",
       "      <th></th>\n",
       "      <th>carrier</th>\n",
       "      <th>Month</th>\n",
       "      <th>exWeatherTag</th>\n",
       "      <th>distance</th>\n",
       "    </tr>\n",
       "  </thead>\n",
       "  <tbody>\n",
       "    <tr>\n",
       "      <th>0</th>\n",
       "      <td>A</td>\n",
       "      <td>6</td>\n",
       "      <td>heat</td>\n",
       "      <td>56600</td>\n",
       "    </tr>\n",
       "    <tr>\n",
       "      <th>1</th>\n",
       "      <td>A</td>\n",
       "      <td>12</td>\n",
       "      <td>snow</td>\n",
       "      <td>134200</td>\n",
       "    </tr>\n",
       "    <tr>\n",
       "      <th>2</th>\n",
       "      <td>B</td>\n",
       "      <td>6</td>\n",
       "      <td>heat</td>\n",
       "      <td>2544000</td>\n",
       "    </tr>\n",
       "  </tbody>\n",
       "</table>\n",
       "</div>"
      ],
      "text/plain": [
       "  carrier  Month exWeatherTag  distance\n",
       "0       A      6         heat     56600\n",
       "1       A     12         snow    134200\n",
       "2       B      6         heat   2544000"
      ]
     },
     "execution_count": 41,
     "metadata": {},
     "output_type": "execute_result"
    }
   ],
   "source": [
    "weather_distance_Aggregated = weather_distance_Aggregated.drop([\"originLocation\",\"destinationLocation\"],axis=1)\n",
    "weather_distance_Aggregated = pd.DataFrame(weather_distance_Aggregated.groupby([\"carrier\",\"Month\",\"exWeatherTag\"],sort=True)[\"distance\"].sum()).reset_index()\n",
    "\n",
    "weather_distance_Aggregated.head(3)"
   ]
  },
  {
   "cell_type": "code",
   "execution_count": 42,
   "metadata": {
    "execution": {
     "iopub.execute_input": "2020-10-17T05:22:24.024614Z",
     "iopub.status.busy": "2020-10-17T05:22:24.023630Z",
     "iopub.status.idle": "2020-10-17T05:22:24.454917Z",
     "shell.execute_reply": "2020-10-17T05:22:24.454338Z"
    },
    "papermill": {
     "duration": 0.50191,
     "end_time": "2020-10-17T05:22:24.455034",
     "exception": false,
     "start_time": "2020-10-17T05:22:23.953124",
     "status": "completed"
    },
    "tags": []
   },
   "outputs": [
    {
     "data": {
      "text/plain": [
       "[Text(0, 0.5, 'distance'),\n",
       " Text(0.5, 0, 'Month of the year'),\n",
       " Text(0.5, 1.0, 'Total distance travelled by different carriers during day / night (with heat/snow) across months'),\n",
       " None]"
      ]
     },
     "execution_count": 42,
     "metadata": {},
     "output_type": "execute_result"
    },
    {
     "data": {
      "image/png": "[encoded data removed]",
      "text/plain": [
       "<Figure size 864x1440 with 2 Axes>"
      ]
     },
     "metadata": {
      "needs_background": "light"
     },
     "output_type": "display_data"
    }
   ],
   "source": [
    "fig,(ax1,ax2)= plt.subplots(nrows=2)\n",
    "fig.set_size_inches(12, 20)\n",
    "\n",
    "sns.pointplot(x= weather_Weight_Aggregated[\"Month\"], y= weather_Weight_Aggregated[\"weight\"],hue=(weather_Weight_Aggregated[\"carrier\"]+\"-\"+weather_Weight_Aggregated[\"exWeatherTag\"]), data=weather_Weight_Aggregated,join=False,ax=ax1)\n",
    "ax1.set(xlabel='Month of the year', ylabel='weight',title=\"Average weight carried by day / night (with heat / snow)\",label='big')\n",
    "\n",
    "sns.pointplot(x= weather_distance_Aggregated[\"Month\"], y= weather_distance_Aggregated[\"distance\"],hue=(weather_Weight_Aggregated[\"carrier\"]+\"-\"+weather_Weight_Aggregated[\"exWeatherTag\"]), data=weather_distance_Aggregated,join=False,ax=ax2)\n",
    "ax2.set(xlabel='Month of the year', ylabel='distance',title=\"Total distance travelled by different carriers during day / night (with heat/snow) across months\",label='big')"
   ]
  },
  {
   "cell_type": "markdown",
   "metadata": {
    "papermill": {
     "duration": 0.064543,
     "end_time": "2020-10-17T05:22:24.583895",
     "exception": false,
     "start_time": "2020-10-17T05:22:24.519352",
     "status": "completed"
    },
    "tags": []
   },
   "source": [
    "Analysis\n",
    "\n",
    "While C is delivering most of the weights (as we saw before), the trend doesn't change much during 6th month (heat) and 12th month (which is cold). similarly pattern doesn't change for B in terms of distance. So heat and snow doesn't deliver any significant effect over the carriers. Month graphs, overall dont throw much insights."
   ]
  },
  {
   "cell_type": "markdown",
   "metadata": {
    "papermill": {
     "duration": 0.063353,
     "end_time": "2020-10-17T05:22:24.711233",
     "exception": false,
     "start_time": "2020-10-17T05:22:24.647880",
     "status": "completed"
    },
    "tags": []
   },
   "source": [
    "##### Check the Expedite Type by Days"
   ]
  },
  {
   "cell_type": "code",
   "execution_count": 43,
   "metadata": {
    "execution": {
     "iopub.execute_input": "2020-10-17T05:22:24.847450Z",
     "iopub.status.busy": "2020-10-17T05:22:24.846725Z",
     "iopub.status.idle": "2020-10-17T05:22:24.870133Z",
     "shell.execute_reply": "2020-10-17T05:22:24.870634Z"
    },
    "papermill": {
     "duration": 0.094696,
     "end_time": "2020-10-17T05:22:24.870803",
     "exception": false,
     "start_time": "2020-10-17T05:22:24.776107",
     "status": "completed"
    },
    "tags": []
   },
   "outputs": [],
   "source": [
    "Type_Weight_Aggregated = pd.DataFrame(DataFile.groupby([\"Day\",\"originLocation\",\"destinationLocation\",\"carrier\",\"type\"],sort=True)[\"weight\"].mean()).reset_index()"
   ]
  },
  {
   "cell_type": "code",
   "execution_count": 44,
   "metadata": {
    "execution": {
     "iopub.execute_input": "2020-10-17T05:22:25.010171Z",
     "iopub.status.busy": "2020-10-17T05:22:25.009409Z",
     "iopub.status.idle": "2020-10-17T05:22:25.033487Z",
     "shell.execute_reply": "2020-10-17T05:22:25.032914Z"
    },
    "papermill": {
     "duration": 0.096238,
     "end_time": "2020-10-17T05:22:25.033630",
     "exception": false,
     "start_time": "2020-10-17T05:22:24.937392",
     "status": "completed"
    },
    "tags": []
   },
   "outputs": [],
   "source": [
    "Type_distance_Aggregated = pd.DataFrame(DataFile.groupby([\"Day\",\"originLocation\",\"destinationLocation\",\"carrier\",\"type\"],sort=True)[\"distance\"].sum()).reset_index()"
   ]
  },
  {
   "cell_type": "code",
   "execution_count": 45,
   "metadata": {
    "execution": {
     "iopub.execute_input": "2020-10-17T05:22:25.169980Z",
     "iopub.status.busy": "2020-10-17T05:22:25.169236Z",
     "iopub.status.idle": "2020-10-17T05:22:25.175179Z",
     "shell.execute_reply": "2020-10-17T05:22:25.174632Z"
    },
    "papermill": {
     "duration": 0.077013,
     "end_time": "2020-10-17T05:22:25.175303",
     "exception": false,
     "start_time": "2020-10-17T05:22:25.098290",
     "status": "completed"
    },
    "tags": []
   },
   "outputs": [],
   "source": [
    "#Filter out the blank rows\n",
    "Type_Tag = ['NA_type']\n",
    "Type_Weight_Aggregated = Type_Weight_Aggregated[~Type_Weight_Aggregated.type.isin(Type_Tag)].reset_index()"
   ]
  },
  {
   "cell_type": "code",
   "execution_count": 46,
   "metadata": {
    "execution": {
     "iopub.execute_input": "2020-10-17T05:22:25.311355Z",
     "iopub.status.busy": "2020-10-17T05:22:25.310688Z",
     "iopub.status.idle": "2020-10-17T05:22:25.316611Z",
     "shell.execute_reply": "2020-10-17T05:22:25.315937Z"
    },
    "papermill": {
     "duration": 0.076432,
     "end_time": "2020-10-17T05:22:25.316732",
     "exception": false,
     "start_time": "2020-10-17T05:22:25.240300",
     "status": "completed"
    },
    "tags": []
   },
   "outputs": [],
   "source": [
    "#Filter out the blank rows\n",
    "Type_Tag = ['NA_type']\n",
    "Type_distance_Aggregated = Type_distance_Aggregated[~Type_distance_Aggregated.type.isin(Type_Tag)].reset_index()"
   ]
  },
  {
   "cell_type": "code",
   "execution_count": 47,
   "metadata": {
    "execution": {
     "iopub.execute_input": "2020-10-17T05:22:25.455076Z",
     "iopub.status.busy": "2020-10-17T05:22:25.454332Z",
     "iopub.status.idle": "2020-10-17T05:22:25.467783Z",
     "shell.execute_reply": "2020-10-17T05:22:25.466905Z"
    },
    "papermill": {
     "duration": 0.086216,
     "end_time": "2020-10-17T05:22:25.467904",
     "exception": false,
     "start_time": "2020-10-17T05:22:25.381688",
     "status": "completed"
    },
    "tags": []
   },
   "outputs": [
    {
     "data": {
      "text/html": [
       "<div>\n",
       "<style scoped>\n",
       "    .dataframe tbody tr th:only-of-type {\n",
       "        vertical-align: middle;\n",
       "    }\n",
       "\n",
       "    .dataframe tbody tr th {\n",
       "        vertical-align: top;\n",
       "    }\n",
       "\n",
       "    .dataframe thead th {\n",
       "        text-align: right;\n",
       "    }\n",
       "</style>\n",
       "<table border=\"1\" class=\"dataframe\">\n",
       "  <thead>\n",
       "    <tr style=\"text-align: right;\">\n",
       "      <th></th>\n",
       "      <th>carrier</th>\n",
       "      <th>Day</th>\n",
       "      <th>type</th>\n",
       "      <th>weight</th>\n",
       "    </tr>\n",
       "  </thead>\n",
       "  <tbody>\n",
       "    <tr>\n",
       "      <th>0</th>\n",
       "      <td>D</td>\n",
       "      <td>1</td>\n",
       "      <td>expedited</td>\n",
       "      <td>64.818783</td>\n",
       "    </tr>\n",
       "    <tr>\n",
       "      <th>1</th>\n",
       "      <td>D</td>\n",
       "      <td>2</td>\n",
       "      <td>expedited</td>\n",
       "      <td>39.743280</td>\n",
       "    </tr>\n",
       "    <tr>\n",
       "      <th>2</th>\n",
       "      <td>D</td>\n",
       "      <td>3</td>\n",
       "      <td>expedited</td>\n",
       "      <td>34.040256</td>\n",
       "    </tr>\n",
       "  </tbody>\n",
       "</table>\n",
       "</div>"
      ],
      "text/plain": [
       "  carrier  Day       type     weight\n",
       "0       D    1  expedited  64.818783\n",
       "1       D    2  expedited  39.743280\n",
       "2       D    3  expedited  34.040256"
      ]
     },
     "execution_count": 47,
     "metadata": {},
     "output_type": "execute_result"
    }
   ],
   "source": [
    "Type_Weight_Aggregated = Type_Weight_Aggregated.drop([\"originLocation\",\"destinationLocation\"],axis=1)\n",
    "Type_Weight_Aggregated = pd.DataFrame(Type_Weight_Aggregated.groupby([\"carrier\",\"Day\",\"type\"],sort=True)[\"weight\"].mean()).reset_index()\n",
    "\n",
    "Type_Weight_Aggregated.head(3)"
   ]
  },
  {
   "cell_type": "code",
   "execution_count": 48,
   "metadata": {
    "execution": {
     "iopub.execute_input": "2020-10-17T05:22:25.606683Z",
     "iopub.status.busy": "2020-10-17T05:22:25.605968Z",
     "iopub.status.idle": "2020-10-17T05:22:25.619785Z",
     "shell.execute_reply": "2020-10-17T05:22:25.619136Z"
    },
    "papermill": {
     "duration": 0.086648,
     "end_time": "2020-10-17T05:22:25.619899",
     "exception": false,
     "start_time": "2020-10-17T05:22:25.533251",
     "status": "completed"
    },
    "tags": []
   },
   "outputs": [
    {
     "data": {
      "text/html": [
       "<div>\n",
       "<style scoped>\n",
       "    .dataframe tbody tr th:only-of-type {\n",
       "        vertical-align: middle;\n",
       "    }\n",
       "\n",
       "    .dataframe tbody tr th {\n",
       "        vertical-align: top;\n",
       "    }\n",
       "\n",
       "    .dataframe thead th {\n",
       "        text-align: right;\n",
       "    }\n",
       "</style>\n",
       "<table border=\"1\" class=\"dataframe\">\n",
       "  <thead>\n",
       "    <tr style=\"text-align: right;\">\n",
       "      <th></th>\n",
       "      <th>carrier</th>\n",
       "      <th>Day</th>\n",
       "      <th>type</th>\n",
       "      <th>distance</th>\n",
       "    </tr>\n",
       "  </thead>\n",
       "  <tbody>\n",
       "    <tr>\n",
       "      <th>0</th>\n",
       "      <td>D</td>\n",
       "      <td>1</td>\n",
       "      <td>expedited</td>\n",
       "      <td>264600</td>\n",
       "    </tr>\n",
       "    <tr>\n",
       "      <th>1</th>\n",
       "      <td>D</td>\n",
       "      <td>2</td>\n",
       "      <td>expedited</td>\n",
       "      <td>262600</td>\n",
       "    </tr>\n",
       "    <tr>\n",
       "      <th>2</th>\n",
       "      <td>D</td>\n",
       "      <td>3</td>\n",
       "      <td>expedited</td>\n",
       "      <td>247000</td>\n",
       "    </tr>\n",
       "  </tbody>\n",
       "</table>\n",
       "</div>"
      ],
      "text/plain": [
       "  carrier  Day       type  distance\n",
       "0       D    1  expedited    264600\n",
       "1       D    2  expedited    262600\n",
       "2       D    3  expedited    247000"
      ]
     },
     "execution_count": 48,
     "metadata": {},
     "output_type": "execute_result"
    }
   ],
   "source": [
    "Type_distance_Aggregated = Type_distance_Aggregated.drop([\"originLocation\",\"destinationLocation\"],axis=1)\n",
    "Type_distance_Aggregated = pd.DataFrame(Type_distance_Aggregated.groupby([\"carrier\",\"Day\",\"type\"],sort=True)[\"distance\"].sum()).reset_index()\n",
    "\n",
    "Type_distance_Aggregated.head(3)"
   ]
  },
  {
   "cell_type": "code",
   "execution_count": 49,
   "metadata": {
    "execution": {
     "iopub.execute_input": "2020-10-17T05:22:25.772189Z",
     "iopub.status.busy": "2020-10-17T05:22:25.771141Z",
     "iopub.status.idle": "2020-10-17T05:22:26.392666Z",
     "shell.execute_reply": "2020-10-17T05:22:26.392057Z"
    },
    "papermill": {
     "duration": 0.706932,
     "end_time": "2020-10-17T05:22:26.392802",
     "exception": false,
     "start_time": "2020-10-17T05:22:25.685870",
     "status": "completed"
    },
    "tags": []
   },
   "outputs": [
    {
     "data": {
      "text/plain": [
       "[Text(0, 0.5, 'distance'),\n",
       " Text(0.5, 0, 'Day of the month'),\n",
       " Text(0.5, 1.0, 'Total distance travelled by carrier D (with Expedite) across days'),\n",
       " None]"
      ]
     },
     "execution_count": 49,
     "metadata": {},
     "output_type": "execute_result"
    },
    {
     "data": {
      "image/png": "[encoded data removed]",
      "text/plain": [
       "<Figure size 864x1440 with 2 Axes>"
      ]
     },
     "metadata": {
      "needs_background": "light"
     },
     "output_type": "display_data"
    }
   ],
   "source": [
    "fig,(ax1,ax2)= plt.subplots(nrows=2)\n",
    "fig.set_size_inches(12, 20)\n",
    "\n",
    "sns.pointplot(x= Type_Weight_Aggregated[\"Day\"], y= Type_Weight_Aggregated[\"weight\"],hue=(Type_Weight_Aggregated[\"carrier\"]+\"-\"+Type_Weight_Aggregated[\"type\"]), data=weather_Weight_Aggregated,join=False,ax=ax1)\n",
    "ax1.set(xlabel='Day of the month', ylabel='weight',title=\"Average weight carried with Expedite option\",label='big')\n",
    "\n",
    "sns.pointplot(x= Type_distance_Aggregated[\"Day\"], y= Type_distance_Aggregated[\"distance\"],hue=(Type_distance_Aggregated[\"carrier\"]+\"-\"+Type_distance_Aggregated[\"type\"]), data=weather_distance_Aggregated,join=False,ax=ax2)\n",
    "ax2.set(xlabel='Day of the month', ylabel='distance',title=\"Total distance travelled by carrier D (with Expedite) across days\",label='big')"
   ]
  },
  {
   "cell_type": "markdown",
   "metadata": {
    "papermill": {
     "duration": 0.06686,
     "end_time": "2020-10-17T05:22:26.528495",
     "exception": false,
     "start_time": "2020-10-17T05:22:26.461635",
     "status": "completed"
    },
    "tags": []
   },
   "source": [
    "With Expedite option only available to Carrier D, it is evident, that the career is travelling closer / lower distances with lower weights. The \"Type\" or Carrier D (either of two) thus could hold a significance in the model"
   ]
  },
  {
   "cell_type": "markdown",
   "metadata": {
    "papermill": {
     "duration": 0.06728,
     "end_time": "2020-10-17T05:22:26.662922",
     "exception": false,
     "start_time": "2020-10-17T05:22:26.595642",
     "status": "completed"
    },
    "tags": []
   },
   "source": [
    "#### Distribution of Weight across the data"
   ]
  },
  {
   "cell_type": "code",
   "execution_count": 50,
   "metadata": {
    "execution": {
     "iopub.execute_input": "2020-10-17T05:22:26.814805Z",
     "iopub.status.busy": "2020-10-17T05:22:26.814110Z",
     "iopub.status.idle": "2020-10-17T05:22:27.117348Z",
     "shell.execute_reply": "2020-10-17T05:22:27.116686Z"
    },
    "papermill": {
     "duration": 0.386079,
     "end_time": "2020-10-17T05:22:27.117540",
     "exception": false,
     "start_time": "2020-10-17T05:22:26.731461",
     "status": "completed"
    },
    "tags": []
   },
   "outputs": [
    {
     "data": {
      "image/png": "[encoded data removed]",
      "text/plain": [
       "<Figure size 720x360 with 2 Axes>"
      ]
     },
     "metadata": {
      "needs_background": "light"
     },
     "output_type": "display_data"
    }
   ],
   "source": [
    "f, ax = plt.subplots(ncols=2, figsize=(10,5))\n",
    "sns.kdeplot(DataFile.weight, color='b', shade=True, ax=ax[0])\n",
    "sns.kdeplot(DataFile.weight, color='r', shade=True, bw=100, ax=ax[1])\n",
    "\n",
    "ax[0].set_title('KDE')\n",
    "ax[1].set_title('KDE, bandwidth = 100')\n",
    "\n",
    "plt.show()"
   ]
  },
  {
   "cell_type": "markdown",
   "metadata": {
    "papermill": {
     "duration": 0.067923,
     "end_time": "2020-10-17T05:22:27.254568",
     "exception": false,
     "start_time": "2020-10-17T05:22:27.186645",
     "status": "completed"
    },
    "tags": []
   },
   "source": [
    "weight is skewed towards right, it is important to either normalize the weight using standard scaler or create bins"
   ]
  },
  {
   "cell_type": "markdown",
   "metadata": {
    "papermill": {
     "duration": 0.067871,
     "end_time": "2020-10-17T05:22:27.390331",
     "exception": false,
     "start_time": "2020-10-17T05:22:27.322460",
     "status": "completed"
    },
    "tags": []
   },
   "source": [
    "# Feature Engineering"
   ]
  },
  {
   "cell_type": "markdown",
   "metadata": {
    "papermill": {
     "duration": 0.067664,
     "end_time": "2020-10-17T05:22:27.525953",
     "exception": false,
     "start_time": "2020-10-17T05:22:27.458289",
     "status": "completed"
    },
    "tags": []
   },
   "source": [
    "#### Drop the inital columns that are not needed."
   ]
  },
  {
   "cell_type": "code",
   "execution_count": 51,
   "metadata": {
    "execution": {
     "iopub.execute_input": "2020-10-17T05:22:27.680534Z",
     "iopub.status.busy": "2020-10-17T05:22:27.679777Z",
     "iopub.status.idle": "2020-10-17T05:22:27.691726Z",
     "shell.execute_reply": "2020-10-17T05:22:27.692178Z"
    },
    "papermill": {
     "duration": 0.098348,
     "end_time": "2020-10-17T05:22:27.692324",
     "exception": false,
     "start_time": "2020-10-17T05:22:27.593976",
     "status": "completed"
    },
    "tags": []
   },
   "outputs": [
    {
     "name": "stdout",
     "output_type": "stream",
     "text": [
      "<class 'pandas.core.frame.DataFrame'>\n",
      "RangeIndex: 38999 entries, 0 to 38998\n",
      "Data columns (total 14 columns):\n",
      " #   Column               Non-Null Count  Dtype  \n",
      "---  ------               --------------  -----  \n",
      " 0   trip                 38999 non-null  object \n",
      " 1   date                 38999 non-null  object \n",
      " 2   dayPart              38999 non-null  object \n",
      " 3   exWeatherTag         38999 non-null  object \n",
      " 4   originLocation       38999 non-null  object \n",
      " 5   destinationLocation  38999 non-null  object \n",
      " 6   distance             38999 non-null  int64  \n",
      " 7   type                 38999 non-null  object \n",
      " 8   weight               38999 non-null  int64  \n",
      " 9   carrier              38999 non-null  object \n",
      " 10  cost                 38999 non-null  float64\n",
      " 11  Year                 38999 non-null  int64  \n",
      " 12  Month                38999 non-null  int64  \n",
      " 13  Day                  38999 non-null  int64  \n",
      "dtypes: float64(1), int64(5), object(8)\n",
      "memory usage: 4.2+ MB\n"
     ]
    }
   ],
   "source": [
    "DataFile.info()"
   ]
  },
  {
   "cell_type": "code",
   "execution_count": 52,
   "metadata": {
    "execution": {
     "iopub.execute_input": "2020-10-17T05:22:27.851074Z",
     "iopub.status.busy": "2020-10-17T05:22:27.840190Z",
     "iopub.status.idle": "2020-10-17T05:22:27.856032Z",
     "shell.execute_reply": "2020-10-17T05:22:27.855491Z"
    },
    "papermill": {
     "duration": 0.094315,
     "end_time": "2020-10-17T05:22:27.856151",
     "exception": false,
     "start_time": "2020-10-17T05:22:27.761836",
     "status": "completed"
    },
    "tags": []
   },
   "outputs": [],
   "source": [
    "#Create Dummy variable for daypart and type\n",
    "DataFile['dayPart'].replace(['day','night'],[1,0],inplace=True)"
   ]
  },
  {
   "cell_type": "markdown",
   "metadata": {
    "papermill": {
     "duration": 0.069632,
     "end_time": "2020-10-17T05:22:27.996613",
     "exception": false,
     "start_time": "2020-10-17T05:22:27.926981",
     "status": "completed"
    },
    "tags": []
   },
   "source": [
    "Creating Bins for Weights and Distance Variable"
   ]
  },
  {
   "cell_type": "code",
   "execution_count": 53,
   "metadata": {
    "execution": {
     "iopub.execute_input": "2020-10-17T05:22:28.139947Z",
     "iopub.status.busy": "2020-10-17T05:22:28.139064Z",
     "iopub.status.idle": "2020-10-17T05:22:28.423002Z",
     "shell.execute_reply": "2020-10-17T05:22:28.422330Z"
    },
    "papermill": {
     "duration": 0.357941,
     "end_time": "2020-10-17T05:22:28.423115",
     "exception": false,
     "start_time": "2020-10-17T05:22:28.065174",
     "status": "completed"
    },
    "tags": []
   },
   "outputs": [],
   "source": [
    "#Making weight Bins - they were not used as they are not significant\n",
    "DataFile['weight_bin'] = pd.qcut(DataFile['weight'], 5)\n",
    "label = LabelEncoder()\n",
    "DataFile['weight_bin'] = label.fit_transform(DataFile['weight_bin'])"
   ]
  },
  {
   "cell_type": "code",
   "execution_count": 54,
   "metadata": {
    "execution": {
     "iopub.execute_input": "2020-10-17T05:22:28.603757Z",
     "iopub.status.busy": "2020-10-17T05:22:28.602836Z",
     "iopub.status.idle": "2020-10-17T05:22:28.741548Z",
     "shell.execute_reply": "2020-10-17T05:22:28.740871Z"
    },
    "papermill": {
     "duration": 0.248463,
     "end_time": "2020-10-17T05:22:28.741667",
     "exception": false,
     "start_time": "2020-10-17T05:22:28.493204",
     "status": "completed"
    },
    "tags": []
   },
   "outputs": [],
   "source": [
    "#Making weight Bins - not used as they were not significant\n",
    "DataFile['distance_bin'] = pd.qcut(DataFile['distance'], 5)\n",
    "label = LabelEncoder()\n",
    "DataFile['distance_bin'] = label.fit_transform(DataFile['distance_bin'])"
   ]
  },
  {
   "cell_type": "markdown",
   "metadata": {
    "papermill": {
     "duration": 0.068957,
     "end_time": "2020-10-17T05:22:28.880432",
     "exception": false,
     "start_time": "2020-10-17T05:22:28.811475",
     "status": "completed"
    },
    "tags": []
   },
   "source": [
    "* I remove distance bins, weight bins, origin and destination location as they were insignificant.\n",
    "* Using months and days as our model variables, we can remove the year and date.\n",
    "* Weather was not much significant for weights and distance, so we removed it for our analysis\n",
    "* Carrier D is using expedite services, so adding type will increase correlation issue.\n",
    "* trip number is insignificant\n",
    "* I can now remove the weights and check if weight bins help improves the rmse (metric used for model). Bins is an ordinal variable here."
   ]
  },
  {
   "cell_type": "code",
   "execution_count": 55,
   "metadata": {
    "execution": {
     "iopub.execute_input": "2020-10-17T05:22:29.027835Z",
     "iopub.status.busy": "2020-10-17T05:22:29.027094Z",
     "iopub.status.idle": "2020-10-17T05:22:29.037420Z",
     "shell.execute_reply": "2020-10-17T05:22:29.036738Z"
    },
    "papermill": {
     "duration": 0.086846,
     "end_time": "2020-10-17T05:22:29.037585",
     "exception": false,
     "start_time": "2020-10-17T05:22:28.950739",
     "status": "completed"
    },
    "tags": []
   },
   "outputs": [],
   "source": [
    "DataFile = DataFile.drop(['trip','date',\"weight_bin\",\"distance_bin\",'originLocation','destinationLocation','exWeatherTag','type','Year'],axis=1)"
   ]
  },
  {
   "cell_type": "code",
   "execution_count": 56,
   "metadata": {
    "execution": {
     "iopub.execute_input": "2020-10-17T05:22:29.189365Z",
     "iopub.status.busy": "2020-10-17T05:22:29.188471Z",
     "iopub.status.idle": "2020-10-17T05:22:29.193170Z",
     "shell.execute_reply": "2020-10-17T05:22:29.192548Z"
    },
    "papermill": {
     "duration": 0.085828,
     "end_time": "2020-10-17T05:22:29.193290",
     "exception": false,
     "start_time": "2020-10-17T05:22:29.107462",
     "status": "completed"
    },
    "tags": []
   },
   "outputs": [
    {
     "data": {
      "text/html": [
       "<div>\n",
       "<style scoped>\n",
       "    .dataframe tbody tr th:only-of-type {\n",
       "        vertical-align: middle;\n",
       "    }\n",
       "\n",
       "    .dataframe tbody tr th {\n",
       "        vertical-align: top;\n",
       "    }\n",
       "\n",
       "    .dataframe thead th {\n",
       "        text-align: right;\n",
       "    }\n",
       "</style>\n",
       "<table border=\"1\" class=\"dataframe\">\n",
       "  <thead>\n",
       "    <tr style=\"text-align: right;\">\n",
       "      <th></th>\n",
       "      <th>dayPart</th>\n",
       "      <th>distance</th>\n",
       "      <th>weight</th>\n",
       "      <th>carrier</th>\n",
       "      <th>cost</th>\n",
       "      <th>Month</th>\n",
       "      <th>Day</th>\n",
       "    </tr>\n",
       "  </thead>\n",
       "  <tbody>\n",
       "    <tr>\n",
       "      <th>0</th>\n",
       "      <td>0</td>\n",
       "      <td>2200</td>\n",
       "      <td>50</td>\n",
       "      <td>D</td>\n",
       "      <td>68.413152</td>\n",
       "      <td>9</td>\n",
       "      <td>6</td>\n",
       "    </tr>\n",
       "    <tr>\n",
       "      <th>1</th>\n",
       "      <td>0</td>\n",
       "      <td>1800</td>\n",
       "      <td>12</td>\n",
       "      <td>B</td>\n",
       "      <td>36.450649</td>\n",
       "      <td>10</td>\n",
       "      <td>21</td>\n",
       "    </tr>\n",
       "    <tr>\n",
       "      <th>2</th>\n",
       "      <td>0</td>\n",
       "      <td>2800</td>\n",
       "      <td>1</td>\n",
       "      <td>B</td>\n",
       "      <td>9.057939</td>\n",
       "      <td>7</td>\n",
       "      <td>15</td>\n",
       "    </tr>\n",
       "    <tr>\n",
       "      <th>3</th>\n",
       "      <td>1</td>\n",
       "      <td>3200</td>\n",
       "      <td>50</td>\n",
       "      <td>C</td>\n",
       "      <td>57.320087</td>\n",
       "      <td>10</td>\n",
       "      <td>22</td>\n",
       "    </tr>\n",
       "    <tr>\n",
       "      <th>4</th>\n",
       "      <td>1</td>\n",
       "      <td>2000</td>\n",
       "      <td>43</td>\n",
       "      <td>B</td>\n",
       "      <td>77.263777</td>\n",
       "      <td>12</td>\n",
       "      <td>11</td>\n",
       "    </tr>\n",
       "  </tbody>\n",
       "</table>\n",
       "</div>"
      ],
      "text/plain": [
       "   dayPart  distance  weight carrier       cost  Month  Day\n",
       "0        0      2200      50       D  68.413152      9    6\n",
       "1        0      1800      12       B  36.450649     10   21\n",
       "2        0      2800       1       B   9.057939      7   15\n",
       "3        1      3200      50       C  57.320087     10   22\n",
       "4        1      2000      43       B  77.263777     12   11"
      ]
     },
     "execution_count": 56,
     "metadata": {},
     "output_type": "execute_result"
    }
   ],
   "source": [
    "DataFile.head(5)"
   ]
  },
  {
   "cell_type": "code",
   "execution_count": 57,
   "metadata": {
    "execution": {
     "iopub.execute_input": "2020-10-17T05:22:29.338450Z",
     "iopub.status.busy": "2020-10-17T05:22:29.337557Z",
     "iopub.status.idle": "2020-10-17T05:22:29.341543Z",
     "shell.execute_reply": "2020-10-17T05:22:29.340904Z"
    },
    "papermill": {
     "duration": 0.078315,
     "end_time": "2020-10-17T05:22:29.341658",
     "exception": false,
     "start_time": "2020-10-17T05:22:29.263343",
     "status": "completed"
    },
    "tags": []
   },
   "outputs": [
    {
     "data": {
      "text/plain": [
       "(38999, 7)"
      ]
     },
     "execution_count": 57,
     "metadata": {},
     "output_type": "execute_result"
    }
   ],
   "source": [
    "DataFile.shape"
   ]
  },
  {
   "cell_type": "code",
   "execution_count": 58,
   "metadata": {
    "execution": {
     "iopub.execute_input": "2020-10-17T05:22:29.488836Z",
     "iopub.status.busy": "2020-10-17T05:22:29.488161Z",
     "iopub.status.idle": "2020-10-17T05:22:29.493660Z",
     "shell.execute_reply": "2020-10-17T05:22:29.493001Z"
    },
    "papermill": {
     "duration": 0.080399,
     "end_time": "2020-10-17T05:22:29.493774",
     "exception": false,
     "start_time": "2020-10-17T05:22:29.413375",
     "status": "completed"
    },
    "tags": []
   },
   "outputs": [],
   "source": [
    "train_set, val_set = train_test_split(DataFile, test_size=0.10,shuffle=False)"
   ]
  },
  {
   "cell_type": "code",
   "execution_count": 59,
   "metadata": {
    "execution": {
     "iopub.execute_input": "2020-10-17T05:22:29.643101Z",
     "iopub.status.busy": "2020-10-17T05:22:29.639551Z",
     "iopub.status.idle": "2020-10-17T05:22:29.645891Z",
     "shell.execute_reply": "2020-10-17T05:22:29.646340Z"
    },
    "papermill": {
     "duration": 0.082324,
     "end_time": "2020-10-17T05:22:29.646487",
     "exception": false,
     "start_time": "2020-10-17T05:22:29.564163",
     "status": "completed"
    },
    "tags": []
   },
   "outputs": [],
   "source": [
    "# Now define x and y.\n",
    "\n",
    "#the Y Variable\n",
    "train_set_y = train_set[\"cost\"].copy()\n",
    "val_set_y = val_set[\"cost\"].copy()\n",
    "\n",
    "#the X variables\n",
    "train_set_X = train_set.drop(\"cost\", axis=1)\n",
    "val_set_X = val_set.drop(\"cost\", axis=1)"
   ]
  },
  {
   "cell_type": "code",
   "execution_count": 60,
   "metadata": {
    "execution": {
     "iopub.execute_input": "2020-10-17T05:22:29.812751Z",
     "iopub.status.busy": "2020-10-17T05:22:29.798596Z",
     "iopub.status.idle": "2020-10-17T05:22:29.819253Z",
     "shell.execute_reply": "2020-10-17T05:22:29.818711Z"
    },
    "papermill": {
     "duration": 0.101903,
     "end_time": "2020-10-17T05:22:29.819378",
     "exception": false,
     "start_time": "2020-10-17T05:22:29.717475",
     "status": "completed"
    },
    "tags": []
   },
   "outputs": [],
   "source": [
    "# Reference from Hands on Machine learning - one of my text books!\n",
    "# The CategoricalEncoder class will allow us to convert categorical attributes to one-hot vectors.\n",
    "\n",
    "class CategoricalEncoder(BaseEstimator, TransformerMixin):\n",
    "    def __init__(self, encoding='onehot', categories='auto', dtype=np.float64,\n",
    "                 handle_unknown='error'):\n",
    "        self.encoding = encoding\n",
    "        self.categories = categories\n",
    "        self.dtype = dtype\n",
    "        self.handle_unknown = handle_unknown\n",
    "\n",
    "    def fit(self, X, y=None):\n",
    "        \"\"\"Fit the CategoricalEncoder to X.\n",
    "        Parameters\n",
    "        ----------\n",
    "        X : array-like, shape [n_samples, n_feature]\n",
    "            The data to determine the categories of each feature.\n",
    "        Returns\n",
    "        -------\n",
    "        self\n",
    "        \"\"\"\n",
    "\n",
    "        if self.encoding not in ['onehot', 'onehot-dense', 'ordinal']:\n",
    "            template = (\"encoding should be either 'onehot', 'onehot-dense' \"\n",
    "                        \"or 'ordinal', got %s\")\n",
    "            raise ValueError(template % self.handle_unknown)\n",
    "\n",
    "        if self.handle_unknown not in ['error', 'ignore']:\n",
    "            template = (\"handle_unknown should be either 'error' or \"\n",
    "                        \"'ignore', got %s\")\n",
    "            raise ValueError(template % self.handle_unknown)\n",
    "\n",
    "        if self.encoding == 'ordinal' and self.handle_unknown == 'ignore':\n",
    "            raise ValueError(\"handle_unknown='ignore' is not supported for\"\n",
    "                             \" encoding='ordinal'\")\n",
    "\n",
    "        X = check_array(X, dtype=np.object, accept_sparse='csc', copy=True)\n",
    "        n_samples, n_features = X.shape\n",
    "\n",
    "        self._label_encoders_ = [LabelEncoder() for _ in range(n_features)]\n",
    "\n",
    "        for i in range(n_features):\n",
    "            le = self._label_encoders_[i]\n",
    "            Xi = X[:, i]\n",
    "            if self.categories == 'auto':\n",
    "                le.fit(Xi)\n",
    "            else:\n",
    "                valid_mask = np.in1d(Xi, self.categories[i])\n",
    "                if not np.all(valid_mask):\n",
    "                    if self.handle_unknown == 'error':\n",
    "                        diff = np.unique(Xi[~valid_mask])\n",
    "                        msg = (\"Found unknown categories {0} in column {1}\"\n",
    "                               \" during fit\".format(diff, i))\n",
    "                        raise ValueError(msg)\n",
    "                le.classes_ = np.array(np.sort(self.categories[i]))\n",
    "\n",
    "        self.categories_ = [le.classes_ for le in self._label_encoders_]\n",
    "\n",
    "        return self\n",
    "\n",
    "    def transform(self, X):\n",
    "        \"\"\"Transform X using one-hot encoding.\n",
    "        Parameters\n",
    "        ----------\n",
    "        X : array-like, shape [n_samples, n_features]\n",
    "            The data to encode.\n",
    "        Returns\n",
    "        -------\n",
    "        X_out : sparse matrix or a 2-d array\n",
    "            Transformed input.\n",
    "        \"\"\"\n",
    "        X = check_array(X, accept_sparse='csc', dtype=np.object, copy=True)\n",
    "        n_samples, n_features = X.shape\n",
    "        X_int = np.zeros_like(X, dtype=np.int)\n",
    "        X_mask = np.ones_like(X, dtype=np.bool)\n",
    "\n",
    "        for i in range(n_features):\n",
    "            valid_mask = np.in1d(X[:, i], self.categories_[i])\n",
    "\n",
    "            if not np.all(valid_mask):\n",
    "                if self.handle_unknown == 'error':\n",
    "                    diff = np.unique(X[~valid_mask, i])\n",
    "                    msg = (\"Found unknown categories {0} in column {1}\"\n",
    "                           \" during transform\".format(diff, i))\n",
    "                    raise ValueError(msg)\n",
    "                else:\n",
    "                    # Set the problematic rows to an acceptable value and\n",
    "                    # continue `The rows are marked `X_mask` and will be\n",
    "                    # removed later.\n",
    "                    X_mask[:, i] = valid_mask\n",
    "                    X[:, i][~valid_mask] = self.categories_[i][0]\n",
    "            X_int[:, i] = self._label_encoders_[i].transform(X[:, i])\n",
    "\n",
    "        if self.encoding == 'ordinal':\n",
    "            return X_int.astype(self.dtype, copy=False)\n",
    "\n",
    "        mask = X_mask.ravel()\n",
    "        n_values = [cats.shape[0] for cats in self.categories_]\n",
    "        n_values = np.array([0] + n_values)\n",
    "        indices = np.cumsum(n_values)\n",
    "\n",
    "        column_indices = (X_int + indices[:-1]).ravel()[mask]\n",
    "        row_indices = np.repeat(np.arange(n_samples, dtype=np.int32),\n",
    "                                n_features)[mask]\n",
    "        data = np.ones(n_samples * n_features)[mask]\n",
    "\n",
    "        out = sparse.csc_matrix((data, (row_indices, column_indices)),\n",
    "                                shape=(n_samples, indices[-1]),\n",
    "                                dtype=self.dtype).tocsr()\n",
    "        if self.encoding == 'onehot-dense':\n",
    "            return out.toarray()\n",
    "        else:\n",
    "            return out"
   ]
  },
  {
   "cell_type": "code",
   "execution_count": 61,
   "metadata": {
    "execution": {
     "iopub.execute_input": "2020-10-17T05:22:29.968611Z",
     "iopub.status.busy": "2020-10-17T05:22:29.967801Z",
     "iopub.status.idle": "2020-10-17T05:22:29.970558Z",
     "shell.execute_reply": "2020-10-17T05:22:29.970036Z"
    },
    "papermill": {
     "duration": 0.080264,
     "end_time": "2020-10-17T05:22:29.970665",
     "exception": false,
     "start_time": "2020-10-17T05:22:29.890401",
     "status": "completed"
    },
    "tags": []
   },
   "outputs": [],
   "source": [
    "class DataFrameSelector(BaseEstimator, TransformerMixin):\n",
    "    def __init__(self, attribute_names):\n",
    "        self.attribute_names = attribute_names\n",
    "    def fit(self, X, y=None):\n",
    "        return self\n",
    "    def transform(self, X):\n",
    "        return X[self.attribute_names]"
   ]
  },
  {
   "cell_type": "code",
   "execution_count": 62,
   "metadata": {
    "execution": {
     "iopub.execute_input": "2020-10-17T05:22:30.121983Z",
     "iopub.status.busy": "2020-10-17T05:22:30.121004Z",
     "iopub.status.idle": "2020-10-17T05:22:30.123931Z",
     "shell.execute_reply": "2020-10-17T05:22:30.123411Z"
    },
    "papermill": {
     "duration": 0.081194,
     "end_time": "2020-10-17T05:22:30.124051",
     "exception": false,
     "start_time": "2020-10-17T05:22:30.042857",
     "status": "completed"
    },
    "tags": []
   },
   "outputs": [],
   "source": [
    "cat_pipeline = Pipeline([\n",
    "        (\"selector\", DataFrameSelector(['carrier'])),\n",
    "        (\"cat_encoder\", CategoricalEncoder(encoding='onehot-dense')),\n",
    "    ])\n",
    "\n",
    "num_pipeline = Pipeline([\n",
    "        (\"selector\", DataFrameSelector(['distance','weight'])),\n",
    "        ('std_scaler', MinMaxScaler()),\n",
    "      ])\n",
    "\n",
    "no_pipeline = Pipeline([\n",
    "        (\"selector\", DataFrameSelector([\"dayPart\",\"Month\",\"Day\"]))\n",
    "    ])\n",
    "\n",
    "y_pipeline = Pipeline([\n",
    "        (\"selector\", DataFrameSelector(['cost'])),\n",
    "        ('std_scaler', StandardScaler()),\n",
    "      ])"
   ]
  },
  {
   "cell_type": "code",
   "execution_count": 63,
   "metadata": {
    "execution": {
     "iopub.execute_input": "2020-10-17T05:22:30.277204Z",
     "iopub.status.busy": "2020-10-17T05:22:30.276554Z",
     "iopub.status.idle": "2020-10-17T05:22:30.324331Z",
     "shell.execute_reply": "2020-10-17T05:22:30.323590Z"
    },
    "papermill": {
     "duration": 0.129242,
     "end_time": "2020-10-17T05:22:30.324460",
     "exception": false,
     "start_time": "2020-10-17T05:22:30.195218",
     "status": "completed"
    },
    "tags": []
   },
   "outputs": [],
   "source": [
    "full_pipeline = FeatureUnion(transformer_list=[\n",
    "    (\"no_pipeline\", no_pipeline),\n",
    "    (\"num_pipeline\", num_pipeline),\n",
    "    (\"cat_pipeline\", cat_pipeline),\n",
    "    ])\n",
    "\n",
    "final_train_X = full_pipeline.fit_transform(train_set_X)\n",
    "final_val_X = full_pipeline.transform(val_set_X)\n",
    "\n",
    "final_train_y = y_pipeline.fit_transform(pd.DataFrame(train_set_y))\n",
    "final_val_y = y_pipeline.transform(pd.DataFrame(val_set_y))"
   ]
  },
  {
   "cell_type": "markdown",
   "metadata": {
    "papermill": {
     "duration": 0.070503,
     "end_time": "2020-10-17T05:22:30.466775",
     "exception": false,
     "start_time": "2020-10-17T05:22:30.396272",
     "status": "completed"
    },
    "tags": []
   },
   "source": [
    "Good Luck for the Competition!"
   ]
  }
 ],
 "metadata": {
  "kernelspec": {
   "display_name": "Python 3",
   "language": "python",
   "name": "python3"
  },
  "language_info": {
   "codemirror_mode": {
    "name": "ipython",
    "version": 3
   },
   "file_extension": ".py",
   "mimetype": "text/x-python",
   "name": "python",
   "nbconvert_exporter": "python",
   "pygments_lexer": "ipython3",
   "version": "3.7.6"
  },
  "papermill": {
   "duration": 23.792689,
   "end_time": "2020-10-17T05:22:30.648100",
   "environment_variables": {},
   "exception": null,
   "input_path": "__notebook__.ipynb",
   "output_path": "__notebook__.ipynb",
   "parameters": {},
   "start_time": "2020-10-17T05:22:06.855411",
   "version": "2.1.0"
  }
 },
 "nbformat": 4,
 "nbformat_minor": 4
}
