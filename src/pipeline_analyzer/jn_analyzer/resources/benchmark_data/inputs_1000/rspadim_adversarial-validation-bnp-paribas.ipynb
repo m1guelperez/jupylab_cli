{
 "cells": [
  {
   "cell_type": "markdown",
   "metadata": {
    "_cell_guid": "788f05ff-541a-4ebb-98e9-d09422109955",
    "_uuid": "b69ebf0d696a8185c2cfcd69c3909ca3e599c90e"
   },
   "source": [
    "FROM https://www.kaggle.com/rspadim/adversarial-validation-porto-seguro"
   ]
  },
  {
   "cell_type": "code",
   "execution_count": 1,
   "metadata": {
    "_cell_guid": "bcbf5e1a-6442-47ba-5435-7053db612903",
    "_uuid": "4863a6e30358fbb65fe3ef2d6a4045dc1ae034a6"
   },
   "outputs": [
    {
     "name": "stdout",
     "output_type": "stream",
     "text": [
      "sample_submission.csv\n",
      "test.csv\n",
      "train.csv\n",
      "\n"
     ]
    }
   ],
   "source": [
    "import pandas as pd\n",
    "import numpy as np\n",
    "from sklearn.model_selection import StratifiedKFold\n",
    "import xgboost as xgb\n",
    "from sklearn.metrics import roc_auc_score\n",
    "\n",
    "from subprocess import check_output\n",
    "print(check_output([\"ls\", \"../input\"]).decode(\"utf8\"))\n"
   ]
  },
  {
   "cell_type": "code",
   "execution_count": 2,
   "metadata": {
    "_cell_guid": "3f4ffc92-a776-6715-b7f3-925f1547d4fc",
    "_uuid": "45aad642ad15eebf87376343bd6421aa5bbe5156"
   },
   "outputs": [],
   "source": [
    "# We start by loading the training / test data and combining them with minimal preprocessing necessary\n",
    "xtrain = pd.read_csv('../input/train.csv')\n",
    "xtrain.drop(['ID', 'target'], axis = 1, inplace = True)\n",
    "xtest = pd.read_csv('../input/test.csv')\n",
    "xtest.drop(['ID'], axis = 1, inplace = True)\n",
    "\n",
    "# add identifier and combine\n",
    "xtrain['istrain'] = 1\n",
    "xtest['istrain'] = 0\n",
    "xdat = pd.concat([xtrain, xtest], axis = 0)\n",
    "\n",
    "# convert non-numerical columns to integers\n",
    "df_numeric = xdat.select_dtypes(exclude=['object'])\n",
    "df_obj = xdat.select_dtypes(include=['object']).copy()\n",
    "    \n",
    "for c in df_obj:\n",
    "    df_obj[c] = pd.factorize(df_obj[c])[0]\n",
    "    \n",
    "xdat = pd.concat([df_numeric, df_obj], axis=1)\n",
    "y = xdat['istrain']; xdat.drop('istrain', axis = 1, inplace = True)"
   ]
  },
  {
   "cell_type": "code",
   "execution_count": 3,
   "metadata": {
    "_cell_guid": "891a4cdc-d085-b67f-45e7-dcdc3ca0f8b2",
    "_uuid": "e7bdea3e061b85af7eba75d5a5e0e407ba2d8285",
    "collapsed": true
   },
   "outputs": [],
   "source": [
    "skf = StratifiedKFold(n_splits = 5, shuffle = True, random_state = 44) # why stratified k fold?\n",
    "xgb_params = { # is this parameters ok?\n",
    "        'learning_rate': 0.05, 'max_depth': 4,'subsample': 0.9,\n",
    "        'colsample_bytree': 0.9,'objective': 'binary:logistic',\n",
    "        'silent': 1, 'n_estimators':100, 'gamma':1,\n",
    "        'min_child_weight':4, 'n_jobs':-1\n",
    "        }   \n",
    "clf = xgb.XGBClassifier(**xgb_params, seed = 10)     "
   ]
  },
  {
   "cell_type": "markdown",
   "metadata": {
    "_cell_guid": "e103b1ab-479c-777d-ee19-a9f3a572a7c4",
    "_uuid": "6ffde62c36939f3f7c3c6db97ba8257fede6b19c"
   },
   "source": [
    "[FROM OTHER CONTEST]\n",
    "\n",
    "Calculate the AUC for each fold"
   ]
  },
  {
   "cell_type": "code",
   "execution_count": 4,
   "metadata": {
    "_cell_guid": "223a095a-712f-fa90-707a-ea34fa091fc0",
    "_uuid": "c460000353cffc78554d772be84707b5e3e48be2"
   },
   "outputs": [
    {
     "name": "stdout",
     "output_type": "stream",
     "text": [
      "(182970, 131)\n",
      "0.546415292148\n",
      "(182971, 131)\n",
      "0.552033414463\n",
      "(182971, 131)\n",
      "0.545464808725\n",
      "(182972, 131)\n",
      "0.552201359628\n",
      "(182972, 131)\n",
      "0.547105527649\n",
      "0.572270304072\n"
     ]
    }
   ],
   "source": [
    "for train_index, test_index in skf.split(xdat, y):\n",
    "        x0, x1 = xdat.iloc[train_index], xdat.iloc[test_index]\n",
    "        y0, y1 = y.iloc[train_index], y.iloc[test_index]        \n",
    "        print(x0.shape)\n",
    "        clf.fit(x0, y0, eval_set=[(x1, y1)],\n",
    "               eval_metric='logloss', verbose=False,early_stopping_rounds=10) # it takes ~ 80 rounds to fit\n",
    "                \n",
    "        prval = clf.predict_proba(x1)[:,1]\n",
    "        print(roc_auc_score(y1,prval))\n",
    "        \n",
    "#final dataset:\n",
    "clf.fit(xdat, y, eval_set=[(x1, y1)],\n",
    "eval_metric='logloss', verbose=False,early_stopping_rounds=10) # it takes ~ 80 rounds to fit\n",
    "\n",
    "prval = clf.predict_proba(xdat)[:,1]\n",
    "print(roc_auc_score(y,prval))"
   ]
  },
  {
   "cell_type": "markdown",
   "metadata": {
    "_cell_guid": "9e501264-042f-47fb-b2a9-24f099f0880a",
    "_uuid": "9bfef4d19fc2a2592488f800ae0e9473059b719c",
    "collapsed": true
   },
   "source": [
    "---\n",
    "what about KNN?"
   ]
  },
  {
   "cell_type": "code",
   "execution_count": 5,
   "metadata": {
    "_cell_guid": "0e64fb58-681e-4525-8b40-f0f28697e9d9",
    "_uuid": "c94e626e2ba8fec3474141db5626e37c16e3d3b9",
    "collapsed": true
   },
   "outputs": [],
   "source": [
    "from sklearn.neighbors import KNeighborsClassifier\n",
    "knn_params={\n",
    "    'n_neighbors':5, # first try value\n",
    "    'weights':'distance',\n",
    "    'metric':'manhattan' #i like this name =)\n",
    "    \n",
    "    #distances to test: http://scikit-learn.org/stable/modules/generated/sklearn.neighbors.DistanceMetric.html\n",
    "    #float:            \n",
    "    #   euclidean, manhattan, chebyshev, minkowski, wminkowski, seuclidean, mahalanobis\n",
    "    #integers: \n",
    "    #   hamming, canberra, braycurtis\n",
    "}\n",
    "\n",
    "clf = KNeighborsClassifier(**knn_params)      #good bye xgboost"
   ]
  },
  {
   "cell_type": "code",
   "execution_count": 6,
   "metadata": {
    "_cell_guid": "1398c3c9-9d08-4dbf-941f-3e6a5b08473f",
    "_uuid": "f275eadc856cf70ddd87c1df2cf8f09a0827efbe"
   },
   "outputs": [
    {
     "name": "stdout",
     "output_type": "stream",
     "text": [
      "(182970, 131)\n"
     ]
    },
    {
     "ename": "ValueError",
     "evalue": "Input contains NaN, infinity or a value too large for dtype('float64').",
     "output_type": "error",
     "traceback": [
      "\u001b[0;31m---------------------------------------------------------------------------\u001b[0m",
      "\u001b[0;31mValueError\u001b[0m                                Traceback (most recent call last)",
      "\u001b[0;32m<ipython-input-6-ec57b7615c16>\u001b[0m in \u001b[0;36m<module>\u001b[0;34m()\u001b[0m\n\u001b[1;32m      3\u001b[0m         \u001b[0my0\u001b[0m\u001b[0;34m,\u001b[0m \u001b[0my1\u001b[0m \u001b[0;34m=\u001b[0m \u001b[0my\u001b[0m\u001b[0;34m.\u001b[0m\u001b[0miloc\u001b[0m\u001b[0;34m[\u001b[0m\u001b[0mtrain_index\u001b[0m\u001b[0;34m]\u001b[0m\u001b[0;34m,\u001b[0m \u001b[0my\u001b[0m\u001b[0;34m.\u001b[0m\u001b[0miloc\u001b[0m\u001b[0;34m[\u001b[0m\u001b[0mtest_index\u001b[0m\u001b[0;34m]\u001b[0m\u001b[0;34m\u001b[0m\u001b[0m\n\u001b[1;32m      4\u001b[0m         \u001b[0mprint\u001b[0m\u001b[0;34m(\u001b[0m\u001b[0mx0\u001b[0m\u001b[0;34m.\u001b[0m\u001b[0mshape\u001b[0m\u001b[0;34m)\u001b[0m\u001b[0;34m\u001b[0m\u001b[0m\n\u001b[0;32m----> 5\u001b[0;31m         \u001b[0mclf\u001b[0m\u001b[0;34m.\u001b[0m\u001b[0mfit\u001b[0m\u001b[0;34m(\u001b[0m\u001b[0mx0\u001b[0m\u001b[0;34m,\u001b[0m \u001b[0my0\u001b[0m\u001b[0;34m)\u001b[0m \u001b[0;31m# very easy parameters :)\u001b[0m\u001b[0;34m\u001b[0m\u001b[0m\n\u001b[0m\u001b[1;32m      6\u001b[0m \u001b[0;34m\u001b[0m\u001b[0m\n\u001b[1;32m      7\u001b[0m         \u001b[0mprval\u001b[0m \u001b[0;34m=\u001b[0m \u001b[0mclf\u001b[0m\u001b[0;34m.\u001b[0m\u001b[0mpredict_proba\u001b[0m\u001b[0;34m(\u001b[0m\u001b[0mx1\u001b[0m\u001b[0;34m)\u001b[0m\u001b[0;34m[\u001b[0m\u001b[0;34m:\u001b[0m\u001b[0;34m,\u001b[0m\u001b[0;36m1\u001b[0m\u001b[0;34m]\u001b[0m\u001b[0;34m\u001b[0m\u001b[0m\n",
      "\u001b[0;32m/opt/conda/lib/python3.6/site-packages/sklearn/neighbors/base.py\u001b[0m in \u001b[0;36mfit\u001b[0;34m(self, X, y)\u001b[0m\n\u001b[1;32m    763\u001b[0m         \"\"\"\n\u001b[1;32m    764\u001b[0m         \u001b[0;32mif\u001b[0m \u001b[0;32mnot\u001b[0m \u001b[0misinstance\u001b[0m\u001b[0;34m(\u001b[0m\u001b[0mX\u001b[0m\u001b[0;34m,\u001b[0m \u001b[0;34m(\u001b[0m\u001b[0mKDTree\u001b[0m\u001b[0;34m,\u001b[0m \u001b[0mBallTree\u001b[0m\u001b[0;34m)\u001b[0m\u001b[0;34m)\u001b[0m\u001b[0;34m:\u001b[0m\u001b[0;34m\u001b[0m\u001b[0m\n\u001b[0;32m--> 765\u001b[0;31m             \u001b[0mX\u001b[0m\u001b[0;34m,\u001b[0m \u001b[0my\u001b[0m \u001b[0;34m=\u001b[0m \u001b[0mcheck_X_y\u001b[0m\u001b[0;34m(\u001b[0m\u001b[0mX\u001b[0m\u001b[0;34m,\u001b[0m \u001b[0my\u001b[0m\u001b[0;34m,\u001b[0m \u001b[0;34m\"csr\"\u001b[0m\u001b[0;34m,\u001b[0m \u001b[0mmulti_output\u001b[0m\u001b[0;34m=\u001b[0m\u001b[0;32mTrue\u001b[0m\u001b[0;34m)\u001b[0m\u001b[0;34m\u001b[0m\u001b[0m\n\u001b[0m\u001b[1;32m    766\u001b[0m \u001b[0;34m\u001b[0m\u001b[0m\n\u001b[1;32m    767\u001b[0m         \u001b[0;32mif\u001b[0m \u001b[0my\u001b[0m\u001b[0;34m.\u001b[0m\u001b[0mndim\u001b[0m \u001b[0;34m==\u001b[0m \u001b[0;36m1\u001b[0m \u001b[0;32mor\u001b[0m \u001b[0my\u001b[0m\u001b[0;34m.\u001b[0m\u001b[0mndim\u001b[0m \u001b[0;34m==\u001b[0m \u001b[0;36m2\u001b[0m \u001b[0;32mand\u001b[0m \u001b[0my\u001b[0m\u001b[0;34m.\u001b[0m\u001b[0mshape\u001b[0m\u001b[0;34m[\u001b[0m\u001b[0;36m1\u001b[0m\u001b[0;34m]\u001b[0m \u001b[0;34m==\u001b[0m \u001b[0;36m1\u001b[0m\u001b[0;34m:\u001b[0m\u001b[0;34m\u001b[0m\u001b[0m\n",
      "\u001b[0;32m/opt/conda/lib/python3.6/site-packages/sklearn/utils/validation.py\u001b[0m in \u001b[0;36mcheck_X_y\u001b[0;34m(X, y, accept_sparse, dtype, order, copy, force_all_finite, ensure_2d, allow_nd, multi_output, ensure_min_samples, ensure_min_features, y_numeric, warn_on_dtype, estimator)\u001b[0m\n\u001b[1;32m    540\u001b[0m     X = check_array(X, accept_sparse, dtype, order, copy, force_all_finite,\n\u001b[1;32m    541\u001b[0m                     \u001b[0mensure_2d\u001b[0m\u001b[0;34m,\u001b[0m \u001b[0mallow_nd\u001b[0m\u001b[0;34m,\u001b[0m \u001b[0mensure_min_samples\u001b[0m\u001b[0;34m,\u001b[0m\u001b[0;34m\u001b[0m\u001b[0m\n\u001b[0;32m--> 542\u001b[0;31m                     ensure_min_features, warn_on_dtype, estimator)\n\u001b[0m\u001b[1;32m    543\u001b[0m     \u001b[0;32mif\u001b[0m \u001b[0mmulti_output\u001b[0m\u001b[0;34m:\u001b[0m\u001b[0;34m\u001b[0m\u001b[0m\n\u001b[1;32m    544\u001b[0m         y = check_array(y, 'csr', force_all_finite=True, ensure_2d=False,\n",
      "\u001b[0;32m/opt/conda/lib/python3.6/site-packages/sklearn/utils/validation.py\u001b[0m in \u001b[0;36mcheck_array\u001b[0;34m(array, accept_sparse, dtype, order, copy, force_all_finite, ensure_2d, allow_nd, ensure_min_samples, ensure_min_features, warn_on_dtype, estimator)\u001b[0m\n\u001b[1;32m    420\u001b[0m                              % (array.ndim, estimator_name))\n\u001b[1;32m    421\u001b[0m         \u001b[0;32mif\u001b[0m \u001b[0mforce_all_finite\u001b[0m\u001b[0;34m:\u001b[0m\u001b[0;34m\u001b[0m\u001b[0m\n\u001b[0;32m--> 422\u001b[0;31m             \u001b[0m_assert_all_finite\u001b[0m\u001b[0;34m(\u001b[0m\u001b[0marray\u001b[0m\u001b[0;34m)\u001b[0m\u001b[0;34m\u001b[0m\u001b[0m\n\u001b[0m\u001b[1;32m    423\u001b[0m \u001b[0;34m\u001b[0m\u001b[0m\n\u001b[1;32m    424\u001b[0m     \u001b[0mshape_repr\u001b[0m \u001b[0;34m=\u001b[0m \u001b[0m_shape_repr\u001b[0m\u001b[0;34m(\u001b[0m\u001b[0marray\u001b[0m\u001b[0;34m.\u001b[0m\u001b[0mshape\u001b[0m\u001b[0;34m)\u001b[0m\u001b[0;34m\u001b[0m\u001b[0m\n",
      "\u001b[0;32m/opt/conda/lib/python3.6/site-packages/sklearn/utils/validation.py\u001b[0m in \u001b[0;36m_assert_all_finite\u001b[0;34m(X)\u001b[0m\n\u001b[1;32m     41\u001b[0m             and not np.isfinite(X).all()):\n\u001b[1;32m     42\u001b[0m         raise ValueError(\"Input contains NaN, infinity\"\n\u001b[0;32m---> 43\u001b[0;31m                          \" or a value too large for %r.\" % X.dtype)\n\u001b[0m\u001b[1;32m     44\u001b[0m \u001b[0;34m\u001b[0m\u001b[0m\n\u001b[1;32m     45\u001b[0m \u001b[0;34m\u001b[0m\u001b[0m\n",
      "\u001b[0;31mValueError\u001b[0m: Input contains NaN, infinity or a value too large for dtype('float64')."
     ]
    }
   ],
   "source": [
    "for train_index, test_index in skf.split(xdat, y):\n",
    "        x0, x1 = xdat.iloc[train_index], xdat.iloc[test_index]\n",
    "        y0, y1 = y.iloc[train_index], y.iloc[test_index]        \n",
    "        print(x0.shape)\n",
    "        clf.fit(x0, y0) # very easy parameters :)\n",
    "                \n",
    "        prval = clf.predict_proba(x1)[:,1]\n",
    "        print(roc_auc_score(y1,prval))\n",
    "        \n",
    "#final dataset:\n",
    "clf.fit(xdat, y)\n",
    "\n",
    "prval = clf.predict_proba(xdat)[:,1]\n",
    "print(roc_auc_score(y,prval))"
   ]
  }
 ],
 "metadata": {
  "_change_revision": 0,
  "_is_fork": false,
  "kernelspec": {
   "display_name": "Python 3",
   "language": "python",
   "name": "python3"
  },
  "language_info": {
   "codemirror_mode": {
    "name": "ipython",
    "version": 3
   },
   "file_extension": ".py",
   "mimetype": "text/x-python",
   "name": "python",
   "nbconvert_exporter": "python",
   "pygments_lexer": "ipython3",
   "version": "3.6.3"
  }
 },
 "nbformat": 4,
 "nbformat_minor": 1
}
