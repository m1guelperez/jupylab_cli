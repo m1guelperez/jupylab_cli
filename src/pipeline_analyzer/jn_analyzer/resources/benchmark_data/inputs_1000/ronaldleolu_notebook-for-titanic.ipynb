{
 "cells": [
  {
   "cell_type": "markdown",
   "metadata": {
    "_cell_guid": "25331e19-bd7d-45a7-ba52-53cd826f1496",
    "_execution_state": "idle",
    "_uuid": "4561ef39050e47d74139663b13ce2380f2b914f2"
   },
   "source": [
    "**1. Import necessary packages and load csv files**"
   ]
  },
  {
   "cell_type": "code",
   "execution_count": 1,
   "metadata": {
    "_cell_guid": "e69b46d2-db8f-4443-8d1a-c180d8f59e95",
    "_execution_state": "idle",
    "_uuid": "2df6d1f46c2d9bcee424e0a94b966b1aaf3a7321",
    "collapsed": true
   },
   "outputs": [],
   "source": [
    "import numpy as np # linear algebra\n",
    "import pandas as pd # data processing, CSV file I/O (e.g. pd.read_csv)\n",
    "import seaborn as sns\n",
    "import matplotlib.pyplot as plt\n",
    "%matplotlib inline"
   ]
  },
  {
   "cell_type": "code",
   "execution_count": 2,
   "metadata": {
    "_cell_guid": "7e02aace-d206-416b-bdf3-555fca1f0fa0",
    "_execution_state": "idle",
    "_uuid": "77a1b0b3092660f280c7836574aa559727c0d4e3",
    "collapsed": true
   },
   "outputs": [],
   "source": [
    "train_df = pd.read_csv(\"../input/train.csv\")\n",
    "test_df = pd.read_csv(\"../input/test.csv\")"
   ]
  },
  {
   "cell_type": "markdown",
   "metadata": {
    "_cell_guid": "0fd77b4f-f8fa-4285-a66a-d7f551228066",
    "_execution_state": "idle",
    "_uuid": "7ccbfebe7056fb4fbd878fc675d7ff41b10024bb"
   },
   "source": [
    "**2. Data pre-processing**"
   ]
  },
  {
   "cell_type": "code",
   "execution_count": 3,
   "metadata": {
    "_cell_guid": "9d3c1446-de99-4b0e-abfc-03c06530fcd8",
    "_execution_state": "idle",
    "_uuid": "f7391f8cf576a47b9ba8e309b7b00a7222706650"
   },
   "outputs": [
    {
     "name": "stdout",
     "output_type": "stream",
     "text": [
      "PassengerId      0\n",
      "Survived         0\n",
      "Pclass           0\n",
      "Name             0\n",
      "Sex              0\n",
      "Age            177\n",
      "SibSp            0\n",
      "Parch            0\n",
      "Ticket           0\n",
      "Fare             0\n",
      "Cabin          687\n",
      "Embarked         2\n",
      "dtype: int64\n",
      "----------------------------------------------------\n",
      "PassengerId      0\n",
      "Pclass           0\n",
      "Name             0\n",
      "Sex              0\n",
      "Age             86\n",
      "SibSp            0\n",
      "Parch            0\n",
      "Ticket           0\n",
      "Fare             1\n",
      "Cabin          327\n",
      "Embarked         0\n",
      "dtype: int64\n"
     ]
    }
   ],
   "source": [
    "#missing values\n",
    "print(train_df.isnull().sum())\n",
    "print(\"----------------------------------------------------\")\n",
    "print(test_df.isnull().sum())"
   ]
  },
  {
   "cell_type": "code",
   "execution_count": 4,
   "metadata": {
    "_cell_guid": "4d14a4d3-0ecf-4b7b-b952-1f9800a92c9c",
    "_execution_state": "idle",
    "_uuid": "c3cd107388ebf9ea319eeb81086dfce80929c728"
   },
   "outputs": [
    {
     "name": "stdout",
     "output_type": "stream",
     "text": [
      "S    644\n",
      "C    168\n",
      "Q     77\n",
      "Name: Embarked, dtype: int64\n"
     ]
    },
    {
     "data": {
      "text/html": [
       "<div>\n",
       "<style>\n",
       "    .dataframe thead tr:only-child th {\n",
       "        text-align: right;\n",
       "    }\n",
       "\n",
       "    .dataframe thead th {\n",
       "        text-align: left;\n",
       "    }\n",
       "\n",
       "    .dataframe tbody tr th {\n",
       "        vertical-align: top;\n",
       "    }\n",
       "</style>\n",
       "<table border=\"1\" class=\"dataframe\">\n",
       "  <thead>\n",
       "    <tr style=\"text-align: right;\">\n",
       "      <th></th>\n",
       "      <th>PassengerId</th>\n",
       "      <th>Survived</th>\n",
       "      <th>Pclass</th>\n",
       "      <th>Name</th>\n",
       "      <th>Sex</th>\n",
       "      <th>Age</th>\n",
       "      <th>SibSp</th>\n",
       "      <th>Parch</th>\n",
       "      <th>Ticket</th>\n",
       "      <th>Fare</th>\n",
       "      <th>Cabin</th>\n",
       "      <th>Embarked</th>\n",
       "    </tr>\n",
       "  </thead>\n",
       "  <tbody>\n",
       "    <tr>\n",
       "      <th>61</th>\n",
       "      <td>62</td>\n",
       "      <td>1</td>\n",
       "      <td>1</td>\n",
       "      <td>Icard, Miss. Amelie</td>\n",
       "      <td>female</td>\n",
       "      <td>38.0</td>\n",
       "      <td>0</td>\n",
       "      <td>0</td>\n",
       "      <td>113572</td>\n",
       "      <td>80.0</td>\n",
       "      <td>B28</td>\n",
       "      <td>NaN</td>\n",
       "    </tr>\n",
       "    <tr>\n",
       "      <th>829</th>\n",
       "      <td>830</td>\n",
       "      <td>1</td>\n",
       "      <td>1</td>\n",
       "      <td>Stone, Mrs. George Nelson (Martha Evelyn)</td>\n",
       "      <td>female</td>\n",
       "      <td>62.0</td>\n",
       "      <td>0</td>\n",
       "      <td>0</td>\n",
       "      <td>113572</td>\n",
       "      <td>80.0</td>\n",
       "      <td>B28</td>\n",
       "      <td>NaN</td>\n",
       "    </tr>\n",
       "  </tbody>\n",
       "</table>\n",
       "</div>"
      ],
      "text/plain": [
       "     PassengerId  Survived  Pclass                                       Name  \\\n",
       "61            62         1       1                        Icard, Miss. Amelie   \n",
       "829          830         1       1  Stone, Mrs. George Nelson (Martha Evelyn)   \n",
       "\n",
       "        Sex   Age  SibSp  Parch  Ticket  Fare Cabin Embarked  \n",
       "61   female  38.0      0      0  113572  80.0   B28      NaN  \n",
       "829  female  62.0      0      0  113572  80.0   B28      NaN  "
      ]
     },
     "execution_count": 4,
     "metadata": {},
     "output_type": "execute_result"
    }
   ],
   "source": [
    "#fill item \"Embarked\" in train dataframe\n",
    "print(train_df.Embarked.value_counts())\n",
    "train_df[train_df['Embarked'].isnull()]"
   ]
  },
  {
   "cell_type": "markdown",
   "metadata": {
    "_cell_guid": "9ea37746-b35d-45a4-a516-aea091990e29",
    "_execution_state": "idle",
    "_uuid": "0c0a182602ac8be20ea053184bf4b99fed827cdc"
   },
   "source": [
    "I cannot simply fillna with mode 'S'. I need a more creditable proof."
   ]
  },
  {
   "cell_type": "code",
   "execution_count": 5,
   "metadata": {
    "_cell_guid": "3cd2ead9-57fe-4e16-9d76-26db8f599aa3",
    "_execution_state": "idle",
    "_uuid": "fec6d861add9df99ae1d5b605437717392d70f1a"
   },
   "outputs": [
    {
     "data": {
      "text/plain": [
       "<matplotlib.axes._subplots.AxesSubplot at 0x7f4697a986a0>"
      ]
     },
     "execution_count": 5,
     "metadata": {},
     "output_type": "execute_result"
    },
    {
     "data": {
      "image/png": "[encoded data removed]",
      "text/plain": [
       "<matplotlib.figure.Figure at 0x7f4697a7ed30>"
      ]
     },
     "metadata": {},
     "output_type": "display_data"
    }
   ],
   "source": [
    "sns.boxplot(x=\"Embarked\", y=\"Fare\", hue=\"Pclass\", data=train_df)"
   ]
  },
  {
   "cell_type": "markdown",
   "metadata": {
    "_cell_guid": "a7acf79b-32cf-4724-a342-8b783289e1e7",
    "_execution_state": "idle",
    "_uuid": "787eebab4b3d0a8fe7b85ed06d1e957093b6e70b"
   },
   "source": [
    "I know that these two guys paid 80.0 and they were in Pclass 1.  And from the box-plot, the blue box in group 'C' has a median around 80. So I'll fillna with 'C' instead of the mode 'S'."
   ]
  },
  {
   "cell_type": "code",
   "execution_count": 6,
   "metadata": {
    "_cell_guid": "988b18b5-2109-4199-af77-7b09b8fe81c3",
    "_execution_state": "idle",
    "_uuid": "80a0a4d2c5181a4b4a50e4b0d28985423d21cf4e",
    "collapsed": true
   },
   "outputs": [],
   "source": [
    "#fillna\n",
    "train_df['Embarked'] = train_df['Embarked'].fillna('C')"
   ]
  },
  {
   "cell_type": "code",
   "execution_count": 7,
   "metadata": {
    "_cell_guid": "4fbf4d7f-0aad-49f4-b53b-ffdddc5a4e5e",
    "_execution_state": "idle",
    "_uuid": "c790bb75b37d9ba5e95d1c41faa5776b00c38abd"
   },
   "outputs": [
    {
     "name": "stdout",
     "output_type": "stream",
     "text": [
      "count    417.000000\n",
      "mean      35.627188\n",
      "std       55.907576\n",
      "min        0.000000\n",
      "25%        7.895800\n",
      "50%       14.454200\n",
      "75%       31.500000\n",
      "max      512.329200\n",
      "Name: Fare, dtype: float64\n"
     ]
    },
    {
     "data": {
      "text/html": [
       "<div>\n",
       "<style>\n",
       "    .dataframe thead tr:only-child th {\n",
       "        text-align: right;\n",
       "    }\n",
       "\n",
       "    .dataframe thead th {\n",
       "        text-align: left;\n",
       "    }\n",
       "\n",
       "    .dataframe tbody tr th {\n",
       "        vertical-align: top;\n",
       "    }\n",
       "</style>\n",
       "<table border=\"1\" class=\"dataframe\">\n",
       "  <thead>\n",
       "    <tr style=\"text-align: right;\">\n",
       "      <th></th>\n",
       "      <th>PassengerId</th>\n",
       "      <th>Pclass</th>\n",
       "      <th>Name</th>\n",
       "      <th>Sex</th>\n",
       "      <th>Age</th>\n",
       "      <th>SibSp</th>\n",
       "      <th>Parch</th>\n",
       "      <th>Ticket</th>\n",
       "      <th>Fare</th>\n",
       "      <th>Cabin</th>\n",
       "      <th>Embarked</th>\n",
       "    </tr>\n",
       "  </thead>\n",
       "  <tbody>\n",
       "    <tr>\n",
       "      <th>152</th>\n",
       "      <td>1044</td>\n",
       "      <td>3</td>\n",
       "      <td>Storey, Mr. Thomas</td>\n",
       "      <td>male</td>\n",
       "      <td>60.5</td>\n",
       "      <td>0</td>\n",
       "      <td>0</td>\n",
       "      <td>3701</td>\n",
       "      <td>NaN</td>\n",
       "      <td>NaN</td>\n",
       "      <td>S</td>\n",
       "    </tr>\n",
       "  </tbody>\n",
       "</table>\n",
       "</div>"
      ],
      "text/plain": [
       "     PassengerId  Pclass                Name   Sex   Age  SibSp  Parch Ticket  \\\n",
       "152         1044       3  Storey, Mr. Thomas  male  60.5      0      0   3701   \n",
       "\n",
       "     Fare Cabin Embarked  \n",
       "152   NaN   NaN        S  "
      ]
     },
     "execution_count": 7,
     "metadata": {},
     "output_type": "execute_result"
    }
   ],
   "source": [
    "#fill item 'Fare' in test dataframe\n",
    "print(test_df['Fare'].describe())\n",
    "test_df[test_df['Fare'].isnull()]"
   ]
  },
  {
   "cell_type": "markdown",
   "metadata": {
    "_cell_guid": "3db2ef49-c26f-4cad-8e21-69e403647510",
    "_execution_state": "idle",
    "_uuid": "36c6fab5f41f87817fb8abc5782fefd295827bf8"
   },
   "source": [
    "Since item 'Fare' is a numeric variable, so I have to fillna with median or mean."
   ]
  },
  {
   "cell_type": "code",
   "execution_count": 8,
   "metadata": {
    "_cell_guid": "d64035df-5bb3-4383-b436-7370a8afcbee",
    "_execution_state": "idle",
    "_uuid": "bbbe2f44489aae4fa02d86dfc3180f991648be0d"
   },
   "outputs": [
    {
     "name": "stdout",
     "output_type": "stream",
     "text": [
      "count    141.000000\n",
      "mean      13.913030\n",
      "std       12.744667\n",
      "min        3.170800\n",
      "25%        7.854200\n",
      "50%        8.050000\n",
      "75%       14.500000\n",
      "max       69.550000\n",
      "Name: Fare, dtype: float64\n",
      "Mean:13\n",
      "Median:8\n"
     ]
    }
   ],
   "source": [
    "fare_mean = test_df[(test_df['Pclass'] == 3) & (test_df['Embarked'] == 'S')]['Fare'].mean()\n",
    "fare_median = test_df[(test_df['Pclass'] == 3) & (test_df['Embarked'] == 'S')]['Fare'].median()\n",
    "print(test_df[(test_df['Pclass'] == 3) & (test_df['Embarked'] == 'S')]['Fare'].describe())\n",
    "print('Mean:%d'%fare_mean)\n",
    "print('Median:%d'%fare_median)"
   ]
  },
  {
   "cell_type": "markdown",
   "metadata": {
    "_cell_guid": "b8a0d6d1-7a91-4457-a07d-17c0047f23af",
    "_execution_state": "idle",
    "_uuid": "d73b82159ecbf4be4a8250705a693ac3dde55a2d"
   },
   "source": [
    "From the describe, I decide to choose the median. Because the 50%-quantile is 8.05 and the 75%-quantile is 14.5, but the maximum is 69.55. That means some huge numbers affect the mean. So the median is more apt."
   ]
  },
  {
   "cell_type": "code",
   "execution_count": 9,
   "metadata": {
    "_cell_guid": "fdefc151-a069-4ba9-8ae0-eed4852aea5a",
    "_execution_state": "idle",
    "_uuid": "1e511dc3f144cb2c8f347a1b62bf27d3b1f2aa31",
    "collapsed": true
   },
   "outputs": [],
   "source": [
    "#fillna with median\n",
    "test_df['Fare'] = test_df['Fare'].fillna(fare_median)"
   ]
  },
  {
   "cell_type": "markdown",
   "metadata": {
    "_cell_guid": "4eec0414-bd9a-4f4f-b03f-2621244f3c3e",
    "_execution_state": "idle",
    "_uuid": "4140ab7c702547fac6968d7a310acffa675c6bd1"
   },
   "source": [
    "And I find that there are too many missing values in  item 'Cabin' which makes it become a useless feature. I haven't got a good way to fill it so I will give up this item in the future prediction."
   ]
  },
  {
   "cell_type": "code",
   "execution_count": 10,
   "metadata": {
    "_cell_guid": "468c05ee-8c7a-4ed6-9422-163a482407b1",
    "_execution_state": "idle",
    "_uuid": "77018caae32a33a99ad1ceb390cb92c9b439accd"
   },
   "outputs": [
    {
     "name": "stdout",
     "output_type": "stream",
     "text": [
      "Mr              517\n",
      "Miss            182\n",
      "Mrs             125\n",
      "Master           40\n",
      "Dr                7\n",
      "Rev               6\n",
      "Major             2\n",
      "Mlle              2\n",
      "Col               2\n",
      "Don               1\n",
      "Mme               1\n",
      "the Countess      1\n",
      "Lady              1\n",
      "Sir               1\n",
      "Capt              1\n",
      "Ms                1\n",
      "Jonkheer          1\n",
      "Name: Title, dtype: int64\n",
      "--------------------------------------------------\n",
      "Mr        240\n",
      "Miss       78\n",
      "Mrs        72\n",
      "Master     21\n",
      "Rev         2\n",
      "Col         2\n",
      "Dr          1\n",
      "Dona        1\n",
      "Ms          1\n",
      "Name: Title, dtype: int64\n"
     ]
    }
   ],
   "source": [
    "import re\n",
    "def get_title(name):\n",
    "    pattern=re.compile('^.*, (.*?)\\..*$',re.S)\n",
    "    pear=re.findall(pattern,name)\n",
    "    return pear[0]\n",
    "\n",
    "train_df['Title'] = train_df['Name'].apply(get_title)\n",
    "test_df['Title'] = test_df['Name'].apply(get_title)\n",
    "\n",
    "print(train_df.Title.value_counts())\n",
    "print(\"--------------------------------------------------\")\n",
    "print(test_df.Title.value_counts())"
   ]
  },
  {
   "cell_type": "markdown",
   "metadata": {
    "_cell_guid": "1fbd070c-30b3-41c3-ac7f-2d3ef3ee7c97",
    "_execution_state": "idle",
    "_uuid": "32761e7ecabb51b26d2e9bad3f7bee8c72365226"
   },
   "source": [
    "Here is the value counts, it would be wise to divide them into 5 groups."
   ]
  },
  {
   "cell_type": "code",
   "execution_count": 11,
   "metadata": {
    "_cell_guid": "84a13888-b149-4899-9a7a-89ff2f94c3f4",
    "_execution_state": "idle",
    "_uuid": "45db885293d00955db1c26dc96113d830298b961",
    "collapsed": true
   },
   "outputs": [],
   "source": [
    "def group_title(title):\n",
    "    \n",
    "    group_men=['Mr','Don','Sir','Master']# return 1\n",
    "    group_younger_women=['Mlle','Miss','Ms']# return 2\n",
    "    group_elder_women=['Lady','Mrs','Mme','Dona'] # return 3\n",
    "    group_army=['Major','Col','Capt']# return 4\n",
    "    # else return 5 \n",
    "    \n",
    "    if title in group_men:\n",
    "        return 1\n",
    "    elif title in group_younger_women:\n",
    "        return 2\n",
    "    elif title in group_elder_women:\n",
    "        return 3\n",
    "    elif title in group_army:\n",
    "        return 4\n",
    "    else:\n",
    "        return 5\n",
    "    \n",
    "train_df['TitGroup'] = train_df['Title'].apply(group_title)\n",
    "test_df['TitGroup'] = test_df['Title'].apply(group_title)"
   ]
  },
  {
   "cell_type": "markdown",
   "metadata": {
    "_cell_guid": "4d9212e9-236b-47d9-8370-d6b628dd6596",
    "_execution_state": "idle",
    "_uuid": "e69d22a7fd5ca19615ac36e3820bc95098108300"
   },
   "source": [
    "Thanks to  [Titanic best working Classifier](https://www.kaggle.com/sinakhorami/titanic-best-working-classifier) by Sina.  I have a good way to fillna with age."
   ]
  },
  {
   "cell_type": "code",
   "execution_count": 12,
   "metadata": {
    "_cell_guid": "1a9be7a9-e4fa-47d8-8529-f183b660120f",
    "_execution_state": "idle",
    "_uuid": "ce4763c8ed0dac9d4e0f738458a81d8743034efa"
   },
   "outputs": [
    {
     "name": "stderr",
     "output_type": "stream",
     "text": [
      "/opt/conda/lib/python3.6/site-packages/ipykernel_launcher.py:9: SettingWithCopyWarning: \n",
      "A value is trying to be set on a copy of a slice from a DataFrame\n",
      "\n",
      "See the caveats in the documentation: http://pandas.pydata.org/pandas-docs/stable/indexing.html#indexing-view-versus-copy\n",
      "  if __name__ == '__main__':\n"
     ]
    }
   ],
   "source": [
    "datasets = [train_df,test_df]\n",
    "\n",
    "for dataset in datasets:\n",
    "    age_avg = dataset['Age'].mean()\n",
    "    age_std = dataset['Age'].std()\n",
    "    age_null_count = dataset['Age'].isnull().sum()\n",
    "    \n",
    "    age_null_random_list = np.random.randint(age_avg - age_std, age_avg + age_std, size=age_null_count)\n",
    "    dataset['Age'][np.isnan(dataset['Age'])] = age_null_random_list\n",
    "    dataset['Age'] = dataset['Age'].astype(int)\n",
    "    \n",
    "    dataset['Age'] = pd.cut(dataset['Age'],5,labels=[i for i in range(1,6)])"
   ]
  },
  {
   "cell_type": "markdown",
   "metadata": {
    "_cell_guid": "1568c3c2-e5d1-4767-96c8-790e94981bc6",
    "_execution_state": "idle",
    "_uuid": "8c82489dd619e73ec7340eae096d8a23e11c5ca2"
   },
   "source": [
    "After filling missing values, I have to select features and do standardization."
   ]
  },
  {
   "cell_type": "code",
   "execution_count": 13,
   "metadata": {
    "_cell_guid": "8c6c4880-d1ad-4534-90aa-dfc90e2911a9",
    "_execution_state": "idle",
    "_uuid": "131ffbddc91869f649f9c9ef6a19a2fae54b8bf7",
    "collapsed": true
   },
   "outputs": [],
   "source": [
    "def class_gender(sex):\n",
    "    if sex=='male':\n",
    "        return 1\n",
    "    else:\n",
    "        return 2\n",
    "    \n",
    "def class_embarked(emb):\n",
    "    if emb=='S':\n",
    "        return 1\n",
    "    if emb=='C':\n",
    "        return 2\n",
    "    else:\n",
    "        return 3\n",
    "\n",
    "for dataset in datasets:\n",
    "    #create new column family\n",
    "    dataset['Family'] = dataset['SibSp']+dataset['Parch']\n",
    "    #standardization z-score\n",
    "    dataset['StdFare'] = dataset['Fare'].apply(lambda x:(x-dataset['Fare'].mean())/dataset['Fare'].std())\n",
    "    #label\n",
    "    dataset['Sex'] = dataset['Sex'].map(class_gender)\n",
    "    dataset['Embarked'] = dataset['Embarked'].map(class_embarked)    \n",
    "    \n",
    "    \n",
    "    "
   ]
  },
  {
   "cell_type": "code",
   "execution_count": 14,
   "metadata": {
    "_cell_guid": "ffdc5292-2084-42de-b9f4-e0a9b253cb85",
    "_execution_state": "idle",
    "_uuid": "77814e49fad39186ba56aa8f7f0e3c136218ac07",
    "collapsed": true
   },
   "outputs": [],
   "source": [
    "numeric_feature = ['Age','Family','StdFare']\n",
    "def make_dataset(dataset):\n",
    "    dummy_df = pd.get_dummies(dataset['Pclass'],prefix='Pclass')\n",
    "    for item in ['Sex','Embarked','TitGroup']:\n",
    "        new_df = pd.get_dummies(dataset[item],prefix=item)\n",
    "        dummy_df = pd.concat([dummy_df,new_df],axis = 1)\n",
    "        \n",
    "    return pd.concat([dataset[numeric_feature],dummy_df],axis = 1)\n",
    "    \n",
    "X_train = make_dataset(train_df)\n",
    "Y_train = train_df['Survived']\n",
    "X_test = make_dataset(test_df)"
   ]
  },
  {
   "cell_type": "code",
   "execution_count": 15,
   "metadata": {
    "_cell_guid": "76d81c60-1abc-4b5a-8c52-4e28db55458d",
    "_execution_state": "idle",
    "_uuid": "11c0d61281bff6dbed4a94ef8eb353ab5e50445b",
    "collapsed": true
   },
   "outputs": [
    {
     "name": "stderr",
     "output_type": "stream",
     "text": [
      "/opt/conda/lib/python3.6/site-packages/sklearn/cross_validation.py:41: DeprecationWarning: This module was deprecated in version 0.18 in favor of the model_selection module into which all the refactored classes and functions are moved. Also note that the interface of the new CV iterators are different from that of this module. This module will be removed in 0.20.\n",
      "  \"This module will be removed in 0.20.\", DeprecationWarning)\n"
     ]
    }
   ],
   "source": [
    "from sklearn.cross_validation import train_test_split\n",
    "#cross validation\n",
    "Xtrain,Xtest,Ytrain,Ytest = train_test_split(X_train,Y_train,test_size=0.3,random_state=0)"
   ]
  },
  {
   "cell_type": "code",
   "execution_count": 16,
   "metadata": {
    "_cell_guid": "13060597-757a-4252-a336-e81d7fb9cbde",
    "_execution_state": "idle",
    "_uuid": "8cdd0ec580b33fa55cfe207ac49601938db51f66",
    "collapsed": true
   },
   "outputs": [],
   "source": [
    "#Logistic Regression\n",
    "def lr_classify(Xtrain,Xtest,Ytrain,Ytest):\n",
    "    from sklearn.linear_model import LogisticRegression\n",
    "    \n",
    "    clf = LogisticRegression(C=1e5)\n",
    "    clf.fit(Xtrain,Ytrain)\n",
    "    score = clf.score(Xtest,Ytest)\n",
    "    print(\"LinearRegression score: {0}\".format(score))"
   ]
  },
  {
   "cell_type": "code",
   "execution_count": 17,
   "metadata": {
    "_cell_guid": "16a65d82-040f-449d-b256-4484406ce6b8",
    "_execution_state": "idle",
    "_uuid": "ee9efaa8243b532936ed165a0dcbc4c0d3f420cf",
    "collapsed": true
   },
   "outputs": [],
   "source": [
    "#knn\n",
    "def knn_classify(Xtrain,Xtest,Ytrain,Ytest):\n",
    "    from sklearn.neighbors import KNeighborsClassifier\n",
    "    \n",
    "    clf = KNeighborsClassifier(n_neighbors=10)\n",
    "    clf.fit(Xtrain,Ytrain)\n",
    "    score = clf.score(Xtest,Ytest)\n",
    "    print(\"Knn score: {0}\".format(score))"
   ]
  },
  {
   "cell_type": "code",
   "execution_count": 18,
   "metadata": {
    "_cell_guid": "a60c34c4-8f38-41cc-a8ad-2d7d77c86db9",
    "_execution_state": "idle",
    "_uuid": "7b1fc110b2afe52b2aaf5125c8aefdecdd1bb7be",
    "collapsed": true
   },
   "outputs": [],
   "source": [
    "#Random Forest\n",
    "def rf_classify(Xtrain,Xtest,Ytrain,Ytest):\n",
    "    from sklearn.ensemble import RandomForestClassifier\n",
    "    \n",
    "    clf = RandomForestClassifier(n_estimators=10)\n",
    "    clf.fit(Xtrain,Ytrain)\n",
    "    score = clf.score(Xtest,Ytest)\n",
    "    print(\"RandomForest score: {0}\".format(score))"
   ]
  },
  {
   "cell_type": "code",
   "execution_count": 19,
   "metadata": {
    "_cell_guid": "c97ce10f-d491-43e1-890a-ef7c920fda86",
    "_execution_state": "idle",
    "_uuid": "090d1d67b9de4f8fcb51b0619aa8b3ebf2f4c5a2",
    "collapsed": true
   },
   "outputs": [],
   "source": [
    "#NaiveBayes GaussianNB\n",
    "def nb_classify(Xtrain,Xtest,Ytrain,Ytest):\n",
    "    from sklearn.naive_bayes import GaussianNB\n",
    "    \n",
    "    clf = GaussianNB()\n",
    "    clf.fit(Xtrain,Ytrain)\n",
    "    score = clf.score(Xtest,Ytest)\n",
    "    print(\"GaussianNB score: {0}\".format(score))"
   ]
  },
  {
   "cell_type": "code",
   "execution_count": 20,
   "metadata": {
    "_cell_guid": "bae0bfe8-a0ca-4c00-a290-a699df8388a6",
    "_execution_state": "idle",
    "_uuid": "3698eceffeca41bc0f5927467aa3c1de08227d84",
    "collapsed": true
   },
   "outputs": [],
   "source": [
    "#SVM\n",
    "def svm_classify(Xtrain,Xtest,Ytrain,Ytest):\n",
    "    from sklearn import svm\n",
    "    \n",
    "    clf = svm.SVC()\n",
    "    clf.fit(Xtrain,Ytrain)\n",
    "    score = clf.score(Xtest,Ytest)\n",
    "    print(\"SVM score: {0}\".format(score))"
   ]
  },
  {
   "cell_type": "code",
   "execution_count": 21,
   "metadata": {
    "_cell_guid": "7b5208fd-d06e-409f-bd6d-b2dac3cf9b25",
    "_execution_state": "idle",
    "_uuid": "d52344419228213a59bc198bc5f8346e9d21bf9a",
    "collapsed": true
   },
   "outputs": [],
   "source": [
    "#xgboost\n",
    "def xgb_classify(Xtrain,Xtest,Ytrain,Ytest):\n",
    "    import xgboost as xgb\n",
    "    \n",
    "    clf = xgb.XGBClassifier()\n",
    "    clf.fit(Xtrain,Ytrain)\n",
    "    score = clf.score(Xtest,Ytest)\n",
    "    print(\"Xgboost score: {0}\".format(score))"
   ]
  },
  {
   "cell_type": "code",
   "execution_count": 22,
   "metadata": {
    "_cell_guid": "97c557ce-e4e8-4b8d-b1eb-ad629c6091bc",
    "_execution_state": "idle",
    "_uuid": "762da62806c8d00ca991caae69c67bc3a685db4e",
    "collapsed": true
   },
   "outputs": [],
   "source": [
    "#Voting class\n",
    "def voting_classify(Xtrain,Xtest,Ytrain,Ytest):\n",
    "    from sklearn.ensemble import GradientBoostingClassifier,VotingClassifier,RandomForestClassifier\n",
    "    from sklearn.linear_model import LogisticRegression\n",
    "    from sklearn.naive_bayes import GaussianNB\n",
    "    \n",
    "    clf1 = GradientBoostingClassifier(n_estimators=200)\n",
    "    clf2 = RandomForestClassifier(random_state=0,n_estimators=50)\n",
    "    clf3 = LogisticRegression(random_state=1)\n",
    "    clf4 = GaussianNB()\n",
    "    \n",
    "    clf = VotingClassifier(estimators=[('gbdt',clf1),('rf',clf2),('lr',clf3),('nb',clf4)],voting='soft')\n",
    "    clf.fit(Xtrain,Ytrain)\n",
    "    score = clf.score(Xtest,Ytest)\n",
    "    print(\"Voting score: {0}\".format(score))"
   ]
  },
  {
   "cell_type": "code",
   "execution_count": 23,
   "metadata": {
    "_cell_guid": "c8b0dea1-a7da-40fb-ad7c-2e2c898c18ae",
    "_execution_state": "idle",
    "_uuid": "91a0b840812ca6f31e1b8446cb3d2365e4cea9e0",
    "collapsed": true
   },
   "outputs": [],
   "source": [
    "def param_rf_n_estimate(Xtrain,Xtest,Ytrain,Ytest,n):\n",
    "    from sklearn.ensemble import RandomForestClassifier\n",
    "    \n",
    "    clf = RandomForestClassifier(random_state=0,n_estimators=n)\n",
    "    clf.fit(Xtrain,Ytrain)\n",
    "    score = clf.score(Xtest,Ytest)\n",
    "    print('When n is %d'%n)\n",
    "    print(\"RandomForest score: {0}\".format(score))\n",
    "    \n",
    "    \n",
    "    \n",
    "    "
   ]
  },
  {
   "cell_type": "code",
   "execution_count": 24,
   "metadata": {
    "_cell_guid": "bd6559f3-85c7-4e62-b6e0-30688a00b2c7",
    "_execution_state": "idle",
    "_uuid": "988d6a418a771676f4e423fe7fdccc40593eae5a",
    "collapsed": true
   },
   "outputs": [],
   "source": [
    "from sklearn.ensemble import RandomForestClassifier\n",
    "    \n",
    "clf = RandomForestClassifier(random_state=0,n_estimators=100)\n",
    "clf.fit(Xtrain,Ytrain)\n",
    "predictions = clf.predict(X_test)"
   ]
  }
 ],
 "metadata": {
  "kernelspec": {
   "display_name": "Python 3",
   "language": "python",
   "name": "python3"
  },
  "language_info": {
   "codemirror_mode": {
    "name": "ipython",
    "version": 3
   },
   "file_extension": ".py",
   "mimetype": "text/x-python",
   "name": "python",
   "nbconvert_exporter": "python",
   "pygments_lexer": "ipython3",
   "version": "3.6.3"
  }
 },
 "nbformat": 4,
 "nbformat_minor": 1
}
