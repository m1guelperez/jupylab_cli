{
 "cells": [
  {
   "cell_type": "code",
   "execution_count": 1,
   "metadata": {
    "_cell_guid": "79c7e3d0-c299-4dcb-8224-4455121ee9b0",
    "_uuid": "d629ff2d2480ee46fbb7e2d37f6b5fab8052498a",
    "execution": {
     "iopub.execute_input": "2020-08-17T08:41:46.661719Z",
     "iopub.status.busy": "2020-08-17T08:41:46.660755Z",
     "iopub.status.idle": "2020-08-17T08:41:46.668671Z",
     "shell.execute_reply": "2020-08-17T08:41:46.667410Z"
    },
    "papermill": {
     "duration": 0.038932,
     "end_time": "2020-08-17T08:41:46.668864",
     "exception": false,
     "start_time": "2020-08-17T08:41:46.629932",
     "status": "completed"
    },
    "tags": []
   },
   "outputs": [
    {
     "name": "stdout",
     "output_type": "stream",
     "text": [
      "    X   Y   Z\n",
      "0  78  84  86\n",
      "1  85  94  97\n",
      "2  96  89  96\n",
      "3  80  83  72\n",
      "4  86  86  83\n"
     ]
    }
   ],
   "source": [
    "import pandas as pd\n",
    "df = pd.DataFrame({'X':[78,85,96,80,86], 'Y':[84,94,89,83,86],'Z':[86,97,96,72,83]});\n",
    "print(df)"
   ]
  },
  {
   "cell_type": "code",
   "execution_count": 2,
   "metadata": {
    "execution": {
     "iopub.execute_input": "2020-08-17T08:41:46.701187Z",
     "iopub.status.busy": "2020-08-17T08:41:46.700216Z",
     "iopub.status.idle": "2020-08-17T08:41:46.709227Z",
     "shell.execute_reply": "2020-08-17T08:41:46.706946Z"
    },
    "papermill": {
     "duration": 0.032548,
     "end_time": "2020-08-17T08:41:46.709439",
     "exception": false,
     "start_time": "2020-08-17T08:41:46.676891",
     "status": "completed"
    },
    "tags": []
   },
   "outputs": [
    {
     "name": "stdout",
     "output_type": "stream",
     "text": [
      "        name  score  attempts qualify\n",
      "a  Anastasia   12.5         1     yes\n",
      "b       Dima    9.0         3      no\n",
      "c  Katherine   16.5         2     yes\n",
      "d      James    6.0         3      no\n",
      "e      Emily    9.0         2      no\n",
      "f    Michael   20.0         3     yes\n",
      "g    Matthew    NaN         1     yes\n",
      "h      Laura    5.5         1      no\n"
     ]
    }
   ],
   "source": [
    "import pandas as pd\n",
    "import numpy as np\n",
    "exam_data  = {'name': ['Anastasia', 'Dima', 'Katherine', 'James', 'Emily', 'Michael', 'Matthew', 'Laura'],\n",
    "        'score': [12.5, 9, 16.5, 6.0, 9, 20, np.nan, 5.5],\n",
    "        'attempts': [1, 3, 2, 3, 2, 3, 1, 1],\n",
    "        'qualify': ['yes', 'no', 'yes', 'no', 'no', 'yes', 'yes', 'no']}\n",
    "labels = ['a', 'b', 'c', 'd', 'e', 'f', 'g', 'h']\n",
    "\n",
    "df = pd.DataFrame(exam_data , index=labels)\n",
    "print(df)"
   ]
  },
  {
   "cell_type": "code",
   "execution_count": 3,
   "metadata": {
    "execution": {
     "iopub.execute_input": "2020-08-17T08:41:46.748413Z",
     "iopub.status.busy": "2020-08-17T08:41:46.747416Z",
     "iopub.status.idle": "2020-08-17T08:41:46.753648Z",
     "shell.execute_reply": "2020-08-17T08:41:46.752731Z"
    },
    "papermill": {
     "duration": 0.033312,
     "end_time": "2020-08-17T08:41:46.753804",
     "exception": false,
     "start_time": "2020-08-17T08:41:46.720492",
     "status": "completed"
    },
    "tags": []
   },
   "outputs": [
    {
     "name": "stdout",
     "output_type": "stream",
     "text": [
      "First three rows of the data frame:\n",
      "        name  score  attempts qualify\n",
      "a  Anastasia   12.5         1     yes\n",
      "b       Dima    9.0         3      no\n",
      "c  Katherine   16.5         2     yes\n"
     ]
    }
   ],
   "source": [
    "import pandas as pd\n",
    "import numpy as np\n",
    "exam_data  = {'name': ['Anastasia', 'Dima', 'Katherine', 'James', 'Emily', 'Michael', 'Matthew', 'Laura'],\n",
    "        'score': [12.5, 9, 16.5, 6.0, 9, 20, np.nan, 5.5],\n",
    "        'attempts': [1, 3, 2, 3, 2, 3, 1, 1],\n",
    "        'qualify': ['yes', 'no', 'yes', 'no', 'no', 'yes', 'yes', 'no']}\n",
    "labels = ['a', 'b', 'c', 'd', 'e', 'f', 'g', 'h']\n",
    "\n",
    "df = pd.DataFrame(exam_data , index=labels)\n",
    "print(\"First three rows of the data frame:\")\n",
    "print(df.iloc[:3])"
   ]
  },
  {
   "cell_type": "code",
   "execution_count": 4,
   "metadata": {
    "execution": {
     "iopub.execute_input": "2020-08-17T08:41:46.793552Z",
     "iopub.status.busy": "2020-08-17T08:41:46.792663Z",
     "iopub.status.idle": "2020-08-17T08:41:46.798228Z",
     "shell.execute_reply": "2020-08-17T08:41:46.796969Z"
    },
    "papermill": {
     "duration": 0.03633,
     "end_time": "2020-08-17T08:41:46.798393",
     "exception": false,
     "start_time": "2020-08-17T08:41:46.762063",
     "status": "completed"
    },
    "tags": []
   },
   "outputs": [
    {
     "name": "stdout",
     "output_type": "stream",
     "text": [
      "Select specific columns and rows:\n",
      "   score qualify\n",
      "b    9.0      no\n",
      "d    6.0      no\n",
      "f   20.0     yes\n",
      "g    NaN     yes\n"
     ]
    }
   ],
   "source": [
    "import pandas as pd\n",
    "import numpy as np\n",
    "exam_data  = {'name': ['Anastasia', 'Dima', 'Katherine', 'James', 'Emily', 'Michael', 'Matthew', 'Laura'],\n",
    "        'score': [12.5, 9, 16.5, 6.0, 9, 20, np.nan, 5.5],\n",
    "        'attempts': [1, 3, 2, 3, 2, 3, 1, 1],\n",
    "        'qualify': ['yes', 'no', 'yes', 'no', 'no', 'yes', 'yes', 'no']}\n",
    "labels = ['a', 'b', 'c', 'd', 'e', 'f', 'g', 'h']\n",
    "df = pd.DataFrame(exam_data , index=labels)\n",
    "print(\"Select specific columns and rows:\")\n",
    "print(df.iloc[[1, 3, 5, 6], [1, 3]])"
   ]
  },
  {
   "cell_type": "code",
   "execution_count": 5,
   "metadata": {
    "execution": {
     "iopub.execute_input": "2020-08-17T08:41:46.831656Z",
     "iopub.status.busy": "2020-08-17T08:41:46.823652Z",
     "iopub.status.idle": "2020-08-17T08:41:46.836957Z",
     "shell.execute_reply": "2020-08-17T08:41:46.836288Z"
    },
    "papermill": {
     "duration": 0.030681,
     "end_time": "2020-08-17T08:41:46.837114",
     "exception": false,
     "start_time": "2020-08-17T08:41:46.806433",
     "status": "completed"
    },
    "tags": []
   },
   "outputs": [
    {
     "name": "stdout",
     "output_type": "stream",
     "text": [
      "Rows where score is missing:\n",
      "      name  score  attempts qualify\n",
      "g  Matthew    NaN         1     yes\n"
     ]
    }
   ],
   "source": [
    "import pandas as pd\n",
    "import numpy as np\n",
    "exam_data  = {'name': ['Anastasia', 'Dima', 'Katherine', 'James', 'Emily', 'Michael', 'Matthew', 'Laura'],\n",
    "        'score': [12.5, 9, 16.5, 6.0, 9, 20, np.nan, 5.5],\n",
    "        'attempts': [1, 3, 2, 3, 2, 3, 1, 1],\n",
    "        'qualify': ['yes', 'no', 'yes', 'no', 'no', 'yes', 'yes', 'no']}\n",
    "labels = ['a', 'b', 'c', 'd', 'e', 'f', 'g', 'h']\n",
    "df = pd.DataFrame(exam_data , index=labels)\n",
    "print(\"Rows where score is missing:\")\n",
    "print(df[df['score'].isnull()])"
   ]
  }
 ],
 "metadata": {
  "kernelspec": {
   "display_name": "Python 3",
   "language": "python",
   "name": "python3"
  },
  "language_info": {
   "codemirror_mode": {
    "name": "ipython",
    "version": 3
   },
   "file_extension": ".py",
   "mimetype": "text/x-python",
   "name": "python",
   "nbconvert_exporter": "python",
   "pygments_lexer": "ipython3",
   "version": "3.7.6"
  },
  "papermill": {
   "duration": 6.368294,
   "end_time": "2020-08-17T08:41:46.956124",
   "environment_variables": {},
   "exception": null,
   "input_path": "__notebook__.ipynb",
   "output_path": "__notebook__.ipynb",
   "parameters": {},
   "start_time": "2020-08-17T08:41:40.587830",
   "version": "2.1.0"
  }
 },
 "nbformat": 4,
 "nbformat_minor": 4
}
