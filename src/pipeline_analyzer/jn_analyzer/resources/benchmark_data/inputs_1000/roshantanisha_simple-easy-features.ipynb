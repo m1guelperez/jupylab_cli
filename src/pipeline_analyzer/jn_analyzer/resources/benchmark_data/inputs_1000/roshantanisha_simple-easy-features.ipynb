{
 "cells": [
  {
   "cell_type": "code",
   "execution_count": 1,
   "metadata": {
    "_cell_guid": "b1076dfc-b9ad-4769-8c92-a6c4dae69d19",
    "_uuid": "8f2839f25d086af736a60e9eeb907d3b93b6e0e5"
   },
   "outputs": [
    {
     "name": "stdout",
     "output_type": "stream",
     "text": [
      "/kaggle/input/ieee-fraud-detection/train_identity.csv\n",
      "/kaggle/input/ieee-fraud-detection/train_transaction.csv\n",
      "/kaggle/input/ieee-fraud-detection/test_transaction.csv\n",
      "/kaggle/input/ieee-fraud-detection/test_identity.csv\n",
      "/kaggle/input/ieee-fraud-detection/sample_submission.csv\n"
     ]
    }
   ],
   "source": [
    "# This Python 3 environment comes with many helpful analytics libraries installed\n",
    "# It is defined by the kaggle/python docker image: https://github.com/kaggle/docker-python\n",
    "# For example, here's several helpful packages to load in \n",
    "\n",
    "import numpy as np # linear algebra\n",
    "import pandas as pd # data processing, CSV file I/O (e.g. pd.read_csv)\n",
    "\n",
    "# Input data files are available in the \"../input/\" directory.\n",
    "# For example, running this (by clicking run or pressing Shift+Enter) will list all files under the input directory\n",
    "\n",
    "import os\n",
    "for dirname, _, filenames in os.walk('/kaggle/input'):\n",
    "    for filename in filenames:\n",
    "        print(os.path.join(dirname, filename))\n",
    "\n",
    "# Any results you write to the current directory are saved as output."
   ]
  },
  {
   "cell_type": "code",
   "execution_count": 2,
   "metadata": {},
   "outputs": [],
   "source": [
    "import gc"
   ]
  },
  {
   "cell_type": "code",
   "execution_count": 3,
   "metadata": {},
   "outputs": [],
   "source": [
    "def print_object_cols(df):\n",
    "    for col in df.columns:\n",
    "        if df[col].dtype == np.dtype('O'):\n",
    "            print(col)\n",
    "            print(df[col].unique())\n",
    "            print('-----------------')"
   ]
  },
  {
   "cell_type": "code",
   "execution_count": 4,
   "metadata": {},
   "outputs": [],
   "source": [
    "def parse_email(df, column_name):\n",
    "    def parse(value):\n",
    "        try:\n",
    "            return value.lower().strip().split('.')[0]\n",
    "        except Exception as e:\n",
    "            return 'unknown'\n",
    "    df.loc[:, column_name] = df[column_name].apply(lambda x: parse(x))\n",
    "    return df"
   ]
  },
  {
   "cell_type": "code",
   "execution_count": 5,
   "metadata": {},
   "outputs": [],
   "source": [
    "def convert_string_to_ints(df, column_name, conversion):\n",
    "    df.loc[:, column_name] = df[column_name].apply(lambda x: 0 if np.nan is x else conversion[x])\n",
    "    return df"
   ]
  },
  {
   "cell_type": "code",
   "execution_count": 6,
   "metadata": {},
   "outputs": [],
   "source": [
    "def encode_char_cols_to_ints(df):\n",
    "    col_name_mappings = {\n",
    "        'M1': {'T': 1, 'F': 0},\n",
    "        'M2': {'T': 1, 'F': 0},\n",
    "        'M3': {'T': 1, 'F': 0},\n",
    "        'M4': {'M0': 1, 'M1': 2, 'M2': 3},\n",
    "        'M5': {'T': 1, 'F': 0},\n",
    "        'M6': {'T': 1, 'F': 0},\n",
    "        'M7': {'T': 1, 'F': 0},\n",
    "        'M8': {'T': 1, 'F': 0},\n",
    "        'M9': {'T': 1, 'F': 0}\n",
    "    }\n",
    "\n",
    "    for col_name in col_name_mappings.keys():\n",
    "        df = convert_string_to_ints(df, col_name, col_name_mappings[col_name])\n",
    "    \n",
    "    return df"
   ]
  },
  {
   "cell_type": "code",
   "execution_count": 7,
   "metadata": {},
   "outputs": [],
   "source": [
    "def parse_emails(df):\n",
    "    parse_email_cols = ['P_emaildomain', 'R_emaildomain']\n",
    "    for col in parse_email_cols:\n",
    "        df = parse_email(df, col)\n",
    "    return df"
   ]
  },
  {
   "cell_type": "code",
   "execution_count": 8,
   "metadata": {},
   "outputs": [],
   "source": [
    "def dummify_df(df):\n",
    "    drop_cols = []\n",
    "    for cols in df.columns:\n",
    "        if df[cols].dtype == np.dtype('O'):\n",
    "            drop_cols.append(cols)\n",
    "    df1 = pd.get_dummies(df[drop_cols])\n",
    "    df.drop(drop_cols, axis=1, inplace=True)\n",
    "    df = pd.concat([df1, df], axis=1)\n",
    "    return df"
   ]
  },
  {
   "cell_type": "code",
   "execution_count": 9,
   "metadata": {},
   "outputs": [],
   "source": [
    "def get_features(df):\n",
    "    df = encode_char_cols_to_ints(df)\n",
    "    df = parse_emails(df)\n",
    "    df = dummify_df(df)\n",
    "    return df"
   ]
  },
  {
   "cell_type": "code",
   "execution_count": 10,
   "metadata": {},
   "outputs": [],
   "source": [
    "def align_cols(train_cols, test, target_cols):\n",
    "    for col in train_cols:\n",
    "        if col not in target_cols:\n",
    "            if col not in test.columns:\n",
    "                print(col)\n",
    "                test.loc[:, col] = 0\n",
    "    \n",
    "    print(test.columns[~test.columns.isin(train_cols)])\n",
    "    test_cols = train_cols\n",
    "    for each_col in target_cols:\n",
    "        test_cols.remove(each_col)\n",
    "    return test[test_cols]"
   ]
  },
  {
   "cell_type": "code",
   "execution_count": 11,
   "metadata": {},
   "outputs": [],
   "source": [
    "import re\n",
    "reg_exp = re.compile(r'\\d{1,2}\\.?\\d{0,2}')"
   ]
  },
  {
   "cell_type": "code",
   "execution_count": 12,
   "metadata": {},
   "outputs": [],
   "source": [
    "def parse_device_info(df, column_name):\n",
    "    def parse(value):\n",
    "        try:\n",
    "            value_splits = value.split()\n",
    "            try:\n",
    "                name = value_splits[0].lower().strip()\n",
    "            except Exception as e:\n",
    "                name = 'unknown'\n",
    "            try:\n",
    "                version1 = reg_exp.findall(value)[0]\n",
    "                version = float(version1)\n",
    "            except Exception as e:\n",
    "                version = 0\n",
    "        except Exception as e:\n",
    "            name = 'unknown'\n",
    "            version = 0\n",
    "        return {column_name + '_name': name, column_name + '_version': version}\n",
    "    \n",
    "    temp_df = df[column_name].apply(lambda x: parse(x)).apply(pd.Series)\n",
    "    df = pd.concat([df, temp_df], axis=1)\n",
    "    df.drop(column_name, axis=1, inplace=True)\n",
    "    return df"
   ]
  },
  {
   "cell_type": "code",
   "execution_count": 13,
   "metadata": {},
   "outputs": [],
   "source": [
    "def parse_device_info_identity(df):\n",
    "    device_cols = ['id_30', 'id_31']\n",
    "    for col in device_cols:\n",
    "        df = parse_device_info(df, col)\n",
    "    return df"
   ]
  },
  {
   "cell_type": "code",
   "execution_count": 14,
   "metadata": {},
   "outputs": [],
   "source": [
    "def parse_screen_ratio(df, column_name):\n",
    "    def parse(value):\n",
    "        try:\n",
    "            w, h = list(map(lambda x: float(x), value.split('x')))\n",
    "            ratio = w / h\n",
    "        except Exception as e:\n",
    "            w, h, ratio = 0, 0, 0\n",
    "        return {column_name + '_w': w, column_name + '_h': h, column_name + '_ratio': ratio}\n",
    "    \n",
    "    df1 = df[column_name].apply(lambda x: parse(x)).apply(pd.Series)\n",
    "    df = pd.concat([df, df1], axis=1)\n",
    "    df.drop(column_name, axis=1, inplace=True)\n",
    "    return df"
   ]
  },
  {
   "cell_type": "code",
   "execution_count": 15,
   "metadata": {},
   "outputs": [],
   "source": [
    "def identity_encode_char_cols_to_ints(df):\n",
    "    col_name_mappings = {\n",
    "        'id_12': {'NotFound': 0, 'Found': 1},\n",
    "        'id_15': {'Found': 1, 'Unknown': 0, 'New': -1},\n",
    "        'id_16': {'Found': 1, 'NotFound': 0},\n",
    "        'id_23': {'IP_PROXY:TRANSPARENT': 1, 'IP_PROXY:ANONYMOUS': 2, 'IP_PROXY:HIDDEN': 3},\n",
    "        'id_27': {'Found': 1, 'NotFound': 0},\n",
    "        'id_28': {'New': -1, 'Found': 1},\n",
    "        'id_29': {'Found': 1, 'NotFound': 0},\n",
    "        'id_34': {'match_status:2': 2, 'match_status:1': 1, 'match_status:-1': -1, 'match_status:0': 0},\n",
    "        'id_35': {'T': 1, 'F': 0},\n",
    "        'id_36': {'T': 1, 'F': 0},\n",
    "        'id_37': {'T': 1, 'F': 0},\n",
    "        'id_38': {'T': 1, 'F': 0},\n",
    "        'DeviceType': {'mobile': 1, 'desktop': 0}\n",
    "    }\n",
    "\n",
    "    print(col_name_mappings.keys())\n",
    "    for col_name in col_name_mappings.keys():\n",
    "        print(col_name)\n",
    "        df = convert_string_to_ints(df, col_name, col_name_mappings[col_name])\n",
    "    \n",
    "    return df"
   ]
  },
  {
   "cell_type": "code",
   "execution_count": 16,
   "metadata": {},
   "outputs": [],
   "source": [
    "def replace_names(df, column_name, names_to_replace):\n",
    "    df.loc[:, column_name] = df[column_name].apply(lambda x: names_to_replace[x] if x in names_to_replace.keys() else x)\n",
    "    return df"
   ]
  },
  {
   "cell_type": "code",
   "execution_count": 17,
   "metadata": {},
   "outputs": [],
   "source": [
    "def drop_cols(df, cols_to_drop):\n",
    "    return df.drop(cols_to_drop, axis=1)"
   ]
  },
  {
   "cell_type": "code",
   "execution_count": 18,
   "metadata": {},
   "outputs": [],
   "source": [
    "def process_identity_df(df):\n",
    "    identity_encode_char_cols_to_ints(df)\n",
    "    print('    get screen ratio...')\n",
    "    df = parse_screen_ratio(df, 'id_33')\n",
    "    print('    parsing device info identity...')\n",
    "    df = parse_device_info_identity(df)\n",
    "    names_to_replace = {\n",
    "        'mozilla/firefox': 'firefox',\n",
    "        'generic/android': 'android',\n",
    "        'samsung/sm-g532m': 'samsung',\n",
    "        'samsung/sm-g531h': 'samsung',\n",
    "        'samsung/sch': 'samsung'\n",
    "    }\n",
    "    print('    replacing names...')\n",
    "    df = replace_names(df, 'id_31_name', names_to_replace)\n",
    "    print('    dropping cols...')\n",
    "    df = drop_cols(df, ['DeviceInfo'])\n",
    "    df = dummify_df(df)\n",
    "    return df"
   ]
  },
  {
   "cell_type": "code",
   "execution_count": 19,
   "metadata": {},
   "outputs": [],
   "source": [
    "def get_scaler():\n",
    "    from sklearn.preprocessing import MinMaxScaler\n",
    "    \n",
    "    return MinMaxScaler(feature_range=(0, 1))"
   ]
  },
  {
   "cell_type": "code",
   "execution_count": 20,
   "metadata": {},
   "outputs": [],
   "source": [
    "def normalize_data(scaler, df):\n",
    "    scaler.fit(df.values)\n",
    "    \n",
    "    return scaler.transform(df.values)"
   ]
  },
  {
   "cell_type": "code",
   "execution_count": 21,
   "metadata": {},
   "outputs": [],
   "source": [
    "data_dir_path = '/kaggle/input/ieee-fraud-detection'"
   ]
  },
  {
   "cell_type": "code",
   "execution_count": 22,
   "metadata": {},
   "outputs": [
    {
     "name": "stdout",
     "output_type": "stream",
     "text": [
      "Loading train data...\n",
      "Train data loaded...\n"
     ]
    }
   ],
   "source": [
    "print('Loading train data...')\n",
    "train = pd.read_csv(os.path.join(data_dir_path, 'train_transaction.csv'))\n",
    "print('Train data loaded...')"
   ]
  },
  {
   "cell_type": "code",
   "execution_count": 23,
   "metadata": {},
   "outputs": [
    {
     "name": "stdout",
     "output_type": "stream",
     "text": [
      "['dist2', 'D7']\n"
     ]
    }
   ],
   "source": [
    "drop_cols_na = []\n",
    "for col in train.columns:\n",
    "    value_counts = train[col].isna().value_counts() / train.shape[0] * 100\n",
    "    if True in value_counts.index:\n",
    "        if value_counts[True] > 90:\n",
    "            drop_cols_na.append(col)\n",
    "            \n",
    "print(drop_cols_na)"
   ]
  },
  {
   "cell_type": "code",
   "execution_count": 24,
   "metadata": {},
   "outputs": [],
   "source": [
    "# train.drop(drop_cols_na, axis=1, inplace=True)"
   ]
  },
  {
   "cell_type": "code",
   "execution_count": 25,
   "metadata": {},
   "outputs": [
    {
     "name": "stdout",
     "output_type": "stream",
     "text": [
      "Getting train features...\n"
     ]
    }
   ],
   "source": [
    "print('Getting train features...')\n",
    "train_feats = get_features(train)"
   ]
  },
  {
   "cell_type": "code",
   "execution_count": 26,
   "metadata": {},
   "outputs": [
    {
     "data": {
      "text/plain": [
       "11"
      ]
     },
     "execution_count": 26,
     "metadata": {},
     "output_type": "execute_result"
    }
   ],
   "source": [
    "gc.collect()"
   ]
  },
  {
   "cell_type": "code",
   "execution_count": 27,
   "metadata": {},
   "outputs": [
    {
     "name": "stdout",
     "output_type": "stream",
     "text": [
      "Loading train identity data...\n",
      "Train identity data loaded...\n"
     ]
    }
   ],
   "source": [
    "print('Loading train identity data...')\n",
    "train_identity = pd.read_csv(os.path.join(data_dir_path, 'train_identity.csv'))\n",
    "ti = train_identity\n",
    "print('Train identity data loaded...')"
   ]
  },
  {
   "cell_type": "code",
   "execution_count": 28,
   "metadata": {},
   "outputs": [
    {
     "name": "stdout",
     "output_type": "stream",
     "text": [
      "Process train identity data...\n",
      "dict_keys(['id_12', 'id_15', 'id_16', 'id_23', 'id_27', 'id_28', 'id_29', 'id_34', 'id_35', 'id_36', 'id_37', 'id_38', 'DeviceType'])\n",
      "id_12\n",
      "id_15\n",
      "id_16\n",
      "id_23\n",
      "id_27\n",
      "id_28\n",
      "id_29\n",
      "id_34\n",
      "id_35\n",
      "id_36\n",
      "id_37\n",
      "id_38\n",
      "DeviceType\n",
      "    get screen ratio...\n",
      "    parsing device info identity...\n",
      "    replacing names...\n",
      "    dropping cols...\n"
     ]
    }
   ],
   "source": [
    "print('Process train identity data...')\n",
    "ti = process_identity_df(ti)"
   ]
  },
  {
   "cell_type": "code",
   "execution_count": 29,
   "metadata": {},
   "outputs": [],
   "source": [
    "print_object_cols(ti)"
   ]
  },
  {
   "cell_type": "code",
   "execution_count": 30,
   "metadata": {},
   "outputs": [
    {
     "data": {
      "text/plain": [
       "0"
      ]
     },
     "execution_count": 30,
     "metadata": {},
     "output_type": "execute_result"
    }
   ],
   "source": [
    "gc.collect()"
   ]
  },
  {
   "cell_type": "code",
   "execution_count": 31,
   "metadata": {},
   "outputs": [],
   "source": [
    "# select_cols = [\n",
    "#     'id_01', 'id_02', 'id_03', 'id_04', 'id_05', 'id_06', 'id_07', 'id_08', 'id_09', 'id_10',\n",
    "#     'id_11', 'id_12', 'id_13', 'id_14', 'id_15', 'id_16', 'id_17', 'id_18', 'id_19', 'id_20',\n",
    "#     'id_33_w', 'id_33_h', 'id_33_ratio',\n",
    "#     'TransactionID'\n",
    "# ]"
   ]
  },
  {
   "cell_type": "code",
   "execution_count": 32,
   "metadata": {},
   "outputs": [
    {
     "data": {
      "text/plain": [
       "Index(['id_30_name_android', 'id_30_name_func', 'id_30_name_ios',\n",
       "       'id_30_name_linux', 'id_30_name_mac', 'id_30_name_other',\n",
       "       'id_30_name_unknown', 'id_30_name_windows', 'id_31_name_android',\n",
       "       'id_31_name_aol', 'id_31_name_blu/dash', 'id_31_name_cherry',\n",
       "       'id_31_name_chrome', 'id_31_name_chromium', 'id_31_name_comodo',\n",
       "       'id_31_name_cyberfox', 'id_31_name_edge', 'id_31_name_facebook',\n",
       "       'id_31_name_firefox', 'id_31_name_google', 'id_31_name_icedragon',\n",
       "       'id_31_name_ie', 'id_31_name_inco/minion', 'id_31_name_iron',\n",
       "       'id_31_name_lanix/ilium', 'id_31_name_lg/k-200', 'id_31_name_line',\n",
       "       'id_31_name_m4tel/m4', 'id_31_name_maxthon',\n",
       "       'id_31_name_microsoft/windows', 'id_31_name_mobile',\n",
       "       'id_31_name_nokia/lumia', 'id_31_name_opera', 'id_31_name_other',\n",
       "       'id_31_name_palemoon', 'id_31_name_puffin', 'id_31_name_safari',\n",
       "       'id_31_name_samsung', 'id_31_name_seamonkey', 'id_31_name_silk',\n",
       "       'id_31_name_unknown', 'id_31_name_waterfox', 'id_31_name_zte/blade',\n",
       "       'TransactionID', 'id_01', 'id_02', 'id_03', 'id_04', 'id_05', 'id_06',\n",
       "       'id_07', 'id_08', 'id_09', 'id_10', 'id_11', 'id_12', 'id_13', 'id_14',\n",
       "       'id_15', 'id_16', 'id_17', 'id_18', 'id_19', 'id_20', 'id_21', 'id_22',\n",
       "       'id_23', 'id_24', 'id_25', 'id_26', 'id_27', 'id_28', 'id_29', 'id_32',\n",
       "       'id_34', 'id_35', 'id_36', 'id_37', 'id_38', 'DeviceType', 'id_33_w',\n",
       "       'id_33_h', 'id_33_ratio', 'id_30_version', 'id_31_version'],\n",
       "      dtype='object')"
      ]
     },
     "execution_count": 32,
     "metadata": {},
     "output_type": "execute_result"
    }
   ],
   "source": [
    "ti.columns"
   ]
  },
  {
   "cell_type": "code",
   "execution_count": 33,
   "metadata": {},
   "outputs": [],
   "source": [
    "scaler = get_scaler()"
   ]
  },
  {
   "cell_type": "code",
   "execution_count": 34,
   "metadata": {},
   "outputs": [],
   "source": [
    "print_object_cols(train_feats)"
   ]
  },
  {
   "cell_type": "code",
   "execution_count": 35,
   "metadata": {},
   "outputs": [
    {
     "name": "stdout",
     "output_type": "stream",
     "text": [
      "Merging train and train identity data...\n"
     ]
    }
   ],
   "source": [
    "print('Merging train and train identity data...')\n",
    "train_final = train_feats.merge(ti, on='TransactionID', how='left', suffixes=('', '_IDENTITY'))\n",
    "del train, train_feats, ti"
   ]
  },
  {
   "cell_type": "code",
   "execution_count": 36,
   "metadata": {},
   "outputs": [],
   "source": [
    "print_object_cols(train_final)"
   ]
  },
  {
   "cell_type": "code",
   "execution_count": 37,
   "metadata": {},
   "outputs": [],
   "source": [
    "# converted = train_final.loc[train_final.isFraud == 0]\n",
    "# nonconverted = train_final.loc[train_final.isFraud == 1]\n",
    "\n",
    "# train = pd.concat([nonconverted, converted.sample(n=20*nonconverted.shape[0])])"
   ]
  },
  {
   "cell_type": "code",
   "execution_count": 38,
   "metadata": {},
   "outputs": [],
   "source": [
    "# train = pd.concat([nonconverted, converted.sample(n=nonconverted.shape[0])])\n",
    "train = train_final"
   ]
  },
  {
   "cell_type": "code",
   "execution_count": 39,
   "metadata": {},
   "outputs": [
    {
     "ename": "NameError",
     "evalue": "name 'converted' is not defined",
     "output_type": "error",
     "traceback": [
      "\u001b[0;31m---------------------------------------------------------------------------\u001b[0m",
      "\u001b[0;31mNameError\u001b[0m                                 Traceback (most recent call last)",
      "\u001b[0;32m<ipython-input-39-f7e1f2580282>\u001b[0m in \u001b[0;36m<module>\u001b[0;34m\u001b[0m\n\u001b[0;32m----> 1\u001b[0;31m \u001b[0mconverted\u001b[0m\u001b[0;34m.\u001b[0m\u001b[0mshape\u001b[0m\u001b[0;34m,\u001b[0m \u001b[0mnonconverted\u001b[0m\u001b[0;34m.\u001b[0m\u001b[0mshape\u001b[0m\u001b[0;34m\u001b[0m\u001b[0m\n\u001b[0m",
      "\u001b[0;31mNameError\u001b[0m: name 'converted' is not defined"
     ]
    }
   ],
   "source": [
    "converted.shape, nonconverted.shape"
   ]
  },
  {
   "cell_type": "code",
   "execution_count": 40,
   "metadata": {},
   "outputs": [
    {
     "data": {
      "text/plain": [
       "((590540, 577), (590540, 577))"
      ]
     },
     "execution_count": 40,
     "metadata": {},
     "output_type": "execute_result"
    }
   ],
   "source": [
    "train.shape, train_final.shape"
   ]
  },
  {
   "cell_type": "code",
   "execution_count": 41,
   "metadata": {},
   "outputs": [],
   "source": [
    "print_object_cols(train)"
   ]
  },
  {
   "cell_type": "code",
   "execution_count": 42,
   "metadata": {},
   "outputs": [
    {
     "name": "stdout",
     "output_type": "stream",
     "text": [
      "Normalizing data...\n"
     ]
    }
   ],
   "source": [
    "print('Normalizing data...')\n",
    "train_scaled = normalize_data(scaler, train.drop(['TransactionID', 'isFraud'], axis=1))\n",
    "train_scaled_df = pd.DataFrame(train_scaled, columns=train.drop(['TransactionID', 'isFraud'], axis=1).columns)\n",
    "train_scaled_df.loc[:, 'TransactionID'] = train['TransactionID']\n",
    "train_scaled_df.loc[:, 'isFraud'] = train['isFraud']"
   ]
  },
  {
   "cell_type": "code",
   "execution_count": 43,
   "metadata": {},
   "outputs": [
    {
     "data": {
      "text/plain": [
       "0"
      ]
     },
     "execution_count": 43,
     "metadata": {},
     "output_type": "execute_result"
    }
   ],
   "source": [
    "gc.collect()"
   ]
  },
  {
   "cell_type": "code",
   "execution_count": 44,
   "metadata": {},
   "outputs": [],
   "source": [
    "del train_final"
   ]
  },
  {
   "cell_type": "code",
   "execution_count": 45,
   "metadata": {},
   "outputs": [],
   "source": [
    "import lightgbm as lgbm"
   ]
  },
  {
   "cell_type": "code",
   "execution_count": 46,
   "metadata": {},
   "outputs": [
    {
     "name": "stdout",
     "output_type": "stream",
     "text": [
      "Creating model...\n"
     ]
    }
   ],
   "source": [
    "print('Creating model...')\n",
    "model = lgbm.LGBMClassifier(boosting_type='gbdt', learning_rate=0.01, reg_alpha=0.00314, reg_lambda=0.07, n_estimators=1000)"
   ]
  },
  {
   "cell_type": "code",
   "execution_count": 47,
   "metadata": {},
   "outputs": [
    {
     "data": {
      "text/plain": [
       "LGBMClassifier(boosting_type='gbdt', class_weight=None, colsample_bytree=1.0,\n",
       "               importance_type='split', learning_rate=0.01, max_depth=-1,\n",
       "               min_child_samples=20, min_child_weight=0.001, min_split_gain=0.0,\n",
       "               n_estimators=1000, n_jobs=-1, num_leaves=31, objective=None,\n",
       "               random_state=None, reg_alpha=0.00314, reg_lambda=0.07,\n",
       "               silent=True, subsample=1.0, subsample_for_bin=200000,\n",
       "               subsample_freq=0)"
      ]
     },
     "execution_count": 47,
     "metadata": {},
     "output_type": "execute_result"
    }
   ],
   "source": [
    "model"
   ]
  },
  {
   "cell_type": "code",
   "execution_count": 48,
   "metadata": {},
   "outputs": [],
   "source": [
    "train_scaled_df.replace({np.inf: 0}, inplace=True)\n",
    "train_scaled_df.fillna(0, inplace=True)"
   ]
  },
  {
   "cell_type": "code",
   "execution_count": 49,
   "metadata": {},
   "outputs": [
    {
     "name": "stdout",
     "output_type": "stream",
     "text": [
      "Training model...\n"
     ]
    },
    {
     "data": {
      "text/plain": [
       "LGBMClassifier(boosting_type='gbdt', class_weight=None, colsample_bytree=1.0,\n",
       "               importance_type='split', learning_rate=0.01, max_depth=-1,\n",
       "               min_child_samples=20, min_child_weight=0.001, min_split_gain=0.0,\n",
       "               n_estimators=1000, n_jobs=-1, num_leaves=31, objective=None,\n",
       "               random_state=None, reg_alpha=0.00314, reg_lambda=0.07,\n",
       "               silent=True, subsample=1.0, subsample_for_bin=200000,\n",
       "               subsample_freq=0)"
      ]
     },
     "execution_count": 49,
     "metadata": {},
     "output_type": "execute_result"
    }
   ],
   "source": [
    "print('Training model...')\n",
    "model.fit(train_scaled_df.drop(['TransactionID', 'isFraud'], axis=1).values, train_scaled_df.isFraud.values)"
   ]
  },
  {
   "cell_type": "code",
   "execution_count": 50,
   "metadata": {},
   "outputs": [
    {
     "data": {
      "text/plain": [
       "46"
      ]
     },
     "execution_count": 50,
     "metadata": {},
     "output_type": "execute_result"
    }
   ],
   "source": [
    "gc.collect()"
   ]
  },
  {
   "cell_type": "code",
   "execution_count": 51,
   "metadata": {},
   "outputs": [],
   "source": [
    "train_cols = train_scaled_df.columns.tolist()\n",
    "del train"
   ]
  },
  {
   "cell_type": "code",
   "execution_count": 52,
   "metadata": {},
   "outputs": [
    {
     "data": {
      "text/plain": [
       "0"
      ]
     },
     "execution_count": 52,
     "metadata": {},
     "output_type": "execute_result"
    }
   ],
   "source": [
    "gc.collect()"
   ]
  },
  {
   "cell_type": "code",
   "execution_count": 53,
   "metadata": {},
   "outputs": [
    {
     "name": "stdout",
     "output_type": "stream",
     "text": [
      "Loading test data...\n",
      "Test data loaded...\n"
     ]
    }
   ],
   "source": [
    "print('Loading test data...')\n",
    "test = pd.read_csv(os.path.join(data_dir_path, 'test_transaction.csv'))\n",
    "print('Test data loaded...')"
   ]
  },
  {
   "cell_type": "code",
   "execution_count": 54,
   "metadata": {},
   "outputs": [
    {
     "name": "stdout",
     "output_type": "stream",
     "text": [
      "Getting test features...\n"
     ]
    }
   ],
   "source": [
    "print('Getting test features...')\n",
    "test_feats = get_features(test)"
   ]
  },
  {
   "cell_type": "code",
   "execution_count": 55,
   "metadata": {},
   "outputs": [
    {
     "name": "stdout",
     "output_type": "stream",
     "text": [
      "Loading Test identity data...\n",
      "Test identity data loaded...\n"
     ]
    }
   ],
   "source": [
    "print('Loading Test identity data...')\n",
    "test_identity = pd.read_csv(os.path.join(data_dir_path, 'test_identity.csv'))\n",
    "tei = test_identity\n",
    "print('Test identity data loaded...')"
   ]
  },
  {
   "cell_type": "code",
   "execution_count": 56,
   "metadata": {},
   "outputs": [
    {
     "name": "stdout",
     "output_type": "stream",
     "text": [
      "Process test identity data...\n",
      "dict_keys(['id_12', 'id_15', 'id_16', 'id_23', 'id_27', 'id_28', 'id_29', 'id_34', 'id_35', 'id_36', 'id_37', 'id_38', 'DeviceType'])\n",
      "id_12\n",
      "id_15\n",
      "id_16\n",
      "id_23\n",
      "id_27\n",
      "id_28\n",
      "id_29\n",
      "id_34\n",
      "id_35\n",
      "id_36\n",
      "id_37\n",
      "id_38\n",
      "DeviceType\n",
      "    get screen ratio...\n",
      "    parsing device info identity...\n",
      "    replacing names...\n",
      "    dropping cols...\n"
     ]
    }
   ],
   "source": [
    "print('Process test identity data...')\n",
    "tei = process_identity_df(tei)"
   ]
  },
  {
   "cell_type": "code",
   "execution_count": 57,
   "metadata": {},
   "outputs": [
    {
     "name": "stdout",
     "output_type": "stream",
     "text": [
      "Merging Test identity data...\n"
     ]
    }
   ],
   "source": [
    "print('Merging Test identity data...')\n",
    "test_final = test.merge(tei, on='TransactionID', how='left', suffixes=('', '_IDENTITY'))\n",
    "del test, tei"
   ]
  },
  {
   "cell_type": "code",
   "execution_count": 58,
   "metadata": {},
   "outputs": [
    {
     "name": "stdout",
     "output_type": "stream",
     "text": [
      "ProductCD_C\n",
      "ProductCD_H\n",
      "ProductCD_R\n",
      "ProductCD_S\n",
      "ProductCD_W\n",
      "card4_american express\n",
      "card4_discover\n",
      "card4_mastercard\n",
      "card4_visa\n",
      "card6_charge card\n",
      "card6_credit\n",
      "card6_debit\n",
      "card6_debit or credit\n",
      "P_emaildomain_aim\n",
      "P_emaildomain_anonymous\n",
      "P_emaildomain_aol\n",
      "P_emaildomain_att\n",
      "P_emaildomain_bellsouth\n",
      "P_emaildomain_cableone\n",
      "P_emaildomain_centurylink\n",
      "P_emaildomain_cfl\n",
      "P_emaildomain_charter\n",
      "P_emaildomain_comcast\n",
      "P_emaildomain_cox\n",
      "P_emaildomain_earthlink\n",
      "P_emaildomain_embarqmail\n",
      "P_emaildomain_frontier\n",
      "P_emaildomain_frontiernet\n",
      "P_emaildomain_gmail\n",
      "P_emaildomain_gmx\n",
      "P_emaildomain_hotmail\n",
      "P_emaildomain_icloud\n",
      "P_emaildomain_juno\n",
      "P_emaildomain_live\n",
      "P_emaildomain_mac\n",
      "P_emaildomain_mail\n",
      "P_emaildomain_me\n",
      "P_emaildomain_msn\n",
      "P_emaildomain_netzero\n",
      "P_emaildomain_optonline\n",
      "P_emaildomain_outlook\n",
      "P_emaildomain_prodigy\n",
      "P_emaildomain_protonmail\n",
      "P_emaildomain_ptd\n",
      "P_emaildomain_q\n",
      "P_emaildomain_roadrunner\n",
      "P_emaildomain_rocketmail\n",
      "P_emaildomain_sbcglobal\n",
      "P_emaildomain_sc\n",
      "P_emaildomain_servicios-ta\n",
      "P_emaildomain_suddenlink\n",
      "P_emaildomain_twc\n",
      "P_emaildomain_unknown\n",
      "P_emaildomain_verizon\n",
      "P_emaildomain_web\n",
      "P_emaildomain_windstream\n",
      "P_emaildomain_yahoo\n",
      "P_emaildomain_ymail\n",
      "R_emaildomain_aim\n",
      "R_emaildomain_anonymous\n",
      "R_emaildomain_aol\n",
      "R_emaildomain_att\n",
      "R_emaildomain_bellsouth\n",
      "R_emaildomain_cableone\n",
      "R_emaildomain_centurylink\n",
      "R_emaildomain_cfl\n",
      "R_emaildomain_charter\n",
      "R_emaildomain_comcast\n",
      "R_emaildomain_cox\n",
      "R_emaildomain_earthlink\n",
      "R_emaildomain_embarqmail\n",
      "R_emaildomain_frontier\n",
      "R_emaildomain_frontiernet\n",
      "R_emaildomain_gmail\n",
      "R_emaildomain_gmx\n",
      "R_emaildomain_hotmail\n",
      "R_emaildomain_icloud\n",
      "R_emaildomain_juno\n",
      "R_emaildomain_live\n",
      "R_emaildomain_mac\n",
      "R_emaildomain_mail\n",
      "R_emaildomain_me\n",
      "R_emaildomain_msn\n",
      "R_emaildomain_netzero\n",
      "R_emaildomain_optonline\n",
      "R_emaildomain_outlook\n",
      "R_emaildomain_prodigy\n",
      "R_emaildomain_protonmail\n",
      "R_emaildomain_ptd\n",
      "R_emaildomain_q\n",
      "R_emaildomain_roadrunner\n",
      "R_emaildomain_rocketmail\n",
      "R_emaildomain_sbcglobal\n",
      "R_emaildomain_sc\n",
      "R_emaildomain_scranton\n",
      "R_emaildomain_servicios-ta\n",
      "R_emaildomain_suddenlink\n",
      "R_emaildomain_twc\n",
      "R_emaildomain_unknown\n",
      "R_emaildomain_verizon\n",
      "R_emaildomain_web\n",
      "R_emaildomain_windstream\n",
      "R_emaildomain_yahoo\n",
      "R_emaildomain_ymail\n",
      "id_31_name_aol\n",
      "id_31_name_blu/dash\n",
      "id_31_name_cherry\n",
      "id_31_name_chromium\n",
      "id_31_name_comodo\n",
      "id_31_name_cyberfox\n",
      "id_31_name_icedragon\n",
      "id_31_name_inco/minion\n",
      "id_31_name_iron\n",
      "id_31_name_lanix/ilium\n",
      "id_31_name_lg/k-200\n",
      "id_31_name_line\n",
      "id_31_name_m4tel/m4\n",
      "id_31_name_maxthon\n",
      "id_31_name_microsoft/windows\n",
      "id_31_name_nokia/lumia\n",
      "id_31_name_puffin\n",
      "id_31_name_seamonkey\n",
      "id_31_name_silk\n",
      "id_31_name_waterfox\n",
      "id_31_name_zte/blade\n",
      "Index(['id_31_name_blackberry', 'id_31_name_rim', 'id_31_name_uc'], dtype='object')\n"
     ]
    }
   ],
   "source": [
    "test_cols_df = align_cols(train_cols, test_final, ['isFraud'])"
   ]
  },
  {
   "cell_type": "code",
   "execution_count": 59,
   "metadata": {},
   "outputs": [
    {
     "data": {
      "text/plain": [
       "Index(['ProductCD_C', 'ProductCD_H', 'ProductCD_R', 'ProductCD_S',\n",
       "       'ProductCD_W', 'card4_american express', 'card4_discover',\n",
       "       'card4_mastercard', 'card4_visa', 'card6_charge card',\n",
       "       ...\n",
       "       'id_36', 'id_37', 'id_38', 'DeviceType', 'id_33_w', 'id_33_h',\n",
       "       'id_33_ratio', 'id_30_version', 'id_31_version', 'TransactionID'],\n",
       "      dtype='object', length=576)"
      ]
     },
     "execution_count": 59,
     "metadata": {},
     "output_type": "execute_result"
    }
   ],
   "source": [
    "test_cols_df.columns"
   ]
  },
  {
   "cell_type": "code",
   "execution_count": 60,
   "metadata": {},
   "outputs": [
    {
     "data": {
      "text/plain": [
       "Index([], dtype='object')"
      ]
     },
     "execution_count": 60,
     "metadata": {},
     "output_type": "execute_result"
    }
   ],
   "source": [
    "test_cols_df.columns[~test_cols_df.columns.isin(train_cols)]"
   ]
  },
  {
   "cell_type": "code",
   "execution_count": 61,
   "metadata": {},
   "outputs": [],
   "source": [
    "# test = scaler.transform(test_cols_df.drop(['TransactionID'], axis=1))"
   ]
  },
  {
   "cell_type": "code",
   "execution_count": 62,
   "metadata": {},
   "outputs": [
    {
     "name": "stdout",
     "output_type": "stream",
     "text": [
      "Doing predictions...\n",
      "File saved...\n"
     ]
    }
   ],
   "source": [
    "print('Doing predictions...')\n",
    "all_preds = []\n",
    "start_i = 0\n",
    "end_i = 10000\n",
    "for i in range(0, test_cols_df.shape[0], 10000):\n",
    "    start_i = i\n",
    "    end_i = min(start_i + 10000, test_cols_df.shape[0])\n",
    "    preds = model.predict_proba(scaler.transform(test_cols_df.drop('TransactionID', axis=1).iloc[start_i: end_i].values))[:, 1]\n",
    "    all_preds.extend(preds)\n",
    "probs_df = pd.DataFrame(all_preds, columns=['isFraud'])\n",
    "probs_df.loc[:, 'TransactionID'] = test_cols_df['TransactionID']\n",
    "probs_df[['TransactionID', 'isFraud']].to_csv('test_submission.csv', index=False)\n",
    "print('File saved...')"
   ]
  },
  {
   "cell_type": "code",
   "execution_count": null,
   "metadata": {},
   "outputs": [],
   "source": []
  }
 ],
 "metadata": {
  "kernelspec": {
   "display_name": "Python 3",
   "language": "python",
   "name": "python3"
  },
  "language_info": {
   "codemirror_mode": {
    "name": "ipython",
    "version": 3
   },
   "file_extension": ".py",
   "mimetype": "text/x-python",
   "name": "python",
   "nbconvert_exporter": "python",
   "pygments_lexer": "ipython3",
   "version": "3.6.6"
  }
 },
 "nbformat": 4,
 "nbformat_minor": 1
}
