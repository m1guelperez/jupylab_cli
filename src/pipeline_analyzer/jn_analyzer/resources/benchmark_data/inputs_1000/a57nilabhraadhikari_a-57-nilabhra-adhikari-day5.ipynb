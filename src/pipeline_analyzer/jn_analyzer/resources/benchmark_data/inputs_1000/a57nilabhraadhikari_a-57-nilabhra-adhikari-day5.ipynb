{
 "cells": [
  {
   "cell_type": "code",
   "execution_count": 1,
   "metadata": {
    "execution": {
     "iopub.execute_input": "2020-08-31T09:28:02.709585Z",
     "iopub.status.busy": "2020-08-31T09:28:02.708588Z",
     "iopub.status.idle": "2020-08-31T09:28:02.724288Z",
     "shell.execute_reply": "2020-08-31T09:28:02.723575Z"
    },
    "papermill": {
     "duration": 0.052209,
     "end_time": "2020-08-31T09:28:02.724442",
     "exception": false,
     "start_time": "2020-08-31T09:28:02.672233",
     "status": "completed"
    },
    "tags": []
   },
   "outputs": [
    {
     "name": "stdout",
     "output_type": "stream",
     "text": [
      "\n",
      "Keys of Iris dataset:\n",
      "Index(['Id', 'SepalLengthCm', 'SepalWidthCm', 'PetalLengthCm', 'PetalWidthCm',\n",
      "       'Species'],\n",
      "      dtype='object')\n",
      "\n",
      "Number of rows and columns of Iris dataset:\n",
      "(150, 6)\n"
     ]
    }
   ],
   "source": [
    "#Write a Python program using Scikit-learn to print the keys, number of rows-columns, feature names and the description of the Iris data.\n",
    "import pandas as pd\n",
    "iris_data = pd.read_csv(\"../input/iriscsv/Iris.csv\")\n",
    "print(\"\\nKeys of Iris dataset:\")\n",
    "print(iris_data.keys())\n",
    "print(\"\\nNumber of rows and columns of Iris dataset:\")\n",
    "print(iris_data.shape) "
   ]
  },
  {
   "cell_type": "code",
   "execution_count": 2,
   "metadata": {
    "execution": {
     "iopub.execute_input": "2020-08-31T09:28:02.745022Z",
     "iopub.status.busy": "2020-08-31T09:28:02.743737Z",
     "iopub.status.idle": "2020-08-31T09:28:02.771443Z",
     "shell.execute_reply": "2020-08-31T09:28:02.770596Z"
    },
    "papermill": {
     "duration": 0.040974,
     "end_time": "2020-08-31T09:28:02.771595",
     "exception": false,
     "start_time": "2020-08-31T09:28:02.730621",
     "status": "completed"
    },
    "tags": []
   },
   "outputs": [
    {
     "name": "stdout",
     "output_type": "stream",
     "text": [
      "<class 'pandas.core.frame.DataFrame'>\n",
      "RangeIndex: 150 entries, 0 to 149\n",
      "Data columns (total 6 columns):\n",
      " #   Column         Non-Null Count  Dtype  \n",
      "---  ------         --------------  -----  \n",
      " 0   Id             150 non-null    int64  \n",
      " 1   SepalLengthCm  150 non-null    float64\n",
      " 2   SepalWidthCm   150 non-null    float64\n",
      " 3   PetalLengthCm  150 non-null    float64\n",
      " 4   PetalWidthCm   150 non-null    float64\n",
      " 5   Species        150 non-null    object \n",
      "dtypes: float64(4), int64(1), object(1)\n",
      "memory usage: 7.2+ KB\n",
      "None\n"
     ]
    }
   ],
   "source": [
    "# Write a Python program to get the number of observations, missing values and nan values.\n",
    "import pandas as pd\n",
    "iris = pd.read_csv(\"../input/iriscsv/Iris.csv\")\n",
    "print(iris.info())"
   ]
  },
  {
   "cell_type": "code",
   "execution_count": 3,
   "metadata": {
    "execution": {
     "iopub.execute_input": "2020-08-31T09:28:02.792087Z",
     "iopub.status.busy": "2020-08-31T09:28:02.791236Z",
     "iopub.status.idle": "2020-08-31T09:28:03.042764Z",
     "shell.execute_reply": "2020-08-31T09:28:03.041941Z"
    },
    "papermill": {
     "duration": 0.26502,
     "end_time": "2020-08-31T09:28:03.042948",
     "exception": false,
     "start_time": "2020-08-31T09:28:02.777928",
     "status": "completed"
    },
    "tags": []
   },
   "outputs": [
    {
     "name": "stdout",
     "output_type": "stream",
     "text": [
      "NumPy array:\n",
      " [[1. 0. 0. 0.]\n",
      " [0. 1. 0. 0.]\n",
      " [0. 0. 1. 0.]\n",
      " [0. 0. 0. 1.]]\n",
      "\n",
      "SciPy sparse CSR matrix:\n",
      "   (0, 0)\t1.0\n",
      "  (1, 1)\t1.0\n",
      "  (2, 2)\t1.0\n",
      "  (3, 3)\t1.0\n"
     ]
    }
   ],
   "source": [
    "#Write a Python program to create a 2-D array with ones on the diagonal and zeros elsewhere.\n",
    "import numpy as np\n",
    "from scipy import sparse\n",
    "eye = np.eye(4)\n",
    "print(\"NumPy array:\\n\", eye)\n",
    "sparse_matrix = sparse.csr_matrix(eye)\n",
    "print(\"\\nSciPy sparse CSR matrix:\\n\", sparse_matrix)"
   ]
  },
  {
   "cell_type": "code",
   "execution_count": 4,
   "metadata": {
    "_cell_guid": "79c7e3d0-c299-4dcb-8224-4455121ee9b0",
    "_uuid": "d629ff2d2480ee46fbb7e2d37f6b5fab8052498a",
    "execution": {
     "iopub.execute_input": "2020-08-31T09:28:03.066947Z",
     "iopub.status.busy": "2020-08-31T09:28:03.066137Z",
     "iopub.status.idle": "2020-08-31T09:28:03.082499Z",
     "shell.execute_reply": "2020-08-31T09:28:03.081759Z"
    },
    "papermill": {
     "duration": 0.032599,
     "end_time": "2020-08-31T09:28:03.082637",
     "exception": false,
     "start_time": "2020-08-31T09:28:03.050038",
     "status": "completed"
    },
    "tags": []
   },
   "outputs": [
    {
     "name": "stdout",
     "output_type": "stream",
     "text": [
      "Shape of the data:\n",
      "(150, 6)\n",
      "\n",
      "Data Type:\n",
      "<class 'pandas.core.frame.DataFrame'>\n",
      "\n",
      "First 3 rows:\n",
      "   Id  SepalLengthCm  SepalWidthCm  PetalLengthCm  PetalWidthCm      Species\n",
      "0   1            5.1           3.5            1.4           0.2  Iris-setosa\n",
      "1   2            4.9           3.0            1.4           0.2  Iris-setosa\n",
      "2   3            4.7           3.2            1.3           0.2  Iris-setosa\n"
     ]
    }
   ],
   "source": [
    "#Write a Python program to load the iris data from a given csv file into a dataframe and print the shape of the data, type of the data and first 3 rows.\n",
    "import pandas as pd\n",
    "data = pd.read_csv(\"../input/iriscsv/Iris.csv\")\n",
    "print(\"Shape of the data:\")\n",
    "print(data.shape)\n",
    "print(\"\\nData Type:\")\n",
    "print(type(data))\n",
    "print(\"\\nFirst 3 rows:\")\n",
    "print(data.head(3))"
   ]
  }
 ],
 "metadata": {
  "kernelspec": {
   "display_name": "Python 3",
   "language": "python",
   "name": "python3"
  },
  "language_info": {
   "codemirror_mode": {
    "name": "ipython",
    "version": 3
   },
   "file_extension": ".py",
   "mimetype": "text/x-python",
   "name": "python",
   "nbconvert_exporter": "python",
   "pygments_lexer": "ipython3",
   "version": "3.7.6"
  },
  "papermill": {
   "duration": 5.800013,
   "end_time": "2020-08-31T09:28:03.200350",
   "environment_variables": {},
   "exception": null,
   "input_path": "__notebook__.ipynb",
   "output_path": "__notebook__.ipynb",
   "parameters": {},
   "start_time": "2020-08-31T09:27:57.400337",
   "version": "2.1.0"
  }
 },
 "nbformat": 4,
 "nbformat_minor": 4
}
