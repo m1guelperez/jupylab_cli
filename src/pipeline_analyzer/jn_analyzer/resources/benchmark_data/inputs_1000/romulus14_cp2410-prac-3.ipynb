{
 "cells": [
  {
   "cell_type": "code",
   "execution_count": 1,
   "metadata": {
    "_cell_guid": "b1076dfc-b9ad-4769-8c92-a6c4dae69d19",
    "_uuid": "8f2839f25d086af736a60e9eeb907d3b93b6e0e5"
   },
   "outputs": [
    {
     "name": "stdout",
     "output_type": "stream",
     "text": [
      "[]\n"
     ]
    }
   ],
   "source": [
    "# This Python 3 environment comes with many helpful analytics libraries installed\n",
    "# It is defined by the kaggle/python docker image: https://github.com/kaggle/docker-python\n",
    "# For example, here's several helpful packages to load in \n",
    "\n",
    "import numpy as np # linear algebra\n",
    "import pandas as pd # data processing, CSV file I/O (e.g. pd.read_csv)\n",
    "\n",
    "# Input data files are available in the \"../input/\" directory.\n",
    "# For example, running this (by clicking run or pressing Shift+Enter) will list the files in the input directory\n",
    "\n",
    "import os\n",
    "print(os.listdir(\"../input\"))\n",
    "\n",
    "# Any results you write to the current directory are saved as output."
   ]
  },
  {
   "cell_type": "markdown",
   "metadata": {},
   "source": [
    "**(R-4.1) Describe a recursive algorithm for finding the maximum element in a sequence, S, of n\n",
    "elements. What is your running time and space usage?**"
   ]
  },
  {
   "cell_type": "code",
   "execution_count": 2,
   "metadata": {},
   "outputs": [],
   "source": [
    "def MaxNum(s,n):\n",
    "    for i in range(0,n):\n",
    "        N=s(i)\n",
    "        if n.ismax(s):\n",
    "            print(\"{} is max\".format(N))\n",
    "        else :\n",
    "          MaxNum(s,n)\n",
    "        \n",
    "\n"
   ]
  },
  {
   "cell_type": "markdown",
   "metadata": {},
   "source": [
    "**2. (R-4.2) Draw the recursion trace for the computation of power(2,5), using the traditional function\n",
    "implemented below:**"
   ]
  },
  {
   "cell_type": "code",
   "execution_count": 3,
   "metadata": {},
   "outputs": [
    {
     "ename": "IndentationError",
     "evalue": "expected an indented block (<ipython-input-3-79ab4eb555de>, line 4)",
     "output_type": "error",
     "traceback": [
      "\u001b[0;36m  File \u001b[0;32m\"<ipython-input-3-79ab4eb555de>\"\u001b[0;36m, line \u001b[0;32m4\u001b[0m\n\u001b[0;31m    return 1\u001b[0m\n\u001b[0m         ^\u001b[0m\n\u001b[0;31mIndentationError\u001b[0m\u001b[0;31m:\u001b[0m expected an indented block\n"
     ]
    }
   ],
   "source": [
    "def power(x, n):\n",
    "# \"\"\"Compute the value x**n for integer n.\"\"\"\n",
    "    if n == 0 :\n",
    "    return 1\n",
    "    else :\n",
    "    return x * power(x, n - 1 )"
   ]
  },
  {
   "cell_type": "markdown",
   "metadata": {},
   "source": [
    "If power(2,5) with the function being defined as \n",
    "\n",
    "    \n",
    "\\\\(Power(2,5)=>power(2,4)=>power(2,3)=>power(2,2)=>power(2,1)=>power(2,0)\\\\)\n",
    "\n",
    "\n",
    "\\\\(2*5=10,         2*4=8,             2*3=6,            2*2=4,           2*1=2,            1\\\\)\n"
   ]
  },
  {
   "cell_type": "markdown",
   "metadata": {},
   "source": [
    "**(R-4.3) Draw the recursion trace for the computation of power(2,18), using the repeated squaring\n",
    "algorithm, as implemented below:**"
   ]
  },
  {
   "cell_type": "code",
   "execution_count": 4,
   "metadata": {},
   "outputs": [],
   "source": [
    "def power(x, n):\n",
    "# \"\"\"Compute the value x**n for integer n.\"\"\"\n",
    "    if n == 0:\n",
    "        return 1\n",
    "    else:\n",
    "        partial = power(x, n // 2 ) # rely on truncated division\n",
    "        result = partial * partial\n",
    "    if n % 2 == 1: # if n odd, include extra factor of x\n",
    "        result *= x\n",
    "        return result"
   ]
  },
  {
   "cell_type": "markdown",
   "metadata": {},
   "source": [
    "\\\\(Power(2,18)=> Power(2,9)=> Power(2,4)=> Power(2,2)=> Power(2,1)=> Power(2,1)\\\\)\n",
    "\\\\(512*512=262144, 16*16*2=8,4*4=16,2*2=4,1*1*2=2,1\\\\)\n"
   ]
  },
  {
   "cell_type": "markdown",
   "metadata": {},
   "source": [
    "**(C-4.12) Give a recursive algorithm to compute the product of two positive integers, m and n, using\n",
    "only addition and subtraction.**"
   ]
  },
  {
   "cell_type": "code",
   "execution_count": 5,
   "metadata": {},
   "outputs": [],
   "source": [
    "def product(m,n):\n",
    "    if n ==1:\n",
    "        return m\n",
    "    else:\n",
    "        m += product(m,n) \n",
    "        return m\n"
   ]
  },
  {
   "cell_type": "markdown",
   "metadata": {},
   "source": [
    "**Q5. Modify ch05/experiment_list_append.py to investigate the time taken by append operations for\n",
    "DynamicArray (ch05/dynamic_array.py).**"
   ]
  },
  {
   "cell_type": "code",
   "execution_count": 6,
   "metadata": {},
   "outputs": [
    {
     "ename": "ModuleNotFoundError",
     "evalue": "No module named 'dynamic_array'",
     "output_type": "error",
     "traceback": [
      "\u001b[0;31m---------------------------------------------------------------------------\u001b[0m",
      "\u001b[0;31mModuleNotFoundError\u001b[0m                       Traceback (most recent call last)",
      "\u001b[0;32m<ipython-input-6-f0e47712dfae>\u001b[0m in \u001b[0;36m<module>\u001b[0;34m()\u001b[0m\n\u001b[1;32m      1\u001b[0m \u001b[0;32mimport\u001b[0m \u001b[0msys\u001b[0m\u001b[0;34m\u001b[0m\u001b[0m\n\u001b[1;32m      2\u001b[0m \u001b[0;32mfrom\u001b[0m \u001b[0mtime\u001b[0m \u001b[0;32mimport\u001b[0m \u001b[0mtime\u001b[0m\u001b[0;34m\u001b[0m\u001b[0m\n\u001b[0;32m----> 3\u001b[0;31m \u001b[0;32mfrom\u001b[0m \u001b[0mdynamic_array\u001b[0m \u001b[0;32mimport\u001b[0m \u001b[0mDynamicArray\u001b[0m\u001b[0;34m\u001b[0m\u001b[0m\n\u001b[0m\u001b[1;32m      4\u001b[0m \u001b[0;32mtry\u001b[0m \u001b[0;34m:\u001b[0m\u001b[0;34m\u001b[0m\u001b[0m\n\u001b[1;32m      5\u001b[0m     \u001b[0mmaxN\u001b[0m \u001b[0;34m=\u001b[0m \u001b[0mint\u001b[0m\u001b[0;34m(\u001b[0m\u001b[0msys\u001b[0m\u001b[0;34m.\u001b[0m\u001b[0margv\u001b[0m\u001b[0;34m[\u001b[0m \u001b[0;36m1\u001b[0m \u001b[0;34m]\u001b[0m\u001b[0;34m)\u001b[0m\u001b[0;34m\u001b[0m\u001b[0m\n",
      "\u001b[0;31mModuleNotFoundError\u001b[0m: No module named 'dynamic_array'"
     ]
    }
   ],
   "source": [
    "import sys\n",
    "from time import time\n",
    "from dynamic_array import DynamicArray\n",
    "try :\n",
    "    maxN = int(sys.argv[ 1 ])\n",
    "except :\n",
    "    maxN = 10000000\n",
    "from time import time # import time function from time module\n",
    "def compute_average(n):\n",
    "#     \"\"\"Perform n appends to an empty list and return average time elapsed.\"\"\"\n",
    "    data = DynamicArray()\n",
    "    start = time() # record the start time (in seconds)\n",
    "    for k in range(n):\n",
    "        data.append( None )\n",
    "        end = time() # record the end time (in seconds)\n",
    "        return (end - start) / n # compute average per operation\n",
    "        n = 10\n",
    "        while n <= maxN:\n",
    "            print( 'Average of {0:.3f} for n {1}' .format(compute_average(n) * 1000000 , n))\n",
    "            n *= 10"
   ]
  },
  {
   "cell_type": "markdown",
   "metadata": {},
   "source": [
    "**Q6. Create a modified version of DynamicArray (ch05/dyanmic_array.py) that takes a parameter,\n",
    "resize_factor, which it uses to determine the new size (rather than doubling in the original code -\n",
    "self._resize(2 * self._capacity) ). Using different values of resize_factor, examine if and\n",
    "how the average time to append changes.**"
   ]
  }
 ],
 "metadata": {
  "kernelspec": {
   "display_name": "Python 3",
   "language": "python",
   "name": "python3"
  },
  "language_info": {
   "codemirror_mode": {
    "name": "ipython",
    "version": 3
   },
   "file_extension": ".py",
   "mimetype": "text/x-python",
   "name": "python",
   "nbconvert_exporter": "python",
   "pygments_lexer": "ipython3",
   "version": "3.6.4"
  }
 },
 "nbformat": 4,
 "nbformat_minor": 1
}
