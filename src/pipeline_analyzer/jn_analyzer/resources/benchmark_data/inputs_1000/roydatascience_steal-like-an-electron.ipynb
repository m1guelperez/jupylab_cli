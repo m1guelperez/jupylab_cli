{
 "cells": [
  {
   "cell_type": "markdown",
   "metadata": {},
   "source": [
    "# Blending some of the top Kernels"
   ]
  },
  {
   "cell_type": "markdown",
   "metadata": {},
   "source": [
    "More Blending inspired from Giba's Kernel: [https://www.kaggle.com/titericz/blend-or-not-to-blend-that-is-the-question].\n",
    "\n",
    "\n",
    "I grabbed output submissions files from following public kernels:\n",
    "\n",
    "- https://www.kaggle.com/titericz/giba-r-data-table-simple-features-1-17-lb\n",
    "- https://www.kaggle.com/todnewman/keras-neural-net-for-champs\n",
    "- https://www.kaggle.com/scaomath/no-memory-reduction-workflow-for-each-type-lb-1-28\n",
    "- https://www.kaggle.com/vicensgaitan/giba-r-data-table-simplefeat-cyv-interaction"
   ]
  },
  {
   "cell_type": "code",
   "execution_count": 1,
   "metadata": {
    "_cell_guid": "b1076dfc-b9ad-4769-8c92-a6c4dae69d19",
    "_uuid": "8f2839f25d086af736a60e9eeb907d3b93b6e0e5"
   },
   "outputs": [
    {
     "name": "stdout",
     "output_type": "stream",
     "text": [
      "['giba-r-data-table-simplefeat-cyv-interaction', 'keras-neural-net-for-champs', 'giba-r-data-table-simple-features-1-17-lb', 'no-memory-reduction-workflow-for-each-type-lb-1-28', 'lgb-giba-features-qm9-custom-objective-in-python', 'champs-scalar-coupling']\n",
      "['LGB_2019-07-18_-1.2243.csv', '__output__.json', '__notebook__.ipynb', '__results__.html', 'custom.css']\n"
     ]
    }
   ],
   "source": [
    "#loading packages\n",
    "import numpy as np # linear algebra\n",
    "import pandas as pd # data processing, CSV file I/O (e.g. pd.read_csv)\n",
    "import os\n",
    "print(os.listdir(\"../input\"))\n",
    "print(os.listdir(\"../input/no-memory-reduction-workflow-for-each-type-lb-1-28\"))"
   ]
  },
  {
   "cell_type": "code",
   "execution_count": 2,
   "metadata": {},
   "outputs": [
    {
     "name": "stdout",
     "output_type": "stream",
     "text": [
      "count    2.505542e+06\n",
      "mean     1.588675e+01\n",
      "std      3.485679e+01\n",
      "min     -3.224456e+01\n",
      "25%     -2.086306e-01\n",
      "50%      2.305326e+00\n",
      "75%      7.255698e+00\n",
      "max      2.032142e+02\n",
      "Name: scalar_coupling_constant, dtype: float64\n",
      "count    2.505542e+06\n",
      "mean     1.587349e+01\n",
      "std      3.482888e+01\n",
      "min     -3.230405e+01\n",
      "25%     -2.472747e-01\n",
      "50%      2.277905e+00\n",
      "75%      7.360947e+00\n",
      "max      2.032168e+02\n",
      "Name: scalar_coupling_constant, dtype: float64\n",
      "count    2.505542e+06\n",
      "mean     1.588276e+01\n",
      "std      3.485652e+01\n",
      "min     -2.871717e+01\n",
      "25%     -2.153762e-01\n",
      "50%      2.306064e+00\n",
      "75%      7.256915e+00\n",
      "max      2.030659e+02\n",
      "Name: scalar_coupling_constant, dtype: float64\n",
      "count    2.505542e+06\n",
      "mean     1.588286e+01\n",
      "std      3.485328e+01\n",
      "min     -2.596652e+01\n",
      "25%     -2.057515e-01\n",
      "50%      2.307496e+00\n",
      "75%      7.243305e+00\n",
      "max      2.041965e+02\n",
      "Name: scalar_coupling_constant, dtype: float64\n"
     ]
    }
   ],
   "source": [
    "#reading all submission files\n",
    "sub1 = pd.read_csv('../input/giba-r-data-table-simple-features-1-17-lb/submission-giba-1.csv')\n",
    "sub2 = pd.read_csv('../input/keras-neural-net-for-champs/workingsubmission-test.csv')\n",
    "sub3 = pd.read_csv('../input/no-memory-reduction-workflow-for-each-type-lb-1-28/LGB_2019-07-18_-1.2243.csv')\n",
    "sub4 = pd.read_csv('../input/giba-r-data-table-simplefeat-cyv-interaction/submission-2.csv')\n",
    "print( sub1['scalar_coupling_constant'].describe() )\n",
    "print( sub2['scalar_coupling_constant'].describe() )\n",
    "print( sub3['scalar_coupling_constant'].describe() )\n",
    "print( sub4['scalar_coupling_constant'].describe() )"
   ]
  },
  {
   "cell_type": "code",
   "execution_count": 3,
   "metadata": {},
   "outputs": [],
   "source": [
    "# Random weights to each submission by trying and experimenting\n",
    "sub1['scalar_coupling_constant'] = 0.25*sub1['scalar_coupling_constant'] + 0.2*sub2['scalar_coupling_constant'] + 0.3*sub3['scalar_coupling_constant'] + 0.25*sub4['scalar_coupling_constant']\n",
    "sub1.to_csv('submission.csv', index=False )"
   ]
  },
  {
   "cell_type": "code",
   "execution_count": 4,
   "metadata": {},
   "outputs": [
    {
     "data": {
      "text/plain": [
       "<matplotlib.axes._subplots.AxesSubplot at 0x7fcb21a45470>"
      ]
     },
     "execution_count": 4,
     "metadata": {},
     "output_type": "execute_result"
    },
    {
     "data": {
      "image/png": "[encoded data removed]",
      "text/plain": [
       "<Figure size 432x288 with 1 Axes>"
      ]
     },
     "metadata": {
      "needs_background": "light"
     },
     "output_type": "display_data"
    }
   ],
   "source": [
    "#plotting histogram\n",
    "sub1['scalar_coupling_constant'].plot('hist', bins=100)"
   ]
  }
 ],
 "metadata": {
  "kernelspec": {
   "display_name": "Python 3",
   "language": "python",
   "name": "python3"
  },
  "language_info": {
   "codemirror_mode": {
    "name": "ipython",
    "version": 3
   },
   "file_extension": ".py",
   "mimetype": "text/x-python",
   "name": "python",
   "nbconvert_exporter": "python",
   "pygments_lexer": "ipython3",
   "version": "3.6.6"
  }
 },
 "nbformat": 4,
 "nbformat_minor": 1
}
