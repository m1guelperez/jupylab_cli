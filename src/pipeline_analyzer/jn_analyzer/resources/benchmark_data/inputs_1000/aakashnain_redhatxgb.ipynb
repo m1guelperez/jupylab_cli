{
 "cells": [
  {
   "cell_type": "markdown",
   "metadata": {
    "_cell_guid": "3c2353a2-711a-8ea7-527d-6b2b8fe5882c"
   },
   "source": [
    "One more try with xgboost"
   ]
  },
  {
   "cell_type": "code",
   "execution_count": 1,
   "metadata": {
    "_cell_guid": "072e4a41-2b57-c020-052c-f60c443c0d24"
   },
   "outputs": [
    {
     "name": "stderr",
     "output_type": "stream",
     "text": [
      "/opt/conda/lib/python3.5/site-packages/sklearn/cross_validation.py:43: DeprecationWarning: This module was deprecated in version 0.18 in favor of the model_selection module into which all the refactored classes and functions are moved. Also note that the interface of the new CV iterators are different from that of this module. This module will be removed in 0.20.\n",
      "  \"This module will be removed in 0.20.\", DeprecationWarning)\n"
     ]
    }
   ],
   "source": [
    "# This Python 3 environment comes with many helpful analytics libraries installed\n",
    "# It is defined by the kaggle/python docker image: https://github.com/kaggle/docker-python\n",
    "# For example, here's several helpful packages to load in \n",
    "\n",
    "import numpy as np # linear algebra\n",
    "import pandas as pd # data processing, CSV file I/O (e.g. pd.read_csv)\n",
    "import xgboost as xgb\n",
    "# Input data files are available in the \"../input/\" directory.\n",
    "# For example, running this (by clicking run or pressing Shift+Enter) will list the files in the input directory\n",
    "\n",
    "#from subprocess import check_output\n",
    "#print(check_output([\"ls\", \"../input\"]).decode(\"utf8\"))\n",
    "\n",
    "# Any results you write to the current directory are saved as output."
   ]
  },
  {
   "cell_type": "code",
   "execution_count": 2,
   "metadata": {
    "_cell_guid": "7276a2f8-fd8b-9d14-d566-7825e1b508ae"
   },
   "outputs": [],
   "source": [
    "from sklearn.cross_validation import train_test_split\n",
    "from sklearn.ensemble import RandomForestClassifier\n",
    "from sklearn.metrics import accuracy_score,roc_auc_score\n",
    "\n",
    "def cleanPeople(people):\n",
    "    \n",
    "    people = people.drop(['date'],axis=1)\n",
    "    people['people_id'] = people['people_id'].apply(lambda x : x.split('_')[1])\n",
    "    people['people_id'] = pd.to_numeric(people['people_id']).astype(int)\n",
    "    \n",
    "    fields = list(people.columns)\n",
    "    cat_data = fields[1:11]\n",
    "    bool_data = fields[11:]\n",
    "    \n",
    "    for data in cat_data:\n",
    "        people[data] = people[data].fillna('type 0')\n",
    "        people[data] = people[data].apply(lambda x: x.split(' ')[1])\n",
    "        people[data] = pd.to_numeric(people[data]).astype(int)\n",
    "    \n",
    "    for data in bool_data:\n",
    "        people[data] = pd.to_numeric(people[data]).astype(int)\n",
    "        \n",
    "    \n",
    "    return people\n",
    "\n",
    "def cleanAct(data, train=False):\n",
    "    \n",
    "    data = data.drop(['date'],axis = 1)\n",
    "    if train:\n",
    "        data = data.drop(['outcome'],axis=1)\n",
    "        \n",
    "    data['people_id'] = data['people_id'].apply(lambda x : x.split('_')[1])\n",
    "    data['people_id'] = pd.to_numeric(data['people_id']).astype(int)\n",
    "    \n",
    "    data['activity_id'] = data['activity_id'].apply(lambda x: x.split('_')[1])\n",
    "    data['activity_id'] = pd.to_numeric(data['activity_id']).astype(int)\n",
    "    \n",
    "    fields = list(data.columns)\n",
    "    cat_data = fields[2:13]\n",
    "    \n",
    "    for column in cat_data:\n",
    "        data[column] = data[column].fillna('type 0')\n",
    "        data[column] = data[column].apply(lambda x : x.split(' ')[1])\n",
    "        data[column] = pd.to_numeric(data[column]).astype(int)\n",
    "     \n",
    "    return data    \n",
    "\n",
    "\n",
    "\n",
    "people = pd.read_csv(\"../input/people.csv\")\n",
    "people = cleanPeople(people)\n",
    "\n",
    "act_train = pd.read_csv(\"../input/act_train.csv\",parse_dates=['date'])\n",
    "act_train_cleaned = cleanAct(act_train,train=True)\n",
    "\n",
    "act_test = pd.read_csv(\"../input/act_test.csv\",parse_dates=['date'])\n",
    "act_test_cleaned = cleanAct(act_test)\n",
    "\n",
    "\n",
    "\n",
    "\n",
    "train = act_train_cleaned.merge(people,on='people_id', how='left')\n",
    "test = act_test_cleaned.merge(people, on='people_id', how='left')\n",
    "\n",
    "\n",
    "\n",
    "train = train.drop(['people_id'],axis=1)\n",
    "train = train.drop(['activity_id'],axis=1)\n",
    "\n",
    "\n",
    "test = test.drop(['people_id','activity_id'],axis=1)\n",
    "\n",
    "\n",
    "output = act_train['outcome']\n",
    "\n",
    "X_train, X_test, y_train, y_test = train_test_split(train,output, test_size=0.2, random_state =7)"
   ]
  },
  {
   "cell_type": "code",
   "execution_count": 3,
   "metadata": {
    "_cell_guid": "2932f1de-3d4d-3183-4300-38fa69a4d8a6"
   },
   "outputs": [],
   "source": [
    "model = xgb.XGBClassifier(max_depth=8,n_estimators=500,learning_rate=0.1,objective='binary:logistic',seed =7,reg_lambda=1)"
   ]
  },
  {
   "cell_type": "code",
   "execution_count": 4,
   "metadata": {
    "_cell_guid": "aeb2ad34-311e-0a31-3ba9-0da92e41101a"
   },
   "outputs": [
    {
     "data": {
      "text/plain": [
       "XGBClassifier(base_score=0.5, colsample_bylevel=1, colsample_bytree=1,\n",
       "       gamma=0, learning_rate=0.1, max_delta_step=0, max_depth=8,\n",
       "       min_child_weight=1, missing=None, n_estimators=500, nthread=-1,\n",
       "       objective='binary:logistic', reg_alpha=0, reg_lambda=1,\n",
       "       scale_pos_weight=1, seed=7, silent=True, subsample=1)"
      ]
     },
     "execution_count": 4,
     "metadata": {},
     "output_type": "execute_result"
    }
   ],
   "source": [
    "model.fit(X_train,y_train)"
   ]
  },
  {
   "cell_type": "code",
   "execution_count": 5,
   "metadata": {
    "_cell_guid": "d998a5ec-df4c-2c5d-36be-4a3774d5258c"
   },
   "outputs": [
    {
     "name": "stdout",
     "output_type": "stream",
     "text": [
      "0.992668154296\n"
     ]
    }
   ],
   "source": [
    "results = model.predict_proba(X_test)\n",
    "s = results[:,1]\n",
    "score = roc_auc_score(y_test,s)\n",
    "print(score)"
   ]
  },
  {
   "cell_type": "code",
   "execution_count": 6,
   "metadata": {
    "_cell_guid": "7f2d8c4a-c7a8-5a7c-abd8-dc85eeffa82d"
   },
   "outputs": [],
   "source": [
    "results = model.predict_proba(test)\n",
    "s = results[:,1]\n",
    "activity = act_test['activity_id']\n",
    "\n",
    "result = pd.DataFrame({'activity_id': activity, 'outcome': s})\n",
    "result.to_csv(\"Result.csv\",index=False)"
   ]
  },
  {
   "cell_type": "code",
   "execution_count": 7,
   "metadata": {
    "_cell_guid": "b8833034-f7f9-8217-ba68-5df505128e7d"
   },
   "outputs": [],
   "source": []
  }
 ],
 "metadata": {
  "_change_revision": 38,
  "_is_fork": false,
  "kernelspec": {
   "display_name": "Python 3",
   "language": "python",
   "name": "python3"
  },
  "language_info": {
   "codemirror_mode": {
    "name": "ipython",
    "version": 3
   },
   "file_extension": ".py",
   "mimetype": "text/x-python",
   "name": "python",
   "nbconvert_exporter": "python",
   "pygments_lexer": "ipython3",
   "version": "3.5.2"
  }
 },
 "nbformat": 4,
 "nbformat_minor": 0
}
