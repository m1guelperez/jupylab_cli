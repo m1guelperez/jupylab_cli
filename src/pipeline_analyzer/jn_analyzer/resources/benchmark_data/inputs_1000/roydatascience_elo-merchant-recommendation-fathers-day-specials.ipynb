{
 "cells": [
  {
   "cell_type": "markdown",
   "execution_count": null,
   "metadata": {
    "_uuid": "1dee50e02ba20b8aabe9775e0f8b19c40e1bcff8"
   },
   "source": [
    "This is my revised kernel inspired by Chau Ngoc Huynh's kernel (3.699) and Panchajanya Banerjee's idea to include the holidays.\n",
    "\n",
    "Adding these special days to the model, improved the model efficiency.\n",
    "\n",
    "I am adding some new dates - that influence shopping season across Brazil. \n",
    "(Reference : http://thebrazilbusiness.com/article/shopping-seasons-in-brazil)\n",
    "\n",
    "For 2017-18\n",
    "\n",
    "1. Mother's Day : Second Sunday of May : May 13 2018\n",
    "2. Father's Day : Second Sunday of August :  August 13 2017\n",
    "3. Valentine's Day : 12th June, 2017\n",
    "4. Children's Day : 12th October 2017\n",
    "5. Black Friday : 24th November 2017\n",
    "6. Christmas day : 25th December 2017\n"
   ]
  },
  {
   "cell_type": "code",
   "execution_count": 1,
   "metadata": {
    "_uuid": "a594abe9f66c5a090177dff966d6bedf63718a9c"
   },
   "outputs": [],
   "source": [
    "# Import the necessary libraries\n",
    "import numpy as np\n",
    "import pandas as pd\n",
    "import os\n",
    "import time\n",
    "import warnings\n",
    "import gc\n",
    "import os\n",
    "from six.moves import urllib\n",
    "import matplotlib\n",
    "import matplotlib.pyplot as plt\n",
    "import seaborn as sns\n",
    "import datetime\n",
    "warnings.filterwarnings('ignore')\n",
    "%matplotlib inline\n",
    "plt.style.use('seaborn')\n",
    "from scipy.stats import norm, skew\n",
    "from sklearn.preprocessing import StandardScaler"
   ]
  },
  {
   "cell_type": "code",
   "execution_count": 2,
   "metadata": {
    "_uuid": "bfbbf30dcb4c354827aae6fff1aeaa632a9e874e"
   },
   "outputs": [],
   "source": [
    "#Add All the Models Libraries\n",
    "\n",
    "# Scalers\n",
    "from sklearn.utils import shuffle\n",
    "from sklearn.pipeline import Pipeline\n",
    "from sklearn.pipeline import FeatureUnion\n",
    "\n",
    "# Models\n",
    "\n",
    "from sklearn.linear_model import Lasso\n",
    "from sklearn.metrics import mean_squared_log_error,mean_squared_error, r2_score,mean_absolute_error\n",
    "\n",
    "from sklearn.model_selection import train_test_split #training and testing data split\n",
    "from sklearn import metrics #accuracy measure\n",
    "from sklearn.metrics import confusion_matrix #for confusion matrix\n",
    "from scipy.stats import reciprocal, uniform\n",
    "\n",
    "from sklearn.model_selection import StratifiedKFold\n",
    "\n",
    "# Cross-validation\n",
    "from sklearn.model_selection import KFold #for K-fold cross validation\n",
    "from sklearn.model_selection import cross_val_score #score evaluation\n",
    "from sklearn.model_selection import cross_val_predict #prediction\n",
    "from sklearn.model_selection import cross_validate\n",
    "\n",
    "# GridSearchCV\n",
    "from sklearn.model_selection import GridSearchCV\n",
    "from sklearn.model_selection import RandomizedSearchCV\n",
    "\n",
    "#Common data processors\n",
    "from sklearn.preprocessing import OneHotEncoder, LabelEncoder\n",
    "from sklearn import feature_selection\n",
    "from sklearn import model_selection\n",
    "from sklearn import metrics\n",
    "from sklearn.base import BaseEstimator, TransformerMixin\n",
    "from sklearn.utils import check_array\n",
    "from scipy import sparse"
   ]
  },
  {
   "cell_type": "code",
   "execution_count": 3,
   "metadata": {
    "_uuid": "798008f46ddb84ca5ec248990d56b64e5ec84e5a"
   },
   "outputs": [],
   "source": [
    "# to make this notebook's output stable across runs\n",
    "np.random.seed(123)\n",
    "gc.collect()\n",
    "# To plot pretty figures\n",
    "%matplotlib inline\n",
    "plt.rcParams['axes.labelsize'] = 14\n",
    "plt.rcParams['xtick.labelsize'] = 12\n",
    "plt.rcParams['ytick.labelsize'] = 12"
   ]
  },
  {
   "cell_type": "code",
   "execution_count": 4,
   "metadata": {
    "_uuid": "47d5d544fa7e4bf9305814409c3cabc148b0169a"
   },
   "outputs": [],
   "source": [
    "#Reduce the memory usage - Inspired by Panchajanya Banerjee\n",
    "def reduce_mem_usage(df, verbose=True):\n",
    "    numerics = ['int16', 'int32', 'int64', 'float16', 'float32', 'float64']\n",
    "    start_mem = df.memory_usage().sum() / 1024**2    \n",
    "    for col in df.columns:\n",
    "        col_type = df[col].dtypes\n",
    "        if col_type in numerics:\n",
    "            c_min = df[col].min()\n",
    "            c_max = df[col].max()\n",
    "            if str(col_type)[:3] == 'int':\n",
    "                if c_min > np.iinfo(np.int8).min and c_max < np.iinfo(np.int8).max:\n",
    "                    df[col] = df[col].astype(np.int8)\n",
    "                elif c_min > np.iinfo(np.int16).min and c_max < np.iinfo(np.int16).max:\n",
    "                    df[col] = df[col].astype(np.int16)\n",
    "                elif c_min > np.iinfo(np.int32).min and c_max < np.iinfo(np.int32).max:\n",
    "                    df[col] = df[col].astype(np.int32)\n",
    "                elif c_min > np.iinfo(np.int64).min and c_max < np.iinfo(np.int64).max:\n",
    "                    df[col] = df[col].astype(np.int64)  \n",
    "            else:\n",
    "                if c_min > np.finfo(np.float16).min and c_max < np.finfo(np.float16).max:\n",
    "                    df[col] = df[col].astype(np.float16)\n",
    "                elif c_min > np.finfo(np.float32).min and c_max < np.finfo(np.float32).max:\n",
    "                    df[col] = df[col].astype(np.float32)\n",
    "                else:\n",
    "                    df[col] = df[col].astype(np.float64)    \n",
    "    end_mem = df.memory_usage().sum() / 1024**2\n",
    "    if verbose: print('Mem. usage decreased to {:5.2f} Mb ({:.1f}% reduction)'.format(end_mem, 100 * (start_mem - end_mem) / start_mem))\n",
    "    return df"
   ]
  },
  {
   "cell_type": "code",
   "execution_count": 5,
   "metadata": {
    "_uuid": "450f05f1bb8bd470972ec8a8f80a96f4b56402a7",
    "scrolled": true
   },
   "outputs": [
    {
     "name": "stdout",
     "output_type": "stream",
     "text": [
      "Mem. usage decreased to  4.04 Mb (56.2% reduction)\n",
      "Mem. usage decreased to  2.24 Mb (52.5% reduction)\n"
     ]
    }
   ],
   "source": [
    "train = reduce_mem_usage(pd.read_csv('../input/train.csv',parse_dates=[\"first_active_month\"]))\n",
    "test = reduce_mem_usage(pd.read_csv('../input/test.csv', parse_dates=[\"first_active_month\"]))"
   ]
  },
  {
   "cell_type": "code",
   "execution_count": 6,
   "metadata": {
    "_uuid": "2352513f1d53487e789e41fbfa050199154f8916"
   },
   "outputs": [
    {
     "data": {
      "text/plain": [
       "(201917, 6)"
      ]
     },
     "execution_count": 6,
     "metadata": {},
     "output_type": "execute_result"
    }
   ],
   "source": [
    "train.shape"
   ]
  },
  {
   "cell_type": "code",
   "execution_count": 7,
   "metadata": {
    "_uuid": "78407176c3c40b9d15227165028d6b61f94f3ba3"
   },
   "outputs": [
    {
     "name": "stdout",
     "output_type": "stream",
     "text": [
      "<class 'pandas.core.frame.DataFrame'>\n",
      "RangeIndex: 201917 entries, 0 to 201916\n",
      "Data columns (total 6 columns):\n",
      "first_active_month    201917 non-null datetime64[ns]\n",
      "card_id               201917 non-null object\n",
      "feature_1             201917 non-null int8\n",
      "feature_2             201917 non-null int8\n",
      "feature_3             201917 non-null int8\n",
      "target                201917 non-null float16\n",
      "dtypes: datetime64[ns](1), float16(1), int8(3), object(1)\n",
      "memory usage: 4.0+ MB\n"
     ]
    }
   ],
   "source": [
    "train.info()"
   ]
  },
  {
   "cell_type": "code",
   "execution_count": 8,
   "metadata": {
    "_uuid": "ce244a5a05abaa8c91ff3c73d8c5f86ba592c9a1"
   },
   "outputs": [],
   "source": [
    "# Now extract the month, year, day, weekday\n",
    "train['days'] = (datetime.date(2018, 2, 1) - train['first_active_month'].dt.date).dt.days\n",
    "train['quarter'] = train['first_active_month'].dt.quarter\n",
    "\n",
    "test['days'] = (datetime.date(2018, 2, 1) - test['first_active_month'].dt.date).dt.days\n",
    "test['quarter'] = test['first_active_month'].dt.quarter"
   ]
  },
  {
   "cell_type": "markdown",
   "execution_count": null,
   "metadata": {
    "_uuid": "b54460353af274062f649afe26f034c4126a6a84"
   },
   "source": [
    "Now we will try to extract more features from Transactions Data"
   ]
  },
  {
   "cell_type": "code",
   "execution_count": 9,
   "metadata": {
    "_uuid": "f9835dd6582d3e9c36954b498810929c8438d2d2"
   },
   "outputs": [],
   "source": [
    "# Taking Reference from Other Kernels\n",
    "def aggregate_transaction_hist(trans, prefix):  \n",
    "        \n",
    "    agg_func = {\n",
    "        'purchase_date' : ['max','min'],\n",
    "        'month_diff' : ['mean', 'min', 'max', 'var'],\n",
    "        'weekend' : ['sum', 'mean'],\n",
    "        'authorized_flag': ['sum', 'mean'],\n",
    "        'category_1': ['sum','mean', 'max','min'],\n",
    "        'purchase_amount': ['sum', 'mean', 'max', 'min', 'std'],\n",
    "        'installments': ['sum', 'mean', 'max', 'min', 'std'],  \n",
    "        'month_lag': ['max','min','mean','var'],\n",
    "        'card_id' : ['size'],\n",
    "        'month': ['nunique'],\n",
    "        'hour': ['nunique'],\n",
    "        'quarter':['nunique'],\n",
    "        'weekofyear': ['nunique'],\n",
    "        'dayofweek': ['nunique'],\n",
    "        'year': ['nunique'],\n",
    "        'subsector_id': ['nunique'],\n",
    "        'merchant_category_id' : ['nunique'],\n",
    "        'Christmas_Day_2017':['mean'],\n",
    "        'fathers_day_2017':['mean'],\n",
    "        'Children_day_2017':['mean'],\n",
    "        'Black_Friday_2017':['mean'],\n",
    "        'Valentine_day_2017':['mean'],\n",
    "        'Mothers_Day_2018':['mean']\n",
    "    }\n",
    "    \n",
    "    agg_trans = trans.groupby(['card_id']).agg(agg_func)\n",
    "    agg_trans.columns = [prefix + '_'.join(col).strip() \n",
    "                           for col in agg_trans.columns.values]\n",
    "    agg_trans.reset_index(inplace=True)\n",
    "    \n",
    "    df = (trans.groupby('card_id')\n",
    "          .size()\n",
    "          .reset_index(name='{}transactions_count'.format(prefix)))\n",
    "    \n",
    "    agg_trans = pd.merge(df, agg_trans, on='card_id', how='left')\n",
    "    \n",
    "    return agg_trans"
   ]
  },
  {
   "cell_type": "code",
   "execution_count": 10,
   "metadata": {
    "_uuid": "06a04f3393a83cb2687b76deba417012e18ef606",
    "scrolled": true
   },
   "outputs": [
    {
     "name": "stdout",
     "output_type": "stream",
     "text": [
      "Mem. usage decreased to 1749.11 Mb (43.7% reduction)\n"
     ]
    }
   ],
   "source": [
    "transactions = reduce_mem_usage(pd.read_csv('../input/historical_transactions.csv'))\n",
    "transactions['authorized_flag'] = transactions['authorized_flag'].map({'Y': 1, 'N': 0})\n",
    "transactions['category_1'] = transactions['category_1'].map({'Y': 1, 'N': 0})"
   ]
  },
  {
   "cell_type": "code",
   "execution_count": 11,
   "metadata": {
    "_uuid": "1decf075c9422fe20823691972f055b8a1c84f50",
    "scrolled": true
   },
   "outputs": [
    {
     "data": {
      "text/plain": [
       "207"
      ]
     },
     "execution_count": 11,
     "metadata": {},
     "output_type": "execute_result"
    }
   ],
   "source": [
    "#Feature Engineering - Adding new features inspired by Chau's first kernel\n",
    "transactions['purchase_date'] = pd.to_datetime(transactions['purchase_date'])\n",
    "transactions['year'] = transactions['purchase_date'].dt.year\n",
    "transactions['weekofyear'] = transactions['purchase_date'].dt.weekofyear\n",
    "transactions['month'] = transactions['purchase_date'].dt.month\n",
    "transactions['dayofweek'] = transactions['purchase_date'].dt.dayofweek\n",
    "transactions['weekend'] = (transactions.purchase_date.dt.weekday >=5).astype(int)\n",
    "transactions['hour'] = transactions['purchase_date'].dt.hour \n",
    "transactions['quarter'] = transactions['purchase_date'].dt.quarter\n",
    "transactions['month_diff'] = ((datetime.datetime.today() - transactions['purchase_date']).dt.days)//30\n",
    "transactions['month_diff'] += transactions['month_lag']\n",
    "\n",
    "#impute missing values - This is now excluded.\n",
    "transactions['category_2'] = transactions['category_2'].fillna(1.0,inplace=True)\n",
    "transactions['category_3'] = transactions['category_3'].fillna('A',inplace=True)\n",
    "transactions['merchant_id'] = transactions['merchant_id'].fillna('M_ID_00a6ca8a8a',inplace=True)\n",
    "\n",
    "transactions['category_3'] = transactions['category_3'].map({'A':0, 'B':1, 'C':2})\n",
    "gc.collect()"
   ]
  },
  {
   "cell_type": "code",
   "execution_count": 12,
   "metadata": {
    "_uuid": "93a165f209a8853e4c8e1f624becd0506e6fb0f1"
   },
   "outputs": [],
   "source": [
    "agg_func = {\n",
    "        'mean': ['mean'],\n",
    "    }\n",
    "for col in ['category_2','category_3']:\n",
    "    transactions[col+'_mean'] = transactions['purchase_amount'].groupby(transactions[col]).agg('mean')\n",
    "    transactions[col+'_max'] = transactions['purchase_amount'].groupby(transactions[col]).agg('max')\n",
    "    transactions[col+'_min'] = transactions['purchase_amount'].groupby(transactions[col]).agg('min')\n",
    "    transactions[col+'_var'] = transactions['purchase_amount'].groupby(transactions[col]).agg('var')\n",
    "    agg_func[col+'_mean'] = ['mean']"
   ]
  },
  {
   "cell_type": "code",
   "execution_count": 13,
   "metadata": {
    "_uuid": "dee055f4b8bbb8be045d9a109aae2299d3b2b242"
   },
   "outputs": [
    {
     "data": {
      "text/plain": [
       "130"
      ]
     },
     "execution_count": 13,
     "metadata": {},
     "output_type": "execute_result"
    }
   ],
   "source": [
    "# New Features with Key Shopping times considered in the dataset. if the purchase has been made within 60 days, it is considered as an influence\n",
    "#Christmas : December 25 2017\n",
    "transactions['Christmas_Day_2017'] = (pd.to_datetime('2017-12-25') - transactions['purchase_date']).dt.days.apply(lambda x: x if x > 0 and x < 100 else 0)\n",
    "#Mothers Day: May 14 2017\n",
    "#transactions['Mothers_Day_2017'] = (pd.to_datetime('2017-05-04') - transactions['purchase_date']).dt.days.apply(lambda x: x if x > 0 and x < 100 else 0)\n",
    "#fathers day: August 13 2017\n",
    "transactions['fathers_day_2017'] = (pd.to_datetime('2017-08-13') - transactions['purchase_date']).dt.days.apply(lambda x: x if x > 0 and x < 100 else 0)\n",
    "#Childrens day: October 12 2017\n",
    "transactions['Children_day_2017'] = (pd.to_datetime('2017-10-12') - transactions['purchase_date']).dt.days.apply(lambda x: x if x > 0 and x < 100 else 0)\n",
    "#Black Friday : 24th November 2017\n",
    "transactions['Black_Friday_2017'] = (pd.to_datetime('2017-11-24') - transactions['purchase_date']).dt.days.apply(lambda x: x if x > 0 and x < 100 else 0)\n",
    "#Valentines Day\n",
    "transactions['Valentine_day_2017'] = (pd.to_datetime('2017-06-12') - transactions['purchase_date']).dt.days.apply(lambda x: x if x > 0 and x < 100 else 0)\n",
    "\n",
    "#2018\n",
    "#Mothers Day: May 13 2018\n",
    "transactions['Mothers_Day_2018'] = (pd.to_datetime('2018-05-13') - transactions['purchase_date']).dt.days.apply(lambda x: x if x > 0 and x < 100 else 0)\n",
    "\n",
    "gc.collect()"
   ]
  },
  {
   "cell_type": "code",
   "execution_count": 14,
   "metadata": {
    "_uuid": "95128e635d5c0ad26b170652971aca4fc9c41ad1",
    "scrolled": false
   },
   "outputs": [
    {
     "data": {
      "text/plain": [
       "49"
      ]
     },
     "execution_count": 14,
     "metadata": {},
     "output_type": "execute_result"
    }
   ],
   "source": [
    "merge_trans = aggregate_transaction_hist(transactions, prefix='hist_')\n",
    "del transactions\n",
    "gc.collect()\n",
    "train = pd.merge(train, merge_trans, on='card_id',how='left')\n",
    "test = pd.merge(test, merge_trans, on='card_id',how='left')\n",
    "del merge_trans\n",
    "gc.collect()"
   ]
  },
  {
   "cell_type": "code",
   "execution_count": 15,
   "metadata": {
    "_uuid": "c2ecbbf35630592774f720ccf88849cb8dfe9987"
   },
   "outputs": [
    {
     "data": {
      "text/html": [
       "<div>\n",
       "<style scoped>\n",
       "    .dataframe tbody tr th:only-of-type {\n",
       "        vertical-align: middle;\n",
       "    }\n",
       "\n",
       "    .dataframe tbody tr th {\n",
       "        vertical-align: top;\n",
       "    }\n",
       "\n",
       "    .dataframe thead th {\n",
       "        text-align: right;\n",
       "    }\n",
       "</style>\n",
       "<table border=\"1\" class=\"dataframe\">\n",
       "  <thead>\n",
       "    <tr style=\"text-align: right;\">\n",
       "      <th></th>\n",
       "      <th>first_active_month</th>\n",
       "      <th>card_id</th>\n",
       "      <th>feature_1</th>\n",
       "      <th>feature_2</th>\n",
       "      <th>feature_3</th>\n",
       "      <th>target</th>\n",
       "      <th>days</th>\n",
       "      <th>quarter</th>\n",
       "      <th>hist_transactions_count</th>\n",
       "      <th>hist_purchase_date_max</th>\n",
       "      <th>hist_purchase_date_min</th>\n",
       "      <th>hist_month_diff_mean</th>\n",
       "      <th>hist_month_diff_min</th>\n",
       "      <th>hist_month_diff_max</th>\n",
       "      <th>hist_month_diff_var</th>\n",
       "      <th>hist_weekend_sum</th>\n",
       "      <th>hist_weekend_mean</th>\n",
       "      <th>hist_authorized_flag_sum</th>\n",
       "      <th>hist_authorized_flag_mean</th>\n",
       "      <th>hist_category_1_sum</th>\n",
       "      <th>hist_category_1_mean</th>\n",
       "      <th>hist_category_1_max</th>\n",
       "      <th>hist_category_1_min</th>\n",
       "      <th>hist_purchase_amount_sum</th>\n",
       "      <th>hist_purchase_amount_mean</th>\n",
       "      <th>hist_purchase_amount_max</th>\n",
       "      <th>hist_purchase_amount_min</th>\n",
       "      <th>hist_purchase_amount_std</th>\n",
       "      <th>hist_installments_sum</th>\n",
       "      <th>hist_installments_mean</th>\n",
       "      <th>hist_installments_max</th>\n",
       "      <th>hist_installments_min</th>\n",
       "      <th>hist_installments_std</th>\n",
       "      <th>hist_month_lag_max</th>\n",
       "      <th>hist_month_lag_min</th>\n",
       "      <th>hist_month_lag_mean</th>\n",
       "      <th>hist_month_lag_var</th>\n",
       "      <th>hist_card_id_size</th>\n",
       "      <th>hist_month_nunique</th>\n",
       "      <th>hist_hour_nunique</th>\n",
       "      <th>hist_quarter_nunique</th>\n",
       "      <th>hist_weekofyear_nunique</th>\n",
       "      <th>hist_dayofweek_nunique</th>\n",
       "      <th>hist_year_nunique</th>\n",
       "      <th>hist_subsector_id_nunique</th>\n",
       "      <th>hist_merchant_category_id_nunique</th>\n",
       "      <th>hist_Christmas_Day_2017_mean</th>\n",
       "      <th>hist_fathers_day_2017_mean</th>\n",
       "      <th>hist_Children_day_2017_mean</th>\n",
       "      <th>hist_Black_Friday_2017_mean</th>\n",
       "      <th>hist_Valentine_day_2017_mean</th>\n",
       "      <th>hist_Mothers_Day_2018_mean</th>\n",
       "    </tr>\n",
       "  </thead>\n",
       "  <tbody>\n",
       "    <tr>\n",
       "      <th>0</th>\n",
       "      <td>2017-06-01</td>\n",
       "      <td>C_ID_92a2005557</td>\n",
       "      <td>5</td>\n",
       "      <td>2</td>\n",
       "      <td>1</td>\n",
       "      <td>-0.820312</td>\n",
       "      <td>245</td>\n",
       "      <td>2</td>\n",
       "      <td>260</td>\n",
       "      <td>2018-02-25 09:31:15</td>\n",
       "      <td>2017-06-27 14:18:08</td>\n",
       "      <td>28.526923</td>\n",
       "      <td>28</td>\n",
       "      <td>29</td>\n",
       "      <td>0.250238</td>\n",
       "      <td>90</td>\n",
       "      <td>0.346154</td>\n",
       "      <td>247</td>\n",
       "      <td>0.950000</td>\n",
       "      <td>0</td>\n",
       "      <td>0.000000</td>\n",
       "      <td>0</td>\n",
       "      <td>0</td>\n",
       "      <td>-165.968735</td>\n",
       "      <td>-0.638341</td>\n",
       "      <td>2.258394</td>\n",
       "      <td>-0.739395</td>\n",
       "      <td>0.212139</td>\n",
       "      <td>4</td>\n",
       "      <td>0.015385</td>\n",
       "      <td>1</td>\n",
       "      <td>0</td>\n",
       "      <td>0.123314</td>\n",
       "      <td>0</td>\n",
       "      <td>-8</td>\n",
       "      <td>-3.911538</td>\n",
       "      <td>5.748901</td>\n",
       "      <td>260</td>\n",
       "      <td>9</td>\n",
       "      <td>23</td>\n",
       "      <td>4</td>\n",
       "      <td>35</td>\n",
       "      <td>7</td>\n",
       "      <td>2</td>\n",
       "      <td>21</td>\n",
       "      <td>41</td>\n",
       "      <td>13.123077</td>\n",
       "      <td>6.265385</td>\n",
       "      <td>26.765385</td>\n",
       "      <td>16.465385</td>\n",
       "      <td>0.000000</td>\n",
       "      <td>7.753846</td>\n",
       "    </tr>\n",
       "    <tr>\n",
       "      <th>1</th>\n",
       "      <td>2017-01-01</td>\n",
       "      <td>C_ID_3d0044924f</td>\n",
       "      <td>4</td>\n",
       "      <td>1</td>\n",
       "      <td>0</td>\n",
       "      <td>0.392822</td>\n",
       "      <td>396</td>\n",
       "      <td>1</td>\n",
       "      <td>350</td>\n",
       "      <td>2018-01-31 22:31:09</td>\n",
       "      <td>2017-01-06 16:29:42</td>\n",
       "      <td>29.437143</td>\n",
       "      <td>29</td>\n",
       "      <td>30</td>\n",
       "      <td>0.246754</td>\n",
       "      <td>132</td>\n",
       "      <td>0.377143</td>\n",
       "      <td>339</td>\n",
       "      <td>0.968571</td>\n",
       "      <td>31</td>\n",
       "      <td>0.088571</td>\n",
       "      <td>1</td>\n",
       "      <td>0</td>\n",
       "      <td>-210.006332</td>\n",
       "      <td>-0.600018</td>\n",
       "      <td>4.630300</td>\n",
       "      <td>-0.742400</td>\n",
       "      <td>0.384967</td>\n",
       "      <td>543</td>\n",
       "      <td>1.551429</td>\n",
       "      <td>10</td>\n",
       "      <td>-1</td>\n",
       "      <td>1.510777</td>\n",
       "      <td>0</td>\n",
       "      <td>-12</td>\n",
       "      <td>-5.031429</td>\n",
       "      <td>14.477519</td>\n",
       "      <td>350</td>\n",
       "      <td>12</td>\n",
       "      <td>24</td>\n",
       "      <td>4</td>\n",
       "      <td>50</td>\n",
       "      <td>7</td>\n",
       "      <td>2</td>\n",
       "      <td>24</td>\n",
       "      <td>57</td>\n",
       "      <td>10.648571</td>\n",
       "      <td>12.551429</td>\n",
       "      <td>13.788571</td>\n",
       "      <td>9.834286</td>\n",
       "      <td>6.568571</td>\n",
       "      <td>0.000000</td>\n",
       "    </tr>\n",
       "  </tbody>\n",
       "</table>\n",
       "</div>"
      ],
      "text/plain": [
       "  first_active_month            ...             hist_Mothers_Day_2018_mean\n",
       "0         2017-06-01            ...                               7.753846\n",
       "1         2017-01-01            ...                               0.000000\n",
       "\n",
       "[2 rows x 52 columns]"
      ]
     },
     "execution_count": 15,
     "metadata": {},
     "output_type": "execute_result"
    }
   ],
   "source": [
    "train.head(2)"
   ]
  },
  {
   "cell_type": "code",
   "execution_count": 16,
   "metadata": {
    "_uuid": "a3e6c6e3dec6f2153d02a684fb7ddbbace4c5550"
   },
   "outputs": [],
   "source": [
    "#Feature Engineering - Adding new features inspired by Chau's first kernel\n",
    "train['hist_purchase_date_max'] = pd.to_datetime(train['hist_purchase_date_max'])\n",
    "train['hist_purchase_date_min'] = pd.to_datetime(train['hist_purchase_date_min'])\n",
    "train['hist_purchase_date_diff'] = (train['hist_purchase_date_max'] - train['hist_purchase_date_min']).dt.days\n",
    "train['hist_purchase_date_average'] = train['hist_purchase_date_diff']/train['hist_card_id_size']\n",
    "train['hist_purchase_date_uptonow'] = (datetime.datetime.today() - train['hist_purchase_date_max']).dt.days\n",
    "train['hist_purchase_date_uptomin'] = (datetime.datetime.today() - train['hist_purchase_date_min']).dt.days\n",
    "train['hist_first_buy'] = (train['hist_purchase_date_min'] - train['first_active_month']).dt.days\n",
    "for feature in ['hist_purchase_date_max','hist_purchase_date_min']:\n",
    "    train[feature] = train[feature].astype(np.int64) * 1e-9\n"
   ]
  },
  {
   "cell_type": "code",
   "execution_count": 17,
   "metadata": {
    "_uuid": "370757bfba37b643f463f385d9e878ff27e320bc"
   },
   "outputs": [],
   "source": [
    "#Feature Engineering - Adding new features inspired by Chau's first kernel\n",
    "test['hist_purchase_date_max'] = pd.to_datetime(test['hist_purchase_date_max'])\n",
    "test['hist_purchase_date_min'] = pd.to_datetime(test['hist_purchase_date_min'])\n",
    "test['hist_purchase_date_diff'] = (test['hist_purchase_date_max'] - test['hist_purchase_date_min']).dt.days\n",
    "test['hist_purchase_date_average'] = test['hist_purchase_date_diff']/test['hist_card_id_size']\n",
    "test['hist_purchase_date_uptonow'] = (datetime.datetime.today() - test['hist_purchase_date_max']).dt.days\n",
    "test['hist_purchase_date_uptomin'] = (datetime.datetime.today() - test['hist_purchase_date_min']).dt.days\n",
    "test['hist_first_buy'] = (test['hist_purchase_date_min'] - test['first_active_month']).dt.days\n",
    "for feature in ['hist_purchase_date_max','hist_purchase_date_min']:\n",
    "    test[feature] = test[feature].astype(np.int64) * 1e-9"
   ]
  },
  {
   "cell_type": "code",
   "execution_count": 18,
   "metadata": {
    "_uuid": "88381a0c6e50924860a133e7d61838c86ee1eab1"
   },
   "outputs": [],
   "source": [
    "# Taking Reference from Other Kernels\n",
    "def aggregate_transaction_new(trans, prefix):  \n",
    "        \n",
    "    agg_func = {\n",
    "        'purchase_date' : ['max','min'],\n",
    "        'month_diff' : ['mean', 'min', 'max', 'var'],\n",
    "        'weekend' : ['sum', 'mean'],\n",
    "        'authorized_flag': ['sum'],\n",
    "        'category_1': ['sum','mean', 'max','min'],\n",
    "        'purchase_amount': ['sum', 'mean', 'max', 'min', 'std'],\n",
    "        'installments': ['sum', 'mean', 'max', 'min', 'std'],  \n",
    "        'month_lag': ['max','min','mean','var'],\n",
    "        'card_id' : ['size'],\n",
    "        'month': ['nunique'],\n",
    "        'hour': ['nunique'],\n",
    "        'quarter':['nunique'],\n",
    "        'weekofyear': ['nunique'],\n",
    "        'dayofweek': ['nunique'],\n",
    "        'year': ['nunique'],\n",
    "        'subsector_id': ['nunique'],\n",
    "        'merchant_category_id' : ['nunique'],\n",
    "        'Christmas_Day_2017':['mean'],\n",
    "        'fathers_day_2017':['mean'],\n",
    "        'Children_day_2017':['mean'],\n",
    "        'Black_Friday_2017':['mean'],\n",
    "        'Valentine_Day_2017' : ['mean'],\n",
    "        'Mothers_Day_2018':['mean']\n",
    "    }\n",
    "    \n",
    "    agg_trans = trans.groupby(['card_id']).agg(agg_func)\n",
    "    agg_trans.columns = [prefix + '_'.join(col).strip() \n",
    "                           for col in agg_trans.columns.values]\n",
    "    agg_trans.reset_index(inplace=True)\n",
    "    \n",
    "    df = (trans.groupby('card_id')\n",
    "          .size()\n",
    "          .reset_index(name='{}transactions_count'.format(prefix)))\n",
    "    \n",
    "    agg_trans = pd.merge(df, agg_trans, on='card_id', how='left')\n",
    "    \n",
    "    return agg_trans"
   ]
  },
  {
   "cell_type": "code",
   "execution_count": 19,
   "metadata": {
    "_uuid": "9c653335214ef763a6d9e13de46db5800a75c5a3"
   },
   "outputs": [
    {
     "name": "stdout",
     "output_type": "stream",
     "text": [
      "Mem. usage decreased to 114.20 Mb (45.5% reduction)\n"
     ]
    }
   ],
   "source": [
    "# Now extract the data from the new transactions\n",
    "new_transactions = reduce_mem_usage(pd.read_csv('../input/new_merchant_transactions.csv'))\n",
    "new_transactions['authorized_flag'] = new_transactions['authorized_flag'].map({'Y': 1, 'N': 0})\n",
    "new_transactions['category_1'] = new_transactions['category_1'].map({'Y': 1, 'N': 0})"
   ]
  },
  {
   "cell_type": "code",
   "execution_count": 20,
   "metadata": {
    "_uuid": "fd7fc65f351e45fdd1e8a43b730b8ed50b2e4456",
    "scrolled": false
   },
   "outputs": [
    {
     "data": {
      "text/plain": [
       "449"
      ]
     },
     "execution_count": 20,
     "metadata": {},
     "output_type": "execute_result"
    }
   ],
   "source": [
    "#Feature Engineering - Adding new features inspired by Chau's first kernel\n",
    "new_transactions['purchase_date'] = pd.to_datetime(new_transactions['purchase_date'])\n",
    "new_transactions['year'] = new_transactions['purchase_date'].dt.year\n",
    "new_transactions['weekofyear'] = new_transactions['purchase_date'].dt.weekofyear\n",
    "new_transactions['month'] = new_transactions['purchase_date'].dt.month\n",
    "new_transactions['dayofweek'] = new_transactions['purchase_date'].dt.dayofweek\n",
    "new_transactions['weekend'] = (new_transactions.purchase_date.dt.weekday >=5).astype(int)\n",
    "new_transactions['hour'] = new_transactions['purchase_date'].dt.hour \n",
    "new_transactions['quarter'] = new_transactions['purchase_date'].dt.quarter\n",
    "\n",
    "new_transactions['month_diff'] = ((datetime.datetime.today() - new_transactions['purchase_date']).dt.days)//30\n",
    "new_transactions['month_diff'] += new_transactions['month_lag']\n",
    "\n",
    "#impute missing values\n",
    "new_transactions['category_2'] = new_transactions['category_2'].fillna(1.0,inplace=True)\n",
    "new_transactions['category_3'] = new_transactions['category_3'].fillna('A',inplace=True)\n",
    "new_transactions['merchant_id'] = new_transactions['merchant_id'].fillna('M_ID_00a6ca8a8a',inplace=True)\n",
    "\n",
    "new_transactions['category_3'] = new_transactions['category_3'].map({'A':0, 'B':1, 'C':2}) \n",
    "# New Features with Key Shopping times considered in the dataset. if the purchase has been made within 60 days, \n",
    "# it is considered as an influence\n",
    "\n",
    "#Christmas : December 25 2017\n",
    "new_transactions['Christmas_Day_2017'] = (pd.to_datetime('2017-12-25') - new_transactions['purchase_date']).dt.days.apply(lambda x: x if x > 0 and x < 100 else 0)\n",
    "#Mothers Day: May 14 2017 - Was not significant in Feature Importance\n",
    "#new_transactions['Mothers_Day_2017'] = (pd.to_datetime('2017-06-04') - new_transactions['purchase_date']).dt.days.apply(lambda x: x if x > 0 and x < 100 else 0)\n",
    "#fathers day: August 13 2017\n",
    "new_transactions['fathers_day_2017'] = (pd.to_datetime('2017-08-13') - new_transactions['purchase_date']).dt.days.apply(lambda x: x if x > 0 and x < 100 else 0)\n",
    "#Childrens day: October 12 2017\n",
    "new_transactions['Children_day_2017'] = (pd.to_datetime('2017-10-12') - new_transactions['purchase_date']).dt.days.apply(lambda x: x if x > 0 and x < 100 else 0)\n",
    "#Valentine's Day : 12th June, 2017\n",
    "new_transactions['Valentine_Day_2017'] = (pd.to_datetime('2017-06-12') - new_transactions['purchase_date']).dt.days.apply(lambda x: x if x > 0 and x < 100 else 0)\n",
    "#Black Friday : 24th November 2017\n",
    "new_transactions['Black_Friday_2017'] = (pd.to_datetime('2017-11-24') - new_transactions['purchase_date']).dt.days.apply(lambda x: x if x > 0 and x < 100 else 0)\n",
    "\n",
    "#2018\n",
    "#Mothers Day: May 13 2018\n",
    "new_transactions['Mothers_Day_2018'] = (pd.to_datetime('2018-05-13') - new_transactions['purchase_date']).dt.days.apply(lambda x: x if x > 0 and x < 100 else 0)\n",
    "\n",
    "aggs = {\n",
    "        'mean': ['mean'],\n",
    "    }\n",
    "for col in ['category_2','category_3']:\n",
    "    new_transactions[col+'_mean'] = new_transactions['purchase_amount'].groupby(new_transactions[col]).agg('mean')\n",
    "    new_transactions[col+'_max'] = new_transactions['purchase_amount'].groupby(new_transactions[col]).agg('max')\n",
    "    new_transactions[col+'_min'] = new_transactions['purchase_amount'].groupby(new_transactions[col]).agg('min')\n",
    "    new_transactions[col+'_var'] = new_transactions['purchase_amount'].groupby(new_transactions[col]).agg('var')\n",
    "    aggs[col+'_mean'] = ['mean']\n",
    "\n",
    "gc.collect()"
   ]
  },
  {
   "cell_type": "code",
   "execution_count": 21,
   "metadata": {
    "_uuid": "5ebf2d2ac4064c8e9a008f555c7f902ca0fdf853",
    "scrolled": false
   },
   "outputs": [
    {
     "data": {
      "text/plain": [
       "35"
      ]
     },
     "execution_count": 21,
     "metadata": {},
     "output_type": "execute_result"
    }
   ],
   "source": [
    "merge_new = aggregate_transaction_new(new_transactions, prefix='new_')\n",
    "del new_transactions\n",
    "gc.collect()\n",
    "\n",
    "train = pd.merge(train, merge_new, on='card_id',how='left')\n",
    "test = pd.merge(test, merge_new, on='card_id',how='left')\n",
    "del merge_new\n",
    "\n",
    "gc.collect()"
   ]
  },
  {
   "cell_type": "code",
   "execution_count": 22,
   "metadata": {
    "_uuid": "4741d24d2c897ebd286807d0d3bd658800e316ca"
   },
   "outputs": [
    {
     "data": {
      "text/plain": [
       "204"
      ]
     },
     "execution_count": 22,
     "metadata": {},
     "output_type": "execute_result"
    }
   ],
   "source": [
    "#Feature Engineering - Adding new features inspired by Chau's first kernel\n",
    "train['new_purchase_date_max'] = pd.to_datetime(train['new_purchase_date_max'])\n",
    "train['new_purchase_date_min'] = pd.to_datetime(train['new_purchase_date_min'])\n",
    "train['new_purchase_date_diff'] = (train['new_purchase_date_max'] - train['new_purchase_date_min']).dt.days\n",
    "train['new_purchase_date_average'] = train['new_purchase_date_diff']/train['new_card_id_size']\n",
    "train['new_purchase_date_uptonow'] = (datetime.datetime.today() - train['new_purchase_date_max']).dt.days\n",
    "train['new_purchase_date_uptomin'] = (datetime.datetime.today() - train['new_purchase_date_min']).dt.days\n",
    "\n",
    "train['new_first_buy'] = (train['new_purchase_date_min'] - train['first_active_month']).dt.days\n",
    "for feature in ['new_purchase_date_max','new_purchase_date_min']:\n",
    "    train[feature] = train[feature].astype(np.int64) * 1e-9\n",
    "\n",
    "#Feature Engineering - Adding new features inspired by Chau's first kernel\n",
    "test['new_purchase_date_max'] = pd.to_datetime(test['new_purchase_date_max'])\n",
    "test['new_purchase_date_min'] = pd.to_datetime(test['new_purchase_date_min'])\n",
    "test['new_purchase_date_diff'] = (test['new_purchase_date_max'] - test['new_purchase_date_min']).dt.days\n",
    "test['new_purchase_date_average'] = test['new_purchase_date_diff']/test['new_card_id_size']\n",
    "test['new_purchase_date_uptonow'] = (datetime.datetime.today() - test['new_purchase_date_max']).dt.days\n",
    "test['new_purchase_date_uptomin'] = (datetime.datetime.today() - test['new_purchase_date_min']).dt.days\n",
    "\n",
    "test['new_first_buy'] = (test['new_purchase_date_min'] - test['first_active_month']).dt.days\n",
    "for feature in ['new_purchase_date_max','new_purchase_date_min']:\n",
    "    test[feature] = test[feature].astype(np.int64) * 1e-9\n",
    "    \n",
    "#added new feature - Interactive\n",
    "train['card_id_total'] = train['new_card_id_size'] + train['hist_card_id_size']\n",
    "train['purchase_amount_total'] = train['new_purchase_amount_sum'] + train['hist_purchase_amount_sum']\n",
    "\n",
    "test['card_id_total'] = test['new_card_id_size'] + test['hist_card_id_size']\n",
    "test['purchase_amount_total'] = test['new_purchase_amount_sum'] + test['hist_purchase_amount_sum']\n",
    "\n",
    "\n",
    "gc.collect()"
   ]
  },
  {
   "cell_type": "code",
   "execution_count": 23,
   "metadata": {
    "_uuid": "de5dbc4519c349552d66f192c47d73872ddf0c71",
    "scrolled": true
   },
   "outputs": [
    {
     "data": {
      "text/plain": [
       "(201917, 107)"
      ]
     },
     "execution_count": 23,
     "metadata": {},
     "output_type": "execute_result"
    }
   ],
   "source": [
    "# Now check the shape of Train and Test Data\n",
    "train.shape"
   ]
  },
  {
   "cell_type": "code",
   "execution_count": 24,
   "metadata": {
    "_uuid": "d19048974a748af94a1db2a98f754dad9934f8be"
   },
   "outputs": [
    {
     "data": {
      "text/plain": [
       "(123623, 106)"
      ]
     },
     "execution_count": 24,
     "metadata": {},
     "output_type": "execute_result"
    }
   ],
   "source": [
    "test.shape"
   ]
  },
  {
   "cell_type": "code",
   "execution_count": 25,
   "metadata": {
    "_uuid": "e98856ac9c9f94acc517b8008f9dcb273228bbf2",
    "scrolled": true
   },
   "outputs": [
    {
     "data": {
      "text/html": [
       "<div>\n",
       "<style scoped>\n",
       "    .dataframe tbody tr th:only-of-type {\n",
       "        vertical-align: middle;\n",
       "    }\n",
       "\n",
       "    .dataframe tbody tr th {\n",
       "        vertical-align: top;\n",
       "    }\n",
       "\n",
       "    .dataframe thead th {\n",
       "        text-align: right;\n",
       "    }\n",
       "</style>\n",
       "<table border=\"1\" class=\"dataframe\">\n",
       "  <thead>\n",
       "    <tr style=\"text-align: right;\">\n",
       "      <th></th>\n",
       "      <th>first_active_month</th>\n",
       "      <th>card_id</th>\n",
       "      <th>feature_1</th>\n",
       "      <th>feature_2</th>\n",
       "      <th>feature_3</th>\n",
       "      <th>target</th>\n",
       "      <th>days</th>\n",
       "      <th>quarter</th>\n",
       "      <th>hist_transactions_count</th>\n",
       "      <th>hist_purchase_date_max</th>\n",
       "      <th>hist_purchase_date_min</th>\n",
       "      <th>hist_month_diff_mean</th>\n",
       "      <th>hist_month_diff_min</th>\n",
       "      <th>hist_month_diff_max</th>\n",
       "      <th>hist_month_diff_var</th>\n",
       "      <th>hist_weekend_sum</th>\n",
       "      <th>hist_weekend_mean</th>\n",
       "      <th>hist_authorized_flag_sum</th>\n",
       "      <th>hist_authorized_flag_mean</th>\n",
       "      <th>hist_category_1_sum</th>\n",
       "      <th>hist_category_1_mean</th>\n",
       "      <th>hist_category_1_max</th>\n",
       "      <th>hist_category_1_min</th>\n",
       "      <th>hist_purchase_amount_sum</th>\n",
       "      <th>hist_purchase_amount_mean</th>\n",
       "      <th>hist_purchase_amount_max</th>\n",
       "      <th>hist_purchase_amount_min</th>\n",
       "      <th>hist_purchase_amount_std</th>\n",
       "      <th>hist_installments_sum</th>\n",
       "      <th>hist_installments_mean</th>\n",
       "      <th>hist_installments_max</th>\n",
       "      <th>hist_installments_min</th>\n",
       "      <th>hist_installments_std</th>\n",
       "      <th>hist_month_lag_max</th>\n",
       "      <th>hist_month_lag_min</th>\n",
       "      <th>hist_month_lag_mean</th>\n",
       "      <th>hist_month_lag_var</th>\n",
       "      <th>hist_card_id_size</th>\n",
       "      <th>hist_month_nunique</th>\n",
       "      <th>hist_hour_nunique</th>\n",
       "      <th>...</th>\n",
       "      <th>new_category_1_sum</th>\n",
       "      <th>new_category_1_mean</th>\n",
       "      <th>new_category_1_max</th>\n",
       "      <th>new_category_1_min</th>\n",
       "      <th>new_purchase_amount_sum</th>\n",
       "      <th>new_purchase_amount_mean</th>\n",
       "      <th>new_purchase_amount_max</th>\n",
       "      <th>new_purchase_amount_min</th>\n",
       "      <th>new_purchase_amount_std</th>\n",
       "      <th>new_installments_sum</th>\n",
       "      <th>new_installments_mean</th>\n",
       "      <th>new_installments_max</th>\n",
       "      <th>new_installments_min</th>\n",
       "      <th>new_installments_std</th>\n",
       "      <th>new_month_lag_max</th>\n",
       "      <th>new_month_lag_min</th>\n",
       "      <th>new_month_lag_mean</th>\n",
       "      <th>new_month_lag_var</th>\n",
       "      <th>new_card_id_size</th>\n",
       "      <th>new_month_nunique</th>\n",
       "      <th>new_hour_nunique</th>\n",
       "      <th>new_quarter_nunique</th>\n",
       "      <th>new_weekofyear_nunique</th>\n",
       "      <th>new_dayofweek_nunique</th>\n",
       "      <th>new_year_nunique</th>\n",
       "      <th>new_subsector_id_nunique</th>\n",
       "      <th>new_merchant_category_id_nunique</th>\n",
       "      <th>new_Christmas_Day_2017_mean</th>\n",
       "      <th>new_fathers_day_2017_mean</th>\n",
       "      <th>new_Children_day_2017_mean</th>\n",
       "      <th>new_Black_Friday_2017_mean</th>\n",
       "      <th>new_Valentine_Day_2017_mean</th>\n",
       "      <th>new_Mothers_Day_2018_mean</th>\n",
       "      <th>new_purchase_date_diff</th>\n",
       "      <th>new_purchase_date_average</th>\n",
       "      <th>new_purchase_date_uptonow</th>\n",
       "      <th>new_purchase_date_uptomin</th>\n",
       "      <th>new_first_buy</th>\n",
       "      <th>card_id_total</th>\n",
       "      <th>purchase_amount_total</th>\n",
       "    </tr>\n",
       "  </thead>\n",
       "  <tbody>\n",
       "    <tr>\n",
       "      <th>0</th>\n",
       "      <td>2017-06-01</td>\n",
       "      <td>C_ID_92a2005557</td>\n",
       "      <td>5</td>\n",
       "      <td>2</td>\n",
       "      <td>1</td>\n",
       "      <td>-0.820312</td>\n",
       "      <td>245</td>\n",
       "      <td>2</td>\n",
       "      <td>260</td>\n",
       "      <td>1.519551e+09</td>\n",
       "      <td>1.498573e+09</td>\n",
       "      <td>28.526923</td>\n",
       "      <td>28</td>\n",
       "      <td>29</td>\n",
       "      <td>0.250238</td>\n",
       "      <td>90</td>\n",
       "      <td>0.346154</td>\n",
       "      <td>247</td>\n",
       "      <td>0.950000</td>\n",
       "      <td>0</td>\n",
       "      <td>0.000000</td>\n",
       "      <td>0</td>\n",
       "      <td>0</td>\n",
       "      <td>-165.968735</td>\n",
       "      <td>-0.638341</td>\n",
       "      <td>2.258394</td>\n",
       "      <td>-0.739395</td>\n",
       "      <td>0.212139</td>\n",
       "      <td>4</td>\n",
       "      <td>0.015385</td>\n",
       "      <td>1</td>\n",
       "      <td>0</td>\n",
       "      <td>0.123314</td>\n",
       "      <td>0</td>\n",
       "      <td>-8</td>\n",
       "      <td>-3.911538</td>\n",
       "      <td>5.748901</td>\n",
       "      <td>260</td>\n",
       "      <td>9</td>\n",
       "      <td>23</td>\n",
       "      <td>...</td>\n",
       "      <td>0.0</td>\n",
       "      <td>0.000000</td>\n",
       "      <td>0.0</td>\n",
       "      <td>0.0</td>\n",
       "      <td>-13.242188</td>\n",
       "      <td>-0.575684</td>\n",
       "      <td>-0.296143</td>\n",
       "      <td>-0.724609</td>\n",
       "      <td>0.135742</td>\n",
       "      <td>0.0</td>\n",
       "      <td>0.000000</td>\n",
       "      <td>0.0</td>\n",
       "      <td>0.0</td>\n",
       "      <td>0.000000</td>\n",
       "      <td>2.0</td>\n",
       "      <td>1.0</td>\n",
       "      <td>1.478261</td>\n",
       "      <td>0.260870</td>\n",
       "      <td>23.0</td>\n",
       "      <td>2.0</td>\n",
       "      <td>8.0</td>\n",
       "      <td>2.0</td>\n",
       "      <td>7.0</td>\n",
       "      <td>7.0</td>\n",
       "      <td>1.0</td>\n",
       "      <td>10.0</td>\n",
       "      <td>14.0</td>\n",
       "      <td>0.0</td>\n",
       "      <td>0.0</td>\n",
       "      <td>0.0</td>\n",
       "      <td>0.0</td>\n",
       "      <td>0.0</td>\n",
       "      <td>41.739130</td>\n",
       "      <td>54.0</td>\n",
       "      <td>2.347826</td>\n",
       "      <td>794.0</td>\n",
       "      <td>849.0</td>\n",
       "      <td>277.0</td>\n",
       "      <td>283.0</td>\n",
       "      <td>-179.210922</td>\n",
       "    </tr>\n",
       "    <tr>\n",
       "      <th>1</th>\n",
       "      <td>2017-01-01</td>\n",
       "      <td>C_ID_3d0044924f</td>\n",
       "      <td>4</td>\n",
       "      <td>1</td>\n",
       "      <td>0</td>\n",
       "      <td>0.392822</td>\n",
       "      <td>396</td>\n",
       "      <td>1</td>\n",
       "      <td>350</td>\n",
       "      <td>1.517438e+09</td>\n",
       "      <td>1.483720e+09</td>\n",
       "      <td>29.437143</td>\n",
       "      <td>29</td>\n",
       "      <td>30</td>\n",
       "      <td>0.246754</td>\n",
       "      <td>132</td>\n",
       "      <td>0.377143</td>\n",
       "      <td>339</td>\n",
       "      <td>0.968571</td>\n",
       "      <td>31</td>\n",
       "      <td>0.088571</td>\n",
       "      <td>1</td>\n",
       "      <td>0</td>\n",
       "      <td>-210.006332</td>\n",
       "      <td>-0.600018</td>\n",
       "      <td>4.630300</td>\n",
       "      <td>-0.742400</td>\n",
       "      <td>0.384967</td>\n",
       "      <td>543</td>\n",
       "      <td>1.551429</td>\n",
       "      <td>10</td>\n",
       "      <td>-1</td>\n",
       "      <td>1.510777</td>\n",
       "      <td>0</td>\n",
       "      <td>-12</td>\n",
       "      <td>-5.031429</td>\n",
       "      <td>14.477519</td>\n",
       "      <td>350</td>\n",
       "      <td>12</td>\n",
       "      <td>24</td>\n",
       "      <td>...</td>\n",
       "      <td>0.0</td>\n",
       "      <td>0.000000</td>\n",
       "      <td>0.0</td>\n",
       "      <td>0.0</td>\n",
       "      <td>-4.355469</td>\n",
       "      <td>-0.726074</td>\n",
       "      <td>-0.701660</td>\n",
       "      <td>-0.739258</td>\n",
       "      <td>0.014381</td>\n",
       "      <td>6.0</td>\n",
       "      <td>1.000000</td>\n",
       "      <td>1.0</td>\n",
       "      <td>1.0</td>\n",
       "      <td>0.000000</td>\n",
       "      <td>2.0</td>\n",
       "      <td>1.0</td>\n",
       "      <td>1.500000</td>\n",
       "      <td>0.300000</td>\n",
       "      <td>6.0</td>\n",
       "      <td>2.0</td>\n",
       "      <td>5.0</td>\n",
       "      <td>1.0</td>\n",
       "      <td>4.0</td>\n",
       "      <td>4.0</td>\n",
       "      <td>1.0</td>\n",
       "      <td>4.0</td>\n",
       "      <td>5.0</td>\n",
       "      <td>0.0</td>\n",
       "      <td>0.0</td>\n",
       "      <td>0.0</td>\n",
       "      <td>0.0</td>\n",
       "      <td>0.0</td>\n",
       "      <td>56.833333</td>\n",
       "      <td>56.0</td>\n",
       "      <td>9.333333</td>\n",
       "      <td>824.0</td>\n",
       "      <td>881.0</td>\n",
       "      <td>396.0</td>\n",
       "      <td>356.0</td>\n",
       "      <td>-214.361801</td>\n",
       "    </tr>\n",
       "    <tr>\n",
       "      <th>2</th>\n",
       "      <td>2016-08-01</td>\n",
       "      <td>C_ID_d639edf6cd</td>\n",
       "      <td>2</td>\n",
       "      <td>2</td>\n",
       "      <td>0</td>\n",
       "      <td>0.687988</td>\n",
       "      <td>549</td>\n",
       "      <td>3</td>\n",
       "      <td>43</td>\n",
       "      <td>1.519759e+09</td>\n",
       "      <td>1.484123e+09</td>\n",
       "      <td>28.325581</td>\n",
       "      <td>28</td>\n",
       "      <td>29</td>\n",
       "      <td>0.224806</td>\n",
       "      <td>11</td>\n",
       "      <td>0.255814</td>\n",
       "      <td>41</td>\n",
       "      <td>0.953488</td>\n",
       "      <td>0</td>\n",
       "      <td>0.000000</td>\n",
       "      <td>0</td>\n",
       "      <td>0</td>\n",
       "      <td>-29.167391</td>\n",
       "      <td>-0.678311</td>\n",
       "      <td>-0.145847</td>\n",
       "      <td>-0.730138</td>\n",
       "      <td>0.087380</td>\n",
       "      <td>0</td>\n",
       "      <td>0.000000</td>\n",
       "      <td>0</td>\n",
       "      <td>0</td>\n",
       "      <td>0.000000</td>\n",
       "      <td>0</td>\n",
       "      <td>-13</td>\n",
       "      <td>-8.604651</td>\n",
       "      <td>14.768549</td>\n",
       "      <td>43</td>\n",
       "      <td>10</td>\n",
       "      <td>14</td>\n",
       "      <td>...</td>\n",
       "      <td>0.0</td>\n",
       "      <td>0.000000</td>\n",
       "      <td>0.0</td>\n",
       "      <td>0.0</td>\n",
       "      <td>-0.700195</td>\n",
       "      <td>-0.700195</td>\n",
       "      <td>-0.700195</td>\n",
       "      <td>-0.700195</td>\n",
       "      <td>NaN</td>\n",
       "      <td>0.0</td>\n",
       "      <td>0.000000</td>\n",
       "      <td>0.0</td>\n",
       "      <td>0.0</td>\n",
       "      <td>NaN</td>\n",
       "      <td>2.0</td>\n",
       "      <td>2.0</td>\n",
       "      <td>2.000000</td>\n",
       "      <td>NaN</td>\n",
       "      <td>1.0</td>\n",
       "      <td>1.0</td>\n",
       "      <td>1.0</td>\n",
       "      <td>1.0</td>\n",
       "      <td>1.0</td>\n",
       "      <td>1.0</td>\n",
       "      <td>1.0</td>\n",
       "      <td>1.0</td>\n",
       "      <td>1.0</td>\n",
       "      <td>0.0</td>\n",
       "      <td>0.0</td>\n",
       "      <td>0.0</td>\n",
       "      <td>0.0</td>\n",
       "      <td>0.0</td>\n",
       "      <td>14.000000</td>\n",
       "      <td>0.0</td>\n",
       "      <td>0.000000</td>\n",
       "      <td>795.0</td>\n",
       "      <td>795.0</td>\n",
       "      <td>635.0</td>\n",
       "      <td>44.0</td>\n",
       "      <td>-29.867586</td>\n",
       "    </tr>\n",
       "    <tr>\n",
       "      <th>3</th>\n",
       "      <td>2017-09-01</td>\n",
       "      <td>C_ID_186d6a6901</td>\n",
       "      <td>4</td>\n",
       "      <td>3</td>\n",
       "      <td>0</td>\n",
       "      <td>0.142456</td>\n",
       "      <td>153</td>\n",
       "      <td>3</td>\n",
       "      <td>77</td>\n",
       "      <td>1.519818e+09</td>\n",
       "      <td>1.506443e+09</td>\n",
       "      <td>28.389610</td>\n",
       "      <td>28</td>\n",
       "      <td>29</td>\n",
       "      <td>0.240943</td>\n",
       "      <td>11</td>\n",
       "      <td>0.142857</td>\n",
       "      <td>77</td>\n",
       "      <td>1.000000</td>\n",
       "      <td>12</td>\n",
       "      <td>0.155844</td>\n",
       "      <td>1</td>\n",
       "      <td>0</td>\n",
       "      <td>-49.491364</td>\n",
       "      <td>-0.642745</td>\n",
       "      <td>1.445596</td>\n",
       "      <td>-0.740897</td>\n",
       "      <td>0.261624</td>\n",
       "      <td>84</td>\n",
       "      <td>1.090909</td>\n",
       "      <td>3</td>\n",
       "      <td>-1</td>\n",
       "      <td>0.588974</td>\n",
       "      <td>0</td>\n",
       "      <td>-5</td>\n",
       "      <td>-2.831169</td>\n",
       "      <td>3.247437</td>\n",
       "      <td>77</td>\n",
       "      <td>6</td>\n",
       "      <td>16</td>\n",
       "      <td>...</td>\n",
       "      <td>1.0</td>\n",
       "      <td>0.142857</td>\n",
       "      <td>1.0</td>\n",
       "      <td>0.0</td>\n",
       "      <td>-4.656250</td>\n",
       "      <td>-0.665039</td>\n",
       "      <td>-0.566895</td>\n",
       "      <td>-0.734375</td>\n",
       "      <td>0.065918</td>\n",
       "      <td>5.0</td>\n",
       "      <td>0.714286</td>\n",
       "      <td>1.0</td>\n",
       "      <td>-1.0</td>\n",
       "      <td>0.755929</td>\n",
       "      <td>2.0</td>\n",
       "      <td>1.0</td>\n",
       "      <td>1.714286</td>\n",
       "      <td>0.238095</td>\n",
       "      <td>7.0</td>\n",
       "      <td>2.0</td>\n",
       "      <td>5.0</td>\n",
       "      <td>2.0</td>\n",
       "      <td>5.0</td>\n",
       "      <td>4.0</td>\n",
       "      <td>1.0</td>\n",
       "      <td>5.0</td>\n",
       "      <td>6.0</td>\n",
       "      <td>0.0</td>\n",
       "      <td>0.0</td>\n",
       "      <td>0.0</td>\n",
       "      <td>0.0</td>\n",
       "      <td>0.0</td>\n",
       "      <td>37.714286</td>\n",
       "      <td>41.0</td>\n",
       "      <td>5.857143</td>\n",
       "      <td>805.0</td>\n",
       "      <td>847.0</td>\n",
       "      <td>187.0</td>\n",
       "      <td>84.0</td>\n",
       "      <td>-54.147614</td>\n",
       "    </tr>\n",
       "    <tr>\n",
       "      <th>4</th>\n",
       "      <td>2017-11-01</td>\n",
       "      <td>C_ID_cdbd2c0db2</td>\n",
       "      <td>1</td>\n",
       "      <td>3</td>\n",
       "      <td>0</td>\n",
       "      <td>-0.159790</td>\n",
       "      <td>92</td>\n",
       "      <td>4</td>\n",
       "      <td>133</td>\n",
       "      <td>1.519850e+09</td>\n",
       "      <td>1.510445e+09</td>\n",
       "      <td>28.428571</td>\n",
       "      <td>28</td>\n",
       "      <td>29</td>\n",
       "      <td>0.246753</td>\n",
       "      <td>42</td>\n",
       "      <td>0.315789</td>\n",
       "      <td>128</td>\n",
       "      <td>0.962406</td>\n",
       "      <td>15</td>\n",
       "      <td>0.112782</td>\n",
       "      <td>1</td>\n",
       "      <td>0</td>\n",
       "      <td>-48.687656</td>\n",
       "      <td>-0.366073</td>\n",
       "      <td>7.193041</td>\n",
       "      <td>-0.746156</td>\n",
       "      <td>1.352094</td>\n",
       "      <td>182</td>\n",
       "      <td>1.368421</td>\n",
       "      <td>12</td>\n",
       "      <td>1</td>\n",
       "      <td>1.896862</td>\n",
       "      <td>0</td>\n",
       "      <td>-3</td>\n",
       "      <td>-1.285714</td>\n",
       "      <td>1.054113</td>\n",
       "      <td>133</td>\n",
       "      <td>4</td>\n",
       "      <td>22</td>\n",
       "      <td>...</td>\n",
       "      <td>2.0</td>\n",
       "      <td>0.055556</td>\n",
       "      <td>1.0</td>\n",
       "      <td>0.0</td>\n",
       "      <td>-19.921875</td>\n",
       "      <td>-0.553711</td>\n",
       "      <td>0.450928</td>\n",
       "      <td>-0.739258</td>\n",
       "      <td>0.223877</td>\n",
       "      <td>35.0</td>\n",
       "      <td>0.972222</td>\n",
       "      <td>2.0</td>\n",
       "      <td>-1.0</td>\n",
       "      <td>0.376913</td>\n",
       "      <td>2.0</td>\n",
       "      <td>1.0</td>\n",
       "      <td>1.555556</td>\n",
       "      <td>0.253968</td>\n",
       "      <td>36.0</td>\n",
       "      <td>2.0</td>\n",
       "      <td>14.0</td>\n",
       "      <td>2.0</td>\n",
       "      <td>8.0</td>\n",
       "      <td>7.0</td>\n",
       "      <td>1.0</td>\n",
       "      <td>10.0</td>\n",
       "      <td>17.0</td>\n",
       "      <td>0.0</td>\n",
       "      <td>0.0</td>\n",
       "      <td>0.0</td>\n",
       "      <td>0.0</td>\n",
       "      <td>0.0</td>\n",
       "      <td>41.194444</td>\n",
       "      <td>57.0</td>\n",
       "      <td>1.583333</td>\n",
       "      <td>795.0</td>\n",
       "      <td>852.0</td>\n",
       "      <td>121.0</td>\n",
       "      <td>169.0</td>\n",
       "      <td>-68.609528</td>\n",
       "    </tr>\n",
       "  </tbody>\n",
       "</table>\n",
       "</div>"
      ],
      "text/plain": [
       "  first_active_month          ...          purchase_amount_total\n",
       "0         2017-06-01          ...                    -179.210922\n",
       "1         2017-01-01          ...                    -214.361801\n",
       "2         2016-08-01          ...                     -29.867586\n",
       "3         2017-09-01          ...                     -54.147614\n",
       "4         2017-11-01          ...                     -68.609528\n",
       "\n",
       "[5 rows x 107 columns]"
      ]
     },
     "execution_count": 25,
     "metadata": {},
     "output_type": "execute_result"
    }
   ],
   "source": [
    "train.head(5)"
   ]
  },
  {
   "cell_type": "markdown",
   "execution_count": null,
   "metadata": {
    "_uuid": "26324d62739c824e870c7f97d247c2744899d422"
   },
   "source": [
    "Imputations and Data Transformation"
   ]
  },
  {
   "cell_type": "code",
   "execution_count": 26,
   "metadata": {
    "_uuid": "b3dd37511e6a80f0ce02ec552a9930bbb3a5b309",
    "scrolled": true
   },
   "outputs": [],
   "source": [
    "#Check for missing values in training set\n",
    "nulls = np.sum(train.isnull())\n",
    "nullcols = nulls.loc[(nulls != 0)]\n",
    "dtypes = train.dtypes\n",
    "dtypes2 = dtypes.loc[(nulls != 0)]\n",
    "info = pd.concat([nullcols, dtypes2], axis=1).sort_values(by=0, ascending=False)\n",
    "#print(info)\n",
    "#print(\"There are\", len(nullcols), \"columns with missing values in data set\")"
   ]
  },
  {
   "cell_type": "code",
   "execution_count": 27,
   "metadata": {
    "_uuid": "1737d40d9a033b7de10b4e401743ee1f2324fa32"
   },
   "outputs": [],
   "source": [
    "#Check for missing values in training set\n",
    "nulls = np.sum(test.isnull())\n",
    "nullcols = nulls.loc[(nulls != 0)]\n",
    "dtypes = test.dtypes\n",
    "dtypes2 = dtypes.loc[(nulls != 0)]\n",
    "info = pd.concat([nullcols, dtypes2], axis=1).sort_values(by=0, ascending=False)\n",
    "#print(info)\n",
    "#print(\"There are\", len(nullcols), \"columns with missing values in test set\")"
   ]
  },
  {
   "cell_type": "markdown",
   "execution_count": null,
   "metadata": {
    "_uuid": "f1b45687c9755b0672753aa84a0765480ff1d67b"
   },
   "source": [
    "Impute any values will significantly affect the RMSE score for test set. So Imputations have been excluded"
   ]
  },
  {
   "cell_type": "code",
   "execution_count": 28,
   "metadata": {
    "_uuid": "868b8f492ded29822f14d74fb4350f03ee4b3f2d"
   },
   "outputs": [],
   "source": [
    "numeric_dtypes = ['float64']\n",
    "numerics = []\n",
    "for i in train.columns:\n",
    "    if train[i].dtype in numeric_dtypes: \n",
    "        numerics.append(i)\n",
    "        \n",
    "#train.update(train[numerics].fillna(0.0000))"
   ]
  },
  {
   "cell_type": "code",
   "execution_count": 29,
   "metadata": {
    "_uuid": "fd0491f1ce6813e21979ca54e534bfe5bdd76260"
   },
   "outputs": [],
   "source": [
    "numeric_dtypes = ['float64']\n",
    "numerics = []\n",
    "for i in test.columns:\n",
    "    if test[i].dtype in numeric_dtypes: \n",
    "        numerics.append(i)\n",
    "        \n",
    "#test.update(test[numerics].fillna(0.0000))"
   ]
  },
  {
   "cell_type": "markdown",
   "execution_count": null,
   "metadata": {
    "_uuid": "3b0f12459d09a2d88ea34a60c85c1aa7553ef1aa"
   },
   "source": [
    "Detect and Correct Outliers"
   ]
  },
  {
   "cell_type": "code",
   "execution_count": 30,
   "metadata": {
    "_uuid": "0dd1c98207ed527cfd85a6b1a71235f3424629ee"
   },
   "outputs": [
    {
     "data": {
      "text/plain": [
       "0    199710\n",
       "1      2207\n",
       "Name: outliers, dtype: int64"
      ]
     },
     "execution_count": 30,
     "metadata": {},
     "output_type": "execute_result"
    }
   ],
   "source": [
    "# Remove the Outliers if any \n",
    "train['outliers'] = 0\n",
    "train.loc[train['target'] < -30, 'outliers'] = 1\n",
    "train['outliers'].value_counts()"
   ]
  },
  {
   "cell_type": "code",
   "execution_count": 31,
   "metadata": {
    "_uuid": "6b5d796a748bbdf483888c96f37634f07e4c8663"
   },
   "outputs": [],
   "source": [
    "for features in ['feature_1','feature_2','feature_3']:\n",
    "    order_label = train.groupby([features])['outliers'].mean()\n",
    "    train[features] = train[features].map(order_label)\n",
    "    test[features] =  test[features].map(order_label)"
   ]
  },
  {
   "cell_type": "code",
   "execution_count": 32,
   "metadata": {
    "_uuid": "ff17dbfc2d4087d08c9ee9a719c6f4f867692b48"
   },
   "outputs": [],
   "source": [
    "# Get the X and Y\n",
    "df_train_columns = [c for c in train.columns if c not in ['card_id', 'first_active_month','target','outliers']]\n",
    "target = train['target']"
   ]
  },
  {
   "cell_type": "markdown",
   "execution_count": null,
   "metadata": {
    "_uuid": "dac5e3fdfb1731d5b883ab2268f386cf61a869f7"
   },
   "source": [
    "Apply Light GBM Modelling Technique"
   ]
  },
  {
   "cell_type": "code",
   "execution_count": 33,
   "metadata": {
    "_uuid": "29d413b0cf270375808c3424410e71e07f71e15e",
    "scrolled": true
   },
   "outputs": [
    {
     "name": "stdout",
     "output_type": "stream",
     "text": [
      "fold 0\n",
      "Training until validation scores don't improve for 200 rounds.\n",
      "Early stopping, best iteration is:\n",
      "[913]\ttraining's rmse: 3.43091\tvalid_1's rmse: 3.65009\n",
      "fold 1\n",
      "Training until validation scores don't improve for 200 rounds.\n",
      "Early stopping, best iteration is:\n",
      "[1230]\ttraining's rmse: 3.38204\tvalid_1's rmse: 3.64771\n",
      "fold 2\n",
      "Training until validation scores don't improve for 200 rounds.\n",
      "Early stopping, best iteration is:\n",
      "[1384]\ttraining's rmse: 3.36305\tvalid_1's rmse: 3.65285\n",
      "fold 3\n",
      "Training until validation scores don't improve for 200 rounds.\n",
      "Early stopping, best iteration is:\n",
      "[527]\ttraining's rmse: 3.48949\tvalid_1's rmse: 3.65481\n",
      "fold 4\n",
      "Training until validation scores don't improve for 200 rounds.\n",
      "Early stopping, best iteration is:\n",
      "[896]\ttraining's rmse: 3.42859\tvalid_1's rmse: 3.6464\n"
     ]
    },
    {
     "data": {
      "text/plain": [
       "3.6503719618304338"
      ]
     },
     "execution_count": 33,
     "metadata": {},
     "output_type": "execute_result"
    }
   ],
   "source": [
    "import lightgbm as lgb\n",
    "\n",
    "folds = StratifiedKFold(n_splits=5, shuffle=True, random_state=4590)\n",
    "oof = np.zeros(len(train))\n",
    "predictions = np.zeros(len(test))\n",
    "feature_importance_df = pd.DataFrame()\n",
    "\n",
    "for fold_, (trn_idx, val_idx) in enumerate(folds.split(train,train['outliers'].values)):\n",
    "    print(\"fold {}\".format(fold_))\n",
    "    trn_data = lgb.Dataset(train.iloc[trn_idx][df_train_columns], label=target.iloc[trn_idx])\n",
    "    val_data = lgb.Dataset(train.iloc[val_idx][df_train_columns], label=target.iloc[val_idx])\n",
    "\n",
    "    param ={\n",
    "                'task': 'train',\n",
    "                'boosting': 'goss',\n",
    "                'objective': 'regression',\n",
    "                'metric': 'rmse',\n",
    "                'learning_rate': 0.01,\n",
    "                'subsample': 0.9855232997390695,\n",
    "                'max_depth': 7,\n",
    "                'top_rate': 0.9064148448434349,\n",
    "                'num_leaves': 63,\n",
    "                'min_child_weight': 41.9612869171337,\n",
    "                'other_rate': 0.0721768246018207,\n",
    "                'reg_alpha': 9.677537745007898,\n",
    "                'colsample_bytree': 0.5665320670155495,\n",
    "                'min_split_gain': 9.820197773625843,\n",
    "                'reg_lambda': 8.2532317400459,\n",
    "                'min_data_in_leaf': 21,\n",
    "                'verbose': -1,\n",
    "                'seed':int(2**fold_),\n",
    "                'bagging_seed':int(2**fold_),\n",
    "                'drop_seed':int(2**fold_)\n",
    "                }\n",
    "    \n",
    "    num_round = 10000\n",
    "    clf = lgb.train(param, trn_data, num_round, valid_sets = [trn_data, val_data], verbose_eval=-1, early_stopping_rounds = 200)\n",
    "    oof[val_idx] = clf.predict(train.iloc[val_idx][df_train_columns], num_iteration=clf.best_iteration)\n",
    "    \n",
    "    fold_importance_df = pd.DataFrame()\n",
    "    fold_importance_df[\"Feature\"] = df_train_columns\n",
    "    fold_importance_df[\"importance\"] = clf.feature_importance()\n",
    "    fold_importance_df[\"fold\"] = fold_ + 1\n",
    "    feature_importance_df = pd.concat([feature_importance_df, fold_importance_df], axis=0)\n",
    "    \n",
    "    predictions += clf.predict(test[df_train_columns], num_iteration=clf.best_iteration) / folds.n_splits\n",
    "\n",
    "np.sqrt(mean_squared_error(oof, target))"
   ]
  },
  {
   "cell_type": "markdown",
   "execution_count": null,
   "metadata": {
    "_uuid": "cc0a528f7356494ff8fab56315a9e25bcc611df6"
   },
   "source": [
    "Feature Importance\n"
   ]
  },
  {
   "cell_type": "code",
   "execution_count": 34,
   "metadata": {
    "_uuid": "f594383f5fb83246203ce54b4892592673e699ce",
    "scrolled": true
   },
   "outputs": [
    {
     "data": {
      "image/png": "[encoded data removed]",
      "text/plain": [
       "<Figure size 1008x1800 with 1 Axes>"
      ]
     },
     "metadata": {},
     "output_type": "display_data"
    }
   ],
   "source": [
    "cols = (feature_importance_df[[\"Feature\", \"importance\"]]\n",
    "        .groupby(\"Feature\")\n",
    "        .mean()\n",
    "        .sort_values(by=\"importance\", ascending=False)[:1000].index)\n",
    "\n",
    "best_features = feature_importance_df.loc[feature_importance_df.Feature.isin(cols)]\n",
    "\n",
    "plt.figure(figsize=(14,25))\n",
    "sns.barplot(x=\"importance\",\n",
    "            y=\"Feature\",\n",
    "            data=best_features.sort_values(by=\"importance\",\n",
    "                                           ascending=False))\n",
    "plt.title('LightGBM Features (avg over folds)')\n",
    "plt.tight_layout()\n",
    "plt.savefig('lgbm_importances.png')"
   ]
  },
  {
   "cell_type": "markdown",
   "execution_count": null,
   "metadata": {
    "_uuid": "e68611a4c9f1f1a042ddc5eedcfad33d89575b13"
   },
   "source": [
    "Final Predictions and Submission File."
   ]
  },
  {
   "cell_type": "code",
   "execution_count": 35,
   "metadata": {
    "_uuid": "e87474495a3b14a96345eb2773fce5564268d9ac"
   },
   "outputs": [],
   "source": [
    "sample_submission = pd.read_csv('../input/sample_submission.csv')\n",
    "sample_submission['target'] = predictions\n",
    "sample_submission.to_csv('submission_ashish_lgbm.csv', index=False)"
   ]
  }
 ],
 "metadata": {
  "kernelspec": {
   "display_name": "Python 3",
   "language": "python",
   "name": "python3"
  },
  "language_info": {
   "codemirror_mode": {
    "name": "ipython",
    "version": 3
   },
   "file_extension": ".py",
   "mimetype": "text/x-python",
   "name": "python",
   "nbconvert_exporter": "python",
   "pygments_lexer": "ipython3",
   "version": "3.6.4"
  }
 },
 "nbformat": 4,
 "nbformat_minor": 4
}
