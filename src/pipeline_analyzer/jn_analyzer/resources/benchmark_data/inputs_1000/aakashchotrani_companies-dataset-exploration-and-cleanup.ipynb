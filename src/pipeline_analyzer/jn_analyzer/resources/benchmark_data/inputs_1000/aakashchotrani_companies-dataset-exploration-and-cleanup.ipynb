{
 "cells": [
  {
   "cell_type": "markdown",
   "metadata": {},
   "source": [
    "Importing pandas and numpy library for doing data exploration."
   ]
  },
  {
   "cell_type": "code",
   "execution_count": 1,
   "metadata": {
    "_cell_guid": "b1076dfc-b9ad-4769-8c92-a6c4dae69d19",
    "_uuid": "8f2839f25d086af736a60e9eeb907d3b93b6e0e5"
   },
   "outputs": [
    {
     "name": "stdout",
     "output_type": "stream",
     "text": [
      "['companies_sorted.csv']\n"
     ]
    }
   ],
   "source": [
    "import numpy as np # linear algebra\n",
    "import pandas as pd # data processing, CSV file I/O (e.g. pd.read_csv)\n",
    "from sklearn.preprocessing import LabelEncoder\n",
    "import os\n",
    "print(os.listdir(\"../input\"))\n",
    "# Any results you write to the current directory are saved as output."
   ]
  },
  {
   "cell_type": "markdown",
   "metadata": {},
   "source": [
    "Loading the csv file into the memory into a pandas dataframe.\n",
    "Printing the first 5 rows to check the data."
   ]
  },
  {
   "cell_type": "code",
   "execution_count": 2,
   "metadata": {},
   "outputs": [
    {
     "data": {
      "text/html": [
       "<div>\n",
       "<style scoped>\n",
       "    .dataframe tbody tr th:only-of-type {\n",
       "        vertical-align: middle;\n",
       "    }\n",
       "\n",
       "    .dataframe tbody tr th {\n",
       "        vertical-align: top;\n",
       "    }\n",
       "\n",
       "    .dataframe thead th {\n",
       "        text-align: right;\n",
       "    }\n",
       "</style>\n",
       "<table border=\"1\" class=\"dataframe\">\n",
       "  <thead>\n",
       "    <tr style=\"text-align: right;\">\n",
       "      <th></th>\n",
       "      <th>Unnamed: 0</th>\n",
       "      <th>name</th>\n",
       "      <th>domain</th>\n",
       "      <th>year founded</th>\n",
       "      <th>industry</th>\n",
       "      <th>size range</th>\n",
       "      <th>locality</th>\n",
       "      <th>country</th>\n",
       "      <th>linkedin url</th>\n",
       "      <th>current employee estimate</th>\n",
       "      <th>total employee estimate</th>\n",
       "    </tr>\n",
       "  </thead>\n",
       "  <tbody>\n",
       "    <tr>\n",
       "      <th>0</th>\n",
       "      <td>5872184</td>\n",
       "      <td>ibm</td>\n",
       "      <td>ibm.com</td>\n",
       "      <td>1911.0</td>\n",
       "      <td>information technology and services</td>\n",
       "      <td>10001+</td>\n",
       "      <td>new york, new york, united states</td>\n",
       "      <td>united states</td>\n",
       "      <td>linkedin.com/company/ibm</td>\n",
       "      <td>274047</td>\n",
       "      <td>716906</td>\n",
       "    </tr>\n",
       "    <tr>\n",
       "      <th>1</th>\n",
       "      <td>4425416</td>\n",
       "      <td>tata consultancy services</td>\n",
       "      <td>tcs.com</td>\n",
       "      <td>1968.0</td>\n",
       "      <td>information technology and services</td>\n",
       "      <td>10001+</td>\n",
       "      <td>bombay, maharashtra, india</td>\n",
       "      <td>india</td>\n",
       "      <td>linkedin.com/company/tata-consultancy-services</td>\n",
       "      <td>190771</td>\n",
       "      <td>341369</td>\n",
       "    </tr>\n",
       "    <tr>\n",
       "      <th>2</th>\n",
       "      <td>21074</td>\n",
       "      <td>accenture</td>\n",
       "      <td>accenture.com</td>\n",
       "      <td>1989.0</td>\n",
       "      <td>information technology and services</td>\n",
       "      <td>10001+</td>\n",
       "      <td>dublin, dublin, ireland</td>\n",
       "      <td>ireland</td>\n",
       "      <td>linkedin.com/company/accenture</td>\n",
       "      <td>190689</td>\n",
       "      <td>455768</td>\n",
       "    </tr>\n",
       "    <tr>\n",
       "      <th>3</th>\n",
       "      <td>2309813</td>\n",
       "      <td>us army</td>\n",
       "      <td>goarmy.com</td>\n",
       "      <td>1800.0</td>\n",
       "      <td>military</td>\n",
       "      <td>10001+</td>\n",
       "      <td>alexandria, virginia, united states</td>\n",
       "      <td>united states</td>\n",
       "      <td>linkedin.com/company/us-army</td>\n",
       "      <td>162163</td>\n",
       "      <td>445958</td>\n",
       "    </tr>\n",
       "    <tr>\n",
       "      <th>4</th>\n",
       "      <td>1558607</td>\n",
       "      <td>ey</td>\n",
       "      <td>ey.com</td>\n",
       "      <td>1989.0</td>\n",
       "      <td>accounting</td>\n",
       "      <td>10001+</td>\n",
       "      <td>london, greater london, united kingdom</td>\n",
       "      <td>united kingdom</td>\n",
       "      <td>linkedin.com/company/ernstandyoung</td>\n",
       "      <td>158363</td>\n",
       "      <td>428960</td>\n",
       "    </tr>\n",
       "  </tbody>\n",
       "</table>\n",
       "</div>"
      ],
      "text/plain": [
       "   Unnamed: 0           ...           total employee estimate\n",
       "0     5872184           ...                            716906\n",
       "1     4425416           ...                            341369\n",
       "2       21074           ...                            455768\n",
       "3     2309813           ...                            445958\n",
       "4     1558607           ...                            428960\n",
       "\n",
       "[5 rows x 11 columns]"
      ]
     },
     "execution_count": 2,
     "metadata": {},
     "output_type": "execute_result"
    }
   ],
   "source": [
    "dataframe_companies = pd.read_csv(\"../input/companies_sorted.csv\")\n",
    "dataframe_companies.head()"
   ]
  },
  {
   "cell_type": "markdown",
   "metadata": {},
   "source": [
    "Let's perform the subset selection. Select the columns that we care about and ignore the rest of the data."
   ]
  },
  {
   "cell_type": "code",
   "execution_count": 3,
   "metadata": {},
   "outputs": [
    {
     "data": {
      "text/html": [
       "<div>\n",
       "<style scoped>\n",
       "    .dataframe tbody tr th:only-of-type {\n",
       "        vertical-align: middle;\n",
       "    }\n",
       "\n",
       "    .dataframe tbody tr th {\n",
       "        vertical-align: top;\n",
       "    }\n",
       "\n",
       "    .dataframe thead th {\n",
       "        text-align: right;\n",
       "    }\n",
       "</style>\n",
       "<table border=\"1\" class=\"dataframe\">\n",
       "  <thead>\n",
       "    <tr style=\"text-align: right;\">\n",
       "      <th></th>\n",
       "      <th>name</th>\n",
       "      <th>year founded</th>\n",
       "      <th>industry</th>\n",
       "      <th>size range</th>\n",
       "      <th>country</th>\n",
       "      <th>current employee estimate</th>\n",
       "    </tr>\n",
       "  </thead>\n",
       "  <tbody>\n",
       "    <tr>\n",
       "      <th>0</th>\n",
       "      <td>ibm</td>\n",
       "      <td>1911.0</td>\n",
       "      <td>information technology and services</td>\n",
       "      <td>10001+</td>\n",
       "      <td>united states</td>\n",
       "      <td>274047</td>\n",
       "    </tr>\n",
       "    <tr>\n",
       "      <th>1</th>\n",
       "      <td>tata consultancy services</td>\n",
       "      <td>1968.0</td>\n",
       "      <td>information technology and services</td>\n",
       "      <td>10001+</td>\n",
       "      <td>india</td>\n",
       "      <td>190771</td>\n",
       "    </tr>\n",
       "    <tr>\n",
       "      <th>2</th>\n",
       "      <td>accenture</td>\n",
       "      <td>1989.0</td>\n",
       "      <td>information technology and services</td>\n",
       "      <td>10001+</td>\n",
       "      <td>ireland</td>\n",
       "      <td>190689</td>\n",
       "    </tr>\n",
       "    <tr>\n",
       "      <th>3</th>\n",
       "      <td>us army</td>\n",
       "      <td>1800.0</td>\n",
       "      <td>military</td>\n",
       "      <td>10001+</td>\n",
       "      <td>united states</td>\n",
       "      <td>162163</td>\n",
       "    </tr>\n",
       "    <tr>\n",
       "      <th>4</th>\n",
       "      <td>ey</td>\n",
       "      <td>1989.0</td>\n",
       "      <td>accounting</td>\n",
       "      <td>10001+</td>\n",
       "      <td>united kingdom</td>\n",
       "      <td>158363</td>\n",
       "    </tr>\n",
       "  </tbody>\n",
       "</table>\n",
       "</div>"
      ],
      "text/plain": [
       "                        name            ...              current employee estimate\n",
       "0                        ibm            ...                                 274047\n",
       "1  tata consultancy services            ...                                 190771\n",
       "2                  accenture            ...                                 190689\n",
       "3                    us army            ...                                 162163\n",
       "4                         ey            ...                                 158363\n",
       "\n",
       "[5 rows x 6 columns]"
      ]
     },
     "execution_count": 3,
     "metadata": {},
     "output_type": "execute_result"
    }
   ],
   "source": [
    "dataframe_companies = dataframe_companies[['name','year founded','industry','size range','country','current employee estimate']]\n",
    "dataframe_companies.head()"
   ]
  },
  {
   "cell_type": "markdown",
   "metadata": {},
   "source": [
    "Printing the info of the dataframe to check what type of data is held within each column. \n",
    "Each column that has datatype set to object is potentially a categorical data."
   ]
  },
  {
   "cell_type": "code",
   "execution_count": 4,
   "metadata": {},
   "outputs": [
    {
     "name": "stdout",
     "output_type": "stream",
     "text": [
      "<class 'pandas.core.frame.DataFrame'>\n",
      "RangeIndex: 7173426 entries, 0 to 7173425\n",
      "Data columns (total 6 columns):\n",
      "name                         object\n",
      "year founded                 float64\n",
      "industry                     object\n",
      "size range                   object\n",
      "country                      object\n",
      "current employee estimate    int64\n",
      "dtypes: float64(1), int64(1), object(4)\n",
      "memory usage: 328.4+ MB\n",
      "None\n"
     ]
    }
   ],
   "source": [
    "print(dataframe_companies.info())"
   ]
  },
  {
   "cell_type": "markdown",
   "metadata": {},
   "source": [
    "Drawing a box plot for checking retlationship of categorical feature and continious feature."
   ]
  },
  {
   "cell_type": "code",
   "execution_count": 5,
   "metadata": {},
   "outputs": [
    {
     "data": {
      "text/plain": [
       "<matplotlib.axes._subplots.AxesSubplot at 0x7f679b29f710>"
      ]
     },
     "execution_count": 5,
     "metadata": {},
     "output_type": "execute_result"
    },
    {
     "data": {
      "image/png": "[encoded data removed]",
      "text/plain": [
       "<Figure size 720x720 with 1 Axes>"
      ]
     },
     "metadata": {
      "needs_background": "light"
     },
     "output_type": "display_data"
    }
   ],
   "source": [
    "dataframe_companies.boxplot('year founded','size range',figsize = (10,10))"
   ]
  },
  {
   "cell_type": "markdown",
   "metadata": {},
   "source": [
    "Printing total null values in the dataset. Then printing the column wise distribution of null values across dataset."
   ]
  },
  {
   "cell_type": "code",
   "execution_count": 6,
   "metadata": {},
   "outputs": [
    {
     "name": "stdout",
     "output_type": "stream",
     "text": [
      "Total null values in the dataset:  6246193\n",
      "Column wise distribution of null values in the dataset\n",
      "name                               3\n",
      "year founded                 3606980\n",
      "industry                      290003\n",
      "size range                         0\n",
      "country                      2349207\n",
      "current employee estimate          0\n",
      "dtype: int64\n"
     ]
    }
   ],
   "source": [
    "print('Total null values in the dataset: ',dataframe_companies.isnull().values.sum())\n",
    "print('Column wise distribution of null values in the dataset')\n",
    "print(dataframe_companies.isnull().sum())"
   ]
  },
  {
   "cell_type": "markdown",
   "metadata": {},
   "source": [
    "Handling the missing or null values."
   ]
  },
  {
   "cell_type": "code",
   "execution_count": 7,
   "metadata": {},
   "outputs": [
    {
     "name": "stdout",
     "output_type": "stream",
     "text": [
      "Total null values in the dataset:  6246187\n",
      "Column wise distribution of null values in the dataset\n",
      "name                               0\n",
      "year founded                 3606978\n",
      "industry                      290003\n",
      "size range                         0\n",
      "country                      2349206\n",
      "current employee estimate          0\n",
      "dtype: int64\n"
     ]
    }
   ],
   "source": [
    "#Removing the row where company name is null. Since it's completely useless. There are 3 rows where company name is null.\n",
    "#axis = 0 defines that we need to delete the row. If axis is 1 then the column would be deleted.\n",
    "#subset defines which column to consider for null values.\n",
    "dataframe_companies = dataframe_companies.dropna(axis = 0,subset = ['name'])\n",
    "\n",
    "#Cross checking if the null values were deleted properly.\n",
    "print('Total null values in the dataset: ',dataframe_companies.isnull().values.sum())\n",
    "print('Column wise distribution of null values in the dataset')\n",
    "print(dataframe_companies.isnull().sum())"
   ]
  },
  {
   "cell_type": "code",
   "execution_count": 8,
   "metadata": {},
   "outputs": [
    {
     "name": "stdout",
     "output_type": "stream",
     "text": [
      "Total null values in the dataset:  3606978\n",
      "Column wise distribution of null values in the dataset\n",
      "name                               0\n",
      "year founded                 3606978\n",
      "industry                           0\n",
      "size range                         0\n",
      "country                            0\n",
      "current employee estimate          0\n",
      "dtype: int64\n"
     ]
    }
   ],
   "source": [
    "#fill the null values in the country by inserting \"missing\" in the column where it's null or empty.\n",
    "dataframe_companies['country'].fillna('missing',inplace = True)\n",
    "dataframe_companies['industry'].fillna('missing',inplace = True)\n",
    "\n",
    "#Keep only those rows where we have atleast 3 non null column values. Drop rest of them.\n",
    "dataframe_companies.dropna(thresh = 3, inplace = True)\n",
    "\n",
    "#Cross checking \n",
    "print('Total null values in the dataset: ',dataframe_companies.isnull().values.sum())\n",
    "print('Column wise distribution of null values in the dataset')\n",
    "print(dataframe_companies.isnull().sum())"
   ]
  },
  {
   "cell_type": "code",
   "execution_count": 9,
   "metadata": {},
   "outputs": [
    {
     "data": {
      "text/plain": [
       "array([[<matplotlib.axes._subplots.AxesSubplot object at 0x7f679300cbe0>]],\n",
       "      dtype=object)"
      ]
     },
     "execution_count": 9,
     "metadata": {},
     "output_type": "execute_result"
    },
    {
     "data": {
      "image/png": "[encoded data removed]",
      "text/plain": [
       "<Figure size 432x288 with 1 Axes>"
      ]
     },
     "metadata": {
      "needs_background": "light"
     },
     "output_type": "display_data"
    }
   ],
   "source": [
    "#Drawing a histogram for the year.\n",
    "dataframe_companies.hist('year founded',bins = 10)"
   ]
  },
  {
   "cell_type": "markdown",
   "metadata": {},
   "source": [
    "Printing the median of the year. Since from the figure it's pretty much clear the year founded field has a median somewhere in mid 2000s"
   ]
  },
  {
   "cell_type": "code",
   "execution_count": 10,
   "metadata": {},
   "outputs": [
    {
     "name": "stdout",
     "output_type": "stream",
     "text": [
      "2009.0\n"
     ]
    }
   ],
   "source": [
    "print(dataframe_companies['year founded'].median())"
   ]
  },
  {
   "cell_type": "markdown",
   "metadata": {},
   "source": [
    "Filling in the missing value with median"
   ]
  },
  {
   "cell_type": "code",
   "execution_count": 11,
   "metadata": {},
   "outputs": [
    {
     "name": "stdout",
     "output_type": "stream",
     "text": [
      "Total null values in the dataset:  0\n",
      "Column wise distribution of null values in the dataset\n",
      "name                         0\n",
      "year founded                 0\n",
      "industry                     0\n",
      "size range                   0\n",
      "country                      0\n",
      "current employee estimate    0\n",
      "dtype: int64\n"
     ]
    }
   ],
   "source": [
    "dataframe_companies.fillna(dataframe_companies['year founded'].median(), inplace = True)\n",
    "\n",
    "#Cross checking \n",
    "print('Total null values in the dataset: ',dataframe_companies.isnull().values.sum())\n",
    "print('Column wise distribution of null values in the dataset')\n",
    "print(dataframe_companies.isnull().sum())"
   ]
  },
  {
   "cell_type": "markdown",
   "metadata": {},
   "source": [
    "Converting the categorical data into numerical data. \n",
    "Printing all the unique values for a categorical data to check,\n",
    "* Nominal : no order associated\n",
    "* ordinal : some order associated\n",
    "* continious : infine values between two values"
   ]
  },
  {
   "cell_type": "code",
   "execution_count": 12,
   "metadata": {},
   "outputs": [
    {
     "data": {
      "text/plain": [
       "information technology and services     453043\n",
       "marketing and advertising               338162\n",
       "missing                                 290003\n",
       "construction                            257921\n",
       "management consulting                   194556\n",
       "real estate                             193486\n",
       "computer software                       191269\n",
       "internet                                172208\n",
       "financial services                      170880\n",
       "health, wellness and fitness            145671\n",
       "hospital & health care                  140594\n",
       "education management                    136745\n",
       "retail                                  121085\n",
       "design                                  120153\n",
       "automotive                              104143\n",
       "non-profit organization management       99075\n",
       "hospitality                              98040\n",
       "food & beverages                         92537\n",
       "accounting                               89203\n",
       "entertainment                            89128\n",
       "professional training & coaching         84753\n",
       "law practice                             81632\n",
       "mechanical or industrial engineering     80595\n",
       "telecommunications                       78483\n",
       "architecture & planning                  77306\n",
       "human resources                          76592\n",
       "electrical/electronic manufacturing      74496\n",
       "staffing and recruiting                  74043\n",
       "events services                          73821\n",
       "oil & energy                             71566\n",
       "                                         ...  \n",
       "law enforcement                           9361\n",
       "fund-raising                              8664\n",
       "think tanks                               8203\n",
       "alternative medicine                      7724\n",
       "warehousing                               7628\n",
       "international affairs                     7528\n",
       "semiconductors                            7485\n",
       "animation                                 7471\n",
       "public policy                             7219\n",
       "political organization                    7176\n",
       "paper & forest products                   6934\n",
       "nonprofit organization management         6887\n",
       "wireless                                  6757\n",
       "capital markets                           5933\n",
       "glass, ceramics & concrete                5588\n",
       "libraries                                 5050\n",
       "gambling & casinos                        4925\n",
       "judiciary                                 3926\n",
       "military                                  3771\n",
       "shipbuilding                              3736\n",
       "package/freight delivery                  3594\n",
       "dairy                                     3119\n",
       "supermarkets                              2859\n",
       "alternative dispute resolution            2549\n",
       "nanotechnology                            2536\n",
       "fishery                                   2355\n",
       "ranching                                  2324\n",
       "railroad manufacture                      1818\n",
       "tobacco                                   1354\n",
       "legislative office                         524\n",
       "Name: industry, Length: 149, dtype: int64"
      ]
     },
     "execution_count": 12,
     "metadata": {},
     "output_type": "execute_result"
    }
   ],
   "source": [
    "dataframe_companies.industry.value_counts()\n"
   ]
  },
  {
   "cell_type": "markdown",
   "metadata": {},
   "source": [
    "Industry is a nominal data type since there is no order associated with the industry. \n",
    "Let's use Scikit learn label encoder for converting the nominal data into numeric data by assigning a unique number from 0 to N - 1 = 0 to 148 for each industry."
   ]
  },
  {
   "cell_type": "code",
   "execution_count": 13,
   "metadata": {},
   "outputs": [
    {
     "name": "stdout",
     "output_type": "stream",
     "text": [
      "{0: 'accounting', 1: 'airlines/aviation', 2: 'alternative dispute resolution', 3: 'alternative medicine', 4: 'animation', 5: 'apparel & fashion', 6: 'architecture & planning', 7: 'arts and crafts', 8: 'automotive', 9: 'aviation & aerospace', 10: 'banking', 11: 'biotechnology', 12: 'broadcast media', 13: 'building materials', 14: 'business supplies and equipment', 15: 'capital markets', 16: 'chemicals', 17: 'civic & social organization', 18: 'civil engineering', 19: 'commercial real estate', 20: 'computer & network security', 21: 'computer games', 22: 'computer hardware', 23: 'computer networking', 24: 'computer software', 25: 'construction', 26: 'consumer electronics', 27: 'consumer goods', 28: 'consumer services', 29: 'cosmetics', 30: 'dairy', 31: 'defense & space', 32: 'design', 33: 'e-learning', 34: 'education management', 35: 'electrical/electronic manufacturing', 36: 'entertainment', 37: 'environmental services', 38: 'events services', 39: 'executive office', 40: 'facilities services', 41: 'farming', 42: 'financial services', 43: 'fine art', 44: 'fishery', 45: 'food & beverages', 46: 'food production', 47: 'fund-raising', 48: 'furniture', 49: 'gambling & casinos', 50: 'glass, ceramics & concrete', 51: 'government administration', 52: 'government relations', 53: 'graphic design', 54: 'health, wellness and fitness', 55: 'higher education', 56: 'hospital & health care', 57: 'hospitality', 58: 'human resources', 59: 'import and export', 60: 'individual & family services', 61: 'industrial automation', 62: 'information services', 63: 'information technology and services', 64: 'insurance', 65: 'international affairs', 66: 'international trade and development', 67: 'internet', 68: 'investment banking', 69: 'investment management', 70: 'judiciary', 71: 'law enforcement', 72: 'law practice', 73: 'legal services', 74: 'legislative office', 75: 'leisure, travel & tourism', 76: 'libraries', 77: 'logistics and supply chain', 78: 'luxury goods & jewelry', 79: 'machinery', 80: 'management consulting', 81: 'maritime', 82: 'market research', 83: 'marketing and advertising', 84: 'mechanical or industrial engineering', 85: 'media production', 86: 'medical devices', 87: 'medical practice', 88: 'mental health care', 89: 'military', 90: 'mining & metals', 91: 'missing', 92: 'motion pictures and film', 93: 'museums and institutions', 94: 'music', 95: 'nanotechnology', 96: 'newspapers', 97: 'non-profit organization management', 98: 'nonprofit organization management', 99: 'oil & energy', 100: 'online media', 101: 'outsourcing/offshoring', 102: 'package/freight delivery', 103: 'packaging and containers', 104: 'paper & forest products', 105: 'performing arts', 106: 'pharmaceuticals', 107: 'philanthropy', 108: 'photography', 109: 'plastics', 110: 'political organization', 111: 'primary/secondary education', 112: 'printing', 113: 'professional training & coaching', 114: 'program development', 115: 'public policy', 116: 'public relations and communications', 117: 'public safety', 118: 'publishing', 119: 'railroad manufacture', 120: 'ranching', 121: 'real estate', 122: 'recreational facilities and services', 123: 'religious institutions', 124: 'renewables & environment', 125: 'research', 126: 'restaurants', 127: 'retail', 128: 'security and investigations', 129: 'semiconductors', 130: 'shipbuilding', 131: 'sporting goods', 132: 'sports', 133: 'staffing and recruiting', 134: 'supermarkets', 135: 'telecommunications', 136: 'textiles', 137: 'think tanks', 138: 'tobacco', 139: 'translation and localization', 140: 'transportation/trucking/railroad', 141: 'utilities', 142: 'venture capital & private equity', 143: 'veterinary', 144: 'warehousing', 145: 'wholesale', 146: 'wine and spirits', 147: 'wireless', 148: 'writing and editing'}\n"
     ]
    }
   ],
   "source": [
    "labelEncoder = LabelEncoder()\n",
    "industry_labels = labelEncoder.fit_transform(dataframe_companies['industry'])\n",
    "industry_mappings = {index: label for index, label in enumerate(labelEncoder.classes_)}\n",
    "print(industry_mappings)"
   ]
  },
  {
   "cell_type": "markdown",
   "metadata": {},
   "source": [
    "Adding these labels to our dataset as a new column."
   ]
  },
  {
   "cell_type": "code",
   "execution_count": 14,
   "metadata": {},
   "outputs": [
    {
     "data": {
      "text/html": [
       "<div>\n",
       "<style scoped>\n",
       "    .dataframe tbody tr th:only-of-type {\n",
       "        vertical-align: middle;\n",
       "    }\n",
       "\n",
       "    .dataframe tbody tr th {\n",
       "        vertical-align: top;\n",
       "    }\n",
       "\n",
       "    .dataframe thead th {\n",
       "        text-align: right;\n",
       "    }\n",
       "</style>\n",
       "<table border=\"1\" class=\"dataframe\">\n",
       "  <thead>\n",
       "    <tr style=\"text-align: right;\">\n",
       "      <th></th>\n",
       "      <th>name</th>\n",
       "      <th>year founded</th>\n",
       "      <th>industry</th>\n",
       "      <th>size range</th>\n",
       "      <th>country</th>\n",
       "      <th>current employee estimate</th>\n",
       "      <th>industry_mapping</th>\n",
       "    </tr>\n",
       "  </thead>\n",
       "  <tbody>\n",
       "    <tr>\n",
       "      <th>0</th>\n",
       "      <td>ibm</td>\n",
       "      <td>1911.0</td>\n",
       "      <td>information technology and services</td>\n",
       "      <td>10001+</td>\n",
       "      <td>united states</td>\n",
       "      <td>274047</td>\n",
       "      <td>63</td>\n",
       "    </tr>\n",
       "    <tr>\n",
       "      <th>1</th>\n",
       "      <td>tata consultancy services</td>\n",
       "      <td>1968.0</td>\n",
       "      <td>information technology and services</td>\n",
       "      <td>10001+</td>\n",
       "      <td>india</td>\n",
       "      <td>190771</td>\n",
       "      <td>63</td>\n",
       "    </tr>\n",
       "    <tr>\n",
       "      <th>2</th>\n",
       "      <td>accenture</td>\n",
       "      <td>1989.0</td>\n",
       "      <td>information technology and services</td>\n",
       "      <td>10001+</td>\n",
       "      <td>ireland</td>\n",
       "      <td>190689</td>\n",
       "      <td>63</td>\n",
       "    </tr>\n",
       "    <tr>\n",
       "      <th>3</th>\n",
       "      <td>us army</td>\n",
       "      <td>1800.0</td>\n",
       "      <td>military</td>\n",
       "      <td>10001+</td>\n",
       "      <td>united states</td>\n",
       "      <td>162163</td>\n",
       "      <td>89</td>\n",
       "    </tr>\n",
       "    <tr>\n",
       "      <th>4</th>\n",
       "      <td>ey</td>\n",
       "      <td>1989.0</td>\n",
       "      <td>accounting</td>\n",
       "      <td>10001+</td>\n",
       "      <td>united kingdom</td>\n",
       "      <td>158363</td>\n",
       "      <td>0</td>\n",
       "    </tr>\n",
       "  </tbody>\n",
       "</table>\n",
       "</div>"
      ],
      "text/plain": [
       "                        name        ...         industry_mapping\n",
       "0                        ibm        ...                       63\n",
       "1  tata consultancy services        ...                       63\n",
       "2                  accenture        ...                       63\n",
       "3                    us army        ...                       89\n",
       "4                         ey        ...                        0\n",
       "\n",
       "[5 rows x 7 columns]"
      ]
     },
     "execution_count": 14,
     "metadata": {},
     "output_type": "execute_result"
    }
   ],
   "source": [
    "dataframe_companies['industry_mapping'] = LabelEncoder().fit_transform(dataframe_companies['industry'])\n",
    "dataframe_companies.head()"
   ]
  },
  {
   "cell_type": "markdown",
   "metadata": {},
   "source": [
    "Performing the same steps for country field for converting categorical data to numerical data."
   ]
  },
  {
   "cell_type": "code",
   "execution_count": 15,
   "metadata": {},
   "outputs": [
    {
     "data": {
      "text/plain": [
       "missing                      2349206\n",
       "united states                2278866\n",
       "united kingdom                511969\n",
       "canada                        186621\n",
       "india                         144444\n",
       "spain                         143940\n",
       "netherlands                   136808\n",
       "germany                       118575\n",
       "australia                     117133\n",
       "france                        114706\n",
       "italy                         109818\n",
       "brazil                        108382\n",
       "belgium                        47581\n",
       "china                          36548\n",
       "turkey                         35350\n",
       "sweden                         34942\n",
       "mexico                         33701\n",
       "switzerland                    32742\n",
       "denmark                        29213\n",
       "south africa                   26631\n",
       "norway                         25936\n",
       "argentina                      24483\n",
       "poland                         21954\n",
       "united arab emirates           21639\n",
       "portugal                       21586\n",
       "chile                          21030\n",
       "ireland                        20426\n",
       "new zealand                    19544\n",
       "singapore                      17842\n",
       "colombia                       17448\n",
       "                              ...   \n",
       "marshall islands                  18\n",
       "mayotte                           18\n",
       "solomon islands                   15\n",
       "northern mariana islands          14\n",
       "guinea-bissau                     14\n",
       "antigua and barbuda               14\n",
       "são tomé and príncipe             14\n",
       "timor-leste                       14\n",
       "svalbard and jan mayen            14\n",
       "chad                              12\n",
       "grenada                           10\n",
       "sint maarten                       7\n",
       "saint martin                       7\n",
       "palau                              7\n",
       "north korea                        6\n",
       "american samoa                     6\n",
       "tonga                              6\n",
       "comoros                            6\n",
       "micronesia                         5\n",
       "central african republic           4\n",
       "eritrea                            4\n",
       "republic of the congo              4\n",
       "montserrat                         3\n",
       "western sahara                     3\n",
       "niue                               1\n",
       "saint barthélemy                   1\n",
       "saint pierre and miquelon          1\n",
       "norfolk island                     1\n",
       "saint helena                       1\n",
       "u.s. virgin islands                1\n",
       "Name: country, Length: 237, dtype: int64"
      ]
     },
     "execution_count": 15,
     "metadata": {},
     "output_type": "execute_result"
    }
   ],
   "source": [
    "dataframe_companies.country.value_counts()\n"
   ]
  },
  {
   "cell_type": "code",
   "execution_count": 16,
   "metadata": {},
   "outputs": [
    {
     "data": {
      "text/html": [
       "<div>\n",
       "<style scoped>\n",
       "    .dataframe tbody tr th:only-of-type {\n",
       "        vertical-align: middle;\n",
       "    }\n",
       "\n",
       "    .dataframe tbody tr th {\n",
       "        vertical-align: top;\n",
       "    }\n",
       "\n",
       "    .dataframe thead th {\n",
       "        text-align: right;\n",
       "    }\n",
       "</style>\n",
       "<table border=\"1\" class=\"dataframe\">\n",
       "  <thead>\n",
       "    <tr style=\"text-align: right;\">\n",
       "      <th></th>\n",
       "      <th>name</th>\n",
       "      <th>year founded</th>\n",
       "      <th>industry</th>\n",
       "      <th>size range</th>\n",
       "      <th>country</th>\n",
       "      <th>current employee estimate</th>\n",
       "      <th>industry_mapping</th>\n",
       "      <th>country_mapping</th>\n",
       "    </tr>\n",
       "  </thead>\n",
       "  <tbody>\n",
       "    <tr>\n",
       "      <th>0</th>\n",
       "      <td>ibm</td>\n",
       "      <td>1911.0</td>\n",
       "      <td>information technology and services</td>\n",
       "      <td>10001+</td>\n",
       "      <td>united states</td>\n",
       "      <td>274047</td>\n",
       "      <td>63</td>\n",
       "      <td>226</td>\n",
       "    </tr>\n",
       "    <tr>\n",
       "      <th>1</th>\n",
       "      <td>tata consultancy services</td>\n",
       "      <td>1968.0</td>\n",
       "      <td>information technology and services</td>\n",
       "      <td>10001+</td>\n",
       "      <td>india</td>\n",
       "      <td>190771</td>\n",
       "      <td>63</td>\n",
       "      <td>92</td>\n",
       "    </tr>\n",
       "    <tr>\n",
       "      <th>2</th>\n",
       "      <td>accenture</td>\n",
       "      <td>1989.0</td>\n",
       "      <td>information technology and services</td>\n",
       "      <td>10001+</td>\n",
       "      <td>ireland</td>\n",
       "      <td>190689</td>\n",
       "      <td>63</td>\n",
       "      <td>96</td>\n",
       "    </tr>\n",
       "    <tr>\n",
       "      <th>3</th>\n",
       "      <td>us army</td>\n",
       "      <td>1800.0</td>\n",
       "      <td>military</td>\n",
       "      <td>10001+</td>\n",
       "      <td>united states</td>\n",
       "      <td>162163</td>\n",
       "      <td>89</td>\n",
       "      <td>226</td>\n",
       "    </tr>\n",
       "    <tr>\n",
       "      <th>4</th>\n",
       "      <td>ey</td>\n",
       "      <td>1989.0</td>\n",
       "      <td>accounting</td>\n",
       "      <td>10001+</td>\n",
       "      <td>united kingdom</td>\n",
       "      <td>158363</td>\n",
       "      <td>0</td>\n",
       "      <td>225</td>\n",
       "    </tr>\n",
       "  </tbody>\n",
       "</table>\n",
       "</div>"
      ],
      "text/plain": [
       "                        name       ...         country_mapping\n",
       "0                        ibm       ...                     226\n",
       "1  tata consultancy services       ...                      92\n",
       "2                  accenture       ...                      96\n",
       "3                    us army       ...                     226\n",
       "4                         ey       ...                     225\n",
       "\n",
       "[5 rows x 8 columns]"
      ]
     },
     "execution_count": 16,
     "metadata": {},
     "output_type": "execute_result"
    }
   ],
   "source": [
    "dataframe_companies['country_mapping'] = LabelEncoder().fit_transform(dataframe_companies['country'])\n",
    "dataframe_companies.head()"
   ]
  },
  {
   "cell_type": "markdown",
   "metadata": {},
   "source": [
    "Renaming certain column headers since there is space between the column names."
   ]
  },
  {
   "cell_type": "code",
   "execution_count": 17,
   "metadata": {},
   "outputs": [
    {
     "data": {
      "text/html": [
       "<div>\n",
       "<style scoped>\n",
       "    .dataframe tbody tr th:only-of-type {\n",
       "        vertical-align: middle;\n",
       "    }\n",
       "\n",
       "    .dataframe tbody tr th {\n",
       "        vertical-align: top;\n",
       "    }\n",
       "\n",
       "    .dataframe thead th {\n",
       "        text-align: right;\n",
       "    }\n",
       "</style>\n",
       "<table border=\"1\" class=\"dataframe\">\n",
       "  <thead>\n",
       "    <tr style=\"text-align: right;\">\n",
       "      <th></th>\n",
       "      <th>name</th>\n",
       "      <th>year_founded</th>\n",
       "      <th>industry</th>\n",
       "      <th>size_range</th>\n",
       "      <th>country</th>\n",
       "      <th>current_employee_estimate</th>\n",
       "      <th>industry_mapping</th>\n",
       "      <th>country_mapping</th>\n",
       "    </tr>\n",
       "  </thead>\n",
       "  <tbody>\n",
       "    <tr>\n",
       "      <th>0</th>\n",
       "      <td>ibm</td>\n",
       "      <td>1911.0</td>\n",
       "      <td>information technology and services</td>\n",
       "      <td>10001+</td>\n",
       "      <td>united states</td>\n",
       "      <td>274047</td>\n",
       "      <td>63</td>\n",
       "      <td>226</td>\n",
       "    </tr>\n",
       "    <tr>\n",
       "      <th>1</th>\n",
       "      <td>tata consultancy services</td>\n",
       "      <td>1968.0</td>\n",
       "      <td>information technology and services</td>\n",
       "      <td>10001+</td>\n",
       "      <td>india</td>\n",
       "      <td>190771</td>\n",
       "      <td>63</td>\n",
       "      <td>92</td>\n",
       "    </tr>\n",
       "    <tr>\n",
       "      <th>2</th>\n",
       "      <td>accenture</td>\n",
       "      <td>1989.0</td>\n",
       "      <td>information technology and services</td>\n",
       "      <td>10001+</td>\n",
       "      <td>ireland</td>\n",
       "      <td>190689</td>\n",
       "      <td>63</td>\n",
       "      <td>96</td>\n",
       "    </tr>\n",
       "    <tr>\n",
       "      <th>3</th>\n",
       "      <td>us army</td>\n",
       "      <td>1800.0</td>\n",
       "      <td>military</td>\n",
       "      <td>10001+</td>\n",
       "      <td>united states</td>\n",
       "      <td>162163</td>\n",
       "      <td>89</td>\n",
       "      <td>226</td>\n",
       "    </tr>\n",
       "    <tr>\n",
       "      <th>4</th>\n",
       "      <td>ey</td>\n",
       "      <td>1989.0</td>\n",
       "      <td>accounting</td>\n",
       "      <td>10001+</td>\n",
       "      <td>united kingdom</td>\n",
       "      <td>158363</td>\n",
       "      <td>0</td>\n",
       "      <td>225</td>\n",
       "    </tr>\n",
       "  </tbody>\n",
       "</table>\n",
       "</div>"
      ],
      "text/plain": [
       "                        name       ...         country_mapping\n",
       "0                        ibm       ...                     226\n",
       "1  tata consultancy services       ...                      92\n",
       "2                  accenture       ...                      96\n",
       "3                    us army       ...                     226\n",
       "4                         ey       ...                     225\n",
       "\n",
       "[5 rows x 8 columns]"
      ]
     },
     "execution_count": 17,
     "metadata": {},
     "output_type": "execute_result"
    }
   ],
   "source": [
    "dataframe_companies.rename(index=str, columns={\"size range\": \"size_range\",\"year founded\": \"year_founded\",\"current employee estimate\":\"current_employee_estimate\"},inplace = True)\n",
    "dataframe_companies.head()\n"
   ]
  },
  {
   "cell_type": "markdown",
   "metadata": {},
   "source": [
    "Checking how many unique values the size range contains"
   ]
  },
  {
   "cell_type": "code",
   "execution_count": 18,
   "metadata": {},
   "outputs": [
    {
     "data": {
      "text/plain": [
       "1 - 10          5585398\n",
       "11 - 50         1126610\n",
       "51 - 200         324851\n",
       "201 - 500         78494\n",
       "501 - 1000        28394\n",
       "1001 - 5000       24537\n",
       "5001 - 10000       3044\n",
       "10001+             2095\n",
       "Name: size_range, dtype: int64"
      ]
     },
     "execution_count": 18,
     "metadata": {},
     "output_type": "execute_result"
    }
   ],
   "source": [
    "dataframe_companies.size_range.value_counts()"
   ]
  },
  {
   "cell_type": "markdown",
   "metadata": {},
   "source": [
    "Converting this categorical variable into labels by label encoder"
   ]
  },
  {
   "cell_type": "code",
   "execution_count": 19,
   "metadata": {},
   "outputs": [
    {
     "data": {
      "text/html": [
       "<div>\n",
       "<style scoped>\n",
       "    .dataframe tbody tr th:only-of-type {\n",
       "        vertical-align: middle;\n",
       "    }\n",
       "\n",
       "    .dataframe tbody tr th {\n",
       "        vertical-align: top;\n",
       "    }\n",
       "\n",
       "    .dataframe thead th {\n",
       "        text-align: right;\n",
       "    }\n",
       "</style>\n",
       "<table border=\"1\" class=\"dataframe\">\n",
       "  <thead>\n",
       "    <tr style=\"text-align: right;\">\n",
       "      <th></th>\n",
       "      <th>name</th>\n",
       "      <th>year_founded</th>\n",
       "      <th>industry</th>\n",
       "      <th>size_range</th>\n",
       "      <th>country</th>\n",
       "      <th>current_employee_estimate</th>\n",
       "      <th>industry_mapping</th>\n",
       "      <th>country_mapping</th>\n",
       "      <th>size_range_mapping</th>\n",
       "    </tr>\n",
       "  </thead>\n",
       "  <tbody>\n",
       "    <tr>\n",
       "      <th>0</th>\n",
       "      <td>ibm</td>\n",
       "      <td>1911.0</td>\n",
       "      <td>information technology and services</td>\n",
       "      <td>10001+</td>\n",
       "      <td>united states</td>\n",
       "      <td>274047</td>\n",
       "      <td>63</td>\n",
       "      <td>226</td>\n",
       "      <td>1</td>\n",
       "    </tr>\n",
       "    <tr>\n",
       "      <th>1</th>\n",
       "      <td>tata consultancy services</td>\n",
       "      <td>1968.0</td>\n",
       "      <td>information technology and services</td>\n",
       "      <td>10001+</td>\n",
       "      <td>india</td>\n",
       "      <td>190771</td>\n",
       "      <td>63</td>\n",
       "      <td>92</td>\n",
       "      <td>1</td>\n",
       "    </tr>\n",
       "    <tr>\n",
       "      <th>2</th>\n",
       "      <td>accenture</td>\n",
       "      <td>1989.0</td>\n",
       "      <td>information technology and services</td>\n",
       "      <td>10001+</td>\n",
       "      <td>ireland</td>\n",
       "      <td>190689</td>\n",
       "      <td>63</td>\n",
       "      <td>96</td>\n",
       "      <td>1</td>\n",
       "    </tr>\n",
       "    <tr>\n",
       "      <th>3</th>\n",
       "      <td>us army</td>\n",
       "      <td>1800.0</td>\n",
       "      <td>military</td>\n",
       "      <td>10001+</td>\n",
       "      <td>united states</td>\n",
       "      <td>162163</td>\n",
       "      <td>89</td>\n",
       "      <td>226</td>\n",
       "      <td>1</td>\n",
       "    </tr>\n",
       "    <tr>\n",
       "      <th>4</th>\n",
       "      <td>ey</td>\n",
       "      <td>1989.0</td>\n",
       "      <td>accounting</td>\n",
       "      <td>10001+</td>\n",
       "      <td>united kingdom</td>\n",
       "      <td>158363</td>\n",
       "      <td>0</td>\n",
       "      <td>225</td>\n",
       "      <td>1</td>\n",
       "    </tr>\n",
       "  </tbody>\n",
       "</table>\n",
       "</div>"
      ],
      "text/plain": [
       "                        name         ...          size_range_mapping\n",
       "0                        ibm         ...                           1\n",
       "1  tata consultancy services         ...                           1\n",
       "2                  accenture         ...                           1\n",
       "3                    us army         ...                           1\n",
       "4                         ey         ...                           1\n",
       "\n",
       "[5 rows x 9 columns]"
      ]
     },
     "execution_count": 19,
     "metadata": {},
     "output_type": "execute_result"
    }
   ],
   "source": [
    "dataframe_companies['size_range_mapping'] = LabelEncoder().fit_transform(dataframe_companies['size_range'])\n",
    "dataframe_companies.head()"
   ]
  },
  {
   "cell_type": "markdown",
   "metadata": {},
   "source": [
    "Convert the year field from float to int."
   ]
  },
  {
   "cell_type": "code",
   "execution_count": 20,
   "metadata": {},
   "outputs": [
    {
     "name": "stdout",
     "output_type": "stream",
     "text": [
      "<class 'pandas.core.frame.DataFrame'>\n",
      "Index: 7173423 entries, 0 to 7173425\n",
      "Data columns (total 9 columns):\n",
      "name                         object\n",
      "year_founded                 int64\n",
      "industry                     object\n",
      "size_range                   object\n",
      "country                      object\n",
      "current_employee_estimate    int64\n",
      "industry_mapping             int64\n",
      "country_mapping              int64\n",
      "size_range_mapping           int64\n",
      "dtypes: int64(5), object(4)\n",
      "memory usage: 547.3+ MB\n",
      "None\n"
     ]
    },
    {
     "data": {
      "text/html": [
       "<div>\n",
       "<style scoped>\n",
       "    .dataframe tbody tr th:only-of-type {\n",
       "        vertical-align: middle;\n",
       "    }\n",
       "\n",
       "    .dataframe tbody tr th {\n",
       "        vertical-align: top;\n",
       "    }\n",
       "\n",
       "    .dataframe thead th {\n",
       "        text-align: right;\n",
       "    }\n",
       "</style>\n",
       "<table border=\"1\" class=\"dataframe\">\n",
       "  <thead>\n",
       "    <tr style=\"text-align: right;\">\n",
       "      <th></th>\n",
       "      <th>name</th>\n",
       "      <th>year_founded</th>\n",
       "      <th>industry</th>\n",
       "      <th>size_range</th>\n",
       "      <th>country</th>\n",
       "      <th>current_employee_estimate</th>\n",
       "      <th>industry_mapping</th>\n",
       "      <th>country_mapping</th>\n",
       "      <th>size_range_mapping</th>\n",
       "    </tr>\n",
       "  </thead>\n",
       "  <tbody>\n",
       "    <tr>\n",
       "      <th>0</th>\n",
       "      <td>ibm</td>\n",
       "      <td>1911</td>\n",
       "      <td>information technology and services</td>\n",
       "      <td>10001+</td>\n",
       "      <td>united states</td>\n",
       "      <td>274047</td>\n",
       "      <td>63</td>\n",
       "      <td>226</td>\n",
       "      <td>1</td>\n",
       "    </tr>\n",
       "    <tr>\n",
       "      <th>1</th>\n",
       "      <td>tata consultancy services</td>\n",
       "      <td>1968</td>\n",
       "      <td>information technology and services</td>\n",
       "      <td>10001+</td>\n",
       "      <td>india</td>\n",
       "      <td>190771</td>\n",
       "      <td>63</td>\n",
       "      <td>92</td>\n",
       "      <td>1</td>\n",
       "    </tr>\n",
       "    <tr>\n",
       "      <th>2</th>\n",
       "      <td>accenture</td>\n",
       "      <td>1989</td>\n",
       "      <td>information technology and services</td>\n",
       "      <td>10001+</td>\n",
       "      <td>ireland</td>\n",
       "      <td>190689</td>\n",
       "      <td>63</td>\n",
       "      <td>96</td>\n",
       "      <td>1</td>\n",
       "    </tr>\n",
       "    <tr>\n",
       "      <th>3</th>\n",
       "      <td>us army</td>\n",
       "      <td>1800</td>\n",
       "      <td>military</td>\n",
       "      <td>10001+</td>\n",
       "      <td>united states</td>\n",
       "      <td>162163</td>\n",
       "      <td>89</td>\n",
       "      <td>226</td>\n",
       "      <td>1</td>\n",
       "    </tr>\n",
       "    <tr>\n",
       "      <th>4</th>\n",
       "      <td>ey</td>\n",
       "      <td>1989</td>\n",
       "      <td>accounting</td>\n",
       "      <td>10001+</td>\n",
       "      <td>united kingdom</td>\n",
       "      <td>158363</td>\n",
       "      <td>0</td>\n",
       "      <td>225</td>\n",
       "      <td>1</td>\n",
       "    </tr>\n",
       "  </tbody>\n",
       "</table>\n",
       "</div>"
      ],
      "text/plain": [
       "                        name         ...          size_range_mapping\n",
       "0                        ibm         ...                           1\n",
       "1  tata consultancy services         ...                           1\n",
       "2                  accenture         ...                           1\n",
       "3                    us army         ...                           1\n",
       "4                         ey         ...                           1\n",
       "\n",
       "[5 rows x 9 columns]"
      ]
     },
     "execution_count": 20,
     "metadata": {},
     "output_type": "execute_result"
    }
   ],
   "source": [
    "dataframe_companies['year_founded'] = dataframe_companies['year_founded'].astype(np.int64)\n",
    "print(dataframe_companies.info())\n",
    "dataframe_companies.head()"
   ]
  },
  {
   "cell_type": "markdown",
   "metadata": {},
   "source": [
    "We have now successfully converted all the fields to numerical data. \n",
    "For countries and industry we can further create one-hot encoding since there is no order associated with them in future. \n",
    "Also just drop the categorical textual fields and save the table."
   ]
  },
  {
   "cell_type": "markdown",
   "metadata": {},
   "source": [
    "Saving the dataset as CSV before more modification. So that we have a CSV backup. Check out the output tab on the left navigation bar to see the result. Click on the download dataset to download it."
   ]
  },
  {
   "cell_type": "code",
   "execution_count": 21,
   "metadata": {},
   "outputs": [],
   "source": [
    "dataframe_companies.to_csv('Companies_Cleaned_Dataset.csv', sep=',', encoding='utf-8')\n"
   ]
  },
  {
   "cell_type": "code",
   "execution_count": null,
   "metadata": {},
   "outputs": [],
   "source": []
  }
 ],
 "metadata": {
  "kernelspec": {
   "display_name": "Python 3",
   "language": "python",
   "name": "python3"
  },
  "language_info": {
   "codemirror_mode": {
    "name": "ipython",
    "version": 3
   },
   "file_extension": ".py",
   "mimetype": "text/x-python",
   "name": "python",
   "nbconvert_exporter": "python",
   "pygments_lexer": "ipython3",
   "version": "3.6.6"
  }
 },
 "nbformat": 4,
 "nbformat_minor": 1
}
