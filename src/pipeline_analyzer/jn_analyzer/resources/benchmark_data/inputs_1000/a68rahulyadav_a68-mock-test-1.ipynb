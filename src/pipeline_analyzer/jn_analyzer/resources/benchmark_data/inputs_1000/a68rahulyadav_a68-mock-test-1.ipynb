{
 "cells": [
  {
   "cell_type": "code",
   "execution_count": 1,
   "metadata": {
    "_cell_guid": "79c7e3d0-c299-4dcb-8224-4455121ee9b0",
    "_uuid": "d629ff2d2480ee46fbb7e2d37f6b5fab8052498a",
    "execution": {
     "iopub.execute_input": "2020-09-18T10:08:10.874547Z",
     "iopub.status.busy": "2020-09-18T10:08:10.873625Z",
     "iopub.status.idle": "2020-09-18T10:08:10.877410Z",
     "shell.execute_reply": "2020-09-18T10:08:10.878005Z"
    },
    "papermill": {
     "duration": 0.038098,
     "end_time": "2020-09-18T10:08:10.878185",
     "exception": false,
     "start_time": "2020-09-18T10:08:10.840087",
     "status": "completed"
    },
    "tags": []
   },
   "outputs": [
    {
     "name": "stdout",
     "output_type": "stream",
     "text": [
      "Select specific columns and rows:\n",
      "   score qualify\n",
      "b  37.27      no\n",
      "d  17.89      no\n",
      "f  23.80     yes\n",
      "g  19.50     yes\n"
     ]
    }
   ],
   "source": [
    "#Q1.pandas program to select the specified columns and rows from a given data frame\n",
    "import pandas as pd\n",
    "import numpy as np\n",
    "\n",
    "exam_data  = {'name': ['Alpha', 'Beeta', 'Gamma', 'Theta', 'Delta', 'Epsilon', 'Rhow', 'Iota', 'Kappa', 'Zeta'],\n",
    "        'score': [22.9, 37.27, 27.36, 17.89, np.nan, 23.80, 19.5, np.nan, 18.37, 19.79],\n",
    "        'attempts': [1, 3, 2, 3, 2, 3, 1, 1, 2, 1],\n",
    "        'qualify': ['yes', 'no', 'yes', 'no', 'no', 'yes', 'yes', 'no', 'no', 'yes']}\n",
    "labels = ['a', 'b', 'c', 'd', 'e', 'f', 'g', 'h', 'i', 'j']\n",
    "\n",
    "df = pd.DataFrame(exam_data , index=labels)\n",
    "print(\"Select specific columns and rows:\")\n",
    "print(df.iloc[[1, 3, 5, 6], [1, 3]])"
   ]
  },
  {
   "cell_type": "code",
   "execution_count": 2,
   "metadata": {
    "execution": {
     "iopub.execute_input": "2020-09-18T10:08:10.901638Z",
     "iopub.status.busy": "2020-09-18T10:08:10.896553Z",
     "iopub.status.idle": "2020-09-18T10:08:11.419381Z",
     "shell.execute_reply": "2020-09-18T10:08:11.418678Z"
    },
    "papermill": {
     "duration": 0.535957,
     "end_time": "2020-09-18T10:08:11.419504",
     "exception": false,
     "start_time": "2020-09-18T10:08:10.883547",
     "status": "completed"
    },
    "tags": []
   },
   "outputs": [
    {
     "name": "stdout",
     "output_type": "stream",
     "text": [
      "Total Data\n"
     ]
    },
    {
     "data": {
      "image/png": "[encoded data removed]",
      "text/plain": [
       "<Figure size 432x288 with 1 Axes>"
      ]
     },
     "metadata": {
      "needs_background": "light"
     },
     "output_type": "display_data"
    },
    {
     "name": "stdout",
     "output_type": "stream",
     "text": [
      "Normal Data\n"
     ]
    },
    {
     "data": {
      "image/png": "[encoded data removed]",
      "text/plain": [
       "<Figure size 432x288 with 1 Axes>"
      ]
     },
     "metadata": {
      "needs_background": "light"
     },
     "output_type": "display_data"
    }
   ],
   "source": [
    "#Q2.Store height of 50 srudents in inches.Now while the data was being recorded manually there has been some typing mistakes therefore height of two students has been recorded as 172 inches and 2 students recorded as 12 inches. Graphically plot and show how you can seggregate the normal data from the abnormal data.\n",
    "import matplotlib.pyplot as plt\n",
    "heights=[72,71,56,45,67,89,54,58,67,77,77,78,77,73,73,172,72,71,56,\n",
    "         45,67,89,54,58,67,172,77,78,77,73,73,172,12,54,64,75,75,77,\n",
    "         88,66,70,12,54,64,75,75,77,88,66,70]\n",
    "def plot_his(heights):\n",
    "    start=min(heights)-min(heights)%10\n",
    "    end=max(heights)+10\n",
    "    bins=list(range(start,end,5))\n",
    "    plt.hist(heights,bins,histtype='bar',rwidth=0.5,color='c')\n",
    "    plt.xlabel('height of students (inches)')\n",
    "    plt.ylabel('No.of Students')\n",
    "    plt.show()\n",
    "print('Total Data')\n",
    "plot_his(heights)\n",
    "heights=list(filter(lambda x: not x==172 and not x==12, heights))\n",
    "print('Normal Data')\n",
    "plot_his(heights)"
   ]
  },
  {
   "cell_type": "code",
   "execution_count": 3,
   "metadata": {
    "execution": {
     "iopub.execute_input": "2020-09-18T10:08:11.442561Z",
     "iopub.status.busy": "2020-09-18T10:08:11.441847Z",
     "iopub.status.idle": "2020-09-18T10:08:11.458066Z",
     "shell.execute_reply": "2020-09-18T10:08:11.457410Z"
    },
    "papermill": {
     "duration": 0.031726,
     "end_time": "2020-09-18T10:08:11.458190",
     "exception": false,
     "start_time": "2020-09-18T10:08:11.426464",
     "status": "completed"
    },
    "tags": []
   },
   "outputs": [
    {
     "name": "stdout",
     "output_type": "stream",
     "text": [
      "No.of Observations are:\n",
      "9826\n",
      "No. of Nan is:\n",
      "PassengerId      0\n",
      "Survived         0\n",
      "Pclass           0\n",
      "Name             0\n",
      "Sex              0\n",
      "Age            177\n",
      "SibSp            0\n",
      "Parch            0\n",
      "Ticket           0\n",
      "Fare             0\n",
      "Cabin          687\n",
      "Embarked         2\n",
      "dtype: int64\n"
     ]
    }
   ],
   "source": [
    "#Q3.get the number of observations, missing values and nan values.\n",
    "test_data = pd.read_csv(\"../input/titanicdataset-traincsv/train.csv\")\n",
    "print(\"No.of Observations are:\")\n",
    "print(test_data.count().sum())\n",
    "print(\"No. of Nan is:\")\n",
    "print(test_data.isnull().sum())"
   ]
  }
 ],
 "metadata": {
  "kernelspec": {
   "display_name": "Python 3",
   "language": "python",
   "name": "python3"
  },
  "language_info": {
   "codemirror_mode": {
    "name": "ipython",
    "version": 3
   },
   "file_extension": ".py",
   "mimetype": "text/x-python",
   "name": "python",
   "nbconvert_exporter": "python",
   "pygments_lexer": "ipython3",
   "version": "3.7.6"
  },
  "papermill": {
   "duration": 5.143207,
   "end_time": "2020-09-18T10:08:11.574118",
   "environment_variables": {},
   "exception": null,
   "input_path": "__notebook__.ipynb",
   "output_path": "__notebook__.ipynb",
   "parameters": {},
   "start_time": "2020-09-18T10:08:06.430911",
   "version": "2.1.0"
  }
 },
 "nbformat": 4,
 "nbformat_minor": 4
}
