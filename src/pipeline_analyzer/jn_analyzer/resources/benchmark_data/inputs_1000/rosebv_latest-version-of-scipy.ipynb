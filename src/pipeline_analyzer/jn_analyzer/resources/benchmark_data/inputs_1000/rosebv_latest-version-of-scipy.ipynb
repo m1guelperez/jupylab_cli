{
 "cells": [
  {
   "cell_type": "markdown",
   "metadata": {},
   "source": [
    "The latest versions on pypi.org for:\n",
    "* scipy is 1.3.0\n",
    "* numpy is 1.16.4\n",
    "* statsmodels is 0.10.0"
   ]
  },
  {
   "cell_type": "code",
   "execution_count": 1,
   "metadata": {},
   "outputs": [
    {
     "name": "stdout",
     "output_type": "stream",
     "text": [
      "20190709-212239\r\n",
      "2ac2889a7f6df92e4ce968ff345517398117736c\r\n"
     ]
    }
   ],
   "source": [
    "# Print the Docker Image build date and git hash (https://github.com/Kaggle/docker-python)\n",
    "!cat /etc/build_date\n",
    "!cat /etc/git_commit"
   ]
  },
  {
   "cell_type": "code",
   "execution_count": 2,
   "metadata": {
    "_cell_guid": "b1076dfc-b9ad-4769-8c92-a6c4dae69d19",
    "_uuid": "8f2839f25d086af736a60e9eeb907d3b93b6e0e5"
   },
   "outputs": [
    {
     "name": "stdout",
     "output_type": "stream",
     "text": [
      "Name: scipy\r\n",
      "Version: 1.2.1\r\n",
      "Summary: SciPy: Scientific Library for Python\r\n",
      "Home-page: https://www.scipy.org\r\n",
      "Author: None\r\n",
      "Author-email: None\r\n",
      "License: BSD\r\n",
      "Location: /opt/conda/lib/python3.6/site-packages\r\n",
      "Requires: \r\n",
      "Required-by: yellowbrick, xgboost, Wordbatch, wfdb, vecstack, umap-learn, tsfresh, TPOT, Theano, textacy, tensorforce, statsmodels, sklearn-pandas, sklearn-contrib-py-earth, shap, seaborn, scs, scikit-surprise, scikit-plot, scikit-optimize, scikit-learn, scattertext, revrand, resampy, pytext-nlp, pysal, pymc3, pyLDAvis, pyflux, ppca, plotnine, plotly-express, phik, PDPbox, osqp, optuna, mne, mlxtend, mlens, missingno, matplotlib-venn, lime, lightgbm, lightfm, librosa, ktext, kmodes, kmapper, Keras, implicit, imgaug, imbalanced-learn, ImageHash, hypertools, hyperopt, hpsklearn, hep-ml, heamy, hallucinate, gym, gluoncv, ggplot, gensim, fury, fitter, fastFM, fastai, fancyimpute, eli5, ecos, dora, dipy, deepdish, datashader, dask-ml, dask-glm, cvxpy, CVXcanon, cleverhans, cesium, category-encoders, Boruta, bayespy, bayesian-optimization, allennlp, albumentations, PyBrain\r\n",
      "---\r\n",
      "Name: numpy\r\n",
      "Version: 1.16.4\r\n",
      "Summary: NumPy is the fundamental package for array computing with Python.\r\n",
      "Home-page: https://www.numpy.org\r\n",
      "Author: Travis E. Oliphant et al.\r\n",
      "Author-email: None\r\n",
      "License: BSD\r\n",
      "Location: /opt/conda/lib/python3.6/site-packages\r\n",
      "Requires: \r\n",
      "Required-by: yellowbrick, xgboost, xarray, wordcloud, Wordbatch, wfdb, wavio, visvis, vecstack, umap-learn, tsfresh, TPOT, torchvision, torchtext, torch, tifffile, thinc, Theano, tflearn, textacy, tensorpack, tensorforce, tensorflow, tensorflow-probability, tensorflow-hub, tensorboardX, tensorboard, tables, statsmodels, speedml, spectral, spacy, sklearn-pandas, shap, seaborn, scs, scikit-surprise, scikit-optimize, scikit-learn, scattertext, rf-perm-feat-import, revrand, resampy, ray, randomgen, PyWavelets, PyUpSet, pytorch-pretrained-bert, pytext-nlp, pytest-doctestplus, pytest-arraydiff, pystan, pymc3, pyLDAvis, pykoko, pyflux, pyfasttext, pyemd, PyAstronomy, pyarrow, py-stringmatching, ppca, plotnine, plotly-express, phik, PDPbox, patsy, pandasql, pandas, pandas-summary, osqp, optuna, opencv-python, opencv-python-headless, onnx, numexpr, numba, nibabel, nervananeon, mxnet, msgpack-numpy, mnist, mne, mlxtend, mlens, mlcrate, ml-metrics, mkl-random, mkl-fft, mizani, missingno, matplotlib, matplotlib-venn, lime, lightgbm, lightfm, librosa, Lasagne, langid, ktext, knnimpute, kmodes, kmeans-smote, kmapper, Keras, Keras-Preprocessing, Keras-Applications, implicit, imgaug, imbalanced-learn, ImageHash, ibis-framework, hypertools, hyperopt, hpsklearn, holoviews, hmmlearn, hep-ml, heamy, hallucinate, h5py, gym, gluonnlp, gluoncv, ggplot, geoviews, gensim, fury, folium, fitter, featuretools, fbprophet, fasttext, fastFM, fastai, fancyimpute, ethnicolr, essentia, eli5, edward, ecos, dora, deepdish, deap, datashape, datashader, dask-ml, cvxpy, CVXcanon, cufflinks, conx, cleverhans, chainer, category-encoders, catboost, Cartopy, Bottleneck, Boruta, bokeh, blis, bkcharts, biopython, bcolz, bayespy, bayesian-optimization, basemap, astropy, altair, allennlp, albumentations\r\n",
      "---\r\n",
      "Name: statsmodels\r\n",
      "Version: 0.10.0\r\n",
      "Summary: Statistical computations and models for Python\r\n",
      "Home-page: https://www.statsmodels.org/\r\n",
      "Author: None\r\n",
      "Author-email: None\r\n",
      "License: BSD License\r\n",
      "Location: /opt/conda/lib/python3.6/site-packages\r\n",
      "Requires: scipy, patsy, pandas, numpy\r\n",
      "Required-by: tsfresh, scattertext, plotnine, plotly-express, ggplot, category-encoders\r\n"
     ]
    }
   ],
   "source": [
    "!pip show scipy numpy statsmodels"
   ]
  },
  {
   "cell_type": "markdown",
   "metadata": {},
   "source": [
    "As of July 10th 2019, only `scipy` doesn't have the latest version."
   ]
  },
  {
   "cell_type": "markdown",
   "metadata": {},
   "source": [
    "Trying to upgrade `scipy`."
   ]
  },
  {
   "cell_type": "code",
   "execution_count": 3,
   "metadata": {
    "_cell_guid": "79c7e3d0-c299-4dcb-8224-4455121ee9b0",
    "_uuid": "d629ff2d2480ee46fbb7e2d37f6b5fab8052498a"
   },
   "outputs": [
    {
     "name": "stdout",
     "output_type": "stream",
     "text": [
      "Collecting scipy\r\n",
      "\u001b[?25l  Downloading https://files.pythonhosted.org/packages/72/4c/5f81e7264b0a7a8bd570810f48cd346ba36faedbd2ba255c873ad556de76/scipy-1.3.0-cp36-cp36m-manylinux1_x86_64.whl (25.2MB)\r\n",
      "\u001b[K     |████████████████████████████████| 25.2MB 473kB/s \r\n",
      "\u001b[?25hRequirement already satisfied, skipping upgrade: numpy>=1.13.3 in /opt/conda/lib/python3.6/site-packages (from scipy) (1.16.4)\r\n",
      "\u001b[31mERROR: allennlp 0.8.4 requires awscli>=1.11.91, which is not installed.\u001b[0m\r\n",
      "\u001b[31mERROR: allennlp 0.8.4 requires flaky, which is not installed.\u001b[0m\r\n",
      "\u001b[31mERROR: allennlp 0.8.4 requires responses>=0.7, which is not installed.\u001b[0m\r\n",
      "\u001b[31mERROR: kmeans-smote 0.1.2 has requirement imbalanced-learn<0.5,>=0.4.0, but you'll have imbalanced-learn 0.5.0 which is incompatible.\u001b[0m\r\n",
      "\u001b[31mERROR: kmeans-smote 0.1.2 has requirement numpy<1.16,>=1.13, but you'll have numpy 1.16.4 which is incompatible.\u001b[0m\r\n",
      "\u001b[31mERROR: kmeans-smote 0.1.2 has requirement scikit-learn<0.21,>=0.19.0, but you'll have scikit-learn 0.21.2 which is incompatible.\u001b[0m\r\n",
      "\u001b[31mERROR: ethnicolr 0.2.1 has requirement tensorflow==1.12.3, but you'll have tensorflow 1.14.0 which is incompatible.\u001b[0m\r\n",
      "Installing collected packages: scipy\r\n",
      "  Found existing installation: scipy 1.2.1\r\n",
      "    Uninstalling scipy-1.2.1:\r\n",
      "      Successfully uninstalled scipy-1.2.1\r\n",
      "Successfully installed scipy-1.3.0\r\n"
     ]
    }
   ],
   "source": [
    "!pip install --upgrade scipy"
   ]
  },
  {
   "cell_type": "code",
   "execution_count": 4,
   "metadata": {},
   "outputs": [
    {
     "name": "stdout",
     "output_type": "stream",
     "text": [
      "1.3.0\n"
     ]
    }
   ],
   "source": [
    "import scipy\n",
    "print(scipy.__version__)"
   ]
  },
  {
   "cell_type": "code",
   "execution_count": null,
   "metadata": {},
   "outputs": [],
   "source": []
  }
 ],
 "metadata": {
  "kernelspec": {
   "display_name": "Python 3",
   "language": "python",
   "name": "python3"
  },
  "language_info": {
   "codemirror_mode": {
    "name": "ipython",
    "version": 3
   },
   "file_extension": ".py",
   "mimetype": "text/x-python",
   "name": "python",
   "nbconvert_exporter": "python",
   "pygments_lexer": "ipython3",
   "version": "3.6.6"
  }
 },
 "nbformat": 4,
 "nbformat_minor": 1
}
