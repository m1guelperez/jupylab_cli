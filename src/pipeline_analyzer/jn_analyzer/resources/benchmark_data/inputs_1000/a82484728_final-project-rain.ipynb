{
 "cells": [
  {
   "cell_type": "markdown",
   "metadata": {},
   "source": [
    "# 期末報告\n",
    "#### 組員: 廖品瑜、胡筆勝"
   ]
  },
  {
   "cell_type": "markdown",
   "metadata": {},
   "source": [
    "## 1.Dataset簡介\n",
    "#### 這個資料集收集了從2007年起澳洲各地天氣站的氣象資料，包含今天是否降雨、降雨量、蒸發量、日照、不同時段的風速與風向、不同時段的溫度以及明天是否降雨...等等不同資料。\n",
    "\n",
    "#### 網址:https://www.kaggle.com/jsphyg/weather-dataset-rattle-package"
   ]
  },
  {
   "cell_type": "code",
   "execution_count": 1,
   "metadata": {},
   "outputs": [],
   "source": [
    "# data analysis and wrangling\n",
    "import pandas as pd\n",
    "import numpy as np\n",
    "import random as rnd\n",
    "# machine learning\n",
    "from sklearn import tree\n",
    "from sklearn.linear_model import LogisticRegression\n",
    "from sklearn.svm import SVC\n",
    "from sklearn.neighbors import KNeighborsClassifier\n",
    "from sklearn.naive_bayes import GaussianNB\n",
    "from sklearn import metrics\n",
    "# visualization\n",
    "import seaborn as sns\n",
    "import matplotlib.pyplot as plt"
   ]
  },
  {
   "cell_type": "markdown",
   "metadata": {},
   "source": [
    "## 2.問題定義\n",
    "#### 根據今天的各種氣象資料，訓練一個模型預測澳洲明天會不會下雨。"
   ]
  },
  {
   "cell_type": "code",
   "execution_count": 2,
   "metadata": {},
   "outputs": [
    {
     "data": {
      "text/plain": [
       "(142193, 24)"
      ]
     },
     "execution_count": 2,
     "metadata": {},
     "output_type": "execute_result"
    }
   ],
   "source": [
    "#read in\n",
    "pd_data = pd.read_csv('../input/weatherAUS.csv')\n",
    "pd_data.shape"
   ]
  },
  {
   "cell_type": "markdown",
   "metadata": {},
   "source": [
    "## 3.資料前處理\n",
    "#### 3.1 首先將有缺失的列刪除，避免資料不足難以預測。\n",
    "\n"
   ]
  },
  {
   "cell_type": "code",
   "execution_count": 3,
   "metadata": {},
   "outputs": [
    {
     "name": "stdout",
     "output_type": "stream",
     "text": [
      "(56420, 24)\n"
     ]
    }
   ],
   "source": [
    "#drop NAN\n",
    "pd_data=pd_data.dropna(how='any')\n",
    "print(pd_data.shape)"
   ]
  },
  {
   "cell_type": "markdown",
   "metadata": {},
   "source": [
    "\n",
    "#### 3.2 我們認為日期、地點都不是影響明日是否會下雨的因素，因此將'Date','Location'刪除。\n",
    "#### 'WindGustDir', 'WindDir9am', 'WindDir3pm'為風向，分由於是以文字表示，難轉換成數字，因此在此先不考慮。\n",
    "#### 'RISK_MM'是氣象局給出的明天雨量估計，基本上就是我們要的結果，若將此行加入會overfitting，故刪除。\n"
   ]
  },
  {
   "cell_type": "code",
   "execution_count": 4,
   "metadata": {},
   "outputs": [
    {
     "name": "stdout",
     "output_type": "stream",
     "text": [
      "(56420, 18)\n"
     ]
    },
    {
     "data": {
      "text/html": [
       "<div>\n",
       "<style scoped>\n",
       "    .dataframe tbody tr th:only-of-type {\n",
       "        vertical-align: middle;\n",
       "    }\n",
       "\n",
       "    .dataframe tbody tr th {\n",
       "        vertical-align: top;\n",
       "    }\n",
       "\n",
       "    .dataframe thead th {\n",
       "        text-align: right;\n",
       "    }\n",
       "</style>\n",
       "<table border=\"1\" class=\"dataframe\">\n",
       "  <thead>\n",
       "    <tr style=\"text-align: right;\">\n",
       "      <th></th>\n",
       "      <th>MinTemp</th>\n",
       "      <th>MaxTemp</th>\n",
       "      <th>Rainfall</th>\n",
       "      <th>Evaporation</th>\n",
       "      <th>Sunshine</th>\n",
       "      <th>WindGustSpeed</th>\n",
       "      <th>WindSpeed9am</th>\n",
       "      <th>WindSpeed3pm</th>\n",
       "      <th>Humidity9am</th>\n",
       "      <th>Humidity3pm</th>\n",
       "      <th>Pressure9am</th>\n",
       "      <th>Pressure3pm</th>\n",
       "      <th>Cloud9am</th>\n",
       "      <th>Cloud3pm</th>\n",
       "      <th>Temp9am</th>\n",
       "      <th>Temp3pm</th>\n",
       "      <th>RainToday</th>\n",
       "      <th>RainTomorrow</th>\n",
       "    </tr>\n",
       "  </thead>\n",
       "  <tbody>\n",
       "    <tr>\n",
       "      <th>5939</th>\n",
       "      <td>17.9</td>\n",
       "      <td>35.2</td>\n",
       "      <td>0.0</td>\n",
       "      <td>12.0</td>\n",
       "      <td>12.3</td>\n",
       "      <td>48.0</td>\n",
       "      <td>6.0</td>\n",
       "      <td>20.0</td>\n",
       "      <td>20.0</td>\n",
       "      <td>13.0</td>\n",
       "      <td>1006.3</td>\n",
       "      <td>1004.4</td>\n",
       "      <td>2.0</td>\n",
       "      <td>5.0</td>\n",
       "      <td>26.6</td>\n",
       "      <td>33.4</td>\n",
       "      <td>No</td>\n",
       "      <td>No</td>\n",
       "    </tr>\n",
       "    <tr>\n",
       "      <th>5940</th>\n",
       "      <td>18.4</td>\n",
       "      <td>28.9</td>\n",
       "      <td>0.0</td>\n",
       "      <td>14.8</td>\n",
       "      <td>13.0</td>\n",
       "      <td>37.0</td>\n",
       "      <td>19.0</td>\n",
       "      <td>19.0</td>\n",
       "      <td>30.0</td>\n",
       "      <td>8.0</td>\n",
       "      <td>1012.9</td>\n",
       "      <td>1012.1</td>\n",
       "      <td>1.0</td>\n",
       "      <td>1.0</td>\n",
       "      <td>20.3</td>\n",
       "      <td>27.0</td>\n",
       "      <td>No</td>\n",
       "      <td>No</td>\n",
       "    </tr>\n",
       "    <tr>\n",
       "      <th>5942</th>\n",
       "      <td>19.4</td>\n",
       "      <td>37.6</td>\n",
       "      <td>0.0</td>\n",
       "      <td>10.8</td>\n",
       "      <td>10.6</td>\n",
       "      <td>46.0</td>\n",
       "      <td>30.0</td>\n",
       "      <td>15.0</td>\n",
       "      <td>42.0</td>\n",
       "      <td>22.0</td>\n",
       "      <td>1012.3</td>\n",
       "      <td>1009.2</td>\n",
       "      <td>1.0</td>\n",
       "      <td>6.0</td>\n",
       "      <td>28.7</td>\n",
       "      <td>34.9</td>\n",
       "      <td>No</td>\n",
       "      <td>No</td>\n",
       "    </tr>\n",
       "    <tr>\n",
       "      <th>5943</th>\n",
       "      <td>21.9</td>\n",
       "      <td>38.4</td>\n",
       "      <td>0.0</td>\n",
       "      <td>11.4</td>\n",
       "      <td>12.2</td>\n",
       "      <td>31.0</td>\n",
       "      <td>6.0</td>\n",
       "      <td>6.0</td>\n",
       "      <td>37.0</td>\n",
       "      <td>22.0</td>\n",
       "      <td>1012.7</td>\n",
       "      <td>1009.1</td>\n",
       "      <td>1.0</td>\n",
       "      <td>5.0</td>\n",
       "      <td>29.1</td>\n",
       "      <td>35.6</td>\n",
       "      <td>No</td>\n",
       "      <td>No</td>\n",
       "    </tr>\n",
       "    <tr>\n",
       "      <th>5944</th>\n",
       "      <td>24.2</td>\n",
       "      <td>41.0</td>\n",
       "      <td>0.0</td>\n",
       "      <td>11.2</td>\n",
       "      <td>8.4</td>\n",
       "      <td>35.0</td>\n",
       "      <td>17.0</td>\n",
       "      <td>13.0</td>\n",
       "      <td>19.0</td>\n",
       "      <td>15.0</td>\n",
       "      <td>1010.7</td>\n",
       "      <td>1007.4</td>\n",
       "      <td>1.0</td>\n",
       "      <td>6.0</td>\n",
       "      <td>33.6</td>\n",
       "      <td>37.6</td>\n",
       "      <td>No</td>\n",
       "      <td>No</td>\n",
       "    </tr>\n",
       "  </tbody>\n",
       "</table>\n",
       "</div>"
      ],
      "text/plain": [
       "      MinTemp  MaxTemp  Rainfall      ...       Temp3pm  RainToday  RainTomorrow\n",
       "5939     17.9     35.2       0.0      ...          33.4         No            No\n",
       "5940     18.4     28.9       0.0      ...          27.0         No            No\n",
       "5942     19.4     37.6       0.0      ...          34.9         No            No\n",
       "5943     21.9     38.4       0.0      ...          35.6         No            No\n",
       "5944     24.2     41.0       0.0      ...          37.6         No            No\n",
       "\n",
       "[5 rows x 18 columns]"
      ]
     },
     "execution_count": 4,
     "metadata": {},
     "output_type": "execute_result"
    }
   ],
   "source": [
    "#drop something column\n",
    "drop_columns_list = ['WindGustDir', 'WindDir9am', 'WindDir3pm','Date','Location','RISK_MM']\n",
    "pd_data = pd_data.drop(drop_columns_list, axis=1)\n",
    "print(pd_data.shape)\n",
    "pd_data.head()"
   ]
  },
  {
   "cell_type": "code",
   "execution_count": 5,
   "metadata": {},
   "outputs": [
    {
     "data": {
      "text/html": [
       "<div>\n",
       "<style scoped>\n",
       "    .dataframe tbody tr th:only-of-type {\n",
       "        vertical-align: middle;\n",
       "    }\n",
       "\n",
       "    .dataframe tbody tr th {\n",
       "        vertical-align: top;\n",
       "    }\n",
       "\n",
       "    .dataframe thead th {\n",
       "        text-align: right;\n",
       "    }\n",
       "</style>\n",
       "<table border=\"1\" class=\"dataframe\">\n",
       "  <thead>\n",
       "    <tr style=\"text-align: right;\">\n",
       "      <th></th>\n",
       "      <th>MinTemp</th>\n",
       "      <th>MaxTemp</th>\n",
       "      <th>Rainfall</th>\n",
       "      <th>Evaporation</th>\n",
       "      <th>Sunshine</th>\n",
       "      <th>WindGustSpeed</th>\n",
       "      <th>WindSpeed9am</th>\n",
       "      <th>WindSpeed3pm</th>\n",
       "      <th>Humidity9am</th>\n",
       "      <th>Humidity3pm</th>\n",
       "      <th>Pressure9am</th>\n",
       "      <th>Pressure3pm</th>\n",
       "      <th>Cloud9am</th>\n",
       "      <th>Cloud3pm</th>\n",
       "      <th>Temp9am</th>\n",
       "      <th>Temp3pm</th>\n",
       "      <th>RainToday</th>\n",
       "      <th>RainTomorrow</th>\n",
       "    </tr>\n",
       "  </thead>\n",
       "  <tbody>\n",
       "    <tr>\n",
       "      <th>5939</th>\n",
       "      <td>17.9</td>\n",
       "      <td>35.2</td>\n",
       "      <td>0.0</td>\n",
       "      <td>12.0</td>\n",
       "      <td>12.3</td>\n",
       "      <td>48.0</td>\n",
       "      <td>6.0</td>\n",
       "      <td>20.0</td>\n",
       "      <td>20.0</td>\n",
       "      <td>13.0</td>\n",
       "      <td>1006.3</td>\n",
       "      <td>1004.4</td>\n",
       "      <td>2.0</td>\n",
       "      <td>5.0</td>\n",
       "      <td>26.6</td>\n",
       "      <td>33.4</td>\n",
       "      <td>0</td>\n",
       "      <td>0</td>\n",
       "    </tr>\n",
       "    <tr>\n",
       "      <th>5940</th>\n",
       "      <td>18.4</td>\n",
       "      <td>28.9</td>\n",
       "      <td>0.0</td>\n",
       "      <td>14.8</td>\n",
       "      <td>13.0</td>\n",
       "      <td>37.0</td>\n",
       "      <td>19.0</td>\n",
       "      <td>19.0</td>\n",
       "      <td>30.0</td>\n",
       "      <td>8.0</td>\n",
       "      <td>1012.9</td>\n",
       "      <td>1012.1</td>\n",
       "      <td>1.0</td>\n",
       "      <td>1.0</td>\n",
       "      <td>20.3</td>\n",
       "      <td>27.0</td>\n",
       "      <td>0</td>\n",
       "      <td>0</td>\n",
       "    </tr>\n",
       "    <tr>\n",
       "      <th>5942</th>\n",
       "      <td>19.4</td>\n",
       "      <td>37.6</td>\n",
       "      <td>0.0</td>\n",
       "      <td>10.8</td>\n",
       "      <td>10.6</td>\n",
       "      <td>46.0</td>\n",
       "      <td>30.0</td>\n",
       "      <td>15.0</td>\n",
       "      <td>42.0</td>\n",
       "      <td>22.0</td>\n",
       "      <td>1012.3</td>\n",
       "      <td>1009.2</td>\n",
       "      <td>1.0</td>\n",
       "      <td>6.0</td>\n",
       "      <td>28.7</td>\n",
       "      <td>34.9</td>\n",
       "      <td>0</td>\n",
       "      <td>0</td>\n",
       "    </tr>\n",
       "    <tr>\n",
       "      <th>5943</th>\n",
       "      <td>21.9</td>\n",
       "      <td>38.4</td>\n",
       "      <td>0.0</td>\n",
       "      <td>11.4</td>\n",
       "      <td>12.2</td>\n",
       "      <td>31.0</td>\n",
       "      <td>6.0</td>\n",
       "      <td>6.0</td>\n",
       "      <td>37.0</td>\n",
       "      <td>22.0</td>\n",
       "      <td>1012.7</td>\n",
       "      <td>1009.1</td>\n",
       "      <td>1.0</td>\n",
       "      <td>5.0</td>\n",
       "      <td>29.1</td>\n",
       "      <td>35.6</td>\n",
       "      <td>0</td>\n",
       "      <td>0</td>\n",
       "    </tr>\n",
       "    <tr>\n",
       "      <th>5944</th>\n",
       "      <td>24.2</td>\n",
       "      <td>41.0</td>\n",
       "      <td>0.0</td>\n",
       "      <td>11.2</td>\n",
       "      <td>8.4</td>\n",
       "      <td>35.0</td>\n",
       "      <td>17.0</td>\n",
       "      <td>13.0</td>\n",
       "      <td>19.0</td>\n",
       "      <td>15.0</td>\n",
       "      <td>1010.7</td>\n",
       "      <td>1007.4</td>\n",
       "      <td>1.0</td>\n",
       "      <td>6.0</td>\n",
       "      <td>33.6</td>\n",
       "      <td>37.6</td>\n",
       "      <td>0</td>\n",
       "      <td>0</td>\n",
       "    </tr>\n",
       "  </tbody>\n",
       "</table>\n",
       "</div>"
      ],
      "text/plain": [
       "      MinTemp  MaxTemp  Rainfall      ...       Temp3pm  RainToday  RainTomorrow\n",
       "5939     17.9     35.2       0.0      ...          33.4          0             0\n",
       "5940     18.4     28.9       0.0      ...          27.0          0             0\n",
       "5942     19.4     37.6       0.0      ...          34.9          0             0\n",
       "5943     21.9     38.4       0.0      ...          35.6          0             0\n",
       "5944     24.2     41.0       0.0      ...          37.6          0             0\n",
       "\n",
       "[5 rows x 18 columns]"
      ]
     },
     "execution_count": 5,
     "metadata": {},
     "output_type": "execute_result"
    }
   ],
   "source": [
    "#change yes/no to 1/0\n",
    "pd_data['RainToday'].replace({'No':0,'Yes':1},inplace=True)\n",
    "pd_data['RainTomorrow'].replace({'No':0,'Yes':1},inplace=True)\n",
    "pd_data.head()"
   ]
  },
  {
   "cell_type": "markdown",
   "metadata": {},
   "source": [
    "#### 3.3 RainToday原本由Yes/No組成，將其改為Yes=1,No=0\n",
    "####    將資料分成訓練Train與測試Test部分，Train占了55000筆，Test有1420筆，並把要得出的結果切出來。"
   ]
  },
  {
   "cell_type": "code",
   "execution_count": 6,
   "metadata": {},
   "outputs": [
    {
     "name": "stdout",
     "output_type": "stream",
     "text": [
      "5939    0\n",
      "5940    0\n",
      "5942    0\n",
      "5943    0\n",
      "5944    0\n",
      "Name: RainTomorrow, dtype: int64\n",
      "      MinTemp  MaxTemp  Rainfall    ...      Temp9am  Temp3pm  RainToday\n",
      "5939     17.9     35.2       0.0    ...         26.6     33.4          0\n",
      "5940     18.4     28.9       0.0    ...         20.3     27.0          0\n",
      "5942     19.4     37.6       0.0    ...         28.7     34.9          0\n",
      "5943     21.9     38.4       0.0    ...         29.1     35.6          0\n",
      "5944     24.2     41.0       0.0    ...         33.6     37.6          0\n",
      "\n",
      "[5 rows x 17 columns]\n"
     ]
    }
   ],
   "source": [
    "#Task: Split the data into train and test\n",
    "train_y = pd_data['RainTomorrow'].head(55000)\n",
    "test_y= pd_data['RainTomorrow'].tail(1420)\n",
    "train_x = pd_data.head(55000).drop(['RainTomorrow'], axis=1)\n",
    "test_x= pd_data.tail(1420).drop(['RainTomorrow'], axis=1)\n",
    "print(train_y.head())\n",
    "print(train_x.head())"
   ]
  },
  {
   "cell_type": "markdown",
   "metadata": {},
   "source": [
    "## 4.模型\n",
    "\n",
    "### 4.1 Decision tree"
   ]
  },
  {
   "cell_type": "code",
   "execution_count": 7,
   "metadata": {},
   "outputs": [],
   "source": [
    "import graphviz \n",
    "dtree=tree.DecisionTreeClassifier(max_depth=3)\n",
    "dtree=dtree.fit(train_x,train_y)\n",
    "dot_data = tree.export_graphviz(dtree, \n",
    "                filled=True, \n",
    "                feature_names=list(train_x),\n",
    "                class_names=['No rain','rain'],\n",
    "                special_characters=True)\n",
    "graph = graphviz.Source(dot_data)  \n"
   ]
  },
  {
   "cell_type": "code",
   "execution_count": 8,
   "metadata": {},
   "outputs": [
    {
     "data": {
      "image/svg+xml": [
       "<?xml version=\"1.0\" encoding=\"UTF-8\" standalone=\"no\"?>\n",
       "<!DOCTYPE svg PUBLIC \"-//W3C//DTD SVG 1.1//EN\"\n",
       " \"http://www.w3.org/Graphics/SVG/1.1/DTD/svg11.dtd\">\n",
       "<!-- Generated by graphviz version 2.38.0 (20140413.2041)\n",
       " -->\n",
       "<!-- Title: Tree Pages: 1 -->\n",
       "<svg width=\"1158pt\" height=\"433pt\"\n",
       " viewBox=\"0.00 0.00 1157.50 433.00\" xmlns=\"http://www.w3.org/2000/svg\" xmlns:xlink=\"http://www.w3.org/1999/xlink\">\n",
       "<g id=\"graph0\" class=\"graph\" transform=\"scale(1 1) rotate(0) translate(4 429)\">\n",
       "<title>Tree</title>\n",
       "<polygon fill=\"white\" stroke=\"none\" points=\"-4,4 -4,-429 1153.5,-429 1153.5,4 -4,4\"/>\n",
       "<!-- 0 -->\n",
       "<g id=\"node1\" class=\"node\"><title>0</title>\n",
       "<polygon fill=\"#eca471\" stroke=\"black\" points=\"659,-425 513,-425 513,-342 659,-342 659,-425\"/>\n",
       "<text text-anchor=\"start\" x=\"527\" y=\"-409.8\" font-family=\"Times,serif\" font-size=\"14.00\">Humidity3pm ≤ 69.5</text>\n",
       "<text text-anchor=\"start\" x=\"552\" y=\"-394.8\" font-family=\"Times,serif\" font-size=\"14.00\">gini = 0.343</text>\n",
       "<text text-anchor=\"start\" x=\"539\" y=\"-379.8\" font-family=\"Times,serif\" font-size=\"14.00\">samples = 55000</text>\n",
       "<text text-anchor=\"start\" x=\"521\" y=\"-364.8\" font-family=\"Times,serif\" font-size=\"14.00\">value = [42920, 12080]</text>\n",
       "<text text-anchor=\"start\" x=\"544\" y=\"-349.8\" font-family=\"Times,serif\" font-size=\"14.00\">class = No rain</text>\n",
       "</g>\n",
       "<!-- 1 -->\n",
       "<g id=\"node2\" class=\"node\"><title>1</title>\n",
       "<polygon fill=\"#e99559\" stroke=\"black\" points=\"544.5,-306 405.5,-306 405.5,-223 544.5,-223 544.5,-306\"/>\n",
       "<text text-anchor=\"start\" x=\"430\" y=\"-290.8\" font-family=\"Times,serif\" font-size=\"14.00\">Sunshine ≤ 8.45</text>\n",
       "<text text-anchor=\"start\" x=\"444.5\" y=\"-275.8\" font-family=\"Times,serif\" font-size=\"14.00\">gini = 0.24</text>\n",
       "<text text-anchor=\"start\" x=\"428\" y=\"-260.8\" font-family=\"Times,serif\" font-size=\"14.00\">samples = 46297</text>\n",
       "<text text-anchor=\"start\" x=\"413.5\" y=\"-245.8\" font-family=\"Times,serif\" font-size=\"14.00\">value = [39833, 6464]</text>\n",
       "<text text-anchor=\"start\" x=\"433\" y=\"-230.8\" font-family=\"Times,serif\" font-size=\"14.00\">class = No rain</text>\n",
       "</g>\n",
       "<!-- 0&#45;&gt;1 -->\n",
       "<g id=\"edge1\" class=\"edge\"><title>0&#45;&gt;1</title>\n",
       "<path fill=\"none\" stroke=\"black\" d=\"M547.489,-341.907C538.793,-332.742 529.482,-322.927 520.528,-313.489\"/>\n",
       "<polygon fill=\"black\" stroke=\"black\" points=\"522.865,-310.867 513.443,-306.021 517.786,-315.684 522.865,-310.867\"/>\n",
       "<text text-anchor=\"middle\" x=\"512.785\" y=\"-327.312\" font-family=\"Times,serif\" font-size=\"14.00\">True</text>\n",
       "</g>\n",
       "<!-- 8 -->\n",
       "<g id=\"node9\" class=\"node\"><title>8</title>\n",
       "<polygon fill=\"#a6d3f3\" stroke=\"black\" points=\"764,-306 630,-306 630,-223 764,-223 764,-306\"/>\n",
       "<text text-anchor=\"start\" x=\"638\" y=\"-290.8\" font-family=\"Times,serif\" font-size=\"14.00\">Humidity3pm ≤ 81.5</text>\n",
       "<text text-anchor=\"start\" x=\"663\" y=\"-275.8\" font-family=\"Times,serif\" font-size=\"14.00\">gini = 0.458</text>\n",
       "<text text-anchor=\"start\" x=\"653\" y=\"-260.8\" font-family=\"Times,serif\" font-size=\"14.00\">samples = 8703</text>\n",
       "<text text-anchor=\"start\" x=\"639\" y=\"-245.8\" font-family=\"Times,serif\" font-size=\"14.00\">value = [3087, 5616]</text>\n",
       "<text text-anchor=\"start\" x=\"665\" y=\"-230.8\" font-family=\"Times,serif\" font-size=\"14.00\">class = rain</text>\n",
       "</g>\n",
       "<!-- 0&#45;&gt;8 -->\n",
       "<g id=\"edge8\" class=\"edge\"><title>0&#45;&gt;8</title>\n",
       "<path fill=\"none\" stroke=\"black\" d=\"M624.511,-341.907C633.207,-332.742 642.518,-322.927 651.472,-313.489\"/>\n",
       "<polygon fill=\"black\" stroke=\"black\" points=\"654.214,-315.684 658.557,-306.021 649.135,-310.867 654.214,-315.684\"/>\n",
       "<text text-anchor=\"middle\" x=\"659.215\" y=\"-327.312\" font-family=\"Times,serif\" font-size=\"14.00\">False</text>\n",
       "</g>\n",
       "<!-- 2 -->\n",
       "<g id=\"node3\" class=\"node\"><title>2</title>\n",
       "<polygon fill=\"#eead7e\" stroke=\"black\" points=\"289.5,-187 142.5,-187 142.5,-104 289.5,-104 289.5,-187\"/>\n",
       "<text text-anchor=\"start\" x=\"150.5\" y=\"-171.8\" font-family=\"Times,serif\" font-size=\"14.00\">Pressure3pm ≤ 1013.85</text>\n",
       "<text text-anchor=\"start\" x=\"182\" y=\"-156.8\" font-family=\"Times,serif\" font-size=\"14.00\">gini = 0.382</text>\n",
       "<text text-anchor=\"start\" x=\"169\" y=\"-141.8\" font-family=\"Times,serif\" font-size=\"14.00\">samples = 18862</text>\n",
       "<text text-anchor=\"start\" x=\"154.5\" y=\"-126.8\" font-family=\"Times,serif\" font-size=\"14.00\">value = [14009, 4853]</text>\n",
       "<text text-anchor=\"start\" x=\"174\" y=\"-111.8\" font-family=\"Times,serif\" font-size=\"14.00\">class = No rain</text>\n",
       "</g>\n",
       "<!-- 1&#45;&gt;2 -->\n",
       "<g id=\"edge2\" class=\"edge\"><title>1&#45;&gt;2</title>\n",
       "<path fill=\"none\" stroke=\"black\" d=\"M405.252,-231.992C372.657,-217.268 333.595,-199.622 299.445,-184.195\"/>\n",
       "<polygon fill=\"black\" stroke=\"black\" points=\"300.506,-180.834 289.952,-179.907 297.625,-187.214 300.506,-180.834\"/>\n",
       "</g>\n",
       "<!-- 5 -->\n",
       "<g id=\"node6\" class=\"node\"><title>5</title>\n",
       "<polygon fill=\"#e78945\" stroke=\"black\" points=\"544.5,-187 405.5,-187 405.5,-104 544.5,-104 544.5,-187\"/>\n",
       "<text text-anchor=\"start\" x=\"416\" y=\"-171.8\" font-family=\"Times,serif\" font-size=\"14.00\">Humidity3pm ≤ 54.5</text>\n",
       "<text text-anchor=\"start\" x=\"441\" y=\"-156.8\" font-family=\"Times,serif\" font-size=\"14.00\">gini = 0.111</text>\n",
       "<text text-anchor=\"start\" x=\"428\" y=\"-141.8\" font-family=\"Times,serif\" font-size=\"14.00\">samples = 27435</text>\n",
       "<text text-anchor=\"start\" x=\"413.5\" y=\"-126.8\" font-family=\"Times,serif\" font-size=\"14.00\">value = [25824, 1611]</text>\n",
       "<text text-anchor=\"start\" x=\"433\" y=\"-111.8\" font-family=\"Times,serif\" font-size=\"14.00\">class = No rain</text>\n",
       "</g>\n",
       "<!-- 1&#45;&gt;5 -->\n",
       "<g id=\"edge5\" class=\"edge\"><title>1&#45;&gt;5</title>\n",
       "<path fill=\"none\" stroke=\"black\" d=\"M475,-222.907C475,-214.649 475,-205.864 475,-197.302\"/>\n",
       "<polygon fill=\"black\" stroke=\"black\" points=\"478.5,-197.021 475,-187.021 471.5,-197.021 478.5,-197.021\"/>\n",
       "</g>\n",
       "<!-- 3 -->\n",
       "<g id=\"node4\" class=\"node\"><title>3</title>\n",
       "<polygon fill=\"#f5d0b5\" stroke=\"black\" points=\"132,-68 0,-68 0,-0 132,-0 132,-68\"/>\n",
       "<text text-anchor=\"start\" x=\"32\" y=\"-52.8\" font-family=\"Times,serif\" font-size=\"14.00\">gini = 0.473</text>\n",
       "<text text-anchor=\"start\" x=\"22\" y=\"-37.8\" font-family=\"Times,serif\" font-size=\"14.00\">samples = 7590</text>\n",
       "<text text-anchor=\"start\" x=\"8\" y=\"-22.8\" font-family=\"Times,serif\" font-size=\"14.00\">value = [4674, 2916]</text>\n",
       "<text text-anchor=\"start\" x=\"24\" y=\"-7.8\" font-family=\"Times,serif\" font-size=\"14.00\">class = No rain</text>\n",
       "</g>\n",
       "<!-- 2&#45;&gt;3 -->\n",
       "<g id=\"edge3\" class=\"edge\"><title>2&#45;&gt;3</title>\n",
       "<path fill=\"none\" stroke=\"black\" d=\"M160.146,-103.726C147.027,-94.1494 133.07,-83.9611 120.033,-74.4438\"/>\n",
       "<polygon fill=\"black\" stroke=\"black\" points=\"121.756,-71.3688 111.616,-68.2996 117.629,-77.0227 121.756,-71.3688\"/>\n",
       "</g>\n",
       "<!-- 4 -->\n",
       "<g id=\"node5\" class=\"node\"><title>4</title>\n",
       "<polygon fill=\"#ea9b62\" stroke=\"black\" points=\"282,-68 150,-68 150,-0 282,-0 282,-68\"/>\n",
       "<text text-anchor=\"start\" x=\"182\" y=\"-52.8\" font-family=\"Times,serif\" font-size=\"14.00\">gini = 0.285</text>\n",
       "<text text-anchor=\"start\" x=\"169\" y=\"-37.8\" font-family=\"Times,serif\" font-size=\"14.00\">samples = 11272</text>\n",
       "<text text-anchor=\"start\" x=\"158\" y=\"-22.8\" font-family=\"Times,serif\" font-size=\"14.00\">value = [9335, 1937]</text>\n",
       "<text text-anchor=\"start\" x=\"174\" y=\"-7.8\" font-family=\"Times,serif\" font-size=\"14.00\">class = No rain</text>\n",
       "</g>\n",
       "<!-- 2&#45;&gt;4 -->\n",
       "<g id=\"edge4\" class=\"edge\"><title>2&#45;&gt;4</title>\n",
       "<path fill=\"none\" stroke=\"black\" d=\"M216,-103.726C216,-95.5175 216,-86.8595 216,-78.56\"/>\n",
       "<polygon fill=\"black\" stroke=\"black\" points=\"219.5,-78.2996 216,-68.2996 212.5,-78.2996 219.5,-78.2996\"/>\n",
       "</g>\n",
       "<!-- 6 -->\n",
       "<g id=\"node7\" class=\"node\"><title>6</title>\n",
       "<polygon fill=\"#e68742\" stroke=\"black\" points=\"432,-68 300,-68 300,-0 432,-0 432,-68\"/>\n",
       "<text text-anchor=\"start\" x=\"332\" y=\"-52.8\" font-family=\"Times,serif\" font-size=\"14.00\">gini = 0.081</text>\n",
       "<text text-anchor=\"start\" x=\"319\" y=\"-37.8\" font-family=\"Times,serif\" font-size=\"14.00\">samples = 22614</text>\n",
       "<text text-anchor=\"start\" x=\"308\" y=\"-22.8\" font-family=\"Times,serif\" font-size=\"14.00\">value = [21655, 959]</text>\n",
       "<text text-anchor=\"start\" x=\"324\" y=\"-7.8\" font-family=\"Times,serif\" font-size=\"14.00\">class = No rain</text>\n",
       "</g>\n",
       "<!-- 5&#45;&gt;6 -->\n",
       "<g id=\"edge6\" class=\"edge\"><title>5&#45;&gt;6</title>\n",
       "<path fill=\"none\" stroke=\"black\" d=\"M434.412,-103.726C425.242,-94.5142 415.509,-84.7364 406.349,-75.5343\"/>\n",
       "<polygon fill=\"black\" stroke=\"black\" points=\"408.683,-72.9176 399.148,-68.2996 403.722,-77.8561 408.683,-72.9176\"/>\n",
       "</g>\n",
       "<!-- 7 -->\n",
       "<g id=\"node8\" class=\"node\"><title>7</title>\n",
       "<polygon fill=\"#e99558\" stroke=\"black\" points=\"575.5,-68 450.5,-68 450.5,-0 575.5,-0 575.5,-68\"/>\n",
       "<text text-anchor=\"start\" x=\"479\" y=\"-52.8\" font-family=\"Times,serif\" font-size=\"14.00\">gini = 0.234</text>\n",
       "<text text-anchor=\"start\" x=\"469\" y=\"-37.8\" font-family=\"Times,serif\" font-size=\"14.00\">samples = 4821</text>\n",
       "<text text-anchor=\"start\" x=\"458.5\" y=\"-22.8\" font-family=\"Times,serif\" font-size=\"14.00\">value = [4169, 652]</text>\n",
       "<text text-anchor=\"start\" x=\"471\" y=\"-7.8\" font-family=\"Times,serif\" font-size=\"14.00\">class = No rain</text>\n",
       "</g>\n",
       "<!-- 5&#45;&gt;7 -->\n",
       "<g id=\"edge7\" class=\"edge\"><title>5&#45;&gt;7</title>\n",
       "<path fill=\"none\" stroke=\"black\" d=\"M489.15,-103.726C492.062,-95.3351 495.137,-86.4745 498.075,-78.0072\"/>\n",
       "<polygon fill=\"black\" stroke=\"black\" points=\"501.472,-78.8944 501.444,-68.2996 494.859,-76.5994 501.472,-78.8944\"/>\n",
       "</g>\n",
       "<!-- 9 -->\n",
       "<g id=\"node10\" class=\"node\"><title>9</title>\n",
       "<polygon fill=\"#fafcfe\" stroke=\"black\" points=\"770,-187 624,-187 624,-104 770,-104 770,-187\"/>\n",
       "<text text-anchor=\"start\" x=\"632\" y=\"-171.8\" font-family=\"Times,serif\" font-size=\"14.00\">WindGustSpeed ≤ 42.0</text>\n",
       "<text text-anchor=\"start\" x=\"669.5\" y=\"-156.8\" font-family=\"Times,serif\" font-size=\"14.00\">gini = 0.5</text>\n",
       "<text text-anchor=\"start\" x=\"653\" y=\"-141.8\" font-family=\"Times,serif\" font-size=\"14.00\">samples = 5122</text>\n",
       "<text text-anchor=\"start\" x=\"639\" y=\"-126.8\" font-family=\"Times,serif\" font-size=\"14.00\">value = [2527, 2595]</text>\n",
       "<text text-anchor=\"start\" x=\"665\" y=\"-111.8\" font-family=\"Times,serif\" font-size=\"14.00\">class = rain</text>\n",
       "</g>\n",
       "<!-- 8&#45;&gt;9 -->\n",
       "<g id=\"edge9\" class=\"edge\"><title>8&#45;&gt;9</title>\n",
       "<path fill=\"none\" stroke=\"black\" d=\"M697,-222.907C697,-214.649 697,-205.864 697,-197.302\"/>\n",
       "<polygon fill=\"black\" stroke=\"black\" points=\"700.5,-197.021 697,-187.021 693.5,-197.021 700.5,-197.021\"/>\n",
       "</g>\n",
       "<!-- 12 -->\n",
       "<g id=\"node13\" class=\"node\"><title>12</title>\n",
       "<polygon fill=\"#5eafea\" stroke=\"black\" points=\"1023.5,-187 876.5,-187 876.5,-104 1023.5,-104 1023.5,-187\"/>\n",
       "<text text-anchor=\"start\" x=\"884.5\" y=\"-171.8\" font-family=\"Times,serif\" font-size=\"14.00\">Pressure3pm ≤ 1020.75</text>\n",
       "<text text-anchor=\"start\" x=\"916\" y=\"-156.8\" font-family=\"Times,serif\" font-size=\"14.00\">gini = 0.264</text>\n",
       "<text text-anchor=\"start\" x=\"906\" y=\"-141.8\" font-family=\"Times,serif\" font-size=\"14.00\">samples = 3581</text>\n",
       "<text text-anchor=\"start\" x=\"895.5\" y=\"-126.8\" font-family=\"Times,serif\" font-size=\"14.00\">value = [560, 3021]</text>\n",
       "<text text-anchor=\"start\" x=\"918\" y=\"-111.8\" font-family=\"Times,serif\" font-size=\"14.00\">class = rain</text>\n",
       "</g>\n",
       "<!-- 8&#45;&gt;12 -->\n",
       "<g id=\"edge12\" class=\"edge\"><title>8&#45;&gt;12</title>\n",
       "<path fill=\"none\" stroke=\"black\" d=\"M764.135,-232.453C795.715,-217.849 833.677,-200.293 867.039,-184.865\"/>\n",
       "<polygon fill=\"black\" stroke=\"black\" points=\"868.71,-187.949 876.317,-180.575 865.772,-181.595 868.71,-187.949\"/>\n",
       "</g>\n",
       "<!-- 10 -->\n",
       "<g id=\"node11\" class=\"node\"><title>10</title>\n",
       "<polygon fill=\"#f6d4bc\" stroke=\"black\" points=\"726,-68 594,-68 594,-0 726,-0 726,-68\"/>\n",
       "<text text-anchor=\"start\" x=\"626\" y=\"-52.8\" font-family=\"Times,serif\" font-size=\"14.00\">gini = 0.479</text>\n",
       "<text text-anchor=\"start\" x=\"616\" y=\"-37.8\" font-family=\"Times,serif\" font-size=\"14.00\">samples = 2913</text>\n",
       "<text text-anchor=\"start\" x=\"602\" y=\"-22.8\" font-family=\"Times,serif\" font-size=\"14.00\">value = [1752, 1161]</text>\n",
       "<text text-anchor=\"start\" x=\"618\" y=\"-7.8\" font-family=\"Times,serif\" font-size=\"14.00\">class = No rain</text>\n",
       "</g>\n",
       "<!-- 9&#45;&gt;10 -->\n",
       "<g id=\"edge10\" class=\"edge\"><title>9&#45;&gt;10</title>\n",
       "<path fill=\"none\" stroke=\"black\" d=\"M683.223,-103.726C680.387,-95.3351 677.393,-86.4745 674.532,-78.0072\"/>\n",
       "<polygon fill=\"black\" stroke=\"black\" points=\"677.769,-76.6529 671.252,-68.2996 671.137,-78.8938 677.769,-76.6529\"/>\n",
       "</g>\n",
       "<!-- 11 -->\n",
       "<g id=\"node12\" class=\"node\"><title>11</title>\n",
       "<polygon fill=\"#a4d2f3\" stroke=\"black\" points=\"869.5,-68 744.5,-68 744.5,-0 869.5,-0 869.5,-68\"/>\n",
       "<text text-anchor=\"start\" x=\"773\" y=\"-52.8\" font-family=\"Times,serif\" font-size=\"14.00\">gini = 0.456</text>\n",
       "<text text-anchor=\"start\" x=\"763\" y=\"-37.8\" font-family=\"Times,serif\" font-size=\"14.00\">samples = 2209</text>\n",
       "<text text-anchor=\"start\" x=\"752.5\" y=\"-22.8\" font-family=\"Times,serif\" font-size=\"14.00\">value = [775, 1434]</text>\n",
       "<text text-anchor=\"start\" x=\"775\" y=\"-7.8\" font-family=\"Times,serif\" font-size=\"14.00\">class = rain</text>\n",
       "</g>\n",
       "<!-- 9&#45;&gt;11 -->\n",
       "<g id=\"edge11\" class=\"edge\"><title>9&#45;&gt;11</title>\n",
       "<path fill=\"none\" stroke=\"black\" d=\"M737.96,-103.726C747.214,-94.5142 757.036,-84.7364 766.281,-75.5343\"/>\n",
       "<polygon fill=\"black\" stroke=\"black\" points=\"768.93,-77.8351 773.548,-68.2996 763.992,-72.8741 768.93,-77.8351\"/>\n",
       "</g>\n",
       "<!-- 13 -->\n",
       "<g id=\"node14\" class=\"node\"><title>13</title>\n",
       "<polygon fill=\"#55abe9\" stroke=\"black\" points=\"1012.5,-68 887.5,-68 887.5,-0 1012.5,-0 1012.5,-68\"/>\n",
       "<text text-anchor=\"start\" x=\"916\" y=\"-52.8\" font-family=\"Times,serif\" font-size=\"14.00\">gini = 0.214</text>\n",
       "<text text-anchor=\"start\" x=\"906\" y=\"-37.8\" font-family=\"Times,serif\" font-size=\"14.00\">samples = 3078</text>\n",
       "<text text-anchor=\"start\" x=\"895.5\" y=\"-22.8\" font-family=\"Times,serif\" font-size=\"14.00\">value = [376, 2702]</text>\n",
       "<text text-anchor=\"start\" x=\"918\" y=\"-7.8\" font-family=\"Times,serif\" font-size=\"14.00\">class = rain</text>\n",
       "</g>\n",
       "<!-- 12&#45;&gt;13 -->\n",
       "<g id=\"edge13\" class=\"edge\"><title>12&#45;&gt;13</title>\n",
       "<path fill=\"none\" stroke=\"black\" d=\"M950,-103.726C950,-95.5175 950,-86.8595 950,-78.56\"/>\n",
       "<polygon fill=\"black\" stroke=\"black\" points=\"953.5,-78.2996 950,-68.2996 946.5,-78.2996 953.5,-78.2996\"/>\n",
       "</g>\n",
       "<!-- 14 -->\n",
       "<g id=\"node15\" class=\"node\"><title>14</title>\n",
       "<polygon fill=\"#abd6f4\" stroke=\"black\" points=\"1149.5,-68 1030.5,-68 1030.5,-0 1149.5,-0 1149.5,-68\"/>\n",
       "<text text-anchor=\"start\" x=\"1056\" y=\"-52.8\" font-family=\"Times,serif\" font-size=\"14.00\">gini = 0.464</text>\n",
       "<text text-anchor=\"start\" x=\"1049.5\" y=\"-37.8\" font-family=\"Times,serif\" font-size=\"14.00\">samples = 503</text>\n",
       "<text text-anchor=\"start\" x=\"1038.5\" y=\"-22.8\" font-family=\"Times,serif\" font-size=\"14.00\">value = [184, 319]</text>\n",
       "<text text-anchor=\"start\" x=\"1058\" y=\"-7.8\" font-family=\"Times,serif\" font-size=\"14.00\">class = rain</text>\n",
       "</g>\n",
       "<!-- 12&#45;&gt;14 -->\n",
       "<g id=\"edge14\" class=\"edge\"><title>12&#45;&gt;14</title>\n",
       "<path fill=\"none\" stroke=\"black\" d=\"M1002.13,-103.726C1014.26,-94.2406 1027.15,-84.1551 1039.22,-74.7159\"/>\n",
       "<polygon fill=\"black\" stroke=\"black\" points=\"1041.7,-77.2173 1047.43,-68.2996 1037.39,-71.7035 1041.7,-77.2173\"/>\n",
       "</g>\n",
       "</g>\n",
       "</svg>\n"
      ],
      "text/plain": [
       "<graphviz.files.Source at 0x7fe129278c18>"
      ]
     },
     "execution_count": 8,
     "metadata": {},
     "output_type": "execute_result"
    }
   ],
   "source": [
    "graph"
   ]
  },
  {
   "cell_type": "code",
   "execution_count": 9,
   "metadata": {},
   "outputs": [
    {
     "data": {
      "text/plain": [
       "array([0.        , 0.        , 0.        , 0.        , 0.15214802,\n",
       "       0.02723808, 0.        , 0.        , 0.        , 0.74114532,\n",
       "       0.        , 0.07946858, 0.        , 0.        , 0.        ,\n",
       "       0.        , 0.        ])"
      ]
     },
     "execution_count": 9,
     "metadata": {},
     "output_type": "execute_result"
    }
   ],
   "source": [
    "#不同資料與結果的關聯性\n",
    "dtree.feature_importances_\n"
   ]
  },
  {
   "cell_type": "code",
   "execution_count": 10,
   "metadata": {},
   "outputs": [
    {
     "data": {
      "text/plain": [
       "array([0, 0, 0, ..., 0, 0, 0])"
      ]
     },
     "execution_count": 10,
     "metadata": {},
     "output_type": "execute_result"
    }
   ],
   "source": [
    "#把訓練好的模型套用到測試數據\n",
    "predict_y = dtree.predict(test_x)\n",
    "predict_y"
   ]
  },
  {
   "cell_type": "code",
   "execution_count": 11,
   "metadata": {},
   "outputs": [
    {
     "name": "stdout",
     "output_type": "stream",
     "text": [
      "training accuracy: 0.83709\n",
      "test accuracy: 0.83592\n"
     ]
    }
   ],
   "source": [
    "#計算訓練數據與測試數據的正確率\n",
    "from sklearn.metrics import accuracy_score\n",
    "acc_log = dtree.score(train_x, train_y)\n",
    "print('training accuracy: %.5f' % acc_log)\n",
    "x=accuracy_score(test_y, predict_y)\n",
    "print('test accuracy: %.5f' % x)"
   ]
  },
  {
   "cell_type": "code",
   "execution_count": 12,
   "metadata": {},
   "outputs": [
    {
     "data": {
      "text/plain": [
       "\"dtree=tree.DecisionTreeClassifier(min_samples_split=1000,min_samples_leaf =570)\\n            dtree=dtree.fit(train_x,train_y)\\n            predict_y = dtree.predict(test_x)\\n            x=accuracy_score(test_y, predict_y)\\n            print('%d' % i,'test accuracy: %.5f'  %x)\""
      ]
     },
     "execution_count": 12,
     "metadata": {},
     "output_type": "execute_result"
    }
   ],
   "source": [
    "#test\n",
    "#測試不同的參數，發現並沒有太大改變\n",
    "#for i in range(400,601,5):    \n",
    "    \"\"\"dtree=tree.DecisionTreeClassifier(min_samples_split=1000,min_samples_leaf =570)\n",
    "    dtree=dtree.fit(train_x,train_y)\n",
    "    predict_y = dtree.predict(test_x)\n",
    "    x=accuracy_score(test_y, predict_y)\n",
    "    print('%d' % i,'test accuracy: %.5f'  %x)\"\"\""
   ]
  },
  {
   "cell_type": "code",
   "execution_count": 13,
   "metadata": {},
   "outputs": [
    {
     "name": "stdout",
     "output_type": "stream",
     "text": [
      "max_depth=3 auc: 0.67401\n"
     ]
    }
   ],
   "source": [
    "#auc\n",
    "fpr, tpr, thresholds = metrics.roc_curve(test_y, predict_y, pos_label=1)\n",
    "print('max_depth=3 auc: %.5f' % metrics.auc(fpr, tpr))"
   ]
  },
  {
   "cell_type": "markdown",
   "metadata": {},
   "source": [
    "#### 4.1.1 測試不同max_depth的正確率"
   ]
  },
  {
   "cell_type": "code",
   "execution_count": 14,
   "metadata": {},
   "outputs": [
    {
     "name": "stdout",
     "output_type": "stream",
     "text": [
      "max_depth=2  training accuracy: 0.82635\n",
      "\t\ttest accuracy: 0.84155\n",
      "max_depth=3  training accuracy: 0.83709\n",
      "\t\ttest accuracy: 0.83592\n",
      "max_depth=4  training accuracy: 0.84138\n",
      "\t\ttest accuracy: 0.84930\n",
      "max_depth=5  training accuracy: 0.84889\n",
      "\t\ttest accuracy: 0.85000\n",
      "max_depth=6  training accuracy: 0.85073\n",
      "\t\ttest accuracy: 0.85282\n",
      "max_depth=7  training accuracy: 0.85647\n",
      "\t\ttest accuracy: 0.86479\n",
      "max_depth=8  training accuracy: 0.86213\n",
      "\t\ttest accuracy: 0.85775\n",
      "max_depth=9  training accuracy: 0.86998\n",
      "\t\ttest accuracy: 0.85986\n",
      "max_depth=10  training accuracy: 0.87969\n",
      "\t\ttest accuracy: 0.84930\n",
      "max_depth=11  training accuracy: 0.89207\n",
      "\t\ttest accuracy: 0.84930\n",
      "max_depth=12  training accuracy: 0.90527\n",
      "\t\ttest accuracy: 0.84155\n",
      "max_depth=13  training accuracy: 0.91938\n",
      "\t\ttest accuracy: 0.83592\n",
      "max_depth=14  training accuracy: 0.93371\n",
      "\t\ttest accuracy: 0.82535\n",
      "max_depth=15  training accuracy: 0.94687\n",
      "\t\ttest accuracy: 0.83169\n",
      "max_depth=16  training accuracy: 0.95805\n",
      "\t\ttest accuracy: 0.81690\n",
      "max_depth=17  training accuracy: 0.96758\n",
      "\t\ttest accuracy: 0.82183\n",
      "max_depth=18  training accuracy: 0.97585\n",
      "\t\ttest accuracy: 0.79789\n",
      "max_depth=19  training accuracy: 0.98233\n",
      "\t\ttest accuracy: 0.79507\n"
     ]
    }
   ],
   "source": [
    "tree_train_acc=[]   #訓練模型套用到訓練數據的正確率\n",
    "tree_test_acc=[]    #訓練模型套用到測試數據的正確率\n",
    "tree_depth=[]       #不同的max_depth\n",
    "\n",
    "for i in range (2,20):\n",
    "    dtree=tree.DecisionTreeClassifier(max_depth=i)\n",
    "    dtree=dtree.fit(train_x,train_y)\n",
    "    acc_log = dtree.score(train_x, train_y)\n",
    "    print('max_depth=%d ' % i,'training accuracy: %.5f' % acc_log)\n",
    "    \n",
    "    predict_y = dtree.predict(test_x)    \n",
    "    X=accuracy_score(test_y, predict_y)\n",
    "    print('\\t\\ttest accuracy: %.5f' % X)\n",
    "    \n",
    "    tree_train_acc.append(acc_log)\n",
    "    tree_test_acc.append(X)\n",
    "    tree_depth.append(i)\n",
    "    "
   ]
  },
  {
   "cell_type": "code",
   "execution_count": 15,
   "metadata": {},
   "outputs": [
    {
     "data": {
      "image/png": "[encoded data removed]",
      "text/plain": [
       "<Figure size 432x288 with 1 Axes>"
      ]
     },
     "metadata": {
      "needs_background": "light"
     },
     "output_type": "display_data"
    }
   ],
   "source": [
    "plt.plot(tree_depth,tree_train_acc,'b', label=\"training accuracy\")\n",
    "plt.plot(tree_depth,tree_test_acc,'r', label=\"test accuracy\")\n",
    "plt.ylabel('accuracy (%)')\n",
    "plt.xlabel('max depth ')\n",
    "plt.legend()\n",
    "plt.show()"
   ]
  },
  {
   "cell_type": "code",
   "execution_count": 16,
   "metadata": {},
   "outputs": [
    {
     "name": "stdout",
     "output_type": "stream",
     "text": [
      "max depth:  7\n",
      "best test accuracy: 0.86479\n"
     ]
    }
   ],
   "source": [
    "\n",
    "best_depth = tree_depth[tree_test_acc.index(max(tree_test_acc))]\n",
    "print (\"max depth: \", best_depth)\n",
    "print (\"best test accuracy: %.5f\"% max(tree_test_acc))"
   ]
  },
  {
   "cell_type": "markdown",
   "metadata": {},
   "source": [
    "從上圖可以看出，訓練數據的正確率隨著max_depth的增加而上升，但是測試數據的正確率不會。max_depth=7時，測試數據的正確率達到最高，約略為0.86479%。所以可以認定max_depth=7時的模型較好，max_depth>7的模型會有overfitting的現象。"
   ]
  },
  {
   "cell_type": "code",
   "execution_count": 17,
   "metadata": {},
   "outputs": [],
   "source": [
    "#dtree=tree.DecisionTreeClassifier(max_depth=7)\n",
    "#dtree=dtree.fit(train_x,train_y)\n",
    "#predict_y = dtree.predict(test_x)\n",
    "#X=accuracy_score(test_y, predict_y)\n",
    "#print('max_depth=7 test accuracy: %.5f' % X)"
   ]
  },
  {
   "cell_type": "code",
   "execution_count": 18,
   "metadata": {},
   "outputs": [
    {
     "name": "stdout",
     "output_type": "stream",
     "text": [
      "max_depth=7 auc: 0.72791\n"
     ]
    }
   ],
   "source": [
    "#模型評價 auc\n",
    "fpr, tpr, thresholds = metrics.roc_curve(test_y, predict_y, pos_label=1)\n",
    "print('max_depth=7 auc: %.5f' % metrics.auc(fpr, tpr))"
   ]
  },
  {
   "cell_type": "markdown",
   "metadata": {},
   "source": [
    "auc>0.5 表示模型預測比隨機猜測準確"
   ]
  },
  {
   "cell_type": "code",
   "execution_count": 19,
   "metadata": {},
   "outputs": [
    {
     "name": "stdout",
     "output_type": "stream",
     "text": [
      "average of Cross validation: 0.79047\n",
      "standard deviation of Cross validation: 0.01281\n"
     ]
    }
   ],
   "source": [
    "# 交叉驗證 cross validation \n",
    "from sklearn.model_selection import cross_val_score\n",
    "from sklearn.model_selection import train_test_split\n",
    "scores = cross_val_score(dtree,train_x,train_y,cv=5,scoring='accuracy')\n",
    "\n",
    "# 計算平均值與標準差\n",
    "print('average of Cross validation: %.5f'%scores.mean())\n",
    "print('standard deviation of Cross validation: %.5f'%scores.std(ddof=1))"
   ]
  },
  {
   "cell_type": "markdown",
   "metadata": {},
   "source": [
    "#### 4.2 Decision tree結果觀察\n",
    "1. 3層的決策樹可以有83.6%的正確率。\n",
    "2. 7層的決策樹的預測正確率最高，有86.5%。"
   ]
  },
  {
   "cell_type": "markdown",
   "metadata": {},
   "source": [
    "## 5.不同的模型\n",
    "### 5.1 logistic regression"
   ]
  },
  {
   "cell_type": "code",
   "execution_count": 20,
   "metadata": {},
   "outputs": [
    {
     "name": "stderr",
     "output_type": "stream",
     "text": [
      "/opt/conda/lib/python3.6/site-packages/sklearn/linear_model/logistic.py:432: FutureWarning: Default solver will be changed to 'lbfgs' in 0.22. Specify a solver to silence this warning.\n",
      "  FutureWarning)\n"
     ]
    },
    {
     "name": "stdout",
     "output_type": "stream",
     "text": [
      "training accuracy: 0.85240\n",
      "test accuracy: 0.86972\n",
      "auc: 0.79875\n"
     ]
    },
    {
     "name": "stderr",
     "output_type": "stream",
     "text": [
      "/opt/conda/lib/python3.6/site-packages/sklearn/linear_model/logistic.py:432: FutureWarning: Default solver will be changed to 'lbfgs' in 0.22. Specify a solver to silence this warning.\n",
      "  FutureWarning)\n",
      "/opt/conda/lib/python3.6/site-packages/sklearn/linear_model/logistic.py:432: FutureWarning: Default solver will be changed to 'lbfgs' in 0.22. Specify a solver to silence this warning.\n",
      "  FutureWarning)\n",
      "/opt/conda/lib/python3.6/site-packages/sklearn/linear_model/logistic.py:432: FutureWarning: Default solver will be changed to 'lbfgs' in 0.22. Specify a solver to silence this warning.\n",
      "  FutureWarning)\n",
      "/opt/conda/lib/python3.6/site-packages/sklearn/linear_model/logistic.py:432: FutureWarning: Default solver will be changed to 'lbfgs' in 0.22. Specify a solver to silence this warning.\n",
      "  FutureWarning)\n",
      "/opt/conda/lib/python3.6/site-packages/sklearn/linear_model/logistic.py:432: FutureWarning: Default solver will be changed to 'lbfgs' in 0.22. Specify a solver to silence this warning.\n",
      "  FutureWarning)\n"
     ]
    },
    {
     "name": "stdout",
     "output_type": "stream",
     "text": [
      "average of Cross validation: 0.85069\n",
      "standard deviation of Cross validation: 0.00731\n"
     ]
    }
   ],
   "source": [
    "# logistic regression\n",
    "\n",
    "logreg = LogisticRegression()\n",
    "logreg = logreg.fit(train_x, train_y)\n",
    "predict_y = logreg.predict(test_x)\n",
    "acc_log = logreg.score(train_x, train_y)\n",
    "print('training accuracy: %.5f' % acc_log)\n",
    "\n",
    "predict_y =logreg.predict(test_x)\n",
    "X=accuracy_score(test_y, predict_y)\n",
    "print('test accuracy: %.5f' % X)\n",
    "\n",
    "#auc\n",
    "fpr, tpr, thresholds = metrics.roc_curve(test_y, predict_y, pos_label=1)\n",
    "print('auc: %.5f' % metrics.auc(fpr, tpr))\n",
    "\n",
    "#Cross validation\n",
    "scores = cross_val_score(logreg,train_x,train_y,cv=5,scoring='accuracy')\n",
    "# 計算Cross validation的平均值與標準差\n",
    "print('average of Cross validation: %.5f'%scores.mean())\n",
    "print('standard deviation of Cross validation: %.5f'%scores.std(ddof=1))"
   ]
  },
  {
   "cell_type": "code",
   "execution_count": 21,
   "metadata": {},
   "outputs": [
    {
     "data": {
      "text/plain": [
       "'\\nsvc = SVC(gamma=\\'auto\\',C=0.1,kernel=\"linear\", probability=True)\\nsvc.fit(train_x, train_y)\\npredict_y= svc.predict(test_x)\\nacc_svc = svc.score(train_x, train_y)\\nprint(\\'training accuracy: %.5f\\' % acc_svc)\\n\\npredict_y =svc.predict(test_x)\\nX=accuracy_score(test_y, predict_y)\\nprint(\\'test accuracy: %.5f\\' % X)'"
      ]
     },
     "execution_count": 21,
     "metadata": {},
     "output_type": "execute_result"
    }
   ],
   "source": [
    "# Support Vector Machines\n",
    "#運算時間太長\n",
    "'''\n",
    "svc = SVC(gamma='auto',C=0.1,kernel=\"linear\", probability=True)\n",
    "svc.fit(train_x, train_y)\n",
    "predict_y= svc.predict(test_x)\n",
    "acc_svc = svc.score(train_x, train_y)\n",
    "print('training accuracy: %.5f' % acc_svc)\n",
    "\n",
    "predict_y =svc.predict(test_x)\n",
    "X=accuracy_score(test_y, predict_y)\n",
    "print('test accuracy: %.5f' % X)'''"
   ]
  },
  {
   "cell_type": "markdown",
   "metadata": {},
   "source": [
    "\n",
    "### 5.2 knn"
   ]
  },
  {
   "cell_type": "code",
   "execution_count": 22,
   "metadata": {},
   "outputs": [
    {
     "name": "stdout",
     "output_type": "stream",
     "text": [
      "training accuracy: 0.86764\n",
      "test accuracy: 0.86338\n",
      "auc: 0.77603\n",
      "average of Cross validation: 0.83918\n",
      "standard deviation of Cross validation: 0.00643\n"
     ]
    }
   ],
   "source": [
    "# knn\n",
    "\n",
    "knn = KNeighborsClassifier(n_neighbors = 10)\n",
    "knn.fit(train_x, train_y)\n",
    "predict_y = knn.predict(test_x)\n",
    "acc_knn = knn.score(train_x, train_y)\n",
    "print('training accuracy: %.5f' % acc_knn)\n",
    "\n",
    "predict_y =knn.predict(test_x)\n",
    "X=accuracy_score(test_y, predict_y)\n",
    "print('test accuracy: %.5f' % X)\n",
    "\n",
    "#auc\n",
    "fpr, tpr, thresholds = metrics.roc_curve(test_y, predict_y, pos_label=1)\n",
    "print('auc: %.5f' % metrics.auc(fpr, tpr))\n",
    "\n",
    "#Cross validation\n",
    "scores = cross_val_score(knn,train_x,train_y,cv=5,scoring='accuracy')\n",
    "print('average of Cross validation: %.5f'%scores.mean())\n",
    "print('standard deviation of Cross validation: %.5f'%scores.std(ddof=1))"
   ]
  },
  {
   "cell_type": "markdown",
   "metadata": {},
   "source": [
    "### 5.3 Gaussian Naive Bayes"
   ]
  },
  {
   "cell_type": "code",
   "execution_count": 23,
   "metadata": {},
   "outputs": [
    {
     "name": "stdout",
     "output_type": "stream",
     "text": [
      "training accuracy: 0.80180\n",
      "test accuracy: 0.84789\n",
      "auc: 0.78723\n",
      "average of Cross validation: 0.79778\n",
      "standard deviation of Cross validation: 0.03710\n"
     ]
    }
   ],
   "source": [
    "# Gaussian Naive Bayes\n",
    "\n",
    "gaussian = GaussianNB()\n",
    "gaussian.fit(train_x, train_y)\n",
    "predict_y = gaussian.predict(test_x)\n",
    "acc_gaussian = gaussian.score(train_x, train_y)\n",
    "print('training accuracy: %.5f' % acc_gaussian)\n",
    "\n",
    "predict_y =gaussian.predict(test_x)\n",
    "X=accuracy_score(test_y, predict_y)\n",
    "print('test accuracy: %.5f' % X)\n",
    "\n",
    "#auc\n",
    "fpr, tpr, thresholds = metrics.roc_curve(test_y, predict_y, pos_label=1)\n",
    "print('auc: %.5f' % metrics.auc(fpr, tpr))\n",
    "\n",
    "#Cross validation\n",
    "scores = cross_val_score(gaussian,train_x,train_y,cv=5,scoring='accuracy')\n",
    "print('average of Cross validation: %.5f'%scores.mean())\n",
    "print('standard deviation of Cross validation: %.5f'%scores.std(ddof=1))"
   ]
  },
  {
   "cell_type": "markdown",
   "metadata": {},
   "source": [
    "## 6.後續工作\n",
    "1. 使用Random forest \n",
    "2. 將風向的資料、且將日期轉換成季節，重新加入訓練模型中，確認是否有更好的結果。\n",
    "3. 可以將Location重新加入訓練模型，預測各地點明天是否降雨。\n",
    "\n",
    "(註：「後續工作」是口頭報告時還未完成的工作)\n"
   ]
  },
  {
   "cell_type": "markdown",
   "metadata": {},
   "source": [
    "### 6.1 Random Forest"
   ]
  },
  {
   "cell_type": "markdown",
   "metadata": {},
   "source": [
    "#### 6.1.1 計算n_estimators=1000的情況"
   ]
  },
  {
   "cell_type": "code",
   "execution_count": 24,
   "metadata": {},
   "outputs": [
    {
     "data": {
      "text/plain": [
       "RandomForestClassifier(bootstrap=True, class_weight=None, criterion='gini',\n",
       "                       max_depth=7, max_features='auto', max_leaf_nodes=None,\n",
       "                       min_impurity_decrease=0.0, min_impurity_split=None,\n",
       "                       min_samples_leaf=1, min_samples_split=2,\n",
       "                       min_weight_fraction_leaf=0.0, n_estimators=1000,\n",
       "                       n_jobs=None, oob_score=False, random_state=None,\n",
       "                       verbose=0, warm_start=False)"
      ]
     },
     "execution_count": 24,
     "metadata": {},
     "output_type": "execute_result"
    }
   ],
   "source": [
    "from sklearn.ensemble import RandomForestClassifier\n",
    "rdf = RandomForestClassifier(bootstrap=True, n_estimators=1000, max_depth=7)\n",
    "rdf.fit(train_x, train_y)  "
   ]
  },
  {
   "cell_type": "code",
   "execution_count": 25,
   "metadata": {},
   "outputs": [
    {
     "name": "stdout",
     "output_type": "stream",
     "text": [
      "training accuracy: 0.85900\n",
      "test accuracy: 0.85141\n",
      "auc: 0.72911\n"
     ]
    },
    {
     "data": {
      "text/plain": [
       "\"scores = cross_val_score(rdf,train_x,train_y,cv=5,scoring='accuracy')\\nprint(scores)\\nprint('Cross validation: %.5f'%scores.mean())\""
      ]
     },
     "execution_count": 25,
     "metadata": {},
     "output_type": "execute_result"
    }
   ],
   "source": [
    "acc_log = rdf.score(train_x, train_y)\n",
    "print('training accuracy: %.5f' % acc_log)\n",
    "\n",
    "predict_y =rdf.predict(test_x)\n",
    "X=accuracy_score(test_y, predict_y)\n",
    "print('test accuracy: %.5f' % X)\n",
    "#auc\n",
    "fpr, tpr, thresholds = metrics.roc_curve(test_y, predict_y, pos_label=1)\n",
    "print('auc: %.5f' % metrics.auc(fpr, tpr))\n",
    "\n",
    "#Cross validation\n",
    "#運算時間太長\n",
    "'''scores = cross_val_score(rdf,train_x,train_y,cv=5,scoring='accuracy')\n",
    "print(scores)\n",
    "print('Cross validation: %.5f'%scores.mean())'''"
   ]
  },
  {
   "cell_type": "markdown",
   "metadata": {},
   "source": [
    "#### 6.1.2 決定最佳的n_estimators"
   ]
  },
  {
   "cell_type": "code",
   "execution_count": 26,
   "metadata": {},
   "outputs": [],
   "source": [
    "#Parameters:決定最佳的n_estimators\n",
    "#目前只算到n_estimators=256，太大需要時間過長\n",
    "\n",
    "from sklearn import model_selection, metrics\n",
    "\n",
    "def scorer(model, X,  train_y):\n",
    "    preds = model.predict(X)\n",
    "    return metrics.accuracy_score( train_y, preds)\n",
    "\n",
    "n_estimators = [1,2,4,8,16,32,64,128, 256]  ## try different n_estimators\n",
    "cv_results = []\n",
    "\n",
    "for estimator in n_estimators:\n",
    "    rf = RandomForestClassifier(n_estimators=estimator)\n",
    "    acc = model_selection.cross_val_score(rf, train_x,  train_y, cv=5, scoring=scorer)\n",
    "    cv_results.append(acc.mean())"
   ]
  },
  {
   "cell_type": "code",
   "execution_count": 27,
   "metadata": {},
   "outputs": [
    {
     "data": {
      "image/png": "[encoded data removed]",
      "text/plain": [
       "<Figure size 432x288 with 1 Axes>"
      ]
     },
     "metadata": {
      "needs_background": "light"
     },
     "output_type": "display_data"
    }
   ],
   "source": [
    "line1= plt.plot(n_estimators, cv_results, 'b', label=\"cross validated accuracy\")\n",
    "plt.ylabel('accuracy')\n",
    "plt.xlabel('n_estimators')\n",
    "plt.legend()\n",
    "plt.show()"
   ]
  },
  {
   "cell_type": "markdown",
   "metadata": {},
   "source": [
    "從目前的結果可知，在n_estimators=256以內，正確率有上升的趨勢，而且n_estimators越大，上升趨勢越緩。但是因為計算時間的問題，n_estimators>256的情況暫時不計算。"
   ]
  },
  {
   "cell_type": "code",
   "execution_count": 28,
   "metadata": {},
   "outputs": [
    {
     "name": "stdout",
     "output_type": "stream",
     "text": [
      "best_n_estimators:  256\n",
      "best accuracy:  0.8519636363636363\n"
     ]
    }
   ],
   "source": [
    "best_n_estimators = n_estimators[cv_results.index(max(cv_results))]\n",
    "print (\"best_n_estimators: \", best_n_estimators)\n",
    "print (\"best accuracy: \", max(cv_results))"
   ]
  },
  {
   "cell_type": "markdown",
   "metadata": {},
   "source": [
    "#### 6.1.3 random forest結果觀察\n",
    "和使用Decision tree相比，random forest沒有提高正確率。"
   ]
  },
  {
   "cell_type": "markdown",
   "metadata": {},
   "source": [
    "### 6.2 將地點考慮進去\n"
   ]
  },
  {
   "cell_type": "code",
   "execution_count": 29,
   "metadata": {},
   "outputs": [
    {
     "name": "stdout",
     "output_type": "stream",
     "text": [
      "(56420, 24)\n"
     ]
    }
   ],
   "source": [
    "pd_data = pd.read_csv('../input/weatherAUS.csv')\n",
    "pd_data=pd_data.dropna(how='any')\n",
    "print(pd_data.shape)\n"
   ]
  },
  {
   "cell_type": "code",
   "execution_count": 30,
   "metadata": {},
   "outputs": [
    {
     "name": "stdout",
     "output_type": "stream",
     "text": [
      "(56420, 18)\n"
     ]
    }
   ],
   "source": [
    "drop_columns_list = ['WindGustDir', 'WindDir9am', 'WindDir3pm','Date','Sunshine','RISK_MM']\n",
    "pd_data = pd_data.drop(drop_columns_list, axis=1)\n",
    "print(pd_data.shape)\n",
    "\n",
    "pd_data['RainToday'].replace({'No':0,'Yes':1},inplace=True)\n",
    "pd_data['RainTomorrow'].replace({'No':0,'Yes':1},inplace=True)"
   ]
  },
  {
   "cell_type": "code",
   "execution_count": 31,
   "metadata": {},
   "outputs": [
    {
     "name": "stdout",
     "output_type": "stream",
     "text": [
      "Location\n",
      "Darwin              3062\n",
      "Perth               3025\n",
      "Brisbane            2953\n",
      "MelbourneAirport    2929\n",
      "PerthAirport        2913\n",
      "SydneyAirport       2870\n",
      "Watsonia            2730\n",
      "Mildura             2594\n",
      "MountGambier        2465\n",
      "NorfolkIsland       2464\n",
      "Cairns              2444\n",
      "Townsville          2419\n",
      "WaggaWagga          2416\n",
      "AliceSprings        2223\n",
      "Nuriootpa           2008\n",
      "Hobart              1939\n",
      "Moree               1913\n",
      "Melbourne           1898\n",
      "Portland            1863\n",
      "Woomera             1734\n",
      "Sydney              1690\n",
      "Sale                1678\n",
      "CoffsHarbour        1380\n",
      "Williamtown         1198\n",
      "Canberra            1078\n",
      "Cobar                534\n",
      "dtype: int64\n"
     ]
    }
   ],
   "source": [
    "groupbyLocation=pd_data.groupby('Location')\n",
    "print(groupbyLocation.size().sort_values(ascending=False))\n"
   ]
  },
  {
   "cell_type": "markdown",
   "metadata": {},
   "source": [
    "#### 6.2.1 把地點轉為數字"
   ]
  },
  {
   "cell_type": "code",
   "execution_count": 32,
   "metadata": {},
   "outputs": [],
   "source": [
    "pd_data['Location'] = pd_data['Location'].map( {'Darwin':0,'Perth':1,'Brisbane':2,'MelbourneAirport':3,\n",
    "                                                'PerthAirport':4,'SydneyAirport':5,'Watsonia':6,'Mildura':7,\n",
    "                                                'MountGambier':8,'NorfolkIsland':9,'Cairns':10,'Townsville':11,\n",
    "                                                'WaggaWagga':12,'AliceSprings':13,'Nuriootpa':14,'Hobart':15,\n",
    "                                                'Moree':16,'Melbourne':17,'Portland':18,'Woomera':19,\n",
    "                                                'Sydney':20,'Sale':21,'CoffsHarbour':22,'Williamtown':23,\n",
    "                                                'Canberra':24,'Cobar':25} ).astype(int)\n",
    "train_y=pd_data['RainTomorrow']\n",
    "train_x=pd_data.drop(['RainTomorrow'], axis=1)"
   ]
  },
  {
   "cell_type": "code",
   "execution_count": 33,
   "metadata": {},
   "outputs": [
    {
     "name": "stdout",
     "output_type": "stream",
     "text": [
      "[0.81577315 0.82605228 0.83224034 0.84853319 0.85473722]\n",
      "average of Cross validation: 0.83547\n",
      "standard deviation of Cross validation: 0.01604\n"
     ]
    }
   ],
   "source": [
    "dtree=tree.DecisionTreeClassifier(max_depth=7)\n",
    "dtree=dtree.fit(train_x,train_y)\n",
    "scores = cross_val_score(dtree,train_x,train_y,cv=5,scoring='accuracy')\n",
    "print(scores)\n",
    "print('average of Cross validation: %.5f'%scores.mean())\n",
    "print('standard deviation of Cross validation: %.5f'%scores.std(ddof=1))"
   ]
  },
  {
   "cell_type": "markdown",
   "metadata": {},
   "source": [
    "#### 6.2.2 Logistic Regression"
   ]
  },
  {
   "cell_type": "code",
   "execution_count": 34,
   "metadata": {},
   "outputs": [
    {
     "name": "stderr",
     "output_type": "stream",
     "text": [
      "/opt/conda/lib/python3.6/site-packages/sklearn/linear_model/logistic.py:432: FutureWarning: Default solver will be changed to 'lbfgs' in 0.22. Specify a solver to silence this warning.\n",
      "  FutureWarning)\n"
     ]
    },
    {
     "name": "stdout",
     "output_type": "stream",
     "text": [
      "Cross validation: 0.83548\n",
      "standard deviation of Cross validation: 0.01604\n"
     ]
    }
   ],
   "source": [
    "#Logistic Regression\n",
    "logreg = LogisticRegression()\n",
    "logreg.fit(train_x, train_y)\n",
    "\n",
    "#Cross validation\n",
    "scores = cross_val_score(dtree,train_x,train_y,cv=5,scoring='accuracy')\n",
    "print('Cross validation: %.5f'%scores.mean())\n",
    "print('standard deviation of Cross validation: %.5f'%scores.std(ddof=1))"
   ]
  },
  {
   "cell_type": "markdown",
   "metadata": {},
   "source": [
    "#### 6.2.3 knn"
   ]
  },
  {
   "cell_type": "code",
   "execution_count": 35,
   "metadata": {},
   "outputs": [
    {
     "name": "stdout",
     "output_type": "stream",
     "text": [
      "Cross validation: 0.83306\n",
      "standard deviation of Cross validation: 0.00987\n"
     ]
    }
   ],
   "source": [
    "#knn\n",
    "knn = KNeighborsClassifier(n_neighbors = 10)\n",
    "knn.fit(train_x, train_y)\n",
    "\n",
    "#Cross validation\n",
    "scores = cross_val_score(knn,train_x,train_y,cv=5,scoring='accuracy')\n",
    "print('Cross validation: %.5f'%scores.mean())\n",
    "print('standard deviation of Cross validation: %.5f'%scores.std(ddof=1))"
   ]
  },
  {
   "cell_type": "markdown",
   "metadata": {},
   "source": [
    "#### 6.2.4 Gaussian Naive Bayes"
   ]
  },
  {
   "cell_type": "code",
   "execution_count": 36,
   "metadata": {},
   "outputs": [
    {
     "name": "stdout",
     "output_type": "stream",
     "text": [
      "Cross validation: 0.80876\n",
      "standard deviation of Cross validation: 0.02834\n"
     ]
    }
   ],
   "source": [
    "#Gaussian Naive Bayes\n",
    "gaussian = GaussianNB()\n",
    "gaussian.fit(train_x, train_y)\n",
    "#Cross validation\n",
    "scores = cross_val_score(gaussian,train_x,train_y,cv=5,scoring='accuracy')\n",
    "print('Cross validation: %.5f'%scores.mean())\n",
    "print('standard deviation of Cross validation: %.5f'%scores.std(ddof=1))"
   ]
  },
  {
   "cell_type": "markdown",
   "metadata": {},
   "source": [
    "#### 6.2.5 將地點考慮進去的結果觀察\n",
    "正確率並沒有提升。"
   ]
  },
  {
   "cell_type": "markdown",
   "metadata": {},
   "source": [
    "## 7.小結\n",
    "\n",
    "1.我們嘗試使用各種模型預測，預測準確度都能達到80%以上。\n",
    "\n",
    "2.各個模型的auc都大於0.7，有些模型可達0.8以上，表示使用這些模型預測「明天是否降雨的正確率」都比亂猜的結果來得好。"
   ]
  },
  {
   "cell_type": "markdown",
   "metadata": {},
   "source": [
    "## 8.心得\n",
    "#### 廖品瑜:\n",
    "#### 感覺課程時間有點少，希望可以用更多時間在帶程式的部分，雖然原理很重要，但講解過大概後應該可以透過自學來完成；而程式的部分就算不太懂原理也可以上手，但需要更多次練習才能找出問題。這次學到的東西很有趣，電腦可以直接引用函式庫真的太方便了，幾乎不需要了解原理就可以使用。也學到Git跟Kaggle還有Jupyter notebook的用法，以後會更深入學習，希望可以在原本的科系上運用。\n",
    "#### 胡筆勝:\n",
    "#### 課程內容很有趣也很實用，之前完全沒有接觸過相關的領域，但是在一個禮拜內要了解機器學習以及python的課程內容，我覺得有些許困難。繳交作業時間延後之後，我可以有更多時間時作與思考課程內容。"
   ]
  },
  {
   "cell_type": "code",
   "execution_count": null,
   "metadata": {},
   "outputs": [],
   "source": []
  },
  {
   "cell_type": "code",
   "execution_count": null,
   "metadata": {},
   "outputs": [],
   "source": []
  }
 ],
 "metadata": {
  "kernelspec": {
   "display_name": "Python 3",
   "language": "python",
   "name": "python3"
  },
  "language_info": {
   "codemirror_mode": {
    "name": "ipython",
    "version": 3
   },
   "file_extension": ".py",
   "mimetype": "text/x-python",
   "name": "python",
   "nbconvert_exporter": "python",
   "pygments_lexer": "ipython3",
   "version": "3.6.6"
  }
 },
 "nbformat": 4,
 "nbformat_minor": 1
}
