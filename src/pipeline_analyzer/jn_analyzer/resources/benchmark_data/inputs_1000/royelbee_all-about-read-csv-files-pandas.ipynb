{
 "cells": [
  {
   "cell_type": "markdown",
   "metadata": {
    "papermill": {
     "duration": 0.048877,
     "end_time": "2020-09-23T09:02:51.042638",
     "exception": false,
     "start_time": "2020-09-23T09:02:50.993761",
     "status": "completed"
    },
    "tags": []
   },
   "source": [
    "## We often use Comma Separated Values in sort(.csv) formatted dataset for our data science analysis. Here is some pandas buildin helpful parameters which will make your work more easier.\n",
    "\n",
    "### I suggest you try to do practice each section for a while. It will give you fun as well as get some expertise on pandas.\n"
   ]
  },
  {
   "cell_type": "markdown",
   "metadata": {
    "papermill": {
     "duration": 0.047626,
     "end_time": "2020-09-23T09:02:51.137617",
     "exception": false,
     "start_time": "2020-09-23T09:02:51.089991",
     "status": "completed"
    },
    "tags": []
   },
   "source": [
    "# Covered Sections \n",
    "1. sep\n",
    "2. header\n",
    "3. names \n",
    "4. index_col \n",
    "5. usecols\n",
    "6. squeeze\n",
    "7. prefix\n",
    "8. Marge Duplicated columns\n",
    "9. columns dtype\n",
    "10. Converters\n",
    "11. true_values, false_values\n",
    "12. skiprows\n",
    "13. skipfooter\n",
    "14. nrows\n",
    "15. default NaN values\n",
    "16. keep default null values\n",
    "17. Keep null_values\n",
    "18. verbose"
   ]
  },
  {
   "cell_type": "code",
   "execution_count": 1,
   "metadata": {
    "execution": {
     "iopub.execute_input": "2020-09-23T09:02:51.237474Z",
     "iopub.status.busy": "2020-09-23T09:02:51.236721Z",
     "iopub.status.idle": "2020-09-23T09:02:51.239993Z",
     "shell.execute_reply": "2020-09-23T09:02:51.239351Z"
    },
    "papermill": {
     "duration": 0.055214,
     "end_time": "2020-09-23T09:02:51.240127",
     "exception": false,
     "start_time": "2020-09-23T09:02:51.184913",
     "status": "completed"
    },
    "pycharm": {
     "is_executing": true,
     "name": "#%%\n"
    },
    "tags": []
   },
   "outputs": [],
   "source": [
    "import pandas as pd"
   ]
  },
  {
   "cell_type": "code",
   "execution_count": 2,
   "metadata": {
    "execution": {
     "iopub.execute_input": "2020-09-23T09:02:51.345170Z",
     "iopub.status.busy": "2020-09-23T09:02:51.344376Z",
     "iopub.status.idle": "2020-09-23T09:02:51.362069Z",
     "shell.execute_reply": "2020-09-23T09:02:51.361414Z"
    },
    "papermill": {
     "duration": 0.073812,
     "end_time": "2020-09-23T09:02:51.362206",
     "exception": false,
     "start_time": "2020-09-23T09:02:51.288394",
     "status": "completed"
    },
    "pycharm": {
     "is_executing": true,
     "name": "#%%\n"
    },
    "tags": []
   },
   "outputs": [],
   "source": [
    "df = pd.read_csv('../input/sample-data/data.csv')"
   ]
  },
  {
   "cell_type": "code",
   "execution_count": 3,
   "metadata": {
    "execution": {
     "iopub.execute_input": "2020-09-23T09:02:51.478313Z",
     "iopub.status.busy": "2020-09-23T09:02:51.477462Z",
     "iopub.status.idle": "2020-09-23T09:02:51.491610Z",
     "shell.execute_reply": "2020-09-23T09:02:51.490857Z"
    },
    "papermill": {
     "duration": 0.082065,
     "end_time": "2020-09-23T09:02:51.491733",
     "exception": false,
     "start_time": "2020-09-23T09:02:51.409668",
     "status": "completed"
    },
    "pycharm": {
     "is_executing": true,
     "name": "#%%\n"
    },
    "tags": []
   },
   "outputs": [
    {
     "data": {
      "text/html": [
       "<div>\n",
       "<style scoped>\n",
       "    .dataframe tbody tr th:only-of-type {\n",
       "        vertical-align: middle;\n",
       "    }\n",
       "\n",
       "    .dataframe tbody tr th {\n",
       "        vertical-align: top;\n",
       "    }\n",
       "\n",
       "    .dataframe thead th {\n",
       "        text-align: right;\n",
       "    }\n",
       "</style>\n",
       "<table border=\"1\" class=\"dataframe\">\n",
       "  <thead>\n",
       "    <tr style=\"text-align: right;\">\n",
       "      <th></th>\n",
       "      <th>company</th>\n",
       "      <th>rank</th>\n",
       "      <th>revenues</th>\n",
       "      <th>col1</th>\n",
       "      <th>revenue_change</th>\n",
       "      <th>profits</th>\n",
       "      <th>assets</th>\n",
       "      <th>profit_change</th>\n",
       "      <th>ceo</th>\n",
       "      <th>industry</th>\n",
       "      <th>sector</th>\n",
       "      <th>previous_rank</th>\n",
       "      <th>country</th>\n",
       "      <th>hq_location</th>\n",
       "      <th>website</th>\n",
       "      <th>years_on_global_500_list</th>\n",
       "      <th>employees</th>\n",
       "      <th>total_stockholder_equity</th>\n",
       "    </tr>\n",
       "  </thead>\n",
       "  <tbody>\n",
       "    <tr>\n",
       "      <th>0</th>\n",
       "      <td>Walmart</td>\n",
       "      <td>1</td>\n",
       "      <td>485873</td>\n",
       "      <td>Yes</td>\n",
       "      <td>0.8</td>\n",
       "      <td>13643.0</td>\n",
       "      <td>198825</td>\n",
       "      <td>-7.2</td>\n",
       "      <td>C. Douglas McMillon</td>\n",
       "      <td>General Merchandisers</td>\n",
       "      <td>Retailing</td>\n",
       "      <td>1</td>\n",
       "      <td>USA</td>\n",
       "      <td>Bentonville, AR</td>\n",
       "      <td>http://www.walmart.com</td>\n",
       "      <td>23</td>\n",
       "      <td>2300000</td>\n",
       "      <td>77798</td>\n",
       "    </tr>\n",
       "  </tbody>\n",
       "</table>\n",
       "</div>"
      ],
      "text/plain": [
       "   company  rank  revenues col1  revenue_change  profits  assets  \\\n",
       "0  Walmart     1    485873  Yes             0.8  13643.0  198825   \n",
       "\n",
       "   profit_change                  ceo               industry     sector  \\\n",
       "0           -7.2  C. Douglas McMillon  General Merchandisers  Retailing   \n",
       "\n",
       "   previous_rank country      hq_location                 website  \\\n",
       "0              1     USA  Bentonville, AR  http://www.walmart.com   \n",
       "\n",
       "   years_on_global_500_list  employees  total_stockholder_equity  \n",
       "0                        23    2300000                     77798  "
      ]
     },
     "execution_count": 3,
     "metadata": {},
     "output_type": "execute_result"
    }
   ],
   "source": [
    "df.head(1)"
   ]
  },
  {
   "cell_type": "markdown",
   "metadata": {
    "papermill": {
     "duration": 0.048785,
     "end_time": "2020-09-23T09:02:51.589217",
     "exception": false,
     "start_time": "2020-09-23T09:02:51.540432",
     "status": "completed"
    },
    "tags": []
   },
   "source": [
    "# 1. sep\n",
    "If your datset looks like below(separator between each field). you have to seperate '|' to remove this "
   ]
  },
  {
   "cell_type": "code",
   "execution_count": 4,
   "metadata": {
    "execution": {
     "iopub.execute_input": "2020-09-23T09:02:51.696381Z",
     "iopub.status.busy": "2020-09-23T09:02:51.695624Z",
     "iopub.status.idle": "2020-09-23T09:02:51.720173Z",
     "shell.execute_reply": "2020-09-23T09:02:51.719411Z"
    },
    "papermill": {
     "duration": 0.081187,
     "end_time": "2020-09-23T09:02:51.720296",
     "exception": false,
     "start_time": "2020-09-23T09:02:51.639109",
     "status": "completed"
    },
    "pycharm": {
     "is_executing": true,
     "name": "#%%\n"
    },
    "tags": []
   },
   "outputs": [
    {
     "data": {
      "text/html": [
       "<div>\n",
       "<style scoped>\n",
       "    .dataframe tbody tr th:only-of-type {\n",
       "        vertical-align: middle;\n",
       "    }\n",
       "\n",
       "    .dataframe tbody tr th {\n",
       "        vertical-align: top;\n",
       "    }\n",
       "\n",
       "    .dataframe thead th {\n",
       "        text-align: right;\n",
       "    }\n",
       "</style>\n",
       "<table border=\"1\" class=\"dataframe\">\n",
       "  <thead>\n",
       "    <tr style=\"text-align: right;\">\n",
       "      <th></th>\n",
       "      <th>id|name|age</th>\n",
       "    </tr>\n",
       "  </thead>\n",
       "  <tbody>\n",
       "    <tr>\n",
       "      <th>0</th>\n",
       "      <td>1|Royel|25</td>\n",
       "    </tr>\n",
       "    <tr>\n",
       "      <th>1</th>\n",
       "      <td>2|Rana|23</td>\n",
       "    </tr>\n",
       "    <tr>\n",
       "      <th>2</th>\n",
       "      <td>3|Urmi|14</td>\n",
       "    </tr>\n",
       "  </tbody>\n",
       "</table>\n",
       "</div>"
      ],
      "text/plain": [
       "  id|name|age\n",
       "0  1|Royel|25\n",
       "1   2|Rana|23\n",
       "2   3|Urmi|14"
      ]
     },
     "execution_count": 4,
     "metadata": {},
     "output_type": "execute_result"
    }
   ],
   "source": [
    "# At first lets see the test file\n",
    "sepdf = pd.read_csv('../input/textfile/separator.txt')\n",
    "sepdf.head()"
   ]
  },
  {
   "cell_type": "code",
   "execution_count": 5,
   "metadata": {
    "execution": {
     "iopub.execute_input": "2020-09-23T09:02:51.849213Z",
     "iopub.status.busy": "2020-09-23T09:02:51.848106Z",
     "iopub.status.idle": "2020-09-23T09:02:51.852041Z",
     "shell.execute_reply": "2020-09-23T09:02:51.852895Z"
    },
    "papermill": {
     "duration": 0.07296,
     "end_time": "2020-09-23T09:02:51.853098",
     "exception": false,
     "start_time": "2020-09-23T09:02:51.780138",
     "status": "completed"
    },
    "pycharm": {
     "is_executing": true,
     "name": "#%%\n"
    },
    "tags": []
   },
   "outputs": [
    {
     "data": {
      "text/html": [
       "<div>\n",
       "<style scoped>\n",
       "    .dataframe tbody tr th:only-of-type {\n",
       "        vertical-align: middle;\n",
       "    }\n",
       "\n",
       "    .dataframe tbody tr th {\n",
       "        vertical-align: top;\n",
       "    }\n",
       "\n",
       "    .dataframe thead th {\n",
       "        text-align: right;\n",
       "    }\n",
       "</style>\n",
       "<table border=\"1\" class=\"dataframe\">\n",
       "  <thead>\n",
       "    <tr style=\"text-align: right;\">\n",
       "      <th></th>\n",
       "      <th>id</th>\n",
       "      <th>name</th>\n",
       "      <th>age</th>\n",
       "    </tr>\n",
       "  </thead>\n",
       "  <tbody>\n",
       "    <tr>\n",
       "      <th>0</th>\n",
       "      <td>1</td>\n",
       "      <td>Royel</td>\n",
       "      <td>25</td>\n",
       "    </tr>\n",
       "    <tr>\n",
       "      <th>1</th>\n",
       "      <td>2</td>\n",
       "      <td>Rana</td>\n",
       "      <td>23</td>\n",
       "    </tr>\n",
       "    <tr>\n",
       "      <th>2</th>\n",
       "      <td>3</td>\n",
       "      <td>Urmi</td>\n",
       "      <td>14</td>\n",
       "    </tr>\n",
       "  </tbody>\n",
       "</table>\n",
       "</div>"
      ],
      "text/plain": [
       "   id   name  age\n",
       "0   1  Royel   25\n",
       "1   2   Rana   23\n",
       "2   3   Urmi   14"
      ]
     },
     "execution_count": 5,
     "metadata": {},
     "output_type": "execute_result"
    }
   ],
   "source": [
    "# when we use sep we get a clean organized DataFrame\n",
    "sepdf = pd.read_csv('../input/textfile/separator.txt', sep='|')\n",
    "sepdf.head()"
   ]
  },
  {
   "cell_type": "markdown",
   "metadata": {
    "papermill": {
     "duration": 0.053256,
     "end_time": "2020-09-23T09:02:51.967935",
     "exception": false,
     "start_time": "2020-09-23T09:02:51.914679",
     "status": "completed"
    },
    "tags": []
   },
   "source": [
    " # 2. Header \n",
    "Defains which line of your dataset is considered to be a header. **By default first rows consider as a header**. But if you want, you could use as "
   ]
  },
  {
   "cell_type": "code",
   "execution_count": 6,
   "metadata": {
    "execution": {
     "iopub.execute_input": "2020-09-23T09:02:52.079568Z",
     "iopub.status.busy": "2020-09-23T09:02:52.078796Z",
     "iopub.status.idle": "2020-09-23T09:02:52.105644Z",
     "shell.execute_reply": "2020-09-23T09:02:52.104998Z"
    },
    "papermill": {
     "duration": 0.082616,
     "end_time": "2020-09-23T09:02:52.105778",
     "exception": false,
     "start_time": "2020-09-23T09:02:52.023162",
     "status": "completed"
    },
    "pycharm": {
     "is_executing": true,
     "name": "#%%\n"
    },
    "tags": []
   },
   "outputs": [
    {
     "data": {
      "text/html": [
       "<div>\n",
       "<style scoped>\n",
       "    .dataframe tbody tr th:only-of-type {\n",
       "        vertical-align: middle;\n",
       "    }\n",
       "\n",
       "    .dataframe tbody tr th {\n",
       "        vertical-align: top;\n",
       "    }\n",
       "\n",
       "    .dataframe thead th {\n",
       "        text-align: right;\n",
       "    }\n",
       "</style>\n",
       "<table border=\"1\" class=\"dataframe\">\n",
       "  <thead>\n",
       "    <tr style=\"text-align: right;\">\n",
       "      <th></th>\n",
       "      <th>company</th>\n",
       "      <th>rank</th>\n",
       "      <th>revenues</th>\n",
       "      <th>col1</th>\n",
       "      <th>revenue_change</th>\n",
       "      <th>profits</th>\n",
       "      <th>assets</th>\n",
       "      <th>profit_change</th>\n",
       "      <th>ceo</th>\n",
       "      <th>industry</th>\n",
       "      <th>sector</th>\n",
       "      <th>previous_rank</th>\n",
       "      <th>country</th>\n",
       "      <th>hq_location</th>\n",
       "      <th>website</th>\n",
       "      <th>years_on_global_500_list</th>\n",
       "      <th>employees</th>\n",
       "      <th>total_stockholder_equity</th>\n",
       "    </tr>\n",
       "  </thead>\n",
       "  <tbody>\n",
       "    <tr>\n",
       "      <th>0</th>\n",
       "      <td>Walmart</td>\n",
       "      <td>1</td>\n",
       "      <td>485873</td>\n",
       "      <td>Yes</td>\n",
       "      <td>0.8</td>\n",
       "      <td>13643.0</td>\n",
       "      <td>198825</td>\n",
       "      <td>-7.2</td>\n",
       "      <td>C. Douglas McMillon</td>\n",
       "      <td>General Merchandisers</td>\n",
       "      <td>Retailing</td>\n",
       "      <td>1</td>\n",
       "      <td>USA</td>\n",
       "      <td>Bentonville, AR</td>\n",
       "      <td>http://www.walmart.com</td>\n",
       "      <td>23</td>\n",
       "      <td>2300000</td>\n",
       "      <td>77798</td>\n",
       "    </tr>\n",
       "    <tr>\n",
       "      <th>1</th>\n",
       "      <td>State Grid</td>\n",
       "      <td>2</td>\n",
       "      <td>315199</td>\n",
       "      <td>Yes</td>\n",
       "      <td>-4.4</td>\n",
       "      <td>9571.3</td>\n",
       "      <td>489838</td>\n",
       "      <td>-6.2</td>\n",
       "      <td>Kou Wei</td>\n",
       "      <td>Utilities</td>\n",
       "      <td>Energy</td>\n",
       "      <td>2</td>\n",
       "      <td>China</td>\n",
       "      <td>Beijing, China</td>\n",
       "      <td>http://www.sgcc.com.cn</td>\n",
       "      <td>17</td>\n",
       "      <td>926067</td>\n",
       "      <td>209456</td>\n",
       "    </tr>\n",
       "  </tbody>\n",
       "</table>\n",
       "</div>"
      ],
      "text/plain": [
       "      company  rank  revenues           col1  revenue_change  profits  assets  \\\n",
       "0     Walmart     1    485873            Yes             0.8  13643.0  198825   \n",
       "1  State Grid     2    315199            Yes            -4.4   9571.3  489838   \n",
       "\n",
       "   profit_change                  ceo               industry     sector  \\\n",
       "0           -7.2  C. Douglas McMillon  General Merchandisers  Retailing   \n",
       "1           -6.2              Kou Wei              Utilities     Energy   \n",
       "\n",
       "   previous_rank country      hq_location                 website  \\\n",
       "0              1     USA  Bentonville, AR  http://www.walmart.com   \n",
       "1              2   China   Beijing, China  http://www.sgcc.com.cn   \n",
       "\n",
       "   years_on_global_500_list  employees  total_stockholder_equity  \n",
       "0                        23    2300000                     77798  \n",
       "1                        17     926067                    209456  "
      ]
     },
     "execution_count": 6,
     "metadata": {},
     "output_type": "execute_result"
    }
   ],
   "source": [
    "# Columns or Features name as header \n",
    "headerdf = pd.read_csv('../input/sample-data/data.csv', header = 0)\n",
    "headerdf.head(2)"
   ]
  },
  {
   "cell_type": "markdown",
   "metadata": {
    "papermill": {
     "duration": 0.050118,
     "end_time": "2020-09-23T09:02:52.207469",
     "exception": false,
     "start_time": "2020-09-23T09:02:52.157351",
     "status": "completed"
    },
    "tags": []
   },
   "source": [
    "header = 1 (Consider second line of the dataset as header)"
   ]
  },
  {
   "cell_type": "code",
   "execution_count": 7,
   "metadata": {
    "execution": {
     "iopub.execute_input": "2020-09-23T09:02:52.318479Z",
     "iopub.status.busy": "2020-09-23T09:02:52.317729Z",
     "iopub.status.idle": "2020-09-23T09:02:52.344189Z",
     "shell.execute_reply": "2020-09-23T09:02:52.343409Z"
    },
    "papermill": {
     "duration": 0.086332,
     "end_time": "2020-09-23T09:02:52.344314",
     "exception": false,
     "start_time": "2020-09-23T09:02:52.257982",
     "status": "completed"
    },
    "pycharm": {
     "is_executing": true,
     "name": "#%%\n"
    },
    "tags": []
   },
   "outputs": [
    {
     "data": {
      "text/html": [
       "<div>\n",
       "<style scoped>\n",
       "    .dataframe tbody tr th:only-of-type {\n",
       "        vertical-align: middle;\n",
       "    }\n",
       "\n",
       "    .dataframe tbody tr th {\n",
       "        vertical-align: top;\n",
       "    }\n",
       "\n",
       "    .dataframe thead th {\n",
       "        text-align: right;\n",
       "    }\n",
       "</style>\n",
       "<table border=\"1\" class=\"dataframe\">\n",
       "  <thead>\n",
       "    <tr style=\"text-align: right;\">\n",
       "      <th></th>\n",
       "      <th>Walmart</th>\n",
       "      <th>1</th>\n",
       "      <th>485873</th>\n",
       "      <th>Yes</th>\n",
       "      <th>0.8</th>\n",
       "      <th>13643</th>\n",
       "      <th>198825</th>\n",
       "      <th>-7.2</th>\n",
       "      <th>C. Douglas McMillon</th>\n",
       "      <th>General Merchandisers</th>\n",
       "      <th>Retailing</th>\n",
       "      <th>1.1</th>\n",
       "      <th>USA</th>\n",
       "      <th>Bentonville, AR</th>\n",
       "      <th>http://www.walmart.com</th>\n",
       "      <th>23</th>\n",
       "      <th>2300000</th>\n",
       "      <th>77798</th>\n",
       "    </tr>\n",
       "  </thead>\n",
       "  <tbody>\n",
       "    <tr>\n",
       "      <th>0</th>\n",
       "      <td>State Grid</td>\n",
       "      <td>2</td>\n",
       "      <td>315199</td>\n",
       "      <td>Yes</td>\n",
       "      <td>-4.4</td>\n",
       "      <td>9571.3</td>\n",
       "      <td>489838</td>\n",
       "      <td>-6.2</td>\n",
       "      <td>Kou Wei</td>\n",
       "      <td>Utilities</td>\n",
       "      <td>Energy</td>\n",
       "      <td>2</td>\n",
       "      <td>China</td>\n",
       "      <td>Beijing, China</td>\n",
       "      <td>http://www.sgcc.com.cn</td>\n",
       "      <td>17</td>\n",
       "      <td>926067</td>\n",
       "      <td>209456</td>\n",
       "    </tr>\n",
       "    <tr>\n",
       "      <th>1</th>\n",
       "      <td>Sinopec Group</td>\n",
       "      <td>3</td>\n",
       "      <td>267518</td>\n",
       "      <td>No</td>\n",
       "      <td>-9.1</td>\n",
       "      <td>1257.9</td>\n",
       "      <td>310726</td>\n",
       "      <td>-65.0</td>\n",
       "      <td>Wang Yupu</td>\n",
       "      <td>Petroleum Refining</td>\n",
       "      <td>Energy</td>\n",
       "      <td>4</td>\n",
       "      <td>China</td>\n",
       "      <td>Beijing, China</td>\n",
       "      <td>http://www.sinopec.com</td>\n",
       "      <td>19</td>\n",
       "      <td>713288</td>\n",
       "      <td>106523</td>\n",
       "    </tr>\n",
       "  </tbody>\n",
       "</table>\n",
       "</div>"
      ],
      "text/plain": [
       "         Walmart  1  485873            Yes  0.8   13643  198825  -7.2  \\\n",
       "0     State Grid  2  315199            Yes -4.4  9571.3  489838  -6.2   \n",
       "1  Sinopec Group  3  267518             No -9.1  1257.9  310726 -65.0   \n",
       "\n",
       "  C. Douglas McMillon General Merchandisers Retailing  1.1    USA  \\\n",
       "0             Kou Wei             Utilities    Energy    2  China   \n",
       "1           Wang Yupu    Petroleum Refining    Energy    4  China   \n",
       "\n",
       "  Bentonville, AR  http://www.walmart.com  23  2300000   77798  \n",
       "0  Beijing, China  http://www.sgcc.com.cn  17   926067  209456  \n",
       "1  Beijing, China  http://www.sinopec.com  19   713288  106523  "
      ]
     },
     "execution_count": 7,
     "metadata": {},
     "output_type": "execute_result"
    }
   ],
   "source": [
    "# Make second line as a header \n",
    "headerdf = pd.read_csv('../input/sample-data/data.csv', header = 1)\n",
    "headerdf.head(2)"
   ]
  },
  {
   "cell_type": "markdown",
   "metadata": {
    "papermill": {
     "duration": 0.0515,
     "end_time": "2020-09-23T09:02:52.447470",
     "exception": false,
     "start_time": "2020-09-23T09:02:52.395970",
     "status": "completed"
    },
    "tags": []
   },
   "source": [
    "Header = None ( Remove headers from dataset)"
   ]
  },
  {
   "cell_type": "code",
   "execution_count": 8,
   "metadata": {
    "execution": {
     "iopub.execute_input": "2020-09-23T09:02:52.557420Z",
     "iopub.status.busy": "2020-09-23T09:02:52.556675Z",
     "iopub.status.idle": "2020-09-23T09:02:52.588170Z",
     "shell.execute_reply": "2020-09-23T09:02:52.587496Z"
    },
    "papermill": {
     "duration": 0.089149,
     "end_time": "2020-09-23T09:02:52.588303",
     "exception": false,
     "start_time": "2020-09-23T09:02:52.499154",
     "status": "completed"
    },
    "pycharm": {
     "is_executing": true,
     "name": "#%%\n"
    },
    "tags": []
   },
   "outputs": [
    {
     "data": {
      "text/html": [
       "<div>\n",
       "<style scoped>\n",
       "    .dataframe tbody tr th:only-of-type {\n",
       "        vertical-align: middle;\n",
       "    }\n",
       "\n",
       "    .dataframe tbody tr th {\n",
       "        vertical-align: top;\n",
       "    }\n",
       "\n",
       "    .dataframe thead th {\n",
       "        text-align: right;\n",
       "    }\n",
       "</style>\n",
       "<table border=\"1\" class=\"dataframe\">\n",
       "  <thead>\n",
       "    <tr style=\"text-align: right;\">\n",
       "      <th></th>\n",
       "      <th>0</th>\n",
       "      <th>1</th>\n",
       "      <th>2</th>\n",
       "      <th>3</th>\n",
       "      <th>4</th>\n",
       "      <th>5</th>\n",
       "      <th>6</th>\n",
       "      <th>7</th>\n",
       "      <th>8</th>\n",
       "      <th>9</th>\n",
       "      <th>10</th>\n",
       "      <th>11</th>\n",
       "      <th>12</th>\n",
       "      <th>13</th>\n",
       "      <th>14</th>\n",
       "      <th>15</th>\n",
       "      <th>16</th>\n",
       "      <th>17</th>\n",
       "    </tr>\n",
       "  </thead>\n",
       "  <tbody>\n",
       "    <tr>\n",
       "      <th>0</th>\n",
       "      <td>company</td>\n",
       "      <td>rank</td>\n",
       "      <td>revenues</td>\n",
       "      <td>col1</td>\n",
       "      <td>revenue_change</td>\n",
       "      <td>profits</td>\n",
       "      <td>assets</td>\n",
       "      <td>profit_change</td>\n",
       "      <td>ceo</td>\n",
       "      <td>industry</td>\n",
       "      <td>sector</td>\n",
       "      <td>previous_rank</td>\n",
       "      <td>country</td>\n",
       "      <td>hq_location</td>\n",
       "      <td>website</td>\n",
       "      <td>years_on_global_500_list</td>\n",
       "      <td>employees</td>\n",
       "      <td>total_stockholder_equity</td>\n",
       "    </tr>\n",
       "    <tr>\n",
       "      <th>1</th>\n",
       "      <td>Walmart</td>\n",
       "      <td>1</td>\n",
       "      <td>485873</td>\n",
       "      <td>Yes</td>\n",
       "      <td>0.8</td>\n",
       "      <td>13643</td>\n",
       "      <td>198825</td>\n",
       "      <td>-7.2</td>\n",
       "      <td>C. Douglas McMillon</td>\n",
       "      <td>General Merchandisers</td>\n",
       "      <td>Retailing</td>\n",
       "      <td>1</td>\n",
       "      <td>USA</td>\n",
       "      <td>Bentonville, AR</td>\n",
       "      <td>http://www.walmart.com</td>\n",
       "      <td>23</td>\n",
       "      <td>2300000</td>\n",
       "      <td>77798</td>\n",
       "    </tr>\n",
       "  </tbody>\n",
       "</table>\n",
       "</div>"
      ],
      "text/plain": [
       "        0     1         2     3               4        5       6   \\\n",
       "0  company  rank  revenues  col1  revenue_change  profits  assets   \n",
       "1  Walmart     1    485873   Yes             0.8    13643  198825   \n",
       "\n",
       "              7                    8                      9          10  \\\n",
       "0  profit_change                  ceo               industry     sector   \n",
       "1           -7.2  C. Douglas McMillon  General Merchandisers  Retailing   \n",
       "\n",
       "              11       12               13                      14  \\\n",
       "0  previous_rank  country      hq_location                 website   \n",
       "1              1      USA  Bentonville, AR  http://www.walmart.com   \n",
       "\n",
       "                         15         16                        17  \n",
       "0  years_on_global_500_list  employees  total_stockholder_equity  \n",
       "1                        23    2300000                     77798  "
      ]
     },
     "execution_count": 8,
     "metadata": {},
     "output_type": "execute_result"
    }
   ],
   "source": [
    "headerdf = pd.read_csv('../input/sample-data/data.csv', header = None)\n",
    "headerdf.head(2)"
   ]
  },
  {
   "cell_type": "markdown",
   "metadata": {
    "papermill": {
     "duration": 0.052114,
     "end_time": "2020-09-23T09:02:52.692822",
     "exception": false,
     "start_time": "2020-09-23T09:02:52.640708",
     "status": "completed"
    },
    "tags": []
   },
   "source": [
    "# 3. Names\n",
    "If you change entire header colums name you have to create a list of new headers name. Make sure you put all columns name "
   ]
  },
  {
   "cell_type": "code",
   "execution_count": 9,
   "metadata": {
    "execution": {
     "iopub.execute_input": "2020-09-23T09:02:52.805854Z",
     "iopub.status.busy": "2020-09-23T09:02:52.805053Z",
     "iopub.status.idle": "2020-09-23T09:02:52.844853Z",
     "shell.execute_reply": "2020-09-23T09:02:52.844165Z"
    },
    "papermill": {
     "duration": 0.099957,
     "end_time": "2020-09-23T09:02:52.844977",
     "exception": false,
     "start_time": "2020-09-23T09:02:52.745020",
     "status": "completed"
    },
    "pycharm": {
     "is_executing": true,
     "name": "#%%\n"
    },
    "tags": []
   },
   "outputs": [
    {
     "data": {
      "text/html": [
       "<div>\n",
       "<style scoped>\n",
       "    .dataframe tbody tr th:only-of-type {\n",
       "        vertical-align: middle;\n",
       "    }\n",
       "\n",
       "    .dataframe tbody tr th {\n",
       "        vertical-align: top;\n",
       "    }\n",
       "\n",
       "    .dataframe thead th {\n",
       "        text-align: right;\n",
       "    }\n",
       "</style>\n",
       "<table border=\"1\" class=\"dataframe\">\n",
       "  <thead>\n",
       "    <tr style=\"text-align: right;\">\n",
       "      <th></th>\n",
       "      <th></th>\n",
       "      <th>Company</th>\n",
       "      <th>Rank</th>\n",
       "      <th>Revenue_change</th>\n",
       "      <th>Profits</th>\n",
       "      <th>Assets</th>\n",
       "      <th>Profit_Change</th>\n",
       "      <th>CEO</th>\n",
       "      <th>Industry</th>\n",
       "      <th>Sector</th>\n",
       "      <th>OldRank</th>\n",
       "      <th>Country</th>\n",
       "      <th>Location</th>\n",
       "      <th>WebSite</th>\n",
       "      <th>GlobalList</th>\n",
       "      <th>Emp</th>\n",
       "      <th>StockHolder</th>\n",
       "    </tr>\n",
       "  </thead>\n",
       "  <tbody>\n",
       "    <tr>\n",
       "      <th>company</th>\n",
       "      <th>rank</th>\n",
       "      <td>revenues</td>\n",
       "      <td>col1</td>\n",
       "      <td>revenue_change</td>\n",
       "      <td>profits</td>\n",
       "      <td>assets</td>\n",
       "      <td>profit_change</td>\n",
       "      <td>ceo</td>\n",
       "      <td>industry</td>\n",
       "      <td>sector</td>\n",
       "      <td>previous_rank</td>\n",
       "      <td>country</td>\n",
       "      <td>hq_location</td>\n",
       "      <td>website</td>\n",
       "      <td>years_on_global_500_list</td>\n",
       "      <td>employees</td>\n",
       "      <td>total_stockholder_equity</td>\n",
       "    </tr>\n",
       "    <tr>\n",
       "      <th>Walmart</th>\n",
       "      <th>1</th>\n",
       "      <td>485873</td>\n",
       "      <td>Yes</td>\n",
       "      <td>0.8</td>\n",
       "      <td>13643</td>\n",
       "      <td>198825</td>\n",
       "      <td>-7.2</td>\n",
       "      <td>C. Douglas McMillon</td>\n",
       "      <td>General Merchandisers</td>\n",
       "      <td>Retailing</td>\n",
       "      <td>1</td>\n",
       "      <td>USA</td>\n",
       "      <td>Bentonville, AR</td>\n",
       "      <td>http://www.walmart.com</td>\n",
       "      <td>23</td>\n",
       "      <td>2300000</td>\n",
       "      <td>77798</td>\n",
       "    </tr>\n",
       "    <tr>\n",
       "      <th>State Grid</th>\n",
       "      <th>2</th>\n",
       "      <td>315199</td>\n",
       "      <td>Yes</td>\n",
       "      <td>-4.4</td>\n",
       "      <td>9571.3</td>\n",
       "      <td>489838</td>\n",
       "      <td>-6.2</td>\n",
       "      <td>Kou Wei</td>\n",
       "      <td>Utilities</td>\n",
       "      <td>Energy</td>\n",
       "      <td>2</td>\n",
       "      <td>China</td>\n",
       "      <td>Beijing, China</td>\n",
       "      <td>http://www.sgcc.com.cn</td>\n",
       "      <td>17</td>\n",
       "      <td>926067</td>\n",
       "      <td>209456</td>\n",
       "    </tr>\n",
       "    <tr>\n",
       "      <th>Sinopec Group</th>\n",
       "      <th>3</th>\n",
       "      <td>267518</td>\n",
       "      <td>No</td>\n",
       "      <td>-9.1</td>\n",
       "      <td>1257.9</td>\n",
       "      <td>310726</td>\n",
       "      <td>-65</td>\n",
       "      <td>Wang Yupu</td>\n",
       "      <td>Petroleum Refining</td>\n",
       "      <td>Energy</td>\n",
       "      <td>4</td>\n",
       "      <td>China</td>\n",
       "      <td>Beijing, China</td>\n",
       "      <td>http://www.sinopec.com</td>\n",
       "      <td>19</td>\n",
       "      <td>713288</td>\n",
       "      <td>106523</td>\n",
       "    </tr>\n",
       "    <tr>\n",
       "      <th>China National Petroleum</th>\n",
       "      <th>4</th>\n",
       "      <td>262573</td>\n",
       "      <td>Yes</td>\n",
       "      <td>-12.3</td>\n",
       "      <td>1867.5</td>\n",
       "      <td>585619</td>\n",
       "      <td>-73.7</td>\n",
       "      <td>Zhang Jianhua</td>\n",
       "      <td>Petroleum Refining</td>\n",
       "      <td>Energy</td>\n",
       "      <td>3</td>\n",
       "      <td>China</td>\n",
       "      <td>Beijing, China</td>\n",
       "      <td>http://www.cnpc.com.cn</td>\n",
       "      <td>17</td>\n",
       "      <td>1512048</td>\n",
       "      <td>301893</td>\n",
       "    </tr>\n",
       "  </tbody>\n",
       "</table>\n",
       "</div>"
      ],
      "text/plain": [
       "                                Company              Rank  Revenue_change  \\\n",
       "company                  rank  revenues              col1  revenue_change   \n",
       "Walmart                  1       485873               Yes             0.8   \n",
       "State Grid               2       315199               Yes            -4.4   \n",
       "Sinopec Group            3       267518                No            -9.1   \n",
       "China National Petroleum 4       262573               Yes           -12.3   \n",
       "\n",
       "                               Profits  Assets  Profit_Change  \\\n",
       "company                  rank  profits  assets  profit_change   \n",
       "Walmart                  1       13643  198825           -7.2   \n",
       "State Grid               2      9571.3  489838           -6.2   \n",
       "Sinopec Group            3      1257.9  310726            -65   \n",
       "China National Petroleum 4      1867.5  585619          -73.7   \n",
       "\n",
       "                                               CEO               Industry  \\\n",
       "company                  rank                  ceo               industry   \n",
       "Walmart                  1     C. Douglas McMillon  General Merchandisers   \n",
       "State Grid               2                 Kou Wei              Utilities   \n",
       "Sinopec Group            3               Wang Yupu     Petroleum Refining   \n",
       "China National Petroleum 4           Zhang Jianhua     Petroleum Refining   \n",
       "\n",
       "                                  Sector        OldRank  Country  \\\n",
       "company                  rank     sector  previous_rank  country   \n",
       "Walmart                  1     Retailing              1      USA   \n",
       "State Grid               2        Energy              2    China   \n",
       "Sinopec Group            3        Energy              4    China   \n",
       "China National Petroleum 4        Energy              3    China   \n",
       "\n",
       "                                      Location                 WebSite  \\\n",
       "company                  rank      hq_location                 website   \n",
       "Walmart                  1     Bentonville, AR  http://www.walmart.com   \n",
       "State Grid               2      Beijing, China  http://www.sgcc.com.cn   \n",
       "Sinopec Group            3      Beijing, China  http://www.sinopec.com   \n",
       "China National Petroleum 4      Beijing, China  http://www.cnpc.com.cn   \n",
       "\n",
       "                                             GlobalList        Emp  \\\n",
       "company                  rank  years_on_global_500_list  employees   \n",
       "Walmart                  1                           23    2300000   \n",
       "State Grid               2                           17     926067   \n",
       "Sinopec Group            3                           19     713288   \n",
       "China National Petroleum 4                           17    1512048   \n",
       "\n",
       "                                            StockHolder  \n",
       "company                  rank  total_stockholder_equity  \n",
       "Walmart                  1                        77798  \n",
       "State Grid               2                       209456  \n",
       "Sinopec Group            3                       106523  \n",
       "China National Petroleum 4                       301893  "
      ]
     },
     "execution_count": 9,
     "metadata": {},
     "output_type": "execute_result"
    }
   ],
   "source": [
    "columns_name = ['Company','Rank','Revenue_change','Profits','Assets','Profit_Change','CEO','Industry' ,'Sector','OldRank','Country','Location','WebSite', 'GlobalList', 'Emp','StockHolder']\n",
    "namesdf = pd.read_csv('../input/sample-data/data.csv', names=columns_name)\n",
    "namesdf.head()"
   ]
  },
  {
   "cell_type": "markdown",
   "metadata": {
    "papermill": {
     "duration": 0.052732,
     "end_time": "2020-09-23T09:02:52.950739",
     "exception": false,
     "start_time": "2020-09-23T09:02:52.898007",
     "status": "completed"
    },
    "tags": []
   },
   "source": [
    "# 4. index_col\n",
    "index_col = 0 refers first columns names in rows number "
   ]
  },
  {
   "cell_type": "code",
   "execution_count": 10,
   "metadata": {
    "execution": {
     "iopub.execute_input": "2020-09-23T09:02:53.064250Z",
     "iopub.status.busy": "2020-09-23T09:02:53.063429Z",
     "iopub.status.idle": "2020-09-23T09:02:53.089574Z",
     "shell.execute_reply": "2020-09-23T09:02:53.088931Z"
    },
    "papermill": {
     "duration": 0.085161,
     "end_time": "2020-09-23T09:02:53.089699",
     "exception": false,
     "start_time": "2020-09-23T09:02:53.004538",
     "status": "completed"
    },
    "pycharm": {
     "is_executing": true,
     "name": "#%%\n"
    },
    "tags": []
   },
   "outputs": [
    {
     "data": {
      "text/html": [
       "<div>\n",
       "<style scoped>\n",
       "    .dataframe tbody tr th:only-of-type {\n",
       "        vertical-align: middle;\n",
       "    }\n",
       "\n",
       "    .dataframe tbody tr th {\n",
       "        vertical-align: top;\n",
       "    }\n",
       "\n",
       "    .dataframe thead th {\n",
       "        text-align: right;\n",
       "    }\n",
       "</style>\n",
       "<table border=\"1\" class=\"dataframe\">\n",
       "  <thead>\n",
       "    <tr style=\"text-align: right;\">\n",
       "      <th></th>\n",
       "      <th>rank</th>\n",
       "      <th>revenues</th>\n",
       "      <th>col1</th>\n",
       "      <th>revenue_change</th>\n",
       "      <th>profits</th>\n",
       "      <th>assets</th>\n",
       "      <th>profit_change</th>\n",
       "      <th>ceo</th>\n",
       "      <th>industry</th>\n",
       "      <th>sector</th>\n",
       "      <th>previous_rank</th>\n",
       "      <th>country</th>\n",
       "      <th>hq_location</th>\n",
       "      <th>website</th>\n",
       "      <th>years_on_global_500_list</th>\n",
       "      <th>employees</th>\n",
       "      <th>total_stockholder_equity</th>\n",
       "    </tr>\n",
       "    <tr>\n",
       "      <th>company</th>\n",
       "      <th></th>\n",
       "      <th></th>\n",
       "      <th></th>\n",
       "      <th></th>\n",
       "      <th></th>\n",
       "      <th></th>\n",
       "      <th></th>\n",
       "      <th></th>\n",
       "      <th></th>\n",
       "      <th></th>\n",
       "      <th></th>\n",
       "      <th></th>\n",
       "      <th></th>\n",
       "      <th></th>\n",
       "      <th></th>\n",
       "      <th></th>\n",
       "      <th></th>\n",
       "    </tr>\n",
       "  </thead>\n",
       "  <tbody>\n",
       "    <tr>\n",
       "      <th>Walmart</th>\n",
       "      <td>1</td>\n",
       "      <td>485873</td>\n",
       "      <td>Yes</td>\n",
       "      <td>0.8</td>\n",
       "      <td>13643.0</td>\n",
       "      <td>198825</td>\n",
       "      <td>-7.2</td>\n",
       "      <td>C. Douglas McMillon</td>\n",
       "      <td>General Merchandisers</td>\n",
       "      <td>Retailing</td>\n",
       "      <td>1</td>\n",
       "      <td>USA</td>\n",
       "      <td>Bentonville, AR</td>\n",
       "      <td>http://www.walmart.com</td>\n",
       "      <td>23</td>\n",
       "      <td>2300000</td>\n",
       "      <td>77798</td>\n",
       "    </tr>\n",
       "    <tr>\n",
       "      <th>State Grid</th>\n",
       "      <td>2</td>\n",
       "      <td>315199</td>\n",
       "      <td>Yes</td>\n",
       "      <td>-4.4</td>\n",
       "      <td>9571.3</td>\n",
       "      <td>489838</td>\n",
       "      <td>-6.2</td>\n",
       "      <td>Kou Wei</td>\n",
       "      <td>Utilities</td>\n",
       "      <td>Energy</td>\n",
       "      <td>2</td>\n",
       "      <td>China</td>\n",
       "      <td>Beijing, China</td>\n",
       "      <td>http://www.sgcc.com.cn</td>\n",
       "      <td>17</td>\n",
       "      <td>926067</td>\n",
       "      <td>209456</td>\n",
       "    </tr>\n",
       "  </tbody>\n",
       "</table>\n",
       "</div>"
      ],
      "text/plain": [
       "            rank  revenues           col1  revenue_change  profits  assets  \\\n",
       "company                                                                      \n",
       "Walmart        1    485873            Yes             0.8  13643.0  198825   \n",
       "State Grid     2    315199            Yes            -4.4   9571.3  489838   \n",
       "\n",
       "            profit_change                  ceo               industry  \\\n",
       "company                                                                 \n",
       "Walmart              -7.2  C. Douglas McMillon  General Merchandisers   \n",
       "State Grid           -6.2              Kou Wei              Utilities   \n",
       "\n",
       "               sector  previous_rank country      hq_location  \\\n",
       "company                                                         \n",
       "Walmart     Retailing              1     USA  Bentonville, AR   \n",
       "State Grid     Energy              2   China   Beijing, China   \n",
       "\n",
       "                           website  years_on_global_500_list  employees  \\\n",
       "company                                                                   \n",
       "Walmart     http://www.walmart.com                        23    2300000   \n",
       "State Grid  http://www.sgcc.com.cn                        17     926067   \n",
       "\n",
       "            total_stockholder_equity  \n",
       "company                               \n",
       "Walmart                        77798  \n",
       "State Grid                    209456  "
      ]
     },
     "execution_count": 10,
     "metadata": {},
     "output_type": "execute_result"
    }
   ],
   "source": [
    "df = pd.read_csv('../input/sample-data/data.csv', index_col = 0)\n",
    "df.head(2)"
   ]
  },
  {
   "cell_type": "markdown",
   "metadata": {
    "papermill": {
     "duration": 0.053785,
     "end_time": "2020-09-23T09:02:53.198845",
     "exception": false,
     "start_time": "2020-09-23T09:02:53.145060",
     "status": "completed"
    },
    "tags": []
   },
   "source": [
    "Multiple columns name in index_col \n",
    "1. index_col = [0,1]  defines columns name using serial number \n",
    "2. index_col = [\"column1\", \"column2\"]"
   ]
  },
  {
   "cell_type": "code",
   "execution_count": 11,
   "metadata": {
    "execution": {
     "iopub.execute_input": "2020-09-23T09:02:53.314772Z",
     "iopub.status.busy": "2020-09-23T09:02:53.313610Z",
     "iopub.status.idle": "2020-09-23T09:02:53.344244Z",
     "shell.execute_reply": "2020-09-23T09:02:53.343625Z"
    },
    "papermill": {
     "duration": 0.091313,
     "end_time": "2020-09-23T09:02:53.344362",
     "exception": false,
     "start_time": "2020-09-23T09:02:53.253049",
     "status": "completed"
    },
    "pycharm": {
     "is_executing": true,
     "name": "#%%\n"
    },
    "tags": []
   },
   "outputs": [
    {
     "data": {
      "text/html": [
       "<div>\n",
       "<style scoped>\n",
       "    .dataframe tbody tr th:only-of-type {\n",
       "        vertical-align: middle;\n",
       "    }\n",
       "\n",
       "    .dataframe tbody tr th {\n",
       "        vertical-align: top;\n",
       "    }\n",
       "\n",
       "    .dataframe thead th {\n",
       "        text-align: right;\n",
       "    }\n",
       "</style>\n",
       "<table border=\"1\" class=\"dataframe\">\n",
       "  <thead>\n",
       "    <tr style=\"text-align: right;\">\n",
       "      <th></th>\n",
       "      <th></th>\n",
       "      <th>revenues</th>\n",
       "      <th>col1</th>\n",
       "      <th>revenue_change</th>\n",
       "      <th>profits</th>\n",
       "      <th>assets</th>\n",
       "      <th>profit_change</th>\n",
       "      <th>ceo</th>\n",
       "      <th>industry</th>\n",
       "      <th>sector</th>\n",
       "      <th>previous_rank</th>\n",
       "      <th>country</th>\n",
       "      <th>hq_location</th>\n",
       "      <th>website</th>\n",
       "      <th>years_on_global_500_list</th>\n",
       "      <th>employees</th>\n",
       "      <th>total_stockholder_equity</th>\n",
       "    </tr>\n",
       "    <tr>\n",
       "      <th>company</th>\n",
       "      <th>rank</th>\n",
       "      <th></th>\n",
       "      <th></th>\n",
       "      <th></th>\n",
       "      <th></th>\n",
       "      <th></th>\n",
       "      <th></th>\n",
       "      <th></th>\n",
       "      <th></th>\n",
       "      <th></th>\n",
       "      <th></th>\n",
       "      <th></th>\n",
       "      <th></th>\n",
       "      <th></th>\n",
       "      <th></th>\n",
       "      <th></th>\n",
       "      <th></th>\n",
       "    </tr>\n",
       "  </thead>\n",
       "  <tbody>\n",
       "    <tr>\n",
       "      <th>Walmart</th>\n",
       "      <th>1</th>\n",
       "      <td>485873</td>\n",
       "      <td>Yes</td>\n",
       "      <td>0.8</td>\n",
       "      <td>13643.0</td>\n",
       "      <td>198825</td>\n",
       "      <td>-7.2</td>\n",
       "      <td>C. Douglas McMillon</td>\n",
       "      <td>General Merchandisers</td>\n",
       "      <td>Retailing</td>\n",
       "      <td>1</td>\n",
       "      <td>USA</td>\n",
       "      <td>Bentonville, AR</td>\n",
       "      <td>http://www.walmart.com</td>\n",
       "      <td>23</td>\n",
       "      <td>2300000</td>\n",
       "      <td>77798</td>\n",
       "    </tr>\n",
       "    <tr>\n",
       "      <th>State Grid</th>\n",
       "      <th>2</th>\n",
       "      <td>315199</td>\n",
       "      <td>Yes</td>\n",
       "      <td>-4.4</td>\n",
       "      <td>9571.3</td>\n",
       "      <td>489838</td>\n",
       "      <td>-6.2</td>\n",
       "      <td>Kou Wei</td>\n",
       "      <td>Utilities</td>\n",
       "      <td>Energy</td>\n",
       "      <td>2</td>\n",
       "      <td>China</td>\n",
       "      <td>Beijing, China</td>\n",
       "      <td>http://www.sgcc.com.cn</td>\n",
       "      <td>17</td>\n",
       "      <td>926067</td>\n",
       "      <td>209456</td>\n",
       "    </tr>\n",
       "  </tbody>\n",
       "</table>\n",
       "</div>"
      ],
      "text/plain": [
       "                 revenues           col1  revenue_change  profits  assets  \\\n",
       "company    rank                                                             \n",
       "Walmart    1       485873            Yes             0.8  13643.0  198825   \n",
       "State Grid 2       315199            Yes            -4.4   9571.3  489838   \n",
       "\n",
       "                 profit_change                  ceo               industry  \\\n",
       "company    rank                                                              \n",
       "Walmart    1              -7.2  C. Douglas McMillon  General Merchandisers   \n",
       "State Grid 2              -6.2              Kou Wei              Utilities   \n",
       "\n",
       "                    sector  previous_rank country      hq_location  \\\n",
       "company    rank                                                      \n",
       "Walmart    1     Retailing              1     USA  Bentonville, AR   \n",
       "State Grid 2        Energy              2   China   Beijing, China   \n",
       "\n",
       "                                website  years_on_global_500_list  employees  \\\n",
       "company    rank                                                                \n",
       "Walmart    1     http://www.walmart.com                        23    2300000   \n",
       "State Grid 2     http://www.sgcc.com.cn                        17     926067   \n",
       "\n",
       "                 total_stockholder_equity  \n",
       "company    rank                            \n",
       "Walmart    1                        77798  \n",
       "State Grid 2                       209456  "
      ]
     },
     "execution_count": 11,
     "metadata": {},
     "output_type": "execute_result"
    }
   ],
   "source": [
    "df1 = pd.read_csv('../input/sample-data/data.csv', index_col=[0,1])\n",
    "df1.head(2)"
   ]
  },
  {
   "cell_type": "code",
   "execution_count": 12,
   "metadata": {
    "execution": {
     "iopub.execute_input": "2020-09-23T09:02:53.461796Z",
     "iopub.status.busy": "2020-09-23T09:02:53.460977Z",
     "iopub.status.idle": "2020-09-23T09:02:53.489568Z",
     "shell.execute_reply": "2020-09-23T09:02:53.488977Z"
    },
    "papermill": {
     "duration": 0.089438,
     "end_time": "2020-09-23T09:02:53.489696",
     "exception": false,
     "start_time": "2020-09-23T09:02:53.400258",
     "status": "completed"
    },
    "pycharm": {
     "is_executing": true,
     "name": "#%%\n"
    },
    "tags": []
   },
   "outputs": [
    {
     "data": {
      "text/html": [
       "<div>\n",
       "<style scoped>\n",
       "    .dataframe tbody tr th:only-of-type {\n",
       "        vertical-align: middle;\n",
       "    }\n",
       "\n",
       "    .dataframe tbody tr th {\n",
       "        vertical-align: top;\n",
       "    }\n",
       "\n",
       "    .dataframe thead th {\n",
       "        text-align: right;\n",
       "    }\n",
       "</style>\n",
       "<table border=\"1\" class=\"dataframe\">\n",
       "  <thead>\n",
       "    <tr style=\"text-align: right;\">\n",
       "      <th></th>\n",
       "      <th></th>\n",
       "      <th>revenues</th>\n",
       "      <th>col1</th>\n",
       "      <th>revenue_change</th>\n",
       "      <th>profits</th>\n",
       "      <th>assets</th>\n",
       "      <th>profit_change</th>\n",
       "      <th>ceo</th>\n",
       "      <th>industry</th>\n",
       "      <th>sector</th>\n",
       "      <th>previous_rank</th>\n",
       "      <th>country</th>\n",
       "      <th>hq_location</th>\n",
       "      <th>website</th>\n",
       "      <th>years_on_global_500_list</th>\n",
       "      <th>employees</th>\n",
       "      <th>total_stockholder_equity</th>\n",
       "    </tr>\n",
       "    <tr>\n",
       "      <th>company</th>\n",
       "      <th>rank</th>\n",
       "      <th></th>\n",
       "      <th></th>\n",
       "      <th></th>\n",
       "      <th></th>\n",
       "      <th></th>\n",
       "      <th></th>\n",
       "      <th></th>\n",
       "      <th></th>\n",
       "      <th></th>\n",
       "      <th></th>\n",
       "      <th></th>\n",
       "      <th></th>\n",
       "      <th></th>\n",
       "      <th></th>\n",
       "      <th></th>\n",
       "      <th></th>\n",
       "    </tr>\n",
       "  </thead>\n",
       "  <tbody>\n",
       "    <tr>\n",
       "      <th>Walmart</th>\n",
       "      <th>1</th>\n",
       "      <td>485873</td>\n",
       "      <td>Yes</td>\n",
       "      <td>0.8</td>\n",
       "      <td>13643.0</td>\n",
       "      <td>198825</td>\n",
       "      <td>-7.2</td>\n",
       "      <td>C. Douglas McMillon</td>\n",
       "      <td>General Merchandisers</td>\n",
       "      <td>Retailing</td>\n",
       "      <td>1</td>\n",
       "      <td>USA</td>\n",
       "      <td>Bentonville, AR</td>\n",
       "      <td>http://www.walmart.com</td>\n",
       "      <td>23</td>\n",
       "      <td>2300000</td>\n",
       "      <td>77798</td>\n",
       "    </tr>\n",
       "    <tr>\n",
       "      <th>State Grid</th>\n",
       "      <th>2</th>\n",
       "      <td>315199</td>\n",
       "      <td>Yes</td>\n",
       "      <td>-4.4</td>\n",
       "      <td>9571.3</td>\n",
       "      <td>489838</td>\n",
       "      <td>-6.2</td>\n",
       "      <td>Kou Wei</td>\n",
       "      <td>Utilities</td>\n",
       "      <td>Energy</td>\n",
       "      <td>2</td>\n",
       "      <td>China</td>\n",
       "      <td>Beijing, China</td>\n",
       "      <td>http://www.sgcc.com.cn</td>\n",
       "      <td>17</td>\n",
       "      <td>926067</td>\n",
       "      <td>209456</td>\n",
       "    </tr>\n",
       "  </tbody>\n",
       "</table>\n",
       "</div>"
      ],
      "text/plain": [
       "                 revenues           col1  revenue_change  profits  assets  \\\n",
       "company    rank                                                             \n",
       "Walmart    1       485873            Yes             0.8  13643.0  198825   \n",
       "State Grid 2       315199            Yes            -4.4   9571.3  489838   \n",
       "\n",
       "                 profit_change                  ceo               industry  \\\n",
       "company    rank                                                              \n",
       "Walmart    1              -7.2  C. Douglas McMillon  General Merchandisers   \n",
       "State Grid 2              -6.2              Kou Wei              Utilities   \n",
       "\n",
       "                    sector  previous_rank country      hq_location  \\\n",
       "company    rank                                                      \n",
       "Walmart    1     Retailing              1     USA  Bentonville, AR   \n",
       "State Grid 2        Energy              2   China   Beijing, China   \n",
       "\n",
       "                                website  years_on_global_500_list  employees  \\\n",
       "company    rank                                                                \n",
       "Walmart    1     http://www.walmart.com                        23    2300000   \n",
       "State Grid 2     http://www.sgcc.com.cn                        17     926067   \n",
       "\n",
       "                 total_stockholder_equity  \n",
       "company    rank                            \n",
       "Walmart    1                        77798  \n",
       "State Grid 2                       209456  "
      ]
     },
     "execution_count": 12,
     "metadata": {},
     "output_type": "execute_result"
    }
   ],
   "source": [
    "df2 = pd.read_csv('../input/sample-data/data.csv', index_col=[\"company\", \"rank\"])\n",
    "df2.head(2)"
   ]
  },
  {
   "cell_type": "markdown",
   "metadata": {
    "papermill": {
     "duration": 0.057156,
     "end_time": "2020-09-23T09:02:53.602830",
     "exception": false,
     "start_time": "2020-09-23T09:02:53.545674",
     "status": "completed"
    },
    "tags": []
   },
   "source": [
    "# 5. usecols \n",
    "Select specefic columns from a large dataset \n",
    "columns order are maintain on actual dataset not your custom columns name "
   ]
  },
  {
   "cell_type": "code",
   "execution_count": 13,
   "metadata": {
    "execution": {
     "iopub.execute_input": "2020-09-23T09:02:53.721298Z",
     "iopub.status.busy": "2020-09-23T09:02:53.720528Z",
     "iopub.status.idle": "2020-09-23T09:02:53.734481Z",
     "shell.execute_reply": "2020-09-23T09:02:53.733766Z"
    },
    "papermill": {
     "duration": 0.075813,
     "end_time": "2020-09-23T09:02:53.734627",
     "exception": false,
     "start_time": "2020-09-23T09:02:53.658814",
     "status": "completed"
    },
    "pycharm": {
     "is_executing": true,
     "name": "#%%\n"
    },
    "tags": []
   },
   "outputs": [
    {
     "data": {
      "text/html": [
       "<div>\n",
       "<style scoped>\n",
       "    .dataframe tbody tr th:only-of-type {\n",
       "        vertical-align: middle;\n",
       "    }\n",
       "\n",
       "    .dataframe tbody tr th {\n",
       "        vertical-align: top;\n",
       "    }\n",
       "\n",
       "    .dataframe thead th {\n",
       "        text-align: right;\n",
       "    }\n",
       "</style>\n",
       "<table border=\"1\" class=\"dataframe\">\n",
       "  <thead>\n",
       "    <tr style=\"text-align: right;\">\n",
       "      <th></th>\n",
       "      <th>company</th>\n",
       "      <th>rank</th>\n",
       "      <th>profits</th>\n",
       "    </tr>\n",
       "  </thead>\n",
       "  <tbody>\n",
       "    <tr>\n",
       "      <th>0</th>\n",
       "      <td>Walmart</td>\n",
       "      <td>1</td>\n",
       "      <td>13643.0</td>\n",
       "    </tr>\n",
       "    <tr>\n",
       "      <th>1</th>\n",
       "      <td>State Grid</td>\n",
       "      <td>2</td>\n",
       "      <td>9571.3</td>\n",
       "    </tr>\n",
       "  </tbody>\n",
       "</table>\n",
       "</div>"
      ],
      "text/plain": [
       "      company  rank  profits\n",
       "0     Walmart     1  13643.0\n",
       "1  State Grid     2   9571.3"
      ]
     },
     "execution_count": 13,
     "metadata": {},
     "output_type": "execute_result"
    }
   ],
   "source": [
    "df = pd.read_csv('../input/sample-data/data.csv', usecols=['rank', 'company','profits'])\n",
    "df.head(2)"
   ]
  },
  {
   "cell_type": "code",
   "execution_count": 14,
   "metadata": {
    "execution": {
     "iopub.execute_input": "2020-09-23T09:02:53.855817Z",
     "iopub.status.busy": "2020-09-23T09:02:53.855065Z",
     "iopub.status.idle": "2020-09-23T09:02:53.869791Z",
     "shell.execute_reply": "2020-09-23T09:02:53.869180Z"
    },
    "papermill": {
     "duration": 0.077318,
     "end_time": "2020-09-23T09:02:53.869916",
     "exception": false,
     "start_time": "2020-09-23T09:02:53.792598",
     "status": "completed"
    },
    "pycharm": {
     "is_executing": true,
     "name": "#%%\n"
    },
    "tags": []
   },
   "outputs": [
    {
     "data": {
      "text/html": [
       "<div>\n",
       "<style scoped>\n",
       "    .dataframe tbody tr th:only-of-type {\n",
       "        vertical-align: middle;\n",
       "    }\n",
       "\n",
       "    .dataframe tbody tr th {\n",
       "        vertical-align: top;\n",
       "    }\n",
       "\n",
       "    .dataframe thead th {\n",
       "        text-align: right;\n",
       "    }\n",
       "</style>\n",
       "<table border=\"1\" class=\"dataframe\">\n",
       "  <thead>\n",
       "    <tr style=\"text-align: right;\">\n",
       "      <th></th>\n",
       "      <th>company</th>\n",
       "      <th>rank</th>\n",
       "      <th>revenues</th>\n",
       "      <th>col1</th>\n",
       "    </tr>\n",
       "  </thead>\n",
       "  <tbody>\n",
       "    <tr>\n",
       "      <th>0</th>\n",
       "      <td>Walmart</td>\n",
       "      <td>1</td>\n",
       "      <td>485873</td>\n",
       "      <td>Yes</td>\n",
       "    </tr>\n",
       "    <tr>\n",
       "      <th>1</th>\n",
       "      <td>State Grid</td>\n",
       "      <td>2</td>\n",
       "      <td>315199</td>\n",
       "      <td>Yes</td>\n",
       "    </tr>\n",
       "  </tbody>\n",
       "</table>\n",
       "</div>"
      ],
      "text/plain": [
       "      company  rank  revenues           col1\n",
       "0     Walmart     1    485873            Yes\n",
       "1  State Grid     2    315199            Yes"
      ]
     },
     "execution_count": 14,
     "metadata": {},
     "output_type": "execute_result"
    }
   ],
   "source": [
    "# Alternative way by columns serial \n",
    "df = pd.read_csv('../input/sample-data/data.csv', usecols=[0,1,2,3])\n",
    "df.head(2)"
   ]
  },
  {
   "cell_type": "markdown",
   "metadata": {
    "papermill": {
     "duration": 0.057152,
     "end_time": "2020-09-23T09:02:53.984700",
     "exception": false,
     "start_time": "2020-09-23T09:02:53.927548",
     "status": "completed"
    },
    "tags": []
   },
   "source": [
    "### Remove columns names "
   ]
  },
  {
   "cell_type": "code",
   "execution_count": 15,
   "metadata": {
    "execution": {
     "iopub.execute_input": "2020-09-23T09:02:54.106186Z",
     "iopub.status.busy": "2020-09-23T09:02:54.105389Z",
     "iopub.status.idle": "2020-09-23T09:02:54.117154Z",
     "shell.execute_reply": "2020-09-23T09:02:54.116555Z"
    },
    "papermill": {
     "duration": 0.075262,
     "end_time": "2020-09-23T09:02:54.117290",
     "exception": false,
     "start_time": "2020-09-23T09:02:54.042028",
     "status": "completed"
    },
    "pycharm": {
     "is_executing": true,
     "name": "#%%\n"
    },
    "tags": []
   },
   "outputs": [
    {
     "data": {
      "text/plain": [
       "Index(['company', 'revenues', 'col1', 'revenue_change', 'assets',\n",
       "       'profit_change', 'ceo', 'industry', 'sector', 'previous_rank',\n",
       "       'country', 'hq_location', 'website', 'years_on_global_500_list',\n",
       "       'employees', 'total_stockholder_equity'],\n",
       "      dtype='object')"
      ]
     },
     "execution_count": 15,
     "metadata": {},
     "output_type": "execute_result"
    }
   ],
   "source": [
    "# rank and profit columns are removed \n",
    "df = pd.read_csv('../input/sample-data/data.csv', usecols= lambda column : column not in ['rank', 'profits'])\n",
    "df.columns"
   ]
  },
  {
   "cell_type": "markdown",
   "metadata": {
    "papermill": {
     "duration": 0.057354,
     "end_time": "2020-09-23T09:02:54.233127",
     "exception": false,
     "start_time": "2020-09-23T09:02:54.175773",
     "status": "completed"
    },
    "tags": []
   },
   "source": [
    "# 6. squeeze\n",
    "If your dataset has only one columns and you want to make it as a series then you have to set squeeze=True. It will return data as a seris not dataframe "
   ]
  },
  {
   "cell_type": "code",
   "execution_count": 16,
   "metadata": {
    "execution": {
     "iopub.execute_input": "2020-09-23T09:02:54.361217Z",
     "iopub.status.busy": "2020-09-23T09:02:54.360133Z",
     "iopub.status.idle": "2020-09-23T09:02:54.376207Z",
     "shell.execute_reply": "2020-09-23T09:02:54.376796Z"
    },
    "papermill": {
     "duration": 0.086185,
     "end_time": "2020-09-23T09:02:54.376998",
     "exception": false,
     "start_time": "2020-09-23T09:02:54.290813",
     "status": "completed"
    },
    "pycharm": {
     "is_executing": true,
     "name": "#%%\n"
    },
    "tags": []
   },
   "outputs": [
    {
     "data": {
      "text/html": [
       "<div>\n",
       "<style scoped>\n",
       "    .dataframe tbody tr th:only-of-type {\n",
       "        vertical-align: middle;\n",
       "    }\n",
       "\n",
       "    .dataframe tbody tr th {\n",
       "        vertical-align: top;\n",
       "    }\n",
       "\n",
       "    .dataframe thead th {\n",
       "        text-align: right;\n",
       "    }\n",
       "</style>\n",
       "<table border=\"1\" class=\"dataframe\">\n",
       "  <thead>\n",
       "    <tr style=\"text-align: right;\">\n",
       "      <th></th>\n",
       "      <th>status</th>\n",
       "    </tr>\n",
       "  </thead>\n",
       "  <tbody>\n",
       "    <tr>\n",
       "      <th>0</th>\n",
       "      <td>Today</td>\n",
       "    </tr>\n",
       "    <tr>\n",
       "      <th>1</th>\n",
       "      <td>is</td>\n",
       "    </tr>\n",
       "    <tr>\n",
       "      <th>2</th>\n",
       "      <td>a</td>\n",
       "    </tr>\n",
       "    <tr>\n",
       "      <th>3</th>\n",
       "      <td>shainy</td>\n",
       "    </tr>\n",
       "    <tr>\n",
       "      <th>4</th>\n",
       "      <td>day.</td>\n",
       "    </tr>\n",
       "  </tbody>\n",
       "</table>\n",
       "</div>"
      ],
      "text/plain": [
       "    status\n",
       "0   Today \n",
       "1      is \n",
       "2       a \n",
       "3  shainy \n",
       "4     day."
      ]
     },
     "execution_count": 16,
     "metadata": {},
     "output_type": "execute_result"
    }
   ],
   "source": [
    "df = pd.read_csv('../input/squeez/squeeze.csv')\n",
    "df.head()"
   ]
  },
  {
   "cell_type": "code",
   "execution_count": 17,
   "metadata": {
    "execution": {
     "iopub.execute_input": "2020-09-23T09:02:54.525862Z",
     "iopub.status.busy": "2020-09-23T09:02:54.524957Z",
     "iopub.status.idle": "2020-09-23T09:02:54.529634Z",
     "shell.execute_reply": "2020-09-23T09:02:54.529041Z"
    },
    "papermill": {
     "duration": 0.077689,
     "end_time": "2020-09-23T09:02:54.529762",
     "exception": false,
     "start_time": "2020-09-23T09:02:54.452073",
     "status": "completed"
    },
    "pycharm": {
     "is_executing": true,
     "name": "#%%\n"
    },
    "tags": []
   },
   "outputs": [
    {
     "data": {
      "text/plain": [
       "pandas.core.frame.DataFrame"
      ]
     },
     "execution_count": 17,
     "metadata": {},
     "output_type": "execute_result"
    }
   ],
   "source": [
    "type(df)"
   ]
  },
  {
   "cell_type": "code",
   "execution_count": 18,
   "metadata": {
    "execution": {
     "iopub.execute_input": "2020-09-23T09:02:54.658973Z",
     "iopub.status.busy": "2020-09-23T09:02:54.658062Z",
     "iopub.status.idle": "2020-09-23T09:02:54.662645Z",
     "shell.execute_reply": "2020-09-23T09:02:54.662024Z"
    },
    "papermill": {
     "duration": 0.07343,
     "end_time": "2020-09-23T09:02:54.662781",
     "exception": false,
     "start_time": "2020-09-23T09:02:54.589351",
     "status": "completed"
    },
    "pycharm": {
     "is_executing": true,
     "name": "#%%\n"
    },
    "tags": []
   },
   "outputs": [
    {
     "data": {
      "text/plain": [
       "pandas.core.series.Series"
      ]
     },
     "execution_count": 18,
     "metadata": {},
     "output_type": "execute_result"
    }
   ],
   "source": [
    "df = pd.read_csv('../input/squeez/squeeze.csv', squeeze=True)\n",
    "type(df)"
   ]
  },
  {
   "cell_type": "markdown",
   "metadata": {
    "papermill": {
     "duration": 0.060377,
     "end_time": "2020-09-23T09:02:54.783197",
     "exception": false,
     "start_time": "2020-09-23T09:02:54.722820",
     "status": "completed"
    },
    "tags": []
   },
   "source": [
    "# 7. prefix \n",
    "When your dataset has not any olumns or header =None, you could set a fixed columns name for your header "
   ]
  },
  {
   "cell_type": "code",
   "execution_count": 19,
   "metadata": {
    "execution": {
     "iopub.execute_input": "2020-09-23T09:02:54.909398Z",
     "iopub.status.busy": "2020-09-23T09:02:54.908612Z",
     "iopub.status.idle": "2020-09-23T09:02:54.937582Z",
     "shell.execute_reply": "2020-09-23T09:02:54.936858Z"
    },
    "papermill": {
     "duration": 0.094061,
     "end_time": "2020-09-23T09:02:54.937700",
     "exception": false,
     "start_time": "2020-09-23T09:02:54.843639",
     "status": "completed"
    },
    "pycharm": {
     "is_executing": true,
     "name": "#%%\n"
    },
    "tags": []
   },
   "outputs": [
    {
     "data": {
      "text/html": [
       "<div>\n",
       "<style scoped>\n",
       "    .dataframe tbody tr th:only-of-type {\n",
       "        vertical-align: middle;\n",
       "    }\n",
       "\n",
       "    .dataframe tbody tr th {\n",
       "        vertical-align: top;\n",
       "    }\n",
       "\n",
       "    .dataframe thead th {\n",
       "        text-align: right;\n",
       "    }\n",
       "</style>\n",
       "<table border=\"1\" class=\"dataframe\">\n",
       "  <thead>\n",
       "    <tr style=\"text-align: right;\">\n",
       "      <th></th>\n",
       "      <th>0</th>\n",
       "      <th>1</th>\n",
       "      <th>2</th>\n",
       "      <th>3</th>\n",
       "      <th>4</th>\n",
       "      <th>5</th>\n",
       "      <th>6</th>\n",
       "      <th>7</th>\n",
       "      <th>8</th>\n",
       "      <th>9</th>\n",
       "      <th>10</th>\n",
       "      <th>11</th>\n",
       "      <th>12</th>\n",
       "      <th>13</th>\n",
       "      <th>14</th>\n",
       "      <th>15</th>\n",
       "      <th>16</th>\n",
       "      <th>17</th>\n",
       "    </tr>\n",
       "  </thead>\n",
       "  <tbody>\n",
       "    <tr>\n",
       "      <th>0</th>\n",
       "      <td>company</td>\n",
       "      <td>rank</td>\n",
       "      <td>revenues</td>\n",
       "      <td>col1</td>\n",
       "      <td>revenue_change</td>\n",
       "      <td>profits</td>\n",
       "      <td>assets</td>\n",
       "      <td>profit_change</td>\n",
       "      <td>ceo</td>\n",
       "      <td>industry</td>\n",
       "      <td>sector</td>\n",
       "      <td>previous_rank</td>\n",
       "      <td>country</td>\n",
       "      <td>hq_location</td>\n",
       "      <td>website</td>\n",
       "      <td>years_on_global_500_list</td>\n",
       "      <td>employees</td>\n",
       "      <td>total_stockholder_equity</td>\n",
       "    </tr>\n",
       "    <tr>\n",
       "      <th>1</th>\n",
       "      <td>Walmart</td>\n",
       "      <td>1</td>\n",
       "      <td>485873</td>\n",
       "      <td>Yes</td>\n",
       "      <td>0.8</td>\n",
       "      <td>13643</td>\n",
       "      <td>198825</td>\n",
       "      <td>-7.2</td>\n",
       "      <td>C. Douglas McMillon</td>\n",
       "      <td>General Merchandisers</td>\n",
       "      <td>Retailing</td>\n",
       "      <td>1</td>\n",
       "      <td>USA</td>\n",
       "      <td>Bentonville, AR</td>\n",
       "      <td>http://www.walmart.com</td>\n",
       "      <td>23</td>\n",
       "      <td>2300000</td>\n",
       "      <td>77798</td>\n",
       "    </tr>\n",
       "  </tbody>\n",
       "</table>\n",
       "</div>"
      ],
      "text/plain": [
       "        0     1         2     3               4        5       6   \\\n",
       "0  company  rank  revenues  col1  revenue_change  profits  assets   \n",
       "1  Walmart     1    485873   Yes             0.8    13643  198825   \n",
       "\n",
       "              7                    8                      9          10  \\\n",
       "0  profit_change                  ceo               industry     sector   \n",
       "1           -7.2  C. Douglas McMillon  General Merchandisers  Retailing   \n",
       "\n",
       "              11       12               13                      14  \\\n",
       "0  previous_rank  country      hq_location                 website   \n",
       "1              1      USA  Bentonville, AR  http://www.walmart.com   \n",
       "\n",
       "                         15         16                        17  \n",
       "0  years_on_global_500_list  employees  total_stockholder_equity  \n",
       "1                        23    2300000                     77798  "
      ]
     },
     "execution_count": 19,
     "metadata": {},
     "output_type": "execute_result"
    }
   ],
   "source": [
    "# No header name \n",
    "# By default it set 0 to N\n",
    "df = pd.read_csv('../input/sample-data/data.csv', header=None)\n",
    "df.head(2)"
   ]
  },
  {
   "cell_type": "code",
   "execution_count": 20,
   "metadata": {
    "execution": {
     "iopub.execute_input": "2020-09-23T09:02:55.067622Z",
     "iopub.status.busy": "2020-09-23T09:02:55.066332Z",
     "iopub.status.idle": "2020-09-23T09:02:55.097387Z",
     "shell.execute_reply": "2020-09-23T09:02:55.096753Z"
    },
    "papermill": {
     "duration": 0.097988,
     "end_time": "2020-09-23T09:02:55.097525",
     "exception": false,
     "start_time": "2020-09-23T09:02:54.999537",
     "status": "completed"
    },
    "pycharm": {
     "is_executing": true,
     "name": "#%%\n"
    },
    "tags": []
   },
   "outputs": [
    {
     "data": {
      "text/html": [
       "<div>\n",
       "<style scoped>\n",
       "    .dataframe tbody tr th:only-of-type {\n",
       "        vertical-align: middle;\n",
       "    }\n",
       "\n",
       "    .dataframe tbody tr th {\n",
       "        vertical-align: top;\n",
       "    }\n",
       "\n",
       "    .dataframe thead th {\n",
       "        text-align: right;\n",
       "    }\n",
       "</style>\n",
       "<table border=\"1\" class=\"dataframe\">\n",
       "  <thead>\n",
       "    <tr style=\"text-align: right;\">\n",
       "      <th></th>\n",
       "      <th>Col0</th>\n",
       "      <th>Col1</th>\n",
       "      <th>Col2</th>\n",
       "      <th>Col3</th>\n",
       "      <th>Col4</th>\n",
       "      <th>Col5</th>\n",
       "      <th>Col6</th>\n",
       "      <th>Col7</th>\n",
       "      <th>Col8</th>\n",
       "      <th>Col9</th>\n",
       "      <th>Col10</th>\n",
       "      <th>Col11</th>\n",
       "      <th>Col12</th>\n",
       "      <th>Col13</th>\n",
       "      <th>Col14</th>\n",
       "      <th>Col15</th>\n",
       "      <th>Col16</th>\n",
       "      <th>Col17</th>\n",
       "    </tr>\n",
       "  </thead>\n",
       "  <tbody>\n",
       "    <tr>\n",
       "      <th>0</th>\n",
       "      <td>company</td>\n",
       "      <td>rank</td>\n",
       "      <td>revenues</td>\n",
       "      <td>col1</td>\n",
       "      <td>revenue_change</td>\n",
       "      <td>profits</td>\n",
       "      <td>assets</td>\n",
       "      <td>profit_change</td>\n",
       "      <td>ceo</td>\n",
       "      <td>industry</td>\n",
       "      <td>sector</td>\n",
       "      <td>previous_rank</td>\n",
       "      <td>country</td>\n",
       "      <td>hq_location</td>\n",
       "      <td>website</td>\n",
       "      <td>years_on_global_500_list</td>\n",
       "      <td>employees</td>\n",
       "      <td>total_stockholder_equity</td>\n",
       "    </tr>\n",
       "    <tr>\n",
       "      <th>1</th>\n",
       "      <td>Walmart</td>\n",
       "      <td>1</td>\n",
       "      <td>485873</td>\n",
       "      <td>Yes</td>\n",
       "      <td>0.8</td>\n",
       "      <td>13643</td>\n",
       "      <td>198825</td>\n",
       "      <td>-7.2</td>\n",
       "      <td>C. Douglas McMillon</td>\n",
       "      <td>General Merchandisers</td>\n",
       "      <td>Retailing</td>\n",
       "      <td>1</td>\n",
       "      <td>USA</td>\n",
       "      <td>Bentonville, AR</td>\n",
       "      <td>http://www.walmart.com</td>\n",
       "      <td>23</td>\n",
       "      <td>2300000</td>\n",
       "      <td>77798</td>\n",
       "    </tr>\n",
       "  </tbody>\n",
       "</table>\n",
       "</div>"
      ],
      "text/plain": [
       "      Col0  Col1      Col2  Col3            Col4     Col5    Col6  \\\n",
       "0  company  rank  revenues  col1  revenue_change  profits  assets   \n",
       "1  Walmart     1    485873   Yes             0.8    13643  198825   \n",
       "\n",
       "            Col7                 Col8                   Col9      Col10  \\\n",
       "0  profit_change                  ceo               industry     sector   \n",
       "1           -7.2  C. Douglas McMillon  General Merchandisers  Retailing   \n",
       "\n",
       "           Col11    Col12            Col13                   Col14  \\\n",
       "0  previous_rank  country      hq_location                 website   \n",
       "1              1      USA  Bentonville, AR  http://www.walmart.com   \n",
       "\n",
       "                      Col15      Col16                     Col17  \n",
       "0  years_on_global_500_list  employees  total_stockholder_equity  \n",
       "1                        23    2300000                     77798  "
      ]
     },
     "execution_count": 20,
     "metadata": {},
     "output_type": "execute_result"
    }
   ],
   "source": [
    "df = pd.read_csv('../input/sample-data/data.csv', header=None, prefix='Col')\n",
    "df.head(2)"
   ]
  },
  {
   "cell_type": "markdown",
   "metadata": {
    "papermill": {
     "duration": 0.061502,
     "end_time": "2020-09-23T09:02:55.221163",
     "exception": false,
     "start_time": "2020-09-23T09:02:55.159661",
     "status": "completed"
    },
    "tags": []
   },
   "source": [
    "#  8. Marge Duplicated columns\n",
    "Here duplicated columns are revenues1, profits1, sectors1"
   ]
  },
  {
   "cell_type": "code",
   "execution_count": 21,
   "metadata": {
    "execution": {
     "iopub.execute_input": "2020-09-23T09:02:55.351794Z",
     "iopub.status.busy": "2020-09-23T09:02:55.350959Z",
     "iopub.status.idle": "2020-09-23T09:02:55.380753Z",
     "shell.execute_reply": "2020-09-23T09:02:55.380061Z"
    },
    "papermill": {
     "duration": 0.097778,
     "end_time": "2020-09-23T09:02:55.380874",
     "exception": false,
     "start_time": "2020-09-23T09:02:55.283096",
     "status": "completed"
    },
    "pycharm": {
     "is_executing": true,
     "name": "#%%\n"
    },
    "tags": []
   },
   "outputs": [
    {
     "data": {
      "text/html": [
       "<div>\n",
       "<style scoped>\n",
       "    .dataframe tbody tr th:only-of-type {\n",
       "        vertical-align: middle;\n",
       "    }\n",
       "\n",
       "    .dataframe tbody tr th {\n",
       "        vertical-align: top;\n",
       "    }\n",
       "\n",
       "    .dataframe thead th {\n",
       "        text-align: right;\n",
       "    }\n",
       "</style>\n",
       "<table border=\"1\" class=\"dataframe\">\n",
       "  <thead>\n",
       "    <tr style=\"text-align: right;\">\n",
       "      <th></th>\n",
       "      <th>company</th>\n",
       "      <th>rank</th>\n",
       "      <th>revenues</th>\n",
       "      <th>revenues.1</th>\n",
       "      <th>revenue_change</th>\n",
       "      <th>profits</th>\n",
       "      <th>profits.1</th>\n",
       "      <th>assets</th>\n",
       "      <th>profit_change</th>\n",
       "      <th>ceo</th>\n",
       "      <th>industry</th>\n",
       "      <th>sector</th>\n",
       "      <th>sector.1</th>\n",
       "      <th>previous_rank</th>\n",
       "      <th>country</th>\n",
       "      <th>hq_location</th>\n",
       "      <th>website</th>\n",
       "      <th>years_on_global_500_list</th>\n",
       "      <th>employees</th>\n",
       "      <th>total_stockholder_equity</th>\n",
       "    </tr>\n",
       "  </thead>\n",
       "  <tbody>\n",
       "    <tr>\n",
       "      <th>0</th>\n",
       "      <td>Walmart</td>\n",
       "      <td>1</td>\n",
       "      <td>485873</td>\n",
       "      <td>485873</td>\n",
       "      <td>0.8</td>\n",
       "      <td>13643.0</td>\n",
       "      <td>13643.0</td>\n",
       "      <td>198825</td>\n",
       "      <td>-7.2</td>\n",
       "      <td>C. Douglas McMillon</td>\n",
       "      <td>General Merchandisers</td>\n",
       "      <td>Retailing</td>\n",
       "      <td>Retailing</td>\n",
       "      <td>1</td>\n",
       "      <td>USA</td>\n",
       "      <td>Bentonville, AR</td>\n",
       "      <td>http://www.walmart.com</td>\n",
       "      <td>23</td>\n",
       "      <td>2300000</td>\n",
       "      <td>77798</td>\n",
       "    </tr>\n",
       "  </tbody>\n",
       "</table>\n",
       "</div>"
      ],
      "text/plain": [
       "   company  rank  revenues  revenues.1  revenue_change  profits  profits.1  \\\n",
       "0  Walmart     1    485873      485873             0.8  13643.0    13643.0   \n",
       "\n",
       "   assets  profit_change                  ceo               industry  \\\n",
       "0  198825           -7.2  C. Douglas McMillon  General Merchandisers   \n",
       "\n",
       "      sector   sector.1  previous_rank country      hq_location  \\\n",
       "0  Retailing  Retailing              1     USA  Bentonville, AR   \n",
       "\n",
       "                  website  years_on_global_500_list  employees  \\\n",
       "0  http://www.walmart.com                        23    2300000   \n",
       "\n",
       "   total_stockholder_equity  \n",
       "0                     77798  "
      ]
     },
     "execution_count": 21,
     "metadata": {},
     "output_type": "execute_result"
    }
   ],
   "source": [
    "df = pd.read_csv('../input/doublecol/duplicated_columns.csv')\n",
    "df.head(1)"
   ]
  },
  {
   "cell_type": "code",
   "execution_count": 22,
   "metadata": {
    "execution": {
     "iopub.execute_input": "2020-09-23T09:02:55.554690Z",
     "iopub.status.busy": "2020-09-23T09:02:55.553493Z",
     "iopub.status.idle": "2020-09-23T09:02:55.557641Z",
     "shell.execute_reply": "2020-09-23T09:02:55.558546Z"
    },
    "papermill": {
     "duration": 0.106772,
     "end_time": "2020-09-23T09:02:55.558780",
     "exception": false,
     "start_time": "2020-09-23T09:02:55.452008",
     "status": "completed"
    },
    "pycharm": {
     "is_executing": true,
     "name": "#%%\n"
    },
    "tags": []
   },
   "outputs": [
    {
     "name": "stdout",
     "output_type": "stream",
     "text": [
      "Total columns=  20\n"
     ]
    }
   ],
   "source": [
    "print('Total columns= ',df.shape[1])"
   ]
  },
  {
   "cell_type": "code",
   "execution_count": 23,
   "metadata": {
    "execution": {
     "iopub.execute_input": "2020-09-23T09:02:55.747579Z",
     "iopub.status.busy": "2020-09-23T09:02:55.746428Z",
     "iopub.status.idle": "2020-09-23T09:02:55.775042Z",
     "shell.execute_reply": "2020-09-23T09:02:55.774355Z"
    },
    "papermill": {
     "duration": 0.151625,
     "end_time": "2020-09-23T09:02:55.775173",
     "exception": false,
     "start_time": "2020-09-23T09:02:55.623548",
     "status": "completed"
    },
    "pycharm": {
     "is_executing": true,
     "name": "#%%\n"
    },
    "tags": []
   },
   "outputs": [
    {
     "data": {
      "text/html": [
       "<div>\n",
       "<style scoped>\n",
       "    .dataframe tbody tr th:only-of-type {\n",
       "        vertical-align: middle;\n",
       "    }\n",
       "\n",
       "    .dataframe tbody tr th {\n",
       "        vertical-align: top;\n",
       "    }\n",
       "\n",
       "    .dataframe thead th {\n",
       "        text-align: right;\n",
       "    }\n",
       "</style>\n",
       "<table border=\"1\" class=\"dataframe\">\n",
       "  <thead>\n",
       "    <tr style=\"text-align: right;\">\n",
       "      <th></th>\n",
       "      <th>company</th>\n",
       "      <th>rank</th>\n",
       "      <th>revenues</th>\n",
       "      <th>revenues.1</th>\n",
       "      <th>revenue_change</th>\n",
       "      <th>profits</th>\n",
       "      <th>profits.1</th>\n",
       "      <th>assets</th>\n",
       "      <th>profit_change</th>\n",
       "      <th>ceo</th>\n",
       "      <th>industry</th>\n",
       "      <th>sector</th>\n",
       "      <th>sector.1</th>\n",
       "      <th>previous_rank</th>\n",
       "      <th>country</th>\n",
       "      <th>hq_location</th>\n",
       "      <th>website</th>\n",
       "      <th>years_on_global_500_list</th>\n",
       "      <th>employees</th>\n",
       "      <th>total_stockholder_equity</th>\n",
       "    </tr>\n",
       "  </thead>\n",
       "  <tbody>\n",
       "    <tr>\n",
       "      <th>0</th>\n",
       "      <td>Walmart</td>\n",
       "      <td>1</td>\n",
       "      <td>485873</td>\n",
       "      <td>485873</td>\n",
       "      <td>0.8</td>\n",
       "      <td>13643.0</td>\n",
       "      <td>13643.0</td>\n",
       "      <td>198825</td>\n",
       "      <td>-7.2</td>\n",
       "      <td>C. Douglas McMillon</td>\n",
       "      <td>General Merchandisers</td>\n",
       "      <td>Retailing</td>\n",
       "      <td>Retailing</td>\n",
       "      <td>1</td>\n",
       "      <td>USA</td>\n",
       "      <td>Bentonville, AR</td>\n",
       "      <td>http://www.walmart.com</td>\n",
       "      <td>23</td>\n",
       "      <td>2300000</td>\n",
       "      <td>77798</td>\n",
       "    </tr>\n",
       "  </tbody>\n",
       "</table>\n",
       "</div>"
      ],
      "text/plain": [
       "   company  rank  revenues  revenues.1  revenue_change  profits  profits.1  \\\n",
       "0  Walmart     1    485873      485873             0.8  13643.0    13643.0   \n",
       "\n",
       "   assets  profit_change                  ceo               industry  \\\n",
       "0  198825           -7.2  C. Douglas McMillon  General Merchandisers   \n",
       "\n",
       "      sector   sector.1  previous_rank country      hq_location  \\\n",
       "0  Retailing  Retailing              1     USA  Bentonville, AR   \n",
       "\n",
       "                  website  years_on_global_500_list  employees  \\\n",
       "0  http://www.walmart.com                        23    2300000   \n",
       "\n",
       "   total_stockholder_equity  \n",
       "0                     77798  "
      ]
     },
     "execution_count": 23,
     "metadata": {},
     "output_type": "execute_result"
    }
   ],
   "source": [
    "# Make duplicated columns name unique . add 1 at the end of the duplicated colums name\n",
    "df = pd.read_csv('../input/doublecol/duplicated_columns.csv', mangle_dupe_cols=True)\n",
    "df.head(1)"
   ]
  },
  {
   "cell_type": "markdown",
   "metadata": {
    "papermill": {
     "duration": 0.06311,
     "end_time": "2020-09-23T09:02:55.903262",
     "exception": false,
     "start_time": "2020-09-23T09:02:55.840152",
     "status": "completed"
    },
    "tags": []
   },
   "source": [
    "# 9. columns dtype\n",
    "set columns data type single or multiple columns at a time "
   ]
  },
  {
   "cell_type": "code",
   "execution_count": 24,
   "metadata": {
    "execution": {
     "iopub.execute_input": "2020-09-23T09:02:56.036998Z",
     "iopub.status.busy": "2020-09-23T09:02:56.036210Z",
     "iopub.status.idle": "2020-09-23T09:02:56.062890Z",
     "shell.execute_reply": "2020-09-23T09:02:56.062275Z"
    },
    "papermill": {
     "duration": 0.095578,
     "end_time": "2020-09-23T09:02:56.063018",
     "exception": false,
     "start_time": "2020-09-23T09:02:55.967440",
     "status": "completed"
    },
    "pycharm": {
     "is_executing": true,
     "name": "#%%\n"
    },
    "tags": []
   },
   "outputs": [
    {
     "data": {
      "text/html": [
       "<div>\n",
       "<style scoped>\n",
       "    .dataframe tbody tr th:only-of-type {\n",
       "        vertical-align: middle;\n",
       "    }\n",
       "\n",
       "    .dataframe tbody tr th {\n",
       "        vertical-align: top;\n",
       "    }\n",
       "\n",
       "    .dataframe thead th {\n",
       "        text-align: right;\n",
       "    }\n",
       "</style>\n",
       "<table border=\"1\" class=\"dataframe\">\n",
       "  <thead>\n",
       "    <tr style=\"text-align: right;\">\n",
       "      <th></th>\n",
       "      <th>company</th>\n",
       "      <th>rank</th>\n",
       "      <th>revenues</th>\n",
       "      <th>col1</th>\n",
       "      <th>revenue_change</th>\n",
       "      <th>profits</th>\n",
       "      <th>assets</th>\n",
       "      <th>profit_change</th>\n",
       "      <th>ceo</th>\n",
       "      <th>industry</th>\n",
       "      <th>sector</th>\n",
       "      <th>previous_rank</th>\n",
       "      <th>country</th>\n",
       "      <th>hq_location</th>\n",
       "      <th>website</th>\n",
       "      <th>years_on_global_500_list</th>\n",
       "      <th>employees</th>\n",
       "      <th>total_stockholder_equity</th>\n",
       "    </tr>\n",
       "  </thead>\n",
       "  <tbody>\n",
       "    <tr>\n",
       "      <th>0</th>\n",
       "      <td>Walmart</td>\n",
       "      <td>1</td>\n",
       "      <td>485873</td>\n",
       "      <td>Yes</td>\n",
       "      <td>0.8</td>\n",
       "      <td>13643.0</td>\n",
       "      <td>198825</td>\n",
       "      <td>-7.2</td>\n",
       "      <td>C. Douglas McMillon</td>\n",
       "      <td>General Merchandisers</td>\n",
       "      <td>Retailing</td>\n",
       "      <td>1</td>\n",
       "      <td>USA</td>\n",
       "      <td>Bentonville, AR</td>\n",
       "      <td>http://www.walmart.com</td>\n",
       "      <td>23</td>\n",
       "      <td>2300000</td>\n",
       "      <td>77798</td>\n",
       "    </tr>\n",
       "    <tr>\n",
       "      <th>1</th>\n",
       "      <td>State Grid</td>\n",
       "      <td>2</td>\n",
       "      <td>315199</td>\n",
       "      <td>Yes</td>\n",
       "      <td>-4.4</td>\n",
       "      <td>9571.3</td>\n",
       "      <td>489838</td>\n",
       "      <td>-6.2</td>\n",
       "      <td>Kou Wei</td>\n",
       "      <td>Utilities</td>\n",
       "      <td>Energy</td>\n",
       "      <td>2</td>\n",
       "      <td>China</td>\n",
       "      <td>Beijing, China</td>\n",
       "      <td>http://www.sgcc.com.cn</td>\n",
       "      <td>17</td>\n",
       "      <td>926067</td>\n",
       "      <td>209456</td>\n",
       "    </tr>\n",
       "  </tbody>\n",
       "</table>\n",
       "</div>"
      ],
      "text/plain": [
       "      company  rank  revenues           col1  revenue_change  profits  assets  \\\n",
       "0     Walmart     1    485873            Yes             0.8  13643.0  198825   \n",
       "1  State Grid     2    315199            Yes            -4.4   9571.3  489838   \n",
       "\n",
       "   profit_change                  ceo               industry     sector  \\\n",
       "0           -7.2  C. Douglas McMillon  General Merchandisers  Retailing   \n",
       "1           -6.2              Kou Wei              Utilities     Energy   \n",
       "\n",
       "   previous_rank country      hq_location                 website  \\\n",
       "0              1     USA  Bentonville, AR  http://www.walmart.com   \n",
       "1              2   China   Beijing, China  http://www.sgcc.com.cn   \n",
       "\n",
       "   years_on_global_500_list  employees  total_stockholder_equity  \n",
       "0                        23    2300000                     77798  \n",
       "1                        17     926067                    209456  "
      ]
     },
     "execution_count": 24,
     "metadata": {},
     "output_type": "execute_result"
    }
   ],
   "source": [
    "# Read all integer data \n",
    "\n",
    "df = pd.read_csv('../input/sample-data/data.csv')\n",
    "df.head(2)"
   ]
  },
  {
   "cell_type": "code",
   "execution_count": 25,
   "metadata": {
    "execution": {
     "iopub.execute_input": "2020-09-23T09:02:56.210617Z",
     "iopub.status.busy": "2020-09-23T09:02:56.209627Z",
     "iopub.status.idle": "2020-09-23T09:02:56.213669Z",
     "shell.execute_reply": "2020-09-23T09:02:56.214252Z"
    },
    "papermill": {
     "duration": 0.087299,
     "end_time": "2020-09-23T09:02:56.214598",
     "exception": false,
     "start_time": "2020-09-23T09:02:56.127299",
     "status": "completed"
    },
    "pycharm": {
     "is_executing": true,
     "name": "#%%\n"
    },
    "tags": []
   },
   "outputs": [
    {
     "name": "stdout",
     "output_type": "stream",
     "text": [
      "<class 'pandas.core.frame.DataFrame'>\n",
      "RangeIndex: 500 entries, 0 to 499\n",
      "Data columns (total 18 columns):\n",
      " #   Column                    Non-Null Count  Dtype  \n",
      "---  ------                    --------------  -----  \n",
      " 0   company                   500 non-null    object \n",
      " 1   rank                      500 non-null    int64  \n",
      " 2   revenues                  500 non-null    int64  \n",
      " 3   col1                      500 non-null    object \n",
      " 4   revenue_change            498 non-null    float64\n",
      " 5   profits                   499 non-null    float64\n",
      " 6   assets                    500 non-null    int64  \n",
      " 7   profit_change             436 non-null    float64\n",
      " 8   ceo                       500 non-null    object \n",
      " 9   industry                  500 non-null    object \n",
      " 10  sector                    500 non-null    object \n",
      " 11  previous_rank             500 non-null    int64  \n",
      " 12  country                   500 non-null    object \n",
      " 13  hq_location               500 non-null    object \n",
      " 14  website                   500 non-null    object \n",
      " 15  years_on_global_500_list  500 non-null    int64  \n",
      " 16  employees                 500 non-null    int64  \n",
      " 17  total_stockholder_equity  500 non-null    int64  \n",
      "dtypes: float64(3), int64(7), object(8)\n",
      "memory usage: 70.4+ KB\n"
     ]
    }
   ],
   "source": [
    "df.info()"
   ]
  },
  {
   "cell_type": "code",
   "execution_count": 26,
   "metadata": {
    "execution": {
     "iopub.execute_input": "2020-09-23T09:02:56.351894Z",
     "iopub.status.busy": "2020-09-23T09:02:56.351112Z",
     "iopub.status.idle": "2020-09-23T09:02:56.370895Z",
     "shell.execute_reply": "2020-09-23T09:02:56.371461Z"
    },
    "papermill": {
     "duration": 0.091753,
     "end_time": "2020-09-23T09:02:56.371665",
     "exception": false,
     "start_time": "2020-09-23T09:02:56.279912",
     "status": "completed"
    },
    "pycharm": {
     "is_executing": true,
     "name": "#%%\n"
    },
    "tags": []
   },
   "outputs": [
    {
     "name": "stdout",
     "output_type": "stream",
     "text": [
      "<class 'pandas.core.frame.DataFrame'>\n",
      "RangeIndex: 500 entries, 0 to 499\n",
      "Data columns (total 18 columns):\n",
      " #   Column                    Non-Null Count  Dtype  \n",
      "---  ------                    --------------  -----  \n",
      " 0   company                   500 non-null    object \n",
      " 1   rank                      500 non-null    float64\n",
      " 2   revenues                  500 non-null    float64\n",
      " 3   col1                      500 non-null    object \n",
      " 4   revenue_change            498 non-null    float64\n",
      " 5   profits                   499 non-null    float64\n",
      " 6   assets                    500 non-null    int64  \n",
      " 7   profit_change             436 non-null    float64\n",
      " 8   ceo                       500 non-null    object \n",
      " 9   industry                  500 non-null    object \n",
      " 10  sector                    500 non-null    object \n",
      " 11  previous_rank             500 non-null    int64  \n",
      " 12  country                   500 non-null    object \n",
      " 13  hq_location               500 non-null    object \n",
      " 14  website                   500 non-null    object \n",
      " 15  years_on_global_500_list  500 non-null    int64  \n",
      " 16  employees                 500 non-null    int64  \n",
      " 17  total_stockholder_equity  500 non-null    int64  \n",
      "dtypes: float64(5), int64(5), object(8)\n",
      "memory usage: 70.4+ KB\n"
     ]
    }
   ],
   "source": [
    "# Here rank, revenues is int64 lets make it float64\n",
    "df1 = pd.read_csv('../input/sample-data/data.csv', dtype={'revenues':\"float64\", \"rank\":\"float64\"})\n",
    "df1.info()"
   ]
  },
  {
   "cell_type": "markdown",
   "metadata": {
    "papermill": {
     "duration": 0.065551,
     "end_time": "2020-09-23T09:02:56.503184",
     "exception": false,
     "start_time": "2020-09-23T09:02:56.437633",
     "status": "completed"
    },
    "tags": []
   },
   "source": [
    "Rand and revenues data type turn into float64"
   ]
  },
  {
   "cell_type": "markdown",
   "metadata": {
    "papermill": {
     "duration": 0.066947,
     "end_time": "2020-09-23T09:02:56.636961",
     "exception": false,
     "start_time": "2020-09-23T09:02:56.570014",
     "status": "completed"
    },
    "pycharm": {
     "is_executing": true,
     "name": "#%%\n"
    },
    "tags": []
   },
   "source": [
    "# 10. Converters \n",
    "Convert values in certain columns, using a dictionary functions. "
   ]
  },
  {
   "cell_type": "code",
   "execution_count": 27,
   "metadata": {
    "execution": {
     "iopub.execute_input": "2020-09-23T09:02:56.786836Z",
     "iopub.status.busy": "2020-09-23T09:02:56.786024Z",
     "iopub.status.idle": "2020-09-23T09:02:56.800422Z",
     "shell.execute_reply": "2020-09-23T09:02:56.799790Z"
    },
    "papermill": {
     "duration": 0.097166,
     "end_time": "2020-09-23T09:02:56.800700",
     "exception": false,
     "start_time": "2020-09-23T09:02:56.703534",
     "status": "completed"
    },
    "pycharm": {
     "is_executing": true,
     "name": "#%%\n"
    },
    "tags": []
   },
   "outputs": [],
   "source": [
    "# Replace '.' with ',' in a floating point  columns\n",
    "func = lambda x : (x.replace('.', ','))\n",
    "df = pd.read_csv('../input/sample-data/data.csv', converters = {'profits': func})"
   ]
  },
  {
   "cell_type": "code",
   "execution_count": 28,
   "metadata": {
    "execution": {
     "iopub.execute_input": "2020-09-23T09:02:56.946382Z",
     "iopub.status.busy": "2020-09-23T09:02:56.945558Z",
     "iopub.status.idle": "2020-09-23T09:02:56.950425Z",
     "shell.execute_reply": "2020-09-23T09:02:56.949837Z"
    },
    "papermill": {
     "duration": 0.082995,
     "end_time": "2020-09-23T09:02:56.950608",
     "exception": false,
     "start_time": "2020-09-23T09:02:56.867613",
     "status": "completed"
    },
    "pycharm": {
     "is_executing": true,
     "name": "#%%\n"
    },
    "tags": []
   },
   "outputs": [
    {
     "data": {
      "text/plain": [
       "0     13643\n",
       "1    9571,3\n",
       "2    1257,9\n",
       "Name: profits, dtype: object"
      ]
     },
     "execution_count": 28,
     "metadata": {},
     "output_type": "execute_result"
    }
   ],
   "source": [
    "df.profits.head(3)"
   ]
  },
  {
   "cell_type": "markdown",
   "metadata": {
    "papermill": {
     "duration": 0.065934,
     "end_time": "2020-09-23T09:02:57.083142",
     "exception": false,
     "start_time": "2020-09-23T09:02:57.017208",
     "status": "completed"
    },
    "tags": []
   },
   "source": [
    "# 11. true_values , false_values\n",
    "replace Yes, No with True False "
   ]
  },
  {
   "cell_type": "code",
   "execution_count": 29,
   "metadata": {
    "execution": {
     "iopub.execute_input": "2020-09-23T09:02:57.223922Z",
     "iopub.status.busy": "2020-09-23T09:02:57.222892Z",
     "iopub.status.idle": "2020-09-23T09:02:57.234385Z",
     "shell.execute_reply": "2020-09-23T09:02:57.233748Z"
    },
    "papermill": {
     "duration": 0.08474,
     "end_time": "2020-09-23T09:02:57.234565",
     "exception": false,
     "start_time": "2020-09-23T09:02:57.149825",
     "status": "completed"
    },
    "pycharm": {
     "is_executing": true,
     "name": "#%%\n"
    },
    "tags": []
   },
   "outputs": [],
   "source": [
    "df = pd.read_csv('../input/sample-data/data.csv', encoding = 'ISO-8859-1', true_values = ['Yes'], false_values = ['No'])"
   ]
  },
  {
   "cell_type": "code",
   "execution_count": 30,
   "metadata": {
    "execution": {
     "iopub.execute_input": "2020-09-23T09:02:57.384323Z",
     "iopub.status.busy": "2020-09-23T09:02:57.383531Z",
     "iopub.status.idle": "2020-09-23T09:02:57.387098Z",
     "shell.execute_reply": "2020-09-23T09:02:57.387983Z"
    },
    "papermill": {
     "duration": 0.087348,
     "end_time": "2020-09-23T09:02:57.388202",
     "exception": false,
     "start_time": "2020-09-23T09:02:57.300854",
     "status": "completed"
    },
    "pycharm": {
     "is_executing": true,
     "name": "#%%\n"
    },
    "tags": []
   },
   "outputs": [
    {
     "data": {
      "text/plain": [
       "0              Yes\n",
       "1              Yes\n",
       "2               No\n",
       "Name: col1, dtype: object"
      ]
     },
     "execution_count": 30,
     "metadata": {},
     "output_type": "execute_result"
    }
   ],
   "source": [
    "df.col1.head(3)\n",
    "# Yes and No values are changes with in True and False in Col1 columns"
   ]
  },
  {
   "cell_type": "markdown",
   "metadata": {
    "papermill": {
     "duration": 0.067097,
     "end_time": "2020-09-23T09:02:57.527284",
     "exception": false,
     "start_time": "2020-09-23T09:02:57.460187",
     "status": "completed"
    },
    "tags": []
   },
   "source": [
    "# 12. skiprows\n",
    "It will allow how many rows you want to skip from starts"
   ]
  },
  {
   "cell_type": "code",
   "execution_count": 31,
   "metadata": {
    "execution": {
     "iopub.execute_input": "2020-09-23T09:02:57.668051Z",
     "iopub.status.busy": "2020-09-23T09:02:57.667272Z",
     "iopub.status.idle": "2020-09-23T09:02:57.696549Z",
     "shell.execute_reply": "2020-09-23T09:02:57.695841Z"
    },
    "papermill": {
     "duration": 0.101984,
     "end_time": "2020-09-23T09:02:57.696685",
     "exception": false,
     "start_time": "2020-09-23T09:02:57.594701",
     "status": "completed"
    },
    "pycharm": {
     "is_executing": true,
     "name": "#%%\n"
    },
    "tags": []
   },
   "outputs": [
    {
     "data": {
      "text/html": [
       "<div>\n",
       "<style scoped>\n",
       "    .dataframe tbody tr th:only-of-type {\n",
       "        vertical-align: middle;\n",
       "    }\n",
       "\n",
       "    .dataframe tbody tr th {\n",
       "        vertical-align: top;\n",
       "    }\n",
       "\n",
       "    .dataframe thead th {\n",
       "        text-align: right;\n",
       "    }\n",
       "</style>\n",
       "<table border=\"1\" class=\"dataframe\">\n",
       "  <thead>\n",
       "    <tr style=\"text-align: right;\">\n",
       "      <th></th>\n",
       "      <th>State Grid</th>\n",
       "      <th>2</th>\n",
       "      <th>315199</th>\n",
       "      <th>Yes</th>\n",
       "      <th>-4.4</th>\n",
       "      <th>9571.3</th>\n",
       "      <th>489838</th>\n",
       "      <th>-6.2</th>\n",
       "      <th>Kou Wei</th>\n",
       "      <th>Utilities</th>\n",
       "      <th>Energy</th>\n",
       "      <th>2.1</th>\n",
       "      <th>China</th>\n",
       "      <th>Beijing, China</th>\n",
       "      <th>http://www.sgcc.com.cn</th>\n",
       "      <th>17</th>\n",
       "      <th>926067</th>\n",
       "      <th>209456</th>\n",
       "    </tr>\n",
       "  </thead>\n",
       "  <tbody>\n",
       "    <tr>\n",
       "      <th>0</th>\n",
       "      <td>Sinopec Group</td>\n",
       "      <td>3</td>\n",
       "      <td>267518</td>\n",
       "      <td>No</td>\n",
       "      <td>-9.1</td>\n",
       "      <td>1257.9</td>\n",
       "      <td>310726</td>\n",
       "      <td>-65.0</td>\n",
       "      <td>Wang Yupu</td>\n",
       "      <td>Petroleum Refining</td>\n",
       "      <td>Energy</td>\n",
       "      <td>4</td>\n",
       "      <td>China</td>\n",
       "      <td>Beijing, China</td>\n",
       "      <td>http://www.sinopec.com</td>\n",
       "      <td>19</td>\n",
       "      <td>713288</td>\n",
       "      <td>106523</td>\n",
       "    </tr>\n",
       "    <tr>\n",
       "      <th>1</th>\n",
       "      <td>China National Petroleum</td>\n",
       "      <td>4</td>\n",
       "      <td>262573</td>\n",
       "      <td>Yes</td>\n",
       "      <td>-12.3</td>\n",
       "      <td>1867.5</td>\n",
       "      <td>585619</td>\n",
       "      <td>-73.7</td>\n",
       "      <td>Zhang Jianhua</td>\n",
       "      <td>Petroleum Refining</td>\n",
       "      <td>Energy</td>\n",
       "      <td>3</td>\n",
       "      <td>China</td>\n",
       "      <td>Beijing, China</td>\n",
       "      <td>http://www.cnpc.com.cn</td>\n",
       "      <td>17</td>\n",
       "      <td>1512048</td>\n",
       "      <td>301893</td>\n",
       "    </tr>\n",
       "    <tr>\n",
       "      <th>2</th>\n",
       "      <td>Toyota Motor</td>\n",
       "      <td>5</td>\n",
       "      <td>254694</td>\n",
       "      <td>Yes</td>\n",
       "      <td>7.7</td>\n",
       "      <td>16899.3</td>\n",
       "      <td>437575</td>\n",
       "      <td>-12.3</td>\n",
       "      <td>Akio Toyoda</td>\n",
       "      <td>Motor Vehicles and Parts</td>\n",
       "      <td>Motor Vehicles &amp; Parts</td>\n",
       "      <td>8</td>\n",
       "      <td>Japan</td>\n",
       "      <td>Toyota, Japan</td>\n",
       "      <td>http://www.toyota-global.com</td>\n",
       "      <td>23</td>\n",
       "      <td>364445</td>\n",
       "      <td>157210</td>\n",
       "    </tr>\n",
       "    <tr>\n",
       "      <th>3</th>\n",
       "      <td>Volkswagen</td>\n",
       "      <td>6</td>\n",
       "      <td>240264</td>\n",
       "      <td>No</td>\n",
       "      <td>1.5</td>\n",
       "      <td>5937.3</td>\n",
       "      <td>432116</td>\n",
       "      <td>NaN</td>\n",
       "      <td>Matthias Muller</td>\n",
       "      <td>Motor Vehicles and Parts</td>\n",
       "      <td>Motor Vehicles &amp; Parts</td>\n",
       "      <td>7</td>\n",
       "      <td>Germany</td>\n",
       "      <td>Wolfsburg, Germany</td>\n",
       "      <td>http://www.volkswagen.com</td>\n",
       "      <td>23</td>\n",
       "      <td>626715</td>\n",
       "      <td>97753</td>\n",
       "    </tr>\n",
       "    <tr>\n",
       "      <th>4</th>\n",
       "      <td>Royal Dutch Shell</td>\n",
       "      <td>7</td>\n",
       "      <td>240033</td>\n",
       "      <td>Yes</td>\n",
       "      <td>-11.8</td>\n",
       "      <td>4575.0</td>\n",
       "      <td>411275</td>\n",
       "      <td>135.9</td>\n",
       "      <td>Ben van Beurden</td>\n",
       "      <td>Petroleum Refining</td>\n",
       "      <td>Energy</td>\n",
       "      <td>5</td>\n",
       "      <td>Netherlands</td>\n",
       "      <td>The Hague, Netherlands</td>\n",
       "      <td>http://www.shell.com</td>\n",
       "      <td>23</td>\n",
       "      <td>89000</td>\n",
       "      <td>186646</td>\n",
       "    </tr>\n",
       "  </tbody>\n",
       "</table>\n",
       "</div>"
      ],
      "text/plain": [
       "                 State Grid  2  315199               Yes  -4.4   9571.3  \\\n",
       "0             Sinopec Group  3  267518                No  -9.1   1257.9   \n",
       "1  China National Petroleum  4  262573               Yes -12.3   1867.5   \n",
       "2              Toyota Motor  5  254694               Yes   7.7  16899.3   \n",
       "3                Volkswagen  6  240264                No   1.5   5937.3   \n",
       "4         Royal Dutch Shell  7  240033               Yes -11.8   4575.0   \n",
       "\n",
       "   489838   -6.2          Kou Wei                 Utilities  \\\n",
       "0  310726  -65.0        Wang Yupu        Petroleum Refining   \n",
       "1  585619  -73.7    Zhang Jianhua        Petroleum Refining   \n",
       "2  437575  -12.3      Akio Toyoda  Motor Vehicles and Parts   \n",
       "3  432116    NaN  Matthias Muller  Motor Vehicles and Parts   \n",
       "4  411275  135.9  Ben van Beurden        Petroleum Refining   \n",
       "\n",
       "                   Energy  2.1        China          Beijing, China  \\\n",
       "0                  Energy    4        China          Beijing, China   \n",
       "1                  Energy    3        China          Beijing, China   \n",
       "2  Motor Vehicles & Parts    8        Japan           Toyota, Japan   \n",
       "3  Motor Vehicles & Parts    7      Germany      Wolfsburg, Germany   \n",
       "4                  Energy    5  Netherlands  The Hague, Netherlands   \n",
       "\n",
       "         http://www.sgcc.com.cn  17   926067  209456  \n",
       "0        http://www.sinopec.com  19   713288  106523  \n",
       "1        http://www.cnpc.com.cn  17  1512048  301893  \n",
       "2  http://www.toyota-global.com  23   364445  157210  \n",
       "3     http://www.volkswagen.com  23   626715   97753  \n",
       "4          http://www.shell.com  23    89000  186646  "
      ]
     },
     "execution_count": 31,
     "metadata": {},
     "output_type": "execute_result"
    }
   ],
   "source": [
    "# lets skip 2nd rows( where company = 'State Grid')\n",
    "df = pd.read_csv('../input/sample-data/data.csv', skiprows=2)\n",
    "df.head()\n",
    "\n",
    "# It removes all above 2 rows"
   ]
  },
  {
   "cell_type": "code",
   "execution_count": 32,
   "metadata": {
    "execution": {
     "iopub.execute_input": "2020-09-23T09:02:57.840415Z",
     "iopub.status.busy": "2020-09-23T09:02:57.839658Z",
     "iopub.status.idle": "2020-09-23T09:02:57.851535Z",
     "shell.execute_reply": "2020-09-23T09:02:57.850939Z"
    },
    "papermill": {
     "duration": 0.086618,
     "end_time": "2020-09-23T09:02:57.851662",
     "exception": false,
     "start_time": "2020-09-23T09:02:57.765044",
     "status": "completed"
    },
    "pycharm": {
     "is_executing": true,
     "name": "#%%\n"
    },
    "tags": []
   },
   "outputs": [
    {
     "data": {
      "text/plain": [
       "(497, 18)"
      ]
     },
     "execution_count": 32,
     "metadata": {},
     "output_type": "execute_result"
    }
   ],
   "source": [
    "# skip selected rows \n",
    "df = pd.read_csv('../input/sample-data/data.csv', skiprows=[3,4,5])\n",
    "df.shape\n",
    "# Three rows are removed from 500 roews"
   ]
  },
  {
   "cell_type": "markdown",
   "metadata": {
    "papermill": {
     "duration": 0.069378,
     "end_time": "2020-09-23T09:02:57.989552",
     "exception": false,
     "start_time": "2020-09-23T09:02:57.920174",
     "status": "completed"
    },
    "pycharm": {
     "is_executing": true
    },
    "tags": []
   },
   "source": [
    "# 13. skipfooter\n",
    "removes numbers of rows from bottom of the file."
   ]
  },
  {
   "cell_type": "code",
   "execution_count": 33,
   "metadata": {
    "execution": {
     "iopub.execute_input": "2020-09-23T09:02:58.133021Z",
     "iopub.status.busy": "2020-09-23T09:02:58.132153Z",
     "iopub.status.idle": "2020-09-23T09:02:58.506117Z",
     "shell.execute_reply": "2020-09-23T09:02:58.505312Z"
    },
    "papermill": {
     "duration": 0.447997,
     "end_time": "2020-09-23T09:02:58.506245",
     "exception": false,
     "start_time": "2020-09-23T09:02:58.058248",
     "status": "completed"
    },
    "pycharm": {
     "is_executing": true
    },
    "tags": []
   },
   "outputs": [
    {
     "data": {
      "text/plain": [
       "(498, 18)"
      ]
     },
     "execution_count": 33,
     "metadata": {},
     "output_type": "execute_result"
    }
   ],
   "source": [
    "df = pd.read_csv('../input/sample-data/data.csv', skipfooter=2, engine='python')\n",
    "df.shape"
   ]
  },
  {
   "cell_type": "markdown",
   "metadata": {
    "papermill": {
     "duration": 0.069475,
     "end_time": "2020-09-23T09:02:58.648053",
     "exception": false,
     "start_time": "2020-09-23T09:02:58.578578",
     "status": "completed"
    },
    "tags": []
   },
   "source": [
    "# 14. nrows\n",
    "Read limited numbers of rows from a files. "
   ]
  },
  {
   "cell_type": "code",
   "execution_count": 34,
   "metadata": {
    "execution": {
     "iopub.execute_input": "2020-09-23T09:02:58.797377Z",
     "iopub.status.busy": "2020-09-23T09:02:58.796302Z",
     "iopub.status.idle": "2020-09-23T09:02:58.807211Z",
     "shell.execute_reply": "2020-09-23T09:02:58.806425Z"
    },
    "papermill": {
     "duration": 0.086161,
     "end_time": "2020-09-23T09:02:58.807336",
     "exception": false,
     "start_time": "2020-09-23T09:02:58.721175",
     "status": "completed"
    },
    "pycharm": {
     "is_executing": true
    },
    "tags": []
   },
   "outputs": [
    {
     "data": {
      "text/plain": [
       "(10, 18)"
      ]
     },
     "execution_count": 34,
     "metadata": {},
     "output_type": "execute_result"
    }
   ],
   "source": [
    "# read only first 10 rows\n",
    "df = pd.read_csv('../input/sample-data/data.csv', nrows=10)\n",
    "df.shape"
   ]
  },
  {
   "cell_type": "code",
   "execution_count": 35,
   "metadata": {
    "execution": {
     "iopub.execute_input": "2020-09-23T09:02:58.954547Z",
     "iopub.status.busy": "2020-09-23T09:02:58.953788Z",
     "iopub.status.idle": "2020-09-23T09:02:58.964776Z",
     "shell.execute_reply": "2020-09-23T09:02:58.964091Z"
    },
    "papermill": {
     "duration": 0.085947,
     "end_time": "2020-09-23T09:02:58.964908",
     "exception": false,
     "start_time": "2020-09-23T09:02:58.878961",
     "status": "completed"
    },
    "pycharm": {
     "is_executing": true
    },
    "tags": []
   },
   "outputs": [],
   "source": [
    "df = pd.read_csv('../input/sample-data/data.csv')"
   ]
  },
  {
   "cell_type": "markdown",
   "metadata": {
    "papermill": {
     "duration": 0.069502,
     "end_time": "2020-09-23T09:02:59.105132",
     "exception": false,
     "start_time": "2020-09-23T09:02:59.035630",
     "status": "completed"
    },
    "tags": []
   },
   "source": [
    "# 15.  default NaN values\n",
    "All these strings are considered as default NaN values by pandas read_csv function – ”, ‘#N/A’, ‘#N/A N/A’, ‘#NA’, ‘-1.#IND’, ‘-1.#QNAN’, ‘-NaN’, ‘-nan’, ‘1.#IND’, ‘1.#QNAN’, ‘N/A’, ‘NA’, ‘NULL’, ‘NaN’, ‘n/a’, ‘nan’, ‘null’."
   ]
  },
  {
   "cell_type": "code",
   "execution_count": 36,
   "metadata": {
    "execution": {
     "iopub.execute_input": "2020-09-23T09:02:59.252563Z",
     "iopub.status.busy": "2020-09-23T09:02:59.251764Z",
     "iopub.status.idle": "2020-09-23T09:02:59.283155Z",
     "shell.execute_reply": "2020-09-23T09:02:59.282476Z"
    },
    "papermill": {
     "duration": 0.107547,
     "end_time": "2020-09-23T09:02:59.283281",
     "exception": false,
     "start_time": "2020-09-23T09:02:59.175734",
     "status": "completed"
    },
    "pycharm": {
     "is_executing": true
    },
    "tags": []
   },
   "outputs": [
    {
     "data": {
      "text/html": [
       "<div>\n",
       "<style scoped>\n",
       "    .dataframe tbody tr th:only-of-type {\n",
       "        vertical-align: middle;\n",
       "    }\n",
       "\n",
       "    .dataframe tbody tr th {\n",
       "        vertical-align: top;\n",
       "    }\n",
       "\n",
       "    .dataframe thead th {\n",
       "        text-align: right;\n",
       "    }\n",
       "</style>\n",
       "<table border=\"1\" class=\"dataframe\">\n",
       "  <thead>\n",
       "    <tr style=\"text-align: right;\">\n",
       "      <th></th>\n",
       "      <th>company</th>\n",
       "      <th>rank</th>\n",
       "      <th>revenues</th>\n",
       "      <th>col1</th>\n",
       "      <th>col2</th>\n",
       "      <th>revenue_change</th>\n",
       "      <th>profits</th>\n",
       "      <th>assets</th>\n",
       "      <th>profit_change</th>\n",
       "      <th>ceo</th>\n",
       "      <th>industry</th>\n",
       "      <th>sector</th>\n",
       "      <th>previous_rank</th>\n",
       "      <th>country</th>\n",
       "      <th>hq_location</th>\n",
       "      <th>website</th>\n",
       "      <th>years_on_global_500_list</th>\n",
       "      <th>employees</th>\n",
       "      <th>total_stockholder_equity</th>\n",
       "    </tr>\n",
       "  </thead>\n",
       "  <tbody>\n",
       "    <tr>\n",
       "      <th>0</th>\n",
       "      <td>Walmart</td>\n",
       "      <td>1</td>\n",
       "      <td>485873</td>\n",
       "      <td>NaN</td>\n",
       "      <td>NaN</td>\n",
       "      <td>0.8</td>\n",
       "      <td>13643.0</td>\n",
       "      <td>198825</td>\n",
       "      <td>-7.2</td>\n",
       "      <td>C. Douglas McMillon</td>\n",
       "      <td>General Merchandisers</td>\n",
       "      <td>Retailing</td>\n",
       "      <td>1</td>\n",
       "      <td>USA</td>\n",
       "      <td>Bentonville, AR</td>\n",
       "      <td>http://www.walmart.com</td>\n",
       "      <td>23</td>\n",
       "      <td>2300000</td>\n",
       "      <td>77798</td>\n",
       "    </tr>\n",
       "    <tr>\n",
       "      <th>1</th>\n",
       "      <td>State Grid</td>\n",
       "      <td>2</td>\n",
       "      <td>315199</td>\n",
       "      <td>NaN</td>\n",
       "      <td>NaN</td>\n",
       "      <td>-4.4</td>\n",
       "      <td>9571.3</td>\n",
       "      <td>489838</td>\n",
       "      <td>-6.2</td>\n",
       "      <td>Kou Wei</td>\n",
       "      <td>Utilities</td>\n",
       "      <td>Energy</td>\n",
       "      <td>2</td>\n",
       "      <td>China</td>\n",
       "      <td>Beijing, China</td>\n",
       "      <td>http://www.sgcc.com.cn</td>\n",
       "      <td>17</td>\n",
       "      <td>926067</td>\n",
       "      <td>209456</td>\n",
       "    </tr>\n",
       "    <tr>\n",
       "      <th>2</th>\n",
       "      <td>Sinopec Group</td>\n",
       "      <td>3</td>\n",
       "      <td>267518</td>\n",
       "      <td>NaN</td>\n",
       "      <td>NaN</td>\n",
       "      <td>-9.1</td>\n",
       "      <td>1257.9</td>\n",
       "      <td>310726</td>\n",
       "      <td>-65.0</td>\n",
       "      <td>Wang Yupu</td>\n",
       "      <td>Petroleum Refining</td>\n",
       "      <td>Energy</td>\n",
       "      <td>4</td>\n",
       "      <td>China</td>\n",
       "      <td>Beijing, China</td>\n",
       "      <td>http://www.sinopec.com</td>\n",
       "      <td>19</td>\n",
       "      <td>713288</td>\n",
       "      <td>106523</td>\n",
       "    </tr>\n",
       "  </tbody>\n",
       "</table>\n",
       "</div>"
      ],
      "text/plain": [
       "         company  rank  revenues  col1  col2  revenue_change  profits  assets  \\\n",
       "0        Walmart     1    485873   NaN   NaN             0.8  13643.0  198825   \n",
       "1     State Grid     2    315199   NaN   NaN            -4.4   9571.3  489838   \n",
       "2  Sinopec Group     3    267518   NaN   NaN            -9.1   1257.9  310726   \n",
       "\n",
       "   profit_change                  ceo               industry     sector  \\\n",
       "0           -7.2  C. Douglas McMillon  General Merchandisers  Retailing   \n",
       "1           -6.2              Kou Wei              Utilities     Energy   \n",
       "2          -65.0            Wang Yupu     Petroleum Refining     Energy   \n",
       "\n",
       "   previous_rank country      hq_location                 website  \\\n",
       "0              1     USA  Bentonville, AR  http://www.walmart.com   \n",
       "1              2   China   Beijing, China  http://www.sgcc.com.cn   \n",
       "2              4   China   Beijing, China  http://www.sinopec.com   \n",
       "\n",
       "   years_on_global_500_list  employees  total_stockholder_equity  \n",
       "0                        23    2300000                     77798  \n",
       "1                        17     926067                    209456  \n",
       "2                        19     713288                    106523  "
      ]
     },
     "execution_count": 36,
     "metadata": {},
     "output_type": "execute_result"
    }
   ],
   "source": [
    "df = pd.read_csv('../input/sample-data/new_data.csv')\n",
    "df.head(3)\n",
    "# If you directly onel the file using excel you will find col1 has some blank rows and and both col1, col2 has NaN values"
   ]
  },
  {
   "cell_type": "code",
   "execution_count": 37,
   "metadata": {
    "execution": {
     "iopub.execute_input": "2020-09-23T09:02:59.435419Z",
     "iopub.status.busy": "2020-09-23T09:02:59.434679Z",
     "iopub.status.idle": "2020-09-23T09:02:59.465378Z",
     "shell.execute_reply": "2020-09-23T09:02:59.464674Z"
    },
    "papermill": {
     "duration": 0.111235,
     "end_time": "2020-09-23T09:02:59.465543",
     "exception": false,
     "start_time": "2020-09-23T09:02:59.354308",
     "status": "completed"
    },
    "pycharm": {
     "is_executing": true
    },
    "tags": []
   },
   "outputs": [
    {
     "data": {
      "text/html": [
       "<div>\n",
       "<style scoped>\n",
       "    .dataframe tbody tr th:only-of-type {\n",
       "        vertical-align: middle;\n",
       "    }\n",
       "\n",
       "    .dataframe tbody tr th {\n",
       "        vertical-align: top;\n",
       "    }\n",
       "\n",
       "    .dataframe thead th {\n",
       "        text-align: right;\n",
       "    }\n",
       "</style>\n",
       "<table border=\"1\" class=\"dataframe\">\n",
       "  <thead>\n",
       "    <tr style=\"text-align: right;\">\n",
       "      <th></th>\n",
       "      <th>company</th>\n",
       "      <th>rank</th>\n",
       "      <th>revenues</th>\n",
       "      <th>col1</th>\n",
       "      <th>col2</th>\n",
       "      <th>revenue_change</th>\n",
       "      <th>profits</th>\n",
       "      <th>assets</th>\n",
       "      <th>profit_change</th>\n",
       "      <th>ceo</th>\n",
       "      <th>industry</th>\n",
       "      <th>sector</th>\n",
       "      <th>previous_rank</th>\n",
       "      <th>country</th>\n",
       "      <th>hq_location</th>\n",
       "      <th>website</th>\n",
       "      <th>years_on_global_500_list</th>\n",
       "      <th>employees</th>\n",
       "      <th>total_stockholder_equity</th>\n",
       "    </tr>\n",
       "  </thead>\n",
       "  <tbody>\n",
       "    <tr>\n",
       "      <th>0</th>\n",
       "      <td>Walmart</td>\n",
       "      <td>1</td>\n",
       "      <td>485873</td>\n",
       "      <td>NaN</td>\n",
       "      <td>NaN</td>\n",
       "      <td>0.8</td>\n",
       "      <td>13643.0</td>\n",
       "      <td>198825</td>\n",
       "      <td>-7.2</td>\n",
       "      <td>C. Douglas McMillon</td>\n",
       "      <td>General Merchandisers</td>\n",
       "      <td>Retailing</td>\n",
       "      <td>1</td>\n",
       "      <td>USA</td>\n",
       "      <td>Bentonville, AR</td>\n",
       "      <td>http://www.walmart.com</td>\n",
       "      <td>23</td>\n",
       "      <td>2300000</td>\n",
       "      <td>77798</td>\n",
       "    </tr>\n",
       "    <tr>\n",
       "      <th>1</th>\n",
       "      <td>State Grid</td>\n",
       "      <td>2</td>\n",
       "      <td>315199</td>\n",
       "      <td>NaN</td>\n",
       "      <td>NaN</td>\n",
       "      <td>-4.4</td>\n",
       "      <td>9571.3</td>\n",
       "      <td>489838</td>\n",
       "      <td>-6.2</td>\n",
       "      <td>Kou Wei</td>\n",
       "      <td>Utilities</td>\n",
       "      <td>Energy</td>\n",
       "      <td>2</td>\n",
       "      <td>China</td>\n",
       "      <td>Beijing, China</td>\n",
       "      <td>http://www.sgcc.com.cn</td>\n",
       "      <td>17</td>\n",
       "      <td>926067</td>\n",
       "      <td>209456</td>\n",
       "    </tr>\n",
       "    <tr>\n",
       "      <th>2</th>\n",
       "      <td>Sinopec Group</td>\n",
       "      <td>3</td>\n",
       "      <td>267518</td>\n",
       "      <td>NaN</td>\n",
       "      <td>NaN</td>\n",
       "      <td>-9.1</td>\n",
       "      <td>1257.9</td>\n",
       "      <td>310726</td>\n",
       "      <td>-65.0</td>\n",
       "      <td>Wang Yupu</td>\n",
       "      <td>Petroleum Refining</td>\n",
       "      <td>Energy</td>\n",
       "      <td>4</td>\n",
       "      <td>China</td>\n",
       "      <td>Beijing, China</td>\n",
       "      <td>http://www.sinopec.com</td>\n",
       "      <td>19</td>\n",
       "      <td>713288</td>\n",
       "      <td>106523</td>\n",
       "    </tr>\n",
       "    <tr>\n",
       "      <th>3</th>\n",
       "      <td>China National Petroleum</td>\n",
       "      <td>4</td>\n",
       "      <td>262573</td>\n",
       "      <td>NaN</td>\n",
       "      <td>NaN</td>\n",
       "      <td>-12.3</td>\n",
       "      <td>1867.5</td>\n",
       "      <td>585619</td>\n",
       "      <td>-73.7</td>\n",
       "      <td>Zhang Jianhua</td>\n",
       "      <td>Petroleum Refining</td>\n",
       "      <td>Energy</td>\n",
       "      <td>3</td>\n",
       "      <td>China</td>\n",
       "      <td>Beijing, China</td>\n",
       "      <td>http://www.cnpc.com.cn</td>\n",
       "      <td>17</td>\n",
       "      <td>1512048</td>\n",
       "      <td>301893</td>\n",
       "    </tr>\n",
       "    <tr>\n",
       "      <th>4</th>\n",
       "      <td>Toyota Motor</td>\n",
       "      <td>5</td>\n",
       "      <td>254694</td>\n",
       "      <td>NaN</td>\n",
       "      <td>NaN</td>\n",
       "      <td>7.7</td>\n",
       "      <td>16899.3</td>\n",
       "      <td>437575</td>\n",
       "      <td>-12.3</td>\n",
       "      <td>Akio Toyoda</td>\n",
       "      <td>Motor Vehicles and Parts</td>\n",
       "      <td>Motor Vehicles &amp; Parts</td>\n",
       "      <td>8</td>\n",
       "      <td>Japan</td>\n",
       "      <td>Toyota, Japan</td>\n",
       "      <td>http://www.toyota-global.com</td>\n",
       "      <td>23</td>\n",
       "      <td>364445</td>\n",
       "      <td>157210</td>\n",
       "    </tr>\n",
       "  </tbody>\n",
       "</table>\n",
       "</div>"
      ],
      "text/plain": [
       "                    company  rank  revenues  col1  col2  revenue_change  \\\n",
       "0                   Walmart     1    485873   NaN   NaN             0.8   \n",
       "1                State Grid     2    315199   NaN   NaN            -4.4   \n",
       "2             Sinopec Group     3    267518   NaN   NaN            -9.1   \n",
       "3  China National Petroleum     4    262573   NaN   NaN           -12.3   \n",
       "4              Toyota Motor     5    254694   NaN   NaN             7.7   \n",
       "\n",
       "   profits  assets  profit_change                  ceo  \\\n",
       "0  13643.0  198825           -7.2  C. Douglas McMillon   \n",
       "1   9571.3  489838           -6.2              Kou Wei   \n",
       "2   1257.9  310726          -65.0            Wang Yupu   \n",
       "3   1867.5  585619          -73.7        Zhang Jianhua   \n",
       "4  16899.3  437575          -12.3          Akio Toyoda   \n",
       "\n",
       "                   industry                  sector  previous_rank country  \\\n",
       "0     General Merchandisers               Retailing              1     USA   \n",
       "1                 Utilities                  Energy              2   China   \n",
       "2        Petroleum Refining                  Energy              4   China   \n",
       "3        Petroleum Refining                  Energy              3   China   \n",
       "4  Motor Vehicles and Parts  Motor Vehicles & Parts              8   Japan   \n",
       "\n",
       "       hq_location                       website  years_on_global_500_list  \\\n",
       "0  Bentonville, AR        http://www.walmart.com                        23   \n",
       "1   Beijing, China        http://www.sgcc.com.cn                        17   \n",
       "2   Beijing, China        http://www.sinopec.com                        19   \n",
       "3   Beijing, China        http://www.cnpc.com.cn                        17   \n",
       "4    Toyota, Japan  http://www.toyota-global.com                        23   \n",
       "\n",
       "   employees  total_stockholder_equity  \n",
       "0    2300000                     77798  \n",
       "1     926067                    209456  \n",
       "2     713288                    106523  \n",
       "3    1512048                    301893  \n",
       "4     364445                    157210  "
      ]
     },
     "execution_count": 37,
     "metadata": {},
     "output_type": "execute_result"
    }
   ],
   "source": [
    "# If your data automatically not converted to 'NaN' then you could use this \n",
    "# After encoding the values \n",
    "df = pd.read_csv('../input/sample-data/new_data.csv', encoding = 'ISO=8859-1')\n",
    "df.head()"
   ]
  },
  {
   "cell_type": "markdown",
   "metadata": {
    "papermill": {
     "duration": 0.071062,
     "end_time": "2020-09-23T09:02:59.608668",
     "exception": false,
     "start_time": "2020-09-23T09:02:59.537606",
     "status": "completed"
    },
    "tags": []
   },
   "source": [
    "# 16. keep default null valuese "
   ]
  },
  {
   "cell_type": "code",
   "execution_count": 38,
   "metadata": {
    "execution": {
     "iopub.execute_input": "2020-09-23T09:02:59.761485Z",
     "iopub.status.busy": "2020-09-23T09:02:59.760717Z",
     "iopub.status.idle": "2020-09-23T09:02:59.789417Z",
     "shell.execute_reply": "2020-09-23T09:02:59.788797Z"
    },
    "papermill": {
     "duration": 0.108475,
     "end_time": "2020-09-23T09:02:59.789572",
     "exception": false,
     "start_time": "2020-09-23T09:02:59.681097",
     "status": "completed"
    },
    "tags": []
   },
   "outputs": [
    {
     "data": {
      "text/html": [
       "<div>\n",
       "<style scoped>\n",
       "    .dataframe tbody tr th:only-of-type {\n",
       "        vertical-align: middle;\n",
       "    }\n",
       "\n",
       "    .dataframe tbody tr th {\n",
       "        vertical-align: top;\n",
       "    }\n",
       "\n",
       "    .dataframe thead th {\n",
       "        text-align: right;\n",
       "    }\n",
       "</style>\n",
       "<table border=\"1\" class=\"dataframe\">\n",
       "  <thead>\n",
       "    <tr style=\"text-align: right;\">\n",
       "      <th></th>\n",
       "      <th>company</th>\n",
       "      <th>rank</th>\n",
       "      <th>revenues</th>\n",
       "      <th>col1</th>\n",
       "      <th>col2</th>\n",
       "      <th>revenue_change</th>\n",
       "      <th>profits</th>\n",
       "      <th>assets</th>\n",
       "      <th>profit_change</th>\n",
       "      <th>ceo</th>\n",
       "      <th>industry</th>\n",
       "      <th>sector</th>\n",
       "      <th>previous_rank</th>\n",
       "      <th>country</th>\n",
       "      <th>hq_location</th>\n",
       "      <th>website</th>\n",
       "      <th>years_on_global_500_list</th>\n",
       "      <th>employees</th>\n",
       "      <th>total_stockholder_equity</th>\n",
       "    </tr>\n",
       "  </thead>\n",
       "  <tbody>\n",
       "    <tr>\n",
       "      <th>0</th>\n",
       "      <td>Walmart</td>\n",
       "      <td>1</td>\n",
       "      <td>485873</td>\n",
       "      <td>nan</td>\n",
       "      <td>#N/A</td>\n",
       "      <td>0.8</td>\n",
       "      <td>13643</td>\n",
       "      <td>198825</td>\n",
       "      <td>-7.2</td>\n",
       "      <td>C. Douglas McMillon</td>\n",
       "      <td>General Merchandisers</td>\n",
       "      <td>Retailing</td>\n",
       "      <td>1</td>\n",
       "      <td>USA</td>\n",
       "      <td>Bentonville, AR</td>\n",
       "      <td>http://www.walmart.com</td>\n",
       "      <td>23</td>\n",
       "      <td>2300000</td>\n",
       "      <td>77798</td>\n",
       "    </tr>\n",
       "    <tr>\n",
       "      <th>1</th>\n",
       "      <td>State Grid</td>\n",
       "      <td>2</td>\n",
       "      <td>315199</td>\n",
       "      <td>null</td>\n",
       "      <td>#N/A</td>\n",
       "      <td>-4.4</td>\n",
       "      <td>9571.3</td>\n",
       "      <td>489838</td>\n",
       "      <td>-6.2</td>\n",
       "      <td>Kou Wei</td>\n",
       "      <td>Utilities</td>\n",
       "      <td>Energy</td>\n",
       "      <td>2</td>\n",
       "      <td>China</td>\n",
       "      <td>Beijing, China</td>\n",
       "      <td>http://www.sgcc.com.cn</td>\n",
       "      <td>17</td>\n",
       "      <td>926067</td>\n",
       "      <td>209456</td>\n",
       "    </tr>\n",
       "  </tbody>\n",
       "</table>\n",
       "</div>"
      ],
      "text/plain": [
       "      company  rank  revenues  col1  col2 revenue_change profits  assets  \\\n",
       "0     Walmart     1    485873   nan  #N/A            0.8   13643  198825   \n",
       "1  State Grid     2    315199  null  #N/A           -4.4  9571.3  489838   \n",
       "\n",
       "  profit_change                  ceo               industry     sector  \\\n",
       "0          -7.2  C. Douglas McMillon  General Merchandisers  Retailing   \n",
       "1          -6.2              Kou Wei              Utilities     Energy   \n",
       "\n",
       "   previous_rank country      hq_location                 website  \\\n",
       "0              1     USA  Bentonville, AR  http://www.walmart.com   \n",
       "1              2   China   Beijing, China  http://www.sgcc.com.cn   \n",
       "\n",
       "   years_on_global_500_list  employees  total_stockholder_equity  \n",
       "0                        23    2300000                     77798  \n",
       "1                        17     926067                    209456  "
      ]
     },
     "execution_count": 38,
     "metadata": {},
     "output_type": "execute_result"
    }
   ],
   "source": [
    "# If you like to keep default null valuese \n",
    "df = pd.read_csv('../input/sample-data/new_data.csv', encoding = 'ISO=8859-1', keep_default_na=False)\n",
    "df.head(2)"
   ]
  },
  {
   "cell_type": "markdown",
   "metadata": {
    "papermill": {
     "duration": 0.072178,
     "end_time": "2020-09-23T09:02:59.938839",
     "exception": false,
     "start_time": "2020-09-23T09:02:59.866661",
     "status": "completed"
    },
    "tags": []
   },
   "source": [
    "# 17. Keep null_values \n",
    "If you like to keep or replace any additional string as a null values then you could use this "
   ]
  },
  {
   "cell_type": "code",
   "execution_count": 39,
   "metadata": {
    "execution": {
     "iopub.execute_input": "2020-09-23T09:03:00.092444Z",
     "iopub.status.busy": "2020-09-23T09:03:00.091680Z",
     "iopub.status.idle": "2020-09-23T09:03:00.119046Z",
     "shell.execute_reply": "2020-09-23T09:03:00.118392Z"
    },
    "papermill": {
     "duration": 0.106174,
     "end_time": "2020-09-23T09:03:00.119186",
     "exception": false,
     "start_time": "2020-09-23T09:03:00.013012",
     "status": "completed"
    },
    "tags": []
   },
   "outputs": [
    {
     "data": {
      "text/html": [
       "<div>\n",
       "<style scoped>\n",
       "    .dataframe tbody tr th:only-of-type {\n",
       "        vertical-align: middle;\n",
       "    }\n",
       "\n",
       "    .dataframe tbody tr th {\n",
       "        vertical-align: top;\n",
       "    }\n",
       "\n",
       "    .dataframe thead th {\n",
       "        text-align: right;\n",
       "    }\n",
       "</style>\n",
       "<table border=\"1\" class=\"dataframe\">\n",
       "  <thead>\n",
       "    <tr style=\"text-align: right;\">\n",
       "      <th></th>\n",
       "      <th>company</th>\n",
       "      <th>rank</th>\n",
       "      <th>revenues</th>\n",
       "      <th>col1</th>\n",
       "      <th>col2</th>\n",
       "      <th>revenue_change</th>\n",
       "      <th>profits</th>\n",
       "      <th>assets</th>\n",
       "      <th>profit_change</th>\n",
       "      <th>ceo</th>\n",
       "      <th>industry</th>\n",
       "      <th>sector</th>\n",
       "      <th>previous_rank</th>\n",
       "      <th>country</th>\n",
       "      <th>hq_location</th>\n",
       "      <th>website</th>\n",
       "      <th>years_on_global_500_list</th>\n",
       "      <th>employees</th>\n",
       "      <th>total_stockholder_equity</th>\n",
       "    </tr>\n",
       "  </thead>\n",
       "  <tbody>\n",
       "    <tr>\n",
       "      <th>0</th>\n",
       "      <td>Walmart</td>\n",
       "      <td>1</td>\n",
       "      <td>485873</td>\n",
       "      <td>NaN</td>\n",
       "      <td>NaN</td>\n",
       "      <td>0.8</td>\n",
       "      <td>13643.0</td>\n",
       "      <td>198825</td>\n",
       "      <td>-7.2</td>\n",
       "      <td>C. Douglas McMillon</td>\n",
       "      <td>General Merchandisers</td>\n",
       "      <td>Retailing</td>\n",
       "      <td>1</td>\n",
       "      <td>USA</td>\n",
       "      <td>Bentonville, AR</td>\n",
       "      <td>http://www.walmart.com</td>\n",
       "      <td>23</td>\n",
       "      <td>2300000</td>\n",
       "      <td>77798</td>\n",
       "    </tr>\n",
       "    <tr>\n",
       "      <th>1</th>\n",
       "      <td>State Grid</td>\n",
       "      <td>2</td>\n",
       "      <td>315199</td>\n",
       "      <td>NaN</td>\n",
       "      <td>NaN</td>\n",
       "      <td>-4.4</td>\n",
       "      <td>9571.3</td>\n",
       "      <td>489838</td>\n",
       "      <td>-6.2</td>\n",
       "      <td>Kou Wei</td>\n",
       "      <td>Utilities</td>\n",
       "      <td>Energy</td>\n",
       "      <td>2</td>\n",
       "      <td>China</td>\n",
       "      <td>Beijing, China</td>\n",
       "      <td>http://www.sgcc.com.cn</td>\n",
       "      <td>17</td>\n",
       "      <td>926067</td>\n",
       "      <td>209456</td>\n",
       "    </tr>\n",
       "  </tbody>\n",
       "</table>\n",
       "</div>"
      ],
      "text/plain": [
       "      company  rank  revenues  col1  col2  revenue_change  profits  assets  \\\n",
       "0     Walmart     1    485873   NaN   NaN             0.8  13643.0  198825   \n",
       "1  State Grid     2    315199   NaN   NaN            -4.4   9571.3  489838   \n",
       "\n",
       "   profit_change                  ceo               industry     sector  \\\n",
       "0           -7.2  C. Douglas McMillon  General Merchandisers  Retailing   \n",
       "1           -6.2              Kou Wei              Utilities     Energy   \n",
       "\n",
       "   previous_rank country      hq_location                 website  \\\n",
       "0              1     USA  Bentonville, AR  http://www.walmart.com   \n",
       "1              2   China   Beijing, China  http://www.sgcc.com.cn   \n",
       "\n",
       "   years_on_global_500_list  employees  total_stockholder_equity  \n",
       "0                        23    2300000                     77798  \n",
       "1                        17     926067                    209456  "
      ]
     },
     "execution_count": 39,
     "metadata": {},
     "output_type": "execute_result"
    }
   ],
   "source": [
    "df = pd.read_csv('../input/sample-data/new_data.csv')\n",
    "df.head(2)"
   ]
  },
  {
   "cell_type": "code",
   "execution_count": 40,
   "metadata": {
    "execution": {
     "iopub.execute_input": "2020-09-23T09:03:00.273951Z",
     "iopub.status.busy": "2020-09-23T09:03:00.272812Z",
     "iopub.status.idle": "2020-09-23T09:03:00.300886Z",
     "shell.execute_reply": "2020-09-23T09:03:00.300107Z"
    },
    "papermill": {
     "duration": 0.107658,
     "end_time": "2020-09-23T09:03:00.301008",
     "exception": false,
     "start_time": "2020-09-23T09:03:00.193350",
     "status": "completed"
    },
    "tags": []
   },
   "outputs": [
    {
     "data": {
      "text/html": [
       "<div>\n",
       "<style scoped>\n",
       "    .dataframe tbody tr th:only-of-type {\n",
       "        vertical-align: middle;\n",
       "    }\n",
       "\n",
       "    .dataframe tbody tr th {\n",
       "        vertical-align: top;\n",
       "    }\n",
       "\n",
       "    .dataframe thead th {\n",
       "        text-align: right;\n",
       "    }\n",
       "</style>\n",
       "<table border=\"1\" class=\"dataframe\">\n",
       "  <thead>\n",
       "    <tr style=\"text-align: right;\">\n",
       "      <th></th>\n",
       "      <th>company</th>\n",
       "      <th>rank</th>\n",
       "      <th>revenues</th>\n",
       "      <th>col1</th>\n",
       "      <th>col2</th>\n",
       "      <th>revenue_change</th>\n",
       "      <th>profits</th>\n",
       "      <th>assets</th>\n",
       "      <th>profit_change</th>\n",
       "      <th>ceo</th>\n",
       "      <th>industry</th>\n",
       "      <th>sector</th>\n",
       "      <th>previous_rank</th>\n",
       "      <th>country</th>\n",
       "      <th>hq_location</th>\n",
       "      <th>website</th>\n",
       "      <th>years_on_global_500_list</th>\n",
       "      <th>employees</th>\n",
       "      <th>total_stockholder_equity</th>\n",
       "    </tr>\n",
       "  </thead>\n",
       "  <tbody>\n",
       "    <tr>\n",
       "      <th>0</th>\n",
       "      <td>NaN</td>\n",
       "      <td>1</td>\n",
       "      <td>485873</td>\n",
       "      <td>NaN</td>\n",
       "      <td>NaN</td>\n",
       "      <td>0.8</td>\n",
       "      <td>13643.0</td>\n",
       "      <td>198825</td>\n",
       "      <td>-7.2</td>\n",
       "      <td>C. Douglas McMillon</td>\n",
       "      <td>General Merchandisers</td>\n",
       "      <td>Retailing</td>\n",
       "      <td>1</td>\n",
       "      <td>USA</td>\n",
       "      <td>Bentonville, AR</td>\n",
       "      <td>http://www.walmart.com</td>\n",
       "      <td>23</td>\n",
       "      <td>2300000</td>\n",
       "      <td>77798</td>\n",
       "    </tr>\n",
       "    <tr>\n",
       "      <th>1</th>\n",
       "      <td>State Grid</td>\n",
       "      <td>2</td>\n",
       "      <td>315199</td>\n",
       "      <td>NaN</td>\n",
       "      <td>NaN</td>\n",
       "      <td>-4.4</td>\n",
       "      <td>9571.3</td>\n",
       "      <td>489838</td>\n",
       "      <td>-6.2</td>\n",
       "      <td>Kou Wei</td>\n",
       "      <td>Utilities</td>\n",
       "      <td>Energy</td>\n",
       "      <td>2</td>\n",
       "      <td>China</td>\n",
       "      <td>Beijing, China</td>\n",
       "      <td>http://www.sgcc.com.cn</td>\n",
       "      <td>17</td>\n",
       "      <td>926067</td>\n",
       "      <td>209456</td>\n",
       "    </tr>\n",
       "  </tbody>\n",
       "</table>\n",
       "</div>"
      ],
      "text/plain": [
       "      company  rank  revenues  col1  col2  revenue_change  profits  assets  \\\n",
       "0         NaN     1    485873   NaN   NaN             0.8  13643.0  198825   \n",
       "1  State Grid     2    315199   NaN   NaN            -4.4   9571.3  489838   \n",
       "\n",
       "   profit_change                  ceo               industry     sector  \\\n",
       "0           -7.2  C. Douglas McMillon  General Merchandisers  Retailing   \n",
       "1           -6.2              Kou Wei              Utilities     Energy   \n",
       "\n",
       "   previous_rank country      hq_location                 website  \\\n",
       "0              1     USA  Bentonville, AR  http://www.walmart.com   \n",
       "1              2   China   Beijing, China  http://www.sgcc.com.cn   \n",
       "\n",
       "   years_on_global_500_list  employees  total_stockholder_equity  \n",
       "0                        23    2300000                     77798  \n",
       "1                        17     926067                    209456  "
      ]
     },
     "execution_count": 40,
     "metadata": {},
     "output_type": "execute_result"
    }
   ],
   "source": [
    "# In company columns first rows has \"walmart\". lets make it null values\n",
    "df = pd.read_csv('../input/sample-data/new_data.csv', na_values = ['Walmart'])\n",
    "df.head(2)\n",
    "\n",
    "# Walmart replaced with NaN (Not a Number) Values "
   ]
  },
  {
   "cell_type": "markdown",
   "metadata": {
    "papermill": {
     "duration": 0.07596,
     "end_time": "2020-09-23T09:03:00.451556",
     "exception": false,
     "start_time": "2020-09-23T09:03:00.375596",
     "status": "completed"
    },
    "tags": []
   },
   "source": [
    "If you want to interprate the an string in a specefic columns "
   ]
  },
  {
   "cell_type": "code",
   "execution_count": 41,
   "metadata": {
    "execution": {
     "iopub.execute_input": "2020-09-23T09:03:00.606607Z",
     "iopub.status.busy": "2020-09-23T09:03:00.605811Z",
     "iopub.status.idle": "2020-09-23T09:03:00.619198Z",
     "shell.execute_reply": "2020-09-23T09:03:00.618544Z"
    },
    "papermill": {
     "duration": 0.09362,
     "end_time": "2020-09-23T09:03:00.619320",
     "exception": false,
     "start_time": "2020-09-23T09:03:00.525700",
     "status": "completed"
    },
    "tags": []
   },
   "outputs": [
    {
     "data": {
      "text/plain": [
       "0      USA\n",
       "1      NaN\n",
       "2      NaN\n",
       "3      NaN\n",
       "4    Japan\n",
       "Name: country, dtype: object"
      ]
     },
     "execution_count": 41,
     "metadata": {},
     "output_type": "execute_result"
    }
   ],
   "source": [
    "df = pd.read_csv('../input/sample-data/new_data.csv', na_values = {'country', 'China'})\n",
    "df.country.head()\n",
    "# All china contry are removed to NaN"
   ]
  },
  {
   "cell_type": "markdown",
   "metadata": {
    "papermill": {
     "duration": 0.074121,
     "end_time": "2020-09-23T09:03:00.768202",
     "exception": false,
     "start_time": "2020-09-23T09:03:00.694081",
     "status": "completed"
    },
    "tags": []
   },
   "source": [
    "# 18. verbose\n",
    "Print additional informations \n",
    "\n",
    "It will show flowing informations\n",
    "-----------------------------------\n",
    "Tokenization took: 1.00 ms\n",
    "Type conversion took: 4.02 ms\n",
    "Parser memory cleanup took: 0.00 ms"
   ]
  },
  {
   "cell_type": "code",
   "execution_count": 42,
   "metadata": {
    "execution": {
     "iopub.execute_input": "2020-09-23T09:03:00.926160Z",
     "iopub.status.busy": "2020-09-23T09:03:00.925356Z",
     "iopub.status.idle": "2020-09-23T09:03:00.938561Z",
     "shell.execute_reply": "2020-09-23T09:03:00.939238Z"
    },
    "papermill": {
     "duration": 0.09581,
     "end_time": "2020-09-23T09:03:00.939394",
     "exception": false,
     "start_time": "2020-09-23T09:03:00.843584",
     "status": "completed"
    },
    "tags": []
   },
   "outputs": [
    {
     "name": "stdout",
     "output_type": "stream",
     "text": [
      "Tokenization took: 0.95 ms\n",
      "Type conversion took: 2.66 ms\n",
      "Parser memory cleanup took: 0.01 ms\n"
     ]
    }
   ],
   "source": [
    "df = pd.read_csv('../input/sample-data/new_data.csv', verbose=True)"
   ]
  },
  {
   "cell_type": "code",
   "execution_count": null,
   "metadata": {
    "papermill": {
     "duration": 0.081001,
     "end_time": "2020-09-23T09:03:01.097171",
     "exception": false,
     "start_time": "2020-09-23T09:03:01.016170",
     "status": "completed"
    },
    "tags": []
   },
   "outputs": [],
   "source": []
  }
 ],
 "metadata": {
  "kernelspec": {
   "display_name": "Python 3",
   "language": "python",
   "name": "python3"
  },
  "language_info": {
   "codemirror_mode": {
    "name": "ipython",
    "version": 3
   },
   "file_extension": ".py",
   "mimetype": "text/x-python",
   "name": "python",
   "nbconvert_exporter": "python",
   "pygments_lexer": "ipython3",
   "version": "3.7.6"
  },
  "papermill": {
   "duration": 16.032182,
   "end_time": "2020-09-23T09:03:02.186909",
   "environment_variables": {},
   "exception": null,
   "input_path": "__notebook__.ipynb",
   "output_path": "__notebook__.ipynb",
   "parameters": {},
   "start_time": "2020-09-23T09:02:46.154727",
   "version": "2.1.0"
  }
 },
 "nbformat": 4,
 "nbformat_minor": 4
}
