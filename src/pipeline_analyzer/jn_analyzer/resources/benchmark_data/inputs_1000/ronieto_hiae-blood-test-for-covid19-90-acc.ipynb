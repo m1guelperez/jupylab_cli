{
 "cells": [
  {
   "cell_type": "code",
   "execution_count": 1,
   "metadata": {
    "_cell_guid": "b1076dfc-b9ad-4769-8c92-a6c4dae69d19",
    "_uuid": "8f2839f25d086af736a60e9eeb907d3b93b6e0e5"
   },
   "outputs": [
    {
     "name": "stdout",
     "output_type": "stream",
     "text": [
      "/kaggle/input/covid19/dataset.xlsx\n"
     ]
    }
   ],
   "source": [
    "# This Python 3 environment comes with many helpful analytics libraries installed\n",
    "# It is defined by the kaggle/python docker image: https://github.com/kaggle/docker-python\n",
    "# For example, here's several helpful packages to load in \n",
    "\n",
    "import numpy as np # linear algebra\n",
    "import pandas as pd # data processing, CSV file I/O (e.g. pd.read_csv)\n",
    "\n",
    "# Input data files are available in the \"../input/\" directory.\n",
    "# For example, running this (by clicking run or pressing Shift+Enter) will list all files under the input directory\n",
    "\n",
    "import os\n",
    "for dirname, _, filenames in os.walk('/kaggle/input'):\n",
    "    for filename in filenames:\n",
    "        print(os.path.join(dirname, filename))\n",
    "\n",
    "# Any results you write to the current directory are saved as output."
   ]
  },
  {
   "cell_type": "markdown",
   "metadata": {},
   "source": [
    "# TASK 1\n",
    "# • Predict confirmed COVID-19 cases among suspected cases.\n",
    "## Based on the results of laboratory tests commonly collected for a suspected COVID-19 case during a visit to the emergency room, would it be possible to predict the test result for SARS-Cov-2 (positive/negative)?\n"
   ]
  },
  {
   "cell_type": "markdown",
   "metadata": {},
   "source": [
    "# Objetivo principal: - fazer o mínimo de alerações possíveis no dataset em um modelo de boa performance, simples e facilmente replicável \n",
    " \n"
   ]
  },
  {
   "cell_type": "code",
   "execution_count": 2,
   "metadata": {},
   "outputs": [],
   "source": [
    "import pandas as pd\n",
    "import numpy as np\n",
    "import matplotlib\n",
    "import matplotlib.pyplot as plt\n",
    "import seaborn as sns\n",
    "import warnings\n",
    "import itertools\n",
    "%matplotlib inline"
   ]
  },
  {
   "cell_type": "code",
   "execution_count": 3,
   "metadata": {},
   "outputs": [],
   "source": [
    "df = pd.read_excel('/kaggle/input/covid19/dataset.xlsx', index_col=0)\n"
   ]
  },
  {
   "cell_type": "code",
   "execution_count": 4,
   "metadata": {},
   "outputs": [],
   "source": [
    "warnings='ignore'"
   ]
  },
  {
   "cell_type": "code",
   "execution_count": 5,
   "metadata": {
    "_cell_guid": "79c7e3d0-c299-4dcb-8224-4455121ee9b0",
    "_uuid": "d629ff2d2480ee46fbb7e2d37f6b5fab8052498a"
   },
   "outputs": [],
   "source": [
    "df.reset_index(drop=False, inplace=True)"
   ]
  },
  {
   "cell_type": "code",
   "execution_count": 6,
   "metadata": {},
   "outputs": [
    {
     "data": {
      "text/html": [
       "<div>\n",
       "<style scoped>\n",
       "    .dataframe tbody tr th:only-of-type {\n",
       "        vertical-align: middle;\n",
       "    }\n",
       "\n",
       "    .dataframe tbody tr th {\n",
       "        vertical-align: top;\n",
       "    }\n",
       "\n",
       "    .dataframe thead th {\n",
       "        text-align: right;\n",
       "    }\n",
       "</style>\n",
       "<table border=\"1\" class=\"dataframe\">\n",
       "  <thead>\n",
       "    <tr style=\"text-align: right;\">\n",
       "      <th></th>\n",
       "      <th>Patient ID</th>\n",
       "      <th>Patient age quantile</th>\n",
       "      <th>SARS-Cov-2 exam result</th>\n",
       "      <th>Patient addmited to regular ward (1=yes, 0=no)</th>\n",
       "      <th>Patient addmited to semi-intensive unit (1=yes, 0=no)</th>\n",
       "      <th>Patient addmited to intensive care unit (1=yes, 0=no)</th>\n",
       "      <th>Hematocrit</th>\n",
       "      <th>Hemoglobin</th>\n",
       "      <th>Platelets</th>\n",
       "      <th>Mean platelet volume</th>\n",
       "      <th>...</th>\n",
       "      <th>Hb saturation (arterial blood gases)</th>\n",
       "      <th>pCO2 (arterial blood gas analysis)</th>\n",
       "      <th>Base excess (arterial blood gas analysis)</th>\n",
       "      <th>pH (arterial blood gas analysis)</th>\n",
       "      <th>Total CO2 (arterial blood gas analysis)</th>\n",
       "      <th>HCO3 (arterial blood gas analysis)</th>\n",
       "      <th>pO2 (arterial blood gas analysis)</th>\n",
       "      <th>Arteiral Fio2</th>\n",
       "      <th>Phosphor</th>\n",
       "      <th>ctO2 (arterial blood gas analysis)</th>\n",
       "    </tr>\n",
       "  </thead>\n",
       "  <tbody>\n",
       "    <tr>\n",
       "      <th>5639</th>\n",
       "      <td>ae66feb9e4dc3a0</td>\n",
       "      <td>3</td>\n",
       "      <td>positive</td>\n",
       "      <td>0</td>\n",
       "      <td>0</td>\n",
       "      <td>0</td>\n",
       "      <td>NaN</td>\n",
       "      <td>NaN</td>\n",
       "      <td>NaN</td>\n",
       "      <td>NaN</td>\n",
       "      <td>...</td>\n",
       "      <td>NaN</td>\n",
       "      <td>NaN</td>\n",
       "      <td>NaN</td>\n",
       "      <td>NaN</td>\n",
       "      <td>NaN</td>\n",
       "      <td>NaN</td>\n",
       "      <td>NaN</td>\n",
       "      <td>NaN</td>\n",
       "      <td>NaN</td>\n",
       "      <td>NaN</td>\n",
       "    </tr>\n",
       "    <tr>\n",
       "      <th>5640</th>\n",
       "      <td>517c2834024f3ea</td>\n",
       "      <td>17</td>\n",
       "      <td>negative</td>\n",
       "      <td>0</td>\n",
       "      <td>0</td>\n",
       "      <td>0</td>\n",
       "      <td>NaN</td>\n",
       "      <td>NaN</td>\n",
       "      <td>NaN</td>\n",
       "      <td>NaN</td>\n",
       "      <td>...</td>\n",
       "      <td>NaN</td>\n",
       "      <td>NaN</td>\n",
       "      <td>NaN</td>\n",
       "      <td>NaN</td>\n",
       "      <td>NaN</td>\n",
       "      <td>NaN</td>\n",
       "      <td>NaN</td>\n",
       "      <td>NaN</td>\n",
       "      <td>NaN</td>\n",
       "      <td>NaN</td>\n",
       "    </tr>\n",
       "    <tr>\n",
       "      <th>5641</th>\n",
       "      <td>5c57d6037fe266d</td>\n",
       "      <td>4</td>\n",
       "      <td>negative</td>\n",
       "      <td>0</td>\n",
       "      <td>0</td>\n",
       "      <td>0</td>\n",
       "      <td>NaN</td>\n",
       "      <td>NaN</td>\n",
       "      <td>NaN</td>\n",
       "      <td>NaN</td>\n",
       "      <td>...</td>\n",
       "      <td>NaN</td>\n",
       "      <td>NaN</td>\n",
       "      <td>NaN</td>\n",
       "      <td>NaN</td>\n",
       "      <td>NaN</td>\n",
       "      <td>NaN</td>\n",
       "      <td>NaN</td>\n",
       "      <td>NaN</td>\n",
       "      <td>NaN</td>\n",
       "      <td>NaN</td>\n",
       "    </tr>\n",
       "    <tr>\n",
       "      <th>5642</th>\n",
       "      <td>c20c44766f28291</td>\n",
       "      <td>10</td>\n",
       "      <td>negative</td>\n",
       "      <td>0</td>\n",
       "      <td>0</td>\n",
       "      <td>0</td>\n",
       "      <td>NaN</td>\n",
       "      <td>NaN</td>\n",
       "      <td>NaN</td>\n",
       "      <td>NaN</td>\n",
       "      <td>...</td>\n",
       "      <td>NaN</td>\n",
       "      <td>NaN</td>\n",
       "      <td>NaN</td>\n",
       "      <td>NaN</td>\n",
       "      <td>NaN</td>\n",
       "      <td>NaN</td>\n",
       "      <td>NaN</td>\n",
       "      <td>NaN</td>\n",
       "      <td>NaN</td>\n",
       "      <td>NaN</td>\n",
       "    </tr>\n",
       "    <tr>\n",
       "      <th>5643</th>\n",
       "      <td>2697fdccbfeb7f7</td>\n",
       "      <td>19</td>\n",
       "      <td>positive</td>\n",
       "      <td>0</td>\n",
       "      <td>0</td>\n",
       "      <td>0</td>\n",
       "      <td>0.694287</td>\n",
       "      <td>0.541564</td>\n",
       "      <td>-0.906829</td>\n",
       "      <td>-0.325903</td>\n",
       "      <td>...</td>\n",
       "      <td>NaN</td>\n",
       "      <td>NaN</td>\n",
       "      <td>NaN</td>\n",
       "      <td>NaN</td>\n",
       "      <td>NaN</td>\n",
       "      <td>NaN</td>\n",
       "      <td>NaN</td>\n",
       "      <td>NaN</td>\n",
       "      <td>NaN</td>\n",
       "      <td>NaN</td>\n",
       "    </tr>\n",
       "  </tbody>\n",
       "</table>\n",
       "<p>5 rows × 111 columns</p>\n",
       "</div>"
      ],
      "text/plain": [
       "           Patient ID  Patient age quantile SARS-Cov-2 exam result  \\\n",
       "5639  ae66feb9e4dc3a0                     3               positive   \n",
       "5640  517c2834024f3ea                    17               negative   \n",
       "5641  5c57d6037fe266d                     4               negative   \n",
       "5642  c20c44766f28291                    10               negative   \n",
       "5643  2697fdccbfeb7f7                    19               positive   \n",
       "\n",
       "      Patient addmited to regular ward (1=yes, 0=no)  \\\n",
       "5639                                               0   \n",
       "5640                                               0   \n",
       "5641                                               0   \n",
       "5642                                               0   \n",
       "5643                                               0   \n",
       "\n",
       "      Patient addmited to semi-intensive unit (1=yes, 0=no)  \\\n",
       "5639                                                  0       \n",
       "5640                                                  0       \n",
       "5641                                                  0       \n",
       "5642                                                  0       \n",
       "5643                                                  0       \n",
       "\n",
       "      Patient addmited to intensive care unit (1=yes, 0=no)  Hematocrit  \\\n",
       "5639                                                  0             NaN   \n",
       "5640                                                  0             NaN   \n",
       "5641                                                  0             NaN   \n",
       "5642                                                  0             NaN   \n",
       "5643                                                  0        0.694287   \n",
       "\n",
       "      Hemoglobin  Platelets  Mean platelet volume   ...  \\\n",
       "5639         NaN        NaN                    NaN  ...   \n",
       "5640         NaN        NaN                    NaN  ...   \n",
       "5641         NaN        NaN                    NaN  ...   \n",
       "5642         NaN        NaN                    NaN  ...   \n",
       "5643    0.541564  -0.906829              -0.325903  ...   \n",
       "\n",
       "      Hb saturation (arterial blood gases)  \\\n",
       "5639                                   NaN   \n",
       "5640                                   NaN   \n",
       "5641                                   NaN   \n",
       "5642                                   NaN   \n",
       "5643                                   NaN   \n",
       "\n",
       "      pCO2 (arterial blood gas analysis)  \\\n",
       "5639                                 NaN   \n",
       "5640                                 NaN   \n",
       "5641                                 NaN   \n",
       "5642                                 NaN   \n",
       "5643                                 NaN   \n",
       "\n",
       "      Base excess (arterial blood gas analysis)  \\\n",
       "5639                                        NaN   \n",
       "5640                                        NaN   \n",
       "5641                                        NaN   \n",
       "5642                                        NaN   \n",
       "5643                                        NaN   \n",
       "\n",
       "      pH (arterial blood gas analysis)  \\\n",
       "5639                               NaN   \n",
       "5640                               NaN   \n",
       "5641                               NaN   \n",
       "5642                               NaN   \n",
       "5643                               NaN   \n",
       "\n",
       "      Total CO2 (arterial blood gas analysis)  \\\n",
       "5639                                      NaN   \n",
       "5640                                      NaN   \n",
       "5641                                      NaN   \n",
       "5642                                      NaN   \n",
       "5643                                      NaN   \n",
       "\n",
       "      HCO3 (arterial blood gas analysis)  pO2 (arterial blood gas analysis)  \\\n",
       "5639                                 NaN                                NaN   \n",
       "5640                                 NaN                                NaN   \n",
       "5641                                 NaN                                NaN   \n",
       "5642                                 NaN                                NaN   \n",
       "5643                                 NaN                                NaN   \n",
       "\n",
       "      Arteiral Fio2  Phosphor  ctO2 (arterial blood gas analysis)  \n",
       "5639            NaN       NaN                                 NaN  \n",
       "5640            NaN       NaN                                 NaN  \n",
       "5641            NaN       NaN                                 NaN  \n",
       "5642            NaN       NaN                                 NaN  \n",
       "5643            NaN       NaN                                 NaN  \n",
       "\n",
       "[5 rows x 111 columns]"
      ]
     },
     "execution_count": 6,
     "metadata": {},
     "output_type": "execute_result"
    }
   ],
   "source": [
    "df.tail()"
   ]
  },
  {
   "cell_type": "markdown",
   "metadata": {},
   "source": [
    "### Dataset capturado, iniciando EDA"
   ]
  },
  {
   "cell_type": "code",
   "execution_count": 7,
   "metadata": {},
   "outputs": [
    {
     "data": {
      "text/plain": [
       "Patient ID                                                  0\n",
       "Patient age quantile                                        0\n",
       "SARS-Cov-2 exam result                                      0\n",
       "Patient addmited to regular ward (1=yes, 0=no)              0\n",
       "Patient addmited to semi-intensive unit (1=yes, 0=no)       0\n",
       "                                                         ... \n",
       "HCO3 (arterial blood gas analysis)                       5617\n",
       "pO2 (arterial blood gas analysis)                        5617\n",
       "Arteiral Fio2                                            5624\n",
       "Phosphor                                                 5624\n",
       "ctO2 (arterial blood gas analysis)                       5617\n",
       "Length: 111, dtype: int64"
      ]
     },
     "execution_count": 7,
     "metadata": {},
     "output_type": "execute_result"
    }
   ],
   "source": [
    "df.isnull().sum()"
   ]
  },
  {
   "cell_type": "code",
   "execution_count": 8,
   "metadata": {},
   "outputs": [
    {
     "data": {
      "text/plain": [
       "<matplotlib.axes._subplots.AxesSubplot at 0x7f258a841198>"
      ]
     },
     "execution_count": 8,
     "metadata": {},
     "output_type": "execute_result"
    },
    {
     "data": {
      "image/png": "[encoded data removed]",
      "text/plain": [
       "<Figure size 1008x648 with 1 Axes>"
      ]
     },
     "metadata": {
      "needs_background": "light"
     },
     "output_type": "display_data"
    }
   ],
   "source": [
    "# o número de células com valores NaN é muito grande. Exposição gráfica para melhor visualização\n",
    "plt.figure(figsize=(14,9))\n",
    "sns.heatmap(df.isnull(), cbar=False, yticklabels=False)"
   ]
  },
  {
   "cell_type": "code",
   "execution_count": 9,
   "metadata": {},
   "outputs": [
    {
     "data": {
      "text/plain": [
       "Patient ID                                               5644\n",
       "Patient age quantile                                     5644\n",
       "SARS-Cov-2 exam result                                   5644\n",
       "Patient addmited to regular ward (1=yes, 0=no)           5644\n",
       "Patient addmited to semi-intensive unit (1=yes, 0=no)    5644\n",
       "                                                         ... \n",
       "HCO3 (arterial blood gas analysis)                         27\n",
       "pO2 (arterial blood gas analysis)                          27\n",
       "Arteiral Fio2                                              20\n",
       "Phosphor                                                   20\n",
       "ctO2 (arterial blood gas analysis)                         27\n",
       "Length: 111, dtype: int64"
      ]
     },
     "execution_count": 9,
     "metadata": {},
     "output_type": "execute_result"
    }
   ],
   "source": [
    "df.notnull().sum()"
   ]
  },
  {
   "cell_type": "code",
   "execution_count": 10,
   "metadata": {},
   "outputs": [],
   "source": [
    "cols=df.columns"
   ]
  },
  {
   "cell_type": "markdown",
   "metadata": {},
   "source": [
    "## A separação foi feita até a coluna 40 por relevância em volume de dados\n",
    "\n",
    "# (colunas com mais de 95% de valores nulos foram eliminadas)\n",
    "\n",
    "### A idéia é usar somente os exames de sangue mais comum para fazer a análise"
   ]
  },
  {
   "cell_type": "code",
   "execution_count": 11,
   "metadata": {},
   "outputs": [],
   "source": [
    "relevant = df[cols[0:20]]"
   ]
  },
  {
   "cell_type": "code",
   "execution_count": 12,
   "metadata": {},
   "outputs": [
    {
     "name": "stderr",
     "output_type": "stream",
     "text": [
      "/opt/conda/lib/python3.6/site-packages/ipykernel_launcher.py:1: SettingWithCopyWarning: \n",
      "A value is trying to be set on a copy of a slice from a DataFrame.\n",
      "Try using .loc[row_indexer,col_indexer] = value instead\n",
      "\n",
      "See the caveats in the documentation: http://pandas.pydata.org/pandas-docs/stable/user_guide/indexing.html#returning-a-view-versus-a-copy\n",
      "  \"\"\"Entry point for launching an IPython kernel.\n"
     ]
    }
   ],
   "source": [
    "relevant['Neutrophils'] = df['Neutrophils']"
   ]
  },
  {
   "cell_type": "code",
   "execution_count": 13,
   "metadata": {},
   "outputs": [
    {
     "name": "stdout",
     "output_type": "stream",
     "text": [
      "<class 'pandas.core.frame.DataFrame'>\n",
      "RangeIndex: 5644 entries, 0 to 5643\n",
      "Data columns (total 21 columns):\n",
      "Patient ID                                               5644 non-null object\n",
      "Patient age quantile                                     5644 non-null int64\n",
      "SARS-Cov-2 exam result                                   5644 non-null object\n",
      "Patient addmited to regular ward (1=yes, 0=no)           5644 non-null int64\n",
      "Patient addmited to semi-intensive unit (1=yes, 0=no)    5644 non-null int64\n",
      "Patient addmited to intensive care unit (1=yes, 0=no)    5644 non-null int64\n",
      "Hematocrit                                               603 non-null float64\n",
      "Hemoglobin                                               603 non-null float64\n",
      "Platelets                                                602 non-null float64\n",
      "Mean platelet volume                                     599 non-null float64\n",
      "Red blood Cells                                          602 non-null float64\n",
      "Lymphocytes                                              602 non-null float64\n",
      "Mean corpuscular hemoglobin concentration (MCHC)         602 non-null float64\n",
      "Leukocytes                                               602 non-null float64\n",
      "Basophils                                                602 non-null float64\n",
      "Mean corpuscular hemoglobin (MCH)                        602 non-null float64\n",
      "Eosinophils                                              602 non-null float64\n",
      "Mean corpuscular volume (MCV)                            602 non-null float64\n",
      "Monocytes                                                601 non-null float64\n",
      "Red blood cell distribution width (RDW)                  602 non-null float64\n",
      "Neutrophils                                              513 non-null float64\n",
      "dtypes: float64(15), int64(4), object(2)\n",
      "memory usage: 926.1+ KB\n"
     ]
    }
   ],
   "source": [
    "relevant.info()"
   ]
  },
  {
   "cell_type": "code",
   "execution_count": 14,
   "metadata": {},
   "outputs": [],
   "source": [
    "col = relevant.columns"
   ]
  },
  {
   "cell_type": "code",
   "execution_count": 15,
   "metadata": {},
   "outputs": [],
   "source": [
    "def falta_numero(x):\n",
    "      return sum(x.isnull())"
   ]
  },
  {
   "cell_type": "code",
   "execution_count": 16,
   "metadata": {},
   "outputs": [
    {
     "data": {
      "text/plain": [
       "Patient ID                                                  0\n",
       "Patient age quantile                                        0\n",
       "SARS-Cov-2 exam result                                      0\n",
       "Patient addmited to regular ward (1=yes, 0=no)              0\n",
       "Patient addmited to semi-intensive unit (1=yes, 0=no)       0\n",
       "Patient addmited to intensive care unit (1=yes, 0=no)       0\n",
       "Hematocrit                                               5041\n",
       "Hemoglobin                                               5041\n",
       "Platelets                                                5042\n",
       "Mean platelet volume                                     5045\n",
       "Red blood Cells                                          5042\n",
       "Lymphocytes                                              5042\n",
       "Mean corpuscular hemoglobin concentration (MCHC)         5042\n",
       "Leukocytes                                               5042\n",
       "Basophils                                                5042\n",
       "Mean corpuscular hemoglobin (MCH)                        5042\n",
       "Eosinophils                                              5042\n",
       "Mean corpuscular volume (MCV)                            5042\n",
       "Monocytes                                                5043\n",
       "Red blood cell distribution width (RDW)                  5042\n",
       "Neutrophils                                              5131\n",
       "dtype: int64"
      ]
     },
     "execution_count": 16,
     "metadata": {},
     "output_type": "execute_result"
    }
   ],
   "source": [
    "relevant.apply(falta_numero, axis=0)"
   ]
  },
  {
   "cell_type": "markdown",
   "metadata": {},
   "source": [
    "## A base da análise foi montada usando somente os exames de sangue.\n",
    "### Existem muitos valores nulos e negativos. Será arescido o número 5 (cinco) nos valores não-nulos (para eliminar os valores negativos);  e o numero 9 (nove) nos valores nulos."
   ]
  },
  {
   "cell_type": "code",
   "execution_count": 17,
   "metadata": {},
   "outputs": [
    {
     "data": {
      "text/html": [
       "<div>\n",
       "<style scoped>\n",
       "    .dataframe tbody tr th:only-of-type {\n",
       "        vertical-align: middle;\n",
       "    }\n",
       "\n",
       "    .dataframe tbody tr th {\n",
       "        vertical-align: top;\n",
       "    }\n",
       "\n",
       "    .dataframe thead th {\n",
       "        text-align: right;\n",
       "    }\n",
       "</style>\n",
       "<table border=\"1\" class=\"dataframe\">\n",
       "  <thead>\n",
       "    <tr style=\"text-align: right;\">\n",
       "      <th></th>\n",
       "      <th>Patient ID</th>\n",
       "      <th>Patient age quantile</th>\n",
       "      <th>SARS-Cov-2 exam result</th>\n",
       "      <th>Patient addmited to regular ward (1=yes, 0=no)</th>\n",
       "      <th>Patient addmited to semi-intensive unit (1=yes, 0=no)</th>\n",
       "      <th>Patient addmited to intensive care unit (1=yes, 0=no)</th>\n",
       "      <th>Hematocrit</th>\n",
       "      <th>Hemoglobin</th>\n",
       "      <th>Platelets</th>\n",
       "      <th>Mean platelet volume</th>\n",
       "      <th>...</th>\n",
       "      <th>Lymphocytes</th>\n",
       "      <th>Mean corpuscular hemoglobin concentration (MCHC)</th>\n",
       "      <th>Leukocytes</th>\n",
       "      <th>Basophils</th>\n",
       "      <th>Mean corpuscular hemoglobin (MCH)</th>\n",
       "      <th>Eosinophils</th>\n",
       "      <th>Mean corpuscular volume (MCV)</th>\n",
       "      <th>Monocytes</th>\n",
       "      <th>Red blood cell distribution width (RDW)</th>\n",
       "      <th>Neutrophils</th>\n",
       "    </tr>\n",
       "  </thead>\n",
       "  <tbody>\n",
       "    <tr>\n",
       "      <th>0</th>\n",
       "      <td>44477f75e8169d2</td>\n",
       "      <td>13</td>\n",
       "      <td>negative</td>\n",
       "      <td>0</td>\n",
       "      <td>0</td>\n",
       "      <td>0</td>\n",
       "      <td>NaN</td>\n",
       "      <td>NaN</td>\n",
       "      <td>NaN</td>\n",
       "      <td>NaN</td>\n",
       "      <td>...</td>\n",
       "      <td>NaN</td>\n",
       "      <td>NaN</td>\n",
       "      <td>NaN</td>\n",
       "      <td>NaN</td>\n",
       "      <td>NaN</td>\n",
       "      <td>NaN</td>\n",
       "      <td>NaN</td>\n",
       "      <td>NaN</td>\n",
       "      <td>NaN</td>\n",
       "      <td>NaN</td>\n",
       "    </tr>\n",
       "    <tr>\n",
       "      <th>1</th>\n",
       "      <td>126e9dd13932f68</td>\n",
       "      <td>17</td>\n",
       "      <td>negative</td>\n",
       "      <td>0</td>\n",
       "      <td>0</td>\n",
       "      <td>0</td>\n",
       "      <td>0.236515</td>\n",
       "      <td>-0.02234</td>\n",
       "      <td>-0.517413</td>\n",
       "      <td>0.010677</td>\n",
       "      <td>...</td>\n",
       "      <td>0.318366</td>\n",
       "      <td>-0.95079</td>\n",
       "      <td>-0.09461</td>\n",
       "      <td>-0.223767</td>\n",
       "      <td>-0.292269</td>\n",
       "      <td>1.482158</td>\n",
       "      <td>0.166192</td>\n",
       "      <td>0.357547</td>\n",
       "      <td>-0.625073</td>\n",
       "      <td>-0.619086</td>\n",
       "    </tr>\n",
       "    <tr>\n",
       "      <th>2</th>\n",
       "      <td>a46b4402a0e5696</td>\n",
       "      <td>8</td>\n",
       "      <td>negative</td>\n",
       "      <td>0</td>\n",
       "      <td>0</td>\n",
       "      <td>0</td>\n",
       "      <td>NaN</td>\n",
       "      <td>NaN</td>\n",
       "      <td>NaN</td>\n",
       "      <td>NaN</td>\n",
       "      <td>...</td>\n",
       "      <td>NaN</td>\n",
       "      <td>NaN</td>\n",
       "      <td>NaN</td>\n",
       "      <td>NaN</td>\n",
       "      <td>NaN</td>\n",
       "      <td>NaN</td>\n",
       "      <td>NaN</td>\n",
       "      <td>NaN</td>\n",
       "      <td>NaN</td>\n",
       "      <td>NaN</td>\n",
       "    </tr>\n",
       "    <tr>\n",
       "      <th>3</th>\n",
       "      <td>f7d619a94f97c45</td>\n",
       "      <td>5</td>\n",
       "      <td>negative</td>\n",
       "      <td>0</td>\n",
       "      <td>0</td>\n",
       "      <td>0</td>\n",
       "      <td>NaN</td>\n",
       "      <td>NaN</td>\n",
       "      <td>NaN</td>\n",
       "      <td>NaN</td>\n",
       "      <td>...</td>\n",
       "      <td>NaN</td>\n",
       "      <td>NaN</td>\n",
       "      <td>NaN</td>\n",
       "      <td>NaN</td>\n",
       "      <td>NaN</td>\n",
       "      <td>NaN</td>\n",
       "      <td>NaN</td>\n",
       "      <td>NaN</td>\n",
       "      <td>NaN</td>\n",
       "      <td>NaN</td>\n",
       "    </tr>\n",
       "    <tr>\n",
       "      <th>4</th>\n",
       "      <td>d9e41465789c2b5</td>\n",
       "      <td>15</td>\n",
       "      <td>negative</td>\n",
       "      <td>0</td>\n",
       "      <td>0</td>\n",
       "      <td>0</td>\n",
       "      <td>NaN</td>\n",
       "      <td>NaN</td>\n",
       "      <td>NaN</td>\n",
       "      <td>NaN</td>\n",
       "      <td>...</td>\n",
       "      <td>NaN</td>\n",
       "      <td>NaN</td>\n",
       "      <td>NaN</td>\n",
       "      <td>NaN</td>\n",
       "      <td>NaN</td>\n",
       "      <td>NaN</td>\n",
       "      <td>NaN</td>\n",
       "      <td>NaN</td>\n",
       "      <td>NaN</td>\n",
       "      <td>NaN</td>\n",
       "    </tr>\n",
       "  </tbody>\n",
       "</table>\n",
       "<p>5 rows × 21 columns</p>\n",
       "</div>"
      ],
      "text/plain": [
       "        Patient ID  Patient age quantile SARS-Cov-2 exam result  \\\n",
       "0  44477f75e8169d2                    13               negative   \n",
       "1  126e9dd13932f68                    17               negative   \n",
       "2  a46b4402a0e5696                     8               negative   \n",
       "3  f7d619a94f97c45                     5               negative   \n",
       "4  d9e41465789c2b5                    15               negative   \n",
       "\n",
       "   Patient addmited to regular ward (1=yes, 0=no)  \\\n",
       "0                                               0   \n",
       "1                                               0   \n",
       "2                                               0   \n",
       "3                                               0   \n",
       "4                                               0   \n",
       "\n",
       "   Patient addmited to semi-intensive unit (1=yes, 0=no)  \\\n",
       "0                                                  0       \n",
       "1                                                  0       \n",
       "2                                                  0       \n",
       "3                                                  0       \n",
       "4                                                  0       \n",
       "\n",
       "   Patient addmited to intensive care unit (1=yes, 0=no)  Hematocrit  \\\n",
       "0                                                  0             NaN   \n",
       "1                                                  0        0.236515   \n",
       "2                                                  0             NaN   \n",
       "3                                                  0             NaN   \n",
       "4                                                  0             NaN   \n",
       "\n",
       "   Hemoglobin  Platelets  Mean platelet volume   ...  Lymphocytes  \\\n",
       "0         NaN        NaN                    NaN  ...          NaN   \n",
       "1    -0.02234  -0.517413               0.010677  ...     0.318366   \n",
       "2         NaN        NaN                    NaN  ...          NaN   \n",
       "3         NaN        NaN                    NaN  ...          NaN   \n",
       "4         NaN        NaN                    NaN  ...          NaN   \n",
       "\n",
       "   Mean corpuscular hemoglobin concentration (MCHC)  Leukocytes  Basophils  \\\n",
       "0                                               NaN         NaN        NaN   \n",
       "1                                          -0.95079    -0.09461  -0.223767   \n",
       "2                                               NaN         NaN        NaN   \n",
       "3                                               NaN         NaN        NaN   \n",
       "4                                               NaN         NaN        NaN   \n",
       "\n",
       "   Mean corpuscular hemoglobin (MCH)  Eosinophils  \\\n",
       "0                                NaN          NaN   \n",
       "1                          -0.292269     1.482158   \n",
       "2                                NaN          NaN   \n",
       "3                                NaN          NaN   \n",
       "4                                NaN          NaN   \n",
       "\n",
       "   Mean corpuscular volume (MCV)  Monocytes  \\\n",
       "0                            NaN        NaN   \n",
       "1                       0.166192   0.357547   \n",
       "2                            NaN        NaN   \n",
       "3                            NaN        NaN   \n",
       "4                            NaN        NaN   \n",
       "\n",
       "   Red blood cell distribution width (RDW)  Neutrophils  \n",
       "0                                      NaN          NaN  \n",
       "1                                -0.625073    -0.619086  \n",
       "2                                      NaN          NaN  \n",
       "3                                      NaN          NaN  \n",
       "4                                      NaN          NaN  \n",
       "\n",
       "[5 rows x 21 columns]"
      ]
     },
     "execution_count": 17,
     "metadata": {},
     "output_type": "execute_result"
    }
   ],
   "source": [
    "relevant.head()"
   ]
  },
  {
   "cell_type": "code",
   "execution_count": 18,
   "metadata": {},
   "outputs": [],
   "source": [
    "def normaliza (x):\n",
    "    y = x + 5\n",
    "    return y"
   ]
  },
  {
   "cell_type": "code",
   "execution_count": 19,
   "metadata": {},
   "outputs": [
    {
     "name": "stderr",
     "output_type": "stream",
     "text": [
      "/opt/conda/lib/python3.6/site-packages/pandas/core/frame.py:3509: SettingWithCopyWarning: \n",
      "A value is trying to be set on a copy of a slice from a DataFrame.\n",
      "Try using .loc[row_indexer,col_indexer] = value instead\n",
      "\n",
      "See the caveats in the documentation: http://pandas.pydata.org/pandas-docs/stable/user_guide/indexing.html#returning-a-view-versus-a-copy\n",
      "  self[k1] = value[k2]\n"
     ]
    }
   ],
   "source": [
    "relevant[col[6:21]] = relevant[col[6:21]].apply(normaliza)"
   ]
  },
  {
   "cell_type": "code",
   "execution_count": 20,
   "metadata": {},
   "outputs": [],
   "source": [
    "relevant[col[6:21]] = relevant[col[6:21]].fillna(9)"
   ]
  },
  {
   "cell_type": "code",
   "execution_count": 21,
   "metadata": {},
   "outputs": [
    {
     "data": {
      "text/plain": [
       "<matplotlib.axes._subplots.AxesSubplot at 0x7f258a658cc0>"
      ]
     },
     "execution_count": 21,
     "metadata": {},
     "output_type": "execute_result"
    },
    {
     "data": {
      "image/png": "[encoded data removed]",
      "text/plain": [
       "<Figure size 1008x648 with 1 Axes>"
      ]
     },
     "metadata": {
      "needs_background": "light"
     },
     "output_type": "display_data"
    }
   ],
   "source": [
    "plt.figure(figsize=(14,9))\n",
    "sns.heatmap(relevant.isnull(), cbar=False, yticklabels=False)"
   ]
  },
  {
   "cell_type": "code",
   "execution_count": 22,
   "metadata": {},
   "outputs": [
    {
     "data": {
      "text/plain": [
       "Patient ID                                               5644\n",
       "Patient age quantile                                     5644\n",
       "SARS-Cov-2 exam result                                   5644\n",
       "Patient addmited to regular ward (1=yes, 0=no)           5644\n",
       "Patient addmited to semi-intensive unit (1=yes, 0=no)    5644\n",
       "Patient addmited to intensive care unit (1=yes, 0=no)    5644\n",
       "Hematocrit                                               5644\n",
       "Hemoglobin                                               5644\n",
       "Platelets                                                5644\n",
       "Mean platelet volume                                     5644\n",
       "Red blood Cells                                          5644\n",
       "Lymphocytes                                              5644\n",
       "Mean corpuscular hemoglobin concentration (MCHC)         5644\n",
       "Leukocytes                                               5644\n",
       "Basophils                                                5644\n",
       "Mean corpuscular hemoglobin (MCH)                        5644\n",
       "Eosinophils                                              5644\n",
       "Mean corpuscular volume (MCV)                            5644\n",
       "Monocytes                                                5644\n",
       "Red blood cell distribution width (RDW)                  5644\n",
       "Neutrophils                                              5644\n",
       "dtype: int64"
      ]
     },
     "execution_count": 22,
     "metadata": {},
     "output_type": "execute_result"
    }
   ],
   "source": [
    "## Eliminamos todos os valores nulos ou negativos\n",
    "relevant.notnull().sum()"
   ]
  },
  {
   "cell_type": "markdown",
   "metadata": {},
   "source": [
    "### Finalizar tratamento para aplicar regressão logística"
   ]
  },
  {
   "cell_type": "code",
   "execution_count": 23,
   "metadata": {},
   "outputs": [],
   "source": [
    "covid = relevant"
   ]
  },
  {
   "cell_type": "code",
   "execution_count": 24,
   "metadata": {},
   "outputs": [],
   "source": [
    "covid.reset_index(drop=True, inplace=True)"
   ]
  },
  {
   "cell_type": "code",
   "execution_count": 25,
   "metadata": {},
   "outputs": [
    {
     "data": {
      "text/html": [
       "<div>\n",
       "<style scoped>\n",
       "    .dataframe tbody tr th:only-of-type {\n",
       "        vertical-align: middle;\n",
       "    }\n",
       "\n",
       "    .dataframe tbody tr th {\n",
       "        vertical-align: top;\n",
       "    }\n",
       "\n",
       "    .dataframe thead th {\n",
       "        text-align: right;\n",
       "    }\n",
       "</style>\n",
       "<table border=\"1\" class=\"dataframe\">\n",
       "  <thead>\n",
       "    <tr style=\"text-align: right;\">\n",
       "      <th></th>\n",
       "      <th>Patient ID</th>\n",
       "      <th>Patient age quantile</th>\n",
       "      <th>SARS-Cov-2 exam result</th>\n",
       "      <th>Patient addmited to regular ward (1=yes, 0=no)</th>\n",
       "      <th>Patient addmited to semi-intensive unit (1=yes, 0=no)</th>\n",
       "      <th>Patient addmited to intensive care unit (1=yes, 0=no)</th>\n",
       "      <th>Hematocrit</th>\n",
       "      <th>Hemoglobin</th>\n",
       "      <th>Platelets</th>\n",
       "      <th>Mean platelet volume</th>\n",
       "      <th>...</th>\n",
       "      <th>Lymphocytes</th>\n",
       "      <th>Mean corpuscular hemoglobin concentration (MCHC)</th>\n",
       "      <th>Leukocytes</th>\n",
       "      <th>Basophils</th>\n",
       "      <th>Mean corpuscular hemoglobin (MCH)</th>\n",
       "      <th>Eosinophils</th>\n",
       "      <th>Mean corpuscular volume (MCV)</th>\n",
       "      <th>Monocytes</th>\n",
       "      <th>Red blood cell distribution width (RDW)</th>\n",
       "      <th>Neutrophils</th>\n",
       "    </tr>\n",
       "  </thead>\n",
       "  <tbody>\n",
       "    <tr>\n",
       "      <th>5639</th>\n",
       "      <td>ae66feb9e4dc3a0</td>\n",
       "      <td>3</td>\n",
       "      <td>positive</td>\n",
       "      <td>0</td>\n",
       "      <td>0</td>\n",
       "      <td>0</td>\n",
       "      <td>9.000000</td>\n",
       "      <td>9.000000</td>\n",
       "      <td>9.000000</td>\n",
       "      <td>9.000000</td>\n",
       "      <td>...</td>\n",
       "      <td>9.000000</td>\n",
       "      <td>9.000000</td>\n",
       "      <td>9.000000</td>\n",
       "      <td>9.000000</td>\n",
       "      <td>9.000000</td>\n",
       "      <td>9.000000</td>\n",
       "      <td>9.000000</td>\n",
       "      <td>9.000000</td>\n",
       "      <td>9.00000</td>\n",
       "      <td>9.000000</td>\n",
       "    </tr>\n",
       "    <tr>\n",
       "      <th>5640</th>\n",
       "      <td>517c2834024f3ea</td>\n",
       "      <td>17</td>\n",
       "      <td>negative</td>\n",
       "      <td>0</td>\n",
       "      <td>0</td>\n",
       "      <td>0</td>\n",
       "      <td>9.000000</td>\n",
       "      <td>9.000000</td>\n",
       "      <td>9.000000</td>\n",
       "      <td>9.000000</td>\n",
       "      <td>...</td>\n",
       "      <td>9.000000</td>\n",
       "      <td>9.000000</td>\n",
       "      <td>9.000000</td>\n",
       "      <td>9.000000</td>\n",
       "      <td>9.000000</td>\n",
       "      <td>9.000000</td>\n",
       "      <td>9.000000</td>\n",
       "      <td>9.000000</td>\n",
       "      <td>9.00000</td>\n",
       "      <td>9.000000</td>\n",
       "    </tr>\n",
       "    <tr>\n",
       "      <th>5641</th>\n",
       "      <td>5c57d6037fe266d</td>\n",
       "      <td>4</td>\n",
       "      <td>negative</td>\n",
       "      <td>0</td>\n",
       "      <td>0</td>\n",
       "      <td>0</td>\n",
       "      <td>9.000000</td>\n",
       "      <td>9.000000</td>\n",
       "      <td>9.000000</td>\n",
       "      <td>9.000000</td>\n",
       "      <td>...</td>\n",
       "      <td>9.000000</td>\n",
       "      <td>9.000000</td>\n",
       "      <td>9.000000</td>\n",
       "      <td>9.000000</td>\n",
       "      <td>9.000000</td>\n",
       "      <td>9.000000</td>\n",
       "      <td>9.000000</td>\n",
       "      <td>9.000000</td>\n",
       "      <td>9.00000</td>\n",
       "      <td>9.000000</td>\n",
       "    </tr>\n",
       "    <tr>\n",
       "      <th>5642</th>\n",
       "      <td>c20c44766f28291</td>\n",
       "      <td>10</td>\n",
       "      <td>negative</td>\n",
       "      <td>0</td>\n",
       "      <td>0</td>\n",
       "      <td>0</td>\n",
       "      <td>9.000000</td>\n",
       "      <td>9.000000</td>\n",
       "      <td>9.000000</td>\n",
       "      <td>9.000000</td>\n",
       "      <td>...</td>\n",
       "      <td>9.000000</td>\n",
       "      <td>9.000000</td>\n",
       "      <td>9.000000</td>\n",
       "      <td>9.000000</td>\n",
       "      <td>9.000000</td>\n",
       "      <td>9.000000</td>\n",
       "      <td>9.000000</td>\n",
       "      <td>9.000000</td>\n",
       "      <td>9.00000</td>\n",
       "      <td>9.000000</td>\n",
       "    </tr>\n",
       "    <tr>\n",
       "      <th>5643</th>\n",
       "      <td>2697fdccbfeb7f7</td>\n",
       "      <td>19</td>\n",
       "      <td>positive</td>\n",
       "      <td>0</td>\n",
       "      <td>0</td>\n",
       "      <td>0</td>\n",
       "      <td>5.694287</td>\n",
       "      <td>5.541564</td>\n",
       "      <td>4.093171</td>\n",
       "      <td>4.674097</td>\n",
       "      <td>...</td>\n",
       "      <td>4.704274</td>\n",
       "      <td>4.646681</td>\n",
       "      <td>3.711572</td>\n",
       "      <td>3.859856</td>\n",
       "      <td>4.864545</td>\n",
       "      <td>4.164492</td>\n",
       "      <td>5.025985</td>\n",
       "      <td>5.567652</td>\n",
       "      <td>4.81721</td>\n",
       "      <td>5.380685</td>\n",
       "    </tr>\n",
       "  </tbody>\n",
       "</table>\n",
       "<p>5 rows × 21 columns</p>\n",
       "</div>"
      ],
      "text/plain": [
       "           Patient ID  Patient age quantile SARS-Cov-2 exam result  \\\n",
       "5639  ae66feb9e4dc3a0                     3               positive   \n",
       "5640  517c2834024f3ea                    17               negative   \n",
       "5641  5c57d6037fe266d                     4               negative   \n",
       "5642  c20c44766f28291                    10               negative   \n",
       "5643  2697fdccbfeb7f7                    19               positive   \n",
       "\n",
       "      Patient addmited to regular ward (1=yes, 0=no)  \\\n",
       "5639                                               0   \n",
       "5640                                               0   \n",
       "5641                                               0   \n",
       "5642                                               0   \n",
       "5643                                               0   \n",
       "\n",
       "      Patient addmited to semi-intensive unit (1=yes, 0=no)  \\\n",
       "5639                                                  0       \n",
       "5640                                                  0       \n",
       "5641                                                  0       \n",
       "5642                                                  0       \n",
       "5643                                                  0       \n",
       "\n",
       "      Patient addmited to intensive care unit (1=yes, 0=no)  Hematocrit  \\\n",
       "5639                                                  0        9.000000   \n",
       "5640                                                  0        9.000000   \n",
       "5641                                                  0        9.000000   \n",
       "5642                                                  0        9.000000   \n",
       "5643                                                  0        5.694287   \n",
       "\n",
       "      Hemoglobin  Platelets  Mean platelet volume   ...  Lymphocytes  \\\n",
       "5639    9.000000   9.000000               9.000000  ...     9.000000   \n",
       "5640    9.000000   9.000000               9.000000  ...     9.000000   \n",
       "5641    9.000000   9.000000               9.000000  ...     9.000000   \n",
       "5642    9.000000   9.000000               9.000000  ...     9.000000   \n",
       "5643    5.541564   4.093171               4.674097  ...     4.704274   \n",
       "\n",
       "      Mean corpuscular hemoglobin concentration (MCHC)  Leukocytes  Basophils  \\\n",
       "5639                                          9.000000    9.000000   9.000000   \n",
       "5640                                          9.000000    9.000000   9.000000   \n",
       "5641                                          9.000000    9.000000   9.000000   \n",
       "5642                                          9.000000    9.000000   9.000000   \n",
       "5643                                          4.646681    3.711572   3.859856   \n",
       "\n",
       "      Mean corpuscular hemoglobin (MCH)  Eosinophils  \\\n",
       "5639                           9.000000     9.000000   \n",
       "5640                           9.000000     9.000000   \n",
       "5641                           9.000000     9.000000   \n",
       "5642                           9.000000     9.000000   \n",
       "5643                           4.864545     4.164492   \n",
       "\n",
       "      Mean corpuscular volume (MCV)  Monocytes  \\\n",
       "5639                       9.000000   9.000000   \n",
       "5640                       9.000000   9.000000   \n",
       "5641                       9.000000   9.000000   \n",
       "5642                       9.000000   9.000000   \n",
       "5643                       5.025985   5.567652   \n",
       "\n",
       "      Red blood cell distribution width (RDW)  Neutrophils  \n",
       "5639                                  9.00000     9.000000  \n",
       "5640                                  9.00000     9.000000  \n",
       "5641                                  9.00000     9.000000  \n",
       "5642                                  9.00000     9.000000  \n",
       "5643                                  4.81721     5.380685  \n",
       "\n",
       "[5 rows x 21 columns]"
      ]
     },
     "execution_count": 25,
     "metadata": {},
     "output_type": "execute_result"
    }
   ],
   "source": [
    "covid.tail()"
   ]
  },
  {
   "cell_type": "markdown",
   "metadata": {},
   "source": [
    "## Eliminando colunas do dataset final que não serão utilizadas na regressão logística"
   ]
  },
  {
   "cell_type": "code",
   "execution_count": 26,
   "metadata": {},
   "outputs": [
    {
     "name": "stderr",
     "output_type": "stream",
     "text": [
      "/opt/conda/lib/python3.6/site-packages/pandas/core/frame.py:4117: SettingWithCopyWarning: \n",
      "A value is trying to be set on a copy of a slice from a DataFrame\n",
      "\n",
      "See the caveats in the documentation: http://pandas.pydata.org/pandas-docs/stable/user_guide/indexing.html#returning-a-view-versus-a-copy\n",
      "  errors=errors,\n"
     ]
    }
   ],
   "source": [
    "covid = covid.drop(['Patient ID'], axis=1, inplace=True)\n",
    "covid = relevant"
   ]
  },
  {
   "cell_type": "code",
   "execution_count": 27,
   "metadata": {},
   "outputs": [],
   "source": [
    "covid = covid.drop(['Patient addmited to regular ward (1=yes, 0=no)'], axis=1, inplace=True)\n",
    "covid = relevant"
   ]
  },
  {
   "cell_type": "code",
   "execution_count": 28,
   "metadata": {},
   "outputs": [],
   "source": [
    "covid = covid.drop(['Patient addmited to semi-intensive unit (1=yes, 0=no)'], axis=1, inplace=True)\n",
    "covid = relevant"
   ]
  },
  {
   "cell_type": "code",
   "execution_count": 29,
   "metadata": {},
   "outputs": [],
   "source": [
    "covid = covid.drop(['Patient addmited to intensive care unit (1=yes, 0=no)'], axis=1, inplace=True)\n",
    "covid = relevant"
   ]
  },
  {
   "cell_type": "code",
   "execution_count": 30,
   "metadata": {},
   "outputs": [
    {
     "data": {
      "text/html": [
       "<div>\n",
       "<style scoped>\n",
       "    .dataframe tbody tr th:only-of-type {\n",
       "        vertical-align: middle;\n",
       "    }\n",
       "\n",
       "    .dataframe tbody tr th {\n",
       "        vertical-align: top;\n",
       "    }\n",
       "\n",
       "    .dataframe thead th {\n",
       "        text-align: right;\n",
       "    }\n",
       "</style>\n",
       "<table border=\"1\" class=\"dataframe\">\n",
       "  <thead>\n",
       "    <tr style=\"text-align: right;\">\n",
       "      <th></th>\n",
       "      <th>Patient age quantile</th>\n",
       "      <th>SARS-Cov-2 exam result</th>\n",
       "      <th>Hematocrit</th>\n",
       "      <th>Hemoglobin</th>\n",
       "      <th>Platelets</th>\n",
       "      <th>Mean platelet volume</th>\n",
       "      <th>Red blood Cells</th>\n",
       "      <th>Lymphocytes</th>\n",
       "      <th>Mean corpuscular hemoglobin concentration (MCHC)</th>\n",
       "      <th>Leukocytes</th>\n",
       "      <th>Basophils</th>\n",
       "      <th>Mean corpuscular hemoglobin (MCH)</th>\n",
       "      <th>Eosinophils</th>\n",
       "      <th>Mean corpuscular volume (MCV)</th>\n",
       "      <th>Monocytes</th>\n",
       "      <th>Red blood cell distribution width (RDW)</th>\n",
       "      <th>Neutrophils</th>\n",
       "    </tr>\n",
       "  </thead>\n",
       "  <tbody>\n",
       "    <tr>\n",
       "      <th>0</th>\n",
       "      <td>13</td>\n",
       "      <td>negative</td>\n",
       "      <td>9.000000</td>\n",
       "      <td>9.00000</td>\n",
       "      <td>9.000000</td>\n",
       "      <td>9.000000</td>\n",
       "      <td>9.000000</td>\n",
       "      <td>9.000000</td>\n",
       "      <td>9.00000</td>\n",
       "      <td>9.00000</td>\n",
       "      <td>9.000000</td>\n",
       "      <td>9.000000</td>\n",
       "      <td>9.000000</td>\n",
       "      <td>9.000000</td>\n",
       "      <td>9.000000</td>\n",
       "      <td>9.000000</td>\n",
       "      <td>9.000000</td>\n",
       "    </tr>\n",
       "    <tr>\n",
       "      <th>1</th>\n",
       "      <td>17</td>\n",
       "      <td>negative</td>\n",
       "      <td>5.236515</td>\n",
       "      <td>4.97766</td>\n",
       "      <td>4.482587</td>\n",
       "      <td>5.010677</td>\n",
       "      <td>5.102004</td>\n",
       "      <td>5.318366</td>\n",
       "      <td>4.04921</td>\n",
       "      <td>4.90539</td>\n",
       "      <td>4.776233</td>\n",
       "      <td>4.707731</td>\n",
       "      <td>6.482158</td>\n",
       "      <td>5.166192</td>\n",
       "      <td>5.357547</td>\n",
       "      <td>4.374927</td>\n",
       "      <td>4.380914</td>\n",
       "    </tr>\n",
       "    <tr>\n",
       "      <th>2</th>\n",
       "      <td>8</td>\n",
       "      <td>negative</td>\n",
       "      <td>9.000000</td>\n",
       "      <td>9.00000</td>\n",
       "      <td>9.000000</td>\n",
       "      <td>9.000000</td>\n",
       "      <td>9.000000</td>\n",
       "      <td>9.000000</td>\n",
       "      <td>9.00000</td>\n",
       "      <td>9.00000</td>\n",
       "      <td>9.000000</td>\n",
       "      <td>9.000000</td>\n",
       "      <td>9.000000</td>\n",
       "      <td>9.000000</td>\n",
       "      <td>9.000000</td>\n",
       "      <td>9.000000</td>\n",
       "      <td>9.000000</td>\n",
       "    </tr>\n",
       "    <tr>\n",
       "      <th>3</th>\n",
       "      <td>5</td>\n",
       "      <td>negative</td>\n",
       "      <td>9.000000</td>\n",
       "      <td>9.00000</td>\n",
       "      <td>9.000000</td>\n",
       "      <td>9.000000</td>\n",
       "      <td>9.000000</td>\n",
       "      <td>9.000000</td>\n",
       "      <td>9.00000</td>\n",
       "      <td>9.00000</td>\n",
       "      <td>9.000000</td>\n",
       "      <td>9.000000</td>\n",
       "      <td>9.000000</td>\n",
       "      <td>9.000000</td>\n",
       "      <td>9.000000</td>\n",
       "      <td>9.000000</td>\n",
       "      <td>9.000000</td>\n",
       "    </tr>\n",
       "    <tr>\n",
       "      <th>4</th>\n",
       "      <td>15</td>\n",
       "      <td>negative</td>\n",
       "      <td>9.000000</td>\n",
       "      <td>9.00000</td>\n",
       "      <td>9.000000</td>\n",
       "      <td>9.000000</td>\n",
       "      <td>9.000000</td>\n",
       "      <td>9.000000</td>\n",
       "      <td>9.00000</td>\n",
       "      <td>9.00000</td>\n",
       "      <td>9.000000</td>\n",
       "      <td>9.000000</td>\n",
       "      <td>9.000000</td>\n",
       "      <td>9.000000</td>\n",
       "      <td>9.000000</td>\n",
       "      <td>9.000000</td>\n",
       "      <td>9.000000</td>\n",
       "    </tr>\n",
       "  </tbody>\n",
       "</table>\n",
       "</div>"
      ],
      "text/plain": [
       "   Patient age quantile SARS-Cov-2 exam result  Hematocrit  Hemoglobin  \\\n",
       "0                    13               negative    9.000000     9.00000   \n",
       "1                    17               negative    5.236515     4.97766   \n",
       "2                     8               negative    9.000000     9.00000   \n",
       "3                     5               negative    9.000000     9.00000   \n",
       "4                    15               negative    9.000000     9.00000   \n",
       "\n",
       "   Platelets  Mean platelet volume   Red blood Cells  Lymphocytes  \\\n",
       "0   9.000000               9.000000         9.000000     9.000000   \n",
       "1   4.482587               5.010677         5.102004     5.318366   \n",
       "2   9.000000               9.000000         9.000000     9.000000   \n",
       "3   9.000000               9.000000         9.000000     9.000000   \n",
       "4   9.000000               9.000000         9.000000     9.000000   \n",
       "\n",
       "   Mean corpuscular hemoglobin concentration (MCHC)  Leukocytes  Basophils  \\\n",
       "0                                           9.00000     9.00000   9.000000   \n",
       "1                                           4.04921     4.90539   4.776233   \n",
       "2                                           9.00000     9.00000   9.000000   \n",
       "3                                           9.00000     9.00000   9.000000   \n",
       "4                                           9.00000     9.00000   9.000000   \n",
       "\n",
       "   Mean corpuscular hemoglobin (MCH)  Eosinophils  \\\n",
       "0                           9.000000     9.000000   \n",
       "1                           4.707731     6.482158   \n",
       "2                           9.000000     9.000000   \n",
       "3                           9.000000     9.000000   \n",
       "4                           9.000000     9.000000   \n",
       "\n",
       "   Mean corpuscular volume (MCV)  Monocytes  \\\n",
       "0                       9.000000   9.000000   \n",
       "1                       5.166192   5.357547   \n",
       "2                       9.000000   9.000000   \n",
       "3                       9.000000   9.000000   \n",
       "4                       9.000000   9.000000   \n",
       "\n",
       "   Red blood cell distribution width (RDW)  Neutrophils  \n",
       "0                                 9.000000     9.000000  \n",
       "1                                 4.374927     4.380914  \n",
       "2                                 9.000000     9.000000  \n",
       "3                                 9.000000     9.000000  \n",
       "4                                 9.000000     9.000000  "
      ]
     },
     "execution_count": 30,
     "metadata": {},
     "output_type": "execute_result"
    }
   ],
   "source": [
    "covid.head()"
   ]
  },
  {
   "cell_type": "code",
   "execution_count": 31,
   "metadata": {},
   "outputs": [
    {
     "data": {
      "text/plain": [
       "negative    5086\n",
       "positive     558\n",
       "Name: SARS-Cov-2 exam result, dtype: int64"
      ]
     },
     "execution_count": 31,
     "metadata": {},
     "output_type": "execute_result"
    }
   ],
   "source": [
    "# Verificando os valores da coluna target\n",
    "covid['SARS-Cov-2 exam result'].value_counts()"
   ]
  },
  {
   "cell_type": "code",
   "execution_count": 32,
   "metadata": {},
   "outputs": [
    {
     "name": "stderr",
     "output_type": "stream",
     "text": [
      "/opt/conda/lib/python3.6/site-packages/ipykernel_launcher.py:2: SettingWithCopyWarning: \n",
      "A value is trying to be set on a copy of a slice from a DataFrame.\n",
      "Try using .loc[row_indexer,col_indexer] = value instead\n",
      "\n",
      "See the caveats in the documentation: http://pandas.pydata.org/pandas-docs/stable/user_guide/indexing.html#returning-a-view-versus-a-copy\n",
      "  \n"
     ]
    }
   ],
   "source": [
    "# convertendo celulas categóricas em numericas\n",
    "covid['SARS-Cov-2 exam result'] = pd.get_dummies(covid['SARS-Cov-2 exam result'])"
   ]
  },
  {
   "cell_type": "code",
   "execution_count": 33,
   "metadata": {},
   "outputs": [
    {
     "data": {
      "text/plain": [
       "1    5086\n",
       "0     558\n",
       "Name: SARS-Cov-2 exam result, dtype: int64"
      ]
     },
     "execution_count": 33,
     "metadata": {},
     "output_type": "execute_result"
    }
   ],
   "source": [
    "covid['SARS-Cov-2 exam result'].value_counts()"
   ]
  },
  {
   "cell_type": "code",
   "execution_count": 34,
   "metadata": {},
   "outputs": [
    {
     "data": {
      "text/html": [
       "<div>\n",
       "<style scoped>\n",
       "    .dataframe tbody tr th:only-of-type {\n",
       "        vertical-align: middle;\n",
       "    }\n",
       "\n",
       "    .dataframe tbody tr th {\n",
       "        vertical-align: top;\n",
       "    }\n",
       "\n",
       "    .dataframe thead th {\n",
       "        text-align: right;\n",
       "    }\n",
       "</style>\n",
       "<table border=\"1\" class=\"dataframe\">\n",
       "  <thead>\n",
       "    <tr style=\"text-align: right;\">\n",
       "      <th></th>\n",
       "      <th>Patient age quantile</th>\n",
       "      <th>SARS-Cov-2 exam result</th>\n",
       "      <th>Hematocrit</th>\n",
       "      <th>Hemoglobin</th>\n",
       "      <th>Platelets</th>\n",
       "      <th>Mean platelet volume</th>\n",
       "      <th>Red blood Cells</th>\n",
       "      <th>Lymphocytes</th>\n",
       "      <th>Mean corpuscular hemoglobin concentration (MCHC)</th>\n",
       "      <th>Leukocytes</th>\n",
       "      <th>Basophils</th>\n",
       "      <th>Mean corpuscular hemoglobin (MCH)</th>\n",
       "      <th>Eosinophils</th>\n",
       "      <th>Mean corpuscular volume (MCV)</th>\n",
       "      <th>Monocytes</th>\n",
       "      <th>Red blood cell distribution width (RDW)</th>\n",
       "      <th>Neutrophils</th>\n",
       "    </tr>\n",
       "  </thead>\n",
       "  <tbody>\n",
       "    <tr>\n",
       "      <th>5639</th>\n",
       "      <td>3</td>\n",
       "      <td>0</td>\n",
       "      <td>9.000000</td>\n",
       "      <td>9.000000</td>\n",
       "      <td>9.000000</td>\n",
       "      <td>9.000000</td>\n",
       "      <td>9.000000</td>\n",
       "      <td>9.000000</td>\n",
       "      <td>9.000000</td>\n",
       "      <td>9.000000</td>\n",
       "      <td>9.000000</td>\n",
       "      <td>9.000000</td>\n",
       "      <td>9.000000</td>\n",
       "      <td>9.000000</td>\n",
       "      <td>9.000000</td>\n",
       "      <td>9.00000</td>\n",
       "      <td>9.000000</td>\n",
       "    </tr>\n",
       "    <tr>\n",
       "      <th>5640</th>\n",
       "      <td>17</td>\n",
       "      <td>1</td>\n",
       "      <td>9.000000</td>\n",
       "      <td>9.000000</td>\n",
       "      <td>9.000000</td>\n",
       "      <td>9.000000</td>\n",
       "      <td>9.000000</td>\n",
       "      <td>9.000000</td>\n",
       "      <td>9.000000</td>\n",
       "      <td>9.000000</td>\n",
       "      <td>9.000000</td>\n",
       "      <td>9.000000</td>\n",
       "      <td>9.000000</td>\n",
       "      <td>9.000000</td>\n",
       "      <td>9.000000</td>\n",
       "      <td>9.00000</td>\n",
       "      <td>9.000000</td>\n",
       "    </tr>\n",
       "    <tr>\n",
       "      <th>5641</th>\n",
       "      <td>4</td>\n",
       "      <td>1</td>\n",
       "      <td>9.000000</td>\n",
       "      <td>9.000000</td>\n",
       "      <td>9.000000</td>\n",
       "      <td>9.000000</td>\n",
       "      <td>9.000000</td>\n",
       "      <td>9.000000</td>\n",
       "      <td>9.000000</td>\n",
       "      <td>9.000000</td>\n",
       "      <td>9.000000</td>\n",
       "      <td>9.000000</td>\n",
       "      <td>9.000000</td>\n",
       "      <td>9.000000</td>\n",
       "      <td>9.000000</td>\n",
       "      <td>9.00000</td>\n",
       "      <td>9.000000</td>\n",
       "    </tr>\n",
       "    <tr>\n",
       "      <th>5642</th>\n",
       "      <td>10</td>\n",
       "      <td>1</td>\n",
       "      <td>9.000000</td>\n",
       "      <td>9.000000</td>\n",
       "      <td>9.000000</td>\n",
       "      <td>9.000000</td>\n",
       "      <td>9.000000</td>\n",
       "      <td>9.000000</td>\n",
       "      <td>9.000000</td>\n",
       "      <td>9.000000</td>\n",
       "      <td>9.000000</td>\n",
       "      <td>9.000000</td>\n",
       "      <td>9.000000</td>\n",
       "      <td>9.000000</td>\n",
       "      <td>9.000000</td>\n",
       "      <td>9.00000</td>\n",
       "      <td>9.000000</td>\n",
       "    </tr>\n",
       "    <tr>\n",
       "      <th>5643</th>\n",
       "      <td>19</td>\n",
       "      <td>0</td>\n",
       "      <td>5.694287</td>\n",
       "      <td>5.541564</td>\n",
       "      <td>4.093171</td>\n",
       "      <td>4.674097</td>\n",
       "      <td>5.578024</td>\n",
       "      <td>4.704274</td>\n",
       "      <td>4.646681</td>\n",
       "      <td>3.711572</td>\n",
       "      <td>3.859856</td>\n",
       "      <td>4.864545</td>\n",
       "      <td>4.164492</td>\n",
       "      <td>5.025985</td>\n",
       "      <td>5.567652</td>\n",
       "      <td>4.81721</td>\n",
       "      <td>5.380685</td>\n",
       "    </tr>\n",
       "  </tbody>\n",
       "</table>\n",
       "</div>"
      ],
      "text/plain": [
       "      Patient age quantile  SARS-Cov-2 exam result  Hematocrit  Hemoglobin  \\\n",
       "5639                     3                       0    9.000000    9.000000   \n",
       "5640                    17                       1    9.000000    9.000000   \n",
       "5641                     4                       1    9.000000    9.000000   \n",
       "5642                    10                       1    9.000000    9.000000   \n",
       "5643                    19                       0    5.694287    5.541564   \n",
       "\n",
       "      Platelets  Mean platelet volume   Red blood Cells  Lymphocytes  \\\n",
       "5639   9.000000               9.000000         9.000000     9.000000   \n",
       "5640   9.000000               9.000000         9.000000     9.000000   \n",
       "5641   9.000000               9.000000         9.000000     9.000000   \n",
       "5642   9.000000               9.000000         9.000000     9.000000   \n",
       "5643   4.093171               4.674097         5.578024     4.704274   \n",
       "\n",
       "      Mean corpuscular hemoglobin concentration (MCHC)  Leukocytes  Basophils  \\\n",
       "5639                                          9.000000    9.000000   9.000000   \n",
       "5640                                          9.000000    9.000000   9.000000   \n",
       "5641                                          9.000000    9.000000   9.000000   \n",
       "5642                                          9.000000    9.000000   9.000000   \n",
       "5643                                          4.646681    3.711572   3.859856   \n",
       "\n",
       "      Mean corpuscular hemoglobin (MCH)  Eosinophils  \\\n",
       "5639                           9.000000     9.000000   \n",
       "5640                           9.000000     9.000000   \n",
       "5641                           9.000000     9.000000   \n",
       "5642                           9.000000     9.000000   \n",
       "5643                           4.864545     4.164492   \n",
       "\n",
       "      Mean corpuscular volume (MCV)  Monocytes  \\\n",
       "5639                       9.000000   9.000000   \n",
       "5640                       9.000000   9.000000   \n",
       "5641                       9.000000   9.000000   \n",
       "5642                       9.000000   9.000000   \n",
       "5643                       5.025985   5.567652   \n",
       "\n",
       "      Red blood cell distribution width (RDW)  Neutrophils  \n",
       "5639                                  9.00000     9.000000  \n",
       "5640                                  9.00000     9.000000  \n",
       "5641                                  9.00000     9.000000  \n",
       "5642                                  9.00000     9.000000  \n",
       "5643                                  4.81721     5.380685  "
      ]
     },
     "execution_count": 34,
     "metadata": {},
     "output_type": "execute_result"
    }
   ],
   "source": [
    "# verificação final\n",
    "covid.tail()"
   ]
  },
  {
   "cell_type": "markdown",
   "metadata": {},
   "source": [
    "# Divisão treino/teste e Regressão Logística com SKlearn"
   ]
  },
  {
   "cell_type": "code",
   "execution_count": 35,
   "metadata": {},
   "outputs": [],
   "source": [
    "from sklearn.model_selection import train_test_split\n",
    "from sklearn.linear_model import LogisticRegression"
   ]
  },
  {
   "cell_type": "code",
   "execution_count": 36,
   "metadata": {},
   "outputs": [],
   "source": [
    "X_train, X_test, y_train, y_test = train_test_split(covid.drop('SARS-Cov-2 exam result',axis=1), covid['SARS-Cov-2 exam result'], test_size=0.25)"
   ]
  },
  {
   "cell_type": "code",
   "execution_count": 37,
   "metadata": {},
   "outputs": [
    {
     "name": "stderr",
     "output_type": "stream",
     "text": [
      "/opt/conda/lib/python3.6/site-packages/sklearn/linear_model/_logistic.py:940: ConvergenceWarning: lbfgs failed to converge (status=1):\n",
      "STOP: TOTAL NO. of ITERATIONS REACHED LIMIT.\n",
      "\n",
      "Increase the number of iterations (max_iter) or scale the data as shown in:\n",
      "    https://scikit-learn.org/stable/modules/preprocessing.html\n",
      "Please also refer to the documentation for alternative solver options:\n",
      "    https://scikit-learn.org/stable/modules/linear_model.html#logistic-regression\n",
      "  extra_warning_msg=_LOGISTIC_SOLVER_CONVERGENCE_MSG)\n"
     ]
    },
    {
     "data": {
      "text/plain": [
       "LogisticRegression(C=1.0, class_weight=None, dual=False, fit_intercept=True,\n",
       "                   intercept_scaling=1, l1_ratio=None, max_iter=100,\n",
       "                   multi_class='auto', n_jobs=None, penalty='l2',\n",
       "                   random_state=None, solver='lbfgs', tol=0.0001, verbose=0,\n",
       "                   warm_start=False)"
      ]
     },
     "execution_count": 37,
     "metadata": {},
     "output_type": "execute_result"
    }
   ],
   "source": [
    "logmodel = LogisticRegression()\n",
    "logmodel.fit(X_train,y_train)"
   ]
  },
  {
   "cell_type": "code",
   "execution_count": 38,
   "metadata": {},
   "outputs": [],
   "source": [
    "predictions = logmodel.predict(X_test)"
   ]
  },
  {
   "cell_type": "markdown",
   "metadata": {},
   "source": [
    "## Verificação da matriz de confusão (Verdadeiro e falso, positivos e negativos)"
   ]
  },
  {
   "cell_type": "code",
   "execution_count": 39,
   "metadata": {},
   "outputs": [],
   "source": [
    "from sklearn.metrics import confusion_matrix"
   ]
  },
  {
   "cell_type": "code",
   "execution_count": 40,
   "metadata": {},
   "outputs": [
    {
     "name": "stdout",
     "output_type": "stream",
     "text": [
      "[[   3  122]\n",
      " [   2 1284]]\n"
     ]
    }
   ],
   "source": [
    "reg_cm=confusion_matrix(y_test,predictions)\n",
    "print(reg_cm)"
   ]
  },
  {
   "cell_type": "markdown",
   "metadata": {},
   "source": [
    "### Função criada para plotar a matriz de confusão"
   ]
  },
  {
   "cell_type": "code",
   "execution_count": 41,
   "metadata": {},
   "outputs": [],
   "source": [
    "def matriz_deconfusao(cm, target_names,\n",
    "                          title='Matriz de Confusão',\n",
    "                          cmap=None,\n",
    "                          normalize=True):\n",
    "    \n",
    "    accuracy = np.trace(cm) / float(np.sum(cm))\n",
    "    misclass = 1 - accuracy\n",
    "\n",
    "    if cmap is None:\n",
    "        cmap = plt.get_cmap('Blues')\n",
    "\n",
    "    plt.figure(figsize=(8, 6))\n",
    "    plt.imshow(cm, interpolation='nearest', cmap=cmap)\n",
    "    plt.title(title)\n",
    "    plt.colorbar()\n",
    "\n",
    "    if target_names is not None:\n",
    "        tick_marks = np.arange(len(target_names))\n",
    "        plt.xticks(tick_marks, target_names, rotation=45)\n",
    "        plt.yticks(tick_marks, target_names)\n",
    "\n",
    "    if normalize:\n",
    "        cm = cm.astype('float') / cm.sum(axis=1)[:, np.newaxis]\n",
    "\n",
    "\n",
    "    thresh = cm.max() / 1.5 if normalize else cm.max() / 2\n",
    "    for i, j in itertools.product(range(cm.shape[0]), range(cm.shape[1])):\n",
    "        if normalize:\n",
    "            plt.text(j, i, \"{:0.4f}\".format(cm[i, j]),\n",
    "                     horizontalalignment=\"center\",\n",
    "                     color=\"white\" if cm[i, j] > thresh else \"black\")\n",
    "        else:\n",
    "            plt.text(j, i, \"{:,}\".format(cm[i, j]),\n",
    "                     horizontalalignment=\"center\",\n",
    "                     color=\"white\" if cm[i, j] > thresh else \"black\")\n",
    "\n",
    "\n",
    "    plt.tight_layout()\n",
    "    plt.ylabel('True label')\n",
    "    plt.xlabel('Predicted label\\naccuracy={:0.4f}; misclass={:0.4f}'.format(accuracy, misclass))\n",
    "    plt.show()\n"
   ]
  },
  {
   "cell_type": "markdown",
   "metadata": {},
   "source": [
    "#### Impressão da matriz de confusão e acurácia do modelo"
   ]
  },
  {
   "cell_type": "code",
   "execution_count": 42,
   "metadata": {},
   "outputs": [
    {
     "data": {
      "image/png": "[encoded data removed]",
      "text/plain": [
       "<Figure size 576x432 with 2 Axes>"
      ]
     },
     "metadata": {
      "needs_background": "light"
     },
     "output_type": "display_data"
    }
   ],
   "source": [
    "matriz_deconfusao(cm = reg_cm, normalize  = False,\n",
    "                      target_names = ['Positivo - COVID-19', 'Não Infectado'],\n",
    "                      title        = \"Matriz de Confusão\")"
   ]
  },
  {
   "cell_type": "markdown",
   "metadata": {},
   "source": [
    "# RESPOSTA TASK 1 - SIM, É POSSÍVEL IDENTIFICAR A PRESENÇA DO COVID-19 ATRAVÉS DA ANÁLISE DOS DADOS DOS EXAMES DE SANGUE COM ACURÁCIA DE APROXIMADAMENTE 90% "
   ]
  },
  {
   "cell_type": "markdown",
   "metadata": {},
   "source": [
    "# A TASK 2 NÃO FOI POSSÍVEL DE SER CONCLUÍDA, POIS A ANÁLISE DA EVOLUÇÃO DO QUADRO CLÍNICO ENTRE A EMERGÊNCIA ATÉ A UTI REQUER IMAGENS, AVALIAÇÕES E DADOS. \n",
    "## SOMENTE COM OS DADOS É IMPOSSÍVEL"
   ]
  }
 ],
 "metadata": {
  "kernelspec": {
   "display_name": "Python 3",
   "language": "python",
   "name": "python3"
  },
  "language_info": {
   "codemirror_mode": {
    "name": "ipython",
    "version": 3
   },
   "file_extension": ".py",
   "mimetype": "text/x-python",
   "name": "python",
   "nbconvert_exporter": "python",
   "pygments_lexer": "ipython3",
   "version": "3.6.6"
  }
 },
 "nbformat": 4,
 "nbformat_minor": 4
}
