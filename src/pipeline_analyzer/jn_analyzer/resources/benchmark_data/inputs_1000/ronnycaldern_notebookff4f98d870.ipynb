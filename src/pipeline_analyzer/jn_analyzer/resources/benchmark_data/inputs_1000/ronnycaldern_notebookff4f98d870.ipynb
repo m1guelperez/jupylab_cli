{
 "cells": [
  {
   "cell_type": "code",
   "execution_count": 1,
   "metadata": {
    "_cell_guid": "b1076dfc-b9ad-4769-8c92-a6c4dae69d19",
    "_uuid": "8f2839f25d086af736a60e9eeb907d3b93b6e0e5",
    "execution": {
     "iopub.execute_input": "2020-10-03T00:45:05.914128Z",
     "iopub.status.busy": "2020-10-03T00:45:05.912973Z",
     "iopub.status.idle": "2020-10-03T00:45:05.917139Z",
     "shell.execute_reply": "2020-10-03T00:45:05.918197Z"
    },
    "papermill": {
     "duration": 0.034581,
     "end_time": "2020-10-03T00:45:05.918427",
     "exception": false,
     "start_time": "2020-10-03T00:45:05.883846",
     "status": "completed"
    },
    "tags": []
   },
   "outputs": [
    {
     "name": "stdout",
     "output_type": "stream",
     "text": [
      "/kaggle/input/titanic/test.csv\n",
      "/kaggle/input/titanic/train.csv\n",
      "/kaggle/input/titanic/gender_submission.csv\n"
     ]
    }
   ],
   "source": [
    "# This Python 3 environment comes with many helpful analytics libraries installed\n",
    "# It is defined by the kaggle/python Docker image: https://github.com/kaggle/docker-python\n",
    "# For example, here's several helpful packages to load\n",
    "\n",
    "import numpy as np # linear algebra\n",
    "import pandas as pd # data processing, CSV file I/O (e.g. pd.read_csv)\n",
    "\n",
    "# Input data files are available in the read-only \"../input/\" directory\n",
    "# For example, running this (by clicking run or pressing Shift+Enter) will list all files under the input directory\n",
    "\n",
    "import os\n",
    "for dirname, _, filenames in os.walk('/kaggle/input'):\n",
    "    for filename in filenames:\n",
    "        print(os.path.join(dirname, filename))\n",
    "\n",
    "# You can write up to 5GB to the current directory (/kaggle/working/) that gets preserved as output when you create a version using \"Save & Run All\" \n",
    "# You can also write temporary files to /kaggle/temp/, but they won't be saved outside of the current session"
   ]
  },
  {
   "cell_type": "code",
   "execution_count": 2,
   "metadata": {
    "_cell_guid": "79c7e3d0-c299-4dcb-8224-4455121ee9b0",
    "_uuid": "d629ff2d2480ee46fbb7e2d37f6b5fab8052498a",
    "execution": {
     "iopub.execute_input": "2020-10-03T00:45:05.966104Z",
     "iopub.status.busy": "2020-10-03T00:45:05.965349Z",
     "iopub.status.idle": "2020-10-03T00:45:07.403903Z",
     "shell.execute_reply": "2020-10-03T00:45:07.403061Z"
    },
    "papermill": {
     "duration": 1.464598,
     "end_time": "2020-10-03T00:45:07.404042",
     "exception": false,
     "start_time": "2020-10-03T00:45:05.939444",
     "status": "completed"
    },
    "tags": []
   },
   "outputs": [],
   "source": [
    "from sklearn.ensemble import RandomForestClassifier\n",
    "from sklearn.ensemble import RandomForestRegressor\n",
    "\n",
    "train = pd.read_csv('/kaggle/input/titanic/train.csv')\n",
    "test = pd.read_csv('/kaggle/input/titanic/test.csv')"
   ]
  },
  {
   "cell_type": "code",
   "execution_count": 3,
   "metadata": {
    "execution": {
     "iopub.execute_input": "2020-10-03T00:45:07.467816Z",
     "iopub.status.busy": "2020-10-03T00:45:07.453821Z",
     "iopub.status.idle": "2020-10-03T00:45:07.488936Z",
     "shell.execute_reply": "2020-10-03T00:45:07.488175Z"
    },
    "papermill": {
     "duration": 0.064473,
     "end_time": "2020-10-03T00:45:07.489064",
     "exception": false,
     "start_time": "2020-10-03T00:45:07.424591",
     "status": "completed"
    },
    "tags": []
   },
   "outputs": [
    {
     "data": {
      "text/html": [
       "<div>\n",
       "<style scoped>\n",
       "    .dataframe tbody tr th:only-of-type {\n",
       "        vertical-align: middle;\n",
       "    }\n",
       "\n",
       "    .dataframe tbody tr th {\n",
       "        vertical-align: top;\n",
       "    }\n",
       "\n",
       "    .dataframe thead th {\n",
       "        text-align: right;\n",
       "    }\n",
       "</style>\n",
       "<table border=\"1\" class=\"dataframe\">\n",
       "  <thead>\n",
       "    <tr style=\"text-align: right;\">\n",
       "      <th></th>\n",
       "      <th>PassengerId</th>\n",
       "      <th>Pclass</th>\n",
       "      <th>Name</th>\n",
       "      <th>Sex</th>\n",
       "      <th>Age</th>\n",
       "      <th>SibSp</th>\n",
       "      <th>Parch</th>\n",
       "      <th>Ticket</th>\n",
       "      <th>Fare</th>\n",
       "      <th>Cabin</th>\n",
       "      <th>Embarked</th>\n",
       "    </tr>\n",
       "  </thead>\n",
       "  <tbody>\n",
       "    <tr>\n",
       "      <th>0</th>\n",
       "      <td>892</td>\n",
       "      <td>3</td>\n",
       "      <td>Kelly, Mr. James</td>\n",
       "      <td>male</td>\n",
       "      <td>34.5</td>\n",
       "      <td>0</td>\n",
       "      <td>0</td>\n",
       "      <td>330911</td>\n",
       "      <td>7.8292</td>\n",
       "      <td>NaN</td>\n",
       "      <td>Q</td>\n",
       "    </tr>\n",
       "    <tr>\n",
       "      <th>1</th>\n",
       "      <td>893</td>\n",
       "      <td>3</td>\n",
       "      <td>Wilkes, Mrs. James (Ellen Needs)</td>\n",
       "      <td>female</td>\n",
       "      <td>47.0</td>\n",
       "      <td>1</td>\n",
       "      <td>0</td>\n",
       "      <td>363272</td>\n",
       "      <td>7.0000</td>\n",
       "      <td>NaN</td>\n",
       "      <td>S</td>\n",
       "    </tr>\n",
       "    <tr>\n",
       "      <th>2</th>\n",
       "      <td>894</td>\n",
       "      <td>2</td>\n",
       "      <td>Myles, Mr. Thomas Francis</td>\n",
       "      <td>male</td>\n",
       "      <td>62.0</td>\n",
       "      <td>0</td>\n",
       "      <td>0</td>\n",
       "      <td>240276</td>\n",
       "      <td>9.6875</td>\n",
       "      <td>NaN</td>\n",
       "      <td>Q</td>\n",
       "    </tr>\n",
       "    <tr>\n",
       "      <th>3</th>\n",
       "      <td>895</td>\n",
       "      <td>3</td>\n",
       "      <td>Wirz, Mr. Albert</td>\n",
       "      <td>male</td>\n",
       "      <td>27.0</td>\n",
       "      <td>0</td>\n",
       "      <td>0</td>\n",
       "      <td>315154</td>\n",
       "      <td>8.6625</td>\n",
       "      <td>NaN</td>\n",
       "      <td>S</td>\n",
       "    </tr>\n",
       "    <tr>\n",
       "      <th>4</th>\n",
       "      <td>896</td>\n",
       "      <td>3</td>\n",
       "      <td>Hirvonen, Mrs. Alexander (Helga E Lindqvist)</td>\n",
       "      <td>female</td>\n",
       "      <td>22.0</td>\n",
       "      <td>1</td>\n",
       "      <td>1</td>\n",
       "      <td>3101298</td>\n",
       "      <td>12.2875</td>\n",
       "      <td>NaN</td>\n",
       "      <td>S</td>\n",
       "    </tr>\n",
       "    <tr>\n",
       "      <th>...</th>\n",
       "      <td>...</td>\n",
       "      <td>...</td>\n",
       "      <td>...</td>\n",
       "      <td>...</td>\n",
       "      <td>...</td>\n",
       "      <td>...</td>\n",
       "      <td>...</td>\n",
       "      <td>...</td>\n",
       "      <td>...</td>\n",
       "      <td>...</td>\n",
       "      <td>...</td>\n",
       "    </tr>\n",
       "    <tr>\n",
       "      <th>413</th>\n",
       "      <td>1305</td>\n",
       "      <td>3</td>\n",
       "      <td>Spector, Mr. Woolf</td>\n",
       "      <td>male</td>\n",
       "      <td>NaN</td>\n",
       "      <td>0</td>\n",
       "      <td>0</td>\n",
       "      <td>A.5. 3236</td>\n",
       "      <td>8.0500</td>\n",
       "      <td>NaN</td>\n",
       "      <td>S</td>\n",
       "    </tr>\n",
       "    <tr>\n",
       "      <th>414</th>\n",
       "      <td>1306</td>\n",
       "      <td>1</td>\n",
       "      <td>Oliva y Ocana, Dona. Fermina</td>\n",
       "      <td>female</td>\n",
       "      <td>39.0</td>\n",
       "      <td>0</td>\n",
       "      <td>0</td>\n",
       "      <td>PC 17758</td>\n",
       "      <td>108.9000</td>\n",
       "      <td>C105</td>\n",
       "      <td>C</td>\n",
       "    </tr>\n",
       "    <tr>\n",
       "      <th>415</th>\n",
       "      <td>1307</td>\n",
       "      <td>3</td>\n",
       "      <td>Saether, Mr. Simon Sivertsen</td>\n",
       "      <td>male</td>\n",
       "      <td>38.5</td>\n",
       "      <td>0</td>\n",
       "      <td>0</td>\n",
       "      <td>SOTON/O.Q. 3101262</td>\n",
       "      <td>7.2500</td>\n",
       "      <td>NaN</td>\n",
       "      <td>S</td>\n",
       "    </tr>\n",
       "    <tr>\n",
       "      <th>416</th>\n",
       "      <td>1308</td>\n",
       "      <td>3</td>\n",
       "      <td>Ware, Mr. Frederick</td>\n",
       "      <td>male</td>\n",
       "      <td>NaN</td>\n",
       "      <td>0</td>\n",
       "      <td>0</td>\n",
       "      <td>359309</td>\n",
       "      <td>8.0500</td>\n",
       "      <td>NaN</td>\n",
       "      <td>S</td>\n",
       "    </tr>\n",
       "    <tr>\n",
       "      <th>417</th>\n",
       "      <td>1309</td>\n",
       "      <td>3</td>\n",
       "      <td>Peter, Master. Michael J</td>\n",
       "      <td>male</td>\n",
       "      <td>NaN</td>\n",
       "      <td>1</td>\n",
       "      <td>1</td>\n",
       "      <td>2668</td>\n",
       "      <td>22.3583</td>\n",
       "      <td>NaN</td>\n",
       "      <td>C</td>\n",
       "    </tr>\n",
       "  </tbody>\n",
       "</table>\n",
       "<p>418 rows × 11 columns</p>\n",
       "</div>"
      ],
      "text/plain": [
       "     PassengerId  Pclass                                          Name  \\\n",
       "0            892       3                              Kelly, Mr. James   \n",
       "1            893       3              Wilkes, Mrs. James (Ellen Needs)   \n",
       "2            894       2                     Myles, Mr. Thomas Francis   \n",
       "3            895       3                              Wirz, Mr. Albert   \n",
       "4            896       3  Hirvonen, Mrs. Alexander (Helga E Lindqvist)   \n",
       "..           ...     ...                                           ...   \n",
       "413         1305       3                            Spector, Mr. Woolf   \n",
       "414         1306       1                  Oliva y Ocana, Dona. Fermina   \n",
       "415         1307       3                  Saether, Mr. Simon Sivertsen   \n",
       "416         1308       3                           Ware, Mr. Frederick   \n",
       "417         1309       3                      Peter, Master. Michael J   \n",
       "\n",
       "        Sex   Age  SibSp  Parch              Ticket      Fare Cabin Embarked  \n",
       "0      male  34.5      0      0              330911    7.8292   NaN        Q  \n",
       "1    female  47.0      1      0              363272    7.0000   NaN        S  \n",
       "2      male  62.0      0      0              240276    9.6875   NaN        Q  \n",
       "3      male  27.0      0      0              315154    8.6625   NaN        S  \n",
       "4    female  22.0      1      1             3101298   12.2875   NaN        S  \n",
       "..      ...   ...    ...    ...                 ...       ...   ...      ...  \n",
       "413    male   NaN      0      0           A.5. 3236    8.0500   NaN        S  \n",
       "414  female  39.0      0      0            PC 17758  108.9000  C105        C  \n",
       "415    male  38.5      0      0  SOTON/O.Q. 3101262    7.2500   NaN        S  \n",
       "416    male   NaN      0      0              359309    8.0500   NaN        S  \n",
       "417    male   NaN      1      1                2668   22.3583   NaN        C  \n",
       "\n",
       "[418 rows x 11 columns]"
      ]
     },
     "execution_count": 3,
     "metadata": {},
     "output_type": "execute_result"
    }
   ],
   "source": [
    "test"
   ]
  },
  {
   "cell_type": "code",
   "execution_count": 4,
   "metadata": {
    "execution": {
     "iopub.execute_input": "2020-10-03T00:45:07.548403Z",
     "iopub.status.busy": "2020-10-03T00:45:07.547593Z",
     "iopub.status.idle": "2020-10-03T00:45:07.580344Z",
     "shell.execute_reply": "2020-10-03T00:45:07.580887Z"
    },
    "papermill": {
     "duration": 0.070576,
     "end_time": "2020-10-03T00:45:07.581082",
     "exception": false,
     "start_time": "2020-10-03T00:45:07.510506",
     "status": "completed"
    },
    "tags": []
   },
   "outputs": [
    {
     "data": {
      "text/html": [
       "<div>\n",
       "<style scoped>\n",
       "    .dataframe tbody tr th:only-of-type {\n",
       "        vertical-align: middle;\n",
       "    }\n",
       "\n",
       "    .dataframe tbody tr th {\n",
       "        vertical-align: top;\n",
       "    }\n",
       "\n",
       "    .dataframe thead th {\n",
       "        text-align: right;\n",
       "    }\n",
       "</style>\n",
       "<table border=\"1\" class=\"dataframe\">\n",
       "  <thead>\n",
       "    <tr style=\"text-align: right;\">\n",
       "      <th></th>\n",
       "      <th>PassengerId</th>\n",
       "      <th>Survived</th>\n",
       "      <th>Pclass</th>\n",
       "      <th>Age</th>\n",
       "      <th>SibSp</th>\n",
       "      <th>Parch</th>\n",
       "      <th>Fare</th>\n",
       "    </tr>\n",
       "  </thead>\n",
       "  <tbody>\n",
       "    <tr>\n",
       "      <th>count</th>\n",
       "      <td>891.000000</td>\n",
       "      <td>891.000000</td>\n",
       "      <td>891.000000</td>\n",
       "      <td>714.000000</td>\n",
       "      <td>891.000000</td>\n",
       "      <td>891.000000</td>\n",
       "      <td>891.000000</td>\n",
       "    </tr>\n",
       "    <tr>\n",
       "      <th>mean</th>\n",
       "      <td>446.000000</td>\n",
       "      <td>0.383838</td>\n",
       "      <td>2.308642</td>\n",
       "      <td>29.699118</td>\n",
       "      <td>0.523008</td>\n",
       "      <td>0.381594</td>\n",
       "      <td>32.204208</td>\n",
       "    </tr>\n",
       "    <tr>\n",
       "      <th>std</th>\n",
       "      <td>257.353842</td>\n",
       "      <td>0.486592</td>\n",
       "      <td>0.836071</td>\n",
       "      <td>14.526497</td>\n",
       "      <td>1.102743</td>\n",
       "      <td>0.806057</td>\n",
       "      <td>49.693429</td>\n",
       "    </tr>\n",
       "    <tr>\n",
       "      <th>min</th>\n",
       "      <td>1.000000</td>\n",
       "      <td>0.000000</td>\n",
       "      <td>1.000000</td>\n",
       "      <td>0.420000</td>\n",
       "      <td>0.000000</td>\n",
       "      <td>0.000000</td>\n",
       "      <td>0.000000</td>\n",
       "    </tr>\n",
       "    <tr>\n",
       "      <th>25%</th>\n",
       "      <td>223.500000</td>\n",
       "      <td>0.000000</td>\n",
       "      <td>2.000000</td>\n",
       "      <td>20.125000</td>\n",
       "      <td>0.000000</td>\n",
       "      <td>0.000000</td>\n",
       "      <td>7.910400</td>\n",
       "    </tr>\n",
       "    <tr>\n",
       "      <th>50%</th>\n",
       "      <td>446.000000</td>\n",
       "      <td>0.000000</td>\n",
       "      <td>3.000000</td>\n",
       "      <td>28.000000</td>\n",
       "      <td>0.000000</td>\n",
       "      <td>0.000000</td>\n",
       "      <td>14.454200</td>\n",
       "    </tr>\n",
       "    <tr>\n",
       "      <th>75%</th>\n",
       "      <td>668.500000</td>\n",
       "      <td>1.000000</td>\n",
       "      <td>3.000000</td>\n",
       "      <td>38.000000</td>\n",
       "      <td>1.000000</td>\n",
       "      <td>0.000000</td>\n",
       "      <td>31.000000</td>\n",
       "    </tr>\n",
       "    <tr>\n",
       "      <th>max</th>\n",
       "      <td>891.000000</td>\n",
       "      <td>1.000000</td>\n",
       "      <td>3.000000</td>\n",
       "      <td>80.000000</td>\n",
       "      <td>8.000000</td>\n",
       "      <td>6.000000</td>\n",
       "      <td>512.329200</td>\n",
       "    </tr>\n",
       "  </tbody>\n",
       "</table>\n",
       "</div>"
      ],
      "text/plain": [
       "       PassengerId    Survived      Pclass         Age       SibSp  \\\n",
       "count   891.000000  891.000000  891.000000  714.000000  891.000000   \n",
       "mean    446.000000    0.383838    2.308642   29.699118    0.523008   \n",
       "std     257.353842    0.486592    0.836071   14.526497    1.102743   \n",
       "min       1.000000    0.000000    1.000000    0.420000    0.000000   \n",
       "25%     223.500000    0.000000    2.000000   20.125000    0.000000   \n",
       "50%     446.000000    0.000000    3.000000   28.000000    0.000000   \n",
       "75%     668.500000    1.000000    3.000000   38.000000    1.000000   \n",
       "max     891.000000    1.000000    3.000000   80.000000    8.000000   \n",
       "\n",
       "            Parch        Fare  \n",
       "count  891.000000  891.000000  \n",
       "mean     0.381594   32.204208  \n",
       "std      0.806057   49.693429  \n",
       "min      0.000000    0.000000  \n",
       "25%      0.000000    7.910400  \n",
       "50%      0.000000   14.454200  \n",
       "75%      0.000000   31.000000  \n",
       "max      6.000000  512.329200  "
      ]
     },
     "execution_count": 4,
     "metadata": {},
     "output_type": "execute_result"
    }
   ],
   "source": [
    "train.describe()"
   ]
  },
  {
   "cell_type": "code",
   "execution_count": 5,
   "metadata": {
    "execution": {
     "iopub.execute_input": "2020-10-03T00:45:07.636251Z",
     "iopub.status.busy": "2020-10-03T00:45:07.635175Z",
     "iopub.status.idle": "2020-10-03T00:45:07.638919Z",
     "shell.execute_reply": "2020-10-03T00:45:07.639463Z"
    },
    "papermill": {
     "duration": 0.035375,
     "end_time": "2020-10-03T00:45:07.639625",
     "exception": false,
     "start_time": "2020-10-03T00:45:07.604250",
     "status": "completed"
    },
    "tags": []
   },
   "outputs": [
    {
     "data": {
      "text/plain": [
       "PassengerId      int64\n",
       "Survived         int64\n",
       "Pclass           int64\n",
       "Name            object\n",
       "Sex             object\n",
       "Age            float64\n",
       "SibSp            int64\n",
       "Parch            int64\n",
       "Ticket          object\n",
       "Fare           float64\n",
       "Cabin           object\n",
       "Embarked        object\n",
       "dtype: object"
      ]
     },
     "execution_count": 5,
     "metadata": {},
     "output_type": "execute_result"
    }
   ],
   "source": [
    "train.dtypes"
   ]
  },
  {
   "cell_type": "code",
   "execution_count": 6,
   "metadata": {
    "execution": {
     "iopub.execute_input": "2020-10-03T00:45:07.692160Z",
     "iopub.status.busy": "2020-10-03T00:45:07.691110Z",
     "iopub.status.idle": "2020-10-03T00:45:08.164174Z",
     "shell.execute_reply": "2020-10-03T00:45:08.163381Z"
    },
    "papermill": {
     "duration": 0.501757,
     "end_time": "2020-10-03T00:45:08.164324",
     "exception": false,
     "start_time": "2020-10-03T00:45:07.662567",
     "status": "completed"
    },
    "tags": []
   },
   "outputs": [
    {
     "data": {
      "text/plain": [
       "<matplotlib.axes._subplots.AxesSubplot at 0x7f063fcb7d90>"
      ]
     },
     "execution_count": 6,
     "metadata": {},
     "output_type": "execute_result"
    },
    {
     "data": {
      "image/png": "[encoded data removed]",
      "text/plain": [
       "<Figure size 432x288 with 1 Axes>"
      ]
     },
     "metadata": {
      "needs_background": "light"
     },
     "output_type": "display_data"
    }
   ],
   "source": [
    "import seaborn as sns\n",
    "\n",
    "sns.heatmap(train.isnull(), cbar=False)"
   ]
  },
  {
   "cell_type": "code",
   "execution_count": 7,
   "metadata": {
    "execution": {
     "iopub.execute_input": "2020-10-03T00:45:08.223334Z",
     "iopub.status.busy": "2020-10-03T00:45:08.222226Z",
     "iopub.status.idle": "2020-10-03T00:45:08.476509Z",
     "shell.execute_reply": "2020-10-03T00:45:08.475867Z"
    },
    "papermill": {
     "duration": 0.28757,
     "end_time": "2020-10-03T00:45:08.476640",
     "exception": false,
     "start_time": "2020-10-03T00:45:08.189070",
     "status": "completed"
    },
    "tags": []
   },
   "outputs": [
    {
     "data": {
      "text/plain": [
       "<matplotlib.axes._subplots.AxesSubplot at 0x7f063fa39990>"
      ]
     },
     "execution_count": 7,
     "metadata": {},
     "output_type": "execute_result"
    },
    {
     "data": {
      "image/png": "[encoded data removed]",
      "text/plain": [
       "<Figure size 432x288 with 1 Axes>"
      ]
     },
     "metadata": {
      "needs_background": "light"
     },
     "output_type": "display_data"
    }
   ],
   "source": [
    "train['Age'] = train['Age'].fillna(train['Age'].median())\n",
    "\n",
    "\n",
    "# vamos a revisar si los valores nulos\n",
    "sns.heatmap(train.isnull(), cbar=False)"
   ]
  },
  {
   "cell_type": "code",
   "execution_count": 8,
   "metadata": {
    "execution": {
     "iopub.execute_input": "2020-10-03T00:45:08.544398Z",
     "iopub.status.busy": "2020-10-03T00:45:08.539621Z",
     "iopub.status.idle": "2020-10-03T00:45:08.899028Z",
     "shell.execute_reply": "2020-10-03T00:45:08.898194Z"
    },
    "papermill": {
     "duration": 0.396355,
     "end_time": "2020-10-03T00:45:08.899205",
     "exception": false,
     "start_time": "2020-10-03T00:45:08.502850",
     "status": "completed"
    },
    "tags": []
   },
   "outputs": [
    {
     "data": {
      "text/plain": [
       "<matplotlib.axes._subplots.AxesSubplot at 0x7f063fb04b50>"
      ]
     },
     "execution_count": 8,
     "metadata": {},
     "output_type": "execute_result"
    },
    {
     "data": {
      "image/png": "[encoded data removed]",
      "text/plain": [
       "<Figure size 432x288 with 1 Axes>"
      ]
     },
     "metadata": {
      "needs_background": "light"
     },
     "output_type": "display_data"
    }
   ],
   "source": [
    "test['Age'] = test['Age'].fillna(test['Age'].median())\n",
    "test['Fare'] = test['Fare'].fillna(test['Fare'].median())\n",
    "\n",
    "sns.heatmap(test.isnull(), cbar=False)"
   ]
  },
  {
   "cell_type": "code",
   "execution_count": 9,
   "metadata": {
    "execution": {
     "iopub.execute_input": "2020-10-03T00:45:08.967132Z",
     "iopub.status.busy": "2020-10-03T00:45:08.966207Z",
     "iopub.status.idle": "2020-10-03T00:45:09.162040Z",
     "shell.execute_reply": "2020-10-03T00:45:09.161318Z"
    },
    "papermill": {
     "duration": 0.233066,
     "end_time": "2020-10-03T00:45:09.162168",
     "exception": false,
     "start_time": "2020-10-03T00:45:08.929102",
     "status": "completed"
    },
    "tags": []
   },
   "outputs": [
    {
     "data": {
      "text/html": [
       "<style  type=\"text/css\" >\n",
       "#T_b011a176_0511_11eb_b363_0242ac130202row0_col0,#T_b011a176_0511_11eb_b363_0242ac130202row1_col1,#T_b011a176_0511_11eb_b363_0242ac130202row2_col2,#T_b011a176_0511_11eb_b363_0242ac130202row3_col3,#T_b011a176_0511_11eb_b363_0242ac130202row4_col4,#T_b011a176_0511_11eb_b363_0242ac130202row5_col5,#T_b011a176_0511_11eb_b363_0242ac130202row6_col6{\n",
       "            background-color:  #f0f921;\n",
       "            color:  #000000;\n",
       "        }#T_b011a176_0511_11eb_b363_0242ac130202row0_col1{\n",
       "            background-color:  #7d03a8;\n",
       "            color:  #f1f1f1;\n",
       "        }#T_b011a176_0511_11eb_b363_0242ac130202row0_col2,#T_b011a176_0511_11eb_b363_0242ac130202row6_col5{\n",
       "            background-color:  #9a169f;\n",
       "            color:  #f1f1f1;\n",
       "        }#T_b011a176_0511_11eb_b363_0242ac130202row0_col3{\n",
       "            background-color:  #8808a6;\n",
       "            color:  #f1f1f1;\n",
       "        }#T_b011a176_0511_11eb_b363_0242ac130202row0_col4{\n",
       "            background-color:  #5302a3;\n",
       "            color:  #f1f1f1;\n",
       "        }#T_b011a176_0511_11eb_b363_0242ac130202row0_col5{\n",
       "            background-color:  #5502a4;\n",
       "            color:  #f1f1f1;\n",
       "        }#T_b011a176_0511_11eb_b363_0242ac130202row0_col6{\n",
       "            background-color:  #a51f99;\n",
       "            color:  #f1f1f1;\n",
       "        }#T_b011a176_0511_11eb_b363_0242ac130202row1_col0{\n",
       "            background-color:  #2a0593;\n",
       "            color:  #f1f1f1;\n",
       "        }#T_b011a176_0511_11eb_b363_0242ac130202row1_col2,#T_b011a176_0511_11eb_b363_0242ac130202row3_col2{\n",
       "            background-color:  #5002a2;\n",
       "            color:  #f1f1f1;\n",
       "        }#T_b011a176_0511_11eb_b363_0242ac130202row1_col3,#T_b011a176_0511_11eb_b363_0242ac130202row3_col1{\n",
       "            background-color:  #6c00a8;\n",
       "            color:  #f1f1f1;\n",
       "        }#T_b011a176_0511_11eb_b363_0242ac130202row1_col4,#T_b011a176_0511_11eb_b363_0242ac130202row2_col5{\n",
       "            background-color:  #5b01a5;\n",
       "            color:  #f1f1f1;\n",
       "        }#T_b011a176_0511_11eb_b363_0242ac130202row1_col5{\n",
       "            background-color:  #7100a8;\n",
       "            color:  #f1f1f1;\n",
       "        }#T_b011a176_0511_11eb_b363_0242ac130202row1_col6{\n",
       "            background-color:  #d04d73;\n",
       "            color:  #000000;\n",
       "        }#T_b011a176_0511_11eb_b363_0242ac130202row2_col0{\n",
       "            background-color:  #1b068d;\n",
       "            color:  #f1f1f1;\n",
       "        }#T_b011a176_0511_11eb_b363_0242ac130202row2_col1,#T_b011a176_0511_11eb_b363_0242ac130202row2_col3,#T_b011a176_0511_11eb_b363_0242ac130202row2_col6,#T_b011a176_0511_11eb_b363_0242ac130202row3_col4,#T_b011a176_0511_11eb_b363_0242ac130202row3_col5,#T_b011a176_0511_11eb_b363_0242ac130202row4_col0,#T_b011a176_0511_11eb_b363_0242ac130202row6_col2{\n",
       "            background-color:  #0d0887;\n",
       "            color:  #f1f1f1;\n",
       "        }#T_b011a176_0511_11eb_b363_0242ac130202row2_col4{\n",
       "            background-color:  #8004a8;\n",
       "            color:  #f1f1f1;\n",
       "        }#T_b011a176_0511_11eb_b363_0242ac130202row3_col0{\n",
       "            background-color:  #3c049b;\n",
       "            color:  #f1f1f1;\n",
       "        }#T_b011a176_0511_11eb_b363_0242ac130202row3_col6{\n",
       "            background-color:  #b52f8c;\n",
       "            color:  #f1f1f1;\n",
       "        }#T_b011a176_0511_11eb_b363_0242ac130202row4_col1{\n",
       "            background-color:  #7401a8;\n",
       "            color:  #f1f1f1;\n",
       "        }#T_b011a176_0511_11eb_b363_0242ac130202row4_col2{\n",
       "            background-color:  #b32c8e;\n",
       "            color:  #f1f1f1;\n",
       "        }#T_b011a176_0511_11eb_b363_0242ac130202row4_col3{\n",
       "            background-color:  #38049a;\n",
       "            color:  #f1f1f1;\n",
       "        }#T_b011a176_0511_11eb_b363_0242ac130202row4_col5{\n",
       "            background-color:  #cc4778;\n",
       "            color:  #f1f1f1;\n",
       "        }#T_b011a176_0511_11eb_b363_0242ac130202row4_col6{\n",
       "            background-color:  #c13b82;\n",
       "            color:  #f1f1f1;\n",
       "        }#T_b011a176_0511_11eb_b363_0242ac130202row5_col0{\n",
       "            background-color:  #2c0594;\n",
       "            color:  #f1f1f1;\n",
       "        }#T_b011a176_0511_11eb_b363_0242ac130202row5_col1{\n",
       "            background-color:  #9511a1;\n",
       "            color:  #f1f1f1;\n",
       "        }#T_b011a176_0511_11eb_b363_0242ac130202row5_col2{\n",
       "            background-color:  #a62098;\n",
       "            color:  #f1f1f1;\n",
       "        }#T_b011a176_0511_11eb_b363_0242ac130202row5_col3{\n",
       "            background-color:  #4b03a1;\n",
       "            color:  #f1f1f1;\n",
       "        }#T_b011a176_0511_11eb_b363_0242ac130202row5_col4{\n",
       "            background-color:  #d14e72;\n",
       "            color:  #000000;\n",
       "        }#T_b011a176_0511_11eb_b363_0242ac130202row5_col6{\n",
       "            background-color:  #ca457a;\n",
       "            color:  #f1f1f1;\n",
       "        }#T_b011a176_0511_11eb_b363_0242ac130202row6_col0{\n",
       "            background-color:  #310597;\n",
       "            color:  #f1f1f1;\n",
       "        }#T_b011a176_0511_11eb_b363_0242ac130202row6_col1{\n",
       "            background-color:  #bd3786;\n",
       "            color:  #f1f1f1;\n",
       "        }#T_b011a176_0511_11eb_b363_0242ac130202row6_col3{\n",
       "            background-color:  #99159f;\n",
       "            color:  #f1f1f1;\n",
       "        }#T_b011a176_0511_11eb_b363_0242ac130202row6_col4{\n",
       "            background-color:  #9613a1;\n",
       "            color:  #f1f1f1;\n",
       "        }</style><table id=\"T_b011a176_0511_11eb_b363_0242ac130202\" ><thead>    <tr>        <th class=\"blank level0\" ></th>        <th class=\"col_heading level0 col0\" >PassengerId</th>        <th class=\"col_heading level0 col1\" >Survived</th>        <th class=\"col_heading level0 col2\" >Pclass</th>        <th class=\"col_heading level0 col3\" >Age</th>        <th class=\"col_heading level0 col4\" >SibSp</th>        <th class=\"col_heading level0 col5\" >Parch</th>        <th class=\"col_heading level0 col6\" >Fare</th>    </tr></thead><tbody>\n",
       "                <tr>\n",
       "                        <th id=\"T_b011a176_0511_11eb_b363_0242ac130202level0_row0\" class=\"row_heading level0 row0\" >PassengerId</th>\n",
       "                        <td id=\"T_b011a176_0511_11eb_b363_0242ac130202row0_col0\" class=\"data row0 col0\" >1.00</td>\n",
       "                        <td id=\"T_b011a176_0511_11eb_b363_0242ac130202row0_col1\" class=\"data row0 col1\" >-0.01</td>\n",
       "                        <td id=\"T_b011a176_0511_11eb_b363_0242ac130202row0_col2\" class=\"data row0 col2\" >-0.04</td>\n",
       "                        <td id=\"T_b011a176_0511_11eb_b363_0242ac130202row0_col3\" class=\"data row0 col3\" >0.03</td>\n",
       "                        <td id=\"T_b011a176_0511_11eb_b363_0242ac130202row0_col4\" class=\"data row0 col4\" >-0.06</td>\n",
       "                        <td id=\"T_b011a176_0511_11eb_b363_0242ac130202row0_col5\" class=\"data row0 col5\" >-0.00</td>\n",
       "                        <td id=\"T_b011a176_0511_11eb_b363_0242ac130202row0_col6\" class=\"data row0 col6\" >0.01</td>\n",
       "            </tr>\n",
       "            <tr>\n",
       "                        <th id=\"T_b011a176_0511_11eb_b363_0242ac130202level0_row1\" class=\"row_heading level0 row1\" >Survived</th>\n",
       "                        <td id=\"T_b011a176_0511_11eb_b363_0242ac130202row1_col0\" class=\"data row1 col0\" >-0.01</td>\n",
       "                        <td id=\"T_b011a176_0511_11eb_b363_0242ac130202row1_col1\" class=\"data row1 col1\" >1.00</td>\n",
       "                        <td id=\"T_b011a176_0511_11eb_b363_0242ac130202row1_col2\" class=\"data row1 col2\" >-0.34</td>\n",
       "                        <td id=\"T_b011a176_0511_11eb_b363_0242ac130202row1_col3\" class=\"data row1 col3\" >-0.06</td>\n",
       "                        <td id=\"T_b011a176_0511_11eb_b363_0242ac130202row1_col4\" class=\"data row1 col4\" >-0.04</td>\n",
       "                        <td id=\"T_b011a176_0511_11eb_b363_0242ac130202row1_col5\" class=\"data row1 col5\" >0.08</td>\n",
       "                        <td id=\"T_b011a176_0511_11eb_b363_0242ac130202row1_col6\" class=\"data row1 col6\" >0.26</td>\n",
       "            </tr>\n",
       "            <tr>\n",
       "                        <th id=\"T_b011a176_0511_11eb_b363_0242ac130202level0_row2\" class=\"row_heading level0 row2\" >Pclass</th>\n",
       "                        <td id=\"T_b011a176_0511_11eb_b363_0242ac130202row2_col0\" class=\"data row2 col0\" >-0.04</td>\n",
       "                        <td id=\"T_b011a176_0511_11eb_b363_0242ac130202row2_col1\" class=\"data row2 col1\" >-0.34</td>\n",
       "                        <td id=\"T_b011a176_0511_11eb_b363_0242ac130202row2_col2\" class=\"data row2 col2\" >1.00</td>\n",
       "                        <td id=\"T_b011a176_0511_11eb_b363_0242ac130202row2_col3\" class=\"data row2 col3\" >-0.34</td>\n",
       "                        <td id=\"T_b011a176_0511_11eb_b363_0242ac130202row2_col4\" class=\"data row2 col4\" >0.08</td>\n",
       "                        <td id=\"T_b011a176_0511_11eb_b363_0242ac130202row2_col5\" class=\"data row2 col5\" >0.02</td>\n",
       "                        <td id=\"T_b011a176_0511_11eb_b363_0242ac130202row2_col6\" class=\"data row2 col6\" >-0.55</td>\n",
       "            </tr>\n",
       "            <tr>\n",
       "                        <th id=\"T_b011a176_0511_11eb_b363_0242ac130202level0_row3\" class=\"row_heading level0 row3\" >Age</th>\n",
       "                        <td id=\"T_b011a176_0511_11eb_b363_0242ac130202row3_col0\" class=\"data row3 col0\" >0.03</td>\n",
       "                        <td id=\"T_b011a176_0511_11eb_b363_0242ac130202row3_col1\" class=\"data row3 col1\" >-0.06</td>\n",
       "                        <td id=\"T_b011a176_0511_11eb_b363_0242ac130202row3_col2\" class=\"data row3 col2\" >-0.34</td>\n",
       "                        <td id=\"T_b011a176_0511_11eb_b363_0242ac130202row3_col3\" class=\"data row3 col3\" >1.00</td>\n",
       "                        <td id=\"T_b011a176_0511_11eb_b363_0242ac130202row3_col4\" class=\"data row3 col4\" >-0.23</td>\n",
       "                        <td id=\"T_b011a176_0511_11eb_b363_0242ac130202row3_col5\" class=\"data row3 col5\" >-0.17</td>\n",
       "                        <td id=\"T_b011a176_0511_11eb_b363_0242ac130202row3_col6\" class=\"data row3 col6\" >0.10</td>\n",
       "            </tr>\n",
       "            <tr>\n",
       "                        <th id=\"T_b011a176_0511_11eb_b363_0242ac130202level0_row4\" class=\"row_heading level0 row4\" >SibSp</th>\n",
       "                        <td id=\"T_b011a176_0511_11eb_b363_0242ac130202row4_col0\" class=\"data row4 col0\" >-0.06</td>\n",
       "                        <td id=\"T_b011a176_0511_11eb_b363_0242ac130202row4_col1\" class=\"data row4 col1\" >-0.04</td>\n",
       "                        <td id=\"T_b011a176_0511_11eb_b363_0242ac130202row4_col2\" class=\"data row4 col2\" >0.08</td>\n",
       "                        <td id=\"T_b011a176_0511_11eb_b363_0242ac130202row4_col3\" class=\"data row4 col3\" >-0.23</td>\n",
       "                        <td id=\"T_b011a176_0511_11eb_b363_0242ac130202row4_col4\" class=\"data row4 col4\" >1.00</td>\n",
       "                        <td id=\"T_b011a176_0511_11eb_b363_0242ac130202row4_col5\" class=\"data row4 col5\" >0.41</td>\n",
       "                        <td id=\"T_b011a176_0511_11eb_b363_0242ac130202row4_col6\" class=\"data row4 col6\" >0.16</td>\n",
       "            </tr>\n",
       "            <tr>\n",
       "                        <th id=\"T_b011a176_0511_11eb_b363_0242ac130202level0_row5\" class=\"row_heading level0 row5\" >Parch</th>\n",
       "                        <td id=\"T_b011a176_0511_11eb_b363_0242ac130202row5_col0\" class=\"data row5 col0\" >-0.00</td>\n",
       "                        <td id=\"T_b011a176_0511_11eb_b363_0242ac130202row5_col1\" class=\"data row5 col1\" >0.08</td>\n",
       "                        <td id=\"T_b011a176_0511_11eb_b363_0242ac130202row5_col2\" class=\"data row5 col2\" >0.02</td>\n",
       "                        <td id=\"T_b011a176_0511_11eb_b363_0242ac130202row5_col3\" class=\"data row5 col3\" >-0.17</td>\n",
       "                        <td id=\"T_b011a176_0511_11eb_b363_0242ac130202row5_col4\" class=\"data row5 col4\" >0.41</td>\n",
       "                        <td id=\"T_b011a176_0511_11eb_b363_0242ac130202row5_col5\" class=\"data row5 col5\" >1.00</td>\n",
       "                        <td id=\"T_b011a176_0511_11eb_b363_0242ac130202row5_col6\" class=\"data row5 col6\" >0.22</td>\n",
       "            </tr>\n",
       "            <tr>\n",
       "                        <th id=\"T_b011a176_0511_11eb_b363_0242ac130202level0_row6\" class=\"row_heading level0 row6\" >Fare</th>\n",
       "                        <td id=\"T_b011a176_0511_11eb_b363_0242ac130202row6_col0\" class=\"data row6 col0\" >0.01</td>\n",
       "                        <td id=\"T_b011a176_0511_11eb_b363_0242ac130202row6_col1\" class=\"data row6 col1\" >0.26</td>\n",
       "                        <td id=\"T_b011a176_0511_11eb_b363_0242ac130202row6_col2\" class=\"data row6 col2\" >-0.55</td>\n",
       "                        <td id=\"T_b011a176_0511_11eb_b363_0242ac130202row6_col3\" class=\"data row6 col3\" >0.10</td>\n",
       "                        <td id=\"T_b011a176_0511_11eb_b363_0242ac130202row6_col4\" class=\"data row6 col4\" >0.16</td>\n",
       "                        <td id=\"T_b011a176_0511_11eb_b363_0242ac130202row6_col5\" class=\"data row6 col5\" >0.22</td>\n",
       "                        <td id=\"T_b011a176_0511_11eb_b363_0242ac130202row6_col6\" class=\"data row6 col6\" >1.00</td>\n",
       "            </tr>\n",
       "    </tbody></table>"
      ],
      "text/plain": [
       "<pandas.io.formats.style.Styler at 0x7f063f967ad0>"
      ]
     },
     "execution_count": 9,
     "metadata": {},
     "output_type": "execute_result"
    }
   ],
   "source": [
    "corr = train.corr()\n",
    "corr.style.background_gradient(cmap='plasma').set_precision(2)"
   ]
  },
  {
   "cell_type": "code",
   "execution_count": 10,
   "metadata": {
    "execution": {
     "iopub.execute_input": "2020-10-03T00:45:09.239792Z",
     "iopub.status.busy": "2020-10-03T00:45:09.238743Z",
     "iopub.status.idle": "2020-10-03T00:45:09.242587Z",
     "shell.execute_reply": "2020-10-03T00:45:09.241928Z"
    },
    "papermill": {
     "duration": 0.051553,
     "end_time": "2020-10-03T00:45:09.242772",
     "exception": false,
     "start_time": "2020-10-03T00:45:09.191219",
     "status": "completed"
    },
    "tags": []
   },
   "outputs": [],
   "source": [
    "train = train.drop('Name',axis = 1)\n",
    "train = train.drop('Sex',axis = 1)\n",
    "train = train.drop('Ticket',axis = 1)\n",
    "train = train.drop('Cabin',axis = 1)\n",
    "\n",
    "\n",
    "test = test.drop('Name',axis = 1)\n",
    "test = test.drop('Sex',axis = 1)\n",
    "test = test.drop('Ticket',axis = 1)\n",
    "test = test.drop('Cabin',axis = 1)"
   ]
  },
  {
   "cell_type": "code",
   "execution_count": 11,
   "metadata": {
    "execution": {
     "iopub.execute_input": "2020-10-03T00:45:09.317966Z",
     "iopub.status.busy": "2020-10-03T00:45:09.317161Z",
     "iopub.status.idle": "2020-10-03T00:45:09.540254Z",
     "shell.execute_reply": "2020-10-03T00:45:09.539503Z"
    },
    "papermill": {
     "duration": 0.268008,
     "end_time": "2020-10-03T00:45:09.540405",
     "exception": false,
     "start_time": "2020-10-03T00:45:09.272397",
     "status": "completed"
    },
    "tags": []
   },
   "outputs": [
    {
     "data": {
      "text/plain": [
       "<matplotlib.axes._subplots.AxesSubplot at 0x7f063f8049d0>"
      ]
     },
     "execution_count": 11,
     "metadata": {},
     "output_type": "execute_result"
    },
    {
     "data": {
      "image/png": "[encoded data removed]",
      "text/plain": [
       "<Figure size 432x288 with 1 Axes>"
      ]
     },
     "metadata": {
      "needs_background": "light"
     },
     "output_type": "display_data"
    }
   ],
   "source": [
    "sns.heatmap(train.isnull(), cbar=False)"
   ]
  },
  {
   "cell_type": "code",
   "execution_count": 12,
   "metadata": {
    "execution": {
     "iopub.execute_input": "2020-10-03T00:45:09.614421Z",
     "iopub.status.busy": "2020-10-03T00:45:09.608931Z",
     "iopub.status.idle": "2020-10-03T00:45:09.814312Z",
     "shell.execute_reply": "2020-10-03T00:45:09.813536Z"
    },
    "papermill": {
     "duration": 0.243841,
     "end_time": "2020-10-03T00:45:09.814439",
     "exception": false,
     "start_time": "2020-10-03T00:45:09.570598",
     "status": "completed"
    },
    "tags": []
   },
   "outputs": [
    {
     "data": {
      "text/plain": [
       "<matplotlib.axes._subplots.AxesSubplot at 0x7f063f7d8c50>"
      ]
     },
     "execution_count": 12,
     "metadata": {},
     "output_type": "execute_result"
    },
    {
     "data": {
      "image/png": "[encoded data removed]",
      "text/plain": [
       "<Figure size 432x288 with 1 Axes>"
      ]
     },
     "metadata": {
      "needs_background": "light"
     },
     "output_type": "display_data"
    }
   ],
   "source": [
    "sns.heatmap(test.isnull(), cbar=False)"
   ]
  },
  {
   "cell_type": "code",
   "execution_count": 13,
   "metadata": {
    "execution": {
     "iopub.execute_input": "2020-10-03T00:45:09.886343Z",
     "iopub.status.busy": "2020-10-03T00:45:09.885561Z",
     "iopub.status.idle": "2020-10-03T00:45:09.889188Z",
     "shell.execute_reply": "2020-10-03T00:45:09.888460Z"
    },
    "papermill": {
     "duration": 0.042959,
     "end_time": "2020-10-03T00:45:09.889330",
     "exception": false,
     "start_time": "2020-10-03T00:45:09.846371",
     "status": "completed"
    },
    "tags": []
   },
   "outputs": [],
   "source": [
    "for i in [train, test]:\n",
    "    i['Embarked'] = i['Embarked'].fillna('S')"
   ]
  },
  {
   "cell_type": "code",
   "execution_count": 14,
   "metadata": {
    "execution": {
     "iopub.execute_input": "2020-10-03T00:45:09.978118Z",
     "iopub.status.busy": "2020-10-03T00:45:09.972894Z",
     "iopub.status.idle": "2020-10-03T00:45:09.982478Z",
     "shell.execute_reply": "2020-10-03T00:45:09.981718Z"
    },
    "papermill": {
     "duration": 0.061388,
     "end_time": "2020-10-03T00:45:09.982604",
     "exception": false,
     "start_time": "2020-10-03T00:45:09.921216",
     "status": "completed"
    },
    "tags": []
   },
   "outputs": [],
   "source": [
    "from sklearn.preprocessing import OneHotEncoder\n",
    "\n",
    "enc = OneHotEncoder(handle_unknown='ignore')\n",
    "\n",
    "\n",
    "enc_df = pd.DataFrame(enc.fit_transform(train[['Embarked']]).toarray())\n",
    "train = train.join(enc_df)\n",
    "\n",
    "enc_df = pd.DataFrame(enc.fit_transform(test[['Embarked']]).toarray())\n",
    "test = test.join(enc_df)\n",
    "\n",
    "\n",
    "train = train.drop('Embarked',axis = 1)\n",
    "test = test.drop('Embarked',axis = 1)"
   ]
  },
  {
   "cell_type": "code",
   "execution_count": 15,
   "metadata": {
    "execution": {
     "iopub.execute_input": "2020-10-03T00:45:10.061347Z",
     "iopub.status.busy": "2020-10-03T00:45:10.059177Z",
     "iopub.status.idle": "2020-10-03T00:45:10.099079Z",
     "shell.execute_reply": "2020-10-03T00:45:10.098455Z"
    },
    "papermill": {
     "duration": 0.08366,
     "end_time": "2020-10-03T00:45:10.099201",
     "exception": false,
     "start_time": "2020-10-03T00:45:10.015541",
     "status": "completed"
    },
    "tags": []
   },
   "outputs": [
    {
     "data": {
      "text/html": [
       "<div>\n",
       "<style scoped>\n",
       "    .dataframe tbody tr th:only-of-type {\n",
       "        vertical-align: middle;\n",
       "    }\n",
       "\n",
       "    .dataframe tbody tr th {\n",
       "        vertical-align: top;\n",
       "    }\n",
       "\n",
       "    .dataframe thead th {\n",
       "        text-align: right;\n",
       "    }\n",
       "</style>\n",
       "<table border=\"1\" class=\"dataframe\">\n",
       "  <thead>\n",
       "    <tr style=\"text-align: right;\">\n",
       "      <th></th>\n",
       "      <th>PassengerId</th>\n",
       "      <th>Survived</th>\n",
       "      <th>Pclass</th>\n",
       "      <th>Age</th>\n",
       "      <th>SibSp</th>\n",
       "      <th>Parch</th>\n",
       "      <th>Fare</th>\n",
       "      <th>0</th>\n",
       "      <th>1</th>\n",
       "      <th>2</th>\n",
       "    </tr>\n",
       "  </thead>\n",
       "  <tbody>\n",
       "    <tr>\n",
       "      <th>count</th>\n",
       "      <td>891.000000</td>\n",
       "      <td>891.000000</td>\n",
       "      <td>891.000000</td>\n",
       "      <td>891.000000</td>\n",
       "      <td>891.000000</td>\n",
       "      <td>891.000000</td>\n",
       "      <td>891.000000</td>\n",
       "      <td>891.000000</td>\n",
       "      <td>891.000000</td>\n",
       "      <td>891.000000</td>\n",
       "    </tr>\n",
       "    <tr>\n",
       "      <th>mean</th>\n",
       "      <td>446.000000</td>\n",
       "      <td>0.383838</td>\n",
       "      <td>2.308642</td>\n",
       "      <td>29.361582</td>\n",
       "      <td>0.523008</td>\n",
       "      <td>0.381594</td>\n",
       "      <td>32.204208</td>\n",
       "      <td>0.188552</td>\n",
       "      <td>0.086420</td>\n",
       "      <td>0.725028</td>\n",
       "    </tr>\n",
       "    <tr>\n",
       "      <th>std</th>\n",
       "      <td>257.353842</td>\n",
       "      <td>0.486592</td>\n",
       "      <td>0.836071</td>\n",
       "      <td>13.019697</td>\n",
       "      <td>1.102743</td>\n",
       "      <td>0.806057</td>\n",
       "      <td>49.693429</td>\n",
       "      <td>0.391372</td>\n",
       "      <td>0.281141</td>\n",
       "      <td>0.446751</td>\n",
       "    </tr>\n",
       "    <tr>\n",
       "      <th>min</th>\n",
       "      <td>1.000000</td>\n",
       "      <td>0.000000</td>\n",
       "      <td>1.000000</td>\n",
       "      <td>0.420000</td>\n",
       "      <td>0.000000</td>\n",
       "      <td>0.000000</td>\n",
       "      <td>0.000000</td>\n",
       "      <td>0.000000</td>\n",
       "      <td>0.000000</td>\n",
       "      <td>0.000000</td>\n",
       "    </tr>\n",
       "    <tr>\n",
       "      <th>25%</th>\n",
       "      <td>223.500000</td>\n",
       "      <td>0.000000</td>\n",
       "      <td>2.000000</td>\n",
       "      <td>22.000000</td>\n",
       "      <td>0.000000</td>\n",
       "      <td>0.000000</td>\n",
       "      <td>7.910400</td>\n",
       "      <td>0.000000</td>\n",
       "      <td>0.000000</td>\n",
       "      <td>0.000000</td>\n",
       "    </tr>\n",
       "    <tr>\n",
       "      <th>50%</th>\n",
       "      <td>446.000000</td>\n",
       "      <td>0.000000</td>\n",
       "      <td>3.000000</td>\n",
       "      <td>28.000000</td>\n",
       "      <td>0.000000</td>\n",
       "      <td>0.000000</td>\n",
       "      <td>14.454200</td>\n",
       "      <td>0.000000</td>\n",
       "      <td>0.000000</td>\n",
       "      <td>1.000000</td>\n",
       "    </tr>\n",
       "    <tr>\n",
       "      <th>75%</th>\n",
       "      <td>668.500000</td>\n",
       "      <td>1.000000</td>\n",
       "      <td>3.000000</td>\n",
       "      <td>35.000000</td>\n",
       "      <td>1.000000</td>\n",
       "      <td>0.000000</td>\n",
       "      <td>31.000000</td>\n",
       "      <td>0.000000</td>\n",
       "      <td>0.000000</td>\n",
       "      <td>1.000000</td>\n",
       "    </tr>\n",
       "    <tr>\n",
       "      <th>max</th>\n",
       "      <td>891.000000</td>\n",
       "      <td>1.000000</td>\n",
       "      <td>3.000000</td>\n",
       "      <td>80.000000</td>\n",
       "      <td>8.000000</td>\n",
       "      <td>6.000000</td>\n",
       "      <td>512.329200</td>\n",
       "      <td>1.000000</td>\n",
       "      <td>1.000000</td>\n",
       "      <td>1.000000</td>\n",
       "    </tr>\n",
       "  </tbody>\n",
       "</table>\n",
       "</div>"
      ],
      "text/plain": [
       "       PassengerId    Survived      Pclass         Age       SibSp  \\\n",
       "count   891.000000  891.000000  891.000000  891.000000  891.000000   \n",
       "mean    446.000000    0.383838    2.308642   29.361582    0.523008   \n",
       "std     257.353842    0.486592    0.836071   13.019697    1.102743   \n",
       "min       1.000000    0.000000    1.000000    0.420000    0.000000   \n",
       "25%     223.500000    0.000000    2.000000   22.000000    0.000000   \n",
       "50%     446.000000    0.000000    3.000000   28.000000    0.000000   \n",
       "75%     668.500000    1.000000    3.000000   35.000000    1.000000   \n",
       "max     891.000000    1.000000    3.000000   80.000000    8.000000   \n",
       "\n",
       "            Parch        Fare           0           1           2  \n",
       "count  891.000000  891.000000  891.000000  891.000000  891.000000  \n",
       "mean     0.381594   32.204208    0.188552    0.086420    0.725028  \n",
       "std      0.806057   49.693429    0.391372    0.281141    0.446751  \n",
       "min      0.000000    0.000000    0.000000    0.000000    0.000000  \n",
       "25%      0.000000    7.910400    0.000000    0.000000    0.000000  \n",
       "50%      0.000000   14.454200    0.000000    0.000000    1.000000  \n",
       "75%      0.000000   31.000000    0.000000    0.000000    1.000000  \n",
       "max      6.000000  512.329200    1.000000    1.000000    1.000000  "
      ]
     },
     "execution_count": 15,
     "metadata": {},
     "output_type": "execute_result"
    }
   ],
   "source": [
    "train.describe()"
   ]
  },
  {
   "cell_type": "code",
   "execution_count": 16,
   "metadata": {
    "execution": {
     "iopub.execute_input": "2020-10-03T00:45:10.173879Z",
     "iopub.status.busy": "2020-10-03T00:45:10.173053Z",
     "iopub.status.idle": "2020-10-03T00:45:10.176809Z",
     "shell.execute_reply": "2020-10-03T00:45:10.177423Z"
    },
    "papermill": {
     "duration": 0.045467,
     "end_time": "2020-10-03T00:45:10.177584",
     "exception": false,
     "start_time": "2020-10-03T00:45:10.132117",
     "status": "completed"
    },
    "tags": []
   },
   "outputs": [
    {
     "data": {
      "text/plain": [
       "PassengerId      int64\n",
       "Survived         int64\n",
       "Pclass           int64\n",
       "Age            float64\n",
       "SibSp            int64\n",
       "Parch            int64\n",
       "Fare           float64\n",
       "0              float64\n",
       "1              float64\n",
       "2              float64\n",
       "dtype: object"
      ]
     },
     "execution_count": 16,
     "metadata": {},
     "output_type": "execute_result"
    }
   ],
   "source": [
    "train.dtypes"
   ]
  },
  {
   "cell_type": "code",
   "execution_count": 17,
   "metadata": {
    "execution": {
     "iopub.execute_input": "2020-10-03T00:45:10.296449Z",
     "iopub.status.busy": "2020-10-03T00:45:10.295544Z",
     "iopub.status.idle": "2020-10-03T00:45:10.300011Z",
     "shell.execute_reply": "2020-10-03T00:45:10.298989Z"
    },
    "papermill": {
     "duration": 0.0682,
     "end_time": "2020-10-03T00:45:10.300190",
     "exception": false,
     "start_time": "2020-10-03T00:45:10.231990",
     "status": "completed"
    },
    "tags": []
   },
   "outputs": [],
   "source": [
    "X = np.array(train.iloc[:,train.columns != 'Survived'])\n",
    "y = np.array(train.Survived).reshape(-1,1)"
   ]
  },
  {
   "cell_type": "code",
   "execution_count": 18,
   "metadata": {
    "execution": {
     "iopub.execute_input": "2020-10-03T00:45:10.381516Z",
     "iopub.status.busy": "2020-10-03T00:45:10.380409Z",
     "iopub.status.idle": "2020-10-03T00:45:10.723371Z",
     "shell.execute_reply": "2020-10-03T00:45:10.722603Z"
    },
    "papermill": {
     "duration": 0.384776,
     "end_time": "2020-10-03T00:45:10.723510",
     "exception": false,
     "start_time": "2020-10-03T00:45:10.338734",
     "status": "completed"
    },
    "tags": []
   },
   "outputs": [],
   "source": [
    "from sklearn.model_selection import cross_val_score\n",
    "from sklearn.metrics import accuracy_score, classification_report, plot_confusion_matrix\n",
    "\n",
    "\n",
    "rfc = RandomForestClassifier().fit(X, y.reshape(-1))\n",
    "y_prima = rfc.predict(X)\n"
   ]
  },
  {
   "cell_type": "code",
   "execution_count": 19,
   "metadata": {
    "execution": {
     "iopub.execute_input": "2020-10-03T00:45:10.800039Z",
     "iopub.status.busy": "2020-10-03T00:45:10.799258Z",
     "iopub.status.idle": "2020-10-03T00:45:12.324844Z",
     "shell.execute_reply": "2020-10-03T00:45:12.323726Z"
    },
    "papermill": {
     "duration": 1.566073,
     "end_time": "2020-10-03T00:45:12.325046",
     "exception": false,
     "start_time": "2020-10-03T00:45:10.758973",
     "status": "completed"
    },
    "tags": []
   },
   "outputs": [
    {
     "name": "stdout",
     "output_type": "stream",
     "text": [
      "Cross_val Score RandomForestClassifier =  0.694771200803465\n"
     ]
    }
   ],
   "source": [
    "print('Cross_val Score RandomForestClassifier = ', cross_val_score(rfc, X, y.reshape(-1), cv=5).mean())"
   ]
  },
  {
   "cell_type": "code",
   "execution_count": 20,
   "metadata": {
    "execution": {
     "iopub.execute_input": "2020-10-03T00:45:12.403493Z",
     "iopub.status.busy": "2020-10-03T00:45:12.402699Z",
     "iopub.status.idle": "2020-10-03T00:45:12.414116Z",
     "shell.execute_reply": "2020-10-03T00:45:12.413456Z"
    },
    "papermill": {
     "duration": 0.053301,
     "end_time": "2020-10-03T00:45:12.414253",
     "exception": false,
     "start_time": "2020-10-03T00:45:12.360952",
     "status": "completed"
    },
    "tags": []
   },
   "outputs": [
    {
     "name": "stdout",
     "output_type": "stream",
     "text": [
      "              precision    recall  f1-score   support\n",
      "\n",
      "    Survived       1.00      1.00      1.00       549\n",
      "        Dead       1.00      1.00      1.00       342\n",
      "\n",
      "    accuracy                           1.00       891\n",
      "   macro avg       1.00      1.00      1.00       891\n",
      "weighted avg       1.00      1.00      1.00       891\n",
      "\n"
     ]
    }
   ],
   "source": [
    "class_names = [\"Survived\", \"Dead\"]\n",
    "\n",
    "print(classification_report(y, y_prima, target_names=class_names))"
   ]
  },
  {
   "cell_type": "code",
   "execution_count": 21,
   "metadata": {
    "execution": {
     "iopub.execute_input": "2020-10-03T00:45:12.493612Z",
     "iopub.status.busy": "2020-10-03T00:45:12.492836Z",
     "iopub.status.idle": "2020-10-03T00:45:12.702398Z",
     "shell.execute_reply": "2020-10-03T00:45:12.701513Z"
    },
    "papermill": {
     "duration": 0.252747,
     "end_time": "2020-10-03T00:45:12.702568",
     "exception": false,
     "start_time": "2020-10-03T00:45:12.449821",
     "status": "completed"
    },
    "tags": []
   },
   "outputs": [
    {
     "data": {
      "image/png": "[encoded data removed]",
      "text/plain": [
       "<Figure size 432x288 with 2 Axes>"
      ]
     },
     "metadata": {
      "needs_background": "light"
     },
     "output_type": "display_data"
    }
   ],
   "source": [
    "import matplotlib.pyplot as plt\n",
    "\n",
    "disp = plot_confusion_matrix(rfc, X, y,\n",
    "                         display_labels=class_names,\n",
    "                         cmap=plt.cm.Blues,\n",
    "                         normalize=None)\n",
    "plt.show()"
   ]
  },
  {
   "cell_type": "code",
   "execution_count": 22,
   "metadata": {
    "execution": {
     "iopub.execute_input": "2020-10-03T00:45:12.811128Z",
     "iopub.status.busy": "2020-10-03T00:45:12.810070Z",
     "iopub.status.idle": "2020-10-03T00:45:12.815409Z",
     "shell.execute_reply": "2020-10-03T00:45:12.814669Z"
    },
    "papermill": {
     "duration": 0.07164,
     "end_time": "2020-10-03T00:45:12.815542",
     "exception": false,
     "start_time": "2020-10-03T00:45:12.743902",
     "status": "completed"
    },
    "tags": []
   },
   "outputs": [
    {
     "data": {
      "text/html": [
       "<div>\n",
       "<style scoped>\n",
       "    .dataframe tbody tr th:only-of-type {\n",
       "        vertical-align: middle;\n",
       "    }\n",
       "\n",
       "    .dataframe tbody tr th {\n",
       "        vertical-align: top;\n",
       "    }\n",
       "\n",
       "    .dataframe thead th {\n",
       "        text-align: right;\n",
       "    }\n",
       "</style>\n",
       "<table border=\"1\" class=\"dataframe\">\n",
       "  <thead>\n",
       "    <tr style=\"text-align: right;\">\n",
       "      <th></th>\n",
       "      <th>PassengerId</th>\n",
       "      <th>Pclass</th>\n",
       "      <th>Age</th>\n",
       "      <th>SibSp</th>\n",
       "      <th>Parch</th>\n",
       "      <th>Fare</th>\n",
       "      <th>0</th>\n",
       "      <th>1</th>\n",
       "      <th>2</th>\n",
       "    </tr>\n",
       "  </thead>\n",
       "  <tbody>\n",
       "    <tr>\n",
       "      <th>0</th>\n",
       "      <td>892</td>\n",
       "      <td>3</td>\n",
       "      <td>34.5</td>\n",
       "      <td>0</td>\n",
       "      <td>0</td>\n",
       "      <td>7.8292</td>\n",
       "      <td>0.0</td>\n",
       "      <td>1.0</td>\n",
       "      <td>0.0</td>\n",
       "    </tr>\n",
       "    <tr>\n",
       "      <th>1</th>\n",
       "      <td>893</td>\n",
       "      <td>3</td>\n",
       "      <td>47.0</td>\n",
       "      <td>1</td>\n",
       "      <td>0</td>\n",
       "      <td>7.0000</td>\n",
       "      <td>0.0</td>\n",
       "      <td>0.0</td>\n",
       "      <td>1.0</td>\n",
       "    </tr>\n",
       "    <tr>\n",
       "      <th>2</th>\n",
       "      <td>894</td>\n",
       "      <td>2</td>\n",
       "      <td>62.0</td>\n",
       "      <td>0</td>\n",
       "      <td>0</td>\n",
       "      <td>9.6875</td>\n",
       "      <td>0.0</td>\n",
       "      <td>1.0</td>\n",
       "      <td>0.0</td>\n",
       "    </tr>\n",
       "    <tr>\n",
       "      <th>3</th>\n",
       "      <td>895</td>\n",
       "      <td>3</td>\n",
       "      <td>27.0</td>\n",
       "      <td>0</td>\n",
       "      <td>0</td>\n",
       "      <td>8.6625</td>\n",
       "      <td>0.0</td>\n",
       "      <td>0.0</td>\n",
       "      <td>1.0</td>\n",
       "    </tr>\n",
       "    <tr>\n",
       "      <th>4</th>\n",
       "      <td>896</td>\n",
       "      <td>3</td>\n",
       "      <td>22.0</td>\n",
       "      <td>1</td>\n",
       "      <td>1</td>\n",
       "      <td>12.2875</td>\n",
       "      <td>0.0</td>\n",
       "      <td>0.0</td>\n",
       "      <td>1.0</td>\n",
       "    </tr>\n",
       "    <tr>\n",
       "      <th>...</th>\n",
       "      <td>...</td>\n",
       "      <td>...</td>\n",
       "      <td>...</td>\n",
       "      <td>...</td>\n",
       "      <td>...</td>\n",
       "      <td>...</td>\n",
       "      <td>...</td>\n",
       "      <td>...</td>\n",
       "      <td>...</td>\n",
       "    </tr>\n",
       "    <tr>\n",
       "      <th>413</th>\n",
       "      <td>1305</td>\n",
       "      <td>3</td>\n",
       "      <td>27.0</td>\n",
       "      <td>0</td>\n",
       "      <td>0</td>\n",
       "      <td>8.0500</td>\n",
       "      <td>0.0</td>\n",
       "      <td>0.0</td>\n",
       "      <td>1.0</td>\n",
       "    </tr>\n",
       "    <tr>\n",
       "      <th>414</th>\n",
       "      <td>1306</td>\n",
       "      <td>1</td>\n",
       "      <td>39.0</td>\n",
       "      <td>0</td>\n",
       "      <td>0</td>\n",
       "      <td>108.9000</td>\n",
       "      <td>1.0</td>\n",
       "      <td>0.0</td>\n",
       "      <td>0.0</td>\n",
       "    </tr>\n",
       "    <tr>\n",
       "      <th>415</th>\n",
       "      <td>1307</td>\n",
       "      <td>3</td>\n",
       "      <td>38.5</td>\n",
       "      <td>0</td>\n",
       "      <td>0</td>\n",
       "      <td>7.2500</td>\n",
       "      <td>0.0</td>\n",
       "      <td>0.0</td>\n",
       "      <td>1.0</td>\n",
       "    </tr>\n",
       "    <tr>\n",
       "      <th>416</th>\n",
       "      <td>1308</td>\n",
       "      <td>3</td>\n",
       "      <td>27.0</td>\n",
       "      <td>0</td>\n",
       "      <td>0</td>\n",
       "      <td>8.0500</td>\n",
       "      <td>0.0</td>\n",
       "      <td>0.0</td>\n",
       "      <td>1.0</td>\n",
       "    </tr>\n",
       "    <tr>\n",
       "      <th>417</th>\n",
       "      <td>1309</td>\n",
       "      <td>3</td>\n",
       "      <td>27.0</td>\n",
       "      <td>1</td>\n",
       "      <td>1</td>\n",
       "      <td>22.3583</td>\n",
       "      <td>1.0</td>\n",
       "      <td>0.0</td>\n",
       "      <td>0.0</td>\n",
       "    </tr>\n",
       "  </tbody>\n",
       "</table>\n",
       "<p>418 rows × 9 columns</p>\n",
       "</div>"
      ],
      "text/plain": [
       "     PassengerId  Pclass   Age  SibSp  Parch      Fare    0    1    2\n",
       "0            892       3  34.5      0      0    7.8292  0.0  1.0  0.0\n",
       "1            893       3  47.0      1      0    7.0000  0.0  0.0  1.0\n",
       "2            894       2  62.0      0      0    9.6875  0.0  1.0  0.0\n",
       "3            895       3  27.0      0      0    8.6625  0.0  0.0  1.0\n",
       "4            896       3  22.0      1      1   12.2875  0.0  0.0  1.0\n",
       "..           ...     ...   ...    ...    ...       ...  ...  ...  ...\n",
       "413         1305       3  27.0      0      0    8.0500  0.0  0.0  1.0\n",
       "414         1306       1  39.0      0      0  108.9000  1.0  0.0  0.0\n",
       "415         1307       3  38.5      0      0    7.2500  0.0  0.0  1.0\n",
       "416         1308       3  27.0      0      0    8.0500  0.0  0.0  1.0\n",
       "417         1309       3  27.0      1      1   22.3583  1.0  0.0  0.0\n",
       "\n",
       "[418 rows x 9 columns]"
      ]
     },
     "execution_count": 22,
     "metadata": {},
     "output_type": "execute_result"
    }
   ],
   "source": [
    "test"
   ]
  },
  {
   "cell_type": "code",
   "execution_count": 23,
   "metadata": {
    "execution": {
     "iopub.execute_input": "2020-10-03T00:45:12.911642Z",
     "iopub.status.busy": "2020-10-03T00:45:12.910870Z",
     "iopub.status.idle": "2020-10-03T00:45:12.931702Z",
     "shell.execute_reply": "2020-10-03T00:45:12.930810Z"
    },
    "papermill": {
     "duration": 0.074696,
     "end_time": "2020-10-03T00:45:12.931885",
     "exception": false,
     "start_time": "2020-10-03T00:45:12.857189",
     "status": "completed"
    },
    "tags": []
   },
   "outputs": [],
   "source": [
    "\n",
    "predictions = rfc.predict(test.iloc[:,test.columns != 'Survived'])\n",
    "\n"
   ]
  },
  {
   "cell_type": "code",
   "execution_count": 24,
   "metadata": {
    "execution": {
     "iopub.execute_input": "2020-10-03T00:45:13.022785Z",
     "iopub.status.busy": "2020-10-03T00:45:13.021871Z",
     "iopub.status.idle": "2020-10-03T00:45:13.025249Z",
     "shell.execute_reply": "2020-10-03T00:45:13.025848Z"
    },
    "papermill": {
     "duration": 0.054067,
     "end_time": "2020-10-03T00:45:13.025997",
     "exception": false,
     "start_time": "2020-10-03T00:45:12.971930",
     "status": "completed"
    },
    "tags": []
   },
   "outputs": [
    {
     "name": "stdout",
     "output_type": "stream",
     "text": [
      "     PassengerId  Pclass   Age  SibSp  Parch      Fare    0    1    2\n",
      "0            892       3  34.5      0      0    7.8292  0.0  1.0  0.0\n",
      "1            893       3  47.0      1      0    7.0000  0.0  0.0  1.0\n",
      "2            894       2  62.0      0      0    9.6875  0.0  1.0  0.0\n",
      "3            895       3  27.0      0      0    8.6625  0.0  0.0  1.0\n",
      "4            896       3  22.0      1      1   12.2875  0.0  0.0  1.0\n",
      "..           ...     ...   ...    ...    ...       ...  ...  ...  ...\n",
      "413         1305       3  27.0      0      0    8.0500  0.0  0.0  1.0\n",
      "414         1306       1  39.0      0      0  108.9000  1.0  0.0  0.0\n",
      "415         1307       3  38.5      0      0    7.2500  0.0  0.0  1.0\n",
      "416         1308       3  27.0      0      0    8.0500  0.0  0.0  1.0\n",
      "417         1309       3  27.0      1      1   22.3583  1.0  0.0  0.0\n",
      "\n",
      "[418 rows x 9 columns]\n"
     ]
    }
   ],
   "source": [
    "print(test)"
   ]
  },
  {
   "cell_type": "code",
   "execution_count": 25,
   "metadata": {
    "execution": {
     "iopub.execute_input": "2020-10-03T00:45:13.110631Z",
     "iopub.status.busy": "2020-10-03T00:45:13.109815Z",
     "iopub.status.idle": "2020-10-03T00:45:13.435579Z",
     "shell.execute_reply": "2020-10-03T00:45:13.434568Z"
    },
    "papermill": {
     "duration": 0.371992,
     "end_time": "2020-10-03T00:45:13.435740",
     "exception": false,
     "start_time": "2020-10-03T00:45:13.063748",
     "status": "completed"
    },
    "tags": []
   },
   "outputs": [
    {
     "name": "stdout",
     "output_type": "stream",
     "text": [
      "end\n"
     ]
    }
   ],
   "source": [
    "predictions = pd.DataFrame(predictions, columns=['Survived'])\n",
    "test = pd.read_csv('/kaggle/input/titanic/test.csv')\n",
    "predictions = pd.concat((test.iloc[:, 0], predictions), axis = 1)\n",
    "predictions.to_csv('submission1.csv', sep=\",\", index = False)\n",
    "\n",
    "print('end')"
   ]
  }
 ],
 "metadata": {
  "kernelspec": {
   "display_name": "Python 3",
   "language": "python",
   "name": "python3"
  },
  "language_info": {
   "codemirror_mode": {
    "name": "ipython",
    "version": 3
   },
   "file_extension": ".py",
   "mimetype": "text/x-python",
   "name": "python",
   "nbconvert_exporter": "python",
   "pygments_lexer": "ipython3",
   "version": "3.7.6"
  },
  "papermill": {
   "duration": 12.877646,
   "end_time": "2020-10-03T00:45:13.582618",
   "environment_variables": {},
   "exception": null,
   "input_path": "__notebook__.ipynb",
   "output_path": "__notebook__.ipynb",
   "parameters": {},
   "start_time": "2020-10-03T00:45:00.704972",
   "version": "2.1.0"
  }
 },
 "nbformat": 4,
 "nbformat_minor": 4
}
