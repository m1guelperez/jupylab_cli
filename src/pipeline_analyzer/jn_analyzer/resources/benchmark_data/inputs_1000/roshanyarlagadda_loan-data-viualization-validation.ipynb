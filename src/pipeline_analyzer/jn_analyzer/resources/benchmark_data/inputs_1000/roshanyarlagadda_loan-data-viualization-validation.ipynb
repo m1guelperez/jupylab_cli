{
 "cells": [
  {
   "cell_type": "code",
   "execution_count": 1,
   "metadata": {
    "_cell_guid": "b1076dfc-b9ad-4769-8c92-a6c4dae69d19",
    "_uuid": "8f2839f25d086af736a60e9eeb907d3b93b6e0e5",
    "execution": {
     "iopub.execute_input": "2020-10-01T08:22:20.978508Z",
     "iopub.status.busy": "2020-10-01T08:22:20.977591Z",
     "iopub.status.idle": "2020-10-01T08:22:20.983828Z",
     "shell.execute_reply": "2020-10-01T08:22:20.984665Z"
    },
    "papermill": {
     "duration": 0.045093,
     "end_time": "2020-10-01T08:22:20.984911",
     "exception": false,
     "start_time": "2020-10-01T08:22:20.939818",
     "status": "completed"
    },
    "tags": []
   },
   "outputs": [
    {
     "name": "stdout",
     "output_type": "stream",
     "text": [
      "/kaggle/input/loandata/Loan payments data.csv\n"
     ]
    }
   ],
   "source": [
    "# This Python 3 environment comes with many helpful analytics libraries installed\n",
    "# It is defined by the kaggle/python Docker image: https://github.com/kaggle/docker-python\n",
    "# For example, here's several helpful packages to load\n",
    "\n",
    "import numpy as np # linear algebra\n",
    "import pandas as pd # data processing, CSV file I/O (e.g. pd.read_csv)\n",
    "\n",
    "# Input data files are available in the read-only \"../input/\" directory\n",
    "# For example, running this (by clicking run or pressing Shift+Enter) will list all files under the input directory\n",
    "\n",
    "import os\n",
    "for dirname, _, filenames in os.walk('/kaggle/input'):\n",
    "    for filename in filenames:\n",
    "        print(os.path.join(dirname, filename))\n",
    "\n",
    "# You can write up to 5GB to the current directory (/kaggle/working/) that gets preserved as output when you create a version using \"Save & Run All\" \n",
    "# You can also write temporary files to /kaggle/temp/, but they won't be saved outside of the current session"
   ]
  },
  {
   "cell_type": "code",
   "execution_count": 2,
   "metadata": {
    "_cell_guid": "79c7e3d0-c299-4dcb-8224-4455121ee9b0",
    "_uuid": "d629ff2d2480ee46fbb7e2d37f6b5fab8052498a",
    "execution": {
     "iopub.execute_input": "2020-10-01T08:22:21.058634Z",
     "iopub.status.busy": "2020-10-01T08:22:21.057713Z",
     "iopub.status.idle": "2020-10-01T08:22:21.073860Z",
     "shell.execute_reply": "2020-10-01T08:22:21.073045Z"
    },
    "papermill": {
     "duration": 0.055592,
     "end_time": "2020-10-01T08:22:21.074002",
     "exception": false,
     "start_time": "2020-10-01T08:22:21.018410",
     "status": "completed"
    },
    "tags": []
   },
   "outputs": [],
   "source": [
    "df=pd.read_csv(\"/kaggle/input/loandata/Loan payments data.csv\")"
   ]
  },
  {
   "cell_type": "code",
   "execution_count": 3,
   "metadata": {
    "execution": {
     "iopub.execute_input": "2020-10-01T08:22:21.153199Z",
     "iopub.status.busy": "2020-10-01T08:22:21.152057Z",
     "iopub.status.idle": "2020-10-01T08:22:21.166652Z",
     "shell.execute_reply": "2020-10-01T08:22:21.165848Z"
    },
    "papermill": {
     "duration": 0.062202,
     "end_time": "2020-10-01T08:22:21.166784",
     "exception": false,
     "start_time": "2020-10-01T08:22:21.104582",
     "status": "completed"
    },
    "tags": []
   },
   "outputs": [
    {
     "data": {
      "text/html": [
       "<div>\n",
       "<style scoped>\n",
       "    .dataframe tbody tr th:only-of-type {\n",
       "        vertical-align: middle;\n",
       "    }\n",
       "\n",
       "    .dataframe tbody tr th {\n",
       "        vertical-align: top;\n",
       "    }\n",
       "\n",
       "    .dataframe thead th {\n",
       "        text-align: right;\n",
       "    }\n",
       "</style>\n",
       "<table border=\"1\" class=\"dataframe\">\n",
       "  <thead>\n",
       "    <tr style=\"text-align: right;\">\n",
       "      <th></th>\n",
       "      <th>Loan_ID</th>\n",
       "      <th>loan_status</th>\n",
       "      <th>Principal</th>\n",
       "      <th>terms</th>\n",
       "      <th>effective_date</th>\n",
       "      <th>due_date</th>\n",
       "      <th>paid_off_time</th>\n",
       "      <th>past_due_days</th>\n",
       "      <th>age</th>\n",
       "      <th>education</th>\n",
       "      <th>Gender</th>\n",
       "    </tr>\n",
       "  </thead>\n",
       "  <tbody>\n",
       "    <tr>\n",
       "      <th>0</th>\n",
       "      <td>xqd20166231</td>\n",
       "      <td>PAIDOFF</td>\n",
       "      <td>1000</td>\n",
       "      <td>30</td>\n",
       "      <td>9/8/2016</td>\n",
       "      <td>10/7/2016</td>\n",
       "      <td>9/14/2016 19:31</td>\n",
       "      <td>NaN</td>\n",
       "      <td>45</td>\n",
       "      <td>High School or Below</td>\n",
       "      <td>male</td>\n",
       "    </tr>\n",
       "    <tr>\n",
       "      <th>1</th>\n",
       "      <td>xqd20168902</td>\n",
       "      <td>PAIDOFF</td>\n",
       "      <td>1000</td>\n",
       "      <td>30</td>\n",
       "      <td>9/8/2016</td>\n",
       "      <td>10/7/2016</td>\n",
       "      <td>10/7/2016 9:00</td>\n",
       "      <td>NaN</td>\n",
       "      <td>50</td>\n",
       "      <td>Bechalor</td>\n",
       "      <td>female</td>\n",
       "    </tr>\n",
       "    <tr>\n",
       "      <th>2</th>\n",
       "      <td>xqd20160003</td>\n",
       "      <td>PAIDOFF</td>\n",
       "      <td>1000</td>\n",
       "      <td>30</td>\n",
       "      <td>9/8/2016</td>\n",
       "      <td>10/7/2016</td>\n",
       "      <td>9/25/2016 16:58</td>\n",
       "      <td>NaN</td>\n",
       "      <td>33</td>\n",
       "      <td>Bechalor</td>\n",
       "      <td>female</td>\n",
       "    </tr>\n",
       "    <tr>\n",
       "      <th>3</th>\n",
       "      <td>xqd20160004</td>\n",
       "      <td>PAIDOFF</td>\n",
       "      <td>1000</td>\n",
       "      <td>15</td>\n",
       "      <td>9/8/2016</td>\n",
       "      <td>9/22/2016</td>\n",
       "      <td>9/22/2016 20:00</td>\n",
       "      <td>NaN</td>\n",
       "      <td>27</td>\n",
       "      <td>college</td>\n",
       "      <td>male</td>\n",
       "    </tr>\n",
       "    <tr>\n",
       "      <th>4</th>\n",
       "      <td>xqd20160005</td>\n",
       "      <td>PAIDOFF</td>\n",
       "      <td>1000</td>\n",
       "      <td>30</td>\n",
       "      <td>9/9/2016</td>\n",
       "      <td>10/8/2016</td>\n",
       "      <td>9/23/2016 21:36</td>\n",
       "      <td>NaN</td>\n",
       "      <td>28</td>\n",
       "      <td>college</td>\n",
       "      <td>female</td>\n",
       "    </tr>\n",
       "  </tbody>\n",
       "</table>\n",
       "</div>"
      ],
      "text/plain": [
       "       Loan_ID loan_status  Principal  terms effective_date   due_date  \\\n",
       "0  xqd20166231     PAIDOFF       1000     30       9/8/2016  10/7/2016   \n",
       "1  xqd20168902     PAIDOFF       1000     30       9/8/2016  10/7/2016   \n",
       "2  xqd20160003     PAIDOFF       1000     30       9/8/2016  10/7/2016   \n",
       "3  xqd20160004     PAIDOFF       1000     15       9/8/2016  9/22/2016   \n",
       "4  xqd20160005     PAIDOFF       1000     30       9/9/2016  10/8/2016   \n",
       "\n",
       "     paid_off_time  past_due_days  age             education  Gender  \n",
       "0  9/14/2016 19:31            NaN   45  High School or Below    male  \n",
       "1   10/7/2016 9:00            NaN   50              Bechalor  female  \n",
       "2  9/25/2016 16:58            NaN   33              Bechalor  female  \n",
       "3  9/22/2016 20:00            NaN   27               college    male  \n",
       "4  9/23/2016 21:36            NaN   28               college  female  "
      ]
     },
     "execution_count": 3,
     "metadata": {},
     "output_type": "execute_result"
    }
   ],
   "source": [
    "df.head()"
   ]
  },
  {
   "cell_type": "code",
   "execution_count": 4,
   "metadata": {
    "execution": {
     "iopub.execute_input": "2020-10-01T08:22:21.251806Z",
     "iopub.status.busy": "2020-10-01T08:22:21.241592Z",
     "iopub.status.idle": "2020-10-01T08:22:21.256203Z",
     "shell.execute_reply": "2020-10-01T08:22:21.256948Z"
    },
    "papermill": {
     "duration": 0.058512,
     "end_time": "2020-10-01T08:22:21.257119",
     "exception": false,
     "start_time": "2020-10-01T08:22:21.198607",
     "status": "completed"
    },
    "tags": []
   },
   "outputs": [
    {
     "data": {
      "text/html": [
       "<div>\n",
       "<style scoped>\n",
       "    .dataframe tbody tr th:only-of-type {\n",
       "        vertical-align: middle;\n",
       "    }\n",
       "\n",
       "    .dataframe tbody tr th {\n",
       "        vertical-align: top;\n",
       "    }\n",
       "\n",
       "    .dataframe thead th {\n",
       "        text-align: right;\n",
       "    }\n",
       "</style>\n",
       "<table border=\"1\" class=\"dataframe\">\n",
       "  <thead>\n",
       "    <tr style=\"text-align: right;\">\n",
       "      <th></th>\n",
       "      <th>Loan_ID</th>\n",
       "      <th>loan_status</th>\n",
       "      <th>Principal</th>\n",
       "      <th>terms</th>\n",
       "      <th>effective_date</th>\n",
       "      <th>due_date</th>\n",
       "      <th>paid_off_time</th>\n",
       "      <th>past_due_days</th>\n",
       "      <th>age</th>\n",
       "      <th>education</th>\n",
       "      <th>Gender</th>\n",
       "    </tr>\n",
       "  </thead>\n",
       "  <tbody>\n",
       "    <tr>\n",
       "      <th>490</th>\n",
       "      <td>xqd20160491</td>\n",
       "      <td>COLLECTION_PAIDOFF</td>\n",
       "      <td>1000</td>\n",
       "      <td>30</td>\n",
       "      <td>9/12/2016</td>\n",
       "      <td>10/11/2016</td>\n",
       "      <td>10/17/2016 10:53</td>\n",
       "      <td>6.0</td>\n",
       "      <td>38</td>\n",
       "      <td>High School or Below</td>\n",
       "      <td>male</td>\n",
       "    </tr>\n",
       "    <tr>\n",
       "      <th>491</th>\n",
       "      <td>xqd20160492</td>\n",
       "      <td>COLLECTION_PAIDOFF</td>\n",
       "      <td>1000</td>\n",
       "      <td>30</td>\n",
       "      <td>9/12/2016</td>\n",
       "      <td>10/11/2016</td>\n",
       "      <td>11/9/2016 13:41</td>\n",
       "      <td>29.0</td>\n",
       "      <td>27</td>\n",
       "      <td>college</td>\n",
       "      <td>male</td>\n",
       "    </tr>\n",
       "    <tr>\n",
       "      <th>492</th>\n",
       "      <td>xqd20160493</td>\n",
       "      <td>COLLECTION_PAIDOFF</td>\n",
       "      <td>1000</td>\n",
       "      <td>30</td>\n",
       "      <td>9/12/2016</td>\n",
       "      <td>10/11/2016</td>\n",
       "      <td>10/25/2016 17:44</td>\n",
       "      <td>14.0</td>\n",
       "      <td>27</td>\n",
       "      <td>Bechalor</td>\n",
       "      <td>male</td>\n",
       "    </tr>\n",
       "    <tr>\n",
       "      <th>493</th>\n",
       "      <td>xqd20160494</td>\n",
       "      <td>COLLECTION_PAIDOFF</td>\n",
       "      <td>1000</td>\n",
       "      <td>15</td>\n",
       "      <td>9/12/2016</td>\n",
       "      <td>9/26/2016</td>\n",
       "      <td>9/29/2016 12:45</td>\n",
       "      <td>3.0</td>\n",
       "      <td>29</td>\n",
       "      <td>college</td>\n",
       "      <td>male</td>\n",
       "    </tr>\n",
       "    <tr>\n",
       "      <th>494</th>\n",
       "      <td>xqd20160495</td>\n",
       "      <td>COLLECTION_PAIDOFF</td>\n",
       "      <td>1000</td>\n",
       "      <td>30</td>\n",
       "      <td>9/12/2016</td>\n",
       "      <td>10/11/2016</td>\n",
       "      <td>10/13/2016 14:45</td>\n",
       "      <td>2.0</td>\n",
       "      <td>30</td>\n",
       "      <td>High School or Below</td>\n",
       "      <td>male</td>\n",
       "    </tr>\n",
       "    <tr>\n",
       "      <th>495</th>\n",
       "      <td>xqd20160496</td>\n",
       "      <td>COLLECTION_PAIDOFF</td>\n",
       "      <td>1000</td>\n",
       "      <td>30</td>\n",
       "      <td>9/12/2016</td>\n",
       "      <td>10/11/2016</td>\n",
       "      <td>10/14/2016 19:08</td>\n",
       "      <td>3.0</td>\n",
       "      <td>28</td>\n",
       "      <td>High School or Below</td>\n",
       "      <td>male</td>\n",
       "    </tr>\n",
       "    <tr>\n",
       "      <th>496</th>\n",
       "      <td>xqd20160497</td>\n",
       "      <td>COLLECTION_PAIDOFF</td>\n",
       "      <td>1000</td>\n",
       "      <td>15</td>\n",
       "      <td>9/12/2016</td>\n",
       "      <td>9/26/2016</td>\n",
       "      <td>10/10/2016 20:02</td>\n",
       "      <td>14.0</td>\n",
       "      <td>26</td>\n",
       "      <td>High School or Below</td>\n",
       "      <td>male</td>\n",
       "    </tr>\n",
       "    <tr>\n",
       "      <th>497</th>\n",
       "      <td>xqd20160498</td>\n",
       "      <td>COLLECTION_PAIDOFF</td>\n",
       "      <td>800</td>\n",
       "      <td>15</td>\n",
       "      <td>9/12/2016</td>\n",
       "      <td>9/26/2016</td>\n",
       "      <td>9/29/2016 11:49</td>\n",
       "      <td>3.0</td>\n",
       "      <td>30</td>\n",
       "      <td>college</td>\n",
       "      <td>male</td>\n",
       "    </tr>\n",
       "    <tr>\n",
       "      <th>498</th>\n",
       "      <td>xqd20160499</td>\n",
       "      <td>COLLECTION_PAIDOFF</td>\n",
       "      <td>1000</td>\n",
       "      <td>30</td>\n",
       "      <td>9/12/2016</td>\n",
       "      <td>11/10/2016</td>\n",
       "      <td>11/11/2016 22:40</td>\n",
       "      <td>1.0</td>\n",
       "      <td>38</td>\n",
       "      <td>college</td>\n",
       "      <td>female</td>\n",
       "    </tr>\n",
       "    <tr>\n",
       "      <th>499</th>\n",
       "      <td>xqd20160500</td>\n",
       "      <td>COLLECTION_PAIDOFF</td>\n",
       "      <td>1000</td>\n",
       "      <td>30</td>\n",
       "      <td>9/12/2016</td>\n",
       "      <td>10/11/2016</td>\n",
       "      <td>10/19/2016 11:58</td>\n",
       "      <td>8.0</td>\n",
       "      <td>28</td>\n",
       "      <td>High School or Below</td>\n",
       "      <td>male</td>\n",
       "    </tr>\n",
       "  </tbody>\n",
       "</table>\n",
       "</div>"
      ],
      "text/plain": [
       "         Loan_ID         loan_status  Principal  terms effective_date  \\\n",
       "490  xqd20160491  COLLECTION_PAIDOFF       1000     30      9/12/2016   \n",
       "491  xqd20160492  COLLECTION_PAIDOFF       1000     30      9/12/2016   \n",
       "492  xqd20160493  COLLECTION_PAIDOFF       1000     30      9/12/2016   \n",
       "493  xqd20160494  COLLECTION_PAIDOFF       1000     15      9/12/2016   \n",
       "494  xqd20160495  COLLECTION_PAIDOFF       1000     30      9/12/2016   \n",
       "495  xqd20160496  COLLECTION_PAIDOFF       1000     30      9/12/2016   \n",
       "496  xqd20160497  COLLECTION_PAIDOFF       1000     15      9/12/2016   \n",
       "497  xqd20160498  COLLECTION_PAIDOFF        800     15      9/12/2016   \n",
       "498  xqd20160499  COLLECTION_PAIDOFF       1000     30      9/12/2016   \n",
       "499  xqd20160500  COLLECTION_PAIDOFF       1000     30      9/12/2016   \n",
       "\n",
       "       due_date     paid_off_time  past_due_days  age             education  \\\n",
       "490  10/11/2016  10/17/2016 10:53            6.0   38  High School or Below   \n",
       "491  10/11/2016   11/9/2016 13:41           29.0   27               college   \n",
       "492  10/11/2016  10/25/2016 17:44           14.0   27              Bechalor   \n",
       "493   9/26/2016   9/29/2016 12:45            3.0   29               college   \n",
       "494  10/11/2016  10/13/2016 14:45            2.0   30  High School or Below   \n",
       "495  10/11/2016  10/14/2016 19:08            3.0   28  High School or Below   \n",
       "496   9/26/2016  10/10/2016 20:02           14.0   26  High School or Below   \n",
       "497   9/26/2016   9/29/2016 11:49            3.0   30               college   \n",
       "498  11/10/2016  11/11/2016 22:40            1.0   38               college   \n",
       "499  10/11/2016  10/19/2016 11:58            8.0   28  High School or Below   \n",
       "\n",
       "     Gender  \n",
       "490    male  \n",
       "491    male  \n",
       "492    male  \n",
       "493    male  \n",
       "494    male  \n",
       "495    male  \n",
       "496    male  \n",
       "497    male  \n",
       "498  female  \n",
       "499    male  "
      ]
     },
     "execution_count": 4,
     "metadata": {},
     "output_type": "execute_result"
    }
   ],
   "source": [
    "df.tail(10)"
   ]
  },
  {
   "cell_type": "code",
   "execution_count": 5,
   "metadata": {
    "execution": {
     "iopub.execute_input": "2020-10-01T08:22:21.336426Z",
     "iopub.status.busy": "2020-10-01T08:22:21.335600Z",
     "iopub.status.idle": "2020-10-01T08:22:21.358089Z",
     "shell.execute_reply": "2020-10-01T08:22:21.357434Z"
    },
    "papermill": {
     "duration": 0.068858,
     "end_time": "2020-10-01T08:22:21.358223",
     "exception": false,
     "start_time": "2020-10-01T08:22:21.289365",
     "status": "completed"
    },
    "tags": []
   },
   "outputs": [
    {
     "data": {
      "text/html": [
       "<div>\n",
       "<style scoped>\n",
       "    .dataframe tbody tr th:only-of-type {\n",
       "        vertical-align: middle;\n",
       "    }\n",
       "\n",
       "    .dataframe tbody tr th {\n",
       "        vertical-align: top;\n",
       "    }\n",
       "\n",
       "    .dataframe thead th {\n",
       "        text-align: right;\n",
       "    }\n",
       "</style>\n",
       "<table border=\"1\" class=\"dataframe\">\n",
       "  <thead>\n",
       "    <tr style=\"text-align: right;\">\n",
       "      <th></th>\n",
       "      <th>Principal</th>\n",
       "      <th>terms</th>\n",
       "      <th>past_due_days</th>\n",
       "      <th>age</th>\n",
       "    </tr>\n",
       "  </thead>\n",
       "  <tbody>\n",
       "    <tr>\n",
       "      <th>count</th>\n",
       "      <td>500.000000</td>\n",
       "      <td>500.000000</td>\n",
       "      <td>200.00000</td>\n",
       "      <td>500.000000</td>\n",
       "    </tr>\n",
       "    <tr>\n",
       "      <th>mean</th>\n",
       "      <td>943.200000</td>\n",
       "      <td>22.824000</td>\n",
       "      <td>36.01000</td>\n",
       "      <td>31.116000</td>\n",
       "    </tr>\n",
       "    <tr>\n",
       "      <th>std</th>\n",
       "      <td>115.240274</td>\n",
       "      <td>8.000064</td>\n",
       "      <td>29.38088</td>\n",
       "      <td>6.084784</td>\n",
       "    </tr>\n",
       "    <tr>\n",
       "      <th>min</th>\n",
       "      <td>300.000000</td>\n",
       "      <td>7.000000</td>\n",
       "      <td>1.00000</td>\n",
       "      <td>18.000000</td>\n",
       "    </tr>\n",
       "    <tr>\n",
       "      <th>25%</th>\n",
       "      <td>1000.000000</td>\n",
       "      <td>15.000000</td>\n",
       "      <td>3.00000</td>\n",
       "      <td>27.000000</td>\n",
       "    </tr>\n",
       "    <tr>\n",
       "      <th>50%</th>\n",
       "      <td>1000.000000</td>\n",
       "      <td>30.000000</td>\n",
       "      <td>37.00000</td>\n",
       "      <td>30.000000</td>\n",
       "    </tr>\n",
       "    <tr>\n",
       "      <th>75%</th>\n",
       "      <td>1000.000000</td>\n",
       "      <td>30.000000</td>\n",
       "      <td>60.00000</td>\n",
       "      <td>35.000000</td>\n",
       "    </tr>\n",
       "    <tr>\n",
       "      <th>max</th>\n",
       "      <td>1000.000000</td>\n",
       "      <td>30.000000</td>\n",
       "      <td>76.00000</td>\n",
       "      <td>51.000000</td>\n",
       "    </tr>\n",
       "  </tbody>\n",
       "</table>\n",
       "</div>"
      ],
      "text/plain": [
       "         Principal       terms  past_due_days         age\n",
       "count   500.000000  500.000000      200.00000  500.000000\n",
       "mean    943.200000   22.824000       36.01000   31.116000\n",
       "std     115.240274    8.000064       29.38088    6.084784\n",
       "min     300.000000    7.000000        1.00000   18.000000\n",
       "25%    1000.000000   15.000000        3.00000   27.000000\n",
       "50%    1000.000000   30.000000       37.00000   30.000000\n",
       "75%    1000.000000   30.000000       60.00000   35.000000\n",
       "max    1000.000000   30.000000       76.00000   51.000000"
      ]
     },
     "execution_count": 5,
     "metadata": {},
     "output_type": "execute_result"
    }
   ],
   "source": [
    "df.describe()"
   ]
  },
  {
   "cell_type": "code",
   "execution_count": 6,
   "metadata": {
    "execution": {
     "iopub.execute_input": "2020-10-01T08:22:21.445083Z",
     "iopub.status.busy": "2020-10-01T08:22:21.444128Z",
     "iopub.status.idle": "2020-10-01T08:22:21.449308Z",
     "shell.execute_reply": "2020-10-01T08:22:21.448689Z"
    },
    "papermill": {
     "duration": 0.058069,
     "end_time": "2020-10-01T08:22:21.449487",
     "exception": false,
     "start_time": "2020-10-01T08:22:21.391418",
     "status": "completed"
    },
    "tags": []
   },
   "outputs": [
    {
     "name": "stdout",
     "output_type": "stream",
     "text": [
      "<class 'pandas.core.frame.DataFrame'>\n",
      "RangeIndex: 500 entries, 0 to 499\n",
      "Data columns (total 11 columns):\n",
      " #   Column          Non-Null Count  Dtype  \n",
      "---  ------          --------------  -----  \n",
      " 0   Loan_ID         500 non-null    object \n",
      " 1   loan_status     500 non-null    object \n",
      " 2   Principal       500 non-null    int64  \n",
      " 3   terms           500 non-null    int64  \n",
      " 4   effective_date  500 non-null    object \n",
      " 5   due_date        500 non-null    object \n",
      " 6   paid_off_time   400 non-null    object \n",
      " 7   past_due_days   200 non-null    float64\n",
      " 8   age             500 non-null    int64  \n",
      " 9   education       500 non-null    object \n",
      " 10  Gender          500 non-null    object \n",
      "dtypes: float64(1), int64(3), object(7)\n",
      "memory usage: 43.1+ KB\n"
     ]
    }
   ],
   "source": [
    "df.info()"
   ]
  },
  {
   "cell_type": "code",
   "execution_count": 7,
   "metadata": {
    "execution": {
     "iopub.execute_input": "2020-10-01T08:22:21.526525Z",
     "iopub.status.busy": "2020-10-01T08:22:21.525556Z",
     "iopub.status.idle": "2020-10-01T08:22:21.530484Z",
     "shell.execute_reply": "2020-10-01T08:22:21.529746Z"
    },
    "papermill": {
     "duration": 0.047318,
     "end_time": "2020-10-01T08:22:21.530612",
     "exception": false,
     "start_time": "2020-10-01T08:22:21.483294",
     "status": "completed"
    },
    "tags": []
   },
   "outputs": [
    {
     "data": {
      "text/plain": [
       "Loan_ID             0\n",
       "loan_status         0\n",
       "Principal           0\n",
       "terms               0\n",
       "effective_date      0\n",
       "due_date            0\n",
       "paid_off_time     100\n",
       "past_due_days     300\n",
       "age                 0\n",
       "education           0\n",
       "Gender              0\n",
       "dtype: int64"
      ]
     },
     "execution_count": 7,
     "metadata": {},
     "output_type": "execute_result"
    }
   ],
   "source": [
    "df.isnull().sum()"
   ]
  },
  {
   "cell_type": "code",
   "execution_count": 8,
   "metadata": {
    "execution": {
     "iopub.execute_input": "2020-10-01T08:22:21.609031Z",
     "iopub.status.busy": "2020-10-01T08:22:21.604786Z",
     "iopub.status.idle": "2020-10-01T08:22:21.614415Z",
     "shell.execute_reply": "2020-10-01T08:22:21.613669Z"
    },
    "papermill": {
     "duration": 0.05015,
     "end_time": "2020-10-01T08:22:21.614575",
     "exception": false,
     "start_time": "2020-10-01T08:22:21.564425",
     "status": "completed"
    },
    "tags": []
   },
   "outputs": [
    {
     "data": {
      "text/plain": [
       "count    500.000000\n",
       "mean      31.116000\n",
       "std        6.084784\n",
       "min       18.000000\n",
       "25%       27.000000\n",
       "50%       30.000000\n",
       "75%       35.000000\n",
       "max       51.000000\n",
       "Name: age, dtype: float64"
      ]
     },
     "execution_count": 8,
     "metadata": {},
     "output_type": "execute_result"
    }
   ],
   "source": [
    "df['age'].describe()"
   ]
  },
  {
   "cell_type": "code",
   "execution_count": 9,
   "metadata": {
    "execution": {
     "iopub.execute_input": "2020-10-01T08:22:21.701719Z",
     "iopub.status.busy": "2020-10-01T08:22:21.696071Z",
     "iopub.status.idle": "2020-10-01T08:22:21.707121Z",
     "shell.execute_reply": "2020-10-01T08:22:21.705778Z"
    },
    "papermill": {
     "duration": 0.057991,
     "end_time": "2020-10-01T08:22:21.707295",
     "exception": false,
     "start_time": "2020-10-01T08:22:21.649304",
     "status": "completed"
    },
    "tags": []
   },
   "outputs": [
    {
     "name": "stdout",
     "output_type": "stream",
     "text": [
      "              age       terms\n",
      "count  500.000000  500.000000\n",
      "mean    31.116000   22.824000\n",
      "std      6.084784    8.000064\n",
      "min     18.000000    7.000000\n",
      "25%     27.000000   15.000000\n",
      "50%     30.000000   30.000000\n",
      "75%     35.000000   30.000000\n",
      "max     51.000000   30.000000\n"
     ]
    }
   ],
   "source": [
    "print(df[['age','terms']].describe())"
   ]
  },
  {
   "cell_type": "code",
   "execution_count": 10,
   "metadata": {
    "execution": {
     "iopub.execute_input": "2020-10-01T08:22:21.794625Z",
     "iopub.status.busy": "2020-10-01T08:22:21.793666Z",
     "iopub.status.idle": "2020-10-01T08:22:21.799222Z",
     "shell.execute_reply": "2020-10-01T08:22:21.798415Z"
    },
    "papermill": {
     "duration": 0.056237,
     "end_time": "2020-10-01T08:22:21.799356",
     "exception": false,
     "start_time": "2020-10-01T08:22:21.743119",
     "status": "completed"
    },
    "tags": []
   },
   "outputs": [
    {
     "data": {
      "text/html": [
       "<div>\n",
       "<style scoped>\n",
       "    .dataframe tbody tr th:only-of-type {\n",
       "        vertical-align: middle;\n",
       "    }\n",
       "\n",
       "    .dataframe tbody tr th {\n",
       "        vertical-align: top;\n",
       "    }\n",
       "\n",
       "    .dataframe thead th {\n",
       "        text-align: right;\n",
       "    }\n",
       "</style>\n",
       "<table border=\"1\" class=\"dataframe\">\n",
       "  <thead>\n",
       "    <tr style=\"text-align: right;\">\n",
       "      <th></th>\n",
       "      <th>Principal</th>\n",
       "      <th>terms</th>\n",
       "      <th>past_due_days</th>\n",
       "      <th>age</th>\n",
       "    </tr>\n",
       "  </thead>\n",
       "  <tbody>\n",
       "    <tr>\n",
       "      <th>Principal</th>\n",
       "      <td>1.000000</td>\n",
       "      <td>0.534302</td>\n",
       "      <td>-0.093139</td>\n",
       "      <td>-0.092613</td>\n",
       "    </tr>\n",
       "    <tr>\n",
       "      <th>terms</th>\n",
       "      <td>0.534302</td>\n",
       "      <td>1.000000</td>\n",
       "      <td>-0.102613</td>\n",
       "      <td>-0.074259</td>\n",
       "    </tr>\n",
       "    <tr>\n",
       "      <th>past_due_days</th>\n",
       "      <td>-0.093139</td>\n",
       "      <td>-0.102613</td>\n",
       "      <td>1.000000</td>\n",
       "      <td>-0.053849</td>\n",
       "    </tr>\n",
       "    <tr>\n",
       "      <th>age</th>\n",
       "      <td>-0.092613</td>\n",
       "      <td>-0.074259</td>\n",
       "      <td>-0.053849</td>\n",
       "      <td>1.000000</td>\n",
       "    </tr>\n",
       "  </tbody>\n",
       "</table>\n",
       "</div>"
      ],
      "text/plain": [
       "               Principal     terms  past_due_days       age\n",
       "Principal       1.000000  0.534302      -0.093139 -0.092613\n",
       "terms           0.534302  1.000000      -0.102613 -0.074259\n",
       "past_due_days  -0.093139 -0.102613       1.000000 -0.053849\n",
       "age            -0.092613 -0.074259      -0.053849  1.000000"
      ]
     },
     "execution_count": 10,
     "metadata": {},
     "output_type": "execute_result"
    }
   ],
   "source": [
    "df.corr()"
   ]
  },
  {
   "cell_type": "code",
   "execution_count": 11,
   "metadata": {
    "execution": {
     "iopub.execute_input": "2020-10-01T08:22:21.885988Z",
     "iopub.status.busy": "2020-10-01T08:22:21.884788Z",
     "iopub.status.idle": "2020-10-01T08:22:21.890174Z",
     "shell.execute_reply": "2020-10-01T08:22:21.889492Z"
    },
    "papermill": {
     "duration": 0.054471,
     "end_time": "2020-10-01T08:22:21.890298",
     "exception": false,
     "start_time": "2020-10-01T08:22:21.835827",
     "status": "completed"
    },
    "tags": []
   },
   "outputs": [
    {
     "data": {
      "text/html": [
       "<div>\n",
       "<style scoped>\n",
       "    .dataframe tbody tr th:only-of-type {\n",
       "        vertical-align: middle;\n",
       "    }\n",
       "\n",
       "    .dataframe tbody tr th {\n",
       "        vertical-align: top;\n",
       "    }\n",
       "\n",
       "    .dataframe thead th {\n",
       "        text-align: right;\n",
       "    }\n",
       "</style>\n",
       "<table border=\"1\" class=\"dataframe\">\n",
       "  <thead>\n",
       "    <tr style=\"text-align: right;\">\n",
       "      <th></th>\n",
       "      <th>Principal</th>\n",
       "      <th>terms</th>\n",
       "      <th>past_due_days</th>\n",
       "      <th>age</th>\n",
       "    </tr>\n",
       "  </thead>\n",
       "  <tbody>\n",
       "    <tr>\n",
       "      <th>Principal</th>\n",
       "      <td>1.000000</td>\n",
       "      <td>0.534302</td>\n",
       "      <td>-0.093139</td>\n",
       "      <td>-0.092613</td>\n",
       "    </tr>\n",
       "    <tr>\n",
       "      <th>terms</th>\n",
       "      <td>0.534302</td>\n",
       "      <td>1.000000</td>\n",
       "      <td>-0.102613</td>\n",
       "      <td>-0.074259</td>\n",
       "    </tr>\n",
       "    <tr>\n",
       "      <th>past_due_days</th>\n",
       "      <td>-0.093139</td>\n",
       "      <td>-0.102613</td>\n",
       "      <td>1.000000</td>\n",
       "      <td>-0.053849</td>\n",
       "    </tr>\n",
       "    <tr>\n",
       "      <th>age</th>\n",
       "      <td>-0.092613</td>\n",
       "      <td>-0.074259</td>\n",
       "      <td>-0.053849</td>\n",
       "      <td>1.000000</td>\n",
       "    </tr>\n",
       "  </tbody>\n",
       "</table>\n",
       "</div>"
      ],
      "text/plain": [
       "               Principal     terms  past_due_days       age\n",
       "Principal       1.000000  0.534302      -0.093139 -0.092613\n",
       "terms           0.534302  1.000000      -0.102613 -0.074259\n",
       "past_due_days  -0.093139 -0.102613       1.000000 -0.053849\n",
       "age            -0.092613 -0.074259      -0.053849  1.000000"
      ]
     },
     "execution_count": 11,
     "metadata": {},
     "output_type": "execute_result"
    }
   ],
   "source": [
    "df.corr()"
   ]
  },
  {
   "cell_type": "code",
   "execution_count": 12,
   "metadata": {
    "execution": {
     "iopub.execute_input": "2020-10-01T08:22:21.971283Z",
     "iopub.status.busy": "2020-10-01T08:22:21.970477Z",
     "iopub.status.idle": "2020-10-01T08:22:21.975008Z",
     "shell.execute_reply": "2020-10-01T08:22:21.974406Z"
    },
    "papermill": {
     "duration": 0.047986,
     "end_time": "2020-10-01T08:22:21.975134",
     "exception": false,
     "start_time": "2020-10-01T08:22:21.927148",
     "status": "completed"
    },
    "tags": []
   },
   "outputs": [
    {
     "data": {
      "text/plain": [
       "Loan_ID            object\n",
       "loan_status        object\n",
       "Principal           int64\n",
       "terms               int64\n",
       "effective_date     object\n",
       "due_date           object\n",
       "paid_off_time      object\n",
       "past_due_days     float64\n",
       "age                 int64\n",
       "education          object\n",
       "Gender             object\n",
       "dtype: object"
      ]
     },
     "execution_count": 12,
     "metadata": {},
     "output_type": "execute_result"
    }
   ],
   "source": [
    "df.dtypes"
   ]
  },
  {
   "cell_type": "code",
   "execution_count": 13,
   "metadata": {
    "execution": {
     "iopub.execute_input": "2020-10-01T08:22:22.058959Z",
     "iopub.status.busy": "2020-10-01T08:22:22.058010Z",
     "iopub.status.idle": "2020-10-01T08:22:22.062576Z",
     "shell.execute_reply": "2020-10-01T08:22:22.061930Z"
    },
    "papermill": {
     "duration": 0.04901,
     "end_time": "2020-10-01T08:22:22.062699",
     "exception": false,
     "start_time": "2020-10-01T08:22:22.013689",
     "status": "completed"
    },
    "tags": []
   },
   "outputs": [
    {
     "data": {
      "text/plain": [
       "5500"
      ]
     },
     "execution_count": 13,
     "metadata": {},
     "output_type": "execute_result"
    }
   ],
   "source": [
    "df.size"
   ]
  },
  {
   "cell_type": "code",
   "execution_count": 14,
   "metadata": {
    "execution": {
     "iopub.execute_input": "2020-10-01T08:22:22.145223Z",
     "iopub.status.busy": "2020-10-01T08:22:22.144358Z",
     "iopub.status.idle": "2020-10-01T08:22:22.149401Z",
     "shell.execute_reply": "2020-10-01T08:22:22.148138Z"
    },
    "papermill": {
     "duration": 0.048964,
     "end_time": "2020-10-01T08:22:22.149687",
     "exception": false,
     "start_time": "2020-10-01T08:22:22.100723",
     "status": "completed"
    },
    "tags": []
   },
   "outputs": [
    {
     "name": "stdout",
     "output_type": "stream",
     "text": [
      "Data columns\n",
      "\n",
      "Loan_ID\n",
      "loan_status\n",
      "Principal\n",
      "terms\n",
      "effective_date\n",
      "due_date\n",
      "paid_off_time\n",
      "past_due_days\n",
      "age\n",
      "education\n",
      "Gender\n"
     ]
    }
   ],
   "source": [
    "print(\"Data columns\\n\")\n",
    "for col in df.columns:\n",
    "    print(col)"
   ]
  },
  {
   "cell_type": "code",
   "execution_count": 15,
   "metadata": {
    "execution": {
     "iopub.execute_input": "2020-10-01T08:22:22.237447Z",
     "iopub.status.busy": "2020-10-01T08:22:22.236409Z",
     "iopub.status.idle": "2020-10-01T08:22:22.240144Z",
     "shell.execute_reply": "2020-10-01T08:22:22.240772Z"
    },
    "papermill": {
     "duration": 0.052024,
     "end_time": "2020-10-01T08:22:22.240933",
     "exception": false,
     "start_time": "2020-10-01T08:22:22.188909",
     "status": "completed"
    },
    "tags": []
   },
   "outputs": [
    {
     "name": "stdout",
     "output_type": "stream",
     "text": [
      "Rename data columns\n",
      "\n",
      "Loan_Id\n",
      "Loan_Status\n",
      "Principal\n",
      "Terms\n",
      "Effective_Date\n",
      "Due_Date\n",
      "Paid_Off_Time\n",
      "Past_Due_Days\n",
      "Age\n",
      "Education\n",
      "Gender\n"
     ]
    }
   ],
   "source": [
    "print(\"Rename data columns\\n\")\n",
    "df=df.rename(columns={'Loan_ID':'Loan_Id','loan_status':'Loan_Status','terms':'Terms','effective_date':'Effective_Date',\n",
    "                     'due_date':'Due_Date','paid_off_time':'Paid_Off_Time','past_due_days':'Past_Due_Days','age':'Age',\n",
    "                     'education':'Education'})\n",
    "\n",
    "for col in df.columns:\n",
    "    print(col)"
   ]
  },
  {
   "cell_type": "code",
   "execution_count": 16,
   "metadata": {
    "execution": {
     "iopub.execute_input": "2020-10-01T08:22:22.329132Z",
     "iopub.status.busy": "2020-10-01T08:22:22.328219Z",
     "iopub.status.idle": "2020-10-01T08:22:22.332931Z",
     "shell.execute_reply": "2020-10-01T08:22:22.333622Z"
    },
    "papermill": {
     "duration": 0.052909,
     "end_time": "2020-10-01T08:22:22.333785",
     "exception": false,
     "start_time": "2020-10-01T08:22:22.280876",
     "status": "completed"
    },
    "tags": []
   },
   "outputs": [
    {
     "name": "stdout",
     "output_type": "stream",
     "text": [
      "Loan_Id values\n",
      "\n",
      "['xqd20166231' 'xqd20168902' 'xqd20160003' 'xqd20160004' 'xqd20160005'\n",
      " 'xqd20160706' 'xqd20160007' 'xqd20160008' 'xqd20160909' 'xqd20160010'\n",
      " 'xqd20160011' 'xqd20160012' 'xqd20160013' 'xqd20160014' 'xqd20160015'\n",
      " 'xqd20160016' 'xqd20160017' 'xqd20160018' 'xqd20160019' 'xqd20160020'\n",
      " 'xqd20160021' 'xqd20160022' 'xqd20160023' 'xqd20160024' 'xqd20160025'\n",
      " 'xqd20160026' 'xqd20160027' 'xqd20170088' 'xqd20160029' 'xqd20160030'\n",
      " 'xqd88160031' 'xqd20160032' 'xqd20160033' 'xqd22169034' 'xqd20160035'\n",
      " 'xqd20160036' 'xqd20160037' 'xqd20160038' 'xqd20160039' 'xqd20160040'\n",
      " 'xqd20160041' 'xqd20160042' 'xqd20160043' 'xqd20160044' 'xqd20160045'\n",
      " 'xqd20160046' 'xqd20160047' 'xqd20160048' 'xqd20160049' 'xqd20160050'\n",
      " 'xqd20160051' 'xqd20160052' 'xqd20160053' 'xqd20160054' 'xqd20160055'\n",
      " 'xqd20160056' 'xqd20160057' 'xqd20160058' 'xqd20160059' 'xqd20160060'\n",
      " 'xqd20160061' 'xqd20160062' 'xqd20160063' 'xqd20160064' 'xqd20160065'\n",
      " 'xqd20160066' 'xqd20160067' 'xqd20160068' 'xqd20160069' 'xqd20160070'\n",
      " 'xqd20160071' 'xqd20160072' 'xqd20160073' 'xqd20160074' 'xqd20160075'\n",
      " 'xqd20160076' 'xqd20160077' 'xqd20160078' 'xqd20160079' 'xqd20160080'\n",
      " 'xqd20160081' 'xqd20160082' 'xqd20160083' 'xqd20160084' 'xqd20160085'\n",
      " 'xqd20160086' 'xqd20160087' 'xqd20160088' 'xqd20160089' 'xqd90160090'\n",
      " 'xqd91160291' 'xqd90160092' 'xqd90163093' 'xqd20160094' 'xqd20167095'\n",
      " 'xqd20160096' 'xqd20160097' 'xqd20160098' 'xqd20160099' 'xqd20160100'\n",
      " 'xqd20160101' 'xqd20160102' 'xqd20160103' 'xqd20160104' 'xqd20160105'\n",
      " 'xqd20160106' 'xqd20160107' 'xqd20160108' 'xqd20160109' 'xqd20160110'\n",
      " 'xqd20160111' 'xqd20160112' 'xqd20160113' 'xqd20160114' 'xqd20160115'\n",
      " 'xqd20160116' 'xqd20160117' 'xqd20160118' 'xqd20160119' 'xqd20160120'\n",
      " 'xqd20160121' 'xqd20160122' 'xqd20160123' 'xqd20160124' 'xqd20160125'\n",
      " 'xqd20160126' 'xqd20160127' 'xqd20160128' 'xqd78160129' 'xqd20160130'\n",
      " 'xqd20160131' 'xqd20160132' 'xqd20160133' 'xqd20160134' 'xqd20160135'\n",
      " 'xqd20160136' 'xqd20160137' 'xqd20160138' 'xqd20160139' 'xqd56160140'\n",
      " 'xqd20160141' 'xqd20160142' 'xqd20160143' 'xqd20160144' 'xqd20160145'\n",
      " 'xqd20160146' 'xqd20160147' 'xqd20160148' 'xqd20160149' 'xqd20160150'\n",
      " 'xqd20160151' 'xqd34160152' 'xqd20160153' 'xqd20160154' 'xqd20160155'\n",
      " 'xqd20160156' 'xqd20160157' 'xqd20160158' 'xqd12160159' 'xqd20160160'\n",
      " 'xqd20160161' 'xqd20160162' 'xqd20160163' 'xqd28160164' 'xqd20160165'\n",
      " 'xqd20160166' 'xqd20160167' 'xqd20160168' 'xqd20160169' 'xqd27160170'\n",
      " 'xqd20160171' 'xqd20160172' 'xqd20160173' 'xqd20160174' 'xqd20160175'\n",
      " 'xqd20160176' 'xqd20160177' 'xqd20160178' 'xqd20160179' 'xqd20160180'\n",
      " 'xqd20160181' 'xqd20160182' 'xqd20160183' 'xqd20160184' 'xqd20160185'\n",
      " 'xqd20160186' 'xqd20160187' 'xqd20160188' 'xqd20160189' 'xqd20160190'\n",
      " 'xqd20160191' 'xqd20160192' 'xqd20160193' 'xqd20160194' 'xqd20160195'\n",
      " 'xqd20160196' 'xqd20160197' 'xqd20160198' 'xqd20160199' 'xqd20160200'\n",
      " 'xqd20160201' 'xqd20160202' 'xqd20160203' 'xqd20160204' 'xqd20160205'\n",
      " 'xqd20160206' 'xqd20160207' 'xqd20160208' 'xqd20160209' 'xqd20160210'\n",
      " 'xqd20160211' 'xqd20160212' 'xqd20160213' 'xqd20160214' 'xqd20160215'\n",
      " 'xqd20160216' 'xqd20160217' 'xqd20160218' 'xqd20160219' 'xqd20160220'\n",
      " 'xqd20160221' 'xqd20160222' 'xqd20160223' 'xqd20160224' 'xqd20160225'\n",
      " 'xqd20160226' 'xqd20160227' 'xqd20160228' 'xqd20160229' 'xqd20160230'\n",
      " 'xqd20160231' 'xqd20160232' 'xqd20160233' 'xqd20160234' 'xqd20160235'\n",
      " 'xqd20160236' 'xqd20160237' 'xqd20160238' 'xqd20160239' 'xqd20160240'\n",
      " 'xqd20160241' 'xqd20160242' 'xqd20160243' 'xqd20160244' 'xqd20160245'\n",
      " 'xqd20160246' 'xqd20160247' 'xqd20160248' 'xqd20160249' 'xqd20160250'\n",
      " 'xqd20160251' 'xqd20160252' 'xqd20160253' 'xqd20160254' 'xqd20160255'\n",
      " 'xqd20160256' 'xqd20160257' 'xqd20160258' 'xqd20160259' 'xqd20160260'\n",
      " 'xqd20160261' 'xqd20160262' 'xqd20160263' 'xqd20160264' 'xqd20160265'\n",
      " 'xqd20160266' 'xqd20160267' 'xqd20160268' 'xqd20160269' 'xqd20160270'\n",
      " 'xqd20160271' 'xqd20160272' 'xqd20160273' 'xqd20160274' 'xqd20160275'\n",
      " 'xqd20160276' 'xqd20160277' 'xqd20160278' 'xqd20160279' 'xqd20160280'\n",
      " 'xqd20160281' 'xqd20160282' 'xqd20160283' 'xqd20160284' 'xqd20160285'\n",
      " 'xqd20160286' 'xqd20160287' 'xqd20160288' 'xqd20160289' 'xqd20160290'\n",
      " 'xqd20160291' 'xqd20160292' 'xqd20160293' 'xqd20160294' 'xqd20160295'\n",
      " 'xqd20160296' 'xqd20160297' 'xqd20160298' 'xqd20160299' 'xqd20160300'\n",
      " 'xqd20160301' 'xqd20160302' 'xqd20160303' 'xqd20160304' 'xqd20160305'\n",
      " 'xqd20160306' 'xqd20160307' 'xqd20160308' 'xqd20160309' 'xqd20160310'\n",
      " 'xqd20160311' 'xqd20160312' 'xqd20160313' 'xqd20160314' 'xqd20160315'\n",
      " 'xqd20160316' 'xqd20160317' 'xqd20160318' 'xqd20160319' 'xqd20160320'\n",
      " 'xqd20160321' 'xqd20160322' 'xqd20160323' 'xqd20160324' 'xqd20160325'\n",
      " 'xqd20160326' 'xqd20160327' 'xqd20160328' 'xqd20160329' 'xqd20160330'\n",
      " 'xqd20160331' 'xqd20160332' 'xqd20160333' 'xqd20160334' 'xqd20160335'\n",
      " 'xqd20160336' 'xqd20160337' 'xqd20160338' 'xqd20160339' 'xqd20160340'\n",
      " 'xqd20160341' 'xqd20160342' 'xqd20160343' 'xqd20160344' 'xqd20160345'\n",
      " 'xqd20160346' 'xqd20160347' 'xqd20160348' 'xqd20160349' 'xqd20160350'\n",
      " 'xqd20160351' 'xqd20160352' 'xqd20160353' 'xqd20160354' 'xqd20160355'\n",
      " 'xqd20160356' 'xqd20160357' 'xqd20160358' 'xqd20160359' 'xqd20160360'\n",
      " 'xqd20160361' 'xqd20160362' 'xqd20160363' 'xqd20160364' 'xqd20160365'\n",
      " 'xqd20160366' 'xqd20160367' 'xqd20160368' 'xqd20160369' 'xqd20160370'\n",
      " 'xqd20160371' 'xqd20160372' 'xqd20160373' 'xqd20160374' 'xqd20182575'\n",
      " 'xqd20160376' 'xqd20151038' 'xqd20160378' 'xqd20197340' 'xqd20160380'\n",
      " 'xqd20160381' 'xqd20160382' 'xqd20175721' 'xqd20160384' 'xqd20160385'\n",
      " 'xqd20160386' 'xqd20160387' 'xqd20160388' 'xqd20160389' 'xqd20160390'\n",
      " 'xqd20160391' 'xqd20125284' 'xqd20160393' 'xqd20160394' 'xqd20160395'\n",
      " 'xqd20160396' 'xqd20160397' 'xqd20160398' 'xqd20160399' 'xqd20160400'\n",
      " 'xqd20160401' 'xqd20160402' 'xqd20320403' 'xqd20160404' 'xqd20190405'\n",
      " 'xqd20160406' 'xqd20160407' 'xqd20160408' 'xqd20110409' 'xqd20160410'\n",
      " 'xqd20160411' 'xqd20160412' 'xqd20160413' 'xqd20169083' 'xqd20160415'\n",
      " 'xqd20160416' 'xqd20160417' 'xqd20160418' 'xqd20160419' 'xqd20160420'\n",
      " 'xqd20160421' 'xqd20160422' 'xqd20160423' 'xqd20160424' 'xqd20880425'\n",
      " 'xqd20160426' 'xqd20160427' 'xqd20160428' 'xqd20160429' 'xqd20160430'\n",
      " 'xqd20160431' 'xqd20160432' 'xqd20160433' 'xqd20160434' 'xqd20160435'\n",
      " 'xqd20160436' 'xqd20790437' 'xqd20160438' 'xqd20160439' 'xqd20160440'\n",
      " 'xqd20160441' 'xqd20160442' 'xqd20160443' 'xqd20160444' 'xqd20160445'\n",
      " 'xqd20160446' 'xqd20420447' 'xqd20160448' 'xqd20160449' 'xqd20160450'\n",
      " 'xqd20160451' 'xqd20160452' 'xqd20390453' 'xqd20160454' 'xqd20160455'\n",
      " 'xqd20160456' 'xqd20160457' 'xqd20160458' 'xqd20160459' 'xqd20160460'\n",
      " 'xqd20490461' 'xqd20160462' 'xqd20160463' 'xqd20870464' 'xqd20160465'\n",
      " 'xqd20169466' 'xqd20160467' 'xqd20160468' 'xqd20160469' 'xqd25660470'\n",
      " 'xqd20160471' 'xqd20160472' 'xqd20160473' 'xqd20160474' 'xqd20160475'\n",
      " 'xqd20160476' 'xqd20160477' 'xqd20160478' 'xqd20160479' 'xqd20160480'\n",
      " 'xqd20160481' 'xqd20160482' 'xqd20160483' 'xqd20160484' 'xqd20160485'\n",
      " 'xqd20160486' 'xqd20160487' 'xqd20160488' 'xqd20160489' 'xqd20160490'\n",
      " 'xqd20160491' 'xqd20160492' 'xqd20160493' 'xqd20160494' 'xqd20160495'\n",
      " 'xqd20160496' 'xqd20160497' 'xqd20160498' 'xqd20160499' 'xqd20160500']\n"
     ]
    }
   ],
   "source": [
    "print(\"Loan_Id values\\n\")\n",
    "print(df.Loan_Id.unique())"
   ]
  },
  {
   "cell_type": "code",
   "execution_count": 17,
   "metadata": {
    "execution": {
     "iopub.execute_input": "2020-10-01T08:22:22.423976Z",
     "iopub.status.busy": "2020-10-01T08:22:22.423125Z",
     "iopub.status.idle": "2020-10-01T08:22:22.428532Z",
     "shell.execute_reply": "2020-10-01T08:22:22.427882Z"
    },
    "papermill": {
     "duration": 0.053321,
     "end_time": "2020-10-01T08:22:22.428660",
     "exception": false,
     "start_time": "2020-10-01T08:22:22.375339",
     "status": "completed"
    },
    "tags": []
   },
   "outputs": [
    {
     "name": "stdout",
     "output_type": "stream",
     "text": [
      "types of features in Loan_Status\n",
      "['PAIDOFF' 'COLLECTION' 'COLLECTION_PAIDOFF']\n",
      "[['PAIDOFF']\n",
      " ['COLLECTION']\n",
      " ['COLLECTION_PAIDOFF']]\n"
     ]
    }
   ],
   "source": [
    "print(\"types of features in Loan_Status\")\n",
    "print(df.Loan_Status.unique())\n",
    "loan_status=df.Loan_Status.unique().reshape(-1,1)\n",
    "print(loan_status)"
   ]
  },
  {
   "cell_type": "code",
   "execution_count": 18,
   "metadata": {
    "execution": {
     "iopub.execute_input": "2020-10-01T08:22:22.524398Z",
     "iopub.status.busy": "2020-10-01T08:22:22.523398Z",
     "iopub.status.idle": "2020-10-01T08:22:22.527271Z",
     "shell.execute_reply": "2020-10-01T08:22:22.527896Z"
    },
    "papermill": {
     "duration": 0.0581,
     "end_time": "2020-10-01T08:22:22.528065",
     "exception": false,
     "start_time": "2020-10-01T08:22:22.469965",
     "status": "completed"
    },
    "tags": []
   },
   "outputs": [
    {
     "name": "stdout",
     "output_type": "stream",
     "text": [
      "Loan status with Loan_Id counts\n",
      "\n",
      "300 100 100\n"
     ]
    }
   ],
   "source": [
    "paidoff_count=0\n",
    "collection_count=0\n",
    "collection_paidoff_count=0\n",
    "\n",
    "print('Loan status with Loan_Id counts\\n')\n",
    "paidoff_count=len(df[df.Loan_Status==loan_status[0][0]].Loan_Id)\n",
    "collection_count=len(df[df.Loan_Status==loan_status[1][0]].Loan_Id)\n",
    "collection_paidoff_count=len(df[df.Loan_Status==loan_status[2][0]].Loan_Id)  \n",
    "print(paidoff_count,collection_count,collection_paidoff_count)"
   ]
  },
  {
   "cell_type": "code",
   "execution_count": 19,
   "metadata": {
    "execution": {
     "iopub.execute_input": "2020-10-01T08:22:22.620340Z",
     "iopub.status.busy": "2020-10-01T08:22:22.619375Z",
     "iopub.status.idle": "2020-10-01T08:22:22.623501Z",
     "shell.execute_reply": "2020-10-01T08:22:22.622841Z"
    },
    "papermill": {
     "duration": 0.054311,
     "end_time": "2020-10-01T08:22:22.623647",
     "exception": false,
     "start_time": "2020-10-01T08:22:22.569336",
     "status": "completed"
    },
    "tags": []
   },
   "outputs": [
    {
     "name": "stdout",
     "output_type": "stream",
     "text": [
      "Principle coloumn\n",
      "\n",
      "1000    377\n",
      "800     111\n",
      "300       6\n",
      "500       3\n",
      "900       2\n",
      "700       1\n",
      "Name: Principal, dtype: int64\n"
     ]
    }
   ],
   "source": [
    "df.Principal.unique\n",
    "print(\"Principle coloumn\\n\")\n",
    "print(df.Principal.value_counts())"
   ]
  },
  {
   "cell_type": "code",
   "execution_count": 20,
   "metadata": {
    "execution": {
     "iopub.execute_input": "2020-10-01T08:22:22.714291Z",
     "iopub.status.busy": "2020-10-01T08:22:22.713439Z",
     "iopub.status.idle": "2020-10-01T08:22:22.722067Z",
     "shell.execute_reply": "2020-10-01T08:22:22.722638Z"
    },
    "papermill": {
     "duration": 0.057077,
     "end_time": "2020-10-01T08:22:22.722825",
     "exception": false,
     "start_time": "2020-10-01T08:22:22.665748",
     "status": "completed"
    },
    "tags": []
   },
   "outputs": [
    {
     "name": "stdout",
     "output_type": "stream",
     "text": [
      "Loan_Status and Principle\n",
      "Loan_Status         Principal\n",
      "COLLECTION          1000          77\n",
      "                    800           23\n",
      "COLLECTION_PAIDOFF  1000          80\n",
      "                    800           19\n",
      "                    500            1\n",
      "PAIDOFF             1000         220\n",
      "                    800           69\n",
      "                    300            6\n",
      "                    500            2\n",
      "                    900            2\n",
      "                    700            1\n",
      "Name: Principal, dtype: int64\n"
     ]
    }
   ],
   "source": [
    "print(\"Loan_Status and Principle\")\n",
    "print(df.groupby('Loan_Status')['Principal'].value_counts())"
   ]
  },
  {
   "cell_type": "code",
   "execution_count": 21,
   "metadata": {
    "execution": {
     "iopub.execute_input": "2020-10-01T08:22:22.816588Z",
     "iopub.status.busy": "2020-10-01T08:22:22.815671Z",
     "iopub.status.idle": "2020-10-01T08:22:22.821157Z",
     "shell.execute_reply": "2020-10-01T08:22:22.820072Z"
    },
    "papermill": {
     "duration": 0.055897,
     "end_time": "2020-10-01T08:22:22.821349",
     "exception": false,
     "start_time": "2020-10-01T08:22:22.765452",
     "status": "completed"
    },
    "tags": []
   },
   "outputs": [
    {
     "name": "stdout",
     "output_type": "stream",
     "text": [
      "Total amount\n",
      "Loan_Status\n",
      "COLLECTION             95400\n",
      "COLLECTION_PAIDOFF     95700\n",
      "PAIDOFF               280500\n",
      "Name: Principal, dtype: int64\n"
     ]
    }
   ],
   "source": [
    "print(\"Total amount\")\n",
    "print(df.groupby('Loan_Status')['Principal'].sum())"
   ]
  },
  {
   "cell_type": "code",
   "execution_count": 22,
   "metadata": {
    "execution": {
     "iopub.execute_input": "2020-10-01T08:22:22.929352Z",
     "iopub.status.busy": "2020-10-01T08:22:22.928269Z",
     "iopub.status.idle": "2020-10-01T08:22:22.932488Z",
     "shell.execute_reply": "2020-10-01T08:22:22.933112Z"
    },
    "papermill": {
     "duration": 0.067892,
     "end_time": "2020-10-01T08:22:22.933286",
     "exception": false,
     "start_time": "2020-10-01T08:22:22.865394",
     "status": "completed"
    },
    "tags": []
   },
   "outputs": [
    {
     "name": "stdout",
     "output_type": "stream",
     "text": [
      "Unique Terms\n",
      "\n",
      "30    272\n",
      "15    207\n",
      "7      21\n",
      "Name: Terms, dtype: int64\n",
      "[30 15  7]\n"
     ]
    }
   ],
   "source": [
    "print(\"Unique Terms\\n\")\n",
    "print(df.Terms.value_counts())\n",
    "print(df.Terms.unique())"
   ]
  },
  {
   "cell_type": "code",
   "execution_count": 23,
   "metadata": {
    "execution": {
     "iopub.execute_input": "2020-10-01T08:22:23.039103Z",
     "iopub.status.busy": "2020-10-01T08:22:23.034494Z",
     "iopub.status.idle": "2020-10-01T08:22:23.044695Z",
     "shell.execute_reply": "2020-10-01T08:22:23.043994Z"
    },
    "papermill": {
     "duration": 0.065889,
     "end_time": "2020-10-01T08:22:23.044844",
     "exception": false,
     "start_time": "2020-10-01T08:22:22.978955",
     "status": "completed"
    },
    "tags": []
   },
   "outputs": [
    {
     "name": "stdout",
     "output_type": "stream",
     "text": [
      "relation of terms and principal\n",
      "\n",
      "Terms  Principal\n",
      "7      1000          11\n",
      "       300            6\n",
      "       800            2\n",
      "       500            1\n",
      "       900            1\n",
      "15     800          103\n",
      "       1000         100\n",
      "       500            2\n",
      "       700            1\n",
      "       900            1\n",
      "30     1000         266\n",
      "       800            6\n",
      "Name: Principal, dtype: int64\n",
      "Groupby sum of terms and principal\n",
      "\n",
      "Terms\n",
      "7      15800\n",
      "15    185000\n",
      "30    270800\n",
      "Name: Principal, dtype: int64\n"
     ]
    }
   ],
   "source": [
    "print(\"relation of terms and principal\\n\")\n",
    "print(df.groupby('Terms')['Principal'].value_counts())\n",
    "print(\"Groupby sum of terms and principal\\n\")\n",
    "print(df.groupby('Terms')['Principal'].sum())"
   ]
  },
  {
   "cell_type": "code",
   "execution_count": 24,
   "metadata": {
    "execution": {
     "iopub.execute_input": "2020-10-01T08:22:23.146008Z",
     "iopub.status.busy": "2020-10-01T08:22:23.140029Z",
     "iopub.status.idle": "2020-10-01T08:22:23.175685Z",
     "shell.execute_reply": "2020-10-01T08:22:23.175027Z"
    },
    "papermill": {
     "duration": 0.084116,
     "end_time": "2020-10-01T08:22:23.175813",
     "exception": false,
     "start_time": "2020-10-01T08:22:23.091697",
     "status": "completed"
    },
    "tags": []
   },
   "outputs": [
    {
     "name": "stdout",
     "output_type": "stream",
     "text": [
      "effective date\n",
      "\n",
      "0\n",
      "features of effective date\n",
      "\n",
      "['9/8/2016' '9/9/2016' '9/10/2016' '9/11/2016' '9/12/2016' '9/13/2016'\n",
      " '9/14/2016']\n",
      "9/11/2016    231\n",
      "9/12/2016    148\n",
      "9/10/2016     46\n",
      "9/14/2016     33\n",
      "9/13/2016     23\n",
      "9/9/2016      15\n",
      "9/8/2016       4\n",
      "Name: Effective_Date, dtype: int64\n",
      "Group by effective date and terms and principal\n",
      "                Terms  Principal\n",
      "Effective_Date                  \n",
      "9/10/2016          46         46\n",
      "9/11/2016         231        231\n",
      "9/12/2016         148        148\n",
      "9/13/2016          23         23\n",
      "9/14/2016          33         33\n",
      "9/8/2016            4          4\n",
      "9/9/2016           15         15\n",
      "                Terms  Principal\n",
      "Effective_Date                  \n",
      "9/10/2016        1026      43200\n",
      "9/11/2016        5328     219000\n",
      "9/12/2016        3335     139400\n",
      "9/13/2016         441      20900\n",
      "9/14/2016         840      31400\n",
      "9/8/2016          105       4000\n",
      "9/9/2016          337      13700\n",
      "                    Terms    Principal\n",
      "Effective_Date                        \n",
      "9/10/2016       22.304348   939.130435\n",
      "9/11/2016       23.064935   948.051948\n",
      "9/12/2016       22.533784   941.891892\n",
      "9/13/2016       19.173913   908.695652\n",
      "9/14/2016       25.454545   951.515152\n",
      "9/8/2016        26.250000  1000.000000\n",
      "9/9/2016        22.466667   913.333333\n"
     ]
    },
    {
     "name": "stderr",
     "output_type": "stream",
     "text": [
      "/opt/conda/lib/python3.7/site-packages/ipykernel_launcher.py:7: FutureWarning: Indexing with multiple keys (implicitly converted to a tuple of keys) will be deprecated, use a list instead.\n",
      "  import sys\n",
      "/opt/conda/lib/python3.7/site-packages/ipykernel_launcher.py:8: FutureWarning: Indexing with multiple keys (implicitly converted to a tuple of keys) will be deprecated, use a list instead.\n",
      "  \n",
      "/opt/conda/lib/python3.7/site-packages/ipykernel_launcher.py:9: FutureWarning: Indexing with multiple keys (implicitly converted to a tuple of keys) will be deprecated, use a list instead.\n",
      "  if __name__ == '__main__':\n"
     ]
    }
   ],
   "source": [
    "print(\"effective date\\n\")\n",
    "print(df.Effective_Date.isnull().sum())\n",
    "print(\"features of effective date\\n\")\n",
    "print(df.Effective_Date.unique())\n",
    "print(df.Effective_Date.value_counts())\n",
    "print(\"Group by effective date and terms and principal\")\n",
    "print(df.groupby('Effective_Date')['Terms','Principal'].count())\n",
    "print(df.groupby('Effective_Date')['Terms','Principal'].sum())\n",
    "print(df.groupby('Effective_Date')['Terms','Principal'].mean())"
   ]
  },
  {
   "cell_type": "code",
   "execution_count": 25,
   "metadata": {
    "execution": {
     "iopub.execute_input": "2020-10-01T08:22:23.283920Z",
     "iopub.status.busy": "2020-10-01T08:22:23.282990Z",
     "iopub.status.idle": "2020-10-01T08:22:23.298368Z",
     "shell.execute_reply": "2020-10-01T08:22:23.297647Z"
    },
    "papermill": {
     "duration": 0.075782,
     "end_time": "2020-10-01T08:22:23.298566",
     "exception": false,
     "start_time": "2020-10-01T08:22:23.222784",
     "status": "completed"
    },
    "tags": []
   },
   "outputs": [
    {
     "name": "stdout",
     "output_type": "stream",
     "text": [
      "Age in Data state\n",
      "\n",
      "Data isnull sum\n",
      "\n",
      "0\n",
      "Data unique age\n",
      "\n",
      "[45 50 33 27 28 35 29 36 26 39 40 32 43 25 34 31 37 24 21 30 22 44 46 38\n",
      " 23 20 47 42 19 51 41 18 49]\n",
      "Data value counts age\n",
      "\n",
      "26    46\n",
      "29    42\n",
      "27    38\n",
      "30    37\n",
      "28    32\n",
      "33    30\n",
      "35    26\n",
      "34    25\n",
      "24    23\n",
      "31    22\n",
      "25    20\n",
      "32    20\n",
      "38    19\n",
      "37    19\n",
      "36    14\n",
      "39    10\n",
      "23    10\n",
      "40     8\n",
      "22     8\n",
      "21     7\n",
      "45     5\n",
      "46     5\n",
      "41     5\n",
      "43     5\n",
      "44     4\n",
      "50     4\n",
      "20     4\n",
      "42     4\n",
      "47     3\n",
      "19     2\n",
      "51     1\n",
      "49     1\n",
      "18     1\n",
      "Name: Age, dtype: int64\n",
      "Age group by Terms nad Principal in every Data\n",
      "\n",
      "Terms  Age\n",
      "7      29     4\n",
      "       35     3\n",
      "       25     2\n",
      "       26     2\n",
      "       27     2\n",
      "             ..\n",
      "30     44     2\n",
      "       18     1\n",
      "       46     1\n",
      "       49     1\n",
      "       50     1\n",
      "Name: Age, Length: 72, dtype: int64\n",
      "Group sum every Terms and Principal in Data\n",
      "     Terms  Principal\n",
      "Age                  \n",
      "18      30       1000\n",
      "19      60       2000\n",
      "20     105       4000\n",
      "21     195       6800\n",
      "22     172       7300\n",
      "23     202       8000\n",
      "24     525      22200\n",
      "25     404      19400\n",
      "26    1079      44100\n",
      "27     899      36600\n",
      "28     780      30500\n",
      "29     898      39000\n",
      "30     900      36200\n",
      "31     494      21200\n",
      "32     457      19400\n",
      "33     735      27700\n",
      "34     554      24200\n",
      "35     546      23000\n",
      "36     330      13200\n",
      "37     442      17400\n",
      "38     450      18000\n",
      "39     195       9000\n",
      "40     195       7600\n",
      "41     105       4600\n",
      "42      90       3600\n",
      "43     105       4400\n",
      "44      90       3600\n",
      "45     120       5000\n",
      "46      90       4200\n",
      "47      45       2800\n",
      "49      30       1000\n",
      "50      75       3800\n",
      "51      15        800\n"
     ]
    }
   ],
   "source": [
    "print('Age in Data state\\n')\n",
    "print('Data isnull sum\\n')\n",
    "print(df.Age.isnull().sum())\n",
    "print('Data unique age\\n')\n",
    "print(df.Age.unique())\n",
    "print('Data value counts age\\n')\n",
    "print(df.Age.value_counts())\n",
    "print('Age group by Terms nad Principal in every Data\\n')\n",
    "print(df.groupby('Terms')['Age'].value_counts())\n",
    "print('Group sum every Terms and Principal in Data')\n",
    "print(df.groupby('Age')[['Terms','Principal']].sum())"
   ]
  },
  {
   "cell_type": "code",
   "execution_count": 26,
   "metadata": {
    "execution": {
     "iopub.execute_input": "2020-10-01T08:22:23.404563Z",
     "iopub.status.busy": "2020-10-01T08:22:23.403433Z",
     "iopub.status.idle": "2020-10-01T08:22:23.455196Z",
     "shell.execute_reply": "2020-10-01T08:22:23.456249Z"
    },
    "papermill": {
     "duration": 0.109742,
     "end_time": "2020-10-01T08:22:23.456485",
     "exception": false,
     "start_time": "2020-10-01T08:22:23.346743",
     "status": "completed"
    },
    "tags": []
   },
   "outputs": [
    {
     "name": "stdout",
     "output_type": "stream",
     "text": [
      "44100 26\n",
      "39000 29\n",
      "36600 27\n",
      "36200 30\n",
      "30500 28\n",
      "27700 33\n",
      "23000 35\n",
      "24200 34\n",
      "22200 24\n",
      "21200 31\n",
      "19400 25\n",
      "19400 32\n",
      "18000 38\n",
      "17400 37\n",
      "13200 36\n",
      "9000 39\n",
      "8000 23\n",
      "7600 40\n",
      "7300 22\n",
      "6800 21\n",
      "5000 45\n",
      "4200 46\n",
      "4600 41\n",
      "4400 43\n",
      "3600 44\n",
      "3800 50\n",
      "4000 20\n",
      "3600 42\n",
      "2800 47\n",
      "2000 19\n",
      "800 51\n",
      "1000 49\n",
      "1000 18\n"
     ]
    }
   ],
   "source": [
    "df_age=df.Age.value_counts().index\n",
    "len(df_age)\n",
    "count=0\n",
    "df_age_list=[]\n",
    "for age in df_age:\n",
    "    df_age_list.append(sum(df[df.Age==int(age)].Principal))\n",
    "    print(df_age_list[count],age)\n",
    "    count=count+1"
   ]
  },
  {
   "cell_type": "code",
   "execution_count": 27,
   "metadata": {
    "execution": {
     "iopub.execute_input": "2020-10-01T08:22:23.567823Z",
     "iopub.status.busy": "2020-10-01T08:22:23.562917Z",
     "iopub.status.idle": "2020-10-01T08:22:23.576878Z",
     "shell.execute_reply": "2020-10-01T08:22:23.576044Z"
    },
    "papermill": {
     "duration": 0.07093,
     "end_time": "2020-10-01T08:22:23.577012",
     "exception": false,
     "start_time": "2020-10-01T08:22:23.506082",
     "status": "completed"
    },
    "tags": []
   },
   "outputs": [
    {
     "name": "stdout",
     "output_type": "stream",
     "text": [
      "Education\n",
      "\n",
      "['High School or Below' 'Bechalor' 'college' 'Master or Above']\n",
      "college                 220\n",
      "High School or Below    209\n",
      "Bechalor                 67\n",
      "Master or Above           4\n",
      "Name: Education, dtype: int64\n",
      "Education             Terms\n",
      "Bechalor              7          3800\n",
      "                      15        28500\n",
      "                      30        31000\n",
      "High School or Below  7          4900\n",
      "                      15        70100\n",
      "                      30       123800\n",
      "Master or Above       7           600\n",
      "                      15         1800\n",
      "college               7          6500\n",
      "                      15        84600\n",
      "                      30       116000\n",
      "Name: Principal, dtype: int64\n",
      "Education\n",
      "Bechalor                 67\n",
      "High School or Below    209\n",
      "Master or Above           4\n",
      "college                 220\n",
      "Name: Age, dtype: int64\n"
     ]
    }
   ],
   "source": [
    "print(\"Education\\n\")\n",
    "print(df.Education.unique())\n",
    "print(df.Education.value_counts())\n",
    "print(df.groupby(['Education','Terms'])['Principal'].sum())\n",
    "print(df.groupby('Education')['Age'].count())"
   ]
  },
  {
   "cell_type": "code",
   "execution_count": 28,
   "metadata": {
    "execution": {
     "iopub.execute_input": "2020-10-01T08:22:23.688654Z",
     "iopub.status.busy": "2020-10-01T08:22:23.687123Z",
     "iopub.status.idle": "2020-10-01T08:22:23.708927Z",
     "shell.execute_reply": "2020-10-01T08:22:23.709843Z"
    },
    "papermill": {
     "duration": 0.081173,
     "end_time": "2020-10-01T08:22:23.710061",
     "exception": false,
     "start_time": "2020-10-01T08:22:23.628888",
     "status": "completed"
    },
    "tags": []
   },
   "outputs": [
    {
     "name": "stdout",
     "output_type": "stream",
     "text": [
      "Unique values of Gender\n",
      "\n",
      "['male' 'female']\n",
      "null values\n",
      "\n",
      "null values in Gender column  0\n",
      "Gender and Principal\n",
      "\n",
      "Gender\n",
      "female     72800\n",
      "male      398800\n",
      "Name: Principal, dtype: int64\n",
      "Gender  Terms\n",
      "female  7          4700\n",
      "        15        26500\n",
      "        30        41600\n",
      "male    7         11100\n",
      "        15       158500\n",
      "        30       229200\n",
      "Name: Principal, dtype: int64\n",
      "Gender , Age , Principal\n",
      "Gender  Age\n",
      "female  19      1\n",
      "        21      1\n",
      "        23      2\n",
      "        24      3\n",
      "        25      2\n",
      "        26      8\n",
      "        27      9\n",
      "        28      2\n",
      "        29      3\n",
      "        30      5\n",
      "        31      6\n",
      "        32      4\n",
      "        33      5\n",
      "        34      4\n",
      "        35      4\n",
      "        36      2\n",
      "        37      3\n",
      "        38      3\n",
      "        40      1\n",
      "        42      1\n",
      "        43      1\n",
      "        44      2\n",
      "        46      2\n",
      "        47      1\n",
      "        49      1\n",
      "        50      1\n",
      "male    18      1\n",
      "        19      1\n",
      "        20      4\n",
      "        21      6\n",
      "        22      8\n",
      "        23      8\n",
      "        24     20\n",
      "        25     18\n",
      "        26     38\n",
      "        27     29\n",
      "        28     30\n",
      "        29     39\n",
      "        30     32\n",
      "        31     16\n",
      "        32     16\n",
      "        33     25\n",
      "        34     21\n",
      "        35     22\n",
      "        36     12\n",
      "        37     16\n",
      "        38     16\n",
      "        39     10\n",
      "        40      7\n",
      "        41      5\n",
      "        42      3\n",
      "        43      4\n",
      "        44      2\n",
      "        45      5\n",
      "        46      3\n",
      "        47      2\n",
      "        50      3\n",
      "        51      1\n",
      "Name: Principal, dtype: int64\n",
      "Gender  Age\n",
      "female  19      1000\n",
      "        21      1000\n",
      "        23      1300\n",
      "        24      3000\n",
      "        25      2000\n",
      "        26      7300\n",
      "        27      8600\n",
      "        28      2000\n",
      "        29      3000\n",
      "        30      4800\n",
      "        31      5600\n",
      "        32      3800\n",
      "        33      4800\n",
      "        34      3600\n",
      "        35      3800\n",
      "        36      2000\n",
      "        37      3000\n",
      "        38      3000\n",
      "        40       800\n",
      "        42      1000\n",
      "        43      1000\n",
      "        44      1800\n",
      "        46      1600\n",
      "        47      1000\n",
      "        49      1000\n",
      "        50      1000\n",
      "male    18      1000\n",
      "        19      1000\n",
      "        20      4000\n",
      "        21      5800\n",
      "        22      7300\n",
      "        23      6700\n",
      "        24     19200\n",
      "        25     17400\n",
      "        26     36800\n",
      "        27     28000\n",
      "        28     28500\n",
      "        29     36000\n",
      "        30     31400\n",
      "        31     15600\n",
      "        32     15600\n",
      "        33     22900\n",
      "        34     20600\n",
      "        35     19200\n",
      "        36     11200\n",
      "        37     14400\n",
      "        38     15000\n",
      "        39      9000\n",
      "        40      6800\n",
      "        41      4600\n",
      "        42      2600\n",
      "        43      3400\n",
      "        44      1800\n",
      "        45      5000\n",
      "        46      2600\n",
      "        47      1800\n",
      "        50      2800\n",
      "        51       800\n",
      "Name: Principal, dtype: int64\n"
     ]
    }
   ],
   "source": [
    "print(\"Unique values of Gender\\n\")\n",
    "print(df.Gender.unique())\n",
    "print(\"null values\\n\")\n",
    "print(\"null values in Gender column \",df.Gender.isnull().sum())\n",
    "print(\"Gender and Principal\\n\")\n",
    "print(df.groupby('Gender')['Principal'].sum())\n",
    "print(df.groupby(['Gender','Terms'])['Principal'].sum())\n",
    "print(\"Gender , Age , Principal\")\n",
    "print(df.groupby(['Gender','Age'])['Principal'].count())\n",
    "print(df.groupby(['Gender','Age'])['Principal'].sum())"
   ]
  },
  {
   "cell_type": "code",
   "execution_count": 29,
   "metadata": {
    "execution": {
     "iopub.execute_input": "2020-10-01T08:22:23.823501Z",
     "iopub.status.busy": "2020-10-01T08:22:23.817251Z",
     "iopub.status.idle": "2020-10-01T08:22:23.853172Z",
     "shell.execute_reply": "2020-10-01T08:22:23.852339Z"
    },
    "papermill": {
     "duration": 0.093716,
     "end_time": "2020-10-01T08:22:23.853341",
     "exception": false,
     "start_time": "2020-10-01T08:22:23.759625",
     "status": "completed"
    },
    "tags": []
   },
   "outputs": [
    {
     "name": "stdout",
     "output_type": "stream",
     "text": [
      "due_date unique values\n",
      "\n",
      "['10/7/2016' '9/22/2016' '10/8/2016' '9/15/2016' '9/24/2016' '9/16/2016'\n",
      " '10/9/2016' '10/10/2016' '9/25/2016' '9/17/2016' '11/9/2016' '10/25/2016'\n",
      " '9/18/2016' '9/26/2016' '10/26/2016' '10/11/2016' '11/10/2016'\n",
      " '9/19/2016' '10/12/2016' '9/27/2016' '9/28/2016' '10/13/2016'\n",
      " '11/12/2016' '9/23/2016' '11/7/2016']\n",
      "paid_off unique values\n",
      "\n",
      "['9/14/2016 19:31' '10/7/2016 9:00' '9/25/2016 16:58' '9/22/2016 20:00'\n",
      " '9/23/2016 21:36' '9/9/2016 13:45' '10/7/2016 23:07' '10/5/2016 20:33'\n",
      " '10/8/2016 16:00' '9/24/2016 13:00' '9/11/2016 19:11' '10/9/2016 16:00'\n",
      " '10/7/2016 23:32' '9/13/2016 21:57' '9/15/2016 14:27' '9/24/2016 16:00'\n",
      " '9/27/2016 14:21' '9/23/2016 18:49' '10/5/2016 22:05' '9/23/2016 7:42'\n",
      " '10/9/2016 9:00' '10/8/2016 17:09' '10/9/2016 23:00' '10/3/2016 12:50'\n",
      " '9/29/2016 12:18' '9/21/2016 20:16' '9/23/2016 8:21' '9/22/2016 19:17'\n",
      " '10/9/2016 17:33' '9/24/2016 14:41' '10/7/2016 21:48' '10/9/2016 17:44'\n",
      " '10/9/2016 7:24' '9/25/2016 21:49' '9/25/2016 9:00' '10/10/2016 16:00'\n",
      " '9/25/2016 13:00' '10/10/2016 11:33' '9/25/2016 14:36' '9/24/2016 9:00'\n",
      " '9/20/2016 15:00' '9/21/2016 22:29' '9/12/2016 22:17' '10/8/2016 14:14'\n",
      " '10/9/2016 8:53' '10/10/2016 9:00' '9/25/2016 19:21' '9/13/2016 4:34'\n",
      " '9/25/2016 16:00' '10/7/2016 2:33' '9/24/2016 11:40' '9/22/2016 6:38'\n",
      " '9/30/2016 21:12' '9/24/2016 13:42' '10/8/2016 7:25' '9/12/2016 11:40'\n",
      " '9/25/2016 14:38' '9/25/2016 23:00' '10/8/2016 12:04' '9/14/2016 22:05'\n",
      " '9/24/2016 13:27' '9/22/2016 21:18' '9/24/2016 22:53' '10/8/2016 13:12'\n",
      " '10/9/2016 13:49' '9/30/2016 14:29' '9/21/2016 16:18' '9/13/2016 14:53'\n",
      " '10/10/2016 13:00' '11/9/2016 9:00' '9/17/2016 13:01' '9/21/2016 9:35'\n",
      " '9/24/2016 20:33' '9/17/2016 9:00' '9/24/2016 0:12' '9/21/2016 12:43'\n",
      " '10/8/2016 20:49' '9/20/2016 5:38' '10/10/2016 9:01' '10/8/2016 16:55'\n",
      " '9/25/2016 23:48' '9/22/2016 13:15' '9/23/2016 13:31' '10/8/2016 17:19'\n",
      " '10/9/2016 13:05' '9/20/2016 20:47' '10/10/2016 13:01' '10/8/2016 21:39'\n",
      " '10/7/2016 14:23' '10/6/2016 15:25' '10/8/2016 6:56' '9/16/2016 11:58'\n",
      " '10/10/2016 16:01' '9/27/2016 7:02' '10/25/2016 9:00' '9/24/2016 11:02'\n",
      " '9/29/2016 18:57' '9/25/2016 12:24' '9/26/2016 4:41' '9/22/2016 15:44'\n",
      " '10/10/2016 16:13' '9/30/2016 7:12' '9/23/2016 11:26' '9/12/2016 10:26'\n",
      " '9/22/2016 21:45' '10/9/2016 20:28' '10/1/2016 16:48' '9/25/2016 9:01'\n",
      " '9/15/2016 20:36' '9/21/2016 15:33' '9/29/2016 13:36' '9/22/2016 20:51'\n",
      " '11/9/2016 23:00' '9/18/2016 9:00' '9/26/2016 9:00' '9/24/2016 10:14'\n",
      " '10/26/2016 9:00' '9/23/2016 20:30' '9/13/2016 20:17' '10/10/2016 7:01'\n",
      " '10/11/2016 13:00' '9/24/2016 14:55' '9/25/2016 20:56' '9/22/2016 10:49'\n",
      " '9/25/2016 22:09' '10/11/2016 9:00' '9/26/2016 19:33' '11/10/2016 16:00'\n",
      " '10/11/2016 16:00' '9/26/2016 13:00' '9/26/2016 16:00' '9/17/2016 7:39'\n",
      " '9/22/2016 10:30' '10/10/2016 20:41' '10/10/2016 8:04' '9/24/2016 11:00'\n",
      " '9/17/2016 9:25' '10/7/2016 11:53' '9/25/2016 8:39' '10/10/2016 20:28'\n",
      " '10/1/2016 10:18' '9/19/2016 21:07' '9/30/2016 14:38' '9/14/2016 20:31'\n",
      " '9/24/2016 16:15' '10/10/2016 15:49' '11/10/2016 13:00' '9/23/2016 10:32'\n",
      " '9/30/2016 14:03' '10/9/2016 14:17' '9/20/2016 8:26' '10/11/2016 23:00'\n",
      " '9/24/2016 20:47' '10/11/2016 9:01' '9/16/2016 14:52' '10/9/2016 10:00'\n",
      " '9/12/2016 14:40' '9/23/2016 21:58' '10/8/2016 18:48' '10/10/2016 16:41'\n",
      " '10/11/2016 13:01' '9/16/2016 2:34' '9/21/2016 8:11' '9/26/2016 23:00'\n",
      " '9/23/2016 14:01' '9/25/2016 13:29' '9/25/2016 14:50' '10/8/2016 15:35'\n",
      " '10/11/2016 16:01' '9/26/2016 19:35' '10/9/2016 21:28' '10/7/2016 16:45'\n",
      " '9/24/2016 12:13' '9/14/2016 23:02' '10/8/2016 11:03' '9/25/2016 19:31'\n",
      " '9/14/2016 19:48' '10/12/2016 23:00' '9/25/2016 12:48' '9/26/2016 21:18'\n",
      " '10/7/2016 10:22' '9/26/2016 6:17' '9/22/2016 16:57' '10/9/2016 21:57'\n",
      " '10/4/2016 12:59' '9/17/2016 20:51' '10/8/2016 15:51' '9/27/2016 9:00'\n",
      " '9/16/2016 15:57' '10/12/2016 9:00' '9/26/2016 7:48' '9/21/2016 16:53'\n",
      " '10/11/2016 0:29' '9/25/2016 10:37' '9/27/2016 13:00' '9/26/2016 15:10'\n",
      " '9/24/2016 12:46' '9/28/2016 9:00' '10/13/2016 9:00' '10/6/2016 12:09'\n",
      " '10/14/2016 11:03' '10/8/2016 17:12' '11/12/2016 9:00' '10/13/2016 13:00'\n",
      " '9/27/2016 15:52' '9/28/2016 13:00' '9/15/2016 0:43' '10/10/2016 10:25'\n",
      " '9/27/2016 20:41' '10/6/2016 6:51' '10/12/2016 6:25' '9/27/2016 22:50'\n",
      " '10/12/2016 12:30' '10/12/2016 3:49' '9/27/2016 7:48' '9/22/2016 9:28'\n",
      " '10/11/2016 16:33' '9/18/2016 16:56' '9/21/2016 4:42' '10/13/2016 11:00'\n",
      " nan '10/10/2016 11:45' '9/27/2016 17:00' '11/20/2016 14:10'\n",
      " '9/28/2016 15:38' '9/26/2016 17:22' '10/21/2016 14:00' '9/26/2016 11:03'\n",
      " '11/5/2016 15:39' '11/22/2016 15:53' '9/29/2016 10:30' '10/10/2016 15:18'\n",
      " '11/5/2016 10:49' '9/27/2016 17:10' '9/26/2016 11:35' '10/12/2016 9:59'\n",
      " '9/27/2016 17:14' '10/11/2016 12:45' '9/28/2016 11:38' '10/7/2016 13:21'\n",
      " '11/4/2016 15:37' '9/28/2016 17:39' '10/12/2016 9:52' '9/29/2016 15:12'\n",
      " '10/12/2016 11:17' '11/10/2016 22:58' '11/3/2016 15:23'\n",
      " '10/11/2016 16:44' '10/11/2016 11:02' '10/12/2016 13:17'\n",
      " '10/11/2016 17:22' '9/28/2016 14:02' '9/29/2016 13:42' '9/19/2016 15:00'\n",
      " '10/12/2016 14:32' '10/11/2016 11:33' '10/11/2016 16:27'\n",
      " '11/15/2016 15:27' '10/11/2016 16:13' '10/17/2016 10:06'\n",
      " '11/14/2016 13:15' '10/24/2016 16:20' '9/27/2016 16:35'\n",
      " '10/11/2016 11:48' '11/7/2016 19:21' '10/12/2016 16:22' '9/27/2016 17:24'\n",
      " '11/4/2016 11:07' '11/2/2016 9:39' '10/13/2016 18:18' '10/11/2016 11:29'\n",
      " '10/13/2016 16:27' '9/29/2016 11:19' '9/28/2016 11:17' '10/14/2016 11:04'\n",
      " '10/17/2016 17:40' '9/28/2016 9:42' '11/18/2016 15:52' '10/30/2016 14:19'\n",
      " '10/13/2016 15:10' '9/28/2016 13:36' '9/28/2016 15:34' '11/17/2016 11:55'\n",
      " '11/15/2016 18:51' '9/30/2016 10:23' '11/11/2016 17:17'\n",
      " '10/12/2016 12:54' '10/15/2016 9:48' '10/27/2016 11:14'\n",
      " '10/15/2016 14:14' '12/2/2016 9:45' '9/28/2016 15:02' '11/4/2016 14:46'\n",
      " '11/16/2016 12:12' '10/14/2016 19:02' '9/28/2016 11:34' '11/9/2016 18:12'\n",
      " '10/31/2016 13:07' '10/20/2016 17:38' '11/7/2016 8:55' '10/12/2016 18:26'\n",
      " '10/25/2016 13:44' '9/29/2016 15:07' '9/27/2016 11:40' '10/18/2016 19:08'\n",
      " '10/15/2016 9:23' '10/14/2016 10:07' '11/21/2016 11:36'\n",
      " '10/13/2016 12:02' '10/9/2016 19:30' '10/12/2016 18:04'\n",
      " '10/17/2016 10:53' '11/9/2016 13:41' '10/25/2016 17:44' '9/29/2016 12:45'\n",
      " '10/13/2016 14:45' '10/14/2016 19:08' '10/10/2016 20:02'\n",
      " '9/29/2016 11:49' '11/11/2016 22:40' '10/19/2016 11:58']\n",
      "null values of due_date and paid_off_time\n",
      "\n",
      "0\n",
      "100\n",
      "Due_date vs Paid_Off_Time count\n",
      "\n",
      "                             Loan_Id  Loan_Status  Principal  Terms  \\\n",
      "Due_Date   Paid_Off_Time                                              \n",
      "10/10/2016 10/1/2016 16:48         1            1          1      1   \n",
      "           10/10/2016 11:33        1            1          1      1   \n",
      "           10/10/2016 13:00        2            2          2      2   \n",
      "           10/10/2016 13:01        2            2          2      2   \n",
      "           10/10/2016 16:00        4            4          4      4   \n",
      "...                              ...          ...        ...    ...   \n",
      "9/28/2016  9/27/2016 20:41         1            1          1      1   \n",
      "           9/27/2016 22:50         1            1          1      1   \n",
      "           9/27/2016 7:48          1            1          1      1   \n",
      "           9/28/2016 13:00         1            1          1      1   \n",
      "           9/28/2016 9:00          2            2          2      2   \n",
      "\n",
      "                             Effective_Date  Past_Due_Days  Age  Education  \\\n",
      "Due_Date   Paid_Off_Time                                                     \n",
      "10/10/2016 10/1/2016 16:48                1              0    1          1   \n",
      "           10/10/2016 11:33               1              0    1          1   \n",
      "           10/10/2016 13:00               2              0    2          2   \n",
      "           10/10/2016 13:01               2              0    2          2   \n",
      "           10/10/2016 16:00               4              0    4          4   \n",
      "...                                     ...            ...  ...        ...   \n",
      "9/28/2016  9/27/2016 20:41                1              0    1          1   \n",
      "           9/27/2016 22:50                1              0    1          1   \n",
      "           9/27/2016 7:48                 1              0    1          1   \n",
      "           9/28/2016 13:00                1              0    1          1   \n",
      "           9/28/2016 9:00                 2              0    2          2   \n",
      "\n",
      "                             Gender  \n",
      "Due_Date   Paid_Off_Time             \n",
      "10/10/2016 10/1/2016 16:48        1  \n",
      "           10/10/2016 11:33       1  \n",
      "           10/10/2016 13:00       2  \n",
      "           10/10/2016 13:01       2  \n",
      "           10/10/2016 16:00       4  \n",
      "...                             ...  \n",
      "9/28/2016  9/27/2016 20:41        1  \n",
      "           9/27/2016 22:50        1  \n",
      "           9/27/2016 7:48         1  \n",
      "           9/28/2016 13:00        1  \n",
      "           9/28/2016 9:00         2  \n",
      "\n",
      "[320 rows x 9 columns]\n",
      "Due_date vs Paid_Off_Time sum\n",
      "\n",
      "                             Principal  Terms  Past_Due_Days  Age\n",
      "Due_Date   Paid_Off_Time                                         \n",
      "10/10/2016 10/1/2016 16:48        1000     30            0.0   28\n",
      "           10/10/2016 11:33       1000     30            0.0   21\n",
      "           10/10/2016 13:00       2000     60            0.0   70\n",
      "           10/10/2016 13:01       2000     60            0.0   59\n",
      "           10/10/2016 16:00       4000    120            0.0  111\n",
      "...                                ...    ...            ...  ...\n",
      "9/28/2016  9/27/2016 20:41         800     15            0.0   42\n",
      "           9/27/2016 22:50        1000     15            0.0   24\n",
      "           9/27/2016 7:48          800     15            0.0   28\n",
      "           9/28/2016 13:00         800     15            0.0   37\n",
      "           9/28/2016 9:00         2000     30            0.0   52\n",
      "\n",
      "[320 rows x 4 columns]\n"
     ]
    }
   ],
   "source": [
    "print(\"due_date unique values\\n\")\n",
    "print(df.Due_Date.unique())\n",
    "print(\"paid_off unique values\\n\")\n",
    "print(df.Paid_Off_Time.unique())\n",
    "print(\"null values of due_date and paid_off_time\\n\")\n",
    "print(df.Due_Date.isnull().sum())\n",
    "print(df.Paid_Off_Time.isnull().sum())\n",
    "print(\"Due_date vs Paid_Off_Time count\\n\")\n",
    "print(df.groupby(['Due_Date','Paid_Off_Time']).count())\n",
    "print(\"Due_date vs Paid_Off_Time sum\\n\")\n",
    "print(df.groupby(['Due_Date','Paid_Off_Time']).sum())"
   ]
  },
  {
   "cell_type": "code",
   "execution_count": 30,
   "metadata": {
    "execution": {
     "iopub.execute_input": "2020-10-01T08:22:23.966653Z",
     "iopub.status.busy": "2020-10-01T08:22:23.965771Z",
     "iopub.status.idle": "2020-10-01T08:22:23.970898Z",
     "shell.execute_reply": "2020-10-01T08:22:23.969959Z"
    },
    "papermill": {
     "duration": 0.0667,
     "end_time": "2020-10-01T08:22:23.971035",
     "exception": false,
     "start_time": "2020-10-01T08:22:23.904335",
     "status": "completed"
    },
    "tags": []
   },
   "outputs": [
    {
     "name": "stdout",
     "output_type": "stream",
     "text": [
      "past_due_days\n",
      "\n",
      "[nan 76. 61. 75. 60. 59. 74. 29. 44. 58. 73. 28.  2.  4. 13.  5.  3. 12.\n",
      " 27.  1. 25. 24. 36.  7. 14. 23.  6. 38. 19. 52. 51.  9. 56.  8.]\n",
      "null values of past_due_days\n",
      "\n",
      "300\n",
      "past_due_days value counts\n",
      "59.0    40\n",
      "74.0    25\n",
      "2.0     22\n",
      "1.0     18\n",
      "3.0     14\n",
      "60.0    13\n",
      "4.0      8\n",
      "75.0     7\n",
      "29.0     7\n",
      "5.0      5\n",
      "27.0     3\n",
      "76.0     3\n",
      "7.0      3\n",
      "44.0     3\n",
      "14.0     3\n",
      "28.0     2\n",
      "58.0     2\n",
      "13.0     2\n",
      "61.0     2\n",
      "12.0     2\n",
      "25.0     2\n",
      "24.0     2\n",
      "6.0      2\n",
      "56.0     1\n",
      "73.0     1\n",
      "36.0     1\n",
      "23.0     1\n",
      "38.0     1\n",
      "19.0     1\n",
      "52.0     1\n",
      "51.0     1\n",
      "9.0      1\n",
      "8.0      1\n",
      "Name: Past_Due_Days, dtype: int64\n"
     ]
    }
   ],
   "source": [
    "print(\"past_due_days\\n\")\n",
    "print(df.Past_Due_Days.unique())\n",
    "print(\"null values of past_due_days\\n\")\n",
    "print(df.Past_Due_Days.isnull().sum())\n",
    "print(\"past_due_days value counts\")\n",
    "print(df.Past_Due_Days.value_counts())"
   ]
  },
  {
   "cell_type": "code",
   "execution_count": 31,
   "metadata": {
    "execution": {
     "iopub.execute_input": "2020-10-01T08:22:24.091196Z",
     "iopub.status.busy": "2020-10-01T08:22:24.090029Z",
     "iopub.status.idle": "2020-10-01T08:22:24.094932Z",
     "shell.execute_reply": "2020-10-01T08:22:24.094286Z"
    },
    "papermill": {
     "duration": 0.073155,
     "end_time": "2020-10-01T08:22:24.095071",
     "exception": false,
     "start_time": "2020-10-01T08:22:24.021916",
     "status": "completed"
    },
    "tags": []
   },
   "outputs": [
    {
     "name": "stdout",
     "output_type": "stream",
     "text": [
      "            Loan_Status  Principal  Terms Effective_Date    Due_Date  \\\n",
      "0               PAIDOFF       1000     30       9/8/2016   10/7/2016   \n",
      "1               PAIDOFF       1000     30       9/8/2016   10/7/2016   \n",
      "2               PAIDOFF       1000     30       9/8/2016   10/7/2016   \n",
      "3               PAIDOFF       1000     15       9/8/2016   9/22/2016   \n",
      "4               PAIDOFF       1000     30       9/9/2016   10/8/2016   \n",
      "..                  ...        ...    ...            ...         ...   \n",
      "495  COLLECTION_PAIDOFF       1000     30      9/12/2016  10/11/2016   \n",
      "496  COLLECTION_PAIDOFF       1000     15      9/12/2016   9/26/2016   \n",
      "497  COLLECTION_PAIDOFF        800     15      9/12/2016   9/26/2016   \n",
      "498  COLLECTION_PAIDOFF       1000     30      9/12/2016  11/10/2016   \n",
      "499  COLLECTION_PAIDOFF       1000     30      9/12/2016  10/11/2016   \n",
      "\n",
      "        Paid_Off_Time  Past_Due_Days  Age             Education  Gender  \n",
      "0     9/14/2016 19:31            NaN   45  High School or Below    male  \n",
      "1      10/7/2016 9:00            NaN   50              Bechalor  female  \n",
      "2     9/25/2016 16:58            NaN   33              Bechalor  female  \n",
      "3     9/22/2016 20:00            NaN   27               college    male  \n",
      "4     9/23/2016 21:36            NaN   28               college  female  \n",
      "..                ...            ...  ...                   ...     ...  \n",
      "495  10/14/2016 19:08            3.0   28  High School or Below    male  \n",
      "496  10/10/2016 20:02           14.0   26  High School or Below    male  \n",
      "497   9/29/2016 11:49            3.0   30               college    male  \n",
      "498  11/11/2016 22:40            1.0   38               college  female  \n",
      "499  10/19/2016 11:58            8.0   28  High School or Below    male  \n",
      "\n",
      "[500 rows x 10 columns]\n"
     ]
    }
   ],
   "source": [
    "#Data Cleaning\n",
    "\n",
    "df=df.drop(columns=['Loan_Id'],axis=1)\n",
    "print(df)"
   ]
  },
  {
   "cell_type": "code",
   "execution_count": 32,
   "metadata": {
    "execution": {
     "iopub.execute_input": "2020-10-01T08:22:24.211780Z",
     "iopub.status.busy": "2020-10-01T08:22:24.210884Z",
     "iopub.status.idle": "2020-10-01T08:22:24.215787Z",
     "shell.execute_reply": "2020-10-01T08:22:24.215129Z"
    },
    "papermill": {
     "duration": 0.069008,
     "end_time": "2020-10-01T08:22:24.215914",
     "exception": false,
     "start_time": "2020-10-01T08:22:24.146906",
     "status": "completed"
    },
    "tags": []
   },
   "outputs": [
    {
     "data": {
      "text/html": [
       "<div>\n",
       "<style scoped>\n",
       "    .dataframe tbody tr th:only-of-type {\n",
       "        vertical-align: middle;\n",
       "    }\n",
       "\n",
       "    .dataframe tbody tr th {\n",
       "        vertical-align: top;\n",
       "    }\n",
       "\n",
       "    .dataframe thead th {\n",
       "        text-align: right;\n",
       "    }\n",
       "</style>\n",
       "<table border=\"1\" class=\"dataframe\">\n",
       "  <thead>\n",
       "    <tr style=\"text-align: right;\">\n",
       "      <th></th>\n",
       "      <th>Principal</th>\n",
       "      <th>Terms</th>\n",
       "      <th>Past_Due_Days</th>\n",
       "      <th>Age</th>\n",
       "    </tr>\n",
       "  </thead>\n",
       "  <tbody>\n",
       "    <tr>\n",
       "      <th>Principal</th>\n",
       "      <td>1.000000</td>\n",
       "      <td>0.534302</td>\n",
       "      <td>-0.093139</td>\n",
       "      <td>-0.092613</td>\n",
       "    </tr>\n",
       "    <tr>\n",
       "      <th>Terms</th>\n",
       "      <td>0.534302</td>\n",
       "      <td>1.000000</td>\n",
       "      <td>-0.102613</td>\n",
       "      <td>-0.074259</td>\n",
       "    </tr>\n",
       "    <tr>\n",
       "      <th>Past_Due_Days</th>\n",
       "      <td>-0.093139</td>\n",
       "      <td>-0.102613</td>\n",
       "      <td>1.000000</td>\n",
       "      <td>-0.053849</td>\n",
       "    </tr>\n",
       "    <tr>\n",
       "      <th>Age</th>\n",
       "      <td>-0.092613</td>\n",
       "      <td>-0.074259</td>\n",
       "      <td>-0.053849</td>\n",
       "      <td>1.000000</td>\n",
       "    </tr>\n",
       "  </tbody>\n",
       "</table>\n",
       "</div>"
      ],
      "text/plain": [
       "               Principal     Terms  Past_Due_Days       Age\n",
       "Principal       1.000000  0.534302      -0.093139 -0.092613\n",
       "Terms           0.534302  1.000000      -0.102613 -0.074259\n",
       "Past_Due_Days  -0.093139 -0.102613       1.000000 -0.053849\n",
       "Age            -0.092613 -0.074259      -0.053849  1.000000"
      ]
     },
     "execution_count": 32,
     "metadata": {},
     "output_type": "execute_result"
    }
   ],
   "source": [
    "df.corr()"
   ]
  },
  {
   "cell_type": "code",
   "execution_count": 33,
   "metadata": {
    "execution": {
     "iopub.execute_input": "2020-10-01T08:22:24.337614Z",
     "iopub.status.busy": "2020-10-01T08:22:24.336579Z",
     "iopub.status.idle": "2020-10-01T08:22:24.340323Z",
     "shell.execute_reply": "2020-10-01T08:22:24.341020Z"
    },
    "papermill": {
     "duration": 0.071313,
     "end_time": "2020-10-01T08:22:24.341180",
     "exception": false,
     "start_time": "2020-10-01T08:22:24.269867",
     "status": "completed"
    },
    "tags": []
   },
   "outputs": [
    {
     "name": "stdout",
     "output_type": "stream",
     "text": [
      "            Loan_Status  Principal  Terms Effective_Date    Due_Date  Age  \\\n",
      "0               PAIDOFF       1000     30       9/8/2016   10/7/2016   45   \n",
      "1               PAIDOFF       1000     30       9/8/2016   10/7/2016   50   \n",
      "2               PAIDOFF       1000     30       9/8/2016   10/7/2016   33   \n",
      "3               PAIDOFF       1000     15       9/8/2016   9/22/2016   27   \n",
      "4               PAIDOFF       1000     30       9/9/2016   10/8/2016   28   \n",
      "..                  ...        ...    ...            ...         ...  ...   \n",
      "495  COLLECTION_PAIDOFF       1000     30      9/12/2016  10/11/2016   28   \n",
      "496  COLLECTION_PAIDOFF       1000     15      9/12/2016   9/26/2016   26   \n",
      "497  COLLECTION_PAIDOFF        800     15      9/12/2016   9/26/2016   30   \n",
      "498  COLLECTION_PAIDOFF       1000     30      9/12/2016  11/10/2016   38   \n",
      "499  COLLECTION_PAIDOFF       1000     30      9/12/2016  10/11/2016   28   \n",
      "\n",
      "                Education  Gender  \n",
      "0    High School or Below    male  \n",
      "1                Bechalor  female  \n",
      "2                Bechalor  female  \n",
      "3                 college    male  \n",
      "4                 college  female  \n",
      "..                    ...     ...  \n",
      "495  High School or Below    male  \n",
      "496  High School or Below    male  \n",
      "497               college    male  \n",
      "498               college  female  \n",
      "499  High School or Below    male  \n",
      "\n",
      "[500 rows x 8 columns]\n"
     ]
    }
   ],
   "source": [
    "df=df.drop(['Past_Due_Days','Paid_Off_Time'],axis=1)\n",
    "print(df)"
   ]
  },
  {
   "cell_type": "code",
   "execution_count": 34,
   "metadata": {
    "execution": {
     "iopub.execute_input": "2020-10-01T08:22:24.455220Z",
     "iopub.status.busy": "2020-10-01T08:22:24.454325Z",
     "iopub.status.idle": "2020-10-01T08:22:25.651709Z",
     "shell.execute_reply": "2020-10-01T08:22:25.650943Z"
    },
    "papermill": {
     "duration": 1.258202,
     "end_time": "2020-10-01T08:22:25.651838",
     "exception": false,
     "start_time": "2020-10-01T08:22:24.393636",
     "status": "completed"
    },
    "tags": []
   },
   "outputs": [
    {
     "data": {
      "image/png": "[encoded data removed]",
      "text/plain": [
       "<Figure size 432x288 with 1 Axes>"
      ]
     },
     "metadata": {
      "needs_background": "light"
     },
     "output_type": "display_data"
    }
   ],
   "source": [
    "import seaborn as sns\n",
    "import matplotlib.pyplot as plt\n",
    "sns.barplot(x=df[df['Loan_Status']=='PAIDOFF'].groupby('Education')['Gender'].count().index,\n",
    "            y=df[df['Loan_Status']=='PAIDOFF'].groupby('Education')['Gender'].count().values)\n",
    "plt.xticks(rotation=90)\n",
    "plt.show()"
   ]
  },
  {
   "cell_type": "code",
   "execution_count": 35,
   "metadata": {
    "execution": {
     "iopub.execute_input": "2020-10-01T08:22:25.765070Z",
     "iopub.status.busy": "2020-10-01T08:22:25.764185Z",
     "iopub.status.idle": "2020-10-01T08:22:25.827376Z",
     "shell.execute_reply": "2020-10-01T08:22:25.826560Z"
    },
    "papermill": {
     "duration": 0.122259,
     "end_time": "2020-10-01T08:22:25.827520",
     "exception": false,
     "start_time": "2020-10-01T08:22:25.705261",
     "status": "completed"
    },
    "tags": []
   },
   "outputs": [],
   "source": [
    "from sklearn.preprocessing import LabelEncoder\n",
    "le=LabelEncoder()\n",
    "df['Loan_Status']=le.fit_transform(df['Loan_Status'])"
   ]
  },
  {
   "cell_type": "code",
   "execution_count": 36,
   "metadata": {
    "execution": {
     "iopub.execute_input": "2020-10-01T08:22:25.977444Z",
     "iopub.status.busy": "2020-10-01T08:22:25.976447Z",
     "iopub.status.idle": "2020-10-01T08:22:25.982207Z",
     "shell.execute_reply": "2020-10-01T08:22:25.981343Z"
    },
    "papermill": {
     "duration": 0.087716,
     "end_time": "2020-10-01T08:22:25.982343",
     "exception": false,
     "start_time": "2020-10-01T08:22:25.894627",
     "status": "completed"
    },
    "tags": []
   },
   "outputs": [
    {
     "data": {
      "text/plain": [
       "male      320\n",
       "female     57\n",
       "Name: Gender, dtype: int64"
      ]
     },
     "execution_count": 36,
     "metadata": {},
     "output_type": "execute_result"
    }
   ],
   "source": [
    "df[df['Principal']==1000].Gender.value_counts()"
   ]
  },
  {
   "cell_type": "code",
   "execution_count": 37,
   "metadata": {
    "execution": {
     "iopub.execute_input": "2020-10-01T08:22:26.128918Z",
     "iopub.status.busy": "2020-10-01T08:22:26.128006Z",
     "iopub.status.idle": "2020-10-01T08:22:26.256753Z",
     "shell.execute_reply": "2020-10-01T08:22:26.255902Z"
    },
    "papermill": {
     "duration": 0.210341,
     "end_time": "2020-10-01T08:22:26.256894",
     "exception": false,
     "start_time": "2020-10-01T08:22:26.046553",
     "status": "completed"
    },
    "tags": []
   },
   "outputs": [
    {
     "data": {
      "image/png": "[encoded data removed]",
      "text/plain": [
       "<Figure size 360x360 with 1 Axes>"
      ]
     },
     "metadata": {
      "needs_background": "light"
     },
     "output_type": "display_data"
    }
   ],
   "source": [
    "plt.figure(figsize=(5,5))\n",
    "ax=sns.barplot(x=df[df['Principal']==1000].Gender.value_counts().index,\n",
    "              y=df[df['Principal']==1000].Gender.value_counts().values,\n",
    "              palette=sns.cubehelix_palette(120))\n",
    "plt.xlabel('Principal')\n",
    "plt.ylabel('Gender')\n",
    "plt.title('Show Principal & Gender Bar Plot')\n",
    "plt.show()"
   ]
  },
  {
   "cell_type": "code",
   "execution_count": 38,
   "metadata": {
    "execution": {
     "iopub.execute_input": "2020-10-01T08:22:26.376975Z",
     "iopub.status.busy": "2020-10-01T08:22:26.375960Z",
     "iopub.status.idle": "2020-10-01T08:22:26.379040Z",
     "shell.execute_reply": "2020-10-01T08:22:26.378234Z"
    },
    "papermill": {
     "duration": 0.064811,
     "end_time": "2020-10-01T08:22:26.379177",
     "exception": false,
     "start_time": "2020-10-01T08:22:26.314366",
     "status": "completed"
    },
    "tags": []
   },
   "outputs": [],
   "source": [
    "le=LabelEncoder()\n",
    "df['Principal']=le.fit_transform(df['Principal'])"
   ]
  },
  {
   "cell_type": "code",
   "execution_count": 39,
   "metadata": {
    "execution": {
     "iopub.execute_input": "2020-10-01T08:22:26.513904Z",
     "iopub.status.busy": "2020-10-01T08:22:26.510302Z",
     "iopub.status.idle": "2020-10-01T08:22:26.578193Z",
     "shell.execute_reply": "2020-10-01T08:22:26.577547Z"
    },
    "papermill": {
     "duration": 0.142018,
     "end_time": "2020-10-01T08:22:26.578317",
     "exception": false,
     "start_time": "2020-10-01T08:22:26.436299",
     "status": "completed"
    },
    "tags": []
   },
   "outputs": [
    {
     "data": {
      "image/png": "[encoded data removed]",
      "text/plain": [
       "<Figure size 504x504 with 1 Axes>"
      ]
     },
     "metadata": {},
     "output_type": "display_data"
    }
   ],
   "source": [
    "labels=df['Terms'].value_counts().index\n",
    "colors=['blue','red','yellow']\n",
    "explode=[0,0,0.1]\n",
    "values=df['Terms'].value_counts().values\n",
    "\n",
    "#visualization\n",
    "plt.figure(figsize=(7,7))\n",
    "plt.pie(values,explode=explode,labels=labels,colors=colors,autopct='%1.1f%%')\n",
    "plt.title('Ters According Analysis',color='black',fontsize=10)\n",
    "plt.show()"
   ]
  }
 ],
 "metadata": {
  "kernelspec": {
   "display_name": "Python 3",
   "language": "python",
   "name": "python3"
  },
  "language_info": {
   "codemirror_mode": {
    "name": "ipython",
    "version": 3
   },
   "file_extension": ".py",
   "mimetype": "text/x-python",
   "name": "python",
   "nbconvert_exporter": "python",
   "pygments_lexer": "ipython3",
   "version": "3.7.6"
  },
  "papermill": {
   "duration": 10.760577,
   "end_time": "2020-10-01T08:22:26.747966",
   "environment_variables": {},
   "exception": null,
   "input_path": "__notebook__.ipynb",
   "output_path": "__notebook__.ipynb",
   "parameters": {},
   "start_time": "2020-10-01T08:22:15.987389",
   "version": "2.1.0"
  }
 },
 "nbformat": 4,
 "nbformat_minor": 4
}
