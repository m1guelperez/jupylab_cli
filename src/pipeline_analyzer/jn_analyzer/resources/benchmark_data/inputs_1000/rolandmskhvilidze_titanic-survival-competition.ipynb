{
 "cells": [
  {
   "cell_type": "code",
   "execution_count": 1,
   "metadata": {
    "_cell_guid": "b1076dfc-b9ad-4769-8c92-a6c4dae69d19",
    "_uuid": "8f2839f25d086af736a60e9eeb907d3b93b6e0e5",
    "execution": {
     "iopub.execute_input": "2020-10-18T10:06:25.600920Z",
     "iopub.status.busy": "2020-10-18T10:06:25.599878Z",
     "iopub.status.idle": "2020-10-18T10:06:25.607054Z",
     "shell.execute_reply": "2020-10-18T10:06:25.606266Z"
    },
    "papermill": {
     "duration": 0.059376,
     "end_time": "2020-10-18T10:06:25.607199",
     "exception": false,
     "start_time": "2020-10-18T10:06:25.547823",
     "status": "completed"
    },
    "tags": []
   },
   "outputs": [
    {
     "name": "stdout",
     "output_type": "stream",
     "text": [
      "/kaggle/input/titanic/train.csv\n",
      "/kaggle/input/titanic/gender_submission.csv\n",
      "/kaggle/input/titanic/test.csv\n"
     ]
    }
   ],
   "source": [
    "# This Python 3 environment comes with many helpful analytics libraries installed\n",
    "# It is defined by the kaggle/python Docker image: https://github.com/kaggle/docker-python\n",
    "# For example, here's several helpful packages to load\n",
    "\n",
    "import numpy as np # linear algebra\n",
    "import pandas as pd # data processing, CSV file I/O (e.g. pd.read_csv)\n",
    "\n",
    "# Input data files are available in the read-only \"../input/\" directory\n",
    "# For example, running this (by clicking run or pressing Shift+Enter) will list all files under the input directory\n",
    "\n",
    "import os\n",
    "for dirname, _, filenames in os.walk('/kaggle/input'):\n",
    "    for filename in filenames:\n",
    "        print(os.path.join(dirname, filename))\n",
    "\n",
    "# You can write up to 5GB to the current directory (/kaggle/working/) that gets preserved as output when you create a version using \"Save & Run All\" \n",
    "# You can also write temporary files to /kaggle/temp/, but they won't be saved outside of the current session"
   ]
  },
  {
   "cell_type": "markdown",
   "metadata": {
    "papermill": {
     "duration": 0.045838,
     "end_time": "2020-10-18T10:06:25.698370",
     "exception": false,
     "start_time": "2020-10-18T10:06:25.652532",
     "status": "completed"
    },
    "tags": []
   },
   "source": [
    "## The Quastion to answer here is:\n",
    "# “What sorts of people were more likely to survive?”"
   ]
  },
  {
   "cell_type": "markdown",
   "metadata": {
    "papermill": {
     "duration": 0.043912,
     "end_time": "2020-10-18T10:06:25.786924",
     "exception": false,
     "start_time": "2020-10-18T10:06:25.743012",
     "status": "completed"
    },
    "tags": []
   },
   "source": [
    "## Project Steps\n",
    "\n",
    "1. Import Necessary Libraries\n",
    "2. Read In and Explore the Data\n",
    "3. Features Selection\n",
    "4. Visualization of the selected data\n",
    "5. Preprossesing of selected data\n",
    "6. Which model is the best\n",
    "7. Saving predections of the best model"
   ]
  },
  {
   "cell_type": "markdown",
   "metadata": {
    "papermill": {
     "duration": 0.044503,
     "end_time": "2020-10-18T10:06:25.875809",
     "exception": false,
     "start_time": "2020-10-18T10:06:25.831306",
     "status": "completed"
    },
    "tags": []
   },
   "source": [
    "## 1. Import Necessary Libraries¶\n",
    "***\n",
    "First off, we need to import several Python libraries such as numpy, pandas, matplotlib and seaborn."
   ]
  },
  {
   "cell_type": "code",
   "execution_count": 2,
   "metadata": {
    "_cell_guid": "79c7e3d0-c299-4dcb-8224-4455121ee9b0",
    "_uuid": "d629ff2d2480ee46fbb7e2d37f6b5fab8052498a",
    "execution": {
     "iopub.execute_input": "2020-10-18T10:06:25.974412Z",
     "iopub.status.busy": "2020-10-18T10:06:25.973561Z",
     "iopub.status.idle": "2020-10-18T10:06:26.944955Z",
     "shell.execute_reply": "2020-10-18T10:06:26.944221Z"
    },
    "papermill": {
     "duration": 1.024429,
     "end_time": "2020-10-18T10:06:26.945100",
     "exception": false,
     "start_time": "2020-10-18T10:06:25.920671",
     "status": "completed"
    },
    "tags": []
   },
   "outputs": [],
   "source": [
    "#data analysis libraries \n",
    "import numpy as np\n",
    "import pandas as pd\n",
    "\n",
    "#visualization libraries\n",
    "import matplotlib.pyplot as plt\n",
    "import seaborn as sns\n",
    "%matplotlib inline"
   ]
  },
  {
   "cell_type": "markdown",
   "metadata": {
    "papermill": {
     "duration": 0.045016,
     "end_time": "2020-10-18T10:06:27.034823",
     "exception": false,
     "start_time": "2020-10-18T10:06:26.989807",
     "status": "completed"
    },
    "tags": []
   },
   "source": [
    "## 2. Read In and Explore the Data"
   ]
  },
  {
   "cell_type": "code",
   "execution_count": 3,
   "metadata": {
    "execution": {
     "iopub.execute_input": "2020-10-18T10:06:27.131016Z",
     "iopub.status.busy": "2020-10-18T10:06:27.129971Z",
     "iopub.status.idle": "2020-10-18T10:06:27.169066Z",
     "shell.execute_reply": "2020-10-18T10:06:27.168396Z"
    },
    "papermill": {
     "duration": 0.089676,
     "end_time": "2020-10-18T10:06:27.169196",
     "exception": false,
     "start_time": "2020-10-18T10:06:27.079520",
     "status": "completed"
    },
    "tags": []
   },
   "outputs": [
    {
     "data": {
      "text/html": [
       "<div>\n",
       "<style scoped>\n",
       "    .dataframe tbody tr th:only-of-type {\n",
       "        vertical-align: middle;\n",
       "    }\n",
       "\n",
       "    .dataframe tbody tr th {\n",
       "        vertical-align: top;\n",
       "    }\n",
       "\n",
       "    .dataframe thead th {\n",
       "        text-align: right;\n",
       "    }\n",
       "</style>\n",
       "<table border=\"1\" class=\"dataframe\">\n",
       "  <thead>\n",
       "    <tr style=\"text-align: right;\">\n",
       "      <th></th>\n",
       "      <th>PassengerId</th>\n",
       "      <th>Survived</th>\n",
       "      <th>Pclass</th>\n",
       "      <th>Name</th>\n",
       "      <th>Sex</th>\n",
       "      <th>Age</th>\n",
       "      <th>SibSp</th>\n",
       "      <th>Parch</th>\n",
       "      <th>Ticket</th>\n",
       "      <th>Fare</th>\n",
       "      <th>Cabin</th>\n",
       "      <th>Embarked</th>\n",
       "    </tr>\n",
       "  </thead>\n",
       "  <tbody>\n",
       "    <tr>\n",
       "      <th>0</th>\n",
       "      <td>1</td>\n",
       "      <td>0</td>\n",
       "      <td>3</td>\n",
       "      <td>Braund, Mr. Owen Harris</td>\n",
       "      <td>male</td>\n",
       "      <td>22.0</td>\n",
       "      <td>1</td>\n",
       "      <td>0</td>\n",
       "      <td>A/5 21171</td>\n",
       "      <td>7.2500</td>\n",
       "      <td>NaN</td>\n",
       "      <td>S</td>\n",
       "    </tr>\n",
       "    <tr>\n",
       "      <th>1</th>\n",
       "      <td>2</td>\n",
       "      <td>1</td>\n",
       "      <td>1</td>\n",
       "      <td>Cumings, Mrs. John Bradley (Florence Briggs Th...</td>\n",
       "      <td>female</td>\n",
       "      <td>38.0</td>\n",
       "      <td>1</td>\n",
       "      <td>0</td>\n",
       "      <td>PC 17599</td>\n",
       "      <td>71.2833</td>\n",
       "      <td>C85</td>\n",
       "      <td>C</td>\n",
       "    </tr>\n",
       "    <tr>\n",
       "      <th>2</th>\n",
       "      <td>3</td>\n",
       "      <td>1</td>\n",
       "      <td>3</td>\n",
       "      <td>Heikkinen, Miss. Laina</td>\n",
       "      <td>female</td>\n",
       "      <td>26.0</td>\n",
       "      <td>0</td>\n",
       "      <td>0</td>\n",
       "      <td>STON/O2. 3101282</td>\n",
       "      <td>7.9250</td>\n",
       "      <td>NaN</td>\n",
       "      <td>S</td>\n",
       "    </tr>\n",
       "    <tr>\n",
       "      <th>3</th>\n",
       "      <td>4</td>\n",
       "      <td>1</td>\n",
       "      <td>1</td>\n",
       "      <td>Futrelle, Mrs. Jacques Heath (Lily May Peel)</td>\n",
       "      <td>female</td>\n",
       "      <td>35.0</td>\n",
       "      <td>1</td>\n",
       "      <td>0</td>\n",
       "      <td>113803</td>\n",
       "      <td>53.1000</td>\n",
       "      <td>C123</td>\n",
       "      <td>S</td>\n",
       "    </tr>\n",
       "    <tr>\n",
       "      <th>4</th>\n",
       "      <td>5</td>\n",
       "      <td>0</td>\n",
       "      <td>3</td>\n",
       "      <td>Allen, Mr. William Henry</td>\n",
       "      <td>male</td>\n",
       "      <td>35.0</td>\n",
       "      <td>0</td>\n",
       "      <td>0</td>\n",
       "      <td>373450</td>\n",
       "      <td>8.0500</td>\n",
       "      <td>NaN</td>\n",
       "      <td>S</td>\n",
       "    </tr>\n",
       "  </tbody>\n",
       "</table>\n",
       "</div>"
      ],
      "text/plain": [
       "   PassengerId  Survived  Pclass  \\\n",
       "0            1         0       3   \n",
       "1            2         1       1   \n",
       "2            3         1       3   \n",
       "3            4         1       1   \n",
       "4            5         0       3   \n",
       "\n",
       "                                                Name     Sex   Age  SibSp  \\\n",
       "0                            Braund, Mr. Owen Harris    male  22.0      1   \n",
       "1  Cumings, Mrs. John Bradley (Florence Briggs Th...  female  38.0      1   \n",
       "2                             Heikkinen, Miss. Laina  female  26.0      0   \n",
       "3       Futrelle, Mrs. Jacques Heath (Lily May Peel)  female  35.0      1   \n",
       "4                           Allen, Mr. William Henry    male  35.0      0   \n",
       "\n",
       "   Parch            Ticket     Fare Cabin Embarked  \n",
       "0      0         A/5 21171   7.2500   NaN        S  \n",
       "1      0          PC 17599  71.2833   C85        C  \n",
       "2      0  STON/O2. 3101282   7.9250   NaN        S  \n",
       "3      0            113803  53.1000  C123        S  \n",
       "4      0            373450   8.0500   NaN        S  "
      ]
     },
     "execution_count": 3,
     "metadata": {},
     "output_type": "execute_result"
    }
   ],
   "source": [
    "df= pd.read_csv('../input/titanic/train.csv')\n",
    "df.head()"
   ]
  },
  {
   "cell_type": "markdown",
   "metadata": {
    "papermill": {
     "duration": 0.044862,
     "end_time": "2020-10-18T10:06:27.259310",
     "exception": false,
     "start_time": "2020-10-18T10:06:27.214448",
     "status": "completed"
    },
    "tags": []
   },
   "source": [
    "## First insight of the data\n",
    "\n",
    "- **Numerical Features:** Age, Fare (both of them continuous) and SibSp, Parch (both of them descrete)\n",
    "- **Categorical Features:** Survived, Pclass, Sex, Embarked (tha last two have alphanumerical values)\n"
   ]
  },
  {
   "cell_type": "code",
   "execution_count": 4,
   "metadata": {
    "execution": {
     "iopub.execute_input": "2020-10-18T10:06:27.359860Z",
     "iopub.status.busy": "2020-10-18T10:06:27.358272Z",
     "iopub.status.idle": "2020-10-18T10:06:27.432389Z",
     "shell.execute_reply": "2020-10-18T10:06:27.431664Z"
    },
    "papermill": {
     "duration": 0.128207,
     "end_time": "2020-10-18T10:06:27.432548",
     "exception": false,
     "start_time": "2020-10-18T10:06:27.304341",
     "status": "completed"
    },
    "tags": []
   },
   "outputs": [
    {
     "data": {
      "text/html": [
       "<div>\n",
       "<style scoped>\n",
       "    .dataframe tbody tr th:only-of-type {\n",
       "        vertical-align: middle;\n",
       "    }\n",
       "\n",
       "    .dataframe tbody tr th {\n",
       "        vertical-align: top;\n",
       "    }\n",
       "\n",
       "    .dataframe thead th {\n",
       "        text-align: right;\n",
       "    }\n",
       "</style>\n",
       "<table border=\"1\" class=\"dataframe\">\n",
       "  <thead>\n",
       "    <tr style=\"text-align: right;\">\n",
       "      <th></th>\n",
       "      <th>PassengerId</th>\n",
       "      <th>Survived</th>\n",
       "      <th>Pclass</th>\n",
       "      <th>Name</th>\n",
       "      <th>Sex</th>\n",
       "      <th>Age</th>\n",
       "      <th>SibSp</th>\n",
       "      <th>Parch</th>\n",
       "      <th>Ticket</th>\n",
       "      <th>Fare</th>\n",
       "      <th>Cabin</th>\n",
       "      <th>Embarked</th>\n",
       "    </tr>\n",
       "  </thead>\n",
       "  <tbody>\n",
       "    <tr>\n",
       "      <th>count</th>\n",
       "      <td>891.000000</td>\n",
       "      <td>891.000000</td>\n",
       "      <td>891.000000</td>\n",
       "      <td>891</td>\n",
       "      <td>891</td>\n",
       "      <td>714.000000</td>\n",
       "      <td>891.000000</td>\n",
       "      <td>891.000000</td>\n",
       "      <td>891</td>\n",
       "      <td>891.000000</td>\n",
       "      <td>204</td>\n",
       "      <td>889</td>\n",
       "    </tr>\n",
       "    <tr>\n",
       "      <th>unique</th>\n",
       "      <td>NaN</td>\n",
       "      <td>NaN</td>\n",
       "      <td>NaN</td>\n",
       "      <td>891</td>\n",
       "      <td>2</td>\n",
       "      <td>NaN</td>\n",
       "      <td>NaN</td>\n",
       "      <td>NaN</td>\n",
       "      <td>681</td>\n",
       "      <td>NaN</td>\n",
       "      <td>147</td>\n",
       "      <td>3</td>\n",
       "    </tr>\n",
       "    <tr>\n",
       "      <th>top</th>\n",
       "      <td>NaN</td>\n",
       "      <td>NaN</td>\n",
       "      <td>NaN</td>\n",
       "      <td>Holverson, Mrs. Alexander Oskar (Mary Aline To...</td>\n",
       "      <td>male</td>\n",
       "      <td>NaN</td>\n",
       "      <td>NaN</td>\n",
       "      <td>NaN</td>\n",
       "      <td>CA. 2343</td>\n",
       "      <td>NaN</td>\n",
       "      <td>C23 C25 C27</td>\n",
       "      <td>S</td>\n",
       "    </tr>\n",
       "    <tr>\n",
       "      <th>freq</th>\n",
       "      <td>NaN</td>\n",
       "      <td>NaN</td>\n",
       "      <td>NaN</td>\n",
       "      <td>1</td>\n",
       "      <td>577</td>\n",
       "      <td>NaN</td>\n",
       "      <td>NaN</td>\n",
       "      <td>NaN</td>\n",
       "      <td>7</td>\n",
       "      <td>NaN</td>\n",
       "      <td>4</td>\n",
       "      <td>644</td>\n",
       "    </tr>\n",
       "    <tr>\n",
       "      <th>mean</th>\n",
       "      <td>446.000000</td>\n",
       "      <td>0.383838</td>\n",
       "      <td>2.308642</td>\n",
       "      <td>NaN</td>\n",
       "      <td>NaN</td>\n",
       "      <td>29.699118</td>\n",
       "      <td>0.523008</td>\n",
       "      <td>0.381594</td>\n",
       "      <td>NaN</td>\n",
       "      <td>32.204208</td>\n",
       "      <td>NaN</td>\n",
       "      <td>NaN</td>\n",
       "    </tr>\n",
       "    <tr>\n",
       "      <th>std</th>\n",
       "      <td>257.353842</td>\n",
       "      <td>0.486592</td>\n",
       "      <td>0.836071</td>\n",
       "      <td>NaN</td>\n",
       "      <td>NaN</td>\n",
       "      <td>14.526497</td>\n",
       "      <td>1.102743</td>\n",
       "      <td>0.806057</td>\n",
       "      <td>NaN</td>\n",
       "      <td>49.693429</td>\n",
       "      <td>NaN</td>\n",
       "      <td>NaN</td>\n",
       "    </tr>\n",
       "    <tr>\n",
       "      <th>min</th>\n",
       "      <td>1.000000</td>\n",
       "      <td>0.000000</td>\n",
       "      <td>1.000000</td>\n",
       "      <td>NaN</td>\n",
       "      <td>NaN</td>\n",
       "      <td>0.420000</td>\n",
       "      <td>0.000000</td>\n",
       "      <td>0.000000</td>\n",
       "      <td>NaN</td>\n",
       "      <td>0.000000</td>\n",
       "      <td>NaN</td>\n",
       "      <td>NaN</td>\n",
       "    </tr>\n",
       "    <tr>\n",
       "      <th>25%</th>\n",
       "      <td>223.500000</td>\n",
       "      <td>0.000000</td>\n",
       "      <td>2.000000</td>\n",
       "      <td>NaN</td>\n",
       "      <td>NaN</td>\n",
       "      <td>20.125000</td>\n",
       "      <td>0.000000</td>\n",
       "      <td>0.000000</td>\n",
       "      <td>NaN</td>\n",
       "      <td>7.910400</td>\n",
       "      <td>NaN</td>\n",
       "      <td>NaN</td>\n",
       "    </tr>\n",
       "    <tr>\n",
       "      <th>50%</th>\n",
       "      <td>446.000000</td>\n",
       "      <td>0.000000</td>\n",
       "      <td>3.000000</td>\n",
       "      <td>NaN</td>\n",
       "      <td>NaN</td>\n",
       "      <td>28.000000</td>\n",
       "      <td>0.000000</td>\n",
       "      <td>0.000000</td>\n",
       "      <td>NaN</td>\n",
       "      <td>14.454200</td>\n",
       "      <td>NaN</td>\n",
       "      <td>NaN</td>\n",
       "    </tr>\n",
       "    <tr>\n",
       "      <th>75%</th>\n",
       "      <td>668.500000</td>\n",
       "      <td>1.000000</td>\n",
       "      <td>3.000000</td>\n",
       "      <td>NaN</td>\n",
       "      <td>NaN</td>\n",
       "      <td>38.000000</td>\n",
       "      <td>1.000000</td>\n",
       "      <td>0.000000</td>\n",
       "      <td>NaN</td>\n",
       "      <td>31.000000</td>\n",
       "      <td>NaN</td>\n",
       "      <td>NaN</td>\n",
       "    </tr>\n",
       "    <tr>\n",
       "      <th>max</th>\n",
       "      <td>891.000000</td>\n",
       "      <td>1.000000</td>\n",
       "      <td>3.000000</td>\n",
       "      <td>NaN</td>\n",
       "      <td>NaN</td>\n",
       "      <td>80.000000</td>\n",
       "      <td>8.000000</td>\n",
       "      <td>6.000000</td>\n",
       "      <td>NaN</td>\n",
       "      <td>512.329200</td>\n",
       "      <td>NaN</td>\n",
       "      <td>NaN</td>\n",
       "    </tr>\n",
       "  </tbody>\n",
       "</table>\n",
       "</div>"
      ],
      "text/plain": [
       "        PassengerId    Survived      Pclass  \\\n",
       "count    891.000000  891.000000  891.000000   \n",
       "unique          NaN         NaN         NaN   \n",
       "top             NaN         NaN         NaN   \n",
       "freq            NaN         NaN         NaN   \n",
       "mean     446.000000    0.383838    2.308642   \n",
       "std      257.353842    0.486592    0.836071   \n",
       "min        1.000000    0.000000    1.000000   \n",
       "25%      223.500000    0.000000    2.000000   \n",
       "50%      446.000000    0.000000    3.000000   \n",
       "75%      668.500000    1.000000    3.000000   \n",
       "max      891.000000    1.000000    3.000000   \n",
       "\n",
       "                                                     Name   Sex         Age  \\\n",
       "count                                                 891   891  714.000000   \n",
       "unique                                                891     2         NaN   \n",
       "top     Holverson, Mrs. Alexander Oskar (Mary Aline To...  male         NaN   \n",
       "freq                                                    1   577         NaN   \n",
       "mean                                                  NaN   NaN   29.699118   \n",
       "std                                                   NaN   NaN   14.526497   \n",
       "min                                                   NaN   NaN    0.420000   \n",
       "25%                                                   NaN   NaN   20.125000   \n",
       "50%                                                   NaN   NaN   28.000000   \n",
       "75%                                                   NaN   NaN   38.000000   \n",
       "max                                                   NaN   NaN   80.000000   \n",
       "\n",
       "             SibSp       Parch    Ticket        Fare        Cabin Embarked  \n",
       "count   891.000000  891.000000       891  891.000000          204      889  \n",
       "unique         NaN         NaN       681         NaN          147        3  \n",
       "top            NaN         NaN  CA. 2343         NaN  C23 C25 C27        S  \n",
       "freq           NaN         NaN         7         NaN            4      644  \n",
       "mean      0.523008    0.381594       NaN   32.204208          NaN      NaN  \n",
       "std       1.102743    0.806057       NaN   49.693429          NaN      NaN  \n",
       "min       0.000000    0.000000       NaN    0.000000          NaN      NaN  \n",
       "25%       0.000000    0.000000       NaN    7.910400          NaN      NaN  \n",
       "50%       0.000000    0.000000       NaN   14.454200          NaN      NaN  \n",
       "75%       1.000000    0.000000       NaN   31.000000          NaN      NaN  \n",
       "max       8.000000    6.000000       NaN  512.329200          NaN      NaN  "
      ]
     },
     "execution_count": 4,
     "metadata": {},
     "output_type": "execute_result"
    }
   ],
   "source": [
    "df.describe(include='all')"
   ]
  },
  {
   "cell_type": "markdown",
   "metadata": {
    "papermill": {
     "duration": 0.0457,
     "end_time": "2020-10-18T10:06:27.525055",
     "exception": false,
     "start_time": "2020-10-18T10:06:27.479355",
     "status": "completed"
    },
    "tags": []
   },
   "source": [
    "## Further insights\n",
    "- we can see in the first row, that most of the data have complete cases. There are missing values in the features Age, Cabin and Embarked\n",
    "- Age could be important feature for the project purposes and w'll have to fill missing values\n",
    "- Embarked hasn't many missings and they can be replaced easily \n",
    "- Cabin has the most missing values but this feature with Ticket and Name I consider as not relevant and will be droped"
   ]
  },
  {
   "cell_type": "markdown",
   "metadata": {
    "papermill": {
     "duration": 0.046164,
     "end_time": "2020-10-18T10:06:27.617471",
     "exception": false,
     "start_time": "2020-10-18T10:06:27.571307",
     "status": "completed"
    },
    "tags": []
   },
   "source": [
    "## Features Selection"
   ]
  },
  {
   "cell_type": "code",
   "execution_count": 5,
   "metadata": {
    "execution": {
     "iopub.execute_input": "2020-10-18T10:06:27.733618Z",
     "iopub.status.busy": "2020-10-18T10:06:27.732424Z",
     "iopub.status.idle": "2020-10-18T10:06:27.736951Z",
     "shell.execute_reply": "2020-10-18T10:06:27.737567Z"
    },
    "papermill": {
     "duration": 0.073209,
     "end_time": "2020-10-18T10:06:27.737741",
     "exception": false,
     "start_time": "2020-10-18T10:06:27.664532",
     "status": "completed"
    },
    "tags": []
   },
   "outputs": [
    {
     "data": {
      "text/html": [
       "<div>\n",
       "<style scoped>\n",
       "    .dataframe tbody tr th:only-of-type {\n",
       "        vertical-align: middle;\n",
       "    }\n",
       "\n",
       "    .dataframe tbody tr th {\n",
       "        vertical-align: top;\n",
       "    }\n",
       "\n",
       "    .dataframe thead th {\n",
       "        text-align: right;\n",
       "    }\n",
       "</style>\n",
       "<table border=\"1\" class=\"dataframe\">\n",
       "  <thead>\n",
       "    <tr style=\"text-align: right;\">\n",
       "      <th></th>\n",
       "      <th>PassengerId</th>\n",
       "      <th>Survived</th>\n",
       "      <th>Pclass</th>\n",
       "      <th>Sex</th>\n",
       "      <th>Age</th>\n",
       "      <th>SibSp</th>\n",
       "      <th>Parch</th>\n",
       "      <th>Fare</th>\n",
       "      <th>Embarked</th>\n",
       "    </tr>\n",
       "  </thead>\n",
       "  <tbody>\n",
       "    <tr>\n",
       "      <th>0</th>\n",
       "      <td>1</td>\n",
       "      <td>0</td>\n",
       "      <td>3</td>\n",
       "      <td>male</td>\n",
       "      <td>22.0</td>\n",
       "      <td>1</td>\n",
       "      <td>0</td>\n",
       "      <td>7.2500</td>\n",
       "      <td>S</td>\n",
       "    </tr>\n",
       "    <tr>\n",
       "      <th>1</th>\n",
       "      <td>2</td>\n",
       "      <td>1</td>\n",
       "      <td>1</td>\n",
       "      <td>female</td>\n",
       "      <td>38.0</td>\n",
       "      <td>1</td>\n",
       "      <td>0</td>\n",
       "      <td>71.2833</td>\n",
       "      <td>C</td>\n",
       "    </tr>\n",
       "    <tr>\n",
       "      <th>2</th>\n",
       "      <td>3</td>\n",
       "      <td>1</td>\n",
       "      <td>3</td>\n",
       "      <td>female</td>\n",
       "      <td>26.0</td>\n",
       "      <td>0</td>\n",
       "      <td>0</td>\n",
       "      <td>7.9250</td>\n",
       "      <td>S</td>\n",
       "    </tr>\n",
       "    <tr>\n",
       "      <th>3</th>\n",
       "      <td>4</td>\n",
       "      <td>1</td>\n",
       "      <td>1</td>\n",
       "      <td>female</td>\n",
       "      <td>35.0</td>\n",
       "      <td>1</td>\n",
       "      <td>0</td>\n",
       "      <td>53.1000</td>\n",
       "      <td>S</td>\n",
       "    </tr>\n",
       "    <tr>\n",
       "      <th>4</th>\n",
       "      <td>5</td>\n",
       "      <td>0</td>\n",
       "      <td>3</td>\n",
       "      <td>male</td>\n",
       "      <td>35.0</td>\n",
       "      <td>0</td>\n",
       "      <td>0</td>\n",
       "      <td>8.0500</td>\n",
       "      <td>S</td>\n",
       "    </tr>\n",
       "  </tbody>\n",
       "</table>\n",
       "</div>"
      ],
      "text/plain": [
       "   PassengerId  Survived  Pclass     Sex   Age  SibSp  Parch     Fare Embarked\n",
       "0            1         0       3    male  22.0      1      0   7.2500        S\n",
       "1            2         1       1  female  38.0      1      0  71.2833        C\n",
       "2            3         1       3  female  26.0      0      0   7.9250        S\n",
       "3            4         1       1  female  35.0      1      0  53.1000        S\n",
       "4            5         0       3    male  35.0      0      0   8.0500        S"
      ]
     },
     "execution_count": 5,
     "metadata": {},
     "output_type": "execute_result"
    }
   ],
   "source": [
    "# extracting the usefull variablesfrom the original dataframe\n",
    "train=df.loc[:, ['PassengerId', 'Survived', 'Pclass', 'Sex',\n",
    "                 'Age', 'SibSp','Parch', 'Fare', 'Embarked' ]]\n",
    "train.head()"
   ]
  },
  {
   "cell_type": "markdown",
   "metadata": {
    "papermill": {
     "duration": 0.046566,
     "end_time": "2020-10-18T10:06:27.832697",
     "exception": false,
     "start_time": "2020-10-18T10:06:27.786131",
     "status": "completed"
    },
    "tags": []
   },
   "source": [
    "So, now we have the presumably improtant features for predicting Survived people on Titanic. In the next step we gain some insights throu visualization of this features\n",
    "***"
   ]
  },
  {
   "cell_type": "markdown",
   "metadata": {
    "papermill": {
     "duration": 0.047541,
     "end_time": "2020-10-18T10:06:27.926817",
     "exception": false,
     "start_time": "2020-10-18T10:06:27.879276",
     "status": "completed"
    },
    "tags": []
   },
   "source": [
    "## 4. Visualization of the selected data"
   ]
  },
  {
   "cell_type": "code",
   "execution_count": 6,
   "metadata": {
    "execution": {
     "iopub.execute_input": "2020-10-18T10:06:28.041531Z",
     "iopub.status.busy": "2020-10-18T10:06:28.034195Z",
     "iopub.status.idle": "2020-10-18T10:06:28.949381Z",
     "shell.execute_reply": "2020-10-18T10:06:28.949993Z"
    },
    "papermill": {
     "duration": 0.975132,
     "end_time": "2020-10-18T10:06:28.950168",
     "exception": false,
     "start_time": "2020-10-18T10:06:27.975036",
     "status": "completed"
    },
    "tags": []
   },
   "outputs": [
    {
     "name": "stdout",
     "output_type": "stream",
     "text": [
      "Percentage of females who survived: 74.20382165605095\n",
      "Percentage of males who survived: 18.890814558058924\n",
      "Percentage of first class who survived: 62.96296296296296\n",
      "Percentage of second class who survived: 47.28260869565217\n",
      "Percentage of second class who survived: 24.236252545824847\n"
     ]
    },
    {
     "data": {
      "image/png": "[encoded data removed]",
      "text/plain": [
       "<Figure size 432x288 with 4 Axes>"
      ]
     },
     "metadata": {
      "needs_background": "light"
     },
     "output_type": "display_data"
    }
   ],
   "source": [
    "# plot both together to compare\n",
    "fig, ax=plt.subplots(2,2)\n",
    "sns.barplot(x='Sex', y=('Survived'),  data=train, ax=ax[0, 0])\n",
    "ax[0,0].set_title(\"SibSp\")\n",
    "sns.barplot(x='Pclass', y=('Survived'),  data=train, ax=ax[0, 1])\n",
    "ax[0,1].set_title(\"Pclass\")\n",
    "sns.scatterplot(x='Age', y=('Survived'), data=train, ax=ax[1, 0]);\n",
    "\n",
    "\n",
    "#print percentages of females vs. males that survive\n",
    "print(\"Percentage of females who survived:\", \n",
    "      train[\"Survived\"][train[\"Sex\"] == 'female'].value_counts(normalize = True)[1]*100)\n",
    "\n",
    "print(\"Percentage of males who survived:\", \n",
    "      train[\"Survived\"][train[\"Sex\"] == 'male'].value_counts(normalize = True)[1]*100)\n",
    "\n",
    "\n",
    "#print percentages of first, second and third class passengers that survive\n",
    "print(\"Percentage of first class who survived:\", \n",
    "      train[\"Survived\"][train[\"Pclass\"] == 1].value_counts(normalize = True)[1]*100)\n",
    "\n",
    "print(\"Percentage of second class who survived:\", \n",
    "      train[\"Survived\"][train[\"Pclass\"] == 2].value_counts(normalize = True)[1]*100)\n",
    "\n",
    "print(\"Percentage of second class who survived:\", \n",
    "      train[\"Survived\"][train[\"Pclass\"] == 3].value_counts(normalize = True)[1]*100)\n"
   ]
  },
  {
   "cell_type": "markdown",
   "metadata": {
    "papermill": {
     "duration": 0.05363,
     "end_time": "2020-10-18T10:06:29.053925",
     "exception": false,
     "start_time": "2020-10-18T10:06:29.000295",
     "status": "completed"
    },
    "tags": []
   },
   "source": [
    "- There is a strong difference of the percentage in the sex groups. 74.20% of females survived and from males on the other survived only 18.89%.\n",
    "- Passengers classes show also similar diffrence. The first class passengers had the most chance to survive, than the second and the third.\n",
    "- Age shows also a slight indication that the people older than 60 years of age had much less chance to survive"
   ]
  },
  {
   "cell_type": "code",
   "execution_count": 7,
   "metadata": {
    "execution": {
     "iopub.execute_input": "2020-10-18T10:06:29.190845Z",
     "iopub.status.busy": "2020-10-18T10:06:29.189938Z",
     "iopub.status.idle": "2020-10-18T10:06:30.572720Z",
     "shell.execute_reply": "2020-10-18T10:06:30.573310Z"
    },
    "papermill": {
     "duration": 1.46508,
     "end_time": "2020-10-18T10:06:30.573510",
     "exception": false,
     "start_time": "2020-10-18T10:06:29.108430",
     "status": "completed"
    },
    "tags": []
   },
   "outputs": [
    {
     "name": "stdout",
     "output_type": "stream",
     "text": [
      "Percentage of none sibling or spouse who survived: 34.53947368421053\n",
      "Percentage of one sibling or spouse who survived: 53.588516746411486\n",
      "Percentage of two sibling or spouse who survived: 46.42857142857143\n",
      "Percentage of three sibling or spouse who survived: 25.0\n",
      "Percentage of four sibling or spouse who survived: 16.666666666666664\n",
      "Percentage of none children or parents who survived: 34.365781710914455\n",
      "Percentage of 1 children or parents  who survived: 55.08474576271186\n",
      "Percentage of 2 children or parents  who survived: 50.0\n",
      "Percentage of 3 children or parents  who survived: 60.0\n",
      "Percentage of 5 children or parents  who survived: 20.0\n",
      "Percentage of passengers who embarked in Cherbourg who survived: 55.35714285714286\n",
      "Percentage of passengers who embarked in Queenstown who survived: 38.961038961038966\n",
      "Percentage of passengers who embarked in Southampton who survived: 33.69565217391305\n"
     ]
    },
    {
     "data": {
      "image/png": "[encoded data removed]",
      "text/plain": [
       "<Figure size 432x288 with 4 Axes>"
      ]
     },
     "metadata": {
      "needs_background": "light"
     },
     "output_type": "display_data"
    }
   ],
   "source": [
    "# plot both together to compare\n",
    "fig, ax=plt.subplots(2, 2)\n",
    "sns.barplot(x='SibSp', y=('Survived'),  data=train, ax=ax[0, 0])\n",
    "ax[0,0].set_title(\"SibSp\")\n",
    "sns.barplot(x='Parch', y=('Survived'),  data=train,  ax=ax[0, 1])\n",
    "ax[0,1].set_title(\"Parch\")\n",
    "sns.barplot(x='Embarked', y=('Survived'), data=train, ax=ax[1, 0])\n",
    "#ax[1, 0].set_title(\"Embarked\")\n",
    "sns.scatterplot(x='Fare', y=('Survived'), data=train, ax=ax[1, 1]);\n",
    "#ax[1, 1].set_title(\"Fare\")\n",
    "\n",
    "#print percentages of passengers with none, one, two, three or four siblings or a spouse that survive\n",
    "print(\"Percentage of none sibling or spouse who survived:\", \n",
    "      train[\"Survived\"][train[\"SibSp\"] == 0].value_counts(normalize = True)[1]*100)\n",
    "\n",
    "print(\"Percentage of one sibling or spouse who survived:\", \n",
    "      train[\"Survived\"][train[\"SibSp\"] == 1].value_counts(normalize = True)[1]*100)\n",
    "\n",
    "print(\"Percentage of two sibling or spouse who survived:\", \n",
    "      train[\"Survived\"][train[\"SibSp\"] == 2].value_counts(normalize = True)[1]*100)\n",
    "\n",
    "print(\"Percentage of three sibling or spouse who survived:\", \n",
    "      train[\"Survived\"][train[\"SibSp\"] == 3].value_counts(normalize = True)[1]*100)\n",
    "\n",
    "print(\"Percentage of four sibling or spouse who survived:\", \n",
    "      train[\"Survived\"][train[\"SibSp\"] == 4].value_counts(normalize = True)[1]*100)\n",
    "\n",
    "\n",
    "\n",
    "#print percentages of passengers with none, one, two, three or five children or parents that survive\n",
    "print(\"Percentage of none children or parents who survived:\", \n",
    "      train[\"Survived\"][train[\"Parch\"] == 0].value_counts(normalize = True)[1]*100)\n",
    "\n",
    "print(\"Percentage of 1 children or parents  who survived:\", \n",
    "      train[\"Survived\"][train[\"Parch\"] == 1].value_counts(normalize = True)[1]*100)\n",
    "\n",
    "print(\"Percentage of 2 children or parents  who survived:\", \n",
    "      train[\"Survived\"][train[\"Parch\"] == 2].value_counts(normalize = True)[1]*100)\n",
    "\n",
    "print(\"Percentage of 3 children or parents  who survived:\", \n",
    "      train[\"Survived\"][train[\"Parch\"] == 3].value_counts(normalize = True)[1]*100)\n",
    "\n",
    "print(\"Percentage of 5 children or parents  who survived:\", \n",
    "      train[\"Survived\"][train[\"Parch\"] == 5].value_counts(normalize = True)[1]*100)\n",
    "\n",
    "#print percentages of passengers with different ports of embarkation that survive\n",
    "print(\"Percentage of passengers who embarked in Cherbourg who survived:\", \n",
    "      train[\"Survived\"][train[\"Embarked\"] == 'C'].value_counts(normalize = True)[1]*100)\n",
    "\n",
    "print(\"Percentage of passengers who embarked in Queenstown who survived:\", \n",
    "      train[\"Survived\"][train[\"Embarked\"] == 'Q'].value_counts(normalize = True)[1]*100)\n",
    "\n",
    "print(\"Percentage of passengers who embarked in Southampton who survived:\", \n",
    "      train[\"Survived\"][train[\"Embarked\"] == 'S'].value_counts(normalize = True)[1]*100)"
   ]
  },
  {
   "cell_type": "markdown",
   "metadata": {
    "papermill": {
     "duration": 0.051931,
     "end_time": "2020-10-18T10:06:30.677815",
     "exception": false,
     "start_time": "2020-10-18T10:06:30.625884",
     "status": "completed"
    },
    "tags": []
   },
   "source": [
    "- As we can see the passengers with none siblings or spouse had less chance than the one with one or two siblings or spouse but more chance than the one with three or four siblings\n",
    "- Further the passengers with none children or parents had less chance to survivel than the one with one, two or three children or parents. Least chance had the one with 5 children\n",
    "- Port embarkation shows also diffrence for the chances of survival. The passengers who embarked in Cherbourg had most chance for survival, followed by Queenstown. Least chance had the passengers who embarked in Southampton"
   ]
  },
  {
   "cell_type": "markdown",
   "metadata": {
    "papermill": {
     "duration": 0.050141,
     "end_time": "2020-10-18T10:06:30.779304",
     "exception": false,
     "start_time": "2020-10-18T10:06:30.729163",
     "status": "completed"
    },
    "tags": []
   },
   "source": [
    "## 5. Preprossesing of selected data\n",
    "\n",
    "1. We have to fill the missing in the feature Age and than create the categories of it like Child, Teenager, Adult, Senior\n",
    "2. We have to fill missing values in the feature Embarked\n",
    "3. We have to change the alphanumerical values from Sex and Embarked"
   ]
  },
  {
   "cell_type": "markdown",
   "metadata": {
    "papermill": {
     "duration": 0.049956,
     "end_time": "2020-10-18T10:06:30.879929",
     "exception": false,
     "start_time": "2020-10-18T10:06:30.829973",
     "status": "completed"
    },
    "tags": []
   },
   "source": [
    "### Feature Age"
   ]
  },
  {
   "cell_type": "markdown",
   "metadata": {
    "papermill": {
     "duration": 0.050071,
     "end_time": "2020-10-18T10:06:30.980159",
     "exception": false,
     "start_time": "2020-10-18T10:06:30.930088",
     "status": "completed"
    },
    "tags": []
   },
   "source": [
    "***\n",
    "to fill the missing in the feature Age I use median and not the mean. (Because mean of sensitivity towards outliers of mean)"
   ]
  },
  {
   "cell_type": "code",
   "execution_count": 8,
   "metadata": {
    "execution": {
     "iopub.execute_input": "2020-10-18T10:06:31.092901Z",
     "iopub.status.busy": "2020-10-18T10:06:31.088912Z",
     "iopub.status.idle": "2020-10-18T10:06:31.097311Z",
     "shell.execute_reply": "2020-10-18T10:06:31.097942Z"
    },
    "papermill": {
     "duration": 0.067985,
     "end_time": "2020-10-18T10:06:31.098177",
     "exception": false,
     "start_time": "2020-10-18T10:06:31.030192",
     "status": "completed"
    },
    "tags": []
   },
   "outputs": [
    {
     "data": {
      "text/plain": [
       "count    891.000000\n",
       "mean      29.361582\n",
       "std       13.019697\n",
       "min        0.420000\n",
       "25%       22.000000\n",
       "50%       28.000000\n",
       "75%       35.000000\n",
       "max       80.000000\n",
       "Name: Age, dtype: float64"
      ]
     },
     "execution_count": 8,
     "metadata": {},
     "output_type": "execute_result"
    }
   ],
   "source": [
    "# filling the missings with median\n",
    "median= train['Age'].median()\n",
    "train['Age'].fillna(median, inplace=True)\n",
    "\n",
    "# Check if it worked\n",
    "train['Age'].describe()"
   ]
  },
  {
   "cell_type": "markdown",
   "metadata": {
    "papermill": {
     "duration": 0.050608,
     "end_time": "2020-10-18T10:06:31.199900",
     "exception": false,
     "start_time": "2020-10-18T10:06:31.149292",
     "status": "completed"
    },
    "tags": []
   },
   "source": [
    "***\n",
    "In next step I create 5 age groups. Data above showed that the different age groups had diffrent chances for survival. Hence it would be appropriate to analyse them in groups and not as a numerical continuous feature"
   ]
  },
  {
   "cell_type": "code",
   "execution_count": 9,
   "metadata": {
    "execution": {
     "iopub.execute_input": "2020-10-18T10:06:31.314544Z",
     "iopub.status.busy": "2020-10-18T10:06:31.313672Z",
     "iopub.status.idle": "2020-10-18T10:06:31.342384Z",
     "shell.execute_reply": "2020-10-18T10:06:31.341567Z"
    },
    "papermill": {
     "duration": 0.090991,
     "end_time": "2020-10-18T10:06:31.342586",
     "exception": false,
     "start_time": "2020-10-18T10:06:31.251595",
     "status": "completed"
    },
    "tags": []
   },
   "outputs": [
    {
     "data": {
      "text/html": [
       "<div>\n",
       "<style scoped>\n",
       "    .dataframe tbody tr th:only-of-type {\n",
       "        vertical-align: middle;\n",
       "    }\n",
       "\n",
       "    .dataframe tbody tr th {\n",
       "        vertical-align: top;\n",
       "    }\n",
       "\n",
       "    .dataframe thead th {\n",
       "        text-align: right;\n",
       "    }\n",
       "</style>\n",
       "<table border=\"1\" class=\"dataframe\">\n",
       "  <thead>\n",
       "    <tr style=\"text-align: right;\">\n",
       "      <th></th>\n",
       "      <th>PassengerId</th>\n",
       "      <th>Survived</th>\n",
       "      <th>Pclass</th>\n",
       "      <th>Sex</th>\n",
       "      <th>Age</th>\n",
       "      <th>SibSp</th>\n",
       "      <th>Parch</th>\n",
       "      <th>Fare</th>\n",
       "      <th>Embarked</th>\n",
       "      <th>AgeGroup</th>\n",
       "    </tr>\n",
       "  </thead>\n",
       "  <tbody>\n",
       "    <tr>\n",
       "      <th>0</th>\n",
       "      <td>1</td>\n",
       "      <td>0</td>\n",
       "      <td>3</td>\n",
       "      <td>male</td>\n",
       "      <td>22.0</td>\n",
       "      <td>1</td>\n",
       "      <td>0</td>\n",
       "      <td>7.2500</td>\n",
       "      <td>S</td>\n",
       "      <td>4</td>\n",
       "    </tr>\n",
       "    <tr>\n",
       "      <th>1</th>\n",
       "      <td>2</td>\n",
       "      <td>1</td>\n",
       "      <td>1</td>\n",
       "      <td>female</td>\n",
       "      <td>38.0</td>\n",
       "      <td>1</td>\n",
       "      <td>0</td>\n",
       "      <td>71.2833</td>\n",
       "      <td>C</td>\n",
       "      <td>4</td>\n",
       "    </tr>\n",
       "    <tr>\n",
       "      <th>2</th>\n",
       "      <td>3</td>\n",
       "      <td>1</td>\n",
       "      <td>3</td>\n",
       "      <td>female</td>\n",
       "      <td>26.0</td>\n",
       "      <td>0</td>\n",
       "      <td>0</td>\n",
       "      <td>7.9250</td>\n",
       "      <td>S</td>\n",
       "      <td>4</td>\n",
       "    </tr>\n",
       "    <tr>\n",
       "      <th>3</th>\n",
       "      <td>4</td>\n",
       "      <td>1</td>\n",
       "      <td>1</td>\n",
       "      <td>female</td>\n",
       "      <td>35.0</td>\n",
       "      <td>1</td>\n",
       "      <td>0</td>\n",
       "      <td>53.1000</td>\n",
       "      <td>S</td>\n",
       "      <td>4</td>\n",
       "    </tr>\n",
       "    <tr>\n",
       "      <th>4</th>\n",
       "      <td>5</td>\n",
       "      <td>0</td>\n",
       "      <td>3</td>\n",
       "      <td>male</td>\n",
       "      <td>35.0</td>\n",
       "      <td>0</td>\n",
       "      <td>0</td>\n",
       "      <td>8.0500</td>\n",
       "      <td>S</td>\n",
       "      <td>4</td>\n",
       "    </tr>\n",
       "  </tbody>\n",
       "</table>\n",
       "</div>"
      ],
      "text/plain": [
       "   PassengerId  Survived  Pclass     Sex   Age  SibSp  Parch     Fare  \\\n",
       "0            1         0       3    male  22.0      1      0   7.2500   \n",
       "1            2         1       1  female  38.0      1      0  71.2833   \n",
       "2            3         1       3  female  26.0      0      0   7.9250   \n",
       "3            4         1       1  female  35.0      1      0  53.1000   \n",
       "4            5         0       3    male  35.0      0      0   8.0500   \n",
       "\n",
       "  Embarked  AgeGroup  \n",
       "0        S         4  \n",
       "1        C         4  \n",
       "2        S         4  \n",
       "3        S         4  \n",
       "4        S         4  "
      ]
     },
     "execution_count": 9,
     "metadata": {},
     "output_type": "execute_result"
    }
   ],
   "source": [
    "groups = [train['Age'].between(0, 3), \n",
    "          train['Age'].between(4, 9), \n",
    "          train['Age'].between(10, 18),\n",
    "          train['Age'].between(19, 59),\n",
    "          train['Age'].between(60, 80)]\n",
    " \n",
    "\n",
    "values = [1, 2, 3, 4, 5]\n",
    "\n",
    "train['AgeGroup'] = np.select(groups, values, 0)\n",
    "\n",
    "# check\n",
    "train.head()"
   ]
  },
  {
   "cell_type": "code",
   "execution_count": 10,
   "metadata": {
    "execution": {
     "iopub.execute_input": "2020-10-18T10:06:31.495921Z",
     "iopub.status.busy": "2020-10-18T10:06:31.491992Z",
     "iopub.status.idle": "2020-10-18T10:06:31.501698Z",
     "shell.execute_reply": "2020-10-18T10:06:31.500951Z"
    },
    "papermill": {
     "duration": 0.09435,
     "end_time": "2020-10-18T10:06:31.501862",
     "exception": false,
     "start_time": "2020-10-18T10:06:31.407512",
     "status": "completed"
    },
    "tags": []
   },
   "outputs": [],
   "source": [
    "groups = [train['Age'].between(0, 3), \n",
    "          train['Age'].between(4, 9), \n",
    "          train['Age'].between(10, 18),\n",
    "          train['Age'].between(19, 59),\n",
    "          train['Age'].between(60, 80)]\n",
    " \n",
    "\n",
    "values = ['Babies', 'Children', 'Teenagers', 'Adults', 'Seniors']\n",
    "\n",
    "train['AgeGroup_names'] = np.select(groups, values, 0)"
   ]
  },
  {
   "cell_type": "code",
   "execution_count": 11,
   "metadata": {
    "execution": {
     "iopub.execute_input": "2020-10-18T10:06:31.638759Z",
     "iopub.status.busy": "2020-10-18T10:06:31.637459Z",
     "iopub.status.idle": "2020-10-18T10:06:31.643701Z",
     "shell.execute_reply": "2020-10-18T10:06:31.643003Z"
    },
    "papermill": {
     "duration": 0.082691,
     "end_time": "2020-10-18T10:06:31.643872",
     "exception": false,
     "start_time": "2020-10-18T10:06:31.561181",
     "status": "completed"
    },
    "tags": []
   },
   "outputs": [
    {
     "data": {
      "text/html": [
       "<div>\n",
       "<style scoped>\n",
       "    .dataframe tbody tr th:only-of-type {\n",
       "        vertical-align: middle;\n",
       "    }\n",
       "\n",
       "    .dataframe tbody tr th {\n",
       "        vertical-align: top;\n",
       "    }\n",
       "\n",
       "    .dataframe thead th {\n",
       "        text-align: right;\n",
       "    }\n",
       "</style>\n",
       "<table border=\"1\" class=\"dataframe\">\n",
       "  <thead>\n",
       "    <tr style=\"text-align: right;\">\n",
       "      <th></th>\n",
       "      <th>PassengerId</th>\n",
       "      <th>Survived</th>\n",
       "      <th>Pclass</th>\n",
       "      <th>Sex</th>\n",
       "      <th>Age</th>\n",
       "      <th>SibSp</th>\n",
       "      <th>Parch</th>\n",
       "      <th>Fare</th>\n",
       "      <th>Embarked</th>\n",
       "      <th>AgeGroup</th>\n",
       "      <th>AgeGroup_names</th>\n",
       "    </tr>\n",
       "  </thead>\n",
       "  <tbody>\n",
       "    <tr>\n",
       "      <th>0</th>\n",
       "      <td>1</td>\n",
       "      <td>0</td>\n",
       "      <td>3</td>\n",
       "      <td>male</td>\n",
       "      <td>22.0</td>\n",
       "      <td>1</td>\n",
       "      <td>0</td>\n",
       "      <td>7.2500</td>\n",
       "      <td>S</td>\n",
       "      <td>4</td>\n",
       "      <td>Adults</td>\n",
       "    </tr>\n",
       "    <tr>\n",
       "      <th>1</th>\n",
       "      <td>2</td>\n",
       "      <td>1</td>\n",
       "      <td>1</td>\n",
       "      <td>female</td>\n",
       "      <td>38.0</td>\n",
       "      <td>1</td>\n",
       "      <td>0</td>\n",
       "      <td>71.2833</td>\n",
       "      <td>C</td>\n",
       "      <td>4</td>\n",
       "      <td>Adults</td>\n",
       "    </tr>\n",
       "    <tr>\n",
       "      <th>2</th>\n",
       "      <td>3</td>\n",
       "      <td>1</td>\n",
       "      <td>3</td>\n",
       "      <td>female</td>\n",
       "      <td>26.0</td>\n",
       "      <td>0</td>\n",
       "      <td>0</td>\n",
       "      <td>7.9250</td>\n",
       "      <td>S</td>\n",
       "      <td>4</td>\n",
       "      <td>Adults</td>\n",
       "    </tr>\n",
       "    <tr>\n",
       "      <th>3</th>\n",
       "      <td>4</td>\n",
       "      <td>1</td>\n",
       "      <td>1</td>\n",
       "      <td>female</td>\n",
       "      <td>35.0</td>\n",
       "      <td>1</td>\n",
       "      <td>0</td>\n",
       "      <td>53.1000</td>\n",
       "      <td>S</td>\n",
       "      <td>4</td>\n",
       "      <td>Adults</td>\n",
       "    </tr>\n",
       "    <tr>\n",
       "      <th>4</th>\n",
       "      <td>5</td>\n",
       "      <td>0</td>\n",
       "      <td>3</td>\n",
       "      <td>male</td>\n",
       "      <td>35.0</td>\n",
       "      <td>0</td>\n",
       "      <td>0</td>\n",
       "      <td>8.0500</td>\n",
       "      <td>S</td>\n",
       "      <td>4</td>\n",
       "      <td>Adults</td>\n",
       "    </tr>\n",
       "  </tbody>\n",
       "</table>\n",
       "</div>"
      ],
      "text/plain": [
       "   PassengerId  Survived  Pclass     Sex   Age  SibSp  Parch     Fare  \\\n",
       "0            1         0       3    male  22.0      1      0   7.2500   \n",
       "1            2         1       1  female  38.0      1      0  71.2833   \n",
       "2            3         1       3  female  26.0      0      0   7.9250   \n",
       "3            4         1       1  female  35.0      1      0  53.1000   \n",
       "4            5         0       3    male  35.0      0      0   8.0500   \n",
       "\n",
       "  Embarked  AgeGroup AgeGroup_names  \n",
       "0        S         4         Adults  \n",
       "1        C         4         Adults  \n",
       "2        S         4         Adults  \n",
       "3        S         4         Adults  \n",
       "4        S         4         Adults  "
      ]
     },
     "execution_count": 11,
     "metadata": {},
     "output_type": "execute_result"
    }
   ],
   "source": [
    "train.head()"
   ]
  },
  {
   "cell_type": "code",
   "execution_count": 12,
   "metadata": {
    "execution": {
     "iopub.execute_input": "2020-10-18T10:06:31.761832Z",
     "iopub.status.busy": "2020-10-18T10:06:31.760730Z",
     "iopub.status.idle": "2020-10-18T10:06:31.765163Z",
     "shell.execute_reply": "2020-10-18T10:06:31.764524Z"
    },
    "papermill": {
     "duration": 0.063253,
     "end_time": "2020-10-18T10:06:31.765286",
     "exception": false,
     "start_time": "2020-10-18T10:06:31.702033",
     "status": "completed"
    },
    "tags": []
   },
   "outputs": [
    {
     "data": {
      "text/plain": [
       "891"
      ]
     },
     "execution_count": 12,
     "metadata": {},
     "output_type": "execute_result"
    }
   ],
   "source": [
    "train['Survived'].count()"
   ]
  },
  {
   "cell_type": "code",
   "execution_count": 13,
   "metadata": {
    "execution": {
     "iopub.execute_input": "2020-10-18T10:06:31.882327Z",
     "iopub.status.busy": "2020-10-18T10:06:31.878144Z",
     "iopub.status.idle": "2020-10-18T10:06:32.264415Z",
     "shell.execute_reply": "2020-10-18T10:06:32.264974Z"
    },
    "papermill": {
     "duration": 0.4466,
     "end_time": "2020-10-18T10:06:32.265138",
     "exception": false,
     "start_time": "2020-10-18T10:06:31.818538",
     "status": "completed"
    },
    "tags": []
   },
   "outputs": [
    {
     "data": {
      "image/png": "[encoded data removed]",
      "text/plain": [
       "<Figure size 720x432 with 1 Axes>"
      ]
     },
     "metadata": {
      "needs_background": "light"
     },
     "output_type": "display_data"
    }
   ],
   "source": [
    "# check\n",
    "\n",
    "plt.figure(figsize=(10,6))\n",
    "sns.barplot(x='AgeGroup_names',\n",
    "            y= 'Survived',  \n",
    "            data=train, \n",
    "            order=['Babies', 'Children', 'Teenagers', 'Adults', 'Seniors']);"
   ]
  },
  {
   "cell_type": "markdown",
   "metadata": {
    "papermill": {
     "duration": 0.058389,
     "end_time": "2020-10-18T10:06:32.377501",
     "exception": false,
     "start_time": "2020-10-18T10:06:32.319112",
     "status": "completed"
    },
    "tags": []
   },
   "source": [
    "We can see that the babies and children had much more chances for survival than the others. They are followed by teenagers, adults and seniors\n",
    "***"
   ]
  },
  {
   "cell_type": "markdown",
   "metadata": {
    "papermill": {
     "duration": 0.055116,
     "end_time": "2020-10-18T10:06:32.487855",
     "exception": false,
     "start_time": "2020-10-18T10:06:32.432739",
     "status": "completed"
    },
    "tags": []
   },
   "source": [
    "***\n",
    "We drop Age and AgeGroup_names"
   ]
  },
  {
   "cell_type": "code",
   "execution_count": 14,
   "metadata": {
    "execution": {
     "iopub.execute_input": "2020-10-18T10:06:32.614872Z",
     "iopub.status.busy": "2020-10-18T10:06:32.613787Z",
     "iopub.status.idle": "2020-10-18T10:06:32.616443Z",
     "shell.execute_reply": "2020-10-18T10:06:32.617101Z"
    },
    "papermill": {
     "duration": 0.067062,
     "end_time": "2020-10-18T10:06:32.617255",
     "exception": false,
     "start_time": "2020-10-18T10:06:32.550193",
     "status": "completed"
    },
    "tags": []
   },
   "outputs": [],
   "source": [
    "train= train.drop(['Age'], axis=1)\n",
    "train= train.drop(['AgeGroup_names'], axis=1)\n",
    "#train.head()"
   ]
  },
  {
   "cell_type": "markdown",
   "metadata": {
    "papermill": {
     "duration": 0.05742,
     "end_time": "2020-10-18T10:06:32.729025",
     "exception": false,
     "start_time": "2020-10-18T10:06:32.671605",
     "status": "completed"
    },
    "tags": []
   },
   "source": [
    "### Feature Sex"
   ]
  },
  {
   "cell_type": "code",
   "execution_count": 15,
   "metadata": {
    "execution": {
     "iopub.execute_input": "2020-10-18T10:06:32.864547Z",
     "iopub.status.busy": "2020-10-18T10:06:32.863588Z",
     "iopub.status.idle": "2020-10-18T10:06:32.868733Z",
     "shell.execute_reply": "2020-10-18T10:06:32.868111Z"
    },
    "papermill": {
     "duration": 0.078943,
     "end_time": "2020-10-18T10:06:32.868860",
     "exception": false,
     "start_time": "2020-10-18T10:06:32.789917",
     "status": "completed"
    },
    "tags": []
   },
   "outputs": [
    {
     "data": {
      "text/html": [
       "<div>\n",
       "<style scoped>\n",
       "    .dataframe tbody tr th:only-of-type {\n",
       "        vertical-align: middle;\n",
       "    }\n",
       "\n",
       "    .dataframe tbody tr th {\n",
       "        vertical-align: top;\n",
       "    }\n",
       "\n",
       "    .dataframe thead th {\n",
       "        text-align: right;\n",
       "    }\n",
       "</style>\n",
       "<table border=\"1\" class=\"dataframe\">\n",
       "  <thead>\n",
       "    <tr style=\"text-align: right;\">\n",
       "      <th></th>\n",
       "      <th>PassengerId</th>\n",
       "      <th>Survived</th>\n",
       "      <th>Pclass</th>\n",
       "      <th>Sex</th>\n",
       "      <th>SibSp</th>\n",
       "      <th>Parch</th>\n",
       "      <th>Fare</th>\n",
       "      <th>Embarked</th>\n",
       "      <th>AgeGroup</th>\n",
       "    </tr>\n",
       "  </thead>\n",
       "  <tbody>\n",
       "    <tr>\n",
       "      <th>0</th>\n",
       "      <td>1</td>\n",
       "      <td>0</td>\n",
       "      <td>3</td>\n",
       "      <td>1</td>\n",
       "      <td>1</td>\n",
       "      <td>0</td>\n",
       "      <td>7.2500</td>\n",
       "      <td>S</td>\n",
       "      <td>4</td>\n",
       "    </tr>\n",
       "    <tr>\n",
       "      <th>1</th>\n",
       "      <td>2</td>\n",
       "      <td>1</td>\n",
       "      <td>1</td>\n",
       "      <td>0</td>\n",
       "      <td>1</td>\n",
       "      <td>0</td>\n",
       "      <td>71.2833</td>\n",
       "      <td>C</td>\n",
       "      <td>4</td>\n",
       "    </tr>\n",
       "    <tr>\n",
       "      <th>2</th>\n",
       "      <td>3</td>\n",
       "      <td>1</td>\n",
       "      <td>3</td>\n",
       "      <td>0</td>\n",
       "      <td>0</td>\n",
       "      <td>0</td>\n",
       "      <td>7.9250</td>\n",
       "      <td>S</td>\n",
       "      <td>4</td>\n",
       "    </tr>\n",
       "    <tr>\n",
       "      <th>3</th>\n",
       "      <td>4</td>\n",
       "      <td>1</td>\n",
       "      <td>1</td>\n",
       "      <td>0</td>\n",
       "      <td>1</td>\n",
       "      <td>0</td>\n",
       "      <td>53.1000</td>\n",
       "      <td>S</td>\n",
       "      <td>4</td>\n",
       "    </tr>\n",
       "    <tr>\n",
       "      <th>4</th>\n",
       "      <td>5</td>\n",
       "      <td>0</td>\n",
       "      <td>3</td>\n",
       "      <td>1</td>\n",
       "      <td>0</td>\n",
       "      <td>0</td>\n",
       "      <td>8.0500</td>\n",
       "      <td>S</td>\n",
       "      <td>4</td>\n",
       "    </tr>\n",
       "  </tbody>\n",
       "</table>\n",
       "</div>"
      ],
      "text/plain": [
       "   PassengerId  Survived  Pclass  Sex  SibSp  Parch     Fare Embarked  \\\n",
       "0            1         0       3    1      1      0   7.2500        S   \n",
       "1            2         1       1    0      1      0  71.2833        C   \n",
       "2            3         1       3    0      0      0   7.9250        S   \n",
       "3            4         1       1    0      1      0  53.1000        S   \n",
       "4            5         0       3    1      0      0   8.0500        S   \n",
       "\n",
       "   AgeGroup  \n",
       "0         4  \n",
       "1         4  \n",
       "2         4  \n",
       "3         4  \n",
       "4         4  "
      ]
     },
     "execution_count": 15,
     "metadata": {},
     "output_type": "execute_result"
    }
   ],
   "source": [
    "# converting the values from sex variable into 1 an 0\n",
    "d = {'male': 1, 'female': 0}\n",
    "train['Sex'] = train['Sex'].map(d)\n",
    "\n",
    "#check\n",
    "train.head()"
   ]
  },
  {
   "cell_type": "markdown",
   "metadata": {
    "papermill": {
     "duration": 0.054574,
     "end_time": "2020-10-18T10:06:32.978178",
     "exception": false,
     "start_time": "2020-10-18T10:06:32.923604",
     "status": "completed"
    },
    "tags": []
   },
   "source": [
    "### Feature Embarked"
   ]
  },
  {
   "cell_type": "code",
   "execution_count": 16,
   "metadata": {
    "execution": {
     "iopub.execute_input": "2020-10-18T10:06:33.100661Z",
     "iopub.status.busy": "2020-10-18T10:06:33.099442Z",
     "iopub.status.idle": "2020-10-18T10:06:33.103883Z",
     "shell.execute_reply": "2020-10-18T10:06:33.103281Z"
    },
    "papermill": {
     "duration": 0.067868,
     "end_time": "2020-10-18T10:06:33.104018",
     "exception": false,
     "start_time": "2020-10-18T10:06:33.036150",
     "status": "completed"
    },
    "tags": []
   },
   "outputs": [
    {
     "data": {
      "text/plain": [
       "S    644\n",
       "C    168\n",
       "Q     77\n",
       "Name: Embarked, dtype: int64"
      ]
     },
     "execution_count": 16,
     "metadata": {},
     "output_type": "execute_result"
    }
   ],
   "source": [
    "train['Embarked'].value_counts()"
   ]
  },
  {
   "cell_type": "markdown",
   "metadata": {
    "papermill": {
     "duration": 0.055802,
     "end_time": "2020-10-18T10:06:33.215723",
     "exception": false,
     "start_time": "2020-10-18T10:06:33.159921",
     "status": "completed"
    },
    "tags": []
   },
   "source": [
    "because the Southampton is the most common value for the feature Embarked, we fill missings with S for this port\n",
    "***"
   ]
  },
  {
   "cell_type": "code",
   "execution_count": 17,
   "metadata": {
    "execution": {
     "iopub.execute_input": "2020-10-18T10:06:33.340284Z",
     "iopub.status.busy": "2020-10-18T10:06:33.339159Z",
     "iopub.status.idle": "2020-10-18T10:06:33.343035Z",
     "shell.execute_reply": "2020-10-18T10:06:33.343593Z"
    },
    "papermill": {
     "duration": 0.072538,
     "end_time": "2020-10-18T10:06:33.343762",
     "exception": false,
     "start_time": "2020-10-18T10:06:33.271224",
     "status": "completed"
    },
    "tags": []
   },
   "outputs": [
    {
     "data": {
      "text/plain": [
       "count     891\n",
       "unique      3\n",
       "top         S\n",
       "freq      646\n",
       "Name: Embarked, dtype: object"
      ]
     },
     "execution_count": 17,
     "metadata": {},
     "output_type": "execute_result"
    }
   ],
   "source": [
    "train['Embarked'].fillna(value='S', inplace=True)\n",
    "# Check\n",
    "train['Embarked'].describe()"
   ]
  },
  {
   "cell_type": "code",
   "execution_count": 18,
   "metadata": {
    "execution": {
     "iopub.execute_input": "2020-10-18T10:06:33.476147Z",
     "iopub.status.busy": "2020-10-18T10:06:33.475157Z",
     "iopub.status.idle": "2020-10-18T10:06:33.480363Z",
     "shell.execute_reply": "2020-10-18T10:06:33.479655Z"
    },
    "papermill": {
     "duration": 0.080224,
     "end_time": "2020-10-18T10:06:33.480500",
     "exception": false,
     "start_time": "2020-10-18T10:06:33.400276",
     "status": "completed"
    },
    "tags": []
   },
   "outputs": [
    {
     "data": {
      "text/html": [
       "<div>\n",
       "<style scoped>\n",
       "    .dataframe tbody tr th:only-of-type {\n",
       "        vertical-align: middle;\n",
       "    }\n",
       "\n",
       "    .dataframe tbody tr th {\n",
       "        vertical-align: top;\n",
       "    }\n",
       "\n",
       "    .dataframe thead th {\n",
       "        text-align: right;\n",
       "    }\n",
       "</style>\n",
       "<table border=\"1\" class=\"dataframe\">\n",
       "  <thead>\n",
       "    <tr style=\"text-align: right;\">\n",
       "      <th></th>\n",
       "      <th>PassengerId</th>\n",
       "      <th>Survived</th>\n",
       "      <th>Pclass</th>\n",
       "      <th>Sex</th>\n",
       "      <th>SibSp</th>\n",
       "      <th>Parch</th>\n",
       "      <th>Fare</th>\n",
       "      <th>Embarked</th>\n",
       "      <th>AgeGroup</th>\n",
       "    </tr>\n",
       "  </thead>\n",
       "  <tbody>\n",
       "    <tr>\n",
       "      <th>0</th>\n",
       "      <td>1</td>\n",
       "      <td>0</td>\n",
       "      <td>3</td>\n",
       "      <td>1</td>\n",
       "      <td>1</td>\n",
       "      <td>0</td>\n",
       "      <td>7.2500</td>\n",
       "      <td>3</td>\n",
       "      <td>4</td>\n",
       "    </tr>\n",
       "    <tr>\n",
       "      <th>1</th>\n",
       "      <td>2</td>\n",
       "      <td>1</td>\n",
       "      <td>1</td>\n",
       "      <td>0</td>\n",
       "      <td>1</td>\n",
       "      <td>0</td>\n",
       "      <td>71.2833</td>\n",
       "      <td>2</td>\n",
       "      <td>4</td>\n",
       "    </tr>\n",
       "    <tr>\n",
       "      <th>2</th>\n",
       "      <td>3</td>\n",
       "      <td>1</td>\n",
       "      <td>3</td>\n",
       "      <td>0</td>\n",
       "      <td>0</td>\n",
       "      <td>0</td>\n",
       "      <td>7.9250</td>\n",
       "      <td>3</td>\n",
       "      <td>4</td>\n",
       "    </tr>\n",
       "    <tr>\n",
       "      <th>3</th>\n",
       "      <td>4</td>\n",
       "      <td>1</td>\n",
       "      <td>1</td>\n",
       "      <td>0</td>\n",
       "      <td>1</td>\n",
       "      <td>0</td>\n",
       "      <td>53.1000</td>\n",
       "      <td>3</td>\n",
       "      <td>4</td>\n",
       "    </tr>\n",
       "    <tr>\n",
       "      <th>4</th>\n",
       "      <td>5</td>\n",
       "      <td>0</td>\n",
       "      <td>3</td>\n",
       "      <td>1</td>\n",
       "      <td>0</td>\n",
       "      <td>0</td>\n",
       "      <td>8.0500</td>\n",
       "      <td>3</td>\n",
       "      <td>4</td>\n",
       "    </tr>\n",
       "  </tbody>\n",
       "</table>\n",
       "</div>"
      ],
      "text/plain": [
       "   PassengerId  Survived  Pclass  Sex  SibSp  Parch     Fare  Embarked  \\\n",
       "0            1         0       3    1      1      0   7.2500         3   \n",
       "1            2         1       1    0      1      0  71.2833         2   \n",
       "2            3         1       3    0      0      0   7.9250         3   \n",
       "3            4         1       1    0      1      0  53.1000         3   \n",
       "4            5         0       3    1      0      0   8.0500         3   \n",
       "\n",
       "   AgeGroup  \n",
       "0         4  \n",
       "1         4  \n",
       "2         4  \n",
       "3         4  \n",
       "4         4  "
      ]
     },
     "execution_count": 18,
     "metadata": {},
     "output_type": "execute_result"
    }
   ],
   "source": [
    "# converting the values from Embarked variable into 1, 2 and 3\n",
    "d = {'Q': 1, 'C': 2, 'S': 3}\n",
    "train['Embarked'] = train['Embarked'].map(d)\n",
    "\n",
    "#check\n",
    "train.head()"
   ]
  },
  {
   "cell_type": "code",
   "execution_count": 19,
   "metadata": {
    "execution": {
     "iopub.execute_input": "2020-10-18T10:06:33.601815Z",
     "iopub.status.busy": "2020-10-18T10:06:33.600899Z",
     "iopub.status.idle": "2020-10-18T10:06:33.762374Z",
     "shell.execute_reply": "2020-10-18T10:06:33.761588Z"
    },
    "papermill": {
     "duration": 0.225108,
     "end_time": "2020-10-18T10:06:33.762523",
     "exception": false,
     "start_time": "2020-10-18T10:06:33.537415",
     "status": "completed"
    },
    "tags": []
   },
   "outputs": [],
   "source": [
    "from sklearn.model_selection import train_test_split\n",
    "\n",
    "predictors = train.drop(['Survived', 'PassengerId'], axis=1)\n",
    "target = train[\"Survived\"]\n",
    "x_train, x_val, y_train, y_val = train_test_split(predictors, target, test_size = 0.22, random_state = 0)"
   ]
  },
  {
   "cell_type": "markdown",
   "metadata": {
    "papermill": {
     "duration": 0.058707,
     "end_time": "2020-10-18T10:06:33.879607",
     "exception": false,
     "start_time": "2020-10-18T10:06:33.820900",
     "status": "completed"
    },
    "tags": []
   },
   "source": [
    "### Prepairing test data acordingly for fiting model"
   ]
  },
  {
   "cell_type": "code",
   "execution_count": 20,
   "metadata": {
    "execution": {
     "iopub.execute_input": "2020-10-18T10:06:34.010891Z",
     "iopub.status.busy": "2020-10-18T10:06:34.009667Z",
     "iopub.status.idle": "2020-10-18T10:06:34.046429Z",
     "shell.execute_reply": "2020-10-18T10:06:34.045662Z"
    },
    "papermill": {
     "duration": 0.104154,
     "end_time": "2020-10-18T10:06:34.046614",
     "exception": false,
     "start_time": "2020-10-18T10:06:33.942460",
     "status": "completed"
    },
    "tags": []
   },
   "outputs": [
    {
     "data": {
      "text/html": [
       "<div>\n",
       "<style scoped>\n",
       "    .dataframe tbody tr th:only-of-type {\n",
       "        vertical-align: middle;\n",
       "    }\n",
       "\n",
       "    .dataframe tbody tr th {\n",
       "        vertical-align: top;\n",
       "    }\n",
       "\n",
       "    .dataframe thead th {\n",
       "        text-align: right;\n",
       "    }\n",
       "</style>\n",
       "<table border=\"1\" class=\"dataframe\">\n",
       "  <thead>\n",
       "    <tr style=\"text-align: right;\">\n",
       "      <th></th>\n",
       "      <th>PassengerId</th>\n",
       "      <th>Pclass</th>\n",
       "      <th>Name</th>\n",
       "      <th>Sex</th>\n",
       "      <th>Age</th>\n",
       "      <th>SibSp</th>\n",
       "      <th>Parch</th>\n",
       "      <th>Ticket</th>\n",
       "      <th>Fare</th>\n",
       "      <th>Cabin</th>\n",
       "      <th>Embarked</th>\n",
       "    </tr>\n",
       "  </thead>\n",
       "  <tbody>\n",
       "    <tr>\n",
       "      <th>0</th>\n",
       "      <td>892</td>\n",
       "      <td>3</td>\n",
       "      <td>Kelly, Mr. James</td>\n",
       "      <td>male</td>\n",
       "      <td>34.5</td>\n",
       "      <td>0</td>\n",
       "      <td>0</td>\n",
       "      <td>330911</td>\n",
       "      <td>7.8292</td>\n",
       "      <td>NaN</td>\n",
       "      <td>Q</td>\n",
       "    </tr>\n",
       "    <tr>\n",
       "      <th>1</th>\n",
       "      <td>893</td>\n",
       "      <td>3</td>\n",
       "      <td>Wilkes, Mrs. James (Ellen Needs)</td>\n",
       "      <td>female</td>\n",
       "      <td>47.0</td>\n",
       "      <td>1</td>\n",
       "      <td>0</td>\n",
       "      <td>363272</td>\n",
       "      <td>7.0000</td>\n",
       "      <td>NaN</td>\n",
       "      <td>S</td>\n",
       "    </tr>\n",
       "    <tr>\n",
       "      <th>2</th>\n",
       "      <td>894</td>\n",
       "      <td>2</td>\n",
       "      <td>Myles, Mr. Thomas Francis</td>\n",
       "      <td>male</td>\n",
       "      <td>62.0</td>\n",
       "      <td>0</td>\n",
       "      <td>0</td>\n",
       "      <td>240276</td>\n",
       "      <td>9.6875</td>\n",
       "      <td>NaN</td>\n",
       "      <td>Q</td>\n",
       "    </tr>\n",
       "    <tr>\n",
       "      <th>3</th>\n",
       "      <td>895</td>\n",
       "      <td>3</td>\n",
       "      <td>Wirz, Mr. Albert</td>\n",
       "      <td>male</td>\n",
       "      <td>27.0</td>\n",
       "      <td>0</td>\n",
       "      <td>0</td>\n",
       "      <td>315154</td>\n",
       "      <td>8.6625</td>\n",
       "      <td>NaN</td>\n",
       "      <td>S</td>\n",
       "    </tr>\n",
       "    <tr>\n",
       "      <th>4</th>\n",
       "      <td>896</td>\n",
       "      <td>3</td>\n",
       "      <td>Hirvonen, Mrs. Alexander (Helga E Lindqvist)</td>\n",
       "      <td>female</td>\n",
       "      <td>22.0</td>\n",
       "      <td>1</td>\n",
       "      <td>1</td>\n",
       "      <td>3101298</td>\n",
       "      <td>12.2875</td>\n",
       "      <td>NaN</td>\n",
       "      <td>S</td>\n",
       "    </tr>\n",
       "  </tbody>\n",
       "</table>\n",
       "</div>"
      ],
      "text/plain": [
       "   PassengerId  Pclass                                          Name     Sex  \\\n",
       "0          892       3                              Kelly, Mr. James    male   \n",
       "1          893       3              Wilkes, Mrs. James (Ellen Needs)  female   \n",
       "2          894       2                     Myles, Mr. Thomas Francis    male   \n",
       "3          895       3                              Wirz, Mr. Albert    male   \n",
       "4          896       3  Hirvonen, Mrs. Alexander (Helga E Lindqvist)  female   \n",
       "\n",
       "    Age  SibSp  Parch   Ticket     Fare Cabin Embarked  \n",
       "0  34.5      0      0   330911   7.8292   NaN        Q  \n",
       "1  47.0      1      0   363272   7.0000   NaN        S  \n",
       "2  62.0      0      0   240276   9.6875   NaN        Q  \n",
       "3  27.0      0      0   315154   8.6625   NaN        S  \n",
       "4  22.0      1      1  3101298  12.2875   NaN        S  "
      ]
     },
     "execution_count": 20,
     "metadata": {},
     "output_type": "execute_result"
    }
   ],
   "source": [
    "test= pd.read_csv('../input/titanic/test.csv')\n",
    "test.head()"
   ]
  },
  {
   "cell_type": "code",
   "execution_count": 21,
   "metadata": {
    "execution": {
     "iopub.execute_input": "2020-10-18T10:06:34.194294Z",
     "iopub.status.busy": "2020-10-18T10:06:34.193197Z",
     "iopub.status.idle": "2020-10-18T10:06:34.199349Z",
     "shell.execute_reply": "2020-10-18T10:06:34.198709Z"
    },
    "papermill": {
     "duration": 0.083392,
     "end_time": "2020-10-18T10:06:34.199506",
     "exception": false,
     "start_time": "2020-10-18T10:06:34.116114",
     "status": "completed"
    },
    "tags": []
   },
   "outputs": [
    {
     "data": {
      "text/html": [
       "<div>\n",
       "<style scoped>\n",
       "    .dataframe tbody tr th:only-of-type {\n",
       "        vertical-align: middle;\n",
       "    }\n",
       "\n",
       "    .dataframe tbody tr th {\n",
       "        vertical-align: top;\n",
       "    }\n",
       "\n",
       "    .dataframe thead th {\n",
       "        text-align: right;\n",
       "    }\n",
       "</style>\n",
       "<table border=\"1\" class=\"dataframe\">\n",
       "  <thead>\n",
       "    <tr style=\"text-align: right;\">\n",
       "      <th></th>\n",
       "      <th>PassengerId</th>\n",
       "      <th>Pclass</th>\n",
       "      <th>Sex</th>\n",
       "      <th>Age</th>\n",
       "      <th>SibSp</th>\n",
       "      <th>Parch</th>\n",
       "      <th>Fare</th>\n",
       "      <th>Embarked</th>\n",
       "    </tr>\n",
       "  </thead>\n",
       "  <tbody>\n",
       "    <tr>\n",
       "      <th>0</th>\n",
       "      <td>892</td>\n",
       "      <td>3</td>\n",
       "      <td>male</td>\n",
       "      <td>34.5</td>\n",
       "      <td>0</td>\n",
       "      <td>0</td>\n",
       "      <td>7.8292</td>\n",
       "      <td>Q</td>\n",
       "    </tr>\n",
       "    <tr>\n",
       "      <th>1</th>\n",
       "      <td>893</td>\n",
       "      <td>3</td>\n",
       "      <td>female</td>\n",
       "      <td>47.0</td>\n",
       "      <td>1</td>\n",
       "      <td>0</td>\n",
       "      <td>7.0000</td>\n",
       "      <td>S</td>\n",
       "    </tr>\n",
       "    <tr>\n",
       "      <th>2</th>\n",
       "      <td>894</td>\n",
       "      <td>2</td>\n",
       "      <td>male</td>\n",
       "      <td>62.0</td>\n",
       "      <td>0</td>\n",
       "      <td>0</td>\n",
       "      <td>9.6875</td>\n",
       "      <td>Q</td>\n",
       "    </tr>\n",
       "    <tr>\n",
       "      <th>3</th>\n",
       "      <td>895</td>\n",
       "      <td>3</td>\n",
       "      <td>male</td>\n",
       "      <td>27.0</td>\n",
       "      <td>0</td>\n",
       "      <td>0</td>\n",
       "      <td>8.6625</td>\n",
       "      <td>S</td>\n",
       "    </tr>\n",
       "    <tr>\n",
       "      <th>4</th>\n",
       "      <td>896</td>\n",
       "      <td>3</td>\n",
       "      <td>female</td>\n",
       "      <td>22.0</td>\n",
       "      <td>1</td>\n",
       "      <td>1</td>\n",
       "      <td>12.2875</td>\n",
       "      <td>S</td>\n",
       "    </tr>\n",
       "  </tbody>\n",
       "</table>\n",
       "</div>"
      ],
      "text/plain": [
       "   PassengerId  Pclass     Sex   Age  SibSp  Parch     Fare Embarked\n",
       "0          892       3    male  34.5      0      0   7.8292        Q\n",
       "1          893       3  female  47.0      1      0   7.0000        S\n",
       "2          894       2    male  62.0      0      0   9.6875        Q\n",
       "3          895       3    male  27.0      0      0   8.6625        S\n",
       "4          896       3  female  22.0      1      1  12.2875        S"
      ]
     },
     "execution_count": 21,
     "metadata": {},
     "output_type": "execute_result"
    }
   ],
   "source": [
    "# extracting the usefull variablesfrom the original dataframe\n",
    "test=test.loc[:, ['PassengerId', 'Pclass', 'Sex',\n",
    "                  'Age', 'SibSp','Parch', 'Fare',\n",
    "                  'Embarked' ]]\n",
    "test.head(5)"
   ]
  },
  {
   "cell_type": "code",
   "execution_count": 22,
   "metadata": {
    "execution": {
     "iopub.execute_input": "2020-10-18T10:06:34.342242Z",
     "iopub.status.busy": "2020-10-18T10:06:34.331392Z",
     "iopub.status.idle": "2020-10-18T10:06:34.382433Z",
     "shell.execute_reply": "2020-10-18T10:06:34.381328Z"
    },
    "papermill": {
     "duration": 0.117183,
     "end_time": "2020-10-18T10:06:34.382648",
     "exception": false,
     "start_time": "2020-10-18T10:06:34.265465",
     "status": "completed"
    },
    "tags": []
   },
   "outputs": [
    {
     "data": {
      "text/html": [
       "<div>\n",
       "<style scoped>\n",
       "    .dataframe tbody tr th:only-of-type {\n",
       "        vertical-align: middle;\n",
       "    }\n",
       "\n",
       "    .dataframe tbody tr th {\n",
       "        vertical-align: top;\n",
       "    }\n",
       "\n",
       "    .dataframe thead th {\n",
       "        text-align: right;\n",
       "    }\n",
       "</style>\n",
       "<table border=\"1\" class=\"dataframe\">\n",
       "  <thead>\n",
       "    <tr style=\"text-align: right;\">\n",
       "      <th></th>\n",
       "      <th>PassengerId</th>\n",
       "      <th>Pclass</th>\n",
       "      <th>Sex</th>\n",
       "      <th>Age</th>\n",
       "      <th>SibSp</th>\n",
       "      <th>Parch</th>\n",
       "      <th>Fare</th>\n",
       "      <th>Embarked</th>\n",
       "    </tr>\n",
       "  </thead>\n",
       "  <tbody>\n",
       "    <tr>\n",
       "      <th>count</th>\n",
       "      <td>418.000000</td>\n",
       "      <td>418.000000</td>\n",
       "      <td>418</td>\n",
       "      <td>332.000000</td>\n",
       "      <td>418.000000</td>\n",
       "      <td>418.000000</td>\n",
       "      <td>417.000000</td>\n",
       "      <td>418</td>\n",
       "    </tr>\n",
       "    <tr>\n",
       "      <th>unique</th>\n",
       "      <td>NaN</td>\n",
       "      <td>NaN</td>\n",
       "      <td>2</td>\n",
       "      <td>NaN</td>\n",
       "      <td>NaN</td>\n",
       "      <td>NaN</td>\n",
       "      <td>NaN</td>\n",
       "      <td>3</td>\n",
       "    </tr>\n",
       "    <tr>\n",
       "      <th>top</th>\n",
       "      <td>NaN</td>\n",
       "      <td>NaN</td>\n",
       "      <td>male</td>\n",
       "      <td>NaN</td>\n",
       "      <td>NaN</td>\n",
       "      <td>NaN</td>\n",
       "      <td>NaN</td>\n",
       "      <td>S</td>\n",
       "    </tr>\n",
       "    <tr>\n",
       "      <th>freq</th>\n",
       "      <td>NaN</td>\n",
       "      <td>NaN</td>\n",
       "      <td>266</td>\n",
       "      <td>NaN</td>\n",
       "      <td>NaN</td>\n",
       "      <td>NaN</td>\n",
       "      <td>NaN</td>\n",
       "      <td>270</td>\n",
       "    </tr>\n",
       "    <tr>\n",
       "      <th>mean</th>\n",
       "      <td>1100.500000</td>\n",
       "      <td>2.265550</td>\n",
       "      <td>NaN</td>\n",
       "      <td>30.272590</td>\n",
       "      <td>0.447368</td>\n",
       "      <td>0.392344</td>\n",
       "      <td>35.627188</td>\n",
       "      <td>NaN</td>\n",
       "    </tr>\n",
       "    <tr>\n",
       "      <th>std</th>\n",
       "      <td>120.810458</td>\n",
       "      <td>0.841838</td>\n",
       "      <td>NaN</td>\n",
       "      <td>14.181209</td>\n",
       "      <td>0.896760</td>\n",
       "      <td>0.981429</td>\n",
       "      <td>55.907576</td>\n",
       "      <td>NaN</td>\n",
       "    </tr>\n",
       "    <tr>\n",
       "      <th>min</th>\n",
       "      <td>892.000000</td>\n",
       "      <td>1.000000</td>\n",
       "      <td>NaN</td>\n",
       "      <td>0.170000</td>\n",
       "      <td>0.000000</td>\n",
       "      <td>0.000000</td>\n",
       "      <td>0.000000</td>\n",
       "      <td>NaN</td>\n",
       "    </tr>\n",
       "    <tr>\n",
       "      <th>25%</th>\n",
       "      <td>996.250000</td>\n",
       "      <td>1.000000</td>\n",
       "      <td>NaN</td>\n",
       "      <td>21.000000</td>\n",
       "      <td>0.000000</td>\n",
       "      <td>0.000000</td>\n",
       "      <td>7.895800</td>\n",
       "      <td>NaN</td>\n",
       "    </tr>\n",
       "    <tr>\n",
       "      <th>50%</th>\n",
       "      <td>1100.500000</td>\n",
       "      <td>3.000000</td>\n",
       "      <td>NaN</td>\n",
       "      <td>27.000000</td>\n",
       "      <td>0.000000</td>\n",
       "      <td>0.000000</td>\n",
       "      <td>14.454200</td>\n",
       "      <td>NaN</td>\n",
       "    </tr>\n",
       "    <tr>\n",
       "      <th>75%</th>\n",
       "      <td>1204.750000</td>\n",
       "      <td>3.000000</td>\n",
       "      <td>NaN</td>\n",
       "      <td>39.000000</td>\n",
       "      <td>1.000000</td>\n",
       "      <td>0.000000</td>\n",
       "      <td>31.500000</td>\n",
       "      <td>NaN</td>\n",
       "    </tr>\n",
       "    <tr>\n",
       "      <th>max</th>\n",
       "      <td>1309.000000</td>\n",
       "      <td>3.000000</td>\n",
       "      <td>NaN</td>\n",
       "      <td>76.000000</td>\n",
       "      <td>8.000000</td>\n",
       "      <td>9.000000</td>\n",
       "      <td>512.329200</td>\n",
       "      <td>NaN</td>\n",
       "    </tr>\n",
       "  </tbody>\n",
       "</table>\n",
       "</div>"
      ],
      "text/plain": [
       "        PassengerId      Pclass   Sex         Age       SibSp       Parch  \\\n",
       "count    418.000000  418.000000   418  332.000000  418.000000  418.000000   \n",
       "unique          NaN         NaN     2         NaN         NaN         NaN   \n",
       "top             NaN         NaN  male         NaN         NaN         NaN   \n",
       "freq            NaN         NaN   266         NaN         NaN         NaN   \n",
       "mean    1100.500000    2.265550   NaN   30.272590    0.447368    0.392344   \n",
       "std      120.810458    0.841838   NaN   14.181209    0.896760    0.981429   \n",
       "min      892.000000    1.000000   NaN    0.170000    0.000000    0.000000   \n",
       "25%      996.250000    1.000000   NaN   21.000000    0.000000    0.000000   \n",
       "50%     1100.500000    3.000000   NaN   27.000000    0.000000    0.000000   \n",
       "75%     1204.750000    3.000000   NaN   39.000000    1.000000    0.000000   \n",
       "max     1309.000000    3.000000   NaN   76.000000    8.000000    9.000000   \n",
       "\n",
       "              Fare Embarked  \n",
       "count   417.000000      418  \n",
       "unique         NaN        3  \n",
       "top            NaN        S  \n",
       "freq           NaN      270  \n",
       "mean     35.627188      NaN  \n",
       "std      55.907576      NaN  \n",
       "min       0.000000      NaN  \n",
       "25%       7.895800      NaN  \n",
       "50%      14.454200      NaN  \n",
       "75%      31.500000      NaN  \n",
       "max     512.329200      NaN  "
      ]
     },
     "execution_count": 22,
     "metadata": {},
     "output_type": "execute_result"
    }
   ],
   "source": [
    "test.describe(include='all')"
   ]
  },
  {
   "cell_type": "markdown",
   "metadata": {
    "papermill": {
     "duration": 0.077222,
     "end_time": "2020-10-18T10:06:34.524049",
     "exception": false,
     "start_time": "2020-10-18T10:06:34.446827",
     "status": "completed"
    },
    "tags": []
   },
   "source": [
    "***\n",
    "For the test data we have to fill the missings for Age and one single value for Fare. Rest of them look fine. We have only to change the alphanumerical values in Sex and Embarked"
   ]
  },
  {
   "cell_type": "code",
   "execution_count": 23,
   "metadata": {
    "execution": {
     "iopub.execute_input": "2020-10-18T10:06:34.654313Z",
     "iopub.status.busy": "2020-10-18T10:06:34.653363Z",
     "iopub.status.idle": "2020-10-18T10:06:34.657017Z",
     "shell.execute_reply": "2020-10-18T10:06:34.656359Z"
    },
    "papermill": {
     "duration": 0.069985,
     "end_time": "2020-10-18T10:06:34.657155",
     "exception": false,
     "start_time": "2020-10-18T10:06:34.587170",
     "status": "completed"
    },
    "tags": []
   },
   "outputs": [],
   "source": [
    "age_median=test['Age'].median()\n",
    "test['Age'].fillna(value= age_median, inplace=True)"
   ]
  },
  {
   "cell_type": "code",
   "execution_count": 24,
   "metadata": {
    "execution": {
     "iopub.execute_input": "2020-10-18T10:06:34.804755Z",
     "iopub.status.busy": "2020-10-18T10:06:34.792041Z",
     "iopub.status.idle": "2020-10-18T10:06:34.810217Z",
     "shell.execute_reply": "2020-10-18T10:06:34.809605Z"
    },
    "papermill": {
     "duration": 0.091484,
     "end_time": "2020-10-18T10:06:34.810351",
     "exception": false,
     "start_time": "2020-10-18T10:06:34.718867",
     "status": "completed"
    },
    "tags": []
   },
   "outputs": [
    {
     "data": {
      "text/html": [
       "<div>\n",
       "<style scoped>\n",
       "    .dataframe tbody tr th:only-of-type {\n",
       "        vertical-align: middle;\n",
       "    }\n",
       "\n",
       "    .dataframe tbody tr th {\n",
       "        vertical-align: top;\n",
       "    }\n",
       "\n",
       "    .dataframe thead th {\n",
       "        text-align: right;\n",
       "    }\n",
       "</style>\n",
       "<table border=\"1\" class=\"dataframe\">\n",
       "  <thead>\n",
       "    <tr style=\"text-align: right;\">\n",
       "      <th></th>\n",
       "      <th>PassengerId</th>\n",
       "      <th>Pclass</th>\n",
       "      <th>Sex</th>\n",
       "      <th>Age</th>\n",
       "      <th>SibSp</th>\n",
       "      <th>Parch</th>\n",
       "      <th>Fare</th>\n",
       "      <th>Embarked</th>\n",
       "      <th>AgeGroup</th>\n",
       "    </tr>\n",
       "  </thead>\n",
       "  <tbody>\n",
       "    <tr>\n",
       "      <th>0</th>\n",
       "      <td>892</td>\n",
       "      <td>3</td>\n",
       "      <td>male</td>\n",
       "      <td>34.5</td>\n",
       "      <td>0</td>\n",
       "      <td>0</td>\n",
       "      <td>7.8292</td>\n",
       "      <td>Q</td>\n",
       "      <td>4</td>\n",
       "    </tr>\n",
       "    <tr>\n",
       "      <th>1</th>\n",
       "      <td>893</td>\n",
       "      <td>3</td>\n",
       "      <td>female</td>\n",
       "      <td>47.0</td>\n",
       "      <td>1</td>\n",
       "      <td>0</td>\n",
       "      <td>7.0000</td>\n",
       "      <td>S</td>\n",
       "      <td>4</td>\n",
       "    </tr>\n",
       "    <tr>\n",
       "      <th>2</th>\n",
       "      <td>894</td>\n",
       "      <td>2</td>\n",
       "      <td>male</td>\n",
       "      <td>62.0</td>\n",
       "      <td>0</td>\n",
       "      <td>0</td>\n",
       "      <td>9.6875</td>\n",
       "      <td>Q</td>\n",
       "      <td>5</td>\n",
       "    </tr>\n",
       "    <tr>\n",
       "      <th>3</th>\n",
       "      <td>895</td>\n",
       "      <td>3</td>\n",
       "      <td>male</td>\n",
       "      <td>27.0</td>\n",
       "      <td>0</td>\n",
       "      <td>0</td>\n",
       "      <td>8.6625</td>\n",
       "      <td>S</td>\n",
       "      <td>4</td>\n",
       "    </tr>\n",
       "    <tr>\n",
       "      <th>4</th>\n",
       "      <td>896</td>\n",
       "      <td>3</td>\n",
       "      <td>female</td>\n",
       "      <td>22.0</td>\n",
       "      <td>1</td>\n",
       "      <td>1</td>\n",
       "      <td>12.2875</td>\n",
       "      <td>S</td>\n",
       "      <td>4</td>\n",
       "    </tr>\n",
       "  </tbody>\n",
       "</table>\n",
       "</div>"
      ],
      "text/plain": [
       "   PassengerId  Pclass     Sex   Age  SibSp  Parch     Fare Embarked  AgeGroup\n",
       "0          892       3    male  34.5      0      0   7.8292        Q         4\n",
       "1          893       3  female  47.0      1      0   7.0000        S         4\n",
       "2          894       2    male  62.0      0      0   9.6875        Q         5\n",
       "3          895       3    male  27.0      0      0   8.6625        S         4\n",
       "4          896       3  female  22.0      1      1  12.2875        S         4"
      ]
     },
     "execution_count": 24,
     "metadata": {},
     "output_type": "execute_result"
    }
   ],
   "source": [
    "groups = [test['Age'].between(0, 3), \n",
    "          test['Age'].between(4, 9), \n",
    "          test['Age'].between(10, 18),\n",
    "          test['Age'].between(19, 59),\n",
    "          test['Age'].between(60, 76)]\n",
    " \n",
    "\n",
    "values = [1, 2, 3, 4, 5]\n",
    "\n",
    "test['AgeGroup'] = np.select(groups, values, 0)\n",
    "\n",
    "# check\n",
    "test.head()"
   ]
  },
  {
   "cell_type": "code",
   "execution_count": 25,
   "metadata": {
    "execution": {
     "iopub.execute_input": "2020-10-18T10:06:34.941336Z",
     "iopub.status.busy": "2020-10-18T10:06:34.940264Z",
     "iopub.status.idle": "2020-10-18T10:06:34.944032Z",
     "shell.execute_reply": "2020-10-18T10:06:34.943289Z"
    },
    "papermill": {
     "duration": 0.072269,
     "end_time": "2020-10-18T10:06:34.944156",
     "exception": false,
     "start_time": "2020-10-18T10:06:34.871887",
     "status": "completed"
    },
    "tags": []
   },
   "outputs": [],
   "source": [
    "test=test.drop(['Age'], axis=1)"
   ]
  },
  {
   "cell_type": "code",
   "execution_count": 26,
   "metadata": {
    "execution": {
     "iopub.execute_input": "2020-10-18T10:06:35.082844Z",
     "iopub.status.busy": "2020-10-18T10:06:35.082066Z",
     "iopub.status.idle": "2020-10-18T10:06:35.085409Z",
     "shell.execute_reply": "2020-10-18T10:06:35.084820Z"
    },
    "papermill": {
     "duration": 0.077514,
     "end_time": "2020-10-18T10:06:35.085547",
     "exception": false,
     "start_time": "2020-10-18T10:06:35.008033",
     "status": "completed"
    },
    "tags": []
   },
   "outputs": [],
   "source": [
    "fare_median=test['Fare'].median()\n",
    "test['Fare'].fillna(value= fare_median, inplace=True)"
   ]
  },
  {
   "cell_type": "code",
   "execution_count": 27,
   "metadata": {
    "execution": {
     "iopub.execute_input": "2020-10-18T10:06:35.228865Z",
     "iopub.status.busy": "2020-10-18T10:06:35.227973Z",
     "iopub.status.idle": "2020-10-18T10:06:35.232723Z",
     "shell.execute_reply": "2020-10-18T10:06:35.233281Z"
    },
    "papermill": {
     "duration": 0.084575,
     "end_time": "2020-10-18T10:06:35.233451",
     "exception": false,
     "start_time": "2020-10-18T10:06:35.148876",
     "status": "completed"
    },
    "tags": []
   },
   "outputs": [
    {
     "data": {
      "text/html": [
       "<div>\n",
       "<style scoped>\n",
       "    .dataframe tbody tr th:only-of-type {\n",
       "        vertical-align: middle;\n",
       "    }\n",
       "\n",
       "    .dataframe tbody tr th {\n",
       "        vertical-align: top;\n",
       "    }\n",
       "\n",
       "    .dataframe thead th {\n",
       "        text-align: right;\n",
       "    }\n",
       "</style>\n",
       "<table border=\"1\" class=\"dataframe\">\n",
       "  <thead>\n",
       "    <tr style=\"text-align: right;\">\n",
       "      <th></th>\n",
       "      <th>PassengerId</th>\n",
       "      <th>Pclass</th>\n",
       "      <th>Sex</th>\n",
       "      <th>SibSp</th>\n",
       "      <th>Parch</th>\n",
       "      <th>Fare</th>\n",
       "      <th>Embarked</th>\n",
       "      <th>AgeGroup</th>\n",
       "    </tr>\n",
       "  </thead>\n",
       "  <tbody>\n",
       "    <tr>\n",
       "      <th>0</th>\n",
       "      <td>892</td>\n",
       "      <td>3</td>\n",
       "      <td>1</td>\n",
       "      <td>0</td>\n",
       "      <td>0</td>\n",
       "      <td>7.8292</td>\n",
       "      <td>Q</td>\n",
       "      <td>4</td>\n",
       "    </tr>\n",
       "    <tr>\n",
       "      <th>1</th>\n",
       "      <td>893</td>\n",
       "      <td>3</td>\n",
       "      <td>0</td>\n",
       "      <td>1</td>\n",
       "      <td>0</td>\n",
       "      <td>7.0000</td>\n",
       "      <td>S</td>\n",
       "      <td>4</td>\n",
       "    </tr>\n",
       "    <tr>\n",
       "      <th>2</th>\n",
       "      <td>894</td>\n",
       "      <td>2</td>\n",
       "      <td>1</td>\n",
       "      <td>0</td>\n",
       "      <td>0</td>\n",
       "      <td>9.6875</td>\n",
       "      <td>Q</td>\n",
       "      <td>5</td>\n",
       "    </tr>\n",
       "    <tr>\n",
       "      <th>3</th>\n",
       "      <td>895</td>\n",
       "      <td>3</td>\n",
       "      <td>1</td>\n",
       "      <td>0</td>\n",
       "      <td>0</td>\n",
       "      <td>8.6625</td>\n",
       "      <td>S</td>\n",
       "      <td>4</td>\n",
       "    </tr>\n",
       "    <tr>\n",
       "      <th>4</th>\n",
       "      <td>896</td>\n",
       "      <td>3</td>\n",
       "      <td>0</td>\n",
       "      <td>1</td>\n",
       "      <td>1</td>\n",
       "      <td>12.2875</td>\n",
       "      <td>S</td>\n",
       "      <td>4</td>\n",
       "    </tr>\n",
       "  </tbody>\n",
       "</table>\n",
       "</div>"
      ],
      "text/plain": [
       "   PassengerId  Pclass  Sex  SibSp  Parch     Fare Embarked  AgeGroup\n",
       "0          892       3    1      0      0   7.8292        Q         4\n",
       "1          893       3    0      1      0   7.0000        S         4\n",
       "2          894       2    1      0      0   9.6875        Q         5\n",
       "3          895       3    1      0      0   8.6625        S         4\n",
       "4          896       3    0      1      1  12.2875        S         4"
      ]
     },
     "execution_count": 27,
     "metadata": {},
     "output_type": "execute_result"
    }
   ],
   "source": [
    "# converting the values from sex variable into 1 an 0\n",
    "d = {'male': 1, 'female': 0}\n",
    "test['Sex'] = test['Sex'].map(d)\n",
    "\n",
    "#check\n",
    "test.head()"
   ]
  },
  {
   "cell_type": "code",
   "execution_count": 28,
   "metadata": {
    "execution": {
     "iopub.execute_input": "2020-10-18T10:06:35.366938Z",
     "iopub.status.busy": "2020-10-18T10:06:35.365900Z",
     "iopub.status.idle": "2020-10-18T10:06:35.369230Z",
     "shell.execute_reply": "2020-10-18T10:06:35.368598Z"
    },
    "papermill": {
     "duration": 0.073963,
     "end_time": "2020-10-18T10:06:35.369348",
     "exception": false,
     "start_time": "2020-10-18T10:06:35.295385",
     "status": "completed"
    },
    "tags": []
   },
   "outputs": [],
   "source": [
    "d={'Q':1, 'C':2, 'S':3}\n",
    "test['Embarked']= test['Embarked'].map(d)"
   ]
  },
  {
   "cell_type": "code",
   "execution_count": 29,
   "metadata": {
    "execution": {
     "iopub.execute_input": "2020-10-18T10:06:35.560097Z",
     "iopub.status.busy": "2020-10-18T10:06:35.558973Z",
     "iopub.status.idle": "2020-10-18T10:06:35.564104Z",
     "shell.execute_reply": "2020-10-18T10:06:35.563278Z"
    },
    "papermill": {
     "duration": 0.081873,
     "end_time": "2020-10-18T10:06:35.564239",
     "exception": false,
     "start_time": "2020-10-18T10:06:35.482366",
     "status": "completed"
    },
    "tags": []
   },
   "outputs": [
    {
     "data": {
      "text/html": [
       "<div>\n",
       "<style scoped>\n",
       "    .dataframe tbody tr th:only-of-type {\n",
       "        vertical-align: middle;\n",
       "    }\n",
       "\n",
       "    .dataframe tbody tr th {\n",
       "        vertical-align: top;\n",
       "    }\n",
       "\n",
       "    .dataframe thead th {\n",
       "        text-align: right;\n",
       "    }\n",
       "</style>\n",
       "<table border=\"1\" class=\"dataframe\">\n",
       "  <thead>\n",
       "    <tr style=\"text-align: right;\">\n",
       "      <th></th>\n",
       "      <th>PassengerId</th>\n",
       "      <th>Pclass</th>\n",
       "      <th>Sex</th>\n",
       "      <th>SibSp</th>\n",
       "      <th>Parch</th>\n",
       "      <th>Fare</th>\n",
       "      <th>Embarked</th>\n",
       "      <th>AgeGroup</th>\n",
       "    </tr>\n",
       "  </thead>\n",
       "  <tbody>\n",
       "    <tr>\n",
       "      <th>0</th>\n",
       "      <td>892</td>\n",
       "      <td>3</td>\n",
       "      <td>1</td>\n",
       "      <td>0</td>\n",
       "      <td>0</td>\n",
       "      <td>7.8292</td>\n",
       "      <td>1</td>\n",
       "      <td>4</td>\n",
       "    </tr>\n",
       "    <tr>\n",
       "      <th>1</th>\n",
       "      <td>893</td>\n",
       "      <td>3</td>\n",
       "      <td>0</td>\n",
       "      <td>1</td>\n",
       "      <td>0</td>\n",
       "      <td>7.0000</td>\n",
       "      <td>3</td>\n",
       "      <td>4</td>\n",
       "    </tr>\n",
       "    <tr>\n",
       "      <th>2</th>\n",
       "      <td>894</td>\n",
       "      <td>2</td>\n",
       "      <td>1</td>\n",
       "      <td>0</td>\n",
       "      <td>0</td>\n",
       "      <td>9.6875</td>\n",
       "      <td>1</td>\n",
       "      <td>5</td>\n",
       "    </tr>\n",
       "    <tr>\n",
       "      <th>3</th>\n",
       "      <td>895</td>\n",
       "      <td>3</td>\n",
       "      <td>1</td>\n",
       "      <td>0</td>\n",
       "      <td>0</td>\n",
       "      <td>8.6625</td>\n",
       "      <td>3</td>\n",
       "      <td>4</td>\n",
       "    </tr>\n",
       "    <tr>\n",
       "      <th>4</th>\n",
       "      <td>896</td>\n",
       "      <td>3</td>\n",
       "      <td>0</td>\n",
       "      <td>1</td>\n",
       "      <td>1</td>\n",
       "      <td>12.2875</td>\n",
       "      <td>3</td>\n",
       "      <td>4</td>\n",
       "    </tr>\n",
       "  </tbody>\n",
       "</table>\n",
       "</div>"
      ],
      "text/plain": [
       "   PassengerId  Pclass  Sex  SibSp  Parch     Fare  Embarked  AgeGroup\n",
       "0          892       3    1      0      0   7.8292         1         4\n",
       "1          893       3    0      1      0   7.0000         3         4\n",
       "2          894       2    1      0      0   9.6875         1         5\n",
       "3          895       3    1      0      0   8.6625         3         4\n",
       "4          896       3    0      1      1  12.2875         3         4"
      ]
     },
     "execution_count": 29,
     "metadata": {},
     "output_type": "execute_result"
    }
   ],
   "source": [
    "#Check\n",
    "test.head()"
   ]
  },
  {
   "cell_type": "markdown",
   "metadata": {
    "papermill": {
     "duration": 0.064375,
     "end_time": "2020-10-18T10:06:35.696901",
     "exception": false,
     "start_time": "2020-10-18T10:06:35.632526",
     "status": "completed"
    },
    "tags": []
   },
   "source": [
    "# 6. Which model is the best"
   ]
  },
  {
   "cell_type": "markdown",
   "metadata": {
    "papermill": {
     "duration": 0.062594,
     "end_time": "2020-10-18T10:06:35.822690",
     "exception": false,
     "start_time": "2020-10-18T10:06:35.760096",
     "status": "completed"
    },
    "tags": []
   },
   "source": [
    "### Testing Different Models\n",
    "\n",
    "- Gaussian Naive Bayes\n",
    "- Logistic Regression\n",
    "- Support Vector Machines\n",
    "- Decision Tree Classifier\n",
    "- Random Forest Classifier\n",
    "- Gradient Boosting Classifier"
   ]
  },
  {
   "cell_type": "code",
   "execution_count": 30,
   "metadata": {
    "execution": {
     "iopub.execute_input": "2020-10-18T10:06:35.969609Z",
     "iopub.status.busy": "2020-10-18T10:06:35.968507Z",
     "iopub.status.idle": "2020-10-18T10:06:35.985227Z",
     "shell.execute_reply": "2020-10-18T10:06:35.984335Z"
    },
    "papermill": {
     "duration": 0.09237,
     "end_time": "2020-10-18T10:06:35.985381",
     "exception": false,
     "start_time": "2020-10-18T10:06:35.893011",
     "status": "completed"
    },
    "tags": []
   },
   "outputs": [
    {
     "name": "stdout",
     "output_type": "stream",
     "text": [
      "80.2\n"
     ]
    }
   ],
   "source": [
    "# Gaussian Naive Bayes\n",
    "from sklearn.naive_bayes import GaussianNB\n",
    "from sklearn.metrics import accuracy_score\n",
    "\n",
    "gaussian = GaussianNB()\n",
    "gaussian.fit(x_train, y_train)\n",
    "y_pred = gaussian.predict(x_val)\n",
    "acc_gaussian = round(accuracy_score(y_pred, y_val) * 100, 2)\n",
    "print(acc_gaussian)"
   ]
  },
  {
   "cell_type": "code",
   "execution_count": 31,
   "metadata": {
    "execution": {
     "iopub.execute_input": "2020-10-18T10:06:36.125451Z",
     "iopub.status.busy": "2020-10-18T10:06:36.124694Z",
     "iopub.status.idle": "2020-10-18T10:06:36.287011Z",
     "shell.execute_reply": "2020-10-18T10:06:36.287658Z"
    },
    "papermill": {
     "duration": 0.233893,
     "end_time": "2020-10-18T10:06:36.287824",
     "exception": false,
     "start_time": "2020-10-18T10:06:36.053931",
     "status": "completed"
    },
    "tags": []
   },
   "outputs": [
    {
     "name": "stdout",
     "output_type": "stream",
     "text": [
      "82.23\n"
     ]
    },
    {
     "name": "stderr",
     "output_type": "stream",
     "text": [
      "/opt/conda/lib/python3.7/site-packages/sklearn/linear_model/_logistic.py:764: ConvergenceWarning: lbfgs failed to converge (status=1):\n",
      "STOP: TOTAL NO. of ITERATIONS REACHED LIMIT.\n",
      "\n",
      "Increase the number of iterations (max_iter) or scale the data as shown in:\n",
      "    https://scikit-learn.org/stable/modules/preprocessing.html\n",
      "Please also refer to the documentation for alternative solver options:\n",
      "    https://scikit-learn.org/stable/modules/linear_model.html#logistic-regression\n",
      "  extra_warning_msg=_LOGISTIC_SOLVER_CONVERGENCE_MSG)\n"
     ]
    }
   ],
   "source": [
    "# Logistic Regression\n",
    "from sklearn.linear_model import LogisticRegression\n",
    "\n",
    "logreg = LogisticRegression()\n",
    "logreg.fit(x_train, y_train)\n",
    "y_pred = logreg.predict(x_val)\n",
    "acc_logreg = round(accuracy_score(y_pred, y_val) * 100, 2)\n",
    "print(acc_logreg)"
   ]
  },
  {
   "cell_type": "code",
   "execution_count": 32,
   "metadata": {
    "execution": {
     "iopub.execute_input": "2020-10-18T10:06:36.454299Z",
     "iopub.status.busy": "2020-10-18T10:06:36.453254Z",
     "iopub.status.idle": "2020-10-18T10:06:36.483587Z",
     "shell.execute_reply": "2020-10-18T10:06:36.482918Z"
    },
    "papermill": {
     "duration": 0.11372,
     "end_time": "2020-10-18T10:06:36.483713",
     "exception": false,
     "start_time": "2020-10-18T10:06:36.369993",
     "status": "completed"
    },
    "tags": []
   },
   "outputs": [
    {
     "name": "stdout",
     "output_type": "stream",
     "text": [
      "72.59\n"
     ]
    }
   ],
   "source": [
    "# Support Vector Machines\n",
    "from sklearn.svm import SVC\n",
    "\n",
    "svc = SVC()\n",
    "svc.fit(x_train, y_train)\n",
    "y_pred = svc.predict(x_val)\n",
    "acc_svc = round(accuracy_score(y_pred, y_val) * 100, 2)\n",
    "print(acc_svc)"
   ]
  },
  {
   "cell_type": "code",
   "execution_count": 33,
   "metadata": {
    "execution": {
     "iopub.execute_input": "2020-10-18T10:06:36.621701Z",
     "iopub.status.busy": "2020-10-18T10:06:36.620866Z",
     "iopub.status.idle": "2020-10-18T10:06:36.746139Z",
     "shell.execute_reply": "2020-10-18T10:06:36.745297Z"
    },
    "papermill": {
     "duration": 0.196801,
     "end_time": "2020-10-18T10:06:36.746268",
     "exception": false,
     "start_time": "2020-10-18T10:06:36.549467",
     "status": "completed"
    },
    "tags": []
   },
   "outputs": [
    {
     "name": "stdout",
     "output_type": "stream",
     "text": [
      "86.29\n"
     ]
    }
   ],
   "source": [
    "#Decision Tree\n",
    "from sklearn.tree import DecisionTreeClassifier\n",
    "\n",
    "decisiontree = DecisionTreeClassifier()\n",
    "decisiontree.fit(x_train, y_train)\n",
    "y_pred = decisiontree.predict(x_val)\n",
    "acc_decisiontree = round(accuracy_score(y_pred, y_val) * 100, 2)\n",
    "print(acc_decisiontree)"
   ]
  },
  {
   "cell_type": "code",
   "execution_count": 34,
   "metadata": {
    "execution": {
     "iopub.execute_input": "2020-10-18T10:06:36.886239Z",
     "iopub.status.busy": "2020-10-18T10:06:36.885424Z",
     "iopub.status.idle": "2020-10-18T10:06:37.194062Z",
     "shell.execute_reply": "2020-10-18T10:06:37.193391Z"
    },
    "papermill": {
     "duration": 0.380741,
     "end_time": "2020-10-18T10:06:37.194202",
     "exception": false,
     "start_time": "2020-10-18T10:06:36.813461",
     "status": "completed"
    },
    "tags": []
   },
   "outputs": [
    {
     "name": "stdout",
     "output_type": "stream",
     "text": [
      "85.79\n"
     ]
    }
   ],
   "source": [
    "# Random Forest\n",
    "from sklearn.ensemble import RandomForestClassifier\n",
    "\n",
    "randomforest = RandomForestClassifier()\n",
    "randomforest.fit(x_train, y_train)\n",
    "y_pred = randomforest.predict(x_val)\n",
    "acc_randomforest = round(accuracy_score(y_pred, y_val) * 100, 2)\n",
    "print(acc_randomforest)"
   ]
  },
  {
   "cell_type": "code",
   "execution_count": 35,
   "metadata": {
    "execution": {
     "iopub.execute_input": "2020-10-18T10:06:37.338437Z",
     "iopub.status.busy": "2020-10-18T10:06:37.337189Z",
     "iopub.status.idle": "2020-10-18T10:06:37.455969Z",
     "shell.execute_reply": "2020-10-18T10:06:37.454984Z"
    },
    "papermill": {
     "duration": 0.19522,
     "end_time": "2020-10-18T10:06:37.456140",
     "exception": false,
     "start_time": "2020-10-18T10:06:37.260920",
     "status": "completed"
    },
    "tags": []
   },
   "outputs": [
    {
     "name": "stdout",
     "output_type": "stream",
     "text": [
      "83.76\n"
     ]
    }
   ],
   "source": [
    "# Gradient Boosting Classifier\n",
    "from sklearn.ensemble import GradientBoostingClassifier\n",
    "\n",
    "gbk = GradientBoostingClassifier()\n",
    "gbk.fit(x_train, y_train)\n",
    "y_pred = gbk.predict(x_val)\n",
    "acc_gbk = round(accuracy_score(y_pred, y_val) * 100, 2)\n",
    "print(acc_gbk)"
   ]
  },
  {
   "cell_type": "code",
   "execution_count": 36,
   "metadata": {
    "execution": {
     "iopub.execute_input": "2020-10-18T10:06:37.605991Z",
     "iopub.status.busy": "2020-10-18T10:06:37.605185Z",
     "iopub.status.idle": "2020-10-18T10:06:37.610617Z",
     "shell.execute_reply": "2020-10-18T10:06:37.609806Z"
    },
    "papermill": {
     "duration": 0.086778,
     "end_time": "2020-10-18T10:06:37.610754",
     "exception": false,
     "start_time": "2020-10-18T10:06:37.523976",
     "status": "completed"
    },
    "tags": []
   },
   "outputs": [
    {
     "data": {
      "text/html": [
       "<div>\n",
       "<style scoped>\n",
       "    .dataframe tbody tr th:only-of-type {\n",
       "        vertical-align: middle;\n",
       "    }\n",
       "\n",
       "    .dataframe tbody tr th {\n",
       "        vertical-align: top;\n",
       "    }\n",
       "\n",
       "    .dataframe thead th {\n",
       "        text-align: right;\n",
       "    }\n",
       "</style>\n",
       "<table border=\"1\" class=\"dataframe\">\n",
       "  <thead>\n",
       "    <tr style=\"text-align: right;\">\n",
       "      <th></th>\n",
       "      <th>Model</th>\n",
       "      <th>Score</th>\n",
       "    </tr>\n",
       "  </thead>\n",
       "  <tbody>\n",
       "    <tr>\n",
       "      <th>4</th>\n",
       "      <td>Decision Tree</td>\n",
       "      <td>86.29</td>\n",
       "    </tr>\n",
       "    <tr>\n",
       "      <th>2</th>\n",
       "      <td>Random Forest</td>\n",
       "      <td>85.79</td>\n",
       "    </tr>\n",
       "    <tr>\n",
       "      <th>5</th>\n",
       "      <td>Gradient Boosting Classifier</td>\n",
       "      <td>83.76</td>\n",
       "    </tr>\n",
       "    <tr>\n",
       "      <th>1</th>\n",
       "      <td>Logistic Regression</td>\n",
       "      <td>82.23</td>\n",
       "    </tr>\n",
       "    <tr>\n",
       "      <th>3</th>\n",
       "      <td>Naive Bayes</td>\n",
       "      <td>80.20</td>\n",
       "    </tr>\n",
       "    <tr>\n",
       "      <th>0</th>\n",
       "      <td>Support Vector Machines</td>\n",
       "      <td>72.59</td>\n",
       "    </tr>\n",
       "  </tbody>\n",
       "</table>\n",
       "</div>"
      ],
      "text/plain": [
       "                          Model  Score\n",
       "4                 Decision Tree  86.29\n",
       "2                 Random Forest  85.79\n",
       "5  Gradient Boosting Classifier  83.76\n",
       "1           Logistic Regression  82.23\n",
       "3                   Naive Bayes  80.20\n",
       "0       Support Vector Machines  72.59"
      ]
     },
     "execution_count": 36,
     "metadata": {},
     "output_type": "execute_result"
    }
   ],
   "source": [
    "models = pd.DataFrame({\n",
    "    'Model': ['Support Vector Machines', 'Logistic Regression', \n",
    "              'Random Forest', 'Naive Bayes',  \n",
    "              'Decision Tree',  'Gradient Boosting Classifier'],\n",
    "    'Score': [acc_svc,  acc_logreg, \n",
    "              acc_randomforest, acc_gaussian,  acc_decisiontree,\n",
    "               acc_gbk]})\n",
    "models.sort_values(by='Score', ascending=False)"
   ]
  },
  {
   "cell_type": "markdown",
   "metadata": {
    "papermill": {
     "duration": 0.067364,
     "end_time": "2020-10-18T10:06:37.753308",
     "exception": false,
     "start_time": "2020-10-18T10:06:37.685944",
     "status": "completed"
    },
    "tags": []
   },
   "source": [
    " **Obviously the model decision tree has the best scoring and we go with that model further**\n",
    "***"
   ]
  },
  {
   "cell_type": "markdown",
   "metadata": {
    "papermill": {
     "duration": 0.067037,
     "end_time": "2020-10-18T10:06:37.887680",
     "exception": false,
     "start_time": "2020-10-18T10:06:37.820643",
     "status": "completed"
    },
    "tags": []
   },
   "source": [
    "# 7. Saving predections of the best model"
   ]
  },
  {
   "cell_type": "code",
   "execution_count": 37,
   "metadata": {
    "execution": {
     "iopub.execute_input": "2020-10-18T10:06:38.038021Z",
     "iopub.status.busy": "2020-10-18T10:06:38.037202Z",
     "iopub.status.idle": "2020-10-18T10:06:38.041468Z",
     "shell.execute_reply": "2020-10-18T10:06:38.040754Z"
    },
    "papermill": {
     "duration": 0.084321,
     "end_time": "2020-10-18T10:06:38.041628",
     "exception": false,
     "start_time": "2020-10-18T10:06:37.957307",
     "status": "completed"
    },
    "tags": []
   },
   "outputs": [],
   "source": [
    "#set ids as PassengerId and predict survival \n",
    "ids = test['PassengerId']\n",
    "predictions = decisiontree.predict(test.drop('PassengerId', axis=1))"
   ]
  },
  {
   "cell_type": "code",
   "execution_count": 38,
   "metadata": {
    "execution": {
     "iopub.execute_input": "2020-10-18T10:06:38.187209Z",
     "iopub.status.busy": "2020-10-18T10:06:38.186422Z",
     "iopub.status.idle": "2020-10-18T10:06:38.250403Z",
     "shell.execute_reply": "2020-10-18T10:06:38.249629Z"
    },
    "papermill": {
     "duration": 0.139982,
     "end_time": "2020-10-18T10:06:38.250563",
     "exception": false,
     "start_time": "2020-10-18T10:06:38.110581",
     "status": "completed"
    },
    "tags": []
   },
   "outputs": [],
   "source": [
    "#set the output as a dataframe and convert to csv file named submission.csv\n",
    "output = pd.DataFrame({ 'PassengerId' : ids, 'Survived': predictions })\n",
    "output.to_csv('submission.csv', index=False)"
   ]
  },
  {
   "cell_type": "code",
   "execution_count": 39,
   "metadata": {
    "execution": {
     "iopub.execute_input": "2020-10-18T10:06:38.403801Z",
     "iopub.status.busy": "2020-10-18T10:06:38.402792Z",
     "iopub.status.idle": "2020-10-18T10:06:38.407859Z",
     "shell.execute_reply": "2020-10-18T10:06:38.406919Z"
    },
    "papermill": {
     "duration": 0.088622,
     "end_time": "2020-10-18T10:06:38.408048",
     "exception": false,
     "start_time": "2020-10-18T10:06:38.319426",
     "status": "completed"
    },
    "tags": []
   },
   "outputs": [
    {
     "name": "stdout",
     "output_type": "stream",
     "text": [
      "[0 1 0 0 1 0 0 0 1 0 0 0 1 0 1 1 0 0 0 1 1 1 1 0 1 0 1 0 1 0 0 0 0 0 1 1 0\n",
      " 0 0 1 1 1 0 1 1 0 0 0 1 1 0 0 1 1 0 0 0 0 0 1 0 0 0 1 1 1 1 0 0 1 1 0 1 0\n",
      " 1 0 0 1 0 1 1 0 0 0 0 0 1 0 1 1 0 0 1 0 0 0 1 0 0 0 1 0 0 0 1 0 0 0 0 1 0\n",
      " 1 1 0 1 0 0 1 0 1 1 0 1 0 0 1 0 1 0 0 0 0 0 0 0 0 0 0 0 0 0 0 0 0 1 0 0 0\n",
      " 1 0 1 0 0 1 0 0 1 0 1 1 1 1 1 0 0 1 0 0 1 1 0 0 0 0 0 1 1 1 1 1 0 1 1 0 1\n",
      " 0 1 0 0 0 0 0 0 0 1 0 1 0 0 0 1 1 1 1 0 0 1 0 1 0 0 0 0 1 1 0 1 1 1 0 1 0\n",
      " 1 0 1 0 0 1 0 0 0 1 0 0 1 0 0 0 1 1 1 1 1 0 0 0 1 0 1 0 1 0 1 0 0 0 0 0 1\n",
      " 0 0 0 1 1 0 0 0 0 0 0 0 0 1 1 0 1 0 0 0 0 0 1 1 0 1 0 0 0 0 0 0 0 0 1 0 0\n",
      " 1 0 0 0 0 0 0 0 1 1 1 1 1 0 0 0 0 1 1 1 1 0 0 0 0 0 0 1 1 0 1 0 0 0 1 0 0\n",
      " 1 0 0 0 0 0 0 0 0 0 1 0 1 0 1 0 1 1 0 0 0 1 0 1 0 0 1 0 1 1 0 1 0 0 1 1 1\n",
      " 0 1 0 0 1 1 0 0 0 0 0 0 0 1 0 1 0 0 0 0 0 1 0 0 0 1 0 1 0 0 1 0 1 1 1 1 0\n",
      " 1 1 1 1 1 0 0 1 0 0 0] 418\n"
     ]
    }
   ],
   "source": [
    "#Check\n",
    "print(predictions, predictions.size)"
   ]
  },
  {
   "cell_type": "markdown",
   "metadata": {
    "papermill": {
     "duration": 0.07989,
     "end_time": "2020-10-18T10:06:38.564104",
     "exception": false,
     "start_time": "2020-10-18T10:06:38.484214",
     "status": "completed"
    },
    "tags": []
   },
   "source": [
    "# End of Notebook"
   ]
  }
 ],
 "metadata": {
  "kernelspec": {
   "display_name": "Python 3",
   "language": "python",
   "name": "python3"
  },
  "language_info": {
   "codemirror_mode": {
    "name": "ipython",
    "version": 3
   },
   "file_extension": ".py",
   "mimetype": "text/x-python",
   "name": "python",
   "nbconvert_exporter": "python",
   "pygments_lexer": "ipython3",
   "version": "3.7.6"
  },
  "papermill": {
   "duration": 26.462306,
   "end_time": "2020-10-18T10:06:38.740531",
   "environment_variables": {},
   "exception": null,
   "input_path": "__notebook__.ipynb",
   "output_path": "__notebook__.ipynb",
   "parameters": {},
   "start_time": "2020-10-18T10:06:12.278225",
   "version": "2.1.0"
  }
 },
 "nbformat": 4,
 "nbformat_minor": 4
}
