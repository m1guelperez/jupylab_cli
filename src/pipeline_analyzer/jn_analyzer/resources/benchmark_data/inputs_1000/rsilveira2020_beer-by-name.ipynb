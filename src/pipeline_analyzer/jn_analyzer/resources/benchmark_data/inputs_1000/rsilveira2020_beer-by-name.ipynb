{
 "cells": [
  {
   "cell_type": "markdown",
   "metadata": {
    "_cell_guid": "8d6b897c-fbf7-171a-3cf3-0636baa8b206"
   },
   "source": [
    "# An exploration of beer names\n",
    "\n",
    "1. Look for longest and shortest beer names\n",
    "2. Brewery names by wordcount/letter\n",
    "3. Non ASCII chars in names\n",
    "4. Find the Umlauts!\n",
    "4. How many single word breweries? \n",
    "5. Some interesting correlations?\n",
    "\n",
    "\n",
    "\n",
    "\n",
    "\n"
   ]
  },
  {
   "cell_type": "code",
   "execution_count": 1,
   "metadata": {
    "_cell_guid": "c509d6d0-e90e-1450-d196-dfefd45fe7fc"
   },
   "outputs": [],
   "source": [
    "\"\"\" loading libraries\"\"\"\n",
    "from IPython.display import display, HTML\n",
    "\n",
    "from datetime import datetime\n",
    "from csv import DictReader, reader\n",
    "import sys\n",
    "import csv\n",
    "from collections import defaultdict\n",
    "%matplotlib inline\n",
    "import csv\n",
    "import pandas as pd    #pip install pandas\n",
    "import matplotlib.pyplot as plt\n",
    "import numpy as np\n",
    "import re\n",
    "\n",
    "pd_beer= pd.read_csv('../input/beers.csv')\n",
    "pd_brew = pd.read_csv('../input/breweries.csv')\n",
    "pd_beer.drop('Unnamed: 0',axis=1,inplace =True)\n",
    " "
   ]
  },
  {
   "cell_type": "markdown",
   "metadata": {
    "_cell_guid": "98c7b3c6-6325-5d99-ebe7-121e99fc7ff7"
   },
   "source": [
    "## Look for the longest beer names\n",
    "Histogram of number of words in beer names"
   ]
  },
  {
   "cell_type": "code",
   "execution_count": 2,
   "metadata": {
    "_cell_guid": "eec091fa-56cf-dd82-5b09-23b442b35f77"
   },
   "outputs": [
    {
     "data": {
      "text/plain": [
       "<matplotlib.axes._subplots.AxesSubplot at 0x7f9248f777b8>"
      ]
     },
     "execution_count": 2,
     "metadata": {},
     "output_type": "execute_result"
    },
    {
     "data": {
      "image/png": "[encoded data removed]",
      "text/plain": [
       "<matplotlib.figure.Figure at 0x7f9255679b00>"
      ]
     },
     "metadata": {},
     "output_type": "display_data"
    }
   ],
   "source": [
    "pd_beer['words']=pd_beer['name'].apply(lambda x :len(str.split(x,' ')))\n",
    "pd_beer['words'].hist(bins=9)"
   ]
  },
  {
   "cell_type": "markdown",
   "metadata": {
    "_cell_guid": "d01a6936-e94d-4e0d-1854-c47187059442"
   },
   "source": [
    "# The longest beers\n",
    "List of beers with 7 or more words"
   ]
  },
  {
   "cell_type": "code",
   "execution_count": 3,
   "metadata": {
    "_cell_guid": "20adfe1a-b193-f8c0-12d5-7a005eec8b6f"
   },
   "outputs": [
    {
     "data": {
      "text/html": [
       "<table border=\"1\" class=\"dataframe\">\n",
       "  <thead>\n",
       "    <tr style=\"text-align: right;\">\n",
       "      <th>name</th>\n",
       "      <th>style</th>\n",
       "    </tr>\n",
       "  </thead>\n",
       "  <tbody>\n",
       "    <tr>\n",
       "      <td>the Kimmie, the Yink and the Holy Gose</td>\n",
       "      <td>Gose</td>\n",
       "    </tr>\n",
       "    <tr>\n",
       "      <td>Moe's Original Bar B Que 'Bama Brew Golden Ale</td>\n",
       "      <td>American Blonde Ale</td>\n",
       "    </tr>\n",
       "    <tr>\n",
       "      <td>Black Star Double Hopped Golden Lager (24 oz.)</td>\n",
       "      <td>American Pale Lager</td>\n",
       "    </tr>\n",
       "    <tr>\n",
       "      <td>Black Star Double Hopped Golden Lager (12 oz.)</td>\n",
       "      <td>American Pale Lager</td>\n",
       "    </tr>\n",
       "    <tr>\n",
       "      <td>Hop A Potamus Double Dark Rye Pale Ale</td>\n",
       "      <td>Rye Beer</td>\n",
       "    </tr>\n",
       "    <tr>\n",
       "      <td>40th Annual Bix Street Fest Copper Ale (Current)</td>\n",
       "      <td>American Amber / Red Ale</td>\n",
       "    </tr>\n",
       "    <tr>\n",
       "      <td>668 Neighbor of the Beast (16 oz.) (2010)</td>\n",
       "      <td>Belgian Pale Ale</td>\n",
       "    </tr>\n",
       "    <tr>\n",
       "      <td>Bourbon Barrel Batch 666: Sympathy for the Devil</td>\n",
       "      <td>Belgian Dark Ale</td>\n",
       "    </tr>\n",
       "    <tr>\n",
       "      <td>Lee Hill Series Vol. 5 - Belgian Style Quadrup...</td>\n",
       "      <td>Quadrupel (Quad)</td>\n",
       "    </tr>\n",
       "    <tr>\n",
       "      <td>Lee Hill Series Vol. 4 - Manhattan Style Rye Ale</td>\n",
       "      <td>Rye Beer</td>\n",
       "    </tr>\n",
       "    <tr>\n",
       "      <td>Lee Hill Series Vol. 2 - Wild Saison</td>\n",
       "      <td>American Wild Ale</td>\n",
       "    </tr>\n",
       "    <tr>\n",
       "      <td>Lee Hill Series Vol. 3 - Barrel Aged Imperial ...</td>\n",
       "      <td>American Double / Imperial Stout</td>\n",
       "    </tr>\n",
       "    <tr>\n",
       "      <td>Lee Hill Series Vol. 1 - Barrel Aged Brown Ale</td>\n",
       "      <td>American Brown Ale</td>\n",
       "    </tr>\n",
       "  </tbody>\n",
       "</table>"
      ],
      "text/plain": [
       "<IPython.core.display.HTML object>"
      ]
     },
     "metadata": {},
     "output_type": "display_data"
    }
   ],
   "source": [
    "pd_long = pd_beer[pd_beer.words >7] \n",
    "display(HTML(pd_long[['name','style']].to_html(index=False)))"
   ]
  },
  {
   "cell_type": "markdown",
   "metadata": {
    "_cell_guid": "ab62f0e0-0f02-e669-f6ee-21f1eb315b19"
   },
   "source": [
    "## Historgram of letters in beer names"
   ]
  },
  {
   "cell_type": "code",
   "execution_count": 4,
   "metadata": {
    "_cell_guid": "7fc07bd2-4b46-0b7e-45fa-c94719c1cfab"
   },
   "outputs": [
    {
     "data": {
      "text/plain": [
       "<matplotlib.axes._subplots.AxesSubplot at 0x7f9246a298d0>"
      ]
     },
     "execution_count": 4,
     "metadata": {},
     "output_type": "execute_result"
    },
    {
     "data": {
      "image/png": "[encoded data removed]",
      "text/plain": [
       "<matplotlib.figure.Figure at 0x7f9246a13e48>"
      ]
     },
     "metadata": {},
     "output_type": "display_data"
    }
   ],
   "source": [
    "pd_beer['letter_count']=pd_beer['name'].apply(lambda x :len(x))\n",
    "pd_beer['letter_count'].hist(bins=50,histtype ='stepfilled',color='green',label='Histogram of characters in beer name')"
   ]
  },
  {
   "cell_type": "markdown",
   "metadata": {
    "_cell_guid": "d22e43dc-f491-3a3d-c705-958ede900f9a"
   },
   "source": [
    "## List of shortest beer names\n",
    "* Shortest contains 2 characters\n",
    "* Shortest word contains 3 characters"
   ]
  },
  {
   "cell_type": "code",
   "execution_count": 5,
   "metadata": {
    "_cell_guid": "d9eeac59-a293-5e8b-4a1a-ffe73db514c1"
   },
   "outputs": [
    {
     "data": {
      "text/html": [
       "<table border=\"1\" class=\"dataframe\">\n",
       "  <thead>\n",
       "    <tr style=\"text-align: right;\">\n",
       "      <th>name</th>\n",
       "      <th>style</th>\n",
       "    </tr>\n",
       "  </thead>\n",
       "  <tbody>\n",
       "    <tr>\n",
       "      <td>IPA</td>\n",
       "      <td>American IPA</td>\n",
       "    </tr>\n",
       "    <tr>\n",
       "      <td>MCA</td>\n",
       "      <td>American IPA</td>\n",
       "    </tr>\n",
       "    <tr>\n",
       "      <td>805</td>\n",
       "      <td>American Blonde Ale</td>\n",
       "    </tr>\n",
       "    <tr>\n",
       "      <td>KSA</td>\n",
       "      <td>Kölsch</td>\n",
       "    </tr>\n",
       "    <tr>\n",
       "      <td>#9</td>\n",
       "      <td>Fruit / Vegetable Beer</td>\n",
       "    </tr>\n",
       "    <tr>\n",
       "      <td>#9</td>\n",
       "      <td>Fruit / Vegetable Beer</td>\n",
       "    </tr>\n",
       "    <tr>\n",
       "      <td>Dad</td>\n",
       "      <td>American Amber / Red Ale</td>\n",
       "    </tr>\n",
       "    <tr>\n",
       "      <td>Zen</td>\n",
       "      <td>American Pale Ale (APA)</td>\n",
       "    </tr>\n",
       "    <tr>\n",
       "      <td>Rad</td>\n",
       "      <td>Fruit / Vegetable Beer</td>\n",
       "    </tr>\n",
       "    <tr>\n",
       "      <td>WET</td>\n",
       "      <td>American IPA</td>\n",
       "    </tr>\n",
       "  </tbody>\n",
       "</table>"
      ],
      "text/plain": [
       "<IPython.core.display.HTML object>"
      ]
     },
     "metadata": {},
     "output_type": "display_data"
    }
   ],
   "source": [
    "pd_short_beer=pd_beer[pd_beer['letter_count']<=3]\n",
    "pd_short_beer[ [ 'name','style'] ]\n",
    "\n",
    "\n",
    "display(HTML(pd_short_beer[['name','style']].to_html(index=False)))"
   ]
  },
  {
   "cell_type": "markdown",
   "metadata": {
    "_cell_guid": "b448e78b-4589-391c-10b6-4a819512d766"
   },
   "source": [
    " ## Find unusual characters and unicode in names\n",
    "\n",
    " éè’’í™’‘ä°ü°/°ö"
   ]
  },
  {
   "cell_type": "code",
   "execution_count": 6,
   "metadata": {
    "_cell_guid": "7c36b03c-05ca-b06e-3be8-227672eca069"
   },
   "outputs": [
    {
     "name": "stdout",
     "output_type": "stream",
     "text": [
      "Non ascii characters in the names:\n",
      "{'-', '!', '--', '..', '‘', \"'\", '™', '’', ':', '°/°', 'ö', 'ü', 'ä', '//', '?', '#:', 'é', '’’', \"''\", '&', '.', 'è', ',', 'í', '°', '...', '#', '....'}\n",
      "\n",
      "\n",
      "-  found  57  times\n",
      "!  found  10  times\n",
      "--  found  0  times\n",
      "..  found  0  times\n",
      "‘  found  1  times\n",
      "'  found  175  times\n",
      "™  found  3  times\n",
      "’  found  15  times\n",
      ":  found  6  times\n",
      "°/°  found  0  times\n",
      "ö  found  16  times\n",
      "ü  found  2  times\n",
      "ä  found  1  times\n",
      "//  found  0  times\n",
      "?  found  1  times\n",
      "#:  found  0  times\n",
      "é  found  3  times\n",
      "’’  found  0  times\n",
      "''  found  0  times\n",
      "&  found  13  times\n",
      ".  found  43  times\n",
      "è  found  1  times\n",
      ",  found  2  times\n",
      "í  found  2  times\n",
      "°  found  3  times\n",
      "...  found  0  times\n",
      "#  found  13  times\n",
      "....  found  0  times\n"
     ]
    }
   ],
   "source": [
    "all_words = []\n",
    "for a,b in pd_beer.name.iteritems():\n",
    "    x = b.split(' ')\n",
    "    all_words.extend(x) \n",
    "         \n",
    "\n",
    "# non ascii characters \n",
    "print (\"Non ascii characters in the names:\")\n",
    "unusual_chars=set()\n",
    "for x in all_words:\n",
    "    res  =re.sub('[0-9a-zA-Z()]+', '', x)\n",
    "    if len(res)>0:\n",
    "        \n",
    "        \n",
    "       unusual_chars.add(res) \n",
    "print  (unusual_chars )  \n",
    "print (\"\\n\" )       \n",
    "\n",
    "res = pd.DataFrame()\n",
    "for x in unusual_chars:\n",
    "    if len(x)>0:    \n",
    "      res =  pd_beer[pd_beer.name.str.contains(re.escape(str(x)))]\n",
    "      print (x,' found ',len(res),' times')\n",
    "      #print (res[['name']])\n",
    "  \n",
    "   \n",
    "        \n",
    "        \n",
    "       "
   ]
  },
  {
   "cell_type": "markdown",
   "metadata": {
    "_cell_guid": "cce466eb-0bef-f566-b6de-d0decb369076"
   },
   "source": [
    "## Beer with foreign letters(unlauts,degree,TM and a few )"
   ]
  },
  {
   "cell_type": "code",
   "execution_count": 7,
   "metadata": {
    "_cell_guid": "94076ac9-1d5a-45af-ef25-7962e24a8ba9"
   },
   "outputs": [
    {
     "data": {
      "text/html": [
       "<table border=\"1\" class=\"dataframe\">\n",
       "  <thead>\n",
       "    <tr style=\"text-align: right;\">\n",
       "      <th>name</th>\n",
       "      <th>style</th>\n",
       "    </tr>\n",
       "  </thead>\n",
       "  <tbody>\n",
       "    <tr>\n",
       "      <td>José Martí American Porter</td>\n",
       "      <td>American Porter</td>\n",
       "    </tr>\n",
       "    <tr>\n",
       "      <td>Na Zdraví Pilsner</td>\n",
       "      <td>Czech Pilsener</td>\n",
       "    </tr>\n",
       "    <tr>\n",
       "      <td>14° ESB</td>\n",
       "      <td>Extra Special / Strong Bitter (ESB)</td>\n",
       "    </tr>\n",
       "    <tr>\n",
       "      <td>32°/50° Kölsch</td>\n",
       "      <td>Kölsch</td>\n",
       "    </tr>\n",
       "    <tr>\n",
       "      <td>360° India Pale Ale</td>\n",
       "      <td>American IPA</td>\n",
       "    </tr>\n",
       "    <tr>\n",
       "      <td>Kentucky Kölsch</td>\n",
       "      <td>Kölsch</td>\n",
       "    </tr>\n",
       "    <tr>\n",
       "      <td>Aslan Kölsch</td>\n",
       "      <td>Kölsch</td>\n",
       "    </tr>\n",
       "    <tr>\n",
       "      <td>Kölsch 151</td>\n",
       "      <td>Kölsch</td>\n",
       "    </tr>\n",
       "    <tr>\n",
       "      <td>Post Time Kölsch</td>\n",
       "      <td>Kölsch</td>\n",
       "    </tr>\n",
       "    <tr>\n",
       "      <td>32°/50° Kölsch</td>\n",
       "      <td>Kölsch</td>\n",
       "    </tr>\n",
       "    <tr>\n",
       "      <td>Heiner Brau Kölsch</td>\n",
       "      <td>Kölsch</td>\n",
       "    </tr>\n",
       "    <tr>\n",
       "      <td>Mjöllnir</td>\n",
       "      <td>Herbed / Spiced Beer</td>\n",
       "    </tr>\n",
       "    <tr>\n",
       "      <td>Laimas Kölsch Style Ale</td>\n",
       "      <td>Kölsch</td>\n",
       "    </tr>\n",
       "    <tr>\n",
       "      <td>Sunbru Kölsch</td>\n",
       "      <td>Kölsch</td>\n",
       "    </tr>\n",
       "    <tr>\n",
       "      <td>Sunbru Kölsch</td>\n",
       "      <td>Kölsch</td>\n",
       "    </tr>\n",
       "    <tr>\n",
       "      <td>Cabrillo Kölsch</td>\n",
       "      <td>Kölsch</td>\n",
       "    </tr>\n",
       "    <tr>\n",
       "      <td>Lancaster German Style Kölsch</td>\n",
       "      <td>Kölsch</td>\n",
       "    </tr>\n",
       "    <tr>\n",
       "      <td>Occidental Kölsch</td>\n",
       "      <td>Kölsch</td>\n",
       "    </tr>\n",
       "    <tr>\n",
       "      <td>Side Kick Kölsch</td>\n",
       "      <td>Kölsch</td>\n",
       "    </tr>\n",
       "    <tr>\n",
       "      <td>Colorado Kölsch</td>\n",
       "      <td>Kölsch</td>\n",
       "    </tr>\n",
       "    <tr>\n",
       "      <td>Köld Lager (2010)</td>\n",
       "      <td>German Pilsener</td>\n",
       "    </tr>\n",
       "    <tr>\n",
       "      <td>Garce Selé</td>\n",
       "      <td>Saison / Farmhouse Ale</td>\n",
       "    </tr>\n",
       "    <tr>\n",
       "      <td>José Martí American Porter</td>\n",
       "      <td>American Porter</td>\n",
       "    </tr>\n",
       "    <tr>\n",
       "      <td>Autumnal Molé Stout</td>\n",
       "      <td>American Stout</td>\n",
       "    </tr>\n",
       "    <tr>\n",
       "      <td>Brünette</td>\n",
       "      <td>Euro Dark Lager</td>\n",
       "    </tr>\n",
       "    <tr>\n",
       "      <td>Havanüther</td>\n",
       "      <td>Light Lager</td>\n",
       "    </tr>\n",
       "    <tr>\n",
       "      <td>Loafin Bräu</td>\n",
       "      <td>Altbier</td>\n",
       "    </tr>\n",
       "    <tr>\n",
       "      <td>The 12th Can™</td>\n",
       "      <td>American Pale Ale (APA)</td>\n",
       "    </tr>\n",
       "    <tr>\n",
       "      <td>The CROWLER™</td>\n",
       "      <td>NaN</td>\n",
       "    </tr>\n",
       "    <tr>\n",
       "      <td>GreyBeard™ IPA</td>\n",
       "      <td>American IPA</td>\n",
       "    </tr>\n",
       "    <tr>\n",
       "      <td>Aprè Shred</td>\n",
       "      <td>American Strong Ale</td>\n",
       "    </tr>\n",
       "  </tbody>\n",
       "</table>"
      ],
      "text/plain": [
       "<IPython.core.display.HTML object>"
      ]
     },
     "metadata": {},
     "output_type": "display_data"
    }
   ],
   "source": [
    "unlauts_and_such ={ 'è', 'ä', 'ö', 'é', 'í', '™', 'ü', '°'}\n",
    "\n",
    "res = pd.DataFrame()\n",
    "for x in unlauts_and_such:\n",
    "    if len(x)>0:    \n",
    "      res =  res.append (pd_beer[pd_beer.name.str.contains(re.escape(str(x)))])\n",
    "       \n",
    "display(HTML(res[['name','style']].to_html(index=False)))"
   ]
  },
  {
   "cell_type": "markdown",
   "metadata": {
    "_cell_guid": "084b4cae-d15a-815f-a4b6-af234498e354"
   },
   "source": [
    "## List of unusual unicode charcters and beer names\n",
    "\n",
    "### Some interesting observations:\n",
    "* Only three Trademark symbols from seperate breweries suggesting possible cut and paste artifact.\n",
    "    \n",
    "* The Degree symobol (°) was used in three beer names.\n",
    "    \n",
    "* Most of the umlauts(ö) were Kölsch related.\n",
    "    \n",
    "* Technically a unicode \"Right single quotation mark\"(\\xe2\\x80\\x99) was used in place of \n",
    "    apostrophes 15 times. Left single quoatation mark used once.(\\xe2\\x80\\x98))\n",
    "    \n",
    "* Havanüther is not an actual dictionary word."
   ]
  },
  {
   "cell_type": "markdown",
   "metadata": {
    "_cell_guid": "86c7aa41-0512-0a1a-f939-8fc3fc8792e7"
   },
   "source": [
    "## There are only two one word Breweries!\n",
    "* The one word breweries\n",
    "* Histogram of number of words in brewery names"
   ]
  },
  {
   "cell_type": "code",
   "execution_count": 8,
   "metadata": {
    "_cell_guid": "87adb902-dc14-5970-b4f6-22e3cdc78308"
   },
   "outputs": [
    {
     "data": {
      "text/html": [
       "<table border=\"1\" class=\"dataframe\">\n",
       "  <thead>\n",
       "    <tr style=\"text-align: right;\">\n",
       "      <th>name</th>\n",
       "      <th>city</th>\n",
       "    </tr>\n",
       "  </thead>\n",
       "  <tbody>\n",
       "    <tr>\n",
       "      <td>Mikkeller</td>\n",
       "      <td>Pottstown</td>\n",
       "    </tr>\n",
       "    <tr>\n",
       "      <td>Ciderboys</td>\n",
       "      <td>Stevens Point</td>\n",
       "    </tr>\n",
       "  </tbody>\n",
       "</table>"
      ],
      "text/plain": [
       "<IPython.core.display.HTML object>"
      ]
     },
     "metadata": {},
     "output_type": "display_data"
    },
    {
     "data": {
      "image/png": "[encoded data removed]",
      "text/plain": [
       "<matplotlib.figure.Figure at 0x7f92464e10b8>"
      ]
     },
     "metadata": {},
     "output_type": "display_data"
    }
   ],
   "source": [
    " \n",
    "pd_brew['words']=pd_brew['name'].apply(lambda x :len(str.split(x,' ')))\n",
    "short_brew = pd_brew [pd_brew['words']==1]\n",
    "\n",
    "\n",
    "pd_brew['words'].hist(bins=6)\n",
    "display(HTML(short_brew[['name','city']].to_html(index=False)))\n",
    "\n",
    "\n"
   ]
  },
  {
   "cell_type": "markdown",
   "metadata": {
    "_cell_guid": "e7434dc6-6dfe-a61f-5e5e-98596d0f4852"
   },
   "source": [
    "## Some interesting Correlations:\n",
    "\n",
    "1. Alcohol and hops are very correlated. Surpringly strong association (to me.)\n",
    "2. Alcohol and bottle size are correlated.  Are bigger bottles used for cellaring of higher alcohol styles?\n",
    "3. Brewery_id and letter_count seem correlated. Do newer breweries pick longer names?\n",
    "4. Much weaker ibu/ounces correlation than abv. suggests a preference for more abv over hops\n",
    "5. Apparent negative correlation between brewery_id and ounces.Do newer breweries brew more standard 12 oz beers? "
   ]
  },
  {
   "cell_type": "code",
   "execution_count": 9,
   "metadata": {
    "_cell_guid": "ad59b529-0dba-21b2-0756-df5f51f86c41"
   },
   "outputs": [
    {
     "data": {
      "text/html": [
       "<div>\n",
       "<table border=\"1\" class=\"dataframe\">\n",
       "  <thead>\n",
       "    <tr style=\"text-align: right;\">\n",
       "      <th></th>\n",
       "      <th>abv</th>\n",
       "      <th>ibu</th>\n",
       "      <th>id</th>\n",
       "      <th>brewery_id</th>\n",
       "      <th>ounces</th>\n",
       "      <th>words</th>\n",
       "      <th>letter_count</th>\n",
       "    </tr>\n",
       "  </thead>\n",
       "  <tbody>\n",
       "    <tr>\n",
       "      <th>abv</th>\n",
       "      <td>1.000000</td>\n",
       "      <td>0.670621</td>\n",
       "      <td>0.042811</td>\n",
       "      <td>-0.098632</td>\n",
       "      <td>0.172529</td>\n",
       "      <td>0.034976</td>\n",
       "      <td>0.012590</td>\n",
       "    </tr>\n",
       "    <tr>\n",
       "      <th>ibu</th>\n",
       "      <td>0.670621</td>\n",
       "      <td>1.000000</td>\n",
       "      <td>0.000485</td>\n",
       "      <td>-0.004875</td>\n",
       "      <td>0.054691</td>\n",
       "      <td>0.025399</td>\n",
       "      <td>-0.043941</td>\n",
       "    </tr>\n",
       "    <tr>\n",
       "      <th>id</th>\n",
       "      <td>0.042811</td>\n",
       "      <td>0.000485</td>\n",
       "      <td>1.000000</td>\n",
       "      <td>-0.504030</td>\n",
       "      <td>0.100843</td>\n",
       "      <td>-0.237985</td>\n",
       "      <td>-0.267155</td>\n",
       "    </tr>\n",
       "    <tr>\n",
       "      <th>brewery_id</th>\n",
       "      <td>-0.098632</td>\n",
       "      <td>-0.004875</td>\n",
       "      <td>-0.504030</td>\n",
       "      <td>1.000000</td>\n",
       "      <td>-0.133762</td>\n",
       "      <td>0.196527</td>\n",
       "      <td>0.195510</td>\n",
       "    </tr>\n",
       "    <tr>\n",
       "      <th>ounces</th>\n",
       "      <td>0.172529</td>\n",
       "      <td>0.054691</td>\n",
       "      <td>0.100843</td>\n",
       "      <td>-0.133762</td>\n",
       "      <td>1.000000</td>\n",
       "      <td>-0.017939</td>\n",
       "      <td>-0.031237</td>\n",
       "    </tr>\n",
       "    <tr>\n",
       "      <th>words</th>\n",
       "      <td>0.034976</td>\n",
       "      <td>0.025399</td>\n",
       "      <td>-0.237985</td>\n",
       "      <td>0.196527</td>\n",
       "      <td>-0.017939</td>\n",
       "      <td>1.000000</td>\n",
       "      <td>0.890347</td>\n",
       "    </tr>\n",
       "    <tr>\n",
       "      <th>letter_count</th>\n",
       "      <td>0.012590</td>\n",
       "      <td>-0.043941</td>\n",
       "      <td>-0.267155</td>\n",
       "      <td>0.195510</td>\n",
       "      <td>-0.031237</td>\n",
       "      <td>0.890347</td>\n",
       "      <td>1.000000</td>\n",
       "    </tr>\n",
       "  </tbody>\n",
       "</table>\n",
       "</div>"
      ],
      "text/plain": [
       "                   abv       ibu        id  brewery_id    ounces     words  \\\n",
       "abv           1.000000  0.670621  0.042811   -0.098632  0.172529  0.034976   \n",
       "ibu           0.670621  1.000000  0.000485   -0.004875  0.054691  0.025399   \n",
       "id            0.042811  0.000485  1.000000   -0.504030  0.100843 -0.237985   \n",
       "brewery_id   -0.098632 -0.004875 -0.504030    1.000000 -0.133762  0.196527   \n",
       "ounces        0.172529  0.054691  0.100843   -0.133762  1.000000 -0.017939   \n",
       "words         0.034976  0.025399 -0.237985    0.196527 -0.017939  1.000000   \n",
       "letter_count  0.012590 -0.043941 -0.267155    0.195510 -0.031237  0.890347   \n",
       "\n",
       "              letter_count  \n",
       "abv               0.012590  \n",
       "ibu              -0.043941  \n",
       "id               -0.267155  \n",
       "brewery_id        0.195510  \n",
       "ounces           -0.031237  \n",
       "words             0.890347  \n",
       "letter_count      1.000000  "
      ]
     },
     "execution_count": 9,
     "metadata": {},
     "output_type": "execute_result"
    }
   ],
   "source": [
    "pd_beer.corr()"
   ]
  }
 ],
 "metadata": {
  "_change_revision": 2,
  "_is_fork": false,
  "kernelspec": {
   "display_name": "Python 3",
   "language": "python",
   "name": "python3"
  },
  "language_info": {
   "codemirror_mode": {
    "name": "ipython",
    "version": 3
   },
   "file_extension": ".py",
   "mimetype": "text/x-python",
   "name": "python",
   "nbconvert_exporter": "python",
   "pygments_lexer": "ipython3",
   "version": "3.5.2"
  }
 },
 "nbformat": 4,
 "nbformat_minor": 0
}
