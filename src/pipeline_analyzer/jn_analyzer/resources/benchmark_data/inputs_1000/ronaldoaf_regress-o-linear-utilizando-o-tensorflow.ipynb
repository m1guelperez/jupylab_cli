{
 "cells": [
  {
   "cell_type": "markdown",
   "metadata": {
    "_uuid": "b6e11e6c9dcaebca35f2ecf5e784e265b224e862"
   },
   "source": [
    "Esse notebook  é réplica do exemplo do  site https://www.geeksforgeeks.org/linear-regression-using-tensorflow/\n",
    "\n",
    "\n",
    "Vamos começar importando as bibliotecas necessárias. Nós usaremos o **Numpy** juntamente com o **Tensorflow** para cálculos e o **Matplotlib** para plotagem."
   ]
  },
  {
   "cell_type": "code",
   "execution_count": 1,
   "metadata": {
    "_cell_guid": "b1076dfc-b9ad-4769-8c92-a6c4dae69d19",
    "_uuid": "8f2839f25d086af736a60e9eeb907d3b93b6e0e5"
   },
   "outputs": [
    {
     "name": "stdout",
     "output_type": "stream",
     "text": [
      "<module 'tensorflow' from '/opt/conda/lib/python3.6/site-packages/tensorflow/__init__.py'>\n"
     ]
    }
   ],
   "source": [
    "import numpy as np \n",
    "import tensorflow as tf \n",
    "import matplotlib.pyplot as plt \n",
    "\n",
    "print(tf)"
   ]
  },
  {
   "cell_type": "markdown",
   "metadata": {
    "_cell_guid": "79c7e3d0-c299-4dcb-8224-4455121ee9b0",
    "_uuid": "d629ff2d2480ee46fbb7e2d37f6b5fab8052498a",
    "collapsed": true
   },
   "source": [
    "Para tornar os números aleatórios previsíveis, definiremos sementes fixas para Numpy e Tensorflow. e vamos gerar alguns dados aleatórios para treinar o Modelo de Regressão Linear."
   ]
  },
  {
   "cell_type": "code",
   "execution_count": 2,
   "metadata": {
    "_uuid": "559f34c83c73309ecfae79e6b1a783111e5d16bd"
   },
   "outputs": [
    {
     "name": "stdout",
     "output_type": "stream",
     "text": [
      "x= [ 0.13118902  1.58574886 -1.73138986  0.43339774  5.56384851  7.77321572\n",
      "  4.57817874 10.29176178  9.9356162   6.7031851  10.63790236 10.04154543\n",
      "  9.70003718 15.55012022 18.00958007 13.16495174 12.99502208 18.17532615\n",
      " 20.199289   17.59766573 21.8906139  21.57151122 18.83685589 20.57234166\n",
      " 21.98553533 29.46474729 26.69593542 28.18133669 30.44998104 29.92753091\n",
      " 33.91747336 34.09601427 31.87704387 32.53126413 38.31689127 34.46333834\n",
      " 39.65549241 40.39732374 39.0808018  43.17567335 37.59349837 38.65951464\n",
      " 44.46920122 47.00138997 42.17444159 44.12294771 48.31870775 45.27360867\n",
      " 50.59056093 49.90108178]\n",
      "y= [ 1.44542215  1.1927937  -1.61201012  0.85271732  4.68327335  2.0655101\n",
      "  6.12338269  4.24693369  4.58573251  6.60988885  9.74302668 14.24518839\n",
      " 15.83901099 13.09064546 13.97466902 16.4044347  14.92339458 14.28756352\n",
      " 14.77615491 20.48902432 22.90629042 22.79065479 23.66312122 22.8659393\n",
      " 25.74255861 23.18349607 27.8100084  27.7880076  30.55959153 26.34189158\n",
      " 32.8884197  33.13058936 34.2136892  33.64840154 38.49676657 33.34250668\n",
      " 35.12685715 35.57634918 35.16086129 43.02768923 37.45715484 42.69446487\n",
      " 43.90391649 42.90108648 41.00388727 48.65612264 46.01827748 48.37251043\n",
      " 50.66389696 51.40223081]\n"
     ]
    }
   ],
   "source": [
    "np.random.seed(101) \n",
    "tf.set_random_seed(101) \n",
    "\n",
    "# Genrating random linear data \n",
    "# There will be 50 data points ranging from 0 to 50 \n",
    "x = np.linspace(0, 50, 50) \n",
    "y = np.linspace(0, 50, 50) \n",
    "  \n",
    "# Adding noise to the random linear data \n",
    "x += np.random.uniform(-4, 4, 50) \n",
    "y += np.random.uniform(-4, 4, 50) \n",
    "  \n",
    "n = len(x) # Number of data points \n",
    "\n",
    "print('x=', x)\n",
    "print('y=', y)"
   ]
  },
  {
   "cell_type": "markdown",
   "metadata": {
    "_uuid": "01a7903d164a9d822257fc133d699a7eb5638d05"
   },
   "source": [
    "Vamos visualizar os dados de treinamento"
   ]
  },
  {
   "cell_type": "code",
   "execution_count": 3,
   "metadata": {
    "_uuid": "8576d3d2704abc30850a69b8b65ed932c3ff89d7"
   },
   "outputs": [
    {
     "data": {
      "image/png": "[encoded data removed]",
      "text/plain": [
       "<Figure size 432x288 with 1 Axes>"
      ]
     },
     "metadata": {},
     "output_type": "display_data"
    }
   ],
   "source": [
    "# Plot of Training Data \n",
    "plt.scatter(x, y) \n",
    "plt.xlabel('x') \n",
    "plt.xlabel('y') \n",
    "plt.title(\"Training Data\") \n",
    "plt.show() "
   ]
  },
  {
   "cell_type": "code",
   "execution_count": 4,
   "metadata": {
    "_uuid": "d6c2d20dfb2a9b8643393767aa23e02df16bf26a"
   },
   "outputs": [],
   "source": [
    "#Vamos começar a criar nosso modelo definindo os  placeholders X e Y, para podemos alimentarmos com os dados de treinamento.\n",
    "X = tf.placeholder(\"float\") \n",
    "Y = tf.placeholder(\"float\") \n",
    "\n",
    "\n",
    "#Vamos declarar duas Variáveis do Tensorflow para Weights(pesos) e Bias(viés) iniciando-ao aleatoriamente usando np.random.randn()\n",
    "W = tf.Variable(np.random.randn(), name = \"W\") \n",
    "b = tf.Variable(np.random.randn(), name = \"b\") \n",
    "\n",
    "\n",
    "#Definimos os hiperparametros do modelo, Learning Rate (taxa de aprendizagem) e o número de Epochs (interações)\n",
    "learning_rate = 0.01\n",
    "training_epochs = 1000\n",
    "\n",
    "\n",
    "#Vamos construir a Hypothesis (hipótese), a Cost Function (função custo) e o Optimizer (optimizador).\n",
    "#Não vamos implementar o Gradient Descent Optimizer manualmente, pois ele é criado dentro do Tensorflow.\n",
    "#Depois disso, estaremos inicializando as variáveis.\n",
    "\n",
    "# Hypothesis \n",
    "y_pred = tf.add(tf.multiply(X, W), b) \n",
    "\n",
    "# Mean Squared Error Cost Function \n",
    "cost = tf.reduce_sum(tf.pow(y_pred-Y, 2)) / (2 * n) \n",
    "\n",
    "# Gradient Descent Optimizer \n",
    "optimizer = tf.train.GradientDescentOptimizer(learning_rate).minimize(cost) \n",
    "\n",
    "# Global Variables Initializer \n",
    "init = tf.global_variables_initializer() \n"
   ]
  },
  {
   "cell_type": "code",
   "execution_count": 5,
   "metadata": {
    "_uuid": "8eaa10451011035666fa9bddb03d435c0f8d9725"
   },
   "outputs": [
    {
     "name": "stdout",
     "output_type": "stream",
     "text": [
      "Epoch 50 : cost = 5.886804 W = 0.9951241 b = 1.2381054\n",
      "Epoch 100 : cost = 5.7912707 W = 0.99812365 b = 1.0914398\n",
      "Epoch 150 : cost = 5.7119684 W = 1.0008028 b = 0.96044314\n",
      "Epoch 200 : cost = 5.6459413 W = 1.0031956 b = 0.8434396\n",
      "Epoch 250 : cost = 5.5907993 W = 1.0053328 b = 0.73893565\n",
      "Epoch 300 : cost = 5.544605 W = 1.0072418 b = 0.6455924\n",
      "Epoch 350 : cost = 5.5057893 W = 1.008947 b = 0.56222016\n",
      "Epoch 400 : cost = 5.473066 W = 1.01047 b = 0.48775372\n",
      "Epoch 450 : cost = 5.445385 W = 1.0118302 b = 0.42124188\n",
      "Epoch 500 : cost = 5.4219036 W = 1.0130452 b = 0.36183503\n",
      "Epoch 550 : cost = 5.4019217 W = 1.0141305 b = 0.3087744\n",
      "Epoch 600 : cost = 5.3848577 W = 1.0150996 b = 0.26138142\n",
      "Epoch 650 : cost = 5.370246 W = 1.0159653 b = 0.21905117\n",
      "Epoch 700 : cost = 5.3576994 W = 1.0167387 b = 0.18124233\n",
      "Epoch 750 : cost = 5.346891 W = 1.0174292 b = 0.14747268\n",
      "Epoch 800 : cost = 5.337558 W = 1.0180461 b = 0.11730959\n",
      "Epoch 850 : cost = 5.3294754 W = 1.0185971 b = 0.09036876\n",
      "Epoch 900 : cost = 5.322459 W = 1.0190892 b = 0.06630599\n",
      "Epoch 950 : cost = 5.3163586 W = 1.0195289 b = 0.044813465\n",
      "Epoch 1000 : cost = 5.3110337 W = 1.0199214 b = 0.02561676\n"
     ]
    }
   ],
   "source": [
    "# Starting the Tensorflow Session \n",
    "with tf.Session() as sess: \n",
    "      \n",
    "    # Initializing the Variables \n",
    "    sess.run(init) \n",
    "      \n",
    "    # Iterating through all the epochs \n",
    "    for epoch in range(training_epochs): \n",
    "          \n",
    "        # Feeding each data point into the optimizer using Feed Dictionary \n",
    "        for (_x, _y) in zip(x, y): \n",
    "            sess.run(optimizer, feed_dict = {X : _x, Y : _y}) \n",
    "          \n",
    "        # Displaying the result after every 50 epochs \n",
    "        if (epoch + 1) % 50 == 0: \n",
    "            # Calculating the cost a every epoch \n",
    "            c = sess.run(cost, feed_dict = {X : x, Y : y}) \n",
    "            print(\"Epoch\", (epoch + 1), \": cost =\", c, \"W =\", sess.run(W), \"b =\", sess.run(b)) \n",
    "      \n",
    "    # Storing necessary values to be used outside the Session \n",
    "    training_cost = sess.run(cost, feed_dict ={X: x, Y: y}) \n",
    "    weight = sess.run(W) \n",
    "    bias = sess.run(b) "
   ]
  },
  {
   "cell_type": "code",
   "execution_count": 6,
   "metadata": {
    "_uuid": "d049f9f44f05d6052c5927e039b0a04da557bcee"
   },
   "outputs": [
    {
     "name": "stdout",
     "output_type": "stream",
     "text": [
      "Training cost = 5.3110337 Weight = 1.0199214 bias = 0.02561676 \n",
      "\n"
     ]
    }
   ],
   "source": [
    "# Calculating the predictions \n",
    "predictions = weight * x + bias \n",
    "print(\"Training cost =\", training_cost, \"Weight =\", weight, \"bias =\", bias, '\\n') "
   ]
  },
  {
   "cell_type": "code",
   "execution_count": 7,
   "metadata": {
    "_uuid": "7469079a56eb00d9bd389c2a85d83f6ab932ee3c"
   },
   "outputs": [
    {
     "data": {
      "image/png": "[encoded data removed]",
      "text/plain": [
       "<Figure size 432x288 with 1 Axes>"
      ]
     },
     "metadata": {},
     "output_type": "display_data"
    }
   ],
   "source": [
    "# Plotting the Results \n",
    "plt.plot(x, y, 'ro', label ='Original data') \n",
    "plt.plot(x, predictions, label ='Fitted line') \n",
    "plt.title('Linear Regression Result') \n",
    "plt.legend() \n",
    "plt.show() \n"
   ]
  }
 ],
 "metadata": {
  "kernelspec": {
   "display_name": "Python 3",
   "language": "python",
   "name": "python3"
  },
  "language_info": {
   "codemirror_mode": {
    "name": "ipython",
    "version": 3
   },
   "file_extension": ".py",
   "mimetype": "text/x-python",
   "name": "python",
   "nbconvert_exporter": "python",
   "pygments_lexer": "ipython3",
   "version": "3.6.6"
  }
 },
 "nbformat": 4,
 "nbformat_minor": 1
}
