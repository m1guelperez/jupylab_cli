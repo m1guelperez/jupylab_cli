{
 "cells": [
  {
   "cell_type": "markdown",
   "execution_count": null,
   "metadata": {
    "papermill": {
     "duration": 0.009352,
     "end_time": "2020-08-10T23:08:29.876906",
     "exception": false,
     "start_time": "2020-08-10T23:08:29.867554",
     "status": "completed"
    },
    "tags": []
   },
   "source": [
    "**Simple Linear Regression Model**\n",
    "- Using Tensorflow\n",
    "- On Weather Conditions in World War Two Dataset\n",
    "\n",
    "**Goal :** To predict MaxTemp given MinTemp"
   ]
  },
  {
   "cell_type": "markdown",
   "execution_count": null,
   "metadata": {
    "papermill": {
     "duration": 0.007033,
     "end_time": "2020-08-10T23:08:29.891965",
     "exception": false,
     "start_time": "2020-08-10T23:08:29.884932",
     "status": "completed"
    },
    "tags": []
   },
   "source": [
    "**Contents**\n",
    "* Import Libraries\n",
    "* Load Data\n",
    "* Build Model\n",
    "* Evaluate\n",
    "* Summary"
   ]
  },
  {
   "cell_type": "code",
   "execution_count": 1,
   "metadata": {
    "_cell_guid": "b1076dfc-b9ad-4769-8c92-a6c4dae69d19",
    "_uuid": "8f2839f25d086af736a60e9eeb907d3b93b6e0e5",
    "execution": {
     "iopub.execute_input": "2020-08-10T23:08:29.913985Z",
     "iopub.status.busy": "2020-08-10T23:08:29.913199Z",
     "iopub.status.idle": "2020-08-10T23:08:38.432837Z",
     "shell.execute_reply": "2020-08-10T23:08:38.431929Z"
    },
    "papermill": {
     "duration": 8.533927,
     "end_time": "2020-08-10T23:08:38.432982",
     "exception": false,
     "start_time": "2020-08-10T23:08:29.899055",
     "status": "completed"
    },
    "tags": []
   },
   "outputs": [],
   "source": [
    "import numpy as np\n",
    "import pandas as pd\n",
    "import matplotlib.pyplot as plt\n",
    "import seaborn as sns\n",
    "import tensorflow as tf\n",
    "from tensorflow import feature_column\n",
    "from tensorflow.keras import layers\n",
    "from sklearn.model_selection import train_test_split\n",
    "from sklearn import metrics"
   ]
  },
  {
   "cell_type": "code",
   "execution_count": 2,
   "metadata": {
    "_cell_guid": "79c7e3d0-c299-4dcb-8224-4455121ee9b0",
    "_uuid": "d629ff2d2480ee46fbb7e2d37f6b5fab8052498a",
    "execution": {
     "iopub.execute_input": "2020-08-10T23:08:38.457105Z",
     "iopub.status.busy": "2020-08-10T23:08:38.456319Z",
     "iopub.status.idle": "2020-08-10T23:08:38.885154Z",
     "shell.execute_reply": "2020-08-10T23:08:38.885722Z"
    },
    "papermill": {
     "duration": 0.443904,
     "end_time": "2020-08-10T23:08:38.885885",
     "exception": false,
     "start_time": "2020-08-10T23:08:38.441981",
     "status": "completed"
    },
    "tags": []
   },
   "outputs": [
    {
     "name": "stderr",
     "output_type": "stream",
     "text": [
      "/opt/conda/lib/python3.7/site-packages/IPython/core/interactiveshell.py:3063: DtypeWarning: Columns (7,8,18,25) have mixed types.Specify dtype option on import or set low_memory=False.\n",
      "  interactivity=interactivity, compiler=compiler, result=result)\n"
     ]
    },
    {
     "data": {
      "text/html": [
       "<div>\n",
       "<style scoped>\n",
       "    .dataframe tbody tr th:only-of-type {\n",
       "        vertical-align: middle;\n",
       "    }\n",
       "\n",
       "    .dataframe tbody tr th {\n",
       "        vertical-align: top;\n",
       "    }\n",
       "\n",
       "    .dataframe thead th {\n",
       "        text-align: right;\n",
       "    }\n",
       "</style>\n",
       "<table border=\"1\" class=\"dataframe\">\n",
       "  <thead>\n",
       "    <tr style=\"text-align: right;\">\n",
       "      <th></th>\n",
       "      <th>STA</th>\n",
       "      <th>Date</th>\n",
       "      <th>Precip</th>\n",
       "      <th>WindGustSpd</th>\n",
       "      <th>MaxTemp</th>\n",
       "      <th>MinTemp</th>\n",
       "      <th>MeanTemp</th>\n",
       "      <th>Snowfall</th>\n",
       "      <th>PoorWeather</th>\n",
       "      <th>YR</th>\n",
       "      <th>...</th>\n",
       "      <th>FB</th>\n",
       "      <th>FTI</th>\n",
       "      <th>ITH</th>\n",
       "      <th>PGT</th>\n",
       "      <th>TSHDSBRSGF</th>\n",
       "      <th>SD3</th>\n",
       "      <th>RHX</th>\n",
       "      <th>RHN</th>\n",
       "      <th>RVG</th>\n",
       "      <th>WTE</th>\n",
       "    </tr>\n",
       "  </thead>\n",
       "  <tbody>\n",
       "    <tr>\n",
       "      <th>0</th>\n",
       "      <td>10001</td>\n",
       "      <td>1942-7-1</td>\n",
       "      <td>1.016</td>\n",
       "      <td>NaN</td>\n",
       "      <td>25.555556</td>\n",
       "      <td>22.222222</td>\n",
       "      <td>23.888889</td>\n",
       "      <td>0</td>\n",
       "      <td>NaN</td>\n",
       "      <td>42</td>\n",
       "      <td>...</td>\n",
       "      <td>NaN</td>\n",
       "      <td>NaN</td>\n",
       "      <td>NaN</td>\n",
       "      <td>NaN</td>\n",
       "      <td>NaN</td>\n",
       "      <td>NaN</td>\n",
       "      <td>NaN</td>\n",
       "      <td>NaN</td>\n",
       "      <td>NaN</td>\n",
       "      <td>NaN</td>\n",
       "    </tr>\n",
       "    <tr>\n",
       "      <th>1</th>\n",
       "      <td>10001</td>\n",
       "      <td>1942-7-2</td>\n",
       "      <td>0</td>\n",
       "      <td>NaN</td>\n",
       "      <td>28.888889</td>\n",
       "      <td>21.666667</td>\n",
       "      <td>25.555556</td>\n",
       "      <td>0</td>\n",
       "      <td>NaN</td>\n",
       "      <td>42</td>\n",
       "      <td>...</td>\n",
       "      <td>NaN</td>\n",
       "      <td>NaN</td>\n",
       "      <td>NaN</td>\n",
       "      <td>NaN</td>\n",
       "      <td>NaN</td>\n",
       "      <td>NaN</td>\n",
       "      <td>NaN</td>\n",
       "      <td>NaN</td>\n",
       "      <td>NaN</td>\n",
       "      <td>NaN</td>\n",
       "    </tr>\n",
       "    <tr>\n",
       "      <th>2</th>\n",
       "      <td>10001</td>\n",
       "      <td>1942-7-3</td>\n",
       "      <td>2.54</td>\n",
       "      <td>NaN</td>\n",
       "      <td>26.111111</td>\n",
       "      <td>22.222222</td>\n",
       "      <td>24.444444</td>\n",
       "      <td>0</td>\n",
       "      <td>NaN</td>\n",
       "      <td>42</td>\n",
       "      <td>...</td>\n",
       "      <td>NaN</td>\n",
       "      <td>NaN</td>\n",
       "      <td>NaN</td>\n",
       "      <td>NaN</td>\n",
       "      <td>NaN</td>\n",
       "      <td>NaN</td>\n",
       "      <td>NaN</td>\n",
       "      <td>NaN</td>\n",
       "      <td>NaN</td>\n",
       "      <td>NaN</td>\n",
       "    </tr>\n",
       "    <tr>\n",
       "      <th>3</th>\n",
       "      <td>10001</td>\n",
       "      <td>1942-7-4</td>\n",
       "      <td>2.54</td>\n",
       "      <td>NaN</td>\n",
       "      <td>26.666667</td>\n",
       "      <td>22.222222</td>\n",
       "      <td>24.444444</td>\n",
       "      <td>0</td>\n",
       "      <td>NaN</td>\n",
       "      <td>42</td>\n",
       "      <td>...</td>\n",
       "      <td>NaN</td>\n",
       "      <td>NaN</td>\n",
       "      <td>NaN</td>\n",
       "      <td>NaN</td>\n",
       "      <td>NaN</td>\n",
       "      <td>NaN</td>\n",
       "      <td>NaN</td>\n",
       "      <td>NaN</td>\n",
       "      <td>NaN</td>\n",
       "      <td>NaN</td>\n",
       "    </tr>\n",
       "    <tr>\n",
       "      <th>4</th>\n",
       "      <td>10001</td>\n",
       "      <td>1942-7-5</td>\n",
       "      <td>0</td>\n",
       "      <td>NaN</td>\n",
       "      <td>26.666667</td>\n",
       "      <td>21.666667</td>\n",
       "      <td>24.444444</td>\n",
       "      <td>0</td>\n",
       "      <td>NaN</td>\n",
       "      <td>42</td>\n",
       "      <td>...</td>\n",
       "      <td>NaN</td>\n",
       "      <td>NaN</td>\n",
       "      <td>NaN</td>\n",
       "      <td>NaN</td>\n",
       "      <td>NaN</td>\n",
       "      <td>NaN</td>\n",
       "      <td>NaN</td>\n",
       "      <td>NaN</td>\n",
       "      <td>NaN</td>\n",
       "      <td>NaN</td>\n",
       "    </tr>\n",
       "  </tbody>\n",
       "</table>\n",
       "<p>5 rows × 31 columns</p>\n",
       "</div>"
      ],
      "text/plain": [
       "     STA      Date Precip  WindGustSpd    MaxTemp    MinTemp   MeanTemp  \\\n",
       "0  10001  1942-7-1  1.016          NaN  25.555556  22.222222  23.888889   \n",
       "1  10001  1942-7-2      0          NaN  28.888889  21.666667  25.555556   \n",
       "2  10001  1942-7-3   2.54          NaN  26.111111  22.222222  24.444444   \n",
       "3  10001  1942-7-4   2.54          NaN  26.666667  22.222222  24.444444   \n",
       "4  10001  1942-7-5      0          NaN  26.666667  21.666667  24.444444   \n",
       "\n",
       "  Snowfall PoorWeather  YR  ...  FB  FTI ITH  PGT  TSHDSBRSGF  SD3  RHX  RHN  \\\n",
       "0        0         NaN  42  ... NaN  NaN NaN  NaN         NaN  NaN  NaN  NaN   \n",
       "1        0         NaN  42  ... NaN  NaN NaN  NaN         NaN  NaN  NaN  NaN   \n",
       "2        0         NaN  42  ... NaN  NaN NaN  NaN         NaN  NaN  NaN  NaN   \n",
       "3        0         NaN  42  ... NaN  NaN NaN  NaN         NaN  NaN  NaN  NaN   \n",
       "4        0         NaN  42  ... NaN  NaN NaN  NaN         NaN  NaN  NaN  NaN   \n",
       "\n",
       "  RVG  WTE  \n",
       "0 NaN  NaN  \n",
       "1 NaN  NaN  \n",
       "2 NaN  NaN  \n",
       "3 NaN  NaN  \n",
       "4 NaN  NaN  \n",
       "\n",
       "[5 rows x 31 columns]"
      ]
     },
     "execution_count": 2,
     "metadata": {},
     "output_type": "execute_result"
    }
   ],
   "source": [
    "data = pd.read_csv('../input/weatherww2/Summary of Weather.csv')\n",
    "data.head()"
   ]
  },
  {
   "cell_type": "code",
   "execution_count": 3,
   "metadata": {
    "execution": {
     "iopub.execute_input": "2020-08-10T23:08:38.907320Z",
     "iopub.status.busy": "2020-08-10T23:08:38.906417Z",
     "iopub.status.idle": "2020-08-10T23:08:39.007125Z",
     "shell.execute_reply": "2020-08-10T23:08:39.007813Z"
    },
    "papermill": {
     "duration": 0.114671,
     "end_time": "2020-08-10T23:08:39.008036",
     "exception": false,
     "start_time": "2020-08-10T23:08:38.893365",
     "status": "completed"
    },
    "tags": []
   },
   "outputs": [
    {
     "name": "stdout",
     "output_type": "stream",
     "text": [
      "<class 'pandas.core.frame.DataFrame'>\n",
      "RangeIndex: 119040 entries, 0 to 119039\n",
      "Data columns (total 31 columns):\n",
      " #   Column       Non-Null Count   Dtype  \n",
      "---  ------       --------------   -----  \n",
      " 0   STA          119040 non-null  int64  \n",
      " 1   Date         119040 non-null  object \n",
      " 2   Precip       119040 non-null  object \n",
      " 3   WindGustSpd  532 non-null     float64\n",
      " 4   MaxTemp      119040 non-null  float64\n",
      " 5   MinTemp      119040 non-null  float64\n",
      " 6   MeanTemp     119040 non-null  float64\n",
      " 7   Snowfall     117877 non-null  object \n",
      " 8   PoorWeather  34237 non-null   object \n",
      " 9   YR           119040 non-null  int64  \n",
      " 10  MO           119040 non-null  int64  \n",
      " 11  DA           119040 non-null  int64  \n",
      " 12  PRCP         117108 non-null  object \n",
      " 13  DR           533 non-null     float64\n",
      " 14  SPD          532 non-null     float64\n",
      " 15  MAX          118566 non-null  float64\n",
      " 16  MIN          118572 non-null  float64\n",
      " 17  MEA          118542 non-null  float64\n",
      " 18  SNF          117877 non-null  object \n",
      " 19  SND          5563 non-null    float64\n",
      " 20  FT           0 non-null       float64\n",
      " 21  FB           0 non-null       float64\n",
      " 22  FTI          0 non-null       float64\n",
      " 23  ITH          0 non-null       float64\n",
      " 24  PGT          525 non-null     float64\n",
      " 25  TSHDSBRSGF   34237 non-null   object \n",
      " 26  SD3          0 non-null       float64\n",
      " 27  RHX          0 non-null       float64\n",
      " 28  RHN          0 non-null       float64\n",
      " 29  RVG          0 non-null       float64\n",
      " 30  WTE          0 non-null       float64\n",
      "dtypes: float64(20), int64(4), object(7)\n",
      "memory usage: 28.2+ MB\n"
     ]
    }
   ],
   "source": [
    "data.info()"
   ]
  },
  {
   "cell_type": "code",
   "execution_count": 4,
   "metadata": {
    "execution": {
     "iopub.execute_input": "2020-08-10T23:08:39.037354Z",
     "iopub.status.busy": "2020-08-10T23:08:39.036521Z",
     "iopub.status.idle": "2020-08-10T23:08:40.939053Z",
     "shell.execute_reply": "2020-08-10T23:08:40.939698Z"
    },
    "papermill": {
     "duration": 1.92365,
     "end_time": "2020-08-10T23:08:40.939880",
     "exception": false,
     "start_time": "2020-08-10T23:08:39.016230",
     "status": "completed"
    },
    "tags": []
   },
   "outputs": [
    {
     "data": {
      "text/plain": [
       "<seaborn.axisgrid.PairGrid at 0x7f4475c0e290>"
      ]
     },
     "execution_count": 4,
     "metadata": {},
     "output_type": "execute_result"
    },
    {
     "data": {
      "image/png": "[encoded data removed]",
      "text/plain": [
       "<Figure size 360x360 with 6 Axes>"
      ]
     },
     "metadata": {
      "needs_background": "light"
     },
     "output_type": "display_data"
    }
   ],
   "source": [
    "sns.pairplot(data[['MinTemp','MaxTemp']]) # Strong Correlation Between Min and Max Temps"
   ]
  },
  {
   "cell_type": "code",
   "execution_count": 5,
   "metadata": {
    "execution": {
     "iopub.execute_input": "2020-08-10T23:08:40.965107Z",
     "iopub.status.busy": "2020-08-10T23:08:40.964205Z",
     "iopub.status.idle": "2020-08-10T23:08:40.967806Z",
     "shell.execute_reply": "2020-08-10T23:08:40.967059Z"
    },
    "papermill": {
     "duration": 0.01916,
     "end_time": "2020-08-10T23:08:40.967935",
     "exception": false,
     "start_time": "2020-08-10T23:08:40.948775",
     "status": "completed"
    },
    "tags": []
   },
   "outputs": [],
   "source": [
    "data_new = data[['MinTemp', 'MaxTemp']] # Select columns needed"
   ]
  },
  {
   "cell_type": "code",
   "execution_count": 6,
   "metadata": {
    "execution": {
     "iopub.execute_input": "2020-08-10T23:08:40.997343Z",
     "iopub.status.busy": "2020-08-10T23:08:40.996192Z",
     "iopub.status.idle": "2020-08-10T23:08:41.047820Z",
     "shell.execute_reply": "2020-08-10T23:08:41.046991Z"
    },
    "papermill": {
     "duration": 0.070691,
     "end_time": "2020-08-10T23:08:41.047952",
     "exception": false,
     "start_time": "2020-08-10T23:08:40.977261",
     "status": "completed"
    },
    "tags": []
   },
   "outputs": [],
   "source": [
    "# Prep Train and Test Data\n",
    "train_data = data_new.sample(frac=0.8,random_state=42) \n",
    "test_data = data_new.drop(train_data.index)"
   ]
  },
  {
   "cell_type": "code",
   "execution_count": 7,
   "metadata": {
    "execution": {
     "iopub.execute_input": "2020-08-10T23:08:41.076099Z",
     "iopub.status.busy": "2020-08-10T23:08:41.074750Z",
     "iopub.status.idle": "2020-08-10T23:08:41.110185Z",
     "shell.execute_reply": "2020-08-10T23:08:41.109521Z"
    },
    "papermill": {
     "duration": 0.053698,
     "end_time": "2020-08-10T23:08:41.110316",
     "exception": false,
     "start_time": "2020-08-10T23:08:41.056618",
     "status": "completed"
    },
    "tags": []
   },
   "outputs": [
    {
     "data": {
      "text/html": [
       "<div>\n",
       "<style scoped>\n",
       "    .dataframe tbody tr th:only-of-type {\n",
       "        vertical-align: middle;\n",
       "    }\n",
       "\n",
       "    .dataframe tbody tr th {\n",
       "        vertical-align: top;\n",
       "    }\n",
       "\n",
       "    .dataframe thead th {\n",
       "        text-align: right;\n",
       "    }\n",
       "</style>\n",
       "<table border=\"1\" class=\"dataframe\">\n",
       "  <thead>\n",
       "    <tr style=\"text-align: right;\">\n",
       "      <th></th>\n",
       "      <th>count</th>\n",
       "      <th>mean</th>\n",
       "      <th>std</th>\n",
       "      <th>min</th>\n",
       "      <th>25%</th>\n",
       "      <th>50%</th>\n",
       "      <th>75%</th>\n",
       "      <th>max</th>\n",
       "    </tr>\n",
       "  </thead>\n",
       "  <tbody>\n",
       "    <tr>\n",
       "      <th>MinTemp</th>\n",
       "      <td>95232.0</td>\n",
       "      <td>17.788103</td>\n",
       "      <td>8.339132</td>\n",
       "      <td>-38.333333</td>\n",
       "      <td>15.0</td>\n",
       "      <td>21.111111</td>\n",
       "      <td>23.333333</td>\n",
       "      <td>34.444444</td>\n",
       "    </tr>\n",
       "  </tbody>\n",
       "</table>\n",
       "</div>"
      ],
      "text/plain": [
       "           count       mean       std        min   25%        50%        75%  \\\n",
       "MinTemp  95232.0  17.788103  8.339132 -38.333333  15.0  21.111111  23.333333   \n",
       "\n",
       "               max  \n",
       "MinTemp  34.444444  "
      ]
     },
     "execution_count": 7,
     "metadata": {},
     "output_type": "execute_result"
    }
   ],
   "source": [
    "# Get Stats on Train Data\n",
    "train_stats = train_data.describe()\n",
    "train_stats.pop(\"MaxTemp\")\n",
    "train_stats = train_stats.transpose()\n",
    "train_stats"
   ]
  },
  {
   "cell_type": "code",
   "execution_count": 8,
   "metadata": {
    "execution": {
     "iopub.execute_input": "2020-08-10T23:08:41.135234Z",
     "iopub.status.busy": "2020-08-10T23:08:41.134162Z",
     "iopub.status.idle": "2020-08-10T23:08:41.139508Z",
     "shell.execute_reply": "2020-08-10T23:08:41.138832Z"
    },
    "papermill": {
     "duration": 0.020295,
     "end_time": "2020-08-10T23:08:41.139644",
     "exception": false,
     "start_time": "2020-08-10T23:08:41.119349",
     "status": "completed"
    },
    "tags": []
   },
   "outputs": [],
   "source": [
    "# Create Labels needed for TF model\n",
    "train_labels = train_data.pop('MaxTemp')\n",
    "test_labels = test_data.pop('MaxTemp')"
   ]
  },
  {
   "cell_type": "markdown",
   "execution_count": null,
   "metadata": {
    "papermill": {
     "duration": 0.008544,
     "end_time": "2020-08-10T23:08:41.157440",
     "exception": false,
     "start_time": "2020-08-10T23:08:41.148896",
     "status": "completed"
    },
    "tags": []
   },
   "source": [
    "### Normalize the Data"
   ]
  },
  {
   "cell_type": "code",
   "execution_count": 9,
   "metadata": {
    "execution": {
     "iopub.execute_input": "2020-08-10T23:08:41.181827Z",
     "iopub.status.busy": "2020-08-10T23:08:41.181049Z",
     "iopub.status.idle": "2020-08-10T23:08:41.212100Z",
     "shell.execute_reply": "2020-08-10T23:08:41.211323Z"
    },
    "papermill": {
     "duration": 0.046125,
     "end_time": "2020-08-10T23:08:41.212241",
     "exception": false,
     "start_time": "2020-08-10T23:08:41.166116",
     "status": "completed"
    },
    "tags": []
   },
   "outputs": [],
   "source": [
    "def norm(x):\n",
    "  return (x - train_stats['mean']) / train_stats['std']\n",
    "normed_train_data = norm(train_data)\n",
    "normed_test_data = norm(test_data)"
   ]
  },
  {
   "cell_type": "markdown",
   "execution_count": null,
   "metadata": {
    "papermill": {
     "duration": 0.008598,
     "end_time": "2020-08-10T23:08:41.229991",
     "exception": false,
     "start_time": "2020-08-10T23:08:41.221393",
     "status": "completed"
    },
    "tags": []
   },
   "source": [
    "### Model"
   ]
  },
  {
   "cell_type": "code",
   "execution_count": 10,
   "metadata": {
    "execution": {
     "iopub.execute_input": "2020-08-10T23:08:41.257197Z",
     "iopub.status.busy": "2020-08-10T23:08:41.256372Z",
     "iopub.status.idle": "2020-08-10T23:08:41.260077Z",
     "shell.execute_reply": "2020-08-10T23:08:41.259297Z"
    },
    "papermill": {
     "duration": 0.021303,
     "end_time": "2020-08-10T23:08:41.260205",
     "exception": false,
     "start_time": "2020-08-10T23:08:41.238902",
     "status": "completed"
    },
    "tags": []
   },
   "outputs": [],
   "source": [
    "def build_model():\n",
    "  model = tf.keras.Sequential([\n",
    "    layers.Dense(64, activation='relu', input_shape=[len(train_data.keys())]),\n",
    "    layers.Dense(64, activation='relu'),\n",
    "    layers.Dense(1)\n",
    "  ])\n",
    "\n",
    "  optimizer = tf.keras.optimizers.RMSprop(0.001)\n",
    "  model.compile(loss='mse',optimizer=optimizer, metrics=['mae', 'mse'])\n",
    "\n",
    "  return model"
   ]
  },
  {
   "cell_type": "code",
   "execution_count": 11,
   "metadata": {
    "execution": {
     "iopub.execute_input": "2020-08-10T23:08:41.284120Z",
     "iopub.status.busy": "2020-08-10T23:08:41.283297Z",
     "iopub.status.idle": "2020-08-10T23:08:41.435247Z",
     "shell.execute_reply": "2020-08-10T23:08:41.435886Z"
    },
    "papermill": {
     "duration": 0.166715,
     "end_time": "2020-08-10T23:08:41.436081",
     "exception": false,
     "start_time": "2020-08-10T23:08:41.269366",
     "status": "completed"
    },
    "tags": []
   },
   "outputs": [
    {
     "name": "stdout",
     "output_type": "stream",
     "text": [
      "Model: \"sequential\"\n",
      "_________________________________________________________________\n",
      "Layer (type)                 Output Shape              Param #   \n",
      "=================================================================\n",
      "dense (Dense)                (None, 64)                128       \n",
      "_________________________________________________________________\n",
      "dense_1 (Dense)              (None, 64)                4160      \n",
      "_________________________________________________________________\n",
      "dense_2 (Dense)              (None, 1)                 65        \n",
      "=================================================================\n",
      "Total params: 4,353\n",
      "Trainable params: 4,353\n",
      "Non-trainable params: 0\n",
      "_________________________________________________________________\n"
     ]
    }
   ],
   "source": [
    "model = build_model()\n",
    "model.summary()"
   ]
  },
  {
   "cell_type": "code",
   "execution_count": 12,
   "metadata": {
    "execution": {
     "iopub.execute_input": "2020-08-10T23:08:41.461432Z",
     "iopub.status.busy": "2020-08-10T23:08:41.460625Z",
     "iopub.status.idle": "2020-08-10T23:08:41.839810Z",
     "shell.execute_reply": "2020-08-10T23:08:41.839228Z"
    },
    "papermill": {
     "duration": 0.394834,
     "end_time": "2020-08-10T23:08:41.839952",
     "exception": false,
     "start_time": "2020-08-10T23:08:41.445118",
     "status": "completed"
    },
    "tags": []
   },
   "outputs": [
    {
     "data": {
      "text/plain": [
       "array([[0.00483985],\n",
       "       [0.02949737],\n",
       "       [0.02949737],\n",
       "       [0.07881238],\n",
       "       [0.08374392],\n",
       "       [0.0689494 ],\n",
       "       [0.04922338],\n",
       "       [0.00627643],\n",
       "       [0.00106222],\n",
       "       [0.03936039]], dtype=float32)"
      ]
     },
     "execution_count": 12,
     "metadata": {},
     "output_type": "execute_result"
    }
   ],
   "source": [
    "# Check an example\n",
    "example_batch = normed_train_data[:10]\n",
    "example_result = model.predict(example_batch)\n",
    "example_result"
   ]
  },
  {
   "cell_type": "code",
   "execution_count": 13,
   "metadata": {
    "execution": {
     "iopub.execute_input": "2020-08-10T23:08:41.866590Z",
     "iopub.status.busy": "2020-08-10T23:08:41.865807Z",
     "iopub.status.idle": "2020-08-10T23:09:38.651744Z",
     "shell.execute_reply": "2020-08-10T23:09:38.650957Z"
    },
    "papermill": {
     "duration": 56.802641,
     "end_time": "2020-08-10T23:09:38.651901",
     "exception": false,
     "start_time": "2020-08-10T23:08:41.849260",
     "status": "completed"
    },
    "tags": []
   },
   "outputs": [],
   "source": [
    "# Train the data\n",
    "# Added early stopping to avoid overfitting\n",
    "\n",
    "epochs = 25\n",
    "history = model.fit(normed_train_data, train_labels, epochs=epochs, validation_split = 0.2, \n",
    "                    verbose=0, \n",
    "                    callbacks=[tf.keras.callbacks.EarlyStopping(monitor='val_loss', patience=10)])"
   ]
  },
  {
   "cell_type": "code",
   "execution_count": 14,
   "metadata": {
    "execution": {
     "iopub.execute_input": "2020-08-10T23:09:38.691780Z",
     "iopub.status.busy": "2020-08-10T23:09:38.690802Z",
     "iopub.status.idle": "2020-08-10T23:09:38.696374Z",
     "shell.execute_reply": "2020-08-10T23:09:38.695633Z"
    },
    "papermill": {
     "duration": 0.034435,
     "end_time": "2020-08-10T23:09:38.696515",
     "exception": false,
     "start_time": "2020-08-10T23:09:38.662080",
     "status": "completed"
    },
    "tags": []
   },
   "outputs": [
    {
     "data": {
      "text/html": [
       "<div>\n",
       "<style scoped>\n",
       "    .dataframe tbody tr th:only-of-type {\n",
       "        vertical-align: middle;\n",
       "    }\n",
       "\n",
       "    .dataframe tbody tr th {\n",
       "        vertical-align: top;\n",
       "    }\n",
       "\n",
       "    .dataframe thead th {\n",
       "        text-align: right;\n",
       "    }\n",
       "</style>\n",
       "<table border=\"1\" class=\"dataframe\">\n",
       "  <thead>\n",
       "    <tr style=\"text-align: right;\">\n",
       "      <th></th>\n",
       "      <th>loss</th>\n",
       "      <th>mae</th>\n",
       "      <th>mse</th>\n",
       "      <th>val_loss</th>\n",
       "      <th>val_mae</th>\n",
       "      <th>val_mse</th>\n",
       "      <th>epoch</th>\n",
       "    </tr>\n",
       "  </thead>\n",
       "  <tbody>\n",
       "    <tr>\n",
       "      <th>14</th>\n",
       "      <td>14.943709</td>\n",
       "      <td>2.864796</td>\n",
       "      <td>14.943709</td>\n",
       "      <td>15.059136</td>\n",
       "      <td>2.791951</td>\n",
       "      <td>15.059136</td>\n",
       "      <td>14</td>\n",
       "    </tr>\n",
       "    <tr>\n",
       "      <th>15</th>\n",
       "      <td>14.948264</td>\n",
       "      <td>2.866306</td>\n",
       "      <td>14.948264</td>\n",
       "      <td>14.885531</td>\n",
       "      <td>2.788985</td>\n",
       "      <td>14.885531</td>\n",
       "      <td>15</td>\n",
       "    </tr>\n",
       "    <tr>\n",
       "      <th>16</th>\n",
       "      <td>14.936828</td>\n",
       "      <td>2.863028</td>\n",
       "      <td>14.936828</td>\n",
       "      <td>14.889458</td>\n",
       "      <td>2.822395</td>\n",
       "      <td>14.889458</td>\n",
       "      <td>16</td>\n",
       "    </tr>\n",
       "    <tr>\n",
       "      <th>17</th>\n",
       "      <td>14.946026</td>\n",
       "      <td>2.866702</td>\n",
       "      <td>14.946026</td>\n",
       "      <td>14.999647</td>\n",
       "      <td>2.815907</td>\n",
       "      <td>14.999647</td>\n",
       "      <td>17</td>\n",
       "    </tr>\n",
       "    <tr>\n",
       "      <th>18</th>\n",
       "      <td>14.935294</td>\n",
       "      <td>2.863553</td>\n",
       "      <td>14.935294</td>\n",
       "      <td>15.062008</td>\n",
       "      <td>2.806148</td>\n",
       "      <td>15.062008</td>\n",
       "      <td>18</td>\n",
       "    </tr>\n",
       "  </tbody>\n",
       "</table>\n",
       "</div>"
      ],
      "text/plain": [
       "         loss       mae        mse   val_loss   val_mae    val_mse  epoch\n",
       "14  14.943709  2.864796  14.943709  15.059136  2.791951  15.059136     14\n",
       "15  14.948264  2.866306  14.948264  14.885531  2.788985  14.885531     15\n",
       "16  14.936828  2.863028  14.936828  14.889458  2.822395  14.889458     16\n",
       "17  14.946026  2.866702  14.946026  14.999647  2.815907  14.999647     17\n",
       "18  14.935294  2.863553  14.935294  15.062008  2.806148  15.062008     18"
      ]
     },
     "execution_count": 14,
     "metadata": {},
     "output_type": "execute_result"
    }
   ],
   "source": [
    "hist = pd.DataFrame(history.history)\n",
    "hist['epoch'] = history.epoch\n",
    "hist.tail()"
   ]
  },
  {
   "cell_type": "markdown",
   "execution_count": null,
   "metadata": {
    "papermill": {
     "duration": 0.009304,
     "end_time": "2020-08-10T23:09:38.716523",
     "exception": false,
     "start_time": "2020-08-10T23:09:38.707219",
     "status": "completed"
    },
    "tags": []
   },
   "source": [
    "### Model Evaluation"
   ]
  },
  {
   "cell_type": "code",
   "execution_count": 15,
   "metadata": {
    "execution": {
     "iopub.execute_input": "2020-08-10T23:09:38.744710Z",
     "iopub.status.busy": "2020-08-10T23:09:38.743907Z",
     "iopub.status.idle": "2020-08-10T23:09:39.639911Z",
     "shell.execute_reply": "2020-08-10T23:09:39.640553Z"
    },
    "papermill": {
     "duration": 0.914431,
     "end_time": "2020-08-10T23:09:39.640730",
     "exception": false,
     "start_time": "2020-08-10T23:09:38.726299",
     "status": "completed"
    },
    "tags": []
   },
   "outputs": [
    {
     "data": {
      "image/png": "[encoded data removed]",
      "text/plain": [
       "<Figure size 432x288 with 1 Axes>"
      ]
     },
     "metadata": {
      "needs_background": "light"
     },
     "output_type": "display_data"
    }
   ],
   "source": [
    "test_predictions = model.predict(normed_test_data).flatten()\n",
    "\n",
    "a = plt.axes(aspect='equal')\n",
    "plt.scatter(test_labels, test_predictions)\n",
    "plt.xlabel('True Values [MaxTemp]')\n",
    "plt.ylabel('Predictions [MaxTemp]')\n",
    "lims = [0, 50]\n",
    "plt.xlim(lims)\n",
    "plt.ylim(lims)\n",
    "_ = plt.plot(lims, lims)"
   ]
  },
  {
   "cell_type": "code",
   "execution_count": 16,
   "metadata": {
    "execution": {
     "iopub.execute_input": "2020-08-10T23:09:39.674581Z",
     "iopub.status.busy": "2020-08-10T23:09:39.673285Z",
     "iopub.status.idle": "2020-08-10T23:09:39.905683Z",
     "shell.execute_reply": "2020-08-10T23:09:39.904884Z"
    },
    "papermill": {
     "duration": 0.253305,
     "end_time": "2020-08-10T23:09:39.905819",
     "exception": false,
     "start_time": "2020-08-10T23:09:39.652514",
     "status": "completed"
    },
    "tags": []
   },
   "outputs": [
    {
     "data": {
      "image/png": "[encoded data removed]",
      "text/plain": [
       "<Figure size 432x288 with 1 Axes>"
      ]
     },
     "metadata": {
      "needs_background": "light"
     },
     "output_type": "display_data"
    }
   ],
   "source": [
    "error = test_predictions - test_labels\n",
    "plt.hist(error, bins = 25)\n",
    "plt.xlabel(\"Prediction Error [Max Temp]\")\n",
    "_ = plt.ylabel(\"Count\")"
   ]
  },
  {
   "cell_type": "code",
   "execution_count": 17,
   "metadata": {
    "execution": {
     "iopub.execute_input": "2020-08-10T23:09:39.934164Z",
     "iopub.status.busy": "2020-08-10T23:09:39.932995Z",
     "iopub.status.idle": "2020-08-10T23:09:39.938728Z",
     "shell.execute_reply": "2020-08-10T23:09:39.937892Z"
    },
    "papermill": {
     "duration": 0.022309,
     "end_time": "2020-08-10T23:09:39.938877",
     "exception": false,
     "start_time": "2020-08-10T23:09:39.916568",
     "status": "completed"
    },
    "tags": []
   },
   "outputs": [
    {
     "name": "stdout",
     "output_type": "stream",
     "text": [
      "Root Mean Squared Error: 3.895836263995026\n"
     ]
    }
   ],
   "source": [
    "print('Root Mean Squared Error:', np.sqrt(metrics.mean_squared_error(test_labels, test_predictions)))"
   ]
  },
  {
   "cell_type": "markdown",
   "execution_count": null,
   "metadata": {
    "papermill": {
     "duration": 0.010564,
     "end_time": "2020-08-10T23:09:39.960004",
     "exception": false,
     "start_time": "2020-08-10T23:09:39.949440",
     "status": "completed"
    },
    "tags": []
   },
   "source": [
    "### Summary\n",
    "\n",
    "Here we saw a simple Linear Regression Model using Tensorflow. "
   ]
  }
 ],
 "metadata": {
  "kernelspec": {
   "display_name": "Python 3",
   "language": "python",
   "name": "python3"
  },
  "language_info": {
   "codemirror_mode": {
    "name": "ipython",
    "version": 3
   },
   "file_extension": ".py",
   "mimetype": "text/x-python",
   "name": "python",
   "nbconvert_exporter": "python",
   "pygments_lexer": "ipython3",
   "version": "3.7.6"
  },
  "papermill": {
   "duration": 75.883351,
   "end_time": "2020-08-10T23:09:40.079458",
   "environment_variables": {},
   "exception": null,
   "input_path": "__notebook__.ipynb",
   "output_path": "__notebook__.ipynb",
   "parameters": {},
   "start_time": "2020-08-10T23:08:24.196107",
   "version": "2.1.0"
  }
 },
 "nbformat": 4,
 "nbformat_minor": 4
}
