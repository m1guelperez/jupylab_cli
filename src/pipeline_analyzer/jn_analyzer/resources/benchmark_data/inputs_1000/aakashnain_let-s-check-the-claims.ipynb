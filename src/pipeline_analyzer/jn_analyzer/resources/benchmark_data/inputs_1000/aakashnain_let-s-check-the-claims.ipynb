{
 "cells": [
  {
   "cell_type": "code",
   "execution_count": 1,
   "metadata": {
    "_cell_guid": "66f26e2b-2cc9-4103-954f-767d615398bd",
    "_uuid": "197b151ae9b22172bc4033744a8d275ec8b70f96"
   },
   "outputs": [
    {
     "name": "stdout",
     "output_type": "stream",
     "text": [
      "tsa_claims.csv\n",
      "\n"
     ]
    }
   ],
   "source": [
    "# This Python 3 environment comes with many helpful analytics libraries installed\n",
    "# It is defined by the kaggle/python docker image: https://github.com/kaggle/docker-python\n",
    "# For example, here's several helpful packages to load in \n",
    "import warnings\n",
    "warnings.filterwarnings('ignore')\n",
    "\n",
    "import os\n",
    "import glob\n",
    "import numpy as np # linear algebra\n",
    "import pandas as pd # data processing, CSV file I/O (e.g. pd.read_csv)\n",
    "import matplotlib.pyplot as plt\n",
    "import seaborn as sns\n",
    "color = sns.color_palette()\n",
    "%matplotlib inline\n",
    "# Input data files are available in the \"../input/\" directory.\n",
    "# For example, running this (by clicking run or pressing Shift+Enter) will list the files in the input directory\n",
    "\n",
    "from subprocess import check_output\n",
    "print(check_output([\"ls\", \"../input\"]).decode(\"utf8\"))\n",
    "\n",
    "# Any results you write to the current directory are saved as output."
   ]
  },
  {
   "cell_type": "code",
   "execution_count": 2,
   "metadata": {
    "_cell_guid": "486c9c18-c473-4c79-b2b1-1b6b153cab68",
    "_uuid": "b0bad53d78b0323676d5a1e85be2b8519af5bde1"
   },
   "outputs": [
    {
     "name": "stdout",
     "output_type": "stream",
     "text": [
      "Number of samples in the data  :  204267\n",
      "Columns in the dataset  :  ['Claim Number', 'Date Received', 'Incident Date', 'Airport Code', 'Airport Name', 'Airline Name', 'Claim Type', 'Claim Site', 'Item', 'Claim Amount', 'Status', 'Close Amount', 'Disposition']\n",
      " \n"
     ]
    },
    {
     "data": {
      "text/html": [
       "<div>\n",
       "<style>\n",
       "    .dataframe thead tr:only-child th {\n",
       "        text-align: right;\n",
       "    }\n",
       "\n",
       "    .dataframe thead th {\n",
       "        text-align: left;\n",
       "    }\n",
       "\n",
       "    .dataframe tbody tr th {\n",
       "        vertical-align: top;\n",
       "    }\n",
       "</style>\n",
       "<table border=\"1\" class=\"dataframe\">\n",
       "  <thead>\n",
       "    <tr style=\"text-align: right;\">\n",
       "      <th></th>\n",
       "      <th>Claim Number</th>\n",
       "      <th>Date Received</th>\n",
       "      <th>Incident Date</th>\n",
       "      <th>Airport Code</th>\n",
       "      <th>Airport Name</th>\n",
       "      <th>Airline Name</th>\n",
       "      <th>Claim Type</th>\n",
       "      <th>Claim Site</th>\n",
       "      <th>Item</th>\n",
       "      <th>Claim Amount</th>\n",
       "      <th>Status</th>\n",
       "      <th>Close Amount</th>\n",
       "      <th>Disposition</th>\n",
       "    </tr>\n",
       "  </thead>\n",
       "  <tbody>\n",
       "    <tr>\n",
       "      <th>0</th>\n",
       "      <td>0909802M</td>\n",
       "      <td>4-Jan-02</td>\n",
       "      <td>12/12/2002 0:00</td>\n",
       "      <td>EWR</td>\n",
       "      <td>Newark International Airport</td>\n",
       "      <td>Continental Airlines</td>\n",
       "      <td>Property Damage</td>\n",
       "      <td>Checkpoint</td>\n",
       "      <td>Other</td>\n",
       "      <td>$350.00</td>\n",
       "      <td>Approved</td>\n",
       "      <td>$350.00</td>\n",
       "      <td>Approve in Full</td>\n",
       "    </tr>\n",
       "    <tr>\n",
       "      <th>1</th>\n",
       "      <td>0202417M</td>\n",
       "      <td>2-Feb-02</td>\n",
       "      <td>1/16/2004 0:00</td>\n",
       "      <td>SEA</td>\n",
       "      <td>Seattle-Tacoma International</td>\n",
       "      <td>NaN</td>\n",
       "      <td>Property Damage</td>\n",
       "      <td>Checked Baggage</td>\n",
       "      <td>Luggage (all types including footlockers)</td>\n",
       "      <td>$100.00</td>\n",
       "      <td>Settled</td>\n",
       "      <td>$50.00</td>\n",
       "      <td>Settle</td>\n",
       "    </tr>\n",
       "    <tr>\n",
       "      <th>2</th>\n",
       "      <td>0202445M</td>\n",
       "      <td>4-Feb-02</td>\n",
       "      <td>11/26/2003 0:00</td>\n",
       "      <td>STL</td>\n",
       "      <td>Lambert St. Louis International</td>\n",
       "      <td>American Airlines</td>\n",
       "      <td>Property Damage</td>\n",
       "      <td>Checked Baggage</td>\n",
       "      <td>Cell Phones</td>\n",
       "      <td>$278.88</td>\n",
       "      <td>Settled</td>\n",
       "      <td>$227.92</td>\n",
       "      <td>Settle</td>\n",
       "    </tr>\n",
       "    <tr>\n",
       "      <th>3</th>\n",
       "      <td>0909816M</td>\n",
       "      <td>7-Feb-02</td>\n",
       "      <td>1/6/2003 0:00</td>\n",
       "      <td>MIA</td>\n",
       "      <td>Miami International Airport</td>\n",
       "      <td>American Airlines</td>\n",
       "      <td>Property Damage</td>\n",
       "      <td>Checkpoint</td>\n",
       "      <td>Luggage (all types including footlockers)</td>\n",
       "      <td>$50.00</td>\n",
       "      <td>Approved</td>\n",
       "      <td>$50.00</td>\n",
       "      <td>Approve in Full</td>\n",
       "    </tr>\n",
       "    <tr>\n",
       "      <th>4</th>\n",
       "      <td>2005032379513</td>\n",
       "      <td>18-Feb-02</td>\n",
       "      <td>2/5/2005 0:00</td>\n",
       "      <td>MCO</td>\n",
       "      <td>Orlando International Airport</td>\n",
       "      <td>Delta (Song)</td>\n",
       "      <td>Property Damage</td>\n",
       "      <td>Checkpoint</td>\n",
       "      <td>Baby - Strollers; car seats; playpen; etc.</td>\n",
       "      <td>$84.79</td>\n",
       "      <td>Approved</td>\n",
       "      <td>$84.79</td>\n",
       "      <td>Approve in Full</td>\n",
       "    </tr>\n",
       "  </tbody>\n",
       "</table>\n",
       "</div>"
      ],
      "text/plain": [
       "    Claim Number Date Received    Incident Date Airport Code  \\\n",
       "0       0909802M      4-Jan-02  12/12/2002 0:00          EWR   \n",
       "1       0202417M      2-Feb-02   1/16/2004 0:00          SEA   \n",
       "2       0202445M      4-Feb-02  11/26/2003 0:00          STL   \n",
       "3       0909816M      7-Feb-02    1/6/2003 0:00          MIA   \n",
       "4  2005032379513     18-Feb-02    2/5/2005 0:00          MCO   \n",
       "\n",
       "                      Airport Name          Airline Name       Claim Type  \\\n",
       "0     Newark International Airport  Continental Airlines  Property Damage   \n",
       "1     Seattle-Tacoma International                   NaN  Property Damage   \n",
       "2  Lambert St. Louis International     American Airlines  Property Damage   \n",
       "3      Miami International Airport     American Airlines  Property Damage   \n",
       "4    Orlando International Airport          Delta (Song)  Property Damage   \n",
       "\n",
       "        Claim Site                                        Item Claim Amount  \\\n",
       "0       Checkpoint                                       Other     $350.00    \n",
       "1  Checked Baggage   Luggage (all types including footlockers)     $100.00    \n",
       "2  Checked Baggage                                 Cell Phones     $278.88    \n",
       "3       Checkpoint   Luggage (all types including footlockers)      $50.00    \n",
       "4       Checkpoint  Baby - Strollers; car seats; playpen; etc.      $84.79    \n",
       "\n",
       "     Status Close Amount      Disposition  \n",
       "0  Approved     $350.00   Approve in Full  \n",
       "1   Settled      $50.00            Settle  \n",
       "2   Settled     $227.92            Settle  \n",
       "3  Approved      $50.00   Approve in Full  \n",
       "4  Approved      $84.79   Approve in Full  "
      ]
     },
     "execution_count": 2,
     "metadata": {},
     "output_type": "execute_result"
    }
   ],
   "source": [
    "# Let's look at the data first\n",
    "data = pd.read_csv('../input/tsa_claims.csv')\n",
    "print(\"Number of samples in the data  : \", data.shape[0])\n",
    "print(\"Columns in the dataset  : \", list(data.columns))\n",
    "print(\" \")\n",
    "data.head()"
   ]
  },
  {
   "cell_type": "code",
   "execution_count": 3,
   "metadata": {
    "_cell_guid": "666c124c-f74f-4ca0-8940-c90b41a9686a",
    "_uuid": "7e810837e3ccdde4dbe48f650763a597dd24493c"
   },
   "outputs": [
    {
     "name": "stdout",
     "output_type": "stream",
     "text": [
      "<class 'pandas.core.frame.DataFrame'>\n",
      "RangeIndex: 204267 entries, 0 to 204266\n",
      "Data columns (total 13 columns):\n",
      "Claim Number     204267 non-null object\n",
      "Date Received    204004 non-null object\n",
      "Incident Date    202084 non-null object\n",
      "Airport Code     195743 non-null object\n",
      "Airport Name     195743 non-null object\n",
      "Airline Name     169893 non-null object\n",
      "Claim Type       196354 non-null object\n",
      "Claim Site       203527 non-null object\n",
      "Item             200301 non-null object\n",
      "Claim Amount     200224 non-null object\n",
      "Status           204262 non-null object\n",
      "Close Amount     135315 non-null object\n",
      "Disposition      131359 non-null object\n",
      "dtypes: object(13)\n",
      "memory usage: 20.3+ MB\n"
     ]
    }
   ],
   "source": [
    "# Let's have an overview of the dataset\n",
    "data.info()"
   ]
  },
  {
   "cell_type": "code",
   "execution_count": 4,
   "metadata": {
    "_cell_guid": "5ec81f6c-ee45-45bf-b6f2-b04206ef1ad2",
    "_uuid": "f29deaf205be9d4d5d0cca2cb703f3b2851272c8"
   },
   "outputs": [
    {
     "data": {
      "text/plain": [
       "Claim Number         0\n",
       "Date Received      263\n",
       "Incident Date     2183\n",
       "Airport Code      8524\n",
       "Airport Name      8524\n",
       "Airline Name     34374\n",
       "Claim Type        7913\n",
       "Claim Site         740\n",
       "Item              3966\n",
       "Claim Amount      4043\n",
       "Status               5\n",
       "Close Amount     68952\n",
       "Disposition      72908\n",
       "dtype: int64"
      ]
     },
     "execution_count": 4,
     "metadata": {},
     "output_type": "execute_result"
    }
   ],
   "source": [
    "# Check for NaN or null values in the dataset\n",
    "data.isnull().sum()"
   ]
  },
  {
   "cell_type": "markdown",
   "metadata": {
    "_cell_guid": "b68e9b7a-a2a4-4383-bfd6-0b9c11b1b95d",
    "_uuid": "57f2f8b9c84874b09cc12c4c9db81b95e1c67309"
   },
   "source": [
    "This dataset is a disaster in terms of quality. Too many null values along with some other things like - and ;"
   ]
  },
  {
   "cell_type": "code",
   "execution_count": 5,
   "metadata": {
    "_cell_guid": "07d7cf63-1a9b-490e-bee4-b468d3471509",
    "_uuid": "81658c2b44336b41eb781ab91412c78e75bb22de"
   },
   "outputs": [
    {
     "name": "stdout",
     "output_type": "stream",
     "text": [
      "Total number of unique airport codes :  465\n",
      "Maximun number of times an airport has been reported :  9596\n",
      "Airport code where maximum number of incidents happened :  LAX\n",
      "Least number of incidents that has happened on any airport :  1\n",
      "Airport code where least number of incidents has happened:  UNK\n",
      "Average number of incidents that happened over the period of time :  420\n"
     ]
    }
   ],
   "source": [
    "# We will start with Airport code column first\n",
    "codes = data['Airport Code'].value_counts()\n",
    "print(\"Total number of unique airport codes : \", len(codes))\n",
    "print(\"Maximun number of times an airport has been reported : \", codes.values.max())\n",
    "print(\"Airport code where maximum number of incidents happened : \", codes.index[codes.values == codes.values.max()].tolist()[0])\n",
    "print(\"Least number of incidents that has happened on any airport : \", codes.values.min())\n",
    "print(\"Airport code where least number of incidents has happened: \", codes.index[codes.values == codes.values.min()].tolist()[0])\n",
    "print(\"Average number of incidents that happened over the period of time : \", int(codes.values.mean()))"
   ]
  },
  {
   "cell_type": "code",
   "execution_count": 6,
   "metadata": {
    "_cell_guid": "9ff6c5c0-5639-4bd9-a551-b4747573b63a",
    "_uuid": "f7dbc7bbb3a1822e0527b64963959ec469675e96"
   },
   "outputs": [
    {
     "name": "stdout",
     "output_type": "stream",
     "text": [
      "Airport name with maximum number of incidents :  Los Angeles International Airport\n",
      "Airport name with minimum number of incidents :  Adak Mitchell Field Airport\n"
     ]
    }
   ],
   "source": [
    "# Get the names of the airports with minimum and maximum number of incidents happened\n",
    "print(\"Airport name with maximum number of incidents : \", list(data['Airport Name'][data['Airport Code'] =='LAX'])[0])\n",
    "print(\"Airport name with minimum number of incidents : \", list(data['Airport Name'][data['Airport Code'] =='ADK'])[0])"
   ]
  },
  {
   "cell_type": "code",
   "execution_count": 7,
   "metadata": {
    "_cell_guid": "cc1aa756-6b08-4af8-b4e0-72a8595d303c",
    "_uuid": "913a8cfb2a5bc70c10745cf0fd684f65de9751f0"
   },
   "outputs": [
    {
     "name": "stdout",
     "output_type": "stream",
     "text": [
      "Total number of different claims :  11\n"
     ]
    }
   ],
   "source": [
    "# Let's move to the claim type column\n",
    "unique_claim_type = data['Claim Type'].value_counts()\n",
    "print(\"Total number of different claims : \", len(unique_claim_type))"
   ]
  },
  {
   "cell_type": "code",
   "execution_count": 8,
   "metadata": {
    "_cell_guid": "72a3ba9f-c13c-4468-a4eb-8e40736b246d",
    "_uuid": "b2a99d674abcb2b5ffb586692633a9c0287effd6"
   },
   "outputs": [
    {
     "data": {
      "image/png": "[encoded data removed]",
      "text/plain": [
       "<matplotlib.figure.Figure at 0x7fe26bdc0b00>"
      ]
     },
     "metadata": {},
     "output_type": "display_data"
    }
   ],
   "source": [
    "# Let's visualize these claims along with the numbers they have been reported\n",
    "claim_index = unique_claim_type.index\n",
    "claim_values = unique_claim_type.values\n",
    "\n",
    "plt.figure(figsize=(20,10))\n",
    "sns.barplot(y=claim_index, x=claim_values, orient='horizontal')\n",
    "plt.xlabel('Claim type', fontsize=14)\n",
    "plt.ylabel('Count', fontsize=14)\n",
    "plt.xticks(fontsize=16)\n",
    "plt.yticks(fontsize=16)\n",
    "plt.show()"
   ]
  },
  {
   "cell_type": "markdown",
   "metadata": {
    "_cell_guid": "fd11d591-85d8-4455-8537-fd6e863001ad",
    "_uuid": "8457b8553af1a8789922e6b158cb2bf4107a8c9c"
   },
   "source": [
    "So, property loss is the most common type of thing that happens on the airport. I don't get it how but it seems that there are too many propoerty damage cases too. "
   ]
  },
  {
   "cell_type": "code",
   "execution_count": 9,
   "metadata": {
    "_cell_guid": "9e91f841-d651-464c-aa37-ae0da3858b04",
    "_uuid": "6e7714f1cb32b63e0749a7b853170625792e1279"
   },
   "outputs": [
    {
     "name": "stdout",
     "output_type": "stream",
     "text": [
      "Total number of unique claim sites :  6\n"
     ]
    }
   ],
   "source": [
    "# Let's move to the claim site\n",
    "unique_claim_sites = data['Claim Site'].value_counts()\n",
    "print(\"Total number of unique claim sites : \", len(unique_claim_sites))"
   ]
  },
  {
   "cell_type": "code",
   "execution_count": 10,
   "metadata": {
    "_cell_guid": "d97baef8-2bf3-40e5-9f65-03f6c38972fc",
    "_uuid": "684c3cced5272e3b5f14ee69d89cea51dabda9e4"
   },
   "outputs": [
    {
     "data": {
      "image/png": "[encoded data removed]",
      "text/plain": [
       "<matplotlib.figure.Figure at 0x7fe26bce1f60>"
      ]
     },
     "metadata": {},
     "output_type": "display_data"
    }
   ],
   "source": [
    "# Let's visualize the actual number of instances for each class of claim site\n",
    "x = unique_claim_sites.index\n",
    "y = unique_claim_sites.values\n",
    "\n",
    "f = plt.figure(figsize=(20,10))\n",
    "sns.barplot(x, y)\n",
    "plt.xlabel('Claim site')\n",
    "plt.ylabel('Count')\n",
    "plt.xticks(fontsize=14)\n",
    "plt.yticks(fontsize=14)\n",
    "plt.show()"
   ]
  },
  {
   "cell_type": "markdown",
   "metadata": {},
   "source": [
    "So checked baggage and checkpoint are the sites where maximum incidents happen"
   ]
  },
  {
   "cell_type": "code",
   "execution_count": 11,
   "metadata": {
    "collapsed": true
   },
   "outputs": [],
   "source": [
    "# Let's move to the date columns for now. There are too many null values. Converting the column to datetime without\n",
    "# removing them may produce undesirable results. Will be happy to see some good\n",
    "# solution to it\n",
    "data['Date Received'] = pd.to_datetime(data['Date Received'])\n",
    "data['Received day'] = data['Date Received'].dt.weekday\n",
    "data['Received month'] = data['Date Received'].dt.month"
   ]
  },
  {
   "cell_type": "code",
   "execution_count": 12,
   "metadata": {},
   "outputs": [
    {
     "data": {
      "image/png": "[encoded data removed]",
      "text/plain": [
       "<matplotlib.figure.Figure at 0x7fe26bb69128>"
      ]
     },
     "metadata": {},
     "output_type": "display_data"
    }
   ],
   "source": [
    "# Check the number of claims on different days\n",
    "claims_count = data['Received day'].value_counts()\n",
    "\n",
    "plt.figure(figsize=(20,10))\n",
    "sns.barplot(claims_count.index, claims_count.values)\n",
    "plt.xlabel('Day of the week')\n",
    "plt.ylabel('Claims count')\n",
    "plt.xticks(range(7), ['Sun', 'Mon', 'Tues', 'Wed', 'Thu', 'Fri', 'Sat'])\n",
    "plt.yticks(fontsize=14)\n",
    "plt.show()"
   ]
  },
  {
   "cell_type": "markdown",
   "metadata": {},
   "source": [
    "so, maximum claims happens to be on Monday followed by Sunday and Tuesday. Why is it so? Remeber the number of claims regarding property loss? Maybe because people travel on weekens a lot."
   ]
  },
  {
   "cell_type": "code",
   "execution_count": 13,
   "metadata": {},
   "outputs": [
    {
     "data": {
      "image/png": "[encoded data removed]",
      "text/plain": [
       "<matplotlib.figure.Figure at 0x7fe26bc01748>"
      ]
     },
     "metadata": {},
     "output_type": "display_data"
    }
   ],
   "source": [
    "claims_count = data['Received month'].value_counts()\n",
    "months = ['Jan', 'Feb', 'March', 'April', 'May', 'June', 'July', 'Aug', 'Sep', 'Oct', 'Nov', 'Dec']\n",
    "\n",
    "plt.figure(figsize=(20,10))\n",
    "sns.barplot(claims_count.index, claims_count.values)\n",
    "plt.xlabel('Month')\n",
    "plt.ylabel('Claims count')\n",
    "plt.xticks(range(12), months, fontsize=14)\n",
    "plt.yticks(fontsize=12)\n",
    "plt.show()"
   ]
  },
  {
   "cell_type": "markdown",
   "metadata": {},
   "source": [
    "So January and August are the months where maximum number of claim reports are received\n",
    "\n",
    "The date columns are so much messed up. There is so much of noise that I can't think of something good right now to filter them. Let's move to the next feature"
   ]
  },
  {
   "cell_type": "code",
   "execution_count": 14,
   "metadata": {
    "collapsed": true
   },
   "outputs": [],
   "source": [
    "def split_amount(x):\n",
    "    try:\n",
    "        if x is not None:\n",
    "            a = x.split('$')[1]\n",
    "            if ';' in a:\n",
    "                b,c = a.split(';')\n",
    "                return eval(b + c)\n",
    "            return eval(a)\n",
    "    except:\n",
    "        return 0"
   ]
  },
  {
   "cell_type": "code",
   "execution_count": 15,
   "metadata": {},
   "outputs": [
    {
     "name": "stdout",
     "output_type": "stream",
     "text": [
      "Maximum amount claimed :  951200.0\n",
      "Average amount claimed :  664.1886971463506\n"
     ]
    }
   ],
   "source": [
    "data['Claim Amount'] = data['Claim Amount'].apply(split_amount)\n",
    "print(\"Maximum amount claimed : \", data['Claim Amount'].max())\n",
    "print(\"Average amount claimed : \", data['Claim Amount'].mean())"
   ]
  },
  {
   "cell_type": "code",
   "execution_count": 16,
   "metadata": {},
   "outputs": [
    {
     "name": "stdout",
     "output_type": "stream",
     "text": [
      "Maximum closed amount  :  250000.0\n",
      "Average closed amount  :  65.11366745485391\n"
     ]
    }
   ],
   "source": [
    "data['Close Amount'] = data['Close Amount'].apply(split_amount)\n",
    "print(\"Maximum closed amount  : \", data['Close Amount'].max())\n",
    "print(\"Average closed amount  : \", data['Close Amount'].mean())"
   ]
  },
  {
   "cell_type": "code",
   "execution_count": 17,
   "metadata": {},
   "outputs": [
    {
     "data": {
      "image/png": "[encoded data removed]",
      "text/plain": [
       "<matplotlib.figure.Figure at 0x7fe26bba5668>"
      ]
     },
     "metadata": {},
     "output_type": "display_data"
    }
   ],
   "source": [
    "# Let's move to the disposition column finally\n",
    "dispos = data['Disposition'].value_counts()\n",
    "\n",
    "plt.figure(figsize=(10,5))\n",
    "sns.barplot(dispos.index, dispos.values)\n",
    "plt.xlabel('Disposition')\n",
    "plt.ylabel('Count')\n",
    "plt.xticks(fontsize=14)\n",
    "plt.yticks(fontsize=14)\n",
    "plt.show()"
   ]
  },
  {
   "cell_type": "markdown",
   "metadata": {},
   "source": [
    "That's it for now. The data contains too much of noise which requires some time to come up with some good techniques to filter that. Will get back to it later. Please upvote if you find this kernel useful."
   ]
  },
  {
   "cell_type": "code",
   "execution_count": 18,
   "metadata": {
    "collapsed": true
   },
   "outputs": [],
   "source": []
  }
 ],
 "metadata": {
  "kernelspec": {
   "display_name": "Python 3",
   "language": "python",
   "name": "python3"
  },
  "language_info": {
   "codemirror_mode": {
    "name": "ipython",
    "version": 3
   },
   "file_extension": ".py",
   "mimetype": "text/x-python",
   "name": "python",
   "nbconvert_exporter": "python",
   "pygments_lexer": "ipython3",
   "version": "3.6.1"
  }
 },
 "nbformat": 4,
 "nbformat_minor": 1
}
