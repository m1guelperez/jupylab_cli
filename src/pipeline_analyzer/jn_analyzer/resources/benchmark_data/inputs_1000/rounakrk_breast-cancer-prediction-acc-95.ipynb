{
 "cells": [
  {
   "cell_type": "code",
   "execution_count": 1,
   "metadata": {
    "_cell_guid": "b1076dfc-b9ad-4769-8c92-a6c4dae69d19",
    "_uuid": "8f2839f25d086af736a60e9eeb907d3b93b6e0e5",
    "execution": {
     "iopub.execute_input": "2020-10-13T14:30:30.043597Z",
     "iopub.status.busy": "2020-10-13T14:30:30.042831Z",
     "iopub.status.idle": "2020-10-13T14:30:30.051518Z",
     "shell.execute_reply": "2020-10-13T14:30:30.050814Z"
    },
    "papermill": {
     "duration": 0.033416,
     "end_time": "2020-10-13T14:30:30.051668",
     "exception": false,
     "start_time": "2020-10-13T14:30:30.018252",
     "status": "completed"
    },
    "tags": []
   },
   "outputs": [
    {
     "name": "stdout",
     "output_type": "stream",
     "text": [
      "/kaggle/input/breastcancer-dataset/data.csv\n"
     ]
    }
   ],
   "source": [
    "# This Python 3 environment comes with many helpful analytics libraries installed\n",
    "# It is defined by the kaggle/python Docker image: https://github.com/kaggle/docker-python\n",
    "# For example, here's several helpful packages to load\n",
    "\n",
    "import numpy as np # linear algebra\n",
    "import pandas as pd # data processing, CSV file I/O (e.g. pd.read_csv)\n",
    "\n",
    "# Input data files are available in the read-only \"../input/\" directory\n",
    "# For example, running this (by clicking run or pressing Shift+Enter) will list all files under the input directory\n",
    "\n",
    "import os\n",
    "for dirname, _, filenames in os.walk('/kaggle/input'):\n",
    "    for filename in filenames:\n",
    "        print(os.path.join(dirname, filename))\n",
    "\n",
    "# You can write up to 5GB to the current directory (/kaggle/working/) that gets preserved as output when you create a version using \"Save & Run All\" \n",
    "# You can also write temporary files to /kaggle/temp/, but they won't be saved outside of the current session"
   ]
  },
  {
   "cell_type": "markdown",
   "metadata": {
    "papermill": {
     "duration": 0.016357,
     "end_time": "2020-10-13T14:30:30.085588",
     "exception": false,
     "start_time": "2020-10-13T14:30:30.069231",
     "status": "completed"
    },
    "tags": []
   },
   "source": [
    "# Importing of necessary libraries."
   ]
  },
  {
   "cell_type": "code",
   "execution_count": 2,
   "metadata": {
    "execution": {
     "iopub.execute_input": "2020-10-13T14:30:30.131332Z",
     "iopub.status.busy": "2020-10-13T14:30:30.130549Z",
     "iopub.status.idle": "2020-10-13T14:30:37.020500Z",
     "shell.execute_reply": "2020-10-13T14:30:37.019718Z"
    },
    "papermill": {
     "duration": 6.918284,
     "end_time": "2020-10-13T14:30:37.020625",
     "exception": false,
     "start_time": "2020-10-13T14:30:30.102341",
     "status": "completed"
    },
    "tags": []
   },
   "outputs": [],
   "source": [
    "import tensorflow as tf\n",
    "from tensorflow import keras\n",
    "\n",
    "from tensorflow.keras import Sequential\n",
    "from tensorflow.keras.layers import Flatten, Dense, Dropout, BatchNormalization, Conv1D, MaxPool1D\n",
    "from tensorflow.keras.optimizers import Adam\n",
    "\n",
    "import matplotlib.pyplot as plt\n",
    "%matplotlib inline\n",
    "\n",
    "from sklearn.model_selection import train_test_split\n",
    "from sklearn.preprocessing import StandardScaler"
   ]
  },
  {
   "cell_type": "code",
   "execution_count": 3,
   "metadata": {
    "_cell_guid": "79c7e3d0-c299-4dcb-8224-4455121ee9b0",
    "_uuid": "d629ff2d2480ee46fbb7e2d37f6b5fab8052498a",
    "execution": {
     "iopub.execute_input": "2020-10-13T14:30:37.063928Z",
     "iopub.status.busy": "2020-10-13T14:30:37.063157Z",
     "iopub.status.idle": "2020-10-13T14:30:37.125383Z",
     "shell.execute_reply": "2020-10-13T14:30:37.124681Z"
    },
    "papermill": {
     "duration": 0.087772,
     "end_time": "2020-10-13T14:30:37.125507",
     "exception": false,
     "start_time": "2020-10-13T14:30:37.037735",
     "status": "completed"
    },
    "tags": []
   },
   "outputs": [
    {
     "data": {
      "text/html": [
       "<div>\n",
       "<style scoped>\n",
       "    .dataframe tbody tr th:only-of-type {\n",
       "        vertical-align: middle;\n",
       "    }\n",
       "\n",
       "    .dataframe tbody tr th {\n",
       "        vertical-align: top;\n",
       "    }\n",
       "\n",
       "    .dataframe thead th {\n",
       "        text-align: right;\n",
       "    }\n",
       "</style>\n",
       "<table border=\"1\" class=\"dataframe\">\n",
       "  <thead>\n",
       "    <tr style=\"text-align: right;\">\n",
       "      <th></th>\n",
       "      <th>id</th>\n",
       "      <th>diagnosis</th>\n",
       "      <th>radius_mean</th>\n",
       "      <th>texture_mean</th>\n",
       "      <th>perimeter_mean</th>\n",
       "      <th>area_mean</th>\n",
       "      <th>smoothness_mean</th>\n",
       "      <th>compactness_mean</th>\n",
       "      <th>concavity_mean</th>\n",
       "      <th>concave points_mean</th>\n",
       "      <th>...</th>\n",
       "      <th>texture_worst</th>\n",
       "      <th>perimeter_worst</th>\n",
       "      <th>area_worst</th>\n",
       "      <th>smoothness_worst</th>\n",
       "      <th>compactness_worst</th>\n",
       "      <th>concavity_worst</th>\n",
       "      <th>concave points_worst</th>\n",
       "      <th>symmetry_worst</th>\n",
       "      <th>fractal_dimension_worst</th>\n",
       "      <th>Unnamed: 32</th>\n",
       "    </tr>\n",
       "  </thead>\n",
       "  <tbody>\n",
       "    <tr>\n",
       "      <th>0</th>\n",
       "      <td>842302</td>\n",
       "      <td>M</td>\n",
       "      <td>17.99</td>\n",
       "      <td>10.38</td>\n",
       "      <td>122.80</td>\n",
       "      <td>1001.0</td>\n",
       "      <td>0.11840</td>\n",
       "      <td>0.27760</td>\n",
       "      <td>0.3001</td>\n",
       "      <td>0.14710</td>\n",
       "      <td>...</td>\n",
       "      <td>17.33</td>\n",
       "      <td>184.60</td>\n",
       "      <td>2019.0</td>\n",
       "      <td>0.1622</td>\n",
       "      <td>0.6656</td>\n",
       "      <td>0.7119</td>\n",
       "      <td>0.2654</td>\n",
       "      <td>0.4601</td>\n",
       "      <td>0.11890</td>\n",
       "      <td>NaN</td>\n",
       "    </tr>\n",
       "    <tr>\n",
       "      <th>1</th>\n",
       "      <td>842517</td>\n",
       "      <td>M</td>\n",
       "      <td>20.57</td>\n",
       "      <td>17.77</td>\n",
       "      <td>132.90</td>\n",
       "      <td>1326.0</td>\n",
       "      <td>0.08474</td>\n",
       "      <td>0.07864</td>\n",
       "      <td>0.0869</td>\n",
       "      <td>0.07017</td>\n",
       "      <td>...</td>\n",
       "      <td>23.41</td>\n",
       "      <td>158.80</td>\n",
       "      <td>1956.0</td>\n",
       "      <td>0.1238</td>\n",
       "      <td>0.1866</td>\n",
       "      <td>0.2416</td>\n",
       "      <td>0.1860</td>\n",
       "      <td>0.2750</td>\n",
       "      <td>0.08902</td>\n",
       "      <td>NaN</td>\n",
       "    </tr>\n",
       "    <tr>\n",
       "      <th>2</th>\n",
       "      <td>84300903</td>\n",
       "      <td>M</td>\n",
       "      <td>19.69</td>\n",
       "      <td>21.25</td>\n",
       "      <td>130.00</td>\n",
       "      <td>1203.0</td>\n",
       "      <td>0.10960</td>\n",
       "      <td>0.15990</td>\n",
       "      <td>0.1974</td>\n",
       "      <td>0.12790</td>\n",
       "      <td>...</td>\n",
       "      <td>25.53</td>\n",
       "      <td>152.50</td>\n",
       "      <td>1709.0</td>\n",
       "      <td>0.1444</td>\n",
       "      <td>0.4245</td>\n",
       "      <td>0.4504</td>\n",
       "      <td>0.2430</td>\n",
       "      <td>0.3613</td>\n",
       "      <td>0.08758</td>\n",
       "      <td>NaN</td>\n",
       "    </tr>\n",
       "    <tr>\n",
       "      <th>3</th>\n",
       "      <td>84348301</td>\n",
       "      <td>M</td>\n",
       "      <td>11.42</td>\n",
       "      <td>20.38</td>\n",
       "      <td>77.58</td>\n",
       "      <td>386.1</td>\n",
       "      <td>0.14250</td>\n",
       "      <td>0.28390</td>\n",
       "      <td>0.2414</td>\n",
       "      <td>0.10520</td>\n",
       "      <td>...</td>\n",
       "      <td>26.50</td>\n",
       "      <td>98.87</td>\n",
       "      <td>567.7</td>\n",
       "      <td>0.2098</td>\n",
       "      <td>0.8663</td>\n",
       "      <td>0.6869</td>\n",
       "      <td>0.2575</td>\n",
       "      <td>0.6638</td>\n",
       "      <td>0.17300</td>\n",
       "      <td>NaN</td>\n",
       "    </tr>\n",
       "    <tr>\n",
       "      <th>4</th>\n",
       "      <td>84358402</td>\n",
       "      <td>M</td>\n",
       "      <td>20.29</td>\n",
       "      <td>14.34</td>\n",
       "      <td>135.10</td>\n",
       "      <td>1297.0</td>\n",
       "      <td>0.10030</td>\n",
       "      <td>0.13280</td>\n",
       "      <td>0.1980</td>\n",
       "      <td>0.10430</td>\n",
       "      <td>...</td>\n",
       "      <td>16.67</td>\n",
       "      <td>152.20</td>\n",
       "      <td>1575.0</td>\n",
       "      <td>0.1374</td>\n",
       "      <td>0.2050</td>\n",
       "      <td>0.4000</td>\n",
       "      <td>0.1625</td>\n",
       "      <td>0.2364</td>\n",
       "      <td>0.07678</td>\n",
       "      <td>NaN</td>\n",
       "    </tr>\n",
       "  </tbody>\n",
       "</table>\n",
       "<p>5 rows × 33 columns</p>\n",
       "</div>"
      ],
      "text/plain": [
       "         id diagnosis  radius_mean  texture_mean  perimeter_mean  area_mean  \\\n",
       "0    842302         M        17.99         10.38          122.80     1001.0   \n",
       "1    842517         M        20.57         17.77          132.90     1326.0   \n",
       "2  84300903         M        19.69         21.25          130.00     1203.0   \n",
       "3  84348301         M        11.42         20.38           77.58      386.1   \n",
       "4  84358402         M        20.29         14.34          135.10     1297.0   \n",
       "\n",
       "   smoothness_mean  compactness_mean  concavity_mean  concave points_mean  \\\n",
       "0          0.11840           0.27760          0.3001              0.14710   \n",
       "1          0.08474           0.07864          0.0869              0.07017   \n",
       "2          0.10960           0.15990          0.1974              0.12790   \n",
       "3          0.14250           0.28390          0.2414              0.10520   \n",
       "4          0.10030           0.13280          0.1980              0.10430   \n",
       "\n",
       "   ...  texture_worst  perimeter_worst  area_worst  smoothness_worst  \\\n",
       "0  ...          17.33           184.60      2019.0            0.1622   \n",
       "1  ...          23.41           158.80      1956.0            0.1238   \n",
       "2  ...          25.53           152.50      1709.0            0.1444   \n",
       "3  ...          26.50            98.87       567.7            0.2098   \n",
       "4  ...          16.67           152.20      1575.0            0.1374   \n",
       "\n",
       "   compactness_worst  concavity_worst  concave points_worst  symmetry_worst  \\\n",
       "0             0.6656           0.7119                0.2654          0.4601   \n",
       "1             0.1866           0.2416                0.1860          0.2750   \n",
       "2             0.4245           0.4504                0.2430          0.3613   \n",
       "3             0.8663           0.6869                0.2575          0.6638   \n",
       "4             0.2050           0.4000                0.1625          0.2364   \n",
       "\n",
       "   fractal_dimension_worst  Unnamed: 32  \n",
       "0                  0.11890          NaN  \n",
       "1                  0.08902          NaN  \n",
       "2                  0.08758          NaN  \n",
       "3                  0.17300          NaN  \n",
       "4                  0.07678          NaN  \n",
       "\n",
       "[5 rows x 33 columns]"
      ]
     },
     "execution_count": 3,
     "metadata": {},
     "output_type": "execute_result"
    }
   ],
   "source": [
    "cancer = pd.read_csv('../input/breastcancer-dataset/data.csv')\n",
    "cancer.head()"
   ]
  },
  {
   "cell_type": "markdown",
   "metadata": {
    "papermill": {
     "duration": 0.017437,
     "end_time": "2020-10-13T14:30:37.160713",
     "exception": false,
     "start_time": "2020-10-13T14:30:37.143276",
     "status": "completed"
    },
    "tags": []
   },
   "source": [
    "# Taking the labeled features to y"
   ]
  },
  {
   "cell_type": "code",
   "execution_count": 4,
   "metadata": {
    "execution": {
     "iopub.execute_input": "2020-10-13T14:30:37.204217Z",
     "iopub.status.busy": "2020-10-13T14:30:37.203261Z",
     "iopub.status.idle": "2020-10-13T14:30:37.205703Z",
     "shell.execute_reply": "2020-10-13T14:30:37.206286Z"
    },
    "papermill": {
     "duration": 0.027882,
     "end_time": "2020-10-13T14:30:37.206438",
     "exception": false,
     "start_time": "2020-10-13T14:30:37.178556",
     "status": "completed"
    },
    "tags": []
   },
   "outputs": [],
   "source": [
    "X = cancer.drop(['diagnosis','Unnamed: 32'],axis=1)\n",
    "y = cancer['diagnosis']"
   ]
  },
  {
   "cell_type": "code",
   "execution_count": 5,
   "metadata": {
    "execution": {
     "iopub.execute_input": "2020-10-13T14:30:37.252281Z",
     "iopub.status.busy": "2020-10-13T14:30:37.249545Z",
     "iopub.status.idle": "2020-10-13T14:30:37.257104Z",
     "shell.execute_reply": "2020-10-13T14:30:37.256380Z"
    },
    "papermill": {
     "duration": 0.031995,
     "end_time": "2020-10-13T14:30:37.257231",
     "exception": false,
     "start_time": "2020-10-13T14:30:37.225236",
     "status": "completed"
    },
    "tags": []
   },
   "outputs": [
    {
     "data": {
      "text/plain": [
       "array([1, 1, 1, 1, 1, 1, 1, 1, 1, 1, 1, 1, 1, 1, 1, 1, 1, 1, 1, 0, 0, 0,\n",
       "       1, 1, 1, 1, 1, 1, 1, 1, 1, 1, 1, 1, 1, 1, 1, 0, 1, 1, 1, 1, 1, 1,\n",
       "       1, 1, 0, 1, 0, 0, 0, 0, 0, 1, 1, 0, 1, 1, 0, 0, 0, 0, 1, 0, 1, 1,\n",
       "       0, 0, 0, 0, 1, 0, 1, 1, 0, 1, 0, 1, 1, 0, 0, 0, 1, 1, 0, 1, 1, 1,\n",
       "       0, 0, 0, 1, 0, 0, 1, 1, 0, 0, 0, 1, 1, 0, 0, 0, 0, 1, 0, 0, 1, 0,\n",
       "       0, 0, 0, 0, 0, 0, 0, 1, 1, 1, 0, 1, 1, 0, 0, 0, 1, 1, 0, 1, 0, 1,\n",
       "       1, 0, 1, 1, 0, 0, 1, 0, 0, 1, 0, 0, 0, 0, 1, 0, 0, 0, 0, 0, 0, 0,\n",
       "       0, 0, 1, 0, 0, 0, 0, 1, 1, 0, 1, 0, 0, 1, 1, 0, 0, 1, 1, 0, 0, 0,\n",
       "       0, 1, 0, 0, 1, 1, 1, 0, 1, 0, 1, 0, 0, 0, 1, 0, 0, 1, 1, 0, 1, 1,\n",
       "       1, 1, 0, 1, 1, 1, 0, 1, 0, 1, 0, 0, 1, 0, 1, 1, 1, 1, 0, 0, 1, 1,\n",
       "       0, 0, 0, 1, 0, 0, 0, 0, 0, 1, 1, 0, 0, 1, 0, 0, 1, 1, 0, 1, 0, 0,\n",
       "       0, 0, 1, 0, 0, 0, 0, 0, 1, 0, 1, 1, 1, 1, 1, 1, 1, 1, 1, 1, 1, 1,\n",
       "       1, 1, 0, 0, 0, 0, 0, 0, 1, 0, 1, 0, 0, 1, 0, 0, 1, 0, 1, 1, 0, 0,\n",
       "       0, 0, 0, 0, 0, 0, 0, 0, 0, 0, 0, 1, 0, 0, 1, 0, 1, 0, 0, 0, 0, 0,\n",
       "       0, 0, 0, 0, 0, 0, 0, 0, 0, 1, 0, 0, 0, 1, 0, 1, 0, 0, 0, 0, 1, 1,\n",
       "       1, 0, 0, 0, 0, 1, 0, 1, 0, 1, 0, 0, 0, 1, 0, 0, 0, 0, 0, 0, 0, 1,\n",
       "       1, 1, 0, 0, 0, 0, 0, 0, 0, 0, 0, 0, 0, 1, 1, 0, 1, 1, 1, 0, 1, 1,\n",
       "       0, 0, 0, 0, 0, 1, 0, 0, 0, 0, 0, 1, 0, 0, 0, 1, 0, 0, 1, 1, 0, 0,\n",
       "       0, 0, 0, 0, 1, 0, 0, 0, 0, 0, 0, 0, 1, 0, 0, 0, 0, 0, 1, 0, 0, 1,\n",
       "       0, 0, 0, 0, 0, 0, 0, 0, 0, 0, 0, 0, 1, 0, 1, 1, 0, 1, 0, 0, 0, 0,\n",
       "       0, 1, 0, 0, 1, 0, 1, 0, 0, 1, 0, 1, 0, 0, 0, 0, 0, 0, 0, 0, 1, 1,\n",
       "       0, 0, 0, 0, 0, 0, 1, 0, 0, 0, 0, 0, 0, 0, 0, 0, 0, 1, 0, 0, 0, 0,\n",
       "       0, 0, 0, 1, 0, 1, 0, 0, 1, 0, 0, 0, 0, 0, 1, 1, 0, 1, 0, 1, 0, 0,\n",
       "       0, 0, 0, 1, 0, 0, 1, 0, 1, 0, 1, 1, 0, 0, 0, 1, 0, 0, 0, 0, 0, 0,\n",
       "       0, 0, 0, 0, 0, 1, 0, 1, 1, 0, 0, 0, 0, 0, 0, 0, 0, 0, 0, 0, 0, 0,\n",
       "       0, 0, 0, 0, 0, 0, 0, 0, 0, 0, 0, 0, 1, 1, 1, 1, 1, 1, 0])"
      ]
     },
     "execution_count": 5,
     "metadata": {},
     "output_type": "execute_result"
    }
   ],
   "source": [
    "from sklearn.preprocessing import LabelEncoder\n",
    "lb = LabelEncoder()\n",
    "y = lb.fit_transform(y)\n",
    "y"
   ]
  },
  {
   "cell_type": "code",
   "execution_count": 6,
   "metadata": {
    "execution": {
     "iopub.execute_input": "2020-10-13T14:30:37.301302Z",
     "iopub.status.busy": "2020-10-13T14:30:37.300500Z",
     "iopub.status.idle": "2020-10-13T14:30:37.309609Z",
     "shell.execute_reply": "2020-10-13T14:30:37.308992Z"
    },
    "papermill": {
     "duration": 0.033756,
     "end_time": "2020-10-13T14:30:37.309749",
     "exception": false,
     "start_time": "2020-10-13T14:30:37.275993",
     "status": "completed"
    },
    "tags": []
   },
   "outputs": [],
   "source": [
    "X_train, X_test, y_train, y_test = train_test_split(X, y, test_size=0.2, random_state=0, stratify=y)"
   ]
  },
  {
   "cell_type": "markdown",
   "metadata": {
    "papermill": {
     "duration": 0.018354,
     "end_time": "2020-10-13T14:30:37.347139",
     "exception": false,
     "start_time": "2020-10-13T14:30:37.328785",
     "status": "completed"
    },
    "tags": []
   },
   "source": [
    "# Scaling the X part of dataset for better fitting."
   ]
  },
  {
   "cell_type": "code",
   "execution_count": 7,
   "metadata": {
    "execution": {
     "iopub.execute_input": "2020-10-13T14:30:37.394147Z",
     "iopub.status.busy": "2020-10-13T14:30:37.393041Z",
     "iopub.status.idle": "2020-10-13T14:30:37.402608Z",
     "shell.execute_reply": "2020-10-13T14:30:37.402021Z"
    },
    "papermill": {
     "duration": 0.0369,
     "end_time": "2020-10-13T14:30:37.402756",
     "exception": false,
     "start_time": "2020-10-13T14:30:37.365856",
     "status": "completed"
    },
    "tags": []
   },
   "outputs": [],
   "source": [
    "scaler = StandardScaler()\n",
    "X_train = scaler.fit_transform(X_train)\n",
    "X_test = scaler.transform(X_test)"
   ]
  },
  {
   "cell_type": "code",
   "execution_count": 8,
   "metadata": {
    "execution": {
     "iopub.execute_input": "2020-10-13T14:30:37.446865Z",
     "iopub.status.busy": "2020-10-13T14:30:37.445996Z",
     "iopub.status.idle": "2020-10-13T14:30:37.450075Z",
     "shell.execute_reply": "2020-10-13T14:30:37.450575Z"
    },
    "papermill": {
     "duration": 0.028856,
     "end_time": "2020-10-13T14:30:37.450750",
     "exception": false,
     "start_time": "2020-10-13T14:30:37.421894",
     "status": "completed"
    },
    "tags": []
   },
   "outputs": [
    {
     "data": {
      "text/plain": [
       "((455, 31), (114, 31))"
      ]
     },
     "execution_count": 8,
     "metadata": {},
     "output_type": "execute_result"
    }
   ],
   "source": [
    "X_train.shape, X_test.shape"
   ]
  },
  {
   "cell_type": "markdown",
   "metadata": {
    "papermill": {
     "duration": 0.019272,
     "end_time": "2020-10-13T14:30:37.489496",
     "exception": false,
     "start_time": "2020-10-13T14:30:37.470224",
     "status": "completed"
    },
    "tags": []
   },
   "source": [
    "# Reshaping the dataset for training into CNN"
   ]
  },
  {
   "cell_type": "code",
   "execution_count": 9,
   "metadata": {
    "execution": {
     "iopub.execute_input": "2020-10-13T14:30:37.535089Z",
     "iopub.status.busy": "2020-10-13T14:30:37.534019Z",
     "iopub.status.idle": "2020-10-13T14:30:37.537414Z",
     "shell.execute_reply": "2020-10-13T14:30:37.536683Z"
    },
    "papermill": {
     "duration": 0.028474,
     "end_time": "2020-10-13T14:30:37.537536",
     "exception": false,
     "start_time": "2020-10-13T14:30:37.509062",
     "status": "completed"
    },
    "tags": []
   },
   "outputs": [],
   "source": [
    "X_train = X_train.reshape(455,31,1)\n",
    "X_test = X_test.reshape(114,31,1)"
   ]
  },
  {
   "cell_type": "markdown",
   "metadata": {
    "papermill": {
     "duration": 0.019401,
     "end_time": "2020-10-13T14:30:37.576873",
     "exception": false,
     "start_time": "2020-10-13T14:30:37.557472",
     "status": "completed"
    },
    "tags": []
   },
   "source": [
    "## Designing the CNN model"
   ]
  },
  {
   "cell_type": "code",
   "execution_count": 10,
   "metadata": {
    "execution": {
     "iopub.execute_input": "2020-10-13T14:30:37.627685Z",
     "iopub.status.busy": "2020-10-13T14:30:37.626748Z",
     "iopub.status.idle": "2020-10-13T14:30:37.892294Z",
     "shell.execute_reply": "2020-10-13T14:30:37.891530Z"
    },
    "papermill": {
     "duration": 0.295786,
     "end_time": "2020-10-13T14:30:37.892421",
     "exception": false,
     "start_time": "2020-10-13T14:30:37.596635",
     "status": "completed"
    },
    "tags": []
   },
   "outputs": [],
   "source": [
    "epochs = 50\n",
    "model = Sequential()\n",
    "model.add(Conv1D(filters=32, kernel_size=2, activation='relu', input_shape=(31,1)))\n",
    "model.add(BatchNormalization())\n",
    "model.add(Dropout(0.2))\n",
    "\n",
    "model.add(Conv1D(filters=64, kernel_size=2, activation='relu'))\n",
    "model.add(BatchNormalization())\n",
    "model.add(Dropout(0.5))\n",
    "\n",
    "model.add(Flatten())\n",
    "model.add(Dense(64, activation='relu'))\n",
    "model.add(Dropout(0.5))\n",
    "\n",
    "model.add(Dense(1, activation='sigmoid'))"
   ]
  },
  {
   "cell_type": "code",
   "execution_count": 11,
   "metadata": {
    "execution": {
     "iopub.execute_input": "2020-10-13T14:30:37.942776Z",
     "iopub.status.busy": "2020-10-13T14:30:37.941874Z",
     "iopub.status.idle": "2020-10-13T14:30:37.946783Z",
     "shell.execute_reply": "2020-10-13T14:30:37.946181Z"
    },
    "papermill": {
     "duration": 0.034028,
     "end_time": "2020-10-13T14:30:37.946920",
     "exception": false,
     "start_time": "2020-10-13T14:30:37.912892",
     "status": "completed"
    },
    "tags": []
   },
   "outputs": [
    {
     "name": "stdout",
     "output_type": "stream",
     "text": [
      "Model: \"sequential\"\n",
      "_________________________________________________________________\n",
      "Layer (type)                 Output Shape              Param #   \n",
      "=================================================================\n",
      "conv1d (Conv1D)              (None, 30, 32)            96        \n",
      "_________________________________________________________________\n",
      "batch_normalization (BatchNo (None, 30, 32)            128       \n",
      "_________________________________________________________________\n",
      "dropout (Dropout)            (None, 30, 32)            0         \n",
      "_________________________________________________________________\n",
      "conv1d_1 (Conv1D)            (None, 29, 64)            4160      \n",
      "_________________________________________________________________\n",
      "batch_normalization_1 (Batch (None, 29, 64)            256       \n",
      "_________________________________________________________________\n",
      "dropout_1 (Dropout)          (None, 29, 64)            0         \n",
      "_________________________________________________________________\n",
      "flatten (Flatten)            (None, 1856)              0         \n",
      "_________________________________________________________________\n",
      "dense (Dense)                (None, 64)                118848    \n",
      "_________________________________________________________________\n",
      "dropout_2 (Dropout)          (None, 64)                0         \n",
      "_________________________________________________________________\n",
      "dense_1 (Dense)              (None, 1)                 65        \n",
      "=================================================================\n",
      "Total params: 123,553\n",
      "Trainable params: 123,361\n",
      "Non-trainable params: 192\n",
      "_________________________________________________________________\n"
     ]
    }
   ],
   "source": [
    "model.summary()"
   ]
  },
  {
   "cell_type": "code",
   "execution_count": 12,
   "metadata": {
    "execution": {
     "iopub.execute_input": "2020-10-13T14:30:38.002951Z",
     "iopub.status.busy": "2020-10-13T14:30:38.001799Z",
     "iopub.status.idle": "2020-10-13T14:30:38.008948Z",
     "shell.execute_reply": "2020-10-13T14:30:38.008227Z"
    },
    "papermill": {
     "duration": 0.041371,
     "end_time": "2020-10-13T14:30:38.009072",
     "exception": false,
     "start_time": "2020-10-13T14:30:37.967701",
     "status": "completed"
    },
    "tags": []
   },
   "outputs": [],
   "source": [
    "model.compile(optimizer=Adam(lr=0.00005), loss='binary_crossentropy', metrics=['accuracy'])"
   ]
  },
  {
   "cell_type": "code",
   "execution_count": 13,
   "metadata": {
    "execution": {
     "iopub.execute_input": "2020-10-13T14:30:38.057853Z",
     "iopub.status.busy": "2020-10-13T14:30:38.057074Z",
     "iopub.status.idle": "2020-10-13T14:30:45.356355Z",
     "shell.execute_reply": "2020-10-13T14:30:45.355292Z"
    },
    "papermill": {
     "duration": 7.326491,
     "end_time": "2020-10-13T14:30:45.356528",
     "exception": false,
     "start_time": "2020-10-13T14:30:38.030037",
     "status": "completed"
    },
    "tags": []
   },
   "outputs": [
    {
     "name": "stdout",
     "output_type": "stream",
     "text": [
      "Epoch 1/50\n",
      "15/15 [==============================] - 0s 23ms/step - loss: 0.8721 - accuracy: 0.6154 - val_loss: 0.6652 - val_accuracy: 0.7368\n",
      "Epoch 2/50\n",
      "15/15 [==============================] - 0s 7ms/step - loss: 0.6417 - accuracy: 0.7319 - val_loss: 0.6325 - val_accuracy: 0.8509\n",
      "Epoch 3/50\n",
      "15/15 [==============================] - 0s 7ms/step - loss: 0.5890 - accuracy: 0.7473 - val_loss: 0.6012 - val_accuracy: 0.8509\n",
      "Epoch 4/50\n",
      "15/15 [==============================] - 0s 7ms/step - loss: 0.3752 - accuracy: 0.8462 - val_loss: 0.5735 - val_accuracy: 0.8421\n",
      "Epoch 5/50\n",
      "15/15 [==============================] - 0s 7ms/step - loss: 0.3497 - accuracy: 0.8571 - val_loss: 0.5462 - val_accuracy: 0.8596\n",
      "Epoch 6/50\n",
      "15/15 [==============================] - 0s 7ms/step - loss: 0.3792 - accuracy: 0.8440 - val_loss: 0.5181 - val_accuracy: 0.8684\n",
      "Epoch 7/50\n",
      "15/15 [==============================] - 0s 7ms/step - loss: 0.2644 - accuracy: 0.9011 - val_loss: 0.4897 - val_accuracy: 0.8684\n",
      "Epoch 8/50\n",
      "15/15 [==============================] - 0s 7ms/step - loss: 0.3164 - accuracy: 0.8637 - val_loss: 0.4594 - val_accuracy: 0.8772\n",
      "Epoch 9/50\n",
      "15/15 [==============================] - 0s 7ms/step - loss: 0.2721 - accuracy: 0.8813 - val_loss: 0.4337 - val_accuracy: 0.8772\n",
      "Epoch 10/50\n",
      "15/15 [==============================] - 0s 7ms/step - loss: 0.2265 - accuracy: 0.9033 - val_loss: 0.4051 - val_accuracy: 0.8772\n",
      "Epoch 11/50\n",
      "15/15 [==============================] - 0s 7ms/step - loss: 0.2032 - accuracy: 0.9143 - val_loss: 0.3744 - val_accuracy: 0.8860\n",
      "Epoch 12/50\n",
      "15/15 [==============================] - 0s 7ms/step - loss: 0.2129 - accuracy: 0.9209 - val_loss: 0.3438 - val_accuracy: 0.8947\n",
      "Epoch 13/50\n",
      "15/15 [==============================] - 0s 7ms/step - loss: 0.2288 - accuracy: 0.9341 - val_loss: 0.3175 - val_accuracy: 0.9035\n",
      "Epoch 14/50\n",
      "15/15 [==============================] - 0s 7ms/step - loss: 0.2544 - accuracy: 0.9011 - val_loss: 0.2869 - val_accuracy: 0.9123\n",
      "Epoch 15/50\n",
      "15/15 [==============================] - 0s 7ms/step - loss: 0.1920 - accuracy: 0.9275 - val_loss: 0.2617 - val_accuracy: 0.9211\n",
      "Epoch 16/50\n",
      "15/15 [==============================] - 0s 7ms/step - loss: 0.2259 - accuracy: 0.9253 - val_loss: 0.2422 - val_accuracy: 0.9211\n",
      "Epoch 17/50\n",
      "15/15 [==============================] - 0s 7ms/step - loss: 0.2104 - accuracy: 0.9165 - val_loss: 0.2210 - val_accuracy: 0.9298\n",
      "Epoch 18/50\n",
      "15/15 [==============================] - 0s 7ms/step - loss: 0.1644 - accuracy: 0.9319 - val_loss: 0.2055 - val_accuracy: 0.9298\n",
      "Epoch 19/50\n",
      "15/15 [==============================] - 0s 7ms/step - loss: 0.1720 - accuracy: 0.9407 - val_loss: 0.1934 - val_accuracy: 0.9298\n",
      "Epoch 20/50\n",
      "15/15 [==============================] - 0s 7ms/step - loss: 0.2094 - accuracy: 0.9187 - val_loss: 0.1873 - val_accuracy: 0.9298\n",
      "Epoch 21/50\n",
      "15/15 [==============================] - 0s 7ms/step - loss: 0.1765 - accuracy: 0.9473 - val_loss: 0.1794 - val_accuracy: 0.9298\n",
      "Epoch 22/50\n",
      "15/15 [==============================] - 0s 7ms/step - loss: 0.1642 - accuracy: 0.9363 - val_loss: 0.1685 - val_accuracy: 0.9298\n",
      "Epoch 23/50\n",
      "15/15 [==============================] - 0s 7ms/step - loss: 0.1646 - accuracy: 0.9253 - val_loss: 0.1568 - val_accuracy: 0.9298\n",
      "Epoch 24/50\n",
      "15/15 [==============================] - 0s 7ms/step - loss: 0.1433 - accuracy: 0.9429 - val_loss: 0.1491 - val_accuracy: 0.9298\n",
      "Epoch 25/50\n",
      "15/15 [==============================] - 0s 7ms/step - loss: 0.1627 - accuracy: 0.9538 - val_loss: 0.1446 - val_accuracy: 0.9298\n",
      "Epoch 26/50\n",
      "15/15 [==============================] - 0s 7ms/step - loss: 0.1531 - accuracy: 0.9429 - val_loss: 0.1396 - val_accuracy: 0.9298\n",
      "Epoch 27/50\n",
      "15/15 [==============================] - 0s 7ms/step - loss: 0.1537 - accuracy: 0.9363 - val_loss: 0.1326 - val_accuracy: 0.9386\n",
      "Epoch 28/50\n",
      "15/15 [==============================] - 0s 7ms/step - loss: 0.1351 - accuracy: 0.9407 - val_loss: 0.1292 - val_accuracy: 0.9386\n",
      "Epoch 29/50\n",
      "15/15 [==============================] - 0s 7ms/step - loss: 0.1576 - accuracy: 0.9341 - val_loss: 0.1282 - val_accuracy: 0.9386\n",
      "Epoch 30/50\n",
      "15/15 [==============================] - 0s 7ms/step - loss: 0.1573 - accuracy: 0.9451 - val_loss: 0.1262 - val_accuracy: 0.9386\n",
      "Epoch 31/50\n",
      "15/15 [==============================] - 0s 7ms/step - loss: 0.1678 - accuracy: 0.9363 - val_loss: 0.1261 - val_accuracy: 0.9386\n",
      "Epoch 32/50\n",
      "15/15 [==============================] - 0s 7ms/step - loss: 0.1163 - accuracy: 0.9582 - val_loss: 0.1275 - val_accuracy: 0.9298\n",
      "Epoch 33/50\n",
      "15/15 [==============================] - 0s 7ms/step - loss: 0.1384 - accuracy: 0.9385 - val_loss: 0.1257 - val_accuracy: 0.9386\n",
      "Epoch 34/50\n",
      "15/15 [==============================] - 0s 7ms/step - loss: 0.1107 - accuracy: 0.9538 - val_loss: 0.1267 - val_accuracy: 0.9298\n",
      "Epoch 35/50\n",
      "15/15 [==============================] - 0s 7ms/step - loss: 0.1269 - accuracy: 0.9407 - val_loss: 0.1275 - val_accuracy: 0.9298\n",
      "Epoch 36/50\n",
      "15/15 [==============================] - 0s 7ms/step - loss: 0.1108 - accuracy: 0.9560 - val_loss: 0.1297 - val_accuracy: 0.9211\n",
      "Epoch 37/50\n",
      "15/15 [==============================] - 0s 7ms/step - loss: 0.1262 - accuracy: 0.9516 - val_loss: 0.1286 - val_accuracy: 0.9211\n",
      "Epoch 38/50\n",
      "15/15 [==============================] - 0s 7ms/step - loss: 0.1067 - accuracy: 0.9516 - val_loss: 0.1279 - val_accuracy: 0.9211\n",
      "Epoch 39/50\n",
      "15/15 [==============================] - 0s 7ms/step - loss: 0.1131 - accuracy: 0.9626 - val_loss: 0.1271 - val_accuracy: 0.9211\n",
      "Epoch 40/50\n",
      "15/15 [==============================] - 0s 7ms/step - loss: 0.1487 - accuracy: 0.9473 - val_loss: 0.1247 - val_accuracy: 0.9211\n",
      "Epoch 41/50\n",
      "15/15 [==============================] - 0s 7ms/step - loss: 0.1221 - accuracy: 0.9648 - val_loss: 0.1227 - val_accuracy: 0.9386\n",
      "Epoch 42/50\n",
      "15/15 [==============================] - 0s 7ms/step - loss: 0.1162 - accuracy: 0.9670 - val_loss: 0.1222 - val_accuracy: 0.9298\n",
      "Epoch 43/50\n",
      "15/15 [==============================] - 0s 7ms/step - loss: 0.1154 - accuracy: 0.9560 - val_loss: 0.1211 - val_accuracy: 0.9211\n",
      "Epoch 44/50\n",
      "15/15 [==============================] - 0s 7ms/step - loss: 0.1228 - accuracy: 0.9538 - val_loss: 0.1227 - val_accuracy: 0.9211\n",
      "Epoch 45/50\n",
      "15/15 [==============================] - 0s 7ms/step - loss: 0.1010 - accuracy: 0.9560 - val_loss: 0.1214 - val_accuracy: 0.9211\n",
      "Epoch 46/50\n",
      "15/15 [==============================] - 0s 7ms/step - loss: 0.0909 - accuracy: 0.9758 - val_loss: 0.1195 - val_accuracy: 0.9298\n",
      "Epoch 47/50\n",
      "15/15 [==============================] - 0s 7ms/step - loss: 0.1051 - accuracy: 0.9582 - val_loss: 0.1189 - val_accuracy: 0.9298\n",
      "Epoch 48/50\n",
      "15/15 [==============================] - 0s 10ms/step - loss: 0.1201 - accuracy: 0.9604 - val_loss: 0.1188 - val_accuracy: 0.9298\n",
      "Epoch 49/50\n",
      "15/15 [==============================] - 0s 8ms/step - loss: 0.0901 - accuracy: 0.9670 - val_loss: 0.1201 - val_accuracy: 0.9298\n",
      "Epoch 50/50\n",
      "15/15 [==============================] - 0s 7ms/step - loss: 0.0898 - accuracy: 0.9626 - val_loss: 0.1226 - val_accuracy: 0.9298\n"
     ]
    }
   ],
   "source": [
    "history = model.fit(X_train, y_train, epochs=epochs, validation_data=(X_test, y_test), verbose=1)"
   ]
  },
  {
   "cell_type": "markdown",
   "metadata": {
    "papermill": {
     "duration": 0.08183,
     "end_time": "2020-10-13T14:30:45.522426",
     "exception": false,
     "start_time": "2020-10-13T14:30:45.440596",
     "status": "completed"
    },
    "tags": []
   },
   "source": [
    "# Graph for showing the accuracy and loss between test and train"
   ]
  },
  {
   "cell_type": "code",
   "execution_count": 14,
   "metadata": {
    "execution": {
     "iopub.execute_input": "2020-10-13T14:30:45.697015Z",
     "iopub.status.busy": "2020-10-13T14:30:45.696109Z",
     "iopub.status.idle": "2020-10-13T14:30:46.125435Z",
     "shell.execute_reply": "2020-10-13T14:30:46.124794Z"
    },
    "papermill": {
     "duration": 0.521374,
     "end_time": "2020-10-13T14:30:46.125571",
     "exception": false,
     "start_time": "2020-10-13T14:30:45.604197",
     "status": "completed"
    },
    "tags": []
   },
   "outputs": [
    {
     "data": {
      "image/png": "[encoded data removed]",
      "text/plain": [
       "<Figure size 432x288 with 1 Axes>"
      ]
     },
     "metadata": {
      "needs_background": "light"
     },
     "output_type": "display_data"
    },
    {
     "data": {
      "image/png": "[encoded data removed]",
      "text/plain": [
       "<Figure size 432x288 with 1 Axes>"
      ]
     },
     "metadata": {
      "needs_background": "light"
     },
     "output_type": "display_data"
    }
   ],
   "source": [
    "import warnings\n",
    "warnings.filterwarnings('ignore')\n",
    "\n",
    "#plotting training and validation accuracy\n",
    "plt.plot(history.history['accuracy'])\n",
    "plt.plot(history.history['val_accuracy'])\n",
    "plt.title('Model Accuracy')\n",
    "plt.xlabel('Epoch')\n",
    "plt.ylabel('Accuracy')\n",
    "plt.legend(['Train','Val'], loc='upper_left')\n",
    "plt.show()\n",
    "\n",
    "#plotting training and validation loss\n",
    "plt.plot(history.history['loss'])\n",
    "plt.plot(history.history['val_loss'])\n",
    "plt.title('Model Loss')\n",
    "plt.xlabel('Epoch')\n",
    "plt.ylabel('Loss')\n",
    "plt.legend(['Train','Val'], loc='upper_left')\n",
    "plt.show()"
   ]
  },
  {
   "cell_type": "markdown",
   "metadata": {
    "papermill": {
     "duration": 0.084176,
     "end_time": "2020-10-13T14:30:46.294000",
     "exception": false,
     "start_time": "2020-10-13T14:30:46.209824",
     "status": "completed"
    },
    "tags": []
   },
   "source": [
    "# Some useful links.Hope it helps to understand the basic\n",
    "\n",
    "You can learn more about keras Conv1D from [here](https://keras.io/api/layers/convolution_layers/convolution1d/)\n",
    "\n",
    "And for batchnormalization and dropout layers you can use this [link](https://keras.io/api/layers/convolution_layers/convolution1d/)"
   ]
  },
  {
   "cell_type": "code",
   "execution_count": null,
   "metadata": {
    "papermill": {
     "duration": 0.084855,
     "end_time": "2020-10-13T14:30:46.463528",
     "exception": false,
     "start_time": "2020-10-13T14:30:46.378673",
     "status": "completed"
    },
    "tags": []
   },
   "outputs": [],
   "source": []
  }
 ],
 "metadata": {
  "kernelspec": {
   "display_name": "Python 3",
   "language": "python",
   "name": "python3"
  },
  "language_info": {
   "codemirror_mode": {
    "name": "ipython",
    "version": 3
   },
   "file_extension": ".py",
   "mimetype": "text/x-python",
   "name": "python",
   "nbconvert_exporter": "python",
   "pygments_lexer": "ipython3",
   "version": "3.7.6"
  },
  "papermill": {
   "duration": 21.638756,
   "end_time": "2020-10-13T14:30:46.655434",
   "environment_variables": {},
   "exception": null,
   "input_path": "__notebook__.ipynb",
   "output_path": "__notebook__.ipynb",
   "parameters": {},
   "start_time": "2020-10-13T14:30:25.016678",
   "version": "2.1.0"
  }
 },
 "nbformat": 4,
 "nbformat_minor": 4
}
