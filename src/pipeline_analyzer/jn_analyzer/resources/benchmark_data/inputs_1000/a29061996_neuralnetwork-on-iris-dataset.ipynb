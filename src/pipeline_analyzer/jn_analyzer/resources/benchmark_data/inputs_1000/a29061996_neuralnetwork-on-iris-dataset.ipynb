{
 "cells": [
  {
   "cell_type": "code",
   "execution_count": 1,
   "metadata": {
    "_cell_guid": "b1076dfc-b9ad-4769-8c92-a6c4dae69d19",
    "_uuid": "8f2839f25d086af736a60e9eeb907d3b93b6e0e5"
   },
   "outputs": [
    {
     "name": "stdout",
     "output_type": "stream",
     "text": [
      "/kaggle/input/iris/Iris.csv\n",
      "/kaggle/input/iris/database.sqlite\n"
     ]
    }
   ],
   "source": [
    "# This Python 3 environment comes with many helpful analytics libraries installed\n",
    "# It is defined by the kaggle/python Docker image: https://github.com/kaggle/docker-python\n",
    "# For example, here's several helpful packages to load\n",
    "\n",
    "import numpy as np # linear algebra\n",
    "import pandas as pd # data processing, CSV file I/O (e.g. pd.read_csv)\n",
    "\n",
    "# Input data files are available in the read-only \"../input/\" directory\n",
    "# For example, running this (by clicking run or pressing Shift+Enter) will list all files under the input directory\n",
    "\n",
    "import os\n",
    "for dirname, _, filenames in os.walk('/kaggle/input'):\n",
    "    for filename in filenames:\n",
    "        print(os.path.join(dirname, filename))\n",
    "\n",
    "# You can write up to 5GB to the current directory (/kaggle/working/) that gets preserved as output when you create a version using \"Save & Run All\" \n",
    "# You can also write temporary files to /kaggle/temp/, but they won't be saved outside of the current session"
   ]
  },
  {
   "cell_type": "markdown",
   "execution_count": null,
   "metadata": {},
   "source": [
    "# Neural Networks Implementation on IRIS Dataset\n",
    "#### This implementation is from scratch. i.e. only Numpy and matplotlib.pyplot is used to implement a neural network having 2 hidden layers\n",
    "#### pandas is used to read the dataset and to apply one-hot encoding to the labels of class\n",
    "#### tqdm is used to display progress bar while performing Gradient Descent Iterations"
   ]
  },
  {
   "cell_type": "code",
   "execution_count": 2,
   "metadata": {
    "_cell_guid": "79c7e3d0-c299-4dcb-8224-4455121ee9b0",
    "_uuid": "d629ff2d2480ee46fbb7e2d37f6b5fab8052498a"
   },
   "outputs": [],
   "source": [
    "import numpy as np\n",
    "import matplotlib.pyplot as plt\n",
    "import pandas as pd\n",
    "from tqdm import tqdm"
   ]
  },
  {
   "cell_type": "code",
   "execution_count": 3,
   "metadata": {},
   "outputs": [],
   "source": [
    "# Read dataset, divide it into train and test set\n",
    "dataset = pd.read_csv(\"/kaggle/input/iris/Iris.csv\")\n",
    "dataset.loc[dataset[\"Species\"] == \"Iris-setosa\",\"Species\"] = 1\n",
    "dataset.loc[dataset[\"Species\"] == \"Iris-versicolor\",\"Species\"] = 2\n",
    "dataset.loc[dataset[\"Species\"] == \"Iris-virginica\",\"Species\"] = 3\n",
    "dataset = dataset.to_numpy()\n",
    "np.random.shuffle(dataset)\n",
    "\n",
    "dataset = np.asarray(dataset,dtype = np.float64)\n",
    "len_dataset = dataset.shape[0]\n",
    "\n",
    "train = dataset[:int(0.75*len_dataset),:]\n",
    "X = train[:,1:-1]\n",
    "Y = train[:,-1]\n",
    "Y = pd.get_dummies(Y)\n",
    "Y = Y.to_numpy()\n",
    "op_neurons=len(Y[0])\n",
    "N,p = X.shape\n",
    "\n",
    "test = dataset[int(0.75*len_dataset):,:]\n",
    "Xt = test[:,1:-1]\n",
    "Yt = test[:,-1]\n",
    "Yt = pd.get_dummies(Yt)\n",
    "Yt = Yt.to_numpy()\n",
    "Nt,pt = Xt.shape"
   ]
  },
  {
   "cell_type": "code",
   "execution_count": 4,
   "metadata": {},
   "outputs": [],
   "source": [
    "def compute_cost(h,Y):\n",
    "    N = Y.shape[0]\n",
    "    logprobs = np.multiply(Y,np.log(h)) + np.multiply(1-Y,np.log(1-h))\n",
    "    cost = (-1/N)*np.sum(logprobs)\n",
    "    \n",
    "    cost = float(np.squeeze(cost))  # return [[17]] as 17\n",
    "    return cost"
   ]
  },
  {
   "cell_type": "code",
   "execution_count": 5,
   "metadata": {},
   "outputs": [],
   "source": [
    "def sigmoid(x):\n",
    "    return ((1)/(1+np.exp(-x)))\n",
    "\n",
    "def sigmoid_derivative(x):\n",
    "    result = np.multiply(sigmoid(x) , (1-sigmoid(x)))\n",
    "    return(result)"
   ]
  },
  {
   "cell_type": "code",
   "execution_count": 6,
   "metadata": {},
   "outputs": [],
   "source": [
    "def softmax(x):\n",
    "    num = np.exp(x)\n",
    "    den = np.sum(num,axis = 0,keepdims = True)\n",
    "    return (num / den)"
   ]
  },
  {
   "cell_type": "code",
   "execution_count": 7,
   "metadata": {},
   "outputs": [],
   "source": [
    "# Neural Network Model parameters initialization function, parameters to be saved in a dictionary\n",
    "def parameter_init(layers):\n",
    "    parameters = {}\n",
    "    for i in range(1,len(layers)):\n",
    "        parameters[\"W\"+str(i)] = 0.01*np.random.randn(layers[i],layers[i-1])\n",
    "        parameters[\"b\"+str(i)] = np.zeros((layers[i],1))\n",
    "    return (parameters)"
   ]
  },
  {
   "cell_type": "code",
   "execution_count": 8,
   "metadata": {},
   "outputs": [],
   "source": [
    "# Structure of Neural network, saved into a list to modify easily\n",
    "structure = [p,12,8,op_neurons]\n",
    "\n",
    "# Initialize parameters\n",
    "parameters = parameter_init(structure)"
   ]
  },
  {
   "cell_type": "code",
   "execution_count": 9,
   "metadata": {},
   "outputs": [
    {
     "name": "stderr",
     "output_type": "stream",
     "text": [
      "100%|██████████| 10000/10000 [00:04<00:00, 2175.55it/s]\n"
     ]
    },
    {
     "name": "stdout",
     "output_type": "stream",
     "text": [
      "Training Cost 0.10059864730818704\n"
     ]
    },
    {
     "data": {
      "image/png": "[encoded data removed]",
      "text/plain": [
       "<Figure size 432x288 with 1 Axes>"
      ]
     },
     "metadata": {
      "needs_background": "light"
     },
     "output_type": "display_data"
    }
   ],
   "source": [
    "# dictionary\n",
    "# Implementation of Network using Gradient Descent\n",
    "epochs = 10000\n",
    "alpha = 0.1\n",
    "costs = []\n",
    "for num in tqdm(range(epochs)):\n",
    "    #Forward Propogation\n",
    "    a1 = np.dot(parameters[\"W1\"],X.T) + parameters[\"b1\"]\n",
    "    h1 = sigmoid(a1)\n",
    "    a2 = np.dot(parameters[\"W2\"],h1) + parameters[\"b2\"]\n",
    "    h2 = sigmoid(a2)\n",
    "    a3 = np.dot(parameters[\"W3\"],h2) + parameters[\"b3\"]\n",
    "    h3 = softmax(a3)\n",
    "    # Gradients for Backpropogation\n",
    "    \n",
    "    dL_da3 = -( Y.T - h3)\n",
    "    dL_dW3 = (1/N)*np.dot(dL_da3 , h2.T)\n",
    "    dL_db3 = (1/N)*(np.sum(dL_da3,axis=1,keepdims = True))\n",
    "    \n",
    "    dL_dh2 = np.dot(parameters[\"W3\"].T , dL_da3)\n",
    "    dL_da2 = np.multiply(dL_dh2,sigmoid_derivative(a2))\n",
    "    dL_dW2 = (1/N)*np.dot(dL_da2 , h1.T)\n",
    "    dL_db2 = (1/N)*(np.sum(dL_da2,axis=1,keepdims = True))\n",
    "    \n",
    "    dL_dh1 = np.dot(parameters[\"W2\"].T , dL_da2)\n",
    "    dL_da1 = np.multiply(dL_dh1,sigmoid_derivative(a1))\n",
    "    dL_dW1 = (1/N)*np.dot(dL_da1 , X)\n",
    "    dL_db1 = (1/N)*(np.sum(dL_da1,axis = 1,keepdims = True))\n",
    "    \n",
    "    # GD Updates\n",
    "    parameters[\"W3\"] = parameters[\"W3\"] - (alpha)*dL_dW3\n",
    "    parameters[\"b3\"] = parameters[\"b3\"] - (alpha)*dL_db3\n",
    "    parameters[\"W2\"] = parameters[\"W2\"] - (alpha)*dL_dW2\n",
    "    parameters[\"b2\"] = parameters[\"b2\"] - (alpha)*dL_db2\n",
    "    parameters[\"W1\"] = parameters[\"W1\"] - (alpha)*dL_dW1\n",
    "    parameters[\"b1\"] = parameters[\"b1\"] - (alpha)*dL_db1\n",
    "    costs.append(compute_cost(h3.T,Y))\n",
    "plt.plot(costs)\n",
    "print(\"Training Cost\",costs[-1])"
   ]
  },
  {
   "cell_type": "code",
   "execution_count": 10,
   "metadata": {},
   "outputs": [
    {
     "name": "stdout",
     "output_type": "stream",
     "text": [
      "Y= [1 0 0] \t\n",
      "y= [9.94747145e-01 5.25285424e-03 8.35248314e-10]\n"
     ]
    }
   ],
   "source": [
    "# Prediction\n",
    "k=99\n",
    "print(\"Y=\",Y[k],\"\\t\\ny=\",h3.T[k])"
   ]
  },
  {
   "cell_type": "code",
   "execution_count": 11,
   "metadata": {},
   "outputs": [
    {
     "name": "stdout",
     "output_type": "stream",
     "text": [
      "Cost of test set 0.14353394079432186\n"
     ]
    }
   ],
   "source": [
    "# Prediction on test set\n",
    "#Forward Propogation\n",
    "a1t = np.dot(parameters[\"W1\"],Xt.T) + parameters[\"b1\"]\n",
    "h1t = sigmoid(a1t)\n",
    "a2t = np.dot(parameters[\"W2\"],h1t) + parameters[\"b2\"]\n",
    "h2t = sigmoid(a2t)\n",
    "a3t = np.dot(parameters[\"W3\"],h2t) + parameters[\"b3\"]\n",
    "h3t = softmax(a3t)\n",
    "print(\"Cost of test set\",compute_cost(h3t.T,Yt))"
   ]
  },
  {
   "cell_type": "code",
   "execution_count": null,
   "metadata": {},
   "outputs": [],
   "source": []
  }
 ],
 "metadata": {
  "kernelspec": {
   "display_name": "Python 3",
   "language": "python",
   "name": "python3"
  },
  "language_info": {
   "codemirror_mode": {
    "name": "ipython",
    "version": 3
   },
   "file_extension": ".py",
   "mimetype": "text/x-python",
   "name": "python",
   "nbconvert_exporter": "python",
   "pygments_lexer": "ipython3",
   "version": "3.7.6"
  }
 },
 "nbformat": 4,
 "nbformat_minor": 4
}
