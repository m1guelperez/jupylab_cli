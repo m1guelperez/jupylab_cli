{
 "cells": [
  {
   "cell_type": "code",
   "execution_count": 1,
   "metadata": {
    "_cell_guid": "b1076dfc-b9ad-4769-8c92-a6c4dae69d19",
    "_uuid": "8f2839f25d086af736a60e9eeb907d3b93b6e0e5"
   },
   "outputs": [
    {
     "name": "stdout",
     "output_type": "stream",
     "text": [
      "['1.2.276.0.7230010.3.1.4.8323329.1000.1517875165.878027.dcm', '1.2.276.0.7230010.3.1.4.8323329.10002.1517875220.939397.dcm', '1.2.276.0.7230010.3.1.4.8323329.4982.1517875185.837576.dcm', '1.2.276.0.7230010.3.1.4.8323329.12743.1517875241.599591.dcm', '1.2.276.0.7230010.3.1.4.8323329.4440.1517875182.865105.dcm', '1.2.276.0.7230010.3.1.4.8323329.10003.1517875220.942420.dcm', '1.2.276.0.7230010.3.1.4.8323329.4904.1517875185.355709.dcm', '1.2.276.0.7230010.3.1.4.8323329.1314.1517875167.222290.dcm', 'train-rle-sample.csv', '1.2.276.0.7230010.3.1.4.8323329.10001.1517875220.930580.dcm', '1.2.276.0.7230010.3.1.4.8323329.10000.1517875220.938530.dcm']\n"
     ]
    }
   ],
   "source": [
    "import warnings\n",
    "warnings.filterwarnings(\"ignore\")\n",
    "\n",
    "import os\n",
    "import cv2\n",
    "import glob\n",
    "import time\n",
    "import pydicom\n",
    "import numpy as np\n",
    "import pandas as pd\n",
    "import seaborn as sns\n",
    "import matplotlib.pyplot as plt\n",
    "from pathlib import Path\n",
    "\n",
    "import dask as dd\n",
    "import dask.array as da\n",
    "from dask.distributed import Client, progress\n",
    "\n",
    "print(os.listdir(\"../input/sample images\"))"
   ]
  },
  {
   "cell_type": "code",
   "execution_count": 2,
   "metadata": {},
   "outputs": [
    {
     "name": "stdout",
     "output_type": "stream",
     "text": [
      "Number of dcm files found:  10\n"
     ]
    }
   ],
   "source": [
    "# Path to the data\n",
    "data_dir = Path('../input/sample images/')\n",
    "\n",
    "# get the list of all the dcm files recursively\n",
    "all_files = list(data_dir.glob(\"**/*.dcm\"))\n",
    "\n",
    "print(\"Number of dcm files found: \", len(all_files))"
   ]
  },
  {
   "cell_type": "code",
   "execution_count": 3,
   "metadata": {},
   "outputs": [],
   "source": [
    "# Define the path to output directory\n",
    "outdir = \"./processed_images/\"\n",
    "\n",
    "# Make the directory\n",
    "if not os.path.exists(outdir):\n",
    "    os.mkdir(outdir)"
   ]
  },
  {
   "cell_type": "code",
   "execution_count": 4,
   "metadata": {},
   "outputs": [],
   "source": [
    "# Convert DICOM to JPG/PNG via openCV\n",
    "def convert_images(filename, img_type='jpg'):\n",
    "    \"\"\"Reads a dcm file and saves the files as png/jpg\n",
    "    \n",
    "    Args:\n",
    "        filename: path to the dcm file\n",
    "        img_type: format of the processed file (jpg or png)\n",
    "        \n",
    "    \"\"\"\n",
    "    # extract the name of the file\n",
    "    name = filename.parts[-1]\n",
    "    \n",
    "    # read the dcm file\n",
    "    ds = pydicom.read_file(str(filename)) \n",
    "    img = ds.pixel_array\n",
    "    \n",
    "    # save the image as jpg/png\n",
    "    if img_type==\"jpg\":\n",
    "        cv2.imwrite(outdir + name.replace('.dcm','.jpg'), img)\n",
    "    else:\n",
    "        cv2.imwrite(outdir + name.replace('.dcm','.png'), img)"
   ]
  },
  {
   "cell_type": "code",
   "execution_count": 5,
   "metadata": {},
   "outputs": [
    {
     "name": "stdout",
     "output_type": "stream",
     "text": [
      "Total number of files:  10000\n"
     ]
    }
   ],
   "source": [
    "# Making the list bigger hust for showcasing \n",
    "all_files = all_files*1000\n",
    "print(\"Total number of files: \", len(all_files))"
   ]
  },
  {
   "cell_type": "code",
   "execution_count": 6,
   "metadata": {},
   "outputs": [
    {
     "name": "stdout",
     "output_type": "stream",
     "text": [
      "Time taken :  153.49075484275818\n"
     ]
    }
   ],
   "source": [
    "# First using the simple way: the for loop\n",
    "t = time.time()\n",
    "for f in all_files:\n",
    "    convert_images(f)\n",
    "print(\"Time taken : \", time.time() - t)"
   ]
  },
  {
   "cell_type": "code",
   "execution_count": 7,
   "metadata": {},
   "outputs": [
    {
     "name": "stdout",
     "output_type": "stream",
     "text": [
      "Time taken when using all cores:  61.7934250831604\n"
     ]
    }
   ],
   "source": [
    "# Using dask \n",
    "all_images = [dd.delayed(convert_images)(all_files[x]) for x in range(len(all_files))]\n",
    "\n",
    "t = time.time()\n",
    "dd.compute(all_images)\n",
    "print(\"Time taken when using all cores: \", time.time()-t)"
   ]
  },
  {
   "cell_type": "code",
   "execution_count": 8,
   "metadata": {},
   "outputs": [
    {
     "name": "stdout",
     "output_type": "stream",
     "text": [
      "10\r\n"
     ]
    }
   ],
   "source": [
    "# Confirm that all the original 10 images are saved \n",
    "! ls ./processed_images/* | wc -l"
   ]
  },
  {
   "cell_type": "markdown",
   "metadata": {},
   "source": [
    "There is still so much of room left to make it even faster!"
   ]
  },
  {
   "cell_type": "code",
   "execution_count": null,
   "metadata": {},
   "outputs": [],
   "source": []
  }
 ],
 "metadata": {
  "kernelspec": {
   "display_name": "Python 3",
   "language": "python",
   "name": "python3"
  },
  "language_info": {
   "codemirror_mode": {
    "name": "ipython",
    "version": 3
   },
   "file_extension": ".py",
   "mimetype": "text/x-python",
   "name": "python",
   "nbconvert_exporter": "python",
   "pygments_lexer": "ipython3",
   "version": "3.6.6"
  }
 },
 "nbformat": 4,
 "nbformat_minor": 1
}
