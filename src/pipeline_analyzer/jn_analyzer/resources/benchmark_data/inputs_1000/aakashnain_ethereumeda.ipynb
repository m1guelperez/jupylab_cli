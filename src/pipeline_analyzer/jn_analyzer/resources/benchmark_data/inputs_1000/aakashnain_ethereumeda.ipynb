{
 "cells": [
  {
   "cell_type": "markdown",
   "execution_count": null,
   "metadata": {
    "_cell_guid": "b9fca9a0-62e1-4716-8d71-0bfc7e2cc3ad",
    "_execution_state": "idle",
    "_uuid": "5918ae36c5c7a7cc7a67ac80188acb233259df31",
    "collapsed": false
   },
   "outputs": [],
   "source": []
  },
  {
   "cell_type": "code",
   "execution_count": 1,
   "metadata": {
    "_cell_guid": "01d5c00d-03eb-49b7-8ab3-0e3a00f2556b",
    "_execution_state": "idle",
    "_uuid": "d9cbdac6571e16cb7d5cc9d157d26855eb098c70"
   },
   "outputs": [
    {
     "name": "stdout",
     "output_type": "stream",
     "text": [
      "address.csv\n",
      "all_data.csv\n",
      "blocksize.csv\n",
      "etherprice.csv\n",
      "ethersupplygrowth.csv\n",
      "hashrate.csv\n",
      "marketcap.csv\n",
      "tx.csv\n",
      "\n"
     ]
    }
   ],
   "source": [
    "# This Python 3 environment comes with many helpful analytics libraries installed\n",
    "# It is defined by the kaggle/python docker image: https://github.com/kaggle/docker-python\n",
    "# For example, here's several helpful packages to load in \n",
    "\n",
    "import numpy as np # linear algebra\n",
    "import pandas as pd # data processing, CSV file I/O (e.g. pd.read_csv)\n",
    "import matplotlib.pyplot as plt\n",
    "import seaborn as sns\n",
    "# Input data files are available in the \"../input/\" directory.\n",
    "# For example, running this (by clicking run or pressing Shift+Enter) will list the files in the input directory\n",
    "\n",
    "from subprocess import check_output\n",
    "print(check_output([\"ls\", \"../input\"]).decode(\"utf8\"))\n",
    "\n",
    "# Any results you write to the current directory are saved as output."
   ]
  },
  {
   "cell_type": "code",
   "execution_count": 2,
   "metadata": {
    "_cell_guid": "1403085a-1a2d-4b80-aa6b-8791e248ba21",
    "_execution_state": "idle",
    "_uuid": "0328d92146ae578466bd21feb525e9d6e5bee5d5",
    "collapsed": false
   },
   "outputs": [],
   "source": [
    "color = sns.color_palette()\n",
    "%matplotlib inline"
   ]
  },
  {
   "cell_type": "code",
   "execution_count": 3,
   "metadata": {
    "_cell_guid": "5e35a4b0-a146-41c8-9653-693cb598dd2c",
    "_execution_state": "idle",
    "_uuid": "bc52fe5136995876150c89b4538f6a3210f8657c",
    "collapsed": false
   },
   "outputs": [
    {
     "data": {
      "text/html": [
       "<div>\n",
       "<style>\n",
       "    .dataframe thead tr:only-child th {\n",
       "        text-align: right;\n",
       "    }\n",
       "\n",
       "    .dataframe thead th {\n",
       "        text-align: left;\n",
       "    }\n",
       "\n",
       "    .dataframe tbody tr th {\n",
       "        vertical-align: top;\n",
       "    }\n",
       "</style>\n",
       "<table border=\"1\" class=\"dataframe\">\n",
       "  <thead>\n",
       "    <tr style=\"text-align: right;\">\n",
       "      <th></th>\n",
       "      <th>timestamp</th>\n",
       "      <th>total_addresses</th>\n",
       "      <th>blocksize</th>\n",
       "      <th>price_USD</th>\n",
       "      <th>hashrate</th>\n",
       "      <th>total_eth_growth</th>\n",
       "      <th>market-cap-value</th>\n",
       "      <th>transactions</th>\n",
       "    </tr>\n",
       "  </thead>\n",
       "  <tbody>\n",
       "    <tr>\n",
       "      <th>0</th>\n",
       "      <td>1.438214e+09</td>\n",
       "      <td>9205.0</td>\n",
       "      <td>644.0</td>\n",
       "      <td>0.0</td>\n",
       "      <td>23.7569</td>\n",
       "      <td>7.204931e+07</td>\n",
       "      <td>7.204931e+07</td>\n",
       "      <td>8893.0</td>\n",
       "    </tr>\n",
       "    <tr>\n",
       "      <th>1</th>\n",
       "      <td>1.438301e+09</td>\n",
       "      <td>9361.0</td>\n",
       "      <td>582.0</td>\n",
       "      <td>0.0</td>\n",
       "      <td>48.1584</td>\n",
       "      <td>7.208550e+07</td>\n",
       "      <td>7.208550e+07</td>\n",
       "      <td>0.0</td>\n",
       "    </tr>\n",
       "    <tr>\n",
       "      <th>2</th>\n",
       "      <td>1.438387e+09</td>\n",
       "      <td>9476.0</td>\n",
       "      <td>575.0</td>\n",
       "      <td>0.0</td>\n",
       "      <td>55.2709</td>\n",
       "      <td>7.211320e+07</td>\n",
       "      <td>7.211320e+07</td>\n",
       "      <td>0.0</td>\n",
       "    </tr>\n",
       "    <tr>\n",
       "      <th>3</th>\n",
       "      <td>1.438474e+09</td>\n",
       "      <td>9563.0</td>\n",
       "      <td>581.0</td>\n",
       "      <td>0.0</td>\n",
       "      <td>64.1779</td>\n",
       "      <td>7.214143e+07</td>\n",
       "      <td>7.214143e+07</td>\n",
       "      <td>0.0</td>\n",
       "    </tr>\n",
       "    <tr>\n",
       "      <th>4</th>\n",
       "      <td>1.438560e+09</td>\n",
       "      <td>9639.0</td>\n",
       "      <td>587.0</td>\n",
       "      <td>0.0</td>\n",
       "      <td>69.8559</td>\n",
       "      <td>7.216940e+07</td>\n",
       "      <td>7.216940e+07</td>\n",
       "      <td>0.0</td>\n",
       "    </tr>\n",
       "  </tbody>\n",
       "</table>\n",
       "</div>"
      ],
      "text/plain": [
       "      timestamp  total_addresses  blocksize  price_USD  hashrate  \\\n",
       "0  1.438214e+09           9205.0      644.0        0.0   23.7569   \n",
       "1  1.438301e+09           9361.0      582.0        0.0   48.1584   \n",
       "2  1.438387e+09           9476.0      575.0        0.0   55.2709   \n",
       "3  1.438474e+09           9563.0      581.0        0.0   64.1779   \n",
       "4  1.438560e+09           9639.0      587.0        0.0   69.8559   \n",
       "\n",
       "   total_eth_growth  market-cap-value  transactions  \n",
       "0      7.204931e+07      7.204931e+07        8893.0  \n",
       "1      7.208550e+07      7.208550e+07           0.0  \n",
       "2      7.211320e+07      7.211320e+07           0.0  \n",
       "3      7.214143e+07      7.214143e+07           0.0  \n",
       "4      7.216940e+07      7.216940e+07           0.0  "
      ]
     },
     "execution_count": 3,
     "metadata": {},
     "output_type": "execute_result"
    }
   ],
   "source": [
    "# Let's load the data \n",
    "data = pd.read_csv('../input/all_data.csv')\n",
    "data.head()"
   ]
  },
  {
   "cell_type": "code",
   "execution_count": 4,
   "metadata": {
    "_cell_guid": "d1b28fc3-a4af-4511-a942-48d1d9822ef2",
    "_execution_state": "idle",
    "_uuid": "4b3faa3b56e2cd9fa7735049e38aeef984b168ae",
    "collapsed": false
   },
   "outputs": [
    {
     "name": "stdout",
     "output_type": "stream",
     "text": [
      "<class 'pandas.core.frame.DataFrame'>\n",
      "RangeIndex: 684 entries, 0 to 683\n",
      "Data columns (total 8 columns):\n",
      "timestamp           684 non-null float64\n",
      "total_addresses     684 non-null float64\n",
      "blocksize           684 non-null float64\n",
      "price_USD           684 non-null float64\n",
      "hashrate            684 non-null float64\n",
      "total_eth_growth    684 non-null float64\n",
      "market-cap-value    684 non-null float64\n",
      "transactions        684 non-null float64\n",
      "dtypes: float64(8)\n",
      "memory usage: 42.8 KB\n"
     ]
    }
   ],
   "source": [
    "# Let's have an overview of all the columns in the dataframe\n",
    "data.info()"
   ]
  },
  {
   "cell_type": "code",
   "execution_count": 5,
   "metadata": {
    "_cell_guid": "e5b19473-1073-4936-80db-760e8f8e3801",
    "_execution_state": "idle",
    "_uuid": "6f418ce4b0d9868b358bee7a05f31b6bbe780ef0",
    "collapsed": false
   },
   "outputs": [
    {
     "data": {
      "text/html": [
       "<div>\n",
       "<style>\n",
       "    .dataframe thead tr:only-child th {\n",
       "        text-align: right;\n",
       "    }\n",
       "\n",
       "    .dataframe thead th {\n",
       "        text-align: left;\n",
       "    }\n",
       "\n",
       "    .dataframe tbody tr th {\n",
       "        vertical-align: top;\n",
       "    }\n",
       "</style>\n",
       "<table border=\"1\" class=\"dataframe\">\n",
       "  <thead>\n",
       "    <tr style=\"text-align: right;\">\n",
       "      <th></th>\n",
       "      <th>timestamp</th>\n",
       "      <th>total_addresses</th>\n",
       "      <th>blocksize</th>\n",
       "      <th>price_USD</th>\n",
       "      <th>hashrate</th>\n",
       "      <th>total_eth_growth</th>\n",
       "      <th>market-cap-value</th>\n",
       "      <th>transactions</th>\n",
       "    </tr>\n",
       "  </thead>\n",
       "  <tbody>\n",
       "    <tr>\n",
       "      <th>0</th>\n",
       "      <td>1970-01-01</td>\n",
       "      <td>9205.0</td>\n",
       "      <td>644.0</td>\n",
       "      <td>0.0</td>\n",
       "      <td>23.7569</td>\n",
       "      <td>7.204931e+07</td>\n",
       "      <td>7.204931e+07</td>\n",
       "      <td>8893.0</td>\n",
       "    </tr>\n",
       "    <tr>\n",
       "      <th>1</th>\n",
       "      <td>1970-01-01</td>\n",
       "      <td>9361.0</td>\n",
       "      <td>582.0</td>\n",
       "      <td>0.0</td>\n",
       "      <td>48.1584</td>\n",
       "      <td>7.208550e+07</td>\n",
       "      <td>7.208550e+07</td>\n",
       "      <td>0.0</td>\n",
       "    </tr>\n",
       "    <tr>\n",
       "      <th>2</th>\n",
       "      <td>1970-01-01</td>\n",
       "      <td>9476.0</td>\n",
       "      <td>575.0</td>\n",
       "      <td>0.0</td>\n",
       "      <td>55.2709</td>\n",
       "      <td>7.211320e+07</td>\n",
       "      <td>7.211320e+07</td>\n",
       "      <td>0.0</td>\n",
       "    </tr>\n",
       "    <tr>\n",
       "      <th>3</th>\n",
       "      <td>1970-01-01</td>\n",
       "      <td>9563.0</td>\n",
       "      <td>581.0</td>\n",
       "      <td>0.0</td>\n",
       "      <td>64.1779</td>\n",
       "      <td>7.214143e+07</td>\n",
       "      <td>7.214143e+07</td>\n",
       "      <td>0.0</td>\n",
       "    </tr>\n",
       "    <tr>\n",
       "      <th>4</th>\n",
       "      <td>1970-01-01</td>\n",
       "      <td>9639.0</td>\n",
       "      <td>587.0</td>\n",
       "      <td>0.0</td>\n",
       "      <td>69.8559</td>\n",
       "      <td>7.216940e+07</td>\n",
       "      <td>7.216940e+07</td>\n",
       "      <td>0.0</td>\n",
       "    </tr>\n",
       "  </tbody>\n",
       "</table>\n",
       "</div>"
      ],
      "text/plain": [
       "    timestamp  total_addresses  blocksize  price_USD  hashrate  \\\n",
       "0  1970-01-01           9205.0      644.0        0.0   23.7569   \n",
       "1  1970-01-01           9361.0      582.0        0.0   48.1584   \n",
       "2  1970-01-01           9476.0      575.0        0.0   55.2709   \n",
       "3  1970-01-01           9563.0      581.0        0.0   64.1779   \n",
       "4  1970-01-01           9639.0      587.0        0.0   69.8559   \n",
       "\n",
       "   total_eth_growth  market-cap-value  transactions  \n",
       "0      7.204931e+07      7.204931e+07        8893.0  \n",
       "1      7.208550e+07      7.208550e+07           0.0  \n",
       "2      7.211320e+07      7.211320e+07           0.0  \n",
       "3      7.214143e+07      7.214143e+07           0.0  \n",
       "4      7.216940e+07      7.216940e+07           0.0  "
      ]
     },
     "execution_count": 5,
     "metadata": {},
     "output_type": "execute_result"
    }
   ],
   "source": [
    "# Convert timestamp column to proper date-time format\n",
    "data['timestamp'] = pd.to_datetime(data['timestamp'])\n",
    "\n",
    "# Drop the time for now and let's stick only with date\n",
    "data['timestamp'] = data['timestamp'].apply(lambda x : pd.datetime.date(x))\n",
    "\n",
    "data.head()"
   ]
  },
  {
   "cell_type": "markdown",
   "execution_count": null,
   "metadata": {
    "_cell_guid": "ea4e1234-8355-489d-91af-394ed52edf48",
    "_execution_state": "idle",
    "_uuid": "e81810b9a13c259b9b07e920385175356b531eaa",
    "collapsed": false
   },
   "outputs": [],
   "source": [
    "Let's do some analysis on the dataset now"
   ]
  },
  {
   "cell_type": "code",
   "execution_count": 6,
   "metadata": {
    "_cell_guid": "30cfc1f9-024c-4f42-b3e4-de8ec7e888bd",
    "_execution_state": "idle",
    "_uuid": "f57e44430a999cc36fb8d568d907358b0caf437e",
    "collapsed": false
   },
   "outputs": [
    {
     "data": {
      "image/png": "[encoded data removed]",
      "text/plain": [
       "<matplotlib.figure.Figure at 0x7f41cff3b2b0>"
      ]
     },
     "metadata": {},
     "output_type": "display_data"
    }
   ],
   "source": [
    "plt.figure(figsize=(10,5))\n",
    "plt.scatter(range(len(data)), np.sort(data.total_addresses.values),alpha=0.5)\n",
    "plt.xlabel('Index')\n",
    "plt.ylabel('Total addresses')\n",
    "plt.title('Addresses distribution ')\n",
    "plt.show()"
   ]
  },
  {
   "cell_type": "code",
   "execution_count": 7,
   "metadata": {
    "_cell_guid": "99cfdc75-d63c-4683-978c-f6baa529c354",
    "_execution_state": "idle",
    "_uuid": "3a7e5c862d3e71ac874c7532b312b6486434fbbf",
    "collapsed": false
   },
   "outputs": [
    {
     "data": {
      "image/png": "[encoded data removed]",
      "text/plain": [
       "<matplotlib.figure.Figure at 0x7f41ccb6aac8>"
      ]
     },
     "metadata": {},
     "output_type": "display_data"
    }
   ],
   "source": [
    "plt.figure(figsize=(10,10))\n",
    "plt.scatter(range(len(data)), np.sort(data.blocksize.values),alpha=0.5)\n",
    "plt.xlabel('Index')\n",
    "plt.ylabel('Blocksize')\n",
    "plt.title('Blocksize distribution ')\n",
    "plt.show()"
   ]
  },
  {
   "cell_type": "markdown",
   "execution_count": null,
   "metadata": {
    "_cell_guid": "741ee197-dc5b-4190-a1e9-e03ef72e6b89",
    "_execution_state": "idle",
    "_uuid": "f462efade5fc18c79319178e33e387318739de01",
    "collapsed": false
   },
   "outputs": [],
   "source": [
    "From the above plot, we can see that there are some outliers in our dataset, let's check them"
   ]
  },
  {
   "cell_type": "code",
   "execution_count": 8,
   "metadata": {
    "_cell_guid": "04b3886c-a38a-4b62-a15e-1d71f4e7a76a",
    "_execution_state": "idle",
    "_uuid": "00903c76b964eabcd7920e772d027362e753a6e1",
    "collapsed": false
   },
   "outputs": [
    {
     "data": {
      "text/html": [
       "<div>\n",
       "<style>\n",
       "    .dataframe thead tr:only-child th {\n",
       "        text-align: right;\n",
       "    }\n",
       "\n",
       "    .dataframe thead th {\n",
       "        text-align: left;\n",
       "    }\n",
       "\n",
       "    .dataframe tbody tr th {\n",
       "        vertical-align: top;\n",
       "    }\n",
       "</style>\n",
       "<table border=\"1\" class=\"dataframe\">\n",
       "  <thead>\n",
       "    <tr style=\"text-align: right;\">\n",
       "      <th></th>\n",
       "      <th>timestamp</th>\n",
       "      <th>total_addresses</th>\n",
       "      <th>blocksize</th>\n",
       "      <th>price_USD</th>\n",
       "      <th>hashrate</th>\n",
       "      <th>total_eth_growth</th>\n",
       "      <th>market-cap-value</th>\n",
       "      <th>transactions</th>\n",
       "    </tr>\n",
       "  </thead>\n",
       "  <tbody>\n",
       "    <tr>\n",
       "      <th>438</th>\n",
       "      <td>1970-01-01</td>\n",
       "      <td>686320.0</td>\n",
       "      <td>12725.0</td>\n",
       "      <td>11.74</td>\n",
       "      <td>6191.8909</td>\n",
       "      <td>8.484240e+07</td>\n",
       "      <td>8.484240e+07</td>\n",
       "      <td>44940.0</td>\n",
       "    </tr>\n",
       "    <tr>\n",
       "      <th>682</th>\n",
       "      <td>1970-01-01</td>\n",
       "      <td>2859713.0</td>\n",
       "      <td>8658.0</td>\n",
       "      <td>339.68</td>\n",
       "      <td>42335.4349</td>\n",
       "      <td>9.240505e+07</td>\n",
       "      <td>9.240505e+07</td>\n",
       "      <td>240490.0</td>\n",
       "    </tr>\n",
       "    <tr>\n",
       "      <th>683</th>\n",
       "      <td>1970-01-01</td>\n",
       "      <td>2919025.0</td>\n",
       "      <td>9451.0</td>\n",
       "      <td>394.66</td>\n",
       "      <td>41975.3291</td>\n",
       "      <td>9.243315e+07</td>\n",
       "      <td>9.243315e+07</td>\n",
       "      <td>292941.0</td>\n",
       "    </tr>\n",
       "  </tbody>\n",
       "</table>\n",
       "</div>"
      ],
      "text/plain": [
       "      timestamp  total_addresses  blocksize  price_USD    hashrate  \\\n",
       "438  1970-01-01         686320.0    12725.0      11.74   6191.8909   \n",
       "682  1970-01-01        2859713.0     8658.0     339.68  42335.4349   \n",
       "683  1970-01-01        2919025.0     9451.0     394.66  41975.3291   \n",
       "\n",
       "     total_eth_growth  market-cap-value  transactions  \n",
       "438      8.484240e+07      8.484240e+07       44940.0  \n",
       "682      9.240505e+07      9.240505e+07      240490.0  \n",
       "683      9.243315e+07      9.243315e+07      292941.0  "
      ]
     },
     "execution_count": 8,
     "metadata": {},
     "output_type": "execute_result"
    }
   ],
   "source": [
    "blocksize_ulimit = 8000\n",
    "data[data.blocksize > blocksize_ulimit]"
   ]
  },
  {
   "cell_type": "markdown",
   "execution_count": null,
   "metadata": {
    "_cell_guid": "261822c4-6f09-4ad1-9972-e123a7a9579a",
    "_execution_state": "idle",
    "_uuid": "810a83779a2a8dab28a6b1588a17797aec358c4e",
    "collapsed": false
   },
   "outputs": [],
   "source": [
    "Although the above three points are outliers, but there is much more important info presented here. If we see the number of transactions in the last two entries, it makes sense that number of addresses as well as blocksize should be high. "
   ]
  },
  {
   "cell_type": "code",
   "execution_count": 9,
   "metadata": {
    "_cell_guid": "b809f61b-e2b0-4ab7-a641-19aff135297c",
    "_execution_state": "idle",
    "_uuid": "a35a43974dccd48141e885e257ec383f7d6fcbf8",
    "collapsed": false
   },
   "outputs": [
    {
     "data": {
      "image/png": "[encoded data removed]",
      "text/plain": [
       "<matplotlib.figure.Figure at 0x7f41cca4a358>"
      ]
     },
     "metadata": {},
     "output_type": "display_data"
    }
   ],
   "source": [
    "new_blocksize = data['blocksize'].loc[data.blocksize < blocksize_ulimit]\n",
    "\n",
    "plt.figure(figsize=(10,10))\n",
    "sns.distplot(new_blocksize.values, kde=False, bins=50)\n",
    "plt.xlabel('Blocksize')\n",
    "plt.ylabel('Count')\n",
    "plt.title('Blocksize distribution ')\n",
    "plt.show()"
   ]
  },
  {
   "cell_type": "code",
   "execution_count": 10,
   "metadata": {
    "_cell_guid": "f07b38ed-74ca-4554-a96b-532553ea6e50",
    "_execution_state": "idle",
    "_uuid": "617ddfe2d79864ac3054ac0a5cb66c36cace810e",
    "collapsed": false
   },
   "outputs": [
    {
     "name": "stderr",
     "output_type": "stream",
     "text": [
      "/opt/conda/lib/python3.6/site-packages/matplotlib/axes/_base.py:2917: UserWarning: Attempting to set identical left==right results\n",
      "in singular transformations; automatically expanding.\n",
      "left=719163.0, right=719163.0\n",
      "  'left=%s, right=%s') % (left, right))\n"
     ]
    },
    {
     "data": {
      "image/png": "[encoded data removed]",
      "text/plain": [
       "<matplotlib.figure.Figure at 0x7f41cc805f28>"
      ]
     },
     "metadata": {},
     "output_type": "display_data"
    }
   ],
   "source": [
    "df = data[['timestamp','price_USD']]\n",
    "df.plot(x='timestamp', y='price_USD',figsize=(10,5),fontsize=14);"
   ]
  },
  {
   "cell_type": "markdown",
   "execution_count": null,
   "metadata": {
    "_cell_guid": "6b17c0c8-f889-4108-9938-41af2718228c",
    "_execution_state": "idle",
    "_uuid": "7935987d2b1e33e22bf56d09d41d9198ab2b6133",
    "collapsed": false
   },
   "outputs": [],
   "source": [
    "**More to come. Stay tuned!!**"
   ]
  },
  {
   "cell_type": "code",
   "execution_count": 11,
   "metadata": {
    "_cell_guid": "626bd602-8694-40af-912c-57db212b393f",
    "_execution_state": "idle",
    "_uuid": "2b9db635cea71eae317e2d1c7031a69ac71f7537",
    "collapsed": false
   },
   "outputs": [],
   "source": []
  }
 ],
 "metadata": {
  "kernelspec": {
   "display_name": "Python 3",
   "language": "python",
   "name": "python3"
  },
  "language_info": {
   "codemirror_mode": {
    "name": "ipython",
    "version": 3
   },
   "file_extension": ".py",
   "mimetype": "text/x-python",
   "name": "python",
   "nbconvert_exporter": "python",
   "pygments_lexer": "ipython3",
   "version": "3.6.1"
  }
 },
 "nbformat": 4,
 "nbformat_minor": 0
}
