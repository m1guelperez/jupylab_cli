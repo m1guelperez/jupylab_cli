{
 "cells": [
  {
   "cell_type": "markdown",
   "metadata": {},
   "source": [
    "# Investigating Boston Crime data"
   ]
  },
  {
   "cell_type": "markdown",
   "metadata": {},
   "source": [
    "## Introduction\n"
   ]
  },
  {
   "cell_type": "markdown",
   "metadata": {},
   "source": [
    "These dataset contains crime incident provided by Boston Police Department (BPD) to document the initial details surrounding an incident to which BPD officers respond. It contains records from the new crime incident report system of Boston , which includes a reduced set of fields focused on capturing the type of incident as well as when and where it occurred.It has 2,60,760 rows and 17 columns starting from June 2015.\n",
    "\n",
    "Source - https://data.boston.gov/dataset/crime-incident-reports-august-2015-to-date-source-new-system"
   ]
  },
  {
   "cell_type": "markdown",
   "metadata": {},
   "source": [
    "### Importing required packages"
   ]
  },
  {
   "cell_type": "markdown",
   "metadata": {},
   "source": [
    "Importing all the necessary packages required "
   ]
  },
  {
   "cell_type": "code",
   "execution_count": 1,
   "metadata": {},
   "outputs": [],
   "source": [
    "import numpy as np\n",
    "import pandas as pd\n",
    "import seaborn as sns\n",
    "import matplotlib.pyplot as plt\n",
    "import scipy.stats as stats\n"
   ]
  },
  {
   "cell_type": "markdown",
   "metadata": {},
   "source": [
    "### Importing Data set"
   ]
  },
  {
   "cell_type": "code",
   "execution_count": 2,
   "metadata": {},
   "outputs": [],
   "source": [
    "df_c = pd.read_csv('../input/boston_crime.csv',\n",
    "                 sep=',', header=0, parse_dates=[\"OCCURRED_ON_DATE\"])"
   ]
  },
  {
   "cell_type": "markdown",
   "metadata": {},
   "source": [
    "Let's preview the first 10 rows of the data set we just imported."
   ]
  },
  {
   "cell_type": "code",
   "execution_count": 3,
   "metadata": {
    "scrolled": true
   },
   "outputs": [
    {
     "data": {
      "text/html": [
       "<div>\n",
       "<style scoped>\n",
       "    .dataframe tbody tr th:only-of-type {\n",
       "        vertical-align: middle;\n",
       "    }\n",
       "\n",
       "    .dataframe tbody tr th {\n",
       "        vertical-align: top;\n",
       "    }\n",
       "\n",
       "    .dataframe thead th {\n",
       "        text-align: right;\n",
       "    }\n",
       "</style>\n",
       "<table border=\"1\" class=\"dataframe\">\n",
       "  <thead>\n",
       "    <tr style=\"text-align: right;\">\n",
       "      <th></th>\n",
       "      <th>INCIDENT_NUMBER</th>\n",
       "      <th>OFFENSE_CODE</th>\n",
       "      <th>OFFENSE_CODE_GROUP</th>\n",
       "      <th>OFFENSE_DESCRIPTION</th>\n",
       "      <th>DISTRICT</th>\n",
       "      <th>REPORTING_AREA</th>\n",
       "      <th>SHOOTING</th>\n",
       "      <th>OCCURRED_ON_DATE</th>\n",
       "      <th>YEAR</th>\n",
       "      <th>MONTH</th>\n",
       "      <th>DAY_OF_WEEK</th>\n",
       "      <th>HOUR</th>\n",
       "      <th>UCR_PART</th>\n",
       "      <th>STREET</th>\n",
       "      <th>Lat</th>\n",
       "      <th>Long</th>\n",
       "      <th>Location</th>\n",
       "    </tr>\n",
       "  </thead>\n",
       "  <tbody>\n",
       "    <tr>\n",
       "      <td>0</td>\n",
       "      <td>I192062057</td>\n",
       "      <td>619</td>\n",
       "      <td>Larceny</td>\n",
       "      <td>LARCENY ALL OTHERS</td>\n",
       "      <td>B3</td>\n",
       "      <td>444</td>\n",
       "      <td>NaN</td>\n",
       "      <td>2019-08-08 21:15:00</td>\n",
       "      <td>2019</td>\n",
       "      <td>8</td>\n",
       "      <td>Thursday</td>\n",
       "      <td>21</td>\n",
       "      <td>Part One</td>\n",
       "      <td>BLUE HILL AVE</td>\n",
       "      <td>42.295764</td>\n",
       "      <td>-71.087560</td>\n",
       "      <td>(42.29576380, -71.08756002)</td>\n",
       "    </tr>\n",
       "    <tr>\n",
       "      <td>1</td>\n",
       "      <td>I192062054</td>\n",
       "      <td>3115</td>\n",
       "      <td>Investigate Person</td>\n",
       "      <td>INVESTIGATE PERSON</td>\n",
       "      <td>D4</td>\n",
       "      <td>156</td>\n",
       "      <td>NaN</td>\n",
       "      <td>2019-08-08 21:04:00</td>\n",
       "      <td>2019</td>\n",
       "      <td>8</td>\n",
       "      <td>Thursday</td>\n",
       "      <td>21</td>\n",
       "      <td>Part Three</td>\n",
       "      <td>W CONCORD ST</td>\n",
       "      <td>42.339620</td>\n",
       "      <td>-71.076992</td>\n",
       "      <td>(42.33961962, -71.07699237)</td>\n",
       "    </tr>\n",
       "    <tr>\n",
       "      <td>2</td>\n",
       "      <td>I192062049</td>\n",
       "      <td>1402</td>\n",
       "      <td>Vandalism</td>\n",
       "      <td>VANDALISM</td>\n",
       "      <td>NaN</td>\n",
       "      <td></td>\n",
       "      <td>NaN</td>\n",
       "      <td>2019-08-08 21:19:00</td>\n",
       "      <td>2019</td>\n",
       "      <td>8</td>\n",
       "      <td>Thursday</td>\n",
       "      <td>21</td>\n",
       "      <td>Part Two</td>\n",
       "      <td>NaN</td>\n",
       "      <td>NaN</td>\n",
       "      <td>NaN</td>\n",
       "      <td>(0.00000000, 0.00000000)</td>\n",
       "    </tr>\n",
       "    <tr>\n",
       "      <td>3</td>\n",
       "      <td>I192062044</td>\n",
       "      <td>3006</td>\n",
       "      <td>Medical Assistance</td>\n",
       "      <td>SICK/INJURED/MEDICAL - PERSON</td>\n",
       "      <td>D4</td>\n",
       "      <td>162</td>\n",
       "      <td>NaN</td>\n",
       "      <td>2019-08-08 19:31:00</td>\n",
       "      <td>2019</td>\n",
       "      <td>8</td>\n",
       "      <td>Thursday</td>\n",
       "      <td>19</td>\n",
       "      <td>Part Three</td>\n",
       "      <td>HARRISON AVE</td>\n",
       "      <td>42.344967</td>\n",
       "      <td>-71.063822</td>\n",
       "      <td>(42.34496729, -71.06382224)</td>\n",
       "    </tr>\n",
       "    <tr>\n",
       "      <td>4</td>\n",
       "      <td>I192062043</td>\n",
       "      <td>3201</td>\n",
       "      <td>Property Lost</td>\n",
       "      <td>PROPERTY - LOST</td>\n",
       "      <td>D4</td>\n",
       "      <td>141</td>\n",
       "      <td>NaN</td>\n",
       "      <td>2019-08-08 19:15:00</td>\n",
       "      <td>2019</td>\n",
       "      <td>8</td>\n",
       "      <td>Thursday</td>\n",
       "      <td>19</td>\n",
       "      <td>Part Three</td>\n",
       "      <td>NEWBURY ST</td>\n",
       "      <td>42.348406</td>\n",
       "      <td>-71.086883</td>\n",
       "      <td>(42.34840576, -71.08688339)</td>\n",
       "    </tr>\n",
       "    <tr>\n",
       "      <td>5</td>\n",
       "      <td>I192062042</td>\n",
       "      <td>3006</td>\n",
       "      <td>Medical Assistance</td>\n",
       "      <td>SICK/INJURED/MEDICAL - PERSON</td>\n",
       "      <td>D4</td>\n",
       "      <td>617</td>\n",
       "      <td>NaN</td>\n",
       "      <td>2019-08-08 19:08:00</td>\n",
       "      <td>2019</td>\n",
       "      <td>8</td>\n",
       "      <td>Thursday</td>\n",
       "      <td>19</td>\n",
       "      <td>Part Three</td>\n",
       "      <td>HUNTINGTON AVE</td>\n",
       "      <td>42.337923</td>\n",
       "      <td>-71.095266</td>\n",
       "      <td>(42.33792266, -71.09526598)</td>\n",
       "    </tr>\n",
       "    <tr>\n",
       "      <td>6</td>\n",
       "      <td>I192062039</td>\n",
       "      <td>3115</td>\n",
       "      <td>Investigate Person</td>\n",
       "      <td>INVESTIGATE PERSON</td>\n",
       "      <td>C11</td>\n",
       "      <td>359</td>\n",
       "      <td>NaN</td>\n",
       "      <td>2019-08-08 20:39:00</td>\n",
       "      <td>2019</td>\n",
       "      <td>8</td>\n",
       "      <td>Thursday</td>\n",
       "      <td>20</td>\n",
       "      <td>Part Three</td>\n",
       "      <td>WASHINGTON ST</td>\n",
       "      <td>42.294814</td>\n",
       "      <td>-71.072009</td>\n",
       "      <td>(42.29481426, -71.07200871)</td>\n",
       "    </tr>\n",
       "    <tr>\n",
       "      <td>7</td>\n",
       "      <td>I192062036</td>\n",
       "      <td>3115</td>\n",
       "      <td>Investigate Person</td>\n",
       "      <td>INVESTIGATE PERSON</td>\n",
       "      <td>B2</td>\n",
       "      <td>585</td>\n",
       "      <td>NaN</td>\n",
       "      <td>2019-08-08 20:09:00</td>\n",
       "      <td>2019</td>\n",
       "      <td>8</td>\n",
       "      <td>Thursday</td>\n",
       "      <td>20</td>\n",
       "      <td>Part Three</td>\n",
       "      <td>PARKER HILL AVE</td>\n",
       "      <td>42.330335</td>\n",
       "      <td>-71.107499</td>\n",
       "      <td>(42.33033485, -71.10749865)</td>\n",
       "    </tr>\n",
       "    <tr>\n",
       "      <td>8</td>\n",
       "      <td>I192062035</td>\n",
       "      <td>3410</td>\n",
       "      <td>Towed</td>\n",
       "      <td>TOWED MOTOR VEHICLE</td>\n",
       "      <td>B3</td>\n",
       "      <td>465</td>\n",
       "      <td>NaN</td>\n",
       "      <td>2019-08-08 19:04:00</td>\n",
       "      <td>2019</td>\n",
       "      <td>8</td>\n",
       "      <td>Thursday</td>\n",
       "      <td>19</td>\n",
       "      <td>Part Three</td>\n",
       "      <td>WILCOCK ST</td>\n",
       "      <td>42.286889</td>\n",
       "      <td>-71.092230</td>\n",
       "      <td>(42.28688930, -71.09222991)</td>\n",
       "    </tr>\n",
       "    <tr>\n",
       "      <td>9</td>\n",
       "      <td>I192062034</td>\n",
       "      <td>3006</td>\n",
       "      <td>Medical Assistance</td>\n",
       "      <td>SICK/INJURED/MEDICAL - PERSON</td>\n",
       "      <td>E18</td>\n",
       "      <td>537</td>\n",
       "      <td>NaN</td>\n",
       "      <td>2019-08-08 20:03:00</td>\n",
       "      <td>2019</td>\n",
       "      <td>8</td>\n",
       "      <td>Thursday</td>\n",
       "      <td>20</td>\n",
       "      <td>Part Three</td>\n",
       "      <td>KOVEY RD</td>\n",
       "      <td>NaN</td>\n",
       "      <td>NaN</td>\n",
       "      <td>(0.00000000, 0.00000000)</td>\n",
       "    </tr>\n",
       "  </tbody>\n",
       "</table>\n",
       "</div>"
      ],
      "text/plain": [
       "  INCIDENT_NUMBER  OFFENSE_CODE  OFFENSE_CODE_GROUP  \\\n",
       "0      I192062057           619             Larceny   \n",
       "1      I192062054          3115  Investigate Person   \n",
       "2      I192062049          1402           Vandalism   \n",
       "3      I192062044          3006  Medical Assistance   \n",
       "4      I192062043          3201       Property Lost   \n",
       "5      I192062042          3006  Medical Assistance   \n",
       "6      I192062039          3115  Investigate Person   \n",
       "7      I192062036          3115  Investigate Person   \n",
       "8      I192062035          3410               Towed   \n",
       "9      I192062034          3006  Medical Assistance   \n",
       "\n",
       "             OFFENSE_DESCRIPTION DISTRICT REPORTING_AREA SHOOTING  \\\n",
       "0             LARCENY ALL OTHERS       B3            444      NaN   \n",
       "1             INVESTIGATE PERSON       D4            156      NaN   \n",
       "2                      VANDALISM      NaN                     NaN   \n",
       "3  SICK/INJURED/MEDICAL - PERSON       D4            162      NaN   \n",
       "4                PROPERTY - LOST       D4            141      NaN   \n",
       "5  SICK/INJURED/MEDICAL - PERSON       D4            617      NaN   \n",
       "6             INVESTIGATE PERSON      C11            359      NaN   \n",
       "7             INVESTIGATE PERSON       B2            585      NaN   \n",
       "8            TOWED MOTOR VEHICLE       B3            465      NaN   \n",
       "9  SICK/INJURED/MEDICAL - PERSON      E18            537      NaN   \n",
       "\n",
       "     OCCURRED_ON_DATE  YEAR  MONTH DAY_OF_WEEK  HOUR    UCR_PART  \\\n",
       "0 2019-08-08 21:15:00  2019      8    Thursday    21    Part One   \n",
       "1 2019-08-08 21:04:00  2019      8    Thursday    21  Part Three   \n",
       "2 2019-08-08 21:19:00  2019      8    Thursday    21    Part Two   \n",
       "3 2019-08-08 19:31:00  2019      8    Thursday    19  Part Three   \n",
       "4 2019-08-08 19:15:00  2019      8    Thursday    19  Part Three   \n",
       "5 2019-08-08 19:08:00  2019      8    Thursday    19  Part Three   \n",
       "6 2019-08-08 20:39:00  2019      8    Thursday    20  Part Three   \n",
       "7 2019-08-08 20:09:00  2019      8    Thursday    20  Part Three   \n",
       "8 2019-08-08 19:04:00  2019      8    Thursday    19  Part Three   \n",
       "9 2019-08-08 20:03:00  2019      8    Thursday    20  Part Three   \n",
       "\n",
       "            STREET        Lat       Long                     Location  \n",
       "0    BLUE HILL AVE  42.295764 -71.087560  (42.29576380, -71.08756002)  \n",
       "1     W CONCORD ST  42.339620 -71.076992  (42.33961962, -71.07699237)  \n",
       "2              NaN        NaN        NaN     (0.00000000, 0.00000000)  \n",
       "3     HARRISON AVE  42.344967 -71.063822  (42.34496729, -71.06382224)  \n",
       "4       NEWBURY ST  42.348406 -71.086883  (42.34840576, -71.08688339)  \n",
       "5   HUNTINGTON AVE  42.337923 -71.095266  (42.33792266, -71.09526598)  \n",
       "6    WASHINGTON ST  42.294814 -71.072009  (42.29481426, -71.07200871)  \n",
       "7  PARKER HILL AVE  42.330335 -71.107499  (42.33033485, -71.10749865)  \n",
       "8       WILCOCK ST  42.286889 -71.092230  (42.28688930, -71.09222991)  \n",
       "9         KOVEY RD        NaN        NaN     (0.00000000, 0.00000000)  "
      ]
     },
     "execution_count": 3,
     "metadata": {},
     "output_type": "execute_result"
    }
   ],
   "source": [
    "df_c.head(10)"
   ]
  },
  {
   "cell_type": "markdown",
   "metadata": {},
   "source": [
    "### Exploring and Cleaning Data"
   ]
  },
  {
   "cell_type": "markdown",
   "metadata": {},
   "source": [
    "There are 17 columns in our data set and below is the description of the each column.\n",
    "\n",
    "- INCIDENT_NUMBER - Internal Internal BPD report number\n",
    "- OFFENSE_CODE - Numerical code of offense description\n",
    "- OFFENSE_CODE_GROUP - Internal categorization of [offense_description]\n",
    "- OFFENSE_DESCRIPTION - Primary descriptor of incident\n",
    "- DISTRICT - What district the crime was reported in\n",
    "- REPORTING_AREA - RA number associated with the where the crime was reported from.\n",
    "- SHOOTING - Indicated a shooting took place.\n",
    "- OCCURRED_ON_DATE - Earliest date and time the incident could have taken place\n",
    "- YEAR - Year derived from [OCCURRED_ON_DATE]\n",
    "- MONTH - Month derived from [OCCURRED_ON_DATE]\n",
    "- DAY_OF_WEEK - Day derived from [OCCURRED_ON_DATE]\n",
    "- HOUR - Hour derived from [OCCURRED_ON_DATE]\n",
    "- UCR_PART - Universal Crime Reporting Part number (1,2,3)\n",
    "- STREET - Street name the incident took place\n",
    "- Lat - Latitude dereived from [STREET]\n",
    "- Long - Longitude derived from [STREET]\n",
    "- Location - Lat and Long together derived from [STREET]"
   ]
  },
  {
   "cell_type": "markdown",
   "metadata": {},
   "source": [
    "Let's see the total number of observations, number of columns and data type of each column in the data frame. Below is a custom function called `ExploreData`, which prints the number of rows, number of columns and the data type in any data frame."
   ]
  },
  {
   "cell_type": "code",
   "execution_count": 4,
   "metadata": {},
   "outputs": [],
   "source": [
    "def ExploreData(dtaframe):\n",
    "    \"\"\"\n",
    "    This function print these features of a data frame:\n",
    "    1. Number of Rows\n",
    "    2. Number of Columns\n",
    "    3. Column names and their data types\n",
    "\n",
    "    :dtaframe: Takes data frame as the input:\n",
    "\n",
    "    \"\"\"\n",
    "    print(\"\\nNumber of Columns: {}\".format(len(dtaframe.columns)))\n",
    "    print(\"\\nNumber of Rows: {}\".format(len(dtaframe)))\n",
    "    print(\"\\nColumns and their data types: \\n\\n{}\".format(dtaframe.dtypes))"
   ]
  },
  {
   "cell_type": "code",
   "execution_count": 5,
   "metadata": {},
   "outputs": [
    {
     "name": "stdout",
     "output_type": "stream",
     "text": [
      "\n",
      "Number of Columns: 17\n",
      "\n",
      "Number of Rows: 411033\n",
      "\n",
      "Columns and their data types: \n",
      "\n",
      "INCIDENT_NUMBER                object\n",
      "OFFENSE_CODE                    int64\n",
      "OFFENSE_CODE_GROUP             object\n",
      "OFFENSE_DESCRIPTION            object\n",
      "DISTRICT                       object\n",
      "REPORTING_AREA                 object\n",
      "SHOOTING                       object\n",
      "OCCURRED_ON_DATE       datetime64[ns]\n",
      "YEAR                            int64\n",
      "MONTH                           int64\n",
      "DAY_OF_WEEK                    object\n",
      "HOUR                            int64\n",
      "UCR_PART                       object\n",
      "STREET                         object\n",
      "Lat                           float64\n",
      "Long                          float64\n",
      "Location                       object\n",
      "dtype: object\n"
     ]
    }
   ],
   "source": [
    "ExploreData(df_c)"
   ]
  },
  {
   "cell_type": "markdown",
   "metadata": {},
   "source": [
    "Below is a custom function `PrintColValues()` which takes the data frame as the input and returns the unique values present in each column of that data frame. If any column has more than 30 uniques values, then this function prints the number of unique values the column has."
   ]
  },
  {
   "cell_type": "code",
   "execution_count": 6,
   "metadata": {},
   "outputs": [],
   "source": [
    "def PrintColValues(dataframe):\n",
    "    \"\"\"\n",
    "    This function finds the uniques values present in each column in a data frame and prints it.\n",
    "    The output is column name along with the unique values it has.\n",
    "    If a column has more than 30 unique values, then it just print the number of unique values that column has.\n",
    "\n",
    "    :dataframe: Takes data frame as the input:\n",
    "\n",
    "    \"\"\"\n",
    "    for c in list(dataframe.columns):\n",
    "        n = dataframe[c].unique()\n",
    "        if len(n) < 30:\n",
    "            print(c)\n",
    "            print(n)\n",
    "        else:\n",
    "            print(c + ': ' + str(len(n)) + ' unique values')"
   ]
  },
  {
   "cell_type": "code",
   "execution_count": 7,
   "metadata": {
    "scrolled": false
   },
   "outputs": [
    {
     "name": "stdout",
     "output_type": "stream",
     "text": [
      "INCIDENT_NUMBER: 361921 unique values\n",
      "OFFENSE_CODE: 222 unique values\n",
      "OFFENSE_CODE_GROUP: 67 unique values\n",
      "OFFENSE_DESCRIPTION: 244 unique values\n",
      "DISTRICT\n",
      "['B3' 'D4' nan 'C11' 'B2' 'E18' 'E5' 'D14' 'E13' 'C6' 'A1' 'A7' 'A15']\n",
      "REPORTING_AREA: 880 unique values\n",
      "SHOOTING\n",
      "[nan 'Y']\n",
      "OCCURRED_ON_DATE: 298279 unique values\n",
      "YEAR\n",
      "[2019 2015 2018 2017 2016]\n",
      "MONTH\n",
      "[ 8  7  5  3  6  9  1 11 12  4 10  2]\n",
      "DAY_OF_WEEK\n",
      "['Thursday' 'Wednesday' 'Monday' 'Saturday' 'Friday' 'Tuesday' 'Sunday']\n",
      "HOUR\n",
      "[21 19 20 18 17  9 15 10 16 14  0 12 13 11  7  1  8 23  2  6  5  4  3 22]\n",
      "UCR_PART\n",
      "['Part One' 'Part Three' 'Part Two' nan 'Other']\n",
      "STREET: 4852 unique values\n",
      "Lat: 18807 unique values\n",
      "Long: 18809 unique values\n",
      "Location: 18825 unique values\n"
     ]
    }
   ],
   "source": [
    "PrintColValues(df_c)"
   ]
  },
  {
   "cell_type": "markdown",
   "metadata": {},
   "source": [
    "### Missing Value Treatment"
   ]
  },
  {
   "cell_type": "markdown",
   "metadata": {},
   "source": [
    "Before treating missing values, we need to make sure that that does not have any blank cells. This is because, Python consider NaN as missing values but if there is any empyt cell, then it won't. Hence, converting any empty space to NaN, which python can undertand as missing value."
   ]
  },
  {
   "cell_type": "code",
   "execution_count": 8,
   "metadata": {},
   "outputs": [],
   "source": [
    "df_c = df_c.replace(\"\", np.nan, regex=True)"
   ]
  },
  {
   "cell_type": "markdown",
   "metadata": {},
   "source": [
    "Let's see how many columns have missing values."
   ]
  },
  {
   "cell_type": "code",
   "execution_count": 9,
   "metadata": {},
   "outputs": [
    {
     "data": {
      "text/plain": [
       "SHOOTING               409347\n",
       "Lat                     26236\n",
       "Long                    26236\n",
       "STREET                  12106\n",
       "DISTRICT                 2131\n",
       "UCR_PART                  109\n",
       "Location                    0\n",
       "REPORTING_AREA              0\n",
       "OFFENSE_CODE                0\n",
       "OFFENSE_CODE_GROUP          0\n",
       "OFFENSE_DESCRIPTION         0\n",
       "YEAR                        0\n",
       "OCCURRED_ON_DATE            0\n",
       "MONTH                       0\n",
       "DAY_OF_WEEK                 0\n",
       "HOUR                        0\n",
       "INCIDENT_NUMBER             0\n",
       "dtype: int64"
      ]
     },
     "execution_count": 9,
     "metadata": {},
     "output_type": "execute_result"
    }
   ],
   "source": [
    "Col_List = list(df_c.columns)\n",
    "df_c[Col_List].isnull().sum().sort_values(ascending = False)"
   ]
  },
  {
   "cell_type": "markdown",
   "metadata": {},
   "source": [
    "Now we see a lot of missing values in column `SHOOTING`. This is because, only those cases where shooting occured is reported and rest are left blanks. Hence, filling these blanks with N to indicate \"No Shooting\"."
   ]
  },
  {
   "cell_type": "code",
   "execution_count": 10,
   "metadata": {},
   "outputs": [],
   "source": [
    "# Replace Nan with N in Shooting columns \n",
    "df_c['SHOOTING'] = df_c['SHOOTING'].replace(np.nan, 'N')"
   ]
  },
  {
   "cell_type": "markdown",
   "metadata": {},
   "source": [
    "Checking the missing values again to make sure 'SHOOTING' column does not have any missing values."
   ]
  },
  {
   "cell_type": "code",
   "execution_count": 11,
   "metadata": {},
   "outputs": [
    {
     "data": {
      "text/plain": [
       "Lat                    26236\n",
       "Long                   26236\n",
       "STREET                 12106\n",
       "DISTRICT                2131\n",
       "UCR_PART                 109\n",
       "Location                   0\n",
       "REPORTING_AREA             0\n",
       "OFFENSE_CODE               0\n",
       "OFFENSE_CODE_GROUP         0\n",
       "OFFENSE_DESCRIPTION        0\n",
       "YEAR                       0\n",
       "SHOOTING                   0\n",
       "OCCURRED_ON_DATE           0\n",
       "MONTH                      0\n",
       "DAY_OF_WEEK                0\n",
       "HOUR                       0\n",
       "INCIDENT_NUMBER            0\n",
       "dtype: int64"
      ]
     },
     "execution_count": 11,
     "metadata": {},
     "output_type": "execute_result"
    }
   ],
   "source": [
    "df_c[Col_List].isnull().sum().sort_values(ascending = False)"
   ]
  },
  {
   "cell_type": "markdown",
   "metadata": {},
   "source": [
    "Now we will remove those rows where there is any missing value. "
   ]
  },
  {
   "cell_type": "code",
   "execution_count": 12,
   "metadata": {},
   "outputs": [],
   "source": [
    "df_c = df_c.dropna(how='any')"
   ]
  },
  {
   "cell_type": "markdown",
   "metadata": {},
   "source": [
    "Making sure we don't get any missing values left."
   ]
  },
  {
   "cell_type": "code",
   "execution_count": 13,
   "metadata": {
    "scrolled": false
   },
   "outputs": [
    {
     "data": {
      "text/plain": [
       "Location               0\n",
       "OCCURRED_ON_DATE       0\n",
       "OFFENSE_CODE           0\n",
       "OFFENSE_CODE_GROUP     0\n",
       "OFFENSE_DESCRIPTION    0\n",
       "DISTRICT               0\n",
       "REPORTING_AREA         0\n",
       "SHOOTING               0\n",
       "YEAR                   0\n",
       "Long                   0\n",
       "MONTH                  0\n",
       "DAY_OF_WEEK            0\n",
       "HOUR                   0\n",
       "UCR_PART               0\n",
       "STREET                 0\n",
       "Lat                    0\n",
       "INCIDENT_NUMBER        0\n",
       "dtype: int64"
      ]
     },
     "execution_count": 13,
     "metadata": {},
     "output_type": "execute_result"
    }
   ],
   "source": [
    "df_c[Col_List].isnull().sum().sort_values(ascending = False)"
   ]
  },
  {
   "cell_type": "markdown",
   "metadata": {},
   "source": [
    "Now we can see the district are codes like A1, A7 etc. and we are adding another column which will put the names of the districts in the data frame."
   ]
  },
  {
   "cell_type": "code",
   "execution_count": 14,
   "metadata": {
    "scrolled": true
   },
   "outputs": [
    {
     "data": {
      "text/html": [
       "<div>\n",
       "<style scoped>\n",
       "    .dataframe tbody tr th:only-of-type {\n",
       "        vertical-align: middle;\n",
       "    }\n",
       "\n",
       "    .dataframe tbody tr th {\n",
       "        vertical-align: top;\n",
       "    }\n",
       "\n",
       "    .dataframe thead th {\n",
       "        text-align: right;\n",
       "    }\n",
       "</style>\n",
       "<table border=\"1\" class=\"dataframe\">\n",
       "  <thead>\n",
       "    <tr style=\"text-align: right;\">\n",
       "      <th></th>\n",
       "      <th>INCIDENT_NUMBER</th>\n",
       "      <th>OFFENSE_CODE</th>\n",
       "      <th>OFFENSE_CODE_GROUP</th>\n",
       "      <th>OFFENSE_DESCRIPTION</th>\n",
       "      <th>DISTRICT</th>\n",
       "      <th>REPORTING_AREA</th>\n",
       "      <th>SHOOTING</th>\n",
       "      <th>OCCURRED_ON_DATE</th>\n",
       "      <th>YEAR</th>\n",
       "      <th>MONTH</th>\n",
       "      <th>DAY_OF_WEEK</th>\n",
       "      <th>HOUR</th>\n",
       "      <th>UCR_PART</th>\n",
       "      <th>STREET</th>\n",
       "      <th>Lat</th>\n",
       "      <th>Long</th>\n",
       "      <th>Location</th>\n",
       "      <th>DISTRICT_NAME</th>\n",
       "    </tr>\n",
       "  </thead>\n",
       "  <tbody>\n",
       "    <tr>\n",
       "      <td>0</td>\n",
       "      <td>I192062057</td>\n",
       "      <td>619</td>\n",
       "      <td>Larceny</td>\n",
       "      <td>LARCENY ALL OTHERS</td>\n",
       "      <td>B3</td>\n",
       "      <td>444</td>\n",
       "      <td>N</td>\n",
       "      <td>2019-08-08 21:15:00</td>\n",
       "      <td>2019</td>\n",
       "      <td>8</td>\n",
       "      <td>Thursday</td>\n",
       "      <td>21</td>\n",
       "      <td>Part One</td>\n",
       "      <td>BLUE HILL AVE</td>\n",
       "      <td>42.295764</td>\n",
       "      <td>-71.087560</td>\n",
       "      <td>(42.29576380, -71.08756002)</td>\n",
       "      <td>Mattapan</td>\n",
       "    </tr>\n",
       "    <tr>\n",
       "      <td>1</td>\n",
       "      <td>I192062054</td>\n",
       "      <td>3115</td>\n",
       "      <td>Investigate Person</td>\n",
       "      <td>INVESTIGATE PERSON</td>\n",
       "      <td>D4</td>\n",
       "      <td>156</td>\n",
       "      <td>N</td>\n",
       "      <td>2019-08-08 21:04:00</td>\n",
       "      <td>2019</td>\n",
       "      <td>8</td>\n",
       "      <td>Thursday</td>\n",
       "      <td>21</td>\n",
       "      <td>Part Three</td>\n",
       "      <td>W CONCORD ST</td>\n",
       "      <td>42.339620</td>\n",
       "      <td>-71.076992</td>\n",
       "      <td>(42.33961962, -71.07699237)</td>\n",
       "      <td>South End</td>\n",
       "    </tr>\n",
       "    <tr>\n",
       "      <td>3</td>\n",
       "      <td>I192062044</td>\n",
       "      <td>3006</td>\n",
       "      <td>Medical Assistance</td>\n",
       "      <td>SICK/INJURED/MEDICAL - PERSON</td>\n",
       "      <td>D4</td>\n",
       "      <td>162</td>\n",
       "      <td>N</td>\n",
       "      <td>2019-08-08 19:31:00</td>\n",
       "      <td>2019</td>\n",
       "      <td>8</td>\n",
       "      <td>Thursday</td>\n",
       "      <td>19</td>\n",
       "      <td>Part Three</td>\n",
       "      <td>HARRISON AVE</td>\n",
       "      <td>42.344967</td>\n",
       "      <td>-71.063822</td>\n",
       "      <td>(42.34496729, -71.06382224)</td>\n",
       "      <td>South End</td>\n",
       "    </tr>\n",
       "    <tr>\n",
       "      <td>4</td>\n",
       "      <td>I192062043</td>\n",
       "      <td>3201</td>\n",
       "      <td>Property Lost</td>\n",
       "      <td>PROPERTY - LOST</td>\n",
       "      <td>D4</td>\n",
       "      <td>141</td>\n",
       "      <td>N</td>\n",
       "      <td>2019-08-08 19:15:00</td>\n",
       "      <td>2019</td>\n",
       "      <td>8</td>\n",
       "      <td>Thursday</td>\n",
       "      <td>19</td>\n",
       "      <td>Part Three</td>\n",
       "      <td>NEWBURY ST</td>\n",
       "      <td>42.348406</td>\n",
       "      <td>-71.086883</td>\n",
       "      <td>(42.34840576, -71.08688339)</td>\n",
       "      <td>South End</td>\n",
       "    </tr>\n",
       "    <tr>\n",
       "      <td>5</td>\n",
       "      <td>I192062042</td>\n",
       "      <td>3006</td>\n",
       "      <td>Medical Assistance</td>\n",
       "      <td>SICK/INJURED/MEDICAL - PERSON</td>\n",
       "      <td>D4</td>\n",
       "      <td>617</td>\n",
       "      <td>N</td>\n",
       "      <td>2019-08-08 19:08:00</td>\n",
       "      <td>2019</td>\n",
       "      <td>8</td>\n",
       "      <td>Thursday</td>\n",
       "      <td>19</td>\n",
       "      <td>Part Three</td>\n",
       "      <td>HUNTINGTON AVE</td>\n",
       "      <td>42.337923</td>\n",
       "      <td>-71.095266</td>\n",
       "      <td>(42.33792266, -71.09526598)</td>\n",
       "      <td>South End</td>\n",
       "    </tr>\n",
       "  </tbody>\n",
       "</table>\n",
       "</div>"
      ],
      "text/plain": [
       "  INCIDENT_NUMBER  OFFENSE_CODE  OFFENSE_CODE_GROUP  \\\n",
       "0      I192062057           619             Larceny   \n",
       "1      I192062054          3115  Investigate Person   \n",
       "3      I192062044          3006  Medical Assistance   \n",
       "4      I192062043          3201       Property Lost   \n",
       "5      I192062042          3006  Medical Assistance   \n",
       "\n",
       "             OFFENSE_DESCRIPTION DISTRICT REPORTING_AREA SHOOTING  \\\n",
       "0             LARCENY ALL OTHERS       B3            444        N   \n",
       "1             INVESTIGATE PERSON       D4            156        N   \n",
       "3  SICK/INJURED/MEDICAL - PERSON       D4            162        N   \n",
       "4                PROPERTY - LOST       D4            141        N   \n",
       "5  SICK/INJURED/MEDICAL - PERSON       D4            617        N   \n",
       "\n",
       "     OCCURRED_ON_DATE  YEAR  MONTH DAY_OF_WEEK  HOUR    UCR_PART  \\\n",
       "0 2019-08-08 21:15:00  2019      8    Thursday    21    Part One   \n",
       "1 2019-08-08 21:04:00  2019      8    Thursday    21  Part Three   \n",
       "3 2019-08-08 19:31:00  2019      8    Thursday    19  Part Three   \n",
       "4 2019-08-08 19:15:00  2019      8    Thursday    19  Part Three   \n",
       "5 2019-08-08 19:08:00  2019      8    Thursday    19  Part Three   \n",
       "\n",
       "           STREET        Lat       Long                     Location  \\\n",
       "0   BLUE HILL AVE  42.295764 -71.087560  (42.29576380, -71.08756002)   \n",
       "1    W CONCORD ST  42.339620 -71.076992  (42.33961962, -71.07699237)   \n",
       "3    HARRISON AVE  42.344967 -71.063822  (42.34496729, -71.06382224)   \n",
       "4      NEWBURY ST  42.348406 -71.086883  (42.34840576, -71.08688339)   \n",
       "5  HUNTINGTON AVE  42.337923 -71.095266  (42.33792266, -71.09526598)   \n",
       "\n",
       "  DISTRICT_NAME  \n",
       "0      Mattapan  \n",
       "1     South End  \n",
       "3     South End  \n",
       "4     South End  \n",
       "5     South End  "
      ]
     },
     "execution_count": 14,
     "metadata": {},
     "output_type": "execute_result"
    }
   ],
   "source": [
    "new_col = {'A1':'Downtown',\n",
    "           'A15':'Charlestown',\n",
    "           'A7':'East Boston',\n",
    "           'B2':'Roxbury',\n",
    "           'B3':'Mattapan',\n",
    "           'C6':'South Boston',\n",
    "           'C11':'Dorchester',\n",
    "           'D4':'South End',\n",
    "           'D14':'Brighton',\n",
    "           'E5':'West Roxbury',\n",
    "           'E13':'Jamaica Plain',\n",
    "           'E18':'Hyde Park'}\n",
    "df_c['DISTRICT_NAME'] = df_c['DISTRICT'].map(new_col) \n",
    "df_c.head()"
   ]
  },
  {
   "cell_type": "markdown",
   "metadata": {},
   "source": [
    "### Analysis and Visualization"
   ]
  },
  {
   "cell_type": "markdown",
   "metadata": {},
   "source": [
    "#### Most common types of crime in Boston"
   ]
  },
  {
   "cell_type": "markdown",
   "metadata": {},
   "source": [
    "Now we will look at the frequency of each offense type. We will use a custom function to display the frequency of offense type, where n is used to display top n offense types."
   ]
  },
  {
   "cell_type": "code",
   "execution_count": 15,
   "metadata": {},
   "outputs": [],
   "source": [
    "def top_n(data_series, n):\n",
    "    \"\"\"\n",
    "    This function print the top crime rate based on any varible we pass.\n",
    "\n",
    "    :data_series: Takes the column name\n",
    "    :n: The number of top records \n",
    "\n",
    "    \"\"\"\n",
    "    return data_series.value_counts().iloc[:n]"
   ]
  },
  {
   "cell_type": "code",
   "execution_count": 16,
   "metadata": {
    "scrolled": false
   },
   "outputs": [
    {
     "data": {
      "text/plain": [
       "Motor Vehicle Accident Response    39028\n",
       "Larceny                            32291\n",
       "Medical Assistance                 29826\n",
       "Investigate Person                 23076\n",
       "Other                              21717\n",
       "Simple Assault                     19244\n",
       "Vandalism                          18631\n",
       "Drug Violation                     18543\n",
       "Verbal Disputes                    16902\n",
       "Investigate Property               13848\n",
       "Name: OFFENSE_CODE_GROUP, dtype: int64"
      ]
     },
     "execution_count": 16,
     "metadata": {},
     "output_type": "execute_result"
    }
   ],
   "source": [
    "top_n(df_c['OFFENSE_CODE_GROUP'], n=10)"
   ]
  },
  {
   "cell_type": "markdown",
   "metadata": {},
   "source": [
    "We can further plot the frequency chart by Offense code group."
   ]
  },
  {
   "cell_type": "code",
   "execution_count": 17,
   "metadata": {},
   "outputs": [],
   "source": [
    "df_c.Lat.replace(-1, None, inplace=True)\n",
    "df_c.Long.replace(-1, None, inplace=True)"
   ]
  },
  {
   "cell_type": "code",
   "execution_count": 18,
   "metadata": {},
   "outputs": [
    {
     "data": {
      "text/plain": [
       "Text(0.5, 1.0, 'Top Crime Count')"
      ]
     },
     "execution_count": 18,
     "metadata": {},
     "output_type": "execute_result"
    },
    {
     "data": {
      "image/png": "[encoded data removed]",
      "text/plain": [
       "<Figure size 864x720 with 1 Axes>"
      ]
     },
     "metadata": {
      "needs_background": "light"
     },
     "output_type": "display_data"
    }
   ],
   "source": [
    "sns.catplot(y='OFFENSE_CODE_GROUP',\n",
    "            kind='count',\n",
    "            height=10,\n",
    "            aspect = 1.2,\n",
    "            color = \"black\",\n",
    "            order=df_c.OFFENSE_CODE_GROUP.value_counts().index,\n",
    "            data= df_c)\n",
    "plt.title('Top Crime Count')"
   ]
  },
  {
   "cell_type": "markdown",
   "metadata": {},
   "source": [
    "The most frequently occured offense code group is Motor Vehicle Accident Response. Let us further investigate into that offense code group"
   ]
  },
  {
   "cell_type": "code",
   "execution_count": 19,
   "metadata": {
    "scrolled": false
   },
   "outputs": [
    {
     "data": {
      "text/plain": [
       "<matplotlib.axes._subplots.AxesSubplot at 0x7f2be9f924a8>"
      ]
     },
     "execution_count": 19,
     "metadata": {},
     "output_type": "execute_result"
    },
    {
     "data": {
      "image/png": "[encoded data removed]",
      "text/plain": [
       "<Figure size 432x288 with 1 Axes>"
      ]
     },
     "metadata": {
      "needs_background": "light"
     },
     "output_type": "display_data"
    }
   ],
   "source": [
    "#lets look into the offense description and the frequency with respect to the offense group Motor Vehicle Accident Response\n",
    "df_c['OFFENSE_DESCRIPTION'][df_c['OFFENSE_CODE_GROUP']== 'Motor Vehicle Accident Response'].value_counts().sort_values().plot.barh()"
   ]
  },
  {
   "cell_type": "markdown",
   "metadata": {},
   "source": [
    "we can understand from the above that the most of the Motor Vehicle accidents led to the Property damages and the human injuries are comparitively less"
   ]
  },
  {
   "cell_type": "markdown",
   "metadata": {},
   "source": [
    "#### Is it safe at night for civilians to go out?"
   ]
  },
  {
   "cell_type": "markdown",
   "metadata": {},
   "source": [
    "Now we are plotting count of crimes by hour of a day to see what time of day has most crime."
   ]
  },
  {
   "cell_type": "code",
   "execution_count": 20,
   "metadata": {},
   "outputs": [
    {
     "data": {
      "text/plain": [
       "Text(0.5, 1.0, 'crime count in a day')"
      ]
     },
     "execution_count": 20,
     "metadata": {},
     "output_type": "execute_result"
    },
    {
     "data": {
      "image/png": "[encoded data removed]",
      "text/plain": [
       "<Figure size 1152x576 with 1 Axes>"
      ]
     },
     "metadata": {
      "needs_background": "light"
     },
     "output_type": "display_data"
    }
   ],
   "source": [
    "sns.catplot(x='HOUR',\n",
    "            kind='count',\n",
    "            height=8,\n",
    "            aspect = 2,\n",
    "            color = \"purple\",\n",
    "            data= df_c)\n",
    "plt.title('crime count in a day')"
   ]
  },
  {
   "cell_type": "markdown",
   "metadata": {},
   "source": [
    "This graph tells us about the crime rate in a day. We can see that actually there are more crimes in the day time than the night. However, we can't say that it is safer to go out at night based on this. "
   ]
  },
  {
   "cell_type": "markdown",
   "metadata": {},
   "source": [
    "**Top areas with  crime**\n",
    "\n",
    "Now we will see which are the areas with  crime.\n",
    "\n"
   ]
  },
  {
   "cell_type": "code",
   "execution_count": 21,
   "metadata": {},
   "outputs": [
    {
     "data": {
      "text/plain": [
       "Text(0.5, 1.0, 'crime separate by district')"
      ]
     },
     "execution_count": 21,
     "metadata": {},
     "output_type": "execute_result"
    },
    {
     "data": {
      "image/png": "[encoded data removed]",
      "text/plain": [
       "<Figure size 432x288 with 1 Axes>"
      ]
     },
     "metadata": {
      "needs_background": "light"
     },
     "output_type": "display_data"
    }
   ],
   "source": [
    "sns.scatterplot(x='Lat',\n",
    "                y='Long',\n",
    "                hue='DISTRICT_NAME',\n",
    "                alpha = 0.01,\n",
    "                data=df_c)\n",
    "plt.title('crime separate by district')"
   ]
  },
  {
   "cell_type": "markdown",
   "metadata": {},
   "source": [
    "This shows where most of the crime take place in the Boston area. These places are not safe to go, and we need to be careful."
   ]
  },
  {
   "cell_type": "markdown",
   "metadata": {},
   "source": [
    "#### Does the rate of crime decreased since 2015?"
   ]
  },
  {
   "cell_type": "markdown",
   "metadata": {},
   "source": [
    "Let us see if the rate of crime has decreased since 2015."
   ]
  },
  {
   "cell_type": "code",
   "execution_count": 22,
   "metadata": {},
   "outputs": [
    {
     "data": {
      "text/plain": [
       "Text(0.5, 1.0, 'crime rate in different year')"
      ]
     },
     "execution_count": 22,
     "metadata": {},
     "output_type": "execute_result"
    },
    {
     "data": {
      "image/png": "[encoded data removed]",
      "text/plain": [
       "<Figure size 576x576 with 1 Axes>"
      ]
     },
     "metadata": {
      "needs_background": "light"
     },
     "output_type": "display_data"
    }
   ],
   "source": [
    "sns.catplot(y='YEAR',\n",
    "            kind='count',\n",
    "            height=8,\n",
    "            aspect =1,\n",
    "            color = \"red\",\n",
    "            order=df_c.YEAR.value_counts().index,\n",
    "            data= df_c)\n",
    "plt.title('crime rate in different year')"
   ]
  },
  {
   "cell_type": "markdown",
   "metadata": {},
   "source": [
    "This graph shows that the crime rate over the year. We can see that in 2018 the crime rate slightly decreased. For the 2019, we only have the data till now, so we can't conclude that there are less crimes this year."
   ]
  },
  {
   "cell_type": "markdown",
   "metadata": {},
   "source": [
    "#### Heat Map of Crime frequency in Boston"
   ]
  },
  {
   "cell_type": "markdown",
   "metadata": {},
   "source": [
    "**1. Heat map of Crimes by Day and Hours**\n",
    "\n",
    "To create a heat map to know what time and day of the week see most crimes in Boston, we first need to transform data in the reqequired format such that we have `HOUR` as rows and `DAY_OF_WEEK` as column headers and fill the table with count of incidents happened."
   ]
  },
  {
   "cell_type": "code",
   "execution_count": 23,
   "metadata": {},
   "outputs": [
    {
     "data": {
      "text/html": [
       "<div>\n",
       "<style scoped>\n",
       "    .dataframe tbody tr th:only-of-type {\n",
       "        vertical-align: middle;\n",
       "    }\n",
       "\n",
       "    .dataframe tbody tr th {\n",
       "        vertical-align: top;\n",
       "    }\n",
       "\n",
       "    .dataframe thead th {\n",
       "        text-align: right;\n",
       "    }\n",
       "</style>\n",
       "<table border=\"1\" class=\"dataframe\">\n",
       "  <thead>\n",
       "    <tr style=\"text-align: right;\">\n",
       "      <th>DAY_OF_WEEK</th>\n",
       "      <th>Monday</th>\n",
       "      <th>Tuesday</th>\n",
       "      <th>Wednesday</th>\n",
       "      <th>Thursday</th>\n",
       "      <th>Friday</th>\n",
       "      <th>Saturday</th>\n",
       "      <th>Sunday</th>\n",
       "    </tr>\n",
       "    <tr>\n",
       "      <th>HOUR</th>\n",
       "      <th></th>\n",
       "      <th></th>\n",
       "      <th></th>\n",
       "      <th></th>\n",
       "      <th></th>\n",
       "      <th></th>\n",
       "      <th></th>\n",
       "    </tr>\n",
       "  </thead>\n",
       "  <tbody>\n",
       "    <tr>\n",
       "      <td>0</td>\n",
       "      <td>2485</td>\n",
       "      <td>2337</td>\n",
       "      <td>2422</td>\n",
       "      <td>2520</td>\n",
       "      <td>2578</td>\n",
       "      <td>3138</td>\n",
       "      <td>2907</td>\n",
       "    </tr>\n",
       "    <tr>\n",
       "      <td>1</td>\n",
       "      <td>1190</td>\n",
       "      <td>1182</td>\n",
       "      <td>1117</td>\n",
       "      <td>1206</td>\n",
       "      <td>1470</td>\n",
       "      <td>2121</td>\n",
       "      <td>2377</td>\n",
       "    </tr>\n",
       "    <tr>\n",
       "      <td>2</td>\n",
       "      <td>975</td>\n",
       "      <td>763</td>\n",
       "      <td>905</td>\n",
       "      <td>891</td>\n",
       "      <td>1135</td>\n",
       "      <td>2074</td>\n",
       "      <td>2156</td>\n",
       "    </tr>\n",
       "    <tr>\n",
       "      <td>3</td>\n",
       "      <td>653</td>\n",
       "      <td>548</td>\n",
       "      <td>507</td>\n",
       "      <td>638</td>\n",
       "      <td>642</td>\n",
       "      <td>1117</td>\n",
       "      <td>1298</td>\n",
       "    </tr>\n",
       "    <tr>\n",
       "      <td>4</td>\n",
       "      <td>462</td>\n",
       "      <td>468</td>\n",
       "      <td>456</td>\n",
       "      <td>520</td>\n",
       "      <td>529</td>\n",
       "      <td>760</td>\n",
       "      <td>826</td>\n",
       "    </tr>\n",
       "  </tbody>\n",
       "</table>\n",
       "</div>"
      ],
      "text/plain": [
       "DAY_OF_WEEK  Monday  Tuesday  Wednesday  Thursday  Friday  Saturday  Sunday\n",
       "HOUR                                                                       \n",
       "0              2485     2337       2422      2520    2578      3138    2907\n",
       "1              1190     1182       1117      1206    1470      2121    2377\n",
       "2               975      763        905       891    1135      2074    2156\n",
       "3               653      548        507       638     642      1117    1298\n",
       "4               462      468        456       520     529       760     826"
      ]
     },
     "execution_count": 23,
     "metadata": {},
     "output_type": "execute_result"
    }
   ],
   "source": [
    "Transformed_DF = df_c.groupby(['HOUR', 'DAY_OF_WEEK']).INCIDENT_NUMBER.agg('count').reset_index()\n",
    "Transformed_DF['DAY_OF_WEEK'] = pd.Categorical(Transformed_DF['DAY_OF_WEEK'], categories=\n",
    "    ['Monday','Tuesday','Wednesday','Thursday','Friday','Saturday', 'Sunday'],\n",
    "    ordered=True)\n",
    "Transformed_DF = Transformed_DF.pivot(\"HOUR\", \"DAY_OF_WEEK\", \"INCIDENT_NUMBER\")\n",
    "Transformed_DF.head()"
   ]
  },
  {
   "cell_type": "code",
   "execution_count": 24,
   "metadata": {
    "scrolled": true
   },
   "outputs": [
    {
     "data": {
      "text/plain": [
       "<matplotlib.axes._subplots.AxesSubplot at 0x7f2bedd8a748>"
      ]
     },
     "execution_count": 24,
     "metadata": {},
     "output_type": "execute_result"
    },
    {
     "data": {
      "image/png": "[encoded data removed]",
      "text/plain": [
       "<Figure size 720x720 with 2 Axes>"
      ]
     },
     "metadata": {
      "needs_background": "light"
     },
     "output_type": "display_data"
    }
   ],
   "source": [
    "fig, ax = plt.subplots(figsize=(10,10))         \n",
    "sns.heatmap(Transformed_DF, linewidths=.5, cmap=\"YlGnBu\", ax= ax)"
   ]
  },
  {
   "cell_type": "markdown",
   "metadata": {},
   "source": [
    "We can see that most crimes occur around evening between 4 PM to 8 PM and most common days weekdays i.e. from Monday to Friday."
   ]
  },
  {
   "cell_type": "markdown",
   "metadata": {},
   "source": [
    "**2. Heat map of Crimes by Month and Hours to know seasonality**\n",
    "\n",
    "This will help in understanding if there is any change in crime rate in winter eriod as compared to summer."
   ]
  },
  {
   "cell_type": "code",
   "execution_count": 25,
   "metadata": {},
   "outputs": [
    {
     "data": {
      "text/html": [
       "<div>\n",
       "<style scoped>\n",
       "    .dataframe tbody tr th:only-of-type {\n",
       "        vertical-align: middle;\n",
       "    }\n",
       "\n",
       "    .dataframe tbody tr th {\n",
       "        vertical-align: top;\n",
       "    }\n",
       "\n",
       "    .dataframe thead th {\n",
       "        text-align: right;\n",
       "    }\n",
       "</style>\n",
       "<table border=\"1\" class=\"dataframe\">\n",
       "  <thead>\n",
       "    <tr style=\"text-align: right;\">\n",
       "      <th>MONTH</th>\n",
       "      <th>1</th>\n",
       "      <th>2</th>\n",
       "      <th>3</th>\n",
       "      <th>4</th>\n",
       "      <th>5</th>\n",
       "      <th>6</th>\n",
       "      <th>7</th>\n",
       "      <th>8</th>\n",
       "      <th>9</th>\n",
       "      <th>10</th>\n",
       "      <th>11</th>\n",
       "      <th>12</th>\n",
       "    </tr>\n",
       "    <tr>\n",
       "      <th>HOUR</th>\n",
       "      <th></th>\n",
       "      <th></th>\n",
       "      <th></th>\n",
       "      <th></th>\n",
       "      <th></th>\n",
       "      <th></th>\n",
       "      <th></th>\n",
       "      <th></th>\n",
       "      <th></th>\n",
       "      <th></th>\n",
       "      <th></th>\n",
       "      <th></th>\n",
       "    </tr>\n",
       "  </thead>\n",
       "  <tbody>\n",
       "    <tr>\n",
       "      <td>0</td>\n",
       "      <td>1354</td>\n",
       "      <td>1244</td>\n",
       "      <td>1386</td>\n",
       "      <td>1417</td>\n",
       "      <td>1455</td>\n",
       "      <td>1872</td>\n",
       "      <td>2012</td>\n",
       "      <td>1733</td>\n",
       "      <td>1541</td>\n",
       "      <td>1577</td>\n",
       "      <td>1362</td>\n",
       "      <td>1434</td>\n",
       "    </tr>\n",
       "    <tr>\n",
       "      <td>1</td>\n",
       "      <td>927</td>\n",
       "      <td>820</td>\n",
       "      <td>790</td>\n",
       "      <td>769</td>\n",
       "      <td>801</td>\n",
       "      <td>989</td>\n",
       "      <td>1175</td>\n",
       "      <td>977</td>\n",
       "      <td>879</td>\n",
       "      <td>906</td>\n",
       "      <td>862</td>\n",
       "      <td>768</td>\n",
       "    </tr>\n",
       "    <tr>\n",
       "      <td>2</td>\n",
       "      <td>797</td>\n",
       "      <td>611</td>\n",
       "      <td>631</td>\n",
       "      <td>711</td>\n",
       "      <td>668</td>\n",
       "      <td>837</td>\n",
       "      <td>962</td>\n",
       "      <td>903</td>\n",
       "      <td>745</td>\n",
       "      <td>759</td>\n",
       "      <td>624</td>\n",
       "      <td>651</td>\n",
       "    </tr>\n",
       "    <tr>\n",
       "      <td>3</td>\n",
       "      <td>478</td>\n",
       "      <td>344</td>\n",
       "      <td>391</td>\n",
       "      <td>427</td>\n",
       "      <td>409</td>\n",
       "      <td>560</td>\n",
       "      <td>627</td>\n",
       "      <td>496</td>\n",
       "      <td>487</td>\n",
       "      <td>423</td>\n",
       "      <td>366</td>\n",
       "      <td>395</td>\n",
       "    </tr>\n",
       "    <tr>\n",
       "      <td>4</td>\n",
       "      <td>307</td>\n",
       "      <td>254</td>\n",
       "      <td>295</td>\n",
       "      <td>338</td>\n",
       "      <td>314</td>\n",
       "      <td>379</td>\n",
       "      <td>444</td>\n",
       "      <td>387</td>\n",
       "      <td>343</td>\n",
       "      <td>327</td>\n",
       "      <td>323</td>\n",
       "      <td>310</td>\n",
       "    </tr>\n",
       "  </tbody>\n",
       "</table>\n",
       "</div>"
      ],
      "text/plain": [
       "MONTH    1     2     3     4     5     6     7     8     9     10    11    12\n",
       "HOUR                                                                         \n",
       "0      1354  1244  1386  1417  1455  1872  2012  1733  1541  1577  1362  1434\n",
       "1       927   820   790   769   801   989  1175   977   879   906   862   768\n",
       "2       797   611   631   711   668   837   962   903   745   759   624   651\n",
       "3       478   344   391   427   409   560   627   496   487   423   366   395\n",
       "4       307   254   295   338   314   379   444   387   343   327   323   310"
      ]
     },
     "execution_count": 25,
     "metadata": {},
     "output_type": "execute_result"
    }
   ],
   "source": [
    "Transformed_DF1 = df_c.groupby(['HOUR', 'MONTH']).INCIDENT_NUMBER.agg('count').reset_index()\n",
    "Transformed_DF1 = Transformed_DF1.pivot(\"HOUR\", \"MONTH\", \"INCIDENT_NUMBER\")\n",
    "Transformed_DF1.head()"
   ]
  },
  {
   "cell_type": "code",
   "execution_count": 26,
   "metadata": {},
   "outputs": [
    {
     "data": {
      "text/plain": [
       "<matplotlib.axes._subplots.AxesSubplot at 0x7f2bef6e14e0>"
      ]
     },
     "execution_count": 26,
     "metadata": {},
     "output_type": "execute_result"
    },
    {
     "data": {
      "image/png": "[encoded data removed]",
      "text/plain": [
       "<Figure size 720x720 with 2 Axes>"
      ]
     },
     "metadata": {
      "needs_background": "light"
     },
     "output_type": "display_data"
    }
   ],
   "source": [
    "fig, ax = plt.subplots(figsize=(10,10))         \n",
    "sns.heatmap(Transformed_DF1, linewidths=.5, cmap=\"YlGnBu\", ax= ax)"
   ]
  },
  {
   "cell_type": "markdown",
   "metadata": {},
   "source": [
    "Here there is a clear pattern of crime which correlates with seasonality in Boston. Summer months are usually June to August and we see maximum crime in those months. Also it is interesting to note that, Hours of day when crime is more is also during day time i.e. between 8 AM to 8 PM. So we can say that crime pattern is directly proportional to Boston temperature as it is expected that more people are out of their houses and on vacations. This is also the peak time for tourists to visit Boston, hence we see more crimes during this period. "
   ]
  },
  {
   "cell_type": "markdown",
   "metadata": {},
   "source": [
    "### Predictive Analytics"
   ]
  },
  {
   "cell_type": "markdown",
   "metadata": {},
   "source": [
    "As seen above in heat maps, it seems most of the crime has occured in day time as opposed to night. The usual notion among population is that crime at night is more than that in day. However, the heat map is not showing what people usually think, related to the time of crime. So here we are performing 2 sample T-Test to see if it is statistically significant to say that there are more crimes in day as compared to night in Boston? \n",
    "\n",
    "**Definitions**\n",
    "\n",
    "- Day time - 8 AM to 8 PM\n",
    "- Night Time - 8 PM to 8 AM\n",
    "\n",
    "_Drafting the Null and Alternate Hypothesis_\n",
    "\n",
    "- Null hypothesis ($H_{0}$) - Crime at day is not more than at night\n",
    "- Alternate hypothesis ($H_{a}$) - Crime at day is more than at night "
   ]
  },
  {
   "cell_type": "markdown",
   "metadata": {},
   "source": [
    "#### Transforming data for One-Sample T Test"
   ]
  },
  {
   "cell_type": "markdown",
   "metadata": {},
   "source": [
    "Now we are transforming the data into day wise data with number of crimes occured in Day and Night."
   ]
  },
  {
   "cell_type": "code",
   "execution_count": 27,
   "metadata": {
    "scrolled": true
   },
   "outputs": [
    {
     "name": "stdout",
     "output_type": "stream",
     "text": [
      "The new data has 1516 rows\n",
      "\n",
      "\n",
      "Below are the first 5 rows of the transformed dataframe.\n",
      "\n",
      "  OCCURRED_ON_DATE  Total_Crime  Day_Crime  Night_Crime\n",
      "0       2015-06-15          239        124          115\n",
      "1       2015-06-16          251        153           98\n",
      "2       2015-06-17          226        103          123\n",
      "3       2015-06-18          284        136          148\n",
      "4       2015-06-19          276        154          122\n"
     ]
    }
   ],
   "source": [
    "df_c[\"Day_Crime\"] = np.where(np.logical_and(df_c[\"HOUR\"] >= 12, df_c[\"HOUR\"] <= 20), 1, 0)\n",
    "TTest_DF = df_c.resample('D', on='OCCURRED_ON_DATE').agg({'INCIDENT_NUMBER':'count','Day_Crime':'sum'}).reset_index()\n",
    "TTest_DF[\"Night_Crime\"] = TTest_DF[\"INCIDENT_NUMBER\"] - TTest_DF[\"Day_Crime\"]\n",
    "TTest_DF = TTest_DF.rename(columns={\"INCIDENT_NUMBER\": \"Total_Crime\"})\n",
    "print(\"The new data has {} rows\".format(len(TTest_DF)))\n",
    "print(\"\\n\\nBelow are the first 5 rows of the transformed dataframe.\\n\\n{}\".format(TTest_DF.head()))"
   ]
  },
  {
   "cell_type": "markdown",
   "metadata": {},
   "source": [
    "#### Outlier Detection"
   ]
  },
  {
   "cell_type": "markdown",
   "metadata": {},
   "source": [
    "Outliers are anomalous values in the data. Outliers tend to increase the estimate of sample variance, thus decreasing the calculated t statistic and lowering the chance of rejecting the null hypothesis. They may be due to recording errors, which may be correctable, or they may be due to the sample not being entirely from the same population. Apparent outliers may also be due to the values being from the same, but nonnormal, population. The boxplot and normal probability plot (normal Q-Q plot) may suggest the presence of outliers in the data. The one-sample t statistic is based on the sample mean and the sample variance of the sample values, both of which are sensitive to outliers. (In other words, neither the sample mean nor the sample variance is resistant to outliers, and thus, neither is the t statistic.) In particular, a large outlier can inflate the sample variance, decreasing the t statistic and thus perhaps eliminating a significant difference."
   ]
  },
  {
   "cell_type": "markdown",
   "metadata": {},
   "source": [
    "Below is a custom function created to detect outliers / anamolies. This function takes a 1-dimensional data frame or a column of a data frame as input and returns the outliers present in that particular column. It is using the 3-sigme rule to detect outlier i.e. any data point beyond 3 standard deviations from the mean is considered as an outlier."
   ]
  },
  {
   "cell_type": "code",
   "execution_count": 28,
   "metadata": {
    "scrolled": true
   },
   "outputs": [],
   "source": [
    "def Remove_Outliers(dta, col):\n",
    "\n",
    "    \"\"\"\n",
    "    This function is used to detect outliers using 3 sigma rule.\n",
    "    That means any data point outside of 3 SD from the mean is an outlier.\n",
    "    It takes 1-D data frame or a column as the input and returns a list of values which are outliers.\n",
    "\n",
    "    :dta: Input data frame:\n",
    "    :col: Input list of column or 1D data frame:\n",
    "\n",
    "    \"\"\"\n",
    "    OldLen = len(dta)\n",
    "    # Remove Outliers\n",
    "    dta = dta[abs(dta[col] - dta[col].mean()) <= (3 * dta[col].std())]\n",
    "    NewLen = len(dta)\n",
    "    Num = OldLen - NewLen\n",
    "    print(\"There were total {} outliers removed from the dataframe.\".format(Num))"
   ]
  },
  {
   "cell_type": "code",
   "execution_count": 29,
   "metadata": {
    "scrolled": true
   },
   "outputs": [
    {
     "name": "stdout",
     "output_type": "stream",
     "text": [
      "There were total 7 outliers removed from the dataframe.\n"
     ]
    }
   ],
   "source": [
    "Remove_Outliers(TTest_DF, 'Day_Crime')"
   ]
  },
  {
   "cell_type": "code",
   "execution_count": 30,
   "metadata": {},
   "outputs": [
    {
     "name": "stdout",
     "output_type": "stream",
     "text": [
      "There were total 11 outliers removed from the dataframe.\n"
     ]
    }
   ],
   "source": [
    "Remove_Outliers(TTest_DF, 'Night_Crime')"
   ]
  },
  {
   "cell_type": "markdown",
   "metadata": {},
   "source": [
    "Now our data is free from outliers, so we can move ahead with the T test."
   ]
  },
  {
   "cell_type": "markdown",
   "metadata": {},
   "source": [
    "#### Normality and Skewness Check"
   ]
  },
  {
   "cell_type": "markdown",
   "metadata": {},
   "source": [
    "**Normality** - The values in a sample may indeed be from the same population, but not from a normal one. Signs of nonnormality are skewness (lack of symmetry) or light-tailedness or heavy-tailedness. The boxplot, histogram, and normal probability plot (normal Q-Q plot), along with the normality test, can provide information on the normality of the population distribution. \n",
    "\n",
    "**Skewness** - If the population from which the data were sampled is skewed, then the one-sample t test may incorrectly reject the null hypothesis that the population mean is the hypothesized value even when it is true."
   ]
  },
  {
   "cell_type": "code",
   "execution_count": 31,
   "metadata": {
    "scrolled": true
   },
   "outputs": [
    {
     "data": {
      "image/png": "[encoded data removed]",
      "text/plain": [
       "<Figure size 432x288 with 1 Axes>"
      ]
     },
     "metadata": {
      "needs_background": "light"
     },
     "output_type": "display_data"
    }
   ],
   "source": [
    "sns.distplot(TTest_DF['Day_Crime'], color=\"y\", kde_kws={\"color\": \"y\", \"lw\": 2, \"label\": \"Day_Crime\"})\n",
    "sns.distplot(TTest_DF['Night_Crime'],color=\"k\", kde_kws={\"color\": \"k\", \"lw\": 2, \"label\": \"Night_Crime\"})\n",
    "plt.show()"
   ]
  },
  {
   "cell_type": "markdown",
   "metadata": {},
   "source": [
    "From the above chart, we can say that data is normally distributed and is not skewed. Hence, we are good to perform the T-Test."
   ]
  },
  {
   "cell_type": "markdown",
   "metadata": {},
   "source": [
    "#### Performing T-Test"
   ]
  },
  {
   "cell_type": "markdown",
   "metadata": {},
   "source": [
    "A hypothesis test that is used to determine questions related to the mean in situations where data is collected from two random data samples. The two sample T-test is often used for evaluating the means of two variables or distinct groups, providing information as to whether the means between the two populations differs.\n",
    "\n",
    "The null hypothesis, $H_{0}$ is the commonly accepted fact, it is the opposite of the alternate hypothesis ($H_{a}$). Researchers work to reject, nullify or disprove the null hypothesis. Researchers come up with an alternate hypothesis, one that they think explains a phenomenon, and then work to reject the null hypothesis.\n",
    "\n",
    "- Null hypothesis ($H_{0}$) - Crime at day is not more than at night i.e. $\\mu_{Day} \\leq \\mu_{Night}$  \n",
    "- Alternate hypothesis ($H_{a}$) - Crime at day is more than at night i.e. $\\mu_{Day} \\gt \\mu_{Night}$  "
   ]
  },
  {
   "cell_type": "code",
   "execution_count": 32,
   "metadata": {},
   "outputs": [],
   "source": [
    "sample1 = TTest_DF['Day_Crime']\n",
    "sample2 = TTest_DF['Night_Crime']"
   ]
  },
  {
   "cell_type": "code",
   "execution_count": 33,
   "metadata": {},
   "outputs": [
    {
     "data": {
      "text/plain": [
       "Ttest_indResult(statistic=8.906387177732167, pvalue=8.956906889591311e-19)"
      ]
     },
     "execution_count": 33,
     "metadata": {},
     "output_type": "execute_result"
    }
   ],
   "source": [
    "stats.ttest_ind(sample1,sample2, equal_var = False)"
   ]
  },
  {
   "cell_type": "markdown",
   "metadata": {},
   "source": [
    "P-value is less than 0.01 and thus with 99% confidence we can reject the null hypothesis and say that **\"Day Crime is more than Night crime\"**"
   ]
  },
  {
   "cell_type": "markdown",
   "metadata": {},
   "source": [
    "### Conclusion"
   ]
  },
  {
   "cell_type": "markdown",
   "metadata": {},
   "source": [
    "Below are some of the observations and conclusions from the Boston Crime data.\n",
    "\n",
    "- The most common type of crime is the Motor Vehicle Accidents which causes the dammage to the property.\n",
    "- Larsen is the second most common type of crime.\n",
    "- We can say with 99% confidence that crime at day is more than crime at night. \n",
    "- Crime is more in Summer season i.e. July to Septemeber as compared to other months.\n",
    "- So suggest that people should be more careful in the Summer season and specially at day time as the theft rate is more at that time period.\n"
   ]
  },
  {
   "cell_type": "code",
   "execution_count": null,
   "metadata": {},
   "outputs": [],
   "source": []
  }
 ],
 "metadata": {
  "kernelspec": {
   "display_name": "Python 3",
   "language": "python",
   "name": "python3"
  },
  "language_info": {
   "codemirror_mode": {
    "name": "ipython",
    "version": 3
   },
   "file_extension": ".py",
   "mimetype": "text/x-python",
   "name": "python",
   "nbconvert_exporter": "python",
   "pygments_lexer": "ipython3",
   "version": "3.6.6"
  }
 },
 "nbformat": 4,
 "nbformat_minor": 1
}
