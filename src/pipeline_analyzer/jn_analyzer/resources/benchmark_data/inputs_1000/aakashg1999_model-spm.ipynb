{
 "cells": [
  {
   "cell_type": "code",
   "execution_count": 1,
   "metadata": {
    "_cell_guid": "b1076dfc-b9ad-4769-8c92-a6c4dae69d19",
    "_uuid": "8f2839f25d086af736a60e9eeb907d3b93b6e0e5",
    "execution": {
     "iopub.execute_input": "2020-10-22T08:37:32.209911Z",
     "iopub.status.busy": "2020-10-22T08:37:32.209205Z",
     "iopub.status.idle": "2020-10-22T08:37:34.028741Z",
     "shell.execute_reply": "2020-10-22T08:37:34.028016Z"
    },
    "papermill": {
     "duration": 1.850379,
     "end_time": "2020-10-22T08:37:34.028868",
     "exception": false,
     "start_time": "2020-10-22T08:37:32.178489",
     "status": "completed"
    },
    "tags": []
   },
   "outputs": [
    {
     "name": "stdout",
     "output_type": "stream",
     "text": [
      "/kaggle/input/graduate-admissions/Admission_Predict_Ver1.1.csv\n",
      "/kaggle/input/graduate-admissions/Admission_Predict.csv\n"
     ]
    }
   ],
   "source": [
    "# This Python 3 environment comes with many helpful analytics libraries installed\n",
    "# It is defined by the kaggle/python Docker image: https://github.com/kaggle/docker-python\n",
    "# For example, here's several helpful packages to load\n",
    "\n",
    "import numpy as np # linear algebra\n",
    "import pandas as pd # data processing, CSV file I/O (e.g. pd.read_csv)\n",
    "\n",
    "# Input data files are available in the read-only \"../input/\" directory\n",
    "# For example, running this (by clicking run or pressing Shift+Enter) will list all files under the input directory\n",
    "\n",
    "import os\n",
    "for dirname, _, filenames in os.walk('/kaggle/input'):\n",
    "    for filename in filenames:\n",
    "        print(os.path.join(dirname, filename))\n",
    "        \n",
    "# This Python 3 environment comes with many helpful analytics libraries installed\n",
    "# It is defined by the kaggle/python docker image: https://github.com/kaggle/docker-python\n",
    "# For example, here's several helpful packages to load in \n",
    "\n",
    "import numpy as np # linear algebra\n",
    "import pandas as pd # data processing, CSV file I/O (e.g. pd.read_csv)\n",
    "\n",
    "# Input data files are available in the \"../input/\" directory.\n",
    "# For example, running this (by clicking run or pressing Shift+Enter) will list all files under the input directory\n",
    "\n",
    "\n",
    "#SK-Learn        \n",
    "RANDOM_SEED = 42\n",
    "np.random.seed(RANDOM_SEED)\n",
    "\n",
    "from pprint import pprint\n",
    "from sklearn.linear_model import SGDRegressor\n",
    "from sklearn.svm import SVR,LinearSVR\n",
    "from xgboost import XGBRegressor\n",
    "from sklearn.metrics import accuracy_score\n",
    "from sklearn.feature_selection import RFE, f_regression\n",
    "from sklearn.model_selection import GridSearchCV\n",
    "\n",
    "import time\n",
    "\n",
    "import matplotlib.pyplot as plt\n",
    "%matplotlib inline\n",
    "import seaborn as sns\n",
    "\n",
    "import warnings\n",
    "warnings.filterwarnings('ignore')\n",
    "from pathlib import Path\n",
    "# You can write up to 5GB to the current directory (/kaggle/working/) that gets preserved as output when you create a version using \"Save & Run All\" \n",
    "# You can also write temporary files to /kaggle/temp/, but they won't be saved outside of the current session"
   ]
  },
  {
   "cell_type": "code",
   "execution_count": 2,
   "metadata": {
    "_cell_guid": "79c7e3d0-c299-4dcb-8224-4455121ee9b0",
    "_uuid": "d629ff2d2480ee46fbb7e2d37f6b5fab8052498a",
    "execution": {
     "iopub.execute_input": "2020-10-22T08:37:34.067117Z",
     "iopub.status.busy": "2020-10-22T08:37:34.066459Z",
     "iopub.status.idle": "2020-10-22T08:37:34.069125Z",
     "shell.execute_reply": "2020-10-22T08:37:34.068511Z"
    },
    "papermill": {
     "duration": 0.023128,
     "end_time": "2020-10-22T08:37:34.069228",
     "exception": false,
     "start_time": "2020-10-22T08:37:34.046100",
     "status": "completed"
    },
    "tags": []
   },
   "outputs": [],
   "source": [
    "PATH=Path(\"/kaggle/input/graduate-admissions\")\n",
    "path_11=PATH/\"Admission_Predict_Ver1.1.csv\""
   ]
  },
  {
   "cell_type": "code",
   "execution_count": 3,
   "metadata": {
    "execution": {
     "iopub.execute_input": "2020-10-22T08:37:34.110697Z",
     "iopub.status.busy": "2020-10-22T08:37:34.109946Z",
     "iopub.status.idle": "2020-10-22T08:37:34.125401Z",
     "shell.execute_reply": "2020-10-22T08:37:34.124702Z"
    },
    "papermill": {
     "duration": 0.037891,
     "end_time": "2020-10-22T08:37:34.125514",
     "exception": false,
     "start_time": "2020-10-22T08:37:34.087623",
     "status": "completed"
    },
    "tags": []
   },
   "outputs": [],
   "source": [
    "df=pd.read_csv(path_11,index_col='Serial No.')"
   ]
  },
  {
   "cell_type": "code",
   "execution_count": 4,
   "metadata": {
    "execution": {
     "iopub.execute_input": "2020-10-22T08:37:34.168651Z",
     "iopub.status.busy": "2020-10-22T08:37:34.168058Z",
     "iopub.status.idle": "2020-10-22T08:37:34.179554Z",
     "shell.execute_reply": "2020-10-22T08:37:34.178952Z"
    },
    "papermill": {
     "duration": 0.037535,
     "end_time": "2020-10-22T08:37:34.179661",
     "exception": false,
     "start_time": "2020-10-22T08:37:34.142126",
     "status": "completed"
    },
    "tags": []
   },
   "outputs": [
    {
     "data": {
      "text/html": [
       "<div>\n",
       "<style scoped>\n",
       "    .dataframe tbody tr th:only-of-type {\n",
       "        vertical-align: middle;\n",
       "    }\n",
       "\n",
       "    .dataframe tbody tr th {\n",
       "        vertical-align: top;\n",
       "    }\n",
       "\n",
       "    .dataframe thead th {\n",
       "        text-align: right;\n",
       "    }\n",
       "</style>\n",
       "<table border=\"1\" class=\"dataframe\">\n",
       "  <thead>\n",
       "    <tr style=\"text-align: right;\">\n",
       "      <th></th>\n",
       "      <th>GRE Score</th>\n",
       "      <th>TOEFL Score</th>\n",
       "      <th>University Rating</th>\n",
       "      <th>SOP</th>\n",
       "      <th>LOR</th>\n",
       "      <th>CGPA</th>\n",
       "      <th>Research</th>\n",
       "      <th>Chance of Admit</th>\n",
       "    </tr>\n",
       "    <tr>\n",
       "      <th>Serial No.</th>\n",
       "      <th></th>\n",
       "      <th></th>\n",
       "      <th></th>\n",
       "      <th></th>\n",
       "      <th></th>\n",
       "      <th></th>\n",
       "      <th></th>\n",
       "      <th></th>\n",
       "    </tr>\n",
       "  </thead>\n",
       "  <tbody>\n",
       "    <tr>\n",
       "      <th>1</th>\n",
       "      <td>337</td>\n",
       "      <td>118</td>\n",
       "      <td>4</td>\n",
       "      <td>4.5</td>\n",
       "      <td>4.5</td>\n",
       "      <td>9.65</td>\n",
       "      <td>1</td>\n",
       "      <td>0.92</td>\n",
       "    </tr>\n",
       "    <tr>\n",
       "      <th>2</th>\n",
       "      <td>324</td>\n",
       "      <td>107</td>\n",
       "      <td>4</td>\n",
       "      <td>4.0</td>\n",
       "      <td>4.5</td>\n",
       "      <td>8.87</td>\n",
       "      <td>1</td>\n",
       "      <td>0.76</td>\n",
       "    </tr>\n",
       "    <tr>\n",
       "      <th>3</th>\n",
       "      <td>316</td>\n",
       "      <td>104</td>\n",
       "      <td>3</td>\n",
       "      <td>3.0</td>\n",
       "      <td>3.5</td>\n",
       "      <td>8.00</td>\n",
       "      <td>1</td>\n",
       "      <td>0.72</td>\n",
       "    </tr>\n",
       "    <tr>\n",
       "      <th>4</th>\n",
       "      <td>322</td>\n",
       "      <td>110</td>\n",
       "      <td>3</td>\n",
       "      <td>3.5</td>\n",
       "      <td>2.5</td>\n",
       "      <td>8.67</td>\n",
       "      <td>1</td>\n",
       "      <td>0.80</td>\n",
       "    </tr>\n",
       "    <tr>\n",
       "      <th>5</th>\n",
       "      <td>314</td>\n",
       "      <td>103</td>\n",
       "      <td>2</td>\n",
       "      <td>2.0</td>\n",
       "      <td>3.0</td>\n",
       "      <td>8.21</td>\n",
       "      <td>0</td>\n",
       "      <td>0.65</td>\n",
       "    </tr>\n",
       "  </tbody>\n",
       "</table>\n",
       "</div>"
      ],
      "text/plain": [
       "            GRE Score  TOEFL Score  University Rating  SOP  LOR   CGPA  \\\n",
       "Serial No.                                                               \n",
       "1                 337          118                  4  4.5   4.5  9.65   \n",
       "2                 324          107                  4  4.0   4.5  8.87   \n",
       "3                 316          104                  3  3.0   3.5  8.00   \n",
       "4                 322          110                  3  3.5   2.5  8.67   \n",
       "5                 314          103                  2  2.0   3.0  8.21   \n",
       "\n",
       "            Research  Chance of Admit   \n",
       "Serial No.                              \n",
       "1                  1              0.92  \n",
       "2                  1              0.76  \n",
       "3                  1              0.72  \n",
       "4                  1              0.80  \n",
       "5                  0              0.65  "
      ]
     },
     "execution_count": 4,
     "metadata": {},
     "output_type": "execute_result"
    }
   ],
   "source": [
    "df.head()"
   ]
  },
  {
   "cell_type": "code",
   "execution_count": 5,
   "metadata": {
    "execution": {
     "iopub.execute_input": "2020-10-22T08:37:34.226959Z",
     "iopub.status.busy": "2020-10-22T08:37:34.226151Z",
     "iopub.status.idle": "2020-10-22T08:37:34.229971Z",
     "shell.execute_reply": "2020-10-22T08:37:34.229155Z"
    },
    "papermill": {
     "duration": 0.03317,
     "end_time": "2020-10-22T08:37:34.230114",
     "exception": false,
     "start_time": "2020-10-22T08:37:34.196944",
     "status": "completed"
    },
    "tags": []
   },
   "outputs": [
    {
     "name": "stdout",
     "output_type": "stream",
     "text": [
      "<class 'pandas.core.frame.DataFrame'>\n",
      "Int64Index: 500 entries, 1 to 500\n",
      "Data columns (total 8 columns):\n",
      " #   Column             Non-Null Count  Dtype  \n",
      "---  ------             --------------  -----  \n",
      " 0   GRE Score          500 non-null    int64  \n",
      " 1   TOEFL Score        500 non-null    int64  \n",
      " 2   University Rating  500 non-null    int64  \n",
      " 3   SOP                500 non-null    float64\n",
      " 4   LOR                500 non-null    float64\n",
      " 5   CGPA               500 non-null    float64\n",
      " 6   Research           500 non-null    int64  \n",
      " 7   Chance of Admit    500 non-null    float64\n",
      "dtypes: float64(4), int64(4)\n",
      "memory usage: 35.2 KB\n"
     ]
    }
   ],
   "source": [
    "df.info()"
   ]
  },
  {
   "cell_type": "code",
   "execution_count": 6,
   "metadata": {
    "execution": {
     "iopub.execute_input": "2020-10-22T08:37:34.272562Z",
     "iopub.status.busy": "2020-10-22T08:37:34.271672Z",
     "iopub.status.idle": "2020-10-22T08:37:34.274837Z",
     "shell.execute_reply": "2020-10-22T08:37:34.274187Z"
    },
    "papermill": {
     "duration": 0.026526,
     "end_time": "2020-10-22T08:37:34.274946",
     "exception": false,
     "start_time": "2020-10-22T08:37:34.248420",
     "status": "completed"
    },
    "tags": []
   },
   "outputs": [],
   "source": [
    "X=df.copy()\n",
    "y=df['Chance of Admit ']\n",
    "X.drop('Chance of Admit ',axis=1,inplace=True)"
   ]
  },
  {
   "cell_type": "markdown",
   "metadata": {
    "papermill": {
     "duration": 0.01703,
     "end_time": "2020-10-22T08:37:34.309225",
     "exception": false,
     "start_time": "2020-10-22T08:37:34.292195",
     "status": "completed"
    },
    "tags": []
   },
   "source": [
    "# **Splitting into training and test set**"
   ]
  },
  {
   "cell_type": "code",
   "execution_count": 7,
   "metadata": {
    "execution": {
     "iopub.execute_input": "2020-10-22T08:37:34.354819Z",
     "iopub.status.busy": "2020-10-22T08:37:34.353929Z",
     "iopub.status.idle": "2020-10-22T08:37:34.358166Z",
     "shell.execute_reply": "2020-10-22T08:37:34.357541Z"
    },
    "papermill": {
     "duration": 0.031778,
     "end_time": "2020-10-22T08:37:34.358283",
     "exception": false,
     "start_time": "2020-10-22T08:37:34.326505",
     "status": "completed"
    },
    "tags": []
   },
   "outputs": [
    {
     "data": {
      "text/plain": [
       "((420, 7), (80, 7), (420,), (80,))"
      ]
     },
     "execution_count": 7,
     "metadata": {},
     "output_type": "execute_result"
    }
   ],
   "source": [
    "from sklearn.model_selection import train_test_split\n",
    "X_train, X_test, y_train, y_test = train_test_split(X, y, test_size=0.16, random_state=1)\n",
    "X_train.shape, X_test.shape, y_train.shape, y_test.shape"
   ]
  },
  {
   "cell_type": "markdown",
   "metadata": {
    "papermill": {
     "duration": 0.017647,
     "end_time": "2020-10-22T08:37:34.393971",
     "exception": false,
     "start_time": "2020-10-22T08:37:34.376324",
     "status": "completed"
    },
    "tags": []
   },
   "source": [
    "* Final accuracy would be checked on Test Dataset(X_test, y_test)\n",
    "* Cross valiation would be used as dataset is not very big"
   ]
  },
  {
   "cell_type": "markdown",
   "metadata": {
    "papermill": {
     "duration": 0.017604,
     "end_time": "2020-10-22T08:37:34.429444",
     "exception": false,
     "start_time": "2020-10-22T08:37:34.411840",
     "status": "completed"
    },
    "tags": []
   },
   "source": [
    "# **Feature Scaling**"
   ]
  },
  {
   "cell_type": "code",
   "execution_count": 8,
   "metadata": {
    "execution": {
     "iopub.execute_input": "2020-10-22T08:37:34.469898Z",
     "iopub.status.busy": "2020-10-22T08:37:34.469101Z",
     "iopub.status.idle": "2020-10-22T08:37:34.476983Z",
     "shell.execute_reply": "2020-10-22T08:37:34.476406Z"
    },
    "papermill": {
     "duration": 0.029634,
     "end_time": "2020-10-22T08:37:34.477092",
     "exception": false,
     "start_time": "2020-10-22T08:37:34.447458",
     "status": "completed"
    },
    "tags": []
   },
   "outputs": [],
   "source": [
    "mean = X_train.mean()\n",
    "std = X_train.std()"
   ]
  },
  {
   "cell_type": "code",
   "execution_count": 9,
   "metadata": {
    "execution": {
     "iopub.execute_input": "2020-10-22T08:37:34.520332Z",
     "iopub.status.busy": "2020-10-22T08:37:34.519674Z",
     "iopub.status.idle": "2020-10-22T08:37:34.522562Z",
     "shell.execute_reply": "2020-10-22T08:37:34.521991Z"
    },
    "papermill": {
     "duration": 0.027653,
     "end_time": "2020-10-22T08:37:34.522663",
     "exception": false,
     "start_time": "2020-10-22T08:37:34.495010",
     "status": "completed"
    },
    "tags": []
   },
   "outputs": [],
   "source": [
    "X_train = (X_train-mean)/std\n",
    "X_test = (X_test-mean)/std"
   ]
  },
  {
   "cell_type": "code",
   "execution_count": 10,
   "metadata": {
    "execution": {
     "iopub.execute_input": "2020-10-22T08:37:34.564406Z",
     "iopub.status.busy": "2020-10-22T08:37:34.563812Z",
     "iopub.status.idle": "2020-10-22T08:37:34.566904Z",
     "shell.execute_reply": "2020-10-22T08:37:34.567606Z"
    },
    "papermill": {
     "duration": 0.027217,
     "end_time": "2020-10-22T08:37:34.567790",
     "exception": false,
     "start_time": "2020-10-22T08:37:34.540573",
     "status": "completed"
    },
    "tags": []
   },
   "outputs": [
    {
     "name": "stdout",
     "output_type": "stream",
     "text": [
      "GRE Score            11.457694\n",
      "TOEFL Score           6.160395\n",
      "University Rating     1.152560\n",
      "SOP                   1.005567\n",
      "LOR                   0.935844\n",
      "CGPA                  0.604475\n",
      "Research              0.498087\n",
      "dtype: float64 GRE Score            316.130952\n",
      "TOEFL Score          107.252381\n",
      "University Rating      3.102381\n",
      "SOP                    3.370238\n",
      "LOR                    3.490476\n",
      "CGPA                   8.568738\n",
      "Research               0.550000\n",
      "dtype: float64\n"
     ]
    }
   ],
   "source": [
    "print(std,mean)"
   ]
  },
  {
   "cell_type": "code",
   "execution_count": 11,
   "metadata": {
    "execution": {
     "iopub.execute_input": "2020-10-22T08:37:34.617663Z",
     "iopub.status.busy": "2020-10-22T08:37:34.616912Z",
     "iopub.status.idle": "2020-10-22T08:37:34.620212Z",
     "shell.execute_reply": "2020-10-22T08:37:34.620632Z"
    },
    "papermill": {
     "duration": 0.033638,
     "end_time": "2020-10-22T08:37:34.620779",
     "exception": false,
     "start_time": "2020-10-22T08:37:34.587141",
     "status": "completed"
    },
    "tags": []
   },
   "outputs": [
    {
     "data": {
      "text/html": [
       "<div>\n",
       "<style scoped>\n",
       "    .dataframe tbody tr th:only-of-type {\n",
       "        vertical-align: middle;\n",
       "    }\n",
       "\n",
       "    .dataframe tbody tr th {\n",
       "        vertical-align: top;\n",
       "    }\n",
       "\n",
       "    .dataframe thead th {\n",
       "        text-align: right;\n",
       "    }\n",
       "</style>\n",
       "<table border=\"1\" class=\"dataframe\">\n",
       "  <thead>\n",
       "    <tr style=\"text-align: right;\">\n",
       "      <th></th>\n",
       "      <th>GRE Score</th>\n",
       "      <th>TOEFL Score</th>\n",
       "      <th>University Rating</th>\n",
       "      <th>SOP</th>\n",
       "      <th>LOR</th>\n",
       "      <th>CGPA</th>\n",
       "      <th>Research</th>\n",
       "    </tr>\n",
       "    <tr>\n",
       "      <th>Serial No.</th>\n",
       "      <th></th>\n",
       "      <th></th>\n",
       "      <th></th>\n",
       "      <th></th>\n",
       "      <th></th>\n",
       "      <th></th>\n",
       "      <th></th>\n",
       "    </tr>\n",
       "  </thead>\n",
       "  <tbody>\n",
       "    <tr>\n",
       "      <th>261</th>\n",
       "      <td>0.948624</td>\n",
       "      <td>0.121359</td>\n",
       "      <td>1.646438</td>\n",
       "      <td>1.620740</td>\n",
       "      <td>0.010177</td>\n",
       "      <td>0.928511</td>\n",
       "      <td>0.903457</td>\n",
       "    </tr>\n",
       "    <tr>\n",
       "      <th>118</th>\n",
       "      <td>-2.280647</td>\n",
       "      <td>-0.527950</td>\n",
       "      <td>0.778804</td>\n",
       "      <td>-1.362652</td>\n",
       "      <td>-1.058377</td>\n",
       "      <td>-1.834217</td>\n",
       "      <td>-1.104225</td>\n",
       "    </tr>\n",
       "    <tr>\n",
       "      <th>188</th>\n",
       "      <td>1.646845</td>\n",
       "      <td>1.744631</td>\n",
       "      <td>1.646438</td>\n",
       "      <td>1.123508</td>\n",
       "      <td>0.010177</td>\n",
       "      <td>1.441353</td>\n",
       "      <td>0.903457</td>\n",
       "    </tr>\n",
       "  </tbody>\n",
       "</table>\n",
       "</div>"
      ],
      "text/plain": [
       "            GRE Score  TOEFL Score  University Rating       SOP      LOR   \\\n",
       "Serial No.                                                                  \n",
       "261          0.948624     0.121359           1.646438  1.620740  0.010177   \n",
       "118         -2.280647    -0.527950           0.778804 -1.362652 -1.058377   \n",
       "188          1.646845     1.744631           1.646438  1.123508  0.010177   \n",
       "\n",
       "                CGPA  Research  \n",
       "Serial No.                      \n",
       "261         0.928511  0.903457  \n",
       "118        -1.834217 -1.104225  \n",
       "188         1.441353  0.903457  "
      ]
     },
     "execution_count": 11,
     "metadata": {},
     "output_type": "execute_result"
    }
   ],
   "source": [
    "X_train.head(3)"
   ]
  },
  {
   "cell_type": "code",
   "execution_count": 12,
   "metadata": {
    "execution": {
     "iopub.execute_input": "2020-10-22T08:37:34.669539Z",
     "iopub.status.busy": "2020-10-22T08:37:34.668903Z",
     "iopub.status.idle": "2020-10-22T08:37:34.799473Z",
     "shell.execute_reply": "2020-10-22T08:37:34.800168Z"
    },
    "papermill": {
     "duration": 0.160641,
     "end_time": "2020-10-22T08:37:34.800335",
     "exception": false,
     "start_time": "2020-10-22T08:37:34.639694",
     "status": "completed"
    },
    "tags": []
   },
   "outputs": [
    {
     "name": "stdout",
     "output_type": "stream",
     "text": [
      "SVR()\n",
      "LinearSVR()\n",
      "SGDRegressor()\n",
      "XGBRegressor(base_score=None, booster=None, colsample_bylevel=None,\n",
      "             colsample_bynode=None, colsample_bytree=None, gamma=None,\n",
      "             gpu_id=None, importance_type='gain', interaction_constraints=None,\n",
      "             learning_rate=None, max_delta_step=None, max_depth=None,\n",
      "             min_child_weight=None, missing=nan, monotone_constraints=None,\n",
      "             n_estimators=100, n_jobs=None, num_parallel_tree=None,\n",
      "             random_state=None, reg_alpha=None, reg_lambda=None,\n",
      "             scale_pos_weight=None, subsample=None, tree_method=None,\n",
      "             validate_parameters=None, verbosity=None)\n"
     ]
    },
    {
     "data": {
      "text/html": [
       "<div>\n",
       "<style scoped>\n",
       "    .dataframe tbody tr th:only-of-type {\n",
       "        vertical-align: middle;\n",
       "    }\n",
       "\n",
       "    .dataframe tbody tr th {\n",
       "        vertical-align: top;\n",
       "    }\n",
       "\n",
       "    .dataframe thead th {\n",
       "        text-align: right;\n",
       "    }\n",
       "</style>\n",
       "<table border=\"1\" class=\"dataframe\">\n",
       "  <thead>\n",
       "    <tr style=\"text-align: right;\">\n",
       "      <th></th>\n",
       "      <th>model</th>\n",
       "      <th>score</th>\n",
       "      <th>Time to Train</th>\n",
       "    </tr>\n",
       "  </thead>\n",
       "  <tbody>\n",
       "    <tr>\n",
       "      <th>2</th>\n",
       "      <td>SGD Regressor</td>\n",
       "      <td>0.805789</td>\n",
       "      <td>0.005520</td>\n",
       "    </tr>\n",
       "    <tr>\n",
       "      <th>1</th>\n",
       "      <td>Linear SVC</td>\n",
       "      <td>0.803990</td>\n",
       "      <td>0.019693</td>\n",
       "    </tr>\n",
       "    <tr>\n",
       "      <th>3</th>\n",
       "      <td>XGBoost</td>\n",
       "      <td>0.753161</td>\n",
       "      <td>0.071926</td>\n",
       "    </tr>\n",
       "    <tr>\n",
       "      <th>0</th>\n",
       "      <td>Support Vector Machine</td>\n",
       "      <td>0.736306</td>\n",
       "      <td>0.013678</td>\n",
       "    </tr>\n",
       "  </tbody>\n",
       "</table>\n",
       "</div>"
      ],
      "text/plain": [
       "                    model     score  Time to Train\n",
       "2           SGD Regressor  0.805789       0.005520\n",
       "1              Linear SVC  0.803990       0.019693\n",
       "3                 XGBoost  0.753161       0.071926\n",
       "0  Support Vector Machine  0.736306       0.013678"
      ]
     },
     "execution_count": 12,
     "metadata": {},
     "output_type": "execute_result"
    }
   ],
   "source": [
    "models = pd.DataFrame(columns=['model', 'score','Time to Train'])\n",
    "\n",
    "\n",
    "options = [\n",
    "           SVR(), \n",
    "           LinearSVR(),\n",
    "           SGDRegressor(), \n",
    "           XGBRegressor()]   \n",
    "\n",
    "model_names = [ \n",
    "               'Support Vector Machine', \n",
    "               'Linear SVC', \n",
    "               'SGD Regressor',\n",
    "               'XGBoost']  \n",
    "\n",
    "for (opt, name) in zip(options, model_names):\n",
    "    start=time.time()\n",
    "    model = opt\n",
    "    print(model)\n",
    "    model.fit(X_train, y_train)\n",
    "    scores = model.score(X_test,y_test)\n",
    "    end=time.time()\n",
    "    row = pd.DataFrame([[name, scores.mean(), end-start]], columns=['model', 'score','Time to Train'])\n",
    "    models = pd.concat([models, row], ignore_index=True)\n",
    "\n",
    "models.sort_values(by='score', ascending=False)\n"
   ]
  },
  {
   "cell_type": "markdown",
   "metadata": {
    "papermill": {
     "duration": 0.025722,
     "end_time": "2020-10-22T08:37:34.852573",
     "exception": false,
     "start_time": "2020-10-22T08:37:34.826851",
     "status": "completed"
    },
    "tags": []
   },
   "source": [
    "* SGD Regressor has the best accuracy(L2 Regularization)"
   ]
  },
  {
   "cell_type": "markdown",
   "metadata": {
    "papermill": {
     "duration": 0.025632,
     "end_time": "2020-10-22T08:37:34.904604",
     "exception": false,
     "start_time": "2020-10-22T08:37:34.878972",
     "status": "completed"
    },
    "tags": []
   },
   "source": [
    "# Feature Engineering"
   ]
  },
  {
   "cell_type": "code",
   "execution_count": 13,
   "metadata": {
    "execution": {
     "iopub.execute_input": "2020-10-22T08:37:34.967227Z",
     "iopub.status.busy": "2020-10-22T08:37:34.966297Z",
     "iopub.status.idle": "2020-10-22T08:37:34.971664Z",
     "shell.execute_reply": "2020-10-22T08:37:34.972418Z"
    },
    "papermill": {
     "duration": 0.041584,
     "end_time": "2020-10-22T08:37:34.972583",
     "exception": false,
     "start_time": "2020-10-22T08:37:34.930999",
     "status": "completed"
    },
    "tags": []
   },
   "outputs": [
    {
     "data": {
      "text/plain": [
       "SGDRegressor(random_state=42)"
      ]
     },
     "execution_count": 13,
     "metadata": {},
     "output_type": "execute_result"
    }
   ],
   "source": [
    "model = SGDRegressor(random_state = 42)\n",
    "model.fit(X_train, y_train)"
   ]
  },
  {
   "cell_type": "code",
   "execution_count": 14,
   "metadata": {
    "execution": {
     "iopub.execute_input": "2020-10-22T08:37:35.026385Z",
     "iopub.status.busy": "2020-10-22T08:37:35.025417Z",
     "iopub.status.idle": "2020-10-22T08:37:35.047538Z",
     "shell.execute_reply": "2020-10-22T08:37:35.046949Z"
    },
    "papermill": {
     "duration": 0.052153,
     "end_time": "2020-10-22T08:37:35.047652",
     "exception": false,
     "start_time": "2020-10-22T08:37:34.995499",
     "status": "completed"
    },
    "tags": []
   },
   "outputs": [
    {
     "name": "stdout",
     "output_type": "stream",
     "text": [
      "Fitting estimator with 7 features.\n",
      "Fitting estimator with 6 features.\n",
      "Fitting estimator with 5 features.\n",
      "Fitting estimator with 4 features.\n",
      "Fitting estimator with 3 features.\n",
      "Fitting estimator with 2 features.\n"
     ]
    },
    {
     "data": {
      "text/html": [
       "<div>\n",
       "<style scoped>\n",
       "    .dataframe tbody tr th:only-of-type {\n",
       "        vertical-align: middle;\n",
       "    }\n",
       "\n",
       "    .dataframe tbody tr th {\n",
       "        vertical-align: top;\n",
       "    }\n",
       "\n",
       "    .dataframe thead th {\n",
       "        text-align: right;\n",
       "    }\n",
       "</style>\n",
       "<table border=\"1\" class=\"dataframe\">\n",
       "  <thead>\n",
       "    <tr style=\"text-align: right;\">\n",
       "      <th></th>\n",
       "      <th>feature</th>\n",
       "      <th>rank1</th>\n",
       "    </tr>\n",
       "  </thead>\n",
       "  <tbody>\n",
       "    <tr>\n",
       "      <th>5</th>\n",
       "      <td>CGPA</td>\n",
       "      <td>1</td>\n",
       "    </tr>\n",
       "    <tr>\n",
       "      <th>0</th>\n",
       "      <td>GRE Score</td>\n",
       "      <td>2</td>\n",
       "    </tr>\n",
       "    <tr>\n",
       "      <th>1</th>\n",
       "      <td>TOEFL Score</td>\n",
       "      <td>3</td>\n",
       "    </tr>\n",
       "    <tr>\n",
       "      <th>4</th>\n",
       "      <td>LOR</td>\n",
       "      <td>4</td>\n",
       "    </tr>\n",
       "    <tr>\n",
       "      <th>6</th>\n",
       "      <td>Research</td>\n",
       "      <td>5</td>\n",
       "    </tr>\n",
       "    <tr>\n",
       "      <th>2</th>\n",
       "      <td>University Rating</td>\n",
       "      <td>6</td>\n",
       "    </tr>\n",
       "    <tr>\n",
       "      <th>3</th>\n",
       "      <td>SOP</td>\n",
       "      <td>7</td>\n",
       "    </tr>\n",
       "  </tbody>\n",
       "</table>\n",
       "</div>"
      ],
      "text/plain": [
       "             feature  rank1\n",
       "5               CGPA      1\n",
       "0          GRE Score      2\n",
       "1        TOEFL Score      3\n",
       "4               LOR       4\n",
       "6           Research      5\n",
       "2  University Rating      6\n",
       "3                SOP      7"
      ]
     },
     "execution_count": 14,
     "metadata": {},
     "output_type": "execute_result"
    }
   ],
   "source": [
    "SGD = RFE(model, n_features_to_select=1, verbose =3)\n",
    "SGD.fit(X_train,y_train)\n",
    "\n",
    "imp1 = pd.DataFrame({'feature':X_train.columns, 'rank1':SGD.ranking_})\n",
    "imp1 = imp1.sort_values(by = 'rank1')\n",
    "imp1"
   ]
  },
  {
   "cell_type": "code",
   "execution_count": 15,
   "metadata": {
    "execution": {
     "iopub.execute_input": "2020-10-22T08:37:35.100341Z",
     "iopub.status.busy": "2020-10-22T08:37:35.099401Z",
     "iopub.status.idle": "2020-10-22T08:37:35.103071Z",
     "shell.execute_reply": "2020-10-22T08:37:35.102440Z"
    },
    "papermill": {
     "duration": 0.034291,
     "end_time": "2020-10-22T08:37:35.103178",
     "exception": false,
     "start_time": "2020-10-22T08:37:35.068887",
     "status": "completed"
    },
    "tags": []
   },
   "outputs": [
    {
     "data": {
      "text/plain": [
       "GRE Score            0.810351\n",
       "TOEFL Score          0.792228\n",
       "University Rating    0.690132\n",
       "SOP                  0.684137\n",
       "LOR                  0.645365\n",
       "CGPA                 0.882413\n",
       "Research             0.545871\n",
       "Chance of Admit      1.000000\n",
       "Name: Chance of Admit , dtype: float64"
      ]
     },
     "execution_count": 15,
     "metadata": {},
     "output_type": "execute_result"
    }
   ],
   "source": [
    "df.corr()['Chance of Admit ']"
   ]
  },
  {
   "cell_type": "markdown",
   "metadata": {
    "papermill": {
     "duration": 0.021545,
     "end_time": "2020-10-22T08:37:35.146191",
     "exception": false,
     "start_time": "2020-10-22T08:37:35.124646",
     "status": "completed"
    },
    "tags": []
   },
   "source": [
    "* None of the feature has <0.5 correlation \n",
    "* Thus we would be keeping all the features"
   ]
  },
  {
   "cell_type": "markdown",
   "metadata": {
    "papermill": {
     "duration": 0.021002,
     "end_time": "2020-10-22T08:37:35.188622",
     "exception": false,
     "start_time": "2020-10-22T08:37:35.167620",
     "status": "completed"
    },
    "tags": []
   },
   "source": [
    "# **HyperParameter Tuning**"
   ]
  },
  {
   "cell_type": "code",
   "execution_count": 16,
   "metadata": {
    "execution": {
     "iopub.execute_input": "2020-10-22T08:37:35.239229Z",
     "iopub.status.busy": "2020-10-22T08:37:35.238566Z",
     "iopub.status.idle": "2020-10-22T08:37:35.244413Z",
     "shell.execute_reply": "2020-10-22T08:37:35.243506Z"
    },
    "papermill": {
     "duration": 0.033572,
     "end_time": "2020-10-22T08:37:35.244558",
     "exception": false,
     "start_time": "2020-10-22T08:37:35.210986",
     "status": "completed"
    },
    "tags": []
   },
   "outputs": [
    {
     "name": "stdout",
     "output_type": "stream",
     "text": [
      "Parameters currently in use:\n",
      "\n",
      "{'estimator': SGDRegressor(random_state=42),\n",
      " 'estimator__alpha': 0.0001,\n",
      " 'estimator__average': False,\n",
      " 'estimator__early_stopping': False,\n",
      " 'estimator__epsilon': 0.1,\n",
      " 'estimator__eta0': 0.01,\n",
      " 'estimator__fit_intercept': True,\n",
      " 'estimator__l1_ratio': 0.15,\n",
      " 'estimator__learning_rate': 'invscaling',\n",
      " 'estimator__loss': 'squared_loss',\n",
      " 'estimator__max_iter': 1000,\n",
      " 'estimator__n_iter_no_change': 5,\n",
      " 'estimator__penalty': 'l2',\n",
      " 'estimator__power_t': 0.25,\n",
      " 'estimator__random_state': 42,\n",
      " 'estimator__shuffle': True,\n",
      " 'estimator__tol': 0.001,\n",
      " 'estimator__validation_fraction': 0.1,\n",
      " 'estimator__verbose': 0,\n",
      " 'estimator__warm_start': False,\n",
      " 'n_features_to_select': 1,\n",
      " 'step': 1,\n",
      " 'verbose': 3}\n"
     ]
    }
   ],
   "source": [
    "print('Parameters currently in use:\\n')\n",
    "pprint(SGD.get_params())"
   ]
  },
  {
   "cell_type": "markdown",
   "metadata": {
    "papermill": {
     "duration": 0.021499,
     "end_time": "2020-10-22T08:37:35.287901",
     "exception": false,
     "start_time": "2020-10-22T08:37:35.266402",
     "status": "completed"
    },
    "tags": []
   },
   "source": [
    "* learning rate : The constant multiplied to the error before correcting the weights.\n",
    "* loss : The loss function to be used. The possible values are ‘squared_loss’, ‘huber’, ‘epsilon_insensitive’, or ‘squared_epsilon_insensitive’.\n",
    "* validation_fraction : The proportion of training data to set aside as validation set \n",
    "* penalty: The penalty (aka regularization term) to be used. Defaults to ‘l2’ which is the standard regularizer for linear SVM models. "
   ]
  },
  {
   "cell_type": "code",
   "execution_count": 17,
   "metadata": {
    "execution": {
     "iopub.execute_input": "2020-10-22T08:37:35.337947Z",
     "iopub.status.busy": "2020-10-22T08:37:35.337068Z",
     "iopub.status.idle": "2020-10-22T08:37:35.340514Z",
     "shell.execute_reply": "2020-10-22T08:37:35.340023Z"
    },
    "papermill": {
     "duration": 0.031216,
     "end_time": "2020-10-22T08:37:35.340612",
     "exception": false,
     "start_time": "2020-10-22T08:37:35.309396",
     "status": "completed"
    },
    "tags": []
   },
   "outputs": [
    {
     "name": "stdout",
     "output_type": "stream",
     "text": [
      "{'learning_rate': ['optimal', 'invscaling', 'adaptive'],\n",
      " 'loss': ['squared_loss', 'huber'],\n",
      " 'penalty': ['l1', 'l2'],\n",
      " 'validation_fraction': [0.1, 0.12, 0.15]}\n"
     ]
    }
   ],
   "source": [
    "SGD_tmp=SGDRegressor(random_state=42)\n",
    "param_grid={\n",
    "    'loss': ['squared_loss','huber'],\n",
    "    'penalty':['l1','l2'],\n",
    "    'validation_fraction':[0.1,0.12,0.15],\n",
    "    'learning_rate':['optimal','invscaling','adaptive']\n",
    "}\n",
    "pprint(param_grid)"
   ]
  },
  {
   "cell_type": "code",
   "execution_count": 18,
   "metadata": {
    "execution": {
     "iopub.execute_input": "2020-10-22T08:37:35.394377Z",
     "iopub.status.busy": "2020-10-22T08:37:35.393813Z",
     "iopub.status.idle": "2020-10-22T08:37:36.507217Z",
     "shell.execute_reply": "2020-10-22T08:37:36.506691Z"
    },
    "papermill": {
     "duration": 1.144887,
     "end_time": "2020-10-22T08:37:36.507365",
     "exception": false,
     "start_time": "2020-10-22T08:37:35.362478",
     "status": "completed"
    },
    "tags": []
   },
   "outputs": [
    {
     "data": {
      "text/plain": [
       "GridSearchCV(cv=5, estimator=SGDRegressor(random_state=42),\n",
       "             param_grid={'learning_rate': ['optimal', 'invscaling', 'adaptive'],\n",
       "                         'loss': ['squared_loss', 'huber'],\n",
       "                         'penalty': ['l1', 'l2'],\n",
       "                         'validation_fraction': [0.1, 0.12, 0.15]})"
      ]
     },
     "execution_count": 18,
     "metadata": {},
     "output_type": "execute_result"
    }
   ],
   "source": [
    "SGD_grid=GridSearchCV(estimator=SGD_tmp,param_grid=param_grid,cv=5)\n",
    "SGD_grid.fit(X_train,y_train)"
   ]
  },
  {
   "cell_type": "code",
   "execution_count": 19,
   "metadata": {
    "execution": {
     "iopub.execute_input": "2020-10-22T08:37:36.558213Z",
     "iopub.status.busy": "2020-10-22T08:37:36.557447Z",
     "iopub.status.idle": "2020-10-22T08:37:36.561334Z",
     "shell.execute_reply": "2020-10-22T08:37:36.560695Z"
    },
    "papermill": {
     "duration": 0.031482,
     "end_time": "2020-10-22T08:37:36.561446",
     "exception": false,
     "start_time": "2020-10-22T08:37:36.529964",
     "status": "completed"
    },
    "tags": []
   },
   "outputs": [
    {
     "data": {
      "text/plain": [
       "{'learning_rate': 'adaptive',\n",
       " 'loss': 'huber',\n",
       " 'penalty': 'l2',\n",
       " 'validation_fraction': 0.1}"
      ]
     },
     "execution_count": 19,
     "metadata": {},
     "output_type": "execute_result"
    }
   ],
   "source": [
    "SGD_grid.best_params_"
   ]
  },
  {
   "cell_type": "code",
   "execution_count": 20,
   "metadata": {
    "execution": {
     "iopub.execute_input": "2020-10-22T08:37:36.614432Z",
     "iopub.status.busy": "2020-10-22T08:37:36.613786Z",
     "iopub.status.idle": "2020-10-22T08:37:36.619126Z",
     "shell.execute_reply": "2020-10-22T08:37:36.619551Z"
    },
    "papermill": {
     "duration": 0.03529,
     "end_time": "2020-10-22T08:37:36.619685",
     "exception": false,
     "start_time": "2020-10-22T08:37:36.584395",
     "status": "completed"
    },
    "tags": []
   },
   "outputs": [
    {
     "data": {
      "text/plain": [
       "SGDRegressor(learning_rate='adaptive', loss='huber')"
      ]
     },
     "execution_count": 20,
     "metadata": {},
     "output_type": "execute_result"
    }
   ],
   "source": [
    "SGD_tuned=SGDRegressor(loss='huber',penalty='l2',learning_rate='adaptive',validation_fraction=0.1)\n",
    "SGD_tuned.fit(X_train,y_train)"
   ]
  },
  {
   "cell_type": "code",
   "execution_count": 21,
   "metadata": {
    "execution": {
     "iopub.execute_input": "2020-10-22T08:37:36.676450Z",
     "iopub.status.busy": "2020-10-22T08:37:36.675768Z",
     "iopub.status.idle": "2020-10-22T08:37:36.678933Z",
     "shell.execute_reply": "2020-10-22T08:37:36.679419Z"
    },
    "papermill": {
     "duration": 0.03632,
     "end_time": "2020-10-22T08:37:36.679546",
     "exception": false,
     "start_time": "2020-10-22T08:37:36.643226",
     "status": "completed"
    },
    "tags": []
   },
   "outputs": [
    {
     "name": "stdout",
     "output_type": "stream",
     "text": [
      "Accuracy for Random Forest after Hyperparameter Tuning on test data:  0.8113202184112717\n",
      "Accuracy for Random Forest before Hyperparameter Tuning on test data:  0.7797531222089786\n"
     ]
    }
   ],
   "source": [
    "print(\"Accuracy for Random Forest after Hyperparameter Tuning on test data: \",SGD_tuned.score(X_test,y_test))\n",
    "print(\"Accuracy for Random Forest before Hyperparameter Tuning on test data: \",SGD.score(X_test,y_test))"
   ]
  },
  {
   "cell_type": "markdown",
   "metadata": {
    "papermill": {
     "duration": 0.023492,
     "end_time": "2020-10-22T08:37:36.726764",
     "exception": false,
     "start_time": "2020-10-22T08:37:36.703272",
     "status": "completed"
    },
    "tags": []
   },
   "source": [
    "# Saving the model"
   ]
  },
  {
   "cell_type": "code",
   "execution_count": 22,
   "metadata": {
    "execution": {
     "iopub.execute_input": "2020-10-22T08:37:36.779413Z",
     "iopub.status.busy": "2020-10-22T08:37:36.778718Z",
     "iopub.status.idle": "2020-10-22T08:37:36.781164Z",
     "shell.execute_reply": "2020-10-22T08:37:36.781583Z"
    },
    "papermill": {
     "duration": 0.031195,
     "end_time": "2020-10-22T08:37:36.781715",
     "exception": false,
     "start_time": "2020-10-22T08:37:36.750520",
     "status": "completed"
    },
    "tags": []
   },
   "outputs": [],
   "source": [
    "import pickle\n",
    "Pkl_Filename = \"Pickle_SGD_Model.pkl\"  \n",
    "\n",
    "with open(Pkl_Filename, 'wb') as file:  \n",
    "    pickle.dump(SGD_tuned, file)"
   ]
  },
  {
   "cell_type": "code",
   "execution_count": null,
   "metadata": {
    "papermill": {
     "duration": 0.023464,
     "end_time": "2020-10-22T08:37:36.828969",
     "exception": false,
     "start_time": "2020-10-22T08:37:36.805505",
     "status": "completed"
    },
    "tags": []
   },
   "outputs": [],
   "source": []
  }
 ],
 "metadata": {
  "kernelspec": {
   "display_name": "Python 3",
   "language": "python",
   "name": "python3"
  },
  "language_info": {
   "codemirror_mode": {
    "name": "ipython",
    "version": 3
   },
   "file_extension": ".py",
   "mimetype": "text/x-python",
   "name": "python",
   "nbconvert_exporter": "python",
   "pygments_lexer": "ipython3",
   "version": "3.7.6"
  },
  "papermill": {
   "duration": 8.65107,
   "end_time": "2020-10-22T08:37:36.958883",
   "environment_variables": {},
   "exception": null,
   "input_path": "__notebook__.ipynb",
   "output_path": "__notebook__.ipynb",
   "parameters": {},
   "start_time": "2020-10-22T08:37:28.307813",
   "version": "2.1.0"
  }
 },
 "nbformat": 4,
 "nbformat_minor": 4
}
