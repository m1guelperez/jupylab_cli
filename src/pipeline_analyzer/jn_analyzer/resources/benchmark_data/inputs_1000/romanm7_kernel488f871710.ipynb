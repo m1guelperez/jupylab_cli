{
 "cells": [
  {
   "cell_type": "code",
   "execution_count": 1,
   "metadata": {
    "_cell_guid": "b1076dfc-b9ad-4769-8c92-a6c4dae69d19",
    "_uuid": "8f2839f25d086af736a60e9eeb907d3b93b6e0e5"
   },
   "outputs": [
    {
     "name": "stdout",
     "output_type": "stream",
     "text": [
      "['seg_test', 'seg_train', 'seg_pred']\n"
     ]
    }
   ],
   "source": [
    "# This Python 3 environment comes with many helpful analytics libraries installed\n",
    "# It is defined by the kaggle/python docker image: https://github.com/kaggle/docker-python\n",
    "# For example, here's several helpful packages to load in \n",
    "\n",
    "import numpy as np # linear algebra\n",
    "import pandas as pd # data processing, CSV file I/O (e.g. pd.read_csv)\n",
    "\n",
    "# Input data files are available in the \"../input/\" directory.\n",
    "# For example, running this (by clicking run or pressing Shift+Enter) will list the files in the input directory\n",
    "\n",
    "import os\n",
    "print(os.listdir(\"../input\"))\n",
    "\n",
    "import torch\n",
    "import torchvision\n",
    "from torch.utils.data import TensorDataset,DataLoader\n",
    "from torchvision import transforms"
   ]
  },
  {
   "cell_type": "code",
   "execution_count": 2,
   "metadata": {
    "_cell_guid": "79c7e3d0-c299-4dcb-8224-4455121ee9b0",
    "_uuid": "d629ff2d2480ee46fbb7e2d37f6b5fab8052498a"
   },
   "outputs": [],
   "source": [
    "comp = transforms.Compose([\n",
    "        transforms.Resize(size=(150,150)),\n",
    "        transforms.ToTensor()])\n",
    "\n",
    "train_ds = torchvision.datasets.ImageFolder(\"../input/seg_train/seg_train/\", transform=comp)\n",
    "train_loader = DataLoader(train_ds,batch_size=128, shuffle=True)\n"
   ]
  },
  {
   "cell_type": "code",
   "execution_count": 3,
   "metadata": {},
   "outputs": [],
   "source": [
    "val_dataset = torchvision.datasets.ImageFolder(\"../input/seg_test/seg_test/\", transform=comp)\n",
    "val_ds, test_ds = torch.utils.data.random_split(val_dataset, [1500, 1500])\n",
    "val_loader = DataLoader(val_ds, batch_size=128)\n",
    "test_loader = DataLoader(test_ds, batch_size=128)"
   ]
  },
  {
   "cell_type": "code",
   "execution_count": 4,
   "metadata": {},
   "outputs": [],
   "source": [
    "import torch.nn as nn\n",
    "import torch.nn.functional as F\n",
    "import math\n",
    "class Model(nn.Module):\n",
    "    def __init__(self):\n",
    "        super(Model, self).__init__()\n",
    "        self.properties = nn.Sequential(\n",
    "            nn.Conv2d(in_channels=3, out_channels=75, kernel_size=3, padding=2),\n",
    "            nn.ReLU(),\n",
    "            nn.Conv2d(in_channels=75, out_channels=100, kernel_size=3),\n",
    "            nn.ReLU(),\n",
    "            nn.MaxPool2d(10),\n",
    "            nn.ReLU(),\n",
    "            nn.Conv2d(in_channels=100, out_channels=120, kernel_size=3),\n",
    "            nn.MaxPool2d(3)\n",
    "        )\n",
    "            \n",
    "        self.estimator = nn.Sequential(\n",
    "            nn.Linear(1920,500),\n",
    "            nn.ReLU( inplace=True ),\n",
    "            nn.Linear(500,6)\n",
    "        )\n",
    "        \n",
    "        \n",
    "    def train(self,train_loader,val_loader,epoch,waiting,optimizer):\n",
    "        self.cuda()\n",
    "        best_val_loss=1000\n",
    "        crit = nn.CrossEntropyLoss()\n",
    "        for i in range(epoch):\n",
    "            train_loss = 0\n",
    "            val_loss = 0\n",
    "            for xx,yy in train_loader:\n",
    "                xx = xx.cuda()\n",
    "                yy=yy.cuda()\n",
    "                optimizer.zero_grad()\n",
    "                y_pred = self.forward(xx)\n",
    "                loss = crit(y_pred,yy)\n",
    "                train_loss += loss\n",
    "                loss.backward()\n",
    "                optimizer.step()\n",
    "            train_loss = train_loss/len(train_loader)\n",
    "            with torch.no_grad():\n",
    "                for xx,yy in val_loader:\n",
    "                    xx, yy = xx.cuda(), yy.cuda()\n",
    "                    y_pred = self.forward(xx)\n",
    "                    loss = crit(y_pred,yy)\n",
    "                    val_loss += loss\n",
    "                val_loss = val_loss/len(val_loader)\n",
    "                \n",
    "                if best_val_loss>val_loss:\n",
    "                    torch.save(self.state_dict(), \"../best_model.py\")\n",
    "                    best_val_loss = val_loss\n",
    "                    wait=waiting\n",
    "                else:\n",
    "                    wait -=1\n",
    "                    if wait==0:\n",
    "                        break\n",
    "            print(\"train loss:\", float(train_loss), \"___best val loss:\",float(best_val_loss), \"___remaining:\", wait)\n",
    "    \n",
    "    def forward(self, x):\n",
    "        return  self.estimator(self.properties(x).view(x.size(0), -1))"
   ]
  },
  {
   "cell_type": "code",
   "execution_count": 5,
   "metadata": {},
   "outputs": [
    {
     "name": "stdout",
     "output_type": "stream",
     "text": [
      "train loss: 1.0042239427566528 ___best val loss: 0.7329196929931641 ___remaining: 4\n",
      "train loss: 0.6528664231300354 ___best val loss: 0.5280207395553589 ___remaining: 4\n",
      "train loss: 0.5159654021263123 ___best val loss: 0.4736877679824829 ___remaining: 4\n",
      "train loss: 0.4336874783039093 ___best val loss: 0.42642277479171753 ___remaining: 4\n",
      "train loss: 0.3823886513710022 ___best val loss: 0.42642277479171753 ___remaining: 3\n",
      "train loss: 0.35094696283340454 ___best val loss: 0.42642277479171753 ___remaining: 2\n",
      "train loss: 0.2883365750312805 ___best val loss: 0.4241550862789154 ___remaining: 4\n",
      "train loss: 0.25578823685646057 ___best val loss: 0.4241550862789154 ___remaining: 3\n",
      "train loss: 0.21762990951538086 ___best val loss: 0.413249135017395 ___remaining: 4\n",
      "train loss: 0.16955089569091797 ___best val loss: 0.413249135017395 ___remaining: 3\n"
     ]
    }
   ],
   "source": [
    "clf = Model()\n",
    "optimizer = torch.optim.Adam(clf.parameters(), lr=0.001)\n",
    "clf.train(train_loader,val_loader,10,4,optimizer)"
   ]
  },
  {
   "cell_type": "code",
   "execution_count": 6,
   "metadata": {},
   "outputs": [
    {
     "name": "stdout",
     "output_type": "stream",
     "text": [
      "              precision    recall  f1-score   support\n",
      "\n",
      "           0       0.84      0.81      0.82       247\n",
      "           1       0.89      0.98      0.93       215\n",
      "           2       0.72      0.87      0.79       227\n",
      "           3       0.85      0.76      0.80       261\n",
      "           4       0.91      0.82      0.86       288\n",
      "           5       0.84      0.84      0.84       262\n",
      "\n",
      "   micro avg       0.84      0.84      0.84      1500\n",
      "   macro avg       0.84      0.85      0.84      1500\n",
      "weighted avg       0.85      0.84      0.84      1500\n",
      "\n"
     ]
    }
   ],
   "source": [
    "from sklearn.metrics import classification_report\n",
    "clf.load_state_dict(torch.load(\"../best_model.py\"))\n",
    "y_true = []\n",
    "y_pred = []\n",
    "for xx,yy in test_loader:\n",
    "    out = clf.forward(xx.cuda())\n",
    "    for i in out:\n",
    "        y_pred.append(int(i.argmax()))\n",
    "    for i in yy:\n",
    "        y_true.append(int(i))\n",
    "print(classification_report(y_pred,y_true))"
   ]
  },
  {
   "cell_type": "code",
   "execution_count": 7,
   "metadata": {},
   "outputs": [],
   "source": []
  }
 ],
 "metadata": {
  "kernelspec": {
   "display_name": "Python 3",
   "language": "python",
   "name": "python3"
  },
  "language_info": {
   "codemirror_mode": {
    "name": "ipython",
    "version": 3
   },
   "file_extension": ".py",
   "mimetype": "text/x-python",
   "name": "python",
   "nbconvert_exporter": "python",
   "pygments_lexer": "ipython3",
   "version": "3.6.4"
  }
 },
 "nbformat": 4,
 "nbformat_minor": 1
}
