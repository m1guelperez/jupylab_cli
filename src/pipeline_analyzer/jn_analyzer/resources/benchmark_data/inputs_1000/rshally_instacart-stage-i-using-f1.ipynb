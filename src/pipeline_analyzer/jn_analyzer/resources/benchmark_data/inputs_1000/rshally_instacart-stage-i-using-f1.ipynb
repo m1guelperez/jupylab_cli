{
 "cells": [
  {
   "cell_type": "markdown",
   "execution_count": null,
   "metadata": {
    "_cell_guid": "94a8aa2c-1a68-4698-a9fb-ce25c6c46561",
    "_uuid": "678dfa423c0ff51e06a59676ae26908c95aa2fe4"
   },
   "outputs": [],
   "source": [
    "Goal: predict which previously purchased products will be in a user’s next order. Specifically, for each order_id in the test set, predict a space-delimited list of product_ids for that order. \n",
    "\n",
    "Orders file tells to which set (prior, train, test) an order belongs to without giving the details of the products ordered. For any given user_id the last order is flagged as either train or test while all previous orders are marked as prior. The prior file has the prior orders for both test and train set while the train file has the details of the last order. All together we have 3,421,083 order_ids for 206,209 user_ids:\n",
    "\n",
    "prior (32,434,449 products) -> train user (131,209 user_ids) -> train (1,384,617 products)\n",
    "\n",
    "prior (32,434,449 products) -> test user  (75,000 user_ids)  -> to forecast (??? products)\n",
    "\n",
    "For the 75,000 test user_ids there are also 75,000 order_ids that we need to include in the final answer. The \"prior\" pandas frame is 216 MB, orders is 88 MB, and train is 8MB. Fortunately one can reduce the size by merging and aggregating the data (I am working with 5 MB in all_data, 6 MB in train, and 2MB in test). \n",
    "\n",
    "We will see that the train file (our target or y) has on average 6 reordered products per user (with standard dev 6 and full range of 0 to 71 - this is after we exclude the new products - otherwise the average would be 11 with a range of 1 to 80). The data in the prior set (our X) has on a average 8 products per user and order (on average 17 orders). Our task is to predict the 6 products in the basket from a set of 65 products (on average for each user) purchseded in the past (even though there are some 49,000 products total).\n",
    "\n",
    "I am not using the rest of the files (at first disregarding the train users as well). The prediction (at first) is to take (for each test user) all their past orders and select \"n\" of the most common products where \"n\" is the average number of products in past  orders.  The  program takes just a few  minutes to run  on Kaggle. The score it gives is 0.329 - clearly not good enough (about 1500 out of 2000 when first run) so we need to work on it harder and use this just as a start. \n",
    "\n",
    "Before using any Machine Learning algorithm we need to understand what is the measure of sucess and so in the second part of the notebook we look at the train set and calculate F1 for the same prediction. I am concerned about the use of F1. For example if a the true order is [1,2,3,4,5,6] and we predict 2 correctly (1 in 3) , ie [1,2,7,8,9,10] then the F1 is 0.33 (and the same precision and recall). The leader board best score is 0.4 which is less than 3 correct (for the total of 6). The F1 score does not penalize for predicting incorrect number of products, for example if we add to the cart [11,12,13,14,3] , ie just 1 correct in 5 we improve the score to 0.35. To get to 0.4 one would need to add [11,12,3] or again 1 in 3 correct.  The precision will remain the same and only recall will increase (see the code at the end). The narrow task is to use F1 but is this really relevant to the business?\n",
    "\n"
   ]
  },
  {
   "cell_type": "code",
   "execution_count": 1,
   "metadata": {
    "_cell_guid": "5f57559a-eeb7-4b9e-bc62-d78a456e3f2a",
    "_execution_state": "idle",
    "_uuid": "56fa2780e886c642c1e4f468b7aa2803f03c2123",
    "collapsed": true
   },
   "outputs": [],
   "source": [
    "import pandas as pd\n",
    "import numpy as np\n",
    "from collections import Counter\n",
    "\n",
    "myfolder = '../input/'\n",
    "prior = pd.read_csv(myfolder + 'order_products__prior.csv', dtype={'order_id': np.uint32,\n",
    "           'product_id': np.uint16}).drop(['add_to_cart_order', 'reordered'], axis=1)\n",
    "orders = pd.read_csv(myfolder + 'orders.csv', dtype={'order_hour_of_day': np.uint8,\n",
    "           'order_number': np.uint8, 'order_id': np.uint32, 'user_id': np.uint32,\n",
    "           'days_since_prior_order': np.float16}).drop(['order_dow','order_hour_of_day'], axis=1)\n",
    "orders.set_index('order_id', drop=False, inplace=True)"
   ]
  },
  {
   "cell_type": "code",
   "execution_count": 2,
   "metadata": {
    "_cell_guid": "8262487d-c536-4b70-bb03-670581838353",
    "_execution_state": "idle",
    "_uuid": "0edbc6be18bba072e5c9c65f0ffe18a33dbb0fce",
    "collapsed": true
   },
   "outputs": [],
   "source": [
    "#This might take a minute - adding the past products to the orders frame\n",
    "\n",
    "orders['prod_list'] = prior.groupby('order_id').aggregate({'product_id':lambda x: list(x)})\n",
    "orders=orders.fillna('')\n",
    "orders['num_items'] = orders['prod_list'].apply(len).astype(np.uint8)\n",
    "    "
   ]
  },
  {
   "cell_type": "code",
   "execution_count": 3,
   "metadata": {
    "_cell_guid": "f8d8f7e0-af85-4afb-b1e6-856e9fc14291",
    "_execution_state": "idle",
    "_uuid": "46fa0b5904eb0b9ff5698c71d0bb3012fcb3ef7c",
    "collapsed": true,
    "scrolled": true
   },
   "outputs": [],
   "source": [
    "#aggregate again by creating a list of list of all products in all orders for each user\n",
    "\n",
    "all_products = orders.groupby('user_id').aggregate({'prod_list':lambda x: list(x)})\n",
    "all_products['mean_items']= orders.groupby('user_id').aggregate({'num_items':lambda x: np.mean(x)}).astype(np.uint8)\n",
    "all_products['max_items']= orders.groupby('user_id').aggregate({'num_items':lambda x: np.max(x)}).astype(np.uint8)\n",
    "all_products['user_id']=all_products.index\n"
   ]
  },
  {
   "cell_type": "code",
   "execution_count": 4,
   "metadata": {
    "_cell_guid": "bd805faa-2784-4e2f-ac30-9ce4cfc26bff",
    "_execution_state": "idle",
    "_uuid": "8d5110a758a564bd7f68b45cad32b7c28b23122a"
   },
   "outputs": [
    {
     "data": {
      "text/html": [
       "<div>\n",
       "<style>\n",
       "    .dataframe thead tr:only-child th {\n",
       "        text-align: right;\n",
       "    }\n",
       "\n",
       "    .dataframe thead th {\n",
       "        text-align: left;\n",
       "    }\n",
       "\n",
       "    .dataframe tbody tr th {\n",
       "        vertical-align: top;\n",
       "    }\n",
       "</style>\n",
       "<table border=\"1\" class=\"dataframe\">\n",
       "  <thead>\n",
       "    <tr style=\"text-align: right;\">\n",
       "      <th></th>\n",
       "      <th>order_id</th>\n",
       "      <th>user_id</th>\n",
       "      <th>prod_list</th>\n",
       "      <th>mean_items</th>\n",
       "      <th>max_items</th>\n",
       "      <th>products</th>\n",
       "    </tr>\n",
       "  </thead>\n",
       "  <tbody>\n",
       "    <tr>\n",
       "      <th>0</th>\n",
       "      <td>2774568</td>\n",
       "      <td>3</td>\n",
       "      <td>[[9387, 17668, 15143, 16797, 39190, 47766, 219...</td>\n",
       "      <td>6</td>\n",
       "      <td>11</td>\n",
       "      <td>39190 47766 21903 9387 17668 43961</td>\n",
       "    </tr>\n",
       "    <tr>\n",
       "      <th>1</th>\n",
       "      <td>329954</td>\n",
       "      <td>4</td>\n",
       "      <td>[[36606, 7350, 35469, 2707], [42329, 7160], [1...</td>\n",
       "      <td>3</td>\n",
       "      <td>7</td>\n",
       "      <td>35469 36606 7350</td>\n",
       "    </tr>\n",
       "    <tr>\n",
       "      <th>2</th>\n",
       "      <td>1528013</td>\n",
       "      <td>6</td>\n",
       "      <td>[[27521, 38293, 21903, 48679], [38293, 20323, ...</td>\n",
       "      <td>3</td>\n",
       "      <td>7</td>\n",
       "      <td>38293 21903 27521</td>\n",
       "    </tr>\n",
       "  </tbody>\n",
       "</table>\n",
       "</div>"
      ],
      "text/plain": [
       "   order_id  user_id                                          prod_list  \\\n",
       "0   2774568        3  [[9387, 17668, 15143, 16797, 39190, 47766, 219...   \n",
       "1    329954        4  [[36606, 7350, 35469, 2707], [42329, 7160], [1...   \n",
       "2   1528013        6  [[27521, 38293, 21903, 48679], [38293, 20323, ...   \n",
       "\n",
       "   mean_items  max_items                            products  \n",
       "0           6         11  39190 47766 21903 9387 17668 43961  \n",
       "1           3          7                    35469 36606 7350  \n",
       "2           3          7                   38293 21903 27521  "
      ]
     },
     "execution_count": 4,
     "metadata": {},
     "output_type": "execute_result"
    }
   ],
   "source": [
    "# This function flattens the list of list (of product_ids), then finds the most common elements in it\n",
    "# and joins them into the required format for the test set only\n",
    "\n",
    "def myfrequent(x):\n",
    "    prodids = x.prod_list\n",
    "    n=x.mean_items\n",
    "    C=Counter( [elem for sublist in prodids for elem in sublist] ).most_common(n)\n",
    "    return ' '.join(str(C[i][0]) for i in range(0,n))  \n",
    "\n",
    "test=orders[['order_id','user_id']].loc[orders['eval_set']=='test']\n",
    "test=test.merge(all_products,on='user_id')\n",
    "test['products']=test.apply(myfrequent,axis=1)\n",
    "test[['order_id','products']].to_csv('mean_submission0.csv', index=False)  \n",
    "test.head(3)"
   ]
  },
  {
   "cell_type": "markdown",
   "execution_count": null,
   "metadata": {
    "_cell_guid": "a2083798-49c3-462a-ac56-fa22c9c6efdc",
    "_uuid": "815a062a31be18a6f12684bd89eddbdc52c922fc"
   },
   "outputs": [],
   "source": [
    "The score from LB is 0.329 and to understand it better we look at the train set:\n",
    "    "
   ]
  },
  {
   "cell_type": "code",
   "execution_count": 5,
   "metadata": {
    "_cell_guid": "418e0e83-9b40-4c7d-90e3-c84dd5651a9f",
    "_uuid": "26ac2cb88d0c4da3eb3886957b1f2cf2bf7c4e93",
    "collapsed": true
   },
   "outputs": [],
   "source": [
    "train=orders[['order_id','user_id']].loc[orders['eval_set']=='train']\n",
    "train_orders = pd.read_csv(myfolder + 'order_products__train.csv', dtype={'order_id': np.uint32,\n",
    "           'product_id': np.uint16, 'reordered': np.int8}).drop(['add_to_cart_order'], axis=1)\n",
    "train_orders = train_orders[train_orders['reordered']==1].drop('reordered',axis=1)  # predicting for reordered only\n",
    "train['true'] = train_orders.groupby('order_id').aggregate({'product_id':lambda x: list(x)})\n",
    "train['true']=train['true'].fillna('')\n",
    "train['true_n'] = train['true'].fillna('').apply(len).astype(np.uint8)\n",
    "train=train.merge(all_products,on='user_id')\n",
    "train['prod_list']=train['prod_list'].map(lambda x: [elem for sublist in x for elem in sublist])\n"
   ]
  },
  {
   "cell_type": "code",
   "execution_count": 6,
   "metadata": {
    "_cell_guid": "561a51b5-39b0-4b78-b151-e98cf950457e",
    "_uuid": "0ad20a115160ccb82e3c6c28643e19c893479d87"
   },
   "outputs": [
    {
     "name": "stdout",
     "output_type": "stream",
     "text": [
      "The F1 score on the traing set is  0.317.\n"
     ]
    },
    {
     "data": {
      "text/html": [
       "<div>\n",
       "<style>\n",
       "    .dataframe thead tr:only-child th {\n",
       "        text-align: right;\n",
       "    }\n",
       "\n",
       "    .dataframe thead th {\n",
       "        text-align: left;\n",
       "    }\n",
       "\n",
       "    .dataframe tbody tr th {\n",
       "        vertical-align: top;\n",
       "    }\n",
       "</style>\n",
       "<table border=\"1\" class=\"dataframe\">\n",
       "  <thead>\n",
       "    <tr style=\"text-align: right;\">\n",
       "      <th></th>\n",
       "      <th>order_id</th>\n",
       "      <th>user_id</th>\n",
       "      <th>true</th>\n",
       "      <th>true_n</th>\n",
       "      <th>prod_list</th>\n",
       "      <th>mean_items</th>\n",
       "      <th>max_items</th>\n",
       "      <th>prediction</th>\n",
       "      <th>f1</th>\n",
       "    </tr>\n",
       "  </thead>\n",
       "  <tbody>\n",
       "    <tr>\n",
       "      <th>0</th>\n",
       "      <td>1187899</td>\n",
       "      <td>1</td>\n",
       "      <td>[196, 25133, 38928, 26405, 39657, 10258, 13032...</td>\n",
       "      <td>10</td>\n",
       "      <td>[196, 14084, 12427, 26088, 26405, 196, 10258, ...</td>\n",
       "      <td>5</td>\n",
       "      <td>9</td>\n",
       "      <td>[196, 12427, 10258, 25133, 13032]</td>\n",
       "      <td>0.533203</td>\n",
       "    </tr>\n",
       "    <tr>\n",
       "      <th>1</th>\n",
       "      <td>1492625</td>\n",
       "      <td>2</td>\n",
       "      <td>[22963, 7963, 16589, 32792, 41787, 22825, 2485...</td>\n",
       "      <td>12</td>\n",
       "      <td>[32792, 47766, 20574, 12000, 48110, 22474, 165...</td>\n",
       "      <td>13</td>\n",
       "      <td>26</td>\n",
       "      <td>[32792, 47209, 24852, 19156, 1559, 18523, 1200...</td>\n",
       "      <td>0.239990</td>\n",
       "    </tr>\n",
       "    <tr>\n",
       "      <th>2</th>\n",
       "      <td>2196797</td>\n",
       "      <td>5</td>\n",
       "      <td>[15349, 21413, 40706, 21616]</td>\n",
       "      <td>4</td>\n",
       "      <td>[15349, 21413, 48775, 28289, 8518, 11777, 3171...</td>\n",
       "      <td>7</td>\n",
       "      <td>12</td>\n",
       "      <td>[11777, 26604, 43693, 24535, 21413, 8518, 13988]</td>\n",
       "      <td>0.181763</td>\n",
       "    </tr>\n",
       "  </tbody>\n",
       "</table>\n",
       "</div>"
      ],
      "text/plain": [
       "   order_id  user_id                                               true  \\\n",
       "0   1187899        1  [196, 25133, 38928, 26405, 39657, 10258, 13032...   \n",
       "1   1492625        2  [22963, 7963, 16589, 32792, 41787, 22825, 2485...   \n",
       "2   2196797        5                       [15349, 21413, 40706, 21616]   \n",
       "\n",
       "   true_n                                          prod_list  mean_items  \\\n",
       "0      10  [196, 14084, 12427, 26088, 26405, 196, 10258, ...           5   \n",
       "1      12  [32792, 47766, 20574, 12000, 48110, 22474, 165...          13   \n",
       "2       4  [15349, 21413, 48775, 28289, 8518, 11777, 3171...           7   \n",
       "\n",
       "   max_items                                         prediction        f1  \n",
       "0          9                  [196, 12427, 10258, 25133, 13032]  0.533203  \n",
       "1         26  [32792, 47209, 24852, 19156, 1559, 18523, 1200...  0.239990  \n",
       "2         12   [11777, 26604, 43693, 24535, 21413, 8518, 13988]  0.181763  "
      ]
     },
     "execution_count": 6,
     "metadata": {},
     "output_type": "execute_result"
    }
   ],
   "source": [
    "def myfrequent2(x):     # select the n most common elements from the prod_list\n",
    "    prodids = x.prod_list\n",
    "    n=x.mean_items\n",
    "    C=Counter(prodids).most_common(n)\n",
    "    return list((C[i][0]) for i in range(0,n))  \n",
    "\n",
    "def f1_score_single(x):    #copied from LiLi\n",
    "    y_true = set(x.true)\n",
    "    y_pred = set(x.prediction)\n",
    "    cross_size = len(y_true & y_pred)\n",
    "    if cross_size == 0: return 0.\n",
    "    p = 1. * cross_size / len(y_pred)\n",
    "    r = 1. * cross_size / len(y_true)\n",
    "    return 2 * p * r / (p + r)\n",
    "\n",
    "train['prediction']=train.apply(myfrequent2,axis=1)\n",
    "train['f1']=train.apply(f1_score_single,axis=1).astype(np.float16)\n",
    "print('The F1 score on the traing set is  {0:.3f}.'.format(  train['f1'].mean()  ))\n",
    "train.head(3)"
   ]
  },
  {
   "cell_type": "markdown",
   "execution_count": null,
   "metadata": {
    "_uuid": "2c18e77a84d65636243a55017ac1ee9adf7fb132"
   },
   "outputs": [],
   "source": [
    "Look at the example below how one can get F1 from 0.33 to 0.4 without increasing precision just by increasing the number of products in the basket."
   ]
  },
  {
   "cell_type": "code",
   "execution_count": 7,
   "metadata": {
    "_cell_guid": "c09e24fd-dbe4-40e0-aab1-8feee94f2a7e",
    "_uuid": "00dd2596d993d26514dc2be9e74f529f50854e7e"
   },
   "outputs": [
    {
     "name": "stdout",
     "output_type": "stream",
     "text": [
      " True, Pred, F1:    [1, 2, 3, 4, 5, 6] [1, 2, 7, 8, 9, 10] 0.3333333333333333\n",
      " True, Pred, F1:    [1, 2, 3, 4, 5, 6] [1, 2, 7, 8, 9, 10, 11, 12, 3] 0.4\n",
      " True, Pred, F1:    [1, 2, 3, 4, 5, 6] [1, 2, 3, 8, 9, 10] 0.5\n"
     ]
    }
   ],
   "source": [
    "\n",
    "def f1(y_true,y_pred):    \n",
    "    y_true = set(y_true)\n",
    "    y_pred = set(y_pred)\n",
    "    cross_size = len(y_true & y_pred)\n",
    "    if cross_size == 0: return 0.\n",
    "    p = 1. * cross_size / len(y_pred)\n",
    "    r = 1. * cross_size / len(y_true)\n",
    "    return 2 * p * r / (p + r)\n",
    "\n",
    "y_true=[1,2,3,4,5,6]\n",
    "y_pred=[1,2,7,8,9,10]\n",
    "print (' True, Pred, F1:   ',y_true,y_pred,f1(y_true, y_pred))\n",
    "y_pred.extend([11,12,3])\n",
    "print (' True, Pred, F1:   ',y_true,y_pred,f1(y_true, y_pred))\n",
    "y_pred=[1,2,3,8,9,10]\n",
    "print (' True, Pred, F1:   ',y_true,y_pred,f1(y_true, y_pred))\n"
   ]
  },
  {
   "cell_type": "markdown",
   "execution_count": null,
   "metadata": {
    "_uuid": "cb815f8b9741e2e221f47783b5068a26fe57dda3"
   },
   "outputs": [],
   "source": [
    "Seeing this and the fact that highest LB score is about 0.4 I have to ask if that is due to the increase in recall only and not precision - by increasing the number of products in an order.  I checked a couple of other simple public kernels with similar approach and I noticed that they achieve higher LB score at the cost of having on average 12 products in an order instead of 6. "
   ]
  },
  {
   "cell_type": "markdown",
   "execution_count": null,
   "metadata": {
    "_cell_guid": "a1fe8005-7690-4e4f-b5d6-a25c322c526d",
    "_uuid": "f2cc523c45a7a8b9a6e1aec48c9c964def01d17a"
   },
   "outputs": [],
   "source": []
  }
 ],
 "metadata": {
  "anaconda-cloud": {},
  "kernelspec": {
   "display_name": "Python 3",
   "language": "python",
   "name": "python3"
  },
  "language_info": {
   "codemirror_mode": {
    "name": "ipython",
    "version": 3
   },
   "file_extension": ".py",
   "mimetype": "text/x-python",
   "name": "python",
   "nbconvert_exporter": "python",
   "pygments_lexer": "ipython3",
   "version": "3.6.1"
  }
 },
 "nbformat": 4,
 "nbformat_minor": 1
}
