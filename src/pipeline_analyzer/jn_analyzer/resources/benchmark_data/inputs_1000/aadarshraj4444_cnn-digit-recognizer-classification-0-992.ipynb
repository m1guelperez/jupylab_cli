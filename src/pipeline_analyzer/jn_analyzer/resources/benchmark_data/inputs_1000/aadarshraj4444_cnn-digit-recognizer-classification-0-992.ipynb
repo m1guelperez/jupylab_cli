{
 "cells": [
  {
   "cell_type": "code",
   "execution_count": 1,
   "metadata": {
    "execution": {
     "iopub.execute_input": "2020-10-06T21:12:34.176498Z",
     "iopub.status.busy": "2020-10-06T21:12:34.175713Z",
     "iopub.status.idle": "2020-10-06T21:12:42.151485Z",
     "shell.execute_reply": "2020-10-06T21:12:42.150807Z"
    },
    "papermill": {
     "duration": 8.001395,
     "end_time": "2020-10-06T21:12:42.151633",
     "exception": false,
     "start_time": "2020-10-06T21:12:34.150238",
     "status": "completed"
    },
    "tags": []
   },
   "outputs": [],
   "source": [
    "import tensorflow as tf\n",
    "from tensorflow import keras\n",
    "import pandas as pd\n",
    "import numpy as np\n",
    "import matplotlib.pyplot as plt\n",
    "import seaborn as sns\n",
    "from sklearn.model_selection import train_test_split\n",
    "\n",
    "%matplotlib inline\n",
    "plt.style.use(\"ggplot\")"
   ]
  },
  {
   "cell_type": "code",
   "execution_count": 2,
   "metadata": {
    "execution": {
     "iopub.execute_input": "2020-10-06T21:12:42.192517Z",
     "iopub.status.busy": "2020-10-06T21:12:42.191722Z",
     "iopub.status.idle": "2020-10-06T21:12:47.789792Z",
     "shell.execute_reply": "2020-10-06T21:12:47.790727Z"
    },
    "papermill": {
     "duration": 5.623525,
     "end_time": "2020-10-06T21:12:47.790976",
     "exception": false,
     "start_time": "2020-10-06T21:12:42.167451",
     "status": "completed"
    },
    "tags": []
   },
   "outputs": [],
   "source": [
    "df_train = pd.read_csv(\"/kaggle/input/digit-recognizer/train.csv\")\n",
    "df_test = pd.read_csv(\"/kaggle/input/digit-recognizer/test.csv\")"
   ]
  },
  {
   "cell_type": "code",
   "execution_count": 3,
   "metadata": {
    "execution": {
     "iopub.execute_input": "2020-10-06T21:12:47.859392Z",
     "iopub.status.busy": "2020-10-06T21:12:47.858373Z",
     "iopub.status.idle": "2020-10-06T21:12:47.896285Z",
     "shell.execute_reply": "2020-10-06T21:12:47.897339Z"
    },
    "papermill": {
     "duration": 0.077276,
     "end_time": "2020-10-06T21:12:47.897553",
     "exception": false,
     "start_time": "2020-10-06T21:12:47.820277",
     "status": "completed"
    },
    "tags": []
   },
   "outputs": [
    {
     "data": {
      "text/html": [
       "<div>\n",
       "<style scoped>\n",
       "    .dataframe tbody tr th:only-of-type {\n",
       "        vertical-align: middle;\n",
       "    }\n",
       "\n",
       "    .dataframe tbody tr th {\n",
       "        vertical-align: top;\n",
       "    }\n",
       "\n",
       "    .dataframe thead th {\n",
       "        text-align: right;\n",
       "    }\n",
       "</style>\n",
       "<table border=\"1\" class=\"dataframe\">\n",
       "  <thead>\n",
       "    <tr style=\"text-align: right;\">\n",
       "      <th></th>\n",
       "      <th>label</th>\n",
       "      <th>pixel0</th>\n",
       "      <th>pixel1</th>\n",
       "      <th>pixel2</th>\n",
       "      <th>pixel3</th>\n",
       "      <th>pixel4</th>\n",
       "      <th>pixel5</th>\n",
       "      <th>pixel6</th>\n",
       "      <th>pixel7</th>\n",
       "      <th>pixel8</th>\n",
       "      <th>...</th>\n",
       "      <th>pixel774</th>\n",
       "      <th>pixel775</th>\n",
       "      <th>pixel776</th>\n",
       "      <th>pixel777</th>\n",
       "      <th>pixel778</th>\n",
       "      <th>pixel779</th>\n",
       "      <th>pixel780</th>\n",
       "      <th>pixel781</th>\n",
       "      <th>pixel782</th>\n",
       "      <th>pixel783</th>\n",
       "    </tr>\n",
       "  </thead>\n",
       "  <tbody>\n",
       "    <tr>\n",
       "      <th>0</th>\n",
       "      <td>1</td>\n",
       "      <td>0</td>\n",
       "      <td>0</td>\n",
       "      <td>0</td>\n",
       "      <td>0</td>\n",
       "      <td>0</td>\n",
       "      <td>0</td>\n",
       "      <td>0</td>\n",
       "      <td>0</td>\n",
       "      <td>0</td>\n",
       "      <td>...</td>\n",
       "      <td>0</td>\n",
       "      <td>0</td>\n",
       "      <td>0</td>\n",
       "      <td>0</td>\n",
       "      <td>0</td>\n",
       "      <td>0</td>\n",
       "      <td>0</td>\n",
       "      <td>0</td>\n",
       "      <td>0</td>\n",
       "      <td>0</td>\n",
       "    </tr>\n",
       "    <tr>\n",
       "      <th>1</th>\n",
       "      <td>0</td>\n",
       "      <td>0</td>\n",
       "      <td>0</td>\n",
       "      <td>0</td>\n",
       "      <td>0</td>\n",
       "      <td>0</td>\n",
       "      <td>0</td>\n",
       "      <td>0</td>\n",
       "      <td>0</td>\n",
       "      <td>0</td>\n",
       "      <td>...</td>\n",
       "      <td>0</td>\n",
       "      <td>0</td>\n",
       "      <td>0</td>\n",
       "      <td>0</td>\n",
       "      <td>0</td>\n",
       "      <td>0</td>\n",
       "      <td>0</td>\n",
       "      <td>0</td>\n",
       "      <td>0</td>\n",
       "      <td>0</td>\n",
       "    </tr>\n",
       "    <tr>\n",
       "      <th>2</th>\n",
       "      <td>1</td>\n",
       "      <td>0</td>\n",
       "      <td>0</td>\n",
       "      <td>0</td>\n",
       "      <td>0</td>\n",
       "      <td>0</td>\n",
       "      <td>0</td>\n",
       "      <td>0</td>\n",
       "      <td>0</td>\n",
       "      <td>0</td>\n",
       "      <td>...</td>\n",
       "      <td>0</td>\n",
       "      <td>0</td>\n",
       "      <td>0</td>\n",
       "      <td>0</td>\n",
       "      <td>0</td>\n",
       "      <td>0</td>\n",
       "      <td>0</td>\n",
       "      <td>0</td>\n",
       "      <td>0</td>\n",
       "      <td>0</td>\n",
       "    </tr>\n",
       "    <tr>\n",
       "      <th>3</th>\n",
       "      <td>4</td>\n",
       "      <td>0</td>\n",
       "      <td>0</td>\n",
       "      <td>0</td>\n",
       "      <td>0</td>\n",
       "      <td>0</td>\n",
       "      <td>0</td>\n",
       "      <td>0</td>\n",
       "      <td>0</td>\n",
       "      <td>0</td>\n",
       "      <td>...</td>\n",
       "      <td>0</td>\n",
       "      <td>0</td>\n",
       "      <td>0</td>\n",
       "      <td>0</td>\n",
       "      <td>0</td>\n",
       "      <td>0</td>\n",
       "      <td>0</td>\n",
       "      <td>0</td>\n",
       "      <td>0</td>\n",
       "      <td>0</td>\n",
       "    </tr>\n",
       "    <tr>\n",
       "      <th>4</th>\n",
       "      <td>0</td>\n",
       "      <td>0</td>\n",
       "      <td>0</td>\n",
       "      <td>0</td>\n",
       "      <td>0</td>\n",
       "      <td>0</td>\n",
       "      <td>0</td>\n",
       "      <td>0</td>\n",
       "      <td>0</td>\n",
       "      <td>0</td>\n",
       "      <td>...</td>\n",
       "      <td>0</td>\n",
       "      <td>0</td>\n",
       "      <td>0</td>\n",
       "      <td>0</td>\n",
       "      <td>0</td>\n",
       "      <td>0</td>\n",
       "      <td>0</td>\n",
       "      <td>0</td>\n",
       "      <td>0</td>\n",
       "      <td>0</td>\n",
       "    </tr>\n",
       "  </tbody>\n",
       "</table>\n",
       "<p>5 rows × 785 columns</p>\n",
       "</div>"
      ],
      "text/plain": [
       "   label  pixel0  pixel1  pixel2  pixel3  pixel4  pixel5  pixel6  pixel7  \\\n",
       "0      1       0       0       0       0       0       0       0       0   \n",
       "1      0       0       0       0       0       0       0       0       0   \n",
       "2      1       0       0       0       0       0       0       0       0   \n",
       "3      4       0       0       0       0       0       0       0       0   \n",
       "4      0       0       0       0       0       0       0       0       0   \n",
       "\n",
       "   pixel8  ...  pixel774  pixel775  pixel776  pixel777  pixel778  pixel779  \\\n",
       "0       0  ...         0         0         0         0         0         0   \n",
       "1       0  ...         0         0         0         0         0         0   \n",
       "2       0  ...         0         0         0         0         0         0   \n",
       "3       0  ...         0         0         0         0         0         0   \n",
       "4       0  ...         0         0         0         0         0         0   \n",
       "\n",
       "   pixel780  pixel781  pixel782  pixel783  \n",
       "0         0         0         0         0  \n",
       "1         0         0         0         0  \n",
       "2         0         0         0         0  \n",
       "3         0         0         0         0  \n",
       "4         0         0         0         0  \n",
       "\n",
       "[5 rows x 785 columns]"
      ]
     },
     "execution_count": 3,
     "metadata": {},
     "output_type": "execute_result"
    }
   ],
   "source": [
    "df_train.head()"
   ]
  },
  {
   "cell_type": "code",
   "execution_count": 4,
   "metadata": {
    "execution": {
     "iopub.execute_input": "2020-10-06T21:12:47.955164Z",
     "iopub.status.busy": "2020-10-06T21:12:47.954155Z",
     "iopub.status.idle": "2020-10-06T21:12:47.959536Z",
     "shell.execute_reply": "2020-10-06T21:12:47.961070Z"
    },
    "papermill": {
     "duration": 0.038442,
     "end_time": "2020-10-06T21:12:47.961427",
     "exception": false,
     "start_time": "2020-10-06T21:12:47.922985",
     "status": "completed"
    },
    "tags": []
   },
   "outputs": [
    {
     "name": "stdout",
     "output_type": "stream",
     "text": [
      "(42000, 785)\n",
      "(28000, 784)\n"
     ]
    }
   ],
   "source": [
    "print(df_train.shape)\n",
    "print(df_test.shape)"
   ]
  },
  {
   "cell_type": "code",
   "execution_count": 5,
   "metadata": {
    "execution": {
     "iopub.execute_input": "2020-10-06T21:12:48.020901Z",
     "iopub.status.busy": "2020-10-06T21:12:48.019847Z",
     "iopub.status.idle": "2020-10-06T21:12:48.392603Z",
     "shell.execute_reply": "2020-10-06T21:12:48.391875Z"
    },
    "papermill": {
     "duration": 0.405038,
     "end_time": "2020-10-06T21:12:48.392770",
     "exception": false,
     "start_time": "2020-10-06T21:12:47.987732",
     "status": "completed"
    },
    "tags": []
   },
   "outputs": [
    {
     "data": {
      "image/png": "[encoded data removed]",
      "text/plain": [
       "<Figure size 720x360 with 1 Axes>"
      ]
     },
     "metadata": {},
     "output_type": "display_data"
    }
   ],
   "source": [
    "plt.figure(figsize=(10,5))\n",
    "sns.countplot(df_train[\"label\"])\n",
    "plt.show()"
   ]
  },
  {
   "cell_type": "code",
   "execution_count": 6,
   "metadata": {
    "execution": {
     "iopub.execute_input": "2020-10-06T21:12:48.453283Z",
     "iopub.status.busy": "2020-10-06T21:12:48.452220Z",
     "iopub.status.idle": "2020-10-06T21:12:48.456948Z",
     "shell.execute_reply": "2020-10-06T21:12:48.457706Z"
    },
    "papermill": {
     "duration": 0.039087,
     "end_time": "2020-10-06T21:12:48.457927",
     "exception": false,
     "start_time": "2020-10-06T21:12:48.418840",
     "status": "completed"
    },
    "tags": []
   },
   "outputs": [],
   "source": [
    "X = df_train.iloc[:,1:]\n",
    "y = df_train.iloc[:,:1]"
   ]
  },
  {
   "cell_type": "code",
   "execution_count": 7,
   "metadata": {
    "execution": {
     "iopub.execute_input": "2020-10-06T21:12:48.523084Z",
     "iopub.status.busy": "2020-10-06T21:12:48.521950Z",
     "iopub.status.idle": "2020-10-06T21:12:48.526430Z",
     "shell.execute_reply": "2020-10-06T21:12:48.524032Z"
    },
    "papermill": {
     "duration": 0.041521,
     "end_time": "2020-10-06T21:12:48.526591",
     "exception": false,
     "start_time": "2020-10-06T21:12:48.485070",
     "status": "completed"
    },
    "tags": []
   },
   "outputs": [
    {
     "name": "stdout",
     "output_type": "stream",
     "text": [
      "(42000, 784)\n",
      "(42000, 1)\n"
     ]
    }
   ],
   "source": [
    "print(X.shape)\n",
    "print(y.shape)"
   ]
  },
  {
   "cell_type": "code",
   "execution_count": 8,
   "metadata": {
    "execution": {
     "iopub.execute_input": "2020-10-06T21:12:48.591919Z",
     "iopub.status.busy": "2020-10-06T21:12:48.589873Z",
     "iopub.status.idle": "2020-10-06T21:12:48.858224Z",
     "shell.execute_reply": "2020-10-06T21:12:48.857584Z"
    },
    "papermill": {
     "duration": 0.303768,
     "end_time": "2020-10-06T21:12:48.858357",
     "exception": false,
     "start_time": "2020-10-06T21:12:48.554589",
     "status": "completed"
    },
    "tags": []
   },
   "outputs": [],
   "source": [
    "X = X / 255.0\n",
    "df_test = df_test / 255.0"
   ]
  },
  {
   "cell_type": "code",
   "execution_count": 9,
   "metadata": {
    "execution": {
     "iopub.execute_input": "2020-10-06T21:12:48.904041Z",
     "iopub.status.busy": "2020-10-06T21:12:48.902881Z",
     "iopub.status.idle": "2020-10-06T21:12:48.932802Z",
     "shell.execute_reply": "2020-10-06T21:12:48.932082Z"
    },
    "papermill": {
     "duration": 0.055633,
     "end_time": "2020-10-06T21:12:48.932935",
     "exception": false,
     "start_time": "2020-10-06T21:12:48.877302",
     "status": "completed"
    },
    "tags": []
   },
   "outputs": [
    {
     "data": {
      "text/html": [
       "<div>\n",
       "<style scoped>\n",
       "    .dataframe tbody tr th:only-of-type {\n",
       "        vertical-align: middle;\n",
       "    }\n",
       "\n",
       "    .dataframe tbody tr th {\n",
       "        vertical-align: top;\n",
       "    }\n",
       "\n",
       "    .dataframe thead th {\n",
       "        text-align: right;\n",
       "    }\n",
       "</style>\n",
       "<table border=\"1\" class=\"dataframe\">\n",
       "  <thead>\n",
       "    <tr style=\"text-align: right;\">\n",
       "      <th></th>\n",
       "      <th>pixel0</th>\n",
       "      <th>pixel1</th>\n",
       "      <th>pixel2</th>\n",
       "      <th>pixel3</th>\n",
       "      <th>pixel4</th>\n",
       "      <th>pixel5</th>\n",
       "      <th>pixel6</th>\n",
       "      <th>pixel7</th>\n",
       "      <th>pixel8</th>\n",
       "      <th>pixel9</th>\n",
       "      <th>...</th>\n",
       "      <th>pixel774</th>\n",
       "      <th>pixel775</th>\n",
       "      <th>pixel776</th>\n",
       "      <th>pixel777</th>\n",
       "      <th>pixel778</th>\n",
       "      <th>pixel779</th>\n",
       "      <th>pixel780</th>\n",
       "      <th>pixel781</th>\n",
       "      <th>pixel782</th>\n",
       "      <th>pixel783</th>\n",
       "    </tr>\n",
       "  </thead>\n",
       "  <tbody>\n",
       "    <tr>\n",
       "      <th>0</th>\n",
       "      <td>0.0</td>\n",
       "      <td>0.0</td>\n",
       "      <td>0.0</td>\n",
       "      <td>0.0</td>\n",
       "      <td>0.0</td>\n",
       "      <td>0.0</td>\n",
       "      <td>0.0</td>\n",
       "      <td>0.0</td>\n",
       "      <td>0.0</td>\n",
       "      <td>0.0</td>\n",
       "      <td>...</td>\n",
       "      <td>0.0</td>\n",
       "      <td>0.0</td>\n",
       "      <td>0.0</td>\n",
       "      <td>0.0</td>\n",
       "      <td>0.0</td>\n",
       "      <td>0.0</td>\n",
       "      <td>0.0</td>\n",
       "      <td>0.0</td>\n",
       "      <td>0.0</td>\n",
       "      <td>0.0</td>\n",
       "    </tr>\n",
       "    <tr>\n",
       "      <th>1</th>\n",
       "      <td>0.0</td>\n",
       "      <td>0.0</td>\n",
       "      <td>0.0</td>\n",
       "      <td>0.0</td>\n",
       "      <td>0.0</td>\n",
       "      <td>0.0</td>\n",
       "      <td>0.0</td>\n",
       "      <td>0.0</td>\n",
       "      <td>0.0</td>\n",
       "      <td>0.0</td>\n",
       "      <td>...</td>\n",
       "      <td>0.0</td>\n",
       "      <td>0.0</td>\n",
       "      <td>0.0</td>\n",
       "      <td>0.0</td>\n",
       "      <td>0.0</td>\n",
       "      <td>0.0</td>\n",
       "      <td>0.0</td>\n",
       "      <td>0.0</td>\n",
       "      <td>0.0</td>\n",
       "      <td>0.0</td>\n",
       "    </tr>\n",
       "  </tbody>\n",
       "</table>\n",
       "<p>2 rows × 784 columns</p>\n",
       "</div>"
      ],
      "text/plain": [
       "   pixel0  pixel1  pixel2  pixel3  pixel4  pixel5  pixel6  pixel7  pixel8  \\\n",
       "0     0.0     0.0     0.0     0.0     0.0     0.0     0.0     0.0     0.0   \n",
       "1     0.0     0.0     0.0     0.0     0.0     0.0     0.0     0.0     0.0   \n",
       "\n",
       "   pixel9  ...  pixel774  pixel775  pixel776  pixel777  pixel778  pixel779  \\\n",
       "0     0.0  ...       0.0       0.0       0.0       0.0       0.0       0.0   \n",
       "1     0.0  ...       0.0       0.0       0.0       0.0       0.0       0.0   \n",
       "\n",
       "   pixel780  pixel781  pixel782  pixel783  \n",
       "0       0.0       0.0       0.0       0.0  \n",
       "1       0.0       0.0       0.0       0.0  \n",
       "\n",
       "[2 rows x 784 columns]"
      ]
     },
     "execution_count": 9,
     "metadata": {},
     "output_type": "execute_result"
    }
   ],
   "source": [
    "X.head(2)"
   ]
  },
  {
   "cell_type": "code",
   "execution_count": 10,
   "metadata": {
    "execution": {
     "iopub.execute_input": "2020-10-06T21:12:48.981731Z",
     "iopub.status.busy": "2020-10-06T21:12:48.979566Z",
     "iopub.status.idle": "2020-10-06T21:12:48.982618Z",
     "shell.execute_reply": "2020-10-06T21:12:48.983214Z"
    },
    "papermill": {
     "duration": 0.030213,
     "end_time": "2020-10-06T21:12:48.983368",
     "exception": false,
     "start_time": "2020-10-06T21:12:48.953155",
     "status": "completed"
    },
    "tags": []
   },
   "outputs": [],
   "source": [
    "## Reshape The Data\n",
    "X = X.values.reshape(-1,28,28,1)\n",
    "df_test = df_test.values.reshape(-1,28,28,1)"
   ]
  },
  {
   "cell_type": "code",
   "execution_count": 11,
   "metadata": {
    "execution": {
     "iopub.execute_input": "2020-10-06T21:12:49.032218Z",
     "iopub.status.busy": "2020-10-06T21:12:49.031317Z",
     "iopub.status.idle": "2020-10-06T21:12:49.037253Z",
     "shell.execute_reply": "2020-10-06T21:12:49.037900Z"
    },
    "papermill": {
     "duration": 0.034682,
     "end_time": "2020-10-06T21:12:49.038051",
     "exception": false,
     "start_time": "2020-10-06T21:12:49.003369",
     "status": "completed"
    },
    "tags": []
   },
   "outputs": [
    {
     "data": {
      "text/html": [
       "<div>\n",
       "<style scoped>\n",
       "    .dataframe tbody tr th:only-of-type {\n",
       "        vertical-align: middle;\n",
       "    }\n",
       "\n",
       "    .dataframe tbody tr th {\n",
       "        vertical-align: top;\n",
       "    }\n",
       "\n",
       "    .dataframe thead th {\n",
       "        text-align: right;\n",
       "    }\n",
       "</style>\n",
       "<table border=\"1\" class=\"dataframe\">\n",
       "  <thead>\n",
       "    <tr style=\"text-align: right;\">\n",
       "      <th></th>\n",
       "      <th>label</th>\n",
       "    </tr>\n",
       "  </thead>\n",
       "  <tbody>\n",
       "    <tr>\n",
       "      <th>0</th>\n",
       "      <td>1</td>\n",
       "    </tr>\n",
       "    <tr>\n",
       "      <th>1</th>\n",
       "      <td>0</td>\n",
       "    </tr>\n",
       "    <tr>\n",
       "      <th>2</th>\n",
       "      <td>1</td>\n",
       "    </tr>\n",
       "    <tr>\n",
       "      <th>3</th>\n",
       "      <td>4</td>\n",
       "    </tr>\n",
       "    <tr>\n",
       "      <th>4</th>\n",
       "      <td>0</td>\n",
       "    </tr>\n",
       "  </tbody>\n",
       "</table>\n",
       "</div>"
      ],
      "text/plain": [
       "   label\n",
       "0      1\n",
       "1      0\n",
       "2      1\n",
       "3      4\n",
       "4      0"
      ]
     },
     "execution_count": 11,
     "metadata": {},
     "output_type": "execute_result"
    }
   ],
   "source": [
    "y.head()"
   ]
  },
  {
   "cell_type": "code",
   "execution_count": 12,
   "metadata": {
    "execution": {
     "iopub.execute_input": "2020-10-06T21:12:49.085303Z",
     "iopub.status.busy": "2020-10-06T21:12:49.084342Z",
     "iopub.status.idle": "2020-10-06T21:12:49.093581Z",
     "shell.execute_reply": "2020-10-06T21:12:49.094299Z"
    },
    "papermill": {
     "duration": 0.03589,
     "end_time": "2020-10-06T21:12:49.094464",
     "exception": false,
     "start_time": "2020-10-06T21:12:49.058574",
     "status": "completed"
    },
    "tags": []
   },
   "outputs": [
    {
     "data": {
      "text/plain": [
       "array([[0., 1., 0., ..., 0., 0., 0.],\n",
       "       [1., 0., 0., ..., 0., 0., 0.],\n",
       "       [0., 1., 0., ..., 0., 0., 0.],\n",
       "       ...,\n",
       "       [0., 0., 0., ..., 1., 0., 0.],\n",
       "       [0., 0., 0., ..., 0., 0., 0.],\n",
       "       [0., 0., 0., ..., 0., 0., 1.]], dtype=float32)"
      ]
     },
     "execution_count": 12,
     "metadata": {},
     "output_type": "execute_result"
    }
   ],
   "source": [
    "y = keras.utils.to_categorical(y,num_classes=10)\n",
    "y"
   ]
  },
  {
   "cell_type": "code",
   "execution_count": 13,
   "metadata": {
    "execution": {
     "iopub.execute_input": "2020-10-06T21:12:49.150288Z",
     "iopub.status.busy": "2020-10-06T21:12:49.148908Z",
     "iopub.status.idle": "2020-10-06T21:12:49.556422Z",
     "shell.execute_reply": "2020-10-06T21:12:49.555805Z"
    },
    "papermill": {
     "duration": 0.438363,
     "end_time": "2020-10-06T21:12:49.556555",
     "exception": false,
     "start_time": "2020-10-06T21:12:49.118192",
     "status": "completed"
    },
    "tags": []
   },
   "outputs": [],
   "source": [
    "## Split The Data into X_train, X_test, y_train, y_test\n",
    "X_train,X_test,y_train,y_test = train_test_split(X,y,test_size=0.1)"
   ]
  },
  {
   "cell_type": "code",
   "execution_count": 14,
   "metadata": {
    "execution": {
     "iopub.execute_input": "2020-10-06T21:12:49.608967Z",
     "iopub.status.busy": "2020-10-06T21:12:49.607405Z",
     "iopub.status.idle": "2020-10-06T21:12:49.611973Z",
     "shell.execute_reply": "2020-10-06T21:12:49.611026Z"
    },
    "papermill": {
     "duration": 0.034079,
     "end_time": "2020-10-06T21:12:49.612129",
     "exception": false,
     "start_time": "2020-10-06T21:12:49.578050",
     "status": "completed"
    },
    "tags": []
   },
   "outputs": [
    {
     "name": "stdout",
     "output_type": "stream",
     "text": [
      "X_train.shape : (37800, 28, 28, 1)\n",
      "X_test.shape : (4200, 28, 28, 1)\n",
      "y_train.shape : (37800, 10)\n",
      "y_test.shape : (4200, 10)\n"
     ]
    }
   ],
   "source": [
    "print(f\"X_train.shape : {X_train.shape}\")\n",
    "print(f\"X_test.shape : {X_test.shape}\")\n",
    "print(f\"y_train.shape : {y_train.shape}\")\n",
    "print(f\"y_test.shape : {y_test.shape}\")"
   ]
  },
  {
   "cell_type": "markdown",
   "metadata": {
    "papermill": {
     "duration": 0.021524,
     "end_time": "2020-10-06T21:12:49.656648",
     "exception": false,
     "start_time": "2020-10-06T21:12:49.635124",
     "status": "completed"
    },
    "tags": []
   },
   "source": [
    "## Define The Model"
   ]
  },
  {
   "cell_type": "code",
   "execution_count": 15,
   "metadata": {
    "execution": {
     "iopub.execute_input": "2020-10-06T21:12:49.711902Z",
     "iopub.status.busy": "2020-10-06T21:12:49.710868Z",
     "iopub.status.idle": "2020-10-06T21:12:53.125239Z",
     "shell.execute_reply": "2020-10-06T21:12:53.124074Z"
    },
    "papermill": {
     "duration": 3.446959,
     "end_time": "2020-10-06T21:12:53.125392",
     "exception": false,
     "start_time": "2020-10-06T21:12:49.678433",
     "status": "completed"
    },
    "tags": []
   },
   "outputs": [],
   "source": [
    "model = keras.Sequential([\n",
    "    keras.layers.Conv2D(32,(3,3),input_shape=(28,28,1)),\n",
    "    keras.layers.MaxPooling2D(2,2),\n",
    "    \n",
    "    keras.layers.Conv2D(64,(3,3),activation=\"relu\"),\n",
    "    keras.layers.MaxPooling2D(2,2),\n",
    "    \n",
    "    keras.layers.Conv2D(64,(3,3),activation=\"relu\"),\n",
    "    keras.layers.MaxPooling2D(2,2),\n",
    "    \n",
    "    keras.layers.Dropout(0.25),\n",
    "    \n",
    "    keras.layers.Flatten(),\n",
    "    keras.layers.Dense(128,activation=\"relu\"),\n",
    "    keras.layers.Dropout(0.5),\n",
    "    keras.layers.Dense(10,activation=\"softmax\")\n",
    "])"
   ]
  },
  {
   "cell_type": "code",
   "execution_count": 16,
   "metadata": {
    "execution": {
     "iopub.execute_input": "2020-10-06T21:12:53.185155Z",
     "iopub.status.busy": "2020-10-06T21:12:53.181003Z",
     "iopub.status.idle": "2020-10-06T21:12:53.193615Z",
     "shell.execute_reply": "2020-10-06T21:12:53.192953Z"
    },
    "papermill": {
     "duration": 0.045404,
     "end_time": "2020-10-06T21:12:53.193764",
     "exception": false,
     "start_time": "2020-10-06T21:12:53.148360",
     "status": "completed"
    },
    "tags": []
   },
   "outputs": [],
   "source": [
    "model.compile(optimizer=\"adam\",loss=\"categorical_crossentropy\",metrics=[\"accuracy\"])"
   ]
  },
  {
   "cell_type": "code",
   "execution_count": 17,
   "metadata": {
    "execution": {
     "iopub.execute_input": "2020-10-06T21:12:53.245995Z",
     "iopub.status.busy": "2020-10-06T21:12:53.245086Z",
     "iopub.status.idle": "2020-10-06T21:17:10.575296Z",
     "shell.execute_reply": "2020-10-06T21:17:10.574516Z"
    },
    "papermill": {
     "duration": 257.359079,
     "end_time": "2020-10-06T21:17:10.575449",
     "exception": false,
     "start_time": "2020-10-06T21:12:53.216370",
     "status": "completed"
    },
    "tags": []
   },
   "outputs": [
    {
     "name": "stdout",
     "output_type": "stream",
     "text": [
      "Epoch 1/50\n",
      "1182/1182 [==============================] - 5s 5ms/step - loss: 0.4588 - accuracy: 0.8566 - val_loss: 0.1416 - val_accuracy: 0.9581\n",
      "Epoch 2/50\n",
      "1182/1182 [==============================] - 5s 4ms/step - loss: 0.1626 - accuracy: 0.9520 - val_loss: 0.0973 - val_accuracy: 0.9698\n",
      "Epoch 3/50\n",
      "1182/1182 [==============================] - 5s 4ms/step - loss: 0.1215 - accuracy: 0.9644 - val_loss: 0.0756 - val_accuracy: 0.9781\n",
      "Epoch 4/50\n",
      "1182/1182 [==============================] - 5s 4ms/step - loss: 0.1009 - accuracy: 0.9704 - val_loss: 0.0707 - val_accuracy: 0.9802\n",
      "Epoch 5/50\n",
      "1182/1182 [==============================] - 6s 5ms/step - loss: 0.0872 - accuracy: 0.9743 - val_loss: 0.0653 - val_accuracy: 0.9821\n",
      "Epoch 6/50\n",
      "1182/1182 [==============================] - 5s 4ms/step - loss: 0.0793 - accuracy: 0.9763 - val_loss: 0.0665 - val_accuracy: 0.9831\n",
      "Epoch 7/50\n",
      "1182/1182 [==============================] - 5s 4ms/step - loss: 0.0704 - accuracy: 0.9791 - val_loss: 0.0629 - val_accuracy: 0.9826\n",
      "Epoch 8/50\n",
      "1182/1182 [==============================] - 5s 4ms/step - loss: 0.0692 - accuracy: 0.9797 - val_loss: 0.0585 - val_accuracy: 0.9843\n",
      "Epoch 9/50\n",
      "1182/1182 [==============================] - 5s 4ms/step - loss: 0.0610 - accuracy: 0.9817 - val_loss: 0.0585 - val_accuracy: 0.9826\n",
      "Epoch 10/50\n",
      "1182/1182 [==============================] - 5s 4ms/step - loss: 0.0600 - accuracy: 0.9815 - val_loss: 0.0701 - val_accuracy: 0.9819\n",
      "Epoch 11/50\n",
      "1182/1182 [==============================] - 5s 4ms/step - loss: 0.0536 - accuracy: 0.9842 - val_loss: 0.0656 - val_accuracy: 0.9838\n",
      "Epoch 12/50\n",
      "1182/1182 [==============================] - 5s 5ms/step - loss: 0.0517 - accuracy: 0.9848 - val_loss: 0.0588 - val_accuracy: 0.9848\n",
      "Epoch 13/50\n",
      "1182/1182 [==============================] - 5s 4ms/step - loss: 0.0483 - accuracy: 0.9851 - val_loss: 0.0582 - val_accuracy: 0.9857\n",
      "Epoch 14/50\n",
      "1182/1182 [==============================] - 5s 4ms/step - loss: 0.0435 - accuracy: 0.9864 - val_loss: 0.0622 - val_accuracy: 0.9855\n",
      "Epoch 15/50\n",
      "1182/1182 [==============================] - 5s 4ms/step - loss: 0.0391 - accuracy: 0.9883 - val_loss: 0.0616 - val_accuracy: 0.9848\n",
      "Epoch 16/50\n",
      "1182/1182 [==============================] - 5s 5ms/step - loss: 0.0419 - accuracy: 0.9873 - val_loss: 0.0627 - val_accuracy: 0.9852\n",
      "Epoch 17/50\n",
      "1182/1182 [==============================] - 5s 5ms/step - loss: 0.0414 - accuracy: 0.9879 - val_loss: 0.0601 - val_accuracy: 0.9857\n",
      "Epoch 18/50\n",
      "1182/1182 [==============================] - 6s 5ms/step - loss: 0.0367 - accuracy: 0.9888 - val_loss: 0.0648 - val_accuracy: 0.9843\n",
      "Epoch 19/50\n",
      "1182/1182 [==============================] - 5s 4ms/step - loss: 0.0337 - accuracy: 0.9891 - val_loss: 0.0647 - val_accuracy: 0.9860\n",
      "Epoch 20/50\n",
      "1182/1182 [==============================] - 5s 4ms/step - loss: 0.0352 - accuracy: 0.9893 - val_loss: 0.0652 - val_accuracy: 0.9843\n",
      "Epoch 21/50\n",
      "1182/1182 [==============================] - 5s 4ms/step - loss: 0.0317 - accuracy: 0.9902 - val_loss: 0.0596 - val_accuracy: 0.9869\n",
      "Epoch 22/50\n",
      "1182/1182 [==============================] - 5s 4ms/step - loss: 0.0346 - accuracy: 0.9898 - val_loss: 0.0602 - val_accuracy: 0.9869\n",
      "Epoch 23/50\n",
      "1182/1182 [==============================] - 5s 4ms/step - loss: 0.0309 - accuracy: 0.9905 - val_loss: 0.0827 - val_accuracy: 0.9852\n",
      "Epoch 24/50\n",
      "1182/1182 [==============================] - 5s 4ms/step - loss: 0.0324 - accuracy: 0.9904 - val_loss: 0.0700 - val_accuracy: 0.9848\n",
      "Epoch 25/50\n",
      "1182/1182 [==============================] - 5s 4ms/step - loss: 0.0300 - accuracy: 0.9914 - val_loss: 0.0779 - val_accuracy: 0.9843\n",
      "Epoch 26/50\n",
      "1182/1182 [==============================] - 5s 4ms/step - loss: 0.0327 - accuracy: 0.9905 - val_loss: 0.0828 - val_accuracy: 0.9852\n",
      "Epoch 27/50\n",
      "1182/1182 [==============================] - 5s 4ms/step - loss: 0.0297 - accuracy: 0.9909 - val_loss: 0.0646 - val_accuracy: 0.9862\n",
      "Epoch 28/50\n",
      "1182/1182 [==============================] - 5s 4ms/step - loss: 0.0270 - accuracy: 0.9924 - val_loss: 0.0765 - val_accuracy: 0.9852\n",
      "Epoch 29/50\n",
      "1182/1182 [==============================] - 6s 5ms/step - loss: 0.0266 - accuracy: 0.9917 - val_loss: 0.0682 - val_accuracy: 0.9871\n",
      "Epoch 30/50\n",
      "1182/1182 [==============================] - 5s 4ms/step - loss: 0.0274 - accuracy: 0.9919 - val_loss: 0.0777 - val_accuracy: 0.9850\n",
      "Epoch 31/50\n",
      "1182/1182 [==============================] - 5s 4ms/step - loss: 0.0278 - accuracy: 0.9914 - val_loss: 0.0741 - val_accuracy: 0.9848\n",
      "Epoch 32/50\n",
      "1182/1182 [==============================] - 5s 4ms/step - loss: 0.0246 - accuracy: 0.9930 - val_loss: 0.0814 - val_accuracy: 0.9871\n",
      "Epoch 33/50\n",
      "1182/1182 [==============================] - 5s 4ms/step - loss: 0.0261 - accuracy: 0.9925 - val_loss: 0.0773 - val_accuracy: 0.9864\n",
      "Epoch 34/50\n",
      "1182/1182 [==============================] - 5s 4ms/step - loss: 0.0224 - accuracy: 0.9935 - val_loss: 0.0907 - val_accuracy: 0.9871\n",
      "Epoch 35/50\n",
      "1182/1182 [==============================] - 5s 4ms/step - loss: 0.0307 - accuracy: 0.9907 - val_loss: 0.0773 - val_accuracy: 0.9860\n",
      "Epoch 36/50\n",
      "1182/1182 [==============================] - 5s 4ms/step - loss: 0.0213 - accuracy: 0.9933 - val_loss: 0.0844 - val_accuracy: 0.9833\n",
      "Epoch 37/50\n",
      "1182/1182 [==============================] - 5s 4ms/step - loss: 0.0258 - accuracy: 0.9929 - val_loss: 0.0904 - val_accuracy: 0.9860\n",
      "Epoch 38/50\n",
      "1182/1182 [==============================] - 5s 4ms/step - loss: 0.0273 - accuracy: 0.9923 - val_loss: 0.0765 - val_accuracy: 0.9869\n",
      "Epoch 39/50\n",
      "1182/1182 [==============================] - 5s 4ms/step - loss: 0.0225 - accuracy: 0.9931 - val_loss: 0.0872 - val_accuracy: 0.9869\n",
      "Epoch 40/50\n",
      "1182/1182 [==============================] - 6s 5ms/step - loss: 0.0218 - accuracy: 0.9937 - val_loss: 0.1163 - val_accuracy: 0.9843\n",
      "Epoch 41/50\n",
      "1182/1182 [==============================] - 5s 4ms/step - loss: 0.0255 - accuracy: 0.9927 - val_loss: 0.0959 - val_accuracy: 0.9860\n",
      "Epoch 42/50\n",
      "1182/1182 [==============================] - 5s 4ms/step - loss: 0.0205 - accuracy: 0.9945 - val_loss: 0.0948 - val_accuracy: 0.9850\n",
      "Epoch 43/50\n",
      "1182/1182 [==============================] - 5s 4ms/step - loss: 0.0242 - accuracy: 0.9930 - val_loss: 0.0711 - val_accuracy: 0.9860\n",
      "Epoch 44/50\n",
      "1182/1182 [==============================] - 5s 4ms/step - loss: 0.0262 - accuracy: 0.9925 - val_loss: 0.0933 - val_accuracy: 0.9860\n",
      "Epoch 45/50\n",
      "1182/1182 [==============================] - 5s 4ms/step - loss: 0.0245 - accuracy: 0.9933 - val_loss: 0.1064 - val_accuracy: 0.9860\n",
      "Epoch 46/50\n",
      "1182/1182 [==============================] - 5s 4ms/step - loss: 0.0228 - accuracy: 0.9937 - val_loss: 0.0844 - val_accuracy: 0.9864\n",
      "Epoch 47/50\n",
      "1182/1182 [==============================] - 5s 4ms/step - loss: 0.0206 - accuracy: 0.9938 - val_loss: 0.0970 - val_accuracy: 0.9848\n",
      "Epoch 48/50\n",
      "1182/1182 [==============================] - 5s 5ms/step - loss: 0.0236 - accuracy: 0.9931 - val_loss: 0.1235 - val_accuracy: 0.9864\n",
      "Epoch 49/50\n",
      "1182/1182 [==============================] - 6s 5ms/step - loss: 0.0201 - accuracy: 0.9941 - val_loss: 0.0954 - val_accuracy: 0.9855\n",
      "Epoch 50/50\n",
      "1182/1182 [==============================] - 5s 5ms/step - loss: 0.0232 - accuracy: 0.9931 - val_loss: 0.0998 - val_accuracy: 0.9867\n"
     ]
    }
   ],
   "source": [
    "best_model = keras.callbacks.ModelCheckpoint(\"best_model.h5\",save_best_only=True)\n",
    "history = model.fit(X_train,y_train,epochs=50,verbose=1,validation_data=(X_test,y_test),callbacks=[best_model])"
   ]
  },
  {
   "cell_type": "code",
   "execution_count": 18,
   "metadata": {
    "execution": {
     "iopub.execute_input": "2020-10-06T21:17:14.808487Z",
     "iopub.status.busy": "2020-10-06T21:17:14.795568Z",
     "iopub.status.idle": "2020-10-06T21:17:15.240827Z",
     "shell.execute_reply": "2020-10-06T21:17:15.241459Z"
    },
    "papermill": {
     "duration": 2.332683,
     "end_time": "2020-10-06T21:17:15.241636",
     "exception": false,
     "start_time": "2020-10-06T21:17:12.908953",
     "status": "completed"
    },
    "tags": []
   },
   "outputs": [
    {
     "data": {
      "image/png": "[encoded data removed]",
      "text/plain": [
       "<Figure size 720x360 with 1 Axes>"
      ]
     },
     "metadata": {},
     "output_type": "display_data"
    },
    {
     "data": {
      "text/plain": [
       "<Figure size 432x288 with 0 Axes>"
      ]
     },
     "metadata": {},
     "output_type": "display_data"
    },
    {
     "data": {
      "image/png": "[encoded data removed]",
      "text/plain": [
       "<Figure size 720x360 with 1 Axes>"
      ]
     },
     "metadata": {},
     "output_type": "display_data"
    }
   ],
   "source": [
    "plt.figure(figsize=(10,5))\n",
    "\n",
    "acc = history.history[\"accuracy\"]\n",
    "val_acc = history.history[\"val_accuracy\"]\n",
    "loss = history.history[\"loss\"]\n",
    "val_loss = history.history[\"val_loss\"]\n",
    "\n",
    "epochs = range(len(acc))\n",
    "\n",
    "plt.plot(epochs,acc,\"r\",label=\"Training Accuracy\")\n",
    "plt.plot(epochs,val_acc,\"b\",label=\"Validation Accuracy\")\n",
    "\n",
    "plt.legend()\n",
    "plt.figure()\n",
    "\n",
    "plt.figure(figsize=(10,5))\n",
    "\n",
    "plt.plot(epochs,loss,\"r\",label=\"Training Loss\")\n",
    "plt.plot(epochs,val_loss,\"b\",label=\"Validation Loss\")\n",
    "\n",
    "plt.legend()\n",
    "plt.show()"
   ]
  }
 ],
 "metadata": {
  "kernelspec": {
   "display_name": "Python 3",
   "language": "python",
   "name": "python3"
  },
  "language_info": {
   "codemirror_mode": {
    "name": "ipython",
    "version": 3
   },
   "file_extension": ".py",
   "mimetype": "text/x-python",
   "name": "python",
   "nbconvert_exporter": "python",
   "pygments_lexer": "ipython3",
   "version": "3.7.6"
  },
  "papermill": {
   "duration": 290.342676,
   "end_time": "2020-10-06T21:17:19.146930",
   "environment_variables": {},
   "exception": null,
   "input_path": "__notebook__.ipynb",
   "output_path": "__notebook__.ipynb",
   "parameters": {},
   "start_time": "2020-10-06T21:12:28.804254",
   "version": "2.1.0"
  }
 },
 "nbformat": 4,
 "nbformat_minor": 4
}
