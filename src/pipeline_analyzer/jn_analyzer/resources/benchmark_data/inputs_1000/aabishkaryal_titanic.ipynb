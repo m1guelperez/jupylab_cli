{
 "cells": [
  {
   "cell_type": "code",
   "execution_count": 1,
   "metadata": {
    "_cell_guid": "b1076dfc-b9ad-4769-8c92-a6c4dae69d19",
    "_uuid": "8f2839f25d086af736a60e9eeb907d3b93b6e0e5"
   },
   "outputs": [],
   "source": [
    "# This Python 3 environment comes with many helpful analytics libraries installed\n",
    "# It is defined by the kaggle/python Docker image: https://github.com/kaggle/docker-python\n",
    "# For example, here's several helpful packages to load\n",
    "\n",
    "# import numpy as np # linear algebra\n",
    "# import pandas as pd # data processing, CSV file I/O (e.g. pd.read_csv)\n",
    "\n",
    "# Input data files are available in the read-only \"../input/\" directory\n",
    "# For example, running this (by clicking run or pressing Shift+Enter) will list all files under the input directory\n",
    "\n",
    "# import os\n",
    "# for dirname, _, filenames in os.walk('/kaggle/input'):\n",
    "#     for filename in filenames:\n",
    "#         print(os.path.join(dirname, filename))\n",
    "\n",
    "# You can write up to 5GB to the current directory (/kaggle/working/) that gets preserved as output when you create a version using \"Save & Run All\" \n",
    "# You can also write temporary files to /kaggle/temp/, but they won't be saved outside of the current session"
   ]
  },
  {
   "cell_type": "code",
   "execution_count": 2,
   "metadata": {},
   "outputs": [],
   "source": [
    "import numpy as np\n",
    "import pandas as pd"
   ]
  },
  {
   "cell_type": "code",
   "execution_count": 3,
   "metadata": {},
   "outputs": [],
   "source": [
    "train_data_df = pd.read_csv('../input/titanic/train.csv')\n",
    "test_data_df = pd.read_csv('../input/titanic/test.csv')"
   ]
  },
  {
   "cell_type": "code",
   "execution_count": 4,
   "metadata": {},
   "outputs": [
    {
     "name": "stdout",
     "output_type": "stream",
     "text": [
      "(891, 12)\n",
      "(418, 11)\n",
      "Index(['PassengerId', 'Survived', 'Pclass', 'Name', 'Sex', 'Age', 'SibSp',\n",
      "       'Parch', 'Ticket', 'Fare', 'Cabin', 'Embarked'],\n",
      "      dtype='object')\n",
      "PassengerId      0\n",
      "Survived         0\n",
      "Pclass           0\n",
      "Name             0\n",
      "Sex              0\n",
      "Age            177\n",
      "SibSp            0\n",
      "Parch            0\n",
      "Ticket           0\n",
      "Fare             0\n",
      "Cabin          687\n",
      "Embarked         2\n",
      "dtype: int64\n",
      "PassengerId      0\n",
      "Pclass           0\n",
      "Name             0\n",
      "Sex              0\n",
      "Age             86\n",
      "SibSp            0\n",
      "Parch            0\n",
      "Ticket           0\n",
      "Fare             1\n",
      "Cabin          327\n",
      "Embarked         0\n",
      "dtype: int64\n"
     ]
    }
   ],
   "source": [
    "print(train_data_df.shape)\n",
    "print(test_data_df.shape)\n",
    "print(train_data_df.columns)\n",
    "print(train_data_df.isna().sum())\n",
    "print(test_data_df.isna().sum())\n"
   ]
  },
  {
   "cell_type": "code",
   "execution_count": 5,
   "metadata": {},
   "outputs": [
    {
     "data": {
      "text/html": [
       "<div>\n",
       "<style scoped>\n",
       "    .dataframe tbody tr th:only-of-type {\n",
       "        vertical-align: middle;\n",
       "    }\n",
       "\n",
       "    .dataframe tbody tr th {\n",
       "        vertical-align: top;\n",
       "    }\n",
       "\n",
       "    .dataframe thead th {\n",
       "        text-align: right;\n",
       "    }\n",
       "</style>\n",
       "<table border=\"1\" class=\"dataframe\">\n",
       "  <thead>\n",
       "    <tr style=\"text-align: right;\">\n",
       "      <th></th>\n",
       "      <th>Pclass</th>\n",
       "      <th>Sex</th>\n",
       "      <th>Age</th>\n",
       "      <th>SibSp</th>\n",
       "      <th>Parch</th>\n",
       "      <th>Fare</th>\n",
       "      <th>Embarked</th>\n",
       "    </tr>\n",
       "  </thead>\n",
       "  <tbody>\n",
       "    <tr>\n",
       "      <th>0</th>\n",
       "      <td>3</td>\n",
       "      <td>male</td>\n",
       "      <td>34.5</td>\n",
       "      <td>0</td>\n",
       "      <td>0</td>\n",
       "      <td>7.8292</td>\n",
       "      <td>Q</td>\n",
       "    </tr>\n",
       "    <tr>\n",
       "      <th>1</th>\n",
       "      <td>3</td>\n",
       "      <td>female</td>\n",
       "      <td>47.0</td>\n",
       "      <td>1</td>\n",
       "      <td>0</td>\n",
       "      <td>7.0000</td>\n",
       "      <td>S</td>\n",
       "    </tr>\n",
       "    <tr>\n",
       "      <th>2</th>\n",
       "      <td>2</td>\n",
       "      <td>male</td>\n",
       "      <td>62.0</td>\n",
       "      <td>0</td>\n",
       "      <td>0</td>\n",
       "      <td>9.6875</td>\n",
       "      <td>Q</td>\n",
       "    </tr>\n",
       "    <tr>\n",
       "      <th>3</th>\n",
       "      <td>3</td>\n",
       "      <td>male</td>\n",
       "      <td>27.0</td>\n",
       "      <td>0</td>\n",
       "      <td>0</td>\n",
       "      <td>8.6625</td>\n",
       "      <td>S</td>\n",
       "    </tr>\n",
       "    <tr>\n",
       "      <th>4</th>\n",
       "      <td>3</td>\n",
       "      <td>female</td>\n",
       "      <td>22.0</td>\n",
       "      <td>1</td>\n",
       "      <td>1</td>\n",
       "      <td>12.2875</td>\n",
       "      <td>S</td>\n",
       "    </tr>\n",
       "  </tbody>\n",
       "</table>\n",
       "</div>"
      ],
      "text/plain": [
       "   Pclass     Sex   Age  SibSp  Parch     Fare Embarked\n",
       "0       3    male  34.5      0      0   7.8292        Q\n",
       "1       3  female  47.0      1      0   7.0000        S\n",
       "2       2    male  62.0      0      0   9.6875        Q\n",
       "3       3    male  27.0      0      0   8.6625        S\n",
       "4       3  female  22.0      1      1  12.2875        S"
      ]
     },
     "execution_count": 5,
     "metadata": {},
     "output_type": "execute_result"
    }
   ],
   "source": [
    "feature_names = ['Pclass', 'Sex', 'Age', 'SibSp', 'Parch', 'Fare', 'Embarked']\n",
    "\n",
    "train_features = train_data_df[feature_names]\n",
    "test_features = test_data_df[feature_names]\n",
    "train_features.head()\n",
    "test_features.head()"
   ]
  },
  {
   "cell_type": "code",
   "execution_count": 6,
   "metadata": {},
   "outputs": [
    {
     "name": "stderr",
     "output_type": "stream",
     "text": [
      "/opt/conda/lib/python3.7/site-packages/pandas/core/generic.py:6245: SettingWithCopyWarning: \n",
      "A value is trying to be set on a copy of a slice from a DataFrame\n",
      "\n",
      "See the caveats in the documentation: https://pandas.pydata.org/pandas-docs/stable/user_guide/indexing.html#returning-a-view-versus-a-copy\n",
      "  self._update_inplace(new_data)\n"
     ]
    }
   ],
   "source": [
    "def fill_missing_data(df, category):\n",
    "    df[category].fillna(df[category].dropna().median(), inplace=True)\n",
    "    \n",
    "fill_missing_data(train_features, 'Age')\n",
    "fill_missing_data(test_features, 'Age')\n",
    "\n",
    "train_features['Embarked'].fillna('S', inplace=True)\n",
    "test_features['Embarked'].fillna('S', inplace=True)\n",
    "\n",
    "fill_missing_data(train_features, 'Fare')\n",
    "fill_missing_data(test_features, 'Fare')\n"
   ]
  },
  {
   "cell_type": "code",
   "execution_count": 7,
   "metadata": {},
   "outputs": [
    {
     "data": {
      "text/html": [
       "<div>\n",
       "<style scoped>\n",
       "    .dataframe tbody tr th:only-of-type {\n",
       "        vertical-align: middle;\n",
       "    }\n",
       "\n",
       "    .dataframe tbody tr th {\n",
       "        vertical-align: top;\n",
       "    }\n",
       "\n",
       "    .dataframe thead th {\n",
       "        text-align: right;\n",
       "    }\n",
       "</style>\n",
       "<table border=\"1\" class=\"dataframe\">\n",
       "  <thead>\n",
       "    <tr style=\"text-align: right;\">\n",
       "      <th></th>\n",
       "      <th>Pclass</th>\n",
       "      <th>Age</th>\n",
       "      <th>SibSp</th>\n",
       "      <th>Parch</th>\n",
       "      <th>Fare</th>\n",
       "      <th>Embarked</th>\n",
       "      <th>Sex_female</th>\n",
       "      <th>Sex_male</th>\n",
       "    </tr>\n",
       "  </thead>\n",
       "  <tbody>\n",
       "    <tr>\n",
       "      <th>0</th>\n",
       "      <td>3</td>\n",
       "      <td>34.5</td>\n",
       "      <td>0</td>\n",
       "      <td>0</td>\n",
       "      <td>7.8292</td>\n",
       "      <td>Q</td>\n",
       "      <td>0</td>\n",
       "      <td>1</td>\n",
       "    </tr>\n",
       "    <tr>\n",
       "      <th>1</th>\n",
       "      <td>3</td>\n",
       "      <td>47.0</td>\n",
       "      <td>1</td>\n",
       "      <td>0</td>\n",
       "      <td>7.0000</td>\n",
       "      <td>S</td>\n",
       "      <td>1</td>\n",
       "      <td>0</td>\n",
       "    </tr>\n",
       "    <tr>\n",
       "      <th>2</th>\n",
       "      <td>2</td>\n",
       "      <td>62.0</td>\n",
       "      <td>0</td>\n",
       "      <td>0</td>\n",
       "      <td>9.6875</td>\n",
       "      <td>Q</td>\n",
       "      <td>0</td>\n",
       "      <td>1</td>\n",
       "    </tr>\n",
       "    <tr>\n",
       "      <th>3</th>\n",
       "      <td>3</td>\n",
       "      <td>27.0</td>\n",
       "      <td>0</td>\n",
       "      <td>0</td>\n",
       "      <td>8.6625</td>\n",
       "      <td>S</td>\n",
       "      <td>0</td>\n",
       "      <td>1</td>\n",
       "    </tr>\n",
       "    <tr>\n",
       "      <th>4</th>\n",
       "      <td>3</td>\n",
       "      <td>22.0</td>\n",
       "      <td>1</td>\n",
       "      <td>1</td>\n",
       "      <td>12.2875</td>\n",
       "      <td>S</td>\n",
       "      <td>1</td>\n",
       "      <td>0</td>\n",
       "    </tr>\n",
       "  </tbody>\n",
       "</table>\n",
       "</div>"
      ],
      "text/plain": [
       "   Pclass   Age  SibSp  Parch     Fare Embarked  Sex_female  Sex_male\n",
       "0       3  34.5      0      0   7.8292        Q           0         1\n",
       "1       3  47.0      1      0   7.0000        S           1         0\n",
       "2       2  62.0      0      0   9.6875        Q           0         1\n",
       "3       3  27.0      0      0   8.6625        S           0         1\n",
       "4       3  22.0      1      1  12.2875        S           1         0"
      ]
     },
     "execution_count": 7,
     "metadata": {},
     "output_type": "execute_result"
    }
   ],
   "source": [
    "def encode_sex(df):\n",
    "    return pd.concat([df, pd.get_dummies(df[\"Sex\"], prefix=\"Sex\")], axis=1).drop([\"Sex\"], axis=1)\n",
    "    \n",
    "train_features = encode_sex(train_features)\n",
    "test_features = encode_sex(test_features)\n",
    "    \n",
    "train_features.head()\n",
    "test_features.head()"
   ]
  },
  {
   "cell_type": "code",
   "execution_count": 8,
   "metadata": {},
   "outputs": [
    {
     "data": {
      "text/html": [
       "<div>\n",
       "<style scoped>\n",
       "    .dataframe tbody tr th:only-of-type {\n",
       "        vertical-align: middle;\n",
       "    }\n",
       "\n",
       "    .dataframe tbody tr th {\n",
       "        vertical-align: top;\n",
       "    }\n",
       "\n",
       "    .dataframe thead th {\n",
       "        text-align: right;\n",
       "    }\n",
       "</style>\n",
       "<table border=\"1\" class=\"dataframe\">\n",
       "  <thead>\n",
       "    <tr style=\"text-align: right;\">\n",
       "      <th></th>\n",
       "      <th>Pclass</th>\n",
       "      <th>Age</th>\n",
       "      <th>SibSp</th>\n",
       "      <th>Parch</th>\n",
       "      <th>Fare</th>\n",
       "      <th>Sex_female</th>\n",
       "      <th>Sex_male</th>\n",
       "      <th>Embarked_C</th>\n",
       "      <th>Embarked_Q</th>\n",
       "      <th>Embarked_S</th>\n",
       "    </tr>\n",
       "  </thead>\n",
       "  <tbody>\n",
       "    <tr>\n",
       "      <th>0</th>\n",
       "      <td>3</td>\n",
       "      <td>34.5</td>\n",
       "      <td>0</td>\n",
       "      <td>0</td>\n",
       "      <td>7.8292</td>\n",
       "      <td>0</td>\n",
       "      <td>1</td>\n",
       "      <td>0</td>\n",
       "      <td>1</td>\n",
       "      <td>0</td>\n",
       "    </tr>\n",
       "    <tr>\n",
       "      <th>1</th>\n",
       "      <td>3</td>\n",
       "      <td>47.0</td>\n",
       "      <td>1</td>\n",
       "      <td>0</td>\n",
       "      <td>7.0000</td>\n",
       "      <td>1</td>\n",
       "      <td>0</td>\n",
       "      <td>0</td>\n",
       "      <td>0</td>\n",
       "      <td>1</td>\n",
       "    </tr>\n",
       "    <tr>\n",
       "      <th>2</th>\n",
       "      <td>2</td>\n",
       "      <td>62.0</td>\n",
       "      <td>0</td>\n",
       "      <td>0</td>\n",
       "      <td>9.6875</td>\n",
       "      <td>0</td>\n",
       "      <td>1</td>\n",
       "      <td>0</td>\n",
       "      <td>1</td>\n",
       "      <td>0</td>\n",
       "    </tr>\n",
       "    <tr>\n",
       "      <th>3</th>\n",
       "      <td>3</td>\n",
       "      <td>27.0</td>\n",
       "      <td>0</td>\n",
       "      <td>0</td>\n",
       "      <td>8.6625</td>\n",
       "      <td>0</td>\n",
       "      <td>1</td>\n",
       "      <td>0</td>\n",
       "      <td>0</td>\n",
       "      <td>1</td>\n",
       "    </tr>\n",
       "    <tr>\n",
       "      <th>4</th>\n",
       "      <td>3</td>\n",
       "      <td>22.0</td>\n",
       "      <td>1</td>\n",
       "      <td>1</td>\n",
       "      <td>12.2875</td>\n",
       "      <td>1</td>\n",
       "      <td>0</td>\n",
       "      <td>0</td>\n",
       "      <td>0</td>\n",
       "      <td>1</td>\n",
       "    </tr>\n",
       "  </tbody>\n",
       "</table>\n",
       "</div>"
      ],
      "text/plain": [
       "   Pclass   Age  SibSp  Parch     Fare  Sex_female  Sex_male  Embarked_C  \\\n",
       "0       3  34.5      0      0   7.8292           0         1           0   \n",
       "1       3  47.0      1      0   7.0000           1         0           0   \n",
       "2       2  62.0      0      0   9.6875           0         1           0   \n",
       "3       3  27.0      0      0   8.6625           0         1           0   \n",
       "4       3  22.0      1      1  12.2875           1         0           0   \n",
       "\n",
       "   Embarked_Q  Embarked_S  \n",
       "0           1           0  \n",
       "1           0           1  \n",
       "2           1           0  \n",
       "3           0           1  \n",
       "4           0           1  "
      ]
     },
     "execution_count": 8,
     "metadata": {},
     "output_type": "execute_result"
    }
   ],
   "source": [
    "def encode_embarked(df):\n",
    "    return pd.concat([df, pd.get_dummies(df[\"Embarked\"], prefix=\"Embarked\")], axis=1).drop([\"Embarked\"], axis=1)\n",
    "    \n",
    "train_features = encode_embarked(train_features)\n",
    "test_features = encode_embarked(test_features)\n",
    "    \n",
    "train_features.head()\n",
    "test_features.head()"
   ]
  },
  {
   "cell_type": "code",
   "execution_count": 9,
   "metadata": {},
   "outputs": [
    {
     "data": {
      "text/plain": [
       "0    0\n",
       "1    1\n",
       "2    1\n",
       "3    1\n",
       "4    0\n",
       "Name: Survived, dtype: int64"
      ]
     },
     "execution_count": 9,
     "metadata": {},
     "output_type": "execute_result"
    }
   ],
   "source": [
    "train_targets = train_data_df['Survived']\n",
    "train_targets.head()"
   ]
  },
  {
   "cell_type": "code",
   "execution_count": 10,
   "metadata": {},
   "outputs": [],
   "source": [
    "# from sklearn.ensemble import RandomForestRegressor"
   ]
  },
  {
   "cell_type": "code",
   "execution_count": 11,
   "metadata": {},
   "outputs": [],
   "source": [
    "# model = RandomForestRegressor(random_state=1)\n",
    "# model.fit(train_features, train_target)"
   ]
  },
  {
   "cell_type": "code",
   "execution_count": 12,
   "metadata": {},
   "outputs": [],
   "source": [
    "# test_predictions = model.predict(test_features)"
   ]
  },
  {
   "cell_type": "code",
   "execution_count": 13,
   "metadata": {},
   "outputs": [],
   "source": [
    "# output = pd.DataFrame({'PassengerId': test_data_df['PassengerId'], 'Survived': test_predictions})\n",
    "# output['Survived'].loc[output['Survived'] < 0.5] = 0\n",
    "# output['Survived'].loc[output['Survived'] > 0.5] = 1\n",
    "# output['Survived'] = output['Survived'].astype('int32')\n",
    "# print(output)"
   ]
  },
  {
   "cell_type": "code",
   "execution_count": 14,
   "metadata": {},
   "outputs": [],
   "source": [
    "# output.to_csv('submission.csv', index=False)"
   ]
  },
  {
   "cell_type": "code",
   "execution_count": 15,
   "metadata": {},
   "outputs": [
    {
     "name": "stdout",
     "output_type": "stream",
     "text": [
      "2.2.0\n"
     ]
    }
   ],
   "source": [
    "import tensorflow as tf\n",
    "print(tf.__version__)"
   ]
  },
  {
   "cell_type": "code",
   "execution_count": 16,
   "metadata": {},
   "outputs": [
    {
     "name": "stdout",
     "output_type": "stream",
     "text": [
      "Pclass          int64\n",
      "Age           float64\n",
      "SibSp           int64\n",
      "Parch           int64\n",
      "Fare          float64\n",
      "Sex_female      uint8\n",
      "Sex_male        uint8\n",
      "Embarked_C      uint8\n",
      "Embarked_Q      uint8\n",
      "Embarked_S      uint8\n",
      "dtype: object\n",
      "Pclass          int64\n",
      "Age           float64\n",
      "SibSp           int64\n",
      "Parch           int64\n",
      "Fare          float64\n",
      "Sex_female      uint8\n",
      "Sex_male        uint8\n",
      "Embarked_C      uint8\n",
      "Embarked_Q      uint8\n",
      "Embarked_S      uint8\n",
      "dtype: object\n"
     ]
    }
   ],
   "source": [
    "print(train_features.dtypes)\n",
    "print(test_features.dtypes)"
   ]
  },
  {
   "cell_type": "code",
   "execution_count": 17,
   "metadata": {},
   "outputs": [
    {
     "name": "stdout",
     "output_type": "stream",
     "text": [
      "Epoch 1/25\n",
      "20/20 [==============================] - 0s 20ms/step - loss: 0.6946 - accuracy: 0.6581 - val_loss: 0.6782 - val_accuracy: 0.7015\n",
      "Epoch 2/25\n",
      "20/20 [==============================] - 0s 4ms/step - loss: 0.6896 - accuracy: 0.6613 - val_loss: 0.6883 - val_accuracy: 0.7201\n",
      "Epoch 3/25\n",
      "20/20 [==============================] - 0s 4ms/step - loss: 0.6913 - accuracy: 0.6790 - val_loss: 0.6819 - val_accuracy: 0.7164\n",
      "Epoch 4/25\n",
      "20/20 [==============================] - 0s 4ms/step - loss: 0.6805 - accuracy: 0.6581 - val_loss: 0.6851 - val_accuracy: 0.7127\n",
      "Epoch 5/25\n",
      "20/20 [==============================] - 0s 4ms/step - loss: 0.6898 - accuracy: 0.6758 - val_loss: 0.6873 - val_accuracy: 0.7239\n",
      "Epoch 6/25\n",
      "20/20 [==============================] - 0s 4ms/step - loss: 0.6897 - accuracy: 0.6742 - val_loss: 0.6869 - val_accuracy: 0.7239\n",
      "Epoch 7/25\n",
      "20/20 [==============================] - 0s 4ms/step - loss: 0.6891 - accuracy: 0.6581 - val_loss: 0.6641 - val_accuracy: 0.7201\n",
      "Epoch 8/25\n",
      "20/20 [==============================] - 0s 4ms/step - loss: 0.6770 - accuracy: 0.6758 - val_loss: 0.6635 - val_accuracy: 0.7201\n",
      "Epoch 9/25\n",
      "20/20 [==============================] - 0s 4ms/step - loss: 0.6775 - accuracy: 0.6629 - val_loss: 0.6704 - val_accuracy: 0.7500\n",
      "Epoch 10/25\n",
      "20/20 [==============================] - 0s 4ms/step - loss: 0.6846 - accuracy: 0.6774 - val_loss: 0.6656 - val_accuracy: 0.7425\n",
      "Epoch 11/25\n",
      "20/20 [==============================] - 0s 4ms/step - loss: 0.6774 - accuracy: 0.6629 - val_loss: 0.6654 - val_accuracy: 0.7500\n",
      "Epoch 12/25\n",
      "20/20 [==============================] - 0s 4ms/step - loss: 0.6727 - accuracy: 0.6886 - val_loss: 0.6645 - val_accuracy: 0.7500\n",
      "Epoch 13/25\n",
      "20/20 [==============================] - 0s 4ms/step - loss: 0.6732 - accuracy: 0.6950 - val_loss: 0.6615 - val_accuracy: 0.7463\n",
      "Epoch 14/25\n",
      "20/20 [==============================] - 0s 4ms/step - loss: 0.6715 - accuracy: 0.6838 - val_loss: 0.6609 - val_accuracy: 0.7463\n",
      "Epoch 15/25\n",
      "20/20 [==============================] - 0s 4ms/step - loss: 0.6717 - accuracy: 0.6918 - val_loss: 0.6592 - val_accuracy: 0.7500\n",
      "Epoch 16/25\n",
      "20/20 [==============================] - 0s 4ms/step - loss: 0.6720 - accuracy: 0.6790 - val_loss: 0.6594 - val_accuracy: 0.7575\n",
      "Epoch 17/25\n",
      "20/20 [==============================] - 0s 4ms/step - loss: 0.6699 - accuracy: 0.6950 - val_loss: 0.6595 - val_accuracy: 0.7575\n",
      "Epoch 18/25\n",
      "20/20 [==============================] - 0s 4ms/step - loss: 0.6692 - accuracy: 0.6886 - val_loss: 0.6574 - val_accuracy: 0.7388\n",
      "Epoch 19/25\n",
      "20/20 [==============================] - 0s 4ms/step - loss: 0.6691 - accuracy: 0.6950 - val_loss: 0.6578 - val_accuracy: 0.7649\n",
      "Epoch 20/25\n",
      "20/20 [==============================] - 0s 4ms/step - loss: 0.6674 - accuracy: 0.6966 - val_loss: 0.6630 - val_accuracy: 0.7090\n",
      "Epoch 21/25\n",
      "20/20 [==============================] - 0s 4ms/step - loss: 0.6737 - accuracy: 0.6790 - val_loss: 0.6565 - val_accuracy: 0.7537\n",
      "Epoch 22/25\n",
      "20/20 [==============================] - 0s 4ms/step - loss: 0.6688 - accuracy: 0.6918 - val_loss: 0.6542 - val_accuracy: 0.7537\n",
      "Epoch 23/25\n",
      "20/20 [==============================] - 0s 4ms/step - loss: 0.6663 - accuracy: 0.6966 - val_loss: 0.6526 - val_accuracy: 0.7575\n",
      "Epoch 24/25\n",
      "20/20 [==============================] - 0s 4ms/step - loss: 0.6678 - accuracy: 0.7127 - val_loss: 0.6549 - val_accuracy: 0.7463\n",
      "Epoch 25/25\n",
      "20/20 [==============================] - 0s 4ms/step - loss: 0.6677 - accuracy: 0.6918 - val_loss: 0.6703 - val_accuracy: 0.7500\n"
     ]
    }
   ],
   "source": [
    "def get_model():\n",
    "    model = tf.keras.Sequential()\n",
    "    model.add(tf.keras.layers.Dense(512, activation='relu'))\n",
    "    model.add(tf.keras.layers.Dense(256, activation='relu'))\n",
    "    model.add(tf.keras.layers.Dense(128, activation='relu'))\n",
    "    model.add(tf.keras.layers.Dense(1, activation='sigmoid'))\n",
    "    model.compile(optimizer='adamax', loss=tf.keras.losses.BinaryCrossentropy(from_logits=True), metrics=['accuracy'])\n",
    "    return model\n",
    "\n",
    "model = get_model()\n",
    "history = model.fit(train_features, train_targets, epochs=25, shuffle=True, validation_split=0.3)"
   ]
  },
  {
   "cell_type": "code",
   "execution_count": 18,
   "metadata": {},
   "outputs": [
    {
     "name": "stdout",
     "output_type": "stream",
     "text": [
      "loss = 0.667713463306427\n",
      "accuracy = 0.6918138265609741\n",
      "val_loss = 0.6703164577484131\n",
      "val_accuracy = 0.75\n"
     ]
    }
   ],
   "source": [
    "print('loss =', history.history['loss'][-1])\n",
    "print('accuracy =', history.history['accuracy'][-1])\n",
    "\n",
    "print('val_loss =', history.history['val_loss'][-1])\n",
    "print('val_accuracy =', history.history['val_accuracy'][-1])"
   ]
  },
  {
   "cell_type": "code",
   "execution_count": 19,
   "metadata": {},
   "outputs": [],
   "source": [
    "test_predictions = model.predict(test_features)"
   ]
  },
  {
   "cell_type": "code",
   "execution_count": 20,
   "metadata": {},
   "outputs": [
    {
     "name": "stdout",
     "output_type": "stream",
     "text": [
      "     PassengerId  Survived\n",
      "0            892         0\n",
      "1            893         0\n",
      "2            894         0\n",
      "3            895         0\n",
      "4            896         0\n",
      "..           ...       ...\n",
      "413         1305         0\n",
      "414         1306         1\n",
      "415         1307         0\n",
      "416         1308         0\n",
      "417         1309         0\n",
      "\n",
      "[418 rows x 2 columns]\n"
     ]
    },
    {
     "name": "stderr",
     "output_type": "stream",
     "text": [
      "/opt/conda/lib/python3.7/site-packages/pandas/core/indexing.py:671: SettingWithCopyWarning: \n",
      "A value is trying to be set on a copy of a slice from a DataFrame\n",
      "\n",
      "See the caveats in the documentation: https://pandas.pydata.org/pandas-docs/stable/user_guide/indexing.html#returning-a-view-versus-a-copy\n",
      "  self._setitem_with_indexer(indexer, value)\n"
     ]
    }
   ],
   "source": [
    "output = pd.DataFrame({'PassengerId': test_data_df['PassengerId'], 'Survived': [p[0] for p in test_predictions]})\n",
    "output['Survived'].loc[output['Survived'] < 0.5] = 0\n",
    "output['Survived'].loc[output['Survived'] > 0.5] = 1\n",
    "output['Survived'] = output['Survived'].astype('int32')\n",
    "print(output)"
   ]
  },
  {
   "cell_type": "code",
   "execution_count": 21,
   "metadata": {},
   "outputs": [],
   "source": [
    "output.to_csv('submission.csv', index=False)"
   ]
  }
 ],
 "metadata": {
  "kernelspec": {
   "display_name": "Python 3",
   "language": "python",
   "name": "python3"
  },
  "language_info": {
   "codemirror_mode": {
    "name": "ipython",
    "version": 3
   },
   "file_extension": ".py",
   "mimetype": "text/x-python",
   "name": "python",
   "nbconvert_exporter": "python",
   "pygments_lexer": "ipython3",
   "version": "3.7.6"
  }
 },
 "nbformat": 4,
 "nbformat_minor": 4
}
