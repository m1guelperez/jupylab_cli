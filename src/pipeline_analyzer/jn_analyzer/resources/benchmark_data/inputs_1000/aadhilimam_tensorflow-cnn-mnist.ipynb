{
 "cells": [
  {
   "cell_type": "code",
   "execution_count": 1,
   "metadata": {},
   "outputs": [],
   "source": [
    "import warnings\n",
    "warnings.filterwarnings(\"ignore\")"
   ]
  },
  {
   "cell_type": "code",
   "execution_count": 2,
   "metadata": {},
   "outputs": [],
   "source": [
    "import tensorflow as tf"
   ]
  },
  {
   "cell_type": "code",
   "execution_count": 3,
   "metadata": {},
   "outputs": [],
   "source": [
    "from tensorflow.examples.tutorials.mnist import input_data"
   ]
  },
  {
   "cell_type": "code",
   "execution_count": 4,
   "metadata": {},
   "outputs": [
    {
     "name": "stdout",
     "output_type": "stream",
     "text": [
      "Successfully downloaded train-images-idx3-ubyte.gz 9912422 bytes.\n",
      "Extracting MNIST_data/train-images-idx3-ubyte.gz\n",
      "Successfully downloaded train-labels-idx1-ubyte.gz 28881 bytes.\n",
      "Extracting MNIST_data/train-labels-idx1-ubyte.gz\n",
      "Successfully downloaded t10k-images-idx3-ubyte.gz 1648877 bytes.\n",
      "Extracting MNIST_data/t10k-images-idx3-ubyte.gz\n",
      "Successfully downloaded t10k-labels-idx1-ubyte.gz 4542 bytes.\n",
      "Extracting MNIST_data/t10k-labels-idx1-ubyte.gz\n"
     ]
    }
   ],
   "source": [
    "mnist = input_data.read_data_sets(\"MNIST_data/\",one_hot=True)"
   ]
  },
  {
   "cell_type": "code",
   "execution_count": 5,
   "metadata": {
    "collapsed": true
   },
   "outputs": [],
   "source": [
    "#INIT WEIGHT"
   ]
  },
  {
   "cell_type": "code",
   "execution_count": 6,
   "metadata": {},
   "outputs": [],
   "source": [
    "def init_weight(shape):\n",
    "    init_random_dist = tf.truncated_normal(shape,stddev=0.1)\n",
    "    return tf.Variable(init_random_dist)"
   ]
  },
  {
   "cell_type": "code",
   "execution_count": 7,
   "metadata": {},
   "outputs": [],
   "source": [
    "#INIT BIAS\n",
    "def init_bias(shape):\n",
    "    init_bias_vals = tf.constant(0.1,shape=shape)\n",
    "    return tf.Variable(init_bias_vals)"
   ]
  },
  {
   "cell_type": "code",
   "execution_count": 8,
   "metadata": {},
   "outputs": [],
   "source": [
    "#CONV2D\n",
    "def conv2d(x,W):\n",
    "    \n",
    "    return tf.nn.conv2d(x,W,strides=[1,1,1,1],padding='SAME')"
   ]
  },
  {
   "cell_type": "code",
   "execution_count": 9,
   "metadata": {},
   "outputs": [],
   "source": [
    "def max_pool_2by2(x):\n",
    "    return tf.nn.max_pool(x,ksize=[1,2,2,1],strides=[1,2,2,1],padding='SAME')"
   ]
  },
  {
   "cell_type": "code",
   "execution_count": 10,
   "metadata": {},
   "outputs": [],
   "source": [
    "#CONVOLUTIONAL LAYER\n",
    "def convolution_layer(input_x,shape):\n",
    "    W = init_weight(shape)\n",
    "    b = init_bias([shape[3]])\n",
    "    return tf.nn.relu(conv2d(input_x,W)+b)"
   ]
  },
  {
   "cell_type": "code",
   "execution_count": 11,
   "metadata": {},
   "outputs": [],
   "source": [
    "def normal_full_layer(input_layer,size):\n",
    "    input_size = int(input_layer.get_shape()[1])\n",
    "    W = init_weight([input_size,size])\n",
    "    b = init_bias([size])\n",
    "    return tf.matmul(input_layer,W)+b"
   ]
  },
  {
   "cell_type": "code",
   "execution_count": 12,
   "metadata": {
    "collapsed": true
   },
   "outputs": [],
   "source": [
    "#placeholder"
   ]
  },
  {
   "cell_type": "code",
   "execution_count": 13,
   "metadata": {},
   "outputs": [],
   "source": [
    "x = tf.placeholder(tf.float32,shape=[None,784])"
   ]
  },
  {
   "cell_type": "code",
   "execution_count": 14,
   "metadata": {},
   "outputs": [],
   "source": [
    "y_true = tf.placeholder(tf.float32,shape=[None,10])"
   ]
  },
  {
   "cell_type": "code",
   "execution_count": 15,
   "metadata": {},
   "outputs": [],
   "source": [
    "#Layers\n",
    "x_image = tf.reshape(x,[-1,28,28,1])"
   ]
  },
  {
   "cell_type": "code",
   "execution_count": 16,
   "metadata": {},
   "outputs": [],
   "source": [
    "convo_1 = convolution_layer(x_image,shape=[5,5,1,32]) \n",
    "convo_1_pooling = max_pool_2by2(convo_1)"
   ]
  },
  {
   "cell_type": "code",
   "execution_count": 17,
   "metadata": {},
   "outputs": [],
   "source": [
    "convo_2 = convolution_layer(convo_1_pooling,shape=[5,5,32,64])\n",
    "convo_2_pooling = max_pool_2by2(convo_2)"
   ]
  },
  {
   "cell_type": "code",
   "execution_count": 18,
   "metadata": {},
   "outputs": [],
   "source": [
    "convo_2_flat = tf.reshape(convo_2_pooling,[-1,7*7*64])\n",
    "full_layer_one = tf.nn.relu(normal_full_layer(convo_2_flat,1024))"
   ]
  },
  {
   "cell_type": "code",
   "execution_count": 19,
   "metadata": {},
   "outputs": [],
   "source": [
    "#Dropout\n",
    "hold_prob = tf.placeholder(tf.float32)\n",
    "full_one_dropout = tf.nn.dropout(full_layer_one,keep_prob=hold_prob)"
   ]
  },
  {
   "cell_type": "code",
   "execution_count": 20,
   "metadata": {},
   "outputs": [],
   "source": [
    "y_pred = normal_full_layer(full_one_dropout,10)"
   ]
  },
  {
   "cell_type": "code",
   "execution_count": 21,
   "metadata": {},
   "outputs": [],
   "source": [
    "#LOSS FUNCTION\n",
    "cross_entropy = tf.reduce_mean(tf.nn.softmax_cross_entropy_with_logits(labels=y_true,logits=y_pred))"
   ]
  },
  {
   "cell_type": "code",
   "execution_count": 22,
   "metadata": {
    "collapsed": true
   },
   "outputs": [],
   "source": [
    "#OPTIMIZER"
   ]
  },
  {
   "cell_type": "code",
   "execution_count": 23,
   "metadata": {},
   "outputs": [],
   "source": [
    "optimizer = tf.train.AdadeltaOptimizer(learning_rate=0.001)\n",
    "train = optimizer.minimize(cross_entropy)"
   ]
  },
  {
   "cell_type": "code",
   "execution_count": 24,
   "metadata": {},
   "outputs": [],
   "source": [
    "init = tf.global_variables_initializer()"
   ]
  },
  {
   "cell_type": "code",
   "execution_count": 25,
   "metadata": {},
   "outputs": [
    {
     "name": "stdout",
     "output_type": "stream",
     "text": [
      "ON STEP: 0\n",
      "ACCURACY:\n",
      "0.1033\n",
      "\n",
      "\n",
      "ON STEP: 100\n",
      "ACCURACY:\n",
      "0.0996\n",
      "\n",
      "\n",
      "ON STEP: 200\n",
      "ACCURACY:\n",
      "0.101\n",
      "\n",
      "\n",
      "ON STEP: 300\n",
      "ACCURACY:\n",
      "0.1022\n",
      "\n",
      "\n",
      "ON STEP: 400\n",
      "ACCURACY:\n",
      "0.098\n",
      "\n",
      "\n",
      "ON STEP: 500\n",
      "ACCURACY:\n",
      "0.0977\n",
      "\n",
      "\n",
      "ON STEP: 600\n",
      "ACCURACY:\n",
      "0.1018\n",
      "\n",
      "\n",
      "ON STEP: 700\n",
      "ACCURACY:\n",
      "0.1016\n",
      "\n",
      "\n",
      "ON STEP: 800\n",
      "ACCURACY:\n",
      "0.1041\n",
      "\n",
      "\n",
      "ON STEP: 900\n",
      "ACCURACY:\n",
      "0.105\n",
      "\n",
      "\n",
      "ON STEP: 1000\n",
      "ACCURACY:\n",
      "0.102\n",
      "\n",
      "\n",
      "ON STEP: 1100\n",
      "ACCURACY:\n",
      "0.1048\n",
      "\n",
      "\n",
      "ON STEP: 1200\n",
      "ACCURACY:\n",
      "0.1086\n",
      "\n",
      "\n",
      "ON STEP: 1300\n",
      "ACCURACY:\n",
      "0.1066\n",
      "\n",
      "\n",
      "ON STEP: 1400\n",
      "ACCURACY:\n",
      "0.1025\n",
      "\n",
      "\n",
      "ON STEP: 1500\n",
      "ACCURACY:\n",
      "0.1058\n",
      "\n",
      "\n",
      "ON STEP: 1600\n",
      "ACCURACY:\n",
      "0.1128\n",
      "\n",
      "\n",
      "ON STEP: 1700\n",
      "ACCURACY:\n",
      "0.1125\n",
      "\n",
      "\n",
      "ON STEP: 1800\n",
      "ACCURACY:\n",
      "0.1111\n",
      "\n",
      "\n",
      "ON STEP: 1900\n",
      "ACCURACY:\n",
      "0.1157\n",
      "\n",
      "\n",
      "ON STEP: 2000\n",
      "ACCURACY:\n",
      "0.1084\n",
      "\n",
      "\n",
      "ON STEP: 2100\n",
      "ACCURACY:\n",
      "0.1096\n",
      "\n",
      "\n",
      "ON STEP: 2200\n",
      "ACCURACY:\n",
      "0.1054\n",
      "\n",
      "\n",
      "ON STEP: 2300\n",
      "ACCURACY:\n",
      "0.1181\n",
      "\n",
      "\n",
      "ON STEP: 2400\n",
      "ACCURACY:\n",
      "0.1139\n",
      "\n",
      "\n",
      "ON STEP: 2500\n",
      "ACCURACY:\n",
      "0.1175\n",
      "\n",
      "\n",
      "ON STEP: 2600\n",
      "ACCURACY:\n",
      "0.1167\n",
      "\n",
      "\n",
      "ON STEP: 2700\n",
      "ACCURACY:\n",
      "0.1154\n",
      "\n",
      "\n",
      "ON STEP: 2800\n",
      "ACCURACY:\n",
      "0.1123\n",
      "\n",
      "\n",
      "ON STEP: 2900\n",
      "ACCURACY:\n",
      "0.1172\n",
      "\n",
      "\n",
      "ON STEP: 3000\n",
      "ACCURACY:\n",
      "0.1157\n",
      "\n",
      "\n",
      "ON STEP: 3100\n",
      "ACCURACY:\n",
      "0.1177\n",
      "\n",
      "\n",
      "ON STEP: 3200\n",
      "ACCURACY:\n",
      "0.1177\n",
      "\n",
      "\n",
      "ON STEP: 3300\n",
      "ACCURACY:\n",
      "0.1171\n",
      "\n",
      "\n",
      "ON STEP: 3400\n",
      "ACCURACY:\n",
      "0.1258\n",
      "\n",
      "\n",
      "ON STEP: 3500\n",
      "ACCURACY:\n",
      "0.1185\n",
      "\n",
      "\n",
      "ON STEP: 3600\n",
      "ACCURACY:\n",
      "0.1244\n",
      "\n",
      "\n",
      "ON STEP: 3700\n",
      "ACCURACY:\n",
      "0.1164\n",
      "\n",
      "\n",
      "ON STEP: 3800\n",
      "ACCURACY:\n",
      "0.1301\n",
      "\n",
      "\n",
      "ON STEP: 3900\n",
      "ACCURACY:\n",
      "0.1244\n",
      "\n",
      "\n",
      "ON STEP: 4000\n",
      "ACCURACY:\n",
      "0.1319\n",
      "\n",
      "\n",
      "ON STEP: 4100\n",
      "ACCURACY:\n",
      "0.1223\n",
      "\n",
      "\n",
      "ON STEP: 4200\n",
      "ACCURACY:\n",
      "0.1327\n",
      "\n",
      "\n",
      "ON STEP: 4300\n",
      "ACCURACY:\n",
      "0.1243\n",
      "\n",
      "\n",
      "ON STEP: 4400\n",
      "ACCURACY:\n",
      "0.1274\n",
      "\n",
      "\n",
      "ON STEP: 4500\n",
      "ACCURACY:\n",
      "0.1275\n",
      "\n",
      "\n",
      "ON STEP: 4600\n",
      "ACCURACY:\n",
      "0.1317\n",
      "\n",
      "\n",
      "ON STEP: 4700\n",
      "ACCURACY:\n",
      "0.1286\n",
      "\n",
      "\n",
      "ON STEP: 4800\n",
      "ACCURACY:\n",
      "0.1299\n",
      "\n",
      "\n",
      "ON STEP: 4900\n",
      "ACCURACY:\n",
      "0.1248\n",
      "\n",
      "\n"
     ]
    }
   ],
   "source": [
    "steps = 5000\n",
    "\n",
    "with tf.Session() as sess:\n",
    "    sess.run(init)\n",
    "    \n",
    "    for i in range(steps):\n",
    "        batch_x , batch_y = mnist.train.next_batch(50)\n",
    "        sess.run(train,feed_dict={x:batch_x,y_true:batch_y,hold_prob:0.5})\n",
    "        \n",
    "        if i % 100 == 0:\n",
    "            print(\"ON STEP: {}\".format(i))\n",
    "            print(\"ACCURACY:\")\n",
    "            matches = tf.equal(tf.argmax(y_pred,1),tf.argmax(y_true,1))\n",
    "            \n",
    "            acc = tf.reduce_mean(tf.cast(matches,tf.float32))\n",
    "            print(sess.run(acc,feed_dict={x:mnist.test.images,y_true:mnist.test.labels,hold_prob:0.1}))\n",
    "            print('\\n')\n",
    "                               \n",
    "                               \n",
    "                               \n",
    "                               "
   ]
  },
  {
   "cell_type": "code",
   "execution_count": null,
   "metadata": {},
   "outputs": [],
   "source": []
  }
 ],
 "metadata": {
  "kernelspec": {
   "display_name": "Python 3",
   "language": "python",
   "name": "python3"
  },
  "language_info": {
   "codemirror_mode": {
    "name": "ipython",
    "version": 3
   },
   "file_extension": ".py",
   "mimetype": "text/x-python",
   "name": "python",
   "nbconvert_exporter": "python",
   "pygments_lexer": "ipython3",
   "version": "3.6.6"
  }
 },
 "nbformat": 4,
 "nbformat_minor": 1
}
