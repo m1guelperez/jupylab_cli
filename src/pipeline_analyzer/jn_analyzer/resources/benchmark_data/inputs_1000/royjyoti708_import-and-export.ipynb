{
 "cells": [
  {
   "cell_type": "code",
   "execution_count": 1,
   "metadata": {},
   "outputs": [
    {
     "name": "stdout",
     "output_type": "stream",
     "text": [
      "['Student_Performance_Data.csv', 'Student_Counceling_Information.xlsx', 'Employee_Information.xlsx', 'Department_Information.xlsx', 'Employee_Information.txt', 'Student_Performance_Data_Wide_Version.xlsx', 'Student_Performance_Data.txt', 'Department_Information.txt', 'Student_Counceling_Information.txt', 'Student_Performance_Data.xlsx', 'student_counceling_information.sas7bdat', 'Department_Information.csv', 'Employee_Information.csv', 'department_information.sas7bdat', 'Student_Counceling_Information.csv', 'student_performance_data.sas7bdat', 'employee_information.sas7bdat']\n"
     ]
    }
   ],
   "source": [
    "#Importing Dataset\n",
    "import numpy as np\n",
    "import pandas as pd \n",
    "import os\n",
    "print(os.listdir(\"../input\"))"
   ]
  },
  {
   "cell_type": "markdown",
   "metadata": {},
   "source": [
    "**Importing dataset of different format**"
   ]
  },
  {
   "cell_type": "code",
   "execution_count": 2,
   "metadata": {},
   "outputs": [
    {
     "data": {
      "text/html": [
       "<div>\n",
       "<style scoped>\n",
       "    .dataframe tbody tr th:only-of-type {\n",
       "        vertical-align: middle;\n",
       "    }\n",
       "\n",
       "    .dataframe tbody tr th {\n",
       "        vertical-align: top;\n",
       "    }\n",
       "\n",
       "    .dataframe thead th {\n",
       "        text-align: right;\n",
       "    }\n",
       "</style>\n",
       "<table border=\"1\" class=\"dataframe\">\n",
       "  <thead>\n",
       "    <tr style=\"text-align: right;\">\n",
       "      <th></th>\n",
       "      <th>Department_ID</th>\n",
       "      <th>Department_Name</th>\n",
       "      <th>DOE</th>\n",
       "    </tr>\n",
       "  </thead>\n",
       "  <tbody>\n",
       "    <tr>\n",
       "      <th>0</th>\n",
       "      <td>IDEPT4670</td>\n",
       "      <td>Aerospace Engineering</td>\n",
       "      <td>1961-05-31T00:00:00Z</td>\n",
       "    </tr>\n",
       "    <tr>\n",
       "      <th>1</th>\n",
       "      <td>IDEPT5528</td>\n",
       "      <td>Biosciences and Bioengineering</td>\n",
       "      <td>1943-06-28T00:00:00Z</td>\n",
       "    </tr>\n",
       "    <tr>\n",
       "      <th>2</th>\n",
       "      <td>IDEPT3115</td>\n",
       "      <td>Chemical Engineering</td>\n",
       "      <td>1940-05-01T00:00:00Z</td>\n",
       "    </tr>\n",
       "    <tr>\n",
       "      <th>3</th>\n",
       "      <td>IDEPT5881</td>\n",
       "      <td>Chemistry</td>\n",
       "      <td>2013-06-08T00:00:00Z</td>\n",
       "    </tr>\n",
       "    <tr>\n",
       "      <th>4</th>\n",
       "      <td>IDEPT4938</td>\n",
       "      <td>Civil Engineering</td>\n",
       "      <td>1941-10-27T00:00:00Z</td>\n",
       "    </tr>\n",
       "  </tbody>\n",
       "</table>\n",
       "</div>"
      ],
      "text/plain": [
       "  Department_ID                 Department_Name                   DOE\n",
       "0     IDEPT4670           Aerospace Engineering  1961-05-31T00:00:00Z\n",
       "1     IDEPT5528  Biosciences and Bioengineering  1943-06-28T00:00:00Z\n",
       "2     IDEPT3115            Chemical Engineering  1940-05-01T00:00:00Z\n",
       "3     IDEPT5881                       Chemistry  2013-06-08T00:00:00Z\n",
       "4     IDEPT4938               Civil Engineering  1941-10-27T00:00:00Z"
      ]
     },
     "execution_count": 2,
     "metadata": {},
     "output_type": "execute_result"
    }
   ],
   "source": [
    "#Setting input directory\n",
    "os.chdir(\"../input\")\n",
    "\n",
    "#Importing from *.txt\n",
    "Depart_Info = pd.read_csv(\"Department_Information.txt\" , sep =  \"|\")\n",
    "Depart_Info.head()\n"
   ]
  },
  {
   "cell_type": "code",
   "execution_count": 3,
   "metadata": {},
   "outputs": [
    {
     "name": "stdout",
     "output_type": "stream",
     "text": [
      "<class 'pandas.core.frame.DataFrame'>\n",
      "RangeIndex: 1000 entries, 0 to 999\n",
      "Data columns (total 4 columns):\n",
      "Employee ID      1000 non-null object\n",
      "DOB              1000 non-null object\n",
      "DOJ              1000 non-null object\n",
      "Department_ID    1000 non-null object\n",
      "dtypes: object(4)\n",
      "memory usage: 31.3+ KB\n"
     ]
    }
   ],
   "source": [
    "Employee_Info= pd.read_csv(\"Employee_Information.txt\" , sep =  \"|\")\n",
    "Employee_Info.head()\n",
    "Employee_Info.info()\n"
   ]
  },
  {
   "cell_type": "code",
   "execution_count": 4,
   "metadata": {},
   "outputs": [
    {
     "data": {
      "text/html": [
       "<div>\n",
       "<style scoped>\n",
       "    .dataframe tbody tr th:only-of-type {\n",
       "        vertical-align: middle;\n",
       "    }\n",
       "\n",
       "    .dataframe tbody tr th {\n",
       "        vertical-align: top;\n",
       "    }\n",
       "\n",
       "    .dataframe thead th {\n",
       "        text-align: right;\n",
       "    }\n",
       "</style>\n",
       "<table border=\"1\" class=\"dataframe\">\n",
       "  <thead>\n",
       "    <tr style=\"text-align: right;\">\n",
       "      <th></th>\n",
       "      <th>Student_ID</th>\n",
       "      <th>DOA</th>\n",
       "      <th>DOB</th>\n",
       "      <th>Department_Choices</th>\n",
       "      <th>Department_Admission</th>\n",
       "    </tr>\n",
       "  </thead>\n",
       "  <tbody>\n",
       "    <tr>\n",
       "      <th>0</th>\n",
       "      <td>SID20131143</td>\n",
       "      <td>2013-07-01T00:00:00Z</td>\n",
       "      <td>1996-02-05T00:00:00Z</td>\n",
       "      <td>IDEPT7783</td>\n",
       "      <td>IDEPT7783</td>\n",
       "    </tr>\n",
       "    <tr>\n",
       "      <th>1</th>\n",
       "      <td>SID20131151</td>\n",
       "      <td>2013-07-01T00:00:00Z</td>\n",
       "      <td>1995-07-31T00:00:00Z</td>\n",
       "      <td>IDEPT6347</td>\n",
       "      <td>IDEPT6347</td>\n",
       "    </tr>\n",
       "    <tr>\n",
       "      <th>2</th>\n",
       "      <td>SID20131171</td>\n",
       "      <td>2013-07-01T00:00:00Z</td>\n",
       "      <td>1995-09-05T00:00:00Z</td>\n",
       "      <td>IDEPT1836</td>\n",
       "      <td>IDEPT1836</td>\n",
       "    </tr>\n",
       "    <tr>\n",
       "      <th>3</th>\n",
       "      <td>SID20131176</td>\n",
       "      <td>2013-07-01T00:00:00Z</td>\n",
       "      <td>1996-01-12T00:00:00Z</td>\n",
       "      <td>IDEPT8473</td>\n",
       "      <td>IDEPT8473</td>\n",
       "    </tr>\n",
       "    <tr>\n",
       "      <th>4</th>\n",
       "      <td>SID20131177</td>\n",
       "      <td>2013-07-01T00:00:00Z</td>\n",
       "      <td>1995-07-30T00:00:00Z</td>\n",
       "      <td>IDEPT5528</td>\n",
       "      <td>IDEPT5528</td>\n",
       "    </tr>\n",
       "  </tbody>\n",
       "</table>\n",
       "</div>"
      ],
      "text/plain": [
       "    Student_ID                   DOA                   DOB Department_Choices  \\\n",
       "0  SID20131143  2013-07-01T00:00:00Z  1996-02-05T00:00:00Z          IDEPT7783   \n",
       "1  SID20131151  2013-07-01T00:00:00Z  1995-07-31T00:00:00Z          IDEPT6347   \n",
       "2  SID20131171  2013-07-01T00:00:00Z  1995-09-05T00:00:00Z          IDEPT1836   \n",
       "3  SID20131176  2013-07-01T00:00:00Z  1996-01-12T00:00:00Z          IDEPT8473   \n",
       "4  SID20131177  2013-07-01T00:00:00Z  1995-07-30T00:00:00Z          IDEPT5528   \n",
       "\n",
       "  Department_Admission  \n",
       "0            IDEPT7783  \n",
       "1            IDEPT6347  \n",
       "2            IDEPT1836  \n",
       "3            IDEPT8473  \n",
       "4            IDEPT5528  "
      ]
     },
     "execution_count": 4,
     "metadata": {},
     "output_type": "execute_result"
    }
   ],
   "source": [
    "Student_cons_info= pd.read_csv(\"Student_Counceling_Information.txt\" , sep =  \"|\")\n",
    "\n",
    "#reteriving observations of top five rows\n",
    "Student_cons_info.head()"
   ]
  },
  {
   "cell_type": "code",
   "execution_count": 5,
   "metadata": {},
   "outputs": [
    {
     "data": {
      "text/html": [
       "<div>\n",
       "<style scoped>\n",
       "    .dataframe tbody tr th:only-of-type {\n",
       "        vertical-align: middle;\n",
       "    }\n",
       "\n",
       "    .dataframe tbody tr th {\n",
       "        vertical-align: top;\n",
       "    }\n",
       "\n",
       "    .dataframe thead th {\n",
       "        text-align: right;\n",
       "    }\n",
       "</style>\n",
       "<table border=\"1\" class=\"dataframe\">\n",
       "  <thead>\n",
       "    <tr style=\"text-align: right;\">\n",
       "      <th></th>\n",
       "      <th>Department_ID</th>\n",
       "      <th>Department_Name</th>\n",
       "      <th>DOE</th>\n",
       "    </tr>\n",
       "  </thead>\n",
       "  <tbody>\n",
       "    <tr>\n",
       "      <th>0</th>\n",
       "      <td>IDEPT4670</td>\n",
       "      <td>Aerospace Engineering</td>\n",
       "      <td>1961-05-31T00:00:00Z</td>\n",
       "    </tr>\n",
       "    <tr>\n",
       "      <th>1</th>\n",
       "      <td>IDEPT5528</td>\n",
       "      <td>Biosciences and Bioengineering</td>\n",
       "      <td>1943-06-28T00:00:00Z</td>\n",
       "    </tr>\n",
       "    <tr>\n",
       "      <th>2</th>\n",
       "      <td>IDEPT3115</td>\n",
       "      <td>Chemical Engineering</td>\n",
       "      <td>1940-05-01T00:00:00Z</td>\n",
       "    </tr>\n",
       "    <tr>\n",
       "      <th>3</th>\n",
       "      <td>IDEPT5881</td>\n",
       "      <td>Chemistry</td>\n",
       "      <td>2013-06-08T00:00:00Z</td>\n",
       "    </tr>\n",
       "    <tr>\n",
       "      <th>4</th>\n",
       "      <td>IDEPT4938</td>\n",
       "      <td>Civil Engineering</td>\n",
       "      <td>1941-10-27T00:00:00Z</td>\n",
       "    </tr>\n",
       "  </tbody>\n",
       "</table>\n",
       "</div>"
      ],
      "text/plain": [
       "  Department_ID                 Department_Name                   DOE\n",
       "0     IDEPT4670           Aerospace Engineering  1961-05-31T00:00:00Z\n",
       "1     IDEPT5528  Biosciences and Bioengineering  1943-06-28T00:00:00Z\n",
       "2     IDEPT3115            Chemical Engineering  1940-05-01T00:00:00Z\n",
       "3     IDEPT5881                       Chemistry  2013-06-08T00:00:00Z\n",
       "4     IDEPT4938               Civil Engineering  1941-10-27T00:00:00Z"
      ]
     },
     "execution_count": 5,
     "metadata": {},
     "output_type": "execute_result"
    }
   ],
   "source": [
    "#Importing data from *.csv\n",
    "Depart_inf = pd.read_csv(\"Department_Information.csv\")\n",
    "Depart_inf.head()"
   ]
  },
  {
   "cell_type": "code",
   "execution_count": 6,
   "metadata": {},
   "outputs": [
    {
     "data": {
      "text/html": [
       "<div>\n",
       "<style scoped>\n",
       "    .dataframe tbody tr th:only-of-type {\n",
       "        vertical-align: middle;\n",
       "    }\n",
       "\n",
       "    .dataframe tbody tr th {\n",
       "        vertical-align: top;\n",
       "    }\n",
       "\n",
       "    .dataframe thead th {\n",
       "        text-align: right;\n",
       "    }\n",
       "</style>\n",
       "<table border=\"1\" class=\"dataframe\">\n",
       "  <thead>\n",
       "    <tr style=\"text-align: right;\">\n",
       "      <th></th>\n",
       "      <th>Employee ID</th>\n",
       "      <th>DOB</th>\n",
       "      <th>DOJ</th>\n",
       "      <th>Department_ID</th>\n",
       "    </tr>\n",
       "  </thead>\n",
       "  <tbody>\n",
       "    <tr>\n",
       "      <th>0</th>\n",
       "      <td>IU196557</td>\n",
       "      <td>1983-02-23</td>\n",
       "      <td>2009-10-31</td>\n",
       "      <td>IDEPT4938</td>\n",
       "    </tr>\n",
       "    <tr>\n",
       "      <th>1</th>\n",
       "      <td>IU449901</td>\n",
       "      <td>1985-09-02</td>\n",
       "      <td>2009-06-07</td>\n",
       "      <td>IDEPT2357</td>\n",
       "    </tr>\n",
       "    <tr>\n",
       "      <th>2</th>\n",
       "      <td>IU206427</td>\n",
       "      <td>1971-07-30</td>\n",
       "      <td>2008-05-09</td>\n",
       "      <td>IDEPT4670</td>\n",
       "    </tr>\n",
       "    <tr>\n",
       "      <th>3</th>\n",
       "      <td>IU688905</td>\n",
       "      <td>1973-07-20</td>\n",
       "      <td>2002-01-17</td>\n",
       "      <td>IDEPT2601</td>\n",
       "    </tr>\n",
       "    <tr>\n",
       "      <th>4</th>\n",
       "      <td>IU634582</td>\n",
       "      <td>1991-11-16</td>\n",
       "      <td>2000-02-13</td>\n",
       "      <td>IDEPT7626</td>\n",
       "    </tr>\n",
       "  </tbody>\n",
       "</table>\n",
       "</div>"
      ],
      "text/plain": [
       "  Employee ID        DOB        DOJ Department_ID\n",
       "0    IU196557 1983-02-23 2009-10-31     IDEPT4938\n",
       "1    IU449901 1985-09-02 2009-06-07     IDEPT2357\n",
       "2    IU206427 1971-07-30 2008-05-09     IDEPT4670\n",
       "3    IU688905 1973-07-20 2002-01-17     IDEPT2601\n",
       "4    IU634582 1991-11-16 2000-02-13     IDEPT7626"
      ]
     },
     "execution_count": 6,
     "metadata": {},
     "output_type": "execute_result"
    }
   ],
   "source": [
    "#Importing data *.xlsx\n",
    "Employ_Info = pd.read_excel(\"Employee_Information.xlsx\")\n",
    "Employ_Info.head()"
   ]
  },
  {
   "cell_type": "code",
   "execution_count": 7,
   "metadata": {},
   "outputs": [
    {
     "data": {
      "text/html": [
       "<div>\n",
       "<style scoped>\n",
       "    .dataframe tbody tr th:only-of-type {\n",
       "        vertical-align: middle;\n",
       "    }\n",
       "\n",
       "    .dataframe tbody tr th {\n",
       "        vertical-align: top;\n",
       "    }\n",
       "\n",
       "    .dataframe thead th {\n",
       "        text-align: right;\n",
       "    }\n",
       "</style>\n",
       "<table border=\"1\" class=\"dataframe\">\n",
       "  <thead>\n",
       "    <tr style=\"text-align: right;\">\n",
       "      <th></th>\n",
       "      <th>Department_ID</th>\n",
       "      <th>Department_Name</th>\n",
       "      <th>DOE</th>\n",
       "    </tr>\n",
       "  </thead>\n",
       "  <tbody>\n",
       "    <tr>\n",
       "      <th>0</th>\n",
       "      <td>b'IDEPT4670'</td>\n",
       "      <td>b'Aerospace Engineering'</td>\n",
       "      <td>1961-05-31</td>\n",
       "    </tr>\n",
       "    <tr>\n",
       "      <th>1</th>\n",
       "      <td>b'IDEPT5528'</td>\n",
       "      <td>b'Biosciences and Bioengineering'</td>\n",
       "      <td>1943-06-28</td>\n",
       "    </tr>\n",
       "    <tr>\n",
       "      <th>2</th>\n",
       "      <td>b'IDEPT3115'</td>\n",
       "      <td>b'Chemical Engineering'</td>\n",
       "      <td>1940-05-01</td>\n",
       "    </tr>\n",
       "    <tr>\n",
       "      <th>3</th>\n",
       "      <td>b'IDEPT5881'</td>\n",
       "      <td>b'Chemistry'</td>\n",
       "      <td>2013-06-08</td>\n",
       "    </tr>\n",
       "    <tr>\n",
       "      <th>4</th>\n",
       "      <td>b'IDEPT4938'</td>\n",
       "      <td>b'Civil Engineering'</td>\n",
       "      <td>1941-10-27</td>\n",
       "    </tr>\n",
       "  </tbody>\n",
       "</table>\n",
       "</div>"
      ],
      "text/plain": [
       "  Department_ID                    Department_Name        DOE\n",
       "0  b'IDEPT4670'           b'Aerospace Engineering' 1961-05-31\n",
       "1  b'IDEPT5528'  b'Biosciences and Bioengineering' 1943-06-28\n",
       "2  b'IDEPT3115'            b'Chemical Engineering' 1940-05-01\n",
       "3  b'IDEPT5881'                       b'Chemistry' 2013-06-08\n",
       "4  b'IDEPT4938'               b'Civil Engineering' 1941-10-27"
      ]
     },
     "execution_count": 7,
     "metadata": {},
     "output_type": "execute_result"
    }
   ],
   "source": [
    "#Importing from *.sas7bdat\n",
    "department_info= pd.read_sas('department_information.sas7bdat')\n",
    "department_info.head()"
   ]
  },
  {
   "cell_type": "markdown",
   "metadata": {},
   "source": [
    "**Exporting dataset **"
   ]
  },
  {
   "cell_type": "code",
   "execution_count": 8,
   "metadata": {},
   "outputs": [],
   "source": [
    "#Export to  *.txt\n",
    "Student_cons_info.to_csv(\"../Student_Counceling_Information.txt\")\n"
   ]
  },
  {
   "cell_type": "code",
   "execution_count": 9,
   "metadata": {},
   "outputs": [],
   "source": [
    "#Export to *.csv \n",
    "Depart_inf.to_csv(\"../Department_Information.csv\")"
   ]
  },
  {
   "cell_type": "code",
   "execution_count": 10,
   "metadata": {},
   "outputs": [],
   "source": [
    "#Export to *.xlsx\n",
    "Employ_Info.to_excel(\"../Employee_Information.xlsx\")"
   ]
  },
  {
   "cell_type": "code",
   "execution_count": 11,
   "metadata": {},
   "outputs": [
    {
     "ename": "AttributeError",
     "evalue": "'DataFrame' object has no attribute 'to_sas'",
     "output_type": "error",
     "traceback": [
      "\u001b[0;31m---------------------------------------------------------------------------\u001b[0m",
      "\u001b[0;31mAttributeError\u001b[0m                            Traceback (most recent call last)",
      "\u001b[0;32m<ipython-input-11-06e63e37eb19>\u001b[0m in \u001b[0;36m<module>\u001b[0;34m\u001b[0m\n\u001b[1;32m      1\u001b[0m \u001b[0;31m#Export to *.sas7bdat\u001b[0m\u001b[0;34m\u001b[0m\u001b[0;34m\u001b[0m\u001b[0m\n\u001b[0;32m----> 2\u001b[0;31m \u001b[0mdepartment_info\u001b[0m\u001b[0;34m.\u001b[0m\u001b[0mto_sas\u001b[0m\u001b[0;34m(\u001b[0m\u001b[0;34m\"../department_information.sas7bdat\"\u001b[0m\u001b[0;34m)\u001b[0m\u001b[0;34m\u001b[0m\u001b[0m\n\u001b[0m",
      "\u001b[0;32m/opt/conda/lib/python3.6/site-packages/pandas/core/generic.py\u001b[0m in \u001b[0;36m__getattr__\u001b[0;34m(self, name)\u001b[0m\n\u001b[1;32m   4374\u001b[0m             \u001b[0;32mif\u001b[0m \u001b[0mself\u001b[0m\u001b[0;34m.\u001b[0m\u001b[0m_info_axis\u001b[0m\u001b[0;34m.\u001b[0m\u001b[0m_can_hold_identifiers_and_holds_name\u001b[0m\u001b[0;34m(\u001b[0m\u001b[0mname\u001b[0m\u001b[0;34m)\u001b[0m\u001b[0;34m:\u001b[0m\u001b[0;34m\u001b[0m\u001b[0m\n\u001b[1;32m   4375\u001b[0m                 \u001b[0;32mreturn\u001b[0m \u001b[0mself\u001b[0m\u001b[0;34m[\u001b[0m\u001b[0mname\u001b[0m\u001b[0;34m]\u001b[0m\u001b[0;34m\u001b[0m\u001b[0m\n\u001b[0;32m-> 4376\u001b[0;31m             \u001b[0;32mreturn\u001b[0m \u001b[0mobject\u001b[0m\u001b[0;34m.\u001b[0m\u001b[0m__getattribute__\u001b[0m\u001b[0;34m(\u001b[0m\u001b[0mself\u001b[0m\u001b[0;34m,\u001b[0m \u001b[0mname\u001b[0m\u001b[0;34m)\u001b[0m\u001b[0;34m\u001b[0m\u001b[0m\n\u001b[0m\u001b[1;32m   4377\u001b[0m \u001b[0;34m\u001b[0m\u001b[0m\n\u001b[1;32m   4378\u001b[0m     \u001b[0;32mdef\u001b[0m \u001b[0m__setattr__\u001b[0m\u001b[0;34m(\u001b[0m\u001b[0mself\u001b[0m\u001b[0;34m,\u001b[0m \u001b[0mname\u001b[0m\u001b[0;34m,\u001b[0m \u001b[0mvalue\u001b[0m\u001b[0;34m)\u001b[0m\u001b[0;34m:\u001b[0m\u001b[0;34m\u001b[0m\u001b[0m\n",
      "\u001b[0;31mAttributeError\u001b[0m: 'DataFrame' object has no attribute 'to_sas'"
     ]
    }
   ],
   "source": [
    "#Export to *.sas7bdat \n",
    "department_info.to_sas(\"../department_information.sas7bdat\")\n"
   ]
  }
 ],
 "metadata": {
  "kernelspec": {
   "display_name": "Python 3",
   "language": "python",
   "name": "python3"
  },
  "language_info": {
   "codemirror_mode": {
    "name": "ipython",
    "version": 3
   },
   "file_extension": ".py",
   "mimetype": "text/x-python",
   "name": "python",
   "nbconvert_exporter": "python",
   "pygments_lexer": "ipython3",
   "version": "3.6.6"
  }
 },
 "nbformat": 4,
 "nbformat_minor": 1
}
