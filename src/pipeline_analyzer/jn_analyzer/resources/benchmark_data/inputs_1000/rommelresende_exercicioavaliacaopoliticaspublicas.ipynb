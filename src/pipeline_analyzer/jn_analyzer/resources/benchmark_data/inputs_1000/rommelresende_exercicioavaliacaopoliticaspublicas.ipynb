{
 "cells": [
  {
   "cell_type": "markdown",
   "metadata": {},
   "source": [
    "# Exercício para o curso de avaliação de políticas públicas"
   ]
  },
  {
   "cell_type": "code",
   "execution_count": 1,
   "metadata": {
    "_cell_guid": "b1076dfc-b9ad-4769-8c92-a6c4dae69d19",
    "_uuid": "8f2839f25d086af736a60e9eeb907d3b93b6e0e5"
   },
   "outputs": [],
   "source": [
    "import numpy as np\n",
    "import matplotlib.pyplot as plt\n",
    "import math\n",
    "import random\n",
    "import pandas as pd\n",
    "import scipy.stats as stat\n",
    "from scipy.stats import norm\n",
    "\n",
    "import os"
   ]
  },
  {
   "cell_type": "code",
   "execution_count": 2,
   "metadata": {},
   "outputs": [],
   "source": [
    "from scipy.stats import t\n",
    "\n",
    "\n",
    "def calcula_numero_desvios_tstudent_para_confianca(confianca, tamanho_amostra):\n",
    "    mean = 0\n",
    "    std = 1\n",
    "    rv = t(df=(tamanho_amostra-1))\n",
    "    return rv.interval(confianca)[1]"
   ]
  },
  {
   "cell_type": "code",
   "execution_count": 3,
   "metadata": {},
   "outputs": [],
   "source": [
    "from scipy.stats import norm\n",
    "\n",
    "\n",
    "def calcula_numero_desvios_normal_para_confianca(confianca):\n",
    "    mean = 0\n",
    "    std = 1\n",
    "    rv = norm(loc=mean, scale=std)\n",
    "    return rv.interval(confianca)[1]"
   ]
  },
  {
   "cell_type": "code",
   "execution_count": 4,
   "metadata": {},
   "outputs": [],
   "source": [
    "def recupera_amostra(populacao, tamanho_amostra):\n",
    "    return populacao[np.random.randint(0, len(populacao), tamanho_amostra)]"
   ]
  },
  {
   "cell_type": "code",
   "execution_count": 5,
   "metadata": {
    "_cell_guid": "79c7e3d0-c299-4dcb-8224-4455121ee9b0",
    "_uuid": "d629ff2d2480ee46fbb7e2d37f6b5fab8052498a"
   },
   "outputs": [
    {
     "name": "stdout",
     "output_type": "stream",
     "text": [
      "Tamanho população 100000, média 160.10506056979364, desvio 19.966585470834723\n"
     ]
    }
   ],
   "source": [
    "# Define população\n",
    "\n",
    "mean = 160\n",
    "std = 20\n",
    "distribuicao_probabilidades = norm(loc=mean, scale=std)\n",
    "\n",
    "tamanho_populacao = 100000\n",
    "\n",
    "populacao = distribuicao_probabilidades.rvs(size=tamanho_populacao, random_state=1)\n",
    "\n",
    "print('Tamanho população {}, média {}, desvio {}'.format(len(populacao), np.mean(populacao), np.std(populacao)))\n",
    "\n"
   ]
  },
  {
   "cell_type": "code",
   "execution_count": 6,
   "metadata": {},
   "outputs": [
    {
     "data": {
      "image/png": "[encoded data removed]",
      "text/plain": [
       "<Figure size 1008x432 with 1 Axes>"
      ]
     },
     "metadata": {
      "needs_background": "light"
     },
     "output_type": "display_data"
    }
   ],
   "source": [
    "fig, axs = plt.subplots(1, 1, figsize=(14,6))\n",
    "\n",
    "axs.hist(populacao, density=True, facecolor='g', alpha=0.75, bins=50)\n",
    "axs.grid(True)\n",
    "axs.set_title('Histograma de alturas da População')\n",
    "\n",
    "plt.show()"
   ]
  },
  {
   "cell_type": "code",
   "execution_count": 7,
   "metadata": {},
   "outputs": [
    {
     "name": "stdout",
     "output_type": "stream",
     "text": [
      "[164.1478465  169.93855665 151.64510396 180.06447276 131.78396875\n",
      " 181.68785128 165.86232361 162.89959509 155.76490717 114.81361128\n",
      " 165.61915273 153.00306822 148.79962636 157.47296446 188.82450076\n",
      " 170.89876503 162.33671258 150.57042134 174.35651208 162.82243658\n",
      " 128.16348731 166.54284413 150.78480134 174.20457842 184.52470839\n",
      " 152.15545091 179.08432526 156.83631256 107.90660487 130.8373223\n",
      " 122.03813432 183.95118    154.46303815 173.11606017 160.36400383\n",
      " 187.32919998 148.14459223 165.79635025 142.51147436 200.20507281\n",
      " 165.92839425 156.31060125 163.4970594  171.02530483 189.15156478\n",
      " 151.73268386 147.51542001 130.59452721 130.84190068 162.1752571\n",
      " 141.72570406 185.94907293 130.82126002 140.04197961 141.25863079\n",
      " 173.14073605 163.11993806 153.49890275 177.86830967 176.2540756\n",
      " 155.74844843 157.29578296 173.9286257  174.85768299 177.56585346\n",
      " 131.04994142 155.90174473 142.15742201 196.50806277 163.37239091\n",
      " 199.56197109 162.95274765 184.68012116 157.82413569 162.92233458\n",
      " 173.0241527  173.05064626 184.22916823 158.96386328 153.14362835\n",
      " 134.23026862 179.52661346 138.51941815 176.16760779 141.23512684\n",
      " 130.54520484 173.90162546 169.81522763 142.77401359 193.74790003\n",
      " 145.56152615 126.70443672 170.88864703 123.32542521 173.95563147\n",
      " 183.25386275 200.69096009 159.63905971 141.70888622 163.21368428]\n"
     ]
    }
   ],
   "source": [
    "tamanho_amostra = 100\n",
    "amostra = recupera_amostra(populacao, tamanho_amostra)\n",
    "print(amostra)"
   ]
  },
  {
   "cell_type": "code",
   "execution_count": 8,
   "metadata": {},
   "outputs": [
    {
     "data": {
      "image/png": "[encoded data removed]",
      "text/plain": [
       "<Figure size 1008x432 with 1 Axes>"
      ]
     },
     "metadata": {
      "needs_background": "light"
     },
     "output_type": "display_data"
    }
   ],
   "source": [
    "fig, axs = plt.subplots(1, 1, figsize=(14,6))\n",
    "\n",
    "axs.hist(amostra, density=True, facecolor='g', alpha=0.75, bins=50)\n",
    "axs.grid(True)\n",
    "axs.set_title('Histograma de alturas da amostra')\n",
    "\n",
    "plt.show()"
   ]
  },
  {
   "cell_type": "code",
   "execution_count": 9,
   "metadata": {},
   "outputs": [
    {
     "ename": "SyntaxError",
     "evalue": "invalid syntax (<ipython-input-9-01aaba196e36>, line 15)",
     "output_type": "error",
     "traceback": [
      "\u001b[0;36m  File \u001b[0;32m\"<ipython-input-9-01aaba196e36>\"\u001b[0;36m, line \u001b[0;32m15\u001b[0m\n\u001b[0;31m    desvio_amostra/np.sqrt(tamanho_amostra)\u001b[0m\n\u001b[0m                 ^\u001b[0m\n\u001b[0;31mSyntaxError\u001b[0m\u001b[0;31m:\u001b[0m invalid syntax\n"
     ]
    }
   ],
   "source": [
    "\n",
    "\n",
    "#Dada uma amostra de 100 elementos, calcule a média da altura da populacao considerando confiança de 93%\n",
    "tamanho_amostra = 100\n",
    "confianca = 0,93\n",
    "\n",
    "#1-Calcule a média da amostra ex. media_amostra = np.mean(amostra)\n",
    "media_amostra = np.mean(amostra)\n",
    "\n",
    "#2-Calcule o desvio da amostra ex. desvio_amostra = np.std(amostra)\n",
    "desvio_amostra = np.std(amostra)\n",
    "\n",
    "#3-Calcule quantos desvios precisará para seu grau de confiânça ex. numero_desvios = calcula_numero_desvios_tstudent_para_confianca(confiança, tamanho_amostra)\n",
    "numero_desvios = calcula_numero_desvios_tstudent_para_confianca(confiança, tamanho_amostra\n",
    "\n",
    "#4-Calcule o desvio das amostras ex. desvio_amostras = desvio_amostra/np.sqrt(tamanho_amostra)\n",
    "desvio_amostra/np.sqrt(tamanho_amostra)\n",
    "\n",
    "#5-Calcule a margem de erro ex. margem_erro = numero_desvios*desvio_amostras\n",
    "margem_erro = numero_desvios*desvio_amostras\n",
    "\n",
    "#6-Calcule o intervalo ex. inferior = media_amostra-margem_erro, superior = media_amostra+margem_erro\n",
    "inferior = media_amostra-margem_erro\n",
    "superior = media_amostra+margem_erro\n",
    "\n",
    "print('A média da população estará entre {} e {}'.format(inferior, superior, confianca))"
   ]
  },
  {
   "cell_type": "code",
   "execution_count": 10,
   "metadata": {},
   "outputs": [],
   "source": [
    "# Obtenha uma amostra de 1000 elementos e calcule a média da altura da populacao considerando confiança de 80%"
   ]
  },
  {
   "cell_type": "code",
   "execution_count": 11,
   "metadata": {},
   "outputs": [
    {
     "ename": "SyntaxError",
     "evalue": "invalid syntax (<ipython-input-11-150300f11255>, line 2)",
     "output_type": "error",
     "traceback": [
      "\u001b[0;36m  File \u001b[0;32m\"<ipython-input-11-150300f11255>\"\u001b[0;36m, line \u001b[0;32m2\u001b[0m\n\u001b[0;31m    amostra = recuperar_amostra(populacao, tamanho amostra)\u001b[0m\n\u001b[0m                                                         ^\u001b[0m\n\u001b[0;31mSyntaxError\u001b[0m\u001b[0;31m:\u001b[0m invalid syntax\n"
     ]
    }
   ],
   "source": [
    "tamanho_amostra = 1000\n",
    "amostra = recuperar_amostra(populacao, tamanho amostra)\n",
    "confianca=0,8\n",
    "print('A média da população estará entre {} e {}'.format(superior, inferior, confianca))"
   ]
  },
  {
   "cell_type": "code",
   "execution_count": 12,
   "metadata": {},
   "outputs": [],
   "source": [
    "# Obtenha uma amostra de 100 elementos e calcule a média da altura da populacao considerando confiança de 99%"
   ]
  },
  {
   "cell_type": "code",
   "execution_count": 13,
   "metadata": {},
   "outputs": [
    {
     "ename": "NameError",
     "evalue": "name 'media_amostra' is not defined",
     "output_type": "error",
     "traceback": [
      "\u001b[0;31m---------------------------------------------------------------------------\u001b[0m",
      "\u001b[0;31mNameError\u001b[0m                                 Traceback (most recent call last)",
      "\u001b[0;32m<ipython-input-13-38f6191e0872>\u001b[0m in \u001b[0;36m<module>\u001b[0;34m\u001b[0m\n\u001b[1;32m      1\u001b[0m \u001b[0mtamanho_amostra\u001b[0m \u001b[0;34m=\u001b[0m \u001b[0;36m100\u001b[0m\u001b[0;34m\u001b[0m\u001b[0m\n\u001b[0;32m----> 2\u001b[0;31m \u001b[0mmedia_amostra\u001b[0m\u001b[0;34m\u001b[0m\u001b[0m\n\u001b[0m",
      "\u001b[0;31mNameError\u001b[0m: name 'media_amostra' is not defined"
     ]
    }
   ],
   "source": [
    "tamanho_amostra = 100\n",
    "media_amostra"
   ]
  }
 ],
 "metadata": {
  "kernelspec": {
   "display_name": "Python 3",
   "language": "python",
   "name": "python3"
  },
  "language_info": {
   "codemirror_mode": {
    "name": "ipython",
    "version": 3
   },
   "file_extension": ".py",
   "mimetype": "text/x-python",
   "name": "python",
   "nbconvert_exporter": "python",
   "pygments_lexer": "ipython3",
   "version": "3.6.6"
  }
 },
 "nbformat": 4,
 "nbformat_minor": 1
}
