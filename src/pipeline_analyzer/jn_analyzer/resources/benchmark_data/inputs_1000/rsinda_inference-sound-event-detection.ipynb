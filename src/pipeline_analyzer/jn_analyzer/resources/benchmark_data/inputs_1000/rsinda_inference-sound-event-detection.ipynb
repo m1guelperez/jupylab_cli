{
 "cells": [
  {
   "cell_type": "code",
   "execution_count": 1,
   "metadata": {
    "_kg_hide-input": true,
    "execution": {
     "iopub.execute_input": "2020-09-16T06:00:03.282250Z",
     "iopub.status.busy": "2020-09-16T06:00:03.281522Z",
     "iopub.status.idle": "2020-09-16T06:00:16.147706Z",
     "shell.execute_reply": "2020-09-16T06:00:16.143885Z"
    },
    "papermill": {
     "duration": 12.920487,
     "end_time": "2020-09-16T06:00:16.147843",
     "exception": false,
     "start_time": "2020-09-16T06:00:03.227356",
     "status": "completed"
    },
    "tags": []
   },
   "outputs": [
    {
     "name": "stderr",
     "output_type": "stream",
     "text": [
      "\u001b[34m\u001b[1mwandb\u001b[0m: \u001b[33mWARNING\u001b[0m W&B installed but not logged in.  Run `wandb login` or set the WANDB_API_KEY env variable.\n",
      "/opt/conda/lib/python3.7/site-packages/tqdm/std.py:666: FutureWarning: The Panel class is removed from pandas. Accessing it from the top-level namespace will also be removed in the next version\n",
      "  from pandas import Panel\n"
     ]
    }
   ],
   "source": [
    "import cv2\n",
    "import audioread\n",
    "import logging\n",
    "import os\n",
    "import random\n",
    "import time\n",
    "import warnings\n",
    "\n",
    "import librosa\n",
    "import librosa.display as display\n",
    "import numpy as np\n",
    "import pandas as pd\n",
    "import soundfile as sf\n",
    "import torch\n",
    "import torch.nn as nn\n",
    "import torch.nn.functional as F\n",
    "import torch.optim as optim\n",
    "import torch.utils.data as data\n",
    "\n",
    "from contextlib import contextmanager\n",
    "from IPython.display import Audio\n",
    "from pathlib import Path\n",
    "from typing import Optional, List\n",
    "\n",
    "from catalyst.dl import SupervisedRunner, State, CallbackOrder, Callback, CheckpointCallback\n",
    "from fastprogress import progress_bar\n",
    "from sklearn.model_selection import StratifiedKFold\n",
    "from sklearn.metrics import f1_score, average_precision_score"
   ]
  },
  {
   "cell_type": "code",
   "execution_count": 2,
   "metadata": {
    "_cell_guid": "b1076dfc-b9ad-4769-8c92-a6c4dae69d19",
    "_kg_hide-input": true,
    "_uuid": "8f2839f25d086af736a60e9eeb907d3b93b6e0e5",
    "execution": {
     "iopub.execute_input": "2020-09-16T06:00:16.254581Z",
     "iopub.status.busy": "2020-09-16T06:00:16.253617Z",
     "iopub.status.idle": "2020-09-16T06:00:16.261379Z",
     "shell.execute_reply": "2020-09-16T06:00:16.260717Z"
    },
    "papermill": {
     "duration": 0.06563,
     "end_time": "2020-09-16T06:00:16.261486",
     "exception": false,
     "start_time": "2020-09-16T06:00:16.195856",
     "status": "completed"
    },
    "tags": []
   },
   "outputs": [],
   "source": [
    "def set_seed(seed: int = 42):\n",
    "    random.seed(seed)\n",
    "    np.random.seed(seed)\n",
    "    os.environ[\"PYTHONHASHSEED\"] = str(seed)\n",
    "    torch.manual_seed(seed)\n",
    "    torch.cuda.manual_seed(seed)  # type: ignore\n",
    "    torch.backends.cudnn.deterministic = True  # type: ignore\n",
    "    torch.backends.cudnn.benchmark = True  # type: ignore\n",
    "    \n",
    "    \n",
    "def get_logger(out_file=None):\n",
    "    logger = logging.getLogger()\n",
    "    formatter = logging.Formatter(\"%(asctime)s - %(levelname)s - %(message)s\")\n",
    "    logger.handlers = []\n",
    "    logger.setLevel(logging.INFO)\n",
    "\n",
    "    handler = logging.StreamHandler()\n",
    "    handler.setFormatter(formatter)\n",
    "    handler.setLevel(logging.INFO)\n",
    "    logger.addHandler(handler)\n",
    "\n",
    "    if out_file is not None:\n",
    "        fh = logging.FileHandler(out_file)\n",
    "        fh.setFormatter(formatter)\n",
    "        fh.setLevel(logging.INFO)\n",
    "        logger.addHandler(fh)\n",
    "    logger.info(\"logger set up\")\n",
    "    return logger\n",
    "    \n",
    "    \n",
    "@contextmanager\n",
    "def timer(name: str, logger: Optional[logging.Logger] = None):\n",
    "    t0 = time.time()\n",
    "    msg = f\"[{name}] start\"\n",
    "    if logger is None:\n",
    "        print(msg)\n",
    "    else:\n",
    "        logger.info(msg)\n",
    "    yield\n",
    "\n",
    "    msg = f\"[{name}] done in {time.time() - t0:.2f} s\"\n",
    "    if logger is None:\n",
    "        print(msg)\n",
    "    else:\n",
    "        logger.info(msg)\n",
    "    \n",
    "    \n",
    "set_seed(1213)"
   ]
  },
  {
   "cell_type": "code",
   "execution_count": 3,
   "metadata": {
    "_cell_guid": "79c7e3d0-c299-4dcb-8224-4455121ee9b0",
    "_kg_hide-input": true,
    "_uuid": "d629ff2d2480ee46fbb7e2d37f6b5fab8052498a",
    "execution": {
     "iopub.execute_input": "2020-09-16T06:00:16.355064Z",
     "iopub.status.busy": "2020-09-16T06:00:16.354419Z",
     "iopub.status.idle": "2020-09-16T06:00:16.358557Z",
     "shell.execute_reply": "2020-09-16T06:00:16.358018Z"
    },
    "papermill": {
     "duration": 0.052839,
     "end_time": "2020-09-16T06:00:16.358651",
     "exception": false,
     "start_time": "2020-09-16T06:00:16.305812",
     "status": "completed"
    },
    "tags": []
   },
   "outputs": [],
   "source": [
    "ROOT = Path.cwd().parent\n",
    "INPUT_ROOT = ROOT / \"input\"\n",
    "RAW_DATA = INPUT_ROOT / \"birdsong-recognition\"\n",
    "TRAIN_AUDIO_DIR = RAW_DATA / \"train_audio\"\n",
    "TRAIN_RESAMPLED_AUDIO_DIRS = [\n",
    "  INPUT_ROOT / \"birdsong-resampled-train-audio-{:0>2}\".format(i)  for i in range(5)\n",
    "]\n",
    "TEST_AUDIO_DIR = RAW_DATA / \"test_audio\""
   ]
  },
  {
   "cell_type": "code",
   "execution_count": 4,
   "metadata": {
    "_kg_hide-input": true,
    "execution": {
     "iopub.execute_input": "2020-09-16T06:00:16.454871Z",
     "iopub.status.busy": "2020-09-16T06:00:16.453565Z",
     "iopub.status.idle": "2020-09-16T06:00:16.744891Z",
     "shell.execute_reply": "2020-09-16T06:00:16.744044Z"
    },
    "papermill": {
     "duration": 0.342093,
     "end_time": "2020-09-16T06:00:16.745115",
     "exception": false,
     "start_time": "2020-09-16T06:00:16.403022",
     "status": "completed"
    },
    "tags": []
   },
   "outputs": [],
   "source": [
    "train = pd.read_csv(TRAIN_RESAMPLED_AUDIO_DIRS[0] / \"train_mod.csv\")\n",
    "\n",
    "if not TEST_AUDIO_DIR.exists():\n",
    "    TEST_AUDIO_DIR = INPUT_ROOT / \"birdcall-check\" / \"test_audio\"\n",
    "    test = pd.read_csv(INPUT_ROOT / \"birdcall-check\" / \"test.csv\")\n",
    "else:\n",
    "    test = pd.read_csv(RAW_DATA / \"test.csv\")"
   ]
  },
  {
   "cell_type": "markdown",
   "metadata": {
    "papermill": {
     "duration": 0.042997,
     "end_time": "2020-09-16T06:00:16.843459",
     "exception": false,
     "start_time": "2020-09-16T06:00:16.800462",
     "status": "completed"
    },
    "tags": []
   },
   "source": [
    "### torchlibrosa\n",
    "\n",
    "\n",
    "In PANNs, `torchlibrosa`, a PyTorch based implementation are used to replace some of the `librosa`'s functions. Here I use some functions of `torchlibrosa`.\n",
    "\n",
    "Ref: https://github.com/qiuqiangkong/torchlibrosa"
   ]
  },
  {
   "cell_type": "markdown",
   "metadata": {
    "papermill": {
     "duration": 0.042813,
     "end_time": "2020-09-16T06:00:16.929939",
     "exception": false,
     "start_time": "2020-09-16T06:00:16.887126",
     "status": "completed"
    },
    "tags": []
   },
   "source": [
    "#### LICENSE\n",
    "\n",
    "```\n",
    "ISC License\n",
    "Copyright (c) 2013--2017, librosa development team.\n",
    "\n",
    "Permission to use, copy, modify, and/or distribute this software for any purpose with or without fee is hereby granted, provided that the above copyright notice and this permission notice appear in all copies.\n",
    "\n",
    "THE SOFTWARE IS PROVIDED \"AS IS\" AND THE AUTHOR DISCLAIMS ALL WARRANTIES WITH REGARD TO THIS SOFTWARE INCLUDING ALL IMPLIED WARRANTIES OF MERCHANTABILITY AND FITNESS. IN NO EVENT SHALL THE AUTHOR BE LIABLE FOR ANY SPECIAL, DIRECT, INDIRECT, OR CONSEQUENTIAL DAMAGES OR ANY DAMAGES WHATSOEVER RESULTING FROM LOSS OF USE, DATA OR PROFITS, WHETHER IN AN ACTION OF CONTRACT, NEGLIGENCE OR OTHER TORTIOUS ACTION, ARISING OUT OF OR IN CONNECTION WITH THE USE OR PERFORMANCE OF THIS SOFTWARE.\n",
    "```"
   ]
  },
  {
   "cell_type": "code",
   "execution_count": 5,
   "metadata": {
    "_kg_hide-input": true,
    "execution": {
     "iopub.execute_input": "2020-09-16T06:00:17.046029Z",
     "iopub.status.busy": "2020-09-16T06:00:17.030379Z",
     "iopub.status.idle": "2020-09-16T06:00:17.068403Z",
     "shell.execute_reply": "2020-09-16T06:00:17.067552Z"
    },
    "papermill": {
     "duration": 0.095682,
     "end_time": "2020-09-16T06:00:17.068502",
     "exception": false,
     "start_time": "2020-09-16T06:00:16.972820",
     "status": "completed"
    },
    "tags": []
   },
   "outputs": [],
   "source": [
    "class DFTBase(nn.Module):\n",
    "    def __init__(self):\n",
    "        \"\"\"Base class for DFT and IDFT matrix\"\"\"\n",
    "        super(DFTBase, self).__init__()\n",
    "\n",
    "    def dft_matrix(self, n):\n",
    "        (x, y) = np.meshgrid(np.arange(n), np.arange(n))\n",
    "        omega = np.exp(-2 * np.pi * 1j / n)\n",
    "        W = np.power(omega, x * y)\n",
    "        return W\n",
    "\n",
    "    def idft_matrix(self, n):\n",
    "        (x, y) = np.meshgrid(np.arange(n), np.arange(n))\n",
    "        omega = np.exp(2 * np.pi * 1j / n)\n",
    "        W = np.power(omega, x * y)\n",
    "        return W\n",
    "    \n",
    "    \n",
    "class STFT(DFTBase):\n",
    "    def __init__(self, n_fft=2048, hop_length=None, win_length=None, \n",
    "        window='hann', center=True, pad_mode='reflect', freeze_parameters=True):\n",
    "        \"\"\"Implementation of STFT with Conv1d. The function has the same output \n",
    "        of librosa.core.stft\n",
    "        \"\"\"\n",
    "        super(STFT, self).__init__()\n",
    "\n",
    "        assert pad_mode in ['constant', 'reflect']\n",
    "\n",
    "        self.n_fft = n_fft\n",
    "        self.center = center\n",
    "        self.pad_mode = pad_mode\n",
    "\n",
    "        # By default, use the entire frame\n",
    "        if win_length is None:\n",
    "            win_length = n_fft\n",
    "\n",
    "        # Set the default hop, if it's not already specified\n",
    "        if hop_length is None:\n",
    "            hop_length = int(win_length // 4)\n",
    "\n",
    "        fft_window = librosa.filters.get_window(window, win_length, fftbins=True)\n",
    "\n",
    "        # Pad the window out to n_fft size\n",
    "        fft_window = librosa.util.pad_center(fft_window, n_fft)\n",
    "\n",
    "        # DFT & IDFT matrix\n",
    "        self.W = self.dft_matrix(n_fft)\n",
    "\n",
    "        out_channels = n_fft // 2 + 1\n",
    "\n",
    "        self.conv_real = nn.Conv1d(in_channels=1, out_channels=out_channels, \n",
    "            kernel_size=n_fft, stride=hop_length, padding=0, dilation=1, \n",
    "            groups=1, bias=False)\n",
    "\n",
    "        self.conv_imag = nn.Conv1d(in_channels=1, out_channels=out_channels, \n",
    "            kernel_size=n_fft, stride=hop_length, padding=0, dilation=1, \n",
    "            groups=1, bias=False)\n",
    "\n",
    "        self.conv_real.weight.data = torch.Tensor(\n",
    "            np.real(self.W[:, 0 : out_channels] * fft_window[:, None]).T)[:, None, :]\n",
    "        # (n_fft // 2 + 1, 1, n_fft)\n",
    "\n",
    "        self.conv_imag.weight.data = torch.Tensor(\n",
    "            np.imag(self.W[:, 0 : out_channels] * fft_window[:, None]).T)[:, None, :]\n",
    "        # (n_fft // 2 + 1, 1, n_fft)\n",
    "\n",
    "        if freeze_parameters:\n",
    "            for param in self.parameters():\n",
    "                param.requires_grad = False\n",
    "\n",
    "    def forward(self, input):\n",
    "        \"\"\"input: (batch_size, data_length)\n",
    "        Returns:\n",
    "          real: (batch_size, n_fft // 2 + 1, time_steps)\n",
    "          imag: (batch_size, n_fft // 2 + 1, time_steps)\n",
    "        \"\"\"\n",
    "\n",
    "        x = input[:, None, :]   # (batch_size, channels_num, data_length)\n",
    "\n",
    "        if self.center:\n",
    "            x = F.pad(x, pad=(self.n_fft // 2, self.n_fft // 2), mode=self.pad_mode)\n",
    "\n",
    "        real = self.conv_real(x)\n",
    "        imag = self.conv_imag(x)\n",
    "        # (batch_size, n_fft // 2 + 1, time_steps)\n",
    "\n",
    "        real = real[:, None, :, :].transpose(2, 3)\n",
    "        imag = imag[:, None, :, :].transpose(2, 3)\n",
    "        # (batch_size, 1, time_steps, n_fft // 2 + 1)\n",
    "\n",
    "        return real, imag\n",
    "    \n",
    "    \n",
    "class Spectrogram(nn.Module):\n",
    "    def __init__(self, n_fft=2048, hop_length=None, win_length=None, \n",
    "        window='hann', center=True, pad_mode='reflect', power=2.0, \n",
    "        freeze_parameters=True):\n",
    "        \"\"\"Calculate spectrogram using pytorch. The STFT is implemented with \n",
    "        Conv1d. The function has the same output of librosa.core.stft\n",
    "        \"\"\"\n",
    "        super(Spectrogram, self).__init__()\n",
    "\n",
    "        self.power = power\n",
    "\n",
    "        self.stft = STFT(n_fft=n_fft, hop_length=hop_length, \n",
    "            win_length=win_length, window=window, center=center, \n",
    "            pad_mode=pad_mode, freeze_parameters=True)\n",
    "\n",
    "    def forward(self, input):\n",
    "        \"\"\"input: (batch_size, 1, time_steps, n_fft // 2 + 1)\n",
    "        Returns:\n",
    "          spectrogram: (batch_size, 1, time_steps, n_fft // 2 + 1)\n",
    "        \"\"\"\n",
    "\n",
    "        (real, imag) = self.stft.forward(input)\n",
    "        # (batch_size, n_fft // 2 + 1, time_steps)\n",
    "\n",
    "        spectrogram = real ** 2 + imag ** 2\n",
    "\n",
    "        if self.power == 2.0:\n",
    "            pass\n",
    "        else:\n",
    "            spectrogram = spectrogram ** (power / 2.0)\n",
    "\n",
    "        return spectrogram\n",
    "\n",
    "    \n",
    "class LogmelFilterBank(nn.Module):\n",
    "    def __init__(self, sr=32000, n_fft=2048, n_mels=64, fmin=50, fmax=14000, is_log=True, \n",
    "        ref=1.0, amin=1e-10, top_db=80.0, freeze_parameters=True):\n",
    "        \"\"\"Calculate logmel spectrogram using pytorch. The mel filter bank is \n",
    "        the pytorch implementation of as librosa.filters.mel \n",
    "        \"\"\"\n",
    "        super(LogmelFilterBank, self).__init__()\n",
    "\n",
    "        self.is_log = is_log\n",
    "        self.ref = ref\n",
    "        self.amin = amin\n",
    "        self.top_db = top_db\n",
    "\n",
    "        self.melW = librosa.filters.mel(sr=sr, n_fft=n_fft, n_mels=n_mels,\n",
    "            fmin=fmin, fmax=fmax).T\n",
    "        # (n_fft // 2 + 1, mel_bins)\n",
    "\n",
    "        self.melW = nn.Parameter(torch.Tensor(self.melW))\n",
    "\n",
    "        if freeze_parameters:\n",
    "            for param in self.parameters():\n",
    "                param.requires_grad = False\n",
    "\n",
    "    def forward(self, input):\n",
    "        \"\"\"input: (batch_size, channels, time_steps)\n",
    "        \n",
    "        Output: (batch_size, time_steps, mel_bins)\n",
    "        \"\"\"\n",
    "\n",
    "        # Mel spectrogram\n",
    "        mel_spectrogram = torch.matmul(input, self.melW)\n",
    "\n",
    "        # Logmel spectrogram\n",
    "        if self.is_log:\n",
    "            output = self.power_to_db(mel_spectrogram)\n",
    "        else:\n",
    "            output = mel_spectrogram\n",
    "\n",
    "        return output\n",
    "\n",
    "\n",
    "    def power_to_db(self, input):\n",
    "        \"\"\"Power to db, this function is the pytorch implementation of \n",
    "        librosa.core.power_to_lb\n",
    "        \"\"\"\n",
    "        ref_value = self.ref\n",
    "        log_spec = 10.0 * torch.log10(torch.clamp(input, min=self.amin, max=np.inf))\n",
    "        log_spec -= 10.0 * np.log10(np.maximum(self.amin, ref_value))\n",
    "\n",
    "        if self.top_db is not None:\n",
    "            if self.top_db < 0:\n",
    "                raise ParameterError('top_db must be non-negative')\n",
    "            log_spec = torch.clamp(log_spec, min=log_spec.max().item() - self.top_db, max=np.inf)\n",
    "\n",
    "        return log_spec"
   ]
  },
  {
   "cell_type": "code",
   "execution_count": 6,
   "metadata": {
    "_kg_hide-input": true,
    "execution": {
     "iopub.execute_input": "2020-09-16T06:00:17.190451Z",
     "iopub.status.busy": "2020-09-16T06:00:17.189437Z",
     "iopub.status.idle": "2020-09-16T06:00:17.193803Z",
     "shell.execute_reply": "2020-09-16T06:00:17.193235Z"
    },
    "papermill": {
     "duration": 0.081865,
     "end_time": "2020-09-16T06:00:17.193896",
     "exception": false,
     "start_time": "2020-09-16T06:00:17.112031",
     "status": "completed"
    },
    "tags": []
   },
   "outputs": [],
   "source": [
    "class DropStripes(nn.Module):\n",
    "    def __init__(self, dim, drop_width, stripes_num):\n",
    "        \"\"\"Drop stripes. \n",
    "        Args:\n",
    "          dim: int, dimension along which to drop\n",
    "          drop_width: int, maximum width of stripes to drop\n",
    "          stripes_num: int, how many stripes to drop\n",
    "        \"\"\"\n",
    "        super(DropStripes, self).__init__()\n",
    "\n",
    "        assert dim in [2, 3]    # dim 2: time; dim 3: frequency\n",
    "\n",
    "        self.dim = dim\n",
    "        self.drop_width = drop_width\n",
    "        self.stripes_num = stripes_num\n",
    "\n",
    "    def forward(self, input):\n",
    "        \"\"\"input: (batch_size, channels, time_steps, freq_bins)\"\"\"\n",
    "\n",
    "        assert input.ndimension() == 4\n",
    "\n",
    "        if self.training is False:\n",
    "            return input\n",
    "\n",
    "        else:\n",
    "            batch_size = input.shape[0]\n",
    "            total_width = input.shape[self.dim]\n",
    "\n",
    "            for n in range(batch_size):\n",
    "                self.transform_slice(input[n], total_width)\n",
    "\n",
    "            return input\n",
    "\n",
    "\n",
    "    def transform_slice(self, e, total_width):\n",
    "        \"\"\"e: (channels, time_steps, freq_bins)\"\"\"\n",
    "\n",
    "        for _ in range(self.stripes_num):\n",
    "            distance = torch.randint(low=0, high=self.drop_width, size=(1,))[0]\n",
    "            bgn = torch.randint(low=0, high=total_width - distance, size=(1,))[0]\n",
    "\n",
    "            if self.dim == 2:\n",
    "                e[:, bgn : bgn + distance, :] = 0\n",
    "            elif self.dim == 3:\n",
    "                e[:, :, bgn : bgn + distance] = 0\n",
    "\n",
    "\n",
    "class SpecAugmentation(nn.Module):\n",
    "    def __init__(self, time_drop_width, time_stripes_num, freq_drop_width, \n",
    "        freq_stripes_num):\n",
    "        \"\"\"Spec augmetation. \n",
    "        [ref] Park, D.S., Chan, W., Zhang, Y., Chiu, C.C., Zoph, B., Cubuk, E.D. \n",
    "        and Le, Q.V., 2019. Specaugment: A simple data augmentation method \n",
    "        for automatic speech recognition. arXiv preprint arXiv:1904.08779.\n",
    "        Args:\n",
    "          time_drop_width: int\n",
    "          time_stripes_num: int\n",
    "          freq_drop_width: int\n",
    "          freq_stripes_num: int\n",
    "        \"\"\"\n",
    "\n",
    "        super(SpecAugmentation, self).__init__()\n",
    "\n",
    "        self.time_dropper = DropStripes(dim=2, drop_width=time_drop_width, \n",
    "            stripes_num=time_stripes_num)\n",
    "\n",
    "        self.freq_dropper = DropStripes(dim=3, drop_width=freq_drop_width, \n",
    "            stripes_num=freq_stripes_num)\n",
    "\n",
    "    def forward(self, input):\n",
    "        x = self.time_dropper(input)\n",
    "        x = self.freq_dropper(x)\n",
    "        return x"
   ]
  },
  {
   "cell_type": "markdown",
   "metadata": {
    "papermill": {
     "duration": 0.042029,
     "end_time": "2020-09-16T06:00:17.278693",
     "exception": false,
     "start_time": "2020-09-16T06:00:17.236664",
     "status": "completed"
    },
    "tags": []
   },
   "source": [
    "### audioset_tagging_cnn\n",
    "\n",
    "I also use `Cnn14_DecisionLevelAtt` model from [PANNs models](https://github.com/qiuqiangkong/audioset_tagging_cnn/blob/master/pytorch/models.py), which is a SED model."
   ]
  },
  {
   "cell_type": "markdown",
   "metadata": {
    "papermill": {
     "duration": 0.042081,
     "end_time": "2020-09-16T06:00:17.363774",
     "exception": false,
     "start_time": "2020-09-16T06:00:17.321693",
     "status": "completed"
    },
    "tags": []
   },
   "source": [
    "#### LICENSE\n",
    "\n",
    "```\n",
    "The MIT License\n",
    "  \n",
    "Copyright (c) 2010-2017 Google, Inc. http://angularjs.org\n",
    "\n",
    "Permission is hereby granted, free of charge, to any person obtaining a copy\n",
    "of this software and associated documentation files (the \"Software\"), to deal\n",
    "in the Software without restriction, including without limitation the rights\n",
    "to use, copy, modify, merge, publish, distribute, sublicense, and/or sell\n",
    "copies of the Software, and to permit persons to whom the Software is\n",
    "furnished to do so, subject to the following conditions:\n",
    "\n",
    "The above copyright notice and this permission notice shall be included in\n",
    "all copies or substantial portions of the Software.\n",
    "\n",
    "THE SOFTWARE IS PROVIDED \"AS IS\", WITHOUT WARRANTY OF ANY KIND, EXPRESS OR\n",
    "IMPLIED, INCLUDING BUT NOT LIMITED TO THE WARRANTIES OF MERCHANTABILITY,\n",
    "FITNESS FOR A PARTICULAR PURPOSE AND NONINFRINGEMENT. IN NO EVENT SHALL THE\n",
    "AUTHORS OR COPYRIGHT HOLDERS BE LIABLE FOR ANY CLAIM, DAMAGES OR OTHER\n",
    "LIABILITY, WHETHER IN AN ACTION OF CONTRACT, TORT OR OTHERWISE, ARISING FROM,\n",
    "OUT OF OR IN CONNECTION WITH THE SOFTWARE OR THE USE OR OTHER DEALINGS IN\n",
    "THE SOFTWARE.\n",
    "```"
   ]
  },
  {
   "cell_type": "markdown",
   "metadata": {
    "papermill": {
     "duration": 0.043576,
     "end_time": "2020-09-16T06:00:17.450271",
     "exception": false,
     "start_time": "2020-09-16T06:00:17.406695",
     "status": "completed"
    },
    "tags": []
   },
   "source": [
    "### Building blocks"
   ]
  },
  {
   "cell_type": "code",
   "execution_count": 7,
   "metadata": {
    "execution": {
     "iopub.execute_input": "2020-09-16T06:00:17.560184Z",
     "iopub.status.busy": "2020-09-16T06:00:17.549528Z",
     "iopub.status.idle": "2020-09-16T06:00:17.573894Z",
     "shell.execute_reply": "2020-09-16T06:00:17.573429Z"
    },
    "papermill": {
     "duration": 0.080624,
     "end_time": "2020-09-16T06:00:17.574005",
     "exception": false,
     "start_time": "2020-09-16T06:00:17.493381",
     "status": "completed"
    },
    "tags": []
   },
   "outputs": [],
   "source": [
    "def init_layer(layer):\n",
    "    nn.init.xavier_uniform_(layer.weight)\n",
    "\n",
    "    if hasattr(layer, \"bias\"):\n",
    "        if layer.bias is not None:\n",
    "            layer.bias.data.fill_(0.)\n",
    "\n",
    "\n",
    "def init_bn(bn):\n",
    "    bn.bias.data.fill_(0.)\n",
    "    bn.weight.data.fill_(1.0)\n",
    "\n",
    "\n",
    "def interpolate(x: torch.Tensor, ratio: int):\n",
    "    \"\"\"Interpolate data in time domain. This is used to compensate the\n",
    "    resolution reduction in downsampling of a CNN.\n",
    "\n",
    "    Args:\n",
    "      x: (batch_size, time_steps, classes_num)\n",
    "      ratio: int, ratio to interpolate\n",
    "    Returns:\n",
    "      upsampled: (batch_size, time_steps * ratio, classes_num)\n",
    "    \"\"\"\n",
    "    (batch_size, time_steps, classes_num) = x.shape\n",
    "    upsampled = x[:, :, None, :].repeat(1, 1, ratio, 1)\n",
    "    upsampled = upsampled.reshape(batch_size, time_steps * ratio, classes_num)\n",
    "    return upsampled\n",
    "\n",
    "\n",
    "def pad_framewise_output(framewise_output: torch.Tensor, frames_num: int):\n",
    "    \"\"\"Pad framewise_output to the same length as input frames. The pad value\n",
    "    is the same as the value of the last frame.\n",
    "    Args:\n",
    "      framewise_output: (batch_size, frames_num, classes_num)\n",
    "      frames_num: int, number of frames to pad\n",
    "    Outputs:\n",
    "      output: (batch_size, frames_num, classes_num)\n",
    "    \"\"\"\n",
    "    pad = framewise_output[:, -1:, :].repeat(\n",
    "        1, frames_num - framewise_output.shape[1], 1)\n",
    "    \"\"\"tensor for padding\"\"\"\n",
    "\n",
    "    output = torch.cat((framewise_output, pad), dim=1)\n",
    "    \"\"\"(batch_size, frames_num, classes_num)\"\"\"\n",
    "\n",
    "    return output\n",
    "\n",
    "\n",
    "class ConvBlock(nn.Module):\n",
    "    def __init__(self, in_channels: int, out_channels: int):\n",
    "        super().__init__()\n",
    "\n",
    "        self.conv1 = nn.Conv2d(\n",
    "            in_channels=in_channels,\n",
    "            out_channels=out_channels,\n",
    "            kernel_size=(3, 3),\n",
    "            stride=(1, 1),\n",
    "            padding=(1, 1),\n",
    "            bias=False)\n",
    "\n",
    "        self.conv2 = nn.Conv2d(\n",
    "            in_channels=out_channels,\n",
    "            out_channels=out_channels,\n",
    "            kernel_size=(3, 3),\n",
    "            stride=(1, 1),\n",
    "            padding=(1, 1),\n",
    "            bias=False)\n",
    "\n",
    "        self.bn1 = nn.BatchNorm2d(out_channels)\n",
    "        self.bn2 = nn.BatchNorm2d(out_channels)\n",
    "\n",
    "        self.init_weight()\n",
    "\n",
    "    def init_weight(self):\n",
    "        init_layer(self.conv1)\n",
    "        init_layer(self.conv2)\n",
    "        init_bn(self.bn1)\n",
    "        init_bn(self.bn2)\n",
    "\n",
    "    def forward(self, input, pool_size=(2, 2), pool_type='avg'):\n",
    "\n",
    "        x = input\n",
    "        x = F.relu_(self.bn1(self.conv1(x)))\n",
    "        x = F.relu_(self.bn2(self.conv2(x)))\n",
    "        if pool_type == 'max':\n",
    "            x = F.max_pool2d(x, kernel_size=pool_size)\n",
    "        elif pool_type == 'avg':\n",
    "            x = F.avg_pool2d(x, kernel_size=pool_size)\n",
    "        elif pool_type == 'avg+max':\n",
    "            x1 = F.avg_pool2d(x, kernel_size=pool_size)\n",
    "            x2 = F.max_pool2d(x, kernel_size=pool_size)\n",
    "            x = x1 + x2\n",
    "        else:\n",
    "            raise Exception('Incorrect argument!')\n",
    "\n",
    "        return x\n",
    "\n",
    "\n",
    "class AttBlock(nn.Module):\n",
    "    def __init__(self,\n",
    "                 in_features: int,\n",
    "                 out_features: int,\n",
    "                 activation=\"linear\",\n",
    "                 temperature=1.0):\n",
    "        super().__init__()\n",
    "\n",
    "        self.activation = activation\n",
    "        self.temperature = temperature\n",
    "        self.att = nn.Conv1d(\n",
    "            in_channels=in_features,\n",
    "            out_channels=out_features,\n",
    "            kernel_size=1,\n",
    "            stride=1,\n",
    "            padding=0,\n",
    "            bias=True)\n",
    "        self.cla = nn.Conv1d(\n",
    "            in_channels=in_features,\n",
    "            out_channels=out_features,\n",
    "            kernel_size=1,\n",
    "            stride=1,\n",
    "            padding=0,\n",
    "            bias=True)\n",
    "\n",
    "        self.bn_att = nn.BatchNorm1d(out_features)\n",
    "        self.init_weights()\n",
    "\n",
    "    def init_weights(self):\n",
    "        init_layer(self.att)\n",
    "        init_layer(self.cla)\n",
    "        init_bn(self.bn_att)\n",
    "\n",
    "    def forward(self, x):\n",
    "        # x: (n_samples, n_in, n_time)\n",
    "        norm_att = torch.softmax(torch.clamp(self.att(x), -10, 10), dim=-1)\n",
    "        cla = self.nonlinear_transform(self.cla(x))\n",
    "        x = torch.sum(norm_att * cla, dim=2)\n",
    "        return x, norm_att, cla\n",
    "\n",
    "    def nonlinear_transform(self, x):\n",
    "        if self.activation == 'linear':\n",
    "            return x\n",
    "        elif self.activation == 'sigmoid':\n",
    "            return torch.sigmoid(x)"
   ]
  },
  {
   "cell_type": "code",
   "execution_count": 8,
   "metadata": {
    "execution": {
     "iopub.execute_input": "2020-09-16T06:00:17.686962Z",
     "iopub.status.busy": "2020-09-16T06:00:17.665292Z",
     "iopub.status.idle": "2020-09-16T06:00:17.697570Z",
     "shell.execute_reply": "2020-09-16T06:00:17.697107Z"
    },
    "papermill": {
     "duration": 0.081867,
     "end_time": "2020-09-16T06:00:17.697664",
     "exception": false,
     "start_time": "2020-09-16T06:00:17.615797",
     "status": "completed"
    },
    "tags": []
   },
   "outputs": [],
   "source": [
    "class PANNsCNN14Att(nn.Module):\n",
    "    def __init__(self, sample_rate: int, window_size: int, hop_size: int,\n",
    "                 mel_bins: int, fmin: int, fmax: int, classes_num: int):\n",
    "        super().__init__()\n",
    "\n",
    "        window = 'hann'\n",
    "        center = True\n",
    "        pad_mode = 'reflect'\n",
    "        ref = 1.0\n",
    "        amin = 1e-10\n",
    "        top_db = None\n",
    "        self.interpolate_ratio = 32  # Downsampled ratio\n",
    "\n",
    "        # Spectrogram extractor\n",
    "        self.spectrogram_extractor = Spectrogram(\n",
    "            n_fft=window_size,\n",
    "            hop_length=hop_size,\n",
    "            win_length=window_size,\n",
    "            window=window,\n",
    "            center=center,\n",
    "            pad_mode=pad_mode,\n",
    "            freeze_parameters=True)\n",
    "\n",
    "        # Logmel feature extractor\n",
    "        self.logmel_extractor = LogmelFilterBank(\n",
    "            sr=sample_rate,\n",
    "            n_fft=window_size,\n",
    "            n_mels=mel_bins,\n",
    "            fmin=fmin,\n",
    "            fmax=fmax,\n",
    "            ref=ref,\n",
    "            amin=amin,\n",
    "            top_db=top_db,\n",
    "            freeze_parameters=True)\n",
    "\n",
    "        # Spec augmenter\n",
    "        self.spec_augmenter = SpecAugmentation(\n",
    "            time_drop_width=64,\n",
    "            time_stripes_num=2,\n",
    "            freq_drop_width=8,\n",
    "            freq_stripes_num=2)\n",
    "\n",
    "        self.bn0 = nn.BatchNorm2d(mel_bins)\n",
    "\n",
    "        self.conv_block1 = ConvBlock(in_channels=1, out_channels=64)\n",
    "        self.conv_block2 = ConvBlock(in_channels=64, out_channels=128)\n",
    "        self.conv_block3 = ConvBlock(in_channels=128, out_channels=256)\n",
    "        self.conv_block4 = ConvBlock(in_channels=256, out_channels=512)\n",
    "        self.conv_block5 = ConvBlock(in_channels=512, out_channels=1024)\n",
    "        self.conv_block6 = ConvBlock(in_channels=1024, out_channels=2048)\n",
    "\n",
    "        self.fc1 = nn.Linear(2048, 2048, bias=True)\n",
    "        self.att_block = AttBlock(2048, classes_num, activation='sigmoid')\n",
    "\n",
    "        self.init_weight()\n",
    "\n",
    "    def init_weight(self):\n",
    "        init_bn(self.bn0)\n",
    "        init_layer(self.fc1)\n",
    "        \n",
    "    def cnn_feature_extractor(self, x):\n",
    "        x = self.conv_block1(x, pool_size=(2, 2), pool_type='avg')\n",
    "        x = F.dropout(x, p=0.2, training=self.training)\n",
    "        x = self.conv_block2(x, pool_size=(2, 2), pool_type='avg')\n",
    "        x = F.dropout(x, p=0.2, training=self.training)\n",
    "        x = self.conv_block3(x, pool_size=(2, 2), pool_type='avg')\n",
    "        x = F.dropout(x, p=0.2, training=self.training)\n",
    "        x = self.conv_block4(x, pool_size=(2, 2), pool_type='avg')\n",
    "        x = F.dropout(x, p=0.2, training=self.training)\n",
    "        x = self.conv_block5(x, pool_size=(2, 2), pool_type='avg')\n",
    "        x = F.dropout(x, p=0.2, training=self.training)\n",
    "        x = self.conv_block6(x, pool_size=(1, 1), pool_type='avg')\n",
    "        x = F.dropout(x, p=0.2, training=self.training)\n",
    "        return x\n",
    "    \n",
    "    def preprocess(self, input, mixup_lambda=None):\n",
    "        # t1 = time.time()\n",
    "        x = self.spectrogram_extractor(input)  # (batch_size, 1, time_steps, freq_bins)\n",
    "        x = self.logmel_extractor(x)  # (batch_size, 1, time_steps, mel_bins)\n",
    "\n",
    "        frames_num = x.shape[2]\n",
    "\n",
    "        x = x.transpose(1, 3)\n",
    "        x = self.bn0(x)\n",
    "        x = x.transpose(1, 3)\n",
    "\n",
    "        if self.training:\n",
    "            x = self.spec_augmenter(x)\n",
    "\n",
    "        # Mixup on spectrogram\n",
    "        if self.training and mixup_lambda is not None:\n",
    "            x = do_mixup(x, mixup_lambda)\n",
    "        return x, frames_num\n",
    "        \n",
    "\n",
    "    def forward(self, input, mixup_lambda=None):\n",
    "        \"\"\"\n",
    "        Input: (batch_size, data_length)\"\"\"\n",
    "        x, frames_num = self.preprocess(input, mixup_lambda=mixup_lambda)\n",
    "\n",
    "        # Output shape (batch size, channels, time, frequency)\n",
    "        x = self.cnn_feature_extractor(x)\n",
    "        \n",
    "        # Aggregate in frequency axis\n",
    "        x = torch.mean(x, dim=3)\n",
    "\n",
    "        x1 = F.max_pool1d(x, kernel_size=3, stride=1, padding=1)\n",
    "        x2 = F.avg_pool1d(x, kernel_size=3, stride=1, padding=1)\n",
    "        x = x1 + x2\n",
    "\n",
    "        x = F.dropout(x, p=0.5, training=self.training)\n",
    "        x = x.transpose(1, 2)\n",
    "        x = F.relu_(self.fc1(x))\n",
    "        x = x.transpose(1, 2)\n",
    "        x = F.dropout(x, p=0.5, training=self.training)\n",
    "\n",
    "        (clipwise_output, norm_att, segmentwise_output) = self.att_block(x)\n",
    "        segmentwise_output = segmentwise_output.transpose(1, 2)\n",
    "\n",
    "        # Get framewise output\n",
    "        framewise_output = interpolate(segmentwise_output,\n",
    "                                       self.interpolate_ratio)\n",
    "        framewise_output = pad_framewise_output(framewise_output, frames_num)\n",
    "\n",
    "        output_dict = {\n",
    "            'framewise_output': framewise_output,\n",
    "            'clipwise_output': clipwise_output\n",
    "        }\n",
    "\n",
    "        return output_dict"
   ]
  },
  {
   "cell_type": "markdown",
   "metadata": {
    "papermill": {
     "duration": 0.043108,
     "end_time": "2020-09-16T06:00:17.783591",
     "exception": false,
     "start_time": "2020-09-16T06:00:17.740483",
     "status": "completed"
    },
    "tags": []
   },
   "source": [
    "What is good in PANNs models is that they accept raw audio clip as input. Let's put a chunk into the CNN feature extractor of the model above."
   ]
  },
  {
   "cell_type": "code",
   "execution_count": 9,
   "metadata": {
    "execution": {
     "iopub.execute_input": "2020-09-16T06:00:17.874216Z",
     "iopub.status.busy": "2020-09-16T06:00:17.873367Z",
     "iopub.status.idle": "2020-09-16T06:00:17.884227Z",
     "shell.execute_reply": "2020-09-16T06:00:17.883245Z"
    },
    "papermill": {
     "duration": 0.058128,
     "end_time": "2020-09-16T06:00:17.884326",
     "exception": false,
     "start_time": "2020-09-16T06:00:17.826198",
     "status": "completed"
    },
    "tags": []
   },
   "outputs": [],
   "source": [
    "SR = 32000\n",
    "\n",
    "y, _ = librosa.load(TRAIN_RESAMPLED_AUDIO_DIRS[0] / \"aldfly\" / \"XC134874.wav\",\n",
    "                    sr=SR,\n",
    "                    res_type=\"kaiser_fast\",\n",
    "                    mono=True)\n",
    "\n",
    "# Audio(y, rate=SR)"
   ]
  },
  {
   "cell_type": "code",
   "execution_count": 10,
   "metadata": {
    "execution": {
     "iopub.execute_input": "2020-09-16T06:00:17.975040Z",
     "iopub.status.busy": "2020-09-16T06:00:17.973832Z",
     "iopub.status.idle": "2020-09-16T06:00:18.185486Z",
     "shell.execute_reply": "2020-09-16T06:00:18.183818Z"
    },
    "papermill": {
     "duration": 0.258466,
     "end_time": "2020-09-16T06:00:18.185644",
     "exception": false,
     "start_time": "2020-09-16T06:00:17.927178",
     "status": "completed"
    },
    "tags": []
   },
   "outputs": [
    {
     "data": {
      "text/plain": [
       "<matplotlib.collections.PolyCollection at 0x7f3216ce3250>"
      ]
     },
     "execution_count": 10,
     "metadata": {},
     "output_type": "execute_result"
    },
    {
     "data": {
      "image/png": "[encoded data removed]",
      "text/plain": [
       "<Figure size 432x288 with 1 Axes>"
      ]
     },
     "metadata": {
      "needs_background": "light"
     },
     "output_type": "display_data"
    }
   ],
   "source": [
    "display.waveplot(y, sr=SR)"
   ]
  },
  {
   "cell_type": "code",
   "execution_count": 11,
   "metadata": {
    "execution": {
     "iopub.execute_input": "2020-09-16T06:00:18.365740Z",
     "iopub.status.busy": "2020-09-16T06:00:18.364284Z",
     "iopub.status.idle": "2020-09-16T06:00:20.206961Z",
     "shell.execute_reply": "2020-09-16T06:00:20.206325Z"
    },
    "papermill": {
     "duration": 1.943579,
     "end_time": "2020-09-16T06:00:20.207075",
     "exception": false,
     "start_time": "2020-09-16T06:00:18.263496",
     "status": "completed"
    },
    "tags": []
   },
   "outputs": [],
   "source": [
    "# model_config = {\n",
    "#     \"sample_rate\": 32000,\n",
    "#     \"window_size\": 1024,\n",
    "#     \"hop_size\": 256,\n",
    "#     \"mel_bins\": 128,\n",
    "#     \"fmin\": 50,\n",
    "#     \"fmax\": 14000,\n",
    "#     \"classes_num\": 264\n",
    "# }\n",
    "\n",
    "model_config = {\n",
    "    \"sample_rate\": 32000,\n",
    "    \"window_size\": 1024,\n",
    "    \"hop_size\": 320,\n",
    "    \"mel_bins\": 64,\n",
    "    \"fmin\": 20,\n",
    "    \"fmax\": 16000,\n",
    "    \"classes_num\": 264\n",
    "}\n",
    "\n",
    "model = PANNsCNN14Att(**model_config)"
   ]
  },
  {
   "cell_type": "markdown",
   "metadata": {
    "papermill": {
     "duration": 0.047622,
     "end_time": "2020-09-16T06:00:20.300035",
     "exception": false,
     "start_time": "2020-09-16T06:00:20.252413",
     "status": "completed"
    },
    "tags": []
   },
   "source": [
    "In `PANNsCNN14Att`, input raw waveform will be converted into log-melspectrogram using `torchlibrosa`'s utilities. I put this functionality in `PANNsCNN14Att.preprocess()` method. Let's check the output."
   ]
  },
  {
   "cell_type": "code",
   "execution_count": 12,
   "metadata": {
    "execution": {
     "iopub.execute_input": "2020-09-16T06:00:20.396076Z",
     "iopub.status.busy": "2020-09-16T06:00:20.395338Z",
     "iopub.status.idle": "2020-09-16T06:00:20.515394Z",
     "shell.execute_reply": "2020-09-16T06:00:20.515903Z"
    },
    "papermill": {
     "duration": 0.172321,
     "end_time": "2020-09-16T06:00:20.516058",
     "exception": false,
     "start_time": "2020-09-16T06:00:20.343737",
     "status": "completed"
    },
    "tags": []
   },
   "outputs": [
    {
     "data": {
      "text/plain": [
       "torch.Size([1, 1, 501, 64])"
      ]
     },
     "execution_count": 12,
     "metadata": {},
     "output_type": "execute_result"
    }
   ],
   "source": [
    "chunk = torch.from_numpy(y[:SR * 5]).unsqueeze(0)\n",
    "melspec, _ = model.preprocess(chunk)\n",
    "melspec.size()"
   ]
  },
  {
   "cell_type": "code",
   "execution_count": 13,
   "metadata": {
    "execution": {
     "iopub.execute_input": "2020-09-16T06:00:20.610274Z",
     "iopub.status.busy": "2020-09-16T06:00:20.609625Z",
     "iopub.status.idle": "2020-09-16T06:00:20.732868Z",
     "shell.execute_reply": "2020-09-16T06:00:20.733395Z"
    },
    "papermill": {
     "duration": 0.172941,
     "end_time": "2020-09-16T06:00:20.733521",
     "exception": false,
     "start_time": "2020-09-16T06:00:20.560580",
     "status": "completed"
    },
    "tags": []
   },
   "outputs": [
    {
     "data": {
      "image/png": "[encoded data removed]",
      "text/plain": [
       "<Figure size 432x288 with 1 Axes>"
      ]
     },
     "metadata": {
      "needs_background": "light"
     },
     "output_type": "display_data"
    }
   ],
   "source": [
    "melspec_numpy = melspec.detach().numpy()[0, 0].transpose(1, 0)\n",
    "display.specshow(melspec_numpy, sr=SR, y_axis=\"mel\");"
   ]
  },
  {
   "cell_type": "markdown",
   "metadata": {
    "papermill": {
     "duration": 0.045036,
     "end_time": "2020-09-16T06:00:20.827245",
     "exception": false,
     "start_time": "2020-09-16T06:00:20.782209",
     "status": "completed"
    },
    "tags": []
   },
   "source": [
    "`PANNsCNN14Att.cnn_feature_extractor()` method will take this as input and output feature map. Let's check the output of the feature extractor."
   ]
  },
  {
   "cell_type": "code",
   "execution_count": 14,
   "metadata": {
    "execution": {
     "iopub.execute_input": "2020-09-16T06:00:20.924848Z",
     "iopub.status.busy": "2020-09-16T06:00:20.924220Z",
     "iopub.status.idle": "2020-09-16T06:00:21.530564Z",
     "shell.execute_reply": "2020-09-16T06:00:21.531210Z"
    },
    "papermill": {
     "duration": 0.657521,
     "end_time": "2020-09-16T06:00:21.531356",
     "exception": false,
     "start_time": "2020-09-16T06:00:20.873835",
     "status": "completed"
    },
    "tags": []
   },
   "outputs": [
    {
     "data": {
      "text/plain": [
       "torch.Size([1, 2048, 15, 2])"
      ]
     },
     "execution_count": 14,
     "metadata": {},
     "output_type": "execute_result"
    }
   ],
   "source": [
    "feature_map = model.cnn_feature_extractor(melspec)\n",
    "feature_map.size()"
   ]
  },
  {
   "cell_type": "markdown",
   "metadata": {
    "papermill": {
     "duration": 0.045941,
     "end_time": "2020-09-16T06:00:21.625884",
     "exception": false,
     "start_time": "2020-09-16T06:00:21.579943",
     "status": "completed"
    },
    "tags": []
   },
   "source": [
    "Although it's downsized through several convolution and pooling layers, the size of it's third dimension is 15 and it still contains time information. Each element of this dimension is *segment*. In SED model, we provide prediction for each of this."
   ]
  },
  {
   "cell_type": "markdown",
   "metadata": {
    "papermill": {
     "duration": 0.046589,
     "end_time": "2020-09-16T06:00:21.718565",
     "exception": false,
     "start_time": "2020-09-16T06:00:21.671976",
     "status": "completed"
    },
    "tags": []
   },
   "source": [
    "Now, let's try to train this model in weakly-supervised manner."
   ]
  },
  {
   "cell_type": "markdown",
   "metadata": {
    "papermill": {
     "duration": 0.047145,
     "end_time": "2020-09-16T06:00:21.813185",
     "exception": false,
     "start_time": "2020-09-16T06:00:21.766040",
     "status": "completed"
    },
    "tags": []
   },
   "source": [
    "### Dataset"
   ]
  },
  {
   "cell_type": "code",
   "execution_count": 15,
   "metadata": {
    "_kg_hide-input": true,
    "execution": {
     "iopub.execute_input": "2020-09-16T06:00:21.931466Z",
     "iopub.status.busy": "2020-09-16T06:00:21.921127Z",
     "iopub.status.idle": "2020-09-16T06:00:21.959553Z",
     "shell.execute_reply": "2020-09-16T06:00:21.960096Z"
    },
    "papermill": {
     "duration": 0.100322,
     "end_time": "2020-09-16T06:00:21.960215",
     "exception": false,
     "start_time": "2020-09-16T06:00:21.859893",
     "status": "completed"
    },
    "tags": []
   },
   "outputs": [],
   "source": [
    "BIRD_CODE = {\n",
    "    'aldfly': 0, 'ameavo': 1, 'amebit': 2, 'amecro': 3, 'amegfi': 4,\n",
    "    'amekes': 5, 'amepip': 6, 'amered': 7, 'amerob': 8, 'amewig': 9,\n",
    "    'amewoo': 10, 'amtspa': 11, 'annhum': 12, 'astfly': 13, 'baisan': 14,\n",
    "    'baleag': 15, 'balori': 16, 'banswa': 17, 'barswa': 18, 'bawwar': 19,\n",
    "    'belkin1': 20, 'belspa2': 21, 'bewwre': 22, 'bkbcuc': 23, 'bkbmag1': 24,\n",
    "    'bkbwar': 25, 'bkcchi': 26, 'bkchum': 27, 'bkhgro': 28, 'bkpwar': 29,\n",
    "    'bktspa': 30, 'blkpho': 31, 'blugrb1': 32, 'blujay': 33, 'bnhcow': 34,\n",
    "    'boboli': 35, 'bongul': 36, 'brdowl': 37, 'brebla': 38, 'brespa': 39,\n",
    "    'brncre': 40, 'brnthr': 41, 'brthum': 42, 'brwhaw': 43, 'btbwar': 44,\n",
    "    'btnwar': 45, 'btywar': 46, 'buffle': 47, 'buggna': 48, 'buhvir': 49,\n",
    "    'bulori': 50, 'bushti': 51, 'buwtea': 52, 'buwwar': 53, 'cacwre': 54,\n",
    "    'calgul': 55, 'calqua': 56, 'camwar': 57, 'cangoo': 58, 'canwar': 59,\n",
    "    'canwre': 60, 'carwre': 61, 'casfin': 62, 'caster1': 63, 'casvir': 64,\n",
    "    'cedwax': 65, 'chispa': 66, 'chiswi': 67, 'chswar': 68, 'chukar': 69,\n",
    "    'clanut': 70, 'cliswa': 71, 'comgol': 72, 'comgra': 73, 'comloo': 74,\n",
    "    'commer': 75, 'comnig': 76, 'comrav': 77, 'comred': 78, 'comter': 79,\n",
    "    'comyel': 80, 'coohaw': 81, 'coshum': 82, 'cowscj1': 83, 'daejun': 84,\n",
    "    'doccor': 85, 'dowwoo': 86, 'dusfly': 87, 'eargre': 88, 'easblu': 89,\n",
    "    'easkin': 90, 'easmea': 91, 'easpho': 92, 'eastow': 93, 'eawpew': 94,\n",
    "    'eucdov': 95, 'eursta': 96, 'evegro': 97, 'fiespa': 98, 'fiscro': 99,\n",
    "    'foxspa': 100, 'gadwal': 101, 'gcrfin': 102, 'gnttow': 103, 'gnwtea': 104,\n",
    "    'gockin': 105, 'gocspa': 106, 'goleag': 107, 'grbher3': 108, 'grcfly': 109,\n",
    "    'greegr': 110, 'greroa': 111, 'greyel': 112, 'grhowl': 113, 'grnher': 114,\n",
    "    'grtgra': 115, 'grycat': 116, 'gryfly': 117, 'haiwoo': 118, 'hamfly': 119,\n",
    "    'hergul': 120, 'herthr': 121, 'hoomer': 122, 'hoowar': 123, 'horgre': 124,\n",
    "    'horlar': 125, 'houfin': 126, 'houspa': 127, 'houwre': 128, 'indbun': 129,\n",
    "    'juntit1': 130, 'killde': 131, 'labwoo': 132, 'larspa': 133, 'lazbun': 134,\n",
    "    'leabit': 135, 'leafly': 136, 'leasan': 137, 'lecthr': 138, 'lesgol': 139,\n",
    "    'lesnig': 140, 'lesyel': 141, 'lewwoo': 142, 'linspa': 143, 'lobcur': 144,\n",
    "    'lobdow': 145, 'logshr': 146, 'lotduc': 147, 'louwat': 148, 'macwar': 149,\n",
    "    'magwar': 150, 'mallar3': 151, 'marwre': 152, 'merlin': 153, 'moublu': 154,\n",
    "    'mouchi': 155, 'moudov': 156, 'norcar': 157, 'norfli': 158, 'norhar2': 159,\n",
    "    'normoc': 160, 'norpar': 161, 'norpin': 162, 'norsho': 163, 'norwat': 164,\n",
    "    'nrwswa': 165, 'nutwoo': 166, 'olsfly': 167, 'orcwar': 168, 'osprey': 169,\n",
    "    'ovenbi1': 170, 'palwar': 171, 'pasfly': 172, 'pecsan': 173, 'perfal': 174,\n",
    "    'phaino': 175, 'pibgre': 176, 'pilwoo': 177, 'pingro': 178, 'pinjay': 179,\n",
    "    'pinsis': 180, 'pinwar': 181, 'plsvir': 182, 'prawar': 183, 'purfin': 184,\n",
    "    'pygnut': 185, 'rebmer': 186, 'rebnut': 187, 'rebsap': 188, 'rebwoo': 189,\n",
    "    'redcro': 190, 'redhea': 191, 'reevir1': 192, 'renpha': 193, 'reshaw': 194,\n",
    "    'rethaw': 195, 'rewbla': 196, 'ribgul': 197, 'rinduc': 198, 'robgro': 199,\n",
    "    'rocpig': 200, 'rocwre': 201, 'rthhum': 202, 'ruckin': 203, 'rudduc': 204,\n",
    "    'rufgro': 205, 'rufhum': 206, 'rusbla': 207, 'sagspa1': 208, 'sagthr': 209,\n",
    "    'savspa': 210, 'saypho': 211, 'scatan': 212, 'scoori': 213, 'semplo': 214,\n",
    "    'semsan': 215, 'sheowl': 216, 'shshaw': 217, 'snobun': 218, 'snogoo': 219,\n",
    "    'solsan': 220, 'sonspa': 221, 'sora': 222, 'sposan': 223, 'spotow': 224,\n",
    "    'stejay': 225, 'swahaw': 226, 'swaspa': 227, 'swathr': 228, 'treswa': 229,\n",
    "    'truswa': 230, 'tuftit': 231, 'tunswa': 232, 'veery': 233, 'vesspa': 234,\n",
    "    'vigswa': 235, 'warvir': 236, 'wesblu': 237, 'wesgre': 238, 'weskin': 239,\n",
    "    'wesmea': 240, 'wessan': 241, 'westan': 242, 'wewpew': 243, 'whbnut': 244,\n",
    "    'whcspa': 245, 'whfibi': 246, 'whtspa': 247, 'whtswi': 248, 'wilfly': 249,\n",
    "    'wilsni1': 250, 'wiltur': 251, 'winwre3': 252, 'wlswar': 253, 'wooduc': 254,\n",
    "    'wooscj2': 255, 'woothr': 256, 'y00475': 257, 'yebfly': 258, 'yebsap': 259,\n",
    "    'yehbla': 260, 'yelwar': 261, 'yerwar': 262, 'yetvir': 263\n",
    "}\n",
    "\n",
    "INV_BIRD_CODE = {v: k for k, v in BIRD_CODE.items()}"
   ]
  },
  {
   "cell_type": "code",
   "execution_count": 16,
   "metadata": {
    "_kg_hide-input": true,
    "execution": {
     "iopub.execute_input": "2020-09-16T06:00:22.072266Z",
     "iopub.status.busy": "2020-09-16T06:00:22.070474Z",
     "iopub.status.idle": "2020-09-16T06:00:22.073048Z",
     "shell.execute_reply": "2020-09-16T06:00:22.073531Z"
    },
    "papermill": {
     "duration": 0.064851,
     "end_time": "2020-09-16T06:00:22.073647",
     "exception": false,
     "start_time": "2020-09-16T06:00:22.008796",
     "status": "completed"
    },
    "tags": []
   },
   "outputs": [],
   "source": [
    "PERIOD = 10\n",
    "\n",
    "class PANNsDataset(data.Dataset):\n",
    "    def __init__(\n",
    "            self,\n",
    "            file_list: List[List[str]],\n",
    "            waveform_transforms=None):\n",
    "        self.file_list = file_list  # list of list: [file_path, ebird_code]\n",
    "        self.waveform_transforms = waveform_transforms\n",
    "\n",
    "    def __len__(self):\n",
    "        return len(self.file_list)\n",
    "\n",
    "    def __getitem__(self, idx: int):\n",
    "        wav_path, ebird_code = self.file_list[idx]\n",
    "\n",
    "        y, sr = sf.read(wav_path)\n",
    "\n",
    "        if self.waveform_transforms:\n",
    "            y = self.waveform_transforms(y)\n",
    "        else:\n",
    "            len_y = len(y)\n",
    "            effective_length = sr * PERIOD\n",
    "            if len_y < effective_length:\n",
    "                new_y = np.zeros(effective_length, dtype=y.dtype)\n",
    "                start = np.random.randint(effective_length - len_y)\n",
    "                new_y[start:start + len_y] = y\n",
    "                y = new_y.astype(np.float32)\n",
    "            elif len_y > effective_length:\n",
    "                start = np.random.randint(len_y - effective_length)\n",
    "                y = y[start:start + effective_length].astype(np.float32)\n",
    "            else:\n",
    "                y = y.astype(np.float32)\n",
    "\n",
    "        labels = np.zeros(len(BIRD_CODE), dtype=\"f\")\n",
    "        for b_code in ebird_code:\n",
    "            labels[BIRD_CODE[b_code]] = 1\n",
    "\n",
    "        return {\"waveform\": y, \"targets\": labels}"
   ]
  },
  {
   "cell_type": "markdown",
   "metadata": {
    "papermill": {
     "duration": 0.04763,
     "end_time": "2020-09-16T06:00:22.167313",
     "exception": false,
     "start_time": "2020-09-16T06:00:22.119683",
     "status": "completed"
    },
    "tags": []
   },
   "source": [
    "### Criterion"
   ]
  },
  {
   "cell_type": "code",
   "execution_count": 17,
   "metadata": {
    "_kg_hide-input": true,
    "execution": {
     "iopub.execute_input": "2020-09-16T06:00:22.270185Z",
     "iopub.status.busy": "2020-09-16T06:00:22.269271Z",
     "iopub.status.idle": "2020-09-16T06:00:22.271598Z",
     "shell.execute_reply": "2020-09-16T06:00:22.272161Z"
    },
    "papermill": {
     "duration": 0.057597,
     "end_time": "2020-09-16T06:00:22.272288",
     "exception": false,
     "start_time": "2020-09-16T06:00:22.214691",
     "status": "completed"
    },
    "tags": []
   },
   "outputs": [],
   "source": [
    "class PANNsLoss(nn.Module):\n",
    "    def __init__(self):\n",
    "        super().__init__()\n",
    "\n",
    "        self.bce = nn.BCELoss()\n",
    "\n",
    "    def forward(self, input, target):\n",
    "        input_ = input[\"clipwise_output\"]\n",
    "        input_ = torch.where(torch.isnan(input_),\n",
    "                     torch.zeros_like(input_),\n",
    "                     input_)\n",
    "        input_ = torch.where(torch.isinf(input_),\n",
    "                             torch.zeros_like(input_),\n",
    "                             input_)\n",
    "        target = target.float()\n",
    "\n",
    "        input_ = torch.clamp(input_, 0.0, 1.0)\n",
    "\n",
    "        return self.bce(input_, target)"
   ]
  },
  {
   "cell_type": "markdown",
   "metadata": {
    "papermill": {
     "duration": 0.046643,
     "end_time": "2020-09-16T06:00:22.365640",
     "exception": false,
     "start_time": "2020-09-16T06:00:22.318997",
     "status": "completed"
    },
    "tags": []
   },
   "source": [
    "### Callbacks"
   ]
  },
  {
   "cell_type": "code",
   "execution_count": 18,
   "metadata": {
    "_kg_hide-input": true,
    "execution": {
     "iopub.execute_input": "2020-09-16T06:00:22.486643Z",
     "iopub.status.busy": "2020-09-16T06:00:22.471247Z",
     "iopub.status.idle": "2020-09-16T06:00:22.489492Z",
     "shell.execute_reply": "2020-09-16T06:00:22.488965Z"
    },
    "papermill": {
     "duration": 0.077367,
     "end_time": "2020-09-16T06:00:22.489590",
     "exception": false,
     "start_time": "2020-09-16T06:00:22.412223",
     "status": "completed"
    },
    "tags": []
   },
   "outputs": [],
   "source": [
    "class F1Callback(Callback):\n",
    "    def __init__(self,\n",
    "                 input_key: str = \"targets\",\n",
    "                 output_key: str = \"logits\",\n",
    "                 model_output_key: str = \"clipwise_output\",\n",
    "                 prefix: str = \"f1\"):\n",
    "        super().__init__(CallbackOrder.Metric)\n",
    "\n",
    "        self.input_key = input_key\n",
    "        self.output_key = output_key\n",
    "        self.model_output_key = model_output_key\n",
    "        self.prefix = prefix\n",
    "\n",
    "    def on_loader_start(self, state: State):\n",
    "        self.prediction: List[np.ndarray] = []\n",
    "        self.target: List[np.ndarray] = []\n",
    "\n",
    "    def on_batch_end(self, state: State):\n",
    "        targ = state.input[self.input_key].detach().cpu().numpy()\n",
    "        out = state.output[self.output_key]\n",
    "\n",
    "        clipwise_output = out[self.model_output_key].detach().cpu().numpy()\n",
    "\n",
    "        self.prediction.append(clipwise_output)\n",
    "        self.target.append(targ)\n",
    "\n",
    "        y_pred = clipwise_output.argmax(axis=1)\n",
    "        y_true = targ.argmax(axis=1)\n",
    "\n",
    "        score = f1_score(y_true, y_pred, average=\"macro\")\n",
    "        state.batch_metrics[self.prefix] = score\n",
    "\n",
    "    def on_loader_end(self, state: State):\n",
    "        y_pred = np.concatenate(self.prediction, axis=0).argmax(axis=1)\n",
    "        y_true = np.concatenate(self.target, axis=0).argmax(axis=1)\n",
    "        score = f1_score(y_true, y_pred, average=\"macro\")\n",
    "        state.loader_metrics[self.prefix] = score\n",
    "        if state.is_valid_loader:\n",
    "            state.epoch_metrics[state.valid_loader + \"_epoch_\" +\n",
    "                                self.prefix] = score\n",
    "        else:\n",
    "            state.epoch_metrics[\"train_epoch_\" + self.prefix] = score\n",
    "\n",
    "\n",
    "class mAPCallback(Callback):\n",
    "    def __init__(self,\n",
    "                 input_key: str = \"targets\",\n",
    "                 output_key: str = \"logits\",\n",
    "                 model_output_key: str = \"clipwise_output\",\n",
    "                 prefix: str = \"mAP\"):\n",
    "        super().__init__(CallbackOrder.Metric)\n",
    "        self.input_key = input_key\n",
    "        self.output_key = output_key\n",
    "        self.model_output_key = model_output_key\n",
    "        self.prefix = prefix\n",
    "\n",
    "    def on_loader_start(self, state: State):\n",
    "        self.prediction: List[np.ndarray] = []\n",
    "        self.target: List[np.ndarray] = []\n",
    "\n",
    "    def on_batch_end(self, state: State):\n",
    "        targ = state.input[self.input_key].detach().cpu().numpy()\n",
    "        out = state.output[self.output_key]\n",
    "\n",
    "        clipwise_output = out[self.model_output_key].detach().cpu().numpy()\n",
    "\n",
    "        self.prediction.append(clipwise_output)\n",
    "        self.target.append(targ)\n",
    "\n",
    "        score = average_precision_score(targ, clipwise_output, average=None)\n",
    "        score = np.nan_to_num(score).mean()\n",
    "        state.batch_metrics[self.prefix] = score\n",
    "\n",
    "    def on_loader_end(self, state: State):\n",
    "        y_pred = np.concatenate(self.prediction, axis=0)\n",
    "        y_true = np.concatenate(self.target, axis=0)\n",
    "        score = average_precision_score(y_true, y_pred, average=None)\n",
    "        score = np.nan_to_num(score).mean()\n",
    "        state.loader_metrics[self.prefix] = score\n",
    "        if state.is_valid_loader:\n",
    "            state.epoch_metrics[state.valid_loader + \"_epoch_\" +\n",
    "                                self.prefix] = score\n",
    "        else:\n",
    "            state.epoch_metrics[\"train_epoch_\" + self.prefix] = score"
   ]
  },
  {
   "cell_type": "markdown",
   "metadata": {
    "papermill": {
     "duration": 0.052214,
     "end_time": "2020-09-16T06:00:22.588728",
     "exception": false,
     "start_time": "2020-09-16T06:00:22.536514",
     "status": "completed"
    },
    "tags": []
   },
   "source": [
    "### Train\n",
    "\n",
    "Some code are taken from https://www.kaggle.com/ttahara/training-birdsong-baseline-resnest50-fast .\n",
    "Thanks @ttahara!"
   ]
  },
  {
   "cell_type": "code",
   "execution_count": 19,
   "metadata": {
    "execution": {
     "iopub.execute_input": "2020-09-16T06:00:22.698585Z",
     "iopub.status.busy": "2020-09-16T06:00:22.697762Z",
     "iopub.status.idle": "2020-09-16T06:00:23.409026Z",
     "shell.execute_reply": "2020-09-16T06:00:23.408224Z"
    },
    "papermill": {
     "duration": 0.766716,
     "end_time": "2020-09-16T06:00:23.409148",
     "exception": false,
     "start_time": "2020-09-16T06:00:22.642432",
     "status": "completed"
    },
    "tags": []
   },
   "outputs": [
    {
     "name": "stdout",
     "output_type": "stream",
     "text": [
      "(21375, 38)\n",
      "(21375, 3)\n",
      "(21375, 39)\n"
     ]
    }
   ],
   "source": [
    "tmp_list = []\n",
    "for audio_d in TRAIN_RESAMPLED_AUDIO_DIRS:\n",
    "    if not audio_d.exists():\n",
    "        continue\n",
    "    for ebird_d in audio_d.iterdir():\n",
    "        if ebird_d.is_file():\n",
    "            continue\n",
    "        for wav_f in ebird_d.iterdir():\n",
    "            tmp_list.append([ebird_d.name, wav_f.name, wav_f.as_posix()])\n",
    "            \n",
    "train_wav_path_exist = pd.DataFrame(\n",
    "    tmp_list, columns=[\"ebird_code\", \"resampled_filename\", \"file_path\"])\n",
    "\n",
    "del tmp_list\n",
    "\n",
    "train_all = pd.merge(\n",
    "    train, train_wav_path_exist, on=[\"ebird_code\", \"resampled_filename\"], how=\"inner\")\n",
    "\n",
    "print(train.shape)\n",
    "print(train_wav_path_exist.shape)\n",
    "print(train_all.shape)"
   ]
  },
  {
   "cell_type": "code",
   "execution_count": 20,
   "metadata": {
    "execution": {
     "iopub.execute_input": "2020-09-16T06:00:23.532593Z",
     "iopub.status.busy": "2020-09-16T06:00:23.531671Z",
     "iopub.status.idle": "2020-09-16T06:00:23.599952Z",
     "shell.execute_reply": "2020-09-16T06:00:23.600666Z"
    },
    "papermill": {
     "duration": 0.143546,
     "end_time": "2020-09-16T06:00:23.600834",
     "exception": false,
     "start_time": "2020-09-16T06:00:23.457288",
     "status": "completed"
    },
    "tags": []
   },
   "outputs": [
    {
     "name": "stdout",
     "output_type": "stream",
     "text": [
      "(264, 5)\n"
     ]
    }
   ],
   "source": [
    "skf = StratifiedKFold(n_splits=5, shuffle=True, random_state=42)\n",
    "\n",
    "train_all[\"fold\"] = -1\n",
    "for fold_id, (train_index, val_index) in enumerate(skf.split(train_all, train_all[\"ebird_code\"])):\n",
    "    train_all.iloc[val_index, -1] = fold_id\n",
    "    \n",
    "# # check the propotion\n",
    "fold_proportion = pd.pivot_table(train_all, index=\"ebird_code\", columns=\"fold\", values=\"xc_id\", aggfunc=len)\n",
    "print(fold_proportion.shape)"
   ]
  },
  {
   "cell_type": "code",
   "execution_count": 21,
   "metadata": {
    "execution": {
     "iopub.execute_input": "2020-09-16T06:00:23.705992Z",
     "iopub.status.busy": "2020-09-16T06:00:23.704898Z",
     "iopub.status.idle": "2020-09-16T06:00:23.709299Z",
     "shell.execute_reply": "2020-09-16T06:00:23.709818Z"
    },
    "papermill": {
     "duration": 0.059574,
     "end_time": "2020-09-16T06:00:23.709961",
     "exception": false,
     "start_time": "2020-09-16T06:00:23.650387",
     "status": "completed"
    },
    "tags": []
   },
   "outputs": [
    {
     "data": {
      "text/plain": [
       "264"
      ]
     },
     "execution_count": 21,
     "metadata": {},
     "output_type": "execute_result"
    }
   ],
   "source": [
    "code_map =dict(zip(train_all['primary_label'].tolist(),train_all['ebird_code'].tolist()))\n",
    "len(code_map)"
   ]
  },
  {
   "cell_type": "code",
   "execution_count": 22,
   "metadata": {
    "execution": {
     "iopub.execute_input": "2020-09-16T06:00:23.841277Z",
     "iopub.status.busy": "2020-09-16T06:00:23.825819Z",
     "iopub.status.idle": "2020-09-16T06:00:24.005152Z",
     "shell.execute_reply": "2020-09-16T06:00:24.005637Z"
    },
    "papermill": {
     "duration": 0.248419,
     "end_time": "2020-09-16T06:00:24.005775",
     "exception": false,
     "start_time": "2020-09-16T06:00:23.757356",
     "status": "completed"
    },
    "tags": []
   },
   "outputs": [
    {
     "data": {
      "text/plain": [
       "(7012, 41)"
      ]
     },
     "execution_count": 22,
     "metadata": {},
     "output_type": "execute_result"
    }
   ],
   "source": [
    "train_all['sec_code'] = train_all.secondary_labels.apply(lambda x : [code_map[i] for i in eval(x)  if i in code_map.keys()])\n",
    "train_all[train_all.sec_code.apply(len)>0].shape"
   ]
  },
  {
   "cell_type": "code",
   "execution_count": 23,
   "metadata": {
    "execution": {
     "iopub.execute_input": "2020-09-16T06:00:24.108057Z",
     "iopub.status.busy": "2020-09-16T06:00:24.107408Z",
     "iopub.status.idle": "2020-09-16T06:00:25.348683Z",
     "shell.execute_reply": "2020-09-16T06:00:25.349355Z"
    },
    "papermill": {
     "duration": 1.294524,
     "end_time": "2020-09-16T06:00:25.349518",
     "exception": false,
     "start_time": "2020-09-16T06:00:24.054994",
     "status": "completed"
    },
    "tags": []
   },
   "outputs": [
    {
     "data": {
      "text/html": [
       "<div>\n",
       "<style scoped>\n",
       "    .dataframe tbody tr th:only-of-type {\n",
       "        vertical-align: middle;\n",
       "    }\n",
       "\n",
       "    .dataframe tbody tr th {\n",
       "        vertical-align: top;\n",
       "    }\n",
       "\n",
       "    .dataframe thead th {\n",
       "        text-align: right;\n",
       "    }\n",
       "</style>\n",
       "<table border=\"1\" class=\"dataframe\">\n",
       "  <thead>\n",
       "    <tr style=\"text-align: right;\">\n",
       "      <th></th>\n",
       "      <th>ebird_code</th>\n",
       "      <th>final_bird</th>\n",
       "      <th>sec_code</th>\n",
       "    </tr>\n",
       "  </thead>\n",
       "  <tbody>\n",
       "    <tr>\n",
       "      <th>0</th>\n",
       "      <td>aldfly</td>\n",
       "      <td>[aldfly, leafly, grycat, fiespa]</td>\n",
       "      <td>[leafly, grycat, fiespa]</td>\n",
       "    </tr>\n",
       "    <tr>\n",
       "      <th>1</th>\n",
       "      <td>aldfly</td>\n",
       "      <td>[aldfly]</td>\n",
       "      <td>[]</td>\n",
       "    </tr>\n",
       "    <tr>\n",
       "      <th>2</th>\n",
       "      <td>aldfly</td>\n",
       "      <td>[aldfly]</td>\n",
       "      <td>[]</td>\n",
       "    </tr>\n",
       "    <tr>\n",
       "      <th>3</th>\n",
       "      <td>aldfly</td>\n",
       "      <td>[aldfly, grycat, cedwax]</td>\n",
       "      <td>[grycat, cedwax]</td>\n",
       "    </tr>\n",
       "    <tr>\n",
       "      <th>4</th>\n",
       "      <td>aldfly</td>\n",
       "      <td>[aldfly]</td>\n",
       "      <td>[]</td>\n",
       "    </tr>\n",
       "    <tr>\n",
       "      <th>...</th>\n",
       "      <td>...</td>\n",
       "      <td>...</td>\n",
       "      <td>...</td>\n",
       "    </tr>\n",
       "    <tr>\n",
       "      <th>21370</th>\n",
       "      <td>yetvir</td>\n",
       "      <td>[yetvir, dowwoo, buggna, norpar, norcar, reshaw]</td>\n",
       "      <td>[dowwoo, buggna, norpar, norcar, reshaw]</td>\n",
       "    </tr>\n",
       "    <tr>\n",
       "      <th>21371</th>\n",
       "      <td>yetvir</td>\n",
       "      <td>[yetvir, reevir1, buggna]</td>\n",
       "      <td>[reevir1, buggna]</td>\n",
       "    </tr>\n",
       "    <tr>\n",
       "      <th>21372</th>\n",
       "      <td>yetvir</td>\n",
       "      <td>[yetvir]</td>\n",
       "      <td>[]</td>\n",
       "    </tr>\n",
       "    <tr>\n",
       "      <th>21373</th>\n",
       "      <td>yetvir</td>\n",
       "      <td>[yetvir, norcar]</td>\n",
       "      <td>[norcar]</td>\n",
       "    </tr>\n",
       "    <tr>\n",
       "      <th>21374</th>\n",
       "      <td>yetvir</td>\n",
       "      <td>[yetvir]</td>\n",
       "      <td>[]</td>\n",
       "    </tr>\n",
       "  </tbody>\n",
       "</table>\n",
       "<p>21375 rows × 3 columns</p>\n",
       "</div>"
      ],
      "text/plain": [
       "      ebird_code                                        final_bird  \\\n",
       "0         aldfly                  [aldfly, leafly, grycat, fiespa]   \n",
       "1         aldfly                                          [aldfly]   \n",
       "2         aldfly                                          [aldfly]   \n",
       "3         aldfly                          [aldfly, grycat, cedwax]   \n",
       "4         aldfly                                          [aldfly]   \n",
       "...          ...                                               ...   \n",
       "21370     yetvir  [yetvir, dowwoo, buggna, norpar, norcar, reshaw]   \n",
       "21371     yetvir                         [yetvir, reevir1, buggna]   \n",
       "21372     yetvir                                          [yetvir]   \n",
       "21373     yetvir                                  [yetvir, norcar]   \n",
       "21374     yetvir                                          [yetvir]   \n",
       "\n",
       "                                       sec_code  \n",
       "0                      [leafly, grycat, fiespa]  \n",
       "1                                            []  \n",
       "2                                            []  \n",
       "3                              [grycat, cedwax]  \n",
       "4                                            []  \n",
       "...                                         ...  \n",
       "21370  [dowwoo, buggna, norpar, norcar, reshaw]  \n",
       "21371                         [reevir1, buggna]  \n",
       "21372                                        []  \n",
       "21373                                  [norcar]  \n",
       "21374                                        []  \n",
       "\n",
       "[21375 rows x 3 columns]"
      ]
     },
     "execution_count": 23,
     "metadata": {},
     "output_type": "execute_result"
    }
   ],
   "source": [
    "train_all[\"final_bird\"] = train_all.apply(lambda x : [x['ebird_code']] + x['sec_code'] ,axis=1 )\n",
    "train_all[['ebird_code','final_bird','sec_code']]\n"
   ]
  },
  {
   "cell_type": "code",
   "execution_count": 24,
   "metadata": {
    "execution": {
     "iopub.execute_input": "2020-09-16T06:00:25.468439Z",
     "iopub.status.busy": "2020-09-16T06:00:25.467667Z",
     "iopub.status.idle": "2020-09-16T06:00:25.517356Z",
     "shell.execute_reply": "2020-09-16T06:00:25.518728Z"
    },
    "papermill": {
     "duration": 0.111856,
     "end_time": "2020-09-16T06:00:25.518931",
     "exception": false,
     "start_time": "2020-09-16T06:00:25.407075",
     "status": "completed"
    },
    "tags": []
   },
   "outputs": [
    {
     "name": "stdout",
     "output_type": "stream",
     "text": [
      "[fold 3] train: 17100, val: 4275\n"
     ]
    }
   ],
   "source": [
    "use_fold = 3\n",
    "train_file_list = train_all.query(\"fold != @use_fold\")[[\"file_path\", \"final_bird\"]].values.tolist()\n",
    "val_file_list = train_all.query(\"fold == @use_fold\")[[\"file_path\", \"final_bird\"]].values.tolist()\n",
    "\n",
    "print(\"[fold {}] train: {}, val: {}\".format(use_fold, len(train_file_list), len(val_file_list)))"
   ]
  },
  {
   "cell_type": "code",
   "execution_count": 25,
   "metadata": {
    "execution": {
     "iopub.execute_input": "2020-09-16T06:00:25.633638Z",
     "iopub.status.busy": "2020-09-16T06:00:25.632313Z",
     "iopub.status.idle": "2020-09-16T06:00:35.733860Z",
     "shell.execute_reply": "2020-09-16T06:00:35.733329Z"
    },
    "papermill": {
     "duration": 10.164662,
     "end_time": "2020-09-16T06:00:35.733993",
     "exception": false,
     "start_time": "2020-09-16T06:00:25.569331",
     "status": "completed"
    },
    "tags": []
   },
   "outputs": [],
   "source": [
    "device = torch.device(\"cuda:0\")\n",
    "\n",
    "# loaders\n",
    "loaders = {\n",
    "    \"train\": data.DataLoader(PANNsDataset(train_file_list, None), \n",
    "                             batch_size=40, \n",
    "                             shuffle=True, \n",
    "                             num_workers=2, \n",
    "                             pin_memory=True, \n",
    "                             drop_last=True),\n",
    "    \"valid\": data.DataLoader(PANNsDataset(val_file_list, None), \n",
    "                             batch_size=64, \n",
    "                             shuffle=False,\n",
    "                             num_workers=2,\n",
    "                             pin_memory=True,\n",
    "                             drop_last=False)\n",
    "}\n",
    "\n",
    "# model\n",
    "model_config[\"classes_num\"] = 527\n",
    "model = PANNsCNN14Att(**model_config)\n",
    "weights = torch.load(\"../input/pannscnn14-decisionlevelatt-weight/Cnn14_DecisionLevelAtt_mAP0.425.pth\")\n",
    "# Fixed in V3\n",
    "model.load_state_dict(weights[\"model\"])\n",
    "model.att_block = AttBlock(2048, 264, activation='sigmoid')\n",
    "model.att_block.init_weights()\n",
    "model.to(device)\n",
    "\n",
    "# Optimizer\n",
    "optimizer = optim.Adam(model.parameters(), lr=0.001)\n",
    "\n",
    "# Scheduler\n",
    "scheduler = optim.lr_scheduler.CosineAnnealingLR(optimizer, T_max=10)\n",
    "\n",
    "# Loss\n",
    "criterion = PANNsLoss().to(device)\n",
    "\n",
    "# callbacks\n",
    "callbacks = [\n",
    "    F1Callback(input_key=\"targets\", output_key=\"logits\", prefix=\"f1\"),\n",
    "    mAPCallback(input_key=\"targets\", output_key=\"logits\", prefix=\"mAP\"),\n",
    "    CheckpointCallback(save_n_best=0)\n",
    "]"
   ]
  },
  {
   "cell_type": "code",
   "execution_count": 26,
   "metadata": {
    "execution": {
     "iopub.execute_input": "2020-09-16T06:00:35.839328Z",
     "iopub.status.busy": "2020-09-16T06:00:35.838491Z",
     "iopub.status.idle": "2020-09-16T06:00:35.843981Z",
     "shell.execute_reply": "2020-09-16T06:00:35.843481Z"
    },
    "papermill": {
     "duration": 0.059074,
     "end_time": "2020-09-16T06:00:35.844083",
     "exception": false,
     "start_time": "2020-09-16T06:00:35.785009",
     "status": "completed"
    },
    "tags": []
   },
   "outputs": [
    {
     "data": {
      "text/plain": [
       "{'sample_rate': 32000,\n",
       " 'window_size': 1024,\n",
       " 'hop_size': 320,\n",
       " 'mel_bins': 64,\n",
       " 'fmin': 20,\n",
       " 'fmax': 16000,\n",
       " 'classes_num': 527}"
      ]
     },
     "execution_count": 26,
     "metadata": {},
     "output_type": "execute_result"
    }
   ],
   "source": [
    "model_config"
   ]
  },
  {
   "cell_type": "code",
   "execution_count": 27,
   "metadata": {
    "_kg_hide-output": true,
    "execution": {
     "iopub.execute_input": "2020-09-16T06:00:35.951171Z",
     "iopub.status.busy": "2020-09-16T06:00:35.949573Z",
     "iopub.status.idle": "2020-09-16T06:00:35.952066Z",
     "shell.execute_reply": "2020-09-16T06:00:35.952548Z"
    },
    "papermill": {
     "duration": 0.057711,
     "end_time": "2020-09-16T06:00:35.952661",
     "exception": false,
     "start_time": "2020-09-16T06:00:35.894950",
     "status": "completed"
    },
    "tags": []
   },
   "outputs": [],
   "source": [
    "# warnings.simplefilter(\"ignore\")\n",
    "\n",
    "# runner = SupervisedRunner(\n",
    "#     device=device,\n",
    "#     input_key=\"waveform\",\n",
    "#     input_target_key=\"targets\")\n",
    "\n",
    "# runner.train(\n",
    "#     model=model,\n",
    "#     criterion=criterion,\n",
    "#     loaders=loaders,\n",
    "#     optimizer=optimizer,\n",
    "#     scheduler=scheduler,\n",
    "#     num_epochs=50,\n",
    "#     verbose=True,\n",
    "#     logdir=f\"fold0\",\n",
    "#     callbacks=callbacks,\n",
    "#     main_metric=\"epoch_f1\",\n",
    "#     minimize_metric=False)"
   ]
  },
  {
   "cell_type": "code",
   "execution_count": 28,
   "metadata": {
    "execution": {
     "iopub.execute_input": "2020-09-16T06:00:36.057665Z",
     "iopub.status.busy": "2020-09-16T06:00:36.056010Z",
     "iopub.status.idle": "2020-09-16T06:00:36.058379Z",
     "shell.execute_reply": "2020-09-16T06:00:36.058846Z"
    },
    "papermill": {
     "duration": 0.056053,
     "end_time": "2020-09-16T06:00:36.058977",
     "exception": false,
     "start_time": "2020-09-16T06:00:36.002924",
     "status": "completed"
    },
    "tags": []
   },
   "outputs": [],
   "source": [
    "# torch.save(model,\"pan.pth\")"
   ]
  },
  {
   "cell_type": "code",
   "execution_count": 29,
   "metadata": {
    "execution": {
     "iopub.execute_input": "2020-09-16T06:00:36.162159Z",
     "iopub.status.busy": "2020-09-16T06:00:36.161487Z",
     "iopub.status.idle": "2020-09-16T06:00:36.166012Z",
     "shell.execute_reply": "2020-09-16T06:00:36.165480Z"
    },
    "papermill": {
     "duration": 0.057554,
     "end_time": "2020-09-16T06:00:36.166111",
     "exception": false,
     "start_time": "2020-09-16T06:00:36.108557",
     "status": "completed"
    },
    "tags": []
   },
   "outputs": [],
   "source": [
    "# model.load_state_dict(torch.load(\"pan.pth\").state_dict())"
   ]
  },
  {
   "cell_type": "markdown",
   "metadata": {
    "papermill": {
     "duration": 0.050521,
     "end_time": "2020-09-16T06:00:36.266316",
     "exception": false,
     "start_time": "2020-09-16T06:00:36.215795",
     "status": "completed"
    },
    "tags": []
   },
   "source": [
    "Seems it's learning something.\n",
    "\n",
    "Now I'll show how this model works in the inference phase. I'll use trained model of this which I trained by myself using the data of this competition in my local environment.\n",
    "\n",
    "Since [several concerns](https://www.kaggle.com/c/birdsong-recognition/discussion/172356) are expressed about over-sharing of top solutions during competition, and since I do respect those people who have worked hard to improve their scores, I would not make trained weight in common and would not share how I trained this model."
   ]
  },
  {
   "cell_type": "markdown",
   "metadata": {
    "papermill": {
     "duration": 0.049083,
     "end_time": "2020-09-16T06:00:36.365046",
     "exception": false,
     "start_time": "2020-09-16T06:00:36.315963",
     "status": "completed"
    },
    "tags": []
   },
   "source": [
    "## Prediction with SED model"
   ]
  },
  {
   "cell_type": "code",
   "execution_count": 30,
   "metadata": {
    "execution": {
     "iopub.execute_input": "2020-09-16T06:00:36.471109Z",
     "iopub.status.busy": "2020-09-16T06:00:36.470103Z",
     "iopub.status.idle": "2020-09-16T06:00:36.472246Z",
     "shell.execute_reply": "2020-09-16T06:00:36.472769Z"
    },
    "papermill": {
     "duration": 0.057524,
     "end_time": "2020-09-16T06:00:36.472882",
     "exception": false,
     "start_time": "2020-09-16T06:00:36.415358",
     "status": "completed"
    },
    "tags": []
   },
   "outputs": [],
   "source": [
    "model_config = {\n",
    "    \"sample_rate\": 32000,\n",
    "    \"window_size\": 1024,\n",
    "    \"hop_size\": 320,\n",
    "    \"mel_bins\": 64,\n",
    "    \"fmin\": 20,\n",
    "    \"fmax\": 16000,\n",
    "    \"classes_num\": 264\n",
    "}\n",
    "\n",
    "weights_path = \"../input/pan-model-new/fold1/checkpoints/best.pth\""
   ]
  },
  {
   "cell_type": "code",
   "execution_count": 31,
   "metadata": {
    "execution": {
     "iopub.execute_input": "2020-09-16T06:00:36.581032Z",
     "iopub.status.busy": "2020-09-16T06:00:36.579279Z",
     "iopub.status.idle": "2020-09-16T06:00:36.581811Z",
     "shell.execute_reply": "2020-09-16T06:00:36.582334Z"
    },
    "papermill": {
     "duration": 0.058931,
     "end_time": "2020-09-16T06:00:36.582445",
     "exception": false,
     "start_time": "2020-09-16T06:00:36.523514",
     "status": "completed"
    },
    "tags": []
   },
   "outputs": [],
   "source": [
    "def get_model(config: dict, weights_path: str):\n",
    "    model = PANNsCNN14Att(**config)\n",
    "    checkpoint = torch.load(weights_path)\n",
    "    model.load_state_dict(checkpoint[\"model_state_dict\"])\n",
    "    device = torch.device(\"cuda\")\n",
    "    model.to(device)\n",
    "    model.eval()\n",
    "    return model"
   ]
  },
  {
   "cell_type": "code",
   "execution_count": 32,
   "metadata": {
    "execution": {
     "iopub.execute_input": "2020-09-16T06:00:36.722597Z",
     "iopub.status.busy": "2020-09-16T06:00:36.721261Z",
     "iopub.status.idle": "2020-09-16T06:00:44.381754Z",
     "shell.execute_reply": "2020-09-16T06:00:44.381234Z"
    },
    "papermill": {
     "duration": 7.750074,
     "end_time": "2020-09-16T06:00:44.381866",
     "exception": false,
     "start_time": "2020-09-16T06:00:36.631792",
     "status": "completed"
    },
    "tags": []
   },
   "outputs": [],
   "source": [
    "best_model  = get_model(model_config, \"../input/pan-model/pan_model/best.pth\")\n",
    "model_2 = get_model(model_config, \"../input/pan-model/pan_model/fold2.pth\")\n",
    "model_4 = get_model(model_config, \"../input/pan-model-new/fold4.pth\")\n",
    "model_5 = get_model(model_config, \"../input/pan-model/pan_model/fold0.pth\")\n"
   ]
  },
  {
   "cell_type": "code",
   "execution_count": 33,
   "metadata": {
    "execution": {
     "iopub.execute_input": "2020-09-16T06:00:44.503783Z",
     "iopub.status.busy": "2020-09-16T06:00:44.493417Z",
     "iopub.status.idle": "2020-09-16T06:00:44.512146Z",
     "shell.execute_reply": "2020-09-16T06:00:44.511546Z"
    },
    "papermill": {
     "duration": 0.080552,
     "end_time": "2020-09-16T06:00:44.512241",
     "exception": false,
     "start_time": "2020-09-16T06:00:44.431689",
     "status": "completed"
    },
    "tags": []
   },
   "outputs": [],
   "source": [
    "def prediction_for_clip(test_df: pd.DataFrame,\n",
    "                        clip: np.ndarray, \n",
    "                        model: PANNsCNN14Att,\n",
    "                        threshold=0.5):\n",
    "    PERIOD = 10\n",
    "    audios = []\n",
    "    y = clip.astype(np.float32)\n",
    "    len_y = len(y)\n",
    "    start = 0\n",
    "    end = PERIOD * SR\n",
    "    while True:\n",
    "        y_batch = y[start:end].astype(np.float32)\n",
    "        if len(y_batch) != PERIOD * SR:\n",
    "            y_pad = np.zeros(PERIOD * SR, dtype=np.float32)\n",
    "            y_pad[:len(y_batch)] = y_batch\n",
    "            audios.append(y_pad)\n",
    "            break\n",
    "        start = end\n",
    "        end += PERIOD * SR\n",
    "        audios.append(y_batch)\n",
    "        \n",
    "    array = np.asarray(audios)\n",
    "    tensors = torch.from_numpy(array)\n",
    "    device = torch.device(\"cuda\" if torch.cuda.is_available() else \"cpu\")\n",
    "    \n",
    "    model.eval()\n",
    "    estimated_event_list = []\n",
    "    global_time = 0.0\n",
    "    site = test_df[\"site\"].values[0]\n",
    "    audio_id = test_df[\"audio_id\"].values[0]\n",
    "    for image in progress_bar(tensors):\n",
    "        image = image.view(1, image.size(0))\n",
    "        image = image.to(device)\n",
    "\n",
    "        with torch.no_grad():\n",
    "            prediction = model(image)[\"framewise_output\"].detach().cpu().numpy()[0]\n",
    "            prediction_2 = best_model(image)[\"framewise_output\"].detach().cpu().numpy()[0]\n",
    "            prediction_3 = model_2(image)[\"framewise_output\"].detach().cpu().numpy()[0]\n",
    "            prediction_4 = model_4(image)[\"framewise_output\"].detach().cpu().numpy()[0]\n",
    "            prediction_5 = model_5(image)[\"framewise_output\"].detach().cpu().numpy()[0]\n",
    "            \n",
    "            framewise_outputs = (prediction + prediction_2 + prediction_3 +prediction_4 +prediction_5 )/5\n",
    "            \n",
    "\n",
    "        thresholded = framewise_outputs >= threshold\n",
    "\n",
    "        for target_idx in range(thresholded.shape[1]):\n",
    "            if thresholded[:, target_idx].mean() == 0:\n",
    "                pass\n",
    "            else:\n",
    "                detected = np.argwhere(thresholded[:, target_idx]).reshape(-1)\n",
    "                head_idx = 0\n",
    "                tail_idx = 0\n",
    "                while True:\n",
    "                    if (tail_idx + 1 == len(detected)) or (\n",
    "                            detected[tail_idx + 1] - \n",
    "                            detected[tail_idx] != 1):\n",
    "                        onset = 0.01 * detected[\n",
    "                            head_idx] + global_time\n",
    "                        offset = 0.01 * detected[\n",
    "                            tail_idx] + global_time\n",
    "                        onset_idx = detected[head_idx]\n",
    "                        offset_idx = detected[tail_idx]\n",
    "                        max_confidence = framewise_outputs[\n",
    "                            onset_idx:offset_idx, target_idx].max()\n",
    "                        mean_confidence = framewise_outputs[\n",
    "                            onset_idx:offset_idx, target_idx].mean()\n",
    "                        estimated_event = {\n",
    "                            \"site\": site,\n",
    "                            \"audio_id\": audio_id,\n",
    "                            \"ebird_code\": INV_BIRD_CODE[target_idx],\n",
    "                            \"onset\": onset,\n",
    "                            \"offset\": offset,\n",
    "                            \"max_confidence\": max_confidence,\n",
    "                            \"mean_confidence\": mean_confidence\n",
    "                        }\n",
    "                        estimated_event_list.append(estimated_event)\n",
    "                        head_idx = tail_idx + 1\n",
    "                        tail_idx = tail_idx + 1\n",
    "                        if head_idx >= len(detected):\n",
    "                            break\n",
    "                    else:\n",
    "                        tail_idx += 1\n",
    "        global_time += PERIOD\n",
    "        \n",
    "    prediction_df = pd.DataFrame(estimated_event_list)\n",
    "    return prediction_df"
   ]
  },
  {
   "cell_type": "code",
   "execution_count": 34,
   "metadata": {
    "execution": {
     "iopub.execute_input": "2020-09-16T06:00:44.621146Z",
     "iopub.status.busy": "2020-09-16T06:00:44.619705Z",
     "iopub.status.idle": "2020-09-16T06:00:44.622741Z",
     "shell.execute_reply": "2020-09-16T06:00:44.622281Z"
    },
    "papermill": {
     "duration": 0.061743,
     "end_time": "2020-09-16T06:00:44.622836",
     "exception": false,
     "start_time": "2020-09-16T06:00:44.561093",
     "status": "completed"
    },
    "tags": []
   },
   "outputs": [],
   "source": [
    "def prediction(test_df: pd.DataFrame,\n",
    "               test_audio: Path,\n",
    "               model_config: dict,\n",
    "               weights_path: str,\n",
    "               threshold=0.5):\n",
    "    model = get_model(model_config, weights_path)\n",
    "    unique_audio_id = test_df.audio_id.unique()\n",
    "\n",
    "    warnings.filterwarnings(\"ignore\")\n",
    "    prediction_dfs = []\n",
    "    for audio_id in unique_audio_id:\n",
    "        with timer(f\"Loading {audio_id}\"):\n",
    "            clip, _ = librosa.load(test_audio / (audio_id + \".mp3\"),\n",
    "                                   sr=SR,\n",
    "                                   mono=True,\n",
    "                                   res_type=\"kaiser_fast\")\n",
    "        \n",
    "        test_df_for_audio_id = test_df.query(\n",
    "            f\"audio_id == '{audio_id}'\").reset_index(drop=True)\n",
    "        with timer(f\"Prediction on {audio_id}\"):\n",
    "            prediction_df = prediction_for_clip(test_df_for_audio_id,\n",
    "                                                clip=clip,\n",
    "                                                model=model,\n",
    "                                                threshold=threshold)\n",
    "\n",
    "        prediction_dfs.append(prediction_df)\n",
    "    \n",
    "    prediction_df = pd.concat(prediction_dfs, axis=0, sort=False).reset_index(drop=True)\n",
    "    return prediction_df"
   ]
  },
  {
   "cell_type": "code",
   "execution_count": 35,
   "metadata": {
    "execution": {
     "iopub.execute_input": "2020-09-16T06:00:44.728701Z",
     "iopub.status.busy": "2020-09-16T06:00:44.727376Z",
     "iopub.status.idle": "2020-09-16T06:01:08.761467Z",
     "shell.execute_reply": "2020-09-16T06:01:08.762051Z"
    },
    "papermill": {
     "duration": 24.089953,
     "end_time": "2020-09-16T06:01:08.762214",
     "exception": false,
     "start_time": "2020-09-16T06:00:44.672261",
     "status": "completed"
    },
    "tags": []
   },
   "outputs": [
    {
     "name": "stdout",
     "output_type": "stream",
     "text": [
      "[Loading 41e6fe6504a34bf6846938ba78d13df1] start\n",
      "[Loading 41e6fe6504a34bf6846938ba78d13df1] done in 1.47 s\n",
      "[Prediction on 41e6fe6504a34bf6846938ba78d13df1] start\n"
     ]
    },
    {
     "data": {
      "text/html": [
       "\n",
       "    <div>\n",
       "        <style>\n",
       "            /* Turns off some styling */\n",
       "            progress {\n",
       "                /* gets rid of default border in Firefox and Opera. */\n",
       "                border: none;\n",
       "                /* Needs to be in here for Safari polyfill so background images work as expected. */\n",
       "                background-size: auto;\n",
       "            }\n",
       "            .progress-bar-interrupted, .progress-bar-interrupted::-webkit-progress-bar {\n",
       "                background: #F44336;\n",
       "            }\n",
       "        </style>\n",
       "      <progress value='3' class='' max='3' style='width:300px; height:20px; vertical-align: middle;'></progress>\n",
       "      100.00% [3/3 00:01<00:00]\n",
       "    </div>\n",
       "    "
      ],
      "text/plain": [
       "<IPython.core.display.HTML object>"
      ]
     },
     "metadata": {},
     "output_type": "display_data"
    },
    {
     "name": "stdout",
     "output_type": "stream",
     "text": [
      "[Prediction on 41e6fe6504a34bf6846938ba78d13df1] done in 1.58 s\n",
      "[Loading cce64fffafed40f2b2f3d3413ec1c4c2] start\n",
      "[Loading cce64fffafed40f2b2f3d3413ec1c4c2] done in 0.77 s\n",
      "[Prediction on cce64fffafed40f2b2f3d3413ec1c4c2] start\n"
     ]
    },
    {
     "data": {
      "text/html": [
       "\n",
       "    <div>\n",
       "        <style>\n",
       "            /* Turns off some styling */\n",
       "            progress {\n",
       "                /* gets rid of default border in Firefox and Opera. */\n",
       "                border: none;\n",
       "                /* Needs to be in here for Safari polyfill so background images work as expected. */\n",
       "                background-size: auto;\n",
       "            }\n",
       "            .progress-bar-interrupted, .progress-bar-interrupted::-webkit-progress-bar {\n",
       "                background: #F44336;\n",
       "            }\n",
       "        </style>\n",
       "      <progress value='4' class='' max='4' style='width:300px; height:20px; vertical-align: middle;'></progress>\n",
       "      100.00% [4/4 00:00<00:00]\n",
       "    </div>\n",
       "    "
      ],
      "text/plain": [
       "<IPython.core.display.HTML object>"
      ]
     },
     "metadata": {},
     "output_type": "display_data"
    },
    {
     "name": "stdout",
     "output_type": "stream",
     "text": [
      "[Prediction on cce64fffafed40f2b2f3d3413ec1c4c2] done in 0.24 s\n",
      "[Loading 99af324c881246949408c0b1ae54271f] start\n",
      "[Loading 99af324c881246949408c0b1ae54271f] done in 0.97 s\n",
      "[Prediction on 99af324c881246949408c0b1ae54271f] start\n"
     ]
    },
    {
     "data": {
      "text/html": [
       "\n",
       "    <div>\n",
       "        <style>\n",
       "            /* Turns off some styling */\n",
       "            progress {\n",
       "                /* gets rid of default border in Firefox and Opera. */\n",
       "                border: none;\n",
       "                /* Needs to be in here for Safari polyfill so background images work as expected. */\n",
       "                background-size: auto;\n",
       "            }\n",
       "            .progress-bar-interrupted, .progress-bar-interrupted::-webkit-progress-bar {\n",
       "                background: #F44336;\n",
       "            }\n",
       "        </style>\n",
       "      <progress value='4' class='' max='4' style='width:300px; height:20px; vertical-align: middle;'></progress>\n",
       "      100.00% [4/4 00:00<00:00]\n",
       "    </div>\n",
       "    "
      ],
      "text/plain": [
       "<IPython.core.display.HTML object>"
      ]
     },
     "metadata": {},
     "output_type": "display_data"
    },
    {
     "name": "stdout",
     "output_type": "stream",
     "text": [
      "[Prediction on 99af324c881246949408c0b1ae54271f] done in 0.27 s\n",
      "[Loading 6ab74e177aa149468a39ca10beed6222] start\n",
      "[Loading 6ab74e177aa149468a39ca10beed6222] done in 0.73 s\n",
      "[Prediction on 6ab74e177aa149468a39ca10beed6222] start\n"
     ]
    },
    {
     "data": {
      "text/html": [
       "\n",
       "    <div>\n",
       "        <style>\n",
       "            /* Turns off some styling */\n",
       "            progress {\n",
       "                /* gets rid of default border in Firefox and Opera. */\n",
       "                border: none;\n",
       "                /* Needs to be in here for Safari polyfill so background images work as expected. */\n",
       "                background-size: auto;\n",
       "            }\n",
       "            .progress-bar-interrupted, .progress-bar-interrupted::-webkit-progress-bar {\n",
       "                background: #F44336;\n",
       "            }\n",
       "        </style>\n",
       "      <progress value='4' class='' max='4' style='width:300px; height:20px; vertical-align: middle;'></progress>\n",
       "      100.00% [4/4 00:00<00:00]\n",
       "    </div>\n",
       "    "
      ],
      "text/plain": [
       "<IPython.core.display.HTML object>"
      ]
     },
     "metadata": {},
     "output_type": "display_data"
    },
    {
     "name": "stdout",
     "output_type": "stream",
     "text": [
      "[Prediction on 6ab74e177aa149468a39ca10beed6222] done in 0.24 s\n",
      "[Loading b2fd3f01e9284293a1e33f9c811a2ed6] start\n",
      "[Loading b2fd3f01e9284293a1e33f9c811a2ed6] done in 0.78 s\n",
      "[Prediction on b2fd3f01e9284293a1e33f9c811a2ed6] start\n"
     ]
    },
    {
     "data": {
      "text/html": [
       "\n",
       "    <div>\n",
       "        <style>\n",
       "            /* Turns off some styling */\n",
       "            progress {\n",
       "                /* gets rid of default border in Firefox and Opera. */\n",
       "                border: none;\n",
       "                /* Needs to be in here for Safari polyfill so background images work as expected. */\n",
       "                background-size: auto;\n",
       "            }\n",
       "            .progress-bar-interrupted, .progress-bar-interrupted::-webkit-progress-bar {\n",
       "                background: #F44336;\n",
       "            }\n",
       "        </style>\n",
       "      <progress value='4' class='' max='4' style='width:300px; height:20px; vertical-align: middle;'></progress>\n",
       "      100.00% [4/4 00:00<00:00]\n",
       "    </div>\n",
       "    "
      ],
      "text/plain": [
       "<IPython.core.display.HTML object>"
      ]
     },
     "metadata": {},
     "output_type": "display_data"
    },
    {
     "name": "stdout",
     "output_type": "stream",
     "text": [
      "[Prediction on b2fd3f01e9284293a1e33f9c811a2ed6] done in 0.24 s\n",
      "[Loading de62b37ebba749d2abf29d4a493ea5d4] start\n",
      "[Loading de62b37ebba749d2abf29d4a493ea5d4] done in 0.44 s\n",
      "[Prediction on de62b37ebba749d2abf29d4a493ea5d4] start\n"
     ]
    },
    {
     "data": {
      "text/html": [
       "\n",
       "    <div>\n",
       "        <style>\n",
       "            /* Turns off some styling */\n",
       "            progress {\n",
       "                /* gets rid of default border in Firefox and Opera. */\n",
       "                border: none;\n",
       "                /* Needs to be in here for Safari polyfill so background images work as expected. */\n",
       "                background-size: auto;\n",
       "            }\n",
       "            .progress-bar-interrupted, .progress-bar-interrupted::-webkit-progress-bar {\n",
       "                background: #F44336;\n",
       "            }\n",
       "        </style>\n",
       "      <progress value='1' class='' max='1' style='width:300px; height:20px; vertical-align: middle;'></progress>\n",
       "      100.00% [1/1 00:00<00:00]\n",
       "    </div>\n",
       "    "
      ],
      "text/plain": [
       "<IPython.core.display.HTML object>"
      ]
     },
     "metadata": {},
     "output_type": "display_data"
    },
    {
     "name": "stdout",
     "output_type": "stream",
     "text": [
      "[Prediction on de62b37ebba749d2abf29d4a493ea5d4] done in 0.07 s\n",
      "[Loading 8680a8dd845d40f296246dbed0d37394] start\n",
      "[Loading 8680a8dd845d40f296246dbed0d37394] done in 0.94 s\n",
      "[Prediction on 8680a8dd845d40f296246dbed0d37394] start\n"
     ]
    },
    {
     "data": {
      "text/html": [
       "\n",
       "    <div>\n",
       "        <style>\n",
       "            /* Turns off some styling */\n",
       "            progress {\n",
       "                /* gets rid of default border in Firefox and Opera. */\n",
       "                border: none;\n",
       "                /* Needs to be in here for Safari polyfill so background images work as expected. */\n",
       "                background-size: auto;\n",
       "            }\n",
       "            .progress-bar-interrupted, .progress-bar-interrupted::-webkit-progress-bar {\n",
       "                background: #F44336;\n",
       "            }\n",
       "        </style>\n",
       "      <progress value='5' class='' max='5' style='width:300px; height:20px; vertical-align: middle;'></progress>\n",
       "      100.00% [5/5 00:00<00:00]\n",
       "    </div>\n",
       "    "
      ],
      "text/plain": [
       "<IPython.core.display.HTML object>"
      ]
     },
     "metadata": {},
     "output_type": "display_data"
    },
    {
     "name": "stdout",
     "output_type": "stream",
     "text": [
      "[Prediction on 8680a8dd845d40f296246dbed0d37394] done in 0.30 s\n",
      "[Loading 940d546e5eb745c9a74bce3f35efa1f9] start\n",
      "[Loading 940d546e5eb745c9a74bce3f35efa1f9] done in 1.23 s\n",
      "[Prediction on 940d546e5eb745c9a74bce3f35efa1f9] start\n"
     ]
    },
    {
     "data": {
      "text/html": [
       "\n",
       "    <div>\n",
       "        <style>\n",
       "            /* Turns off some styling */\n",
       "            progress {\n",
       "                /* gets rid of default border in Firefox and Opera. */\n",
       "                border: none;\n",
       "                /* Needs to be in here for Safari polyfill so background images work as expected. */\n",
       "                background-size: auto;\n",
       "            }\n",
       "            .progress-bar-interrupted, .progress-bar-interrupted::-webkit-progress-bar {\n",
       "                background: #F44336;\n",
       "            }\n",
       "        </style>\n",
       "      <progress value='8' class='' max='8' style='width:300px; height:20px; vertical-align: middle;'></progress>\n",
       "      100.00% [8/8 00:00<00:00]\n",
       "    </div>\n",
       "    "
      ],
      "text/plain": [
       "<IPython.core.display.HTML object>"
      ]
     },
     "metadata": {},
     "output_type": "display_data"
    },
    {
     "name": "stdout",
     "output_type": "stream",
     "text": [
      "[Prediction on 940d546e5eb745c9a74bce3f35efa1f9] done in 0.47 s\n",
      "[Loading 07ab324c602e4afab65ddbcc746c31b5] start\n",
      "[Loading 07ab324c602e4afab65ddbcc746c31b5] done in 0.64 s\n",
      "[Prediction on 07ab324c602e4afab65ddbcc746c31b5] start\n"
     ]
    },
    {
     "data": {
      "text/html": [
       "\n",
       "    <div>\n",
       "        <style>\n",
       "            /* Turns off some styling */\n",
       "            progress {\n",
       "                /* gets rid of default border in Firefox and Opera. */\n",
       "                border: none;\n",
       "                /* Needs to be in here for Safari polyfill so background images work as expected. */\n",
       "                background-size: auto;\n",
       "            }\n",
       "            .progress-bar-interrupted, .progress-bar-interrupted::-webkit-progress-bar {\n",
       "                background: #F44336;\n",
       "            }\n",
       "        </style>\n",
       "      <progress value='3' class='' max='3' style='width:300px; height:20px; vertical-align: middle;'></progress>\n",
       "      100.00% [3/3 00:00<00:00]\n",
       "    </div>\n",
       "    "
      ],
      "text/plain": [
       "<IPython.core.display.HTML object>"
      ]
     },
     "metadata": {},
     "output_type": "display_data"
    },
    {
     "name": "stdout",
     "output_type": "stream",
     "text": [
      "[Prediction on 07ab324c602e4afab65ddbcc746c31b5] done in 0.18 s\n",
      "[Loading 899616723a32409c996f6f3441646c2a] start\n",
      "[Loading 899616723a32409c996f6f3441646c2a] done in 0.94 s\n",
      "[Prediction on 899616723a32409c996f6f3441646c2a] start\n"
     ]
    },
    {
     "data": {
      "text/html": [
       "\n",
       "    <div>\n",
       "        <style>\n",
       "            /* Turns off some styling */\n",
       "            progress {\n",
       "                /* gets rid of default border in Firefox and Opera. */\n",
       "                border: none;\n",
       "                /* Needs to be in here for Safari polyfill so background images work as expected. */\n",
       "                background-size: auto;\n",
       "            }\n",
       "            .progress-bar-interrupted, .progress-bar-interrupted::-webkit-progress-bar {\n",
       "                background: #F44336;\n",
       "            }\n",
       "        </style>\n",
       "      <progress value='6' class='' max='6' style='width:300px; height:20px; vertical-align: middle;'></progress>\n",
       "      100.00% [6/6 00:00<00:00]\n",
       "    </div>\n",
       "    "
      ],
      "text/plain": [
       "<IPython.core.display.HTML object>"
      ]
     },
     "metadata": {},
     "output_type": "display_data"
    },
    {
     "name": "stdout",
     "output_type": "stream",
     "text": [
      "[Prediction on 899616723a32409c996f6f3441646c2a] done in 0.36 s\n",
      "[Loading 9cc5d9646f344f1bbb52640a988fe902] start\n",
      "[Loading 9cc5d9646f344f1bbb52640a988fe902] done in 4.06 s\n",
      "[Prediction on 9cc5d9646f344f1bbb52640a988fe902] start\n"
     ]
    },
    {
     "data": {
      "text/html": [
       "\n",
       "    <div>\n",
       "        <style>\n",
       "            /* Turns off some styling */\n",
       "            progress {\n",
       "                /* gets rid of default border in Firefox and Opera. */\n",
       "                border: none;\n",
       "                /* Needs to be in here for Safari polyfill so background images work as expected. */\n",
       "                background-size: auto;\n",
       "            }\n",
       "            .progress-bar-interrupted, .progress-bar-interrupted::-webkit-progress-bar {\n",
       "                background: #F44336;\n",
       "            }\n",
       "        </style>\n",
       "      <progress value='27' class='' max='27' style='width:300px; height:20px; vertical-align: middle;'></progress>\n",
       "      100.00% [27/27 00:01<00:00]\n",
       "    </div>\n",
       "    "
      ],
      "text/plain": [
       "<IPython.core.display.HTML object>"
      ]
     },
     "metadata": {},
     "output_type": "display_data"
    },
    {
     "name": "stdout",
     "output_type": "stream",
     "text": [
      "[Prediction on 9cc5d9646f344f1bbb52640a988fe902] done in 1.64 s\n",
      "[Loading a56e20a518684688a9952add8a9d5213] start\n",
      "[Loading a56e20a518684688a9952add8a9d5213] done in 0.73 s\n",
      "[Prediction on a56e20a518684688a9952add8a9d5213] start\n"
     ]
    },
    {
     "data": {
      "text/html": [
       "\n",
       "    <div>\n",
       "        <style>\n",
       "            /* Turns off some styling */\n",
       "            progress {\n",
       "                /* gets rid of default border in Firefox and Opera. */\n",
       "                border: none;\n",
       "                /* Needs to be in here for Safari polyfill so background images work as expected. */\n",
       "                background-size: auto;\n",
       "            }\n",
       "            .progress-bar-interrupted, .progress-bar-interrupted::-webkit-progress-bar {\n",
       "                background: #F44336;\n",
       "            }\n",
       "        </style>\n",
       "      <progress value='4' class='' max='4' style='width:300px; height:20px; vertical-align: middle;'></progress>\n",
       "      100.00% [4/4 00:00<00:00]\n",
       "    </div>\n",
       "    "
      ],
      "text/plain": [
       "<IPython.core.display.HTML object>"
      ]
     },
     "metadata": {},
     "output_type": "display_data"
    },
    {
     "name": "stdout",
     "output_type": "stream",
     "text": [
      "[Prediction on a56e20a518684688a9952add8a9d5213] done in 0.24 s\n",
      "[Loading 96779836288745728306903d54e264dd] start\n",
      "[Loading 96779836288745728306903d54e264dd] done in 0.55 s\n",
      "[Prediction on 96779836288745728306903d54e264dd] start\n"
     ]
    },
    {
     "data": {
      "text/html": [
       "\n",
       "    <div>\n",
       "        <style>\n",
       "            /* Turns off some styling */\n",
       "            progress {\n",
       "                /* gets rid of default border in Firefox and Opera. */\n",
       "                border: none;\n",
       "                /* Needs to be in here for Safari polyfill so background images work as expected. */\n",
       "                background-size: auto;\n",
       "            }\n",
       "            .progress-bar-interrupted, .progress-bar-interrupted::-webkit-progress-bar {\n",
       "                background: #F44336;\n",
       "            }\n",
       "        </style>\n",
       "      <progress value='2' class='' max='2' style='width:300px; height:20px; vertical-align: middle;'></progress>\n",
       "      100.00% [2/2 00:00<00:00]\n",
       "    </div>\n",
       "    "
      ],
      "text/plain": [
       "<IPython.core.display.HTML object>"
      ]
     },
     "metadata": {},
     "output_type": "display_data"
    },
    {
     "name": "stdout",
     "output_type": "stream",
     "text": [
      "[Prediction on 96779836288745728306903d54e264dd] done in 0.13 s\n",
      "[Loading f77783ba4c6641bc918b034a18c23e53] start\n",
      "[Loading f77783ba4c6641bc918b034a18c23e53] done in 0.61 s\n",
      "[Prediction on f77783ba4c6641bc918b034a18c23e53] start\n"
     ]
    },
    {
     "data": {
      "text/html": [
       "\n",
       "    <div>\n",
       "        <style>\n",
       "            /* Turns off some styling */\n",
       "            progress {\n",
       "                /* gets rid of default border in Firefox and Opera. */\n",
       "                border: none;\n",
       "                /* Needs to be in here for Safari polyfill so background images work as expected. */\n",
       "                background-size: auto;\n",
       "            }\n",
       "            .progress-bar-interrupted, .progress-bar-interrupted::-webkit-progress-bar {\n",
       "                background: #F44336;\n",
       "            }\n",
       "        </style>\n",
       "      <progress value='1' class='' max='1' style='width:300px; height:20px; vertical-align: middle;'></progress>\n",
       "      100.00% [1/1 00:00<00:00]\n",
       "    </div>\n",
       "    "
      ],
      "text/plain": [
       "<IPython.core.display.HTML object>"
      ]
     },
     "metadata": {},
     "output_type": "display_data"
    },
    {
     "name": "stdout",
     "output_type": "stream",
     "text": [
      "[Prediction on f77783ba4c6641bc918b034a18c23e53] done in 0.07 s\n",
      "[Loading 856b194b097441958697c2bcd1f63982] start\n",
      "[Loading 856b194b097441958697c2bcd1f63982] done in 0.98 s\n",
      "[Prediction on 856b194b097441958697c2bcd1f63982] start\n"
     ]
    },
    {
     "data": {
      "text/html": [
       "\n",
       "    <div>\n",
       "        <style>\n",
       "            /* Turns off some styling */\n",
       "            progress {\n",
       "                /* gets rid of default border in Firefox and Opera. */\n",
       "                border: none;\n",
       "                /* Needs to be in here for Safari polyfill so background images work as expected. */\n",
       "                background-size: auto;\n",
       "            }\n",
       "            .progress-bar-interrupted, .progress-bar-interrupted::-webkit-progress-bar {\n",
       "                background: #F44336;\n",
       "            }\n",
       "        </style>\n",
       "      <progress value='3' class='' max='3' style='width:300px; height:20px; vertical-align: middle;'></progress>\n",
       "      100.00% [3/3 00:00<00:00]\n",
       "    </div>\n",
       "    "
      ],
      "text/plain": [
       "<IPython.core.display.HTML object>"
      ]
     },
     "metadata": {},
     "output_type": "display_data"
    },
    {
     "name": "stdout",
     "output_type": "stream",
     "text": [
      "[Prediction on 856b194b097441958697c2bcd1f63982] done in 0.18 s\n"
     ]
    }
   ],
   "source": [
    "prediction_df = prediction(test_df=test,\n",
    "                           test_audio=TEST_AUDIO_DIR,\n",
    "                           model_config=model_config,\n",
    "                           weights_path=weights_path,\n",
    "                           threshold=0.5)"
   ]
  },
  {
   "cell_type": "code",
   "execution_count": 36,
   "metadata": {
    "execution": {
     "iopub.execute_input": "2020-09-16T06:01:08.923616Z",
     "iopub.status.busy": "2020-09-16T06:01:08.922437Z",
     "iopub.status.idle": "2020-09-16T06:01:08.927869Z",
     "shell.execute_reply": "2020-09-16T06:01:08.927297Z"
    },
    "papermill": {
     "duration": 0.094589,
     "end_time": "2020-09-16T06:01:08.928015",
     "exception": false,
     "start_time": "2020-09-16T06:01:08.833426",
     "status": "completed"
    },
    "tags": []
   },
   "outputs": [
    {
     "data": {
      "text/html": [
       "<div>\n",
       "<style scoped>\n",
       "    .dataframe tbody tr th:only-of-type {\n",
       "        vertical-align: middle;\n",
       "    }\n",
       "\n",
       "    .dataframe tbody tr th {\n",
       "        vertical-align: top;\n",
       "    }\n",
       "\n",
       "    .dataframe thead th {\n",
       "        text-align: right;\n",
       "    }\n",
       "</style>\n",
       "<table border=\"1\" class=\"dataframe\">\n",
       "  <thead>\n",
       "    <tr style=\"text-align: right;\">\n",
       "      <th></th>\n",
       "      <th>site</th>\n",
       "      <th>audio_id</th>\n",
       "      <th>ebird_code</th>\n",
       "      <th>onset</th>\n",
       "      <th>offset</th>\n",
       "      <th>max_confidence</th>\n",
       "      <th>mean_confidence</th>\n",
       "    </tr>\n",
       "  </thead>\n",
       "  <tbody>\n",
       "    <tr>\n",
       "      <th>0</th>\n",
       "      <td>site_1</td>\n",
       "      <td>41e6fe6504a34bf6846938ba78d13df1</td>\n",
       "      <td>aldfly</td>\n",
       "      <td>0.32</td>\n",
       "      <td>2.55</td>\n",
       "      <td>0.996665</td>\n",
       "      <td>0.899895</td>\n",
       "    </tr>\n",
       "    <tr>\n",
       "      <th>1</th>\n",
       "      <td>site_1</td>\n",
       "      <td>41e6fe6504a34bf6846938ba78d13df1</td>\n",
       "      <td>aldfly</td>\n",
       "      <td>6.72</td>\n",
       "      <td>8.63</td>\n",
       "      <td>0.958681</td>\n",
       "      <td>0.843269</td>\n",
       "    </tr>\n",
       "    <tr>\n",
       "      <th>2</th>\n",
       "      <td>site_1</td>\n",
       "      <td>41e6fe6504a34bf6846938ba78d13df1</td>\n",
       "      <td>amegfi</td>\n",
       "      <td>3.52</td>\n",
       "      <td>5.75</td>\n",
       "      <td>0.872339</td>\n",
       "      <td>0.788426</td>\n",
       "    </tr>\n",
       "    <tr>\n",
       "      <th>3</th>\n",
       "      <td>site_1</td>\n",
       "      <td>41e6fe6504a34bf6846938ba78d13df1</td>\n",
       "      <td>amegfi</td>\n",
       "      <td>8.32</td>\n",
       "      <td>8.63</td>\n",
       "      <td>0.514920</td>\n",
       "      <td>0.514920</td>\n",
       "    </tr>\n",
       "    <tr>\n",
       "      <th>4</th>\n",
       "      <td>site_1</td>\n",
       "      <td>41e6fe6504a34bf6846938ba78d13df1</td>\n",
       "      <td>amered</td>\n",
       "      <td>8.64</td>\n",
       "      <td>10.00</td>\n",
       "      <td>0.871997</td>\n",
       "      <td>0.802426</td>\n",
       "    </tr>\n",
       "    <tr>\n",
       "      <th>...</th>\n",
       "      <td>...</td>\n",
       "      <td>...</td>\n",
       "      <td>...</td>\n",
       "      <td>...</td>\n",
       "      <td>...</td>\n",
       "      <td>...</td>\n",
       "      <td>...</td>\n",
       "    </tr>\n",
       "    <tr>\n",
       "      <th>959</th>\n",
       "      <td>site_3</td>\n",
       "      <td>856b194b097441958697c2bcd1f63982</td>\n",
       "      <td>aldfly</td>\n",
       "      <td>14.16</td>\n",
       "      <td>15.75</td>\n",
       "      <td>0.999923</td>\n",
       "      <td>0.949553</td>\n",
       "    </tr>\n",
       "    <tr>\n",
       "      <th>960</th>\n",
       "      <td>site_3</td>\n",
       "      <td>856b194b097441958697c2bcd1f63982</td>\n",
       "      <td>aldfly</td>\n",
       "      <td>17.68</td>\n",
       "      <td>19.59</td>\n",
       "      <td>0.983224</td>\n",
       "      <td>0.818282</td>\n",
       "    </tr>\n",
       "    <tr>\n",
       "      <th>961</th>\n",
       "      <td>site_3</td>\n",
       "      <td>856b194b097441958697c2bcd1f63982</td>\n",
       "      <td>aldfly</td>\n",
       "      <td>20.00</td>\n",
       "      <td>24.15</td>\n",
       "      <td>0.994810</td>\n",
       "      <td>0.908292</td>\n",
       "    </tr>\n",
       "    <tr>\n",
       "      <th>962</th>\n",
       "      <td>site_3</td>\n",
       "      <td>856b194b097441958697c2bcd1f63982</td>\n",
       "      <td>aldfly</td>\n",
       "      <td>25.44</td>\n",
       "      <td>27.03</td>\n",
       "      <td>0.998066</td>\n",
       "      <td>0.954702</td>\n",
       "    </tr>\n",
       "    <tr>\n",
       "      <th>963</th>\n",
       "      <td>site_3</td>\n",
       "      <td>856b194b097441958697c2bcd1f63982</td>\n",
       "      <td>aldfly</td>\n",
       "      <td>27.68</td>\n",
       "      <td>29.27</td>\n",
       "      <td>0.999895</td>\n",
       "      <td>0.923914</td>\n",
       "    </tr>\n",
       "  </tbody>\n",
       "</table>\n",
       "<p>964 rows × 7 columns</p>\n",
       "</div>"
      ],
      "text/plain": [
       "       site                          audio_id ebird_code  onset  offset  \\\n",
       "0    site_1  41e6fe6504a34bf6846938ba78d13df1     aldfly   0.32    2.55   \n",
       "1    site_1  41e6fe6504a34bf6846938ba78d13df1     aldfly   6.72    8.63   \n",
       "2    site_1  41e6fe6504a34bf6846938ba78d13df1     amegfi   3.52    5.75   \n",
       "3    site_1  41e6fe6504a34bf6846938ba78d13df1     amegfi   8.32    8.63   \n",
       "4    site_1  41e6fe6504a34bf6846938ba78d13df1     amered   8.64   10.00   \n",
       "..      ...                               ...        ...    ...     ...   \n",
       "959  site_3  856b194b097441958697c2bcd1f63982     aldfly  14.16   15.75   \n",
       "960  site_3  856b194b097441958697c2bcd1f63982     aldfly  17.68   19.59   \n",
       "961  site_3  856b194b097441958697c2bcd1f63982     aldfly  20.00   24.15   \n",
       "962  site_3  856b194b097441958697c2bcd1f63982     aldfly  25.44   27.03   \n",
       "963  site_3  856b194b097441958697c2bcd1f63982     aldfly  27.68   29.27   \n",
       "\n",
       "     max_confidence  mean_confidence  \n",
       "0          0.996665         0.899895  \n",
       "1          0.958681         0.843269  \n",
       "2          0.872339         0.788426  \n",
       "3          0.514920         0.514920  \n",
       "4          0.871997         0.802426  \n",
       "..              ...              ...  \n",
       "959        0.999923         0.949553  \n",
       "960        0.983224         0.818282  \n",
       "961        0.994810         0.908292  \n",
       "962        0.998066         0.954702  \n",
       "963        0.999895         0.923914  \n",
       "\n",
       "[964 rows x 7 columns]"
      ]
     },
     "execution_count": 36,
     "metadata": {},
     "output_type": "execute_result"
    }
   ],
   "source": [
    "prediction_df"
   ]
  },
  {
   "cell_type": "markdown",
   "metadata": {
    "papermill": {
     "duration": 0.071089,
     "end_time": "2020-09-16T06:01:09.073255",
     "exception": false,
     "start_time": "2020-09-16T06:01:09.002166",
     "status": "completed"
    },
    "tags": []
   },
   "source": [
    "## Postprocess\n"
   ]
  },
  {
   "cell_type": "code",
   "execution_count": 37,
   "metadata": {
    "execution": {
     "iopub.execute_input": "2020-09-16T06:01:09.225708Z",
     "iopub.status.busy": "2020-09-16T06:01:09.224719Z",
     "iopub.status.idle": "2020-09-16T06:01:10.511701Z",
     "shell.execute_reply": "2020-09-16T06:01:10.510502Z"
    },
    "papermill": {
     "duration": 1.368523,
     "end_time": "2020-09-16T06:01:10.511823",
     "exception": false,
     "start_time": "2020-09-16T06:01:09.143300",
     "status": "completed"
    },
    "tags": []
   },
   "outputs": [],
   "source": [
    "labels = {}\n",
    "\n",
    "for audio_id, sub_df in prediction_df.groupby(\"audio_id\"):\n",
    "    events = sub_df[[\"ebird_code\", \"onset\", \"offset\", \"max_confidence\", \"site\"]].values\n",
    "    n_events = len(events)\n",
    "    removed_event = []\n",
    "    # Overlap deletion: this part may not be necessary\n",
    "    # I deleted this part in other model and found there's no difference on the public LB score.\n",
    "    for i in range(n_events):\n",
    "        for j in range(n_events):\n",
    "            if i == j:\n",
    "                continue\n",
    "            if i in removed_event:\n",
    "                continue\n",
    "            if j in removed_event:\n",
    "                continue\n",
    "            \n",
    "            event_i = events[i]\n",
    "            event_j = events[j]\n",
    "            \n",
    "            if (event_i[1] - event_j[2] >= 0) or (event_j[1] - event_i[2] >= 0):\n",
    "                pass\n",
    "            else:\n",
    "                later_onset = max(event_i[1], event_j[1])\n",
    "                sooner_onset = min(event_i[1], event_j[1])\n",
    "                sooner_offset = min(event_i[2], event_j[2])\n",
    "                later_offset = max(event_i[2], event_j[2])\n",
    "\n",
    "                intersection = sooner_offset - later_onset\n",
    "                union = later_offset - sooner_onset\n",
    "                \n",
    "                iou = intersection / union\n",
    "                if iou > 0.4:\n",
    "                    if event_i[3] > event_j[3]:\n",
    "                        removed_event.append(j)\n",
    "                    else:\n",
    "                        removed_event.append(i)\n",
    "\n",
    "    site = events[0][4]\n",
    "    for i in range(n_events):\n",
    "        if i in removed_event:\n",
    "            continue\n",
    "        event = events[i][0]\n",
    "        onset = events[i][1]\n",
    "        offset = events[i][2]\n",
    "        if site in {\"site_1\", \"site_2\"}:\n",
    "            start_section = int((onset // 5) * 5) + 5\n",
    "            end_section = int((offset // 5) * 5) + 5\n",
    "            cur_section = start_section\n",
    "\n",
    "            row_id = f\"{site}_{audio_id}_{start_section}\"\n",
    "            if labels.get(row_id) is not None:\n",
    "                labels[row_id].add(event)\n",
    "            else:\n",
    "                labels[row_id] = set()\n",
    "                labels[row_id].add(event)\n",
    "\n",
    "            while cur_section != end_section:\n",
    "                cur_section += 5\n",
    "                row_id = f\"{site}_{audio_id}_{cur_section}\"\n",
    "                if labels.get(row_id) is not None:\n",
    "                    labels[row_id].add(event)\n",
    "                else:\n",
    "                    labels[row_id] = set()\n",
    "                    labels[row_id].add(event)\n",
    "        else:\n",
    "            row_id = f\"{site}_{audio_id}\"\n",
    "            if labels.get(row_id) is not None:\n",
    "                labels[row_id].add(event)\n",
    "            else:\n",
    "                labels[row_id] = set()\n",
    "                labels[row_id].add(event)"
   ]
  },
  {
   "cell_type": "code",
   "execution_count": 38,
   "metadata": {
    "execution": {
     "iopub.execute_input": "2020-09-16T06:01:10.666979Z",
     "iopub.status.busy": "2020-09-16T06:01:10.665875Z",
     "iopub.status.idle": "2020-09-16T06:01:10.671191Z",
     "shell.execute_reply": "2020-09-16T06:01:10.670652Z"
    },
    "papermill": {
     "duration": 0.088487,
     "end_time": "2020-09-16T06:01:10.671288",
     "exception": false,
     "start_time": "2020-09-16T06:01:10.582801",
     "status": "completed"
    },
    "tags": []
   },
   "outputs": [
    {
     "data": {
      "text/html": [
       "<div>\n",
       "<style scoped>\n",
       "    .dataframe tbody tr th:only-of-type {\n",
       "        vertical-align: middle;\n",
       "    }\n",
       "\n",
       "    .dataframe tbody tr th {\n",
       "        vertical-align: top;\n",
       "    }\n",
       "\n",
       "    .dataframe thead th {\n",
       "        text-align: right;\n",
       "    }\n",
       "</style>\n",
       "<table border=\"1\" class=\"dataframe\">\n",
       "  <thead>\n",
       "    <tr style=\"text-align: right;\">\n",
       "      <th></th>\n",
       "      <th>row_id</th>\n",
       "      <th>birds</th>\n",
       "    </tr>\n",
       "  </thead>\n",
       "  <tbody>\n",
       "    <tr>\n",
       "      <th>0</th>\n",
       "      <td>site_2_07ab324c602e4afab65ddbcc746c31b5_5</td>\n",
       "      <td>aldfly blujay comyel</td>\n",
       "    </tr>\n",
       "    <tr>\n",
       "      <th>1</th>\n",
       "      <td>site_2_07ab324c602e4afab65ddbcc746c31b5_10</td>\n",
       "      <td>aldfly linspa</td>\n",
       "    </tr>\n",
       "    <tr>\n",
       "      <th>2</th>\n",
       "      <td>site_2_07ab324c602e4afab65ddbcc746c31b5_15</td>\n",
       "      <td>aldfly</td>\n",
       "    </tr>\n",
       "    <tr>\n",
       "      <th>3</th>\n",
       "      <td>site_2_07ab324c602e4afab65ddbcc746c31b5_25</td>\n",
       "      <td>aldfly leafly</td>\n",
       "    </tr>\n",
       "    <tr>\n",
       "      <th>4</th>\n",
       "      <td>site_1_41e6fe6504a34bf6846938ba78d13df1_5</td>\n",
       "      <td>aldfly balori comyel grycat leafly wilfly</td>\n",
       "    </tr>\n",
       "  </tbody>\n",
       "</table>\n",
       "</div>"
      ],
      "text/plain": [
       "                                       row_id  \\\n",
       "0   site_2_07ab324c602e4afab65ddbcc746c31b5_5   \n",
       "1  site_2_07ab324c602e4afab65ddbcc746c31b5_10   \n",
       "2  site_2_07ab324c602e4afab65ddbcc746c31b5_15   \n",
       "3  site_2_07ab324c602e4afab65ddbcc746c31b5_25   \n",
       "4   site_1_41e6fe6504a34bf6846938ba78d13df1_5   \n",
       "\n",
       "                                       birds  \n",
       "0                       aldfly blujay comyel  \n",
       "1                              aldfly linspa  \n",
       "2                                     aldfly  \n",
       "3                              aldfly leafly  \n",
       "4  aldfly balori comyel grycat leafly wilfly  "
      ]
     },
     "execution_count": 38,
     "metadata": {},
     "output_type": "execute_result"
    }
   ],
   "source": [
    "for key in labels:\n",
    "    labels[key] = \" \".join(sorted(list(labels[key])))\n",
    "    \n",
    "    \n",
    "row_ids = list(labels.keys())\n",
    "birds = list(labels.values())\n",
    "post_processed = pd.DataFrame({\n",
    "    \"row_id\": row_ids,\n",
    "    \"birds\": birds\n",
    "})\n",
    "post_processed.head()"
   ]
  },
  {
   "cell_type": "code",
   "execution_count": 39,
   "metadata": {
    "execution": {
     "iopub.execute_input": "2020-09-16T06:01:10.827803Z",
     "iopub.status.busy": "2020-09-16T06:01:10.821296Z",
     "iopub.status.idle": "2020-09-16T06:01:10.892049Z",
     "shell.execute_reply": "2020-09-16T06:01:10.891497Z"
    },
    "papermill": {
     "duration": 0.149933,
     "end_time": "2020-09-16T06:01:10.892156",
     "exception": false,
     "start_time": "2020-09-16T06:01:10.742223",
     "status": "completed"
    },
    "tags": []
   },
   "outputs": [
    {
     "data": {
      "text/html": [
       "<div>\n",
       "<style scoped>\n",
       "    .dataframe tbody tr th:only-of-type {\n",
       "        vertical-align: middle;\n",
       "    }\n",
       "\n",
       "    .dataframe tbody tr th {\n",
       "        vertical-align: top;\n",
       "    }\n",
       "\n",
       "    .dataframe thead th {\n",
       "        text-align: right;\n",
       "    }\n",
       "</style>\n",
       "<table border=\"1\" class=\"dataframe\">\n",
       "  <thead>\n",
       "    <tr style=\"text-align: right;\">\n",
       "      <th></th>\n",
       "      <th>row_id</th>\n",
       "      <th>birds</th>\n",
       "    </tr>\n",
       "  </thead>\n",
       "  <tbody>\n",
       "    <tr>\n",
       "      <th>0</th>\n",
       "      <td>site_1_41e6fe6504a34bf6846938ba78d13df1_5</td>\n",
       "      <td>aldfly balori comyel grycat leafly wilfly</td>\n",
       "    </tr>\n",
       "    <tr>\n",
       "      <th>1</th>\n",
       "      <td>site_1_41e6fe6504a34bf6846938ba78d13df1_10</td>\n",
       "      <td>aldfly amegfi amered balori fiespa grycat leafly</td>\n",
       "    </tr>\n",
       "    <tr>\n",
       "      <th>2</th>\n",
       "      <td>site_1_41e6fe6504a34bf6846938ba78d13df1_15</td>\n",
       "      <td>aldfly amegfi amered moudov norcar sonspa whtspa</td>\n",
       "    </tr>\n",
       "    <tr>\n",
       "      <th>3</th>\n",
       "      <td>site_1_41e6fe6504a34bf6846938ba78d13df1_20</td>\n",
       "      <td>aldfly amered bkcchi grycat leafly</td>\n",
       "    </tr>\n",
       "    <tr>\n",
       "      <th>4</th>\n",
       "      <td>site_1_41e6fe6504a34bf6846938ba78d13df1_25</td>\n",
       "      <td>aldfly amerob balori fiespa leafly redcro</td>\n",
       "    </tr>\n",
       "    <tr>\n",
       "      <th>5</th>\n",
       "      <td>site_1_cce64fffafed40f2b2f3d3413ec1c4c2_5</td>\n",
       "      <td>aldfly rethaw</td>\n",
       "    </tr>\n",
       "    <tr>\n",
       "      <th>6</th>\n",
       "      <td>site_1_cce64fffafed40f2b2f3d3413ec1c4c2_10</td>\n",
       "      <td>veery</td>\n",
       "    </tr>\n",
       "    <tr>\n",
       "      <th>7</th>\n",
       "      <td>site_1_cce64fffafed40f2b2f3d3413ec1c4c2_15</td>\n",
       "      <td>aldfly osprey</td>\n",
       "    </tr>\n",
       "    <tr>\n",
       "      <th>8</th>\n",
       "      <td>site_1_cce64fffafed40f2b2f3d3413ec1c4c2_20</td>\n",
       "      <td>baisan casfin larspa</td>\n",
       "    </tr>\n",
       "    <tr>\n",
       "      <th>9</th>\n",
       "      <td>site_1_cce64fffafed40f2b2f3d3413ec1c4c2_25</td>\n",
       "      <td>aldfly larspa</td>\n",
       "    </tr>\n",
       "    <tr>\n",
       "      <th>10</th>\n",
       "      <td>site_1_cce64fffafed40f2b2f3d3413ec1c4c2_30</td>\n",
       "      <td>aldfly wesgre</td>\n",
       "    </tr>\n",
       "    <tr>\n",
       "      <th>11</th>\n",
       "      <td>site_1_cce64fffafed40f2b2f3d3413ec1c4c2_35</td>\n",
       "      <td>aldfly gnwtea redcro saypho winwre3</td>\n",
       "    </tr>\n",
       "    <tr>\n",
       "      <th>12</th>\n",
       "      <td>site_1_99af324c881246949408c0b1ae54271f_5</td>\n",
       "      <td>bkcchi casfin evegro hamfly</td>\n",
       "    </tr>\n",
       "    <tr>\n",
       "      <th>13</th>\n",
       "      <td>site_1_99af324c881246949408c0b1ae54271f_10</td>\n",
       "      <td>aldfly bkcchi canwar</td>\n",
       "    </tr>\n",
       "    <tr>\n",
       "      <th>14</th>\n",
       "      <td>site_1_99af324c881246949408c0b1ae54271f_15</td>\n",
       "      <td>aldfly grycat</td>\n",
       "    </tr>\n",
       "    <tr>\n",
       "      <th>15</th>\n",
       "      <td>site_1_99af324c881246949408c0b1ae54271f_20</td>\n",
       "      <td>aldfly sonspa</td>\n",
       "    </tr>\n",
       "    <tr>\n",
       "      <th>16</th>\n",
       "      <td>site_1_99af324c881246949408c0b1ae54271f_25</td>\n",
       "      <td>aldfly grycat</td>\n",
       "    </tr>\n",
       "    <tr>\n",
       "      <th>17</th>\n",
       "      <td>site_1_99af324c881246949408c0b1ae54271f_30</td>\n",
       "      <td>aldfly grycat reevir1</td>\n",
       "    </tr>\n",
       "    <tr>\n",
       "      <th>18</th>\n",
       "      <td>site_1_99af324c881246949408c0b1ae54271f_35</td>\n",
       "      <td>aldfly casfin</td>\n",
       "    </tr>\n",
       "    <tr>\n",
       "      <th>19</th>\n",
       "      <td>site_1_6ab74e177aa149468a39ca10beed6222_5</td>\n",
       "      <td>aldfly</td>\n",
       "    </tr>\n",
       "  </tbody>\n",
       "</table>\n",
       "</div>"
      ],
      "text/plain": [
       "                                        row_id  \\\n",
       "0    site_1_41e6fe6504a34bf6846938ba78d13df1_5   \n",
       "1   site_1_41e6fe6504a34bf6846938ba78d13df1_10   \n",
       "2   site_1_41e6fe6504a34bf6846938ba78d13df1_15   \n",
       "3   site_1_41e6fe6504a34bf6846938ba78d13df1_20   \n",
       "4   site_1_41e6fe6504a34bf6846938ba78d13df1_25   \n",
       "5    site_1_cce64fffafed40f2b2f3d3413ec1c4c2_5   \n",
       "6   site_1_cce64fffafed40f2b2f3d3413ec1c4c2_10   \n",
       "7   site_1_cce64fffafed40f2b2f3d3413ec1c4c2_15   \n",
       "8   site_1_cce64fffafed40f2b2f3d3413ec1c4c2_20   \n",
       "9   site_1_cce64fffafed40f2b2f3d3413ec1c4c2_25   \n",
       "10  site_1_cce64fffafed40f2b2f3d3413ec1c4c2_30   \n",
       "11  site_1_cce64fffafed40f2b2f3d3413ec1c4c2_35   \n",
       "12   site_1_99af324c881246949408c0b1ae54271f_5   \n",
       "13  site_1_99af324c881246949408c0b1ae54271f_10   \n",
       "14  site_1_99af324c881246949408c0b1ae54271f_15   \n",
       "15  site_1_99af324c881246949408c0b1ae54271f_20   \n",
       "16  site_1_99af324c881246949408c0b1ae54271f_25   \n",
       "17  site_1_99af324c881246949408c0b1ae54271f_30   \n",
       "18  site_1_99af324c881246949408c0b1ae54271f_35   \n",
       "19   site_1_6ab74e177aa149468a39ca10beed6222_5   \n",
       "\n",
       "                                               birds  \n",
       "0          aldfly balori comyel grycat leafly wilfly  \n",
       "1   aldfly amegfi amered balori fiespa grycat leafly  \n",
       "2   aldfly amegfi amered moudov norcar sonspa whtspa  \n",
       "3                 aldfly amered bkcchi grycat leafly  \n",
       "4          aldfly amerob balori fiespa leafly redcro  \n",
       "5                                      aldfly rethaw  \n",
       "6                                              veery  \n",
       "7                                      aldfly osprey  \n",
       "8                               baisan casfin larspa  \n",
       "9                                      aldfly larspa  \n",
       "10                                     aldfly wesgre  \n",
       "11               aldfly gnwtea redcro saypho winwre3  \n",
       "12                       bkcchi casfin evegro hamfly  \n",
       "13                              aldfly bkcchi canwar  \n",
       "14                                     aldfly grycat  \n",
       "15                                     aldfly sonspa  \n",
       "16                                     aldfly grycat  \n",
       "17                             aldfly grycat reevir1  \n",
       "18                                     aldfly casfin  \n",
       "19                                            aldfly  "
      ]
     },
     "execution_count": 39,
     "metadata": {},
     "output_type": "execute_result"
    }
   ],
   "source": [
    "all_row_id = test[[\"row_id\"]]\n",
    "submission = all_row_id.merge(post_processed, on=\"row_id\", how=\"left\")\n",
    "submission = submission.fillna(\"nocall\")\n",
    "submission.to_csv(\"submission.csv\", index=False)\n",
    "submission.head(20)"
   ]
  },
  {
   "cell_type": "code",
   "execution_count": 40,
   "metadata": {
    "execution": {
     "iopub.execute_input": "2020-09-16T06:01:11.045753Z",
     "iopub.status.busy": "2020-09-16T06:01:11.044996Z",
     "iopub.status.idle": "2020-09-16T06:01:11.048632Z",
     "shell.execute_reply": "2020-09-16T06:01:11.049162Z"
    },
    "papermill": {
     "duration": 0.085501,
     "end_time": "2020-09-16T06:01:11.049280",
     "exception": false,
     "start_time": "2020-09-16T06:01:10.963779",
     "status": "completed"
    },
    "tags": []
   },
   "outputs": [
    {
     "data": {
      "text/plain": [
       "aldfly                         7\n",
       "comyel houwre reevir1          3\n",
       "aldfly grycat                  2\n",
       "nocall                         2\n",
       "aldfly amered amerob btnwar    2\n",
       "                              ..\n",
       "aldfly comyel gnwtea rethaw    1\n",
       "aldfly bkcchi canwar           1\n",
       "amerob saypho                  1\n",
       "aldfly amegfi magwar pinsis    1\n",
       "amered amerob                  1\n",
       "Name: birds, Length: 65, dtype: int64"
      ]
     },
     "execution_count": 40,
     "metadata": {},
     "output_type": "execute_result"
    }
   ],
   "source": [
    "submission.birds.value_counts()"
   ]
  },
  {
   "cell_type": "markdown",
   "metadata": {
    "papermill": {
     "duration": 0.073223,
     "end_time": "2020-09-16T06:01:11.193942",
     "exception": false,
     "start_time": "2020-09-16T06:01:11.120719",
     "status": "completed"
    },
    "tags": []
   },
   "source": [
    "## EOF"
   ]
  },
  {
   "cell_type": "code",
   "execution_count": 41,
   "metadata": {
    "execution": {
     "iopub.execute_input": "2020-09-16T06:01:11.359818Z",
     "iopub.status.busy": "2020-09-16T06:01:11.358696Z",
     "iopub.status.idle": "2020-09-16T06:01:11.362804Z",
     "shell.execute_reply": "2020-09-16T06:01:11.363368Z"
    },
    "papermill": {
     "duration": 0.095747,
     "end_time": "2020-09-16T06:01:11.363519",
     "exception": false,
     "start_time": "2020-09-16T06:01:11.267772",
     "status": "completed"
    },
    "tags": []
   },
   "outputs": [
    {
     "data": {
      "text/html": [
       "<div>\n",
       "<style scoped>\n",
       "    .dataframe tbody tr th:only-of-type {\n",
       "        vertical-align: middle;\n",
       "    }\n",
       "\n",
       "    .dataframe tbody tr th {\n",
       "        vertical-align: top;\n",
       "    }\n",
       "\n",
       "    .dataframe thead th {\n",
       "        text-align: right;\n",
       "    }\n",
       "</style>\n",
       "<table border=\"1\" class=\"dataframe\">\n",
       "  <thead>\n",
       "    <tr style=\"text-align: right;\">\n",
       "      <th></th>\n",
       "      <th>row_id</th>\n",
       "      <th>birds</th>\n",
       "    </tr>\n",
       "  </thead>\n",
       "  <tbody>\n",
       "    <tr>\n",
       "      <th>0</th>\n",
       "      <td>site_1_41e6fe6504a34bf6846938ba78d13df1_5</td>\n",
       "      <td>aldfly balori comyel grycat leafly wilfly</td>\n",
       "    </tr>\n",
       "    <tr>\n",
       "      <th>1</th>\n",
       "      <td>site_1_41e6fe6504a34bf6846938ba78d13df1_10</td>\n",
       "      <td>aldfly amegfi amered balori fiespa grycat leafly</td>\n",
       "    </tr>\n",
       "    <tr>\n",
       "      <th>2</th>\n",
       "      <td>site_1_41e6fe6504a34bf6846938ba78d13df1_15</td>\n",
       "      <td>aldfly amegfi amered moudov norcar sonspa whtspa</td>\n",
       "    </tr>\n",
       "    <tr>\n",
       "      <th>3</th>\n",
       "      <td>site_1_41e6fe6504a34bf6846938ba78d13df1_20</td>\n",
       "      <td>aldfly amered bkcchi grycat leafly</td>\n",
       "    </tr>\n",
       "    <tr>\n",
       "      <th>4</th>\n",
       "      <td>site_1_41e6fe6504a34bf6846938ba78d13df1_25</td>\n",
       "      <td>aldfly amerob balori fiespa leafly redcro</td>\n",
       "    </tr>\n",
       "    <tr>\n",
       "      <th>...</th>\n",
       "      <td>...</td>\n",
       "      <td>...</td>\n",
       "    </tr>\n",
       "    <tr>\n",
       "      <th>71</th>\n",
       "      <td>site_3_9cc5d9646f344f1bbb52640a988fe902</td>\n",
       "      <td>aldfly amecro amegfi amered amerob balori bluj...</td>\n",
       "    </tr>\n",
       "    <tr>\n",
       "      <th>72</th>\n",
       "      <td>site_3_a56e20a518684688a9952add8a9d5213</td>\n",
       "      <td>aldfly amered grycat hamfly indbun norwat reev...</td>\n",
       "    </tr>\n",
       "    <tr>\n",
       "      <th>73</th>\n",
       "      <td>site_3_96779836288745728306903d54e264dd</td>\n",
       "      <td>aldfly btnwar cedwax hamfly sonspa yebfly</td>\n",
       "    </tr>\n",
       "    <tr>\n",
       "      <th>74</th>\n",
       "      <td>site_3_f77783ba4c6641bc918b034a18c23e53</td>\n",
       "      <td>aldfly amegfi magwar pinsis</td>\n",
       "    </tr>\n",
       "    <tr>\n",
       "      <th>75</th>\n",
       "      <td>site_3_856b194b097441958697c2bcd1f63982</td>\n",
       "      <td>aldfly</td>\n",
       "    </tr>\n",
       "  </tbody>\n",
       "</table>\n",
       "<p>76 rows × 2 columns</p>\n",
       "</div>"
      ],
      "text/plain": [
       "                                        row_id  \\\n",
       "0    site_1_41e6fe6504a34bf6846938ba78d13df1_5   \n",
       "1   site_1_41e6fe6504a34bf6846938ba78d13df1_10   \n",
       "2   site_1_41e6fe6504a34bf6846938ba78d13df1_15   \n",
       "3   site_1_41e6fe6504a34bf6846938ba78d13df1_20   \n",
       "4   site_1_41e6fe6504a34bf6846938ba78d13df1_25   \n",
       "..                                         ...   \n",
       "71     site_3_9cc5d9646f344f1bbb52640a988fe902   \n",
       "72     site_3_a56e20a518684688a9952add8a9d5213   \n",
       "73     site_3_96779836288745728306903d54e264dd   \n",
       "74     site_3_f77783ba4c6641bc918b034a18c23e53   \n",
       "75     site_3_856b194b097441958697c2bcd1f63982   \n",
       "\n",
       "                                                birds  \n",
       "0           aldfly balori comyel grycat leafly wilfly  \n",
       "1    aldfly amegfi amered balori fiespa grycat leafly  \n",
       "2    aldfly amegfi amered moudov norcar sonspa whtspa  \n",
       "3                  aldfly amered bkcchi grycat leafly  \n",
       "4           aldfly amerob balori fiespa leafly redcro  \n",
       "..                                                ...  \n",
       "71  aldfly amecro amegfi amered amerob balori bluj...  \n",
       "72  aldfly amered grycat hamfly indbun norwat reev...  \n",
       "73          aldfly btnwar cedwax hamfly sonspa yebfly  \n",
       "74                        aldfly amegfi magwar pinsis  \n",
       "75                                             aldfly  \n",
       "\n",
       "[76 rows x 2 columns]"
      ]
     },
     "execution_count": 41,
     "metadata": {},
     "output_type": "execute_result"
    }
   ],
   "source": [
    "submission"
   ]
  },
  {
   "cell_type": "code",
   "execution_count": null,
   "metadata": {
    "papermill": {
     "duration": 0.073269,
     "end_time": "2020-09-16T06:01:11.520071",
     "exception": false,
     "start_time": "2020-09-16T06:01:11.446802",
     "status": "completed"
    },
    "tags": []
   },
   "outputs": [],
   "source": []
  }
 ],
 "metadata": {
  "kernelspec": {
   "display_name": "Python 3",
   "language": "python",
   "name": "python3"
  },
  "language_info": {
   "codemirror_mode": {
    "name": "ipython",
    "version": 3
   },
   "file_extension": ".py",
   "mimetype": "text/x-python",
   "name": "python",
   "nbconvert_exporter": "python",
   "pygments_lexer": "ipython3",
   "version": "3.7.6"
  },
  "papermill": {
   "duration": 74.055123,
   "end_time": "2020-09-16T06:01:12.626884",
   "environment_variables": {},
   "exception": null,
   "input_path": "__notebook__.ipynb",
   "output_path": "__notebook__.ipynb",
   "parameters": {},
   "start_time": "2020-09-16T05:59:58.571761",
   "version": "2.1.0"
  }
 },
 "nbformat": 4,
 "nbformat_minor": 4
}
