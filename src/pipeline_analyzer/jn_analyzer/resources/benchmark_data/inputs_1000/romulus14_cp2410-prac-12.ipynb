{
 "cells": [
  {
   "cell_type": "code",
   "execution_count": 1,
   "metadata": {
    "_cell_guid": "b1076dfc-b9ad-4769-8c92-a6c4dae69d19",
    "_uuid": "8f2839f25d086af736a60e9eeb907d3b93b6e0e5"
   },
   "outputs": [
    {
     "name": "stdout",
     "output_type": "stream",
     "text": [
      "[]\n"
     ]
    }
   ],
   "source": [
    "# This Python 3 environment comes with many helpful analytics libraries installed\n",
    "# It is defined by the kaggle/python docker image: https://github.com/kaggle/docker-python\n",
    "# For example, here's several helpful packages to load in \n",
    "\n",
    "import numpy as np # linear algebra\n",
    "import pandas as pd # data processing, CSV file I/O (e.g. pd.read_csv)\n",
    "\n",
    "# Input data files are available in the \"../input/\" directory.\n",
    "# For example, running this (by clicking run or pressing Shift+Enter) will list the files in the input directory\n",
    "\n",
    "import os\n",
    "print(os.listdir(\"../input\"))\n",
    "\n",
    "# Any results you write to the current directory are saved as output."
   ]
  },
  {
   "cell_type": "markdown",
   "metadata": {},
   "source": [
    "CP2410 Practical 12 - Graphs II\n",
    "1. Draw an adjacency list and an adjacency matrix representation of the directed graph shown below:\n",
    "SOLUTION\n"
   ]
  },
  {
   "cell_type": "markdown",
   "metadata": {},
   "source": [
    "2. Draw a simple connected directed graph with 8 vertices and 16 edges such that the in-degree and\n",
    "out-degree of each vertices is 2. Show that there is a single (nonsimple) cycle that includes all the\n",
    "edges of your graph, that is, you can trace all the edges in their respective directions without ever\n",
    "lifting your pencil (such a cycle is called an Euler tour).\n",
    "SOLUTION\n",
    "A → B → C → D → E → F → G → H → A → H → G → F → E → D → C → B → A\n"
   ]
  },
  {
   "cell_type": "markdown",
   "metadata": {},
   "source": [
    "3. Use Dijkstra’s Algorithm to find the shortest path from A to all other vertices on the following graph:\n",
    "SOLUTION\n"
   ]
  },
  {
   "cell_type": "markdown",
   "metadata": {},
   "source": [
    "4. Demonstrate finding the minimum spanning tree (MST) of the graph below, using a) Kruskal’s\n",
    "algorithm and b) Prim-Jarnik’s algorithm.\n",
    "SOLUTION\n",
    "a. Choose the smallest weighted edge each time that connects two previously unconnected components.\n",
    "b. Choose the vertex that is closest to the growing component."
   ]
  }
 ],
 "metadata": {
  "kernelspec": {
   "display_name": "Python 3",
   "language": "python",
   "name": "python3"
  },
  "language_info": {
   "codemirror_mode": {
    "name": "ipython",
    "version": 3
   },
   "file_extension": ".py",
   "mimetype": "text/x-python",
   "name": "python",
   "nbconvert_exporter": "python",
   "pygments_lexer": "ipython3",
   "version": "3.6.4"
  }
 },
 "nbformat": 4,
 "nbformat_minor": 1
}
