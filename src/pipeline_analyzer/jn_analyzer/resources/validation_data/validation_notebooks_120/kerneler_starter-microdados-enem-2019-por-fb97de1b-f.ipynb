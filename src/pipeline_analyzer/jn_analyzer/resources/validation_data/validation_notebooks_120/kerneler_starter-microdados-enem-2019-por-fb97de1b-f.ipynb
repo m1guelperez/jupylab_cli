{
 "cells": [
  {
   "cell_type": "markdown",
   "metadata": {
    "papermill": {
     "duration": 0.007057,
     "end_time": "2020-10-19T11:02:04.567410",
     "exception": false,
     "start_time": "2020-10-19T11:02:04.560353",
     "status": "completed"
    },
    "tags": []
   },
   "source": [
    "## Introduction\n",
    "Greetings from the Kaggle bot! This is an automatically-generated kernel with starter code demonstrating how to read in the data and begin exploring. If you're inspired to dig deeper, click the blue \"Fork Notebook\" button at the top of this kernel to begin editing."
   ]
  },
  {
   "cell_type": "markdown",
   "metadata": {
    "papermill": {
     "duration": 0.005657,
     "end_time": "2020-10-19T11:02:04.579381",
     "exception": false,
     "start_time": "2020-10-19T11:02:04.573724",
     "status": "completed"
    },
    "tags": []
   },
   "source": [
    "## Exploratory Analysis\n",
    "To begin this exploratory analysis, first import libraries and define functions for plotting the data using `matplotlib`. Depending on the data, not all plots will be made. (Hey, I'm just a simple kerneling bot, not a Kaggle Competitions Grandmaster!)"
   ]
  },
  {
   "cell_type": "code",
   "execution_count": 1,
   "metadata": {
    "_kg_hide-input": false,
    "collapsed": false,
    "execution": {
     "iopub.execute_input": "2020-10-19T11:02:04.596969Z",
     "iopub.status.busy": "2020-10-19T11:02:04.596302Z",
     "iopub.status.idle": "2020-10-19T11:02:05.464655Z",
     "shell.execute_reply": "2020-10-19T11:02:05.464060Z"
    },
    "papermill": {
     "duration": 0.879255,
     "end_time": "2020-10-19T11:02:05.464777",
     "exception": false,
     "start_time": "2020-10-19T11:02:04.585522",
     "status": "completed"
    },
    "tags": []
   },
   "outputs": [],
   "source": [
    "from mpl_toolkits.mplot3d import Axes3D\n",
    "from sklearn.preprocessing import StandardScaler\n",
    "import matplotlib.pyplot as plt # plotting\n",
    "import numpy as np # linear algebra\n",
    "import os # accessing directory structure\n",
    "import pandas as pd # data processing, CSV file I/O (e.g. pd.read_csv)\n"
   ]
  },
  {
   "cell_type": "markdown",
   "metadata": {
    "papermill": {
     "duration": 0.005912,
     "end_time": "2020-10-19T11:02:05.477226",
     "exception": false,
     "start_time": "2020-10-19T11:02:05.471314",
     "status": "completed"
    },
    "tags": []
   },
   "source": [
    "There is 0 csv file in the current version of the dataset:\n"
   ]
  },
  {
   "cell_type": "code",
   "execution_count": 2,
   "metadata": {
    "_kg_hide-input": false,
    "collapsed": false,
    "execution": {
     "iopub.execute_input": "2020-10-19T11:02:05.494656Z",
     "iopub.status.busy": "2020-10-19T11:02:05.493878Z",
     "iopub.status.idle": "2020-10-19T11:02:05.501368Z",
     "shell.execute_reply": "2020-10-19T11:02:05.500466Z"
    },
    "papermill": {
     "duration": 0.018215,
     "end_time": "2020-10-19T11:02:05.501522",
     "exception": false,
     "start_time": "2020-10-19T11:02:05.483307",
     "status": "completed"
    },
    "tags": []
   },
   "outputs": [
    {
     "name": "stdout",
     "output_type": "stream",
     "text": [
      "/kaggle/input/Selec_PI.txt\n",
      "/kaggle/input/Selec_RO.txt\n",
      "/kaggle/input/Selec_AC.txt\n",
      "/kaggle/input/Selec_SP.txt\n",
      "/kaggle/input/Selec_SE.txt\n",
      "/kaggle/input/Selec_MS.txt\n",
      "/kaggle/input/Selec_ES.txt\n",
      "/kaggle/input/Selec_MA.txt\n",
      "/kaggle/input/Selec_PR.txt\n",
      "/kaggle/input/Selec_GO.txt\n",
      "/kaggle/input/Selec_MG.txt\n",
      "/kaggle/input/Selec_MT.txt\n",
      "/kaggle/input/Selec_AP.txt\n",
      "/kaggle/input/Selec_SC.txt\n",
      "/kaggle/input/Selec_RN.txt\n",
      "/kaggle/input/Selec_TO.txt\n",
      "/kaggle/input/Selec_CE.txt\n",
      "/kaggle/input/Selec_PA.txt\n",
      "/kaggle/input/Selec_AL.txt\n",
      "/kaggle/input/Selec_RJ.txt\n",
      "/kaggle/input/Selec_AM.txt\n",
      "/kaggle/input/Selec_BA.txt\n",
      "/kaggle/input/Selec_DF.txt\n",
      "/kaggle/input/Selec_PE.txt\n",
      "/kaggle/input/Selec_RS.txt\n",
      "/kaggle/input/Selec_PB.txt\n",
      "/kaggle/input/Selec_RR.txt\n"
     ]
    }
   ],
   "source": [
    "for dirname, _, filenames in os.walk('/kaggle/input'):\n",
    "    for filename in filenames:\n",
    "        print(os.path.join(dirname, filename))\n"
   ]
  },
  {
   "cell_type": "markdown",
   "metadata": {
    "papermill": {
     "duration": 0.006116,
     "end_time": "2020-10-19T11:02:05.516441",
     "exception": false,
     "start_time": "2020-10-19T11:02:05.510325",
     "status": "completed"
    },
    "tags": []
   },
   "source": [
    "The next hidden code cells define functions for plotting data. Click on the \"Code\" button in the published kernel to reveal the hidden code."
   ]
  },
  {
   "cell_type": "code",
   "execution_count": 3,
   "metadata": {
    "_kg_hide-input": true,
    "collapsed": true,
    "execution": {
     "iopub.execute_input": "2020-10-19T11:02:05.539805Z",
     "iopub.status.busy": "2020-10-19T11:02:05.539106Z",
     "iopub.status.idle": "2020-10-19T11:02:05.541867Z",
     "shell.execute_reply": "2020-10-19T11:02:05.541400Z"
    },
    "papermill": {
     "duration": 0.019174,
     "end_time": "2020-10-19T11:02:05.541994",
     "exception": false,
     "start_time": "2020-10-19T11:02:05.522820",
     "status": "completed"
    },
    "tags": []
   },
   "outputs": [],
   "source": [
    "# Distribution graphs (histogram/bar graph) of column data\n",
    "def plotPerColumnDistribution(df, nGraphShown, nGraphPerRow):\n",
    "    nunique = df.nunique()\n",
    "    df = df[[col for col in df if nunique[col] > 1 and nunique[col] < 50]] # For displaying purposes, pick columns that have between 1 and 50 unique values\n",
    "    nRow, nCol = df.shape\n",
    "    columnNames = list(df)\n",
    "    nGraphRow = (nCol + nGraphPerRow - 1) / nGraphPerRow\n",
    "    plt.figure(num = None, figsize = (6 * nGraphPerRow, 8 * nGraphRow), dpi = 80, facecolor = 'w', edgecolor = 'k')\n",
    "    for i in range(min(nCol, nGraphShown)):\n",
    "        plt.subplot(nGraphRow, nGraphPerRow, i + 1)\n",
    "        columnDf = df.iloc[:, i]\n",
    "        if (not np.issubdtype(type(columnDf.iloc[0]), np.number)):\n",
    "            valueCounts = columnDf.value_counts()\n",
    "            valueCounts.plot.bar()\n",
    "        else:\n",
    "            columnDf.hist()\n",
    "        plt.ylabel('counts')\n",
    "        plt.xticks(rotation = 90)\n",
    "        plt.title(f'{columnNames[i]} (column {i})')\n",
    "    plt.tight_layout(pad = 1.0, w_pad = 1.0, h_pad = 1.0)\n",
    "    plt.show()\n"
   ]
  },
  {
   "cell_type": "code",
   "execution_count": 4,
   "metadata": {
    "_kg_hide-input": true,
    "collapsed": true,
    "execution": {
     "iopub.execute_input": "2020-10-19T11:02:05.563661Z",
     "iopub.status.busy": "2020-10-19T11:02:05.562975Z",
     "iopub.status.idle": "2020-10-19T11:02:05.566461Z",
     "shell.execute_reply": "2020-10-19T11:02:05.565991Z"
    },
    "papermill": {
     "duration": 0.018059,
     "end_time": "2020-10-19T11:02:05.566578",
     "exception": false,
     "start_time": "2020-10-19T11:02:05.548519",
     "status": "completed"
    },
    "tags": []
   },
   "outputs": [],
   "source": [
    "# Correlation matrix\n",
    "def plotCorrelationMatrix(df, graphWidth):\n",
    "    filename = df.dataframeName\n",
    "    df = df.dropna('columns') # drop columns with NaN\n",
    "    df = df[[col for col in df if df[col].nunique() > 1]] # keep columns where there are more than 1 unique values\n",
    "    if df.shape[1] < 2:\n",
    "        print(f'No correlation plots shown: The number of non-NaN or constant columns ({df.shape[1]}) is less than 2')\n",
    "        return\n",
    "    corr = df.corr()\n",
    "    plt.figure(num=None, figsize=(graphWidth, graphWidth), dpi=80, facecolor='w', edgecolor='k')\n",
    "    corrMat = plt.matshow(corr, fignum = 1)\n",
    "    plt.xticks(range(len(corr.columns)), corr.columns, rotation=90)\n",
    "    plt.yticks(range(len(corr.columns)), corr.columns)\n",
    "    plt.gca().xaxis.tick_bottom()\n",
    "    plt.colorbar(corrMat)\n",
    "    plt.title(f'Correlation Matrix for {filename}', fontsize=15)\n",
    "    plt.show()\n"
   ]
  },
  {
   "cell_type": "code",
   "execution_count": 5,
   "metadata": {
    "_kg_hide-input": true,
    "collapsed": true,
    "execution": {
     "iopub.execute_input": "2020-10-19T11:02:05.589941Z",
     "iopub.status.busy": "2020-10-19T11:02:05.589053Z",
     "iopub.status.idle": "2020-10-19T11:02:05.591779Z",
     "shell.execute_reply": "2020-10-19T11:02:05.591315Z"
    },
    "papermill": {
     "duration": 0.01856,
     "end_time": "2020-10-19T11:02:05.591928",
     "exception": false,
     "start_time": "2020-10-19T11:02:05.573368",
     "status": "completed"
    },
    "tags": []
   },
   "outputs": [],
   "source": [
    "# Scatter and density plots\n",
    "def plotScatterMatrix(df, plotSize, textSize):\n",
    "    df = df.select_dtypes(include =[np.number]) # keep only numerical columns\n",
    "    # Remove rows and columns that would lead to df being singular\n",
    "    df = df.dropna('columns')\n",
    "    df = df[[col for col in df if df[col].nunique() > 1]] # keep columns where there are more than 1 unique values\n",
    "    columnNames = list(df)\n",
    "    if len(columnNames) > 10: # reduce the number of columns for matrix inversion of kernel density plots\n",
    "        columnNames = columnNames[:10]\n",
    "    df = df[columnNames]\n",
    "    ax = pd.plotting.scatter_matrix(df, alpha=0.75, figsize=[plotSize, plotSize], diagonal='kde')\n",
    "    corrs = df.corr().values\n",
    "    for i, j in zip(*plt.np.triu_indices_from(ax, k = 1)):\n",
    "        ax[i, j].annotate('Corr. coef = %.3f' % corrs[i, j], (0.8, 0.2), xycoords='axes fraction', ha='center', va='center', size=textSize)\n",
    "    plt.suptitle('Scatter and Density Plot')\n",
    "    plt.show()\n"
   ]
  },
  {
   "cell_type": "markdown",
   "metadata": {
    "papermill": {
     "duration": 0.006517,
     "end_time": "2020-10-19T11:02:05.605408",
     "exception": false,
     "start_time": "2020-10-19T11:02:05.598891",
     "status": "completed"
    },
    "tags": []
   },
   "source": [
    "Oh, no! There are no automatic insights available for the file types used in this dataset. As your Kaggle kerneler bot, I'll keep working to fine-tune my hyper-parameters. In the meantime, please feel free to try a different dataset."
   ]
  },
  {
   "cell_type": "markdown",
   "metadata": {
    "papermill": {
     "duration": 0.006432,
     "end_time": "2020-10-19T11:02:05.618592",
     "exception": false,
     "start_time": "2020-10-19T11:02:05.612160",
     "status": "completed"
    },
    "tags": []
   },
   "source": [
    "## Conclusion\n",
    "This concludes your starter analysis! To go forward from here, click the blue \"Fork Notebook\" button at the top of this kernel. This will create a copy of the code and environment for you to edit. Delete, modify, and add code as you please. Happy Kaggling!"
   ]
  }
 ],
 "metadata": {
  "kernelspec": {
   "display_name": "Python 3",
   "language": "python",
   "name": "python3"
  },
  "language_info": {
   "codemirror_mode": {
    "name": "ipython",
    "version": 3
   },
   "file_extension": ".py",
   "mimetype": "text/x-python",
   "name": "python",
   "nbconvert_exporter": "python",
   "pygments_lexer": "ipython3",
   "version": "3.7.6"
  },
  "papermill": {
   "duration": 5.189489,
   "end_time": "2020-10-19T11:02:05.734365",
   "environment_variables": {},
   "exception": null,
   "input_path": "__notebook__.ipynb",
   "output_path": "__notebook__.ipynb",
   "parameters": {},
   "start_time": "2020-10-19T11:02:00.544876",
   "version": "2.1.0"
  }
 },
 "nbformat": 4,
 "nbformat_minor": 4
}
