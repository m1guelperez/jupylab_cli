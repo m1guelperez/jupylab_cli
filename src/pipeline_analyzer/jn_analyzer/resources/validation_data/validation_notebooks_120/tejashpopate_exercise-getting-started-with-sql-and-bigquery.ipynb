{
 "cells": [
  {
   "cell_type": "markdown",
   "metadata": {},
   "source": [
    "**[SQL Micro-Course Home Page](https://www.kaggle.com/learn/intro-to-sql)**\n",
    "\n",
    "---\n"
   ]
  },
  {
   "cell_type": "markdown",
   "metadata": {},
   "source": [
    "# Introduction\n",
    "\n",
    "The first test of your new data exploration skills uses data describing crime in the city of Chicago.\n",
    "\n",
    "Before you get started, run the following cell. It sets up the automated feedback system to review your answers."
   ]
  },
  {
   "cell_type": "code",
   "execution_count": 1,
   "metadata": {},
   "outputs": [
    {
     "name": "stdout",
     "output_type": "stream",
     "text": [
      "Using Kaggle's public dataset BigQuery integration.\n",
      "Setup Complete\n"
     ]
    }
   ],
   "source": [
    "# Set up feedack system\n",
    "from learntools.core import binder\n",
    "binder.bind(globals())\n",
    "from learntools.sql.ex1 import *\n",
    "print(\"Setup Complete\")"
   ]
  },
  {
   "cell_type": "markdown",
   "metadata": {},
   "source": [
    "Use the next code cell to fetch the dataset."
   ]
  },
  {
   "cell_type": "code",
   "execution_count": 2,
   "metadata": {},
   "outputs": [
    {
     "name": "stdout",
     "output_type": "stream",
     "text": [
      "Using Kaggle's public dataset BigQuery integration.\n"
     ]
    }
   ],
   "source": [
    "from google.cloud import bigquery\n",
    "\n",
    "# Create a \"Client\" object\n",
    "client = bigquery.Client()\n",
    "\n",
    "# Construct a reference to the \"chicago_crime\" dataset\n",
    "dataset_ref = client.dataset(\"chicago_crime\", project=\"bigquery-public-data\")\n",
    "\n",
    "# API request - fetch the dataset\n",
    "dataset = client.get_dataset(dataset_ref)"
   ]
  },
  {
   "cell_type": "markdown",
   "metadata": {},
   "source": [
    "# Exercises\n",
    "\n",
    "### 1) Count tables in the dataset\n",
    "\n",
    "How many tables are in the Chicago Crime dataset?"
   ]
  },
  {
   "cell_type": "code",
   "execution_count": 3,
   "metadata": {},
   "outputs": [],
   "source": [
    "# Write the code you need here to figure out the answer\n",
    "tables = list(client.list_tables(dataset))"
   ]
  },
  {
   "cell_type": "code",
   "execution_count": 4,
   "metadata": {},
   "outputs": [
    {
     "data": {
      "application/javascript": [
       "parent.postMessage({\"jupyterEvent\": \"custom.exercise_interaction\", \"data\": {\"outcomeType\": 1, \"valueTowardsCompletion\": 0.3333333333333333, \"interactionType\": 1, \"questionType\": 1, \"learnTutorialId\": 169, \"questionId\": \"1_CountTables\", \"learnToolsVersion\": \"0.3.0\", \"failureMessage\": \"\", \"exceptionClass\": \"\", \"trace\": \"\"}}, \"*\")"
      ],
      "text/plain": [
       "<IPython.core.display.Javascript object>"
      ]
     },
     "metadata": {},
     "output_type": "display_data"
    },
    {
     "data": {
      "text/markdown": [
       "<span style=\"color:#33cc33\">Correct</span>"
      ],
      "text/plain": [
       "Correct"
      ]
     },
     "metadata": {},
     "output_type": "display_data"
    }
   ],
   "source": [
    "num_tables = len(tables)  # Store the answer as num_tables and then run this cell\n",
    "\n",
    "q_1.check()"
   ]
  },
  {
   "cell_type": "markdown",
   "metadata": {},
   "source": [
    "For a hint or the solution, uncomment the appropriate line below."
   ]
  },
  {
   "cell_type": "code",
   "execution_count": 5,
   "metadata": {},
   "outputs": [],
   "source": [
    "#q_1.hint()\n",
    "#q_1.solution()"
   ]
  },
  {
   "cell_type": "markdown",
   "metadata": {},
   "source": [
    "### 2) Explore the table schema\n",
    "\n",
    "How many columns in the `crime` table have `TIMESTAMP` data?"
   ]
  },
  {
   "cell_type": "code",
   "execution_count": 6,
   "metadata": {},
   "outputs": [
    {
     "data": {
      "text/plain": [
       "[SchemaField('unique_key', 'INTEGER', 'REQUIRED', 'Unique identifier for the record.', ()),\n",
       " SchemaField('case_number', 'STRING', 'NULLABLE', 'The Chicago Police Department RD Number (Records Division Number), which is unique to the incident.', ()),\n",
       " SchemaField('date', 'TIMESTAMP', 'NULLABLE', 'Date when the incident occurred. this is sometimes a best estimate.', ()),\n",
       " SchemaField('block', 'STRING', 'NULLABLE', 'The partially redacted address where the incident occurred, placing it on the same block as the actual address.', ()),\n",
       " SchemaField('iucr', 'STRING', 'NULLABLE', 'The Illinois Unifrom Crime Reporting code. This is directly linked to the Primary Type and Description. See the list of IUCR codes at https://data.cityofchicago.org/d/c7ck-438e.', ()),\n",
       " SchemaField('primary_type', 'STRING', 'NULLABLE', 'The primary description of the IUCR code.', ()),\n",
       " SchemaField('description', 'STRING', 'NULLABLE', 'The secondary description of the IUCR code, a subcategory of the primary description.', ()),\n",
       " SchemaField('location_description', 'STRING', 'NULLABLE', 'Description of the location where the incident occurred.', ()),\n",
       " SchemaField('arrest', 'BOOLEAN', 'NULLABLE', 'Indicates whether an arrest was made.', ()),\n",
       " SchemaField('domestic', 'BOOLEAN', 'NULLABLE', 'Indicates whether the incident was domestic-related as defined by the Illinois Domestic Violence Act.', ()),\n",
       " SchemaField('beat', 'INTEGER', 'NULLABLE', 'Indicates the beat where the incident occurred. A beat is the smallest police geographic area – each beat has a dedicated police beat car. Three to five beats make up a police sector, and three sectors make up a police district. The Chicago Police Department has 22 police districts. See the beats at https://data.cityofchicago.org/d/aerh-rz74.', ()),\n",
       " SchemaField('district', 'INTEGER', 'NULLABLE', 'Indicates the police district where the incident occurred. See the districts at https://data.cityofchicago.org/d/fthy-xz3r.', ()),\n",
       " SchemaField('ward', 'INTEGER', 'NULLABLE', 'The ward (City Council district) where the incident occurred. See the wards at https://data.cityofchicago.org/d/sp34-6z76.', ()),\n",
       " SchemaField('community_area', 'INTEGER', 'NULLABLE', 'Indicates the community area where the incident occurred. Chicago has 77 community areas. See the community areas at https://data.cityofchicago.org/d/cauq-8yn6.', ()),\n",
       " SchemaField('fbi_code', 'STRING', 'NULLABLE', \"Indicates the crime classification as outlined in the FBI's National Incident-Based Reporting System (NIBRS). See the Chicago Police Department listing of these classifications at http://gis.chicagopolice.org/clearmap_crime_sums/crime_types.html.\", ()),\n",
       " SchemaField('x_coordinate', 'FLOAT', 'NULLABLE', 'The x coordinate of the location where the incident occurred in State Plane Illinois East NAD 1983 projection. This location is shifted from the actual location for partial redaction but falls on the same block.', ()),\n",
       " SchemaField('y_coordinate', 'FLOAT', 'NULLABLE', 'The y coordinate of the location where the incident occurred in State Plane Illinois East NAD 1983 projection. This location is shifted from the actual location for partial redaction but falls on the same block.', ()),\n",
       " SchemaField('year', 'INTEGER', 'NULLABLE', 'Year the incident occurred.', ()),\n",
       " SchemaField('updated_on', 'TIMESTAMP', 'NULLABLE', 'Date and time the record was last updated.', ()),\n",
       " SchemaField('latitude', 'FLOAT', 'NULLABLE', 'The latitude of the location where the incident occurred. This location is shifted from the actual location for partial redaction but falls on the same block.', ()),\n",
       " SchemaField('longitude', 'FLOAT', 'NULLABLE', 'The longitude of the location where the incident occurred. This location is shifted from the actual location for partial redaction but falls on the same block.', ()),\n",
       " SchemaField('location', 'STRING', 'NULLABLE', 'The location where the incident occurred in a format that allows for creation of maps and other geographic operations on this data portal. This location is shifted from the actual location for partial redaction but falls on the same block.', ())]"
      ]
     },
     "execution_count": 6,
     "metadata": {},
     "output_type": "execute_result"
    }
   ],
   "source": [
    "# Write the code to figure out the answer\n",
    "table=client.get_table(dataset_ref.table(\"crime\"))\n",
    "table.schema"
   ]
  },
  {
   "cell_type": "code",
   "execution_count": 7,
   "metadata": {},
   "outputs": [
    {
     "data": {
      "application/javascript": [
       "parent.postMessage({\"jupyterEvent\": \"custom.exercise_interaction\", \"data\": {\"outcomeType\": 1, \"valueTowardsCompletion\": 0.3333333333333333, \"interactionType\": 1, \"questionType\": 1, \"learnTutorialId\": 169, \"questionId\": \"2_CountTimestampFields\", \"learnToolsVersion\": \"0.3.0\", \"failureMessage\": \"\", \"exceptionClass\": \"\", \"trace\": \"\"}}, \"*\")"
      ],
      "text/plain": [
       "<IPython.core.display.Javascript object>"
      ]
     },
     "metadata": {},
     "output_type": "display_data"
    },
    {
     "data": {
      "text/markdown": [
       "<span style=\"color:#33cc33\">Correct</span>"
      ],
      "text/plain": [
       "Correct"
      ]
     },
     "metadata": {},
     "output_type": "display_data"
    }
   ],
   "source": [
    "num_timestamp_fields =2 # Put your answer here\n",
    "\n",
    "q_2.check()"
   ]
  },
  {
   "cell_type": "markdown",
   "metadata": {},
   "source": [
    "For a hint or the solution, uncomment the appropriate line below."
   ]
  },
  {
   "cell_type": "code",
   "execution_count": 8,
   "metadata": {},
   "outputs": [],
   "source": [
    "#q_2.hint()\n",
    "#q_2.solution()"
   ]
  },
  {
   "cell_type": "markdown",
   "metadata": {},
   "source": [
    "### 3) Create a crime map\n",
    "\n",
    "If you wanted to create a map with a dot at the location of each crime, what are the names of the two fields you likely need to pull out of the `crime` table to plot the crimes on a map?"
   ]
  },
  {
   "cell_type": "code",
   "execution_count": 9,
   "metadata": {},
   "outputs": [
    {
     "data": {
      "text/html": [
       "<div>\n",
       "<style scoped>\n",
       "    .dataframe tbody tr th:only-of-type {\n",
       "        vertical-align: middle;\n",
       "    }\n",
       "\n",
       "    .dataframe tbody tr th {\n",
       "        vertical-align: top;\n",
       "    }\n",
       "\n",
       "    .dataframe thead th {\n",
       "        text-align: right;\n",
       "    }\n",
       "</style>\n",
       "<table border=\"1\" class=\"dataframe\">\n",
       "  <thead>\n",
       "    <tr style=\"text-align: right;\">\n",
       "      <th></th>\n",
       "      <th>unique_key</th>\n",
       "      <th>case_number</th>\n",
       "      <th>date</th>\n",
       "      <th>block</th>\n",
       "      <th>iucr</th>\n",
       "      <th>primary_type</th>\n",
       "      <th>description</th>\n",
       "      <th>location_description</th>\n",
       "      <th>arrest</th>\n",
       "      <th>domestic</th>\n",
       "      <th>beat</th>\n",
       "      <th>district</th>\n",
       "      <th>ward</th>\n",
       "      <th>community_area</th>\n",
       "      <th>fbi_code</th>\n",
       "      <th>x_coordinate</th>\n",
       "      <th>y_coordinate</th>\n",
       "      <th>year</th>\n",
       "      <th>updated_on</th>\n",
       "      <th>latitude</th>\n",
       "      <th>longitude</th>\n",
       "      <th>location</th>\n",
       "    </tr>\n",
       "  </thead>\n",
       "  <tbody>\n",
       "    <tr>\n",
       "      <th>0</th>\n",
       "      <td>11717017</td>\n",
       "      <td>JC299491</td>\n",
       "      <td>2019-06-09 21:05:00+00:00</td>\n",
       "      <td>114XX S CHAMPLAIN AVE</td>\n",
       "      <td>3731</td>\n",
       "      <td>INTERFERENCE WITH PUBLIC OFFICER</td>\n",
       "      <td>OBSTRUCTING IDENTIFICATION</td>\n",
       "      <td>STREET</td>\n",
       "      <td>True</td>\n",
       "      <td>False</td>\n",
       "      <td>531</td>\n",
       "      <td>5</td>\n",
       "      <td>9</td>\n",
       "      <td>50</td>\n",
       "      <td>24</td>\n",
       "      <td>NaN</td>\n",
       "      <td>NaN</td>\n",
       "      <td>2019</td>\n",
       "      <td>2019-06-16 16:11:27+00:00</td>\n",
       "      <td>NaN</td>\n",
       "      <td>NaN</td>\n",
       "      <td>None</td>\n",
       "    </tr>\n",
       "    <tr>\n",
       "      <th>1</th>\n",
       "      <td>11695410</td>\n",
       "      <td>JC273204</td>\n",
       "      <td>2019-05-22 01:37:00+00:00</td>\n",
       "      <td>053XX N LOWELL AVE</td>\n",
       "      <td>1360</td>\n",
       "      <td>CRIMINAL TRESPASS</td>\n",
       "      <td>TO VEHICLE</td>\n",
       "      <td>STREET</td>\n",
       "      <td>False</td>\n",
       "      <td>False</td>\n",
       "      <td>1712</td>\n",
       "      <td>17</td>\n",
       "      <td>39</td>\n",
       "      <td>13</td>\n",
       "      <td>26</td>\n",
       "      <td>NaN</td>\n",
       "      <td>NaN</td>\n",
       "      <td>2019</td>\n",
       "      <td>2019-05-29 16:22:40+00:00</td>\n",
       "      <td>NaN</td>\n",
       "      <td>NaN</td>\n",
       "      <td>None</td>\n",
       "    </tr>\n",
       "    <tr>\n",
       "      <th>2</th>\n",
       "      <td>11677095</td>\n",
       "      <td>JC251059</td>\n",
       "      <td>2019-05-04 14:30:00+00:00</td>\n",
       "      <td>040XX E 106TH ST</td>\n",
       "      <td>0870</td>\n",
       "      <td>THEFT</td>\n",
       "      <td>POCKET-PICKING</td>\n",
       "      <td>BAR OR TAVERN</td>\n",
       "      <td>False</td>\n",
       "      <td>False</td>\n",
       "      <td>432</td>\n",
       "      <td>4</td>\n",
       "      <td>10</td>\n",
       "      <td>52</td>\n",
       "      <td>06</td>\n",
       "      <td>1204480.0</td>\n",
       "      <td>1835284.0</td>\n",
       "      <td>2019</td>\n",
       "      <td>2019-05-11 16:19:04+00:00</td>\n",
       "      <td>41.702693</td>\n",
       "      <td>-87.526853</td>\n",
       "      <td>(41.70269259, -87.52685268)</td>\n",
       "    </tr>\n",
       "    <tr>\n",
       "      <th>3</th>\n",
       "      <td>11667020</td>\n",
       "      <td>JC238473</td>\n",
       "      <td>2019-04-25 18:21:00+00:00</td>\n",
       "      <td>027XX N NEVA AVE</td>\n",
       "      <td>0454</td>\n",
       "      <td>BATTERY</td>\n",
       "      <td>AGG PO HANDS NO/MIN INJURY</td>\n",
       "      <td>RESIDENCE</td>\n",
       "      <td>True</td>\n",
       "      <td>False</td>\n",
       "      <td>2512</td>\n",
       "      <td>25</td>\n",
       "      <td>29</td>\n",
       "      <td>18</td>\n",
       "      <td>08B</td>\n",
       "      <td>1127953.0</td>\n",
       "      <td>1917389.0</td>\n",
       "      <td>2019</td>\n",
       "      <td>2019-05-15 16:13:51+00:00</td>\n",
       "      <td>41.929628</td>\n",
       "      <td>-87.805232</td>\n",
       "      <td>(41.929628408, -87.805231787)</td>\n",
       "    </tr>\n",
       "    <tr>\n",
       "      <th>4</th>\n",
       "      <td>11620073</td>\n",
       "      <td>JC181665</td>\n",
       "      <td>2019-03-10 13:00:00+00:00</td>\n",
       "      <td>070XX W 63RD PL</td>\n",
       "      <td>1305</td>\n",
       "      <td>CRIMINAL DAMAGE</td>\n",
       "      <td>CRIMINAL DEFACEMENT</td>\n",
       "      <td>RESIDENCE</td>\n",
       "      <td>False</td>\n",
       "      <td>False</td>\n",
       "      <td>812</td>\n",
       "      <td>8</td>\n",
       "      <td>23</td>\n",
       "      <td>64</td>\n",
       "      <td>14</td>\n",
       "      <td>1130616.0</td>\n",
       "      <td>1861622.0</td>\n",
       "      <td>2019</td>\n",
       "      <td>2019-03-17 16:11:52+00:00</td>\n",
       "      <td>41.776550</td>\n",
       "      <td>-87.796726</td>\n",
       "      <td>(41.776549528, -87.796726444)</td>\n",
       "    </tr>\n",
       "  </tbody>\n",
       "</table>\n",
       "</div>"
      ],
      "text/plain": [
       "   unique_key              ...                                     location\n",
       "0    11717017              ...                                         None\n",
       "1    11695410              ...                                         None\n",
       "2    11677095              ...                  (41.70269259, -87.52685268)\n",
       "3    11667020              ...                (41.929628408, -87.805231787)\n",
       "4    11620073              ...                (41.776549528, -87.796726444)\n",
       "\n",
       "[5 rows x 22 columns]"
      ]
     },
     "execution_count": 9,
     "metadata": {},
     "output_type": "execute_result"
    }
   ],
   "source": [
    "# Write the code here to explore the data so you can find the answer\n",
    "client.list_rows(table, max_results=5).to_dataframe()"
   ]
  },
  {
   "cell_type": "code",
   "execution_count": 10,
   "metadata": {},
   "outputs": [
    {
     "name": "stdout",
     "output_type": "stream",
     "text": [
      "`'latitude'` and `'longitude'` would be better and more standard than `'x_coordinate'` and `'y_coordinate'`, but this might work.\n"
     ]
    },
    {
     "data": {
      "application/javascript": [
       "parent.postMessage({\"jupyterEvent\": \"custom.exercise_interaction\", \"data\": {\"outcomeType\": 1, \"valueTowardsCompletion\": 0.3333333333333333, \"interactionType\": 1, \"questionType\": 2, \"learnTutorialId\": 169, \"questionId\": \"3_IdentifyFieldsForPlotting\", \"learnToolsVersion\": \"0.3.0\", \"failureMessage\": \"\", \"exceptionClass\": \"\", \"trace\": \"\"}}, \"*\")"
      ],
      "text/plain": [
       "<IPython.core.display.Javascript object>"
      ]
     },
     "metadata": {},
     "output_type": "display_data"
    },
    {
     "data": {
      "text/markdown": [
       "<span style=\"color:#33cc33\">Correct</span>"
      ],
      "text/plain": [
       "Correct"
      ]
     },
     "metadata": {},
     "output_type": "display_data"
    }
   ],
   "source": [
    "fields_for_plotting = [\"x_coordinate\",\"y_coordinate\"] # Put your answers here\n",
    "\n",
    "q_3.check()"
   ]
  },
  {
   "cell_type": "markdown",
   "metadata": {},
   "source": [
    "For a hint or the solution, uncomment the appropriate line below."
   ]
  },
  {
   "cell_type": "code",
   "execution_count": 11,
   "metadata": {},
   "outputs": [],
   "source": [
    "#q_3.hint()\n",
    "#q_3.solution()"
   ]
  },
  {
   "cell_type": "markdown",
   "metadata": {},
   "source": [
    "Thinking about the question above, there are a few columns that appear to have geographic data. Look at a few values (with the `list_rows()` command) to see if you can determine their relationship.  Two columns will still be hard to interpret. But it should be obvious how the `location` column relates to `latitude` and `longitude`."
   ]
  },
  {
   "cell_type": "code",
   "execution_count": 12,
   "metadata": {},
   "outputs": [],
   "source": [
    "# Scratch space for your code\n",
    "#client.list_rows(table,start_index=9,max_).to_dataframe()"
   ]
  },
  {
   "cell_type": "markdown",
   "metadata": {},
   "source": [
    "# Bunk Time\n",
    "Here as part of the SQL Summer Camp?\n",
    "\n",
    "Time to head back to the bunk. You'll get another email tomorrow to start your next camp day."
   ]
  },
  {
   "cell_type": "markdown",
   "metadata": {},
   "source": [
    "---\n",
    "**[SQL Micro-Course Home Page](https://www.kaggle.com/learn/intro-to-sql)**\n",
    "\n"
   ]
  },
  {
   "cell_type": "code",
   "execution_count": null,
   "metadata": {},
   "outputs": [],
   "source": []
  }
 ],
 "metadata": {
  "kernelspec": {
   "display_name": "Python 3",
   "language": "python",
   "name": "python3"
  },
  "language_info": {
   "codemirror_mode": {
    "name": "ipython",
    "version": 3
   },
   "file_extension": ".py",
   "mimetype": "text/x-python",
   "name": "python",
   "nbconvert_exporter": "python",
   "pygments_lexer": "ipython3",
   "version": "3.6.6"
  }
 },
 "nbformat": 4,
 "nbformat_minor": 1
}
