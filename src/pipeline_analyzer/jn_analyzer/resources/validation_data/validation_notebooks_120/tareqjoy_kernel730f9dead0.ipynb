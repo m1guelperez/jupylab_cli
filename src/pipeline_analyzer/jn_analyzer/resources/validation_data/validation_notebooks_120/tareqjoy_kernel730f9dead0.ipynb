{
 "cells": [
  {
   "cell_type": "code",
   "execution_count": 1,
   "metadata": {
    "_cell_guid": "b1076dfc-b9ad-4769-8c92-a6c4dae69d19",
    "_uuid": "8f2839f25d086af736a60e9eeb907d3b93b6e0e5"
   },
   "outputs": [
    {
     "name": "stdout",
     "output_type": "stream",
     "text": [
      "['Seed_Data.csv']\n"
     ]
    }
   ],
   "source": [
    "# This Python 3 environment comes with many helpful analytics libraries installed\n",
    "# It is defined by the kaggle/python docker image: https://github.com/kaggle/docker-python\n",
    "# For example, here's several helpful packages to load in \n",
    "\n",
    "import numpy as np # linear algebra\n",
    "import pandas as pd # data processing, CSV file I/O (e.g. pd.read_csv)\n",
    "\n",
    "# Input data files are available in the \"../input/\" directory.\n",
    "# For example, running this (by clicking run or pressing Shift+Enter) will list the files in the input directory\n",
    "\n",
    "import os\n",
    "print(os.listdir(\"../input\"))\n",
    "\n",
    "# Any results you write to the current directory are saved as output."
   ]
  },
  {
   "cell_type": "code",
   "execution_count": 2,
   "metadata": {
    "_cell_guid": "79c7e3d0-c299-4dcb-8224-4455121ee9b0",
    "_uuid": "d629ff2d2480ee46fbb7e2d37f6b5fab8052498a"
   },
   "outputs": [
    {
     "data": {
      "text/html": [
       "<div>\n",
       "<style scoped>\n",
       "    .dataframe tbody tr th:only-of-type {\n",
       "        vertical-align: middle;\n",
       "    }\n",
       "\n",
       "    .dataframe tbody tr th {\n",
       "        vertical-align: top;\n",
       "    }\n",
       "\n",
       "    .dataframe thead th {\n",
       "        text-align: right;\n",
       "    }\n",
       "</style>\n",
       "<table border=\"1\" class=\"dataframe\">\n",
       "  <thead>\n",
       "    <tr style=\"text-align: right;\">\n",
       "      <th></th>\n",
       "      <th>A</th>\n",
       "      <th>B</th>\n",
       "      <th>C</th>\n",
       "      <th>D</th>\n",
       "      <th>class</th>\n",
       "    </tr>\n",
       "  </thead>\n",
       "  <tbody>\n",
       "    <tr>\n",
       "      <th>144</th>\n",
       "      <td>11.56</td>\n",
       "      <td>13.31</td>\n",
       "      <td>0.8198</td>\n",
       "      <td>4.062</td>\n",
       "      <td>type2</td>\n",
       "    </tr>\n",
       "    <tr>\n",
       "      <th>145</th>\n",
       "      <td>11.81</td>\n",
       "      <td>13.45</td>\n",
       "      <td>0.8198</td>\n",
       "      <td>4.898</td>\n",
       "      <td>type2</td>\n",
       "    </tr>\n",
       "    <tr>\n",
       "      <th>146</th>\n",
       "      <td>10.91</td>\n",
       "      <td>12.80</td>\n",
       "      <td>0.8372</td>\n",
       "      <td>4.179</td>\n",
       "      <td>type2</td>\n",
       "    </tr>\n",
       "    <tr>\n",
       "      <th>147</th>\n",
       "      <td>11.23</td>\n",
       "      <td>12.82</td>\n",
       "      <td>0.8594</td>\n",
       "      <td>7.524</td>\n",
       "      <td>type2</td>\n",
       "    </tr>\n",
       "    <tr>\n",
       "      <th>148</th>\n",
       "      <td>10.59</td>\n",
       "      <td>12.41</td>\n",
       "      <td>0.8648</td>\n",
       "      <td>4.975</td>\n",
       "      <td>type2</td>\n",
       "    </tr>\n",
       "  </tbody>\n",
       "</table>\n",
       "</div>"
      ],
      "text/plain": [
       "         A      B       C      D  class\n",
       "144  11.56  13.31  0.8198  4.062  type2\n",
       "145  11.81  13.45  0.8198  4.898  type2\n",
       "146  10.91  12.80  0.8372  4.179  type2\n",
       "147  11.23  12.82  0.8594  7.524  type2\n",
       "148  10.59  12.41  0.8648  4.975  type2"
      ]
     },
     "execution_count": 2,
     "metadata": {},
     "output_type": "execute_result"
    }
   ],
   "source": [
    "import pandas as pd\n",
    "\n",
    "df = pd.read_csv(\n",
    "    filepath_or_buffer='../input/Seed_Data.csv',\n",
    "    header=None,\n",
    "    sep=',')\n",
    "\n",
    "df.columns=['A', 'B', 'C', 'D', 'class']\n",
    "df.dropna(how=\"all\", inplace=True) # drops the empty line at file-end\n",
    "\n",
    "df.tail()"
   ]
  },
  {
   "cell_type": "code",
   "execution_count": 3,
   "metadata": {},
   "outputs": [
    {
     "name": "stderr",
     "output_type": "stream",
     "text": [
      "/opt/conda/lib/python3.6/site-packages/ipykernel_launcher.py:3: DeprecationWarning: \n",
      ".ix is deprecated. Please use\n",
      ".loc for label based indexing or\n",
      ".iloc for positional indexing\n",
      "\n",
      "See the documentation here:\n",
      "http://pandas.pydata.org/pandas-docs/stable/indexing.html#ix-indexer-is-deprecated\n",
      "  This is separate from the ipykernel package so we can avoid doing imports until\n",
      "/opt/conda/lib/python3.6/site-packages/ipykernel_launcher.py:4: DeprecationWarning: \n",
      ".ix is deprecated. Please use\n",
      ".loc for label based indexing or\n",
      ".iloc for positional indexing\n",
      "\n",
      "See the documentation here:\n",
      "http://pandas.pydata.org/pandas-docs/stable/indexing.html#ix-indexer-is-deprecated\n",
      "  after removing the cwd from sys.path.\n"
     ]
    }
   ],
   "source": [
    "# split data table into data X and class labels y\n",
    "\n",
    "X = df.ix[:,0:4].values\n",
    "y = df.ix[:,4].values\n",
    "\n"
   ]
  },
  {
   "cell_type": "code",
   "execution_count": 4,
   "metadata": {},
   "outputs": [
    {
     "data": {
      "text/plain": [
       "array([[15.26  , 14.84  ,  0.871 ,  2.221 ],\n",
       "       [14.88  , 14.57  ,  0.8811,  1.018 ],\n",
       "       [14.29  , 14.09  ,  0.905 ,  2.699 ],\n",
       "       [13.84  , 13.94  ,  0.8955,  2.259 ],\n",
       "       [16.14  , 14.99  ,  0.9034,  1.355 ],\n",
       "       [14.38  , 14.21  ,  0.8951,  2.462 ],\n",
       "       [14.69  , 14.49  ,  0.8799,  3.586 ],\n",
       "       [14.11  , 14.1   ,  0.8911,  2.7   ],\n",
       "       [16.63  , 15.46  ,  0.8747,  2.04  ],\n",
       "       [16.44  , 15.25  ,  0.888 ,  1.969 ],\n",
       "       [15.26  , 14.85  ,  0.8696,  4.543 ],\n",
       "       [14.03  , 14.16  ,  0.8796,  1.717 ],\n",
       "       [13.89  , 14.02  ,  0.888 ,  3.986 ],\n",
       "       [13.78  , 14.06  ,  0.8759,  3.136 ],\n",
       "       [13.74  , 14.05  ,  0.8744,  2.932 ],\n",
       "       [14.59  , 14.28  ,  0.8993,  4.185 ],\n",
       "       [13.99  , 13.83  ,  0.9183,  5.234 ],\n",
       "       [15.69  , 14.75  ,  0.9058,  1.599 ],\n",
       "       [14.7   , 14.21  ,  0.9153,  1.767 ],\n",
       "       [12.72  , 13.57  ,  0.8686,  4.102 ],\n",
       "       [14.16  , 14.4   ,  0.8584,  3.072 ],\n",
       "       [14.11  , 14.26  ,  0.8722,  2.688 ],\n",
       "       [15.88  , 14.9   ,  0.8988,  0.7651],\n",
       "       [12.08  , 13.23  ,  0.8664,  1.415 ],\n",
       "       [15.01  , 14.76  ,  0.8657,  1.791 ],\n",
       "       [16.19  , 15.16  ,  0.8849,  0.903 ],\n",
       "       [13.02  , 13.76  ,  0.8641,  3.373 ],\n",
       "       [12.74  , 13.67  ,  0.8564,  2.504 ],\n",
       "       [14.11  , 14.18  ,  0.882 ,  2.754 ],\n",
       "       [13.45  , 14.02  ,  0.8604,  3.531 ],\n",
       "       [13.16  , 13.82  ,  0.8662,  0.8551],\n",
       "       [15.49  , 14.94  ,  0.8724,  3.412 ],\n",
       "       [14.09  , 14.41  ,  0.8529,  3.92  ],\n",
       "       [13.94  , 14.17  ,  0.8728,  2.124 ],\n",
       "       [15.05  , 14.68  ,  0.8779,  2.129 ],\n",
       "       [16.12  , 15.    ,  0.9   ,  2.27  ],\n",
       "       [16.2   , 15.27  ,  0.8734,  2.823 ],\n",
       "       [17.08  , 15.38  ,  0.9079,  2.956 ],\n",
       "       [14.8   , 14.52  ,  0.8823,  3.112 ],\n",
       "       [14.28  , 14.17  ,  0.8944,  6.685 ],\n",
       "       [13.54  , 13.85  ,  0.8871,  2.587 ],\n",
       "       [13.5   , 13.85  ,  0.8852,  2.249 ],\n",
       "       [13.16  , 13.55  ,  0.9009,  2.461 ],\n",
       "       [15.5   , 14.86  ,  0.882 ,  4.711 ],\n",
       "       [15.11  , 14.54  ,  0.8986,  3.128 ],\n",
       "       [13.8   , 14.04  ,  0.8794,  1.56  ],\n",
       "       [15.36  , 14.76  ,  0.8861,  1.367 ],\n",
       "       [14.99  , 14.56  ,  0.8883,  2.958 ],\n",
       "       [14.79  , 14.52  ,  0.8819,  2.704 ],\n",
       "       [17.63  , 15.98  ,  0.8673,  4.076 ],\n",
       "       [16.84  , 15.67  ,  0.8623,  4.675 ],\n",
       "       [17.26  , 15.73  ,  0.8763,  4.539 ],\n",
       "       [19.11  , 16.26  ,  0.9081,  2.936 ],\n",
       "       [16.82  , 15.51  ,  0.8786,  4.004 ],\n",
       "       [16.77  , 15.62  ,  0.8638,  4.92  ],\n",
       "       [17.32  , 15.91  ,  0.8599,  3.824 ],\n",
       "       [20.71  , 17.23  ,  0.8763,  4.451 ],\n",
       "       [18.94  , 16.49  ,  0.875 ,  5.064 ],\n",
       "       [17.12  , 15.55  ,  0.8892,  2.858 ],\n",
       "       [16.53  , 15.34  ,  0.8823,  5.532 ],\n",
       "       [18.72  , 16.19  ,  0.8977,  5.324 ],\n",
       "       [20.2   , 16.89  ,  0.8894,  5.173 ],\n",
       "       [19.57  , 16.74  ,  0.8779,  1.472 ],\n",
       "       [19.51  , 16.71  ,  0.878 ,  2.962 ],\n",
       "       [18.27  , 16.09  ,  0.887 ,  2.443 ],\n",
       "       [18.88  , 16.26  ,  0.8969,  1.649 ],\n",
       "       [18.98  , 16.66  ,  0.859 ,  3.691 ],\n",
       "       [21.18  , 17.21  ,  0.8989,  5.78  ],\n",
       "       [20.88  , 17.05  ,  0.9031,  5.016 ],\n",
       "       [20.1   , 16.99  ,  0.8746,  1.955 ],\n",
       "       [18.76  , 16.2   ,  0.8984,  3.12  ],\n",
       "       [18.81  , 16.29  ,  0.8906,  3.237 ],\n",
       "       [18.59  , 16.05  ,  0.9066,  6.001 ],\n",
       "       [18.36  , 16.52  ,  0.8452,  4.933 ],\n",
       "       [16.87  , 15.65  ,  0.8648,  3.696 ],\n",
       "       [19.31  , 16.59  ,  0.8815,  3.477 ],\n",
       "       [18.98  , 16.57  ,  0.8687,  2.144 ],\n",
       "       [18.17  , 16.26  ,  0.8637,  2.853 ],\n",
       "       [18.72  , 16.34  ,  0.881 ,  2.188 ],\n",
       "       [16.41  , 15.25  ,  0.8866,  4.217 ],\n",
       "       [17.99  , 15.86  ,  0.8992,  2.068 ],\n",
       "       [19.46  , 16.5   ,  0.8985,  4.308 ],\n",
       "       [19.18  , 16.63  ,  0.8717,  3.357 ],\n",
       "       [18.95  , 16.42  ,  0.8829,  3.368 ],\n",
       "       [18.83  , 16.29  ,  0.8917,  2.553 ],\n",
       "       [18.85  , 16.17  ,  0.9056,  2.843 ],\n",
       "       [17.63  , 15.86  ,  0.88  ,  3.747 ],\n",
       "       [19.94  , 16.92  ,  0.8752,  3.252 ],\n",
       "       [18.55  , 16.22  ,  0.8865,  1.738 ],\n",
       "       [18.45  , 16.12  ,  0.8921,  2.235 ],\n",
       "       [19.38  , 16.72  ,  0.8716,  3.678 ],\n",
       "       [19.13  , 16.31  ,  0.9035,  2.109 ],\n",
       "       [19.14  , 16.61  ,  0.8722,  6.682 ],\n",
       "       [20.97  , 17.25  ,  0.8859,  4.677 ],\n",
       "       [19.06  , 16.45  ,  0.8854,  2.248 ],\n",
       "       [18.96  , 16.2   ,  0.9077,  4.334 ],\n",
       "       [19.15  , 16.45  ,  0.889 ,  3.084 ],\n",
       "       [18.89  , 16.23  ,  0.9008,  3.639 ],\n",
       "       [20.03  , 16.9   ,  0.8811,  3.063 ],\n",
       "       [13.07  , 13.92  ,  0.848 ,  5.304 ],\n",
       "       [13.32  , 13.94  ,  0.8613,  7.035 ],\n",
       "       [13.34  , 13.95  ,  0.862 ,  5.995 ],\n",
       "       [12.22  , 13.32  ,  0.8652,  5.469 ],\n",
       "       [11.82  , 13.4   ,  0.8274,  4.471 ],\n",
       "       [11.21  , 13.13  ,  0.8167,  6.169 ],\n",
       "       [11.43  , 13.13  ,  0.8335,  2.221 ],\n",
       "       [12.49  , 13.46  ,  0.8658,  4.421 ],\n",
       "       [12.7   , 13.71  ,  0.8491,  3.26  ],\n",
       "       [10.79  , 12.93  ,  0.8107,  5.462 ],\n",
       "       [11.83  , 13.23  ,  0.8496,  5.195 ],\n",
       "       [12.01  , 13.52  ,  0.8249,  6.992 ],\n",
       "       [12.26  , 13.6   ,  0.8333,  4.756 ],\n",
       "       [11.18  , 13.04  ,  0.8266,  3.332 ],\n",
       "       [11.36  , 13.05  ,  0.8382,  4.048 ],\n",
       "       [11.19  , 13.05  ,  0.8253,  5.813 ],\n",
       "       [11.34  , 12.87  ,  0.8596,  3.347 ],\n",
       "       [12.13  , 13.73  ,  0.8081,  4.825 ],\n",
       "       [11.75  , 13.52  ,  0.8082,  4.378 ],\n",
       "       [11.49  , 13.22  ,  0.8263,  5.388 ],\n",
       "       [12.54  , 13.67  ,  0.8425,  3.082 ],\n",
       "       [12.02  , 13.33  ,  0.8503,  4.271 ],\n",
       "       [12.05  , 13.41  ,  0.8416,  4.988 ],\n",
       "       [12.55  , 13.57  ,  0.8558,  4.419 ],\n",
       "       [11.14  , 12.79  ,  0.8558,  6.388 ],\n",
       "       [12.1   , 13.15  ,  0.8793,  2.201 ],\n",
       "       [12.44  , 13.59  ,  0.8462,  4.924 ],\n",
       "       [12.15  , 13.45  ,  0.8443,  3.638 ],\n",
       "       [11.35  , 13.12  ,  0.8291,  4.337 ],\n",
       "       [11.24  , 13.    ,  0.8359,  3.521 ],\n",
       "       [11.02  , 13.    ,  0.8189,  6.735 ],\n",
       "       [11.55  , 13.1   ,  0.8455,  6.715 ],\n",
       "       [11.27  , 12.97  ,  0.8419,  4.309 ],\n",
       "       [11.4   , 13.08  ,  0.8375,  5.588 ],\n",
       "       [10.83  , 12.96  ,  0.8099,  5.182 ],\n",
       "       [10.8   , 12.57  ,  0.859 ,  4.773 ],\n",
       "       [11.26  , 13.01  ,  0.8355,  5.335 ],\n",
       "       [10.74  , 12.73  ,  0.8329,  4.702 ],\n",
       "       [11.48  , 13.05  ,  0.8473,  5.876 ],\n",
       "       [12.21  , 13.47  ,  0.8453,  1.661 ],\n",
       "       [11.41  , 12.95  ,  0.856 ,  4.957 ],\n",
       "       [12.46  , 13.41  ,  0.8706,  4.987 ],\n",
       "       [12.19  , 13.36  ,  0.8579,  4.857 ],\n",
       "       [11.65  , 13.07  ,  0.8575,  5.209 ],\n",
       "       [12.89  , 13.77  ,  0.8541,  6.185 ],\n",
       "       [11.56  , 13.31  ,  0.8198,  4.062 ],\n",
       "       [11.81  , 13.45  ,  0.8198,  4.898 ],\n",
       "       [10.91  , 12.8   ,  0.8372,  4.179 ],\n",
       "       [11.23  , 12.82  ,  0.8594,  7.524 ],\n",
       "       [10.59  , 12.41  ,  0.8648,  4.975 ]])"
      ]
     },
     "execution_count": 4,
     "metadata": {},
     "output_type": "execute_result"
    }
   ],
   "source": [
    "X"
   ]
  },
  {
   "cell_type": "code",
   "execution_count": 5,
   "metadata": {},
   "outputs": [
    {
     "data": {
      "text/plain": [
       "array(['type0', 'type0', 'type0', 'type0', 'type0', 'type0', 'type0',\n",
       "       'type0', 'type0', 'type0', 'type0', 'type0', 'type0', 'type0',\n",
       "       'type0', 'type0', 'type0', 'type0', 'type0', 'type0', 'type0',\n",
       "       'type0', 'type0', 'type0', 'type0', 'type0', 'type0', 'type0',\n",
       "       'type0', 'type0', 'type0', 'type0', 'type0', 'type0', 'type0',\n",
       "       'type0', 'type0', 'type0', 'type0', 'type0', 'type0', 'type0',\n",
       "       'type0', 'type0', 'type0', 'type0', 'type0', 'type0', 'type0',\n",
       "       'type1', 'type1', 'type1', 'type1', 'type1', 'type1', 'type1',\n",
       "       'type1', 'type1', 'type1', 'type1', 'type1', 'type1', 'type1',\n",
       "       'type1', 'type1', 'type1', 'type1', 'type1', 'type1', 'type1',\n",
       "       'type1', 'type1', 'type1', 'type1', 'type1', 'type1', 'type1',\n",
       "       'type1', 'type1', 'type1', 'type1', 'type1', 'type1', 'type1',\n",
       "       'type1', 'type1', 'type1', 'type1', 'type1', 'type1', 'type1',\n",
       "       'type1', 'type1', 'type1', 'type1', 'type1', 'type1', 'type1',\n",
       "       'type1', 'type2', 'type2', 'type2', 'type2', 'type2', 'type2',\n",
       "       'type2', 'type2', 'type2', 'type2', 'type2', 'type2', 'type2',\n",
       "       'type2', 'type2', 'type2', 'type2', 'type2', 'type2', 'type2',\n",
       "       'type2', 'type2', 'type2', 'type2', 'type2', 'type2', 'type2',\n",
       "       'type2', 'type2', 'type2', 'type2', 'type2', 'type2', 'type2',\n",
       "       'type2', 'type2', 'type2', 'type2', 'type2', 'type2', 'type2',\n",
       "       'type2', 'type2', 'type2', 'type2', 'type2', 'type2', 'type2',\n",
       "       'type2', 'type2'], dtype=object)"
      ]
     },
     "execution_count": 5,
     "metadata": {},
     "output_type": "execute_result"
    }
   ],
   "source": [
    "y"
   ]
  },
  {
   "cell_type": "code",
   "execution_count": 6,
   "metadata": {},
   "outputs": [
    {
     "data": {
      "image/png": "[encoded data removed]",
      "text/plain": [
       "<Figure size 576x432 with 4 Axes>"
      ]
     },
     "metadata": {},
     "output_type": "display_data"
    }
   ],
   "source": [
    "from matplotlib import pyplot as plt\n",
    "import numpy as np\n",
    "import math\n",
    "\n",
    "label_dict = {1: 'type0',\n",
    "              2: 'type1',\n",
    "              3: 'type2'}\n",
    "\n",
    "feature_dict = {0: 'A',\n",
    "                1: 'B',\n",
    "                2: 'C',\n",
    "                3: 'D'}\n",
    "\n",
    "with plt.style.context('seaborn-whitegrid'):\n",
    "    plt.figure(figsize=(8, 6))\n",
    "    for cnt in range(4):\n",
    "        plt.subplot(2, 2, cnt+1)\n",
    "        for lab in ('type0', 'type1', 'type2'):\n",
    "            plt.hist(X[y==lab, cnt],\n",
    "                     label=lab,\n",
    "                     bins=10,\n",
    "                     alpha=0.3,)\n",
    "        plt.xlabel(feature_dict[cnt])\n",
    "    plt.legend(loc='upper right', fancybox=True, fontsize=8)\n",
    "\n",
    "    plt.tight_layout()\n",
    "    plt.show()"
   ]
  },
  {
   "cell_type": "code",
   "execution_count": 7,
   "metadata": {},
   "outputs": [],
   "source": [
    "from sklearn.preprocessing import StandardScaler\n",
    "X_std = StandardScaler().fit_transform(X)"
   ]
  },
  {
   "cell_type": "code",
   "execution_count": 8,
   "metadata": {},
   "outputs": [
    {
     "data": {
      "text/plain": [
       "array([[ 0.07789533,  0.14005428,  0.06391876, -1.00937196],\n",
       "       [-0.04686941, -0.05967573,  0.46521764, -1.81370527],\n",
       "       [-0.2405831 , -0.41475132,  1.41482587, -0.68977818],\n",
       "       [-0.38833082, -0.52571244,  1.03736653, -0.98396492],\n",
       "       [ 0.36682422,  0.2510154 ,  1.35125377, -1.58838497],\n",
       "       [-0.21103355, -0.32598242,  1.02147351, -0.84823786],\n",
       "       [-0.10925179, -0.118855  ,  0.41753856, -0.09672444],\n",
       "       [-0.29968219, -0.40735391,  0.86254326, -0.68910957],\n",
       "       [ 0.52770508,  0.59869358,  0.21092924, -1.13038969],\n",
       "       [ 0.4653227 ,  0.44334801,  0.73937231, -1.17786073],\n",
       "       [ 0.07789533,  0.14745169,  0.00829317,  0.54313174],\n",
       "       [-0.32594845, -0.36296946,  0.40561879, -1.34634951],\n",
       "       [-0.37191441, -0.46653318,  0.73937231,  0.17071806],\n",
       "       [-0.40803052, -0.43694354,  0.25860831, -0.39759725],\n",
       "       [-0.42116365, -0.44434095,  0.19900947, -0.53399292],\n",
       "       [-0.14208461, -0.27420057,  1.18835027,  0.3037707 ],\n",
       "       [-0.33908158, -0.60708393,  1.94326895,  1.00513865],\n",
       "       [ 0.21907649,  0.07347761,  1.44661192, -1.42524504],\n",
       "       [-0.1059685 , -0.32598242,  1.82407126, -1.31291919],\n",
       "       [-0.7560585 , -0.79941654, -0.03143939,  0.24827638],\n",
       "       [-0.28326577, -0.18543167, -0.43671152, -0.44038805],\n",
       "       [-0.29968219, -0.28899538,  0.11159783, -0.69713284],\n",
       "       [ 0.28145887,  0.18443873,  1.16848399, -1.98279579],\n",
       "       [-0.9661886 , -1.05092841, -0.11885103, -1.54826859],\n",
       "       [-0.00418674,  0.08087502, -0.14666382, -1.29687264],\n",
       "       [ 0.38324063,  0.37677134,  0.61620137, -1.89059499],\n",
       "       [-0.65756001, -0.65886579, -0.21023592, -0.23913757],\n",
       "       [-0.74949193, -0.72544246, -0.51617665, -0.82015639],\n",
       "       [-0.29968219, -0.34817465,  0.50097694, -0.65300483],\n",
       "       [-0.51637885, -0.46653318, -0.3572464 , -0.13349778],\n",
       "       [-0.61159405, -0.61448134, -0.12679754, -1.92262123],\n",
       "       [ 0.15341084,  0.21402836,  0.11954435, -0.21306192],\n",
       "       [-0.30624875, -0.17803426, -0.65524061,  0.12659005],\n",
       "       [-0.355498  , -0.35557206,  0.13543737, -1.07422677],\n",
       "       [ 0.00894639,  0.02169575,  0.33807344, -1.07088373],\n",
       "       [ 0.36025765,  0.25841281,  1.21616306, -0.97661025],\n",
       "       [ 0.38652392,  0.45814283,  0.15927691, -0.606871  ],\n",
       "       [ 0.6754528 ,  0.53951432,  1.5300503 , -0.51794637],\n",
       "       [-0.07313568, -0.09666277,  0.51289671, -0.4136438 ],\n",
       "       [-0.24386638, -0.35557206,  0.99366071,  1.97528631],\n",
       "       [-0.48682931, -0.59228911,  0.70361301, -0.76466208],\n",
       "       [-0.49996244, -0.59228911,  0.62812114, -0.99065099],\n",
       "       [-0.61159405, -0.81421135,  1.25192237, -0.84890646],\n",
       "       [ 0.15669412,  0.1548491 ,  0.50097694,  0.65545759],\n",
       "       [ 0.02864609, -0.08186796,  1.16053747, -0.4029461 ],\n",
       "       [-0.40146396, -0.45173836,  0.39767228, -1.45132069],\n",
       "       [ 0.11072816,  0.08087502,  0.66388045, -1.58036169],\n",
       "       [-0.0107533 , -0.06707314,  0.75129208, -0.51660916],\n",
       "       [-0.07641896, -0.09666277,  0.49700369, -0.68643514],\n",
       "       [ 0.85603336,  0.9833588 , -0.08309172,  0.23089262],\n",
       "       [ 0.59665402,  0.75403915, -0.28175453,  0.63138776],\n",
       "       [ 0.73455189,  0.7984236 ,  0.27450134,  0.54045731],\n",
       "       [ 1.34195921,  1.19048622,  1.53799681, -0.5313185 ],\n",
       "       [ 0.59008745,  0.63568062,  0.36588623,  0.18275297],\n",
       "       [ 0.57367104,  0.71705211, -0.22215569,  0.79519629],\n",
       "       [ 0.75425159,  0.93157694, -0.37711268,  0.06240385],\n",
       "       [ 1.86728446,  1.9080348 ,  0.27450134,  0.48161996],\n",
       "       [ 1.2861434 ,  1.36062661,  0.22284901,  0.89147559],\n",
       "       [ 0.68858593,  0.66527025,  0.78705139, -0.58346978],\n",
       "       [ 0.49487225,  0.50992468,  0.51289671,  1.20438331],\n",
       "       [ 1.21391118,  1.13870437,  1.12477817,  1.06531321],\n",
       "       [ 1.69983704,  1.65652293,  0.7949979 ,  0.96435367],\n",
       "       [ 1.49299022,  1.54556181,  0.33807344, -1.51015804],\n",
       "       [ 1.47329052,  1.52336959,  0.34204669, -0.51393473],\n",
       "       [ 1.06616346,  1.06473029,  0.69963975, -0.86094137],\n",
       "       [ 1.26644371,  1.19048622,  1.09299212, -1.39181473],\n",
       "       [ 1.29927653,  1.48638254, -0.41287199, -0.02652078],\n",
       "       [ 2.02159875,  1.89323999,  1.17245724,  1.37019766],\n",
       "       [ 1.92310027,  1.77488146,  1.339334  ,  0.85938249],\n",
       "       [ 1.66700421,  1.73049701,  0.20695598, -1.18722122],\n",
       "       [ 1.22704431,  1.14610178,  1.15259096, -0.40829495],\n",
       "       [ 1.24346073,  1.21267845,  0.84267698, -0.33006802],\n",
       "       [ 1.17122851,  1.03514065,  1.47839797,  1.51795964],\n",
       "       [ 1.095713  ,  1.38281883, -0.96118134,  0.80388817],\n",
       "       [ 0.60650386,  0.73924433, -0.18242313, -0.02317775],\n",
       "       [ 1.40762487,  1.43460069,  0.48111066, -0.16960252],\n",
       "       [ 1.29927653,  1.41980587, -0.02746613, -1.06085464],\n",
       "       [ 1.03333063,  1.19048622, -0.22612894, -0.58681281],\n",
       "       [ 1.21391118,  1.24966549,  0.46124438, -1.03143597],\n",
       "       [ 0.45547286,  0.44334801,  0.68374673,  0.3251661 ],\n",
       "       [ 0.97423154,  0.8945899 ,  1.18437701, -1.11166872],\n",
       "       [ 1.45687411,  1.36802402,  1.15656422,  0.38600927],\n",
       "       [ 1.36494219,  1.46419032,  0.09173155, -0.24983527],\n",
       "       [ 1.28942669,  1.30884475,  0.53673625, -0.2424806 ],\n",
       "       [ 1.25002729,  1.21267845,  0.88638279, -0.78739469],\n",
       "       [ 1.25659386,  1.12390955,  1.43866541, -0.59349888],\n",
       "       [ 0.85603336,  0.8945899 ,  0.42151182,  0.01092117],\n",
       "       [ 1.61447168,  1.67871515,  0.23079552, -0.32003892],\n",
       "       [ 1.15809537,  1.16089659,  0.67977347, -1.33230878],\n",
       "       [ 1.12526255,  1.08692251,  0.90227582, -1.00001147],\n",
       "       [ 1.43060785,  1.53076699,  0.0877583 , -0.03521266],\n",
       "       [ 1.34852578,  1.22747326,  1.35522703, -1.08425586],\n",
       "       [ 1.35180906,  1.4493955 ,  0.11159783,  1.97328049],\n",
       "       [ 1.95264981,  1.92282962,  0.65593393,  0.63272497],\n",
       "       [ 1.3255428 ,  1.33103698,  0.63606765, -0.99131959],\n",
       "       [ 1.29270997,  1.14610178,  1.52210379,  0.40339303],\n",
       "       [ 1.35509234,  1.33103698,  0.77910488, -0.43236477],\n",
       "       [ 1.26972699,  1.168294  ,  1.24794911, -0.06128831],\n",
       "       [ 1.64402123,  1.66392034,  0.46521764, -0.4464055 ],\n",
       "       [-0.6411436 , -0.54050726, -0.84993017,  1.05194109],\n",
       "       [-0.55906153, -0.52571244, -0.32148709,  2.20929849],\n",
       "       [-0.55249496, -0.51831503, -0.2936743 ,  1.513948  ],\n",
       "       [-0.92022264, -0.98435174, -0.1665301 ,  1.16226112],\n",
       "       [-1.05155395, -0.92517247, -1.66842095,  0.49499209],\n",
       "       [-1.2518342 , -1.12490249, -2.09355936,  1.63028549],\n",
       "       [-1.17960198, -1.12490249, -1.42605232, -1.00937196],\n",
       "       [-0.831574  , -0.88078803, -0.14269056,  0.46156177],\n",
       "       [-0.76262506, -0.69585283, -0.80622435, -0.31469007],\n",
       "       [-1.38973208, -1.27285065, -2.33195473,  1.15758087],\n",
       "       [-1.04827067, -1.05092841, -0.78635807,  0.97906301],\n",
       "       [-0.98917158, -0.83640358, -1.76775235,  2.18054843],\n",
       "       [-0.90708951, -0.77722431, -1.43399883,  0.68554487],\n",
       "       [-1.26168405, -1.19147916, -1.700207  , -0.26655042],\n",
       "       [-1.20258496, -1.18408176, -1.23930928,  0.21217165],\n",
       "       [-1.25840077, -1.18408176, -1.75185933,  1.39226167],\n",
       "       [-1.20915152, -1.3172351 , -0.38903245, -0.25652133],\n",
       "       [-0.94977218, -0.68105801, -2.4352594 ,  0.7316787 ],\n",
       "       [-1.07453693, -0.83640358, -2.43128614,  0.43281171],\n",
       "       [-1.15990228, -1.05832582, -1.71212677,  1.10810401],\n",
       "       [-0.81515759, -0.72544246, -1.06845926, -0.43370198],\n",
       "       [-0.98588829, -0.97695433, -0.75854528,  0.36127084],\n",
       "       [-0.97603844, -0.91777507, -1.10421857,  0.84066151],\n",
       "       [-0.8118743 , -0.79941654, -0.54001618,  0.46022456],\n",
       "       [-1.27481718, -1.37641436, -0.54001618,  1.77671026],\n",
       "       [-0.95962203, -1.11010768,  0.39369902, -1.02274409],\n",
       "       [-0.84799042, -0.78462172, -0.92144878,  0.79787072],\n",
       "       [-0.94320562, -0.88818543, -0.99694065, -0.06195691],\n",
       "       [-1.20586824, -1.1322999 , -1.60087559,  0.40539885],\n",
       "       [-1.24198435, -1.2210688 , -1.33069417, -0.14018384],\n",
       "       [-1.31421657, -1.2210688 , -2.00614773,  2.00871662],\n",
       "       [-1.14020258, -1.14709472, -0.94926157,  1.9953445 ],\n",
       "       [-1.2321345 , -1.24326102, -1.0922988 ,  0.38667788],\n",
       "       [-1.18945183, -1.16188953, -1.26712207,  1.24182526],\n",
       "       [-1.37659895, -1.25065843, -2.36374078,  0.97037113],\n",
       "       [-1.38644879, -1.53915734, -0.41287199,  0.69691117],\n",
       "       [-1.23541779, -1.21367139, -1.34658719,  1.07266788],\n",
       "       [-1.40614849, -1.42079881, -1.44989186,  0.64944013],\n",
       "       [-1.16318556, -1.18408176, -0.87774296,  1.43438386],\n",
       "       [-0.92350592, -0.87339062, -0.95720809, -1.38379146],\n",
       "       [-1.18616854, -1.25805584, -0.53206967,  0.81993472],\n",
       "       [-0.84142385, -0.91777507,  0.04802573,  0.83999291],\n",
       "       [-0.93007249, -0.95476211, -0.4565778 ,  0.7530741 ],\n",
       "       [-1.10736976, -1.16928694, -0.47247083,  0.98842349],\n",
       "       [-0.70024269, -0.65146838, -0.60756154,  1.64098319],\n",
       "       [-1.1369193 , -0.99174915, -1.97038842,  0.22153213],\n",
       "       [-1.05483723, -0.88818543, -1.97038842,  0.78048695],\n",
       "       [-1.35033268, -1.36901696, -1.27904184,  0.29975906],\n",
       "       [-1.24526763, -1.35422214, -0.39697896,  2.53624695],\n",
       "       [-1.45539773, -1.65751587, -0.18242313,  0.83196963]])"
      ]
     },
     "execution_count": 8,
     "metadata": {},
     "output_type": "execute_result"
    }
   ],
   "source": [
    "X_std"
   ]
  },
  {
   "cell_type": "code",
   "execution_count": 9,
   "metadata": {},
   "outputs": [
    {
     "name": "stdout",
     "output_type": "stream",
     "text": [
      "Covariance matrix \n",
      "[[ 1.00675676  1.00176916  0.66576533 -0.28409088]\n",
      " [ 1.00176916  1.00675676  0.59547779 -0.26508025]\n",
      " [ 0.66576533  0.59547779  1.00675676 -0.43868935]\n",
      " [-0.28409088 -0.26508025 -0.43868935  1.00675676]]\n"
     ]
    }
   ],
   "source": [
    "import numpy as np\n",
    "mean_vec = np.mean(X_std, axis=0)\n",
    "cov_mat = (X_std - mean_vec).T.dot((X_std - mean_vec)) / (X_std.shape[0]-1)\n",
    "print('Covariance matrix \\n%s' %cov_mat)"
   ]
  },
  {
   "cell_type": "code",
   "execution_count": 10,
   "metadata": {},
   "outputs": [
    {
     "name": "stdout",
     "output_type": "stream",
     "text": [
      "Eigenvectors \n",
      "[[ 0.57785274  0.72951115  0.30360632 -0.20426182]\n",
      " [ 0.5626383  -0.67852131  0.33664921 -0.33123148]\n",
      " [ 0.50187909 -0.08556002 -0.18395668  0.84080723]\n",
      " [-0.31247676 -0.01008983  0.87215277  0.37630575]]\n",
      "\n",
      "Eigenvalues \n",
      "[2.71400692e+00 8.52755865e-04 8.98070516e-01 4.14096834e-01]\n"
     ]
    }
   ],
   "source": [
    "cov_mat = np.cov(X_std.T)\n",
    "\n",
    "eig_vals, eig_vecs = np.linalg.eig(cov_mat)\n",
    "\n",
    "print('Eigenvectors \\n%s' %eig_vecs)\n",
    "print('\\nEigenvalues \\n%s' %eig_vals)"
   ]
  },
  {
   "cell_type": "code",
   "execution_count": 11,
   "metadata": {},
   "outputs": [
    {
     "name": "stdout",
     "output_type": "stream",
     "text": [
      "Eigenvalues in descending order:\n",
      "2.714006921407883\n",
      "0.8980705155098343\n",
      "0.41409683424442173\n",
      "0.0008527558648906497\n"
     ]
    }
   ],
   "source": [
    "# Make a list of (eigenvalue, eigenvector) tuples\n",
    "eig_pairs = [(np.abs(eig_vals[i]), eig_vecs[:,i]) for i in range(len(eig_vals))]\n",
    "\n",
    "# Sort the (eigenvalue, eigenvector) tuples from high to low\n",
    "eig_pairs.sort(key=lambda x: x[0], reverse=True)\n",
    "\n",
    "# Visually confirm that the list is correctly sorted by decreasing eigenvalues\n",
    "print('Eigenvalues in descending order:')\n",
    "for i in eig_pairs:\n",
    "    print(i[0])"
   ]
  },
  {
   "cell_type": "code",
   "execution_count": 12,
   "metadata": {},
   "outputs": [],
   "source": [
    "tot = sum(eig_vals)\n",
    "var_exp = [(i / tot)*100 for i in sorted(eig_vals, reverse=True)]\n",
    "cum_var_exp = np.cumsum(var_exp)"
   ]
  },
  {
   "cell_type": "code",
   "execution_count": 13,
   "metadata": {},
   "outputs": [
    {
     "data": {
      "image/png": "[encoded data removed]",
      "text/plain": [
       "<Figure size 432x288 with 1 Axes>"
      ]
     },
     "metadata": {},
     "output_type": "display_data"
    }
   ],
   "source": [
    "with plt.style.context('seaborn-whitegrid'):\n",
    "    plt.figure(figsize=(6, 4))\n",
    "\n",
    "    plt.bar(range(4), var_exp, alpha=0.5, align='center',\n",
    "            label='individual explained variance')\n",
    "    plt.step(range(4), cum_var_exp, where='mid',\n",
    "             label='cumulative explained variance')\n",
    "    plt.ylabel('Explained variance ratio')\n",
    "    plt.xlabel('Principal components')\n",
    "    plt.legend(loc='best')\n",
    "    plt.tight_layout()"
   ]
  },
  {
   "cell_type": "code",
   "execution_count": 14,
   "metadata": {},
   "outputs": [
    {
     "name": "stdout",
     "output_type": "stream",
     "text": [
      "Matrix W:\n",
      " [[ 0.57785274  0.30360632]\n",
      " [ 0.5626383   0.33664921]\n",
      " [ 0.50187909 -0.18395668]\n",
      " [-0.31247676  0.87215277]]\n"
     ]
    }
   ],
   "source": [
    "matrix_w = np.hstack((eig_pairs[0][1].reshape(4,1),\n",
    "                      eig_pairs[1][1].reshape(4,1)))\n",
    "\n",
    "print('Matrix W:\\n', matrix_w)"
   ]
  },
  {
   "cell_type": "code",
   "execution_count": 15,
   "metadata": {},
   "outputs": [],
   "source": [
    "Y = X_std.dot(matrix_w)"
   ]
  },
  {
   "cell_type": "code",
   "execution_count": 16,
   "metadata": {},
   "outputs": [
    {
     "data": {
      "image/png": "[encoded data removed]",
      "text/plain": [
       "<Figure size 432x288 with 1 Axes>"
      ]
     },
     "metadata": {},
     "output_type": "display_data"
    }
   ],
   "source": [
    "with plt.style.context('seaborn-whitegrid'):\n",
    "    plt.figure(figsize=(6, 4))\n",
    "    for lab, col in zip(('type0', 'type1', 'type2'),\n",
    "                        ('blue', 'red', 'green')):\n",
    "        plt.scatter(Y[y==lab, 0],\n",
    "                    Y[y==lab, 1],\n",
    "                    label=lab,\n",
    "                    c=col)\n",
    "    plt.xlabel('Principal Component 1')\n",
    "    plt.ylabel('Principal Component 2')\n",
    "    plt.legend(loc='lower center')\n",
    "    plt.tight_layout()\n",
    "    plt.show()"
   ]
  },
  {
   "cell_type": "code",
   "execution_count": 17,
   "metadata": {},
   "outputs": [],
   "source": []
  }
 ],
 "metadata": {
  "kernelspec": {
   "display_name": "Python 3",
   "language": "python",
   "name": "python3"
  },
  "language_info": {
   "codemirror_mode": {
    "name": "ipython",
    "version": 3
   },
   "file_extension": ".py",
   "mimetype": "text/x-python",
   "name": "python",
   "nbconvert_exporter": "python",
   "pygments_lexer": "ipython3",
   "version": "3.6.4"
  }
 },
 "nbformat": 4,
 "nbformat_minor": 1
}
