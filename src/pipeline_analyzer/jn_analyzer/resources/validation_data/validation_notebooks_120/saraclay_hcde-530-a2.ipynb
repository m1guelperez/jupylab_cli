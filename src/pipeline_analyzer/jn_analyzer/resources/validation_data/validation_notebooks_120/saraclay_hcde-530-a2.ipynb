{
 "cells": [
  {
   "cell_type": "markdown",
   "metadata": {
    "colab_type": "text",
    "id": "eOiIWUWGL9vI"
   },
   "source": [
    "# A2: Python Basic Exercises (continued)\n",
    "The Code Cell below has some Python code with instructions in comments. After each instruction, write the Python code necessary to perform the operations. You can check your work at any time by executing the code and reviewing the output.\n",
    "## Submission \n",
    "When you have finished, submit this homework by sharing your Kaggle notebook. Click Commit in the upper right of your Kaggle notebook screen. Click on Open Version to view it. **Make sure the set Sharing permissions to public.** Then copy the URL for that version. To submit, select Submit Assignment on Canvas and paste this link into the URL submission field."
   ]
  },
  {
   "cell_type": "markdown",
   "metadata": {
    "colab_type": "text",
    "id": "ko9zxUh4NgQO"
   },
   "source": [
    "### **Part 1**"
   ]
  },
  {
   "cell_type": "markdown",
   "metadata": {
    "colab_type": "text",
    "id": "DeCi8d6WSGT_"
   },
   "source": [
    "### Step 1: iterated operation over list\n",
    "\n",
    "Add your own code to the code below, so that it iterates over each element of `mylist` using a `for` loop, printing each element on a new line."
   ]
  },
  {
   "cell_type": "code",
   "execution_count": 1,
   "metadata": {
    "colab": {},
    "colab_type": "code",
    "id": "Y7crlaUlSOrU"
   },
   "outputs": [
    {
     "name": "stdout",
     "output_type": "stream",
     "text": [
      "1\n",
      "2\n",
      "3\n",
      "4\n",
      "5\n",
      "6\n"
     ]
    }
   ],
   "source": [
    "mylist = [1, 2, 3, 4, 5, 6]\n",
    "\n",
    "# Printing out each number one by one in a for-loop\n",
    "for x in mylist:\n",
    "    print (x)"
   ]
  },
  {
   "cell_type": "markdown",
   "metadata": {
    "colab_type": "text",
    "id": "efG9nCv3S6tk"
   },
   "source": [
    "### Step 2: summing values of a list\n",
    "Write code that adds up all the elements of `mylist` using a for loop, then prints out the sum. You do not need to declare `mylist` again because you created that list in the code cell above this one. So long as you run the code above, your Python notebook runtime will know about the variable from Step 1step of the for loop)\n",
    "\n",
    "(Note: this is the example I used to teach you the accumulation pattern in lecture. Try to reconstruct the code here without looking at that code.)"
   ]
  },
  {
   "cell_type": "code",
   "execution_count": 2,
   "metadata": {
    "colab": {},
    "colab_type": "code",
    "id": "wehcyy5zRpEC"
   },
   "outputs": [
    {
     "name": "stdout",
     "output_type": "stream",
     "text": [
      "1\n",
      "3\n",
      "6\n",
      "10\n",
      "15\n",
      "21\n"
     ]
    }
   ],
   "source": [
    "# Your notebook already knows about mylist. Sum its values by adding the code below this comment.\n",
    "total = 0\n",
    "\n",
    "# This is showing cumulative addition\n",
    "for x in mylist:\n",
    "    total=total+x\n",
    "    print(total)\n"
   ]
  },
  {
   "cell_type": "markdown",
   "metadata": {
    "colab_type": "text",
    "id": "VpdBgJhMT8k4"
   },
   "source": [
    "### Step 3: splitting strings\n",
    "Write code that splits `s` into a list of separate words (where each word is defined to be any series of characters separated by a whitespace). Print out the list using a for loop (as in Step 1), one word per line."
   ]
  },
  {
   "cell_type": "code",
   "execution_count": 3,
   "metadata": {
    "colab": {},
    "colab_type": "code",
    "id": "aoe5FLPmT8vR"
   },
   "outputs": [
    {
     "name": "stdout",
     "output_type": "stream",
     "text": [
      "This\n",
      "is\n",
      "a\n",
      "test\n",
      "string\n",
      "for\n",
      "HCDE\n",
      "530\n"
     ]
    }
   ],
   "source": [
    "s = \"This is a test string for HCDE 530\"\n",
    "# Add your code below\n",
    "y=s.split()\n",
    "\n",
    "# For each loop, the word that comes out of the variable \"y\" goes on a new line\n",
    "for x in y:\n",
    "    print (x)\n"
   ]
  },
  {
   "cell_type": "markdown",
   "metadata": {
    "colab_type": "text",
    "id": "oNJhA6F5VO6E"
   },
   "source": [
    "### Step 4: replacing an element of a list\n",
    "Replace the element of `mylist` whose value is `4` with the value `four` and then print ` mylist` (you can do this with indexing if you like). Remember, so long as you run the code above, your Python notebook runtime will know about the variable `mylist` from Step 1."
   ]
  },
  {
   "cell_type": "code",
   "execution_count": 4,
   "metadata": {
    "colab": {},
    "colab_type": "code",
    "id": "8tlRNEDJWBKe"
   },
   "outputs": [
    {
     "name": "stdout",
     "output_type": "stream",
     "text": [
      "[1, 2, 3, 'four', 5, 6]\n"
     ]
    }
   ],
   "source": [
    "# Add your code here\n",
    "mylist = [1, 2, 3, 4, 5, 6]\n",
    "\n",
    "# This will replace the fourth item in this list with \"four\"\n",
    "mylist[3]=\"four\"\n",
    "print (mylist)\n",
    "\n",
    "\n"
   ]
  },
  {
   "cell_type": "markdown",
   "metadata": {
    "colab_type": "text",
    "id": "wPhD7N4hWhi4"
   },
   "source": [
    "### Step 5: print out a file, verbatim\n",
    "Download the `test.txt` file from Canvas (see the Files area or this week's module). Read and print each line contained in `test.txt`.  Your program should output the text exactly as it is in `test.txt`.\n",
    "\n",
    "**You will need to upload your data files to your Kaggle account to do this. Make sure to watch my instruction video on Canvas if you don't recall how to do this.** I have included the code below to allow you to access the files system on your Kaggle account, assuming you created a dataset called a2data on your account.\n",
    "\n",
    "(Hint: you may need to use `rstrip()` to remove the newline character at the end of each line, to avoid getting an extra blank line between each real line.)"
   ]
  },
  {
   "cell_type": "code",
   "execution_count": 5,
   "metadata": {
    "colab": {},
    "colab_type": "code",
    "id": "hrzg3arQWhsJ"
   },
   "outputs": [
    {
     "name": "stdout",
     "output_type": "stream",
     "text": [
      "/kaggle/input/testtext/test.txt\n",
      "/kaggle/input/reading/sherlock.txt\n",
      "This\n",
      "is our\n",
      "test file.\n"
     ]
    }
   ],
   "source": [
    "# The code below allows you to access your Kaggle data files\n",
    "import os\n",
    "for dirname, _, filenames in os.walk('/kaggle/input'):\n",
    "    for filename in filenames:\n",
    "        print(os.path.join(dirname, filename))\n",
    "\n",
    "# create a file handle called fname to open and hold the contents of the data file\n",
    "fname = open('/kaggle/input/testtext/test.txt', 'r')\n",
    "\n",
    "# Add your code below\n",
    "for f in fname:\n",
    "    # This will print out each line\n",
    "    print (f.rstrip())\n",
    "\n",
    "# It's good practice to close your file when you are finished. This is in the next line.\n",
    "fname.close()"
   ]
  },
  {
   "cell_type": "markdown",
   "metadata": {
    "colab_type": "text",
    "id": "rSzVuZTxans6"
   },
   "source": [
    "### Step 6: print out only items containing a certain string\n",
    "(See instructions below for parts 6a, 6b, 6c)"
   ]
  },
  {
   "cell_type": "markdown",
   "metadata": {
    "colab_type": "text",
    "id": "99xZkq4ia3Km"
   },
   "source": [
    "**6a:** Iterate over `dogList`. \n",
    "If the line contains \"terrier\" or \"Terrier\", print out the character number where the string \"Terrier\" or \"terrier\" starts. For example, \"Boston Terrier\" should result in: \n",
    "`7` However, if the line does not contain \"terrier\" or \"Terrier\", your code should print \"-1\" (hint: use `find()`)"
   ]
  },
  {
   "cell_type": "code",
   "execution_count": 6,
   "metadata": {
    "colab": {},
    "colab_type": "code",
    "id": "rKXrzQsYanap"
   },
   "outputs": [
    {
     "name": "stdout",
     "output_type": "stream",
     "text": [
      "-1\n",
      "-1\n",
      "-1\n",
      "-1\n",
      "-1\n",
      "7\n",
      "-1\n",
      "-1\n",
      "-1\n",
      "-1\n",
      "-1\n",
      "-1\n",
      "-1\n",
      "-1\n",
      "8\n",
      "9\n",
      "-1\n",
      "5\n",
      "11\n",
      "0\n",
      "-1\n"
     ]
    }
   ],
   "source": [
    "dogList = [\"Akita\",\"Alaskan Malamute\",\"Australian shepherd\",\"Basset hound\",\"Beagle\",\"Boston terrier\",\"Bulldog\",\"Chihuahua\",\"Cocker Spaniel\",\"Collie\",\"French Bulldog\",\"Golden Retriever\",\"Great Dane\",\"Poodle\",\"Russell Terrier\",\"Scottish Terrier\",\"Siberian Husky\",\"Skye terrier\",\"Smooth Fox terrier\",\"Terrier\",\"Whippet\"]\n",
    "\n",
    "# Add your code below\n",
    "for dogs in dogList:\n",
    "    # If the word \"Terrier\" (uppercase) is in this item, print the character number of where it starts\n",
    "    if (dogs.find(\"Terrier\") != -1):\n",
    "        print (dogs.find(\"Terrier\"))\n",
    "     # If the word \"terrier\" (lowercase) is in this item, print the character number of where it starts\n",
    "    elif (dogs.find(\"terrier\") != -1):\n",
    "        print(dogs.find(\"terrier\"))\n",
    "    # If neither \"Terrier\" nor \"terrier\" are in the item, just print -1\n",
    "    else:\n",
    "        print(-1)\n",
    "                                               \n"
   ]
  },
  {
   "cell_type": "markdown",
   "metadata": {
    "colab_type": "text",
    "id": "QNGR-xMJb1TE"
   },
   "source": [
    "**6b:** We are working with a new list called `binList = [0,1,1,0,1,1,0]`\n",
    "\n",
    "Iterate over binList. If the current item equals 1 print \"One\". Otherwise, don't print anything."
   ]
  },
  {
   "cell_type": "code",
   "execution_count": 7,
   "metadata": {
    "colab": {},
    "colab_type": "code",
    "id": "1cSJ82JxcG_m"
   },
   "outputs": [
    {
     "name": "stdout",
     "output_type": "stream",
     "text": [
      "One\n",
      "One\n",
      "One\n",
      "One\n"
     ]
    }
   ],
   "source": [
    "binList = [0,1,1,0,1,1,0]\n",
    "\n",
    "# Add your code below\n",
    "for num in binList:\n",
    "    # If the item in the list is \"1\" then print \"One\"\n",
    "    if num==1:\n",
    "        print(\"One\")\n"
   ]
  },
  {
   "cell_type": "markdown",
   "metadata": {
    "colab_type": "text",
    "id": "Np-3vNT-cNCZ"
   },
   "source": [
    "**6c** Now, iterate over `dogList`. Print out only the items that contain the string `Bulldog`. The case does not matter, you should match bulldog or Bulldog. Remember, so long as you run the code above, your Python notebook runtime will know about the variable `doglist` from Step 1\n",
    "(hint: You will need to use `if`. Also, `find()` may help.)"
   ]
  },
  {
   "cell_type": "code",
   "execution_count": 8,
   "metadata": {
    "colab": {},
    "colab_type": "code",
    "id": "oreAuyaUcNLU"
   },
   "outputs": [
    {
     "name": "stdout",
     "output_type": "stream",
     "text": [
      "Bulldog\n",
      "French Bulldog\n"
     ]
    }
   ],
   "source": [
    "for dogs in dogList:\n",
    "    # If the item in dogList has \"Bulldog\" then print the name of the dog. Otherwise, don't print anything.\n",
    "    if (dogs.find(\"Bulldog\") != -1):\n",
    "        print(dogs)"
   ]
  },
  {
   "cell_type": "markdown",
   "metadata": {
    "colab_type": "text",
    "id": "aNfzsFqtP0N1"
   },
   "source": [
    "### **Part 2**\n",
    "You have learned to think about data processing and how to perform basic string and list operations. In Part 2, you'll count the number of lines, characters, and words in data files files, excluding newline characters.\n",
    "\n",
    "We will keep things simple and define a word as something that is delimited by any whitespace, so that the number of words on a line that is read from a file is simply the number of strings returned by `split()`.\n",
    "\n",
    "To help you get started on this first programming assignment, here is a list of Python functions and methods that we've discussed (or will discuss) in class, or covered in supplement 2, that you will probably find useful:\n",
    "\n",
    "*   `open()`\n",
    "*   `split()`\n",
    "*   `len()`\n",
    "*   `print()`\n",
    "*   `rstrip()`"
   ]
  },
  {
   "cell_type": "markdown",
   "metadata": {
    "colab_type": "text",
    "id": "9aQUspD8eB5i"
   },
   "source": [
    "First, try to make your program work first on `test.txt` which you used in Part 1. It has 22 characters, 3 lines, and 5 words. (Note: newline characters are included in this character count!) "
   ]
  },
  {
   "cell_type": "code",
   "execution_count": 9,
   "metadata": {
    "colab": {},
    "colab_type": "code",
    "id": "CoVeiIwyPvDO"
   },
   "outputs": [
    {
     "name": "stdout",
     "output_type": "stream",
     "text": [
      "22 characters\n",
      "3 lines\n",
      "5 words\n"
     ]
    }
   ],
   "source": [
    "numChars = 0\n",
    "numLines = 0\n",
    "numWords = 0\n",
    "\n",
    "# create a file handle called fname to open and hold the contents of the data file\n",
    "# make sure to upload your test.txt file first\n",
    "fname = open('/kaggle/input/testtext/test.txt', 'r')\n",
    "\n",
    "# Add your code below to read each line in the file, count the number of characters, lines, and words\n",
    "# updating the numChars, numLines, and numWords variables.\n",
    "for f in fname:\n",
    "    \n",
    "    # Cumulative addition of the length of each word\n",
    "    numChars=len(f)+numChars\n",
    "    # Cumulative addition of the first letter in each line\n",
    "    numLines=len(f[0])+numLines\n",
    "    # Cumulative addition of items in each line's list\n",
    "    numWords=(len(f.split()))+numWords\n",
    "    \n",
    "# output code below is provided for you; you should not edit this\n",
    "\n",
    "print('%d characters'%numChars)\n",
    "print('%d lines'%numLines)\n",
    "print('%d words'%numWords)\n",
    "\n",
    "# It's good practice to close your file when you are finished. This is in the next line.\n",
    "fname.close()"
   ]
  },
  {
   "cell_type": "markdown",
   "metadata": {
    "colab_type": "text",
    "id": "7efgr1fUiits"
   },
   "source": [
    "Now, upload a new data file to Kaggle to work with: `sherlock.txt`. You can get this file on Canvas. Add the code you would need to do the same analysis on `sherlock.txt`. This time, I'm not starting you out with anything. Make sure to open and close the file properly!"
   ]
  },
  {
   "cell_type": "code",
   "execution_count": 10,
   "metadata": {
    "colab": {},
    "colab_type": "code",
    "id": "g1XbinSCkjfv"
   },
   "outputs": [
    {
     "name": "stdout",
     "output_type": "stream",
     "text": [
      "581864 characters\n",
      "13052 lines\n",
      "107533 words\n"
     ]
    }
   ],
   "source": [
    "# Add your code below\n",
    "numChars = 0\n",
    "numLines = 0\n",
    "numWords = 0\n",
    "\n",
    "# create a file handle called fname to open and hold the contents of the data file\n",
    "# make sure to upload your test.txt file first\n",
    "fname = open('/kaggle/input/reading/sherlock.txt', 'r')\n",
    "\n",
    "# Add your code below to read each line in the file, count the number of characters, lines, and words\n",
    "# updating the numChars, numLines, and numWords variables.\n",
    "for f in fname:\n",
    "    \n",
    "    # Cumulative addition of the length of each word\n",
    "    numChars=len(f)+numChars\n",
    "    # Cumulative addition of the first letter in each line\n",
    "    numLines=len(f[0])+numLines\n",
    "    # Cumulative addition of items in each line's list\n",
    "    numWords=(len(f.split()))+numWords\n",
    "    \n",
    "# output code below is provided for you; you should not edit this\n",
    "\n",
    "print('%d characters'%numChars)\n",
    "print('%d lines'%numLines)\n",
    "print('%d words'%numWords)\n",
    "\n",
    "# It's good practice to close your file when you are finished. This is in the next line.\n",
    "fname.close()"
   ]
  }
 ],
 "metadata": {
  "colab": {
   "collapsed_sections": [],
   "name": "A2.ipynb",
   "provenance": [
    {
     "file_id": "1HlkW6ry8Km2rsjbG35dFLdtW12VXFVd7",
     "timestamp": 1577951354687
    }
   ]
  },
  "kernelspec": {
   "display_name": "Python 3",
   "name": "python3"
  },
  "language_info": {
   "codemirror_mode": {
    "name": "ipython",
    "version": 3
   },
   "file_extension": ".py",
   "mimetype": "text/x-python",
   "name": "python",
   "nbconvert_exporter": "python",
   "pygments_lexer": "ipython3",
   "version": "3.6.6"
  }
 },
 "nbformat": 4,
 "nbformat_minor": 1
}
