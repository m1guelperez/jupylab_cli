{
 "cells": [
  {
   "cell_type": "code",
   "execution_count": 1,
   "metadata": {
    "_cell_guid": "b1076dfc-b9ad-4769-8c92-a6c4dae69d19",
    "_uuid": "8f2839f25d086af736a60e9eeb907d3b93b6e0e5",
    "execution": {
     "iopub.execute_input": "2020-10-17T19:08:18.321435Z",
     "iopub.status.busy": "2020-10-17T19:08:18.320994Z",
     "iopub.status.idle": "2020-10-17T19:08:18.326610Z",
     "shell.execute_reply": "2020-10-17T19:08:18.326980Z"
    },
    "papermill": {
     "duration": 0.016732,
     "end_time": "2020-10-17T19:08:18.327095",
     "exception": false,
     "start_time": "2020-10-17T19:08:18.310363",
     "status": "completed"
    },
    "tags": []
   },
   "outputs": [
    {
     "name": "stdout",
     "output_type": "stream",
     "text": [
      "/kaggle/input/attendancemarks/AttendanceMarksSA.csv\n"
     ]
    }
   ],
   "source": [
    "# This Python 3 environment comes with many helpful analytics libraries installed\n",
    "# It is defined by the kaggle/python Docker image: https://github.com/kaggle/docker-python\n",
    "# For example, here's several helpful packages to load\n",
    "\n",
    "import numpy as np # linear algebra\n",
    "import pandas as pd # data processing, CSV file I/O (e.g. pd.read_csv)\n",
    "\n",
    "# Input data files are available in the read-only \"../input/\" directory\n",
    "# For example, running this (by clicking run or pressing Shift+Enter) will list all files under the input directory\n",
    "\n",
    "import os\n",
    "for dirname, _, filenames in os.walk('/kaggle/input'):\n",
    "    for filename in filenames:\n",
    "        print(os.path.join(dirname, filename))\n",
    "\n",
    "# You can write up to 5GB to the current directory (/kaggle/working/) that gets preserved as output when you create a version using \"Save & Run All\" \n",
    "# You can also write temporary files to /kaggle/temp/, but they won't be saved outside of the current session"
   ]
  },
  {
   "cell_type": "code",
   "execution_count": 2,
   "metadata": {
    "_cell_guid": "79c7e3d0-c299-4dcb-8224-4455121ee9b0",
    "_uuid": "d629ff2d2480ee46fbb7e2d37f6b5fab8052498a",
    "execution": {
     "iopub.execute_input": "2020-10-17T19:08:18.342627Z",
     "iopub.status.busy": "2020-10-17T19:08:18.342138Z",
     "iopub.status.idle": "2020-10-17T19:08:19.025458Z",
     "shell.execute_reply": "2020-10-17T19:08:19.024875Z"
    },
    "papermill": {
     "duration": 0.691901,
     "end_time": "2020-10-17T19:08:19.025571",
     "exception": false,
     "start_time": "2020-10-17T19:08:18.333670",
     "status": "completed"
    },
    "tags": []
   },
   "outputs": [],
   "source": [
    "import matplotlib.pyplot as plt\n",
    "import seaborn as sns"
   ]
  },
  {
   "cell_type": "code",
   "execution_count": 3,
   "metadata": {
    "execution": {
     "iopub.execute_input": "2020-10-17T19:08:19.047780Z",
     "iopub.status.busy": "2020-10-17T19:08:19.047336Z",
     "iopub.status.idle": "2020-10-17T19:08:19.066873Z",
     "shell.execute_reply": "2020-10-17T19:08:19.066383Z"
    },
    "papermill": {
     "duration": 0.0324,
     "end_time": "2020-10-17T19:08:19.066956",
     "exception": false,
     "start_time": "2020-10-17T19:08:19.034556",
     "status": "completed"
    },
    "tags": []
   },
   "outputs": [
    {
     "data": {
      "text/html": [
       "<div>\n",
       "<style scoped>\n",
       "    .dataframe tbody tr th:only-of-type {\n",
       "        vertical-align: middle;\n",
       "    }\n",
       "\n",
       "    .dataframe tbody tr th {\n",
       "        vertical-align: top;\n",
       "    }\n",
       "\n",
       "    .dataframe thead th {\n",
       "        text-align: right;\n",
       "    }\n",
       "</style>\n",
       "<table border=\"1\" class=\"dataframe\">\n",
       "  <thead>\n",
       "    <tr style=\"text-align: right;\">\n",
       "      <th></th>\n",
       "      <th>Attendance</th>\n",
       "      <th>MSE</th>\n",
       "      <th>ESE</th>\n",
       "    </tr>\n",
       "  </thead>\n",
       "  <tbody>\n",
       "    <tr>\n",
       "      <th>0</th>\n",
       "      <td>70</td>\n",
       "      <td>10</td>\n",
       "      <td>42</td>\n",
       "    </tr>\n",
       "    <tr>\n",
       "      <th>1</th>\n",
       "      <td>92</td>\n",
       "      <td>7</td>\n",
       "      <td>39</td>\n",
       "    </tr>\n",
       "    <tr>\n",
       "      <th>2</th>\n",
       "      <td>67</td>\n",
       "      <td>3</td>\n",
       "      <td>32</td>\n",
       "    </tr>\n",
       "    <tr>\n",
       "      <th>3</th>\n",
       "      <td>82</td>\n",
       "      <td>16</td>\n",
       "      <td>50</td>\n",
       "    </tr>\n",
       "    <tr>\n",
       "      <th>4</th>\n",
       "      <td>80</td>\n",
       "      <td>9</td>\n",
       "      <td>44</td>\n",
       "    </tr>\n",
       "  </tbody>\n",
       "</table>\n",
       "</div>"
      ],
      "text/plain": [
       "   Attendance  MSE  ESE\n",
       "0          70   10   42\n",
       "1          92    7   39\n",
       "2          67    3   32\n",
       "3          82   16   50\n",
       "4          80    9   44"
      ]
     },
     "execution_count": 3,
     "metadata": {},
     "output_type": "execute_result"
    }
   ],
   "source": [
    "df = pd.read_csv('../input/attendancemarks/AttendanceMarksSA.csv')\n",
    "df.head()"
   ]
  },
  {
   "cell_type": "code",
   "execution_count": 4,
   "metadata": {
    "execution": {
     "iopub.execute_input": "2020-10-17T19:08:19.087660Z",
     "iopub.status.busy": "2020-10-17T19:08:19.087230Z",
     "iopub.status.idle": "2020-10-17T19:08:19.253042Z",
     "shell.execute_reply": "2020-10-17T19:08:19.253498Z"
    },
    "papermill": {
     "duration": 0.179666,
     "end_time": "2020-10-17T19:08:19.253621",
     "exception": false,
     "start_time": "2020-10-17T19:08:19.073955",
     "status": "completed"
    },
    "tags": []
   },
   "outputs": [
    {
     "data": {
      "text/plain": [
       "<matplotlib.axes._subplots.AxesSubplot at 0x7f05b44b02d0>"
      ]
     },
     "execution_count": 4,
     "metadata": {},
     "output_type": "execute_result"
    },
    {
     "data": {
      "image/png": "[encoded data removed]",
      "text/plain": [
       "<Figure size 432x288 with 1 Axes>"
      ]
     },
     "metadata": {
      "needs_background": "light"
     },
     "output_type": "display_data"
    }
   ],
   "source": [
    "x = df['MSE']\n",
    "y = df['ESE']\n",
    "sns.scatterplot(x,y)"
   ]
  },
  {
   "cell_type": "code",
   "execution_count": 5,
   "metadata": {
    "execution": {
     "iopub.execute_input": "2020-10-17T19:08:19.280594Z",
     "iopub.status.busy": "2020-10-17T19:08:19.280135Z",
     "iopub.status.idle": "2020-10-17T19:08:19.282344Z",
     "shell.execute_reply": "2020-10-17T19:08:19.282675Z"
    },
    "papermill": {
     "duration": 0.018452,
     "end_time": "2020-10-17T19:08:19.282765",
     "exception": false,
     "start_time": "2020-10-17T19:08:19.264313",
     "status": "completed"
    },
    "tags": []
   },
   "outputs": [],
   "source": [
    "b0 = 0\n",
    "b1 = 0\n",
    "alpha = 0.01\n",
    "count = 10000\n",
    "n = float(len(x))"
   ]
  },
  {
   "cell_type": "code",
   "execution_count": 6,
   "metadata": {
    "execution": {
     "iopub.execute_input": "2020-10-17T19:08:21.279771Z",
     "iopub.status.busy": "2020-10-17T19:08:21.266777Z",
     "iopub.status.idle": "2020-10-17T19:08:26.765886Z",
     "shell.execute_reply": "2020-10-17T19:08:26.766388Z"
    },
    "papermill": {
     "duration": 7.47638,
     "end_time": "2020-10-17T19:08:26.766510",
     "exception": false,
     "start_time": "2020-10-17T19:08:19.290130",
     "status": "completed"
    },
    "tags": []
   },
   "outputs": [
    {
     "name": "stdout",
     "output_type": "stream",
     "text": [
      "30.66113097444092 1.6326392534114609\n"
     ]
    }
   ],
   "source": [
    "for i in range(count):\n",
    "    y_bar = b1*x + b0\n",
    "    b1 = b1 - (alpha/n)*sum(x*(y_bar-y))\n",
    "    b0 = b0 - (alpha/n)*sum(y_bar-y)\n",
    "        \n",
    "print(b0,b1)"
   ]
  },
  {
   "cell_type": "code",
   "execution_count": 7,
   "metadata": {
    "execution": {
     "iopub.execute_input": "2020-10-17T19:08:26.795744Z",
     "iopub.status.busy": "2020-10-17T19:08:26.795133Z",
     "iopub.status.idle": "2020-10-17T19:08:26.918494Z",
     "shell.execute_reply": "2020-10-17T19:08:26.918102Z"
    },
    "papermill": {
     "duration": 0.140326,
     "end_time": "2020-10-17T19:08:26.918579",
     "exception": false,
     "start_time": "2020-10-17T19:08:26.778253",
     "status": "completed"
    },
    "tags": []
   },
   "outputs": [
    {
     "data": {
      "image/png": "[encoded data removed]",
      "text/plain": [
       "<Figure size 432x288 with 1 Axes>"
      ]
     },
     "metadata": {
      "needs_background": "light"
     },
     "output_type": "display_data"
    }
   ],
   "source": [
    "y_bar = b1*x + b0\n",
    "\n",
    "plt.scatter(x,y)\n",
    "plt.plot([min(x),max(x)],[min(y_bar),max(y_bar)],color='red') #regression line\n",
    "plt.show()"
   ]
  },
  {
   "cell_type": "code",
   "execution_count": 8,
   "metadata": {
    "execution": {
     "iopub.execute_input": "2020-10-17T19:08:26.941143Z",
     "iopub.status.busy": "2020-10-17T19:08:26.940508Z",
     "iopub.status.idle": "2020-10-17T19:08:26.944991Z",
     "shell.execute_reply": "2020-10-17T19:08:26.945524Z"
    },
    "papermill": {
     "duration": 0.01857,
     "end_time": "2020-10-17T19:08:26.945638",
     "exception": false,
     "start_time": "2020-10-17T19:08:26.927068",
     "status": "completed"
    },
    "tags": []
   },
   "outputs": [
    {
     "name": "stdout",
     "output_type": "stream",
     "text": [
      "4.3962248281750655\n"
     ]
    }
   ],
   "source": [
    "import math\n",
    "def RSE(y_true,y_predict):\n",
    "    y_true = np.array(y_true)\n",
    "    y_predict = np.array(y_predict)\n",
    "    RSS = np.sum(np.square(y_true-y_predict))\n",
    "    \n",
    "    rse = math.sqrt(RSS/(len(y_true)-2))\n",
    "    return rse\n",
    "\n",
    "rse = RSE(df['ESE'],y_bar)\n",
    "print(rse)"
   ]
  },
  {
   "cell_type": "code",
   "execution_count": 9,
   "metadata": {
    "execution": {
     "iopub.execute_input": "2020-10-17T19:08:26.966689Z",
     "iopub.status.busy": "2020-10-17T19:08:26.966207Z",
     "iopub.status.idle": "2020-10-17T19:08:27.105227Z",
     "shell.execute_reply": "2020-10-17T19:08:27.104745Z"
    },
    "papermill": {
     "duration": 0.150696,
     "end_time": "2020-10-17T19:08:27.105314",
     "exception": false,
     "start_time": "2020-10-17T19:08:26.954618",
     "status": "completed"
    },
    "tags": []
   },
   "outputs": [],
   "source": [
    "from sklearn.model_selection import train_test_split\n",
    "from sklearn.linear_model import LinearRegression"
   ]
  },
  {
   "cell_type": "code",
   "execution_count": 10,
   "metadata": {
    "execution": {
     "iopub.execute_input": "2020-10-17T19:08:27.151304Z",
     "iopub.status.busy": "2020-10-17T19:08:27.150803Z",
     "iopub.status.idle": "2020-10-17T19:08:27.154068Z",
     "shell.execute_reply": "2020-10-17T19:08:27.154457Z"
    },
    "papermill": {
     "duration": 0.040005,
     "end_time": "2020-10-17T19:08:27.154579",
     "exception": false,
     "start_time": "2020-10-17T19:08:27.114574",
     "status": "completed"
    },
    "tags": []
   },
   "outputs": [
    {
     "name": "stdout",
     "output_type": "stream",
     "text": [
      "[[1.63215164]]\n",
      "[30.66635246]\n",
      "4.396224549647786\n"
     ]
    }
   ],
   "source": [
    "X = np.array(df['MSE']).reshape(-1,1)\n",
    "Y = np.array(df['ESE']).reshape(-1,1)\n",
    "\n",
    "lr = LinearRegression()\n",
    "lr.fit(X,Y)\n",
    "\n",
    "print(lr.coef_)\n",
    "print(lr.intercept_)\n",
    "\n",
    "yp = lr.predict(X)\n",
    "rse = RSE(Y,yp)\n",
    "\n",
    "print(rse)"
   ]
  },
  {
   "cell_type": "code",
   "execution_count": null,
   "metadata": {
    "papermill": {
     "duration": 0.009831,
     "end_time": "2020-10-17T19:08:27.175782",
     "exception": false,
     "start_time": "2020-10-17T19:08:27.165951",
     "status": "completed"
    },
    "tags": []
   },
   "outputs": [],
   "source": []
  }
 ],
 "metadata": {
  "kernelspec": {
   "display_name": "Python 3",
   "language": "python",
   "name": "python3"
  },
  "language_info": {
   "codemirror_mode": {
    "name": "ipython",
    "version": 3
   },
   "file_extension": ".py",
   "mimetype": "text/x-python",
   "name": "python",
   "nbconvert_exporter": "python",
   "pygments_lexer": "ipython3",
   "version": "3.7.6"
  },
  "papermill": {
   "duration": 11.982155,
   "end_time": "2020-10-17T19:08:27.290474",
   "environment_variables": {},
   "exception": null,
   "input_path": "__notebook__.ipynb",
   "output_path": "__notebook__.ipynb",
   "parameters": {},
   "start_time": "2020-10-17T19:08:15.308319",
   "version": "2.1.0"
  }
 },
 "nbformat": 4,
 "nbformat_minor": 4
}
