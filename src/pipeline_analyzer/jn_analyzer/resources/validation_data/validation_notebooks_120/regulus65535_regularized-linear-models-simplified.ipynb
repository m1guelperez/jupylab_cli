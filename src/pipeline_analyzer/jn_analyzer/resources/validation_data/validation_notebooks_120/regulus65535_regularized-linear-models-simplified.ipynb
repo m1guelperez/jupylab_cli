{
 "cells": [
  {
   "cell_type": "markdown",
   "metadata": {
    "_cell_guid": "e6335977-1dcb-a5bc-4856-184dd7bce3f9"
   },
   "source": [
    "## Trying out a linear model: \n",
    "\n",
    "Author: Alexandru Papiu    \n",
    "If you use parts of this notebook in your own scripts, please give some sort of credit (for example link back to this). Thanks!\n",
    "\n",
    "The most simple way to simplify"
   ]
  },
  {
   "cell_type": "code",
   "execution_count": 1,
   "metadata": {
    "_cell_guid": "0d706811-b70c-aeab-a78b-3c7abd9978d3"
   },
   "outputs": [
    {
     "name": "stdout",
     "output_type": "stream",
     "text": [
      "Lasso picked 110 variables and eliminated the other 178 variables\n"
     ]
    }
   ],
   "source": [
    "import pandas as pd\n",
    "import numpy as np\n",
    "from scipy.stats import skew\n",
    "\n",
    "train = pd.read_csv(\"../input/train.csv\")\n",
    "test = pd.read_csv(\"../input/test.csv\")\n",
    "\n",
    "all_data = pd.concat((train.loc[:,'MSSubClass':'SaleCondition'],\n",
    "                      test.loc[:,'MSSubClass':'SaleCondition']))\n",
    "\n",
    "train[\"SalePrice\"] = np.log1p(train[\"SalePrice\"])\n",
    "numeric_feats = all_data.dtypes[all_data.dtypes != \"object\"].index\n",
    "\n",
    "skewed_feats = train[numeric_feats].apply(lambda x: skew(x.dropna()))\n",
    "skewed_feats = skewed_feats[skewed_feats > 0.75]\n",
    "skewed_feats = skewed_feats.index\n",
    "\n",
    "all_data[skewed_feats] = np.log1p(all_data[skewed_feats])\n",
    "all_data = pd.get_dummies(all_data)\n",
    "all_data = all_data.fillna(all_data.mean())\n",
    "\n",
    "X_train = all_data[:train.shape[0]]\n",
    "X_test = all_data[train.shape[0]:]\n",
    "y = train.SalePrice\n",
    "\n",
    "from sklearn.linear_model import LassoCV\n",
    "from sklearn.model_selection import cross_val_score\n",
    "\n",
    "def rmse_cv(model):\n",
    "    rmse= np.sqrt(-cross_val_score(model, X_train, y, scoring=\"neg_mean_squared_error\", cv = 5))\n",
    "    return(rmse)\n",
    "\n",
    "model_lasso = LassoCV(alphas = [1, 0.1, 0.001, 0.0005]).fit(X_train, y)\n",
    "rmse_cv(model_lasso).mean()\n",
    "\n",
    "coef = pd.Series(model_lasso.coef_, index = X_train.columns)\n",
    "print(\"Lasso picked \" + str(sum(coef != 0)) + \" variables and eliminated the other \" +  str(sum(coef == 0)) + \" variables\")\n",
    "\n",
    "lasso_preds = np.expm1(model_lasso.predict(X_test))\n",
    "\n",
    "solution = pd.DataFrame({\"id\":test.Id, \"SalePrice\":lasso_preds})\n",
    "solution.to_csv(\"ridge_sol.csv\", index = False)"
   ]
  }
 ],
 "metadata": {
  "_change_revision": 14,
  "_is_fork": false,
  "kernelspec": {
   "display_name": "Python 3",
   "language": "python",
   "name": "python3"
  },
  "language_info": {
   "codemirror_mode": {
    "name": "ipython",
    "version": 3
   },
   "file_extension": ".py",
   "mimetype": "text/x-python",
   "name": "python",
   "nbconvert_exporter": "python",
   "pygments_lexer": "ipython3",
   "version": "3.6.0"
  }
 },
 "nbformat": 4,
 "nbformat_minor": 0
}
