{
 "cells": [
  {
   "cell_type": "code",
   "execution_count": 1,
   "metadata": {
    "_cell_guid": "",
    "_uuid": ""
   },
   "outputs": [],
   "source": [
    "from sklearn.metrics import log_loss\n",
    "def calc_logloss(targets, outputs, eps=1e-6):\n",
    "    logloss_classes = [log_loss(np.floor(targets[:,i]), np.clip(outputs[:,i], eps, 1-eps)) for i in range(6)]\n",
    "    return np.average(logloss_classes, weights=[2,1,1,1,1,1])\n",
    "\n",
    "import pandas as pd\n",
    "import pickle\n",
    "import os\n",
    "import numpy as np\n",
    "import warnings\n",
    "warnings.filterwarnings(\"ignore\")\n",
    "dup = pd.read_csv(\"../input/stage1-test-gt/dup_s1_test.csv\")\n",
    "test = pd.read_csv(\"../input/stage1-test-gt/s1_test_results.csv\")\n",
    "test = test.merge(dup, on = 'SOPInstanceUID', how = 'left')"
   ]
  },
  {
   "cell_type": "code",
   "execution_count": 2,
   "metadata": {
    "_cell_guid": "",
    "_uuid": ""
   },
   "outputs": [],
   "source": [
    "def get_split_result(filename, test, eps, rm_dup=False):\n",
    "    f1 = pd.read_csv(filename)\n",
    "\n",
    "    f1['type'] = f1['ID'].apply(lambda x: x.split('_')[2])\n",
    "    f1['name'] = f1['ID'].apply(lambda x: x.split('_')[1])\n",
    "\n",
    "    name = f1[['name']]\n",
    "\n",
    "    f1_epidural = f1[['name','Label']][f1['type'] == 'epidural']\n",
    "    f1_epidural.columns = ['name','epidural']\n",
    "    f1_intraparenchymal = f1[['name','Label']][f1['type'] == 'intraparenchymal']\n",
    "    f1_intraparenchymal.columns = ['name','intraparenchymal']\n",
    "    f1_intraventricular = f1[['name','Label']][f1['type'] == 'intraventricular']\n",
    "    f1_intraventricular.columns = ['name','intraventricular']\n",
    "    f1_subarachnoid = f1[['name','Label']][f1['type'] == 'subarachnoid']\n",
    "    f1_subarachnoid.columns = ['name','subarachnoid']\n",
    "    f1_subdural = f1[['name','Label']][f1['type'] == 'subdural']\n",
    "    f1_subdural.columns = ['name','subdural']\n",
    "    f1_any = f1[['name','Label']][f1['type'] == 'any']\n",
    "    f1_any.columns = ['name','any']\n",
    "\n",
    "    name = name.merge(f1_any, on = 'name', how = 'left')\n",
    "    name = name.merge(f1_epidural, on = 'name', how = 'left')\n",
    "    name = name.merge(f1_intraparenchymal, on = 'name', how = 'left')\n",
    "    name = name.merge(f1_intraventricular, on = 'name', how = 'left')\n",
    "    name = name.merge(f1_subarachnoid, on = 'name', how = 'left')\n",
    "    name = name.merge(f1_subdural, on = 'name', how = 'left')\n",
    "    name = name.drop_duplicates()\n",
    "    name.rename(columns = {'name': 'SOPInstanceUID'}, inplace=True)\n",
    "    name['SOPInstanceUID'] = 'ID_' + name['SOPInstanceUID']\n",
    "    \n",
    "    name = name.merge(test, on = 'SOPInstanceUID', how = 'left')\n",
    "    \n",
    "    if rm_dup:\n",
    "        name_use = name[name['dup'].isnull() == True] #remove duplicate patientID\n",
    "    else:\n",
    "        name_use = name.copy()  #all test\n",
    "    gt = name_use[['any_y',\n",
    "           'epidural_y', 'subdural_y', 'subarachnoid_y', 'intraventricular_y',\n",
    "           'intraparenchymal_y']].values\n",
    "    pred = name_use[['any',\n",
    "               'epidural', 'subdural', 'subarachnoid', 'intraventricular',\n",
    "               'intraparenchymal']].values\n",
    "    return calc_logloss(gt, pred, eps=eps)"
   ]
  },
  {
   "cell_type": "code",
   "execution_count": 3,
   "metadata": {},
   "outputs": [
    {
     "data": {
      "text/plain": [
       "0.07614750625478539"
      ]
     },
     "execution_count": 3,
     "metadata": {},
     "output_type": "execute_result"
    }
   ],
   "source": [
    "#come from https://www.kaggle.com/krishnakatyal/keras-efficientnet-b3\n",
    "get_split_result(\"../input/kernel-0076/submission.csv\", test, 1e-6)"
   ]
  },
  {
   "cell_type": "code",
   "execution_count": 4,
   "metadata": {},
   "outputs": [
    {
     "data": {
      "text/plain": [
       "0.0676314289562147"
      ]
     },
     "execution_count": 4,
     "metadata": {},
     "output_type": "execute_result"
    }
   ],
   "source": [
    "get_split_result(\"../input/kernel-0076/submission.csv\", test, 1e-6, rm_dup=True)"
   ]
  }
 ],
 "metadata": {
  "kernelspec": {
   "display_name": "Python 3",
   "language": "python",
   "name": "python3"
  },
  "language_info": {
   "codemirror_mode": {
    "name": "ipython",
    "version": 3
   },
   "file_extension": ".py",
   "mimetype": "text/x-python",
   "name": "python",
   "nbconvert_exporter": "python",
   "pygments_lexer": "ipython3",
   "version": "3.6.6"
  }
 },
 "nbformat": 4,
 "nbformat_minor": 1
}
